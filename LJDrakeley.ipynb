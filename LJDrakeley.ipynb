{
 "cells": [
  {
   "cell_type": "code",
   "execution_count": 1,
   "id": "33711c42-bcde-434d-803f-842fcb407b27",
   "metadata": {},
   "outputs": [],
   "source": [
    "# If a single TARGETID only differs by SGA_ID, then it must mean that one galaxy lies behind another and both are in the field of view. \n",
    "# However, does that mean one has false data? given that a single Z is showing for both?"
   ]
  },
  {
   "cell_type": "code",
   "execution_count": 2,
   "id": "7fbeaf18-c5e7-4ca6-9283-89a8c62418bb",
   "metadata": {
    "tags": []
   },
   "outputs": [],
   "source": [
    "import pandas as pd\n",
    "import numpy as np\n",
    "import matplotlib as mpl\n",
    "import matplotlib.pyplot as plt\n",
    "import requests\n",
    "import warnings\n",
    "\n",
    "from astropy.io import fits\n",
    "from astropy.table import join, Table, QTable, unique, Column, vstack, hstack, join, setdiff\n",
    "from astropy.coordinates import SkyCoord, match_coordinates_sky\n",
    "from astropy import units as u\n",
    "from astropy import constants\n",
    "from astropy.wcs import WCS\n",
    "from astropy.visualization.wcsaxes import SphericalCircle\n",
    "from astropy.utils.data import get_pkg_data_filename\n",
    "from tqdm.notebook import tqdm_notebook\n",
    " \n",
    "from scipy.optimize import minimize"
   ]
  },
  {
   "cell_type": "code",
   "execution_count": 3,
   "id": "573432f7-cd27-4095-97e3-231553826508",
   "metadata": {},
   "outputs": [],
   "source": [
    "mpl.rc('font', size=12)\n",
    "mpl.rc('axes', titlesize='small')\n",
    "mpl.rc('figure', max_open_warning=0)"
   ]
  },
  {
   "cell_type": "code",
   "execution_count": 4,
   "id": "0a9481d2-5a6e-4528-a215-bb7b91adf2c5",
   "metadata": {},
   "outputs": [],
   "source": [
    "h = 1\n",
    "\n",
    "H0 = 100*h\n",
    "\n",
    "c = constants.c.to('km/s')\n",
    "    \n",
    "q0 = 0.2"
   ]
  },
  {
   "cell_type": "markdown",
   "id": "d6ddb41e-e682-4bba-9b77-0e8451971b96",
   "metadata": {},
   "source": [
    "Read in PV Targets"
   ]
  },
  {
   "cell_type": "code",
   "execution_count": 5,
   "id": "cbb4a430-2ae8-4a51-ad52-c6b981c434ac",
   "metadata": {},
   "outputs": [],
   "source": [
    "# Currently using the non-filtered FUJI data\n",
    "PV_filename = \"/global/cfs/projectdirs/desi/science/td/pv/desi_pv_tf_fuji_healpix.fits\"\n",
    "\n",
    "hdu = fits.open(PV_filename)\n",
    "PV_obs = QTable(hdu[1].data)\n",
    "hdu.close()"
   ]
  },
  {
   "cell_type": "markdown",
   "id": "25847a63-5fbf-458a-9b4b-e4b3ea9dc7f5",
   "metadata": {},
   "source": [
    "Clean data of duplicates"
   ]
  },
  {
   "cell_type": "code",
   "execution_count": 6,
   "id": "6e05831d-b3b0-4da3-a03b-7e965b8a5f38",
   "metadata": {},
   "outputs": [
    {
     "data": {
      "text/html": [
       "<div><i>QTable length=2</i>\n",
       "<table id=\"table23455202693616\" class=\"table-striped table-bordered table-condensed\">\n",
       "<thead><tr><th>TARGETID</th><th>TARGET_RA</th><th>TARGET_DEC</th><th>HEALPIX</th><th>SURVEY</th><th>Z</th><th>ZERR</th><th>ZWARN</th><th>DELTACHI2</th><th>FILENAME</th><th>PVTYPE</th><th>SGA_ID</th><th>RA</th><th>DEC</th></tr></thead>\n",
       "<thead><tr><th>int64</th><th>float64</th><th>float64</th><th>int64</th><th>str3</th><th>float64</th><th>float64</th><th>int64</th><th>float64</th><th>str63</th><th>str3</th><th>int64</th><th>float64</th><th>float64</th></tr></thead>\n",
       "<tr><td>1070084336386050</td><td>212.91403599788</td><td>-1.20264591149526</td><td>25918</td><td>sv3</td><td>1.30040281582228</td><td>0.000201069616666526</td><td>4</td><td>1.83105237782001</td><td>fuji/healpix/sv3/bright/259/25918/redrock-sv3-bright-25918.fits</td><td>EXT</td><td>975775</td><td>212.91403599788003</td><td>-1.2026459114952552</td></tr>\n",
       "<tr><td>1070084336386050</td><td>212.91403599788</td><td>-1.20264591149526</td><td>25918</td><td>sv3</td><td>1.30040281582228</td><td>0.000201069616666526</td><td>4</td><td>1.83105237782001</td><td>fuji/healpix/sv3/bright/259/25918/redrock-sv3-bright-25918.fits</td><td>TFT</td><td>975775</td><td>212.91403599788003</td><td>-1.2026459114952552</td></tr>\n",
       "</table></div>"
      ],
      "text/plain": [
       "<QTable length=2>\n",
       "    TARGETID        TARGET_RA    ...         RA                 DEC        \n",
       "     int64           float64     ...      float64             float64      \n",
       "---------------- --------------- ... ------------------ -------------------\n",
       "1070084336386050 212.91403599788 ... 212.91403599788003 -1.2026459114952552\n",
       "1070084336386050 212.91403599788 ... 212.91403599788003 -1.2026459114952552"
      ]
     },
     "execution_count": 6,
     "metadata": {},
     "output_type": "execute_result"
    }
   ],
   "source": [
    "# There are some TARGETIDs that have the exact same values everywhere but the PVTYPE e.g. \n",
    "\n",
    "PV_obs[PV_obs['TARGETID']==1070084336386050]\n",
    "\n",
    "# TFT = Tully Fisher Target ... EXT = Extended targets\n",
    "# Check to make sure that all TFT at 0.4R also exist as a EXT. "
   ]
  },
  {
   "cell_type": "code",
   "execution_count": 7,
   "id": "6624bd2a-0eb7-4001-853f-9b6660079b68",
   "metadata": {},
   "outputs": [
    {
     "data": {
      "text/html": [
       "<div><i>QTable length=13134</i>\n",
       "<table id=\"table23456164183008\" class=\"table-striped table-bordered table-condensed\">\n",
       "<thead><tr><th>TARGETID</th><th>TARGET_RA</th><th>TARGET_DEC</th><th>HEALPIX</th><th>SURVEY</th><th>Z</th><th>ZERR</th><th>ZWARN</th><th>DELTACHI2</th><th>FILENAME</th><th>PVTYPE</th><th>SGA_ID</th><th>RA</th><th>DEC</th></tr></thead>\n",
       "<thead><tr><th>int64</th><th>float64</th><th>float64</th><th>int64</th><th>str3</th><th>float64</th><th>float64</th><th>int64</th><th>float64</th><th>str63</th><th>str3</th><th>int64</th><th>float64</th><th>float64</th></tr></thead>\n",
       "<tr><td>1079550234591232</td><td>194.390863195343</td><td>27.5157211790145</td><td>10378</td><td>sv3</td><td>1.1235686466514</td><td>7.31685779475115e-05</td><td>4</td><td>3.28414569795132</td><td>fuji/healpix/sv3/bright/103/10378/redrock-sv3-bright-10378.fits</td><td>EXT</td><td>662902</td><td>194.39086319534337</td><td>27.51572117901454</td></tr>\n",
       "<tr><td>1092744374124544</td><td>194.390863195343</td><td>27.5157211790145</td><td>10378</td><td>sv3</td><td>0.686773088332363</td><td>6.9756676262104e-05</td><td>4</td><td>0.786607094109058</td><td>fuji/healpix/sv3/dark/103/10378/redrock-sv3-dark-10378.fits</td><td>EXT</td><td>662902</td><td>194.39086319534337</td><td>27.51572117901454</td></tr>\n",
       "<tr><td>1092744374124546</td><td>194.364461113654</td><td>27.5037185881314</td><td>10378</td><td>sv3</td><td>0.0242933923052181</td><td>4.95233472646785e-05</td><td>0</td><td>95.428411073226</td><td>fuji/healpix/sv3/dark/103/10378/redrock-sv3-dark-10378.fits</td><td>EXT</td><td>662902</td><td>194.36446111365385</td><td>27.50371858813136</td></tr>\n",
       "<tr><td>1092744369930240</td><td>194.338458724402</td><td>27.4918902690326</td><td>10378</td><td>sv3</td><td>0.0264170223697961</td><td>0.00010139452689994</td><td>0</td><td>9.53278421035066</td><td>fuji/healpix/sv3/dark/103/10378/redrock-sv3-dark-10378.fits</td><td>EXT</td><td>662902</td><td>194.33845872440244</td><td>27.491890269032595</td></tr>\n",
       "<tr><td>1092744374124545</td><td>194.377858465028</td><td>27.5098100780282</td><td>10378</td><td>sv3</td><td>0.211332646769145</td><td>6.68535116703737e-05</td><td>4</td><td>3.73989077657461</td><td>fuji/healpix/sv3/dark/103/10378/redrock-sv3-dark-10378.fits</td><td>EXT</td><td>662902</td><td>194.3778584650283</td><td>27.509810078028195</td></tr>\n",
       "<tr><td>1092744369930241</td><td>194.325065734878</td><td>27.4857950068364</td><td>10378</td><td>sv3</td><td>0.34112572843082</td><td>7.87536530522298e-05</td><td>4</td><td>5.80425057094544</td><td>fuji/healpix/sv3/dark/103/10378/redrock-sv3-dark-10378.fits</td><td>EXT</td><td>662902</td><td>194.3250657348779</td><td>27.48579500683636</td></tr>\n",
       "<tr><td>1079550230396930</td><td>194.312068074608</td><td>27.4798777913963</td><td>10378</td><td>sv3</td><td>1.43883246626074</td><td>0.000118079246392633</td><td>4</td><td>1.41281921416521</td><td>fuji/healpix/sv3/bright/103/10378/redrock-sv3-bright-10378.fits</td><td>EXT</td><td>662902</td><td>194.3120680746076</td><td>27.479877791396284</td></tr>\n",
       "<tr><td>1092744369930242</td><td>194.312068074608</td><td>27.4798777913963</td><td>10378</td><td>sv3</td><td>0.141836800089955</td><td>6.14844128636576e-05</td><td>4</td><td>8.01571118086576</td><td>fuji/healpix/sv3/dark/103/10378/redrock-sv3-dark-10378.fits</td><td>EXT</td><td>662902</td><td>194.3120680746076</td><td>27.479877791396284</td></tr>\n",
       "<tr><td>1080141245579266</td><td>268.972484124775</td><td>62.5902888954075</td><td>10207</td><td>sv3</td><td>1.25885927887654</td><td>0.000161730072763419</td><td>4</td><td>4.86104696989059</td><td>fuji/healpix/sv3/bright/102/10207/redrock-sv3-bright-10207.fits</td><td>EXT</td><td>674212</td><td>268.972484124775</td><td>62.59028889540747</td></tr>\n",
       "<tr><td>1092231427522560</td><td>208.352177440161</td><td>5.20876513433155</td><td>26432</td><td>sv3</td><td>0.00303767701971418</td><td>7.77079295855834e-05</td><td>0</td><td>60.6499349754095</td><td>fuji/healpix/sv3/dark/264/26432/redrock-sv3-dark-26432.fits</td><td>EXT</td><td>560867</td><td>208.35217744016057</td><td>5.2087651343315455</td></tr>\n",
       "<tr><td>...</td><td>...</td><td>...</td><td>...</td><td>...</td><td>...</td><td>...</td><td>...</td><td>...</td><td>...</td><td>...</td><td>...</td><td>...</td><td>...</td></tr>\n",
       "<tr><td>39627799832565848</td><td>180.490647675296</td><td>0.613352516597521</td><td>27648</td><td>sv3</td><td>0.0785722823296796</td><td>1.8284679629918e-05</td><td>0</td><td>5060.8974143751</td><td>fuji/healpix/sv3/bright/276/27648/redrock-sv3-bright-27648.fits</td><td>SGA</td><td>184073</td><td>180.49064767529634</td><td>0.6133525165975208</td></tr>\n",
       "<tr><td>39627776252188890</td><td>214.987010854477</td><td>-0.503343602041398</td><td>25960</td><td>sv3</td><td>0.13533271685813</td><td>1.73662210536451e-05</td><td>0</td><td>1587.39171415847</td><td>fuji/healpix/sv3/bright/259/25960/redrock-sv3-bright-25960.fits</td><td>SGA</td><td>1233778</td><td>214.98701085447712</td><td>-0.5033436020413983</td></tr>\n",
       "<tr><td>39627779326613824</td><td>38.1871219355261</td><td>-0.259331150046025</td><td>17764</td><td>sv1</td><td>0.110101718990823</td><td>1.00047608114901e-05</td><td>0</td><td>3376.37831874937</td><td>fuji/healpix/sv1/bright/177/17764/redrock-sv1-bright-17764.fits</td><td>SGA</td><td>632014</td><td>38.18712193552614</td><td>-0.25933115004602497</td></tr>\n",
       "<tr><td>39627884993714761</td><td>218.29412247975</td><td>3.94263082693601</td><td>26068</td><td>sv3</td><td>0.0300338385401113</td><td>2.1331829270915e-06</td><td>0</td><td>7072.27006235719</td><td>fuji/healpix/sv3/bright/260/26068/redrock-sv3-bright-26068.fits</td><td>SGA</td><td>720907</td><td>218.29412247974997</td><td>3.9426308269360146</td></tr>\n",
       "<tr><td>39627580537576084</td><td>32.2580849774572</td><td>-8.55957679820788</td><td>17495</td><td>sv1</td><td>0.0405680730684111</td><td>1.5641396906789e-06</td><td>0</td><td>69786.726639986</td><td>fuji/healpix/sv1/bright/174/17495/redrock-sv1-bright-17495.fits</td><td>SGA</td><td>105774</td><td>32.25808497745719</td><td>-8.559576798207877</td></tr>\n",
       "<tr><td>39627688637373133</td><td>30.7249101375182</td><td>-4.1221212721067</td><td>17708</td><td>sv1</td><td>0.0432927383774815</td><td>2.4566668470269e-06</td><td>0</td><td>75156.065702216</td><td>fuji/healpix/sv1/bright/177/17708/redrock-sv1-bright-17708.fits</td><td>SGA</td><td>1069273</td><td>30.724910137518155</td><td>-4.122121272106699</td></tr>\n",
       "<tr><td>39627688654150621</td><td>31.7557931194421</td><td>-4.04913648065817</td><td>17709</td><td>sv1</td><td>0.0575032681849223</td><td>6.32980437867601e-06</td><td>0</td><td>2743.45002766908</td><td>fuji/healpix/sv1/bright/177/17709/redrock-sv1-bright-17709.fits</td><td>SGA</td><td>159219</td><td>31.755793119442107</td><td>-4.049136480658174</td></tr>\n",
       "<tr><td>39627809513020549</td><td>37.4414493099132</td><td>0.985644323782287</td><td>17773</td><td>sv1</td><td>0.0817193751628826</td><td>1.32963229988165e-05</td><td>0</td><td>949.689689807594</td><td>fuji/healpix/sv1/bright/177/17773/redrock-sv1-bright-17773.fits</td><td>SGA</td><td>473583</td><td>37.441449309913196</td><td>0.9856443237822866</td></tr>\n",
       "<tr><td>39627604457693448</td><td>30.9475191299151</td><td>-7.45753462810178</td><td>17503</td><td>sv1</td><td>-0.00199569129234795</td><td>4.13114935733491e-48</td><td>1570</td><td>1.94266889222573e+84</td><td>fuji/healpix/sv1/bright/175/17503/redrock-sv1-bright-17503.fits</td><td>SGA</td><td>421204</td><td>30.947519129915058</td><td>-7.457534628101777</td></tr>\n",
       "<tr><td>39627803473224067</td><td>37.4563594834351</td><td>0.813088435173197</td><td>17773</td><td>sv1</td><td>0.0224072655842088</td><td>4.04784181022138e-06</td><td>0</td><td>2398.74739653245</td><td>fuji/healpix/sv1/bright/177/17773/redrock-sv1-bright-17773.fits</td><td>SGA</td><td>1262814</td><td>37.456359483435115</td><td>0.8130884351731967</td></tr>\n",
       "</table></div>"
      ],
      "text/plain": [
       "<QTable length=13134>\n",
       "     TARGETID        TARGET_RA     ...         RA                 DEC         \n",
       "      int64           float64      ...      float64             float64       \n",
       "----------------- ---------------- ... ------------------ --------------------\n",
       " 1079550234591232 194.390863195343 ... 194.39086319534337    27.51572117901454\n",
       " 1092744374124544 194.390863195343 ... 194.39086319534337    27.51572117901454\n",
       " 1092744374124546 194.364461113654 ... 194.36446111365385    27.50371858813136\n",
       " 1092744369930240 194.338458724402 ... 194.33845872440244   27.491890269032595\n",
       " 1092744374124545 194.377858465028 ...  194.3778584650283   27.509810078028195\n",
       " 1092744369930241 194.325065734878 ...  194.3250657348779    27.48579500683636\n",
       " 1079550230396930 194.312068074608 ...  194.3120680746076   27.479877791396284\n",
       " 1092744369930242 194.312068074608 ...  194.3120680746076   27.479877791396284\n",
       " 1080141245579266 268.972484124775 ...   268.972484124775    62.59028889540747\n",
       " 1092231427522560 208.352177440161 ... 208.35217744016057   5.2087651343315455\n",
       "              ...              ... ...                ...                  ...\n",
       "39627799832565848 180.490647675296 ... 180.49064767529634   0.6133525165975208\n",
       "39627776252188890 214.987010854477 ... 214.98701085447712  -0.5033436020413983\n",
       "39627779326613824 38.1871219355261 ...  38.18712193552614 -0.25933115004602497\n",
       "39627884993714761  218.29412247975 ... 218.29412247974997   3.9426308269360146\n",
       "39627580537576084 32.2580849774572 ...  32.25808497745719   -8.559576798207877\n",
       "39627688637373133 30.7249101375182 ... 30.724910137518155   -4.122121272106699\n",
       "39627688654150621 31.7557931194421 ... 31.755793119442107   -4.049136480658174\n",
       "39627809513020549 37.4414493099132 ... 37.441449309913196   0.9856443237822866\n",
       "39627604457693448 30.9475191299151 ... 30.947519129915058   -7.457534628101777\n",
       "39627803473224067 37.4563594834351 ... 37.456359483435115   0.8130884351731967"
      ]
     },
     "execution_count": 7,
     "metadata": {},
     "output_type": "execute_result"
    }
   ],
   "source": [
    "PV_obs"
   ]
  },
  {
   "cell_type": "code",
   "execution_count": 8,
   "id": "3ddb4439-bc67-4369-a2d1-83fbba0a398e",
   "metadata": {},
   "outputs": [],
   "source": [
    "def count_duplicates(data):\n",
    "    \"\"\"\n",
    "    * Counts the number of duplicate TARGETIDs\n",
    "    * Separates the TARGETIDs that differ in something other than PVTYPE and those that do not. \n",
    "    \n",
    "    Parameters\n",
    "    ----------\n",
    "    data : astropy.Table\n",
    "    \n",
    "    Returns\n",
    "    -------\n",
    "    same: Table of all TARGETIDs that only differ by PVTYPE.\n",
    "    not-same: Table of all TARGETIDs that differ somewhere other than just PVTYPE.\n",
    "    \"\"\"\n",
    "    # Shows how many TARGETIDs correlate to more than one row in the PV_observed table\n",
    "    data_tf = None\n",
    "    duplicate_targets = None\n",
    "    length = 0\n",
    "    for targetid in np.unique(data['TARGETID']):\n",
    "        PV_target = data[data['TARGETID']==targetid]\n",
    "        len_PV = len(PV_target)\n",
    "        if len_PV > 1 :\n",
    "            length += 1\n",
    "            if duplicate_targets is None:\n",
    "                duplicate_targets= PV_target\n",
    "            else:\n",
    "                duplicate_targets = vstack([duplicate_targets, PV_target])\n",
    "        else:\n",
    "            # Here I'm creating a table of all data that do not have duplicate TARGETIDs\n",
    "            #if data_tf is None:\n",
    "            #data_tf = PV_target\n",
    "            #else:\n",
    "            #    data_tf = vstack([data_tf, PV_target])\n",
    "            pass\n",
    "    \n",
    "    print(f\"Number of duplicate TARGETIDs: {length}\")\n",
    "\n",
    "    # Checking if all TARGETIDs have the same values except PVTYPE. If True, included in same. If False, included in not_same. \n",
    "\n",
    "    columns = ['TARGET_RA', 'TARGET_DEC', 'HEALPIX', 'SURVEY', 'Z', 'ZERR', 'ZWARN', 'DELTACHI2', 'SGA_ID', 'RA', 'DEC']\n",
    "    not_same = None\n",
    "    same = None\n",
    "\n",
    "    for targetid in np.unique(duplicate_targets[\"TARGETID\"]):\n",
    "        bet = 0 \n",
    "        PV_target = duplicate_targets[duplicate_targets['TARGETID'] == targetid]\n",
    "        for column in columns:\n",
    "            if PV_target[0][column] == PV_target[1][column]:\n",
    "                bet += 1\n",
    "                continue\n",
    "            else: \n",
    "                # Here I'm adding to data_tf the duplicate_targets that actually differ somewhere other than PVTYPE.\n",
    "                #if data_tf is None:\n",
    "                #    data_tf = PV_target\n",
    "                #else:\n",
    "                #    data_tf = vstack([data_tf, PV_target])\n",
    "                if not_same is None:\n",
    "                    not_same = PV_target\n",
    "                else:\n",
    "                    not_same = vstack([not_same, PV_target])\n",
    "                break\n",
    "        if bet == 11:\n",
    "            if same is None:\n",
    "                same = PV_target\n",
    "            else:\n",
    "                same = vstack([same, PV_target])\n",
    "        else:\n",
    "            continue\n",
    "    \n",
    "    print(f\"Number of duplicate TARGETIDs that differ in value in a column other than PVTYPE: {len(not_same)/2}\")\n",
    "    print(f\"Number of duplicate TARGETIDs that are the same other than PVTYPE: {len(same)/2}\")\n",
    "    print(f\"Number of TARGETIDs with PVTYPE EXT: {len(same[same['PVTYPE']=='EXT'])}\")\n",
    "    print(f\"Number of TARGETIDs with PVTYPE TFT: {len(same[same['PVTYPE']=='TFT'])}\")\n",
    "\n",
    "    return same, not_same"
   ]
  },
  {
   "cell_type": "code",
   "execution_count": 9,
   "id": "fb696d39-7f39-4bd7-b198-3bd5452ab2e3",
   "metadata": {},
   "outputs": [
    {
     "name": "stdout",
     "output_type": "stream",
     "text": [
      "Number of duplicate TARGETIDs: 175\n",
      "Number of duplicate TARGETIDs that differ in value in a column other than PVTYPE: 105.0\n",
      "Number of duplicate TARGETIDs that are the same other than PVTYPE: 70.0\n",
      "Number of TARGETIDs with PVTYPE EXT: 70\n",
      "Number of TARGETIDs with PVTYPE TFT: 70\n"
     ]
    }
   ],
   "source": [
    "same, not_same = count_duplicates(PV_obs)"
   ]
  },
  {
   "cell_type": "code",
   "execution_count": 10,
   "id": "d8622c00-24dc-469f-b297-47124f67412f",
   "metadata": {},
   "outputs": [
    {
     "name": "stdout",
     "output_type": "stream",
     "text": [
      "All iterations where only PVTYPE differs, EXT shows up first in table than TFT for a given TARGETID. Therefore keep = 'first'.\n",
      "Total number of rows before cut: 13134\n",
      "Total number of rows after cut: 13064\n",
      "Total number of rows removed = 70\n"
     ]
    }
   ],
   "source": [
    "PV_observed = unique(PV_obs, keys=['TARGETID', 'TARGET_RA', 'TARGET_DEC', 'HEALPIX', 'SURVEY', 'Z', 'ZERR', 'ZWARN', 'DELTACHI2', 'SGA_ID', 'RA', 'DEC'], keep= 'first')\n",
    "print(\"All iterations where only PVTYPE differs, EXT shows up first in table than TFT for a given TARGETID. Therefore keep = 'first'.\"\n",
    "      f\"\\nTotal number of rows before cut: {len(PV_obs)}\"\n",
    "      f\"\\nTotal number of rows after cut: {len(PV_observed)}\"\n",
    "      f\"\\nTotal number of rows removed = {len(PV_obs)-len(PV_observed)}\")"
   ]
  },
  {
   "cell_type": "code",
   "execution_count": 11,
   "id": "48202e87-2fa0-4a33-b586-7ffe7cc39113",
   "metadata": {},
   "outputs": [
    {
     "data": {
      "text/html": [
       "<div><i>QTable length=5</i>\n",
       "<table id=\"table23455202390896\" class=\"table-striped table-bordered table-condensed\">\n",
       "<thead><tr><th>TARGETID</th><th>TARGET_RA</th><th>TARGET_DEC</th><th>HEALPIX</th><th>SURVEY</th><th>Z</th><th>ZERR</th><th>ZWARN</th><th>DELTACHI2</th><th>FILENAME</th><th>PVTYPE</th><th>SGA_ID</th><th>RA</th><th>DEC</th></tr></thead>\n",
       "<thead><tr><th>int64</th><th>float64</th><th>float64</th><th>int64</th><th>str3</th><th>float64</th><th>float64</th><th>int64</th><th>float64</th><th>str63</th><th>str3</th><th>int64</th><th>float64</th><th>float64</th></tr></thead>\n",
       "<tr><td>1070102522888196</td><td>216.979688742175</td><td>-0.561009480538136</td><td>25955</td><td>sv3</td><td>0.0791824158558448</td><td>1.18648953694193e-05</td><td>0</td><td>1942.84309843928</td><td>fuji/healpix/sv3/bright/259/25955/redrock-sv3-bright-25955.fits</td><td>TFT</td><td>482276</td><td>216.97968874217543</td><td>-0.5610094805381362</td></tr>\n",
       "<tr><td>1070102522888196</td><td>216.979688742175</td><td>-0.561009480538136</td><td>25955</td><td>sv3</td><td>0.0791824158558448</td><td>1.18648953694193e-05</td><td>0</td><td>1942.84309843928</td><td>fuji/healpix/sv3/bright/259/25955/redrock-sv3-bright-25955.fits</td><td>TFT</td><td>25383</td><td>216.97962864217408</td><td>-0.561024095127635</td></tr>\n",
       "<tr><td>1070193119854601</td><td>217.273846767534</td><td>3.14929387412025</td><td>26065</td><td>sv3</td><td>0.00594845314800224</td><td>9.42523772068482e-06</td><td>0</td><td>244.997579371964</td><td>fuji/healpix/sv3/bright/260/26065/redrock-sv3-bright-26065.fits</td><td>EXT</td><td>1187049</td><td>217.27384676753445</td><td>3.1492938741202536</td></tr>\n",
       "<tr><td>1070193119854601</td><td>217.273846767534</td><td>3.14929387412025</td><td>26065</td><td>sv3</td><td>0.00594845314800224</td><td>9.42523772068482e-06</td><td>0</td><td>244.997579371964</td><td>fuji/healpix/sv3/bright/260/26065/redrock-sv3-bright-26065.fits</td><td>TFT</td><td>1187049</td><td>217.27384676753445</td><td>3.149293874120253</td></tr>\n",
       "<tr><td>1070193124048897</td><td>217.49870031729</td><td>3.24248326779518</td><td>26065</td><td>sv3</td><td>1.08064886152119</td><td>0.000130994611665261</td><td>4</td><td>3.34225494042039</td><td>fuji/healpix/sv3/bright/260/26065/redrock-sv3-bright-26065.fits</td><td>EXT</td><td>1049438</td><td>217.49870031728966</td><td>3.2424832677951803</td></tr>\n",
       "</table></div>"
      ],
      "text/plain": [
       "<QTable length=5>\n",
       "    TARGETID        TARGET_RA     ...         RA                 DEC        \n",
       "     int64           float64      ...      float64             float64      \n",
       "---------------- ---------------- ... ------------------ -------------------\n",
       "1070102522888196 216.979688742175 ... 216.97968874217543 -0.5610094805381362\n",
       "1070102522888196 216.979688742175 ... 216.97962864217408  -0.561024095127635\n",
       "1070193119854601 217.273846767534 ... 217.27384676753445  3.1492938741202536\n",
       "1070193119854601 217.273846767534 ... 217.27384676753445   3.149293874120253\n",
       "1070193124048897  217.49870031729 ... 217.49870031728966  3.2424832677951803"
      ]
     },
     "execution_count": 11,
     "metadata": {},
     "output_type": "execute_result"
    }
   ],
   "source": [
    "not_same[:5]"
   ]
  },
  {
   "cell_type": "code",
   "execution_count": 12,
   "id": "f93a6c5c-366a-4d06-a4cb-cee9e49a271a",
   "metadata": {},
   "outputs": [
    {
     "data": {
      "text/html": [
       "<div><i>QTable length=5</i>\n",
       "<table id=\"table23455202393488\" class=\"table-striped table-bordered table-condensed\">\n",
       "<thead><tr><th>TARGETID</th><th>TARGET_RA</th><th>TARGET_DEC</th><th>HEALPIX</th><th>SURVEY</th><th>Z</th><th>ZERR</th><th>ZWARN</th><th>DELTACHI2</th><th>FILENAME</th><th>PVTYPE</th><th>SGA_ID</th><th>RA</th><th>DEC</th></tr></thead>\n",
       "<thead><tr><th>int64</th><th>float64</th><th>float64</th><th>int64</th><th>str3</th><th>float64</th><th>float64</th><th>int64</th><th>float64</th><th>str63</th><th>str3</th><th>int64</th><th>float64</th><th>float64</th></tr></thead>\n",
       "<tr><td>1070102522888196</td><td>216.979688742175</td><td>-0.561009480538136</td><td>25955</td><td>sv3</td><td>0.0791824158558448</td><td>1.18648953694193e-05</td><td>0</td><td>1942.84309843928</td><td>fuji/healpix/sv3/bright/259/25955/redrock-sv3-bright-25955.fits</td><td>TFT</td><td>25383</td><td>216.97962864217408</td><td>-0.561024095127635</td></tr>\n",
       "<tr><td>1070102522888196</td><td>216.979688742175</td><td>-0.561009480538136</td><td>25955</td><td>sv3</td><td>0.0791824158558448</td><td>1.18648953694193e-05</td><td>0</td><td>1942.84309843928</td><td>fuji/healpix/sv3/bright/259/25955/redrock-sv3-bright-25955.fits</td><td>TFT</td><td>482276</td><td>216.97968874217543</td><td>-0.5610094805381362</td></tr>\n",
       "<tr><td>1070193119854601</td><td>217.273846767534</td><td>3.14929387412025</td><td>26065</td><td>sv3</td><td>0.00594845314800224</td><td>9.42523772068482e-06</td><td>0</td><td>244.997579371964</td><td>fuji/healpix/sv3/bright/260/26065/redrock-sv3-bright-26065.fits</td><td>EXT</td><td>1187049</td><td>217.27384676753445</td><td>3.1492938741202536</td></tr>\n",
       "<tr><td>1070193119854601</td><td>217.273846767534</td><td>3.14929387412025</td><td>26065</td><td>sv3</td><td>0.00594845314800224</td><td>9.42523772068482e-06</td><td>0</td><td>244.997579371964</td><td>fuji/healpix/sv3/bright/260/26065/redrock-sv3-bright-26065.fits</td><td>TFT</td><td>1187049</td><td>217.27384676753445</td><td>3.149293874120253</td></tr>\n",
       "<tr><td>1070193124048897</td><td>217.49870031729</td><td>3.24248326779518</td><td>26065</td><td>sv3</td><td>1.08064886152119</td><td>0.000130994611665261</td><td>4</td><td>3.34225494042039</td><td>fuji/healpix/sv3/bright/260/26065/redrock-sv3-bright-26065.fits</td><td>EXT</td><td>1049438</td><td>217.49870031728966</td><td>3.2424832677951803</td></tr>\n",
       "</table></div>"
      ],
      "text/plain": [
       "<QTable length=5>\n",
       "    TARGETID        TARGET_RA     ...         RA                 DEC        \n",
       "     int64           float64      ...      float64             float64      \n",
       "---------------- ---------------- ... ------------------ -------------------\n",
       "1070102522888196 216.979688742175 ... 216.97962864217408  -0.561024095127635\n",
       "1070102522888196 216.979688742175 ... 216.97968874217543 -0.5610094805381362\n",
       "1070193119854601 217.273846767534 ... 217.27384676753445  3.1492938741202536\n",
       "1070193119854601 217.273846767534 ... 217.27384676753445   3.149293874120253\n",
       "1070193124048897  217.49870031729 ... 217.49870031728966  3.2424832677951803"
      ]
     },
     "execution_count": 12,
     "metadata": {},
     "output_type": "execute_result"
    }
   ],
   "source": [
    "unique(not_same[:5], keep = \"none\")"
   ]
  },
  {
   "cell_type": "code",
   "execution_count": 13,
   "id": "2a279a9b-8b82-4f5d-9ef2-a89c547290e1",
   "metadata": {},
   "outputs": [
    {
     "data": {
      "text/html": [
       "<div><i>QTable length=1</i>\n",
       "<table id=\"table23455202391664\" class=\"table-striped table-bordered table-condensed\">\n",
       "<thead><tr><th>TARGETID</th><th>TARGET_RA</th><th>TARGET_DEC</th><th>HEALPIX</th><th>SURVEY</th><th>Z</th><th>ZERR</th><th>ZWARN</th><th>DELTACHI2</th><th>FILENAME</th><th>PVTYPE</th><th>SGA_ID</th><th>RA</th><th>DEC</th></tr></thead>\n",
       "<thead><tr><th>int64</th><th>float64</th><th>float64</th><th>int64</th><th>str3</th><th>float64</th><th>float64</th><th>int64</th><th>float64</th><th>str63</th><th>str3</th><th>int64</th><th>float64</th><th>float64</th></tr></thead>\n",
       "<tr><td>1070072240013322</td><td>211.959006708595</td><td>-1.65473654112272</td><td>25915</td><td>sv3</td><td>0.054200428204072</td><td>8.38051441842955e-05</td><td>0</td><td>240.291921200405</td><td>fuji/healpix/sv3/bright/259/25915/redrock-sv3-bright-25915.fits</td><td>TFT</td><td>90791</td><td>211.9590067085955</td><td>-1.654736541122716</td></tr>\n",
       "</table></div>"
      ],
      "text/plain": [
       "<QTable length=1>\n",
       "    TARGETID        TARGET_RA     ...         RA               DEC        \n",
       "     int64           float64      ...      float64           float64      \n",
       "---------------- ---------------- ... ----------------- ------------------\n",
       "1070072240013322 211.959006708595 ... 211.9590067085955 -1.654736541122716"
      ]
     },
     "execution_count": 13,
     "metadata": {},
     "output_type": "execute_result"
    }
   ],
   "source": [
    "PV_observed[PV_observed['TARGETID']==1070072240013322]"
   ]
  },
  {
   "cell_type": "code",
   "execution_count": 14,
   "id": "a631397d-cb6c-4c06-9f25-5985c1ca9af6",
   "metadata": {},
   "outputs": [
    {
     "data": {
      "text/plain": [
       "\"\\ncolumns = ['TARGET_RA', 'TARGET_DEC', 'HEALPIX', 'SURVEY', 'Z', 'ZERR', 'ZWARN', 'DELTACHI2', 'SGA_ID', 'RA', 'DEC']\\ntarget_ra_table, target_dec_table, healpix_table, survey_table, z_table = None, None, None, None, None\\nzerr_table, zwarn_table, deltachi2_table, sgaid_table, ra_table, dec_table = None, None, None, None, None, None\\n\\ncol_tables = [target_ra_table, target_dec_table, healpix_table, survey_table, z_table,\\n             zerr_table, zwarn_table, deltachi2_table, sgaid_table, ra_table, dec_table]\\ni = 0\\nfor column in columns:\\n    unique_cols = columns[:]\\n    unique_cols.remove(column)\\n    table_2 = unique(PV_obs, keys= unique_cols, keep= 'none')\\n    col_tables[i] = setdiff(PV_obs, table_2)\\n    i+=1\\n    print(col_tables[i])\\n\""
      ]
     },
     "execution_count": 14,
     "metadata": {},
     "output_type": "execute_result"
    }
   ],
   "source": [
    "# Not sure why this isn't working? Each table is coming out as \"None\". I'm hoping this will separate the table differences into each separate column table. \n",
    "'''\n",
    "columns = ['TARGET_RA', 'TARGET_DEC', 'HEALPIX', 'SURVEY', 'Z', 'ZERR', 'ZWARN', 'DELTACHI2', 'SGA_ID', 'RA', 'DEC']\n",
    "target_ra_table, target_dec_table, healpix_table, survey_table, z_table = None, None, None, None, None\n",
    "zerr_table, zwarn_table, deltachi2_table, sgaid_table, ra_table, dec_table = None, None, None, None, None, None\n",
    "\n",
    "col_tables = [target_ra_table, target_dec_table, healpix_table, survey_table, z_table,\n",
    "             zerr_table, zwarn_table, deltachi2_table, sgaid_table, ra_table, dec_table]\n",
    "i = 0\n",
    "for column in columns:\n",
    "    unique_cols = columns[:]\n",
    "    unique_cols.remove(column)\n",
    "    table_2 = unique(PV_obs, keys= unique_cols, keep= 'none')\n",
    "    col_tables[i] = setdiff(PV_obs, table_2)\n",
    "    i+=1\n",
    "    print(col_tables[i])\n",
    "'''\n"
   ]
  },
  {
   "cell_type": "markdown",
   "id": "76191c96-7de3-4bb8-ba04-c401e47964d3",
   "metadata": {},
   "source": [
    "Read in SGA Catalog"
   ]
  },
  {
   "cell_type": "code",
   "execution_count": 15,
   "id": "aae12d5d-fdfe-45d1-9fbf-2f8283e8309d",
   "metadata": {},
   "outputs": [],
   "source": [
    "SGA_filename = '/global/cfs/cdirs/cosmo/data/sga/2020/SGA-2020.fits'\n",
    "\n",
    "hdu = fits.open(SGA_filename)\n",
    "SGA = QTable(hdu[1].data)\n",
    "hdu.close()"
   ]
  },
  {
   "cell_type": "code",
   "execution_count": 16,
   "id": "9cb0cf8d-1c26-4ba9-a8e4-2221ef8aaf08",
   "metadata": {},
   "outputs": [],
   "source": [
    "#Adding a column for radius rather than constantly using diameter.\n",
    "col_c = Column(name = \"R26\", data = SGA[\"D26\"]/2)\n",
    "SGA.add_column(col_c)"
   ]
  },
  {
   "cell_type": "code",
   "execution_count": 17,
   "id": "e0ffaa35-dfa2-47b1-9f1b-b956f7264f5b",
   "metadata": {},
   "outputs": [
    {
     "data": {
      "text/html": [
       "<div><i>QTable length=5</i>\n",
       "<table id=\"table23455201825168\" class=\"table-striped table-bordered table-condensed\">\n",
       "<thead><tr><th>SGA_ID</th><th>SGA_GALAXY</th><th>GALAXY</th><th>PGC</th><th>RA_LEDA</th><th>DEC_LEDA</th><th>MORPHTYPE</th><th>PA_LEDA</th><th>D25_LEDA</th><th>BA_LEDA</th><th>Z_LEDA</th><th>SB_D25_LEDA</th><th>MAG_LEDA</th><th>BYHAND</th><th>REF</th><th>GROUP_ID</th><th>GROUP_NAME</th><th>GROUP_MULT</th><th>GROUP_PRIMARY</th><th>GROUP_RA</th><th>GROUP_DEC</th><th>GROUP_DIAMETER</th><th>BRICKNAME</th><th>RA</th><th>DEC</th><th>D26</th><th>D26_REF</th><th>PA</th><th>BA</th><th>RA_MOMENT</th><th>DEC_MOMENT</th><th>SMA_MOMENT</th><th>G_SMA50</th><th>R_SMA50</th><th>Z_SMA50</th><th>SMA_SB22</th><th>SMA_SB22.5</th><th>SMA_SB23</th><th>SMA_SB23.5</th><th>SMA_SB24</th><th>SMA_SB24.5</th><th>SMA_SB25</th><th>SMA_SB25.5</th><th>SMA_SB26</th><th>G_MAG_SB22</th><th>R_MAG_SB22</th><th>Z_MAG_SB22</th><th>G_MAG_SB22.5</th><th>R_MAG_SB22.5</th><th>Z_MAG_SB22.5</th><th>G_MAG_SB23</th><th>R_MAG_SB23</th><th>Z_MAG_SB23</th><th>G_MAG_SB23.5</th><th>R_MAG_SB23.5</th><th>Z_MAG_SB23.5</th><th>G_MAG_SB24</th><th>R_MAG_SB24</th><th>Z_MAG_SB24</th><th>G_MAG_SB24.5</th><th>R_MAG_SB24.5</th><th>Z_MAG_SB24.5</th><th>G_MAG_SB25</th><th>R_MAG_SB25</th><th>Z_MAG_SB25</th><th>G_MAG_SB25.5</th><th>R_MAG_SB25.5</th><th>Z_MAG_SB25.5</th><th>G_MAG_SB26</th><th>R_MAG_SB26</th><th>Z_MAG_SB26</th><th>SMA_SB22_ERR</th><th>SMA_SB22.5_ERR</th><th>SMA_SB23_ERR</th><th>SMA_SB23.5_ERR</th><th>SMA_SB24_ERR</th><th>SMA_SB24.5_ERR</th><th>SMA_SB25_ERR</th><th>SMA_SB25.5_ERR</th><th>SMA_SB26_ERR</th><th>G_MAG_SB22_ERR</th><th>R_MAG_SB22_ERR</th><th>Z_MAG_SB22_ERR</th><th>G_MAG_SB22.5_ERR</th><th>R_MAG_SB22.5_ERR</th><th>Z_MAG_SB22.5_ERR</th><th>G_MAG_SB23_ERR</th><th>R_MAG_SB23_ERR</th><th>Z_MAG_SB23_ERR</th><th>G_MAG_SB23.5_ERR</th><th>R_MAG_SB23.5_ERR</th><th>Z_MAG_SB23.5_ERR</th><th>G_MAG_SB24_ERR</th><th>R_MAG_SB24_ERR</th><th>Z_MAG_SB24_ERR</th><th>G_MAG_SB24.5_ERR</th><th>R_MAG_SB24.5_ERR</th><th>Z_MAG_SB24.5_ERR</th><th>G_MAG_SB25_ERR</th><th>R_MAG_SB25_ERR</th><th>Z_MAG_SB25_ERR</th><th>G_MAG_SB25.5_ERR</th><th>R_MAG_SB25.5_ERR</th><th>Z_MAG_SB25.5_ERR</th><th>G_MAG_SB26_ERR</th><th>R_MAG_SB26_ERR</th><th>Z_MAG_SB26_ERR</th><th>G_COG_PARAMS_MTOT</th><th>G_COG_PARAMS_M0</th><th>G_COG_PARAMS_ALPHA1</th><th>G_COG_PARAMS_ALPHA2</th><th>G_COG_PARAMS_CHI2</th><th>R_COG_PARAMS_MTOT</th><th>R_COG_PARAMS_M0</th><th>R_COG_PARAMS_ALPHA1</th><th>R_COG_PARAMS_ALPHA2</th><th>R_COG_PARAMS_CHI2</th><th>Z_COG_PARAMS_MTOT</th><th>Z_COG_PARAMS_M0</th><th>Z_COG_PARAMS_ALPHA1</th><th>Z_COG_PARAMS_ALPHA2</th><th>Z_COG_PARAMS_CHI2</th><th>ELLIPSEBIT</th><th>R26</th></tr></thead>\n",
       "<thead><tr><th>int64</th><th>str16</th><th>str29</th><th>int64</th><th>float64</th><th>float64</th><th>str21</th><th>float32</th><th>float32</th><th>float32</th><th>float32</th><th>float32</th><th>float32</th><th>bool</th><th>str13</th><th>int64</th><th>str35</th><th>int16</th><th>bool</th><th>float64</th><th>float64</th><th>float32</th><th>str8</th><th>float64</th><th>float64</th><th>float32</th><th>str4</th><th>float32</th><th>float32</th><th>float64</th><th>float64</th><th>float32</th><th>float32</th><th>float32</th><th>float32</th><th>float32</th><th>float32</th><th>float32</th><th>float32</th><th>float32</th><th>float32</th><th>float32</th><th>float32</th><th>float32</th><th>float32</th><th>float32</th><th>float32</th><th>float32</th><th>float32</th><th>float32</th><th>float32</th><th>float32</th><th>float32</th><th>float32</th><th>float32</th><th>float32</th><th>float32</th><th>float32</th><th>float32</th><th>float32</th><th>float32</th><th>float32</th><th>float32</th><th>float32</th><th>float32</th><th>float32</th><th>float32</th><th>float32</th><th>float32</th><th>float32</th><th>float32</th><th>float32</th><th>float32</th><th>float32</th><th>float32</th><th>float32</th><th>float32</th><th>float32</th><th>float32</th><th>float32</th><th>float32</th><th>float32</th><th>float32</th><th>float32</th><th>float32</th><th>float32</th><th>float32</th><th>float32</th><th>float32</th><th>float32</th><th>float32</th><th>float32</th><th>float32</th><th>float32</th><th>float32</th><th>float32</th><th>float32</th><th>float32</th><th>float32</th><th>float32</th><th>float32</th><th>float32</th><th>float32</th><th>float32</th><th>float32</th><th>float32</th><th>float32</th><th>float32</th><th>float32</th><th>float32</th><th>float32</th><th>float32</th><th>float32</th><th>float32</th><th>float32</th><th>float32</th><th>float32</th><th>float32</th><th>float32</th><th>float32</th><th>float32</th><th>float32</th><th>int32</th><th>float32</th></tr></thead>\n",
       "<tr><td>2</td><td>SGA-2020 2</td><td>PGC1283207</td><td>1283207</td><td>228.3770865</td><td>5.4232017</td><td>S?</td><td>152.2</td><td>0.36307806</td><td>0.724436</td><td>0.03463229</td><td>23.40448</td><td>16.976</td><td>False</td><td>LEDA-20181114</td><td>0</td><td>PGC1283207</td><td>1</td><td>True</td><td>228.3770865</td><td>5.4232017</td><td>0.36307806</td><td>2283p055</td><td>228.3770803831908</td><td>5.423191398593787</td><td>0.49470574</td><td>SB26</td><td>158.20142</td><td>0.545691</td><td>228.37700918822188</td><td>5.4232652570544015</td><td>10.897086</td><td>3.3509698</td><td>3.1147978</td><td>3.240862</td><td>5.902337</td><td>6.9126143</td><td>7.941369</td><td>8.997992</td><td>10.073601</td><td>11.199986</td><td>12.391357</td><td>13.561038</td><td>14.841172</td><td>16.966799</td><td>16.108246</td><td>15.486356</td><td>16.879545</td><td>16.024958</td><td>15.400715</td><td>16.818878</td><td>15.967034</td><td>15.341793</td><td>16.776297</td><td>15.925804</td><td>15.300776</td><td>16.746685</td><td>15.897334</td><td>15.272053</td><td>16.725166</td><td>15.876816</td><td>15.2521105</td><td>16.708357</td><td>15.862035</td><td>15.237181</td><td>16.696539</td><td>15.851936</td><td>15.226998</td><td>16.689613</td><td>15.844313</td><td>15.21976</td><td>0.013392451</td><td>0.02354</td><td>0.021872982</td><td>0.01736985</td><td>0.024445537</td><td>0.039866067</td><td>0.05026544</td><td>0.08455789</td><td>0.122911856</td><td>0.005682776</td><td>0.0054258136</td><td>0.0049038026</td><td>0.005588406</td><td>0.005323561</td><td>0.0047632363</td><td>0.00543534</td><td>0.005177031</td><td>0.0046343105</td><td>0.0053025587</td><td>0.005040888</td><td>0.0045181247</td><td>0.005206092</td><td>0.0049438984</td><td>0.0044374703</td><td>0.0051483097</td><td>0.0048758644</td><td>0.0043834248</td><td>0.0051032505</td><td>0.0048264163</td><td>0.004344248</td><td>0.0050705094</td><td>0.004792021</td><td>0.004319857</td><td>0.005054293</td><td>0.004765629</td><td>0.0043044444</td><td>16.65942</td><td>0.34037337</td><td>0.2978292</td><td>3.0239506</td><td>0.07928849</td><td>15.820566</td><td>0.2640441</td><td>0.34559453</td><td>3.3033552</td><td>0.003811298</td><td>15.195567</td><td>0.29826432</td><td>0.3001073</td><td>3.2333765</td><td>0.011723555</td><td>0</td><td>0.24735287</td></tr>\n",
       "<tr><td>3</td><td>SGA-2020 3</td><td>PGC1310416</td><td>1310416</td><td>202.54443750000002</td><td>6.9345944</td><td>Sc</td><td>159.26</td><td>0.4017908</td><td>0.7816278</td><td>0.073888786</td><td>23.498482</td><td>16.85</td><td>False</td><td>LEDA-20181114</td><td>1</td><td>PGC1310416</td><td>1</td><td>True</td><td>202.54443750000002</td><td>6.9345944</td><td>0.4017908</td><td>2025p070</td><td>202.5444619671207</td><td>6.9346244322326624</td><td>0.55350494</td><td>SB26</td><td>161.5937</td><td>0.7291764</td><td>202.54432739596137</td><td>6.934806737209989</td><td>15.746941</td><td>5.6416235</td><td>5.2647552</td><td>5.0895185</td><td>5.9838247</td><td>7.4356494</td><td>8.728868</td><td>10.087478</td><td>11.529764</td><td>12.818195</td><td>14.115497</td><td>15.319822</td><td>16.605148</td><td>16.963299</td><td>16.307854</td><td>15.806882</td><td>16.729511</td><td>16.097378</td><td>15.615527</td><td>16.606344</td><td>15.990707</td><td>15.518403</td><td>16.525967</td><td>15.917321</td><td>15.450624</td><td>16.462585</td><td>15.859485</td><td>15.397182</td><td>16.419558</td><td>15.820947</td><td>15.36243</td><td>16.390558</td><td>15.796369</td><td>15.338905</td><td>16.376112</td><td>15.782492</td><td>15.323709</td><td>16.364115</td><td>15.773462</td><td>15.313725</td><td>0.036992554</td><td>0.034982767</td><td>0.037769336</td><td>0.049429573</td><td>0.052699674</td><td>0.074114166</td><td>0.07914538</td><td>0.09781406</td><td>0.15534972</td><td>0.016095797</td><td>0.019181909</td><td>0.021539452</td><td>0.013955905</td><td>0.016594552</td><td>0.018640138</td><td>0.012786752</td><td>0.015244632</td><td>0.01715491</td><td>0.011973826</td><td>0.014366956</td><td>0.016208366</td><td>0.011358372</td><td>0.013676575</td><td>0.015474222</td><td>0.010944939</td><td>0.013225297</td><td>0.015011175</td><td>0.010691595</td><td>0.012931233</td><td>0.014687982</td><td>0.010546411</td><td>0.012796015</td><td>0.014518412</td><td>0.010457551</td><td>0.012685407</td><td>0.014379212</td><td>16.284733</td><td>1.0914493</td><td>0.24674739</td><td>2.4320207</td><td>0.68685365</td><td>15.704403</td><td>0.8764323</td><td>0.27360612</td><td>2.4995425</td><td>0.49343896</td><td>15.235263</td><td>1.3098688</td><td>0.17866786</td><td>2.1750498</td><td>0.20391206</td><td>0</td><td>0.27675247</td></tr>\n",
       "<tr><td>4</td><td>SGA-2020 4</td><td>SDSSJ145059.93+135143.0</td><td>4435547</td><td>222.749787</td><td>13.8619111</td><td>S?</td><td>44.57</td><td>0.33342642</td><td>0.6637431</td><td>0.07567602</td><td>24.457481</td><td>18.214</td><td>False</td><td>LEDA-20181114</td><td>2</td><td>SDSSJ145059.93+135143.0</td><td>1</td><td>True</td><td>222.749787</td><td>13.8619111</td><td>0.33342642</td><td>2228p137</td><td>222.7497050504303</td><td>13.861929561160224</td><td>0.37067476</td><td>SB26</td><td>45.28537</td><td>0.70922077</td><td>222.749650475464</td><td>13.862052070022896</td><td>8.877115</td><td>4.652771</td><td>4.4837785</td><td>4.4959745</td><td>2.01033</td><td>3.3967943</td><td>4.76257</td><td>6.043787</td><td>7.242806</td><td>8.250407</td><td>9.158723</td><td>10.083457</td><td>11.120243</td><td>19.97595</td><td>19.190666</td><td>18.649523</td><td>19.098536</td><td>18.397219</td><td>17.899643</td><td>18.624952</td><td>17.967802</td><td>17.50231</td><td>18.35278</td><td>17.718002</td><td>17.265854</td><td>18.192762</td><td>17.5654</td><td>17.115404</td><td>18.10496</td><td>17.480022</td><td>17.033989</td><td>18.053415</td><td>17.430794</td><td>16.982971</td><td>18.020155</td><td>17.399996</td><td>16.948252</td><td>17.994783</td><td>17.377092</td><td>16.924469</td><td>0.02113719</td><td>0.03639431</td><td>0.051901262</td><td>0.06539029</td><td>0.08552586</td><td>0.07008602</td><td>0.070394725</td><td>0.08394975</td><td>0.113649584</td><td>0.013428732</td><td>0.017600043</td><td>0.016373685</td><td>0.012251812</td><td>0.014566466</td><td>0.013732588</td><td>0.012644532</td><td>0.014030071</td><td>0.013153961</td><td>0.012747069</td><td>0.013512552</td><td>0.012818239</td><td>0.012865601</td><td>0.01324455</td><td>0.012532208</td><td>0.012762528</td><td>0.013058522</td><td>0.012420634</td><td>0.01252645</td><td>0.012827468</td><td>0.012283978</td><td>0.012320441</td><td>0.012607317</td><td>0.012104107</td><td>0.0121167945</td><td>0.01244376</td><td>0.011985352</td><td>17.896797</td><td>0.5557265</td><td>0.25455818</td><td>3.167909</td><td>1.0522435</td><td>17.28287</td><td>0.4885815</td><td>0.2782499</td><td>3.2144456</td><td>1.3733263</td><td>16.807674</td><td>0.5177045</td><td>0.32264626</td><td>2.900518</td><td>1.8054093</td><td>0</td><td>0.18533738</td></tr>\n",
       "<tr><td>7</td><td>SGA-2020 7</td><td>PGC1742504</td><td>1742504</td><td>182.0888085</td><td>25.6022764</td><td>Sbc</td><td>84.97</td><td>0.548277</td><td>0.25118864</td><td>0.10090814</td><td>24.91348</td><td>17.59</td><td>False</td><td>LEDA-20181114</td><td>3</td><td>PGC1742504</td><td>1</td><td>True</td><td>182.0888085</td><td>25.6022764</td><td>0.548277</td><td>1820p255</td><td>182.08882232629614</td><td>25.60226821438983</td><td>0.8883204</td><td>SB26</td><td>84.857475</td><td>0.19753796</td><td>182.08873760544392</td><td>25.602311195157757</td><td>19.779116</td><td>6.5958204</td><td>6.0386286</td><td>5.8089786</td><td>9.279068</td><td>10.949478</td><td>12.652142</td><td>14.446171</td><td>16.323679</td><td>18.392954</td><td>20.915508</td><td>23.566542</td><td>26.649612</td><td>17.390274</td><td>16.360935</td><td>15.531964</td><td>17.285898</td><td>16.262264</td><td>15.440768</td><td>17.2167</td><td>16.195492</td><td>15.380734</td><td>17.16217</td><td>16.144245</td><td>15.334935</td><td>17.130178</td><td>16.110302</td><td>15.304758</td><td>17.104496</td><td>16.084463</td><td>15.280803</td><td>17.081282</td><td>16.061373</td><td>15.2589855</td><td>17.063671</td><td>16.045204</td><td>15.243196</td><td>17.046705</td><td>16.031244</td><td>15.23268</td><td>0.04351465</td><td>0.055440858</td><td>0.052207235</td><td>0.07507412</td><td>0.0793679</td><td>0.10347854</td><td>0.13569456</td><td>0.13104819</td><td>0.17234002</td><td>0.03885276</td><td>0.03744209</td><td>0.03786608</td><td>0.035534665</td><td>0.03441038</td><td>0.03503794</td><td>0.033557214</td><td>0.032548346</td><td>0.033348277</td><td>0.031964395</td><td>0.03106612</td><td>0.031957533</td><td>0.031133845</td><td>0.030202182</td><td>0.031190341</td><td>0.030430589</td><td>0.029511228</td><td>0.030530946</td><td>0.02975241</td><td>0.028853998</td><td>0.029866546</td><td>0.02928568</td><td>0.0284345</td><td>0.029445464</td><td>0.028843498</td><td>0.028076617</td><td>0.029169334</td><td>16.995174</td><td>21.083004</td><td>0.0164273</td><td>1.9079465</td><td>0.029703742</td><td>15.991165</td><td>0.7657307</td><td>0.52285546</td><td>2.3045986</td><td>0.006013103</td><td>15.191324</td><td>1.0408205</td><td>0.32956335</td><td>2.1520333</td><td>0.004725194</td><td>0</td><td>0.4441602</td></tr>\n",
       "<tr><td>18</td><td>SGA-2020 18</td><td>2MASXJ12340801+4535444</td><td>3550748</td><td>188.5335525</td><td>45.5956434</td><td>E</td><td>168.65</td><td>0.53088444</td><td>0.6950243</td><td>0.07609531</td><td>23.97948</td><td>16.726</td><td>False</td><td>LEDA-20181114</td><td>4</td><td>2MASXJ12340801+4535444</td><td>1</td><td>True</td><td>188.5335525</td><td>45.5956434</td><td>0.53088444</td><td>1883p455</td><td>188.53364923054596</td><td>45.595620212931856</td><td>0.73435897</td><td>SB26</td><td>166.25127</td><td>0.70995796</td><td>188.53349052789085</td><td>45.59567446403057</td><td>15.694805</td><td>5.091253</td><td>4.670616</td><td>2.9429996</td><td>5.219665</td><td>6.6119533</td><td>8.228266</td><td>10.109745</td><td>12.170589</td><td>14.364073</td><td>16.722517</td><td>19.18709</td><td>22.03077</td><td>17.208511</td><td>16.224203</td><td>15.566424</td><td>17.050343</td><td>16.080097</td><td>15.443468</td><td>16.921791</td><td>15.962402</td><td>15.347263</td><td>16.814959</td><td>15.864242</td><td>15.27134</td><td>16.729906</td><td>15.787886</td><td>15.218466</td><td>16.664564</td><td>15.730083</td><td>15.182751</td><td>16.61991</td><td>15.686324</td><td>15.1601305</td><td>16.585676</td><td>15.654064</td><td>15.148039</td><td>16.558054</td><td>15.629669</td><td>15.141826</td><td>0.032001704</td><td>0.043849397</td><td>0.045203492</td><td>0.072918765</td><td>0.06263939</td><td>0.07675708</td><td>0.10399303</td><td>0.07780949</td><td>0.14017467</td><td>0.016467415</td><td>0.021250801</td><td>0.032092847</td><td>0.0149329165</td><td>0.019061867</td><td>0.028947951</td><td>0.01369758</td><td>0.01736746</td><td>0.026648495</td><td>0.012623343</td><td>0.015980754</td><td>0.024998168</td><td>0.011793644</td><td>0.014977396</td><td>0.023862366</td><td>0.011184664</td><td>0.014255281</td><td>0.023120966</td><td>0.010785815</td><td>0.013740733</td><td>0.022603082</td><td>0.010472503</td><td>0.013351409</td><td>0.022360764</td><td>0.010212836</td><td>0.013043255</td><td>0.022296576</td><td>16.471447</td><td>0.3236818</td><td>1.9206839</td><td>2.3249283</td><td>0.0973919</td><td>15.540598</td><td>0.3247282</td><td>1.7439244</td><td>2.1774826</td><td>0.023485765</td><td>15.124181</td><td>0.16547345</td><td>1.4694684</td><td>3.3948786</td><td>0.028653827</td><td>0</td><td>0.36717948</td></tr>\n",
       "</table></div>"
      ],
      "text/plain": [
       "<QTable length=5>\n",
       "SGA_ID  SGA_GALAXY          GALAXY         ... ELLIPSEBIT    R26    \n",
       "int64     str16             str29          ...   int32     float32  \n",
       "------ ----------- ----------------------- ... ---------- ----------\n",
       "     2  SGA-2020 2              PGC1283207 ...          0 0.24735287\n",
       "     3  SGA-2020 3              PGC1310416 ...          0 0.27675247\n",
       "     4  SGA-2020 4 SDSSJ145059.93+135143.0 ...          0 0.18533738\n",
       "     7  SGA-2020 7              PGC1742504 ...          0  0.4441602\n",
       "    18 SGA-2020 18  2MASXJ12340801+4535444 ...          0 0.36717948"
      ]
     },
     "execution_count": 17,
     "metadata": {},
     "output_type": "execute_result"
    }
   ],
   "source": [
    "SGA[:5]"
   ]
  },
  {
   "cell_type": "markdown",
   "id": "dd112a8e-f117-4e29-8372-39e365427c24",
   "metadata": {},
   "source": [
    "Create a dictionary where each key is a given SGA_ID and it outputs the index for the given ID in the catalog"
   ]
  },
  {
   "cell_type": "code",
   "execution_count": 18,
   "id": "7dbfbb43-f4c1-4e34-a372-e76d5827d89b",
   "metadata": {},
   "outputs": [],
   "source": [
    "#Remove all unnecessary data to find only unique SGA IDs\n",
    "PV_unique_SGA_ID = unique(PV_observed, keys = 'SGA_ID')"
   ]
  },
  {
   "cell_type": "code",
   "execution_count": 19,
   "id": "ecf93fa9-6e0a-4ae1-9c04-c474c97c8af3",
   "metadata": {},
   "outputs": [],
   "source": [
    "#This only needs to be run once to create the dictionary from the SGA catalog.\n",
    "\n",
    "SGA_dictionary = {}\n",
    "\n",
    "for i in range(len(PV_unique_SGA_ID[\"SGA_ID\"])):\n",
    "    SGA_dictionary[PV_unique_SGA_ID[i][\"SGA_ID\"]] = SGA[SGA[\"SGA_ID\"] == PV_unique_SGA_ID[i][\"SGA_ID\"]]\n",
    "    "
   ]
  },
  {
   "cell_type": "code",
   "execution_count": 20,
   "id": "1041317b-adec-4cfd-908a-9d61aa6ddde4",
   "metadata": {},
   "outputs": [
    {
     "data": {
      "text/html": [
       "<div><i>QTable length=6</i>\n",
       "<table id=\"table23454865920592\" class=\"table-striped table-bordered table-condensed\">\n",
       "<thead><tr><th>TARGET_RA</th><th>TARGET_DEC</th><th>RA</th><th>DEC</th></tr></thead>\n",
       "<thead><tr><th>float64</th><th>float64</th><th>float64</th><th>float64</th></tr></thead>\n",
       "<tr><td>236.810202992035</td><td>43.9950609278788</td><td>236.81020299203462</td><td>43.99506092787884</td></tr>\n",
       "<tr><td>236.813448650733</td><td>43.9957553864163</td><td>236.8134486507333</td><td>43.99575538641631</td></tr>\n",
       "<tr><td>236.815120686376</td><td>43.9961131019287</td><td>236.81512068637608</td><td>43.99611310192875</td></tr>\n",
       "<tr><td>236.816743563778</td><td>43.9964602730794</td><td>236.8167435637778</td><td>43.996460273079435</td></tr>\n",
       "<tr><td>236.813448650733</td><td>43.9957553864163</td><td>236.8134486507333</td><td>43.99575538641631</td></tr>\n",
       "<tr><td>236.811825811888</td><td>43.9954081686317</td><td>236.81182581188813</td><td>43.995408168631656</td></tr>\n",
       "</table></div>"
      ],
      "text/plain": [
       "<QTable length=6>\n",
       "   TARGET_RA        TARGET_DEC            RA                DEC        \n",
       "    float64          float64           float64            float64      \n",
       "---------------- ---------------- ------------------ ------------------\n",
       "236.810202992035 43.9950609278788 236.81020299203462  43.99506092787884\n",
       "236.813448650733 43.9957553864163  236.8134486507333  43.99575538641631\n",
       "236.815120686376 43.9961131019287 236.81512068637608  43.99611310192875\n",
       "236.816743563778 43.9964602730794  236.8167435637778 43.996460273079435\n",
       "236.813448650733 43.9957553864163  236.8134486507333  43.99575538641631\n",
       "236.811825811888 43.9954081686317 236.81182581188813 43.995408168631656"
      ]
     },
     "execution_count": 20,
     "metadata": {},
     "output_type": "execute_result"
    }
   ],
   "source": [
    "PV_observed[\"TARGET_RA\",\"TARGET_DEC\",\"RA\",\"DEC\"][PV_observed['SGA_ID']==1583]"
   ]
  },
  {
   "cell_type": "markdown",
   "id": "32f48d44-e2e8-4cb1-9425-e2d00115ff4a",
   "metadata": {},
   "source": [
    "Add distance and rotational velocity columns to the data. "
   ]
  },
  {
   "cell_type": "code",
   "execution_count": 21,
   "id": "e0e322ce-bf9a-451f-a83f-412607c3214e",
   "metadata": {},
   "outputs": [
    {
     "data": {
      "text/plain": [
       "6.25"
      ]
     },
     "execution_count": 21,
     "metadata": {},
     "output_type": "execute_result"
    }
   ],
   "source": [
    "# Is this how inclincation angle is dealt with?\n",
    "V_OBS = 5\n",
    "b = 3\n",
    "a = 5\n",
    "theta = np.arccos(b/a)\n",
    "V_ROT = V_OBS/np.sin(theta)\n",
    "V_ROT"
   ]
  },
  {
   "cell_type": "code",
   "execution_count": 22,
   "id": "493628e6-6fc0-4771-89ec-115b8eab876f",
   "metadata": {},
   "outputs": [],
   "source": [
    "# Which one is the ACTUAL RA & DEC for the fiber? RA & DEC or TARGET_RA & TARGET_DEC in PV_observed? \n",
    "# Currently using RA & DEC\n",
    "\n",
    "def distance(data):\n",
    "    \"\"\"\n",
    "    * Creates two new columns dependent on distance. \n",
    "    \n",
    "    Parameters\n",
    "    ----------\n",
    "    data : astropy.Table\n",
    "    \n",
    "    Returns\n",
    "    -------\n",
    "    Original astropy.Table with additional columns:\n",
    "    SKY_TARGET_DIST: True distance from center to TARGETID position\n",
    "    SKY_TARGET_DIST_R26: Distance from center in units of radii\n",
    "    \n",
    "    \"\"\"\n",
    "    data['SKY_TARGET_DIST'] = 0.\n",
    "    data['SKY_TARGET_DIST_R26'] = 0.\n",
    "\n",
    "    # For each SGA galaxy that has at least one observation, calculate the distance\n",
    "    # for all of that galaxy's targets\n",
    "    \n",
    "    # Setup for progress bar\n",
    "    sga_gal = np.unique(data['SGA_ID'])\n",
    "    N = len(sga_gal)\n",
    "\n",
    "    with tqdm_notebook(total=N) as progress_bar:\n",
    "        for i, sga_gal in enumerate(sga_gal):\n",
    "            progress_bar.update(1)\n",
    "            \n",
    "            # Find galaxy info from dictionary\n",
    "            galaxy = SGA_dictionary[sga_gal]\n",
    "\n",
    "            # Identify all galaxy targets on this galaxy\n",
    "            obs_idx = data['SGA_ID'] == sga_gal\n",
    "\n",
    "            # Calculate distance between each target and the center\n",
    "            center_coords = SkyCoord(ra=galaxy['RA'], dec=galaxy['DEC'], unit=u.degree)\n",
    "            target_coords = SkyCoord(ra=data['TARGET_RA'][obs_idx], dec=data['TARGET_DEC'][obs_idx], unit=u.degree)\n",
    "\n",
    "            sep2d = target_coords.separation(center_coords)\n",
    "\n",
    "            data['SKY_TARGET_DIST'][obs_idx] = sep2d\n",
    "            data['SKY_TARGET_DIST_R26'][obs_idx] = sep2d.to('arcmin')/galaxy['R26']*u.arcmin\n",
    "\n",
    "    return data\n",
    "\n",
    "    \n",
    "def rot_vel(data):\n",
    "    \"\"\"\n",
    "    * Creates two new columns dependent on Z \n",
    "    \n",
    "    Parameters\n",
    "    ----------\n",
    "    data : astropy.Table\n",
    "    \n",
    "    Returns\n",
    "    -------\n",
    "    Original astropy.Table with additional columns:\n",
    "    V_ROT: Rotational velocity of TARGET\n",
    "    V_ROT_ERR: Error associated with rotational velocity of TARGET\n",
    "    \n",
    "    \"\"\"\n",
    "    \n",
    "    data['V_ROT'] = np.nan\n",
    "    data['V_ROT_ERR'] = np.nan\n",
    "\n",
    "    # Identify all observations that are on galaxy centers\n",
    "    centers_idx = (data['TARGETID'] > 30000000000000000) & (data['TARGETID'] < 40000000000000000)\n",
    "    \n",
    "    # Setup for progress bar\n",
    "    sga_gal = np.unique(data['SGA_ID'])\n",
    "    N = len(sga_gal)\n",
    "\n",
    "    with tqdm_notebook(total=N) as progress_bar:\n",
    "        for i, sga_gal in enumerate(sga_gal):\n",
    "            progress_bar.update(1)\n",
    "\n",
    "            # Identify all galaxy targets on this galaxy\n",
    "            obs_idx = data['SGA_ID'] == sga_gal\n",
    "\n",
    "            # Identify the center observation(s) of this galaxy\n",
    "            center_idx = centers_idx & obs_idx\n",
    "\n",
    "            if np.sum(center_idx) > 0:\n",
    "\n",
    "                # Use the average redshift of all center observations for the systemic velocity\n",
    "                z_center = np.mean(data['Z'][center_idx])\n",
    "                z_err_center2 = np.mean(data['ZERR'][center_idx]**2)/np.sum(center_idx)\n",
    "\n",
    "                # Calculate rotational velocity for all observations of the galaxy\n",
    "                data['V_ROT'][obs_idx] = c*(data['Z'][obs_idx] - z_center)\n",
    "                data['V_ROT_ERR'][obs_idx] = c*np.sqrt(data['ZERR'][obs_idx]**2 + z_err_center2)\n",
    "    \n",
    "    return data\n",
    "\n",
    "# Do I want to use BA or BA LEDA?\n",
    "# Currently using BA\n",
    "\n",
    "def inclination_corrected(data):\n",
    "    \"\"\"\n",
    "    * Corrects the V_ROT for inclination angle\n",
    "    \n",
    "    Parameters\n",
    "    ----------\n",
    "    data : astropy.Table\n",
    "    \n",
    "    Returns\n",
    "    -------\n",
    "    Original astropy.Table with additional column:\n",
    "    V_ROT_CORRECTED: Rotational velocity with corrected values. \n",
    "    V_ROT_CORRECTED_ERR: Corrected rotational velcoity error.\n",
    "    \n",
    "    \"\"\"\n",
    "    \n",
    "    data['V_ROT_CORRECTED'] = np.nan\n",
    "    data['V_ROT_CORRECTED_ERR'] = np.nan\n",
    "\n",
    "    # Setup for progress bar\n",
    "    N = len(data)\n",
    "\n",
    "    with tqdm_notebook(total=N) as progress_bar:\n",
    "        for i in range(len(data)):\n",
    "            progress_bar.update(1)\n",
    "            \n",
    "            PV_target = data[i]\n",
    "            sga_gal = PV_target['SGA_ID']\n",
    "\n",
    "            # Accounting for inclination angle\n",
    "            theta = np.arccos(SGA_dictionary[sga_gal]['BA'])\n",
    "\n",
    "            if theta == 0:\n",
    "                PV_target['V_ROT_CORRECTED'] = PV_target['V_ROT']\n",
    "                PV_target['V_ROT_CORRECTED_ERR'] = PV_target['V_ROT_ERR']\n",
    "            else: \n",
    "                PV_target['V_ROT_CORRECTED'] = PV_target['V_ROT']/np.sin(theta)\n",
    "                PV_target['V_ROT_CORRECTED_ERR'] = PV_target['V_ROT_ERR']/np.sin(theta)\n",
    "\n",
    "    return data"
   ]
  },
  {
   "cell_type": "code",
   "execution_count": 23,
   "id": "6521cfdd-1d00-479b-bd42-8d0a27e0dcd5",
   "metadata": {},
   "outputs": [
    {
     "data": {
      "application/vnd.jupyter.widget-view+json": {
       "model_id": "0da52b4822424bfaba54055b48a16f8b",
       "version_major": 2,
       "version_minor": 0
      },
      "text/plain": [
       "  0%|          | 0/4524 [00:00<?, ?it/s]"
      ]
     },
     "metadata": {},
     "output_type": "display_data"
    },
    {
     "data": {
      "application/vnd.jupyter.widget-view+json": {
       "model_id": "5bf2e53fd5c8451896b30933c2b62cff",
       "version_major": 2,
       "version_minor": 0
      },
      "text/plain": [
       "  0%|          | 0/4524 [00:00<?, ?it/s]"
      ]
     },
     "metadata": {},
     "output_type": "display_data"
    },
    {
     "data": {
      "application/vnd.jupyter.widget-view+json": {
       "model_id": "d701be4e4c844af6811ddcce6f1fd171",
       "version_major": 2,
       "version_minor": 0
      },
      "text/plain": [
       "  0%|          | 0/13064 [00:00<?, ?it/s]"
      ]
     },
     "metadata": {},
     "output_type": "display_data"
    }
   ],
   "source": [
    "PV_observed = distance(PV_observed)\n",
    "PV_observed = rot_vel(PV_observed)\n",
    "PV_observed = inclination_corrected(PV_observed)"
   ]
  },
  {
   "cell_type": "code",
   "execution_count": 24,
   "id": "6829b6eb-201e-428c-bfbc-56a79cce2d1e",
   "metadata": {},
   "outputs": [
    {
     "data": {
      "text/html": [
       "<div><i>QTable length=6</i>\n",
       "<table id=\"table23454860046400\" class=\"table-striped table-bordered table-condensed\">\n",
       "<thead><tr><th>TARGETID</th><th>TARGET_RA</th><th>TARGET_DEC</th><th>HEALPIX</th><th>SURVEY</th><th>Z</th><th>ZERR</th><th>ZWARN</th><th>DELTACHI2</th><th>FILENAME</th><th>PVTYPE</th><th>SGA_ID</th><th>RA</th><th>DEC</th><th>SKY_TARGET_DIST</th><th>SKY_TARGET_DIST_R26</th><th>V_ROT</th><th>V_ROT_ERR</th><th>V_ROT_CORRECTED</th><th>V_ROT_CORRECTED_ERR</th></tr></thead>\n",
       "<thead><tr><th>int64</th><th>float64</th><th>float64</th><th>int64</th><th>str3</th><th>float64</th><th>float64</th><th>int64</th><th>float64</th><th>str63</th><th>str3</th><th>int64</th><th>float64</th><th>float64</th><th>float64</th><th>float64</th><th>float64</th><th>float64</th><th>float64</th><th>float64</th></tr></thead>\n",
       "<tr><td>1071077795037186</td><td>236.810202992035</td><td>43.9950609278788</td><td>9923</td><td>sv3</td><td>0.0356212945166845</td><td>2.64003527378348e-05</td><td>0</td><td>36.7676933435723</td><td>fuji/healpix/sv3/bright/99/9923/redrock-sv3-bright-9923.fits</td><td>TFT</td><td>1583</td><td>236.81020299203462</td><td>43.99506092787884</td><td>0.0012179991249324554</td><td>0.3300000065694801</td><td>45.1744338975044</td><td>8.135065572496423</td><td>60.80552673339844</td><td>10.949932098388672</td></tr>\n",
       "<tr><td>1071077795037187</td><td>236.813448650733</td><td>43.9957553864163</td><td>9923</td><td>sv3</td><td>0.0352887795291414</td><td>7.31620291911626e-06</td><td>0</td><td>550.152345106006</td><td>fuji/healpix/sv3/bright/99/9923/redrock-sv3-bright-9923.fits</td><td>TFT</td><td>1583</td><td>236.8134486507333</td><td>43.99575538641631</td><td>0.0012179991249659627</td><td>0.33000000657855844</td><td>-54.511051539881485</td><td>2.889416577693099</td><td>-73.37276458740234</td><td>3.889202117919922</td></tr>\n",
       "<tr><td>1071077795037188</td><td>236.815120686376</td><td>43.9961131019287</td><td>9923</td><td>sv3</td><td>1.51232579748677</td><td>0.000144175642625962</td><td>4</td><td>0.879315532743931</td><td>fuji/healpix/sv3/bright/99/9923/redrock-sv3-bright-9923.fits</td><td>TFT</td><td>1583</td><td>236.81512068637608</td><td>43.99611310192875</td><td>0.0024729073147124725</td><td>0.6700000134614925</td><td>442750.04711896775</td><td>43.26367816395112</td><td>595948.8125</td><td>58.233619689941406</td></tr>\n",
       "<tr><td>1071077795037189</td><td>236.816743563778</td><td>43.9964602730794</td><td>9923</td><td>sv3</td><td>0.637227019154047</td><td>7.5017431284708e-05</td><td>4</td><td>3.39603114128113</td><td>fuji/healpix/sv3/bright/99/9923/redrock-sv3-bright-9923.fits</td><td>TFT</td><td>1583</td><td>236.8167435637778</td><td>43.996460273079435</td><td>0.003690906440145128</td><td>1.000000020166495</td><td>180402.03336980354</td><td>22.568180902274428</td><td>242824.078125</td><td>30.377138137817383</td></tr>\n",
       "<tr><td>1084271934570499</td><td>236.813448650733</td><td>43.9957553864163</td><td>9923</td><td>sv3</td><td>0.0353008322684175</td><td>9.4825361822116e-06</td><td>0</td><td>335.291149647906</td><td>fuji/healpix/sv3/dark/99/9923/redrock-sv3-dark-9923.fits</td><td>TFT</td><td>1583</td><td>236.8134486507333</td><td>43.99575538641631</td><td>0.0012179991249659627</td><td>0.33000000657855844</td><td>-50.89773120666509</td><td>3.4087311574421326</td><td>-68.5091781616211</td><td>4.588207721710205</td></tr>\n",
       "<tr><td>39633149604397504</td><td>236.811825811888</td><td>43.9954081686317</td><td>9923</td><td>sv3</td><td>0.0354706088249934</td><td>6.27417750722545e-06</td><td>0</td><td>869.667408287525</td><td>fuji/healpix/sv3/bright/99/9923/redrock-sv3-bright-9923.fits</td><td>TFT</td><td>1583</td><td>236.81182581188813</td><td>43.995408168631656</td><td>7.770842496908934e-14</td><td>2.1054022310340753e-11</td><td>0.0</td><td>2.660066551282587</td><td>0.0</td><td>3.580493211746216</td></tr>\n",
       "</table></div>"
      ],
      "text/plain": [
       "<QTable length=6>\n",
       "     TARGETID        TARGET_RA     ...  V_ROT_CORRECTED   V_ROT_CORRECTED_ERR\n",
       "      int64           float64      ...      float64             float64      \n",
       "----------------- ---------------- ... ------------------ -------------------\n",
       " 1071077795037186 236.810202992035 ...  60.80552673339844  10.949932098388672\n",
       " 1071077795037187 236.813448650733 ... -73.37276458740234   3.889202117919922\n",
       " 1071077795037188 236.815120686376 ...        595948.8125  58.233619689941406\n",
       " 1071077795037189 236.816743563778 ...      242824.078125  30.377138137817383\n",
       " 1084271934570499 236.813448650733 ...  -68.5091781616211   4.588207721710205\n",
       "39633149604397504 236.811825811888 ...                0.0   3.580493211746216"
      ]
     },
     "execution_count": 24,
     "metadata": {},
     "output_type": "execute_result"
    }
   ],
   "source": [
    "PV_observed[PV_observed['SGA_ID']==1583]"
   ]
  },
  {
   "cell_type": "markdown",
   "id": "368821c7-139b-4516-ab1b-eaf3f5f6a1eb",
   "metadata": {},
   "source": [
    "Filter data with quality control cuts. Currently 3 different methods. Clean catalog, qual control & qual control clean catalog."
   ]
  },
  {
   "cell_type": "code",
   "execution_count": 25,
   "id": "dabc6330-ab4c-4986-9f24-e74f1e8055b8",
   "metadata": {},
   "outputs": [
    {
     "data": {
      "text/plain": [
       "6.25"
      ]
     },
     "execution_count": 25,
     "metadata": {},
     "output_type": "execute_result"
    }
   ],
   "source": [
    "# Testing Idea\n",
    "V_OBS = 5\n",
    "b = 3\n",
    "a = 5\n",
    "theta = np.arccos(b/a)\n",
    "V_ROT = V_OBS/np.sin(theta)\n",
    "V_ROT"
   ]
  },
  {
   "cell_type": "code",
   "execution_count": 26,
   "id": "ddd2f16c-5f27-463e-8316-cdc85b3d5ce3",
   "metadata": {},
   "outputs": [],
   "source": [
    "def firstdigit(n):\n",
    "    \"\"\"\n",
    "    * Return the first digit of a number\n",
    "    \n",
    "    Parameters\n",
    "    ----------\n",
    "    n : int, float, or ndarray\n",
    "        Number or list of numbers.\n",
    "    \n",
    "    Returns\n",
    "    -------\n",
    "    digit : int\n",
    "        First digit of the number.\n",
    "    \"\"\"\n",
    "    return np.trunc(n * 10**(-np.trunc(np.log10(n)))).astype(int)\n",
    "\n",
    "\n",
    "def separate(data, arms_isgoodz = False):\n",
    "    \"\"\"\n",
    "    * Separates the data for center observations and non-center observations\n",
    "    * Keep only good redshifts (ZWARN==0, DELTACHI2>=25) for center observations always\n",
    "    * Keep only good redshifts (ZWARN==0, DELTACHI2>=25) for non-center observations if arms_isgoodz = True\n",
    "    \n",
    "    Parameters\n",
    "    ----------\n",
    "    data : astropy.Table\n",
    "    \n",
    "    Returns\n",
    "    -------\n",
    "    centers: All center observations with only good redshifts\n",
    "    arms: All non-center observations. Depending on arms_isgoodz, redshift may be checked. \n",
    "    \"\"\"\n",
    "    \n",
    "    centers_idx = (data['TARGETID'] > 30000000000000000) & (data['TARGETID'] < 40000000000000000)\n",
    "    \n",
    "    # Identify targets with good redshifts.\n",
    "    isgoodz = (data['ZWARN']==0) & (data['DELTACHI2']>=25) & centers_idx\n",
    "    \n",
    "    centers = data[isgoodz]\n",
    "    \n",
    "    # Arms of galaxies\n",
    "    arms = data[~centers_idx] #~ causes the opposite effect for boolean\n",
    "    \n",
    "    if arms_isgoodz is True:\n",
    "        \n",
    "        isgoodz_arms = (data['ZWARN']==0) & (data['DELTACHI2']>=25) & ~centers_idx\n",
    "        arms = data[isgoodz_arms]\n",
    "\n",
    "    return centers, arms\n",
    "\n",
    "\n",
    "def clean_catalog(data):\n",
    "    \"\"\"\n",
    "    Take a catalog and apply quality cuts:\n",
    "    * Keep only good redshifts (ZWARN==0, DELTACHI2>=25)\n",
    "    * Ensure 1 main DESI TARGETID per SGA_ID\n",
    "    * Ensure >2 non-main distinct TARGETIDs per SGA_ID at different radii\n",
    "    \n",
    "    Parameters\n",
    "    ----------\n",
    "    data : astropy.Table\n",
    "    \n",
    "    Returns\n",
    "    -------\n",
    "    data_tf: astropy.Table or None\n",
    "        Data suitable for analysis, after quality cuts.\n",
    "    \"\"\"\n",
    "    # All targets\n",
    "    _ids_all, _counts_all = np.unique(data['SGA_ID'], return_counts=True)\n",
    "\n",
    "    # Identify targets with good redshifts.\n",
    "    isgoodz = (data['ZWARN']==0) & (data['DELTACHI2']>=25)\n",
    "    _ids_goodz, _counts_goodz = np.unique(data['SGA_ID'][isgoodz], return_counts=True)\n",
    "\n",
    "    # Select SGA_IDs with at least 2 good associated redshifts.\n",
    "    select = np.in1d(data['SGA_ID'], _ids_goodz[_counts_goodz > 1]) & isgoodz\n",
    "    data = data[select].group_by('SGA_ID')\n",
    "\n",
    "    # Storage for output.\n",
    "    data_tf = None\n",
    "\n",
    "    # Setup for progress bar\n",
    "    sga_ids = np.unique(data['SGA_ID'])\n",
    "    N = len(sga_ids)\n",
    "    \n",
    "    with tqdm_notebook(total=N) as progress_bar:\n",
    "        for i, sga_id in enumerate(sga_ids):\n",
    "            progress_bar.update(1)\n",
    "            tab = data[data['SGA_ID']==sga_id]\n",
    "\n",
    "            # MAIN targets have a TARGETID that starts with 3. Ensure one is present.\n",
    "            digits = firstdigit(tab['TARGETID'])\n",
    "            \n",
    "            if np.any(digits == 3):\n",
    "                \n",
    "                # Do we have observation at at least 2 different radii?\n",
    "                num_0p3 = np.sum((tab['SKY_TARGET_DIST_R26'] > 0.3) & (tab['SKY_TARGET_DIST_R26'] < 0.35))\n",
    "\n",
    "                num_0p6 = np.sum((tab['SKY_TARGET_DIST_R26'] > 0.6) & (tab['SKY_TARGET_DIST_R26'] < 0.7))\n",
    "\n",
    "                num_1 = np.sum(tab['SKY_TARGET_DIST_R26'] > 0.95)\n",
    "\n",
    "                check = [num_0p3 > 0, num_0p6 > 0, num_1 > 0]\n",
    "                if sum(check) > 1:\n",
    "                    if data_tf is None:                                                                                                                \n",
    "                        data_tf = tab\n",
    "                    else:\n",
    "                        data_tf = vstack([data_tf, tab])\n",
    "                else:\n",
    "                    continue\n",
    "            else:\n",
    "                continue\n",
    "\n",
    "    return data_tf\n",
    "\n",
    "\n",
    "def qual_control(data):\n",
    "    \"\"\"\n",
    "    Take a catalog and apply quality cuts:\n",
    "    * Ensure 1 main DESI TARGETID per SGA_ID with good redshift\n",
    "    * non_main TARGETIDs must have V_ROT < 1000km/s\n",
    "    * Ensure >2 non-main TARGETIDs per SGA_ID at different radii\n",
    "    * Does not check if off-center TARGETIDs have good redshift\n",
    "    \n",
    "    Parameters\n",
    "    ----------\n",
    "    data : astropy.Table\n",
    "    \n",
    "    Returns\n",
    "    -------\n",
    "    data_tf: astropy.Table or None\n",
    "        Data suitable for analysis, after quality cuts.\n",
    "    \"\"\"\n",
    "\n",
    "    # Storage for output.\n",
    "    data_tf = None\n",
    "    \n",
    "    # Setup for progress bar\n",
    "    sga_ids = np.unique(data['SGA_ID'])\n",
    "    N = len(sga_ids)\n",
    "\n",
    "    with tqdm_notebook(total=N) as progress_bar:\n",
    "        for i, sga_id in enumerate(sga_ids):\n",
    "            progress_bar.update(1)\n",
    "            \n",
    "            tab = PV_observed[data['SGA_ID'] == sga_id]\n",
    "\n",
    "            # MAIN targets have a TARGETID that starts with 3. Ensure one is present.\n",
    "            digits = firstdigit(tab['TARGETID'])\n",
    "\n",
    "            if np.any(digits == 3):\n",
    "\n",
    "                # Separating the data. arms_isgoodz = False. Only want centers checked for good z. \n",
    "                centers, arms = separate(tab, arms_isgoodz = False)\n",
    "\n",
    "                if len(centers) >0:\n",
    "\n",
    "                    # Do we have a good observation at at least 2 different radii?\n",
    "                    good_bool = np.abs(arms['V_ROT']) < 1000#*u.km/u.s\n",
    "\n",
    "                    arms = arms[good_bool]\n",
    "\n",
    "                    num_0p3 = np.sum((arms['SKY_TARGET_DIST_R26'] > 0.3) & (arms['SKY_TARGET_DIST_R26'] < 0.35))\n",
    "\n",
    "                    num_0p6 = np.sum((arms['SKY_TARGET_DIST_R26'] > 0.6) & (arms['SKY_TARGET_DIST_R26'] < 0.7))\n",
    "\n",
    "                    num_1 = np.sum(arms['SKY_TARGET_DIST_R26'] > 0.95)\n",
    "\n",
    "                    check = [num_0p3 > 0, num_0p6 > 0, num_1 > 0]\n",
    "\n",
    "                    if sum(check) > 1:\n",
    "\n",
    "                        full_data = vstack([centers, arms])\n",
    "\n",
    "                        if data_tf is None:                                                                                                                \n",
    "                            data_tf = full_data\n",
    "                        else:\n",
    "                            data_tf = vstack([data_tf, full_data])\n",
    "\n",
    "                \n",
    "    return data_tf\n",
    "\n",
    "\n",
    "def qual_control_clean_catalog(data):\n",
    "    \"\"\"\n",
    "    Take a catalog and apply quality cuts:\n",
    "    * Keep only good redshifts (ZWARN==0, DELTACHI2>=25) for all obervations\n",
    "    * Ensure 1 main DESI TARGETID per SGA_ID with good redshift.\n",
    "    * non_main TARGETIDs must have V_ROT < 1000km/s.\n",
    "    * Ensure >2 non-main TARGETIDs per SGA_ID at different radii. \n",
    "    \n",
    "    Parameters\n",
    "    ----------\n",
    "    data : astropy.Table\n",
    "    \n",
    "    Returns\n",
    "    -------\n",
    "    data_tf: astropy.Table or None\n",
    "        Data suitable for analysis, after quality cuts.\n",
    "    \"\"\"\n",
    "\n",
    "    # Storage for output.\n",
    "    data_tf = None\n",
    "    \n",
    "    # Setup for progress bar\n",
    "    sga_ids = np.unique(data['SGA_ID'])\n",
    "    N = len(sga_ids)\n",
    "\n",
    "    with tqdm_notebook(total=N) as progress_bar:\n",
    "        for i, sga_id in enumerate(sga_ids):\n",
    "            progress_bar.update(1)\n",
    "            tab = data[data['SGA_ID'] == sga_id]\n",
    "\n",
    "            # MAIN targets have a TARGETID that starts with 3. Ensure one is present.\n",
    "            digits = firstdigit(tab['TARGETID'])\n",
    "\n",
    "            if np.any(digits == 3):\n",
    "                # center observations\n",
    "                centers, arms = separate(tab, arms_isgoodz = True)\n",
    "\n",
    "                if len(centers) >0:\n",
    "\n",
    "                    # Do we have a good observation at at least 2 different radii?\n",
    "                    good_bool = np.abs(arms['V_ROT']) < 1000#*u.km/u.s\n",
    "\n",
    "                    arms = arms[good_bool]\n",
    "\n",
    "                    num_0p3 = np.sum((arms['SKY_TARGET_DIST_R26'] > 0.3) & (arms['SKY_TARGET_DIST_R26'] < 0.35))\n",
    "\n",
    "                    num_0p6 = np.sum((arms['SKY_TARGET_DIST_R26'] > 0.6) & (arms['SKY_TARGET_DIST_R26'] < 0.7))\n",
    "\n",
    "                    num_1 = np.sum(arms['SKY_TARGET_DIST_R26'] > 0.95)\n",
    "\n",
    "                    check = [num_0p3 > 0, num_0p6 > 0, num_1 > 0]\n",
    "\n",
    "                    if sum(check) > 1:\n",
    "\n",
    "                        full_data = vstack([centers, arms])\n",
    "\n",
    "                        if data_tf is None:                                                                                                                \n",
    "                            data_tf = full_data\n",
    "                        else:\n",
    "                            data_tf = vstack([data_tf, full_data])\n",
    "                    \n",
    "                \n",
    "    return data_tf"
   ]
  },
  {
   "cell_type": "code",
   "execution_count": 27,
   "id": "00ddeb3b-5180-42c9-bfe5-b4f0efc3c31a",
   "metadata": {},
   "outputs": [
    {
     "data": {
      "application/vnd.jupyter.widget-view+json": {
       "model_id": "cfda4b9815264107803dd0e750e3b632",
       "version_major": 2,
       "version_minor": 0
      },
      "text/plain": [
       "  0%|          | 0/1372 [00:00<?, ?it/s]"
      ]
     },
     "metadata": {},
     "output_type": "display_data"
    },
    {
     "name": "stdout",
     "output_type": "stream",
     "text": [
      "Clean catalog completes the following: \n",
      "ZWARN==0 & DELTCHACHI^2 >=25 for all observations. \n",
      "& Checks for observations at atleast two different radii.\n",
      "The Original number of unique SGA IDs: 4524\n",
      "Number of SGA IDs after clean catalog: 303\n",
      "Percentage remaining: 6.70%\n"
     ]
    },
    {
     "data": {
      "application/vnd.jupyter.widget-view+json": {
       "model_id": "7af588c49826488fb488dac7642e906d",
       "version_major": 2,
       "version_minor": 0
      },
      "text/plain": [
       "  0%|          | 0/4524 [00:00<?, ?it/s]"
      ]
     },
     "metadata": {},
     "output_type": "display_data"
    },
    {
     "name": "stdout",
     "output_type": "stream",
     "text": [
      "Quality control completes the following: \n",
      "ZWARN==0 & DELTCHACHI^2 >=25 only for center observations \n",
      "rotational velocity < 1000km/s for non-center observations\n",
      "& Checks for observations at atleast two different radii\n",
      "The Original number of unique SGA IDs: 4524\n",
      "Number of SGA IDs after quality control: 359\n",
      "Percentage remaining: 7.94%\n"
     ]
    },
    {
     "data": {
      "application/vnd.jupyter.widget-view+json": {
       "model_id": "9d98bd2f5d8949b29f4df95346efcebd",
       "version_major": 2,
       "version_minor": 0
      },
      "text/plain": [
       "  0%|          | 0/4524 [00:00<?, ?it/s]"
      ]
     },
     "metadata": {},
     "output_type": "display_data"
    },
    {
     "name": "stdout",
     "output_type": "stream",
     "text": [
      "Quality control clean catalog completes the following: \n",
      "ZWARN==0 & DELTCHACHI^2 >=25 for all observations \n",
      "rotational velocity < 1000km/s for non-center observations\n",
      "& Checks for observations at atleast two different radii\n",
      "The Original number of unique SGA IDs: 4524\n",
      "Number of SGA IDs after quality control clean catalog: 239\n",
      "Percentage remaining: 5.28%\n"
     ]
    }
   ],
   "source": [
    "warnings.filterwarnings(\"ignore\", category=RuntimeWarning)\n",
    "\n",
    "PV_observed_clean_catalog = clean_catalog(PV_observed)\n",
    "length_PV = len(np.unique(PV_observed['SGA_ID']))\n",
    "length_clean_catalog = len(np.unique(PV_observed_clean_catalog['SGA_ID']))\n",
    "percentage_clean_catalog = length_clean_catalog*100/length_PV\n",
    "print(\"Clean catalog completes the following: \\nZWARN==0 & DELTCHACHI^2 >=25 for all observations. \\n& Checks for observations at atleast two different radii.\"\n",
    "      \"\\nThe Original number of unique SGA IDs: {}\"\n",
    "      \"\\nNumber of SGA IDs after clean catalog: {}\"\n",
    "      \"\\nPercentage remaining: {:.2f}%\"\n",
    "      .format(length_PV, length_clean_catalog, percentage_clean_catalog))\n",
    "\n",
    "\n",
    "PV_observed_qual_control = qual_control(PV_observed)\n",
    "length_PV = len(np.unique(PV_observed['SGA_ID']))\n",
    "length_qual_control = len(np.unique(PV_observed_qual_control['SGA_ID']))\n",
    "percentage_qual_control = length_qual_control*100/length_PV\n",
    "print(\"Quality control completes the following: \\nZWARN==0 & DELTCHACHI^2 >=25 only for center observations \\nrotational velocity < 1000km/s for non-center observations\"\n",
    "      \"\\n& Checks for observations at atleast two different radii\"\n",
    "      \"\\nThe Original number of unique SGA IDs: {}\"\n",
    "      \"\\nNumber of SGA IDs after quality control: {}\"\n",
    "      \"\\nPercentage remaining: {:.2f}%\"\n",
    "      .format(length_PV, length_qual_control, percentage_qual_control))\n",
    "\n",
    "\n",
    "PV_observed_qual_control_clean_catalog = qual_control_clean_catalog(PV_observed)\n",
    "length_PV = len(np.unique(PV_observed['SGA_ID']))\n",
    "length_qual_control_clean_catalog = len(np.unique(PV_observed_qual_control_clean_catalog['SGA_ID']))\n",
    "percentage_qual_control_clean_catalog = length_qual_control_clean_catalog*100/length_PV\n",
    "print(\"Quality control clean catalog completes the following: \\nZWARN==0 & DELTCHACHI^2 >=25 for all observations \\nrotational velocity < 1000km/s for non-center observations\"\n",
    "      \"\\n& Checks for observations at atleast two different radii\"\n",
    "      \"\\nThe Original number of unique SGA IDs: {}\"\n",
    "      \"\\nNumber of SGA IDs after quality control clean catalog: {}\"\n",
    "      \"\\nPercentage remaining: {:.2f}%\"\n",
    "      .format(length_PV, length_qual_control_clean_catalog, percentage_qual_control_clean_catalog))"
   ]
  },
  {
   "cell_type": "markdown",
   "id": "a23c3081-d058-4a3c-83d9-6e98aeb209c7",
   "metadata": {},
   "source": [
    "Create a list of TARGETIDs so that you can inspect the spectra using prospect.\n",
    "Prospect is used externally to this python script, using the Terminal."
   ]
  },
  {
   "cell_type": "markdown",
   "id": "9f847e50-5c2f-4728-8c78-fcdb57c89d8d",
   "metadata": {},
   "source": [
    "The TARGETIDS we will inspect will be from the SGA_IDs that are found in quality control but not in quality control clean catalog"
   ]
  },
  {
   "cell_type": "code",
   "execution_count": 28,
   "id": "5cc6cb2b-43ee-48d8-974f-a5548f9ec040",
   "metadata": {},
   "outputs": [],
   "source": [
    "sdiff = setdiff(PV_observed_qual_control, PV_observed_qual_control_clean_catalog, keys = ['SGA_ID'])"
   ]
  },
  {
   "cell_type": "code",
   "execution_count": 29,
   "id": "b30fd77e-de0b-4441-96df-155d407e309e",
   "metadata": {},
   "outputs": [
    {
     "data": {
      "text/plain": [
       "514"
      ]
     },
     "execution_count": 29,
     "metadata": {},
     "output_type": "execute_result"
    }
   ],
   "source": [
    "len(sdiff['TARGETID'])"
   ]
  },
  {
   "cell_type": "code",
   "execution_count": 30,
   "id": "4f6818f1-02e1-4bb7-8eff-3bdd473c5b9f",
   "metadata": {},
   "outputs": [],
   "source": [
    "def create_list_targetids(filename, data, filetype, separate=False):\n",
    "    \"\"\"\n",
    "    Creates a fits or txt files of the targetid names. \n",
    "    If separate=True, the targetids will be separated by \" separate_by \" \n",
    "    At least one is required to run prospect. \n",
    "    \n",
    "    Parameters\n",
    "    ----------\n",
    "    data : astropy.Table\n",
    "    filename: The beggining of the exported new filename\n",
    "    filetype: Do you want a fits file or txt file?\n",
    "    separate: if True, can create several files separated by a column\n",
    "    \n",
    "    Returns\n",
    "    -------\n",
    "    Creates a fits file or txt file with list of targetids.\n",
    "    \"\"\"\n",
    "    if separate == True:\n",
    "        colname = str(input(\"What would you like to separate by?\")).upper()\n",
    "        \n",
    "        for separate_by in np.unique(data[f'{colname}']):\n",
    "\n",
    "            PV_data = data[data[f'{colname}']==separate_by]\n",
    "            TARGETIDS = []\n",
    "            for target_id in np.unique(PV_data['TARGETID']):\n",
    "                TARGETIDS.append(target_id)\n",
    "\n",
    "            # Ensuring the data is the correct type  \n",
    "            TARGETIDS = np.array(TARGETIDS, dtype = np.int64)\n",
    "\n",
    "            if filetype == 'fits':\n",
    "                # Creating the fits file. Two different ways of doing it\n",
    "                \"\"\"hdu = fits.PrimaryHDU(TARGETIDS)\n",
    "                hdu.writeto(f'{filename}_{healpix}.fits', overwrite=True)\"\"\"\n",
    "                t = Table([TARGETIDS], names=('TARGETID',), \n",
    "                          meta={'name': f'TARGETID table TF FUJI {colname} separated. {colname} {separate_by}'})\n",
    "                t.write(f'{filename}_{colname}_{separate_by}.fits', format = 'fits', overwrite=True)\n",
    "            else:\n",
    "                # Creating txt file\n",
    "                np.savetxt(f'{filename}_{colname}_{separate_by}.txt', TARGETIDS, delimiter = ',', fmt = '%d')\n",
    "    \n",
    "    else:\n",
    "        TARGETIDS = []\n",
    "        for target_id in np.unique(data['TARGETID']):\n",
    "            TARGETIDS.append(target_id)\n",
    "\n",
    "        # Ensuring the data is the correct type  \n",
    "        TARGETIDS = np.array(TARGETIDS, dtype = np.int64)\n",
    "\n",
    "        if filetype == 'fits':\n",
    "            # Creating the fits file. Two different ways of doing it\n",
    "            \"\"\"hdu = fits.PrimaryHDU(TARGETIDS)\n",
    "            hdu.writeto(f'{filename}.fits', overwrite=True)\"\"\"\n",
    "            t = Table([TARGETIDS], names=('TARGETID',), meta={'name': f'TARGETID table after quality cuts TF FUJI HEALPIX'})\n",
    "            t.write(f'{filename}.fits', format = 'fits', overwrite=True)\n",
    "        else:\n",
    "            # Creating txt file\n",
    "            np.savetxt(f'{filename}.txt', TARGETIDS, delimiter = ',', fmt = '%d')\n",
    "    \n",
    "    # No return"
   ]
  },
  {
   "cell_type": "code",
   "execution_count": 31,
   "id": "47971d42-89ad-4649-a8c7-b87599bd3e80",
   "metadata": {},
   "outputs": [],
   "source": [
    "# When you run this code with separate=True, you may have hundreds of files appear in your directory (depending on the length of unique healpix).\n",
    "# To move all files into a given directory, e.g. if you create a new folder to store all this data, \n",
    "# use your Linux terminal and run \" mv filename* foldername/ \". Where, of course, filename and foldername is dependent on what you choose. \n",
    "\n",
    "#create_list_targetids(filename = 'fujitargetids', data = sdiff, filetype = 'fits')\n",
    "#create_list_targetids(filename = 'fujitargetids', data = sdiff, filetype = 'fits', separate=True)"
   ]
  },
  {
   "cell_type": "markdown",
   "id": "0c377972-1ceb-4384-8c31-6527393de85c",
   "metadata": {},
   "source": [
    "Creating a table of 6 galaxies that follow the criteria:"
   ]
  },
  {
   "cell_type": "markdown",
   "id": "8e172039-eca2-4962-ae68-09b3eea5e0f2",
   "metadata": {},
   "source": [
    "2 with at least one observation that I have removed through visual inspection => Chosen galaxies: 128411, 1014959"
   ]
  },
  {
   "cell_type": "markdown",
   "id": "e5f141d8-463d-4a0a-843f-8d42b2e550e7",
   "metadata": {},
   "source": [
    "2 that I have inspected and were good with (no observations removed) => Chosen galaxies: 649753, 957850"
   ]
  },
  {
   "cell_type": "markdown",
   "id": "64be4157-cf20-42f0-9955-3055fd31fde6",
   "metadata": {},
   "source": [
    "2 that I did not visually inspect (i.e. in this case, any galaxies that can be found in quality control clean catalog) => Chosen galaxies: 5958, 9769"
   ]
  },
  {
   "cell_type": "code",
   "execution_count": 32,
   "id": "09d3fdc2-474e-4118-8e68-75a2aa252278",
   "metadata": {},
   "outputs": [],
   "source": [
    "inspectSix = vstack([sdiff[sdiff['SGA_ID']==128411],sdiff[sdiff['SGA_ID']==1014959],\n",
    "                     sdiff[sdiff['SGA_ID']==649753],sdiff[sdiff['SGA_ID']==957850],\n",
    "                     PV_observed_qual_control_clean_catalog[PV_observed_qual_control_clean_catalog['SGA_ID']==5958], \n",
    "                     PV_observed_qual_control_clean_catalog[PV_observed_qual_control_clean_catalog['SGA_ID']==9769]])"
   ]
  },
  {
   "cell_type": "code",
   "execution_count": 33,
   "id": "fca016e5-6caf-4bc0-9cc4-a22b87ba82e9",
   "metadata": {},
   "outputs": [
    {
     "data": {
      "text/html": [
       "<div><i>QTable length=38</i>\n",
       "<table id=\"table23454859147008\" class=\"table-striped table-bordered table-condensed\">\n",
       "<thead><tr><th>TARGETID</th><th>TARGET_RA</th><th>TARGET_DEC</th><th>HEALPIX</th><th>SURVEY</th><th>Z</th><th>ZERR</th><th>ZWARN</th><th>DELTACHI2</th><th>FILENAME</th><th>PVTYPE</th><th>SGA_ID</th><th>RA</th><th>DEC</th><th>SKY_TARGET_DIST</th><th>SKY_TARGET_DIST_R26</th><th>V_ROT</th><th>V_ROT_ERR</th><th>V_ROT_CORRECTED</th><th>V_ROT_CORRECTED_ERR</th></tr></thead>\n",
       "<thead><tr><th>int64</th><th>float64</th><th>float64</th><th>int64</th><th>str3</th><th>float64</th><th>float64</th><th>int64</th><th>float64</th><th>str63</th><th>str3</th><th>int64</th><th>float64</th><th>float64</th><th>float64</th><th>float64</th><th>float64</th><th>float64</th><th>float64</th><th>float64</th></tr></thead>\n",
       "<tr><td>39627764160004705</td><td>214.025252709124</td><td>-0.935760567897302</td><td>25919</td><td>sv3</td><td>0.0485263070443127</td><td>6.53684723110593e-06</td><td>0</td><td>1443.31502208114</td><td>fuji/healpix/sv3/bright/259/25919/redrock-sv3-bright-25919.fits</td><td>TFT</td><td>128411</td><td>214.02525270912395</td><td>-0.935760567897302</td><td>5.683583789116346e-14</td><td>1.1100929985419138e-11</td><td>0.0</td><td>2.7714307812114405</td><td>0.0</td><td>3.2819559574127197</td></tr>\n",
       "<tr><td>1070090397155333</td><td>214.023568142683</td><td>-0.935893415541014</td><td>25919</td><td>sv3</td><td>0.0482358999124701</td><td>3.07122310080213e-06</td><td>0</td><td>3176.71451103687</td><td>fuji/healpix/sv3/bright/259/25919/redrock-sv3-bright-25919.fits</td><td>TFT</td><td>128411</td><td>214.0235681426827</td><td>-0.9358934155410142</td><td>0.00168957261221528</td><td>0.33000001353722636</td><td>-87.06186787582276</td><td>2.1652152643663194</td><td>-103.09953308105469</td><td>2.5640695095062256</td></tr>\n",
       "<tr><td>1070090397155334</td><td>214.026937275438</td><td>-0.935627719444832</td><td>25919</td><td>sv3</td><td>0.0488702617998312</td><td>5.71509259350907e-06</td><td>0</td><td>851.555155038834</td><td>fuji/healpix/sv3/bright/259/25919/redrock-sv3-bright-25919.fits</td><td>TFT</td><td>128411</td><td>214.0269372754376</td><td>-0.9356277194448321</td><td>0.001689572612904477</td><td>0.3300000136718373</td><td>103.1150415976809</td><td>2.603066253239709</td><td>122.10986328125</td><td>3.0825769901275635</td></tr>\n",
       "<tr><td>1070090397155335</td><td>214.028672889082</td><td>-0.935490844435912</td><td>25919</td><td>sv3</td><td>0.0489286645115418</td><td>2.34280657667982e-05</td><td>4</td><td>8.05773237999529</td><td>fuji/healpix/sv3/bright/259/25919/redrock-sv3-bright-25919.fits</td><td>TFT</td><td>128411</td><td>214.02867288908186</td><td>-0.9354908444359118</td><td>0.0034303443952182935</td><td>0.6700000276254169</td><td>120.62373409526683</td><td>7.291829204902645</td><td>142.8438262939453</td><td>8.63505744934082</td></tr>\n",
       "<tr><td>1070090397155336</td><td>214.030357455136</td><td>-0.935357994341772</td><td>25919</td><td>sv3</td><td>0.0453077962849345</td><td>6.73368196453123e-05</td><td>4</td><td>4.39655282971216</td><td>fuji/healpix/sv3/bright/259/25919/redrock-sv3-bright-25919.fits</td><td>TFT</td><td>128411</td><td>214.03035745513648</td><td>-0.9353579943417718</td><td>0.005119917007069316</td><td>1.000000041091498</td><td>-964.8852516534371</td><td>20.28196826592383</td><td>-1142.6268310546875</td><td>24.018110275268555</td></tr>\n",
       "<tr><td>1083284536688645</td><td>214.023568142683</td><td>-0.935893415541014</td><td>25919</td><td>sv3</td><td>0.0482352425134845</td><td>3.27048481328252e-06</td><td>0</td><td>2408.23476198316</td><td>fuji/healpix/sv3/dark/259/25919/redrock-sv3-dark-25919.fits</td><td>TFT</td><td>128411</td><td>214.0235681426827</td><td>-0.9358934155410142</td><td>0.00168957261221528</td><td>0.33000001353722636</td><td>-87.2589511336012</td><td>2.1912848286164346</td><td>-103.33292388916016</td><td>2.5949416160583496</td></tr>\n",
       "<tr><td>39632966917297213</td><td>253.563390098912</td><td>34.2959151073882</td><td>9341</td><td>sv3</td><td>0.14820835204299</td><td>2.60080019048308e-05</td><td>0</td><td>992.308682422154</td><td>fuji/healpix/sv3/bright/93/9341/redrock-sv3-bright-9341.fits</td><td>TFT</td><td>1014959</td><td>253.563390098912</td><td>34.295915107388225</td><td>3.2357432506959405e-14</td><td>8.556383566419398e-12</td><td>0.0</td><td>11.026627132092115</td><td>0.0</td><td>12.251606941223145</td></tr>\n",
       "<tr><td>1070895107932162</td><td>253.562643905943</td><td>34.2970001727965</td><td>9341</td><td>sv3</td><td>0.148888876724392</td><td>2.14740586097062e-05</td><td>0</td><td>32.8278824463487</td><td>fuji/healpix/sv3/bright/93/9341/redrock-sv3-bright-9341.fits</td><td>TFT</td><td>1014959</td><td>253.562643905943</td><td>34.297000172796515</td><td>0.0012479516742623798</td><td>0.3300000145267273</td><td>204.01616696717429</td><td>10.111281681928723</td><td>226.680908203125</td><td>11.234572410583496</td></tr>\n",
       "<tr><td>1070895107932163</td><td>253.564136272605</td><td>34.2948300374563</td><td>9341</td><td>sv3</td><td>0.147323524320263</td><td>1.84627218728348e-05</td><td>0</td><td>152.543000355363</td><td>fuji/healpix/sv3/bright/93/9341/redrock-sv3-bright-9341.fits</td><td>TFT</td><td>1014959</td><td>253.56413627260466</td><td>34.294830037456286</td><td>0.001247951674374956</td><td>0.33000001455649614</td><td>-265.264677902868</td><td>9.561867462857002</td><td>-294.7336730957031</td><td>10.624122619628906</td></tr>\n",
       "<tr><td>1084089247465473</td><td>253.561875080903</td><td>34.2981181142431</td><td>9341</td><td>sv3</td><td>0.148893723146272</td><td>2.43719679355386e-05</td><td>0</td><td>20.000829257071</td><td>fuji/healpix/sv3/dark/93/9341/redrock-sv3-dark-9341.fits</td><td>TFT</td><td>1014959</td><td>253.56187508090315</td><td>34.29811811424306</td><td>0.002533720066008737</td><td>0.6700000295153649</td><td>205.46908769508624</td><td>10.685441748486385</td><td>228.29522705078125</td><td>11.872517585754395</td></tr>\n",
       "<tr><td>...</td><td>...</td><td>...</td><td>...</td><td>...</td><td>...</td><td>...</td><td>...</td><td>...</td><td>...</td><td>...</td><td>...</td><td>...</td><td>...</td><td>...</td><td>...</td><td>...</td><td>...</td><td>...</td><td>...</td></tr>\n",
       "<tr><td>1084416046661637</td><td>215.885334574801</td><td>52.9217643573055</td><td>11428</td><td>sv3</td><td>0.105866777475277</td><td>6.80466239824065e-06</td><td>0</td><td>679.269528090954</td><td>fuji/healpix/sv3/dark/114/11428/redrock-sv3-dark-11428.fits</td><td>TFT</td><td>5958</td><td>215.8853345748006</td><td>52.921764357305484</td><td>0.003335712951569601</td><td>1.0000000304210117</td><td>24.769004336607072</td><td>2.440024423226481</td><td>61.95862579345703</td><td>6.103618621826172</td></tr>\n",
       "<tr><td>39633123134144866</td><td>235.854827529683</td><td>42.4092334758449</td><td>9920</td><td>sv3</td><td>0.100715314810539</td><td>5.53082087531626e-06</td><td>0</td><td>2431.248454988</td><td>fuji/healpix/sv3/bright/99/9920/redrock-sv3-bright-9920.fits</td><td>TFT</td><td>9769</td><td>235.85482752968306</td><td>42.40923347584494</td><td>7.711084237748106e-14</td><td>2.2312824111600804e-11</td><td>0.0</td><td>2.3449052237717645</td><td>0.0</td><td>2.870023727416992</td></tr>\n",
       "<tr><td>1071051324784641</td><td>235.851693978453</td><td>42.4093249147925</td><td>9920</td><td>sv3</td><td>0.100201776886657</td><td>9.78133846256005e-06</td><td>0</td><td>189.699364632368</td><td>fuji/healpix/sv3/bright/99/9920/redrock-sv3-bright-9920.fits</td><td>TFT</td><td>9769</td><td>235.85169397845291</td><td>42.40932491479248</td><td>0.0023154516124742138</td><td>0.6700000022713705</td><td>-153.95479647679963</td><td>3.3686930506567894</td><td>-188.4314727783203</td><td>4.123079299926758</td></tr>\n",
       "<tr><td>1071051324784642</td><td>235.85328413992</td><td>42.4092785236034</td><td>9920</td><td>sv3</td><td>0.100240600585874</td><td>1.00010517119513e-05</td><td>0</td><td>233.170672446489</td><td>fuji/healpix/sv3/bright/99/9920/redrock-sv3-bright-9920.fits</td><td>TFT</td><td>9769</td><td>235.8532841399204</td><td>42.40927852360338</td><td>0.001140446316924055</td><td>0.33000000121488277</td><td>-142.3157442598834</td><td>3.4261833874065912</td><td>-174.18597412109375</td><td>4.193443775177002</td></tr>\n",
       "<tr><td>1071051324784643</td><td>235.856370917228</td><td>42.4091884073841</td><td>9920</td><td>sv3</td><td>0.10122646633239</td><td>7.08585241496222e-06</td><td>0</td><td>441.272902011871</td><td>fuji/healpix/sv3/bright/99/9920/redrock-sv3-bright-9920.fits</td><td>TFT</td><td>9769</td><td>235.85637091722845</td><td>42.40918840738415</td><td>0.001140446316269851</td><td>0.33000000102558213</td><td>153.23937114615444</td><td>2.6947870961272455</td><td>187.5558319091797</td><td>3.2982583045959473</td></tr>\n",
       "<tr><td>1071051324784644</td><td>235.857961071773</td><td>42.4091419515596</td><td>9920</td><td>sv3</td><td>0.101273499294014</td><td>1.23624569123534e-05</td><td>0</td><td>114.85038086772</td><td>fuji/healpix/sv3/bright/99/9920/redrock-sv3-bright-9920.fits</td><td>TFT</td><td>9769</td><td>235.8579610717732</td><td>42.40914195155963</td><td>0.0023154516123650663</td><td>0.6700000022397875</td><td>167.33949831843043</td><td>4.060171953293992</td><td>204.81353759765625</td><td>4.96940803527832</td></tr>\n",
       "<tr><td>1084245464317953</td><td>235.851693978453</td><td>42.4093249147925</td><td>9920</td><td>sv3</td><td>0.100202913894793</td><td>8.95011975597833e-06</td><td>0</td><td>302.646294236183</td><td>fuji/healpix/sv3/dark/99/9920/redrock-sv3-dark-9920.fits</td><td>TFT</td><td>9769</td><td>235.85169397845291</td><td>42.40932491479248</td><td>0.0023154516124742138</td><td>0.6700000022713705</td><td>-153.61393001294513</td><td>3.154161788183798</td><td>-188.0142822265625</td><td>3.8605053424835205</td></tr>\n",
       "<tr><td>1084245464317954</td><td>235.85328413992</td><td>42.4092785236034</td><td>9920</td><td>sv3</td><td>0.100253068360977</td><td>4.1430028419767e-06</td><td>0</td><td>1346.31411015987</td><td>fuji/healpix/sv3/dark/99/9920/redrock-sv3-dark-9920.fits</td><td>TFT</td><td>9769</td><td>235.8532841399204</td><td>42.40927852360338</td><td>0.001140446316924055</td><td>0.33000000121488277</td><td>-138.57799931596446</td><td>2.0717036741707298</td><td>-169.61119079589844</td><td>2.5356414318084717</td></tr>\n",
       "<tr><td>1084245464317955</td><td>235.856370917228</td><td>42.4091884073841</td><td>9920</td><td>sv3</td><td>0.101210039415684</td><td>4.92721427110071e-06</td><td>0</td><td>930.727936625481</td><td>fuji/healpix/sv3/dark/99/9920/redrock-sv3-dark-9920.fits</td><td>TFT</td><td>9769</td><td>235.85637091722845</td><td>42.40918840738415</td><td>0.001140446316269851</td><td>0.33000000102558213</td><td>148.31470540950065</td><td>2.2206390497838306</td><td>181.52835083007812</td><td>2.7179293632507324</td></tr>\n",
       "<tr><td>1084245464317956</td><td>235.857961071773</td><td>42.4091419515596</td><td>9920</td><td>sv3</td><td>0.101265358535057</td><td>9.07934508241677e-06</td><td>0</td><td>302.720003396273</td><td>fuji/healpix/sv3/dark/99/9920/redrock-sv3-dark-9920.fits</td><td>TFT</td><td>9769</td><td>235.8579610717732</td><td>42.40914195155963</td><td>0.0023154516123650663</td><td>0.6700000022397875</td><td>164.89896018072645</td><td>3.1871828113259464</td><td>201.8264617919922</td><td>3.90092134475708</td></tr>\n",
       "</table></div>"
      ],
      "text/plain": [
       "<QTable length=38>\n",
       "     TARGETID        TARGET_RA     ...   V_ROT_CORRECTED   V_ROT_CORRECTED_ERR\n",
       "      int64           float64      ...       float64             float64      \n",
       "----------------- ---------------- ... ------------------- -------------------\n",
       "39627764160004705 214.025252709124 ...                 0.0  3.2819559574127197\n",
       " 1070090397155333 214.023568142683 ... -103.09953308105469  2.5640695095062256\n",
       " 1070090397155334 214.026937275438 ...     122.10986328125  3.0825769901275635\n",
       " 1070090397155335 214.028672889082 ...   142.8438262939453    8.63505744934082\n",
       " 1070090397155336 214.030357455136 ... -1142.6268310546875  24.018110275268555\n",
       " 1083284536688645 214.023568142683 ... -103.33292388916016  2.5949416160583496\n",
       "39632966917297213 253.563390098912 ...                 0.0  12.251606941223145\n",
       " 1070895107932162 253.562643905943 ...    226.680908203125  11.234572410583496\n",
       " 1070895107932163 253.564136272605 ...  -294.7336730957031  10.624122619628906\n",
       " 1084089247465473 253.561875080903 ...  228.29522705078125  11.872517585754395\n",
       "              ...              ... ...                 ...                 ...\n",
       " 1084416046661637 215.885334574801 ...   61.95862579345703   6.103618621826172\n",
       "39633123134144866 235.854827529683 ...                 0.0   2.870023727416992\n",
       " 1071051324784641 235.851693978453 ...  -188.4314727783203   4.123079299926758\n",
       " 1071051324784642  235.85328413992 ... -174.18597412109375   4.193443775177002\n",
       " 1071051324784643 235.856370917228 ...   187.5558319091797  3.2982583045959473\n",
       " 1071051324784644 235.857961071773 ...  204.81353759765625    4.96940803527832\n",
       " 1084245464317953 235.851693978453 ...  -188.0142822265625  3.8605053424835205\n",
       " 1084245464317954  235.85328413992 ... -169.61119079589844  2.5356414318084717\n",
       " 1084245464317955 235.856370917228 ...  181.52835083007812  2.7179293632507324\n",
       " 1084245464317956 235.857961071773 ...   201.8264617919922    3.90092134475708"
      ]
     },
     "execution_count": 33,
     "metadata": {},
     "output_type": "execute_result"
    }
   ],
   "source": [
    "inspectSix[:]"
   ]
  },
  {
   "cell_type": "markdown",
   "id": "b616e2b1-84c3-4b77-a591-d0fe39f4a524",
   "metadata": {},
   "source": [
    "Show Data"
   ]
  },
  {
   "cell_type": "code",
   "execution_count": 34,
   "id": "6438fe2b-c4c7-4d1d-845e-24a029b7fd12",
   "metadata": {},
   "outputs": [],
   "source": [
    "def plot_graphs(data):\n",
    "    \"\"\"\n",
    "    Plot the graphs for a given data table\n",
    "    \n",
    "    Parameters\n",
    "    ----------\n",
    "    data : astropy.Table\n",
    "    \n",
    "    \"\"\"\n",
    "    # Setup for progress bar\n",
    "    sga_gal = np.unique(data['SGA_ID'])\n",
    "    N = len(sga_gal)\n",
    "\n",
    "    with tqdm_notebook(total=N) as progress_bar:\n",
    "        for i, sga_gal in enumerate(sga_gal):\n",
    "            progress_bar.update(1)\n",
    "            \n",
    "            PV_SGA = data[data['SGA_ID']==sga_gal]\n",
    "            plt.figure()\n",
    "            plt.title(f\"SGA ID: {sga_gal}\")\n",
    "            plt.xlim((-0.1, 1.1))\n",
    "            plt.xlabel('Distance from galaxy center [R(26)]')\n",
    "            plt.ylabel('$V_{rot}$ [km/s]')\n",
    "            plt.tight_layout()\n",
    "            plt.plot(0,0, \"mo\")\n",
    "            plt.errorbar(PV_SGA['SKY_TARGET_DIST_R26'], np.abs(PV_SGA['V_ROT_CORRECTED']), yerr=PV_SGA['V_ROT_CORRECTED_ERR'].data, fmt='o')"
   ]
  },
  {
   "cell_type": "code",
   "execution_count": 35,
   "id": "cc30470c-2c10-482b-9161-354e54b45c6f",
   "metadata": {},
   "outputs": [
    {
     "data": {
      "application/vnd.jupyter.widget-view+json": {
       "model_id": "511e38bed0624fb2984d017d47d1bdc7",
       "version_major": 2,
       "version_minor": 0
      },
      "text/plain": [
       "  0%|          | 0/6 [00:00<?, ?it/s]"
      ]
     },
     "metadata": {},
     "output_type": "display_data"
    },
    {
     "data": {
      "image/png": "[encoded data removed]",
      "text/plain": [
       "<Figure size 432x288 with 1 Axes>"
      ]
     },
     "metadata": {
      "needs_background": "light"
     },
     "output_type": "display_data"
    },
    {
     "data": {
      "image/png": "[encoded data removed]",
      "text/plain": [
       "<Figure size 432x288 with 1 Axes>"
      ]
     },
     "metadata": {
      "needs_background": "light"
     },
     "output_type": "display_data"
    },
    {
     "data": {
      "image/png": "[encoded data removed]",
      "text/plain": [
       "<Figure size 432x288 with 1 Axes>"
      ]
     },
     "metadata": {
      "needs_background": "light"
     },
     "output_type": "display_data"
    },
    {
     "data": {
      "image/png": "[encoded data removed]",
      "text/plain": [
       "<Figure size 432x288 with 1 Axes>"
      ]
     },
     "metadata": {
      "needs_background": "light"
     },
     "output_type": "display_data"
    },
    {
     "data": {
      "image/png": "[encoded data removed]",
      "text/plain": [
       "<Figure size 432x288 with 1 Axes>"
      ]
     },
     "metadata": {
      "needs_background": "light"
     },
     "output_type": "display_data"
    },
    {
     "data": {
      "image/png": "[encoded data removed]",
      "text/plain": [
       "<Figure size 432x288 with 1 Axes>"
      ]
     },
     "metadata": {
      "needs_background": "light"
     },
     "output_type": "display_data"
    }
   ],
   "source": [
    "plot_graphs(inspectSix)\n",
    "# It looks like 128411 might have an outlier right at the end which is heavily affecting the plot"
   ]
  },
  {
   "cell_type": "code",
   "execution_count": 86,
   "id": "043cd55f-2e74-44e2-85b2-66201113af24",
   "metadata": {},
   "outputs": [],
   "source": [
    "#Taken from KADGLAS dark_matter_mass_v1.py\n",
    "\n",
    "def rot_fit_tanh(radius, params):\n",
    "    \"\"\"\n",
    "    Function to fit the rotation curve data to.\n",
    "    PARAMETERS\n",
    "    ==========\n",
    "    \n",
    "    radius : float\n",
    "        radius of given data point\n",
    "    v_max : float\n",
    "        The maximum velocity (or in the case of fitting the negative, the\n",
    "        absolute value of the minimum velocity) parameter of the rotation curve \n",
    "        equation\n",
    "    r_turn : float\n",
    "        The radius at which the rotation curve trasitions from increasing to \n",
    "        flat-body for the rotation curve equation (given in kpc)\n",
    "    RETURNS\n",
    "    =======\n",
    "        \n",
    "    The rotation curve equation with the given '@param' parameters and\n",
    "    'radius' data\n",
    "    \"\"\"\n",
    "\n",
    "    v_max, r_turn = params\n",
    "\n",
    "    return v_max * np.tanh(radius/r_turn)\n"
   ]
  },
  {
   "cell_type": "code",
   "execution_count": 263,
   "id": "97ed22c4-8807-4656-9484-dce5ec0dabb0",
   "metadata": {},
   "outputs": [],
   "source": [
    "def loglikelihood(params, radius, v_rot, v_rot_err):\n",
    "    \n",
    "    v = rot_fit_tanh(radius, params)\n",
    "    v[v <= 0] = np.finfo( dtype=np.float64).tiny\n",
    "        \n",
    "    return -0.5*np.sum( ((v_rot - v)/v_rot_err)**2 + np.log(2*np.pi*v_rot_err**2))\n",
    "\n",
    "def neg_loglikelihood(params, radius, v_rot, v_rot_err):\n",
    "    return (-1)*loglikelihood(params, radius, v_rot, v_rot_err)\n",
    "    "
   ]
  },
  {
   "cell_type": "code",
   "execution_count": 287,
   "id": "84c367ae-5abb-4d82-98d6-918504ec3a74",
   "metadata": {},
   "outputs": [],
   "source": [
    "v_max_bounds = (10,2000)\n",
    "r_turn_bounds =(0.01,1)\n",
    "\n",
    "rot_param_bounds = [v_max_bounds, r_turn_bounds]"
   ]
  },
  {
   "cell_type": "code",
   "execution_count": 293,
   "id": "5d30e36e-8626-4b0d-88da-342510f3dcab",
   "metadata": {},
   "outputs": [],
   "source": [
    "#scipy.optimize.minimize(fun, x0, args=(), method=None, jac=None, hess=None, hessp=None, bounds=None, constraints=(), tol=None, callback=None, options=None)\n",
    "\n",
    "def fit_data(data, fit_func):\n",
    "    \n",
    "    # Setup for progress bar\n",
    "    sga_gal = np.unique(data['SGA_ID'])\n",
    "    N = len(sga_gal)\n",
    "    \n",
    "    results_SGA_dictionary = {}\n",
    "\n",
    "    with tqdm_notebook(total=N) as progress_bar:\n",
    "        for i, sga_gal in enumerate(sga_gal):\n",
    "            progress_bar.update(1)\n",
    "            \n",
    "            PV_SGA = data[data['SGA_ID']==sga_gal]\n",
    "            \n",
    "            dist_r26 = PV_SGA[\"SKY_TARGET_DIST_R26\"]\n",
    "            \n",
    "            v_rot = np.abs(PV_SGA[\"V_ROT_CORRECTED\"])\n",
    "                           \n",
    "            v_rot_err = PV_SGA[\"V_ROT_CORRECTED_ERR\"]\n",
    "            \n",
    "            #fig, ax = plt.subplots(1,1, figsize=(8,5), tight_layout=True)\n",
    "            #ax.errorbar(dist_r26, v_rot, yerr=v_rot_err, fmt='.')\n",
    "            \n",
    "            results = None\n",
    "\n",
    "            for i in range(10):\n",
    "                x0 = [np.random.uniform(a[0], a[-1]) for a in rot_param_bounds]\n",
    "                result = minimize(fit_func, x0, method = 'L-BFGS-B', \n",
    "                                  args = (dist_r26, v_rot, v_rot_err), bounds = rot_param_bounds)\n",
    "                \n",
    "                if result.success:\n",
    "\n",
    "                    if results is None:\n",
    "                        results = result\n",
    "                    else:\n",
    "                        if result.fun < results.fun:\n",
    "                            results = result\n",
    "            \n",
    "            results_SGA_dictionary[sga_gal] = results\n",
    "                            \n",
    "    return results_SGA_dictionary"
   ]
  },
  {
   "cell_type": "code",
   "execution_count": 294,
   "id": "641f0264-b287-4a2e-adef-06d74cda4c45",
   "metadata": {
    "tags": []
   },
   "outputs": [
    {
     "data": {
      "application/vnd.jupyter.widget-view+json": {
       "model_id": "572d1474b1044686b15928a3d7bb67c6",
       "version_major": 2,
       "version_minor": 0
      },
      "text/plain": [
       "  0%|          | 0/6 [00:00<?, ?it/s]"
      ]
     },
     "metadata": {},
     "output_type": "display_data"
    }
   ],
   "source": [
    "results_SGA_dictionary = fit_data(inspectSix,neg_loglikelihood)"
   ]
  },
  {
   "cell_type": "code",
   "execution_count": 295,
   "id": "d3ff0d41-41a5-495d-a3ff-943e6301d7d9",
   "metadata": {},
   "outputs": [
    {
     "data": {
      "text/plain": [
       "array([63.85119224,  0.50340355])"
      ]
     },
     "execution_count": 295,
     "metadata": {},
     "output_type": "execute_result"
    }
   ],
   "source": [
    "results_SGA_dictionary[5958].x"
   ]
  },
  {
   "cell_type": "code",
   "execution_count": 296,
   "id": "8a423615-25b8-4a3a-85cc-33ab6ccc81ae",
   "metadata": {},
   "outputs": [],
   "source": [
    "def plot_graphs(data):\n",
    "    \"\"\"\n",
    "    Plot the graphs for a given data table\n",
    "    \n",
    "    Parameters\n",
    "    ----------\n",
    "    data : astropy.Table\n",
    "    \n",
    "    \"\"\"\n",
    "    # Setup for progress bar\n",
    "    sga_gal = np.unique(data['SGA_ID'])\n",
    "    N = len(sga_gal)\n",
    "\n",
    "    with tqdm_notebook(total=N) as progress_bar:\n",
    "        for i, sga_gal in enumerate(sga_gal):\n",
    "            progress_bar.update(1)\n",
    "            \n",
    "            PV_SGA = data[data['SGA_ID']==sga_gal]\n",
    "            plt.figure()\n",
    "            plt.title(f\"SGA ID: {sga_gal}\")\n",
    "            plt.xlim((-0.1, 1.1))\n",
    "            plt.xlabel('Distance from galaxy center [R(26)]')\n",
    "            plt.ylabel('$V_{rot}$ [km/s]')\n",
    "            plt.tight_layout()\n",
    "            plt.plot(0,0, \"mo\")\n",
    "            plt.errorbar(PV_SGA['SKY_TARGET_DIST_R26'], np.abs(PV_SGA['V_ROT_CORRECTED']), yerr=PV_SGA['V_ROT_CORRECTED_ERR'].data, fmt='o')\n",
    "            \n",
    "            # Plot the model on a dense grid of r/R26\n",
    "            r = np.arange(0, 1, 0.01)\n",
    "            vmax, rturn = results_SGA_dictionary[sga_gal].x\n",
    "            chi2 = results_SGA_dictionary[sga_gal].fun\n",
    "            plt.plot(r, rot_fit_tanh(r, [vmax, rturn]), \n",
    "                     label=rf'$V_\\mathrm{{max}}={vmax:.2f}$, $r_\\mathrm{{turn}}={rturn:.2f}$, $\\chi^2={chi2:.2f}$')\n",
    "            plt.legend(loc='best')\n",
    "            \n",
    "            # plt.plot(PV_SGA['SKY_TARGET_DIST_R26'], rot_fit_tanh(PV_SGA['SKY_TARGET_DIST_R26'], results_SGA_dictionary[sga_gal].x))"
   ]
  },
  {
   "cell_type": "code",
   "execution_count": 297,
   "id": "8cdcee3c-2f91-41d0-8888-03d18e2160dd",
   "metadata": {},
   "outputs": [
    {
     "data": {
      "application/vnd.jupyter.widget-view+json": {
       "model_id": "2f306454a18345c78ae6f7c0589b1696",
       "version_major": 2,
       "version_minor": 0
      },
      "text/plain": [
       "  0%|          | 0/6 [00:00<?, ?it/s]"
      ]
     },
     "metadata": {},
     "output_type": "display_data"
    },
    {
     "data": {
      "image/png": "[encoded data removed]",
      "text/plain": [
       "<Figure size 432x288 with 1 Axes>"
      ]
     },
     "metadata": {
      "needs_background": "light"
     },
     "output_type": "display_data"
    },
    {
     "data": {
      "image/png": "[encoded data removed]",
      "text/plain": [
       "<Figure size 432x288 with 1 Axes>"
      ]
     },
     "metadata": {
      "needs_background": "light"
     },
     "output_type": "display_data"
    },
    {
     "data": {
      "image/png": "[encoded data removed]",
      "text/plain": [
       "<Figure size 432x288 with 1 Axes>"
      ]
     },
     "metadata": {
      "needs_background": "light"
     },
     "output_type": "display_data"
    },
    {
     "data": {
      "image/png": "[encoded data removed]",
      "text/plain": [
       "<Figure size 432x288 with 1 Axes>"
      ]
     },
     "metadata": {
      "needs_background": "light"
     },
     "output_type": "display_data"
    },
    {
     "data": {
      "image/png": "[encoded data removed]",
      "text/plain": [
       "<Figure size 432x288 with 1 Axes>"
      ]
     },
     "metadata": {
      "needs_background": "light"
     },
     "output_type": "display_data"
    },
    {
     "data": {
      "image/png": "[encoded data removed]",
      "text/plain": [
       "<Figure size 432x288 with 1 Axes>"
      ]
     },
     "metadata": {
      "needs_background": "light"
     },
     "output_type": "display_data"
    }
   ],
   "source": [
    "plot_graphs(inspectSix)"
   ]
  },
  {
   "cell_type": "code",
   "execution_count": null,
   "id": "0161c985-77f2-4dba-b6e8-ee37eec36c4a",
   "metadata": {},
   "outputs": [],
   "source": []
  },
  {
   "cell_type": "code",
   "execution_count": null,
   "id": "da12302f-b26c-47af-8db8-a3de1025515b",
   "metadata": {},
   "outputs": [],
   "source": [
    "def plotCheckZwarn(data):\n",
    "    \"\"\"\n",
    "    Plot the graphs for a given data table\n",
    "    \n",
    "    Parameters\n",
    "    ----------\n",
    "    data : astropy.Table\n",
    "    \n",
    "    \"\"\"\n",
    "    # Setup for progress bar\n",
    "    sga_gal = np.unique(data['SGA_ID'])\n",
    "    N = len(sga_gal)\n",
    "\n",
    "    with tqdm_notebook(total=N) as progress_bar:\n",
    "        for i, sga_gal in enumerate(sga_gal):\n",
    "            progress_bar.update(1)\n",
    "            \n",
    "            PV_SGA = data[data['SGA_ID']==sga_gal]\n",
    "            plt.figure()\n",
    "            plt.title(f\"SGA ID: {sga_gal}\")\n",
    "            plt.xlim((-0.1, 1.1))\n",
    "            plt.xlabel('Distance from galaxy center [R(26)]')\n",
    "            plt.ylabel('$V_{rot}$ [km/s]')\n",
    "            plt.tight_layout()\n",
    "            plt.plot(0,0, \"mo\")\n",
    "            if PV_SGA[PV_SGA['ZWARN'] == 0]:\n",
    "                plt.errorbar(PV_SGA['SKY_TARGET_DIST_R26'], np.abs(PV_SGA['V_ROT_CORRECTED']), yerr=PV_SGA['V_ROT_CORRECTED_ERR'].data, fmt='bo')\n",
    "            else:\n",
    "                  plt.errorbar(PV_SGA['SKY_TARGET_DIST_R26'], np.abs(PV_SGA['V_ROT_CORRECTED']), yerr=PV_SGA['V_ROT_CORRECTED_ERR'].data, fmt='ro')\n",
    "                "
   ]
  }
 ],
 "metadata": {
  "kernelspec": {
   "display_name": "NERSC Python",
   "language": "python",
   "name": "python3"
  },
  "language_info": {
   "codemirror_mode": {
    "name": "ipython",
    "version": 3
   },
   "file_extension": ".py",
   "mimetype": "text/x-python",
   "name": "python",
   "nbconvert_exporter": "python",
   "pygments_lexer": "ipython3",
   "version": "3.9.7"
  }
 },
 "nbformat": 4,
 "nbformat_minor": 5
}
