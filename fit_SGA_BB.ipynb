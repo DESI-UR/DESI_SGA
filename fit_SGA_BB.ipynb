{
 "cells": [
  {
   "cell_type": "markdown",
   "id": "676b4157-ae06-441f-964a-f19d417ed60f",
   "metadata": {},
   "source": [
    "Fit some of the rotation curves from SV3 using the rotation curve parameterization\n",
    "\n",
    "\\begin{equation}\n",
    "  V(r) = \\frac{V_\\text{max}r}{(R_\\text{turn}^\\alpha + r^\\alpha)^{1/\\alpha}}\n",
    "\\end{equation}"
   ]
  },
  {
   "cell_type": "code",
   "execution_count": 20,
   "id": "3b3a4fab-8e65-4032-9353-4eb76122e487",
   "metadata": {},
   "outputs": [],
   "source": [
    "from astropy.table import Table\n",
    "from astropy.io import fits\n",
    "from astropy.coordinates import SkyCoord\n",
    "from astropy import units as u\n",
    "\n",
    "from scipy.optimize import minimize, curve_fit\n",
    "\n",
    "import numpy as np\n",
    "\n",
    "import matplotlib.pyplot as plt"
   ]
  },
  {
   "cell_type": "code",
   "execution_count": 22,
   "id": "77b33c1d-3429-4b77-9448-b543ed37a01d",
   "metadata": {},
   "outputs": [],
   "source": [
    "c = 3e5\n",
    "\n",
    "q0 = 0.2"
   ]
  },
  {
   "cell_type": "code",
   "execution_count": 4,
   "id": "6942c79a-effd-4a63-a81c-617aed7e23c3",
   "metadata": {},
   "outputs": [],
   "source": [
    "SGA = Table.read('/global/cfs/cdirs/cosmo/data/sga/2020/SGA-2020.fits', 'ELLIPSE')"
   ]
  },
  {
   "cell_type": "code",
   "execution_count": 5,
   "id": "ceb9da2e-df0d-4810-b4e9-0647164fdc83",
   "metadata": {},
   "outputs": [],
   "source": [
    "tfuji = Table.read('/global/cfs/projectdirs/desi/science/td/pv/desi_pv_tf_fuji_healpix.fits')"
   ]
  },
  {
   "cell_type": "markdown",
   "id": "9d06b127-e994-4e1b-bf07-540f4e154065",
   "metadata": {},
   "source": [
    "# Compute observed velocities"
   ]
  },
  {
   "cell_type": "code",
   "execution_count": 36,
   "id": "7c39958e-b6d2-4563-81cd-c7518ede1132",
   "metadata": {},
   "outputs": [],
   "source": [
    "sga_id = 1191523\n",
    "\n",
    "sga_idx = np.argwhere(SGA['SGA_ID'] == sga_id)[0]\n",
    "\n",
    "gal_idx = np.argwhere(tfuji['SGA_ID'] == sga_id)"
   ]
  },
  {
   "cell_type": "code",
   "execution_count": 37,
   "id": "35740dd9-d33b-4cdb-9830-e676b8dbf942",
   "metadata": {},
   "outputs": [
    {
     "data": {
      "text/html": [
       "<div><i>Table length=9</i>\n",
       "<table id=\"table139871490293920\" class=\"table-striped table-bordered table-condensed\">\n",
       "<thead><tr><th>TARGETID</th><th>TARGET_RA</th><th>TARGET_DEC</th><th>HEALPIX</th><th>SURVEY</th><th>Z</th><th>ZERR</th><th>ZWARN</th><th>DELTACHI2</th><th>FILENAME</th><th>PVTYPE</th><th>SGA_ID</th><th>RA</th><th>DEC</th></tr></thead>\n",
       "<thead><tr><th>int64[1]</th><th>float64[1]</th><th>float64[1]</th><th>int64[1]</th><th>bytes3[1]</th><th>float64[1]</th><th>float64[1]</th><th>int64[1]</th><th>float64[1]</th><th>bytes63[1]</th><th>bytes3[1]</th><th>int64[1]</th><th>float64[1]</th><th>float64[1]</th></tr></thead>\n",
       "<tr><td>1070191999975427</td><td>150.270930072597</td><td>3.33110699263136</td><td>27259</td><td>sv3</td><td>0.209781676426744</td><td>6.6193311706894e-05</td><td>4</td><td>8.51128542702645</td><td>fuji/healpix/sv3/bright/272/27259/redrock-sv3-bright-27259.fits</td><td>TFT</td><td>1191523</td><td>150.2709300725971</td><td>3.331106992631362</td></tr>\n",
       "<tr><td>1083386139508739</td><td>150.270930072597</td><td>3.33110699263136</td><td>27259</td><td>sv3</td><td>0.0125153895996837</td><td>2.83433601401733e-05</td><td>0</td><td>31.0850822513457</td><td>fuji/healpix/sv3/dark/272/27259/redrock-sv3-dark-27259.fits</td><td>TFT</td><td>1191523</td><td>150.2709300725971</td><td>3.331106992631362</td></tr>\n",
       "<tr><td>1070191999975429</td><td>150.273297259029</td><td>3.33122136257727</td><td>27259</td><td>sv3</td><td>-0.00199569129234795</td><td>4.13114935733491e-48</td><td>1570</td><td>1.94266889222573e+84</td><td>fuji/healpix/sv3/bright/272/27259/redrock-sv3-bright-27259.fits</td><td>TFT</td><td>1191523</td><td>150.2732972590286</td><td>3.3312213625772693</td></tr>\n",
       "<tr><td>1083386139508741</td><td>150.273297259029</td><td>3.33122136257727</td><td>27259</td><td>sv3</td><td>1.11232820233934</td><td>0.000144910501991564</td><td>4</td><td>1.48022571206093</td><td>fuji/healpix/sv3/dark/272/27259/redrock-sv3-dark-27259.fits</td><td>TFT</td><td>1191523</td><td>150.2732972590286</td><td>3.3312213625772693</td></tr>\n",
       "<tr><td>1070191999975425</td><td>150.267396959543</td><td>3.33093628066686</td><td>27259</td><td>sv3</td><td>0.293597906858226</td><td>0.000175356675841198</td><td>4</td><td>3.57337550446391</td><td>fuji/healpix/sv3/bright/272/27259/redrock-sv3-bright-27259.fits</td><td>TFT</td><td>1191523</td><td>150.26739695954342</td><td>3.3309362806668634</td></tr>\n",
       "<tr><td>39627865762825599</td><td>150.269764145154</td><td>3.33105065908018</td><td>27259</td><td>sv3</td><td>0.0126176769764731</td><td>7.54283735505597e-06</td><td>0</td><td>568.717685500626</td><td>fuji/healpix/sv3/bright/272/27259/redrock-sv3-bright-27259.fits</td><td>TFT</td><td>1191523</td><td>150.2697641451539</td><td>3.33105065908018</td></tr>\n",
       "<tr><td>1070191999975424</td><td>150.266231032505</td><td>3.33087994294527</td><td>27259</td><td>sv3</td><td>1.17048870291897</td><td>8.21801488821356e-05</td><td>4</td><td>1.67624881863594</td><td>fuji/healpix/sv3/bright/272/27259/redrock-sv3-bright-27259.fits</td><td>TFT</td><td>1191523</td><td>150.26623103250463</td><td>3.3308799429452747</td></tr>\n",
       "<tr><td>1070191999975428</td><td>150.272131331314</td><td>3.33116503182038</td><td>27259</td><td>sv3</td><td>1.09295241625378</td><td>5.19030787448517e-05</td><td>4</td><td>0.630795516073704</td><td>fuji/healpix/sv3/bright/272/27259/redrock-sv3-bright-27259.fits</td><td>TFT</td><td>1191523</td><td>150.27213133131448</td><td>3.3311650318203805</td></tr>\n",
       "<tr><td>1070191999975426</td><td>150.268598217844</td><td>3.33099432415274</td><td>27259</td><td>sv3</td><td>0.0126359399037032</td><td>1.37326382644454e-05</td><td>0</td><td>84.9701145072468</td><td>fuji/healpix/sv3/bright/272/27259/redrock-sv3-bright-27259.fits</td><td>TFT</td><td>1191523</td><td>150.2685982178442</td><td>3.33099432415274</td></tr>\n",
       "</table></div>"
      ],
      "text/plain": [
       "<Table length=9>\n",
       "     TARGETID        TARGET_RA     ...         RA                DEC        \n",
       "     int64[1]        float64[1]    ...     float64[1]         float64[1]    \n",
       "----------------- ---------------- ... ------------------ ------------------\n",
       " 1070191999975427 150.270930072597 ...  150.2709300725971  3.331106992631362\n",
       " 1083386139508739 150.270930072597 ...  150.2709300725971  3.331106992631362\n",
       " 1070191999975429 150.273297259029 ...  150.2732972590286 3.3312213625772693\n",
       " 1083386139508741 150.273297259029 ...  150.2732972590286 3.3312213625772693\n",
       " 1070191999975425 150.267396959543 ... 150.26739695954342 3.3309362806668634\n",
       "39627865762825599 150.269764145154 ...  150.2697641451539   3.33105065908018\n",
       " 1070191999975424 150.266231032505 ... 150.26623103250463 3.3308799429452747\n",
       " 1070191999975428 150.272131331314 ... 150.27213133131448 3.3311650318203805\n",
       " 1070191999975426 150.268598217844 ...  150.2685982178442   3.33099432415274"
      ]
     },
     "execution_count": 37,
     "metadata": {},
     "output_type": "execute_result"
    }
   ],
   "source": [
    "gal_table = tfuji[gal_idx]\n",
    "\n",
    "gal_table"
   ]
  },
  {
   "cell_type": "markdown",
   "id": "6eb962de-8d7b-4379-aeeb-0c2c23f4b4ef",
   "metadata": {},
   "source": [
    "## Does this galaxy have a good central velocity?"
   ]
  },
  {
   "cell_type": "code",
   "execution_count": 16,
   "id": "5b952b60-4fbb-47c3-9222-7412ebd54914",
   "metadata": {},
   "outputs": [],
   "source": [
    "def firstdigit(n):\n",
    "    \"\"\"\n",
    "    Return the first digit of a number.\n",
    "    \n",
    "    Parameters\n",
    "    ----------\n",
    "    n : int, float, or ndarray\n",
    "        Number or list of numbers.\n",
    "    \n",
    "    Returns\n",
    "    -------\n",
    "    digit : int\n",
    "        First digit of the number.\n",
    "    \"\"\"\n",
    "    \n",
    "    digit = np.trunc(n * 10**(-np.trunc(np.log10(n)))).astype(int)\n",
    "    \n",
    "    return digit"
   ]
  },
  {
   "cell_type": "code",
   "execution_count": 38,
   "id": "da743b9d-575e-4f69-803a-4a4dc1e253e7",
   "metadata": {},
   "outputs": [],
   "source": [
    "first_digits = firstdigit(gal_table['TARGETID'])\n",
    "\n",
    "gal_centers = gal_table[first_digits == 3]\n",
    "gal_axis = gal_table[first_digits != 3]"
   ]
  },
  {
   "cell_type": "markdown",
   "id": "7f5f9243-b17f-416a-81bc-d91496da4704",
   "metadata": {},
   "source": [
    "### Set the central velocity of the galaxy\n",
    "\n",
    "Only use those with\n",
    " * DELTACHI2 > 25\n",
    " * ZWARN == 0"
   ]
  },
  {
   "cell_type": "code",
   "execution_count": 39,
   "id": "6a76e5de-3bc0-4fc9-9ef2-9b0e444b5376",
   "metadata": {},
   "outputs": [],
   "source": [
    "good_centers = gal_centers[(gal_centers['DELTACHI2'] > 25) & (gal_centers['ZWARN'] == 0)]"
   ]
  },
  {
   "cell_type": "markdown",
   "id": "232b63ac-a123-4659-ad72-bb0789cb32bf",
   "metadata": {},
   "source": [
    "## Calculate the rotational velocities"
   ]
  },
  {
   "cell_type": "code",
   "execution_count": 40,
   "id": "5a680c41-16f7-47fd-bc97-74198998f445",
   "metadata": {},
   "outputs": [],
   "source": [
    "#---------------------------------------------------------------------------\n",
    "# Calculate distance between each observation and the center\n",
    "#---------------------------------------------------------------------------\n",
    "center_coords = SkyCoord(ra=SGA['RA'][sga_idx], \n",
    "                         dec=SGA['DEC'][sga_idx], \n",
    "                         unit=u.degree)\n",
    "target_coords = SkyCoord(ra=gal_axis['RA'], \n",
    "                         dec=gal_axis['DEC'], \n",
    "                         unit=u.degree)\n",
    "\n",
    "sep2d = target_coords.separation(center_coords)\n",
    "\n",
    "gal_axis['SKY_FIBER_DIST'] = sep2d\n",
    "gal_axis['SKY_FIBER_DIST_R26'] = 2*sep2d.to('arcmin')/(SGA['D26'][sga_idx]*u.arcmin)\n",
    "#---------------------------------------------------------------------------\n",
    "\n",
    "\n",
    "#---------------------------------------------------------------------------\n",
    "# Calculate rotational velocity\n",
    "#---------------------------------------------------------------------------\n",
    "# Use the average redshift of all center observations for the systemic velocity\n",
    "z_center = np.mean(good_centers['Z'])\n",
    "z_err_center2 = good_centers['ZERR']**2\n",
    "\n",
    "# Calculate rotational velocity for all observations of the galaxy\n",
    "gal_axis['V_ROT'] = c*(gal_axis['Z'] - z_center)\n",
    "gal_axis['V_ROT_ERR'] = c*np.sqrt(gal_axis['ZERR']**2 + z_err_center2)\n",
    "#---------------------------------------------------------------------------\n",
    "\n",
    "\n",
    "#---------------------------------------------------------------------------\n",
    "# Correct rotational velocities for inclination angle\n",
    "#---------------------------------------------------------------------------\n",
    "cosi2 = (SGA['BA'][sga_idx]**2 - q0**2)/(1 - q0**2)\n",
    "\n",
    "# Galaxies with b/a < q0\n",
    "if cosi2 < 0:\n",
    "    cosi2 = 0\n",
    "\n",
    "gal_axis['V_ROT'] /= np.sin(np.arccos(np.sqrt(cosi2)))\n",
    "#---------------------------------------------------------------------------"
   ]
  },
  {
   "cell_type": "markdown",
   "id": "08357c68-50c7-4239-b28c-80c5cc28f242",
   "metadata": {},
   "source": [
    "# Rotation curve functions\n",
    "\n",
    "From `dark_matter_mass_v1.py`"
   ]
  },
  {
   "cell_type": "code",
   "execution_count": 6,
   "id": "1fad4a60-e188-4440-bca5-41ccbbea3328",
   "metadata": {},
   "outputs": [],
   "source": [
    "def rot_fit_BB( depro_radius, params):\n",
    "    \"\"\"\n",
    "    Function to fit the rotation curve data to.\n",
    "\n",
    "\n",
    "    PARAMETERS\n",
    "    ==========\n",
    "    \n",
    "    depro_radius : float or ndarray of shape (n,)\n",
    "        Deprojected radius as taken from the [PLATE]-[FIBERID] rotation curve \n",
    "        data file (in units of kpc); the \"x\" data of the rotation curve equation\n",
    "\n",
    "    v_max : float\n",
    "        The maximum velocity (or in the case of fitting the negative, the\n",
    "        absolute value of the minimum velocity) parameter of the rotation curve \n",
    "        equation (given in km/s)\n",
    "\n",
    "    r_turn : float\n",
    "        The radius at which the rotation curve trasitions from increasing to \n",
    "        flat-body for the rotation curve equation (given in kpc)\n",
    "\n",
    "    alpha : float\n",
    "        The exponential parameter for the rotation curve equation\n",
    "\n",
    "\n",
    "    RETURNS\n",
    "    =======\n",
    "        \n",
    "    The rotation curve equation with the given '@param' parameters and\n",
    "    'depro_radius' data\n",
    "    \"\"\"\n",
    "\n",
    "    v_max, r_turn, alpha = params\n",
    "\n",
    "    v = v_max * (np.abs(depro_radius) / (r_turn**alpha + np.abs(depro_radius)**alpha)**(1/alpha))\n",
    "\n",
    "    v = v*np.sign(depro_radius)\n",
    "\n",
    "    return v\n",
    "\n",
    "\n",
    "def logL_BB(params, r, v, v_err):\n",
    "    '''\n",
    "    Log likelihood of the data and the fit values for the BB fit function.\n",
    "\n",
    "\n",
    "    PARAMETERS\n",
    "    ==========\n",
    "\n",
    "    params : list or ndarray\n",
    "        List of 3 fit parameters\n",
    "\n",
    "    r : ndarray\n",
    "        Radius values for the data points\n",
    "\n",
    "    v : ndarray\n",
    "        Velocity values for the data points\n",
    "\n",
    "    v_err : ndarray\n",
    "        Velocity error values for the data points\n",
    "\n",
    "\n",
    "    RETURNS\n",
    "    =======\n",
    "\n",
    "    logL : float\n",
    "        Log likelihood of set velocity given model parameters\n",
    "    '''\n",
    "\n",
    "    lambda1 = rot_fit_BB(r, params)\n",
    "    lambda1[lambda1 <= 0] = np.finfo( dtype=np.float64).tiny\n",
    "\n",
    "    return np.sum( ((v - lambda1)/v_err)**2 + np.log(2*np.pi*np.array(v_err)**2))\n",
    "\n",
    "\n",
    "def nlogL_BB(params, radius, velocity, velocity_err):\n",
    "    '''\n",
    "    Negative log likelihood, for minimizing.\n",
    "    '''\n",
    "    return -logL_BB(params, radius, velocity, velocity_err)\n",
    "\n",
    "\n",
    "def chi2_BB(params, radius, velocity, velocity_err):\n",
    "    '''\n",
    "    chi2 of the rotation curve approximation\n",
    "\n",
    "\n",
    "    PARAMETERS\n",
    "    ==========\n",
    "\n",
    "    params : list\n",
    "        List of fit parameters\n",
    "\n",
    "    radius : ndarray\n",
    "        Radius values for the data points\n",
    "\n",
    "    velocity : ndarray\n",
    "        Velocity values for the data points\n",
    "\n",
    "    velocity_err : ndarray\n",
    "        Velocity uncertainty values for the data points\n",
    "\n",
    "\n",
    "    RETURNS\n",
    "    =======\n",
    "\n",
    "    chi2_norm : float\n",
    "        Chi2 value of the current value of the params normalized by the number \n",
    "        of data points (minus the number of free parameters)\n",
    "    '''\n",
    "\n",
    "    ############################################################################\n",
    "    # Create fitted rotation curve based on the values in params\n",
    "    #---------------------------------------------------------------------------\n",
    "    vel_model = rot_fit_BB(radius, params)\n",
    "    ############################################################################\n",
    "\n",
    "\n",
    "    ############################################################################\n",
    "    # Calculate chi2 of current fit\n",
    "    #---------------------------------------------------------------------------\n",
    "    chi2 = np.sum((vel_model - velocity)**2 / velocity_err**2)\n",
    "\n",
    "    chi2_norm = chi2/(len(radius) - len(params))\n",
    "    ############################################################################\n",
    "\n",
    "\n",
    "    return chi2_norm"
   ]
  },
  {
   "cell_type": "markdown",
   "id": "6a414a99-8602-40ff-8c6a-1a420f5b43d6",
   "metadata": {},
   "source": [
    "# Fit rotation curve"
   ]
  },
  {
   "cell_type": "code",
   "execution_count": 41,
   "id": "f7b57a0d-aaaf-4b41-b71b-df9ae8be7560",
   "metadata": {},
   "outputs": [
    {
     "data": {
      "text/html": [
       "<div><i>Table length=8</i>\n",
       "<table id=\"table139871490142272\" class=\"table-striped table-bordered table-condensed\">\n",
       "<thead><tr><th>TARGETID</th><th>SKY_FIBER_DIST_R26</th><th>Z</th><th>V_ROT</th><th>V_ROT_ERR</th><th>ZWARN</th><th>DELTACHI2</th></tr></thead>\n",
       "<thead><tr><th></th><th></th><th></th><th></th><th></th><th></th><th></th></tr></thead>\n",
       "<thead><tr><th>int64</th><th>float64</th><th>float64</th><th>float64</th><th>float64</th><th>int64</th><th>float64</th></tr></thead>\n",
       "<tr><td>1070191999975427</td><td>0.3299999935897836</td><td>0.209781676426744</td><td>80117.42176079963</td><td>19.98650549516291</td><td>4</td><td>8.51128542702645</td></tr>\n",
       "<tr><td>1083386139508739</td><td>0.3299999935897836</td><td>0.0125153895996837</td><td>-41.56438766656845</td><td>8.798956832831681</td><td>0</td><td>31.0850822513457</td></tr>\n",
       "<tr><td>1070191999975429</td><td>0.9999999805612407</td><td>-0.00199569129234795</td><td>-5938.12963930223</td><td>2.262851206516791</td><td>1570</td><td>1.94266889222573e+84</td></tr>\n",
       "<tr><td>1083386139508741</td><td>0.9999999805612407</td><td>1.11232820233934</td><td>446866.4270401432</td><td>43.532003382030005</td><td>4</td><td>1.48022571206093</td></tr>\n",
       "<tr><td>1070191999975425</td><td>0.6699999869753633</td><td>0.293597906858226</td><td>114176.07497640919</td><td>52.65564769490149</td><td>4</td><td>3.57337550446391</td></tr>\n",
       "<tr><td>1070191999975424</td><td>0.9999999805557612</td><td>1.17048870291897</td><td>470499.8964754836</td><td>24.757673838810703</td><td>4</td><td>1.67624881863594</td></tr>\n",
       "<tr><td>1070191999975428</td><td>0.6699999869752118</td><td>1.09295241625378</td><td>438993.09301318065</td><td>15.734489444221547</td><td>4</td><td>0.630795516073704</td></tr>\n",
       "<tr><td>1070191999975426</td><td>0.32999999358295595</td><td>0.0126359399037032</td><td>7.421124787285228</td><td>4.700338010826923</td><td>0</td><td>84.9701145072468</td></tr>\n",
       "</table></div>"
      ],
      "text/plain": [
       "<Table length=8>\n",
       "    TARGETID      SKY_FIBER_DIST_R26 ... ZWARN      DELTACHI2      \n",
       "                                     ...                           \n",
       "     int64             float64       ... int64       float64       \n",
       "---------------- ------------------- ... ----- --------------------\n",
       "1070191999975427  0.3299999935897836 ...     4     8.51128542702645\n",
       "1083386139508739  0.3299999935897836 ...     0     31.0850822513457\n",
       "1070191999975429  0.9999999805612407 ...  1570 1.94266889222573e+84\n",
       "1083386139508741  0.9999999805612407 ...     4     1.48022571206093\n",
       "1070191999975425  0.6699999869753633 ...     4     3.57337550446391\n",
       "1070191999975424  0.9999999805557612 ...     4     1.67624881863594\n",
       "1070191999975428  0.6699999869752118 ...     4    0.630795516073704\n",
       "1070191999975426 0.32999999358295595 ...     0     84.9701145072468"
      ]
     },
     "execution_count": 41,
     "metadata": {},
     "output_type": "execute_result"
    }
   ],
   "source": [
    "gal_axis[['TARGETID', 'SKY_FIBER_DIST_R26', 'Z', 'V_ROT', 'V_ROT_ERR', 'ZWARN', 'DELTACHI2']]"
   ]
  },
  {
   "cell_type": "code",
   "execution_count": 26,
   "id": "7aa3b054-1224-434a-a5f4-183a2f859523",
   "metadata": {},
   "outputs": [
    {
     "name": "stdout",
     "output_type": "stream",
     "text": [
      "None\n"
     ]
    }
   ],
   "source": [
    "# R_turn\n",
    "r_turn_guess = 0.5 # R(26)\n",
    "r_turn_low = 0.001 # R(26)\n",
    "r_turn_high = 2.   # R(26)\n",
    "r_turn_bounds = (r_turn_low, r_turn_high)\n",
    "\n",
    "# Vmax\n",
    "v_max_guess = np.max(np.abs(gal_table['V_ROT'].data))\n",
    "v_max_low = 1.0    # km/s\n",
    "v_max_high = 1000. # km/s\n",
    "v_max_bounds = (v_max_low, v_max_high)\n",
    "\n",
    "# alpha\n",
    "alpha_guess = 2.\n",
    "alpha_low = np.nextafter(0,1)\n",
    "alpha_high = 10.\n",
    "alpha_bounds = (alpha_low, alpha_high)\n",
    "\n",
    "rot_param_bounds = [v_max_bounds, r_turn_bounds, alpha_bounds]\n",
    "rot_param_low = [v_max_low, r_turn_low, alpha_low]\n",
    "rot_param_high = [v_max_high, r_turn_high, alpha_high]\n",
    "rot_param_guess = [v_max_guess, r_turn_guess, alpha_guess]\n",
    "\n",
    "\n",
    "results = None\n",
    "\n",
    "for i in range(30):\n",
    "    p0 = [np.random.uniform(b[0], b[1]) for b in rot_param_bounds]\n",
    "    result = minimize(chi2_BB, #nlogL_BB, \n",
    "                      p0, \n",
    "                      method='Powell',#'L-BFGS-B',\n",
    "                      args=(gal_table['RADIUS'], np.abs(gal_table['V_ROT'].data), np.abs(gal_table['V_ROT_ERR'].data)), \n",
    "                      bounds=rot_param_bounds)\n",
    "    if result.success:\n",
    "        if results is None:\n",
    "            results = result\n",
    "        else:\n",
    "            if result.fun < results.fun:\n",
    "                results = result\n",
    "\n",
    "#rot_perr = np.sqrt(np.diag(results.hess_inv.todense()))\n",
    "\n",
    "print(results)"
   ]
  },
  {
   "cell_type": "code",
   "execution_count": 32,
   "id": "7938783d-0d90-41c7-9daa-575f068a4142",
   "metadata": {},
   "outputs": [
    {
     "name": "stderr",
     "output_type": "stream",
     "text": [
      "<ipython-input-32-e7b196447618>:3: MatplotlibDeprecationWarning: Support for passing a (n, 1)-shaped error array to errorbar() is deprecated since Matplotlib 3.1 and will be removed in 3.3; pass a 1D array instead.\n",
      "  plt.errorbar(gal_table['RADIUS'], np.abs(gal_table['V_ROT']), yerr=gal_table['V_ROT_ERR'], fmt='o')\n"
     ]
    },
    {
     "data": {
      "image/png": "[encoded data removed]",
      "text/plain": [
       "<Figure size 432x288 with 1 Axes>"
      ]
     },
     "metadata": {
      "needs_background": "light"
     },
     "output_type": "display_data"
    }
   ],
   "source": [
    "plt.figure()\n",
    "\n",
    "plt.errorbar(gal_table['RADIUS'], np.abs(gal_table['V_ROT']), yerr=gal_table['V_ROT_ERR'], fmt='o')\n",
    "\n",
    "R = np.linspace(0,1.1,100)\n",
    "plt.plot(R,rot_fit_BB(R, [89.75, 0.4492, 58.66])) # Fit values from MATLAB\n",
    "\n",
    "plt.xlabel('Distance from galaxy center [R(26)]')\n",
    "plt.ylabel('$V_{rot}$ [km/s]')\n",
    "\n",
    "plt.title(galaxy)\n",
    "\n",
    "plt.savefig('../images/PV_fits/' + galaxy + '_fit.png', format='png', dpi=300);"
   ]
  },
  {
   "cell_type": "code",
   "execution_count": null,
   "id": "faf45820-bd7f-4e5d-9da1-0eeed0dea62c",
   "metadata": {},
   "outputs": [],
   "source": []
  },
  {
   "cell_type": "code",
   "execution_count": null,
   "id": "4a092aa0-918d-4265-8be6-43cf8ea2c087",
   "metadata": {},
   "outputs": [],
   "source": []
  }
 ],
 "metadata": {
  "kernelspec": {
   "display_name": "DESI master",
   "language": "python",
   "name": "desi-master"
  },
  "language_info": {
   "codemirror_mode": {
    "name": "ipython",
    "version": 3
   },
   "file_extension": ".py",
   "mimetype": "text/x-python",
   "name": "python",
   "nbconvert_exporter": "python",
   "pygments_lexer": "ipython3",
   "version": "3.10.8"
  }
 },
 "nbformat": 4,
 "nbformat_minor": 5
}
