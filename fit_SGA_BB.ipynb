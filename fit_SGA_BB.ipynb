{
 "cells": [
  {
   "cell_type": "markdown",
   "id": "676b4157-ae06-441f-964a-f19d417ed60f",
   "metadata": {},
   "source": [
    "Fit some of the rotation curves from SV3 using the rotation curve parameterization\n",
    "\n",
    "\\begin{equation}\n",
    "  V(r) = \\frac{V_\\text{max}r}{(R_\\text{turn}^\\alpha + r^\\alpha)^{1/\\alpha}}\n",
    "\\end{equation}"
   ]
  },
  {
   "cell_type": "code",
   "execution_count": 24,
   "id": "3b3a4fab-8e65-4032-9353-4eb76122e487",
   "metadata": {},
   "outputs": [],
   "source": [
    "from astropy.table import QTable\n",
    "from astropy.io import fits\n",
    "\n",
    "from scipy.optimize import minimize\n",
    "\n",
    "import numpy as np\n",
    "\n",
    "import matplotlib.pyplot as plt"
   ]
  },
  {
   "cell_type": "code",
   "execution_count": 9,
   "id": "6942c79a-effd-4a63-a81c-617aed7e23c3",
   "metadata": {},
   "outputs": [],
   "source": [
    "SGA_filename = '/global/cfs/cdirs/cosmo/data/legacysurvey/dr9/masking/SGA-ellipse-v3.0.kd.fits'\n",
    "\n",
    "hdu = fits.open(SGA_filename)\n",
    "SGA = QTable(hdu[1].data)\n",
    "hdu.close()"
   ]
  },
  {
   "cell_type": "code",
   "execution_count": 10,
   "id": "ceb9da2e-df0d-4810-b4e9-0647164fdc83",
   "metadata": {},
   "outputs": [
    {
     "data": {
      "text/html": [
       "<i>QTable length=10</i>\n",
       "<table id=\"table46913213018016\" class=\"table-striped table-bordered table-condensed\">\n",
       "<thead><tr><th>PROGRAM</th><th>TARGETID</th><th>DATE</th><th>PETAL</th><th>CHI2</th><th>COEFF [10]</th><th>Z</th><th>ZERR</th><th>ZWARN</th><th>NPIXELS</th><th>SPECTYPE</th><th>SUBTYPE</th><th>NCOEFF</th><th>DELTACHI2</th><th>NUMEXP</th><th>NUMTILE</th><th>PETAL_LOC</th><th>DEVICE_LOC</th><th>LOCATION</th><th>FIBER</th><th>FIBERSTATUS</th><th>TARGET_RA</th><th>TARGET_DEC</th><th>PMRA</th><th>PMDEC</th><th>REF_EPOCH</th><th>LAMBDA_REF</th><th>FA_TARGET</th><th>FA_TYPE</th><th>OBJTYPE</th><th>FIBERASSIGN_X</th><th>FIBERASSIGN_Y</th><th>PRIORITY</th><th>SUBPRIORITY</th><th>OBSCONDITIONS</th><th>RELEASE</th><th>BRICKID</th><th>BRICK_OBJID</th><th>MORPHTYPE</th><th>FLUX_G</th><th>FLUX_R</th><th>FLUX_Z</th><th>FLUX_IVAR_G</th><th>FLUX_IVAR_R</th><th>FLUX_IVAR_Z</th><th>MASKBITS</th><th>REF_ID</th><th>REF_CAT</th><th>GAIA_PHOT_G_MEAN_MAG</th><th>GAIA_PHOT_BP_MEAN_MAG</th><th>GAIA_PHOT_RP_MEAN_MAG</th><th>PARALLAX</th><th>BRICKNAME</th><th>EBV</th><th>FLUX_W1</th><th>FLUX_W2</th><th>FLUX_IVAR_W1</th><th>FLUX_IVAR_W2</th><th>FIBERFLUX_G</th><th>FIBERFLUX_R</th><th>FIBERFLUX_Z</th><th>FIBERTOTFLUX_G</th><th>FIBERTOTFLUX_R</th><th>FIBERTOTFLUX_Z</th><th>SERSIC</th><th>SHAPE_R</th><th>SHAPE_E1</th><th>SHAPE_E2</th><th>PHOTSYS</th><th>PRIORITY_INIT</th><th>NUMOBS_INIT</th><th>SV3_DESI_TARGET</th><th>SV3_BGS_TARGET</th><th>SV3_MWS_TARGET</th><th>SV3_SCND_TARGET</th><th>DESI_TARGET</th><th>BGS_TARGET</th><th>MWS_TARGET</th><th>NUM_ITER</th><th>FIBER_X</th><th>FIBER_Y</th><th>DELTA_X</th><th>DELTA_Y</th><th>FIBER_RA</th><th>FIBER_DEC</th><th>EXPTIME</th><th>PSF_TO_FIBER_SPECFLUX</th><th>NIGHT</th><th>EXPID</th><th>MJD</th><th>TILEID</th><th>SV1_DESI_TARGET</th><th>SV1_BGS_TARGET</th><th>SV1_MWS_TARGET</th><th>SV1_SCND_TARGET</th><th>SV2_DESI_TARGET</th><th>SV2_BGS_TARGET</th><th>SV2_MWS_TARGET</th><th>SV2_SCND_TARGET</th><th>IDX_SGA</th><th>SKY_DIST_SGA</th><th>SKY_TARGET_DIST_SGA</th><th>SKY_FIBER_DIST_SGA</th><th>V_ROT</th><th>V_ROT_ERR</th><th>RADIUS</th></tr></thead>\n",
       "<thead><tr><th></th><th></th><th></th><th></th><th></th><th></th><th></th><th></th><th></th><th></th><th></th><th></th><th></th><th></th><th></th><th></th><th></th><th></th><th></th><th></th><th></th><th></th><th></th><th></th><th></th><th></th><th></th><th></th><th></th><th></th><th></th><th></th><th></th><th></th><th></th><th></th><th></th><th></th><th></th><th></th><th></th><th></th><th></th><th></th><th></th><th></th><th></th><th></th><th></th><th></th><th></th><th></th><th></th><th></th><th></th><th></th><th></th><th></th><th></th><th></th><th></th><th></th><th></th><th></th><th></th><th></th><th></th><th></th><th></th><th></th><th></th><th></th><th></th><th></th><th></th><th></th><th></th><th></th><th></th><th></th><th></th><th></th><th></th><th></th><th></th><th></th><th></th><th></th><th></th><th></th><th></th><th></th><th></th><th></th><th></th><th></th><th></th><th></th><th></th><th></th><th>deg</th><th>deg</th><th>deg</th><th>km / s</th><th>km / s</th><th></th></tr></thead>\n",
       "<thead><tr><th>bytes14</th><th>int64</th><th>int64</th><th>int64</th><th>float64</th><th>float64</th><th>float64</th><th>float64</th><th>int64</th><th>int64</th><th>bytes6</th><th>bytes20</th><th>int64</th><th>float64</th><th>int32</th><th>int32</th><th>int16</th><th>int32</th><th>int64</th><th>int32</th><th>int32</th><th>float64</th><th>float64</th><th>float32</th><th>float32</th><th>float32</th><th>float32</th><th>int64</th><th>uint8</th><th>bytes3</th><th>float32</th><th>float32</th><th>int32</th><th>float64</th><th>int32</th><th>int16</th><th>int32</th><th>int32</th><th>bytes4</th><th>float32</th><th>float32</th><th>float32</th><th>float32</th><th>float32</th><th>float32</th><th>int16</th><th>int64</th><th>bytes2</th><th>float32</th><th>float32</th><th>float32</th><th>float32</th><th>bytes8</th><th>float32</th><th>float32</th><th>float32</th><th>float32</th><th>float32</th><th>float32</th><th>float32</th><th>float32</th><th>float32</th><th>float32</th><th>float32</th><th>float32</th><th>float32</th><th>float32</th><th>float32</th><th>bytes1</th><th>int64</th><th>int64</th><th>int64</th><th>int64</th><th>int64</th><th>int64</th><th>int64</th><th>int64</th><th>int64</th><th>int64</th><th>float64</th><th>float64</th><th>float64</th><th>float64</th><th>float64</th><th>float64</th><th>float64</th><th>float64</th><th>int32</th><th>int32</th><th>float64</th><th>int32</th><th>int64</th><th>int64</th><th>int64</th><th>int64</th><th>int64</th><th>int64</th><th>int64</th><th>int64</th><th>int64</th><th>float64</th><th>float64</th><th>float64</th><th>float64</th><th>float64</th><th>float64</th></tr></thead>\n",
       "<tr><td>PV_BRIGHT_HIGH</td><td>1070078338531340</td><td>20210420</td><td>1</td><td>8787.038535818458</td><td>32.8816141813718 .. -3.7176505831015008</td><td>0.031198201144749936</td><td>4.666633789860146e-06</td><td>0</td><td>7880</td><td>GALAXY</td><td></td><td>10</td><td>679.332183137536</td><td>0</td><td>1</td><td>1</td><td>330</td><td>1330</td><td>980</td><td>0</td><td>215.4080415770057</td><td>-1.4543685705057612</td><td>0.0</td><td>0.0</td><td>2015.5</td><td>5400.0</td><td>4611686018427387904</td><td>1</td><td>TGT</td><td>243.48737</td><td>-192.40593</td><td>1700</td><td>0.7977878019837114</td><td>63</td><td>0</td><td>0</td><td>0</td><td></td><td>0.0</td><td>0.0</td><td>0.0</td><td>0.0</td><td>0.0</td><td>0.0</td><td>0</td><td>0</td><td></td><td>0.0</td><td>0.0</td><td>0.0</td><td>0.0</td><td></td><td>0.0</td><td>0.0</td><td>0.0</td><td>0.0</td><td>0.0</td><td>0.0</td><td>0.0</td><td>0.0</td><td>0.0</td><td>0.0</td><td>0.0</td><td>0.0</td><td>0.0</td><td>0.0</td><td>0.0</td><td></td><td>1700</td><td>5</td><td>4611686018427387904</td><td>0</td><td>0</td><td>8796093022208</td><td>0</td><td>0</td><td>0</td><td>2</td><td>243.457</td><td>-192.382</td><td>-0.008</td><td>0.003</td><td>215.4080106650713</td><td>-1.454379601523145</td><td>666.0406</td><td>0.7924211544834598</td><td>20210420</td><td>85631</td><td>59325.31947479</td><td>230</td><td>999999</td><td>999999</td><td>999999</td><td>999999</td><td>999999</td><td>999999</td><td>999999</td><td>999999</td><td>53010</td><td>0.0014780697426945001</td><td>0.0014780697426944945</td><td>0.0014464693851510273</td><td>-61.49987954764533</td><td>1.6049864488223995</td><td>0.32958889631124655</td></tr>\n",
       "<tr><td>PV_DARK_HIGH</td><td>1083272478064650</td><td>20210503</td><td>1</td><td>9169.24156068964</td><td>-32.659360007937096 .. 6.680353076858249</td><td>0.0317084061869926</td><td>1.8343003150568484e-05</td><td>0</td><td>7783</td><td>GALAXY</td><td></td><td>10</td><td>46.98668561177328</td><td>0</td><td>1</td><td>1</td><td>371</td><td>1371</td><td>966</td><td>0</td><td>215.40366558016564</td><td>-1.4547203452425466</td><td>0.0</td><td>0.0</td><td>2015.5</td><td>5400.0</td><td>4611686018427387904</td><td>1</td><td>TGT</td><td>252.99539</td><td>-208.04816</td><td>1700</td><td>0.7977878019837114</td><td>63</td><td>0</td><td>0</td><td>0</td><td></td><td>0.0</td><td>0.0</td><td>0.0</td><td>0.0</td><td>0.0</td><td>0.0</td><td>0</td><td>0</td><td></td><td>0.0</td><td>0.0</td><td>0.0</td><td>0.0</td><td></td><td>0.0</td><td>0.0</td><td>0.0</td><td>0.0</td><td>0.0</td><td>0.0</td><td>0.0</td><td>0.0</td><td>0.0</td><td>0.0</td><td>0.0</td><td>0.0</td><td>0.0</td><td>0.0</td><td>0.0</td><td></td><td>1700</td><td>5</td><td>4611686018427387904</td><td>0</td><td>0</td><td>70368744177664</td><td>0</td><td>0</td><td>0</td><td>2</td><td>252.94</td><td>-208.024</td><td>0.007</td><td>0.009</td><td>215.40369359902135</td><td>-1.4547563650705024</td><td>1524.4433</td><td>0.7927957606754578</td><td>20210503</td><td>87112</td><td>59338.30187835</td><td>225</td><td>999999</td><td>999999</td><td>999999</td><td>999999</td><td>999999</td><td>999999</td><td>999999</td><td>999999</td><td>53010</td><td>0.002910691795037707</td><td>0.002910691795037706</td><td>0.0028860473542298127</td><td>91.45574415027775</td><td>5.555065693739474</td><td>0.6576075317925104</td></tr>\n",
       "<tr><td>PV_DARK_MEDIUM</td><td>39627752101383445</td><td>20210417</td><td>1</td><td>8532.71464689076</td><td>1700.0066621703295 .. 47.148745916083335</td><td>0.03140303681763694</td><td>2.8409868262934057e-06</td><td>0</td><td>7853</td><td>GALAXY</td><td></td><td>10</td><td>3320.6057104319334</td><td>0</td><td>1</td><td>1</td><td>269</td><td>1269</td><td>820</td><td>0</td><td>215.4065974981993</td><td>-1.4544846571064665</td><td>0.0</td><td>0.0</td><td>2015.5</td><td>5400.0</td><td>5764607523034234880</td><td>1</td><td>TGT</td><td>191.71579</td><td>-209.96027</td><td>102100</td><td>0.5906080638046524</td><td>575</td><td>9010</td><td>322589</td><td>3349</td><td>SER</td><td>48.835087</td><td>68.62297</td><td>87.58287</td><td>73.63586</td><td>34.43657</td><td>4.6385593</td><td>4096</td><td>694525</td><td>L3</td><td>0.0</td><td>0.0</td><td>0.0</td><td>0.0</td><td>2153m015</td><td>0.0458813</td><td>50.323296</td><td>31.879274</td><td>1.2768502</td><td>0.33914644</td><td>4.9877405</td><td>7.0087633</td><td>8.945221</td><td>4.9877405</td><td>7.0087633</td><td>8.945221</td><td>1.466326</td><td>4.7873397</td><td>-0.66546226</td><td>0.093305826</td><td>S</td><td>102100</td><td>9</td><td>5764607523034234880</td><td>131074</td><td>0</td><td>158329674399744</td><td>0</td><td>0</td><td>0</td><td>2</td><td>191.663</td><td>-209.896</td><td>-0.001</td><td>-0.009</td><td>215.40659287114534</td><td>-1.4544490997772086</td><td>605.3305</td><td>0.7344065220807793</td><td>20210417</td><td>85205</td><td>59322.37229059</td><td>229</td><td>999999</td><td>999999</td><td>999999</td><td>999999</td><td>999999</td><td>999999</td><td>999999</td><td>999999</td><td>53010</td><td>3.148452012860148e-05</td><td>3.148452012858921e-05</td><td>3.789706168919226e-05</td><td>-0.09168968676659862</td><td>1.1593635562467697</td><td>0.008635129691511556</td></tr>\n",
       "<tr><td>PV_DARK_MEDIUM</td><td>39627752101383445</td><td>20210418</td><td>1</td><td>8260.84521508962</td><td>1959.1324352722304 .. 10.905752496440247</td><td>0.03141079449707403</td><td>6.944711897356566e-06</td><td>0</td><td>7883</td><td>GALAXY</td><td></td><td>10</td><td>584.6168299242854</td><td>0</td><td>1</td><td>1</td><td>269</td><td>1269</td><td>820</td><td>0</td><td>215.4065974981993</td><td>-1.4544846571064665</td><td>0.0</td><td>0.0</td><td>2015.5</td><td>5400.0</td><td>5764607523034234880</td><td>1</td><td>TGT</td><td>191.71579</td><td>-209.96027</td><td>102100</td><td>0.5906080638046524</td><td>575</td><td>9010</td><td>322589</td><td>3349</td><td>SER</td><td>48.835087</td><td>68.62297</td><td>87.58287</td><td>73.63586</td><td>34.43657</td><td>4.6385593</td><td>4096</td><td>694525</td><td>L3</td><td>0.0</td><td>0.0</td><td>0.0</td><td>0.0</td><td>2153m015</td><td>0.0458813</td><td>50.323296</td><td>31.879274</td><td>1.2768502</td><td>0.33914644</td><td>4.9877405</td><td>7.0087633</td><td>8.945221</td><td>4.9877405</td><td>7.0087633</td><td>8.945221</td><td>1.466326</td><td>4.7873397</td><td>-0.66546226</td><td>0.093305826</td><td>S</td><td>102100</td><td>9</td><td>5764607523034234880</td><td>131074</td><td>0</td><td>158329674399744</td><td>0</td><td>0</td><td>0</td><td>2</td><td>191.723</td><td>-209.918</td><td>-0.031</td><td>-0.015</td><td>215.4064737316138</td><td>-1.4544228770500258</td><td>167.9187</td><td>0.6247209523554728</td><td>20210418</td><td>85341</td><td>59323.2988431</td><td>229</td><td>999999</td><td>999999</td><td>999999</td><td>999999</td><td>999999</td><td>999999</td><td>999999</td><td>999999</td><td>53010</td><td>3.148452012860148e-05</td><td>3.148452012858921e-05</td><td>0.00010770827272546083</td><td>2.2340041000537845</td><td>2.2256074389234093</td><td>0.024542137632224303</td></tr>\n",
       "<tr><td>PV_BRIGHT_HIGH</td><td>1070066330238977</td><td>20210416</td><td>0</td><td>8.999999999999996e+99</td><td>0.0 .. 0.0</td><td>-0.0019957014509158224</td><td>4.131159871613317e-48</td><td>1570</td><td>0</td><td>STAR</td><td>CV</td><td>3</td><td>1.942668892225729e+84</td><td>0</td><td>1</td><td>0</td><td>363</td><td>363</td><td>152</td><td>8</td><td>219.74316900270472</td><td>-2.0230748003021115</td><td>0.0</td><td>0.0</td><td>2015.5</td><td>5400.0</td><td>4611686018427387904</td><td>1</td><td>TGT</td><td>1.7474475</td><td>-328.31992</td><td>1700</td><td>0.9927429572775708</td><td>63</td><td>0</td><td>0</td><td>0</td><td></td><td>0.0</td><td>0.0</td><td>0.0</td><td>0.0</td><td>0.0</td><td>0.0</td><td>0</td><td>0</td><td></td><td>0.0</td><td>0.0</td><td>0.0</td><td>0.0</td><td></td><td>0.0</td><td>0.0</td><td>0.0</td><td>0.0</td><td>0.0</td><td>0.0</td><td>0.0</td><td>0.0</td><td>0.0</td><td>0.0</td><td>0.0</td><td>0.0</td><td>0.0</td><td>0.0</td><td>0.0</td><td></td><td>1700</td><td>5</td><td>4611686018427387904</td><td>0</td><td>0</td><td>8796093022208</td><td>0</td><td>0</td><td>0</td><td>2</td><td>1.687</td><td>-328.26</td><td>0.053</td><td>0.025</td><td>219.74338106361938</td><td>-2.0231698848766997</td><td>372.4187</td><td>0.8009068636119736</td><td>20210416</td><td>85095</td><td>59321.37174763</td><td>259</td><td>999999</td><td>999999</td><td>999999</td><td>999999</td><td>999999</td><td>999999</td><td>999999</td><td>999999</td><td>65896</td><td>0.003104287781880599</td><td>0.0031042877818804144</td><td>0.003076759229298513</td><td>-35424.26279926839</td><td>5.90967711565156</td><td>0.6583198786129821</td></tr>\n",
       "<tr><td>PV_BRIGHT_HIGH</td><td>1070066330238980</td><td>20210430</td><td>0</td><td>8683.930717336014</td><td>-254.07327042860317 .. -44.492121493687186</td><td>0.05680605705698786</td><td>1.6796747296431635e-05</td><td>0</td><td>7924</td><td>GALAXY</td><td></td><td>10</td><td>45.18371797911823</td><td>0</td><td>1</td><td>0</td><td>490</td><td>490</td><td>469</td><td>0</td><td>219.74653523976207</td><td>-2.0177923866862932</td><td>0.0</td><td>0.0</td><td>2015.5</td><td>5400.0</td><td>4611686018427387904</td><td>1</td><td>TGT</td><td>16.752308</td><td>-388.46588</td><td>1700</td><td>0.5529002723750798</td><td>63</td><td>0</td><td>0</td><td>0</td><td></td><td>0.0</td><td>0.0</td><td>0.0</td><td>0.0</td><td>0.0</td><td>0.0</td><td>0</td><td>0</td><td></td><td>0.0</td><td>0.0</td><td>0.0</td><td>0.0</td><td></td><td>0.0</td><td>0.0</td><td>0.0</td><td>0.0</td><td>0.0</td><td>0.0</td><td>0.0</td><td>0.0</td><td>0.0</td><td>0.0</td><td>0.0</td><td>0.0</td><td>0.0</td><td>0.0</td><td>0.0</td><td></td><td>1700</td><td>5</td><td>4611686018427387904</td><td>0</td><td>0</td><td>8796093022208</td><td>0</td><td>0</td><td>0</td><td>2</td><td>16.737</td><td>-388.347</td><td>0.002</td><td>0.003</td><td>219.7465431774838</td><td>-2.0178034245374663</td><td>1180.5832</td><td>0.7924902023240705</td><td>20210430</td><td>86751</td><td>59335.40485091</td><td>261</td><td>999999</td><td>999999</td><td>999999</td><td>999999</td><td>999999</td><td>999999</td><td>999999</td><td>999999</td><td>65896</td><td>0.0031587600858494834</td><td>0.003158760085849139</td><td>0.0031536039144897787</td><td>-17795.939081461536</td><td>7.764079350185654</td><td>0.6747619789065111</td></tr>\n",
       "<tr><td>PV_BRIGHT_HIGH</td><td>1070066330238976</td><td>20210502</td><td>0</td><td>7985.960172191262</td><td>153.683614674591 .. 14.545800659506249</td><td>0.7567474030478528</td><td>7.513633867494447e-05</td><td>4</td><td>7838</td><td>GALAXY</td><td></td><td>10</td><td>1.5466451793909073</td><td>0</td><td>1</td><td>0</td><td>383</td><td>383</td><td>160</td><td>0</td><td>219.74234000066394</td><td>-2.0243756921374523</td><td>0.0</td><td>0.0</td><td>2015.5</td><td>5400.0</td><td>4611686018427387904</td><td>1</td><td>TGT</td><td>-11.077723</td><td>-340.06555</td><td>1700</td><td>0.9639698150804932</td><td>63</td><td>0</td><td>0</td><td>0</td><td></td><td>0.0</td><td>0.0</td><td>0.0</td><td>0.0</td><td>0.0</td><td>0.0</td><td>0</td><td>0</td><td></td><td>0.0</td><td>0.0</td><td>0.0</td><td>0.0</td><td></td><td>0.0</td><td>0.0</td><td>0.0</td><td>0.0</td><td>0.0</td><td>0.0</td><td>0.0</td><td>0.0</td><td>0.0</td><td>0.0</td><td>0.0</td><td>0.0</td><td>0.0</td><td>0.0</td><td>0.0</td><td></td><td>1700</td><td>5</td><td>4611686018427387904</td><td>0</td><td>0</td><td>8796093022208</td><td>0</td><td>0</td><td>0</td><td>2</td><td>-11.099</td><td>-339.972</td><td>0.007</td><td>0.007</td><td>219.7423678754838</td><td>-2.0244020451908207</td><td>1247.044</td><td>0.7926684855158307</td><td>20210502</td><td>86985</td><td>59337.39767619</td><td>262</td><td>999999</td><td>999999</td><td>999999</td><td>999999</td><td>999999</td><td>999999</td><td>999999</td><td>999999</td><td>65896</td><td>0.004646534590616957</td><td>0.004646534590617304</td><td>0.004653681952469671</td><td>192041.19748896832</td><td>23.287631236998436</td><td>0.9957267077904399</td></tr>\n",
       "<tr><td>PV_DARK_MEDIUM</td><td>39627740093093804</td><td>20210410</td><td>0</td><td>8558.468728370965</td><td>799.038661781035 .. 33.66670753549894</td><td>0.11616692023607937</td><td>1.9712560999955377e-05</td><td>0</td><td>7848</td><td>GALAXY</td><td></td><td>10</td><td>1423.756854943931</td><td>0</td><td>1</td><td>0</td><td>404</td><td>404</td><td>181</td><td>0</td><td>219.74485212397053</td><td>-2.020433594365243</td><td>0.0</td><td>0.0</td><td>2015.5</td><td>5400.0</td><td>5764607523034234880</td><td>1</td><td>TGT</td><td>-16.784899</td><td>-356.3868</td><td>102100</td><td>0.8816094029968446</td><td>575</td><td>9010</td><td>319726</td><td>6060</td><td>SER</td><td>56.56742</td><td>126.93406</td><td>249.45692</td><td>83.25334</td><td>27.771778</td><td>11.9333105</td><td>4096</td><td>482290</td><td>L3</td><td>0.0</td><td>0.0</td><td>0.0</td><td>0.0</td><td>2196m020</td><td>0.04569073</td><td>287.6922</td><td>194.27013</td><td>0.7403911</td><td>0.26807818</td><td>6.1028266</td><td>13.694393</td><td>26.912882</td><td>6.1044836</td><td>13.697063</td><td>26.91656</td><td>1.2695116</td><td>4.5558343</td><td>0.2866191</td><td>0.64937305</td><td>S</td><td>102100</td><td>9</td><td>5764607523034234880</td><td>131074</td><td>0</td><td>158329674399744</td><td>0</td><td>0</td><td>0</td><td>2</td><td>-16.801</td><td>-356.259</td><td>0.002</td><td>0.001</td><td>219.74486007233375</td><td>-2.020437316168766</td><td>605.7373</td><td>0.7316556228993517</td><td>20210410</td><td>84246</td><td>59315.47863003</td><td>256</td><td>999999</td><td>999999</td><td>999999</td><td>999999</td><td>999999</td><td>999999</td><td>999999</td><td>999999</td><td>65896</td><td>4.293944102458146e-05</td><td>4.293944102486422e-05</td><td>3.747844021870921e-05</td><td>0.0</td><td>8.357545526200349</td><td>0.00801908774025514</td></tr>\n",
       "<tr><td>PV_DARK_HIGH</td><td>1083260465577990</td><td>20210502</td><td>0</td><td>8068.308250889182</td><td>1562.710928876638 .. 151.6162908327553</td><td>1.6853966028465377</td><td>0.0001472298845891212</td><td>4</td><td>7892</td><td>GALAXY</td><td></td><td>10</td><td>6.29242704436183</td><td>0</td><td>1</td><td>0</td><td>525</td><td>525</td><td>398</td><td>0</td><td>219.4289937622276</td><td>-2.080476307999219</td><td>0.0</td><td>0.0</td><td>2015.5</td><td>5400.0</td><td>4611686018427387904</td><td>1</td><td>TGT</td><td>67.51317</td><td>-390.81198</td><td>1700</td><td>0.8665167189961225</td><td>63</td><td>0</td><td>0</td><td>0</td><td></td><td>0.0</td><td>0.0</td><td>0.0</td><td>0.0</td><td>0.0</td><td>0.0</td><td>0</td><td>0</td><td></td><td>0.0</td><td>0.0</td><td>0.0</td><td>0.0</td><td></td><td>0.0</td><td>0.0</td><td>0.0</td><td>0.0</td><td>0.0</td><td>0.0</td><td>0.0</td><td>0.0</td><td>0.0</td><td>0.0</td><td>0.0</td><td>0.0</td><td>0.0</td><td>0.0</td><td>0.0</td><td></td><td>1700</td><td>5</td><td>4611686018427387904</td><td>0</td><td>0</td><td>70368744177664</td><td>0</td><td>0</td><td>0</td><td>2</td><td>67.491</td><td>-390.676</td><td>-0.01</td><td>0.0</td><td>219.428954327779</td><td>-2.080475745931265</td><td>284.5409</td><td>0.7929674559067865</td><td>20210502</td><td>86984</td><td>59337.39213158</td><td>253</td><td>999999</td><td>999999</td><td>999999</td><td>999999</td><td>999999</td><td>999999</td><td>999999</td><td>999999</td><td>65923</td><td>0.004075384289726705</td><td>0.004075384289726964</td><td>0.004048906828877968</td><td>488288.62312983506</td><td>44.15410909213769</td><td>0.9866806267136171</td></tr>\n",
       "<tr><td>PV_DARK_MEDIUM</td><td>39627740088897716</td><td>20210410</td><td>0</td><td>8449.286413162947</td><td>859.8611486162031 .. -11.443397870415417</td><td>0.0566410751479887</td><td>3.927285366658883e-06</td><td>0</td><td>7870</td><td>GALAXY</td><td></td><td>10</td><td>1812.223586589098</td><td>0</td><td>1</td><td>0</td><td>495</td><td>495</td><td>391</td><td>0</td><td>219.4261610570291</td><td>-2.0775055207857296</td><td>0.0</td><td>0.0</td><td>2015.5</td><td>5400.0</td><td>5764607523034234880</td><td>1</td><td>TGT</td><td>63.470253</td><td>-372.25583</td><td>102100</td><td>0.33070573032803285</td><td>575</td><td>9010</td><td>319725</td><td>4276</td><td>SER</td><td>118.10836</td><td>175.68538</td><td>234.21725</td><td>29.71071</td><td>8.216807</td><td>3.1750922</td><td>4096</td><td>456206</td><td>L3</td><td>0.0</td><td>0.0</td><td>0.0</td><td>0.0</td><td>2193m020</td><td>0.048559457</td><td>138.96042</td><td>84.676155</td><td>0.6831601</td><td>0.19698566</td><td>4.506394</td><td>6.70323</td><td>8.936499</td><td>4.506394</td><td>6.70323</td><td>8.936499</td><td>1.4373468</td><td>6.717117</td><td>-0.02110713</td><td>-0.3413639</td><td>S</td><td>102100</td><td>9</td><td>5764607523034234880</td><td>131074</td><td>0</td><td>158329674399744</td><td>0</td><td>0</td><td>0</td><td>2</td><td>63.416</td><td>-372.088</td><td>0.002</td><td>0.004</td><td>219.42616913766872</td><td>-2.0775204175269124</td><td>605.7373</td><td>0.7272058712459858</td><td>20210410</td><td>84246</td><td>59315.47863003</td><td>256</td><td>999999</td><td>999999</td><td>999999</td><td>999999</td><td>999999</td><td>999999</td><td>999999</td><td>999999</td><td>65923</td><td>0.00014713076352236212</td><td>0.00014713076352240406</td><td>0.00014901224090422754</td><td>0.0</td><td>1.6650533761851822</td><td>0.03631288578802095</td></tr>\n",
       "</table>"
      ],
      "text/plain": [
       "<QTable length=10>\n",
       "   PROGRAM          TARGETID     ...     V_ROT_ERR             RADIUS       \n",
       "                                 ...       km / s                           \n",
       "   bytes14           int64       ...      float64             float64       \n",
       "-------------- ----------------- ... ------------------ --------------------\n",
       "PV_BRIGHT_HIGH  1070078338531340 ... 1.6049864488223995  0.32958889631124655\n",
       "  PV_DARK_HIGH  1083272478064650 ...  5.555065693739474   0.6576075317925104\n",
       "PV_DARK_MEDIUM 39627752101383445 ... 1.1593635562467697 0.008635129691511556\n",
       "PV_DARK_MEDIUM 39627752101383445 ... 2.2256074389234093 0.024542137632224303\n",
       "PV_BRIGHT_HIGH  1070066330238977 ...   5.90967711565156   0.6583198786129821\n",
       "PV_BRIGHT_HIGH  1070066330238980 ...  7.764079350185654   0.6747619789065111\n",
       "PV_BRIGHT_HIGH  1070066330238976 ... 23.287631236998436   0.9957267077904399\n",
       "PV_DARK_MEDIUM 39627740093093804 ...  8.357545526200349  0.00801908774025514\n",
       "  PV_DARK_HIGH  1083260465577990 ...  44.15410909213769   0.9866806267136171\n",
       "PV_DARK_MEDIUM 39627740088897716 ... 1.6650533761851822  0.03631288578802095"
      ]
     },
     "execution_count": 10,
     "metadata": {},
     "output_type": "execute_result"
    }
   ],
   "source": [
    "PV_SGA_ztable = QTable.read('../PV_SGA_vel_05062021.fits', format='fits')\n",
    "\n",
    "PV_SGA_ztable[:10]"
   ]
  },
  {
   "cell_type": "markdown",
   "id": "08357c68-50c7-4239-b28c-80c5cc28f242",
   "metadata": {},
   "source": [
    "# Rotation curve functions\n",
    "\n",
    "From `dark_matter_mass_v1.py`"
   ]
  },
  {
   "cell_type": "code",
   "execution_count": 25,
   "id": "1fad4a60-e188-4440-bca5-41ccbbea3328",
   "metadata": {},
   "outputs": [],
   "source": [
    "def rot_fit_BB( depro_radius, params):\n",
    "    \"\"\"\n",
    "    Function to fit the rotation curve data to.\n",
    "\n",
    "\n",
    "    PARAMETERS\n",
    "    ==========\n",
    "    \n",
    "    depro_radius : float or ndarray of shape (n,)\n",
    "        Deprojected radius as taken from the [PLATE]-[FIBERID] rotation curve \n",
    "        data file (in units of kpc); the \"x\" data of the rotation curve equation\n",
    "\n",
    "    v_max : float\n",
    "        The maximum velocity (or in the case of fitting the negative, the\n",
    "        absolute value of the minimum velocity) parameter of the rotation curve \n",
    "        equation (given in km/s)\n",
    "\n",
    "    r_turn : float\n",
    "        The radius at which the rotation curve trasitions from increasing to \n",
    "        flat-body for the rotation curve equation (given in kpc)\n",
    "\n",
    "    alpha : float\n",
    "        The exponential parameter for the rotation curve equation\n",
    "\n",
    "\n",
    "    RETURNS\n",
    "    =======\n",
    "        \n",
    "    The rotation curve equation with the given '@param' parameters and\n",
    "    'depro_radius' data\n",
    "    \"\"\"\n",
    "\n",
    "    v_max, r_turn, alpha = params\n",
    "\n",
    "    v = v_max * (np.abs(depro_radius) / (r_turn**alpha + np.abs(depro_radius)**alpha)**(1/alpha))\n",
    "\n",
    "    v = v*np.sign(depro_radius)\n",
    "\n",
    "    return v\n",
    "\n",
    "\n",
    "def logL_BB(params, r, v, v_err):\n",
    "    '''\n",
    "    Log likelihood of the data and the fit values for the BB fit function.\n",
    "\n",
    "\n",
    "    PARAMETERS\n",
    "    ==========\n",
    "\n",
    "    params : list or ndarray\n",
    "        List of 3 fit parameters\n",
    "\n",
    "    r : ndarray\n",
    "        Radius values for the data points\n",
    "\n",
    "    v : ndarray\n",
    "        Velocity values for the data points\n",
    "\n",
    "    v_err : ndarray\n",
    "        Velocity error values for the data points\n",
    "\n",
    "\n",
    "    RETURNS\n",
    "    =======\n",
    "\n",
    "    logL : float\n",
    "        Log likelihood of set velocity given model parameters\n",
    "    '''\n",
    "\n",
    "    lambda1 = rot_fit_BB(r, params)\n",
    "    lambda1[lambda1 <= 0] = np.finfo( dtype=np.float64).tiny\n",
    "\n",
    "    return np.sum( ((v - lambda1)/v_err)**2 + np.log(2*np.pi*np.array(v_err)**2))\n",
    "\n",
    "\n",
    "def nlogL_BB(params, radius, velocity, velocity_err):\n",
    "    '''\n",
    "    Negative log likelihood, for minimizing.\n",
    "    '''\n",
    "    return -logL_BB(params, radius, velocity, velocity_err)"
   ]
  },
  {
   "cell_type": "markdown",
   "id": "6a414a99-8602-40ff-8c6a-1a420f5b43d6",
   "metadata": {},
   "source": [
    "# Fit rotation curve"
   ]
  },
  {
   "cell_type": "code",
   "execution_count": 53,
   "id": "d130584a-b8fe-4dd2-ae89-70091e1fa999",
   "metadata": {},
   "outputs": [],
   "source": [
    "galaxy = 'PGC2403372'\n",
    "\n",
    "SGA_index = np.argwhere(SGA['GALAXY'] == galaxy)[0]\n",
    "\n",
    "gal_index = np.argwhere(PV_SGA_ztable['IDX_SGA'] == SGA_index)"
   ]
  },
  {
   "cell_type": "code",
   "execution_count": 54,
   "id": "f7b57a0d-aaaf-4b41-b71b-df9ae8be7560",
   "metadata": {},
   "outputs": [
    {
     "data": {
      "text/html": [
       "<i>QTable length=4</i>\n",
       "<table id=\"table46913269112944\" class=\"table-striped table-bordered table-condensed\">\n",
       "<thead><tr><th>SPECTYPE [1]</th><th>RADIUS [1]</th><th>V_ROT [1]</th><th>V_ROT_ERR [1]</th></tr></thead>\n",
       "<thead><tr><th></th><th></th><th>km / s</th><th>km / s</th></tr></thead>\n",
       "<thead><tr><th>bytes6</th><th>float64</th><th>float64</th><th>float64</th></tr></thead>\n",
       "<tr><td>GALAXY</td><td>0.340172692366619</td><td>261.32376468344995</td><td>14.919098859395056</td></tr>\n",
       "<tr><td>GALAXY</td><td>0.6717900755276907</td><td>-224.03991889930748</td><td>8.19043576030275</td></tr>\n",
       "<tr><td>GALAXY</td><td>0.004184769273022973</td><td>-0.8651083295334672</td><td>7.323649964359892</td></tr>\n",
       "<tr><td>GALAXY</td><td>0.0027957086545224883</td><td>-7.107449202385029</td><td>10.21322516164387</td></tr>\n",
       "</table>"
      ],
      "text/plain": [
       "<QTable length=4>\n",
       "SPECTYPE [1]       RADIUS [1]           V_ROT [1]        V_ROT_ERR [1]   \n",
       "                                          km / s             km / s      \n",
       "   bytes6           float64              float64            float64      \n",
       "------------ --------------------- ------------------- ------------------\n",
       "      GALAXY     0.340172692366619  261.32376468344995 14.919098859395056\n",
       "      GALAXY    0.6717900755276907 -224.03991889930748   8.19043576030275\n",
       "      GALAXY  0.004184769273022973 -0.8651083295334672  7.323649964359892\n",
       "      GALAXY 0.0027957086545224883  -7.107449202385029  10.21322516164387"
      ]
     },
     "execution_count": 54,
     "metadata": {},
     "output_type": "execute_result"
    }
   ],
   "source": [
    "gal_table = PV_SGA_ztable[gal_index]\n",
    "\n",
    "gal_table[['SPECTYPE', 'RADIUS', 'V_ROT', 'V_ROT_ERR']]"
   ]
  },
  {
   "cell_type": "code",
   "execution_count": 55,
   "id": "7aa3b054-1224-434a-a5f4-183a2f859523",
   "metadata": {},
   "outputs": [
    {
     "name": "stderr",
     "output_type": "stream",
     "text": [
      "<ipython-input-25-b76920e7bcaf>:35: RuntimeWarning: overflow encountered in double_scalars\n",
      "  v = v_max * (np.abs(depro_radius) / (r_turn**alpha + np.abs(depro_radius)**alpha)**(1/alpha))\n",
      "/global/common/software/desi/cori/desiconda/20200801-1.4.0-spec/conda/lib/python3.8/site-packages/astropy/units/quantity.py:477: RuntimeWarning: overflow encountered in power\n",
      "  result = super().__array_ufunc__(function, method, *arrays, **kwargs)\n"
     ]
    },
    {
     "data": {
      "text/plain": [
       "      fun: <Quantity -39515.62318421>\n",
       " hess_inv: <3x3 LbfgsInvHessProduct with dtype=float64>\n",
       "      jac: array([-8.60650516e+01,  6.75283809e+02, -7.71251443e-02])\n",
       "  message: b'CONVERGENCE: NORM_OF_PROJECTED_GRADIENT_<=_PGTOL'\n",
       "     nfev: 32\n",
       "      nit: 2\n",
       "     njev: 8\n",
       "   status: 0\n",
       "  success: True\n",
       "        x: array([1.e+03, 1.e-03, 1.e+01])"
      ]
     },
     "execution_count": 55,
     "metadata": {},
     "output_type": "execute_result"
    }
   ],
   "source": [
    "# R_turn\n",
    "r_turn_guess = 0.5 # R(26)\n",
    "r_turn_low = 0.001 # R(26)\n",
    "r_turn_high = 2.   # R(26)\n",
    "r_turn_bounds = (r_turn_low, r_turn_high)\n",
    "\n",
    "# Vmax\n",
    "v_max_guess = np.max(np.abs(gal_table['V_ROT'].data))\n",
    "v_max_low = 1.0    # km/s\n",
    "v_max_high = 1000. # km/s\n",
    "v_max_bounds = (v_max_low, v_max_high)\n",
    "\n",
    "# alpha\n",
    "alpha_guess = 2.\n",
    "alpha_low = np.nextafter(0,1)\n",
    "alpha_high = 10.\n",
    "alpha_bounds = (alpha_low, alpha_high)\n",
    "\n",
    "rot_param_bounds = [v_max_bounds, r_turn_bounds, alpha_bounds]\n",
    "\n",
    "\n",
    "results = None\n",
    "\n",
    "for i in range(30):\n",
    "    p0 = [np.random.uniform(b[0], b[1]) for b in rot_param_bounds]\n",
    "    result = minimize(nlogL_BB, \n",
    "                      p0, \n",
    "                      method='L-BFGS-B', \n",
    "                      args=(gal_table['RADIUS'], np.abs(gal_table['V_ROT'].data), gal_table['V_ROT_ERR'].data), \n",
    "                      bounds=rot_param_bounds)\n",
    "    if result.success:\n",
    "        if results is None:\n",
    "            results = result\n",
    "        else:\n",
    "            if result.fun < results.fun:\n",
    "                results = result\n",
    "\n",
    "rot_perr = np.sqrt(np.diag(results.hess_inv.todense()))\n",
    "\n",
    "results"
   ]
  },
  {
   "cell_type": "code",
   "execution_count": 56,
   "id": "7938783d-0d90-41c7-9daa-575f068a4142",
   "metadata": {},
   "outputs": [
    {
     "name": "stderr",
     "output_type": "stream",
     "text": [
      "<ipython-input-56-224f3210dc3d>:3: MatplotlibDeprecationWarning: Support for passing a (n, 1)-shaped error array to errorbar() is deprecated since Matplotlib 3.1 and will be removed in 3.3; pass a 1D array instead.\n",
      "  plt.errorbar(gal_table['RADIUS'], np.abs(gal_table['V_ROT']), yerr=gal_table['V_ROT_ERR'], fmt='o')\n"
     ]
    },
    {
     "data": {
      "image/png": "[encoded data removed]",
      "text/plain": [
       "<Figure size 432x288 with 1 Axes>"
      ]
     },
     "metadata": {
      "needs_background": "light"
     },
     "output_type": "display_data"
    }
   ],
   "source": [
    "plt.figure()\n",
    "\n",
    "plt.errorbar(gal_table['RADIUS'], np.abs(gal_table['V_ROT']), yerr=gal_table['V_ROT_ERR'], fmt='o')\n",
    "\n",
    "R = np.linspace(0,1.1,100)\n",
    "plt.plot(R,rot_fit_BB(R, [239.9, 0.2831, 109.5])) # Fit values from MATLAB\n",
    "\n",
    "plt.xlabel('Distance from galaxy center [R(26)]')\n",
    "plt.ylabel('$V_{rot}$ [km/s]')\n",
    "\n",
    "plt.title(galaxy)\n",
    "\n",
    "plt.savefig('../images/PV_fits/' + galaxy + '_fit.png', format='png', dpi=300);"
   ]
  },
  {
   "cell_type": "code",
   "execution_count": null,
   "id": "faf45820-bd7f-4e5d-9da1-0eeed0dea62c",
   "metadata": {},
   "outputs": [],
   "source": []
  },
  {
   "cell_type": "code",
   "execution_count": null,
   "id": "4a092aa0-918d-4265-8be6-43cf8ea2c087",
   "metadata": {},
   "outputs": [],
   "source": []
  }
 ],
 "metadata": {
  "kernelspec": {
   "display_name": "DESI master",
   "language": "python",
   "name": "desi-master"
  },
  "language_info": {
   "codemirror_mode": {
    "name": "ipython",
    "version": 3
   },
   "file_extension": ".py",
   "mimetype": "text/x-python",
   "name": "python",
   "nbconvert_exporter": "python",
   "pygments_lexer": "ipython3",
   "version": "3.8.3"
  }
 },
 "nbformat": 4,
 "nbformat_minor": 5
}
