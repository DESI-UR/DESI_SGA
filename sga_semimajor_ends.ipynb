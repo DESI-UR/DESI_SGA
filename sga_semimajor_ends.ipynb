{
 "cells": [
  {
   "cell_type": "markdown",
   "metadata": {},
   "source": [
    "# PV Secondary Target Selection\n",
    "\n",
    "## sga_semimajor_ends\n",
    "### Method to create the secondary targeting file for the end points on the semi-major axis of large galaxies (from the SGA) in the BGS sample\n",
    "\n",
    "##### Author: Kelly Douglass (University of Rochester)\n",
    "\n",
    "See `/project/projectdirs/desi/target/secondary/README` for output data model\n",
    "\n",
    "### Target classes\n",
    "1. **End points on the major axis**\n",
    "2. Points along the major axis\n",
    "3. Points off-axis"
   ]
  },
  {
   "cell_type": "code",
   "execution_count": 1,
   "metadata": {},
   "outputs": [
    {
     "name": "stderr",
     "output_type": "stream",
     "text": [
      "Matplotlib is building the font cache; this may take a moment.\n"
     ]
    }
   ],
   "source": [
    "from astropy.table import Table, Column\n",
    "from astropy.io import fits\n",
    "from astropy import units as u\n",
    "from astropy.coordinates import SkyCoord\n",
    "\n",
    "import numpy as np\n",
    "\n",
    "import matplotlib.pyplot as plt\n",
    "%matplotlib notebook"
   ]
  },
  {
   "cell_type": "markdown",
   "metadata": {},
   "source": [
    "## Parameters"
   ]
  },
  {
   "cell_type": "code",
   "execution_count": 2,
   "metadata": {},
   "outputs": [],
   "source": [
    "OVERRIDE = True\n",
    "REF_EPOCH = 2015.5\n",
    "\n",
    "#output_directory = '/project/projectdirs/desi/target/secondary/indata/'\n",
    "output_directory = ''"
   ]
  },
  {
   "cell_type": "markdown",
   "metadata": {},
   "source": [
    "## Target catalogs\n",
    "\n",
    "[Siena Galaxy Atlas](https://portal.nersc.gov/project/cosmo/temp/ioannis/SGA-html-dr9alpha/SGA-2arcmin.html)"
   ]
  },
  {
   "cell_type": "code",
   "execution_count": 6,
   "metadata": {},
   "outputs": [],
   "source": [
    "# Target catalog file names\n",
    "\n",
    "#input_directory = '/Users/kellydouglass/Documents/Research/data/SGA/'\n",
    "input_directory = '/global/cfs/cdirs/cosmo/data/sga/2020/'\n",
    "\n",
    "#input_filename = input_directory + 'SGA_BGS_inspecfootprint.fits'\n",
    "#input_filename = input_directory + 'SGA-ellipse-v3.0.kd.fits'\n",
    "input_filename = input_directory + 'SGA-2020.fits'\n",
    "\n",
    "hdu = fits.open(input_filename)\n",
    "large_galaxies = Table(hdu[1].data)\n",
    "tractor_fits = Table(hdu[2].data)\n",
    "hdu.close()"
   ]
  },
  {
   "cell_type": "code",
   "execution_count": 8,
   "metadata": {},
   "outputs": [],
   "source": [
    "large_galaxies['TYPE'] = tractor_fits['TYPE']\n",
    "large_galaxies['SERSIC'] = tractor_fits['SERSIC']"
   ]
  },
  {
   "cell_type": "code",
   "execution_count": 9,
   "metadata": {},
   "outputs": [
    {
     "data": {
      "text/html": [
       "<div><i>Table length=383620</i>\n",
       "<table id=\"table46914485385440\" class=\"table-striped table-bordered table-condensed\">\n",
       "<thead><tr><th>TYPE</th><th>SERSIC</th></tr></thead>\n",
       "<thead><tr><th>str6</th><th>float32</th></tr></thead>\n",
       "<tr><td>SER</td><td>1.7235138</td></tr>\n",
       "<tr><td>SER</td><td>1.9607356</td></tr>\n",
       "<tr><td>SER</td><td>0.89465046</td></tr>\n",
       "<tr><td>SER</td><td>5.0073137</td></tr>\n",
       "<tr><td>SER</td><td>4.5350695</td></tr>\n",
       "<tr><td>SER</td><td>1.3540022</td></tr>\n",
       "<tr><td>SER</td><td>3.805435</td></tr>\n",
       "<tr><td>REX</td><td>0.0</td></tr>\n",
       "<tr><td>DEV</td><td>4.0</td></tr>\n",
       "<tr><td>SER</td><td>4.100763</td></tr>\n",
       "<tr><td>...</td><td>...</td></tr>\n",
       "<tr><td>SER</td><td>4.33539</td></tr>\n",
       "<tr><td>SER</td><td>6.0</td></tr>\n",
       "<tr><td>SER</td><td>6.0</td></tr>\n",
       "<tr><td>SER</td><td>3.8047826</td></tr>\n",
       "<tr><td>SER</td><td>6.0</td></tr>\n",
       "<tr><td>SER</td><td>6.0</td></tr>\n",
       "<tr><td>SER</td><td>5.778027</td></tr>\n",
       "<tr><td>SER</td><td>6.0</td></tr>\n",
       "<tr><td>SER</td><td>6.0</td></tr>\n",
       "<tr><td>SER</td><td>6.0</td></tr>\n",
       "</table></div>"
      ],
      "text/plain": [
       "<Table length=383620>\n",
       "TYPE   SERSIC  \n",
       "str6  float32  \n",
       "---- ----------\n",
       " SER  1.7235138\n",
       " SER  1.9607356\n",
       " SER 0.89465046\n",
       " SER  5.0073137\n",
       " SER  4.5350695\n",
       " SER  1.3540022\n",
       " SER   3.805435\n",
       " REX        0.0\n",
       " DEV        4.0\n",
       " SER   4.100763\n",
       " ...        ...\n",
       " SER    4.33539\n",
       " SER        6.0\n",
       " SER        6.0\n",
       " SER  3.8047826\n",
       " SER        6.0\n",
       " SER        6.0\n",
       " SER   5.778027\n",
       " SER        6.0\n",
       " SER        6.0\n",
       " SER        6.0"
      ]
     },
     "execution_count": 9,
     "metadata": {},
     "output_type": "execute_result"
    }
   ],
   "source": [
    "#large_galaxies.colnames\n",
    "large_galaxies[['TYPE', 'SERSIC']]#[large_galaxies['IN_FOOTPRINT_GRZ']]"
   ]
  },
  {
   "cell_type": "code",
   "execution_count": 10,
   "metadata": {},
   "outputs": [
    {
     "data": {
      "text/html": [
       "&lt;Column name=&apos;TYPE&apos; dtype=&apos;str6&apos; length=4&gt;\n",
       "<table>\n",
       "<tr><td>DEV</td></tr>\n",
       "<tr><td>EXP</td></tr>\n",
       "<tr><td>REX</td></tr>\n",
       "<tr><td>SER</td></tr>\n",
       "</table>"
      ],
      "text/plain": [
       "<Column name='TYPE' dtype='str6' length=4>\n",
       "DEV\n",
       "EXP\n",
       "REX\n",
       "SER"
      ]
     },
     "execution_count": 10,
     "metadata": {},
     "output_type": "execute_result"
    }
   ],
   "source": [
    "np.unique(large_galaxies['TYPE'])#[large_galaxies['IN_FOOTPRINT_GRZ']])"
   ]
  },
  {
   "cell_type": "markdown",
   "metadata": {},
   "source": [
    "## Set first priority: points at either end of the major axis\n",
    "\n",
    "Note: Galaxy centers should already be BGS targets"
   ]
  },
  {
   "cell_type": "markdown",
   "metadata": {},
   "source": [
    "### Inclination angle minimum\n",
    "\n",
    "We require a minimum inclination angle of $25^\\circ$."
   ]
  },
  {
   "cell_type": "code",
   "execution_count": 28,
   "metadata": {},
   "outputs": [],
   "source": [
    "i_min = 45 #25 # degrees\n",
    "\n",
    "i_boolean = large_galaxies['BA'] <= np.cos(i_min*np.pi/180.)\n",
    "\n",
    "lg_to_observe = large_galaxies[i_boolean]"
   ]
  },
  {
   "cell_type": "markdown",
   "metadata": {},
   "source": [
    "### Disk galaxies\n",
    "\n",
    "We require an exponential profile fit from Tractor."
   ]
  },
  {
   "cell_type": "code",
   "execution_count": 29,
   "metadata": {},
   "outputs": [],
   "source": [
    "exp_boolean = lg_to_observe['TYPE'] == 'EXP'\n",
    "ser_boolean = (lg_to_observe['SERSIC'] <= 2.) & (lg_to_observe['TYPE'] == 'SER')\n",
    "\n",
    "disk_to_observe = lg_to_observe[exp_boolean | ser_boolean]"
   ]
  },
  {
   "cell_type": "markdown",
   "metadata": {},
   "source": [
    "### Within the SGA\n",
    "\n",
    "We require all galaxies to have a minimum diameter at the 25 magnitude of 20\"."
   ]
  },
  {
   "cell_type": "code",
   "execution_count": 30,
   "metadata": {},
   "outputs": [],
   "source": [
    "#SGA_disks = disk_to_observe[disk_to_observe['inSGA']]\n",
    "SGA_disks = disk_to_observe"
   ]
  },
  {
   "cell_type": "markdown",
   "metadata": {},
   "source": [
    "## Calculate (ra, dec) of major axis end points\n",
    "\n",
    "We set two fiber target locations at either end of the major axis at a distance of $0.4R(26)$, where the value of 0.4 was determined based on the results of the measurements taken during SV."
   ]
  },
  {
   "cell_type": "code",
   "execution_count": 31,
   "metadata": {},
   "outputs": [],
   "source": [
    "center_ra = SGA_disks['RA']   # degrees\n",
    "center_dec = SGA_disks['DEC'] # degrees\n",
    "\n",
    "centers = SkyCoord(center_ra*u.deg, center_dec*u.deg)\n",
    "\n",
    "phi = SGA_disks['PA']*u.deg\n",
    "#r26 = 0.5*SGA_disks['DIAM']*u.arcmin\n",
    "r26 = 0.5*SGA_disks['D26']*u.arcmin\n",
    "\n",
    "x = 0.4 # Determined during SV\n",
    "\n",
    "# Maximum distance along the semi-major axis from the center coordinate for our endpoints\n",
    "delta_a = x*r26\n",
    "\n",
    "# Target positions\n",
    "fiber1 = centers.directional_offset_by(phi, x*r26)\n",
    "fiber2 = centers.directional_offset_by(phi + 180*u.deg, x*r26)\n",
    "\n",
    "fiber_ra = np.concatenate((fiber1.ra, fiber2.ra))\n",
    "fiber_dec = np.concatenate((fiber1.dec, fiber2.dec))"
   ]
  },
  {
   "cell_type": "markdown",
   "metadata": {},
   "source": [
    "### Write target list to file"
   ]
  },
  {
   "cell_type": "code",
   "execution_count": 32,
   "metadata": {},
   "outputs": [],
   "source": [
    "N_targets = len(fiber_ra)"
   ]
  },
  {
   "cell_type": "code",
   "execution_count": 33,
   "metadata": {},
   "outputs": [],
   "source": [
    "disk_edges = Table([Column(fiber_ra, name='RA'), \n",
    "                    Column(fiber_dec, name='DEC'), \n",
    "                    Column(np.zeros(N_targets, dtype='>f4'), name='PMRA'), \n",
    "                    Column(np.zeros(N_targets, dtype='>f4'), name='PMDEC'), \n",
    "                    Column(REF_EPOCH*np.ones(N_targets, dtype='>f4'), name='REF_EPOCH'),\n",
    "                    Column(OVERRIDE*np.ones(N_targets, dtype='bool'), name='OVERRIDE')])"
   ]
  },
  {
   "cell_type": "code",
   "execution_count": 24,
   "metadata": {},
   "outputs": [],
   "source": [
    "disk_edges.write(output_directory + 'sga_semimajor_ends.fits', format='fits')"
   ]
  },
  {
   "cell_type": "markdown",
   "metadata": {},
   "source": [
    "## Target statistics"
   ]
  },
  {
   "cell_type": "code",
   "execution_count": 34,
   "metadata": {},
   "outputs": [
    {
     "name": "stdout",
     "output_type": "stream",
     "text": [
      "The number of disk galaxies is 140822\n",
      "The number of targets is 281644\n",
      "The number of disk galaxies in this protion of the sky is 40302.5\n",
      "The number of disk galaxies per square degree is 8.0605\n",
      "The number of fiber placements in this portion of the sky is 80605\n",
      "The number of fiber placements per square degree is 16.121\n"
     ]
    }
   ],
   "source": [
    "print('The number of disk galaxies is', len(SGA_disks))\n",
    "print('The number of targets is', N_targets)\n",
    "\n",
    "sky_chunk_boolean = np.logical_and.reduce([disk_edges['RA'] > 150, disk_edges['RA'] < 250, \n",
    "                                           disk_edges['DEC'] > 0, disk_edges['DEC'] < 50])\n",
    "\n",
    "num_targets_in_sky_chunk = np.sum(sky_chunk_boolean)\n",
    "\n",
    "sky_area = 100*50\n",
    "\n",
    "print('The number of disk galaxies in this protion of the sky is', \n",
    "      0.5*num_targets_in_sky_chunk)\n",
    "print('The number of disk galaxies per square degree is', \n",
    "      0.5*num_targets_in_sky_chunk/sky_area)\n",
    "print('The number of fiber placements in this portion of the sky is', \n",
    "      num_targets_in_sky_chunk)\n",
    "print('The number of fiber placements per square degree is', \n",
    "      num_targets_in_sky_chunk/sky_area)"
   ]
  },
  {
   "cell_type": "code",
   "execution_count": null,
   "metadata": {},
   "outputs": [],
   "source": []
  }
 ],
 "metadata": {
  "kernelspec": {
   "display_name": "DESI master",
   "language": "python",
   "name": "desi-master"
  },
  "language_info": {
   "codemirror_mode": {
    "name": "ipython",
    "version": 3
   },
   "file_extension": ".py",
   "mimetype": "text/x-python",
   "name": "python",
   "nbconvert_exporter": "python",
   "pygments_lexer": "ipython3",
   "version": "3.9.7"
  }
 },
 "nbformat": 4,
 "nbformat_minor": 4
}
