{
 "cells": [
  {
   "cell_type": "markdown",
   "metadata": {},
   "source": [
    "# PV Secondary Target Selection\n",
    "\n",
    "## sga_semimajor_ends\n",
    "### Method to create the secondary targeting file for the end points on the semi-major axis of large galaxies (from the SGA) in the BGS sample\n",
    "\n",
    "##### Author: Kelly Douglass (University of Rochester)\n",
    "\n",
    "See `/project/projectdirs/desi/target/secondary/README` for output data model\n",
    "\n",
    "### Target classes\n",
    "1. **End points on the major axis**\n",
    "2. Points along the major axis\n",
    "3. Points off-axis"
   ]
  },
  {
   "cell_type": "code",
   "execution_count": 1,
   "metadata": {},
   "outputs": [],
   "source": [
    "from astropy.table import Table, Column\n",
    "from astropy.io import fits\n",
    "from astropy import units as u\n",
    "from astropy.coordinates import SkyCoord\n",
    "\n",
    "import numpy as np\n",
    "\n",
    "import matplotlib.pyplot as plt\n",
    "%matplotlib notebook"
   ]
  },
  {
   "cell_type": "markdown",
   "metadata": {},
   "source": [
    "## Parameters"
   ]
  },
  {
   "cell_type": "code",
   "execution_count": 2,
   "metadata": {},
   "outputs": [],
   "source": [
    "OVERRIDE = True\n",
    "REF_EPOCH = 2015.5\n",
    "\n",
    "#output_directory = '/project/projectdirs/desi/target/secondary/indata/'\n",
    "output_directory = '../'"
   ]
  },
  {
   "cell_type": "markdown",
   "metadata": {},
   "source": [
    "## Target catalogs\n",
    "\n",
    "[Siena Galaxy Atlas](https://portal.nersc.gov/project/cosmo/temp/ioannis/SGA-html-dr9alpha/SGA-2arcmin.html)"
   ]
  },
  {
   "cell_type": "code",
   "execution_count": 14,
   "metadata": {},
   "outputs": [],
   "source": [
    "# Target catalog file names\n",
    "\n",
    "input_directory = '/Users/kellydouglass/Documents/Research/data/SGA/'\n",
    "\n",
    "#input_filename = input_directory + 'SGA_BGS_inspecfootprint.fits'\n",
    "input_filename = input_directory + 'SGA-ellipse-v3.0.kd.fits'\n",
    "\n",
    "hdu = fits.open(input_filename)\n",
    "large_galaxies = Table(hdu[1].data)\n",
    "hdu.close()"
   ]
  },
  {
   "cell_type": "code",
   "execution_count": 15,
   "metadata": {},
   "outputs": [
    {
     "data": {
      "text/html": [
       "<i>Table length=373907</i>\n",
       "<table id=\"table140297048881856\" class=\"table-striped table-bordered table-condensed\">\n",
       "<thead><tr><th>TYPE</th><th>SERSIC</th></tr></thead>\n",
       "<thead><tr><th>str6</th><th>float32</th></tr></thead>\n",
       "<tr><td>SER</td><td>1.7383994</td></tr>\n",
       "<tr><td>DEV</td><td>4.0</td></tr>\n",
       "<tr><td>SER</td><td>1.5428454</td></tr>\n",
       "<tr><td>SER</td><td>4.436294</td></tr>\n",
       "<tr><td>SER</td><td>4.5138383</td></tr>\n",
       "<tr><td>SER</td><td>4.6850886</td></tr>\n",
       "<tr><td>SER</td><td>1.3623616</td></tr>\n",
       "<tr><td>SER</td><td>1.437142</td></tr>\n",
       "<tr><td>SER</td><td>2.2080953</td></tr>\n",
       "<tr><td>SER</td><td>4.011144</td></tr>\n",
       "<tr><td>...</td><td>...</td></tr>\n",
       "<tr><td>SER</td><td>0.9465607</td></tr>\n",
       "<tr><td>SER</td><td>4.596849</td></tr>\n",
       "<tr><td>DEV</td><td>4.0</td></tr>\n",
       "<tr><td>SER</td><td>0.7717775</td></tr>\n",
       "<tr><td>SER</td><td>3.0177014</td></tr>\n",
       "<tr><td>SER</td><td>0.90090257</td></tr>\n",
       "<tr><td>SER</td><td>4.770504</td></tr>\n",
       "<tr><td>SER</td><td>0.9185975</td></tr>\n",
       "<tr><td>SER</td><td>4.701531</td></tr>\n",
       "<tr><td>SER</td><td>3.237889</td></tr>\n",
       "</table>"
      ],
      "text/plain": [
       "<Table length=373907>\n",
       "TYPE   SERSIC  \n",
       "str6  float32  \n",
       "---- ----------\n",
       " SER  1.7383994\n",
       " DEV        4.0\n",
       " SER  1.5428454\n",
       " SER   4.436294\n",
       " SER  4.5138383\n",
       " SER  4.6850886\n",
       " SER  1.3623616\n",
       " SER   1.437142\n",
       " SER  2.2080953\n",
       " SER   4.011144\n",
       " ...        ...\n",
       " SER  0.9465607\n",
       " SER   4.596849\n",
       " DEV        4.0\n",
       " SER  0.7717775\n",
       " SER  3.0177014\n",
       " SER 0.90090257\n",
       " SER   4.770504\n",
       " SER  0.9185975\n",
       " SER   4.701531\n",
       " SER   3.237889"
      ]
     },
     "execution_count": 15,
     "metadata": {},
     "output_type": "execute_result"
    }
   ],
   "source": [
    "large_galaxies[['TYPE', 'SERSIC']][large_galaxies['IN_FOOTPRINT_GRZ']]"
   ]
  },
  {
   "cell_type": "code",
   "execution_count": 16,
   "metadata": {},
   "outputs": [
    {
     "data": {
      "text/html": [
       "&lt;Column name=&apos;TYPE&apos; dtype=&apos;str6&apos; length=5&gt;\n",
       "<table>\n",
       "<tr><td></td></tr>\n",
       "<tr><td>DEV</td></tr>\n",
       "<tr><td>EXP</td></tr>\n",
       "<tr><td>REX</td></tr>\n",
       "<tr><td>SER</td></tr>\n",
       "</table>"
      ],
      "text/plain": [
       "<Column name='TYPE' dtype='str6' length=5>\n",
       "   \n",
       "DEV\n",
       "EXP\n",
       "REX\n",
       "SER"
      ]
     },
     "execution_count": 16,
     "metadata": {},
     "output_type": "execute_result"
    }
   ],
   "source": [
    "np.unique(large_galaxies['TYPE'][large_galaxies['IN_FOOTPRINT_GRZ']])"
   ]
  },
  {
   "cell_type": "markdown",
   "metadata": {},
   "source": [
    "## Set first priority: points at either end of the major axis\n",
    "\n",
    "Note: Galaxy centers should already be BGS targets"
   ]
  },
  {
   "cell_type": "markdown",
   "metadata": {},
   "source": [
    "### Inclination angle minimum\n",
    "\n",
    "We require a minimum inclination angle of $25^\\circ$."
   ]
  },
  {
   "cell_type": "code",
   "execution_count": 17,
   "metadata": {},
   "outputs": [],
   "source": [
    "i_min = 25 # degrees\n",
    "\n",
    "i_boolean = large_galaxies['BA'] <= np.cos(i_min*np.pi/180.)\n",
    "\n",
    "lg_to_observe = large_galaxies[i_boolean]"
   ]
  },
  {
   "cell_type": "markdown",
   "metadata": {},
   "source": [
    "### Disk galaxies\n",
    "\n",
    "We require an exponential profile fit from Tractor."
   ]
  },
  {
   "cell_type": "code",
   "execution_count": 18,
   "metadata": {},
   "outputs": [],
   "source": [
    "disk_to_observe = lg_to_observe[lg_to_observe['TYPE'] == 'EXP']"
   ]
  },
  {
   "cell_type": "markdown",
   "metadata": {},
   "source": [
    "### Within the SGA\n",
    "\n",
    "We require all galaxies to have a minimum diameter at the 25 magnitude of 20\"."
   ]
  },
  {
   "cell_type": "code",
   "execution_count": 19,
   "metadata": {},
   "outputs": [],
   "source": [
    "#SGA_disks = disk_to_observe[disk_to_observe['inSGA']]\n",
    "SGA_disks = disk_to_observe"
   ]
  },
  {
   "cell_type": "markdown",
   "metadata": {},
   "source": [
    "## Calculate (ra, dec) of major axis end points\n",
    "\n",
    "We set two fiber target locations at either end of the major axis at a distance of $0.4R(26)$, where the value of 0.4 was determined based on the results of the measurements taken during SV."
   ]
  },
  {
   "cell_type": "code",
   "execution_count": 20,
   "metadata": {},
   "outputs": [],
   "source": [
    "center_ra = SGA_disks['RA']   # degrees\n",
    "center_dec = SGA_disks['DEC'] # degrees\n",
    "\n",
    "centers = SkyCoord(center_ra*u.deg, center_dec*u.deg)\n",
    "\n",
    "phi = SGA_disks['PA']*u.deg\n",
    "r26 = 0.5*SGA_disks['DIAM']*u.arcmin\n",
    "\n",
    "x = 0.4 # Determined during SV\n",
    "\n",
    "# Maximum distance along the semi-major axis from the center coordinate for our endpoints\n",
    "delta_a = x*r26\n",
    "\n",
    "# Target positions\n",
    "fiber1 = centers.directional_offset_by(phi, x*r26)\n",
    "fiber2 = centers.directional_offset_by(phi + 180*u.deg, x*r26)\n",
    "\n",
    "fiber_ra = np.concatenate((fiber1.ra, fiber2.ra))\n",
    "fiber_dec = np.concatenate((fiber1.dec, fiber2.dec))"
   ]
  },
  {
   "cell_type": "markdown",
   "metadata": {},
   "source": [
    "### Write target list to file"
   ]
  },
  {
   "cell_type": "code",
   "execution_count": 21,
   "metadata": {},
   "outputs": [],
   "source": [
    "N_targets = len(fiber_ra)"
   ]
  },
  {
   "cell_type": "code",
   "execution_count": 22,
   "metadata": {},
   "outputs": [],
   "source": [
    "disk_edges = Table([Column(fiber_ra, name='RA'), \n",
    "                    Column(fiber_dec, name='DEC'), \n",
    "                    Column(np.zeros(N_targets, dtype='>f4'), name='PMRA'), \n",
    "                    Column(np.zeros(N_targets, dtype='>f4'), name='PMDEC'), \n",
    "                    Column(REF_EPOCH*np.ones(N_targets, dtype='>f4'), name='REF_EPOCH'),\n",
    "                    Column(OVERRIDE*np.ones(N_targets, dtype='bool'), name='OVERRIDE')])"
   ]
  },
  {
   "cell_type": "code",
   "execution_count": 24,
   "metadata": {},
   "outputs": [],
   "source": [
    "disk_edges.write(output_directory + 'sga_semimajor_ends.fits', format='fits')"
   ]
  },
  {
   "cell_type": "markdown",
   "metadata": {},
   "source": [
    "## Target statistics"
   ]
  },
  {
   "cell_type": "code",
   "execution_count": 25,
   "metadata": {},
   "outputs": [
    {
     "name": "stdout",
     "output_type": "stream",
     "text": [
      "The number of disk galaxies is 408323\n",
      "The number of targets is 816646\n",
      "The number of fiber placements in this portion of the sky is 209642\n",
      "The number of fiber placements per square degree is 41.9284\n"
     ]
    }
   ],
   "source": [
    "print('The number of disk galaxies is', len(SGA_disks))\n",
    "print('The number of targets is', N_targets)\n",
    "\n",
    "sky_chunk_boolean = np.logical_and.reduce([disk_edges['RA'] > 150, disk_edges['RA'] < 250, \n",
    "                                           disk_edges['DEC'] > 0, disk_edges['DEC'] < 50])\n",
    "\n",
    "num_targets_in_sky_chunk = np.sum(sky_chunk_boolean)\n",
    "\n",
    "sky_area = 100*50\n",
    "\n",
    "print('The number of fiber placements in this portion of the sky is', \n",
    "      num_targets_in_sky_chunk)\n",
    "print('The number of fiber placements per square degree is', \n",
    "      num_targets_in_sky_chunk/sky_area)"
   ]
  },
  {
   "cell_type": "code",
   "execution_count": null,
   "metadata": {},
   "outputs": [],
   "source": []
  }
 ],
 "metadata": {
  "kernelspec": {
   "display_name": "Python 3",
   "language": "python",
   "name": "python3"
  },
  "language_info": {
   "codemirror_mode": {
    "name": "ipython",
    "version": 3
   },
   "file_extension": ".py",
   "mimetype": "text/x-python",
   "name": "python",
   "nbconvert_exporter": "python",
   "pygments_lexer": "ipython3",
   "version": "3.7.4"
  }
 },
 "nbformat": 4,
 "nbformat_minor": 4
}
