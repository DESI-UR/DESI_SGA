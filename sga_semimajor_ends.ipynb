{
 "cells": [
  {
   "cell_type": "markdown",
   "metadata": {},
   "source": [
    "# PV Secondary Target Selection\n",
    "\n",
    "## sga_semimajor_ends\n",
    "### Method to create the secondary targeting file for the end points on the semi-major axis of large galaxies (from the SGA) in the BGS sample\n",
    "\n",
    "##### Author: Kelly Douglass (University of Rochester)\n",
    "\n",
    "See `/project/projectdirs/desi/target/secondary/README` for output data model\n",
    "\n",
    "### Target classes\n",
    "1. **End points on the major axis**\n",
    "2. Points along the major axis"
   ]
  },
  {
   "cell_type": "code",
   "execution_count": 11,
   "metadata": {},
   "outputs": [],
   "source": [
    "from astropy.table import Table, Column\n",
    "\n",
    "import numpy as np\n",
    "\n",
    "import matplotlib.pyplot as plt\n",
    "%matplotlib notebook"
   ]
  },
  {
   "cell_type": "markdown",
   "metadata": {},
   "source": [
    "## Parameters"
   ]
  },
  {
   "cell_type": "code",
   "execution_count": 2,
   "metadata": {},
   "outputs": [],
   "source": [
    "OVERRIDE = True\n",
    "REF_EPOCH = 2015.5\n",
    "\n",
    "output_directory = '/project/projectdirs/desi/target/secondary/indata/'"
   ]
  },
  {
   "cell_type": "markdown",
   "metadata": {},
   "source": [
    "## Target catalogs\n",
    "\n",
    "[Siena Galaxy Atlas](https://portal.nersc.gov/project/cosmo/temp/ioannis/SGA-html-dr9alpha/SGA-2arcmin.html)"
   ]
  },
  {
   "cell_type": "code",
   "execution_count": 3,
   "metadata": {},
   "outputs": [],
   "source": [
    "# Target catalog file names\n",
    "\n",
    "input_directory = '/Users/kellydouglass/Documents/Research/data/SGA/'\n",
    "\n",
    "input_filename = input_directory + 'SGA_BGS_inspecfootprint.fits'\n",
    "\n",
    "large_galaxies = Table.read(input_filename, format='fits')"
   ]
  },
  {
   "cell_type": "markdown",
   "metadata": {},
   "source": [
    "## Set first priority: points at either end of the major axis\n",
    "\n",
    "Note: Galaxy centers should already be BGS targets"
   ]
  },
  {
   "cell_type": "markdown",
   "metadata": {},
   "source": [
    "### Inclination angle minimum\n",
    "\n",
    "We require a minimum inclination angle of $25^\\circ$."
   ]
  },
  {
   "cell_type": "code",
   "execution_count": 4,
   "metadata": {},
   "outputs": [],
   "source": [
    "i_min = 25 # degrees\n",
    "\n",
    "i_boolean = large_galaxies['BA_ratio'] <= np.cos(i_min*np.pi/180.)\n",
    "\n",
    "lg_to_observe = large_galaxies[i_boolean]"
   ]
  },
  {
   "cell_type": "markdown",
   "metadata": {},
   "source": [
    "### Disk galaxies\n",
    "\n",
    "We require an exponential profile fit from Tractor."
   ]
  },
  {
   "cell_type": "code",
   "execution_count": 5,
   "metadata": {},
   "outputs": [],
   "source": [
    "disk_to_observe = lg_to_observe[lg_to_observe['MORPHTYPE'] == 'EXP']"
   ]
  },
  {
   "cell_type": "markdown",
   "metadata": {},
   "source": [
    "### Within the SGA\n",
    "\n",
    "We require all galaxies to have a minimum diameter at the 25 magnitude of 20\"."
   ]
  },
  {
   "cell_type": "code",
   "execution_count": 6,
   "metadata": {},
   "outputs": [],
   "source": [
    "SGA_disks = disk_to_observe[disk_to_observe['inSGA']]"
   ]
  },
  {
   "cell_type": "markdown",
   "metadata": {},
   "source": [
    "## Calculate (ra, dec) of major axis end points\n",
    "\n",
    "We set two fiber target locations at either end of the major axis at a distance of $xR_e$, where $x$ will be determined based on the results of the measurements taken during SV."
   ]
  },
  {
   "cell_type": "code",
   "execution_count": 7,
   "metadata": {},
   "outputs": [],
   "source": [
    "center_ra = SGA_disks['ra']   # degrees\n",
    "center_dec = SGA_disks['dec'] # degrees\n",
    "\n",
    "phi = SGA_disks['pos_angle']*np.pi/180. # degrees -> radians\n",
    "r50 = SGA_disks['uncor_radius']/3600.   # arcsecs -> degrees\n",
    "\n",
    "x = 2. # To be determined during SV\n",
    "\n",
    "# Maximum distance along the semi-major axis from the center coordinate for our endpoints\n",
    "delta_a = x*r50\n",
    "\n",
    "# Target positions\n",
    "fiber1_ra = center_ra - delta_a*np.sin(phi)\n",
    "fiber1_dec = center_dec + delta_a*np.cos(phi)\n",
    "fiber2_ra = center_ra + delta_a*np.sin(phi)\n",
    "fiber2_dec = center_dec - delta_a*np.cos(phi)\n",
    "\n",
    "fiber_ra = np.concatenate((fiber1_ra, fiber2_ra))\n",
    "fiber_dec = np.concatenate((fiber1_dec, fiber2_dec))"
   ]
  },
  {
   "cell_type": "markdown",
   "metadata": {},
   "source": [
    "### Write target list to file"
   ]
  },
  {
   "cell_type": "code",
   "execution_count": 8,
   "metadata": {},
   "outputs": [],
   "source": [
    "N_targets = len(fiber_ra)"
   ]
  },
  {
   "cell_type": "code",
   "execution_count": 9,
   "metadata": {},
   "outputs": [],
   "source": [
    "disk_edges = Table([Column(fiber_ra, name='RA'), \n",
    "                    Column(fiber_dec, name='DEC'), \n",
    "                    Column(np.zeros(N_targets, dtype='>f4'), name='PMRA'), \n",
    "                    Column(np.zeros(N_targets, dtype='>f4'), name='PMDEC'), \n",
    "                    Column(REF_EPOCH*np.ones(N_targets, dtype='>f4'), name='REF_EPOCH'),\n",
    "                    Column(OVERRIDE*np.ones(N_targets, dtype='bool'), name='OVERRIDE')])"
   ]
  },
  {
   "cell_type": "code",
   "execution_count": null,
   "metadata": {},
   "outputs": [],
   "source": [
    "LG_centers.write(output_directory + 'sga_semimajor_ends.fits', format='fits')"
   ]
  },
  {
   "cell_type": "markdown",
   "metadata": {},
   "source": [
    "## Target statistics"
   ]
  },
  {
   "cell_type": "code",
   "execution_count": 10,
   "metadata": {},
   "outputs": [
    {
     "name": "stdout",
     "output_type": "stream",
     "text": [
      "The number of disk galaxies is 58904\n",
      "The number of targets is 117808\n",
      "The number of fiber placements in this portion of the sky is 43102\n",
      "The number of fiber placements per square degree is 8.6204\n"
     ]
    }
   ],
   "source": [
    "print('The number of disk galaxies is', len(SGA_disks))\n",
    "print('The number of targets is', N_targets)\n",
    "\n",
    "sky_chunk_boolean = np.logical_and.reduce([disk_edges['RA'] > 150, disk_edges['RA'] < 250, \n",
    "                                           disk_edges['DEC'] > 0, disk_edges['DEC'] < 50])\n",
    "\n",
    "num_targets_in_sky_chunk = np.sum(sky_chunk_boolean)\n",
    "\n",
    "sky_area = 100*50\n",
    "\n",
    "print('The number of fiber placements in this portion of the sky is', \n",
    "      num_targets_in_sky_chunk)\n",
    "print('The number of fiber placements per square degree is', \n",
    "      num_targets_in_sky_chunk/sky_area)"
   ]
  },
  {
   "cell_type": "code",
   "execution_count": null,
   "metadata": {},
   "outputs": [],
   "source": []
  }
 ],
 "metadata": {
  "kernelspec": {
   "display_name": "Python 3",
   "language": "python",
   "name": "python3"
  },
  "language_info": {
   "codemirror_mode": {
    "name": "ipython",
    "version": 3
   },
   "file_extension": ".py",
   "mimetype": "text/x-python",
   "name": "python",
   "nbconvert_exporter": "python",
   "pygments_lexer": "ipython3",
   "version": "3.7.6"
  }
 },
 "nbformat": 4,
 "nbformat_minor": 4
}
