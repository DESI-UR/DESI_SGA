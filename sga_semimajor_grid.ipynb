{
 "cells": [
  {
   "cell_type": "markdown",
   "metadata": {},
   "source": [
    "### PV Secondary Target Selection\n",
    "\n",
    "## sga_semimajor_grid\n",
    "### Method to create the secondary targeting file for the intermediate points on the semi-major axis of large galaxies (from the SGA) in the BGS sample\n",
    "\n",
    "##### Author: Kelly Douglass (University of Rochester)\n",
    "\n",
    "See `/project/projectdirs/desi/target/secondary/README` for output data model\n",
    "\n",
    "### Target classes\n",
    "1. End points on the major axis\n",
    "2. **Points along the major axis**\n",
    "3. Points off-axis"
   ]
  },
  {
   "cell_type": "code",
   "execution_count": 1,
   "metadata": {},
   "outputs": [],
   "source": [
    "from astropy.table import Table, Column\n",
    "\n",
    "import numpy as np"
   ]
  },
  {
   "cell_type": "markdown",
   "metadata": {},
   "source": [
    "## Parameters"
   ]
  },
  {
   "cell_type": "code",
   "execution_count": 2,
   "metadata": {},
   "outputs": [],
   "source": [
    "OVERRIDE = True\n",
    "REF_EPOCH = 2015.5\n",
    "\n",
    "output_directory = '/project/projectdirs/desi/target/secondary/indata/'"
   ]
  },
  {
   "cell_type": "markdown",
   "metadata": {},
   "source": [
    "## Target catalogs\n",
    "\n",
    "[Siena Galaxy Atlas](https://portal.nersc.gov/project/cosmo/temp/ioannis/SGA-html-dr9alpha/SGA-2arcmin.html)"
   ]
  },
  {
   "cell_type": "code",
   "execution_count": 3,
   "metadata": {},
   "outputs": [],
   "source": [
    "# Target catalog file names\n",
    "\n",
    "input_directory = '/Users/kellydouglass/Documents/Research/data/SGA/'\n",
    "\n",
    "input_filename = input_directory + 'SGA_BGS_inspecfootprint.fits'\n",
    "\n",
    "large_galaxies = Table.read(input_filename, format='fits')"
   ]
  },
  {
   "cell_type": "markdown",
   "metadata": {},
   "source": [
    "## Set second priority: points along the major axis\n",
    "\n",
    "Note: Galaxy centers should already be BGS targets"
   ]
  },
  {
   "cell_type": "markdown",
   "metadata": {},
   "source": [
    "### Within the SGA\n",
    "\n",
    "We require all galaxies to have a minimum diameter at the 25 magnitude of 20\"."
   ]
  },
  {
   "cell_type": "code",
   "execution_count": 4,
   "metadata": {},
   "outputs": [],
   "source": [
    "SGA_galaxies = large_galaxies[large_galaxies['inSGA']]"
   ]
  },
  {
   "cell_type": "markdown",
   "metadata": {},
   "source": [
    "### Large galaxies\n",
    "\n",
    "We target only those galaxies with $R(25) > 1.4'$ (the fiber patrol radius)."
   ]
  },
  {
   "cell_type": "code",
   "execution_count": 5,
   "metadata": {},
   "outputs": [],
   "source": [
    "max_patrol_radius = 1.4 # arcminutes\n",
    "\n",
    "lg_SGA = SGA_galaxies[SGA_galaxies['RADIUS_SB25'] >= max_patrol_radius*60]"
   ]
  },
  {
   "cell_type": "markdown",
   "metadata": {},
   "source": [
    "## Calculate (ra, dec) of major axis end points\n",
    "\n",
    "We set fiber target locations along the major axis at a distance of $xR_e$, where $x$ varies from 0.5 to 3 in steps of 0.5."
   ]
  },
  {
   "cell_type": "code",
   "execution_count": 6,
   "metadata": {},
   "outputs": [],
   "source": [
    "center_ra = lg_SGA['RA']   # degrees\n",
    "center_dec = lg_SGA['DEC'] # degrees\n",
    "\n",
    "phi = lg_SGA['pos_angle']*np.pi/180. # degrees -> radians\n",
    "r50 = lg_SGA['uncor_radius']/3600.   # arcsecs -> degrees\n",
    "\n",
    "x = np.linspace(0.5,3,6).reshape((1,6))\n",
    "\n",
    "# Distances along the semi-major axis from the center coordinate for our targets\n",
    "delta_a = np.dot(r50.reshape((len(r50),1)),x)\n",
    "delta_a = delta_a.reshape(6,len(delta_a))\n",
    "\n",
    "# Target positions\n",
    "fiber1_ra = center_ra + np.dot(delta_a, np.sin(phi).reshape(len(phi),1))\n",
    "fiber1_dec = center_dec + np.dot(delta_a, np.cos(phi).reshape(len(phi),1))\n",
    "fiber2_ra = center_ra - np.dot(delta_a, np.sin(phi).reshape(len(phi),1))\n",
    "fiber2_dec = center_dec - np.dot(delta_a, np.cos(phi).reshape(len(phi),1))\n",
    "\n",
    "fiber_ra = np.concatenate((np.ravel(fiber1_ra), np.ravel(fiber2_ra)))\n",
    "fiber_dec = np.concatenate((np.ravel(fiber1_dec), np.ravel(fiber2_dec)))"
   ]
  },
  {
   "cell_type": "markdown",
   "metadata": {},
   "source": [
    "### Write target list to file"
   ]
  },
  {
   "cell_type": "code",
   "execution_count": 7,
   "metadata": {},
   "outputs": [],
   "source": [
    "N_targets = len(fiber_ra)"
   ]
  },
  {
   "cell_type": "code",
   "execution_count": 8,
   "metadata": {},
   "outputs": [],
   "source": [
    "lg_gal_grid = Table([Column(fiber_ra, name='RA'), \n",
    "                     Column(fiber_dec, name='DEC'), \n",
    "                     Column(np.zeros(N_targets, dtype='>f4'), name='PMRA'), \n",
    "                     Column(np.zeros(N_targets, dtype='>f4'), name='PMDEC'), \n",
    "                     Column(REF_EPOCH*np.ones(N_targets, dtype='>f4'), name='REF_EPOCH'),\n",
    "                     Column(OVERRIDE*np.ones(N_targets, dtype='bool'), name='OVERRIDE')])"
   ]
  },
  {
   "cell_type": "code",
   "execution_count": null,
   "metadata": {},
   "outputs": [],
   "source": [
    "lg_gal_grid.write(output_directory + 'sga_semimajor_grid.fits', format='fits')"
   ]
  },
  {
   "cell_type": "markdown",
   "metadata": {},
   "source": [
    "## Target statistics"
   ]
  },
  {
   "cell_type": "code",
   "execution_count": 9,
   "metadata": {},
   "outputs": [
    {
     "name": "stdout",
     "output_type": "stream",
     "text": [
      "The number of large galaxies is 877\n",
      "The number of targets is 10524\n",
      "The number of fiber placements in this portion of the sky is 3642\n",
      "The number of fiber placements per square degree is 0.7284\n"
     ]
    }
   ],
   "source": [
    "print('The number of large galaxies is', len(lg_SGA))\n",
    "print('The number of targets is', N_targets)\n",
    "\n",
    "sky_chunk_boolean = np.logical_and.reduce([lg_gal_grid['RA'] > 150, lg_gal_grid['RA'] < 250, \n",
    "                                           lg_gal_grid['DEC'] > 0, lg_gal_grid['DEC'] < 50])\n",
    "\n",
    "num_targets_in_sky_chunk = np.sum(sky_chunk_boolean)\n",
    "\n",
    "sky_area = 100*50\n",
    "\n",
    "print('The number of fiber placements in this portion of the sky is', \n",
    "      num_targets_in_sky_chunk)\n",
    "print('The number of fiber placements per square degree is', \n",
    "      num_targets_in_sky_chunk/sky_area)"
   ]
  },
  {
   "cell_type": "code",
   "execution_count": null,
   "metadata": {},
   "outputs": [],
   "source": []
  }
 ],
 "metadata": {
  "kernelspec": {
   "display_name": "Python 3",
   "language": "python",
   "name": "python3"
  },
  "language_info": {
   "codemirror_mode": {
    "name": "ipython",
    "version": 3
   },
   "file_extension": ".py",
   "mimetype": "text/x-python",
   "name": "python",
   "nbconvert_exporter": "python",
   "pygments_lexer": "ipython3",
   "version": "3.8.5"
  }
 },
 "nbformat": 4,
 "nbformat_minor": 4
}
