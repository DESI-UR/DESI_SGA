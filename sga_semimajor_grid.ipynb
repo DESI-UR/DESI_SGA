{
 "cells": [
  {
   "cell_type": "markdown",
   "metadata": {},
   "source": [
    "### PV Secondary Target Selection\n",
    "\n",
    "## sga_semimajor_grid\n",
    "### Method to create the secondary targeting file for the intermediate points on the semi-major axis of large galaxies (from the SGA) in the BGS sample\n",
    "\n",
    "##### Author: Kelly Douglass (University of Rochester)\n",
    "\n",
    "See `/project/projectdirs/desi/target/secondary/README` for output data model\n",
    "\n",
    "### Target classes\n",
    "1. End points on the major axis\n",
    "2. **Points along the major axis**\n",
    "3. Points off-axis"
   ]
  },
  {
   "cell_type": "code",
   "execution_count": 18,
   "metadata": {},
   "outputs": [],
   "source": [
    "from astropy.table import Table, Column\n",
    "from astropy.io import fits\n",
    "from astropy import units as u\n",
    "from astropy.coordinates import SkyCoord\n",
    "\n",
    "import numpy as np"
   ]
  },
  {
   "cell_type": "markdown",
   "metadata": {},
   "source": [
    "## Parameters"
   ]
  },
  {
   "cell_type": "code",
   "execution_count": 24,
   "metadata": {},
   "outputs": [],
   "source": [
    "OVERRIDE = True\n",
    "REF_EPOCH = 2015.5\n",
    "\n",
    "#output_directory = '/project/projectdirs/desi/target/secondary/indata/'\n",
    "output_directory = '../'"
   ]
  },
  {
   "cell_type": "markdown",
   "metadata": {},
   "source": [
    "## Target catalogs\n",
    "\n",
    "[Siena Galaxy Atlas](https://portal.nersc.gov/project/cosmo/temp/ioannis/SGA-html-dr9alpha/SGA-2arcmin.html)"
   ]
  },
  {
   "cell_type": "code",
   "execution_count": 7,
   "metadata": {},
   "outputs": [],
   "source": [
    "# Target catalog file names\n",
    "\n",
    "input_directory = '/Users/kellydouglass/Documents/Research/data/SGA/'\n",
    "\n",
    "input_filename = input_directory + 'SGA-ellipse-v3.0.kd.fits'\n",
    "\n",
    "hdu = fits.open(input_filename)\n",
    "large_galaxies = hdu[1].data\n",
    "hdu.close()"
   ]
  },
  {
   "cell_type": "code",
   "execution_count": 10,
   "metadata": {},
   "outputs": [
    {
     "data": {
      "text/plain": [
       "['SGA_ID',\n",
       " 'GALAXY',\n",
       " 'PGC',\n",
       " 'SGA_RA',\n",
       " 'SGA_DEC',\n",
       " 'MORPHTYPE',\n",
       " 'PA_LEDA',\n",
       " 'D25_LEDA',\n",
       " 'BA_LEDA',\n",
       " 'Z_LEDA',\n",
       " 'SB_D25_LEDA',\n",
       " 'MAG_LEDA',\n",
       " 'BYHAND',\n",
       " 'REF',\n",
       " 'IN_FOOTPRINT',\n",
       " 'IN_FOOTPRINT_GRZ',\n",
       " 'GROUP_ID',\n",
       " 'GROUP_NAME',\n",
       " 'GROUP_MULT',\n",
       " 'GROUP_PRIMARY',\n",
       " 'GROUP_RA',\n",
       " 'GROUP_DEC',\n",
       " 'GROUP_DIAMETER',\n",
       " 'BRICKNAME',\n",
       " 'DIAM',\n",
       " 'DIAM_REF',\n",
       " 'PA',\n",
       " 'BA',\n",
       " 'ELLIPSEBIT',\n",
       " 'DROPBIT',\n",
       " 'RELEASE',\n",
       " 'BRICKID',\n",
       " 'OBJID',\n",
       " 'BRICK_PRIMARY',\n",
       " 'MASKBITS',\n",
       " 'ITERATIVE',\n",
       " 'TYPE',\n",
       " 'RA',\n",
       " 'DEC',\n",
       " 'RA_IVAR',\n",
       " 'DEC_IVAR',\n",
       " 'BX',\n",
       " 'BY',\n",
       " 'DCHISQ',\n",
       " 'EBV',\n",
       " 'MJD_MIN',\n",
       " 'MJD_MAX',\n",
       " 'REF_CAT',\n",
       " 'REF_ID',\n",
       " 'PMRA',\n",
       " 'PMDEC',\n",
       " 'PARALLAX',\n",
       " 'PMRA_IVAR',\n",
       " 'PMDEC_IVAR',\n",
       " 'PARALLAX_IVAR',\n",
       " 'REF_EPOCH',\n",
       " 'GAIA_POINTSOURCE',\n",
       " 'GAIA_PHOT_G_MEAN_MAG',\n",
       " 'GAIA_PHOT_G_MEAN_FLUX_OVER_ERROR',\n",
       " 'GAIA_PHOT_G_N_OBS',\n",
       " 'GAIA_PHOT_BP_MEAN_MAG',\n",
       " 'GAIA_PHOT_BP_MEAN_FLUX_OVER_ERROR',\n",
       " 'GAIA_PHOT_BP_N_OBS',\n",
       " 'GAIA_PHOT_RP_MEAN_MAG',\n",
       " 'GAIA_PHOT_RP_MEAN_FLUX_OVER_ERROR',\n",
       " 'GAIA_PHOT_RP_N_OBS',\n",
       " 'GAIA_PHOT_VARIABLE_FLAG',\n",
       " 'GAIA_ASTROMETRIC_EXCESS_NOISE',\n",
       " 'GAIA_ASTROMETRIC_EXCESS_NOISE_SIG',\n",
       " 'GAIA_ASTROMETRIC_N_OBS_AL',\n",
       " 'GAIA_ASTROMETRIC_N_GOOD_OBS_AL',\n",
       " 'GAIA_ASTROMETRIC_WEIGHT_AL',\n",
       " 'GAIA_DUPLICATED_SOURCE',\n",
       " 'GAIA_A_G_VAL',\n",
       " 'GAIA_E_BP_MIN_RP_VAL',\n",
       " 'GAIA_PHOT_BP_RP_EXCESS_FACTOR',\n",
       " 'GAIA_ASTROMETRIC_SIGMA5D_MAX',\n",
       " 'GAIA_ASTROMETRIC_PARAMS_SOLVED',\n",
       " 'FLUX_G',\n",
       " 'FLUX_R',\n",
       " 'FLUX_Z',\n",
       " 'FLUX_W1',\n",
       " 'FLUX_W2',\n",
       " 'FLUX_W3',\n",
       " 'FLUX_W4',\n",
       " 'FLUX_IVAR_G',\n",
       " 'FLUX_IVAR_R',\n",
       " 'FLUX_IVAR_Z',\n",
       " 'FLUX_IVAR_W1',\n",
       " 'FLUX_IVAR_W2',\n",
       " 'FLUX_IVAR_W3',\n",
       " 'FLUX_IVAR_W4',\n",
       " 'FIBERFLUX_G',\n",
       " 'FIBERFLUX_R',\n",
       " 'FIBERFLUX_Z',\n",
       " 'FIBERTOTFLUX_G',\n",
       " 'FIBERTOTFLUX_R',\n",
       " 'FIBERTOTFLUX_Z',\n",
       " 'APFLUX_G',\n",
       " 'APFLUX_R',\n",
       " 'APFLUX_Z',\n",
       " 'APFLUX_RESID_G',\n",
       " 'APFLUX_RESID_R',\n",
       " 'APFLUX_RESID_Z',\n",
       " 'APFLUX_BLOBRESID_G',\n",
       " 'APFLUX_BLOBRESID_R',\n",
       " 'APFLUX_BLOBRESID_Z',\n",
       " 'APFLUX_IVAR_G',\n",
       " 'APFLUX_IVAR_R',\n",
       " 'APFLUX_IVAR_Z',\n",
       " 'APFLUX_MASKED_G',\n",
       " 'APFLUX_MASKED_R',\n",
       " 'APFLUX_MASKED_Z',\n",
       " 'APFLUX_W1',\n",
       " 'APFLUX_W2',\n",
       " 'APFLUX_W3',\n",
       " 'APFLUX_W4',\n",
       " 'APFLUX_RESID_W1',\n",
       " 'APFLUX_RESID_W2',\n",
       " 'APFLUX_RESID_W3',\n",
       " 'APFLUX_RESID_W4',\n",
       " 'APFLUX_IVAR_W1',\n",
       " 'APFLUX_IVAR_W2',\n",
       " 'APFLUX_IVAR_W3',\n",
       " 'APFLUX_IVAR_W4',\n",
       " 'MW_TRANSMISSION_G',\n",
       " 'MW_TRANSMISSION_R',\n",
       " 'MW_TRANSMISSION_Z',\n",
       " 'MW_TRANSMISSION_W1',\n",
       " 'MW_TRANSMISSION_W2',\n",
       " 'MW_TRANSMISSION_W3',\n",
       " 'MW_TRANSMISSION_W4',\n",
       " 'NOBS_G',\n",
       " 'NOBS_R',\n",
       " 'NOBS_Z',\n",
       " 'NOBS_W1',\n",
       " 'NOBS_W2',\n",
       " 'NOBS_W3',\n",
       " 'NOBS_W4',\n",
       " 'RCHISQ_G',\n",
       " 'RCHISQ_R',\n",
       " 'RCHISQ_Z',\n",
       " 'RCHISQ_W1',\n",
       " 'RCHISQ_W2',\n",
       " 'RCHISQ_W3',\n",
       " 'RCHISQ_W4',\n",
       " 'FRACFLUX_G',\n",
       " 'FRACFLUX_R',\n",
       " 'FRACFLUX_Z',\n",
       " 'FRACFLUX_W1',\n",
       " 'FRACFLUX_W2',\n",
       " 'FRACFLUX_W3',\n",
       " 'FRACFLUX_W4',\n",
       " 'FRACMASKED_G',\n",
       " 'FRACMASKED_R',\n",
       " 'FRACMASKED_Z',\n",
       " 'FRACIN_G',\n",
       " 'FRACIN_R',\n",
       " 'FRACIN_Z',\n",
       " 'ANYMASK_G',\n",
       " 'ANYMASK_R',\n",
       " 'ANYMASK_Z',\n",
       " 'ALLMASK_G',\n",
       " 'ALLMASK_R',\n",
       " 'ALLMASK_Z',\n",
       " 'WISEMASK_W1',\n",
       " 'WISEMASK_W2',\n",
       " 'PSFSIZE_G',\n",
       " 'PSFSIZE_R',\n",
       " 'PSFSIZE_Z',\n",
       " 'PSFDEPTH_G',\n",
       " 'PSFDEPTH_R',\n",
       " 'PSFDEPTH_Z',\n",
       " 'GALDEPTH_G',\n",
       " 'GALDEPTH_R',\n",
       " 'GALDEPTH_Z',\n",
       " 'PSFDEPTH_W1',\n",
       " 'PSFDEPTH_W2',\n",
       " 'PSFDEPTH_W3',\n",
       " 'PSFDEPTH_W4',\n",
       " 'WISE_COADD_ID',\n",
       " 'WISE_X',\n",
       " 'WISE_Y',\n",
       " 'SERSIC',\n",
       " 'SERSIC_IVAR',\n",
       " 'SHAPE_R',\n",
       " 'SHAPE_R_IVAR',\n",
       " 'SHAPE_E1',\n",
       " 'SHAPE_E1_IVAR',\n",
       " 'SHAPE_E2',\n",
       " 'SHAPE_E2_IVAR',\n",
       " 'RADIUS_SB22',\n",
       " 'RADIUS_SB22.5',\n",
       " 'RADIUS_SB23',\n",
       " 'RADIUS_SB23.5',\n",
       " 'RADIUS_SB24',\n",
       " 'RADIUS_SB24.5',\n",
       " 'RADIUS_SB25',\n",
       " 'RADIUS_SB25.5',\n",
       " 'RADIUS_SB26',\n",
       " 'G_MAG_SB22',\n",
       " 'R_MAG_SB22',\n",
       " 'Z_MAG_SB22',\n",
       " 'G_MAG_SB22.5',\n",
       " 'R_MAG_SB22.5',\n",
       " 'Z_MAG_SB22.5',\n",
       " 'G_MAG_SB23',\n",
       " 'R_MAG_SB23',\n",
       " 'Z_MAG_SB23',\n",
       " 'G_MAG_SB23.5',\n",
       " 'R_MAG_SB23.5',\n",
       " 'Z_MAG_SB23.5',\n",
       " 'G_MAG_SB24',\n",
       " 'R_MAG_SB24',\n",
       " 'Z_MAG_SB24',\n",
       " 'G_MAG_SB24.5',\n",
       " 'R_MAG_SB24.5',\n",
       " 'Z_MAG_SB24.5',\n",
       " 'G_MAG_SB25',\n",
       " 'R_MAG_SB25',\n",
       " 'Z_MAG_SB25',\n",
       " 'G_MAG_SB25.5',\n",
       " 'R_MAG_SB25.5',\n",
       " 'Z_MAG_SB25.5',\n",
       " 'G_MAG_SB26',\n",
       " 'R_MAG_SB26',\n",
       " 'Z_MAG_SB26',\n",
       " 'G_MAG_TOT',\n",
       " 'R_MAG_TOT',\n",
       " 'Z_MAG_TOT',\n",
       " 'PREBURNED',\n",
       " 'FREEZE']"
      ]
     },
     "execution_count": 10,
     "metadata": {},
     "output_type": "execute_result"
    }
   ],
   "source": [
    "large_galaxies.names"
   ]
  },
  {
   "cell_type": "markdown",
   "metadata": {},
   "source": [
    "## Set second priority: points along the major axis\n",
    "\n",
    "Note: Galaxy centers should already be BGS targets"
   ]
  },
  {
   "cell_type": "markdown",
   "metadata": {},
   "source": [
    "### Within the SGA\n",
    "\n",
    "We require all galaxies to be within the DESI footprint."
   ]
  },
  {
   "cell_type": "code",
   "execution_count": 11,
   "metadata": {},
   "outputs": [],
   "source": [
    "SGA_galaxies = large_galaxies[large_galaxies['IN_FOOTPRINT_GRZ']]"
   ]
  },
  {
   "cell_type": "markdown",
   "metadata": {},
   "source": [
    "### Large galaxies\n",
    "\n",
    "We target only those galaxies with $D(26) > 1.4'$ (the fiber patrol radius)."
   ]
  },
  {
   "cell_type": "code",
   "execution_count": 14,
   "metadata": {},
   "outputs": [
    {
     "name": "stdout",
     "output_type": "stream",
     "text": [
      "3074\n"
     ]
    }
   ],
   "source": [
    "max_patrol_radius = 1.4 # arcminutes\n",
    "\n",
    "lg_SGA = SGA_galaxies[SGA_galaxies['DIAM'] >= 2*max_patrol_radius]\n",
    "\n",
    "print(len(lg_SGA))"
   ]
  },
  {
   "cell_type": "markdown",
   "metadata": {},
   "source": [
    "## Calculate (ra, dec) of major axis end points\n",
    "\n",
    "We set fiber target locations along the major axis at a distance of $xR_e$, where $x$ varies from 0.2 to 1 in steps of 0.2."
   ]
  },
  {
   "cell_type": "code",
   "execution_count": 19,
   "metadata": {},
   "outputs": [],
   "source": [
    "center_ra = lg_SGA['RA']   # degrees\n",
    "center_dec = lg_SGA['DEC'] # degrees\n",
    "\n",
    "centers = SkyCoord(center_ra*u.deg, center_dec*u.deg)\n",
    "\n",
    "phi = lg_SGA['PA']*u.deg\n",
    "r26 = 0.5*lg_SGA['DIAM']*u.arcmin"
   ]
  },
  {
   "cell_type": "code",
   "execution_count": 46,
   "metadata": {},
   "outputs": [],
   "source": [
    "x = np.arange(0.2,1.2,0.2).reshape((1,5))\n",
    "\n",
    "# Distances along the semi-major axis from the center coordinate for our targets\n",
    "delta_a = np.dot(r26.reshape((len(r26),1)),x)\n",
    "delta_a = delta_a.T\n",
    "\n",
    "# Target positions\n",
    "fiber1 = centers.directional_offset_by(phi, delta_a)\n",
    "fiber2 = centers.directional_offset_by(phi + 180*u.deg, delta_a)\n",
    "\n",
    "fiber_ra = np.concatenate((np.ravel(fiber1.ra), np.ravel(fiber2.ra)))\n",
    "fiber_dec = np.concatenate((np.ravel(fiber1.dec), np.ravel(fiber2.dec)))"
   ]
  },
  {
   "cell_type": "code",
   "execution_count": 47,
   "metadata": {},
   "outputs": [
    {
     "name": "stdout",
     "output_type": "stream",
     "text": [
      "2.4168472290039062 arcmin\n",
      "[0.48336945 0.96673889 1.45010834 1.93347778 2.41684723] arcmin\n"
     ]
    }
   ],
   "source": [
    "print(r26[0])\n",
    "print(delta_a[:,0])"
   ]
  },
  {
   "cell_type": "markdown",
   "metadata": {},
   "source": [
    "### Write target list to file"
   ]
  },
  {
   "cell_type": "code",
   "execution_count": 48,
   "metadata": {},
   "outputs": [],
   "source": [
    "N_targets = len(fiber_ra)"
   ]
  },
  {
   "cell_type": "code",
   "execution_count": 49,
   "metadata": {},
   "outputs": [],
   "source": [
    "lg_gal_grid = Table([Column(fiber_ra, name='RA'), \n",
    "                     Column(fiber_dec, name='DEC'), \n",
    "                     Column(np.zeros(N_targets, dtype='>f4'), name='PMRA'), \n",
    "                     Column(np.zeros(N_targets, dtype='>f4'), name='PMDEC'), \n",
    "                     Column(REF_EPOCH*np.ones(N_targets, dtype='>f4'), name='REF_EPOCH'),\n",
    "                     Column(OVERRIDE*np.ones(N_targets, dtype='bool'), name='OVERRIDE')])"
   ]
  },
  {
   "cell_type": "code",
   "execution_count": 51,
   "metadata": {},
   "outputs": [],
   "source": [
    "lg_gal_grid.write(output_directory + 'sga_semimajor_grid.fits', format='fits', overwrite=True)"
   ]
  },
  {
   "cell_type": "markdown",
   "metadata": {},
   "source": [
    "## Target statistics"
   ]
  },
  {
   "cell_type": "code",
   "execution_count": 52,
   "metadata": {},
   "outputs": [
    {
     "name": "stdout",
     "output_type": "stream",
     "text": [
      "The number of large galaxies is 3074\n",
      "The number of targets is 30740\n",
      "The number of fiber placements in this portion of the sky is 9488\n",
      "The number of fiber placements per square degree is 1.8976\n"
     ]
    }
   ],
   "source": [
    "print('The number of large galaxies is', len(lg_SGA))\n",
    "print('The number of targets is', N_targets)\n",
    "\n",
    "sky_chunk_boolean = np.logical_and.reduce([lg_gal_grid['RA'] > 150, lg_gal_grid['RA'] < 250, \n",
    "                                           lg_gal_grid['DEC'] > 0, lg_gal_grid['DEC'] < 50])\n",
    "\n",
    "num_targets_in_sky_chunk = np.sum(sky_chunk_boolean)\n",
    "\n",
    "sky_area = 100*50\n",
    "\n",
    "print('The number of fiber placements in this portion of the sky is', \n",
    "      num_targets_in_sky_chunk)\n",
    "print('The number of fiber placements per square degree is', \n",
    "      num_targets_in_sky_chunk/sky_area)"
   ]
  },
  {
   "cell_type": "code",
   "execution_count": null,
   "metadata": {},
   "outputs": [],
   "source": []
  }
 ],
 "metadata": {
  "kernelspec": {
   "display_name": "DESI master",
   "language": "python",
   "name": "desi-master"
  },
  "language_info": {
   "codemirror_mode": {
    "name": "ipython",
    "version": 3
   },
   "file_extension": ".py",
   "mimetype": "text/x-python",
   "name": "python",
   "nbconvert_exporter": "python",
   "pygments_lexer": "ipython3",
   "version": "3.10.8"
  }
 },
 "nbformat": 4,
 "nbformat_minor": 4
}
