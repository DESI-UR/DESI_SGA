{
 "cells": [
  {
   "cell_type": "markdown",
   "id": "c4a16fae",
   "metadata": {},
   "source": [
    "# Tully-Fisher Secondary Target Sample: Coma Cluster\n",
    "\n",
    "Access secondary PV survey targets intended for TF measurements.\n",
    "\n",
    "Grab the targets from the Coma cluster and see if we can calibrate the TFR."
   ]
  },
  {
   "cell_type": "code",
   "execution_count": 1,
   "id": "34cd0fa4",
   "metadata": {},
   "outputs": [
    {
     "ename": "ModuleNotFoundError",
     "evalue": "No module named 'desispec'",
     "output_type": "error",
     "traceback": [
      "\u001b[0;31m---------------------------------------------------------------------------\u001b[0m",
      "\u001b[0;31mModuleNotFoundError\u001b[0m                       Traceback (most recent call last)",
      "\u001b[0;32m/var/folders/5x/2533z9ns34n_8ghxd5f6hl0c0000gn/T/ipykernel_2405/2538532049.py\u001b[0m in \u001b[0;36m<module>\u001b[0;34m\u001b[0m\n\u001b[1;32m      9\u001b[0m \u001b[0;32mfrom\u001b[0m \u001b[0mastropy\u001b[0m\u001b[0;34m.\u001b[0m\u001b[0mvisualization\u001b[0m\u001b[0;34m.\u001b[0m\u001b[0mwcsaxes\u001b[0m \u001b[0;32mimport\u001b[0m \u001b[0mSphericalCircle\u001b[0m\u001b[0;34m\u001b[0m\u001b[0;34m\u001b[0m\u001b[0m\n\u001b[1;32m     10\u001b[0m \u001b[0;34m\u001b[0m\u001b[0m\n\u001b[0;32m---> 11\u001b[0;31m \u001b[0;32mfrom\u001b[0m \u001b[0mdesispec\u001b[0m\u001b[0;34m.\u001b[0m\u001b[0mspectra\u001b[0m \u001b[0;32mimport\u001b[0m \u001b[0mstack\u001b[0m \u001b[0;32mas\u001b[0m \u001b[0mspecstack\u001b[0m\u001b[0;34m\u001b[0m\u001b[0;34m\u001b[0m\u001b[0m\n\u001b[0m\u001b[1;32m     12\u001b[0m \u001b[0;32mfrom\u001b[0m \u001b[0mdesispec\u001b[0m\u001b[0;34m.\u001b[0m\u001b[0mio\u001b[0m \u001b[0;32mimport\u001b[0m \u001b[0mread_spectra\u001b[0m\u001b[0;34m,\u001b[0m \u001b[0mwrite_spectra\u001b[0m\u001b[0;34m\u001b[0m\u001b[0;34m\u001b[0m\u001b[0m\n\u001b[1;32m     13\u001b[0m \u001b[0;34m\u001b[0m\u001b[0m\n",
      "\u001b[0;31mModuleNotFoundError\u001b[0m: No module named 'desispec'"
     ]
    }
   ],
   "source": [
    "import os\n",
    "import requests\n",
    "\n",
    "from astropy.io import ascii, fits\n",
    "from astropy.table import join, hstack, vstack, unique, Table\n",
    "from astropy.coordinates import SkyCoord, match_coordinates_sky\n",
    "from astropy import units as u\n",
    "from astropy.wcs import WCS\n",
    "from astropy.visualization.wcsaxes import SphericalCircle\n",
    "\n",
    "from desispec.spectra import stack as specstack\n",
    "from desispec.io import read_spectra, write_spectra\n",
    "\n",
    "import psycopg2\n",
    "\n",
    "import numpy as np\n",
    "import matplotlib as mpl\n",
    "import matplotlib.pyplot as plt"
   ]
  },
  {
   "cell_type": "code",
   "execution_count": null,
   "id": "177ae530",
   "metadata": {},
   "outputs": [],
   "source": []
  }
 ],
 "metadata": {
  "kernelspec": {
   "display_name": "Python 3 (ipykernel)",
   "language": "python",
   "name": "python3"
  },
  "language_info": {
   "codemirror_mode": {
    "name": "ipython",
    "version": 3
   },
   "file_extension": ".py",
   "mimetype": "text/x-python",
   "name": "python",
   "nbconvert_exporter": "python",
   "pygments_lexer": "ipython3",
   "version": "3.8.10"
  }
 },
 "nbformat": 4,
 "nbformat_minor": 5
}
