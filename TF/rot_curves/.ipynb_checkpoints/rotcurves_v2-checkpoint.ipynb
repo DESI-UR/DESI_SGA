{
 "cells": [
  {
   "cell_type": "markdown",
   "id": "a27ca252-0c01-4248-be9b-d65a216909b1",
   "metadata": {},
   "source": [
    "### this file has: Original Fitting Function + Updated Guesses"
   ]
  },
  {
   "cell_type": "code",
   "execution_count": 1,
   "id": "f07a83c5-9d6d-43d1-80e8-e11166fa08df",
   "metadata": {
    "tags": []
   },
   "outputs": [],
   "source": [
    "# all imports\n",
    "import numpy as np\n",
    "import os\n",
    "import requests\n",
    "from astropy.table import Table, vstack\n",
    "import matplotlib.pyplot as plt\n",
    "from astropy.io import fits\n",
    "from astropy.coordinates import SkyCoord\n",
    "from astropy import units as u\n",
    "from astropy.wcs import WCS\n",
    "import math\n",
    "import matplotlib as mpl\n",
    "from astropy.visualization.wcsaxes import SphericalCircle\n",
    "import pandas as pd\n",
    "import random\n",
    "from matplotlib.patches import Ellipse\n",
    "import ligo.skymap.plot\n",
    "from scipy.optimize import minimize\n",
    "import numdifftools as ndt"
   ]
  },
  {
   "cell_type": "code",
   "execution_count": 2,
   "id": "a63e67c6-759d-4409-82bb-ab7d8f5a8513",
   "metadata": {
    "tags": []
   },
   "outputs": [],
   "source": [
    "sga_ids = [9769, 11977, 12892, 14501, 16383, 19235, 19278, 25532, 30149, 31220, 32484, 36904, 37543, 46327, 58617, 73111, 88963, 91660, 90791, 106536, \n",
    "           114405, 114489, 122580, 126630, 125611, 128163, 128411, 130766, 149502, 153504, 175220, 176736, 184044, 186239, 189685, 188525, 190308, \n",
    "           192158, 196470, 199038, 202236, 205028, 209429, 212382, 218773, 235556, 254532, 272164, 272562, 276638, 288715, 289743, 291766, 300446, \n",
    "           302062, 305831, 309378, 319942, 330678, 349027, 349346, 363344, 373692, 378842, 384420, 389177, 393190, 395070, 398443, 398532, 416531, \n",
    "           431242, 430161, 432294, 450689, 450566, 455486, 457147, 458798, 462867, 466872, 467582, 471327, 469868, 471893, 473436, 477805, 481956, \n",
    "           485800, 493017, 507499, 526710, 544419, 544810, 544799, 544943, 548724, 548848, 550458, 564440, 569298, 568664, 570086, 582248, 591927, \n",
    "           607528, 608015, 629144, 630029, 630390, 635043, 638386, 641578, 643231, 643845, 644940, 647966, 649753, 649960, 651096, 654469, 659599, \n",
    "           663463, 671301, 671533, 694525, 696291, 696345, 706579, 720480, 722142, 726854, 728327, 729726, 729754, 736449, 742167, 743030, 744650, \n",
    "           752683, 757313, 757166, 758123, 759261, 759003, 766672, 783693, 793633, 804643, 805225, 819754, 820598, 823301, 824225, 826809, 827949, \n",
    "           833961, 833981, 843065, 843126, 845052, 887433, 901663, 901980, 908818, 908978, 911046, 914975, 914909, 916161, 920806, 923400, 925923, \n",
    "           925354, 928810, 928876, 932984, 947709, 953644, 957521, 957850, 967351, 968864, 971635, 975775, 972260, 977015, 976853, 979168, 978708, \n",
    "           989040, 989244, 1001302, 1003319, 1008726, 1014959, 1018187, 1021462, 1026141, 1031898, 1033651, 1033344, 1050173, 1065602, 1073430, \n",
    "           1086934, 1087039, 1087374, 1090772, 1091806, 1096564, 1098043, 1103477, 1111824, 1117018, 1124386, 1143335, 1146354, 1161160, 1167691, \n",
    "           1171841, 1179377, 1184894, 1184912, 1186034, 1187240, 1188032, 1188617, 1188926, 1193015, 1191665, 1194588, 1194958, 1199020, 1199539, \n",
    "           1201319, 1203786, 1204237, 1206707, 1218166, 1219319, 1254154, 1264056, 1264591, 1267967, 1271477, 1271549, 1272700, 1273605, 1278144, \n",
    "           1281619, 1282407, 1285273, 1286710, 1289613, 1293967, 1301768, 1304908, 1335916, 1338866, 1345100, 1348956, 1349555, 1354266, 1355575, \n",
    "           1361363, 1361399, 1365519, 1365549, 1367137, 1368018, 1368443, 1374964, 1379143, 1405053, 1429680, 1434487]"
   ]
  },
  {
   "cell_type": "code",
   "execution_count": 3,
   "id": "3a546328-eef0-4e55-8b67-a84166b830e7",
   "metadata": {
    "tags": []
   },
   "outputs": [],
   "source": [
    "# define directories\n",
    "data_dir = '/global/cfs/projectdirs/desi/science/td/pv/tfgalaxies/'\n",
    "cache_dir = '/pscratch/sd/j/jjpim/cache/' # my cache path\n",
    "v_dir = '/pscratch/sd/j/jjpim/rotcurves/'\n",
    "hist_dir = '/pscratch/sd/j/jjpim/'\n",
    "\n",
    "# load updated fuji table\n",
    "tf_fuji = Table.read(data_dir + 'SV/desi_pv_tf_fuji_healpix_rotcurve_EOA_VI_velocity.fits') \n",
    "# load iron table\n",
    "tf_iron = Table.read(data_dir + 'Y1/desi_pv_tf_iron_healpix_rotcurve_EOA_VI_velocity.fits')\n",
    "#combine\n",
    "tf_mastertable = vstack([tf_fuji,tf_iron])\n",
    "#unique SGA IDs in rot curve galaxies\n",
    "tf_galaxies = np.unique(tf_mastertable['SGA_ID'][tf_mastertable['ROT_CURVE']==1])\n",
    "tf_mastertable_dict = {}\n",
    "for sga_id in np.unique(tf_mastertable['SGA_ID'][tf_mastertable['ROT_CURVE']==1]):\n",
    "    tf_mastertable_dict[sga_id] = np.where(tf_mastertable['SGA_ID'] == sga_id)[0]\n",
    "\n",
    "# load SGA table\n",
    "SGA = Table.read('/global/cfs/cdirs/cosmo/data/sga/2020/SGA-2020.fits', 'ELLIPSE')\n",
    "SGA_dict = {}\n",
    "for i in range(len(SGA)):\n",
    "    SGA_dict[SGA['SGA_ID'][i]] = i"
   ]
  },
  {
   "cell_type": "code",
   "execution_count": 4,
   "id": "bd967659-d7c8-4337-acd1-0ee22e4624e0",
   "metadata": {
    "tags": []
   },
   "outputs": [],
   "source": [
    "tf_mastertable['ROTCURVE_CHI2']=np.nan\n",
    "tf_mastertable['VMAX']=np.nan\n",
    "tf_mastertable['VMAX_ERR']=np.nan\n",
    "tf_mastertable['RTURN']=np.nan\n",
    "tf_mastertable['RTURN_ERR']=np.nan\n",
    "tf_mastertable['ALPHA']=np.nan\n",
    "tf_mastertable['ALPHA_ERR']=np.nan\n",
    "tf_mastertable['INCLINATION']=np.nan"
   ]
  },
  {
   "cell_type": "code",
   "execution_count": 5,
   "id": "ee0deaee-3cc9-4a84-82ab-13d0266048c3",
   "metadata": {
    "tags": []
   },
   "outputs": [],
   "source": [
    "def inclination_angle(axis_ratio):\n",
    "    '''\n",
    "    Calculate Inclination Angle\n",
    "    Parameters\n",
    "    ----------\n",
    "    axis_ratio : float\n",
    "        Axis ratio for galaxy.\n",
    "        \n",
    "    Returns\n",
    "    -------\n",
    "    Inclination angle in Radians\n",
    "    '''\n",
    "    cos_i2 = (axis_ratio ** 2 - 0.2 ** 2)/(1 - 0.2 ** 2)\n",
    "    if cos_i2 < 0:\n",
    "        cos_i2 = 0.001\n",
    "    inclination = np.arccos(cos_i2 ** 0.5)\n",
    "    return inclination"
   ]
  },
  {
   "cell_type": "code",
   "execution_count": 6,
   "id": "6ca20d27-46f8-4b76-942f-89480431acad",
   "metadata": {
    "tags": []
   },
   "outputs": [],
   "source": [
    "def v_rot(r, v_max, r_turn, alpha):\n",
    "    '''\n",
    "    Calculate Rotational Velocity at a target\n",
    "    Parameters\n",
    "    ----------\n",
    "    r : float\n",
    "        Target distance.\n",
    "    v_max : float\n",
    "        Maximum velocity.\n",
    "    r_turn: float\n",
    "        Velocity curve turning point.\n",
    "    alpha : \n",
    "        Velocity curve angle.\n",
    "    Returns\n",
    "    -------\n",
    "    Rotational velocity in km / s\n",
    "    '''\n",
    "    vrot = (v_max * r) / ((r_turn ** alpha + r ** alpha) ** (1/alpha))\n",
    "    return vrot"
   ]
  },
  {
   "cell_type": "code",
   "execution_count": 7,
   "id": "95900228-fd4d-4aea-b39f-bd1c4d89bdb4",
   "metadata": {
    "tags": []
   },
   "outputs": [],
   "source": [
    "def chi_2(params, v, v_err, r):\n",
    "    '''\n",
    "    Calculate Chi Squared \n",
    "    Parameters\n",
    "    ----------\n",
    "    params : list\n",
    "        v_max, r_turn, alpha.\n",
    "    v : float\n",
    "        Absolute value of velocity.\n",
    "    v_err : float\n",
    "        Uncertainty for velocity.\n",
    "    r : \n",
    "        Target distance.\n",
    "    Returns\n",
    "    -------\n",
    "    Chi Squared value\n",
    "    '''\n",
    "    v_max, r_turn, alpha = params\n",
    "    v_model = v_rot(r, v_max, r_turn, alpha)\n",
    "    chi_sq = np.sum((v_model - v)**2/(v_err**2))\n",
    "    return chi_sq"
   ]
  },
  {
   "cell_type": "code",
   "execution_count": 8,
   "id": "35b6264a-1cd5-468b-8d44-8692a74fec5a",
   "metadata": {
    "tags": []
   },
   "outputs": [
    {
     "data": {
      "text/plain": [
       "array([[ 2.66016824e-01,             nan,  3.81153577e-01],\n",
       "       [            nan,             nan,             nan],\n",
       "       [ 3.81153577e-01,             nan, -2.55909974e+06]])"
      ]
     },
     "execution_count": 8,
     "metadata": {},
     "output_type": "execute_result"
    }
   ],
   "source": [
    "hess = np.load('/pscratch/sd/j/jjpim/hessians/114489_hessian.npy')\n",
    "hess"
   ]
  },
  {
   "cell_type": "code",
   "execution_count": 9,
   "id": "fa4c7690-98f1-4b70-8368-9e79cb501c52",
   "metadata": {
    "tags": []
   },
   "outputs": [],
   "source": [
    "hess_inv = np.linalg.inv(hess)\n",
    "fit_params_err = np.sqrt(np.diag(np.abs(hess_inv)))"
   ]
  },
  {
   "cell_type": "code",
   "execution_count": 10,
   "id": "224e410a-d741-415b-85c6-a6522b962343",
   "metadata": {},
   "outputs": [],
   "source": [
    "fit_params_err = np.ones(3)*np.nan"
   ]
  },
  {
   "cell_type": "code",
   "execution_count": null,
   "id": "940ff04e-dd6c-4424-ae94-d67af9db902c",
   "metadata": {
    "tags": []
   },
   "outputs": [],
   "source": [
    "#loop through all plottables\n",
    "for sga_id in sga_ids:\n",
    "    sga_idx = SGA_dict[sga_id]\n",
    "    axis_ratio = SGA['BA'][sga_idx]\n",
    "    \n",
    "    #calculate inclination and assign to table\n",
    "    inc = inclination_angle(axis_ratio)\n",
    "    tf_mastertable['INCLINATION'][np.logical_and(tf_mastertable['SGA_ID']==sga_id, np.abs(tf_mastertable['VELOCITY']) <= 1000)] = inc\n",
    "    \n",
    "    #velocty cut <= 1000 and define parameters\n",
    "    v = np.abs(tf_mastertable[np.logical_and(tf_mastertable['SGA_ID']==sga_id, np.abs(tf_mastertable['VELOCITY']) <= 1000)]['VELOCITY'])\n",
    "    verr = tf_mastertable[np.logical_and(tf_mastertable['SGA_ID']==sga_id, np.abs(tf_mastertable['VELOCITY']) <= 1000)]['VERR']\n",
    "    radius = tf_mastertable[np.logical_and(tf_mastertable['SGA_ID']==sga_id, np.abs(tf_mastertable['VELOCITY']) <= 1000)]['SKY_FIBER_DIST_R26']\n",
    "    \n",
    "    #calculate rotational velocity and error adjusted for inclination\n",
    "    vrotate = v / (np.sin(inc))\n",
    "    vrot = vrotate[np.abs(vrotate) <= 1000]\n",
    "    vrotate_err = verr / (np.sin(inc))\n",
    "    vrot_err = vrotate_err[np.abs(vrotate) <= 1000]\n",
    "    r = radius[np.abs(vrotate) <= 1000]\n",
    "    \n",
    "    #initial guesses and bounds\n",
    "    alpha_guess = 2\n",
    "    alpha_low = 0.001\n",
    "    alpha_high = 100\n",
    "    v_max_guess = np.max(vrot)\n",
    "    v_max_low = 10\n",
    "    v_max_high = 5100\n",
    "    r_turn_guess = 0.3\n",
    "    r_turn_low = 0.01\n",
    "    r_turn_high = 1\n",
    "    \n",
    "    #put guesses and bounds into array / tuples to pass into functions\n",
    "    guess = [v_max_guess, r_turn_guess, alpha_guess]\n",
    "    bounds = [(v_max_low, v_max_high), (r_turn_low, r_turn_high), (alpha_low, alpha_high)]\n",
    "    \n",
    "    #define result\n",
    "    result = minimize(chi_2, guess, method = 'Powell', args=(vrot, vrot_err, r), bounds=bounds)\n",
    "    \n",
    "    #plot only if result succeeds\n",
    "    if result.success:\n",
    "        #calculating errors\n",
    "        hessian = ndt.Hessian(chi_2)\n",
    "        hess = hessian(result.x, vrot, vrot_err, r)\n",
    "        np.save('/pscratch/sd/j/jjpim/hessians/' + str(sga_id) + '_hessian.npy', hess)\n",
    "        try:\n",
    "            hess_inv = 2*np.linalg.inv(hess)\n",
    "            fit_params_err = np.sqrt(np.diag(np.abs(hess_inv)))\n",
    "        except np.linalg.LinAlgError:\n",
    "            fit_params_err = np.nan*np.ones(len(result.x))\n",
    "\n",
    "        #adding results into table\n",
    "        tf_mastertable['VMAX'][np.logical_and(tf_mastertable['SGA_ID']==sga_id, np.abs(tf_mastertable['VELOCITY']) <= 1000)] = result.x[0]\n",
    "        tf_mastertable['RTURN'][np.logical_and(tf_mastertable['SGA_ID']==sga_id, np.abs(tf_mastertable['VELOCITY']) <= 1000)] = result.x[1]\n",
    "        tf_mastertable['ALPHA'][np.logical_and(tf_mastertable['SGA_ID']==sga_id, np.abs(tf_mastertable['VELOCITY']) <= 1000)] = result.x[2]\n",
    "        #chi_normal = result.fun/(len(v)-3)\n",
    "        tf_mastertable['ROTCURVE_CHI2'][np.logical_and(tf_mastertable['SGA_ID']==sga_id, np.abs(tf_mastertable['VELOCITY']) <= 1000)] = result.fun\n",
    "        \n",
    "        #adding errors to mastertable\n",
    "        tf_mastertable['VMAX_ERR'][np.logical_and(tf_mastertable['SGA_ID']==sga_id, np.abs(tf_mastertable['VELOCITY']) <= 1000)] = fit_params_err[0]\n",
    "        tf_mastertable['RTURN_ERR'][np.logical_and(tf_mastertable['SGA_ID']==sga_id, np.abs(tf_mastertable['VELOCITY']) <= 1000)] = fit_params_err[1]\n",
    "        tf_mastertable['ALPHA_ERR'][np.logical_and(tf_mastertable['SGA_ID']==sga_id, np.abs(tf_mastertable['VELOCITY']) <= 1000)] = fit_params_err[2]\n",
    "        \n",
    "        #create and index linear space\n",
    "        rs = np.linspace(0, 1.1, 1000)\n",
    "        vs = v_rot(rs, result.x[0], result.x[1], result.x[2])\n",
    "            \n",
    "\n",
    "        if not np.isnan(fit_params_err).all():\n",
    "            N_samples = 10000\n",
    "            try:\n",
    "                random_sample = np.random.multivariate_normal(mean=[result.x[0],\n",
    "                                                            result.x[1],\n",
    "                                                            result.x[2]],\n",
    "                                                            cov=hess_inv,\n",
    "                                                            size=N_samples)\n",
    "            except:\n",
    "                print(str(sga_id) + ' plot sample failed')\n",
    "            \n",
    "            #cuts out bad samples in gaussian\n",
    "            is_good_random = (random_sample[:,0] > 0) & (random_sample[:,1] > 0) & (random_sample[:,2] > 0)\n",
    "            good_randoms = random_sample[is_good_random, :]\n",
    "        \n",
    "        \n",
    "            y_sample = np.zeros((len(rs), len(good_randoms[:,0])))\n",
    "            for i in range(len(rs)):\n",
    "                for j in range(len(good_randoms[:,0])):\n",
    "            # Calculate values of curve at this location\n",
    "                    y_sample[i][j] = v_rot(rs[i], good_randoms[:,0][j],\n",
    "                                             good_randoms[:,1][j],\n",
    "                                             good_randoms[:,2][j])\n",
    "        \n",
    "            #standard dev along axis of parameter variances\n",
    "            stdevs = np.nanstd(y_sample, axis=1)   \n",
    "        \n",
    "            plt.fill_between(rs, vs - stdevs, vs + stdevs, facecolor='greenyellow', alpha=0.2)\n",
    "        \n",
    "        plt.errorbar(r, vrot, yerr=vrot_err, linestyle='none', marker='o', color='g')\n",
    "        plt.plot(rs, vs, color='greenyellow')\n",
    "        plt.xlabel(r\"r/$R_{26}$\")\n",
    "        plt.ylabel(\"Velocity [km/s]\")\n",
    "        plt.title(\"SGA ID \"+str(sga_id)+ \" Rotation Curve\")\n",
    "        img_name = v_dir + '{}.jpg'.format(sga_id)\n",
    "        plt.savefig(v_dir + '{}.png'.format(sga_id), dpi=120)\n",
    "        plt.show()\n",
    "        plt.close()\n",
    "        \n",
    "        print(fit_params_err)"
   ]
  },
  {
   "cell_type": "code",
   "execution_count": 12,
   "id": "b35c6fd7-f274-4594-af15-9270d86f0ca6",
   "metadata": {
    "tags": []
   },
   "outputs": [
    {
     "data": {
      "text/html": [
       "<div><i>Table length=30</i>\n",
       "<table id=\"table140212857037408\" class=\"table-striped table-bordered table-condensed\">\n",
       "<thead><tr><th>TARGETID</th><th>TARGET_RA</th><th>TARGET_DEC</th><th>HEALPIX</th><th>SURVEY</th><th>Z</th><th>ZERR</th><th>ZWARN</th><th>DELTACHI2</th><th>FILENAME</th><th>PVTYPE</th><th>SGA_ID</th><th>RA</th><th>DEC</th><th>OBS_IN_SV</th><th>SKY_FIBER_DIST</th><th>SKY_FIBER_DIST_R26</th><th>ROT_CURVE</th><th>EOA</th><th>VELOCITY</th><th>VERR</th><th>Z_CENTER</th><th>ROTCURVE_CHI2</th><th>VMAX</th><th>VMAX_ERR</th><th>RTURN</th><th>RTURN_ERR</th><th>ALPHA</th><th>ALPHA_ERR</th><th>INCLINATION</th></tr></thead>\n",
       "<thead><tr><th>int64</th><th>float64</th><th>float64</th><th>int64</th><th>bytes4</th><th>float64</th><th>float64</th><th>int64</th><th>float64</th><th>bytes65</th><th>bytes3</th><th>int64</th><th>float64</th><th>float64</th><th>float64</th><th>float64</th><th>float64</th><th>float64</th><th>float64</th><th>float64</th><th>float64</th><th>float64</th><th>float64</th><th>float64</th><th>float64</th><th>float64</th><th>float64</th><th>float64</th><th>float64</th><th>float64</th></tr></thead>\n",
       "<tr><td>1083429319868418</td><td>209.035732273838</td><td>4.99637223780072</td><td>26090</td><td>sv3</td><td>0.00455866321424684</td><td>1.7045703519496e-05</td><td>0</td><td>817.973245054869</td><td>fuji/healpix/sv3/dark/260/26090/redrock-sv3-dark-26090.fits</td><td>EXT</td><td>608015</td><td>209.03573227383794</td><td>4.996372237800723</td><td>1.0</td><td>0.023405280830906622</td><td>0.33000000339582564</td><td>1.0</td><td>1.0</td><td>119.24312321483283</td><td>5.295052849829365</td><td>0.00415925661555279</td><td>485.6420690819571</td><td>683.3348322879498</td><td>46.72913367271797</td><td>1.3839517012478744</td><td>0.1095146382033687</td><td>1.2231075605602693</td><td>0.06283890819908805</td><td>0.8951591630310415</td></tr>\n",
       "<tr><td>1087827366379525</td><td>209.035732273838</td><td>4.99637223780072</td><td>26090</td><td>sv3</td><td>0.00453443262083903</td><td>4.65876905121306e-05</td><td>0</td><td>83.1903149126301</td><td>fuji/healpix/sv3/dark/260/26090/redrock-sv3-dark-26090.fits</td><td>EXT</td><td>608015</td><td>209.03573227383794</td><td>4.996372237800723</td><td>1.0</td><td>0.023405280830906622</td><td>0.33000000339582564</td><td>1.0</td><td>1.0</td><td>112.00906237366871</td><td>14.035337437650277</td><td>0.00415925661555279</td><td>485.6420690819571</td><td>683.3348322879498</td><td>46.72913367271797</td><td>1.3839517012478744</td><td>0.1095146382033687</td><td>1.2231075605602693</td><td>0.06283890819908805</td><td>0.8951591630310415</td></tr>\n",
       "<tr><td>1083429319868419</td><td>209.064393717756</td><td>5.03346708375066</td><td>26090</td><td>sv3</td><td>0.0037792506419391</td><td>1.74096786391594e-06</td><td>0</td><td>8771.86809350923</td><td>fuji/healpix/sv3/dark/260/26090/redrock-sv3-dark-26090.fits</td><td>EXT</td><td>608015</td><td>209.06439371775627</td><td>5.033467083750659</td><td>1.0</td><td>0.023405280830879643</td><td>0.3300000033954452</td><td>1.0</td><td>1.0</td><td>-113.45105284223867</td><td>1.4819321399218783</td><td>0.00415925661555279</td><td>485.6420690819571</td><td>683.3348322879498</td><td>46.72913367271797</td><td>1.3839517012478744</td><td>0.1095146382033687</td><td>1.2231075605602693</td><td>0.06283890819908805</td><td>0.8951591630310415</td></tr>\n",
       "<tr><td>1087827366379522</td><td>209.064393717756</td><td>5.03346708375066</td><td>26090</td><td>sv3</td><td>0.003767532119155</td><td>4.11523001920928e-06</td><td>0</td><td>1584.82943296793</td><td>fuji/healpix/sv3/dark/260/26090/redrock-sv3-dark-26090.fits</td><td>EXT</td><td>608015</td><td>209.06439371775627</td><td>5.033467083750659</td><td>1.0</td><td>0.023405280830879643</td><td>0.3300000033954452</td><td>1.0</td><td>1.0</td><td>-116.94962612775274</td><td>1.8562773122579197</td><td>0.00415925661555279</td><td>485.6420690819571</td><td>683.3348322879498</td><td>46.72913367271797</td><td>1.3839517012478744</td><td>0.1095146382033687</td><td>1.2231075605602693</td><td>0.06283890819908805</td><td>0.8951591630310415</td></tr>\n",
       "<tr><td>1083429319868420</td><td>209.079159978211</td><td>5.05257606134717</td><td>26090</td><td>sv3</td><td>0.00370404376760427</td><td>5.5732722031554e-05</td><td>0</td><td>50.6357080887283</td><td>fuji/healpix/sv3/dark/260/26090/redrock-sv3-dark-26090.fits</td><td>EXT</td><td>608015</td><td>209.07915997821107</td><td>5.052576061347171</td><td>1.0</td><td>0.047519812596031226</td><td>0.6700000068938231</td><td>0.0</td><td>1.0</td><td>-135.90411849571367</td><td>16.76571865300801</td><td>0.00415925661555279</td><td>485.6420690819571</td><td>683.3348322879498</td><td>46.72913367271797</td><td>1.3839517012478744</td><td>0.1095146382033687</td><td>1.2231075605602693</td><td>0.06283890819908805</td><td>0.8951591630310415</td></tr>\n",
       "<tr><td>1070235180335105</td><td>209.020968555307</td><td>4.97726228569555</td><td>26090</td><td>sv3</td><td>1.66681654095002</td><td>0.000311055458722065</td><td>4</td><td>0.777725480496883</td><td>fuji/healpix/sv3/bright/260/26090/redrock-sv3-bright-26090.fits</td><td>EXT</td><td>608015</td><td>209.02096855530698</td><td>4.977262285695551</td><td>1.0</td><td>0.04751981259609086</td><td>0.6700000068946639</td><td>1.0</td><td>1.0</td><td>496387.51104305114</td><td>93.26239455883116</td><td>0.00415925661555279</td><td>nan</td><td>nan</td><td>nan</td><td>nan</td><td>nan</td><td>nan</td><td>nan</td><td>nan</td></tr>\n",
       "<tr><td>1083429319868417</td><td>209.020968555307</td><td>4.97726228569555</td><td>26090</td><td>sv3</td><td>0.00454563061629451</td><td>2.08517186407605e-05</td><td>0</td><td>173.862780521602</td><td>fuji/healpix/sv3/dark/260/26090/redrock-sv3-dark-26090.fits</td><td>EXT</td><td>608015</td><td>209.02096855530698</td><td>4.977262285695551</td><td>1.0</td><td>0.04751981259609086</td><td>0.6700000068946639</td><td>1.0</td><td>1.0</td><td>115.35223185616238</td><td>6.403207334711908</td><td>0.00415925661555279</td><td>485.6420690819571</td><td>683.3348322879498</td><td>46.72913367271797</td><td>1.3839517012478744</td><td>0.1095146382033687</td><td>1.2231075605602693</td><td>0.06283890819908805</td><td>0.8951591630310415</td></tr>\n",
       "<tr><td>1083429319868419</td><td>209.064393717756</td><td>5.03346708375066</td><td>26090</td><td>sv3</td><td>0.0037792506419391</td><td>1.74096786391594e-06</td><td>0</td><td>8771.86809350923</td><td>fuji/healpix/sv3/dark/260/26090/redrock-sv3-dark-26090.fits</td><td>TFT</td><td>608015</td><td>209.06439371775627</td><td>5.033467083750659</td><td>1.0</td><td>0.023405280830879643</td><td>0.3300000033954452</td><td>1.0</td><td>1.0</td><td>-113.45105284223867</td><td>1.4819321399218783</td><td>0.00415925661555279</td><td>485.6420690819571</td><td>683.3348322879498</td><td>46.72913367271797</td><td>1.3839517012478744</td><td>0.1095146382033687</td><td>1.2231075605602693</td><td>0.06283890819908805</td><td>0.8951591630310415</td></tr>\n",
       "<tr><td>1087827366379522</td><td>209.064393717756</td><td>5.03346708375066</td><td>26090</td><td>sv3</td><td>0.003767532119155</td><td>4.11523001920928e-06</td><td>0</td><td>1584.82943296793</td><td>fuji/healpix/sv3/dark/260/26090/redrock-sv3-dark-26090.fits</td><td>TFT</td><td>608015</td><td>209.06439371775627</td><td>5.033467083750659</td><td>1.0</td><td>0.023405280830879643</td><td>0.3300000033954452</td><td>1.0</td><td>1.0</td><td>-116.94962612775274</td><td>1.8562773122579197</td><td>0.00415925661555279</td><td>485.6420690819571</td><td>683.3348322879498</td><td>46.72913367271797</td><td>1.3839517012478744</td><td>0.1095146382033687</td><td>1.2231075605602693</td><td>0.06283890819908805</td><td>0.8951591630310415</td></tr>\n",
       "<tr><td>1083429319868420</td><td>209.079159978211</td><td>5.05257606134717</td><td>26090</td><td>sv3</td><td>0.00370404376760427</td><td>5.5732722031554e-05</td><td>0</td><td>50.6357080887283</td><td>fuji/healpix/sv3/dark/260/26090/redrock-sv3-dark-26090.fits</td><td>TFT</td><td>608015</td><td>209.07915997821107</td><td>5.052576061347171</td><td>1.0</td><td>0.047519812596031226</td><td>0.6700000068938231</td><td>0.0</td><td>1.0</td><td>-135.90411849571367</td><td>16.76571865300801</td><td>0.00415925661555279</td><td>485.6420690819571</td><td>683.3348322879498</td><td>46.72913367271797</td><td>1.3839517012478744</td><td>0.1095146382033687</td><td>1.2231075605602693</td><td>0.06283890819908805</td><td>0.8951591630310415</td></tr>\n",
       "<tr><td>...</td><td>...</td><td>...</td><td>...</td><td>...</td><td>...</td><td>...</td><td>...</td><td>...</td><td>...</td><td>...</td><td>...</td><td>...</td><td>...</td><td>...</td><td>...</td><td>...</td><td>...</td><td>...</td><td>...</td><td>...</td><td>...</td><td>...</td><td>...</td><td>...</td><td>...</td><td>...</td><td>...</td><td>...</td><td>...</td></tr>\n",
       "<tr><td>2407241319710735</td><td>209.076119794685</td><td>5.04864188732814</td><td>26090</td><td>main</td><td>0.00372096825906519</td><td>2.27806720070784e-05</td><td>0</td><td>76.9051980191107</td><td>iron/healpix/main/dark/260/26090/redrock-main-dark-26090.fits</td><td>EXT</td><td>608015</td><td>209.0761197946849</td><td>5.0486418873281425</td><td>1.0</td><td>0.042555056056148725</td><td>0.6000000061735921</td><td>0.0</td><td>1.0</td><td>-130.85129957083882</td><td>6.968889679574004</td><td>0.00415925661555279</td><td>485.6420690819571</td><td>683.3348322879498</td><td>46.72913367271797</td><td>1.3839517012478744</td><td>0.1095146382033687</td><td>1.2231075605602693</td><td>0.06283890819908805</td><td>0.8951591630310415</td></tr>\n",
       "<tr><td>2394047184371712</td><td>209.084806131286</td><td>5.05988234697064</td><td>26090</td><td>main</td><td>1.09178104975718</td><td>0.000167833020772353</td><td>4</td><td>7.03434601705521</td><td>iron/healpix/main/bright/260/26090/redrock-main-bright-26090.fits</td><td>EXT</td><td>608015</td><td>209.08480613128597</td><td>5.059882346970643</td><td>1.0</td><td>0.05674007474152379</td><td>0.8000000082313455</td><td>1.0</td><td>1.0</td><td>324710.25745384314</td><td>50.334186866972686</td><td>0.00415925661555279</td><td>nan</td><td>nan</td><td>nan</td><td>nan</td><td>nan</td><td>nan</td><td>nan</td><td>nan</td></tr>\n",
       "<tr><td>2847045975015425</td><td>209.093492769661</td><td>5.07112269091585</td><td>26090</td><td>main</td><td>1.06154604823688</td><td>7.74190121839373e-05</td><td>4</td><td>6.93378806114197</td><td>iron/healpix/main/dark/260/26090/redrock-main-dark-26090.fits</td><td>EXT</td><td>608015</td><td>209.09349276966134</td><td>5.071122690915851</td><td>1.0</td><td>0.0709250934268863</td><td>1.000000010288922</td><td>1.0</td><td>1.0</td><td>315683.5763136874</td><td>23.251041143960666</td><td>0.00415925661555279</td><td>nan</td><td>nan</td><td>nan</td><td>nan</td><td>nan</td><td>nan</td><td>nan</td><td>nan</td></tr>\n",
       "<tr><td>1070235184529408</td><td>209.093492769661</td><td>5.07112269091585</td><td>26090</td><td>sv3</td><td>0.932752477574551</td><td>2.23214609614882e-46</td><td>518</td><td>0.0</td><td>iron/healpix/sv3/bright/260/26090/redrock-sv3-bright-26090.fits</td><td>EXT</td><td>608015</td><td>209.09349276966134</td><td>5.071122690915851</td><td>1.0</td><td>0.0709250934268863</td><td>1.000000010288922</td><td>1.0</td><td>1.0</td><td>277232.1644792807</td><td>1.3869797942022388</td><td>0.00415925661555279</td><td>nan</td><td>nan</td><td>nan</td><td>nan</td><td>nan</td><td>nan</td><td>nan</td><td>nan</td></tr>\n",
       "<tr><td>1083429324062720</td><td>209.093492769661</td><td>5.07112269091585</td><td>26090</td><td>sv3</td><td>0.388373211129937</td><td>6.0750262419944e-05</td><td>4</td><td>6.94860530272126</td><td>iron/healpix/sv3/dark/260/26090/redrock-sv3-dark-26090.fits</td><td>EXT</td><td>608015</td><td>209.09349276966134</td><td>5.071122690915851</td><td>1.0</td><td>0.0709250934268863</td><td>1.000000010288922</td><td>1.0</td><td>1.0</td><td>114707.3485235682</td><td>18.265207211567592</td><td>0.00415925661555279</td><td>nan</td><td>nan</td><td>nan</td><td>nan</td><td>nan</td><td>nan</td><td>nan</td><td>nan</td></tr>\n",
       "<tr><td>2842647924310019</td><td>209.032692614453</td><td>4.99243786283778</td><td>26090</td><td>main</td><td>0.00462886560435621</td><td>3.61565087514361e-06</td><td>0</td><td>2268.85481013171</td><td>iron/healpix/main/dark/260/26090/redrock-main-dark-26090.fits</td><td>TFT</td><td>608015</td><td>209.03269261445348</td><td>4.992437862837775</td><td>1.0</td><td>0.028370037370787495</td><td>0.40000000411603376</td><td>1.0</td><td>1.0</td><td>140.20209655464222</td><td>1.7602981042509152</td><td>0.00415925661555279</td><td>485.6420690819571</td><td>683.3348322879498</td><td>46.72913367271797</td><td>1.3839517012478744</td><td>0.1095146382033687</td><td>1.2231075605602693</td><td>0.06283890819908805</td><td>0.8951591630310415</td></tr>\n",
       "<tr><td>2402843273199619</td><td>209.032692614453</td><td>4.99243786283778</td><td>26090</td><td>main</td><td>0.00463810435911527</td><td>3.91900392253037e-06</td><td>0</td><td>1729.30891248886</td><td>iron/healpix/main/dark/260/26090/redrock-main-dark-26090.fits</td><td>TFT</td><td>608015</td><td>209.03269261445348</td><td>4.992437862837775</td><td>1.0</td><td>0.028370037370787495</td><td>0.40000000411603376</td><td>1.0</td><td>1.0</td><td>142.9603333381256</td><td>1.8177112907170918</td><td>0.00415925661555279</td><td>485.6420690819571</td><td>683.3348322879498</td><td>46.72913367271797</td><td>1.3839517012478744</td><td>0.1095146382033687</td><td>1.2231075605602693</td><td>0.06283890819908805</td><td>0.8951591630310415</td></tr>\n",
       "<tr><td>2847045970821121</td><td>209.050062588716</td><td>5.01491981684034</td><td>26090</td><td>main</td><td>0.00415925661555279</td><td>4.62646660111189e-06</td><td>0</td><td>24323.5174433466</td><td>iron/healpix/main/dark/260/26090/redrock-main-dark-26090.fits</td><td>TFT</td><td>608015</td><td>209.05006258871558</td><td>5.014919816840345</td><td>1.0</td><td>0.0</td><td>0.0</td><td>1.0</td><td>1.0</td><td>0.0</td><td>1.9614856356982506</td><td>0.00415925661555279</td><td>485.6420690819571</td><td>683.3348322879498</td><td>46.72913367271797</td><td>1.3839517012478744</td><td>0.1095146382033687</td><td>1.2231075605602693</td><td>0.06283890819908805</td><td>0.8951591630310415</td></tr>\n",
       "<tr><td>2842647924310020</td><td>209.067433759177</td><td>5.03740131225071</td><td>26090</td><td>main</td><td>0.00375315687256847</td><td>1.19840788605113e-05</td><td>0</td><td>442.11928174348</td><td>iron/healpix/main/dark/260/26090/redrock-main-dark-26090.fits</td><td>TFT</td><td>608015</td><td>209.0674337591769</td><td>5.037401312250713</td><td>1.0</td><td>0.028370037370772115</td><td>0.4000000041158169</td><td>1.0</td><td>1.0</td><td>-121.24136618809459</td><td>3.8511645264078718</td><td>0.00415925661555279</td><td>485.6420690819571</td><td>683.3348322879498</td><td>46.72913367271797</td><td>1.3839517012478744</td><td>0.1095146382033687</td><td>1.2231075605602693</td><td>0.06283890819908805</td><td>0.8951591630310415</td></tr>\n",
       "<tr><td>2402843273199620</td><td>209.067433759177</td><td>5.03740131225071</td><td>26090</td><td>main</td><td>0.00375906929240391</td><td>1.86731908008853e-05</td><td>0</td><td>249.31915083426</td><td>iron/healpix/main/dark/260/26090/redrock-main-dark-26090.fits</td><td>TFT</td><td>608015</td><td>209.0674337591769</td><td>5.037401312250713</td><td>1.0</td><td>0.028370037370772115</td><td>0.4000000041158169</td><td>1.0</td><td>1.0</td><td>-119.4762090543504</td><td>5.76734188693719</td><td>0.00415925661555279</td><td>485.6420690819571</td><td>683.3348322879498</td><td>46.72913367271797</td><td>1.3839517012478744</td><td>0.1095146382033687</td><td>1.2231075605602693</td><td>0.06283890819908805</td><td>0.8951591630310415</td></tr>\n",
       "</table></div>"
      ],
      "text/plain": [
       "<Table length=30>\n",
       "    TARGETID        TARGET_RA     ...      ALPHA_ERR         INCLINATION    \n",
       "     int64           float64      ...       float64            float64      \n",
       "---------------- ---------------- ... ------------------- ------------------\n",
       "1083429319868418 209.035732273838 ... 0.06283890819908805 0.8951591630310415\n",
       "1087827366379525 209.035732273838 ... 0.06283890819908805 0.8951591630310415\n",
       "1083429319868419 209.064393717756 ... 0.06283890819908805 0.8951591630310415\n",
       "1087827366379522 209.064393717756 ... 0.06283890819908805 0.8951591630310415\n",
       "1083429319868420 209.079159978211 ... 0.06283890819908805 0.8951591630310415\n",
       "1070235180335105 209.020968555307 ...                 nan                nan\n",
       "1083429319868417 209.020968555307 ... 0.06283890819908805 0.8951591630310415\n",
       "1083429319868419 209.064393717756 ... 0.06283890819908805 0.8951591630310415\n",
       "1087827366379522 209.064393717756 ... 0.06283890819908805 0.8951591630310415\n",
       "1083429319868420 209.079159978211 ... 0.06283890819908805 0.8951591630310415\n",
       "             ...              ... ...                 ...                ...\n",
       "2407241319710735 209.076119794685 ... 0.06283890819908805 0.8951591630310415\n",
       "2394047184371712 209.084806131286 ...                 nan                nan\n",
       "2847045975015425 209.093492769661 ...                 nan                nan\n",
       "1070235184529408 209.093492769661 ...                 nan                nan\n",
       "1083429324062720 209.093492769661 ...                 nan                nan\n",
       "2842647924310019 209.032692614453 ... 0.06283890819908805 0.8951591630310415\n",
       "2402843273199619 209.032692614453 ... 0.06283890819908805 0.8951591630310415\n",
       "2847045970821121 209.050062588716 ... 0.06283890819908805 0.8951591630310415\n",
       "2842647924310020 209.067433759177 ... 0.06283890819908805 0.8951591630310415\n",
       "2402843273199620 209.067433759177 ... 0.06283890819908805 0.8951591630310415"
      ]
     },
     "execution_count": 12,
     "metadata": {},
     "output_type": "execute_result"
    }
   ],
   "source": [
    "tf_mastertable[tf_mastertable['SGA_ID']==608015]"
   ]
  },
  {
   "cell_type": "code",
   "execution_count": 13,
   "id": "92f9799e-48dd-4360-bb83-ee7f43ccf349",
   "metadata": {},
   "outputs": [],
   "source": [
    "#writing new data into new table\n",
    "tf_mastertable.write(data_dir + 'tf_mastertable.fits', format='fits', overwrite=True)"
   ]
  },
  {
   "cell_type": "code",
   "execution_count": null,
   "id": "f1d3c63e-8887-4d27-b8f6-9419d69ea7ba",
   "metadata": {},
   "outputs": [],
   "source": []
  }
 ],
 "metadata": {
  "kernelspec": {
   "display_name": "DESI main",
   "language": "python",
   "name": "desi-main"
  },
  "language_info": {
   "codemirror_mode": {
    "name": "ipython",
    "version": 3
   },
   "file_extension": ".py",
   "mimetype": "text/x-python",
   "name": "python",
   "nbconvert_exporter": "python",
   "pygments_lexer": "ipython3",
   "version": "3.10.14"
  }
 },
 "nbformat": 4,
 "nbformat_minor": 5
}
