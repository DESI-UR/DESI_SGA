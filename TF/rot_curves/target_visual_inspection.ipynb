{
 "cells": [
  {
   "cell_type": "markdown",
   "id": "5283e26b-5824-4ee9-af46-ce2658b27bbd",
   "metadata": {},
   "source": [
    "# Notebook to VI rotation curve galaxies"
   ]
  },
  {
   "cell_type": "code",
   "execution_count": null,
   "id": "9ce8fcc5-c195-4717-a77a-eb82ba22938c",
   "metadata": {
    "tags": []
   },
   "outputs": [],
   "source": [
    "import numpy as np\n",
    "import os\n",
    "import requests\n",
    "from astropy.table import Table, vstack\n",
    "import matplotlib.pyplot as plt\n",
    "from astropy.io import fits\n",
    "from astropy.coordinates import SkyCoord\n",
    "from astropy import units as u\n",
    "from astropy.wcs import WCS\n",
    "import math\n",
    "import matplotlib as mpl\n",
    "from astropy.visualization.wcsaxes import SphericalCircle"
   ]
  },
  {
   "cell_type": "code",
   "execution_count": null,
   "id": "8f067985-74ab-421e-bb24-f94254a1e0d6",
   "metadata": {
    "tags": []
   },
   "outputs": [],
   "source": [
    "data_dir = '/global/cfs/projectdirs/desi/science/td/pv/tfgalaxies/'\n",
    "cache_dir = '/pscratch/sd/n/nravi/legacysurvey_cache/' # change this path\n",
    "vi_dir = '/pscratch/sd/n/nravi/vi_rot_curve_targets/' # change this path"
   ]
  },
  {
   "cell_type": "code",
   "execution_count": null,
   "id": "103f8fe2-45c9-4a62-bdb1-c5ff183a3a2f",
   "metadata": {
    "tags": []
   },
   "outputs": [],
   "source": [
    "def get_cutout(SGA_ID, ra, dec, size, cache_dir, verbose=False):\n",
    "    '''Grab and cache legacy survey cutouts.\n",
    "    \n",
    "    Parameters\n",
    "    ----------\n",
    "    SGA_ID : int\n",
    "        SGA ID for galaxy.\n",
    "    ra : float\n",
    "        Right ascension (degrees).\n",
    "    dec : float\n",
    "        Declination (degrees).\n",
    "    size : float\n",
    "        size of cutout.\n",
    "    cache_dir : string\n",
    "        cache location\n",
    "    verbose : bool\n",
    "        Add some status messages if true.\n",
    "        \n",
    "    Returns\n",
    "    -------\n",
    "    img_name : str\n",
    "        Name of JPG cutout file written after query.\n",
    "    w : astropy.wcs.WCS\n",
    "        World coordinate system for the image.\n",
    "    '''\n",
    "    \n",
    "    # Either load an existing image or download a cutout.\n",
    "    img_name = cache_dir + '{}.jpg'.format(SGA_ID)\n",
    "    \n",
    "    \n",
    "    if os.path.exists(img_name):\n",
    "        if verbose:\n",
    "            print('{} exists.'.format(img_name))\n",
    "\n",
    "    else:\n",
    "        img_url = 'https://www.legacysurvey.org/viewer/cutout.jpg?ra={}&dec={}&zoom=14&layer=ls-dr9&size={}&sga'.format(ra, dec, size)\n",
    "        if verbose:\n",
    "            print('Get {}'.format(img_url))\n",
    "            \n",
    "        with open(img_name, 'wb') as handle: \n",
    "            response = requests.get(img_url, stream=True) \n",
    "            if not response.ok: \n",
    "                print(response) \n",
    "            for block in response.iter_content(1024): \n",
    "                if not block: \n",
    "                    break \n",
    "                handle.write(block)\n",
    "                \n",
    "    # Set up the WCS.\n",
    "    wcs_input_dict = {\n",
    "        'CTYPE1': 'RA---TAN',\n",
    "        'CUNIT1': 'deg',\n",
    "        'CDELT1': -0.262/3600,\n",
    "        'CRPIX1': size/2 + 0.5,\n",
    "        'CRVAL1': ra,\n",
    "        'NAXIS1': size,\n",
    "        'CTYPE2': 'DEC--TAN',\n",
    "        'CUNIT2': 'deg',\n",
    "        'CDELT2': 0.262/3600,\n",
    "        'CRPIX2': size/2 + 0.5,\n",
    "        'CRVAL2': dec,\n",
    "        'NAXIS2': size\n",
    "    }\n",
    "    w = WCS(wcs_input_dict)\n",
    "    \n",
    "    return img_name, w"
   ]
  },
  {
   "cell_type": "code",
   "execution_count": null,
   "id": "a081c55b-2ce3-45ee-ad87-dc5612ade547",
   "metadata": {
    "tags": []
   },
   "outputs": [],
   "source": [
    "# load fuji table\n",
    "tf_fuji = Table.read(data_dir + 'SV/desi_pv_tf_fuji_healpix_rotcurve_EOA.fits')\n",
    "tf_fuji[:5]"
   ]
  },
  {
   "cell_type": "code",
   "execution_count": null,
   "id": "fa9cb25e-23c2-4f6d-9f85-bd823b78eeb8",
   "metadata": {
    "tags": []
   },
   "outputs": [],
   "source": [
    "# load iron table\n",
    "tf_iron = Table.read(data_dir + 'Y1/desi_pv_tf_iron_healpix_rotcurve_EOA.fits')\n",
    "tf_iron[:5]"
   ]
  },
  {
   "cell_type": "code",
   "execution_count": null,
   "id": "9f9c14cf-17a6-4da7-9014-93184597fe2b",
   "metadata": {
    "tags": []
   },
   "outputs": [],
   "source": [
    "# load SGA table\n",
    "SGA = Table.read('/global/cfs/cdirs/cosmo/data/sga/2020/SGA-2020.fits', 'ELLIPSE')\n",
    "SGA_dict = {}\n",
    "for i in range(len(SGA)):\n",
    "    SGA_dict[SGA['SGA_ID'][i]] = i\n",
    "SGA[:5]"
   ]
  },
  {
   "cell_type": "code",
   "execution_count": null,
   "id": "840ef46c-9542-43a9-b6ad-e1f9a10ee259",
   "metadata": {
    "tags": []
   },
   "outputs": [],
   "source": [
    "# list of rotation curve galaxies\n",
    "tf_mastertable = vstack([tf_fuji,tf_iron])\n",
    "rot_curve_gals = np.unique(tf_mastertable['SGA_ID'][tf_mastertable['ROT_CURVE']==1])"
   ]
  },
  {
   "cell_type": "code",
   "execution_count": null,
   "id": "60f99032-d961-4891-a3da-f8385aa106b2",
   "metadata": {},
   "outputs": [],
   "source": [
    "# for each rotation curve galaxy, grab cut out, draw fibers on image, and save image\n",
    "for sga_id in rot_curve_gals:\n",
    "    \n",
    "    targ_list = tf_mastertable[tf_mastertable['SGA_ID'] == sga_id]\n",
    "    if np.min(targ_list['SKY_FIBER_DIST_R26']) < 0.001:\n",
    "        center_target = targ_list[np.argmin(targ_list['SKY_FIBER_DIST_R26'])]['TARGETID']\n",
    "        z = targ_list[np.argmin(targ_list['SKY_FIBER_DIST_R26'])]['Z']\n",
    "        \n",
    "    else:\n",
    "        continue\n",
    "    \n",
    "    ra, dec = float(SGA['RA'][SGA_dict[sga_id]]), float(SGA['DEC'][SGA_dict[sga_id]])\n",
    "    \n",
    "    # D26 in arcmin\n",
    "    d26 = SGA['D26'][SGA_dict[sga_id]]\n",
    "    \n",
    "\n",
    "    npix = np.minimum(int(2 * d26*60/0.262), 512)\n",
    "    \n",
    "\n",
    "    img_file, wcs = get_cutout(sga_id, ra, dec, size=npix, cache_dir,verbose=True)\n",
    "    img = mpl.image.imread(img_file)\n",
    "\n",
    "    fig1 = plt.figure(figsize=(7,5))\n",
    "\n",
    "    ax = fig1.add_subplot(111, projection=wcs)\n",
    "    ax.imshow(np.flip(img, axis=0))\n",
    "    ax.set(xlabel='ra', ylabel='dec')\n",
    "    ax.text(int(0.02*npix), int(0.85*npix), 'SGA_ID: {}\\n$z={{{:.4f}}}$'.format(sga_id, z), fontsize=9, color='yellow')\n",
    "    overlay = ax.get_coords_overlay('icrs')\n",
    "    overlay.grid(color='white', ls='dotted');\n",
    "\n",
    "    # Add the location of the DESI fibers.\n",
    "    # SDSS fibers are 2\" diameter, DESI is 107 um with 70 um/\" plate scale.\n",
    "    r1 = SphericalCircle((ra * u.deg, dec * u.deg), (107./70) * u.arcsec,\n",
    "                         edgecolor='black', facecolor='none', alpha=0.8, lw=3,\n",
    "                         transform=ax.get_transform('icrs'))\n",
    "    r2 = SphericalCircle((ra * u.deg, dec * u.deg), (107./70) * u.arcsec,\n",
    "                         edgecolor='red', facecolor='none', alpha=0.8, lw=2,\n",
    "                         transform=ax.get_transform('icrs'))\n",
    "    ax.add_patch(r1)\n",
    "    ax.add_patch(r2)\n",
    "\n",
    "    for targ in targ_list:\n",
    "        ra, dec = targ['RA'], targ['DEC']\n",
    "        \n",
    "        edgecolor2 = 'orange'\n",
    "\n",
    "        # Add the location of the DESI fibers.\n",
    "        # SDSS fibers are 2\" diameter, DESI is 107 um with 70 um/\" plate scale.\n",
    "        r1 = SphericalCircle((ra * u.deg, dec * u.deg), (107./70) * u.arcsec,\n",
    "                             edgecolor='lightcoral', facecolor='none', alpha=1, lw=3,\n",
    "                             transform=ax.get_transform('icrs'))\n",
    "        r2 = SphericalCircle((ra * u.deg, dec * u.deg), (107./70) * u.arcsec,\n",
    "                             edgecolor=edgecolor2, facecolor='none', alpha=0.8, lw=2,\n",
    "                             transform=ax.get_transform('icrs'))\n",
    "        ax.add_patch(r1)\n",
    "        ax.add_patch(r2)\n",
    "        \n",
    "        ax.text(ra, dec, str(targ['TARGETID']), transform=ax.get_transform('icrs'), color='white', fontsize=6)\n",
    "    \n",
    "    fig1.subplots_adjust(top=0.85, right=0.85, bottom=0.15, left=0.15)\n",
    "    \n",
    "    fig1.savefig(vi_dir + '{}.png'.format(sga_id), dpi=120)\n",
    "    \n",
    "    fig1.clear()\n",
    "    plt.close(fig1)\n"
   ]
  },
  {
   "cell_type": "code",
   "execution_count": null,
   "id": "f97e23c7-477f-49ca-a14c-107d7f5dc7fe",
   "metadata": {
    "tags": []
   },
   "outputs": [],
   "source": [
    "# we want to visually inspect rotation curve galaxies that have EOA targets\n",
    "EOA_gals = np.unique(tf_mastertable[np.logical_and(tf_mastertable['EOA'] == 1, tf_mastertable['ROT_CURVE']==1)]['SGA_ID'])\n",
    "print(EOA_gals)"
   ]
  },
  {
   "cell_type": "code",
   "execution_count": null,
   "id": "a88b60bd-9abb-43e1-9c45-a2598cb8f4a0",
   "metadata": {},
   "outputs": [],
   "source": [
    "# inspect all the necessary galaxies, \n",
    "# if you find a galaxy with bad target for rotation curve analysis, grab all observations for that galaxy\n",
    "tf_mastertable[tf_mastertable['SGA_ID'] == ??? ]\n",
    "# identify which target is bad by target id and add to the list in the cell below"
   ]
  },
  {
   "cell_type": "code",
   "execution_count": null,
   "id": "82c3edfd-0280-4e9f-bb22-62fc7d4a8fc6",
   "metadata": {
    "tags": []
   },
   "outputs": [],
   "source": [
    "# if there is a target not suitable for rotation curve analysis,\n",
    "#change 'ROT_CURVE' to 0 for that target in the tables \n",
    "# (targets can be in both fuji and iron)\n",
    "\n",
    "targetids = []\n",
    "\n",
    "for targetid in targetids:\n",
    "    try:\n",
    "        tf_fuji['ROT_CURVE'][tf_fuji['TARGETID'] == targetid] = 0\n",
    "    except:\n",
    "        print(targetid, ' not in fuji')\n",
    "    \n",
    "    try:\n",
    "        tf_iron['ROT_CURVE'][tf_iron['TARGETID'] == targetid] = 0\n",
    "    except:\n",
    "        print(targetid, ' not in iron')"
   ]
  },
  {
   "cell_type": "code",
   "execution_count": null,
   "id": "f29b02b6-0583-4db4-a8cd-06e5bcf25807",
   "metadata": {
    "tags": []
   },
   "outputs": [],
   "source": [
    "# additional targets that need to inspected, some of these may be elliptical galaxies which we can't use\n",
    "# for rotation curve analysis\n",
    "EXT_centers = tf_mastertable[np.logical_and(tf_mastertable['PVTYPE'] == 'EXT', tf_mastertable['SKY_FIBER_DIST_R26'] < 0.001)]\n",
    "EXT_centers[EXT_centers['ROT_CURVE'] == 1]"
   ]
  }
 ],
 "metadata": {
  "kernelspec": {
   "display_name": "DESI 22.5",
   "language": "python",
   "name": "desi-22.5"
  },
  "language_info": {
   "codemirror_mode": {
    "name": "ipython",
    "version": 3
   },
   "file_extension": ".py",
   "mimetype": "text/x-python",
   "name": "python",
   "nbconvert_exporter": "python",
   "pygments_lexer": "ipython3",
   "version": "3.9.7"
  }
 },
 "nbformat": 4,
 "nbformat_minor": 5
}
