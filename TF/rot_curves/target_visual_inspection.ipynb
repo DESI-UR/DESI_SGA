{
 "cells": [
  {
   "cell_type": "markdown",
   "id": "5283e26b-5824-4ee9-af46-ce2658b27bbd",
   "metadata": {},
   "source": [
    "# Notebook to VI rotation curve galaxies"
   ]
  },
  {
   "cell_type": "code",
   "execution_count": 2,
   "id": "9ce8fcc5-c195-4717-a77a-eb82ba22938c",
   "metadata": {
    "tags": []
   },
   "outputs": [],
   "source": [
    "import numpy as np\n",
    "import os\n",
    "import requests\n",
    "from astropy.table import Table, vstack\n",
    "import matplotlib.pyplot as plt\n",
    "from astropy.io import fits\n",
    "from astropy.coordinates import SkyCoord\n",
    "from astropy import units as u\n",
    "from astropy.wcs import WCS\n",
    "import math\n",
    "import matplotlib as mpl\n",
    "from astropy.visualization.wcsaxes import SphericalCircle"
   ]
  },
  {
   "cell_type": "code",
   "execution_count": 3,
   "id": "8f067985-74ab-421e-bb24-f94254a1e0d6",
   "metadata": {
    "tags": []
   },
   "outputs": [],
   "source": [
    "data_dir = '/global/cfs/projectdirs/desi/science/td/pv/tfgalaxies/'\n",
    "cache_dir = '/pscratch/sd/j/jjpim/cache/' # need to make a cache in pscratch? vi_rotation_curves?\n",
    "vi_dir = '/pscratch/sd/j/jjpim/visual_inspection/' # need to make in pscratch?"
   ]
  },
  {
   "cell_type": "code",
   "execution_count": 4,
   "id": "103f8fe2-45c9-4a62-bdb1-c5ff183a3a2f",
   "metadata": {
    "tags": []
   },
   "outputs": [],
   "source": [
    "def get_cutout(SGA_ID, ra, dec, size, cache_dir, verbose=False):\n",
    "    '''Grab and cache legacy survey cutouts.\n",
    "    \n",
    "    Parameters\n",
    "    ----------\n",
    "    SGA_ID : int\n",
    "        SGA ID for galaxy.\n",
    "    ra : float\n",
    "        Right ascension (degrees).\n",
    "    dec : float\n",
    "        Declination (degrees).\n",
    "    size : float\n",
    "        size of cutout.\n",
    "    cache_dir : string\n",
    "        cache location\n",
    "    verbose : bool\n",
    "        Add some status messages if true.\n",
    "        \n",
    "    Returns\n",
    "    -------\n",
    "    img_name : str\n",
    "        Name of JPG cutout file written after query.\n",
    "    w : astropy.wcs.WCS\n",
    "        World coordinate system for the image.\n",
    "    '''\n",
    "    \n",
    "    # Either load an existing image or download a cutout.\n",
    "    img_name = cache_dir + '{}.jpg'.format(SGA_ID)\n",
    "    \n",
    "    \n",
    "    if os.path.exists(img_name):\n",
    "        if verbose:\n",
    "            print('{} exists.'.format(img_name))\n",
    "\n",
    "    else:\n",
    "        img_url = 'https://www.legacysurvey.org/viewer/cutout.jpg?ra={}&dec={}&zoom=14&layer=ls-dr9&size={}&sga'.format(ra, dec, size)\n",
    "        if verbose:\n",
    "            print('Get {}'.format(img_url))\n",
    "            \n",
    "        with open(img_name, 'wb') as handle: \n",
    "            response = requests.get(img_url, stream=True) \n",
    "            if not response.ok: \n",
    "                print(response) \n",
    "            for block in response.iter_content(1024): \n",
    "                if not block: \n",
    "                    break \n",
    "                handle.write(block)\n",
    "                \n",
    "    # Set up the WCS.\n",
    "    wcs_input_dict = {\n",
    "        'CTYPE1': 'RA---TAN',\n",
    "        'CUNIT1': 'deg',\n",
    "        'CDELT1': -0.262/3600,\n",
    "        'CRPIX1': size/2 + 0.5,\n",
    "        'CRVAL1': ra,\n",
    "        'NAXIS1': size,\n",
    "        'CTYPE2': 'DEC--TAN',\n",
    "        'CUNIT2': 'deg',\n",
    "        'CDELT2': 0.262/3600,\n",
    "        'CRPIX2': size/2 + 0.5,\n",
    "        'CRVAL2': dec,\n",
    "        'NAXIS2': size\n",
    "    }\n",
    "    w = WCS(wcs_input_dict)\n",
    "    \n",
    "    return img_name, w"
   ]
  },
  {
   "cell_type": "code",
   "execution_count": 7,
   "id": "a081c55b-2ce3-45ee-ad87-dc5612ade547",
   "metadata": {
    "tags": []
   },
   "outputs": [
    {
     "data": {
      "text/html": [
       "<div><i>Table length=5</i>\n",
       "<table id=\"table139820570571632\" class=\"table-striped table-bordered table-condensed\">\n",
       "<thead><tr><th>TARGETID</th><th>TARGET_RA</th><th>TARGET_DEC</th><th>HEALPIX</th><th>SURVEY</th><th>Z</th><th>ZERR</th><th>ZWARN</th><th>DELTACHI2</th><th>FILENAME</th><th>PVTYPE</th><th>SGA_ID</th><th>RA</th><th>DEC</th><th>OBS_IN_SV</th><th>SKY_FIBER_DIST</th><th>SKY_FIBER_DIST_R26</th><th>ROT_CURVE</th><th>EOA</th></tr></thead>\n",
       "<thead><tr><th>int64</th><th>float64</th><th>float64</th><th>int64</th><th>bytes3</th><th>float64</th><th>float64</th><th>int64</th><th>float64</th><th>bytes63</th><th>bytes3</th><th>int64</th><th>float64</th><th>float64</th><th>float64</th><th>float64</th><th>float64</th><th>float64</th><th>float64</th></tr></thead>\n",
       "<tr><td>1079550234591232</td><td>194.390863195343</td><td>27.5157211790145</td><td>10378</td><td>sv3</td><td>1.1235686466514</td><td>7.31685779475115e-05</td><td>4</td><td>3.28414569795132</td><td>fuji/healpix/sv3/bright/103/10378/redrock-sv3-bright-10378.fits</td><td>EXT</td><td>662902</td><td>194.39086319534337</td><td>27.51572117901454</td><td>1.0</td><td>0.03927420444753712</td><td>1.0000000170652443</td><td>0.0</td><td>0.0</td></tr>\n",
       "<tr><td>1092744374124544</td><td>194.390863195343</td><td>27.5157211790145</td><td>10378</td><td>sv3</td><td>0.686773088332363</td><td>6.9756676262104e-05</td><td>4</td><td>0.786607094109058</td><td>fuji/healpix/sv3/dark/103/10378/redrock-sv3-dark-10378.fits</td><td>EXT</td><td>662902</td><td>194.39086319534337</td><td>27.51572117901454</td><td>1.0</td><td>0.03927420444753712</td><td>1.0000000170652443</td><td>0.0</td><td>0.0</td></tr>\n",
       "<tr><td>1092744374124546</td><td>194.364461113654</td><td>27.5037185881314</td><td>10378</td><td>sv3</td><td>0.0242933923052181</td><td>4.95233472646785e-05</td><td>0</td><td>95.428411073226</td><td>fuji/healpix/sv3/dark/103/10378/redrock-sv3-dark-10378.fits</td><td>EXT</td><td>662902</td><td>194.36446111365385</td><td>27.50371858813136</td><td>1.0</td><td>0.012960487467698754</td><td>0.3300000056318236</td><td>0.0</td><td>0.0</td></tr>\n",
       "<tr><td>1092744369930240</td><td>194.338458724402</td><td>27.4918902690326</td><td>10378</td><td>sv3</td><td>0.0264170223697961</td><td>0.00010139452689994</td><td>0</td><td>9.53278421035066</td><td>fuji/healpix/sv3/dark/103/10378/redrock-sv3-dark-10378.fits</td><td>EXT</td><td>662902</td><td>194.33845872440244</td><td>27.491890269032595</td><td>1.0</td><td>0.012960487467685656</td><td>0.33000000563149007</td><td>0.0</td><td>0.0</td></tr>\n",
       "<tr><td>1092744374124545</td><td>194.377858465028</td><td>27.5098100780282</td><td>10378</td><td>sv3</td><td>0.211332646769145</td><td>6.68535116703737e-05</td><td>4</td><td>3.73989077657461</td><td>fuji/healpix/sv3/dark/103/10378/redrock-sv3-dark-10378.fits</td><td>EXT</td><td>662902</td><td>194.3778584650283</td><td>27.509810078028195</td><td>1.0</td><td>0.026313716979861984</td><td>0.6700000114340222</td><td>0.0</td><td>0.0</td></tr>\n",
       "</table></div>"
      ],
      "text/plain": [
       "<Table length=5>\n",
       "    TARGETID        TARGET_RA        TARGET_DEC    ... ROT_CURVE   EOA  \n",
       "     int64           float64          float64      ...  float64  float64\n",
       "---------------- ---------------- ---------------- ... --------- -------\n",
       "1079550234591232 194.390863195343 27.5157211790145 ...       0.0     0.0\n",
       "1092744374124544 194.390863195343 27.5157211790145 ...       0.0     0.0\n",
       "1092744374124546 194.364461113654 27.5037185881314 ...       0.0     0.0\n",
       "1092744369930240 194.338458724402 27.4918902690326 ...       0.0     0.0\n",
       "1092744374124545 194.377858465028 27.5098100780282 ...       0.0     0.0"
      ]
     },
     "execution_count": 7,
     "metadata": {},
     "output_type": "execute_result"
    }
   ],
   "source": [
    "# load fuji table\n",
    "tf_fuji = Table.read(data_dir + 'SV/desi_pv_tf_fuji_healpix_rotcurve_EOA.fits')\n",
    "tf_fuji[:5]"
   ]
  },
  {
   "cell_type": "code",
   "execution_count": 8,
   "id": "fa9cb25e-23c2-4f6d-9f85-bd823b78eeb8",
   "metadata": {
    "tags": []
   },
   "outputs": [
    {
     "data": {
      "text/html": [
       "<div><i>Table length=5</i>\n",
       "<table id=\"table139820570266784\" class=\"table-striped table-bordered table-condensed\">\n",
       "<thead><tr><th>TARGETID</th><th>TARGET_RA</th><th>TARGET_DEC</th><th>HEALPIX</th><th>SURVEY</th><th>Z</th><th>ZERR</th><th>ZWARN</th><th>DELTACHI2</th><th>FILENAME</th><th>PVTYPE</th><th>SGA_ID</th><th>RA</th><th>DEC</th><th>OBS_IN_SV</th><th>SKY_FIBER_DIST</th><th>SKY_FIBER_DIST_R26</th><th>ROT_CURVE</th><th>EOA</th></tr></thead>\n",
       "<thead><tr><th>int64</th><th>float64</th><th>float64</th><th>int64</th><th>bytes4</th><th>float64</th><th>float64</th><th>int64</th><th>float64</th><th>bytes65</th><th>bytes3</th><th>int64</th><th>float64</th><th>float64</th><th>float64</th><th>float64</th><th>float64</th><th>float64</th><th>float64</th></tr></thead>\n",
       "<tr><td>2852147603439621</td><td>198.369130660983</td><td>36.5372037049171</td><td>10475</td><td>main</td><td>0.815976335547845</td><td>7.38513168100107e-05</td><td>4</td><td>0.128754377365112</td><td>iron/healpix/main/dark/104/10475/redrock-main-dark-10475.fits</td><td>EXT</td><td>649377</td><td>198.36913066098333</td><td>36.537203704917076</td><td>0.0</td><td>0.0567420462925582</td><td>0.599999979158402</td><td>0.0</td><td>1.0</td></tr>\n",
       "<tr><td>2399148812795907</td><td>198.371733180003</td><td>36.4994335406917</td><td>10475</td><td>main</td><td>1.11088784970434</td><td>7.48767797671894e-05</td><td>4</td><td>7.9473560154438</td><td>iron/healpix/main/bright/104/10475/redrock-main-bright-10475.fits</td><td>EXT</td><td>649377</td><td>198.37173318000336</td><td>36.499433540691676</td><td>0.0</td><td>0.09457007715465947</td><td>0.9999999652681886</td><td>0.0</td><td>1.0</td></tr>\n",
       "<tr><td>2399382443917318</td><td>184.845242475328</td><td>49.8157304793777</td><td>10995</td><td>main</td><td>1.14739342108157</td><td>0.000146302276719084</td><td>4</td><td>2.56771463155746</td><td>iron/healpix/main/bright/109/10995/redrock-main-bright-10995.fits</td><td>EXT</td><td>1008911</td><td>184.84524247532795</td><td>49.81573047937771</td><td>0.0</td><td>0.024841917763806447</td><td>0.9999999684347345</td><td>0.0</td><td>0.0</td></tr>\n",
       "<tr><td>2399634072797192</td><td>184.341289722203</td><td>70.8283725474297</td><td>11965</td><td>main</td><td>1.51703376230705</td><td>6.28979649962091e-05</td><td>4</td><td>4.76254060305655</td><td>iron/healpix/main/bright/119/11965/redrock-main-bright-11965.fits</td><td>EXT</td><td>241234</td><td>184.34128972220284</td><td>70.82837254742968</td><td>0.0</td><td>0.026555350833845817</td><td>0.8000000542794348</td><td>0.0</td><td>0.0</td></tr>\n",
       "<tr><td>2852141710442505</td><td>123.256011148025</td><td>36.2652948002806</td><td>6448</td><td>main</td><td>0.00787379494184006</td><td>3.4714052819995e-05</td><td>0</td><td>22.1719104201402</td><td>iron/healpix/main/dark/64/6448/redrock-main-dark-6448.fits</td><td>EXT</td><td>31591</td><td>123.25601114802525</td><td>36.26529480028061</td><td>0.0</td><td>0.015878717350385107</td><td>0.40000000619171416</td><td>0.0</td><td>0.0</td></tr>\n",
       "</table></div>"
      ],
      "text/plain": [
       "<Table length=5>\n",
       "    TARGETID        TARGET_RA        TARGET_DEC    ... ROT_CURVE   EOA  \n",
       "     int64           float64          float64      ...  float64  float64\n",
       "---------------- ---------------- ---------------- ... --------- -------\n",
       "2852147603439621 198.369130660983 36.5372037049171 ...       0.0     1.0\n",
       "2399148812795907 198.371733180003 36.4994335406917 ...       0.0     1.0\n",
       "2399382443917318 184.845242475328 49.8157304793777 ...       0.0     0.0\n",
       "2399634072797192 184.341289722203 70.8283725474297 ...       0.0     0.0\n",
       "2852141710442505 123.256011148025 36.2652948002806 ...       0.0     0.0"
      ]
     },
     "execution_count": 8,
     "metadata": {},
     "output_type": "execute_result"
    }
   ],
   "source": [
    "# load iron table\n",
    "tf_iron = Table.read(data_dir + 'Y1/desi_pv_tf_iron_healpix_rotcurve_EOA.fits')\n",
    "tf_iron[:5]"
   ]
  },
  {
   "cell_type": "code",
   "execution_count": 9,
   "id": "9f9c14cf-17a6-4da7-9014-93184597fe2b",
   "metadata": {
    "tags": []
   },
   "outputs": [
    {
     "data": {
      "text/html": [
       "<div><i>Table length=5</i>\n",
       "<table id=\"table139820570757488\" class=\"table-striped table-bordered table-condensed\">\n",
       "<thead><tr><th>SGA_ID</th><th>SGA_GALAXY</th><th>GALAXY</th><th>PGC</th><th>RA_LEDA</th><th>DEC_LEDA</th><th>MORPHTYPE</th><th>PA_LEDA</th><th>D25_LEDA</th><th>BA_LEDA</th><th>Z_LEDA</th><th>SB_D25_LEDA</th><th>MAG_LEDA</th><th>BYHAND</th><th>REF</th><th>GROUP_ID</th><th>GROUP_NAME</th><th>GROUP_MULT</th><th>GROUP_PRIMARY</th><th>GROUP_RA</th><th>GROUP_DEC</th><th>GROUP_DIAMETER</th><th>BRICKNAME</th><th>RA</th><th>DEC</th><th>D26</th><th>D26_REF</th><th>PA</th><th>BA</th><th>RA_MOMENT</th><th>DEC_MOMENT</th><th>SMA_MOMENT</th><th>G_SMA50</th><th>R_SMA50</th><th>Z_SMA50</th><th>SMA_SB22</th><th>SMA_SB22.5</th><th>SMA_SB23</th><th>SMA_SB23.5</th><th>SMA_SB24</th><th>SMA_SB24.5</th><th>SMA_SB25</th><th>SMA_SB25.5</th><th>SMA_SB26</th><th>G_MAG_SB22</th><th>R_MAG_SB22</th><th>Z_MAG_SB22</th><th>G_MAG_SB22.5</th><th>R_MAG_SB22.5</th><th>Z_MAG_SB22.5</th><th>G_MAG_SB23</th><th>R_MAG_SB23</th><th>Z_MAG_SB23</th><th>G_MAG_SB23.5</th><th>R_MAG_SB23.5</th><th>Z_MAG_SB23.5</th><th>G_MAG_SB24</th><th>R_MAG_SB24</th><th>Z_MAG_SB24</th><th>G_MAG_SB24.5</th><th>R_MAG_SB24.5</th><th>Z_MAG_SB24.5</th><th>G_MAG_SB25</th><th>R_MAG_SB25</th><th>Z_MAG_SB25</th><th>G_MAG_SB25.5</th><th>R_MAG_SB25.5</th><th>Z_MAG_SB25.5</th><th>G_MAG_SB26</th><th>R_MAG_SB26</th><th>Z_MAG_SB26</th><th>SMA_SB22_ERR</th><th>SMA_SB22.5_ERR</th><th>SMA_SB23_ERR</th><th>SMA_SB23.5_ERR</th><th>SMA_SB24_ERR</th><th>SMA_SB24.5_ERR</th><th>SMA_SB25_ERR</th><th>SMA_SB25.5_ERR</th><th>SMA_SB26_ERR</th><th>G_MAG_SB22_ERR</th><th>R_MAG_SB22_ERR</th><th>Z_MAG_SB22_ERR</th><th>G_MAG_SB22.5_ERR</th><th>R_MAG_SB22.5_ERR</th><th>Z_MAG_SB22.5_ERR</th><th>G_MAG_SB23_ERR</th><th>R_MAG_SB23_ERR</th><th>Z_MAG_SB23_ERR</th><th>G_MAG_SB23.5_ERR</th><th>R_MAG_SB23.5_ERR</th><th>Z_MAG_SB23.5_ERR</th><th>G_MAG_SB24_ERR</th><th>R_MAG_SB24_ERR</th><th>Z_MAG_SB24_ERR</th><th>G_MAG_SB24.5_ERR</th><th>R_MAG_SB24.5_ERR</th><th>Z_MAG_SB24.5_ERR</th><th>G_MAG_SB25_ERR</th><th>R_MAG_SB25_ERR</th><th>Z_MAG_SB25_ERR</th><th>G_MAG_SB25.5_ERR</th><th>R_MAG_SB25.5_ERR</th><th>Z_MAG_SB25.5_ERR</th><th>G_MAG_SB26_ERR</th><th>R_MAG_SB26_ERR</th><th>Z_MAG_SB26_ERR</th><th>G_COG_PARAMS_MTOT</th><th>G_COG_PARAMS_M0</th><th>G_COG_PARAMS_ALPHA1</th><th>G_COG_PARAMS_ALPHA2</th><th>G_COG_PARAMS_CHI2</th><th>R_COG_PARAMS_MTOT</th><th>R_COG_PARAMS_M0</th><th>R_COG_PARAMS_ALPHA1</th><th>R_COG_PARAMS_ALPHA2</th><th>R_COG_PARAMS_CHI2</th><th>Z_COG_PARAMS_MTOT</th><th>Z_COG_PARAMS_M0</th><th>Z_COG_PARAMS_ALPHA1</th><th>Z_COG_PARAMS_ALPHA2</th><th>Z_COG_PARAMS_CHI2</th><th>ELLIPSEBIT</th></tr></thead>\n",
       "<thead><tr><th>int64</th><th>bytes16</th><th>bytes29</th><th>int64</th><th>float64</th><th>float64</th><th>bytes21</th><th>float32</th><th>float32</th><th>float32</th><th>float32</th><th>float32</th><th>float32</th><th>bool</th><th>bytes13</th><th>int64</th><th>bytes35</th><th>int16</th><th>bool</th><th>float64</th><th>float64</th><th>float32</th><th>bytes8</th><th>float64</th><th>float64</th><th>float32</th><th>bytes4</th><th>float32</th><th>float32</th><th>float64</th><th>float64</th><th>float32</th><th>float32</th><th>float32</th><th>float32</th><th>float32</th><th>float32</th><th>float32</th><th>float32</th><th>float32</th><th>float32</th><th>float32</th><th>float32</th><th>float32</th><th>float32</th><th>float32</th><th>float32</th><th>float32</th><th>float32</th><th>float32</th><th>float32</th><th>float32</th><th>float32</th><th>float32</th><th>float32</th><th>float32</th><th>float32</th><th>float32</th><th>float32</th><th>float32</th><th>float32</th><th>float32</th><th>float32</th><th>float32</th><th>float32</th><th>float32</th><th>float32</th><th>float32</th><th>float32</th><th>float32</th><th>float32</th><th>float32</th><th>float32</th><th>float32</th><th>float32</th><th>float32</th><th>float32</th><th>float32</th><th>float32</th><th>float32</th><th>float32</th><th>float32</th><th>float32</th><th>float32</th><th>float32</th><th>float32</th><th>float32</th><th>float32</th><th>float32</th><th>float32</th><th>float32</th><th>float32</th><th>float32</th><th>float32</th><th>float32</th><th>float32</th><th>float32</th><th>float32</th><th>float32</th><th>float32</th><th>float32</th><th>float32</th><th>float32</th><th>float32</th><th>float32</th><th>float32</th><th>float32</th><th>float32</th><th>float32</th><th>float32</th><th>float32</th><th>float32</th><th>float32</th><th>float32</th><th>float32</th><th>float32</th><th>float32</th><th>float32</th><th>float32</th><th>float32</th><th>float32</th><th>float32</th><th>int32</th></tr></thead>\n",
       "<tr><td>2</td><td>SGA-2020 2</td><td>PGC1283207</td><td>1283207</td><td>228.3770865</td><td>5.4232017</td><td>S?</td><td>152.2</td><td>0.36307806</td><td>0.724436</td><td>0.03463229</td><td>23.40448</td><td>16.976</td><td>False</td><td>LEDA-20181114</td><td>0</td><td>PGC1283207</td><td>1</td><td>True</td><td>228.3770865</td><td>5.4232017</td><td>0.36307806</td><td>2283p055</td><td>228.3770803831908</td><td>5.423191398593787</td><td>0.49470574</td><td>SB26</td><td>158.20142</td><td>0.545691</td><td>228.37700918822188</td><td>5.4232652570544015</td><td>10.897086</td><td>3.3509698</td><td>3.1147978</td><td>3.240862</td><td>5.902337</td><td>6.9126143</td><td>7.941369</td><td>8.997992</td><td>10.073601</td><td>11.199986</td><td>12.391357</td><td>13.561038</td><td>14.841172</td><td>16.966799</td><td>16.108246</td><td>15.486356</td><td>16.879545</td><td>16.024958</td><td>15.400715</td><td>16.818878</td><td>15.967034</td><td>15.341793</td><td>16.776297</td><td>15.925804</td><td>15.300776</td><td>16.746685</td><td>15.897334</td><td>15.272053</td><td>16.725166</td><td>15.876816</td><td>15.2521105</td><td>16.708357</td><td>15.862035</td><td>15.237181</td><td>16.696539</td><td>15.851936</td><td>15.226998</td><td>16.689613</td><td>15.844313</td><td>15.21976</td><td>0.013392451</td><td>0.02354</td><td>0.021872982</td><td>0.01736985</td><td>0.024445537</td><td>0.039866067</td><td>0.05026544</td><td>0.08455789</td><td>0.122911856</td><td>0.005682776</td><td>0.0054258136</td><td>0.0049038026</td><td>0.005588406</td><td>0.005323561</td><td>0.0047632363</td><td>0.00543534</td><td>0.005177031</td><td>0.0046343105</td><td>0.0053025587</td><td>0.005040888</td><td>0.0045181247</td><td>0.005206092</td><td>0.0049438984</td><td>0.0044374703</td><td>0.0051483097</td><td>0.0048758644</td><td>0.0043834248</td><td>0.0051032505</td><td>0.0048264163</td><td>0.004344248</td><td>0.0050705094</td><td>0.004792021</td><td>0.004319857</td><td>0.005054293</td><td>0.004765629</td><td>0.0043044444</td><td>16.65942</td><td>0.34037337</td><td>0.2978292</td><td>3.0239506</td><td>0.07928849</td><td>15.820566</td><td>0.2640441</td><td>0.34559453</td><td>3.3033552</td><td>0.003811298</td><td>15.195567</td><td>0.29826432</td><td>0.3001073</td><td>3.2333765</td><td>0.011723555</td><td>0</td></tr>\n",
       "<tr><td>3</td><td>SGA-2020 3</td><td>PGC1310416</td><td>1310416</td><td>202.54443750000002</td><td>6.9345944</td><td>Sc</td><td>159.26</td><td>0.4017908</td><td>0.7816278</td><td>0.073888786</td><td>23.498482</td><td>16.85</td><td>False</td><td>LEDA-20181114</td><td>1</td><td>PGC1310416</td><td>1</td><td>True</td><td>202.54443750000002</td><td>6.9345944</td><td>0.4017908</td><td>2025p070</td><td>202.5444619671207</td><td>6.9346244322326624</td><td>0.55350494</td><td>SB26</td><td>161.5937</td><td>0.7291764</td><td>202.54432739596137</td><td>6.934806737209989</td><td>15.746941</td><td>5.6416235</td><td>5.2647552</td><td>5.0895185</td><td>5.9838247</td><td>7.4356494</td><td>8.728868</td><td>10.087478</td><td>11.529764</td><td>12.818195</td><td>14.115497</td><td>15.319822</td><td>16.605148</td><td>16.963299</td><td>16.307854</td><td>15.806882</td><td>16.729511</td><td>16.097378</td><td>15.615527</td><td>16.606344</td><td>15.990707</td><td>15.518403</td><td>16.525967</td><td>15.917321</td><td>15.450624</td><td>16.462585</td><td>15.859485</td><td>15.397182</td><td>16.419558</td><td>15.820947</td><td>15.36243</td><td>16.390558</td><td>15.796369</td><td>15.338905</td><td>16.376112</td><td>15.782492</td><td>15.323709</td><td>16.364115</td><td>15.773462</td><td>15.313725</td><td>0.036992554</td><td>0.034982767</td><td>0.037769336</td><td>0.049429573</td><td>0.052699674</td><td>0.074114166</td><td>0.07914538</td><td>0.09781406</td><td>0.15534972</td><td>0.016095797</td><td>0.019181909</td><td>0.021539452</td><td>0.013955905</td><td>0.016594552</td><td>0.018640138</td><td>0.012786752</td><td>0.015244632</td><td>0.01715491</td><td>0.011973826</td><td>0.014366956</td><td>0.016208366</td><td>0.011358372</td><td>0.013676575</td><td>0.015474222</td><td>0.010944939</td><td>0.013225297</td><td>0.015011175</td><td>0.010691595</td><td>0.012931233</td><td>0.014687982</td><td>0.010546411</td><td>0.012796015</td><td>0.014518412</td><td>0.010457551</td><td>0.012685407</td><td>0.014379212</td><td>16.284733</td><td>1.0914493</td><td>0.24674739</td><td>2.4320207</td><td>0.68685365</td><td>15.704403</td><td>0.8764323</td><td>0.27360612</td><td>2.4995425</td><td>0.49343896</td><td>15.235263</td><td>1.3098688</td><td>0.17866786</td><td>2.1750498</td><td>0.20391206</td><td>0</td></tr>\n",
       "<tr><td>4</td><td>SGA-2020 4</td><td>SDSSJ145059.93+135143.0</td><td>4435547</td><td>222.749787</td><td>13.8619111</td><td>S?</td><td>44.57</td><td>0.33342642</td><td>0.6637431</td><td>0.07567602</td><td>24.457481</td><td>18.214</td><td>False</td><td>LEDA-20181114</td><td>2</td><td>SDSSJ145059.93+135143.0</td><td>1</td><td>True</td><td>222.749787</td><td>13.8619111</td><td>0.33342642</td><td>2228p137</td><td>222.7497050504303</td><td>13.861929561160224</td><td>0.37067476</td><td>SB26</td><td>45.28537</td><td>0.70922077</td><td>222.749650475464</td><td>13.862052070022896</td><td>8.877115</td><td>4.652771</td><td>4.4837785</td><td>4.4959745</td><td>2.01033</td><td>3.3967943</td><td>4.76257</td><td>6.043787</td><td>7.242806</td><td>8.250407</td><td>9.158723</td><td>10.083457</td><td>11.120243</td><td>19.97595</td><td>19.190666</td><td>18.649523</td><td>19.098536</td><td>18.397219</td><td>17.899643</td><td>18.624952</td><td>17.967802</td><td>17.50231</td><td>18.35278</td><td>17.718002</td><td>17.265854</td><td>18.192762</td><td>17.5654</td><td>17.115404</td><td>18.10496</td><td>17.480022</td><td>17.033989</td><td>18.053415</td><td>17.430794</td><td>16.982971</td><td>18.020155</td><td>17.399996</td><td>16.948252</td><td>17.994783</td><td>17.377092</td><td>16.924469</td><td>0.02113719</td><td>0.03639431</td><td>0.051901262</td><td>0.06539029</td><td>0.08552586</td><td>0.07008602</td><td>0.070394725</td><td>0.08394975</td><td>0.113649584</td><td>0.013428732</td><td>0.017600043</td><td>0.016373685</td><td>0.012251812</td><td>0.014566466</td><td>0.013732588</td><td>0.012644532</td><td>0.014030071</td><td>0.013153961</td><td>0.012747069</td><td>0.013512552</td><td>0.012818239</td><td>0.012865601</td><td>0.01324455</td><td>0.012532208</td><td>0.012762528</td><td>0.013058522</td><td>0.012420634</td><td>0.01252645</td><td>0.012827468</td><td>0.012283978</td><td>0.012320441</td><td>0.012607317</td><td>0.012104107</td><td>0.0121167945</td><td>0.01244376</td><td>0.011985352</td><td>17.896797</td><td>0.5557265</td><td>0.25455818</td><td>3.167909</td><td>1.0522435</td><td>17.28287</td><td>0.4885815</td><td>0.2782499</td><td>3.2144456</td><td>1.3733263</td><td>16.807674</td><td>0.5177045</td><td>0.32264626</td><td>2.900518</td><td>1.8054093</td><td>0</td></tr>\n",
       "<tr><td>7</td><td>SGA-2020 7</td><td>PGC1742504</td><td>1742504</td><td>182.0888085</td><td>25.6022764</td><td>Sbc</td><td>84.97</td><td>0.548277</td><td>0.25118864</td><td>0.10090814</td><td>24.91348</td><td>17.59</td><td>False</td><td>LEDA-20181114</td><td>3</td><td>PGC1742504</td><td>1</td><td>True</td><td>182.0888085</td><td>25.6022764</td><td>0.548277</td><td>1820p255</td><td>182.08882232629614</td><td>25.60226821438983</td><td>0.8883204</td><td>SB26</td><td>84.857475</td><td>0.19753796</td><td>182.08873760544392</td><td>25.602311195157757</td><td>19.779116</td><td>6.5958204</td><td>6.0386286</td><td>5.8089786</td><td>9.279068</td><td>10.949478</td><td>12.652142</td><td>14.446171</td><td>16.323679</td><td>18.392954</td><td>20.915508</td><td>23.566542</td><td>26.649612</td><td>17.390274</td><td>16.360935</td><td>15.531964</td><td>17.285898</td><td>16.262264</td><td>15.440768</td><td>17.2167</td><td>16.195492</td><td>15.380734</td><td>17.16217</td><td>16.144245</td><td>15.334935</td><td>17.130178</td><td>16.110302</td><td>15.304758</td><td>17.104496</td><td>16.084463</td><td>15.280803</td><td>17.081282</td><td>16.061373</td><td>15.2589855</td><td>17.063671</td><td>16.045204</td><td>15.243196</td><td>17.046705</td><td>16.031244</td><td>15.23268</td><td>0.04351465</td><td>0.055440858</td><td>0.052207235</td><td>0.07507412</td><td>0.0793679</td><td>0.10347854</td><td>0.13569456</td><td>0.13104819</td><td>0.17234002</td><td>0.03885276</td><td>0.03744209</td><td>0.03786608</td><td>0.035534665</td><td>0.03441038</td><td>0.03503794</td><td>0.033557214</td><td>0.032548346</td><td>0.033348277</td><td>0.031964395</td><td>0.03106612</td><td>0.031957533</td><td>0.031133845</td><td>0.030202182</td><td>0.031190341</td><td>0.030430589</td><td>0.029511228</td><td>0.030530946</td><td>0.02975241</td><td>0.028853998</td><td>0.029866546</td><td>0.02928568</td><td>0.0284345</td><td>0.029445464</td><td>0.028843498</td><td>0.028076617</td><td>0.029169334</td><td>16.995174</td><td>21.083004</td><td>0.0164273</td><td>1.9079465</td><td>0.029703742</td><td>15.991165</td><td>0.7657307</td><td>0.52285546</td><td>2.3045986</td><td>0.006013103</td><td>15.191324</td><td>1.0408205</td><td>0.32956335</td><td>2.1520333</td><td>0.004725194</td><td>0</td></tr>\n",
       "<tr><td>18</td><td>SGA-2020 18</td><td>2MASXJ12340801+4535444</td><td>3550748</td><td>188.5335525</td><td>45.5956434</td><td>E</td><td>168.65</td><td>0.53088444</td><td>0.6950243</td><td>0.07609531</td><td>23.97948</td><td>16.726</td><td>False</td><td>LEDA-20181114</td><td>4</td><td>2MASXJ12340801+4535444</td><td>1</td><td>True</td><td>188.5335525</td><td>45.5956434</td><td>0.53088444</td><td>1883p455</td><td>188.53364923054596</td><td>45.595620212931856</td><td>0.73435897</td><td>SB26</td><td>166.25127</td><td>0.70995796</td><td>188.53349052789085</td><td>45.59567446403057</td><td>15.694805</td><td>5.091253</td><td>4.670616</td><td>2.9429996</td><td>5.219665</td><td>6.6119533</td><td>8.228266</td><td>10.109745</td><td>12.170589</td><td>14.364073</td><td>16.722517</td><td>19.18709</td><td>22.03077</td><td>17.208511</td><td>16.224203</td><td>15.566424</td><td>17.050343</td><td>16.080097</td><td>15.443468</td><td>16.921791</td><td>15.962402</td><td>15.347263</td><td>16.814959</td><td>15.864242</td><td>15.27134</td><td>16.729906</td><td>15.787886</td><td>15.218466</td><td>16.664564</td><td>15.730083</td><td>15.182751</td><td>16.61991</td><td>15.686324</td><td>15.1601305</td><td>16.585676</td><td>15.654064</td><td>15.148039</td><td>16.558054</td><td>15.629669</td><td>15.141826</td><td>0.032001704</td><td>0.043849397</td><td>0.045203492</td><td>0.072918765</td><td>0.06263939</td><td>0.07675708</td><td>0.10399303</td><td>0.07780949</td><td>0.14017467</td><td>0.016467415</td><td>0.021250801</td><td>0.032092847</td><td>0.0149329165</td><td>0.019061867</td><td>0.028947951</td><td>0.01369758</td><td>0.01736746</td><td>0.026648495</td><td>0.012623343</td><td>0.015980754</td><td>0.024998168</td><td>0.011793644</td><td>0.014977396</td><td>0.023862366</td><td>0.011184664</td><td>0.014255281</td><td>0.023120966</td><td>0.010785815</td><td>0.013740733</td><td>0.022603082</td><td>0.010472503</td><td>0.013351409</td><td>0.022360764</td><td>0.010212836</td><td>0.013043255</td><td>0.022296576</td><td>16.471447</td><td>0.3236818</td><td>1.9206839</td><td>2.3249283</td><td>0.0973919</td><td>15.540598</td><td>0.3247282</td><td>1.7439244</td><td>2.1774826</td><td>0.023485765</td><td>15.124181</td><td>0.16547345</td><td>1.4694684</td><td>3.3948786</td><td>0.028653827</td><td>0</td></tr>\n",
       "</table></div>"
      ],
      "text/plain": [
       "<Table length=5>\n",
       "SGA_ID  SGA_GALAXY          GALAXY         ... Z_COG_PARAMS_CHI2 ELLIPSEBIT\n",
       "int64    bytes16           bytes29         ...      float32        int32   \n",
       "------ ----------- ----------------------- ... ----------------- ----------\n",
       "     2  SGA-2020 2              PGC1283207 ...       0.011723555          0\n",
       "     3  SGA-2020 3              PGC1310416 ...        0.20391206          0\n",
       "     4  SGA-2020 4 SDSSJ145059.93+135143.0 ...         1.8054093          0\n",
       "     7  SGA-2020 7              PGC1742504 ...       0.004725194          0\n",
       "    18 SGA-2020 18  2MASXJ12340801+4535444 ...       0.028653827          0"
      ]
     },
     "execution_count": 9,
     "metadata": {},
     "output_type": "execute_result"
    }
   ],
   "source": [
    "# load SGA table\n",
    "SGA = Table.read('/global/cfs/cdirs/cosmo/data/sga/2020/SGA-2020.fits', 'ELLIPSE')\n",
    "SGA_dict = {}\n",
    "for i in range(len(SGA)):\n",
    "    SGA_dict[SGA['SGA_ID'][i]] = i\n",
    "SGA[:5]"
   ]
  },
  {
   "cell_type": "code",
   "execution_count": 10,
   "id": "840ef46c-9542-43a9-b6ad-e1f9a10ee259",
   "metadata": {
    "tags": []
   },
   "outputs": [],
   "source": [
    "# list of rotation curve galaxies\n",
    "tf_mastertable = vstack([tf_fuji,tf_iron])\n",
    "rot_curve_gals = np.unique(tf_mastertable['SGA_ID'][tf_mastertable['ROT_CURVE']==1])"
   ]
  },
  {
   "cell_type": "code",
   "execution_count": null,
   "id": "60f99032-d961-4891-a3da-f8385aa106b2",
   "metadata": {
    "tags": []
   },
   "outputs": [],
   "source": [
    "# for each rotation curve galaxy, grab cut out, draw fibers on image, and save image\n",
    "for sga_id in rot_curve_gals:\n",
    "    \n",
    "    targ_list = tf_mastertable[tf_mastertable['SGA_ID'] == sga_id]\n",
    "    if np.min(targ_list['SKY_FIBER_DIST_R26']) < 0.001:\n",
    "        center_target = targ_list[np.argmin(targ_list['SKY_FIBER_DIST_R26'])]['TARGETID']\n",
    "        z = targ_list[np.argmin(targ_list['SKY_FIBER_DIST_R26'])]['Z']\n",
    "        \n",
    "    else:\n",
    "        continue\n",
    "    \n",
    "    ra, dec = float(SGA['RA'][SGA_dict[sga_id]]), float(SGA['DEC'][SGA_dict[sga_id]])\n",
    "    \n",
    "    # D26 in arcmin\n",
    "    d26 = SGA['D26'][SGA_dict[sga_id]]\n",
    "    \n",
    "\n",
    "    npix = np.minimum(int(2 * d26*60/0.262), 512)\n",
    "    \n",
    "\n",
    "    img_file, wcs = get_cutout(sga_id, ra, dec, size=npix, cache_dir=cache_dir,verbose=True)\n",
    "    img = mpl.image.imread(img_file)\n",
    "\n",
    "    fig1 = plt.figure(figsize=(7,5))\n",
    "\n",
    "    ax = fig1.add_subplot(111, projection=wcs)\n",
    "    ax.imshow(np.flip(img, axis=0))\n",
    "    ax.set(xlabel='ra', ylabel='dec')\n",
    "    ax.text(int(0.02*npix), int(0.85*npix), 'SGA_ID: {}\\n$z={{{:.4f}}}$'.format(sga_id, z), fontsize=9, color='yellow')\n",
    "    overlay = ax.get_coords_overlay('icrs')\n",
    "    overlay.grid(color='white', ls='dotted');\n",
    "\n",
    "    # Add the location of the DESI fibers.\n",
    "    # SDSS fibers are 2\" diameter, DESI is 107 um with 70 um/\" plate scale.\n",
    "    r1 = SphericalCircle((ra * u.deg, dec * u.deg), (107./70) * u.arcsec,\n",
    "                         edgecolor='black', facecolor='none', alpha=0.8, lw=3,\n",
    "                         transform=ax.get_transform('icrs'))\n",
    "    r2 = SphericalCircle((ra * u.deg, dec * u.deg), (107./70) * u.arcsec,\n",
    "                         edgecolor='red', facecolor='none', alpha=0.8, lw=2,\n",
    "                         transform=ax.get_transform('icrs'))\n",
    "    ax.add_patch(r1)\n",
    "    ax.add_patch(r2)\n",
    "\n",
    "    for targ in targ_list:\n",
    "        ra, dec = targ['RA'], targ['DEC']\n",
    "        \n",
    "        edgecolor2 = 'orange'\n",
    "\n",
    "        # Add the location of the DESI fibers.\n",
    "        # SDSS fibers are 2\" diameter, DESI is 107 um with 70 um/\" plate scale.\n",
    "        r1 = SphericalCircle((ra * u.deg, dec * u.deg), (107./70) * u.arcsec,\n",
    "                             edgecolor='lightcoral', facecolor='none', alpha=1, lw=3,\n",
    "                             transform=ax.get_transform('icrs'))\n",
    "        r2 = SphericalCircle((ra * u.deg, dec * u.deg), (107./70) * u.arcsec,\n",
    "                             edgecolor=edgecolor2, facecolor='none', alpha=0.8, lw=2,\n",
    "                             transform=ax.get_transform('icrs'))\n",
    "        ax.add_patch(r1)\n",
    "        ax.add_patch(r2)\n",
    "        \n",
    "        ax.text(ra, dec, str(targ['TARGETID']), transform=ax.get_transform('icrs'), color='white', fontsize=6)\n",
    "    \n",
    "    fig1.subplots_adjust(top=0.85, right=0.85, bottom=0.15, left=0.15)\n",
    "    \n",
    "    fig1.savefig(vi_dir + '{}.png'.format(sga_id), dpi=120)\n",
    "    \n",
    "    fig1.clear()\n",
    "    plt.close(fig1)\n"
   ]
  },
  {
   "cell_type": "code",
   "execution_count": 13,
   "id": "f97e23c7-477f-49ca-a14c-107d7f5dc7fe",
   "metadata": {
    "tags": []
   },
   "outputs": [
    {
     "name": "stdout",
     "output_type": "stream",
     "text": [
      " SGA_ID\n",
      "-------\n",
      "  81587\n",
      " 526710\n",
      " 608015\n",
      " 696291\n",
      " 766672\n",
      " 882260\n",
      " 977015\n",
      "1065602\n",
      "1304908\n",
      "1361363\n",
      "2000055\n"
     ]
    }
   ],
   "source": [
    "# we want to visually inspect rotation curve galaxies that have EOA targets\n",
    "EOA_gals = np.unique(tf_mastertable[np.logical_and(tf_mastertable['EOA'] == 1, tf_mastertable['ROT_CURVE']==1)]['SGA_ID'])\n",
    "print(EOA_gals)"
   ]
  },
  {
   "cell_type": "code",
   "execution_count": 14,
   "id": "d088f00b-17dc-460b-b2bc-d18186ec4643",
   "metadata": {
    "tags": []
   },
   "outputs": [
    {
     "data": {
      "text/plain": [
       "(array([21528]),)"
      ]
     },
     "execution_count": 14,
     "metadata": {},
     "output_type": "execute_result"
    }
   ],
   "source": [
    "np.where(SGA['SGA_ID']==81587)"
   ]
  },
  {
   "cell_type": "code",
   "execution_count": 15,
   "id": "6568b36e-4f51-465c-9d07-7656e90536bc",
   "metadata": {
    "tags": []
   },
   "outputs": [
    {
     "data": {
      "text/html": [
       "<i>Row index=21528</i>\n",
       "<table id=\"table139819742761968\">\n",
       "<thead><tr><th>SGA_ID</th><th>SGA_GALAXY</th><th>GALAXY</th><th>PGC</th><th>RA_LEDA</th><th>DEC_LEDA</th><th>MORPHTYPE</th><th>PA_LEDA</th><th>D25_LEDA</th><th>BA_LEDA</th><th>Z_LEDA</th><th>SB_D25_LEDA</th><th>MAG_LEDA</th><th>BYHAND</th><th>REF</th><th>GROUP_ID</th><th>GROUP_NAME</th><th>GROUP_MULT</th><th>GROUP_PRIMARY</th><th>GROUP_RA</th><th>GROUP_DEC</th><th>GROUP_DIAMETER</th><th>BRICKNAME</th><th>RA</th><th>DEC</th><th>D26</th><th>D26_REF</th><th>PA</th><th>BA</th><th>RA_MOMENT</th><th>DEC_MOMENT</th><th>SMA_MOMENT</th><th>G_SMA50</th><th>R_SMA50</th><th>Z_SMA50</th><th>SMA_SB22</th><th>SMA_SB22.5</th><th>SMA_SB23</th><th>SMA_SB23.5</th><th>SMA_SB24</th><th>SMA_SB24.5</th><th>SMA_SB25</th><th>SMA_SB25.5</th><th>SMA_SB26</th><th>G_MAG_SB22</th><th>R_MAG_SB22</th><th>Z_MAG_SB22</th><th>G_MAG_SB22.5</th><th>R_MAG_SB22.5</th><th>Z_MAG_SB22.5</th><th>G_MAG_SB23</th><th>R_MAG_SB23</th><th>Z_MAG_SB23</th><th>G_MAG_SB23.5</th><th>R_MAG_SB23.5</th><th>Z_MAG_SB23.5</th><th>G_MAG_SB24</th><th>R_MAG_SB24</th><th>Z_MAG_SB24</th><th>G_MAG_SB24.5</th><th>R_MAG_SB24.5</th><th>Z_MAG_SB24.5</th><th>G_MAG_SB25</th><th>R_MAG_SB25</th><th>Z_MAG_SB25</th><th>G_MAG_SB25.5</th><th>R_MAG_SB25.5</th><th>Z_MAG_SB25.5</th><th>G_MAG_SB26</th><th>R_MAG_SB26</th><th>Z_MAG_SB26</th><th>SMA_SB22_ERR</th><th>SMA_SB22.5_ERR</th><th>SMA_SB23_ERR</th><th>SMA_SB23.5_ERR</th><th>SMA_SB24_ERR</th><th>SMA_SB24.5_ERR</th><th>SMA_SB25_ERR</th><th>SMA_SB25.5_ERR</th><th>SMA_SB26_ERR</th><th>G_MAG_SB22_ERR</th><th>R_MAG_SB22_ERR</th><th>Z_MAG_SB22_ERR</th><th>G_MAG_SB22.5_ERR</th><th>R_MAG_SB22.5_ERR</th><th>Z_MAG_SB22.5_ERR</th><th>G_MAG_SB23_ERR</th><th>R_MAG_SB23_ERR</th><th>Z_MAG_SB23_ERR</th><th>G_MAG_SB23.5_ERR</th><th>R_MAG_SB23.5_ERR</th><th>Z_MAG_SB23.5_ERR</th><th>G_MAG_SB24_ERR</th><th>R_MAG_SB24_ERR</th><th>Z_MAG_SB24_ERR</th><th>G_MAG_SB24.5_ERR</th><th>R_MAG_SB24.5_ERR</th><th>Z_MAG_SB24.5_ERR</th><th>G_MAG_SB25_ERR</th><th>R_MAG_SB25_ERR</th><th>Z_MAG_SB25_ERR</th><th>G_MAG_SB25.5_ERR</th><th>R_MAG_SB25.5_ERR</th><th>Z_MAG_SB25.5_ERR</th><th>G_MAG_SB26_ERR</th><th>R_MAG_SB26_ERR</th><th>Z_MAG_SB26_ERR</th><th>G_COG_PARAMS_MTOT</th><th>G_COG_PARAMS_M0</th><th>G_COG_PARAMS_ALPHA1</th><th>G_COG_PARAMS_ALPHA2</th><th>G_COG_PARAMS_CHI2</th><th>R_COG_PARAMS_MTOT</th><th>R_COG_PARAMS_M0</th><th>R_COG_PARAMS_ALPHA1</th><th>R_COG_PARAMS_ALPHA2</th><th>R_COG_PARAMS_CHI2</th><th>Z_COG_PARAMS_MTOT</th><th>Z_COG_PARAMS_M0</th><th>Z_COG_PARAMS_ALPHA1</th><th>Z_COG_PARAMS_ALPHA2</th><th>Z_COG_PARAMS_CHI2</th><th>ELLIPSEBIT</th></tr></thead>\n",
       "<thead><tr><th>int64</th><th>bytes16</th><th>bytes29</th><th>int64</th><th>float64</th><th>float64</th><th>bytes21</th><th>float32</th><th>float32</th><th>float32</th><th>float32</th><th>float32</th><th>float32</th><th>bool</th><th>bytes13</th><th>int64</th><th>bytes35</th><th>int16</th><th>bool</th><th>float64</th><th>float64</th><th>float32</th><th>bytes8</th><th>float64</th><th>float64</th><th>float32</th><th>bytes4</th><th>float32</th><th>float32</th><th>float64</th><th>float64</th><th>float32</th><th>float32</th><th>float32</th><th>float32</th><th>float32</th><th>float32</th><th>float32</th><th>float32</th><th>float32</th><th>float32</th><th>float32</th><th>float32</th><th>float32</th><th>float32</th><th>float32</th><th>float32</th><th>float32</th><th>float32</th><th>float32</th><th>float32</th><th>float32</th><th>float32</th><th>float32</th><th>float32</th><th>float32</th><th>float32</th><th>float32</th><th>float32</th><th>float32</th><th>float32</th><th>float32</th><th>float32</th><th>float32</th><th>float32</th><th>float32</th><th>float32</th><th>float32</th><th>float32</th><th>float32</th><th>float32</th><th>float32</th><th>float32</th><th>float32</th><th>float32</th><th>float32</th><th>float32</th><th>float32</th><th>float32</th><th>float32</th><th>float32</th><th>float32</th><th>float32</th><th>float32</th><th>float32</th><th>float32</th><th>float32</th><th>float32</th><th>float32</th><th>float32</th><th>float32</th><th>float32</th><th>float32</th><th>float32</th><th>float32</th><th>float32</th><th>float32</th><th>float32</th><th>float32</th><th>float32</th><th>float32</th><th>float32</th><th>float32</th><th>float32</th><th>float32</th><th>float32</th><th>float32</th><th>float32</th><th>float32</th><th>float32</th><th>float32</th><th>float32</th><th>float32</th><th>float32</th><th>float32</th><th>float32</th><th>float32</th><th>float32</th><th>float32</th><th>float32</th><th>float32</th><th>float32</th><th>int32</th></tr></thead>\n",
       "<tr><td>81587</td><td>SGA-2020 81587</td><td>NGC5964</td><td>55637</td><td>234.40090950000004</td><td>5.9740148</td><td>SBcd</td><td>147.0</td><td>3.4197948</td><td>0.7498942</td><td>0.004826339</td><td>24.911482</td><td>13.613</td><td>False</td><td>LEDA-20181114</td><td>29237</td><td>NGC5964</td><td>1</td><td>True</td><td>234.40090950000004</td><td>5.9740148</td><td>3.4197948</td><td>2343p060</td><td>234.40098578623957</td><td>5.973890372677745</td><td>5.0586667</td><td>SB26</td><td>146.60901</td><td>0.76359373</td><td>234.40091051554066</td><td>5.9739991397431425</td><td>139.96718</td><td>61.725025</td><td>60.566208</td><td>57.804718</td><td>23.219322</td><td>36.98816</td><td>54.375183</td><td>73.22268</td><td>89.9901</td><td>106.54655</td><td>121.93921</td><td>136.91577</td><td>151.76</td><td>14.373638</td><td>13.728431</td><td>13.220966</td><td>13.750148</td><td>13.111622</td><td>12.617482</td><td>13.230628</td><td>12.6180105</td><td>12.134496</td><td>12.901384</td><td>12.298157</td><td>11.821981</td><td>12.705964</td><td>12.109203</td><td>11.640028</td><td>12.58583</td><td>11.990436</td><td>11.527844</td><td>12.513165</td><td>11.920093</td><td>11.463872</td><td>12.462504</td><td>11.871767</td><td>11.419979</td><td>12.430036</td><td>11.840087</td><td>11.392938</td><td>0.10281313</td><td>0.098655805</td><td>0.10543129</td><td>0.10789143</td><td>0.117761284</td><td>0.06803115</td><td>0.1775874</td><td>0.20067601</td><td>0.29327112</td><td>0.0041126143</td><td>0.0040354356</td><td>0.0041690753</td><td>0.0025483703</td><td>0.0025393318</td><td>0.002642904</td><td>0.0016863007</td><td>0.0017121384</td><td>0.0018007569</td><td>0.0013016955</td><td>0.0013189712</td><td>0.0013993608</td><td>0.0011104371</td><td>0.0011251417</td><td>0.0012071129</td><td>0.0010096927</td><td>0.0010217316</td><td>0.0011081086</td><td>0.00095429376</td><td>0.0009658115</td><td>0.0010585015</td><td>0.0009171809</td><td>0.00092964846</td><td>0.0010282589</td><td>0.0008961264</td><td>0.0009082605</td><td>0.0010137698</td><td>12.33269</td><td>0.4334786</td><td>1727.5459</td><td>3.2482514</td><td>47.456753</td><td>11.744617</td><td>0.4189626</td><td>1741.7992</td><td>3.2467062</td><td>19.600035</td><td>11.315926</td><td>0.38606414</td><td>2492.3994</td><td>3.434185</td><td>17.1178</td><td>0</td></tr>\n",
       "</table>"
      ],
      "text/plain": [
       "<Row index=21528>\n",
       "SGA_ID   SGA_GALAXY    GALAXY  PGC       RA_LEDA        DEC_LEDA MORPHTYPE PA_LEDA  D25_LEDA  BA_LEDA     Z_LEDA   SB_D25_LEDA MAG_LEDA BYHAND      REF      GROUP_ID GROUP_NAME GROUP_MULT GROUP_PRIMARY      GROUP_RA      GROUP_DEC GROUP_DIAMETER BRICKNAME         RA                DEC           D26    D26_REF     PA        BA         RA_MOMENT          DEC_MOMENT     SMA_MOMENT  G_SMA50   R_SMA50   Z_SMA50   SMA_SB22 SMA_SB22.5  SMA_SB23 SMA_SB23.5 SMA_SB24 SMA_SB24.5  SMA_SB25 SMA_SB25.5 SMA_SB26 G_MAG_SB22 R_MAG_SB22 Z_MAG_SB22 G_MAG_SB22.5 R_MAG_SB22.5 Z_MAG_SB22.5 G_MAG_SB23 R_MAG_SB23 Z_MAG_SB23 G_MAG_SB23.5 R_MAG_SB23.5 Z_MAG_SB23.5 G_MAG_SB24 R_MAG_SB24 Z_MAG_SB24 G_MAG_SB24.5 R_MAG_SB24.5 Z_MAG_SB24.5 G_MAG_SB25 R_MAG_SB25 Z_MAG_SB25 G_MAG_SB25.5 R_MAG_SB25.5 Z_MAG_SB25.5 G_MAG_SB26 R_MAG_SB26 Z_MAG_SB26 SMA_SB22_ERR SMA_SB22.5_ERR SMA_SB23_ERR SMA_SB23.5_ERR SMA_SB24_ERR SMA_SB24.5_ERR SMA_SB25_ERR SMA_SB25.5_ERR SMA_SB26_ERR G_MAG_SB22_ERR R_MAG_SB22_ERR Z_MAG_SB22_ERR G_MAG_SB22.5_ERR R_MAG_SB22.5_ERR Z_MAG_SB22.5_ERR G_MAG_SB23_ERR R_MAG_SB23_ERR Z_MAG_SB23_ERR G_MAG_SB23.5_ERR R_MAG_SB23.5_ERR Z_MAG_SB23.5_ERR G_MAG_SB24_ERR R_MAG_SB24_ERR Z_MAG_SB24_ERR G_MAG_SB24.5_ERR R_MAG_SB24.5_ERR Z_MAG_SB24.5_ERR G_MAG_SB25_ERR R_MAG_SB25_ERR Z_MAG_SB25_ERR G_MAG_SB25.5_ERR R_MAG_SB25.5_ERR Z_MAG_SB25.5_ERR G_MAG_SB26_ERR R_MAG_SB26_ERR Z_MAG_SB26_ERR G_COG_PARAMS_MTOT G_COG_PARAMS_M0 G_COG_PARAMS_ALPHA1 G_COG_PARAMS_ALPHA2 G_COG_PARAMS_CHI2 R_COG_PARAMS_MTOT R_COG_PARAMS_M0 R_COG_PARAMS_ALPHA1 R_COG_PARAMS_ALPHA2 R_COG_PARAMS_CHI2 Z_COG_PARAMS_MTOT Z_COG_PARAMS_M0 Z_COG_PARAMS_ALPHA1 Z_COG_PARAMS_ALPHA2 Z_COG_PARAMS_CHI2 ELLIPSEBIT\n",
       "int64     bytes16     bytes29 int64      float64        float64   bytes21  float32  float32   float32    float32     float32   float32   bool     bytes13     int64    bytes35     int16         bool          float64        float64     float32       bytes8       float64            float64       float32   bytes4  float32   float32        float64            float64        float32    float32   float32   float32   float32   float32    float32   float32   float32   float32    float32   float32   float32   float32    float32    float32     float32      float32      float32     float32    float32    float32     float32      float32      float32     float32    float32    float32     float32      float32      float32     float32    float32    float32     float32      float32      float32     float32    float32    float32     float32       float32       float32       float32       float32       float32       float32       float32       float32       float32        float32        float32         float32          float32          float32         float32        float32        float32         float32          float32          float32         float32        float32        float32         float32          float32          float32         float32        float32        float32         float32          float32          float32         float32        float32        float32          float32          float32           float32             float32            float32           float32          float32           float32             float32            float32           float32          float32           float32             float32            float32        int32   \n",
       "------ -------------- ------- ----- ------------------ --------- --------- ------- --------- --------- ----------- ----------- -------- ------ ------------- -------- ---------- ---------- ------------- ------------------ --------- -------------- --------- ------------------ ----------------- --------- ------- --------- ---------- ------------------ ------------------ ---------- --------- --------- --------- --------- ---------- --------- ---------- -------- ---------- --------- ---------- -------- ---------- ---------- ---------- ------------ ------------ ------------ ---------- ---------- ---------- ------------ ------------ ------------ ---------- ---------- ---------- ------------ ------------ ------------ ---------- ---------- ---------- ------------ ------------ ------------ ---------- ---------- ---------- ------------ -------------- ------------ -------------- ------------ -------------- ------------ -------------- ------------ -------------- -------------- -------------- ---------------- ---------------- ---------------- -------------- -------------- -------------- ---------------- ---------------- ---------------- -------------- -------------- -------------- ---------------- ---------------- ---------------- -------------- -------------- -------------- ---------------- ---------------- ---------------- -------------- -------------- -------------- ----------------- --------------- ------------------- ------------------- ----------------- ----------------- --------------- ------------------- ------------------- ----------------- ----------------- --------------- ------------------- ------------------- ----------------- ----------\n",
       " 81587 SGA-2020 81587 NGC5964 55637 234.40090950000004 5.9740148      SBcd   147.0 3.4197948 0.7498942 0.004826339   24.911482   13.613  False LEDA-20181114    29237    NGC5964          1          True 234.40090950000004 5.9740148      3.4197948  2343p060 234.40098578623957 5.973890372677745 5.0586667    SB26 146.60901 0.76359373 234.40091051554066 5.9739991397431425  139.96718 61.725025 60.566208 57.804718 23.219322   36.98816 54.375183   73.22268  89.9901  106.54655 121.93921  136.91577   151.76  14.373638  13.728431  13.220966    13.750148    13.111622    12.617482  13.230628 12.6180105  12.134496    12.901384    12.298157    11.821981  12.705964  12.109203  11.640028     12.58583    11.990436    11.527844  12.513165  11.920093  11.463872    12.462504    11.871767    11.419979  12.430036  11.840087  11.392938   0.10281313    0.098655805   0.10543129     0.10789143  0.117761284     0.06803115    0.1775874     0.20067601   0.29327112   0.0041126143   0.0040354356   0.0041690753     0.0025483703     0.0025393318      0.002642904   0.0016863007   0.0017121384   0.0018007569     0.0013016955     0.0013189712     0.0013993608   0.0011104371   0.0011251417   0.0012071129     0.0010096927     0.0010217316     0.0011081086  0.00095429376   0.0009658115   0.0010585015     0.0009171809    0.00092964846     0.0010282589   0.0008961264   0.0009082605   0.0010137698          12.33269       0.4334786           1727.5459           3.2482514         47.456753         11.744617       0.4189626           1741.7992           3.2467062         19.600035         11.315926      0.38606414           2492.3994            3.434185           17.1178          0"
      ]
     },
     "execution_count": 15,
     "metadata": {},
     "output_type": "execute_result"
    }
   ],
   "source": [
    "SGA[21528]"
   ]
  },
  {
   "cell_type": "code",
   "execution_count": 22,
   "id": "169abf6a-2137-41b2-b12e-049e31ec04f9",
   "metadata": {
    "tags": []
   },
   "outputs": [
    {
     "data": {
      "text/plain": [
       "array([False, False, False, ..., False, False, False])"
      ]
     },
     "execution_count": 22,
     "metadata": {},
     "output_type": "execute_result"
    }
   ],
   "source": [
    "SGA['SGA_ID']==526710"
   ]
  },
  {
   "cell_type": "code",
   "execution_count": 23,
   "id": "f8e1c316-9088-41a9-ab3e-f0b56ac42cc9",
   "metadata": {
    "tags": []
   },
   "outputs": [
    {
     "data": {
      "text/html": [
       "<div><i>Table length=1</i>\n",
       "<table id=\"table139819394976208\" class=\"table-striped table-bordered table-condensed\">\n",
       "<thead><tr><th>SGA_ID</th><th>SGA_GALAXY</th><th>GALAXY</th><th>PGC</th><th>RA_LEDA</th><th>DEC_LEDA</th><th>MORPHTYPE</th><th>PA_LEDA</th><th>D25_LEDA</th><th>BA_LEDA</th><th>Z_LEDA</th><th>SB_D25_LEDA</th><th>MAG_LEDA</th><th>BYHAND</th><th>REF</th><th>GROUP_ID</th><th>GROUP_NAME</th><th>GROUP_MULT</th><th>GROUP_PRIMARY</th><th>GROUP_RA</th><th>GROUP_DEC</th><th>GROUP_DIAMETER</th><th>BRICKNAME</th><th>RA</th><th>DEC</th><th>D26</th><th>D26_REF</th><th>PA</th><th>BA</th><th>RA_MOMENT</th><th>DEC_MOMENT</th><th>SMA_MOMENT</th><th>G_SMA50</th><th>R_SMA50</th><th>Z_SMA50</th><th>SMA_SB22</th><th>SMA_SB22.5</th><th>SMA_SB23</th><th>SMA_SB23.5</th><th>SMA_SB24</th><th>SMA_SB24.5</th><th>SMA_SB25</th><th>SMA_SB25.5</th><th>SMA_SB26</th><th>G_MAG_SB22</th><th>R_MAG_SB22</th><th>Z_MAG_SB22</th><th>G_MAG_SB22.5</th><th>R_MAG_SB22.5</th><th>Z_MAG_SB22.5</th><th>G_MAG_SB23</th><th>R_MAG_SB23</th><th>Z_MAG_SB23</th><th>G_MAG_SB23.5</th><th>R_MAG_SB23.5</th><th>Z_MAG_SB23.5</th><th>G_MAG_SB24</th><th>R_MAG_SB24</th><th>Z_MAG_SB24</th><th>G_MAG_SB24.5</th><th>R_MAG_SB24.5</th><th>Z_MAG_SB24.5</th><th>G_MAG_SB25</th><th>R_MAG_SB25</th><th>Z_MAG_SB25</th><th>G_MAG_SB25.5</th><th>R_MAG_SB25.5</th><th>Z_MAG_SB25.5</th><th>G_MAG_SB26</th><th>R_MAG_SB26</th><th>Z_MAG_SB26</th><th>SMA_SB22_ERR</th><th>SMA_SB22.5_ERR</th><th>SMA_SB23_ERR</th><th>SMA_SB23.5_ERR</th><th>SMA_SB24_ERR</th><th>SMA_SB24.5_ERR</th><th>SMA_SB25_ERR</th><th>SMA_SB25.5_ERR</th><th>SMA_SB26_ERR</th><th>G_MAG_SB22_ERR</th><th>R_MAG_SB22_ERR</th><th>Z_MAG_SB22_ERR</th><th>G_MAG_SB22.5_ERR</th><th>R_MAG_SB22.5_ERR</th><th>Z_MAG_SB22.5_ERR</th><th>G_MAG_SB23_ERR</th><th>R_MAG_SB23_ERR</th><th>Z_MAG_SB23_ERR</th><th>G_MAG_SB23.5_ERR</th><th>R_MAG_SB23.5_ERR</th><th>Z_MAG_SB23.5_ERR</th><th>G_MAG_SB24_ERR</th><th>R_MAG_SB24_ERR</th><th>Z_MAG_SB24_ERR</th><th>G_MAG_SB24.5_ERR</th><th>R_MAG_SB24.5_ERR</th><th>Z_MAG_SB24.5_ERR</th><th>G_MAG_SB25_ERR</th><th>R_MAG_SB25_ERR</th><th>Z_MAG_SB25_ERR</th><th>G_MAG_SB25.5_ERR</th><th>R_MAG_SB25.5_ERR</th><th>Z_MAG_SB25.5_ERR</th><th>G_MAG_SB26_ERR</th><th>R_MAG_SB26_ERR</th><th>Z_MAG_SB26_ERR</th><th>G_COG_PARAMS_MTOT</th><th>G_COG_PARAMS_M0</th><th>G_COG_PARAMS_ALPHA1</th><th>G_COG_PARAMS_ALPHA2</th><th>G_COG_PARAMS_CHI2</th><th>R_COG_PARAMS_MTOT</th><th>R_COG_PARAMS_M0</th><th>R_COG_PARAMS_ALPHA1</th><th>R_COG_PARAMS_ALPHA2</th><th>R_COG_PARAMS_CHI2</th><th>Z_COG_PARAMS_MTOT</th><th>Z_COG_PARAMS_M0</th><th>Z_COG_PARAMS_ALPHA1</th><th>Z_COG_PARAMS_ALPHA2</th><th>Z_COG_PARAMS_CHI2</th><th>ELLIPSEBIT</th></tr></thead>\n",
       "<thead><tr><th>int64</th><th>bytes16</th><th>bytes29</th><th>int64</th><th>float64</th><th>float64</th><th>bytes21</th><th>float32</th><th>float32</th><th>float32</th><th>float32</th><th>float32</th><th>float32</th><th>bool</th><th>bytes13</th><th>int64</th><th>bytes35</th><th>int16</th><th>bool</th><th>float64</th><th>float64</th><th>float32</th><th>bytes8</th><th>float64</th><th>float64</th><th>float32</th><th>bytes4</th><th>float32</th><th>float32</th><th>float64</th><th>float64</th><th>float32</th><th>float32</th><th>float32</th><th>float32</th><th>float32</th><th>float32</th><th>float32</th><th>float32</th><th>float32</th><th>float32</th><th>float32</th><th>float32</th><th>float32</th><th>float32</th><th>float32</th><th>float32</th><th>float32</th><th>float32</th><th>float32</th><th>float32</th><th>float32</th><th>float32</th><th>float32</th><th>float32</th><th>float32</th><th>float32</th><th>float32</th><th>float32</th><th>float32</th><th>float32</th><th>float32</th><th>float32</th><th>float32</th><th>float32</th><th>float32</th><th>float32</th><th>float32</th><th>float32</th><th>float32</th><th>float32</th><th>float32</th><th>float32</th><th>float32</th><th>float32</th><th>float32</th><th>float32</th><th>float32</th><th>float32</th><th>float32</th><th>float32</th><th>float32</th><th>float32</th><th>float32</th><th>float32</th><th>float32</th><th>float32</th><th>float32</th><th>float32</th><th>float32</th><th>float32</th><th>float32</th><th>float32</th><th>float32</th><th>float32</th><th>float32</th><th>float32</th><th>float32</th><th>float32</th><th>float32</th><th>float32</th><th>float32</th><th>float32</th><th>float32</th><th>float32</th><th>float32</th><th>float32</th><th>float32</th><th>float32</th><th>float32</th><th>float32</th><th>float32</th><th>float32</th><th>float32</th><th>float32</th><th>float32</th><th>float32</th><th>float32</th><th>float32</th><th>float32</th><th>float32</th><th>float32</th><th>int32</th></tr></thead>\n",
       "<tr><td>526710</td><td>SGA-2020 526710</td><td>NGC4244</td><td>39422</td><td>184.37279549999997</td><td>37.807792799999994</td><td>Sc</td><td>48.0</td><td>16.59587</td><td>0.11481536</td><td>0.0008178991</td><td>25.167482</td><td>10.439</td><td>True</td><td>LEDA-20181114</td><td>192842</td><td>NGC4244_GROUP</td><td>2</td><td>True</td><td>184.36884949471025</td><td>37.810368126583</td><td>16.838491</td><td>1842p377</td><td>184.37465683167292</td><td>37.80853245895354</td><td>20.744837</td><td>LEDA</td><td>47.130894</td><td>0.14309305</td><td>184.37456471640664</td><td>37.808605241810326</td><td>336.2484</td><td>320.46313</td><td>313.57233</td><td>274.5256</td><td>211.22179</td><td>322.33234</td><td>415.3558</td><td>506.13016</td><td>572.06635</td><td>620.0011</td><td>-1.0</td><td>-1.0</td><td>-1.0</td><td>11.353148</td><td>10.761754</td><td>10.443699</td><td>10.779483</td><td>10.201968</td><td>9.907285</td><td>10.43972</td><td>9.874472</td><td>9.613959</td><td>10.210909</td><td>9.653129</td><td>9.4533205</td><td>10.127354</td><td>9.576458</td><td>9.403125</td><td>10.086048</td><td>9.536936</td><td>9.380777</td><td>-1.0</td><td>-1.0</td><td>-1.0</td><td>-1.0</td><td>-1.0</td><td>-1.0</td><td>-1.0</td><td>-1.0</td><td>-1.0</td><td>1.6788098</td><td>2.5434484</td><td>2.092818</td><td>1.2470961</td><td>1.2638166</td><td>1.7015581</td><td>-1.0</td><td>-1.0</td><td>-1.0</td><td>0.0021214492</td><td>0.0021599408</td><td>0.0023750851</td><td>0.0015936233</td><td>0.0016188859</td><td>0.0017886864</td><td>0.0013297001</td><td>0.0013492381</td><td>0.0015052087</td><td>0.0011675451</td><td>0.001183287</td><td>0.0013556073</td><td>0.0011023718</td><td>0.0011203211</td><td>0.0013047932</td><td>0.001068752</td><td>0.0010869165</td><td>0.0012819904</td><td>-1.0</td><td>-1.0</td><td>-1.0</td><td>-1.0</td><td>-1.0</td><td>-1.0</td><td>-1.0</td><td>-1.0</td><td>-1.0</td><td>10.029613</td><td>0.17244908</td><td>98545500000000.0</td><td>8.038316</td><td>54.326138</td><td>9.481448</td><td>0.17408744</td><td>31677634000000.0</td><td>7.7717133</td><td>69.287155</td><td>9.356137</td><td>0.16576155</td><td>13169309000000.0</td><td>7.752407</td><td>3.4029028</td><td>0</td></tr>\n",
       "</table></div>"
      ],
      "text/plain": [
       "<Table length=1>\n",
       "SGA_ID    SGA_GALAXY    GALAXY ... Z_COG_PARAMS_CHI2 ELLIPSEBIT\n",
       "int64      bytes16     bytes29 ...      float32        int32   \n",
       "------ --------------- ------- ... ----------------- ----------\n",
       "526710 SGA-2020 526710 NGC4244 ...         3.4029028          0"
      ]
     },
     "execution_count": 23,
     "metadata": {},
     "output_type": "execute_result"
    }
   ],
   "source": [
    "SGA[SGA['SGA_ID']==526710]"
   ]
  },
  {
   "cell_type": "code",
   "execution_count": 25,
   "id": "a88b60bd-9abb-43e1-9c45-a2598cb8f4a0",
   "metadata": {
    "tags": []
   },
   "outputs": [
    {
     "data": {
      "text/html": [
       "<div><i>Table length=9</i>\n",
       "<table id=\"table139819402077440\" class=\"table-striped table-bordered table-condensed\">\n",
       "<thead><tr><th>TARGETID</th><th>TARGET_RA</th><th>TARGET_DEC</th><th>HEALPIX</th><th>SURVEY</th><th>Z</th><th>ZERR</th><th>ZWARN</th><th>DELTACHI2</th><th>FILENAME</th><th>PVTYPE</th><th>SGA_ID</th><th>RA</th><th>DEC</th><th>OBS_IN_SV</th><th>SKY_FIBER_DIST</th><th>SKY_FIBER_DIST_R26</th><th>ROT_CURVE</th><th>EOA</th></tr></thead>\n",
       "<thead><tr><th>int64</th><th>float64</th><th>float64</th><th>int64</th><th>bytes4</th><th>float64</th><th>float64</th><th>int64</th><th>float64</th><th>bytes65</th><th>bytes3</th><th>int64</th><th>float64</th><th>float64</th><th>float64</th><th>float64</th><th>float64</th><th>float64</th><th>float64</th></tr></thead>\n",
       "<tr><td>2407968851099651</td><td>184.342593480355</td><td>37.7850060326633</td><td>10888</td><td>main</td><td>0.00100644346133428</td><td>8.35058046554285e-06</td><td>0</td><td>3496.46422497931</td><td>iron/healpix/main/dark/108/10888/redrock-main-dark-10888.fits</td><td>EXT</td><td>526710</td><td>184.3425934803552</td><td>37.78500603266333</td><td>0.0</td><td>0.03457473028924321</td><td>0.20000001317238564</td><td>1.0</td><td>1.0</td></tr>\n",
       "<tr><td>2847773502210052</td><td>184.406740616652</td><td>37.8320501893955</td><td>10888</td><td>main</td><td>0.000564182728093646</td><td>2.24321573387227e-06</td><td>0</td><td>7923.80777823435</td><td>iron/healpix/main/dark/108/10888/redrock-main-dark-10888.fits</td><td>EXT</td><td>526710</td><td>184.40674061665223</td><td>37.83205018939554</td><td>0.0</td><td>0.03457473028996851</td><td>0.20000001317658117</td><td>1.0</td><td>1.0</td></tr>\n",
       "<tr><td>2847778287910912</td><td>184.470969578755</td><td>37.8790595110382</td><td>10888</td><td>main</td><td>0.000516050488270366</td><td>4.05384171235467e-06</td><td>0</td><td>923.428387206584</td><td>iron/healpix/main/dark/108/10888/redrock-main-dark-10888.fits</td><td>EXT</td><td>526710</td><td>184.47096957875544</td><td>37.87905951103821</td><td>0.0</td><td>0.10372419087192826</td><td>0.6000000395414441</td><td>1.0</td><td>1.0</td></tr>\n",
       "<tr><td>2847778287910913</td><td>184.503114801478</td><td>37.9025510763467</td><td>10888</td><td>main</td><td>1.33542070664856</td><td>0.000165616122789925</td><td>4</td><td>0.232604932039976</td><td>iron/healpix/main/dark/108/10888/redrock-main-dark-10888.fits</td><td>EXT</td><td>526710</td><td>184.50311480147815</td><td>37.902551076346654</td><td>0.0</td><td>0.13829892116394124</td><td>0.8000000527298516</td><td>1.0</td><td>1.0</td></tr>\n",
       "<tr><td>2843375455698944</td><td>184.310550539918</td><td>37.7614709234271</td><td>10888</td><td>main</td><td>0.00113634233366545</td><td>2.01637682928855e-05</td><td>0</td><td>230.396556399568</td><td>iron/healpix/main/dark/108/10888/redrock-main-dark-10888.fits</td><td>TFT</td><td>526710</td><td>184.31055053991838</td><td>37.76147092342709</td><td>0.0</td><td>0.0691494605778155</td><td>0.4000000263408902</td><td>1.0</td><td>1.0</td></tr>\n",
       "<tr><td>2403570804588544</td><td>184.310550539918</td><td>37.7614709234271</td><td>10888</td><td>main</td><td>0.00108521362461339</td><td>2.02550472622543e-05</td><td>0</td><td>160.648537448265</td><td>iron/healpix/main/dark/108/10888/redrock-main-dark-10888.fits</td><td>TFT</td><td>526710</td><td>184.31055053991838</td><td>37.76147092342709</td><td>0.0</td><td>0.0691494605778155</td><td>0.4000000263408902</td><td>1.0</td><td>1.0</td></tr>\n",
       "<tr><td>2847773502210048</td><td>184.374656831673</td><td>37.8085324589536</td><td>10888</td><td>main</td><td>0.000804907993103208</td><td>2.5068933281955e-06</td><td>0</td><td>8302.53259343599</td><td>iron/healpix/main/dark/108/10888/redrock-main-dark-10888.fits</td><td>TFT</td><td>526710</td><td>184.37465683167292</td><td>37.80853245895355</td><td>0.0</td><td>0.0</td><td>0.0</td><td>1.0</td><td>1.0</td></tr>\n",
       "<tr><td>2403570808782848</td><td>184.438844858081</td><td>37.8555592110695</td><td>10888</td><td>main</td><td>0.000540205898158685</td><td>2.91870875882474e-06</td><td>0</td><td>3000.70251111299</td><td>iron/healpix/main/dark/108/10888/redrock-main-dark-10888.fits</td><td>TFT</td><td>526710</td><td>184.43884485808118</td><td>37.85555921106953</td><td>0.0</td><td>0.0691494605806098</td><td>0.4000000263570541</td><td>1.0</td><td>1.0</td></tr>\n",
       "<tr><td>2843375459893248</td><td>184.438844858081</td><td>37.8555592110695</td><td>10888</td><td>main</td><td>0.000536504560869458</td><td>2.81634701058843e-06</td><td>0</td><td>3056.62440090079</td><td>iron/healpix/main/dark/108/10888/redrock-main-dark-10888.fits</td><td>TFT</td><td>526710</td><td>184.43884485808118</td><td>37.85555921106953</td><td>0.0</td><td>0.0691494605806098</td><td>0.4000000263570541</td><td>1.0</td><td>1.0</td></tr>\n",
       "</table></div>"
      ],
      "text/plain": [
       "<Table length=9>\n",
       "    TARGETID        TARGET_RA        TARGET_DEC    ... ROT_CURVE   EOA  \n",
       "     int64           float64          float64      ...  float64  float64\n",
       "---------------- ---------------- ---------------- ... --------- -------\n",
       "2407968851099651 184.342593480355 37.7850060326633 ...       1.0     1.0\n",
       "2847773502210052 184.406740616652 37.8320501893955 ...       1.0     1.0\n",
       "2847778287910912 184.470969578755 37.8790595110382 ...       1.0     1.0\n",
       "2847778287910913 184.503114801478 37.9025510763467 ...       1.0     1.0\n",
       "2843375455698944 184.310550539918 37.7614709234271 ...       1.0     1.0\n",
       "2403570804588544 184.310550539918 37.7614709234271 ...       1.0     1.0\n",
       "2847773502210048 184.374656831673 37.8085324589536 ...       1.0     1.0\n",
       "2403570808782848 184.438844858081 37.8555592110695 ...       1.0     1.0\n",
       "2843375459893248 184.438844858081 37.8555592110695 ...       1.0     1.0"
      ]
     },
     "execution_count": 25,
     "metadata": {},
     "output_type": "execute_result"
    }
   ],
   "source": [
    "# inspect all the necessary galaxies, \n",
    "# if you find a galaxy with bad target for rotation curve analysis, grab all observations for that galaxy\n",
    "tf_mastertable[tf_mastertable['SGA_ID'] == 526710]\n",
    "# identify which target is bad by target id and add to the list in the cell below"
   ]
  },
  {
   "cell_type": "code",
   "execution_count": null,
   "id": "82c3edfd-0280-4e9f-bb22-62fc7d4a8fc6",
   "metadata": {
    "tags": []
   },
   "outputs": [],
   "source": [
    "# if there is a target not suitable for rotation curve analysis,\n",
    "#change 'ROT_CURVE' to 0 for that target in the tables \n",
    "# (targets can be in both fuji and iron)\n",
    "\n",
    "targetids = []\n",
    "\n",
    "for targetid in targetids:\n",
    "    try:\n",
    "        tf_fuji['ROT_CURVE'][tf_fuji['TARGETID'] == targetid] = 0\n",
    "    except:\n",
    "        print(targetid, ' not in fuji')\n",
    "    \n",
    "    try:\n",
    "        tf_iron['ROT_CURVE'][tf_iron['TARGETID'] == targetid] = 0\n",
    "    except:\n",
    "        print(targetid, ' not in iron')"
   ]
  },
  {
   "cell_type": "code",
   "execution_count": null,
   "id": "f29b02b6-0583-4db4-a8cd-06e5bcf25807",
   "metadata": {
    "tags": []
   },
   "outputs": [],
   "source": [
    "# additional targets that need to inspected, some of these may be elliptical galaxies which we can't use\n",
    "# for rotation curve analysis\n",
    "EXT_centers = tf_mastertable[np.logical_and(tf_mastertable['PVTYPE'] == 'EXT', tf_mastertable['SKY_FIBER_DIST_R26'] < 0.001)]\n",
    "EXT_centers[EXT_centers['ROT_CURVE'] == 1]"
   ]
  }
 ],
 "metadata": {
  "kernelspec": {
   "display_name": "DESI main",
   "language": "python",
   "name": "desi-main"
  },
  "language_info": {
   "codemirror_mode": {
    "name": "ipython",
    "version": 3
   },
   "file_extension": ".py",
   "mimetype": "text/x-python",
   "name": "python",
   "nbconvert_exporter": "python",
   "pygments_lexer": "ipython3",
   "version": "3.10.14"
  }
 },
 "nbformat": 4,
 "nbformat_minor": 5
}
