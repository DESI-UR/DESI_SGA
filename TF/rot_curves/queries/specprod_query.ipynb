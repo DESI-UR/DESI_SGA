{
 "cells": [
  {
   "cell_type": "code",
   "execution_count": 17,
   "id": "3c73a659-bc4a-466a-9bdd-c4c0346c79cd",
   "metadata": {},
   "outputs": [],
   "source": [
    "import numpy as np\n",
    "from astropy.table import Table, vstack, join, unique\n",
    "\n",
    "from astropy.io import fits\n",
    "from astropy.coordinates import SkyCoord, match_coordinates_sky, search_around_sky\n",
    "from astropy import units as u\n",
    "from tqdm import tqdm\n",
    "\n",
    "import os\n",
    "import psycopg2\n",
    "from psycopg2.extras import execute_values\n",
    "from psycopg2.extensions import register_adapter, AsIs\n",
    "\n",
    "\n",
    "import datetime\n",
    "\n",
    "from desitarget.targets import decode_targetid, encode_targetid, resolve\n",
    "from desitarget.io import releasedict, release_to_photsys\n",
    "\n",
    "\n",
    "import requests\n",
    "from astropy.wcs import WCS\n",
    "import matplotlib.pyplot as plt\n",
    "import matplotlib as mpl\n",
    "from astropy.visualization.wcsaxes import SphericalCircle\n"
   ]
  },
  {
   "cell_type": "code",
   "execution_count": 2,
   "id": "b19064c7-75d4-4adf-a07d-63fc6474e326",
   "metadata": {},
   "outputs": [],
   "source": [
    "def get_rot_curve_targets(redux, sga_params, verbose=False):\n",
    "    \"\"\"Get rotation curve targets from the DESI production DB for a given spectroscopic reduction.\n",
    "    \n",
    "    Parameters\n",
    "    ----------\n",
    "    redux : str\n",
    "        Spectroscopic reduction. can be 'fuji', 'guadalupe', 'iron', or 'loa'\n",
    "    ra : float\n",
    "        galaxy RA from SGA [deg]\n",
    "    dec : float\n",
    "        galaxy dec from SGA [deg]\n",
    "    major : float\n",
    "        semi-major axis (D26/2) from SGA [deg]\n",
    "    ratio : float\n",
    "        axis ratio (BA) from SGA\n",
    "    pa : float\n",
    "        position angle east-of-north from SGA [deg]\n",
    "    \n",
    "    Returns\n",
    "    -------\n",
    "    targets : Table\n",
    "        Table of observations.\n",
    "    \"\"\"\n",
    "    \n",
    "    rot_curve_targets = Table(names=['TARGETID', 'TILEID', 'TARGET_RA', 'TARGET_DEC', 'HEALPIX', 'SURVEY', 'PROGRAM',\n",
    "                          'Z', 'ZERR', 'ZWARN', 'CHI2', 'DELTACHI2', 'MEAN_FIBER_RA', 'MEAN_FIBER_DEC',\n",
    "                         'STD_FIBER_RA', 'STD_FIBER_DEC', 'SPECTYPE', 'SGA_ID'],\n",
    "          dtype=['int64', 'int64', 'float64', 'float64', 'int64', 'S4', 'S6',\n",
    "                 'float64', 'float64', 'int64', 'float64', 'float64', 'float64', 'float64',\n",
    "                     'float64', 'float64', 'S6', 'int64'])\n",
    "\n",
    "    targets = None\n",
    "\n",
    "    try:\n",
    "        db = psycopg2.connect(host='specprod-db.desi.lbl.gov', database='desi', user='desi', password='')\n",
    "        cursor = db.cursor()\n",
    "\n",
    "        for i in tqdm(range(5)):\n",
    "\n",
    "            sga_id = sga_params['SGA_ID'][i]\n",
    "            ra = sga_params['RA'][i]\n",
    "            dec = sga_params['DEC'][i]\n",
    "            major = sga_params['MAJOR'][i]\n",
    "            ratio = sga_params['RATIO'][i]\n",
    "            pa = sga_params['PA'][i]\n",
    "            \n",
    "\n",
    "            query = f\"\"\"SELECT f.targetid, f.tileid, f.target_ra, f.target_dec, zp.healpix, zp.survey, zp.program,\n",
    "                        zp.z, zp.zerr, zp.zwarn, zp.chi2, zp.deltachi2, zp.mean_fiber_ra, zp.mean_fiber_dec,\n",
    "                        zp.std_fiber_ra, zp.std_fiber_dec, zp.spectype\n",
    "                        FROM iron.fiberassign AS f \n",
    "                        JOIN iron.zpix AS zp ON f.targetid = zp.targetid \n",
    "                        WHERE q3c_ellipse_join(f.target_ra, f.target_dec, {ra}, {dec}, {major}, {ratio}, {pa});\"\"\"\n",
    "            \n",
    "            if verbose:\n",
    "                print(query)\n",
    "    \n",
    "            cursor.execute(query)\n",
    "            rows = cursor.fetchall()\n",
    "\n",
    "            if len(rows)>0:\n",
    "                targets = Table(list(map(list, zip(*rows))), names=['TARGETID', 'TILEID', 'TARGET_RA', 'TARGET_DEC', 'HEALPIX', 'SURVEY', 'PROGRAM',\n",
    "                              'Z', 'ZERR', 'ZWARN', 'CHI2', 'DELTACHI2', 'MEAN_FIBER_RA', 'MEAN_FIBER_DEC',\n",
    "                             'STD_FIBER_RA', 'STD_FIBER_DEC', 'SPECTYPE'],\n",
    "                dtype=['int64', 'int64', 'float64', 'float64', 'int64', 'S4', 'S6',\n",
    "                     'float64', 'float64', 'int64', 'float64', 'float64', 'float64', 'float64',\n",
    "                         'float64', 'float64', 'S6'])\n",
    "                targets['SGA_ID'] = sga_id\n",
    "    \n",
    "                rot_curve_targets = vstack([rot_curve_targets, targets])\n",
    "\n",
    "    except Exception as error:\n",
    "        print(error)\n",
    "    finally:\n",
    "        if db is not None:\n",
    "            db.close()\n",
    "\n",
    "    return rot_curve_targets"
   ]
  },
  {
   "cell_type": "markdown",
   "id": "33fea600-4c42-44d2-9aa5-f3f315a07e30",
   "metadata": {},
   "source": [
    "#### load tables"
   ]
  },
  {
   "cell_type": "code",
   "execution_count": 3,
   "id": "32aadb3a-27fb-4667-9498-8483eab9b217",
   "metadata": {},
   "outputs": [
    {
     "data": {
      "text/html": [
       "<div><i>Table length=5</i>\n",
       "<table id=\"table139781167979568\" class=\"table-striped table-bordered table-condensed\">\n",
       "<thead><tr><th>OBJID</th><th>BRICKID</th><th>BRICKNAME</th><th>RA</th><th>DEC</th><th>PMRA</th><th>PMDEC</th><th>REF_EPOCH</th><th>OVERRIDE</th><th>PVTYPE</th><th>PVPRIORITY</th><th>POINTINGID</th><th>SGA_ID</th></tr></thead>\n",
       "<thead><tr><th>int64</th><th>int32</th><th>bytes8</th><th>float64</th><th>float64</th><th>float32</th><th>float32</th><th>float32</th><th>bool</th><th>bytes3</th><th>int32</th><th>int64</th><th>int64</th></tr></thead>\n",
       "<tr><td>262</td><td>520796</td><td>2267p350</td><td>226.62204270638287</td><td>34.98227660676318</td><td>0.0</td><td>0.0</td><td>2015.5</td><td>True</td><td>TFT</td><td>1</td><td>1</td><td>1006008</td></tr>\n",
       "<tr><td>262</td><td>520796</td><td>2267p350</td><td>226.62323955692426</td><td>34.98099178744529</td><td>0.0</td><td>0.0</td><td>2015.5</td><td>False</td><td>TFT</td><td>2</td><td>2</td><td>1006008</td></tr>\n",
       "<tr><td>262</td><td>520796</td><td>2267p350</td><td>226.62443636990747</td><td>34.97970695638398</td><td>0.0</td><td>0.0</td><td>2015.5</td><td>True</td><td>TFT</td><td>1</td><td>3</td><td>1006008</td></tr>\n",
       "<tr><td>2738</td><td>514840</td><td>2263p337</td><td>226.40142777879575</td><td>33.68537046528162</td><td>0.0</td><td>0.0</td><td>2015.5</td><td>True</td><td>TFT</td><td>1</td><td>1</td><td>4331</td></tr>\n",
       "<tr><td>2738</td><td>514840</td><td>2263p337</td><td>226.40426477759235</td><td>33.68450278837041</td><td>0.0</td><td>0.0</td><td>2015.5</td><td>False</td><td>TFT</td><td>2</td><td>2</td><td>4331</td></tr>\n",
       "</table></div>"
      ],
      "text/plain": [
       "<Table length=5>\n",
       "OBJID BRICKID BRICKNAME         RA         ... PVPRIORITY POINTINGID  SGA_ID\n",
       "int64  int32    bytes8       float64       ...   int32      int64     int64 \n",
       "----- ------- --------- ------------------ ... ---------- ---------- -------\n",
       "  262  520796  2267p350 226.62204270638287 ...          1          1 1006008\n",
       "  262  520796  2267p350 226.62323955692426 ...          2          2 1006008\n",
       "  262  520796  2267p350 226.62443636990747 ...          1          3 1006008\n",
       " 2738  514840  2263p337 226.40142777879575 ...          1          1    4331\n",
       " 2738  514840  2263p337 226.40426477759235 ...          2          2    4331"
      ]
     },
     "execution_count": 3,
     "metadata": {},
     "output_type": "execute_result"
    }
   ],
   "source": [
    "pv_tf = Table.read('/global/cfs/cdirs/desi/science/td/pv/desi_pv/savepath_dr9_corr/pv_tf.fits', format='fits')\n",
    "pv_tf_sga_ids = np.unique(pv_tf['SGA_ID'])\n",
    "pv_tf[:5]"
   ]
  },
  {
   "cell_type": "code",
   "execution_count": 4,
   "id": "6918d3f8-9a99-4a2c-b8fc-9243da2ccc34",
   "metadata": {},
   "outputs": [
    {
     "data": {
      "text/html": [
       "<div><i>Table length=5</i>\n",
       "<table id=\"table139781169460560\" class=\"table-striped table-bordered table-condensed\">\n",
       "<thead><tr><th>SGA_ID</th><th>SGA_GALAXY</th><th>GALAXY</th><th>PGC</th><th>RA_LEDA</th><th>DEC_LEDA</th><th>MORPHTYPE</th><th>PA_LEDA</th><th>D25_LEDA</th><th>BA_LEDA</th><th>Z_LEDA</th><th>SB_D25_LEDA</th><th>MAG_LEDA</th><th>BYHAND</th><th>REF</th><th>GROUP_ID</th><th>GROUP_NAME</th><th>GROUP_MULT</th><th>GROUP_PRIMARY</th><th>GROUP_RA</th><th>GROUP_DEC</th><th>GROUP_DIAMETER</th><th>BRICKNAME</th><th>RA</th><th>DEC</th><th>D26</th><th>D26_REF</th><th>PA</th><th>BA</th><th>RA_MOMENT</th><th>DEC_MOMENT</th><th>SMA_MOMENT</th><th>G_SMA50</th><th>R_SMA50</th><th>Z_SMA50</th><th>SMA_SB22</th><th>SMA_SB22.5</th><th>SMA_SB23</th><th>SMA_SB23.5</th><th>SMA_SB24</th><th>SMA_SB24.5</th><th>SMA_SB25</th><th>SMA_SB25.5</th><th>SMA_SB26</th><th>G_MAG_SB22</th><th>R_MAG_SB22</th><th>Z_MAG_SB22</th><th>G_MAG_SB22.5</th><th>R_MAG_SB22.5</th><th>Z_MAG_SB22.5</th><th>G_MAG_SB23</th><th>R_MAG_SB23</th><th>Z_MAG_SB23</th><th>G_MAG_SB23.5</th><th>R_MAG_SB23.5</th><th>Z_MAG_SB23.5</th><th>G_MAG_SB24</th><th>R_MAG_SB24</th><th>Z_MAG_SB24</th><th>G_MAG_SB24.5</th><th>R_MAG_SB24.5</th><th>Z_MAG_SB24.5</th><th>G_MAG_SB25</th><th>R_MAG_SB25</th><th>Z_MAG_SB25</th><th>G_MAG_SB25.5</th><th>R_MAG_SB25.5</th><th>Z_MAG_SB25.5</th><th>G_MAG_SB26</th><th>R_MAG_SB26</th><th>Z_MAG_SB26</th><th>SMA_SB22_ERR</th><th>SMA_SB22.5_ERR</th><th>SMA_SB23_ERR</th><th>SMA_SB23.5_ERR</th><th>SMA_SB24_ERR</th><th>SMA_SB24.5_ERR</th><th>SMA_SB25_ERR</th><th>SMA_SB25.5_ERR</th><th>SMA_SB26_ERR</th><th>G_MAG_SB22_ERR</th><th>R_MAG_SB22_ERR</th><th>Z_MAG_SB22_ERR</th><th>G_MAG_SB22.5_ERR</th><th>R_MAG_SB22.5_ERR</th><th>Z_MAG_SB22.5_ERR</th><th>G_MAG_SB23_ERR</th><th>R_MAG_SB23_ERR</th><th>Z_MAG_SB23_ERR</th><th>G_MAG_SB23.5_ERR</th><th>R_MAG_SB23.5_ERR</th><th>Z_MAG_SB23.5_ERR</th><th>G_MAG_SB24_ERR</th><th>R_MAG_SB24_ERR</th><th>Z_MAG_SB24_ERR</th><th>G_MAG_SB24.5_ERR</th><th>R_MAG_SB24.5_ERR</th><th>Z_MAG_SB24.5_ERR</th><th>G_MAG_SB25_ERR</th><th>R_MAG_SB25_ERR</th><th>Z_MAG_SB25_ERR</th><th>G_MAG_SB25.5_ERR</th><th>R_MAG_SB25.5_ERR</th><th>Z_MAG_SB25.5_ERR</th><th>G_MAG_SB26_ERR</th><th>R_MAG_SB26_ERR</th><th>Z_MAG_SB26_ERR</th><th>G_COG_PARAMS_MTOT</th><th>G_COG_PARAMS_M0</th><th>G_COG_PARAMS_ALPHA1</th><th>G_COG_PARAMS_ALPHA2</th><th>G_COG_PARAMS_CHI2</th><th>R_COG_PARAMS_MTOT</th><th>R_COG_PARAMS_M0</th><th>R_COG_PARAMS_ALPHA1</th><th>R_COG_PARAMS_ALPHA2</th><th>R_COG_PARAMS_CHI2</th><th>Z_COG_PARAMS_MTOT</th><th>Z_COG_PARAMS_M0</th><th>Z_COG_PARAMS_ALPHA1</th><th>Z_COG_PARAMS_ALPHA2</th><th>Z_COG_PARAMS_CHI2</th><th>ELLIPSEBIT</th></tr></thead>\n",
       "<thead><tr><th>int64</th><th>bytes16</th><th>bytes29</th><th>int64</th><th>float64</th><th>float64</th><th>bytes21</th><th>float32</th><th>float32</th><th>float32</th><th>float32</th><th>float32</th><th>float32</th><th>bool</th><th>bytes13</th><th>int64</th><th>bytes35</th><th>int16</th><th>bool</th><th>float64</th><th>float64</th><th>float32</th><th>bytes8</th><th>float64</th><th>float64</th><th>float32</th><th>bytes4</th><th>float32</th><th>float32</th><th>float64</th><th>float64</th><th>float32</th><th>float32</th><th>float32</th><th>float32</th><th>float32</th><th>float32</th><th>float32</th><th>float32</th><th>float32</th><th>float32</th><th>float32</th><th>float32</th><th>float32</th><th>float32</th><th>float32</th><th>float32</th><th>float32</th><th>float32</th><th>float32</th><th>float32</th><th>float32</th><th>float32</th><th>float32</th><th>float32</th><th>float32</th><th>float32</th><th>float32</th><th>float32</th><th>float32</th><th>float32</th><th>float32</th><th>float32</th><th>float32</th><th>float32</th><th>float32</th><th>float32</th><th>float32</th><th>float32</th><th>float32</th><th>float32</th><th>float32</th><th>float32</th><th>float32</th><th>float32</th><th>float32</th><th>float32</th><th>float32</th><th>float32</th><th>float32</th><th>float32</th><th>float32</th><th>float32</th><th>float32</th><th>float32</th><th>float32</th><th>float32</th><th>float32</th><th>float32</th><th>float32</th><th>float32</th><th>float32</th><th>float32</th><th>float32</th><th>float32</th><th>float32</th><th>float32</th><th>float32</th><th>float32</th><th>float32</th><th>float32</th><th>float32</th><th>float32</th><th>float32</th><th>float32</th><th>float32</th><th>float32</th><th>float32</th><th>float32</th><th>float32</th><th>float32</th><th>float32</th><th>float32</th><th>float32</th><th>float32</th><th>float32</th><th>float32</th><th>float32</th><th>float32</th><th>float32</th><th>float32</th><th>float32</th><th>int32</th></tr></thead>\n",
       "<tr><td>2</td><td>SGA-2020 2</td><td>PGC1283207</td><td>1283207</td><td>228.3770865</td><td>5.4232017</td><td>S?</td><td>152.2</td><td>0.36307806</td><td>0.724436</td><td>0.03463229</td><td>23.40448</td><td>16.976</td><td>False</td><td>LEDA-20181114</td><td>0</td><td>PGC1283207</td><td>1</td><td>True</td><td>228.3770865</td><td>5.4232017</td><td>0.36307806</td><td>2283p055</td><td>228.3770803831908</td><td>5.423191398593787</td><td>0.49470574</td><td>SB26</td><td>158.20142</td><td>0.545691</td><td>228.37700918822188</td><td>5.4232652570544015</td><td>10.897086</td><td>3.3509698</td><td>3.1147978</td><td>3.240862</td><td>5.902337</td><td>6.9126143</td><td>7.941369</td><td>8.997992</td><td>10.073601</td><td>11.199986</td><td>12.391357</td><td>13.561038</td><td>14.841172</td><td>16.966799</td><td>16.108246</td><td>15.486356</td><td>16.879545</td><td>16.024958</td><td>15.400715</td><td>16.818878</td><td>15.967034</td><td>15.341793</td><td>16.776297</td><td>15.925804</td><td>15.300776</td><td>16.746685</td><td>15.897334</td><td>15.272053</td><td>16.725166</td><td>15.876816</td><td>15.2521105</td><td>16.708357</td><td>15.862035</td><td>15.237181</td><td>16.696539</td><td>15.851936</td><td>15.226998</td><td>16.689613</td><td>15.844313</td><td>15.21976</td><td>0.013392451</td><td>0.02354</td><td>0.021872982</td><td>0.01736985</td><td>0.024445537</td><td>0.039866067</td><td>0.05026544</td><td>0.08455789</td><td>0.122911856</td><td>0.005682776</td><td>0.0054258136</td><td>0.0049038026</td><td>0.005588406</td><td>0.005323561</td><td>0.0047632363</td><td>0.00543534</td><td>0.005177031</td><td>0.0046343105</td><td>0.0053025587</td><td>0.005040888</td><td>0.0045181247</td><td>0.005206092</td><td>0.0049438984</td><td>0.0044374703</td><td>0.0051483097</td><td>0.0048758644</td><td>0.0043834248</td><td>0.0051032505</td><td>0.0048264163</td><td>0.004344248</td><td>0.0050705094</td><td>0.004792021</td><td>0.004319857</td><td>0.005054293</td><td>0.004765629</td><td>0.0043044444</td><td>16.65942</td><td>0.34037337</td><td>0.2978292</td><td>3.0239506</td><td>0.07928849</td><td>15.820566</td><td>0.2640441</td><td>0.34559453</td><td>3.3033552</td><td>0.003811298</td><td>15.195567</td><td>0.29826432</td><td>0.3001073</td><td>3.2333765</td><td>0.011723555</td><td>0</td></tr>\n",
       "<tr><td>3</td><td>SGA-2020 3</td><td>PGC1310416</td><td>1310416</td><td>202.54443750000002</td><td>6.9345944</td><td>Sc</td><td>159.26</td><td>0.4017908</td><td>0.7816278</td><td>0.073888786</td><td>23.498482</td><td>16.85</td><td>False</td><td>LEDA-20181114</td><td>1</td><td>PGC1310416</td><td>1</td><td>True</td><td>202.54443750000002</td><td>6.9345944</td><td>0.4017908</td><td>2025p070</td><td>202.5444619671207</td><td>6.9346244322326624</td><td>0.55350494</td><td>SB26</td><td>161.5937</td><td>0.7291764</td><td>202.54432739596137</td><td>6.934806737209989</td><td>15.746941</td><td>5.6416235</td><td>5.2647552</td><td>5.0895185</td><td>5.9838247</td><td>7.4356494</td><td>8.728868</td><td>10.087478</td><td>11.529764</td><td>12.818195</td><td>14.115497</td><td>15.319822</td><td>16.605148</td><td>16.963299</td><td>16.307854</td><td>15.806882</td><td>16.729511</td><td>16.097378</td><td>15.615527</td><td>16.606344</td><td>15.990707</td><td>15.518403</td><td>16.525967</td><td>15.917321</td><td>15.450624</td><td>16.462585</td><td>15.859485</td><td>15.397182</td><td>16.419558</td><td>15.820947</td><td>15.36243</td><td>16.390558</td><td>15.796369</td><td>15.338905</td><td>16.376112</td><td>15.782492</td><td>15.323709</td><td>16.364115</td><td>15.773462</td><td>15.313725</td><td>0.036992554</td><td>0.034982767</td><td>0.037769336</td><td>0.049429573</td><td>0.052699674</td><td>0.074114166</td><td>0.07914538</td><td>0.09781406</td><td>0.15534972</td><td>0.016095797</td><td>0.019181909</td><td>0.021539452</td><td>0.013955905</td><td>0.016594552</td><td>0.018640138</td><td>0.012786752</td><td>0.015244632</td><td>0.01715491</td><td>0.011973826</td><td>0.014366956</td><td>0.016208366</td><td>0.011358372</td><td>0.013676575</td><td>0.015474222</td><td>0.010944939</td><td>0.013225297</td><td>0.015011175</td><td>0.010691595</td><td>0.012931233</td><td>0.014687982</td><td>0.010546411</td><td>0.012796015</td><td>0.014518412</td><td>0.010457551</td><td>0.012685407</td><td>0.014379212</td><td>16.284733</td><td>1.0914493</td><td>0.24674739</td><td>2.4320207</td><td>0.68685365</td><td>15.704403</td><td>0.8764323</td><td>0.27360612</td><td>2.4995425</td><td>0.49343896</td><td>15.235263</td><td>1.3098688</td><td>0.17866786</td><td>2.1750498</td><td>0.20391206</td><td>0</td></tr>\n",
       "<tr><td>4</td><td>SGA-2020 4</td><td>SDSSJ145059.93+135143.0</td><td>4435547</td><td>222.749787</td><td>13.8619111</td><td>S?</td><td>44.57</td><td>0.33342642</td><td>0.6637431</td><td>0.07567602</td><td>24.457481</td><td>18.214</td><td>False</td><td>LEDA-20181114</td><td>2</td><td>SDSSJ145059.93+135143.0</td><td>1</td><td>True</td><td>222.749787</td><td>13.8619111</td><td>0.33342642</td><td>2228p137</td><td>222.7497050504303</td><td>13.861929561160224</td><td>0.37067476</td><td>SB26</td><td>45.28537</td><td>0.70922077</td><td>222.749650475464</td><td>13.862052070022896</td><td>8.877115</td><td>4.652771</td><td>4.4837785</td><td>4.4959745</td><td>2.01033</td><td>3.3967943</td><td>4.76257</td><td>6.043787</td><td>7.242806</td><td>8.250407</td><td>9.158723</td><td>10.083457</td><td>11.120243</td><td>19.97595</td><td>19.190666</td><td>18.649523</td><td>19.098536</td><td>18.397219</td><td>17.899643</td><td>18.624952</td><td>17.967802</td><td>17.50231</td><td>18.35278</td><td>17.718002</td><td>17.265854</td><td>18.192762</td><td>17.5654</td><td>17.115404</td><td>18.10496</td><td>17.480022</td><td>17.033989</td><td>18.053415</td><td>17.430794</td><td>16.982971</td><td>18.020155</td><td>17.399996</td><td>16.948252</td><td>17.994783</td><td>17.377092</td><td>16.924469</td><td>0.02113719</td><td>0.03639431</td><td>0.051901262</td><td>0.06539029</td><td>0.08552586</td><td>0.07008602</td><td>0.070394725</td><td>0.08394975</td><td>0.113649584</td><td>0.013428732</td><td>0.017600043</td><td>0.016373685</td><td>0.012251812</td><td>0.014566466</td><td>0.013732588</td><td>0.012644532</td><td>0.014030071</td><td>0.013153961</td><td>0.012747069</td><td>0.013512552</td><td>0.012818239</td><td>0.012865601</td><td>0.01324455</td><td>0.012532208</td><td>0.012762528</td><td>0.013058522</td><td>0.012420634</td><td>0.01252645</td><td>0.012827468</td><td>0.012283978</td><td>0.012320441</td><td>0.012607317</td><td>0.012104107</td><td>0.0121167945</td><td>0.01244376</td><td>0.011985352</td><td>17.896797</td><td>0.5557265</td><td>0.25455818</td><td>3.167909</td><td>1.0522435</td><td>17.28287</td><td>0.4885815</td><td>0.2782499</td><td>3.2144456</td><td>1.3733263</td><td>16.807674</td><td>0.5177045</td><td>0.32264626</td><td>2.900518</td><td>1.8054093</td><td>0</td></tr>\n",
       "<tr><td>7</td><td>SGA-2020 7</td><td>PGC1742504</td><td>1742504</td><td>182.0888085</td><td>25.6022764</td><td>Sbc</td><td>84.97</td><td>0.548277</td><td>0.25118864</td><td>0.10090814</td><td>24.91348</td><td>17.59</td><td>False</td><td>LEDA-20181114</td><td>3</td><td>PGC1742504</td><td>1</td><td>True</td><td>182.0888085</td><td>25.6022764</td><td>0.548277</td><td>1820p255</td><td>182.08882232629614</td><td>25.60226821438983</td><td>0.8883204</td><td>SB26</td><td>84.857475</td><td>0.19753796</td><td>182.08873760544392</td><td>25.602311195157757</td><td>19.779116</td><td>6.5958204</td><td>6.0386286</td><td>5.8089786</td><td>9.279068</td><td>10.949478</td><td>12.652142</td><td>14.446171</td><td>16.323679</td><td>18.392954</td><td>20.915508</td><td>23.566542</td><td>26.649612</td><td>17.390274</td><td>16.360935</td><td>15.531964</td><td>17.285898</td><td>16.262264</td><td>15.440768</td><td>17.2167</td><td>16.195492</td><td>15.380734</td><td>17.16217</td><td>16.144245</td><td>15.334935</td><td>17.130178</td><td>16.110302</td><td>15.304758</td><td>17.104496</td><td>16.084463</td><td>15.280803</td><td>17.081282</td><td>16.061373</td><td>15.2589855</td><td>17.063671</td><td>16.045204</td><td>15.243196</td><td>17.046705</td><td>16.031244</td><td>15.23268</td><td>0.04351465</td><td>0.055440858</td><td>0.052207235</td><td>0.07507412</td><td>0.0793679</td><td>0.10347854</td><td>0.13569456</td><td>0.13104819</td><td>0.17234002</td><td>0.03885276</td><td>0.03744209</td><td>0.03786608</td><td>0.035534665</td><td>0.03441038</td><td>0.03503794</td><td>0.033557214</td><td>0.032548346</td><td>0.033348277</td><td>0.031964395</td><td>0.03106612</td><td>0.031957533</td><td>0.031133845</td><td>0.030202182</td><td>0.031190341</td><td>0.030430589</td><td>0.029511228</td><td>0.030530946</td><td>0.02975241</td><td>0.028853998</td><td>0.029866546</td><td>0.02928568</td><td>0.0284345</td><td>0.029445464</td><td>0.028843498</td><td>0.028076617</td><td>0.029169334</td><td>16.995174</td><td>21.083004</td><td>0.0164273</td><td>1.9079465</td><td>0.029703742</td><td>15.991165</td><td>0.7657307</td><td>0.52285546</td><td>2.3045986</td><td>0.006013103</td><td>15.191324</td><td>1.0408205</td><td>0.32956335</td><td>2.1520333</td><td>0.004725194</td><td>0</td></tr>\n",
       "<tr><td>18</td><td>SGA-2020 18</td><td>2MASXJ12340801+4535444</td><td>3550748</td><td>188.5335525</td><td>45.5956434</td><td>E</td><td>168.65</td><td>0.53088444</td><td>0.6950243</td><td>0.07609531</td><td>23.97948</td><td>16.726</td><td>False</td><td>LEDA-20181114</td><td>4</td><td>2MASXJ12340801+4535444</td><td>1</td><td>True</td><td>188.5335525</td><td>45.5956434</td><td>0.53088444</td><td>1883p455</td><td>188.53364923054596</td><td>45.595620212931856</td><td>0.73435897</td><td>SB26</td><td>166.25127</td><td>0.70995796</td><td>188.53349052789085</td><td>45.59567446403057</td><td>15.694805</td><td>5.091253</td><td>4.670616</td><td>2.9429996</td><td>5.219665</td><td>6.6119533</td><td>8.228266</td><td>10.109745</td><td>12.170589</td><td>14.364073</td><td>16.722517</td><td>19.18709</td><td>22.03077</td><td>17.208511</td><td>16.224203</td><td>15.566424</td><td>17.050343</td><td>16.080097</td><td>15.443468</td><td>16.921791</td><td>15.962402</td><td>15.347263</td><td>16.814959</td><td>15.864242</td><td>15.27134</td><td>16.729906</td><td>15.787886</td><td>15.218466</td><td>16.664564</td><td>15.730083</td><td>15.182751</td><td>16.61991</td><td>15.686324</td><td>15.1601305</td><td>16.585676</td><td>15.654064</td><td>15.148039</td><td>16.558054</td><td>15.629669</td><td>15.141826</td><td>0.032001704</td><td>0.043849397</td><td>0.045203492</td><td>0.072918765</td><td>0.06263939</td><td>0.07675708</td><td>0.10399303</td><td>0.07780949</td><td>0.14017467</td><td>0.016467415</td><td>0.021250801</td><td>0.032092847</td><td>0.0149329165</td><td>0.019061867</td><td>0.028947951</td><td>0.01369758</td><td>0.01736746</td><td>0.026648495</td><td>0.012623343</td><td>0.015980754</td><td>0.024998168</td><td>0.011793644</td><td>0.014977396</td><td>0.023862366</td><td>0.011184664</td><td>0.014255281</td><td>0.023120966</td><td>0.010785815</td><td>0.013740733</td><td>0.022603082</td><td>0.010472503</td><td>0.013351409</td><td>0.022360764</td><td>0.010212836</td><td>0.013043255</td><td>0.022296576</td><td>16.471447</td><td>0.3236818</td><td>1.9206839</td><td>2.3249283</td><td>0.0973919</td><td>15.540598</td><td>0.3247282</td><td>1.7439244</td><td>2.1774826</td><td>0.023485765</td><td>15.124181</td><td>0.16547345</td><td>1.4694684</td><td>3.3948786</td><td>0.028653827</td><td>0</td></tr>\n",
       "</table></div>"
      ],
      "text/plain": [
       "<Table length=5>\n",
       "SGA_ID  SGA_GALAXY          GALAXY         ... Z_COG_PARAMS_CHI2 ELLIPSEBIT\n",
       "int64    bytes16           bytes29         ...      float32        int32   \n",
       "------ ----------- ----------------------- ... ----------------- ----------\n",
       "     2  SGA-2020 2              PGC1283207 ...       0.011723555          0\n",
       "     3  SGA-2020 3              PGC1310416 ...        0.20391206          0\n",
       "     4  SGA-2020 4 SDSSJ145059.93+135143.0 ...         1.8054093          0\n",
       "     7  SGA-2020 7              PGC1742504 ...       0.004725194          0\n",
       "    18 SGA-2020 18  2MASXJ12340801+4535444 ...       0.028653827          0"
      ]
     },
     "execution_count": 4,
     "metadata": {},
     "output_type": "execute_result"
    }
   ],
   "source": [
    "sga = Table.read('/global/cfs/cdirs/cosmo/data/sga/2020/SGA-2020.fits', 'ELLIPSE')\n",
    "sga_dict = {}\n",
    "for i in range(len(sga)):\n",
    "    sga_dict[sga['SGA_ID'][i]] = i\n",
    "sga[:5]"
   ]
  },
  {
   "cell_type": "code",
   "execution_count": 5,
   "id": "fb3d62af-c00f-4fa9-b5be-8347c100860d",
   "metadata": {},
   "outputs": [],
   "source": [
    "### create table of sga params\n",
    "ras = np.zeros(len(pv_tf_sga_ids))\n",
    "decs = np.zeros(len(pv_tf_sga_ids))\n",
    "majors = np.zeros(len(pv_tf_sga_ids))\n",
    "ratios = np.zeros(len(pv_tf_sga_ids))\n",
    "pas = np.zeros(len(pv_tf_sga_ids))\n",
    "\n",
    "for i in range(len(pv_tf_sga_ids)):\n",
    "    sga_id = pv_tf_sga_ids[i]\n",
    "    idx = sga_dict[sga_id]\n",
    "    ras[i] = sga['RA'][idx]\n",
    "    decs[i] = sga['DEC'][idx]\n",
    "    majors[i] = ((sga['D26'][idx]*0.5*u.arcmin).to(u.degree).value) * 1.01 # convert to deg and add 1 percent dist to get outer edge targs?\n",
    "    ratios[i] = sga['BA'][idx]\n",
    "    pas[i] = sga['PA'][idx]"
   ]
  },
  {
   "cell_type": "code",
   "execution_count": 6,
   "id": "4c6012e3-a9b2-4db7-a420-bea2ef23fe07",
   "metadata": {},
   "outputs": [],
   "source": [
    "sga_params = Table([pv_tf_sga_ids, ras, decs, majors, ratios, pas],\n",
    "                   names=['SGA_ID', 'RA', 'DEC', 'MAJOR', 'RATIO', 'PA'],\n",
    "                   dtype=['int64', 'float64', 'float64', 'float64', 'float64', 'float64'])"
   ]
  },
  {
   "cell_type": "code",
   "execution_count": 28,
   "id": "fbaee1ab-290e-4c0e-b6cf-e984e0f49295",
   "metadata": {},
   "outputs": [],
   "source": [
    "sga_params.write('/pscratch/sd/n/nravi/pv_rot_curves/sga_params.fits', format='fits')"
   ]
  },
  {
   "cell_type": "markdown",
   "id": "851d25fd-a6fc-4421-8f7c-aaae1f0e28e5",
   "metadata": {},
   "source": [
    "### generate iron data table"
   ]
  },
  {
   "cell_type": "code",
   "execution_count": 16,
   "id": "058b26da-a6af-46b8-838a-98d76ecd5234",
   "metadata": {},
   "outputs": [
    {
     "name": "stdout",
     "output_type": "stream",
     "text": [
      "connection to server at \"specprod-db.desi.lbl.gov\" (128.55.212.78), port 5432 failed: FATAL:  the database system is not yet accepting connections\n",
      "DETAIL:  Consistent recovery state has not been yet reached.\n",
      "\n"
     ]
    },
    {
     "ename": "UnboundLocalError",
     "evalue": "local variable 'db' referenced before assignment",
     "output_type": "error",
     "traceback": [
      "\u001b[0;31m---------------------------------------------------------------------------\u001b[0m",
      "\u001b[0;31mUnboundLocalError\u001b[0m                         Traceback (most recent call last)",
      "Cell \u001b[0;32mIn[16], line 1\u001b[0m\n\u001b[0;32m----> 1\u001b[0m iron_table \u001b[38;5;241m=\u001b[39m \u001b[43mget_rot_curve_targets\u001b[49m\u001b[43m(\u001b[49m\u001b[38;5;124;43m'\u001b[39;49m\u001b[38;5;124;43miron\u001b[39;49m\u001b[38;5;124;43m'\u001b[39;49m\u001b[43m,\u001b[49m\u001b[43m \u001b[49m\u001b[43msga_params\u001b[49m\u001b[43m,\u001b[49m\u001b[43m \u001b[49m\u001b[43mverbose\u001b[49m\u001b[38;5;241;43m=\u001b[39;49m\u001b[38;5;241;43m0\u001b[39;49m\u001b[43m)\u001b[49m\n",
      "Cell \u001b[0;32mIn[15], line 75\u001b[0m, in \u001b[0;36mget_rot_curve_targets\u001b[0;34m(redux, sga_params, verbose)\u001b[0m\n\u001b[1;32m     73\u001b[0m     \u001b[38;5;28mprint\u001b[39m(error)\n\u001b[1;32m     74\u001b[0m \u001b[38;5;28;01mfinally\u001b[39;00m:\n\u001b[0;32m---> 75\u001b[0m     \u001b[38;5;28;01mif\u001b[39;00m \u001b[43mdb\u001b[49m \u001b[38;5;129;01mis\u001b[39;00m \u001b[38;5;129;01mnot\u001b[39;00m \u001b[38;5;28;01mNone\u001b[39;00m:\n\u001b[1;32m     76\u001b[0m         db\u001b[38;5;241m.\u001b[39mclose()\n\u001b[1;32m     78\u001b[0m \u001b[38;5;28;01mreturn\u001b[39;00m rot_curve_targets\n",
      "\u001b[0;31mUnboundLocalError\u001b[0m: local variable 'db' referenced before assignment"
     ]
    }
   ],
   "source": [
    "iron_table = get_rot_curve_targets('iron', sga_params, verbose=0)"
   ]
  },
  {
   "cell_type": "code",
   "execution_count": 44,
   "id": "551c07f8-365f-412e-bb6b-961346c03e3b",
   "metadata": {},
   "outputs": [
    {
     "data": {
      "text/html": [
       "<div><i>Table length=1</i>\n",
       "<table id=\"table140189723764064\" class=\"table-striped table-bordered table-condensed\">\n",
       "<thead><tr><th>TARGETID</th><th>TILEID</th><th>TARGET_RA</th><th>TARGET_DEC</th><th>HEALPIX</th><th>SURVEY</th><th>PROGRAM</th><th>Z</th><th>ZERR</th><th>ZWARN</th><th>CHI2</th><th>DELTACHI2</th><th>MEAN_FIBER_RA</th><th>MEAN_FIBER_DEC</th><th>STD_FIBER_RA</th><th>STD_FIBER_DEC</th><th>SPECTYPE</th><th>SGA_ID</th></tr></thead>\n",
       "<thead><tr><th>int64</th><th>int64</th><th>float64</th><th>float64</th><th>int64</th><th>bytes4</th><th>bytes6</th><th>float64</th><th>float64</th><th>int64</th><th>float64</th><th>float64</th><th>float64</th><th>float64</th><th>float64</th><th>float64</th><th>bytes6</th><th>int64</th></tr></thead>\n",
       "<tr><td>39627956930219105</td><td>21128</td><td>202.5446879281934</td><td>6.937716745448383</td><td>26419</td><td>main</td><td>bright</td><td>0.07405882697719757</td><td>5.507764891123595e-06</td><td>0</td><td>8900.472087532282</td><td>4056.44409406418</td><td>202.54466847991569</td><td>6.937713621590798</td><td>0.0</td><td>0.0</td><td>GALAXY</td><td>3</td></tr>\n",
       "</table></div>"
      ],
      "text/plain": [
       "<Table length=1>\n",
       "     TARGETID     TILEID     TARGET_RA     ... STD_FIBER_DEC SPECTYPE SGA_ID\n",
       "      int64       int64       float64      ...    float64     bytes6  int64 \n",
       "----------------- ------ ----------------- ... ------------- -------- ------\n",
       "39627956930219105  21128 202.5446879281934 ...           0.0   GALAXY      3"
      ]
     },
     "execution_count": 44,
     "metadata": {},
     "output_type": "execute_result"
    }
   ],
   "source": [
    "iron_table"
   ]
  },
  {
   "cell_type": "code",
   "execution_count": 8,
   "id": "2929b83d-5c87-4ebf-9f17-a316f24af5e0",
   "metadata": {},
   "outputs": [
    {
     "data": {
      "text/plain": [
       "129772"
      ]
     },
     "execution_count": 8,
     "metadata": {},
     "output_type": "execute_result"
    }
   ],
   "source": [
    "len(sga_params)"
   ]
  },
  {
   "cell_type": "markdown",
   "id": "e56317bf-31b2-495c-8fd3-c2848a664b7d",
   "metadata": {},
   "source": [
    "### testing temporary table"
   ]
  },
  {
   "cell_type": "code",
   "execution_count": 9,
   "id": "fa43cf56-f6b8-4d38-8e96-ac808dd84641",
   "metadata": {},
   "outputs": [
    {
     "ename": "NameError",
     "evalue": "name 'iron_table' is not defined",
     "output_type": "error",
     "traceback": [
      "\u001b[0;31m---------------------------------------------------------------------------\u001b[0m",
      "\u001b[0;31mNameError\u001b[0m                                 Traceback (most recent call last)",
      "Cell \u001b[0;32mIn[9], line 1\u001b[0m\n\u001b[0;32m----> 1\u001b[0m target_id \u001b[38;5;241m=\u001b[39m \u001b[43miron_table\u001b[49m[\u001b[38;5;124m'\u001b[39m\u001b[38;5;124mTARGETID\u001b[39m\u001b[38;5;124m'\u001b[39m][\u001b[38;5;241m0\u001b[39m]\n\u001b[1;32m      3\u001b[0m db \u001b[38;5;241m=\u001b[39m psycopg2\u001b[38;5;241m.\u001b[39mconnect(host\u001b[38;5;241m=\u001b[39m\u001b[38;5;124m'\u001b[39m\u001b[38;5;124mspecprod-db.desi.lbl.gov\u001b[39m\u001b[38;5;124m'\u001b[39m, database\u001b[38;5;241m=\u001b[39m\u001b[38;5;124m'\u001b[39m\u001b[38;5;124mdesi\u001b[39m\u001b[38;5;124m'\u001b[39m, user\u001b[38;5;241m=\u001b[39m\u001b[38;5;124m'\u001b[39m\u001b[38;5;124mdesi\u001b[39m\u001b[38;5;124m'\u001b[39m, password\u001b[38;5;241m=\u001b[39m\u001b[38;5;124m'\u001b[39m\u001b[38;5;124m5kFibers!\u001b[39m\u001b[38;5;124m'\u001b[39m)\n\u001b[1;32m      4\u001b[0m \u001b[38;5;28mprint\u001b[39m(\u001b[38;5;124m'\u001b[39m\u001b[38;5;124mconnected\u001b[39m\u001b[38;5;124m'\u001b[39m)\n",
      "\u001b[0;31mNameError\u001b[0m: name 'iron_table' is not defined"
     ]
    }
   ],
   "source": [
    "target_id = iron_table['TARGETID'][0]\n",
    "\n",
    "db = psycopg2.connect(host='specprod-db.desi.lbl.gov', database='desi', user='desi', password='')\n",
    "print('connected')\n",
    "cursor = db.cursor()\n",
    "\n",
    "cursor.execute(\"\"\"CREATE TEMP TABLE pv(\n",
    "                                ra FLOAT,\n",
    "                                dec FLOAT,\n",
    "                                major FLOAT,\n",
    "                                ratio FLOAT,\n",
    "                                pa FLOAT); \n",
    "                                \"\"\")\n",
    "print('temp table created')\n",
    "\n",
    "for i in range(5):\n",
    "    cursor.execute(f\"\"\"INSERT INTO pv VALUES ({sga_params['RA'][i]}, \n",
    "                                                {sga_params['DEC'][i]}, \n",
    "                                                {sga_params['MAJOR'][i]}, \n",
    "                                                {sga_params['RATIO'][i]},\n",
    "                                                {sga_params['PA'][i]})\"\"\")\n",
    "\n",
    "print('sga params inserted in temp table')\n",
    "\n",
    "print('pv table')\n",
    "\n",
    "cursor.execute(\"\"\"SELECT * FROM pv\"\"\")\n",
    "rows = cursor.fetchall()\n",
    "print(rows)\n",
    "\n",
    "print('querying database w SGA params')\n",
    "# cursor.execute(f\"\"\"SELECT f.targetid, f.tileid, f.target_ra, f.target_dec, zp.healpix, zp.survey, zp.program,\n",
    "#                         zp.z, zp.zerr, zp.zwarn, zp.chi2, zp.deltachi2, zp.mean_fiber_ra, zp.mean_fiber_dec,\n",
    "#                         zp.std_fiber_ra, zp.std_fiber_dec, zp.spectype\n",
    "#                         FROM pv as pv, iron.fiberassign AS f\n",
    "#                         JOIN iron.zpix AS zp ON f.targetid = zp.targetid\n",
    "#                         WHERE q3c_ellipse_join(f.target_ra, f.target_dec, pv.ra, pv.dec, pv.major, pv.ratio, pv.pa);\"\"\")\n",
    "\n",
    "START = datetime.datetime.now()\n",
    "\n",
    "\n",
    "cursor.execute(f\"\"\"SELECT f.targetid, f.tileid, f.target_ra, f.target_dec, zp.healpix, zp.survey, zp.program,\n",
    "                        zp.z, zp.zerr, zp.zwarn, zp.chi2, zp.deltachi2, zp.mean_fiber_ra, zp.mean_fiber_dec,\n",
    "                        zp.std_fiber_ra, zp.std_fiber_dec, zp.spectype\n",
    "                        FROM pv, iron.fiberassign AS f\n",
    "                        JOIN iron.zpix AS zp ON f.targetid = zp.targetid\n",
    "                        WHERE q3c_ellipse_join(f.target_ra, f.target_dec, pv.ra, pv.dec, pv.major, pv.ratio, pv.pa);\"\"\")\n",
    "\n",
    "print('Runtime: ', datetime.datetime.now() - START)\n",
    "\n",
    "rows = cursor.fetchall()\n"
   ]
  },
  {
   "cell_type": "markdown",
   "id": "f22a59c5-ea4a-4369-89c1-b3c7323c6968",
   "metadata": {},
   "source": [
    "#### create index for temp table"
   ]
  },
  {
   "cell_type": "code",
   "execution_count": 7,
   "id": "6787c773-1a50-4a94-8acf-087276107da2",
   "metadata": {},
   "outputs": [
    {
     "ename": "NameError",
     "evalue": "name 'iron_table' is not defined",
     "output_type": "error",
     "traceback": [
      "\u001b[0;31m---------------------------------------------------------------------------\u001b[0m",
      "\u001b[0;31mNameError\u001b[0m                                 Traceback (most recent call last)",
      "Cell \u001b[0;32mIn[7], line 2\u001b[0m\n\u001b[1;32m      1\u001b[0m \u001b[38;5;66;03m# version with indexing table\u001b[39;00m\n\u001b[0;32m----> 2\u001b[0m target_id \u001b[38;5;241m=\u001b[39m \u001b[43miron_table\u001b[49m[\u001b[38;5;124m'\u001b[39m\u001b[38;5;124mTARGETID\u001b[39m\u001b[38;5;124m'\u001b[39m][\u001b[38;5;241m0\u001b[39m]\n\u001b[1;32m      4\u001b[0m db \u001b[38;5;241m=\u001b[39m psycopg2\u001b[38;5;241m.\u001b[39mconnect(host\u001b[38;5;241m=\u001b[39m\u001b[38;5;124m'\u001b[39m\u001b[38;5;124mspecprod-db.desi.lbl.gov\u001b[39m\u001b[38;5;124m'\u001b[39m, database\u001b[38;5;241m=\u001b[39m\u001b[38;5;124m'\u001b[39m\u001b[38;5;124mdesi\u001b[39m\u001b[38;5;124m'\u001b[39m, user\u001b[38;5;241m=\u001b[39m\u001b[38;5;124m'\u001b[39m\u001b[38;5;124mdesi\u001b[39m\u001b[38;5;124m'\u001b[39m, password\u001b[38;5;241m=\u001b[39m\u001b[38;5;124m'\u001b[39m\u001b[38;5;124m5kFibers!\u001b[39m\u001b[38;5;124m'\u001b[39m)\n\u001b[1;32m      5\u001b[0m \u001b[38;5;28mprint\u001b[39m(\u001b[38;5;124m'\u001b[39m\u001b[38;5;124mconnected\u001b[39m\u001b[38;5;124m'\u001b[39m)\n",
      "\u001b[0;31mNameError\u001b[0m: name 'iron_table' is not defined"
     ]
    }
   ],
   "source": [
    "# version with indexing table\n",
    "target_id = iron_table['TARGETID'][0]\n",
    "\n",
    "db = psycopg2.connect(host='specprod-db.desi.lbl.gov', database='desi', user='desi', password='')\n",
    "print('connected')\n",
    "cursor = db.cursor()\n",
    "\n",
    "cursor.execute(\"\"\"CREATE TEMP TABLE pv(\n",
    "                                ra FLOAT,\n",
    "                                dec FLOAT,\n",
    "                                major FLOAT,\n",
    "                                ratio FLOAT,\n",
    "                                pa FLOAT); \n",
    "                                \"\"\")\n",
    "\n",
    "\n",
    "for i in range(5):\n",
    "    cursor.execute(f\"\"\"INSERT INTO pv VALUES ({sga_params['RA'][i]}, \n",
    "                                                {sga_params['DEC'][i]}, \n",
    "                                                {sga_params['MAJOR'][i]}, \n",
    "                                                {sga_params['RATIO'][i]},\n",
    "                                                {sga_params['PA'][i]})\"\"\")\n",
    "\n",
    "print('sga params inserted in temp table')\n",
    "\n",
    "cursor.execute(\"\"\"CREATE INDEX ON pv (q3c_ang2ipix(ra, dec));\"\"\")\n",
    "cursor.execute(\"\"\"ANALYZE pv;\"\"\")\n",
    "\n",
    "print('created index')\n",
    "\n",
    "print('pv table')\n",
    "\n",
    "cursor.execute(\"\"\"SELECT * FROM pv\"\"\")\n",
    "rows = cursor.fetchall()\n",
    "print(rows)\n",
    "\n",
    "print('querying database w SGA params')\n",
    "\n",
    "START = datetime.datetime.now()\n",
    "\n",
    "cursor.execute(f\"\"\"SELECT f.targetid, f.tileid, f.target_ra, f.target_dec, zp.healpix, zp.survey, zp.program,\n",
    "                        zp.z, zp.zerr, zp.zwarn, zp.chi2, zp.deltachi2, zp.mean_fiber_ra, zp.mean_fiber_dec,\n",
    "                        zp.std_fiber_ra, zp.std_fiber_dec, zp.spectype\n",
    "                        FROM pv, iron.fiberassign AS f\n",
    "                        JOIN iron.zpix AS zp ON f.targetid = zp.targetid\n",
    "                        WHERE q3c_ellipse_join(f.target_ra, f.target_dec, pv.ra, pv.dec, pv.major, pv.ratio, pv.pa);\"\"\")\n",
    "\n",
    "print('Runtime: ', datetime.datetime.now() - START)\n",
    "\n",
    "rows = cursor.fetchall()\n",
    "\n"
   ]
  },
  {
   "cell_type": "code",
   "execution_count": 35,
   "id": "0b2d6022-4d9c-452e-80a1-cf469ddcaaad",
   "metadata": {},
   "outputs": [
    {
     "data": {
      "text/plain": [
       "1"
      ]
     },
     "execution_count": 35,
     "metadata": {},
     "output_type": "execute_result"
    }
   ],
   "source": [
    "len(rows)"
   ]
  },
  {
   "cell_type": "markdown",
   "id": "ab5dd990-5589-4c06-b826-4c2d86289250",
   "metadata": {},
   "source": [
    "#### trying to insert all sga params into temp table"
   ]
  },
  {
   "cell_type": "code",
   "execution_count": 60,
   "id": "c0b6c303-3b0e-4e61-9461-3ae2bc49b632",
   "metadata": {},
   "outputs": [],
   "source": [
    "tuples = [tuple(x) for x in sga_params['RA', 'DEC', 'MAJOR', 'RATIO', 'PA']]"
   ]
  },
  {
   "cell_type": "code",
   "execution_count": 63,
   "id": "255fd419-e79f-4247-9bb6-ba3a7a107061",
   "metadata": {},
   "outputs": [
    {
     "name": "stdout",
     "output_type": "stream",
     "text": [
      "connected\n",
      "Runtime :  0:00:03.056472\n"
     ]
    }
   ],
   "source": [
    "db = psycopg2.connect(host='specprod-db.desi.lbl.gov', database='desi', user='desi', password='')\n",
    "print('connected')\n",
    "cursor = db.cursor()\n",
    "\n",
    "START = datetime.datetime.now()\n",
    "\n",
    "cursor.execute(\"\"\"CREATE TEMP TABLE pv(\n",
    "                                ra FLOAT,\n",
    "                                dec FLOAT,\n",
    "                                major FLOAT,\n",
    "                                ratio FLOAT,\n",
    "                                pa FLOAT); \n",
    "                                \"\"\")\n",
    "\n",
    "\n",
    "execute_values(cursor, \"\"\"INSERT INTO pv (ra, dec, major, ratio, pa) VALUES %s \"\"\", tuples)\n",
    "\n",
    "print('Runtime : ', datetime.datetime.now() - START)\n",
    "\n",
    "cursor.execute(\"\"\"SELECT * FROM pv\"\"\")\n",
    "rows = cursor.fetchall()"
   ]
  },
  {
   "cell_type": "code",
   "execution_count": 30,
   "id": "838135c0-e8a7-405c-98e5-49510b2aedc5",
   "metadata": {},
   "outputs": [
    {
     "name": "stdout",
     "output_type": "stream",
     "text": [
      "connected\n"
     ]
    },
    {
     "ename": "UndefinedTable",
     "evalue": "relation \"pv\" does not exist\nLINE 1: INSERT INTO pv VALUES (39627956930219105)\n                    ^\n",
     "output_type": "error",
     "traceback": [
      "\u001b[0;31m---------------------------------------------------------------------------\u001b[0m",
      "\u001b[0;31mUndefinedTable\u001b[0m                            Traceback (most recent call last)",
      "Cell \u001b[0;32mIn[30], line 5\u001b[0m\n\u001b[1;32m      3\u001b[0m \u001b[38;5;28mprint\u001b[39m(\u001b[38;5;124m'\u001b[39m\u001b[38;5;124mconnected\u001b[39m\u001b[38;5;124m'\u001b[39m)\n\u001b[1;32m      4\u001b[0m cursor \u001b[38;5;241m=\u001b[39m db\u001b[38;5;241m.\u001b[39mcursor()\n\u001b[0;32m----> 5\u001b[0m \u001b[43mcursor\u001b[49m\u001b[38;5;241;43m.\u001b[39;49m\u001b[43mexecute\u001b[49m\u001b[43m(\u001b[49m\u001b[38;5;124;43mf\u001b[39;49m\u001b[38;5;124;43m\"\"\"\u001b[39;49m\u001b[38;5;124;43mINSERT INTO pv VALUES (\u001b[39;49m\u001b[38;5;132;43;01m{\u001b[39;49;00m\u001b[43mtarget_id\u001b[49m\u001b[38;5;132;43;01m}\u001b[39;49;00m\u001b[38;5;124;43m)\u001b[39;49m\u001b[38;5;124;43m\"\"\"\u001b[39;49m\u001b[43m)\u001b[49m\n",
      "\u001b[0;31mUndefinedTable\u001b[0m: relation \"pv\" does not exist\nLINE 1: INSERT INTO pv VALUES (39627956930219105)\n                    ^\n"
     ]
    }
   ],
   "source": [
    "# check that temp table was indeed destroyed -- SUCCESS\n",
    "db = psycopg2.connect(host='specprod-db.desi.lbl.gov', database='desi', user='desi', password='')\n",
    "print('connected')\n",
    "cursor = db.cursor()\n",
    "cursor.execute(f\"\"\"INSERT INTO pv VALUES ({target_id})\"\"\")\n"
   ]
  },
  {
   "cell_type": "code",
   "execution_count": 8,
   "id": "abd28b2f-5871-460d-90fe-204e8cbe5956",
   "metadata": {},
   "outputs": [],
   "source": [
    "def adapt_numpy_int64(numpy_int64):\n",
    "    return AsIs(numpy_int64)"
   ]
  },
  {
   "cell_type": "code",
   "execution_count": 9,
   "id": "134c99d2-07d6-4d87-a09e-33073a8d4d91",
   "metadata": {},
   "outputs": [],
   "source": [
    "def get_rot_curve_targets_temp_table(redux, sga_params, verbose=False):\n",
    "    \"\"\"Get rotation curve targets from the DESI production DB for a given spectroscopic reduction.\n",
    "    \n",
    "    Parameters\n",
    "    ----------\n",
    "    redux : str\n",
    "        Spectroscopic reduction. can be 'fuji', 'guadalupe', 'iron', or 'loa'\n",
    "\n",
    "    sga_params: list of tuples\n",
    "        list of tuples of the form [(sga_id, ra, dec, major, pa)]\n",
    "\n",
    "        sga_id : int\n",
    "            SGA ID from pv table\n",
    "        \n",
    "        ra : float\n",
    "            galaxy RA from SGA [deg]\n",
    "        dec : float\n",
    "            galaxy dec from SGA [deg]\n",
    "        major : float\n",
    "            semi-major axis (D26/2) from SGA [deg]\n",
    "        ratio : float\n",
    "            axis ratio (BA) from SGA\n",
    "        pa : float\n",
    "            position angle east-of-north from SGA [deg]\n",
    "    \n",
    "    Returns\n",
    "    -------\n",
    "    targets : Table\n",
    "        Table of observations.\n",
    "    \"\"\"\n",
    "    \n",
    "\n",
    "\n",
    "    targets = None\n",
    "\n",
    "    try:\n",
    "        print(1)\n",
    "        register_adapter(np.int64, adapt_numpy_int64)\n",
    "        db = psycopg2.connect(host='specprod-db.desi.lbl.gov', database='desi', user='desi', password='')\n",
    "        cursor = db.cursor()\n",
    "\n",
    "        # create temporary pv table\n",
    "\n",
    "        cursor.execute(\"\"\"CREATE TEMP TABLE pv(\n",
    "                                sgaid BIGINT,\n",
    "                                ra FLOAT,\n",
    "                                dec FLOAT,\n",
    "                                major FLOAT,\n",
    "                                ratio FLOAT,\n",
    "                                pa FLOAT); \n",
    "                                \"\"\")\n",
    "        print('temp table created')\n",
    "        # put sga parameters into the temporary table\n",
    "        execute_values(cursor, \"\"\"INSERT INTO pv(sgaid, ra, dec, major, ratio, pa) VALUES %s \"\"\", tuples)\n",
    "\n",
    "        print('temp table filled')\n",
    "        # create index for pv table\n",
    "        \n",
    "        cursor.execute(\"\"\"CREATE INDEX ON pv (q3c_ang2ipix(ra, dec));\"\"\")\n",
    "        cursor.execute(\"\"\"ANALYZE pv;\"\"\")\n",
    "\n",
    "        print('temp table indexed')    \n",
    "        # get all targets within sga ellipses\n",
    "        \n",
    "\n",
    "        # query = f\"\"\"SELECT f.targetid, f.tileid, pv.sgaid, f.target_ra, f.target_dec, zp.healpix, zp.survey, zp.program,\n",
    "        #                 zp.z, zp.zerr, zp.zwarn, zp.chi2, zp.deltachi2, zp.mean_fiber_ra, zp.mean_fiber_dec,\n",
    "        #                 zp.std_fiber_ra, zp.std_fiber_dec, zp.spectype\n",
    "        #                 FROM pv, iron.fiberassign AS f\n",
    "        #                 JOIN iron.zpix AS zp ON f.targetid = zp.targetid\n",
    "        #                 WHERE q3c_ellipse_join(f.target_ra, f.target_dec, pv.ra, pv.dec, pv.major, pv.ratio, pv.pa);\"\"\"\n",
    "\n",
    "        \n",
    "\n",
    "        query = f\"\"\"SELECT f.targetid, f.tileid, pv.sgaid, f.target_ra, f.target_dec, zp.healpix, zp.survey, zp.program,\n",
    "                        zp.z, zp.zerr, zp.zwarn, zp.chi2, zp.deltachi2, zp.mean_fiber_ra, zp.mean_fiber_dec,\n",
    "                        zp.std_fiber_ra, zp.std_fiber_dec, zp.spectype\n",
    "                        FROM pv, iron.fiberassign AS f\n",
    "                        JOIN iron.zpix AS zp ON f.targetid = zp.targetid\n",
    "                        WHERE f.target_ra < (pv.ra + pv.major) AND f.target_ra > (pv.ra - pv.major) AND f.target_dec < (pv.dec + pv.major) AND f.target_dec > (pv.dec - pv.major);\"\"\"\n",
    "        \n",
    "        if verbose:\n",
    "            print(query)\n",
    "\n",
    "        cursor.execute(query)\n",
    "        rows = cursor.fetchall()\n",
    "\n",
    "        if len(rows)>0:\n",
    "            targets = Table(list(map(list, zip(*rows))), names=['TARGETID', 'TILEID', 'SGA_ID', 'TARGET_RA', \n",
    "                                                                'TARGET_DEC', 'HEALPIX', 'SURVEY', 'PROGRAM',\n",
    "                          'Z', 'ZERR', 'ZWARN', 'CHI2', 'DELTACHI2', 'MEAN_FIBER_RA', 'MEAN_FIBER_DEC',\n",
    "                         'STD_FIBER_RA', 'STD_FIBER_DEC', 'SPECTYPE'],\n",
    "            dtype=['int64', 'int64', 'int64', 'float64', 'float64', 'int64', 'S4', 'S6',\n",
    "                 'float64', 'float64', 'int64', 'float64', 'float64', 'float64', 'float64',\n",
    "                     'float64', 'float64', 'S6'])\n",
    "\n",
    "\n",
    "    except Exception as error:\n",
    "        print(error)\n",
    "    finally:\n",
    "        if db is not None:\n",
    "            db.close()\n",
    "    \n",
    "    return targets"
   ]
  },
  {
   "cell_type": "code",
   "execution_count": null,
   "id": "b4620601-7db8-450b-8257-3028a8c60012",
   "metadata": {},
   "outputs": [
    {
     "name": "stdout",
     "output_type": "stream",
     "text": [
      "1\n",
      "temp table created\n",
      "temp table filled\n",
      "temp table indexed\n",
      "SELECT f.targetid, f.tileid, pv.sgaid, f.target_ra, f.target_dec, zp.healpix, zp.survey, zp.program,\n",
      "                        zp.z, zp.zerr, zp.zwarn, zp.chi2, zp.deltachi2, zp.mean_fiber_ra, zp.mean_fiber_dec,\n",
      "                        zp.std_fiber_ra, zp.std_fiber_dec, zp.spectype\n",
      "                        FROM pv, iron.fiberassign AS f\n",
      "                        JOIN iron.zpix AS zp ON f.targetid = zp.targetid\n",
      "                        WHERE q3c_ellipse_join(f.target_ra, f.target_dec, pv.ra, pv.dec, pv.major, pv.ratio, pv.pa);\n"
     ]
    }
   ],
   "source": [
    "# test query on small table\n",
    "\n",
    "tuples = [tuple(x) for x in sga_params[:20]]\n",
    "START = datetime.datetime.now()\n",
    "iron_test = get_rot_curve_targets_temp_table('iron', tuples, verbose=True)\n",
    "print('done -- ', datetime.datetime.now() - START)"
   ]
  },
  {
   "cell_type": "code",
   "execution_count": 23,
   "id": "645cd13f-4164-4dee-99af-790990459b93",
   "metadata": {},
   "outputs": [
    {
     "data": {
      "text/html": [
       "<div><i>Table length=21</i>\n",
       "<table id=\"table139846624027952\" class=\"table-striped table-bordered table-condensed\">\n",
       "<thead><tr><th>TARGETID</th><th>TILEID</th><th>SGA_ID</th><th>TARGET_RA</th><th>TARGET_DEC</th><th>HEALPIX</th><th>SURVEY</th><th>PROGRAM</th><th>Z</th><th>ZERR</th><th>ZWARN</th><th>CHI2</th><th>DELTACHI2</th><th>MEAN_FIBER_RA</th><th>MEAN_FIBER_DEC</th><th>STD_FIBER_RA</th><th>STD_FIBER_DEC</th><th>SPECTYPE</th></tr></thead>\n",
       "<thead><tr><th>int64</th><th>int64</th><th>int64</th><th>float64</th><th>float64</th><th>int64</th><th>bytes4</th><th>bytes6</th><th>float64</th><th>float64</th><th>int64</th><th>float64</th><th>float64</th><th>float64</th><th>float64</th><th>float64</th><th>float64</th><th>bytes6</th></tr></thead>\n",
       "<tr><td>2389570544992262</td><td>22682</td><td>55</td><td>199.7311685666833</td><td>1.7247142071276316</td><td>26207</td><td>main</td><td>bright</td><td>0.04422788661807545</td><td>4.938238651323468e-06</td><td>0</td><td>7728.932424351573</td><td>987.540528729558</td><td>199.73116845226696</td><td>1.724758061816374</td><td>0.0</td><td>0.0</td><td>GALAXY</td></tr>\n",
       "<tr><td>2389570544992261</td><td>24243</td><td>55</td><td>199.73007238519418</td><td>1.7278318158265755</td><td>26207</td><td>main</td><td>bright</td><td>0.043724082715951046</td><td>2.0002041200493262e-05</td><td>0</td><td>7557.245729940012</td><td>87.38531109504402</td><td>199.7300746094984</td><td>1.7278269937409718</td><td>0.036127813</td><td>0.024903476</td><td>GALAXY</td></tr>\n",
       "<tr><td>2389570544992261</td><td>25837</td><td>55</td><td>199.73007238519418</td><td>1.7278318158265755</td><td>26207</td><td>main</td><td>bright</td><td>0.043724082715951046</td><td>2.0002041200493262e-05</td><td>0</td><td>7557.245729940012</td><td>87.38531109504402</td><td>199.7300746094984</td><td>1.7278269937409718</td><td>0.036127813</td><td>0.024903476</td><td>GALAXY</td></tr>\n",
       "<tr><td>39627853494489271</td><td>23090</td><td>117</td><td>138.9354018819327</td><td>2.69476220880469</td><td>27323</td><td>main</td><td>bright</td><td>0.09003983347898953</td><td>2.775517735062233e-05</td><td>0</td><td>8013.983035285026</td><td>896.4243823117577</td><td>138.93543745285615</td><td>2.694729924956867</td><td>0.0</td><td>0.0</td><td>GALAXY</td></tr>\n",
       "<tr><td>39628040673694224</td><td>11467</td><td>74</td><td>208.88083454985727</td><td>10.457524716375113</td><td>26481</td><td>main</td><td>dark</td><td>2.5355102189406797</td><td>0.00036370605063924973</td><td>0</td><td>7893.974747925997</td><td>547.2669170121662</td><td>208.88083079857302</td><td>10.457523811578822</td><td>0.0</td><td>0.0</td><td>QSO</td></tr>\n",
       "<tr><td>39628040673694353</td><td>20123</td><td>74</td><td>208.88595452038825</td><td>10.45038023846306</td><td>26481</td><td>main</td><td>bright</td><td>0.03812963730157509</td><td>3.612668794954218e-06</td><td>0</td><td>7591.736131072044</td><td>1762.430552124977</td><td>208.88589635304947</td><td>10.450355697007257</td><td>0.0</td><td>0.0</td><td>GALAXY</td></tr>\n",
       "<tr><td>39627956930219105</td><td>21128</td><td>3</td><td>202.5446879281934</td><td>6.937716745448383</td><td>26419</td><td>main</td><td>bright</td><td>0.07405882697719757</td><td>5.507764891123595e-06</td><td>0</td><td>8900.472087532282</td><td>4056.44409406418</td><td>202.54466847991569</td><td>6.937713621590798</td><td>0.0</td><td>0.0</td><td>GALAXY</td></tr>\n",
       "<tr><td>2390410135601155</td><td>22720</td><td>38</td><td>211.66381961968403</td><td>39.527428957913536</td><td>10641</td><td>main</td><td>bright</td><td>0.08058017670098534</td><td>8.151790687169398e-06</td><td>0</td><td>7811.470571607351</td><td>355.43456426262856</td><td>211.66383615121413</td><td>39.52744095540257</td><td>0.0</td><td>0.0</td><td>GALAXY</td></tr>\n",
       "<tr><td>39628256852317379</td><td>23338</td><td>63</td><td>234.874346595437</td><td>19.700467453856458</td><td>8599</td><td>main</td><td>bright</td><td>0.04568205634248944</td><td>2.8071279188846497e-06</td><td>0</td><td>7882.064212948084</td><td>4443.821897834539</td><td>234.87436146772416</td><td>19.70047756527694</td><td>0.0</td><td>0.0</td><td>GALAXY</td></tr>\n",
       "<tr><td>2389593684967424</td><td>21518</td><td>117</td><td>138.9339158131922</td><td>2.6959334200806055</td><td>27323</td><td>main</td><td>bright</td><td>1.5960374163092188</td><td>9.366331008435588e-05</td><td>4</td><td>7623.378042399883</td><td>6.118723854422569</td><td>138.93390373573936</td><td>2.6959370091718298</td><td>0.0</td><td>0.0</td><td>GALAXY</td></tr>\n",
       "<tr><td>2389593684967425</td><td>26214</td><td>117</td><td>138.9368879478137</td><td>2.6935909957186372</td><td>27323</td><td>main</td><td>bright</td><td>0.08942078671796488</td><td>1.0273799353872714e-05</td><td>0</td><td>7902.0156349390745</td><td>294.705438926816</td><td>138.93687967063846</td><td>2.6935873758027844</td><td>0.0</td><td>0.0</td><td>GALAXY</td></tr>\n",
       "<tr><td>39627830354515481</td><td>21127</td><td>55</td><td>199.73062047638814</td><td>1.7262730115560398</td><td>26207</td><td>main</td><td>bright</td><td>0.04400163730894845</td><td>1.1047814158155657e-05</td><td>0</td><td>7714.089348549023</td><td>283.64358800509945</td><td>199.73062045924848</td><td>1.7262692502377248</td><td>0.0</td><td>0.0</td><td>GALAXY</td></tr>\n",
       "<tr><td>2843346783436804</td><td>9970</td><td>72</td><td>209.15575388432043</td><td>36.24869291851742</td><td>10539</td><td>main</td><td>dark</td><td>0.016856102534100744</td><td>4.4244053473318645e-06</td><td>0</td><td>7768.998462248594</td><td>1006.8551520816982</td><td>209.15575956556881</td><td>36.24869526808592</td><td>0.0</td><td>0.0</td><td>GALAXY</td></tr>\n",
       "<tr><td>39633067991634288</td><td>24284</td><td>38</td><td>211.66203166014844</td><td>39.52724032794356</td><td>10641</td><td>main</td><td>bright</td><td>0.08098988652477448</td><td>3.7732957926380864e-06</td><td>0</td><td>8087.784966945648</td><td>2962.2444219589233</td><td>211.66201333959464</td><td>39.52724023506485</td><td>0.0</td><td>0.0</td><td>GALAXY</td></tr>\n",
       "<tr><td>39627830354515371</td><td>6837</td><td>55</td><td>199.726541162706</td><td>1.7296309194137403</td><td>26207</td><td>main</td><td>dark</td><td>1.6261532001485701</td><td>0.00012467137451483863</td><td>0</td><td>8828.833524018526</td><td>14.32454913854599</td><td>199.72655403867793</td><td>1.7296380193550405</td><td>0.0</td><td>7.993606e-13</td><td>GALAXY</td></tr>\n",
       "<tr><td>39628486012306751</td><td>21571</td><td>79</td><td>183.5324611925942</td><td>30.176742900211618</td><td>28518</td><td>main</td><td>bright</td><td>0.04091991319242764</td><td>4.096083603506295e-06</td><td>0</td><td>8673.57037653029</td><td>3753.3910039848706</td><td>183.53245662168877</td><td>30.17673816455617</td><td>0.0</td><td>0.0</td><td>GALAXY</td></tr>\n",
       "<tr><td>39627853494489279</td><td>5665</td><td>117</td><td>138.93574221045256</td><td>2.6975791844765893</td><td>27323</td><td>main</td><td>dark</td><td>3.139397461725006</td><td>0.0004831346458547223</td><td>0</td><td>8367.303050875664</td><td>1308.6437120492374</td><td>138.93575103038006</td><td>2.6975928009116568</td><td>0.05043128</td><td>0.10635645</td><td>QSO</td></tr>\n",
       "<tr><td>39627853494489279</td><td>8800</td><td>117</td><td>138.93574221045256</td><td>2.6975791844765893</td><td>27323</td><td>main</td><td>dark</td><td>3.139397461725006</td><td>0.0004831346458547223</td><td>0</td><td>8367.303050875664</td><td>1308.6437120492374</td><td>138.93575103038006</td><td>2.6975928009116568</td><td>0.05043128</td><td>0.10635645</td><td>QSO</td></tr>\n",
       "<tr><td>39627853494489279</td><td>11936</td><td>117</td><td>138.93574221045256</td><td>2.6975791844765893</td><td>27323</td><td>main</td><td>dark</td><td>3.139397461725006</td><td>0.0004831346458547223</td><td>0</td><td>8367.303050875664</td><td>1308.6437120492374</td><td>138.93575103038006</td><td>2.6975928009116568</td><td>0.05043128</td><td>0.10635645</td><td>QSO</td></tr>\n",
       "<tr><td>39627921307996157</td><td>7384</td><td>2</td><td>228.3806418418644</td><td>5.422499451984928</td><td>8220</td><td>main</td><td>dark</td><td>0.07989787683241535</td><td>4.729449010179265e-06</td><td>0</td><td>8043.935251712799</td><td>1246.6044096946716</td><td>228.38061655160766</td><td>5.422505770466965</td><td>0.0</td><td>0.0</td><td>GALAXY</td></tr>\n",
       "<tr><td>39633016200368391</td><td>20924</td><td>53</td><td>255.6410175635765</td><td>36.68179095091098</td><td>9516</td><td>main</td><td>bright</td><td>0.09916478631030631</td><td>1.7484163319682923e-05</td><td>0</td><td>8294.351044848561</td><td>1088.4396292525344</td><td>255.64104071812517</td><td>36.68177917728518</td><td>0.0</td><td>0.0</td><td>GALAXY</td></tr>\n",
       "</table></div>"
      ],
      "text/plain": [
       "<Table length=21>\n",
       "     TARGETID     TILEID SGA_ID ... STD_FIBER_RA STD_FIBER_DEC SPECTYPE\n",
       "      int64       int64  int64  ...   float64       float64     bytes6 \n",
       "----------------- ------ ------ ... ------------ ------------- --------\n",
       " 2389570544992262  22682     55 ...          0.0           0.0   GALAXY\n",
       " 2389570544992261  24243     55 ...  0.036127813   0.024903476   GALAXY\n",
       " 2389570544992261  25837     55 ...  0.036127813   0.024903476   GALAXY\n",
       "39627853494489271  23090    117 ...          0.0           0.0   GALAXY\n",
       "39628040673694224  11467     74 ...          0.0           0.0      QSO\n",
       "39628040673694353  20123     74 ...          0.0           0.0   GALAXY\n",
       "39627956930219105  21128      3 ...          0.0           0.0   GALAXY\n",
       " 2390410135601155  22720     38 ...          0.0           0.0   GALAXY\n",
       "39628256852317379  23338     63 ...          0.0           0.0   GALAXY\n",
       " 2389593684967424  21518    117 ...          0.0           0.0   GALAXY\n",
       " 2389593684967425  26214    117 ...          0.0           0.0   GALAXY\n",
       "39627830354515481  21127     55 ...          0.0           0.0   GALAXY\n",
       " 2843346783436804   9970     72 ...          0.0           0.0   GALAXY\n",
       "39633067991634288  24284     38 ...          0.0           0.0   GALAXY\n",
       "39627830354515371   6837     55 ...          0.0  7.993606e-13   GALAXY\n",
       "39628486012306751  21571     79 ...          0.0           0.0   GALAXY\n",
       "39627853494489279   5665    117 ...   0.05043128    0.10635645      QSO\n",
       "39627853494489279   8800    117 ...   0.05043128    0.10635645      QSO\n",
       "39627853494489279  11936    117 ...   0.05043128    0.10635645      QSO\n",
       "39627921307996157   7384      2 ...          0.0           0.0   GALAXY\n",
       "39633016200368391  20924     53 ...          0.0           0.0   GALAXY"
      ]
     },
     "execution_count": 23,
     "metadata": {},
     "output_type": "execute_result"
    }
   ],
   "source": [
    "iron_test"
   ]
  },
  {
   "cell_type": "code",
   "execution_count": 10,
   "id": "ce043467-99ec-4107-b9cf-f7dafce9e462",
   "metadata": {},
   "outputs": [
    {
     "name": "stdout",
     "output_type": "stream",
     "text": [
      "1\n",
      "temp table created\n",
      "temp table filled\n",
      "temp table indexed\n",
      "SELECT f.targetid, f.tileid, pv.sgaid, f.target_ra, f.target_dec, zp.healpix, zp.survey, zp.program,\n",
      "                        zp.z, zp.zerr, zp.zwarn, zp.chi2, zp.deltachi2, zp.mean_fiber_ra, zp.mean_fiber_dec,\n",
      "                        zp.std_fiber_ra, zp.std_fiber_dec, zp.spectype\n",
      "                        FROM pv, iron.fiberassign AS f\n",
      "                        JOIN iron.zpix AS zp ON f.targetid = zp.targetid\n",
      "                        WHERE f.target_ra < (pv.ra + pv.major) AND f.target_ra > (pv.ra - pv.major) AND f.target_dec < (pv.dec + pv.major) AND f.target_dec > (pv.dec - pv.major);\n",
      "done --  0:00:52.520976\n"
     ]
    }
   ],
   "source": [
    "tuples = [tuple(x) for x in sga_params[:20]]\n",
    "START = datetime.datetime.now()\n",
    "iron_test2 = get_rot_curve_targets_temp_table('iron', tuples, verbose=True)\n",
    "print('done -- ', datetime.datetime.now() - START)"
   ]
  },
  {
   "cell_type": "code",
   "execution_count": 11,
   "id": "a8f16d95-45b2-4a63-b45e-7f896df31a8e",
   "metadata": {},
   "outputs": [
    {
     "data": {
      "text/html": [
       "<div><i>Table length=21</i>\n",
       "<table id=\"table139779995577136\" class=\"table-striped table-bordered table-condensed\">\n",
       "<thead><tr><th>TARGETID</th><th>TILEID</th><th>SGA_ID</th><th>TARGET_RA</th><th>TARGET_DEC</th><th>HEALPIX</th><th>SURVEY</th><th>PROGRAM</th><th>Z</th><th>ZERR</th><th>ZWARN</th><th>CHI2</th><th>DELTACHI2</th><th>MEAN_FIBER_RA</th><th>MEAN_FIBER_DEC</th><th>STD_FIBER_RA</th><th>STD_FIBER_DEC</th><th>SPECTYPE</th></tr></thead>\n",
       "<thead><tr><th>int64</th><th>int64</th><th>int64</th><th>float64</th><th>float64</th><th>int64</th><th>bytes4</th><th>bytes6</th><th>float64</th><th>float64</th><th>int64</th><th>float64</th><th>float64</th><th>float64</th><th>float64</th><th>float64</th><th>float64</th><th>bytes6</th></tr></thead>\n",
       "<tr><td>2389570544992262</td><td>22682</td><td>55</td><td>199.7311685666833</td><td>1.7247142071276316</td><td>26207</td><td>main</td><td>bright</td><td>0.04422788661807545</td><td>4.938238651323468e-06</td><td>0</td><td>7728.932424351573</td><td>987.540528729558</td><td>199.73116845226696</td><td>1.724758061816374</td><td>0.0</td><td>0.0</td><td>GALAXY</td></tr>\n",
       "<tr><td>2389570544992261</td><td>24243</td><td>55</td><td>199.73007238519418</td><td>1.7278318158265755</td><td>26207</td><td>main</td><td>bright</td><td>0.043724082715951046</td><td>2.0002041200493262e-05</td><td>0</td><td>7557.245729940012</td><td>87.38531109504402</td><td>199.7300746094984</td><td>1.7278269937409718</td><td>0.036127813</td><td>0.024903476</td><td>GALAXY</td></tr>\n",
       "<tr><td>2389570544992261</td><td>25837</td><td>55</td><td>199.73007238519418</td><td>1.7278318158265755</td><td>26207</td><td>main</td><td>bright</td><td>0.043724082715951046</td><td>2.0002041200493262e-05</td><td>0</td><td>7557.245729940012</td><td>87.38531109504402</td><td>199.7300746094984</td><td>1.7278269937409718</td><td>0.036127813</td><td>0.024903476</td><td>GALAXY</td></tr>\n",
       "<tr><td>39627853494489271</td><td>23090</td><td>117</td><td>138.9354018819327</td><td>2.69476220880469</td><td>27323</td><td>main</td><td>bright</td><td>0.09003983347898953</td><td>2.775517735062233e-05</td><td>0</td><td>8013.983035285026</td><td>896.4243823117577</td><td>138.93543745285615</td><td>2.694729924956867</td><td>0.0</td><td>0.0</td><td>GALAXY</td></tr>\n",
       "<tr><td>39628040673694224</td><td>11467</td><td>74</td><td>208.88083454985727</td><td>10.457524716375113</td><td>26481</td><td>main</td><td>dark</td><td>2.5355102189406797</td><td>0.00036370605063924973</td><td>0</td><td>7893.974747925997</td><td>547.2669170121662</td><td>208.88083079857302</td><td>10.457523811578822</td><td>0.0</td><td>0.0</td><td>QSO</td></tr>\n",
       "<tr><td>39628040673694353</td><td>20123</td><td>74</td><td>208.88595452038825</td><td>10.45038023846306</td><td>26481</td><td>main</td><td>bright</td><td>0.03812963730157509</td><td>3.612668794954218e-06</td><td>0</td><td>7591.736131072044</td><td>1762.430552124977</td><td>208.88589635304947</td><td>10.450355697007257</td><td>0.0</td><td>0.0</td><td>GALAXY</td></tr>\n",
       "<tr><td>39627956930219105</td><td>21128</td><td>3</td><td>202.5446879281934</td><td>6.937716745448383</td><td>26419</td><td>main</td><td>bright</td><td>0.07405882697719757</td><td>5.507764891123595e-06</td><td>0</td><td>8900.472087532282</td><td>4056.44409406418</td><td>202.54466847991569</td><td>6.937713621590798</td><td>0.0</td><td>0.0</td><td>GALAXY</td></tr>\n",
       "<tr><td>2390410135601155</td><td>22720</td><td>38</td><td>211.66381961968403</td><td>39.527428957913536</td><td>10641</td><td>main</td><td>bright</td><td>0.08058017670098534</td><td>8.151790687169398e-06</td><td>0</td><td>7811.470571607351</td><td>355.43456426262856</td><td>211.66383615121413</td><td>39.52744095540257</td><td>0.0</td><td>0.0</td><td>GALAXY</td></tr>\n",
       "<tr><td>39628256852317379</td><td>23338</td><td>63</td><td>234.874346595437</td><td>19.700467453856458</td><td>8599</td><td>main</td><td>bright</td><td>0.04568205634248944</td><td>2.8071279188846497e-06</td><td>0</td><td>7882.064212948084</td><td>4443.821897834539</td><td>234.87436146772416</td><td>19.70047756527694</td><td>0.0</td><td>0.0</td><td>GALAXY</td></tr>\n",
       "<tr><td>2389593684967424</td><td>21518</td><td>117</td><td>138.9339158131922</td><td>2.6959334200806055</td><td>27323</td><td>main</td><td>bright</td><td>1.5960374163092188</td><td>9.366331008435588e-05</td><td>4</td><td>7623.378042399883</td><td>6.118723854422569</td><td>138.93390373573936</td><td>2.6959370091718298</td><td>0.0</td><td>0.0</td><td>GALAXY</td></tr>\n",
       "<tr><td>2389593684967425</td><td>26214</td><td>117</td><td>138.9368879478137</td><td>2.6935909957186372</td><td>27323</td><td>main</td><td>bright</td><td>0.08942078671796488</td><td>1.0273799353872714e-05</td><td>0</td><td>7902.0156349390745</td><td>294.705438926816</td><td>138.93687967063846</td><td>2.6935873758027844</td><td>0.0</td><td>0.0</td><td>GALAXY</td></tr>\n",
       "<tr><td>39627830354515481</td><td>21127</td><td>55</td><td>199.73062047638814</td><td>1.7262730115560398</td><td>26207</td><td>main</td><td>bright</td><td>0.04400163730894845</td><td>1.1047814158155657e-05</td><td>0</td><td>7714.089348549023</td><td>283.64358800509945</td><td>199.73062045924848</td><td>1.7262692502377248</td><td>0.0</td><td>0.0</td><td>GALAXY</td></tr>\n",
       "<tr><td>2843346783436804</td><td>9970</td><td>72</td><td>209.15575388432043</td><td>36.24869291851742</td><td>10539</td><td>main</td><td>dark</td><td>0.016856102534100744</td><td>4.4244053473318645e-06</td><td>0</td><td>7768.998462248594</td><td>1006.8551520816982</td><td>209.15575956556881</td><td>36.24869526808592</td><td>0.0</td><td>0.0</td><td>GALAXY</td></tr>\n",
       "<tr><td>39633067991634288</td><td>24284</td><td>38</td><td>211.66203166014844</td><td>39.52724032794356</td><td>10641</td><td>main</td><td>bright</td><td>0.08098988652477448</td><td>3.7732957926380864e-06</td><td>0</td><td>8087.784966945648</td><td>2962.2444219589233</td><td>211.66201333959464</td><td>39.52724023506485</td><td>0.0</td><td>0.0</td><td>GALAXY</td></tr>\n",
       "<tr><td>39627830354515371</td><td>6837</td><td>55</td><td>199.726541162706</td><td>1.7296309194137403</td><td>26207</td><td>main</td><td>dark</td><td>1.6261532001485701</td><td>0.00012467137451483863</td><td>0</td><td>8828.833524018526</td><td>14.32454913854599</td><td>199.72655403867793</td><td>1.7296380193550405</td><td>0.0</td><td>7.993606e-13</td><td>GALAXY</td></tr>\n",
       "<tr><td>39628486012306751</td><td>21571</td><td>79</td><td>183.5324611925942</td><td>30.176742900211618</td><td>28518</td><td>main</td><td>bright</td><td>0.04091991319242764</td><td>4.096083603506295e-06</td><td>0</td><td>8673.57037653029</td><td>3753.3910039848706</td><td>183.53245662168877</td><td>30.17673816455617</td><td>0.0</td><td>0.0</td><td>GALAXY</td></tr>\n",
       "<tr><td>39627853494489279</td><td>5665</td><td>117</td><td>138.93574221045256</td><td>2.6975791844765893</td><td>27323</td><td>main</td><td>dark</td><td>3.139397461725006</td><td>0.0004831346458547223</td><td>0</td><td>8367.303050875664</td><td>1308.6437120492374</td><td>138.93575103038006</td><td>2.6975928009116568</td><td>0.05043128</td><td>0.10635645</td><td>QSO</td></tr>\n",
       "<tr><td>39627853494489279</td><td>8800</td><td>117</td><td>138.93574221045256</td><td>2.6975791844765893</td><td>27323</td><td>main</td><td>dark</td><td>3.139397461725006</td><td>0.0004831346458547223</td><td>0</td><td>8367.303050875664</td><td>1308.6437120492374</td><td>138.93575103038006</td><td>2.6975928009116568</td><td>0.05043128</td><td>0.10635645</td><td>QSO</td></tr>\n",
       "<tr><td>39627853494489279</td><td>11936</td><td>117</td><td>138.93574221045256</td><td>2.6975791844765893</td><td>27323</td><td>main</td><td>dark</td><td>3.139397461725006</td><td>0.0004831346458547223</td><td>0</td><td>8367.303050875664</td><td>1308.6437120492374</td><td>138.93575103038006</td><td>2.6975928009116568</td><td>0.05043128</td><td>0.10635645</td><td>QSO</td></tr>\n",
       "<tr><td>39627921307996157</td><td>7384</td><td>2</td><td>228.3806418418644</td><td>5.422499451984928</td><td>8220</td><td>main</td><td>dark</td><td>0.07989787683241535</td><td>4.729449010179265e-06</td><td>0</td><td>8043.935251712799</td><td>1246.6044096946716</td><td>228.38061655160766</td><td>5.422505770466965</td><td>0.0</td><td>0.0</td><td>GALAXY</td></tr>\n",
       "<tr><td>39633016200368391</td><td>20924</td><td>53</td><td>255.6410175635765</td><td>36.68179095091098</td><td>9516</td><td>main</td><td>bright</td><td>0.09916478631030631</td><td>1.7484163319682923e-05</td><td>0</td><td>8294.351044848561</td><td>1088.4396292525344</td><td>255.64104071812517</td><td>36.68177917728518</td><td>0.0</td><td>0.0</td><td>GALAXY</td></tr>\n",
       "</table></div>"
      ],
      "text/plain": [
       "<Table length=21>\n",
       "     TARGETID     TILEID SGA_ID ... STD_FIBER_RA STD_FIBER_DEC SPECTYPE\n",
       "      int64       int64  int64  ...   float64       float64     bytes6 \n",
       "----------------- ------ ------ ... ------------ ------------- --------\n",
       " 2389570544992262  22682     55 ...          0.0           0.0   GALAXY\n",
       " 2389570544992261  24243     55 ...  0.036127813   0.024903476   GALAXY\n",
       " 2389570544992261  25837     55 ...  0.036127813   0.024903476   GALAXY\n",
       "39627853494489271  23090    117 ...          0.0           0.0   GALAXY\n",
       "39628040673694224  11467     74 ...          0.0           0.0      QSO\n",
       "39628040673694353  20123     74 ...          0.0           0.0   GALAXY\n",
       "39627956930219105  21128      3 ...          0.0           0.0   GALAXY\n",
       " 2390410135601155  22720     38 ...          0.0           0.0   GALAXY\n",
       "39628256852317379  23338     63 ...          0.0           0.0   GALAXY\n",
       " 2389593684967424  21518    117 ...          0.0           0.0   GALAXY\n",
       " 2389593684967425  26214    117 ...          0.0           0.0   GALAXY\n",
       "39627830354515481  21127     55 ...          0.0           0.0   GALAXY\n",
       " 2843346783436804   9970     72 ...          0.0           0.0   GALAXY\n",
       "39633067991634288  24284     38 ...          0.0           0.0   GALAXY\n",
       "39627830354515371   6837     55 ...          0.0  7.993606e-13   GALAXY\n",
       "39628486012306751  21571     79 ...          0.0           0.0   GALAXY\n",
       "39627853494489279   5665    117 ...   0.05043128    0.10635645      QSO\n",
       "39627853494489279   8800    117 ...   0.05043128    0.10635645      QSO\n",
       "39627853494489279  11936    117 ...   0.05043128    0.10635645      QSO\n",
       "39627921307996157   7384      2 ...          0.0           0.0   GALAXY\n",
       "39633016200368391  20924     53 ...          0.0           0.0   GALAXY"
      ]
     },
     "execution_count": 11,
     "metadata": {},
     "output_type": "execute_result"
    }
   ],
   "source": [
    "iron_test2"
   ]
  },
  {
   "cell_type": "code",
   "execution_count": 20,
   "id": "9ac5a8d8-34b1-48f1-af59-94298b22df6f",
   "metadata": {},
   "outputs": [
    {
     "name": "stdout",
     "output_type": "stream",
     "text": [
      "/pscratch/sd/n/nravi/pv_rot_curves/cache/2.jpg exists.\n",
      "Get https://www.legacysurvey.org/viewer/cutout.jpg?ra=202.5444619671207&dec=6.9346244322326624&zoom=14&layer=ls-dr9&size=253&sga\n",
      "Get https://www.legacysurvey.org/viewer/cutout.jpg?ra=211.66203166014844&dec=39.52724032794356&zoom=14&layer=ls-dr9&size=191&sga\n",
      "Get https://www.legacysurvey.org/viewer/cutout.jpg?ra=255.6410175635765&dec=36.68179095091098&zoom=14&layer=ls-dr9&size=174&sga\n",
      "Get https://www.legacysurvey.org/viewer/cutout.jpg?ra=199.73062047638814&dec=1.7262730115560398&zoom=14&layer=ls-dr9&size=227&sga\n",
      "Get https://www.legacysurvey.org/viewer/cutout.jpg?ra=234.87534259414386&dec=19.697185738728333&zoom=14&layer=ls-dr9&size=297&sga\n",
      "Get https://www.legacysurvey.org/viewer/cutout.jpg?ra=209.15740662967733&dec=36.2461329967411&zoom=14&layer=ls-dr9&size=396&sga\n",
      "Get https://www.legacysurvey.org/viewer/cutout.jpg?ra=208.88595452038825&dec=10.45038023846306&zoom=14&layer=ls-dr9&size=429&sga\n",
      "Get https://www.legacysurvey.org/viewer/cutout.jpg?ra=183.5324611925942&dec=30.176742900211618&zoom=14&layer=ls-dr9&size=324&sga\n",
      "Get https://www.legacysurvey.org/viewer/cutout.jpg?ra=138.9354018819327&dec=2.69476220880469&zoom=14&layer=ls-dr9&size=259&sga\n"
     ]
    },
    {
     "data": {
      "text/plain": [
       "<Figure size 500x500 with 0 Axes>"
      ]
     },
     "metadata": {},
     "output_type": "display_data"
    },
    {
     "data": {
      "text/plain": [
       "<Figure size 500x500 with 0 Axes>"
      ]
     },
     "metadata": {},
     "output_type": "display_data"
    },
    {
     "data": {
      "text/plain": [
       "<Figure size 500x500 with 0 Axes>"
      ]
     },
     "metadata": {},
     "output_type": "display_data"
    },
    {
     "data": {
      "text/plain": [
       "<Figure size 500x500 with 0 Axes>"
      ]
     },
     "metadata": {},
     "output_type": "display_data"
    },
    {
     "data": {
      "text/plain": [
       "<Figure size 500x500 with 0 Axes>"
      ]
     },
     "metadata": {},
     "output_type": "display_data"
    },
    {
     "data": {
      "text/plain": [
       "<Figure size 500x500 with 0 Axes>"
      ]
     },
     "metadata": {},
     "output_type": "display_data"
    },
    {
     "data": {
      "text/plain": [
       "<Figure size 500x500 with 0 Axes>"
      ]
     },
     "metadata": {},
     "output_type": "display_data"
    },
    {
     "data": {
      "text/plain": [
       "<Figure size 500x500 with 0 Axes>"
      ]
     },
     "metadata": {},
     "output_type": "display_data"
    },
    {
     "data": {
      "text/plain": [
       "<Figure size 500x500 with 0 Axes>"
      ]
     },
     "metadata": {},
     "output_type": "display_data"
    },
    {
     "data": {
      "text/plain": [
       "<Figure size 500x500 with 0 Axes>"
      ]
     },
     "metadata": {},
     "output_type": "display_data"
    }
   ],
   "source": [
    "# targ_list = tf_mastertable[tf_mastertable['SGA_ID'] == sga_id]\n",
    "for sga_id in np.unique(iron_test2['SGA_ID']):\n",
    "\n",
    "    sga_row = sga[sga_dict[sga_id]]\n",
    "\n",
    "    ra, dec = sga_row['RA', 'DEC']\n",
    "    \n",
    "    # D26 in arcmin\n",
    "    d26 = sga_row['D26']\n",
    "    z = sga_row['Z_LEDA']\n",
    "    \n",
    "    npix = np.minimum(int(2 * d26*60/0.262), 512)\n",
    "    # npix = int(2 * d26*60/0.262)\n",
    "    \n",
    "    cache_dir = '/pscratch/sd/n/nravi/pv_rot_curves/cache/'\n",
    "    \n",
    "    img_file, wcs = get_cutout(sga_id, ra, dec, size=npix, cache_dir=cache_dir,verbose=True)\n",
    "    img = mpl.image.imread(img_file)\n",
    "    \n",
    "    fig1 = plt.figure(figsize=(5,5))\n",
    "    \n",
    "    ax = fig1.add_subplot(111, projection=wcs)\n",
    "    ax.imshow(np.flip(img, axis=0))\n",
    "    ax.set(xlabel='ra', ylabel='dec')\n",
    "    ax.text(int(0.02*npix), int(0.85*npix), 'SGA_ID: {}\\n$z={{{:.4f}}}$'.format(sga_id, z), fontsize=9, color='yellow')\n",
    "    overlay = ax.get_coords_overlay('icrs')\n",
    "    overlay.grid(color='white', ls='dotted');\n",
    "    \n",
    "    # Add the location of the DESI fibers.\n",
    "    # SDSS fibers are 2\" diameter, DESI is 107 um with 70 um/\" plate scale.\n",
    "    r1 = SphericalCircle((ra * u.deg, dec * u.deg), (107./70) * u.arcsec,\n",
    "                         edgecolor='black', facecolor='none', alpha=0.8, lw=3,\n",
    "                         transform=ax.get_transform('icrs'))\n",
    "    r2 = SphericalCircle((ra * u.deg, dec * u.deg), (107./70) * u.arcsec,\n",
    "                         edgecolor='red', facecolor='none', alpha=0.8, lw=2,\n",
    "                         transform=ax.get_transform('icrs'))\n",
    "    ax.add_patch(r1)\n",
    "    ax.add_patch(r2)\n",
    "\n",
    "    targs = iron_test2[iron_test2['SGA_ID'] == sga_id]\n",
    "    \n",
    "    for targ in targs:\n",
    "        ra, dec = targ['TARGET_RA'], targ['TARGET_DEC']\n",
    "        \n",
    "        edgecolor2 = 'orange'\n",
    "    \n",
    "        # Add the location of the DESI fibers.\n",
    "        # SDSS fibers are 2\" diameter, DESI is 107 um with 70 um/\" plate scale.\n",
    "        r1 = SphericalCircle((ra * u.deg, dec * u.deg), (107./70) * u.arcsec,\n",
    "                             edgecolor='lightcoral', facecolor='none', alpha=1, lw=3,\n",
    "                             transform=ax.get_transform('icrs'))\n",
    "        r2 = SphericalCircle((ra * u.deg, dec * u.deg), (107./70) * u.arcsec,\n",
    "                             edgecolor=edgecolor2, facecolor='none', alpha=0.8, lw=2,\n",
    "                             transform=ax.get_transform('icrs'))\n",
    "        ax.add_patch(r1)\n",
    "        ax.add_patch(r2)\n",
    "        \n",
    "        ax.text(ra, dec, str(targ['TARGETID']), transform=ax.get_transform('icrs'), color='green', fontsize=6)\n",
    "    \n",
    "    # fig1.subplots_adjust(top=0.85, right=0.85, bottom=0.15, left=0.15)\n",
    "    fig1.savefig(cache_dir + str(sga_id) + '.jpg')\n",
    "    fig1.clear()"
   ]
  },
  {
   "cell_type": "code",
   "execution_count": 12,
   "id": "60ae745a-2355-4e07-a150-f175a5a9e039",
   "metadata": {},
   "outputs": [],
   "source": [
    "def get_cutout(SGA_ID, ra, dec, size, cache_dir, verbose=False):\n",
    "    '''Grab and cache legacy survey cutouts.\n",
    "    \n",
    "    Parameters\n",
    "    ----------\n",
    "    SGA_ID : int\n",
    "        SGA ID for galaxy.\n",
    "    ra : float\n",
    "        Right ascension (degrees).\n",
    "    dec : float\n",
    "        Declination (degrees).\n",
    "    size : float\n",
    "        size of cutout.\n",
    "    cache_dir : string\n",
    "        cache location\n",
    "    verbose : bool\n",
    "        Add some status messages if true.\n",
    "        \n",
    "    Returns\n",
    "    -------\n",
    "    img_name : str\n",
    "        Name of JPG cutout file written after query.\n",
    "    w : astropy.wcs.WCS\n",
    "        World coordinate system for the image.\n",
    "    '''\n",
    "    \n",
    "    # Either load an existing image or download a cutout.\n",
    "    img_name = cache_dir + '{}.jpg'.format(SGA_ID)\n",
    "    \n",
    "    \n",
    "    if os.path.exists(img_name):\n",
    "        if verbose:\n",
    "            print('{} exists.'.format(img_name))\n",
    "\n",
    "    else:\n",
    "        img_url = 'https://www.legacysurvey.org/viewer/cutout.jpg?ra={}&dec={}&zoom=14&layer=ls-dr9&size={}&sga'.format(ra, dec, size)\n",
    "        if verbose:\n",
    "            print('Get {}'.format(img_url))\n",
    "            \n",
    "        with open(img_name, 'wb') as handle: \n",
    "            response = requests.get(img_url, stream=True) \n",
    "            if not response.ok: \n",
    "                print(response) \n",
    "            for block in response.iter_content(1024): \n",
    "                if not block: \n",
    "                    break \n",
    "                handle.write(block)\n",
    "                \n",
    "    # Set up the WCS.\n",
    "    wcs_input_dict = {\n",
    "        'CTYPE1': 'RA---TAN',\n",
    "        'CUNIT1': 'deg',\n",
    "        'CDELT1': -0.262/3600,\n",
    "        'CRPIX1': size/2 + 0.5,\n",
    "        'CRVAL1': ra,\n",
    "        'NAXIS1': size,\n",
    "        'CTYPE2': 'DEC--TAN',\n",
    "        'CUNIT2': 'deg',\n",
    "        'CDELT2': 0.262/3600,\n",
    "        'CRPIX2': size/2 + 0.5,\n",
    "        'CRVAL2': dec,\n",
    "        'NAXIS2': size\n",
    "    }\n",
    "    w = WCS(wcs_input_dict)\n",
    "    \n",
    "    return img_name, w"
   ]
  },
  {
   "cell_type": "code",
   "execution_count": 32,
   "id": "38ebf15f-0055-4de7-9286-ac7eccab7702",
   "metadata": {},
   "outputs": [
    {
     "data": {
      "text/plain": [
       "93.72422222222222"
      ]
     },
     "execution_count": 32,
     "metadata": {},
     "output_type": "execute_result"
    }
   ],
   "source": [
    "(52/20)*len(sga_params) /60 /60 "
   ]
  },
  {
   "cell_type": "code",
   "execution_count": 33,
   "id": "2a601459-45d0-4acb-aeb1-e62dd49fd3e0",
   "metadata": {},
   "outputs": [
    {
     "data": {
      "text/plain": [
       "129772"
      ]
     },
     "execution_count": 33,
     "metadata": {},
     "output_type": "execute_result"
    }
   ],
   "source": [
    "len(sga_params)"
   ]
  },
  {
   "cell_type": "code",
   "execution_count": null,
   "id": "96360465-076e-49d2-9508-2a7677a80e7f",
   "metadata": {},
   "outputs": [],
   "source": []
  }
 ],
 "metadata": {
  "kernelspec": {
   "display_name": "DESI main",
   "language": "python",
   "name": "desi-main"
  },
  "language_info": {
   "codemirror_mode": {
    "name": "ipython",
    "version": 3
   },
   "file_extension": ".py",
   "mimetype": "text/x-python",
   "name": "python",
   "nbconvert_exporter": "python",
   "pygments_lexer": "ipython3",
   "version": "3.10.14"
  }
 },
 "nbformat": 4,
 "nbformat_minor": 5
}
