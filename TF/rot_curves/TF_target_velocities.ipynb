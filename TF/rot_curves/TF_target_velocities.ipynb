{
 "cells": [
  {
   "cell_type": "code",
   "execution_count": 2,
   "id": "24ec26bf-18ca-48f0-ac1b-e8a2c63cf024",
   "metadata": {
    "tags": []
   },
   "outputs": [],
   "source": [
    "# all imports\n",
    "import numpy as np\n",
    "import os\n",
    "import requests\n",
    "from astropy.table import Table, vstack\n",
    "import matplotlib.pyplot as plt\n",
    "from astropy.io import fits\n",
    "from astropy.coordinates import SkyCoord\n",
    "from astropy import units as u\n",
    "from astropy.wcs import WCS\n",
    "import math\n",
    "import matplotlib as mpl\n",
    "from astropy.visualization.wcsaxes import SphericalCircle\n",
    "import pandas as pd"
   ]
  },
  {
   "cell_type": "code",
   "execution_count": 3,
   "id": "35a5617f-99ee-49a1-aba1-45c10a2c3c6a",
   "metadata": {
    "tags": []
   },
   "outputs": [],
   "source": [
    "# define directories\n",
    "data_dir = '/global/cfs/projectdirs/desi/science/td/pv/tfgalaxies/'\n",
    "cache_dir = '/pscratch/sd/j/jjpim/cache/' # my cache path\n",
    "vi_dir = '/pscratch/sd/j/jjpim/visual_inspection/' # vi image path"
   ]
  },
  {
   "cell_type": "code",
   "execution_count": 4,
   "id": "e1dcff62-ac21-4a0e-9a2b-a27e38ef69de",
   "metadata": {
    "tags": []
   },
   "outputs": [
    {
     "data": {
      "text/html": [
       "<div><i>Table length=5</i>\n",
       "<table id=\"table140542579270288\" class=\"table-striped table-bordered table-condensed\">\n",
       "<thead><tr><th>TARGETID</th><th>TARGET_RA</th><th>TARGET_DEC</th><th>HEALPIX</th><th>SURVEY</th><th>Z</th><th>ZERR</th><th>ZWARN</th><th>DELTACHI2</th><th>FILENAME</th><th>PVTYPE</th><th>SGA_ID</th><th>RA</th><th>DEC</th><th>OBS_IN_SV</th><th>SKY_FIBER_DIST</th><th>SKY_FIBER_DIST_R26</th><th>ROT_CURVE</th><th>EOA</th></tr></thead>\n",
       "<thead><tr><th>int64</th><th>float64</th><th>float64</th><th>int64</th><th>bytes3</th><th>float64</th><th>float64</th><th>int64</th><th>float64</th><th>bytes63</th><th>bytes3</th><th>int64</th><th>float64</th><th>float64</th><th>float64</th><th>float64</th><th>float64</th><th>float64</th><th>float64</th></tr></thead>\n",
       "<tr><td>1079550234591232</td><td>194.390863195343</td><td>27.5157211790145</td><td>10378</td><td>sv3</td><td>1.1235686466514</td><td>7.31685779475115e-05</td><td>4</td><td>3.28414569795132</td><td>fuji/healpix/sv3/bright/103/10378/redrock-sv3-bright-10378.fits</td><td>EXT</td><td>662902</td><td>194.39086319534337</td><td>27.51572117901454</td><td>1.0</td><td>0.03927420444753712</td><td>1.0000000170652443</td><td>0.0</td><td>0.0</td></tr>\n",
       "<tr><td>1092744374124544</td><td>194.390863195343</td><td>27.5157211790145</td><td>10378</td><td>sv3</td><td>0.686773088332363</td><td>6.9756676262104e-05</td><td>4</td><td>0.786607094109058</td><td>fuji/healpix/sv3/dark/103/10378/redrock-sv3-dark-10378.fits</td><td>EXT</td><td>662902</td><td>194.39086319534337</td><td>27.51572117901454</td><td>1.0</td><td>0.03927420444753712</td><td>1.0000000170652443</td><td>0.0</td><td>0.0</td></tr>\n",
       "<tr><td>1092744374124546</td><td>194.364461113654</td><td>27.5037185881314</td><td>10378</td><td>sv3</td><td>0.0242933923052181</td><td>4.95233472646785e-05</td><td>0</td><td>95.428411073226</td><td>fuji/healpix/sv3/dark/103/10378/redrock-sv3-dark-10378.fits</td><td>EXT</td><td>662902</td><td>194.36446111365385</td><td>27.50371858813136</td><td>1.0</td><td>0.012960487467698754</td><td>0.3300000056318236</td><td>0.0</td><td>0.0</td></tr>\n",
       "<tr><td>1092744369930240</td><td>194.338458724402</td><td>27.4918902690326</td><td>10378</td><td>sv3</td><td>0.0264170223697961</td><td>0.00010139452689994</td><td>0</td><td>9.53278421035066</td><td>fuji/healpix/sv3/dark/103/10378/redrock-sv3-dark-10378.fits</td><td>EXT</td><td>662902</td><td>194.33845872440244</td><td>27.491890269032595</td><td>1.0</td><td>0.012960487467685656</td><td>0.33000000563149007</td><td>0.0</td><td>0.0</td></tr>\n",
       "<tr><td>1092744374124545</td><td>194.377858465028</td><td>27.5098100780282</td><td>10378</td><td>sv3</td><td>0.211332646769145</td><td>6.68535116703737e-05</td><td>4</td><td>3.73989077657461</td><td>fuji/healpix/sv3/dark/103/10378/redrock-sv3-dark-10378.fits</td><td>EXT</td><td>662902</td><td>194.3778584650283</td><td>27.509810078028195</td><td>1.0</td><td>0.026313716979861984</td><td>0.6700000114340222</td><td>0.0</td><td>0.0</td></tr>\n",
       "</table></div>"
      ],
      "text/plain": [
       "<Table length=5>\n",
       "    TARGETID        TARGET_RA        TARGET_DEC    ... ROT_CURVE   EOA  \n",
       "     int64           float64          float64      ...  float64  float64\n",
       "---------------- ---------------- ---------------- ... --------- -------\n",
       "1079550234591232 194.390863195343 27.5157211790145 ...       0.0     0.0\n",
       "1092744374124544 194.390863195343 27.5157211790145 ...       0.0     0.0\n",
       "1092744374124546 194.364461113654 27.5037185881314 ...       0.0     0.0\n",
       "1092744369930240 194.338458724402 27.4918902690326 ...       0.0     0.0\n",
       "1092744374124545 194.377858465028 27.5098100780282 ...       0.0     0.0"
      ]
     },
     "execution_count": 4,
     "metadata": {},
     "output_type": "execute_result"
    }
   ],
   "source": [
    "# load updated fuji table\n",
    "tf_fuji = Table.read(data_dir + 'SV/desi_pv_tf_fuji_healpix_rotcurve_EOA_VI.fits') \n",
    "tf_fuji[:5]"
   ]
  },
  {
   "cell_type": "code",
   "execution_count": 5,
   "id": "47c12e3a-2f98-40a0-9d83-bd791d75ff19",
   "metadata": {
    "tags": []
   },
   "outputs": [
    {
     "data": {
      "text/html": [
       "<div><i>Table length=5</i>\n",
       "<table id=\"table140543410486672\" class=\"table-striped table-bordered table-condensed\">\n",
       "<thead><tr><th>TARGETID</th><th>TARGET_RA</th><th>TARGET_DEC</th><th>HEALPIX</th><th>SURVEY</th><th>Z</th><th>ZERR</th><th>ZWARN</th><th>DELTACHI2</th><th>FILENAME</th><th>PVTYPE</th><th>SGA_ID</th><th>RA</th><th>DEC</th><th>OBS_IN_SV</th><th>SKY_FIBER_DIST</th><th>SKY_FIBER_DIST_R26</th><th>ROT_CURVE</th><th>EOA</th></tr></thead>\n",
       "<thead><tr><th>int64</th><th>float64</th><th>float64</th><th>int64</th><th>bytes4</th><th>float64</th><th>float64</th><th>int64</th><th>float64</th><th>bytes65</th><th>bytes3</th><th>int64</th><th>float64</th><th>float64</th><th>float64</th><th>float64</th><th>float64</th><th>float64</th><th>float64</th></tr></thead>\n",
       "<tr><td>2852147603439621</td><td>198.369130660983</td><td>36.5372037049171</td><td>10475</td><td>main</td><td>0.815976335547845</td><td>7.38513168100107e-05</td><td>4</td><td>0.128754377365112</td><td>iron/healpix/main/dark/104/10475/redrock-main-dark-10475.fits</td><td>EXT</td><td>649377</td><td>198.36913066098333</td><td>36.537203704917076</td><td>0.0</td><td>0.0567420462925582</td><td>0.599999979158402</td><td>0.0</td><td>1.0</td></tr>\n",
       "<tr><td>2399148812795907</td><td>198.371733180003</td><td>36.4994335406917</td><td>10475</td><td>main</td><td>1.11088784970434</td><td>7.48767797671894e-05</td><td>4</td><td>7.9473560154438</td><td>iron/healpix/main/bright/104/10475/redrock-main-bright-10475.fits</td><td>EXT</td><td>649377</td><td>198.37173318000336</td><td>36.499433540691676</td><td>0.0</td><td>0.09457007715465947</td><td>0.9999999652681886</td><td>0.0</td><td>1.0</td></tr>\n",
       "<tr><td>2399382443917318</td><td>184.845242475328</td><td>49.8157304793777</td><td>10995</td><td>main</td><td>1.14739342108157</td><td>0.000146302276719084</td><td>4</td><td>2.56771463155746</td><td>iron/healpix/main/bright/109/10995/redrock-main-bright-10995.fits</td><td>EXT</td><td>1008911</td><td>184.84524247532795</td><td>49.81573047937771</td><td>0.0</td><td>0.024841917763806447</td><td>0.9999999684347345</td><td>0.0</td><td>0.0</td></tr>\n",
       "<tr><td>2399634072797192</td><td>184.341289722203</td><td>70.8283725474297</td><td>11965</td><td>main</td><td>1.51703376230705</td><td>6.28979649962091e-05</td><td>4</td><td>4.76254060305655</td><td>iron/healpix/main/bright/119/11965/redrock-main-bright-11965.fits</td><td>EXT</td><td>241234</td><td>184.34128972220284</td><td>70.82837254742968</td><td>0.0</td><td>0.026555350833845817</td><td>0.8000000542794348</td><td>0.0</td><td>0.0</td></tr>\n",
       "<tr><td>2852141710442505</td><td>123.256011148025</td><td>36.2652948002806</td><td>6448</td><td>main</td><td>0.00787379494184006</td><td>3.4714052819995e-05</td><td>0</td><td>22.1719104201402</td><td>iron/healpix/main/dark/64/6448/redrock-main-dark-6448.fits</td><td>EXT</td><td>31591</td><td>123.25601114802525</td><td>36.26529480028061</td><td>0.0</td><td>0.015878717350385107</td><td>0.40000000619171416</td><td>0.0</td><td>0.0</td></tr>\n",
       "</table></div>"
      ],
      "text/plain": [
       "<Table length=5>\n",
       "    TARGETID        TARGET_RA        TARGET_DEC    ... ROT_CURVE   EOA  \n",
       "     int64           float64          float64      ...  float64  float64\n",
       "---------------- ---------------- ---------------- ... --------- -------\n",
       "2852147603439621 198.369130660983 36.5372037049171 ...       0.0     1.0\n",
       "2399148812795907 198.371733180003 36.4994335406917 ...       0.0     1.0\n",
       "2399382443917318 184.845242475328 49.8157304793777 ...       0.0     0.0\n",
       "2399634072797192 184.341289722203 70.8283725474297 ...       0.0     0.0\n",
       "2852141710442505 123.256011148025 36.2652948002806 ...       0.0     0.0"
      ]
     },
     "execution_count": 5,
     "metadata": {},
     "output_type": "execute_result"
    }
   ],
   "source": [
    "# load iron table\n",
    "tf_iron = Table.read(data_dir + 'Y1/desi_pv_tf_iron_healpix_rotcurve_EOA_VI.fits')\n",
    "tf_iron[:5]"
   ]
  },
  {
   "cell_type": "code",
   "execution_count": 6,
   "id": "a8f10904-95c9-4de3-b76f-7b1f33980b3d",
   "metadata": {
    "tags": []
   },
   "outputs": [],
   "source": [
    "tf_fuji['VELOCITY']=np.nan\n",
    "tf_fuji['VELOCITY_REL']=np.nan\n",
    "tf_iron['VELOCITY']=np.nan\n",
    "tf_iron['VELOCITY_REL']=np.nan"
   ]
  },
  {
   "cell_type": "code",
   "execution_count": 23,
   "id": "d096152b-02cc-420d-9751-f7bdfa67e49c",
   "metadata": {
    "tags": []
   },
   "outputs": [
    {
     "name": "stdout",
     "output_type": "stream",
     "text": [
      "Maximum value in tf_fuji: 0.173630148670864\n",
      "Maximum value in tf_iron: 1.62543750380985\n"
     ]
    }
   ],
   "source": [
    "# Filter fuji and iron for viable targets\n",
    "filtered_tf_fuji = tf_fuji[tf_fuji['SKY_FIBER_DIST_R26'] < 0.001]\n",
    "filtered_tf_iron = tf_iron[tf_iron['SKY_FIBER_DIST_R26'] < 0.001]\n",
    "filtered_tf_fuji = filtered_tf_fuji[filtered_tf_fuji['ROT_CURVE'] == 1]\n",
    "filtered_tf_iron = filtered_tf_iron[filtered_tf_iron['ROT_CURVE'] == 1]\n",
    "\n",
    "# Find and print the maximum Z value\n",
    "max_value_fuji = filtered_tf_fuji['Z'].max()\n",
    "max_value_iron = filtered_tf_iron['Z'].max()\n",
    "print(\"Maximum value in tf_fuji:\", max_value_fuji)\n",
    "print(\"Maximum value in tf_iron:\", max_value_iron)"
   ]
  },
  {
   "cell_type": "code",
   "execution_count": 24,
   "id": "8d4e9e24-c679-4152-ba9a-628e3b7bf52b",
   "metadata": {
    "tags": []
   },
   "outputs": [
    {
     "name": "stdout",
     "output_type": "stream",
     "text": [
      "[123, 896, 1548, 1583, 1980, 2497, 5732, 5958, 5964, 6443, 8032, 9338, 9519, 9769, 10133, 10325, 10553, 11977, 11998, 12585, 12892, 13851, 13880, 14501, 15005, 16256, 16383, 18191, 19235, 19278, 19682, 20179, 20258, 20886, 21905, 23897, 25100, 25532, 25835, 26866, 26930, 28423, 28642, 29121, 29289, 30149, 31127, 31220, 32406, 32484, 32907, 33662, 34497, 35184, 35712, 36532, 36904, 36913, 37543, 39247, 39919, 42992, 43211, 46327, 50360, 54974, 56757, 57891, 58617, 61908, 71578, 73111, 79898, 81194, 81587, 88963, 90791, 91660, 92403, 92536, 93731, 98148, 98921, 98934, 100987, 102737, 103508, 103535, 104913, 105847, 106536, 107105, 108576, 108893, 109333, 110814, 111102, 113767, 114405, 114489, 115283, 116764, 117242, 117558, 118397, 122260, 122580, 122810, 124900, 125245, 125611, 126630, 127141, 127268, 128130, 128163, 128411, 128944, 129388, 130437, 130766, 133855, 135061, 135235, 136307, 139660, 149009, 149502, 153504, 154215, 156492, 158556, 158910, 159963, 166290, 170351, 171058, 171654, 171794, 171893, 175220, 176736, 180872, 181067, 181413, 184044, 184396, 184464, 185320, 186239, 186328, 186539, 186915, 186928, 186990, 187538, 187558, 188525, 188701, 189685, 189722, 190308, 191275, 191496, 192158, 192164, 192582, 194044, 195106, 195190, 196470, 196592, 196761, 197270, 197493, 197616, 197733, 197978, 198263, 198902, 199038, 199617, 200632, 201080, 201656, 202236, 202341, 202666, 205028, 205611, 206754, 206784, 207500, 207602, 207804, 209429, 209686, 210972, 211078, 212382, 212393, 215988, 217269, 218056, 218773, 218793, 218856, 219256, 219803, 220106, 220668, 222808, 228678, 232178, 232776, 234965, 235556, 237199, 238344, 239878, 241627, 248575, 249933, 254129, 254294, 254532, 255558, 259137, 261113, 262623, 263806, 265633, 266991, 269399, 271167, 271274, 272164, 272562, 273595, 274222, 275455, 276273, 276638, 276864, 277155, 278277, 281021, 281826, 283206, 286003, 286341, 287215, 288715, 289515, 289665, 289743, 291099, 291766, 291879, 294387, 294476, 295336, 295582, 296242, 297380, 298849, 298999, 300446, 300546, 301194, 301507, 301600, 301634, 301666, 302062, 302481, 302483, 302524, 305319, 305831, 306038, 307203, 308345, 309202, 309306, 309378, 309523, 309621, 309943, 317222, 319942, 320783, 326198, 328209, 330166, 330678, 334869, 336179, 337817, 343570, 349027, 349346, 351817, 352154, 352573, 356433, 361309, 362099, 362749, 363344, 363602, 364324, 364410, 364445, 364828, 364929, 365429, 366393, 366661, 368822, 372230, 372957, 373692, 373797, 374961, 375742, 375898, 376259, 376602, 378461, 378842, 379493, 379657, 380429, 381769, 381927, 381933, 383457, 384115, 384420, 384737, 386049, 386179, 386562, 388487, 389177, 390630, 392020, 392237, 392848, 393190, 393511, 394014, 394411, 394680, 395070, 395676, 395974, 396176, 396464, 398058, 398443, 398532, 398533, 399283, 402410, 410241, 411284, 416531, 417339, 419532, 419748, 421541, 425174, 426035, 428732, 430161, 431242, 432294, 434496, 437133, 439486, 448160, 449819, 450278, 450566, 450689, 451363, 451573, 452012, 452270, 453097, 453103, 453336, 453831, 454561, 455272, 455486, 455671, 456811, 457147, 458798, 458919, 459465, 460683, 462867, 463426, 464075, 464382, 465951, 466872, 467582, 468240, 468628, 468768, 469868, 471327, 471893, 472847, 473436, 474614, 475188, 476088, 476142, 477805, 478163, 478276, 478469, 479267, 480755, 481513, 481930, 481956, 482276, 482290, 482353, 482674, 483075, 484490, 484573, 485800, 486394, 487085, 487386, 488031, 488432, 489608, 492092, 493017, 494971, 496687, 498526, 505024, 507499, 516235, 520656, 526710, 531171, 531923, 536742, 537641, 539247, 540744, 541068, 541187, 542437, 542444, 542477, 542960, 544016, 544364, 544419, 544799, 544810, 544871, 544943, 545194, 545858, 547312, 547562, 547778, 548477, 548724, 548848, 549633, 549845, 550280, 550458, 551590, 553352, 556089, 556125, 556334, 557187, 557283, 557760, 560813, 562004, 563294, 564310, 564440, 565399, 566141, 566589, 566771, 566816, 568207, 568664, 569298, 569778, 569887, 570086, 572145, 572924, 574359, 574573, 574808, 575284, 575502, 575605, 576857, 577623, 578031, 578196, 578793, 582248, 582728, 584483, 586736, 586889, 589624, 591308, 591927, 591964, 594839, 597668, 598756, 601190, 602757, 602973, 603910, 607528, 608015, 609020, 610132, 617559, 619846, 621089, 621937, 626242, 629144, 629860, 630029, 630299, 630390, 630537, 631395, 631434, 632204, 632911, 633079, 633227, 633549, 634494, 634846, 635043, 635124, 636105, 637438, 637552, 638386, 640674, 641112, 641578, 642577, 643231, 643477, 643845, 644540, 644721, 644940, 645151, 645470, 645617, 646946, 647332, 647591, 647966, 648038, 649753, 649797, 649960, 649970, 650204, 651096, 651187, 651270, 651840, 652056, 652171, 652329, 653059, 654469, 655132, 656142, 658560, 659599, 660264, 660359, 660385, 662740, 662794, 663150, 663463, 665961, 666016, 671178, 671301, 671533, 674829, 676463, 680665, 682529, 684095, 685832, 687685, 691779, 694251, 694525, 695782, 696291, 696345, 698819, 699534, 706579, 718735, 720338, 720480, 721903, 722142, 725669, 726854, 728327, 729726, 729754, 729931, 730470, 731370, 732784, 733069, 734011, 734091, 735080, 736449, 737183, 738370, 738723, 739981, 740402, 740601, 740621, 740940, 740959, 741308, 741419, 742167, 742370, 743030, 743198, 744650, 745358, 745576, 745588, 745699, 746163, 746268, 746821, 747077, 747166, 747251, 747806, 748600, 748798, 749767, 749780, 752578, 752683, 752812, 753474, 754350, 755117, 755132, 755380, 756475, 756997, 757166, 757313, 758123, 758789, 759003, 759261, 760759, 766672, 773508, 775966, 777198, 782592, 783693, 785335, 785537, 786297, 787370, 788551, 790518, 793633, 794974, 796671, 801183, 804643, 805225, 805780, 806989, 807141, 809421, 810017, 810971, 811069, 811359, 812130, 812357, 812997, 815601, 816706, 816969, 818213, 818402, 819390, 819666, 819754, 820598, 822327, 822328, 822547, 822830, 823149, 823301, 823987, 824225, 824392, 826543, 826632, 826809, 827339, 827949, 828184, 828398, 829285, 829487, 830172, 830909, 831924, 832980, 833737, 833961, 833981, 834049, 834118, 834869, 834932, 834933, 835029, 835116, 836470, 836480, 837120, 838601, 839051, 839766, 841482, 841705, 842385, 842568, 842987, 843065, 843126, 845052, 845585, 846010, 846814, 859764, 865028, 866411, 867518, 867630, 867677, 869208, 878518, 879736, 879816, 882260, 886667, 887433, 888480, 895609, 899217, 899349, 899464, 900049, 900506, 900654, 901663, 901980, 904352, 904357, 905270, 905380, 905512, 905637, 907219, 907960, 907969, 908303, 908541, 908817, 908818, 908978, 910461, 910922, 911046, 911111, 911707, 912402, 913748, 914444, 914909, 914975, 915330, 915738, 916159, 916161, 917084, 917608, 918052, 918100, 919986, 920436, 920806, 921879, 922107, 922159, 923055, 923400, 923955, 924119, 924278, 924911, 925354, 925923, 926258, 926696, 928207, 928810, 928876, 928948, 929547, 929953, 931553, 931747, 932984, 935648, 936814, 936973, 937447, 938397, 938743, 941911, 944836, 945536, 947709, 952082, 953644, 954187, 957521, 957728, 957850, 960228, 960353, 963226, 965930, 967351, 968864, 971635, 972260, 975775, 976853, 977015, 978708, 979168, 984432, 988791, 989040, 989185, 989244, 990280, 991630, 993595, 993798, 995155, 995924, 999535, 1000803, 1001302, 1001483, 1002363, 1003319, 1005119, 1005268, 1008726, 1008731, 1009547, 1009650, 1009928, 1010862, 1010968, 1011290, 1012479, 1013495, 1014111, 1014365, 1014959, 1015063, 1016833, 1016937, 1017269, 1017899, 1018187, 1018616, 1018780, 1020852, 1021462, 1025536, 1026141, 1026176, 1027608, 1031898, 1033344, 1033651, 1034487, 1036188, 1045256, 1049438, 1050173, 1051342, 1051686, 1051707, 1065602, 1066579, 1069553, 1072391, 1072710, 1073430, 1076700, 1079232, 1079746, 1082196, 1083238, 1084538, 1085054, 1085778, 1086321, 1086721, 1086934, 1087039, 1087374, 1088099, 1088948, 1089288, 1089627, 1090275, 1090490, 1090772, 1091806, 1092338, 1093027, 1094411, 1096199, 1096564, 1096601, 1097526, 1098043, 1099764, 1100308, 1100382, 1101283, 1101392, 1103289, 1103477, 1106318, 1106770, 1108466, 1108706, 1108819, 1110803, 1111100, 1111389, 1111436, 1111824, 1112890, 1113419, 1113615, 1115705, 1115992, 1117018, 1118041, 1118343, 1118608, 1118779, 1121441, 1124033, 1124386, 1124947, 1126539, 1129531, 1129951, 1131380, 1131477, 1138461, 1140653, 1140820, 1143335, 1143669, 1143811, 1144453, 1144800, 1146180, 1146354, 1148584, 1150758, 1152853, 1158180, 1158856, 1161160, 1162624, 1163020, 1167691, 1170691, 1171841, 1172128, 1174645, 1175754, 1176247, 1176952, 1177449, 1177538, 1179206, 1179301, 1179377, 1179485, 1181386, 1181446, 1181690, 1181869, 1183399, 1184406, 1184894, 1184912, 1185839, 1186034, 1186911, 1187049, 1187240, 1187960, 1188032, 1188617, 1188926, 1189337, 1190075, 1191523, 1191665, 1193015, 1194588, 1194953, 1194958, 1195008, 1195942, 1196587, 1198325, 1198451, 1198552, 1199020, 1199481, 1199539, 1200678, 1201132, 1201319, 1201434, 1201850, 1201916, 1202458, 1202638, 1203610, 1203786, 1204188, 1204237, 1205063, 1206707, 1206917, 1207104, 1207287, 1209375, 1209774, 1210984, 1213632, 1214378, 1218166, 1219319, 1220328, 1223188, 1224003, 1225398, 1226342, 1231157, 1234964, 1243367, 1244275, 1245146, 1249892, 1253079, 1254154, 1256430, 1258968, 1259364, 1259591, 1259880, 1260932, 1262243, 1262897, 1263022, 1264056, 1264528, 1264591, 1267967, 1268879, 1269161, 1269260, 1269830, 1269939, 1270526, 1271153, 1271477, 1271549, 1272144, 1272700, 1273184, 1273605, 1274171, 1274189, 1274340, 1274409, 1274991, 1275384, 1276071, 1277300, 1278144, 1278600, 1280066, 1280444, 1281605, 1281619, 1281982, 1282057, 1282407, 1284002, 1284197, 1285122, 1285273, 1285349, 1285603, 1286710, 1287210, 1288139, 1289532, 1289613, 1289632, 1290113, 1290227, 1293940, 1293967, 1294089, 1294165, 1294562, 1295741, 1298715, 1301768, 1303707, 1304303, 1304908, 1305068, 1305999, 1308994, 1319289, 1319490, 1323268, 1324787, 1325225, 1330205, 1332990, 1333993, 1335335, 1335916, 1338866, 1339294, 1344633, 1345100, 1346801, 1346926, 1348840, 1348956, 1349168, 1349285, 1349528, 1349555, 1349746, 1350565, 1352019, 1353734, 1354266, 1355068, 1355358, 1355575, 1355711, 1356418, 1356809, 1358457, 1360296, 1360354, 1360700, 1361363, 1361399, 1361840, 1362297, 1362315, 1363060, 1363186, 1364304, 1364394, 1365519, 1365549, 1365838, 1366562, 1366806, 1366845, 1367137, 1367728, 1367920, 1368018, 1368443, 1369191, 1370616, 1372824, 1373047, 1373433, 1374340, 1374691, 1374964, 1375082, 1375399, 1375696, 1377360, 1378464, 1379143, 1379275, 1380778, 1382772, 1383442, 1386262, 1387011, 1387126, 1387991, 1393061, 1400473, 1402480, 1403944, 1405053, 1409081, 1418640, 1421164, 1421334, 1424489, 1427956, 1429142, 1429680, 1430013, 1431285, 1434487, 2000055, 5001339, 5002047]\n"
     ]
    }
   ],
   "source": [
    "#pull out all unique SGA ID's for iron and fuji\n",
    "tf_fuji_rot = np.unique(filtered_tf_fuji[filtered_tf_fuji['ROT_CURVE']==1]['SGA_ID'])\n",
    "tf_iron_rot = np.unique(filtered_tf_iron[filtered_tf_iron['ROT_CURVE']==1]['SGA_ID'])\n",
    "#combine iron and fuji unique ID's, print final list \n",
    "tf_galaxies = np.unique(np.concatenate((tf_fuji_rot, tf_iron_rot)))\n",
    "tf_galaxies = tf_galaxies.tolist()\n",
    "print(tf_galaxies)"
   ]
  },
  {
   "cell_type": "code",
   "execution_count": 69,
   "id": "13cfc9c3-66ab-468a-9483-7c6311ab2198",
   "metadata": {
    "tags": []
   },
   "outputs": [
    {
     "name": "stdout",
     "output_type": "stream",
     "text": [
      "     TARGETID        TARGET_RA        TARGET_DEC    ... VELOCITY VELOCITY_REL\n",
      "----------------- ---------------- ---------------- ... -------- ------------\n",
      " 1071233026228227 242.564878755415 53.6763270782975 ...      nan          nan\n",
      " 1071233026228228 242.564908359756 53.6746327647682 ...      nan          nan\n",
      " 1071233026228231 242.565028546859 53.6677528249076 ...      nan          nan\n",
      " 1084427165761544 242.565058139153 53.6660585113414 ...      nan          nan\n",
      "39633304835591852 242.564968458214  53.671192794853 ...      nan          nan\n",
      "39633304835591852 242.564968458214  53.671192794853 ...      nan          nan\n"
     ]
    }
   ],
   "source": [
    "# find all target ID's for one galaxy\n",
    "targets_fuji=tf_fuji[tf_fuji['SGA_ID']==  123]\n",
    "targets_iron=tf_iron[tf_iron['SGA_ID']== 123]\n",
    "target_list=(vstack([targets_fuji,targets_iron]))\n",
    "print(target_list)"
   ]
  },
  {
   "cell_type": "code",
   "execution_count": 70,
   "id": "3c51aab3-9dad-456d-8f4a-c42919099a6d",
   "metadata": {
    "tags": []
   },
   "outputs": [
    {
     "name": "stdout",
     "output_type": "stream",
     "text": [
      "        Z        \n",
      "-----------------\n",
      "0.184971788085982\n",
      "  1.5161235823035\n",
      "0.223582059648363\n",
      "0.125989095083328\n",
      "0.109965464429358\n",
      "0.109966732247689\n"
     ]
    }
   ],
   "source": [
    "#print target Z value inofrmation\n",
    "z_targets=(target_list['Z'])\n",
    "print(z_targets)"
   ]
  },
  {
   "cell_type": "code",
   "execution_count": 50,
   "id": "8570dc83-e167-42ba-9a17-83182d83a10b",
   "metadata": {
    "tags": []
   },
   "outputs": [
    {
     "data": {
      "text/html": [
       "<div><i>Table length=1</i>\n",
       "<table id=\"table140542579993248\" class=\"table-striped table-bordered table-condensed\">\n",
       "<thead><tr><th>TARGETID</th><th>TARGET_RA</th><th>TARGET_DEC</th><th>HEALPIX</th><th>SURVEY</th><th>Z</th><th>ZERR</th><th>ZWARN</th><th>DELTACHI2</th><th>FILENAME</th><th>PVTYPE</th><th>SGA_ID</th><th>RA</th><th>DEC</th><th>OBS_IN_SV</th><th>SKY_FIBER_DIST</th><th>SKY_FIBER_DIST_R26</th><th>ROT_CURVE</th><th>EOA</th><th>VELOCITY</th><th>VELOCITY_REL</th></tr></thead>\n",
       "<thead><tr><th>int64</th><th>float64</th><th>float64</th><th>int64</th><th>bytes3</th><th>float64</th><th>float64</th><th>int64</th><th>float64</th><th>bytes63</th><th>bytes3</th><th>int64</th><th>float64</th><th>float64</th><th>float64</th><th>float64</th><th>float64</th><th>float64</th><th>float64</th><th>float64</th><th>float64</th></tr></thead>\n",
       "<tr><td>39633304835591852</td><td>242.564968458214</td><td>53.671192794853</td><td>10153</td><td>sv3</td><td>0.109965464429358</td><td>1.30236298072821e-05</td><td>0</td><td>847.705579817295</td><td>fuji/healpix/sv3/bright/101/10153/redrock-sv3-bright-10153.fits</td><td>TFT</td><td>123</td><td>242.56496845821405</td><td>53.67119279485298</td><td>1.0</td><td>1.6837541040866038e-14</td><td>3.2792580096330368e-12</td><td>1.0</td><td>0.0</td><td>nan</td><td>nan</td></tr>\n",
       "</table></div>"
      ],
      "text/plain": [
       "<Table length=1>\n",
       "     TARGETID        TARGET_RA        TARGET_DEC   ... VELOCITY VELOCITY_REL\n",
       "      int64           float64          float64     ... float64    float64   \n",
       "----------------- ---------------- --------------- ... -------- ------------\n",
       "39633304835591852 242.564968458214 53.671192794853 ...      nan          nan"
      ]
     },
     "execution_count": 50,
     "metadata": {},
     "output_type": "execute_result"
    }
   ],
   "source": [
    "#list of good centers in fuji for one galaxy found by SGA ID above\n",
    "fuji_centers = targets_fuji[targets_fuji['SKY_FIBER_DIST_R26'] < 0.001]\n",
    "fuji_centers = fuji_centers[fuji_centers['ZWARN']==0]\n",
    "fuji_good_centers = fuji_centers[fuji_centers['DELTACHI2']>25] \n",
    "fuji_good_centers"
   ]
  },
  {
   "cell_type": "code",
   "execution_count": 91,
   "id": "6c774cba-2f7d-4bf2-b91e-122b4eb15cad",
   "metadata": {
    "tags": []
   },
   "outputs": [
    {
     "data": {
      "text/html": [
       "<div><i>Table length=1</i>\n",
       "<table id=\"table140542579992432\" class=\"table-striped table-bordered table-condensed\">\n",
       "<thead><tr><th>TARGETID</th><th>TARGET_RA</th><th>TARGET_DEC</th><th>HEALPIX</th><th>SURVEY</th><th>Z</th><th>ZERR</th><th>ZWARN</th><th>DELTACHI2</th><th>FILENAME</th><th>PVTYPE</th><th>SGA_ID</th><th>RA</th><th>DEC</th><th>OBS_IN_SV</th><th>SKY_FIBER_DIST</th><th>SKY_FIBER_DIST_R26</th><th>ROT_CURVE</th><th>EOA</th><th>VELOCITY</th><th>VELOCITY_REL</th></tr></thead>\n",
       "<thead><tr><th>int64</th><th>float64</th><th>float64</th><th>int64</th><th>bytes4</th><th>float64</th><th>float64</th><th>int64</th><th>float64</th><th>bytes65</th><th>bytes3</th><th>int64</th><th>float64</th><th>float64</th><th>float64</th><th>float64</th><th>float64</th><th>float64</th><th>float64</th><th>float64</th><th>float64</th></tr></thead>\n",
       "<tr><td>39633304835591852</td><td>242.564968458214</td><td>53.671192794853</td><td>10153</td><td>sv3</td><td>0.109966732247689</td><td>1.26106529808024e-05</td><td>0</td><td>879.694150358438</td><td>iron/healpix/sv3/bright/101/10153/redrock-sv3-bright-10153.fits</td><td>TFT</td><td>123</td><td>242.56496845821405</td><td>53.67119279485298</td><td>1.0</td><td>1.6837541040866038e-14</td><td>3.2792580096330368e-12</td><td>1.0</td><td>0.0</td><td>nan</td><td>nan</td></tr>\n",
       "</table></div>"
      ],
      "text/plain": [
       "<Table length=1>\n",
       "     TARGETID        TARGET_RA        TARGET_DEC   ... VELOCITY VELOCITY_REL\n",
       "      int64           float64          float64     ... float64    float64   \n",
       "----------------- ---------------- --------------- ... -------- ------------\n",
       "39633304835591852 242.564968458214 53.671192794853 ...      nan          nan"
      ]
     },
     "execution_count": 91,
     "metadata": {},
     "output_type": "execute_result"
    }
   ],
   "source": [
    "#list of good centers in iron for one galaxy found by SGA ID above\n",
    "iron_centers = targets_iron[targets_iron['SKY_FIBER_DIST_R26'] < 0.001]\n",
    "iron_centers = iron_centers[iron_centers['ZWARN']==0]\n",
    "iron_good_centers = iron_centers[iron_centers['DELTACHI2']>25] \n",
    "iron_good_centers"
   ]
  },
  {
   "cell_type": "code",
   "execution_count": 96,
   "id": "ed2e61ea-b2ce-40b0-8fa7-ed26fa5bbfe3",
   "metadata": {
    "tags": []
   },
   "outputs": [
    {
     "name": "stdout",
     "output_type": "stream",
     "text": [
      "0.10996610855101113\n",
      "         ZERR        \n",
      "---------------------\n",
      "9.060735335818906e-06\n"
     ]
    }
   ],
   "source": [
    "#need to test with a galaxy that has more than 2 center targets\n",
    "#defining terms\n",
    "z_fuji = fuji_good_centers['Z']\n",
    "z_iron = iron_good_centers['Z']\n",
    "z_fuji_err = fuji_good_centers['ZERR']\n",
    "z_iron_err = iron_good_centers['ZERR']\n",
    "\n",
    "# calculating the weights\n",
    "w_fuji = 1 / z_fuji_err\n",
    "w_iron = 1 / z_iron_err\n",
    "\n",
    "# calculating the weighted average z naught\n",
    "w1 = np.sum(w_fuji * z_fuji)\n",
    "w2 = np.sum(w_iron * z_iron)\n",
    "wn = np.sum(w_fuji + w_iron)\n",
    "z_o = (w1 + w2) / wn\n",
    "\n",
    "print(z_o)\n",
    "\n",
    "#define z naught error\n",
    "#might need to do np.sum on these too? \n",
    "z_o_err = (1 / (w_1 + w_2))*(((w_1 * z_1_err)**2 + (w_2 * z_2_err))**0.5)\n",
    "z_o_err = (1/ wn) * (((w_1 * z_1_err)**2 + (w_2 * z_2_err)**2)**0.5)\n",
    "print(z_o_err)"
   ]
  },
  {
   "cell_type": "code",
   "execution_count": 93,
   "id": "9222cfbf-8538-4564-8a21-001a4854d92d",
   "metadata": {
    "tags": []
   },
   "outputs": [
    {
     "name": "stdout",
     "output_type": "stream",
     "text": [
      "        ZERR        \n",
      "--------------------\n",
      "4.36696398757541e-05\n",
      "9.98100168252869e-05\n",
      " 6.6695997421467e-05\n",
      " 3.5227684897735e-05\n",
      "1.30236298072821e-05\n",
      "1.26106529808024e-05\n"
     ]
    }
   ],
   "source": [
    "#define z error for all targets\n",
    "for TARGETID in target_list:\n",
    "        z_err=target_list['ZERR']\n",
    "print(z_err)"
   ]
  },
  {
   "cell_type": "code",
   "execution_count": 94,
   "id": "b04283d8-af88-44d3-ac8c-87d6bd78b3e6",
   "metadata": {},
   "outputs": [
    {
     "name": "stdout",
     "output_type": "stream",
     "text": [
      "          Z           \n",
      "----------------------\n",
      "   0.07500567953497086\n",
      "     1.406157473752489\n",
      "   0.11361595109735187\n",
      "  0.016022986532316874\n",
      "-6.441216531261063e-07\n",
      "   6.2369667787332e-07\n"
     ]
    }
   ],
   "source": [
    "#find delta z from z naught and z values of all viable targets \n",
    "delta_z=z_targets - z_o\n",
    "print(delta_z)"
   ]
  },
  {
   "cell_type": "code",
   "execution_count": 95,
   "id": "8c77e2f3-5f32-4a9f-b2ed-3ec57de8179a",
   "metadata": {
    "tags": []
   },
   "outputs": [
    {
     "name": "stdout",
     "output_type": "stream",
     "text": [
      "         Z          \n",
      "--------------------\n",
      "   22486.13703174921\n",
      "   421555.4053913291\n",
      "   34061.20524748291\n",
      "   4803.570517024172\n",
      "-0.19310281364169876\n",
      "  0.1869795601060768\n"
     ]
    }
   ],
   "source": [
    "#use delta z to find velocity\n",
    "c = 299792.458\n",
    "velocity = c*delta_z\n",
    "print(velocity)\n",
    "#results seem too big, z has no units and c is in km/s so it should be right but have nitya double check units\n",
    "#put results into new column on tables"
   ]
  },
  {
   "cell_type": "markdown",
   "id": "7f405415-8e17-438b-bf56-7cc74415ef7e",
   "metadata": {},
   "source": [
    "find v error for each target"
   ]
  },
  {
   "cell_type": "code",
   "execution_count": null,
   "id": "d7ffec09-a7d2-4725-b8c8-785cba161529",
   "metadata": {
    "tags": []
   },
   "outputs": [],
   "source": [
    "#find v error for each target\n",
    "for i,v in z_o_err:\n",
    "    z_o_error[i]=v**2\n",
    "    print(z_o_error)+\n",
    "#v_err=c*[math.sqrt([[z_o_err]**2]+[[z_err]**2])]\n",
    "# put v error into new column for each table"
   ]
  }
 ],
 "metadata": {
  "kernelspec": {
   "display_name": "DESI main",
   "language": "python",
   "name": "desi-main"
  },
  "language_info": {
   "codemirror_mode": {
    "name": "ipython",
    "version": 3
   },
   "file_extension": ".py",
   "mimetype": "text/x-python",
   "name": "python",
   "nbconvert_exporter": "python",
   "pygments_lexer": "ipython3",
   "version": "3.10.14"
  }
 },
 "nbformat": 4,
 "nbformat_minor": 5
}
