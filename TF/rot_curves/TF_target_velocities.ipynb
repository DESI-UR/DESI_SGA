{
 "cells": [
  {
   "cell_type": "code",
   "execution_count": 36,
   "id": "24ec26bf-18ca-48f0-ac1b-e8a2c63cf024",
   "metadata": {
    "tags": []
   },
   "outputs": [],
   "source": [
    "# all imports\n",
    "import numpy as np\n",
    "import os\n",
    "import requests\n",
    "from astropy.table import Table, vstack\n",
    "import matplotlib.pyplot as plt\n",
    "from astropy.io import fits\n",
    "from astropy.coordinates import SkyCoord\n",
    "from astropy import units as u\n",
    "from astropy.wcs import WCS\n",
    "import math\n",
    "import matplotlib as mpl\n",
    "from astropy.visualization.wcsaxes import SphericalCircle\n",
    "import pandas as pd"
   ]
  },
  {
   "cell_type": "code",
   "execution_count": 37,
   "id": "35a5617f-99ee-49a1-aba1-45c10a2c3c6a",
   "metadata": {
    "tags": []
   },
   "outputs": [],
   "source": [
    "# define directories\n",
    "data_dir = '/global/cfs/projectdirs/desi/science/td/pv/tfgalaxies/'\n",
    "cache_dir = '/pscratch/sd/j/jjpim/cache/' # my cache path\n",
    "vi_dir = '/pscratch/sd/j/jjpim/visual_inspection/' # vi image path\n",
    "\n",
    "#constants\n",
    "c = 299792.458"
   ]
  },
  {
   "cell_type": "code",
   "execution_count": 38,
   "id": "e1dcff62-ac21-4a0e-9a2b-a27e38ef69de",
   "metadata": {
    "tags": []
   },
   "outputs": [],
   "source": [
    "# load updated fuji table\n",
    "tf_fuji = Table.read(data_dir + 'SV/desi_pv_tf_fuji_healpix_rotcurve_EOA_VI.fits') \n",
    "# load iron table\n",
    "tf_iron = Table.read(data_dir + 'Y1/desi_pv_tf_iron_healpix_rotcurve_EOA_VI.fits')\n",
    "#combine\n",
    "tf_mastertable = vstack([tf_fuji,tf_iron])"
   ]
  },
  {
   "cell_type": "code",
   "execution_count": 39,
   "id": "a8f10904-95c9-4de3-b76f-7b1f33980b3d",
   "metadata": {
    "tags": []
   },
   "outputs": [],
   "source": [
    "#mastertable columns\n",
    "tf_mastertable['VELOCITY']=np.nan\n",
    "tf_mastertable['VERR']=np.nan\n",
    "tf_mastertable['WEIGHTED_CENTER']=np.nan"
   ]
  },
  {
   "cell_type": "code",
   "execution_count": 40,
   "id": "95d05350-7ff1-4858-b1ae-674c509549d9",
   "metadata": {
    "tags": []
   },
   "outputs": [],
   "source": [
    "#create new columns for fuji\n",
    "tf_fuji['VELOCITY']=np.nan\n",
    "tf_fuji['VERR']=np.nan\n",
    "tf_fuji['WEIGHTED_CENTER']=np.nan\n",
    "\n",
    "#create new columns for iron\n",
    "tf_iron['VELOCITY']=np.nan\n",
    "tf_iron['VERR']=np.nan\n",
    "tf_iron['WEIGHTED_CENTER']=np.nan"
   ]
  },
  {
   "cell_type": "code",
   "execution_count": 41,
   "id": "5dd54c90-0f49-4d9c-8703-b36ec86d8ce6",
   "metadata": {
    "tags": []
   },
   "outputs": [],
   "source": [
    "# set up dictionary of unique SGA IDs\n",
    "tf_fuji_dict = {}\n",
    "for sga_id in np.unique(tf_fuji['SGA_ID']):\n",
    "    tf_fuji_dict[sga_id] = np.where(tf_fuji['SGA_ID'] == sga_id)[0]\n",
    "\n",
    "tf_iron_dict = {}\n",
    "for sga_id in np.unique(tf_iron['SGA_ID']):\n",
    "    tf_iron_dict[sga_id] = np.where(tf_iron['SGA_ID'] == sga_id)[0]\n",
    "\n",
    "tf_mastertable_dict = {}\n",
    "for sga_id in np.unique(tf_mastertable['SGA_ID']):\n",
    "    tf_mastertable_dict[sga_id] = np.where(tf_mastertable['SGA_ID'] == sga_id)[0]"
   ]
  },
  {
   "cell_type": "markdown",
   "id": "d41790ea-49ab-4731-b276-9e64018758a2",
   "metadata": {},
   "source": [
    "Below is the code achieved w/ prof. douglass, uses mastertable instead of seperate data sets. Updating fuji and iron separately after."
   ]
  },
  {
   "cell_type": "code",
   "execution_count": 42,
   "id": "28ecb86c-62d4-4722-905d-0b93042e34d8",
   "metadata": {
    "tags": []
   },
   "outputs": [
    {
     "name": "stderr",
     "output_type": "stream",
     "text": [
      "/tmp/ipykernel_171020/4109031097.py:23: RuntimeWarning: Mean of empty slice\n",
      "  z_o = (np.nanmean(w * z)) / w\n",
      "/tmp/ipykernel_171020/4109031097.py:26: RuntimeWarning: divide by zero encountered in double_scalars\n",
      "  z_o_err = np.sqrt(1 / w)\n"
     ]
    }
   ],
   "source": [
    "# combine iron and fuji unique IDs\n",
    "tf_galaxies = np.unique(tf_mastertable['SGA_ID'])\n",
    "\n",
    "# loop through each SGA ID\n",
    "for sga_id in tf_galaxies:\n",
    "                            \n",
    "    #identify z values of targets\n",
    "    z_targets=tf_mastertable['Z'][tf_mastertable_dict[sga_id]]\n",
    "    \n",
    "    #identify good centers\n",
    "    centers_b = tf_mastertable['SKY_FIBER_DIST_R26'][tf_mastertable_dict[sga_id]] < 0.001\n",
    "    good_b = (tf_mastertable['ZWARN'][tf_mastertable_dict[sga_id]]==0) & (tf_mastertable['DELTACHI2'][tf_mastertable_dict[sga_id]]>25)\n",
    "    good_centers = tf_mastertable[tf_mastertable_dict[sga_id]][centers_b & good_b] \n",
    "    \n",
    "    #defining terms\n",
    "    z = good_centers['Z']\n",
    "    z_err_c = good_centers['ZERR']\n",
    "    # calculating the weights\n",
    "    #w = np.sum(w_fuji + w_iron)\n",
    "    w = np.sum(1 / (z_err_c**2))\n",
    "    \n",
    "    # calculating the weighted average for center z naught\n",
    "    z_o = (np.nanmean(w * z)) / w\n",
    "    \n",
    "    #define z naught error\n",
    "    z_o_err = np.sqrt(1 / w)\n",
    "    \n",
    "    #find delta z from z naught and z values of all viable targets \n",
    "    delta_z = z_targets - z_o\n",
    "    \n",
    "    #use delta z to find velocity\n",
    "    velocity = c * delta_z\n",
    "    # update the master table with velocities\n",
    "    tf_mastertable['VELOCITY'][tf_mastertable_dict[sga_id]]=velocity\n",
    "    \n",
    "    #identify z error for targets (used in v error calculation)\n",
    "    z_err = tf_mastertable['ZERR'][tf_mastertable_dict[sga_id]]\n",
    "    \n",
    "    #find v error for each target\n",
    "    v_error_1 = ((z_o_err**2) + (z_err**2))\n",
    "    v_err=c*(np.sqrt(v_error_1))\n",
    "    \n",
    "    # put v error into new column\n",
    "    tf_mastertable['VERR'][tf_mastertable_dict[sga_id]]=v_err"
   ]
  },
  {
   "cell_type": "code",
   "execution_count": 50,
   "id": "81ac0037-d22e-46d6-92ee-cc972deb6f84",
   "metadata": {
    "tags": []
   },
   "outputs": [],
   "source": [
    "#use mastertable velocities to update fuji table\n",
    "'''for targetid in range(len(tf_fuji)):\n",
    "    tf_fuji.loc[targetid, 'VELOCITY'] = [targetid]\n",
    "    '''  \n",
    "'''for i in range(len(tf_fuji)):\n",
    "    i_mastertable=tf_fuji['TARGETID'][i]==tf_mastertable['TARGETID'][:len(tf_fuji)]\n",
    "    tf_fuji['VELOCITY'][i]=tf_mastertable['VELOCITY'][:len(tf_fuji)][i_mastertable]\n",
    "    tf_fuji['VERR'][i]=tf_mastertable['VERR'][:len(tf_fuji)][i_mastertable]\n",
    "'''\n",
    "tf_fuji['VELOCITY']=tf_mastertable['VELOCITY'][:len(tf_fuji)]\n",
    "tf_fuji['VERR']=tf_mastertable['VERR'][:len(tf_fuji)]"
   ]
  },
  {
   "cell_type": "code",
   "execution_count": 49,
   "id": "75364d53-69df-4ece-bf86-857cb552f84f",
   "metadata": {
    "tags": []
   },
   "outputs": [],
   "source": [
    "#updating iron table with velocity and velocity error\n",
    "tf_iron['VELOCITY']=tf_mastertable['VELOCITY'][-len(tf_iron):]\n",
    "tf_iron['VERR']=tf_mastertable['VERR'][-len(tf_iron):]"
   ]
  },
  {
   "cell_type": "code",
   "execution_count": 45,
   "id": "57454923-771e-4c1e-aec2-055621187aa0",
   "metadata": {
    "tags": []
   },
   "outputs": [
    {
     "data": {
      "text/html": [
       "<div><i>Table length=5</i>\n",
       "<table id=\"table140020312226064\" class=\"table-striped table-bordered table-condensed\">\n",
       "<thead><tr><th>TARGETID</th><th>TARGET_RA</th><th>TARGET_DEC</th><th>HEALPIX</th><th>SURVEY</th><th>Z</th><th>ZERR</th><th>ZWARN</th><th>DELTACHI2</th><th>FILENAME</th><th>PVTYPE</th><th>SGA_ID</th><th>RA</th><th>DEC</th><th>OBS_IN_SV</th><th>SKY_FIBER_DIST</th><th>SKY_FIBER_DIST_R26</th><th>ROT_CURVE</th><th>EOA</th><th>VELOCITY</th><th>VERR</th><th>WEIGHTED_CENTER</th></tr></thead>\n",
       "<thead><tr><th>int64</th><th>float64</th><th>float64</th><th>int64</th><th>bytes3</th><th>float64</th><th>float64</th><th>int64</th><th>float64</th><th>bytes63</th><th>bytes3</th><th>int64</th><th>float64</th><th>float64</th><th>float64</th><th>float64</th><th>float64</th><th>float64</th><th>float64</th><th>float64</th><th>float64</th><th>float64</th></tr></thead>\n",
       "<tr><td>1071233026228227</td><td>242.564878755415</td><td>53.6763270782975</td><td>10153</td><td>sv3</td><td>0.184971788085982</td><td>4.36696398757541e-05</td><td>4</td><td>0.458266502246261</td><td>fuji/healpix/sv3/bright/101/10153/redrock-sv3-bright-10153.fits</td><td>TFT</td><td>123</td><td>242.56487875541504</td><td>53.67632707829753</td><td>1.0</td><td>0.0051345584203947876</td><td>1.0000000466304622</td><td>1.0</td><td>0.0</td><td>22486.14009337598</td><td>13.370585897277147</td><td>nan</td></tr>\n",
       "<tr><td>1071233026228228</td><td>242.564908359756</td><td>53.6746327647682</td><td>10153</td><td>sv3</td><td>1.5161235823035</td><td>9.98100168252869e-05</td><td>4</td><td>0.224537968635559</td><td>fuji/healpix/sv3/bright/101/10153/redrock-sv3-bright-10153.fits</td><td>TFT</td><td>123</td><td>242.5649083597559</td><td>53.67463276476823</td><td>1.0</td><td>0.0034401541416619126</td><td>0.6700000312419042</td><td>1.0</td><td>0.0</td><td>421555.40845295583</td><td>30.045299874011604</td><td>nan</td></tr>\n",
       "<tr><td>1071233026228231</td><td>242.565028546859</td><td>53.6677528249076</td><td>10153</td><td>sv3</td><td>0.223582059648363</td><td>6.6695997421467e-05</td><td>4</td><td>5.54895717371255</td><td>fuji/healpix/sv3/bright/101/10153/redrock-sv3-bright-10153.fits</td><td>TFT</td><td>123</td><td>242.56502854685928</td><td>53.667752824907645</td><td>1.0</td><td>0.0034401541416594996</td><td>0.6700000312414343</td><td>1.0</td><td>0.0</td><td>34061.20830910968</td><td>20.178575141850796</td><td>nan</td></tr>\n",
       "<tr><td>1084427165761544</td><td>242.565058139153</td><td>53.6660585113414</td><td>10153</td><td>sv3</td><td>0.125989095083328</td><td>3.5227684897735e-05</td><td>4</td><td>5.68882738612592</td><td>fuji/healpix/sv3/dark/101/10153/redrock-sv3-dark-10153.fits</td><td>TFT</td><td>123</td><td>242.56505813915317</td><td>53.66605851134143</td><td>1.0</td><td>0.0051345584203787275</td><td>1.0000000466273342</td><td>1.0</td><td>0.0</td><td>4803.573578650942</td><td>10.904640688244093</td><td>nan</td></tr>\n",
       "<tr><td>39633304835591852</td><td>242.564968458214</td><td>53.671192794853</td><td>10153</td><td>sv3</td><td>0.109965464429358</td><td>1.30236298072821e-05</td><td>0</td><td>847.705579817295</td><td>fuji/healpix/sv3/bright/101/10153/redrock-sv3-bright-10153.fits</td><td>TFT</td><td>123</td><td>242.56496845821405</td><td>53.67119279485298</td><td>1.0</td><td>1.6837541040866038e-14</td><td>3.2792580096330368e-12</td><td>1.0</td><td>0.0</td><td>-0.19004118687180754</td><td>4.756134887529947</td><td>nan</td></tr>\n",
       "</table></div>"
      ],
      "text/plain": [
       "<Table length=5>\n",
       "     TARGETID        TARGET_RA     ...        VERR        WEIGHTED_CENTER\n",
       "      int64           float64      ...      float64           float64    \n",
       "----------------- ---------------- ... ------------------ ---------------\n",
       " 1071233026228227 242.564878755415 ... 13.370585897277147             nan\n",
       " 1071233026228228 242.564908359756 ... 30.045299874011604             nan\n",
       " 1071233026228231 242.565028546859 ... 20.178575141850796             nan\n",
       " 1084427165761544 242.565058139153 ... 10.904640688244093             nan\n",
       "39633304835591852 242.564968458214 ...  4.756134887529947             nan"
      ]
     },
     "execution_count": 45,
     "metadata": {},
     "output_type": "execute_result"
    }
   ],
   "source": [
    "tf_fuji[tf_fuji_dict[123]]"
   ]
  },
  {
   "cell_type": "code",
   "execution_count": 46,
   "id": "e4dc73b9-7b6c-4d11-9acb-907670f4e8f2",
   "metadata": {
    "tags": []
   },
   "outputs": [
    {
     "data": {
      "text/html": [
       "<div><i>Table length=1</i>\n",
       "<table id=\"table140020312222512\" class=\"table-striped table-bordered table-condensed\">\n",
       "<thead><tr><th>TARGETID</th><th>TARGET_RA</th><th>TARGET_DEC</th><th>HEALPIX</th><th>SURVEY</th><th>Z</th><th>ZERR</th><th>ZWARN</th><th>DELTACHI2</th><th>FILENAME</th><th>PVTYPE</th><th>SGA_ID</th><th>RA</th><th>DEC</th><th>OBS_IN_SV</th><th>SKY_FIBER_DIST</th><th>SKY_FIBER_DIST_R26</th><th>ROT_CURVE</th><th>EOA</th><th>VELOCITY</th><th>VERR</th><th>WEIGHTED_CENTER</th></tr></thead>\n",
       "<thead><tr><th>int64</th><th>float64</th><th>float64</th><th>int64</th><th>bytes4</th><th>float64</th><th>float64</th><th>int64</th><th>float64</th><th>bytes65</th><th>bytes3</th><th>int64</th><th>float64</th><th>float64</th><th>float64</th><th>float64</th><th>float64</th><th>float64</th><th>float64</th><th>float64</th><th>float64</th><th>float64</th></tr></thead>\n",
       "<tr><td>39633304835591852</td><td>242.564968458214</td><td>53.671192794853</td><td>10153</td><td>sv3</td><td>0.109966732247689</td><td>1.26106529808024e-05</td><td>0</td><td>879.694150358438</td><td>iron/healpix/sv3/bright/101/10153/redrock-sv3-bright-10153.fits</td><td>TFT</td><td>123</td><td>242.56496845821405</td><td>53.67119279485298</td><td>1.0</td><td>1.6837541040866038e-14</td><td>3.2792580096330368e-12</td><td>1.0</td><td>0.0</td><td>0.190041186875968</td><td>4.655036418078015</td><td>nan</td></tr>\n",
       "</table></div>"
      ],
      "text/plain": [
       "<Table length=1>\n",
       "     TARGETID        TARGET_RA     ...        VERR       WEIGHTED_CENTER\n",
       "      int64           float64      ...      float64          float64    \n",
       "----------------- ---------------- ... ----------------- ---------------\n",
       "39633304835591852 242.564968458214 ... 4.655036418078015             nan"
      ]
     },
     "execution_count": 46,
     "metadata": {},
     "output_type": "execute_result"
    }
   ],
   "source": [
    "tf_iron[tf_iron_dict[123]]"
   ]
  },
  {
   "cell_type": "code",
   "execution_count": 47,
   "id": "1dc48988-2fb7-44a3-acd6-abdc36b9631c",
   "metadata": {
    "tags": []
   },
   "outputs": [
    {
     "data": {
      "text/html": [
       "<div><i>Table length=6</i>\n",
       "<table id=\"table140020310797296\" class=\"table-striped table-bordered table-condensed\">\n",
       "<thead><tr><th>TARGETID</th><th>TARGET_RA</th><th>TARGET_DEC</th><th>HEALPIX</th><th>SURVEY</th><th>Z</th><th>ZERR</th><th>ZWARN</th><th>DELTACHI2</th><th>FILENAME</th><th>PVTYPE</th><th>SGA_ID</th><th>RA</th><th>DEC</th><th>OBS_IN_SV</th><th>SKY_FIBER_DIST</th><th>SKY_FIBER_DIST_R26</th><th>ROT_CURVE</th><th>EOA</th><th>VELOCITY</th><th>VERR</th><th>WEIGHTED_CENTER</th></tr></thead>\n",
       "<thead><tr><th>int64</th><th>float64</th><th>float64</th><th>int64</th><th>bytes4</th><th>float64</th><th>float64</th><th>int64</th><th>float64</th><th>bytes65</th><th>bytes3</th><th>int64</th><th>float64</th><th>float64</th><th>float64</th><th>float64</th><th>float64</th><th>float64</th><th>float64</th><th>float64</th><th>float64</th><th>float64</th></tr></thead>\n",
       "<tr><td>1071233026228227</td><td>242.564878755415</td><td>53.6763270782975</td><td>10153</td><td>sv3</td><td>0.184971788085982</td><td>4.36696398757541e-05</td><td>4</td><td>0.458266502246261</td><td>fuji/healpix/sv3/bright/101/10153/redrock-sv3-bright-10153.fits</td><td>TFT</td><td>123</td><td>242.56487875541504</td><td>53.67632707829753</td><td>1.0</td><td>0.0051345584203947876</td><td>1.0000000466304622</td><td>1.0</td><td>0.0</td><td>22486.14009337598</td><td>13.370585897277147</td><td>nan</td></tr>\n",
       "<tr><td>1071233026228228</td><td>242.564908359756</td><td>53.6746327647682</td><td>10153</td><td>sv3</td><td>1.5161235823035</td><td>9.98100168252869e-05</td><td>4</td><td>0.224537968635559</td><td>fuji/healpix/sv3/bright/101/10153/redrock-sv3-bright-10153.fits</td><td>TFT</td><td>123</td><td>242.5649083597559</td><td>53.67463276476823</td><td>1.0</td><td>0.0034401541416619126</td><td>0.6700000312419042</td><td>1.0</td><td>0.0</td><td>421555.40845295583</td><td>30.045299874011604</td><td>nan</td></tr>\n",
       "<tr><td>1071233026228231</td><td>242.565028546859</td><td>53.6677528249076</td><td>10153</td><td>sv3</td><td>0.223582059648363</td><td>6.6695997421467e-05</td><td>4</td><td>5.54895717371255</td><td>fuji/healpix/sv3/bright/101/10153/redrock-sv3-bright-10153.fits</td><td>TFT</td><td>123</td><td>242.56502854685928</td><td>53.667752824907645</td><td>1.0</td><td>0.0034401541416594996</td><td>0.6700000312414343</td><td>1.0</td><td>0.0</td><td>34061.20830910968</td><td>20.178575141850796</td><td>nan</td></tr>\n",
       "<tr><td>1084427165761544</td><td>242.565058139153</td><td>53.6660585113414</td><td>10153</td><td>sv3</td><td>0.125989095083328</td><td>3.5227684897735e-05</td><td>4</td><td>5.68882738612592</td><td>fuji/healpix/sv3/dark/101/10153/redrock-sv3-dark-10153.fits</td><td>TFT</td><td>123</td><td>242.56505813915317</td><td>53.66605851134143</td><td>1.0</td><td>0.0051345584203787275</td><td>1.0000000466273342</td><td>1.0</td><td>0.0</td><td>4803.573578650942</td><td>10.904640688244093</td><td>nan</td></tr>\n",
       "<tr><td>39633304835591852</td><td>242.564968458214</td><td>53.671192794853</td><td>10153</td><td>sv3</td><td>0.109965464429358</td><td>1.30236298072821e-05</td><td>0</td><td>847.705579817295</td><td>fuji/healpix/sv3/bright/101/10153/redrock-sv3-bright-10153.fits</td><td>TFT</td><td>123</td><td>242.56496845821405</td><td>53.67119279485298</td><td>1.0</td><td>1.6837541040866038e-14</td><td>3.2792580096330368e-12</td><td>1.0</td><td>0.0</td><td>-0.19004118687180754</td><td>4.756134887529947</td><td>nan</td></tr>\n",
       "<tr><td>39633304835591852</td><td>242.564968458214</td><td>53.671192794853</td><td>10153</td><td>sv3</td><td>0.109966732247689</td><td>1.26106529808024e-05</td><td>0</td><td>879.694150358438</td><td>iron/healpix/sv3/bright/101/10153/redrock-sv3-bright-10153.fits</td><td>TFT</td><td>123</td><td>242.56496845821405</td><td>53.67119279485298</td><td>1.0</td><td>1.6837541040866038e-14</td><td>3.2792580096330368e-12</td><td>1.0</td><td>0.0</td><td>0.190041186875968</td><td>4.655036418078015</td><td>nan</td></tr>\n",
       "</table></div>"
      ],
      "text/plain": [
       "<Table length=6>\n",
       "     TARGETID        TARGET_RA     ...        VERR        WEIGHTED_CENTER\n",
       "      int64           float64      ...      float64           float64    \n",
       "----------------- ---------------- ... ------------------ ---------------\n",
       " 1071233026228227 242.564878755415 ... 13.370585897277147             nan\n",
       " 1071233026228228 242.564908359756 ... 30.045299874011604             nan\n",
       " 1071233026228231 242.565028546859 ... 20.178575141850796             nan\n",
       " 1084427165761544 242.565058139153 ... 10.904640688244093             nan\n",
       "39633304835591852 242.564968458214 ...  4.756134887529947             nan\n",
       "39633304835591852 242.564968458214 ...  4.655036418078015             nan"
      ]
     },
     "execution_count": 47,
     "metadata": {},
     "output_type": "execute_result"
    }
   ],
   "source": [
    "#testing output for sga id 123\n",
    "tf_mastertable[tf_mastertable_dict[123]]"
   ]
  },
  {
   "cell_type": "code",
   "execution_count": 48,
   "id": "25888eaf-8846-4688-b672-c7d36b66203d",
   "metadata": {},
   "outputs": [],
   "source": [
    "tf_fuji.write(data_dir + 'SV/desi_pv_tf_fuji_healpix_rotcurve_EOA_VI_velocity.fits', format='fits', overwrite=True)\n",
    "tf_iron.write(data_dir + 'Y1/desi_pv_tf_iron_healpix_rotcurve_EOA_VI_velocity.fits', format='fits', overwrite=True)"
   ]
  }
 ],
 "metadata": {
  "kernelspec": {
   "display_name": "DESI main",
   "language": "python",
   "name": "desi-main"
  },
  "language_info": {
   "codemirror_mode": {
    "name": "ipython",
    "version": 3
   },
   "file_extension": ".py",
   "mimetype": "text/x-python",
   "name": "python",
   "nbconvert_exporter": "python",
   "pygments_lexer": "ipython3",
   "version": "3.10.14"
  }
 },
 "nbformat": 4,
 "nbformat_minor": 5
}
