{
 "cells": [
  {
   "cell_type": "code",
   "execution_count": 39,
   "id": "24ec26bf-18ca-48f0-ac1b-e8a2c63cf024",
   "metadata": {
    "tags": []
   },
   "outputs": [],
   "source": [
    "# all imports\n",
    "import numpy as np\n",
    "import os\n",
    "import requests\n",
    "from astropy.table import Table, vstack\n",
    "import matplotlib.pyplot as plt\n",
    "from astropy.io import fits\n",
    "from astropy.coordinates import SkyCoord\n",
    "from astropy import units as u\n",
    "from astropy.wcs import WCS\n",
    "import math\n",
    "import matplotlib as mpl\n",
    "from astropy.visualization.wcsaxes import SphericalCircle\n",
    "import pandas as pd"
   ]
  },
  {
   "cell_type": "code",
   "execution_count": 8,
   "id": "35a5617f-99ee-49a1-aba1-45c10a2c3c6a",
   "metadata": {
    "tags": []
   },
   "outputs": [],
   "source": [
    "# define directories\n",
    "data_dir = '/global/cfs/projectdirs/desi/science/td/pv/tfgalaxies/'\n",
    "cache_dir = '/pscratch/sd/j/jjpim/cache/' # my cache path\n",
    "vi_dir = '/pscratch/sd/j/jjpim/visual_inspection/' # vi image path"
   ]
  },
  {
   "cell_type": "code",
   "execution_count": 17,
   "id": "e1dcff62-ac21-4a0e-9a2b-a27e38ef69de",
   "metadata": {
    "tags": []
   },
   "outputs": [
    {
     "data": {
      "text/html": [
       "<div><i>Table length=5</i>\n",
       "<table id=\"table140470351665072\" class=\"table-striped table-bordered table-condensed\">\n",
       "<thead><tr><th>TARGETID</th><th>TARGET_RA</th><th>TARGET_DEC</th><th>HEALPIX</th><th>SURVEY</th><th>Z</th><th>ZERR</th><th>ZWARN</th><th>DELTACHI2</th><th>FILENAME</th><th>PVTYPE</th><th>SGA_ID</th><th>RA</th><th>DEC</th><th>OBS_IN_SV</th><th>SKY_FIBER_DIST</th><th>SKY_FIBER_DIST_R26</th><th>ROT_CURVE</th><th>EOA</th></tr></thead>\n",
       "<thead><tr><th>int64</th><th>float64</th><th>float64</th><th>int64</th><th>bytes3</th><th>float64</th><th>float64</th><th>int64</th><th>float64</th><th>bytes63</th><th>bytes3</th><th>int64</th><th>float64</th><th>float64</th><th>float64</th><th>float64</th><th>float64</th><th>float64</th><th>float64</th></tr></thead>\n",
       "<tr><td>1079550234591232</td><td>194.390863195343</td><td>27.5157211790145</td><td>10378</td><td>sv3</td><td>1.1235686466514</td><td>7.31685779475115e-05</td><td>4</td><td>3.28414569795132</td><td>fuji/healpix/sv3/bright/103/10378/redrock-sv3-bright-10378.fits</td><td>EXT</td><td>662902</td><td>194.39086319534337</td><td>27.51572117901454</td><td>1.0</td><td>0.03927420444753712</td><td>1.0000000170652443</td><td>0.0</td><td>0.0</td></tr>\n",
       "<tr><td>1092744374124544</td><td>194.390863195343</td><td>27.5157211790145</td><td>10378</td><td>sv3</td><td>0.686773088332363</td><td>6.9756676262104e-05</td><td>4</td><td>0.786607094109058</td><td>fuji/healpix/sv3/dark/103/10378/redrock-sv3-dark-10378.fits</td><td>EXT</td><td>662902</td><td>194.39086319534337</td><td>27.51572117901454</td><td>1.0</td><td>0.03927420444753712</td><td>1.0000000170652443</td><td>0.0</td><td>0.0</td></tr>\n",
       "<tr><td>1092744374124546</td><td>194.364461113654</td><td>27.5037185881314</td><td>10378</td><td>sv3</td><td>0.0242933923052181</td><td>4.95233472646785e-05</td><td>0</td><td>95.428411073226</td><td>fuji/healpix/sv3/dark/103/10378/redrock-sv3-dark-10378.fits</td><td>EXT</td><td>662902</td><td>194.36446111365385</td><td>27.50371858813136</td><td>1.0</td><td>0.012960487467698754</td><td>0.3300000056318236</td><td>0.0</td><td>0.0</td></tr>\n",
       "<tr><td>1092744369930240</td><td>194.338458724402</td><td>27.4918902690326</td><td>10378</td><td>sv3</td><td>0.0264170223697961</td><td>0.00010139452689994</td><td>0</td><td>9.53278421035066</td><td>fuji/healpix/sv3/dark/103/10378/redrock-sv3-dark-10378.fits</td><td>EXT</td><td>662902</td><td>194.33845872440244</td><td>27.491890269032595</td><td>1.0</td><td>0.012960487467685656</td><td>0.33000000563149007</td><td>0.0</td><td>0.0</td></tr>\n",
       "<tr><td>1092744374124545</td><td>194.377858465028</td><td>27.5098100780282</td><td>10378</td><td>sv3</td><td>0.211332646769145</td><td>6.68535116703737e-05</td><td>4</td><td>3.73989077657461</td><td>fuji/healpix/sv3/dark/103/10378/redrock-sv3-dark-10378.fits</td><td>EXT</td><td>662902</td><td>194.3778584650283</td><td>27.509810078028195</td><td>1.0</td><td>0.026313716979861984</td><td>0.6700000114340222</td><td>0.0</td><td>0.0</td></tr>\n",
       "</table></div>"
      ],
      "text/plain": [
       "<Table length=5>\n",
       "    TARGETID        TARGET_RA        TARGET_DEC    ... ROT_CURVE   EOA  \n",
       "     int64           float64          float64      ...  float64  float64\n",
       "---------------- ---------------- ---------------- ... --------- -------\n",
       "1079550234591232 194.390863195343 27.5157211790145 ...       0.0     0.0\n",
       "1092744374124544 194.390863195343 27.5157211790145 ...       0.0     0.0\n",
       "1092744374124546 194.364461113654 27.5037185881314 ...       0.0     0.0\n",
       "1092744369930240 194.338458724402 27.4918902690326 ...       0.0     0.0\n",
       "1092744374124545 194.377858465028 27.5098100780282 ...       0.0     0.0"
      ]
     },
     "execution_count": 17,
     "metadata": {},
     "output_type": "execute_result"
    }
   ],
   "source": [
    "# load updated fuji table\n",
    "tf_fuji = Table.read(data_dir + 'SV/desi_pv_tf_fuji_healpix_rotcurve_EOA_VI.fits') \n",
    "tf_fuji[:5]"
   ]
  },
  {
   "cell_type": "code",
   "execution_count": 18,
   "id": "47c12e3a-2f98-40a0-9d83-bd791d75ff19",
   "metadata": {
    "tags": []
   },
   "outputs": [
    {
     "data": {
      "text/html": [
       "<div><i>Table length=5</i>\n",
       "<table id=\"table140471176021424\" class=\"table-striped table-bordered table-condensed\">\n",
       "<thead><tr><th>TARGETID</th><th>TARGET_RA</th><th>TARGET_DEC</th><th>HEALPIX</th><th>SURVEY</th><th>Z</th><th>ZERR</th><th>ZWARN</th><th>DELTACHI2</th><th>FILENAME</th><th>PVTYPE</th><th>SGA_ID</th><th>RA</th><th>DEC</th><th>OBS_IN_SV</th><th>SKY_FIBER_DIST</th><th>SKY_FIBER_DIST_R26</th><th>ROT_CURVE</th><th>EOA</th></tr></thead>\n",
       "<thead><tr><th>int64</th><th>float64</th><th>float64</th><th>int64</th><th>bytes4</th><th>float64</th><th>float64</th><th>int64</th><th>float64</th><th>bytes65</th><th>bytes3</th><th>int64</th><th>float64</th><th>float64</th><th>float64</th><th>float64</th><th>float64</th><th>float64</th><th>float64</th></tr></thead>\n",
       "<tr><td>2852147603439621</td><td>198.369130660983</td><td>36.5372037049171</td><td>10475</td><td>main</td><td>0.815976335547845</td><td>7.38513168100107e-05</td><td>4</td><td>0.128754377365112</td><td>iron/healpix/main/dark/104/10475/redrock-main-dark-10475.fits</td><td>EXT</td><td>649377</td><td>198.36913066098333</td><td>36.537203704917076</td><td>0.0</td><td>0.0567420462925582</td><td>0.599999979158402</td><td>0.0</td><td>1.0</td></tr>\n",
       "<tr><td>2399148812795907</td><td>198.371733180003</td><td>36.4994335406917</td><td>10475</td><td>main</td><td>1.11088784970434</td><td>7.48767797671894e-05</td><td>4</td><td>7.9473560154438</td><td>iron/healpix/main/bright/104/10475/redrock-main-bright-10475.fits</td><td>EXT</td><td>649377</td><td>198.37173318000336</td><td>36.499433540691676</td><td>0.0</td><td>0.09457007715465947</td><td>0.9999999652681886</td><td>0.0</td><td>1.0</td></tr>\n",
       "<tr><td>2399382443917318</td><td>184.845242475328</td><td>49.8157304793777</td><td>10995</td><td>main</td><td>1.14739342108157</td><td>0.000146302276719084</td><td>4</td><td>2.56771463155746</td><td>iron/healpix/main/bright/109/10995/redrock-main-bright-10995.fits</td><td>EXT</td><td>1008911</td><td>184.84524247532795</td><td>49.81573047937771</td><td>0.0</td><td>0.024841917763806447</td><td>0.9999999684347345</td><td>0.0</td><td>0.0</td></tr>\n",
       "<tr><td>2399634072797192</td><td>184.341289722203</td><td>70.8283725474297</td><td>11965</td><td>main</td><td>1.51703376230705</td><td>6.28979649962091e-05</td><td>4</td><td>4.76254060305655</td><td>iron/healpix/main/bright/119/11965/redrock-main-bright-11965.fits</td><td>EXT</td><td>241234</td><td>184.34128972220284</td><td>70.82837254742968</td><td>0.0</td><td>0.026555350833845817</td><td>0.8000000542794348</td><td>0.0</td><td>0.0</td></tr>\n",
       "<tr><td>2852141710442505</td><td>123.256011148025</td><td>36.2652948002806</td><td>6448</td><td>main</td><td>0.00787379494184006</td><td>3.4714052819995e-05</td><td>0</td><td>22.1719104201402</td><td>iron/healpix/main/dark/64/6448/redrock-main-dark-6448.fits</td><td>EXT</td><td>31591</td><td>123.25601114802525</td><td>36.26529480028061</td><td>0.0</td><td>0.015878717350385107</td><td>0.40000000619171416</td><td>0.0</td><td>0.0</td></tr>\n",
       "</table></div>"
      ],
      "text/plain": [
       "<Table length=5>\n",
       "    TARGETID        TARGET_RA        TARGET_DEC    ... ROT_CURVE   EOA  \n",
       "     int64           float64          float64      ...  float64  float64\n",
       "---------------- ---------------- ---------------- ... --------- -------\n",
       "2852147603439621 198.369130660983 36.5372037049171 ...       0.0     1.0\n",
       "2399148812795907 198.371733180003 36.4994335406917 ...       0.0     1.0\n",
       "2399382443917318 184.845242475328 49.8157304793777 ...       0.0     0.0\n",
       "2399634072797192 184.341289722203 70.8283725474297 ...       0.0     0.0\n",
       "2852141710442505 123.256011148025 36.2652948002806 ...       0.0     0.0"
      ]
     },
     "execution_count": 18,
     "metadata": {},
     "output_type": "execute_result"
    }
   ],
   "source": [
    "# load iron table\n",
    "tf_iron = Table.read(data_dir + 'Y1/desi_pv_tf_iron_healpix_rotcurve_EOA_VI.fits')\n",
    "tf_iron[:5]"
   ]
  },
  {
   "cell_type": "code",
   "execution_count": 23,
   "id": "a8f10904-95c9-4de3-b76f-7b1f33980b3d",
   "metadata": {
    "tags": []
   },
   "outputs": [],
   "source": [
    "tf_fuji['VELOCITY']=np.nan\n",
    "tf_fuji['VELOCITY_REL']=np.nan\n",
    "tf_iron['VELOCITY']=np.nan\n",
    "tf_iron['VELOCITY_REL']=np.nan"
   ]
  },
  {
   "cell_type": "code",
   "execution_count": 47,
   "id": "d096152b-02cc-420d-9751-f7bdfa67e49c",
   "metadata": {
    "tags": []
   },
   "outputs": [
    {
     "name": "stdout",
     "output_type": "stream",
     "text": [
      "Maximum value in tf_fuji: 0.173630148670864\n",
      "Maximum value in tf_iron: 1.62543750380985\n"
     ]
    }
   ],
   "source": [
    "# tf_fuji[tf_fuji['SKY_FIBER_DIST_R26'] < 0.001]\n",
    "# tf_iron[tf_iron['SKY_FIBER_DIST_R26'] < 0.001]\n",
    "# df = pd.DataFrame(tf_iron)\n",
    "# print(df.max())\n",
    "\n",
    "# Filter the data based on the condition\n",
    "filtered_tf_fuji = tf_fuji[tf_fuji['SKY_FIBER_DIST_R26'] < 0.001]\n",
    "filtered_tf_iron = tf_iron[tf_iron['SKY_FIBER_DIST_R26'] < 0.001]\n",
    "\n",
    "filtered_tf_fuji = filtered_tf_fuji[filtered_tf_fuji['ROT_CURVE'] == 1]\n",
    "filtered_tf_iron = filtered_tf_iron[filtered_tf_iron['ROT_CURVE'] == 1]\n",
    "\n",
    "# Find the maximum value of a specific column in the filtered data\n",
    "max_value_fuji = filtered_tf_fuji['Z'].max()\n",
    "max_value_iron = filtered_tf_iron['Z'].max()\n",
    "\n",
    "print(\"Maximum value in tf_fuji:\", max_value_fuji)\n",
    "print(\"Maximum value in tf_iron:\", max_value_iron)"
   ]
  },
  {
   "cell_type": "code",
   "execution_count": 63,
   "id": "8d4e9e24-c679-4152-ba9a-628e3b7bf52b",
   "metadata": {
    "tags": []
   },
   "outputs": [
    {
     "name": "stdout",
     "output_type": "stream",
     "text": [
      " SGA_ID\n",
      "-------\n",
      "    123\n",
      "    896\n",
      "   1548\n",
      "   1583\n",
      "   1980\n",
      "   2497\n",
      "   5732\n",
      "   5958\n",
      "   5964\n",
      "   6443\n",
      "    ...\n",
      "1421164\n",
      "1421334\n",
      "1424489\n",
      "1427956\n",
      "1429142\n",
      "1429680\n",
      "1430013\n",
      "1431285\n",
      "1434487\n",
      "5001339\n",
      "5002047\n",
      "Length = 1267 rows  SGA_ID\n",
      "-------\n",
      "    123\n",
      "    896\n",
      "   1548\n",
      "   1583\n",
      "   1980\n",
      "   2497\n",
      "   5732\n",
      "   5958\n",
      "   5964\n",
      "   6443\n",
      "    ...\n",
      "1421334\n",
      "1424489\n",
      "1427956\n",
      "1429142\n",
      "1429680\n",
      "1430013\n",
      "1431285\n",
      "1434487\n",
      "2000055\n",
      "5001339\n",
      "5002047\n",
      "Length = 1298 rows\n"
     ]
    }
   ],
   "source": [
    "tf_fuji_rot = np.unique(tf_fuji[tf_fuji['ROT_CURVE']==1]['SGA_ID'])\n",
    "tf_iron_rot = np.unique(tf_iron[tf_iron['ROT_CURVE']==1]['SGA_ID'])\n",
    "print(tf_fuji_rot, tf_iron_rot)"
   ]
  },
  {
   "cell_type": "raw",
   "id": "49df68f2-a7e6-4a70-b9e5-62b2cefed495",
   "metadata": {},
   "source": []
  },
  {
   "cell_type": "code",
   "execution_count": 95,
   "id": "6aa94497-e56e-4a32-8b24-aa64673b8cd7",
   "metadata": {
    "tags": []
   },
   "outputs": [
    {
     "name": "stdout",
     "output_type": "stream",
     "text": [
      "     TARGETID    \n",
      "-----------------\n",
      " 1071233026228227\n",
      " 1071233026228228\n",
      " 1071233026228231\n",
      " 1084427165761544\n",
      "39633304835591852\n"
     ]
    }
   ],
   "source": [
    "# find all unique target ID's for one galaxy\n",
    "targets_fuji=tf_fuji[tf_fuji['SGA_ID']==  123]\n",
    "targets_iron=tf_iron[tf_iron['SGA_ID']== 123]\n",
    "targets=(vstack([targets_fuji,targets_iron]))\n",
    "target_list=np.unique(targets['TARGETID'])\n",
    "print(target_list)"
   ]
  },
  {
   "cell_type": "code",
   "execution_count": 55,
   "id": "808103fb-0aae-4853-ac25-8086607dfb24",
   "metadata": {
    "tags": []
   },
   "outputs": [
    {
     "data": {
      "text/html": [
       "<div><i>Table length=4684</i>\n",
       "<table id=\"table140470217060704\" class=\"table-striped table-bordered table-condensed\">\n",
       "<thead><tr><th>TARGETID</th><th>TARGET_RA</th><th>TARGET_DEC</th><th>HEALPIX</th><th>SURVEY</th><th>Z</th><th>ZERR</th><th>ZWARN</th><th>DELTACHI2</th><th>FILENAME</th><th>PVTYPE</th><th>SGA_ID</th><th>RA</th><th>DEC</th><th>OBS_IN_SV</th><th>SKY_FIBER_DIST</th><th>SKY_FIBER_DIST_R26</th><th>ROT_CURVE</th><th>EOA</th><th>VELOCITY</th><th>VELOCITY_REL</th></tr></thead>\n",
       "<thead><tr><th>int64</th><th>float64</th><th>float64</th><th>int64</th><th>bytes3</th><th>float64</th><th>float64</th><th>int64</th><th>float64</th><th>bytes63</th><th>bytes3</th><th>int64</th><th>float64</th><th>float64</th><th>float64</th><th>float64</th><th>float64</th><th>float64</th><th>float64</th><th>float64</th><th>float64</th></tr></thead>\n",
       "<tr><td>2305843015479989956</td><td>173.45541945964</td><td>53.1254763873733</td><td>5976</td><td>sv1</td><td>0.00333404373962337</td><td>2.24812533738904e-07</td><td>0</td><td>1486700.56152642</td><td>fuji/healpix/sv1/other/59/5976/redrock-sv1-other-5976.fits</td><td>EXT</td><td>559707</td><td>173.4553483637811</td><td>53.12541571341898</td><td>1.0</td><td>6.3611093629270335e-15</td><td>1.3719474372226997e-13</td><td>0.0</td><td>1.0</td><td>nan</td><td>nan</td></tr>\n",
       "<tr><td>39633062551620033</td><td>153.178857933669</td><td>39.3739445564769</td><td>5703</td><td>sv1</td><td>0.022711924294578</td><td>5.75568615760296e-07</td><td>0</td><td>641871.757860661</td><td>fuji/healpix/sv1/bright/57/5703/redrock-sv1-bright-5703.fits</td><td>EXT</td><td>1037949</td><td>153.17885793366855</td><td>39.3739445564769</td><td>1.0</td><td>0.0</td><td>0.0</td><td>0.0</td><td>0.0</td><td>nan</td><td>nan</td></tr>\n",
       "<tr><td>39633062056692288</td><td>115.163713024568</td><td>39.2330431988692</td><td>6560</td><td>sv1</td><td>0.0112289665628835</td><td>2.5580485409679e-06</td><td>0</td><td>199314.054352144</td><td>fuji/healpix/sv1/bright/65/6560/redrock-sv1-bright-6560.fits</td><td>EXT</td><td>17643</td><td>115.16371302456768</td><td>39.2330431988692</td><td>1.0</td><td>1.1007441864020942e-14</td><td>2.0732856604950621e-13</td><td>0.0</td><td>0.0</td><td>nan</td><td>nan</td></tr>\n",
       "<tr><td>39627865758633464</td><td>150.11281896177</td><td>3.37442274219938</td><td>27345</td><td>sv3</td><td>0.00687190356978907</td><td>1.5141461957797e-06</td><td>0</td><td>24405.1790848412</td><td>fuji/healpix/sv3/bright/273/27345/redrock-sv3-bright-27345.fits</td><td>EXT</td><td>1225398</td><td>150.1128189617695</td><td>3.3744227421993793</td><td>1.0</td><td>0.0</td><td>0.0</td><td>1.0</td><td>0.0</td><td>nan</td><td>nan</td></tr>\n",
       "<tr><td>39627770296276005</td><td>219.956999318774</td><td>-0.718640392418429</td><td>25933</td><td>sv3</td><td>0.00585538786570846</td><td>4.19501768104605e-06</td><td>0</td><td>2858.02824933385</td><td>fuji/healpix/sv3/bright/259/25933/redrock-sv3-bright-25933.fits</td><td>EXT</td><td>166290</td><td>219.95699931877425</td><td>-0.7186403924184287</td><td>1.0</td><td>0.0</td><td>0.0</td><td>1.0</td><td>0.0</td><td>nan</td><td>nan</td></tr>\n",
       "<tr><td>39633365250342941</td><td>178.583332219869</td><td>58.1831490603587</td><td>6007</td><td>sv2</td><td>0.053196839390209</td><td>6.46704883796473e-06</td><td>0</td><td>5668.41995278001</td><td>fuji/healpix/sv2/bright/60/6007/redrock-sv2-bright-6007.fits</td><td>TFT</td><td>1091594</td><td>178.58333221986857</td><td>58.18314906035869</td><td>1.0</td><td>0.0</td><td>0.0</td><td>0.0</td><td>0.0</td><td>nan</td><td>nan</td></tr>\n",
       "<tr><td>39633404920070175</td><td>186.78389561027</td><td>61.618475942601</td><td>11250</td><td>sv3</td><td>0.0705627702950349</td><td>6.8084684234377e-06</td><td>0</td><td>2307.48744933307</td><td>fuji/healpix/sv3/bright/112/11250/redrock-sv3-bright-11250.fits</td><td>TFT</td><td>820765</td><td>186.78389561027012</td><td>61.61847594260104</td><td>1.0</td><td>0.0</td><td>0.0</td><td>0.0</td><td>0.0</td><td>nan</td><td>nan</td></tr>\n",
       "<tr><td>39632991730794532</td><td>252.858128421553</td><td>35.5753130130782</td><td>9429</td><td>sv3</td><td>0.0641584566287161</td><td>7.48677701522306e-06</td><td>0</td><td>898.090423569083</td><td>fuji/healpix/sv3/bright/94/9429/redrock-sv3-bright-9429.fits</td><td>TFT</td><td>651270</td><td>252.85812842155318</td><td>35.57531301307821</td><td>1.0</td><td>0.0</td><td>0.0</td><td>1.0</td><td>0.0</td><td>nan</td><td>nan</td></tr>\n",
       "<tr><td>39633220098064420</td><td>162.038766796335</td><td>48.3314519602365</td><td>5914</td><td>sv1</td><td>0.041278770975308</td><td>2.28758632187292e-06</td><td>0</td><td>129189.216787577</td><td>fuji/healpix/sv1/bright/59/5914/redrock-sv1-bright-5914.fits</td><td>TFT</td><td>1061166</td><td>162.0387667963351</td><td>48.3314519602365</td><td>1.0</td><td>3.1805546814635168e-15</td><td>4.2064617259532895e-13</td><td>0.0</td><td>0.0</td><td>nan</td><td>nan</td></tr>\n",
       "<tr><td>39633349005803569</td><td>178.632207659594</td><td>56.8774298998823</td><td>5983</td><td>sv2</td><td>0.0638163622568197</td><td>7.06090750064455e-06</td><td>0</td><td>11543.8502509743</td><td>fuji/healpix/sv2/bright/59/5983/redrock-sv2-bright-5983.fits</td><td>TFT</td><td>742615</td><td>178.63220765959392</td><td>56.877429899882266</td><td>1.0</td><td>0.0</td><td>0.0</td><td>0.0</td><td>0.0</td><td>nan</td><td>nan</td></tr>\n",
       "<tr><td>...</td><td>...</td><td>...</td><td>...</td><td>...</td><td>...</td><td>...</td><td>...</td><td>...</td><td>...</td><td>...</td><td>...</td><td>...</td><td>...</td><td>...</td><td>...</td><td>...</td><td>...</td><td>...</td><td>...</td><td>...</td></tr>\n",
       "<tr><td>39627799832565848</td><td>180.490647675296</td><td>0.613352516597521</td><td>27648</td><td>sv3</td><td>0.0785722823296796</td><td>1.8284679629918e-05</td><td>0</td><td>5060.8974143751</td><td>fuji/healpix/sv3/bright/276/27648/redrock-sv3-bright-27648.fits</td><td>SGA</td><td>184073</td><td>180.49064767529634</td><td>0.6133525165975208</td><td>1.0</td><td>0.0</td><td>0.0</td><td>0.0</td><td>0.0</td><td>nan</td><td>nan</td></tr>\n",
       "<tr><td>39627776252188890</td><td>214.987010854477</td><td>-0.503343602041398</td><td>25960</td><td>sv3</td><td>0.13533271685813</td><td>1.73662210536451e-05</td><td>0</td><td>1587.39171415847</td><td>fuji/healpix/sv3/bright/259/25960/redrock-sv3-bright-25960.fits</td><td>SGA</td><td>1233778</td><td>214.98701085447712</td><td>-0.5033436020413983</td><td>1.0</td><td>0.0</td><td>0.0</td><td>0.0</td><td>0.0</td><td>nan</td><td>nan</td></tr>\n",
       "<tr><td>39627779326613824</td><td>38.1871219355261</td><td>-0.259331150046025</td><td>17764</td><td>sv1</td><td>0.110101718990823</td><td>1.00047608114901e-05</td><td>0</td><td>3376.37831874937</td><td>fuji/healpix/sv1/bright/177/17764/redrock-sv1-bright-17764.fits</td><td>SGA</td><td>632014</td><td>38.18712193552614</td><td>-0.25933115004602497</td><td>1.0</td><td>0.0</td><td>0.0</td><td>0.0</td><td>0.0</td><td>nan</td><td>nan</td></tr>\n",
       "<tr><td>39627884993714761</td><td>218.29412247975</td><td>3.94263082693601</td><td>26068</td><td>sv3</td><td>0.0300338385401113</td><td>2.1331829270915e-06</td><td>0</td><td>7072.27006235719</td><td>fuji/healpix/sv3/bright/260/26068/redrock-sv3-bright-26068.fits</td><td>SGA</td><td>720907</td><td>218.29412247974997</td><td>3.9426308269360146</td><td>1.0</td><td>0.0</td><td>0.0</td><td>0.0</td><td>0.0</td><td>nan</td><td>nan</td></tr>\n",
       "<tr><td>39627580537576084</td><td>32.2580849774572</td><td>-8.55957679820788</td><td>17495</td><td>sv1</td><td>0.0405680730684111</td><td>1.5641396906789e-06</td><td>0</td><td>69786.726639986</td><td>fuji/healpix/sv1/bright/174/17495/redrock-sv1-bright-17495.fits</td><td>SGA</td><td>105774</td><td>32.25808497745719</td><td>-8.559576798207877</td><td>1.0</td><td>0.0</td><td>0.0</td><td>0.0</td><td>0.0</td><td>nan</td><td>nan</td></tr>\n",
       "<tr><td>39627688637373133</td><td>30.7249101375182</td><td>-4.1221212721067</td><td>17708</td><td>sv1</td><td>0.0432927383774815</td><td>2.4566668470269e-06</td><td>0</td><td>75156.065702216</td><td>fuji/healpix/sv1/bright/177/17708/redrock-sv1-bright-17708.fits</td><td>SGA</td><td>1069273</td><td>30.724910137518155</td><td>-4.122121272106699</td><td>1.0</td><td>0.0</td><td>0.0</td><td>0.0</td><td>0.0</td><td>nan</td><td>nan</td></tr>\n",
       "<tr><td>39627688654150621</td><td>31.7557931194421</td><td>-4.04913648065817</td><td>17709</td><td>sv1</td><td>0.0575032681849223</td><td>6.32980437867601e-06</td><td>0</td><td>2743.45002766908</td><td>fuji/healpix/sv1/bright/177/17709/redrock-sv1-bright-17709.fits</td><td>SGA</td><td>159219</td><td>31.755793119442107</td><td>-4.049136480658174</td><td>1.0</td><td>0.0</td><td>0.0</td><td>0.0</td><td>0.0</td><td>nan</td><td>nan</td></tr>\n",
       "<tr><td>39627809513020549</td><td>37.4414493099132</td><td>0.985644323782287</td><td>17773</td><td>sv1</td><td>0.0817193751628826</td><td>1.32963229988165e-05</td><td>0</td><td>949.689689807594</td><td>fuji/healpix/sv1/bright/177/17773/redrock-sv1-bright-17773.fits</td><td>SGA</td><td>473583</td><td>37.441449309913196</td><td>0.9856443237822866</td><td>1.0</td><td>0.0</td><td>0.0</td><td>0.0</td><td>0.0</td><td>nan</td><td>nan</td></tr>\n",
       "<tr><td>39627604457693448</td><td>30.9475191299151</td><td>-7.45753462810178</td><td>17503</td><td>sv1</td><td>-0.00199569129234795</td><td>4.13114935733491e-48</td><td>1570</td><td>1.94266889222573e+84</td><td>fuji/healpix/sv1/bright/175/17503/redrock-sv1-bright-17503.fits</td><td>SGA</td><td>421204</td><td>30.947519129915058</td><td>-7.457534628101777</td><td>1.0</td><td>0.0</td><td>0.0</td><td>0.0</td><td>0.0</td><td>nan</td><td>nan</td></tr>\n",
       "<tr><td>39627803473224067</td><td>37.4563594834351</td><td>0.813088435173197</td><td>17773</td><td>sv1</td><td>0.0224072655842088</td><td>4.04784181022138e-06</td><td>0</td><td>2398.74739653245</td><td>fuji/healpix/sv1/bright/177/17773/redrock-sv1-bright-17773.fits</td><td>SGA</td><td>1262814</td><td>37.456359483435115</td><td>0.8130884351731967</td><td>1.0</td><td>0.0</td><td>0.0</td><td>0.0</td><td>0.0</td><td>nan</td><td>nan</td></tr>\n",
       "</table></div>"
      ],
      "text/plain": [
       "<Table length=4684>\n",
       "      TARGETID         TARGET_RA     ... VELOCITY VELOCITY_REL\n",
       "       int64            float64      ... float64    float64   \n",
       "------------------- ---------------- ... -------- ------------\n",
       "2305843015479989956  173.45541945964 ...      nan          nan\n",
       "  39633062551620033 153.178857933669 ...      nan          nan\n",
       "  39633062056692288 115.163713024568 ...      nan          nan\n",
       "  39627865758633464  150.11281896177 ...      nan          nan\n",
       "  39627770296276005 219.956999318774 ...      nan          nan\n",
       "  39633365250342941 178.583332219869 ...      nan          nan\n",
       "  39633404920070175  186.78389561027 ...      nan          nan\n",
       "  39632991730794532 252.858128421553 ...      nan          nan\n",
       "  39633220098064420 162.038766796335 ...      nan          nan\n",
       "  39633349005803569 178.632207659594 ...      nan          nan\n",
       "                ...              ... ...      ...          ...\n",
       "  39627799832565848 180.490647675296 ...      nan          nan\n",
       "  39627776252188890 214.987010854477 ...      nan          nan\n",
       "  39627779326613824 38.1871219355261 ...      nan          nan\n",
       "  39627884993714761  218.29412247975 ...      nan          nan\n",
       "  39627580537576084 32.2580849774572 ...      nan          nan\n",
       "  39627688637373133 30.7249101375182 ...      nan          nan\n",
       "  39627688654150621 31.7557931194421 ...      nan          nan\n",
       "  39627809513020549 37.4414493099132 ...      nan          nan\n",
       "  39627604457693448 30.9475191299151 ...      nan          nan\n",
       "  39627803473224067 37.4563594834351 ...      nan          nan"
      ]
     },
     "execution_count": 55,
     "metadata": {},
     "output_type": "execute_result"
    }
   ],
   "source": [
    "centers_tf_fuji = tf_fuji[tf_fuji['SKY_FIBER_DIST_R26'] < 0.001]\n",
    "centers_tf_fuji"
   ]
  },
  {
   "cell_type": "code",
   "execution_count": 57,
   "id": "6c774cba-2f7d-4bf2-b91e-122b4eb15cad",
   "metadata": {
    "tags": []
   },
   "outputs": [
    {
     "data": {
      "text/html": [
       "<div><i>Table length=76515</i>\n",
       "<table id=\"table140470217062624\" class=\"table-striped table-bordered table-condensed\">\n",
       "<thead><tr><th>TARGETID</th><th>TARGET_RA</th><th>TARGET_DEC</th><th>HEALPIX</th><th>SURVEY</th><th>Z</th><th>ZERR</th><th>ZWARN</th><th>DELTACHI2</th><th>FILENAME</th><th>PVTYPE</th><th>SGA_ID</th><th>RA</th><th>DEC</th><th>OBS_IN_SV</th><th>SKY_FIBER_DIST</th><th>SKY_FIBER_DIST_R26</th><th>ROT_CURVE</th><th>EOA</th><th>VELOCITY_REL</th><th>VELOCITY</th></tr></thead>\n",
       "<thead><tr><th>int64</th><th>float64</th><th>float64</th><th>int64</th><th>bytes4</th><th>float64</th><th>float64</th><th>int64</th><th>float64</th><th>bytes65</th><th>bytes3</th><th>int64</th><th>float64</th><th>float64</th><th>float64</th><th>float64</th><th>float64</th><th>float64</th><th>float64</th><th>float64</th><th>float64</th></tr></thead>\n",
       "<tr><td>39632981425390961</td><td>222.111381963082</td><td>34.9980057574604</td><td>9187</td><td>main</td><td>0.0294233178741356</td><td>1.01512926413074e-05</td><td>0</td><td>21237.1530243214</td><td>iron/healpix/main/bright/91/9187/redrock-main-bright-9187.fits</td><td>EXT</td><td>492092</td><td>222.11138196308235</td><td>34.998005757460405</td><td>0.0</td><td>0.0</td><td>0.0</td><td>1.0</td><td>0.0</td><td>nan</td><td>nan</td></tr>\n",
       "<tr><td>39633212137276827</td><td>175.319255631279</td><td>47.6908027474544</td><td>5593</td><td>main</td><td>0.010359363587595</td><td>1.28399688016051e-06</td><td>0</td><td>165308.385529607</td><td>iron/healpix/main/bright/55/5593/redrock-main-bright-5593.fits</td><td>EXT</td><td>519430</td><td>175.31925563127928</td><td>47.69080274745436</td><td>0.0</td><td>0.0</td><td>0.0</td><td>0.0</td><td>0.0</td><td>nan</td><td>nan</td></tr>\n",
       "<tr><td>39632947015320877</td><td>269.023824643101</td><td>33.2084140231297</td><td>32713</td><td>main</td><td>0.0159236496100827</td><td>5.29297961077083e-06</td><td>0</td><td>109260.073396253</td><td>iron/healpix/main/bright/327/32713/redrock-main-bright-32713.fits</td><td>EXT</td><td>80048</td><td>269.0238246431006</td><td>33.20841402312973</td><td>0.0</td><td>0.0</td><td>0.0</td><td>0.0</td><td>0.0</td><td>nan</td><td>nan</td></tr>\n",
       "<tr><td>2852223826526217</td><td>231.672830190053</td><td>40.5645147760559</td><td>9869</td><td>main</td><td>0.00874226946408794</td><td>3.93907247375542e-06</td><td>0</td><td>18038.6796703626</td><td>iron/healpix/main/dark/98/9869/redrock-main-dark-9869.fits</td><td>EXT</td><td>1371198</td><td>231.67283019005313</td><td>40.56451477605587</td><td>0.0</td><td>0.0</td><td>0.0</td><td>0.0</td><td>0.0</td><td>nan</td><td>nan</td></tr>\n",
       "<tr><td>39633010814878547</td><td>216.086231258379</td><td>36.4613289316431</td><td>10524</td><td>main</td><td>0.027967980236947</td><td>7.68741137806728e-06</td><td>0</td><td>25608.7173414612</td><td>iron/healpix/main/bright/105/10524/redrock-main-bright-10524.fits</td><td>EXT</td><td>179329</td><td>216.08623125837948</td><td>36.461328931643074</td><td>0.0</td><td>0.0</td><td>0.0</td><td>0.0</td><td>0.0</td><td>nan</td><td>nan</td></tr>\n",
       "<tr><td>39633429452556827</td><td>106.645087200257</td><td>63.8489485519007</td><td>7815</td><td>main</td><td>0.0142824781609945</td><td>3.07212636251081e-06</td><td>0</td><td>115559.587142028</td><td>iron/healpix/main/bright/78/7815/redrock-main-bright-7815.fits</td><td>EXT</td><td>599080</td><td>106.64508720025721</td><td>63.848948551900726</td><td>0.0</td><td>1.4180392320368964e-14</td><td>5.256999774323051e-13</td><td>0.0</td><td>0.0</td><td>nan</td><td>nan</td></tr>\n",
       "<tr><td>39633062056692288</td><td>115.163713024568</td><td>39.2330431988692</td><td>6560</td><td>sv1</td><td>0.0112290864530619</td><td>2.55248321965483e-06</td><td>0</td><td>210806.64164253</td><td>iron/healpix/sv1/bright/65/6560/redrock-sv1-bright-6560.fits</td><td>EXT</td><td>17643</td><td>115.16371302456768</td><td>39.2330431988692</td><td>1.0</td><td>1.1007441864020942e-14</td><td>2.0732856604950621e-13</td><td>0.0</td><td>0.0</td><td>nan</td><td>nan</td></tr>\n",
       "<tr><td>39632930946943252</td><td>210.650306403024</td><td>32.5103349112541</td><td>10357</td><td>main</td><td>0.0142975626621876</td><td>2.47037281141051e-06</td><td>0</td><td>77415.0852880366</td><td>iron/healpix/main/bright/103/10357/redrock-main-bright-10357.fits</td><td>EXT</td><td>747892</td><td>210.650306403024</td><td>32.51033491125415</td><td>0.0</td><td>2.3967871667907746e-14</td><td>8.569450059996153e-13</td><td>0.0</td><td>0.0</td><td>nan</td><td>nan</td></tr>\n",
       "<tr><td>2852067974578181</td><td>210.650306403024</td><td>32.5103349112541</td><td>10357</td><td>main</td><td>0.0142602971000219</td><td>1.6354441573242e-06</td><td>0</td><td>128448.740757972</td><td>iron/healpix/main/dark/103/10357/redrock-main-dark-10357.fits</td><td>EXT</td><td>747892</td><td>210.650306403024</td><td>32.51033491125415</td><td>0.0</td><td>2.3967871667907746e-14</td><td>8.569450059996153e-13</td><td>0.0</td><td>0.0</td><td>nan</td><td>nan</td></tr>\n",
       "<tr><td>39632941206208838</td><td>216.019898540707</td><td>33.0474110189656</td><td>10501</td><td>main</td><td>0.00655488909124642</td><td>3.64638274065069e-06</td><td>0</td><td>133962.636167373</td><td>iron/healpix/main/bright/105/10501/redrock-main-bright-10501.fits</td><td>EXT</td><td>617559</td><td>216.0198985407066</td><td>33.04741101896559</td><td>0.0</td><td>0.0</td><td>0.0</td><td>1.0</td><td>0.0</td><td>nan</td><td>nan</td></tr>\n",
       "<tr><td>...</td><td>...</td><td>...</td><td>...</td><td>...</td><td>...</td><td>...</td><td>...</td><td>...</td><td>...</td><td>...</td><td>...</td><td>...</td><td>...</td><td>...</td><td>...</td><td>...</td><td>...</td><td>...</td><td>...</td><td>...</td></tr>\n",
       "<tr><td>39628170298657943</td><td>220.695685123872</td><td>16.0816092675801</td><td>8772</td><td>main</td><td>0.0363442166384117</td><td>2.66107459303882e-06</td><td>0</td><td>11271.8845733617</td><td>iron/healpix/main/bright/87/8772/redrock-main-bright-8772.fits</td><td>TFT</td><td>476790</td><td>220.69568512387232</td><td>16.08160926758014</td><td>0.0</td><td>0.0</td><td>0.0</td><td>0.0</td><td>0.0</td><td>nan</td><td>nan</td></tr>\n",
       "<tr><td>39628176099380386</td><td>220.215911442066</td><td>16.1405881016041</td><td>8769</td><td>main</td><td>0.0429536630204855</td><td>7.96465712738408e-06</td><td>0</td><td>656.525143112987</td><td>iron/healpix/main/bright/87/8769/redrock-main-bright-8769.fits</td><td>TFT</td><td>1069389</td><td>220.2159114420657</td><td>16.14058810160406</td><td>0.0</td><td>3.1805546814635168e-15</td><td>7.756427864098918e-13</td><td>0.0</td><td>0.0</td><td>nan</td><td>nan</td></tr>\n",
       "<tr><td>39628187688241578</td><td>220.052905660042</td><td>16.754533553194</td><td>8774</td><td>main</td><td>0.108009873160349</td><td>1.54177922225668e-05</td><td>0</td><td>3526.91658753948</td><td>iron/healpix/main/bright/87/8774/redrock-main-bright-8774.fits</td><td>TFT</td><td>570959</td><td>220.0529056600419</td><td>16.75453355319404</td><td>0.0</td><td>0.0</td><td>0.0</td><td>0.0</td><td>0.0</td><td>nan</td><td>nan</td></tr>\n",
       "<tr><td>39628187688242044</td><td>220.081360191205</td><td>16.6850749333024</td><td>8774</td><td>main</td><td>0.0299244765955022</td><td>9.9739919522185e-06</td><td>0</td><td>7140.4656449405</td><td>iron/healpix/main/bright/87/8774/redrock-main-bright-8774.fits</td><td>TFT</td><td>1195293</td><td>220.0813601912045</td><td>16.685074933302445</td><td>0.0</td><td>0.0</td><td>0.0</td><td>0.0</td><td>0.0</td><td>nan</td><td>nan</td></tr>\n",
       "<tr><td>2305843018059485624</td><td>225.721731990074</td><td>16.9189852151273</td><td>8438</td><td>main</td><td>0.020929269419286</td><td>1.13433813225525e-06</td><td>0</td><td>134912.593574345</td><td>iron/healpix/main/backup/84/8438/redrock-main-backup-8438.fits</td><td>TFT</td><td>1076749</td><td>225.72172474649994</td><td>16.91891853503617</td><td>0.0</td><td>0.0</td><td>0.0</td><td>0.0</td><td>0.0</td><td>nan</td><td>nan</td></tr>\n",
       "<tr><td>39628147070601523</td><td>225.915599270569</td><td>15.0247654433451</td><td>8411</td><td>main</td><td>0.0361115946387217</td><td>3.18654510560542e-06</td><td>0</td><td>6022.86883181334</td><td>iron/healpix/main/bright/84/8411/redrock-main-bright-8411.fits</td><td>TFT</td><td>1029028</td><td>225.9155992705694</td><td>15.024765443345105</td><td>0.0</td><td>0.0</td><td>0.0</td><td>0.0</td><td>0.0</td><td>nan</td><td>nan</td></tr>\n",
       "<tr><td>39628250946732115</td><td>221.561567031637</td><td>19.4056542670243</td><td>8793</td><td>main</td><td>0.044197315010704</td><td>2.95695794671446e-06</td><td>0</td><td>2748.32202285528</td><td>iron/healpix/main/bright/87/8793/redrock-main-bright-8793.fits</td><td>TFT</td><td>838075</td><td>221.56156703163722</td><td>19.405654267024318</td><td>0.0</td><td>0.0</td><td>0.0</td><td>0.0</td><td>0.0</td><td>nan</td><td>nan</td></tr>\n",
       "<tr><td>39628250946732191</td><td>221.565256838818</td><td>19.5999273620398</td><td>8793</td><td>main</td><td>0.0681245462105783</td><td>1.97949355515174e-05</td><td>0</td><td>3418.83049730305</td><td>iron/healpix/main/bright/87/8793/redrock-main-bright-8793.fits</td><td>TFT</td><td>282197</td><td>221.5652568388181</td><td>19.599927362039846</td><td>0.0</td><td>0.0</td><td>0.0</td><td>0.0</td><td>0.0</td><td>nan</td><td>nan</td></tr>\n",
       "<tr><td>39628233800418916</td><td>221.733042028194</td><td>18.6492849905645</td><td>8787</td><td>main</td><td>0.0661453340989506</td><td>6.74978482396179e-06</td><td>0</td><td>3467.61512088776</td><td>iron/healpix/main/bright/87/8787/redrock-main-bright-8787.fits</td><td>TFT</td><td>1355700</td><td>221.73304202819352</td><td>18.649284990564517</td><td>0.0</td><td>0.0</td><td>0.0</td><td>0.0</td><td>0.0</td><td>nan</td><td>nan</td></tr>\n",
       "<tr><td>39628239521451304</td><td>221.634605747086</td><td>19.112287528364</td><td>8793</td><td>main</td><td>0.0700745078294578</td><td>2.02944346254686e-05</td><td>0</td><td>2984.49141149549</td><td>iron/healpix/main/bright/87/8793/redrock-main-bright-8793.fits</td><td>TFT</td><td>1172051</td><td>221.63460574708606</td><td>19.112287528364</td><td>0.0</td><td>0.0</td><td>0.0</td><td>0.0</td><td>0.0</td><td>nan</td><td>nan</td></tr>\n",
       "</table></div>"
      ],
      "text/plain": [
       "<Table length=76515>\n",
       "      TARGETID         TARGET_RA        TARGET_DEC    ... VELOCITY_REL VELOCITY\n",
       "       int64            float64          float64      ...   float64    float64 \n",
       "------------------- ---------------- ---------------- ... ------------ --------\n",
       "  39632981425390961 222.111381963082 34.9980057574604 ...          nan      nan\n",
       "  39633212137276827 175.319255631279 47.6908027474544 ...          nan      nan\n",
       "  39632947015320877 269.023824643101 33.2084140231297 ...          nan      nan\n",
       "   2852223826526217 231.672830190053 40.5645147760559 ...          nan      nan\n",
       "  39633010814878547 216.086231258379 36.4613289316431 ...          nan      nan\n",
       "  39633429452556827 106.645087200257 63.8489485519007 ...          nan      nan\n",
       "  39633062056692288 115.163713024568 39.2330431988692 ...          nan      nan\n",
       "  39632930946943252 210.650306403024 32.5103349112541 ...          nan      nan\n",
       "   2852067974578181 210.650306403024 32.5103349112541 ...          nan      nan\n",
       "  39632941206208838 216.019898540707 33.0474110189656 ...          nan      nan\n",
       "                ...              ...              ... ...          ...      ...\n",
       "  39628170298657943 220.695685123872 16.0816092675801 ...          nan      nan\n",
       "  39628176099380386 220.215911442066 16.1405881016041 ...          nan      nan\n",
       "  39628187688241578 220.052905660042  16.754533553194 ...          nan      nan\n",
       "  39628187688242044 220.081360191205 16.6850749333024 ...          nan      nan\n",
       "2305843018059485624 225.721731990074 16.9189852151273 ...          nan      nan\n",
       "  39628147070601523 225.915599270569 15.0247654433451 ...          nan      nan\n",
       "  39628250946732115 221.561567031637 19.4056542670243 ...          nan      nan\n",
       "  39628250946732191 221.565256838818 19.5999273620398 ...          nan      nan\n",
       "  39628233800418916 221.733042028194 18.6492849905645 ...          nan      nan\n",
       "  39628239521451304 221.634605747086  19.112287528364 ...          nan      nan"
      ]
     },
     "execution_count": 57,
     "metadata": {},
     "output_type": "execute_result"
    }
   ],
   "source": [
    "centers_tf_iron = tf_iron[tf_iron['SKY_FIBER_DIST_R26'] < 0.001]\n",
    "centers_tf_iron"
   ]
  },
  {
   "cell_type": "code",
   "execution_count": null,
   "id": "e8503ddb-f4cc-40f8-b477-f33a295be3aa",
   "metadata": {
    "tags": []
   },
   "outputs": [],
   "source": []
  },
  {
   "cell_type": "code",
   "execution_count": null,
   "id": "96735632-1252-4882-af45-c86cbfe0c6b8",
   "metadata": {},
   "outputs": [],
   "source": []
  }
 ],
 "metadata": {
  "kernelspec": {
   "display_name": "DESI main",
   "language": "python",
   "name": "desi-main"
  },
  "language_info": {
   "codemirror_mode": {
    "name": "ipython",
    "version": 3
   },
   "file_extension": ".py",
   "mimetype": "text/x-python",
   "name": "python",
   "nbconvert_exporter": "python",
   "pygments_lexer": "ipython3",
   "version": "3.10.14"
  }
 },
 "nbformat": 4,
 "nbformat_minor": 5
}
