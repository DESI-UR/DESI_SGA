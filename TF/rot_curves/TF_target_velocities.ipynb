{
 "cells": [
  {
   "cell_type": "code",
   "execution_count": 2,
   "id": "24ec26bf-18ca-48f0-ac1b-e8a2c63cf024",
   "metadata": {
    "tags": []
   },
   "outputs": [],
   "source": [
    "# all imports\n",
    "import numpy as np\n",
    "import os\n",
    "import requests\n",
    "from astropy.table import Table, vstack\n",
    "import matplotlib.pyplot as plt\n",
    "from astropy.io import fits\n",
    "from astropy.coordinates import SkyCoord\n",
    "from astropy import units as u\n",
    "from astropy.wcs import WCS\n",
    "import math\n",
    "import matplotlib as mpl\n",
    "from astropy.visualization.wcsaxes import SphericalCircle\n",
    "import pandas as pd"
   ]
  },
  {
   "cell_type": "code",
   "execution_count": 3,
   "id": "35a5617f-99ee-49a1-aba1-45c10a2c3c6a",
   "metadata": {
    "tags": []
   },
   "outputs": [],
   "source": [
    "# define directories\n",
    "data_dir = '/global/cfs/projectdirs/desi/science/td/pv/tfgalaxies/'\n",
    "cache_dir = '/pscratch/sd/j/jjpim/cache/' # my cache path\n",
    "vi_dir = '/pscratch/sd/j/jjpim/visual_inspection/' # vi image path"
   ]
  },
  {
   "cell_type": "code",
   "execution_count": 4,
   "id": "e1dcff62-ac21-4a0e-9a2b-a27e38ef69de",
   "metadata": {
    "tags": []
   },
   "outputs": [
    {
     "data": {
      "text/html": [
       "<div><i>Table length=5</i>\n",
       "<table id=\"table140125965386656\" class=\"table-striped table-bordered table-condensed\">\n",
       "<thead><tr><th>TARGETID</th><th>TARGET_RA</th><th>TARGET_DEC</th><th>HEALPIX</th><th>SURVEY</th><th>Z</th><th>ZERR</th><th>ZWARN</th><th>DELTACHI2</th><th>FILENAME</th><th>PVTYPE</th><th>SGA_ID</th><th>RA</th><th>DEC</th><th>OBS_IN_SV</th><th>SKY_FIBER_DIST</th><th>SKY_FIBER_DIST_R26</th><th>ROT_CURVE</th><th>EOA</th></tr></thead>\n",
       "<thead><tr><th>int64</th><th>float64</th><th>float64</th><th>int64</th><th>bytes3</th><th>float64</th><th>float64</th><th>int64</th><th>float64</th><th>bytes63</th><th>bytes3</th><th>int64</th><th>float64</th><th>float64</th><th>float64</th><th>float64</th><th>float64</th><th>float64</th><th>float64</th></tr></thead>\n",
       "<tr><td>1079550234591232</td><td>194.390863195343</td><td>27.5157211790145</td><td>10378</td><td>sv3</td><td>1.1235686466514</td><td>7.31685779475115e-05</td><td>4</td><td>3.28414569795132</td><td>fuji/healpix/sv3/bright/103/10378/redrock-sv3-bright-10378.fits</td><td>EXT</td><td>662902</td><td>194.39086319534337</td><td>27.51572117901454</td><td>1.0</td><td>0.03927420444753712</td><td>1.0000000170652443</td><td>0.0</td><td>0.0</td></tr>\n",
       "<tr><td>1092744374124544</td><td>194.390863195343</td><td>27.5157211790145</td><td>10378</td><td>sv3</td><td>0.686773088332363</td><td>6.9756676262104e-05</td><td>4</td><td>0.786607094109058</td><td>fuji/healpix/sv3/dark/103/10378/redrock-sv3-dark-10378.fits</td><td>EXT</td><td>662902</td><td>194.39086319534337</td><td>27.51572117901454</td><td>1.0</td><td>0.03927420444753712</td><td>1.0000000170652443</td><td>0.0</td><td>0.0</td></tr>\n",
       "<tr><td>1092744374124546</td><td>194.364461113654</td><td>27.5037185881314</td><td>10378</td><td>sv3</td><td>0.0242933923052181</td><td>4.95233472646785e-05</td><td>0</td><td>95.428411073226</td><td>fuji/healpix/sv3/dark/103/10378/redrock-sv3-dark-10378.fits</td><td>EXT</td><td>662902</td><td>194.36446111365385</td><td>27.50371858813136</td><td>1.0</td><td>0.012960487467698754</td><td>0.3300000056318236</td><td>0.0</td><td>0.0</td></tr>\n",
       "<tr><td>1092744369930240</td><td>194.338458724402</td><td>27.4918902690326</td><td>10378</td><td>sv3</td><td>0.0264170223697961</td><td>0.00010139452689994</td><td>0</td><td>9.53278421035066</td><td>fuji/healpix/sv3/dark/103/10378/redrock-sv3-dark-10378.fits</td><td>EXT</td><td>662902</td><td>194.33845872440244</td><td>27.491890269032595</td><td>1.0</td><td>0.012960487467685656</td><td>0.33000000563149007</td><td>0.0</td><td>0.0</td></tr>\n",
       "<tr><td>1092744374124545</td><td>194.377858465028</td><td>27.5098100780282</td><td>10378</td><td>sv3</td><td>0.211332646769145</td><td>6.68535116703737e-05</td><td>4</td><td>3.73989077657461</td><td>fuji/healpix/sv3/dark/103/10378/redrock-sv3-dark-10378.fits</td><td>EXT</td><td>662902</td><td>194.3778584650283</td><td>27.509810078028195</td><td>1.0</td><td>0.026313716979861984</td><td>0.6700000114340222</td><td>0.0</td><td>0.0</td></tr>\n",
       "</table></div>"
      ],
      "text/plain": [
       "<Table length=5>\n",
       "    TARGETID        TARGET_RA        TARGET_DEC    ... ROT_CURVE   EOA  \n",
       "     int64           float64          float64      ...  float64  float64\n",
       "---------------- ---------------- ---------------- ... --------- -------\n",
       "1079550234591232 194.390863195343 27.5157211790145 ...       0.0     0.0\n",
       "1092744374124544 194.390863195343 27.5157211790145 ...       0.0     0.0\n",
       "1092744374124546 194.364461113654 27.5037185881314 ...       0.0     0.0\n",
       "1092744369930240 194.338458724402 27.4918902690326 ...       0.0     0.0\n",
       "1092744374124545 194.377858465028 27.5098100780282 ...       0.0     0.0"
      ]
     },
     "execution_count": 4,
     "metadata": {},
     "output_type": "execute_result"
    }
   ],
   "source": [
    "# load updated fuji table\n",
    "tf_fuji = Table.read(data_dir + 'SV/desi_pv_tf_fuji_healpix_rotcurve_EOA_VI.fits') \n",
    "tf_fuji[:5]"
   ]
  },
  {
   "cell_type": "code",
   "execution_count": 5,
   "id": "47c12e3a-2f98-40a0-9d83-bd791d75ff19",
   "metadata": {
    "tags": []
   },
   "outputs": [
    {
     "data": {
      "text/html": [
       "<div><i>Table length=5</i>\n",
       "<table id=\"table140126396346048\" class=\"table-striped table-bordered table-condensed\">\n",
       "<thead><tr><th>TARGETID</th><th>TARGET_RA</th><th>TARGET_DEC</th><th>HEALPIX</th><th>SURVEY</th><th>Z</th><th>ZERR</th><th>ZWARN</th><th>DELTACHI2</th><th>FILENAME</th><th>PVTYPE</th><th>SGA_ID</th><th>RA</th><th>DEC</th><th>OBS_IN_SV</th><th>SKY_FIBER_DIST</th><th>SKY_FIBER_DIST_R26</th><th>ROT_CURVE</th><th>EOA</th></tr></thead>\n",
       "<thead><tr><th>int64</th><th>float64</th><th>float64</th><th>int64</th><th>bytes4</th><th>float64</th><th>float64</th><th>int64</th><th>float64</th><th>bytes65</th><th>bytes3</th><th>int64</th><th>float64</th><th>float64</th><th>float64</th><th>float64</th><th>float64</th><th>float64</th><th>float64</th></tr></thead>\n",
       "<tr><td>2852147603439621</td><td>198.369130660983</td><td>36.5372037049171</td><td>10475</td><td>main</td><td>0.815976335547845</td><td>7.38513168100107e-05</td><td>4</td><td>0.128754377365112</td><td>iron/healpix/main/dark/104/10475/redrock-main-dark-10475.fits</td><td>EXT</td><td>649377</td><td>198.36913066098333</td><td>36.537203704917076</td><td>0.0</td><td>0.0567420462925582</td><td>0.599999979158402</td><td>0.0</td><td>1.0</td></tr>\n",
       "<tr><td>2399148812795907</td><td>198.371733180003</td><td>36.4994335406917</td><td>10475</td><td>main</td><td>1.11088784970434</td><td>7.48767797671894e-05</td><td>4</td><td>7.9473560154438</td><td>iron/healpix/main/bright/104/10475/redrock-main-bright-10475.fits</td><td>EXT</td><td>649377</td><td>198.37173318000336</td><td>36.499433540691676</td><td>0.0</td><td>0.09457007715465947</td><td>0.9999999652681886</td><td>0.0</td><td>1.0</td></tr>\n",
       "<tr><td>2399382443917318</td><td>184.845242475328</td><td>49.8157304793777</td><td>10995</td><td>main</td><td>1.14739342108157</td><td>0.000146302276719084</td><td>4</td><td>2.56771463155746</td><td>iron/healpix/main/bright/109/10995/redrock-main-bright-10995.fits</td><td>EXT</td><td>1008911</td><td>184.84524247532795</td><td>49.81573047937771</td><td>0.0</td><td>0.024841917763806447</td><td>0.9999999684347345</td><td>0.0</td><td>0.0</td></tr>\n",
       "<tr><td>2399634072797192</td><td>184.341289722203</td><td>70.8283725474297</td><td>11965</td><td>main</td><td>1.51703376230705</td><td>6.28979649962091e-05</td><td>4</td><td>4.76254060305655</td><td>iron/healpix/main/bright/119/11965/redrock-main-bright-11965.fits</td><td>EXT</td><td>241234</td><td>184.34128972220284</td><td>70.82837254742968</td><td>0.0</td><td>0.026555350833845817</td><td>0.8000000542794348</td><td>0.0</td><td>0.0</td></tr>\n",
       "<tr><td>2852141710442505</td><td>123.256011148025</td><td>36.2652948002806</td><td>6448</td><td>main</td><td>0.00787379494184006</td><td>3.4714052819995e-05</td><td>0</td><td>22.1719104201402</td><td>iron/healpix/main/dark/64/6448/redrock-main-dark-6448.fits</td><td>EXT</td><td>31591</td><td>123.25601114802525</td><td>36.26529480028061</td><td>0.0</td><td>0.015878717350385107</td><td>0.40000000619171416</td><td>0.0</td><td>0.0</td></tr>\n",
       "</table></div>"
      ],
      "text/plain": [
       "<Table length=5>\n",
       "    TARGETID        TARGET_RA        TARGET_DEC    ... ROT_CURVE   EOA  \n",
       "     int64           float64          float64      ...  float64  float64\n",
       "---------------- ---------------- ---------------- ... --------- -------\n",
       "2852147603439621 198.369130660983 36.5372037049171 ...       0.0     1.0\n",
       "2399148812795907 198.371733180003 36.4994335406917 ...       0.0     1.0\n",
       "2399382443917318 184.845242475328 49.8157304793777 ...       0.0     0.0\n",
       "2399634072797192 184.341289722203 70.8283725474297 ...       0.0     0.0\n",
       "2852141710442505 123.256011148025 36.2652948002806 ...       0.0     0.0"
      ]
     },
     "execution_count": 5,
     "metadata": {},
     "output_type": "execute_result"
    }
   ],
   "source": [
    "# load iron table\n",
    "tf_iron = Table.read(data_dir + 'Y1/desi_pv_tf_iron_healpix_rotcurve_EOA_VI.fits')\n",
    "tf_iron[:5]"
   ]
  },
  {
   "cell_type": "code",
   "execution_count": 6,
   "id": "a8f10904-95c9-4de3-b76f-7b1f33980b3d",
   "metadata": {
    "tags": []
   },
   "outputs": [],
   "source": [
    "tf_fuji['VELOCITY']=np.nan\n",
    "tf_fuji['VELOCITY_REL']=np.nan\n",
    "tf_iron['VELOCITY']=np.nan\n",
    "tf_iron['VELOCITY_REL']=np.nan"
   ]
  },
  {
   "cell_type": "code",
   "execution_count": 7,
   "id": "d096152b-02cc-420d-9751-f7bdfa67e49c",
   "metadata": {
    "tags": []
   },
   "outputs": [
    {
     "name": "stdout",
     "output_type": "stream",
     "text": [
      "Maximum value in tf_fuji: 0.173630148670864\n",
      "Maximum value in tf_iron: 1.62543750380985\n"
     ]
    }
   ],
   "source": [
    "# Filter fuji and iron for viable targets\n",
    "filtered_tf_fuji = tf_fuji[tf_fuji['SKY_FIBER_DIST_R26'] < 0.001]\n",
    "filtered_tf_iron = tf_iron[tf_iron['SKY_FIBER_DIST_R26'] < 0.001]\n",
    "filtered_tf_fuji = filtered_tf_fuji[filtered_tf_fuji['ROT_CURVE'] == 1]\n",
    "filtered_tf_iron = filtered_tf_iron[filtered_tf_iron['ROT_CURVE'] == 1]\n",
    "\n",
    "# Find and print the maximum Z value\n",
    "max_value_fuji = filtered_tf_fuji['Z'].max()\n",
    "max_value_iron = filtered_tf_iron['Z'].max()\n",
    "print(\"Maximum value in tf_fuji:\", max_value_fuji)\n",
    "print(\"Maximum value in tf_iron:\", max_value_iron)"
   ]
  },
  {
   "cell_type": "code",
   "execution_count": 8,
   "id": "8d4e9e24-c679-4152-ba9a-628e3b7bf52b",
   "metadata": {
    "tags": []
   },
   "outputs": [
    {
     "name": "stdout",
     "output_type": "stream",
     "text": [
      "[123, 896, 1548, 1583, 1980, 2497, 5732, 5958, 5964, 6443, 8032, 9338, 9519, 9769, 10133, 10325, 10553, 11977, 11998, 12585, 12892, 13851, 13880, 14501, 15005, 16256, 16383, 18191, 19235, 19278, 19682, 20179, 20258, 20886, 21905, 23897, 25100, 25532, 25835, 26866, 26930, 28423, 28642, 29121, 29289, 30149, 31127, 31220, 32406, 32484, 32907, 33662, 34497, 35184, 35712, 36532, 36904, 36913, 37543, 39247, 39919, 42992, 43211, 46327, 50360, 54974, 56757, 57891, 58617, 61908, 71578, 73111, 79898, 81194, 81587, 88963, 90791, 91660, 92403, 92536, 93731, 98148, 98921, 98934, 100987, 102737, 103508, 103535, 104913, 105847, 106536, 107105, 108576, 108893, 109333, 110814, 111102, 113767, 114405, 114489, 115283, 116764, 117242, 117558, 118397, 122260, 122580, 122810, 124900, 125245, 125611, 126630, 127141, 127268, 128130, 128163, 128411, 128944, 129388, 130437, 130766, 133855, 135061, 135235, 136307, 139660, 149009, 149502, 153504, 154215, 156492, 158556, 158910, 159963, 166290, 170351, 171058, 171654, 171794, 171893, 175220, 176736, 180872, 181067, 181413, 184044, 184396, 184464, 185320, 186239, 186328, 186539, 186915, 186928, 186990, 187538, 187558, 188525, 188701, 189685, 189722, 190308, 191275, 191496, 192158, 192164, 192582, 194044, 195106, 195190, 196470, 196592, 196761, 197270, 197493, 197616, 197733, 197978, 198263, 198902, 199038, 199617, 200632, 201080, 201656, 202236, 202341, 202666, 205028, 205611, 206754, 206784, 207500, 207602, 207804, 209429, 209686, 210972, 211078, 212382, 212393, 215988, 217269, 218056, 218773, 218793, 218856, 219256, 219803, 220106, 220668, 222808, 228678, 232178, 232776, 234965, 235556, 237199, 238344, 239878, 241627, 248575, 249933, 254129, 254294, 254532, 255558, 259137, 261113, 262623, 263806, 265633, 266991, 269399, 271167, 271274, 272164, 272562, 273595, 274222, 275455, 276273, 276638, 276864, 277155, 278277, 281021, 281826, 283206, 286003, 286341, 287215, 288715, 289515, 289665, 289743, 291099, 291766, 291879, 294387, 294476, 295336, 295582, 296242, 297380, 298849, 298999, 300446, 300546, 301194, 301507, 301600, 301634, 301666, 302062, 302481, 302483, 302524, 305319, 305831, 306038, 307203, 308345, 309202, 309306, 309378, 309523, 309621, 309943, 317222, 319942, 320783, 326198, 328209, 330166, 330678, 334869, 336179, 337817, 343570, 349027, 349346, 351817, 352154, 352573, 356433, 361309, 362099, 362749, 363344, 363602, 364324, 364410, 364445, 364828, 364929, 365429, 366393, 366661, 368822, 372230, 372957, 373692, 373797, 374961, 375742, 375898, 376259, 376602, 378461, 378842, 379493, 379657, 380429, 381769, 381927, 381933, 383457, 384115, 384420, 384737, 386049, 386179, 386562, 388487, 389177, 390630, 392020, 392237, 392848, 393190, 393511, 394014, 394411, 394680, 395070, 395676, 395974, 396176, 396464, 398058, 398443, 398532, 398533, 399283, 402410, 410241, 411284, 416531, 417339, 419532, 419748, 421541, 425174, 426035, 428732, 430161, 431242, 432294, 434496, 437133, 439486, 448160, 449819, 450278, 450566, 450689, 451363, 451573, 452012, 452270, 453097, 453103, 453336, 453831, 454561, 455272, 455486, 455671, 456811, 457147, 458798, 458919, 459465, 460683, 462867, 463426, 464075, 464382, 465951, 466872, 467582, 468240, 468628, 468768, 469868, 471327, 471893, 472847, 473436, 474614, 475188, 476088, 476142, 477805, 478163, 478276, 478469, 479267, 480755, 481513, 481930, 481956, 482276, 482290, 482353, 482674, 483075, 484490, 484573, 485800, 486394, 487085, 487386, 488031, 488432, 489608, 492092, 493017, 494971, 496687, 498526, 505024, 507499, 516235, 520656, 526710, 531171, 531923, 536742, 537641, 539247, 540744, 541068, 541187, 542437, 542444, 542477, 542960, 544016, 544364, 544419, 544799, 544810, 544871, 544943, 545194, 545858, 547312, 547562, 547778, 548477, 548724, 548848, 549633, 549845, 550280, 550458, 551590, 553352, 556089, 556125, 556334, 557187, 557283, 557760, 560813, 562004, 563294, 564310, 564440, 565399, 566141, 566589, 566771, 566816, 568207, 568664, 569298, 569778, 569887, 570086, 572145, 572924, 574359, 574573, 574808, 575284, 575502, 575605, 576857, 577623, 578031, 578196, 578793, 582248, 582728, 584483, 586736, 586889, 589624, 591308, 591927, 591964, 594839, 597668, 598756, 601190, 602757, 602973, 603910, 607528, 608015, 609020, 610132, 617559, 619846, 621089, 621937, 626242, 629144, 629860, 630029, 630299, 630390, 630537, 631395, 631434, 632204, 632911, 633079, 633227, 633549, 634494, 634846, 635043, 635124, 636105, 637438, 637552, 638386, 640674, 641112, 641578, 642577, 643231, 643477, 643845, 644540, 644721, 644940, 645151, 645470, 645617, 646946, 647332, 647591, 647966, 648038, 649753, 649797, 649960, 649970, 650204, 651096, 651187, 651270, 651840, 652056, 652171, 652329, 653059, 654469, 655132, 656142, 658560, 659599, 660264, 660359, 660385, 662740, 662794, 663150, 663463, 665961, 666016, 671178, 671301, 671533, 674829, 676463, 680665, 682529, 684095, 685832, 687685, 691779, 694251, 694525, 695782, 696291, 696345, 698819, 699534, 706579, 718735, 720338, 720480, 721903, 722142, 725669, 726854, 728327, 729726, 729754, 729931, 730470, 731370, 732784, 733069, 734011, 734091, 735080, 736449, 737183, 738370, 738723, 739981, 740402, 740601, 740621, 740940, 740959, 741308, 741419, 742167, 742370, 743030, 743198, 744650, 745358, 745576, 745588, 745699, 746163, 746268, 746821, 747077, 747166, 747251, 747806, 748600, 748798, 749767, 749780, 752578, 752683, 752812, 753474, 754350, 755117, 755132, 755380, 756475, 756997, 757166, 757313, 758123, 758789, 759003, 759261, 760759, 766672, 773508, 775966, 777198, 782592, 783693, 785335, 785537, 786297, 787370, 788551, 790518, 793633, 794974, 796671, 801183, 804643, 805225, 805780, 806989, 807141, 809421, 810017, 810971, 811069, 811359, 812130, 812357, 812997, 815601, 816706, 816969, 818213, 818402, 819390, 819666, 819754, 820598, 822327, 822328, 822547, 822830, 823149, 823301, 823987, 824225, 824392, 826543, 826632, 826809, 827339, 827949, 828184, 828398, 829285, 829487, 830172, 830909, 831924, 832980, 833737, 833961, 833981, 834049, 834118, 834869, 834932, 834933, 835029, 835116, 836470, 836480, 837120, 838601, 839051, 839766, 841482, 841705, 842385, 842568, 842987, 843065, 843126, 845052, 845585, 846010, 846814, 859764, 865028, 866411, 867518, 867630, 867677, 869208, 878518, 879736, 879816, 882260, 886667, 887433, 888480, 895609, 899217, 899349, 899464, 900049, 900506, 900654, 901663, 901980, 904352, 904357, 905270, 905380, 905512, 905637, 907219, 907960, 907969, 908303, 908541, 908817, 908818, 908978, 910461, 910922, 911046, 911111, 911707, 912402, 913748, 914444, 914909, 914975, 915330, 915738, 916159, 916161, 917084, 917608, 918052, 918100, 919986, 920436, 920806, 921879, 922107, 922159, 923055, 923400, 923955, 924119, 924278, 924911, 925354, 925923, 926258, 926696, 928207, 928810, 928876, 928948, 929547, 929953, 931553, 931747, 932984, 935648, 936814, 936973, 937447, 938397, 938743, 941911, 944836, 945536, 947709, 952082, 953644, 954187, 957521, 957728, 957850, 960228, 960353, 963226, 965930, 967351, 968864, 971635, 972260, 975775, 976853, 977015, 978708, 979168, 984432, 988791, 989040, 989185, 989244, 990280, 991630, 993595, 993798, 995155, 995924, 999535, 1000803, 1001302, 1001483, 1002363, 1003319, 1005119, 1005268, 1008726, 1008731, 1009547, 1009650, 1009928, 1010862, 1010968, 1011290, 1012479, 1013495, 1014111, 1014365, 1014959, 1015063, 1016833, 1016937, 1017269, 1017899, 1018187, 1018616, 1018780, 1020852, 1021462, 1025536, 1026141, 1026176, 1027608, 1031898, 1033344, 1033651, 1034487, 1036188, 1045256, 1049438, 1050173, 1051342, 1051686, 1051707, 1065602, 1066579, 1069553, 1072391, 1072710, 1073430, 1076700, 1079232, 1079746, 1082196, 1083238, 1084538, 1085054, 1085778, 1086321, 1086721, 1086934, 1087039, 1087374, 1088099, 1088948, 1089288, 1089627, 1090275, 1090490, 1090772, 1091806, 1092338, 1093027, 1094411, 1096199, 1096564, 1096601, 1097526, 1098043, 1099764, 1100308, 1100382, 1101283, 1101392, 1103289, 1103477, 1106318, 1106770, 1108466, 1108706, 1108819, 1110803, 1111100, 1111389, 1111436, 1111824, 1112890, 1113419, 1113615, 1115705, 1115992, 1117018, 1118041, 1118343, 1118608, 1118779, 1121441, 1124033, 1124386, 1124947, 1126539, 1129531, 1129951, 1131380, 1131477, 1138461, 1140653, 1140820, 1143335, 1143669, 1143811, 1144453, 1144800, 1146180, 1146354, 1148584, 1150758, 1152853, 1158180, 1158856, 1161160, 1162624, 1163020, 1167691, 1170691, 1171841, 1172128, 1174645, 1175754, 1176247, 1176952, 1177449, 1177538, 1179206, 1179301, 1179377, 1179485, 1181386, 1181446, 1181690, 1181869, 1183399, 1184406, 1184894, 1184912, 1185839, 1186034, 1186911, 1187049, 1187240, 1187960, 1188032, 1188617, 1188926, 1189337, 1190075, 1191523, 1191665, 1193015, 1194588, 1194953, 1194958, 1195008, 1195942, 1196587, 1198325, 1198451, 1198552, 1199020, 1199481, 1199539, 1200678, 1201132, 1201319, 1201434, 1201850, 1201916, 1202458, 1202638, 1203610, 1203786, 1204188, 1204237, 1205063, 1206707, 1206917, 1207104, 1207287, 1209375, 1209774, 1210984, 1213632, 1214378, 1218166, 1219319, 1220328, 1223188, 1224003, 1225398, 1226342, 1231157, 1234964, 1243367, 1244275, 1245146, 1249892, 1253079, 1254154, 1256430, 1258968, 1259364, 1259591, 1259880, 1260932, 1262243, 1262897, 1263022, 1264056, 1264528, 1264591, 1267967, 1268879, 1269161, 1269260, 1269830, 1269939, 1270526, 1271153, 1271477, 1271549, 1272144, 1272700, 1273184, 1273605, 1274171, 1274189, 1274340, 1274409, 1274991, 1275384, 1276071, 1277300, 1278144, 1278600, 1280066, 1280444, 1281605, 1281619, 1281982, 1282057, 1282407, 1284002, 1284197, 1285122, 1285273, 1285349, 1285603, 1286710, 1287210, 1288139, 1289532, 1289613, 1289632, 1290113, 1290227, 1293940, 1293967, 1294089, 1294165, 1294562, 1295741, 1298715, 1301768, 1303707, 1304303, 1304908, 1305068, 1305999, 1308994, 1319289, 1319490, 1323268, 1324787, 1325225, 1330205, 1332990, 1333993, 1335335, 1335916, 1338866, 1339294, 1344633, 1345100, 1346801, 1346926, 1348840, 1348956, 1349168, 1349285, 1349528, 1349555, 1349746, 1350565, 1352019, 1353734, 1354266, 1355068, 1355358, 1355575, 1355711, 1356418, 1356809, 1358457, 1360296, 1360354, 1360700, 1361363, 1361399, 1361840, 1362297, 1362315, 1363060, 1363186, 1364304, 1364394, 1365519, 1365549, 1365838, 1366562, 1366806, 1366845, 1367137, 1367728, 1367920, 1368018, 1368443, 1369191, 1370616, 1372824, 1373047, 1373433, 1374340, 1374691, 1374964, 1375082, 1375399, 1375696, 1377360, 1378464, 1379143, 1379275, 1380778, 1382772, 1383442, 1386262, 1387011, 1387126, 1387991, 1393061, 1400473, 1402480, 1403944, 1405053, 1409081, 1418640, 1421164, 1421334, 1424489, 1427956, 1429142, 1429680, 1430013, 1431285, 1434487, 2000055, 5001339, 5002047]\n"
     ]
    }
   ],
   "source": [
    "#pull out all unique SGA ID's for iron and fuji\n",
    "tf_fuji_rot = np.unique(filtered_tf_fuji[filtered_tf_fuji['ROT_CURVE']==1]['SGA_ID'])\n",
    "tf_iron_rot = np.unique(filtered_tf_iron[filtered_tf_iron['ROT_CURVE']==1]['SGA_ID'])\n",
    "#combine iron and fuji unique ID's, print final list \n",
    "tf_galaxies = np.unique(np.concatenate((tf_fuji_rot, tf_iron_rot)))\n",
    "tf_galaxies = tf_galaxies.tolist()\n",
    "print(tf_galaxies)"
   ]
  },
  {
   "cell_type": "code",
   "execution_count": 19,
   "id": "9e0aeb9a-3d09-4f51-af9b-b3684de68058",
   "metadata": {
    "tags": []
   },
   "outputs": [
    {
     "ename": "IndexError",
     "evalue": "Illegal key or index value for TableColumns object",
     "output_type": "error",
     "traceback": [
      "\u001b[0;31m---------------------------------------------------------------------------\u001b[0m",
      "\u001b[0;31mKeyError\u001b[0m                                  Traceback (most recent call last)",
      "File \u001b[0;32m/global/common/software/desi/perlmutter/desiconda/20240425-2.2.0/conda/lib/python3.10/site-packages/astropy/table/row.py:54\u001b[0m, in \u001b[0;36mRow.__getitem__\u001b[0;34m(self, item)\u001b[0m\n\u001b[1;32m     50\u001b[0m \u001b[38;5;28;01mtry\u001b[39;00m:\n\u001b[1;32m     51\u001b[0m     \u001b[38;5;66;03m# Try the most common use case of accessing a single column in the Row.\u001b[39;00m\n\u001b[1;32m     52\u001b[0m     \u001b[38;5;66;03m# Bypass the TableColumns __getitem__ since that does more testing\u001b[39;00m\n\u001b[1;32m     53\u001b[0m     \u001b[38;5;66;03m# and allows a list of tuple or str, which is not the right thing here.\u001b[39;00m\n\u001b[0;32m---> 54\u001b[0m     out \u001b[38;5;241m=\u001b[39m \u001b[43mOrderedDict\u001b[49m\u001b[38;5;241;43m.\u001b[39;49m\u001b[38;5;21;43m__getitem__\u001b[39;49m\u001b[43m(\u001b[49m\u001b[38;5;28;43mself\u001b[39;49m\u001b[38;5;241;43m.\u001b[39;49m\u001b[43m_table\u001b[49m\u001b[38;5;241;43m.\u001b[39;49m\u001b[43mcolumns\u001b[49m\u001b[43m,\u001b[49m\u001b[43m \u001b[49m\u001b[43mitem\u001b[49m\u001b[43m)\u001b[49m[\u001b[38;5;28mself\u001b[39m\u001b[38;5;241m.\u001b[39m_index]\n\u001b[1;32m     55\u001b[0m \u001b[38;5;28;01mexcept\u001b[39;00m (\u001b[38;5;167;01mKeyError\u001b[39;00m, \u001b[38;5;167;01mTypeError\u001b[39;00m):\n",
      "\u001b[0;31mKeyError\u001b[0m: False",
      "\nDuring handling of the above exception, another exception occurred:\n",
      "\u001b[0;31mIndexError\u001b[0m                                Traceback (most recent call last)",
      "Cell \u001b[0;32mIn[19], line 14\u001b[0m\n\u001b[1;32m     11\u001b[0m z_targets\u001b[38;5;241m=\u001b[39m(target_list[\u001b[38;5;124m'\u001b[39m\u001b[38;5;124mZ\u001b[39m\u001b[38;5;124m'\u001b[39m])\n\u001b[1;32m     13\u001b[0m \u001b[38;5;66;03m#identify good centers\u001b[39;00m\n\u001b[0;32m---> 14\u001b[0m fuji_centers \u001b[38;5;241m=\u001b[39m \u001b[43mtargets_fuji\u001b[49m\u001b[43m[\u001b[49m\u001b[43mtargets_fuji\u001b[49m\u001b[43m[\u001b[49m\u001b[38;5;124;43m'\u001b[39;49m\u001b[38;5;124;43mSKY_FIBER_DIST_R26\u001b[39;49m\u001b[38;5;124;43m'\u001b[39;49m\u001b[43m]\u001b[49m\u001b[43m \u001b[49m\u001b[38;5;241;43m<\u001b[39;49m\u001b[43m \u001b[49m\u001b[38;5;241;43m0.001\u001b[39;49m\u001b[43m]\u001b[49m\n\u001b[1;32m     15\u001b[0m fuji_centers \u001b[38;5;241m=\u001b[39m fuji_centers[fuji_centers[\u001b[38;5;124m'\u001b[39m\u001b[38;5;124mZWARN\u001b[39m\u001b[38;5;124m'\u001b[39m]\u001b[38;5;241m==\u001b[39m\u001b[38;5;241m0\u001b[39m]\n\u001b[1;32m     16\u001b[0m fuji_good_centers \u001b[38;5;241m=\u001b[39m fuji_centers[fuji_centers[\u001b[38;5;124m'\u001b[39m\u001b[38;5;124mDELTACHI2\u001b[39m\u001b[38;5;124m'\u001b[39m]\u001b[38;5;241m>\u001b[39m\u001b[38;5;241m25\u001b[39m] \n",
      "File \u001b[0;32m/global/common/software/desi/perlmutter/desiconda/20240425-2.2.0/conda/lib/python3.10/site-packages/astropy/table/row.py:64\u001b[0m, in \u001b[0;36mRow.__getitem__\u001b[0;34m(self, item)\u001b[0m\n\u001b[1;32m     61\u001b[0m         out \u001b[38;5;241m=\u001b[39m \u001b[38;5;28mtuple\u001b[39m(\u001b[38;5;28mself\u001b[39m\u001b[38;5;241m.\u001b[39mvalues())[item]\n\u001b[1;32m     62\u001b[0m     \u001b[38;5;28;01melse\u001b[39;00m:\n\u001b[1;32m     63\u001b[0m         \u001b[38;5;66;03m# This is only to raise an exception\u001b[39;00m\n\u001b[0;32m---> 64\u001b[0m         out \u001b[38;5;241m=\u001b[39m \u001b[38;5;28;43mself\u001b[39;49m\u001b[38;5;241;43m.\u001b[39;49m\u001b[43m_table\u001b[49m\u001b[38;5;241;43m.\u001b[39;49m\u001b[43mcolumns\u001b[49m\u001b[43m[\u001b[49m\u001b[43mitem\u001b[49m\u001b[43m]\u001b[49m[\u001b[38;5;28mself\u001b[39m\u001b[38;5;241m.\u001b[39m_index]\n\u001b[1;32m     65\u001b[0m \u001b[38;5;28;01mreturn\u001b[39;00m out\n",
      "File \u001b[0;32m/global/common/software/desi/perlmutter/desiconda/20240425-2.2.0/conda/lib/python3.10/site-packages/astropy/table/table.py:277\u001b[0m, in \u001b[0;36mTableColumns.__getitem__\u001b[0;34m(self, item)\u001b[0m\n\u001b[1;32m    275\u001b[0m     \u001b[38;5;28;01mreturn\u001b[39;00m \u001b[38;5;28mself\u001b[39m\u001b[38;5;241m.\u001b[39m\u001b[38;5;18m__class__\u001b[39m([\u001b[38;5;28mself\u001b[39m[x] \u001b[38;5;28;01mfor\u001b[39;00m x \u001b[38;5;129;01min\u001b[39;00m \u001b[38;5;28mlist\u001b[39m(\u001b[38;5;28mself\u001b[39m)[item]])\n\u001b[1;32m    276\u001b[0m \u001b[38;5;28;01melse\u001b[39;00m:\n\u001b[0;32m--> 277\u001b[0m     \u001b[38;5;28;01mraise\u001b[39;00m \u001b[38;5;167;01mIndexError\u001b[39;00m(\n\u001b[1;32m    278\u001b[0m         \u001b[38;5;124mf\u001b[39m\u001b[38;5;124m\"\u001b[39m\u001b[38;5;124mIllegal key or index value for \u001b[39m\u001b[38;5;132;01m{\u001b[39;00m\u001b[38;5;28mtype\u001b[39m(\u001b[38;5;28mself\u001b[39m)\u001b[38;5;241m.\u001b[39m\u001b[38;5;18m__name__\u001b[39m\u001b[38;5;132;01m}\u001b[39;00m\u001b[38;5;124m object\u001b[39m\u001b[38;5;124m\"\u001b[39m\n\u001b[1;32m    279\u001b[0m     )\n",
      "\u001b[0;31mIndexError\u001b[0m: Illegal key or index value for TableColumns object"
     ]
    }
   ],
   "source": [
    "# list of SGA IDs to loop through\n",
    "sga_ids = [tf_galaxies]\n",
    "\n",
    "# loop through each SGA_ID\n",
    "for sga_id in sga_ids:\n",
    "    targets_fuji = tf_fuji[tf_fuji['SGA_ID'] == sga_id]\n",
    "    targets_iron = tf_iron[tf_iron['SGA_ID'] == sga_id]\n",
    "    target_list = (vstack([targets_fuji, targets_iron]))\n",
    "    \n",
    "    #identify z values of targets\n",
    "    z_targets=(target_list['Z'])\n",
    "    \n",
    "    #identify good centers\n",
    "    fuji_centers = targets_fuji[targets_fuji['SKY_FIBER_DIST_R26'] < 0.001]\n",
    "    fuji_centers = fuji_centers[fuji_centers['ZWARN']==0]\n",
    "    fuji_good_centers = fuji_centers[fuji_centers['DELTACHI2']>25] \n",
    "    print(fuji_good_centers)\n",
    "    \n",
    "    iron_centers = targets_iron[targets_iron['SKY_FIBER_DIST_R26'] < 0.001]\n",
    "    iron_centers = iron_centers[iron_centers['ZWARN']==0]\n",
    "    iron_good_centers = iron_centers[iron_centers['DELTACHI2']>25] \n",
    "    print(iron_good_centers)"
   ]
  },
  {
   "cell_type": "code",
   "execution_count": 40,
   "id": "8570dc83-e167-42ba-9a17-83182d83a10b",
   "metadata": {
    "tags": []
   },
   "outputs": [
    {
     "data": {
      "text/html": [
       "<div><i>Table length=1</i>\n",
       "<table id=\"table140709537771584\" class=\"table-striped table-bordered table-condensed\">\n",
       "<thead><tr><th>TARGETID</th><th>TARGET_RA</th><th>TARGET_DEC</th><th>HEALPIX</th><th>SURVEY</th><th>Z</th><th>ZERR</th><th>ZWARN</th><th>DELTACHI2</th><th>FILENAME</th><th>PVTYPE</th><th>SGA_ID</th><th>RA</th><th>DEC</th><th>OBS_IN_SV</th><th>SKY_FIBER_DIST</th><th>SKY_FIBER_DIST_R26</th><th>ROT_CURVE</th><th>EOA</th><th>VELOCITY</th><th>VELOCITY_REL</th></tr></thead>\n",
       "<thead><tr><th>int64</th><th>float64</th><th>float64</th><th>int64</th><th>bytes3</th><th>float64</th><th>float64</th><th>int64</th><th>float64</th><th>bytes63</th><th>bytes3</th><th>int64</th><th>float64</th><th>float64</th><th>float64</th><th>float64</th><th>float64</th><th>float64</th><th>float64</th><th>float64</th><th>float64</th></tr></thead>\n",
       "<tr><td>39627758149572214</td><td>215.992684704008</td><td>-1.12847885784913</td><td>25954</td><td>sv3</td><td>0.0344118495024228</td><td>3.99350519839902e-06</td><td>0</td><td>2087.82850825787</td><td>fuji/healpix/sv3/bright/259/25954/redrock-sv3-bright-25954.fits</td><td>TFT</td><td>218856</td><td>215.9926847040083</td><td>-1.1284788578491263</td><td>1.0</td><td>0.0</td><td>0.0</td><td>1.0</td><td>0.0</td><td>nan</td><td>nan</td></tr>\n",
       "</table></div>"
      ],
      "text/plain": [
       "<Table length=1>\n",
       "     TARGETID        TARGET_RA         TARGET_DEC    ... VELOCITY VELOCITY_REL\n",
       "      int64           float64           float64      ... float64    float64   \n",
       "----------------- ---------------- ----------------- ... -------- ------------\n",
       "39627758149572214 215.992684704008 -1.12847885784913 ...      nan          nan"
      ]
     },
     "execution_count": 40,
     "metadata": {},
     "output_type": "execute_result"
    }
   ],
   "source": [
    "#list of good centers in fuji for one galaxy found by SGA ID above\n",
    "fuji_centers = targets_fuji[targets_fuji['SKY_FIBER_DIST_R26'] < 0.001]\n",
    "fuji_centers = fuji_centers[fuji_centers['ZWARN']==0]\n",
    "fuji_good_centers = fuji_centers[fuji_centers['DELTACHI2']>25] \n",
    "fuji_good_centers"
   ]
  },
  {
   "cell_type": "code",
   "execution_count": 41,
   "id": "6c774cba-2f7d-4bf2-b91e-122b4eb15cad",
   "metadata": {
    "tags": []
   },
   "outputs": [
    {
     "data": {
      "text/html": [
       "<div><i>Table length=2</i>\n",
       "<table id=\"table140709538577280\" class=\"table-striped table-bordered table-condensed\">\n",
       "<thead><tr><th>TARGETID</th><th>TARGET_RA</th><th>TARGET_DEC</th><th>HEALPIX</th><th>SURVEY</th><th>Z</th><th>ZERR</th><th>ZWARN</th><th>DELTACHI2</th><th>FILENAME</th><th>PVTYPE</th><th>SGA_ID</th><th>RA</th><th>DEC</th><th>OBS_IN_SV</th><th>SKY_FIBER_DIST</th><th>SKY_FIBER_DIST_R26</th><th>ROT_CURVE</th><th>EOA</th><th>VELOCITY</th><th>VELOCITY_REL</th></tr></thead>\n",
       "<thead><tr><th>int64</th><th>float64</th><th>float64</th><th>int64</th><th>bytes4</th><th>float64</th><th>float64</th><th>int64</th><th>float64</th><th>bytes65</th><th>bytes3</th><th>int64</th><th>float64</th><th>float64</th><th>float64</th><th>float64</th><th>float64</th><th>float64</th><th>float64</th><th>float64</th><th>float64</th></tr></thead>\n",
       "<tr><td>39627758149572214</td><td>215.992684704008</td><td>-1.12847885784913</td><td>25954</td><td>main</td><td>0.034381636875159</td><td>3.2100483776182e-06</td><td>0</td><td>3770.57050712407</td><td>iron/healpix/main/bright/259/25954/redrock-main-bright-25954.fits</td><td>TFT</td><td>218856</td><td>215.9926847040083</td><td>-1.1284788578491263</td><td>1.0</td><td>0.0</td><td>0.0</td><td>1.0</td><td>0.0</td><td>nan</td><td>nan</td></tr>\n",
       "<tr><td>39627758149572214</td><td>215.992684704008</td><td>-1.12847885784913</td><td>25954</td><td>sv3</td><td>0.0344116677276749</td><td>3.99256805928159e-06</td><td>0</td><td>2104.89893661439</td><td>iron/healpix/sv3/bright/259/25954/redrock-sv3-bright-25954.fits</td><td>TFT</td><td>218856</td><td>215.9926847040083</td><td>-1.1284788578491263</td><td>1.0</td><td>0.0</td><td>0.0</td><td>1.0</td><td>0.0</td><td>nan</td><td>nan</td></tr>\n",
       "</table></div>"
      ],
      "text/plain": [
       "<Table length=2>\n",
       "     TARGETID        TARGET_RA         TARGET_DEC    ... VELOCITY VELOCITY_REL\n",
       "      int64           float64           float64      ... float64    float64   \n",
       "----------------- ---------------- ----------------- ... -------- ------------\n",
       "39627758149572214 215.992684704008 -1.12847885784913 ...      nan          nan\n",
       "39627758149572214 215.992684704008 -1.12847885784913 ...      nan          nan"
      ]
     },
     "execution_count": 41,
     "metadata": {},
     "output_type": "execute_result"
    }
   ],
   "source": [
    "#list of good centers in iron for one galaxy found by SGA ID above\n",
    "iron_centers = targets_iron[targets_iron['SKY_FIBER_DIST_R26'] < 0.001]\n",
    "iron_centers = iron_centers[iron_centers['ZWARN']==0]\n",
    "iron_good_centers = iron_centers[iron_centers['DELTACHI2']>25] \n",
    "iron_good_centers"
   ]
  },
  {
   "cell_type": "code",
   "execution_count": 83,
   "id": "ed2e61ea-b2ce-40b0-8fa7-ed26fa5bbfe3",
   "metadata": {
    "tags": []
   },
   "outputs": [
    {
     "name": "stdout",
     "output_type": "stream",
     "text": [
      "0.03440152846183661\n"
     ]
    }
   ],
   "source": [
    "#defining terms\n",
    "z_fuji = fuji_good_centers['Z']\n",
    "z_iron = iron_good_centers['Z']\n",
    "z_fuji_err = fuji_good_centers['ZERR']\n",
    "z_iron_err = iron_good_centers['ZERR']\n",
    "\n",
    "# calculating the weights\n",
    "w_fuji = 1 / (z_fuji_err**2)\n",
    "w_iron = 1 / (z_iron_err**2)\n",
    "w = np.sum(w_fuji + w_iron)\n",
    "\n",
    "# calculating the weighted average z naught\n",
    "w1 = (w_fuji * z_fuji)\n",
    "w2 = (w_iron * z_iron)\n",
    "z_o = (np.sum(w1 + w2)) / w\n",
    "\n",
    "print(z_o)"
   ]
  },
  {
   "cell_type": "code",
   "execution_count": 84,
   "id": "7d86f3d4-a250-4f44-80f6-14f0758b4eb0",
   "metadata": {
    "tags": []
   },
   "outputs": [
    {
     "name": "stdout",
     "output_type": "stream",
     "text": [
      "1.518962683369783e-05\n"
     ]
    }
   ],
   "source": [
    "#define z naught error\n",
    "z_o_err = np.sum(1 / ((w_fuji)**0.5) + 1 / ((w_iron)**0.5))\n",
    "print(z_o_err)"
   ]
  },
  {
   "cell_type": "code",
   "execution_count": 85,
   "id": "9222cfbf-8538-4564-8a21-001a4854d92d",
   "metadata": {
    "tags": []
   },
   "outputs": [
    {
     "name": "stdout",
     "output_type": "stream",
     "text": [
      "        ZERR        \n",
      "--------------------\n",
      "0.000150406289231301\n",
      "2.69656859568662e-06\n",
      "3.99350519839902e-06\n",
      " 4.5506520619317e-06\n",
      "2.31625604106805e-06\n",
      "8.70998492851394e-05\n",
      " 3.2100483776182e-06\n",
      "3.99256805928159e-06\n",
      " 2.0116123095721e-06\n"
     ]
    }
   ],
   "source": [
    "#define z error for all targets\n",
    "for TARGETID in target_list:\n",
    "        z_err=target_list['ZERR']\n",
    "print(z_err)"
   ]
  },
  {
   "cell_type": "code",
   "execution_count": 87,
   "id": "b04283d8-af88-44d3-ac8c-87d6bd78b3e6",
   "metadata": {},
   "outputs": [
    {
     "name": "stdout",
     "output_type": "stream",
     "text": [
      "           Z           \n",
      "-----------------------\n",
      "     1.4850983531210933\n",
      " 0.00022350385804048578\n",
      " 1.0321040586187824e-05\n",
      " -0.0002551955616839144\n",
      " -0.0002594837768414085\n",
      "     1.5221652356376334\n",
      "-1.9891586677610318e-05\n",
      "  1.013926583828817e-05\n",
      " 0.00025189330753108696\n"
     ]
    }
   ],
   "source": [
    "#find delta z from z naught and z values of all viable targets \n",
    "delta_z = z_targets - z_o\n",
    "print(delta_z)"
   ]
  },
  {
   "cell_type": "code",
   "execution_count": 104,
   "id": "8c77e2f3-5f32-4a9f-b2ed-3ec57de8179a",
   "metadata": {
    "tags": []
   },
   "outputs": [
    {
     "name": "stdout",
     "output_type": "stream",
     "text": [
      "         Z         \n",
      "-------------------\n",
      "  445221.2856539245\n",
      "  67.00477097444029\n",
      " 3.0941701264510084\n",
      "  -76.5057047079113\n",
      " -77.79127927040932\n",
      "  456333.6574739553\n",
      "-5.9633476636008504\n",
      "  3.039675427975841\n",
      "  75.51571381849446\n"
     ]
    }
   ],
   "source": [
    "#use delta z to find velocity\n",
    "c = 299792.458\n",
    "velocity = c*delta_z\n",
    "print(velocity)"
   ]
  },
  {
   "cell_type": "code",
   "execution_count": 106,
   "id": "1658d680-58a1-4adf-bc04-68b8bc39fa3a",
   "metadata": {
    "tags": []
   },
   "outputs": [
    {
     "data": {
      "text/html": [
       "<div><i>Table length=13134</i>\n",
       "<table id=\"table140709537773792\" class=\"table-striped table-bordered table-condensed\">\n",
       "<thead><tr><th>TARGETID</th><th>TARGET_RA</th><th>TARGET_DEC</th><th>HEALPIX</th><th>SURVEY</th><th>Z</th><th>ZERR</th><th>ZWARN</th><th>DELTACHI2</th><th>FILENAME</th><th>PVTYPE</th><th>SGA_ID</th><th>RA</th><th>DEC</th><th>OBS_IN_SV</th><th>SKY_FIBER_DIST</th><th>SKY_FIBER_DIST_R26</th><th>ROT_CURVE</th><th>EOA</th><th>VELOCITY</th><th>VELOCITY_REL</th></tr></thead>\n",
       "<thead><tr><th>int64</th><th>float64</th><th>float64</th><th>int64</th><th>bytes3</th><th>float64</th><th>float64</th><th>int64</th><th>float64</th><th>bytes63</th><th>bytes3</th><th>int64</th><th>float64</th><th>float64</th><th>float64</th><th>float64</th><th>float64</th><th>float64</th><th>float64</th><th>float64</th><th>float64</th></tr></thead>\n",
       "<tr><td>1079550234591232</td><td>194.390863195343</td><td>27.5157211790145</td><td>10378</td><td>sv3</td><td>1.1235686466514</td><td>7.31685779475115e-05</td><td>4</td><td>3.28414569795132</td><td>fuji/healpix/sv3/bright/103/10378/redrock-sv3-bright-10378.fits</td><td>EXT</td><td>662902</td><td>194.39086319534337</td><td>27.51572117901454</td><td>1.0</td><td>0.03927420444753712</td><td>1.0000000170652443</td><td>0.0</td><td>0.0</td><td>nan</td><td>nan</td></tr>\n",
       "<tr><td>1092744374124544</td><td>194.390863195343</td><td>27.5157211790145</td><td>10378</td><td>sv3</td><td>0.686773088332363</td><td>6.9756676262104e-05</td><td>4</td><td>0.786607094109058</td><td>fuji/healpix/sv3/dark/103/10378/redrock-sv3-dark-10378.fits</td><td>EXT</td><td>662902</td><td>194.39086319534337</td><td>27.51572117901454</td><td>1.0</td><td>0.03927420444753712</td><td>1.0000000170652443</td><td>0.0</td><td>0.0</td><td>nan</td><td>nan</td></tr>\n",
       "<tr><td>1092744374124546</td><td>194.364461113654</td><td>27.5037185881314</td><td>10378</td><td>sv3</td><td>0.0242933923052181</td><td>4.95233472646785e-05</td><td>0</td><td>95.428411073226</td><td>fuji/healpix/sv3/dark/103/10378/redrock-sv3-dark-10378.fits</td><td>EXT</td><td>662902</td><td>194.36446111365385</td><td>27.50371858813136</td><td>1.0</td><td>0.012960487467698754</td><td>0.3300000056318236</td><td>0.0</td><td>0.0</td><td>nan</td><td>nan</td></tr>\n",
       "<tr><td>1092744369930240</td><td>194.338458724402</td><td>27.4918902690326</td><td>10378</td><td>sv3</td><td>0.0264170223697961</td><td>0.00010139452689994</td><td>0</td><td>9.53278421035066</td><td>fuji/healpix/sv3/dark/103/10378/redrock-sv3-dark-10378.fits</td><td>EXT</td><td>662902</td><td>194.33845872440244</td><td>27.491890269032595</td><td>1.0</td><td>0.012960487467685656</td><td>0.33000000563149007</td><td>0.0</td><td>0.0</td><td>nan</td><td>nan</td></tr>\n",
       "<tr><td>1092744374124545</td><td>194.377858465028</td><td>27.5098100780282</td><td>10378</td><td>sv3</td><td>0.211332646769145</td><td>6.68535116703737e-05</td><td>4</td><td>3.73989077657461</td><td>fuji/healpix/sv3/dark/103/10378/redrock-sv3-dark-10378.fits</td><td>EXT</td><td>662902</td><td>194.3778584650283</td><td>27.509810078028195</td><td>1.0</td><td>0.026313716979861984</td><td>0.6700000114340222</td><td>0.0</td><td>0.0</td><td>nan</td><td>nan</td></tr>\n",
       "<tr><td>1092744369930241</td><td>194.325065734878</td><td>27.4857950068364</td><td>10378</td><td>sv3</td><td>0.34112572843082</td><td>7.87536530522298e-05</td><td>4</td><td>5.80425057094544</td><td>fuji/healpix/sv3/dark/103/10378/redrock-sv3-dark-10378.fits</td><td>EXT</td><td>662902</td><td>194.3250657348779</td><td>27.48579500683636</td><td>1.0</td><td>0.026313716979877486</td><td>0.6700000114344169</td><td>0.0</td><td>0.0</td><td>nan</td><td>nan</td></tr>\n",
       "<tr><td>1079550230396930</td><td>194.312068074608</td><td>27.4798777913963</td><td>10378</td><td>sv3</td><td>1.43883246626074</td><td>0.000118079246392633</td><td>4</td><td>1.41281921416521</td><td>fuji/healpix/sv3/bright/103/10378/redrock-sv3-bright-10378.fits</td><td>EXT</td><td>662902</td><td>194.3120680746076</td><td>27.479877791396284</td><td>1.0</td><td>0.039274204447592366</td><td>1.0000000170666512</td><td>0.0</td><td>0.0</td><td>nan</td><td>nan</td></tr>\n",
       "<tr><td>1092744369930242</td><td>194.312068074608</td><td>27.4798777913963</td><td>10378</td><td>sv3</td><td>0.141836800089955</td><td>6.14844128636576e-05</td><td>4</td><td>8.01571118086576</td><td>fuji/healpix/sv3/dark/103/10378/redrock-sv3-dark-10378.fits</td><td>EXT</td><td>662902</td><td>194.3120680746076</td><td>27.479877791396284</td><td>1.0</td><td>0.039274204447592366</td><td>1.0000000170666512</td><td>0.0</td><td>0.0</td><td>nan</td><td>nan</td></tr>\n",
       "<tr><td>1080141245579266</td><td>268.972484124775</td><td>62.5902888954075</td><td>10207</td><td>sv3</td><td>1.25885927887654</td><td>0.000161730072763419</td><td>4</td><td>4.86104696989059</td><td>fuji/healpix/sv3/bright/102/10207/redrock-sv3-bright-10207.fits</td><td>EXT</td><td>674212</td><td>268.972484124775</td><td>62.59028889540747</td><td>1.0</td><td>0.023926091509660182</td><td>0.6699999854676792</td><td>0.0</td><td>1.0</td><td>nan</td><td>nan</td></tr>\n",
       "<tr><td>1092231427522560</td><td>208.352177440161</td><td>5.20876513433155</td><td>26432</td><td>sv3</td><td>0.00303767701971418</td><td>7.77079295855834e-05</td><td>0</td><td>60.6499349754095</td><td>fuji/healpix/sv3/dark/264/26432/redrock-sv3-dark-26432.fits</td><td>EXT</td><td>560867</td><td>208.35217744016057</td><td>5.2087651343315455</td><td>1.0</td><td>0.008471934698375589</td><td>0.3300000031866702</td><td>0.0</td><td>0.0</td><td>nan</td><td>nan</td></tr>\n",
       "<tr><td>...</td><td>...</td><td>...</td><td>...</td><td>...</td><td>...</td><td>...</td><td>...</td><td>...</td><td>...</td><td>...</td><td>...</td><td>...</td><td>...</td><td>...</td><td>...</td><td>...</td><td>...</td><td>...</td><td>...</td><td>...</td></tr>\n",
       "<tr><td>39627799832565848</td><td>180.490647675296</td><td>0.613352516597521</td><td>27648</td><td>sv3</td><td>0.0785722823296796</td><td>1.8284679629918e-05</td><td>0</td><td>5060.8974143751</td><td>fuji/healpix/sv3/bright/276/27648/redrock-sv3-bright-27648.fits</td><td>SGA</td><td>184073</td><td>180.49064767529634</td><td>0.6133525165975208</td><td>1.0</td><td>0.0</td><td>0.0</td><td>0.0</td><td>0.0</td><td>nan</td><td>nan</td></tr>\n",
       "<tr><td>39627776252188890</td><td>214.987010854477</td><td>-0.503343602041398</td><td>25960</td><td>sv3</td><td>0.13533271685813</td><td>1.73662210536451e-05</td><td>0</td><td>1587.39171415847</td><td>fuji/healpix/sv3/bright/259/25960/redrock-sv3-bright-25960.fits</td><td>SGA</td><td>1233778</td><td>214.98701085447712</td><td>-0.5033436020413983</td><td>1.0</td><td>0.0</td><td>0.0</td><td>0.0</td><td>0.0</td><td>nan</td><td>nan</td></tr>\n",
       "<tr><td>39627779326613824</td><td>38.1871219355261</td><td>-0.259331150046025</td><td>17764</td><td>sv1</td><td>0.110101718990823</td><td>1.00047608114901e-05</td><td>0</td><td>3376.37831874937</td><td>fuji/healpix/sv1/bright/177/17764/redrock-sv1-bright-17764.fits</td><td>SGA</td><td>632014</td><td>38.18712193552614</td><td>-0.25933115004602497</td><td>1.0</td><td>0.0</td><td>0.0</td><td>0.0</td><td>0.0</td><td>nan</td><td>nan</td></tr>\n",
       "<tr><td>39627884993714761</td><td>218.29412247975</td><td>3.94263082693601</td><td>26068</td><td>sv3</td><td>0.0300338385401113</td><td>2.1331829270915e-06</td><td>0</td><td>7072.27006235719</td><td>fuji/healpix/sv3/bright/260/26068/redrock-sv3-bright-26068.fits</td><td>SGA</td><td>720907</td><td>218.29412247974997</td><td>3.9426308269360146</td><td>1.0</td><td>0.0</td><td>0.0</td><td>0.0</td><td>0.0</td><td>nan</td><td>nan</td></tr>\n",
       "<tr><td>39627580537576084</td><td>32.2580849774572</td><td>-8.55957679820788</td><td>17495</td><td>sv1</td><td>0.0405680730684111</td><td>1.5641396906789e-06</td><td>0</td><td>69786.726639986</td><td>fuji/healpix/sv1/bright/174/17495/redrock-sv1-bright-17495.fits</td><td>SGA</td><td>105774</td><td>32.25808497745719</td><td>-8.559576798207877</td><td>1.0</td><td>0.0</td><td>0.0</td><td>0.0</td><td>0.0</td><td>nan</td><td>nan</td></tr>\n",
       "<tr><td>39627688637373133</td><td>30.7249101375182</td><td>-4.1221212721067</td><td>17708</td><td>sv1</td><td>0.0432927383774815</td><td>2.4566668470269e-06</td><td>0</td><td>75156.065702216</td><td>fuji/healpix/sv1/bright/177/17708/redrock-sv1-bright-17708.fits</td><td>SGA</td><td>1069273</td><td>30.724910137518155</td><td>-4.122121272106699</td><td>1.0</td><td>0.0</td><td>0.0</td><td>0.0</td><td>0.0</td><td>nan</td><td>nan</td></tr>\n",
       "<tr><td>39627688654150621</td><td>31.7557931194421</td><td>-4.04913648065817</td><td>17709</td><td>sv1</td><td>0.0575032681849223</td><td>6.32980437867601e-06</td><td>0</td><td>2743.45002766908</td><td>fuji/healpix/sv1/bright/177/17709/redrock-sv1-bright-17709.fits</td><td>SGA</td><td>159219</td><td>31.755793119442107</td><td>-4.049136480658174</td><td>1.0</td><td>0.0</td><td>0.0</td><td>0.0</td><td>0.0</td><td>nan</td><td>nan</td></tr>\n",
       "<tr><td>39627809513020549</td><td>37.4414493099132</td><td>0.985644323782287</td><td>17773</td><td>sv1</td><td>0.0817193751628826</td><td>1.32963229988165e-05</td><td>0</td><td>949.689689807594</td><td>fuji/healpix/sv1/bright/177/17773/redrock-sv1-bright-17773.fits</td><td>SGA</td><td>473583</td><td>37.441449309913196</td><td>0.9856443237822866</td><td>1.0</td><td>0.0</td><td>0.0</td><td>0.0</td><td>0.0</td><td>nan</td><td>nan</td></tr>\n",
       "<tr><td>39627604457693448</td><td>30.9475191299151</td><td>-7.45753462810178</td><td>17503</td><td>sv1</td><td>-0.00199569129234795</td><td>4.13114935733491e-48</td><td>1570</td><td>1.94266889222573e+84</td><td>fuji/healpix/sv1/bright/175/17503/redrock-sv1-bright-17503.fits</td><td>SGA</td><td>421204</td><td>30.947519129915058</td><td>-7.457534628101777</td><td>1.0</td><td>0.0</td><td>0.0</td><td>0.0</td><td>0.0</td><td>nan</td><td>nan</td></tr>\n",
       "<tr><td>39627803473224067</td><td>37.4563594834351</td><td>0.813088435173197</td><td>17773</td><td>sv1</td><td>0.0224072655842088</td><td>4.04784181022138e-06</td><td>0</td><td>2398.74739653245</td><td>fuji/healpix/sv1/bright/177/17773/redrock-sv1-bright-17773.fits</td><td>SGA</td><td>1262814</td><td>37.456359483435115</td><td>0.8130884351731967</td><td>1.0</td><td>0.0</td><td>0.0</td><td>0.0</td><td>0.0</td><td>nan</td><td>nan</td></tr>\n",
       "</table></div>"
      ],
      "text/plain": [
       "<Table length=13134>\n",
       "     TARGETID        TARGET_RA         TARGET_DEC     ... VELOCITY VELOCITY_REL\n",
       "      int64           float64           float64       ... float64    float64   \n",
       "----------------- ---------------- ------------------ ... -------- ------------\n",
       " 1079550234591232 194.390863195343   27.5157211790145 ...      nan          nan\n",
       " 1092744374124544 194.390863195343   27.5157211790145 ...      nan          nan\n",
       " 1092744374124546 194.364461113654   27.5037185881314 ...      nan          nan\n",
       " 1092744369930240 194.338458724402   27.4918902690326 ...      nan          nan\n",
       " 1092744374124545 194.377858465028   27.5098100780282 ...      nan          nan\n",
       " 1092744369930241 194.325065734878   27.4857950068364 ...      nan          nan\n",
       " 1079550230396930 194.312068074608   27.4798777913963 ...      nan          nan\n",
       " 1092744369930242 194.312068074608   27.4798777913963 ...      nan          nan\n",
       " 1080141245579266 268.972484124775   62.5902888954075 ...      nan          nan\n",
       " 1092231427522560 208.352177440161   5.20876513433155 ...      nan          nan\n",
       "              ...              ...                ... ...      ...          ...\n",
       "39627799832565848 180.490647675296  0.613352516597521 ...      nan          nan\n",
       "39627776252188890 214.987010854477 -0.503343602041398 ...      nan          nan\n",
       "39627779326613824 38.1871219355261 -0.259331150046025 ...      nan          nan\n",
       "39627884993714761  218.29412247975   3.94263082693601 ...      nan          nan\n",
       "39627580537576084 32.2580849774572  -8.55957679820788 ...      nan          nan\n",
       "39627688637373133 30.7249101375182   -4.1221212721067 ...      nan          nan\n",
       "39627688654150621 31.7557931194421  -4.04913648065817 ...      nan          nan\n",
       "39627809513020549 37.4414493099132  0.985644323782287 ...      nan          nan\n",
       "39627604457693448 30.9475191299151  -7.45753462810178 ...      nan          nan\n",
       "39627803473224067 37.4563594834351  0.813088435173197 ...      nan          nan"
      ]
     },
     "execution_count": 106,
     "metadata": {},
     "output_type": "execute_result"
    }
   ],
   "source": [
    "#put results into column on tables - don't run yet      \n",
    "for i in range(len(target_list)):\n",
    "    if target_list['TARGETID'][i] in tf_fuji:\n",
    "        tf_fuji['VELOCITY'][i] = velocity\n",
    "        \n",
    "for i in range(len(target_list)):\n",
    "    if target_list['TARGETID'][i] in tf_iron:\n",
    "        tf_iron['VELOCITY'][i] = velocity\n",
    "        \n",
    "tf_fuji"
   ]
  },
  {
   "cell_type": "code",
   "execution_count": 91,
   "id": "d7ffec09-a7d2-4725-b8c8-785cba161529",
   "metadata": {
    "tags": []
   },
   "outputs": [
    {
     "name": "stdout",
     "output_type": "stream",
     "text": [
      "       ZERR       \n",
      "------------------\n",
      " 45.32003014238856\n",
      " 4.624936304398248\n",
      " 4.708487005395994\n",
      "  4.75370264521897\n",
      " 4.606375313036527\n",
      "26.505974336116157\n",
      " 4.654312175816296\n",
      " 4.708415577035106\n",
      " 4.593495012761475\n"
     ]
    }
   ],
   "source": [
    "#find v error for each target\n",
    "v_error_1 = ((z_o_err**2) + (z_err**2))\n",
    "v_err=c*(v_error_1**0.5)\n",
    "print(v_err)\n",
    "# put v error into new column for each table"
   ]
  },
  {
   "cell_type": "code",
   "execution_count": null,
   "id": "9c55b78f-fbc2-40da-99cd-7a37cd8fadec",
   "metadata": {},
   "outputs": [],
   "source": [
    "#calculate velocity relative to galaxy"
   ]
  }
 ],
 "metadata": {
  "kernelspec": {
   "display_name": "DESI main",
   "language": "python",
   "name": "desi-main"
  },
  "language_info": {
   "codemirror_mode": {
    "name": "ipython",
    "version": 3
   },
   "file_extension": ".py",
   "mimetype": "text/x-python",
   "name": "python",
   "nbconvert_exporter": "python",
   "pygments_lexer": "ipython3",
   "version": "3.10.14"
  }
 },
 "nbformat": 4,
 "nbformat_minor": 5
}
