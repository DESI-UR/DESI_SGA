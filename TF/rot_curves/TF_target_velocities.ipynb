{
 "cells": [
  {
   "cell_type": "code",
   "execution_count": 27,
   "id": "24ec26bf-18ca-48f0-ac1b-e8a2c63cf024",
   "metadata": {
    "tags": []
   },
   "outputs": [],
   "source": [
    "# all imports\n",
    "import numpy as np\n",
    "import os\n",
    "import requests\n",
    "from astropy.table import Table, vstack\n",
    "import matplotlib.pyplot as plt\n",
    "from astropy.io import fits\n",
    "from astropy.coordinates import SkyCoord\n",
    "from astropy import units as u\n",
    "from astropy.wcs import WCS\n",
    "import math\n",
    "import matplotlib as mpl\n",
    "from astropy.visualization.wcsaxes import SphericalCircle\n",
    "import pandas as pd"
   ]
  },
  {
   "cell_type": "code",
   "execution_count": 28,
   "id": "35a5617f-99ee-49a1-aba1-45c10a2c3c6a",
   "metadata": {
    "tags": []
   },
   "outputs": [],
   "source": [
    "# define directories\n",
    "data_dir = '/global/cfs/projectdirs/desi/science/td/pv/tfgalaxies/'\n",
    "cache_dir = '/pscratch/sd/j/jjpim/cache/' # my cache path\n",
    "vi_dir = '/pscratch/sd/j/jjpim/visual_inspection/' # vi image path\n",
    "\n",
    "#constants\n",
    "c = 299792.458"
   ]
  },
  {
   "cell_type": "code",
   "execution_count": 29,
   "id": "e1dcff62-ac21-4a0e-9a2b-a27e38ef69de",
   "metadata": {
    "tags": []
   },
   "outputs": [
    {
     "data": {
      "text/html": [
       "<div><i>Table length=5</i>\n",
       "<table id=\"table139715250011968\" class=\"table-striped table-bordered table-condensed\">\n",
       "<thead><tr><th>TARGETID</th><th>TARGET_RA</th><th>TARGET_DEC</th><th>HEALPIX</th><th>SURVEY</th><th>Z</th><th>ZERR</th><th>ZWARN</th><th>DELTACHI2</th><th>FILENAME</th><th>PVTYPE</th><th>SGA_ID</th><th>RA</th><th>DEC</th><th>OBS_IN_SV</th><th>SKY_FIBER_DIST</th><th>SKY_FIBER_DIST_R26</th><th>ROT_CURVE</th><th>EOA</th></tr></thead>\n",
       "<thead><tr><th>int64</th><th>float64</th><th>float64</th><th>int64</th><th>bytes3</th><th>float64</th><th>float64</th><th>int64</th><th>float64</th><th>bytes63</th><th>bytes3</th><th>int64</th><th>float64</th><th>float64</th><th>float64</th><th>float64</th><th>float64</th><th>float64</th><th>float64</th></tr></thead>\n",
       "<tr><td>1079550234591232</td><td>194.390863195343</td><td>27.5157211790145</td><td>10378</td><td>sv3</td><td>1.1235686466514</td><td>7.31685779475115e-05</td><td>4</td><td>3.28414569795132</td><td>fuji/healpix/sv3/bright/103/10378/redrock-sv3-bright-10378.fits</td><td>EXT</td><td>662902</td><td>194.39086319534337</td><td>27.51572117901454</td><td>1.0</td><td>0.03927420444753712</td><td>1.0000000170652443</td><td>0.0</td><td>0.0</td></tr>\n",
       "<tr><td>1092744374124544</td><td>194.390863195343</td><td>27.5157211790145</td><td>10378</td><td>sv3</td><td>0.686773088332363</td><td>6.9756676262104e-05</td><td>4</td><td>0.786607094109058</td><td>fuji/healpix/sv3/dark/103/10378/redrock-sv3-dark-10378.fits</td><td>EXT</td><td>662902</td><td>194.39086319534337</td><td>27.51572117901454</td><td>1.0</td><td>0.03927420444753712</td><td>1.0000000170652443</td><td>0.0</td><td>0.0</td></tr>\n",
       "<tr><td>1092744374124546</td><td>194.364461113654</td><td>27.5037185881314</td><td>10378</td><td>sv3</td><td>0.0242933923052181</td><td>4.95233472646785e-05</td><td>0</td><td>95.428411073226</td><td>fuji/healpix/sv3/dark/103/10378/redrock-sv3-dark-10378.fits</td><td>EXT</td><td>662902</td><td>194.36446111365385</td><td>27.50371858813136</td><td>1.0</td><td>0.012960487467698754</td><td>0.3300000056318236</td><td>0.0</td><td>0.0</td></tr>\n",
       "<tr><td>1092744369930240</td><td>194.338458724402</td><td>27.4918902690326</td><td>10378</td><td>sv3</td><td>0.0264170223697961</td><td>0.00010139452689994</td><td>0</td><td>9.53278421035066</td><td>fuji/healpix/sv3/dark/103/10378/redrock-sv3-dark-10378.fits</td><td>EXT</td><td>662902</td><td>194.33845872440244</td><td>27.491890269032595</td><td>1.0</td><td>0.012960487467685656</td><td>0.33000000563149007</td><td>0.0</td><td>0.0</td></tr>\n",
       "<tr><td>1092744374124545</td><td>194.377858465028</td><td>27.5098100780282</td><td>10378</td><td>sv3</td><td>0.211332646769145</td><td>6.68535116703737e-05</td><td>4</td><td>3.73989077657461</td><td>fuji/healpix/sv3/dark/103/10378/redrock-sv3-dark-10378.fits</td><td>EXT</td><td>662902</td><td>194.3778584650283</td><td>27.509810078028195</td><td>1.0</td><td>0.026313716979861984</td><td>0.6700000114340222</td><td>0.0</td><td>0.0</td></tr>\n",
       "</table></div>"
      ],
      "text/plain": [
       "<Table length=5>\n",
       "    TARGETID        TARGET_RA        TARGET_DEC    ... ROT_CURVE   EOA  \n",
       "     int64           float64          float64      ...  float64  float64\n",
       "---------------- ---------------- ---------------- ... --------- -------\n",
       "1079550234591232 194.390863195343 27.5157211790145 ...       0.0     0.0\n",
       "1092744374124544 194.390863195343 27.5157211790145 ...       0.0     0.0\n",
       "1092744374124546 194.364461113654 27.5037185881314 ...       0.0     0.0\n",
       "1092744369930240 194.338458724402 27.4918902690326 ...       0.0     0.0\n",
       "1092744374124545 194.377858465028 27.5098100780282 ...       0.0     0.0"
      ]
     },
     "execution_count": 29,
     "metadata": {},
     "output_type": "execute_result"
    }
   ],
   "source": [
    "# load updated fuji table\n",
    "tf_fuji = Table.read(data_dir + 'SV/desi_pv_tf_fuji_healpix_rotcurve_EOA_VI.fits') \n",
    "tf_fuji[:5]"
   ]
  },
  {
   "cell_type": "code",
   "execution_count": 30,
   "id": "47c12e3a-2f98-40a0-9d83-bd791d75ff19",
   "metadata": {
    "tags": []
   },
   "outputs": [
    {
     "data": {
      "text/html": [
       "<div><i>Table length=5</i>\n",
       "<table id=\"table139715250008848\" class=\"table-striped table-bordered table-condensed\">\n",
       "<thead><tr><th>TARGETID</th><th>TARGET_RA</th><th>TARGET_DEC</th><th>HEALPIX</th><th>SURVEY</th><th>Z</th><th>ZERR</th><th>ZWARN</th><th>DELTACHI2</th><th>FILENAME</th><th>PVTYPE</th><th>SGA_ID</th><th>RA</th><th>DEC</th><th>OBS_IN_SV</th><th>SKY_FIBER_DIST</th><th>SKY_FIBER_DIST_R26</th><th>ROT_CURVE</th><th>EOA</th></tr></thead>\n",
       "<thead><tr><th>int64</th><th>float64</th><th>float64</th><th>int64</th><th>bytes4</th><th>float64</th><th>float64</th><th>int64</th><th>float64</th><th>bytes65</th><th>bytes3</th><th>int64</th><th>float64</th><th>float64</th><th>float64</th><th>float64</th><th>float64</th><th>float64</th><th>float64</th></tr></thead>\n",
       "<tr><td>2852147603439621</td><td>198.369130660983</td><td>36.5372037049171</td><td>10475</td><td>main</td><td>0.815976335547845</td><td>7.38513168100107e-05</td><td>4</td><td>0.128754377365112</td><td>iron/healpix/main/dark/104/10475/redrock-main-dark-10475.fits</td><td>EXT</td><td>649377</td><td>198.36913066098333</td><td>36.537203704917076</td><td>0.0</td><td>0.0567420462925582</td><td>0.599999979158402</td><td>0.0</td><td>1.0</td></tr>\n",
       "<tr><td>2399148812795907</td><td>198.371733180003</td><td>36.4994335406917</td><td>10475</td><td>main</td><td>1.11088784970434</td><td>7.48767797671894e-05</td><td>4</td><td>7.9473560154438</td><td>iron/healpix/main/bright/104/10475/redrock-main-bright-10475.fits</td><td>EXT</td><td>649377</td><td>198.37173318000336</td><td>36.499433540691676</td><td>0.0</td><td>0.09457007715465947</td><td>0.9999999652681886</td><td>0.0</td><td>1.0</td></tr>\n",
       "<tr><td>2399382443917318</td><td>184.845242475328</td><td>49.8157304793777</td><td>10995</td><td>main</td><td>1.14739342108157</td><td>0.000146302276719084</td><td>4</td><td>2.56771463155746</td><td>iron/healpix/main/bright/109/10995/redrock-main-bright-10995.fits</td><td>EXT</td><td>1008911</td><td>184.84524247532795</td><td>49.81573047937771</td><td>0.0</td><td>0.024841917763806447</td><td>0.9999999684347345</td><td>0.0</td><td>0.0</td></tr>\n",
       "<tr><td>2399634072797192</td><td>184.341289722203</td><td>70.8283725474297</td><td>11965</td><td>main</td><td>1.51703376230705</td><td>6.28979649962091e-05</td><td>4</td><td>4.76254060305655</td><td>iron/healpix/main/bright/119/11965/redrock-main-bright-11965.fits</td><td>EXT</td><td>241234</td><td>184.34128972220284</td><td>70.82837254742968</td><td>0.0</td><td>0.026555350833845817</td><td>0.8000000542794348</td><td>0.0</td><td>0.0</td></tr>\n",
       "<tr><td>2852141710442505</td><td>123.256011148025</td><td>36.2652948002806</td><td>6448</td><td>main</td><td>0.00787379494184006</td><td>3.4714052819995e-05</td><td>0</td><td>22.1719104201402</td><td>iron/healpix/main/dark/64/6448/redrock-main-dark-6448.fits</td><td>EXT</td><td>31591</td><td>123.25601114802525</td><td>36.26529480028061</td><td>0.0</td><td>0.015878717350385107</td><td>0.40000000619171416</td><td>0.0</td><td>0.0</td></tr>\n",
       "</table></div>"
      ],
      "text/plain": [
       "<Table length=5>\n",
       "    TARGETID        TARGET_RA        TARGET_DEC    ... ROT_CURVE   EOA  \n",
       "     int64           float64          float64      ...  float64  float64\n",
       "---------------- ---------------- ---------------- ... --------- -------\n",
       "2852147603439621 198.369130660983 36.5372037049171 ...       0.0     1.0\n",
       "2399148812795907 198.371733180003 36.4994335406917 ...       0.0     1.0\n",
       "2399382443917318 184.845242475328 49.8157304793777 ...       0.0     0.0\n",
       "2399634072797192 184.341289722203 70.8283725474297 ...       0.0     0.0\n",
       "2852141710442505 123.256011148025 36.2652948002806 ...       0.0     0.0"
      ]
     },
     "execution_count": 30,
     "metadata": {},
     "output_type": "execute_result"
    }
   ],
   "source": [
    "# load iron table\n",
    "tf_iron = Table.read(data_dir + 'Y1/desi_pv_tf_iron_healpix_rotcurve_EOA_VI.fits')\n",
    "tf_iron[:5]"
   ]
  },
  {
   "cell_type": "code",
   "execution_count": 112,
   "id": "ff76c206-912b-40e3-8f9f-8ece52c0d9fd",
   "metadata": {
    "tags": []
   },
   "outputs": [],
   "source": [
    "tf_mastertable = vstack([tf_fuji,tf_iron])"
   ]
  },
  {
   "cell_type": "code",
   "execution_count": 113,
   "id": "a8f10904-95c9-4de3-b76f-7b1f33980b3d",
   "metadata": {
    "tags": []
   },
   "outputs": [],
   "source": [
    "tf_mastertable['VELOCITY']=np.nan\n",
    "tf_mastertable['VELOCITY_REL']=np.nan"
   ]
  },
  {
   "cell_type": "code",
   "execution_count": 114,
   "id": "5dd54c90-0f49-4d9c-8703-b36ec86d8ce6",
   "metadata": {
    "tags": []
   },
   "outputs": [],
   "source": [
    "# set up dictionary of SGA ID\n",
    "'''tf_fuji_dict = {}\n",
    "for sga_id in np.unique(tf_fuji['SGA_ID']):\n",
    "    tf_fuji_dict[sga_id] = np.where(tf_fuji['SGA_ID'] == sga_id)[0]\n",
    "\n",
    "tf_iron_dict = {}\n",
    "for sga_id in np.unique(tf_iron['SGA_ID']):\n",
    "    tf_iron_dict[sga_id] = np.where(tf_iron['SGA_ID'] == sga_id)[0]\n",
    "'''\n",
    "tf_mastertable_dict = {}\n",
    "for sga_id in np.unique(tf_mastertable['SGA_ID']):\n",
    "    tf_mastertable_dict[sga_id] = np.where(tf_mastertable['SGA_ID'] == sga_id)[0]"
   ]
  },
  {
   "cell_type": "code",
   "execution_count": 108,
   "id": "584cc5cc-cbf9-4a0c-afdb-755812fe1bd3",
   "metadata": {
    "tags": []
   },
   "outputs": [
    {
     "name": "stdout",
     "output_type": "stream",
     "text": [
      "1330\n"
     ]
    }
   ],
   "source": [
    "# apply mask\n",
    "'''\n",
    "filtered_tf_fuji = tf_fuji[tf_fuji['SKY_FIBER_DIST_R26'] < 0.001]\n",
    "filtered_tf_iron = tf_iron[tf_iron['SKY_FIBER_DIST_R26'] < 0.001]\n",
    "filtered_tf_fuji = filtered_tf_fuji[filtered_tf_fuji['ROT_CURVE'] == 1]\n",
    "filtered_tf_iron = filtered_tf_iron[filtered_tf_iron['ROT_CURVE'] == 1]\n",
    "#print(len(filtered_tf_fuji))\n",
    "'''"
   ]
  },
  {
   "cell_type": "code",
   "execution_count": 120,
   "id": "317027bc-55f7-41f2-997c-24ae81bab853",
   "metadata": {
    "tags": []
   },
   "outputs": [
    {
     "name": "stderr",
     "output_type": "stream",
     "text": [
      "/tmp/ipykernel_2267510/1001609839.py:70: RuntimeWarning: Mean of empty slice\n",
      "  z_o = (np.nanmean(w * z)) / w\n"
     ]
    },
    {
     "name": "stdout",
     "output_type": "stream",
     "text": [
      "0.1099660983385235\n"
     ]
    }
   ],
   "source": [
    "# pull out all unique SGA ID's for iron and fuji\n",
    "#tf_fuji_rot = np.unique(filtered_tf_fuji['SGA_ID'])\n",
    "#tf_iron_rot = np.unique(filtered_tf_iron['SGA_ID'])\n",
    "# combine iron and fuji unique IDs (don't need if processing seperately?)\n",
    "'''tf_galaxies = np.unique(np.concatenate((tf_fuji_rot, tf_iron_rot)))\n",
    "'''\n",
    "tf_galaxies = np.unique(tf_mastertable['SGA_ID'])\n",
    "\n",
    "#define targetid\n",
    "#targetid_fuji = targetid in tf_fuji_rot\n",
    "#targetid_iron = targetid in tf_iron_rot\n",
    "\n",
    "#identify targets\n",
    "'''\n",
    "for sga_id in tf_fuji_dict:\n",
    "    targets_fuji = tf_fuji[tf_fuji_dict[sga_id]]\n",
    "for sga_id in tf_iron_dict:\n",
    "    targets_iron = tf_iron[tf_iron_dict[sga_id]]\n",
    "'''\n",
    "# loop through each SGA ID\n",
    "#for sga_id in tf_fuji_dict:\n",
    "for sga_id in tf_galaxies:\n",
    "                            \n",
    "    #identify z values of targets\n",
    "    '''\n",
    "        z_targets_fuji=tf_fuji['Z'][tf_fuji_dict[sga_id]]\n",
    "    z_targets_iron=tf_iron['Z'][tf_iron_dict[sga_id]]\n",
    "    '''\n",
    "    z_targets=tf_mastertable['Z'][tf_mastertable_dict[sga_id]]\n",
    "    #identify good centers\n",
    "    '''\n",
    "    fuji_centers_b = tf_fuji['SKY_FIBER_DIST_R26'][tf_fuji_dict[sga_id]] < 0.001\n",
    "    fuji_good_b = (tf_fuji['ZWARN'][tf_fuji_dict[sga_id]]==0) & (tf_fuji['DELTACHI2'][tf_fuji_dict[sga_id]]>25)\n",
    "    fuji_good_centers = tf_fuji[tf_fuji_dict[sga_id]][fuji_centers_b & fuji_good_b] \n",
    "    \n",
    "    iron_centers_b = tf_iron['SKY_FIBER_DIST_R26'][tf_iron_dict[sga_id]] < 0.001\n",
    "    iron_good_b = (tf_iron['ZWARN'][tf_iron_dict[sga_id]]==0) & (tf_iron['DELTACHI2'][tf_iron_dict[sga_id]]>25)\n",
    "    iron_good_centers = tf_iron[tf_iron_dict[sga_id]][iron_centers_b & iron_good_b] \n",
    "    '''\n",
    "    centers_b = tf_mastertable['SKY_FIBER_DIST_R26'][tf_mastertable_dict[sga_id]] < 0.001\n",
    "    good_b = (tf_mastertable['ZWARN'][tf_mastertable_dict[sga_id]]==0) & (tf_mastertable['DELTACHI2'][tf_mastertable_dict[sga_id]]>25)\n",
    "    good_centers = tf_mastertable[tf_mastertable_dict[sga_id]][centers_b & good_b] \n",
    "    \n",
    "    #defining terms\n",
    "    '''\n",
    "    if len(fuji_good_centers) > 0:\n",
    "        z_fuji = fuji_good_centers['Z']\n",
    "        z_fuji_err = fuji_good_centers['ZERR']\n",
    "        w_fuji = np.sum(1 / (z_fuji_err**2))\n",
    "    else:\n",
    "        z_fuji = np.nan * np.ones(1)\n",
    "        z_fuji_err = np.nap * np.ones(1)\n",
    "        w_fuji = 0\n",
    "    if len(iron_good_centers) > 0:\n",
    "        z_iron = iron_good_centers['Z']\n",
    "        z_iron_err = iron_good_centers['ZERR']\n",
    "        w_iron = np.sum(1 / (z_iron_err**2))\n",
    "    else:\n",
    "        z_iron = np.nan * np.ones(1)\n",
    "        z_iron_err = np.nap * np.ones(1)\n",
    "        w_iron = 0\n",
    "    '''\n",
    "    z = good_centers['Z']\n",
    "    z_err = good_centers['ZERR']\n",
    "    # calculating the weights\n",
    "    #w = np.sum(w_fuji + w_iron)\n",
    "    w = np.sum(1 / (z_err**2))\n",
    "    \n",
    "    # calculating the weighted average z naught\n",
    "    z_o = (np.nanmean(w * z)) / w\n",
    "    if sga_id == 123:\n",
    "        print(z_o)\n",
    "    #find delta z from z naught and z values of all viable targets \n",
    "    '''\n",
    "    delta_z_fuji = z_targets_fuji - z_o\n",
    "    delta_z_iron = z_targets_iron - z_o\n",
    "    '''\n",
    "    delta_z = z_targets - z_o\n",
    "    \n",
    "    #use delta z to find velocity and put into column\n",
    "    '''\n",
    "    velocity_fuji = c * delta_z_fuji\n",
    "    velocity_iron = c * delta_z_iron\n",
    "    '''\n",
    "    velocity = c * delta_z\n",
    "    # update the original tables with velocities\n",
    "    '''\n",
    "    tf_fuji['VELOCITY'][tf_fuji_dict[sga_id]]=velocity_fuji\n",
    "    tf_iron['VELOCITY'][tf_iron_dict[sga_id]]=velocity_iron\n",
    "    '''\n",
    "    tf_mastertable['VELOCITY'][tf_mastertable_dict[sga_id]]=velocity"
   ]
  },
  {
   "cell_type": "code",
   "execution_count": 121,
   "id": "1dc48988-2fb7-44a3-acd6-abdc36b9631c",
   "metadata": {
    "tags": []
   },
   "outputs": [
    {
     "data": {
      "text/html": [
       "<div><i>Table length=6</i>\n",
       "<table id=\"table139715083906320\" class=\"table-striped table-bordered table-condensed\">\n",
       "<thead><tr><th>TARGETID</th><th>TARGET_RA</th><th>TARGET_DEC</th><th>HEALPIX</th><th>SURVEY</th><th>Z</th><th>ZERR</th><th>ZWARN</th><th>DELTACHI2</th><th>FILENAME</th><th>PVTYPE</th><th>SGA_ID</th><th>RA</th><th>DEC</th><th>OBS_IN_SV</th><th>SKY_FIBER_DIST</th><th>SKY_FIBER_DIST_R26</th><th>ROT_CURVE</th><th>EOA</th><th>VELOCITY</th><th>VELOCITY_REL</th></tr></thead>\n",
       "<thead><tr><th>int64</th><th>float64</th><th>float64</th><th>int64</th><th>bytes4</th><th>float64</th><th>float64</th><th>int64</th><th>float64</th><th>bytes65</th><th>bytes3</th><th>int64</th><th>float64</th><th>float64</th><th>float64</th><th>float64</th><th>float64</th><th>float64</th><th>float64</th><th>float64</th><th>float64</th></tr></thead>\n",
       "<tr><td>1071233026228227</td><td>242.564878755415</td><td>53.6763270782975</td><td>10153</td><td>sv3</td><td>0.184971788085982</td><td>4.36696398757541e-05</td><td>4</td><td>0.458266502246261</td><td>fuji/healpix/sv3/bright/101/10153/redrock-sv3-bright-10153.fits</td><td>TFT</td><td>123</td><td>242.56487875541504</td><td>53.67632707829753</td><td>1.0</td><td>0.0051345584203947876</td><td>1.0000000466304622</td><td>1.0</td><td>0.0</td><td>22486.14009337598</td><td>nan</td></tr>\n",
       "<tr><td>1071233026228228</td><td>242.564908359756</td><td>53.6746327647682</td><td>10153</td><td>sv3</td><td>1.5161235823035</td><td>9.98100168252869e-05</td><td>4</td><td>0.224537968635559</td><td>fuji/healpix/sv3/bright/101/10153/redrock-sv3-bright-10153.fits</td><td>TFT</td><td>123</td><td>242.5649083597559</td><td>53.67463276476823</td><td>1.0</td><td>0.0034401541416619126</td><td>0.6700000312419042</td><td>1.0</td><td>0.0</td><td>421555.40845295583</td><td>nan</td></tr>\n",
       "<tr><td>1071233026228231</td><td>242.565028546859</td><td>53.6677528249076</td><td>10153</td><td>sv3</td><td>0.223582059648363</td><td>6.6695997421467e-05</td><td>4</td><td>5.54895717371255</td><td>fuji/healpix/sv3/bright/101/10153/redrock-sv3-bright-10153.fits</td><td>TFT</td><td>123</td><td>242.56502854685928</td><td>53.667752824907645</td><td>1.0</td><td>0.0034401541416594996</td><td>0.6700000312414343</td><td>1.0</td><td>0.0</td><td>34061.20830910968</td><td>nan</td></tr>\n",
       "<tr><td>1084427165761544</td><td>242.565058139153</td><td>53.6660585113414</td><td>10153</td><td>sv3</td><td>0.125989095083328</td><td>3.5227684897735e-05</td><td>4</td><td>5.68882738612592</td><td>fuji/healpix/sv3/dark/101/10153/redrock-sv3-dark-10153.fits</td><td>TFT</td><td>123</td><td>242.56505813915317</td><td>53.66605851134143</td><td>1.0</td><td>0.0051345584203787275</td><td>1.0000000466273342</td><td>1.0</td><td>0.0</td><td>4803.573578650942</td><td>nan</td></tr>\n",
       "<tr><td>39633304835591852</td><td>242.564968458214</td><td>53.671192794853</td><td>10153</td><td>sv3</td><td>0.109965464429358</td><td>1.30236298072821e-05</td><td>0</td><td>847.705579817295</td><td>fuji/healpix/sv3/bright/101/10153/redrock-sv3-bright-10153.fits</td><td>TFT</td><td>123</td><td>242.56496845821405</td><td>53.67119279485298</td><td>1.0</td><td>1.6837541040866038e-14</td><td>3.2792580096330368e-12</td><td>1.0</td><td>0.0</td><td>-0.19004118687180754</td><td>nan</td></tr>\n",
       "<tr><td>39633304835591852</td><td>242.564968458214</td><td>53.671192794853</td><td>10153</td><td>sv3</td><td>0.109966732247689</td><td>1.26106529808024e-05</td><td>0</td><td>879.694150358438</td><td>iron/healpix/sv3/bright/101/10153/redrock-sv3-bright-10153.fits</td><td>TFT</td><td>123</td><td>242.56496845821405</td><td>53.67119279485298</td><td>1.0</td><td>1.6837541040866038e-14</td><td>3.2792580096330368e-12</td><td>1.0</td><td>0.0</td><td>0.190041186875968</td><td>nan</td></tr>\n",
       "</table></div>"
      ],
      "text/plain": [
       "<Table length=6>\n",
       "     TARGETID        TARGET_RA     ...       VELOCITY       VELOCITY_REL\n",
       "      int64           float64      ...       float64          float64   \n",
       "----------------- ---------------- ... -------------------- ------------\n",
       " 1071233026228227 242.564878755415 ...    22486.14009337598          nan\n",
       " 1071233026228228 242.564908359756 ...   421555.40845295583          nan\n",
       " 1071233026228231 242.565028546859 ...    34061.20830910968          nan\n",
       " 1084427165761544 242.565058139153 ...    4803.573578650942          nan\n",
       "39633304835591852 242.564968458214 ... -0.19004118687180754          nan\n",
       "39633304835591852 242.564968458214 ...    0.190041186875968          nan"
      ]
     },
     "execution_count": 121,
     "metadata": {},
     "output_type": "execute_result"
    }
   ],
   "source": [
    "tf_mastertable[tf_mastertable_dict[123]]"
   ]
  },
  {
   "cell_type": "code",
   "execution_count": 11,
   "id": "d7ffec09-a7d2-4725-b8c8-785cba161529",
   "metadata": {
    "tags": []
   },
   "outputs": [
    {
     "name": "stdout",
     "output_type": "stream",
     "text": [
      "       ZERR       \n",
      "------------------\n",
      " 15.18073317579169\n",
      " 30.89339957073999\n",
      " 21.42094739439493\n",
      "13.061136285094975\n",
      "  8.61991366467759\n",
      "  8.56454648955498\n"
     ]
    }
   ],
   "source": [
    "#define z naught error\n",
    "z_o_err = np.sum(np.sqrt(1 / (w_fuji)) + np.sqrt(1 / (w_iron)))\n",
    "\n",
    "#define z error for all targets\n",
    "z_err_fuji = z_targets_fuji['ZERR']\n",
    "z_err_iron = z_targets_iron['ZERR'] \n",
    "\n",
    "#define z error combined\n",
    "\n",
    "#find v error for each target\n",
    "v_error_1 = ((z_o_err**2) + (z_err**2))\n",
    "v_err=c*(v_error_1**0.5)\n",
    "print(v_err)\n",
    "# put v error into new column for each table"
   ]
  }
 ],
 "metadata": {
  "kernelspec": {
   "display_name": "DESI main",
   "language": "python",
   "name": "desi-main"
  },
  "language_info": {
   "codemirror_mode": {
    "name": "ipython",
    "version": 3
   },
   "file_extension": ".py",
   "mimetype": "text/x-python",
   "name": "python",
   "nbconvert_exporter": "python",
   "pygments_lexer": "ipython3",
   "version": "3.10.14"
  }
 },
 "nbformat": 4,
 "nbformat_minor": 5
}
