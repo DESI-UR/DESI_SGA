{
 "cells": [
  {
   "cell_type": "code",
   "execution_count": 39,
   "id": "24ec26bf-18ca-48f0-ac1b-e8a2c63cf024",
   "metadata": {
    "tags": []
   },
   "outputs": [],
   "source": [
    "# all imports\n",
    "import numpy as np\n",
    "import os\n",
    "import requests\n",
    "from astropy.table import Table, vstack\n",
    "import matplotlib.pyplot as plt\n",
    "from astropy.io import fits\n",
    "from astropy.coordinates import SkyCoord\n",
    "from astropy import units as u\n",
    "from astropy.wcs import WCS\n",
    "import math\n",
    "import matplotlib as mpl\n",
    "from astropy.visualization.wcsaxes import SphericalCircle\n",
    "import pandas as pd"
   ]
  },
  {
   "cell_type": "code",
   "execution_count": 8,
   "id": "35a5617f-99ee-49a1-aba1-45c10a2c3c6a",
   "metadata": {
    "tags": []
   },
   "outputs": [],
   "source": [
    "# define directories\n",
    "data_dir = '/global/cfs/projectdirs/desi/science/td/pv/tfgalaxies/'\n",
    "cache_dir = '/pscratch/sd/j/jjpim/cache/' # my cache path\n",
    "vi_dir = '/pscratch/sd/j/jjpim/visual_inspection/' # vi image path"
   ]
  },
  {
   "cell_type": "code",
   "execution_count": 17,
   "id": "e1dcff62-ac21-4a0e-9a2b-a27e38ef69de",
   "metadata": {
    "tags": []
   },
   "outputs": [
    {
     "data": {
      "text/html": [
       "<div><i>Table length=5</i>\n",
       "<table id=\"table140470351665072\" class=\"table-striped table-bordered table-condensed\">\n",
       "<thead><tr><th>TARGETID</th><th>TARGET_RA</th><th>TARGET_DEC</th><th>HEALPIX</th><th>SURVEY</th><th>Z</th><th>ZERR</th><th>ZWARN</th><th>DELTACHI2</th><th>FILENAME</th><th>PVTYPE</th><th>SGA_ID</th><th>RA</th><th>DEC</th><th>OBS_IN_SV</th><th>SKY_FIBER_DIST</th><th>SKY_FIBER_DIST_R26</th><th>ROT_CURVE</th><th>EOA</th></tr></thead>\n",
       "<thead><tr><th>int64</th><th>float64</th><th>float64</th><th>int64</th><th>bytes3</th><th>float64</th><th>float64</th><th>int64</th><th>float64</th><th>bytes63</th><th>bytes3</th><th>int64</th><th>float64</th><th>float64</th><th>float64</th><th>float64</th><th>float64</th><th>float64</th><th>float64</th></tr></thead>\n",
       "<tr><td>1079550234591232</td><td>194.390863195343</td><td>27.5157211790145</td><td>10378</td><td>sv3</td><td>1.1235686466514</td><td>7.31685779475115e-05</td><td>4</td><td>3.28414569795132</td><td>fuji/healpix/sv3/bright/103/10378/redrock-sv3-bright-10378.fits</td><td>EXT</td><td>662902</td><td>194.39086319534337</td><td>27.51572117901454</td><td>1.0</td><td>0.03927420444753712</td><td>1.0000000170652443</td><td>0.0</td><td>0.0</td></tr>\n",
       "<tr><td>1092744374124544</td><td>194.390863195343</td><td>27.5157211790145</td><td>10378</td><td>sv3</td><td>0.686773088332363</td><td>6.9756676262104e-05</td><td>4</td><td>0.786607094109058</td><td>fuji/healpix/sv3/dark/103/10378/redrock-sv3-dark-10378.fits</td><td>EXT</td><td>662902</td><td>194.39086319534337</td><td>27.51572117901454</td><td>1.0</td><td>0.03927420444753712</td><td>1.0000000170652443</td><td>0.0</td><td>0.0</td></tr>\n",
       "<tr><td>1092744374124546</td><td>194.364461113654</td><td>27.5037185881314</td><td>10378</td><td>sv3</td><td>0.0242933923052181</td><td>4.95233472646785e-05</td><td>0</td><td>95.428411073226</td><td>fuji/healpix/sv3/dark/103/10378/redrock-sv3-dark-10378.fits</td><td>EXT</td><td>662902</td><td>194.36446111365385</td><td>27.50371858813136</td><td>1.0</td><td>0.012960487467698754</td><td>0.3300000056318236</td><td>0.0</td><td>0.0</td></tr>\n",
       "<tr><td>1092744369930240</td><td>194.338458724402</td><td>27.4918902690326</td><td>10378</td><td>sv3</td><td>0.0264170223697961</td><td>0.00010139452689994</td><td>0</td><td>9.53278421035066</td><td>fuji/healpix/sv3/dark/103/10378/redrock-sv3-dark-10378.fits</td><td>EXT</td><td>662902</td><td>194.33845872440244</td><td>27.491890269032595</td><td>1.0</td><td>0.012960487467685656</td><td>0.33000000563149007</td><td>0.0</td><td>0.0</td></tr>\n",
       "<tr><td>1092744374124545</td><td>194.377858465028</td><td>27.5098100780282</td><td>10378</td><td>sv3</td><td>0.211332646769145</td><td>6.68535116703737e-05</td><td>4</td><td>3.73989077657461</td><td>fuji/healpix/sv3/dark/103/10378/redrock-sv3-dark-10378.fits</td><td>EXT</td><td>662902</td><td>194.3778584650283</td><td>27.509810078028195</td><td>1.0</td><td>0.026313716979861984</td><td>0.6700000114340222</td><td>0.0</td><td>0.0</td></tr>\n",
       "</table></div>"
      ],
      "text/plain": [
       "<Table length=5>\n",
       "    TARGETID        TARGET_RA        TARGET_DEC    ... ROT_CURVE   EOA  \n",
       "     int64           float64          float64      ...  float64  float64\n",
       "---------------- ---------------- ---------------- ... --------- -------\n",
       "1079550234591232 194.390863195343 27.5157211790145 ...       0.0     0.0\n",
       "1092744374124544 194.390863195343 27.5157211790145 ...       0.0     0.0\n",
       "1092744374124546 194.364461113654 27.5037185881314 ...       0.0     0.0\n",
       "1092744369930240 194.338458724402 27.4918902690326 ...       0.0     0.0\n",
       "1092744374124545 194.377858465028 27.5098100780282 ...       0.0     0.0"
      ]
     },
     "execution_count": 17,
     "metadata": {},
     "output_type": "execute_result"
    }
   ],
   "source": [
    "# load updated fuji table\n",
    "tf_fuji = Table.read(data_dir + 'SV/desi_pv_tf_fuji_healpix_rotcurve_EOA_VI.fits') \n",
    "tf_fuji[:5]"
   ]
  },
  {
   "cell_type": "code",
   "execution_count": 18,
   "id": "47c12e3a-2f98-40a0-9d83-bd791d75ff19",
   "metadata": {
    "tags": []
   },
   "outputs": [
    {
     "data": {
      "text/html": [
       "<div><i>Table length=5</i>\n",
       "<table id=\"table140471176021424\" class=\"table-striped table-bordered table-condensed\">\n",
       "<thead><tr><th>TARGETID</th><th>TARGET_RA</th><th>TARGET_DEC</th><th>HEALPIX</th><th>SURVEY</th><th>Z</th><th>ZERR</th><th>ZWARN</th><th>DELTACHI2</th><th>FILENAME</th><th>PVTYPE</th><th>SGA_ID</th><th>RA</th><th>DEC</th><th>OBS_IN_SV</th><th>SKY_FIBER_DIST</th><th>SKY_FIBER_DIST_R26</th><th>ROT_CURVE</th><th>EOA</th></tr></thead>\n",
       "<thead><tr><th>int64</th><th>float64</th><th>float64</th><th>int64</th><th>bytes4</th><th>float64</th><th>float64</th><th>int64</th><th>float64</th><th>bytes65</th><th>bytes3</th><th>int64</th><th>float64</th><th>float64</th><th>float64</th><th>float64</th><th>float64</th><th>float64</th><th>float64</th></tr></thead>\n",
       "<tr><td>2852147603439621</td><td>198.369130660983</td><td>36.5372037049171</td><td>10475</td><td>main</td><td>0.815976335547845</td><td>7.38513168100107e-05</td><td>4</td><td>0.128754377365112</td><td>iron/healpix/main/dark/104/10475/redrock-main-dark-10475.fits</td><td>EXT</td><td>649377</td><td>198.36913066098333</td><td>36.537203704917076</td><td>0.0</td><td>0.0567420462925582</td><td>0.599999979158402</td><td>0.0</td><td>1.0</td></tr>\n",
       "<tr><td>2399148812795907</td><td>198.371733180003</td><td>36.4994335406917</td><td>10475</td><td>main</td><td>1.11088784970434</td><td>7.48767797671894e-05</td><td>4</td><td>7.9473560154438</td><td>iron/healpix/main/bright/104/10475/redrock-main-bright-10475.fits</td><td>EXT</td><td>649377</td><td>198.37173318000336</td><td>36.499433540691676</td><td>0.0</td><td>0.09457007715465947</td><td>0.9999999652681886</td><td>0.0</td><td>1.0</td></tr>\n",
       "<tr><td>2399382443917318</td><td>184.845242475328</td><td>49.8157304793777</td><td>10995</td><td>main</td><td>1.14739342108157</td><td>0.000146302276719084</td><td>4</td><td>2.56771463155746</td><td>iron/healpix/main/bright/109/10995/redrock-main-bright-10995.fits</td><td>EXT</td><td>1008911</td><td>184.84524247532795</td><td>49.81573047937771</td><td>0.0</td><td>0.024841917763806447</td><td>0.9999999684347345</td><td>0.0</td><td>0.0</td></tr>\n",
       "<tr><td>2399634072797192</td><td>184.341289722203</td><td>70.8283725474297</td><td>11965</td><td>main</td><td>1.51703376230705</td><td>6.28979649962091e-05</td><td>4</td><td>4.76254060305655</td><td>iron/healpix/main/bright/119/11965/redrock-main-bright-11965.fits</td><td>EXT</td><td>241234</td><td>184.34128972220284</td><td>70.82837254742968</td><td>0.0</td><td>0.026555350833845817</td><td>0.8000000542794348</td><td>0.0</td><td>0.0</td></tr>\n",
       "<tr><td>2852141710442505</td><td>123.256011148025</td><td>36.2652948002806</td><td>6448</td><td>main</td><td>0.00787379494184006</td><td>3.4714052819995e-05</td><td>0</td><td>22.1719104201402</td><td>iron/healpix/main/dark/64/6448/redrock-main-dark-6448.fits</td><td>EXT</td><td>31591</td><td>123.25601114802525</td><td>36.26529480028061</td><td>0.0</td><td>0.015878717350385107</td><td>0.40000000619171416</td><td>0.0</td><td>0.0</td></tr>\n",
       "</table></div>"
      ],
      "text/plain": [
       "<Table length=5>\n",
       "    TARGETID        TARGET_RA        TARGET_DEC    ... ROT_CURVE   EOA  \n",
       "     int64           float64          float64      ...  float64  float64\n",
       "---------------- ---------------- ---------------- ... --------- -------\n",
       "2852147603439621 198.369130660983 36.5372037049171 ...       0.0     1.0\n",
       "2399148812795907 198.371733180003 36.4994335406917 ...       0.0     1.0\n",
       "2399382443917318 184.845242475328 49.8157304793777 ...       0.0     0.0\n",
       "2399634072797192 184.341289722203 70.8283725474297 ...       0.0     0.0\n",
       "2852141710442505 123.256011148025 36.2652948002806 ...       0.0     0.0"
      ]
     },
     "execution_count": 18,
     "metadata": {},
     "output_type": "execute_result"
    }
   ],
   "source": [
    "# load iron table\n",
    "tf_iron = Table.read(data_dir + 'Y1/desi_pv_tf_iron_healpix_rotcurve_EOA_VI.fits')\n",
    "tf_iron[:5]"
   ]
  },
  {
   "cell_type": "code",
   "execution_count": 23,
   "id": "a8f10904-95c9-4de3-b76f-7b1f33980b3d",
   "metadata": {
    "tags": []
   },
   "outputs": [],
   "source": [
    "tf_fuji['VELOCITY']=np.nan\n",
    "tf_fuji['VELOCITY_REL']=np.nan\n",
    "tf_iron['VELOCITY']=np.nan\n",
    "tf_iron['VELOCITY_REL']=np.nan"
   ]
  },
  {
   "cell_type": "code",
   "execution_count": 47,
   "id": "d096152b-02cc-420d-9751-f7bdfa67e49c",
   "metadata": {
    "tags": []
   },
   "outputs": [
    {
     "name": "stdout",
     "output_type": "stream",
     "text": [
      "Maximum value in tf_fuji: 0.173630148670864\n",
      "Maximum value in tf_iron: 1.62543750380985\n"
     ]
    }
   ],
   "source": [
    "# Filter the data based on the condition\n",
    "filtered_tf_fuji = tf_fuji[tf_fuji['SKY_FIBER_DIST_R26'] < 0.001]\n",
    "filtered_tf_iron = tf_iron[tf_iron['SKY_FIBER_DIST_R26'] < 0.001]\n",
    "\n",
    "filtered_tf_fuji = filtered_tf_fuji[filtered_tf_fuji['ROT_CURVE'] == 1]\n",
    "filtered_tf_iron = filtered_tf_iron[filtered_tf_iron['ROT_CURVE'] == 1]\n",
    "\n",
    "# Find the maximum value of a specific column in the filtered data\n",
    "max_value_fuji = filtered_tf_fuji['Z'].max()\n",
    "max_value_iron = filtered_tf_iron['Z'].max()\n",
    "\n",
    "print(\"Maximum value in tf_fuji:\", max_value_fuji)\n",
    "print(\"Maximum value in tf_iron:\", max_value_iron)"
   ]
  },
  {
   "cell_type": "code",
   "execution_count": 63,
   "id": "8d4e9e24-c679-4152-ba9a-628e3b7bf52b",
   "metadata": {
    "tags": []
   },
   "outputs": [
    {
     "name": "stdout",
     "output_type": "stream",
     "text": [
      " SGA_ID\n",
      "-------\n",
      "    123\n",
      "    896\n",
      "   1548\n",
      "   1583\n",
      "   1980\n",
      "   2497\n",
      "   5732\n",
      "   5958\n",
      "   5964\n",
      "   6443\n",
      "    ...\n",
      "1421164\n",
      "1421334\n",
      "1424489\n",
      "1427956\n",
      "1429142\n",
      "1429680\n",
      "1430013\n",
      "1431285\n",
      "1434487\n",
      "5001339\n",
      "5002047\n",
      "Length = 1267 rows  SGA_ID\n",
      "-------\n",
      "    123\n",
      "    896\n",
      "   1548\n",
      "   1583\n",
      "   1980\n",
      "   2497\n",
      "   5732\n",
      "   5958\n",
      "   5964\n",
      "   6443\n",
      "    ...\n",
      "1421334\n",
      "1424489\n",
      "1427956\n",
      "1429142\n",
      "1429680\n",
      "1430013\n",
      "1431285\n",
      "1434487\n",
      "2000055\n",
      "5001339\n",
      "5002047\n",
      "Length = 1298 rows\n"
     ]
    }
   ],
   "source": [
    "tf_fuji_rot = np.unique(tf_fuji[tf_fuji['ROT_CURVE']==1]['SGA_ID'])\n",
    "tf_iron_rot = np.unique(tf_iron[tf_iron['ROT_CURVE']==1]['SGA_ID'])\n",
    "print(tf_fuji_rot, tf_iron_rot)"
   ]
  },
  {
   "cell_type": "code",
   "execution_count": 155,
   "id": "13cfc9c3-66ab-468a-9483-7c6311ab2198",
   "metadata": {
    "tags": []
   },
   "outputs": [
    {
     "name": "stdout",
     "output_type": "stream",
     "text": [
      "     TARGETID    \n",
      "-----------------\n",
      " 1071233026228227\n",
      " 1071233026228228\n",
      " 1071233026228231\n",
      " 1084427165761544\n",
      "39633304835591852\n"
     ]
    }
   ],
   "source": [
    "# find all unique target ID's for one galaxy\n",
    "targets_fuji=tf_fuji[tf_fuji['SGA_ID']==  123]\n",
    "targets_iron=tf_iron[tf_iron['SGA_ID']== 123]\n",
    "targets=(vstack([targets_fuji,targets_iron]))\n",
    "target_list=np.unique(targets['TARGETID'])\n",
    "print(target_list)"
   ]
  },
  {
   "cell_type": "code",
   "execution_count": 156,
   "id": "3c51aab3-9dad-456d-8f4a-c42919099a6d",
   "metadata": {
    "tags": []
   },
   "outputs": [
    {
     "name": "stdout",
     "output_type": "stream",
     "text": [
      "     TARGETID        TARGET_RA        TARGET_DEC    ... VELOCITY VELOCITY_REL\n",
      "----------------- ---------------- ---------------- ... -------- ------------\n",
      " 1071233026228227 242.564878755415 53.6763270782975 ...      nan          nan\n",
      " 1071233026228228 242.564908359756 53.6746327647682 ...      nan          nan\n",
      " 1071233026228231 242.565028546859 53.6677528249076 ...      nan          nan\n",
      " 1084427165761544 242.565058139153 53.6660585113414 ...      nan          nan\n",
      "39633304835591852 242.564968458214  53.671192794853 ...      nan          nan\n",
      "39633304835591852 242.564968458214  53.671192794853 ...      nan          nan\n"
     ]
    }
   ],
   "source": [
    "z_targets=(targets)\n",
    "print(z_targets)"
   ]
  },
  {
   "cell_type": "code",
   "execution_count": 113,
   "id": "8570dc83-e167-42ba-9a17-83182d83a10b",
   "metadata": {
    "tags": []
   },
   "outputs": [
    {
     "data": {
      "text/html": [
       "<div><i>Table length=1</i>\n",
       "<table id=\"table140470212257120\" class=\"table-striped table-bordered table-condensed\">\n",
       "<thead><tr><th>TARGETID</th><th>TARGET_RA</th><th>TARGET_DEC</th><th>HEALPIX</th><th>SURVEY</th><th>Z</th><th>ZERR</th><th>ZWARN</th><th>DELTACHI2</th><th>FILENAME</th><th>PVTYPE</th><th>SGA_ID</th><th>RA</th><th>DEC</th><th>OBS_IN_SV</th><th>SKY_FIBER_DIST</th><th>SKY_FIBER_DIST_R26</th><th>ROT_CURVE</th><th>EOA</th><th>VELOCITY</th><th>VELOCITY_REL</th></tr></thead>\n",
       "<thead><tr><th>int64</th><th>float64</th><th>float64</th><th>int64</th><th>bytes3</th><th>float64</th><th>float64</th><th>int64</th><th>float64</th><th>bytes63</th><th>bytes3</th><th>int64</th><th>float64</th><th>float64</th><th>float64</th><th>float64</th><th>float64</th><th>float64</th><th>float64</th><th>float64</th><th>float64</th></tr></thead>\n",
       "<tr><td>39633304835591852</td><td>242.564968458214</td><td>53.671192794853</td><td>10153</td><td>sv3</td><td>0.109965464429358</td><td>1.30236298072821e-05</td><td>0</td><td>847.705579817295</td><td>fuji/healpix/sv3/bright/101/10153/redrock-sv3-bright-10153.fits</td><td>TFT</td><td>123</td><td>242.56496845821405</td><td>53.67119279485298</td><td>1.0</td><td>1.6837541040866038e-14</td><td>3.2792580096330368e-12</td><td>1.0</td><td>0.0</td><td>nan</td><td>nan</td></tr>\n",
       "</table></div>"
      ],
      "text/plain": [
       "<Table length=1>\n",
       "     TARGETID        TARGET_RA        TARGET_DEC   ... VELOCITY VELOCITY_REL\n",
       "      int64           float64          float64     ... float64    float64   \n",
       "----------------- ---------------- --------------- ... -------- ------------\n",
       "39633304835591852 242.564968458214 53.671192794853 ...      nan          nan"
      ]
     },
     "execution_count": 113,
     "metadata": {},
     "output_type": "execute_result"
    }
   ],
   "source": [
    "#list of good centers in fuji for one galaxy found by SGA ID above\n",
    "fuji_centers = targets_fuji[targets_fuji['SKY_FIBER_DIST_R26'] < 0.001]\n",
    "fuji_centers = fuji_centers[fuji_centers['ZWARN']==0]\n",
    "fuji_good_centers = fuji_centers[fuji_centers['DELTACHI2']>25] \n",
    "fuji_good_centers"
   ]
  },
  {
   "cell_type": "code",
   "execution_count": 112,
   "id": "6c774cba-2f7d-4bf2-b91e-122b4eb15cad",
   "metadata": {
    "tags": []
   },
   "outputs": [
    {
     "data": {
      "text/html": [
       "<div><i>Table length=1</i>\n",
       "<table id=\"table140470212261008\" class=\"table-striped table-bordered table-condensed\">\n",
       "<thead><tr><th>TARGETID</th><th>TARGET_RA</th><th>TARGET_DEC</th><th>HEALPIX</th><th>SURVEY</th><th>Z</th><th>ZERR</th><th>ZWARN</th><th>DELTACHI2</th><th>FILENAME</th><th>PVTYPE</th><th>SGA_ID</th><th>RA</th><th>DEC</th><th>OBS_IN_SV</th><th>SKY_FIBER_DIST</th><th>SKY_FIBER_DIST_R26</th><th>ROT_CURVE</th><th>EOA</th><th>VELOCITY_REL</th><th>VELOCITY</th></tr></thead>\n",
       "<thead><tr><th>int64</th><th>float64</th><th>float64</th><th>int64</th><th>bytes4</th><th>float64</th><th>float64</th><th>int64</th><th>float64</th><th>bytes65</th><th>bytes3</th><th>int64</th><th>float64</th><th>float64</th><th>float64</th><th>float64</th><th>float64</th><th>float64</th><th>float64</th><th>float64</th><th>float64</th></tr></thead>\n",
       "<tr><td>39633304835591852</td><td>242.564968458214</td><td>53.671192794853</td><td>10153</td><td>sv3</td><td>0.109966732247689</td><td>1.26106529808024e-05</td><td>0</td><td>879.694150358438</td><td>iron/healpix/sv3/bright/101/10153/redrock-sv3-bright-10153.fits</td><td>TFT</td><td>123</td><td>242.56496845821405</td><td>53.67119279485298</td><td>1.0</td><td>1.6837541040866038e-14</td><td>3.2792580096330368e-12</td><td>1.0</td><td>0.0</td><td>nan</td><td>nan</td></tr>\n",
       "</table></div>"
      ],
      "text/plain": [
       "<Table length=1>\n",
       "     TARGETID        TARGET_RA        TARGET_DEC   ... VELOCITY_REL VELOCITY\n",
       "      int64           float64          float64     ...   float64    float64 \n",
       "----------------- ---------------- --------------- ... ------------ --------\n",
       "39633304835591852 242.564968458214 53.671192794853 ...          nan      nan"
      ]
     },
     "execution_count": 112,
     "metadata": {},
     "output_type": "execute_result"
    }
   ],
   "source": [
    "#list of good centers in iron for one galaxy found by SGA ID above\n",
    "iron_centers = targets_iron[targets_iron['SKY_FIBER_DIST_R26'] < 0.001]\n",
    "iron_centers = iron_centers[iron_centers['ZWARN']==0]\n",
    "iron_good_centers = iron_centers[iron_centers['DELTACHI2']>25] \n",
    "iron_good_centers"
   ]
  },
  {
   "cell_type": "code",
   "execution_count": 157,
   "id": "96735632-1252-4882-af45-c86cbfe0c6b8",
   "metadata": {},
   "outputs": [
    {
     "data": {
      "text/html": [
       "&lt;Column name=&apos;Z&apos; dtype=&apos;float64&apos; length=1&gt;\n",
       "<table>\n",
       "<tr><td>0.109966732247689</td></tr>\n",
       "</table>"
      ],
      "text/plain": [
       "<Column name='Z' dtype='float64' length=1>\n",
       "0.109966732247689"
      ]
     },
     "execution_count": 157,
     "metadata": {},
     "output_type": "execute_result"
    }
   ],
   "source": [
    "z_o=iron_good_centers['Z']\n",
    "z_o"
   ]
  },
  {
   "cell_type": "code",
   "execution_count": null,
   "id": "b04283d8-af88-44d3-ac8c-87d6bd78b3e6",
   "metadata": {},
   "outputs": [],
   "source": []
  }
 ],
 "metadata": {
  "kernelspec": {
   "display_name": "DESI main",
   "language": "python",
   "name": "desi-main"
  },
  "language_info": {
   "codemirror_mode": {
    "name": "ipython",
    "version": 3
   },
   "file_extension": ".py",
   "mimetype": "text/x-python",
   "name": "python",
   "nbconvert_exporter": "python",
   "pygments_lexer": "ipython3",
   "version": "3.10.14"
  }
 },
 "nbformat": 4,
 "nbformat_minor": 5
}
