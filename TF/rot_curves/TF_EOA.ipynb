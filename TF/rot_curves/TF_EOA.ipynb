{
 "cells": [
  {
   "cell_type": "markdown",
   "id": "8602211f-0da2-4735-99aa-a041fed72976",
   "metadata": {},
   "source": [
    "### Notebook to identify EOA targets from rotation curve targets"
   ]
  },
  {
   "cell_type": "code",
   "execution_count": 3,
   "id": "4743dd00-8df3-4f60-b69b-dba5374d8c0d",
   "metadata": {
    "tags": []
   },
   "outputs": [],
   "source": [
    "import numpy as np\n",
    "from astropy.table import Table, vstack\n",
    "import matplotlib.pyplot as plt\n",
    "from astropy.io import fits\n",
    "from astropy.coordinates import SkyCoord\n",
    "from astropy import units as u\n",
    "import matplotlib\n",
    "\n",
    "matplotlib.rcParams['figure.dpi'] = 100\n",
    "matplotlib.rcParams['savefig.dpi'] = 300"
   ]
  },
  {
   "cell_type": "code",
   "execution_count": 4,
   "id": "139c9cc4-a739-4157-a034-8432e5da0ef3",
   "metadata": {
    "tags": []
   },
   "outputs": [],
   "source": [
    "DATA_DIRECTORY = '/pscratch/sd/n/nravi/pv_rot_curves/'"
   ]
  },
  {
   "cell_type": "code",
   "execution_count": 5,
   "id": "16c94d9d-d94d-4065-b7d3-5f06f0b0e7de",
   "metadata": {
    "tags": []
   },
   "outputs": [
    {
     "data": {
      "text/html": [
       "<div><i>Table length=5</i>\n",
       "<table id=\"table139867209338112\" class=\"table-striped table-bordered table-condensed\">\n",
       "<thead><tr><th>TARGETID</th><th>TARGET_RA</th><th>TARGET_DEC</th><th>HEALPIX</th><th>SURVEY</th><th>Z</th><th>ZERR</th><th>ZWARN</th><th>DELTACHI2</th><th>FILENAME</th><th>PVTYPE</th><th>SGA_ID</th><th>RA</th><th>DEC</th><th>OBS_IN_SV</th><th>SKY_FIBER_DIST</th><th>SKY_FIBER_DIST_R26</th><th>ROT_CURVE</th></tr></thead>\n",
       "<thead><tr><th>int64</th><th>float64</th><th>float64</th><th>int64</th><th>bytes4</th><th>float64</th><th>float64</th><th>int64</th><th>float64</th><th>bytes65</th><th>bytes3</th><th>int64</th><th>float64</th><th>float64</th><th>float64</th><th>float64</th><th>float64</th><th>float64</th></tr></thead>\n",
       "<tr><td>1079550234591232</td><td>194.390863195343</td><td>27.5157211790145</td><td>10378</td><td>sv3</td><td>1.1235686466514</td><td>7.31685779475115e-05</td><td>4</td><td>3.28414569795132</td><td>fuji/healpix/sv3/bright/103/10378/redrock-sv3-bright-10378.fits</td><td>EXT</td><td>662902</td><td>194.39086319534337</td><td>27.51572117901454</td><td>1.0</td><td>0.03927420444753712</td><td>1.0000000170652443</td><td>0.0</td></tr>\n",
       "<tr><td>1092744374124544</td><td>194.390863195343</td><td>27.5157211790145</td><td>10378</td><td>sv3</td><td>0.686773088332363</td><td>6.9756676262104e-05</td><td>4</td><td>0.786607094109058</td><td>fuji/healpix/sv3/dark/103/10378/redrock-sv3-dark-10378.fits</td><td>EXT</td><td>662902</td><td>194.39086319534337</td><td>27.51572117901454</td><td>1.0</td><td>0.03927420444753712</td><td>1.0000000170652443</td><td>0.0</td></tr>\n",
       "<tr><td>1092744374124546</td><td>194.364461113654</td><td>27.5037185881314</td><td>10378</td><td>sv3</td><td>0.0242933923052181</td><td>4.95233472646785e-05</td><td>0</td><td>95.428411073226</td><td>fuji/healpix/sv3/dark/103/10378/redrock-sv3-dark-10378.fits</td><td>EXT</td><td>662902</td><td>194.36446111365385</td><td>27.50371858813136</td><td>1.0</td><td>0.012960487467698754</td><td>0.3300000056318236</td><td>0.0</td></tr>\n",
       "<tr><td>1092744369930240</td><td>194.338458724402</td><td>27.4918902690326</td><td>10378</td><td>sv3</td><td>0.0264170223697961</td><td>0.00010139452689994</td><td>0</td><td>9.53278421035066</td><td>fuji/healpix/sv3/dark/103/10378/redrock-sv3-dark-10378.fits</td><td>EXT</td><td>662902</td><td>194.33845872440244</td><td>27.491890269032595</td><td>1.0</td><td>0.012960487467685656</td><td>0.33000000563149007</td><td>0.0</td></tr>\n",
       "<tr><td>1092744374124545</td><td>194.377858465028</td><td>27.5098100780282</td><td>10378</td><td>sv3</td><td>0.211332646769145</td><td>6.68535116703737e-05</td><td>4</td><td>3.73989077657461</td><td>fuji/healpix/sv3/dark/103/10378/redrock-sv3-dark-10378.fits</td><td>EXT</td><td>662902</td><td>194.3778584650283</td><td>27.509810078028195</td><td>1.0</td><td>0.026313716979861984</td><td>0.6700000114340222</td><td>0.0</td></tr>\n",
       "</table></div>"
      ],
      "text/plain": [
       "<Table length=5>\n",
       "    TARGETID        TARGET_RA     ...  SKY_FIBER_DIST_R26 ROT_CURVE\n",
       "     int64           float64      ...       float64        float64 \n",
       "---------------- ---------------- ... ------------------- ---------\n",
       "1079550234591232 194.390863195343 ...  1.0000000170652443       0.0\n",
       "1092744374124544 194.390863195343 ...  1.0000000170652443       0.0\n",
       "1092744374124546 194.364461113654 ...  0.3300000056318236       0.0\n",
       "1092744369930240 194.338458724402 ... 0.33000000563149007       0.0\n",
       "1092744374124545 194.377858465028 ...  0.6700000114340222       0.0"
      ]
     },
     "execution_count": 5,
     "metadata": {},
     "output_type": "execute_result"
    }
   ],
   "source": [
    "# load master table\n",
    "# NOTE: update fuji and iron tables after identifying targets\n",
    "tf_master_table = Table.read(DATA_DIRECTORY + 'desi_pv_tf_master_table_healpix_rotcurve.fits')\n",
    "tf_master_table[:5]"
   ]
  },
  {
   "cell_type": "code",
   "execution_count": 6,
   "id": "f44c8e14-d5ea-4bc3-b5a0-43fd1333634c",
   "metadata": {
    "tags": []
   },
   "outputs": [
    {
     "data": {
      "text/html": [
       "<div><i>Table length=5</i>\n",
       "<table id=\"table139869441101632\" class=\"table-striped table-bordered table-condensed\">\n",
       "<thead><tr><th>SGA_ID</th><th>SGA_GALAXY</th><th>GALAXY</th><th>PGC</th><th>RA_LEDA</th><th>DEC_LEDA</th><th>MORPHTYPE</th><th>PA_LEDA</th><th>D25_LEDA</th><th>BA_LEDA</th><th>Z_LEDA</th><th>SB_D25_LEDA</th><th>MAG_LEDA</th><th>BYHAND</th><th>REF</th><th>GROUP_ID</th><th>GROUP_NAME</th><th>GROUP_MULT</th><th>GROUP_PRIMARY</th><th>GROUP_RA</th><th>GROUP_DEC</th><th>GROUP_DIAMETER</th><th>BRICKNAME</th><th>RA</th><th>DEC</th><th>D26</th><th>D26_REF</th><th>PA</th><th>BA</th><th>RA_MOMENT</th><th>DEC_MOMENT</th><th>SMA_MOMENT</th><th>G_SMA50</th><th>R_SMA50</th><th>Z_SMA50</th><th>SMA_SB22</th><th>SMA_SB22.5</th><th>SMA_SB23</th><th>SMA_SB23.5</th><th>SMA_SB24</th><th>SMA_SB24.5</th><th>SMA_SB25</th><th>SMA_SB25.5</th><th>SMA_SB26</th><th>G_MAG_SB22</th><th>R_MAG_SB22</th><th>Z_MAG_SB22</th><th>G_MAG_SB22.5</th><th>R_MAG_SB22.5</th><th>Z_MAG_SB22.5</th><th>G_MAG_SB23</th><th>R_MAG_SB23</th><th>Z_MAG_SB23</th><th>G_MAG_SB23.5</th><th>R_MAG_SB23.5</th><th>Z_MAG_SB23.5</th><th>G_MAG_SB24</th><th>R_MAG_SB24</th><th>Z_MAG_SB24</th><th>G_MAG_SB24.5</th><th>R_MAG_SB24.5</th><th>Z_MAG_SB24.5</th><th>G_MAG_SB25</th><th>R_MAG_SB25</th><th>Z_MAG_SB25</th><th>G_MAG_SB25.5</th><th>R_MAG_SB25.5</th><th>Z_MAG_SB25.5</th><th>G_MAG_SB26</th><th>R_MAG_SB26</th><th>Z_MAG_SB26</th><th>SMA_SB22_ERR</th><th>SMA_SB22.5_ERR</th><th>SMA_SB23_ERR</th><th>SMA_SB23.5_ERR</th><th>SMA_SB24_ERR</th><th>SMA_SB24.5_ERR</th><th>SMA_SB25_ERR</th><th>SMA_SB25.5_ERR</th><th>SMA_SB26_ERR</th><th>G_MAG_SB22_ERR</th><th>R_MAG_SB22_ERR</th><th>Z_MAG_SB22_ERR</th><th>G_MAG_SB22.5_ERR</th><th>R_MAG_SB22.5_ERR</th><th>Z_MAG_SB22.5_ERR</th><th>G_MAG_SB23_ERR</th><th>R_MAG_SB23_ERR</th><th>Z_MAG_SB23_ERR</th><th>G_MAG_SB23.5_ERR</th><th>R_MAG_SB23.5_ERR</th><th>Z_MAG_SB23.5_ERR</th><th>G_MAG_SB24_ERR</th><th>R_MAG_SB24_ERR</th><th>Z_MAG_SB24_ERR</th><th>G_MAG_SB24.5_ERR</th><th>R_MAG_SB24.5_ERR</th><th>Z_MAG_SB24.5_ERR</th><th>G_MAG_SB25_ERR</th><th>R_MAG_SB25_ERR</th><th>Z_MAG_SB25_ERR</th><th>G_MAG_SB25.5_ERR</th><th>R_MAG_SB25.5_ERR</th><th>Z_MAG_SB25.5_ERR</th><th>G_MAG_SB26_ERR</th><th>R_MAG_SB26_ERR</th><th>Z_MAG_SB26_ERR</th><th>G_COG_PARAMS_MTOT</th><th>G_COG_PARAMS_M0</th><th>G_COG_PARAMS_ALPHA1</th><th>G_COG_PARAMS_ALPHA2</th><th>G_COG_PARAMS_CHI2</th><th>R_COG_PARAMS_MTOT</th><th>R_COG_PARAMS_M0</th><th>R_COG_PARAMS_ALPHA1</th><th>R_COG_PARAMS_ALPHA2</th><th>R_COG_PARAMS_CHI2</th><th>Z_COG_PARAMS_MTOT</th><th>Z_COG_PARAMS_M0</th><th>Z_COG_PARAMS_ALPHA1</th><th>Z_COG_PARAMS_ALPHA2</th><th>Z_COG_PARAMS_CHI2</th><th>ELLIPSEBIT</th></tr></thead>\n",
       "<thead><tr><th>int64</th><th>bytes16</th><th>bytes29</th><th>int64</th><th>float64</th><th>float64</th><th>bytes21</th><th>float32</th><th>float32</th><th>float32</th><th>float32</th><th>float32</th><th>float32</th><th>bool</th><th>bytes13</th><th>int64</th><th>bytes35</th><th>int16</th><th>bool</th><th>float64</th><th>float64</th><th>float32</th><th>bytes8</th><th>float64</th><th>float64</th><th>float32</th><th>bytes4</th><th>float32</th><th>float32</th><th>float64</th><th>float64</th><th>float32</th><th>float32</th><th>float32</th><th>float32</th><th>float32</th><th>float32</th><th>float32</th><th>float32</th><th>float32</th><th>float32</th><th>float32</th><th>float32</th><th>float32</th><th>float32</th><th>float32</th><th>float32</th><th>float32</th><th>float32</th><th>float32</th><th>float32</th><th>float32</th><th>float32</th><th>float32</th><th>float32</th><th>float32</th><th>float32</th><th>float32</th><th>float32</th><th>float32</th><th>float32</th><th>float32</th><th>float32</th><th>float32</th><th>float32</th><th>float32</th><th>float32</th><th>float32</th><th>float32</th><th>float32</th><th>float32</th><th>float32</th><th>float32</th><th>float32</th><th>float32</th><th>float32</th><th>float32</th><th>float32</th><th>float32</th><th>float32</th><th>float32</th><th>float32</th><th>float32</th><th>float32</th><th>float32</th><th>float32</th><th>float32</th><th>float32</th><th>float32</th><th>float32</th><th>float32</th><th>float32</th><th>float32</th><th>float32</th><th>float32</th><th>float32</th><th>float32</th><th>float32</th><th>float32</th><th>float32</th><th>float32</th><th>float32</th><th>float32</th><th>float32</th><th>float32</th><th>float32</th><th>float32</th><th>float32</th><th>float32</th><th>float32</th><th>float32</th><th>float32</th><th>float32</th><th>float32</th><th>float32</th><th>float32</th><th>float32</th><th>float32</th><th>float32</th><th>float32</th><th>float32</th><th>float32</th><th>int32</th></tr></thead>\n",
       "<tr><td>2</td><td>SGA-2020 2</td><td>PGC1283207</td><td>1283207</td><td>228.3770865</td><td>5.4232017</td><td>S?</td><td>152.2</td><td>0.36307806</td><td>0.724436</td><td>0.03463229</td><td>23.40448</td><td>16.976</td><td>False</td><td>LEDA-20181114</td><td>0</td><td>PGC1283207</td><td>1</td><td>True</td><td>228.3770865</td><td>5.4232017</td><td>0.36307806</td><td>2283p055</td><td>228.3770803831908</td><td>5.423191398593787</td><td>0.49470574</td><td>SB26</td><td>158.20142</td><td>0.545691</td><td>228.37700918822188</td><td>5.4232652570544015</td><td>10.897086</td><td>3.3509698</td><td>3.1147978</td><td>3.240862</td><td>5.902337</td><td>6.9126143</td><td>7.941369</td><td>8.997992</td><td>10.073601</td><td>11.199986</td><td>12.391357</td><td>13.561038</td><td>14.841172</td><td>16.966799</td><td>16.108246</td><td>15.486356</td><td>16.879545</td><td>16.024958</td><td>15.400715</td><td>16.818878</td><td>15.967034</td><td>15.341793</td><td>16.776297</td><td>15.925804</td><td>15.300776</td><td>16.746685</td><td>15.897334</td><td>15.272053</td><td>16.725166</td><td>15.876816</td><td>15.2521105</td><td>16.708357</td><td>15.862035</td><td>15.237181</td><td>16.696539</td><td>15.851936</td><td>15.226998</td><td>16.689613</td><td>15.844313</td><td>15.21976</td><td>0.013392451</td><td>0.02354</td><td>0.021872982</td><td>0.01736985</td><td>0.024445537</td><td>0.039866067</td><td>0.05026544</td><td>0.08455789</td><td>0.122911856</td><td>0.005682776</td><td>0.0054258136</td><td>0.0049038026</td><td>0.005588406</td><td>0.005323561</td><td>0.0047632363</td><td>0.00543534</td><td>0.005177031</td><td>0.0046343105</td><td>0.0053025587</td><td>0.005040888</td><td>0.0045181247</td><td>0.005206092</td><td>0.0049438984</td><td>0.0044374703</td><td>0.0051483097</td><td>0.0048758644</td><td>0.0043834248</td><td>0.0051032505</td><td>0.0048264163</td><td>0.004344248</td><td>0.0050705094</td><td>0.004792021</td><td>0.004319857</td><td>0.005054293</td><td>0.004765629</td><td>0.0043044444</td><td>16.65942</td><td>0.34037337</td><td>0.2978292</td><td>3.0239506</td><td>0.07928849</td><td>15.820566</td><td>0.2640441</td><td>0.34559453</td><td>3.3033552</td><td>0.003811298</td><td>15.195567</td><td>0.29826432</td><td>0.3001073</td><td>3.2333765</td><td>0.011723555</td><td>0</td></tr>\n",
       "<tr><td>3</td><td>SGA-2020 3</td><td>PGC1310416</td><td>1310416</td><td>202.54443750000002</td><td>6.9345944</td><td>Sc</td><td>159.26</td><td>0.4017908</td><td>0.7816278</td><td>0.073888786</td><td>23.498482</td><td>16.85</td><td>False</td><td>LEDA-20181114</td><td>1</td><td>PGC1310416</td><td>1</td><td>True</td><td>202.54443750000002</td><td>6.9345944</td><td>0.4017908</td><td>2025p070</td><td>202.5444619671207</td><td>6.9346244322326624</td><td>0.55350494</td><td>SB26</td><td>161.5937</td><td>0.7291764</td><td>202.54432739596137</td><td>6.934806737209989</td><td>15.746941</td><td>5.6416235</td><td>5.2647552</td><td>5.0895185</td><td>5.9838247</td><td>7.4356494</td><td>8.728868</td><td>10.087478</td><td>11.529764</td><td>12.818195</td><td>14.115497</td><td>15.319822</td><td>16.605148</td><td>16.963299</td><td>16.307854</td><td>15.806882</td><td>16.729511</td><td>16.097378</td><td>15.615527</td><td>16.606344</td><td>15.990707</td><td>15.518403</td><td>16.525967</td><td>15.917321</td><td>15.450624</td><td>16.462585</td><td>15.859485</td><td>15.397182</td><td>16.419558</td><td>15.820947</td><td>15.36243</td><td>16.390558</td><td>15.796369</td><td>15.338905</td><td>16.376112</td><td>15.782492</td><td>15.323709</td><td>16.364115</td><td>15.773462</td><td>15.313725</td><td>0.036992554</td><td>0.034982767</td><td>0.037769336</td><td>0.049429573</td><td>0.052699674</td><td>0.074114166</td><td>0.07914538</td><td>0.09781406</td><td>0.15534972</td><td>0.016095797</td><td>0.019181909</td><td>0.021539452</td><td>0.013955905</td><td>0.016594552</td><td>0.018640138</td><td>0.012786752</td><td>0.015244632</td><td>0.01715491</td><td>0.011973826</td><td>0.014366956</td><td>0.016208366</td><td>0.011358372</td><td>0.013676575</td><td>0.015474222</td><td>0.010944939</td><td>0.013225297</td><td>0.015011175</td><td>0.010691595</td><td>0.012931233</td><td>0.014687982</td><td>0.010546411</td><td>0.012796015</td><td>0.014518412</td><td>0.010457551</td><td>0.012685407</td><td>0.014379212</td><td>16.284733</td><td>1.0914493</td><td>0.24674739</td><td>2.4320207</td><td>0.68685365</td><td>15.704403</td><td>0.8764323</td><td>0.27360612</td><td>2.4995425</td><td>0.49343896</td><td>15.235263</td><td>1.3098688</td><td>0.17866786</td><td>2.1750498</td><td>0.20391206</td><td>0</td></tr>\n",
       "<tr><td>4</td><td>SGA-2020 4</td><td>SDSSJ145059.93+135143.0</td><td>4435547</td><td>222.749787</td><td>13.8619111</td><td>S?</td><td>44.57</td><td>0.33342642</td><td>0.6637431</td><td>0.07567602</td><td>24.457481</td><td>18.214</td><td>False</td><td>LEDA-20181114</td><td>2</td><td>SDSSJ145059.93+135143.0</td><td>1</td><td>True</td><td>222.749787</td><td>13.8619111</td><td>0.33342642</td><td>2228p137</td><td>222.7497050504303</td><td>13.861929561160224</td><td>0.37067476</td><td>SB26</td><td>45.28537</td><td>0.70922077</td><td>222.749650475464</td><td>13.862052070022896</td><td>8.877115</td><td>4.652771</td><td>4.4837785</td><td>4.4959745</td><td>2.01033</td><td>3.3967943</td><td>4.76257</td><td>6.043787</td><td>7.242806</td><td>8.250407</td><td>9.158723</td><td>10.083457</td><td>11.120243</td><td>19.97595</td><td>19.190666</td><td>18.649523</td><td>19.098536</td><td>18.397219</td><td>17.899643</td><td>18.624952</td><td>17.967802</td><td>17.50231</td><td>18.35278</td><td>17.718002</td><td>17.265854</td><td>18.192762</td><td>17.5654</td><td>17.115404</td><td>18.10496</td><td>17.480022</td><td>17.033989</td><td>18.053415</td><td>17.430794</td><td>16.982971</td><td>18.020155</td><td>17.399996</td><td>16.948252</td><td>17.994783</td><td>17.377092</td><td>16.924469</td><td>0.02113719</td><td>0.03639431</td><td>0.051901262</td><td>0.06539029</td><td>0.08552586</td><td>0.07008602</td><td>0.070394725</td><td>0.08394975</td><td>0.113649584</td><td>0.013428732</td><td>0.017600043</td><td>0.016373685</td><td>0.012251812</td><td>0.014566466</td><td>0.013732588</td><td>0.012644532</td><td>0.014030071</td><td>0.013153961</td><td>0.012747069</td><td>0.013512552</td><td>0.012818239</td><td>0.012865601</td><td>0.01324455</td><td>0.012532208</td><td>0.012762528</td><td>0.013058522</td><td>0.012420634</td><td>0.01252645</td><td>0.012827468</td><td>0.012283978</td><td>0.012320441</td><td>0.012607317</td><td>0.012104107</td><td>0.0121167945</td><td>0.01244376</td><td>0.011985352</td><td>17.896797</td><td>0.5557265</td><td>0.25455818</td><td>3.167909</td><td>1.0522435</td><td>17.28287</td><td>0.4885815</td><td>0.2782499</td><td>3.2144456</td><td>1.3733263</td><td>16.807674</td><td>0.5177045</td><td>0.32264626</td><td>2.900518</td><td>1.8054093</td><td>0</td></tr>\n",
       "<tr><td>7</td><td>SGA-2020 7</td><td>PGC1742504</td><td>1742504</td><td>182.0888085</td><td>25.6022764</td><td>Sbc</td><td>84.97</td><td>0.548277</td><td>0.25118864</td><td>0.10090814</td><td>24.91348</td><td>17.59</td><td>False</td><td>LEDA-20181114</td><td>3</td><td>PGC1742504</td><td>1</td><td>True</td><td>182.0888085</td><td>25.6022764</td><td>0.548277</td><td>1820p255</td><td>182.08882232629614</td><td>25.60226821438983</td><td>0.8883204</td><td>SB26</td><td>84.857475</td><td>0.19753796</td><td>182.08873760544392</td><td>25.602311195157757</td><td>19.779116</td><td>6.5958204</td><td>6.0386286</td><td>5.8089786</td><td>9.279068</td><td>10.949478</td><td>12.652142</td><td>14.446171</td><td>16.323679</td><td>18.392954</td><td>20.915508</td><td>23.566542</td><td>26.649612</td><td>17.390274</td><td>16.360935</td><td>15.531964</td><td>17.285898</td><td>16.262264</td><td>15.440768</td><td>17.2167</td><td>16.195492</td><td>15.380734</td><td>17.16217</td><td>16.144245</td><td>15.334935</td><td>17.130178</td><td>16.110302</td><td>15.304758</td><td>17.104496</td><td>16.084463</td><td>15.280803</td><td>17.081282</td><td>16.061373</td><td>15.2589855</td><td>17.063671</td><td>16.045204</td><td>15.243196</td><td>17.046705</td><td>16.031244</td><td>15.23268</td><td>0.04351465</td><td>0.055440858</td><td>0.052207235</td><td>0.07507412</td><td>0.0793679</td><td>0.10347854</td><td>0.13569456</td><td>0.13104819</td><td>0.17234002</td><td>0.03885276</td><td>0.03744209</td><td>0.03786608</td><td>0.035534665</td><td>0.03441038</td><td>0.03503794</td><td>0.033557214</td><td>0.032548346</td><td>0.033348277</td><td>0.031964395</td><td>0.03106612</td><td>0.031957533</td><td>0.031133845</td><td>0.030202182</td><td>0.031190341</td><td>0.030430589</td><td>0.029511228</td><td>0.030530946</td><td>0.02975241</td><td>0.028853998</td><td>0.029866546</td><td>0.02928568</td><td>0.0284345</td><td>0.029445464</td><td>0.028843498</td><td>0.028076617</td><td>0.029169334</td><td>16.995174</td><td>21.083004</td><td>0.0164273</td><td>1.9079465</td><td>0.029703742</td><td>15.991165</td><td>0.7657307</td><td>0.52285546</td><td>2.3045986</td><td>0.006013103</td><td>15.191324</td><td>1.0408205</td><td>0.32956335</td><td>2.1520333</td><td>0.004725194</td><td>0</td></tr>\n",
       "<tr><td>18</td><td>SGA-2020 18</td><td>2MASXJ12340801+4535444</td><td>3550748</td><td>188.5335525</td><td>45.5956434</td><td>E</td><td>168.65</td><td>0.53088444</td><td>0.6950243</td><td>0.07609531</td><td>23.97948</td><td>16.726</td><td>False</td><td>LEDA-20181114</td><td>4</td><td>2MASXJ12340801+4535444</td><td>1</td><td>True</td><td>188.5335525</td><td>45.5956434</td><td>0.53088444</td><td>1883p455</td><td>188.53364923054596</td><td>45.595620212931856</td><td>0.73435897</td><td>SB26</td><td>166.25127</td><td>0.70995796</td><td>188.53349052789085</td><td>45.59567446403057</td><td>15.694805</td><td>5.091253</td><td>4.670616</td><td>2.9429996</td><td>5.219665</td><td>6.6119533</td><td>8.228266</td><td>10.109745</td><td>12.170589</td><td>14.364073</td><td>16.722517</td><td>19.18709</td><td>22.03077</td><td>17.208511</td><td>16.224203</td><td>15.566424</td><td>17.050343</td><td>16.080097</td><td>15.443468</td><td>16.921791</td><td>15.962402</td><td>15.347263</td><td>16.814959</td><td>15.864242</td><td>15.27134</td><td>16.729906</td><td>15.787886</td><td>15.218466</td><td>16.664564</td><td>15.730083</td><td>15.182751</td><td>16.61991</td><td>15.686324</td><td>15.1601305</td><td>16.585676</td><td>15.654064</td><td>15.148039</td><td>16.558054</td><td>15.629669</td><td>15.141826</td><td>0.032001704</td><td>0.043849397</td><td>0.045203492</td><td>0.072918765</td><td>0.06263939</td><td>0.07675708</td><td>0.10399303</td><td>0.07780949</td><td>0.14017467</td><td>0.016467415</td><td>0.021250801</td><td>0.032092847</td><td>0.0149329165</td><td>0.019061867</td><td>0.028947951</td><td>0.01369758</td><td>0.01736746</td><td>0.026648495</td><td>0.012623343</td><td>0.015980754</td><td>0.024998168</td><td>0.011793644</td><td>0.014977396</td><td>0.023862366</td><td>0.011184664</td><td>0.014255281</td><td>0.023120966</td><td>0.010785815</td><td>0.013740733</td><td>0.022603082</td><td>0.010472503</td><td>0.013351409</td><td>0.022360764</td><td>0.010212836</td><td>0.013043255</td><td>0.022296576</td><td>16.471447</td><td>0.3236818</td><td>1.9206839</td><td>2.3249283</td><td>0.0973919</td><td>15.540598</td><td>0.3247282</td><td>1.7439244</td><td>2.1774826</td><td>0.023485765</td><td>15.124181</td><td>0.16547345</td><td>1.4694684</td><td>3.3948786</td><td>0.028653827</td><td>0</td></tr>\n",
       "</table></div>"
      ],
      "text/plain": [
       "<Table length=5>\n",
       "SGA_ID  SGA_GALAXY          GALAXY         ... Z_COG_PARAMS_CHI2 ELLIPSEBIT\n",
       "int64    bytes16           bytes29         ...      float32        int32   \n",
       "------ ----------- ----------------------- ... ----------------- ----------\n",
       "     2  SGA-2020 2              PGC1283207 ...       0.011723555          0\n",
       "     3  SGA-2020 3              PGC1310416 ...        0.20391206          0\n",
       "     4  SGA-2020 4 SDSSJ145059.93+135143.0 ...         1.8054093          0\n",
       "     7  SGA-2020 7              PGC1742504 ...       0.004725194          0\n",
       "    18 SGA-2020 18  2MASXJ12340801+4535444 ...       0.028653827          0"
      ]
     },
     "execution_count": 6,
     "metadata": {},
     "output_type": "execute_result"
    }
   ],
   "source": [
    "# load SGA\n",
    "SGA = Table.read('/global/cfs/cdirs/cosmo/data/sga/2020/SGA-2020.fits', 'ELLIPSE')\n",
    "SGA[:5]"
   ]
  },
  {
   "cell_type": "code",
   "execution_count": 6,
   "id": "4979eebd-8175-4bfa-a6ed-c5749d37e897",
   "metadata": {
    "tags": []
   },
   "outputs": [],
   "source": [
    "# add cols to table\n",
    "tf_master_table['TARGET_DELTA_PA'] = np.nan*np.ones(len(tf_master_table)) # column for difference between position angle of target and semi-major axis\n",
    "tf_master_table['EOA'] = 0. # flag for EOA targets\n",
    "\n",
    "# create SGA dict\n",
    "SGA_dict={}\n",
    "for i in range(len(SGA)):\n",
    "    SGA_dict[SGA['SGA_ID'][i]] = i"
   ]
  },
  {
   "cell_type": "code",
   "execution_count": 7,
   "id": "b03577f1-34d3-4cea-9d77-3101672d0405",
   "metadata": {
    "tags": []
   },
   "outputs": [],
   "source": [
    "# calculate angle between target and semi-major axis of galaxy 'Cosmicflows4_comparison-ITFR_KAD.ipynb'\n",
    "\n",
    "for sga_gal in np.unique(tf_master_table['SGA_ID']):\n",
    "    \n",
    "    # Identify all galaxy targets on this galaxy\n",
    "    obs_idx = tf_master_table['SGA_ID'] == sga_gal\n",
    "    \n",
    "    # Find galaxy index in SGA catalog\n",
    "    sga_idx = SGA_dict[sga_gal]\n",
    "    \n",
    "    # define center and target coords\n",
    "    center_coords = SkyCoord(ra=SGA['RA'][sga_idx], \n",
    "                             dec=SGA['DEC'][sga_idx], \n",
    "                             unit=u.degree)\n",
    "    target_coords = SkyCoord(ra=tf_master_table['TARGET_RA'][obs_idx], \n",
    "                             dec=tf_master_table['TARGET_DEC'][obs_idx], \n",
    "                             unit=u.degree)\n",
    "    \n",
    "    \n",
    "    # Compute the position angle from the center to the observation\n",
    "    pa = center_coords.position_angle(target_coords).to(u.deg)\n",
    "\n",
    "    # Compute the difference between these position angles and that of the \n",
    "    # major axis\n",
    "    delta_pa = np.abs(pa - SGA['PA'][sga_idx]*u.deg)\n",
    "\n",
    "    tf_master_table['TARGET_DELTA_PA'][obs_idx] = delta_pa"
   ]
  },
  {
   "cell_type": "code",
   "execution_count": 8,
   "id": "72256f51-e664-49b4-b0db-f7d45deaaad8",
   "metadata": {
    "tags": []
   },
   "outputs": [
    {
     "data": {
      "image/png": "[encoded data removed]",
      "text/plain": [
       "<Figure size 600x400 with 1 Axes>"
      ]
     },
     "metadata": {
      "needs_background": "light"
     },
     "output_type": "display_data"
    }
   ],
   "source": [
    "vals, bins, _ = plt.hist(tf_master_table['TARGET_DELTA_PA']%180, \n",
    "                         bins=5000\n",
    "                        )\n",
    "plt.xlabel(r'$\\Delta \\theta$')\n",
    "plt.xlim(-0.1,0.1)\n",
    "plt.title('angle between target and galaxy semi-major axis')\n",
    "plt.show()"
   ]
  },
  {
   "cell_type": "code",
   "execution_count": 18,
   "id": "307a0ea5-c865-4c06-9eb9-e65c0a1038bf",
   "metadata": {
    "tags": []
   },
   "outputs": [
    {
     "data": {
      "text/plain": [
       "array([0.00000e+00, 3.60000e-02, 7.20000e-02, ..., 1.79928e+02,\n",
       "       1.79964e+02, 1.80000e+02])"
      ]
     },
     "execution_count": 18,
     "metadata": {},
     "output_type": "execute_result"
    }
   ],
   "source": [
    "bins"
   ]
  },
  {
   "cell_type": "code",
   "execution_count": 19,
   "id": "a3bad115-8ef2-40cc-b3d6-5f6914e61f2f",
   "metadata": {},
   "outputs": [
    {
     "data": {
      "text/html": [
       "<div><i>Table length=90467</i>\n",
       "<table id=\"table139949973620240\" class=\"table-striped table-bordered table-condensed\">\n",
       "<thead><tr><th>TARGETID</th><th>TARGET_RA</th><th>TARGET_DEC</th><th>HEALPIX</th><th>SURVEY</th><th>Z</th><th>ZERR</th><th>ZWARN</th><th>DELTACHI2</th><th>FILENAME</th><th>PVTYPE</th><th>SGA_ID</th><th>RA</th><th>DEC</th><th>OBS_IN_SV</th><th>SKY_FIBER_DIST</th><th>SKY_FIBER_DIST_R26</th><th>ROT_CURVE</th><th>TARGET_DELTA_PA</th><th>EOA</th></tr></thead>\n",
       "<thead><tr><th>int64</th><th>float64</th><th>float64</th><th>int64</th><th>bytes4</th><th>float64</th><th>float64</th><th>int64</th><th>float64</th><th>bytes65</th><th>bytes3</th><th>int64</th><th>float64</th><th>float64</th><th>float64</th><th>float64</th><th>float64</th><th>float64</th><th>float64</th><th>float64</th></tr></thead>\n",
       "<tr><td>1092231427522560</td><td>208.352177440161</td><td>5.20876513433155</td><td>26432</td><td>sv3</td><td>0.00303767701971418</td><td>7.77079295855834e-05</td><td>0</td><td>60.6499349754095</td><td>fuji/healpix/sv3/dark/264/26432/redrock-sv3-dark-26432.fits</td><td>EXT</td><td>560867</td><td>208.35217744016057</td><td>5.2087651343315455</td><td>1.0</td><td>0.008471934698375589</td><td>0.3300000031866702</td><td>0.0</td><td>179.9999988110148</td><td>0.0</td></tr>\n",
       "<tr><td>1084530156896264</td><td>189.911775799758</td><td>61.6325590126154</td><td>11227</td><td>sv3</td><td>0.000628693143921693</td><td>3.93518120598964e-05</td><td>0</td><td>45.9865862018414</td><td>fuji/healpix/sv3/dark/112/11227/redrock-sv3-dark-11227.fits</td><td>EXT</td><td>594346</td><td>189.9117757997579</td><td>61.63255901261535</td><td>1.0</td><td>0.04765810707938051</td><td>0.6699999580649858</td><td>0.0</td><td>179.999995494522</td><td>0.0</td></tr>\n",
       "<tr><td>1088925321920514</td><td>189.955801348671</td><td>61.6204271358126</td><td>11227</td><td>sv3</td><td>0.000771031425195882</td><td>1.93071063616644e-05</td><td>0</td><td>731.954300085962</td><td>fuji/healpix/sv3/dark/112/11227/redrock-sv3-dark-11227.fits</td><td>EXT</td><td>594346</td><td>189.95580134867072</td><td>61.62042713581259</td><td>1.0</td><td>0.02347339602443028</td><td>0.32999997934906494</td><td>0.0</td><td>179.99999549569623</td><td>0.0</td></tr>\n",
       "<tr><td>1084527275409415</td><td>189.955801348671</td><td>61.6204271358126</td><td>11227</td><td>sv3</td><td>0.000719206890656024</td><td>8.25881030944722e-06</td><td>0</td><td>6052.09266010874</td><td>fuji/healpix/sv3/dark/112/11227/redrock-sv3-dark-11227.fits</td><td>EXT</td><td>594346</td><td>189.95580134867072</td><td>61.62042713581259</td><td>1.0</td><td>0.02347339602443028</td><td>0.32999997934906494</td><td>0.0</td><td>179.99999549569623</td><td>0.0</td></tr>\n",
       "<tr><td>2305843015479989956</td><td>173.45541945964</td><td>53.1254763873733</td><td>5976</td><td>sv1</td><td>0.00333404373962337</td><td>2.24812533738904e-07</td><td>0</td><td>1486700.56152642</td><td>fuji/healpix/sv1/other/59/5976/redrock-sv1-other-5976.fits</td><td>EXT</td><td>559707</td><td>173.4553483637811</td><td>53.12541571341898</td><td>1.0</td><td>6.3611093629270335e-15</td><td>1.3719474372226997e-13</td><td>0.0</td><td>31.801536041607456</td><td>0.0</td></tr>\n",
       "<tr><td>1079566286192641</td><td>195.059191775991</td><td>28.2294896112489</td><td>10379</td><td>sv3</td><td>1.02370818985509</td><td>0.000101026928716259</td><td>4</td><td>1.98568883538246</td><td>fuji/healpix/sv3/bright/103/10379/redrock-sv3-bright-10379.fits</td><td>EXT</td><td>302390</td><td>195.0591917759912</td><td>28.229489611248912</td><td>1.0</td><td>0.030366699514867253</td><td>0.9999999547921651</td><td>0.0</td><td>179.99999869681284</td><td>0.0</td></tr>\n",
       "<tr><td>1092760425725952</td><td>195.064307206231</td><td>28.2205394217669</td><td>10379</td><td>sv3</td><td>1.51425561648425</td><td>0.000115839902167291</td><td>4</td><td>4.08081823587418</td><td>fuji/healpix/sv3/dark/103/10379/redrock-sv3-dark-10379.fits</td><td>EXT</td><td>302390</td><td>195.06430720623084</td><td>28.220539421766933</td><td>1.0</td><td>0.020345688674996726</td><td>0.6699999697119251</td><td>0.0</td><td>179.99999869750405</td><td>0.0</td></tr>\n",
       "<tr><td>1092760425725957</td><td>195.069576752533</td><td>28.2113178154264</td><td>10379</td><td>sv3</td><td>0.0290020810352272</td><td>8.2811804634269e-05</td><td>0</td><td>9.82347875910637</td><td>fuji/healpix/sv3/dark/103/10379/redrock-sv3-dark-10379.fits</td><td>EXT</td><td>302390</td><td>195.06957675253318</td><td>28.211317815426433</td><td>1.0</td><td>0.01002101083994246</td><td>0.3299999850826088</td><td>0.0</td><td>179.99999869636105</td><td>0.0</td></tr>\n",
       "<tr><td>1079566298775553</td><td>195.948691217809</td><td>28.1853767633396</td><td>10382</td><td>sv3</td><td>0.0226917573328103</td><td>6.07348300624731e-05</td><td>0</td><td>60.0111798386788</td><td>fuji/healpix/sv3/bright/103/10382/redrock-sv3-bright-10382.fits</td><td>EXT</td><td>449306</td><td>195.94869121780943</td><td>28.185376763339605</td><td>1.0</td><td>0.008312676674706776</td><td>0.3300000144568705</td><td>0.0</td><td>179.9999980247083</td><td>0.0</td></tr>\n",
       "<tr><td>1079566298775556</td><td>195.929558252061</td><td>28.1847158723537</td><td>10379</td><td>sv3</td><td>0.0810260495283889</td><td>6.3920086811974e-05</td><td>4</td><td>0.684518080524867</td><td>fuji/healpix/sv3/bright/103/10379/redrock-sv3-bright-10379.fits</td><td>EXT</td><td>449306</td><td>195.92955825206053</td><td>28.184715872353653</td><td>1.0</td><td>0.02518992931727794</td><td>1.0000000438080903</td><td>0.0</td><td>179.99999802492465</td><td>0.0</td></tr>\n",
       "<tr><td>...</td><td>...</td><td>...</td><td>...</td><td>...</td><td>...</td><td>...</td><td>...</td><td>...</td><td>...</td><td>...</td><td>...</td><td>...</td><td>...</td><td>...</td><td>...</td><td>...</td><td>...</td><td>...</td><td>...</td></tr>\n",
       "<tr><td>39628176099380386</td><td>220.215911442066</td><td>16.1405881016041</td><td>8769</td><td>main</td><td>0.0429536630204855</td><td>7.96465712738408e-06</td><td>0</td><td>656.525143112987</td><td>iron/healpix/main/bright/87/8769/redrock-main-bright-8769.fits</td><td>TFT</td><td>1069389</td><td>220.2159114420657</td><td>16.14058810160406</td><td>0.0</td><td>3.1805546814635168e-15</td><td>7.756427864098918e-13</td><td>0.0</td><td>55.17514069752937</td><td>0.0</td></tr>\n",
       "<tr><td>39628187688241578</td><td>220.052905660042</td><td>16.754533553194</td><td>8774</td><td>main</td><td>0.108009873160349</td><td>1.54177922225668e-05</td><td>0</td><td>3526.91658753948</td><td>iron/healpix/main/bright/87/8774/redrock-main-bright-8774.fits</td><td>TFT</td><td>570959</td><td>220.0529056600419</td><td>16.75453355319404</td><td>0.0</td><td>0.0</td><td>0.0</td><td>0.0</td><td>78.39604494339271</td><td>0.0</td></tr>\n",
       "<tr><td>39628187688242044</td><td>220.081360191205</td><td>16.6850749333024</td><td>8774</td><td>main</td><td>0.0299244765955022</td><td>9.9739919522185e-06</td><td>0</td><td>7140.4656449405</td><td>iron/healpix/main/bright/87/8774/redrock-main-bright-8774.fits</td><td>TFT</td><td>1195293</td><td>220.0813601912045</td><td>16.685074933302445</td><td>0.0</td><td>0.0</td><td>0.0</td><td>0.0</td><td>69.42281251666321</td><td>0.0</td></tr>\n",
       "<tr><td>2305843018059485624</td><td>225.721731990074</td><td>16.9189852151273</td><td>8438</td><td>main</td><td>0.020929269419286</td><td>1.13433813225525e-06</td><td>0</td><td>134912.593574345</td><td>iron/healpix/main/backup/84/8438/redrock-main-backup-8438.fits</td><td>TFT</td><td>1076749</td><td>225.72172474649994</td><td>16.91891853503617</td><td>0.0</td><td>0.0</td><td>0.0</td><td>0.0</td><td>36.08617534783209</td><td>0.0</td></tr>\n",
       "<tr><td>39628147070601523</td><td>225.915599270569</td><td>15.0247654433451</td><td>8411</td><td>main</td><td>0.0361115946387217</td><td>3.18654510560542e-06</td><td>0</td><td>6022.86883181334</td><td>iron/healpix/main/bright/84/8411/redrock-main-bright-8411.fits</td><td>TFT</td><td>1029028</td><td>225.9155992705694</td><td>15.024765443345105</td><td>0.0</td><td>0.0</td><td>0.0</td><td>0.0</td><td>90.75768184469399</td><td>0.0</td></tr>\n",
       "<tr><td>39628250946732115</td><td>221.561567031637</td><td>19.4056542670243</td><td>8793</td><td>main</td><td>0.044197315010704</td><td>2.95695794671446e-06</td><td>0</td><td>2748.32202285528</td><td>iron/healpix/main/bright/87/8793/redrock-main-bright-8793.fits</td><td>TFT</td><td>838075</td><td>221.56156703163722</td><td>19.405654267024318</td><td>0.0</td><td>0.0</td><td>0.0</td><td>0.0</td><td>233.5319963315847</td><td>0.0</td></tr>\n",
       "<tr><td>39628250946732191</td><td>221.565256838818</td><td>19.5999273620398</td><td>8793</td><td>main</td><td>0.0681245462105783</td><td>1.97949355515174e-05</td><td>0</td><td>3418.83049730305</td><td>iron/healpix/main/bright/87/8793/redrock-main-bright-8793.fits</td><td>TFT</td><td>282197</td><td>221.5652568388181</td><td>19.599927362039846</td><td>0.0</td><td>0.0</td><td>0.0</td><td>0.0</td><td>242.28609724521752</td><td>0.0</td></tr>\n",
       "<tr><td>39628233800418916</td><td>221.733042028194</td><td>18.6492849905645</td><td>8787</td><td>main</td><td>0.0661453340989506</td><td>6.74978482396179e-06</td><td>0</td><td>3467.61512088776</td><td>iron/healpix/main/bright/87/8787/redrock-main-bright-8787.fits</td><td>TFT</td><td>1355700</td><td>221.73304202819352</td><td>18.649284990564517</td><td>0.0</td><td>0.0</td><td>0.0</td><td>0.0</td><td>34.28034472208617</td><td>0.0</td></tr>\n",
       "<tr><td>2389991133020160</td><td>221.323873257724</td><td>19.5277674101711</td><td>8793</td><td>main</td><td>0.0423148908835728</td><td>1.74623100467569e-05</td><td>0</td><td>70.2367960708216</td><td>iron/healpix/main/bright/87/8793/redrock-main-bright-8793.fits</td><td>TFT</td><td>909688</td><td>221.32387325772353</td><td>19.527767410171087</td><td>0.0</td><td>0.0013095866889449664</td><td>0.40000000760670024</td><td>0.0</td><td>179.99999986097671</td><td>0.0</td></tr>\n",
       "<tr><td>39628239521451304</td><td>221.634605747086</td><td>19.112287528364</td><td>8793</td><td>main</td><td>0.0700745078294578</td><td>2.02944346254686e-05</td><td>0</td><td>2984.49141149549</td><td>iron/healpix/main/bright/87/8793/redrock-main-bright-8793.fits</td><td>TFT</td><td>1172051</td><td>221.63460574708606</td><td>19.112287528364</td><td>0.0</td><td>0.0</td><td>0.0</td><td>0.0</td><td>138.46006774902344</td><td>0.0</td></tr>\n",
       "</table></div>"
      ],
      "text/plain": [
       "<Table length=90467>\n",
       "      TARGETID         TARGET_RA     ...  TARGET_DELTA_PA     EOA  \n",
       "       int64            float64      ...      float64       float64\n",
       "------------------- ---------------- ... ------------------ -------\n",
       "   1092231427522560 208.352177440161 ...  179.9999988110148     0.0\n",
       "   1084530156896264 189.911775799758 ...   179.999995494522     0.0\n",
       "   1088925321920514 189.955801348671 ... 179.99999549569623     0.0\n",
       "   1084527275409415 189.955801348671 ... 179.99999549569623     0.0\n",
       "2305843015479989956  173.45541945964 ... 31.801536041607456     0.0\n",
       "   1079566286192641 195.059191775991 ... 179.99999869681284     0.0\n",
       "   1092760425725952 195.064307206231 ... 179.99999869750405     0.0\n",
       "   1092760425725957 195.069576752533 ... 179.99999869636105     0.0\n",
       "   1079566298775553 195.948691217809 ...  179.9999980247083     0.0\n",
       "   1079566298775556 195.929558252061 ... 179.99999802492465     0.0\n",
       "                ...              ... ...                ...     ...\n",
       "  39628176099380386 220.215911442066 ...  55.17514069752937     0.0\n",
       "  39628187688241578 220.052905660042 ...  78.39604494339271     0.0\n",
       "  39628187688242044 220.081360191205 ...  69.42281251666321     0.0\n",
       "2305843018059485624 225.721731990074 ...  36.08617534783209     0.0\n",
       "  39628147070601523 225.915599270569 ...  90.75768184469399     0.0\n",
       "  39628250946732115 221.561567031637 ...  233.5319963315847     0.0\n",
       "  39628250946732191 221.565256838818 ... 242.28609724521752     0.0\n",
       "  39628233800418916 221.733042028194 ...  34.28034472208617     0.0\n",
       "   2389991133020160 221.323873257724 ... 179.99999986097671     0.0\n",
       "  39628239521451304 221.634605747086 ... 138.46006774902344     0.0"
      ]
     },
     "execution_count": 19,
     "metadata": {},
     "output_type": "execute_result"
    }
   ],
   "source": [
    "tf_master_table[tf_master_table['TARGET_DELTA_PA'] %180 > 0.036]"
   ]
  },
  {
   "cell_type": "code",
   "execution_count": 20,
   "id": "9eece0f4-b23e-4982-a718-3dc19acb48dc",
   "metadata": {
    "tags": []
   },
   "outputs": [],
   "source": [
    "rot_curve_eoa = tf_master_table[np.logical_and(tf_master_table['TARGET_DELTA_PA'] %180 > 0.036,tf_master_table['ROT_CURVE'] == 1)]"
   ]
  },
  {
   "cell_type": "code",
   "execution_count": 21,
   "id": "38d8f3c1-180a-49f3-8e52-6f7a8284291e",
   "metadata": {
    "tags": []
   },
   "outputs": [
    {
     "data": {
      "text/html": [
       "&lt;Column name=&apos;SGA_ID&apos; dtype=&apos;int64&apos; length=763&gt;\n",
       "<table>\n",
       "<tr><td>896</td></tr>\n",
       "<tr><td>1548</td></tr>\n",
       "<tr><td>1583</td></tr>\n",
       "<tr><td>1980</td></tr>\n",
       "<tr><td>2497</td></tr>\n",
       "<tr><td>5958</td></tr>\n",
       "<tr><td>6443</td></tr>\n",
       "<tr><td>9338</td></tr>\n",
       "<tr><td>10133</td></tr>\n",
       "<tr><td>10325</td></tr>\n",
       "<tr><td>11977</td></tr>\n",
       "<tr><td>12585</td></tr>\n",
       "<tr><td>...</td></tr>\n",
       "<tr><td>1380778</td></tr>\n",
       "<tr><td>1382772</td></tr>\n",
       "<tr><td>1383442</td></tr>\n",
       "<tr><td>1387126</td></tr>\n",
       "<tr><td>1393061</td></tr>\n",
       "<tr><td>1402480</td></tr>\n",
       "<tr><td>1405053</td></tr>\n",
       "<tr><td>1418640</td></tr>\n",
       "<tr><td>1421164</td></tr>\n",
       "<tr><td>1424489</td></tr>\n",
       "<tr><td>2000055</td></tr>\n",
       "<tr><td>5001339</td></tr>\n",
       "</table>"
      ],
      "text/plain": [
       "<Column name='SGA_ID' dtype='int64' length=763>\n",
       "    896\n",
       "   1548\n",
       "   1583\n",
       "   1980\n",
       "   2497\n",
       "   5958\n",
       "   6443\n",
       "   9338\n",
       "  10133\n",
       "  10325\n",
       "  11977\n",
       "  12585\n",
       "    ...\n",
       "1380778\n",
       "1382772\n",
       "1383442\n",
       "1387126\n",
       "1393061\n",
       "1402480\n",
       "1405053\n",
       "1418640\n",
       "1421164\n",
       "1424489\n",
       "2000055\n",
       "5001339"
      ]
     },
     "execution_count": 21,
     "metadata": {},
     "output_type": "execute_result"
    }
   ],
   "source": [
    "np.unique(rot_curve_eoa[rot_curve_eoa['SKY_FIBER_DIST_R26'] > 0.036]['SGA_ID'])"
   ]
  },
  {
   "cell_type": "code",
   "execution_count": 23,
   "id": "bc6bf1eb-ff99-41fd-866f-c84449abdcc2",
   "metadata": {
    "tags": []
   },
   "outputs": [],
   "source": [
    "tf_master_table['TARGET_DIST'] = np.nan*np.ones(len(tf_master_table))\n",
    "tf_master_table['TARGET_DIST_R26'] = np.nan*np.ones(len(tf_master_table))"
   ]
  },
  {
   "cell_type": "code",
   "execution_count": 24,
   "id": "ee61e66d-fe67-4fd3-b125-1f72bf07b6fb",
   "metadata": {
    "tags": []
   },
   "outputs": [],
   "source": [
    "# For each SGA galaxy that has at least one target, calculate the distance \n",
    "# for all of that galaxy's targets\n",
    "for sga_id in np.unique(tf_master_table['SGA_ID']):\n",
    "    \n",
    "    # Identify all galaxy targets on this galaxy\n",
    "    obs_idx = tf_master_table['SGA_ID'] == sga_id\n",
    "    \n",
    "    # Find galaxy index in SGA catalog\n",
    "    sga_idx = SGA_dict[sga_id]\n",
    "    \n",
    "    #---------------------------------------------------------------------------\n",
    "    # Calculate distance between each target and the center of the SGA \n",
    "    # galaxy\n",
    "    #---------------------------------------------------------------------------\n",
    "    SGA_coords = SkyCoord(ra=SGA['RA'][sga_idx], \n",
    "                          dec=SGA['DEC'][sga_idx], \n",
    "                          unit=u.degree)\n",
    "    target_coords = SkyCoord(ra=tf_master_table['TARGET_RA'][obs_idx], \n",
    "                             dec=tf_master_table['TARGET_DEC'][obs_idx], \n",
    "                             unit=u.degree)\n",
    "    \n",
    "    sep2d = target_coords.separation(SGA_coords)\n",
    "    \n",
    "    tf_master_table['TARGET_DIST'][obs_idx] = sep2d\n",
    "    tf_master_table['TARGET_DIST_R26'][obs_idx] = 2*sep2d.to('arcmin')/(SGA['D26'][sga_idx]*u.arcmin)"
   ]
  },
  {
   "cell_type": "code",
   "execution_count": 80,
   "id": "3e54c25e-04d2-4f7c-9173-2ee44f904c73",
   "metadata": {
    "tags": []
   },
   "outputs": [
    {
     "data": {
      "image/png": "[encoded data removed]",
      "text/plain": [
       "<Figure size 600x400 with 1 Axes>"
      ]
     },
     "metadata": {
      "needs_background": "light"
     },
     "output_type": "display_data"
    }
   ],
   "source": [
    "plt.plot([0,360],[0.33,0.33])\n",
    "plt.plot([0,360],[0.67,0.67])\n",
    "plt.plot([0,360],[0.4,0.4])\n",
    "plt.plot([0,360],[0.6,0.6])\n",
    "plt.plot([0,360],[0.8,0.8])\n",
    "plt.plot([0,360],[0.2,0.2])\n",
    "plt.plot([0,360],[1,1])\n",
    "plt.plot([0,360],[0,0])\n",
    "plt.scatter(tf_master_table['TARGET_DELTA_PA'], tf_master_table['TARGET_DIST_R26'], marker='.', color='k')\n",
    "#plt.xlim(359.99,360.01)\n",
    "plt.xlabel(r'$\\Delta \\theta$ [deg]')\n",
    "plt.ylabel(r'distance [$R_{26}$]')\n",
    "plt.show()"
   ]
  },
  {
   "cell_type": "markdown",
   "id": "e7b9ac14-d601-4143-ac19-1e46bf7293ca",
   "metadata": {
    "tags": []
   },
   "source": [
    "### defining 'EOA' targets\n",
    "1. not at center or regular target distances (0.33R26, 0.67R26, N X 0.2R26\n",
    "2. not at center, at regular target distance and target_delta_pa is > 0.001 degrees from 0,180,or 360"
   ]
  },
  {
   "cell_type": "code",
   "execution_count": 82,
   "id": "04507fc9-e69a-44b3-982a-d8be489e258e",
   "metadata": {
    "tags": []
   },
   "outputs": [],
   "source": [
    "#define 'normal' distances\n",
    "dist = np.array([0,0.2,0.33,0.4,0.6,0.67,0.8,1])\n",
    "tf_master_table['EOA'] = 0\n",
    "for i in range(len(tf_master_table)):\n",
    "    dist_diff = np.abs(tf_master_table['TARGET_DIST_R26'][i] - dist) \n",
    "    if len(dist_diff[dist_diff < 0.001]) == 0:\n",
    "        tf_master_table['EOA'][i] = 1"
   ]
  },
  {
   "cell_type": "code",
   "execution_count": 84,
   "id": "feee1f49-1e78-4d96-a2f0-8c2bd0498ac4",
   "metadata": {
    "tags": []
   },
   "outputs": [],
   "source": [
    "for i in range(len(tf_master_table)):\n",
    "    dist_diff = np.abs(tf_master_table['TARGET_DIST_R26'][i] - dist[1:])\n",
    "    \n",
    "    if len(dist_diff[dist_diff < 0.001]) > 0 and tf_master_table[i]['TARGET_DELTA_PA'] > 0.001:\n",
    "        tf_master_table['EOA'][i] = 1"
   ]
  },
  {
   "cell_type": "markdown",
   "id": "0612fef2-fd77-4044-ba0f-1e6e25102770",
   "metadata": {},
   "source": [
    "## ignoring everything from before and using the target list"
   ]
  },
  {
   "cell_type": "code",
   "execution_count": 29,
   "id": "a364b241-1bdc-491c-9004-0a72514f71ba",
   "metadata": {
    "tags": []
   },
   "outputs": [],
   "source": [
    "# make a galaxy dict sga\n",
    "sga_gal_dict = {}\n",
    "for i in range(len(SGA)):\n",
    "    sga_gal_dict[SGA['GALAXY'][i]] = i"
   ]
  },
  {
   "cell_type": "code",
   "execution_count": 26,
   "id": "b123a25a-f9d8-47aa-a3f2-7985314696b3",
   "metadata": {
    "tags": []
   },
   "outputs": [
    {
     "data": {
      "text/html": [
       "<div><i>Table length=5</i>\n",
       "<table id=\"table139866922642736\" class=\"table-striped table-bordered table-condensed\">\n",
       "<thead><tr><th>GALAXY</th><th>RA</th><th>DEC</th></tr></thead>\n",
       "<thead><tr><th>bytes11</th><th>float64</th><th>float64</th></tr></thead>\n",
       "<tr><td>NGC4761</td><td>193.29086531640286</td><td>-9.197860127650477</td></tr>\n",
       "<tr><td>NGC4761</td><td>193.25307026043834</td><td>-9.187776242212069</td></tr>\n",
       "<tr><td>NGC4761</td><td>193.26884118382742</td><td>-9.20154030566786</td></tr>\n",
       "<tr><td>NGC4761</td><td>193.26838380153842</td><td>-9.198178779994157</td></tr>\n",
       "<tr><td>NGC4761</td><td>193.27011185413699</td><td>-9.199483271700393</td></tr>\n",
       "</table></div>"
      ],
      "text/plain": [
       "<Table length=5>\n",
       " GALAXY         RA                DEC        \n",
       "bytes11      float64            float64      \n",
       "------- ------------------ ------------------\n",
       "NGC4761 193.29086531640286 -9.197860127650477\n",
       "NGC4761 193.25307026043834 -9.187776242212069\n",
       "NGC4761 193.26884118382742  -9.20154030566786\n",
       "NGC4761 193.26838380153842 -9.198178779994157\n",
       "NGC4761 193.27011185413699 -9.199483271700393"
      ]
     },
     "execution_count": 26,
     "metadata": {},
     "output_type": "execute_result"
    }
   ],
   "source": [
    "EOA_targs = Table.read('/pscratch/sd/n/nravi/SGA_off-axis_targets.fits')\n",
    "EOA_targs[:5]"
   ]
  },
  {
   "cell_type": "code",
   "execution_count": 36,
   "id": "5d1a661c-0911-46b7-a71d-eae3a6a7552d",
   "metadata": {
    "tags": []
   },
   "outputs": [],
   "source": [
    "EOA_gal_list = np.unique(EOA_targs['GALAXY'])"
   ]
  },
  {
   "cell_type": "code",
   "execution_count": 44,
   "id": "408c49ee-2e8d-4143-aa69-1d88838f558e",
   "metadata": {
    "tags": []
   },
   "outputs": [],
   "source": [
    "in_iron_fuji = [] # sga id's of eoa galaxies\n",
    "not_in_sga = [] # galaxies that couldn't be identified by name in the sga\n",
    "\n",
    "for i in EOA_gal_list:\n",
    "    try:\n",
    "        sga_idx = sga_gal_dict[i]\n",
    "    except:\n",
    "        not_in_sga.append(i)\n",
    "        continue\n",
    "    sga_id = SGA[sga_idx]['SGA_ID']\n",
    "    \n",
    "    if len(tf_master_table[tf_master_table['SGA_ID']==sga_id]) > 0:\n",
    "        in_iron_fuji.append(sga_id)"
   ]
  },
  {
   "cell_type": "code",
   "execution_count": 46,
   "id": "5b49c139-a766-4e00-b696-6e128ab9da48",
   "metadata": {
    "tags": []
   },
   "outputs": [
    {
     "data": {
      "text/plain": [
       "159"
      ]
     },
     "execution_count": 46,
     "metadata": {},
     "output_type": "execute_result"
    }
   ],
   "source": [
    "len(in_iron_fuji)"
   ]
  },
  {
   "cell_type": "code",
   "execution_count": 68,
   "id": "994b9cdc-955a-408f-964c-c774719a3b29",
   "metadata": {
    "tags": []
   },
   "outputs": [
    {
     "data": {
      "text/plain": [
       "['NGC6861', 'NGC6868']"
      ]
     },
     "execution_count": 68,
     "metadata": {},
     "output_type": "execute_result"
    }
   ],
   "source": [
    "not_in_sga"
   ]
  },
  {
   "cell_type": "code",
   "execution_count": 80,
   "id": "9fa9b2d2-2935-4318-b4a0-cc95025c894c",
   "metadata": {
    "tags": []
   },
   "outputs": [],
   "source": [
    "tf_master_table['EOA'] = 0.\n",
    "# mark all targets related to galaxy as EOA -- remove bad targets by vi later\n",
    "for sga_id in in_iron_fuji:\n",
    "    tf_master_table['EOA'][tf_master_table['SGA_ID'] == sga_id] = 1."
   ]
  },
  {
   "cell_type": "code",
   "execution_count": 82,
   "id": "a6ebe78c-dc1d-41c6-9f96-f08fc3c92669",
   "metadata": {
    "tags": []
   },
   "outputs": [
    {
     "data": {
      "text/html": [
       "<div><i>Table length=161</i>\n",
       "<table id=\"table139866833647840\" class=\"table-striped table-bordered table-condensed\">\n",
       "<thead><tr><th>TARGETID</th><th>TARGET_RA</th><th>TARGET_DEC</th><th>HEALPIX</th><th>SURVEY</th><th>Z</th><th>ZERR</th><th>ZWARN</th><th>DELTACHI2</th><th>FILENAME</th><th>PVTYPE</th><th>SGA_ID</th><th>RA</th><th>DEC</th><th>OBS_IN_SV</th><th>SKY_FIBER_DIST</th><th>SKY_FIBER_DIST_R26</th><th>ROT_CURVE</th><th>EOA</th></tr></thead>\n",
       "<thead><tr><th>int64</th><th>float64</th><th>float64</th><th>int64</th><th>bytes4</th><th>float64</th><th>float64</th><th>int64</th><th>float64</th><th>bytes65</th><th>bytes3</th><th>int64</th><th>float64</th><th>float64</th><th>float64</th><th>float64</th><th>float64</th><th>float64</th><th>float64</th></tr></thead>\n",
       "<tr><td>1083283966263312</td><td>180.088777358876</td><td>-1.11024777720183</td><td>25599</td><td>sv3</td><td>0.00436762087876588</td><td>1.42837672240012e-06</td><td>0</td><td>15897.7449971626</td><td>fuji/healpix/sv3/dark/255/25599/redrock-sv3-dark-25599.fits</td><td>EXT</td><td>1065602</td><td>180.08877735887648</td><td>-1.1102477772018335</td><td>1.0</td><td>0.013957389713373361</td><td>0.32999998593202395</td><td>1.0</td><td>1.0</td></tr>\n",
       "<tr><td>1083283966263313</td><td>180.108167612631</td><td>-1.09016316641461</td><td>25599</td><td>sv3</td><td>0.0053534602140923</td><td>4.45334000484803e-06</td><td>0</td><td>4136.92135445221</td><td>fuji/healpix/sv3/dark/255/25599/redrock-sv3-dark-25599.fits</td><td>EXT</td><td>1065602</td><td>180.10816761263058</td><td>-1.090163166414607</td><td>1.0</td><td>0.013957389713391206</td><td>0.3299999859324459</td><td>1.0</td><td>1.0</td></tr>\n",
       "<tr><td>1070089826729999</td><td>180.078788337759</td><td>-1.1205943454118</td><td>25599</td><td>sv3</td><td>0.746080375788651</td><td>7.05932471404864e-05</td><td>0</td><td>12.3854653686285</td><td>fuji/healpix/sv3/bright/255/25599/redrock-sv3-bright-25599.fits</td><td>EXT</td><td>1065602</td><td>180.07878833775885</td><td>-1.1205943454118001</td><td>1.0</td><td>0.02833773063017716</td><td>0.6699999714376246</td><td>1.0</td><td>1.0</td></tr>\n",
       "<tr><td>1083283966263311</td><td>180.078788337759</td><td>-1.1205943454118</td><td>25599</td><td>sv3</td><td>0.00464639799063975</td><td>3.19435285822499e-05</td><td>0</td><td>31.9120003114913</td><td>fuji/healpix/sv3/dark/255/25599/redrock-sv3-dark-25599.fits</td><td>EXT</td><td>1065602</td><td>180.07878833775885</td><td>-1.1205943454118001</td><td>1.0</td><td>0.02833773063017716</td><td>0.6699999714376246</td><td>1.0</td><td>1.0</td></tr>\n",
       "<tr><td>1083283966263314</td><td>180.118156429974</td><td>-1.07981649987604</td><td>25599</td><td>sv3</td><td>0.00535718577838891</td><td>1.59550379891168e-05</td><td>0</td><td>249.207345602888</td><td>fuji/healpix/sv3/dark/255/25599/redrock-sv3-dark-25599.fits</td><td>EXT</td><td>1065602</td><td>180.11815642997368</td><td>-1.0798164998760402</td><td>1.0</td><td>0.02833773063019543</td><td>0.6699999714380566</td><td>1.0</td><td>1.0</td></tr>\n",
       "<tr><td>1083429319868418</td><td>209.035732273838</td><td>4.99637223780072</td><td>26090</td><td>sv3</td><td>0.00455866321424684</td><td>1.7045703519496e-05</td><td>0</td><td>817.973245054869</td><td>fuji/healpix/sv3/dark/260/26090/redrock-sv3-dark-26090.fits</td><td>EXT</td><td>608015</td><td>209.03573227383794</td><td>4.996372237800723</td><td>1.0</td><td>0.023405280830906622</td><td>0.33000000339582564</td><td>1.0</td><td>1.0</td></tr>\n",
       "<tr><td>1087827366379525</td><td>209.035732273838</td><td>4.99637223780072</td><td>26090</td><td>sv3</td><td>0.00453443262083903</td><td>4.65876905121306e-05</td><td>0</td><td>83.1903149126301</td><td>fuji/healpix/sv3/dark/260/26090/redrock-sv3-dark-26090.fits</td><td>EXT</td><td>608015</td><td>209.03573227383794</td><td>4.996372237800723</td><td>1.0</td><td>0.023405280830906622</td><td>0.33000000339582564</td><td>1.0</td><td>1.0</td></tr>\n",
       "<tr><td>1083429319868419</td><td>209.064393717756</td><td>5.03346708375066</td><td>26090</td><td>sv3</td><td>0.0037792506419391</td><td>1.74096786391594e-06</td><td>0</td><td>8771.86809350923</td><td>fuji/healpix/sv3/dark/260/26090/redrock-sv3-dark-26090.fits</td><td>EXT</td><td>608015</td><td>209.06439371775627</td><td>5.033467083750659</td><td>1.0</td><td>0.023405280830879643</td><td>0.3300000033954452</td><td>1.0</td><td>1.0</td></tr>\n",
       "<tr><td>1087827366379522</td><td>209.064393717756</td><td>5.03346708375066</td><td>26090</td><td>sv3</td><td>0.003767532119155</td><td>4.11523001920928e-06</td><td>0</td><td>1584.82943296793</td><td>fuji/healpix/sv3/dark/260/26090/redrock-sv3-dark-26090.fits</td><td>EXT</td><td>608015</td><td>209.06439371775627</td><td>5.033467083750659</td><td>1.0</td><td>0.023405280830879643</td><td>0.3300000033954452</td><td>1.0</td><td>1.0</td></tr>\n",
       "<tr><td>1083429319868420</td><td>209.079159978211</td><td>5.05257606134717</td><td>26090</td><td>sv3</td><td>0.00370404376760427</td><td>5.5732722031554e-05</td><td>0</td><td>50.6357080887283</td><td>fuji/healpix/sv3/dark/260/26090/redrock-sv3-dark-26090.fits</td><td>EXT</td><td>608015</td><td>209.07915997821107</td><td>5.052576061347171</td><td>1.0</td><td>0.047519812596031226</td><td>0.6700000068938231</td><td>1.0</td><td>1.0</td></tr>\n",
       "<tr><td>...</td><td>...</td><td>...</td><td>...</td><td>...</td><td>...</td><td>...</td><td>...</td><td>...</td><td>...</td><td>...</td><td>...</td><td>...</td><td>...</td><td>...</td><td>...</td><td>...</td><td>...</td><td>...</td></tr>\n",
       "<tr><td>2402788545921025</td><td>181.892487672925</td><td>2.70995938524898</td><td>27653</td><td>main</td><td>0.00467733302158592</td><td>2.5120264823292e-05</td><td>0</td><td>60.9592708264609</td><td>iron/healpix/main/dark/276/27653/redrock-main-dark-27653.fits</td><td>TFT</td><td>1304908</td><td>181.89248767292506</td><td>2.7099593852489807</td><td>0.0</td><td>0.020899634244913486</td><td>0.3999999977730978</td><td>1.0</td><td>1.0</td></tr>\n",
       "<tr><td>2842593197031425</td><td>181.892487672925</td><td>2.70995938524898</td><td>27653</td><td>main</td><td>0.00468971009499669</td><td>2.2887388802957e-05</td><td>0</td><td>51.0465490410133</td><td>iron/healpix/main/dark/276/27653/redrock-main-dark-27653.fits</td><td>TFT</td><td>1304908</td><td>181.89248767292506</td><td>2.7099593852489807</td><td>0.0</td><td>0.020899634244913486</td><td>0.3999999977730978</td><td>1.0</td><td>1.0</td></tr>\n",
       "<tr><td>2846991243542528</td><td>181.903565300163</td><td>2.69222937080696</td><td>27653</td><td>main</td><td>0.0043730351402282</td><td>1.9541452129104e-06</td><td>0</td><td>14773.778858444</td><td>iron/healpix/main/dark/276/27653/redrock-main-dark-27653.fits</td><td>TFT</td><td>1304908</td><td>181.90356530016268</td><td>2.692229370806956</td><td>0.0</td><td>0.0</td><td>0.0</td><td>1.0</td><td>1.0</td></tr>\n",
       "<tr><td>2842593197031426</td><td>181.914642605021</td><td>2.67449925587832</td><td>27653</td><td>main</td><td>0.00408017190502277</td><td>7.87026001237308e-06</td><td>0</td><td>401.771315212303</td><td>iron/healpix/main/dark/276/27653/redrock-main-dark-27653.fits</td><td>TFT</td><td>1304908</td><td>181.9146426050209</td><td>2.6744992558783247</td><td>0.0</td><td>0.0208996342449266</td><td>0.3999999977733488</td><td>1.0</td><td>1.0</td></tr>\n",
       "<tr><td>2402788545921026</td><td>181.914642605021</td><td>2.67449925587832</td><td>27653</td><td>main</td><td>0.00408615912536607</td><td>6.80981322797973e-06</td><td>0</td><td>555.861980583868</td><td>iron/healpix/main/dark/276/27653/redrock-main-dark-27653.fits</td><td>TFT</td><td>1304908</td><td>181.9146426050209</td><td>2.6744992558783247</td><td>0.0</td><td>0.0208996342449266</td><td>0.3999999977733488</td><td>1.0</td><td>1.0</td></tr>\n",
       "<tr><td>2842514839044098</td><td>191.256616116488</td><td>-0.493714959351915</td><td>26175</td><td>main</td><td>0.218323031910265</td><td>0.000134626693740556</td><td>4</td><td>0.965718773193657</td><td>iron/healpix/main/dark/261/26175/redrock-main-dark-26175.fits</td><td>TFT</td><td>882260</td><td>191.25661611648792</td><td>-0.49371495935191456</td><td>0.0</td><td>0.04295659306739012</td><td>0.39999999288593424</td><td>1.0</td><td>1.0</td></tr>\n",
       "<tr><td>2402710187933698</td><td>191.256616116488</td><td>-0.493714959351915</td><td>26175</td><td>main</td><td>0.725409044287635</td><td>0.000131164940683836</td><td>4</td><td>2.55880777165294</td><td>iron/healpix/main/dark/261/26175/redrock-main-dark-26175.fits</td><td>TFT</td><td>882260</td><td>191.25661611648792</td><td>-0.49371495935191456</td><td>0.0</td><td>0.04295659306739012</td><td>0.39999999288593424</td><td>1.0</td><td>1.0</td></tr>\n",
       "<tr><td>2846912885555201</td><td>191.28528131469</td><td>-0.461720702952184</td><td>26175</td><td>main</td><td>0.00509024086629878</td><td>1.4653766182332e-06</td><td>0</td><td>105070.789522365</td><td>iron/healpix/main/dark/261/26175/redrock-main-dark-26175.fits</td><td>TFT</td><td>882260</td><td>191.28528131468994</td><td>-0.4617207029521843</td><td>0.0</td><td>0.0</td><td>0.0</td><td>1.0</td><td>1.0</td></tr>\n",
       "<tr><td>2842514839044099</td><td>191.313946254904</td><td>-0.429726330988794</td><td>26175</td><td>main</td><td>-0.00209436874353068</td><td>6.32128717728714e-05</td><td>4</td><td>1.07052827218104</td><td>iron/healpix/main/dark/261/26175/redrock-main-dark-26175.fits</td><td>TFT</td><td>882260</td><td>191.31394625490407</td><td>-0.4297263309887943</td><td>0.0</td><td>0.0429565930673883</td><td>0.3999999928859172</td><td>1.0</td><td>1.0</td></tr>\n",
       "<tr><td>2402710187933699</td><td>191.313946254904</td><td>-0.429726330988794</td><td>26175</td><td>main</td><td>1.34566016007142</td><td>8.13141973554739e-05</td><td>0</td><td>13.6088681817055</td><td>iron/healpix/main/dark/261/26175/redrock-main-dark-26175.fits</td><td>TFT</td><td>882260</td><td>191.31394625490407</td><td>-0.4297263309887943</td><td>0.0</td><td>0.0429565930673883</td><td>0.3999999928859172</td><td>1.0</td><td>1.0</td></tr>\n",
       "</table></div>"
      ],
      "text/plain": [
       "<Table length=161>\n",
       "    TARGETID        TARGET_RA         TARGET_DEC     ... ROT_CURVE   EOA  \n",
       "     int64           float64           float64       ...  float64  float64\n",
       "---------------- ---------------- ------------------ ... --------- -------\n",
       "1083283966263312 180.088777358876  -1.11024777720183 ...       1.0     1.0\n",
       "1083283966263313 180.108167612631  -1.09016316641461 ...       1.0     1.0\n",
       "1070089826729999 180.078788337759   -1.1205943454118 ...       1.0     1.0\n",
       "1083283966263311 180.078788337759   -1.1205943454118 ...       1.0     1.0\n",
       "1083283966263314 180.118156429974  -1.07981649987604 ...       1.0     1.0\n",
       "1083429319868418 209.035732273838   4.99637223780072 ...       1.0     1.0\n",
       "1087827366379525 209.035732273838   4.99637223780072 ...       1.0     1.0\n",
       "1083429319868419 209.064393717756   5.03346708375066 ...       1.0     1.0\n",
       "1087827366379522 209.064393717756   5.03346708375066 ...       1.0     1.0\n",
       "1083429319868420 209.079159978211   5.05257606134717 ...       1.0     1.0\n",
       "             ...              ...                ... ...       ...     ...\n",
       "2402788545921025 181.892487672925   2.70995938524898 ...       1.0     1.0\n",
       "2842593197031425 181.892487672925   2.70995938524898 ...       1.0     1.0\n",
       "2846991243542528 181.903565300163   2.69222937080696 ...       1.0     1.0\n",
       "2842593197031426 181.914642605021   2.67449925587832 ...       1.0     1.0\n",
       "2402788545921026 181.914642605021   2.67449925587832 ...       1.0     1.0\n",
       "2842514839044098 191.256616116488 -0.493714959351915 ...       1.0     1.0\n",
       "2402710187933698 191.256616116488 -0.493714959351915 ...       1.0     1.0\n",
       "2846912885555201  191.28528131469 -0.461720702952184 ...       1.0     1.0\n",
       "2842514839044099 191.313946254904 -0.429726330988794 ...       1.0     1.0\n",
       "2402710187933699 191.313946254904 -0.429726330988794 ...       1.0     1.0"
      ]
     },
     "execution_count": 82,
     "metadata": {},
     "output_type": "execute_result"
    }
   ],
   "source": [
    "tf_master_table[np.logical_and(tf_master_table['EOA'] ==1, tf_master_table['ROT_CURVE'] ==1)]"
   ]
  },
  {
   "cell_type": "code",
   "execution_count": 83,
   "id": "3752d8c4-e2a2-426e-9d38-e8db7f3aaee4",
   "metadata": {
    "tags": []
   },
   "outputs": [],
   "source": [
    "# write table\n",
    "tf_master_table.write(DATA_DIRECTORY + 'desi_pv_tf_master_table_healpix_rotcurve_EOA.fits', format='fits')"
   ]
  },
  {
   "cell_type": "code",
   "execution_count": 84,
   "id": "066000c0-3d6a-4add-8c05-85bc1ad1eb91",
   "metadata": {
    "tags": []
   },
   "outputs": [],
   "source": [
    "# copy to fuji and iron tables\n",
    "tf_fuji = Table.read(DATA_DIRECTORY + 'desi_pv_tf_fuji_healpix_rotcurve.fits')\n",
    "tf_iron = Table.read(DATA_DIRECTORY + 'desi_pv_tf_iron_healpix_rotcurve.fits')                   "
   ]
  },
  {
   "cell_type": "code",
   "execution_count": 87,
   "id": "7622982e-be79-4218-ae4b-881d6ba03423",
   "metadata": {
    "tags": []
   },
   "outputs": [],
   "source": [
    "tf_fuji['EOA'] = 0.\n",
    "tf_iron['EOA'] = 0.\n",
    "for i in range(len(tf_fuji)):\n",
    "    targid = tf_fuji['TARGETID'][i]\n",
    "    if tf_master_table['EOA'][tf_master_table['TARGETID'] == targid].all() == 1:\n",
    "        tf_fuji['EOA'][i] = 1\n",
    "        \n",
    "for i in range(len(tf_iron)):\n",
    "    targid = tf_iron['TARGETID'][i]\n",
    "    if tf_master_table['EOA'][tf_master_table['TARGETID'] == targid].all() == 1:\n",
    "        tf_iron['EOA'][i] = 1"
   ]
  },
  {
   "cell_type": "code",
   "execution_count": 90,
   "id": "09669cbc-742e-4372-a5fb-27dfb4012ba0",
   "metadata": {
    "tags": []
   },
   "outputs": [],
   "source": [
    "tf_fuji.write(DATA_DIRECTORY + 'desi_pv_tf_fuji_healpix_rotcurve_EOA.fits', format='fits')\n",
    "tf_iron.write(DATA_DIRECTORY + 'desi_pv_tf_iron_healpix_rotcurve_EOA.fits', format='fits')  "
   ]
  }
 ],
 "metadata": {
  "kernelspec": {
   "display_name": "DESI 22.5",
   "language": "python",
   "name": "desi-22.5"
  },
  "language_info": {
   "codemirror_mode": {
    "name": "ipython",
    "version": 3
   },
   "file_extension": ".py",
   "mimetype": "text/x-python",
   "name": "python",
   "nbconvert_exporter": "python",
   "pygments_lexer": "ipython3",
   "version": "3.9.7"
  }
 },
 "nbformat": 4,
 "nbformat_minor": 5
}
