{
 "cells": [
  {
   "cell_type": "code",
   "execution_count": null,
   "id": "110d0661-fe25-4b20-b12e-52fc08e83528",
   "metadata": {},
   "outputs": [],
   "source": [
    "import numpy as np\n",
    "from astropy.table import Table, vstack\n",
    "import matplotlib.pyplot as plt\n",
    "from astropy.io import fits\n",
    "from astropy.coordinates import SkyCoord\n",
    "from astropy import units as u"
   ]
  },
  {
   "cell_type": "markdown",
   "id": "4a0f571c-bb03-4395-b386-65e685ad1a51",
   "metadata": {},
   "source": [
    "# fastspecfit data\n",
    "Want 'HALPHA_FLUX' and 'HALPHA_FLUX_IVAR' for TF galaxies"
   ]
  },
  {
   "cell_type": "code",
   "execution_count": 52,
   "id": "5fb8385f-4c67-46ea-b382-3f60b4cf46bf",
   "metadata": {
    "tags": []
   },
   "outputs": [],
   "source": [
    "# path to fuji fastspecfit data\n",
    "fuji_fn = '/global/cfs/cdirs/desi/public/edr/vac/edr/fastspecfit/fuji/v3.2/catalogs/fastspec-fuji.fits'\n",
    "hdul = fits.open(fuji_fn)\n",
    "fuji = hdul[1]"
   ]
  },
  {
   "cell_type": "code",
   "execution_count": 77,
   "id": "4a4406cb-ef49-482f-b401-0f918d9bcd0b",
   "metadata": {
    "tags": []
   },
   "outputs": [],
   "source": [
    "tf_fuji['HALPHA_FLUX'] = 0.\n",
    "tf_fuji['HALPHA_FLUX_IVAR'] = 0.\n",
    "\n",
    "targetid = fuji.data['TARGETID']\n",
    "halpha_flux = fuji.data['HALPHA_FLUX']\n",
    "halpha_flux_ivar = fuji.data['HALPHA_FLUX_IVAR']\n",
    "\n",
    "# make a fuji dictionary\n",
    "fuji_dict = {}\n",
    "for i in range(len(targetid)):\n",
    "    fuji_dict[targetid[i]] = i\n",
    "                             "
   ]
  },
  {
   "cell_type": "code",
   "execution_count": 79,
   "id": "4aedfc6f-f3f9-4e2e-a584-15dc1649d827",
   "metadata": {
    "tags": []
   },
   "outputs": [],
   "source": [
    "failed = []\n",
    "for i in range(len(tf_fuji)):\n",
    "    \n",
    "    # search for tf targetid in fuji\n",
    "    try:\n",
    "        fuji_idx = fuji_dict[tf_fuji['TARGETID'][i]]\n",
    "    except:\n",
    "        failed.append(i)\n",
    "        continue\n",
    "        \n",
    "    # add halpha info to tf table\n",
    "    tf_fuji['HALPHA_FLUX'][i] = halpha_flux[fuji_idx]\n",
    "    tf_fuji['HALPHA_FLUX_IVAR'][i] = halpha_flux_ivar[fuji_idx]\n",
    "                         \n",
    "    "
   ]
  }
 ],
 "metadata": {
  "kernelspec": {
   "display_name": "DESI 22.5",
   "language": "python",
   "name": "desi-22.5"
  },
  "language_info": {
   "codemirror_mode": {
    "name": "ipython",
    "version": 3
   },
   "file_extension": ".py",
   "mimetype": "text/x-python",
   "name": "python",
   "nbconvert_exporter": "python",
   "pygments_lexer": "ipython3",
   "version": "3.9.7"
  }
 },
 "nbformat": 4,
 "nbformat_minor": 5
}
