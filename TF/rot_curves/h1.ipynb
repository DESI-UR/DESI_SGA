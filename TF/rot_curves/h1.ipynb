{
 "cells": [
  {
   "cell_type": "code",
   "execution_count": 8,
   "id": "0de7109b-16f0-43c1-90e4-bfa852511776",
   "metadata": {
    "tags": []
   },
   "outputs": [],
   "source": [
    "# all imports\n",
    "import numpy as np\n",
    "import os\n",
    "import requests\n",
    "from astropy.table import Table, vstack\n",
    "import matplotlib.pyplot as plt\n",
    "import matplotlib.colors as mcolors\n",
    "import matplotlib.patches as mpatches\n",
    "import matplotlib.lines as mlines\n",
    "from astropy.io import fits\n",
    "from astropy.coordinates import SkyCoord\n",
    "from astropy import units as u\n",
    "from astropy.wcs import WCS\n",
    "import math\n",
    "import matplotlib as mpl\n",
    "from astropy.visualization.wcsaxes import SphericalCircle\n",
    "import pandas as pd\n",
    "import random\n",
    "from matplotlib.patches import Ellipse\n",
    "import ligo.skymap.plot\n",
    "from scipy.optimize import minimize\n",
    "import numdifftools as ndt\n",
    "from scipy.interpolate import griddata\n",
    "from matplotlib.tri import Triangulation\n",
    "from matplotlib.colors import LogNorm\n",
    "from matplotlib.pyplot import *"
   ]
  },
  {
   "cell_type": "code",
   "execution_count": 16,
   "id": "a88cbfc4-926b-48c1-bd2c-91500b196fbd",
   "metadata": {
    "tags": []
   },
   "outputs": [],
   "source": [
    "# define directories\n",
    "data_dir = '/global/cfs/projectdirs/desi/science/td/pv/tfgalaxies/'\n",
    "cache_dir = '/pscratch/sd/j/jjpim/cache/'\n",
    "scratch_dir = '/pscratch/sd/j/jjpim/'\n",
    "v_dir = '/pscratch/sd/j/jjpim/massmag/'\n",
    "hist_dir = '/pscratch/sd/j/jjpim/'\n",
    "\n",
    "# load updated master table\n",
    "tf_mastertable = Table.read(data_dir + 'tf_mastertable_massmag_stellar.fits') \n",
    "\n",
    "#load SGA table\n",
    "SGA = Table.read('/global/cfs/cdirs/cosmo/data/sga/2020/SGA-2020.fits', 'ELLIPSE')\n",
    "\n",
    "#load H1 index\n",
    "h1_table = Table.read('/global/homes/k/kadglass/DESI_SGA/data/SGA-2020_ALFALFA.fits')\n",
    "h1[:5]\n",
    "\n",
    "#load H1 data\n",
    "h1_mass = Table.read('/pscratch/sd/j/jjpim/a100.code12.table2.190808.csv')"
   ]
  },
  {
   "cell_type": "code",
   "execution_count": 17,
   "id": "b320cfbd-2065-40a0-a691-b7d65d5eb5d8",
   "metadata": {
    "tags": []
   },
   "outputs": [
    {
     "data": {
      "text/html": [
       "<div><i>Table length=5</i>\n",
       "<table id=\"table140601353320192\" class=\"table-striped table-bordered table-condensed\">\n",
       "<thead><tr><th>AGCNr</th><th>Name</th><th>RAdeg_HI</th><th>DECdeg_HI</th><th>RAdeg_OC</th><th>DECdeg_OC</th><th>Vhelio</th><th>W50</th><th>sigW</th><th>W20</th><th>HIflux</th><th>sigflux</th><th>SNR</th><th>RMS</th><th>Dist</th><th>sigDist</th><th>logMH</th><th>siglogMH</th><th>HIcode</th></tr></thead>\n",
       "<thead><tr><th>int64</th><th>str8</th><th>float64</th><th>float64</th><th>float64</th><th>float64</th><th>int64</th><th>int64</th><th>int64</th><th>int64</th><th>float64</th><th>float64</th><th>float64</th><th>float64</th><th>float64</th><th>float64</th><th>float64</th><th>float64</th><th>int64</th></tr></thead>\n",
       "<tr><td>105367</td><td>........</td><td>0.00167</td><td>5.44333</td><td>0.00333</td><td>5.4425</td><td>11983</td><td>274</td><td>39</td><td>281</td><td>1.14</td><td>0.08</td><td>8.1</td><td>1.91</td><td>166.0</td><td>2.3</td><td>9.87</td><td>0.05</td><td>1</td></tr>\n",
       "<tr><td>333313</td><td>........</td><td>0.00375</td><td>24.90889</td><td>359.9975</td><td>24.9075</td><td>11181</td><td>313</td><td>20</td><td>333</td><td>1.8</td><td>0.09</td><td>11.3</td><td>2.02</td><td>154.8</td><td>2.3</td><td>10.01</td><td>0.05</td><td>1</td></tr>\n",
       "<tr><td>331060</td><td>478-009b</td><td>0.01042</td><td>23.08472</td><td>0.01417</td><td>23.0875</td><td>4463</td><td>160</td><td>4</td><td>184</td><td>1.96</td><td>0.07</td><td>14.7</td><td>2.35</td><td>50.6</td><td>10.4</td><td>9.07</td><td>0.18</td><td>1</td></tr>\n",
       "<tr><td>331061</td><td>456-013.</td><td>0.01042</td><td>15.87222</td><td>0.00875</td><td>15.88167</td><td>6007</td><td>260</td><td>45</td><td>268</td><td>1.13</td><td>0.09</td><td>6.5</td><td>2.4</td><td>85.2</td><td>2.4</td><td>9.29</td><td>0.06</td><td>1</td></tr>\n",
       "<tr><td>104570</td><td>........</td><td>0.00667</td><td>32.70834</td><td>0.005</td><td>32.71028</td><td>10614</td><td>245</td><td>6</td><td>250</td><td>0.86</td><td>0.07</td><td>6.6</td><td>1.86</td><td>147.0</td><td>2.3</td><td>9.64</td><td>0.06</td><td>1</td></tr>\n",
       "</table></div>"
      ],
      "text/plain": [
       "<Table length=5>\n",
       "AGCNr    Name   RAdeg_HI DECdeg_HI RAdeg_OC ... sigDist  logMH  siglogMH HIcode\n",
       "int64    str8   float64   float64  float64  ... float64 float64 float64  int64 \n",
       "------ -------- -------- --------- -------- ... ------- ------- -------- ------\n",
       "105367 ........  0.00167   5.44333  0.00333 ...     2.3    9.87     0.05      1\n",
       "333313 ........  0.00375  24.90889 359.9975 ...     2.3   10.01     0.05      1\n",
       "331060 478-009b  0.01042  23.08472  0.01417 ...    10.4    9.07     0.18      1\n",
       "331061 456-013.  0.01042  15.87222  0.00875 ...     2.4    9.29     0.06      1\n",
       "104570 ........  0.00667  32.70834    0.005 ...     2.3    9.64     0.06      1"
      ]
     },
     "execution_count": 17,
     "metadata": {},
     "output_type": "execute_result"
    }
   ],
   "source": [
    "h1_mass[:5]"
   ]
  },
  {
   "cell_type": "code",
   "execution_count": null,
   "id": "01beeac8-e043-4c33-9f37-5deb15b95262",
   "metadata": {},
   "outputs": [],
   "source": [
    "#new column in tf mastertable for H1 masses\n",
    "tf_mastertable['M_HI']=np.nan\n",
    "tf_mastertable['M_HI_ERR']=np.nan"
   ]
  },
  {
   "cell_type": "code",
   "execution_count": null,
   "id": "3266a5f0-3f46-4927-b382-e5531e22a81e",
   "metadata": {},
   "outputs": [],
   "source": [
    "# put target ids in list if mass exists\n",
    "sgas = []\n",
    "sga_ids = tf_mastertable['SGA_ID'][tf_mastertable['M_R26'] > 0]\n",
    "\n",
    "# find matching target ids for the first table\n",
    "for sga_id in sga_ids:\n",
    "    if len(h1_table[h1_table['SGA_ID'] == sga_id]) > 0:\n",
    "        targets.append(sga_id)\n",
    "\n",
    "#extract H1 data and update to mastertable\n",
    "for sga_id in sga_ids:\n",
    "    h1_mass = h1_table[h1_table['SGA_ID'] == sga_id]['LOGM'][0] #ask what columns are h1 mass!!!\n",
    "    h1_mass_err = h1_table[h1_table['SGA_ID'] == sga_id]['LOGM_ERR'][0] #ask what column is h1 error\n",
    "    tf_mastertable['M_H1'][np.logical_and(tf_mastertable['SGA_ID'] == sga_id, tf_mastertable['M_R26'] > 0)] = h1_mass\n",
    "    tf_mastertable['M_H1_ERR'][np.logical_and(tf_mastertable['SGA_ID'] == sga_id, tf_mastertable['M_R26'] > 0)] = h1_mass_err"
   ]
  }
 ],
 "metadata": {
  "kernelspec": {
   "display_name": "DESI main",
   "language": "python",
   "name": "desi-main"
  },
  "language_info": {
   "codemirror_mode": {
    "name": "ipython",
    "version": 3
   },
   "file_extension": ".py",
   "mimetype": "text/x-python",
   "name": "python",
   "nbconvert_exporter": "python",
   "pygments_lexer": "ipython3",
   "version": "3.10.14"
  }
 },
 "nbformat": 4,
 "nbformat_minor": 5
}
