{
 "cells": [
  {
   "cell_type": "code",
   "execution_count": 2,
   "id": "0de7109b-16f0-43c1-90e4-bfa852511776",
   "metadata": {
    "tags": []
   },
   "outputs": [],
   "source": [
    "# all imports\n",
    "import numpy as np\n",
    "import os\n",
    "import requests\n",
    "from astropy.table import Table, vstack\n",
    "import matplotlib.pyplot as plt\n",
    "import matplotlib.colors as mcolors\n",
    "import matplotlib.patches as mpatches\n",
    "import matplotlib.lines as mlines\n",
    "from astropy.io import fits\n",
    "from astropy.coordinates import SkyCoord\n",
    "from astropy import units as u\n",
    "from astropy.wcs import WCS\n",
    "import math\n",
    "import matplotlib as mpl\n",
    "from astropy.visualization.wcsaxes import SphericalCircle\n",
    "import pandas as pd\n",
    "import random\n",
    "from matplotlib.patches import Ellipse\n",
    "import ligo.skymap.plot\n",
    "from scipy.optimize import minimize\n",
    "import numdifftools as ndt\n",
    "from scipy.interpolate import griddata\n",
    "from matplotlib.tri import Triangulation\n",
    "from matplotlib.colors import LogNorm\n",
    "from matplotlib.pyplot import *"
   ]
  },
  {
   "cell_type": "code",
   "execution_count": 5,
   "id": "a88cbfc4-926b-48c1-bd2c-91500b196fbd",
   "metadata": {
    "tags": []
   },
   "outputs": [
    {
     "data": {
      "text/html": [
       "<div><i>Table length=5</i>\n",
       "<table id=\"table140616858596352\" class=\"table-striped table-bordered table-condensed\">\n",
       "<thead><tr><th>SGA_ID</th><th>SGA_GALAXY</th><th>GALAXY</th><th>PGC</th><th>RA_LEDA</th><th>DEC_LEDA</th><th>MORPHTYPE</th><th>PA_LEDA</th><th>D25_LEDA</th><th>BA_LEDA</th><th>Z_LEDA</th><th>SB_D25_LEDA</th><th>MAG_LEDA</th><th>BYHAND</th><th>REF</th><th>GROUP_ID</th><th>GROUP_NAME</th><th>GROUP_MULT</th><th>GROUP_PRIMARY</th><th>GROUP_RA</th><th>GROUP_DEC</th><th>GROUP_DIAMETER</th><th>BRICKNAME</th><th>RA</th><th>DEC</th><th>D26</th><th>D26_REF</th><th>PA</th><th>BA</th><th>RA_MOMENT</th><th>DEC_MOMENT</th><th>SMA_MOMENT</th><th>G_SMA50</th><th>R_SMA50</th><th>Z_SMA50</th><th>SMA_SB22</th><th>SMA_SB22.5</th><th>SMA_SB23</th><th>SMA_SB23.5</th><th>SMA_SB24</th><th>SMA_SB24.5</th><th>SMA_SB25</th><th>SMA_SB25.5</th><th>SMA_SB26</th><th>G_MAG_SB22</th><th>R_MAG_SB22</th><th>Z_MAG_SB22</th><th>G_MAG_SB22.5</th><th>R_MAG_SB22.5</th><th>Z_MAG_SB22.5</th><th>G_MAG_SB23</th><th>R_MAG_SB23</th><th>Z_MAG_SB23</th><th>G_MAG_SB23.5</th><th>R_MAG_SB23.5</th><th>Z_MAG_SB23.5</th><th>G_MAG_SB24</th><th>R_MAG_SB24</th><th>Z_MAG_SB24</th><th>G_MAG_SB24.5</th><th>R_MAG_SB24.5</th><th>Z_MAG_SB24.5</th><th>G_MAG_SB25</th><th>R_MAG_SB25</th><th>Z_MAG_SB25</th><th>G_MAG_SB25.5</th><th>R_MAG_SB25.5</th><th>Z_MAG_SB25.5</th><th>G_MAG_SB26</th><th>R_MAG_SB26</th><th>Z_MAG_SB26</th><th>SMA_SB22_ERR</th><th>SMA_SB22.5_ERR</th><th>SMA_SB23_ERR</th><th>SMA_SB23.5_ERR</th><th>SMA_SB24_ERR</th><th>SMA_SB24.5_ERR</th><th>SMA_SB25_ERR</th><th>SMA_SB25.5_ERR</th><th>SMA_SB26_ERR</th><th>G_MAG_SB22_ERR</th><th>R_MAG_SB22_ERR</th><th>Z_MAG_SB22_ERR</th><th>G_MAG_SB22.5_ERR</th><th>R_MAG_SB22.5_ERR</th><th>Z_MAG_SB22.5_ERR</th><th>G_MAG_SB23_ERR</th><th>R_MAG_SB23_ERR</th><th>Z_MAG_SB23_ERR</th><th>G_MAG_SB23.5_ERR</th><th>R_MAG_SB23.5_ERR</th><th>Z_MAG_SB23.5_ERR</th><th>G_MAG_SB24_ERR</th><th>R_MAG_SB24_ERR</th><th>Z_MAG_SB24_ERR</th><th>G_MAG_SB24.5_ERR</th><th>R_MAG_SB24.5_ERR</th><th>Z_MAG_SB24.5_ERR</th><th>G_MAG_SB25_ERR</th><th>R_MAG_SB25_ERR</th><th>Z_MAG_SB25_ERR</th><th>G_MAG_SB25.5_ERR</th><th>R_MAG_SB25.5_ERR</th><th>Z_MAG_SB25.5_ERR</th><th>G_MAG_SB26_ERR</th><th>R_MAG_SB26_ERR</th><th>Z_MAG_SB26_ERR</th><th>G_COG_PARAMS_MTOT</th><th>G_COG_PARAMS_M0</th><th>G_COG_PARAMS_ALPHA1</th><th>G_COG_PARAMS_ALPHA2</th><th>G_COG_PARAMS_CHI2</th><th>R_COG_PARAMS_MTOT</th><th>R_COG_PARAMS_M0</th><th>R_COG_PARAMS_ALPHA1</th><th>R_COG_PARAMS_ALPHA2</th><th>R_COG_PARAMS_CHI2</th><th>Z_COG_PARAMS_MTOT</th><th>Z_COG_PARAMS_M0</th><th>Z_COG_PARAMS_ALPHA1</th><th>Z_COG_PARAMS_ALPHA2</th><th>Z_COG_PARAMS_CHI2</th><th>ELLIPSEBIT</th><th>ALFALFA_index</th></tr></thead>\n",
       "<thead><tr><th>int64</th><th>bytes16</th><th>bytes29</th><th>int64</th><th>float64</th><th>float64</th><th>bytes21</th><th>float32</th><th>float32</th><th>float32</th><th>float32</th><th>float32</th><th>float32</th><th>bool</th><th>bytes13</th><th>int64</th><th>bytes35</th><th>int16</th><th>bool</th><th>float64</th><th>float64</th><th>float32</th><th>bytes8</th><th>float64</th><th>float64</th><th>float32</th><th>bytes4</th><th>float32</th><th>float32</th><th>float64</th><th>float64</th><th>float32</th><th>float32</th><th>float32</th><th>float32</th><th>float32</th><th>float32</th><th>float32</th><th>float32</th><th>float32</th><th>float32</th><th>float32</th><th>float32</th><th>float32</th><th>float32</th><th>float32</th><th>float32</th><th>float32</th><th>float32</th><th>float32</th><th>float32</th><th>float32</th><th>float32</th><th>float32</th><th>float32</th><th>float32</th><th>float32</th><th>float32</th><th>float32</th><th>float32</th><th>float32</th><th>float32</th><th>float32</th><th>float32</th><th>float32</th><th>float32</th><th>float32</th><th>float32</th><th>float32</th><th>float32</th><th>float32</th><th>float32</th><th>float32</th><th>float32</th><th>float32</th><th>float32</th><th>float32</th><th>float32</th><th>float32</th><th>float32</th><th>float32</th><th>float32</th><th>float32</th><th>float32</th><th>float32</th><th>float32</th><th>float32</th><th>float32</th><th>float32</th><th>float32</th><th>float32</th><th>float32</th><th>float32</th><th>float32</th><th>float32</th><th>float32</th><th>float32</th><th>float32</th><th>float32</th><th>float32</th><th>float32</th><th>float32</th><th>float32</th><th>float32</th><th>float32</th><th>float32</th><th>float32</th><th>float32</th><th>float32</th><th>float32</th><th>float32</th><th>float32</th><th>float32</th><th>float32</th><th>float32</th><th>float32</th><th>float32</th><th>float32</th><th>float32</th><th>float32</th><th>float32</th><th>float32</th><th>int32</th><th>int64</th></tr></thead>\n",
       "<tr><td>2</td><td>SGA-2020 2</td><td>PGC1283207</td><td>1283207</td><td>228.3770865</td><td>5.4232017</td><td>S?</td><td>152.2</td><td>0.36307806</td><td>0.724436</td><td>0.03463229</td><td>23.40448</td><td>16.976</td><td>False</td><td>LEDA-20181114</td><td>0</td><td>PGC1283207</td><td>1</td><td>True</td><td>228.3770865</td><td>5.4232017</td><td>0.36307806</td><td>2283p055</td><td>228.3770803831908</td><td>5.423191398593787</td><td>0.49470574</td><td>SB26</td><td>158.20142</td><td>0.545691</td><td>228.37700918822188</td><td>5.4232652570544015</td><td>10.897086</td><td>3.3509698</td><td>3.1147978</td><td>3.240862</td><td>5.902337</td><td>6.9126143</td><td>7.941369</td><td>8.997992</td><td>10.073601</td><td>11.199986</td><td>12.391357</td><td>13.561038</td><td>14.841172</td><td>16.966799</td><td>16.108246</td><td>15.486356</td><td>16.879545</td><td>16.024958</td><td>15.400715</td><td>16.818878</td><td>15.967034</td><td>15.341793</td><td>16.776297</td><td>15.925804</td><td>15.300776</td><td>16.746685</td><td>15.897334</td><td>15.272053</td><td>16.725166</td><td>15.876816</td><td>15.2521105</td><td>16.708357</td><td>15.862035</td><td>15.237181</td><td>16.696539</td><td>15.851936</td><td>15.226998</td><td>16.689613</td><td>15.844313</td><td>15.21976</td><td>0.013392451</td><td>0.02354</td><td>0.021872982</td><td>0.01736985</td><td>0.024445537</td><td>0.039866067</td><td>0.05026544</td><td>0.08455789</td><td>0.122911856</td><td>0.005682776</td><td>0.0054258136</td><td>0.0049038026</td><td>0.005588406</td><td>0.005323561</td><td>0.0047632363</td><td>0.00543534</td><td>0.005177031</td><td>0.0046343105</td><td>0.0053025587</td><td>0.005040888</td><td>0.0045181247</td><td>0.005206092</td><td>0.0049438984</td><td>0.0044374703</td><td>0.0051483097</td><td>0.0048758644</td><td>0.0043834248</td><td>0.0051032505</td><td>0.0048264163</td><td>0.004344248</td><td>0.0050705094</td><td>0.004792021</td><td>0.004319857</td><td>0.005054293</td><td>0.004765629</td><td>0.0043044444</td><td>16.65942</td><td>0.34037337</td><td>0.2978292</td><td>3.0239506</td><td>0.07928849</td><td>15.820566</td><td>0.2640441</td><td>0.34559453</td><td>3.3033552</td><td>0.003811298</td><td>15.195567</td><td>0.29826432</td><td>0.3001073</td><td>3.2333765</td><td>0.011723555</td><td>0</td><td>-1</td></tr>\n",
       "<tr><td>3</td><td>SGA-2020 3</td><td>PGC1310416</td><td>1310416</td><td>202.54443750000002</td><td>6.9345944</td><td>Sc</td><td>159.26</td><td>0.4017908</td><td>0.7816278</td><td>0.073888786</td><td>23.498482</td><td>16.85</td><td>False</td><td>LEDA-20181114</td><td>1</td><td>PGC1310416</td><td>1</td><td>True</td><td>202.54443750000002</td><td>6.9345944</td><td>0.4017908</td><td>2025p070</td><td>202.5444619671207</td><td>6.9346244322326624</td><td>0.55350494</td><td>SB26</td><td>161.5937</td><td>0.7291764</td><td>202.54432739596137</td><td>6.934806737209989</td><td>15.746941</td><td>5.6416235</td><td>5.2647552</td><td>5.0895185</td><td>5.9838247</td><td>7.4356494</td><td>8.728868</td><td>10.087478</td><td>11.529764</td><td>12.818195</td><td>14.115497</td><td>15.319822</td><td>16.605148</td><td>16.963299</td><td>16.307854</td><td>15.806882</td><td>16.729511</td><td>16.097378</td><td>15.615527</td><td>16.606344</td><td>15.990707</td><td>15.518403</td><td>16.525967</td><td>15.917321</td><td>15.450624</td><td>16.462585</td><td>15.859485</td><td>15.397182</td><td>16.419558</td><td>15.820947</td><td>15.36243</td><td>16.390558</td><td>15.796369</td><td>15.338905</td><td>16.376112</td><td>15.782492</td><td>15.323709</td><td>16.364115</td><td>15.773462</td><td>15.313725</td><td>0.036992554</td><td>0.034982767</td><td>0.037769336</td><td>0.049429573</td><td>0.052699674</td><td>0.074114166</td><td>0.07914538</td><td>0.09781406</td><td>0.15534972</td><td>0.016095797</td><td>0.019181909</td><td>0.021539452</td><td>0.013955905</td><td>0.016594552</td><td>0.018640138</td><td>0.012786752</td><td>0.015244632</td><td>0.01715491</td><td>0.011973826</td><td>0.014366956</td><td>0.016208366</td><td>0.011358372</td><td>0.013676575</td><td>0.015474222</td><td>0.010944939</td><td>0.013225297</td><td>0.015011175</td><td>0.010691595</td><td>0.012931233</td><td>0.014687982</td><td>0.010546411</td><td>0.012796015</td><td>0.014518412</td><td>0.010457551</td><td>0.012685407</td><td>0.014379212</td><td>16.284733</td><td>1.0914493</td><td>0.24674739</td><td>2.4320207</td><td>0.68685365</td><td>15.704403</td><td>0.8764323</td><td>0.27360612</td><td>2.4995425</td><td>0.49343896</td><td>15.235263</td><td>1.3098688</td><td>0.17866786</td><td>2.1750498</td><td>0.20391206</td><td>0</td><td>-1</td></tr>\n",
       "<tr><td>4</td><td>SGA-2020 4</td><td>SDSSJ145059.93+135143.0</td><td>4435547</td><td>222.749787</td><td>13.8619111</td><td>S?</td><td>44.57</td><td>0.33342642</td><td>0.6637431</td><td>0.07567602</td><td>24.457481</td><td>18.214</td><td>False</td><td>LEDA-20181114</td><td>2</td><td>SDSSJ145059.93+135143.0</td><td>1</td><td>True</td><td>222.749787</td><td>13.8619111</td><td>0.33342642</td><td>2228p137</td><td>222.7497050504303</td><td>13.861929561160224</td><td>0.37067476</td><td>SB26</td><td>45.28537</td><td>0.70922077</td><td>222.749650475464</td><td>13.862052070022896</td><td>8.877115</td><td>4.652771</td><td>4.4837785</td><td>4.4959745</td><td>2.01033</td><td>3.3967943</td><td>4.76257</td><td>6.043787</td><td>7.242806</td><td>8.250407</td><td>9.158723</td><td>10.083457</td><td>11.120243</td><td>19.97595</td><td>19.190666</td><td>18.649523</td><td>19.098536</td><td>18.397219</td><td>17.899643</td><td>18.624952</td><td>17.967802</td><td>17.50231</td><td>18.35278</td><td>17.718002</td><td>17.265854</td><td>18.192762</td><td>17.5654</td><td>17.115404</td><td>18.10496</td><td>17.480022</td><td>17.033989</td><td>18.053415</td><td>17.430794</td><td>16.982971</td><td>18.020155</td><td>17.399996</td><td>16.948252</td><td>17.994783</td><td>17.377092</td><td>16.924469</td><td>0.02113719</td><td>0.03639431</td><td>0.051901262</td><td>0.06539029</td><td>0.08552586</td><td>0.07008602</td><td>0.070394725</td><td>0.08394975</td><td>0.113649584</td><td>0.013428732</td><td>0.017600043</td><td>0.016373685</td><td>0.012251812</td><td>0.014566466</td><td>0.013732588</td><td>0.012644532</td><td>0.014030071</td><td>0.013153961</td><td>0.012747069</td><td>0.013512552</td><td>0.012818239</td><td>0.012865601</td><td>0.01324455</td><td>0.012532208</td><td>0.012762528</td><td>0.013058522</td><td>0.012420634</td><td>0.01252645</td><td>0.012827468</td><td>0.012283978</td><td>0.012320441</td><td>0.012607317</td><td>0.012104107</td><td>0.0121167945</td><td>0.01244376</td><td>0.011985352</td><td>17.896797</td><td>0.5557265</td><td>0.25455818</td><td>3.167909</td><td>1.0522435</td><td>17.28287</td><td>0.4885815</td><td>0.2782499</td><td>3.2144456</td><td>1.3733263</td><td>16.807674</td><td>0.5177045</td><td>0.32264626</td><td>2.900518</td><td>1.8054093</td><td>0</td><td>-1</td></tr>\n",
       "<tr><td>7</td><td>SGA-2020 7</td><td>PGC1742504</td><td>1742504</td><td>182.0888085</td><td>25.6022764</td><td>Sbc</td><td>84.97</td><td>0.548277</td><td>0.25118864</td><td>0.10090814</td><td>24.91348</td><td>17.59</td><td>False</td><td>LEDA-20181114</td><td>3</td><td>PGC1742504</td><td>1</td><td>True</td><td>182.0888085</td><td>25.6022764</td><td>0.548277</td><td>1820p255</td><td>182.08882232629614</td><td>25.60226821438983</td><td>0.8883204</td><td>SB26</td><td>84.857475</td><td>0.19753796</td><td>182.08873760544392</td><td>25.602311195157757</td><td>19.779116</td><td>6.5958204</td><td>6.0386286</td><td>5.8089786</td><td>9.279068</td><td>10.949478</td><td>12.652142</td><td>14.446171</td><td>16.323679</td><td>18.392954</td><td>20.915508</td><td>23.566542</td><td>26.649612</td><td>17.390274</td><td>16.360935</td><td>15.531964</td><td>17.285898</td><td>16.262264</td><td>15.440768</td><td>17.2167</td><td>16.195492</td><td>15.380734</td><td>17.16217</td><td>16.144245</td><td>15.334935</td><td>17.130178</td><td>16.110302</td><td>15.304758</td><td>17.104496</td><td>16.084463</td><td>15.280803</td><td>17.081282</td><td>16.061373</td><td>15.2589855</td><td>17.063671</td><td>16.045204</td><td>15.243196</td><td>17.046705</td><td>16.031244</td><td>15.23268</td><td>0.04351465</td><td>0.055440858</td><td>0.052207235</td><td>0.07507412</td><td>0.0793679</td><td>0.10347854</td><td>0.13569456</td><td>0.13104819</td><td>0.17234002</td><td>0.03885276</td><td>0.03744209</td><td>0.03786608</td><td>0.035534665</td><td>0.03441038</td><td>0.03503794</td><td>0.033557214</td><td>0.032548346</td><td>0.033348277</td><td>0.031964395</td><td>0.03106612</td><td>0.031957533</td><td>0.031133845</td><td>0.030202182</td><td>0.031190341</td><td>0.030430589</td><td>0.029511228</td><td>0.030530946</td><td>0.02975241</td><td>0.028853998</td><td>0.029866546</td><td>0.02928568</td><td>0.0284345</td><td>0.029445464</td><td>0.028843498</td><td>0.028076617</td><td>0.029169334</td><td>16.995174</td><td>21.083004</td><td>0.0164273</td><td>1.9079465</td><td>0.029703742</td><td>15.991165</td><td>0.7657307</td><td>0.52285546</td><td>2.3045986</td><td>0.006013103</td><td>15.191324</td><td>1.0408205</td><td>0.32956335</td><td>2.1520333</td><td>0.004725194</td><td>0</td><td>-1</td></tr>\n",
       "<tr><td>18</td><td>SGA-2020 18</td><td>2MASXJ12340801+4535444</td><td>3550748</td><td>188.5335525</td><td>45.5956434</td><td>E</td><td>168.65</td><td>0.53088444</td><td>0.6950243</td><td>0.07609531</td><td>23.97948</td><td>16.726</td><td>False</td><td>LEDA-20181114</td><td>4</td><td>2MASXJ12340801+4535444</td><td>1</td><td>True</td><td>188.5335525</td><td>45.5956434</td><td>0.53088444</td><td>1883p455</td><td>188.53364923054596</td><td>45.595620212931856</td><td>0.73435897</td><td>SB26</td><td>166.25127</td><td>0.70995796</td><td>188.53349052789085</td><td>45.59567446403057</td><td>15.694805</td><td>5.091253</td><td>4.670616</td><td>2.9429996</td><td>5.219665</td><td>6.6119533</td><td>8.228266</td><td>10.109745</td><td>12.170589</td><td>14.364073</td><td>16.722517</td><td>19.18709</td><td>22.03077</td><td>17.208511</td><td>16.224203</td><td>15.566424</td><td>17.050343</td><td>16.080097</td><td>15.443468</td><td>16.921791</td><td>15.962402</td><td>15.347263</td><td>16.814959</td><td>15.864242</td><td>15.27134</td><td>16.729906</td><td>15.787886</td><td>15.218466</td><td>16.664564</td><td>15.730083</td><td>15.182751</td><td>16.61991</td><td>15.686324</td><td>15.1601305</td><td>16.585676</td><td>15.654064</td><td>15.148039</td><td>16.558054</td><td>15.629669</td><td>15.141826</td><td>0.032001704</td><td>0.043849397</td><td>0.045203492</td><td>0.072918765</td><td>0.06263939</td><td>0.07675708</td><td>0.10399303</td><td>0.07780949</td><td>0.14017467</td><td>0.016467415</td><td>0.021250801</td><td>0.032092847</td><td>0.0149329165</td><td>0.019061867</td><td>0.028947951</td><td>0.01369758</td><td>0.01736746</td><td>0.026648495</td><td>0.012623343</td><td>0.015980754</td><td>0.024998168</td><td>0.011793644</td><td>0.014977396</td><td>0.023862366</td><td>0.011184664</td><td>0.014255281</td><td>0.023120966</td><td>0.010785815</td><td>0.013740733</td><td>0.022603082</td><td>0.010472503</td><td>0.013351409</td><td>0.022360764</td><td>0.010212836</td><td>0.013043255</td><td>0.022296576</td><td>16.471447</td><td>0.3236818</td><td>1.9206839</td><td>2.3249283</td><td>0.0973919</td><td>15.540598</td><td>0.3247282</td><td>1.7439244</td><td>2.1774826</td><td>0.023485765</td><td>15.124181</td><td>0.16547345</td><td>1.4694684</td><td>3.3948786</td><td>0.028653827</td><td>0</td><td>-1</td></tr>\n",
       "</table></div>"
      ],
      "text/plain": [
       "<Table length=5>\n",
       "SGA_ID  SGA_GALAXY          GALAXY         ... ELLIPSEBIT ALFALFA_index\n",
       "int64    bytes16           bytes29         ...   int32        int64    \n",
       "------ ----------- ----------------------- ... ---------- -------------\n",
       "     2  SGA-2020 2              PGC1283207 ...          0            -1\n",
       "     3  SGA-2020 3              PGC1310416 ...          0            -1\n",
       "     4  SGA-2020 4 SDSSJ145059.93+135143.0 ...          0            -1\n",
       "     7  SGA-2020 7              PGC1742504 ...          0            -1\n",
       "    18 SGA-2020 18  2MASXJ12340801+4535444 ...          0            -1"
      ]
     },
     "execution_count": 5,
     "metadata": {},
     "output_type": "execute_result"
    }
   ],
   "source": [
    "# define directories\n",
    "data_dir = '/global/cfs/projectdirs/desi/science/td/pv/tfgalaxies/'\n",
    "cache_dir = '/pscratch/sd/j/jjpim/cache/'\n",
    "scratch_dir = '/pscratch/sd/j/jjpim/'\n",
    "v_dir = '/pscratch/sd/j/jjpim/massmag/'\n",
    "hist_dir = '/pscratch/sd/j/jjpim/'\n",
    "\n",
    "# load updated master table\n",
    "tf_mastertable = Table.read(data_dir + 'tf_mastertable_massmag_stellar.fits') \n",
    "\n",
    "#load SGA table\n",
    "SGA = Table.read('/global/cfs/cdirs/cosmo/data/sga/2020/SGA-2020.fits', 'ELLIPSE')\n",
    "\n",
    "#load H1 index\n",
    "h1_table = Table.read('/global/homes/k/kadglass/DESI_SGA/data/SGA-2020_ALFALFA.fits')\n",
    "\n",
    "#load H1 data\n",
    "h1_mass = Table.read('/pscratch/sd/j/jjpim/a100.code12.table2.190808.csv')\n",
    "\n",
    "h1_table[:5]"
   ]
  },
  {
   "cell_type": "code",
   "execution_count": 52,
   "id": "b320cfbd-2065-40a0-a691-b7d65d5eb5d8",
   "metadata": {
    "tags": []
   },
   "outputs": [
    {
     "data": {
      "text/html": [
       "<div><i>Table length=5</i>\n",
       "<table id=\"table140615828870656\" class=\"table-striped table-bordered table-condensed\">\n",
       "<thead><tr><th>AGCNr</th><th>Name</th><th>RAdeg_HI</th><th>DECdeg_HI</th><th>RAdeg_OC</th><th>DECdeg_OC</th><th>Vhelio</th><th>W50</th><th>sigW</th><th>W20</th><th>HIflux</th><th>sigflux</th><th>SNR</th><th>RMS</th><th>Dist</th><th>sigDist</th><th>logMH</th><th>siglogMH</th><th>HIcode</th></tr></thead>\n",
       "<thead><tr><th>int64</th><th>str8</th><th>float64</th><th>float64</th><th>float64</th><th>float64</th><th>int64</th><th>int64</th><th>int64</th><th>int64</th><th>float64</th><th>float64</th><th>float64</th><th>float64</th><th>float64</th><th>float64</th><th>float64</th><th>float64</th><th>int64</th></tr></thead>\n",
       "<tr><td>105367</td><td>........</td><td>0.00167</td><td>5.44333</td><td>0.00333</td><td>5.4425</td><td>11983</td><td>274</td><td>39</td><td>281</td><td>1.14</td><td>0.08</td><td>8.1</td><td>1.91</td><td>166.0</td><td>2.3</td><td>9.87</td><td>0.05</td><td>1</td></tr>\n",
       "<tr><td>333313</td><td>........</td><td>0.00375</td><td>24.90889</td><td>359.9975</td><td>24.9075</td><td>11181</td><td>313</td><td>20</td><td>333</td><td>1.8</td><td>0.09</td><td>11.3</td><td>2.02</td><td>154.8</td><td>2.3</td><td>10.01</td><td>0.05</td><td>1</td></tr>\n",
       "<tr><td>331060</td><td>478-009b</td><td>0.01042</td><td>23.08472</td><td>0.01417</td><td>23.0875</td><td>4463</td><td>160</td><td>4</td><td>184</td><td>1.96</td><td>0.07</td><td>14.7</td><td>2.35</td><td>50.6</td><td>10.4</td><td>9.07</td><td>0.18</td><td>1</td></tr>\n",
       "<tr><td>331061</td><td>456-013.</td><td>0.01042</td><td>15.87222</td><td>0.00875</td><td>15.88167</td><td>6007</td><td>260</td><td>45</td><td>268</td><td>1.13</td><td>0.09</td><td>6.5</td><td>2.4</td><td>85.2</td><td>2.4</td><td>9.29</td><td>0.06</td><td>1</td></tr>\n",
       "<tr><td>104570</td><td>........</td><td>0.00667</td><td>32.70834</td><td>0.005</td><td>32.71028</td><td>10614</td><td>245</td><td>6</td><td>250</td><td>0.86</td><td>0.07</td><td>6.6</td><td>1.86</td><td>147.0</td><td>2.3</td><td>9.64</td><td>0.06</td><td>1</td></tr>\n",
       "</table></div>"
      ],
      "text/plain": [
       "<Table length=5>\n",
       "AGCNr    Name   RAdeg_HI DECdeg_HI RAdeg_OC ... sigDist  logMH  siglogMH HIcode\n",
       "int64    str8   float64   float64  float64  ... float64 float64 float64  int64 \n",
       "------ -------- -------- --------- -------- ... ------- ------- -------- ------\n",
       "105367 ........  0.00167   5.44333  0.00333 ...     2.3    9.87     0.05      1\n",
       "333313 ........  0.00375  24.90889 359.9975 ...     2.3   10.01     0.05      1\n",
       "331060 478-009b  0.01042  23.08472  0.01417 ...    10.4    9.07     0.18      1\n",
       "331061 456-013.  0.01042  15.87222  0.00875 ...     2.4    9.29     0.06      1\n",
       "104570 ........  0.00667  32.70834    0.005 ...     2.3    9.64     0.06      1"
      ]
     },
     "execution_count": 52,
     "metadata": {},
     "output_type": "execute_result"
    }
   ],
   "source": [
    "h1_mass[:5]"
   ]
  },
  {
   "cell_type": "code",
   "execution_count": 48,
   "id": "53c18ed6-cd7c-4c84-ae59-36b8e9d1ec14",
   "metadata": {
    "tags": []
   },
   "outputs": [
    {
     "data": {
      "text/html": [
       "<div><i>Table length=11</i>\n",
       "<table id=\"table140616831345776\" class=\"table-striped table-bordered table-condensed\">\n",
       "<thead><tr><th>TARGETID</th><th>TARGET_RA</th><th>TARGET_DEC</th><th>HEALPIX</th><th>SURVEY</th><th>Z</th><th>ZERR</th><th>ZWARN</th><th>DELTACHI2</th><th>FILENAME</th><th>PVTYPE</th><th>SGA_ID</th><th>RA</th><th>DEC</th><th>OBS_IN_SV</th><th>SKY_FIBER_DIST</th><th>SKY_FIBER_DIST_R26</th><th>ROT_CURVE</th><th>EOA</th><th>VELOCITY</th><th>VERR</th><th>Z_CENTER</th><th>ROTCURVE_CHI2</th><th>VMAX</th><th>VMAX_ERR</th><th>RTURN</th><th>RTURN_ERR</th><th>ALPHA</th><th>ALPHA_ERR</th><th>INCLINATION</th><th>VROT_R26</th><th>VROT_R26_ERR</th><th>M_R26</th><th>M_R26_ERR</th><th>VROT_3P5R26</th><th>VROT_3P5R26_ERR</th><th>M_3P5R26</th><th>M_3P5R26_ERR</th><th>RABS_MAG26</th><th>M_STELLAR_CIGALE</th><th>M_STELLAR_CIGALE_ERR</th><th>M_STELLAR_PROVABGS</th><th>M_STELLAR_PROVABGS_ERR</th></tr></thead>\n",
       "<thead><tr><th>int64</th><th>float64</th><th>float64</th><th>int64</th><th>bytes4</th><th>float64</th><th>float64</th><th>int64</th><th>float64</th><th>bytes65</th><th>bytes3</th><th>int64</th><th>float64</th><th>float64</th><th>float64</th><th>float64</th><th>float64</th><th>float64</th><th>float64</th><th>float64</th><th>float64</th><th>float64</th><th>float64</th><th>float64</th><th>float64</th><th>float64</th><th>float64</th><th>float64</th><th>float64</th><th>float64</th><th>float64</th><th>float64</th><th>float64</th><th>float64</th><th>float64</th><th>float64</th><th>float64</th><th>float64</th><th>float64</th><th>float64</th><th>float64</th><th>float64</th><th>float64</th></tr></thead>\n",
       "<tr><td>1070919447478281</td><td>218.467126790284</td><td>35.6021357274572</td><td>10517</td><td>sv3</td><td>0.689349774676162</td><td>0.000105899659336298</td><td>4</td><td>1.1599750071764</td><td>fuji/healpix/sv3/bright/105/10517/redrock-sv3-bright-10517.fits</td><td>TFT</td><td>202236</td><td>218.46712679028371</td><td>35.60213572745723</td><td>1.0</td><td>0.010328013447839866</td><td>0.9999999757533122</td><td>1.0</td><td>0.0</td><td>196230.58895498002</td><td>31.761552886604264</td><td>0.0347949861264779</td><td>--</td><td>--</td><td>--</td><td>--</td><td>--</td><td>--</td><td>--</td><td>--</td><td>--</td><td>0.0</td><td>--</td><td>--</td><td>--</td><td>0.0</td><td>--</td><td>--</td><td>-21.09168685298143</td><td>--</td><td>--</td><td>--</td><td>--</td></tr>\n",
       "<tr><td>1070919447478283</td><td>218.473204372212</td><td>35.6069798702523</td><td>10517</td><td>sv3</td><td>0.0342643027523248</td><td>5.81042710273245e-06</td><td>0</td><td>521.161364927888</td><td>fuji/healpix/sv3/bright/105/10517/redrock-sv3-bright-10517.fits</td><td>TFT</td><td>202236</td><td>218.47320437221234</td><td>35.60697987025231</td><td>1.0</td><td>0.003408244437794044</td><td>0.32999999199926</td><td>1.0</td><td>0.0</td><td>-159.09487315708984</td><td>1.9748830179274115</td><td>0.0347949861264779</td><td>61.50510020149073</td><td>561.3099492572</td><td>157.08378064380133</td><td>0.08537294408848492</td><td>0.12780472231685672</td><td>0.36383992423415007</td><td>0.057502354761352084</td><td>1.4711405903507528</td><td>391.1285338274364</td><td>410.0510414676205</td><td>11.825310198144829</td><td>0.49090734012908754</td><td>444.0025751658789</td><td>718.8914816193749</td><td>12.479510220455634</td><td>0.6271846376573009</td><td>-21.09168685298143</td><td>9.759396229228562</td><td>--</td><td>--</td><td>--</td></tr>\n",
       "<tr><td>39632991256840767</td><td>218.476198078587</td><td>35.6093656791547</td><td>10517</td><td>sv3</td><td>0.0347951441075021</td><td>4.38416406810812e-06</td><td>0</td><td>3660.84922169894</td><td>fuji/healpix/sv3/bright/105/10517/redrock-sv3-bright-10517.fits</td><td>TFT</td><td>202236</td><td>218.47619807858737</td><td>35.60936567915472</td><td>1.0</td><td>0.0</td><td>0.0</td><td>1.0</td><td>0.0</td><td>0.04736151956227686</td><td>1.6103905603883806</td><td>0.0347949861264779</td><td>61.50510020149073</td><td>561.3099492572</td><td>157.08378064380133</td><td>0.08537294408848492</td><td>0.12780472231685672</td><td>0.36383992423415007</td><td>0.057502354761352084</td><td>1.4711405903507528</td><td>391.1285338274364</td><td>410.0510414676205</td><td>11.825310198144829</td><td>0.49090734012908754</td><td>444.0025751658789</td><td>718.8914816193749</td><td>12.479510220455634</td><td>0.6271846376573009</td><td>-21.09168685298143</td><td>9.759396229228562</td><td>--</td><td>--</td><td>--</td></tr>\n",
       "<tr><td>1070919447478282</td><td>218.470120134196</td><td>35.6045216866714</td><td>10517</td><td>sv3</td><td>0.035417316436115</td><td>3.76541421700099e-05</td><td>0</td><td>9.22480585216545</td><td>fuji/healpix/sv3/bright/105/10517/redrock-sv3-bright-10517.fits</td><td>TFT</td><td>202236</td><td>218.47012013419638</td><td>35.604521686671355</td><td>1.0</td><td>0.006919769010041057</td><td>0.6699999837535908</td><td>1.0</td><td>0.0</td><td>186.56993321400878</td><td>11.32671500875773</td><td>0.0347949861264779</td><td>61.50510020149073</td><td>561.3099492572</td><td>157.08378064380133</td><td>0.08537294408848492</td><td>0.12780472231685672</td><td>0.36383992423415007</td><td>0.057502354761352084</td><td>1.4711405903507528</td><td>391.1285338274364</td><td>410.0510414676205</td><td>11.825310198144829</td><td>0.49090734012908754</td><td>444.0025751658789</td><td>718.8914816193749</td><td>12.479510220455634</td><td>0.6271846376573009</td><td>-21.09168685298143</td><td>9.759396229228562</td><td>--</td><td>--</td><td>--</td></tr>\n",
       "<tr><td>1070919447478284</td><td>218.47919196352</td><td>35.6117514140064</td><td>10517</td><td>sv3</td><td>0.0352543507475819</td><td>2.11623843739911e-05</td><td>0</td><td>39.4392753937282</td><td>fuji/healpix/sv3/bright/105/10517/redrock-sv3-bright-10517.fits</td><td>TFT</td><td>202236</td><td>218.47919196352018</td><td>35.61175141400644</td><td>1.0</td><td>0.003408244437787266</td><td>0.3299999919986037</td><td>1.0</td><td>0.0</td><td>137.71404887900843</td><td>6.412199866829514</td><td>0.0347949861264779</td><td>61.50510020149073</td><td>561.3099492572</td><td>157.08378064380133</td><td>0.08537294408848492</td><td>0.12780472231685672</td><td>0.36383992423415007</td><td>0.057502354761352084</td><td>1.4711405903507528</td><td>391.1285338274364</td><td>410.0510414676205</td><td>11.825310198144829</td><td>0.49090734012908754</td><td>444.0025751658789</td><td>718.8914816193749</td><td>12.479510220455634</td><td>0.6271846376573009</td><td>-21.09168685298143</td><td>9.759396229228562</td><td>--</td><td>--</td><td>--</td></tr>\n",
       "<tr><td>1084113587011596</td><td>218.47919196352</td><td>35.6117514140064</td><td>10517</td><td>sv3</td><td>0.0352300902375281</td><td>1.03763672224515e-05</td><td>0</td><td>221.168140199035</td><td>fuji/healpix/sv3/dark/105/10517/redrock-sv3-dark-10517.fits</td><td>TFT</td><td>202236</td><td>218.47919196352018</td><td>35.61175141400644</td><td>1.0</td><td>0.003408244437787266</td><td>0.3299999919986037</td><td>1.0</td><td>0.0</td><td>130.44093093764513</td><td>3.246948835981131</td><td>0.0347949861264779</td><td>61.50510020149073</td><td>561.3099492572</td><td>157.08378064380133</td><td>0.08537294408848492</td><td>0.12780472231685672</td><td>0.36383992423415007</td><td>0.057502354761352084</td><td>1.4711405903507528</td><td>391.1285338274364</td><td>410.0510414676205</td><td>11.825310198144829</td><td>0.49090734012908754</td><td>444.0025751658789</td><td>718.8914816193749</td><td>12.479510220455634</td><td>0.6271846376573009</td><td>-21.09168685298143</td><td>9.759396229228562</td><td>--</td><td>--</td><td>--</td></tr>\n",
       "<tr><td>1070919447478286</td><td>218.48527100654</td><td>35.6165949508643</td><td>10517</td><td>sv3</td><td>1.00299772407763</td><td>0.000101583199241599</td><td>4</td><td>1.11134199798107</td><td>fuji/healpix/sv3/bright/105/10517/redrock-sv3-bright-10517.fits</td><td>TFT</td><td>202236</td><td>218.4852710065401</td><td>35.61659495086426</td><td>1.0</td><td>0.010328013447859623</td><td>0.9999999757552251</td><td>1.0</td><td>0.0</td><td>290259.87865270575</td><td>30.468089762167974</td><td>0.0347949861264779</td><td>--</td><td>--</td><td>--</td><td>--</td><td>--</td><td>--</td><td>--</td><td>--</td><td>--</td><td>0.0</td><td>--</td><td>--</td><td>--</td><td>0.0</td><td>--</td><td>--</td><td>-21.09168685298143</td><td>--</td><td>--</td><td>--</td><td>--</td></tr>\n",
       "<tr><td>1084113587011598</td><td>218.48527100654</td><td>35.6165949508643</td><td>10517</td><td>sv3</td><td>0.796100331722565</td><td>9.98304331941763e-05</td><td>4</td><td>1.62071186304092</td><td>fuji/healpix/sv3/dark/105/10517/redrock-sv3-dark-10517.fits</td><td>TFT</td><td>202236</td><td>218.4852710065401</td><td>35.61659495086426</td><td>1.0</td><td>0.010328013447859623</td><td>0.9999999757552251</td><td>1.0</td><td>0.0</td><td>228233.6008447904</td><td>29.94287314076909</td><td>0.0347949861264779</td><td>--</td><td>--</td><td>--</td><td>--</td><td>--</td><td>--</td><td>--</td><td>--</td><td>--</td><td>0.0</td><td>--</td><td>--</td><td>--</td><td>0.0</td><td>--</td><td>--</td><td>-21.09168685298143</td><td>--</td><td>--</td><td>--</td><td>--</td></tr>\n",
       "<tr><td>1070919447478285</td><td>218.482276759017</td><td>35.6142093663915</td><td>10517</td><td>sv3</td><td>0.509855419264157</td><td>0.000102081052325666</td><td>4</td><td>2.84888510033488</td><td>fuji/healpix/sv3/bright/105/10517/redrock-sv3-bright-10517.fits</td><td>TFT</td><td>202236</td><td>218.48227675901688</td><td>35.614209366391506</td><td>1.0</td><td>0.0069197690100880815</td><td>0.6699999837581441</td><td>1.0</td><td>0.0</td><td>142419.53494888946</td><td>30.617273077854588</td><td>0.0347949861264779</td><td>--</td><td>--</td><td>--</td><td>--</td><td>--</td><td>--</td><td>--</td><td>--</td><td>--</td><td>0.0</td><td>--</td><td>--</td><td>--</td><td>0.0</td><td>--</td><td>--</td><td>-21.09168685298143</td><td>--</td><td>--</td><td>--</td><td>--</td></tr>\n",
       "<tr><td>2843332191453186</td><td>218.47256936654</td><td>35.6064737800572</td><td>10517</td><td>main</td><td>0.0342515044237441</td><td>1.21527789211158e-05</td><td>0</td><td>189.519000895321</td><td>iron/healpix/main/dark/105/10517/redrock-main-dark-10517.fits</td><td>TFT</td><td>202236</td><td>218.47256936654045</td><td>35.60647378005724</td><td>1.0</td><td>0.00413120537913836</td><td>0.39999999030155864</td><td>1.0</td><td>0.0</td><td>-162.93171554059126</td><td>3.7602643961305677</td><td>0.0347949861264779</td><td>61.50510020149073</td><td>561.3099492572</td><td>157.08378064380133</td><td>0.08537294408848492</td><td>0.12780472231685672</td><td>0.36383992423415007</td><td>0.057502354761352084</td><td>1.4711405903507528</td><td>391.1285338274364</td><td>410.0510414676205</td><td>11.825310198144829</td><td>0.49090734012908754</td><td>444.0025751658789</td><td>718.8914816193749</td><td>12.479510220455634</td><td>0.6271846376573009</td><td>-21.09168685298143</td><td>9.759396229228562</td><td>--</td><td>--</td><td>--</td></tr>\n",
       "<tr><td>39632991256840767</td><td>218.476198078587</td><td>35.6093656791547</td><td>10517</td><td>sv3</td><td>0.0347948281454537</td><td>4.39496834244275e-06</td><td>0</td><td>3817.83105362952</td><td>iron/healpix/sv3/bright/105/10517/redrock-sv3-bright-10517.fits</td><td>TFT</td><td>202236</td><td>218.47619807858737</td><td>35.60936567915472</td><td>1.0</td><td>0.0</td><td>0.0</td><td>1.0</td><td>0.0</td><td>-0.04736151956227686</td><td>1.6130352269986514</td><td>0.0347949861264779</td><td>61.50510020149073</td><td>561.3099492572</td><td>157.08378064380133</td><td>0.08537294408848492</td><td>0.12780472231685672</td><td>0.36383992423415007</td><td>0.057502354761352084</td><td>1.4711405903507528</td><td>391.1285338274364</td><td>410.0510414676205</td><td>11.825310198144829</td><td>0.49090734012908754</td><td>444.0025751658789</td><td>718.8914816193749</td><td>12.479510220455634</td><td>0.6271846376573009</td><td>-21.09168685298143</td><td>9.759396229228562</td><td>--</td><td>--</td><td>--</td></tr>\n",
       "</table></div>"
      ],
      "text/plain": [
       "<Table length=11>\n",
       "     TARGETID        TARGET_RA     ... M_STELLAR_PROVABGS M_STELLAR_PROVABGS_ERR\n",
       "      int64           float64      ...      float64              float64        \n",
       "----------------- ---------------- ... ------------------ ----------------------\n",
       " 1070919447478281 218.467126790284 ...                 --                     --\n",
       " 1070919447478283 218.473204372212 ...                 --                     --\n",
       "39632991256840767 218.476198078587 ...                 --                     --\n",
       " 1070919447478282 218.470120134196 ...                 --                     --\n",
       " 1070919447478284  218.47919196352 ...                 --                     --\n",
       " 1084113587011596  218.47919196352 ...                 --                     --\n",
       " 1070919447478286  218.48527100654 ...                 --                     --\n",
       " 1084113587011598  218.48527100654 ...                 --                     --\n",
       " 1070919447478285 218.482276759017 ...                 --                     --\n",
       " 2843332191453186  218.47256936654 ...                 --                     --\n",
       "39632991256840767 218.476198078587 ...                 --                     --"
      ]
     },
     "execution_count": 48,
     "metadata": {},
     "output_type": "execute_result"
    }
   ],
   "source": [
    "tf_mastertable[tf_mastertable['SGA_ID']==202236 ]"
   ]
  },
  {
   "cell_type": "code",
   "execution_count": 63,
   "id": "22af460b-5681-4d8e-b233-d233a87e3039",
   "metadata": {
    "tags": []
   },
   "outputs": [],
   "source": [
    "sga_ids = [9769, 11977, 12892, 14501, 16383, 19235, 19278, 25532, 30149, 31220, 32484, 36904, 37543, 46327, 58617, 73111, 88963, 91660, 90791, 106536, \n",
    "           114405, 114489, 122580, 126630, 125611, 128163, 128411, 130766, 149502, 153504, 175220, 176736, 184044, 186239, 189685, 188525, 190308, \n",
    "           192158, 196470, 199038, 202236, 205028, 209429, 212382, 218773, 235556, 254532, 272164, 272562, 276638, 288715, 289743, 291766, 300446, \n",
    "           302062, 305831, 309378, 319942, 330678, 349027, 349346, 363344, 373692, 378842, 384420, 389177, 393190, 395070, 398443, 398532, 416531, \n",
    "           431242, 430161, 432294, 450689, 450566, 455486, 457147, 458798, 462867, 466872, 467582, 471327, 469868, 471893, 473436, 477805, 481956, \n",
    "           485800, 493017, 507499, 526710, 544419, 544810, 544799, 544943, 548724, 548848, 550458, 564440, 569298, 568664, 570086, 582248, 591927, \n",
    "           607528, 608015, 629144, 630029, 630390, 635043, 638386, 641578, 643231, 643845, 644940, 647966, 649753, 649960, 651096, 654469, 659599, \n",
    "           663463, 671301, 671533, 694525, 696291, 696345, 706579, 720480, 722142, 726854, 728327, 729726, 729754, 736449, 742167, 743030, 744650, \n",
    "           752683, 757313, 757166, 758123, 759261, 759003, 766672, 783693, 793633, 804643, 805225, 819754, 820598, 823301, 824225, 826809, 827949, \n",
    "           833961, 833981, 843065, 843126, 845052, 887433, 901663, 901980, 908818, 908978, 911046, 914975, 914909, 916161, 920806, 923400, 925923, \n",
    "           925354, 928810, 928876, 932984, 947709, 953644, 957521, 957850, 967351, 968864, 971635, 975775, 972260, 977015, 976853, 979168, 978708, \n",
    "           989040, 989244, 1001302, 1003319, 1008726, 1014959, 1018187, 1021462, 1026141, 1031898, 1033651, 1033344, 1050173, 1065602, 1073430, \n",
    "           1086934, 1087039, 1087374, 1090772, 1091806, 1096564, 1098043, 1103477, 1111824, 1117018, 1124386, 1143335, 1146354, 1161160, 1167691, \n",
    "           1171841, 1179377, 1184894, 1184912, 1186034, 1187240, 1188032, 1188617, 1188926, 1193015, 1191665, 1194588, 1194958, 1199020, 1199539, \n",
    "           1201319, 1203786, 1204237, 1206707, 1218166, 1219319, 1254154, 1264056, 1264591, 1267967, 1271477, 1271549, 1272700, 1273605, 1278144, \n",
    "           1281619, 1282407, 1285273, 1286710, 1289613, 1293967, 1301768, 1304908, 1335916, 1338866, 1345100, 1348956, 1349555, 1354266, 1355575, \n",
    "           1361363, 1361399, 1365519, 1365549, 1367137, 1368018, 1368443, 1374964, 1379143, 1405053, 1429680, 1434487]"
   ]
  },
  {
   "cell_type": "code",
   "execution_count": null,
   "id": "d2364a84-2050-43b6-acad-31f57a0e9a00",
   "metadata": {},
   "outputs": [],
   "source": [
    "#new column in tf mastertable for H1 masses\n",
    "tf_mastertable['M_HI']=np.nan\n",
    "tf_mastertable['M_HI_ERR']=np.nan"
   ]
  },
  {
   "cell_type": "code",
   "execution_count": 67,
   "id": "88983a0b-57cf-46ab-8735-3c6e64d6ca86",
   "metadata": {
    "tags": []
   },
   "outputs": [
    {
     "ename": "IndexError",
     "evalue": "boolean index did not match indexed array along dimension 0; dimension is 31502 but corresponding boolean dimension is 25434",
     "output_type": "error",
     "traceback": [
      "\u001b[0;31m---------------------------------------------------------------------------\u001b[0m",
      "\u001b[0;31mIndexError\u001b[0m                                Traceback (most recent call last)",
      "Cell \u001b[0;32mIn[67], line 6\u001b[0m\n\u001b[1;32m      4\u001b[0m \u001b[38;5;28;01mfor\u001b[39;00m sga_id \u001b[38;5;129;01min\u001b[39;00m sga_ids: \n\u001b[1;32m      5\u001b[0m     sga \u001b[38;5;241m=\u001b[39m SGA[SGA[\u001b[38;5;124m'\u001b[39m\u001b[38;5;124mSGA_ID\u001b[39m\u001b[38;5;124m'\u001b[39m] \u001b[38;5;241m==\u001b[39m sga_id]\n\u001b[0;32m----> 6\u001b[0m     h1_vals \u001b[38;5;241m=\u001b[39m \u001b[43mh1_mass\u001b[49m\u001b[43m[\u001b[49m\u001b[43m(\u001b[49m\u001b[43msga\u001b[49m\u001b[43m[\u001b[49m\u001b[38;5;124;43m'\u001b[39;49m\u001b[38;5;124;43mRA\u001b[39;49m\u001b[38;5;124;43m'\u001b[39;49m\u001b[43m]\u001b[49m\u001b[43m \u001b[49m\u001b[38;5;241;43m<\u001b[39;49m\u001b[38;5;241;43m=\u001b[39;49m\u001b[43m \u001b[49m\u001b[43m(\u001b[49m\u001b[43mh1_table_ra\u001b[49m\u001b[43m \u001b[49m\u001b[38;5;241;43m+\u001b[39;49m\u001b[43m \u001b[49m\u001b[38;5;241;43m0.01\u001b[39;49m\u001b[43m)\u001b[49m\u001b[43m)\u001b[49m\u001b[43m \u001b[49m\u001b[38;5;241;43m&\u001b[39;49m\u001b[43m \u001b[49m\u001b[43m(\u001b[49m\u001b[43msga\u001b[49m\u001b[43m[\u001b[49m\u001b[38;5;124;43m'\u001b[39;49m\u001b[38;5;124;43mRA\u001b[39;49m\u001b[38;5;124;43m'\u001b[39;49m\u001b[43m]\u001b[49m\u001b[43m \u001b[49m\u001b[38;5;241;43m>\u001b[39;49m\u001b[38;5;241;43m=\u001b[39;49m\u001b[43m \u001b[49m\u001b[43m(\u001b[49m\u001b[43mh1_table_ra\u001b[49m\u001b[43m \u001b[49m\u001b[38;5;241;43m-\u001b[39;49m\u001b[43m \u001b[49m\u001b[38;5;241;43m0.01\u001b[39;49m\u001b[43m)\u001b[49m\u001b[43m)\u001b[49m\u001b[43m \u001b[49m\u001b[38;5;241;43m&\u001b[39;49m\u001b[43m \u001b[49m\n\u001b[1;32m      7\u001b[0m \u001b[43m                      \u001b[49m\u001b[43m(\u001b[49m\u001b[43msga\u001b[49m\u001b[43m[\u001b[49m\u001b[38;5;124;43m'\u001b[39;49m\u001b[38;5;124;43mDEC\u001b[39;49m\u001b[38;5;124;43m'\u001b[39;49m\u001b[43m]\u001b[49m\u001b[43m \u001b[49m\u001b[38;5;241;43m<\u001b[39;49m\u001b[38;5;241;43m=\u001b[39;49m\u001b[43m \u001b[49m\u001b[43m(\u001b[49m\u001b[43mh1_table_dec\u001b[49m\u001b[43m \u001b[49m\u001b[38;5;241;43m+\u001b[39;49m\u001b[43m \u001b[49m\u001b[38;5;241;43m0.01\u001b[39;49m\u001b[43m)\u001b[49m\u001b[43m)\u001b[49m\u001b[43m \u001b[49m\u001b[38;5;241;43m&\u001b[39;49m\u001b[43m \u001b[49m\u001b[43m(\u001b[49m\u001b[43msga\u001b[49m\u001b[43m[\u001b[49m\u001b[38;5;124;43m'\u001b[39;49m\u001b[38;5;124;43mDEC\u001b[39;49m\u001b[38;5;124;43m'\u001b[39;49m\u001b[43m]\u001b[49m\u001b[43m \u001b[49m\u001b[38;5;241;43m>\u001b[39;49m\u001b[38;5;241;43m=\u001b[39;49m\u001b[43m \u001b[49m\u001b[43m(\u001b[49m\u001b[43mh1_table_dec\u001b[49m\u001b[43m \u001b[49m\u001b[38;5;241;43m-\u001b[39;49m\u001b[43m \u001b[49m\u001b[38;5;241;43m0.01\u001b[39;49m\u001b[43m)\u001b[49m\u001b[43m)\u001b[49m\u001b[43m]\u001b[49m[\u001b[38;5;124m'\u001b[39m\u001b[38;5;124mlogMH\u001b[39m\u001b[38;5;124m'\u001b[39m]\n\u001b[1;32m      8\u001b[0m     tf_mastertable[\u001b[38;5;124m'\u001b[39m\u001b[38;5;124mM_H1\u001b[39m\u001b[38;5;124m'\u001b[39m][np\u001b[38;5;241m.\u001b[39mlogical_and(tf_mastertable[\u001b[38;5;124m'\u001b[39m\u001b[38;5;124mSGA_ID\u001b[39m\u001b[38;5;124m'\u001b[39m] \u001b[38;5;241m==\u001b[39m sga_id, tf_mastertable[\u001b[38;5;124m'\u001b[39m\u001b[38;5;124mM_R26\u001b[39m\u001b[38;5;124m'\u001b[39m] \u001b[38;5;241m>\u001b[39m \u001b[38;5;241m0\u001b[39m)] \u001b[38;5;241m=\u001b[39m h1_mass\n",
      "File \u001b[0;32m/global/common/software/desi/perlmutter/desiconda/20240425-2.2.0/conda/lib/python3.10/site-packages/astropy/table/table.py:2091\u001b[0m, in \u001b[0;36mTable.__getitem__\u001b[0;34m(self, item)\u001b[0m\n\u001b[1;32m   2082\u001b[0m     \u001b[38;5;28;01mreturn\u001b[39;00m \u001b[38;5;28mself\u001b[39m\u001b[38;5;241m.\u001b[39m_new_from_slice([])\n\u001b[1;32m   2083\u001b[0m \u001b[38;5;28;01melif\u001b[39;00m (\n\u001b[1;32m   2084\u001b[0m     \u001b[38;5;28misinstance\u001b[39m(item, (\u001b[38;5;28mslice\u001b[39m, np\u001b[38;5;241m.\u001b[39mndarray, \u001b[38;5;28mlist\u001b[39m))\n\u001b[1;32m   2085\u001b[0m     \u001b[38;5;129;01mor\u001b[39;00m \u001b[38;5;28misinstance\u001b[39m(item, \u001b[38;5;28mtuple\u001b[39m)\n\u001b[0;32m   (...)\u001b[0m\n\u001b[1;32m   2089\u001b[0m     \u001b[38;5;66;03m# is produced by np.where, as in t[np.where(t['a'] > 2)]\u001b[39;00m\n\u001b[1;32m   2090\u001b[0m     \u001b[38;5;66;03m# For all, a new table is constructed with slice of all columns\u001b[39;00m\n\u001b[0;32m-> 2091\u001b[0m     \u001b[38;5;28;01mreturn\u001b[39;00m \u001b[38;5;28;43mself\u001b[39;49m\u001b[38;5;241;43m.\u001b[39;49m\u001b[43m_new_from_slice\u001b[49m\u001b[43m(\u001b[49m\u001b[43mitem\u001b[49m\u001b[43m)\u001b[49m\n\u001b[1;32m   2092\u001b[0m \u001b[38;5;28;01melse\u001b[39;00m:\n\u001b[1;32m   2093\u001b[0m     \u001b[38;5;28;01mraise\u001b[39;00m \u001b[38;5;167;01mValueError\u001b[39;00m(\u001b[38;5;124mf\u001b[39m\u001b[38;5;124m\"\u001b[39m\u001b[38;5;124mIllegal type \u001b[39m\u001b[38;5;132;01m{\u001b[39;00m\u001b[38;5;28mtype\u001b[39m(item)\u001b[38;5;132;01m}\u001b[39;00m\u001b[38;5;124m for table item access\u001b[39m\u001b[38;5;124m\"\u001b[39m)\n",
      "File \u001b[0;32m/global/common/software/desi/perlmutter/desiconda/20240425-2.2.0/conda/lib/python3.10/site-packages/astropy/table/table.py:1498\u001b[0m, in \u001b[0;36mTable._new_from_slice\u001b[0;34m(self, slice_)\u001b[0m\n\u001b[1;32m   1496\u001b[0m newcols \u001b[38;5;241m=\u001b[39m []\n\u001b[1;32m   1497\u001b[0m \u001b[38;5;28;01mfor\u001b[39;00m col \u001b[38;5;129;01min\u001b[39;00m \u001b[38;5;28mself\u001b[39m\u001b[38;5;241m.\u001b[39mcolumns\u001b[38;5;241m.\u001b[39mvalues():\n\u001b[0;32m-> 1498\u001b[0m     newcol \u001b[38;5;241m=\u001b[39m \u001b[43mcol\u001b[49m\u001b[43m[\u001b[49m\u001b[43mslice_\u001b[49m\u001b[43m]\u001b[49m\n\u001b[1;32m   1500\u001b[0m     \u001b[38;5;66;03m# Note in line below, use direct attribute access to col.indices for Column\u001b[39;00m\n\u001b[1;32m   1501\u001b[0m     \u001b[38;5;66;03m# instances instead of the generic col.info.indices.  This saves about 4 usec\u001b[39;00m\n\u001b[1;32m   1502\u001b[0m     \u001b[38;5;66;03m# per column.\u001b[39;00m\n\u001b[1;32m   1503\u001b[0m     \u001b[38;5;28;01mif\u001b[39;00m (col \u001b[38;5;28;01mif\u001b[39;00m \u001b[38;5;28misinstance\u001b[39m(col, Column) \u001b[38;5;28;01melse\u001b[39;00m col\u001b[38;5;241m.\u001b[39minfo)\u001b[38;5;241m.\u001b[39mindices:\n\u001b[1;32m   1504\u001b[0m         \u001b[38;5;66;03m# TODO : as far as I can tell the only purpose of setting _copy_indices\u001b[39;00m\n\u001b[1;32m   1505\u001b[0m         \u001b[38;5;66;03m# here is to communicate that to the initial test in `slice_indices`.\u001b[39;00m\n\u001b[1;32m   1506\u001b[0m         \u001b[38;5;66;03m# Why isn't that just sent as an arg to the function?\u001b[39;00m\n",
      "File \u001b[0;32m/global/common/software/desi/perlmutter/desiconda/20240425-2.2.0/conda/lib/python3.10/site-packages/astropy/table/_column_mixins.pyx:79\u001b[0m, in \u001b[0;36mastropy.table._column_mixins._ColumnGetitemShim.__getitem__\u001b[0;34m()\u001b[0m\n",
      "File \u001b[0;32m/global/common/software/desi/perlmutter/desiconda/20240425-2.2.0/conda/lib/python3.10/site-packages/astropy/table/_column_mixins.pyx:62\u001b[0m, in \u001b[0;36mastropy.table._column_mixins.base_getitem\u001b[0;34m()\u001b[0m\n",
      "File \u001b[0;32m/global/common/software/desi/perlmutter/desiconda/20240425-2.2.0/conda/lib/python3.10/site-packages/astropy/table/_column_mixins.pyx:74\u001b[0m, in \u001b[0;36mastropy.table._column_mixins.column_getitem\u001b[0;34m()\u001b[0m\n",
      "\u001b[0;31mIndexError\u001b[0m: boolean index did not match indexed array along dimension 0; dimension is 31502 but corresponding boolean dimension is 25434"
     ]
    }
   ],
   "source": [
    "#find h1 mass matching RAs and DECs\n",
    "h1_table_ra = h1_mass[h1_mass['HIcode']==1]['RAdeg_HI']\n",
    "h1_table_dec = h1_mass[h1_mass['HIcode']==1]['DECdeg_HI']\n",
    "for sga_id in sga_ids: \n",
    "    sga = SGA[SGA['SGA_ID'] == sga_id]\n",
    "    h1_vals = h1_mass[(sga['RA'] <= (h1_table_ra + 0.01)) & (sga['RA'] >= (h1_table_ra - 0.01)) & \n",
    "                      (sga['DEC'] <= (h1_table_dec + 0.01)) & (sga['DEC'] >= (h1_table_dec - 0.01))]['logMH']\n",
    "    tf_mastertable['M_H1'][np.logical_and(tf_mastertable['SGA_ID'] == sga_id, tf_mastertable['M_R26'] > 0)] = h1_mass"
   ]
  },
  {
   "cell_type": "code",
   "execution_count": null,
   "id": "3266a5f0-3f46-4927-b382-e5531e22a81e",
   "metadata": {},
   "outputs": [],
   "source": [
    "# put target ids in list if mass exists\n",
    "sgas = []\n",
    "sga_ids = tf_mastertable['SGA_ID'][tf_mastertable['M_R26'] > 0]\n",
    "\n",
    "# find matching target ids for the first table\n",
    "for sga_id in sga_ids:\n",
    "    if len(h1_table[h1_table['SGA_ID'] == sga_id]) > 0:\n",
    "        targets.append(sga_id)\n",
    "\n",
    "#extract H1 data and update to mastertable\n",
    "for sga_id in sga_ids:\n",
    "    h1_mass = h1_table[h1_table['SGA_ID'] == sga_id]['LOGM'][0] #ask what columns are h1 mass!!!\n",
    "    h1_mass_err = h1_table[h1_table['SGA_ID'] == sga_id]['LOGM_ERR'][0] #ask what column is h1 error\n",
    "    tf_mastertable['M_H1'][np.logical_and(tf_mastertable['SGA_ID'] == sga_id, tf_mastertable['M_R26'] > 0)] = h1_mass\n",
    "    tf_mastertable['M_H1_ERR'][np.logical_and(tf_mastertable['SGA_ID'] == sga_id, tf_mastertable['M_R26'] > 0)] = h1_mass_err"
   ]
  }
 ],
 "metadata": {
  "kernelspec": {
   "display_name": "DESI main",
   "language": "python",
   "name": "desi-main"
  },
  "language_info": {
   "codemirror_mode": {
    "name": "ipython",
    "version": 3
   },
   "file_extension": ".py",
   "mimetype": "text/x-python",
   "name": "python",
   "nbconvert_exporter": "python",
   "pygments_lexer": "ipython3",
   "version": "3.10.14"
  }
 },
 "nbformat": 4,
 "nbformat_minor": 5
}
