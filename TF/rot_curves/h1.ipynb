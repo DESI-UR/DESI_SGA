{
 "cells": [
  {
   "cell_type": "code",
   "execution_count": 1,
   "id": "0de7109b-16f0-43c1-90e4-bfa852511776",
   "metadata": {
    "tags": []
   },
   "outputs": [],
   "source": [
    "# all imports\n",
    "import numpy as np\n",
    "import os\n",
    "import requests\n",
    "from astropy.table import Table, vstack\n",
    "import matplotlib.pyplot as plt\n",
    "import matplotlib.colors as mcolors\n",
    "import matplotlib.patches as mpatches\n",
    "import matplotlib.lines as mlines\n",
    "from astropy.io import fits\n",
    "from astropy.coordinates import SkyCoord\n",
    "from astropy import units as u\n",
    "from astropy.wcs import WCS\n",
    "import math\n",
    "import matplotlib as mpl\n",
    "from astropy.visualization.wcsaxes import SphericalCircle\n",
    "import pandas as pd\n",
    "import random\n",
    "from matplotlib.patches import Ellipse\n",
    "import ligo.skymap.plot\n",
    "from scipy.optimize import minimize\n",
    "import numdifftools as ndt\n",
    "from scipy.interpolate import griddata\n",
    "from matplotlib.tri import Triangulation\n",
    "from matplotlib.colors import LogNorm\n",
    "from matplotlib.pyplot import *"
   ]
  },
  {
   "cell_type": "code",
   "execution_count": 2,
   "id": "a88cbfc4-926b-48c1-bd2c-91500b196fbd",
   "metadata": {
    "tags": []
   },
   "outputs": [
    {
     "data": {
      "text/html": [
       "<div><i>Table length=5</i>\n",
       "<table id=\"table139662472199232\" class=\"table-striped table-bordered table-condensed\">\n",
       "<thead><tr><th>SGA_ID</th><th>SGA_GALAXY</th><th>GALAXY</th><th>PGC</th><th>RA_LEDA</th><th>DEC_LEDA</th><th>MORPHTYPE</th><th>PA_LEDA</th><th>D25_LEDA</th><th>BA_LEDA</th><th>Z_LEDA</th><th>SB_D25_LEDA</th><th>MAG_LEDA</th><th>BYHAND</th><th>REF</th><th>GROUP_ID</th><th>GROUP_NAME</th><th>GROUP_MULT</th><th>GROUP_PRIMARY</th><th>GROUP_RA</th><th>GROUP_DEC</th><th>GROUP_DIAMETER</th><th>BRICKNAME</th><th>RA</th><th>DEC</th><th>D26</th><th>D26_REF</th><th>PA</th><th>BA</th><th>RA_MOMENT</th><th>DEC_MOMENT</th><th>SMA_MOMENT</th><th>G_SMA50</th><th>R_SMA50</th><th>Z_SMA50</th><th>SMA_SB22</th><th>SMA_SB22.5</th><th>SMA_SB23</th><th>SMA_SB23.5</th><th>SMA_SB24</th><th>SMA_SB24.5</th><th>SMA_SB25</th><th>SMA_SB25.5</th><th>SMA_SB26</th><th>G_MAG_SB22</th><th>R_MAG_SB22</th><th>Z_MAG_SB22</th><th>G_MAG_SB22.5</th><th>R_MAG_SB22.5</th><th>Z_MAG_SB22.5</th><th>G_MAG_SB23</th><th>R_MAG_SB23</th><th>Z_MAG_SB23</th><th>G_MAG_SB23.5</th><th>R_MAG_SB23.5</th><th>Z_MAG_SB23.5</th><th>G_MAG_SB24</th><th>R_MAG_SB24</th><th>Z_MAG_SB24</th><th>G_MAG_SB24.5</th><th>R_MAG_SB24.5</th><th>Z_MAG_SB24.5</th><th>G_MAG_SB25</th><th>R_MAG_SB25</th><th>Z_MAG_SB25</th><th>G_MAG_SB25.5</th><th>R_MAG_SB25.5</th><th>Z_MAG_SB25.5</th><th>G_MAG_SB26</th><th>R_MAG_SB26</th><th>Z_MAG_SB26</th><th>SMA_SB22_ERR</th><th>SMA_SB22.5_ERR</th><th>SMA_SB23_ERR</th><th>SMA_SB23.5_ERR</th><th>SMA_SB24_ERR</th><th>SMA_SB24.5_ERR</th><th>SMA_SB25_ERR</th><th>SMA_SB25.5_ERR</th><th>SMA_SB26_ERR</th><th>G_MAG_SB22_ERR</th><th>R_MAG_SB22_ERR</th><th>Z_MAG_SB22_ERR</th><th>G_MAG_SB22.5_ERR</th><th>R_MAG_SB22.5_ERR</th><th>Z_MAG_SB22.5_ERR</th><th>G_MAG_SB23_ERR</th><th>R_MAG_SB23_ERR</th><th>Z_MAG_SB23_ERR</th><th>G_MAG_SB23.5_ERR</th><th>R_MAG_SB23.5_ERR</th><th>Z_MAG_SB23.5_ERR</th><th>G_MAG_SB24_ERR</th><th>R_MAG_SB24_ERR</th><th>Z_MAG_SB24_ERR</th><th>G_MAG_SB24.5_ERR</th><th>R_MAG_SB24.5_ERR</th><th>Z_MAG_SB24.5_ERR</th><th>G_MAG_SB25_ERR</th><th>R_MAG_SB25_ERR</th><th>Z_MAG_SB25_ERR</th><th>G_MAG_SB25.5_ERR</th><th>R_MAG_SB25.5_ERR</th><th>Z_MAG_SB25.5_ERR</th><th>G_MAG_SB26_ERR</th><th>R_MAG_SB26_ERR</th><th>Z_MAG_SB26_ERR</th><th>G_COG_PARAMS_MTOT</th><th>G_COG_PARAMS_M0</th><th>G_COG_PARAMS_ALPHA1</th><th>G_COG_PARAMS_ALPHA2</th><th>G_COG_PARAMS_CHI2</th><th>R_COG_PARAMS_MTOT</th><th>R_COG_PARAMS_M0</th><th>R_COG_PARAMS_ALPHA1</th><th>R_COG_PARAMS_ALPHA2</th><th>R_COG_PARAMS_CHI2</th><th>Z_COG_PARAMS_MTOT</th><th>Z_COG_PARAMS_M0</th><th>Z_COG_PARAMS_ALPHA1</th><th>Z_COG_PARAMS_ALPHA2</th><th>Z_COG_PARAMS_CHI2</th><th>ELLIPSEBIT</th><th>ALFALFA_AGCNr</th></tr></thead>\n",
       "<thead><tr><th>int64</th><th>bytes16</th><th>bytes29</th><th>int64</th><th>float64</th><th>float64</th><th>bytes21</th><th>float32</th><th>float32</th><th>float32</th><th>float32</th><th>float32</th><th>float32</th><th>bool</th><th>bytes13</th><th>int64</th><th>bytes35</th><th>int16</th><th>bool</th><th>float64</th><th>float64</th><th>float32</th><th>bytes8</th><th>float64</th><th>float64</th><th>float32</th><th>bytes4</th><th>float32</th><th>float32</th><th>float64</th><th>float64</th><th>float32</th><th>float32</th><th>float32</th><th>float32</th><th>float32</th><th>float32</th><th>float32</th><th>float32</th><th>float32</th><th>float32</th><th>float32</th><th>float32</th><th>float32</th><th>float32</th><th>float32</th><th>float32</th><th>float32</th><th>float32</th><th>float32</th><th>float32</th><th>float32</th><th>float32</th><th>float32</th><th>float32</th><th>float32</th><th>float32</th><th>float32</th><th>float32</th><th>float32</th><th>float32</th><th>float32</th><th>float32</th><th>float32</th><th>float32</th><th>float32</th><th>float32</th><th>float32</th><th>float32</th><th>float32</th><th>float32</th><th>float32</th><th>float32</th><th>float32</th><th>float32</th><th>float32</th><th>float32</th><th>float32</th><th>float32</th><th>float32</th><th>float32</th><th>float32</th><th>float32</th><th>float32</th><th>float32</th><th>float32</th><th>float32</th><th>float32</th><th>float32</th><th>float32</th><th>float32</th><th>float32</th><th>float32</th><th>float32</th><th>float32</th><th>float32</th><th>float32</th><th>float32</th><th>float32</th><th>float32</th><th>float32</th><th>float32</th><th>float32</th><th>float32</th><th>float32</th><th>float32</th><th>float32</th><th>float32</th><th>float32</th><th>float32</th><th>float32</th><th>float32</th><th>float32</th><th>float32</th><th>float32</th><th>float32</th><th>float32</th><th>float32</th><th>float32</th><th>float32</th><th>float32</th><th>float32</th><th>int32</th><th>int64</th></tr></thead>\n",
       "<tr><td>2</td><td>SGA-2020 2</td><td>PGC1283207</td><td>1283207</td><td>228.3770865</td><td>5.4232017</td><td>S?</td><td>152.2</td><td>0.36307806</td><td>0.724436</td><td>0.03463229</td><td>23.40448</td><td>16.976</td><td>False</td><td>LEDA-20181114</td><td>0</td><td>PGC1283207</td><td>1</td><td>True</td><td>228.3770865</td><td>5.4232017</td><td>0.36307806</td><td>2283p055</td><td>228.3770803831908</td><td>5.423191398593787</td><td>0.49470574</td><td>SB26</td><td>158.20142</td><td>0.545691</td><td>228.37700918822188</td><td>5.4232652570544015</td><td>10.897086</td><td>3.3509698</td><td>3.1147978</td><td>3.240862</td><td>5.902337</td><td>6.9126143</td><td>7.941369</td><td>8.997992</td><td>10.073601</td><td>11.199986</td><td>12.391357</td><td>13.561038</td><td>14.841172</td><td>16.966799</td><td>16.108246</td><td>15.486356</td><td>16.879545</td><td>16.024958</td><td>15.400715</td><td>16.818878</td><td>15.967034</td><td>15.341793</td><td>16.776297</td><td>15.925804</td><td>15.300776</td><td>16.746685</td><td>15.897334</td><td>15.272053</td><td>16.725166</td><td>15.876816</td><td>15.2521105</td><td>16.708357</td><td>15.862035</td><td>15.237181</td><td>16.696539</td><td>15.851936</td><td>15.226998</td><td>16.689613</td><td>15.844313</td><td>15.21976</td><td>0.013392451</td><td>0.02354</td><td>0.021872982</td><td>0.01736985</td><td>0.024445537</td><td>0.039866067</td><td>0.05026544</td><td>0.08455789</td><td>0.122911856</td><td>0.005682776</td><td>0.0054258136</td><td>0.0049038026</td><td>0.005588406</td><td>0.005323561</td><td>0.0047632363</td><td>0.00543534</td><td>0.005177031</td><td>0.0046343105</td><td>0.0053025587</td><td>0.005040888</td><td>0.0045181247</td><td>0.005206092</td><td>0.0049438984</td><td>0.0044374703</td><td>0.0051483097</td><td>0.0048758644</td><td>0.0043834248</td><td>0.0051032505</td><td>0.0048264163</td><td>0.004344248</td><td>0.0050705094</td><td>0.004792021</td><td>0.004319857</td><td>0.005054293</td><td>0.004765629</td><td>0.0043044444</td><td>16.65942</td><td>0.34037337</td><td>0.2978292</td><td>3.0239506</td><td>0.07928849</td><td>15.820566</td><td>0.2640441</td><td>0.34559453</td><td>3.3033552</td><td>0.003811298</td><td>15.195567</td><td>0.29826432</td><td>0.3001073</td><td>3.2333765</td><td>0.011723555</td><td>0</td><td>-1</td></tr>\n",
       "<tr><td>3</td><td>SGA-2020 3</td><td>PGC1310416</td><td>1310416</td><td>202.54443750000002</td><td>6.9345944</td><td>Sc</td><td>159.26</td><td>0.4017908</td><td>0.7816278</td><td>0.073888786</td><td>23.498482</td><td>16.85</td><td>False</td><td>LEDA-20181114</td><td>1</td><td>PGC1310416</td><td>1</td><td>True</td><td>202.54443750000002</td><td>6.9345944</td><td>0.4017908</td><td>2025p070</td><td>202.5444619671207</td><td>6.9346244322326624</td><td>0.55350494</td><td>SB26</td><td>161.5937</td><td>0.7291764</td><td>202.54432739596137</td><td>6.934806737209989</td><td>15.746941</td><td>5.6416235</td><td>5.2647552</td><td>5.0895185</td><td>5.9838247</td><td>7.4356494</td><td>8.728868</td><td>10.087478</td><td>11.529764</td><td>12.818195</td><td>14.115497</td><td>15.319822</td><td>16.605148</td><td>16.963299</td><td>16.307854</td><td>15.806882</td><td>16.729511</td><td>16.097378</td><td>15.615527</td><td>16.606344</td><td>15.990707</td><td>15.518403</td><td>16.525967</td><td>15.917321</td><td>15.450624</td><td>16.462585</td><td>15.859485</td><td>15.397182</td><td>16.419558</td><td>15.820947</td><td>15.36243</td><td>16.390558</td><td>15.796369</td><td>15.338905</td><td>16.376112</td><td>15.782492</td><td>15.323709</td><td>16.364115</td><td>15.773462</td><td>15.313725</td><td>0.036992554</td><td>0.034982767</td><td>0.037769336</td><td>0.049429573</td><td>0.052699674</td><td>0.074114166</td><td>0.07914538</td><td>0.09781406</td><td>0.15534972</td><td>0.016095797</td><td>0.019181909</td><td>0.021539452</td><td>0.013955905</td><td>0.016594552</td><td>0.018640138</td><td>0.012786752</td><td>0.015244632</td><td>0.01715491</td><td>0.011973826</td><td>0.014366956</td><td>0.016208366</td><td>0.011358372</td><td>0.013676575</td><td>0.015474222</td><td>0.010944939</td><td>0.013225297</td><td>0.015011175</td><td>0.010691595</td><td>0.012931233</td><td>0.014687982</td><td>0.010546411</td><td>0.012796015</td><td>0.014518412</td><td>0.010457551</td><td>0.012685407</td><td>0.014379212</td><td>16.284733</td><td>1.0914493</td><td>0.24674739</td><td>2.4320207</td><td>0.68685365</td><td>15.704403</td><td>0.8764323</td><td>0.27360612</td><td>2.4995425</td><td>0.49343896</td><td>15.235263</td><td>1.3098688</td><td>0.17866786</td><td>2.1750498</td><td>0.20391206</td><td>0</td><td>-1</td></tr>\n",
       "<tr><td>4</td><td>SGA-2020 4</td><td>SDSSJ145059.93+135143.0</td><td>4435547</td><td>222.749787</td><td>13.8619111</td><td>S?</td><td>44.57</td><td>0.33342642</td><td>0.6637431</td><td>0.07567602</td><td>24.457481</td><td>18.214</td><td>False</td><td>LEDA-20181114</td><td>2</td><td>SDSSJ145059.93+135143.0</td><td>1</td><td>True</td><td>222.749787</td><td>13.8619111</td><td>0.33342642</td><td>2228p137</td><td>222.7497050504303</td><td>13.861929561160224</td><td>0.37067476</td><td>SB26</td><td>45.28537</td><td>0.70922077</td><td>222.749650475464</td><td>13.862052070022896</td><td>8.877115</td><td>4.652771</td><td>4.4837785</td><td>4.4959745</td><td>2.01033</td><td>3.3967943</td><td>4.76257</td><td>6.043787</td><td>7.242806</td><td>8.250407</td><td>9.158723</td><td>10.083457</td><td>11.120243</td><td>19.97595</td><td>19.190666</td><td>18.649523</td><td>19.098536</td><td>18.397219</td><td>17.899643</td><td>18.624952</td><td>17.967802</td><td>17.50231</td><td>18.35278</td><td>17.718002</td><td>17.265854</td><td>18.192762</td><td>17.5654</td><td>17.115404</td><td>18.10496</td><td>17.480022</td><td>17.033989</td><td>18.053415</td><td>17.430794</td><td>16.982971</td><td>18.020155</td><td>17.399996</td><td>16.948252</td><td>17.994783</td><td>17.377092</td><td>16.924469</td><td>0.02113719</td><td>0.03639431</td><td>0.051901262</td><td>0.06539029</td><td>0.08552586</td><td>0.07008602</td><td>0.070394725</td><td>0.08394975</td><td>0.113649584</td><td>0.013428732</td><td>0.017600043</td><td>0.016373685</td><td>0.012251812</td><td>0.014566466</td><td>0.013732588</td><td>0.012644532</td><td>0.014030071</td><td>0.013153961</td><td>0.012747069</td><td>0.013512552</td><td>0.012818239</td><td>0.012865601</td><td>0.01324455</td><td>0.012532208</td><td>0.012762528</td><td>0.013058522</td><td>0.012420634</td><td>0.01252645</td><td>0.012827468</td><td>0.012283978</td><td>0.012320441</td><td>0.012607317</td><td>0.012104107</td><td>0.0121167945</td><td>0.01244376</td><td>0.011985352</td><td>17.896797</td><td>0.5557265</td><td>0.25455818</td><td>3.167909</td><td>1.0522435</td><td>17.28287</td><td>0.4885815</td><td>0.2782499</td><td>3.2144456</td><td>1.3733263</td><td>16.807674</td><td>0.5177045</td><td>0.32264626</td><td>2.900518</td><td>1.8054093</td><td>0</td><td>-1</td></tr>\n",
       "<tr><td>7</td><td>SGA-2020 7</td><td>PGC1742504</td><td>1742504</td><td>182.0888085</td><td>25.6022764</td><td>Sbc</td><td>84.97</td><td>0.548277</td><td>0.25118864</td><td>0.10090814</td><td>24.91348</td><td>17.59</td><td>False</td><td>LEDA-20181114</td><td>3</td><td>PGC1742504</td><td>1</td><td>True</td><td>182.0888085</td><td>25.6022764</td><td>0.548277</td><td>1820p255</td><td>182.08882232629614</td><td>25.60226821438983</td><td>0.8883204</td><td>SB26</td><td>84.857475</td><td>0.19753796</td><td>182.08873760544392</td><td>25.602311195157757</td><td>19.779116</td><td>6.5958204</td><td>6.0386286</td><td>5.8089786</td><td>9.279068</td><td>10.949478</td><td>12.652142</td><td>14.446171</td><td>16.323679</td><td>18.392954</td><td>20.915508</td><td>23.566542</td><td>26.649612</td><td>17.390274</td><td>16.360935</td><td>15.531964</td><td>17.285898</td><td>16.262264</td><td>15.440768</td><td>17.2167</td><td>16.195492</td><td>15.380734</td><td>17.16217</td><td>16.144245</td><td>15.334935</td><td>17.130178</td><td>16.110302</td><td>15.304758</td><td>17.104496</td><td>16.084463</td><td>15.280803</td><td>17.081282</td><td>16.061373</td><td>15.2589855</td><td>17.063671</td><td>16.045204</td><td>15.243196</td><td>17.046705</td><td>16.031244</td><td>15.23268</td><td>0.04351465</td><td>0.055440858</td><td>0.052207235</td><td>0.07507412</td><td>0.0793679</td><td>0.10347854</td><td>0.13569456</td><td>0.13104819</td><td>0.17234002</td><td>0.03885276</td><td>0.03744209</td><td>0.03786608</td><td>0.035534665</td><td>0.03441038</td><td>0.03503794</td><td>0.033557214</td><td>0.032548346</td><td>0.033348277</td><td>0.031964395</td><td>0.03106612</td><td>0.031957533</td><td>0.031133845</td><td>0.030202182</td><td>0.031190341</td><td>0.030430589</td><td>0.029511228</td><td>0.030530946</td><td>0.02975241</td><td>0.028853998</td><td>0.029866546</td><td>0.02928568</td><td>0.0284345</td><td>0.029445464</td><td>0.028843498</td><td>0.028076617</td><td>0.029169334</td><td>16.995174</td><td>21.083004</td><td>0.0164273</td><td>1.9079465</td><td>0.029703742</td><td>15.991165</td><td>0.7657307</td><td>0.52285546</td><td>2.3045986</td><td>0.006013103</td><td>15.191324</td><td>1.0408205</td><td>0.32956335</td><td>2.1520333</td><td>0.004725194</td><td>0</td><td>-1</td></tr>\n",
       "<tr><td>18</td><td>SGA-2020 18</td><td>2MASXJ12340801+4535444</td><td>3550748</td><td>188.5335525</td><td>45.5956434</td><td>E</td><td>168.65</td><td>0.53088444</td><td>0.6950243</td><td>0.07609531</td><td>23.97948</td><td>16.726</td><td>False</td><td>LEDA-20181114</td><td>4</td><td>2MASXJ12340801+4535444</td><td>1</td><td>True</td><td>188.5335525</td><td>45.5956434</td><td>0.53088444</td><td>1883p455</td><td>188.53364923054596</td><td>45.595620212931856</td><td>0.73435897</td><td>SB26</td><td>166.25127</td><td>0.70995796</td><td>188.53349052789085</td><td>45.59567446403057</td><td>15.694805</td><td>5.091253</td><td>4.670616</td><td>2.9429996</td><td>5.219665</td><td>6.6119533</td><td>8.228266</td><td>10.109745</td><td>12.170589</td><td>14.364073</td><td>16.722517</td><td>19.18709</td><td>22.03077</td><td>17.208511</td><td>16.224203</td><td>15.566424</td><td>17.050343</td><td>16.080097</td><td>15.443468</td><td>16.921791</td><td>15.962402</td><td>15.347263</td><td>16.814959</td><td>15.864242</td><td>15.27134</td><td>16.729906</td><td>15.787886</td><td>15.218466</td><td>16.664564</td><td>15.730083</td><td>15.182751</td><td>16.61991</td><td>15.686324</td><td>15.1601305</td><td>16.585676</td><td>15.654064</td><td>15.148039</td><td>16.558054</td><td>15.629669</td><td>15.141826</td><td>0.032001704</td><td>0.043849397</td><td>0.045203492</td><td>0.072918765</td><td>0.06263939</td><td>0.07675708</td><td>0.10399303</td><td>0.07780949</td><td>0.14017467</td><td>0.016467415</td><td>0.021250801</td><td>0.032092847</td><td>0.0149329165</td><td>0.019061867</td><td>0.028947951</td><td>0.01369758</td><td>0.01736746</td><td>0.026648495</td><td>0.012623343</td><td>0.015980754</td><td>0.024998168</td><td>0.011793644</td><td>0.014977396</td><td>0.023862366</td><td>0.011184664</td><td>0.014255281</td><td>0.023120966</td><td>0.010785815</td><td>0.013740733</td><td>0.022603082</td><td>0.010472503</td><td>0.013351409</td><td>0.022360764</td><td>0.010212836</td><td>0.013043255</td><td>0.022296576</td><td>16.471447</td><td>0.3236818</td><td>1.9206839</td><td>2.3249283</td><td>0.0973919</td><td>15.540598</td><td>0.3247282</td><td>1.7439244</td><td>2.1774826</td><td>0.023485765</td><td>15.124181</td><td>0.16547345</td><td>1.4694684</td><td>3.3948786</td><td>0.028653827</td><td>0</td><td>-1</td></tr>\n",
       "</table></div>"
      ],
      "text/plain": [
       "<Table length=5>\n",
       "SGA_ID  SGA_GALAXY          GALAXY         ... ELLIPSEBIT ALFALFA_AGCNr\n",
       "int64    bytes16           bytes29         ...   int32        int64    \n",
       "------ ----------- ----------------------- ... ---------- -------------\n",
       "     2  SGA-2020 2              PGC1283207 ...          0            -1\n",
       "     3  SGA-2020 3              PGC1310416 ...          0            -1\n",
       "     4  SGA-2020 4 SDSSJ145059.93+135143.0 ...          0            -1\n",
       "     7  SGA-2020 7              PGC1742504 ...          0            -1\n",
       "    18 SGA-2020 18  2MASXJ12340801+4535444 ...          0            -1"
      ]
     },
     "execution_count": 2,
     "metadata": {},
     "output_type": "execute_result"
    }
   ],
   "source": [
    "# define directories\n",
    "data_dir = '/global/cfs/projectdirs/desi/science/td/pv/tfgalaxies/'\n",
    "cache_dir = '/pscratch/sd/j/jjpim/cache/'\n",
    "scratch_dir = '/pscratch/sd/j/jjpim/'\n",
    "v_dir = '/pscratch/sd/j/jjpim/massmag/'\n",
    "\n",
    "# load updated master table\n",
    "tf_mastertable = Table.read(data_dir + 'tf_mastertable_massmag_stellar.fits') \n",
    "\n",
    "#load SGA table\n",
    "SGA = Table.read('/global/cfs/cdirs/cosmo/data/sga/2020/SGA-2020.fits', 'ELLIPSE')\n",
    "\n",
    "#load H1 index\n",
    "SGA_H1 = Table.read('/pscratch/sd/k/kadglass/data/SGA-2020_ALFALFA.fits')\n",
    "SGA_H1['ALFALFA_index'].name = 'ALFALFA_AGCNr'\n",
    "\n",
    "\n",
    "alfalfa = Table.read('/pscratch/sd/k/kadglass/data/a100.code12.table2.190808.txt', \n",
    "                     format='ascii.csv',\n",
    "                     include_names=['AGCNr', 'logMH', 'siglogMH', 'W50', 'sigW', 'W20'])\n",
    "\n",
    "SGA_H1[:5]"
   ]
  },
  {
   "cell_type": "code",
   "execution_count": 3,
   "id": "cae76fad-bcc5-4d0a-9959-18172b0a34fa",
   "metadata": {
    "tags": []
   },
   "outputs": [
    {
     "data": {
      "text/html": [
       "<div><i>Table length=5</i>\n",
       "<table id=\"table139662472197504\" class=\"table-striped table-bordered table-condensed\">\n",
       "<thead><tr><th>AGCNr</th><th>W50</th><th>sigW</th><th>W20</th><th>logMH</th><th>siglogMH</th></tr></thead>\n",
       "<thead><tr><th>int64</th><th>int64</th><th>int64</th><th>int64</th><th>float64</th><th>float64</th></tr></thead>\n",
       "<tr><td>105367</td><td>274</td><td>39</td><td>281</td><td>9.87</td><td>0.05</td></tr>\n",
       "<tr><td>333313</td><td>313</td><td>20</td><td>333</td><td>10.01</td><td>0.05</td></tr>\n",
       "<tr><td>331060</td><td>160</td><td>4</td><td>184</td><td>9.07</td><td>0.18</td></tr>\n",
       "<tr><td>331061</td><td>260</td><td>45</td><td>268</td><td>9.29</td><td>0.06</td></tr>\n",
       "<tr><td>104570</td><td>245</td><td>6</td><td>250</td><td>9.64</td><td>0.06</td></tr>\n",
       "</table></div>"
      ],
      "text/plain": [
       "<Table length=5>\n",
       "AGCNr   W50   sigW  W20   logMH  siglogMH\n",
       "int64  int64 int64 int64 float64 float64 \n",
       "------ ----- ----- ----- ------- --------\n",
       "105367   274    39   281    9.87     0.05\n",
       "333313   313    20   333   10.01     0.05\n",
       "331060   160     4   184    9.07     0.18\n",
       "331061   260    45   268    9.29     0.06\n",
       "104570   245     6   250    9.64     0.06"
      ]
     },
     "execution_count": 3,
     "metadata": {},
     "output_type": "execute_result"
    }
   ],
   "source": [
    "alfalfa[:5]"
   ]
  },
  {
   "cell_type": "code",
   "execution_count": 4,
   "id": "53c18ed6-cd7c-4c84-ae59-36b8e9d1ec14",
   "metadata": {
    "tags": []
   },
   "outputs": [
    {
     "data": {
      "text/html": [
       "<div><i>Table length=11</i>\n",
       "<table id=\"table139662472197264\" class=\"table-striped table-bordered table-condensed\">\n",
       "<thead><tr><th>TARGETID</th><th>TARGET_RA</th><th>TARGET_DEC</th><th>HEALPIX</th><th>SURVEY</th><th>Z</th><th>ZERR</th><th>ZWARN</th><th>DELTACHI2</th><th>FILENAME</th><th>PVTYPE</th><th>SGA_ID</th><th>RA</th><th>DEC</th><th>OBS_IN_SV</th><th>SKY_FIBER_DIST</th><th>SKY_FIBER_DIST_R26</th><th>ROT_CURVE</th><th>EOA</th><th>VELOCITY</th><th>VERR</th><th>Z_CENTER</th><th>ROTCURVE_CHI2</th><th>VMAX</th><th>VMAX_ERR</th><th>RTURN</th><th>RTURN_ERR</th><th>ALPHA</th><th>ALPHA_ERR</th><th>INCLINATION</th><th>VROT_R26</th><th>VROT_R26_ERR</th><th>M_R26</th><th>M_R26_ERR</th><th>VROT_3P5R26</th><th>VROT_3P5R26_ERR</th><th>M_3P5R26</th><th>M_3P5R26_ERR</th><th>RABS_MAG26</th><th>M_STELLAR_CIGALE</th><th>M_STELLAR_CIGALE_ERR</th><th>M_STELLAR_PROVABGS</th><th>M_STELLAR_PROVABGS_ERR</th></tr></thead>\n",
       "<thead><tr><th>int64</th><th>float64</th><th>float64</th><th>int64</th><th>bytes4</th><th>float64</th><th>float64</th><th>int64</th><th>float64</th><th>bytes65</th><th>bytes3</th><th>int64</th><th>float64</th><th>float64</th><th>float64</th><th>float64</th><th>float64</th><th>float64</th><th>float64</th><th>float64</th><th>float64</th><th>float64</th><th>float64</th><th>float64</th><th>float64</th><th>float64</th><th>float64</th><th>float64</th><th>float64</th><th>float64</th><th>float64</th><th>float64</th><th>float64</th><th>float64</th><th>float64</th><th>float64</th><th>float64</th><th>float64</th><th>float64</th><th>float64</th><th>float64</th><th>float64</th><th>float64</th></tr></thead>\n",
       "<tr><td>1070919447478281</td><td>218.467126790284</td><td>35.6021357274572</td><td>10517</td><td>sv3</td><td>0.689349774676162</td><td>0.000105899659336298</td><td>4</td><td>1.1599750071764</td><td>fuji/healpix/sv3/bright/105/10517/redrock-sv3-bright-10517.fits</td><td>TFT</td><td>202236</td><td>218.46712679028371</td><td>35.60213572745723</td><td>1.0</td><td>0.010328013447839866</td><td>0.9999999757533122</td><td>1.0</td><td>0.0</td><td>189632.3345066882</td><td>31.761552886604264</td><td>0.0347949861264779</td><td>--</td><td>--</td><td>--</td><td>--</td><td>--</td><td>--</td><td>--</td><td>--</td><td>--</td><td>0.0</td><td>--</td><td>--</td><td>--</td><td>0.0</td><td>--</td><td>--</td><td>--</td><td>--</td><td>--</td><td>--</td><td>--</td></tr>\n",
       "<tr><td>1070919447478283</td><td>218.473204372212</td><td>35.6069798702523</td><td>10517</td><td>sv3</td><td>0.0342643027523248</td><td>5.81042710273245e-06</td><td>0</td><td>521.161364927888</td><td>fuji/healpix/sv3/bright/105/10517/redrock-sv3-bright-10517.fits</td><td>TFT</td><td>202236</td><td>218.47320437221234</td><td>35.60697987025231</td><td>1.0</td><td>0.003408244437794044</td><td>0.32999999199926</td><td>1.0</td><td>0.0</td><td>-153.74530732177234</td><td>1.9748830179274115</td><td>0.0347949861264779</td><td>57.053585993905905</td><td>197.6158181854043</td><td>114.27829537570685</td><td>0.3001536230733187</td><td>0.31094870739361663</td><td>2.000207125110637</td><td>5.976812825788214</td><td>1.4711405903507528</td><td>197.59066947535428</td><td>873.2614200215331</td><td>11.232204063553201</td><td>0.992955185455564</td><td>197.6137654022168</td><td>1241.2374867700123</td><td>11.776373629371527</td><td>1.1323319805123848</td><td>--</td><td>9.759396229228562</td><td>0.07878821529625392</td><td>--</td><td>--</td></tr>\n",
       "<tr><td>39632991256840767</td><td>218.476198078587</td><td>35.6093656791547</td><td>10517</td><td>sv3</td><td>0.0347951441075021</td><td>4.38416406810812e-06</td><td>0</td><td>3660.84922169894</td><td>fuji/healpix/sv3/bright/105/10517/redrock-sv3-bright-10517.fits</td><td>TFT</td><td>202236</td><td>218.47619807858737</td><td>35.60936567915472</td><td>1.0</td><td>0.0</td><td>0.0</td><td>1.0</td><td>0.0</td><td>0.0457689882425998</td><td>1.6103905603883806</td><td>0.0347949861264779</td><td>57.053585993905905</td><td>197.6158181854043</td><td>114.27829537570685</td><td>0.3001536230733187</td><td>0.31094870739361663</td><td>2.000207125110637</td><td>5.976812825788214</td><td>1.4711405903507528</td><td>197.59066947535428</td><td>873.2614200215331</td><td>11.232204063553201</td><td>0.992955185455564</td><td>197.6137654022168</td><td>1241.2374867700123</td><td>11.776373629371527</td><td>1.1323319805123848</td><td>--</td><td>9.759396229228562</td><td>0.07878821529625392</td><td>--</td><td>--</td></tr>\n",
       "<tr><td>1070919447478282</td><td>218.470120134196</td><td>35.6045216866714</td><td>10517</td><td>sv3</td><td>0.035417316436115</td><td>3.76541421700099e-05</td><td>0</td><td>9.22480585216545</td><td>fuji/healpix/sv3/bright/105/10517/redrock-sv3-bright-10517.fits</td><td>TFT</td><td>202236</td><td>218.47012013419638</td><td>35.604521686671355</td><td>1.0</td><td>0.006919769010041057</td><td>0.6699999837535908</td><td>1.0</td><td>0.0</td><td>180.29651835904573</td><td>11.32671500875773</td><td>0.0347949861264779</td><td>57.053585993905905</td><td>197.6158181854043</td><td>114.27829537570685</td><td>0.3001536230733187</td><td>0.31094870739361663</td><td>2.000207125110637</td><td>5.976812825788214</td><td>1.4711405903507528</td><td>197.59066947535428</td><td>873.2614200215331</td><td>11.232204063553201</td><td>0.992955185455564</td><td>197.6137654022168</td><td>1241.2374867700123</td><td>11.776373629371527</td><td>1.1323319805123848</td><td>--</td><td>9.759396229228562</td><td>0.07878821529625392</td><td>--</td><td>--</td></tr>\n",
       "<tr><td>1070919447478284</td><td>218.47919196352</td><td>35.6117514140064</td><td>10517</td><td>sv3</td><td>0.0352543507475819</td><td>2.11623843739911e-05</td><td>0</td><td>39.4392753937282</td><td>fuji/healpix/sv3/bright/105/10517/redrock-sv3-bright-10517.fits</td><td>TFT</td><td>202236</td><td>218.47919196352018</td><td>35.61175141400644</td><td>1.0</td><td>0.003408244437787266</td><td>0.3299999919986037</td><td>1.0</td><td>0.0</td><td>133.08341335760971</td><td>6.412199866829514</td><td>0.0347949861264779</td><td>57.053585993905905</td><td>197.6158181854043</td><td>114.27829537570685</td><td>0.3001536230733187</td><td>0.31094870739361663</td><td>2.000207125110637</td><td>5.976812825788214</td><td>1.4711405903507528</td><td>197.59066947535428</td><td>873.2614200215331</td><td>11.232204063553201</td><td>0.992955185455564</td><td>197.6137654022168</td><td>1241.2374867700123</td><td>11.776373629371527</td><td>1.1323319805123848</td><td>--</td><td>9.759396229228562</td><td>0.07878821529625392</td><td>--</td><td>--</td></tr>\n",
       "<tr><td>1084113587011596</td><td>218.47919196352</td><td>35.6117514140064</td><td>10517</td><td>sv3</td><td>0.0352300902375281</td><td>1.03763672224515e-05</td><td>0</td><td>221.168140199035</td><td>fuji/healpix/sv3/dark/105/10517/redrock-sv3-dark-10517.fits</td><td>TFT</td><td>202236</td><td>218.47919196352018</td><td>35.61175141400644</td><td>1.0</td><td>0.003408244437787266</td><td>0.3299999919986037</td><td>1.0</td><td>0.0</td><td>126.05485404016484</td><td>3.246948835981131</td><td>0.0347949861264779</td><td>57.053585993905905</td><td>197.6158181854043</td><td>114.27829537570685</td><td>0.3001536230733187</td><td>0.31094870739361663</td><td>2.000207125110637</td><td>5.976812825788214</td><td>1.4711405903507528</td><td>197.59066947535428</td><td>873.2614200215331</td><td>11.232204063553201</td><td>0.992955185455564</td><td>197.6137654022168</td><td>1241.2374867700123</td><td>11.776373629371527</td><td>1.1323319805123848</td><td>--</td><td>9.759396229228562</td><td>0.07878821529625392</td><td>--</td><td>--</td></tr>\n",
       "<tr><td>1070919447478286</td><td>218.48527100654</td><td>35.6165949508643</td><td>10517</td><td>sv3</td><td>1.00299772407763</td><td>0.000101583199241599</td><td>4</td><td>1.11134199798107</td><td>fuji/healpix/sv3/bright/105/10517/redrock-sv3-bright-10517.fits</td><td>TFT</td><td>202236</td><td>218.4852710065401</td><td>35.61659495086426</td><td>1.0</td><td>0.010328013447859623</td><td>0.9999999757552251</td><td>1.0</td><td>0.0</td><td>280499.8889096171</td><td>30.468089762167974</td><td>0.0347949861264779</td><td>--</td><td>--</td><td>--</td><td>--</td><td>--</td><td>--</td><td>--</td><td>--</td><td>--</td><td>0.0</td><td>--</td><td>--</td><td>--</td><td>0.0</td><td>--</td><td>--</td><td>--</td><td>--</td><td>--</td><td>--</td><td>--</td></tr>\n",
       "<tr><td>1084113587011598</td><td>218.48527100654</td><td>35.6165949508643</td><td>10517</td><td>sv3</td><td>0.796100331722565</td><td>9.98304331941763e-05</td><td>4</td><td>1.62071186304092</td><td>fuji/healpix/sv3/dark/105/10517/redrock-sv3-dark-10517.fits</td><td>TFT</td><td>202236</td><td>218.4852710065401</td><td>35.61659495086426</td><td>1.0</td><td>0.010328013447859623</td><td>0.9999999757552251</td><td>1.0</td><td>0.0</td><td>220559.24497579137</td><td>29.94287314076909</td><td>0.0347949861264779</td><td>--</td><td>--</td><td>--</td><td>--</td><td>--</td><td>--</td><td>--</td><td>--</td><td>--</td><td>0.0</td><td>--</td><td>--</td><td>--</td><td>0.0</td><td>--</td><td>--</td><td>--</td><td>--</td><td>--</td><td>--</td><td>--</td></tr>\n",
       "<tr><td>1070919447478285</td><td>218.482276759017</td><td>35.6142093663915</td><td>10517</td><td>sv3</td><td>0.509855419264157</td><td>0.000102081052325666</td><td>4</td><td>2.84888510033488</td><td>fuji/healpix/sv3/bright/105/10517/redrock-sv3-bright-10517.fits</td><td>TFT</td><td>202236</td><td>218.48227675901688</td><td>35.614209366391506</td><td>1.0</td><td>0.0069197690100880815</td><td>0.6699999837581441</td><td>1.0</td><td>0.0</td><td>137630.67743689506</td><td>30.617273077854588</td><td>0.0347949861264779</td><td>--</td><td>--</td><td>--</td><td>--</td><td>--</td><td>--</td><td>--</td><td>--</td><td>--</td><td>0.0</td><td>--</td><td>--</td><td>--</td><td>0.0</td><td>--</td><td>--</td><td>--</td><td>--</td><td>--</td><td>--</td><td>--</td></tr>\n",
       "<tr><td>2843332191453186</td><td>218.47256936654</td><td>35.6064737800572</td><td>10517</td><td>main</td><td>0.0342515044237441</td><td>1.21527789211158e-05</td><td>0</td><td>189.519000895321</td><td>iron/healpix/main/dark/105/10517/redrock-main-dark-10517.fits</td><td>TFT</td><td>202236</td><td>218.47256936654045</td><td>35.60647378005724</td><td>1.0</td><td>0.00413120537913836</td><td>0.39999999030155864</td><td>1.0</td><td>0.0</td><td>-157.45313586263148</td><td>3.7602643961305677</td><td>0.0347949861264779</td><td>57.053585993905905</td><td>197.6158181854043</td><td>114.27829537570685</td><td>0.3001536230733187</td><td>0.31094870739361663</td><td>2.000207125110637</td><td>5.976812825788214</td><td>1.4711405903507528</td><td>197.59066947535428</td><td>873.2614200215331</td><td>11.232204063553201</td><td>0.992955185455564</td><td>197.6137654022168</td><td>1241.2374867700123</td><td>11.776373629371527</td><td>1.1323319805123848</td><td>--</td><td>9.759396229228562</td><td>0.07878821529625392</td><td>--</td><td>--</td></tr>\n",
       "<tr><td>39632991256840767</td><td>218.476198078587</td><td>35.6093656791547</td><td>10517</td><td>sv3</td><td>0.0347948281454537</td><td>4.39496834244275e-06</td><td>0</td><td>3817.83105362952</td><td>iron/healpix/sv3/bright/105/10517/redrock-sv3-bright-10517.fits</td><td>TFT</td><td>202236</td><td>218.47619807858737</td><td>35.60936567915472</td><td>1.0</td><td>0.0</td><td>0.0</td><td>1.0</td><td>0.0</td><td>-0.04576898820931615</td><td>1.6130352269986514</td><td>0.0347949861264779</td><td>57.053585993905905</td><td>197.6158181854043</td><td>114.27829537570685</td><td>0.3001536230733187</td><td>0.31094870739361663</td><td>2.000207125110637</td><td>5.976812825788214</td><td>1.4711405903507528</td><td>197.59066947535428</td><td>873.2614200215331</td><td>11.232204063553201</td><td>0.992955185455564</td><td>197.6137654022168</td><td>1241.2374867700123</td><td>11.776373629371527</td><td>1.1323319805123848</td><td>--</td><td>9.759396229228562</td><td>0.07878821529625392</td><td>--</td><td>--</td></tr>\n",
       "</table></div>"
      ],
      "text/plain": [
       "<Table length=11>\n",
       "     TARGETID        TARGET_RA     ... M_STELLAR_PROVABGS M_STELLAR_PROVABGS_ERR\n",
       "      int64           float64      ...      float64              float64        \n",
       "----------------- ---------------- ... ------------------ ----------------------\n",
       " 1070919447478281 218.467126790284 ...                 --                     --\n",
       " 1070919447478283 218.473204372212 ...                 --                     --\n",
       "39632991256840767 218.476198078587 ...                 --                     --\n",
       " 1070919447478282 218.470120134196 ...                 --                     --\n",
       " 1070919447478284  218.47919196352 ...                 --                     --\n",
       " 1084113587011596  218.47919196352 ...                 --                     --\n",
       " 1070919447478286  218.48527100654 ...                 --                     --\n",
       " 1084113587011598  218.48527100654 ...                 --                     --\n",
       " 1070919447478285 218.482276759017 ...                 --                     --\n",
       " 2843332191453186  218.47256936654 ...                 --                     --\n",
       "39632991256840767 218.476198078587 ...                 --                     --"
      ]
     },
     "execution_count": 4,
     "metadata": {},
     "output_type": "execute_result"
    }
   ],
   "source": [
    "tf_mastertable[tf_mastertable['SGA_ID']==202236 ]"
   ]
  },
  {
   "cell_type": "code",
   "execution_count": 5,
   "id": "22af460b-5681-4d8e-b233-d233a87e3039",
   "metadata": {
    "tags": []
   },
   "outputs": [],
   "source": [
    "sga_ids = [9769, 11977, 12892, 14501, 16383, 19235, 19278, 25532, 30149, 31220, 32484, 36904, 37543, 46327, 58617, 73111, 88963, 91660, 90791, 106536, \n",
    "           114405, 114489, 122580, 126630, 125611, 128163, 128411, 130766, 149502, 153504, 175220, 176736, 184044, 186239, 189685, 188525, 190308, \n",
    "           192158, 196470, 199038, 202236, 205028, 209429, 212382, 218773, 235556, 254532, 272164, 272562, 276638, 288715, 289743, 291766, 300446, \n",
    "           302062, 305831, 309378, 319942, 330678, 349027, 349346, 363344, 373692, 378842, 384420, 389177, 393190, 395070, 398443, 398532, 416531, \n",
    "           431242, 430161, 432294, 450689, 450566, 455486, 457147, 458798, 462867, 466872, 467582, 471327, 469868, 471893, 473436, 477805, 481956, \n",
    "           485800, 493017, 507499, 526710, 544419, 544810, 544799, 544943, 548724, 548848, 550458, 564440, 569298, 568664, 570086, 582248, 591927, \n",
    "           607528, 608015, 629144, 630029, 630390, 635043, 638386, 641578, 643231, 643845, 644940, 647966, 649753, 649960, 651096, 654469, 659599, \n",
    "           663463, 671301, 671533, 694525, 696291, 696345, 706579, 720480, 722142, 726854, 728327, 729726, 729754, 736449, 742167, 743030, 744650, \n",
    "           752683, 757313, 757166, 758123, 759261, 759003, 766672, 783693, 793633, 804643, 805225, 819754, 820598, 823301, 824225, 826809, 827949, \n",
    "           833961, 833981, 843065, 843126, 845052, 887433, 901663, 901980, 908818, 908978, 911046, 914975, 914909, 916161, 920806, 923400, 925923, \n",
    "           925354, 928810, 928876, 932984, 947709, 953644, 957521, 957850, 967351, 968864, 971635, 975775, 972260, 977015, 976853, 979168, 978708, \n",
    "           989040, 989244, 1001302, 1003319, 1008726, 1014959, 1018187, 1021462, 1026141, 1031898, 1033651, 1033344, 1050173, 1065602, 1073430, \n",
    "           1086934, 1087039, 1087374, 1090772, 1091806, 1096564, 1098043, 1103477, 1111824, 1117018, 1124386, 1143335, 1146354, 1161160, 1167691, \n",
    "           1171841, 1179377, 1184894, 1184912, 1186034, 1187240, 1188032, 1188617, 1188926, 1193015, 1191665, 1194588, 1194958, 1199020, 1199539, \n",
    "           1201319, 1203786, 1204237, 1206707, 1218166, 1219319, 1254154, 1264056, 1264591, 1267967, 1271477, 1271549, 1272700, 1273605, 1278144, \n",
    "           1281619, 1282407, 1285273, 1286710, 1289613, 1293967, 1301768, 1304908, 1335916, 1338866, 1345100, 1348956, 1349555, 1354266, 1355575, \n",
    "           1361363, 1361399, 1365519, 1365549, 1367137, 1368018, 1368443, 1374964, 1379143, 1405053, 1429680, 1434487]"
   ]
  },
  {
   "cell_type": "code",
   "execution_count": 6,
   "id": "d2364a84-2050-43b6-acad-31f57a0e9a00",
   "metadata": {},
   "outputs": [],
   "source": [
    "#new column in tf mastertable for H1 velocities\n",
    "tf_mastertable['V_HI']=np.nan\n",
    "tf_mastertable['VERR_HI']=np.nan\n",
    "tf_mastertable['V20_HI']=np.nan \n",
    "#new column in tf mastertable for H1 masses\n",
    "tf_mastertable['M_HI']=np.nan\n",
    "tf_mastertable['M_HI_ERR']=np.nan"
   ]
  },
  {
   "cell_type": "code",
   "execution_count": 7,
   "id": "135f94d8-1372-4ec6-a176-0dc5c2de518f",
   "metadata": {
    "tags": []
   },
   "outputs": [],
   "source": [
    "#make dictionaries\n",
    "SGA_H1_dict = {}\n",
    "for i in range(len(SGA_H1)):\n",
    "    SGA_H1_dict[SGA_H1['SGA_ID'][i]] = i\n",
    "\n",
    "alfalfa_dict = {}\n",
    "for i in range(len(alfalfa)):\n",
    "    alfalfa_dict[alfalfa['AGCNr'][i]] = i"
   ]
  },
  {
   "cell_type": "code",
   "execution_count": 8,
   "id": "51c058ba-a222-4ef0-89b8-a3a0137d320b",
   "metadata": {
    "tags": []
   },
   "outputs": [
    {
     "data": {
      "text/plain": [
       "50"
      ]
     },
     "execution_count": 8,
     "metadata": {},
     "output_type": "execute_result"
    }
   ],
   "source": [
    "#using to determine # of sga ids in my list that have H1 vals\n",
    "sga_ids_with_alfalfa = []\n",
    "\n",
    "for sga_id in sga_ids:\n",
    "    # Get the ALFALFA_AGCNr value for the current SGA_ID\n",
    "    alfalfa_agcnr_value = SGA_H1[SGA_H1['SGA_ID'] == sga_id]['ALFALFA_AGCNr']\n",
    "    \n",
    "    # Check if the value is greater than 0 and store the SGA_ID if true\n",
    "    if len(alfalfa_agcnr_value) > 0 and alfalfa_agcnr_value[0] > 0:\n",
    "        sga_ids_with_alfalfa.append(sga_id)\n",
    "        \n",
    "len(sga_ids_with_alfalfa)"
   ]
  },
  {
   "cell_type": "code",
   "execution_count": 9,
   "id": "81c3fe12-da14-443f-8ce0-11d312c4dc59",
   "metadata": {
    "tags": []
   },
   "outputs": [
    {
     "name": "stdout",
     "output_type": "stream",
     "text": [
      "[25532, 46327, 153504, 176736, 188525, 235556, 254532, 291766, 373692, 398443, 450566, 455486, 466872, 473436, 548848, 608015, 630029, 638386, 643231, 654469, 696291, 722142, 726854, 766672, 783693, 804643, 819754, 824225, 887433, 914975, 932984, 947709, 977015, 1018187, 1021462, 1026141, 1033344, 1096564, 1143335, 1146354, 1167691, 1179377, 1194958, 1204237, 1271477, 1272700, 1273605, 1289613, 1304908, 1361363]\n"
     ]
    }
   ],
   "source": [
    "print(sga_ids_with_alfalfa)"
   ]
  },
  {
   "cell_type": "code",
   "execution_count": 10,
   "id": "097ec377-2590-4716-b03c-bada9c3cbfd0",
   "metadata": {
    "tags": []
   },
   "outputs": [],
   "source": [
    "#using to determine # of sga ids in tf_mastertable that have H1 vals\n",
    "all_sga_ids_with_alfalfa = []\n",
    "all_sga_ids = tf_mastertable['SGA_ID']\n",
    "for sga_id in all_sga_ids:\n",
    "    # Get the ALFALFA_AGCNr value for the current SGA_ID\n",
    "    alfalfa_agcnr_value = SGA_H1[SGA_H1['SGA_ID'] == sga_id]['ALFALFA_AGCNr']\n",
    "    \n",
    "    # Check if the value is greater than 0 and store the SGA_ID if true\n",
    "    if len(alfalfa_agcnr_value) > 0 and alfalfa_agcnr_value[0] > 0:\n",
    "        all_sga_ids_with_alfalfa.append(sga_id)"
   ]
  },
  {
   "cell_type": "code",
   "execution_count": 11,
   "id": "2341b3be-bb34-45e5-b6bd-46ea1f096b1e",
   "metadata": {
    "tags": []
   },
   "outputs": [
    {
     "data": {
      "text/plain": [
       "6729"
      ]
     },
     "execution_count": 11,
     "metadata": {},
     "output_type": "execute_result"
    }
   ],
   "source": [
    "unique = np.unique(all_sga_ids_with_alfalfa)\n",
    "len(unique)"
   ]
  },
  {
   "cell_type": "code",
   "execution_count": 12,
   "id": "52faf29d-11be-415d-8647-dde1bc589b31",
   "metadata": {
    "tags": []
   },
   "outputs": [
    {
     "data": {
      "text/plain": [
       "75171"
      ]
     },
     "execution_count": 12,
     "metadata": {},
     "output_type": "execute_result"
    }
   ],
   "source": [
    "unique_2 = np.unique(all_sga_ids)\n",
    "len(unique_2)"
   ]
  },
  {
   "cell_type": "code",
   "execution_count": 13,
   "id": "7f665bf7-0cd2-4aed-87c7-b52468c95b44",
   "metadata": {
    "tags": []
   },
   "outputs": [
    {
     "data": {
      "text/html": [
       "<div><i>Table length=8</i>\n",
       "<table id=\"table139662472864544\" class=\"table-striped table-bordered table-condensed\">\n",
       "<thead><tr><th>TARGETID</th><th>TARGET_RA</th><th>TARGET_DEC</th><th>HEALPIX</th><th>SURVEY</th><th>Z</th><th>ZERR</th><th>ZWARN</th><th>DELTACHI2</th><th>FILENAME</th><th>PVTYPE</th><th>SGA_ID</th><th>RA</th><th>DEC</th><th>OBS_IN_SV</th><th>SKY_FIBER_DIST</th><th>SKY_FIBER_DIST_R26</th><th>ROT_CURVE</th><th>EOA</th><th>VELOCITY</th><th>VERR</th><th>Z_CENTER</th><th>ROTCURVE_CHI2</th><th>VMAX</th><th>VMAX_ERR</th><th>RTURN</th><th>RTURN_ERR</th><th>ALPHA</th><th>ALPHA_ERR</th><th>INCLINATION</th><th>VROT_R26</th><th>VROT_R26_ERR</th><th>M_R26</th><th>M_R26_ERR</th><th>VROT_3P5R26</th><th>VROT_3P5R26_ERR</th><th>M_3P5R26</th><th>M_3P5R26_ERR</th><th>RABS_MAG26</th><th>M_STELLAR_CIGALE</th><th>M_STELLAR_CIGALE_ERR</th><th>M_STELLAR_PROVABGS</th><th>M_STELLAR_PROVABGS_ERR</th><th>V_HI</th><th>VERR_HI</th><th>V20_HI</th><th>M_HI</th><th>M_HI_ERR</th></tr></thead>\n",
       "<thead><tr><th>int64</th><th>float64</th><th>float64</th><th>int64</th><th>bytes4</th><th>float64</th><th>float64</th><th>int64</th><th>float64</th><th>bytes65</th><th>bytes3</th><th>int64</th><th>float64</th><th>float64</th><th>float64</th><th>float64</th><th>float64</th><th>float64</th><th>float64</th><th>float64</th><th>float64</th><th>float64</th><th>float64</th><th>float64</th><th>float64</th><th>float64</th><th>float64</th><th>float64</th><th>float64</th><th>float64</th><th>float64</th><th>float64</th><th>float64</th><th>float64</th><th>float64</th><th>float64</th><th>float64</th><th>float64</th><th>float64</th><th>float64</th><th>float64</th><th>float64</th><th>float64</th><th>float64</th><th>float64</th><th>float64</th><th>float64</th><th>float64</th></tr></thead>\n",
       "<tr><td>1070748764471296</td><td>194.109754320792</td><td>27.286921909931</td><td>10378</td><td>sv3</td><td>1.36278539636169</td><td>0.000105634287518713</td><td>4</td><td>1.42624063417315</td><td>fuji/healpix/sv3/bright/103/10378/redrock-sv3-bright-10378.fits</td><td>TFT</td><td>819754</td><td>194.1097543207924</td><td>27.28692190993096</td><td>1.0</td><td>0.009381687483714632</td><td>0.999999983219526</td><td>1.0</td><td>0.0</td><td>391219.21457314346</td><td>31.67441794748501</td><td>0.025084336222695403</td><td>--</td><td>--</td><td>--</td><td>--</td><td>--</td><td>--</td><td>--</td><td>--</td><td>--</td><td>0.0</td><td>--</td><td>--</td><td>--</td><td>0.0</td><td>--</td><td>--</td><td>-19.613118839397558</td><td>--</td><td>--</td><td>--</td><td>--</td><td>90.0</td><td>38.0</td><td>115.0</td><td>9.24</td><td>0.06</td></tr>\n",
       "<tr><td>1070748764471297</td><td>194.112835311759</td><td>27.288366767408</td><td>10378</td><td>sv3</td><td>1.27470950412671</td><td>8.81266758246102e-05</td><td>4</td><td>0.76961188018322</td><td>fuji/healpix/sv3/bright/103/10378/redrock-sv3-bright-10378.fits</td><td>TFT</td><td>819754</td><td>194.11283531175852</td><td>27.288366767407975</td><td>1.0</td><td>0.006285730614070416</td><td>0.6699999887551223</td><td>1.0</td><td>0.0</td><td>365460.8576354451</td><td>26.42697066076073</td><td>0.025084336222695403</td><td>--</td><td>--</td><td>--</td><td>--</td><td>--</td><td>--</td><td>--</td><td>--</td><td>--</td><td>0.0</td><td>--</td><td>--</td><td>--</td><td>0.0</td><td>--</td><td>--</td><td>-19.613118839397558</td><td>--</td><td>--</td><td>--</td><td>--</td><td>90.0</td><td>38.0</td><td>115.0</td><td>9.24</td><td>0.06</td></tr>\n",
       "<tr><td>1083942904004609</td><td>194.112835311759</td><td>27.288366767408</td><td>10378</td><td>sv3</td><td>0.0248557654352545</td><td>1.38306950988848e-05</td><td>0</td><td>89.4312909683213</td><td>fuji/healpix/sv3/dark/103/10378/redrock-sv3-dark-10378.fits</td><td>TFT</td><td>819754</td><td>194.11283531175852</td><td>27.288366767407975</td><td>1.0</td><td>0.006285730614070416</td><td>0.6699999887551223</td><td>1.0</td><td>0.0</td><td>-66.84698592347671</td><td>4.1923353169640984</td><td>0.025084336222695403</td><td>190.29168313614323</td><td>124.35972463172413</td><td>--</td><td>0.010015034656753154</td><td>--</td><td>1.0418582190526275</td><td>--</td><td>0.8384614859685158</td><td>124.28768782283315</td><td>0.0</td><td>10.64567751125536</td><td>--</td><td>124.34018573918587</td><td>0.0</td><td>--</td><td>--</td><td>-19.613118839397558</td><td>9.76909358696662</td><td>0.09082220976919804</td><td>10.38829231262207</td><td>0.09357101949269822</td><td>90.0</td><td>38.0</td><td>115.0</td><td>9.24</td><td>0.06</td></tr>\n",
       "<tr><td>1070748764471298</td><td>194.11600974993</td><td>27.2898553378398</td><td>10378</td><td>sv3</td><td>0.024847210269851</td><td>6.38884001821522e-06</td><td>0</td><td>1059.62361641275</td><td>fuji/healpix/sv3/bright/103/10378/redrock-sv3-bright-10378.fits</td><td>TFT</td><td>819754</td><td>194.11600974992967</td><td>27.289855337839818</td><td>1.0</td><td>0.0030959568696263444</td><td>0.3299999944624985</td><td>1.0</td><td>0.0</td><td>-69.34899865972052</td><td>2.012965431556563</td><td>0.025084336222695403</td><td>190.29168313614323</td><td>124.35972463172413</td><td>--</td><td>0.010015034656753154</td><td>--</td><td>1.0418582190526275</td><td>--</td><td>0.8384614859685158</td><td>124.28768782283315</td><td>0.0</td><td>10.64567751125536</td><td>--</td><td>124.34018573918587</td><td>0.0</td><td>--</td><td>--</td><td>-19.613118839397558</td><td>9.76909358696662</td><td>0.09082220976919804</td><td>10.38829231262207</td><td>0.09357101949269822</td><td>90.0</td><td>38.0</td><td>115.0</td><td>9.24</td><td>0.06</td></tr>\n",
       "<tr><td>39628422527321535</td><td>194.119090903652</td><td>27.2913000582538</td><td>10378</td><td>sv3</td><td>0.0250843060436296</td><td>2.92035136602822e-06</td><td>0</td><td>5824.72504919767</td><td>fuji/healpix/sv3/bright/103/10378/redrock-sv3-bright-10378.fits</td><td>TFT</td><td>819754</td><td>194.11909090365222</td><td>27.291300058253793</td><td>1.0</td><td>6.3611093629270335e-15</td><td>6.780346571154332e-13</td><td>1.0</td><td>0.0</td><td>-0.008826060407103396</td><td>1.0724061680343704</td><td>0.025084336222695403</td><td>190.29168313614323</td><td>124.35972463172413</td><td>--</td><td>0.010015034656753154</td><td>--</td><td>1.0418582190526275</td><td>--</td><td>0.8384614859685158</td><td>124.28768782283315</td><td>0.0</td><td>10.64567751125536</td><td>--</td><td>124.34018573918587</td><td>0.0</td><td>--</td><td>--</td><td>-19.613118839397558</td><td>9.76909358696662</td><td>0.09082220976919804</td><td>10.38829231262207</td><td>0.09357101949269822</td><td>90.0</td><td>38.0</td><td>115.0</td><td>9.24</td><td>0.06</td></tr>\n",
       "<tr><td>1070748764471299</td><td>194.122172137543</td><td>27.2927447111501</td><td>10378</td><td>sv3</td><td>0.0254181403646655</td><td>2.88112847075796e-06</td><td>0</td><td>2614.82661251724</td><td>fuji/healpix/sv3/bright/103/10378/redrock-sv3-bright-10378.fits</td><td>TFT</td><td>819754</td><td>194.1221721375434</td><td>27.29274471115013</td><td>1.0</td><td>0.003095956869632472</td><td>0.32999999446315165</td><td>1.0</td><td>0.0</td><td>97.62315223798166</td><td>1.0628281799075092</td><td>0.025084336222695403</td><td>190.29168313614323</td><td>124.35972463172413</td><td>--</td><td>0.010015034656753154</td><td>--</td><td>1.0418582190526275</td><td>--</td><td>0.8384614859685158</td><td>124.28768782283315</td><td>0.0</td><td>10.64567751125536</td><td>--</td><td>124.34018573918587</td><td>0.0</td><td>--</td><td>--</td><td>-19.613118839397558</td><td>9.76909358696662</td><td>0.09082220976919804</td><td>10.38829231262207</td><td>0.09357101949269822</td><td>90.0</td><td>38.0</td><td>115.0</td><td>9.24</td><td>0.06</td></tr>\n",
       "<tr><td>1070748764471300</td><td>194.125346826012</td><td>27.2942330707831</td><td>10378</td><td>sv3</td><td>1.325971545869</td><td>7.29197210103779e-05</td><td>4</td><td>3.26263636350632</td><td>fuji/healpix/sv3/bright/103/10378/redrock-sv3-bright-10378.fits</td><td>TFT</td><td>819754</td><td>194.1253468260115</td><td>27.294233070783054</td><td>1.0</td><td>0.006285730614104151</td><td>0.6699999887587182</td><td>1.0</td><td>0.0</td><td>380452.7689865138</td><td>21.869553333552915</td><td>0.025084336222695403</td><td>--</td><td>--</td><td>--</td><td>--</td><td>--</td><td>--</td><td>--</td><td>--</td><td>--</td><td>0.0</td><td>--</td><td>--</td><td>--</td><td>0.0</td><td>--</td><td>--</td><td>-19.613118839397558</td><td>--</td><td>--</td><td>--</td><td>--</td><td>90.0</td><td>38.0</td><td>115.0</td><td>9.24</td><td>0.06</td></tr>\n",
       "<tr><td>39628422527321535</td><td>194.119090903652</td><td>27.2913000582538</td><td>10378</td><td>sv3</td><td>0.0250843664017612</td><td>2.92268717729691e-06</td><td>0</td><td>5861.0352332294</td><td>iron/healpix/sv3/bright/103/10378/redrock-sv3-bright-10378.fits</td><td>TFT</td><td>819754</td><td>194.11909090365222</td><td>27.291300058253793</td><td>1.0</td><td>6.3611093629270335e-15</td><td>6.780346571154332e-13</td><td>1.0</td><td>0.0</td><td>0.008826060506954343</td><td>1.0729779268239283</td><td>0.025084336222695403</td><td>190.29168313614323</td><td>124.35972463172413</td><td>--</td><td>0.010015034656753154</td><td>--</td><td>1.0418582190526275</td><td>--</td><td>0.8384614859685158</td><td>124.28768782283315</td><td>0.0</td><td>10.64567751125536</td><td>--</td><td>124.34018573918587</td><td>0.0</td><td>--</td><td>--</td><td>-19.613118839397558</td><td>9.76909358696662</td><td>0.09082220976919804</td><td>10.38829231262207</td><td>0.09357101949269822</td><td>90.0</td><td>38.0</td><td>115.0</td><td>9.24</td><td>0.06</td></tr>\n",
       "</table></div>"
      ],
      "text/plain": [
       "<Table length=8>\n",
       "     TARGETID        TARGET_RA        TARGET_DEC    ...  V20_HI   M_HI  M_HI_ERR\n",
       "      int64           float64          float64      ... float64 float64 float64 \n",
       "----------------- ---------------- ---------------- ... ------- ------- --------\n",
       " 1070748764471296 194.109754320792  27.286921909931 ...   115.0    9.24     0.06\n",
       " 1070748764471297 194.112835311759  27.288366767408 ...   115.0    9.24     0.06\n",
       " 1083942904004609 194.112835311759  27.288366767408 ...   115.0    9.24     0.06\n",
       " 1070748764471298  194.11600974993 27.2898553378398 ...   115.0    9.24     0.06\n",
       "39628422527321535 194.119090903652 27.2913000582538 ...   115.0    9.24     0.06\n",
       " 1070748764471299 194.122172137543 27.2927447111501 ...   115.0    9.24     0.06\n",
       " 1070748764471300 194.125346826012 27.2942330707831 ...   115.0    9.24     0.06\n",
       "39628422527321535 194.119090903652 27.2913000582538 ...   115.0    9.24     0.06"
      ]
     },
     "execution_count": 13,
     "metadata": {},
     "output_type": "execute_result"
    }
   ],
   "source": [
    "all_sga_ids = tf_mastertable['SGA_ID']\n",
    "for sga_id in all_sga_ids: \n",
    "    SGA_index = SGA_H1_dict[sga_id] \n",
    "\n",
    "    # determine if H1 exists + save velocity into table\n",
    "    if SGA_H1['ALFALFA_AGCNr'][SGA_index] >= 0:\n",
    "        alfalfa_index = alfalfa_dict[SGA_H1['ALFALFA_AGCNr'][SGA_index]]\n",
    "        # update repsective velocity columns in tf_mastertable\n",
    "        tf_mastertable['V_HI'][tf_mastertable['SGA_ID'] == sga_id] = alfalfa['W50'][alfalfa_index]\n",
    "        tf_mastertable['VERR_HI'][tf_mastertable['SGA_ID'] == sga_id] = alfalfa['sigW'][alfalfa_index]\n",
    "        tf_mastertable['V20_HI'][tf_mastertable['SGA_ID'] == sga_id] = alfalfa['W20'][alfalfa_index]\n",
    "        tf_mastertable['M_HI'][tf_mastertable['SGA_ID'] == sga_id] = alfalfa['logMH'][alfalfa_index]\n",
    "        tf_mastertable['M_HI_ERR'][tf_mastertable['SGA_ID'] == sga_id] = alfalfa['siglogMH'][alfalfa_index]\n",
    "        \n",
    "#test:\n",
    "tf_mastertable[tf_mastertable['SGA_ID']==819754]"
   ]
  },
  {
   "cell_type": "code",
   "execution_count": 14,
   "id": "eec65043-c263-4395-bf3b-dda57551d088",
   "metadata": {},
   "outputs": [
    {
     "data": {
      "text/html": [
       "<div><i>Table length=8</i>\n",
       "<table id=\"table139663485738800\" class=\"table-striped table-bordered table-condensed\">\n",
       "<thead><tr><th>TARGETID</th><th>TARGET_RA</th><th>TARGET_DEC</th><th>HEALPIX</th><th>SURVEY</th><th>Z</th><th>ZERR</th><th>ZWARN</th><th>DELTACHI2</th><th>FILENAME</th><th>PVTYPE</th><th>SGA_ID</th><th>RA</th><th>DEC</th><th>OBS_IN_SV</th><th>SKY_FIBER_DIST</th><th>SKY_FIBER_DIST_R26</th><th>ROT_CURVE</th><th>EOA</th><th>VELOCITY</th><th>VERR</th><th>Z_CENTER</th><th>ROTCURVE_CHI2</th><th>VMAX</th><th>VMAX_ERR</th><th>RTURN</th><th>RTURN_ERR</th><th>ALPHA</th><th>ALPHA_ERR</th><th>INCLINATION</th><th>VROT_R26</th><th>VROT_R26_ERR</th><th>M_R26</th><th>M_R26_ERR</th><th>VROT_3P5R26</th><th>VROT_3P5R26_ERR</th><th>M_3P5R26</th><th>M_3P5R26_ERR</th><th>RABS_MAG26</th><th>M_STELLAR_CIGALE</th><th>M_STELLAR_CIGALE_ERR</th><th>M_STELLAR_PROVABGS</th><th>M_STELLAR_PROVABGS_ERR</th><th>V_HI</th><th>VERR_HI</th><th>V20_HI</th><th>M_HI</th><th>M_HI_ERR</th></tr></thead>\n",
       "<thead><tr><th>int64</th><th>float64</th><th>float64</th><th>int64</th><th>bytes4</th><th>float64</th><th>float64</th><th>int64</th><th>float64</th><th>bytes65</th><th>bytes3</th><th>int64</th><th>float64</th><th>float64</th><th>float64</th><th>float64</th><th>float64</th><th>float64</th><th>float64</th><th>float64</th><th>float64</th><th>float64</th><th>float64</th><th>float64</th><th>float64</th><th>float64</th><th>float64</th><th>float64</th><th>float64</th><th>float64</th><th>float64</th><th>float64</th><th>float64</th><th>float64</th><th>float64</th><th>float64</th><th>float64</th><th>float64</th><th>float64</th><th>float64</th><th>float64</th><th>float64</th><th>float64</th><th>float64</th><th>float64</th><th>float64</th><th>float64</th><th>float64</th></tr></thead>\n",
       "<tr><td>1070748764471296</td><td>194.109754320792</td><td>27.286921909931</td><td>10378</td><td>sv3</td><td>1.36278539636169</td><td>0.000105634287518713</td><td>4</td><td>1.42624063417315</td><td>fuji/healpix/sv3/bright/103/10378/redrock-sv3-bright-10378.fits</td><td>TFT</td><td>819754</td><td>194.1097543207924</td><td>27.28692190993096</td><td>1.0</td><td>0.009381687483714632</td><td>0.999999983219526</td><td>1.0</td><td>0.0</td><td>391219.21457314346</td><td>31.67441794748501</td><td>0.025084336222695403</td><td>--</td><td>--</td><td>--</td><td>--</td><td>--</td><td>--</td><td>--</td><td>--</td><td>--</td><td>0.0</td><td>--</td><td>--</td><td>--</td><td>0.0</td><td>--</td><td>--</td><td>-19.613118839397558</td><td>--</td><td>--</td><td>--</td><td>--</td><td>90.0</td><td>38.0</td><td>115.0</td><td>9.24</td><td>0.06</td></tr>\n",
       "<tr><td>1070748764471297</td><td>194.112835311759</td><td>27.288366767408</td><td>10378</td><td>sv3</td><td>1.27470950412671</td><td>8.81266758246102e-05</td><td>4</td><td>0.76961188018322</td><td>fuji/healpix/sv3/bright/103/10378/redrock-sv3-bright-10378.fits</td><td>TFT</td><td>819754</td><td>194.11283531175852</td><td>27.288366767407975</td><td>1.0</td><td>0.006285730614070416</td><td>0.6699999887551223</td><td>1.0</td><td>0.0</td><td>365460.8576354451</td><td>26.42697066076073</td><td>0.025084336222695403</td><td>--</td><td>--</td><td>--</td><td>--</td><td>--</td><td>--</td><td>--</td><td>--</td><td>--</td><td>0.0</td><td>--</td><td>--</td><td>--</td><td>0.0</td><td>--</td><td>--</td><td>-19.613118839397558</td><td>--</td><td>--</td><td>--</td><td>--</td><td>90.0</td><td>38.0</td><td>115.0</td><td>9.24</td><td>0.06</td></tr>\n",
       "<tr><td>1083942904004609</td><td>194.112835311759</td><td>27.288366767408</td><td>10378</td><td>sv3</td><td>0.0248557654352545</td><td>1.38306950988848e-05</td><td>0</td><td>89.4312909683213</td><td>fuji/healpix/sv3/dark/103/10378/redrock-sv3-dark-10378.fits</td><td>TFT</td><td>819754</td><td>194.11283531175852</td><td>27.288366767407975</td><td>1.0</td><td>0.006285730614070416</td><td>0.6699999887551223</td><td>1.0</td><td>0.0</td><td>-66.84698592347671</td><td>4.1923353169640984</td><td>0.025084336222695403</td><td>190.29168313614323</td><td>124.35972463172413</td><td>--</td><td>0.010015034656753154</td><td>--</td><td>1.0418582190526275</td><td>--</td><td>0.8384614859685158</td><td>124.28768782283315</td><td>0.0</td><td>10.64567751125536</td><td>--</td><td>124.34018573918587</td><td>0.0</td><td>--</td><td>--</td><td>-19.613118839397558</td><td>9.76909358696662</td><td>0.09082220976919804</td><td>10.38829231262207</td><td>0.09357101949269822</td><td>90.0</td><td>38.0</td><td>115.0</td><td>9.24</td><td>0.06</td></tr>\n",
       "<tr><td>1070748764471298</td><td>194.11600974993</td><td>27.2898553378398</td><td>10378</td><td>sv3</td><td>0.024847210269851</td><td>6.38884001821522e-06</td><td>0</td><td>1059.62361641275</td><td>fuji/healpix/sv3/bright/103/10378/redrock-sv3-bright-10378.fits</td><td>TFT</td><td>819754</td><td>194.11600974992967</td><td>27.289855337839818</td><td>1.0</td><td>0.0030959568696263444</td><td>0.3299999944624985</td><td>1.0</td><td>0.0</td><td>-69.34899865972052</td><td>2.012965431556563</td><td>0.025084336222695403</td><td>190.29168313614323</td><td>124.35972463172413</td><td>--</td><td>0.010015034656753154</td><td>--</td><td>1.0418582190526275</td><td>--</td><td>0.8384614859685158</td><td>124.28768782283315</td><td>0.0</td><td>10.64567751125536</td><td>--</td><td>124.34018573918587</td><td>0.0</td><td>--</td><td>--</td><td>-19.613118839397558</td><td>9.76909358696662</td><td>0.09082220976919804</td><td>10.38829231262207</td><td>0.09357101949269822</td><td>90.0</td><td>38.0</td><td>115.0</td><td>9.24</td><td>0.06</td></tr>\n",
       "<tr><td>39628422527321535</td><td>194.119090903652</td><td>27.2913000582538</td><td>10378</td><td>sv3</td><td>0.0250843060436296</td><td>2.92035136602822e-06</td><td>0</td><td>5824.72504919767</td><td>fuji/healpix/sv3/bright/103/10378/redrock-sv3-bright-10378.fits</td><td>TFT</td><td>819754</td><td>194.11909090365222</td><td>27.291300058253793</td><td>1.0</td><td>6.3611093629270335e-15</td><td>6.780346571154332e-13</td><td>1.0</td><td>0.0</td><td>-0.008826060407103396</td><td>1.0724061680343704</td><td>0.025084336222695403</td><td>190.29168313614323</td><td>124.35972463172413</td><td>--</td><td>0.010015034656753154</td><td>--</td><td>1.0418582190526275</td><td>--</td><td>0.8384614859685158</td><td>124.28768782283315</td><td>0.0</td><td>10.64567751125536</td><td>--</td><td>124.34018573918587</td><td>0.0</td><td>--</td><td>--</td><td>-19.613118839397558</td><td>9.76909358696662</td><td>0.09082220976919804</td><td>10.38829231262207</td><td>0.09357101949269822</td><td>90.0</td><td>38.0</td><td>115.0</td><td>9.24</td><td>0.06</td></tr>\n",
       "<tr><td>1070748764471299</td><td>194.122172137543</td><td>27.2927447111501</td><td>10378</td><td>sv3</td><td>0.0254181403646655</td><td>2.88112847075796e-06</td><td>0</td><td>2614.82661251724</td><td>fuji/healpix/sv3/bright/103/10378/redrock-sv3-bright-10378.fits</td><td>TFT</td><td>819754</td><td>194.1221721375434</td><td>27.29274471115013</td><td>1.0</td><td>0.003095956869632472</td><td>0.32999999446315165</td><td>1.0</td><td>0.0</td><td>97.62315223798166</td><td>1.0628281799075092</td><td>0.025084336222695403</td><td>190.29168313614323</td><td>124.35972463172413</td><td>--</td><td>0.010015034656753154</td><td>--</td><td>1.0418582190526275</td><td>--</td><td>0.8384614859685158</td><td>124.28768782283315</td><td>0.0</td><td>10.64567751125536</td><td>--</td><td>124.34018573918587</td><td>0.0</td><td>--</td><td>--</td><td>-19.613118839397558</td><td>9.76909358696662</td><td>0.09082220976919804</td><td>10.38829231262207</td><td>0.09357101949269822</td><td>90.0</td><td>38.0</td><td>115.0</td><td>9.24</td><td>0.06</td></tr>\n",
       "<tr><td>1070748764471300</td><td>194.125346826012</td><td>27.2942330707831</td><td>10378</td><td>sv3</td><td>1.325971545869</td><td>7.29197210103779e-05</td><td>4</td><td>3.26263636350632</td><td>fuji/healpix/sv3/bright/103/10378/redrock-sv3-bright-10378.fits</td><td>TFT</td><td>819754</td><td>194.1253468260115</td><td>27.294233070783054</td><td>1.0</td><td>0.006285730614104151</td><td>0.6699999887587182</td><td>1.0</td><td>0.0</td><td>380452.7689865138</td><td>21.869553333552915</td><td>0.025084336222695403</td><td>--</td><td>--</td><td>--</td><td>--</td><td>--</td><td>--</td><td>--</td><td>--</td><td>--</td><td>0.0</td><td>--</td><td>--</td><td>--</td><td>0.0</td><td>--</td><td>--</td><td>-19.613118839397558</td><td>--</td><td>--</td><td>--</td><td>--</td><td>90.0</td><td>38.0</td><td>115.0</td><td>9.24</td><td>0.06</td></tr>\n",
       "<tr><td>39628422527321535</td><td>194.119090903652</td><td>27.2913000582538</td><td>10378</td><td>sv3</td><td>0.0250843664017612</td><td>2.92268717729691e-06</td><td>0</td><td>5861.0352332294</td><td>iron/healpix/sv3/bright/103/10378/redrock-sv3-bright-10378.fits</td><td>TFT</td><td>819754</td><td>194.11909090365222</td><td>27.291300058253793</td><td>1.0</td><td>6.3611093629270335e-15</td><td>6.780346571154332e-13</td><td>1.0</td><td>0.0</td><td>0.008826060506954343</td><td>1.0729779268239283</td><td>0.025084336222695403</td><td>190.29168313614323</td><td>124.35972463172413</td><td>--</td><td>0.010015034656753154</td><td>--</td><td>1.0418582190526275</td><td>--</td><td>0.8384614859685158</td><td>124.28768782283315</td><td>0.0</td><td>10.64567751125536</td><td>--</td><td>124.34018573918587</td><td>0.0</td><td>--</td><td>--</td><td>-19.613118839397558</td><td>9.76909358696662</td><td>0.09082220976919804</td><td>10.38829231262207</td><td>0.09357101949269822</td><td>90.0</td><td>38.0</td><td>115.0</td><td>9.24</td><td>0.06</td></tr>\n",
       "</table></div>"
      ],
      "text/plain": [
       "<Table length=8>\n",
       "     TARGETID        TARGET_RA        TARGET_DEC    ...  V20_HI   M_HI  M_HI_ERR\n",
       "      int64           float64          float64      ... float64 float64 float64 \n",
       "----------------- ---------------- ---------------- ... ------- ------- --------\n",
       " 1070748764471296 194.109754320792  27.286921909931 ...   115.0    9.24     0.06\n",
       " 1070748764471297 194.112835311759  27.288366767408 ...   115.0    9.24     0.06\n",
       " 1083942904004609 194.112835311759  27.288366767408 ...   115.0    9.24     0.06\n",
       " 1070748764471298  194.11600974993 27.2898553378398 ...   115.0    9.24     0.06\n",
       "39628422527321535 194.119090903652 27.2913000582538 ...   115.0    9.24     0.06\n",
       " 1070748764471299 194.122172137543 27.2927447111501 ...   115.0    9.24     0.06\n",
       " 1070748764471300 194.125346826012 27.2942330707831 ...   115.0    9.24     0.06\n",
       "39628422527321535 194.119090903652 27.2913000582538 ...   115.0    9.24     0.06"
      ]
     },
     "execution_count": 14,
     "metadata": {},
     "output_type": "execute_result"
    }
   ],
   "source": [
    "tf_mastertable[tf_mastertable['SGA_ID']==819754]"
   ]
  },
  {
   "cell_type": "code",
   "execution_count": 15,
   "id": "3266a5f0-3f46-4927-b382-e5531e22a81e",
   "metadata": {},
   "outputs": [],
   "source": [
    "#writing new data into new table\n",
    "tf_mastertable.write(data_dir + 'tf_mastertable_massmag_stellar_H1.fits', format='fits', overwrite=True)"
   ]
  },
  {
   "cell_type": "code",
   "execution_count": null,
   "id": "ae61e668-4146-4ab3-bf0f-ac423abbe1d3",
   "metadata": {},
   "outputs": [],
   "source": []
  }
 ],
 "metadata": {
  "kernelspec": {
   "display_name": "DESI main",
   "language": "python",
   "name": "desi-main"
  },
  "language_info": {
   "codemirror_mode": {
    "name": "ipython",
    "version": 3
   },
   "file_extension": ".py",
   "mimetype": "text/x-python",
   "name": "python",
   "nbconvert_exporter": "python",
   "pygments_lexer": "ipython3",
   "version": "3.10.14"
  }
 },
 "nbformat": 4,
 "nbformat_minor": 5
}
