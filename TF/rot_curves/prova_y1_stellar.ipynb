{
 "cells": [
  {
   "cell_type": "code",
   "execution_count": 11,
   "id": "258ffbe2-4488-4362-b595-da5f4627dd37",
   "metadata": {
    "tags": []
   },
   "outputs": [],
   "source": [
    "# all imports\n",
    "import numpy as np\n",
    "import h5py\n",
    "import os\n",
    "import requests\n",
    "from astropy.table import Table, vstack\n",
    "import matplotlib.pyplot as plt\n",
    "from astropy.io import fits\n",
    "from astropy.coordinates import SkyCoord\n",
    "from astropy import units as u\n",
    "from astropy.wcs import WCS\n",
    "import math\n",
    "import matplotlib as mpl\n",
    "from astropy.visualization.wcsaxes import SphericalCircle\n",
    "import pandas as pd"
   ]
  },
  {
   "cell_type": "code",
   "execution_count": 12,
   "id": "d351f839-06ad-44da-842e-a88ea1da57d1",
   "metadata": {
    "tags": []
   },
   "outputs": [],
   "source": [
    "# define directories\n",
    "data_dir = '/global/cfs/projectdirs/desi/science/td/pv/tfgalaxies/'\n",
    "cache_dir = '/pscratch/sd/j/jjpim/cache/'\n",
    "v_dir = '/pscratch/sd/j/jjpim/massmag/'\n",
    "\n",
    "# load updated master table\n",
    "tf_mastertable = Table.read(data_dir + 'tf_mastertable_massmag_stellar.fits') \n",
    "\n",
    "#load SGA table\n",
    "SGA = Table.read('/global/cfs/cdirs/cosmo/data/sga/2020/SGA-2020.fits', 'ELLIPSE')"
   ]
  },
  {
   "cell_type": "code",
   "execution_count": 13,
   "id": "a415e384-f0f4-43c2-ae35-4bb48d0e62a9",
   "metadata": {
    "tags": []
   },
   "outputs": [
    {
     "data": {
      "text/html": [
       "<div><i>Table length=2019</i>\n",
       "<table id=\"table139966980570800\" class=\"table-striped table-bordered table-condensed\">\n",
       "<thead><tr><th>TARGETID</th><th>TARGET_RA</th><th>TARGET_DEC</th><th>HEALPIX</th><th>SURVEY</th><th>Z</th><th>ZERR</th><th>ZWARN</th><th>DELTACHI2</th><th>FILENAME</th><th>PVTYPE</th><th>SGA_ID</th><th>RA</th><th>DEC</th><th>OBS_IN_SV</th><th>SKY_FIBER_DIST</th><th>SKY_FIBER_DIST_R26</th><th>ROT_CURVE</th><th>EOA</th><th>VELOCITY</th><th>VERR</th><th>Z_CENTER</th><th>ROTCURVE_CHI2</th><th>VMAX</th><th>VMAX_ERR</th><th>RTURN</th><th>RTURN_ERR</th><th>ALPHA</th><th>ALPHA_ERR</th><th>INCLINATION</th><th>VROT_R26</th><th>VROT_R26_ERR</th><th>M_R26</th><th>M_R26_ERR</th><th>VROT_3P5R26</th><th>VROT_3P5R26_ERR</th><th>M_3P5R26</th><th>M_3P5R26_ERR</th><th>RABS_MAG26</th><th>M_STELLAR_CIGALE</th><th>M_STELLAR_CIGALE_ERR</th><th>M_STELLAR_PROVABGS</th><th>M_STELLAR_PROVABGS_ERR</th></tr></thead>\n",
       "<thead><tr><th>int64</th><th>float64</th><th>float64</th><th>int64</th><th>bytes4</th><th>float64</th><th>float64</th><th>int64</th><th>float64</th><th>bytes65</th><th>bytes3</th><th>int64</th><th>float64</th><th>float64</th><th>float64</th><th>float64</th><th>float64</th><th>float64</th><th>float64</th><th>float64</th><th>float64</th><th>float64</th><th>float64</th><th>float64</th><th>float64</th><th>float64</th><th>float64</th><th>float64</th><th>float64</th><th>float64</th><th>float64</th><th>float64</th><th>float64</th><th>float64</th><th>float64</th><th>float64</th><th>float64</th><th>float64</th><th>float64</th><th>float64</th><th>float64</th><th>float64</th><th>float64</th></tr></thead>\n",
       "<tr><td>1083283966263312</td><td>180.088777358876</td><td>-1.11024777720183</td><td>25599</td><td>sv3</td><td>0.00436762087876588</td><td>1.42837672240012e-06</td><td>0</td><td>15897.7449971626</td><td>fuji/healpix/sv3/dark/255/25599/redrock-sv3-dark-25599.fits</td><td>EXT</td><td>1065602</td><td>180.08877735887648</td><td>-1.1102477772018335</td><td>1.0</td><td>0.013957389713373361</td><td>0.32999998593202395</td><td>1.0</td><td>1.0</td><td>-142.54523609053126</td><td>0.7111210610669596</td><td>0.00484540449738718</td><td>2153.941847415241</td><td>237.96731883800035</td><td>--</td><td>0.010000000096957435</td><td>--</td><td>1.656146404826648</td><td>--</td><td>0.6898838190982787</td><td>237.96594237599186</td><td>0.0</td><td>11.14978772214548</td><td>--</td><td>237.96714597151168</td><td>0.0</td><td>--</td><td>--</td><td>-20.645657422051553</td><td>--</td><td>--</td><td>--</td><td>--</td></tr>\n",
       "<tr><td>1083283966263313</td><td>180.108167612631</td><td>-1.09016316641461</td><td>25599</td><td>sv3</td><td>0.0053534602140923</td><td>4.45334000484803e-06</td><td>0</td><td>4136.92135445221</td><td>fuji/healpix/sv3/dark/255/25599/redrock-sv3-dark-25599.fits</td><td>EXT</td><td>1065602</td><td>180.10816761263058</td><td>-1.090163166414607</td><td>1.0</td><td>0.013957389713391206</td><td>0.3299999859324459</td><td>1.0</td><td>1.0</td><td>151.57682110136773</td><td>1.4507778336944546</td><td>0.00484540449738718</td><td>2153.941847415241</td><td>237.96731883800035</td><td>--</td><td>0.010000000096957435</td><td>--</td><td>1.656146404826648</td><td>--</td><td>0.6898838190982787</td><td>237.96594237599186</td><td>0.0</td><td>11.14978772214548</td><td>--</td><td>237.96714597151168</td><td>0.0</td><td>--</td><td>--</td><td>-20.645657422051553</td><td>--</td><td>--</td><td>--</td><td>--</td></tr>\n",
       "<tr><td>1083283966263311</td><td>180.078788337759</td><td>-1.1205943454118</td><td>25599</td><td>sv3</td><td>0.00464639799063975</td><td>3.19435285822499e-05</td><td>0</td><td>31.9120003114913</td><td>fuji/healpix/sv3/dark/255/25599/redrock-sv3-dark-25599.fits</td><td>EXT</td><td>1065602</td><td>180.07878833775885</td><td>-1.1205943454118001</td><td>1.0</td><td>0.02833773063017716</td><td>0.6699999714376246</td><td>1.0</td><td>1.0</td><td>-59.372963790038874</td><td>9.593243204719073</td><td>0.00484540449738718</td><td>2153.941847415241</td><td>237.96731883800035</td><td>--</td><td>0.010000000096957435</td><td>--</td><td>1.656146404826648</td><td>--</td><td>0.6898838190982787</td><td>237.96594237599186</td><td>0.0</td><td>11.14978772214548</td><td>--</td><td>237.96714597151168</td><td>0.0</td><td>--</td><td>--</td><td>-20.645657422051553</td><td>--</td><td>--</td><td>--</td><td>--</td></tr>\n",
       "<tr><td>1083283966263314</td><td>180.118156429974</td><td>-1.07981649987604</td><td>25599</td><td>sv3</td><td>0.00535718577838891</td><td>1.59550379891168e-05</td><td>0</td><td>249.207345602888</td><td>fuji/healpix/sv3/dark/255/25599/redrock-sv3-dark-25599.fits</td><td>EXT</td><td>1065602</td><td>180.11815642997368</td><td>-1.0798164998760402</td><td>1.0</td><td>0.02833773063019543</td><td>0.6699999714380566</td><td>1.0</td><td>1.0</td><td>152.68833146198645</td><td>4.8167755305729365</td><td>0.00484540449738718</td><td>2153.941847415241</td><td>237.96731883800035</td><td>--</td><td>0.010000000096957435</td><td>--</td><td>1.656146404826648</td><td>--</td><td>0.6898838190982787</td><td>237.96594237599186</td><td>0.0</td><td>11.14978772214548</td><td>--</td><td>237.96714597151168</td><td>0.0</td><td>--</td><td>--</td><td>-20.645657422051553</td><td>--</td><td>--</td><td>--</td><td>--</td></tr>\n",
       "<tr><td>1083338303471619</td><td>178.909990284283</td><td>1.23197064456541</td><td>27650</td><td>sv3</td><td>0.00651958780483995</td><td>6.84625673525266e-06</td><td>0</td><td>478.315322757233</td><td>fuji/healpix/sv3/dark/276/27650/redrock-sv3-dark-27650.fits</td><td>EXT</td><td>1033344</td><td>178.90999028428269</td><td>1.2319706445654142</td><td>1.0</td><td>0.008001821639844116</td><td>0.3300000001109575</td><td>1.0</td><td>0.0</td><td>71.78474856081279</td><td>2.149704372108146</td><td>0.006278636249996695</td><td>211.54862654531604</td><td>129.61223864699448</td><td>39.06510457326381</td><td>0.30037235873465834</td><td>0.2003347199679021</td><td>2.007523784904541</td><td>3.2205654269255617</td><td>0.6344301583730204</td><td>129.52277083250448</td><td>217.8460531339156</td><td>10.492370265316927</td><td>0.6398674579079913</td><td>129.60499675938914</td><td>346.8278627144485</td><td>11.036989547658342</td><td>0.8029156501528227</td><td>-18.52505290250235</td><td>6.260319368043083</td><td>7.154953443027954</td><td>10.083090782165527</td><td>0.07714821398229206</td></tr>\n",
       "<tr><td>1083338303471618</td><td>178.897801871515</td><td>1.24234505754909</td><td>27650</td><td>sv3</td><td>0.00612525938757635</td><td>5.59810860736493e-06</td><td>0</td><td>800.964292295277</td><td>fuji/healpix/sv3/dark/276/27650/redrock-sv3-dark-27650.fits</td><td>EXT</td><td>1033344</td><td>178.89780187151533</td><td>1.242345057549085</td><td>1.0</td><td>0.008001821639837198</td><td>0.33000000011067215</td><td>1.0</td><td>0.0</td><td>-45.69432851789355</td><td>1.7958968170762128</td><td>0.006278636249996695</td><td>211.54862654531604</td><td>129.61223864699448</td><td>39.06510457326381</td><td>0.30037235873465834</td><td>0.2003347199679021</td><td>2.007523784904541</td><td>3.2205654269255617</td><td>0.6344301583730204</td><td>129.52277083250448</td><td>217.8460531339156</td><td>10.492370265316927</td><td>0.6398674579079913</td><td>129.60499675938914</td><td>346.8278627144485</td><td>11.036989547658342</td><td>0.8029156501528227</td><td>-18.52505290250235</td><td>6.260319368043083</td><td>7.154953443027954</td><td>10.083090782165527</td><td>0.07714821398229206</td></tr>\n",
       "<tr><td>1083338303471617</td><td>178.891522954905</td><td>1.24768943021198</td><td>27650</td><td>sv3</td><td>0.00607920999660836</td><td>3.43334059685479e-05</td><td>0</td><td>13.0512072835118</td><td>fuji/healpix/sv3/dark/276/27650/redrock-sv3-dark-27650.fits</td><td>EXT</td><td>1033344</td><td>178.89152295490476</td><td>1.2476894302119814</td><td>1.0</td><td>0.016246122723326928</td><td>0.6700000002255683</td><td>1.0</td><td>0.0</td><td>-59.41345124432593</td><td>10.312728261878206</td><td>0.006278636249996695</td><td>211.54862654531604</td><td>129.61223864699448</td><td>39.06510457326381</td><td>0.30037235873465834</td><td>0.2003347199679021</td><td>2.007523784904541</td><td>3.2205654269255617</td><td>0.6344301583730204</td><td>129.52277083250448</td><td>217.8460531339156</td><td>10.492370265316927</td><td>0.6398674579079913</td><td>129.60499675938914</td><td>346.8278627144485</td><td>11.036989547658342</td><td>0.8029156501528227</td><td>-18.52505290250235</td><td>6.260319368043083</td><td>7.154953443027954</td><td>10.083090782165527</td><td>0.07714821398229206</td></tr>\n",
       "<tr><td>1083278475919362</td><td>212.91403599788</td><td>-1.20264591149526</td><td>25918</td><td>sv3</td><td>0.00548650620043427</td><td>2.41010237162794e-05</td><td>0</td><td>24.9099660143547</td><td>fuji/healpix/sv3/dark/259/25918/redrock-sv3-dark-25918.fits</td><td>EXT</td><td>975775</td><td>212.91403599788003</td><td>-1.2026459114952552</td><td>1.0</td><td>0.04502043360386291</td><td>0.6700000061965946</td><td>1.0</td><td>0.0</td><td>93.1735958797536</td><td>7.232245739593385</td><td>0.005174104459501507</td><td>372.09375209823173</td><td>142.84388647383616</td><td>32.07099649343747</td><td>0.12027930970965653</td><td>0.21912668255943454</td><td>1.2308048805549991</td><td>0.47168105371833646</td><td>1.539168277357325</td><td>142.60339563242894</td><td>132.292864722664</td><td>10.934567752119897</td><td>0.4556663037119506</td><td>142.79235193330499</td><td>187.3176113595791</td><td>11.479785956435515</td><td>0.5591446224154932</td><td>-18.268733959666427</td><td>5.905110239479455</td><td>6.728786117118507</td><td>-999.0</td><td>--</td></tr>\n",
       "<tr><td>1083278475919360</td><td>212.90471698692</td><td>-1.13610031183817</td><td>25918</td><td>sv3</td><td>0.00476559306500906</td><td>3.17150014863073e-06</td><td>0</td><td>2083.25930881174</td><td>fuji/healpix/sv3/dark/259/25918/redrock-sv3-dark-25918.fits</td><td>EXT</td><td>975775</td><td>212.90471698691962</td><td>-1.1361003118381694</td><td>1.0</td><td>0.022174243416833793</td><td>0.3300000030521403</td><td>1.0</td><td>0.0</td><td>-121.8382313397912</td><td>1.0021722223593645</td><td>0.005174104459501507</td><td>372.09375209823173</td><td>142.84388647383616</td><td>32.07099649343747</td><td>0.12027930970965653</td><td>0.21912668255943454</td><td>1.2308048805549991</td><td>0.47168105371833646</td><td>1.539168277357325</td><td>142.60339563242894</td><td>132.292864722664</td><td>10.934567752119897</td><td>0.4556663037119506</td><td>142.79235193330499</td><td>187.3176113595791</td><td>11.479785956435515</td><td>0.5591446224154932</td><td>-18.268733959666427</td><td>5.905110239479455</td><td>6.728786117118507</td><td>-999.0</td><td>--</td></tr>\n",
       "<tr><td>1083278475919361</td><td>212.910867484426</td><td>-1.18002041109232</td><td>25918</td><td>sv3</td><td>0.00547387802246421</td><td>1.24244915699e-05</td><td>0</td><td>414.894932033645</td><td>fuji/healpix/sv3/dark/259/25918/redrock-sv3-dark-25918.fits</td><td>EXT</td><td>975775</td><td>212.91086748442586</td><td>-1.180020411092316</td><td>1.0</td><td>0.02217424341683067</td><td>0.3300000030520938</td><td>1.0</td><td>0.0</td><td>89.40725082876544</td><td>3.7382144376963407</td><td>0.005174104459501507</td><td>372.09375209823173</td><td>142.84388647383616</td><td>32.07099649343747</td><td>0.12027930970965653</td><td>0.21912668255943454</td><td>1.2308048805549991</td><td>0.47168105371833646</td><td>1.539168277357325</td><td>142.60339563242894</td><td>132.292864722664</td><td>10.934567752119897</td><td>0.4556663037119506</td><td>142.79235193330499</td><td>187.3176113595791</td><td>11.479785956435515</td><td>0.5591446224154932</td><td>-18.268733959666427</td><td>5.905110239479455</td><td>6.728786117118507</td><td>-999.0</td><td>--</td></tr>\n",
       "<tr><td>...</td><td>...</td><td>...</td><td>...</td><td>...</td><td>...</td><td>...</td><td>...</td><td>...</td><td>...</td><td>...</td><td>...</td><td>...</td><td>...</td><td>...</td><td>...</td><td>...</td><td>...</td><td>...</td><td>...</td><td>...</td><td>...</td><td>...</td><td>...</td><td>...</td><td>...</td><td>...</td><td>...</td><td>...</td><td>...</td><td>...</td><td>...</td><td>...</td><td>...</td><td>...</td><td>...</td><td>...</td><td>...</td><td>...</td><td>...</td><td>...</td><td>...</td><td>...</td></tr>\n",
       "<tr><td>39628346111296165</td><td>195.849379145936</td><td>23.6815692006553</td><td>28116</td><td>sv3</td><td>0.0734426120401767</td><td>1.32926212053481e-05</td><td>0</td><td>298.3202508986</td><td>iron/healpix/sv3/bright/281/28116/redrock-sv3-bright-28116.fits</td><td>TFT</td><td>1264591</td><td>195.84937914593587</td><td>23.68156920065535</td><td>1.0</td><td>0.0</td><td>0.0</td><td>1.0</td><td>0.0</td><td>-0.010004827994056376</td><td>4.88112835349018</td><td>0.0734426478636564</td><td>10.040768618503458</td><td>146.51293196006793</td><td>3.2378795272548015</td><td>0.41256133065134765</td><td>0.07109021246309659</td><td>2.4158416481653364</td><td>0.4682528503710096</td><td>0.9110612720291897</td><td>146.49406233495006</td><td>29.048884239477694</td><td>10.765214962652655</td><td>0.14506826637681058</td><td>146.51201685294492</td><td>43.728890148223535</td><td>11.30938945596292</td><td>0.20328655173142174</td><td>-19.117216957085418</td><td>8.337646003685053</td><td>9.292343965759894</td><td>10.03493881225586</td><td>0.13233004516314437</td></tr>\n",
       "<tr><td>1070672348446724</td><td>195.850344750192</td><td>23.6820410674918</td><td>28116</td><td>sv3</td><td>0.0731456208318422</td><td>1.1362903039712e-05</td><td>0</td><td>141.854555994272</td><td>iron/healpix/sv3/bright/281/28116/redrock-sv3-bright-28116.fits</td><td>TFT</td><td>1264591</td><td>195.85054957623427</td><td>23.682141159687628</td><td>1.0</td><td>0.0012149232560747</td><td>0.3999999978528914</td><td>1.0</td><td>0.0</td><td>-82.95409553299311</td><td>4.4214587489493935</td><td>0.0734426478636564</td><td>10.040768618503458</td><td>146.51293196006793</td><td>3.2378795272548015</td><td>0.41256133065134765</td><td>0.07109021246309659</td><td>2.4158416481653364</td><td>0.4682528503710096</td><td>0.9110612720291897</td><td>146.49406233495006</td><td>29.048884239477694</td><td>10.765214962652655</td><td>0.14506826637681058</td><td>146.51201685294492</td><td>43.728890148223535</td><td>11.30938945596292</td><td>0.20328655173142174</td><td>-19.117216957085418</td><td>8.337646003685053</td><td>9.292343965759894</td><td>10.03493881225586</td><td>0.13233004516314437</td></tr>\n",
       "<tr><td>1083866487980036</td><td>195.850344750192</td><td>23.6820410674918</td><td>28116</td><td>sv3</td><td>0.0731526473800335</td><td>6.79685945667756e-06</td><td>0</td><td>594.827819958329</td><td>iron/healpix/sv3/dark/281/28116/redrock-sv3-dark-28116.fits</td><td>TFT</td><td>1264591</td><td>195.85054957623427</td><td>23.682141159687628</td><td>1.0</td><td>0.0012149232560747</td><td>0.3999999978528914</td><td>1.0</td><td>0.0</td><td>-80.99171202071909</td><td>3.4780706259942034</td><td>0.0734426478636564</td><td>10.040768618503458</td><td>146.51293196006793</td><td>3.2378795272548015</td><td>0.41256133065134765</td><td>0.07109021246309659</td><td>2.4158416481653364</td><td>0.4682528503710096</td><td>0.9110612720291897</td><td>146.49406233495006</td><td>29.048884239477694</td><td>10.765214962652655</td><td>0.14506826637681058</td><td>146.51201685294492</td><td>43.728890148223535</td><td>11.30938945596292</td><td>0.20328655173142174</td><td>-19.117216957085418</td><td>8.337646003685053</td><td>9.292343965759894</td><td>10.03493881225586</td><td>0.13233004516314437</td></tr>\n",
       "<tr><td>39628368169144466</td><td>195.632619458814</td><td>24.6928506628591</td><td>28117</td><td>main</td><td>0.0891993439873119</td><td>2.55616723680821e-05</td><td>0</td><td>2132.91409190372</td><td>iron/healpix/main/bright/281/28117/redrock-main-bright-28117.fits</td><td>TFT</td><td>176736</td><td>195.63261945881433</td><td>24.692850662859097</td><td>1.0</td><td>2.582283717876262e-14</td><td>5.811862554318188e-12</td><td>1.0</td><td>0.0</td><td>-8.311197172041215</td><td>8.72509251718725</td><td>0.0892295408826585</td><td>1.4590330475202458</td><td>272.8209110043779</td><td>--</td><td>0.031385120058618536</td><td>--</td><td>1.1437744094939015</td><td>--</td><td>1.0045901840578069</td><td>272.6791178689859</td><td>0.0</td><td>11.554638765943514</td><td>--</td><td>272.78706180932875</td><td>0.0</td><td>--</td><td>--</td><td>-20.557507097137147</td><td>11.1784304893361</td><td>10.612999843723994</td><td>11.094429016113281</td><td>0.06601004506556889</td></tr>\n",
       "<tr><td>39628368169144466</td><td>195.632619458814</td><td>24.6928506628591</td><td>28117</td><td>sv3</td><td>0.0892484362899937</td><td>2.33094605818825e-05</td><td>0</td><td>1942.52533500828</td><td>iron/healpix/sv3/bright/281/28117/redrock-sv3-bright-28117.fits</td><td>TFT</td><td>176736</td><td>195.63261945881433</td><td>24.692850662859097</td><td>1.0</td><td>2.582283717876262e-14</td><td>5.811862554318188e-12</td><td>1.0</td><td>0.0</td><td>5.200649080240822</td><td>8.138477019851571</td><td>0.0892295408826585</td><td>1.4590330475202458</td><td>272.8209110043779</td><td>--</td><td>0.031385120058618536</td><td>--</td><td>1.1437744094939015</td><td>--</td><td>1.0045901840578069</td><td>272.6791178689859</td><td>0.0</td><td>11.554638765943514</td><td>--</td><td>272.78706180932875</td><td>0.0</td><td>--</td><td>--</td><td>-20.557507097137147</td><td>11.1784304893361</td><td>10.612999843723994</td><td>11.094429016113281</td><td>0.06601004506556889</td></tr>\n",
       "<tr><td>39628351631001639</td><td>195.139717519635</td><td>24.083769112366</td><td>28116</td><td>sv3</td><td>0.0687053512246717</td><td>1.31742377150757e-05</td><td>0</td><td>1062.61719195615</td><td>iron/healpix/sv3/bright/281/28116/redrock-sv3-bright-28116.fits</td><td>TFT</td><td>1293967</td><td>195.13971751963473</td><td>24.083769112366006</td><td>1.0</td><td>0.0</td><td>0.0</td><td>1.0</td><td>0.0</td><td>-0.01658746668364331</td><td>4.840770705631968</td><td>0.0687054103559637</td><td>11.23526214134438</td><td>178.51233116237847</td><td>--</td><td>0.010008038711003916</td><td>--</td><td>3.99999999587444</td><td>--</td><td>1.2434182706894763</td><td>178.51233116237515</td><td>0.0</td><td>11.154388553731776</td><td>--</td><td>178.51233116237836</td><td>0.0</td><td>--</td><td>--</td><td>-20.060194754859786</td><td>10.410835806598396</td><td>10.029804219879779</td><td>10.504871368408203</td><td>0.06070996707150065</td></tr>\n",
       "<tr><td>39628362678799621</td><td>196.088607649212</td><td>24.4302441008898</td><td>28117</td><td>main</td><td>0.0251281339697613</td><td>2.6105614873562e-06</td><td>0</td><td>3556.86933743954</td><td>iron/healpix/main/bright/281/28117/redrock-main-bright-28117.fits</td><td>TFT</td><td>455486</td><td>196.088607649212</td><td>24.43024410088983</td><td>1.0</td><td>0.0</td><td>0.0</td><td>1.0</td><td>0.0</td><td>-1.9856749813141694</td><td>0.9618626781338105</td><td>0.025134923949684567</td><td>153.63445533851765</td><td>231.74608211222443</td><td>37.24091879322407</td><td>0.9999999997092922</td><td>0.1777728973130723</td><td>2.0719398763822996</td><td>0.31618727277403125</td><td>1.539168277357325</td><td>231.12474649292096</td><td>56.375912075792094</td><td>11.181769169805388</td><td>0.17255613921196833</td><td>231.69955486785224</td><td>74.1208814956829</td><td>11.727994717406913</td><td>0.2147913253389735</td><td>-18.108031294016</td><td>9.023072401110866</td><td>8.593214449303478</td><td>9.344017028808594</td><td>0.26948006980950867</td></tr>\n",
       "<tr><td>39628362678799621</td><td>196.088607649212</td><td>24.4302441008898</td><td>28117</td><td>sv3</td><td>0.025138045297079</td><td>3.76073852034962e-06</td><td>0</td><td>2388.27294898778</td><td>iron/healpix/sv3/bright/281/28117/redrock-sv3-bright-28117.fits</td><td>TFT</td><td>455486</td><td>196.088607649212</td><td>24.43024410088983</td><td>1.0</td><td>0.0</td><td>0.0</td><td>1.0</td><td>0.0</td><td>0.9128129242534688</td><td>1.258490626022705</td><td>0.025134923949684567</td><td>153.63445533851765</td><td>231.74608211222443</td><td>37.24091879322407</td><td>0.9999999997092922</td><td>0.1777728973130723</td><td>2.0719398763822996</td><td>0.31618727277403125</td><td>1.539168277357325</td><td>231.12474649292096</td><td>56.375912075792094</td><td>11.181769169805388</td><td>0.17255613921196833</td><td>231.69955486785224</td><td>74.1208814956829</td><td>11.727994717406913</td><td>0.2147913253389735</td><td>-18.108031294016</td><td>9.023072401110866</td><td>8.593214449303478</td><td>9.344017028808594</td><td>0.26948006980950867</td></tr>\n",
       "<tr><td>39628373667876718</td><td>196.194044103987</td><td>24.9823966250258</td><td>28117</td><td>sv3</td><td>0.0792727298950746</td><td>9.24257408268987e-06</td><td>0</td><td>5279.14518278837</td><td>iron/healpix/sv3/bright/281/28117/redrock-sv3-bright-28117.fits</td><td>TFT</td><td>477805</td><td>196.19404410398695</td><td>24.982396625025793</td><td>1.0</td><td>0.0</td><td>0.0</td><td>1.0</td><td>0.0</td><td>0.14306660611866873</td><td>3.393242586506874</td><td>0.0792722148460508</td><td>131.54862141847696</td><td>267.5758960079686</td><td>--</td><td>0.024437063776979073</td><td>--</td><td>1.0162221467988795</td><td>--</td><td>1.1515032662090718</td><td>267.293839735576</td><td>0.0</td><td>11.530722125013714</td><td>--</td><td>267.4968692446599</td><td>0.0</td><td>--</td><td>--</td><td>-20.613530345752046</td><td>10.955342633453483</td><td>10.536812692729058</td><td>10.928070068359375</td><td>0.09399097135554031</td></tr>\n",
       "<tr><td>39628362636854781</td><td>193.248468660564</td><td>24.4005215786347</td><td>28121</td><td>sv3</td><td>0.0706206888187521</td><td>1.07956216210161e-05</td><td>0</td><td>4391.70985910296</td><td>iron/healpix/sv3/bright/281/28121/redrock-sv3-bright-28121.fits</td><td>TFT</td><td>1117018</td><td>193.24846866056447</td><td>24.400521578634716</td><td>1.0</td><td>0.0</td><td>0.0</td><td>1.0</td><td>0.0</td><td>0.14474536820222408</td><td>3.9632798482529696</td><td>0.07062017190344334</td><td>68.1765100700231</td><td>258.05519208732505</td><td>136.05498358128105</td><td>0.1053044482560813</td><td>0.9018195672625401</td><td>1.3456297661472456</td><td>7.918596564405437</td><td>0.9685056089891364</td><td>257.86647258229874</td><td>3260.5358529836712</td><td>11.446018483428936</td><td>1.419766793838102</td><td>258.0201970716229</td><td>4679.581823935426</td><td>11.990604174024792</td><td>1.5713942156232594</td><td>-21.020548247006218</td><td>11.019682215338577</td><td>10.58824221196182</td><td>11.080889701843262</td><td>0.10260225975882506</td></tr>\n",
       "</table></div>"
      ],
      "text/plain": [
       "<Table length=2019>\n",
       "     TARGETID        TARGET_RA     ... M_STELLAR_PROVABGS M_STELLAR_PROVABGS_ERR\n",
       "      int64           float64      ...      float64              float64        \n",
       "----------------- ---------------- ... ------------------ ----------------------\n",
       " 1083283966263312 180.088777358876 ...                 --                     --\n",
       " 1083283966263313 180.108167612631 ...                 --                     --\n",
       " 1083283966263311 180.078788337759 ...                 --                     --\n",
       " 1083283966263314 180.118156429974 ...                 --                     --\n",
       " 1083338303471619 178.909990284283 ... 10.083090782165527    0.07714821398229206\n",
       " 1083338303471618 178.897801871515 ... 10.083090782165527    0.07714821398229206\n",
       " 1083338303471617 178.891522954905 ... 10.083090782165527    0.07714821398229206\n",
       " 1083278475919362  212.91403599788 ...             -999.0                     --\n",
       " 1083278475919360  212.90471698692 ...             -999.0                     --\n",
       " 1083278475919361 212.910867484426 ...             -999.0                     --\n",
       "              ...              ... ...                ...                    ...\n",
       "39628346111296165 195.849379145936 ...  10.03493881225586    0.13233004516314437\n",
       " 1070672348446724 195.850344750192 ...  10.03493881225586    0.13233004516314437\n",
       " 1083866487980036 195.850344750192 ...  10.03493881225586    0.13233004516314437\n",
       "39628368169144466 195.632619458814 ... 11.094429016113281    0.06601004506556889\n",
       "39628368169144466 195.632619458814 ... 11.094429016113281    0.06601004506556889\n",
       "39628351631001639 195.139717519635 ... 10.504871368408203    0.06070996707150065\n",
       "39628362678799621 196.088607649212 ...  9.344017028808594    0.26948006980950867\n",
       "39628362678799621 196.088607649212 ...  9.344017028808594    0.26948006980950867\n",
       "39628373667876718 196.194044103987 ... 10.928070068359375    0.09399097135554031\n",
       "39628362636854781 193.248468660564 ... 11.080889701843262    0.10260225975882506"
      ]
     },
     "execution_count": 13,
     "metadata": {},
     "output_type": "execute_result"
    }
   ],
   "source": [
    "tf_mastertable[tf_mastertable['M_R26']>0]"
   ]
  },
  {
   "cell_type": "code",
   "execution_count": null,
   "id": "a99eb8e5-7f13-4230-980d-7b5f4ab797b0",
   "metadata": {
    "tags": []
   },
   "outputs": [],
   "source": [
    "#filter the table for rows in main survey and M_STELLAR_PROVABGS > 0\n",
    "filtered_rows = tf_mastertable[(tf_mastertable['SURVEY'] == 'main') & (tf_mastertable['M_STELLAR_CIGALE'] > 0)]\n",
    "\n",
    "filtered_rows"
   ]
  },
  {
   "cell_type": "code",
   "execution_count": 3,
   "id": "c626a488-910d-4a78-b6d9-34160b20e265",
   "metadata": {
    "tags": []
   },
   "outputs": [
    {
     "data": {
      "text/html": [
       "<div><i>Table length=1</i>\n",
       "<table id=\"table140306813565536\" class=\"table-striped table-bordered table-condensed\">\n",
       "<thead><tr><th>TARGETID</th><th>TARGET_RA</th><th>TARGET_DEC</th><th>HEALPIX</th><th>SURVEY</th><th>Z</th><th>ZERR</th><th>ZWARN</th><th>DELTACHI2</th><th>FILENAME</th><th>PVTYPE</th><th>SGA_ID</th><th>RA</th><th>DEC</th><th>OBS_IN_SV</th><th>SKY_FIBER_DIST</th><th>SKY_FIBER_DIST_R26</th><th>ROT_CURVE</th><th>EOA</th><th>VELOCITY</th><th>VERR</th><th>Z_CENTER</th><th>ROTCURVE_CHI2</th><th>VMAX</th><th>VMAX_ERR</th><th>RTURN</th><th>RTURN_ERR</th><th>ALPHA</th><th>ALPHA_ERR</th><th>INCLINATION</th><th>VROT_R26</th><th>VROT_R26_ERR</th><th>M_R26</th><th>M_R26_ERR</th><th>VROT_3P5R26</th><th>VROT_3P5R26_ERR</th><th>M_3P5R26</th><th>M_3P5R26_ERR</th><th>RABS_MAG26</th><th>M_STELLAR_CIGALE</th><th>M_STELLAR_CIGALE_ERR</th><th>M_STELLAR_PROVABGS</th><th>M_STELLAR_PROVABGS_ERR</th></tr></thead>\n",
       "<thead><tr><th>int64</th><th>float64</th><th>float64</th><th>int64</th><th>bytes4</th><th>float64</th><th>float64</th><th>int64</th><th>float64</th><th>bytes65</th><th>bytes3</th><th>int64</th><th>float64</th><th>float64</th><th>float64</th><th>float64</th><th>float64</th><th>float64</th><th>float64</th><th>float64</th><th>float64</th><th>float64</th><th>float64</th><th>float64</th><th>float64</th><th>float64</th><th>float64</th><th>float64</th><th>float64</th><th>float64</th><th>float64</th><th>float64</th><th>float64</th><th>float64</th><th>float64</th><th>float64</th><th>float64</th><th>float64</th><th>float64</th><th>float64</th><th>float64</th><th>float64</th><th>float64</th></tr></thead>\n",
       "<tr><td>39633220467166633</td><td>195.309207793123</td><td>48.2167412541527</td><td>11049</td><td>main</td><td>0.029156232349159</td><td>6.77173077873817e-06</td><td>0</td><td>1902.32760119066</td><td>iron/healpix/main/bright/110/11049/redrock-main-bright-11049.fits</td><td>TFT</td><td>857718</td><td>195.3092077931228</td><td>48.21674125415274</td><td>0.0</td><td>0.0</td><td>0.0</td><td>0.0</td><td>0.0</td><td>0.0</td><td>2.8710144904360484</td><td>0.029156232349159</td><td>--</td><td>--</td><td>--</td><td>--</td><td>--</td><td>--</td><td>--</td><td>--</td><td>--</td><td>--</td><td>--</td><td>--</td><td>--</td><td>--</td><td>--</td><td>--</td><td>--</td><td>--</td><td>--</td><td>--</td><td>--</td></tr>\n",
       "</table></div>"
      ],
      "text/plain": [
       "<Table length=1>\n",
       "     TARGETID        TARGET_RA     ... M_STELLAR_PROVABGS M_STELLAR_PROVABGS_ERR\n",
       "      int64           float64      ...      float64              float64        \n",
       "----------------- ---------------- ... ------------------ ----------------------\n",
       "39633220467166633 195.309207793123 ...                 --                     --"
      ]
     },
     "execution_count": 3,
     "metadata": {},
     "output_type": "execute_result"
    }
   ],
   "source": [
    "tf_mastertable[tf_mastertable['TARGETID']==39633220467166633]"
   ]
  },
  {
   "cell_type": "code",
   "execution_count": null,
   "id": "4134b470-e059-4af2-93d7-8f65a34861d8",
   "metadata": {
    "tags": []
   },
   "outputs": [],
   "source": [
    "# Define the directory containing the data\n",
    "prova_data_dir = '/global/cfs/cdirs/desi/users/chahah/sedflow/desiy1_bgs/'\n",
    "\n",
    "# List all files in the directory\n",
    "files = [os.path.join(prova_data_dir, file) for file in os.listdir(prova_data_dir)]\n",
    "\n",
    "# Print out the full paths of the files\n",
    "for file_path in files:\n",
    "    print(file_path)  \n"
   ]
  },
  {
   "cell_type": "code",
   "execution_count": 47,
   "id": "9131617b-4999-456e-a59f-986b170de30c",
   "metadata": {
    "tags": []
   },
   "outputs": [
    {
     "data": {
      "text/plain": [
       "64866"
      ]
     },
     "execution_count": 47,
     "metadata": {},
     "output_type": "execute_result"
    }
   ],
   "source": [
    "#define the directory containing the data\n",
    "prova_data_dir = '/global/cfs/cdirs/desi/users/chahah/sedflow/desiy1_bgs/'\n",
    "\n",
    "#all files in directory\n",
    "files = [os.path.join(prova_data_dir, file) for file in os.listdir(prova_data_dir) if file.endswith('.hdf5')]\n",
    "\n",
    "provabgs_targetids = set()\n",
    "for file_path in files:\n",
    "    try:\n",
    "        #read the file\n",
    "        t = Table.read(file_path)\n",
    "        #append to list\n",
    "        provabgs_targetids.update(t['TARGETID'].data)\n",
    "    except Exception as e:\n",
    "        print(f\"Error reading {file_path}: {e}\")\n",
    "\n",
    "#convert the tf_mastertable targetids to a set\n",
    "tf_mastertable_targetids = set(tf_mastertable['TARGETID'].data)\n",
    "\n",
    "#find the common targetids\n",
    "common_targetids = np.intersect1d(list(provabgs_targetids), list(tf_mastertable_targetids))\n",
    "\n",
    "sga_ids = []\n",
    "\n",
    "for targetid in common_targetids:\n",
    "    sga_id = tf_mastertable[tf_mastertable['TARGETID'] == targetid]['SGA_ID'][0]\n",
    "    sga_ids.append(sga_id)\n",
    "\n",
    "len(sga_ids)"
   ]
  },
  {
   "cell_type": "code",
   "execution_count": null,
   "id": "2567ad59-10f4-4a1c-b842-3483c99cd25c",
   "metadata": {},
   "outputs": [],
   "source": [
    "def sm_extraction(provabgs, tf_mastertable)\n",
    "    #put target ids in list if mass exists\n",
    "    targets = []\n",
    "    target_ids = tf_mastertable['TARGETID'][tf_mastertable['M_R26'] > 0]\n",
    "\n",
    "    #finding provabgs targets\n",
    "    for target_id in target_ids:\n",
    "        if len(provabgs[provabgs['TARGETID'] == target_id]) > 0:\n",
    "            targets.append(target_id)\n",
    "\n",
    "    #extract stellar masses for provabgs and update tf_mastertable\n",
    "    for target_id in targets:\n",
    "        stellar_mass = provabgs[provabgs['TARGETID'] == target_id]['SEDFLOW_LOGMSTAR_MAP'][0]\n",
    "        log_stellar_mass_samples = provabgs[provabgs['TARGETID'] == target_id]['SEDFLOW_LOGMSTAR_SAMPLES'].data[0]\n",
    "        stellar_mass_samples_linear = 10 ** log_stellar_mass_samples\n",
    "        std_linear = np.std(stellar_mass_samples_linear)\n",
    "        mean_linear = np.mean(stellar_mass_samples_linear)\n",
    "        std_log = std_linear / mean_linear\n",
    "\n",
    "        sga_id = tf_mastertable[tf_mastertable['TARGETID'] == target_id]['SGA_ID'][0]\n",
    "        \n",
    "        #updating table\n",
    "        tf_mastertable['M_STELLAR_PROVABGS'][np.logical_and(tf_mastertable['SGA_ID'] == sga_id, tf_mastertable['M_R26'] > 0)] = stellar_mass\n",
    "        tf_mastertable['M_STELLAR_PROVABGS_ERR'][np.logical_and(tf_mastertable['SGA_ID'] == sga_id, tf_mastertable['M_R26'] > 0)] = std_log\n",
    "\n",
    "    return tf_mastertable"
   ]
  },
  {
   "cell_type": "code",
   "execution_count": null,
   "id": "47cc65fe-24dd-413e-8a0a-eb4793fbe12f",
   "metadata": {},
   "outputs": [],
   "source": [
    "#iteration through all files in the directory\n",
    "\n",
    "#initialize list of files\n",
    "files = [os.path.join(prova_data_dir, file) for file in os.listdir(prova_data_dir)]\n",
    "\n",
    "#iterate through each file in the directory\n",
    "for file in files:\n",
    "    try:\n",
    "        with h5py.File(file, 'r') as f:\n",
    "            keys = list(f.keys())\n",
    "\n",
    "            #loop through the datasets\n",
    "            for key in keys:\n",
    "                data = f[key][:]\n",
    "                if isinstance(data, (list, np.ndarray)): \n",
    "                    provabgs = Table(data)  #table\n",
    "                    \n",
    "                    #update tf_mastertable with stellar mass data\n",
    "                    tf_mastertable = sm_extraction(provabgs, tf_mastertable)\n",
    "                    break\n",
    "            else:\n",
    "                raise KeyError(f\"No matching dataset found in {file}\")\n",
    "\n",
    "    except Exception as e:\n",
    "        print(f\"Error processing {file}: {e}\")\n",
    "\n",
    "#save new data into table\n",
    "tf_mastertable.write('tf_mastertable_massmag_stellar.fits', format='fits', overwrite=True)"
   ]
  },
  {
   "cell_type": "code",
   "execution_count": null,
   "id": "08476cab-de5f-4e4b-8da9-93244d9d0571",
   "metadata": {},
   "outputs": [],
   "source": [
    "#check mastertable after running function\n",
    "tf_mastertable[tf_mastertable['M_R26'] > 0]"
   ]
  },
  {
   "cell_type": "code",
   "execution_count": null,
   "id": "3fd3670d-a9d3-404a-a396-f15a0468efaa",
   "metadata": {},
   "outputs": [],
   "source": [
    "#writing new data into table\n",
    "tf_mastertable.write(data_dir + 'tf_mastertable_massmag_stellar.fits', format='fits', overwrite=True)"
   ]
  },
  {
   "cell_type": "code",
   "execution_count": null,
   "id": "da64ebaf-22bf-48bf-bbbd-db17803ea25f",
   "metadata": {},
   "outputs": [],
   "source": []
  }
 ],
 "metadata": {
  "kernelspec": {
   "display_name": "DESI main",
   "language": "python",
   "name": "desi-main"
  },
  "language_info": {
   "codemirror_mode": {
    "name": "ipython",
    "version": 3
   },
   "file_extension": ".py",
   "mimetype": "text/x-python",
   "name": "python",
   "nbconvert_exporter": "python",
   "pygments_lexer": "ipython3",
   "version": "3.10.14"
  }
 },
 "nbformat": 4,
 "nbformat_minor": 5
}
