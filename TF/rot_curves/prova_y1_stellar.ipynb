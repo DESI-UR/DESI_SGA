{
 "cells": [
  {
   "cell_type": "code",
   "execution_count": 2,
   "id": "258ffbe2-4488-4362-b595-da5f4627dd37",
   "metadata": {
    "tags": []
   },
   "outputs": [],
   "source": [
    "# all imports\n",
    "import numpy as np\n",
    "import os\n",
    "import requests\n",
    "from astropy.table import Table, vstack\n",
    "import matplotlib.pyplot as plt\n",
    "from astropy.io import fits\n",
    "from astropy.coordinates import SkyCoord\n",
    "from astropy import units as u\n",
    "from astropy.wcs import WCS\n",
    "import math\n",
    "import matplotlib as mpl\n",
    "from astropy.visualization.wcsaxes import SphericalCircle\n",
    "import pandas as pd"
   ]
  },
  {
   "cell_type": "code",
   "execution_count": 4,
   "id": "4134b470-e059-4af2-93d7-8f65a34861d8",
   "metadata": {
    "tags": []
   },
   "outputs": [
    {
     "name": "stdout",
     "output_type": "stream",
     "text": [
      "BGS_ANY_full.vagc.82.hdf5\n",
      "BGS_ANY_full.vagc.83.hdf5\n",
      "BGS_ANY_full.vagc.68.hdf5\n",
      "BGS_ANY_full.vagc.73.hdf5\n",
      "BGS_ANY_full.vagc.53.hdf5\n",
      "BGS_ANY_full.vagc.0.hdf5\n",
      "BGS_ANY_full.vagc.98.hdf5\n",
      "BGS_ANY_full.vagc.85.hdf5\n",
      "BGS_ANY_full.vagc.41.hdf5\n",
      "BGS_ANY_full.vagc.93.hdf5\n",
      "BGS_ANY_full.vagc.67.hdf5\n",
      "BGS_ANY_full.vagc.45.hdf5\n",
      "BGS_ANY_full.vagc.48.hdf5\n",
      "BGS_ANY_full.vagc.88.hdf5\n",
      "BGS_ANY_full.vagc.61.hdf5\n",
      "BGS_ANY_full.vagc.44.hdf5\n",
      "BGS_ANY_full.vagc.36.hdf5\n",
      "BGS_ANY_full.vagc.66.hdf5\n",
      "BGS_ANY_full.fluxes.hdf5\n",
      "BGS_ANY_full.vagc.50.hdf5\n",
      "BGS_ANY_full.vagc.71.hdf5\n",
      "BGS_ANY_full.vagc.58.hdf5\n",
      "BGS_ANY_full.vagc.105.hdf5\n",
      "BGS_ANY_full.vagc.104.hdf5\n",
      "BGS_ANY_full.vagc.8.hdf5\n",
      "BGS_ANY_full.vagc.87.hdf5\n",
      "BGS_ANY_full.vagc.39.hdf5\n",
      "BGS_ANY_full.vagc.78.hdf5\n",
      "BGS_ANY_full.vagc.108.hdf5\n",
      "BGS_ANY_full.vagc.76.hdf5\n",
      "BGS_ANY_full.vagc.86.hdf5\n",
      "BGS_ANY_full.vagc.55.hdf5\n",
      "BGS_ANY_full.vagc.103.hdf5\n",
      "BGS_ANY_full.vagc.101.hdf5\n",
      "BGS_ANY_full.vagc.59.hdf5\n",
      "BGS_ANY_full.vagc.100.hdf5\n",
      "BGS_ANY_full.vagc.99.hdf5\n",
      "BGS_ANY_full.vagc.46.hdf5\n",
      "BGS_ANY_full.vagc.107.hdf5\n",
      "BGS_ANY_full.vagc.77.hdf5\n",
      "BGS_ANY_full.vagc.54.hdf5\n",
      "BGS_ANY_full.vagc.2.hdf5\n",
      "BGS_ANY_full.vagc.94.hdf5\n",
      "BGS_ANY_full.vagc.79.hdf5\n",
      "BGS_ANY_full.vagc.7.hdf5\n",
      "BGS_ANY_full.vagc.42.hdf5\n",
      "BGS_ANY_full.vagc.95.hdf5\n",
      "BGS_ANY_full.vagc.64.hdf5\n",
      "BGS_ANY_full.vagc.84.hdf5\n",
      "BGS_ANY_full.vagc.34.hdf5\n",
      "BGS_ANY_full.vagc.6.hdf5\n",
      "BGS_ANY_full.vagc.47.hdf5\n",
      "BGS_ANY_full.vagc.75.hdf5\n",
      "BGS_ANY_full.vagc.38.hdf5\n",
      "BGS_ANY_full.vagc.9.hdf5\n",
      "BGS_ANY_full.vagc.56.hdf5\n",
      "BGS_ANY_full.vagc.3.hdf5\n",
      "BGS_ANY_full.vagc.37.hdf5\n",
      "BGS_ANY_full.vagc.65.hdf5\n",
      "BGS_ANY_full.vagc.81.hdf5\n",
      "BGS_ANY_full.vagc.57.hdf5\n",
      "BGS_ANY_full.vagc.62.hdf5\n",
      "BGS_ANY_full.vagc.43.hdf5\n",
      "BGS_ANY_full.vagc.92.hdf5\n",
      "BGS_ANY_full.vagc.4.hdf5\n",
      "BGS_ANY_full.vagc.52.hdf5\n",
      "BGS_ANY_full.vagc.5.hdf5\n",
      "BGS_ANY_full.vagc.70.hdf5\n",
      "BGS_ANY_full.vagc.106.hdf5\n",
      "BGS_ANY_full.vagc.69.hdf5\n",
      "BGS_ANY_full.vagc.51.hdf5\n",
      "BGS_ANY_full.vagc.90.hdf5\n",
      "BGS_ANY_full.vagc.96.hdf5\n",
      "BGS_ANY_full.vagc.89.hdf5\n",
      "BGS_ANY_full.vagc.97.hdf5\n",
      "BGS_ANY_full.vagc.40.hdf5\n",
      "BGS_ANY_full.vagc.1.hdf5\n",
      "BGS_ANY_full.vagc.80.hdf5\n",
      "BGS_ANY_full.vagc.63.hdf5\n",
      "BGS_ANY_full.vagc.32.hdf5\n",
      "BGS_ANY_full.vagc.74.hdf5\n",
      "BGS_ANY_full.vagc.35.hdf5\n",
      "BGS_ANY_full.vagc.49.hdf5\n",
      "BGS_ANY_full.vagc.72.hdf5\n",
      "BGS_ANY_full.vagc.102.hdf5\n",
      "BGS_ANY_full.vagc.60.hdf5\n",
      "BGS_ANY_full.vagc.91.hdf5\n"
     ]
    }
   ],
   "source": [
    "\n",
    "data_dir = '/global/cfs/cdirs/desi/users/chahah/sedflow/desiy1_bgs/'\n",
    "\n",
    "# List all files and directories in the specified directory\n",
    "files = os.listdir(data_dir)\n",
    "\n",
    "# Print the list of files\n",
    "for file in files:\n",
    "    print(file)"
   ]
  },
  {
   "cell_type": "code",
   "execution_count": 6,
   "id": "5d560dc9-1605-412f-8a65-75952572c14d",
   "metadata": {
    "tags": []
   },
   "outputs": [
    {
     "data": {
      "text/html": [
       "<div><i>Table length=100000</i>\n",
       "<table id=\"table139797564436352\" class=\"table-striped table-bordered table-condensed\">\n",
       "<thead><tr><th>TARGETID</th><th>Z_not4clus</th><th>Z_not4clus.mask</th><th>ZSUCCESS</th><th>ZSUCCESS.mask</th><th>FLUX_G_CORR</th><th>FLUX_R_CORR</th><th>FLUX_Z_CORR</th><th>FLUX_W1_CORR</th><th>FLUX_W2_CORR</th><th>FLUX_SIG_G</th><th>FLUX_SIG_R</th><th>FLUX_SIG_Z</th><th>FLUX_SIG_W1</th><th>FLUX_SIG_W2</th><th>SEDFLOW_SAMPLES</th><th>SEDFLOW_MAP</th><th>SEDFLOW_LOGMSTAR_SAMPLES</th><th>SEDFLOW_LOGMSTAR_MAP</th></tr></thead>\n",
       "<thead><tr><th>int64</th><th>float64</th><th>bool</th><th>bool</th><th>bool</th><th>float32</th><th>float32</th><th>float32</th><th>float32</th><th>float32</th><th>float32</th><th>float32</th><th>float32</th><th>float32</th><th>float32</th><th>float64[100,15]</th><th>float64[15]</th><th>float64[100]</th><th>float64</th></tr></thead>\n",
       "<tr><td>39633063465976717</td><td>0.1984321455931371</td><td>False</td><td>True</td><td>False</td><td>4.0869265</td><td>8.941882</td><td>15.19743</td><td>14.470984</td><td>11.8612175</td><td>0.06631819</td><td>0.12453196</td><td>0.22856705</td><td>0.5026216</td><td>0.9698879</td><td>10.00761604309082 .. 0.3022882640361786</td><td>10.120773315429688 .. 0.4905169904232025</td><td>9.831948144010942 .. 10.265313796445604</td><td>9.902524917942758</td></tr>\n",
       "<tr><td>39633063465976775</td><td>0.07739264262557048</td><td>False</td><td>True</td><td>False</td><td>28.644543</td><td>65.05548</td><td>110.621346</td><td>78.36352</td><td>47.595844</td><td>0.0941359</td><td>0.17433782</td><td>0.22364667</td><td>0.6509403</td><td>1.084444</td><td>10.3016357421875 .. 0.6046794652938843</td><td>10.095832824707031 .. 0.447418749332428</td><td>10.073417838337866 .. 10.110198468252259</td><td>9.866170018548555</td></tr>\n",
       "<tr><td>39633063465976835</td><td>0.4224541460834488</td><td>False</td><td>True</td><td>False</td><td>3.7730072</td><td>10.41048</td><td>17.686543</td><td>21.95593</td><td>11.882837</td><td>0.06851298</td><td>0.12872428</td><td>0.17569321</td><td>0.5236661</td><td>0.97102827</td><td>10.98884391784668 .. 0.23502299189567566</td><td>10.824398040771484 .. 0.4599613547325134</td><td>10.75931323790912 .. 10.806520280683593</td><td>10.60658494401825</td></tr>\n",
       "<tr><td>39633063465976851</td><td>0.1988486466995249</td><td>False</td><td>True</td><td>False</td><td>13.923654</td><td>27.96904</td><td>45.1318</td><td>45.26602</td><td>36.140762</td><td>0.079065554</td><td>0.14567786</td><td>0.1890766</td><td>0.58015245</td><td>1.0523483</td><td>10.446907043457031 .. 0.37849748134613037</td><td>10.539756774902344 .. 0.3534317910671234</td><td>10.251751483533104 .. 10.271690392119185</td><td>10.333368343450003</td></tr>\n",
       "<tr><td>39633063465976929</td><td>0.11272636245329602</td><td>False</td><td>True</td><td>False</td><td>32.262615</td><td>76.005646</td><td>132.64453</td><td>112.87609</td><td>70.987366</td><td>0.08572374</td><td>0.17226325</td><td>0.20863734</td><td>0.6902517</td><td>1.0981777</td><td>10.77932357788086 .. 0.2845594584941864</td><td>10.568489074707031 .. 0.2510432302951813</td><td>10.538865712987155 .. 10.163046018292173</td><td>10.342730885010392</td></tr>\n",
       "<tr><td>39633063465976982</td><td>0.43166843458918663</td><td>False</td><td>True</td><td>False</td><td>2.9264965</td><td>16.035316</td><td>40.397755</td><td>74.12311</td><td>47.49677</td><td>0.06792767</td><td>0.1522323</td><td>0.23534743</td><td>0.6646752</td><td>1.125637</td><td>11.602624893188477 .. 0.5453040599822998</td><td>11.502645492553711 .. 0.27889829874038696</td><td>11.361156461293168 .. 11.369292928261572</td><td>11.271730836883995</td></tr>\n",
       "<tr><td>39633063465977053</td><td>0.19881416791443085</td><td>False</td><td>True</td><td>False</td><td>3.421629</td><td>9.766458</td><td>18.324303</td><td>19.75731</td><td>13.340188</td><td>0.04771845</td><td>0.097762845</td><td>0.13655895</td><td>0.47931257</td><td>0.90949756</td><td>10.315646171569824 .. 0.30980581045150757</td><td>10.25619888305664 .. 0.4761716425418854</td><td>10.096653746497779 .. 9.952406024423773</td><td>10.032473317591176</td></tr>\n",
       "<tr><td>39633063465977055</td><td>0.32761482004445586</td><td>False</td><td>True</td><td>False</td><td>3.2650013</td><td>11.406072</td><td>20.203323</td><td>23.385798</td><td>15.512587</td><td>0.04629294</td><td>0.09595724</td><td>0.14920214</td><td>0.4994048</td><td>0.92161626</td><td>10.392745971679688 .. 0.46625539660453796</td><td>10.686664581298828 .. 0.2595478892326355</td><td>10.21391794466259 .. 10.480104559050684</td><td>10.467570677193414</td></tr>\n",
       "<tr><td>39633063465977143</td><td>0.06768815094235989</td><td>False</td><td>True</td><td>False</td><td>8.228089</td><td>10.443602</td><td>11.360152</td><td>7.1603303</td><td>3.7709343</td><td>0.05904536</td><td>0.106773585</td><td>0.17546718</td><td>0.45923322</td><td>0.90138984</td><td>8.910362243652344 .. 0.5420528054237366</td><td>8.742534637451172 .. 0.5003098845481873</td><td>8.710901533736397 .. 8.570407117987237</td><td>8.531179568876437</td></tr>\n",
       "<tr><td>39633063465977155</td><td>0.15113305179313477</td><td>False</td><td>True</td><td>False</td><td>8.660596</td><td>15.461866</td><td>22.78164</td><td>16.130764</td><td>10.549719</td><td>0.06821199</td><td>0.13667916</td><td>0.19744407</td><td>0.48856577</td><td>0.9367373</td><td>10.060319900512695 .. 0.6554434299468994</td><td>9.963091850280762 .. 0.4510682225227356</td><td>9.833104036088274 .. 9.852561176461576</td><td>9.737821885632671</td></tr>\n",
       "<tr><td>...</td><td>...</td><td>...</td><td>...</td><td>...</td><td>...</td><td>...</td><td>...</td><td>...</td><td>...</td><td>...</td><td>...</td><td>...</td><td>...</td><td>...</td><td>...</td><td>...</td><td>...</td><td>...</td></tr>\n",
       "<tr><td>39633081929304458</td><td>0.06740523939427384</td><td>False</td><td>True</td><td>False</td><td>82.5677</td><td>139.09476</td><td>196.90028</td><td>141.76772</td><td>88.27946</td><td>0.16100758</td><td>0.3014055</td><td>0.47178486</td><td>0.8578325</td><td>1.4176977</td><td>10.07851791381836 .. 0.4512869417667389</td><td>10.28526496887207 .. 0.601205587387085</td><td>9.872206551715399 .. 10.092273279382779</td><td>10.054242545472235</td></tr>\n",
       "<tr><td>39633081929304462</td><td>0.2117624295092334</td><td>False</td><td>True</td><td>False</td><td>19.252542</td><td>31.168444</td><td>39.89286</td><td>27.81766</td><td>24.349474</td><td>0.10775651</td><td>0.19475706</td><td>0.31728935</td><td>0.6151249</td><td>1.1848334</td><td>10.281736373901367 .. 0.5753961205482483</td><td>10.536705017089844 .. 0.44193628430366516</td><td>10.083699202856826 .. 10.21286123809234</td><td>10.320866375082959</td></tr>\n",
       "<tr><td>39633081929304497</td><td>0.5316138285085066</td><td>False</td><td>True</td><td>False</td><td>7.1394463</td><td>26.941711</td><td>41.70094</td><td>60.263287</td><td>50.928726</td><td>0.061293334</td><td>0.11299453</td><td>0.14163949</td><td>0.62694037</td><td>1.0854882</td><td>12.765303611755371 .. 0.1961878091096878</td><td>11.639141082763672 .. 0.44590115547180176</td><td>11.47075114005687 .. 11.452630690861747</td><td>11.4167833387605</td></tr>\n",
       "<tr><td>39633081929304504</td><td>nan</td><td>True</td><td>False</td><td>True</td><td>6.167147</td><td>18.640203</td><td>36.116653</td><td>40.400097</td><td>32.490074</td><td>0.062343277</td><td>0.10969505</td><td>0.16406171</td><td>0.56989986</td><td>1.054905</td><td>0.0 .. 0.0</td><td>0.0 .. 0.0</td><td>0.0 .. 0.0</td><td>-1.4013319388811671e-15</td></tr>\n",
       "<tr><td>39633081929304527</td><td>0.0830075227034169</td><td>False</td><td>True</td><td>False</td><td>26.611233</td><td>53.658024</td><td>85.61998</td><td>58.73224</td><td>38.60302</td><td>0.10800777</td><td>0.16592103</td><td>0.24962094</td><td>0.6246154</td><td>1.0945978</td><td>9.824536323547363 .. 0.5311010479927063</td><td>10.03239631652832 .. 0.37301480770111084</td><td>9.6192032395916 .. 9.719436165032045</td><td>9.809334631210666</td></tr>\n",
       "<tr><td>39633081929304629</td><td>0.252771220922633</td><td>False</td><td>True</td><td>False</td><td>8.46286</td><td>27.414057</td><td>50.414257</td><td>50.899357</td><td>33.11872</td><td>0.0820953</td><td>0.15945104</td><td>0.22787958</td><td>0.6404818</td><td>1.1617264</td><td>10.828788757324219 .. 0.16733434796333313</td><td>10.879898071289062 .. 0.2820195257663727</td><td>10.60456837676406 .. 10.919299971556887</td><td>10.654386298868333</td></tr>\n",
       "<tr><td>39633081929304744</td><td>0.23231684951529386</td><td>False</td><td>True</td><td>False</td><td>6.122639</td><td>17.095308</td><td>30.653532</td><td>29.557976</td><td>20.063322</td><td>0.07233259</td><td>0.1263248</td><td>0.19137217</td><td>0.5673446</td><td>1.0637151</td><td>10.543529510498047 .. 0.47156333923339844</td><td>10.580036163330078 .. 0.30497586727142334</td><td>10.329171932805359 .. 10.372636449822005</td><td>10.352595452533397</td></tr>\n",
       "<tr><td>39633081929304781</td><td>0.3574560272700015</td><td>False</td><td>True</td><td>False</td><td>6.5965357</td><td>24.709524</td><td>48.34694</td><td>68.398895</td><td>38.31672</td><td>0.08265028</td><td>0.13332476</td><td>0.21808597</td><td>0.66157436</td><td>1.1381617</td><td>11.179986953735352 .. 0.6769015192985535</td><td>11.408639907836914 .. 0.43538010120391846</td><td>10.974710907329772 .. 11.378578738693708</td><td>11.172432596814856</td></tr>\n",
       "<tr><td>39633081929304856</td><td>0.35043487845282584</td><td>False</td><td>True</td><td>False</td><td>11.51563</td><td>26.612583</td><td>47.231583</td><td>52.73238</td><td>46.960934</td><td>0.09733083</td><td>0.15162432</td><td>0.3315486</td><td>0.626848</td><td>1.1475329</td><td>11.137960433959961 .. 0.1071312427520752</td><td>11.168963432312012 .. 0.5445887446403503</td><td>10.926100986531678 .. 10.992374776876392</td><td>10.9530080703788</td></tr>\n",
       "<tr><td>39633081929305124</td><td>0.2525682467045764</td><td>False</td><td>True</td><td>False</td><td>15.092462</td><td>51.484814</td><td>102.34231</td><td>122.81019</td><td>85.343376</td><td>0.106065005</td><td>0.18033704</td><td>0.2494253</td><td>0.7748586</td><td>1.3030779</td><td>10.999332427978516 .. 0.5827835202217102</td><td>11.26686954498291 .. 0.3026377856731415</td><td>10.81852200382829 .. 11.136466526126677</td><td>11.040656828645513</td></tr>\n",
       "</table></div>"
      ],
      "text/plain": [
       "<Table length=100000>\n",
       "     TARGETID          Z_not4clus     ...   SEDFLOW_LOGMSTAR_MAP \n",
       "      int64             float64       ...         float64        \n",
       "----------------- ------------------- ... -----------------------\n",
       "39633063465976717  0.1984321455931371 ...       9.902524917942758\n",
       "39633063465976775 0.07739264262557048 ...       9.866170018548555\n",
       "39633063465976835  0.4224541460834488 ...       10.60658494401825\n",
       "39633063465976851  0.1988486466995249 ...      10.333368343450003\n",
       "39633063465976929 0.11272636245329602 ...      10.342730885010392\n",
       "39633063465976982 0.43166843458918663 ...      11.271730836883995\n",
       "39633063465977053 0.19881416791443085 ...      10.032473317591176\n",
       "39633063465977055 0.32761482004445586 ...      10.467570677193414\n",
       "39633063465977143 0.06768815094235989 ...       8.531179568876437\n",
       "39633063465977155 0.15113305179313477 ...       9.737821885632671\n",
       "              ...                 ... ...                     ...\n",
       "39633081929304458 0.06740523939427384 ...      10.054242545472235\n",
       "39633081929304462  0.2117624295092334 ...      10.320866375082959\n",
       "39633081929304497  0.5316138285085066 ...        11.4167833387605\n",
       "39633081929304504                 nan ... -1.4013319388811671e-15\n",
       "39633081929304527  0.0830075227034169 ...       9.809334631210666\n",
       "39633081929304629   0.252771220922633 ...      10.654386298868333\n",
       "39633081929304744 0.23231684951529386 ...      10.352595452533397\n",
       "39633081929304781  0.3574560272700015 ...      11.172432596814856\n",
       "39633081929304856 0.35043487845282584 ...        10.9530080703788\n",
       "39633081929305124  0.2525682467045764 ...      11.040656828645513"
      ]
     },
     "execution_count": 6,
     "metadata": {},
     "output_type": "execute_result"
    }
   ],
   "source": [
    "t1 = Table.read(data_dir + 'BGS_ANY_full.vagc.83.hdf5') \n",
    "t1"
   ]
  },
  {
   "cell_type": "code",
   "execution_count": null,
   "id": "24d4e63a-c174-4f83-af18-dbf19a7ad86c",
   "metadata": {},
   "outputs": [],
   "source": []
  }
 ],
 "metadata": {
  "kernelspec": {
   "display_name": "DESI main",
   "language": "python",
   "name": "desi-main"
  },
  "language_info": {
   "codemirror_mode": {
    "name": "ipython",
    "version": 3
   },
   "file_extension": ".py",
   "mimetype": "text/x-python",
   "name": "python",
   "nbconvert_exporter": "python",
   "pygments_lexer": "ipython3",
   "version": "3.10.14"
  }
 },
 "nbformat": 4,
 "nbformat_minor": 5
}
