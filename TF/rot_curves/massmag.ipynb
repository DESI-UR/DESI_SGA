{
 "cells": [
  {
   "cell_type": "code",
   "execution_count": 2,
   "id": "cc182da3-9aca-4cd3-9a9e-01a3d805bd21",
   "metadata": {},
   "outputs": [],
   "source": [
    "# all imports\n",
    "import numpy as np\n",
    "import os\n",
    "import requests\n",
    "from astropy.table import Table, vstack\n",
    "import matplotlib.pyplot as plt\n",
    "from astropy.io import fits\n",
    "from astropy.coordinates import SkyCoord\n",
    "from astropy import units as u\n",
    "from astropy.wcs import WCS\n",
    "import math\n",
    "import matplotlib as mpl\n",
    "from astropy.visualization.wcsaxes import SphericalCircle\n",
    "import pandas as pd\n",
    "import random\n",
    "from matplotlib.patches import Ellipse\n",
    "import ligo.skymap.plot\n",
    "from scipy.optimize import minimize\n",
    "import numdifftools as ndt"
   ]
  },
  {
   "cell_type": "code",
   "execution_count": 28,
   "id": "bf1e5631-1208-4a52-87a5-56047c184c95",
   "metadata": {
    "tags": []
   },
   "outputs": [],
   "source": [
    "#constants\n",
    "G = 4.30091e-6  # gravitational constant in kpc (km/s)^2 / Msun \n",
    "c = 299792.458  #km/s\n",
    "H = 100"
   ]
  },
  {
   "cell_type": "code",
   "execution_count": 29,
   "id": "7c75f915-151b-4fd3-8213-dce4626578da",
   "metadata": {
    "tags": []
   },
   "outputs": [],
   "source": [
    "# define directories\n",
    "data_dir = '/global/cfs/projectdirs/desi/science/td/pv/tfgalaxies/'\n",
    "cache_dir = '/pscratch/sd/j/jjpim/cache/' # my cache path\n",
    "v_dir = '/pscratch/sd/j/jjpim/rotcurves/'\n",
    "\n",
    "# load updated master table\n",
    "tf_mastertable = Table.read(data_dir + 'tf_mastertable.fits') \n",
    "\n",
    "#unique SGA IDs in rot curve galaxies\n",
    "tf_mastertable_dict = {}\n",
    "for sga_id in np.unique(tf_mastertable['SGA_ID'][tf_mastertable['ROT_CURVE']==1]):\n",
    "    tf_mastertable_dict[sga_id] = np.where(tf_mastertable['SGA_ID'] == sga_id)[0]\n",
    "\n",
    "# load SGA table\n",
    "SGA = Table.read('/global/cfs/cdirs/cosmo/data/sga/2020/SGA-2020.fits', 'ELLIPSE')\n",
    "SGA_dict = {}\n",
    "for i in range(len(SGA)):\n",
    "    SGA_dict[SGA['SGA_ID'][i]] = i"
   ]
  },
  {
   "cell_type": "code",
   "execution_count": 43,
   "id": "be62ebbf-bc1e-445e-a0cd-4f8a268f95a0",
   "metadata": {
    "tags": []
   },
   "outputs": [
    {
     "data": {
      "text/html": [
       "<div><i>Table length=1</i>\n",
       "<table id=\"table139778088615264\" class=\"table-striped table-bordered table-condensed\">\n",
       "<thead><tr><th>SGA_ID</th><th>SGA_GALAXY</th><th>GALAXY</th><th>PGC</th><th>RA_LEDA</th><th>DEC_LEDA</th><th>MORPHTYPE</th><th>PA_LEDA</th><th>D25_LEDA</th><th>BA_LEDA</th><th>Z_LEDA</th><th>SB_D25_LEDA</th><th>MAG_LEDA</th><th>BYHAND</th><th>REF</th><th>GROUP_ID</th><th>GROUP_NAME</th><th>GROUP_MULT</th><th>GROUP_PRIMARY</th><th>GROUP_RA</th><th>GROUP_DEC</th><th>GROUP_DIAMETER</th><th>BRICKNAME</th><th>RA</th><th>DEC</th><th>D26</th><th>D26_REF</th><th>PA</th><th>BA</th><th>RA_MOMENT</th><th>DEC_MOMENT</th><th>SMA_MOMENT</th><th>G_SMA50</th><th>R_SMA50</th><th>Z_SMA50</th><th>SMA_SB22</th><th>SMA_SB22.5</th><th>SMA_SB23</th><th>SMA_SB23.5</th><th>SMA_SB24</th><th>SMA_SB24.5</th><th>SMA_SB25</th><th>SMA_SB25.5</th><th>SMA_SB26</th><th>G_MAG_SB22</th><th>R_MAG_SB22</th><th>Z_MAG_SB22</th><th>G_MAG_SB22.5</th><th>R_MAG_SB22.5</th><th>Z_MAG_SB22.5</th><th>G_MAG_SB23</th><th>R_MAG_SB23</th><th>Z_MAG_SB23</th><th>G_MAG_SB23.5</th><th>R_MAG_SB23.5</th><th>Z_MAG_SB23.5</th><th>G_MAG_SB24</th><th>R_MAG_SB24</th><th>Z_MAG_SB24</th><th>G_MAG_SB24.5</th><th>R_MAG_SB24.5</th><th>Z_MAG_SB24.5</th><th>G_MAG_SB25</th><th>R_MAG_SB25</th><th>Z_MAG_SB25</th><th>G_MAG_SB25.5</th><th>R_MAG_SB25.5</th><th>Z_MAG_SB25.5</th><th>G_MAG_SB26</th><th>R_MAG_SB26</th><th>Z_MAG_SB26</th><th>SMA_SB22_ERR</th><th>SMA_SB22.5_ERR</th><th>SMA_SB23_ERR</th><th>SMA_SB23.5_ERR</th><th>SMA_SB24_ERR</th><th>SMA_SB24.5_ERR</th><th>SMA_SB25_ERR</th><th>SMA_SB25.5_ERR</th><th>SMA_SB26_ERR</th><th>G_MAG_SB22_ERR</th><th>R_MAG_SB22_ERR</th><th>Z_MAG_SB22_ERR</th><th>G_MAG_SB22.5_ERR</th><th>R_MAG_SB22.5_ERR</th><th>Z_MAG_SB22.5_ERR</th><th>G_MAG_SB23_ERR</th><th>R_MAG_SB23_ERR</th><th>Z_MAG_SB23_ERR</th><th>G_MAG_SB23.5_ERR</th><th>R_MAG_SB23.5_ERR</th><th>Z_MAG_SB23.5_ERR</th><th>G_MAG_SB24_ERR</th><th>R_MAG_SB24_ERR</th><th>Z_MAG_SB24_ERR</th><th>G_MAG_SB24.5_ERR</th><th>R_MAG_SB24.5_ERR</th><th>Z_MAG_SB24.5_ERR</th><th>G_MAG_SB25_ERR</th><th>R_MAG_SB25_ERR</th><th>Z_MAG_SB25_ERR</th><th>G_MAG_SB25.5_ERR</th><th>R_MAG_SB25.5_ERR</th><th>Z_MAG_SB25.5_ERR</th><th>G_MAG_SB26_ERR</th><th>R_MAG_SB26_ERR</th><th>Z_MAG_SB26_ERR</th><th>G_COG_PARAMS_MTOT</th><th>G_COG_PARAMS_M0</th><th>G_COG_PARAMS_ALPHA1</th><th>G_COG_PARAMS_ALPHA2</th><th>G_COG_PARAMS_CHI2</th><th>R_COG_PARAMS_MTOT</th><th>R_COG_PARAMS_M0</th><th>R_COG_PARAMS_ALPHA1</th><th>R_COG_PARAMS_ALPHA2</th><th>R_COG_PARAMS_CHI2</th><th>Z_COG_PARAMS_MTOT</th><th>Z_COG_PARAMS_M0</th><th>Z_COG_PARAMS_ALPHA1</th><th>Z_COG_PARAMS_ALPHA2</th><th>Z_COG_PARAMS_CHI2</th><th>ELLIPSEBIT</th></tr></thead>\n",
       "<thead><tr><th>int64</th><th>bytes16</th><th>bytes29</th><th>int64</th><th>float64</th><th>float64</th><th>bytes21</th><th>float32</th><th>float32</th><th>float32</th><th>float32</th><th>float32</th><th>float32</th><th>bool</th><th>bytes13</th><th>int64</th><th>bytes35</th><th>int16</th><th>bool</th><th>float64</th><th>float64</th><th>float32</th><th>bytes8</th><th>float64</th><th>float64</th><th>float32</th><th>bytes4</th><th>float32</th><th>float32</th><th>float64</th><th>float64</th><th>float32</th><th>float32</th><th>float32</th><th>float32</th><th>float32</th><th>float32</th><th>float32</th><th>float32</th><th>float32</th><th>float32</th><th>float32</th><th>float32</th><th>float32</th><th>float32</th><th>float32</th><th>float32</th><th>float32</th><th>float32</th><th>float32</th><th>float32</th><th>float32</th><th>float32</th><th>float32</th><th>float32</th><th>float32</th><th>float32</th><th>float32</th><th>float32</th><th>float32</th><th>float32</th><th>float32</th><th>float32</th><th>float32</th><th>float32</th><th>float32</th><th>float32</th><th>float32</th><th>float32</th><th>float32</th><th>float32</th><th>float32</th><th>float32</th><th>float32</th><th>float32</th><th>float32</th><th>float32</th><th>float32</th><th>float32</th><th>float32</th><th>float32</th><th>float32</th><th>float32</th><th>float32</th><th>float32</th><th>float32</th><th>float32</th><th>float32</th><th>float32</th><th>float32</th><th>float32</th><th>float32</th><th>float32</th><th>float32</th><th>float32</th><th>float32</th><th>float32</th><th>float32</th><th>float32</th><th>float32</th><th>float32</th><th>float32</th><th>float32</th><th>float32</th><th>float32</th><th>float32</th><th>float32</th><th>float32</th><th>float32</th><th>float32</th><th>float32</th><th>float32</th><th>float32</th><th>float32</th><th>float32</th><th>float32</th><th>float32</th><th>float32</th><th>float32</th><th>float32</th><th>float32</th><th>float32</th><th>int32</th></tr></thead>\n",
       "<tr><td>31220</td><td>SGA-2020 31220</td><td>PGC058127</td><td>58127</td><td>246.6315765</td><td>44.1220467</td><td>Sbc</td><td>11.6</td><td>0.57942873</td><td>0.75335556</td><td>0.031340346</td><td>23.70848</td><td>16.265</td><td>False</td><td>LEDA-20181114</td><td>8361</td><td>PGC058123_GROUP</td><td>2</td><td>False</td><td>246.6218172418136</td><td>44.11696306357726</td><td>1.1335149</td><td>2466p440</td><td>246.6315996119623</td><td>44.122057654369335</td><td>0.7242859</td><td>LEDA</td><td>11.22325</td><td>0.80032957</td><td>246.63140681000476</td><td>44.12209227169959</td><td>22.152418</td><td>-1.0</td><td>-1.0</td><td>-1.0</td><td>-1.0</td><td>-1.0</td><td>-1.0</td><td>-1.0</td><td>-1.0</td><td>-1.0</td><td>-1.0</td><td>-1.0</td><td>-1.0</td><td>-1.0</td><td>-1.0</td><td>-1.0</td><td>-1.0</td><td>-1.0</td><td>-1.0</td><td>-1.0</td><td>-1.0</td><td>-1.0</td><td>-1.0</td><td>-1.0</td><td>-1.0</td><td>-1.0</td><td>-1.0</td><td>-1.0</td><td>-1.0</td><td>-1.0</td><td>-1.0</td><td>-1.0</td><td>-1.0</td><td>-1.0</td><td>-1.0</td><td>-1.0</td><td>-1.0</td><td>-1.0</td><td>-1.0</td><td>-1.0</td><td>-1.0</td><td>-1.0</td><td>-1.0</td><td>-1.0</td><td>-1.0</td><td>-1.0</td><td>-1.0</td><td>-1.0</td><td>-1.0</td><td>-1.0</td><td>-1.0</td><td>-1.0</td><td>-1.0</td><td>-1.0</td><td>-1.0</td><td>-1.0</td><td>-1.0</td><td>-1.0</td><td>-1.0</td><td>-1.0</td><td>-1.0</td><td>-1.0</td><td>-1.0</td><td>-1.0</td><td>-1.0</td><td>-1.0</td><td>-1.0</td><td>-1.0</td><td>-1.0</td><td>-1.0</td><td>-1.0</td><td>-1.0</td><td>-1.0</td><td>-1.0</td><td>-1.0</td><td>-1.0</td><td>-1.0</td><td>-1.0</td><td>-1.0</td><td>-1.0</td><td>-1.0</td><td>-1.0</td><td>-1.0</td><td>-1.0</td><td>-1.0</td><td>-1.0</td><td>-1.0</td><td>-1.0</td><td>-1.0</td><td>-1.0</td><td>-1.0</td><td>0</td></tr>\n",
       "</table></div>"
      ],
      "text/plain": [
       "<Table length=1>\n",
       "SGA_ID   SGA_GALAXY     GALAXY  ... Z_COG_PARAMS_CHI2 ELLIPSEBIT\n",
       "int64     bytes16      bytes29  ...      float32        int32   \n",
       "------ -------------- --------- ... ----------------- ----------\n",
       " 31220 SGA-2020 31220 PGC058127 ...              -1.0          0"
      ]
     },
     "execution_count": 43,
     "metadata": {},
     "output_type": "execute_result"
    }
   ],
   "source": [
    "SGA[SGA['SGA_ID']== 31220]"
   ]
  },
  {
   "cell_type": "code",
   "execution_count": 46,
   "id": "f93efa11-29d0-485b-9df9-e797aed2a126",
   "metadata": {
    "tags": []
   },
   "outputs": [
    {
     "data": {
      "text/html": [
       "<div><i>Table length=9</i>\n",
       "<table id=\"table139778033605680\" class=\"table-striped table-bordered table-condensed\">\n",
       "<thead><tr><th>TARGETID</th><th>TARGET_RA</th><th>TARGET_DEC</th><th>HEALPIX</th><th>SURVEY</th><th>Z</th><th>ZERR</th><th>ZWARN</th><th>DELTACHI2</th><th>FILENAME</th><th>PVTYPE</th><th>SGA_ID</th><th>RA</th><th>DEC</th><th>OBS_IN_SV</th><th>SKY_FIBER_DIST</th><th>SKY_FIBER_DIST_R26</th><th>ROT_CURVE</th><th>EOA</th><th>VELOCITY</th><th>VERR</th><th>Z_CENTER</th><th>ROTCURVE_CHI2</th><th>VMAX</th><th>VMAX_ERR</th><th>RTURN</th><th>RTURN_ERR</th><th>ALPHA</th><th>ALPHA_ERR</th><th>INCLINATION</th><th>VROT_R26</th><th>VROT_R26_ERR</th><th>M_R26</th><th>M_R26_ERR</th><th>VROT_3P5R26</th><th>VROT_3P5R26_ERR</th><th>M_3P5R26</th><th>M_3P5R26_ERR</th><th>RABS_MAG26</th></tr></thead>\n",
       "<thead><tr><th>int64</th><th>float64</th><th>float64</th><th>int64</th><th>bytes4</th><th>float64</th><th>float64</th><th>int64</th><th>float64</th><th>bytes65</th><th>bytes3</th><th>int64</th><th>float64</th><th>float64</th><th>float64</th><th>float64</th><th>float64</th><th>float64</th><th>float64</th><th>float64</th><th>float64</th><th>float64</th><th>float64</th><th>float64</th><th>float64</th><th>float64</th><th>float64</th><th>float64</th><th>float64</th><th>float64</th><th>float64</th><th>float64</th><th>float64</th><th>float64</th><th>float64</th><th>float64</th><th>float64</th><th>float64</th><th>float64</th></tr></thead>\n",
       "<tr><td>1070132092731403</td><td>179.470211844291</td><td>0.8587724859608</td><td>27650</td><td>sv3</td><td>0.105622028293016</td><td>1.44051968704578e-05</td><td>0</td><td>103.813973851502</td><td>fuji/healpix/sv3/bright/276/27650/redrock-sv3-bright-27650.fits</td><td>TFT</td><td>1001302</td><td>179.47021184429076</td><td>0.8587724859608005</td><td>1.0</td><td>0.0025639894776274498</td><td>0.6700000103246535</td><td>1.0</td><td>0.0</td><td>-75.38931786886482</td><td>4.393662659673312</td><td>0.10587349998904133</td><td>588.4038085786137</td><td>147.4872219372602</td><td>0.8579026510102183</td><td>0.30960505249344444</td><td>0.06259765002020086</td><td>99.9837936498326</td><td>272.1652990680309</td><td>1.2759389754248802</td><td>147.48722193726022</td><td>12.292899522662395</td><td>11.030275199956364</td><td>0.06695838807163135</td><td>147.48722193726022</td><td>17.314528051152024</td><td>11.57434324430664</td><td>0.09159437058325004</td><td>-5.122854624529303</td></tr>\n",
       "<tr><td>1083326232264715</td><td>179.470211844291</td><td>0.8587724859608</td><td>27650</td><td>sv3</td><td>0.105649103365147</td><td>1.37439786192377e-05</td><td>0</td><td>251.056394457817</td><td>fuji/healpix/sv3/dark/276/27650/redrock-sv3-dark-27650.fits</td><td>TFT</td><td>1001302</td><td>179.47021184429076</td><td>0.8587724859608005</td><td>1.0</td><td>0.0025639894776274498</td><td>0.6700000103246535</td><td>1.0</td><td>0.0</td><td>-67.27241544418176</td><td>4.198980965469619</td><td>0.10587349998904133</td><td>588.4038085786137</td><td>147.4872219372602</td><td>0.8579026510102183</td><td>0.30960505249344444</td><td>0.06259765002020086</td><td>99.9837936498326</td><td>272.1652990680309</td><td>1.2759389754248802</td><td>147.48722193726022</td><td>12.292899522662395</td><td>11.030275199956364</td><td>0.06695838807163135</td><td>147.48722193726022</td><td>17.314528051152024</td><td>11.57434324430664</td><td>0.09159437058325004</td><td>-5.122854624529303</td></tr>\n",
       "<tr><td>1083326232264713</td><td>179.466571130357</td><td>0.857592250335877</td><td>27650</td><td>sv3</td><td>0.106362597976074</td><td>3.00124771947937e-06</td><td>0</td><td>3871.25708341599</td><td>fuji/healpix/sv3/dark/276/27650/redrock-sv3-dark-27650.fits</td><td>TFT</td><td>1001302</td><td>179.4665711303573</td><td>0.8575922503358774</td><td>1.0</td><td>0.0012628604889797456</td><td>0.3300000050850318</td><td>1.0</td><td>0.0</td><td>146.62788773537676</td><td>1.2098688911597317</td><td>0.10587349998904133</td><td>588.4038085786137</td><td>147.4872219372602</td><td>0.8579026510102183</td><td>0.30960505249344444</td><td>0.06259765002020086</td><td>99.9837936498326</td><td>272.1652990680309</td><td>1.2759389754248802</td><td>147.48722193726022</td><td>12.292899522662395</td><td>11.030275199956364</td><td>0.06695838807163135</td><td>147.48722193726022</td><td>17.314528051152024</td><td>11.57434324430664</td><td>0.09159437058325004</td><td>-5.122854624529303</td></tr>\n",
       "<tr><td>1070132092731399</td><td>179.464131853278</td><td>0.856801490529996</td><td>27650</td><td>sv3</td><td>1.03087178074219</td><td>0.000197813829449578</td><td>4</td><td>1.33134818449616</td><td>fuji/healpix/sv3/bright/276/27650/redrock-sv3-bright-27650.fits</td><td>TFT</td><td>1001302</td><td>179.46413185327816</td><td>0.856801490529996</td><td>1.0</td><td>0.0038268499665838206</td><td>1.0000000154035773</td><td>1.0</td><td>0.0</td><td>277307.50823276053</td><td>59.30860988676193</td><td>0.10587349998904133</td><td>--</td><td>--</td><td>--</td><td>--</td><td>--</td><td>--</td><td>--</td><td>--</td><td>nan</td><td>0.0</td><td>1.0</td><td>1.0</td><td>nan</td><td>0.0</td><td>1.0</td><td>1.0</td><td>-5.122854624529303</td></tr>\n",
       "<tr><td>39627805855585329</td><td>179.467772565707</td><td>0.857981728475074</td><td>27650</td><td>sv3</td><td>0.1058810661205</td><td>5.16938798206203e-06</td><td>0</td><td>3628.18237131834</td><td>fuji/healpix/sv3/bright/276/27650/redrock-sv3-bright-27650.fits</td><td>TFT</td><td>1001302</td><td>179.46777256570698</td><td>0.8579817284750743</td><td>1.0</td><td>9.93923337957349e-17</td><td>2.5972362698989904e-14</td><td>1.0</td><td>0.0</td><td>2.2682691475439807</td><td>1.748123309045789</td><td>0.10587349998904133</td><td>588.4038085786137</td><td>147.4872219372602</td><td>0.8579026510102183</td><td>0.30960505249344444</td><td>0.06259765002020086</td><td>99.9837936498326</td><td>272.1652990680309</td><td>1.2759389754248802</td><td>147.48722193726022</td><td>12.292899522662395</td><td>11.030275199956364</td><td>0.06695838807163135</td><td>147.48722193726022</td><td>17.314528051152024</td><td>11.57434324430664</td><td>0.09159437058325004</td><td>-5.122854624529303</td></tr>\n",
       "<tr><td>1070132092731404</td><td>179.471413280382</td><td>0.859161962956448</td><td>27650</td><td>sv3</td><td>1.52278831950645</td><td>0.000119143196848319</td><td>4</td><td>0.78112968057394</td><td>fuji/healpix/sv3/bright/276/27650/redrock-sv3-bright-27650.fits</td><td>TFT</td><td>1001302</td><td>179.47141328038205</td><td>0.859161962956448</td><td>1.0</td><td>0.0038268499666231693</td><td>1.0000000154138595</td><td>1.0</td><td>0.0</td><td>424780.3765197503</td><td>35.72738887279284</td><td>0.10587349998904133</td><td>--</td><td>--</td><td>--</td><td>--</td><td>--</td><td>--</td><td>--</td><td>--</td><td>nan</td><td>0.0</td><td>1.0</td><td>1.0</td><td>nan</td><td>0.0</td><td>1.0</td><td>1.0</td><td>-5.122854624529303</td></tr>\n",
       "<tr><td>1083326232264713</td><td>179.466571130357</td><td>0.857592250335877</td><td>27650</td><td>sv3</td><td>0.106362751757491</td><td>2.96379453140173e-06</td><td>0</td><td>3877.27263593674</td><td>iron/healpix/sv3/dark/276/27650/redrock-sv3-dark-27650.fits</td><td>TFT</td><td>1001302</td><td>179.4663162804661</td><td>0.8575096337124205</td><td>1.0</td><td>0.001530739986625239</td><td>0.4000000061592648</td><td>1.0</td><td>0.0</td><td>146.67399024437492</td><td>1.2015421997961466</td><td>0.10587349998904133</td><td>588.4038085786137</td><td>147.4872219372602</td><td>0.8579026510102183</td><td>0.30960505249344444</td><td>0.06259765002020086</td><td>99.9837936498326</td><td>272.1652990680309</td><td>1.2759389754248802</td><td>147.48722193726022</td><td>12.292899522662395</td><td>11.030275199956364</td><td>0.06695838807163135</td><td>147.48722193726022</td><td>17.314528051152024</td><td>11.57434324430664</td><td>0.09159437058325004</td><td>-5.122854624529303</td></tr>\n",
       "<tr><td>39627805855585329</td><td>179.467772565707</td><td>0.857981728475074</td><td>27650</td><td>main</td><td>0.105858380639048</td><td>4.00134416239406e-06</td><td>0</td><td>4194.04756093025</td><td>iron/healpix/main/bright/276/27650/redrock-main-bright-27650.fits</td><td>TFT</td><td>1001302</td><td>179.46777256570698</td><td>0.8579817284750743</td><td>1.0</td><td>9.93923337957349e-17</td><td>2.5972362698989904e-14</td><td>1.0</td><td>0.0</td><td>-4.532667097863842</td><td>1.446791278347321</td><td>0.10587349998904133</td><td>588.4038085786137</td><td>147.4872219372602</td><td>0.8579026510102183</td><td>0.30960505249344444</td><td>0.06259765002020086</td><td>99.9837936498326</td><td>272.1652990680309</td><td>1.2759389754248802</td><td>147.48722193726022</td><td>12.292899522662395</td><td>11.030275199956364</td><td>0.06695838807163135</td><td>147.48722193726022</td><td>17.314528051152024</td><td>11.57434324430664</td><td>0.09159437058325004</td><td>-5.122854624529303</td></tr>\n",
       "<tr><td>39627805855585329</td><td>179.467772565707</td><td>0.857981728475074</td><td>27650</td><td>sv3</td><td>0.105881053207576</td><td>5.16422273570551e-06</td><td>0</td><td>3628.65614712238</td><td>iron/healpix/sv3/bright/276/27650/redrock-sv3-bright-27650.fits</td><td>TFT</td><td>1001302</td><td>179.46777256570698</td><td>0.8579817284750743</td><td>1.0</td><td>9.93923337957349e-17</td><td>2.5972362698989904e-14</td><td>1.0</td><td>0.0</td><td>2.2643979503198617</td><td>1.7467506805160056</td><td>0.10587349998904133</td><td>588.4038085786137</td><td>147.4872219372602</td><td>0.8579026510102183</td><td>0.30960505249344444</td><td>0.06259765002020086</td><td>99.9837936498326</td><td>272.1652990680309</td><td>1.2759389754248802</td><td>147.48722193726022</td><td>12.292899522662395</td><td>11.030275199956364</td><td>0.06695838807163135</td><td>147.48722193726022</td><td>17.314528051152024</td><td>11.57434324430664</td><td>0.09159437058325004</td><td>-5.122854624529303</td></tr>\n",
       "</table></div>"
      ],
      "text/plain": [
       "<Table length=9>\n",
       "     TARGETID        TARGET_RA     ...     M_3P5R26_ERR        RABS_MAG26    \n",
       "      int64           float64      ...       float64            float64      \n",
       "----------------- ---------------- ... ------------------- ------------------\n",
       " 1070132092731403 179.470211844291 ... 0.09159437058325004 -5.122854624529303\n",
       " 1083326232264715 179.470211844291 ... 0.09159437058325004 -5.122854624529303\n",
       " 1083326232264713 179.466571130357 ... 0.09159437058325004 -5.122854624529303\n",
       " 1070132092731399 179.464131853278 ...                 1.0 -5.122854624529303\n",
       "39627805855585329 179.467772565707 ... 0.09159437058325004 -5.122854624529303\n",
       " 1070132092731404 179.471413280382 ...                 1.0 -5.122854624529303\n",
       " 1083326232264713 179.466571130357 ... 0.09159437058325004 -5.122854624529303\n",
       "39627805855585329 179.467772565707 ... 0.09159437058325004 -5.122854624529303\n",
       "39627805855585329 179.467772565707 ... 0.09159437058325004 -5.122854624529303"
      ]
     },
     "execution_count": 46,
     "metadata": {},
     "output_type": "execute_result"
    }
   ],
   "source": [
    "tf_mastertable[tf_mastertable['SGA_ID']==1001302]"
   ]
  },
  {
   "cell_type": "code",
   "execution_count": 45,
   "id": "ea0f11dd-3f7b-47be-b613-e7559dfd5d2c",
   "metadata": {
    "tags": []
   },
   "outputs": [
    {
     "data": {
      "text/html": [
       "<div><i>Table length=1</i>\n",
       "<table id=\"table139778088613344\" class=\"table-striped table-bordered table-condensed\">\n",
       "<thead><tr><th>SGA_ID</th><th>SGA_GALAXY</th><th>GALAXY</th><th>PGC</th><th>RA_LEDA</th><th>DEC_LEDA</th><th>MORPHTYPE</th><th>PA_LEDA</th><th>D25_LEDA</th><th>BA_LEDA</th><th>Z_LEDA</th><th>SB_D25_LEDA</th><th>MAG_LEDA</th><th>BYHAND</th><th>REF</th><th>GROUP_ID</th><th>GROUP_NAME</th><th>GROUP_MULT</th><th>GROUP_PRIMARY</th><th>GROUP_RA</th><th>GROUP_DEC</th><th>GROUP_DIAMETER</th><th>BRICKNAME</th><th>RA</th><th>DEC</th><th>D26</th><th>D26_REF</th><th>PA</th><th>BA</th><th>RA_MOMENT</th><th>DEC_MOMENT</th><th>SMA_MOMENT</th><th>G_SMA50</th><th>R_SMA50</th><th>Z_SMA50</th><th>SMA_SB22</th><th>SMA_SB22.5</th><th>SMA_SB23</th><th>SMA_SB23.5</th><th>SMA_SB24</th><th>SMA_SB24.5</th><th>SMA_SB25</th><th>SMA_SB25.5</th><th>SMA_SB26</th><th>G_MAG_SB22</th><th>R_MAG_SB22</th><th>Z_MAG_SB22</th><th>G_MAG_SB22.5</th><th>R_MAG_SB22.5</th><th>Z_MAG_SB22.5</th><th>G_MAG_SB23</th><th>R_MAG_SB23</th><th>Z_MAG_SB23</th><th>G_MAG_SB23.5</th><th>R_MAG_SB23.5</th><th>Z_MAG_SB23.5</th><th>G_MAG_SB24</th><th>R_MAG_SB24</th><th>Z_MAG_SB24</th><th>G_MAG_SB24.5</th><th>R_MAG_SB24.5</th><th>Z_MAG_SB24.5</th><th>G_MAG_SB25</th><th>R_MAG_SB25</th><th>Z_MAG_SB25</th><th>G_MAG_SB25.5</th><th>R_MAG_SB25.5</th><th>Z_MAG_SB25.5</th><th>G_MAG_SB26</th><th>R_MAG_SB26</th><th>Z_MAG_SB26</th><th>SMA_SB22_ERR</th><th>SMA_SB22.5_ERR</th><th>SMA_SB23_ERR</th><th>SMA_SB23.5_ERR</th><th>SMA_SB24_ERR</th><th>SMA_SB24.5_ERR</th><th>SMA_SB25_ERR</th><th>SMA_SB25.5_ERR</th><th>SMA_SB26_ERR</th><th>G_MAG_SB22_ERR</th><th>R_MAG_SB22_ERR</th><th>Z_MAG_SB22_ERR</th><th>G_MAG_SB22.5_ERR</th><th>R_MAG_SB22.5_ERR</th><th>Z_MAG_SB22.5_ERR</th><th>G_MAG_SB23_ERR</th><th>R_MAG_SB23_ERR</th><th>Z_MAG_SB23_ERR</th><th>G_MAG_SB23.5_ERR</th><th>R_MAG_SB23.5_ERR</th><th>Z_MAG_SB23.5_ERR</th><th>G_MAG_SB24_ERR</th><th>R_MAG_SB24_ERR</th><th>Z_MAG_SB24_ERR</th><th>G_MAG_SB24.5_ERR</th><th>R_MAG_SB24.5_ERR</th><th>Z_MAG_SB24.5_ERR</th><th>G_MAG_SB25_ERR</th><th>R_MAG_SB25_ERR</th><th>Z_MAG_SB25_ERR</th><th>G_MAG_SB25.5_ERR</th><th>R_MAG_SB25.5_ERR</th><th>Z_MAG_SB25.5_ERR</th><th>G_MAG_SB26_ERR</th><th>R_MAG_SB26_ERR</th><th>Z_MAG_SB26_ERR</th><th>G_COG_PARAMS_MTOT</th><th>G_COG_PARAMS_M0</th><th>G_COG_PARAMS_ALPHA1</th><th>G_COG_PARAMS_ALPHA2</th><th>G_COG_PARAMS_CHI2</th><th>R_COG_PARAMS_MTOT</th><th>R_COG_PARAMS_M0</th><th>R_COG_PARAMS_ALPHA1</th><th>R_COG_PARAMS_ALPHA2</th><th>R_COG_PARAMS_CHI2</th><th>Z_COG_PARAMS_MTOT</th><th>Z_COG_PARAMS_M0</th><th>Z_COG_PARAMS_ALPHA1</th><th>Z_COG_PARAMS_ALPHA2</th><th>Z_COG_PARAMS_CHI2</th><th>ELLIPSEBIT</th></tr></thead>\n",
       "<thead><tr><th>int64</th><th>bytes16</th><th>bytes29</th><th>int64</th><th>float64</th><th>float64</th><th>bytes21</th><th>float32</th><th>float32</th><th>float32</th><th>float32</th><th>float32</th><th>float32</th><th>bool</th><th>bytes13</th><th>int64</th><th>bytes35</th><th>int16</th><th>bool</th><th>float64</th><th>float64</th><th>float32</th><th>bytes8</th><th>float64</th><th>float64</th><th>float32</th><th>bytes4</th><th>float32</th><th>float32</th><th>float64</th><th>float64</th><th>float32</th><th>float32</th><th>float32</th><th>float32</th><th>float32</th><th>float32</th><th>float32</th><th>float32</th><th>float32</th><th>float32</th><th>float32</th><th>float32</th><th>float32</th><th>float32</th><th>float32</th><th>float32</th><th>float32</th><th>float32</th><th>float32</th><th>float32</th><th>float32</th><th>float32</th><th>float32</th><th>float32</th><th>float32</th><th>float32</th><th>float32</th><th>float32</th><th>float32</th><th>float32</th><th>float32</th><th>float32</th><th>float32</th><th>float32</th><th>float32</th><th>float32</th><th>float32</th><th>float32</th><th>float32</th><th>float32</th><th>float32</th><th>float32</th><th>float32</th><th>float32</th><th>float32</th><th>float32</th><th>float32</th><th>float32</th><th>float32</th><th>float32</th><th>float32</th><th>float32</th><th>float32</th><th>float32</th><th>float32</th><th>float32</th><th>float32</th><th>float32</th><th>float32</th><th>float32</th><th>float32</th><th>float32</th><th>float32</th><th>float32</th><th>float32</th><th>float32</th><th>float32</th><th>float32</th><th>float32</th><th>float32</th><th>float32</th><th>float32</th><th>float32</th><th>float32</th><th>float32</th><th>float32</th><th>float32</th><th>float32</th><th>float32</th><th>float32</th><th>float32</th><th>float32</th><th>float32</th><th>float32</th><th>float32</th><th>float32</th><th>float32</th><th>float32</th><th>float32</th><th>float32</th><th>float32</th><th>int32</th></tr></thead>\n",
       "<tr><td>1001302</td><td>SGA-2020 1001302</td><td>PGC1177421</td><td>1177421</td><td>179.4677715</td><td>0.8579886</td><td>--</td><td>69.64</td><td>0.41783038</td><td>0.3548134</td><td>0.10590726</td><td>24.72748</td><td>17.994</td><td>False</td><td>LEDA-20181114</td><td>367770</td><td>PGC1177421</td><td>1</td><td>True</td><td>179.4677715</td><td>0.8579886</td><td>0.41783038</td><td>1793p007</td><td>179.46777256570698</td><td>0.8579817284750741</td><td>0.459222</td><td>SB26</td><td>72.036606</td><td>0.34795445</td><td>179.46754570859778</td><td>0.8579873275210212</td><td>11.05459</td><td>5.6530657</td><td>5.104197</td><td>4.99113</td><td>3.6659405</td><td>5.297342</td><td>6.8670187</td><td>8.303286</td><td>9.554755</td><td>10.607548</td><td>11.479372</td><td>12.513401</td><td>13.77666</td><td>19.135197</td><td>18.514793</td><td>18.055344</td><td>18.610353</td><td>18.046705</td><td>17.617245</td><td>18.295559</td><td>17.777506</td><td>17.36816</td><td>18.09619</td><td>17.600636</td><td>17.206568</td><td>17.980507</td><td>17.501755</td><td>17.113266</td><td>17.915882</td><td>17.449116</td><td>17.06284</td><td>17.880283</td><td>17.420956</td><td>17.03312</td><td>17.852493</td><td>17.401283</td><td>17.007994</td><td>17.831041</td><td>17.385185</td><td>16.991564</td><td>0.04452628</td><td>0.06684575</td><td>0.06077771</td><td>0.06216872</td><td>0.06596702</td><td>0.06663131</td><td>0.05344319</td><td>0.082110435</td><td>0.19219008</td><td>0.030917166</td><td>0.037118454</td><td>0.039950326</td><td>0.026310228</td><td>0.030867003</td><td>0.03279852</td><td>0.023930356</td><td>0.027698016</td><td>0.028770646</td><td>0.0223635</td><td>0.025262905</td><td>0.026193593</td><td>0.021120043</td><td>0.023711866</td><td>0.024591547</td><td>0.02018419</td><td>0.022715302</td><td>0.023612978</td><td>0.019654883</td><td>0.0221756</td><td>0.023063712</td><td>0.019225596</td><td>0.021832649</td><td>0.022614298</td><td>0.018892244</td><td>0.021577386</td><td>0.022342043</td><td>17.779795</td><td>0.31523618</td><td>0.72515684</td><td>4.579929</td><td>0.22905691</td><td>17.350004</td><td>0.25832015</td><td>0.64711636</td><td>4.8961196</td><td>0.30607206</td><td>16.940527</td><td>0.29201382</td><td>0.67604846</td><td>4.158233</td><td>0.20092589</td><td>0</td></tr>\n",
       "</table></div>"
      ],
      "text/plain": [
       "<Table length=1>\n",
       " SGA_ID    SGA_GALAXY      GALAXY   ... Z_COG_PARAMS_CHI2 ELLIPSEBIT\n",
       " int64      bytes16       bytes29   ...      float32        int32   \n",
       "------- ---------------- ---------- ... ----------------- ----------\n",
       "1001302 SGA-2020 1001302 PGC1177421 ...        0.20092589          0"
      ]
     },
     "execution_count": 45,
     "metadata": {},
     "output_type": "execute_result"
    }
   ],
   "source": [
    "SGA[SGA['SGA_ID']== 1001302]"
   ]
  },
  {
   "cell_type": "code",
   "execution_count": 32,
   "id": "cf51094e-4d41-4809-b1d2-83a38e7ad91f",
   "metadata": {
    "tags": []
   },
   "outputs": [],
   "source": [
    "sga_ids = [9769, 11977, 12892, 14501, 16383, 19235, 19278, 25532, 30149, 31220, 32484, 36904, 37543, 46327, 58617, 73111, 88963, 91660, 90791, 106536, \n",
    "           114405, 114489, 122580, 126630, 125611, 128163, 128411, 130766, 149502, 153504, 175220, 176736, 184044, 186239, 189685, 188525, 190308, \n",
    "           192158, 196470, 199038, 202236, 205028, 209429, 212382, 218773, 235556, 254532, 272164, 272562, 276638, 288715, 289743, 291766, 300446, \n",
    "           302062, 305831, 309378, 319942, 330678, 349027, 349346, 363344, 373692, 378842, 384420, 389177, 393190, 395070, 398443, 398532, 416531, \n",
    "           431242, 430161, 432294, 450689, 450566, 455486, 457147, 458798, 462867, 466872, 467582, 471327, 469868, 471893, 473436, 477805, 481956, \n",
    "           485800, 493017, 507499, 526710, 544419, 544810, 544799, 544943, 548724, 548848, 550458, 564440, 569298, 568664, 570086, 582248, 591927, \n",
    "           607528, 608015, 629144, 630029, 630390, 635043, 638386, 641578, 643231, 643845, 644940, 647966, 649753, 649960, 651096, 654469, 659599, \n",
    "           663463, 671301, 671533, 694525, 696291, 696345, 706579, 720480, 722142, 726854, 728327, 729726, 729754, 736449, 742167, 743030, 744650, \n",
    "           752683, 757313, 757166, 758123, 759261, 759003, 766672, 783693, 793633, 804643, 805225, 819754, 820598, 823301, 824225, 826809, 827949, \n",
    "           833961, 833981, 843065, 843126, 845052, 887433, 901663, 901980, 908818, 908978, 911046, 914975, 914909, 916161, 920806, 923400, 925923, \n",
    "           925354, 928810, 928876, 932984, 947709, 953644, 957521, 957850, 967351, 968864, 971635, 975775, 972260, 977015, 976853, 979168, 978708, \n",
    "           989040, 989244, 1001302, 1003319, 1008726, 1014959, 1018187, 1021462, 1026141, 1031898, 1033651, 1033344, 1050173, 1065602, 1073430, \n",
    "           1086934, 1087039, 1087374, 1090772, 1091806, 1096564, 1098043, 1103477, 1111824, 1117018, 1124386, 1143335, 1146354, 1161160, 1167691, \n",
    "           1171841, 1179377, 1184894, 1184912, 1186034, 1187240, 1188032, 1188617, 1188926, 1193015, 1191665, 1194588, 1194958, 1199020, 1199539, \n",
    "           1201319, 1203786, 1204237, 1206707, 1218166, 1219319, 1254154, 1264056, 1264591, 1267967, 1271477, 1271549, 1272700, 1273605, 1278144, \n",
    "           1281619, 1282407, 1285273, 1286710, 1289613, 1293967, 1301768, 1304908, 1335916, 1338866, 1345100, 1348956, 1349555, 1354266, 1355575, \n",
    "           1361363, 1361399, 1365519, 1365549, 1367137, 1368018, 1368443, 1374964, 1379143, 1405053, 1429680, 1434487]"
   ]
  },
  {
   "cell_type": "code",
   "execution_count": 33,
   "id": "74003f43-bd06-451b-98ec-d1294f3889e5",
   "metadata": {
    "tags": []
   },
   "outputs": [],
   "source": [
    "#R26 columns\n",
    "tf_mastertable['VROT_R26']=np.nan\n",
    "tf_mastertable['VROT_R26_ERR']=np.nan\n",
    "tf_mastertable['M_R26']=np.nan\n",
    "tf_mastertable['M_R26_ERR']=np.nan\n",
    "#3.5 R26 columns\n",
    "tf_mastertable['VROT_3P5R26']=np.nan\n",
    "tf_mastertable['VROT_3P5R26_ERR']=np.nan\n",
    "tf_mastertable['M_3P5R26']=np.nan\n",
    "tf_mastertable['M_3P5R26_ERR']=np.nan\n",
    "#Absolute Magnitude Column\n",
    "tf_mastertable['RABS_MAG26']=np.nan"
   ]
  },
  {
   "cell_type": "code",
   "execution_count": 34,
   "id": "9e0e2962-4832-4b2b-abf2-32ac19380279",
   "metadata": {},
   "outputs": [],
   "source": [
    "#functions for vrot and mass w/ errors calculations\n",
    "def v_rot(r, v_max, r_turn, alpha):\n",
    "    '''\n",
    "    Calculate Rotational Velocity at a radius\n",
    "    Parameters\n",
    "    ----------\n",
    "    r : float\n",
    "        Target distance.\n",
    "    v_max : float\n",
    "        Maximum velocity.\n",
    "    r_turn: float\n",
    "        Velocity curve turning point.\n",
    "    alpha : \n",
    "        Velocity curve angle.\n",
    "    Returns\n",
    "    -------\n",
    "    Rotational velocity in km / s\n",
    "    '''\n",
    "    vrot = (v_max * r) / ((r_turn ** alpha + r ** alpha) ** (1/alpha))\n",
    "    return vrot\n",
    "\n",
    "#vrot error calculations\n",
    "def v_rot_error(r, v_max, r_turn, alpha, v_max_err, r_turn_err, alpha_err):\n",
    "    '''\n",
    "    Calculate error in Rotational Velocity given errors in parameters\n",
    "    Parameters\n",
    "    ----------\n",
    "    r : float\n",
    "        Radius in kpc.\n",
    "    v_max : float\n",
    "        Maximum velocity.\n",
    "    r_turn: float\n",
    "        Velocity curve turning point.\n",
    "    alpha : float\n",
    "        Velocity curve angle.\n",
    "    v_max_err : float\n",
    "        Uncertainty in maximum velocity.\n",
    "    r_turn_err : float\n",
    "        Uncertainty in velocity curve turning point.\n",
    "    alpha_err : float\n",
    "        Uncertainty in velocity curve angle.\n",
    "    Returns\n",
    "    -------\n",
    "    Error in rotational velocity in km / s\n",
    "    '''\n",
    "    # Calculate the partial derivatives\n",
    "    common_denom = (r_turn ** alpha + r ** alpha)\n",
    "    dvrot_dvmax = r / (common_denom ** (1 / alpha))\n",
    "    dvrot_drturn = -v_max * r * (r_turn ** (alpha - 1)) * (np.log(common_denom)) / (common_denom ** ((1 / alpha) + 1))\n",
    "    dvrot_dalpha = -v_max * r * (r_turn ** alpha * np.log(r_turn) + r ** alpha * np.log(r)) / (alpha ** 2 * common_denom ** ((1 / alpha) + 1))\n",
    "\n",
    "    # Calculate the error propagation\n",
    "    v_rot_err = np.sqrt((dvrot_dvmax * v_max_err) ** 2 +\n",
    "                        (dvrot_drturn * r_turn_err) ** 2 +\n",
    "                        (dvrot_dalpha * alpha_err) ** 2)\n",
    "    \n",
    "    return v_rot_err\n",
    "\n",
    "def chi_2(params, v, v_err, r):\n",
    "    '''\n",
    "    Calculate Chi Squared \n",
    "    Parameters\n",
    "    ----------\n",
    "    params : list\n",
    "        v_max, r_turn, alpha.\n",
    "    v : float\n",
    "        Absolute value of velocity.\n",
    "    v_err : float\n",
    "        Uncertainty for velocity.\n",
    "    r : \n",
    "        Target distance.\n",
    "    Returns\n",
    "    -------\n",
    "    Chi Squared value\n",
    "    '''\n",
    "    v_max, r_turn, alpha = params\n",
    "    v_model = v_rot(r, v_max, r_turn, alpha)\n",
    "    chi_sq = np.sum((v_model - v)**2/(v_err**2))\n",
    "    return chi_sq\n",
    "\n",
    "def mass_calc(v_rot, r, v_rot_err):\n",
    "    '''\n",
    "    Calculate mass in log10 solar masses\n",
    "    Parameters\n",
    "    ----------\n",
    "    v_rot : float\n",
    "        Rotational velocity in km / s.\n",
    "    r : float\n",
    "        radius in kpc.\n",
    "    Returns\n",
    "    -------\n",
    "    Mass in log10 solar masses\n",
    "    '''\n",
    "    #mass calculation\n",
    "    mass = (v_rot**2 * r) / G\n",
    "    \n",
    "    #calculate mass error\n",
    "    mass_err = mass * np.sqrt((2 * v_rot_err / v_rot)**2)\n",
    "\n",
    "    # log of mass and its error\n",
    "    log_mass = np.log10(mass)\n",
    "    log_mass_err = np.log10(mass + mass_err) - log_mass\n",
    "\n",
    "    return log_mass, log_mass_err\n",
    "\n",
    "#function for magnitude calculations\n",
    "def mag_calc(app_mag, d):\n",
    "    '''\n",
    "    Calculate Absoulte Magnitude\n",
    "    Parameters\n",
    "    ----------\n",
    "    app_mag : float\n",
    "        Apparent Magnitude.\n",
    "    d : float\n",
    "        Distance.\n",
    "    Returns\n",
    "    -------\n",
    "    Absolute Magnitude\n",
    "    '''\n",
    "    abs_mag = app_mag - 5*np.log10(d/10)\n",
    "    return abs_mag"
   ]
  },
  {
   "cell_type": "code",
   "execution_count": 35,
   "id": "fb735998-6fb5-4285-ab22-418cd0f0af7e",
   "metadata": {
    "tags": []
   },
   "outputs": [],
   "source": [
    "#calculate R26 mass for all galaxies w/ errors\n",
    "for sga_id in sga_ids:\n",
    "    sga = SGA[SGA['SGA_ID']==sga_id]\n",
    "    galaxy = tf_mastertable[tf_mastertable['SGA_ID']==sga_id]\n",
    "    redshift = galaxy['Z_CENTER']\n",
    "    z = np.abs(redshift)\n",
    "\n",
    "    #parameters\n",
    "    diam = 0.5*sga['D26'] #arcmin\n",
    "    theta = diam * (np.pi / (180*60)) #rads\n",
    "    d = 1000*((c*z)/H) #kpcs\n",
    "    r = d * np.tan(theta) #kpc\n",
    "    v_max = galaxy['VMAX']\n",
    "    v_max_err = galaxy['VMAX_ERR']\n",
    "    r_turn = galaxy['RTURN']\n",
    "    r_turn_err = galaxy['RTURN_ERR']\n",
    "    alpha = galaxy['ALPHA']\n",
    "    alpha_err = galaxy['ALPHA_ERR']\n",
    "                                            \n",
    "    # calculate the vrot at R26\n",
    "    vrot = v_rot(r, v_max, r_turn, alpha)\n",
    "\n",
    "    # calculate the vrot error\n",
    "    vrot_err = v_rot_error(r, v_max, r_turn, alpha, v_max_err, r_turn_err, alpha_err)\n",
    "    \n",
    "    #add vrot and error to table\n",
    "    tf_mastertable['VROT_R26'][tf_mastertable['SGA_ID']==sga_id] = vrot\n",
    "    tf_mastertable['VROT_R26_ERR'][tf_mastertable['SGA_ID']==sga_id] = vrot_err\n",
    "    \n",
    "    # calculate the mass and mass error in log10 solar masses using vrot\n",
    "    log_mass, log_mass_err = mass_calc(vrot, r, vrot_err)\n",
    "    \n",
    "    #adding mass and error to table\n",
    "    tf_mastertable['M_R26'][tf_mastertable['SGA_ID']==sga_id] = log_mass\n",
    "    tf_mastertable['M_R26_ERR'][tf_mastertable['SGA_ID']==sga_id] = log_mass_err"
   ]
  },
  {
   "cell_type": "code",
   "execution_count": 36,
   "id": "ccb52baa-eacd-44cf-bac7-f5e4b4271877",
   "metadata": {
    "tags": []
   },
   "outputs": [],
   "source": [
    "#calculate 3.5R26 mass for all galaxies w/ errors\n",
    "for sga_id in sga_ids:\n",
    "    sga = SGA[SGA['SGA_ID']==sga_id]\n",
    "    galaxy = tf_mastertable[tf_mastertable['SGA_ID']==sga_id]\n",
    "    redshift = galaxy['Z_CENTER']\n",
    "    z = np.abs(redshift)\n",
    "\n",
    "    #parameters\n",
    "    diam = 0.5*sga['D26'] #arcmin\n",
    "    theta = diam * (np.pi / (180*60)) #rads\n",
    "    d = 1000*((c*z)/H) #kpcs\n",
    "    r = 3.5 * d * np.tan(theta) #kpc\n",
    "    v_max = galaxy['VMAX']\n",
    "    v_max_err = galaxy['VMAX_ERR']\n",
    "    r_turn = galaxy['RTURN']\n",
    "    r_turn_err = galaxy['RTURN_ERR']\n",
    "    alpha = galaxy['ALPHA']\n",
    "    alpha_err = galaxy['ALPHA_ERR']\n",
    "    # calculate the vrot at R26\n",
    "    vrot = v_rot(r, v_max, r_turn, alpha)\n",
    "\n",
    "    # calculate the vrot error\n",
    "    vrot_err = v_rot_error(r, v_max, r_turn, alpha, v_max_err, r_turn_err, alpha_err)\n",
    "    \n",
    "    #add vrot and error to table\n",
    "    tf_mastertable['VROT_3P5R26'][tf_mastertable['SGA_ID']==sga_id] = vrot\n",
    "    tf_mastertable['VROT_3P5R26_ERR'][tf_mastertable['SGA_ID']==sga_id] = vrot_err\n",
    "    \n",
    "    # calculate the mass and mass error in log10 solar masses using vrot\n",
    "    log_mass, log_mass_err = mass_calc(vrot, r, vrot_err)\n",
    "    \n",
    "    #adding mass and error to table\n",
    "    tf_mastertable['M_3P5R26'][tf_mastertable['SGA_ID']==sga_id] = log_mass\n",
    "    tf_mastertable['M_3P5R26_ERR'][tf_mastertable['SGA_ID']==sga_id] = log_mass_err"
   ]
  },
  {
   "cell_type": "code",
   "execution_count": 47,
   "id": "d6a8b506-75a4-4134-a9ef-152b6299643a",
   "metadata": {
    "tags": []
   },
   "outputs": [],
   "source": [
    "for sga_id in sga_ids:\n",
    "    sga = SGA[SGA['SGA_ID']==sga_id]\n",
    "    galaxy = tf_mastertable[tf_mastertable['SGA_ID']==sga_id]\n",
    "    app_mag = sga['R_MAG_SB26']\n",
    "    if app_mag != -1:\n",
    "        redshift = galaxy['Z_CENTER']\n",
    "        z = np.abs(redshift)\n",
    "        d_kpc = 1000*((c*z)/H) #kpcs\n",
    "        d = (d_kpc)*1000\n",
    "        abs_mag = mag_calc(app_mag, d)\n",
    "        tf_mastertable['RABS_MAG26'][tf_mastertable['SGA_ID']==sga_id] = abs_mag"
   ]
  },
  {
   "cell_type": "code",
   "execution_count": 48,
   "id": "e1c849aa-344e-4f63-950e-cce2c4e79e56",
   "metadata": {
    "tags": []
   },
   "outputs": [
    {
     "data": {
      "text/html": [
       "<div><i>Table length=9</i>\n",
       "<table id=\"table139777259600384\" class=\"table-striped table-bordered table-condensed\">\n",
       "<thead><tr><th>TARGETID</th><th>TARGET_RA</th><th>TARGET_DEC</th><th>HEALPIX</th><th>SURVEY</th><th>Z</th><th>ZERR</th><th>ZWARN</th><th>DELTACHI2</th><th>FILENAME</th><th>PVTYPE</th><th>SGA_ID</th><th>RA</th><th>DEC</th><th>OBS_IN_SV</th><th>SKY_FIBER_DIST</th><th>SKY_FIBER_DIST_R26</th><th>ROT_CURVE</th><th>EOA</th><th>VELOCITY</th><th>VERR</th><th>Z_CENTER</th><th>ROTCURVE_CHI2</th><th>VMAX</th><th>VMAX_ERR</th><th>RTURN</th><th>RTURN_ERR</th><th>ALPHA</th><th>ALPHA_ERR</th><th>INCLINATION</th><th>VROT_R26</th><th>VROT_R26_ERR</th><th>M_R26</th><th>M_R26_ERR</th><th>VROT_3P5R26</th><th>VROT_3P5R26_ERR</th><th>M_3P5R26</th><th>M_3P5R26_ERR</th><th>RABS_MAG26</th></tr></thead>\n",
       "<thead><tr><th>int64</th><th>float64</th><th>float64</th><th>int64</th><th>bytes4</th><th>float64</th><th>float64</th><th>int64</th><th>float64</th><th>bytes65</th><th>bytes3</th><th>int64</th><th>float64</th><th>float64</th><th>float64</th><th>float64</th><th>float64</th><th>float64</th><th>float64</th><th>float64</th><th>float64</th><th>float64</th><th>float64</th><th>float64</th><th>float64</th><th>float64</th><th>float64</th><th>float64</th><th>float64</th><th>float64</th><th>float64</th><th>float64</th><th>float64</th><th>float64</th><th>float64</th><th>float64</th><th>float64</th><th>float64</th><th>float64</th></tr></thead>\n",
       "<tr><td>1070132092731403</td><td>179.470211844291</td><td>0.8587724859608</td><td>27650</td><td>sv3</td><td>0.105622028293016</td><td>1.44051968704578e-05</td><td>0</td><td>103.813973851502</td><td>fuji/healpix/sv3/bright/276/27650/redrock-sv3-bright-27650.fits</td><td>TFT</td><td>1001302</td><td>179.47021184429076</td><td>0.8587724859608005</td><td>1.0</td><td>0.0025639894776274498</td><td>0.6700000103246535</td><td>1.0</td><td>0.0</td><td>-75.38931786886482</td><td>4.393662659673312</td><td>0.10587349998904133</td><td>588.4038085786137</td><td>147.4872219372602</td><td>0.8579026510102183</td><td>0.30960505249344444</td><td>0.06259765002020086</td><td>99.9837936498326</td><td>272.1652990680309</td><td>1.2759389754248802</td><td>147.48722193726022</td><td>12.292899522662395</td><td>11.030275199956364</td><td>0.06695838807163135</td><td>147.48722193726022</td><td>17.314528051152024</td><td>11.57434324430664</td><td>0.09159437058325004</td><td>-20.122854624529303</td></tr>\n",
       "<tr><td>1083326232264715</td><td>179.470211844291</td><td>0.8587724859608</td><td>27650</td><td>sv3</td><td>0.105649103365147</td><td>1.37439786192377e-05</td><td>0</td><td>251.056394457817</td><td>fuji/healpix/sv3/dark/276/27650/redrock-sv3-dark-27650.fits</td><td>TFT</td><td>1001302</td><td>179.47021184429076</td><td>0.8587724859608005</td><td>1.0</td><td>0.0025639894776274498</td><td>0.6700000103246535</td><td>1.0</td><td>0.0</td><td>-67.27241544418176</td><td>4.198980965469619</td><td>0.10587349998904133</td><td>588.4038085786137</td><td>147.4872219372602</td><td>0.8579026510102183</td><td>0.30960505249344444</td><td>0.06259765002020086</td><td>99.9837936498326</td><td>272.1652990680309</td><td>1.2759389754248802</td><td>147.48722193726022</td><td>12.292899522662395</td><td>11.030275199956364</td><td>0.06695838807163135</td><td>147.48722193726022</td><td>17.314528051152024</td><td>11.57434324430664</td><td>0.09159437058325004</td><td>-20.122854624529303</td></tr>\n",
       "<tr><td>1083326232264713</td><td>179.466571130357</td><td>0.857592250335877</td><td>27650</td><td>sv3</td><td>0.106362597976074</td><td>3.00124771947937e-06</td><td>0</td><td>3871.25708341599</td><td>fuji/healpix/sv3/dark/276/27650/redrock-sv3-dark-27650.fits</td><td>TFT</td><td>1001302</td><td>179.4665711303573</td><td>0.8575922503358774</td><td>1.0</td><td>0.0012628604889797456</td><td>0.3300000050850318</td><td>1.0</td><td>0.0</td><td>146.62788773537676</td><td>1.2098688911597317</td><td>0.10587349998904133</td><td>588.4038085786137</td><td>147.4872219372602</td><td>0.8579026510102183</td><td>0.30960505249344444</td><td>0.06259765002020086</td><td>99.9837936498326</td><td>272.1652990680309</td><td>1.2759389754248802</td><td>147.48722193726022</td><td>12.292899522662395</td><td>11.030275199956364</td><td>0.06695838807163135</td><td>147.48722193726022</td><td>17.314528051152024</td><td>11.57434324430664</td><td>0.09159437058325004</td><td>-20.122854624529303</td></tr>\n",
       "<tr><td>1070132092731399</td><td>179.464131853278</td><td>0.856801490529996</td><td>27650</td><td>sv3</td><td>1.03087178074219</td><td>0.000197813829449578</td><td>4</td><td>1.33134818449616</td><td>fuji/healpix/sv3/bright/276/27650/redrock-sv3-bright-27650.fits</td><td>TFT</td><td>1001302</td><td>179.46413185327816</td><td>0.856801490529996</td><td>1.0</td><td>0.0038268499665838206</td><td>1.0000000154035773</td><td>1.0</td><td>0.0</td><td>277307.50823276053</td><td>59.30860988676193</td><td>0.10587349998904133</td><td>--</td><td>--</td><td>--</td><td>--</td><td>--</td><td>--</td><td>--</td><td>--</td><td>nan</td><td>0.0</td><td>1.0</td><td>1.0</td><td>nan</td><td>0.0</td><td>1.0</td><td>1.0</td><td>-20.122854624529303</td></tr>\n",
       "<tr><td>39627805855585329</td><td>179.467772565707</td><td>0.857981728475074</td><td>27650</td><td>sv3</td><td>0.1058810661205</td><td>5.16938798206203e-06</td><td>0</td><td>3628.18237131834</td><td>fuji/healpix/sv3/bright/276/27650/redrock-sv3-bright-27650.fits</td><td>TFT</td><td>1001302</td><td>179.46777256570698</td><td>0.8579817284750743</td><td>1.0</td><td>9.93923337957349e-17</td><td>2.5972362698989904e-14</td><td>1.0</td><td>0.0</td><td>2.2682691475439807</td><td>1.748123309045789</td><td>0.10587349998904133</td><td>588.4038085786137</td><td>147.4872219372602</td><td>0.8579026510102183</td><td>0.30960505249344444</td><td>0.06259765002020086</td><td>99.9837936498326</td><td>272.1652990680309</td><td>1.2759389754248802</td><td>147.48722193726022</td><td>12.292899522662395</td><td>11.030275199956364</td><td>0.06695838807163135</td><td>147.48722193726022</td><td>17.314528051152024</td><td>11.57434324430664</td><td>0.09159437058325004</td><td>-20.122854624529303</td></tr>\n",
       "<tr><td>1070132092731404</td><td>179.471413280382</td><td>0.859161962956448</td><td>27650</td><td>sv3</td><td>1.52278831950645</td><td>0.000119143196848319</td><td>4</td><td>0.78112968057394</td><td>fuji/healpix/sv3/bright/276/27650/redrock-sv3-bright-27650.fits</td><td>TFT</td><td>1001302</td><td>179.47141328038205</td><td>0.859161962956448</td><td>1.0</td><td>0.0038268499666231693</td><td>1.0000000154138595</td><td>1.0</td><td>0.0</td><td>424780.3765197503</td><td>35.72738887279284</td><td>0.10587349998904133</td><td>--</td><td>--</td><td>--</td><td>--</td><td>--</td><td>--</td><td>--</td><td>--</td><td>nan</td><td>0.0</td><td>1.0</td><td>1.0</td><td>nan</td><td>0.0</td><td>1.0</td><td>1.0</td><td>-20.122854624529303</td></tr>\n",
       "<tr><td>1083326232264713</td><td>179.466571130357</td><td>0.857592250335877</td><td>27650</td><td>sv3</td><td>0.106362751757491</td><td>2.96379453140173e-06</td><td>0</td><td>3877.27263593674</td><td>iron/healpix/sv3/dark/276/27650/redrock-sv3-dark-27650.fits</td><td>TFT</td><td>1001302</td><td>179.4663162804661</td><td>0.8575096337124205</td><td>1.0</td><td>0.001530739986625239</td><td>0.4000000061592648</td><td>1.0</td><td>0.0</td><td>146.67399024437492</td><td>1.2015421997961466</td><td>0.10587349998904133</td><td>588.4038085786137</td><td>147.4872219372602</td><td>0.8579026510102183</td><td>0.30960505249344444</td><td>0.06259765002020086</td><td>99.9837936498326</td><td>272.1652990680309</td><td>1.2759389754248802</td><td>147.48722193726022</td><td>12.292899522662395</td><td>11.030275199956364</td><td>0.06695838807163135</td><td>147.48722193726022</td><td>17.314528051152024</td><td>11.57434324430664</td><td>0.09159437058325004</td><td>-20.122854624529303</td></tr>\n",
       "<tr><td>39627805855585329</td><td>179.467772565707</td><td>0.857981728475074</td><td>27650</td><td>main</td><td>0.105858380639048</td><td>4.00134416239406e-06</td><td>0</td><td>4194.04756093025</td><td>iron/healpix/main/bright/276/27650/redrock-main-bright-27650.fits</td><td>TFT</td><td>1001302</td><td>179.46777256570698</td><td>0.8579817284750743</td><td>1.0</td><td>9.93923337957349e-17</td><td>2.5972362698989904e-14</td><td>1.0</td><td>0.0</td><td>-4.532667097863842</td><td>1.446791278347321</td><td>0.10587349998904133</td><td>588.4038085786137</td><td>147.4872219372602</td><td>0.8579026510102183</td><td>0.30960505249344444</td><td>0.06259765002020086</td><td>99.9837936498326</td><td>272.1652990680309</td><td>1.2759389754248802</td><td>147.48722193726022</td><td>12.292899522662395</td><td>11.030275199956364</td><td>0.06695838807163135</td><td>147.48722193726022</td><td>17.314528051152024</td><td>11.57434324430664</td><td>0.09159437058325004</td><td>-20.122854624529303</td></tr>\n",
       "<tr><td>39627805855585329</td><td>179.467772565707</td><td>0.857981728475074</td><td>27650</td><td>sv3</td><td>0.105881053207576</td><td>5.16422273570551e-06</td><td>0</td><td>3628.65614712238</td><td>iron/healpix/sv3/bright/276/27650/redrock-sv3-bright-27650.fits</td><td>TFT</td><td>1001302</td><td>179.46777256570698</td><td>0.8579817284750743</td><td>1.0</td><td>9.93923337957349e-17</td><td>2.5972362698989904e-14</td><td>1.0</td><td>0.0</td><td>2.2643979503198617</td><td>1.7467506805160056</td><td>0.10587349998904133</td><td>588.4038085786137</td><td>147.4872219372602</td><td>0.8579026510102183</td><td>0.30960505249344444</td><td>0.06259765002020086</td><td>99.9837936498326</td><td>272.1652990680309</td><td>1.2759389754248802</td><td>147.48722193726022</td><td>12.292899522662395</td><td>11.030275199956364</td><td>0.06695838807163135</td><td>147.48722193726022</td><td>17.314528051152024</td><td>11.57434324430664</td><td>0.09159437058325004</td><td>-20.122854624529303</td></tr>\n",
       "</table></div>"
      ],
      "text/plain": [
       "<Table length=9>\n",
       "     TARGETID        TARGET_RA     ...     M_3P5R26_ERR         RABS_MAG26    \n",
       "      int64           float64      ...       float64             float64      \n",
       "----------------- ---------------- ... ------------------- -------------------\n",
       " 1070132092731403 179.470211844291 ... 0.09159437058325004 -20.122854624529303\n",
       " 1083326232264715 179.470211844291 ... 0.09159437058325004 -20.122854624529303\n",
       " 1083326232264713 179.466571130357 ... 0.09159437058325004 -20.122854624529303\n",
       " 1070132092731399 179.464131853278 ...                 1.0 -20.122854624529303\n",
       "39627805855585329 179.467772565707 ... 0.09159437058325004 -20.122854624529303\n",
       " 1070132092731404 179.471413280382 ...                 1.0 -20.122854624529303\n",
       " 1083326232264713 179.466571130357 ... 0.09159437058325004 -20.122854624529303\n",
       "39627805855585329 179.467772565707 ... 0.09159437058325004 -20.122854624529303\n",
       "39627805855585329 179.467772565707 ... 0.09159437058325004 -20.122854624529303"
      ]
     },
     "execution_count": 48,
     "metadata": {},
     "output_type": "execute_result"
    }
   ],
   "source": [
    "tf_mastertable[tf_mastertable['SGA_ID']==1001302]"
   ]
  },
  {
   "cell_type": "code",
   "execution_count": 55,
   "id": "c7313b12-b5de-409c-8d13-92e1ea469b5f",
   "metadata": {
    "tags": []
   },
   "outputs": [],
   "source": [
    "tf_mastertable['M_R26'][tf_mastertable['M_R26']==1] = np.nan\n",
    "tf_mastertable['M_R26_ERR'] [tf_mastertable['M_3P5R26_ERR']==1]= np.nan\n",
    "tf_mastertable['M_3P5R26'][tf_mastertable['M_3P5R26_ERR']==1] = np.nan\n",
    "tf_mastertable['M_3P5R26_ERR'][tf_mastertable['M_3P5R26_ERR']==1] = np.nan"
   ]
  },
  {
   "cell_type": "code",
   "execution_count": 56,
   "id": "4e7f312a-bd8d-4578-9b88-f7139dc325b7",
   "metadata": {
    "tags": []
   },
   "outputs": [
    {
     "data": {
      "text/html": [
       "<div><i>Table length=0</i>\n",
       "<table id=\"table139777034959168\" class=\"table-striped table-bordered table-condensed\">\n",
       "<thead><tr><th>TARGETID</th><th>TARGET_RA</th><th>TARGET_DEC</th><th>HEALPIX</th><th>SURVEY</th><th>Z</th><th>ZERR</th><th>ZWARN</th><th>DELTACHI2</th><th>FILENAME</th><th>PVTYPE</th><th>SGA_ID</th><th>RA</th><th>DEC</th><th>OBS_IN_SV</th><th>SKY_FIBER_DIST</th><th>SKY_FIBER_DIST_R26</th><th>ROT_CURVE</th><th>EOA</th><th>VELOCITY</th><th>VERR</th><th>Z_CENTER</th><th>ROTCURVE_CHI2</th><th>VMAX</th><th>VMAX_ERR</th><th>RTURN</th><th>RTURN_ERR</th><th>ALPHA</th><th>ALPHA_ERR</th><th>INCLINATION</th><th>VROT_R26</th><th>VROT_R26_ERR</th><th>M_R26</th><th>M_R26_ERR</th><th>VROT_3P5R26</th><th>VROT_3P5R26_ERR</th><th>M_3P5R26</th><th>M_3P5R26_ERR</th><th>RABS_MAG26</th></tr></thead>\n",
       "<thead><tr><th>int64</th><th>float64</th><th>float64</th><th>int64</th><th>bytes4</th><th>float64</th><th>float64</th><th>int64</th><th>float64</th><th>bytes65</th><th>bytes3</th><th>int64</th><th>float64</th><th>float64</th><th>float64</th><th>float64</th><th>float64</th><th>float64</th><th>float64</th><th>float64</th><th>float64</th><th>float64</th><th>float64</th><th>float64</th><th>float64</th><th>float64</th><th>float64</th><th>float64</th><th>float64</th><th>float64</th><th>float64</th><th>float64</th><th>float64</th><th>float64</th><th>float64</th><th>float64</th><th>float64</th><th>float64</th><th>float64</th></tr></thead>\n",
       "</table></div>"
      ],
      "text/plain": [
       "<Table length=0>\n",
       "TARGETID TARGET_RA TARGET_DEC HEALPIX ... M_3P5R26 M_3P5R26_ERR RABS_MAG26\n",
       " int64    float64   float64    int64  ... float64    float64     float64  \n",
       "-------- --------- ---------- ------- ... -------- ------------ ----------"
      ]
     },
     "execution_count": 56,
     "metadata": {},
     "output_type": "execute_result"
    }
   ],
   "source": [
    "tf_mastertable[tf_mastertable['M_3P5R26']==1]"
   ]
  },
  {
   "cell_type": "code",
   "execution_count": 57,
   "id": "88854735-9e3d-485b-9b83-3c067cc5dae8",
   "metadata": {},
   "outputs": [],
   "source": [
    "#writing new data into new table\n",
    "tf_mastertable.write(data_dir + 'tf_mastertable_massmag.fits', format='fits', overwrite=True)"
   ]
  },
  {
   "cell_type": "code",
   "execution_count": null,
   "id": "a5037556-5380-449d-a85e-933b8e8a2827",
   "metadata": {},
   "outputs": [],
   "source": []
  }
 ],
 "metadata": {
  "kernelspec": {
   "display_name": "DESI main",
   "language": "python",
   "name": "desi-main"
  },
  "language_info": {
   "codemirror_mode": {
    "name": "ipython",
    "version": 3
   },
   "file_extension": ".py",
   "mimetype": "text/x-python",
   "name": "python",
   "nbconvert_exporter": "python",
   "pygments_lexer": "ipython3",
   "version": "3.10.14"
  }
 },
 "nbformat": 4,
 "nbformat_minor": 5
}
