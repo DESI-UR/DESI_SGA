{
 "cells": [
  {
   "cell_type": "markdown",
   "id": "6b060f6f-ec96-4023-b35b-5850a7c7e3b1",
   "metadata": {},
   "source": [
    "# Sorting issues with 'PVTYPE' label in fuji and iron data tables"
   ]
  },
  {
   "cell_type": "code",
   "execution_count": 1,
   "id": "4f91ba9c-3218-4f4a-98e0-d2494b6cc411",
   "metadata": {
    "tags": []
   },
   "outputs": [],
   "source": [
    "import numpy as np\n",
    "from astropy.table import Table, vstack\n",
    "import matplotlib.pyplot as plt\n",
    "from astropy.io import fits\n",
    "from astropy.coordinates import SkyCoord\n",
    "from astropy import units as u"
   ]
  },
  {
   "cell_type": "code",
   "execution_count": 2,
   "id": "26881a18-f44d-4bf3-bca7-c61c5bde461e",
   "metadata": {
    "tags": []
   },
   "outputs": [],
   "source": [
    "DATA_DIRECTORY = '/pscratch/sd/n/nravi/pv_rot_curves/'"
   ]
  },
  {
   "cell_type": "code",
   "execution_count": 3,
   "id": "517c2ef9-abaf-458b-906d-03b3df1f5772",
   "metadata": {
    "tags": []
   },
   "outputs": [],
   "source": [
    "# load fuji and iron tables\n",
    "tf_fuji = Table.read(DATA_DIRECTORY + 'desi_pv_tf_fuji_healpix_rotcurve.fits')\n",
    "tf_iron = Table.read(DATA_DIRECTORY + 'desi_pv_tf_iron_healpix_rotcurve.fits')"
   ]
  },
  {
   "cell_type": "code",
   "execution_count": 4,
   "id": "232e312e-f0af-43b2-9906-088045180c12",
   "metadata": {
    "tags": []
   },
   "outputs": [
    {
     "data": {
      "text/html": [
       "<div><i>Table length=5</i>\n",
       "<table id=\"table140024622253536\" class=\"table-striped table-bordered table-condensed\">\n",
       "<thead><tr><th>TARGETID</th><th>TARGET_RA</th><th>TARGET_DEC</th><th>HEALPIX</th><th>SURVEY</th><th>Z</th><th>ZERR</th><th>ZWARN</th><th>DELTACHI2</th><th>FILENAME</th><th>PVTYPE</th><th>SGA_ID</th><th>RA</th><th>DEC</th><th>OBS_IN_SV</th><th>SKY_FIBER_DIST</th><th>SKY_FIBER_DIST_R26</th><th>ROT_CURVE</th></tr></thead>\n",
       "<thead><tr><th>int64</th><th>float64</th><th>float64</th><th>int64</th><th>bytes3</th><th>float64</th><th>float64</th><th>int64</th><th>float64</th><th>bytes63</th><th>bytes3</th><th>int64</th><th>float64</th><th>float64</th><th>float64</th><th>float64</th><th>float64</th><th>float64</th></tr></thead>\n",
       "<tr><td>1079550234591232</td><td>194.390863195343</td><td>27.5157211790145</td><td>10378</td><td>sv3</td><td>1.1235686466514</td><td>7.31685779475115e-05</td><td>4</td><td>3.28414569795132</td><td>fuji/healpix/sv3/bright/103/10378/redrock-sv3-bright-10378.fits</td><td>EXT</td><td>662902</td><td>194.39086319534337</td><td>27.51572117901454</td><td>1.0</td><td>0.03927420444753712</td><td>1.0000000170652443</td><td>0.0</td></tr>\n",
       "<tr><td>1092744374124544</td><td>194.390863195343</td><td>27.5157211790145</td><td>10378</td><td>sv3</td><td>0.686773088332363</td><td>6.9756676262104e-05</td><td>4</td><td>0.786607094109058</td><td>fuji/healpix/sv3/dark/103/10378/redrock-sv3-dark-10378.fits</td><td>EXT</td><td>662902</td><td>194.39086319534337</td><td>27.51572117901454</td><td>1.0</td><td>0.03927420444753712</td><td>1.0000000170652443</td><td>0.0</td></tr>\n",
       "<tr><td>1092744374124546</td><td>194.364461113654</td><td>27.5037185881314</td><td>10378</td><td>sv3</td><td>0.0242933923052181</td><td>4.95233472646785e-05</td><td>0</td><td>95.428411073226</td><td>fuji/healpix/sv3/dark/103/10378/redrock-sv3-dark-10378.fits</td><td>EXT</td><td>662902</td><td>194.36446111365385</td><td>27.50371858813136</td><td>1.0</td><td>0.012960487467698754</td><td>0.3300000056318236</td><td>0.0</td></tr>\n",
       "<tr><td>1092744369930240</td><td>194.338458724402</td><td>27.4918902690326</td><td>10378</td><td>sv3</td><td>0.0264170223697961</td><td>0.00010139452689994</td><td>0</td><td>9.53278421035066</td><td>fuji/healpix/sv3/dark/103/10378/redrock-sv3-dark-10378.fits</td><td>EXT</td><td>662902</td><td>194.33845872440244</td><td>27.491890269032595</td><td>1.0</td><td>0.012960487467685656</td><td>0.33000000563149007</td><td>0.0</td></tr>\n",
       "<tr><td>1092744374124545</td><td>194.377858465028</td><td>27.5098100780282</td><td>10378</td><td>sv3</td><td>0.211332646769145</td><td>6.68535116703737e-05</td><td>4</td><td>3.73989077657461</td><td>fuji/healpix/sv3/dark/103/10378/redrock-sv3-dark-10378.fits</td><td>EXT</td><td>662902</td><td>194.3778584650283</td><td>27.509810078028195</td><td>1.0</td><td>0.026313716979861984</td><td>0.6700000114340222</td><td>0.0</td></tr>\n",
       "</table></div>"
      ],
      "text/plain": [
       "<Table length=5>\n",
       "    TARGETID        TARGET_RA     ...  SKY_FIBER_DIST_R26 ROT_CURVE\n",
       "     int64           float64      ...       float64        float64 \n",
       "---------------- ---------------- ... ------------------- ---------\n",
       "1079550234591232 194.390863195343 ...  1.0000000170652443       0.0\n",
       "1092744374124544 194.390863195343 ...  1.0000000170652443       0.0\n",
       "1092744374124546 194.364461113654 ...  0.3300000056318236       0.0\n",
       "1092744369930240 194.338458724402 ... 0.33000000563149007       0.0\n",
       "1092744374124545 194.377858465028 ...  0.6700000114340222       0.0"
      ]
     },
     "execution_count": 4,
     "metadata": {},
     "output_type": "execute_result"
    }
   ],
   "source": [
    "tf_fuji[:5]"
   ]
  },
  {
   "cell_type": "code",
   "execution_count": 5,
   "id": "429f1c16-e65d-4cbd-9547-64568fc432b9",
   "metadata": {
    "tags": []
   },
   "outputs": [
    {
     "data": {
      "text/html": [
       "<div><i>Table length=5</i>\n",
       "<table id=\"table140024627028224\" class=\"table-striped table-bordered table-condensed\">\n",
       "<thead><tr><th>TARGETID</th><th>TARGET_RA</th><th>TARGET_DEC</th><th>HEALPIX</th><th>SURVEY</th><th>Z</th><th>ZERR</th><th>ZWARN</th><th>DELTACHI2</th><th>FILENAME</th><th>PVTYPE</th><th>SGA_ID</th><th>RA</th><th>DEC</th><th>OBS_IN_SV</th><th>SKY_FIBER_DIST</th><th>SKY_FIBER_DIST_R26</th><th>ROT_CURVE</th></tr></thead>\n",
       "<thead><tr><th>int64</th><th>float64</th><th>float64</th><th>int64</th><th>bytes4</th><th>float64</th><th>float64</th><th>int64</th><th>float64</th><th>bytes65</th><th>bytes3</th><th>int64</th><th>float64</th><th>float64</th><th>float64</th><th>float64</th><th>float64</th><th>float64</th></tr></thead>\n",
       "<tr><td>2852147603439621</td><td>198.369130660983</td><td>36.5372037049171</td><td>10475</td><td>main</td><td>0.815976335547845</td><td>7.38513168100107e-05</td><td>4</td><td>0.128754377365112</td><td>iron/healpix/main/dark/104/10475/redrock-main-dark-10475.fits</td><td>EXT</td><td>649377</td><td>198.36913066098333</td><td>36.537203704917076</td><td>0.0</td><td>0.0567420462925582</td><td>0.599999979158402</td><td>0.0</td></tr>\n",
       "<tr><td>2399148812795907</td><td>198.371733180003</td><td>36.4994335406917</td><td>10475</td><td>main</td><td>1.11088784970434</td><td>7.48767797671894e-05</td><td>4</td><td>7.9473560154438</td><td>iron/healpix/main/bright/104/10475/redrock-main-bright-10475.fits</td><td>EXT</td><td>649377</td><td>198.37173318000336</td><td>36.499433540691676</td><td>0.0</td><td>0.09457007715465947</td><td>0.9999999652681886</td><td>0.0</td></tr>\n",
       "<tr><td>2399382443917318</td><td>184.845242475328</td><td>49.8157304793777</td><td>10995</td><td>main</td><td>1.14739342108157</td><td>0.000146302276719084</td><td>4</td><td>2.56771463155746</td><td>iron/healpix/main/bright/109/10995/redrock-main-bright-10995.fits</td><td>EXT</td><td>1008911</td><td>184.84524247532795</td><td>49.81573047937771</td><td>0.0</td><td>0.024841917763806447</td><td>0.9999999684347345</td><td>0.0</td></tr>\n",
       "<tr><td>2399634072797192</td><td>184.341289722203</td><td>70.8283725474297</td><td>11965</td><td>main</td><td>1.51703376230705</td><td>6.28979649962091e-05</td><td>4</td><td>4.76254060305655</td><td>iron/healpix/main/bright/119/11965/redrock-main-bright-11965.fits</td><td>EXT</td><td>241234</td><td>184.34128972220284</td><td>70.82837254742968</td><td>0.0</td><td>0.026555350833845817</td><td>0.8000000542794348</td><td>0.0</td></tr>\n",
       "<tr><td>2852141710442505</td><td>123.256011148025</td><td>36.2652948002806</td><td>6448</td><td>main</td><td>0.00787379494184006</td><td>3.4714052819995e-05</td><td>0</td><td>22.1719104201402</td><td>iron/healpix/main/dark/64/6448/redrock-main-dark-6448.fits</td><td>EXT</td><td>31591</td><td>123.25601114802525</td><td>36.26529480028061</td><td>0.0</td><td>0.015878717350385107</td><td>0.40000000619171416</td><td>0.0</td></tr>\n",
       "</table></div>"
      ],
      "text/plain": [
       "<Table length=5>\n",
       "    TARGETID        TARGET_RA     ...  SKY_FIBER_DIST_R26 ROT_CURVE\n",
       "     int64           float64      ...       float64        float64 \n",
       "---------------- ---------------- ... ------------------- ---------\n",
       "2852147603439621 198.369130660983 ...   0.599999979158402       0.0\n",
       "2399148812795907 198.371733180003 ...  0.9999999652681886       0.0\n",
       "2399382443917318 184.845242475328 ...  0.9999999684347345       0.0\n",
       "2399634072797192 184.341289722203 ...  0.8000000542794348       0.0\n",
       "2852141710442505 123.256011148025 ... 0.40000000619171416       0.0"
      ]
     },
     "execution_count": 5,
     "metadata": {},
     "output_type": "execute_result"
    }
   ],
   "source": [
    "tf_iron[:5]"
   ]
  },
  {
   "cell_type": "markdown",
   "id": "9d3d24b9-cd1d-4d83-817c-22eeaa7719ea",
   "metadata": {},
   "source": [
    "## checking 'TFT' targets\n",
    "for fuji these should be at center or 0.33R26; for iron at center or 0.4R26"
   ]
  },
  {
   "cell_type": "code",
   "execution_count": 45,
   "id": "05723350-640f-4d74-8bc7-93a7c39c9ce4",
   "metadata": {},
   "outputs": [
    {
     "name": "stdout",
     "output_type": "stream",
     "text": [
      "fuji TFT targets that are not centers or not at 0.33R26:  5609\n"
     ]
    }
   ],
   "source": [
    "# targets in fuji labeled 'TFT' but observations are not at center or +- 0.33R26\n",
    "fuji_tft = tf_fuji[tf_fuji['PVTYPE']=='TFT']\n",
    "print('fuji TFT targets that are not centers or not at 0.33R26: ',\n",
    "      len(fuji_tft[np.logical_and(fuji_tft['SKY_FIBER_DIST_R26'] > 0.001 , np.abs(fuji_tft['SKY_FIBER_DIST_R26'] - 0.33) > 0.001)]))"
   ]
  },
  {
   "cell_type": "code",
   "execution_count": 44,
   "id": "75fecc93-0bfc-4220-ad84-51b8445d2023",
   "metadata": {
    "tags": []
   },
   "outputs": [
    {
     "name": "stdout",
     "output_type": "stream",
     "text": [
      "iron TFT targets that are not centers or not at 0.4R26:  0\n"
     ]
    }
   ],
   "source": [
    "# targets in iron labeled 'TFT' but observations are not at center or +- 0.4R26\n",
    "iron_tft = tf_iron[tf_iron['PVTYPE'] == 'TFT']\n",
    "print('iron TFT targets that are not centers or not at 0.4R26: ',\n",
    "      len(iron_tft[np.logical_and(iron_tft['SKY_FIBER_DIST_R26'] > 0.001 , np.abs(iron_tft['SKY_FIBER_DIST_R26'] - 0.4) > 0.001)]))"
   ]
  },
  {
   "cell_type": "markdown",
   "id": "1b2a962d-279a-4308-a4c1-49b7d3a79206",
   "metadata": {},
   "source": [
    "## checking 'EXT' targets\n",
    "for iron, should be at increments of 0.2R26"
   ]
  },
  {
   "cell_type": "code",
   "execution_count": 80,
   "id": "d0b3a244-e9ce-4023-96a5-cbefeca48d66",
   "metadata": {
    "tags": []
   },
   "outputs": [
    {
     "name": "stdout",
     "output_type": "stream",
     "text": [
      "fuji EXT targets:  214\n",
      "fuji EXT targets that are centers:  5\n",
      "fuji EXT targets that are at 0.33R26:  80\n",
      "fuji EXT targets that are at 0.67R26:  84\n",
      "fuji EXT targets that are at 0.2R26:  0\n",
      "fuji EXT targets that are at 0.4R26:  0\n",
      "fuji EXT targets that are at 0.6R26:  0\n",
      "fuji EXT targets that are at 0.8R26:  0\n",
      "fuji EXT targets that are at R26:  45\n"
     ]
    }
   ],
   "source": [
    "fuji_ext = tf_fuji[tf_fuji['PVTYPE']=='EXT']\n",
    "print('fuji EXT targets: ', len(fuji_ext))\n",
    "print('fuji EXT targets that are centers: ', len(fuji_ext[fuji_ext['SKY_FIBER_DIST_R26'] < 0.001]))\n",
    "print('fuji EXT targets that are at 0.33R26: ',   len(fuji_ext[np.abs(fuji_ext['SKY_FIBER_DIST_R26']-0.33) < 0.001]))\n",
    "print('fuji EXT targets that are at 0.67R26: ',   len(fuji_ext[np.abs(fuji_ext['SKY_FIBER_DIST_R26']-0.67) < 0.001]))\n",
    "print('fuji EXT targets that are at 0.2R26: ',   len(fuji_ext[np.abs(fuji_ext['SKY_FIBER_DIST_R26']-0.2) < 0.001]))\n",
    "print('fuji EXT targets that are at 0.4R26: ',   len(fuji_ext[np.abs(fuji_ext['SKY_FIBER_DIST_R26']-0.4) < 0.001]))\n",
    "print('fuji EXT targets that are at 0.6R26: ',   len(fuji_ext[np.abs(fuji_ext['SKY_FIBER_DIST_R26']-0.6) < 0.001]))\n",
    "print('fuji EXT targets that are at 0.8R26: ',   len(fuji_ext[np.abs(fuji_ext['SKY_FIBER_DIST_R26']-0.8) < 0.001]))\n",
    "print('fuji EXT targets that are at R26: ',   len(fuji_ext[np.abs(fuji_ext['SKY_FIBER_DIST_R26']-1) < 0.001]))"
   ]
  },
  {
   "cell_type": "code",
   "execution_count": 83,
   "id": "54660dcc-8084-4670-980b-c88585f6f987",
   "metadata": {
    "tags": []
   },
   "outputs": [
    {
     "name": "stdout",
     "output_type": "stream",
     "text": [
      "iron EXT targets:  1019\n",
      "iron EXT targets that are centers:  58\n",
      "iron EXT targets that are at 0.33R26:  0\n",
      "iron EXT targets that are at 0.67R26:  0\n",
      "iron EXT targets that are at 0.2R26:  172\n",
      "iron EXT targets that are at 0.4R26:  100\n",
      "iron EXT targets that are at 0.6R26:  199\n",
      "iron EXT targets that are at 0.8R26:  195\n",
      "iron EXT targets that are at R26:  295\n"
     ]
    }
   ],
   "source": [
    "iron_ext = tf_iron[tf_iron['PVTYPE']=='EXT']\n",
    "print('iron EXT targets: ', len(iron_ext))\n",
    "print('iron EXT targets that are centers: ', len(iron_ext[iron_ext['SKY_FIBER_DIST_R26'] < 0.001]))\n",
    "print('iron EXT targets that are at 0.33R26: ',   len(iron_ext[np.abs(iron_ext['SKY_FIBER_DIST_R26']-0.33) < 0.001]))\n",
    "print('iron EXT targets that are at 0.67R26: ',   len(iron_ext[np.abs(iron_ext['SKY_FIBER_DIST_R26']-0.67) < 0.001]))\n",
    "print('iron EXT targets that are at 0.2R26: ',   len(iron_ext[np.abs(iron_ext['SKY_FIBER_DIST_R26']-0.2) < 0.001]))\n",
    "print('iron EXT targets that are at 0.4R26: ',   len(iron_ext[np.abs(iron_ext['SKY_FIBER_DIST_R26']-0.4) < 0.001]))\n",
    "print('iron EXT targets that are at 0.6R26: ',   len(iron_ext[np.abs(iron_ext['SKY_FIBER_DIST_R26']-0.6) < 0.001]))\n",
    "print('iron EXT targets that are at 0.8R26: ',   len(iron_ext[np.abs(iron_ext['SKY_FIBER_DIST_R26']-0.8) < 0.001]))\n",
    "print('iron EXT targets that are at R26: ',   len(iron_ext[np.abs(iron_ext['SKY_FIBER_DIST_R26']-1) < 0.001]))"
   ]
  },
  {
   "cell_type": "markdown",
   "id": "b0ae04d8-2ccc-4b0e-94ec-b86ea9fc82d5",
   "metadata": {},
   "source": [
    "## checking 'SGA' targets\n",
    "these should all be centers, sga id's should not correspond to any 'TFT' or 'EXT' targets"
   ]
  },
  {
   "cell_type": "code",
   "execution_count": 63,
   "id": "506ae66c-ef17-4033-af0a-fc9a0df4171c",
   "metadata": {
    "tags": []
   },
   "outputs": [
    {
     "name": "stdout",
     "output_type": "stream",
     "text": [
      "fuji SGA targets that are not centers:  0\n",
      "fuji SGA targets with SGA ID corresponding to non-SGA targets:  0\n",
      "iron SGA targets that are not centers:  0\n",
      "iron SGA targets with SGA ID corresponding to non-SGA targets:  0\n"
     ]
    }
   ],
   "source": [
    "fuji_sga = tf_fuji[tf_fuji['PVTYPE'] == 'SGA']\n",
    "fuji_not_sga = tf_fuji[tf_fuji['PVTYPE'] != 'SGA']\n",
    "iron_sga = tf_iron[tf_iron['PVTYPE'] == 'SGA']\n",
    "iron_not_sga = tf_iron[tf_iron['PVTYPE'] != 'SGA']\n",
    "\n",
    "print('fuji SGA targets that are not centers: ', len(fuji_sga[fuji_sga['SKY_FIBER_DIST_R26'] > 0.001]))\n",
    "in_non_sga = 0\n",
    "for i in fuji_sga['SGA_ID']:\n",
    "    if i in fuji_not_sga['SGA_ID'] or i in iron_not_sga['SGA_ID']:\n",
    "        in_non_sga +=1\n",
    "        \n",
    "print('fuji SGA targets with SGA ID corresponding to non-SGA targets: ', in_non_sga)\n",
    "print('iron SGA targets that are not centers: ', len(iron_sga[iron_sga['SKY_FIBER_DIST_R26'] > 0.001]))\n",
    "\n",
    "in_non_sga = 0\n",
    "for i in iron_sga['SGA_ID']:\n",
    "    if i in fuji_not_sga['SGA_ID'] or i in iron_not_sga['SGA_ID']:\n",
    "        in_non_sga +=1\n",
    "        \n",
    "print('iron SGA targets with SGA ID corresponding to non-SGA targets: ', in_non_sga)"
   ]
  },
  {
   "cell_type": "markdown",
   "id": "af88031c-e104-4231-ac7b-c6812150a27c",
   "metadata": {},
   "source": [
    "## SUMMARY\n",
    "\n",
    "### 'TFT' targets\n",
    "\n",
    "1. fuji 'TFT' targets are expected to be at center and 0.33R26, 5609 are not at these points. There are many at 0.67R26 and R26\n",
    "2. iron 'TFT' targets are all at center or 0.4 R26 as expected\n",
    "\n",
    "### 'EXT' targets\n",
    "1. fuji has 5 'EXT' targets that are centers-- these are expected to be labeled 'TFT'\n",
    "2. fuji has 80 'EXT' targets at 0.33R26 -- these are expected to be labeled 'TFT'\n",
    "3. remaining fuji 'EXT' targets are at 0.67R26 or R26 as expected\n",
    "4. iron has 58 'EXT' targets that are centers -- these are expected to be labeled 'TFT'\n",
    "5. iron has 100 'EXT' targets that are 0.4R26 -- these are expected to be labeled 'TFT'\n",
    "6. remaining iron 'EXT' targets are at increments of 0.2R26 as expected\n",
    "\n",
    "### 'SGA' targets\n",
    "1. all 'SGA' targets in fuji and iron are centers and do not have SGA ID in common with any 'TFT' or 'EXT' targets in fuji or iron\n"
   ]
  },
  {
   "cell_type": "code",
   "execution_count": null,
   "id": "60c06523-8b60-4311-b534-6de394570d70",
   "metadata": {},
   "outputs": [],
   "source": []
  }
 ],
 "metadata": {
  "kernelspec": {
   "display_name": "DESI 22.5",
   "language": "python",
   "name": "desi-22.5"
  },
  "language_info": {
   "codemirror_mode": {
    "name": "ipython",
    "version": 3
   },
   "file_extension": ".py",
   "mimetype": "text/x-python",
   "name": "python",
   "nbconvert_exporter": "python",
   "pygments_lexer": "ipython3",
   "version": "3.9.7"
  }
 },
 "nbformat": 4,
 "nbformat_minor": 5
}
