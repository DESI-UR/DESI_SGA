{
 "cells": [
  {
   "cell_type": "code",
   "execution_count": 74,
   "id": "47b98b9d-f99a-4ea0-8b72-24a2f9a761a4",
   "metadata": {
    "tags": []
   },
   "outputs": [],
   "source": [
    "# all imports\n",
    "import numpy as np\n",
    "import os\n",
    "import requests\n",
    "from astropy.table import Table, vstack\n",
    "import matplotlib.pyplot as plt\n",
    "from astropy.io import fits\n",
    "from astropy.coordinates import SkyCoord\n",
    "from astropy import units as u\n",
    "from astropy.wcs import WCS\n",
    "import math\n",
    "import matplotlib as mpl\n",
    "from astropy.visualization.wcsaxes import SphericalCircle\n",
    "import pandas as pd\n",
    "import random"
   ]
  },
  {
   "cell_type": "code",
   "execution_count": 75,
   "id": "5d013d3f-8567-42ba-900e-e809a9df8c72",
   "metadata": {
    "tags": []
   },
   "outputs": [],
   "source": [
    "# define directories\n",
    "data_dir = '/global/cfs/projectdirs/desi/science/td/pv/tfgalaxies/'\n",
    "cache_dir = '/pscratch/sd/j/jjpim/cache/' # my cache path\n",
    "vi_dir = '/pscratch/sd/j/jjpim/visual_inspection/' # vi image path\n",
    "v_dir = '/pscratch/sd/j/jjpim/2Dvmap/' # 2D velocity map image path"
   ]
  },
  {
   "cell_type": "code",
   "execution_count": 5,
   "id": "fbf71644-dd44-4173-bd12-37b31219b704",
   "metadata": {
    "tags": []
   },
   "outputs": [],
   "source": [
    "# load updated fuji table\n",
    "tf_fuji = Table.read(data_dir + 'SV/desi_pv_tf_fuji_healpix_rotcurve_EOA_VI_velocity.fits') \n",
    "# load iron table\n",
    "tf_iron = Table.read(data_dir + 'Y1/desi_pv_tf_iron_healpix_rotcurve_EOA_VI_velocity.fits')\n",
    "#combine\n",
    "tf_mastertable = vstack([tf_fuji,tf_iron])\n",
    "#unique SGA IDs\n",
    "tf_galaxies = np.unique(tf_mastertable['SGA_ID'])\n",
    "#dictionary\n",
    "tf_mastertable_dict = {}\n",
    "for sga_id in np.unique(tf_mastertable['SGA_ID']):\n",
    "    tf_mastertable_dict[sga_id] = np.where(tf_mastertable['SGA_ID'] == sga_id)[0]"
   ]
  },
  {
   "cell_type": "code",
   "execution_count": 70,
   "id": "7efe5d24-32da-421c-9d44-925eb39318e0",
   "metadata": {
    "tags": []
   },
   "outputs": [
    {
     "data": {
      "text/html": [
       "<div><i>Table length=5</i>\n",
       "<table id=\"table140231598598048\" class=\"table-striped table-bordered table-condensed\">\n",
       "<thead><tr><th>SGA_ID</th><th>SGA_GALAXY</th><th>GALAXY</th><th>PGC</th><th>RA_LEDA</th><th>DEC_LEDA</th><th>MORPHTYPE</th><th>PA_LEDA</th><th>D25_LEDA</th><th>BA_LEDA</th><th>Z_LEDA</th><th>SB_D25_LEDA</th><th>MAG_LEDA</th><th>BYHAND</th><th>REF</th><th>GROUP_ID</th><th>GROUP_NAME</th><th>GROUP_MULT</th><th>GROUP_PRIMARY</th><th>GROUP_RA</th><th>GROUP_DEC</th><th>GROUP_DIAMETER</th><th>BRICKNAME</th><th>RA</th><th>DEC</th><th>D26</th><th>D26_REF</th><th>PA</th><th>BA</th><th>RA_MOMENT</th><th>DEC_MOMENT</th><th>SMA_MOMENT</th><th>G_SMA50</th><th>R_SMA50</th><th>Z_SMA50</th><th>SMA_SB22</th><th>SMA_SB22.5</th><th>SMA_SB23</th><th>SMA_SB23.5</th><th>SMA_SB24</th><th>SMA_SB24.5</th><th>SMA_SB25</th><th>SMA_SB25.5</th><th>SMA_SB26</th><th>G_MAG_SB22</th><th>R_MAG_SB22</th><th>Z_MAG_SB22</th><th>G_MAG_SB22.5</th><th>R_MAG_SB22.5</th><th>Z_MAG_SB22.5</th><th>G_MAG_SB23</th><th>R_MAG_SB23</th><th>Z_MAG_SB23</th><th>G_MAG_SB23.5</th><th>R_MAG_SB23.5</th><th>Z_MAG_SB23.5</th><th>G_MAG_SB24</th><th>R_MAG_SB24</th><th>Z_MAG_SB24</th><th>G_MAG_SB24.5</th><th>R_MAG_SB24.5</th><th>Z_MAG_SB24.5</th><th>G_MAG_SB25</th><th>R_MAG_SB25</th><th>Z_MAG_SB25</th><th>G_MAG_SB25.5</th><th>R_MAG_SB25.5</th><th>Z_MAG_SB25.5</th><th>G_MAG_SB26</th><th>R_MAG_SB26</th><th>Z_MAG_SB26</th><th>SMA_SB22_ERR</th><th>SMA_SB22.5_ERR</th><th>SMA_SB23_ERR</th><th>SMA_SB23.5_ERR</th><th>SMA_SB24_ERR</th><th>SMA_SB24.5_ERR</th><th>SMA_SB25_ERR</th><th>SMA_SB25.5_ERR</th><th>SMA_SB26_ERR</th><th>G_MAG_SB22_ERR</th><th>R_MAG_SB22_ERR</th><th>Z_MAG_SB22_ERR</th><th>G_MAG_SB22.5_ERR</th><th>R_MAG_SB22.5_ERR</th><th>Z_MAG_SB22.5_ERR</th><th>G_MAG_SB23_ERR</th><th>R_MAG_SB23_ERR</th><th>Z_MAG_SB23_ERR</th><th>G_MAG_SB23.5_ERR</th><th>R_MAG_SB23.5_ERR</th><th>Z_MAG_SB23.5_ERR</th><th>G_MAG_SB24_ERR</th><th>R_MAG_SB24_ERR</th><th>Z_MAG_SB24_ERR</th><th>G_MAG_SB24.5_ERR</th><th>R_MAG_SB24.5_ERR</th><th>Z_MAG_SB24.5_ERR</th><th>G_MAG_SB25_ERR</th><th>R_MAG_SB25_ERR</th><th>Z_MAG_SB25_ERR</th><th>G_MAG_SB25.5_ERR</th><th>R_MAG_SB25.5_ERR</th><th>Z_MAG_SB25.5_ERR</th><th>G_MAG_SB26_ERR</th><th>R_MAG_SB26_ERR</th><th>Z_MAG_SB26_ERR</th><th>G_COG_PARAMS_MTOT</th><th>G_COG_PARAMS_M0</th><th>G_COG_PARAMS_ALPHA1</th><th>G_COG_PARAMS_ALPHA2</th><th>G_COG_PARAMS_CHI2</th><th>R_COG_PARAMS_MTOT</th><th>R_COG_PARAMS_M0</th><th>R_COG_PARAMS_ALPHA1</th><th>R_COG_PARAMS_ALPHA2</th><th>R_COG_PARAMS_CHI2</th><th>Z_COG_PARAMS_MTOT</th><th>Z_COG_PARAMS_M0</th><th>Z_COG_PARAMS_ALPHA1</th><th>Z_COG_PARAMS_ALPHA2</th><th>Z_COG_PARAMS_CHI2</th><th>ELLIPSEBIT</th></tr></thead>\n",
       "<thead><tr><th>int64</th><th>bytes16</th><th>bytes29</th><th>int64</th><th>float64</th><th>float64</th><th>bytes21</th><th>float32</th><th>float32</th><th>float32</th><th>float32</th><th>float32</th><th>float32</th><th>bool</th><th>bytes13</th><th>int64</th><th>bytes35</th><th>int16</th><th>bool</th><th>float64</th><th>float64</th><th>float32</th><th>bytes8</th><th>float64</th><th>float64</th><th>float32</th><th>bytes4</th><th>float32</th><th>float32</th><th>float64</th><th>float64</th><th>float32</th><th>float32</th><th>float32</th><th>float32</th><th>float32</th><th>float32</th><th>float32</th><th>float32</th><th>float32</th><th>float32</th><th>float32</th><th>float32</th><th>float32</th><th>float32</th><th>float32</th><th>float32</th><th>float32</th><th>float32</th><th>float32</th><th>float32</th><th>float32</th><th>float32</th><th>float32</th><th>float32</th><th>float32</th><th>float32</th><th>float32</th><th>float32</th><th>float32</th><th>float32</th><th>float32</th><th>float32</th><th>float32</th><th>float32</th><th>float32</th><th>float32</th><th>float32</th><th>float32</th><th>float32</th><th>float32</th><th>float32</th><th>float32</th><th>float32</th><th>float32</th><th>float32</th><th>float32</th><th>float32</th><th>float32</th><th>float32</th><th>float32</th><th>float32</th><th>float32</th><th>float32</th><th>float32</th><th>float32</th><th>float32</th><th>float32</th><th>float32</th><th>float32</th><th>float32</th><th>float32</th><th>float32</th><th>float32</th><th>float32</th><th>float32</th><th>float32</th><th>float32</th><th>float32</th><th>float32</th><th>float32</th><th>float32</th><th>float32</th><th>float32</th><th>float32</th><th>float32</th><th>float32</th><th>float32</th><th>float32</th><th>float32</th><th>float32</th><th>float32</th><th>float32</th><th>float32</th><th>float32</th><th>float32</th><th>float32</th><th>float32</th><th>float32</th><th>float32</th><th>float32</th><th>float32</th><th>int32</th></tr></thead>\n",
       "<tr><td>2</td><td>SGA-2020 2</td><td>PGC1283207</td><td>1283207</td><td>228.3770865</td><td>5.4232017</td><td>S?</td><td>152.2</td><td>0.36307806</td><td>0.724436</td><td>0.03463229</td><td>23.40448</td><td>16.976</td><td>False</td><td>LEDA-20181114</td><td>0</td><td>PGC1283207</td><td>1</td><td>True</td><td>228.3770865</td><td>5.4232017</td><td>0.36307806</td><td>2283p055</td><td>228.3770803831908</td><td>5.423191398593787</td><td>0.49470574</td><td>SB26</td><td>158.20142</td><td>0.545691</td><td>228.37700918822188</td><td>5.4232652570544015</td><td>10.897086</td><td>3.3509698</td><td>3.1147978</td><td>3.240862</td><td>5.902337</td><td>6.9126143</td><td>7.941369</td><td>8.997992</td><td>10.073601</td><td>11.199986</td><td>12.391357</td><td>13.561038</td><td>14.841172</td><td>16.966799</td><td>16.108246</td><td>15.486356</td><td>16.879545</td><td>16.024958</td><td>15.400715</td><td>16.818878</td><td>15.967034</td><td>15.341793</td><td>16.776297</td><td>15.925804</td><td>15.300776</td><td>16.746685</td><td>15.897334</td><td>15.272053</td><td>16.725166</td><td>15.876816</td><td>15.2521105</td><td>16.708357</td><td>15.862035</td><td>15.237181</td><td>16.696539</td><td>15.851936</td><td>15.226998</td><td>16.689613</td><td>15.844313</td><td>15.21976</td><td>0.013392451</td><td>0.02354</td><td>0.021872982</td><td>0.01736985</td><td>0.024445537</td><td>0.039866067</td><td>0.05026544</td><td>0.08455789</td><td>0.122911856</td><td>0.005682776</td><td>0.0054258136</td><td>0.0049038026</td><td>0.005588406</td><td>0.005323561</td><td>0.0047632363</td><td>0.00543534</td><td>0.005177031</td><td>0.0046343105</td><td>0.0053025587</td><td>0.005040888</td><td>0.0045181247</td><td>0.005206092</td><td>0.0049438984</td><td>0.0044374703</td><td>0.0051483097</td><td>0.0048758644</td><td>0.0043834248</td><td>0.0051032505</td><td>0.0048264163</td><td>0.004344248</td><td>0.0050705094</td><td>0.004792021</td><td>0.004319857</td><td>0.005054293</td><td>0.004765629</td><td>0.0043044444</td><td>16.65942</td><td>0.34037337</td><td>0.2978292</td><td>3.0239506</td><td>0.07928849</td><td>15.820566</td><td>0.2640441</td><td>0.34559453</td><td>3.3033552</td><td>0.003811298</td><td>15.195567</td><td>0.29826432</td><td>0.3001073</td><td>3.2333765</td><td>0.011723555</td><td>0</td></tr>\n",
       "<tr><td>3</td><td>SGA-2020 3</td><td>PGC1310416</td><td>1310416</td><td>202.54443750000002</td><td>6.9345944</td><td>Sc</td><td>159.26</td><td>0.4017908</td><td>0.7816278</td><td>0.073888786</td><td>23.498482</td><td>16.85</td><td>False</td><td>LEDA-20181114</td><td>1</td><td>PGC1310416</td><td>1</td><td>True</td><td>202.54443750000002</td><td>6.9345944</td><td>0.4017908</td><td>2025p070</td><td>202.5444619671207</td><td>6.9346244322326624</td><td>0.55350494</td><td>SB26</td><td>161.5937</td><td>0.7291764</td><td>202.54432739596137</td><td>6.934806737209989</td><td>15.746941</td><td>5.6416235</td><td>5.2647552</td><td>5.0895185</td><td>5.9838247</td><td>7.4356494</td><td>8.728868</td><td>10.087478</td><td>11.529764</td><td>12.818195</td><td>14.115497</td><td>15.319822</td><td>16.605148</td><td>16.963299</td><td>16.307854</td><td>15.806882</td><td>16.729511</td><td>16.097378</td><td>15.615527</td><td>16.606344</td><td>15.990707</td><td>15.518403</td><td>16.525967</td><td>15.917321</td><td>15.450624</td><td>16.462585</td><td>15.859485</td><td>15.397182</td><td>16.419558</td><td>15.820947</td><td>15.36243</td><td>16.390558</td><td>15.796369</td><td>15.338905</td><td>16.376112</td><td>15.782492</td><td>15.323709</td><td>16.364115</td><td>15.773462</td><td>15.313725</td><td>0.036992554</td><td>0.034982767</td><td>0.037769336</td><td>0.049429573</td><td>0.052699674</td><td>0.074114166</td><td>0.07914538</td><td>0.09781406</td><td>0.15534972</td><td>0.016095797</td><td>0.019181909</td><td>0.021539452</td><td>0.013955905</td><td>0.016594552</td><td>0.018640138</td><td>0.012786752</td><td>0.015244632</td><td>0.01715491</td><td>0.011973826</td><td>0.014366956</td><td>0.016208366</td><td>0.011358372</td><td>0.013676575</td><td>0.015474222</td><td>0.010944939</td><td>0.013225297</td><td>0.015011175</td><td>0.010691595</td><td>0.012931233</td><td>0.014687982</td><td>0.010546411</td><td>0.012796015</td><td>0.014518412</td><td>0.010457551</td><td>0.012685407</td><td>0.014379212</td><td>16.284733</td><td>1.0914493</td><td>0.24674739</td><td>2.4320207</td><td>0.68685365</td><td>15.704403</td><td>0.8764323</td><td>0.27360612</td><td>2.4995425</td><td>0.49343896</td><td>15.235263</td><td>1.3098688</td><td>0.17866786</td><td>2.1750498</td><td>0.20391206</td><td>0</td></tr>\n",
       "<tr><td>4</td><td>SGA-2020 4</td><td>SDSSJ145059.93+135143.0</td><td>4435547</td><td>222.749787</td><td>13.8619111</td><td>S?</td><td>44.57</td><td>0.33342642</td><td>0.6637431</td><td>0.07567602</td><td>24.457481</td><td>18.214</td><td>False</td><td>LEDA-20181114</td><td>2</td><td>SDSSJ145059.93+135143.0</td><td>1</td><td>True</td><td>222.749787</td><td>13.8619111</td><td>0.33342642</td><td>2228p137</td><td>222.7497050504303</td><td>13.861929561160224</td><td>0.37067476</td><td>SB26</td><td>45.28537</td><td>0.70922077</td><td>222.749650475464</td><td>13.862052070022896</td><td>8.877115</td><td>4.652771</td><td>4.4837785</td><td>4.4959745</td><td>2.01033</td><td>3.3967943</td><td>4.76257</td><td>6.043787</td><td>7.242806</td><td>8.250407</td><td>9.158723</td><td>10.083457</td><td>11.120243</td><td>19.97595</td><td>19.190666</td><td>18.649523</td><td>19.098536</td><td>18.397219</td><td>17.899643</td><td>18.624952</td><td>17.967802</td><td>17.50231</td><td>18.35278</td><td>17.718002</td><td>17.265854</td><td>18.192762</td><td>17.5654</td><td>17.115404</td><td>18.10496</td><td>17.480022</td><td>17.033989</td><td>18.053415</td><td>17.430794</td><td>16.982971</td><td>18.020155</td><td>17.399996</td><td>16.948252</td><td>17.994783</td><td>17.377092</td><td>16.924469</td><td>0.02113719</td><td>0.03639431</td><td>0.051901262</td><td>0.06539029</td><td>0.08552586</td><td>0.07008602</td><td>0.070394725</td><td>0.08394975</td><td>0.113649584</td><td>0.013428732</td><td>0.017600043</td><td>0.016373685</td><td>0.012251812</td><td>0.014566466</td><td>0.013732588</td><td>0.012644532</td><td>0.014030071</td><td>0.013153961</td><td>0.012747069</td><td>0.013512552</td><td>0.012818239</td><td>0.012865601</td><td>0.01324455</td><td>0.012532208</td><td>0.012762528</td><td>0.013058522</td><td>0.012420634</td><td>0.01252645</td><td>0.012827468</td><td>0.012283978</td><td>0.012320441</td><td>0.012607317</td><td>0.012104107</td><td>0.0121167945</td><td>0.01244376</td><td>0.011985352</td><td>17.896797</td><td>0.5557265</td><td>0.25455818</td><td>3.167909</td><td>1.0522435</td><td>17.28287</td><td>0.4885815</td><td>0.2782499</td><td>3.2144456</td><td>1.3733263</td><td>16.807674</td><td>0.5177045</td><td>0.32264626</td><td>2.900518</td><td>1.8054093</td><td>0</td></tr>\n",
       "<tr><td>7</td><td>SGA-2020 7</td><td>PGC1742504</td><td>1742504</td><td>182.0888085</td><td>25.6022764</td><td>Sbc</td><td>84.97</td><td>0.548277</td><td>0.25118864</td><td>0.10090814</td><td>24.91348</td><td>17.59</td><td>False</td><td>LEDA-20181114</td><td>3</td><td>PGC1742504</td><td>1</td><td>True</td><td>182.0888085</td><td>25.6022764</td><td>0.548277</td><td>1820p255</td><td>182.08882232629614</td><td>25.60226821438983</td><td>0.8883204</td><td>SB26</td><td>84.857475</td><td>0.19753796</td><td>182.08873760544392</td><td>25.602311195157757</td><td>19.779116</td><td>6.5958204</td><td>6.0386286</td><td>5.8089786</td><td>9.279068</td><td>10.949478</td><td>12.652142</td><td>14.446171</td><td>16.323679</td><td>18.392954</td><td>20.915508</td><td>23.566542</td><td>26.649612</td><td>17.390274</td><td>16.360935</td><td>15.531964</td><td>17.285898</td><td>16.262264</td><td>15.440768</td><td>17.2167</td><td>16.195492</td><td>15.380734</td><td>17.16217</td><td>16.144245</td><td>15.334935</td><td>17.130178</td><td>16.110302</td><td>15.304758</td><td>17.104496</td><td>16.084463</td><td>15.280803</td><td>17.081282</td><td>16.061373</td><td>15.2589855</td><td>17.063671</td><td>16.045204</td><td>15.243196</td><td>17.046705</td><td>16.031244</td><td>15.23268</td><td>0.04351465</td><td>0.055440858</td><td>0.052207235</td><td>0.07507412</td><td>0.0793679</td><td>0.10347854</td><td>0.13569456</td><td>0.13104819</td><td>0.17234002</td><td>0.03885276</td><td>0.03744209</td><td>0.03786608</td><td>0.035534665</td><td>0.03441038</td><td>0.03503794</td><td>0.033557214</td><td>0.032548346</td><td>0.033348277</td><td>0.031964395</td><td>0.03106612</td><td>0.031957533</td><td>0.031133845</td><td>0.030202182</td><td>0.031190341</td><td>0.030430589</td><td>0.029511228</td><td>0.030530946</td><td>0.02975241</td><td>0.028853998</td><td>0.029866546</td><td>0.02928568</td><td>0.0284345</td><td>0.029445464</td><td>0.028843498</td><td>0.028076617</td><td>0.029169334</td><td>16.995174</td><td>21.083004</td><td>0.0164273</td><td>1.9079465</td><td>0.029703742</td><td>15.991165</td><td>0.7657307</td><td>0.52285546</td><td>2.3045986</td><td>0.006013103</td><td>15.191324</td><td>1.0408205</td><td>0.32956335</td><td>2.1520333</td><td>0.004725194</td><td>0</td></tr>\n",
       "<tr><td>18</td><td>SGA-2020 18</td><td>2MASXJ12340801+4535444</td><td>3550748</td><td>188.5335525</td><td>45.5956434</td><td>E</td><td>168.65</td><td>0.53088444</td><td>0.6950243</td><td>0.07609531</td><td>23.97948</td><td>16.726</td><td>False</td><td>LEDA-20181114</td><td>4</td><td>2MASXJ12340801+4535444</td><td>1</td><td>True</td><td>188.5335525</td><td>45.5956434</td><td>0.53088444</td><td>1883p455</td><td>188.53364923054596</td><td>45.595620212931856</td><td>0.73435897</td><td>SB26</td><td>166.25127</td><td>0.70995796</td><td>188.53349052789085</td><td>45.59567446403057</td><td>15.694805</td><td>5.091253</td><td>4.670616</td><td>2.9429996</td><td>5.219665</td><td>6.6119533</td><td>8.228266</td><td>10.109745</td><td>12.170589</td><td>14.364073</td><td>16.722517</td><td>19.18709</td><td>22.03077</td><td>17.208511</td><td>16.224203</td><td>15.566424</td><td>17.050343</td><td>16.080097</td><td>15.443468</td><td>16.921791</td><td>15.962402</td><td>15.347263</td><td>16.814959</td><td>15.864242</td><td>15.27134</td><td>16.729906</td><td>15.787886</td><td>15.218466</td><td>16.664564</td><td>15.730083</td><td>15.182751</td><td>16.61991</td><td>15.686324</td><td>15.1601305</td><td>16.585676</td><td>15.654064</td><td>15.148039</td><td>16.558054</td><td>15.629669</td><td>15.141826</td><td>0.032001704</td><td>0.043849397</td><td>0.045203492</td><td>0.072918765</td><td>0.06263939</td><td>0.07675708</td><td>0.10399303</td><td>0.07780949</td><td>0.14017467</td><td>0.016467415</td><td>0.021250801</td><td>0.032092847</td><td>0.0149329165</td><td>0.019061867</td><td>0.028947951</td><td>0.01369758</td><td>0.01736746</td><td>0.026648495</td><td>0.012623343</td><td>0.015980754</td><td>0.024998168</td><td>0.011793644</td><td>0.014977396</td><td>0.023862366</td><td>0.011184664</td><td>0.014255281</td><td>0.023120966</td><td>0.010785815</td><td>0.013740733</td><td>0.022603082</td><td>0.010472503</td><td>0.013351409</td><td>0.022360764</td><td>0.010212836</td><td>0.013043255</td><td>0.022296576</td><td>16.471447</td><td>0.3236818</td><td>1.9206839</td><td>2.3249283</td><td>0.0973919</td><td>15.540598</td><td>0.3247282</td><td>1.7439244</td><td>2.1774826</td><td>0.023485765</td><td>15.124181</td><td>0.16547345</td><td>1.4694684</td><td>3.3948786</td><td>0.028653827</td><td>0</td></tr>\n",
       "</table></div>"
      ],
      "text/plain": [
       "<Table length=5>\n",
       "SGA_ID  SGA_GALAXY          GALAXY         ... Z_COG_PARAMS_CHI2 ELLIPSEBIT\n",
       "int64    bytes16           bytes29         ...      float32        int32   \n",
       "------ ----------- ----------------------- ... ----------------- ----------\n",
       "     2  SGA-2020 2              PGC1283207 ...       0.011723555          0\n",
       "     3  SGA-2020 3              PGC1310416 ...        0.20391206          0\n",
       "     4  SGA-2020 4 SDSSJ145059.93+135143.0 ...         1.8054093          0\n",
       "     7  SGA-2020 7              PGC1742504 ...       0.004725194          0\n",
       "    18 SGA-2020 18  2MASXJ12340801+4535444 ...       0.028653827          0"
      ]
     },
     "execution_count": 70,
     "metadata": {},
     "output_type": "execute_result"
    }
   ],
   "source": [
    "# load SGA table\n",
    "SGA = Table.read('/global/cfs/cdirs/cosmo/data/sga/2020/SGA-2020.fits', 'ELLIPSE')\n",
    "SGA_dict = {}\n",
    "for i in range(len(SGA)):\n",
    "    SGA_dict[SGA['SGA_ID'][i]] = i\n",
    "SGA[:5]"
   ]
  },
  {
   "cell_type": "code",
   "execution_count": 67,
   "id": "14f68cb0-44f6-43cf-90e6-73b7510688d1",
   "metadata": {
    "tags": []
   },
   "outputs": [
    {
     "name": "stdout",
     "output_type": "stream",
     "text": [
      "547778\n"
     ]
    }
   ],
   "source": [
    "#find sga id with the most targets\n",
    "for sga_id in tf_galaxies:\n",
    "    if len(tf_mastertable[tf_mastertable['SGA_ID']==  sga_id])>31:\n",
    "        print(sga_id)"
   ]
  },
  {
   "cell_type": "code",
   "execution_count": 68,
   "id": "01e41cd6-57de-4e98-a3e8-d84aa15071bc",
   "metadata": {
    "tags": []
   },
   "outputs": [
    {
     "data": {
      "text/html": [
       "<div><i>Table length=32</i>\n",
       "<table id=\"table140231597091056\" class=\"table-striped table-bordered table-condensed\">\n",
       "<thead><tr><th>TARGETID</th><th>TARGET_RA</th><th>TARGET_DEC</th><th>HEALPIX</th><th>SURVEY</th><th>Z</th><th>ZERR</th><th>ZWARN</th><th>DELTACHI2</th><th>FILENAME</th><th>PVTYPE</th><th>SGA_ID</th><th>RA</th><th>DEC</th><th>OBS_IN_SV</th><th>SKY_FIBER_DIST</th><th>SKY_FIBER_DIST_R26</th><th>ROT_CURVE</th><th>EOA</th><th>VELOCITY</th><th>VERR</th></tr></thead>\n",
       "<thead><tr><th>int64</th><th>float64</th><th>float64</th><th>int64</th><th>bytes4</th><th>float64</th><th>float64</th><th>int64</th><th>float64</th><th>bytes65</th><th>bytes3</th><th>int64</th><th>float64</th><th>float64</th><th>float64</th><th>float64</th><th>float64</th><th>float64</th><th>float64</th><th>float64</th><th>float64</th></tr></thead>\n",
       "<tr><td>1070241199161348</td><td>208.737562035713</td><td>5.31217069943004</td><td>26432</td><td>sv3</td><td>0.976094192762309</td><td>9.45906373675737e-05</td><td>4</td><td>3.21022426424406</td><td>fuji/healpix/sv3/bright/264/26432/redrock-sv3-bright-26432.fits</td><td>EXT</td><td>547778</td><td>208.7375620357128</td><td>5.31217069943004</td><td>1.0</td><td>0.02245240582779445</td><td>0.33000001952950575</td><td>1.0</td><td>0.0</td><td>291238.80353103776</td><td>28.37155491480249</td></tr>\n",
       "<tr><td>1083435338694660</td><td>208.737562035713</td><td>5.31217069943004</td><td>26432</td><td>sv3</td><td>0.00435515438171736</td><td>5.95161028988655e-05</td><td>0</td><td>64.5522083645719</td><td>fuji/healpix/sv3/dark/264/26432/redrock-sv3-dark-26432.fits</td><td>EXT</td><td>547778</td><td>208.7375620357128</td><td>5.31217069943004</td><td>1.0</td><td>0.02245240582779445</td><td>0.33000001952950575</td><td>1.0</td><td>0.0</td><td>-81.23131963612231</td><td>17.864713438306783</td></tr>\n",
       "<tr><td>1070241199161347</td><td>208.731457742922</td><td>5.2898507250167</td><td>26090</td><td>sv3</td><td>1.57006508717067</td><td>0.000322143854789214</td><td>4</td><td>5.79736968129873</td><td>fuji/healpix/sv3/bright/260/26090/redrock-sv3-bright-26090.fits</td><td>EXT</td><td>547778</td><td>208.73145774292163</td><td>5.289850725016704</td><td>1.0</td><td>0.045585187589727544</td><td>0.6700000396502718</td><td>1.0</td><td>0.0</td><td>469306.79794617876</td><td>96.58040838406671</td></tr>\n",
       "<tr><td>1083435338694659</td><td>208.731457742922</td><td>5.2898507250167</td><td>26090</td><td>sv3</td><td>1.42390790193348</td><td>0.000100214069953148</td><td>0</td><td>10.5246824920177</td><td>fuji/healpix/sv3/dark/260/26090/redrock-sv3-dark-26090.fits</td><td>EXT</td><td>547778</td><td>208.73145774292163</td><td>5.289850725016704</td><td>1.0</td><td>0.045585187589727544</td><td>0.6700000396502718</td><td>1.0</td><td>0.0</td><td>425489.9761295602</td><td>30.05663261601853</td></tr>\n",
       "<tr><td>1070241199161349</td><td>208.749412809371</td><td>5.35549753719813</td><td>26432</td><td>sv3</td><td>1.52905722130535</td><td>0.000140484931635865</td><td>4</td><td>3.14328634738922</td><td>fuji/healpix/sv3/bright/264/26432/redrock-sv3-bright-26432.fits</td><td>EXT</td><td>547778</td><td>208.7494128093705</td><td>5.355497537198131</td><td>1.0</td><td>0.02245240582783662</td><td>0.3300000195301256</td><td>1.0</td><td>0.0</td><td>457012.94904108014</td><td>42.125747441844965</td></tr>\n",
       "<tr><td>1083435338694661</td><td>208.749412809371</td><td>5.35549753719813</td><td>26432</td><td>sv3</td><td>0.00507397495818972</td><td>5.23344718138087e-05</td><td>0</td><td>110.570778177287</td><td>fuji/healpix/sv3/dark/264/26432/redrock-sv3-dark-26432.fits</td><td>EXT</td><td>547778</td><td>208.7494128093705</td><td>5.355497537198131</td><td>1.0</td><td>0.02245240582783662</td><td>0.3300000195301256</td><td>1.0</td><td>0.0</td><td>134.26566784550334</td><td>15.714761154874777</td></tr>\n",
       "<tr><td>1070247217987594</td><td>208.755518408261</td><td>5.37781733453269</td><td>26432</td><td>sv3</td><td>0.528451150168133</td><td>0.000106005130313453</td><td>4</td><td>1.68334472924471</td><td>fuji/healpix/sv3/bright/264/26432/redrock-sv3-bright-26432.fits</td><td>EXT</td><td>547778</td><td>208.75551840826128</td><td>5.377817334532686</td><td>1.0</td><td>0.04558518758988767</td><td>0.6700000396526252</td><td>1.0</td><td>0.0</td><td>157038.79548513106</td><td>31.79202745110391</td></tr>\n",
       "<tr><td>1083441357520906</td><td>208.755518408261</td><td>5.37781733453269</td><td>26432</td><td>sv3</td><td>0.000114926282582196</td><td>5.57883704550061e-05</td><td>0</td><td>62.9426100458277</td><td>fuji/healpix/sv3/dark/264/26432/redrock-sv3-dark-26432.fits</td><td>EXT</td><td>547778</td><td>208.75551840826128</td><td>5.377817334532686</td><td>1.0</td><td>0.04558518758988767</td><td>0.6700000396526252</td><td>1.0</td><td>0.0</td><td>-1352.4197239565208</td><td>16.748651029397664</td></tr>\n",
       "<tr><td>1070241199161346</td><td>208.725533409266</td><td>5.26818716334567</td><td>26090</td><td>sv3</td><td>1.50434103468737</td><td>0.00019739069465876</td><td>4</td><td>2.14405116438866</td><td>fuji/healpix/sv3/bright/260/26090/redrock-sv3-bright-26090.fits</td><td>TFT</td><td>547778</td><td>208.72553340926592</td><td>5.268187163345671</td><td>1.0</td><td>0.06803759341745368</td><td>1.0000000591787734</td><td>1.0</td><td>0.0</td><td>449603.22270248923</td><td>59.18294940132451</td></tr>\n",
       "<tr><td>1083435338694658</td><td>208.725533409266</td><td>5.26818716334567</td><td>26090</td><td>sv3</td><td>1.23266402822054</td><td>5.83295871602159e-05</td><td>4</td><td>2.66748528182507</td><td>fuji/healpix/sv3/dark/260/26090/redrock-sv3-dark-26090.fits</td><td>TFT</td><td>547778</td><td>208.72553340926592</td><td>5.268187163345671</td><td>1.0</td><td>0.06803759341745368</td><td>1.0000000591787734</td><td>1.0</td><td>0.0</td><td>368156.5051517164</td><td>17.50945667639753</td></tr>\n",
       "<tr><td>...</td><td>...</td><td>...</td><td>...</td><td>...</td><td>...</td><td>...</td><td>...</td><td>...</td><td>...</td><td>...</td><td>...</td><td>...</td><td>...</td><td>...</td><td>...</td><td>...</td><td>...</td><td>...</td><td>...</td><td>...</td></tr>\n",
       "<tr><td>1070241199161346</td><td>208.725533409266</td><td>5.26818716334567</td><td>26090</td><td>sv3</td><td>1.37651495080231</td><td>0.000132420732257359</td><td>4</td><td>3.18402267992496</td><td>iron/healpix/sv3/bright/260/26090/redrock-sv3-bright-26090.fits</td><td>EXT</td><td>547778</td><td>208.72553340926592</td><td>5.268187163345671</td><td>1.0</td><td>0.06803759341745368</td><td>1.0000000591787734</td><td>1.0</td><td>0.0</td><td>411281.9268180729</td><td>39.70873508262206</td></tr>\n",
       "<tr><td>1083435338694658</td><td>208.725533409266</td><td>5.26818716334567</td><td>26090</td><td>sv3</td><td>1.53471814562392</td><td>0.000125293106530875</td><td>4</td><td>3.13327747583389</td><td>iron/healpix/sv3/dark/260/26090/redrock-sv3-dark-26090.fits</td><td>EXT</td><td>547778</td><td>208.72553340926592</td><td>5.268187163345671</td><td>1.0</td><td>0.06803759341745368</td><td>1.0000000591787734</td><td>1.0</td><td>0.0</td><td>458710.05145709624</td><td>37.572495268371895</td></tr>\n",
       "<tr><td>2394053199003653</td><td>208.732714473026</td><td>5.29444601875521</td><td>26090</td><td>main</td><td>1.3823920156108</td><td>6.99406646927663e-05</td><td>4</td><td>8.64988477528095</td><td>iron/healpix/main/bright/260/26090/redrock-main-bright-26090.fits</td><td>EXT</td><td>547778</td><td>208.73271447302625</td><td>5.294446018755208</td><td>1.0</td><td>0.04082255605051116</td><td>0.6000000355078366</td><td>1.0</td><td>0.0</td><td>413043.8265228355</td><td>20.986607645485197</td></tr>\n",
       "<tr><td>2394053199003654</td><td>208.739896146781</td><td>5.32070479146305</td><td>26432</td><td>main</td><td>0.0041029049927391</td><td>2.61357458920133e-06</td><td>0</td><td>3110.00260789087</td><td>iron/healpix/main/bright/264/26432/redrock-main-bright-26432.fits</td><td>EXT</td><td>547778</td><td>208.7398961467815</td><td>5.320704791463054</td><td>1.0</td><td>0.013607518683513717</td><td>0.20000001183609245</td><td>1.0</td><td>0.0</td><td>-156.8537839869129</td><td>1.1865312679620157</td></tr>\n",
       "<tr><td>2394059217829889</td><td>208.757853020198</td><td>5.38635135865872</td><td>26432</td><td>main</td><td>0.198306897059774</td><td>6.5882958316023e-05</td><td>4</td><td>1.54434179328382</td><td>iron/healpix/main/bright/264/26432/redrock-main-bright-26432.fits</td><td>EXT</td><td>547778</td><td>208.75785302019798</td><td>5.3863513586587235</td><td>1.0</td><td>0.054430074734200654</td><td>0.8000000473465125</td><td>1.0</td><td>0.0</td><td>58064.03835120198</td><td>19.771302240587723</td></tr>\n",
       "<tr><td>1070247217987595</td><td>208.761444858952</td><td>5.39948060917962</td><td>26432</td><td>sv3</td><td>1.47977568843308</td><td>0.000103869946511408</td><td>4</td><td>3.5870752632618</td><td>iron/healpix/sv3/bright/264/26432/redrock-sv3-bright-26432.fits</td><td>EXT</td><td>547778</td><td>208.7614448589523</td><td>5.399480609179624</td><td>1.0</td><td>0.06803759341778508</td><td>1.0000000591836442</td><td>1.0</td><td>0.0</td><td>442238.7171672945</td><td>31.152172072108243</td></tr>\n",
       "<tr><td>1083441357520907</td><td>208.761444858952</td><td>5.39948060917962</td><td>26432</td><td>sv3</td><td>0.294574525395177</td><td>6.23612821148458e-05</td><td>4</td><td>0.676469814032316</td><td>iron/healpix/sv3/dark/264/26432/redrock-sv3-dark-26432.fits</td><td>EXT</td><td>547778</td><td>208.7614448589523</td><td>5.399480609179624</td><td>1.0</td><td>0.06803759341778508</td><td>1.0000000591836442</td><td>1.0</td><td>0.0</td><td>86924.34727570288</td><td>18.716663449542047</td></tr>\n",
       "<tr><td>39627914962013611</td><td>208.743487213374</td><td>5.33383414667272</td><td>26432</td><td>main</td><td>0.00461942940205449</td><td>5.68029267390372e-06</td><td>0</td><td>3600.63179176486</td><td>iron/healpix/main/bright/264/26432/redrock-main-bright-26432.fits</td><td>TFT</td><td>547778</td><td>208.74348721337373</td><td>5.333834146672721</td><td>1.0</td><td>0.0</td><td>0.0</td><td>1.0</td><td>0.0</td><td>-2.003661701254118</td><td>1.9219354823622101</td></tr>\n",
       "<tr><td>39627914962013611</td><td>208.743487213374</td><td>5.33383414667272</td><td>26432</td><td>sv3</td><td>0.00463006271586521</td><td>4.96292662438568e-06</td><td>0</td><td>6283.39054498388</td><td>iron/healpix/sv3/bright/264/26432/redrock-sv3-bright-26432.fits</td><td>TFT</td><td>547778</td><td>208.74348721337373</td><td>5.333834146672721</td><td>1.0</td><td>0.0</td><td>0.0</td><td>1.0</td><td>0.0</td><td>1.18412558274696</td><td>1.734251669591629</td></tr>\n",
       "<tr><td>2389655152492546</td><td>208.750669807921</td><td>5.36009279454122</td><td>26432</td><td>main</td><td>0.52184254823209</td><td>5.588924331477e-05</td><td>4</td><td>0.0910770744085312</td><td>iron/healpix/main/bright/264/26432/redrock-main-bright-26432.fits</td><td>TFT</td><td>547778</td><td>208.75066980792113</td><td>5.360092794541216</td><td>1.0</td><td>0.02721503736707425</td><td>0.400000023672873</td><td>1.0</td><td>0.0</td><td>155057.58646678115</td><td>16.778849203923723</td></tr>\n",
       "</table></div>"
      ],
      "text/plain": [
       "<Table length=32>\n",
       "     TARGETID        TARGET_RA     ...       VELOCITY             VERR       \n",
       "      int64           float64      ...       float64            float64      \n",
       "----------------- ---------------- ... ------------------- ------------------\n",
       " 1070241199161348 208.737562035713 ...  291238.80353103776  28.37155491480249\n",
       " 1083435338694660 208.737562035713 ...  -81.23131963612231 17.864713438306783\n",
       " 1070241199161347 208.731457742922 ...  469306.79794617876  96.58040838406671\n",
       " 1083435338694659 208.731457742922 ...   425489.9761295602  30.05663261601853\n",
       " 1070241199161349 208.749412809371 ...  457012.94904108014 42.125747441844965\n",
       " 1083435338694661 208.749412809371 ...  134.26566784550334 15.714761154874777\n",
       " 1070247217987594 208.755518408261 ...  157038.79548513106  31.79202745110391\n",
       " 1083441357520906 208.755518408261 ... -1352.4197239565208 16.748651029397664\n",
       " 1070241199161346 208.725533409266 ...  449603.22270248923  59.18294940132451\n",
       " 1083435338694658 208.725533409266 ...   368156.5051517164  17.50945667639753\n",
       "              ...              ... ...                 ...                ...\n",
       " 1070241199161346 208.725533409266 ...   411281.9268180729  39.70873508262206\n",
       " 1083435338694658 208.725533409266 ...  458710.05145709624 37.572495268371895\n",
       " 2394053199003653 208.732714473026 ...   413043.8265228355 20.986607645485197\n",
       " 2394053199003654 208.739896146781 ...  -156.8537839869129 1.1865312679620157\n",
       " 2394059217829889 208.757853020198 ...   58064.03835120198 19.771302240587723\n",
       " 1070247217987595 208.761444858952 ...   442238.7171672945 31.152172072108243\n",
       " 1083441357520907 208.761444858952 ...   86924.34727570288 18.716663449542047\n",
       "39627914962013611 208.743487213374 ...  -2.003661701254118 1.9219354823622101\n",
       "39627914962013611 208.743487213374 ...    1.18412558274696  1.734251669591629\n",
       " 2389655152492546 208.750669807921 ...  155057.58646678115 16.778849203923723"
      ]
     },
     "execution_count": 68,
     "metadata": {},
     "output_type": "execute_result"
    }
   ],
   "source": [
    "tf_mastertable[tf_mastertable['SGA_ID']==  547778]"
   ]
  },
  {
   "cell_type": "code",
   "execution_count": 80,
   "id": "90719fc7-3454-4bc2-8e1e-b0587ca4cd28",
   "metadata": {
    "tags": []
   },
   "outputs": [
    {
     "data": {
      "image/png": "[encoded data removed]",
      "text/plain": [
       "<Figure size 640x480 with 2 Axes>"
      ]
     },
     "metadata": {},
     "output_type": "display_data"
    },
    {
     "data": {
      "text/plain": [
       "<Figure size 640x480 with 0 Axes>"
      ]
     },
     "metadata": {},
     "output_type": "display_data"
    }
   ],
   "source": [
    "plt.figure(tight_layout=True)\n",
    "#define plotting variables\n",
    "galaxy = tf_mastertable[tf_mastertable['SGA_ID'] == 547778]\n",
    "x = galaxy['RA']\n",
    "y = galaxy['DEC']\n",
    "c = galaxy['VELOCITY']\n",
    "\n",
    "# find max of absolute value of the leftover velocities\n",
    "velocity_abs = np.abs(c)\n",
    "v_max = np.max(velocity_abs)\n",
    "\n",
    "#define colorbar\n",
    "if v_max > 1000:\n",
    "    vmin = -1000\n",
    "    vmax = 1000\n",
    "else:\n",
    "    vmin = -v_max\n",
    "    vmax = +v_max\n",
    "    \n",
    "# separate the data into velocity types\n",
    "high_velocity = galaxy[np.abs(c) > 1000]\n",
    "low_velocity = galaxy[np.abs(c) <= 1000]\n",
    "\n",
    "plt.scatter(low_velocity['RA'], low_velocity['DEC'], c=low_velocity['VELOCITY'], marker='o', cmap='bwr', linewidths=0.5, edgecolors='black', vmin=vmin, vmax=vmax)\n",
    "plt.scatter(high_velocity['RA'], high_velocity['DEC'], c=high_velocity['VELOCITY'], marker='X', cmap='bwr', linewidths=0.1, edgecolors='black', vmin=vmin, vmax=vmax)\n",
    "\n",
    "# plot!!!\n",
    "plt.colorbar(label='Velocity [km/s]')\n",
    "plt.xlabel('RA')\n",
    "plt.ylabel('DEC')\n",
    "plt.title('SGA ID {} Velocity Map'.format(galaxy['SGA_ID'][0]))\n",
    "\n",
    "#plotting ellipses\n",
    "#???\n",
    "            \n",
    "# either load an existing image or save fig to scratch\n",
    "img_name = v_dir + '{}.jpg'.format(sga_id)\n",
    "if os.path.exists(img_name):\n",
    "    if verbose:\n",
    "        print('{} exists.'.format(img_name))\n",
    "else:\n",
    "    plt.savefig(v_dir + '{}.png'.format(sga_id), dpi=120)\n",
    "                "
   ]
  },
  {
   "cell_type": "code",
   "execution_count": 81,
   "id": "54bd369e-9443-45d3-941d-3638134fa774",
   "metadata": {
    "tags": []
   },
   "outputs": [
    {
     "data": {
      "text/plain": [
       "'/pscratch/sd/j/jjpim/2Dvmap/5005244.png'"
      ]
     },
     "execution_count": 81,
     "metadata": {},
     "output_type": "execute_result"
    }
   ],
   "source": [
    "v_dir + '{}.png'.format(sga_id)"
   ]
  },
  {
   "cell_type": "code",
   "execution_count": null,
   "id": "b53f61a1-7f4d-4bbd-a689-d432964d5287",
   "metadata": {},
   "outputs": [],
   "source": [
    "# code for displaying multiple images in one figure \n",
    "# create figure \n",
    "fig = plt.figure(figsize=(10, 7)) \n",
    "\n",
    "# setting values to rows and column variables \n",
    "rows = 2\n",
    "columns = 2\n",
    "\n",
    "# reading images \n",
    "Image1 = cv2.imread('Image1.jpg') \n",
    "Image2 = cv2.imread('Image2.jpg') \n",
    "Image3 = cv2.imread('Image3.jpg') \n",
    "Image4 = cv2.imread('Image4.jpg') \n",
    "\n",
    "# Adds a subplot at the 1st position \n",
    "fig.add_subplot(rows, columns, 1) \n",
    "\n",
    "# showing image \n",
    "plt.imshow(Image1) \n",
    "plt.axis('off') \n",
    "plt.title(\"First\") \n",
    "\n",
    "# Adds a subplot at the 2nd position \n",
    "fig.add_subplot(rows, columns, 2) \n",
    "\n",
    "# showing image \n",
    "plt.imshow(Image2) \n",
    "plt.axis('off') \n",
    "plt.title(\"Second\") \n",
    "\n",
    "# Adds a subplot at the 3rd position \n",
    "fig.add_subplot(rows, columns, 3) \n",
    "\n",
    "# showing image \n",
    "plt.imshow(Image3) \n",
    "plt.axis('off') \n",
    "plt.title(\"Third\") \n",
    "\n",
    "# Adds a subplot at the 4th position \n",
    "fig.add_subplot(rows, columns, 4) \n",
    "\n",
    "# showing image \n",
    "plt.imshow(Image4) \n",
    "plt.axis('off') \n",
    "plt.title(\"Fourth\") \n"
   ]
  },
  {
   "cell_type": "code",
   "execution_count": null,
   "id": "9176f94c-b693-4a8e-a0b9-d43eac1c5c15",
   "metadata": {},
   "outputs": [],
   "source": [
    "#combining figures "
   ]
  },
  {
   "cell_type": "code",
   "execution_count": 141,
   "id": "1da76daf-66d3-474e-a472-cdd388bb4040",
   "metadata": {
    "tags": []
   },
   "outputs": [
    {
     "name": "stdout",
     "output_type": "stream",
     "text": [
      "     VELOCITY     \n",
      "------------------\n",
      " 81.23131963612231\n",
      "134.26566784550334\n",
      "1352.4197239565208\n",
      " 81.23131963612231\n",
      "0.8195361185068979\n",
      "134.26566784550334\n",
      "1352.4197239565208\n",
      " 156.8537839869129\n",
      " 2.003661701254118\n",
      "  1.18412558274696\n"
     ]
    }
   ],
   "source": [
    "print(velocity_abs)"
   ]
  },
  {
   "cell_type": "code",
   "execution_count": null,
   "id": "337bcf8b-eaab-49df-8748-6f02a1ee46fc",
   "metadata": {},
   "outputs": [],
   "source": []
  }
 ],
 "metadata": {
  "kernelspec": {
   "display_name": "DESI main",
   "language": "python",
   "name": "desi-main"
  },
  "language_info": {
   "codemirror_mode": {
    "name": "ipython",
    "version": 3
   },
   "file_extension": ".py",
   "mimetype": "text/x-python",
   "name": "python",
   "nbconvert_exporter": "python",
   "pygments_lexer": "ipython3",
   "version": "3.10.14"
  }
 },
 "nbformat": 4,
 "nbformat_minor": 5
}
