{
 "cells": [
  {
   "cell_type": "code",
   "execution_count": 121,
   "id": "47b98b9d-f99a-4ea0-8b72-24a2f9a761a4",
   "metadata": {
    "tags": []
   },
   "outputs": [],
   "source": [
    "# all imports\n",
    "import numpy as np\n",
    "import os\n",
    "import requests\n",
    "from astropy.table import Table, vstack\n",
    "import matplotlib.pyplot as plt\n",
    "from astropy.io import fits\n",
    "from astropy.coordinates import SkyCoord\n",
    "from astropy import units as u\n",
    "from astropy.wcs import WCS\n",
    "import math\n",
    "import matplotlib as mpl\n",
    "from astropy.visualization.wcsaxes import SphericalCircle\n",
    "import pandas as pd\n",
    "import random"
   ]
  },
  {
   "cell_type": "code",
   "execution_count": 122,
   "id": "5d013d3f-8567-42ba-900e-e809a9df8c72",
   "metadata": {
    "tags": []
   },
   "outputs": [],
   "source": [
    "# define directories\n",
    "data_dir = '/global/cfs/projectdirs/desi/science/td/pv/tfgalaxies/'\n",
    "cache_dir = '/pscratch/sd/j/jjpim/cache/' # my cache path\n",
    "vi_dir = '/pscratch/sd/j/jjpim/visual_inspection/' # vi image path"
   ]
  },
  {
   "cell_type": "code",
   "execution_count": 123,
   "id": "fbf71644-dd44-4173-bd12-37b31219b704",
   "metadata": {
    "tags": []
   },
   "outputs": [],
   "source": [
    "# load updated fuji table\n",
    "tf_fuji = Table.read(data_dir + 'SV/desi_pv_tf_fuji_healpix_rotcurve_EOA_VI_velocity.fits') \n",
    "# load iron table\n",
    "tf_iron = Table.read(data_dir + 'Y1/desi_pv_tf_iron_healpix_rotcurve_EOA_VI_velocity.fits')\n",
    "#combine\n",
    "tf_mastertable = vstack([tf_fuji,tf_iron])\n",
    "#dictionary\n",
    "tf_mastertable_dict = {}\n",
    "for sga_id in np.unique(tf_mastertable['SGA_ID']):\n",
    "    tf_mastertable_dict[sga_id] = np.where(tf_mastertable['SGA_ID'] == sga_id)[0]"
   ]
  },
  {
   "cell_type": "code",
   "execution_count": 124,
   "id": "14f68cb0-44f6-43cf-90e6-73b7510688d1",
   "metadata": {
    "tags": []
   },
   "outputs": [
    {
     "name": "stdout",
     "output_type": "stream",
     "text": [
      "547778\n",
      "608015\n",
      "1065602\n",
      "1333993\n"
     ]
    }
   ],
   "source": [
    "#find sga id with the most targets\n",
    "for sga_id in tf_galaxies:\n",
    "    if len(tf_mastertable[tf_mastertable['SGA_ID']==  sga_id])>25:\n",
    "        print(sga_id)"
   ]
  },
  {
   "cell_type": "code",
   "execution_count": 161,
   "id": "01e41cd6-57de-4e98-a3e8-d84aa15071bc",
   "metadata": {
    "tags": []
   },
   "outputs": [
    {
     "data": {
      "text/html": [
       "<div><i>Table length=31</i>\n",
       "<table id=\"table140119383702064\" class=\"table-striped table-bordered table-condensed\">\n",
       "<thead><tr><th>TARGETID</th><th>TARGET_RA</th><th>TARGET_DEC</th><th>HEALPIX</th><th>SURVEY</th><th>Z</th><th>ZERR</th><th>ZWARN</th><th>DELTACHI2</th><th>FILENAME</th><th>PVTYPE</th><th>SGA_ID</th><th>RA</th><th>DEC</th><th>OBS_IN_SV</th><th>SKY_FIBER_DIST</th><th>SKY_FIBER_DIST_R26</th><th>ROT_CURVE</th><th>EOA</th><th>VELOCITY</th><th>VERR</th></tr></thead>\n",
       "<thead><tr><th>int64</th><th>float64</th><th>float64</th><th>int64</th><th>bytes4</th><th>float64</th><th>float64</th><th>int64</th><th>float64</th><th>bytes65</th><th>bytes3</th><th>int64</th><th>float64</th><th>float64</th><th>float64</th><th>float64</th><th>float64</th><th>float64</th><th>float64</th><th>float64</th><th>float64</th></tr></thead>\n",
       "<tr><td>1083283966263312</td><td>180.088777358876</td><td>-1.11024777720183</td><td>25599</td><td>sv3</td><td>0.00436762087876588</td><td>1.42837672240012e-06</td><td>0</td><td>15897.7449971626</td><td>fuji/healpix/sv3/dark/255/25599/redrock-sv3-dark-25599.fits</td><td>EXT</td><td>1065602</td><td>180.08877735887648</td><td>-1.1102477772018335</td><td>1.0</td><td>0.013957389713373361</td><td>0.32999998593202395</td><td>1.0</td><td>1.0</td><td>-143.23592541861404</td><td>0.7111210610669596</td></tr>\n",
       "<tr><td>1083283966263313</td><td>180.108167612631</td><td>-1.09016316641461</td><td>25599</td><td>sv3</td><td>0.0053534602140923</td><td>4.45334000484803e-06</td><td>0</td><td>4136.92135445221</td><td>fuji/healpix/sv3/dark/255/25599/redrock-sv3-dark-25599.fits</td><td>EXT</td><td>1065602</td><td>180.10816761263058</td><td>-1.090163166414607</td><td>1.0</td><td>0.013957389713391206</td><td>0.3299999859324459</td><td>1.0</td><td>1.0</td><td>152.3112721119796</td><td>1.4507778336944546</td></tr>\n",
       "<tr><td>1070089826729999</td><td>180.078788337759</td><td>-1.1205943454118</td><td>25599</td><td>sv3</td><td>0.746080375788651</td><td>7.05932471404864e-05</td><td>0</td><td>12.3854653686285</td><td>fuji/healpix/sv3/bright/255/25599/redrock-sv3-bright-25599.fits</td><td>EXT</td><td>1065602</td><td>180.07878833775885</td><td>-1.1205943454118001</td><td>1.0</td><td>0.02833773063017716</td><td>0.6699999714376246</td><td>1.0</td><td>1.0</td><td>222216.65399896743</td><td>21.17093685826563</td></tr>\n",
       "<tr><td>1083283966263311</td><td>180.078788337759</td><td>-1.1205943454118</td><td>25599</td><td>sv3</td><td>0.00464639799063975</td><td>3.19435285822499e-05</td><td>0</td><td>31.9120003114913</td><td>fuji/healpix/sv3/dark/255/25599/redrock-sv3-dark-25599.fits</td><td>EXT</td><td>1065602</td><td>180.07878833775885</td><td>-1.1205943454118001</td><td>1.0</td><td>0.02833773063017716</td><td>0.6699999714376246</td><td>1.0</td><td>1.0</td><td>-59.66064981580571</td><td>9.593243204719073</td></tr>\n",
       "<tr><td>1083283966263314</td><td>180.118156429974</td><td>-1.07981649987604</td><td>25599</td><td>sv3</td><td>0.00535718577838891</td><td>1.59550379891168e-05</td><td>0</td><td>249.207345602888</td><td>fuji/healpix/sv3/dark/255/25599/redrock-sv3-dark-25599.fits</td><td>EXT</td><td>1065602</td><td>180.11815642997368</td><td>-1.0798164998760402</td><td>1.0</td><td>0.02833773063019543</td><td>0.6699999714380566</td><td>1.0</td><td>1.0</td><td>153.4281681898973</td><td>4.8167755305729365</td></tr>\n",
       "<tr><td>1070083786932227</td><td>180.069093043901</td><td>-1.13063657023067</td><td>25599</td><td>sv3</td><td>0.508852243075155</td><td>0.000176351857769613</td><td>4</td><td>0.803055022843182</td><td>fuji/healpix/sv3/bright/255/25599/redrock-sv3-bright-25599.fits</td><td>TFT</td><td>1065602</td><td>180.06909304390072</td><td>-1.1306365702306744</td><td>1.0</td><td>0.04229512034355193</td><td>0.9999999573696817</td><td>1.0</td><td>1.0</td><td>151097.44898603825</td><td>52.87200515270792</td></tr>\n",
       "<tr><td>1083277926465539</td><td>180.069093043901</td><td>-1.13063657023067</td><td>25599</td><td>sv3</td><td>0.609555769981184</td><td>9.6756850868172e-05</td><td>4</td><td>4.17820824682713</td><td>fuji/healpix/sv3/dark/255/25599/redrock-sv3-dark-25599.fits</td><td>TFT</td><td>1065602</td><td>180.06909304390072</td><td>-1.1306365702306744</td><td>1.0</td><td>0.04229512034355193</td><td>0.9999999573696817</td><td>1.0</td><td>1.0</td><td>181287.60684646582</td><td>29.012529587731237</td></tr>\n",
       "<tr><td>1070089826730003</td><td>180.127851393537</td><td>-1.06977411567805</td><td>25599</td><td>sv3</td><td>1.37914220539999</td><td>8.90974056076415e-05</td><td>4</td><td>3.03583170473576</td><td>fuji/healpix/sv3/bright/255/25599/redrock-sv3-bright-25599.fits</td><td>TFT</td><td>1065602</td><td>180.12785139353724</td><td>-1.0697741156780503</td><td>1.0</td><td>0.042295120343574265</td><td>0.9999999573702099</td><td>1.0</td><td>1.0</td><td>412003.8159641279</td><td>26.716763147425432</td></tr>\n",
       "<tr><td>1083283966263315</td><td>180.127851393537</td><td>-1.06977411567805</td><td>25599</td><td>sv3</td><td>0.41132741165799</td><td>6.08823852491685e-05</td><td>4</td><td>3.33358387649059</td><td>fuji/healpix/sv3/dark/255/25599/redrock-sv3-dark-25599.fits</td><td>TFT</td><td>1065602</td><td>180.12785139353724</td><td>-1.0697741156780503</td><td>1.0</td><td>0.042295120343574265</td><td>0.9999999573702099</td><td>1.0</td><td>1.0</td><td>121860.24005945072</td><td>18.260907568913474</td></tr>\n",
       "<tr><td>1083283966263314</td><td>180.118156429974</td><td>-1.07981649987604</td><td>25599</td><td>sv3</td><td>0.00535718577838891</td><td>1.59550379891168e-05</td><td>0</td><td>249.207345602888</td><td>fuji/healpix/sv3/dark/255/25599/redrock-sv3-dark-25599.fits</td><td>TFT</td><td>1065602</td><td>180.11815642997368</td><td>-1.0798164998760402</td><td>1.0</td><td>0.02833773063019543</td><td>0.6699999714380566</td><td>1.0</td><td>1.0</td><td>153.4281681898973</td><td>4.8167755305729365</td></tr>\n",
       "<tr><td>...</td><td>...</td><td>...</td><td>...</td><td>...</td><td>...</td><td>...</td><td>...</td><td>...</td><td>...</td><td>...</td><td>...</td><td>...</td><td>...</td><td>...</td><td>...</td><td>...</td><td>...</td><td>...</td><td>...</td><td>...</td></tr>\n",
       "<tr><td>2846900617216006</td><td>180.104348340834</td><td>-1.09411923605973</td><td>25599</td><td>main</td><td>0.00540253596915108</td><td>1.68814667511311e-06</td><td>0</td><td>15469.9232922413</td><td>iron/healpix/main/dark/255/25599/redrock-main-dark-25599.fits</td><td>EXT</td><td>1065602</td><td>180.10434834083352</td><td>-1.0941192360597316</td><td>1.0</td><td>0.008459024068723453</td><td>0.1999999914742453</td><td>1.0</td><td>1.0</td><td>167.02381334925698</td><td>0.7605619682608777</td></tr>\n",
       "<tr><td>2407095966105606</td><td>180.104348340834</td><td>-1.09411923605973</td><td>25599</td><td>main</td><td>0.00540989128753523</td><td>1.97389203281213e-06</td><td>0</td><td>12796.1810923772</td><td>iron/healpix/main/dark/255/25599/redrock-main-dark-25599.fits</td><td>EXT</td><td>1065602</td><td>180.10434834083352</td><td>-1.0941192360597316</td><td>1.0</td><td>0.008459024068723453</td><td>0.1999999914742453</td><td>1.0</td><td>1.0</td><td>169.22888232701402</td><td>0.8200617041409902</td></tr>\n",
       "<tr><td>2846900617216004</td><td>180.116099914336</td><td>-1.0819466986207</td><td>25599</td><td>main</td><td>0.00540841606308295</td><td>1.83136426286343e-06</td><td>0</td><td>8573.27669802867</td><td>iron/healpix/main/dark/255/25599/redrock-main-dark-25599.fits</td><td>EXT</td><td>1065602</td><td>180.1160999143361</td><td>-1.0819466986206996</td><td>1.0</td><td>0.02537707220614052</td><td>0.5999999744220305</td><td>1.0</td><td>1.0</td><td>168.78662116236342</td><td>0.7897827483635048</td></tr>\n",
       "<tr><td>1070089826730003</td><td>180.127851393537</td><td>-1.06977411567805</td><td>25599</td><td>sv3</td><td>1.37913170174892</td><td>8.2069236188845e-05</td><td>4</td><td>0.0603397116065025</td><td>iron/healpix/sv3/bright/255/25599/redrock-sv3-bright-25599.fits</td><td>EXT</td><td>1065602</td><td>180.12785139353724</td><td>-1.0697741156780503</td><td>1.0</td><td>0.042295120343574265</td><td>0.9999999573702099</td><td>1.0</td><td>1.0</td><td>412000.6670487556</td><td>24.610287471586005</td></tr>\n",
       "<tr><td>1083283966263315</td><td>180.127851393537</td><td>-1.06977411567805</td><td>25599</td><td>sv3</td><td>0.515656927636152</td><td>0.000152096273385087</td><td>4</td><td>3.7781174890697</td><td>iron/healpix/sv3/dark/255/25599/redrock-sv3-dark-25599.fits</td><td>EXT</td><td>1065602</td><td>180.12785139353724</td><td>-1.0697741156780503</td><td>1.0</td><td>0.042295120343574265</td><td>0.9999999573702099</td><td>1.0</td><td>1.0</td><td>153137.4420964942</td><td>45.60084997331202</td></tr>\n",
       "<tr><td>2842502570704903</td><td>180.086720801442</td><td>-1.11237795577804</td><td>25599</td><td>main</td><td>0.00437793998620158</td><td>3.45045068948732e-06</td><td>0</td><td>2648.48719323588</td><td>iron/healpix/main/dark/255/25599/redrock-main-dark-25599.fits</td><td>TFT</td><td>1065602</td><td>180.0867208014421</td><td>-1.112377955778036</td><td>1.0</td><td>0.01691804813740835</td><td>0.39999998294757905</td><td>1.0</td><td>1.0</td><td>-140.14233483609945</td><td>1.1799773704248093</td></tr>\n",
       "<tr><td>2402697919594503</td><td>180.086720801442</td><td>-1.11237795577804</td><td>25599</td><td>main</td><td>0.00437517604352882</td><td>2.14834699110264e-06</td><td>0</td><td>5860.04875050426</td><td>iron/healpix/main/dark/255/25599/redrock-main-dark-25599.fits</td><td>TFT</td><td>1065602</td><td>180.0867208014421</td><td>-1.112377955778036</td><td>1.0</td><td>0.01691804813740835</td><td>0.39999998294757905</td><td>1.0</td><td>1.0</td><td>-140.9709440037374</td><td>0.8585655078231023</td></tr>\n",
       "<tr><td>2846900617216002</td><td>180.098472518387</td><td>-1.10020548755526</td><td>25599</td><td>main</td><td>0.00484540449738718</td><td>1.89376218305511e-06</td><td>0</td><td>313441.741723686</td><td>iron/healpix/main/dark/255/25599/redrock-main-dark-25599.fits</td><td>TFT</td><td>1065602</td><td>180.0984725183874</td><td>-1.1002054875552552</td><td>1.0</td><td>0.0</td><td>0.0</td><td>1.0</td><td>1.0</td><td>0.0</td><td>0.802899413258149</td></tr>\n",
       "<tr><td>2402697919594504</td><td>180.110224139439</td><td>-1.08803297306019</td><td>25599</td><td>main</td><td>0.00535374491435848</td><td>5.37961033164825e-06</td><td>0</td><td>1345.65717991565</td><td>iron/healpix/main/dark/255/25599/redrock-main-dark-25599.fits</td><td>TFT</td><td>1065602</td><td>180.11022413943883</td><td>-1.088032973060195</td><td>1.0</td><td>0.016918048137417516</td><td>0.3999999829477957</td><td>1.0</td><td>1.0</td><td>152.3966231045709</td><td>1.7097777206981328</td></tr>\n",
       "<tr><td>2842502570704904</td><td>180.110224139439</td><td>-1.08803297306019</td><td>25599</td><td>main</td><td>0.00536020016963829</td><td>3.9694158283123e-06</td><td>0</td><td>2541.44720233977</td><td>iron/healpix/main/dark/255/25599/redrock-main-dark-25599.fits</td><td>TFT</td><td>1065602</td><td>180.11022413943883</td><td>-1.088032973060195</td><td>1.0</td><td>0.016918048137417516</td><td>0.3999999829477957</td><td>1.0</td><td>1.0</td><td>154.33185995192264</td><td>1.31849381588666</td></tr>\n",
       "</table></div>"
      ],
      "text/plain": [
       "<Table length=31>\n",
       "    TARGETID        TARGET_RA     ...       VELOCITY             VERR       \n",
       "     int64           float64      ...       float64            float64      \n",
       "---------------- ---------------- ... ------------------- ------------------\n",
       "1083283966263312 180.088777358876 ... -143.23592541861404 0.7111210610669596\n",
       "1083283966263313 180.108167612631 ...   152.3112721119796 1.4507778336944546\n",
       "1070089826729999 180.078788337759 ...  222216.65399896743  21.17093685826563\n",
       "1083283966263311 180.078788337759 ...  -59.66064981580571  9.593243204719073\n",
       "1083283966263314 180.118156429974 ...   153.4281681898973 4.8167755305729365\n",
       "1070083786932227 180.069093043901 ...  151097.44898603825  52.87200515270792\n",
       "1083277926465539 180.069093043901 ...  181287.60684646582 29.012529587731237\n",
       "1070089826730003 180.127851393537 ...   412003.8159641279 26.716763147425432\n",
       "1083283966263315 180.127851393537 ...  121860.24005945072 18.260907568913474\n",
       "1083283966263314 180.118156429974 ...   153.4281681898973 4.8167755305729365\n",
       "             ...              ... ...                 ...                ...\n",
       "2846900617216006 180.104348340834 ...  167.02381334925698 0.7605619682608777\n",
       "2407095966105606 180.104348340834 ...  169.22888232701402 0.8200617041409902\n",
       "2846900617216004 180.116099914336 ...  168.78662116236342 0.7897827483635048\n",
       "1070089826730003 180.127851393537 ...   412000.6670487556 24.610287471586005\n",
       "1083283966263315 180.127851393537 ...   153137.4420964942  45.60084997331202\n",
       "2842502570704903 180.086720801442 ... -140.14233483609945 1.1799773704248093\n",
       "2402697919594503 180.086720801442 ...  -140.9709440037374 0.8585655078231023\n",
       "2846900617216002 180.098472518387 ...                 0.0  0.802899413258149\n",
       "2402697919594504 180.110224139439 ...   152.3966231045709 1.7097777206981328\n",
       "2842502570704904 180.110224139439 ...  154.33185995192264   1.31849381588666"
      ]
     },
     "execution_count": 161,
     "metadata": {},
     "output_type": "execute_result"
    }
   ],
   "source": [
    "tf_mastertable[tf_mastertable['SGA_ID']==  1065602]"
   ]
  },
  {
   "cell_type": "code",
   "execution_count": 171,
   "id": "90719fc7-3454-4bc2-8e1e-b0587ca4cd28",
   "metadata": {
    "tags": []
   },
   "outputs": [
    {
     "ename": "AttributeError",
     "evalue": "'Column' object has no attribute 'iloc'",
     "output_type": "error",
     "traceback": [
      "\u001b[0;31m---------------------------------------------------------------------------\u001b[0m",
      "\u001b[0;31mAttributeError\u001b[0m                            Traceback (most recent call last)",
      "Cell \u001b[0;32mIn[171], line 25\u001b[0m\n\u001b[1;32m     23\u001b[0m     plt\u001b[38;5;241m.\u001b[39mxlabel(\u001b[38;5;124m'\u001b[39m\u001b[38;5;124mRA\u001b[39m\u001b[38;5;124m'\u001b[39m)\n\u001b[1;32m     24\u001b[0m     plt\u001b[38;5;241m.\u001b[39mylabel(\u001b[38;5;124m'\u001b[39m\u001b[38;5;124mDEC\u001b[39m\u001b[38;5;124m'\u001b[39m)\n\u001b[0;32m---> 25\u001b[0m     plt\u001b[38;5;241m.\u001b[39mtitle(\u001b[38;5;124m'\u001b[39m\u001b[38;5;124mSGA ID \u001b[39m\u001b[38;5;132;01m{}\u001b[39;00m\u001b[38;5;124m Velocity Map\u001b[39m\u001b[38;5;124m'\u001b[39m\u001b[38;5;241m.\u001b[39mformat(\u001b[43mgalaxy\u001b[49m\u001b[43m[\u001b[49m\u001b[38;5;124;43m'\u001b[39;49m\u001b[38;5;124;43mSGA_ID\u001b[39;49m\u001b[38;5;124;43m'\u001b[39;49m\u001b[43m]\u001b[49m\u001b[38;5;241;43m.\u001b[39;49m\u001b[43miloc\u001b[49m[\u001b[38;5;241m0\u001b[39m]))\n\u001b[1;32m     26\u001b[0m     plt\u001b[38;5;241m.\u001b[39mshow()\n\u001b[1;32m     27\u001b[0m \u001b[38;5;28;01melse\u001b[39;00m:\n",
      "\u001b[0;31mAttributeError\u001b[0m: 'Column' object has no attribute 'iloc'"
     ]
    },
    {
     "data": {
      "image/png": "[encoded data removed]",
      "text/plain": [
       "<Figure size 640x480 with 2 Axes>"
      ]
     },
     "metadata": {},
     "output_type": "display_data"
    }
   ],
   "source": [
    "#define plotting variables\n",
    "galaxy = tf_mastertable[tf_mastertable['SGA_ID'] == 1065602]\n",
    "x = galaxy['RA']\n",
    "y = galaxy['DEC']\n",
    "c = galaxy['VELOCITY']\n",
    "\n",
    "#velocity cut \n",
    "velocity_cut = c[c < 1000]\n",
    "\n",
    "if len(velocity_cut) > 0:\n",
    "    # find max of absolute value of the leftover velocities\n",
    "    velocity_abs = np.abs(velocity_cut)\n",
    "    v_max = np.max(velocity_abs)\n",
    "    \n",
    "    # define color bar min/max\n",
    "    vmin = -v_max\n",
    "    vmax = v_max\n",
    "    \n",
    "\n",
    "    # plot!!!\n",
    "    plt.scatter(x, y, c=c, cmap='bwr', linewidths=0.5, edgecolors='black', vmin=vmin, vmax=vmax)\n",
    "    plt.colorbar(label='Velocity [km/s]')\n",
    "    plt.xlabel('RA')\n",
    "    plt.ylabel('DEC')\n",
    "    plt.title('SGA ID {} Velocity Map'.format(galaxy['SGA_ID'][0]))\n",
    "    plt.show()\n",
    "else:\n",
    "    print(galaxy['TARGETID'])"
   ]
  },
  {
   "cell_type": "code",
   "execution_count": 141,
   "id": "1da76daf-66d3-474e-a472-cdd388bb4040",
   "metadata": {
    "tags": []
   },
   "outputs": [
    {
     "name": "stdout",
     "output_type": "stream",
     "text": [
      "     VELOCITY     \n",
      "------------------\n",
      " 81.23131963612231\n",
      "134.26566784550334\n",
      "1352.4197239565208\n",
      " 81.23131963612231\n",
      "0.8195361185068979\n",
      "134.26566784550334\n",
      "1352.4197239565208\n",
      " 156.8537839869129\n",
      " 2.003661701254118\n",
      "  1.18412558274696\n"
     ]
    }
   ],
   "source": [
    "print(velocity_abs)"
   ]
  },
  {
   "cell_type": "code",
   "execution_count": null,
   "id": "337bcf8b-eaab-49df-8748-6f02a1ee46fc",
   "metadata": {},
   "outputs": [],
   "source": []
  }
 ],
 "metadata": {
  "kernelspec": {
   "display_name": "DESI main",
   "language": "python",
   "name": "desi-main"
  },
  "language_info": {
   "codemirror_mode": {
    "name": "ipython",
    "version": 3
   },
   "file_extension": ".py",
   "mimetype": "text/x-python",
   "name": "python",
   "nbconvert_exporter": "python",
   "pygments_lexer": "ipython3",
   "version": "3.10.14"
  }
 },
 "nbformat": 4,
 "nbformat_minor": 5
}
