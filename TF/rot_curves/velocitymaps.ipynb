{
 "cells": [
  {
   "cell_type": "code",
   "execution_count": 11,
   "id": "47b98b9d-f99a-4ea0-8b72-24a2f9a761a4",
   "metadata": {
    "tags": []
   },
   "outputs": [],
   "source": [
    "# all imports\n",
    "import numpy as np\n",
    "import os\n",
    "import requests\n",
    "from astropy.table import Table, vstack\n",
    "import matplotlib.pyplot as plt\n",
    "from astropy.io import fits\n",
    "from astropy.coordinates import SkyCoord\n",
    "from astropy import units as u\n",
    "from astropy.wcs import WCS\n",
    "import math\n",
    "import matplotlib as mpl\n",
    "from astropy.visualization.wcsaxes import SphericalCircle\n",
    "import pandas as pd\n",
    "import random\n",
    "from matplotlib.patches import Ellipse"
   ]
  },
  {
   "cell_type": "code",
   "execution_count": 12,
   "id": "5d013d3f-8567-42ba-900e-e809a9df8c72",
   "metadata": {
    "tags": []
   },
   "outputs": [],
   "source": [
    "# define directories\n",
    "data_dir = '/global/cfs/projectdirs/desi/science/td/pv/tfgalaxies/'\n",
    "cache_dir = '/pscratch/sd/j/jjpim/cache/' # my cache path\n",
    "vi_dir = '/pscratch/sd/j/jjpim/visual_inspection/' # vi image path\n",
    "v_dir = '/pscratch/sd/j/jjpim/2Dvmap/' # 2D velocity map image path"
   ]
  },
  {
   "cell_type": "code",
   "execution_count": 13,
   "id": "fbf71644-dd44-4173-bd12-37b31219b704",
   "metadata": {
    "tags": []
   },
   "outputs": [
    {
     "data": {
      "text/html": [
       "<div><i>Table length=5</i>\n",
       "<table id=\"table139894301138832\" class=\"table-striped table-bordered table-condensed\">\n",
       "<thead><tr><th>TARGETID</th><th>TARGET_RA</th><th>TARGET_DEC</th><th>HEALPIX</th><th>SURVEY</th><th>Z</th><th>ZERR</th><th>ZWARN</th><th>DELTACHI2</th><th>FILENAME</th><th>PVTYPE</th><th>SGA_ID</th><th>RA</th><th>DEC</th><th>OBS_IN_SV</th><th>SKY_FIBER_DIST</th><th>SKY_FIBER_DIST_R26</th><th>ROT_CURVE</th><th>EOA</th><th>VELOCITY</th><th>VERR</th></tr></thead>\n",
       "<thead><tr><th>int64</th><th>float64</th><th>float64</th><th>int64</th><th>bytes4</th><th>float64</th><th>float64</th><th>int64</th><th>float64</th><th>bytes65</th><th>bytes3</th><th>int64</th><th>float64</th><th>float64</th><th>float64</th><th>float64</th><th>float64</th><th>float64</th><th>float64</th><th>float64</th><th>float64</th></tr></thead>\n",
       "<tr><td>1079550234591232</td><td>194.390863195343</td><td>27.5157211790145</td><td>10378</td><td>sv3</td><td>1.1235686466514</td><td>7.31685779475115e-05</td><td>4</td><td>3.28414569795132</td><td>fuji/healpix/sv3/bright/103/10378/redrock-sv3-bright-10378.fits</td><td>EXT</td><td>662902</td><td>194.39086319534337</td><td>27.51572117901454</td><td>1.0</td><td>0.03927420444753712</td><td>1.0000000170652443</td><td>0.0</td><td>0.0</td><td>--</td><td>inf</td></tr>\n",
       "<tr><td>1092744374124544</td><td>194.390863195343</td><td>27.5157211790145</td><td>10378</td><td>sv3</td><td>0.686773088332363</td><td>6.9756676262104e-05</td><td>4</td><td>0.786607094109058</td><td>fuji/healpix/sv3/dark/103/10378/redrock-sv3-dark-10378.fits</td><td>EXT</td><td>662902</td><td>194.39086319534337</td><td>27.51572117901454</td><td>1.0</td><td>0.03927420444753712</td><td>1.0000000170652443</td><td>0.0</td><td>0.0</td><td>--</td><td>inf</td></tr>\n",
       "<tr><td>1092744374124546</td><td>194.364461113654</td><td>27.5037185881314</td><td>10378</td><td>sv3</td><td>0.0242933923052181</td><td>4.95233472646785e-05</td><td>0</td><td>95.428411073226</td><td>fuji/healpix/sv3/dark/103/10378/redrock-sv3-dark-10378.fits</td><td>EXT</td><td>662902</td><td>194.36446111365385</td><td>27.50371858813136</td><td>1.0</td><td>0.012960487467698754</td><td>0.3300000056318236</td><td>0.0</td><td>0.0</td><td>--</td><td>inf</td></tr>\n",
       "<tr><td>1092744369930240</td><td>194.338458724402</td><td>27.4918902690326</td><td>10378</td><td>sv3</td><td>0.0264170223697961</td><td>0.00010139452689994</td><td>0</td><td>9.53278421035066</td><td>fuji/healpix/sv3/dark/103/10378/redrock-sv3-dark-10378.fits</td><td>EXT</td><td>662902</td><td>194.33845872440244</td><td>27.491890269032595</td><td>1.0</td><td>0.012960487467685656</td><td>0.33000000563149007</td><td>0.0</td><td>0.0</td><td>--</td><td>inf</td></tr>\n",
       "<tr><td>1092744374124545</td><td>194.377858465028</td><td>27.5098100780282</td><td>10378</td><td>sv3</td><td>0.211332646769145</td><td>6.68535116703737e-05</td><td>4</td><td>3.73989077657461</td><td>fuji/healpix/sv3/dark/103/10378/redrock-sv3-dark-10378.fits</td><td>EXT</td><td>662902</td><td>194.3778584650283</td><td>27.509810078028195</td><td>1.0</td><td>0.026313716979861984</td><td>0.6700000114340222</td><td>0.0</td><td>0.0</td><td>--</td><td>inf</td></tr>\n",
       "</table></div>"
      ],
      "text/plain": [
       "<Table length=5>\n",
       "    TARGETID        TARGET_RA        TARGET_DEC    ...   EOA   VELOCITY   VERR \n",
       "     int64           float64          float64      ... float64 float64  float64\n",
       "---------------- ---------------- ---------------- ... ------- -------- -------\n",
       "1079550234591232 194.390863195343 27.5157211790145 ...     0.0       --     inf\n",
       "1092744374124544 194.390863195343 27.5157211790145 ...     0.0       --     inf\n",
       "1092744374124546 194.364461113654 27.5037185881314 ...     0.0       --     inf\n",
       "1092744369930240 194.338458724402 27.4918902690326 ...     0.0       --     inf\n",
       "1092744374124545 194.377858465028 27.5098100780282 ...     0.0       --     inf"
      ]
     },
     "execution_count": 13,
     "metadata": {},
     "output_type": "execute_result"
    }
   ],
   "source": [
    "# load updated fuji table\n",
    "tf_fuji = Table.read(data_dir + 'SV/desi_pv_tf_fuji_healpix_rotcurve_EOA_VI_velocity.fits') \n",
    "# load iron table\n",
    "tf_iron = Table.read(data_dir + 'Y1/desi_pv_tf_iron_healpix_rotcurve_EOA_VI_velocity.fits')\n",
    "#combine\n",
    "tf_mastertable = vstack([tf_fuji,tf_iron])\n",
    "#unique SGA IDs in rot curve galaxies\n",
    "tf_galaxies = np.unique(tf_mastertable['SGA_ID'][tf_mastertable['ROT_CURVE']==1])\n",
    "tf_mastertable_dict = {}\n",
    "for sga_id in np.unique(tf_mastertable['SGA_ID'][tf_mastertable['ROT_CURVE']==1]):\n",
    "    tf_mastertable_dict[sga_id] = np.where(tf_mastertable['SGA_ID'] == sga_id)[0]\n",
    "tf_mastertable[:5]"
   ]
  },
  {
   "cell_type": "code",
   "execution_count": 14,
   "id": "7efe5d24-32da-421c-9d44-925eb39318e0",
   "metadata": {
    "tags": []
   },
   "outputs": [
    {
     "data": {
      "text/html": [
       "<div><i>Table length=5</i>\n",
       "<table id=\"table139893583295872\" class=\"table-striped table-bordered table-condensed\">\n",
       "<thead><tr><th>SGA_ID</th><th>SGA_GALAXY</th><th>GALAXY</th><th>PGC</th><th>RA_LEDA</th><th>DEC_LEDA</th><th>MORPHTYPE</th><th>PA_LEDA</th><th>D25_LEDA</th><th>BA_LEDA</th><th>Z_LEDA</th><th>SB_D25_LEDA</th><th>MAG_LEDA</th><th>BYHAND</th><th>REF</th><th>GROUP_ID</th><th>GROUP_NAME</th><th>GROUP_MULT</th><th>GROUP_PRIMARY</th><th>GROUP_RA</th><th>GROUP_DEC</th><th>GROUP_DIAMETER</th><th>BRICKNAME</th><th>RA</th><th>DEC</th><th>D26</th><th>D26_REF</th><th>PA</th><th>BA</th><th>RA_MOMENT</th><th>DEC_MOMENT</th><th>SMA_MOMENT</th><th>G_SMA50</th><th>R_SMA50</th><th>Z_SMA50</th><th>SMA_SB22</th><th>SMA_SB22.5</th><th>SMA_SB23</th><th>SMA_SB23.5</th><th>SMA_SB24</th><th>SMA_SB24.5</th><th>SMA_SB25</th><th>SMA_SB25.5</th><th>SMA_SB26</th><th>G_MAG_SB22</th><th>R_MAG_SB22</th><th>Z_MAG_SB22</th><th>G_MAG_SB22.5</th><th>R_MAG_SB22.5</th><th>Z_MAG_SB22.5</th><th>G_MAG_SB23</th><th>R_MAG_SB23</th><th>Z_MAG_SB23</th><th>G_MAG_SB23.5</th><th>R_MAG_SB23.5</th><th>Z_MAG_SB23.5</th><th>G_MAG_SB24</th><th>R_MAG_SB24</th><th>Z_MAG_SB24</th><th>G_MAG_SB24.5</th><th>R_MAG_SB24.5</th><th>Z_MAG_SB24.5</th><th>G_MAG_SB25</th><th>R_MAG_SB25</th><th>Z_MAG_SB25</th><th>G_MAG_SB25.5</th><th>R_MAG_SB25.5</th><th>Z_MAG_SB25.5</th><th>G_MAG_SB26</th><th>R_MAG_SB26</th><th>Z_MAG_SB26</th><th>SMA_SB22_ERR</th><th>SMA_SB22.5_ERR</th><th>SMA_SB23_ERR</th><th>SMA_SB23.5_ERR</th><th>SMA_SB24_ERR</th><th>SMA_SB24.5_ERR</th><th>SMA_SB25_ERR</th><th>SMA_SB25.5_ERR</th><th>SMA_SB26_ERR</th><th>G_MAG_SB22_ERR</th><th>R_MAG_SB22_ERR</th><th>Z_MAG_SB22_ERR</th><th>G_MAG_SB22.5_ERR</th><th>R_MAG_SB22.5_ERR</th><th>Z_MAG_SB22.5_ERR</th><th>G_MAG_SB23_ERR</th><th>R_MAG_SB23_ERR</th><th>Z_MAG_SB23_ERR</th><th>G_MAG_SB23.5_ERR</th><th>R_MAG_SB23.5_ERR</th><th>Z_MAG_SB23.5_ERR</th><th>G_MAG_SB24_ERR</th><th>R_MAG_SB24_ERR</th><th>Z_MAG_SB24_ERR</th><th>G_MAG_SB24.5_ERR</th><th>R_MAG_SB24.5_ERR</th><th>Z_MAG_SB24.5_ERR</th><th>G_MAG_SB25_ERR</th><th>R_MAG_SB25_ERR</th><th>Z_MAG_SB25_ERR</th><th>G_MAG_SB25.5_ERR</th><th>R_MAG_SB25.5_ERR</th><th>Z_MAG_SB25.5_ERR</th><th>G_MAG_SB26_ERR</th><th>R_MAG_SB26_ERR</th><th>Z_MAG_SB26_ERR</th><th>G_COG_PARAMS_MTOT</th><th>G_COG_PARAMS_M0</th><th>G_COG_PARAMS_ALPHA1</th><th>G_COG_PARAMS_ALPHA2</th><th>G_COG_PARAMS_CHI2</th><th>R_COG_PARAMS_MTOT</th><th>R_COG_PARAMS_M0</th><th>R_COG_PARAMS_ALPHA1</th><th>R_COG_PARAMS_ALPHA2</th><th>R_COG_PARAMS_CHI2</th><th>Z_COG_PARAMS_MTOT</th><th>Z_COG_PARAMS_M0</th><th>Z_COG_PARAMS_ALPHA1</th><th>Z_COG_PARAMS_ALPHA2</th><th>Z_COG_PARAMS_CHI2</th><th>ELLIPSEBIT</th></tr></thead>\n",
       "<thead><tr><th>int64</th><th>bytes16</th><th>bytes29</th><th>int64</th><th>float64</th><th>float64</th><th>bytes21</th><th>float32</th><th>float32</th><th>float32</th><th>float32</th><th>float32</th><th>float32</th><th>bool</th><th>bytes13</th><th>int64</th><th>bytes35</th><th>int16</th><th>bool</th><th>float64</th><th>float64</th><th>float32</th><th>bytes8</th><th>float64</th><th>float64</th><th>float32</th><th>bytes4</th><th>float32</th><th>float32</th><th>float64</th><th>float64</th><th>float32</th><th>float32</th><th>float32</th><th>float32</th><th>float32</th><th>float32</th><th>float32</th><th>float32</th><th>float32</th><th>float32</th><th>float32</th><th>float32</th><th>float32</th><th>float32</th><th>float32</th><th>float32</th><th>float32</th><th>float32</th><th>float32</th><th>float32</th><th>float32</th><th>float32</th><th>float32</th><th>float32</th><th>float32</th><th>float32</th><th>float32</th><th>float32</th><th>float32</th><th>float32</th><th>float32</th><th>float32</th><th>float32</th><th>float32</th><th>float32</th><th>float32</th><th>float32</th><th>float32</th><th>float32</th><th>float32</th><th>float32</th><th>float32</th><th>float32</th><th>float32</th><th>float32</th><th>float32</th><th>float32</th><th>float32</th><th>float32</th><th>float32</th><th>float32</th><th>float32</th><th>float32</th><th>float32</th><th>float32</th><th>float32</th><th>float32</th><th>float32</th><th>float32</th><th>float32</th><th>float32</th><th>float32</th><th>float32</th><th>float32</th><th>float32</th><th>float32</th><th>float32</th><th>float32</th><th>float32</th><th>float32</th><th>float32</th><th>float32</th><th>float32</th><th>float32</th><th>float32</th><th>float32</th><th>float32</th><th>float32</th><th>float32</th><th>float32</th><th>float32</th><th>float32</th><th>float32</th><th>float32</th><th>float32</th><th>float32</th><th>float32</th><th>float32</th><th>float32</th><th>float32</th><th>float32</th><th>int32</th></tr></thead>\n",
       "<tr><td>2</td><td>SGA-2020 2</td><td>PGC1283207</td><td>1283207</td><td>228.3770865</td><td>5.4232017</td><td>S?</td><td>152.2</td><td>0.36307806</td><td>0.724436</td><td>0.03463229</td><td>23.40448</td><td>16.976</td><td>False</td><td>LEDA-20181114</td><td>0</td><td>PGC1283207</td><td>1</td><td>True</td><td>228.3770865</td><td>5.4232017</td><td>0.36307806</td><td>2283p055</td><td>228.3770803831908</td><td>5.423191398593787</td><td>0.49470574</td><td>SB26</td><td>158.20142</td><td>0.545691</td><td>228.37700918822188</td><td>5.4232652570544015</td><td>10.897086</td><td>3.3509698</td><td>3.1147978</td><td>3.240862</td><td>5.902337</td><td>6.9126143</td><td>7.941369</td><td>8.997992</td><td>10.073601</td><td>11.199986</td><td>12.391357</td><td>13.561038</td><td>14.841172</td><td>16.966799</td><td>16.108246</td><td>15.486356</td><td>16.879545</td><td>16.024958</td><td>15.400715</td><td>16.818878</td><td>15.967034</td><td>15.341793</td><td>16.776297</td><td>15.925804</td><td>15.300776</td><td>16.746685</td><td>15.897334</td><td>15.272053</td><td>16.725166</td><td>15.876816</td><td>15.2521105</td><td>16.708357</td><td>15.862035</td><td>15.237181</td><td>16.696539</td><td>15.851936</td><td>15.226998</td><td>16.689613</td><td>15.844313</td><td>15.21976</td><td>0.013392451</td><td>0.02354</td><td>0.021872982</td><td>0.01736985</td><td>0.024445537</td><td>0.039866067</td><td>0.05026544</td><td>0.08455789</td><td>0.122911856</td><td>0.005682776</td><td>0.0054258136</td><td>0.0049038026</td><td>0.005588406</td><td>0.005323561</td><td>0.0047632363</td><td>0.00543534</td><td>0.005177031</td><td>0.0046343105</td><td>0.0053025587</td><td>0.005040888</td><td>0.0045181247</td><td>0.005206092</td><td>0.0049438984</td><td>0.0044374703</td><td>0.0051483097</td><td>0.0048758644</td><td>0.0043834248</td><td>0.0051032505</td><td>0.0048264163</td><td>0.004344248</td><td>0.0050705094</td><td>0.004792021</td><td>0.004319857</td><td>0.005054293</td><td>0.004765629</td><td>0.0043044444</td><td>16.65942</td><td>0.34037337</td><td>0.2978292</td><td>3.0239506</td><td>0.07928849</td><td>15.820566</td><td>0.2640441</td><td>0.34559453</td><td>3.3033552</td><td>0.003811298</td><td>15.195567</td><td>0.29826432</td><td>0.3001073</td><td>3.2333765</td><td>0.011723555</td><td>0</td></tr>\n",
       "<tr><td>3</td><td>SGA-2020 3</td><td>PGC1310416</td><td>1310416</td><td>202.54443750000002</td><td>6.9345944</td><td>Sc</td><td>159.26</td><td>0.4017908</td><td>0.7816278</td><td>0.073888786</td><td>23.498482</td><td>16.85</td><td>False</td><td>LEDA-20181114</td><td>1</td><td>PGC1310416</td><td>1</td><td>True</td><td>202.54443750000002</td><td>6.9345944</td><td>0.4017908</td><td>2025p070</td><td>202.5444619671207</td><td>6.9346244322326624</td><td>0.55350494</td><td>SB26</td><td>161.5937</td><td>0.7291764</td><td>202.54432739596137</td><td>6.934806737209989</td><td>15.746941</td><td>5.6416235</td><td>5.2647552</td><td>5.0895185</td><td>5.9838247</td><td>7.4356494</td><td>8.728868</td><td>10.087478</td><td>11.529764</td><td>12.818195</td><td>14.115497</td><td>15.319822</td><td>16.605148</td><td>16.963299</td><td>16.307854</td><td>15.806882</td><td>16.729511</td><td>16.097378</td><td>15.615527</td><td>16.606344</td><td>15.990707</td><td>15.518403</td><td>16.525967</td><td>15.917321</td><td>15.450624</td><td>16.462585</td><td>15.859485</td><td>15.397182</td><td>16.419558</td><td>15.820947</td><td>15.36243</td><td>16.390558</td><td>15.796369</td><td>15.338905</td><td>16.376112</td><td>15.782492</td><td>15.323709</td><td>16.364115</td><td>15.773462</td><td>15.313725</td><td>0.036992554</td><td>0.034982767</td><td>0.037769336</td><td>0.049429573</td><td>0.052699674</td><td>0.074114166</td><td>0.07914538</td><td>0.09781406</td><td>0.15534972</td><td>0.016095797</td><td>0.019181909</td><td>0.021539452</td><td>0.013955905</td><td>0.016594552</td><td>0.018640138</td><td>0.012786752</td><td>0.015244632</td><td>0.01715491</td><td>0.011973826</td><td>0.014366956</td><td>0.016208366</td><td>0.011358372</td><td>0.013676575</td><td>0.015474222</td><td>0.010944939</td><td>0.013225297</td><td>0.015011175</td><td>0.010691595</td><td>0.012931233</td><td>0.014687982</td><td>0.010546411</td><td>0.012796015</td><td>0.014518412</td><td>0.010457551</td><td>0.012685407</td><td>0.014379212</td><td>16.284733</td><td>1.0914493</td><td>0.24674739</td><td>2.4320207</td><td>0.68685365</td><td>15.704403</td><td>0.8764323</td><td>0.27360612</td><td>2.4995425</td><td>0.49343896</td><td>15.235263</td><td>1.3098688</td><td>0.17866786</td><td>2.1750498</td><td>0.20391206</td><td>0</td></tr>\n",
       "<tr><td>4</td><td>SGA-2020 4</td><td>SDSSJ145059.93+135143.0</td><td>4435547</td><td>222.749787</td><td>13.8619111</td><td>S?</td><td>44.57</td><td>0.33342642</td><td>0.6637431</td><td>0.07567602</td><td>24.457481</td><td>18.214</td><td>False</td><td>LEDA-20181114</td><td>2</td><td>SDSSJ145059.93+135143.0</td><td>1</td><td>True</td><td>222.749787</td><td>13.8619111</td><td>0.33342642</td><td>2228p137</td><td>222.7497050504303</td><td>13.861929561160224</td><td>0.37067476</td><td>SB26</td><td>45.28537</td><td>0.70922077</td><td>222.749650475464</td><td>13.862052070022896</td><td>8.877115</td><td>4.652771</td><td>4.4837785</td><td>4.4959745</td><td>2.01033</td><td>3.3967943</td><td>4.76257</td><td>6.043787</td><td>7.242806</td><td>8.250407</td><td>9.158723</td><td>10.083457</td><td>11.120243</td><td>19.97595</td><td>19.190666</td><td>18.649523</td><td>19.098536</td><td>18.397219</td><td>17.899643</td><td>18.624952</td><td>17.967802</td><td>17.50231</td><td>18.35278</td><td>17.718002</td><td>17.265854</td><td>18.192762</td><td>17.5654</td><td>17.115404</td><td>18.10496</td><td>17.480022</td><td>17.033989</td><td>18.053415</td><td>17.430794</td><td>16.982971</td><td>18.020155</td><td>17.399996</td><td>16.948252</td><td>17.994783</td><td>17.377092</td><td>16.924469</td><td>0.02113719</td><td>0.03639431</td><td>0.051901262</td><td>0.06539029</td><td>0.08552586</td><td>0.07008602</td><td>0.070394725</td><td>0.08394975</td><td>0.113649584</td><td>0.013428732</td><td>0.017600043</td><td>0.016373685</td><td>0.012251812</td><td>0.014566466</td><td>0.013732588</td><td>0.012644532</td><td>0.014030071</td><td>0.013153961</td><td>0.012747069</td><td>0.013512552</td><td>0.012818239</td><td>0.012865601</td><td>0.01324455</td><td>0.012532208</td><td>0.012762528</td><td>0.013058522</td><td>0.012420634</td><td>0.01252645</td><td>0.012827468</td><td>0.012283978</td><td>0.012320441</td><td>0.012607317</td><td>0.012104107</td><td>0.0121167945</td><td>0.01244376</td><td>0.011985352</td><td>17.896797</td><td>0.5557265</td><td>0.25455818</td><td>3.167909</td><td>1.0522435</td><td>17.28287</td><td>0.4885815</td><td>0.2782499</td><td>3.2144456</td><td>1.3733263</td><td>16.807674</td><td>0.5177045</td><td>0.32264626</td><td>2.900518</td><td>1.8054093</td><td>0</td></tr>\n",
       "<tr><td>7</td><td>SGA-2020 7</td><td>PGC1742504</td><td>1742504</td><td>182.0888085</td><td>25.6022764</td><td>Sbc</td><td>84.97</td><td>0.548277</td><td>0.25118864</td><td>0.10090814</td><td>24.91348</td><td>17.59</td><td>False</td><td>LEDA-20181114</td><td>3</td><td>PGC1742504</td><td>1</td><td>True</td><td>182.0888085</td><td>25.6022764</td><td>0.548277</td><td>1820p255</td><td>182.08882232629614</td><td>25.60226821438983</td><td>0.8883204</td><td>SB26</td><td>84.857475</td><td>0.19753796</td><td>182.08873760544392</td><td>25.602311195157757</td><td>19.779116</td><td>6.5958204</td><td>6.0386286</td><td>5.8089786</td><td>9.279068</td><td>10.949478</td><td>12.652142</td><td>14.446171</td><td>16.323679</td><td>18.392954</td><td>20.915508</td><td>23.566542</td><td>26.649612</td><td>17.390274</td><td>16.360935</td><td>15.531964</td><td>17.285898</td><td>16.262264</td><td>15.440768</td><td>17.2167</td><td>16.195492</td><td>15.380734</td><td>17.16217</td><td>16.144245</td><td>15.334935</td><td>17.130178</td><td>16.110302</td><td>15.304758</td><td>17.104496</td><td>16.084463</td><td>15.280803</td><td>17.081282</td><td>16.061373</td><td>15.2589855</td><td>17.063671</td><td>16.045204</td><td>15.243196</td><td>17.046705</td><td>16.031244</td><td>15.23268</td><td>0.04351465</td><td>0.055440858</td><td>0.052207235</td><td>0.07507412</td><td>0.0793679</td><td>0.10347854</td><td>0.13569456</td><td>0.13104819</td><td>0.17234002</td><td>0.03885276</td><td>0.03744209</td><td>0.03786608</td><td>0.035534665</td><td>0.03441038</td><td>0.03503794</td><td>0.033557214</td><td>0.032548346</td><td>0.033348277</td><td>0.031964395</td><td>0.03106612</td><td>0.031957533</td><td>0.031133845</td><td>0.030202182</td><td>0.031190341</td><td>0.030430589</td><td>0.029511228</td><td>0.030530946</td><td>0.02975241</td><td>0.028853998</td><td>0.029866546</td><td>0.02928568</td><td>0.0284345</td><td>0.029445464</td><td>0.028843498</td><td>0.028076617</td><td>0.029169334</td><td>16.995174</td><td>21.083004</td><td>0.0164273</td><td>1.9079465</td><td>0.029703742</td><td>15.991165</td><td>0.7657307</td><td>0.52285546</td><td>2.3045986</td><td>0.006013103</td><td>15.191324</td><td>1.0408205</td><td>0.32956335</td><td>2.1520333</td><td>0.004725194</td><td>0</td></tr>\n",
       "<tr><td>18</td><td>SGA-2020 18</td><td>2MASXJ12340801+4535444</td><td>3550748</td><td>188.5335525</td><td>45.5956434</td><td>E</td><td>168.65</td><td>0.53088444</td><td>0.6950243</td><td>0.07609531</td><td>23.97948</td><td>16.726</td><td>False</td><td>LEDA-20181114</td><td>4</td><td>2MASXJ12340801+4535444</td><td>1</td><td>True</td><td>188.5335525</td><td>45.5956434</td><td>0.53088444</td><td>1883p455</td><td>188.53364923054596</td><td>45.595620212931856</td><td>0.73435897</td><td>SB26</td><td>166.25127</td><td>0.70995796</td><td>188.53349052789085</td><td>45.59567446403057</td><td>15.694805</td><td>5.091253</td><td>4.670616</td><td>2.9429996</td><td>5.219665</td><td>6.6119533</td><td>8.228266</td><td>10.109745</td><td>12.170589</td><td>14.364073</td><td>16.722517</td><td>19.18709</td><td>22.03077</td><td>17.208511</td><td>16.224203</td><td>15.566424</td><td>17.050343</td><td>16.080097</td><td>15.443468</td><td>16.921791</td><td>15.962402</td><td>15.347263</td><td>16.814959</td><td>15.864242</td><td>15.27134</td><td>16.729906</td><td>15.787886</td><td>15.218466</td><td>16.664564</td><td>15.730083</td><td>15.182751</td><td>16.61991</td><td>15.686324</td><td>15.1601305</td><td>16.585676</td><td>15.654064</td><td>15.148039</td><td>16.558054</td><td>15.629669</td><td>15.141826</td><td>0.032001704</td><td>0.043849397</td><td>0.045203492</td><td>0.072918765</td><td>0.06263939</td><td>0.07675708</td><td>0.10399303</td><td>0.07780949</td><td>0.14017467</td><td>0.016467415</td><td>0.021250801</td><td>0.032092847</td><td>0.0149329165</td><td>0.019061867</td><td>0.028947951</td><td>0.01369758</td><td>0.01736746</td><td>0.026648495</td><td>0.012623343</td><td>0.015980754</td><td>0.024998168</td><td>0.011793644</td><td>0.014977396</td><td>0.023862366</td><td>0.011184664</td><td>0.014255281</td><td>0.023120966</td><td>0.010785815</td><td>0.013740733</td><td>0.022603082</td><td>0.010472503</td><td>0.013351409</td><td>0.022360764</td><td>0.010212836</td><td>0.013043255</td><td>0.022296576</td><td>16.471447</td><td>0.3236818</td><td>1.9206839</td><td>2.3249283</td><td>0.0973919</td><td>15.540598</td><td>0.3247282</td><td>1.7439244</td><td>2.1774826</td><td>0.023485765</td><td>15.124181</td><td>0.16547345</td><td>1.4694684</td><td>3.3948786</td><td>0.028653827</td><td>0</td></tr>\n",
       "</table></div>"
      ],
      "text/plain": [
       "<Table length=5>\n",
       "SGA_ID  SGA_GALAXY          GALAXY         ... Z_COG_PARAMS_CHI2 ELLIPSEBIT\n",
       "int64    bytes16           bytes29         ...      float32        int32   \n",
       "------ ----------- ----------------------- ... ----------------- ----------\n",
       "     2  SGA-2020 2              PGC1283207 ...       0.011723555          0\n",
       "     3  SGA-2020 3              PGC1310416 ...        0.20391206          0\n",
       "     4  SGA-2020 4 SDSSJ145059.93+135143.0 ...         1.8054093          0\n",
       "     7  SGA-2020 7              PGC1742504 ...       0.004725194          0\n",
       "    18 SGA-2020 18  2MASXJ12340801+4535444 ...       0.028653827          0"
      ]
     },
     "execution_count": 14,
     "metadata": {},
     "output_type": "execute_result"
    }
   ],
   "source": [
    "# load SGA table\n",
    "SGA = Table.read('/global/cfs/cdirs/cosmo/data/sga/2020/SGA-2020.fits', 'ELLIPSE')\n",
    "SGA_dict = {}\n",
    "for i in range(len(SGA)):\n",
    "    SGA_dict[SGA['SGA_ID'][i]] = i\n",
    "SGA[:5]"
   ]
  },
  {
   "cell_type": "code",
   "execution_count": 42,
   "id": "17c19d5c-76de-4621-8f66-a459299d26ec",
   "metadata": {
    "tags": []
   },
   "outputs": [
    {
     "data": {
      "text/html": [
       "<i>Row index=5095</i>\n",
       "<table id=\"table139893617182416\">\n",
       "<thead><tr><th>SGA_ID</th><th>SGA_GALAXY</th><th>GALAXY</th><th>PGC</th><th>RA_LEDA</th><th>DEC_LEDA</th><th>MORPHTYPE</th><th>PA_LEDA</th><th>D25_LEDA</th><th>BA_LEDA</th><th>Z_LEDA</th><th>SB_D25_LEDA</th><th>MAG_LEDA</th><th>BYHAND</th><th>REF</th><th>GROUP_ID</th><th>GROUP_NAME</th><th>GROUP_MULT</th><th>GROUP_PRIMARY</th><th>GROUP_RA</th><th>GROUP_DEC</th><th>GROUP_DIAMETER</th><th>BRICKNAME</th><th>RA</th><th>DEC</th><th>D26</th><th>D26_REF</th><th>PA</th><th>BA</th><th>RA_MOMENT</th><th>DEC_MOMENT</th><th>SMA_MOMENT</th><th>G_SMA50</th><th>R_SMA50</th><th>Z_SMA50</th><th>SMA_SB22</th><th>SMA_SB22.5</th><th>SMA_SB23</th><th>SMA_SB23.5</th><th>SMA_SB24</th><th>SMA_SB24.5</th><th>SMA_SB25</th><th>SMA_SB25.5</th><th>SMA_SB26</th><th>G_MAG_SB22</th><th>R_MAG_SB22</th><th>Z_MAG_SB22</th><th>G_MAG_SB22.5</th><th>R_MAG_SB22.5</th><th>Z_MAG_SB22.5</th><th>G_MAG_SB23</th><th>R_MAG_SB23</th><th>Z_MAG_SB23</th><th>G_MAG_SB23.5</th><th>R_MAG_SB23.5</th><th>Z_MAG_SB23.5</th><th>G_MAG_SB24</th><th>R_MAG_SB24</th><th>Z_MAG_SB24</th><th>G_MAG_SB24.5</th><th>R_MAG_SB24.5</th><th>Z_MAG_SB24.5</th><th>G_MAG_SB25</th><th>R_MAG_SB25</th><th>Z_MAG_SB25</th><th>G_MAG_SB25.5</th><th>R_MAG_SB25.5</th><th>Z_MAG_SB25.5</th><th>G_MAG_SB26</th><th>R_MAG_SB26</th><th>Z_MAG_SB26</th><th>SMA_SB22_ERR</th><th>SMA_SB22.5_ERR</th><th>SMA_SB23_ERR</th><th>SMA_SB23.5_ERR</th><th>SMA_SB24_ERR</th><th>SMA_SB24.5_ERR</th><th>SMA_SB25_ERR</th><th>SMA_SB25.5_ERR</th><th>SMA_SB26_ERR</th><th>G_MAG_SB22_ERR</th><th>R_MAG_SB22_ERR</th><th>Z_MAG_SB22_ERR</th><th>G_MAG_SB22.5_ERR</th><th>R_MAG_SB22.5_ERR</th><th>Z_MAG_SB22.5_ERR</th><th>G_MAG_SB23_ERR</th><th>R_MAG_SB23_ERR</th><th>Z_MAG_SB23_ERR</th><th>G_MAG_SB23.5_ERR</th><th>R_MAG_SB23.5_ERR</th><th>Z_MAG_SB23.5_ERR</th><th>G_MAG_SB24_ERR</th><th>R_MAG_SB24_ERR</th><th>Z_MAG_SB24_ERR</th><th>G_MAG_SB24.5_ERR</th><th>R_MAG_SB24.5_ERR</th><th>Z_MAG_SB24.5_ERR</th><th>G_MAG_SB25_ERR</th><th>R_MAG_SB25_ERR</th><th>Z_MAG_SB25_ERR</th><th>G_MAG_SB25.5_ERR</th><th>R_MAG_SB25.5_ERR</th><th>Z_MAG_SB25.5_ERR</th><th>G_MAG_SB26_ERR</th><th>R_MAG_SB26_ERR</th><th>Z_MAG_SB26_ERR</th><th>G_COG_PARAMS_MTOT</th><th>G_COG_PARAMS_M0</th><th>G_COG_PARAMS_ALPHA1</th><th>G_COG_PARAMS_ALPHA2</th><th>G_COG_PARAMS_CHI2</th><th>R_COG_PARAMS_MTOT</th><th>R_COG_PARAMS_M0</th><th>R_COG_PARAMS_ALPHA1</th><th>R_COG_PARAMS_ALPHA2</th><th>R_COG_PARAMS_CHI2</th><th>Z_COG_PARAMS_MTOT</th><th>Z_COG_PARAMS_M0</th><th>Z_COG_PARAMS_ALPHA1</th><th>Z_COG_PARAMS_ALPHA2</th><th>Z_COG_PARAMS_CHI2</th><th>ELLIPSEBIT</th></tr></thead>\n",
       "<thead><tr><th>int64</th><th>bytes16</th><th>bytes29</th><th>int64</th><th>float64</th><th>float64</th><th>bytes21</th><th>float32</th><th>float32</th><th>float32</th><th>float32</th><th>float32</th><th>float32</th><th>bool</th><th>bytes13</th><th>int64</th><th>bytes35</th><th>int16</th><th>bool</th><th>float64</th><th>float64</th><th>float32</th><th>bytes8</th><th>float64</th><th>float64</th><th>float32</th><th>bytes4</th><th>float32</th><th>float32</th><th>float64</th><th>float64</th><th>float32</th><th>float32</th><th>float32</th><th>float32</th><th>float32</th><th>float32</th><th>float32</th><th>float32</th><th>float32</th><th>float32</th><th>float32</th><th>float32</th><th>float32</th><th>float32</th><th>float32</th><th>float32</th><th>float32</th><th>float32</th><th>float32</th><th>float32</th><th>float32</th><th>float32</th><th>float32</th><th>float32</th><th>float32</th><th>float32</th><th>float32</th><th>float32</th><th>float32</th><th>float32</th><th>float32</th><th>float32</th><th>float32</th><th>float32</th><th>float32</th><th>float32</th><th>float32</th><th>float32</th><th>float32</th><th>float32</th><th>float32</th><th>float32</th><th>float32</th><th>float32</th><th>float32</th><th>float32</th><th>float32</th><th>float32</th><th>float32</th><th>float32</th><th>float32</th><th>float32</th><th>float32</th><th>float32</th><th>float32</th><th>float32</th><th>float32</th><th>float32</th><th>float32</th><th>float32</th><th>float32</th><th>float32</th><th>float32</th><th>float32</th><th>float32</th><th>float32</th><th>float32</th><th>float32</th><th>float32</th><th>float32</th><th>float32</th><th>float32</th><th>float32</th><th>float32</th><th>float32</th><th>float32</th><th>float32</th><th>float32</th><th>float32</th><th>float32</th><th>float32</th><th>float32</th><th>float32</th><th>float32</th><th>float32</th><th>float32</th><th>float32</th><th>float32</th><th>float32</th><th>float32</th><th>float32</th><th>int32</th></tr></thead>\n",
       "<tr><td>19278</td><td>SGA-2020 19278</td><td>PGC3126144</td><td>3126144</td><td>210.861534</td><td>4.8727067</td><td>Sc</td><td>0.0</td><td>0.3672823</td><td>0.8298508</td><td>0.11573273</td><td>24.068481</td><td>17.615</td><td>False</td><td>LEDA-20181114</td><td>5121</td><td>PGC3126144</td><td>1</td><td>True</td><td>210.861534</td><td>4.8727067</td><td>0.3672823</td><td>2109p047</td><td>210.86152965279655</td><td>4.872664850752113</td><td>0.36748466</td><td>SB26</td><td>75.985825</td><td>0.9093934</td><td>210.86146598072204</td><td>4.8727262827561</td><td>8.931442</td><td>4.3242755</td><td>3.885962</td><td>3.6331453</td><td>2.910631</td><td>4.2416935</td><td>5.439149</td><td>6.484707</td><td>7.317044</td><td>8.098404</td><td>8.744415</td><td>9.827995</td><td>11.02454</td><td>18.652584</td><td>17.963514</td><td>17.477686</td><td>18.116934</td><td>17.503681</td><td>17.054377</td><td>17.798601</td><td>17.22936</td><td>16.810774</td><td>17.600037</td><td>17.06351</td><td>16.660404</td><td>17.496725</td><td>16.979336</td><td>16.584839</td><td>17.439474</td><td>16.934368</td><td>16.546831</td><td>17.410547</td><td>16.910692</td><td>16.52364</td><td>17.380362</td><td>16.88795</td><td>16.504614</td><td>17.356506</td><td>16.86826</td><td>16.485714</td><td>0.013094141</td><td>0.019535687</td><td>0.031035831</td><td>0.028730799</td><td>0.026915709</td><td>0.04561191</td><td>0.0622024</td><td>0.078370325</td><td>0.18266693</td><td>0.007105745</td><td>0.013422021</td><td>0.014666592</td><td>0.0057767327</td><td>0.0099421125</td><td>0.010990728</td><td>0.0059409533</td><td>0.008601285</td><td>0.009551697</td><td>0.005633983</td><td>0.007818268</td><td>0.00871493</td><td>0.0054957317</td><td>0.0074304775</td><td>0.008286663</td><td>0.0053528356</td><td>0.007229976</td><td>0.008211926</td><td>0.0053088805</td><td>0.0071272817</td><td>0.008083709</td><td>0.0052603506</td><td>0.007054229</td><td>0.008115024</td><td>0.005253433</td><td>0.007037806</td><td>0.008347183</td><td>17.341246</td><td>0.23725756</td><td>0.14521447</td><td>6.0341754</td><td>2.6464427</td><td>16.857706</td><td>0.20334649</td><td>0.1268947</td><td>6.0730515</td><td>0.8552115</td><td>16.475462</td><td>0.19264373</td><td>0.12751481</td><td>5.8724465</td><td>0.9991185</td><td>0</td></tr>\n",
       "</table>"
      ],
      "text/plain": [
       "<Row index=5095>\n",
       "SGA_ID   SGA_GALAXY     GALAXY     PGC    RA_LEDA    DEC_LEDA MORPHTYPE PA_LEDA  D25_LEDA  BA_LEDA    Z_LEDA   SB_D25_LEDA MAG_LEDA BYHAND      REF      GROUP_ID GROUP_NAME GROUP_MULT GROUP_PRIMARY  GROUP_RA  GROUP_DEC GROUP_DIAMETER BRICKNAME         RA                DEC           D26     D26_REF     PA        BA        RA_MOMENT         DEC_MOMENT   SMA_MOMENT  G_SMA50  R_SMA50   Z_SMA50  SMA_SB22 SMA_SB22.5 SMA_SB23 SMA_SB23.5 SMA_SB24 SMA_SB24.5 SMA_SB25 SMA_SB25.5 SMA_SB26 G_MAG_SB22 R_MAG_SB22 Z_MAG_SB22 G_MAG_SB22.5 R_MAG_SB22.5 Z_MAG_SB22.5 G_MAG_SB23 R_MAG_SB23 Z_MAG_SB23 G_MAG_SB23.5 R_MAG_SB23.5 Z_MAG_SB23.5 G_MAG_SB24 R_MAG_SB24 Z_MAG_SB24 G_MAG_SB24.5 R_MAG_SB24.5 Z_MAG_SB24.5 G_MAG_SB25 R_MAG_SB25 Z_MAG_SB25 G_MAG_SB25.5 R_MAG_SB25.5 Z_MAG_SB25.5 G_MAG_SB26 R_MAG_SB26 Z_MAG_SB26 SMA_SB22_ERR SMA_SB22.5_ERR SMA_SB23_ERR SMA_SB23.5_ERR SMA_SB24_ERR SMA_SB24.5_ERR SMA_SB25_ERR SMA_SB25.5_ERR SMA_SB26_ERR G_MAG_SB22_ERR R_MAG_SB22_ERR Z_MAG_SB22_ERR G_MAG_SB22.5_ERR R_MAG_SB22.5_ERR Z_MAG_SB22.5_ERR G_MAG_SB23_ERR R_MAG_SB23_ERR Z_MAG_SB23_ERR G_MAG_SB23.5_ERR R_MAG_SB23.5_ERR Z_MAG_SB23.5_ERR G_MAG_SB24_ERR R_MAG_SB24_ERR Z_MAG_SB24_ERR G_MAG_SB24.5_ERR R_MAG_SB24.5_ERR Z_MAG_SB24.5_ERR G_MAG_SB25_ERR R_MAG_SB25_ERR Z_MAG_SB25_ERR G_MAG_SB25.5_ERR R_MAG_SB25.5_ERR Z_MAG_SB25.5_ERR G_MAG_SB26_ERR R_MAG_SB26_ERR Z_MAG_SB26_ERR G_COG_PARAMS_MTOT G_COG_PARAMS_M0 G_COG_PARAMS_ALPHA1 G_COG_PARAMS_ALPHA2 G_COG_PARAMS_CHI2 R_COG_PARAMS_MTOT R_COG_PARAMS_M0 R_COG_PARAMS_ALPHA1 R_COG_PARAMS_ALPHA2 R_COG_PARAMS_CHI2 Z_COG_PARAMS_MTOT Z_COG_PARAMS_M0 Z_COG_PARAMS_ALPHA1 Z_COG_PARAMS_ALPHA2 Z_COG_PARAMS_CHI2 ELLIPSEBIT\n",
       "int64     bytes16      bytes29    int64   float64    float64   bytes21  float32  float32   float32   float32     float32   float32   bool     bytes13     int64    bytes35     int16         bool      float64    float64     float32       bytes8       float64            float64       float32    bytes4  float32   float32       float64           float64      float32    float32  float32   float32  float32   float32   float32   float32   float32   float32   float32   float32   float32   float32    float32    float32     float32      float32      float32     float32    float32    float32     float32      float32      float32     float32    float32    float32     float32      float32      float32     float32    float32    float32     float32      float32      float32     float32    float32    float32     float32       float32       float32       float32       float32       float32       float32       float32       float32       float32        float32        float32         float32          float32          float32         float32        float32        float32         float32          float32          float32         float32        float32        float32         float32          float32          float32         float32        float32        float32         float32          float32          float32         float32        float32        float32          float32          float32           float32             float32            float32           float32          float32           float32             float32            float32           float32          float32           float32             float32            float32        int32   \n",
       "------ -------------- ---------- ------- ---------- --------- --------- ------- --------- --------- ---------- ----------- -------- ------ ------------- -------- ---------- ---------- ------------- ---------- --------- -------------- --------- ------------------ ----------------- ---------- ------- --------- --------- ------------------ --------------- ---------- --------- -------- --------- -------- ---------- -------- ---------- -------- ---------- -------- ---------- -------- ---------- ---------- ---------- ------------ ------------ ------------ ---------- ---------- ---------- ------------ ------------ ------------ ---------- ---------- ---------- ------------ ------------ ------------ ---------- ---------- ---------- ------------ ------------ ------------ ---------- ---------- ---------- ------------ -------------- ------------ -------------- ------------ -------------- ------------ -------------- ------------ -------------- -------------- -------------- ---------------- ---------------- ---------------- -------------- -------------- -------------- ---------------- ---------------- ---------------- -------------- -------------- -------------- ---------------- ---------------- ---------------- -------------- -------------- -------------- ---------------- ---------------- ---------------- -------------- -------------- -------------- ----------------- --------------- ------------------- ------------------- ----------------- ----------------- --------------- ------------------- ------------------- ----------------- ----------------- --------------- ------------------- ------------------- ----------------- ----------\n",
       " 19278 SGA-2020 19278 PGC3126144 3126144 210.861534 4.8727067        Sc     0.0 0.3672823 0.8298508 0.11573273   24.068481   17.615  False LEDA-20181114     5121 PGC3126144          1          True 210.861534 4.8727067      0.3672823  2109p047 210.86152965279655 4.872664850752113 0.36748466    SB26 75.985825 0.9093934 210.86146598072204 4.8727262827561   8.931442 4.3242755 3.885962 3.6331453 2.910631  4.2416935 5.439149   6.484707 7.317044   8.098404 8.744415   9.827995 11.02454  18.652584  17.963514  17.477686    18.116934    17.503681    17.054377  17.798601   17.22936  16.810774    17.600037     17.06351    16.660404  17.496725  16.979336  16.584839    17.439474    16.934368    16.546831  17.410547  16.910692   16.52364    17.380362     16.88795    16.504614  17.356506   16.86826  16.485714  0.013094141    0.019535687  0.031035831    0.028730799  0.026915709     0.04561191    0.0622024    0.078370325   0.18266693    0.007105745    0.013422021    0.014666592     0.0057767327     0.0099421125      0.010990728   0.0059409533    0.008601285    0.009551697      0.005633983      0.007818268       0.00871493   0.0054957317   0.0074304775    0.008286663     0.0053528356      0.007229976      0.008211926   0.0053088805   0.0071272817    0.008083709     0.0052603506      0.007054229      0.008115024    0.005253433    0.007037806    0.008347183         17.341246      0.23725756          0.14521447           6.0341754         2.6464427         16.857706      0.20334649           0.1268947           6.0730515         0.8552115         16.475462      0.19264373          0.12751481           5.8724465         0.9991185          0"
      ]
     },
     "execution_count": 42,
     "metadata": {},
     "output_type": "execute_result"
    }
   ],
   "source": [
    "SGA[SGA_dict[19278]]"
   ]
  },
  {
   "cell_type": "code",
   "execution_count": null,
   "id": "14f68cb0-44f6-43cf-90e6-73b7510688d1",
   "metadata": {
    "tags": []
   },
   "outputs": [],
   "source": [
    "#find sga id with certain amount of targets\n",
    "for sga_id in tf_galaxies:\n",
    "    if len(tf_mastertable[tf_mastertable['SGA_ID']==  sga_id])>10 and len(tf_mastertable[tf_mastertable['SGA_ID']==  sga_id])<12:\n",
    "        print(sga_id)"
   ]
  },
  {
   "cell_type": "code",
   "execution_count": 36,
   "id": "01e41cd6-57de-4e98-a3e8-d84aa15071bc",
   "metadata": {
    "tags": []
   },
   "outputs": [
    {
     "data": {
      "text/html": [
       "<div><i>Table length=22</i>\n",
       "<table id=\"table139893284987440\" class=\"table-striped table-bordered table-condensed\">\n",
       "<thead><tr><th>TARGETID</th><th>TARGET_RA</th><th>TARGET_DEC</th><th>HEALPIX</th><th>SURVEY</th><th>Z</th><th>ZERR</th><th>ZWARN</th><th>DELTACHI2</th><th>FILENAME</th><th>PVTYPE</th><th>SGA_ID</th><th>RA</th><th>DEC</th><th>OBS_IN_SV</th><th>SKY_FIBER_DIST</th><th>SKY_FIBER_DIST_R26</th><th>ROT_CURVE</th><th>EOA</th><th>VELOCITY</th><th>VERR</th></tr></thead>\n",
       "<thead><tr><th>int64</th><th>float64</th><th>float64</th><th>int64</th><th>bytes4</th><th>float64</th><th>float64</th><th>int64</th><th>float64</th><th>bytes65</th><th>bytes3</th><th>int64</th><th>float64</th><th>float64</th><th>float64</th><th>float64</th><th>float64</th><th>float64</th><th>float64</th><th>float64</th><th>float64</th></tr></thead>\n",
       "<tr><td>1070193124048899</td><td>217.507245204422</td><td>3.20979181271875</td><td>26065</td><td>sv3</td><td>0.00595013217714784</td><td>1.31810421242316e-05</td><td>0</td><td>110.985633560224</td><td>fuji/healpix/sv3/bright/260/26065/redrock-sv3-bright-26065.fits</td><td>EXT</td><td>1049438</td><td>217.50724520442185</td><td>3.209791812718754</td><td>1.0</td><td>0.011149483959246398</td><td>0.32999998354529936</td><td>1.0</td><td>0.0</td><td>-55.70147117610238</td><td>4.075104528938938</td></tr>\n",
       "<tr><td>1083387263582211</td><td>217.507245204422</td><td>3.20979181271875</td><td>26065</td><td>sv3</td><td>0.00595927789409536</td><td>1.57645207202069e-05</td><td>0</td><td>118.982941925147</td><td>fuji/healpix/sv3/dark/260/26065/redrock-sv3-dark-26065.fits</td><td>EXT</td><td>1049438</td><td>217.50724520442185</td><td>3.209791812718754</td><td>1.0</td><td>0.011149483959246398</td><td>0.32999998354529936</td><td>1.0</td><td>0.0</td><td>-52.95965421223313</td><td>4.829843672767951</td></tr>\n",
       "<tr><td>1070193124048898</td><td>217.501605640616</td><td>3.23136818110745</td><td>26065</td><td>sv3</td><td>0.00636290142532162</td><td>6.82061778603048e-06</td><td>0</td><td>424.939328201232</td><td>fuji/healpix/sv3/bright/260/26065/redrock-sv3-bright-26065.fits</td><td>EXT</td><td>1049438</td><td>217.50160564061628</td><td>3.231368181107447</td><td>1.0</td><td>0.011149483959240047</td><td>0.3299999835451114</td><td>1.0</td><td>0.0</td><td>68.043636320727</td><td>2.274334938868318</td></tr>\n",
       "<tr><td>1083387263582210</td><td>217.501605640616</td><td>3.23136818110745</td><td>26065</td><td>sv3</td><td>0.00636441889226084</td><td>7.15004993419948e-06</td><td>0</td><td>367.623233917635</td><td>fuji/healpix/sv3/dark/260/26065/redrock-sv3-dark-26065.fits</td><td>EXT</td><td>1049438</td><td>217.50160564061628</td><td>3.231368181107447</td><td>1.0</td><td>0.011149483959240047</td><td>0.3299999835451114</td><td>1.0</td><td>0.0</td><td>68.4985614643696</td><td>2.3635230771638875</td></tr>\n",
       "<tr><td>1070193124048897</td><td>217.49870031729</td><td>3.24248326779518</td><td>26065</td><td>sv3</td><td>1.08064886152119</td><td>0.000130994611665261</td><td>4</td><td>3.34225494042039</td><td>fuji/healpix/sv3/bright/260/26065/redrock-sv3-bright-26065.fits</td><td>EXT</td><td>1049438</td><td>217.49870031728966</td><td>3.2424832677951803</td><td>1.0</td><td>0.02263683106875782</td><td>0.6699999665915225</td><td>1.0</td><td>0.0</td><td>322130.87220835104</td><td>39.283818547088345</td></tr>\n",
       "<tr><td>1083387263582209</td><td>217.49870031729</td><td>3.24248326779518</td><td>26065</td><td>sv3</td><td>1.04893751218688</td><td>6.6759442175167e-05</td><td>4</td><td>1.9588427990675</td><td>fuji/healpix/sv3/dark/260/26065/redrock-sv3-dark-26065.fits</td><td>EXT</td><td>1049438</td><td>217.49870031728966</td><td>3.2424832677951803</td><td>1.0</td><td>0.02263683106875782</td><td>0.6699999665915225</td><td>1.0</td><td>0.0</td><td>312624.0488449216</td><td>20.038732543181094</td></tr>\n",
       "<tr><td>1083387263582212</td><td>217.5101503412</td><td>3.19867670172824</td><td>26065</td><td>sv3</td><td>1.66119312189572</td><td>0.000201645048901575</td><td>4</td><td>4.33143296092749</td><td>fuji/healpix/sv3/dark/260/26065/redrock-sv3-dark-26065.fits</td><td>EXT</td><td>1049438</td><td>217.51015034120007</td><td>3.198676701728241</td><td>1.0</td><td>0.0226368310687732</td><td>0.6699999665919777</td><td>1.0</td><td>0.0</td><td>496173.6630038234</td><td>60.459865196552</td></tr>\n",
       "<tr><td>1083387263582212</td><td>217.5101503412</td><td>3.19867670172824</td><td>26065</td><td>sv3</td><td>1.66119312189572</td><td>0.000201645048901575</td><td>4</td><td>4.33143296092749</td><td>fuji/healpix/sv3/dark/260/26065/redrock-sv3-dark-26065.fits</td><td>TFT</td><td>1049438</td><td>217.51015034120007</td><td>3.198676701728241</td><td>1.0</td><td>0.0226368310687732</td><td>0.6699999665919777</td><td>1.0</td><td>0.0</td><td>496173.6630038234</td><td>60.459865196552</td></tr>\n",
       "<tr><td>1070193124048897</td><td>217.49870031729</td><td>3.24248326779518</td><td>26065</td><td>sv3</td><td>1.08064886152119</td><td>0.000130994611665261</td><td>4</td><td>3.34225494042039</td><td>fuji/healpix/sv3/bright/260/26065/redrock-sv3-bright-26065.fits</td><td>TFT</td><td>1049438</td><td>217.49870031728966</td><td>3.24248326779518</td><td>1.0</td><td>0.022636831068757433</td><td>0.6699999665915111</td><td>1.0</td><td>0.0</td><td>322130.87220835104</td><td>39.283818547088345</td></tr>\n",
       "<tr><td>1083387263582209</td><td>217.49870031729</td><td>3.24248326779518</td><td>26065</td><td>sv3</td><td>1.04893751218688</td><td>6.6759442175167e-05</td><td>4</td><td>1.9588427990675</td><td>fuji/healpix/sv3/dark/260/26065/redrock-sv3-dark-26065.fits</td><td>TFT</td><td>1049438</td><td>217.49870031728966</td><td>3.24248326779518</td><td>1.0</td><td>0.022636831068757433</td><td>0.6699999665915111</td><td>1.0</td><td>0.0</td><td>312624.0488449216</td><td>20.038732543181094</td></tr>\n",
       "<tr><td>1070193124048898</td><td>217.501605640616</td><td>3.23136818110745</td><td>26065</td><td>sv3</td><td>0.00636290142532162</td><td>6.82061778603048e-06</td><td>0</td><td>424.939328201232</td><td>fuji/healpix/sv3/bright/260/26065/redrock-sv3-bright-26065.fits</td><td>TFT</td><td>1049438</td><td>217.50160564061628</td><td>3.231368181107447</td><td>1.0</td><td>0.011149483959240047</td><td>0.3299999835451114</td><td>1.0</td><td>0.0</td><td>68.043636320727</td><td>2.274334938868318</td></tr>\n",
       "<tr><td>1083387263582210</td><td>217.501605640616</td><td>3.23136818110745</td><td>26065</td><td>sv3</td><td>0.00636441889226084</td><td>7.15004993419948e-06</td><td>0</td><td>367.623233917635</td><td>fuji/healpix/sv3/dark/260/26065/redrock-sv3-dark-26065.fits</td><td>TFT</td><td>1049438</td><td>217.50160564061628</td><td>3.231368181107447</td><td>1.0</td><td>0.011149483959240047</td><td>0.3299999835451114</td><td>1.0</td><td>0.0</td><td>68.4985614643696</td><td>2.3635230771638875</td></tr>\n",
       "<tr><td>39627866886902977</td><td>217.504425452394</td><td>3.22058000080512</td><td>26065</td><td>sv3</td><td>0.00613594143676335</td><td>4.7154939287427e-06</td><td>0</td><td>1176.82238996262</td><td>fuji/healpix/sv3/bright/260/26065/redrock-sv3-bright-26065.fits</td><td>TFT</td><td>1049438</td><td>217.50442545239423</td><td>3.220580000805119</td><td>1.0</td><td>0.0</td><td>0.0</td><td>1.0</td><td>0.0</td><td>0.0027434831914816904</td><td>1.7291551394895548</td></tr>\n",
       "<tr><td>1070193124048899</td><td>217.507245204422</td><td>3.20979181271875</td><td>26065</td><td>sv3</td><td>0.00595013217714784</td><td>1.31810421242316e-05</td><td>0</td><td>110.985633560224</td><td>fuji/healpix/sv3/bright/260/26065/redrock-sv3-bright-26065.fits</td><td>TFT</td><td>1049438</td><td>217.50724520442185</td><td>3.209791812718754</td><td>1.0</td><td>0.011149483959246398</td><td>0.32999998354529936</td><td>1.0</td><td>0.0</td><td>-55.70147117610238</td><td>4.075104528938938</td></tr>\n",
       "<tr><td>1083387263582211</td><td>217.507245204422</td><td>3.20979181271875</td><td>26065</td><td>sv3</td><td>0.00595927789409536</td><td>1.57645207202069e-05</td><td>0</td><td>118.982941925147</td><td>fuji/healpix/sv3/dark/260/26065/redrock-sv3-dark-26065.fits</td><td>TFT</td><td>1049438</td><td>217.50724520442185</td><td>3.209791812718754</td><td>1.0</td><td>0.011149483959246398</td><td>0.32999998354529936</td><td>1.0</td><td>0.0</td><td>-52.95965421223313</td><td>4.829843672767951</td></tr>\n",
       "<tr><td>1070193124048901</td><td>217.512969972537</td><td>3.1878884979188</td><td>25979</td><td>sv3</td><td>1.68507521451419</td><td>9.06815273256489e-05</td><td>4</td><td>1.49711431562901</td><td>fuji/healpix/sv3/bright/259/25979/redrock-sv3-bright-25979.fits</td><td>TFT</td><td>1049438</td><td>217.51296997253706</td><td>3.187888497918805</td><td>1.0</td><td>0.03378631502801557</td><td>0.999999950137158</td><td>1.0</td><td>0.0</td><td>503333.33425209817</td><td>27.203867885835024</td></tr>\n",
       "<tr><td>1070193124048896</td><td>217.49588038358</td><td>3.25327143221266</td><td>26065</td><td>sv3</td><td>0.431936976136099</td><td>5.0228856003164e-05</td><td>4</td><td>1.30519316921709</td><td>fuji/healpix/sv3/bright/260/26065/redrock-sv3-bright-26065.fits</td><td>TFT</td><td>1049438</td><td>217.49588038357962</td><td>3.2532714322126615</td><td>1.0</td><td>0.03378631502798515</td><td>0.9999999501362576</td><td>1.0</td><td>0.0</td><td>127651.9415549403</td><td>15.091119014115062</td></tr>\n",
       "<tr><td>1083387263582208</td><td>217.49588038358</td><td>3.25327143221266</td><td>26065</td><td>sv3</td><td>0.322184609295395</td><td>4.16763816551676e-05</td><td>4</td><td>1.03341287560761</td><td>fuji/healpix/sv3/dark/260/26065/redrock-sv3-dark-26065.fits</td><td>TFT</td><td>1049438</td><td>217.49588038357962</td><td>3.2532714322126615</td><td>1.0</td><td>0.03378631502798515</td><td>0.9999999501362576</td><td>1.0</td><td>0.0</td><td>94749.00972844796</td><td>12.533880935778223</td></tr>\n",
       "<tr><td>1070193124048896</td><td>217.49588038358</td><td>3.25327143221266</td><td>26065</td><td>sv3</td><td>1.39979106544122</td><td>0.000159417388715791</td><td>4</td><td>1.93264634162188</td><td>iron/healpix/sv3/bright/260/26065/redrock-sv3-bright-26065.fits</td><td>EXT</td><td>1049438</td><td>217.49588038357962</td><td>3.2532714322126615</td><td>1.0</td><td>0.03378631502798515</td><td>0.9999999501362576</td><td>1.0</td><td>0.0</td><td>417807.2979730741</td><td>47.80250289950835</td></tr>\n",
       "<tr><td>1083387263582208</td><td>217.49588038358</td><td>3.25327143221266</td><td>26065</td><td>sv3</td><td>0.32217960613806</td><td>3.96477862135254e-05</td><td>4</td><td>4.71286823600531</td><td>iron/healpix/sv3/dark/260/26065/redrock-sv3-dark-26065.fits</td><td>EXT</td><td>1049438</td><td>217.49588038357962</td><td>3.2532714322126615</td><td>1.0</td><td>0.03378631502798515</td><td>0.9999999501362576</td><td>1.0</td><td>0.0</td><td>94747.50981961275</td><td>11.92774338863585</td></tr>\n",
       "<tr><td>1070193124048901</td><td>217.512969972537</td><td>3.1878884979188</td><td>25979</td><td>sv3</td><td>1.68505570486418</td><td>9.61293194779808e-05</td><td>4</td><td>6.4176205098629</td><td>iron/healpix/sv3/bright/259/25979/redrock-sv3-bright-25979.fits</td><td>EXT</td><td>1049438</td><td>217.51296997253706</td><td>3.187888497918805</td><td>1.0</td><td>0.03378631502801557</td><td>0.999999950137158</td><td>1.0</td><td>0.0</td><td>503327.485406167</td><td>28.836042404032693</td></tr>\n",
       "<tr><td>39627866886902977</td><td>217.504425452394</td><td>3.22058000080512</td><td>26065</td><td>sv3</td><td>0.00613592313421358</td><td>4.6792265184136e-06</td><td>0</td><td>1207.34087652783</td><td>iron/healpix/sv3/bright/260/26065/redrock-sv3-bright-26065.fits</td><td>TFT</td><td>1049438</td><td>217.50442545239423</td><td>3.220580000805119</td><td>1.0</td><td>0.0</td><td>0.0</td><td>1.0</td><td>0.0</td><td>-0.0027434831917417185</td><td>1.7202775688592193</td></tr>\n",
       "</table></div>"
      ],
      "text/plain": [
       "<Table length=22>\n",
       "     TARGETID        TARGET_RA     ...        VELOCITY               VERR       \n",
       "      int64           float64      ...        float64              float64      \n",
       "----------------- ---------------- ... ---------------------- ------------------\n",
       " 1070193124048899 217.507245204422 ...     -55.70147117610238  4.075104528938938\n",
       " 1083387263582211 217.507245204422 ...     -52.95965421223313  4.829843672767951\n",
       " 1070193124048898 217.501605640616 ...        68.043636320727  2.274334938868318\n",
       " 1083387263582210 217.501605640616 ...       68.4985614643696 2.3635230771638875\n",
       " 1070193124048897  217.49870031729 ...     322130.87220835104 39.283818547088345\n",
       " 1083387263582209  217.49870031729 ...      312624.0488449216 20.038732543181094\n",
       " 1083387263582212   217.5101503412 ...      496173.6630038234    60.459865196552\n",
       " 1083387263582212   217.5101503412 ...      496173.6630038234    60.459865196552\n",
       " 1070193124048897  217.49870031729 ...     322130.87220835104 39.283818547088345\n",
       " 1083387263582209  217.49870031729 ...      312624.0488449216 20.038732543181094\n",
       " 1070193124048898 217.501605640616 ...        68.043636320727  2.274334938868318\n",
       " 1083387263582210 217.501605640616 ...       68.4985614643696 2.3635230771638875\n",
       "39627866886902977 217.504425452394 ...  0.0027434831914816904 1.7291551394895548\n",
       " 1070193124048899 217.507245204422 ...     -55.70147117610238  4.075104528938938\n",
       " 1083387263582211 217.507245204422 ...     -52.95965421223313  4.829843672767951\n",
       " 1070193124048901 217.512969972537 ...     503333.33425209817 27.203867885835024\n",
       " 1070193124048896  217.49588038358 ...      127651.9415549403 15.091119014115062\n",
       " 1083387263582208  217.49588038358 ...      94749.00972844796 12.533880935778223\n",
       " 1070193124048896  217.49588038358 ...      417807.2979730741  47.80250289950835\n",
       " 1083387263582208  217.49588038358 ...      94747.50981961275  11.92774338863585\n",
       " 1070193124048901 217.512969972537 ...       503327.485406167 28.836042404032693\n",
       "39627866886902977 217.504425452394 ... -0.0027434831917417185 1.7202775688592193"
      ]
     },
     "execution_count": 36,
     "metadata": {},
     "output_type": "execute_result"
    }
   ],
   "source": [
    "tf_mastertable[tf_mastertable['SGA_ID']==  1049438]"
   ]
  },
  {
   "cell_type": "code",
   "execution_count": 39,
   "id": "54bd369e-9443-45d3-941d-3638134fa774",
   "metadata": {
    "tags": []
   },
   "outputs": [
    {
     "data": {
      "image/png": "[encoded data removed]",
      "text/plain": [
       "<Figure size 640x480 with 2 Axes>"
      ]
     },
     "metadata": {},
     "output_type": "display_data"
    }
   ],
   "source": [
    "#plotting with ellipse (set up for one sga id at a time- next need to do for all)\n",
    "sga_id = 975775\n",
    "plt.figure(tight_layout=True)\n",
    "#define plotting variables\n",
    "galaxy = tf_mastertable[tf_mastertable['SGA_ID'] == sga_id]\n",
    "c = galaxy['VELOCITY']\n",
    "\n",
    "# find max of absolute value of the leftover velocities\n",
    "velocity_abs = np.abs(c)\n",
    "v_max = np.max(velocity_abs)\n",
    "\n",
    "# separate the data into velocity types\n",
    "high_velocity = galaxy[np.abs(c) > 1000]\n",
    "low_velocity = galaxy[np.abs(c) <= 1000]\n",
    "\n",
    "if len(low_velocity) > 0:\n",
    "    first_low_velocity = low_velocity['VELOCITY'][0]\n",
    "    vmin = -np.abs(first_low_velocity)\n",
    "    vmax = np.abs(first_low_velocity)\n",
    "else:\n",
    "    # if there are no low velocity data points set range as -1000 to 1000\n",
    "    vmin = -1000 if v_max > 1000 else -v_max\n",
    "    vmax = 1000 if v_max > 1000 else v_max\n",
    "    \n",
    "'''\n",
    "#define colorbar\n",
    "if v_max > 1000:\n",
    "    vmin = -1000\n",
    "    vmax = 1000\n",
    "else:\n",
    "    vmin = -v_max\n",
    "    vmax = +v_max\n",
    "'''\n",
    "plt.scatter(low_velocity['RA'], low_velocity['DEC'], c=low_velocity['VELOCITY'], marker='o', cmap='bwr', linewidths=0.5, edgecolors='black', vmin=vmin, vmax=vmax)\n",
    "plt.scatter(high_velocity['RA'], high_velocity['DEC'], c=high_velocity['VELOCITY'], marker='X', cmap='bwr', linewidths=0.1, edgecolors='black', vmin=vmin, vmax=vmax)\n",
    "\n",
    "# plot scatter plot\n",
    "plt.colorbar(label='Velocity [km/s]')\n",
    "plt.xlabel('RA')\n",
    "plt.ylabel('DEC')\n",
    "plt.title('SGA ID {} Velocity Map'.format(galaxy['SGA_ID'][0]))\n",
    "\n",
    "#set up to plot ellipse\n",
    "ax = plt.gca()\n",
    "\n",
    "#ellipse center and position angle (degrees)\n",
    "x_center = SGA['RA'][SGA_dict[sga_id]]\n",
    "y_center = SGA['DEC'][SGA_dict[sga_id]]\n",
    "theta = SGA['PA'][SGA_dict[sga_id]]\n",
    "\n",
    "#put major and minor axis into degrees\n",
    "maj = SGA['D26'][SGA_dict[sga_id]]\n",
    "major = maj/60\n",
    "ratio = SGA['BA'][SGA_dict[sga_id]]\n",
    "minor = major*ratio\n",
    "\n",
    "#plot ellipse\n",
    "ell = Ellipse(\n",
    "    xy = (x_center, y_center),\n",
    "    width = minor,\n",
    "    height = major,\n",
    "    angle =(180 - theta), #accounts for differences between matplotlib and legacy survey units\n",
    "    edgecolor = 'black',\n",
    "    facecolor = 'none'\n",
    ")\n",
    "ax.add_artist(ell)\n",
    "\n",
    "# invert x-axis\n",
    "#ax.invert_xaxis()\n",
    "\n",
    "#find target min and max\n",
    "ra = galaxy['RA']\n",
    "dec = galaxy['DEC']\n",
    "max_dec = np.max(dec)\n",
    "min_dec = np.min(dec)\n",
    "max_ra = np.max(ra)\n",
    "min_ra = np.min(ra)\n",
    "\n",
    "#set up fractions of min/max to add onto axis limits\n",
    "'''\n",
    "dec_frac_max = np.abs(max_dec*0.004)\n",
    "dec_frac_min = np.abs(min_dec*0.002)\n",
    "ra_frac = np.abs(max_ra*0.0003)\n",
    "\n",
    "dec_frac = np.abs(max_dec - min_dec)*0.1\n",
    "ra_frac = np.abs(max_ra - min_ra)*0.1\n",
    "'''\n",
    "'''\n",
    "#set axis manually\n",
    "dec_max = (max_dec + dec_frac)\n",
    "dec_min = (min_dec - dec_frac)\n",
    "ra_max =  (max_ra + ra_frac)\n",
    "ra_min = (min_ra - ra_frac)\n",
    "'''\n",
    "dec_max = y_center + major*0.5\n",
    "ra_max = x_center + major*0.5\n",
    "dec_min = y_center - major*0.5\n",
    "ra_min = x_center - major*0.5\n",
    "'''\n",
    "#set axis manually\n",
    "ax.set_xlim(213, 212.83)\n",
    "ax.set_ylim(-1.23, -1.09)\n",
    "\n",
    "'''\n",
    "ax.set_xlim(ra_max, ra_min)\n",
    "ax.set_ylim(dec_min, dec_max)\n",
    "\n",
    "# either load an existing image or save fig to scratch\n",
    "img_name = v_dir + '{}.jpg'.format(sga_id)\n",
    "plt.savefig(v_dir + '{}.png'.format(sga_id), dpi=120)\n",
    "'''if os.path.exists(img_name):\n",
    "    if verbose:\n",
    "        print('{} exists.'.format(img_name))\n",
    "else:\n",
    "    plt.savefig(v_dir + '{}.png'.format(sga_id), dpi=120)\n",
    "'''\n",
    "plt.show()"
   ]
  },
  {
   "cell_type": "code",
   "execution_count": 22,
   "id": "ec64e1d5-1f95-4792-9a3e-b772d0ef04ff",
   "metadata": {
    "tags": []
   },
   "outputs": [
    {
     "data": {
      "text/plain": [
       "142.01385"
      ]
     },
     "execution_count": 22,
     "metadata": {},
     "output_type": "execute_result"
    }
   ],
   "source": [
    "theta"
   ]
  },
  {
   "cell_type": "code",
   "execution_count": null,
   "id": "9b5de306-b8ff-46c9-a2e4-ee2374d43f63",
   "metadata": {},
   "outputs": [],
   "source": [
    "for sga_id in tf_galaxies:\n",
    "    plt.figure(tight_layout=True)\n",
    "    ax = plt.gca()\n",
    "    #define plotting variables\n",
    "    galaxy = tf_mastertable[tf_mastertable['SGA_ID'] == sga_id]\n",
    "    c = galaxy['VELOCITY']\n",
    "\n",
    "    # find max of absolute value of the leftover velocities\n",
    "    velocity_abs = np.abs(c)\n",
    "    v_max = np.max(velocity_abs)\n",
    "\n",
    "    # separate the data into velocity types\n",
    "    high_velocity = galaxy[np.abs(c) > 1000]\n",
    "    low_velocity = galaxy[np.abs(c) <= 1000]\n",
    "\n",
    "    if len(low_velocity) > 0:\n",
    "        first_low_velocity = low_velocity['VELOCITY'][0]\n",
    "        vmin = -np.abs(first_low_velocity)\n",
    "        vmax = np.abs(first_low_velocity)\n",
    "    else:\n",
    "        # if there are no low velocity data points set range as -1000 to 1000\n",
    "        vmin = -1000 if v_max > 1000 else -v_max\n",
    "        vmax = 1000 if v_max > 1000 else v_max\n",
    "    \n",
    "    '''\n",
    "    #define colorbar\n",
    "    if v_max > 1000:\n",
    "        vmin = -1000\n",
    "        vmax = 1000\n",
    "    else:\n",
    "        vmin = -v_max\n",
    "        vmax = +v_max\n",
    "    '''\n",
    "    #plot scatter plot\n",
    "    plt.scatter(low_velocity['RA'], low_velocity['DEC'], c=low_velocity['VELOCITY'], marker='o', cmap='bwr', linewidths=0.5, edgecolors='black', vmin=vmin, vmax=vmax)\n",
    "    plt.scatter(high_velocity['RA'], high_velocity['DEC'], c=high_velocity['VELOCITY'], marker='X', cmap='bwr', linewidths=0.1, edgecolors='black', vmin=vmin, vmax=vmax)\n",
    "\n",
    "    # plot w/ color bar\n",
    "    plt.colorbar(label='Velocity [km/s]')\n",
    "    plt.xlabel('RA')\n",
    "    plt.ylabel('DEC')\n",
    "    plt.title('SGA ID {} Velocity Map'.format(galaxy['SGA_ID'][0]))\n",
    "\n",
    "    #ellipse center and position angle (degrees)\n",
    "    x_center = SGA['RA'][SGA_dict[sga_id]]\n",
    "    y_center = SGA['DEC'][SGA_dict[sga_id]]\n",
    "    theta = SGA['PA'][SGA_dict[sga_id]]\n",
    "\n",
    "    #put major and minor axis into degrees\n",
    "    maj = SGA['D26'][SGA_dict[sga_id]]\n",
    "    major = maj/60\n",
    "    ratio = SGA['BA'][SGA_dict[sga_id]]\n",
    "    minor = major*ratio\n",
    "\n",
    "    #plot ellipse\n",
    "    ell = Ellipse(\n",
    "        xy = (x_center, y_center),\n",
    "        width = minor,\n",
    "        height = major,\n",
    "        angle =(180 - theta), #accounts for differences between matplotlib and legacy survey units\n",
    "        edgecolor = 'black',\n",
    "        facecolor = 'none'\n",
    "    )\n",
    "    ax.add_artist(ell)\n",
    "    '''\n",
    "    invert x-axis\n",
    "    ax.invert_xaxis()\n",
    "    '''\n",
    "    #find target min and max\n",
    "    ra = galaxy['RA']\n",
    "    dec = galaxy['DEC']\n",
    "    max_dec = np.max(dec)\n",
    "    min_dec = np.min(dec)\n",
    "    max_ra = np.max(ra)\n",
    "    min_ra = np.min(ra)\n",
    "\n",
    "    #set up axis limits\n",
    "    dec_max = y_center + major*0.5\n",
    "    ra_max = x_center + major*0.5\n",
    "    dec_min = y_center - major*0.5\n",
    "    ra_min = x_center - major*0.5\n",
    "\n",
    "    ax.set_xlim(ra_max, ra_min)\n",
    "    ax.set_ylim(dec_min, dec_max)\n",
    "\n",
    "    # save fig to scratch\n",
    "    img_name = v_dir + '{}.jpg'.format(sga_id)\n",
    "    plt.savefig(v_dir + '{}.png'.format(sga_id), dpi=120)\n",
    "    # either load existing image or save fig to scratch\n",
    "    '''\n",
    "    if os.path.exists(img_name):\n",
    "    if verbose:\n",
    "        print('{} exists.'.format(img_name))\n",
    "    else:\n",
    "        plt.savefig(v_dir + '{}.png'.format(sga_id), dpi=120)\n",
    "    '''\n",
    "    #plt.show()"
   ]
  },
  {
   "cell_type": "code",
   "execution_count": null,
   "id": "9ba65b6a-351e-4cde-a160-4db054ecdea7",
   "metadata": {},
   "outputs": [],
   "source": []
  }
 ],
 "metadata": {
  "kernelspec": {
   "display_name": "DESI main",
   "language": "python",
   "name": "desi-main"
  },
  "language_info": {
   "codemirror_mode": {
    "name": "ipython",
    "version": 3
   },
   "file_extension": ".py",
   "mimetype": "text/x-python",
   "name": "python",
   "nbconvert_exporter": "python",
   "pygments_lexer": "ipython3",
   "version": "3.10.14"
  }
 },
 "nbformat": 4,
 "nbformat_minor": 5
}
