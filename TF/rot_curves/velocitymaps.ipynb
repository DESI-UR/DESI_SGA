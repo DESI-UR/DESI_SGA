{
 "cells": [
  {
   "cell_type": "code",
   "execution_count": 56,
   "id": "47b98b9d-f99a-4ea0-8b72-24a2f9a761a4",
   "metadata": {
    "tags": []
   },
   "outputs": [],
   "source": [
    "# all imports\n",
    "import numpy as np\n",
    "import os\n",
    "import requests\n",
    "from astropy.table import Table, vstack\n",
    "import matplotlib.pyplot as plt\n",
    "from astropy.io import fits\n",
    "from astropy.coordinates import SkyCoord\n",
    "from astropy import units as u\n",
    "from astropy.wcs import WCS\n",
    "import math\n",
    "import matplotlib as mpl\n",
    "from astropy.visualization.wcsaxes import SphericalCircle\n",
    "import pandas as pd\n",
    "import random"
   ]
  },
  {
   "cell_type": "code",
   "execution_count": 39,
   "id": "5d013d3f-8567-42ba-900e-e809a9df8c72",
   "metadata": {
    "tags": []
   },
   "outputs": [],
   "source": [
    "# define directories\n",
    "data_dir = '/global/cfs/projectdirs/desi/science/td/pv/tfgalaxies/'\n",
    "cache_dir = '/pscratch/sd/j/jjpim/cache/' # my cache path\n",
    "vi_dir = '/pscratch/sd/j/jjpim/visual_inspection/' # vi image path"
   ]
  },
  {
   "cell_type": "code",
   "execution_count": 40,
   "id": "fbf71644-dd44-4173-bd12-37b31219b704",
   "metadata": {
    "tags": []
   },
   "outputs": [],
   "source": [
    "# load updated fuji table\n",
    "tf_fuji = Table.read(data_dir + 'SV/desi_pv_tf_fuji_healpix_rotcurve_EOA_VI_velocity.fits') \n",
    "# load iron table\n",
    "tf_iron = Table.read(data_dir + 'Y1/desi_pv_tf_iron_healpix_rotcurve_EOA_VI_velocity.fits')\n",
    "#combine\n",
    "tf_mastertable = vstack([tf_fuji,tf_iron])\n",
    "#dictionary\n",
    "tf_mastertable_dict = {}\n",
    "for sga_id in np.unique(tf_mastertable['SGA_ID']):\n",
    "    tf_mastertable_dict[sga_id] = np.where(tf_mastertable['SGA_ID'] == sga_id)[0]"
   ]
  },
  {
   "cell_type": "code",
   "execution_count": 70,
   "id": "34b55a63-a363-49cb-95b2-6b33bdf78975",
   "metadata": {
    "tags": []
   },
   "outputs": [
    {
     "name": "stdout",
     "output_type": "stream",
     "text": [
      "483566\n"
     ]
    }
   ],
   "source": [
    "#print random SGA ID\n",
    "tf_galaxies = np.unique(tf_mastertable['SGA_ID'])\n",
    "random_gal=random.choice(tf_galaxies)\n",
    "print(random_gal)"
   ]
  },
  {
   "cell_type": "code",
   "execution_count": 73,
   "id": "14f68cb0-44f6-43cf-90e6-73b7510688d1",
   "metadata": {
    "tags": []
   },
   "outputs": [
    {
     "name": "stdout",
     "output_type": "stream",
     "text": [
      "547778\n",
      "602757\n",
      "608015\n",
      "631395\n",
      "671847\n",
      "975775\n",
      "1049438\n",
      "1065602\n",
      "1333993\n"
     ]
    }
   ],
   "source": [
    "#find sga id with many targets\n",
    "for sga_id in tf_galaxies:\n",
    "    if len(tf_mastertable[tf_mastertable['SGA_ID']==  sga_id])>20:\n",
    "        print(sga_id)"
   ]
  },
  {
   "cell_type": "code",
   "execution_count": null,
   "id": "ff54999b-0bcb-4dba-b059-dd475c4ee110",
   "metadata": {},
   "outputs": [],
   "source": []
  }
 ],
 "metadata": {
  "kernelspec": {
   "display_name": "DESI main",
   "language": "python",
   "name": "desi-main"
  },
  "language_info": {
   "codemirror_mode": {
    "name": "ipython",
    "version": 3
   },
   "file_extension": ".py",
   "mimetype": "text/x-python",
   "name": "python",
   "nbconvert_exporter": "python",
   "pygments_lexer": "ipython3",
   "version": "3.10.14"
  }
 },
 "nbformat": 4,
 "nbformat_minor": 5
}
