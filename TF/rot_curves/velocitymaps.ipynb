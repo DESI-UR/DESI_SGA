{
 "cells": [
  {
   "cell_type": "code",
   "execution_count": 2,
   "id": "47b98b9d-f99a-4ea0-8b72-24a2f9a761a4",
   "metadata": {
    "tags": []
   },
   "outputs": [],
   "source": [
    "# all imports\n",
    "import numpy as np\n",
    "import os\n",
    "import requests\n",
    "from astropy.table import Table, vstack\n",
    "import matplotlib.pyplot as plt\n",
    "from astropy.io import fits\n",
    "from astropy.coordinates import SkyCoord\n",
    "from astropy import units as u\n",
    "from astropy.wcs import WCS\n",
    "import math\n",
    "import matplotlib as mpl\n",
    "from astropy.visualization.wcsaxes import SphericalCircle\n",
    "import pandas as pd\n",
    "import random\n",
    "from matplotlib.patches import Ellipse\n",
    "import ligo.skymap.plot"
   ]
  },
  {
   "cell_type": "code",
   "execution_count": 3,
   "id": "5d013d3f-8567-42ba-900e-e809a9df8c72",
   "metadata": {
    "tags": []
   },
   "outputs": [],
   "source": [
    "# define directories\n",
    "data_dir = '/global/cfs/projectdirs/desi/science/td/pv/tfgalaxies/'\n",
    "cache_dir = '/pscratch/sd/j/jjpim/cache/' # my cache path\n",
    "vi_dir = '/pscratch/sd/j/jjpim/visual_inspection/' # vi image path\n",
    "v_dir = '/pscratch/sd/j/jjpim/2Dvmap/' # 2D velocity map image path"
   ]
  },
  {
   "cell_type": "code",
   "execution_count": 4,
   "id": "fbf71644-dd44-4173-bd12-37b31219b704",
   "metadata": {
    "tags": []
   },
   "outputs": [
    {
     "data": {
      "text/html": [
       "<div><i>Table length=5</i>\n",
       "<table id=\"table140452431694576\" class=\"table-striped table-bordered table-condensed\">\n",
       "<thead><tr><th>TARGETID</th><th>TARGET_RA</th><th>TARGET_DEC</th><th>HEALPIX</th><th>SURVEY</th><th>Z</th><th>ZERR</th><th>ZWARN</th><th>DELTACHI2</th><th>FILENAME</th><th>PVTYPE</th><th>SGA_ID</th><th>RA</th><th>DEC</th><th>OBS_IN_SV</th><th>SKY_FIBER_DIST</th><th>SKY_FIBER_DIST_R26</th><th>ROT_CURVE</th><th>EOA</th><th>VELOCITY</th><th>VERR</th><th>Z_CENTER</th></tr></thead>\n",
       "<thead><tr><th>int64</th><th>float64</th><th>float64</th><th>int64</th><th>bytes4</th><th>float64</th><th>float64</th><th>int64</th><th>float64</th><th>bytes65</th><th>bytes3</th><th>int64</th><th>float64</th><th>float64</th><th>float64</th><th>float64</th><th>float64</th><th>float64</th><th>float64</th><th>float64</th><th>float64</th><th>float64</th></tr></thead>\n",
       "<tr><td>1079550234591232</td><td>194.390863195343</td><td>27.5157211790145</td><td>10378</td><td>sv3</td><td>1.1235686466514</td><td>7.31685779475115e-05</td><td>4</td><td>3.28414569795132</td><td>fuji/healpix/sv3/bright/103/10378/redrock-sv3-bright-10378.fits</td><td>EXT</td><td>662902</td><td>194.39086319534337</td><td>27.51572117901454</td><td>1.0</td><td>0.03927420444753712</td><td>1.0000000170652443</td><td>0.0</td><td>0.0</td><td>--</td><td>inf</td><td>--</td></tr>\n",
       "<tr><td>1092744374124544</td><td>194.390863195343</td><td>27.5157211790145</td><td>10378</td><td>sv3</td><td>0.686773088332363</td><td>6.9756676262104e-05</td><td>4</td><td>0.786607094109058</td><td>fuji/healpix/sv3/dark/103/10378/redrock-sv3-dark-10378.fits</td><td>EXT</td><td>662902</td><td>194.39086319534337</td><td>27.51572117901454</td><td>1.0</td><td>0.03927420444753712</td><td>1.0000000170652443</td><td>0.0</td><td>0.0</td><td>--</td><td>inf</td><td>--</td></tr>\n",
       "<tr><td>1092744374124546</td><td>194.364461113654</td><td>27.5037185881314</td><td>10378</td><td>sv3</td><td>0.0242933923052181</td><td>4.95233472646785e-05</td><td>0</td><td>95.428411073226</td><td>fuji/healpix/sv3/dark/103/10378/redrock-sv3-dark-10378.fits</td><td>EXT</td><td>662902</td><td>194.36446111365385</td><td>27.50371858813136</td><td>1.0</td><td>0.012960487467698754</td><td>0.3300000056318236</td><td>0.0</td><td>0.0</td><td>--</td><td>inf</td><td>--</td></tr>\n",
       "<tr><td>1092744369930240</td><td>194.338458724402</td><td>27.4918902690326</td><td>10378</td><td>sv3</td><td>0.0264170223697961</td><td>0.00010139452689994</td><td>0</td><td>9.53278421035066</td><td>fuji/healpix/sv3/dark/103/10378/redrock-sv3-dark-10378.fits</td><td>EXT</td><td>662902</td><td>194.33845872440244</td><td>27.491890269032595</td><td>1.0</td><td>0.012960487467685656</td><td>0.33000000563149007</td><td>0.0</td><td>0.0</td><td>--</td><td>inf</td><td>--</td></tr>\n",
       "<tr><td>1092744374124545</td><td>194.377858465028</td><td>27.5098100780282</td><td>10378</td><td>sv3</td><td>0.211332646769145</td><td>6.68535116703737e-05</td><td>4</td><td>3.73989077657461</td><td>fuji/healpix/sv3/dark/103/10378/redrock-sv3-dark-10378.fits</td><td>EXT</td><td>662902</td><td>194.3778584650283</td><td>27.509810078028195</td><td>1.0</td><td>0.026313716979861984</td><td>0.6700000114340222</td><td>0.0</td><td>0.0</td><td>--</td><td>inf</td><td>--</td></tr>\n",
       "</table></div>"
      ],
      "text/plain": [
       "<Table length=5>\n",
       "    TARGETID        TARGET_RA        TARGET_DEC    ... VELOCITY   VERR  Z_CENTER\n",
       "     int64           float64          float64      ... float64  float64 float64 \n",
       "---------------- ---------------- ---------------- ... -------- ------- --------\n",
       "1079550234591232 194.390863195343 27.5157211790145 ...       --     inf       --\n",
       "1092744374124544 194.390863195343 27.5157211790145 ...       --     inf       --\n",
       "1092744374124546 194.364461113654 27.5037185881314 ...       --     inf       --\n",
       "1092744369930240 194.338458724402 27.4918902690326 ...       --     inf       --\n",
       "1092744374124545 194.377858465028 27.5098100780282 ...       --     inf       --"
      ]
     },
     "execution_count": 4,
     "metadata": {},
     "output_type": "execute_result"
    }
   ],
   "source": [
    "# load updated fuji table\n",
    "tf_fuji = Table.read(data_dir + 'SV/desi_pv_tf_fuji_healpix_rotcurve_EOA_VI_velocity.fits') \n",
    "# load iron table\n",
    "tf_iron = Table.read(data_dir + 'Y1/desi_pv_tf_iron_healpix_rotcurve_EOA_VI_velocity.fits')\n",
    "#combine\n",
    "tf_mastertable = vstack([tf_fuji,tf_iron])\n",
    "#unique SGA IDs in rot curve galaxies\n",
    "tf_galaxies = np.unique(tf_mastertable['SGA_ID'][tf_mastertable['ROT_CURVE']==1])\n",
    "tf_mastertable_dict = {}\n",
    "for sga_id in np.unique(tf_mastertable['SGA_ID'][tf_mastertable['ROT_CURVE']==1]):\n",
    "    tf_mastertable_dict[sga_id] = np.where(tf_mastertable['SGA_ID'] == sga_id)[0]\n",
    "tf_mastertable[:5]"
   ]
  },
  {
   "cell_type": "code",
   "execution_count": 5,
   "id": "7efe5d24-32da-421c-9d44-925eb39318e0",
   "metadata": {
    "tags": []
   },
   "outputs": [
    {
     "data": {
      "text/html": [
       "<div><i>Table length=5</i>\n",
       "<table id=\"table140452412249552\" class=\"table-striped table-bordered table-condensed\">\n",
       "<thead><tr><th>SGA_ID</th><th>SGA_GALAXY</th><th>GALAXY</th><th>PGC</th><th>RA_LEDA</th><th>DEC_LEDA</th><th>MORPHTYPE</th><th>PA_LEDA</th><th>D25_LEDA</th><th>BA_LEDA</th><th>Z_LEDA</th><th>SB_D25_LEDA</th><th>MAG_LEDA</th><th>BYHAND</th><th>REF</th><th>GROUP_ID</th><th>GROUP_NAME</th><th>GROUP_MULT</th><th>GROUP_PRIMARY</th><th>GROUP_RA</th><th>GROUP_DEC</th><th>GROUP_DIAMETER</th><th>BRICKNAME</th><th>RA</th><th>DEC</th><th>D26</th><th>D26_REF</th><th>PA</th><th>BA</th><th>RA_MOMENT</th><th>DEC_MOMENT</th><th>SMA_MOMENT</th><th>G_SMA50</th><th>R_SMA50</th><th>Z_SMA50</th><th>SMA_SB22</th><th>SMA_SB22.5</th><th>SMA_SB23</th><th>SMA_SB23.5</th><th>SMA_SB24</th><th>SMA_SB24.5</th><th>SMA_SB25</th><th>SMA_SB25.5</th><th>SMA_SB26</th><th>G_MAG_SB22</th><th>R_MAG_SB22</th><th>Z_MAG_SB22</th><th>G_MAG_SB22.5</th><th>R_MAG_SB22.5</th><th>Z_MAG_SB22.5</th><th>G_MAG_SB23</th><th>R_MAG_SB23</th><th>Z_MAG_SB23</th><th>G_MAG_SB23.5</th><th>R_MAG_SB23.5</th><th>Z_MAG_SB23.5</th><th>G_MAG_SB24</th><th>R_MAG_SB24</th><th>Z_MAG_SB24</th><th>G_MAG_SB24.5</th><th>R_MAG_SB24.5</th><th>Z_MAG_SB24.5</th><th>G_MAG_SB25</th><th>R_MAG_SB25</th><th>Z_MAG_SB25</th><th>G_MAG_SB25.5</th><th>R_MAG_SB25.5</th><th>Z_MAG_SB25.5</th><th>G_MAG_SB26</th><th>R_MAG_SB26</th><th>Z_MAG_SB26</th><th>SMA_SB22_ERR</th><th>SMA_SB22.5_ERR</th><th>SMA_SB23_ERR</th><th>SMA_SB23.5_ERR</th><th>SMA_SB24_ERR</th><th>SMA_SB24.5_ERR</th><th>SMA_SB25_ERR</th><th>SMA_SB25.5_ERR</th><th>SMA_SB26_ERR</th><th>G_MAG_SB22_ERR</th><th>R_MAG_SB22_ERR</th><th>Z_MAG_SB22_ERR</th><th>G_MAG_SB22.5_ERR</th><th>R_MAG_SB22.5_ERR</th><th>Z_MAG_SB22.5_ERR</th><th>G_MAG_SB23_ERR</th><th>R_MAG_SB23_ERR</th><th>Z_MAG_SB23_ERR</th><th>G_MAG_SB23.5_ERR</th><th>R_MAG_SB23.5_ERR</th><th>Z_MAG_SB23.5_ERR</th><th>G_MAG_SB24_ERR</th><th>R_MAG_SB24_ERR</th><th>Z_MAG_SB24_ERR</th><th>G_MAG_SB24.5_ERR</th><th>R_MAG_SB24.5_ERR</th><th>Z_MAG_SB24.5_ERR</th><th>G_MAG_SB25_ERR</th><th>R_MAG_SB25_ERR</th><th>Z_MAG_SB25_ERR</th><th>G_MAG_SB25.5_ERR</th><th>R_MAG_SB25.5_ERR</th><th>Z_MAG_SB25.5_ERR</th><th>G_MAG_SB26_ERR</th><th>R_MAG_SB26_ERR</th><th>Z_MAG_SB26_ERR</th><th>G_COG_PARAMS_MTOT</th><th>G_COG_PARAMS_M0</th><th>G_COG_PARAMS_ALPHA1</th><th>G_COG_PARAMS_ALPHA2</th><th>G_COG_PARAMS_CHI2</th><th>R_COG_PARAMS_MTOT</th><th>R_COG_PARAMS_M0</th><th>R_COG_PARAMS_ALPHA1</th><th>R_COG_PARAMS_ALPHA2</th><th>R_COG_PARAMS_CHI2</th><th>Z_COG_PARAMS_MTOT</th><th>Z_COG_PARAMS_M0</th><th>Z_COG_PARAMS_ALPHA1</th><th>Z_COG_PARAMS_ALPHA2</th><th>Z_COG_PARAMS_CHI2</th><th>ELLIPSEBIT</th></tr></thead>\n",
       "<thead><tr><th>int64</th><th>bytes16</th><th>bytes29</th><th>int64</th><th>float64</th><th>float64</th><th>bytes21</th><th>float32</th><th>float32</th><th>float32</th><th>float32</th><th>float32</th><th>float32</th><th>bool</th><th>bytes13</th><th>int64</th><th>bytes35</th><th>int16</th><th>bool</th><th>float64</th><th>float64</th><th>float32</th><th>bytes8</th><th>float64</th><th>float64</th><th>float32</th><th>bytes4</th><th>float32</th><th>float32</th><th>float64</th><th>float64</th><th>float32</th><th>float32</th><th>float32</th><th>float32</th><th>float32</th><th>float32</th><th>float32</th><th>float32</th><th>float32</th><th>float32</th><th>float32</th><th>float32</th><th>float32</th><th>float32</th><th>float32</th><th>float32</th><th>float32</th><th>float32</th><th>float32</th><th>float32</th><th>float32</th><th>float32</th><th>float32</th><th>float32</th><th>float32</th><th>float32</th><th>float32</th><th>float32</th><th>float32</th><th>float32</th><th>float32</th><th>float32</th><th>float32</th><th>float32</th><th>float32</th><th>float32</th><th>float32</th><th>float32</th><th>float32</th><th>float32</th><th>float32</th><th>float32</th><th>float32</th><th>float32</th><th>float32</th><th>float32</th><th>float32</th><th>float32</th><th>float32</th><th>float32</th><th>float32</th><th>float32</th><th>float32</th><th>float32</th><th>float32</th><th>float32</th><th>float32</th><th>float32</th><th>float32</th><th>float32</th><th>float32</th><th>float32</th><th>float32</th><th>float32</th><th>float32</th><th>float32</th><th>float32</th><th>float32</th><th>float32</th><th>float32</th><th>float32</th><th>float32</th><th>float32</th><th>float32</th><th>float32</th><th>float32</th><th>float32</th><th>float32</th><th>float32</th><th>float32</th><th>float32</th><th>float32</th><th>float32</th><th>float32</th><th>float32</th><th>float32</th><th>float32</th><th>float32</th><th>float32</th><th>float32</th><th>float32</th><th>int32</th></tr></thead>\n",
       "<tr><td>2</td><td>SGA-2020 2</td><td>PGC1283207</td><td>1283207</td><td>228.3770865</td><td>5.4232017</td><td>S?</td><td>152.2</td><td>0.36307806</td><td>0.724436</td><td>0.03463229</td><td>23.40448</td><td>16.976</td><td>False</td><td>LEDA-20181114</td><td>0</td><td>PGC1283207</td><td>1</td><td>True</td><td>228.3770865</td><td>5.4232017</td><td>0.36307806</td><td>2283p055</td><td>228.3770803831908</td><td>5.423191398593787</td><td>0.49470574</td><td>SB26</td><td>158.20142</td><td>0.545691</td><td>228.37700918822188</td><td>5.4232652570544015</td><td>10.897086</td><td>3.3509698</td><td>3.1147978</td><td>3.240862</td><td>5.902337</td><td>6.9126143</td><td>7.941369</td><td>8.997992</td><td>10.073601</td><td>11.199986</td><td>12.391357</td><td>13.561038</td><td>14.841172</td><td>16.966799</td><td>16.108246</td><td>15.486356</td><td>16.879545</td><td>16.024958</td><td>15.400715</td><td>16.818878</td><td>15.967034</td><td>15.341793</td><td>16.776297</td><td>15.925804</td><td>15.300776</td><td>16.746685</td><td>15.897334</td><td>15.272053</td><td>16.725166</td><td>15.876816</td><td>15.2521105</td><td>16.708357</td><td>15.862035</td><td>15.237181</td><td>16.696539</td><td>15.851936</td><td>15.226998</td><td>16.689613</td><td>15.844313</td><td>15.21976</td><td>0.013392451</td><td>0.02354</td><td>0.021872982</td><td>0.01736985</td><td>0.024445537</td><td>0.039866067</td><td>0.05026544</td><td>0.08455789</td><td>0.122911856</td><td>0.005682776</td><td>0.0054258136</td><td>0.0049038026</td><td>0.005588406</td><td>0.005323561</td><td>0.0047632363</td><td>0.00543534</td><td>0.005177031</td><td>0.0046343105</td><td>0.0053025587</td><td>0.005040888</td><td>0.0045181247</td><td>0.005206092</td><td>0.0049438984</td><td>0.0044374703</td><td>0.0051483097</td><td>0.0048758644</td><td>0.0043834248</td><td>0.0051032505</td><td>0.0048264163</td><td>0.004344248</td><td>0.0050705094</td><td>0.004792021</td><td>0.004319857</td><td>0.005054293</td><td>0.004765629</td><td>0.0043044444</td><td>16.65942</td><td>0.34037337</td><td>0.2978292</td><td>3.0239506</td><td>0.07928849</td><td>15.820566</td><td>0.2640441</td><td>0.34559453</td><td>3.3033552</td><td>0.003811298</td><td>15.195567</td><td>0.29826432</td><td>0.3001073</td><td>3.2333765</td><td>0.011723555</td><td>0</td></tr>\n",
       "<tr><td>3</td><td>SGA-2020 3</td><td>PGC1310416</td><td>1310416</td><td>202.54443750000002</td><td>6.9345944</td><td>Sc</td><td>159.26</td><td>0.4017908</td><td>0.7816278</td><td>0.073888786</td><td>23.498482</td><td>16.85</td><td>False</td><td>LEDA-20181114</td><td>1</td><td>PGC1310416</td><td>1</td><td>True</td><td>202.54443750000002</td><td>6.9345944</td><td>0.4017908</td><td>2025p070</td><td>202.5444619671207</td><td>6.9346244322326624</td><td>0.55350494</td><td>SB26</td><td>161.5937</td><td>0.7291764</td><td>202.54432739596137</td><td>6.934806737209989</td><td>15.746941</td><td>5.6416235</td><td>5.2647552</td><td>5.0895185</td><td>5.9838247</td><td>7.4356494</td><td>8.728868</td><td>10.087478</td><td>11.529764</td><td>12.818195</td><td>14.115497</td><td>15.319822</td><td>16.605148</td><td>16.963299</td><td>16.307854</td><td>15.806882</td><td>16.729511</td><td>16.097378</td><td>15.615527</td><td>16.606344</td><td>15.990707</td><td>15.518403</td><td>16.525967</td><td>15.917321</td><td>15.450624</td><td>16.462585</td><td>15.859485</td><td>15.397182</td><td>16.419558</td><td>15.820947</td><td>15.36243</td><td>16.390558</td><td>15.796369</td><td>15.338905</td><td>16.376112</td><td>15.782492</td><td>15.323709</td><td>16.364115</td><td>15.773462</td><td>15.313725</td><td>0.036992554</td><td>0.034982767</td><td>0.037769336</td><td>0.049429573</td><td>0.052699674</td><td>0.074114166</td><td>0.07914538</td><td>0.09781406</td><td>0.15534972</td><td>0.016095797</td><td>0.019181909</td><td>0.021539452</td><td>0.013955905</td><td>0.016594552</td><td>0.018640138</td><td>0.012786752</td><td>0.015244632</td><td>0.01715491</td><td>0.011973826</td><td>0.014366956</td><td>0.016208366</td><td>0.011358372</td><td>0.013676575</td><td>0.015474222</td><td>0.010944939</td><td>0.013225297</td><td>0.015011175</td><td>0.010691595</td><td>0.012931233</td><td>0.014687982</td><td>0.010546411</td><td>0.012796015</td><td>0.014518412</td><td>0.010457551</td><td>0.012685407</td><td>0.014379212</td><td>16.284733</td><td>1.0914493</td><td>0.24674739</td><td>2.4320207</td><td>0.68685365</td><td>15.704403</td><td>0.8764323</td><td>0.27360612</td><td>2.4995425</td><td>0.49343896</td><td>15.235263</td><td>1.3098688</td><td>0.17866786</td><td>2.1750498</td><td>0.20391206</td><td>0</td></tr>\n",
       "<tr><td>4</td><td>SGA-2020 4</td><td>SDSSJ145059.93+135143.0</td><td>4435547</td><td>222.749787</td><td>13.8619111</td><td>S?</td><td>44.57</td><td>0.33342642</td><td>0.6637431</td><td>0.07567602</td><td>24.457481</td><td>18.214</td><td>False</td><td>LEDA-20181114</td><td>2</td><td>SDSSJ145059.93+135143.0</td><td>1</td><td>True</td><td>222.749787</td><td>13.8619111</td><td>0.33342642</td><td>2228p137</td><td>222.7497050504303</td><td>13.861929561160224</td><td>0.37067476</td><td>SB26</td><td>45.28537</td><td>0.70922077</td><td>222.749650475464</td><td>13.862052070022896</td><td>8.877115</td><td>4.652771</td><td>4.4837785</td><td>4.4959745</td><td>2.01033</td><td>3.3967943</td><td>4.76257</td><td>6.043787</td><td>7.242806</td><td>8.250407</td><td>9.158723</td><td>10.083457</td><td>11.120243</td><td>19.97595</td><td>19.190666</td><td>18.649523</td><td>19.098536</td><td>18.397219</td><td>17.899643</td><td>18.624952</td><td>17.967802</td><td>17.50231</td><td>18.35278</td><td>17.718002</td><td>17.265854</td><td>18.192762</td><td>17.5654</td><td>17.115404</td><td>18.10496</td><td>17.480022</td><td>17.033989</td><td>18.053415</td><td>17.430794</td><td>16.982971</td><td>18.020155</td><td>17.399996</td><td>16.948252</td><td>17.994783</td><td>17.377092</td><td>16.924469</td><td>0.02113719</td><td>0.03639431</td><td>0.051901262</td><td>0.06539029</td><td>0.08552586</td><td>0.07008602</td><td>0.070394725</td><td>0.08394975</td><td>0.113649584</td><td>0.013428732</td><td>0.017600043</td><td>0.016373685</td><td>0.012251812</td><td>0.014566466</td><td>0.013732588</td><td>0.012644532</td><td>0.014030071</td><td>0.013153961</td><td>0.012747069</td><td>0.013512552</td><td>0.012818239</td><td>0.012865601</td><td>0.01324455</td><td>0.012532208</td><td>0.012762528</td><td>0.013058522</td><td>0.012420634</td><td>0.01252645</td><td>0.012827468</td><td>0.012283978</td><td>0.012320441</td><td>0.012607317</td><td>0.012104107</td><td>0.0121167945</td><td>0.01244376</td><td>0.011985352</td><td>17.896797</td><td>0.5557265</td><td>0.25455818</td><td>3.167909</td><td>1.0522435</td><td>17.28287</td><td>0.4885815</td><td>0.2782499</td><td>3.2144456</td><td>1.3733263</td><td>16.807674</td><td>0.5177045</td><td>0.32264626</td><td>2.900518</td><td>1.8054093</td><td>0</td></tr>\n",
       "<tr><td>7</td><td>SGA-2020 7</td><td>PGC1742504</td><td>1742504</td><td>182.0888085</td><td>25.6022764</td><td>Sbc</td><td>84.97</td><td>0.548277</td><td>0.25118864</td><td>0.10090814</td><td>24.91348</td><td>17.59</td><td>False</td><td>LEDA-20181114</td><td>3</td><td>PGC1742504</td><td>1</td><td>True</td><td>182.0888085</td><td>25.6022764</td><td>0.548277</td><td>1820p255</td><td>182.08882232629614</td><td>25.60226821438983</td><td>0.8883204</td><td>SB26</td><td>84.857475</td><td>0.19753796</td><td>182.08873760544392</td><td>25.602311195157757</td><td>19.779116</td><td>6.5958204</td><td>6.0386286</td><td>5.8089786</td><td>9.279068</td><td>10.949478</td><td>12.652142</td><td>14.446171</td><td>16.323679</td><td>18.392954</td><td>20.915508</td><td>23.566542</td><td>26.649612</td><td>17.390274</td><td>16.360935</td><td>15.531964</td><td>17.285898</td><td>16.262264</td><td>15.440768</td><td>17.2167</td><td>16.195492</td><td>15.380734</td><td>17.16217</td><td>16.144245</td><td>15.334935</td><td>17.130178</td><td>16.110302</td><td>15.304758</td><td>17.104496</td><td>16.084463</td><td>15.280803</td><td>17.081282</td><td>16.061373</td><td>15.2589855</td><td>17.063671</td><td>16.045204</td><td>15.243196</td><td>17.046705</td><td>16.031244</td><td>15.23268</td><td>0.04351465</td><td>0.055440858</td><td>0.052207235</td><td>0.07507412</td><td>0.0793679</td><td>0.10347854</td><td>0.13569456</td><td>0.13104819</td><td>0.17234002</td><td>0.03885276</td><td>0.03744209</td><td>0.03786608</td><td>0.035534665</td><td>0.03441038</td><td>0.03503794</td><td>0.033557214</td><td>0.032548346</td><td>0.033348277</td><td>0.031964395</td><td>0.03106612</td><td>0.031957533</td><td>0.031133845</td><td>0.030202182</td><td>0.031190341</td><td>0.030430589</td><td>0.029511228</td><td>0.030530946</td><td>0.02975241</td><td>0.028853998</td><td>0.029866546</td><td>0.02928568</td><td>0.0284345</td><td>0.029445464</td><td>0.028843498</td><td>0.028076617</td><td>0.029169334</td><td>16.995174</td><td>21.083004</td><td>0.0164273</td><td>1.9079465</td><td>0.029703742</td><td>15.991165</td><td>0.7657307</td><td>0.52285546</td><td>2.3045986</td><td>0.006013103</td><td>15.191324</td><td>1.0408205</td><td>0.32956335</td><td>2.1520333</td><td>0.004725194</td><td>0</td></tr>\n",
       "<tr><td>18</td><td>SGA-2020 18</td><td>2MASXJ12340801+4535444</td><td>3550748</td><td>188.5335525</td><td>45.5956434</td><td>E</td><td>168.65</td><td>0.53088444</td><td>0.6950243</td><td>0.07609531</td><td>23.97948</td><td>16.726</td><td>False</td><td>LEDA-20181114</td><td>4</td><td>2MASXJ12340801+4535444</td><td>1</td><td>True</td><td>188.5335525</td><td>45.5956434</td><td>0.53088444</td><td>1883p455</td><td>188.53364923054596</td><td>45.595620212931856</td><td>0.73435897</td><td>SB26</td><td>166.25127</td><td>0.70995796</td><td>188.53349052789085</td><td>45.59567446403057</td><td>15.694805</td><td>5.091253</td><td>4.670616</td><td>2.9429996</td><td>5.219665</td><td>6.6119533</td><td>8.228266</td><td>10.109745</td><td>12.170589</td><td>14.364073</td><td>16.722517</td><td>19.18709</td><td>22.03077</td><td>17.208511</td><td>16.224203</td><td>15.566424</td><td>17.050343</td><td>16.080097</td><td>15.443468</td><td>16.921791</td><td>15.962402</td><td>15.347263</td><td>16.814959</td><td>15.864242</td><td>15.27134</td><td>16.729906</td><td>15.787886</td><td>15.218466</td><td>16.664564</td><td>15.730083</td><td>15.182751</td><td>16.61991</td><td>15.686324</td><td>15.1601305</td><td>16.585676</td><td>15.654064</td><td>15.148039</td><td>16.558054</td><td>15.629669</td><td>15.141826</td><td>0.032001704</td><td>0.043849397</td><td>0.045203492</td><td>0.072918765</td><td>0.06263939</td><td>0.07675708</td><td>0.10399303</td><td>0.07780949</td><td>0.14017467</td><td>0.016467415</td><td>0.021250801</td><td>0.032092847</td><td>0.0149329165</td><td>0.019061867</td><td>0.028947951</td><td>0.01369758</td><td>0.01736746</td><td>0.026648495</td><td>0.012623343</td><td>0.015980754</td><td>0.024998168</td><td>0.011793644</td><td>0.014977396</td><td>0.023862366</td><td>0.011184664</td><td>0.014255281</td><td>0.023120966</td><td>0.010785815</td><td>0.013740733</td><td>0.022603082</td><td>0.010472503</td><td>0.013351409</td><td>0.022360764</td><td>0.010212836</td><td>0.013043255</td><td>0.022296576</td><td>16.471447</td><td>0.3236818</td><td>1.9206839</td><td>2.3249283</td><td>0.0973919</td><td>15.540598</td><td>0.3247282</td><td>1.7439244</td><td>2.1774826</td><td>0.023485765</td><td>15.124181</td><td>0.16547345</td><td>1.4694684</td><td>3.3948786</td><td>0.028653827</td><td>0</td></tr>\n",
       "</table></div>"
      ],
      "text/plain": [
       "<Table length=5>\n",
       "SGA_ID  SGA_GALAXY          GALAXY         ... Z_COG_PARAMS_CHI2 ELLIPSEBIT\n",
       "int64    bytes16           bytes29         ...      float32        int32   \n",
       "------ ----------- ----------------------- ... ----------------- ----------\n",
       "     2  SGA-2020 2              PGC1283207 ...       0.011723555          0\n",
       "     3  SGA-2020 3              PGC1310416 ...        0.20391206          0\n",
       "     4  SGA-2020 4 SDSSJ145059.93+135143.0 ...         1.8054093          0\n",
       "     7  SGA-2020 7              PGC1742504 ...       0.004725194          0\n",
       "    18 SGA-2020 18  2MASXJ12340801+4535444 ...       0.028653827          0"
      ]
     },
     "execution_count": 5,
     "metadata": {},
     "output_type": "execute_result"
    }
   ],
   "source": [
    "# load SGA table\n",
    "SGA = Table.read('/global/cfs/cdirs/cosmo/data/sga/2020/SGA-2020.fits', 'ELLIPSE')\n",
    "SGA_dict = {}\n",
    "for i in range(len(SGA)):\n",
    "    SGA_dict[SGA['SGA_ID'][i]] = i\n",
    "SGA[:5]"
   ]
  },
  {
   "cell_type": "code",
   "execution_count": 23,
   "id": "17c19d5c-76de-4621-8f66-a459299d26ec",
   "metadata": {
    "tags": []
   },
   "outputs": [
    {
     "data": {
      "text/html": [
       "<i>Row index=361015</i>\n",
       "<table id=\"table139915385774304\">\n",
       "<thead><tr><th>SGA_ID</th><th>SGA_GALAXY</th><th>GALAXY</th><th>PGC</th><th>RA_LEDA</th><th>DEC_LEDA</th><th>MORPHTYPE</th><th>PA_LEDA</th><th>D25_LEDA</th><th>BA_LEDA</th><th>Z_LEDA</th><th>SB_D25_LEDA</th><th>MAG_LEDA</th><th>BYHAND</th><th>REF</th><th>GROUP_ID</th><th>GROUP_NAME</th><th>GROUP_MULT</th><th>GROUP_PRIMARY</th><th>GROUP_RA</th><th>GROUP_DEC</th><th>GROUP_DIAMETER</th><th>BRICKNAME</th><th>RA</th><th>DEC</th><th>D26</th><th>D26_REF</th><th>PA</th><th>BA</th><th>RA_MOMENT</th><th>DEC_MOMENT</th><th>SMA_MOMENT</th><th>G_SMA50</th><th>R_SMA50</th><th>Z_SMA50</th><th>SMA_SB22</th><th>SMA_SB22.5</th><th>SMA_SB23</th><th>SMA_SB23.5</th><th>SMA_SB24</th><th>SMA_SB24.5</th><th>SMA_SB25</th><th>SMA_SB25.5</th><th>SMA_SB26</th><th>G_MAG_SB22</th><th>R_MAG_SB22</th><th>Z_MAG_SB22</th><th>G_MAG_SB22.5</th><th>R_MAG_SB22.5</th><th>Z_MAG_SB22.5</th><th>G_MAG_SB23</th><th>R_MAG_SB23</th><th>Z_MAG_SB23</th><th>G_MAG_SB23.5</th><th>R_MAG_SB23.5</th><th>Z_MAG_SB23.5</th><th>G_MAG_SB24</th><th>R_MAG_SB24</th><th>Z_MAG_SB24</th><th>G_MAG_SB24.5</th><th>R_MAG_SB24.5</th><th>Z_MAG_SB24.5</th><th>G_MAG_SB25</th><th>R_MAG_SB25</th><th>Z_MAG_SB25</th><th>G_MAG_SB25.5</th><th>R_MAG_SB25.5</th><th>Z_MAG_SB25.5</th><th>G_MAG_SB26</th><th>R_MAG_SB26</th><th>Z_MAG_SB26</th><th>SMA_SB22_ERR</th><th>SMA_SB22.5_ERR</th><th>SMA_SB23_ERR</th><th>SMA_SB23.5_ERR</th><th>SMA_SB24_ERR</th><th>SMA_SB24.5_ERR</th><th>SMA_SB25_ERR</th><th>SMA_SB25.5_ERR</th><th>SMA_SB26_ERR</th><th>G_MAG_SB22_ERR</th><th>R_MAG_SB22_ERR</th><th>Z_MAG_SB22_ERR</th><th>G_MAG_SB22.5_ERR</th><th>R_MAG_SB22.5_ERR</th><th>Z_MAG_SB22.5_ERR</th><th>G_MAG_SB23_ERR</th><th>R_MAG_SB23_ERR</th><th>Z_MAG_SB23_ERR</th><th>G_MAG_SB23.5_ERR</th><th>R_MAG_SB23.5_ERR</th><th>Z_MAG_SB23.5_ERR</th><th>G_MAG_SB24_ERR</th><th>R_MAG_SB24_ERR</th><th>Z_MAG_SB24_ERR</th><th>G_MAG_SB24.5_ERR</th><th>R_MAG_SB24.5_ERR</th><th>Z_MAG_SB24.5_ERR</th><th>G_MAG_SB25_ERR</th><th>R_MAG_SB25_ERR</th><th>Z_MAG_SB25_ERR</th><th>G_MAG_SB25.5_ERR</th><th>R_MAG_SB25.5_ERR</th><th>Z_MAG_SB25.5_ERR</th><th>G_MAG_SB26_ERR</th><th>R_MAG_SB26_ERR</th><th>Z_MAG_SB26_ERR</th><th>G_COG_PARAMS_MTOT</th><th>G_COG_PARAMS_M0</th><th>G_COG_PARAMS_ALPHA1</th><th>G_COG_PARAMS_ALPHA2</th><th>G_COG_PARAMS_CHI2</th><th>R_COG_PARAMS_MTOT</th><th>R_COG_PARAMS_M0</th><th>R_COG_PARAMS_ALPHA1</th><th>R_COG_PARAMS_ALPHA2</th><th>R_COG_PARAMS_CHI2</th><th>Z_COG_PARAMS_MTOT</th><th>Z_COG_PARAMS_M0</th><th>Z_COG_PARAMS_ALPHA1</th><th>Z_COG_PARAMS_ALPHA2</th><th>Z_COG_PARAMS_CHI2</th><th>ELLIPSEBIT</th></tr></thead>\n",
       "<thead><tr><th>int64</th><th>bytes16</th><th>bytes29</th><th>int64</th><th>float64</th><th>float64</th><th>bytes21</th><th>float32</th><th>float32</th><th>float32</th><th>float32</th><th>float32</th><th>float32</th><th>bool</th><th>bytes13</th><th>int64</th><th>bytes35</th><th>int16</th><th>bool</th><th>float64</th><th>float64</th><th>float32</th><th>bytes8</th><th>float64</th><th>float64</th><th>float32</th><th>bytes4</th><th>float32</th><th>float32</th><th>float64</th><th>float64</th><th>float32</th><th>float32</th><th>float32</th><th>float32</th><th>float32</th><th>float32</th><th>float32</th><th>float32</th><th>float32</th><th>float32</th><th>float32</th><th>float32</th><th>float32</th><th>float32</th><th>float32</th><th>float32</th><th>float32</th><th>float32</th><th>float32</th><th>float32</th><th>float32</th><th>float32</th><th>float32</th><th>float32</th><th>float32</th><th>float32</th><th>float32</th><th>float32</th><th>float32</th><th>float32</th><th>float32</th><th>float32</th><th>float32</th><th>float32</th><th>float32</th><th>float32</th><th>float32</th><th>float32</th><th>float32</th><th>float32</th><th>float32</th><th>float32</th><th>float32</th><th>float32</th><th>float32</th><th>float32</th><th>float32</th><th>float32</th><th>float32</th><th>float32</th><th>float32</th><th>float32</th><th>float32</th><th>float32</th><th>float32</th><th>float32</th><th>float32</th><th>float32</th><th>float32</th><th>float32</th><th>float32</th><th>float32</th><th>float32</th><th>float32</th><th>float32</th><th>float32</th><th>float32</th><th>float32</th><th>float32</th><th>float32</th><th>float32</th><th>float32</th><th>float32</th><th>float32</th><th>float32</th><th>float32</th><th>float32</th><th>float32</th><th>float32</th><th>float32</th><th>float32</th><th>float32</th><th>float32</th><th>float32</th><th>float32</th><th>float32</th><th>float32</th><th>float32</th><th>float32</th><th>float32</th><th>float32</th><th>int32</th></tr></thead>\n",
       "<tr><td>1361363</td><td>SGA-2020 1361363</td><td>NGC1055</td><td>10208</td><td>40.4383785</td><td>0.4434215</td><td>SBb</td><td>103.86</td><td>6.9183106</td><td>0.510505</td><td>0.003313292</td><td>24.241482</td><td>11.413</td><td>False</td><td>LEDA-20181114</td><td>42715</td><td>NGC1055_GROUP</td><td>2</td><td>True</td><td>40.43589519537581</td><td>0.44049473699344993</td><td>7.1486073</td><td>0403p005</td><td>40.43830987118589</td><td>0.442017439143068</td><td>12.1215</td><td>SB26</td><td>99.6077</td><td>0.4941314</td><td>40.438457349884956</td><td>0.4419244264738446</td><td>241.92447</td><td>131.05379</td><td>118.62528</td><td>103.69651</td><td>87.716606</td><td>112.821625</td><td>140.56438</td><td>174.96185</td><td>212.30971</td><td>249.47435</td><td>292.3909</td><td>329.82507</td><td>363.645</td><td>11.784812</td><td>10.935244</td><td>10.263386</td><td>11.526161</td><td>10.70718</td><td>10.06317</td><td>11.3469</td><td>10.536031</td><td>9.906813</td><td>11.199166</td><td>10.400616</td><td>9.787445</td><td>11.0931225</td><td>10.299376</td><td>9.694135</td><td>11.008543</td><td>10.217968</td><td>9.621243</td><td>10.93865</td><td>10.15326</td><td>9.567887</td><td>10.904092</td><td>10.1211</td><td>9.538494</td><td>10.87996</td><td>10.097615</td><td>9.516363</td><td>0.24380153</td><td>0.31164825</td><td>0.2615483</td><td>0.36839452</td><td>0.33322743</td><td>0.41993904</td><td>0.31198525</td><td>0.6100892</td><td>0.57713705</td><td>0.0017113079</td><td>0.0019710946</td><td>0.0023350976</td><td>0.0014562863</td><td>0.0016769064</td><td>0.00199945</td><td>0.001288231</td><td>0.0014784539</td><td>0.0017696426</td><td>0.0011590625</td><td>0.0013311099</td><td>0.001604349</td><td>0.0010671706</td><td>0.0012254253</td><td>0.0014830095</td><td>0.0009966226</td><td>0.0011443867</td><td>0.0013926182</td><td>0.0009416153</td><td>0.0010834476</td><td>0.0013293464</td><td>0.00091454067</td><td>0.001053429</td><td>0.0012952683</td><td>0.0008961318</td><td>0.001032019</td><td>0.001270213</td><td>10.650348</td><td>1.4930083</td><td>21.956308</td><td>1.3647391</td><td>152.187</td><td>9.91599</td><td>0.8150585</td><td>85.564064</td><td>1.6301877</td><td>96.176926</td><td>9.374666</td><td>0.6094568</td><td>160.37228</td><td>1.7899163</td><td>39.384125</td><td>0</td></tr>\n",
       "</table>"
      ],
      "text/plain": [
       "<Row index=361015>\n",
       " SGA_ID    SGA_GALAXY     GALAXY  PGC   RA_LEDA    DEC_LEDA MORPHTYPE PA_LEDA  D25_LEDA BA_LEDA     Z_LEDA   SB_D25_LEDA MAG_LEDA BYHAND      REF      GROUP_ID   GROUP_NAME  GROUP_MULT GROUP_PRIMARY      GROUP_RA          GROUP_DEC      GROUP_DIAMETER BRICKNAME         RA               DEC          D26   D26_REF    PA       BA        RA_MOMENT          DEC_MOMENT     SMA_MOMENT  G_SMA50   R_SMA50   Z_SMA50   SMA_SB22 SMA_SB22.5  SMA_SB23 SMA_SB23.5  SMA_SB24 SMA_SB24.5 SMA_SB25 SMA_SB25.5 SMA_SB26 G_MAG_SB22 R_MAG_SB22 Z_MAG_SB22 G_MAG_SB22.5 R_MAG_SB22.5 Z_MAG_SB22.5 G_MAG_SB23 R_MAG_SB23 Z_MAG_SB23 G_MAG_SB23.5 R_MAG_SB23.5 Z_MAG_SB23.5 G_MAG_SB24 R_MAG_SB24 Z_MAG_SB24 G_MAG_SB24.5 R_MAG_SB24.5 Z_MAG_SB24.5 G_MAG_SB25 R_MAG_SB25 Z_MAG_SB25 G_MAG_SB25.5 R_MAG_SB25.5 Z_MAG_SB25.5 G_MAG_SB26 R_MAG_SB26 Z_MAG_SB26 SMA_SB22_ERR SMA_SB22.5_ERR SMA_SB23_ERR SMA_SB23.5_ERR SMA_SB24_ERR SMA_SB24.5_ERR SMA_SB25_ERR SMA_SB25.5_ERR SMA_SB26_ERR G_MAG_SB22_ERR R_MAG_SB22_ERR Z_MAG_SB22_ERR G_MAG_SB22.5_ERR R_MAG_SB22.5_ERR Z_MAG_SB22.5_ERR G_MAG_SB23_ERR R_MAG_SB23_ERR Z_MAG_SB23_ERR G_MAG_SB23.5_ERR R_MAG_SB23.5_ERR Z_MAG_SB23.5_ERR G_MAG_SB24_ERR R_MAG_SB24_ERR Z_MAG_SB24_ERR G_MAG_SB24.5_ERR R_MAG_SB24.5_ERR Z_MAG_SB24.5_ERR G_MAG_SB25_ERR R_MAG_SB25_ERR Z_MAG_SB25_ERR G_MAG_SB25.5_ERR R_MAG_SB25.5_ERR Z_MAG_SB25.5_ERR G_MAG_SB26_ERR R_MAG_SB26_ERR Z_MAG_SB26_ERR G_COG_PARAMS_MTOT G_COG_PARAMS_M0 G_COG_PARAMS_ALPHA1 G_COG_PARAMS_ALPHA2 G_COG_PARAMS_CHI2 R_COG_PARAMS_MTOT R_COG_PARAMS_M0 R_COG_PARAMS_ALPHA1 R_COG_PARAMS_ALPHA2 R_COG_PARAMS_CHI2 Z_COG_PARAMS_MTOT Z_COG_PARAMS_M0 Z_COG_PARAMS_ALPHA1 Z_COG_PARAMS_ALPHA2 Z_COG_PARAMS_CHI2 ELLIPSEBIT\n",
       " int64      bytes16      bytes29 int64  float64    float64   bytes21  float32  float32  float32    float32     float32   float32   bool     bytes13     int64      bytes35      int16         bool          float64            float64          float32       bytes8       float64           float64      float32  bytes4 float32  float32       float64            float64        float32    float32   float32   float32   float32   float32    float32   float32    float32   float32   float32   float32   float32   float32    float32    float32     float32      float32      float32     float32    float32    float32     float32      float32      float32     float32    float32    float32     float32      float32      float32     float32    float32    float32     float32      float32      float32     float32    float32    float32     float32       float32       float32       float32       float32       float32       float32       float32       float32       float32        float32        float32         float32          float32          float32         float32        float32        float32         float32          float32          float32         float32        float32        float32         float32          float32          float32         float32        float32        float32         float32          float32          float32         float32        float32        float32          float32          float32           float32             float32            float32           float32          float32           float32             float32            float32           float32          float32           float32             float32            float32        int32   \n",
       "------- ---------------- ------- ----- ---------- --------- --------- ------- --------- -------- ----------- ----------- -------- ------ ------------- -------- ------------- ---------- ------------- ----------------- ------------------- -------------- --------- ----------------- ----------------- ------- ------- ------- --------- ------------------ ------------------ ---------- --------- --------- --------- --------- ---------- --------- ---------- --------- ---------- -------- ---------- -------- ---------- ---------- ---------- ------------ ------------ ------------ ---------- ---------- ---------- ------------ ------------ ------------ ---------- ---------- ---------- ------------ ------------ ------------ ---------- ---------- ---------- ------------ ------------ ------------ ---------- ---------- ---------- ------------ -------------- ------------ -------------- ------------ -------------- ------------ -------------- ------------ -------------- -------------- -------------- ---------------- ---------------- ---------------- -------------- -------------- -------------- ---------------- ---------------- ---------------- -------------- -------------- -------------- ---------------- ---------------- ---------------- -------------- -------------- -------------- ---------------- ---------------- ---------------- -------------- -------------- -------------- ----------------- --------------- ------------------- ------------------- ----------------- ----------------- --------------- ------------------- ------------------- ----------------- ----------------- --------------- ------------------- ------------------- ----------------- ----------\n",
       "1361363 SGA-2020 1361363 NGC1055 10208 40.4383785 0.4434215       SBb  103.86 6.9183106 0.510505 0.003313292   24.241482   11.413  False LEDA-20181114    42715 NGC1055_GROUP          2          True 40.43589519537581 0.44049473699344993      7.1486073  0403p005 40.43830987118589 0.442017439143068 12.1215    SB26 99.6077 0.4941314 40.438457349884956 0.4419244264738446  241.92447 131.05379 118.62528 103.69651 87.716606 112.821625 140.56438  174.96185 212.30971  249.47435 292.3909  329.82507  363.645  11.784812  10.935244  10.263386    11.526161     10.70718     10.06317    11.3469  10.536031   9.906813    11.199166    10.400616     9.787445 11.0931225  10.299376   9.694135    11.008543    10.217968     9.621243   10.93865   10.15326   9.567887    10.904092      10.1211     9.538494   10.87996  10.097615   9.516363   0.24380153     0.31164825    0.2615483     0.36839452   0.33322743     0.41993904   0.31198525      0.6100892   0.57713705   0.0017113079   0.0019710946   0.0023350976     0.0014562863     0.0016769064       0.00199945    0.001288231   0.0014784539   0.0017696426     0.0011590625     0.0013311099      0.001604349   0.0010671706   0.0012254253   0.0014830095     0.0009966226     0.0011443867     0.0013926182   0.0009416153   0.0010834476   0.0013293464    0.00091454067      0.001053429     0.0012952683   0.0008961318    0.001032019    0.001270213         10.650348       1.4930083           21.956308           1.3647391           152.187           9.91599       0.8150585           85.564064           1.6301877         96.176926          9.374666       0.6094568           160.37228           1.7899163         39.384125          0"
      ]
     },
     "execution_count": 23,
     "metadata": {},
     "output_type": "execute_result"
    }
   ],
   "source": [
    "SGA[SGA_dict[1361363]]"
   ]
  },
  {
   "cell_type": "code",
   "execution_count": null,
   "id": "14f68cb0-44f6-43cf-90e6-73b7510688d1",
   "metadata": {
    "tags": []
   },
   "outputs": [],
   "source": [
    "#find sga id with certain amount of targets\n",
    "for sga_id in tf_galaxies:\n",
    "    if len(tf_mastertable[tf_mastertable['SGA_ID']==  sga_id])>10 and len(tf_mastertable[tf_mastertable['SGA_ID']==  sga_id])<12:\n",
    "        print(sga_id)"
   ]
  },
  {
   "cell_type": "code",
   "execution_count": 6,
   "id": "01e41cd6-57de-4e98-a3e8-d84aa15071bc",
   "metadata": {
    "tags": []
   },
   "outputs": [
    {
     "data": {
      "text/html": [
       "<div><i>Table length=10</i>\n",
       "<table id=\"table140452412156048\" class=\"table-striped table-bordered table-condensed\">\n",
       "<thead><tr><th>TARGETID</th><th>TARGET_RA</th><th>TARGET_DEC</th><th>HEALPIX</th><th>SURVEY</th><th>Z</th><th>ZERR</th><th>ZWARN</th><th>DELTACHI2</th><th>FILENAME</th><th>PVTYPE</th><th>SGA_ID</th><th>RA</th><th>DEC</th><th>OBS_IN_SV</th><th>SKY_FIBER_DIST</th><th>SKY_FIBER_DIST_R26</th><th>ROT_CURVE</th><th>EOA</th><th>VELOCITY</th><th>VERR</th><th>Z_CENTER</th></tr></thead>\n",
       "<thead><tr><th>int64</th><th>float64</th><th>float64</th><th>int64</th><th>bytes4</th><th>float64</th><th>float64</th><th>int64</th><th>float64</th><th>bytes65</th><th>bytes3</th><th>int64</th><th>float64</th><th>float64</th><th>float64</th><th>float64</th><th>float64</th><th>float64</th><th>float64</th><th>float64</th><th>float64</th><th>float64</th></tr></thead>\n",
       "<tr><td>1071077795037187</td><td>236.813448650733</td><td>43.9957553864163</td><td>9923</td><td>sv3</td><td>0.0352887795291414</td><td>7.31620291911626e-06</td><td>0</td><td>550.152345106006</td><td>fuji/healpix/sv3/bright/99/9923/redrock-sv3-bright-9923.fits</td><td>TFT</td><td>1583</td><td>236.8134486507333</td><td>43.99575538641631</td><td>1.0</td><td>0.0012179991251851686</td><td>0.3300000066379492</td><td>1.0</td><td>0.0</td><td>-54.429628559346824</td><td>2.5613154243510903</td><td>0.0354703372271651</td></tr>\n",
       "<tr><td>1084271934570499</td><td>236.813448650733</td><td>43.9957553864163</td><td>9923</td><td>sv3</td><td>0.0353008322684175</td><td>9.4825361822116e-06</td><td>0</td><td>335.291149647906</td><td>fuji/healpix/sv3/dark/99/9923/redrock-sv3-dark-9923.fits</td><td>TFT</td><td>1583</td><td>236.8134486507333</td><td>43.99575538641631</td><td>1.0</td><td>0.0012179991251851686</td><td>0.3300000066379492</td><td>1.0</td><td>0.0</td><td>-50.81630822613043</td><td>3.1354515858625356</td><td>0.0354703372271651</td></tr>\n",
       "<tr><td>1071077795037188</td><td>236.815120686376</td><td>43.9961131019287</td><td>9923</td><td>sv3</td><td>1.51232579748677</td><td>0.000144175642625962</td><td>4</td><td>0.879315532743931</td><td>fuji/healpix/sv3/bright/99/9923/redrock-sv3-bright-9923.fits</td><td>TFT</td><td>1583</td><td>236.81512068637608</td><td>43.99611310192875</td><td>1.0</td><td>0.0024729073147839588</td><td>0.6700000134808607</td><td>1.0</td><td>0.0</td><td>442750.1285419483</td><td>43.243004715416255</td><td>0.0354703372271651</td></tr>\n",
       "<tr><td>1071077795037186</td><td>236.810202992035</td><td>43.9950609278788</td><td>9923</td><td>sv3</td><td>0.0356212945166845</td><td>2.64003527378348e-05</td><td>0</td><td>36.7676933435723</td><td>fuji/healpix/sv3/bright/99/9923/redrock-sv3-bright-9923.fits</td><td>TFT</td><td>1583</td><td>236.81020299203462</td><td>43.99506092787884</td><td>1.0</td><td>0.0012179991251745326</td><td>0.33000000663506757</td><td>1.0</td><td>0.0</td><td>45.25585687803907</td><td>8.024394083816402</td><td>0.0354703372271651</td></tr>\n",
       "<tr><td>39633149604397504</td><td>236.811825811888</td><td>43.9954081686317</td><td>9923</td><td>sv3</td><td>0.0354706088249934</td><td>6.27417750722545e-06</td><td>0</td><td>869.667408287525</td><td>fuji/healpix/sv3/bright/99/9923/redrock-sv3-bright-9923.fits</td><td>TFT</td><td>1583</td><td>236.81182581188813</td><td>43.995408168631656</td><td>1.0</td><td>2.0446449006493366e-14</td><td>5.539682392497224e-12</td><td>1.0</td><td>0.0</td><td>0.08142298053466618</td><td>2.299470069564625</td><td>0.0354703372271651</td></tr>\n",
       "<tr><td>1071077795037189</td><td>236.816743563778</td><td>43.9964602730794</td><td>9923</td><td>sv3</td><td>0.637227019154047</td><td>7.5017431284708e-05</td><td>4</td><td>3.39603114128113</td><td>fuji/healpix/sv3/bright/99/9923/redrock-sv3-bright-9923.fits</td><td>TFT</td><td>1583</td><td>236.8167435637778</td><td>43.996460273079435</td><td>1.0</td><td>0.0036909064400197245</td><td>1.0000000201325185</td><td>1.0</td><td>0.0</td><td>180402.1147927841</td><td>22.52852409238908</td><td>0.0354703372271651</td></tr>\n",
       "<tr><td>1071077795037186</td><td>236.810202992035</td><td>43.9950609278788</td><td>9923</td><td>sv3</td><td>0.035624773583201</td><td>2.34046373515135e-05</td><td>0</td><td>42.721979781054</td><td>iron/healpix/sv3/bright/99/9923/redrock-sv3-bright-9923.fits</td><td>TFT</td><td>1583</td><td>236.80985875996186</td><td>43.99498726779676</td><td>1.0</td><td>0.0014763625759723403</td><td>0.40000000804337577</td><td>1.0</td><td>0.0</td><td>46.298854780566494</td><td>7.140121258098336</td><td>0.0354703372271651</td></tr>\n",
       "<tr><td>39633149604397504</td><td>236.811825811888</td><td>43.9954081686317</td><td>9923</td><td>sv3</td><td>0.0354700656293368</td><td>6.20573323325631e-06</td><td>0</td><td>888.425094611943</td><td>iron/healpix/sv3/bright/99/9923/redrock-sv3-bright-9923.fits</td><td>TFT</td><td>1583</td><td>236.81182581188813</td><td>43.995408168631656</td><td>1.0</td><td>2.0446449006493366e-14</td><td>5.539682392497224e-12</td><td>1.0</td><td>0.0</td><td>-0.08142298053258595</td><td>2.2827161172791213</td><td>0.0354703372271651</td></tr>\n",
       "<tr><td>1071077795037187</td><td>236.813448650733</td><td>43.9957553864163</td><td>9923</td><td>sv3</td><td>0.0352891736835534</td><td>7.28227101610471e-06</td><td>0</td><td>503.728564623743</td><td>iron/healpix/sv3/bright/99/9923/redrock-sv3-bright-9923.fits</td><td>TFT</td><td>1583</td><td>236.81379289171772</td><td>43.99582903572088</td><td>1.0</td><td>0.0014763625760060033</td><td>0.4000000080524963</td><td>1.0</td><td>0.0</td><td>-54.31146403934036</td><td>2.552609744082793</td><td>0.0354703372271651</td></tr>\n",
       "<tr><td>1084271934570499</td><td>236.813448650733</td><td>43.9957553864163</td><td>9923</td><td>sv3</td><td>0.0352996893355279</td><td>9.39001749992196e-06</td><td>0</td><td>347.287186367437</td><td>iron/healpix/sv3/dark/99/9923/redrock-sv3-dark-9923.fits</td><td>TFT</td><td>1583</td><td>236.81379289171772</td><td>43.99582903572088</td><td>1.0</td><td>0.0014763625760060033</td><td>0.4000000080524963</td><td>1.0</td><td>0.0</td><td>-51.158950886433104</td><td>3.1103260695933685</td><td>0.0354703372271651</td></tr>\n",
       "</table></div>"
      ],
      "text/plain": [
       "<Table length=10>\n",
       "     TARGETID        TARGET_RA     ...        VERR             Z_CENTER     \n",
       "      int64           float64      ...      float64            float64      \n",
       "----------------- ---------------- ... ------------------ ------------------\n",
       " 1071077795037187 236.813448650733 ... 2.5613154243510903 0.0354703372271651\n",
       " 1084271934570499 236.813448650733 ... 3.1354515858625356 0.0354703372271651\n",
       " 1071077795037188 236.815120686376 ... 43.243004715416255 0.0354703372271651\n",
       " 1071077795037186 236.810202992035 ...  8.024394083816402 0.0354703372271651\n",
       "39633149604397504 236.811825811888 ...  2.299470069564625 0.0354703372271651\n",
       " 1071077795037189 236.816743563778 ...  22.52852409238908 0.0354703372271651\n",
       " 1071077795037186 236.810202992035 ...  7.140121258098336 0.0354703372271651\n",
       "39633149604397504 236.811825811888 ... 2.2827161172791213 0.0354703372271651\n",
       " 1071077795037187 236.813448650733 ...  2.552609744082793 0.0354703372271651\n",
       " 1084271934570499 236.813448650733 ... 3.1103260695933685 0.0354703372271651"
      ]
     },
     "execution_count": 6,
     "metadata": {},
     "output_type": "execute_result"
    }
   ],
   "source": [
    "tf_mastertable[tf_mastertable['SGA_ID']==  1583]"
   ]
  },
  {
   "cell_type": "code",
   "execution_count": null,
   "id": "f35bf640-0f94-4644-9589-a1969ba42fe3",
   "metadata": {
    "tags": []
   },
   "outputs": [],
   "source": [
    "'''\n",
    "#attempt to automate VI process\n",
    "sga_id = 9769\n",
    "targetid = 1071077795037187\n",
    "galaxy = tf_mastertable[tf_mastertable['SGA_ID'] == sga_id]\n",
    "galaxy_targets = galaxy[['TARGETID']!= targetid]\n",
    "target = tf_mastertable[tf_mastertable['TARGETID'] == targetid]\n",
    "tr = target['SKY_FIBER_DIST_R26']\n",
    "r = galaxy_targets['SKY_FIBER_DIST_R26']\n",
    "#gives error because two diff size arrays:\n",
    "delta_r = np.subtract(tr-r)\n",
    "\n",
    "good_targs = []\n",
    "\n",
    "for targetid in galaxy:\n",
    "    if delta_r >= 0.13:\n",
    "        good_targs.append()\n",
    "\n",
    "#add to end of loop? or flag and put at start of loop so it's faster because won't need to plot all bad ones too?\n",
    "if len(good_targs) >= 3:\n",
    "img_name = v_dir + '{}.jpg'.format(sga_id)\n",
    "plt.savefig(v_dir + '{}.png'.format(sga_id), dpi=120)\n",
    "'''"
   ]
  },
  {
   "cell_type": "code",
   "execution_count": 6,
   "id": "dcaf258b-6fb1-495d-81ff-3540743cae44",
   "metadata": {
    "tags": []
   },
   "outputs": [
    {
     "data": {
      "image/png": "[encoded data removed]",
      "text/plain": [
       "<Figure size 640x480 with 2 Axes>"
      ]
     },
     "metadata": {},
     "output_type": "display_data"
    }
   ],
   "source": [
    "#code to plot for one galaxy at a time\n",
    "plt.close('all')\n",
    "sga_id = 9769\n",
    "galaxy = tf_mastertable[tf_mastertable['SGA_ID'] == sga_id]\n",
    "c = galaxy['VELOCITY']\n",
    "\n",
    "# find max of absolute value of the leftover velocities\n",
    "velocity_abs = np.abs(c)\n",
    "v_max = np.max(velocity_abs)\n",
    "\n",
    "# separate the data into velocity types\n",
    "high_velocity = galaxy[np.abs(c) > 1000]\n",
    "low_velocity = galaxy[np.abs(c) <= 1000]\n",
    "\n",
    "if len(low_velocity) > 0:\n",
    "    first_low_velocity = low_velocity['VELOCITY'][0]\n",
    "    vmin = -np.abs(first_low_velocity)\n",
    "    vmax = np.abs(first_low_velocity)    \n",
    "else:\n",
    "    # if there are no low velocity data points set range as -1000 to 1000\n",
    "    vmin = -1000 if v_max > 1000 else -v_max\n",
    "    vmax = 1000 if v_max > 1000 else v_max\n",
    "    \n",
    "    \n",
    "#ellipse center and position angle (degrees)\n",
    "x_center = SGA['RA'][SGA_dict[sga_id]]\n",
    "y_center = SGA['DEC'][SGA_dict[sga_id]]\n",
    "theta = SGA['PA'][SGA_dict[sga_id]]\n",
    "\n",
    "#put major and minor axis into degrees\n",
    "maj = SGA['D26'][SGA_dict[sga_id]]\n",
    "major = maj/60\n",
    "ratio = SGA['BA'][SGA_dict[sga_id]]\n",
    "min_axis = maj*ratio\n",
    "minor = major*ratio\n",
    "\n",
    "#set up to plot w/transform\n",
    "ellipse_center = SkyCoord(ra = x_center * u.degree, dec = y_center * u.degree)\n",
    "major_radius = np.arctan(major*0.01) * u.radian\n",
    "\n",
    "fig = plt.figure(tight_layout=True)\n",
    "\n",
    "ax_sky = plt.subplot(111, projection='astro degrees zoom', center=ellipse_center, radius=major_radius)\n",
    "ax_sky.grid()\n",
    "\n",
    "abc = ax_sky.scatter(high_velocity['RA'], \n",
    "               high_velocity['DEC'], \n",
    "               c=high_velocity['VELOCITY'], \n",
    "               marker='X', \n",
    "               cmap='bwr', \n",
    "               linewidths=0.1, \n",
    "               edgecolors='black', \n",
    "               vmin = vmin, \n",
    "               vmax = vmax,\n",
    "               transform=ax_sky.get_transform('world'))\n",
    "    \n",
    "bcd = ax_sky.scatter(low_velocity['RA'], \n",
    "               low_velocity['DEC'], \n",
    "               c=low_velocity['VELOCITY'], \n",
    "               marker='o', \n",
    "               cmap='bwr', \n",
    "               linewidths=0.5, \n",
    "               edgecolors='black', \n",
    "               vmin=vmin, \n",
    "               vmax = vmax,\n",
    "               transform=ax_sky.get_transform('world'))\n",
    "\n",
    "# plot w/ color bar\n",
    "fig.colorbar(bcd, label='Velocity [km/s]', ax=ax_sky)\n",
    "ax_sky.set_xlabel('RA')\n",
    "ax_sky.set_ylabel('DEC')\n",
    "ax_sky.set_title('SGA ID {} Velocity Map'.format(galaxy['SGA_ID'][0]))\n",
    "\n",
    "vertex1 = ellipse_center.directional_offset_by(theta*u.deg, 0.5*maj*u.arcmin)\n",
    "ax_sky.plot(vertex1.ra, vertex1.dec, 'kX',  transform=ax_sky.get_transform('world'))\n",
    "# ax_sky.plot(ellipse_center.ra, ellipse_center.dec, 'gX',  transform=ax_sky.get_transform('world'))\n",
    "# ax_sky.plot(x_center, y_center, 'mX',  transform=ax_sky.get_transform('world'))\n",
    "\n",
    "phi = np.arctan((vertex1.ra - ellipse_center.ra)/(vertex1.dec - ellipse_center.dec)).to('deg')\n",
    "# phi = np.arctan2((vertex1.dec - ellipse_center.dec),(vertex1.ra - ellipse_center.ra)).to('deg')\n",
    "\n",
    "# plotting ellipse\n",
    "ell = Ellipse(\n",
    "    xy = (x_center, y_center),\n",
    "    width = minor,\n",
    "    height = major,\n",
    "    angle = (phi.value),\n",
    "    edgecolor = 'black',\n",
    "    facecolor = 'none',\n",
    "    transform=ax_sky.get_transform('world')\n",
    "    )\n",
    "ax_sky.add_artist(ell)\n",
    "\n",
    "img_name = v_dir + '{}.jpg'.format(sga_id)\n",
    "plt.savefig(v_dir + '{}.png'.format(sga_id), dpi=120)\n",
    "\n",
    "plt.show()"
   ]
  },
  {
   "cell_type": "code",
   "execution_count": null,
   "id": "132cf725-a88a-4c50-883a-c506083474f0",
   "metadata": {
    "tags": []
   },
   "outputs": [],
   "source": [
    "#code with loop to run through all galaxies in list, saves image\n",
    "for sga_id in tf_galaxies:\n",
    "    galaxy = tf_mastertable[tf_mastertable['SGA_ID'] == sga_id]\n",
    "    c = galaxy['VELOCITY']\n",
    "\n",
    "    # find max of absolute value of the leftover velocities\n",
    "    velocity_abs = np.abs(c)\n",
    "    v_max = np.max(velocity_abs)\n",
    "\n",
    "    # separate the data into velocity types\n",
    "    high_velocity = galaxy[np.abs(c) > 1000]\n",
    "    low_velocity = galaxy[np.abs(c) <= 1000]\n",
    "\n",
    "    if len(low_velocity) > 0:\n",
    "        first_low_velocity = low_velocity['VELOCITY'][0]\n",
    "        vmin = -np.abs(first_low_velocity)\n",
    "        vmax = np.abs(first_low_velocity)    \n",
    "    else:\n",
    "        # if there are no low velocity data points set range as -1000 to 1000\n",
    "        vmin = -1000 if v_max > 1000 else -v_max\n",
    "        vmax = 1000 if v_max > 1000 else v_max\n",
    "    \n",
    "    \n",
    "    #ellipse center and position angle (degrees)\n",
    "    x_center = SGA['RA'][SGA_dict[sga_id]]\n",
    "    y_center = SGA['DEC'][SGA_dict[sga_id]]\n",
    "    theta = SGA['PA'][SGA_dict[sga_id]]\n",
    "\n",
    "    #put major and minor axis into degrees\n",
    "    maj = SGA['D26'][SGA_dict[sga_id]]\n",
    "    major = maj/60\n",
    "    ratio = SGA['BA'][SGA_dict[sga_id]]\n",
    "    min_axis = maj*ratio\n",
    "    minor = major*ratio\n",
    "\n",
    "    #set up to plot w/transform\n",
    "    ellipse_center = SkyCoord(ra = x_center * u.degree, dec = y_center * u.degree)\n",
    "    major_radius = np.arctan(major*0.01) * u.radian\n",
    "\n",
    "    fig = plt.figure(tight_layout=True)\n",
    "\n",
    "    ax_sky = plt.subplot(111, projection='astro degrees zoom', center=ellipse_center, radius=major_radius)\n",
    "\n",
    "    abc = ax_sky.scatter(high_velocity['RA'], \n",
    "               high_velocity['DEC'], \n",
    "               c=high_velocity['VELOCITY'], \n",
    "               marker='X', \n",
    "               cmap='bwr', \n",
    "               linewidths=0.1, \n",
    "               edgecolors='black', \n",
    "               vmin = vmin, \n",
    "               vmax = vmax,\n",
    "               transform=ax_sky.get_transform('world'))\n",
    "    \n",
    "    bcd = ax_sky.scatter(low_velocity['RA'], \n",
    "               low_velocity['DEC'], \n",
    "               c=low_velocity['VELOCITY'], \n",
    "               marker='o', \n",
    "               cmap='bwr', \n",
    "               linewidths=0.5, \n",
    "               edgecolors='black', \n",
    "               vmin=vmin, \n",
    "               vmax = vmax,\n",
    "               transform=ax_sky.get_transform('world'))\n",
    "\n",
    "    # plot w/ color bar\n",
    "    fig.colorbar(bcd, label='Velocity [km/s]', ax=ax_sky)\n",
    "    ax_sky.set_xlabel('RA')\n",
    "    ax_sky.set_ylabel('DEC')\n",
    "    ax_sky.set_title('SGA ID {} Velocity Map'.format(galaxy['SGA_ID'][0]))\n",
    "\n",
    "    vertex1 = ellipse_center.directional_offset_by(theta*u.deg, 0.5*maj*u.arcmin)\n",
    "\n",
    "    phi = np.arctan((vertex1.ra - ellipse_center.ra)/(vertex1.dec - ellipse_center.dec)).to('deg')\n",
    "\n",
    "    # plotting ellipse\n",
    "    ell = Ellipse(\n",
    "        xy = (x_center, y_center),\n",
    "        width = minor,\n",
    "        height = major,\n",
    "        angle = (180 - phi.value),\n",
    "        edgecolor = 'black',\n",
    "        facecolor = 'none',\n",
    "        transform=ax_sky.get_transform('world')\n",
    "        )\n",
    "    ax_sky.add_artist(ell)\n",
    "    img_name = v_dir + '{}.jpg'.format(sga_id)\n",
    "    plt.savefig(v_dir + '{}.png'.format(sga_id), dpi=120)\n",
    "    '''if os.path.exists(img_name):\n",
    "        if verbose:\n",
    "            print('{} exists.'.format(img_name))\n",
    "    else:\n",
    "        plt.savefig(v_dir + '{}.png'.format(sga_id), dpi=120)\n",
    "    '''\n",
    "    plt.show()"
   ]
  },
  {
   "cell_type": "code",
   "execution_count": 7,
   "id": "e4e2ec25-480d-41a5-ba97-cb3aadc74b83",
   "metadata": {
    "tags": []
   },
   "outputs": [
    {
     "name": "stdout",
     "output_type": "stream",
     "text": [
      "268.32660048395553\n",
      "-88.3266004839555\n",
      "<SkyCoord (ICRS): (ra, dec) in deg\n",
      "    (235.85950445, 42.40909684)>\n",
      "92.2643\n",
      "87.73570251464844\n"
     ]
    }
   ],
   "source": [
    "#check values\n",
    "print(180-phi.value)\n",
    "print(phi.value)\n",
    "print(vertex1)\n",
    "print(theta)\n",
    "print(180 - theta)"
   ]
  },
  {
   "cell_type": "code",
   "execution_count": 10,
   "id": "9ba65b6a-351e-4cde-a160-4db054ecdea7",
   "metadata": {},
   "outputs": [
    {
     "name": "stdout",
     "output_type": "stream",
     "text": [
      "[(235.85828195374785, 42.40933439559529), (235.85137310561834, 42.4091325560946)]\n",
      "        RA                DEC        \n",
      "------------------ ------------------\n",
      "235.85015058419148  42.40936992051869\n",
      "235.85015058419148  42.40936992051869\n",
      "235.85950445481367 42.409096841066976\n",
      "235.85950445481367 42.409096841066976\n",
      "-88.3266004839555\n"
     ]
    }
   ],
   "source": [
    "print(ell.get_vertices())\n",
    "print(high_velocity[['RA','DEC']])\n",
    "print(ell.get_angle())"
   ]
  },
  {
   "cell_type": "code",
   "execution_count": 22,
   "id": "ea4e5fcd-4aa0-4baf-9e9d-5c62173bfe72",
   "metadata": {
    "tags": []
   },
   "outputs": [
    {
     "name": "stdout",
     "output_type": "stream",
     "text": [
      "<SkyCoord (ICRS): (ra, dec) in deg\n",
      "    (215.88533457, 52.92176436)> <SkyCoord (ICRS): (ra, dec) in deg\n",
      "    (215.87555098, 52.92488161)>\n"
     ]
    }
   ],
   "source": [
    "vertex1 = ellipse_center.directional_offset_by(theta*u.deg, 0.5*maj*u.arcmin)\n",
    "vertex2 = ellipse_center.directional_offset_by(theta*u.deg + 180*u.deg, 0.5*maj*u.arcmin)\n",
    "print(vertex1, vertex2)"
   ]
  },
  {
   "cell_type": "code",
   "execution_count": 23,
   "id": "6dfec1b3-d202-4018-bef6-7454e8f36dec",
   "metadata": {
    "tags": []
   },
   "outputs": [
    {
     "data": {
      "text/plain": [
       "[(215.8853345746458, 52.92176435734562),\n",
       " (215.87555098410664, 52.92488160518876)]"
      ]
     },
     "execution_count": 23,
     "metadata": {},
     "output_type": "execute_result"
    }
   ],
   "source": [
    "[(vertex1.ra.value, vertex1.dec.value), (vertex2.ra.value, vertex2.dec.value)]"
   ]
  },
  {
   "cell_type": "code",
   "execution_count": 25,
   "id": "ff4f8788-1ffe-4202-826b-b297471ec40f",
   "metadata": {
    "tags": []
   },
   "outputs": [
    {
     "data": {
      "text/plain": [
       "-72.32541484092191"
      ]
     },
     "execution_count": 25,
     "metadata": {},
     "output_type": "execute_result"
    }
   ],
   "source": [
    "phi = np.arctan((vertex1.ra - ellipse_center.ra)/(vertex1.dec - ellipse_center.dec)).to('deg')\n",
    "phi.value"
   ]
  },
  {
   "cell_type": "code",
   "execution_count": null,
   "id": "91ef54d6-ccea-4ca0-ad51-7d541691fadb",
   "metadata": {
    "tags": []
   },
   "outputs": [],
   "source": [
    "#attempt to fix bad ellipse plots\n",
    "'''\n",
    "for sga_id in tf_galaxies:\n",
    "    galaxy = tf_mastertable[tf_mastertable['SGA_ID'] == sga_id]\n",
    "    c = galaxy['VELOCITY']\n",
    "\n",
    "    # find max of absolute value of the leftover velocities\n",
    "    velocity_abs = np.abs(c)\n",
    "    v_max = np.max(velocity_abs)\n",
    "\n",
    "    # separate the data into velocity types\n",
    "    high_velocity = galaxy[np.abs(c) > 1000]\n",
    "    low_velocity = galaxy[np.abs(c) <= 1000]\n",
    "\n",
    "    if len(low_velocity) > 0:\n",
    "        first_low_velocity = low_velocity['VELOCITY'][0]\n",
    "        vmin = -np.abs(first_low_velocity)\n",
    "        vmax = np.abs(first_low_velocity)    \n",
    "    else:\n",
    "        # if there are no low velocity data points set range as -1000 to 1000\n",
    "        vmin = -1000 if v_max > 1000 else -v_max\n",
    "        vmax = 1000 if v_max > 1000 else v_max\n",
    "    \n",
    "    \n",
    "    #ellipse center and position angle (degrees)\n",
    "    x_center = SGA['RA'][SGA_dict[sga_id]]\n",
    "    y_center = SGA['DEC'][SGA_dict[sga_id]]\n",
    "    theta = SGA['PA'][SGA_dict[sga_id]]\n",
    "\n",
    "    #put major and minor axis into degrees\n",
    "    maj = SGA['D26'][SGA_dict[sga_id]]\n",
    "    major = maj/60\n",
    "    ratio = SGA['BA'][SGA_dict[sga_id]]\n",
    "    min_axis = maj*ratio\n",
    "    minor = major*ratio\n",
    "\n",
    "    #set up to plot w/transform\n",
    "    ellipse_center = SkyCoord(ra=x_center * u.degree, dec=y_center * u.degree)\n",
    "    major_radius = np.arctan(major*0.01) * u.radian\n",
    "\n",
    "    fig = plt.figure(tight_layout=True)\n",
    "\n",
    "    ax_sky = plt.subplot(111, projection='astro degrees zoom', center=ellipse_center, radius=major_radius)\n",
    "    #ax_sky.grid\n",
    "\n",
    "    abc = ax_sky.scatter(high_velocity['RA'], \n",
    "               high_velocity['DEC'], \n",
    "               c=high_velocity['VELOCITY'], \n",
    "               marker='X', \n",
    "               cmap='bwr', \n",
    "               linewidths=0.1, \n",
    "               edgecolors='black', \n",
    "               vmin = vmin, \n",
    "               vmax = vmax,\n",
    "               transform=ax_sky.get_transform('world'))\n",
    "    \n",
    "    bcd = ax_sky.scatter(low_velocity['RA'], \n",
    "               low_velocity['DEC'], \n",
    "               c=low_velocity['VELOCITY'], \n",
    "               marker='o', \n",
    "               cmap='bwr', \n",
    "               linewidths=0.5, \n",
    "               edgecolors='black', \n",
    "               vmin=vmin, \n",
    "               vmax = vmax,\n",
    "               transform=ax_sky.get_transform('world'))\n",
    "\n",
    "    # plot w/ color bar\n",
    "    fig.colorbar(bcd, label='Velocity [km/s]', ax=ax_sky)\n",
    "    ax_sky.set_xlabel('RA')\n",
    "    ax_sky.set_ylabel('DEC')\n",
    "    ax_sky.set_title('SGA ID {} Velocity Map'.format(galaxy['SGA_ID'][0]))\n",
    "\n",
    "    vertex1 = ellipse_center.directional_offset_by(theta*u.deg, 0.5*maj*u.arcmin)\n",
    "    #vertex2 = ellipse_center.directional_offset_by(theta*u.deg + 180*u.deg, 0.5*maj*u.arcmin)\n",
    "\n",
    "    #vertex3 = ellipse_center.directional_offset_by(theta*u.deg + 90*u.deg, 0.5*min_axis*u.arcmin)\n",
    "    #vertex4 = ellipse_center.directional_offset_by(theta*u.deg + 270*u.deg, 0.5*min_axis*u.arcmin)\n",
    "\n",
    "    phi = np.arctan((vertex1.ra - ellipse_center.ra)/(vertex1.dec - ellipse_center.dec)).to('deg')\n",
    "\n",
    "    # plotting ellipse\n",
    "    ell = Ellipse(\n",
    "        xy = (x_center, y_center),\n",
    "        width = minor,\n",
    "        height = major,\n",
    "        #angle =(180 - theta), #accounts for differences between matplotlib and legacy survey units\n",
    "        angle = 180 - phi.value,\n",
    "        #vertices = [(vertex1.ra.value, vertex1.dec.value), (vertex2.ra.value, vertex2.dec.value)],\n",
    "        #co_vertices = [(vertex3.ra.value, vertex3.dec.value), (vertex4.ra.value, vertex4.dec.value)],\n",
    "        edgecolor = 'black',\n",
    "        facecolor = 'none',\n",
    "        transform=ax_sky.get_transform('world')\n",
    "        )\n",
    "    ax_sky.add_artist(ell)\n",
    "    # either load an existing image or save fig to scratch\n",
    "    img_name = os.path.join(v_dir, '{}.jpg'.format(sga_id))\n",
    "    plt.savefig(os.path.join(v_dir, '{}.png'.format(sga_id)), dpi=120)\n",
    "    plt.show()"
   ]
  },
  {
   "cell_type": "code",
   "execution_count": 11,
   "id": "e2a6ce75-5816-4f5c-855d-ae49d70bd68d",
   "metadata": {},
   "outputs": [],
   "source": [
    "#all good sga IDs in a list \n",
    "good_sga = [9769, 11977, 12892, 14501, 16383, 19235, 19278, 25532, 30149, 31220, 32484, 36904, 37543, 46327, 58617, 73111, 88963, 91660, 90791, \n",
    "        106536, 114405, 114489, 122580, 126630, 125611, 128163, 128411, 130766, 149502, 153504, 175220, 176736, 184044, 186239, 189685,\n",
    "        188525, 190308, 192158, 196470, 199038, 202236, 205028, 209429, 212382, 218773, 235556, 254532, 272164, 272562, 276638, 288715,\n",
    "        289743, 291766, 300446, 302062, 305831, 309378, 319942, 330678, 349027, 349346, 363344, 373692, 378842, 384420, 389177, 393190,\n",
    "        395070, 398443, 398532, 416531, 431242, 430161, 432294, 450689, 450566, 455486, 457147, 458798, 462867, 466872, 467582, 471327,\n",
    "        469868, 471893, 473436, 477805, 481956, 485800, 493017, 507499, 526710, 544419, 544810, 544799, 544943, 548724, 548848, 550458,\n",
    "        564440, 569298, 568664, 570086, 582248, 591927, 607528, 608015, 629144, 630029, 630390, 635043, 638386, 641578, 643231, 643845,\n",
    "        644940, 647966, 649753, 649960, 651096, 654469, 659599, 663463, 671301, 671533, 694525, 696291, 696345, 706579, 720480, 722142, \n",
    "        726854, 728327, 729726, 729754, 736449, 742167, 743030, 744650, 752683, 757313, 757166, 758123, 759261, 759003, 766672, 783693,\n",
    "        793633, 804643, 805225, 819754, 820598, 823301, 824225, 826809, 827949, 833961, 833981, 843065, 843126, 845052, 887433, 901663,\n",
    "        901980, 908818, 908978, 911046, 914975, 914909, 916161, 920806, 923400, 925923, 925354, 928810, 928876, 932984, 947709, 953644,\n",
    "        957521, 957850, 967351, 968864, 971635, 975775, 972260, 977015, 976853, 979168, 978708, 989040, 989244, 1001302, 1003319, 1008726,\n",
    "        1014959, 1018187, 1021462, 1026141, 1031898, 1033651, 1033344, 1050173, 1065602, 1073430, 1086934, 1087039, 1087374, 1090772, 1091806,\n",
    "        1096564, 1098043, 1103477, 1111824, 1117018, 1124386, 1143335, 1146354, 1161160, 1167691, 1171841, 1179377, 1184894, 1184912, 1186034,\n",
    "        1187240, 1188032, 1188617, 1188926, 1193015, 1191665, 1194588, 1194958, 1199020, 1199539, 1201319, 1203786, 1204237, 1206707, 1218166,\n",
    "        1219319, 1254154, 1264056, 1264591, 1267967, 1271477, 1271549, 1272700, 1273605, 1278144, 1281619, 1282407, 1285273, 1286710, 1289613,\n",
    "        1293967, 1301768, 1304908, 1335916, 1338866, 1345100, 1348956, 1349555, 1354266, 1355575, 1361363, 1361399, 1365519, 1365549, 1367137,\n",
    "        1368018, 1368443, 1374964, 1379143, 1405053, 1429680, 1434487]"
   ]
  },
  {
   "cell_type": "code",
   "execution_count": null,
   "id": "00625a88-13a1-4b4d-b3bc-e284c56b1b9b",
   "metadata": {},
   "outputs": [],
   "source": []
  }
 ],
 "metadata": {
  "kernelspec": {
   "display_name": "DESI main",
   "language": "python",
   "name": "desi-main"
  },
  "language_info": {
   "codemirror_mode": {
    "name": "ipython",
    "version": 3
   },
   "file_extension": ".py",
   "mimetype": "text/x-python",
   "name": "python",
   "nbconvert_exporter": "python",
   "pygments_lexer": "ipython3",
   "version": "3.10.14"
  }
 },
 "nbformat": 4,
 "nbformat_minor": 5
}
