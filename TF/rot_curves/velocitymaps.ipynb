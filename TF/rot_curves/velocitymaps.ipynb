{
 "cells": [
  {
   "cell_type": "code",
   "execution_count": 2,
   "id": "47b98b9d-f99a-4ea0-8b72-24a2f9a761a4",
   "metadata": {
    "tags": []
   },
   "outputs": [],
   "source": [
    "# all imports\n",
    "import numpy as np\n",
    "import os\n",
    "import requests\n",
    "from astropy.table import Table, vstack\n",
    "import matplotlib.pyplot as plt\n",
    "from astropy.io import fits\n",
    "from astropy.coordinates import SkyCoord\n",
    "from astropy import units as u\n",
    "from astropy.wcs import WCS\n",
    "import math\n",
    "import matplotlib as mpl\n",
    "from astropy.visualization.wcsaxes import SphericalCircle\n",
    "import pandas as pd\n",
    "import random\n",
    "from matplotlib.patches import Ellipse\n",
    "import ligo.skymap.plot"
   ]
  },
  {
   "cell_type": "code",
   "execution_count": 3,
   "id": "5d013d3f-8567-42ba-900e-e809a9df8c72",
   "metadata": {
    "tags": []
   },
   "outputs": [],
   "source": [
    "# define directories\n",
    "data_dir = '/global/cfs/projectdirs/desi/science/td/pv/tfgalaxies/'\n",
    "cache_dir = '/pscratch/sd/j/jjpim/cache/' # my cache path\n",
    "vi_dir = '/pscratch/sd/j/jjpim/visual_inspection/' # vi image path\n",
    "v_dir = '/pscratch/sd/j/jjpim/2Dvmap/' # 2D velocity map image path"
   ]
  },
  {
   "cell_type": "code",
   "execution_count": 4,
   "id": "fbf71644-dd44-4173-bd12-37b31219b704",
   "metadata": {
    "tags": []
   },
   "outputs": [
    {
     "data": {
      "text/html": [
       "<div><i>Table length=5</i>\n",
       "<table id=\"table140104525211216\" class=\"table-striped table-bordered table-condensed\">\n",
       "<thead><tr><th>TARGETID</th><th>TARGET_RA</th><th>TARGET_DEC</th><th>HEALPIX</th><th>SURVEY</th><th>Z</th><th>ZERR</th><th>ZWARN</th><th>DELTACHI2</th><th>FILENAME</th><th>PVTYPE</th><th>SGA_ID</th><th>RA</th><th>DEC</th><th>OBS_IN_SV</th><th>SKY_FIBER_DIST</th><th>SKY_FIBER_DIST_R26</th><th>ROT_CURVE</th><th>EOA</th><th>VELOCITY</th><th>VERR</th></tr></thead>\n",
       "<thead><tr><th>int64</th><th>float64</th><th>float64</th><th>int64</th><th>bytes4</th><th>float64</th><th>float64</th><th>int64</th><th>float64</th><th>bytes65</th><th>bytes3</th><th>int64</th><th>float64</th><th>float64</th><th>float64</th><th>float64</th><th>float64</th><th>float64</th><th>float64</th><th>float64</th><th>float64</th></tr></thead>\n",
       "<tr><td>1079550234591232</td><td>194.390863195343</td><td>27.5157211790145</td><td>10378</td><td>sv3</td><td>1.1235686466514</td><td>7.31685779475115e-05</td><td>4</td><td>3.28414569795132</td><td>fuji/healpix/sv3/bright/103/10378/redrock-sv3-bright-10378.fits</td><td>EXT</td><td>662902</td><td>194.39086319534337</td><td>27.51572117901454</td><td>1.0</td><td>0.03927420444753712</td><td>1.0000000170652443</td><td>0.0</td><td>0.0</td><td>--</td><td>inf</td></tr>\n",
       "<tr><td>1092744374124544</td><td>194.390863195343</td><td>27.5157211790145</td><td>10378</td><td>sv3</td><td>0.686773088332363</td><td>6.9756676262104e-05</td><td>4</td><td>0.786607094109058</td><td>fuji/healpix/sv3/dark/103/10378/redrock-sv3-dark-10378.fits</td><td>EXT</td><td>662902</td><td>194.39086319534337</td><td>27.51572117901454</td><td>1.0</td><td>0.03927420444753712</td><td>1.0000000170652443</td><td>0.0</td><td>0.0</td><td>--</td><td>inf</td></tr>\n",
       "<tr><td>1092744374124546</td><td>194.364461113654</td><td>27.5037185881314</td><td>10378</td><td>sv3</td><td>0.0242933923052181</td><td>4.95233472646785e-05</td><td>0</td><td>95.428411073226</td><td>fuji/healpix/sv3/dark/103/10378/redrock-sv3-dark-10378.fits</td><td>EXT</td><td>662902</td><td>194.36446111365385</td><td>27.50371858813136</td><td>1.0</td><td>0.012960487467698754</td><td>0.3300000056318236</td><td>0.0</td><td>0.0</td><td>--</td><td>inf</td></tr>\n",
       "<tr><td>1092744369930240</td><td>194.338458724402</td><td>27.4918902690326</td><td>10378</td><td>sv3</td><td>0.0264170223697961</td><td>0.00010139452689994</td><td>0</td><td>9.53278421035066</td><td>fuji/healpix/sv3/dark/103/10378/redrock-sv3-dark-10378.fits</td><td>EXT</td><td>662902</td><td>194.33845872440244</td><td>27.491890269032595</td><td>1.0</td><td>0.012960487467685656</td><td>0.33000000563149007</td><td>0.0</td><td>0.0</td><td>--</td><td>inf</td></tr>\n",
       "<tr><td>1092744374124545</td><td>194.377858465028</td><td>27.5098100780282</td><td>10378</td><td>sv3</td><td>0.211332646769145</td><td>6.68535116703737e-05</td><td>4</td><td>3.73989077657461</td><td>fuji/healpix/sv3/dark/103/10378/redrock-sv3-dark-10378.fits</td><td>EXT</td><td>662902</td><td>194.3778584650283</td><td>27.509810078028195</td><td>1.0</td><td>0.026313716979861984</td><td>0.6700000114340222</td><td>0.0</td><td>0.0</td><td>--</td><td>inf</td></tr>\n",
       "</table></div>"
      ],
      "text/plain": [
       "<Table length=5>\n",
       "    TARGETID        TARGET_RA        TARGET_DEC    ...   EOA   VELOCITY   VERR \n",
       "     int64           float64          float64      ... float64 float64  float64\n",
       "---------------- ---------------- ---------------- ... ------- -------- -------\n",
       "1079550234591232 194.390863195343 27.5157211790145 ...     0.0       --     inf\n",
       "1092744374124544 194.390863195343 27.5157211790145 ...     0.0       --     inf\n",
       "1092744374124546 194.364461113654 27.5037185881314 ...     0.0       --     inf\n",
       "1092744369930240 194.338458724402 27.4918902690326 ...     0.0       --     inf\n",
       "1092744374124545 194.377858465028 27.5098100780282 ...     0.0       --     inf"
      ]
     },
     "execution_count": 4,
     "metadata": {},
     "output_type": "execute_result"
    }
   ],
   "source": [
    "# load updated fuji table\n",
    "tf_fuji = Table.read(data_dir + 'SV/desi_pv_tf_fuji_healpix_rotcurve_EOA_VI_velocity.fits') \n",
    "# load iron table\n",
    "tf_iron = Table.read(data_dir + 'Y1/desi_pv_tf_iron_healpix_rotcurve_EOA_VI_velocity.fits')\n",
    "#combine\n",
    "tf_mastertable = vstack([tf_fuji,tf_iron])\n",
    "#unique SGA IDs in rot curve galaxies\n",
    "tf_galaxies = np.unique(tf_mastertable['SGA_ID'][tf_mastertable['ROT_CURVE']==1])\n",
    "tf_mastertable_dict = {}\n",
    "for sga_id in np.unique(tf_mastertable['SGA_ID'][tf_mastertable['ROT_CURVE']==1]):\n",
    "    tf_mastertable_dict[sga_id] = np.where(tf_mastertable['SGA_ID'] == sga_id)[0]\n",
    "tf_mastertable[:5]"
   ]
  },
  {
   "cell_type": "code",
   "execution_count": 5,
   "id": "7efe5d24-32da-421c-9d44-925eb39318e0",
   "metadata": {
    "tags": []
   },
   "outputs": [
    {
     "data": {
      "text/html": [
       "<div><i>Table length=5</i>\n",
       "<table id=\"table140105538390816\" class=\"table-striped table-bordered table-condensed\">\n",
       "<thead><tr><th>SGA_ID</th><th>SGA_GALAXY</th><th>GALAXY</th><th>PGC</th><th>RA_LEDA</th><th>DEC_LEDA</th><th>MORPHTYPE</th><th>PA_LEDA</th><th>D25_LEDA</th><th>BA_LEDA</th><th>Z_LEDA</th><th>SB_D25_LEDA</th><th>MAG_LEDA</th><th>BYHAND</th><th>REF</th><th>GROUP_ID</th><th>GROUP_NAME</th><th>GROUP_MULT</th><th>GROUP_PRIMARY</th><th>GROUP_RA</th><th>GROUP_DEC</th><th>GROUP_DIAMETER</th><th>BRICKNAME</th><th>RA</th><th>DEC</th><th>D26</th><th>D26_REF</th><th>PA</th><th>BA</th><th>RA_MOMENT</th><th>DEC_MOMENT</th><th>SMA_MOMENT</th><th>G_SMA50</th><th>R_SMA50</th><th>Z_SMA50</th><th>SMA_SB22</th><th>SMA_SB22.5</th><th>SMA_SB23</th><th>SMA_SB23.5</th><th>SMA_SB24</th><th>SMA_SB24.5</th><th>SMA_SB25</th><th>SMA_SB25.5</th><th>SMA_SB26</th><th>G_MAG_SB22</th><th>R_MAG_SB22</th><th>Z_MAG_SB22</th><th>G_MAG_SB22.5</th><th>R_MAG_SB22.5</th><th>Z_MAG_SB22.5</th><th>G_MAG_SB23</th><th>R_MAG_SB23</th><th>Z_MAG_SB23</th><th>G_MAG_SB23.5</th><th>R_MAG_SB23.5</th><th>Z_MAG_SB23.5</th><th>G_MAG_SB24</th><th>R_MAG_SB24</th><th>Z_MAG_SB24</th><th>G_MAG_SB24.5</th><th>R_MAG_SB24.5</th><th>Z_MAG_SB24.5</th><th>G_MAG_SB25</th><th>R_MAG_SB25</th><th>Z_MAG_SB25</th><th>G_MAG_SB25.5</th><th>R_MAG_SB25.5</th><th>Z_MAG_SB25.5</th><th>G_MAG_SB26</th><th>R_MAG_SB26</th><th>Z_MAG_SB26</th><th>SMA_SB22_ERR</th><th>SMA_SB22.5_ERR</th><th>SMA_SB23_ERR</th><th>SMA_SB23.5_ERR</th><th>SMA_SB24_ERR</th><th>SMA_SB24.5_ERR</th><th>SMA_SB25_ERR</th><th>SMA_SB25.5_ERR</th><th>SMA_SB26_ERR</th><th>G_MAG_SB22_ERR</th><th>R_MAG_SB22_ERR</th><th>Z_MAG_SB22_ERR</th><th>G_MAG_SB22.5_ERR</th><th>R_MAG_SB22.5_ERR</th><th>Z_MAG_SB22.5_ERR</th><th>G_MAG_SB23_ERR</th><th>R_MAG_SB23_ERR</th><th>Z_MAG_SB23_ERR</th><th>G_MAG_SB23.5_ERR</th><th>R_MAG_SB23.5_ERR</th><th>Z_MAG_SB23.5_ERR</th><th>G_MAG_SB24_ERR</th><th>R_MAG_SB24_ERR</th><th>Z_MAG_SB24_ERR</th><th>G_MAG_SB24.5_ERR</th><th>R_MAG_SB24.5_ERR</th><th>Z_MAG_SB24.5_ERR</th><th>G_MAG_SB25_ERR</th><th>R_MAG_SB25_ERR</th><th>Z_MAG_SB25_ERR</th><th>G_MAG_SB25.5_ERR</th><th>R_MAG_SB25.5_ERR</th><th>Z_MAG_SB25.5_ERR</th><th>G_MAG_SB26_ERR</th><th>R_MAG_SB26_ERR</th><th>Z_MAG_SB26_ERR</th><th>G_COG_PARAMS_MTOT</th><th>G_COG_PARAMS_M0</th><th>G_COG_PARAMS_ALPHA1</th><th>G_COG_PARAMS_ALPHA2</th><th>G_COG_PARAMS_CHI2</th><th>R_COG_PARAMS_MTOT</th><th>R_COG_PARAMS_M0</th><th>R_COG_PARAMS_ALPHA1</th><th>R_COG_PARAMS_ALPHA2</th><th>R_COG_PARAMS_CHI2</th><th>Z_COG_PARAMS_MTOT</th><th>Z_COG_PARAMS_M0</th><th>Z_COG_PARAMS_ALPHA1</th><th>Z_COG_PARAMS_ALPHA2</th><th>Z_COG_PARAMS_CHI2</th><th>ELLIPSEBIT</th></tr></thead>\n",
       "<thead><tr><th>int64</th><th>bytes16</th><th>bytes29</th><th>int64</th><th>float64</th><th>float64</th><th>bytes21</th><th>float32</th><th>float32</th><th>float32</th><th>float32</th><th>float32</th><th>float32</th><th>bool</th><th>bytes13</th><th>int64</th><th>bytes35</th><th>int16</th><th>bool</th><th>float64</th><th>float64</th><th>float32</th><th>bytes8</th><th>float64</th><th>float64</th><th>float32</th><th>bytes4</th><th>float32</th><th>float32</th><th>float64</th><th>float64</th><th>float32</th><th>float32</th><th>float32</th><th>float32</th><th>float32</th><th>float32</th><th>float32</th><th>float32</th><th>float32</th><th>float32</th><th>float32</th><th>float32</th><th>float32</th><th>float32</th><th>float32</th><th>float32</th><th>float32</th><th>float32</th><th>float32</th><th>float32</th><th>float32</th><th>float32</th><th>float32</th><th>float32</th><th>float32</th><th>float32</th><th>float32</th><th>float32</th><th>float32</th><th>float32</th><th>float32</th><th>float32</th><th>float32</th><th>float32</th><th>float32</th><th>float32</th><th>float32</th><th>float32</th><th>float32</th><th>float32</th><th>float32</th><th>float32</th><th>float32</th><th>float32</th><th>float32</th><th>float32</th><th>float32</th><th>float32</th><th>float32</th><th>float32</th><th>float32</th><th>float32</th><th>float32</th><th>float32</th><th>float32</th><th>float32</th><th>float32</th><th>float32</th><th>float32</th><th>float32</th><th>float32</th><th>float32</th><th>float32</th><th>float32</th><th>float32</th><th>float32</th><th>float32</th><th>float32</th><th>float32</th><th>float32</th><th>float32</th><th>float32</th><th>float32</th><th>float32</th><th>float32</th><th>float32</th><th>float32</th><th>float32</th><th>float32</th><th>float32</th><th>float32</th><th>float32</th><th>float32</th><th>float32</th><th>float32</th><th>float32</th><th>float32</th><th>float32</th><th>float32</th><th>float32</th><th>float32</th><th>int32</th></tr></thead>\n",
       "<tr><td>2</td><td>SGA-2020 2</td><td>PGC1283207</td><td>1283207</td><td>228.3770865</td><td>5.4232017</td><td>S?</td><td>152.2</td><td>0.36307806</td><td>0.724436</td><td>0.03463229</td><td>23.40448</td><td>16.976</td><td>False</td><td>LEDA-20181114</td><td>0</td><td>PGC1283207</td><td>1</td><td>True</td><td>228.3770865</td><td>5.4232017</td><td>0.36307806</td><td>2283p055</td><td>228.3770803831908</td><td>5.423191398593787</td><td>0.49470574</td><td>SB26</td><td>158.20142</td><td>0.545691</td><td>228.37700918822188</td><td>5.4232652570544015</td><td>10.897086</td><td>3.3509698</td><td>3.1147978</td><td>3.240862</td><td>5.902337</td><td>6.9126143</td><td>7.941369</td><td>8.997992</td><td>10.073601</td><td>11.199986</td><td>12.391357</td><td>13.561038</td><td>14.841172</td><td>16.966799</td><td>16.108246</td><td>15.486356</td><td>16.879545</td><td>16.024958</td><td>15.400715</td><td>16.818878</td><td>15.967034</td><td>15.341793</td><td>16.776297</td><td>15.925804</td><td>15.300776</td><td>16.746685</td><td>15.897334</td><td>15.272053</td><td>16.725166</td><td>15.876816</td><td>15.2521105</td><td>16.708357</td><td>15.862035</td><td>15.237181</td><td>16.696539</td><td>15.851936</td><td>15.226998</td><td>16.689613</td><td>15.844313</td><td>15.21976</td><td>0.013392451</td><td>0.02354</td><td>0.021872982</td><td>0.01736985</td><td>0.024445537</td><td>0.039866067</td><td>0.05026544</td><td>0.08455789</td><td>0.122911856</td><td>0.005682776</td><td>0.0054258136</td><td>0.0049038026</td><td>0.005588406</td><td>0.005323561</td><td>0.0047632363</td><td>0.00543534</td><td>0.005177031</td><td>0.0046343105</td><td>0.0053025587</td><td>0.005040888</td><td>0.0045181247</td><td>0.005206092</td><td>0.0049438984</td><td>0.0044374703</td><td>0.0051483097</td><td>0.0048758644</td><td>0.0043834248</td><td>0.0051032505</td><td>0.0048264163</td><td>0.004344248</td><td>0.0050705094</td><td>0.004792021</td><td>0.004319857</td><td>0.005054293</td><td>0.004765629</td><td>0.0043044444</td><td>16.65942</td><td>0.34037337</td><td>0.2978292</td><td>3.0239506</td><td>0.07928849</td><td>15.820566</td><td>0.2640441</td><td>0.34559453</td><td>3.3033552</td><td>0.003811298</td><td>15.195567</td><td>0.29826432</td><td>0.3001073</td><td>3.2333765</td><td>0.011723555</td><td>0</td></tr>\n",
       "<tr><td>3</td><td>SGA-2020 3</td><td>PGC1310416</td><td>1310416</td><td>202.54443750000002</td><td>6.9345944</td><td>Sc</td><td>159.26</td><td>0.4017908</td><td>0.7816278</td><td>0.073888786</td><td>23.498482</td><td>16.85</td><td>False</td><td>LEDA-20181114</td><td>1</td><td>PGC1310416</td><td>1</td><td>True</td><td>202.54443750000002</td><td>6.9345944</td><td>0.4017908</td><td>2025p070</td><td>202.5444619671207</td><td>6.9346244322326624</td><td>0.55350494</td><td>SB26</td><td>161.5937</td><td>0.7291764</td><td>202.54432739596137</td><td>6.934806737209989</td><td>15.746941</td><td>5.6416235</td><td>5.2647552</td><td>5.0895185</td><td>5.9838247</td><td>7.4356494</td><td>8.728868</td><td>10.087478</td><td>11.529764</td><td>12.818195</td><td>14.115497</td><td>15.319822</td><td>16.605148</td><td>16.963299</td><td>16.307854</td><td>15.806882</td><td>16.729511</td><td>16.097378</td><td>15.615527</td><td>16.606344</td><td>15.990707</td><td>15.518403</td><td>16.525967</td><td>15.917321</td><td>15.450624</td><td>16.462585</td><td>15.859485</td><td>15.397182</td><td>16.419558</td><td>15.820947</td><td>15.36243</td><td>16.390558</td><td>15.796369</td><td>15.338905</td><td>16.376112</td><td>15.782492</td><td>15.323709</td><td>16.364115</td><td>15.773462</td><td>15.313725</td><td>0.036992554</td><td>0.034982767</td><td>0.037769336</td><td>0.049429573</td><td>0.052699674</td><td>0.074114166</td><td>0.07914538</td><td>0.09781406</td><td>0.15534972</td><td>0.016095797</td><td>0.019181909</td><td>0.021539452</td><td>0.013955905</td><td>0.016594552</td><td>0.018640138</td><td>0.012786752</td><td>0.015244632</td><td>0.01715491</td><td>0.011973826</td><td>0.014366956</td><td>0.016208366</td><td>0.011358372</td><td>0.013676575</td><td>0.015474222</td><td>0.010944939</td><td>0.013225297</td><td>0.015011175</td><td>0.010691595</td><td>0.012931233</td><td>0.014687982</td><td>0.010546411</td><td>0.012796015</td><td>0.014518412</td><td>0.010457551</td><td>0.012685407</td><td>0.014379212</td><td>16.284733</td><td>1.0914493</td><td>0.24674739</td><td>2.4320207</td><td>0.68685365</td><td>15.704403</td><td>0.8764323</td><td>0.27360612</td><td>2.4995425</td><td>0.49343896</td><td>15.235263</td><td>1.3098688</td><td>0.17866786</td><td>2.1750498</td><td>0.20391206</td><td>0</td></tr>\n",
       "<tr><td>4</td><td>SGA-2020 4</td><td>SDSSJ145059.93+135143.0</td><td>4435547</td><td>222.749787</td><td>13.8619111</td><td>S?</td><td>44.57</td><td>0.33342642</td><td>0.6637431</td><td>0.07567602</td><td>24.457481</td><td>18.214</td><td>False</td><td>LEDA-20181114</td><td>2</td><td>SDSSJ145059.93+135143.0</td><td>1</td><td>True</td><td>222.749787</td><td>13.8619111</td><td>0.33342642</td><td>2228p137</td><td>222.7497050504303</td><td>13.861929561160224</td><td>0.37067476</td><td>SB26</td><td>45.28537</td><td>0.70922077</td><td>222.749650475464</td><td>13.862052070022896</td><td>8.877115</td><td>4.652771</td><td>4.4837785</td><td>4.4959745</td><td>2.01033</td><td>3.3967943</td><td>4.76257</td><td>6.043787</td><td>7.242806</td><td>8.250407</td><td>9.158723</td><td>10.083457</td><td>11.120243</td><td>19.97595</td><td>19.190666</td><td>18.649523</td><td>19.098536</td><td>18.397219</td><td>17.899643</td><td>18.624952</td><td>17.967802</td><td>17.50231</td><td>18.35278</td><td>17.718002</td><td>17.265854</td><td>18.192762</td><td>17.5654</td><td>17.115404</td><td>18.10496</td><td>17.480022</td><td>17.033989</td><td>18.053415</td><td>17.430794</td><td>16.982971</td><td>18.020155</td><td>17.399996</td><td>16.948252</td><td>17.994783</td><td>17.377092</td><td>16.924469</td><td>0.02113719</td><td>0.03639431</td><td>0.051901262</td><td>0.06539029</td><td>0.08552586</td><td>0.07008602</td><td>0.070394725</td><td>0.08394975</td><td>0.113649584</td><td>0.013428732</td><td>0.017600043</td><td>0.016373685</td><td>0.012251812</td><td>0.014566466</td><td>0.013732588</td><td>0.012644532</td><td>0.014030071</td><td>0.013153961</td><td>0.012747069</td><td>0.013512552</td><td>0.012818239</td><td>0.012865601</td><td>0.01324455</td><td>0.012532208</td><td>0.012762528</td><td>0.013058522</td><td>0.012420634</td><td>0.01252645</td><td>0.012827468</td><td>0.012283978</td><td>0.012320441</td><td>0.012607317</td><td>0.012104107</td><td>0.0121167945</td><td>0.01244376</td><td>0.011985352</td><td>17.896797</td><td>0.5557265</td><td>0.25455818</td><td>3.167909</td><td>1.0522435</td><td>17.28287</td><td>0.4885815</td><td>0.2782499</td><td>3.2144456</td><td>1.3733263</td><td>16.807674</td><td>0.5177045</td><td>0.32264626</td><td>2.900518</td><td>1.8054093</td><td>0</td></tr>\n",
       "<tr><td>7</td><td>SGA-2020 7</td><td>PGC1742504</td><td>1742504</td><td>182.0888085</td><td>25.6022764</td><td>Sbc</td><td>84.97</td><td>0.548277</td><td>0.25118864</td><td>0.10090814</td><td>24.91348</td><td>17.59</td><td>False</td><td>LEDA-20181114</td><td>3</td><td>PGC1742504</td><td>1</td><td>True</td><td>182.0888085</td><td>25.6022764</td><td>0.548277</td><td>1820p255</td><td>182.08882232629614</td><td>25.60226821438983</td><td>0.8883204</td><td>SB26</td><td>84.857475</td><td>0.19753796</td><td>182.08873760544392</td><td>25.602311195157757</td><td>19.779116</td><td>6.5958204</td><td>6.0386286</td><td>5.8089786</td><td>9.279068</td><td>10.949478</td><td>12.652142</td><td>14.446171</td><td>16.323679</td><td>18.392954</td><td>20.915508</td><td>23.566542</td><td>26.649612</td><td>17.390274</td><td>16.360935</td><td>15.531964</td><td>17.285898</td><td>16.262264</td><td>15.440768</td><td>17.2167</td><td>16.195492</td><td>15.380734</td><td>17.16217</td><td>16.144245</td><td>15.334935</td><td>17.130178</td><td>16.110302</td><td>15.304758</td><td>17.104496</td><td>16.084463</td><td>15.280803</td><td>17.081282</td><td>16.061373</td><td>15.2589855</td><td>17.063671</td><td>16.045204</td><td>15.243196</td><td>17.046705</td><td>16.031244</td><td>15.23268</td><td>0.04351465</td><td>0.055440858</td><td>0.052207235</td><td>0.07507412</td><td>0.0793679</td><td>0.10347854</td><td>0.13569456</td><td>0.13104819</td><td>0.17234002</td><td>0.03885276</td><td>0.03744209</td><td>0.03786608</td><td>0.035534665</td><td>0.03441038</td><td>0.03503794</td><td>0.033557214</td><td>0.032548346</td><td>0.033348277</td><td>0.031964395</td><td>0.03106612</td><td>0.031957533</td><td>0.031133845</td><td>0.030202182</td><td>0.031190341</td><td>0.030430589</td><td>0.029511228</td><td>0.030530946</td><td>0.02975241</td><td>0.028853998</td><td>0.029866546</td><td>0.02928568</td><td>0.0284345</td><td>0.029445464</td><td>0.028843498</td><td>0.028076617</td><td>0.029169334</td><td>16.995174</td><td>21.083004</td><td>0.0164273</td><td>1.9079465</td><td>0.029703742</td><td>15.991165</td><td>0.7657307</td><td>0.52285546</td><td>2.3045986</td><td>0.006013103</td><td>15.191324</td><td>1.0408205</td><td>0.32956335</td><td>2.1520333</td><td>0.004725194</td><td>0</td></tr>\n",
       "<tr><td>18</td><td>SGA-2020 18</td><td>2MASXJ12340801+4535444</td><td>3550748</td><td>188.5335525</td><td>45.5956434</td><td>E</td><td>168.65</td><td>0.53088444</td><td>0.6950243</td><td>0.07609531</td><td>23.97948</td><td>16.726</td><td>False</td><td>LEDA-20181114</td><td>4</td><td>2MASXJ12340801+4535444</td><td>1</td><td>True</td><td>188.5335525</td><td>45.5956434</td><td>0.53088444</td><td>1883p455</td><td>188.53364923054596</td><td>45.595620212931856</td><td>0.73435897</td><td>SB26</td><td>166.25127</td><td>0.70995796</td><td>188.53349052789085</td><td>45.59567446403057</td><td>15.694805</td><td>5.091253</td><td>4.670616</td><td>2.9429996</td><td>5.219665</td><td>6.6119533</td><td>8.228266</td><td>10.109745</td><td>12.170589</td><td>14.364073</td><td>16.722517</td><td>19.18709</td><td>22.03077</td><td>17.208511</td><td>16.224203</td><td>15.566424</td><td>17.050343</td><td>16.080097</td><td>15.443468</td><td>16.921791</td><td>15.962402</td><td>15.347263</td><td>16.814959</td><td>15.864242</td><td>15.27134</td><td>16.729906</td><td>15.787886</td><td>15.218466</td><td>16.664564</td><td>15.730083</td><td>15.182751</td><td>16.61991</td><td>15.686324</td><td>15.1601305</td><td>16.585676</td><td>15.654064</td><td>15.148039</td><td>16.558054</td><td>15.629669</td><td>15.141826</td><td>0.032001704</td><td>0.043849397</td><td>0.045203492</td><td>0.072918765</td><td>0.06263939</td><td>0.07675708</td><td>0.10399303</td><td>0.07780949</td><td>0.14017467</td><td>0.016467415</td><td>0.021250801</td><td>0.032092847</td><td>0.0149329165</td><td>0.019061867</td><td>0.028947951</td><td>0.01369758</td><td>0.01736746</td><td>0.026648495</td><td>0.012623343</td><td>0.015980754</td><td>0.024998168</td><td>0.011793644</td><td>0.014977396</td><td>0.023862366</td><td>0.011184664</td><td>0.014255281</td><td>0.023120966</td><td>0.010785815</td><td>0.013740733</td><td>0.022603082</td><td>0.010472503</td><td>0.013351409</td><td>0.022360764</td><td>0.010212836</td><td>0.013043255</td><td>0.022296576</td><td>16.471447</td><td>0.3236818</td><td>1.9206839</td><td>2.3249283</td><td>0.0973919</td><td>15.540598</td><td>0.3247282</td><td>1.7439244</td><td>2.1774826</td><td>0.023485765</td><td>15.124181</td><td>0.16547345</td><td>1.4694684</td><td>3.3948786</td><td>0.028653827</td><td>0</td></tr>\n",
       "</table></div>"
      ],
      "text/plain": [
       "<Table length=5>\n",
       "SGA_ID  SGA_GALAXY          GALAXY         ... Z_COG_PARAMS_CHI2 ELLIPSEBIT\n",
       "int64    bytes16           bytes29         ...      float32        int32   \n",
       "------ ----------- ----------------------- ... ----------------- ----------\n",
       "     2  SGA-2020 2              PGC1283207 ...       0.011723555          0\n",
       "     3  SGA-2020 3              PGC1310416 ...        0.20391206          0\n",
       "     4  SGA-2020 4 SDSSJ145059.93+135143.0 ...         1.8054093          0\n",
       "     7  SGA-2020 7              PGC1742504 ...       0.004725194          0\n",
       "    18 SGA-2020 18  2MASXJ12340801+4535444 ...       0.028653827          0"
      ]
     },
     "execution_count": 5,
     "metadata": {},
     "output_type": "execute_result"
    }
   ],
   "source": [
    "# load SGA table\n",
    "SGA = Table.read('/global/cfs/cdirs/cosmo/data/sga/2020/SGA-2020.fits', 'ELLIPSE')\n",
    "SGA_dict = {}\n",
    "for i in range(len(SGA)):\n",
    "    SGA_dict[SGA['SGA_ID'][i]] = i\n",
    "SGA[:5]"
   ]
  },
  {
   "cell_type": "code",
   "execution_count": 14,
   "id": "17c19d5c-76de-4621-8f66-a459299d26ec",
   "metadata": {
    "tags": []
   },
   "outputs": [
    {
     "data": {
      "text/html": [
       "<i>Row index=359808</i>\n",
       "<table id=\"table140450463919616\">\n",
       "<thead><tr><th>SGA_ID</th><th>SGA_GALAXY</th><th>GALAXY</th><th>PGC</th><th>RA_LEDA</th><th>DEC_LEDA</th><th>MORPHTYPE</th><th>PA_LEDA</th><th>D25_LEDA</th><th>BA_LEDA</th><th>Z_LEDA</th><th>SB_D25_LEDA</th><th>MAG_LEDA</th><th>BYHAND</th><th>REF</th><th>GROUP_ID</th><th>GROUP_NAME</th><th>GROUP_MULT</th><th>GROUP_PRIMARY</th><th>GROUP_RA</th><th>GROUP_DEC</th><th>GROUP_DIAMETER</th><th>BRICKNAME</th><th>RA</th><th>DEC</th><th>D26</th><th>D26_REF</th><th>PA</th><th>BA</th><th>RA_MOMENT</th><th>DEC_MOMENT</th><th>SMA_MOMENT</th><th>G_SMA50</th><th>R_SMA50</th><th>Z_SMA50</th><th>SMA_SB22</th><th>SMA_SB22.5</th><th>SMA_SB23</th><th>SMA_SB23.5</th><th>SMA_SB24</th><th>SMA_SB24.5</th><th>SMA_SB25</th><th>SMA_SB25.5</th><th>SMA_SB26</th><th>G_MAG_SB22</th><th>R_MAG_SB22</th><th>Z_MAG_SB22</th><th>G_MAG_SB22.5</th><th>R_MAG_SB22.5</th><th>Z_MAG_SB22.5</th><th>G_MAG_SB23</th><th>R_MAG_SB23</th><th>Z_MAG_SB23</th><th>G_MAG_SB23.5</th><th>R_MAG_SB23.5</th><th>Z_MAG_SB23.5</th><th>G_MAG_SB24</th><th>R_MAG_SB24</th><th>Z_MAG_SB24</th><th>G_MAG_SB24.5</th><th>R_MAG_SB24.5</th><th>Z_MAG_SB24.5</th><th>G_MAG_SB25</th><th>R_MAG_SB25</th><th>Z_MAG_SB25</th><th>G_MAG_SB25.5</th><th>R_MAG_SB25.5</th><th>Z_MAG_SB25.5</th><th>G_MAG_SB26</th><th>R_MAG_SB26</th><th>Z_MAG_SB26</th><th>SMA_SB22_ERR</th><th>SMA_SB22.5_ERR</th><th>SMA_SB23_ERR</th><th>SMA_SB23.5_ERR</th><th>SMA_SB24_ERR</th><th>SMA_SB24.5_ERR</th><th>SMA_SB25_ERR</th><th>SMA_SB25.5_ERR</th><th>SMA_SB26_ERR</th><th>G_MAG_SB22_ERR</th><th>R_MAG_SB22_ERR</th><th>Z_MAG_SB22_ERR</th><th>G_MAG_SB22.5_ERR</th><th>R_MAG_SB22.5_ERR</th><th>Z_MAG_SB22.5_ERR</th><th>G_MAG_SB23_ERR</th><th>R_MAG_SB23_ERR</th><th>Z_MAG_SB23_ERR</th><th>G_MAG_SB23.5_ERR</th><th>R_MAG_SB23.5_ERR</th><th>Z_MAG_SB23.5_ERR</th><th>G_MAG_SB24_ERR</th><th>R_MAG_SB24_ERR</th><th>Z_MAG_SB24_ERR</th><th>G_MAG_SB24.5_ERR</th><th>R_MAG_SB24.5_ERR</th><th>Z_MAG_SB24.5_ERR</th><th>G_MAG_SB25_ERR</th><th>R_MAG_SB25_ERR</th><th>Z_MAG_SB25_ERR</th><th>G_MAG_SB25.5_ERR</th><th>R_MAG_SB25.5_ERR</th><th>Z_MAG_SB25.5_ERR</th><th>G_MAG_SB26_ERR</th><th>R_MAG_SB26_ERR</th><th>Z_MAG_SB26_ERR</th><th>G_COG_PARAMS_MTOT</th><th>G_COG_PARAMS_M0</th><th>G_COG_PARAMS_ALPHA1</th><th>G_COG_PARAMS_ALPHA2</th><th>G_COG_PARAMS_CHI2</th><th>R_COG_PARAMS_MTOT</th><th>R_COG_PARAMS_M0</th><th>R_COG_PARAMS_ALPHA1</th><th>R_COG_PARAMS_ALPHA2</th><th>R_COG_PARAMS_CHI2</th><th>Z_COG_PARAMS_MTOT</th><th>Z_COG_PARAMS_M0</th><th>Z_COG_PARAMS_ALPHA1</th><th>Z_COG_PARAMS_ALPHA2</th><th>Z_COG_PARAMS_CHI2</th><th>ELLIPSEBIT</th></tr></thead>\n",
       "<thead><tr><th>int64</th><th>bytes16</th><th>bytes29</th><th>int64</th><th>float64</th><th>float64</th><th>bytes21</th><th>float32</th><th>float32</th><th>float32</th><th>float32</th><th>float32</th><th>float32</th><th>bool</th><th>bytes13</th><th>int64</th><th>bytes35</th><th>int16</th><th>bool</th><th>float64</th><th>float64</th><th>float32</th><th>bytes8</th><th>float64</th><th>float64</th><th>float32</th><th>bytes4</th><th>float32</th><th>float32</th><th>float64</th><th>float64</th><th>float32</th><th>float32</th><th>float32</th><th>float32</th><th>float32</th><th>float32</th><th>float32</th><th>float32</th><th>float32</th><th>float32</th><th>float32</th><th>float32</th><th>float32</th><th>float32</th><th>float32</th><th>float32</th><th>float32</th><th>float32</th><th>float32</th><th>float32</th><th>float32</th><th>float32</th><th>float32</th><th>float32</th><th>float32</th><th>float32</th><th>float32</th><th>float32</th><th>float32</th><th>float32</th><th>float32</th><th>float32</th><th>float32</th><th>float32</th><th>float32</th><th>float32</th><th>float32</th><th>float32</th><th>float32</th><th>float32</th><th>float32</th><th>float32</th><th>float32</th><th>float32</th><th>float32</th><th>float32</th><th>float32</th><th>float32</th><th>float32</th><th>float32</th><th>float32</th><th>float32</th><th>float32</th><th>float32</th><th>float32</th><th>float32</th><th>float32</th><th>float32</th><th>float32</th><th>float32</th><th>float32</th><th>float32</th><th>float32</th><th>float32</th><th>float32</th><th>float32</th><th>float32</th><th>float32</th><th>float32</th><th>float32</th><th>float32</th><th>float32</th><th>float32</th><th>float32</th><th>float32</th><th>float32</th><th>float32</th><th>float32</th><th>float32</th><th>float32</th><th>float32</th><th>float32</th><th>float32</th><th>float32</th><th>float32</th><th>float32</th><th>float32</th><th>float32</th><th>float32</th><th>float32</th><th>float32</th><th>int32</th></tr></thead>\n",
       "<tr><td>1356809</td><td>SGA-2020 1356809</td><td>PGC2397606</td><td>2397606</td><td>215.765889</td><td>51.648329100000005</td><td>E?</td><td>62.16</td><td>0.41020408</td><td>0.52480745</td><td>0.06744399</td><td>24.957481</td><td>18.264</td><td>False</td><td>LEDA-20181114</td><td>498645</td><td>PGC2397606</td><td>1</td><td>True</td><td>215.765889</td><td>51.648329100000005</td><td>0.41020408</td><td>2156p517</td><td>215.76586073054855</td><td>51.648309628152944</td><td>0.61573845</td><td>SB26</td><td>62.995987</td><td>0.2754777</td><td>215.76566257225795</td><td>51.64836198616958</td><td>11.533378</td><td>6.031899</td><td>5.4864492</td><td>5.2701077</td><td>5.9194326</td><td>7.547172</td><td>8.985081</td><td>10.353915</td><td>11.649269</td><td>12.836066</td><td>14.457049</td><td>16.69346</td><td>18.472153</td><td>18.570166</td><td>17.51929</td><td>16.81079</td><td>18.28923</td><td>17.26936</td><td>16.575014</td><td>18.117554</td><td>17.118614</td><td>16.432013</td><td>18.01008</td><td>17.02439</td><td>16.334513</td><td>17.942015</td><td>16.97347</td><td>16.28297</td><td>17.895414</td><td>16.938984</td><td>16.24697</td><td>17.860844</td><td>16.908245</td><td>16.224113</td><td>17.830423</td><td>16.886007</td><td>16.203508</td><td>17.8195</td><td>16.873234</td><td>16.189863</td><td>0.08099191</td><td>0.08182129</td><td>0.12838417</td><td>0.10712533</td><td>0.1507002</td><td>0.12652121</td><td>0.15332921</td><td>0.21707046</td><td>0.10071385</td><td>0.045562677</td><td>0.05196177</td><td>0.053235095</td><td>0.041383177</td><td>0.046439458</td><td>0.04740494</td><td>0.038865402</td><td>0.043214608</td><td>0.04391064</td><td>0.036964353</td><td>0.040939096</td><td>0.041458946</td><td>0.0356235</td><td>0.039579988</td><td>0.040019784</td><td>0.03459745</td><td>0.038601503</td><td>0.038977236</td><td>0.03370701</td><td>0.03762645</td><td>0.038207527</td><td>0.03289086</td><td>0.0369175</td><td>0.037543673</td><td>0.032596763</td><td>0.036521133</td><td>0.037161123</td><td>17.794567</td><td>0.30792016</td><td>1.1732483</td><td>4.3390164</td><td>0.009680596</td><td>16.854677</td><td>0.30444172</td><td>0.88728654</td><td>4.1701827</td><td>0.018238412</td><td>16.179953</td><td>0.22325847</td><td>1.223124</td><td>4.893565</td><td>0.031483278</td><td>0</td></tr>\n",
       "</table>"
      ],
      "text/plain": [
       "<Row index=359808>\n",
       " SGA_ID    SGA_GALAXY      GALAXY     PGC    RA_LEDA        DEC_LEDA      MORPHTYPE PA_LEDA  D25_LEDA   BA_LEDA     Z_LEDA   SB_D25_LEDA MAG_LEDA BYHAND      REF      GROUP_ID GROUP_NAME GROUP_MULT GROUP_PRIMARY  GROUP_RA      GROUP_DEC      GROUP_DIAMETER BRICKNAME         RA                DEC            D26     D26_REF     PA        BA        RA_MOMENT          DEC_MOMENT    SMA_MOMENT G_SMA50   R_SMA50   Z_SMA50   SMA_SB22 SMA_SB22.5 SMA_SB23 SMA_SB23.5  SMA_SB24 SMA_SB24.5  SMA_SB25 SMA_SB25.5  SMA_SB26 G_MAG_SB22 R_MAG_SB22 Z_MAG_SB22 G_MAG_SB22.5 R_MAG_SB22.5 Z_MAG_SB22.5 G_MAG_SB23 R_MAG_SB23 Z_MAG_SB23 G_MAG_SB23.5 R_MAG_SB23.5 Z_MAG_SB23.5 G_MAG_SB24 R_MAG_SB24 Z_MAG_SB24 G_MAG_SB24.5 R_MAG_SB24.5 Z_MAG_SB24.5 G_MAG_SB25 R_MAG_SB25 Z_MAG_SB25 G_MAG_SB25.5 R_MAG_SB25.5 Z_MAG_SB25.5 G_MAG_SB26 R_MAG_SB26 Z_MAG_SB26 SMA_SB22_ERR SMA_SB22.5_ERR SMA_SB23_ERR SMA_SB23.5_ERR SMA_SB24_ERR SMA_SB24.5_ERR SMA_SB25_ERR SMA_SB25.5_ERR SMA_SB26_ERR G_MAG_SB22_ERR R_MAG_SB22_ERR Z_MAG_SB22_ERR G_MAG_SB22.5_ERR R_MAG_SB22.5_ERR Z_MAG_SB22.5_ERR G_MAG_SB23_ERR R_MAG_SB23_ERR Z_MAG_SB23_ERR G_MAG_SB23.5_ERR R_MAG_SB23.5_ERR Z_MAG_SB23.5_ERR G_MAG_SB24_ERR R_MAG_SB24_ERR Z_MAG_SB24_ERR G_MAG_SB24.5_ERR R_MAG_SB24.5_ERR Z_MAG_SB24.5_ERR G_MAG_SB25_ERR R_MAG_SB25_ERR Z_MAG_SB25_ERR G_MAG_SB25.5_ERR R_MAG_SB25.5_ERR Z_MAG_SB25.5_ERR G_MAG_SB26_ERR R_MAG_SB26_ERR Z_MAG_SB26_ERR G_COG_PARAMS_MTOT G_COG_PARAMS_M0 G_COG_PARAMS_ALPHA1 G_COG_PARAMS_ALPHA2 G_COG_PARAMS_CHI2 R_COG_PARAMS_MTOT R_COG_PARAMS_M0 R_COG_PARAMS_ALPHA1 R_COG_PARAMS_ALPHA2 R_COG_PARAMS_CHI2 Z_COG_PARAMS_MTOT Z_COG_PARAMS_M0 Z_COG_PARAMS_ALPHA1 Z_COG_PARAMS_ALPHA2 Z_COG_PARAMS_CHI2 ELLIPSEBIT\n",
       " int64      bytes16       bytes29    int64   float64        float64        bytes21  float32  float32    float32    float32     float32   float32   bool     bytes13     int64    bytes35     int16         bool      float64        float64          float32       bytes8       float64            float64        float32    bytes4  float32   float32       float64            float64       float32   float32   float32   float32   float32   float32   float32   float32    float32   float32    float32   float32    float32   float32    float32    float32     float32      float32      float32     float32    float32    float32     float32      float32      float32     float32    float32    float32     float32      float32      float32     float32    float32    float32     float32      float32      float32     float32    float32    float32     float32       float32       float32       float32       float32       float32       float32       float32       float32       float32        float32        float32         float32          float32          float32         float32        float32        float32         float32          float32          float32         float32        float32        float32         float32          float32          float32         float32        float32        float32         float32          float32          float32         float32        float32        float32          float32          float32           float32             float32            float32           float32          float32           float32             float32            float32           float32          float32           float32             float32            float32        int32   \n",
       "------- ---------------- ---------- ------- ---------- ------------------ --------- ------- ---------- ---------- ---------- ----------- -------- ------ ------------- -------- ---------- ---------- ------------- ---------- ------------------ -------------- --------- ------------------ ------------------ ---------- ------- --------- --------- ------------------ ----------------- ---------- -------- --------- --------- --------- ---------- -------- ---------- --------- ---------- --------- ---------- --------- ---------- ---------- ---------- ------------ ------------ ------------ ---------- ---------- ---------- ------------ ------------ ------------ ---------- ---------- ---------- ------------ ------------ ------------ ---------- ---------- ---------- ------------ ------------ ------------ ---------- ---------- ---------- ------------ -------------- ------------ -------------- ------------ -------------- ------------ -------------- ------------ -------------- -------------- -------------- ---------------- ---------------- ---------------- -------------- -------------- -------------- ---------------- ---------------- ---------------- -------------- -------------- -------------- ---------------- ---------------- ---------------- -------------- -------------- -------------- ---------------- ---------------- ---------------- -------------- -------------- -------------- ----------------- --------------- ------------------- ------------------- ----------------- ----------------- --------------- ------------------- ------------------- ----------------- ----------------- --------------- ------------------- ------------------- ----------------- ----------\n",
       "1356809 SGA-2020 1356809 PGC2397606 2397606 215.765889 51.648329100000005        E?   62.16 0.41020408 0.52480745 0.06744399   24.957481   18.264  False LEDA-20181114   498645 PGC2397606          1          True 215.765889 51.648329100000005     0.41020408  2156p517 215.76586073054855 51.648309628152944 0.61573845    SB26 62.995987 0.2754777 215.76566257225795 51.64836198616958  11.533378 6.031899 5.4864492 5.2701077 5.9194326   7.547172 8.985081  10.353915 11.649269  12.836066 14.457049   16.69346 18.472153  18.570166   17.51929   16.81079     18.28923     17.26936    16.575014  18.117554  17.118614  16.432013     18.01008     17.02439    16.334513  17.942015   16.97347   16.28297    17.895414    16.938984     16.24697  17.860844  16.908245  16.224113    17.830423    16.886007    16.203508    17.8195  16.873234  16.189863   0.08099191     0.08182129   0.12838417     0.10712533    0.1507002     0.12652121   0.15332921     0.21707046   0.10071385    0.045562677     0.05196177    0.053235095      0.041383177      0.046439458       0.04740494    0.038865402    0.043214608     0.04391064      0.036964353      0.040939096      0.041458946      0.0356235    0.039579988    0.040019784       0.03459745      0.038601503      0.038977236     0.03370701     0.03762645    0.038207527       0.03289086        0.0369175      0.037543673    0.032596763    0.036521133    0.037161123         17.794567      0.30792016           1.1732483           4.3390164       0.009680596         16.854677      0.30444172          0.88728654           4.1701827       0.018238412         16.179953      0.22325847            1.223124            4.893565       0.031483278          0"
      ]
     },
     "execution_count": 14,
     "metadata": {},
     "output_type": "execute_result"
    }
   ],
   "source": [
    "SGA[SGA_dict[1356809]]"
   ]
  },
  {
   "cell_type": "code",
   "execution_count": null,
   "id": "14f68cb0-44f6-43cf-90e6-73b7510688d1",
   "metadata": {
    "tags": []
   },
   "outputs": [],
   "source": [
    "#find sga id with certain amount of targets\n",
    "for sga_id in tf_galaxies:\n",
    "    if len(tf_mastertable[tf_mastertable['SGA_ID']==  sga_id])>10 and len(tf_mastertable[tf_mastertable['SGA_ID']==  sga_id])<12:\n",
    "        print(sga_id)"
   ]
  },
  {
   "cell_type": "code",
   "execution_count": 15,
   "id": "01e41cd6-57de-4e98-a3e8-d84aa15071bc",
   "metadata": {
    "tags": []
   },
   "outputs": [
    {
     "data": {
      "text/html": [
       "<div><i>Table length=14</i>\n",
       "<table id=\"table140104153146624\" class=\"table-striped table-bordered table-condensed\">\n",
       "<thead><tr><th>TARGETID</th><th>TARGET_RA</th><th>TARGET_DEC</th><th>HEALPIX</th><th>SURVEY</th><th>Z</th><th>ZERR</th><th>ZWARN</th><th>DELTACHI2</th><th>FILENAME</th><th>PVTYPE</th><th>SGA_ID</th><th>RA</th><th>DEC</th><th>OBS_IN_SV</th><th>SKY_FIBER_DIST</th><th>SKY_FIBER_DIST_R26</th><th>ROT_CURVE</th><th>EOA</th><th>VELOCITY</th><th>VERR</th></tr></thead>\n",
       "<thead><tr><th>int64</th><th>float64</th><th>float64</th><th>int64</th><th>bytes4</th><th>float64</th><th>float64</th><th>int64</th><th>float64</th><th>bytes65</th><th>bytes3</th><th>int64</th><th>float64</th><th>float64</th><th>float64</th><th>float64</th><th>float64</th><th>float64</th><th>float64</th><th>float64</th><th>float64</th></tr></thead>\n",
       "<tr><td>39633419147150407</td><td>191.036095213896</td><td>62.8669555491134</td><td>11231</td><td>sv3</td><td>0.0740987426539169</td><td>5.01190329019023e-06</td><td>0</td><td>1698.80562620983</td><td>fuji/healpix/sv3/bright/112/11231/redrock-sv3-bright-11231.fits</td><td>TFT</td><td>10325</td><td>191.03609521389586</td><td>62.86695554911338</td><td>1.0</td><td>0.0</td><td>0.0</td><td>1.0</td><td>0.0</td><td>-0.16843259059563068</td><td>1.852898955735944</td></tr>\n",
       "<tr><td>1071347337789446</td><td>191.033380723789</td><td>62.8663448984112</td><td>11231</td><td>sv3</td><td>0.0744364780905412</td><td>1.50867109400207e-05</td><td>0</td><td>134.51843894273</td><td>fuji/healpix/sv3/bright/112/11231/redrock-sv3-bright-11231.fits</td><td>TFT</td><td>10325</td><td>191.03338072378898</td><td>62.866344898411185</td><td>1.0</td><td>0.0013803930545818583</td><td>0.3299999991681249</td><td>1.0</td><td>0.0</td><td>101.08210410870586</td><td>4.651032004938977</td></tr>\n",
       "<tr><td>1084541477322758</td><td>191.033380723789</td><td>62.8663448984112</td><td>11231</td><td>sv3</td><td>0.0744473940843154</td><td>7.99943279233705e-06</td><td>0</td><td>861.901231005788</td><td>fuji/healpix/sv3/dark/112/11231/redrock-sv3-dark-11231.fits</td><td>TFT</td><td>10325</td><td>191.03338072378898</td><td>62.866344898411185</td><td>1.0</td><td>0.0013803930545818583</td><td>0.3299999991681249</td><td>1.0</td><td>0.0</td><td>104.35463671378659</td><td>2.6318915704913697</td></tr>\n",
       "<tr><td>1071347337789444</td><td>191.027869833637</td><td>62.8651049318809</td><td>11231</td><td>sv3</td><td>0.00527985095866949</td><td>7.70547202014481e-05</td><td>4</td><td>1.64519945304437</td><td>fuji/healpix/sv3/bright/112/11231/redrock-sv3-bright-11231.fits</td><td>TFT</td><td>10325</td><td>191.02786983363657</td><td>62.865104931880865</td><td>1.0</td><td>0.004183009256296153</td><td>0.999999997476176</td><td>1.0</td><td>0.0</td><td>-20631.553130744604</td><td>23.125856163501116</td></tr>\n",
       "<tr><td>1084541477322756</td><td>191.027869833637</td><td>62.8651049318809</td><td>11231</td><td>sv3</td><td>0.972354722184889</td><td>0.000259315167586565</td><td>4</td><td>2.94638759456575</td><td>fuji/healpix/sv3/dark/112/11231/redrock-sv3-dark-11231.fits</td><td>TFT</td><td>10325</td><td>191.02786983363657</td><td>62.865104931880865</td><td>1.0</td><td>0.004183009256296153</td><td>0.999999997476176</td><td>1.0</td><td>0.0</td><td>269290.19958419725</td><td>77.74829237944968</td></tr>\n",
       "<tr><td>1071347337789445</td><td>191.0305840945</td><td>62.8657156885509</td><td>11231</td><td>sv3</td><td>1.00324368337051</td><td>0.000112727385509732</td><td>4</td><td>3.20785985887051</td><td>fuji/healpix/sv3/bright/112/11231/redrock-sv3-bright-11231.fits</td><td>TFT</td><td>10325</td><td>191.03058409450014</td><td>62.86571568855088</td><td>1.0</td><td>0.0028026162017238203</td><td>0.6699999983103283</td><td>1.0</td><td>0.0</td><td>278550.4771831012</td><td>33.812209238573644</td></tr>\n",
       "<tr><td>1084541477322757</td><td>191.0305840945</td><td>62.8657156885509</td><td>11231</td><td>sv3</td><td>0.524324473758907</td><td>6.72555408859889e-05</td><td>4</td><td>5.89843332767487</td><td>fuji/healpix/sv3/dark/112/11231/redrock-sv3-dark-11231.fits</td><td>TFT</td><td>10325</td><td>191.03058409450014</td><td>62.86571568855088</td><td>1.0</td><td>0.0028026162017238203</td><td>0.6699999983103283</td><td>1.0</td><td>0.0</td><td>134974.11015022144</td><td>20.19183659137785</td></tr>\n",
       "<tr><td>1071347337789448</td><td>191.041606798713</td><td>62.8681951945069</td><td>11231</td><td>sv3</td><td>1.41717322699328</td><td>0.000100145191297347</td><td>4</td><td>1.80413293838501</td><td>fuji/healpix/sv3/bright/112/11231/redrock-sv3-bright-11231.fits</td><td>TFT</td><td>10325</td><td>191.04160679871254</td><td>62.86819519450693</td><td>1.0</td><td>0.0028026162017131023</td><td>0.669999998307766</td><td>1.0</td><td>0.0</td><td>402643.43250458955</td><td>30.042345742003896</td></tr>\n",
       "<tr><td>1084541477322760</td><td>191.041606798713</td><td>62.8681951945069</td><td>11231</td><td>sv3</td><td>0.631423898133023</td><td>0.000102843867926925</td><td>4</td><td>2.24057418107986</td><td>fuji/healpix/sv3/dark/112/11231/redrock-sv3-dark-11231.fits</td><td>TFT</td><td>10325</td><td>191.04160679871254</td><td>62.86819519450693</td><td>1.0</td><td>0.0028026162017131023</td><td>0.669999998307766</td><td>1.0</td><td>0.0</td><td>167081.7098337228</td><td>30.850875366226603</td></tr>\n",
       "<tr><td>1071347337789449</td><td>191.044321630958</td><td>62.868805687021</td><td>11231</td><td>sv3</td><td>0.615971593817122</td><td>8.71530320266214e-05</td><td>0</td><td>19.5025727450848</td><td>fuji/healpix/sv3/bright/112/11231/redrock-sv3-bright-11231.fits</td><td>TFT</td><td>10325</td><td>191.04432163095834</td><td>62.86880568702104</td><td>1.0</td><td>0.0041830092562943864</td><td>0.9999999974757535</td><td>1.0</td><td>0.0</td><td>162449.2255410948</td><td>26.15030979086335</td></tr>\n",
       "<tr><td>1084541477322761</td><td>191.044321630958</td><td>62.868805687021</td><td>11231</td><td>sv3</td><td>0.298164758727861</td><td>3.56620987347421e-05</td><td>4</td><td>0.434421554207802</td><td>fuji/healpix/sv3/dark/112/11231/redrock-sv3-dark-11231.fits</td><td>TFT</td><td>10325</td><td>191.04432163095834</td><td>62.86880568702104</td><td>1.0</td><td>0.0041830092562943864</td><td>0.9999999974757535</td><td>1.0</td><td>0.0</td><td>67173.13328048462</td><td>10.746068906053699</td></tr>\n",
       "<tr><td>1071347337789447</td><td>191.038809816911</td><td>62.8675661476171</td><td>11231</td><td>sv3</td><td>0.0737805909518312</td><td>1.28129492666266e-05</td><td>0</td><td>94.5889880284667</td><td>fuji/healpix/sv3/bright/112/11231/redrock-sv3-bright-11231.fits</td><td>TFT</td><td>10325</td><td>191.0388098169106</td><td>62.86756614761709</td><td>1.0</td><td>0.0013803930545709146</td><td>0.32999999916550865</td><td>1.0</td><td>0.0</td><td>-95.54791337575068</td><td>3.9913217708809383</td></tr>\n",
       "<tr><td>1084541477322759</td><td>191.038809816911</td><td>62.8675661476171</td><td>11231</td><td>sv3</td><td>0.0737793798762619</td><td>8.33967647923294e-06</td><td>0</td><td>538.723270729184</td><td>fuji/healpix/sv3/dark/112/11231/redrock-sv3-dark-11231.fits</td><td>TFT</td><td>10325</td><td>191.0388098169106</td><td>62.86756614761709</td><td>1.0</td><td>0.0013803930545709146</td><td>0.32999999916550865</td><td>1.0</td><td>0.0</td><td>-95.91098469749541</td><td>2.725159866522356</td></tr>\n",
       "<tr><td>39633419147150407</td><td>191.036095213896</td><td>62.8669555491134</td><td>11231</td><td>sv3</td><td>0.0740998663152106</td><td>5.22435693909143e-06</td><td>0</td><td>1604.95127082244</td><td>iron/healpix/sv3/bright/112/11231/redrock-sv3-bright-11231.fits</td><td>TFT</td><td>10325</td><td>191.03609521389586</td><td>62.86695554911338</td><td>1.0</td><td>0.0</td><td>0.0</td><td>1.0</td><td>0.0</td><td>0.16843259059979113</td><td>1.9049119665648058</td></tr>\n",
       "</table></div>"
      ],
      "text/plain": [
       "<Table length=14>\n",
       "     TARGETID        TARGET_RA     ...       VELOCITY              VERR       \n",
       "      int64           float64      ...       float64             float64      \n",
       "----------------- ---------------- ... -------------------- ------------------\n",
       "39633419147150407 191.036095213896 ... -0.16843259059563068  1.852898955735944\n",
       " 1071347337789446 191.033380723789 ...   101.08210410870586  4.651032004938977\n",
       " 1084541477322758 191.033380723789 ...   104.35463671378659 2.6318915704913697\n",
       " 1071347337789444 191.027869833637 ...  -20631.553130744604 23.125856163501116\n",
       " 1084541477322756 191.027869833637 ...   269290.19958419725  77.74829237944968\n",
       " 1071347337789445   191.0305840945 ...    278550.4771831012 33.812209238573644\n",
       " 1084541477322757   191.0305840945 ...   134974.11015022144  20.19183659137785\n",
       " 1071347337789448 191.041606798713 ...   402643.43250458955 30.042345742003896\n",
       " 1084541477322760 191.041606798713 ...    167081.7098337228 30.850875366226603\n",
       " 1071347337789449 191.044321630958 ...    162449.2255410948  26.15030979086335\n",
       " 1084541477322761 191.044321630958 ...    67173.13328048462 10.746068906053699\n",
       " 1071347337789447 191.038809816911 ...   -95.54791337575068 3.9913217708809383\n",
       " 1084541477322759 191.038809816911 ...   -95.91098469749541  2.725159866522356\n",
       "39633419147150407 191.036095213896 ...  0.16843259059979113 1.9049119665648058"
      ]
     },
     "execution_count": 15,
     "metadata": {},
     "output_type": "execute_result"
    }
   ],
   "source": [
    "tf_mastertable[tf_mastertable['SGA_ID']==  10325]"
   ]
  },
  {
   "cell_type": "markdown",
   "id": "daf819e9-7206-4c1a-9af3-d7020f976d9d",
   "metadata": {},
   "source": [
    "some plots have no center-- check colorbar scale, might be such a narrow scale that the center appears as dark red/blue"
   ]
  },
  {
   "cell_type": "code",
   "execution_count": 89,
   "id": "dcaf258b-6fb1-495d-81ff-3540743cae44",
   "metadata": {
    "tags": []
   },
   "outputs": [
    {
     "data": {
      "image/png": "[encoded data removed]",
      "text/plain": [
       "<Figure size 640x480 with 2 Axes>"
      ]
     },
     "metadata": {},
     "output_type": "display_data"
    }
   ],
   "source": [
    "plt.close('all')\n",
    "sga_id = 5958\n",
    "galaxy = tf_mastertable[tf_mastertable['SGA_ID'] == sga_id]\n",
    "c = galaxy['VELOCITY']\n",
    "\n",
    "# find max of absolute value of the leftover velocities\n",
    "velocity_abs = np.abs(c)\n",
    "v_max = np.max(velocity_abs)\n",
    "\n",
    "# separate the data into velocity types\n",
    "high_velocity = galaxy[np.abs(c) > 1000]\n",
    "low_velocity = galaxy[np.abs(c) <= 1000]\n",
    "\n",
    "if len(low_velocity) > 0:\n",
    "    first_low_velocity = low_velocity['VELOCITY'][0]\n",
    "    vmin = -np.abs(first_low_velocity)\n",
    "    vmax = np.abs(first_low_velocity)    \n",
    "else:\n",
    "    # if there are no low velocity data points set range as -1000 to 1000\n",
    "    vmin = -1000 if v_max > 1000 else -v_max\n",
    "    vmax = 1000 if v_max > 1000 else v_max\n",
    "    \n",
    "    \n",
    "#ellipse center and position angle (degrees)\n",
    "x_center = SGA['RA'][SGA_dict[sga_id]]\n",
    "y_center = SGA['DEC'][SGA_dict[sga_id]]\n",
    "theta = SGA['PA'][SGA_dict[sga_id]]\n",
    "\n",
    "#put major and minor axis into degrees\n",
    "maj = SGA['D26'][SGA_dict[sga_id]]\n",
    "major = maj/60\n",
    "ratio = SGA['BA'][SGA_dict[sga_id]]\n",
    "min_axis = maj*ratio\n",
    "minor = major*ratio\n",
    "\n",
    "#set up to plot w/transform\n",
    "ellipse_center = SkyCoord(ra = x_center * u.degree, dec = y_center * u.degree)\n",
    "major_radius = np.arctan(major*0.01) * u.radian\n",
    "\n",
    "fig = plt.figure(tight_layout=True)\n",
    "\n",
    "ax_sky = plt.subplot(111, projection='astro degrees zoom', center=ellipse_center, radius=major_radius)\n",
    "ax_sky.grid()\n",
    "\n",
    "abc = ax_sky.scatter(high_velocity['RA'], \n",
    "               high_velocity['DEC'], \n",
    "               c=high_velocity['VELOCITY'], \n",
    "               marker='X', \n",
    "               cmap='bwr', \n",
    "               linewidths=0.1, \n",
    "               edgecolors='black', \n",
    "               vmin = vmin, \n",
    "               vmax = vmax,\n",
    "               transform=ax_sky.get_transform('world'))\n",
    "    \n",
    "bcd = ax_sky.scatter(low_velocity['RA'], \n",
    "               low_velocity['DEC'], \n",
    "               c=low_velocity['VELOCITY'], \n",
    "               marker='o', \n",
    "               cmap='bwr', \n",
    "               linewidths=0.5, \n",
    "               edgecolors='black', \n",
    "               vmin=vmin, \n",
    "               vmax = vmax,\n",
    "               transform=ax_sky.get_transform('world'))\n",
    "\n",
    "# plot w/ color bar\n",
    "fig.colorbar(bcd, label='Velocity [km/s]', ax=ax_sky)\n",
    "ax_sky.set_xlabel('RA')\n",
    "ax_sky.set_ylabel('DEC')\n",
    "ax_sky.set_title('SGA ID {} Velocity Map'.format(galaxy['SGA_ID'][0]))\n",
    "\n",
    "vertex1 = ellipse_center.directional_offset_by(theta*u.deg, 0.5*maj*u.arcmin)\n",
    "\n",
    "phi = np.arctan((vertex1.ra - ellipse_center.ra)/(vertex1.dec - ellipse_center.dec)).to('deg')\n",
    "\n",
    "# plotting ellipse\n",
    "ell = Ellipse(\n",
    "    xy = (x_center, y_center),\n",
    "    width = minor,\n",
    "    height = major,\n",
    "    angle = (180 - phi.value),\n",
    "    edgecolor = 'black',\n",
    "    facecolor = 'none',\n",
    "    transform=ax_sky.get_transform('world')\n",
    "    )\n",
    "ax_sky.add_artist(ell)\n",
    "plt.show()"
   ]
  },
  {
   "cell_type": "code",
   "execution_count": null,
   "id": "132cf725-a88a-4c50-883a-c506083474f0",
   "metadata": {
    "tags": []
   },
   "outputs": [],
   "source": [
    "for sga_id in tf_galaxies:\n",
    "    galaxy = tf_mastertable[tf_mastertable['SGA_ID'] == sga_id]\n",
    "    c = galaxy['VELOCITY']\n",
    "\n",
    "    # find max of absolute value of the leftover velocities\n",
    "    velocity_abs = np.abs(c)\n",
    "    v_max = np.max(velocity_abs)\n",
    "\n",
    "    # separate the data into velocity types\n",
    "    high_velocity = galaxy[np.abs(c) > 1000]\n",
    "    low_velocity = galaxy[np.abs(c) <= 1000]\n",
    "\n",
    "    if len(low_velocity) > 0:\n",
    "        first_low_velocity = low_velocity['VELOCITY'][0]\n",
    "        vmin = -np.abs(first_low_velocity)\n",
    "        vmax = np.abs(first_low_velocity)    \n",
    "    else:\n",
    "        # if there are no low velocity data points set range as -1000 to 1000\n",
    "        vmin = -1000 if v_max > 1000 else -v_max\n",
    "        vmax = 1000 if v_max > 1000 else v_max\n",
    "    \n",
    "    \n",
    "    #ellipse center and position angle (degrees)\n",
    "    x_center = SGA['RA'][SGA_dict[sga_id]]\n",
    "    y_center = SGA['DEC'][SGA_dict[sga_id]]\n",
    "    theta = SGA['PA'][SGA_dict[sga_id]]\n",
    "\n",
    "    #put major and minor axis into degrees\n",
    "    maj = SGA['D26'][SGA_dict[sga_id]]\n",
    "    major = maj/60\n",
    "    ratio = SGA['BA'][SGA_dict[sga_id]]\n",
    "    min_axis = maj*ratio\n",
    "    minor = major*ratio\n",
    "\n",
    "    #set up to plot w/transform\n",
    "    ellipse_center = SkyCoord(ra = x_center * u.degree, dec = y_center * u.degree)\n",
    "    major_radius = np.arctan(major*0.01) * u.radian\n",
    "\n",
    "    fig = plt.figure(tight_layout=True)\n",
    "\n",
    "    ax_sky = plt.subplot(111, projection='astro degrees zoom', center=ellipse_center, radius=major_radius)\n",
    "\n",
    "    abc = ax_sky.scatter(high_velocity['RA'], \n",
    "               high_velocity['DEC'], \n",
    "               c=high_velocity['VELOCITY'], \n",
    "               marker='X', \n",
    "               cmap='bwr', \n",
    "               linewidths=0.1, \n",
    "               edgecolors='black', \n",
    "               vmin = vmin, \n",
    "               vmax = vmax,\n",
    "               transform=ax_sky.get_transform('world'))\n",
    "    \n",
    "    bcd = ax_sky.scatter(low_velocity['RA'], \n",
    "               low_velocity['DEC'], \n",
    "               c=low_velocity['VELOCITY'], \n",
    "               marker='o', \n",
    "               cmap='bwr', \n",
    "               linewidths=0.5, \n",
    "               edgecolors='black', \n",
    "               vmin=vmin, \n",
    "               vmax = vmax,\n",
    "               transform=ax_sky.get_transform('world'))\n",
    "\n",
    "    # plot w/ color bar\n",
    "    fig.colorbar(bcd, label='Velocity [km/s]', ax=ax_sky)\n",
    "    ax_sky.set_xlabel('RA')\n",
    "    ax_sky.set_ylabel('DEC')\n",
    "    ax_sky.set_title('SGA ID {} Velocity Map'.format(galaxy['SGA_ID'][0]))\n",
    "\n",
    "    vertex1 = ellipse_center.directional_offset_by(theta*u.deg, 0.5*maj*u.arcmin)\n",
    "\n",
    "    phi = np.arctan((vertex1.ra - ellipse_center.ra)/(vertex1.dec - ellipse_center.dec)).to('deg')\n",
    "\n",
    "    # plotting ellipse\n",
    "    ell = Ellipse(\n",
    "        xy = (x_center, y_center),\n",
    "        width = minor,\n",
    "        height = major,\n",
    "        angle = (180 - phi.value),\n",
    "        edgecolor = 'black',\n",
    "        facecolor = 'none',\n",
    "        transform=ax_sky.get_transform('world')\n",
    "        )\n",
    "    ax_sky.add_artist(ell)\n",
    "    img_name = v_dir + '{}.jpg'.format(sga_id)\n",
    "    plt.savefig(v_dir + '{}.png'.format(sga_id), dpi=120)\n",
    "    '''if os.path.exists(img_name):\n",
    "        if verbose:\n",
    "            print('{} exists.'.format(img_name))\n",
    "    else:\n",
    "        plt.savefig(v_dir + '{}.png'.format(sga_id), dpi=120)\n",
    "    '''\n",
    "    plt.show()"
   ]
  },
  {
   "cell_type": "code",
   "execution_count": 62,
   "id": "e4e2ec25-480d-41a5-ba97-cb3aadc74b83",
   "metadata": {
    "tags": []
   },
   "outputs": [
    {
     "name": "stdout",
     "output_type": "stream",
     "text": [
      "252.3254148409219\n",
      "-72.32541484092191\n",
      "<SkyCoord (ICRS): (ra, dec) in deg\n",
      "    (215.88533457, 52.92176436)>\n"
     ]
    }
   ],
   "source": [
    "print(180-phi.value)\n",
    "print(phi.value)\n",
    "print(vertex1)"
   ]
  },
  {
   "cell_type": "code",
   "execution_count": 42,
   "id": "9ba65b6a-351e-4cde-a160-4db054ecdea7",
   "metadata": {},
   "outputs": [
    {
     "data": {
      "text/plain": [
       "[(215.88362121016692, 52.92231032441092),\n",
       " (215.87726470078908, 52.92433583901292)]"
      ]
     },
     "execution_count": 42,
     "metadata": {},
     "output_type": "execute_result"
    }
   ],
   "source": [
    "ell.get_vertices()"
   ]
  },
  {
   "cell_type": "code",
   "execution_count": 39,
   "id": "93c9abf2-4a06-48ae-90e4-368b2d724e23",
   "metadata": {
    "tags": []
   },
   "outputs": [
    {
     "data": {
      "text/html": [
       "<div><i>Table length=3</i>\n",
       "<table id=\"table140255544369376\" class=\"table-striped table-bordered table-condensed\">\n",
       "<thead><tr><th>RA</th><th>DEC</th></tr></thead>\n",
       "<thead><tr><th>float64</th><th>float64</th></tr></thead>\n",
       "<tr><td>235.89767909946755</td><td>43.84503395695681</td></tr>\n",
       "<tr><td>235.90101343657693</td><td>43.837924200001574</td></tr>\n",
       "<tr><td>235.90035461859102</td><td>43.839329129719665</td></tr>\n",
       "</table></div>"
      ],
      "text/plain": [
       "<Table length=3>\n",
       "        RA                DEC        \n",
       "     float64            float64      \n",
       "------------------ ------------------\n",
       "235.89767909946755  43.84503395695681\n",
       "235.90101343657693 43.837924200001574\n",
       "235.90035461859102 43.839329129719665"
      ]
     },
     "execution_count": 39,
     "metadata": {},
     "output_type": "execute_result"
    }
   ],
   "source": [
    "high_velocity[['RA','DEC']]"
   ]
  },
  {
   "cell_type": "code",
   "execution_count": 22,
   "id": "ea4e5fcd-4aa0-4baf-9e9d-5c62173bfe72",
   "metadata": {
    "tags": []
   },
   "outputs": [
    {
     "name": "stdout",
     "output_type": "stream",
     "text": [
      "<SkyCoord (ICRS): (ra, dec) in deg\n",
      "    (215.88533457, 52.92176436)> <SkyCoord (ICRS): (ra, dec) in deg\n",
      "    (215.87555098, 52.92488161)>\n"
     ]
    }
   ],
   "source": [
    "vertex1 = ellipse_center.directional_offset_by(theta*u.deg, 0.5*maj*u.arcmin)\n",
    "vertex2 = ellipse_center.directional_offset_by(theta*u.deg + 180*u.deg, 0.5*maj*u.arcmin)\n",
    "print(vertex1, vertex2)"
   ]
  },
  {
   "cell_type": "code",
   "execution_count": 23,
   "id": "6dfec1b3-d202-4018-bef6-7454e8f36dec",
   "metadata": {
    "tags": []
   },
   "outputs": [
    {
     "data": {
      "text/plain": [
       "[(215.8853345746458, 52.92176435734562),\n",
       " (215.87555098410664, 52.92488160518876)]"
      ]
     },
     "execution_count": 23,
     "metadata": {},
     "output_type": "execute_result"
    }
   ],
   "source": [
    "[(vertex1.ra.value, vertex1.dec.value), (vertex2.ra.value, vertex2.dec.value)]"
   ]
  },
  {
   "cell_type": "code",
   "execution_count": 25,
   "id": "ff4f8788-1ffe-4202-826b-b297471ec40f",
   "metadata": {
    "tags": []
   },
   "outputs": [
    {
     "data": {
      "text/plain": [
       "-72.32541484092191"
      ]
     },
     "execution_count": 25,
     "metadata": {},
     "output_type": "execute_result"
    }
   ],
   "source": [
    "phi = np.arctan((vertex1.ra - ellipse_center.ra)/(vertex1.dec - ellipse_center.dec)).to('deg')\n",
    "phi.value"
   ]
  },
  {
   "cell_type": "code",
   "execution_count": null,
   "id": "91ef54d6-ccea-4ca0-ad51-7d541691fadb",
   "metadata": {
    "tags": []
   },
   "outputs": [],
   "source": [
    "for sga_id in tf_galaxies:\n",
    "    galaxy = tf_mastertable[tf_mastertable['SGA_ID'] == sga_id]\n",
    "    c = galaxy['VELOCITY']\n",
    "\n",
    "    # find max of absolute value of the leftover velocities\n",
    "    velocity_abs = np.abs(c)\n",
    "    v_max = np.max(velocity_abs)\n",
    "\n",
    "    # separate the data into velocity types\n",
    "    high_velocity = galaxy[np.abs(c) > 1000]\n",
    "    low_velocity = galaxy[np.abs(c) <= 1000]\n",
    "\n",
    "    if len(low_velocity) > 0:\n",
    "        first_low_velocity = low_velocity['VELOCITY'][0]\n",
    "        vmin = -np.abs(first_low_velocity)\n",
    "        vmax = np.abs(first_low_velocity)    \n",
    "    else:\n",
    "        # if there are no low velocity data points set range as -1000 to 1000\n",
    "        vmin = -1000 if v_max > 1000 else -v_max\n",
    "        vmax = 1000 if v_max > 1000 else v_max\n",
    "    \n",
    "    \n",
    "    #ellipse center and position angle (degrees)\n",
    "    x_center = SGA['RA'][SGA_dict[sga_id]]\n",
    "    y_center = SGA['DEC'][SGA_dict[sga_id]]\n",
    "    theta = SGA['PA'][SGA_dict[sga_id]]\n",
    "\n",
    "    #put major and minor axis into degrees\n",
    "    maj = SGA['D26'][SGA_dict[sga_id]]\n",
    "    major = maj/60\n",
    "    ratio = SGA['BA'][SGA_dict[sga_id]]\n",
    "    min_axis = maj*ratio\n",
    "    minor = major*ratio\n",
    "\n",
    "    #set up to plot w/transform\n",
    "    ellipse_center = SkyCoord(ra=x_center * u.degree, dec=y_center * u.degree)\n",
    "    major_radius = np.arctan(major*0.01) * u.radian\n",
    "\n",
    "    fig = plt.figure(tight_layout=True)\n",
    "\n",
    "    ax_sky = plt.subplot(111, projection='astro degrees zoom', center=ellipse_center, radius=major_radius)\n",
    "    #ax_sky.grid\n",
    "\n",
    "    abc = ax_sky.scatter(high_velocity['RA'], \n",
    "               high_velocity['DEC'], \n",
    "               c=high_velocity['VELOCITY'], \n",
    "               marker='X', \n",
    "               cmap='bwr', \n",
    "               linewidths=0.1, \n",
    "               edgecolors='black', \n",
    "               vmin = vmin, \n",
    "               vmax = vmax,\n",
    "               transform=ax_sky.get_transform('world'))\n",
    "    \n",
    "    bcd = ax_sky.scatter(low_velocity['RA'], \n",
    "               low_velocity['DEC'], \n",
    "               c=low_velocity['VELOCITY'], \n",
    "               marker='o', \n",
    "               cmap='bwr', \n",
    "               linewidths=0.5, \n",
    "               edgecolors='black', \n",
    "               vmin=vmin, \n",
    "               vmax = vmax,\n",
    "               transform=ax_sky.get_transform('world'))\n",
    "\n",
    "    # plot w/ color bar\n",
    "    fig.colorbar(bcd, label='Velocity [km/s]', ax=ax_sky)\n",
    "    ax_sky.set_xlabel('RA')\n",
    "    ax_sky.set_ylabel('DEC')\n",
    "    ax_sky.set_title('SGA ID {} Velocity Map'.format(galaxy['SGA_ID'][0]))\n",
    "\n",
    "    vertex1 = ellipse_center.directional_offset_by(theta*u.deg, 0.5*maj*u.arcmin)\n",
    "    #vertex2 = ellipse_center.directional_offset_by(theta*u.deg + 180*u.deg, 0.5*maj*u.arcmin)\n",
    "\n",
    "    #vertex3 = ellipse_center.directional_offset_by(theta*u.deg + 90*u.deg, 0.5*min_axis*u.arcmin)\n",
    "    #vertex4 = ellipse_center.directional_offset_by(theta*u.deg + 270*u.deg, 0.5*min_axis*u.arcmin)\n",
    "\n",
    "    phi = np.arctan((vertex1.ra - ellipse_center.ra)/(vertex1.dec - ellipse_center.dec)).to('deg')\n",
    "\n",
    "    # plotting ellipse\n",
    "    ell = Ellipse(\n",
    "        xy = (x_center, y_center),\n",
    "        width = minor,\n",
    "        height = major,\n",
    "        #angle =(180 - theta), #accounts for differences between matplotlib and legacy survey units\n",
    "        angle = 180 - phi.value,\n",
    "        #vertices = [(vertex1.ra.value, vertex1.dec.value), (vertex2.ra.value, vertex2.dec.value)],\n",
    "        #co_vertices = [(vertex3.ra.value, vertex3.dec.value), (vertex4.ra.value, vertex4.dec.value)],\n",
    "        edgecolor = 'black',\n",
    "        facecolor = 'none',\n",
    "        transform=ax_sky.get_transform('world')\n",
    "        )\n",
    "    ax_sky.add_artist(ell)\n",
    "    # either load an existing image or save fig to scratch\n",
    "    img_name = os.path.join(v_dir, '{}.jpg'.format(sga_id))\n",
    "    plt.savefig(os.path.join(v_dir, '{}.png'.format(sga_id)), dpi=120)\n",
    "    plt.show()"
   ]
  },
  {
   "cell_type": "code",
   "execution_count": null,
   "id": "e2a6ce75-5816-4f5c-855d-ae49d70bd68d",
   "metadata": {},
   "outputs": [],
   "source": []
  }
 ],
 "metadata": {
  "kernelspec": {
   "display_name": "DESI main",
   "language": "python",
   "name": "desi-main"
  },
  "language_info": {
   "codemirror_mode": {
    "name": "ipython",
    "version": 3
   },
   "file_extension": ".py",
   "mimetype": "text/x-python",
   "name": "python",
   "nbconvert_exporter": "python",
   "pygments_lexer": "ipython3",
   "version": "3.10.14"
  }
 },
 "nbformat": 4,
 "nbformat_minor": 5
}
