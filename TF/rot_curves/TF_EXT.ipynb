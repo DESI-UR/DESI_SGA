{
 "cells": [
  {
   "cell_type": "code",
   "execution_count": null,
   "id": "a821a966-96ab-4122-a1a4-93c5816875bf",
   "metadata": {
    "tags": []
   },
   "outputs": [],
   "source": [
    "import numpy as np\n",
    "from astropy.table import Table, vstack\n",
    "import matplotlib.pyplot as plt\n",
    "from astropy.io import fits\n",
    "from astropy.coordinates import SkyCoord\n",
    "from astropy import units as u"
   ]
  },
  {
   "cell_type": "markdown",
   "id": "24cc7341-5023-4fa0-af92-43c87f845e40",
   "metadata": {},
   "source": [
    "# TF fuji data"
   ]
  },
  {
   "cell_type": "code",
   "execution_count": 42,
   "id": "64ef0282-18de-4e39-907a-10460a1ab8c0",
   "metadata": {
    "tags": []
   },
   "outputs": [
    {
     "data": {
      "text/html": [
       "<div><i>Table length=5</i>\n",
       "<table id=\"table140004426557904\" class=\"table-striped table-bordered table-condensed\">\n",
       "<thead><tr><th>TARGETID</th><th>TARGET_RA</th><th>TARGET_DEC</th><th>HEALPIX</th><th>SURVEY</th><th>Z</th><th>ZERR</th><th>ZWARN</th><th>DELTACHI2</th><th>FILENAME</th><th>PVTYPE</th><th>SGA_ID</th><th>RA</th><th>DEC</th></tr></thead>\n",
       "<thead><tr><th>int64</th><th>float64</th><th>float64</th><th>int64</th><th>bytes3</th><th>float64</th><th>float64</th><th>int64</th><th>float64</th><th>bytes63</th><th>bytes3</th><th>int64</th><th>float64</th><th>float64</th></tr></thead>\n",
       "<tr><td>1079550234591232</td><td>194.390863195343</td><td>27.5157211790145</td><td>10378</td><td>sv3</td><td>1.1235686466514</td><td>7.31685779475115e-05</td><td>4</td><td>3.28414569795132</td><td>fuji/healpix/sv3/bright/103/10378/redrock-sv3-bright-10378.fits</td><td>EXT</td><td>662902</td><td>194.39086319534337</td><td>27.51572117901454</td></tr>\n",
       "<tr><td>1092744374124544</td><td>194.390863195343</td><td>27.5157211790145</td><td>10378</td><td>sv3</td><td>0.686773088332363</td><td>6.9756676262104e-05</td><td>4</td><td>0.786607094109058</td><td>fuji/healpix/sv3/dark/103/10378/redrock-sv3-dark-10378.fits</td><td>EXT</td><td>662902</td><td>194.39086319534337</td><td>27.51572117901454</td></tr>\n",
       "<tr><td>1092744374124546</td><td>194.364461113654</td><td>27.5037185881314</td><td>10378</td><td>sv3</td><td>0.0242933923052181</td><td>4.95233472646785e-05</td><td>0</td><td>95.428411073226</td><td>fuji/healpix/sv3/dark/103/10378/redrock-sv3-dark-10378.fits</td><td>EXT</td><td>662902</td><td>194.36446111365385</td><td>27.50371858813136</td></tr>\n",
       "<tr><td>1092744369930240</td><td>194.338458724402</td><td>27.4918902690326</td><td>10378</td><td>sv3</td><td>0.0264170223697961</td><td>0.00010139452689994</td><td>0</td><td>9.53278421035066</td><td>fuji/healpix/sv3/dark/103/10378/redrock-sv3-dark-10378.fits</td><td>EXT</td><td>662902</td><td>194.33845872440244</td><td>27.491890269032595</td></tr>\n",
       "<tr><td>1092744374124545</td><td>194.377858465028</td><td>27.5098100780282</td><td>10378</td><td>sv3</td><td>0.211332646769145</td><td>6.68535116703737e-05</td><td>4</td><td>3.73989077657461</td><td>fuji/healpix/sv3/dark/103/10378/redrock-sv3-dark-10378.fits</td><td>EXT</td><td>662902</td><td>194.3778584650283</td><td>27.509810078028195</td></tr>\n",
       "</table></div>"
      ],
      "text/plain": [
       "<Table length=5>\n",
       "    TARGETID        TARGET_RA     ...         RA                DEC        \n",
       "     int64           float64      ...      float64            float64      \n",
       "---------------- ---------------- ... ------------------ ------------------\n",
       "1079550234591232 194.390863195343 ... 194.39086319534337  27.51572117901454\n",
       "1092744374124544 194.390863195343 ... 194.39086319534337  27.51572117901454\n",
       "1092744374124546 194.364461113654 ... 194.36446111365385  27.50371858813136\n",
       "1092744369930240 194.338458724402 ... 194.33845872440244 27.491890269032595\n",
       "1092744374124545 194.377858465028 ...  194.3778584650283 27.509810078028195"
      ]
     },
     "execution_count": 42,
     "metadata": {},
     "output_type": "execute_result"
    }
   ],
   "source": [
    "tf_fuji = Table.read('/global/cfs/projectdirs/desi/science/td/pv/desi_pv_tf_fuji_healpix.fits', format='fits')\n",
    "tf_fuji[:5]"
   ]
  },
  {
   "cell_type": "markdown",
   "id": "5f055f18-739b-4214-b864-9212cb36370d",
   "metadata": {},
   "source": [
    "# TF iron data"
   ]
  },
  {
   "cell_type": "code",
   "execution_count": 43,
   "id": "797cc494-d79b-4038-9b45-368d5de7ccf7",
   "metadata": {
    "tags": []
   },
   "outputs": [
    {
     "data": {
      "text/html": [
       "<div><i>Table length=5</i>\n",
       "<table id=\"table140004426528896\" class=\"table-striped table-bordered table-condensed\">\n",
       "<thead><tr><th>TARGETID</th><th>TARGET_RA</th><th>TARGET_DEC</th><th>HEALPIX</th><th>SURVEY</th><th>Z</th><th>ZERR</th><th>ZWARN</th><th>DELTACHI2</th><th>FILENAME</th><th>PVTYPE</th><th>SGA_ID</th><th>RA</th><th>DEC</th></tr></thead>\n",
       "<thead><tr><th>int64</th><th>float64</th><th>float64</th><th>int64</th><th>bytes4</th><th>float64</th><th>float64</th><th>int64</th><th>float64</th><th>bytes65</th><th>bytes3</th><th>int64</th><th>float64</th><th>float64</th></tr></thead>\n",
       "<tr><td>2852147603439621</td><td>198.369130660983</td><td>36.5372037049171</td><td>10475</td><td>main</td><td>0.815976335547845</td><td>7.38513168100107e-05</td><td>4</td><td>0.128754377365112</td><td>iron/healpix/main/dark/104/10475/redrock-main-dark-10475.fits</td><td>EXT</td><td>649377</td><td>198.36913066098333</td><td>36.537203704917076</td></tr>\n",
       "<tr><td>2399148812795907</td><td>198.371733180003</td><td>36.4994335406917</td><td>10475</td><td>main</td><td>1.11088784970434</td><td>7.48767797671894e-05</td><td>4</td><td>7.9473560154438</td><td>iron/healpix/main/bright/104/10475/redrock-main-bright-10475.fits</td><td>EXT</td><td>649377</td><td>198.37173318000336</td><td>36.499433540691676</td></tr>\n",
       "<tr><td>2399382443917318</td><td>184.845242475328</td><td>49.8157304793777</td><td>10995</td><td>main</td><td>1.14739342108157</td><td>0.000146302276719084</td><td>4</td><td>2.56771463155746</td><td>iron/healpix/main/bright/109/10995/redrock-main-bright-10995.fits</td><td>EXT</td><td>1008911</td><td>184.84524247532795</td><td>49.81573047937771</td></tr>\n",
       "<tr><td>2399634072797192</td><td>184.341289722203</td><td>70.8283725474297</td><td>11965</td><td>main</td><td>1.51703376230705</td><td>6.28979649962091e-05</td><td>4</td><td>4.76254060305655</td><td>iron/healpix/main/bright/119/11965/redrock-main-bright-11965.fits</td><td>EXT</td><td>241234</td><td>184.34128972220284</td><td>70.82837254742968</td></tr>\n",
       "<tr><td>2852141710442505</td><td>123.256011148025</td><td>36.2652948002806</td><td>6448</td><td>main</td><td>0.00787379494184006</td><td>3.4714052819995e-05</td><td>0</td><td>22.1719104201402</td><td>iron/healpix/main/dark/64/6448/redrock-main-dark-6448.fits</td><td>EXT</td><td>31591</td><td>123.25601114802525</td><td>36.26529480028061</td></tr>\n",
       "</table></div>"
      ],
      "text/plain": [
       "<Table length=5>\n",
       "    TARGETID        TARGET_RA     ...         RA                DEC        \n",
       "     int64           float64      ...      float64            float64      \n",
       "---------------- ---------------- ... ------------------ ------------------\n",
       "2852147603439621 198.369130660983 ... 198.36913066098333 36.537203704917076\n",
       "2399148812795907 198.371733180003 ... 198.37173318000336 36.499433540691676\n",
       "2399382443917318 184.845242475328 ... 184.84524247532795  49.81573047937771\n",
       "2399634072797192 184.341289722203 ... 184.34128972220284  70.82837254742968\n",
       "2852141710442505 123.256011148025 ... 123.25601114802525  36.26529480028061"
      ]
     },
     "execution_count": 43,
     "metadata": {},
     "output_type": "execute_result"
    }
   ],
   "source": [
    "tf_iron = Table.read('/global/cfs/projectdirs/desi/science/td/pv/desi_pv_tf_iron_healpix.fits', format='fits')\n",
    "tf_iron[:5]"
   ]
  },
  {
   "cell_type": "markdown",
   "id": "3e32227d-db41-4fce-a255-569bb99e6324",
   "metadata": {},
   "source": [
    "# TF Guadalupe data"
   ]
  },
  {
   "cell_type": "code",
   "execution_count": 44,
   "id": "867c2cbe-d07f-4964-9a8c-8c2faef55276",
   "metadata": {
    "tags": []
   },
   "outputs": [
    {
     "data": {
      "text/html": [
       "<div><i>Table length=5</i>\n",
       "<table id=\"table140004426591056\" class=\"table-striped table-bordered table-condensed\">\n",
       "<thead><tr><th>TARGETID</th><th>TARGET_RA</th><th>TARGET_DEC</th><th>HEALPIX</th><th>SURVEY</th><th>Z</th><th>ZERR</th><th>ZWARN</th><th>DELTACHI2</th><th>FILENAME</th><th>PVTYPE</th><th>SGA_ID</th><th>RA</th><th>DEC</th></tr></thead>\n",
       "<thead><tr><th>int64</th><th>float64</th><th>float64</th><th>int64</th><th>bytes7</th><th>float64</th><th>float64</th><th>int64</th><th>float64</th><th>bytes76</th><th>bytes3</th><th>int64</th><th>float64</th><th>float64</th></tr></thead>\n",
       "<tr><td>2399124498415623</td><td>214.013122385853</td><td>35.3145314097487</td><td>10511</td><td>main</td><td>1.377580664732</td><td>9.84449640590381e-05</td><td>4</td><td>5.34532008320093</td><td>guadalupe/healpix/main/bright/105/10511/redrock-main-bright-10511.fits</td><td>EXT</td><td>1229423</td><td>214.01312238585328</td><td>35.3145314097487</td></tr>\n",
       "<tr><td>2412318637948931</td><td>214.04164239659</td><td>35.3585395889941</td><td>10511</td><td>main</td><td>0.0136149298283923</td><td>3.84349317724892e-05</td><td>0</td><td>105.808545001011</td><td>guadalupe/healpix/main/dark/105/10511/redrock-main-dark-10511.fits</td><td>EXT</td><td>1229423</td><td>214.04164239658957</td><td>35.35853958899406</td></tr>\n",
       "<tr><td>2412333884243973</td><td>249.490218609158</td><td>36.058332514444</td><td>9433</td><td>main</td><td>0.790966031999166</td><td>5.68528719021782e-05</td><td>4</td><td>6.58435443043709</td><td>guadalupe/healpix/main/dark/94/9433/redrock-main-dark-9433.fits</td><td>EXT</td><td>306417</td><td>249.4902186091578</td><td>36.058332514444025</td></tr>\n",
       "<tr><td>2412428541296646</td><td>246.94530009636</td><td>40.9339918585217</td><td>9471</td><td>main</td><td>1.59672805899643</td><td>0.00021512202669222</td><td>0</td><td>21.9079817682505</td><td>guadalupe/healpix/main/dark/94/9471/redrock-main-dark-9471.fits</td><td>EXT</td><td>1141359</td><td>246.94530009636003</td><td>40.93399185852167</td></tr>\n",
       "<tr><td>2411343818784770</td><td>207.304942983762</td><td>-7.21204274377769</td><td>25721</td><td>main</td><td>0.0251758506722491</td><td>5.63666872037601e-05</td><td>0</td><td>18.4876595666283</td><td>guadalupe/healpix/main/dark/257/25721/redrock-main-dark-25721.fits</td><td>EXT</td><td>528682</td><td>207.30494298376212</td><td>-7.212042743777691</td></tr>\n",
       "</table></div>"
      ],
      "text/plain": [
       "<Table length=5>\n",
       "    TARGETID        TARGET_RA     ...         RA                DEC        \n",
       "     int64           float64      ...      float64            float64      \n",
       "---------------- ---------------- ... ------------------ ------------------\n",
       "2399124498415623 214.013122385853 ... 214.01312238585328   35.3145314097487\n",
       "2412318637948931  214.04164239659 ... 214.04164239658957  35.35853958899406\n",
       "2412333884243973 249.490218609158 ...  249.4902186091578 36.058332514444025\n",
       "2412428541296646  246.94530009636 ... 246.94530009636003  40.93399185852167\n",
       "2411343818784770 207.304942983762 ... 207.30494298376212 -7.212042743777691"
      ]
     },
     "execution_count": 44,
     "metadata": {},
     "output_type": "execute_result"
    }
   ],
   "source": [
    "tf_guadalupe = Table.read('/global/cfs/projectdirs/desi/science/td/pv/desi_pv_tf_guadalupe_healpix.fits', format='fits')\n",
    "tf_guadalupe[:5]"
   ]
  },
  {
   "cell_type": "markdown",
   "id": "864267d8-3226-4f7d-9dfd-3f15c191c5f2",
   "metadata": {},
   "source": [
    "# TF master table\n",
    "combining all data releases with flag ['DR'] </br>\n",
    "1: FUJI</br>\n",
    "2: IRON</br>\n",
    "3: GUADALUPE"
   ]
  },
  {
   "cell_type": "code",
   "execution_count": 45,
   "id": "c2728584-65f1-4d70-84e8-4b632dd9d341",
   "metadata": {
    "tags": []
   },
   "outputs": [
    {
     "data": {
      "text/html": [
       "<div><i>Table length=5</i>\n",
       "<table id=\"table140004097294192\" class=\"table-striped table-bordered table-condensed\">\n",
       "<thead><tr><th>TARGETID</th><th>TARGET_RA</th><th>TARGET_DEC</th><th>HEALPIX</th><th>SURVEY</th><th>Z</th><th>ZERR</th><th>ZWARN</th><th>DELTACHI2</th><th>FILENAME</th><th>PVTYPE</th><th>SGA_ID</th><th>RA</th><th>DEC</th><th>DR</th></tr></thead>\n",
       "<thead><tr><th>int64</th><th>float64</th><th>float64</th><th>int64</th><th>bytes7</th><th>float64</th><th>float64</th><th>int64</th><th>float64</th><th>bytes76</th><th>bytes3</th><th>int64</th><th>float64</th><th>float64</th><th>int64</th></tr></thead>\n",
       "<tr><td>1079550234591232</td><td>194.390863195343</td><td>27.5157211790145</td><td>10378</td><td>sv3</td><td>1.1235686466514</td><td>7.31685779475115e-05</td><td>4</td><td>3.28414569795132</td><td>fuji/healpix/sv3/bright/103/10378/redrock-sv3-bright-10378.fits</td><td>EXT</td><td>662902</td><td>194.39086319534337</td><td>27.51572117901454</td><td>1</td></tr>\n",
       "<tr><td>1092744374124544</td><td>194.390863195343</td><td>27.5157211790145</td><td>10378</td><td>sv3</td><td>0.686773088332363</td><td>6.9756676262104e-05</td><td>4</td><td>0.786607094109058</td><td>fuji/healpix/sv3/dark/103/10378/redrock-sv3-dark-10378.fits</td><td>EXT</td><td>662902</td><td>194.39086319534337</td><td>27.51572117901454</td><td>1</td></tr>\n",
       "<tr><td>1092744374124546</td><td>194.364461113654</td><td>27.5037185881314</td><td>10378</td><td>sv3</td><td>0.0242933923052181</td><td>4.95233472646785e-05</td><td>0</td><td>95.428411073226</td><td>fuji/healpix/sv3/dark/103/10378/redrock-sv3-dark-10378.fits</td><td>EXT</td><td>662902</td><td>194.36446111365385</td><td>27.50371858813136</td><td>1</td></tr>\n",
       "<tr><td>1092744369930240</td><td>194.338458724402</td><td>27.4918902690326</td><td>10378</td><td>sv3</td><td>0.0264170223697961</td><td>0.00010139452689994</td><td>0</td><td>9.53278421035066</td><td>fuji/healpix/sv3/dark/103/10378/redrock-sv3-dark-10378.fits</td><td>EXT</td><td>662902</td><td>194.33845872440244</td><td>27.491890269032595</td><td>1</td></tr>\n",
       "<tr><td>1092744374124545</td><td>194.377858465028</td><td>27.5098100780282</td><td>10378</td><td>sv3</td><td>0.211332646769145</td><td>6.68535116703737e-05</td><td>4</td><td>3.73989077657461</td><td>fuji/healpix/sv3/dark/103/10378/redrock-sv3-dark-10378.fits</td><td>EXT</td><td>662902</td><td>194.3778584650283</td><td>27.509810078028195</td><td>1</td></tr>\n",
       "</table></div>"
      ],
      "text/plain": [
       "<Table length=5>\n",
       "    TARGETID        TARGET_RA        TARGET_DEC    ...        DEC           DR \n",
       "     int64           float64          float64      ...      float64       int64\n",
       "---------------- ---------------- ---------------- ... ------------------ -----\n",
       "1079550234591232 194.390863195343 27.5157211790145 ...  27.51572117901454     1\n",
       "1092744374124544 194.390863195343 27.5157211790145 ...  27.51572117901454     1\n",
       "1092744374124546 194.364461113654 27.5037185881314 ...  27.50371858813136     1\n",
       "1092744369930240 194.338458724402 27.4918902690326 ... 27.491890269032595     1\n",
       "1092744374124545 194.377858465028 27.5098100780282 ... 27.509810078028195     1"
      ]
     },
     "execution_count": 45,
     "metadata": {},
     "output_type": "execute_result"
    }
   ],
   "source": [
    "tf_fuji['DR'] = 1\n",
    "tf_iron['DR'] = 2\n",
    "tf_guadalupe['DR'] = 3\n",
    "\n",
    "tf_master_table = vstack([tf_fuji, tf_iron, tf_guadalupe])\n",
    "\n",
    "tf_master_table[:5]"
   ]
  },
  {
   "cell_type": "code",
   "execution_count": 46,
   "id": "5de228cc-58ac-49d7-b9bf-c473c9c012b7",
   "metadata": {
    "tags": []
   },
   "outputs": [],
   "source": [
    "tf_master_table.write('/pscratch/sd/n/nravi/desi_pv_tf_master_healpix.fits', format='fits', overwrite=True)"
   ]
  },
  {
   "cell_type": "markdown",
   "id": "d2923106-1404-43b8-9bb5-e18d33615e5e",
   "metadata": {},
   "source": [
    "# SGA table"
   ]
  },
  {
   "cell_type": "code",
   "execution_count": 47,
   "id": "1da235f0-d899-43c0-8e5b-2703ea72a2b9",
   "metadata": {
    "tags": []
   },
   "outputs": [
    {
     "data": {
      "text/html": [
       "<div><i>Table length=5</i>\n",
       "<table id=\"table140004077966432\" class=\"table-striped table-bordered table-condensed\">\n",
       "<thead><tr><th>SGA_ID</th><th>SGA_GALAXY</th><th>GALAXY</th><th>PGC</th><th>RA_LEDA</th><th>DEC_LEDA</th><th>MORPHTYPE</th><th>PA_LEDA</th><th>D25_LEDA</th><th>BA_LEDA</th><th>Z_LEDA</th><th>SB_D25_LEDA</th><th>MAG_LEDA</th><th>BYHAND</th><th>REF</th><th>GROUP_ID</th><th>GROUP_NAME</th><th>GROUP_MULT</th><th>GROUP_PRIMARY</th><th>GROUP_RA</th><th>GROUP_DEC</th><th>GROUP_DIAMETER</th><th>BRICKNAME</th><th>RA</th><th>DEC</th><th>D26</th><th>D26_REF</th><th>PA</th><th>BA</th><th>RA_MOMENT</th><th>DEC_MOMENT</th><th>SMA_MOMENT</th><th>G_SMA50</th><th>R_SMA50</th><th>Z_SMA50</th><th>SMA_SB22</th><th>SMA_SB22.5</th><th>SMA_SB23</th><th>SMA_SB23.5</th><th>SMA_SB24</th><th>SMA_SB24.5</th><th>SMA_SB25</th><th>SMA_SB25.5</th><th>SMA_SB26</th><th>G_MAG_SB22</th><th>R_MAG_SB22</th><th>Z_MAG_SB22</th><th>G_MAG_SB22.5</th><th>R_MAG_SB22.5</th><th>Z_MAG_SB22.5</th><th>G_MAG_SB23</th><th>R_MAG_SB23</th><th>Z_MAG_SB23</th><th>G_MAG_SB23.5</th><th>R_MAG_SB23.5</th><th>Z_MAG_SB23.5</th><th>G_MAG_SB24</th><th>R_MAG_SB24</th><th>Z_MAG_SB24</th><th>G_MAG_SB24.5</th><th>R_MAG_SB24.5</th><th>Z_MAG_SB24.5</th><th>G_MAG_SB25</th><th>R_MAG_SB25</th><th>Z_MAG_SB25</th><th>G_MAG_SB25.5</th><th>R_MAG_SB25.5</th><th>Z_MAG_SB25.5</th><th>G_MAG_SB26</th><th>R_MAG_SB26</th><th>Z_MAG_SB26</th><th>SMA_SB22_ERR</th><th>SMA_SB22.5_ERR</th><th>SMA_SB23_ERR</th><th>SMA_SB23.5_ERR</th><th>SMA_SB24_ERR</th><th>SMA_SB24.5_ERR</th><th>SMA_SB25_ERR</th><th>SMA_SB25.5_ERR</th><th>SMA_SB26_ERR</th><th>G_MAG_SB22_ERR</th><th>R_MAG_SB22_ERR</th><th>Z_MAG_SB22_ERR</th><th>G_MAG_SB22.5_ERR</th><th>R_MAG_SB22.5_ERR</th><th>Z_MAG_SB22.5_ERR</th><th>G_MAG_SB23_ERR</th><th>R_MAG_SB23_ERR</th><th>Z_MAG_SB23_ERR</th><th>G_MAG_SB23.5_ERR</th><th>R_MAG_SB23.5_ERR</th><th>Z_MAG_SB23.5_ERR</th><th>G_MAG_SB24_ERR</th><th>R_MAG_SB24_ERR</th><th>Z_MAG_SB24_ERR</th><th>G_MAG_SB24.5_ERR</th><th>R_MAG_SB24.5_ERR</th><th>Z_MAG_SB24.5_ERR</th><th>G_MAG_SB25_ERR</th><th>R_MAG_SB25_ERR</th><th>Z_MAG_SB25_ERR</th><th>G_MAG_SB25.5_ERR</th><th>R_MAG_SB25.5_ERR</th><th>Z_MAG_SB25.5_ERR</th><th>G_MAG_SB26_ERR</th><th>R_MAG_SB26_ERR</th><th>Z_MAG_SB26_ERR</th><th>G_COG_PARAMS_MTOT</th><th>G_COG_PARAMS_M0</th><th>G_COG_PARAMS_ALPHA1</th><th>G_COG_PARAMS_ALPHA2</th><th>G_COG_PARAMS_CHI2</th><th>R_COG_PARAMS_MTOT</th><th>R_COG_PARAMS_M0</th><th>R_COG_PARAMS_ALPHA1</th><th>R_COG_PARAMS_ALPHA2</th><th>R_COG_PARAMS_CHI2</th><th>Z_COG_PARAMS_MTOT</th><th>Z_COG_PARAMS_M0</th><th>Z_COG_PARAMS_ALPHA1</th><th>Z_COG_PARAMS_ALPHA2</th><th>Z_COG_PARAMS_CHI2</th><th>ELLIPSEBIT</th></tr></thead>\n",
       "<thead><tr><th>int64</th><th>bytes16</th><th>bytes29</th><th>int64</th><th>float64</th><th>float64</th><th>bytes21</th><th>float32</th><th>float32</th><th>float32</th><th>float32</th><th>float32</th><th>float32</th><th>bool</th><th>bytes13</th><th>int64</th><th>bytes35</th><th>int16</th><th>bool</th><th>float64</th><th>float64</th><th>float32</th><th>bytes8</th><th>float64</th><th>float64</th><th>float32</th><th>bytes4</th><th>float32</th><th>float32</th><th>float64</th><th>float64</th><th>float32</th><th>float32</th><th>float32</th><th>float32</th><th>float32</th><th>float32</th><th>float32</th><th>float32</th><th>float32</th><th>float32</th><th>float32</th><th>float32</th><th>float32</th><th>float32</th><th>float32</th><th>float32</th><th>float32</th><th>float32</th><th>float32</th><th>float32</th><th>float32</th><th>float32</th><th>float32</th><th>float32</th><th>float32</th><th>float32</th><th>float32</th><th>float32</th><th>float32</th><th>float32</th><th>float32</th><th>float32</th><th>float32</th><th>float32</th><th>float32</th><th>float32</th><th>float32</th><th>float32</th><th>float32</th><th>float32</th><th>float32</th><th>float32</th><th>float32</th><th>float32</th><th>float32</th><th>float32</th><th>float32</th><th>float32</th><th>float32</th><th>float32</th><th>float32</th><th>float32</th><th>float32</th><th>float32</th><th>float32</th><th>float32</th><th>float32</th><th>float32</th><th>float32</th><th>float32</th><th>float32</th><th>float32</th><th>float32</th><th>float32</th><th>float32</th><th>float32</th><th>float32</th><th>float32</th><th>float32</th><th>float32</th><th>float32</th><th>float32</th><th>float32</th><th>float32</th><th>float32</th><th>float32</th><th>float32</th><th>float32</th><th>float32</th><th>float32</th><th>float32</th><th>float32</th><th>float32</th><th>float32</th><th>float32</th><th>float32</th><th>float32</th><th>float32</th><th>float32</th><th>float32</th><th>float32</th><th>int32</th></tr></thead>\n",
       "<tr><td>2</td><td>SGA-2020 2</td><td>PGC1283207</td><td>1283207</td><td>228.3770865</td><td>5.4232017</td><td>S?</td><td>152.2</td><td>0.36307806</td><td>0.724436</td><td>0.03463229</td><td>23.40448</td><td>16.976</td><td>False</td><td>LEDA-20181114</td><td>0</td><td>PGC1283207</td><td>1</td><td>True</td><td>228.3770865</td><td>5.4232017</td><td>0.36307806</td><td>2283p055</td><td>228.3770803831908</td><td>5.423191398593787</td><td>0.49470574</td><td>SB26</td><td>158.20142</td><td>0.545691</td><td>228.37700918822188</td><td>5.4232652570544015</td><td>10.897086</td><td>3.3509698</td><td>3.1147978</td><td>3.240862</td><td>5.902337</td><td>6.9126143</td><td>7.941369</td><td>8.997992</td><td>10.073601</td><td>11.199986</td><td>12.391357</td><td>13.561038</td><td>14.841172</td><td>16.966799</td><td>16.108246</td><td>15.486356</td><td>16.879545</td><td>16.024958</td><td>15.400715</td><td>16.818878</td><td>15.967034</td><td>15.341793</td><td>16.776297</td><td>15.925804</td><td>15.300776</td><td>16.746685</td><td>15.897334</td><td>15.272053</td><td>16.725166</td><td>15.876816</td><td>15.2521105</td><td>16.708357</td><td>15.862035</td><td>15.237181</td><td>16.696539</td><td>15.851936</td><td>15.226998</td><td>16.689613</td><td>15.844313</td><td>15.21976</td><td>0.013392451</td><td>0.02354</td><td>0.021872982</td><td>0.01736985</td><td>0.024445537</td><td>0.039866067</td><td>0.05026544</td><td>0.08455789</td><td>0.122911856</td><td>0.005682776</td><td>0.0054258136</td><td>0.0049038026</td><td>0.005588406</td><td>0.005323561</td><td>0.0047632363</td><td>0.00543534</td><td>0.005177031</td><td>0.0046343105</td><td>0.0053025587</td><td>0.005040888</td><td>0.0045181247</td><td>0.005206092</td><td>0.0049438984</td><td>0.0044374703</td><td>0.0051483097</td><td>0.0048758644</td><td>0.0043834248</td><td>0.0051032505</td><td>0.0048264163</td><td>0.004344248</td><td>0.0050705094</td><td>0.004792021</td><td>0.004319857</td><td>0.005054293</td><td>0.004765629</td><td>0.0043044444</td><td>16.65942</td><td>0.34037337</td><td>0.2978292</td><td>3.0239506</td><td>0.07928849</td><td>15.820566</td><td>0.2640441</td><td>0.34559453</td><td>3.3033552</td><td>0.003811298</td><td>15.195567</td><td>0.29826432</td><td>0.3001073</td><td>3.2333765</td><td>0.011723555</td><td>0</td></tr>\n",
       "<tr><td>3</td><td>SGA-2020 3</td><td>PGC1310416</td><td>1310416</td><td>202.54443750000002</td><td>6.9345944</td><td>Sc</td><td>159.26</td><td>0.4017908</td><td>0.7816278</td><td>0.073888786</td><td>23.498482</td><td>16.85</td><td>False</td><td>LEDA-20181114</td><td>1</td><td>PGC1310416</td><td>1</td><td>True</td><td>202.54443750000002</td><td>6.9345944</td><td>0.4017908</td><td>2025p070</td><td>202.5444619671207</td><td>6.9346244322326624</td><td>0.55350494</td><td>SB26</td><td>161.5937</td><td>0.7291764</td><td>202.54432739596137</td><td>6.934806737209989</td><td>15.746941</td><td>5.6416235</td><td>5.2647552</td><td>5.0895185</td><td>5.9838247</td><td>7.4356494</td><td>8.728868</td><td>10.087478</td><td>11.529764</td><td>12.818195</td><td>14.115497</td><td>15.319822</td><td>16.605148</td><td>16.963299</td><td>16.307854</td><td>15.806882</td><td>16.729511</td><td>16.097378</td><td>15.615527</td><td>16.606344</td><td>15.990707</td><td>15.518403</td><td>16.525967</td><td>15.917321</td><td>15.450624</td><td>16.462585</td><td>15.859485</td><td>15.397182</td><td>16.419558</td><td>15.820947</td><td>15.36243</td><td>16.390558</td><td>15.796369</td><td>15.338905</td><td>16.376112</td><td>15.782492</td><td>15.323709</td><td>16.364115</td><td>15.773462</td><td>15.313725</td><td>0.036992554</td><td>0.034982767</td><td>0.037769336</td><td>0.049429573</td><td>0.052699674</td><td>0.074114166</td><td>0.07914538</td><td>0.09781406</td><td>0.15534972</td><td>0.016095797</td><td>0.019181909</td><td>0.021539452</td><td>0.013955905</td><td>0.016594552</td><td>0.018640138</td><td>0.012786752</td><td>0.015244632</td><td>0.01715491</td><td>0.011973826</td><td>0.014366956</td><td>0.016208366</td><td>0.011358372</td><td>0.013676575</td><td>0.015474222</td><td>0.010944939</td><td>0.013225297</td><td>0.015011175</td><td>0.010691595</td><td>0.012931233</td><td>0.014687982</td><td>0.010546411</td><td>0.012796015</td><td>0.014518412</td><td>0.010457551</td><td>0.012685407</td><td>0.014379212</td><td>16.284733</td><td>1.0914493</td><td>0.24674739</td><td>2.4320207</td><td>0.68685365</td><td>15.704403</td><td>0.8764323</td><td>0.27360612</td><td>2.4995425</td><td>0.49343896</td><td>15.235263</td><td>1.3098688</td><td>0.17866786</td><td>2.1750498</td><td>0.20391206</td><td>0</td></tr>\n",
       "<tr><td>4</td><td>SGA-2020 4</td><td>SDSSJ145059.93+135143.0</td><td>4435547</td><td>222.749787</td><td>13.8619111</td><td>S?</td><td>44.57</td><td>0.33342642</td><td>0.6637431</td><td>0.07567602</td><td>24.457481</td><td>18.214</td><td>False</td><td>LEDA-20181114</td><td>2</td><td>SDSSJ145059.93+135143.0</td><td>1</td><td>True</td><td>222.749787</td><td>13.8619111</td><td>0.33342642</td><td>2228p137</td><td>222.7497050504303</td><td>13.861929561160224</td><td>0.37067476</td><td>SB26</td><td>45.28537</td><td>0.70922077</td><td>222.749650475464</td><td>13.862052070022896</td><td>8.877115</td><td>4.652771</td><td>4.4837785</td><td>4.4959745</td><td>2.01033</td><td>3.3967943</td><td>4.76257</td><td>6.043787</td><td>7.242806</td><td>8.250407</td><td>9.158723</td><td>10.083457</td><td>11.120243</td><td>19.97595</td><td>19.190666</td><td>18.649523</td><td>19.098536</td><td>18.397219</td><td>17.899643</td><td>18.624952</td><td>17.967802</td><td>17.50231</td><td>18.35278</td><td>17.718002</td><td>17.265854</td><td>18.192762</td><td>17.5654</td><td>17.115404</td><td>18.10496</td><td>17.480022</td><td>17.033989</td><td>18.053415</td><td>17.430794</td><td>16.982971</td><td>18.020155</td><td>17.399996</td><td>16.948252</td><td>17.994783</td><td>17.377092</td><td>16.924469</td><td>0.02113719</td><td>0.03639431</td><td>0.051901262</td><td>0.06539029</td><td>0.08552586</td><td>0.07008602</td><td>0.070394725</td><td>0.08394975</td><td>0.113649584</td><td>0.013428732</td><td>0.017600043</td><td>0.016373685</td><td>0.012251812</td><td>0.014566466</td><td>0.013732588</td><td>0.012644532</td><td>0.014030071</td><td>0.013153961</td><td>0.012747069</td><td>0.013512552</td><td>0.012818239</td><td>0.012865601</td><td>0.01324455</td><td>0.012532208</td><td>0.012762528</td><td>0.013058522</td><td>0.012420634</td><td>0.01252645</td><td>0.012827468</td><td>0.012283978</td><td>0.012320441</td><td>0.012607317</td><td>0.012104107</td><td>0.0121167945</td><td>0.01244376</td><td>0.011985352</td><td>17.896797</td><td>0.5557265</td><td>0.25455818</td><td>3.167909</td><td>1.0522435</td><td>17.28287</td><td>0.4885815</td><td>0.2782499</td><td>3.2144456</td><td>1.3733263</td><td>16.807674</td><td>0.5177045</td><td>0.32264626</td><td>2.900518</td><td>1.8054093</td><td>0</td></tr>\n",
       "<tr><td>7</td><td>SGA-2020 7</td><td>PGC1742504</td><td>1742504</td><td>182.0888085</td><td>25.6022764</td><td>Sbc</td><td>84.97</td><td>0.548277</td><td>0.25118864</td><td>0.10090814</td><td>24.91348</td><td>17.59</td><td>False</td><td>LEDA-20181114</td><td>3</td><td>PGC1742504</td><td>1</td><td>True</td><td>182.0888085</td><td>25.6022764</td><td>0.548277</td><td>1820p255</td><td>182.08882232629614</td><td>25.60226821438983</td><td>0.8883204</td><td>SB26</td><td>84.857475</td><td>0.19753796</td><td>182.08873760544392</td><td>25.602311195157757</td><td>19.779116</td><td>6.5958204</td><td>6.0386286</td><td>5.8089786</td><td>9.279068</td><td>10.949478</td><td>12.652142</td><td>14.446171</td><td>16.323679</td><td>18.392954</td><td>20.915508</td><td>23.566542</td><td>26.649612</td><td>17.390274</td><td>16.360935</td><td>15.531964</td><td>17.285898</td><td>16.262264</td><td>15.440768</td><td>17.2167</td><td>16.195492</td><td>15.380734</td><td>17.16217</td><td>16.144245</td><td>15.334935</td><td>17.130178</td><td>16.110302</td><td>15.304758</td><td>17.104496</td><td>16.084463</td><td>15.280803</td><td>17.081282</td><td>16.061373</td><td>15.2589855</td><td>17.063671</td><td>16.045204</td><td>15.243196</td><td>17.046705</td><td>16.031244</td><td>15.23268</td><td>0.04351465</td><td>0.055440858</td><td>0.052207235</td><td>0.07507412</td><td>0.0793679</td><td>0.10347854</td><td>0.13569456</td><td>0.13104819</td><td>0.17234002</td><td>0.03885276</td><td>0.03744209</td><td>0.03786608</td><td>0.035534665</td><td>0.03441038</td><td>0.03503794</td><td>0.033557214</td><td>0.032548346</td><td>0.033348277</td><td>0.031964395</td><td>0.03106612</td><td>0.031957533</td><td>0.031133845</td><td>0.030202182</td><td>0.031190341</td><td>0.030430589</td><td>0.029511228</td><td>0.030530946</td><td>0.02975241</td><td>0.028853998</td><td>0.029866546</td><td>0.02928568</td><td>0.0284345</td><td>0.029445464</td><td>0.028843498</td><td>0.028076617</td><td>0.029169334</td><td>16.995174</td><td>21.083004</td><td>0.0164273</td><td>1.9079465</td><td>0.029703742</td><td>15.991165</td><td>0.7657307</td><td>0.52285546</td><td>2.3045986</td><td>0.006013103</td><td>15.191324</td><td>1.0408205</td><td>0.32956335</td><td>2.1520333</td><td>0.004725194</td><td>0</td></tr>\n",
       "<tr><td>18</td><td>SGA-2020 18</td><td>2MASXJ12340801+4535444</td><td>3550748</td><td>188.5335525</td><td>45.5956434</td><td>E</td><td>168.65</td><td>0.53088444</td><td>0.6950243</td><td>0.07609531</td><td>23.97948</td><td>16.726</td><td>False</td><td>LEDA-20181114</td><td>4</td><td>2MASXJ12340801+4535444</td><td>1</td><td>True</td><td>188.5335525</td><td>45.5956434</td><td>0.53088444</td><td>1883p455</td><td>188.53364923054596</td><td>45.595620212931856</td><td>0.73435897</td><td>SB26</td><td>166.25127</td><td>0.70995796</td><td>188.53349052789085</td><td>45.59567446403057</td><td>15.694805</td><td>5.091253</td><td>4.670616</td><td>2.9429996</td><td>5.219665</td><td>6.6119533</td><td>8.228266</td><td>10.109745</td><td>12.170589</td><td>14.364073</td><td>16.722517</td><td>19.18709</td><td>22.03077</td><td>17.208511</td><td>16.224203</td><td>15.566424</td><td>17.050343</td><td>16.080097</td><td>15.443468</td><td>16.921791</td><td>15.962402</td><td>15.347263</td><td>16.814959</td><td>15.864242</td><td>15.27134</td><td>16.729906</td><td>15.787886</td><td>15.218466</td><td>16.664564</td><td>15.730083</td><td>15.182751</td><td>16.61991</td><td>15.686324</td><td>15.1601305</td><td>16.585676</td><td>15.654064</td><td>15.148039</td><td>16.558054</td><td>15.629669</td><td>15.141826</td><td>0.032001704</td><td>0.043849397</td><td>0.045203492</td><td>0.072918765</td><td>0.06263939</td><td>0.07675708</td><td>0.10399303</td><td>0.07780949</td><td>0.14017467</td><td>0.016467415</td><td>0.021250801</td><td>0.032092847</td><td>0.0149329165</td><td>0.019061867</td><td>0.028947951</td><td>0.01369758</td><td>0.01736746</td><td>0.026648495</td><td>0.012623343</td><td>0.015980754</td><td>0.024998168</td><td>0.011793644</td><td>0.014977396</td><td>0.023862366</td><td>0.011184664</td><td>0.014255281</td><td>0.023120966</td><td>0.010785815</td><td>0.013740733</td><td>0.022603082</td><td>0.010472503</td><td>0.013351409</td><td>0.022360764</td><td>0.010212836</td><td>0.013043255</td><td>0.022296576</td><td>16.471447</td><td>0.3236818</td><td>1.9206839</td><td>2.3249283</td><td>0.0973919</td><td>15.540598</td><td>0.3247282</td><td>1.7439244</td><td>2.1774826</td><td>0.023485765</td><td>15.124181</td><td>0.16547345</td><td>1.4694684</td><td>3.3948786</td><td>0.028653827</td><td>0</td></tr>\n",
       "</table></div>"
      ],
      "text/plain": [
       "<Table length=5>\n",
       "SGA_ID  SGA_GALAXY          GALAXY         ... Z_COG_PARAMS_CHI2 ELLIPSEBIT\n",
       "int64    bytes16           bytes29         ...      float32        int32   \n",
       "------ ----------- ----------------------- ... ----------------- ----------\n",
       "     2  SGA-2020 2              PGC1283207 ...       0.011723555          0\n",
       "     3  SGA-2020 3              PGC1310416 ...        0.20391206          0\n",
       "     4  SGA-2020 4 SDSSJ145059.93+135143.0 ...         1.8054093          0\n",
       "     7  SGA-2020 7              PGC1742504 ...       0.004725194          0\n",
       "    18 SGA-2020 18  2MASXJ12340801+4535444 ...       0.028653827          0"
      ]
     },
     "execution_count": 47,
     "metadata": {},
     "output_type": "execute_result"
    }
   ],
   "source": [
    "SGA = Table.read('/global/cfs/cdirs/cosmo/data/sga/2020/SGA-2020.fits', 'ELLIPSE')\n",
    "SGA[:5]"
   ]
  },
  {
   "cell_type": "code",
   "execution_count": 48,
   "id": "16df024e-55e0-4df2-ac7d-d9818c611003",
   "metadata": {
    "tags": []
   },
   "outputs": [],
   "source": [
    "SGA_dict={}\n",
    "for i in range(len(SGA)):\n",
    "    SGA_dict[SGA['SGA_ID'][i]] = i"
   ]
  },
  {
   "cell_type": "markdown",
   "id": "a8f8524a-27e2-49f3-85aa-5bf6592257b8",
   "metadata": {},
   "source": [
    "# center vs. off-center observations"
   ]
  },
  {
   "cell_type": "code",
   "execution_count": 49,
   "id": "017510f4-9045-4d82-be9e-50b51672817d",
   "metadata": {
    "tags": []
   },
   "outputs": [],
   "source": [
    "tf_master_table['SKY_FIBER_DIST'] = 0.\n",
    "tf_master_table['SKY_FIBER_DIST_R26'] = 0.\n",
    "\n",
    "# For each SGA galaxy that has at least one observation, calculate the distance \n",
    "# for all of that galaxy's targets\n",
    "for sga_id in np.unique(tf_master_table['SGA_ID']):\n",
    "    \n",
    "    # Identify all galaxy targets on this galaxy\n",
    "    obs_idx = tf_master_table['SGA_ID'] == sga_id\n",
    "    \n",
    "    # Find galaxy index in SGA catalog\n",
    "    sga_idx = SGA_dict[sga_id]\n",
    "    \n",
    "    #---------------------------------------------------------------------------\n",
    "    # Calculate distance between each observation and the center of the SGA \n",
    "    # galaxy\n",
    "    #---------------------------------------------------------------------------\n",
    "    SGA_coords = SkyCoord(ra=SGA['RA'][sga_idx], \n",
    "                          dec=SGA['DEC'][sga_idx], \n",
    "                          unit=u.degree)\n",
    "    target_coords = SkyCoord(ra=tf_master_table['RA'][obs_idx], \n",
    "                             dec=tf_master_table['DEC'][obs_idx], \n",
    "                             unit=u.degree)\n",
    "    \n",
    "    sep2d = target_coords.separation(SGA_coords)\n",
    "    \n",
    "    tf_master_table['SKY_FIBER_DIST'][obs_idx] = sep2d\n",
    "    tf_master_table['SKY_FIBER_DIST_R26'][obs_idx] = 2*sep2d.to('arcmin')/(SGA['D26'][sga_idx]*u.arcmin)"
   ]
  },
  {
   "cell_type": "code",
   "execution_count": 10,
   "id": "5cfe4330-8c2c-4c42-8ba0-1bd205115e9f",
   "metadata": {
    "tags": []
   },
   "outputs": [],
   "source": [
    "tf_ext = tf_master_table[tf_master_table['PVTYPE']=='EXT']"
   ]
  },
  {
   "cell_type": "markdown",
   "id": "d5eb6bb5-2f94-4e59-89bb-7f74f7608587",
   "metadata": {},
   "source": [
    "# Sort EXT observations\n",
    "want EOA flag, want to VI EOA galaxies to make sure only fibers on galaxy are included"
   ]
  },
  {
   "cell_type": "code",
   "execution_count": 11,
   "id": "3f6281ea-91fd-41a6-a67c-adb5d7c420eb",
   "metadata": {
    "tags": []
   },
   "outputs": [],
   "source": [
    "tf_ext_sga_ids = np.unique(tf_ext['SGA_ID'])\n",
    "tf_master_table['EXT'] = 0.\n",
    "\n",
    "# flag all observations belonging to EXT galaxies\n",
    "\n",
    "for i in range(len(tf_master_table)):\n",
    "    if tf_master_table['SGA_ID'][i] in tf_ext_sga_ids:\n",
    "        tf_master_table['EXT'][i] = 1\n",
    "        "
   ]
  },
  {
   "cell_type": "code",
   "execution_count": 12,
   "id": "b95cc425-6a04-4446-9966-c97198bd096e",
   "metadata": {
    "tags": []
   },
   "outputs": [
    {
     "data": {
      "text/html": [
       "<div><i>Table length=5</i>\n",
       "<table id=\"table140004759019584\" class=\"table-striped table-bordered table-condensed\">\n",
       "<thead><tr><th>GALAXY</th><th>RA</th><th>DEC</th></tr></thead>\n",
       "<thead><tr><th>bytes11</th><th>float64</th><th>float64</th></tr></thead>\n",
       "<tr><td>NGC4761</td><td>193.29086531640286</td><td>-9.197860127650477</td></tr>\n",
       "<tr><td>NGC4761</td><td>193.25307026043834</td><td>-9.187776242212069</td></tr>\n",
       "<tr><td>NGC4761</td><td>193.26884118382742</td><td>-9.20154030566786</td></tr>\n",
       "<tr><td>NGC4761</td><td>193.26838380153842</td><td>-9.198178779994157</td></tr>\n",
       "<tr><td>NGC4761</td><td>193.27011185413699</td><td>-9.199483271700393</td></tr>\n",
       "</table></div>"
      ],
      "text/plain": [
       "<Table length=5>\n",
       " GALAXY         RA                DEC        \n",
       "bytes11      float64            float64      \n",
       "------- ------------------ ------------------\n",
       "NGC4761 193.29086531640286 -9.197860127650477\n",
       "NGC4761 193.25307026043834 -9.187776242212069\n",
       "NGC4761 193.26884118382742  -9.20154030566786\n",
       "NGC4761 193.26838380153842 -9.198178779994157\n",
       "NGC4761 193.27011185413699 -9.199483271700393"
      ]
     },
     "execution_count": 12,
     "metadata": {},
     "output_type": "execute_result"
    }
   ],
   "source": [
    "off_axis = Table.read('/global/homes/n/nravi/SGA_off-axis_targets.fits', format='fits')\n",
    "off_axis[:5]"
   ]
  },
  {
   "cell_type": "code",
   "execution_count": 23,
   "id": "ce1fb94b-479f-4764-b1a1-1e2676753762",
   "metadata": {
    "tags": []
   },
   "outputs": [],
   "source": [
    "ra_dec_dict = {}\n",
    "for i in range(len(tf_master_table)):\n",
    "    ra_dec_dict[('%.8f'%(tf_master_table['TARGET_RA'][i]),'%.8f'%(tf_master_table['TARGET_DEC'][i]))] = i"
   ]
  },
  {
   "cell_type": "code",
   "execution_count": 24,
   "id": "6587dd08-5011-4f85-b48f-c52e4d0f7b69",
   "metadata": {
    "tags": []
   },
   "outputs": [],
   "source": [
    "tf_master_table['EOA'] = 0"
   ]
  },
  {
   "cell_type": "code",
   "execution_count": 25,
   "id": "667552dc-6cfb-4d6b-9f1c-aa99a8bb5e3c",
   "metadata": {
    "tags": []
   },
   "outputs": [
    {
     "data": {
      "text/html": [
       "<div><i>Table length=5</i>\n",
       "<table id=\"table140004484438480\" class=\"table-striped table-bordered table-condensed\">\n",
       "<thead><tr><th>TARGETID</th><th>TARGET_RA</th><th>TARGET_DEC</th><th>HEALPIX</th><th>SURVEY</th><th>Z</th><th>ZERR</th><th>ZWARN</th><th>DELTACHI2</th><th>FILENAME</th><th>PVTYPE</th><th>SGA_ID</th><th>RA</th><th>DEC</th><th>DR</th><th>SKY_FIBER_DIST</th><th>SKY_FIBER_DIST_R26</th><th>EXT</th><th>EOA</th></tr></thead>\n",
       "<thead><tr><th>int64</th><th>float64</th><th>float64</th><th>int64</th><th>bytes7</th><th>float64</th><th>float64</th><th>int64</th><th>float64</th><th>bytes76</th><th>bytes3</th><th>int64</th><th>float64</th><th>float64</th><th>int64</th><th>float64</th><th>float64</th><th>float64</th><th>int64</th></tr></thead>\n",
       "<tr><td>1079550234591232</td><td>194.390863195343</td><td>27.5157211790145</td><td>10378</td><td>sv3</td><td>1.1235686466514</td><td>7.31685779475115e-05</td><td>4</td><td>3.28414569795132</td><td>fuji/healpix/sv3/bright/103/10378/redrock-sv3-bright-10378.fits</td><td>EXT</td><td>662902</td><td>194.39086319534337</td><td>27.51572117901454</td><td>1</td><td>0.03927420444753712</td><td>1.0000000170652443</td><td>1.0</td><td>0</td></tr>\n",
       "<tr><td>1092744374124544</td><td>194.390863195343</td><td>27.5157211790145</td><td>10378</td><td>sv3</td><td>0.686773088332363</td><td>6.9756676262104e-05</td><td>4</td><td>0.786607094109058</td><td>fuji/healpix/sv3/dark/103/10378/redrock-sv3-dark-10378.fits</td><td>EXT</td><td>662902</td><td>194.39086319534337</td><td>27.51572117901454</td><td>1</td><td>0.03927420444753712</td><td>1.0000000170652443</td><td>1.0</td><td>0</td></tr>\n",
       "<tr><td>1092744374124546</td><td>194.364461113654</td><td>27.5037185881314</td><td>10378</td><td>sv3</td><td>0.0242933923052181</td><td>4.95233472646785e-05</td><td>0</td><td>95.428411073226</td><td>fuji/healpix/sv3/dark/103/10378/redrock-sv3-dark-10378.fits</td><td>EXT</td><td>662902</td><td>194.36446111365385</td><td>27.50371858813136</td><td>1</td><td>0.012960487467698754</td><td>0.3300000056318236</td><td>1.0</td><td>0</td></tr>\n",
       "<tr><td>1092744369930240</td><td>194.338458724402</td><td>27.4918902690326</td><td>10378</td><td>sv3</td><td>0.0264170223697961</td><td>0.00010139452689994</td><td>0</td><td>9.53278421035066</td><td>fuji/healpix/sv3/dark/103/10378/redrock-sv3-dark-10378.fits</td><td>EXT</td><td>662902</td><td>194.33845872440244</td><td>27.491890269032595</td><td>1</td><td>0.012960487467685656</td><td>0.33000000563149007</td><td>1.0</td><td>0</td></tr>\n",
       "<tr><td>1092744374124545</td><td>194.377858465028</td><td>27.5098100780282</td><td>10378</td><td>sv3</td><td>0.211332646769145</td><td>6.68535116703737e-05</td><td>4</td><td>3.73989077657461</td><td>fuji/healpix/sv3/dark/103/10378/redrock-sv3-dark-10378.fits</td><td>EXT</td><td>662902</td><td>194.3778584650283</td><td>27.509810078028195</td><td>1</td><td>0.026313716979861984</td><td>0.6700000114340222</td><td>1.0</td><td>0</td></tr>\n",
       "</table></div>"
      ],
      "text/plain": [
       "<Table length=5>\n",
       "    TARGETID        TARGET_RA        TARGET_DEC    ...   EXT    EOA \n",
       "     int64           float64          float64      ... float64 int64\n",
       "---------------- ---------------- ---------------- ... ------- -----\n",
       "1079550234591232 194.390863195343 27.5157211790145 ...     1.0     0\n",
       "1092744374124544 194.390863195343 27.5157211790145 ...     1.0     0\n",
       "1092744374124546 194.364461113654 27.5037185881314 ...     1.0     0\n",
       "1092744369930240 194.338458724402 27.4918902690326 ...     1.0     0\n",
       "1092744374124545 194.377858465028 27.5098100780282 ...     1.0     0"
      ]
     },
     "execution_count": 25,
     "metadata": {},
     "output_type": "execute_result"
    }
   ],
   "source": [
    "tf_master_table[:5]"
   ]
  },
  {
   "cell_type": "code",
   "execution_count": 26,
   "id": "797b67dd-a708-4e38-a040-0e5ac393f527",
   "metadata": {
    "tags": []
   },
   "outputs": [],
   "source": [
    "for i in range(len(off_axis)):\n",
    "    try:\n",
    "        i_m = ra_dec_dict[('%.8f'%(off_axis['RA'][i]), '%.8f'%(off_axis['DEC'][i]))]\n",
    "    except:\n",
    "        #print(i)\n",
    "        continue\n",
    "    \n",
    "    tf_master_table['EOA'][i_m] = 1"
   ]
  },
  {
   "cell_type": "code",
   "execution_count": 27,
   "id": "73257bac-f5b0-4967-a314-7061ea87ac4a",
   "metadata": {
    "tags": []
   },
   "outputs": [
    {
     "data": {
      "text/html": [
       "<div><i>Table length=0</i>\n",
       "<table id=\"table140004759116960\" class=\"table-striped table-bordered table-condensed\">\n",
       "<thead><tr><th>TARGETID</th><th>TARGET_RA</th><th>TARGET_DEC</th><th>HEALPIX</th><th>SURVEY</th><th>Z</th><th>ZERR</th><th>ZWARN</th><th>DELTACHI2</th><th>FILENAME</th><th>PVTYPE</th><th>SGA_ID</th><th>RA</th><th>DEC</th><th>DR</th><th>SKY_FIBER_DIST</th><th>SKY_FIBER_DIST_R26</th><th>EXT</th><th>EOA</th></tr></thead>\n",
       "<thead><tr><th>int64</th><th>float64</th><th>float64</th><th>int64</th><th>bytes7</th><th>float64</th><th>float64</th><th>int64</th><th>float64</th><th>bytes76</th><th>bytes3</th><th>int64</th><th>float64</th><th>float64</th><th>int64</th><th>float64</th><th>float64</th><th>float64</th><th>int64</th></tr></thead>\n",
       "</table></div>"
      ],
      "text/plain": [
       "<Table length=0>\n",
       "TARGETID TARGET_RA TARGET_DEC HEALPIX ... SKY_FIBER_DIST_R26   EXT    EOA \n",
       " int64    float64   float64    int64  ...      float64       float64 int64\n",
       "-------- --------- ---------- ------- ... ------------------ ------- -----"
      ]
     },
     "execution_count": 27,
     "metadata": {},
     "output_type": "execute_result"
    }
   ],
   "source": [
    "tf_master_table[tf_master_table['EOA'] > 0]"
   ]
  },
  {
   "cell_type": "code",
   "execution_count": 29,
   "id": "99419a49-7af8-45ca-99ed-12af211966c6",
   "metadata": {
    "tags": []
   },
   "outputs": [],
   "source": [
    "tf_master_table.write('/pscratch/sd/n/nravi/desi_pv_tf_master_healpix.fits', format='fits', overwrite=True)"
   ]
  },
  {
   "cell_type": "code",
   "execution_count": 30,
   "id": "c0f29667-6740-4baa-9615-c99b0339165c",
   "metadata": {
    "tags": []
   },
   "outputs": [],
   "source": [
    "tf_ext_targets = tf_master_table[tf_master_table['EXT']==1]\n",
    "tf_ext_sga = tf_ext_targets[np.logical_and(tf_ext_targets['TARGETID'] > 30000000000000000, tf_ext_targets['TARGETID'] < 40000000000000000)]"
   ]
  },
  {
   "cell_type": "code",
   "execution_count": 31,
   "id": "ba6ca0f8-2e5c-45fa-abe8-7f5a17b5f80b",
   "metadata": {
    "tags": []
   },
   "outputs": [
    {
     "data": {
      "text/plain": [
       "(array([ 19, 122]),)"
      ]
     },
     "execution_count": 31,
     "metadata": {},
     "output_type": "execute_result"
    }
   ],
   "source": [
    "a, b = np.unique(tf_ext_targets['SGA_ID'], return_counts=True)\n",
    "np.where(tf_ext_sga['SGA_ID'] == a[48])"
   ]
  },
  {
   "cell_type": "code",
   "execution_count": 32,
   "id": "b20d0654-9df4-4534-ade8-1e853d1e370c",
   "metadata": {
    "tags": []
   },
   "outputs": [
    {
     "data": {
      "text/html": [
       "<div><i>Table length=5</i>\n",
       "<table id=\"table140004484441808\" class=\"table-striped table-bordered table-condensed\">\n",
       "<thead><tr><th>TARGETID</th><th>TARGET_RA</th><th>TARGET_DEC</th><th>HEALPIX</th><th>SURVEY</th><th>Z</th><th>ZERR</th><th>ZWARN</th><th>DELTACHI2</th><th>FILENAME</th><th>PVTYPE</th><th>SGA_ID</th><th>RA</th><th>DEC</th><th>DR</th><th>SKY_FIBER_DIST</th><th>SKY_FIBER_DIST_R26</th><th>EXT</th><th>EOA</th></tr></thead>\n",
       "<thead><tr><th>int64</th><th>float64</th><th>float64</th><th>int64</th><th>bytes7</th><th>float64</th><th>float64</th><th>int64</th><th>float64</th><th>bytes76</th><th>bytes3</th><th>int64</th><th>float64</th><th>float64</th><th>int64</th><th>float64</th><th>float64</th><th>float64</th><th>int64</th></tr></thead>\n",
       "<tr><td>39633062551620033</td><td>153.178857933669</td><td>39.3739445564769</td><td>5703</td><td>sv1</td><td>0.022711924294578</td><td>5.75568615760296e-07</td><td>0</td><td>641871.757860661</td><td>fuji/healpix/sv1/bright/57/5703/redrock-sv1-bright-5703.fits</td><td>EXT</td><td>1037949</td><td>153.17885793366855</td><td>39.3739445564769</td><td>1</td><td>0.0</td><td>0.0</td><td>1.0</td><td>0</td></tr>\n",
       "<tr><td>39633062056692288</td><td>115.163713024568</td><td>39.2330431988692</td><td>6560</td><td>sv1</td><td>0.0112289665628835</td><td>2.5580485409679e-06</td><td>0</td><td>199314.054352144</td><td>fuji/healpix/sv1/bright/65/6560/redrock-sv1-bright-6560.fits</td><td>EXT</td><td>17643</td><td>115.16371302456768</td><td>39.2330431988692</td><td>1</td><td>1.1007441864020942e-14</td><td>2.0732856604950621e-13</td><td>1.0</td><td>0</td></tr>\n",
       "<tr><td>39627865758633464</td><td>150.11281896177</td><td>3.37442274219938</td><td>27345</td><td>sv3</td><td>0.00687190356978907</td><td>1.5141461957797e-06</td><td>0</td><td>24405.1790848412</td><td>fuji/healpix/sv3/bright/273/27345/redrock-sv3-bright-27345.fits</td><td>EXT</td><td>1225398</td><td>150.1128189617695</td><td>3.3744227421993793</td><td>1</td><td>0.0</td><td>0.0</td><td>1.0</td><td>0</td></tr>\n",
       "<tr><td>39627770296276005</td><td>219.956999318774</td><td>-0.718640392418429</td><td>25933</td><td>sv3</td><td>0.00585538786570846</td><td>4.19501768104605e-06</td><td>0</td><td>2858.02824933385</td><td>fuji/healpix/sv3/bright/259/25933/redrock-sv3-bright-25933.fits</td><td>EXT</td><td>166290</td><td>219.95699931877425</td><td>-0.7186403924184287</td><td>1</td><td>0.0</td><td>0.0</td><td>1.0</td><td>0</td></tr>\n",
       "<tr><td>39628422518932597</td><td>193.522783733207</td><td>27.1486963667462</td><td>28149</td><td>sv3</td><td>0.00127843533483607</td><td>1.61464939000045e-05</td><td>0</td><td>43.380185824275</td><td>fuji/healpix/sv3/bright/281/28149/redrock-sv3-bright-28149.fits</td><td>TFT</td><td>940344</td><td>193.52278373320706</td><td>27.148696366746147</td><td>1</td><td>0.0</td><td>0.0</td><td>1.0</td><td>0</td></tr>\n",
       "</table></div>"
      ],
      "text/plain": [
       "<Table length=5>\n",
       "     TARGETID        TARGET_RA         TARGET_DEC     ...   EXT    EOA \n",
       "      int64           float64           float64       ... float64 int64\n",
       "----------------- ---------------- ------------------ ... ------- -----\n",
       "39633062551620033 153.178857933669   39.3739445564769 ...     1.0     0\n",
       "39633062056692288 115.163713024568   39.2330431988692 ...     1.0     0\n",
       "39627865758633464  150.11281896177   3.37442274219938 ...     1.0     0\n",
       "39627770296276005 219.956999318774 -0.718640392418429 ...     1.0     0\n",
       "39628422518932597 193.522783733207   27.1486963667462 ...     1.0     0"
      ]
     },
     "execution_count": 32,
     "metadata": {},
     "output_type": "execute_result"
    }
   ],
   "source": [
    "tf_ext_sga[:5]"
   ]
  },
  {
   "cell_type": "code",
   "execution_count": 33,
   "id": "463c4dab-9f5e-47cb-bafb-9be0a4907f41",
   "metadata": {
    "tags": []
   },
   "outputs": [
    {
     "name": "stdout",
     "output_type": "stream",
     "text": [
      "No module named 'plot_funcs'\n",
      "/pscratch/sd/n/nravi/tf_ext_vi_cache/39627776327685463.jpg exists.\n"
     ]
    }
   ],
   "source": [
    "# test just one galaxy\n",
    "from inspect_cutouts import *\n",
    "\n"
   ]
  },
  {
   "cell_type": "code",
   "execution_count": 41,
   "id": "86764065-e81b-422b-b6a4-7eb72bab419f",
   "metadata": {
    "tags": []
   },
   "outputs": [
    {
     "name": "stdout",
     "output_type": "stream",
     "text": [
      "Get https://www.legacysurvey.org/viewer/cutout.jpg?ra=150.11281896177&dec=3.37442274219938&zoom=14&layer=ls-dr9&size=512&sga\n",
      "/pscratch/sd/n/nravi/tf_ext_vi_cache/39627865758633464.jpg exists.\n",
      "Get https://www.legacysurvey.org/viewer/cutout.jpg?ra=179.789097798572&dec=52.7075991081414&zoom=14&layer=ls-dr9&size=512&sga\n",
      "/pscratch/sd/n/nravi/tf_ext_vi_cache/39627865758633464.jpg exists.\n",
      "/pscratch/sd/n/nravi/tf_ext_vi_cache/39627865758633464.jpg exists.\n",
      "/pscratch/sd/n/nravi/tf_ext_vi_cache/39633062056692288.jpg exists.\n",
      "Get https://www.legacysurvey.org/viewer/cutout.jpg?ra=219.956999318774&dec=-0.718640392418429&zoom=14&layer=ls-dr9&size=512&sga\n",
      "Get https://www.legacysurvey.org/viewer/cutout.jpg?ra=208.909454506112&dec=4.98431229878542&zoom=14&layer=ls-dr9&size=512&sga\n",
      "/pscratch/sd/n/nravi/tf_ext_vi_cache/39627865758633464.jpg exists.\n",
      "/pscratch/sd/n/nravi/tf_ext_vi_cache/39627770296276005.jpg exists.\n",
      "/pscratch/sd/n/nravi/tf_ext_vi_cache/39633062056692288.jpg exists.\n",
      "/pscratch/sd/n/nravi/tf_ext_vi_cache/39627908943185601.jpg exists.\n",
      "/pscratch/sd/n/nravi/tf_ext_vi_cache/39627770296276005.jpg exists.\n",
      "/pscratch/sd/n/nravi/tf_ext_vi_cache/39627770296276005.jpg exists.\n",
      "/pscratch/sd/n/nravi/tf_ext_vi_cache/39633062056692288.jpg exists.\n",
      "/pscratch/sd/n/nravi/tf_ext_vi_cache/39633062056692288.jpg exists.\n",
      "/pscratch/sd/n/nravi/tf_ext_vi_cache/39633062056692288.jpg exists.\n",
      "/pscratch/sd/n/nravi/tf_ext_vi_cache/39627865758633464.jpg exists.\n",
      "/pscratch/sd/n/nravi/tf_ext_vi_cache/39633062056692288.jpg exists.\n",
      "/pscratch/sd/n/nravi/tf_ext_vi_cache/39633062056692288.jpg exists.\n",
      "/pscratch/sd/n/nravi/tf_ext_vi_cache/39627770296276005.jpg exists.\n",
      "/pscratch/sd/n/nravi/tf_ext_vi_cache/39627865758633464.jpg exists.\n",
      "/pscratch/sd/n/nravi/tf_ext_vi_cache/39633062056692288.jpg exists.\n",
      "/pscratch/sd/n/nravi/tf_ext_vi_cache/39627908943185601.jpg exists.\n",
      "/pscratch/sd/n/nravi/tf_ext_vi_cache/39627770296276005.jpg exists.\n",
      "/pscratch/sd/n/nravi/tf_ext_vi_cache/39633062056692288.jpg exists.\n",
      "Get https://www.legacysurvey.org/viewer/cutout.jpg?ra=187.686481418814&dec=57.3003307627216&zoom=14&layer=ls-dr9&size=512&sga\n",
      "/pscratch/sd/n/nravi/tf_ext_vi_cache/39627865758633464.jpg exists.\n",
      "/pscratch/sd/n/nravi/tf_ext_vi_cache/39627865758633464.jpg exists.\n",
      "Get https://www.legacysurvey.org/viewer/cutout.jpg?ra=193.522783733207&dec=27.1486963667462&zoom=14&layer=ls-dr9&size=512&sga\n",
      "/pscratch/sd/n/nravi/tf_ext_vi_cache/39633062056692288.jpg exists.\n",
      "/pscratch/sd/n/nravi/tf_ext_vi_cache/39627865758633464.jpg exists.\n",
      "/pscratch/sd/n/nravi/tf_ext_vi_cache/39628422518932597.jpg exists.\n",
      "/pscratch/sd/n/nravi/tf_ext_vi_cache/39627865758633464.jpg exists.\n",
      "/pscratch/sd/n/nravi/tf_ext_vi_cache/39628422518932597.jpg exists.\n",
      "/pscratch/sd/n/nravi/tf_ext_vi_cache/39633062056692288.jpg exists.\n",
      "/pscratch/sd/n/nravi/tf_ext_vi_cache/39627770296276005.jpg exists.\n",
      "/pscratch/sd/n/nravi/tf_ext_vi_cache/39627770296276005.jpg exists.\n",
      "/pscratch/sd/n/nravi/tf_ext_vi_cache/39627770296276005.jpg exists.\n",
      "/pscratch/sd/n/nravi/tf_ext_vi_cache/39633062056692288.jpg exists.\n",
      "/pscratch/sd/n/nravi/tf_ext_vi_cache/39627770296276005.jpg exists.\n",
      "/pscratch/sd/n/nravi/tf_ext_vi_cache/39627770296276005.jpg exists.\n",
      "/pscratch/sd/n/nravi/tf_ext_vi_cache/39627865758633464.jpg exists.\n",
      "Get https://www.legacysurvey.org/viewer/cutout.jpg?ra=182.637190252156&dec=58.3038276715363&zoom=14&layer=ls-dr9&size=512&sga\n",
      "/pscratch/sd/n/nravi/tf_ext_vi_cache/39633062056692288.jpg exists.\n",
      "/pscratch/sd/n/nravi/tf_ext_vi_cache/39633062056692288.jpg exists.\n",
      "/pscratch/sd/n/nravi/tf_ext_vi_cache/39628422518932597.jpg exists.\n",
      "/pscratch/sd/n/nravi/tf_ext_vi_cache/39627770296276005.jpg exists.\n",
      "/pscratch/sd/n/nravi/tf_ext_vi_cache/39627776327685463.jpg exists.\n",
      "/pscratch/sd/n/nravi/tf_ext_vi_cache/39627865758633464.jpg exists.\n",
      "/pscratch/sd/n/nravi/tf_ext_vi_cache/39633062056692288.jpg exists.\n",
      "/pscratch/sd/n/nravi/tf_ext_vi_cache/39627770296276005.jpg exists.\n",
      "/pscratch/sd/n/nravi/tf_ext_vi_cache/39633289689958525.jpg exists.\n",
      "/pscratch/sd/n/nravi/tf_ext_vi_cache/39627865758633464.jpg exists.\n",
      "/pscratch/sd/n/nravi/tf_ext_vi_cache/39628422518932597.jpg exists.\n",
      "/pscratch/sd/n/nravi/tf_ext_vi_cache/39628422518932597.jpg exists.\n",
      "Get https://www.legacysurvey.org/viewer/cutout.jpg?ra=176.062282338608&dec=55.0351388339229&zoom=14&layer=ls-dr9&size=512&sga\n",
      "/pscratch/sd/n/nravi/tf_ext_vi_cache/39628422518932597.jpg exists.\n",
      "/pscratch/sd/n/nravi/tf_ext_vi_cache/39627770296276005.jpg exists.\n",
      "/pscratch/sd/n/nravi/tf_ext_vi_cache/39633062056692288.jpg exists.\n",
      "/pscratch/sd/n/nravi/tf_ext_vi_cache/39627865758633464.jpg exists.\n",
      "/pscratch/sd/n/nravi/tf_ext_vi_cache/39627865758633464.jpg exists.\n",
      "/pscratch/sd/n/nravi/tf_ext_vi_cache/39633062056692288.jpg exists.\n",
      "Get https://www.legacysurvey.org/viewer/cutout.jpg?ra=179.854486799327&dec=50.961657416617&zoom=14&layer=ls-dr9&size=512&sga\n",
      "/pscratch/sd/n/nravi/tf_ext_vi_cache/39633062056692288.jpg exists.\n",
      "/pscratch/sd/n/nravi/tf_ext_vi_cache/39627770296276005.jpg exists.\n",
      "/pscratch/sd/n/nravi/tf_ext_vi_cache/39627865758633464.jpg exists.\n",
      "Get https://www.legacysurvey.org/viewer/cutout.jpg?ra=217.265839173469&dec=3.14894009556399&zoom=14&layer=ls-dr9&size=512&sga\n",
      "/pscratch/sd/n/nravi/tf_ext_vi_cache/39627770296276005.jpg exists.\n",
      "/pscratch/sd/n/nravi/tf_ext_vi_cache/39627865758633464.jpg exists.\n",
      "/pscratch/sd/n/nravi/tf_ext_vi_cache/39633263488141603.jpg exists.\n",
      "/pscratch/sd/n/nravi/tf_ext_vi_cache/39628422518932597.jpg exists.\n",
      "/pscratch/sd/n/nravi/tf_ext_vi_cache/39633062056692288.jpg exists.\n",
      "/pscratch/sd/n/nravi/tf_ext_vi_cache/39633062056692288.jpg exists.\n",
      "/pscratch/sd/n/nravi/tf_ext_vi_cache/39627770296276005.jpg exists.\n",
      "/pscratch/sd/n/nravi/tf_ext_vi_cache/39628422518932597.jpg exists.\n",
      "/pscratch/sd/n/nravi/tf_ext_vi_cache/39633062056692288.jpg exists.\n",
      "/pscratch/sd/n/nravi/tf_ext_vi_cache/39633062056692288.jpg exists.\n",
      "/pscratch/sd/n/nravi/tf_ext_vi_cache/39627865758633464.jpg exists.\n",
      "/pscratch/sd/n/nravi/tf_ext_vi_cache/39627865758633464.jpg exists.\n",
      "/pscratch/sd/n/nravi/tf_ext_vi_cache/39633062056692288.jpg exists.\n",
      "/pscratch/sd/n/nravi/tf_ext_vi_cache/39633062056692288.jpg exists.\n",
      "/pscratch/sd/n/nravi/tf_ext_vi_cache/39633289689958525.jpg exists.\n",
      "/pscratch/sd/n/nravi/tf_ext_vi_cache/39633062056692288.jpg exists.\n",
      "/pscratch/sd/n/nravi/tf_ext_vi_cache/39628422518932597.jpg exists.\n",
      "/pscratch/sd/n/nravi/tf_ext_vi_cache/39633062056692288.jpg exists.\n",
      "/pscratch/sd/n/nravi/tf_ext_vi_cache/39633062056692288.jpg exists.\n",
      "/pscratch/sd/n/nravi/tf_ext_vi_cache/39633263488141603.jpg exists.\n",
      "/pscratch/sd/n/nravi/tf_ext_vi_cache/39633062056692288.jpg exists.\n",
      "/pscratch/sd/n/nravi/tf_ext_vi_cache/39633062056692288.jpg exists.\n",
      "/pscratch/sd/n/nravi/tf_ext_vi_cache/39627770296276005.jpg exists.\n",
      "/pscratch/sd/n/nravi/tf_ext_vi_cache/39627770296276005.jpg exists.\n",
      "/pscratch/sd/n/nravi/tf_ext_vi_cache/39633062056692288.jpg exists.\n",
      "/pscratch/sd/n/nravi/tf_ext_vi_cache/39633062056692288.jpg exists.\n",
      "/pscratch/sd/n/nravi/tf_ext_vi_cache/39627865758633464.jpg exists.\n",
      "/pscratch/sd/n/nravi/tf_ext_vi_cache/39627770296276005.jpg exists.\n",
      "/pscratch/sd/n/nravi/tf_ext_vi_cache/39633365283899707.jpg exists.\n",
      "/pscratch/sd/n/nravi/tf_ext_vi_cache/39627770296276005.jpg exists.\n",
      "/pscratch/sd/n/nravi/tf_ext_vi_cache/39633062056692288.jpg exists.\n",
      "/pscratch/sd/n/nravi/tf_ext_vi_cache/39627908943185601.jpg exists.\n",
      "/pscratch/sd/n/nravi/tf_ext_vi_cache/39633062056692288.jpg exists.\n",
      "/pscratch/sd/n/nravi/tf_ext_vi_cache/39627908943185601.jpg exists.\n",
      "/pscratch/sd/n/nravi/tf_ext_vi_cache/39627865758633464.jpg exists.\n",
      "/pscratch/sd/n/nravi/tf_ext_vi_cache/39627865758633464.jpg exists.\n",
      "/pscratch/sd/n/nravi/tf_ext_vi_cache/39633062056692288.jpg exists.\n",
      "/pscratch/sd/n/nravi/tf_ext_vi_cache/39633263488141603.jpg exists.\n",
      "/pscratch/sd/n/nravi/tf_ext_vi_cache/39627908943185601.jpg exists.\n",
      "/pscratch/sd/n/nravi/tf_ext_vi_cache/39633062056692288.jpg exists.\n",
      "/pscratch/sd/n/nravi/tf_ext_vi_cache/39628422518932597.jpg exists.\n",
      "/pscratch/sd/n/nravi/tf_ext_vi_cache/39633062056692288.jpg exists.\n",
      "/pscratch/sd/n/nravi/tf_ext_vi_cache/39633321835105135.jpg exists.\n",
      "/pscratch/sd/n/nravi/tf_ext_vi_cache/39627865758633464.jpg exists.\n",
      "/pscratch/sd/n/nravi/tf_ext_vi_cache/39633263488141603.jpg exists.\n",
      "/pscratch/sd/n/nravi/tf_ext_vi_cache/39627770296276005.jpg exists.\n",
      "/pscratch/sd/n/nravi/tf_ext_vi_cache/39627865758633464.jpg exists.\n",
      "/pscratch/sd/n/nravi/tf_ext_vi_cache/39627865758633464.jpg exists.\n",
      "/pscratch/sd/n/nravi/tf_ext_vi_cache/39627865758633464.jpg exists.\n",
      "/pscratch/sd/n/nravi/tf_ext_vi_cache/39633062056692288.jpg exists.\n",
      "/pscratch/sd/n/nravi/tf_ext_vi_cache/39627770296276005.jpg exists.\n",
      "/pscratch/sd/n/nravi/tf_ext_vi_cache/39633062056692288.jpg exists.\n",
      "/pscratch/sd/n/nravi/tf_ext_vi_cache/39627770296276005.jpg exists.\n",
      "/pscratch/sd/n/nravi/tf_ext_vi_cache/39627865758633464.jpg exists.\n",
      "/pscratch/sd/n/nravi/tf_ext_vi_cache/39627865758633464.jpg exists.\n",
      "/pscratch/sd/n/nravi/tf_ext_vi_cache/39633062056692288.jpg exists.\n",
      "/pscratch/sd/n/nravi/tf_ext_vi_cache/39633062056692288.jpg exists.\n",
      "/pscratch/sd/n/nravi/tf_ext_vi_cache/39627865758633464.jpg exists.\n",
      "/pscratch/sd/n/nravi/tf_ext_vi_cache/39633062056692288.jpg exists.\n",
      "/pscratch/sd/n/nravi/tf_ext_vi_cache/39633263488141603.jpg exists.\n",
      "/pscratch/sd/n/nravi/tf_ext_vi_cache/39633062056692288.jpg exists.\n",
      "/pscratch/sd/n/nravi/tf_ext_vi_cache/39627770296276005.jpg exists.\n",
      "/pscratch/sd/n/nravi/tf_ext_vi_cache/39627865758633464.jpg exists.\n",
      "/pscratch/sd/n/nravi/tf_ext_vi_cache/39627865758633464.jpg exists.\n",
      "/pscratch/sd/n/nravi/tf_ext_vi_cache/39633062056692288.jpg exists.\n",
      "/pscratch/sd/n/nravi/tf_ext_vi_cache/39628422518932597.jpg exists.\n",
      "/pscratch/sd/n/nravi/tf_ext_vi_cache/39628422518932597.jpg exists.\n",
      "/pscratch/sd/n/nravi/tf_ext_vi_cache/39627865758633464.jpg exists.\n",
      "/pscratch/sd/n/nravi/tf_ext_vi_cache/39633062056692288.jpg exists.\n",
      "/pscratch/sd/n/nravi/tf_ext_vi_cache/39627770296276005.jpg exists.\n",
      "/pscratch/sd/n/nravi/tf_ext_vi_cache/39628422518932597.jpg exists.\n",
      "/pscratch/sd/n/nravi/tf_ext_vi_cache/39627908943185601.jpg exists.\n",
      "/pscratch/sd/n/nravi/tf_ext_vi_cache/39633062056692288.jpg exists.\n",
      "/pscratch/sd/n/nravi/tf_ext_vi_cache/39627866882708805.jpg exists.\n",
      "/pscratch/sd/n/nravi/tf_ext_vi_cache/39633062056692288.jpg exists.\n",
      "/pscratch/sd/n/nravi/tf_ext_vi_cache/39627770296276005.jpg exists.\n",
      "/pscratch/sd/n/nravi/tf_ext_vi_cache/39633352378026461.jpg exists.\n",
      "/pscratch/sd/n/nravi/tf_ext_vi_cache/39627908943185601.jpg exists.\n",
      "/pscratch/sd/n/nravi/tf_ext_vi_cache/39628422518932597.jpg exists.\n",
      "/pscratch/sd/n/nravi/tf_ext_vi_cache/39627770296276005.jpg exists.\n",
      "/pscratch/sd/n/nravi/tf_ext_vi_cache/39633062056692288.jpg exists.\n",
      "/pscratch/sd/n/nravi/tf_ext_vi_cache/39628422518932597.jpg exists.\n",
      "/pscratch/sd/n/nravi/tf_ext_vi_cache/39633062056692288.jpg exists.\n",
      "/pscratch/sd/n/nravi/tf_ext_vi_cache/39627865758633464.jpg exists.\n",
      "/pscratch/sd/n/nravi/tf_ext_vi_cache/39633062056692288.jpg exists.\n",
      "/pscratch/sd/n/nravi/tf_ext_vi_cache/39628422518932597.jpg exists.\n",
      "/pscratch/sd/n/nravi/tf_ext_vi_cache/39633289689958525.jpg exists.\n",
      "/pscratch/sd/n/nravi/tf_ext_vi_cache/39627770296276005.jpg exists.\n",
      "/pscratch/sd/n/nravi/tf_ext_vi_cache/39627770296276005.jpg exists.\n",
      "/pscratch/sd/n/nravi/tf_ext_vi_cache/39627865758633464.jpg exists.\n",
      "Get https://www.legacysurvey.org/viewer/cutout.jpg?ra=208.743487213374&dec=5.33383414667272&zoom=14&layer=ls-dr9&size=512&sga\n",
      "/pscratch/sd/n/nravi/tf_ext_vi_cache/39633062056692288.jpg exists.\n",
      "/pscratch/sd/n/nravi/tf_ext_vi_cache/39627776327685463.jpg exists.\n",
      "/pscratch/sd/n/nravi/tf_ext_vi_cache/39633062056692288.jpg exists.\n",
      "/pscratch/sd/n/nravi/tf_ext_vi_cache/39627865758633464.jpg exists.\n",
      "/pscratch/sd/n/nravi/tf_ext_vi_cache/39627865758633464.jpg exists.\n",
      "/pscratch/sd/n/nravi/tf_ext_vi_cache/39633062056692288.jpg exists.\n",
      "/pscratch/sd/n/nravi/tf_ext_vi_cache/39633062056692288.jpg exists.\n",
      "/pscratch/sd/n/nravi/tf_ext_vi_cache/39628422518932597.jpg exists.\n",
      "/pscratch/sd/n/nravi/tf_ext_vi_cache/39633062056692288.jpg exists.\n",
      "/pscratch/sd/n/nravi/tf_ext_vi_cache/39627770296276005.jpg exists.\n",
      "/pscratch/sd/n/nravi/tf_ext_vi_cache/39627908943185601.jpg exists.\n",
      "/pscratch/sd/n/nravi/tf_ext_vi_cache/39633062056692288.jpg exists.\n",
      "/pscratch/sd/n/nravi/tf_ext_vi_cache/39633062056692288.jpg exists.\n",
      "/pscratch/sd/n/nravi/tf_ext_vi_cache/39633062056692288.jpg exists.\n",
      "/pscratch/sd/n/nravi/tf_ext_vi_cache/39633352378026461.jpg exists.\n",
      "/pscratch/sd/n/nravi/tf_ext_vi_cache/39627865758633464.jpg exists.\n",
      "/pscratch/sd/n/nravi/tf_ext_vi_cache/39627865758633464.jpg exists.\n",
      "/pscratch/sd/n/nravi/tf_ext_vi_cache/39633062056692288.jpg exists.\n",
      "/pscratch/sd/n/nravi/tf_ext_vi_cache/39633062056692288.jpg exists.\n",
      "/pscratch/sd/n/nravi/tf_ext_vi_cache/39633062056692288.jpg exists.\n",
      "/pscratch/sd/n/nravi/tf_ext_vi_cache/39628422518932597.jpg exists.\n",
      "/pscratch/sd/n/nravi/tf_ext_vi_cache/39633062056692288.jpg exists.\n",
      "/pscratch/sd/n/nravi/tf_ext_vi_cache/39628422518932597.jpg exists.\n",
      "/pscratch/sd/n/nravi/tf_ext_vi_cache/39633062056692288.jpg exists.\n",
      "/pscratch/sd/n/nravi/tf_ext_vi_cache/39633062056692288.jpg exists.\n",
      "/pscratch/sd/n/nravi/tf_ext_vi_cache/39627865758633464.jpg exists.\n",
      "/pscratch/sd/n/nravi/tf_ext_vi_cache/39633062056692288.jpg exists.\n",
      "/pscratch/sd/n/nravi/tf_ext_vi_cache/39627865758633464.jpg exists.\n",
      "/pscratch/sd/n/nravi/tf_ext_vi_cache/39633365283899707.jpg exists.\n",
      "/pscratch/sd/n/nravi/tf_ext_vi_cache/39627865758633464.jpg exists.\n",
      "/pscratch/sd/n/nravi/tf_ext_vi_cache/39627865758633464.jpg exists.\n",
      "/pscratch/sd/n/nravi/tf_ext_vi_cache/39633062056692288.jpg exists.\n",
      "/pscratch/sd/n/nravi/tf_ext_vi_cache/39627865758633464.jpg exists.\n",
      "/pscratch/sd/n/nravi/tf_ext_vi_cache/39633062056692288.jpg exists.\n",
      "/pscratch/sd/n/nravi/tf_ext_vi_cache/39627770296276005.jpg exists.\n",
      "/pscratch/sd/n/nravi/tf_ext_vi_cache/39633062056692288.jpg exists.\n",
      "/pscratch/sd/n/nravi/tf_ext_vi_cache/39627770296276005.jpg exists.\n",
      "/pscratch/sd/n/nravi/tf_ext_vi_cache/39627865758633464.jpg exists.\n",
      "/pscratch/sd/n/nravi/tf_ext_vi_cache/39633062056692288.jpg exists.\n",
      "/pscratch/sd/n/nravi/tf_ext_vi_cache/39627865758633464.jpg exists.\n",
      "Get https://www.legacysurvey.org/viewer/cutout.jpg?ra=209.60317765827&dec=6.07095148628236&zoom=14&layer=ls-dr9&size=512&sga\n",
      "/pscratch/sd/n/nravi/tf_ext_vi_cache/39633352378026461.jpg exists.\n",
      "/pscratch/sd/n/nravi/tf_ext_vi_cache/39628422518932597.jpg exists.\n",
      "/pscratch/sd/n/nravi/tf_ext_vi_cache/39633062056692288.jpg exists.\n",
      "/pscratch/sd/n/nravi/tf_ext_vi_cache/39627865758633464.jpg exists.\n",
      "/pscratch/sd/n/nravi/tf_ext_vi_cache/39627770296276005.jpg exists.\n",
      "/pscratch/sd/n/nravi/tf_ext_vi_cache/39627908943185601.jpg exists.\n",
      "/pscratch/sd/n/nravi/tf_ext_vi_cache/39633263488141603.jpg exists.\n",
      "Get https://www.legacysurvey.org/viewer/cutout.jpg?ra=216.086231258379&dec=36.4613289316431&zoom=14&layer=ls-dr9&size=512&sga\n",
      "/pscratch/sd/n/nravi/tf_ext_vi_cache/39627865758633464.jpg exists.\n",
      "/pscratch/sd/n/nravi/tf_ext_vi_cache/39633352378026461.jpg exists.\n",
      "/pscratch/sd/n/nravi/tf_ext_vi_cache/39633062056692288.jpg exists.\n",
      "/pscratch/sd/n/nravi/tf_ext_vi_cache/39627908943185601.jpg exists.\n",
      "/pscratch/sd/n/nravi/tf_ext_vi_cache/39633062056692288.jpg exists.\n",
      "/pscratch/sd/n/nravi/tf_ext_vi_cache/39633062056692288.jpg exists.\n",
      "/pscratch/sd/n/nravi/tf_ext_vi_cache/39627908943185601.jpg exists.\n",
      "/pscratch/sd/n/nravi/tf_ext_vi_cache/39633062056692288.jpg exists.\n",
      "Get https://www.legacysurvey.org/viewer/cutout.jpg?ra=189.603744095967&dec=4.32561544418394&zoom=14&layer=ls-dr9&size=512&sga\n",
      "/pscratch/sd/n/nravi/tf_ext_vi_cache/39627770296276005.jpg exists.\n",
      "/pscratch/sd/n/nravi/tf_ext_vi_cache/39633062056692288.jpg exists.\n",
      "/pscratch/sd/n/nravi/tf_ext_vi_cache/39627865758633464.jpg exists.\n",
      "/pscratch/sd/n/nravi/tf_ext_vi_cache/39633062056692288.jpg exists.\n",
      "/pscratch/sd/n/nravi/tf_ext_vi_cache/39633062056692288.jpg exists.\n",
      "/pscratch/sd/n/nravi/tf_ext_vi_cache/39627914962013611.jpg exists.\n",
      "/pscratch/sd/n/nravi/tf_ext_vi_cache/39628422518932597.jpg exists.\n",
      "/pscratch/sd/n/nravi/tf_ext_vi_cache/39633062056692288.jpg exists.\n",
      "Get https://www.legacysurvey.org/viewer/cutout.jpg?ra=233.914149196578&dec=12.6108235351707&zoom=14&layer=ls-dr9&size=512&sga\n",
      "/pscratch/sd/n/nravi/tf_ext_vi_cache/39633062056692288.jpg exists.\n",
      "/pscratch/sd/n/nravi/tf_ext_vi_cache/39633062056692288.jpg exists.\n",
      "/pscratch/sd/n/nravi/tf_ext_vi_cache/39633062056692288.jpg exists.\n",
      "/pscratch/sd/n/nravi/tf_ext_vi_cache/39633321835105135.jpg exists.\n",
      "/pscratch/sd/n/nravi/tf_ext_vi_cache/39627770296276005.jpg exists.\n",
      "/pscratch/sd/n/nravi/tf_ext_vi_cache/39627866882708805.jpg exists.\n",
      "/pscratch/sd/n/nravi/tf_ext_vi_cache/39633062056692288.jpg exists.\n",
      "/pscratch/sd/n/nravi/tf_ext_vi_cache/39633062056692288.jpg exists.\n",
      "/pscratch/sd/n/nravi/tf_ext_vi_cache/39628422518932597.jpg exists.\n",
      "/pscratch/sd/n/nravi/tf_ext_vi_cache/39627865758633464.jpg exists.\n",
      "/pscratch/sd/n/nravi/tf_ext_vi_cache/39627770296276005.jpg exists.\n",
      "/pscratch/sd/n/nravi/tf_ext_vi_cache/39627770296276005.jpg exists.\n",
      "/pscratch/sd/n/nravi/tf_ext_vi_cache/39633062056692288.jpg exists.\n",
      "/pscratch/sd/n/nravi/tf_ext_vi_cache/39627770296276005.jpg exists.\n",
      "Get https://www.legacysurvey.org/viewer/cutout.jpg?ra=178.903896089814&dec=1.23715785805324&zoom=14&layer=ls-dr9&size=512&sga\n",
      "/pscratch/sd/n/nravi/tf_ext_vi_cache/39628422518932597.jpg exists.\n",
      "/pscratch/sd/n/nravi/tf_ext_vi_cache/39633062056692288.jpg exists.\n",
      "/pscratch/sd/n/nravi/tf_ext_vi_cache/39633062056692288.jpg exists.\n",
      "/pscratch/sd/n/nravi/tf_ext_vi_cache/39627865758633464.jpg exists.\n",
      "/pscratch/sd/n/nravi/tf_ext_vi_cache/39628422518932597.jpg exists.\n",
      "/pscratch/sd/n/nravi/tf_ext_vi_cache/39633062056692288.jpg exists.\n",
      "/pscratch/sd/n/nravi/tf_ext_vi_cache/39628422518932597.jpg exists.\n",
      "/pscratch/sd/n/nravi/tf_ext_vi_cache/39627865758633464.jpg exists.\n",
      "/pscratch/sd/n/nravi/tf_ext_vi_cache/39627770296276005.jpg exists.\n",
      "/pscratch/sd/n/nravi/tf_ext_vi_cache/39633062056692288.jpg exists.\n",
      "/pscratch/sd/n/nravi/tf_ext_vi_cache/39628422518932597.jpg exists.\n",
      "/pscratch/sd/n/nravi/tf_ext_vi_cache/39627770296276005.jpg exists.\n",
      "/pscratch/sd/n/nravi/tf_ext_vi_cache/39627908943185601.jpg exists.\n",
      "/pscratch/sd/n/nravi/tf_ext_vi_cache/39633062056692288.jpg exists.\n",
      "/pscratch/sd/n/nravi/tf_ext_vi_cache/39633062056692288.jpg exists.\n",
      "/pscratch/sd/n/nravi/tf_ext_vi_cache/39633062056692288.jpg exists.\n",
      "/pscratch/sd/n/nravi/tf_ext_vi_cache/39628422518932597.jpg exists.\n",
      "/pscratch/sd/n/nravi/tf_ext_vi_cache/39627770296276005.jpg exists.\n",
      "/pscratch/sd/n/nravi/tf_ext_vi_cache/39633263488141603.jpg exists.\n",
      "/pscratch/sd/n/nravi/tf_ext_vi_cache/39627770296276005.jpg exists.\n",
      "/pscratch/sd/n/nravi/tf_ext_vi_cache/39633062056692288.jpg exists.\n",
      "/pscratch/sd/n/nravi/tf_ext_vi_cache/39627770296276005.jpg exists.\n",
      "/pscratch/sd/n/nravi/tf_ext_vi_cache/39633263488141603.jpg exists.\n",
      "/pscratch/sd/n/nravi/tf_ext_vi_cache/39627865758633464.jpg exists.\n",
      "/pscratch/sd/n/nravi/tf_ext_vi_cache/39633289689958525.jpg exists.\n",
      "/pscratch/sd/n/nravi/tf_ext_vi_cache/39633062056692288.jpg exists.\n",
      "/pscratch/sd/n/nravi/tf_ext_vi_cache/39633062056692288.jpg exists.\n",
      "/pscratch/sd/n/nravi/tf_ext_vi_cache/39633062056692288.jpg exists.\n",
      "/pscratch/sd/n/nravi/tf_ext_vi_cache/39633062056692288.jpg exists.\n",
      "/pscratch/sd/n/nravi/tf_ext_vi_cache/39633289689958525.jpg exists.\n",
      "/pscratch/sd/n/nravi/tf_ext_vi_cache/39633062056692288.jpg exists.\n",
      "/pscratch/sd/n/nravi/tf_ext_vi_cache/39627908943185601.jpg exists.\n",
      "Get https://www.legacysurvey.org/viewer/cutout.jpg?ra=208.546877933513&dec=5.22735690444977&zoom=14&layer=ls-dr9&size=512&sga\n",
      "/pscratch/sd/n/nravi/tf_ext_vi_cache/39633062056692288.jpg exists.\n",
      "/pscratch/sd/n/nravi/tf_ext_vi_cache/39633289689958525.jpg exists.\n",
      "Get https://www.legacysurvey.org/viewer/cutout.jpg?ra=217.394196311881&dec=-0.0183417841139527&zoom=14&layer=ls-dr9&size=512&sga\n",
      "/pscratch/sd/n/nravi/tf_ext_vi_cache/39627865758633464.jpg exists.\n",
      "/pscratch/sd/n/nravi/tf_ext_vi_cache/39627865758633464.jpg exists.\n",
      "/pscratch/sd/n/nravi/tf_ext_vi_cache/39627770296276005.jpg exists.\n",
      "/pscratch/sd/n/nravi/tf_ext_vi_cache/39633062056692288.jpg exists.\n",
      "/pscratch/sd/n/nravi/tf_ext_vi_cache/39633062056692288.jpg exists.\n",
      "/pscratch/sd/n/nravi/tf_ext_vi_cache/39628422518932597.jpg exists.\n",
      "/pscratch/sd/n/nravi/tf_ext_vi_cache/39633062056692288.jpg exists.\n",
      "/pscratch/sd/n/nravi/tf_ext_vi_cache/39633062056692288.jpg exists.\n",
      "/pscratch/sd/n/nravi/tf_ext_vi_cache/39627770296276005.jpg exists.\n",
      "/pscratch/sd/n/nravi/tf_ext_vi_cache/39633289689958525.jpg exists.\n",
      "/pscratch/sd/n/nravi/tf_ext_vi_cache/39627770296276005.jpg exists.\n",
      "/pscratch/sd/n/nravi/tf_ext_vi_cache/39627865758633464.jpg exists.\n",
      "/pscratch/sd/n/nravi/tf_ext_vi_cache/39628422518932597.jpg exists.\n",
      "/pscratch/sd/n/nravi/tf_ext_vi_cache/39627770296276005.jpg exists.\n",
      "/pscratch/sd/n/nravi/tf_ext_vi_cache/39627865758633464.jpg exists.\n",
      "/pscratch/sd/n/nravi/tf_ext_vi_cache/39628422518932597.jpg exists.\n",
      "/pscratch/sd/n/nravi/tf_ext_vi_cache/39633062056692288.jpg exists.\n",
      "/pscratch/sd/n/nravi/tf_ext_vi_cache/39633062056692288.jpg exists.\n",
      "/pscratch/sd/n/nravi/tf_ext_vi_cache/39627866882708805.jpg exists.\n",
      "/pscratch/sd/n/nravi/tf_ext_vi_cache/39633062056692288.jpg exists.\n",
      "/pscratch/sd/n/nravi/tf_ext_vi_cache/39628422518932597.jpg exists.\n",
      "/pscratch/sd/n/nravi/tf_ext_vi_cache/39633062056692288.jpg exists.\n",
      "/pscratch/sd/n/nravi/tf_ext_vi_cache/39627865758633464.jpg exists.\n",
      "/pscratch/sd/n/nravi/tf_ext_vi_cache/39627908943185601.jpg exists.\n",
      "/pscratch/sd/n/nravi/tf_ext_vi_cache/39627770296276005.jpg exists.\n",
      "Get https://www.legacysurvey.org/viewer/cutout.jpg?ra=217.504425452394&dec=3.22058000080512&zoom=14&layer=ls-dr9&size=512&sga\n",
      "/pscratch/sd/n/nravi/tf_ext_vi_cache/39633062056692288.jpg exists.\n",
      "/pscratch/sd/n/nravi/tf_ext_vi_cache/39633263488141603.jpg exists.\n",
      "/pscratch/sd/n/nravi/tf_ext_vi_cache/39627788373724677.jpg exists.\n",
      "/pscratch/sd/n/nravi/tf_ext_vi_cache/39627865758633464.jpg exists.\n",
      "/pscratch/sd/n/nravi/tf_ext_vi_cache/39627770296276005.jpg exists.\n",
      "/pscratch/sd/n/nravi/tf_ext_vi_cache/39627770296276005.jpg exists.\n",
      "/pscratch/sd/n/nravi/tf_ext_vi_cache/39627770296276005.jpg exists.\n",
      "/pscratch/sd/n/nravi/tf_ext_vi_cache/39633062056692288.jpg exists.\n",
      "/pscratch/sd/n/nravi/tf_ext_vi_cache/39627914957819959.jpg exists.\n",
      "/pscratch/sd/n/nravi/tf_ext_vi_cache/39633062056692288.jpg exists.\n",
      "/pscratch/sd/n/nravi/tf_ext_vi_cache/39627770296276005.jpg exists.\n",
      "/pscratch/sd/n/nravi/tf_ext_vi_cache/39627865758633464.jpg exists.\n",
      "/pscratch/sd/n/nravi/tf_ext_vi_cache/39627865758633464.jpg exists.\n",
      "/pscratch/sd/n/nravi/tf_ext_vi_cache/39627770296276005.jpg exists.\n",
      "/pscratch/sd/n/nravi/tf_ext_vi_cache/39627865758633464.jpg exists.\n",
      "/pscratch/sd/n/nravi/tf_ext_vi_cache/39633365283899707.jpg exists.\n",
      "/pscratch/sd/n/nravi/tf_ext_vi_cache/39633289689958525.jpg exists.\n",
      "/pscratch/sd/n/nravi/tf_ext_vi_cache/39628422518932597.jpg exists.\n",
      "/pscratch/sd/n/nravi/tf_ext_vi_cache/39627865758633464.jpg exists.\n",
      "/pscratch/sd/n/nravi/tf_ext_vi_cache/39633062056692288.jpg exists.\n",
      "/pscratch/sd/n/nravi/tf_ext_vi_cache/39633062056692288.jpg exists.\n",
      "/pscratch/sd/n/nravi/tf_ext_vi_cache/39633062056692288.jpg exists.\n",
      "/pscratch/sd/n/nravi/tf_ext_vi_cache/39628422518932597.jpg exists.\n",
      "/pscratch/sd/n/nravi/tf_ext_vi_cache/39633062056692288.jpg exists.\n",
      "/pscratch/sd/n/nravi/tf_ext_vi_cache/39627865758633464.jpg exists.\n",
      "/pscratch/sd/n/nravi/tf_ext_vi_cache/39627908943185601.jpg exists.\n",
      "/pscratch/sd/n/nravi/tf_ext_vi_cache/39633062056692288.jpg exists.\n",
      "/pscratch/sd/n/nravi/tf_ext_vi_cache/39627865758633464.jpg exists.\n",
      "/pscratch/sd/n/nravi/tf_ext_vi_cache/39627908943185601.jpg exists.\n",
      "/pscratch/sd/n/nravi/tf_ext_vi_cache/39633062056692288.jpg exists.\n",
      "/pscratch/sd/n/nravi/tf_ext_vi_cache/39628088480371405.jpg exists.\n",
      "/pscratch/sd/n/nravi/tf_ext_vi_cache/39627776327685463.jpg exists.\n",
      "/pscratch/sd/n/nravi/tf_ext_vi_cache/39627865758633464.jpg exists.\n",
      "/pscratch/sd/n/nravi/tf_ext_vi_cache/39627865758633464.jpg exists.\n",
      "/pscratch/sd/n/nravi/tf_ext_vi_cache/39628422518932597.jpg exists.\n",
      "/pscratch/sd/n/nravi/tf_ext_vi_cache/39627770296276005.jpg exists.\n",
      "/pscratch/sd/n/nravi/tf_ext_vi_cache/39633062056692288.jpg exists.\n",
      "/pscratch/sd/n/nravi/tf_ext_vi_cache/39628422518932597.jpg exists.\n",
      "/pscratch/sd/n/nravi/tf_ext_vi_cache/39627770296276005.jpg exists.\n",
      "/pscratch/sd/n/nravi/tf_ext_vi_cache/39627865758633464.jpg exists.\n",
      "/pscratch/sd/n/nravi/tf_ext_vi_cache/39633062056692288.jpg exists.\n",
      "/pscratch/sd/n/nravi/tf_ext_vi_cache/39627908943185601.jpg exists.\n",
      "/pscratch/sd/n/nravi/tf_ext_vi_cache/39628422518932597.jpg exists.\n",
      "/pscratch/sd/n/nravi/tf_ext_vi_cache/39633062056692288.jpg exists.\n",
      "/pscratch/sd/n/nravi/tf_ext_vi_cache/39627770296276005.jpg exists.\n",
      "Get https://www.legacysurvey.org/viewer/cutout.jpg?ra=202.934534925437&dec=-2.73036934804824&zoom=14&layer=ls-dr9&size=512&sga\n",
      "/pscratch/sd/n/nravi/tf_ext_vi_cache/39633062056692288.jpg exists.\n",
      "/pscratch/sd/n/nravi/tf_ext_vi_cache/39627865758633464.jpg exists.\n",
      "/pscratch/sd/n/nravi/tf_ext_vi_cache/39627865758633464.jpg exists.\n",
      "/pscratch/sd/n/nravi/tf_ext_vi_cache/39633062056692288.jpg exists.\n",
      "/pscratch/sd/n/nravi/tf_ext_vi_cache/39633062056692288.jpg exists.\n",
      "/pscratch/sd/n/nravi/tf_ext_vi_cache/39628422518932597.jpg exists.\n",
      "/pscratch/sd/n/nravi/tf_ext_vi_cache/39627908943185601.jpg exists.\n",
      "Get https://www.legacysurvey.org/viewer/cutout.jpg?ra=179.857449246855&dec=50.9247579907301&zoom=14&layer=ls-dr9&size=512&sga\n",
      "/pscratch/sd/n/nravi/tf_ext_vi_cache/39627770296276005.jpg exists.\n",
      "/pscratch/sd/n/nravi/tf_ext_vi_cache/39627770296276005.jpg exists.\n",
      "Get https://www.legacysurvey.org/viewer/cutout.jpg?ra=106.645087200257&dec=63.8489485519007&zoom=14&layer=ls-dr9&size=512&sga\n",
      "/pscratch/sd/n/nravi/tf_ext_vi_cache/39627817926789729.jpg exists.\n",
      "/pscratch/sd/n/nravi/tf_ext_vi_cache/39628422518932597.jpg exists.\n",
      "/pscratch/sd/n/nravi/tf_ext_vi_cache/39633062056692288.jpg exists.\n",
      "/pscratch/sd/n/nravi/tf_ext_vi_cache/39633062056692288.jpg exists.\n",
      "/pscratch/sd/n/nravi/tf_ext_vi_cache/39627865758633464.jpg exists.\n",
      "/pscratch/sd/n/nravi/tf_ext_vi_cache/39633062056692288.jpg exists.\n",
      "/pscratch/sd/n/nravi/tf_ext_vi_cache/39633289689958525.jpg exists.\n",
      "/pscratch/sd/n/nravi/tf_ext_vi_cache/39633062056692288.jpg exists.\n",
      "/pscratch/sd/n/nravi/tf_ext_vi_cache/39628422518932597.jpg exists.\n",
      "/pscratch/sd/n/nravi/tf_ext_vi_cache/39627817926789729.jpg exists.\n",
      "/pscratch/sd/n/nravi/tf_ext_vi_cache/39627865758633464.jpg exists.\n",
      "/pscratch/sd/n/nravi/tf_ext_vi_cache/39633062056692288.jpg exists.\n",
      "/pscratch/sd/n/nravi/tf_ext_vi_cache/39627865758633464.jpg exists.\n",
      "/pscratch/sd/n/nravi/tf_ext_vi_cache/39633365283899707.jpg exists.\n",
      "/pscratch/sd/n/nravi/tf_ext_vi_cache/39633062056692288.jpg exists.\n",
      "/pscratch/sd/n/nravi/tf_ext_vi_cache/39633289689958525.jpg exists.\n",
      "/pscratch/sd/n/nravi/tf_ext_vi_cache/39627865758633464.jpg exists.\n",
      "/pscratch/sd/n/nravi/tf_ext_vi_cache/39628422518932597.jpg exists.\n",
      "/pscratch/sd/n/nravi/tf_ext_vi_cache/39627908943185601.jpg exists.\n",
      "/pscratch/sd/n/nravi/tf_ext_vi_cache/39633062056692288.jpg exists.\n",
      "Get https://www.legacysurvey.org/viewer/cutout.jpg?ra=212.907792211846&dec=-1.15806036313287&zoom=14&layer=ls-dr9&size=512&sga\n",
      "/pscratch/sd/n/nravi/tf_ext_vi_cache/39633263488141603.jpg exists.\n",
      "/pscratch/sd/n/nravi/tf_ext_vi_cache/39627770296276005.jpg exists.\n",
      "/pscratch/sd/n/nravi/tf_ext_vi_cache/39633062056692288.jpg exists.\n",
      "/pscratch/sd/n/nravi/tf_ext_vi_cache/39627770296276005.jpg exists.\n",
      "/pscratch/sd/n/nravi/tf_ext_vi_cache/39627865758633464.jpg exists.\n",
      "/pscratch/sd/n/nravi/tf_ext_vi_cache/39627770296276005.jpg exists.\n",
      "/pscratch/sd/n/nravi/tf_ext_vi_cache/39627865758633464.jpg exists.\n",
      "/pscratch/sd/n/nravi/tf_ext_vi_cache/39627770296276005.jpg exists.\n",
      "/pscratch/sd/n/nravi/tf_ext_vi_cache/39627914962013611.jpg exists.\n",
      "/pscratch/sd/n/nravi/tf_ext_vi_cache/39627914957819959.jpg exists.\n",
      "/pscratch/sd/n/nravi/tf_ext_vi_cache/39627865758633464.jpg exists.\n",
      "/pscratch/sd/n/nravi/tf_ext_vi_cache/39627865758633464.jpg exists.\n",
      "/pscratch/sd/n/nravi/tf_ext_vi_cache/39633062056692288.jpg exists.\n",
      "/pscratch/sd/n/nravi/tf_ext_vi_cache/39627770296276005.jpg exists.\n",
      "/pscratch/sd/n/nravi/tf_ext_vi_cache/39633062056692288.jpg exists.\n",
      "/pscratch/sd/n/nravi/tf_ext_vi_cache/39633062056692288.jpg exists.\n",
      "/pscratch/sd/n/nravi/tf_ext_vi_cache/39627908943185601.jpg exists.\n",
      "/pscratch/sd/n/nravi/tf_ext_vi_cache/39627770296276005.jpg exists.\n",
      "/pscratch/sd/n/nravi/tf_ext_vi_cache/39627770296276005.jpg exists.\n",
      "/pscratch/sd/n/nravi/tf_ext_vi_cache/39627770296276005.jpg exists.\n",
      "/pscratch/sd/n/nravi/tf_ext_vi_cache/39633365283899707.jpg exists.\n",
      "/pscratch/sd/n/nravi/tf_ext_vi_cache/39627770296276005.jpg exists.\n",
      "/pscratch/sd/n/nravi/tf_ext_vi_cache/39627770296276005.jpg exists.\n",
      "/pscratch/sd/n/nravi/tf_ext_vi_cache/39627866882708805.jpg exists.\n",
      "/pscratch/sd/n/nravi/tf_ext_vi_cache/39627770296276005.jpg exists.\n",
      "/pscratch/sd/n/nravi/tf_ext_vi_cache/39633062056692288.jpg exists.\n",
      "/pscratch/sd/n/nravi/tf_ext_vi_cache/39633289689958525.jpg exists.\n",
      "/pscratch/sd/n/nravi/tf_ext_vi_cache/39627770296276005.jpg exists.\n",
      "/pscratch/sd/n/nravi/tf_ext_vi_cache/39628422518932597.jpg exists.\n",
      "/pscratch/sd/n/nravi/tf_ext_vi_cache/39633062056692288.jpg exists.\n",
      "/pscratch/sd/n/nravi/tf_ext_vi_cache/39633263488141603.jpg exists.\n",
      "/pscratch/sd/n/nravi/tf_ext_vi_cache/39627770296276005.jpg exists.\n",
      "/pscratch/sd/n/nravi/tf_ext_vi_cache/39627770296276005.jpg exists.\n",
      "/pscratch/sd/n/nravi/tf_ext_vi_cache/39633062056692288.jpg exists.\n",
      "/pscratch/sd/n/nravi/tf_ext_vi_cache/39627865758633464.jpg exists.\n",
      "/pscratch/sd/n/nravi/tf_ext_vi_cache/39633062056692288.jpg exists.\n",
      "/pscratch/sd/n/nravi/tf_ext_vi_cache/39627770296276005.jpg exists.\n",
      "/pscratch/sd/n/nravi/tf_ext_vi_cache/39627908943185601.jpg exists.\n",
      "/pscratch/sd/n/nravi/tf_ext_vi_cache/39633062056692288.jpg exists.\n",
      "/pscratch/sd/n/nravi/tf_ext_vi_cache/39627865758633464.jpg exists.\n",
      "/pscratch/sd/n/nravi/tf_ext_vi_cache/39633062056692288.jpg exists.\n",
      "/pscratch/sd/n/nravi/tf_ext_vi_cache/39627908943185601.jpg exists.\n",
      "/pscratch/sd/n/nravi/tf_ext_vi_cache/39633062056692288.jpg exists.\n",
      "/pscratch/sd/n/nravi/tf_ext_vi_cache/39627865758633464.jpg exists.\n",
      "/pscratch/sd/n/nravi/tf_ext_vi_cache/39628422518932597.jpg exists.\n",
      "/pscratch/sd/n/nravi/tf_ext_vi_cache/39627865758633464.jpg exists.\n",
      "/pscratch/sd/n/nravi/tf_ext_vi_cache/39633062056692288.jpg exists.\n",
      "/pscratch/sd/n/nravi/tf_ext_vi_cache/39627865758633464.jpg exists.\n",
      "/pscratch/sd/n/nravi/tf_ext_vi_cache/39627770296276005.jpg exists.\n",
      "/pscratch/sd/n/nravi/tf_ext_vi_cache/39627865758633464.jpg exists.\n",
      "/pscratch/sd/n/nravi/tf_ext_vi_cache/39627770296276005.jpg exists.\n",
      "/pscratch/sd/n/nravi/tf_ext_vi_cache/39633062056692288.jpg exists.\n",
      "/pscratch/sd/n/nravi/tf_ext_vi_cache/39633321835105135.jpg exists.\n",
      "/pscratch/sd/n/nravi/tf_ext_vi_cache/39633062056692288.jpg exists.\n",
      "/pscratch/sd/n/nravi/tf_ext_vi_cache/39627865758633464.jpg exists.\n",
      "/pscratch/sd/n/nravi/tf_ext_vi_cache/39633062056692288.jpg exists.\n",
      "/pscratch/sd/n/nravi/tf_ext_vi_cache/39633062056692288.jpg exists.\n",
      "/pscratch/sd/n/nravi/tf_ext_vi_cache/39633062056692288.jpg exists.\n",
      "/pscratch/sd/n/nravi/tf_ext_vi_cache/39633062056692288.jpg exists.\n",
      "/pscratch/sd/n/nravi/tf_ext_vi_cache/39633062056692288.jpg exists.\n",
      "/pscratch/sd/n/nravi/tf_ext_vi_cache/39627908943185601.jpg exists.\n",
      "/pscratch/sd/n/nravi/tf_ext_vi_cache/39627817926789729.jpg exists.\n",
      "/pscratch/sd/n/nravi/tf_ext_vi_cache/39627788373724677.jpg exists.\n",
      "/pscratch/sd/n/nravi/tf_ext_vi_cache/39627908943185601.jpg exists.\n",
      "/pscratch/sd/n/nravi/tf_ext_vi_cache/39627770296276005.jpg exists.\n",
      "/pscratch/sd/n/nravi/tf_ext_vi_cache/39627770296276005.jpg exists.\n",
      "/pscratch/sd/n/nravi/tf_ext_vi_cache/39627908943185601.jpg exists.\n",
      "/pscratch/sd/n/nravi/tf_ext_vi_cache/39633062056692288.jpg exists.\n",
      "/pscratch/sd/n/nravi/tf_ext_vi_cache/39633062056692288.jpg exists.\n",
      "/pscratch/sd/n/nravi/tf_ext_vi_cache/39627908943185601.jpg exists.\n",
      "/pscratch/sd/n/nravi/tf_ext_vi_cache/39627908943185601.jpg exists.\n",
      "/pscratch/sd/n/nravi/tf_ext_vi_cache/39633062056692288.jpg exists.\n",
      "/pscratch/sd/n/nravi/tf_ext_vi_cache/39633062056692288.jpg exists.\n",
      "/pscratch/sd/n/nravi/tf_ext_vi_cache/39633010814878547.jpg exists.\n",
      "/pscratch/sd/n/nravi/tf_ext_vi_cache/39627865758633464.jpg exists.\n",
      "/pscratch/sd/n/nravi/tf_ext_vi_cache/39627865758633464.jpg exists.\n",
      "/pscratch/sd/n/nravi/tf_ext_vi_cache/39628422518932597.jpg exists.\n",
      "/pscratch/sd/n/nravi/tf_ext_vi_cache/39627770296276005.jpg exists.\n",
      "/pscratch/sd/n/nravi/tf_ext_vi_cache/39627865758633464.jpg exists.\n",
      "/pscratch/sd/n/nravi/tf_ext_vi_cache/39633289689958525.jpg exists.\n",
      "/pscratch/sd/n/nravi/tf_ext_vi_cache/39627770296276005.jpg exists.\n",
      "/pscratch/sd/n/nravi/tf_ext_vi_cache/39633062056692288.jpg exists.\n",
      "/pscratch/sd/n/nravi/tf_ext_vi_cache/39633062056692288.jpg exists.\n",
      "/pscratch/sd/n/nravi/tf_ext_vi_cache/39628422518932597.jpg exists.\n",
      "/pscratch/sd/n/nravi/tf_ext_vi_cache/39628422518932597.jpg exists.\n",
      "/pscratch/sd/n/nravi/tf_ext_vi_cache/39627865758633464.jpg exists.\n",
      "/pscratch/sd/n/nravi/tf_ext_vi_cache/39627908943185601.jpg exists.\n",
      "/pscratch/sd/n/nravi/tf_ext_vi_cache/39627865758633464.jpg exists.\n",
      "/pscratch/sd/n/nravi/tf_ext_vi_cache/39627865758633464.jpg exists.\n",
      "/pscratch/sd/n/nravi/tf_ext_vi_cache/39627770296276005.jpg exists.\n",
      "/pscratch/sd/n/nravi/tf_ext_vi_cache/39627770296276005.jpg exists.\n",
      "/pscratch/sd/n/nravi/tf_ext_vi_cache/39633263488141603.jpg exists.\n",
      "/pscratch/sd/n/nravi/tf_ext_vi_cache/39633062056692288.jpg exists.\n",
      "/pscratch/sd/n/nravi/tf_ext_vi_cache/39627865758633464.jpg exists.\n",
      "/pscratch/sd/n/nravi/tf_ext_vi_cache/39633062056692288.jpg exists.\n",
      "/pscratch/sd/n/nravi/tf_ext_vi_cache/39633062056692288.jpg exists.\n",
      "/pscratch/sd/n/nravi/tf_ext_vi_cache/39633062056692288.jpg exists.\n",
      "/pscratch/sd/n/nravi/tf_ext_vi_cache/39633062056692288.jpg exists.\n",
      "/pscratch/sd/n/nravi/tf_ext_vi_cache/39627770296276005.jpg exists.\n",
      "/pscratch/sd/n/nravi/tf_ext_vi_cache/39627776327685463.jpg exists.\n",
      "/pscratch/sd/n/nravi/tf_ext_vi_cache/39633062056692288.jpg exists.\n",
      "/pscratch/sd/n/nravi/tf_ext_vi_cache/39627770296276005.jpg exists.\n",
      "/pscratch/sd/n/nravi/tf_ext_vi_cache/39633062056692288.jpg exists.\n"
     ]
    }
   ],
   "source": [
    "# collect all observations for this galaxy\n",
    "for i in range(len(a)):\n",
    "    sga_id = a[i]\n",
    "    idx = b[i]\n",
    "\n",
    "    tf_ext_sga['TARGETID'][idx]\n",
    "    sga_id = tf_ext_sga['SGA_ID'][idx]\n",
    "    d26 = float(SGA['D26'][SGA['SGA_ID'] == sga_id][0])\n",
    "    npix = np.minimum(int(1.025 * d26*60/0.262), 512)\n",
    "\n",
    "\n",
    "    img_file, wcs = get_cutout(tf_ext_sga['TARGETID'][idx], tf_ext_sga['TARGET_RA'][idx], tf_ext_sga['TARGET_DEC'][idx], size=npix, verbose=True)\n",
    "    img = mpl.image.imread(img_file)\n",
    "\n",
    "\n",
    "    fibers = tf_ext_targets[tf_ext_targets['SGA_ID'] == sga_id]\n",
    "\n",
    "    fig1 = plt.figure(figsize=(7,7))\n",
    "\n",
    "    ax = fig1.add_subplot(111, projection=wcs)\n",
    "    ax.imshow(np.flip(img, axis=0))\n",
    "    ax.set(xlabel='ra', ylabel='dec')\n",
    "    ax.text(int(0.02*npix), int(0.85*npix), 'TARGETID: {}\\nSGA_ID: {}\\n$z={{{:.4f}}}$'.format(tf_ext_sga['TARGETID'][19], sga_id, tf_ext_sga['Z'][19]), fontsize=9, color='yellow')\n",
    "    overlay = ax.get_coords_overlay('icrs')\n",
    "    overlay.grid(color='white', ls='dotted');\n",
    "\n",
    "    for f in fibers:\n",
    "    \n",
    "        ra = f['TARGET_RA']\n",
    "        dec = f['TARGET_DEC']\n",
    "        targetid = f['TARGETID']\n",
    "    \n",
    "        r1 = SphericalCircle((ra * u.deg, dec * u.deg), 2 * u.arcsec,\n",
    "                         edgecolor='m',\n",
    "                         facecolor='none', alpha=0.8, lw=3,\n",
    "                         transform=ax.get_transform('icrs'),\n",
    "                        #    label=targetid\n",
    "                        )\n",
    "    \n",
    "        ax.add_patch(r1)\n",
    "\n",
    "# plot fiber locations with targetid labeled\n",
    "#ax.legend(loc='center left', \n",
    "#          bbox_to_anchor=(1.2, 0.5)\n",
    "#         )\n",
    "#plt.title(sga_id)\n",
    "    plt.savefig('/pscratch/sd/n/nravi/tf_ext_vi_cache/'+ str(sga_id) + '.jpg')\n",
    "    plt.close()"
   ]
  },
  {
   "cell_type": "code",
   "execution_count": 60,
   "id": "664082c2-1597-4563-b156-d503b6894da2",
   "metadata": {
    "tags": []
   },
   "outputs": [
    {
     "data": {
      "text/html": [
       "<div><i>Table length=19</i>\n",
       "<table id=\"table139622452764384\" class=\"table-striped table-bordered table-condensed\">\n",
       "<thead><tr><th>TARGETID</th><th>TARGET_RA</th><th>TARGET_DEC</th><th>HEALPIX</th><th>SURVEY</th><th>Z</th><th>ZERR</th><th>ZWARN</th><th>DELTACHI2</th><th>FILENAME</th><th>PVTYPE</th><th>SGA_ID</th><th>RA</th><th>DEC</th><th>DR</th><th>SKY_FIBER_DIST</th><th>SKY_FIBER_DIST_R26</th><th>EXT</th></tr></thead>\n",
       "<thead><tr><th>int64</th><th>float64</th><th>float64</th><th>int64</th><th>bytes7</th><th>float64</th><th>float64</th><th>int64</th><th>float64</th><th>bytes76</th><th>bytes3</th><th>int64</th><th>float64</th><th>float64</th><th>int64</th><th>float64</th><th>float64</th><th>float64</th></tr></thead>\n",
       "<tr><td>1083296704364545</td><td>219.45730672238</td><td>-0.394088735219175</td><td>25935</td><td>sv3</td><td>0.457998928200844</td><td>9.41339911156193e-05</td><td>4</td><td>0.00438238307833672</td><td>fuji/healpix/sv3/dark/259/25935/redrock-sv3-dark-25935.fits</td><td>EXT</td><td>136307</td><td>219.45730672238003</td><td>-0.3940887352191747</td><td>1</td><td>0.016227048786034346</td><td>0.670000016880562</td><td>1.0</td></tr>\n",
       "<tr><td>1083296704364546</td><td>219.465197462072</td><td>-0.396444193999683</td><td>25935</td><td>sv3</td><td>-0.00199569129234795</td><td>4.13114935733491e-48</td><td>1570</td><td>1.94266889222573e+84</td><td>fuji/healpix/sv3/dark/259/25935/redrock-sv3-dark-25935.fits</td><td>EXT</td><td>136307</td><td>219.46519746207196</td><td>-0.39644419399968267</td><td>1</td><td>0.007992427014007568</td><td>0.3300000083139206</td><td>1.0</td></tr>\n",
       "<tr><td>1083296704364547</td><td>219.480514793136</td><td>-0.401016533657631</td><td>25935</td><td>sv3</td><td>0.00606096720561597</td><td>2.17841019625403e-05</td><td>0</td><td>482.104535131848</td><td>fuji/healpix/sv3/dark/259/25935/redrock-sv3-dark-25935.fits</td><td>EXT</td><td>136307</td><td>219.48051479313645</td><td>-0.4010165336576305</td><td>1</td><td>0.007992427014035524</td><td>0.330000008315075</td><td>1.0</td></tr>\n",
       "<tr><td>1070102564831236</td><td>219.488405546108</td><td>-0.403371970195963</td><td>25935</td><td>sv3</td><td>0.480299270325962</td><td>6.26832077621877e-05</td><td>0</td><td>13.1833695992827</td><td>fuji/healpix/sv3/bright/259/25935/redrock-sv3-bright-25935.fits</td><td>EXT</td><td>136307</td><td>219.48840554610794</td><td>-0.4033719701959629</td><td>1</td><td>0.01622704878606321</td><td>0.6700000168817537</td><td>1.0</td></tr>\n",
       "<tr><td>1083296704364548</td><td>219.488405546108</td><td>-0.403371970195963</td><td>25935</td><td>sv3</td><td>0.497060791424862</td><td>7.17312091637611e-05</td><td>0</td><td>20.0267319288105</td><td>fuji/healpix/sv3/dark/259/25935/redrock-sv3-dark-25935.fits</td><td>EXT</td><td>136307</td><td>219.48840554610794</td><td>-0.4033719701959629</td><td>1</td><td>0.01622704878606321</td><td>0.6700000168817537</td><td>1.0</td></tr>\n",
       "<tr><td>1083296704364545</td><td>219.45730672238</td><td>-0.394088735219175</td><td>25935</td><td>sv3</td><td>0.457998928200844</td><td>9.41339911156193e-05</td><td>4</td><td>0.00438238307833672</td><td>fuji/healpix/sv3/dark/259/25935/redrock-sv3-dark-25935.fits</td><td>TFT</td><td>136307</td><td>219.45730672238003</td><td>-0.3940887352191747</td><td>1</td><td>0.016227048786034346</td><td>0.670000016880562</td><td>1.0</td></tr>\n",
       "<tr><td>1083296704364546</td><td>219.465197462072</td><td>-0.396444193999683</td><td>25935</td><td>sv3</td><td>-0.00199569129234795</td><td>4.13114935733491e-48</td><td>1570</td><td>1.94266889222573e+84</td><td>fuji/healpix/sv3/dark/259/25935/redrock-sv3-dark-25935.fits</td><td>TFT</td><td>136307</td><td>219.46519746207196</td><td>-0.39644419399968267</td><td>1</td><td>0.007992427014007568</td><td>0.3300000083139206</td><td>1.0</td></tr>\n",
       "<tr><td>1083296704364547</td><td>219.480514793136</td><td>-0.401016533657631</td><td>25935</td><td>sv3</td><td>0.00606096720561597</td><td>2.17841019625403e-05</td><td>0</td><td>482.104535131848</td><td>fuji/healpix/sv3/dark/259/25935/redrock-sv3-dark-25935.fits</td><td>TFT</td><td>136307</td><td>219.48051479313645</td><td>-0.4010165336576305</td><td>1</td><td>0.007992427014035524</td><td>0.330000008315075</td><td>1.0</td></tr>\n",
       "<tr><td>1070102564831236</td><td>219.488405546108</td><td>-0.403371970195963</td><td>25935</td><td>sv3</td><td>0.480299270325962</td><td>6.26832077621877e-05</td><td>0</td><td>13.1833695992827</td><td>fuji/healpix/sv3/bright/259/25935/redrock-sv3-bright-25935.fits</td><td>TFT</td><td>136307</td><td>219.48840554610794</td><td>-0.4033719701959629</td><td>1</td><td>0.01622704878606321</td><td>0.6700000168817537</td><td>1.0</td></tr>\n",
       "<tr><td>1083296704364548</td><td>219.488405546108</td><td>-0.403371970195963</td><td>25935</td><td>sv3</td><td>0.497060791424862</td><td>7.17312091637611e-05</td><td>0</td><td>20.0267319288105</td><td>fuji/healpix/sv3/dark/259/25935/redrock-sv3-dark-25935.fits</td><td>TFT</td><td>136307</td><td>219.48840554610794</td><td>-0.4033719701959629</td><td>1</td><td>0.01622704878606321</td><td>0.6700000168817537</td><td>1.0</td></tr>\n",
       "<tr><td>1070102564831237</td><td>219.496064222477</td><td>-0.405658121873293</td><td>25935</td><td>sv3</td><td>0.523266754462354</td><td>9.38841897036635e-05</td><td>0</td><td>10.1710462793708</td><td>fuji/healpix/sv3/bright/259/25935/redrock-sv3-bright-25935.fits</td><td>TFT</td><td>136307</td><td>219.4960642224775</td><td>-0.4056581218732928</td><td>1</td><td>0.024219475800091074</td><td>1.0000000251965124</td><td>1.0</td></tr>\n",
       "<tr><td>1083296704364549</td><td>219.496064222477</td><td>-0.405658121873293</td><td>25935</td><td>sv3</td><td>1.51175171042405</td><td>0.000267854562873243</td><td>4</td><td>3.125936280936</td><td>fuji/healpix/sv3/dark/259/25935/redrock-sv3-dark-25935.fits</td><td>TFT</td><td>136307</td><td>219.4960642224775</td><td>-0.4056581218732928</td><td>1</td><td>0.024219475800091074</td><td>1.0000000251965124</td><td>1.0</td></tr>\n",
       "<tr><td>39627776327685463</td><td>219.472856125478</td><td>-0.398730367390676</td><td>25935</td><td>sv3</td><td>0.00625895085087345</td><td>5.21122808875409e-07</td><td>0</td><td>128743.026836395</td><td>fuji/healpix/sv3/bright/259/25935/redrock-sv3-bright-25935.fits</td><td>TFT</td><td>136307</td><td>219.47285612547753</td><td>-0.3987303673906756</td><td>1</td><td>2.842102120324374e-14</td><td>1.1734779957230734e-12</td><td>1.0</td></tr>\n",
       "<tr><td>2407108704206855</td><td>219.496064222477</td><td>-0.405658121873293</td><td>25935</td><td>main</td><td>0.239661733551675</td><td>8.55120946157693e-05</td><td>4</td><td>0.236678057350218</td><td>iron/healpix/main/dark/259/25935/redrock-main-dark-25935.fits</td><td>EXT</td><td>136307</td><td>219.4960642224775</td><td>-0.4056581218732928</td><td>2</td><td>0.024219475800091074</td><td>1.0000000251965124</td><td>1.0</td></tr>\n",
       "<tr><td>1070102564831237</td><td>219.496064222477</td><td>-0.405658121873293</td><td>25935</td><td>sv3</td><td>0.447855533753713</td><td>6.08856194169776e-05</td><td>4</td><td>0.336185339838266</td><td>iron/healpix/sv3/bright/259/25935/redrock-sv3-bright-25935.fits</td><td>EXT</td><td>136307</td><td>219.4960642224775</td><td>-0.4056581218732928</td><td>2</td><td>0.024219475800091074</td><td>1.0000000251965124</td><td>1.0</td></tr>\n",
       "<tr><td>1083296704364549</td><td>219.496064222477</td><td>-0.405658121873293</td><td>25935</td><td>sv3</td><td>0.941127963213171</td><td>0.000132732086303266</td><td>4</td><td>2.60468028113246</td><td>iron/healpix/sv3/dark/259/25935/redrock-sv3-dark-25935.fits</td><td>EXT</td><td>136307</td><td>219.4960642224775</td><td>-0.4056581218732928</td><td>2</td><td>0.024219475800091074</td><td>1.0000000251965124</td><td>1.0</td></tr>\n",
       "<tr><td>39627776327685463</td><td>219.472856125478</td><td>-0.398730367390676</td><td>25935</td><td>sv3</td><td>0.00625866306940125</td><td>5.21219856311223e-07</td><td>0</td><td>128858.841192752</td><td>iron/healpix/sv3/bright/259/25935/redrock-sv3-bright-25935.fits</td><td>TFT</td><td>136307</td><td>219.47285612547753</td><td>-0.3987303673906756</td><td>2</td><td>2.842102120324374e-14</td><td>1.1734779957230734e-12</td><td>1.0</td></tr>\n",
       "<tr><td>2402710657695745</td><td>219.482139359553</td><td>-0.401501477097561</td><td>25935</td><td>main</td><td>1.39378571765955</td><td>9.19719866181042e-05</td><td>0</td><td>10.3554675579071</td><td>iron/healpix/main/dark/259/25935/redrock-main-dark-25935.fits</td><td>TFT</td><td>136307</td><td>219.48213935955263</td><td>-0.4015014770975608</td><td>2</td><td>0.009687790320060221</td><td>0.4000000100795873</td><td>1.0</td></tr>\n",
       "<tr><td>2842515308806145</td><td>219.482139359553</td><td>-0.401501477097561</td><td>25935</td><td>main</td><td>0.00614335370611581</td><td>0.000107285584644283</td><td>0</td><td>23.2796562584335</td><td>iron/healpix/main/dark/259/25935/redrock-main-dark-25935.fits</td><td>TFT</td><td>136307</td><td>219.48213935955263</td><td>-0.4015014770975608</td><td>2</td><td>0.009687790320060221</td><td>0.4000000100795873</td><td>1.0</td></tr>\n",
       "</table></div>"
      ],
      "text/plain": [
       "<Table length=19>\n",
       "     TARGETID        TARGET_RA     ...   SKY_FIBER_DIST_R26     EXT  \n",
       "      int64           float64      ...        float64         float64\n",
       "----------------- ---------------- ... ---------------------- -------\n",
       " 1083296704364545  219.45730672238 ...      0.670000016880562     1.0\n",
       " 1083296704364546 219.465197462072 ...     0.3300000083139206     1.0\n",
       " 1083296704364547 219.480514793136 ...      0.330000008315075     1.0\n",
       " 1070102564831236 219.488405546108 ...     0.6700000168817537     1.0\n",
       " 1083296704364548 219.488405546108 ...     0.6700000168817537     1.0\n",
       " 1083296704364545  219.45730672238 ...      0.670000016880562     1.0\n",
       " 1083296704364546 219.465197462072 ...     0.3300000083139206     1.0\n",
       " 1083296704364547 219.480514793136 ...      0.330000008315075     1.0\n",
       " 1070102564831236 219.488405546108 ...     0.6700000168817537     1.0\n",
       " 1083296704364548 219.488405546108 ...     0.6700000168817537     1.0\n",
       " 1070102564831237 219.496064222477 ...     1.0000000251965124     1.0\n",
       " 1083296704364549 219.496064222477 ...     1.0000000251965124     1.0\n",
       "39627776327685463 219.472856125478 ... 1.1734779957230734e-12     1.0\n",
       " 2407108704206855 219.496064222477 ...     1.0000000251965124     1.0\n",
       " 1070102564831237 219.496064222477 ...     1.0000000251965124     1.0\n",
       " 1083296704364549 219.496064222477 ...     1.0000000251965124     1.0\n",
       "39627776327685463 219.472856125478 ... 1.1734779957230734e-12     1.0\n",
       " 2402710657695745 219.482139359553 ...     0.4000000100795873     1.0\n",
       " 2842515308806145 219.482139359553 ...     0.4000000100795873     1.0"
      ]
     },
     "execution_count": 60,
     "metadata": {},
     "output_type": "execute_result"
    }
   ],
   "source": [
    "fibers"
   ]
  },
  {
   "cell_type": "code",
   "execution_count": null,
   "id": "02ee50bd-7c81-483b-95cb-e5566fc3025d",
   "metadata": {},
   "outputs": [],
   "source": [
    "for sga_id in dist_SGA_ids:\n",
    "    galaxy_list = inComa_sga_table[inComa_sga_table['SGA_ID'] == sga_id]\n",
    "    \n",
    "    # Total hack to find SGA target, because the PVTYPE can't be trusted.\n",
    "    # Talk to an expert about actual SGA targets in DESI.\n",
    "    is_sga_galaxy = (galaxy_list['TARGETID'] > 30000000000000000) & (galaxy_list['TARGETID'] < 40000000000000000)\n",
    "    \n",
    "    sga_galaxy = galaxy_list[is_sga_galaxy]\n",
    "    tf_list = galaxy_list[~is_sga_galaxy]\n",
    "    '''\n",
    "    if np.sum(is_sga_galaxy) < 1:\n",
    "        print('No center observation of galaxy {}'.format(sga_id))\n",
    "        continue\n",
    "    ''';\n",
    "    if np.sum(is_sga_galaxy) > 1:\n",
    "        # Multiple observations of the center - just take the first one in the table\n",
    "#         print('{} observations of galaxy center for {}'.format(np.sum(is_sga_galaxy), sga_id))\n",
    "        sga_galaxy = sga_galaxy[0]\n",
    "        '''\n",
    "        print('Too many records for {}'.format(sga_id))\n",
    "        continue\n",
    "        ''';\n",
    "    # print(np.dtype(sga_galaxy['TARGETID']))\n",
    "    try:\n",
    "        targetid = int(sga_galaxy['TARGETID'])\n",
    "    except TypeError as err:\n",
    "        print(err)\n",
    "        # print(sga_galaxy['TARGETID'])\n",
    "        continue\n",
    "    ra, dec, z = float(sga_galaxy['FIBER_RA']), float(sga_galaxy['FIBER_DEC']), float(sga_galaxy['Z'])\n",
    "    \n",
    "    # D26 in arcmin\n",
    "    # print(SGA['D26'][SGA['SGA_ID'] == sga_id][0])\n",
    "    d26 = float(SGA['D26'][SGA['SGA_ID'] == sga_id][0])\n",
    "    \n",
    "    \n",
    "    center = SkyCoord(sga_galaxy['FIBER_RA'], sga_galaxy['FIBER_DEC'], unit='deg')\n",
    "    offcenter = SkyCoord(tf_list['FIBER_RA'], tf_list['FIBER_DEC'], unit='deg')\n",
    "    sep2d = offcenter.separation(center)\n",
    "    #idx, sep2d, sep3d = match_coordinates_sky(offcenter, center)\n",
    "    '''\n",
    "    isoffcenter = sep2d.to('arcsec') > 1.5*u.arcsec\n",
    "    if np.sum(isoffcenter) == 0:\n",
    "        print('No observations off the galactic center for {}'.format(sga_id))\n",
    "        continue\n",
    "    ''';\n",
    "    # Padd the image cutout of the galaxy.\n",
    "    # Multiply by 60 (to arcsec), divide by 180 to get pixscale.\n",
    "#     pixscale = 1.05*d26*60/180\n",
    "    npix = np.minimum(int(1.025 * d26*60/0.262), 512)\n",
    "    \n",
    "    #print(targetid, sga_id, ra, dec)\n",
    "#     img_file = get_cutout(targetid, ra, dec, size=npix, verbose=True)\n",
    "    img_file, wcs = get_cutout(targetid, ra, dec, size=npix, verbose=True)\n",
    "    img = mpl.image.imread(img_file)\n",
    "\n",
    "    fig1 = plt.figure(figsize=(7,5))\n",
    "\n",
    "    ax = fig1.add_subplot(111, projection=wcs)\n",
    "    ax.imshow(np.flip(img, axis=0))\n",
    "    ax.set(xlabel='ra', ylabel='dec')\n",
    "    ax.text(int(0.02*npix), int(0.85*npix), 'TARGETID: {}\\nSGA_ID: {}\\n$z={{{:.4f}}}$'.format(targetid, sga_id, z), fontsize=9, color='yellow')\n",
    "    overlay = ax.get_coords_overlay('icrs')\n",
    "    overlay.grid(color='white', ls='dotted');\n",
    "\n",
    "    # Add the location of the SDSS and DESI fibers.\n",
    "    # SDSS fibers are 2\" diameter, DESI is 107 um with 70 um/\" plate scale.\n",
    "    r1 = SphericalCircle((ra * u.deg, dec * u.deg), 2 * u.arcsec,\n",
    "                         edgecolor='black', facecolor='none', alpha=0.8, lw=3,\n",
    "                         transform=ax.get_transform('icrs'))\n",
    "    r2 = SphericalCircle((ra * u.deg, dec * u.deg), 2 * u.arcsec,\n",
    "                         edgecolor='red', facecolor='none', alpha=0.8, lw=2,\n",
    "                         transform=ax.get_transform('icrs'))\n",
    "    ax.add_patch(r1)\n",
    "    ax.add_patch(r2)\n",
    "\n",
    "    for tft in tf_list:\n",
    "        ra, dec = float(tft['FIBER_RA']), float(tft['FIBER_DEC'])\n",
    "        \n",
    "        edgecolor2 = 'orange'\n",
    "#         if tft['Z'] > 0.05:\n",
    "#             edgecolor2 = 'orange'\n",
    "#         else:\n",
    "#             edgecolor2 = 'lime'\n",
    "        \n",
    "        # Add the location of the SDSS and DESI fibers.\n",
    "        # SDSS fibers are 2\" diameter, DESI is 107 um with 70 um/\" plate scale.\n",
    "        r1 = SphericalCircle((ra * u.deg, dec * u.deg), 2 * u.arcsec,\n",
    "                             edgecolor='lightcoral', facecolor='none', alpha=1, lw=3,\n",
    "                             transform=ax.get_transform('icrs'))\n",
    "        r2 = SphericalCircle((ra * u.deg, dec * u.deg), 2 * u.arcsec,\n",
    "                             edgecolor=edgecolor2, facecolor='none', alpha=0.8, lw=2,\n",
    "                             transform=ax.get_transform('icrs'))\n",
    "        ax.add_patch(r1)\n",
    "        ax.add_patch(r2)\n",
    "    \n",
    "    fig1.subplots_adjust(top=0.85, right=0.85, bottom=0.15, left=0.15)\n",
    "    \n",
    "#     coadds = get_spectra_for_sga(inComa_sga_table, sga_id)\n",
    "#     n = coadds.num_spectra()\n",
    "\n",
    "#     fig2, axes = plt.subplots(n,1, figsize=(8,4*n), sharex=True, sharey=True, tight_layout=True)\n",
    "\n",
    "#     for i in range(n):\n",
    "#         wave = coadds.wave['brz']\n",
    "#         flux = coadds.flux['brz'][i]\n",
    "#         smoothed = gaussian_filter1d(flux, 7)\n",
    "\n",
    "#         ax = axes[i]\n",
    "#         ax.plot(wave, smoothed, label='TARGETID: {}'.format(coadds.fibermap['TARGETID'][i]))\n",
    "#         ax.set(ylabel=r'flux [$10^{-17}$ erg cm$^{-2}$ s$^{-1}$ $\\AA^{-1}$]')\n",
    "#         if i+1 == n:\n",
    "#             ax.set(xlabel=r'$\\lambda_\\mathrm{obs}$ [$\\AA$]')\n",
    "\n",
    "#         ax.legend(loc='upper right', fontsize=10)\n",
    "    \n",
    "    # figure = PdfPages('cache/DM_cutouts/dist_{}.pdf'.format(sga_id))\n",
    "    # figure.savefig(fig1, dpi = 300)\n",
    "    # figure.savefig(fig2, dpi = 120)\n",
    "    # figure.close()\n",
    "    fig1.savefig('cache/DM_cutouts/dist_{}.png'.format(sga_id), dpi=120, overwrite = True)\n",
    "#     break\n",
    "    \n",
    "#     fig.clear()\n",
    "#     plt.close(fig)"
   ]
  }
 ],
 "metadata": {
  "kernelspec": {
   "display_name": "DESI 22.5",
   "language": "python",
   "name": "desi-22.5"
  },
  "language_info": {
   "codemirror_mode": {
    "name": "ipython",
    "version": 3
   },
   "file_extension": ".py",
   "mimetype": "text/x-python",
   "name": "python",
   "nbconvert_exporter": "python",
   "pygments_lexer": "ipython3",
   "version": "3.9.7"
  }
 },
 "nbformat": 4,
 "nbformat_minor": 5
}
