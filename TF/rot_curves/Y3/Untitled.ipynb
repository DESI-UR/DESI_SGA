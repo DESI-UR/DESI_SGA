{
 "cells": [
  {
   "cell_type": "code",
   "execution_count": 1,
   "id": "2a7db498-b0bd-4559-a5c3-789794981632",
   "metadata": {
    "tags": []
   },
   "outputs": [],
   "source": [
    "import numpy as np\n",
    "from astropy.table import Table, vstack\n",
    "import matplotlib.pyplot as plt\n",
    "from astropy.io import fits\n",
    "from astropy.coordinates import SkyCoord\n",
    "from astropy import units as u\n",
    "from tqdm import tqdm\n",
    "\n",
    "\n",
    "import os\n",
    "import psycopg2\n",
    "\n",
    "from astropy import units as u\n",
    "from astropy.table import Table, join, unique, vstack\n",
    "from astropy.coordinates import SkyCoord, match_coordinates_sky, search_around_sky\n",
    "\n",
    "from desitarget.targets import decode_targetid, encode_targetid, resolve\n",
    "from desitarget.io import releasedict, release_to_photsys\n",
    "\n",
    "from tqdm.notebook import tqdm_notebook\n",
    "\n",
    "import numpy as np\n",
    "import matplotlib as mpl\n",
    "import matplotlib.pyplot as plt\n",
    "\n",
    "\n",
    "from astropy.table import Table, vstack, hstack\n",
    "\n",
    "import psycopg2\n",
    "\n",
    "from tqdm.notebook import tqdm_notebook\n",
    "\n",
    "import time"
   ]
  },
  {
   "cell_type": "code",
   "execution_count": 4,
   "id": "d648525e-5ed6-4d11-9932-1ce391409215",
   "metadata": {
    "tags": []
   },
   "outputs": [
    {
     "data": {
      "text/html": [
       "<div><i>Table length=5</i>\n",
       "<table id=\"table140239746647856\" class=\"table-striped table-bordered table-condensed\">\n",
       "<thead><tr><th>TARGETID</th><th>SURVEY</th><th>FILENAME</th></tr></thead>\n",
       "<thead><tr><th>float64</th><th>bytes4</th><th>bytes65</th></tr></thead>\n",
       "<tr><td>1079550230396930.0</td><td>sv3</td><td>iron/healpix/sv3/bright/103/10378/redrock-sv3-bright-10378.fits</td></tr>\n",
       "<tr><td>1092744369930242.0</td><td>sv3</td><td>iron/healpix/sv3/dark/103/10378/redrock-sv3-dark-10378.fits</td></tr>\n",
       "<tr><td>1079550234591232.0</td><td>sv3</td><td>iron/healpix/sv3/bright/103/10378/redrock-sv3-bright-10378.fits</td></tr>\n",
       "<tr><td>1092744374124544.0</td><td>sv3</td><td>iron/healpix/sv3/dark/103/10378/redrock-sv3-dark-10378.fits</td></tr>\n",
       "<tr><td>1092755086376960.0</td><td>sv3</td><td>iron/healpix/sv3/dark/103/10379/redrock-sv3-dark-10379.fits</td></tr>\n",
       "</table></div>"
      ],
      "text/plain": [
       "<Table length=5>\n",
       "     TARGETID      ...\n",
       "     float64       ...\n",
       "------------------ ...\n",
       "1079550230396930.0 ...\n",
       "1092744369930242.0 ...\n",
       "1079550234591232.0 ...\n",
       "1092744374124544.0 ...\n",
       "1092755086376960.0 ..."
      ]
     },
     "execution_count": 4,
     "metadata": {},
     "output_type": "execute_result"
    }
   ],
   "source": [
    "t = Table.read('/pscratch/sd/n/nravi/pv_rot_curves/iron_not_jura.fits')\n",
    "t[:5]"
   ]
  },
  {
   "cell_type": "code",
   "execution_count": 2,
   "id": "f8d42266-d529-44e7-9ac1-be65ffcf98ba",
   "metadata": {},
   "outputs": [],
   "source": [
    "def get_tf_targets_modified(redux, targetid=None, use_cached=False, verbose=False):\n",
    "    \"\"\"Get TF targets from the DESI observations DB for a given spectroscopic reduction.\n",
    "    \n",
    "    Parameters\n",
    "    ----------\n",
    "    redux : str\n",
    "        Spectroscopic reduction. E.g., 'everest', 'fuji', ...\n",
    "    use_cached : bool\n",
    "        Use cached data rather than re-running the query.\n",
    "    \n",
    "    Returns\n",
    "    -------\n",
    "    \n",
    "    tf_targets : Table\n",
    "        Table of Tully-Fisher observations.\n",
    "    \"\"\"\n",
    "    tf_targets = None\n",
    "\n",
    "    if os.path.exists(f'tf_targets_{redux}.fits') and use_cached:\n",
    "        tf_targets = Table.read('cache/tf_targets_{redux}.fits')\n",
    "    else:\n",
    "        try:\n",
    "            db = psycopg2.connect(host='decatdb.lbl.gov', database='desidb', user='desi', password='5kFibers!')\n",
    "            cursor = db.cursor()\n",
    "\n",
    "            query = f\"\"\"SELECT rdx.targetid, rdx.target_ra, rdx.target_dec, rdx.mean_fiber_ra, rdx.mean_fiber_dec, rdx.std_fiber_ra, rdx.std_fiber_dec, zd.z, zd.zerr, zd.spectype, zd.deltachi2, zd.zwarn, pv.pvtype, pv.sga_id\n",
    "                   FROM {redux}.healpix_fibermap as rdx, static.pv as pv, {redux}.healpix_redshifts as zd\n",
    "                   WHERE q3c_join(rdx.target_ra, rdx.target_dec, pv.ra, pv.dec, 1./3600.) \n",
    "                         AND zd.targetid = rdx.targetid;\"\"\"\n",
    "                         # AND pv.sga_id IS NOT NULL AND (pv.pvtype LIKE 'TFT' or pv.pvtype LIKE 'EXT' or pv.pvtype LIKE 'SGA');\"\"\"\n",
    "            \n",
    "            if verbose:\n",
    "                print(query)\n",
    "\n",
    "            cursor.execute(query)\n",
    "            rows = cursor.fetchall()\n",
    "            tf_targets = Table(list(map(list, zip(*rows))),\n",
    "                               names=['TARGETID', 'TARGET_RA', 'TARGET_DEC', 'MEAN_FIBER_RA', 'MEAN_FIBER_DEC','STD_FIBER_RA', 'STD_FIBER_DEC', 'Z', 'ZERR', 'SPECTYPE', 'DELTACHI2', 'ZWARN', 'PVTYPE', 'SGA_ID'])\n",
    "\n",
    "            #- Select only targets with SGA IDs and PV types matching SGA, EXT, and TFT\n",
    "            print('selecting')\n",
    "            select = (tf_targets['SGA_ID'] != None) & (tf_targets['TARGETID'] == targetid) &\\\n",
    "                     ((tf_targets['PVTYPE'] == 'TFT') | \\\n",
    "                      (tf_targets['PVTYPE'] == 'EXT') | \\\n",
    "                      (tf_targets['PVTYPE'] == 'SGA') )\n",
    "            tf_targets = tf_targets[select]\n",
    "            print('done')\n",
    "            #- Use TARGETID to extract the photometric system used during targeting\n",
    "            _, _, releases, _, _, _ = decode_targetid(tf_targets['TARGETID'].value)\n",
    "\n",
    "            photsys = []\n",
    "            for i, release in enumerate(releases):\n",
    "                ps = None\n",
    "\n",
    "                if release in releasedict:\n",
    "                    ps = release_to_photsys([release])[0].decode('utf-8')\n",
    "                else:\n",
    "                    #- Fall-through case: not all SGA center observations are in the main survey.\n",
    "                    #  In this case, select 'N' or 'S' based on the SGA object's position.\n",
    "                    ra  = tf_targets['TARGET_RA'][i]\n",
    "                    dec = tf_targets['TARGET_DEC'][i]\n",
    "                    c = SkyCoord(ra=ra, dec=dec, unit='degree')\n",
    "\n",
    "                    #- N: in galactic northern hemisphere and with dec > 32.375. Else, S.\n",
    "                    isnorth = (c.galactic.b > 0) & (dec > 32.375)\n",
    "                    ps = 'N' if isnorth else 'S'\n",
    "\n",
    "                photsys.append(ps)\n",
    "\n",
    "            #- Complain if the photsys table doesn't match the size of the Vrot table.\n",
    "            if len(photsys) != len(tf_targets):\n",
    "                print(f'photsys array of len {len(photsys)} != targets array of len {len(tf_targets)}')\n",
    "\n",
    "            tf_targets['PHOTSYS'] = photsys\n",
    "\n",
    "            # tf_targets.write(f'cache/tf_targets_{redux}.fits', overwrite=True)\n",
    "\n",
    "        except Exception as error:\n",
    "            print(error)\n",
    "        finally:\n",
    "            if db is not None:\n",
    "                db.close()\n",
    "\n",
    "    return tf_targets"
   ]
  },
  {
   "cell_type": "code",
   "execution_count": null,
   "id": "678d6639-59e9-4bd3-bc5b-3c368f75815b",
   "metadata": {
    "tags": []
   },
   "outputs": [
    {
     "name": "stdout",
     "output_type": "stream",
     "text": [
      "SELECT rdx.targetid, rdx.target_ra, rdx.target_dec, rdx.mean_fiber_ra, rdx.mean_fiber_dec, rdx.std_fiber_ra, rdx.std_fiber_dec, zd.z, zd.zerr, zd.spectype, zd.deltachi2, zd.zwarn, pv.pvtype, pv.sga_id\n",
      "                   FROM jura.healpix_fibermap as rdx, static.pv as pv, jura.healpix_redshifts as zd\n",
      "                   WHERE q3c_join(rdx.target_ra, rdx.target_dec, pv.ra, pv.dec, 1./3600.) \n",
      "                         AND zd.targetid = rdx.targetid;\n"
     ]
    }
   ],
   "source": [
    "match = get_tf_targets_modified('jura', verbose=True)"
   ]
  },
  {
   "cell_type": "code",
   "execution_count": null,
   "id": "760ea707-42f7-4c03-ac5d-df73850f6b82",
   "metadata": {},
   "outputs": [],
   "source": []
  }
 ],
 "metadata": {
  "kernelspec": {
   "display_name": "DESI main",
   "language": "python",
   "name": "desi-main"
  },
  "language_info": {
   "codemirror_mode": {
    "name": "ipython",
    "version": 3
   },
   "file_extension": ".py",
   "mimetype": "text/x-python",
   "name": "python",
   "nbconvert_exporter": "python",
   "pygments_lexer": "ipython3",
   "version": "3.10.14"
  }
 },
 "nbformat": 4,
 "nbformat_minor": 5
}
