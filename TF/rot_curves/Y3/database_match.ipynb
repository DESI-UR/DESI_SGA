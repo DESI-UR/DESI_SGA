{
 "cells": [
  {
   "cell_type": "code",
   "execution_count": 1,
   "id": "b5ed1783-bceb-4a48-9b29-ba33c5627a81",
   "metadata": {
    "tags": []
   },
   "outputs": [],
   "source": [
    "import numpy as np\n",
    "from astropy.table import Table, vstack\n",
    "import matplotlib.pyplot as plt\n",
    "from astropy.io import fits\n",
    "from astropy.coordinates import SkyCoord\n",
    "from astropy import units as u\n",
    "from tqdm import tqdm\n",
    "\n",
    "\n",
    "import os\n",
    "import psycopg2\n",
    "\n",
    "from astropy import units as u\n",
    "from astropy.table import Table, join, unique, vstack\n",
    "from astropy.coordinates import SkyCoord, match_coordinates_sky, search_around_sky\n",
    "\n",
    "from desitarget.targets import decode_targetid, encode_targetid, resolve\n",
    "from desitarget.io import releasedict, release_to_photsys\n",
    "\n",
    "from tqdm.notebook import tqdm_notebook\n",
    "\n",
    "import numpy as np\n",
    "import matplotlib as mpl\n",
    "import matplotlib.pyplot as plt\n",
    "\n",
    "\n",
    "from astropy.table import Table, vstack, hstack\n",
    "\n",
    "import psycopg2\n",
    "\n",
    "from tqdm.notebook import tqdm_notebook\n",
    "\n",
    "import time"
   ]
  },
  {
   "cell_type": "code",
   "execution_count": 2,
   "id": "effa5b48-f7aa-4613-9c39-3b1136dc327e",
   "metadata": {
    "tags": []
   },
   "outputs": [
    {
     "data": {
      "text/html": [
       "<div><i>Table length=5</i>\n",
       "<table id=\"table139679367879680\" class=\"table-striped table-bordered table-condensed\">\n",
       "<thead><tr><th>TARGETID</th><th>SURVEY</th><th>FILENAME</th></tr></thead>\n",
       "<thead><tr><th>float64</th><th>bytes4</th><th>bytes65</th></tr></thead>\n",
       "<tr><td>1079550230396930.0</td><td>sv3</td><td>iron/healpix/sv3/bright/103/10378/redrock-sv3-bright-10378.fits</td></tr>\n",
       "<tr><td>1092744369930242.0</td><td>sv3</td><td>iron/healpix/sv3/dark/103/10378/redrock-sv3-dark-10378.fits</td></tr>\n",
       "<tr><td>1079550234591232.0</td><td>sv3</td><td>iron/healpix/sv3/bright/103/10378/redrock-sv3-bright-10378.fits</td></tr>\n",
       "<tr><td>1092744374124544.0</td><td>sv3</td><td>iron/healpix/sv3/dark/103/10378/redrock-sv3-dark-10378.fits</td></tr>\n",
       "<tr><td>1092755086376960.0</td><td>sv3</td><td>iron/healpix/sv3/dark/103/10379/redrock-sv3-dark-10379.fits</td></tr>\n",
       "</table></div>"
      ],
      "text/plain": [
       "<Table length=5>\n",
       "     TARGETID      ...\n",
       "     float64       ...\n",
       "------------------ ...\n",
       "1079550230396930.0 ...\n",
       "1092744369930242.0 ...\n",
       "1079550234591232.0 ...\n",
       "1092744374124544.0 ...\n",
       "1092755086376960.0 ..."
      ]
     },
     "execution_count": 2,
     "metadata": {},
     "output_type": "execute_result"
    }
   ],
   "source": [
    "t = Table.read('/pscratch/sd/n/nravi/pv_rot_curves/iron_not_jura.fits')\n",
    "t[:5]"
   ]
  },
  {
   "cell_type": "code",
   "execution_count": 31,
   "id": "c7b5aba6-f158-40f2-89a7-efdef49f4c23",
   "metadata": {
    "tags": []
   },
   "outputs": [],
   "source": [
    "def get_tf_targets_modified(redux, targetid=None, use_cached=False, verbose=False, with_static_pv=False, in_hp_fm=True, in_hp_rd=True):\n",
    "    \"\"\"Get TF targets from the DESI observations DB for a given spectroscopic reduction.\n",
    "    \n",
    "    Parameters\n",
    "    ----------\n",
    "    redux : str\n",
    "        Spectroscopic reduction. E.g., 'everest', 'fuji', ...\n",
    "    use_cached : bool\n",
    "        Use cached data rather than re-running the query.\n",
    "    \n",
    "    Returns\n",
    "    -------\n",
    "    \n",
    "    tf_targets : Table\n",
    "        Table of Tully-Fisher observations.\n",
    "    \"\"\"\n",
    "    tf_targets = None\n",
    "    \n",
    "    rows=[]\n",
    "\n",
    "    if os.path.exists(f'tf_targets_{redux}.fits') and use_cached:\n",
    "        tf_targets = Table.read('cache/tf_targets_{redux}.fits')\n",
    "    else:\n",
    "        try:\n",
    "            db = psycopg2.connect(host='decatdb.lbl.gov', database='desidb', user='desi', password='')\n",
    "            cursor = db.cursor()\n",
    "\n",
    "            \n",
    "            if in_hp_fm and in_hp_rd and with_static_pv:\n",
    "                query = f\"\"\"SELECT rdx.targetid, zd.z, zd.zerr, zd.spectype, zd.deltachi2, zd.zwarn, rdx.sv1_desi_target, rdx.sv1_bgs_target, rdx.sv1_mws_target, rdx.sv1_scnd_target,\n",
    "                rdx.sv2_desi_target, rdx.sv2_bgs_target, rdx.sv2_mws_target, rdx.sv2_scnd_target, rdx.sv3_desi_target, rdx.sv3_bgs_target, rdx.sv3_mws_target, rdx.sv3_scnd_target,\n",
    "                rdx.cmx_target, rdx.priority_init, rdx.desi_target, rdx.bgs_target, rdx.mws_target, rdx.scnd_target, pv.pvtype, pv.sga_id\n",
    "                   FROM {redux}.healpix_fibermap as rdx, static.pv as pv, {redux}.healpix_redshifts as zd\n",
    "                   WHERE (rdx.targetid = {targetid} AND zd.targetid = {targetid} AND q3c_join(rdx.target_ra, rdx.target_dec, pv.ra, pv.dec, 1./3600.));\"\"\"\n",
    "            \n",
    "            elif in_hp_fm and in_hp_rd:\n",
    "                query = f\"\"\"SELECT rdx.targetid, zd.z, zd.zerr, zd.spectype, zd.deltachi2, zd.zwarn, rdx.sv1_desi_target, rdx.sv1_bgs_target, rdx.sv1_mws_target, rdx.sv1_scnd_target,\n",
    "                rdx.sv2_desi_target, rdx.sv2_bgs_target, rdx.sv2_mws_target, rdx.sv2_scnd_target, rdx.sv3_desi_target, rdx.sv3_bgs_target, rdx.sv3_mws_target, rdx.sv3_scnd_target,\n",
    "                rdx.cmx_target, rdx.priority_init, rdx.desi_target, rdx.bgs_target, rdx.mws_target, rdx.scnd_target\n",
    "                   FROM {redux}.healpix_fibermap as rdx, static.pv as pv, {redux}.healpix_redshifts as zd\n",
    "                   WHERE (rdx.targetid = {targetid} AND zd.targetid = {targetid});\"\"\"\n",
    "            \n",
    "            elif in_hp_fm:\n",
    "                query = f\"\"\"SELECT rdx.targetid, rdx.sv1_desi_target, rdx.sv1_bgs_target, rdx.sv1_mws_target, rdx.sv1_scnd_target,\n",
    "                rdx.sv2_desi_target, rdx.sv2_bgs_target, rdx.sv2_mws_target, rdx.sv2_scnd_target, rdx.sv3_desi_target, rdx.sv3_bgs_target, rdx.sv3_mws_target, rdx.sv3_scnd_target,\n",
    "                rdx.cmx_target, rdx.priority_init, rdx.desi_target, rdx.bgs_target, rdx.mws_target, rdx.scnd_target\n",
    "                   FROM {redux}.healpix_fibermap as rdx\n",
    "                   WHERE rdx.targetid = {targetid};\"\"\"\n",
    "                \n",
    "            \n",
    "            \n",
    "            # query = f\"\"\"SELECT rdx.targetid, rdx.target_ra, rdx.target_dec, rdx.mean_fiber_ra, rdx.mean_fiber_dec, rdx.std_fiber_ra, rdx.std_fiber_dec, zd.z, zd.zerr, zd.spectype, zd.deltachi2, zd.zwarn, pv.pvtype, pv.sga_id\n",
    "            #        FROM {redux}.healpix_fibermap as rdx, static.pv as pv, {redux}.healpix_redshifts as zd\n",
    "            #        WHERE q3c_join(rdx.target_ra, rdx.target_dec, pv.ra, pv.dec, 1./3600.) \n",
    "            #              AND zd.targetid = rdx.targetid;\"\"\"\n",
    "            #              # AND pv.sga_id IS NOT NULL AND (pv.pvtype LIKE 'TFT' or pv.pvtype LIKE 'EXT' or pv.pvtype LIKE 'SGA');\"\"\"\n",
    "            \n",
    "#             query = f\"\"\"SELECT rdx.targetid, rdx.target_ra, rdx.target_dec, rdx.mean_fiber_ra, rdx.mean_fiber_dec, rdx.std_fiber_ra, rdx.std_fiber_dec, pv.pvtype, pv.sga_id\n",
    "#                     FROM {redux}.healpix_fibermap as rdx, static.pv as pv\n",
    "#                     WHERE (rdx.targetid = {targetid} AND q3c_join(rdx.target_ra, rdx.target_dec, pv.ra, pv.dec, 1./3600.));\"\"\"\n",
    "            \n",
    "            # query = f\"\"\"SELECT rdx.targetid, rdx.target_ra, rdx.target_dec, rdx.mean_fiber_ra, rdx.mean_fiber_dec, rdx.std_fiber_ra, rdx.std_fiber_dec\n",
    "            #         FROM {redux}.healpix_fibermap as rdx\n",
    "            #         WHERE rdx.targetid = {targetid};\"\"\"\n",
    "            \n",
    "            # query = f\"\"\"SELECT rdx.targetid, rdx.target_ra, rdx.target_dec, rdx.mean_fiber_ra, rdx.mean_fiber_dec, rdx.std_fiber_ra, rdx.std_fiber_dec, zd.z, zd.zerr, zd.spectype, zd.deltachi2, zd.zwarn, rdx.release, rdx.\n",
    "            #        FROM {redux}.healpix_fibermap as rdx, static.pv as pv, {redux}.healpix_redshifts as zd\n",
    "            #        WHERE (zd.targetid = {targetid} AND rdx.targetid = {targetid});\"\"\"\n",
    "                         # AND pv.sga_id IS NOT NULL AND (pv.pvtype LIKE 'TFT' or pv.pvtype LIKE 'EXT' or pv.pvtype LIKE 'SGA');\"\"\"\n",
    "\n",
    "       \n",
    "            # query = f\"\"\"SELECT rdx.targetid, rdx.release, rdx.sv1_desi_target, rdx.sv1_bgs_target, rdx.sv1_mws_target, rdx.\n",
    "            #        FROM {redux}.healpix_fibermap as rdx, static.pv as pv, {redux}.healpix_redshifts as zd\n",
    "            #        WHERE (zd.targetid = {targetid} AND rdx.targetid = {targetid});\"\"\"\n",
    "            #              # AND pv.sga_id IS NOT NULL AND (pv.pvtype LIKE 'TFT' or pv.pvtype LIKE 'EXT' or pv.pvtype LIKE 'SGA');\"\"\"\n",
    "             \n",
    "            if verbose:\n",
    "                print(query)\n",
    "\n",
    "            cursor.execute(query)\n",
    "            rows = cursor.fetchall()\n",
    "#             tf_targets = Table(list(map(list, zip(*rows))),\n",
    "#                                names=['TARGETID', 'TARGET_RA', 'TARGET_DEC', 'MEAN_FIBER_RA', 'MEAN_FIBER_DEC','STD_FIBER_RA', 'STD_FIBER_DEC'])\n",
    "\n",
    "#             #- Select only targets with SGA IDs and PV types matching SGA, EXT, and TFT\n",
    "#             print('selecting')\n",
    "#             select = (tf_targets['SGA_ID'] != None) & (tf_targets['TARGETID'] == targetid) &\\\n",
    "#                      ((tf_targets['PVTYPE'] == 'TFT') | \\\n",
    "#                       (tf_targets['PVTYPE'] == 'EXT') | \\\n",
    "#                       (tf_targets['PVTYPE'] == 'SGA') )\n",
    "#             tf_targets = tf_targets[select]\n",
    "#             print('done')\n",
    "#             #- Use TARGETID to extract the photometric system used during targeting\n",
    "#             _, _, releases, _, _, _ = decode_targetid(tf_targets['TARGETID'].value)\n",
    "\n",
    "#             photsys = []\n",
    "#             for i, release in enumerate(releases):\n",
    "#                 ps = None\n",
    "\n",
    "#                 if release in releasedict:\n",
    "#                     ps = release_to_photsys([release])[0].decode('utf-8')\n",
    "#                 else:\n",
    "#                     #- Fall-through case: not all SGA center observations are in the main survey.\n",
    "#                     #  In this case, select 'N' or 'S' based on the SGA object's position.\n",
    "#                     ra  = tf_targets['TARGET_RA'][i]\n",
    "#                     dec = tf_targets['TARGET_DEC'][i]\n",
    "#                     c = SkyCoord(ra=ra, dec=dec, unit='degree')\n",
    "\n",
    "#                     #- N: in galactic northern hemisphere and with dec > 32.375. Else, S.\n",
    "#                     isnorth = (c.galactic.b > 0) & (dec > 32.375)\n",
    "#                     ps = 'N' if isnorth else 'S'\n",
    "\n",
    "#                 photsys.append(ps)\n",
    "\n",
    "#             #- Complain if the photsys table doesn't match the size of the Vrot table.\n",
    "#             if len(photsys) != len(tf_targets):\n",
    "#                 print(f'photsys array of len {len(photsys)} != targets array of len {len(tf_targets)}')\n",
    "\n",
    "#             tf_targets['PHOTSYS'] = photsys\n",
    "\n",
    "#             # tf_targets.write(f'cache/tf_targets_{redux}.fits', overwrite=True)\n",
    "\n",
    "        except Exception as error:\n",
    "            print(error)\n",
    "        finally:\n",
    "            if db is not None:\n",
    "                db.close()\n",
    "\n",
    "    return rows"
   ]
  },
  {
   "cell_type": "code",
   "execution_count": 32,
   "id": "0a94c521-1d67-44b6-8170-0d8980801058",
   "metadata": {
    "tags": []
   },
   "outputs": [],
   "source": [
    "jura = Table.read('/global/cfs/projectdirs/desi/science/td/pv/tfgalaxies/Y3/desi_pv_jura_healpix.fits')"
   ]
  },
  {
   "cell_type": "code",
   "execution_count": 34,
   "id": "c94c641e-d2da-4701-b5bd-137f7b4daeea",
   "metadata": {
    "tags": []
   },
   "outputs": [
    {
     "name": "stderr",
     "output_type": "stream",
     "text": [
      "100%|██████████| 747/747 [00:37<00:00, 19.86it/s]\n"
     ]
    }
   ],
   "source": [
    "in_jura = 0\n",
    "not_in_jura = 0\n",
    "matches=[]\n",
    "for i in tqdm(range(len(t))):\n",
    "    match = get_tf_targets_modified('jura', targetid=int(t['TARGETID'][i]), with_static_pv=True)\n",
    "    if len(match) > 0:\n",
    "        in_jura +=1\n",
    "        matches.append(match)\n",
    "    else:\n",
    "        not_in_jura +=1"
   ]
  },
  {
   "cell_type": "code",
   "execution_count": 36,
   "id": "f13a0e54-9324-4721-996c-868318b530af",
   "metadata": {
    "tags": []
   },
   "outputs": [
    {
     "name": "stdout",
     "output_type": "stream",
     "text": [
      "with pv\n",
      "0\n",
      "747\n"
     ]
    }
   ],
   "source": [
    "print('with pv')\n",
    "print(in_jura)\n",
    "print(not_in_jura)"
   ]
  },
  {
   "cell_type": "code",
   "execution_count": null,
   "id": "e991d6fa-863d-49f6-8353-186dcaa894bc",
   "metadata": {
    "tags": []
   },
   "outputs": [
    {
     "name": "stderr",
     "output_type": "stream",
     "text": [
      "  1%|▏         | 10/747 [01:08<1:27:10,  7.10s/it]"
     ]
    }
   ],
   "source": [
    "#check iron too\n",
    "in_iron = 0\n",
    "not_in_iron = 0\n",
    "for i in tqdm(range(len(t))):\n",
    "    match = get_tf_targets_modified('iron', targetid=int(t['TARGETID'][i]))\n",
    "    if len(match) > 0:\n",
    "        in_iron +=1\n",
    "    else:\n",
    "        not_in_iron +=1"
   ]
  },
  {
   "cell_type": "code",
   "execution_count": null,
   "id": "c578cc78-5524-4756-8ea4-3ff7564b2461",
   "metadata": {},
   "outputs": [],
   "source": [
    "print('iron healpix in iron db')\n",
    "print(in_iron)\n",
    "print(not_in_iron)"
   ]
  },
  {
   "cell_type": "code",
   "execution_count": 5,
   "id": "a688015c-7345-4e36-8b53-8f7843e5badd",
   "metadata": {
    "tags": []
   },
   "outputs": [
    {
     "name": "stderr",
     "output_type": "stream",
     "text": [
      "100%|██████████| 747/747 [00:09<00:00, 81.01it/s] \n"
     ]
    }
   ],
   "source": [
    "in_jura = 0\n",
    "not_in_jura = 0\n",
    "for i in tqdm(range(len(t))):\n",
    "    match = get_tf_targets_modified('jura', targetid=int(t['TARGETID'][i]))\n",
    "    if len(match) > 0:\n",
    "        in_jura +=1\n",
    "    else:\n",
    "        not_in_jura +=1"
   ]
  },
  {
   "cell_type": "code",
   "execution_count": 6,
   "id": "a9a1d0c9-e965-4ba4-b788-65f5f275195f",
   "metadata": {
    "tags": []
   },
   "outputs": [
    {
     "name": "stdout",
     "output_type": "stream",
     "text": [
      "just healpix_fibermap\n",
      "23\n",
      "724\n"
     ]
    }
   ],
   "source": [
    "print('just healpix_fibermap')\n",
    "print(in_jura)\n",
    "print(not_in_jura)\n"
   ]
  },
  {
   "cell_type": "code",
   "execution_count": 16,
   "id": "000e1821-91b0-463c-83ad-d78a2eec39ca",
   "metadata": {
    "tags": []
   },
   "outputs": [
    {
     "name": "stderr",
     "output_type": "stream",
     "text": [
      "100%|██████████| 747/747 [03:11<00:00,  3.90it/s]\n"
     ]
    }
   ],
   "source": [
    "in_jura = 0\n",
    "not_in_jura = 0\n",
    "for i in tqdm(range(len(t))):\n",
    "    match = get_tf_targets_modified('jura', targetid=int(t['TARGETID'][i]))\n",
    "    if len(match) > 0:\n",
    "        in_jura +=1\n",
    "    else:\n",
    "        not_in_jura +=1"
   ]
  },
  {
   "cell_type": "code",
   "execution_count": 17,
   "id": "5ec7c4ab-437a-4fd2-9ddd-404c745395d2",
   "metadata": {
    "tags": []
   },
   "outputs": [
    {
     "name": "stdout",
     "output_type": "stream",
     "text": [
      "healpix_fibermap and healpix_redshifts\n",
      "23\n",
      "724\n"
     ]
    }
   ],
   "source": [
    "print('healpix_fibermap and healpix_redshifts')\n",
    "print(in_jura)\n",
    "print(not_in_jura)"
   ]
  },
  {
   "cell_type": "code",
   "execution_count": null,
   "id": "6129b26e-28eb-4d70-a44a-6af08e616d17",
   "metadata": {},
   "outputs": [],
   "source": [
    "# what program are the 23 in\n",
    "# remaining 724 don't know why theyre missing\n",
    "\n"
   ]
  },
  {
   "cell_type": "code",
   "execution_count": 18,
   "id": "d4af2a77-6cbe-436c-bcb5-5238366bb175",
   "metadata": {
    "tags": []
   },
   "outputs": [],
   "source": [
    "iron = Table.read('/global/cfs/projectdirs/desi/science/td/pv/tfgalaxies/desi_pv_tf_iron_healpix.fits')\n"
   ]
  },
  {
   "cell_type": "code",
   "execution_count": 20,
   "id": "df7be1e9-7afa-4fb7-aca1-62823c4ab2c8",
   "metadata": {
    "tags": []
   },
   "outputs": [],
   "source": [
    "bad_iron = iron[iron['TARGETID']<0]"
   ]
  },
  {
   "cell_type": "code",
   "execution_count": 26,
   "id": "292acbd7-629d-44e8-90cb-d953d64d090a",
   "metadata": {
    "tags": []
   },
   "outputs": [
    {
     "data": {
      "text/html": [
       "<div><i>Table length=30</i>\n",
       "<table id=\"table140659044923376\" class=\"table-striped table-bordered table-condensed\">\n",
       "<thead><tr><th>TARGETID</th><th>TARGET_RA</th><th>TARGET_DEC</th><th>HEALPIX</th><th>SURVEY</th><th>Z</th><th>ZERR</th><th>ZWARN</th><th>DELTACHI2</th><th>FILENAME</th><th>PVTYPE</th><th>SGA_ID</th><th>RA</th><th>DEC</th></tr></thead>\n",
       "<thead><tr><th>int64</th><th>float64</th><th>float64</th><th>int64</th><th>bytes4</th><th>float64</th><th>float64</th><th>int64</th><th>float64</th><th>bytes65</th><th>bytes3</th><th>int64</th><th>float64</th><th>float64</th></tr></thead>\n",
       "<tr><td>-205733115</td><td>193.87126208164</td><td>-7.79797192944254</td><td>25775</td><td>main</td><td>0.0130934193382867</td><td>7.45083636540879e-05</td><td>512</td><td>83.9020205204843</td><td>iron/healpix/main/bright/257/25775/redrock-main-bright-25775.fits</td><td>EXT</td><td>1232665</td><td>193.8711697701549</td><td>-7.797829020837202</td></tr>\n",
       "<tr><td>-15733115</td><td>193.871320929678</td><td>-7.79798768021886</td><td>25775</td><td>main</td><td>0.013130791151608</td><td>8.25625309823356e-05</td><td>512</td><td>391.830742861355</td><td>iron/healpix/main/dark/257/25775/redrock-main-dark-25775.fits</td><td>EXT</td><td>1232665</td><td>193.8711697701549</td><td>-7.797829020837202</td></tr>\n",
       "<tr><td>-256075243</td><td>267.712765090224</td><td>29.4851124724098</td><td>32659</td><td>main</td><td>0.0249376137955555</td><td>2.44308294845057e-05</td><td>2560</td><td>1544.51990368162</td><td>iron/healpix/main/bright/326/32659/redrock-main-bright-32659.fits</td><td>SGA</td><td>447725</td><td>267.7127798938763</td><td>29.484990855307803</td></tr>\n",
       "<tr><td>-236269010</td><td>159.441551301486</td><td>11.8164401561333</td><td>27589</td><td>main</td><td>0.0536937948152313</td><td>2.00541500335771e-06</td><td>2560</td><td>17253.9541264772</td><td>iron/healpix/main/bright/275/27589/redrock-main-bright-27589.fits</td><td>SGA</td><td>112426</td><td>159.44167440686755</td><td>11.816368587372878</td></tr>\n",
       "<tr><td>-215264164</td><td>139.654305794728</td><td>0.327220629540815</td><td>27301</td><td>main</td><td>0.169394003714603</td><td>1.66655025062609e-05</td><td>2560</td><td>1103.07280277461</td><td>iron/healpix/main/bright/273/27301/redrock-main-bright-27301.fits</td><td>SGA</td><td>460051</td><td>139.65430588469135</td><td>0.32746260142544686</td></tr>\n",
       "<tr><td>-25264164</td><td>139.654293661988</td><td>0.327224885478571</td><td>27301</td><td>main</td><td>0.169385282648763</td><td>1.45650882820012e-05</td><td>2560</td><td>2406.85880166152</td><td>iron/healpix/main/dark/273/27301/redrock-main-dark-27301.fits</td><td>SGA</td><td>460051</td><td>139.65430588469135</td><td>0.32746260142544686</td></tr>\n",
       "<tr><td>-204141114</td><td>256.286226415617</td><td>7.99070771912205</td><td>31568</td><td>main</td><td>0.030854589838939</td><td>1.01156963564606e-05</td><td>2560</td><td>18554.693482786</td><td>iron/healpix/main/bright/315/31568/redrock-main-bright-31568.fits</td><td>SGA</td><td>1127864</td><td>256.2861272736802</td><td>7.990563879458973</td></tr>\n",
       "<tr><td>-14141114</td><td>256.286208378824</td><td>7.99067911276296</td><td>31568</td><td>main</td><td>0.0308607643018934</td><td>5.19829767772308e-06</td><td>512</td><td>65773.1641197163</td><td>iron/healpix/main/dark/315/31568/redrock-main-dark-31568.fits</td><td>SGA</td><td>1127864</td><td>256.2861272736802</td><td>7.990563879458973</td></tr>\n",
       "<tr><td>-83744284</td><td>192.08201456717</td><td>-0.515340597093489</td><td>26216</td><td>main</td><td>0.932752477574551</td><td>2.23214609614882e-46</td><td>518</td><td>0.0</td><td>iron/healpix/main/dark/262/26216/redrock-main-dark-26216.fits</td><td>SGA</td><td>821777</td><td>192.08195042935628</td><td>-0.515288210200595</td></tr>\n",
       "<tr><td>-100018047</td><td>195.73385142579</td><td>36.3516165631528</td><td>10775</td><td>main</td><td>0.102044960979886</td><td>0.000148085378056782</td><td>512</td><td>10.5784993575071</td><td>iron/healpix/main/dark/107/10775/redrock-main-dark-10775.fits</td><td>TFT</td><td>449993</td><td>195.73394171372252</td><td>36.35185712198818</td></tr>\n",
       "<tr><td>...</td><td>...</td><td>...</td><td>...</td><td>...</td><td>...</td><td>...</td><td>...</td><td>...</td><td>...</td><td>...</td><td>...</td><td>...</td><td>...</td></tr>\n",
       "<tr><td>-204834222</td><td>156.218107863433</td><td>7.15848293358231</td><td>27449</td><td>main</td><td>0.492471861906763</td><td>5.68027610908437e-05</td><td>516</td><td>2.07404410839081</td><td>iron/healpix/main/bright/274/27449/redrock-main-bright-27449.fits</td><td>TFT</td><td>4614</td><td>156.21810707253144</td><td>7.1582430702316175</td></tr>\n",
       "<tr><td>-255474428</td><td>318.116492659747</td><td>-5.28401899381209</td><td>49107</td><td>main</td><td>0.0489536329997778</td><td>7.85721765764138e-05</td><td>512</td><td>67.7162851418252</td><td>iron/healpix/main/bright/491/49107/redrock-main-bright-49107.fits</td><td>TFT</td><td>342501</td><td>318.1167585749797</td><td>-5.283990383719008</td></tr>\n",
       "<tr><td>-115015155</td><td>187.763020229623</td><td>0.048940228168639</td><td>26265</td><td>main</td><td>0.0415927059061234</td><td>6.02144194666072e-06</td><td>2560</td><td>1703.41704300046</td><td>iron/healpix/main/dark/262/26265/redrock-main-dark-26265.fits</td><td>TFT</td><td>1202979</td><td>187.7631083263793</td><td>0.04896332744150247</td></tr>\n",
       "<tr><td>-220511122</td><td>158.609359755658</td><td>4.10129785830121</td><td>27416</td><td>main</td><td>0.144241059640017</td><td>2.33868723530211e-05</td><td>2560</td><td>100.713619448245</td><td>iron/healpix/main/bright/274/27416/redrock-main-bright-27416.fits</td><td>TFT</td><td>1285714</td><td>158.60939980220817</td><td>4.1014249139344905</td></tr>\n",
       "<tr><td>-90263436</td><td>236.954801535754</td><td>11.5936501285326</td><td>8454</td><td>main</td><td>0.932752477574551</td><td>2.23214609614882e-46</td><td>646</td><td>0.0</td><td>iron/healpix/main/dark/84/8454/redrock-main-dark-8454.fits</td><td>TFT</td><td>373626</td><td>236.95456149974638</td><td>11.593791641263293</td></tr>\n",
       "<tr><td>-215282046</td><td>135.381709169741</td><td>2.89942982211333</td><td>4108</td><td>main</td><td>0.0706704079002097</td><td>9.79045252498841e-06</td><td>2560</td><td>552.151083858917</td><td>iron/healpix/main/bright/41/4108/redrock-main-bright-4108.fits</td><td>TFT</td><td>730406</td><td>135.38157955417336</td><td>2.8996065765603865</td></tr>\n",
       "<tr><td>-239472210</td><td>323.502907257596</td><td>2.59623615801086</td><td>19168</td><td>main</td><td>0.0570545794337428</td><td>2.47376442711859e-05</td><td>2560</td><td>36.3351525710896</td><td>iron/healpix/main/bright/191/19168/redrock-main-bright-19168.fits</td><td>TFT</td><td>1245160</td><td>323.5028651783498</td><td>2.5963714595607508</td></tr>\n",
       "<tr><td>-81700307</td><td>253.879764237758</td><td>30.232731049357</td><td>9306</td><td>main</td><td>0.0320205282778936</td><td>3.98632059013461e-06</td><td>2560</td><td>2001.26936594922</td><td>iron/healpix/main/dark/93/9306/redrock-main-dark-9306.fits</td><td>TFT</td><td>472612</td><td>253.8797611912072</td><td>30.232478487070754</td></tr>\n",
       "<tr><td>-104736374</td><td>222.018347386301</td><td>-2.66546232418972</td><td>45039</td><td>main</td><td>0.0370994534479818</td><td>7.19537996610194e-05</td><td>2564</td><td>3.56562258518534</td><td>iron/healpix/main/dark/450/45039/redrock-main-dark-45039.fits</td><td>TFT</td><td>320772</td><td>222.01853015168112</td><td>-2.6654038518125134</td></tr>\n",
       "<tr><td>-2636016</td><td>220.050550464717</td><td>-0.27826736320203</td><td>25946</td><td>sv3</td><td>0.932752477574551</td><td>2.23214609614882e-46</td><td>518</td><td>0.0</td><td>iron/healpix/sv3/bright/259/25946/redrock-sv3-bright-25946.fits</td><td>TFT</td><td>328560</td><td>220.0507049534232</td><td>-0.2784824969283689</td></tr>\n",
       "</table></div>"
      ],
      "text/plain": [
       "<Table length=30>\n",
       " TARGETID     TARGET_RA     ...         RA                 DEC        \n",
       "  int64        float64      ...      float64             float64      \n",
       "---------- ---------------- ... ------------------ -------------------\n",
       "-205733115  193.87126208164 ...  193.8711697701549  -7.797829020837202\n",
       " -15733115 193.871320929678 ...  193.8711697701549  -7.797829020837202\n",
       "-256075243 267.712765090224 ...  267.7127798938763  29.484990855307803\n",
       "-236269010 159.441551301486 ... 159.44167440686755  11.816368587372878\n",
       "-215264164 139.654305794728 ... 139.65430588469135 0.32746260142544686\n",
       " -25264164 139.654293661988 ... 139.65430588469135 0.32746260142544686\n",
       "-204141114 256.286226415617 ...  256.2861272736802   7.990563879458973\n",
       " -14141114 256.286208378824 ...  256.2861272736802   7.990563879458973\n",
       " -83744284  192.08201456717 ... 192.08195042935628  -0.515288210200595\n",
       "-100018047  195.73385142579 ... 195.73394171372252   36.35185712198818\n",
       "       ...              ... ...                ...                 ...\n",
       "-204834222 156.218107863433 ... 156.21810707253144  7.1582430702316175\n",
       "-255474428 318.116492659747 ...  318.1167585749797  -5.283990383719008\n",
       "-115015155 187.763020229623 ...  187.7631083263793 0.04896332744150247\n",
       "-220511122 158.609359755658 ... 158.60939980220817  4.1014249139344905\n",
       " -90263436 236.954801535754 ... 236.95456149974638  11.593791641263293\n",
       "-215282046 135.381709169741 ... 135.38157955417336  2.8996065765603865\n",
       "-239472210 323.502907257596 ...  323.5028651783498  2.5963714595607508\n",
       " -81700307 253.879764237758 ...  253.8797611912072  30.232478487070754\n",
       "-104736374 222.018347386301 ... 222.01853015168112 -2.6654038518125134\n",
       "  -2636016 220.050550464717 ...  220.0507049534232 -0.2784824969283689"
      ]
     },
     "execution_count": 26,
     "metadata": {},
     "output_type": "execute_result"
    }
   ],
   "source": [
    "bad_iron"
   ]
  },
  {
   "cell_type": "code",
   "execution_count": 27,
   "id": "32a2a5b4-b262-4d80-abb8-bf56cb252bdd",
   "metadata": {
    "tags": []
   },
   "outputs": [
    {
     "name": "stderr",
     "output_type": "stream",
     "text": [
      "100%|██████████| 30/30 [03:16<00:00,  6.54s/it]\n"
     ]
    }
   ],
   "source": [
    "in_jura=0\n",
    "not_in_jura =0\n",
    "for i in tqdm(range(len(bad_iron))):\n",
    "    match = get_tf_targets_modified('jura', targetid=int(bad_iron['TARGETID'][i]))\n",
    "    if len(match) > 0:\n",
    "        in_jura +=1\n",
    "    else:\n",
    "        not_in_jura +=1"
   ]
  },
  {
   "cell_type": "code",
   "execution_count": 28,
   "id": "60312ec3-0a02-4fce-b16b-0bd8941d3f6a",
   "metadata": {
    "tags": []
   },
   "outputs": [
    {
     "name": "stdout",
     "output_type": "stream",
     "text": [
      "bad iron in jura\n",
      "28\n",
      "2\n"
     ]
    }
   ],
   "source": [
    "print('bad iron in jura')\n",
    "print(in_jura)\n",
    "print(not_in_jura)"
   ]
  },
  {
   "cell_type": "code",
   "execution_count": null,
   "id": "4cdba8bd-c182-4b18-a3a4-fa92958c5bf2",
   "metadata": {},
   "outputs": [],
   "source": []
  }
 ],
 "metadata": {
  "kernelspec": {
   "display_name": "DESI main",
   "language": "python",
   "name": "desi-main"
  },
  "language_info": {
   "codemirror_mode": {
    "name": "ipython",
    "version": 3
   },
   "file_extension": ".py",
   "mimetype": "text/x-python",
   "name": "python",
   "nbconvert_exporter": "python",
   "pygments_lexer": "ipython3",
   "version": "3.10.14"
  }
 },
 "nbformat": 4,
 "nbformat_minor": 5
}
