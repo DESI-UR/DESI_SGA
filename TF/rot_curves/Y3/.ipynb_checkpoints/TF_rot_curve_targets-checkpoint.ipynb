{
 "cells": [
  {
   "cell_type": "code",
   "execution_count": 9,
   "id": "e319c66b-466e-4cc9-904d-e57c9ef2d3df",
   "metadata": {
    "tags": []
   },
   "outputs": [],
   "source": [
    "import numpy as np\n",
    "from astropy.table import Table, vstack\n",
    "import matplotlib.pyplot as plt\n",
    "from astropy.io import fits\n",
    "from astropy.coordinates import SkyCoord\n",
    "from astropy import units as u\n",
    "from tqdm import tqdm"
   ]
  },
  {
   "cell_type": "markdown",
   "id": "a0a16d7e-5508-4395-92d8-9ebcb1847e77",
   "metadata": {},
   "source": [
    "## TF Jura table"
   ]
  },
  {
   "cell_type": "code",
   "execution_count": 10,
   "id": "a3dba8a9-a19a-4b76-9570-7eba43973eb7",
   "metadata": {
    "tags": []
   },
   "outputs": [
    {
     "data": {
      "text/html": [
       "<div><i>Table length=5</i>\n",
       "<table id=\"table139941238046288\" class=\"table-striped table-bordered table-condensed\">\n",
       "<thead><tr><th>TARGETID</th><th>TARGET_RA</th><th>TARGET_DEC</th><th>MEAN_FIBER_RA</th><th>MEAN_FIBER_DEC</th><th>STD_FIBER_RA</th><th>STD_FIBER_DEC</th><th>Z</th><th>ZERR</th><th>SPECTYPE</th><th>DELTACHI2</th><th>ZWARN</th><th>PVTYPE</th><th>SGA_ID</th><th>PHOTSYS</th><th>SKY_FIBER_DIST</th><th>SKY_FIBER_DIST_R26</th></tr></thead>\n",
       "<thead><tr><th>int64</th><th>float64</th><th>float64</th><th>float64</th><th>float64</th><th>float64</th><th>float64</th><th>float64</th><th>float64</th><th>bytes6</th><th>float64</th><th>int64</th><th>bytes3</th><th>int32</th><th>bytes1</th><th>float64</th><th>float64</th></tr></thead>\n",
       "<tr><td>-430502046</td><td>134.00013295228783</td><td>5.934552839997555</td><td>134.0000012447711</td><td>5.934402495943119</td><td>0.0</td><td>0.0</td><td>1.5211813094599733</td><td>9.536633276548175e-05</td><td>GALAXY</td><td>21.043927863240242</td><td>2049</td><td>TFT</td><td>838970</td><td>S</td><td>0.0</td><td>0.0</td></tr>\n",
       "<tr><td>-427872363</td><td>61.981718642816155</td><td>-22.823913110732356</td><td>61.981815755036905</td><td>-22.824112647850505</td><td>0.01692960597574711</td><td>0.01899055577814579</td><td>0.049085960824979194</td><td>8.765385426009584e-06</td><td>GALAXY</td><td>320.327581204474</td><td>2049</td><td>TFT</td><td>982213</td><td>S</td><td>0.0</td><td>0.0</td></tr>\n",
       "<tr><td>-411444222</td><td>156.2181500220905</td><td>7.1584828480845655</td><td>156.21807676457115</td><td>7.1586258676041306</td><td>0.0</td><td>0.0</td><td>0.7655265334224575</td><td>0.00014819907104570706</td><td>GALAXY</td><td>2.862433671951294</td><td>2053</td><td>TFT</td><td>4614</td><td>S</td><td>0.0</td><td>0.0</td></tr>\n",
       "<tr><td>-261707523</td><td>51.18809619857989</td><td>-15.380001206793725</td><td>51.18805131712048</td><td>-15.379972719695512</td><td>0.18443052470684052</td><td>0.270201712846756</td><td>0.11706841864860068</td><td>1.263477560383397e-05</td><td>GALAXY</td><td>5022.345633155666</td><td>512</td><td>SGA</td><td>788458</td><td>S</td><td>0.0</td><td>0.0</td></tr>\n",
       "<tr><td>-260779407</td><td>138.32747528464944</td><td>17.5639019859795</td><td>138.32760054746495</td><td>17.56391743552376</td><td>0.0</td><td>0.0</td><td>0.08569271543378945</td><td>9.438671035622181e-06</td><td>GALAXY</td><td>243.51359286904335</td><td>2560</td><td>TFT</td><td>735997</td><td>S</td><td>0.0</td><td>0.0</td></tr>\n",
       "</table></div>"
      ],
      "text/plain": [
       "<Table length=5>\n",
       " TARGETID      TARGET_RA      ... SKY_FIBER_DIST SKY_FIBER_DIST_R26\n",
       "  int64         float64       ...    float64          float64      \n",
       "---------- ------------------ ... -------------- ------------------\n",
       "-430502046 134.00013295228783 ...            0.0                0.0\n",
       "-427872363 61.981718642816155 ...            0.0                0.0\n",
       "-411444222  156.2181500220905 ...            0.0                0.0\n",
       "-261707523  51.18809619857989 ...            0.0                0.0\n",
       "-260779407 138.32747528464944 ...            0.0                0.0"
      ]
     },
     "execution_count": 10,
     "metadata": {},
     "output_type": "execute_result"
    }
   ],
   "source": [
    "tf_jura = Table.read('/global/cfs/projectdirs/desi/science/td/pv/tfgalaxies/Y3/desi_pv_jura_healpix.fits')\n",
    "tf_jura[:5]"
   ]
  },
  {
   "cell_type": "code",
   "execution_count": 11,
   "id": "7486ab6d-33c4-4ca0-b1d1-3b004691e7ee",
   "metadata": {
    "tags": []
   },
   "outputs": [],
   "source": [
    "# SGA IDs in jura table\n",
    "SGA_IDs = np.unique(tf_jura['SGA_ID'])"
   ]
  },
  {
   "cell_type": "markdown",
   "id": "834aa860-c89b-448f-b285-d80c050e0942",
   "metadata": {},
   "source": [
    "## checking if jura actually does contain iron and fuji..... hmmmm"
   ]
  },
  {
   "cell_type": "code",
   "execution_count": 12,
   "id": "773a5fe9-226f-49a6-a494-dc1257aaf66d",
   "metadata": {
    "tags": []
   },
   "outputs": [
    {
     "data": {
      "text/html": [
       "<div><i>Table length=5</i>\n",
       "<table id=\"table139941238044272\" class=\"table-striped table-bordered table-condensed\">\n",
       "<thead><tr><th>TARGETID</th><th>TARGET_RA</th><th>TARGET_DEC</th><th>HEALPIX</th><th>SURVEY</th><th>Z</th><th>ZERR</th><th>ZWARN</th><th>DELTACHI2</th><th>FILENAME</th><th>PVTYPE</th><th>SGA_ID</th><th>RA</th><th>DEC</th></tr></thead>\n",
       "<thead><tr><th>int64</th><th>float64</th><th>float64</th><th>int64</th><th>bytes3</th><th>float64</th><th>float64</th><th>int64</th><th>float64</th><th>bytes63</th><th>bytes3</th><th>int64</th><th>float64</th><th>float64</th></tr></thead>\n",
       "<tr><td>1079550234591232</td><td>194.390863195343</td><td>27.5157211790145</td><td>10378</td><td>sv3</td><td>1.1235686466514</td><td>7.31685779475115e-05</td><td>4</td><td>3.28414569795132</td><td>fuji/healpix/sv3/bright/103/10378/redrock-sv3-bright-10378.fits</td><td>EXT</td><td>662902</td><td>194.39086319534337</td><td>27.51572117901454</td></tr>\n",
       "<tr><td>1092744374124544</td><td>194.390863195343</td><td>27.5157211790145</td><td>10378</td><td>sv3</td><td>0.686773088332363</td><td>6.9756676262104e-05</td><td>4</td><td>0.786607094109058</td><td>fuji/healpix/sv3/dark/103/10378/redrock-sv3-dark-10378.fits</td><td>EXT</td><td>662902</td><td>194.39086319534337</td><td>27.51572117901454</td></tr>\n",
       "<tr><td>1092744374124546</td><td>194.364461113654</td><td>27.5037185881314</td><td>10378</td><td>sv3</td><td>0.0242933923052181</td><td>4.95233472646785e-05</td><td>0</td><td>95.428411073226</td><td>fuji/healpix/sv3/dark/103/10378/redrock-sv3-dark-10378.fits</td><td>EXT</td><td>662902</td><td>194.36446111365385</td><td>27.50371858813136</td></tr>\n",
       "<tr><td>1092744369930240</td><td>194.338458724402</td><td>27.4918902690326</td><td>10378</td><td>sv3</td><td>0.0264170223697961</td><td>0.00010139452689994</td><td>0</td><td>9.53278421035066</td><td>fuji/healpix/sv3/dark/103/10378/redrock-sv3-dark-10378.fits</td><td>EXT</td><td>662902</td><td>194.33845872440244</td><td>27.491890269032595</td></tr>\n",
       "<tr><td>1092744374124545</td><td>194.377858465028</td><td>27.5098100780282</td><td>10378</td><td>sv3</td><td>0.211332646769145</td><td>6.68535116703737e-05</td><td>4</td><td>3.73989077657461</td><td>fuji/healpix/sv3/dark/103/10378/redrock-sv3-dark-10378.fits</td><td>EXT</td><td>662902</td><td>194.3778584650283</td><td>27.509810078028195</td></tr>\n",
       "</table></div>"
      ],
      "text/plain": [
       "<Table length=5>\n",
       "    TARGETID        TARGET_RA     ...         RA                DEC        \n",
       "     int64           float64      ...      float64            float64      \n",
       "---------------- ---------------- ... ------------------ ------------------\n",
       "1079550234591232 194.390863195343 ... 194.39086319534337  27.51572117901454\n",
       "1092744374124544 194.390863195343 ... 194.39086319534337  27.51572117901454\n",
       "1092744374124546 194.364461113654 ... 194.36446111365385  27.50371858813136\n",
       "1092744369930240 194.338458724402 ... 194.33845872440244 27.491890269032595\n",
       "1092744374124545 194.377858465028 ...  194.3778584650283 27.509810078028195"
      ]
     },
     "execution_count": 12,
     "metadata": {},
     "output_type": "execute_result"
    }
   ],
   "source": [
    "tf_fuji = Table.read('/global/cfs/projectdirs/desi/science/td/pv/tfgalaxies/desi_pv_tf_fuji_healpix.fits')\n",
    "tf_fuji[:5]"
   ]
  },
  {
   "cell_type": "code",
   "execution_count": 13,
   "id": "84d24e79-7627-49ab-b8dd-771acba3f4f8",
   "metadata": {
    "tags": []
   },
   "outputs": [
    {
     "data": {
      "text/html": [
       "<div><i>Table length=5</i>\n",
       "<table id=\"table139941236582064\" class=\"table-striped table-bordered table-condensed\">\n",
       "<thead><tr><th>TARGETID</th><th>TARGET_RA</th><th>TARGET_DEC</th><th>HEALPIX</th><th>SURVEY</th><th>Z</th><th>ZERR</th><th>ZWARN</th><th>DELTACHI2</th><th>FILENAME</th><th>PVTYPE</th><th>SGA_ID</th><th>RA</th><th>DEC</th></tr></thead>\n",
       "<thead><tr><th>int64</th><th>float64</th><th>float64</th><th>int64</th><th>bytes4</th><th>float64</th><th>float64</th><th>int64</th><th>float64</th><th>bytes65</th><th>bytes3</th><th>int64</th><th>float64</th><th>float64</th></tr></thead>\n",
       "<tr><td>2852147603439621</td><td>198.369130660983</td><td>36.5372037049171</td><td>10475</td><td>main</td><td>0.815976335547845</td><td>7.38513168100107e-05</td><td>4</td><td>0.128754377365112</td><td>iron/healpix/main/dark/104/10475/redrock-main-dark-10475.fits</td><td>EXT</td><td>649377</td><td>198.36913066098333</td><td>36.537203704917076</td></tr>\n",
       "<tr><td>2399148812795907</td><td>198.371733180003</td><td>36.4994335406917</td><td>10475</td><td>main</td><td>1.11088784970434</td><td>7.48767797671894e-05</td><td>4</td><td>7.9473560154438</td><td>iron/healpix/main/bright/104/10475/redrock-main-bright-10475.fits</td><td>EXT</td><td>649377</td><td>198.37173318000336</td><td>36.499433540691676</td></tr>\n",
       "<tr><td>2399382443917318</td><td>184.845242475328</td><td>49.8157304793777</td><td>10995</td><td>main</td><td>1.14739342108157</td><td>0.000146302276719084</td><td>4</td><td>2.56771463155746</td><td>iron/healpix/main/bright/109/10995/redrock-main-bright-10995.fits</td><td>EXT</td><td>1008911</td><td>184.84524247532795</td><td>49.81573047937771</td></tr>\n",
       "<tr><td>2399634072797192</td><td>184.341289722203</td><td>70.8283725474297</td><td>11965</td><td>main</td><td>1.51703376230705</td><td>6.28979649962091e-05</td><td>4</td><td>4.76254060305655</td><td>iron/healpix/main/bright/119/11965/redrock-main-bright-11965.fits</td><td>EXT</td><td>241234</td><td>184.34128972220284</td><td>70.82837254742968</td></tr>\n",
       "<tr><td>2852141710442505</td><td>123.256011148025</td><td>36.2652948002806</td><td>6448</td><td>main</td><td>0.00787379494184006</td><td>3.4714052819995e-05</td><td>0</td><td>22.1719104201402</td><td>iron/healpix/main/dark/64/6448/redrock-main-dark-6448.fits</td><td>EXT</td><td>31591</td><td>123.25601114802525</td><td>36.26529480028061</td></tr>\n",
       "</table></div>"
      ],
      "text/plain": [
       "<Table length=5>\n",
       "    TARGETID        TARGET_RA     ...         RA                DEC        \n",
       "     int64           float64      ...      float64            float64      \n",
       "---------------- ---------------- ... ------------------ ------------------\n",
       "2852147603439621 198.369130660983 ... 198.36913066098333 36.537203704917076\n",
       "2399148812795907 198.371733180003 ... 198.37173318000336 36.499433540691676\n",
       "2399382443917318 184.845242475328 ... 184.84524247532795  49.81573047937771\n",
       "2399634072797192 184.341289722203 ... 184.34128972220284  70.82837254742968\n",
       "2852141710442505 123.256011148025 ... 123.25601114802525  36.26529480028061"
      ]
     },
     "execution_count": 13,
     "metadata": {},
     "output_type": "execute_result"
    }
   ],
   "source": [
    "tf_iron = Table.read('/global/cfs/projectdirs/desi/science/td/pv/tfgalaxies/desi_pv_tf_iron_healpix.fits')\n",
    "tf_iron[:5]"
   ]
  },
  {
   "cell_type": "code",
   "execution_count": 14,
   "id": "e3d8de4e-000f-4def-8677-8d8d013b12df",
   "metadata": {
    "tags": []
   },
   "outputs": [],
   "source": [
    "fuji_SGA = np.unique(tf_fuji['SGA_ID'])\n",
    "iron_SGA = np.unique(tf_iron['SGA_ID'])"
   ]
  },
  {
   "cell_type": "code",
   "execution_count": 29,
   "id": "73cb89d5-9619-4cae-b4b8-97799afade80",
   "metadata": {
    "tags": []
   },
   "outputs": [],
   "source": [
    "fuji_not_iron = 0.\n",
    "fuji_not_jura = 0.\n",
    "iron_not_jura = 0.\n",
    "iron_targs=0\n",
    "\n",
    "for i in fuji_SGA:\n",
    "    if i not in iron_SGA:\n",
    "        fuji_not_iron += 1\n",
    "    if i not in SGA_IDs:\n",
    "        fuji_not_jura += 1\n",
    "        \n",
    "for i in iron_SGA:\n",
    "    if i not in SGA_IDs:\n",
    "        iron_not_jura += 1\n",
    "        iron_targs += len(tf_iron[tf_iron['SGA_ID']==i])"
   ]
  },
  {
   "cell_type": "code",
   "execution_count": 30,
   "id": "dff979ce-d176-4713-b453-7bf5db30623e",
   "metadata": {
    "tags": []
   },
   "outputs": [
    {
     "name": "stdout",
     "output_type": "stream",
     "text": [
      "19.0\n",
      "538.0\n",
      "632.0\n",
      "747\n"
     ]
    }
   ],
   "source": [
    "print(fuji_not_iron)\n",
    "print(fuji_not_jura)\n",
    "print(iron_not_jura)\n",
    "print(iron_targs)"
   ]
  },
  {
   "cell_type": "code",
   "execution_count": 35,
   "id": "733b7edd-190e-4046-9bd8-5264077d69a4",
   "metadata": {},
   "outputs": [],
   "source": [
    "#program, targetid, file name from iron not in jura\n",
    "\n",
    "target_id = []\n",
    "survey = []\n",
    "filename = []\n",
    "\n",
    "for i in range(len(tf_iron)):\n",
    "    \n",
    "    sga_id = tf_iron['SGA_ID'][i]\n",
    "    \n",
    "    if sga_id not in SGA_IDs:\n",
    "        \n",
    "        target_id.append(tf_iron['TARGETID'][i])\n",
    "        survey.append(tf_iron['SURVEY'][i])\n",
    "        filename.append(tf_iron['FILENAME'][i])\n",
    "        "
   ]
  },
  {
   "cell_type": "code",
   "execution_count": 44,
   "id": "ee058e38-237f-4bf7-be4c-2c1a63af1207",
   "metadata": {
    "tags": []
   },
   "outputs": [],
   "source": [
    "col1 = fits.Column(name='TARGETID', format = 'D', array=np.array(target_id))        \n",
    "col2 = fits.Column(name='SURVEY', format = '4A', array=survey)\n",
    "col3 = fits.Column(name='FILENAME', format = '65A', array=filename)\n",
    "coldefs = fits.ColDefs([col1, col2, col3])\n",
    "hdu = fits.BinTableHDU.from_columns(coldefs)\n",
    "hdu.writeto('/pscratch/sd/n/nravi/pv_rot_curves/iron_not_jura.fits', overwrite=True)\n"
   ]
  },
  {
   "cell_type": "markdown",
   "id": "07ab959c-8a3e-4ade-818a-eb272e87679a",
   "metadata": {},
   "source": [
    "## combining all tables...."
   ]
  },
  {
   "cell_type": "code",
   "execution_count": null,
   "id": "20fe30f2-e30d-40af-a853-c1b08d06c742",
   "metadata": {},
   "outputs": [],
   "source": []
  },
  {
   "cell_type": "markdown",
   "id": "fb8d92fa-b4f6-4dd7-aa6b-06f807e34996",
   "metadata": {},
   "source": [
    "## SGA TABLE"
   ]
  },
  {
   "cell_type": "code",
   "execution_count": 4,
   "id": "702b19a2-9238-48de-8823-f256cc184db5",
   "metadata": {
    "tags": []
   },
   "outputs": [
    {
     "data": {
      "text/html": [
       "<div><i>Table length=5</i>\n",
       "<table id=\"table139936349328176\" class=\"table-striped table-bordered table-condensed\">\n",
       "<thead><tr><th>SGA_ID</th><th>SGA_GALAXY</th><th>GALAXY</th><th>PGC</th><th>RA_LEDA</th><th>DEC_LEDA</th><th>MORPHTYPE</th><th>PA_LEDA</th><th>D25_LEDA</th><th>BA_LEDA</th><th>Z_LEDA</th><th>SB_D25_LEDA</th><th>MAG_LEDA</th><th>BYHAND</th><th>REF</th><th>GROUP_ID</th><th>GROUP_NAME</th><th>GROUP_MULT</th><th>GROUP_PRIMARY</th><th>GROUP_RA</th><th>GROUP_DEC</th><th>GROUP_DIAMETER</th><th>BRICKNAME</th><th>RA</th><th>DEC</th><th>D26</th><th>D26_REF</th><th>PA</th><th>BA</th><th>RA_MOMENT</th><th>DEC_MOMENT</th><th>SMA_MOMENT</th><th>G_SMA50</th><th>R_SMA50</th><th>Z_SMA50</th><th>SMA_SB22</th><th>SMA_SB22.5</th><th>SMA_SB23</th><th>SMA_SB23.5</th><th>SMA_SB24</th><th>SMA_SB24.5</th><th>SMA_SB25</th><th>SMA_SB25.5</th><th>SMA_SB26</th><th>G_MAG_SB22</th><th>R_MAG_SB22</th><th>Z_MAG_SB22</th><th>G_MAG_SB22.5</th><th>R_MAG_SB22.5</th><th>Z_MAG_SB22.5</th><th>G_MAG_SB23</th><th>R_MAG_SB23</th><th>Z_MAG_SB23</th><th>G_MAG_SB23.5</th><th>R_MAG_SB23.5</th><th>Z_MAG_SB23.5</th><th>G_MAG_SB24</th><th>R_MAG_SB24</th><th>Z_MAG_SB24</th><th>G_MAG_SB24.5</th><th>R_MAG_SB24.5</th><th>Z_MAG_SB24.5</th><th>G_MAG_SB25</th><th>R_MAG_SB25</th><th>Z_MAG_SB25</th><th>G_MAG_SB25.5</th><th>R_MAG_SB25.5</th><th>Z_MAG_SB25.5</th><th>G_MAG_SB26</th><th>R_MAG_SB26</th><th>Z_MAG_SB26</th><th>SMA_SB22_ERR</th><th>SMA_SB22.5_ERR</th><th>SMA_SB23_ERR</th><th>SMA_SB23.5_ERR</th><th>SMA_SB24_ERR</th><th>SMA_SB24.5_ERR</th><th>SMA_SB25_ERR</th><th>SMA_SB25.5_ERR</th><th>SMA_SB26_ERR</th><th>G_MAG_SB22_ERR</th><th>R_MAG_SB22_ERR</th><th>Z_MAG_SB22_ERR</th><th>G_MAG_SB22.5_ERR</th><th>R_MAG_SB22.5_ERR</th><th>Z_MAG_SB22.5_ERR</th><th>G_MAG_SB23_ERR</th><th>R_MAG_SB23_ERR</th><th>Z_MAG_SB23_ERR</th><th>G_MAG_SB23.5_ERR</th><th>R_MAG_SB23.5_ERR</th><th>Z_MAG_SB23.5_ERR</th><th>G_MAG_SB24_ERR</th><th>R_MAG_SB24_ERR</th><th>Z_MAG_SB24_ERR</th><th>G_MAG_SB24.5_ERR</th><th>R_MAG_SB24.5_ERR</th><th>Z_MAG_SB24.5_ERR</th><th>G_MAG_SB25_ERR</th><th>R_MAG_SB25_ERR</th><th>Z_MAG_SB25_ERR</th><th>G_MAG_SB25.5_ERR</th><th>R_MAG_SB25.5_ERR</th><th>Z_MAG_SB25.5_ERR</th><th>G_MAG_SB26_ERR</th><th>R_MAG_SB26_ERR</th><th>Z_MAG_SB26_ERR</th><th>G_COG_PARAMS_MTOT</th><th>G_COG_PARAMS_M0</th><th>G_COG_PARAMS_ALPHA1</th><th>G_COG_PARAMS_ALPHA2</th><th>G_COG_PARAMS_CHI2</th><th>R_COG_PARAMS_MTOT</th><th>R_COG_PARAMS_M0</th><th>R_COG_PARAMS_ALPHA1</th><th>R_COG_PARAMS_ALPHA2</th><th>R_COG_PARAMS_CHI2</th><th>Z_COG_PARAMS_MTOT</th><th>Z_COG_PARAMS_M0</th><th>Z_COG_PARAMS_ALPHA1</th><th>Z_COG_PARAMS_ALPHA2</th><th>Z_COG_PARAMS_CHI2</th><th>ELLIPSEBIT</th></tr></thead>\n",
       "<thead><tr><th>int64</th><th>bytes16</th><th>bytes29</th><th>int64</th><th>float64</th><th>float64</th><th>bytes21</th><th>float32</th><th>float32</th><th>float32</th><th>float32</th><th>float32</th><th>float32</th><th>bool</th><th>bytes13</th><th>int64</th><th>bytes35</th><th>int16</th><th>bool</th><th>float64</th><th>float64</th><th>float32</th><th>bytes8</th><th>float64</th><th>float64</th><th>float32</th><th>bytes4</th><th>float32</th><th>float32</th><th>float64</th><th>float64</th><th>float32</th><th>float32</th><th>float32</th><th>float32</th><th>float32</th><th>float32</th><th>float32</th><th>float32</th><th>float32</th><th>float32</th><th>float32</th><th>float32</th><th>float32</th><th>float32</th><th>float32</th><th>float32</th><th>float32</th><th>float32</th><th>float32</th><th>float32</th><th>float32</th><th>float32</th><th>float32</th><th>float32</th><th>float32</th><th>float32</th><th>float32</th><th>float32</th><th>float32</th><th>float32</th><th>float32</th><th>float32</th><th>float32</th><th>float32</th><th>float32</th><th>float32</th><th>float32</th><th>float32</th><th>float32</th><th>float32</th><th>float32</th><th>float32</th><th>float32</th><th>float32</th><th>float32</th><th>float32</th><th>float32</th><th>float32</th><th>float32</th><th>float32</th><th>float32</th><th>float32</th><th>float32</th><th>float32</th><th>float32</th><th>float32</th><th>float32</th><th>float32</th><th>float32</th><th>float32</th><th>float32</th><th>float32</th><th>float32</th><th>float32</th><th>float32</th><th>float32</th><th>float32</th><th>float32</th><th>float32</th><th>float32</th><th>float32</th><th>float32</th><th>float32</th><th>float32</th><th>float32</th><th>float32</th><th>float32</th><th>float32</th><th>float32</th><th>float32</th><th>float32</th><th>float32</th><th>float32</th><th>float32</th><th>float32</th><th>float32</th><th>float32</th><th>float32</th><th>float32</th><th>float32</th><th>float32</th><th>int32</th></tr></thead>\n",
       "<tr><td>2</td><td>SGA-2020 2</td><td>PGC1283207</td><td>1283207</td><td>228.3770865</td><td>5.4232017</td><td>S?</td><td>152.2</td><td>0.36307806</td><td>0.724436</td><td>0.03463229</td><td>23.40448</td><td>16.976</td><td>False</td><td>LEDA-20181114</td><td>0</td><td>PGC1283207</td><td>1</td><td>True</td><td>228.3770865</td><td>5.4232017</td><td>0.36307806</td><td>2283p055</td><td>228.3770803831908</td><td>5.423191398593787</td><td>0.49470574</td><td>SB26</td><td>158.20142</td><td>0.545691</td><td>228.37700918822188</td><td>5.4232652570544015</td><td>10.897086</td><td>3.3509698</td><td>3.1147978</td><td>3.240862</td><td>5.902337</td><td>6.9126143</td><td>7.941369</td><td>8.997992</td><td>10.073601</td><td>11.199986</td><td>12.391357</td><td>13.561038</td><td>14.841172</td><td>16.966799</td><td>16.108246</td><td>15.486356</td><td>16.879545</td><td>16.024958</td><td>15.400715</td><td>16.818878</td><td>15.967034</td><td>15.341793</td><td>16.776297</td><td>15.925804</td><td>15.300776</td><td>16.746685</td><td>15.897334</td><td>15.272053</td><td>16.725166</td><td>15.876816</td><td>15.2521105</td><td>16.708357</td><td>15.862035</td><td>15.237181</td><td>16.696539</td><td>15.851936</td><td>15.226998</td><td>16.689613</td><td>15.844313</td><td>15.21976</td><td>0.013392451</td><td>0.02354</td><td>0.021872982</td><td>0.01736985</td><td>0.024445537</td><td>0.039866067</td><td>0.05026544</td><td>0.08455789</td><td>0.122911856</td><td>0.005682776</td><td>0.0054258136</td><td>0.0049038026</td><td>0.005588406</td><td>0.005323561</td><td>0.0047632363</td><td>0.00543534</td><td>0.005177031</td><td>0.0046343105</td><td>0.0053025587</td><td>0.005040888</td><td>0.0045181247</td><td>0.005206092</td><td>0.0049438984</td><td>0.0044374703</td><td>0.0051483097</td><td>0.0048758644</td><td>0.0043834248</td><td>0.0051032505</td><td>0.0048264163</td><td>0.004344248</td><td>0.0050705094</td><td>0.004792021</td><td>0.004319857</td><td>0.005054293</td><td>0.004765629</td><td>0.0043044444</td><td>16.65942</td><td>0.34037337</td><td>0.2978292</td><td>3.0239506</td><td>0.07928849</td><td>15.820566</td><td>0.2640441</td><td>0.34559453</td><td>3.3033552</td><td>0.003811298</td><td>15.195567</td><td>0.29826432</td><td>0.3001073</td><td>3.2333765</td><td>0.011723555</td><td>0</td></tr>\n",
       "<tr><td>3</td><td>SGA-2020 3</td><td>PGC1310416</td><td>1310416</td><td>202.54443750000002</td><td>6.9345944</td><td>Sc</td><td>159.26</td><td>0.4017908</td><td>0.7816278</td><td>0.073888786</td><td>23.498482</td><td>16.85</td><td>False</td><td>LEDA-20181114</td><td>1</td><td>PGC1310416</td><td>1</td><td>True</td><td>202.54443750000002</td><td>6.9345944</td><td>0.4017908</td><td>2025p070</td><td>202.5444619671207</td><td>6.9346244322326624</td><td>0.55350494</td><td>SB26</td><td>161.5937</td><td>0.7291764</td><td>202.54432739596137</td><td>6.934806737209989</td><td>15.746941</td><td>5.6416235</td><td>5.2647552</td><td>5.0895185</td><td>5.9838247</td><td>7.4356494</td><td>8.728868</td><td>10.087478</td><td>11.529764</td><td>12.818195</td><td>14.115497</td><td>15.319822</td><td>16.605148</td><td>16.963299</td><td>16.307854</td><td>15.806882</td><td>16.729511</td><td>16.097378</td><td>15.615527</td><td>16.606344</td><td>15.990707</td><td>15.518403</td><td>16.525967</td><td>15.917321</td><td>15.450624</td><td>16.462585</td><td>15.859485</td><td>15.397182</td><td>16.419558</td><td>15.820947</td><td>15.36243</td><td>16.390558</td><td>15.796369</td><td>15.338905</td><td>16.376112</td><td>15.782492</td><td>15.323709</td><td>16.364115</td><td>15.773462</td><td>15.313725</td><td>0.036992554</td><td>0.034982767</td><td>0.037769336</td><td>0.049429573</td><td>0.052699674</td><td>0.074114166</td><td>0.07914538</td><td>0.09781406</td><td>0.15534972</td><td>0.016095797</td><td>0.019181909</td><td>0.021539452</td><td>0.013955905</td><td>0.016594552</td><td>0.018640138</td><td>0.012786752</td><td>0.015244632</td><td>0.01715491</td><td>0.011973826</td><td>0.014366956</td><td>0.016208366</td><td>0.011358372</td><td>0.013676575</td><td>0.015474222</td><td>0.010944939</td><td>0.013225297</td><td>0.015011175</td><td>0.010691595</td><td>0.012931233</td><td>0.014687982</td><td>0.010546411</td><td>0.012796015</td><td>0.014518412</td><td>0.010457551</td><td>0.012685407</td><td>0.014379212</td><td>16.284733</td><td>1.0914493</td><td>0.24674739</td><td>2.4320207</td><td>0.68685365</td><td>15.704403</td><td>0.8764323</td><td>0.27360612</td><td>2.4995425</td><td>0.49343896</td><td>15.235263</td><td>1.3098688</td><td>0.17866786</td><td>2.1750498</td><td>0.20391206</td><td>0</td></tr>\n",
       "<tr><td>4</td><td>SGA-2020 4</td><td>SDSSJ145059.93+135143.0</td><td>4435547</td><td>222.749787</td><td>13.8619111</td><td>S?</td><td>44.57</td><td>0.33342642</td><td>0.6637431</td><td>0.07567602</td><td>24.457481</td><td>18.214</td><td>False</td><td>LEDA-20181114</td><td>2</td><td>SDSSJ145059.93+135143.0</td><td>1</td><td>True</td><td>222.749787</td><td>13.8619111</td><td>0.33342642</td><td>2228p137</td><td>222.7497050504303</td><td>13.861929561160224</td><td>0.37067476</td><td>SB26</td><td>45.28537</td><td>0.70922077</td><td>222.749650475464</td><td>13.862052070022896</td><td>8.877115</td><td>4.652771</td><td>4.4837785</td><td>4.4959745</td><td>2.01033</td><td>3.3967943</td><td>4.76257</td><td>6.043787</td><td>7.242806</td><td>8.250407</td><td>9.158723</td><td>10.083457</td><td>11.120243</td><td>19.97595</td><td>19.190666</td><td>18.649523</td><td>19.098536</td><td>18.397219</td><td>17.899643</td><td>18.624952</td><td>17.967802</td><td>17.50231</td><td>18.35278</td><td>17.718002</td><td>17.265854</td><td>18.192762</td><td>17.5654</td><td>17.115404</td><td>18.10496</td><td>17.480022</td><td>17.033989</td><td>18.053415</td><td>17.430794</td><td>16.982971</td><td>18.020155</td><td>17.399996</td><td>16.948252</td><td>17.994783</td><td>17.377092</td><td>16.924469</td><td>0.02113719</td><td>0.03639431</td><td>0.051901262</td><td>0.06539029</td><td>0.08552586</td><td>0.07008602</td><td>0.070394725</td><td>0.08394975</td><td>0.113649584</td><td>0.013428732</td><td>0.017600043</td><td>0.016373685</td><td>0.012251812</td><td>0.014566466</td><td>0.013732588</td><td>0.012644532</td><td>0.014030071</td><td>0.013153961</td><td>0.012747069</td><td>0.013512552</td><td>0.012818239</td><td>0.012865601</td><td>0.01324455</td><td>0.012532208</td><td>0.012762528</td><td>0.013058522</td><td>0.012420634</td><td>0.01252645</td><td>0.012827468</td><td>0.012283978</td><td>0.012320441</td><td>0.012607317</td><td>0.012104107</td><td>0.0121167945</td><td>0.01244376</td><td>0.011985352</td><td>17.896797</td><td>0.5557265</td><td>0.25455818</td><td>3.167909</td><td>1.0522435</td><td>17.28287</td><td>0.4885815</td><td>0.2782499</td><td>3.2144456</td><td>1.3733263</td><td>16.807674</td><td>0.5177045</td><td>0.32264626</td><td>2.900518</td><td>1.8054093</td><td>0</td></tr>\n",
       "<tr><td>7</td><td>SGA-2020 7</td><td>PGC1742504</td><td>1742504</td><td>182.0888085</td><td>25.6022764</td><td>Sbc</td><td>84.97</td><td>0.548277</td><td>0.25118864</td><td>0.10090814</td><td>24.91348</td><td>17.59</td><td>False</td><td>LEDA-20181114</td><td>3</td><td>PGC1742504</td><td>1</td><td>True</td><td>182.0888085</td><td>25.6022764</td><td>0.548277</td><td>1820p255</td><td>182.08882232629614</td><td>25.60226821438983</td><td>0.8883204</td><td>SB26</td><td>84.857475</td><td>0.19753796</td><td>182.08873760544392</td><td>25.602311195157757</td><td>19.779116</td><td>6.5958204</td><td>6.0386286</td><td>5.8089786</td><td>9.279068</td><td>10.949478</td><td>12.652142</td><td>14.446171</td><td>16.323679</td><td>18.392954</td><td>20.915508</td><td>23.566542</td><td>26.649612</td><td>17.390274</td><td>16.360935</td><td>15.531964</td><td>17.285898</td><td>16.262264</td><td>15.440768</td><td>17.2167</td><td>16.195492</td><td>15.380734</td><td>17.16217</td><td>16.144245</td><td>15.334935</td><td>17.130178</td><td>16.110302</td><td>15.304758</td><td>17.104496</td><td>16.084463</td><td>15.280803</td><td>17.081282</td><td>16.061373</td><td>15.2589855</td><td>17.063671</td><td>16.045204</td><td>15.243196</td><td>17.046705</td><td>16.031244</td><td>15.23268</td><td>0.04351465</td><td>0.055440858</td><td>0.052207235</td><td>0.07507412</td><td>0.0793679</td><td>0.10347854</td><td>0.13569456</td><td>0.13104819</td><td>0.17234002</td><td>0.03885276</td><td>0.03744209</td><td>0.03786608</td><td>0.035534665</td><td>0.03441038</td><td>0.03503794</td><td>0.033557214</td><td>0.032548346</td><td>0.033348277</td><td>0.031964395</td><td>0.03106612</td><td>0.031957533</td><td>0.031133845</td><td>0.030202182</td><td>0.031190341</td><td>0.030430589</td><td>0.029511228</td><td>0.030530946</td><td>0.02975241</td><td>0.028853998</td><td>0.029866546</td><td>0.02928568</td><td>0.0284345</td><td>0.029445464</td><td>0.028843498</td><td>0.028076617</td><td>0.029169334</td><td>16.995174</td><td>21.083004</td><td>0.0164273</td><td>1.9079465</td><td>0.029703742</td><td>15.991165</td><td>0.7657307</td><td>0.52285546</td><td>2.3045986</td><td>0.006013103</td><td>15.191324</td><td>1.0408205</td><td>0.32956335</td><td>2.1520333</td><td>0.004725194</td><td>0</td></tr>\n",
       "<tr><td>18</td><td>SGA-2020 18</td><td>2MASXJ12340801+4535444</td><td>3550748</td><td>188.5335525</td><td>45.5956434</td><td>E</td><td>168.65</td><td>0.53088444</td><td>0.6950243</td><td>0.07609531</td><td>23.97948</td><td>16.726</td><td>False</td><td>LEDA-20181114</td><td>4</td><td>2MASXJ12340801+4535444</td><td>1</td><td>True</td><td>188.5335525</td><td>45.5956434</td><td>0.53088444</td><td>1883p455</td><td>188.53364923054596</td><td>45.595620212931856</td><td>0.73435897</td><td>SB26</td><td>166.25127</td><td>0.70995796</td><td>188.53349052789085</td><td>45.59567446403057</td><td>15.694805</td><td>5.091253</td><td>4.670616</td><td>2.9429996</td><td>5.219665</td><td>6.6119533</td><td>8.228266</td><td>10.109745</td><td>12.170589</td><td>14.364073</td><td>16.722517</td><td>19.18709</td><td>22.03077</td><td>17.208511</td><td>16.224203</td><td>15.566424</td><td>17.050343</td><td>16.080097</td><td>15.443468</td><td>16.921791</td><td>15.962402</td><td>15.347263</td><td>16.814959</td><td>15.864242</td><td>15.27134</td><td>16.729906</td><td>15.787886</td><td>15.218466</td><td>16.664564</td><td>15.730083</td><td>15.182751</td><td>16.61991</td><td>15.686324</td><td>15.1601305</td><td>16.585676</td><td>15.654064</td><td>15.148039</td><td>16.558054</td><td>15.629669</td><td>15.141826</td><td>0.032001704</td><td>0.043849397</td><td>0.045203492</td><td>0.072918765</td><td>0.06263939</td><td>0.07675708</td><td>0.10399303</td><td>0.07780949</td><td>0.14017467</td><td>0.016467415</td><td>0.021250801</td><td>0.032092847</td><td>0.0149329165</td><td>0.019061867</td><td>0.028947951</td><td>0.01369758</td><td>0.01736746</td><td>0.026648495</td><td>0.012623343</td><td>0.015980754</td><td>0.024998168</td><td>0.011793644</td><td>0.014977396</td><td>0.023862366</td><td>0.011184664</td><td>0.014255281</td><td>0.023120966</td><td>0.010785815</td><td>0.013740733</td><td>0.022603082</td><td>0.010472503</td><td>0.013351409</td><td>0.022360764</td><td>0.010212836</td><td>0.013043255</td><td>0.022296576</td><td>16.471447</td><td>0.3236818</td><td>1.9206839</td><td>2.3249283</td><td>0.0973919</td><td>15.540598</td><td>0.3247282</td><td>1.7439244</td><td>2.1774826</td><td>0.023485765</td><td>15.124181</td><td>0.16547345</td><td>1.4694684</td><td>3.3948786</td><td>0.028653827</td><td>0</td></tr>\n",
       "</table></div>"
      ],
      "text/plain": [
       "<Table length=5>\n",
       "SGA_ID  SGA_GALAXY          GALAXY         ... Z_COG_PARAMS_CHI2 ELLIPSEBIT\n",
       "int64    bytes16           bytes29         ...      float32        int32   \n",
       "------ ----------- ----------------------- ... ----------------- ----------\n",
       "     2  SGA-2020 2              PGC1283207 ...       0.011723555          0\n",
       "     3  SGA-2020 3              PGC1310416 ...        0.20391206          0\n",
       "     4  SGA-2020 4 SDSSJ145059.93+135143.0 ...         1.8054093          0\n",
       "     7  SGA-2020 7              PGC1742504 ...       0.004725194          0\n",
       "    18 SGA-2020 18  2MASXJ12340801+4535444 ...       0.028653827          0"
      ]
     },
     "execution_count": 4,
     "metadata": {},
     "output_type": "execute_result"
    }
   ],
   "source": [
    "SGA = Table.read('/global/cfs/cdirs/cosmo/data/sga/2020/SGA-2020.fits', 'ELLIPSE')\n",
    "SGA[:5]"
   ]
  },
  {
   "cell_type": "code",
   "execution_count": 5,
   "id": "859a9201-ff1d-4c88-b16f-67ec7991e09e",
   "metadata": {
    "tags": []
   },
   "outputs": [],
   "source": [
    "SGA_dict = {}\n",
    "for i in range(len(SGA)):\n",
    "    SGA_dict[SGA['SGA_ID'][i]] = i"
   ]
  },
  {
   "cell_type": "markdown",
   "id": "13c3ea4a-8cc4-4b91-bb4a-08f691b7f374",
   "metadata": {},
   "source": [
    "## calculate distances of observations"
   ]
  },
  {
   "cell_type": "code",
   "execution_count": 6,
   "id": "603f7493-b437-4891-9e71-b949c36d7627",
   "metadata": {
    "tags": []
   },
   "outputs": [
    {
     "name": "stderr",
     "output_type": "stream",
     "text": [
      "100%|██████████| 146579/146579 [07:38<00:00, 319.93it/s]\n"
     ]
    }
   ],
   "source": [
    "tf_jura['SKY_FIBER_DIST'] = np.nan\n",
    "tf_jura['SKY_FIBER_DIST_R26'] = np.nan\n",
    "\n",
    "# For each SGA galaxy that has at least one observation, calculate the distance \n",
    "# for all of that galaxy's targets\n",
    "for sga_id in tqdm(np.unique(tf_jura['SGA_ID'])):\n",
    "    \n",
    "    # Identify all galaxy targets on this galaxy\n",
    "    obs_idx = tf_jura['SGA_ID'] == sga_id\n",
    "    \n",
    "    # Find galaxy index in SGA catalog\n",
    "    sga_idx = SGA_dict[sga_id]\n",
    "    \n",
    "    #---------------------------------------------------------------------------\n",
    "    # Calculate distance between each observation and the center of the SGA \n",
    "    # galaxy\n",
    "    #---------------------------------------------------------------------------\n",
    "    SGA_coords = SkyCoord(ra=SGA['RA'][sga_idx], \n",
    "                          dec=SGA['DEC'][sga_idx], \n",
    "                          unit=u.degree)\n",
    "    target_coords = SkyCoord(ra=tf_jura['MEAN_FIBER_RA'][obs_idx], \n",
    "                             dec=tf_jura['MEAN_FIBER_DEC'][obs_idx], \n",
    "                             unit=u.degree)\n",
    "    \n",
    "    sep2d = target_coords.separation(SGA_coords)\n",
    "    \n",
    "    tf_jura['SKY_FIBER_DIST'][obs_idx] = sep2d\n",
    "    tf_jura['SKY_FIBER_DIST_R26'][obs_idx] = 2*sep2d.to('arcmin')/(SGA['D26'][sga_idx]*u.arcmin)\n"
   ]
  },
  {
   "cell_type": "markdown",
   "id": "5d1f8bf9-0606-4ef2-b8a5-73d27fb52b94",
   "metadata": {},
   "source": [
    "## calculate distances of targets"
   ]
  },
  {
   "cell_type": "code",
   "execution_count": 7,
   "id": "014ccf83-57a7-4bf5-b48f-3050b1653751",
   "metadata": {},
   "outputs": [
    {
     "name": "stderr",
     "output_type": "stream",
     "text": [
      "100%|██████████| 146579/146579 [07:32<00:00, 324.16it/s]\n"
     ]
    }
   ],
   "source": [
    "tf_jura['TARGET_DIST'] = np.nan\n",
    "tf_jura['TARGET_DIST_R26'] = np.nan\n",
    "\n",
    "# For each SGA galaxy that has at least one observation, calculate the distance \n",
    "# for all of that galaxy's targets\n",
    "for sga_id in tqdm(np.unique(tf_jura['SGA_ID'])):\n",
    "    \n",
    "    # Identify all galaxy targets on this galaxy\n",
    "    obs_idx = tf_jura['SGA_ID'] == sga_id\n",
    "    \n",
    "    # Find galaxy index in SGA catalog\n",
    "    sga_idx = SGA_dict[sga_id]\n",
    "    \n",
    "    #---------------------------------------------------------------------------\n",
    "    # Calculate distance between each observation and the center of the SGA \n",
    "    # galaxy\n",
    "    #---------------------------------------------------------------------------\n",
    "    SGA_coords = SkyCoord(ra=SGA['RA'][sga_idx], \n",
    "                          dec=SGA['DEC'][sga_idx], \n",
    "                          unit=u.degree)\n",
    "    target_coords = SkyCoord(ra=tf_jura['TARGET_RA'][obs_idx], \n",
    "                             dec=tf_jura['TARGET_DEC'][obs_idx], \n",
    "                             unit=u.degree)\n",
    "    \n",
    "    sep2d = target_coords.separation(SGA_coords)\n",
    "    \n",
    "    tf_jura['TARGET_DIST'][obs_idx] = sep2d\n",
    "    tf_jura['TARGET_DIST_R26'][obs_idx] = 2*sep2d.to('arcmin')/(SGA['D26'][sga_idx]*u.arcmin)\n"
   ]
  },
  {
   "cell_type": "code",
   "execution_count": 8,
   "id": "8a65abca-0df9-486c-81d4-f9bbc4fe79b0",
   "metadata": {
    "tags": []
   },
   "outputs": [
    {
     "data": {
      "text/html": [
       "<div><i>Table length=5</i>\n",
       "<table id=\"table139937191389664\" class=\"table-striped table-bordered table-condensed\">\n",
       "<thead><tr><th>TARGETID</th><th>TARGET_RA</th><th>TARGET_DEC</th><th>MEAN_FIBER_RA</th><th>MEAN_FIBER_DEC</th><th>STD_FIBER_RA</th><th>STD_FIBER_DEC</th><th>Z</th><th>ZERR</th><th>SPECTYPE</th><th>DELTACHI2</th><th>ZWARN</th><th>PVTYPE</th><th>SGA_ID</th><th>PHOTSYS</th><th>SKY_FIBER_DIST</th><th>SKY_FIBER_DIST_R26</th><th>TARGET_DIST</th><th>TARGET_DIST_R26</th></tr></thead>\n",
       "<thead><tr><th>int64</th><th>float64</th><th>float64</th><th>float64</th><th>float64</th><th>float64</th><th>float64</th><th>float64</th><th>float64</th><th>bytes6</th><th>float64</th><th>int64</th><th>bytes3</th><th>int32</th><th>bytes1</th><th>float64</th><th>float64</th><th>float64</th><th>float64</th></tr></thead>\n",
       "<tr><td>2389597791191040</td><td>23.539204741255208</td><td>3.014191199495501</td><td>23.549032353769803</td><td>3.0583663726723542</td><td>0.0</td><td>0.0</td><td>0.0008477123902900402</td><td>4.786930709466658e-48</td><td>GALAXY</td><td>1.942668892225729e+84</td><td>514</td><td>TFT</td><td>536718</td><td>S</td><td>0.04440652225814314</td><td>9.442176909216489</td><td>0.0018811984695609957</td><td>0.39999999656998525</td></tr>\n",
       "<tr><td>2389714208292866</td><td>148.25894450659698</td><td>7.843460383382867</td><td>148.23818107634452</td><td>7.884332141399415</td><td>0.0</td><td>0.0</td><td>0.0008477123902900402</td><td>4.786930709466658e-48</td><td>GALAXY</td><td>1.942668892225729e+84</td><td>514</td><td>TFT</td><td>441252</td><td>S</td><td>0.048419648620333135</td><td>6.947618725336506</td><td>0.0027876974865826977</td><td>0.3999999960805624</td></tr>\n",
       "<tr><td>2389773884850178</td><td>146.4827574861534</td><td>10.178716430665713</td><td>146.507656834106</td><td>10.164269155227894</td><td>0.0</td><td>0.0</td><td>0.0008477123902900402</td><td>4.786930709466658e-48</td><td>GALAXY</td><td>1.942668892225729e+84</td><td>514</td><td>TFT</td><td>94218</td><td>S</td><td>0.029919633547293437</td><td>8.08250671819206</td><td>0.0014807106132170515</td><td>0.4000000020089727</td></tr>\n",
       "<tr><td>2389880546000897</td><td>172.2492398435211</td><td>14.696668642587094</td><td>172.24104576720265</td><td>14.709559300842672</td><td>0.0</td><td>0.0</td><td>0.0008477123902900402</td><td>4.786930709466658e-48</td><td>GALAXY</td><td>1.942668892225729e+84</td><td>514</td><td>TFT</td><td>393091</td><td>S</td><td>0.015421440633829699</td><td>5.23430502939712</td><td>0.0011784900074472205</td><td>0.39999999478280623</td></tr>\n",
       "<tr><td>2389915388084225</td><td>164.3554136149493</td><td>16.273738871161388</td><td>164.36642525583397</td><td>16.293426855516547</td><td>0.0</td><td>0.0</td><td>0.0008477123902900402</td><td>4.786930709466658e-48</td><td>GALAXY</td><td>1.942668892225729e+84</td><td>514</td><td>TFT</td><td>719447</td><td>S</td><td>0.023640590396585937</td><td>6.951864245350779</td><td>0.001360244703462002</td><td>0.40000001524035084</td></tr>\n",
       "</table></div>"
      ],
      "text/plain": [
       "<Table length=5>\n",
       "    TARGETID         TARGET_RA      ...   TARGET_DIST_R26  \n",
       "     int64            float64       ...       float64      \n",
       "---------------- ------------------ ... -------------------\n",
       "2389597791191040 23.539204741255208 ... 0.39999999656998525\n",
       "2389714208292866 148.25894450659698 ...  0.3999999960805624\n",
       "2389773884850178  146.4827574861534 ...  0.4000000020089727\n",
       "2389880546000897  172.2492398435211 ... 0.39999999478280623\n",
       "2389915388084225  164.3554136149493 ... 0.40000001524035084"
      ]
     },
     "execution_count": 8,
     "metadata": {},
     "output_type": "execute_result"
    }
   ],
   "source": [
    "tf_jura[tf_jura['SKY_FIBER_DIST_R26'] > 5][:5]"
   ]
  },
  {
   "cell_type": "code",
   "execution_count": 9,
   "id": "90438c21-9b8c-4f54-8c59-499d887e9ab5",
   "metadata": {
    "tags": []
   },
   "outputs": [
    {
     "data": {
      "text/plain": [
       "(array([ 7086., 15837., 18909., 18430., 16593., 14314., 12056.,  9757.,\n",
       "         7917.,  6205.,  5071.,  4141.,  3254.,  2670.,  2189.,  1806.,\n",
       "         1415.,  1118.,   923.]),\n",
       " array([0.        , 0.00052632, 0.00105263, 0.00157895, 0.00210526,\n",
       "        0.00263158, 0.00315789, 0.00368421, 0.00421053, 0.00473684,\n",
       "        0.00526316, 0.00578947, 0.00631579, 0.00684211, 0.00736842,\n",
       "        0.00789474, 0.00842105, 0.00894737, 0.00947368, 0.01      ]),\n",
       " <BarContainer object of 19 artists>)"
      ]
     },
     "execution_count": 9,
     "metadata": {},
     "output_type": "execute_result"
    },
    {
     "data": {
      "image/png": "[encoded data removed]",
      "text/plain": [
       "<Figure size 640x480 with 1 Axes>"
      ]
     },
     "metadata": {},
     "output_type": "display_data"
    }
   ],
   "source": [
    "plt.hist(tf_jura['SKY_FIBER_DIST_R26'], bins=np.linspace(0,0.01,20))"
   ]
  },
  {
   "cell_type": "markdown",
   "id": "66b343e1-5810-41bb-a011-d2f241935001",
   "metadata": {},
   "source": [
    "## apply selection criteria\n",
    "galaxies have to meet at least one of the two following criteria\n",
    "1. center observation </br>\n",
    "    a. 1 center observation</br>\n",
    "    b. 2 non-center observations at unique distances</br>\n",
    "    \n",
    "2. no center observation</br>\n",
    "    a. 2 observations on opposite sides of the center at the same distnace</br>\n",
    "    b. 1 observation at a unique distance from the center</br>"
   ]
  },
  {
   "cell_type": "code",
   "execution_count": 10,
   "id": "4a73967e-9f12-42f0-b0ab-68a4be08b5dc",
   "metadata": {
    "tags": []
   },
   "outputs": [
    {
     "name": "stderr",
     "output_type": "stream",
     "text": [
      "100%|██████████| 146579/146579 [07:28<00:00, 326.85it/s]\n"
     ]
    }
   ],
   "source": [
    "tf_jura['ROT_CURVE'] = 0.\n",
    "center_dist_lim = 0.01 # target distance from center that's still considered a center observation in units of R26\n",
    "unique_dist_lim = 0.01 # minimum difference for distances to be considered unique in units of R26\n",
    "\n",
    "for sga_id in tqdm(np.unique(tf_jura['SGA_ID'])):\n",
    "    \n",
    "    # Identify all galaxy targets on this galaxy\n",
    "    obs_idx = np.logical_and(tf_jura['SGA_ID'] == sga_id, tf_jura['TARGETID'] > 0)\n",
    "    \n",
    "    obs = tf_jura[obs_idx]\n",
    "    \n",
    "    # Find galaxy index in SGA catalog\n",
    "    sga_idx = SGA_dict[sga_id]\n",
    "    \n",
    "    # check that there are at least 3 observations on the galaxy\n",
    "    if len(obs) >= 3:\n",
    "        \n",
    "        # check if galaxy has a center observation\n",
    "        if np.any(obs['TARGET_DIST_R26'] < center_dist_lim):\n",
    "\n",
    "            not_center = obs[obs['TARGET_DIST_R26'] > unique_dist_lim]\n",
    "            \n",
    "            if len(not_center) > 1:\n",
    "            \n",
    "                #chekc that there are 2 unique distances (non-center)\n",
    "                if np.max(not_center['TARGET_DIST_R26']) - np.min(not_center['TARGET_DIST_R26']) >= unique_dist_lim:\n",
    "\n",
    "                    # galaxy passes criteria 1\n",
    "                    tf_jura['ROT_CURVE'][obs_idx] = 1\n",
    "            \n"
   ]
  },
  {
   "cell_type": "code",
   "execution_count": 12,
   "id": "06e2e3f4-cbb9-4ee3-a86b-4e79416ebc75",
   "metadata": {
    "tags": []
   },
   "outputs": [
    {
     "name": "stdout",
     "output_type": "stream",
     "text": [
      "galaxies that pass criteria 1: 374\n"
     ]
    },
    {
     "data": {
      "text/html": [
       "<div><i>Table length=2296</i>\n",
       "<table id=\"table139937191180752\" class=\"table-striped table-bordered table-condensed\">\n",
       "<thead><tr><th>TARGETID</th><th>TARGET_RA</th><th>TARGET_DEC</th><th>MEAN_FIBER_RA</th><th>MEAN_FIBER_DEC</th><th>STD_FIBER_RA</th><th>STD_FIBER_DEC</th><th>Z</th><th>ZERR</th><th>SPECTYPE</th><th>DELTACHI2</th><th>ZWARN</th><th>PVTYPE</th><th>SGA_ID</th><th>PHOTSYS</th><th>SKY_FIBER_DIST</th><th>SKY_FIBER_DIST_R26</th><th>TARGET_DIST</th><th>TARGET_DIST_R26</th><th>ROT_CURVE</th></tr></thead>\n",
       "<thead><tr><th>int64</th><th>float64</th><th>float64</th><th>float64</th><th>float64</th><th>float64</th><th>float64</th><th>float64</th><th>float64</th><th>bytes6</th><th>float64</th><th>int64</th><th>bytes3</th><th>int32</th><th>bytes1</th><th>float64</th><th>float64</th><th>float64</th><th>float64</th><th>float64</th></tr></thead>\n",
       "<tr><td>234526940856326</td><td>151.1772061023157</td><td>1.833743864948717</td><td>151.17720284167797</td><td>1.833745726124619</td><td>0.08605284243822098</td><td>0.052409470081329346</td><td>0.031085772503927533</td><td>1.283932758116739e-06</td><td>GALAXY</td><td>12357.390464663506</td><td>0</td><td>TFT</td><td>5001181</td><td>S</td><td>0.0010128281251372486</td><td>0.3480902544274841</td><td>0.0010165802939406609</td><td>0.34937980530094315</td><td>1.0</td></tr>\n",
       "<tr><td>243323033878537</td><td>151.1772061023157</td><td>1.833743864948717</td><td>151.17720550459774</td><td>1.8337363560126143</td><td>0.052262529730796814</td><td>0.04841092973947525</td><td>0.03108517581488575</td><td>1.2438698927320763e-06</td><td>GALAXY</td><td>12848.198652148247</td><td>0</td><td>TFT</td><td>5001181</td><td>S</td><td>0.0010196665515630151</td><td>0.35044049484375034</td><td>0.0010165802939406609</td><td>0.34937980530094315</td><td>1.0</td></tr>\n",
       "<tr><td>2350675715424256</td><td>239.8472</td><td>31.7866</td><td>239.84720410150555</td><td>31.786587196009407</td><td>0.0</td><td>0.0</td><td>0.14929250346185144</td><td>1.933862140563713e-05</td><td>GALAXY</td><td>5064.585604503751</td><td>0</td><td>TFT</td><td>483369</td><td>S</td><td>0.00019435965244658717</td><td>0.0447669968011666</td><td>0.00018163397694836428</td><td>0.04183588292464746</td><td>1.0</td></tr>\n",
       "<tr><td>2389103635070977</td><td>61.51249486530825</td><td>-17.766542165450435</td><td>61.5124947807941</td><td>-17.766534327450266</td><td>0.0</td><td>0.0</td><td>0.2898545612096536</td><td>1.3073845338248916e-05</td><td>GALAXY</td><td>561.4762042164803</td><td>0</td><td>TFT</td><td>526821</td><td>S</td><td>0.015038562567973365</td><td>0.40010806637840773</td><td>0.015034501051441454</td><td>0.40000000781105455</td><td>1.0</td></tr>\n",
       "<tr><td>2389220349968384</td><td>67.92758592005009</td><td>-12.682644974455277</td><td>67.92758280634075</td><td>-12.68265023780549</td><td>0.05676453560590744</td><td>0.006983311381191015</td><td>1.6344180918102245</td><td>9.953080591025864e-05</td><td>GALAXY</td><td>10.10714153200388</td><td>0</td><td>TFT</td><td>175172</td><td>S</td><td>0.0074026849671304734</td><td>0.4001655418397644</td><td>0.007399622287542027</td><td>0.399999983148231</td><td>1.0</td></tr>\n",
       "<tr><td>2389220349968385</td><td>67.94275513036841</td><td>-12.682579567325824</td><td>67.94274811144174</td><td>-12.682590348407992</td><td>0.014241066761314869</td><td>0.02568633481860161</td><td>0.7330610512461774</td><td>2.3545758630759756e-05</td><td>GALAXY</td><td>89.1692703962326</td><td>0</td><td>TFT</td><td>175172</td><td>S</td><td>0.007392734536354697</td><td>0.3996276532843811</td><td>0.007399622287561025</td><td>0.39999998314925794</td><td>1.0</td></tr>\n",
       "<tr><td>2389237726969860</td><td>47.51823825236139</td><td>-12.093688133976228</td><td>47.51827839392547</td><td>-12.09370660138434</td><td>0.0</td><td>0.0</td><td>0.04193593535348371</td><td>1.699968832313676e-05</td><td>GALAXY</td><td>293.1891824128106</td><td>0</td><td>TFT</td><td>788943</td><td>S</td><td>0.0021449962243570426</td><td>0.4058588166623489</td><td>0.002114031798706871</td><td>0.39999997877242444</td><td>1.0</td></tr>\n",
       "<tr><td>2389254160252930</td><td>327.0141566410142</td><td>-11.475429424399298</td><td>327.0141669421728</td><td>-11.475438455497516</td><td>0.0</td><td>0.0</td><td>0.10437916549034638</td><td>3.6611733698229353e-06</td><td>GALAXY</td><td>2654.865051150322</td><td>0</td><td>TFT</td><td>776461</td><td>S</td><td>0.0029656715866679473</td><td>0.4017751399154784</td><td>0.0029525685252468495</td><td>0.39999999921566226</td><td>1.0</td></tr>\n",
       "<tr><td>2389302927425538</td><td>38.83795698968886</td><td>-9.336494185118742</td><td>38.837950639008966</td><td>-9.336480421654805</td><td>0.0</td><td>0.0</td><td>0.7704763401646174</td><td>8.255650071738232e-05</td><td>GALAXY</td><td>6.559059411287308</td><td>4</td><td>TFT</td><td>605869</td><td>S</td><td>0.03373495652770711</td><td>0.4001556464439802</td><td>0.03372183338174325</td><td>0.3999999829572869</td><td>1.0</td></tr>\n",
       "<tr><td>2389308459712512</td><td>12.654135713082004</td><td>-9.071521094837058</td><td>12.654118668985006</td><td>-9.07150592708044</td><td>0.0</td><td>0.0</td><td>0.03690663203929667</td><td>1.5596386820922885e-06</td><td>GALAXY</td><td>13093.013347268105</td><td>0</td><td>TFT</td><td>1296295</td><td>S</td><td>0.002786416350756671</td><td>0.3979227735120517</td><td>0.002800962013425436</td><td>0.40000001169296956</td><td>1.0</td></tr>\n",
       "<tr><td>...</td><td>...</td><td>...</td><td>...</td><td>...</td><td>...</td><td>...</td><td>...</td><td>...</td><td>...</td><td>...</td><td>...</td><td>...</td><td>...</td><td>...</td><td>...</td><td>...</td><td>...</td><td>...</td><td>...</td></tr>\n",
       "<tr><td>2305843032135590948</td><td>127.48396129573719</td><td>0.6318241823566333</td><td>127.48397249155471</td><td>0.6318433331572171</td><td>0.04944772273302078</td><td>0.05172925442457199</td><td>0.03147911819252562</td><td>2.2160304343024764e-06</td><td>GALAXY</td><td>40400.456569850445</td><td>0</td><td>TFT</td><td>1342639</td><td>S</td><td>6.233067832554657e-05</td><td>0.015349755006957953</td><td>4.334686761272028e-05</td><td>0.010674740208973367</td><td>1.0</td></tr>\n",
       "<tr><td>2305843036027891602</td><td>178.45539895483896</td><td>-3.991552567535437</td><td>178.4553989892479</td><td>-3.9915622587415296</td><td>0.07786787301301956</td><td>0.021824149414896965</td><td>-0.00041284856330351907</td><td>4.3576836639825366e-06</td><td>STAR</td><td>6169.336447301168</td><td>0</td><td>EXT</td><td>601494</td><td>S</td><td>0.036897094876612684</td><td>0.9957481407732228</td><td>0.03689832991254759</td><td>0.9957814708969108</td><td>1.0</td></tr>\n",
       "<tr><td>2305843036648637684</td><td>191.82296094586596</td><td>-2.7273986915266697</td><td>191.8229683264418</td><td>-2.727394750007536</td><td>0.0063273184932768345</td><td>0.011552889831364155</td><td>0.005176103855307161</td><td>4.824886322061683e-07</td><td>GALAXY</td><td>539026.4212560803</td><td>0</td><td>EXT</td><td>1305999</td><td>S</td><td>2.2552729937363015e-05</td><td>0.00037252254832088844</td><td>3.053710688378479e-05</td><td>0.0005044072671596478</td><td>1.0</td></tr>\n",
       "<tr><td>2305843036711562787</td><td>197.38804032420072</td><td>1.6730509718431381</td><td>197.38805006987116</td><td>1.6730478501347172</td><td>0.0</td><td>0.0</td><td>0.018867476650064306</td><td>7.965869655117641e-06</td><td>GALAXY</td><td>43635.038404851504</td><td>0</td><td>EXT</td><td>510451</td><td>S</td><td>2.5270935628076033e-05</td><td>0.0010451008256296447</td><td>3.395746157031807e-05</td><td>0.0014043394216080418</td><td>1.0</td></tr>\n",
       "<tr><td>2305843037789489233</td><td>153.17185796603968</td><td>3.129359417877023</td><td>153.17183594577864</td><td>3.1293509871798144</td><td>0.0</td><td>0.0</td><td>0.004425359932292454</td><td>5.226962407412199e-06</td><td>GALAXY</td><td>41853.90056445351</td><td>0</td><td>EXT</td><td>1244506</td><td>S</td><td>5.109943901294891e-05</td><td>0.001631483974920797</td><td>5.747305171707498e-05</td><td>0.0018349783222168263</td><td>1.0</td></tr>\n",
       "<tr><td>2305843038154393743</td><td>160.53140272444838</td><td>13.746992262331217</td><td>160.53139820808588</td><td>13.746998014074197</td><td>0.0</td><td>0.0</td><td>0.004349084083195421</td><td>7.266188793138992e-06</td><td>GALAXY</td><td>18906.916353793764</td><td>0</td><td>TFT</td><td>1105919</td><td>S</td><td>0.00018518709869008032</td><td>0.0029313495984007428</td><td>0.00019150027633970206</td><td>0.003031281671956375</td><td>1.0</td></tr>\n",
       "<tr><td>2305843038234091499</td><td>183.3461045551092</td><td>5.739222947450222</td><td>183.34608806987376</td><td>5.739223552187808</td><td>0.0</td><td>0.0</td><td>-0.00010677468569945488</td><td>4.6844354089377663e-07</td><td>STAR</td><td>501165.6588372615</td><td>0</td><td>TFT</td><td>155381</td><td>S</td><td>0.0023628376594675674</td><td>0.4200944086177725</td><td>0.0023466914455991636</td><td>0.4172237356626141</td><td>1.0</td></tr>\n",
       "<tr><td>2305843038271835784</td><td>185.77573054232383</td><td>5.250341958189632</td><td>185.7757203674803</td><td>5.2503490860228155</td><td>0.0</td><td>0.0</td><td>0.0055599806083376155</td><td>4.190900302539063e-06</td><td>GALAXY</td><td>72699.46227313601</td><td>0</td><td>TFT</td><td>1143335</td><td>S</td><td>0.00010323477005170173</td><td>0.002198703312399514</td><td>9.093974786162655e-05</td><td>0.0019368428364977882</td><td>1.0</td></tr>\n",
       "<tr><td>2305843047264424324</td><td>55.87302833096189</td><td>-17.935173456954605</td><td>55.8730253745137</td><td>-17.93517540367108</td><td>0.0</td><td>0.0</td><td>-0.00010209473891384507</td><td>1.6408206257954205e-06</td><td>STAR</td><td>38702.64557395135</td><td>0</td><td>TFT</td><td>505002</td><td>S</td><td>0.001937958818284766</td><td>0.42806032292094026</td><td>0.0019413204220042131</td><td>0.42880284085274667</td><td>1.0</td></tr>\n",
       "<tr><td>2305843047797103022</td><td>39.63633727856865</td><td>-6.677390171429402</td><td>39.63635847582003</td><td>-6.6773848879734325</td><td>0.0</td><td>0.0</td><td>0.00481652742047178</td><td>7.686585047777273e-07</td><td>GALAXY</td><td>183713.0446980819</td><td>0</td><td>EXT</td><td>94925</td><td>S</td><td>0.00012778993287349496</td><td>0.003952357894356345</td><td>0.00014876762481987258</td><td>0.004601167581514713</td><td>1.0</td></tr>\n",
       "</table></div>"
      ],
      "text/plain": [
       "<Table length=2296>\n",
       "      TARGETID          TARGET_RA      ...    TARGET_DIST_R26    ROT_CURVE\n",
       "       int64             float64       ...        float64         float64 \n",
       "------------------- ------------------ ... --------------------- ---------\n",
       "    234526940856326  151.1772061023157 ...   0.34937980530094315       1.0\n",
       "    243323033878537  151.1772061023157 ...   0.34937980530094315       1.0\n",
       "   2350675715424256           239.8472 ...   0.04183588292464746       1.0\n",
       "   2389103635070977  61.51249486530825 ...   0.40000000781105455       1.0\n",
       "   2389220349968384  67.92758592005009 ...     0.399999983148231       1.0\n",
       "   2389220349968385  67.94275513036841 ...   0.39999998314925794       1.0\n",
       "   2389237726969860  47.51823825236139 ...   0.39999997877242444       1.0\n",
       "   2389254160252930  327.0141566410142 ...   0.39999999921566226       1.0\n",
       "   2389302927425538  38.83795698968886 ...    0.3999999829572869       1.0\n",
       "   2389308459712512 12.654135713082004 ...   0.40000001169296956       1.0\n",
       "                ...                ... ...                   ...       ...\n",
       "2305843032135590948 127.48396129573719 ...  0.010674740208973367       1.0\n",
       "2305843036027891602 178.45539895483896 ...    0.9957814708969108       1.0\n",
       "2305843036648637684 191.82296094586596 ... 0.0005044072671596478       1.0\n",
       "2305843036711562787 197.38804032420072 ... 0.0014043394216080418       1.0\n",
       "2305843037789489233 153.17185796603968 ... 0.0018349783222168263       1.0\n",
       "2305843038154393743 160.53140272444838 ...  0.003031281671956375       1.0\n",
       "2305843038234091499  183.3461045551092 ...    0.4172237356626141       1.0\n",
       "2305843038271835784 185.77573054232383 ... 0.0019368428364977882       1.0\n",
       "2305843047264424324  55.87302833096189 ...   0.42880284085274667       1.0\n",
       "2305843047797103022  39.63633727856865 ...  0.004601167581514713       1.0"
      ]
     },
     "execution_count": 12,
     "metadata": {},
     "output_type": "execute_result"
    }
   ],
   "source": [
    "print('galaxies that pass criteria 1:',  len(np.unique(tf_jura[tf_jura['ROT_CURVE'] == 1]['SGA_ID'])))\n",
    "tf_jura[tf_jura['ROT_CURVE'] == 1]"
   ]
  },
  {
   "cell_type": "code",
   "execution_count": 34,
   "id": "4fd53fa3-c875-411c-8d51-ffe6d9ec5015",
   "metadata": {
    "tags": []
   },
   "outputs": [
    {
     "name": "stderr",
     "output_type": "stream",
     "text": [
      "100%|██████████| 146579/146579 [07:38<00:00, 320.01it/s]\n"
     ]
    }
   ],
   "source": [
    "for sga_id in tqdm(np.unique(tf_jura['SGA_ID'])):\n",
    "    \n",
    "    # Identify all galaxy targets on this galaxy\n",
    "    obs_idx = np.logical_and(tf_jura['SGA_ID'] == sga_id, tf_jura['TARGETID'] > 0)\n",
    "\n",
    "    obs = tf_jura[obs_idx]\n",
    "\n",
    "    # Find galaxy index in SGA catalog\n",
    "    sga_idx = SGA_dict[sga_id]  \n",
    "    \n",
    "    if len(obs)>=3:\n",
    "\n",
    "        if np.min(obs['TARGET_DIST_R26']) > center_dist_lim:\n",
    "\n",
    "            # separate \"left\" and \"right\" observations\n",
    "            left = obs[obs['TARGET_DEC'] - SGA['DEC'][sga_idx] > 0]\n",
    "            right = obs[obs['TARGET_DEC'] - SGA['DEC'][sga_idx] < 0]\n",
    "\n",
    "            if len(left) > 0 and len(right) > 0:\n",
    "\n",
    "                # check that there are 2 observations at same distance on opposite sides\n",
    "                for i in range(len(left)):\n",
    "                    if np.any(right['TARGET_DIST_R26'] - left['TARGET_DIST_R26'][i]) < unique_dist_lim:\n",
    "\n",
    "                        if np.abs(np.min(left['TARGET_DIST_R26']) - left['TARGET_DIST_R26'][i]) > unique_dist_lim:\n",
    "                            # galaxy passes criteria 2\n",
    "                            tf_jura['ROT_CURVE'][obs_idx] = 1\n",
    "\n",
    "                        elif np.abs(np.max(left['TARGET_DIST_R26']) - left['TARGET_DIST_R26'][i]) > unique_dist_lim:\n",
    "                            # galaxy passes criteria 2\n",
    "                            tf_jura['ROT_CURVE'][obs_idx] = 1\n",
    "\n",
    "                        elif np.abs(np.max(right['TARGET_DIST_R26']) - left['TARGET_DIST_R26'][i]) > unique_dist_lim:\n",
    "                            # galaxy passes criteria 2\n",
    "                            tf_jura['ROT_CURVE'][obs_idx] = 1\n",
    "\n",
    "                        elif np.abs(np.min(right['TARGET_DIST_R26']) - left['TARGET_DIST_R26'][i]) > unique_dist_lim:\n",
    "                            # galaxy passes criteria 2\n",
    "                            tf_jura['ROT_CURVE'][obs_idx] = 1\n"
   ]
  },
  {
   "cell_type": "code",
   "execution_count": 35,
   "id": "a35032e7-bdea-4ccf-b082-21bbbd44a850",
   "metadata": {
    "tags": []
   },
   "outputs": [
    {
     "name": "stdout",
     "output_type": "stream",
     "text": [
      "galaxies that pass criteria 1 or 2: 315\n"
     ]
    },
    {
     "data": {
      "text/html": [
       "<div><i>Table length=2092</i>\n",
       "<table id=\"table140464411781936\" class=\"table-striped table-bordered table-condensed\">\n",
       "<thead><tr><th>TARGETID</th><th>TARGET_RA</th><th>TARGET_DEC</th><th>MEAN_FIBER_RA</th><th>MEAN_FIBER_DEC</th><th>STD_FIBER_RA</th><th>STD_FIBER_DEC</th><th>Z</th><th>ZERR</th><th>SPECTYPE</th><th>DELTACHI2</th><th>ZWARN</th><th>PVTYPE</th><th>SGA_ID</th><th>PHOTSYS</th><th>SKY_FIBER_DIST</th><th>SKY_FIBER_DIST_R26</th><th>TARGET_DIST</th><th>TARGET_DIST_R26</th><th>ROT_CURVE</th></tr></thead>\n",
       "<thead><tr><th>int64</th><th>float64</th><th>float64</th><th>float64</th><th>float64</th><th>float64</th><th>float64</th><th>float64</th><th>float64</th><th>bytes6</th><th>float64</th><th>int64</th><th>bytes3</th><th>int32</th><th>bytes1</th><th>float64</th><th>float64</th><th>float64</th><th>float64</th><th>float64</th></tr></thead>\n",
       "<tr><td>234526940856326</td><td>151.1772061023157</td><td>1.833743864948717</td><td>151.17720284167797</td><td>1.833745726124619</td><td>0.08605284243822098</td><td>0.052409470081329346</td><td>0.031085772503927533</td><td>1.283932758116739e-06</td><td>GALAXY</td><td>12357.390464663506</td><td>0</td><td>TFT</td><td>5001181</td><td>S</td><td>0.0010128281251372486</td><td>0.3480902544274841</td><td>0.0010165802939406609</td><td>0.34937980530094315</td><td>1.0</td></tr>\n",
       "<tr><td>243323033878537</td><td>151.1772061023157</td><td>1.833743864948717</td><td>151.17720550459774</td><td>1.8337363560126143</td><td>0.052262529730796814</td><td>0.04841092973947525</td><td>0.03108517581488575</td><td>1.2438698927320763e-06</td><td>GALAXY</td><td>12848.198652148247</td><td>0</td><td>TFT</td><td>5001181</td><td>S</td><td>0.0010196665515630151</td><td>0.35044049484375034</td><td>0.0010165802939406609</td><td>0.34937980530094315</td><td>1.0</td></tr>\n",
       "<tr><td>2350675715424256</td><td>239.8472</td><td>31.7866</td><td>239.84720410150555</td><td>31.786587196009407</td><td>0.0</td><td>0.0</td><td>0.14929250346185144</td><td>1.933862140563713e-05</td><td>GALAXY</td><td>5064.585604503751</td><td>0</td><td>TFT</td><td>483369</td><td>S</td><td>0.00019435965244658717</td><td>0.0447669968011666</td><td>0.00018163397694836428</td><td>0.04183588292464746</td><td>1.0</td></tr>\n",
       "<tr><td>2389103635070977</td><td>61.51249486530825</td><td>-17.766542165450435</td><td>61.5124947807941</td><td>-17.766534327450266</td><td>0.0</td><td>0.0</td><td>0.2898545612096536</td><td>1.3073845338248916e-05</td><td>GALAXY</td><td>561.4762042164803</td><td>0</td><td>TFT</td><td>526821</td><td>S</td><td>0.015038562567973365</td><td>0.40010806637840773</td><td>0.015034501051441454</td><td>0.40000000781105455</td><td>1.0</td></tr>\n",
       "<tr><td>2389237726969860</td><td>47.51823825236139</td><td>-12.093688133976228</td><td>47.51827839392547</td><td>-12.09370660138434</td><td>0.0</td><td>0.0</td><td>0.04193593535348371</td><td>1.699968832313676e-05</td><td>GALAXY</td><td>293.1891824128106</td><td>0</td><td>TFT</td><td>788943</td><td>S</td><td>0.0021449962243570426</td><td>0.4058588166623489</td><td>0.002114031798706871</td><td>0.39999997877242444</td><td>1.0</td></tr>\n",
       "<tr><td>2389302927425538</td><td>38.83795698968886</td><td>-9.336494185118742</td><td>38.837950639008966</td><td>-9.336480421654805</td><td>0.0</td><td>0.0</td><td>0.7704763401646174</td><td>8.255650071738232e-05</td><td>GALAXY</td><td>6.559059411287308</td><td>4</td><td>TFT</td><td>605869</td><td>S</td><td>0.03373495652770711</td><td>0.4001556464439802</td><td>0.03372183338174325</td><td>0.3999999829572869</td><td>1.0</td></tr>\n",
       "<tr><td>2389326004486144</td><td>349.75240498228743</td><td>-8.460962637845027</td><td>349.75238788881416</td><td>-8.460970034174615</td><td>0.0</td><td>0.0</td><td>0.5419508075307797</td><td>8.42150698277336e-05</td><td>GALAXY</td><td>5.5239307805895805</td><td>4</td><td>TFT</td><td>823268</td><td>S</td><td>0.029702794137620152</td><td>0.4000506125151073</td><td>0.029699036455712664</td><td>0.4000000023623465</td><td>1.0</td></tr>\n",
       "<tr><td>2389362729811968</td><td>35.98111073228431</td><td>-6.714952732496748</td><td>35.981121505145666</td><td>-6.714963562176087</td><td>0.0</td><td>0.0</td><td>0.03254301115181273</td><td>1.1869481060756921e-05</td><td>GALAXY</td><td>397.6973141534254</td><td>0</td><td>TFT</td><td>1060328</td><td>S</td><td>0.010766256285831373</td><td>0.4002837319583353</td><td>0.010758624999972781</td><td>0.4000000047738786</td><td>1.0</td></tr>\n",
       "<tr><td>2389370413776896</td><td>136.64710429652825</td><td>-6.576954717482735</td><td>136.64711172095792</td><td>-6.576964861797272</td><td>0.0</td><td>0.0</td><td>0.012981346208133246</td><td>7.032817495494911e-06</td><td>GALAXY</td><td>487.8236874593422</td><td>0</td><td>TFT</td><td>79779</td><td>S</td><td>0.011297391493282268</td><td>0.40008784790095886</td><td>0.01129491089346493</td><td>0.3999999994942703</td><td>1.0</td></tr>\n",
       "<tr><td>2389380505272321</td><td>21.55385374981895</td><td>-6.110400148390881</td><td>21.553863978543973</td><td>-6.110408142742031</td><td>0.0</td><td>0.0</td><td>0.006920122899000641</td><td>6.807183351279495e-06</td><td>GALAXY</td><td>512.7152665582253</td><td>0</td><td>TFT</td><td>732318</td><td>S</td><td>0.017434510941268105</td><td>0.40008508983122293</td><td>0.01743080306770044</td><td>0.4000000019882431</td><td>1.0</td></tr>\n",
       "<tr><td>...</td><td>...</td><td>...</td><td>...</td><td>...</td><td>...</td><td>...</td><td>...</td><td>...</td><td>...</td><td>...</td><td>...</td><td>...</td><td>...</td><td>...</td><td>...</td><td>...</td><td>...</td><td>...</td><td>...</td></tr>\n",
       "<tr><td>2305843020366355474</td><td>207.43478755891022</td><td>39.98476269461454</td><td>207.43482753910894</td><td>39.98477212780862</td><td>0.01282796636223793</td><td>0.01869015395641327</td><td>0.008517225301522558</td><td>2.5958580077433623e-06</td><td>GALAXY</td><td>95776.67755766213</td><td>0</td><td>TFT</td><td>5568</td><td>N</td><td>0.0002001618829346582</td><td>0.006937177678140417</td><td>0.00019142245085155066</td><td>0.006634287875758067</td><td>1.0</td></tr>\n",
       "<tr><td>2305843020676729458</td><td>184.37576241759007</td><td>45.619305478035876</td><td>184.37574076420788</td><td>45.619281633030056</td><td>0.0</td><td>0.0</td><td>0.001661838975828895</td><td>3.556437701962977e-05</td><td>GALAXY</td><td>459.0667712564009</td><td>0</td><td>TFT</td><td>230549</td><td>N</td><td>0.0001893057371475767</td><td>0.003364259861358889</td><td>0.000173470988677391</td><td>0.003082851545395224</td><td>1.0</td></tr>\n",
       "<tr><td>2305843027836408049</td><td>37.63809382584935</td><td>-1.1084193380232024</td><td>37.63808434026356</td><td>-1.108409726681191</td><td>0.009904420003294945</td><td>0.0228995680809021</td><td>0.004952104776733788</td><td>3.659976079945302e-06</td><td>GALAXY</td><td>90006.69481998042</td><td>0</td><td>EXT</td><td>990874</td><td>S</td><td>0.0002492524693556598</td><td>0.004888238054713601</td><td>0.0002366379728619205</td><td>0.004640847679961643</td><td>1.0</td></tr>\n",
       "<tr><td>2305843036027891602</td><td>178.45539895483896</td><td>-3.991552567535437</td><td>178.4553989892479</td><td>-3.9915622587415296</td><td>0.07786787301301956</td><td>0.021824149414896965</td><td>-0.00041284856330351907</td><td>4.3576836639825366e-06</td><td>STAR</td><td>6169.336447301168</td><td>0</td><td>EXT</td><td>601494</td><td>S</td><td>0.036897094876612684</td><td>0.9957481407732228</td><td>0.03689832991254759</td><td>0.9957814708969108</td><td>1.0</td></tr>\n",
       "<tr><td>2305843036648637684</td><td>191.82296094586596</td><td>-2.7273986915266697</td><td>191.8229683264418</td><td>-2.727394750007536</td><td>0.0063273184932768345</td><td>0.011552889831364155</td><td>0.005176103855307161</td><td>4.824886322061683e-07</td><td>GALAXY</td><td>539026.4212560803</td><td>0</td><td>EXT</td><td>1305999</td><td>S</td><td>2.2552729937363015e-05</td><td>0.00037252254832088844</td><td>3.053710688378479e-05</td><td>0.0005044072671596478</td><td>1.0</td></tr>\n",
       "<tr><td>2305843036711562787</td><td>197.38804032420072</td><td>1.6730509718431381</td><td>197.38805006987116</td><td>1.6730478501347172</td><td>0.0</td><td>0.0</td><td>0.018867476650064306</td><td>7.965869655117641e-06</td><td>GALAXY</td><td>43635.038404851504</td><td>0</td><td>EXT</td><td>510451</td><td>S</td><td>2.5270935628076033e-05</td><td>0.0010451008256296447</td><td>3.395746157031807e-05</td><td>0.0014043394216080418</td><td>1.0</td></tr>\n",
       "<tr><td>2305843037789489233</td><td>153.17185796603968</td><td>3.129359417877023</td><td>153.17183594577864</td><td>3.1293509871798144</td><td>0.0</td><td>0.0</td><td>0.004425359932292454</td><td>5.226962407412199e-06</td><td>GALAXY</td><td>41853.90056445351</td><td>0</td><td>EXT</td><td>1244506</td><td>S</td><td>5.109943901294891e-05</td><td>0.001631483974920797</td><td>5.747305171707498e-05</td><td>0.0018349783222168263</td><td>1.0</td></tr>\n",
       "<tr><td>2305843038154393743</td><td>160.53140272444838</td><td>13.746992262331217</td><td>160.53139820808588</td><td>13.746998014074197</td><td>0.0</td><td>0.0</td><td>0.004349084083195421</td><td>7.266188793138992e-06</td><td>GALAXY</td><td>18906.916353793764</td><td>0</td><td>TFT</td><td>1105919</td><td>S</td><td>0.00018518709869008032</td><td>0.0029313495984007428</td><td>0.00019150027633970206</td><td>0.003031281671956375</td><td>1.0</td></tr>\n",
       "<tr><td>2305843038271835784</td><td>185.77573054232383</td><td>5.250341958189632</td><td>185.7757203674803</td><td>5.2503490860228155</td><td>0.0</td><td>0.0</td><td>0.0055599806083376155</td><td>4.190900302539063e-06</td><td>GALAXY</td><td>72699.46227313601</td><td>0</td><td>TFT</td><td>1143335</td><td>S</td><td>0.00010323477005170173</td><td>0.002198703312399514</td><td>9.093974786162655e-05</td><td>0.0019368428364977882</td><td>1.0</td></tr>\n",
       "<tr><td>2305843047797103022</td><td>39.63633727856865</td><td>-6.677390171429402</td><td>39.63635847582003</td><td>-6.6773848879734325</td><td>0.0</td><td>0.0</td><td>0.00481652742047178</td><td>7.686585047777273e-07</td><td>GALAXY</td><td>183713.0446980819</td><td>0</td><td>EXT</td><td>94925</td><td>S</td><td>0.00012778993287349496</td><td>0.003952357894356345</td><td>0.00014876762481987258</td><td>0.004601167581514713</td><td>1.0</td></tr>\n",
       "</table></div>"
      ],
      "text/plain": [
       "<Table length=2092>\n",
       "      TARGETID          TARGET_RA      ...    TARGET_DIST_R26    ROT_CURVE\n",
       "       int64             float64       ...        float64         float64 \n",
       "------------------- ------------------ ... --------------------- ---------\n",
       "    234526940856326  151.1772061023157 ...   0.34937980530094315       1.0\n",
       "    243323033878537  151.1772061023157 ...   0.34937980530094315       1.0\n",
       "   2350675715424256           239.8472 ...   0.04183588292464746       1.0\n",
       "   2389103635070977  61.51249486530825 ...   0.40000000781105455       1.0\n",
       "   2389237726969860  47.51823825236139 ...   0.39999997877242444       1.0\n",
       "   2389302927425538  38.83795698968886 ...    0.3999999829572869       1.0\n",
       "   2389326004486144 349.75240498228743 ...    0.4000000023623465       1.0\n",
       "   2389362729811968  35.98111073228431 ...    0.4000000047738786       1.0\n",
       "   2389370413776896 136.64710429652825 ...    0.3999999994942703       1.0\n",
       "   2389380505272321  21.55385374981895 ...    0.4000000019882431       1.0\n",
       "                ...                ... ...                   ...       ...\n",
       "2305843020366355474 207.43478755891022 ...  0.006634287875758067       1.0\n",
       "2305843020676729458 184.37576241759007 ...  0.003082851545395224       1.0\n",
       "2305843027836408049  37.63809382584935 ...  0.004640847679961643       1.0\n",
       "2305843036027891602 178.45539895483896 ...    0.9957814708969108       1.0\n",
       "2305843036648637684 191.82296094586596 ... 0.0005044072671596478       1.0\n",
       "2305843036711562787 197.38804032420072 ... 0.0014043394216080418       1.0\n",
       "2305843037789489233 153.17185796603968 ... 0.0018349783222168263       1.0\n",
       "2305843038154393743 160.53140272444838 ...  0.003031281671956375       1.0\n",
       "2305843038271835784 185.77573054232383 ... 0.0019368428364977882       1.0\n",
       "2305843047797103022  39.63633727856865 ...  0.004601167581514713       1.0"
      ]
     },
     "execution_count": 35,
     "metadata": {},
     "output_type": "execute_result"
    }
   ],
   "source": [
    "print('galaxies that pass criteria 1 or 2:',  len(np.unique(tf_jura[tf_jura['ROT_CURVE'] == 1]['SGA_ID'])))\n",
    "tf_jura[tf_jura['ROT_CURVE'] == 1]"
   ]
  },
  {
   "cell_type": "code",
   "execution_count": 36,
   "id": "e85b7b37-a28e-4d62-87e8-63da428bf119",
   "metadata": {},
   "outputs": [],
   "source": [
    "tf_jura.write('/pscratch/sd/n/nravi/pv_rot_curves/desi_pv_tf_jura_healpix_rotcurve.fits', format='fits', overwrite=True)"
   ]
  },
  {
   "cell_type": "code",
   "execution_count": null,
   "id": "7ade5e9f-a350-4d7b-ba09-c0c65a8af59d",
   "metadata": {},
   "outputs": [],
   "source": [
    "tf_jura"
   ]
  }
 ],
 "metadata": {
  "kernelspec": {
   "display_name": "DESI main",
   "language": "python",
   "name": "desi-main"
  },
  "language_info": {
   "codemirror_mode": {
    "name": "ipython",
    "version": 3
   },
   "file_extension": ".py",
   "mimetype": "text/x-python",
   "name": "python",
   "nbconvert_exporter": "python",
   "pygments_lexer": "ipython3",
   "version": "3.10.14"
  }
 },
 "nbformat": 4,
 "nbformat_minor": 5
}
