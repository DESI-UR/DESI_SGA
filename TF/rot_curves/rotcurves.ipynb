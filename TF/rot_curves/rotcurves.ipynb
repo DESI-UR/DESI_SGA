{
 "cells": [
  {
   "cell_type": "markdown",
   "id": "a27ca252-0c01-4248-be9b-d65a216909b1",
   "metadata": {},
   "source": [
    "### this file has: Original Fitting Function + Original Guesses"
   ]
  },
  {
   "cell_type": "code",
   "execution_count": 1,
   "id": "f07a83c5-9d6d-43d1-80e8-e11166fa08df",
   "metadata": {
    "tags": []
   },
   "outputs": [],
   "source": [
    "# all imports\n",
    "import numpy as np\n",
    "import os\n",
    "import requests\n",
    "from astropy.table import Table, vstack\n",
    "import matplotlib.pyplot as plt\n",
    "from astropy.io import fits\n",
    "from astropy.coordinates import SkyCoord\n",
    "from astropy import units as u\n",
    "from astropy.wcs import WCS\n",
    "import math\n",
    "import matplotlib as mpl\n",
    "from astropy.visualization.wcsaxes import SphericalCircle\n",
    "import pandas as pd\n",
    "import random\n",
    "from matplotlib.patches import Ellipse\n",
    "import ligo.skymap.plot\n",
    "from scipy.optimize import minimize\n",
    "import numdifftools as ndt"
   ]
  },
  {
   "cell_type": "code",
   "execution_count": 2,
   "id": "a63e67c6-759d-4409-82bb-ab7d8f5a8513",
   "metadata": {
    "tags": []
   },
   "outputs": [],
   "source": [
    "sga_ids = [9769, 11977, 12892, 14501, 16383, 19235, 19278, 25532, 30149, 31220, 32484, 36904, 37543, 46327, 58617, 73111, 88963, 91660, 90791, 106536, \n",
    "           114405, 114489, 122580, 126630, 125611, 128163, 128411, 130766, 149502, 153504, 175220, 176736, 184044, 186239, 189685, 188525, 190308, \n",
    "           192158, 196470, 199038, 202236, 205028, 209429, 212382, 218773, 235556, 254532, 272164, 272562, 276638, 288715, 289743, 291766, 300446, \n",
    "           302062, 305831, 309378, 319942, 330678, 349027, 349346, 363344, 373692, 378842, 384420, 389177, 393190, 395070, 398443, 398532, 416531, \n",
    "           431242, 430161, 432294, 450689, 450566, 455486, 457147, 458798, 462867, 466872, 467582, 471327, 469868, 471893, 473436, 477805, 481956, \n",
    "           485800, 493017, 507499, 526710, 544419, 544810, 544799, 544943, 548724, 548848, 550458, 564440, 569298, 568664, 570086, 582248, 591927, \n",
    "           607528, 608015, 629144, 630029, 630390, 635043, 638386, 641578, 643231, 643845, 644940, 647966, 649753, 649960, 651096, 654469, 659599, \n",
    "           663463, 671301, 671533, 694525, 696291, 696345, 706579, 720480, 722142, 726854, 728327, 729726, 729754, 736449, 742167, 743030, 744650, \n",
    "           752683, 757313, 757166, 758123, 759261, 759003, 766672, 783693, 793633, 804643, 805225, 819754, 820598, 823301, 824225, 826809, 827949, \n",
    "           833961, 833981, 843065, 843126, 845052, 887433, 901663, 901980, 908818, 908978, 911046, 914975, 914909, 916161, 920806, 923400, 925923, \n",
    "           925354, 928810, 928876, 932984, 947709, 953644, 957521, 957850, 967351, 968864, 971635, 975775, 972260, 977015, 976853, 979168, 978708, \n",
    "           989040, 989244, 1001302, 1003319, 1008726, 1014959, 1018187, 1021462, 1026141, 1031898, 1033651, 1033344, 1050173, 1065602, 1073430, \n",
    "           1086934, 1087039, 1087374, 1090772, 1091806, 1096564, 1098043, 1103477, 1111824, 1117018, 1124386, 1143335, 1146354, 1161160, 1167691, \n",
    "           1171841, 1179377, 1184894, 1184912, 1186034, 1187240, 1188032, 1188617, 1188926, 1193015, 1191665, 1194588, 1194958, 1199020, 1199539, \n",
    "           1201319, 1203786, 1204237, 1206707, 1218166, 1219319, 1254154, 1264056, 1264591, 1267967, 1271477, 1271549, 1272700, 1273605, 1278144, \n",
    "           1281619, 1282407, 1285273, 1286710, 1289613, 1293967, 1301768, 1304908, 1335916, 1338866, 1345100, 1348956, 1349555, 1354266, 1355575, \n",
    "           1361363, 1361399, 1365519, 1365549, 1367137, 1368018, 1368443, 1374964, 1379143, 1405053, 1429680, 1434487]"
   ]
  },
  {
   "cell_type": "code",
   "execution_count": 3,
   "id": "3a546328-eef0-4e55-8b67-a84166b830e7",
   "metadata": {
    "tags": []
   },
   "outputs": [],
   "source": [
    "# define directories\n",
    "data_dir = '/global/cfs/projectdirs/desi/science/td/pv/tfgalaxies/'\n",
    "cache_dir = '/pscratch/sd/j/jjpim/cache/' # my cache path\n",
    "v_dir = '/pscratch/sd/j/jjpim/rotcurves/'\n",
    "hist_dir = '/pscratch/sd/j/jjpim/'\n",
    "\n",
    "# load updated fuji table\n",
    "tf_fuji = Table.read(data_dir + 'SV/desi_pv_tf_fuji_healpix_rotcurve_EOA_VI_velocity.fits') \n",
    "# load iron table\n",
    "tf_iron = Table.read(data_dir + 'Y1/desi_pv_tf_iron_healpix_rotcurve_EOA_VI_velocity.fits')\n",
    "#combine\n",
    "tf_mastertable = vstack([tf_fuji,tf_iron])\n",
    "#unique SGA IDs in rot curve galaxies\n",
    "tf_galaxies = np.unique(tf_mastertable['SGA_ID'][tf_mastertable['ROT_CURVE']==1])\n",
    "tf_mastertable_dict = {}\n",
    "for sga_id in np.unique(tf_mastertable['SGA_ID'][tf_mastertable['ROT_CURVE']==1]):\n",
    "    tf_mastertable_dict[sga_id] = np.where(tf_mastertable['SGA_ID'] == sga_id)[0]\n",
    "\n",
    "# load SGA table\n",
    "SGA = Table.read('/global/cfs/cdirs/cosmo/data/sga/2020/SGA-2020.fits', 'ELLIPSE')\n",
    "SGA_dict = {}\n",
    "for i in range(len(SGA)):\n",
    "    SGA_dict[SGA['SGA_ID'][i]] = i"
   ]
  },
  {
   "cell_type": "code",
   "execution_count": 4,
   "id": "bd967659-d7c8-4337-acd1-0ee22e4624e0",
   "metadata": {
    "tags": []
   },
   "outputs": [],
   "source": [
    "tf_mastertable['ROTCURVE_CHI2']=np.nan\n",
    "tf_mastertable['VMAX']=np.nan\n",
    "tf_mastertable['VMAX_ERR']=np.nan\n",
    "tf_mastertable['RTURN']=np.nan\n",
    "tf_mastertable['RTURN_ERR']=np.nan\n",
    "tf_mastertable['ALPHA']=np.nan\n",
    "tf_mastertable['ALPHA_ERR']=np.nan\n",
    "tf_mastertable['INCLINATION']=np.nan"
   ]
  },
  {
   "cell_type": "code",
   "execution_count": 5,
   "id": "ee0deaee-3cc9-4a84-82ab-13d0266048c3",
   "metadata": {
    "tags": []
   },
   "outputs": [],
   "source": [
    "def inclination_angle(axis_ratio):\n",
    "    '''\n",
    "    Calculate Inclination Angle\n",
    "    Parameters\n",
    "    ----------\n",
    "    axis_ratio : float\n",
    "        Axis ratio for galaxy.\n",
    "        \n",
    "    Returns\n",
    "    -------\n",
    "    Inclination angle in Radians\n",
    "    '''\n",
    "    cos_i2 = (axis_ratio ** 2 - 0.2 ** 2)/(1 - 0.2 ** 2)\n",
    "    if cos_i2 < 0:\n",
    "        cos_i2 = 0.001\n",
    "    inclination = np.arccos(cos_i2 ** 0.5)\n",
    "    return inclination"
   ]
  },
  {
   "cell_type": "code",
   "execution_count": 6,
   "id": "6ca20d27-46f8-4b76-942f-89480431acad",
   "metadata": {
    "tags": []
   },
   "outputs": [],
   "source": [
    "def v_rot(r, v_max, r_turn, alpha):\n",
    "    '''\n",
    "    Calculate Rotational Velocity at a target\n",
    "    Parameters\n",
    "    ----------\n",
    "    r : float\n",
    "        Target distance.\n",
    "    v_max : float\n",
    "        Maximum velocity.\n",
    "    r_turn: float\n",
    "        Velocity curve turning point.\n",
    "    alpha : \n",
    "        Velocity curve angle.\n",
    "    Returns\n",
    "    -------\n",
    "    Rotational velocity in km / s\n",
    "    '''\n",
    "    vrot = (v_max * r) / ((r_turn ** alpha + r ** alpha) ** (1/alpha))\n",
    "    return vrot"
   ]
  },
  {
   "cell_type": "code",
   "execution_count": 7,
   "id": "95900228-fd4d-4aea-b39f-bd1c4d89bdb4",
   "metadata": {
    "tags": []
   },
   "outputs": [],
   "source": [
    "def chi_2(params, v, v_err, r):\n",
    "    '''\n",
    "    Calculate Chi Squared \n",
    "    Parameters\n",
    "    ----------\n",
    "    params : list\n",
    "        v_max, r_turn, alpha.\n",
    "    v : float\n",
    "        Absolute value of velocity.\n",
    "    v_err : float\n",
    "        Uncertainty for velocity.\n",
    "    r : \n",
    "        Target distance.\n",
    "    Returns\n",
    "    -------\n",
    "    Chi Squared value\n",
    "    '''\n",
    "    v_max, r_turn, alpha = params\n",
    "    v_model = v_rot(r, v_max, r_turn, alpha)\n",
    "    chi_sq = np.sum((v_model - v)**2/(v_err**2))\n",
    "    return chi_sq"
   ]
  },
  {
   "cell_type": "code",
   "execution_count": 8,
   "id": "35b6264a-1cd5-468b-8d44-8692a74fec5a",
   "metadata": {
    "tags": []
   },
   "outputs": [
    {
     "data": {
      "text/plain": [
       "array([[2.67176764e-01,            nan, 1.35857974e-15],\n",
       "       [           nan,            nan,            nan],\n",
       "       [1.35857974e-15,            nan, 7.46680846e-16]])"
      ]
     },
     "execution_count": 8,
     "metadata": {},
     "output_type": "execute_result"
    }
   ],
   "source": [
    "hess = np.load('/pscratch/sd/j/jjpim/hessians/114489_hessian.npy')\n",
    "hess"
   ]
  },
  {
   "cell_type": "code",
   "execution_count": 9,
   "id": "fa4c7690-98f1-4b70-8368-9e79cb501c52",
   "metadata": {
    "tags": []
   },
   "outputs": [],
   "source": [
    "hess_inv = np.linalg.inv(hess)\n",
    "fit_params_err = np.sqrt(np.diag(np.abs(hess_inv)))"
   ]
  },
  {
   "cell_type": "code",
   "execution_count": 10,
   "id": "224e410a-d741-415b-85c6-a6522b962343",
   "metadata": {},
   "outputs": [],
   "source": [
    "fit_params_err = np.ones(3)*np.nan"
   ]
  },
  {
   "cell_type": "code",
   "execution_count": null,
   "id": "940ff04e-dd6c-4424-ae94-d67af9db902c",
   "metadata": {
    "tags": []
   },
   "outputs": [],
   "source": [
    "#loop through all plottables\n",
    "for sga_id in sga_ids:\n",
    "    sga_idx = SGA_dict[sga_id]\n",
    "    axis_ratio = SGA['BA'][sga_idx]\n",
    "    \n",
    "    #calculate inclination and assign to table\n",
    "    inc = inclination_angle(axis_ratio)\n",
    "    tf_mastertable['INCLINATION'][np.logical_and(tf_mastertable['SGA_ID']==sga_id, np.abs(tf_mastertable['VELOCITY']) <= 1000)] = inc\n",
    "    \n",
    "    #velocty cut <= 1000 and define parameters\n",
    "    v = np.abs(tf_mastertable[np.logical_and(tf_mastertable['SGA_ID']==sga_id, np.abs(tf_mastertable['VELOCITY']) <= 1000)]['VELOCITY'])\n",
    "    verr = tf_mastertable[np.logical_and(tf_mastertable['SGA_ID']==sga_id, np.abs(tf_mastertable['VELOCITY']) <= 1000)]['VERR']\n",
    "    radius = tf_mastertable[np.logical_and(tf_mastertable['SGA_ID']==sga_id, np.abs(tf_mastertable['VELOCITY']) <= 1000)]['SKY_FIBER_DIST_R26']\n",
    "    \n",
    "    #calculate rotational velocity and error adjusted for inclination\n",
    "    vrotate = v / (np.sin(inc))\n",
    "    vrot = vrotate[np.abs(vrotate) <= 1000]\n",
    "    vrotate_err = verr / (np.sin(inc))\n",
    "    vrot_err = vrotate_err[np.abs(vrotate) <= 1000]\n",
    "    r = radius[np.abs(vrotate) <= 1000]\n",
    "    \n",
    "    #initial guesses and bounds\n",
    "    alpha_guess = 2\n",
    "    alpha_low = 0.001\n",
    "    alpha_high = 100\n",
    "    v_max_guess = 500\n",
    "    v_max_low = 10\n",
    "    v_max_high = 5100\n",
    "    r_turn_guess = 0.5\n",
    "    r_turn_low = 0.01\n",
    "    r_turn_high = 30\n",
    "    \n",
    "    #put guesses and bounds into array / tuples to pass into functions\n",
    "    guess = [v_max_guess, r_turn_guess, alpha_guess]\n",
    "    bounds = [(v_max_low, v_max_high), (r_turn_low, r_turn_high), (alpha_low, alpha_high)]\n",
    "    \n",
    "    #define result\n",
    "    result = minimize(chi_2, guess, method = 'Powell', args=(vrot, vrot_err, r), bounds=bounds)\n",
    "    \n",
    "    #plot only if result succeeds\n",
    "    if result.success:\n",
    "        #calculating errors\n",
    "        hessian = ndt.Hessian(chi_2)\n",
    "        hess = hessian(result.x, vrot, vrot_err, r)\n",
    "        np.save('/pscratch/sd/j/jjpim/hessians/' + str(sga_id) + '_hessian.npy', hess)\n",
    "        try:\n",
    "            hess_inv = 2*np.linalg.inv(hess)\n",
    "            fit_params_err = np.sqrt(np.diag(np.abs(hess_inv)))\n",
    "        except np.linalg.LinAlgError:\n",
    "            fit_params_err = np.nan*np.ones(len(result.x))\n",
    "\n",
    "        #adding results into table\n",
    "        tf_mastertable['VMAX'][np.logical_and(tf_mastertable['SGA_ID']==sga_id, np.abs(tf_mastertable['VELOCITY']) <= 1000)] = result.x[0]\n",
    "        tf_mastertable['RTURN'][np.logical_and(tf_mastertable['SGA_ID']==sga_id, np.abs(tf_mastertable['VELOCITY']) <= 1000)] = result.x[1]\n",
    "        tf_mastertable['ALPHA'][np.logical_and(tf_mastertable['SGA_ID']==sga_id, np.abs(tf_mastertable['VELOCITY']) <= 1000)] = result.x[2]\n",
    "        #chi_normal = result.fun/(len(v)-3)\n",
    "        tf_mastertable['ROTCURVE_CHI2'][np.logical_and(tf_mastertable['SGA_ID']==sga_id, np.abs(tf_mastertable['VELOCITY']) <= 1000)] = result.fun\n",
    "        \n",
    "        #adding errors to mastertable\n",
    "        tf_mastertable['VMAX_ERR'][np.logical_and(tf_mastertable['SGA_ID']==sga_id, np.abs(tf_mastertable['VELOCITY']) <= 1000)] = fit_params_err[0]\n",
    "        tf_mastertable['RTURN_ERR'][np.logical_and(tf_mastertable['SGA_ID']==sga_id, np.abs(tf_mastertable['VELOCITY']) <= 1000)] = fit_params_err[1]\n",
    "        tf_mastertable['ALPHA_ERR'][np.logical_and(tf_mastertable['SGA_ID']==sga_id, np.abs(tf_mastertable['VELOCITY']) <= 1000)] = fit_params_err[2]\n",
    "        \n",
    "        #create and index linear space\n",
    "        rs = np.linspace(0, 1.1, 1000)\n",
    "        vs = v_rot(rs, result.x[0], result.x[1], result.x[2])\n",
    "            \n",
    "\n",
    "        if not np.isnan(fit_params_err).all():\n",
    "            N_samples = 10000\n",
    "            try:\n",
    "                random_sample = np.random.multivariate_normal(mean=[result.x[0],\n",
    "                                                            result.x[1],\n",
    "                                                            result.x[2]],\n",
    "                                                            cov=hess_inv,\n",
    "                                                            size=N_samples)\n",
    "            except:\n",
    "                print(str(sga_id) + ' plot sample failed')\n",
    "            \n",
    "            #cuts out bad samples in gaussian\n",
    "            is_good_random = (random_sample[:,0] > 0) & (random_sample[:,1] > 0) & (random_sample[:,2] > 0)\n",
    "            good_randoms = random_sample[is_good_random, :]\n",
    "        \n",
    "        \n",
    "            y_sample = np.zeros((len(rs), len(good_randoms[:,0])))\n",
    "            for i in range(len(rs)):\n",
    "                for j in range(len(good_randoms[:,0])):\n",
    "            # Calculate values of curve at this location\n",
    "                    y_sample[i][j] = v_rot(rs[i], good_randoms[:,0][j],\n",
    "                                             good_randoms[:,1][j],\n",
    "                                             good_randoms[:,2][j])\n",
    "        \n",
    "            #standard dev along axis of parameter variances\n",
    "            stdevs = np.nanstd(y_sample, axis=1)   \n",
    "        \n",
    "            plt.fill_between(rs, vs - stdevs, vs + stdevs, facecolor='greenyellow', alpha=0.2)\n",
    "        \n",
    "        plt.errorbar(r, vrot, yerr=vrot_err, linestyle='none', marker='o', color='g')\n",
    "        plt.plot(rs, vs, color='greenyellow')\n",
    "        plt.xlabel(r\"r/$R_{26}$\")\n",
    "        plt.ylabel(\"Velocity [km/s]\")\n",
    "        plt.title(\"SGA ID \"+str(sga_id)+ \" Rotation Curve\")\n",
    "        img_name = v_dir + '{}.jpg'.format(sga_id)\n",
    "        plt.savefig(v_dir + '{}.png'.format(sga_id), dpi=120)\n",
    "        plt.show()\n",
    "        plt.close()\n",
    "        \n",
    "        print(fit_params_err)"
   ]
  },
  {
   "cell_type": "code",
   "execution_count": 13,
   "id": "92f9799e-48dd-4360-bb83-ee7f43ccf349",
   "metadata": {},
   "outputs": [],
   "source": [
    "#writing new data into new table\n",
    "tf_mastertable.write(data_dir + 'tf_mastertable.fits', format='fits', overwrite=True)"
   ]
  },
  {
   "cell_type": "code",
   "execution_count": null,
   "id": "f1d3c63e-8887-4d27-b8f6-9419d69ea7ba",
   "metadata": {},
   "outputs": [],
   "source": []
  }
 ],
 "metadata": {
  "kernelspec": {
   "display_name": "DESI main",
   "language": "python",
   "name": "desi-main"
  },
  "language_info": {
   "codemirror_mode": {
    "name": "ipython",
    "version": 3
   },
   "file_extension": ".py",
   "mimetype": "text/x-python",
   "name": "python",
   "nbconvert_exporter": "python",
   "pygments_lexer": "ipython3",
   "version": "3.10.14"
  }
 },
 "nbformat": 4,
 "nbformat_minor": 5
}
