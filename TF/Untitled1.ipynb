{
 "cells": [
  {
   "cell_type": "code",
   "execution_count": 34,
   "id": "e7e161b4-a616-4e56-bcbf-22da5f8b30d1",
   "metadata": {},
   "outputs": [],
   "source": [
    "from astropy.table import Table\n",
    "import numpy as np\n",
    "import os\n",
    "import requests"
   ]
  },
  {
   "cell_type": "code",
   "execution_count": 2,
   "id": "40d84925-c634-42c8-a39e-bbef5f751956",
   "metadata": {},
   "outputs": [
    {
     "data": {
      "text/html": [
       "<i>Table length=5</i>\n",
       "<table id=\"table46913334542640\" class=\"table-striped table-bordered table-condensed\">\n",
       "<thead><tr><th>SGA_ID</th><th>SGA_GALAXY</th><th>GALAXY</th><th>PGC</th><th>RA_LEDA</th><th>DEC_LEDA</th><th>MORPHTYPE</th><th>PA_LEDA</th><th>D25_LEDA</th><th>BA_LEDA</th><th>Z_LEDA</th><th>SB_D25_LEDA</th><th>MAG_LEDA</th><th>BYHAND</th><th>REF</th><th>GROUP_ID</th><th>GROUP_NAME</th><th>GROUP_MULT</th><th>GROUP_PRIMARY</th><th>GROUP_RA</th><th>GROUP_DEC</th><th>GROUP_DIAMETER</th><th>BRICKNAME</th><th>RA</th><th>DEC</th><th>D26</th><th>D26_REF</th><th>PA</th><th>BA</th><th>RA_MOMENT</th><th>DEC_MOMENT</th><th>SMA_MOMENT</th><th>G_SMA50</th><th>R_SMA50</th><th>Z_SMA50</th><th>SMA_SB22</th><th>SMA_SB22.5</th><th>SMA_SB23</th><th>SMA_SB23.5</th><th>SMA_SB24</th><th>SMA_SB24.5</th><th>SMA_SB25</th><th>SMA_SB25.5</th><th>SMA_SB26</th><th>G_MAG_SB22</th><th>R_MAG_SB22</th><th>Z_MAG_SB22</th><th>G_MAG_SB22.5</th><th>R_MAG_SB22.5</th><th>Z_MAG_SB22.5</th><th>G_MAG_SB23</th><th>R_MAG_SB23</th><th>Z_MAG_SB23</th><th>G_MAG_SB23.5</th><th>R_MAG_SB23.5</th><th>Z_MAG_SB23.5</th><th>G_MAG_SB24</th><th>R_MAG_SB24</th><th>Z_MAG_SB24</th><th>G_MAG_SB24.5</th><th>R_MAG_SB24.5</th><th>Z_MAG_SB24.5</th><th>G_MAG_SB25</th><th>R_MAG_SB25</th><th>Z_MAG_SB25</th><th>G_MAG_SB25.5</th><th>R_MAG_SB25.5</th><th>Z_MAG_SB25.5</th><th>G_MAG_SB26</th><th>R_MAG_SB26</th><th>Z_MAG_SB26</th><th>SMA_SB22_ERR</th><th>SMA_SB22.5_ERR</th><th>SMA_SB23_ERR</th><th>SMA_SB23.5_ERR</th><th>SMA_SB24_ERR</th><th>SMA_SB24.5_ERR</th><th>SMA_SB25_ERR</th><th>SMA_SB25.5_ERR</th><th>SMA_SB26_ERR</th><th>G_MAG_SB22_ERR</th><th>R_MAG_SB22_ERR</th><th>Z_MAG_SB22_ERR</th><th>G_MAG_SB22.5_ERR</th><th>R_MAG_SB22.5_ERR</th><th>Z_MAG_SB22.5_ERR</th><th>G_MAG_SB23_ERR</th><th>R_MAG_SB23_ERR</th><th>Z_MAG_SB23_ERR</th><th>G_MAG_SB23.5_ERR</th><th>R_MAG_SB23.5_ERR</th><th>Z_MAG_SB23.5_ERR</th><th>G_MAG_SB24_ERR</th><th>R_MAG_SB24_ERR</th><th>Z_MAG_SB24_ERR</th><th>G_MAG_SB24.5_ERR</th><th>R_MAG_SB24.5_ERR</th><th>Z_MAG_SB24.5_ERR</th><th>G_MAG_SB25_ERR</th><th>R_MAG_SB25_ERR</th><th>Z_MAG_SB25_ERR</th><th>G_MAG_SB25.5_ERR</th><th>R_MAG_SB25.5_ERR</th><th>Z_MAG_SB25.5_ERR</th><th>G_MAG_SB26_ERR</th><th>R_MAG_SB26_ERR</th><th>Z_MAG_SB26_ERR</th><th>G_COG_PARAMS_MTOT</th><th>G_COG_PARAMS_M0</th><th>G_COG_PARAMS_ALPHA1</th><th>G_COG_PARAMS_ALPHA2</th><th>G_COG_PARAMS_CHI2</th><th>R_COG_PARAMS_MTOT</th><th>R_COG_PARAMS_M0</th><th>R_COG_PARAMS_ALPHA1</th><th>R_COG_PARAMS_ALPHA2</th><th>R_COG_PARAMS_CHI2</th><th>Z_COG_PARAMS_MTOT</th><th>Z_COG_PARAMS_M0</th><th>Z_COG_PARAMS_ALPHA1</th><th>Z_COG_PARAMS_ALPHA2</th><th>Z_COG_PARAMS_CHI2</th><th>ELLIPSEBIT</th><th>DM_Stellar</th><th>e_DM_lo_Stellar</th><th>e_DM_hi_Stellar</th><th>Stellar_Catalog</th><th>DM1_SN</th><th>e_DM1_SN</th><th>DM2_SN</th><th>e_DM2_SN</th><th>DM3_SN</th><th>e_DM3_SN</th><th>DM4_SN</th><th>e_DM4_SN</th><th>DM5_SN</th><th>e_DM5_SN</th><th>DM6_SN</th><th>e_DM6_SN</th><th>DM7_SN</th><th>e_DM7_SN</th><th>SN_Catalog</th></tr></thead>\n",
       "<thead><tr><th>int64</th><th>bytes16</th><th>bytes29</th><th>int64</th><th>float64</th><th>float64</th><th>bytes21</th><th>float32</th><th>float32</th><th>float32</th><th>float32</th><th>float32</th><th>float32</th><th>bool</th><th>bytes13</th><th>int64</th><th>bytes35</th><th>int16</th><th>bool</th><th>float64</th><th>float64</th><th>float32</th><th>bytes8</th><th>float64</th><th>float64</th><th>float32</th><th>bytes4</th><th>float32</th><th>float32</th><th>float64</th><th>float64</th><th>float32</th><th>float32</th><th>float32</th><th>float32</th><th>float32</th><th>float32</th><th>float32</th><th>float32</th><th>float32</th><th>float32</th><th>float32</th><th>float32</th><th>float32</th><th>float32</th><th>float32</th><th>float32</th><th>float32</th><th>float32</th><th>float32</th><th>float32</th><th>float32</th><th>float32</th><th>float32</th><th>float32</th><th>float32</th><th>float32</th><th>float32</th><th>float32</th><th>float32</th><th>float32</th><th>float32</th><th>float32</th><th>float32</th><th>float32</th><th>float32</th><th>float32</th><th>float32</th><th>float32</th><th>float32</th><th>float32</th><th>float32</th><th>float32</th><th>float32</th><th>float32</th><th>float32</th><th>float32</th><th>float32</th><th>float32</th><th>float32</th><th>float32</th><th>float32</th><th>float32</th><th>float32</th><th>float32</th><th>float32</th><th>float32</th><th>float32</th><th>float32</th><th>float32</th><th>float32</th><th>float32</th><th>float32</th><th>float32</th><th>float32</th><th>float32</th><th>float32</th><th>float32</th><th>float32</th><th>float32</th><th>float32</th><th>float32</th><th>float32</th><th>float32</th><th>float32</th><th>float32</th><th>float32</th><th>float32</th><th>float32</th><th>float32</th><th>float32</th><th>float32</th><th>float32</th><th>float32</th><th>float32</th><th>float32</th><th>float32</th><th>float32</th><th>float32</th><th>float32</th><th>float32</th><th>float32</th><th>int32</th><th>float64</th><th>float64</th><th>float64</th><th>bytes16</th><th>float64</th><th>float64</th><th>float64</th><th>float64</th><th>float64</th><th>float64</th><th>float64</th><th>float64</th><th>float64</th><th>float64</th><th>float64</th><th>int64</th><th>float64</th><th>int64</th><th>bytes24</th></tr></thead>\n",
       "<tr><td>5000761</td><td>SGA-2020 5000761</td><td>DR8-3598m132-1566</td><td>-1</td><td>359.8543401209699</td><td>-13.27298450516979</td><td>COMP</td><td>13.630395</td><td>0.36305833</td><td>0.37946832</td><td>-1.0</td><td>24.814651</td><td>18.386288</td><td>False</td><td>DR8</td><td>529381</td><td>DR8-3598m132-1566</td><td>1</td><td>True</td><td>359.8543401209699</td><td>-13.27298450516979</td><td>0.36305833</td><td>3598m132</td><td>359.85434774837023</td><td>-13.272977710650537</td><td>0.28370878</td><td>SB26</td><td>168.67378</td><td>0.5625282</td><td>359.85426448280407</td><td>-13.27283520797331</td><td>6.5634704</td><td>6.3352146</td><td>5.8562765</td><td>5.2685037</td><td>-1.0</td><td>0.490355</td><td>1.3431504</td><td>2.6847167</td><td>3.7493393</td><td>4.8546333</td><td>6.111469</td><td>7.3589787</td><td>8.511264</td><td>-1.0</td><td>-1.0</td><td>-1.0</td><td>23.718433</td><td>23.193655</td><td>23.154612</td><td>21.66221</td><td>21.185404</td><td>21.111595</td><td>20.502134</td><td>20.086287</td><td>19.971468</td><td>20.085892</td><td>19.70376</td><td>19.57079</td><td>19.821558</td><td>19.462872</td><td>19.34163</td><td>19.616253</td><td>19.26634</td><td>19.164177</td><td>19.466738</td><td>19.137087</td><td>19.014479</td><td>19.37565</td><td>19.053564</td><td>18.928083</td><td>-1.0</td><td>0.014212543</td><td>0.040192965</td><td>0.033691984</td><td>0.04154174</td><td>0.07088843</td><td>0.11356775</td><td>0.13873318</td><td>0.12907872</td><td>-1.0</td><td>-1.0</td><td>-1.0</td><td>0.026477985</td><td>0.050427496</td><td>0.039810665</td><td>0.038443595</td><td>0.041060727</td><td>0.028624054</td><td>0.030409802</td><td>0.033370476</td><td>0.027760057</td><td>0.027706875</td><td>0.030110046</td><td>0.026305534</td><td>0.02673246</td><td>0.027684188</td><td>0.026165267</td><td>0.02534611</td><td>0.02572179</td><td>0.025609946</td><td>0.024172347</td><td>0.024743635</td><td>0.024433767</td><td>0.023255061</td><td>0.024151104</td><td>0.023917114</td><td>18.828407</td><td>1.8961897</td><td>0.27432075</td><td>1.2582772</td><td>0.5068609</td><td>18.54517</td><td>1.9884998</td><td>0.24010763</td><td>1.2152138</td><td>0.42738745</td><td>18.50474</td><td>1.7520914</td><td>0.22583209</td><td>1.3503227</td><td>2.026229</td><td>0</td><td>-1.0</td><td>-1.0</td><td>-1.0</td><td>-1</td><td>-1.0</td><td>-1.0</td><td>-1.0</td><td>-1.0</td><td>-1.0</td><td>-1.0</td><td>-1.0</td><td>-1.0</td><td>-1.0</td><td>-1.0</td><td>-1.0</td><td>-1</td><td>-1.0</td><td>-1</td><td>-1</td></tr>\n",
       "<tr><td>5000100</td><td>SGA-2020 5000100</td><td>DR8-3299m605-2919</td><td>-1</td><td>329.95571191714737</td><td>-60.4722744689504</td><td>COMP</td><td>155.0766</td><td>0.42772675</td><td>0.6975549</td><td>-1.0</td><td>22.43324</td><td>15.648927</td><td>False</td><td>DR8</td><td>528867</td><td>DR8-3299m605-2919</td><td>1</td><td>True</td><td>329.95571191714737</td><td>-60.4722744689504</td><td>0.42772675</td><td>3299m605</td><td>329.9556939232771</td><td>-60.47227993946594</td><td>0.62354004</td><td>SB26</td><td>13.482484</td><td>0.81153715</td><td>329.9557616952847</td><td>-60.47212089960734</td><td>19.176771</td><td>6.305705</td><td>5.316128</td><td>4.633332</td><td>3.5362608</td><td>4.7344112</td><td>6.4602933</td><td>8.686563</td><td>11.099823</td><td>13.182781</td><td>15.129542</td><td>16.952633</td><td>18.706202</td><td>18.079912</td><td>17.10553</td><td>16.45363</td><td>17.861446</td><td>16.90573</td><td>16.270485</td><td>17.626451</td><td>16.702143</td><td>16.085651</td><td>17.37193</td><td>16.493755</td><td>15.902965</td><td>17.164364</td><td>16.32334</td><td>15.7551775</td><td>17.044641</td><td>16.225012</td><td>15.673279</td><td>16.968338</td><td>16.161993</td><td>15.621534</td><td>16.925732</td><td>16.126425</td><td>15.589917</td><td>16.897062</td><td>16.101164</td><td>15.5661955</td><td>0.018870493</td><td>0.02211962</td><td>0.027392235</td><td>0.042248614</td><td>0.059847366</td><td>0.058304973</td><td>0.06292059</td><td>0.067461185</td><td>0.12281286</td><td>0.04445038</td><td>0.05216242</td><td>0.060565393</td><td>0.036527295</td><td>0.043659844</td><td>0.05149793</td><td>0.029508885</td><td>0.036248904</td><td>0.043481365</td><td>0.023377204</td><td>0.029838156</td><td>0.036598608</td><td>0.019523589</td><td>0.025709704</td><td>0.032179926</td><td>0.017574714</td><td>0.02352256</td><td>0.02987031</td><td>0.016379716</td><td>0.022110106</td><td>0.028337618</td><td>0.015827144</td><td>0.021511706</td><td>0.027686927</td><td>0.015383046</td><td>0.020921161</td><td>0.026947394</td><td>16.875532</td><td>0.10224132</td><td>39.47095</td><td>7.990301</td><td>0.87541056</td><td>16.076267</td><td>0.09990648</td><td>23.529333</td><td>6.9226575</td><td>0.13347243</td><td>15.534506</td><td>0.11103598</td><td>11.803069</td><td>5.6001678</td><td>0.052898582</td><td>0</td><td>-1.0</td><td>-1.0</td><td>-1.0</td><td>-1</td><td>-1.0</td><td>-1.0</td><td>-1.0</td><td>-1.0</td><td>-1.0</td><td>-1.0</td><td>-1.0</td><td>-1.0</td><td>-1.0</td><td>-1.0</td><td>-1.0</td><td>-1</td><td>-1.0</td><td>-1</td><td>-1</td></tr>\n",
       "<tr><td>5000101</td><td>SGA-2020 5000101</td><td>DR8-0428m602-4341</td><td>-1</td><td>43.01589380518563</td><td>-60.19008355097176</td><td>DEV</td><td>76.72161</td><td>0.5197684</td><td>0.50547314</td><td>-1.0</td><td>24.886185</td><td>17.678654</td><td>False</td><td>DR8</td><td>528868</td><td>DR8-0428m602-4341</td><td>1</td><td>True</td><td>43.01589380518563</td><td>-60.19008355097176</td><td>0.5197684</td><td>0428m602</td><td>43.0158409278892</td><td>-60.19006850693699</td><td>0.2995438</td><td>SB26</td><td>130.62354</td><td>0.82812405</td><td>43.015711547505454</td><td>-60.18985283465927</td><td>7.305906</td><td>6.4000063</td><td>6.554371</td><td>5.941861</td><td>-1.0</td><td>0.43971828</td><td>1.2950909</td><td>2.7783186</td><td>4.0173025</td><td>5.380957</td><td>6.637323</td><td>7.863014</td><td>8.986314</td><td>-1.0</td><td>-1.0</td><td>-1.0</td><td>23.46046</td><td>23.012009</td><td>22.722801</td><td>21.298271</td><td>20.838564</td><td>20.586018</td><td>20.091703</td><td>19.686905</td><td>19.45462</td><td>19.585398</td><td>19.213463</td><td>19.011019</td><td>19.241985</td><td>18.8988</td><td>18.708347</td><td>19.030985</td><td>18.704548</td><td>18.52491</td><td>18.902962</td><td>18.57962</td><td>18.404764</td><td>18.816408</td><td>18.505655</td><td>18.345798</td><td>-1.0</td><td>0.040133674</td><td>0.038412448</td><td>0.039465293</td><td>0.040503945</td><td>0.04500195</td><td>0.0574474</td><td>0.05836967</td><td>0.08682622</td><td>-1.0</td><td>-1.0</td><td>-1.0</td><td>0.18643145</td><td>0.23118983</td><td>0.26170272</td><td>0.10713007</td><td>0.11413693</td><td>0.12643518</td><td>0.049031835</td><td>0.051427525</td><td>0.05546828</td><td>0.03417839</td><td>0.03575449</td><td>0.038691323</td><td>0.026123025</td><td>0.02776557</td><td>0.030320605</td><td>0.021982374</td><td>0.023457259</td><td>0.025968803</td><td>0.019888498</td><td>0.02129597</td><td>0.023985501</td><td>0.018616242</td><td>0.02012911</td><td>0.023204003</td><td>18.32019</td><td>1.2479571</td><td>0.40770265</td><td>1.5866154</td><td>0.8099984</td><td>17.970156</td><td>1.4986098</td><td>0.36491713</td><td>1.374992</td><td>0.78827834</td><td>17.86777</td><td>1.4401665</td><td>0.3296373</td><td>1.4088252</td><td>0.9026677</td><td>0</td><td>-1.0</td><td>-1.0</td><td>-1.0</td><td>-1</td><td>-1.0</td><td>-1.0</td><td>-1.0</td><td>-1.0</td><td>-1.0</td><td>-1.0</td><td>-1.0</td><td>-1.0</td><td>-1.0</td><td>-1.0</td><td>-1.0</td><td>-1</td><td>-1.0</td><td>-1</td><td>-1</td></tr>\n",
       "<tr><td>5000103</td><td>SGA-2020 5000103</td><td>DR8-0564m602-5182</td><td>-1</td><td>56.54259474515711</td><td>-60.170012742290595</td><td>COMP</td><td>116.028</td><td>0.39595056</td><td>0.6758435</td><td>-1.0</td><td>22.833836</td><td>16.21715</td><td>False</td><td>DR8</td><td>528869</td><td>DR8-0564m602-5182</td><td>1</td><td>True</td><td>56.54259474515711</td><td>-60.170012742290595</td><td>0.39595056</td><td>0564m602</td><td>56.5425484311264</td><td>-60.17002017195986</td><td>0.45891094</td><td>SB26</td><td>58.620274</td><td>0.8069667</td><td>56.542605001541126</td><td>-60.16987915861672</td><td>11.52677</td><td>3.5407197</td><td>3.640534</td><td>3.4678946</td><td>2.9925213</td><td>3.982296</td><td>5.2397475</td><td>6.6388736</td><td>8.143896</td><td>9.431933</td><td>10.802918</td><td>12.243053</td><td>13.767328</td><td>18.205729</td><td>17.511276</td><td>16.946764</td><td>18.015867</td><td>17.325253</td><td>16.757921</td><td>17.829113</td><td>17.131493</td><td>16.574013</td><td>17.658195</td><td>16.955154</td><td>16.409122</td><td>17.543545</td><td>16.835526</td><td>16.295795</td><td>17.479597</td><td>16.7686</td><td>16.232376</td><td>17.432611</td><td>16.721592</td><td>16.187424</td><td>17.39887</td><td>16.685518</td><td>16.154554</td><td>17.373758</td><td>16.65943</td><td>16.129866</td><td>0.029243266</td><td>0.052350823</td><td>0.042395998</td><td>0.049963497</td><td>0.051639527</td><td>0.046315562</td><td>0.054095972</td><td>0.07581425</td><td>0.11955502</td><td>0.04193297</td><td>0.050752692</td><td>0.056369837</td><td>0.036478166</td><td>0.04359036</td><td>0.04802639</td><td>0.031672988</td><td>0.037227865</td><td>0.04105769</td><td>0.027629614</td><td>0.032112982</td><td>0.035625856</td><td>0.025011195</td><td>0.02890964</td><td>0.03220338</td><td>0.023639638</td><td>0.02723375</td><td>0.030418476</td><td>0.022663414</td><td>0.0261013</td><td>0.029206611</td><td>0.022073252</td><td>0.025447907</td><td>0.028602172</td><td>0.02158101</td><td>0.024851251</td><td>0.027972175</td><td>17.341112</td><td>0.15827028</td><td>1.0597229</td><td>4.5156007</td><td>0.25887877</td><td>16.628347</td><td>0.15414321</td><td>1.1208923</td><td>4.7113214</td><td>0.283053</td><td>16.097488</td><td>0.15764304</td><td>1.0367033</td><td>4.4657435</td><td>0.11038314</td><td>0</td><td>-1.0</td><td>-1.0</td><td>-1.0</td><td>-1</td><td>-1.0</td><td>-1.0</td><td>-1.0</td><td>-1.0</td><td>-1.0</td><td>-1.0</td><td>-1.0</td><td>-1.0</td><td>-1.0</td><td>-1.0</td><td>-1.0</td><td>-1</td><td>-1.0</td><td>-1</td><td>-1</td></tr>\n",
       "<tr><td>5000104</td><td>SGA-2020 5000104</td><td>DR8-3116m602-5249</td><td>-1</td><td>311.6822338222947</td><td>-60.15777584223587</td><td>COMP</td><td>27.00728</td><td>0.31811</td><td>0.3786559</td><td>-1.0</td><td>22.528774</td><td>16.387407</td><td>False</td><td>DR8</td><td>528870</td><td>DR8-3116m602-5249</td><td>1</td><td>True</td><td>311.6822338222947</td><td>-60.15777584223587</td><td>0.31811</td><td>3116m602</td><td>311.68218370725486</td><td>-60.15778385496827</td><td>0.3772321</td><td>SB26</td><td>37.267677</td><td>0.60977674</td><td>311.6819701782829</td><td>-60.15771809823727</td><td>9.049317</td><td>2.5344326</td><td>2.5065234</td><td>2.3701298</td><td>3.7486074</td><td>4.5074596</td><td>5.360254</td><td>6.282953</td><td>7.2018814</td><td>8.1922035</td><td>9.174659</td><td>10.215832</td><td>11.316963</td><td>18.011465</td><td>17.212872</td><td>16.609362</td><td>17.890486</td><td>17.095617</td><td>16.501747</td><td>17.7956</td><td>17.003231</td><td>16.415813</td><td>17.724556</td><td>16.932873</td><td>16.351442</td><td>17.674213</td><td>16.88341</td><td>16.306314</td><td>17.637867</td><td>16.847454</td><td>16.274595</td><td>17.613974</td><td>16.823631</td><td>16.250742</td><td>17.596737</td><td>16.805452</td><td>16.23273</td><td>17.584661</td><td>16.792227</td><td>16.220684</td><td>0.0271106</td><td>0.03580016</td><td>0.044821702</td><td>0.04606568</td><td>0.04248665</td><td>0.058688715</td><td>0.06138982</td><td>0.08101228</td><td>0.06897944</td><td>0.038286723</td><td>0.038399193</td><td>0.042705674</td><td>0.03511407</td><td>0.035257023</td><td>0.039255373</td><td>0.032415666</td><td>0.0326344</td><td>0.03647537</td><td>0.030571626</td><td>0.030768186</td><td>0.03451141</td><td>0.029262934</td><td>0.029472051</td><td>0.03318024</td><td>0.028343963</td><td>0.028556058</td><td>0.032272372</td><td>0.02775303</td><td>0.02795914</td><td>0.03159694</td><td>0.02727826</td><td>0.027469523</td><td>0.031076986</td><td>0.027046604</td><td>0.027188068</td><td>0.03077609</td><td>17.547606</td><td>0.26231307</td><td>0.22092265</td><td>3.1476464</td><td>0.004118985</td><td>16.751373</td><td>0.27314</td><td>0.23329324</td><td>2.9956362</td><td>0.0018884783</td><td>16.175776</td><td>0.29954964</td><td>0.22481349</td><td>2.723101</td><td>0.0016395395</td><td>0</td><td>-1.0</td><td>-1.0</td><td>-1.0</td><td>-1</td><td>-1.0</td><td>-1.0</td><td>-1.0</td><td>-1.0</td><td>-1.0</td><td>-1.0</td><td>-1.0</td><td>-1.0</td><td>-1.0</td><td>-1.0</td><td>-1.0</td><td>-1</td><td>-1.0</td><td>-1</td><td>-1</td></tr>\n",
       "</table>"
      ],
      "text/plain": [
       "<Table length=5>\n",
       " SGA_ID    SGA_GALAXY          GALAXY       PGC  ...  DM7_SN e_DM7_SN SN_Catalog\n",
       " int64      bytes16           bytes29      int64 ... float64  int64    bytes24  \n",
       "------- ---------------- ----------------- ----- ... ------- -------- ----------\n",
       "5000761 SGA-2020 5000761 DR8-3598m132-1566    -1 ...    -1.0       -1         -1\n",
       "5000100 SGA-2020 5000100 DR8-3299m605-2919    -1 ...    -1.0       -1         -1\n",
       "5000101 SGA-2020 5000101 DR8-0428m602-4341    -1 ...    -1.0       -1         -1\n",
       "5000103 SGA-2020 5000103 DR8-0564m602-5182    -1 ...    -1.0       -1         -1\n",
       "5000104 SGA-2020 5000104 DR8-3116m602-5249    -1 ...    -1.0       -1         -1"
      ]
     },
     "execution_count": 2,
     "metadata": {},
     "output_type": "execute_result"
    }
   ],
   "source": [
    "tab = Table.read('SGA_distances.fits', format = 'fits')\n",
    "tab[:5]"
   ]
  },
  {
   "cell_type": "code",
   "execution_count": 7,
   "id": "5ceab55d-bee2-4551-99b8-fbe84bd6e317",
   "metadata": {},
   "outputs": [
    {
     "data": {
      "text/plain": [
       "1934"
      ]
     },
     "execution_count": 7,
     "metadata": {},
     "output_type": "execute_result"
    }
   ],
   "source": [
    "disttab = tab[(tab['DM_Stellar'] != -1) | (tab['DM1_SN'] != -1)]\n",
    "len(np.unique(disttab))"
   ]
  },
  {
   "cell_type": "code",
   "execution_count": 27,
   "id": "cfa95548-895c-47d1-92cc-2a39fa874329",
   "metadata": {},
   "outputs": [],
   "source": [
    "with open('rosette_match_output_dist.txt', 'r') as dfile:\n",
    "    lines = dfile.readlines()\n",
    "    l = []\n",
    "    for line in lines:\n",
    "        if line[0] == 'T' or line[0] == ' ':\n",
    "            continue\n",
    "        else:\n",
    "            # print(line)\n",
    "            newline = line.strip('Match found: ').strip('\\n')\n",
    "            try:\n",
    "                l.append(int(newline))\n",
    "            except ValueError:\n",
    "                continue\n",
    "    # lines = [line.rstrip() for line in lines]"
   ]
  },
  {
   "cell_type": "code",
   "execution_count": 28,
   "id": "0da12cdd-43aa-4369-b55a-a65dbc1aa9d4",
   "metadata": {},
   "outputs": [
    {
     "data": {
      "text/plain": [
       "15"
      ]
     },
     "execution_count": 28,
     "metadata": {},
     "output_type": "execute_result"
    }
   ],
   "source": [
    "l = np.unique(l)\n",
    "len(l)"
   ]
  },
  {
   "cell_type": "code",
   "execution_count": 36,
   "id": "3d84522c-c1aa-403a-bf83-6429425399e2",
   "metadata": {
    "tags": []
   },
   "outputs": [],
   "source": [
    "match = []\n",
    "SGA_ids = list(disttab['SGA_ID'])\n",
    "for l_id in l:\n",
    "    for SGA_id in SGA_ids:\n",
    "        if SGA_id == l_id:\n",
    "            # print(SGA_id)\n",
    "            match.append(SGA_id)"
   ]
  },
  {
   "cell_type": "code",
   "execution_count": 37,
   "id": "01bf81ea-557b-4d90-98fa-68830cceb4cb",
   "metadata": {
    "tags": []
   },
   "outputs": [
    {
     "data": {
      "text/html": [
       "<i>Table length=50337</i>\n",
       "<table id=\"table46913332032896\" class=\"table-striped table-bordered table-condensed\">\n",
       "<thead><tr><th>PVTYPE</th><th>SGA_ID</th><th>TARGETID</th><th>FIBER_RA</th><th>FIBER_DEC</th><th>FIBERSTATUS</th><th>TILEID</th><th>TARGET_RA</th><th>TARGET_DEC</th><th>Z</th><th>ZERR</th><th>SPECTYPE</th><th>DELTACHI2</th><th>ZWARN</th></tr></thead>\n",
       "<thead><tr><th>bytes3</th><th>int64</th><th>int64</th><th>float64</th><th>float64</th><th>int64</th><th>int64</th><th>float64</th><th>float64</th><th>float64</th><th>float64</th><th>bytes6</th><th>float64</th><th>int64</th></tr></thead>\n",
       "<tr><td>EXT</td><td>17643</td><td>39633062056692288</td><td>0.0</td><td>0.0</td><td>0</td><td>80618</td><td>115.163713024568</td><td>39.2330431988692</td><td>0.0112272729370015</td><td>2.54691135614028e-06</td><td>GALAXY</td><td>199710.72255059</td><td>0</td></tr>\n",
       "<tr><td>EXT</td><td>17643</td><td>39633062056692288</td><td>115.163671928495</td><td>39.2330481232594</td><td>0</td><td>80618</td><td>115.163713024568</td><td>39.2330431988692</td><td>0.0112272729370015</td><td>2.54691135614028e-06</td><td>GALAXY</td><td>199710.72255059</td><td>0</td></tr>\n",
       "<tr><td>EXT</td><td>17643</td><td>39633062056692288</td><td>115.163676763292</td><td>39.2330716810911</td><td>0</td><td>80618</td><td>115.163713024568</td><td>39.2330431988692</td><td>0.0112272729370015</td><td>2.54691135614028e-06</td><td>GALAXY</td><td>199710.72255059</td><td>0</td></tr>\n",
       "<tr><td>EXT</td><td>17643</td><td>39633062056692288</td><td>115.163687172584</td><td>39.2330595735952</td><td>0</td><td>80618</td><td>115.163713024568</td><td>39.2330431988692</td><td>0.0112272729370015</td><td>2.54691135614028e-06</td><td>GALAXY</td><td>199710.72255059</td><td>0</td></tr>\n",
       "<tr><td>EXT</td><td>17643</td><td>39633062056692288</td><td>115.163687272099</td><td>39.2330517354585</td><td>0</td><td>80618</td><td>115.163713024568</td><td>39.2330431988692</td><td>0.0112272729370015</td><td>2.54691135614028e-06</td><td>GALAXY</td><td>199710.72255059</td><td>0</td></tr>\n",
       "<tr><td>EXT</td><td>17643</td><td>39633062056692288</td><td>115.163687614895</td><td>39.2330239448729</td><td>0</td><td>80618</td><td>115.163713024568</td><td>39.2330431988692</td><td>0.0112272729370015</td><td>2.54691135614028e-06</td><td>GALAXY</td><td>199710.72255059</td><td>0</td></tr>\n",
       "<tr><td>EXT</td><td>17643</td><td>39633062056692288</td><td>115.163692746003</td><td>39.2330238257014</td><td>0</td><td>80618</td><td>115.163713024568</td><td>39.2330431988692</td><td>0.0112272729370015</td><td>2.54691135614028e-06</td><td>GALAXY</td><td>199710.72255059</td><td>0</td></tr>\n",
       "<tr><td>EXT</td><td>17643</td><td>39633062056692288</td><td>115.163702566258</td><td>39.2330592761066</td><td>0</td><td>80618</td><td>115.163713024568</td><td>39.2330431988692</td><td>0.0112272729370015</td><td>2.54691135614028e-06</td><td>GALAXY</td><td>199710.72255059</td><td>0</td></tr>\n",
       "<tr><td>EXT</td><td>17643</td><td>39633062056692288</td><td>115.163702811737</td><td>39.2330394673576</td><td>0</td><td>80618</td><td>115.163713024568</td><td>39.2330431988692</td><td>0.0112272729370015</td><td>2.54691135614028e-06</td><td>GALAXY</td><td>199710.72255059</td><td>0</td></tr>\n",
       "<tr><td>EXT</td><td>17643</td><td>39633062056692288</td><td>115.163713024568</td><td>39.2330431988692</td><td>0</td><td>80618</td><td>115.163713024568</td><td>39.2330431988692</td><td>0.0112272729370015</td><td>2.54691135614028e-06</td><td>GALAXY</td><td>199710.72255059</td><td>0</td></tr>\n",
       "<tr><td>...</td><td>...</td><td>...</td><td>...</td><td>...</td><td>...</td><td>...</td><td>...</td><td>...</td><td>...</td><td>...</td><td>...</td><td>...</td><td>...</td></tr>\n",
       "<tr><td>TFT</td><td>5002834</td><td>39633332262142424</td><td>184.479163492579</td><td>55.6283412091969</td><td>0</td><td>81069</td><td>184.47917781956</td><td>55.6283335551213</td><td>0.117793341958439</td><td>7.43533476024843e-06</td><td>GALAXY</td><td>2499.71438142657</td><td>0</td></tr>\n",
       "<tr><td>TFT</td><td>5002854</td><td>39633343125391143</td><td>262.289543928086</td><td>56.6239412312086</td><td>0</td><td>20746</td><td>262.289572762347</td><td>56.6239366173946</td><td>0.0916427447513874</td><td>8.14525340740346e-06</td><td>GALAXY</td><td>816.592183232307</td><td>0</td></tr>\n",
       "<tr><td>TFT</td><td>5002867</td><td>39633349773361398</td><td>262.255588401596</td><td>56.9397682390049</td><td>0</td><td>20746</td><td>262.255624725747</td><td>56.9397752596294</td><td>0.0630771932729861</td><td>7.2799852456132e-06</td><td>GALAXY</td><td>861.639057200169</td><td>0</td></tr>\n",
       "<tr><td>TFT</td><td>5002871</td><td>39633353028144264</td><td>259.02750529209</td><td>57.1929782516413</td><td>0</td><td>20746</td><td>259.027555301625</td><td>57.1929951000212</td><td>0.0253098742211238</td><td>4.60144109111536e-06</td><td>GALAXY</td><td>1008.08463830873</td><td>0</td></tr>\n",
       "<tr><td>TFT</td><td>5002960</td><td>39633433382617123</td><td>275.095997459549</td><td>63.8962717495826</td><td>0</td><td>20507</td><td>275.096050401914</td><td>63.8962540115316</td><td>0.0712444567599144</td><td>1.27243778806407e-05</td><td>GALAXY</td><td>265.632686032914</td><td>0</td></tr>\n",
       "<tr><td>TFT</td><td>5002991</td><td>39633454039564470</td><td>297.168755852476</td><td>66.0538447189418</td><td>0</td><td>20504</td><td>297.168759557762</td><td>66.0538847558776</td><td>0.222522321969458</td><td>1.38471724762845e-05</td><td>GALAXY</td><td>35.0426686070859</td><td>0</td></tr>\n",
       "<tr><td>TFT</td><td>5003027</td><td>39633483877845276</td><td>271.406909017715</td><td>69.3275856399569</td><td>0</td><td>20040</td><td>271.406827817855</td><td>69.327558937278</td><td>0.0936798503441587</td><td>4.38694862700492e-06</td><td>GALAXY</td><td>7657.60778868198</td><td>0</td></tr>\n",
       "<tr><td>TFT</td><td>5003122</td><td>39633565075376334</td><td>147.040159308329</td><td>83.4784960368452</td><td>512</td><td>80655</td><td>146.99773214879</td><td>83.4665456719823</td><td>-0.00199569129234795</td><td>4.13114935733491e-48</td><td>STAR</td><td>1.94266889222573e+84</td><td>1570</td></tr>\n",
       "<tr><td>TFT</td><td>5003122</td><td>39633565075376334</td><td>147.040552511968</td><td>83.4784586548945</td><td>512</td><td>80655</td><td>146.99773214879</td><td>83.4665456719823</td><td>-0.00199569129234795</td><td>4.13114935733491e-48</td><td>STAR</td><td>1.94266889222573e+84</td><td>1570</td></tr>\n",
       "<tr><td>TFT</td><td>5003122</td><td>39633565075376334</td><td>147.040733115934</td><td>83.4784538506359</td><td>512</td><td>80655</td><td>146.99773214879</td><td>83.4665456719823</td><td>-0.00199569129234795</td><td>4.13114935733491e-48</td><td>STAR</td><td>1.94266889222573e+84</td><td>1570</td></tr>\n",
       "</table>"
      ],
      "text/plain": [
       "<Table length=50337>\n",
       "PVTYPE  SGA_ID      TARGETID     ... SPECTYPE      DELTACHI2       ZWARN\n",
       "bytes3  int64        int64       ...  bytes6        float64        int64\n",
       "------ ------- ----------------- ... -------- -------------------- -----\n",
       "   EXT   17643 39633062056692288 ...   GALAXY      199710.72255059     0\n",
       "   EXT   17643 39633062056692288 ...   GALAXY      199710.72255059     0\n",
       "   EXT   17643 39633062056692288 ...   GALAXY      199710.72255059     0\n",
       "   EXT   17643 39633062056692288 ...   GALAXY      199710.72255059     0\n",
       "   EXT   17643 39633062056692288 ...   GALAXY      199710.72255059     0\n",
       "   EXT   17643 39633062056692288 ...   GALAXY      199710.72255059     0\n",
       "   EXT   17643 39633062056692288 ...   GALAXY      199710.72255059     0\n",
       "   EXT   17643 39633062056692288 ...   GALAXY      199710.72255059     0\n",
       "   EXT   17643 39633062056692288 ...   GALAXY      199710.72255059     0\n",
       "   EXT   17643 39633062056692288 ...   GALAXY      199710.72255059     0\n",
       "   ...     ...               ... ...      ...                  ...   ...\n",
       "   TFT 5002834 39633332262142424 ...   GALAXY     2499.71438142657     0\n",
       "   TFT 5002854 39633343125391143 ...   GALAXY     816.592183232307     0\n",
       "   TFT 5002867 39633349773361398 ...   GALAXY     861.639057200169     0\n",
       "   TFT 5002871 39633353028144264 ...   GALAXY     1008.08463830873     0\n",
       "   TFT 5002960 39633433382617123 ...   GALAXY     265.632686032914     0\n",
       "   TFT 5002991 39633454039564470 ...   GALAXY     35.0426686070859     0\n",
       "   TFT 5003027 39633483877845276 ...   GALAXY     7657.60778868198     0\n",
       "   TFT 5003122 39633565075376334 ...     STAR 1.94266889222573e+84  1570\n",
       "   TFT 5003122 39633565075376334 ...     STAR 1.94266889222573e+84  1570\n",
       "   TFT 5003122 39633565075376334 ...     STAR 1.94266889222573e+84  1570"
      ]
     },
     "execution_count": 37,
     "metadata": {},
     "output_type": "execute_result"
    }
   ],
   "source": [
    "# Change use_cached = False if we want to redo the query at some point.\n",
    "use_cached = True\n",
    "\n",
    "if os.path.exists('cache/tf_targets_everest.fits') and use_cached:\n",
    "    tf_targets = Table.read('cache/tf_targets_everest.fits')\n",
    "else:\n",
    "    try:\n",
    "        db = psycopg2.connect(host='decatdb.lbl.gov', database='desi', user='desi')\n",
    "        cursor = db.cursor()\n",
    "        \n",
    "        query = \"\"\"SELECT DISTINCT pr.pvtype, pr.sga_id, fd.targetid, fd.fiber_ra, fd.fiber_dec, fd.fiberstatus, fd.tileid, zd.target_ra, zd.target_dec, zd.z, zd.zerr, zd.spectype, zd.deltachi2, zd.zwarn\n",
    "                   FROM everest.ztile_cumulative_fibermap fd\n",
    "                   INNER JOIN\n",
    "                       everest.ztile_cumulative_redshifts zd ON zd.targetid = fd.targetid\n",
    "                   INNER JOIN pv.proposals pr ON (CAST(pr.ra*10000 AS INTEGER) = CAST(zd.target_ra*10000 AS INTEGER)) AND \n",
    "                                                 (CAST(pr.dec*10000 AS INTEGER) = CAST(zd.target_dec*10000 AS INTEGER))\n",
    "                   WHERE (pr.pvtype LIKE 'TFT' or pr.pvtype LIKE 'EXT' or pr.pvtype LIKE 'SGA');\"\"\"\n",
    "        \n",
    "        cursor.execute(query)\n",
    "        rows = cursor.fetchall()\n",
    "        tf_targets = Table(list(map(list, zip(*rows))), \n",
    "                           names=['PVTYPE', 'SGA_ID', 'TARGETID', 'FIBER_RA', 'FIBER_DEC', 'FIBERSTATUS', 'TILEID', \n",
    "                                  'TARGET_RA', 'TARGET_DEC', 'Z', 'ZERR', 'SPECTYPE', 'DELTACHI2', 'ZWARN'])\n",
    "        tf_targets.write('cache/tf_targets_everest.fits', overwrite=True)\n",
    "        \n",
    "    except (Exception, psycopg2.errors) as error:\n",
    "        print(error)\n",
    "    finally:\n",
    "        if db is not None:\n",
    "            db.close()\n",
    "            \n",
    "tf_targets"
   ]
  },
  {
   "cell_type": "code",
   "execution_count": null,
   "id": "5aef8892-b45f-4b5f-b3da-f35da1d6a7dd",
   "metadata": {},
   "outputs": [],
   "source": [
    "with open('rosette_match_output_dist.txt', 'r') as dfile:\n",
    "    lines = dfile.readlines()\n",
    "    l = []\n",
    "    for line in lines:\n",
    "        if line[0] == 'T' or line[0] == ' ':\n",
    "            continue\n",
    "        else:\n",
    "            # print(line)\n",
    "            newline = line.strip('Match found: ').strip('\\n')\n",
    "            try:\n",
    "                l.append(int(newline))\n",
    "            except ValueError:\n",
    "                continue"
   ]
  }
 ],
 "metadata": {
  "kernelspec": {
   "display_name": "NERSC Python",
   "language": "python",
   "name": "python3"
  },
  "language_info": {
   "codemirror_mode": {
    "name": "ipython",
    "version": 3
   },
   "file_extension": ".py",
   "mimetype": "text/x-python",
   "name": "python",
   "nbconvert_exporter": "python",
   "pygments_lexer": "ipython3",
   "version": "3.9.7"
  }
 },
 "nbformat": 4,
 "nbformat_minor": 5
}
