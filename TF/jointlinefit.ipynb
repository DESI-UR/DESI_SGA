{
 "cells": [
  {
   "cell_type": "markdown",
   "metadata": {},
   "source": [
    "# Joint Line Fit\n",
    "\n",
    "Create two data sets generated from a linear relation with the same slope but different constant offsets (intercepts).\n",
    "\n",
    "Perform a chi-square fit to find the common slope and the two intercepts.\n",
    "\n",
    "Then subclass the `LinFit` class in the [hyperfit](https://hyperfit.readthedocs.io/en/latest/) package to perform the same joint fit using `hyperfit`."
   ]
  },
  {
   "cell_type": "code",
   "execution_count": 1,
   "metadata": {},
   "outputs": [],
   "source": [
    "import numpy as np\n",
    "import matplotlib as mpl\n",
    "import matplotlib.pyplot as plt\n",
    "\n",
    "from scipy.optimize import minimize\n",
    "\n",
    "from corner import corner\n",
    "\n",
    "from hyperfit.linfit import LinFit"
   ]
  },
  {
   "cell_type": "code",
   "execution_count": 2,
   "metadata": {},
   "outputs": [],
   "source": [
    "mpl.rc('font', size=14)"
   ]
  },
  {
   "cell_type": "markdown",
   "metadata": {},
   "source": [
    "## Generate Data\n",
    "\n",
    "Generate two independent data sets of two different sizes of the form\n",
    "\n",
    "$$\n",
    "\\begin{align}\n",
    "y_i^{(1)} &= ax_i^{(1)} + b^{(1)} \\\\\n",
    "y_i^{(2)} &= ax_i^{(2)} + b^{(2)}\n",
    "\\end{align}\n",
    "$$\n",
    "\n",
    "I.e., the data share a slope but have different constants offsets. The data will also have separate covariances."
   ]
  },
  {
   "cell_type": "code",
   "execution_count": 3,
   "metadata": {},
   "outputs": [],
   "source": [
    "n, m = 15, 12\n",
    "\n",
    "# Common slope but different intercepts.\n",
    "a, b1, b2 = 2., 1., 2.\n",
    "\n",
    "# Generate the first data set, and pack the results into the arrays data1 and cov1.\n",
    "x1 = np.random.rand(n)\n",
    "y1 = np.random.normal(a*x1 + b1, 0.2)\n",
    "dx1, dy1, corrxy1 = (\n",
    "    0.05 * np.random.rand(n) + 0.025,\n",
    "    0.05 * np.random.rand(n) + 0.025,\n",
    "    2.0 * (np.random.rand(n) - 0.5)\n",
    ")\n",
    "data1, cov1 = np.empty((2, n)), np.empty((2, 2, n))\n",
    "for i, (x, y, ex, ey, rho_xy) in enumerate(zip(x1, y1, dx1, dy1, corrxy1)):\n",
    "    cov1[:, :, i] = np.array([[ex ** 2, ex * ey * rho_xy], [ex * ey * rho_xy, ey ** 2]])\n",
    "    data1[:, i] = np.random.multivariate_normal([x, y], cov1[:, :, i])\n",
    "\n",
    "# Generate the second data set, and pack the results into the arrays data2 and cov2.\n",
    "x2 = np.random.rand(m)\n",
    "y2 = np.random.normal(a*x2 + b2, 0.2)\n",
    "dx2, dy2, corrxy2 = (\n",
    "    0.05 * np.random.rand(m) + 0.025,\n",
    "    0.05 * np.random.rand(m) + 0.025,\n",
    "    2.0 * (np.random.rand(m) - 0.5)\n",
    ")\n",
    "data2, cov2 = np.empty((2, m)), np.empty((2, 2, m))\n",
    "for i, (x, y, ex, ey, rho_xy) in enumerate(zip(x2, y2, dx2, dy2, corrxy2)):\n",
    "    cov2[:, :, i] = np.array([[ex ** 2, ex * ey * rho_xy], [ex * ey * rho_xy, ey ** 2]])\n",
    "    data2[:, i] = np.random.multivariate_normal([x, y], cov2[:, :, i])"
   ]
  },
  {
   "cell_type": "code",
   "execution_count": 4,
   "metadata": {},
   "outputs": [
    {
     "data": {
      "image/png": "[encoded data removed]",
      "text/plain": [
       "<Figure size 576x360 with 1 Axes>"
      ]
     },
     "metadata": {
      "needs_background": "light"
     },
     "output_type": "display_data"
    }
   ],
   "source": [
    "fig, ax = plt.subplots(1,1, figsize=(8,5))\n",
    "eb1 = ax.errorbar(data1[0], data1[1], xerr=np.sqrt(cov1[0,0]), yerr=np.sqrt(cov1[1,1]), fmt='.')\n",
    "eb2 = ax.errorbar(data2[0], data2[1], xerr=np.sqrt(cov2[0,0]), yerr=np.sqrt(cov2[1,1]), fmt='.')\n",
    "ax.set(xlabel='$x$', ylabel='$y$');"
   ]
  },
  {
   "cell_type": "markdown",
   "metadata": {},
   "source": [
    "## Standard Fit\n",
    "\n",
    "Attempt a standard $\\chi^2$ fit to the data. Use both the uncertainties in $x$ and $y$, but ignore the covariances. Here we use the form of the $\\chi^2$ defined in **Numerical Recipes in C++**, eq. 15.3.2:\n",
    "\n",
    "$$\n",
    "\\chi^2(a,b) = \\sum_{i}\\frac{(y_i-ax_i-b)^2}{\\sigma_{y_i}^2 + a^2\\sigma_{x_i}^2}\n",
    "$$\n",
    "\n",
    "In this case, we divide the data in two and specify the parameters as the array `[a, b1, b2]`."
   ]
  },
  {
   "cell_type": "code",
   "execution_count": 5,
   "metadata": {},
   "outputs": [],
   "source": [
    "def chi2(params, data1, data2, cov1, cov2):\n",
    "    \"\"\"Chi-square function for joint slope fit to two data sets.\n",
    "    \n",
    "    Parameters\n",
    "    ----------\n",
    "    data1 : ndarray\n",
    "        2xN array of [x1, y1] for data set 1.\n",
    "    data2 : ndarray\n",
    "        2xM array of [x2, y2] for data set 2.\n",
    "    cov1 : ndarray\n",
    "        2x2xN covariances for data set 1.\n",
    "    cov2 : ndarray\n",
    "        2x2xM covariances for data set 2.\n",
    "        \n",
    "    Returns\n",
    "    -------\n",
    "    chi2 : float\n",
    "        Sum of chi-square fits to data sets 1 and 2.\n",
    "    \"\"\"\n",
    "    a, b1, b2 = params\n",
    "    \n",
    "    x1, y1 = data1[0], data1[1]\n",
    "    varx1, vary1 = cov1[0,0], cov1[1,1]\n",
    "    chi2_1 = np.sum((y1 - a*x1 - b1)**2 / (vary1 + a**2*varx1))\n",
    "    \n",
    "    x2, y2 = data2[0], data2[1]\n",
    "    varx2, vary2 = cov2[0,0], cov2[1,1]\n",
    "    chi2_2 = np.sum((y2 - a*x2 - b2)**2 / (vary2 + a**2*varx2))\n",
    "    \n",
    "    return chi2_1 + chi2_2"
   ]
  },
  {
   "cell_type": "markdown",
   "metadata": {},
   "source": [
    "### Peform the Fit and Plot Results\n",
    "\n",
    "Use the `BFGS` minimizer to find the best fit parameters.\n",
    "\n",
    "Note that the result may depend sensitively on the initial seed values."
   ]
  },
  {
   "cell_type": "code",
   "execution_count": 6,
   "metadata": {},
   "outputs": [
    {
     "data": {
      "text/plain": [
       "      fun: 172.34441603069598\n",
       " hess_inv: array([[ 0.00613377, -0.00288969, -0.00356706],\n",
       "       [-0.00288969,  0.00171709,  0.00167272],\n",
       "       [-0.00356706,  0.00167272,  0.00257269]])\n",
       "      jac: array([-3.81469727e-06,  0.00000000e+00,  1.90734863e-06])\n",
       "  message: 'Optimization terminated successfully.'\n",
       "     nfev: 64\n",
       "      nit: 13\n",
       "     njev: 16\n",
       "   status: 0\n",
       "  success: True\n",
       "        x: array([2.25047106, 0.86517594, 2.00384736])"
      ]
     },
     "execution_count": 6,
     "metadata": {},
     "output_type": "execute_result"
    }
   ],
   "source": [
    "p0 = [1.5, 0.7, 1.2]\n",
    "res = minimize(chi2, p0, args=(data1, data2, cov1, cov2), method='BFGS')\n",
    "res"
   ]
  },
  {
   "cell_type": "code",
   "execution_count": 7,
   "metadata": {},
   "outputs": [
    {
     "data": {
      "image/png": "[encoded data removed]",
      "text/plain": [
       "<Figure size 576x360 with 1 Axes>"
      ]
     },
     "metadata": {
      "needs_background": "light"
     },
     "output_type": "display_data"
    }
   ],
   "source": [
    "a_, b1_, b2_ = res.x\n",
    "da_, db1_, db2_ = [np.sqrt(res.hess_inv[i,i]) for i in range(3)]\n",
    "\n",
    "fig, ax = plt.subplots(1,1, figsize=(8,5))\n",
    "eb1 = ax.errorbar(data1[0], data1[1], xerr=np.sqrt(cov1[0,0]), yerr=np.sqrt(cov1[1,1]), fmt='.')\n",
    "ax.plot(data1[0], a_*data1[0] + b1_, color=eb1[0].get_color(),\n",
    "        label=r'$\\hat{{a}}={:.2f}\\pm{:.2f}$, $\\hat{{b}}_1={:.2f}\\pm{:.2f}$'.format(a_, da_, b1_, db1_))\n",
    "\n",
    "eb2 = ax.errorbar(data2[0], data2[1], xerr=np.sqrt(cov2[0,0]), yerr=np.sqrt(cov2[1,1]), fmt='.')\n",
    "ax.plot(data2[0], a_*data2[0] + b2_, color=eb2[0].get_color(),\n",
    "        label=r'$\\hat{{a}}={:.2f}\\pm{:.2f}$, $\\hat{{b}}_1={:.2f}\\pm{:.2f}$'.format(a_, da_, b2_, db2_))\n",
    "\n",
    "ax.set(xlabel='$x$', ylabel='$y$',\n",
    "       title='$a={:g}$, $b_1={:g}$, $b_2={:g}$'.format(a, b1, b2))\n",
    "ax.legend(fontsize=12);"
   ]
  },
  {
   "cell_type": "code",
   "execution_count": null,
   "metadata": {},
   "outputs": [],
   "source": []
  }
 ],
 "metadata": {
  "kernelspec": {
   "display_name": "Python [conda env:desi] *",
   "language": "python",
   "name": "conda-env-desi-py"
  },
  "language_info": {
   "codemirror_mode": {
    "name": "ipython",
    "version": 3
   },
   "file_extension": ".py",
   "mimetype": "text/x-python",
   "name": "python",
   "nbconvert_exporter": "python",
   "pygments_lexer": "ipython3",
   "version": "3.7.10"
  }
 },
 "nbformat": 4,
 "nbformat_minor": 4
}
