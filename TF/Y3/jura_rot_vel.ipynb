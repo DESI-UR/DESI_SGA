{
 "cells": [
  {
   "cell_type": "markdown",
   "id": "09e49034-a028-41c9-8b51-57ef62918bea",
   "metadata": {},
   "source": [
    "Notebook to generate data file that is a subset of the SGA catalog with rotational velocities measured during Y3\n",
    "(jura)."
   ]
  },
  {
   "cell_type": "code",
   "execution_count": 1,
   "id": "5340282d-d5f6-4d25-83e3-a08183ef30b9",
   "metadata": {
    "tags": []
   },
   "outputs": [],
   "source": [
    "import numpy as np\n",
    "\n",
    "from astropy.table import Table\n",
    "from astropy.coordinates import SkyCoord\n",
    "import astropy.units as u\n",
    "import astropy.constants as const\n",
    "\n",
    "from tqdm import tqdm\n",
    "\n",
    "import matplotlib.pyplot as plt"
   ]
  },
  {
   "cell_type": "code",
   "execution_count": 2,
   "id": "b7dfb2b9-436d-4666-a284-38e8cb57fc4f",
   "metadata": {
    "tags": []
   },
   "outputs": [],
   "source": [
    "c = const.c.to('km/s')\n",
    "\n",
    "q0 = 0.2"
   ]
  },
  {
   "cell_type": "markdown",
   "id": "852542cb-e308-434d-8b5d-1ff19f88a63d",
   "metadata": {},
   "source": [
    "# Data"
   ]
  },
  {
   "cell_type": "markdown",
   "id": "6a959aa6-23f7-4a4b-bf38-788fcfb664a1",
   "metadata": {},
   "source": [
    "## jura"
   ]
  },
  {
   "cell_type": "code",
   "execution_count": 3,
   "id": "fe5b1fa6-1458-4304-aa0b-c93236d6ee85",
   "metadata": {
    "tags": []
   },
   "outputs": [
    {
     "data": {
      "text/html": [
       "<div><i>Table length=5</i>\n",
       "<table id=\"table140006153694864\" class=\"table-striped table-bordered table-condensed\">\n",
       "<thead><tr><th>TARGETID</th><th>TARGET_RA</th><th>TARGET_DEC</th><th>MEAN_FIBER_RA</th><th>MEAN_FIBER_DEC</th><th>STD_FIBER_RA</th><th>STD_FIBER_DEC</th><th>Z</th><th>ZERR</th><th>SPECTYPE</th><th>DELTACHI2</th><th>ZWARN</th><th>PVTYPE</th><th>SGA_ID</th><th>PHOTSYS</th><th>SKY_FIBER_DIST</th><th>SKY_FIBER_DIST_R26</th></tr></thead>\n",
       "<thead><tr><th>int64</th><th>float64</th><th>float64</th><th>float64</th><th>float64</th><th>float64</th><th>float64</th><th>float64</th><th>float64</th><th>bytes6</th><th>float64</th><th>int64</th><th>bytes3</th><th>int32</th><th>bytes1</th><th>float64</th><th>float64</th></tr></thead>\n",
       "<tr><td>-430502046</td><td>134.00013295228783</td><td>5.934552839997555</td><td>134.0000012447711</td><td>5.934402495943119</td><td>0.0</td><td>0.0</td><td>1.5211813094599733</td><td>9.536633276548175e-05</td><td>GALAXY</td><td>21.043927863240242</td><td>2049</td><td>TFT</td><td>838970</td><td>S</td><td>0.0</td><td>0.0</td></tr>\n",
       "<tr><td>-427872363</td><td>61.981718642816155</td><td>-22.823913110732356</td><td>61.981815755036905</td><td>-22.824112647850505</td><td>0.01692960597574711</td><td>0.01899055577814579</td><td>0.049085960824979194</td><td>8.765385426009584e-06</td><td>GALAXY</td><td>320.327581204474</td><td>2049</td><td>TFT</td><td>982213</td><td>S</td><td>0.0</td><td>0.0</td></tr>\n",
       "<tr><td>-411444222</td><td>156.2181500220905</td><td>7.1584828480845655</td><td>156.21807676457115</td><td>7.1586258676041306</td><td>0.0</td><td>0.0</td><td>0.7655265334224575</td><td>0.00014819907104570706</td><td>GALAXY</td><td>2.862433671951294</td><td>2053</td><td>TFT</td><td>4614</td><td>S</td><td>0.0</td><td>0.0</td></tr>\n",
       "<tr><td>-261707523</td><td>51.18809619857989</td><td>-15.380001206793725</td><td>51.18805131712048</td><td>-15.379972719695512</td><td>0.18443052470684052</td><td>0.270201712846756</td><td>0.11706841864860068</td><td>1.263477560383397e-05</td><td>GALAXY</td><td>5022.345633155666</td><td>512</td><td>SGA</td><td>788458</td><td>S</td><td>0.0</td><td>0.0</td></tr>\n",
       "<tr><td>-260779407</td><td>138.32747528464944</td><td>17.5639019859795</td><td>138.32760054746495</td><td>17.56391743552376</td><td>0.0</td><td>0.0</td><td>0.08569271543378945</td><td>9.438671035622181e-06</td><td>GALAXY</td><td>243.51359286904335</td><td>2560</td><td>TFT</td><td>735997</td><td>S</td><td>0.0</td><td>0.0</td></tr>\n",
       "</table></div>"
      ],
      "text/plain": [
       "<Table length=5>\n",
       " TARGETID      TARGET_RA      ... SKY_FIBER_DIST SKY_FIBER_DIST_R26\n",
       "  int64         float64       ...    float64          float64      \n",
       "---------- ------------------ ... -------------- ------------------\n",
       "-430502046 134.00013295228783 ...            0.0                0.0\n",
       "-427872363 61.981718642816155 ...            0.0                0.0\n",
       "-411444222  156.2181500220905 ...            0.0                0.0\n",
       "-261707523  51.18809619857989 ...            0.0                0.0\n",
       "-260779407 138.32747528464944 ...            0.0                0.0"
      ]
     },
     "execution_count": 3,
     "metadata": {},
     "output_type": "execute_result"
    }
   ],
   "source": [
    "tjura = Table.read('/global/homes/s/sgmoore1/DESI_SGA/TF/Y3/desi_pv_tf_jura_healpix.fits')\n",
    "tjura[:5]"
   ]
  },
  {
   "cell_type": "markdown",
   "id": "e4d220a5-ea6d-45c7-9a3f-8259ea3af96f",
   "metadata": {},
   "source": [
    "## SGA"
   ]
  },
  {
   "cell_type": "code",
   "execution_count": 4,
   "id": "7d67c7b2-868b-4b70-9261-4dfb09e03f19",
   "metadata": {
    "tags": []
   },
   "outputs": [
    {
     "data": {
      "text/html": [
       "<div><i>Table length=5</i>\n",
       "<table id=\"table140005407921952\" class=\"table-striped table-bordered table-condensed\">\n",
       "<thead><tr><th>SGA_ID</th><th>SGA_GALAXY</th><th>GALAXY</th><th>PGC</th><th>RA_LEDA</th><th>DEC_LEDA</th><th>MORPHTYPE</th><th>PA_LEDA</th><th>D25_LEDA</th><th>BA_LEDA</th><th>Z_LEDA</th><th>SB_D25_LEDA</th><th>MAG_LEDA</th><th>BYHAND</th><th>REF</th><th>GROUP_ID</th><th>GROUP_NAME</th><th>GROUP_MULT</th><th>GROUP_PRIMARY</th><th>GROUP_RA</th><th>GROUP_DEC</th><th>GROUP_DIAMETER</th><th>BRICKNAME</th><th>RA</th><th>DEC</th><th>D26</th><th>D26_REF</th><th>PA</th><th>BA</th><th>RA_MOMENT</th><th>DEC_MOMENT</th><th>SMA_MOMENT</th><th>G_SMA50</th><th>R_SMA50</th><th>Z_SMA50</th><th>SMA_SB22</th><th>SMA_SB22.5</th><th>SMA_SB23</th><th>SMA_SB23.5</th><th>SMA_SB24</th><th>SMA_SB24.5</th><th>SMA_SB25</th><th>SMA_SB25.5</th><th>SMA_SB26</th><th>G_MAG_SB22</th><th>R_MAG_SB22</th><th>Z_MAG_SB22</th><th>G_MAG_SB22.5</th><th>R_MAG_SB22.5</th><th>Z_MAG_SB22.5</th><th>G_MAG_SB23</th><th>R_MAG_SB23</th><th>Z_MAG_SB23</th><th>G_MAG_SB23.5</th><th>R_MAG_SB23.5</th><th>Z_MAG_SB23.5</th><th>G_MAG_SB24</th><th>R_MAG_SB24</th><th>Z_MAG_SB24</th><th>G_MAG_SB24.5</th><th>R_MAG_SB24.5</th><th>Z_MAG_SB24.5</th><th>G_MAG_SB25</th><th>R_MAG_SB25</th><th>Z_MAG_SB25</th><th>G_MAG_SB25.5</th><th>R_MAG_SB25.5</th><th>Z_MAG_SB25.5</th><th>G_MAG_SB26</th><th>R_MAG_SB26</th><th>Z_MAG_SB26</th><th>SMA_SB22_ERR</th><th>SMA_SB22.5_ERR</th><th>SMA_SB23_ERR</th><th>SMA_SB23.5_ERR</th><th>SMA_SB24_ERR</th><th>SMA_SB24.5_ERR</th><th>SMA_SB25_ERR</th><th>SMA_SB25.5_ERR</th><th>SMA_SB26_ERR</th><th>G_MAG_SB22_ERR</th><th>R_MAG_SB22_ERR</th><th>Z_MAG_SB22_ERR</th><th>G_MAG_SB22.5_ERR</th><th>R_MAG_SB22.5_ERR</th><th>Z_MAG_SB22.5_ERR</th><th>G_MAG_SB23_ERR</th><th>R_MAG_SB23_ERR</th><th>Z_MAG_SB23_ERR</th><th>G_MAG_SB23.5_ERR</th><th>R_MAG_SB23.5_ERR</th><th>Z_MAG_SB23.5_ERR</th><th>G_MAG_SB24_ERR</th><th>R_MAG_SB24_ERR</th><th>Z_MAG_SB24_ERR</th><th>G_MAG_SB24.5_ERR</th><th>R_MAG_SB24.5_ERR</th><th>Z_MAG_SB24.5_ERR</th><th>G_MAG_SB25_ERR</th><th>R_MAG_SB25_ERR</th><th>Z_MAG_SB25_ERR</th><th>G_MAG_SB25.5_ERR</th><th>R_MAG_SB25.5_ERR</th><th>Z_MAG_SB25.5_ERR</th><th>G_MAG_SB26_ERR</th><th>R_MAG_SB26_ERR</th><th>Z_MAG_SB26_ERR</th><th>G_COG_PARAMS_MTOT</th><th>G_COG_PARAMS_M0</th><th>G_COG_PARAMS_ALPHA1</th><th>G_COG_PARAMS_ALPHA2</th><th>G_COG_PARAMS_CHI2</th><th>R_COG_PARAMS_MTOT</th><th>R_COG_PARAMS_M0</th><th>R_COG_PARAMS_ALPHA1</th><th>R_COG_PARAMS_ALPHA2</th><th>R_COG_PARAMS_CHI2</th><th>Z_COG_PARAMS_MTOT</th><th>Z_COG_PARAMS_M0</th><th>Z_COG_PARAMS_ALPHA1</th><th>Z_COG_PARAMS_ALPHA2</th><th>Z_COG_PARAMS_CHI2</th><th>ELLIPSEBIT</th></tr></thead>\n",
       "<thead><tr><th>int64</th><th>bytes16</th><th>bytes29</th><th>int64</th><th>float64</th><th>float64</th><th>bytes21</th><th>float32</th><th>float32</th><th>float32</th><th>float32</th><th>float32</th><th>float32</th><th>bool</th><th>bytes13</th><th>int64</th><th>bytes35</th><th>int16</th><th>bool</th><th>float64</th><th>float64</th><th>float32</th><th>bytes8</th><th>float64</th><th>float64</th><th>float32</th><th>bytes4</th><th>float32</th><th>float32</th><th>float64</th><th>float64</th><th>float32</th><th>float32</th><th>float32</th><th>float32</th><th>float32</th><th>float32</th><th>float32</th><th>float32</th><th>float32</th><th>float32</th><th>float32</th><th>float32</th><th>float32</th><th>float32</th><th>float32</th><th>float32</th><th>float32</th><th>float32</th><th>float32</th><th>float32</th><th>float32</th><th>float32</th><th>float32</th><th>float32</th><th>float32</th><th>float32</th><th>float32</th><th>float32</th><th>float32</th><th>float32</th><th>float32</th><th>float32</th><th>float32</th><th>float32</th><th>float32</th><th>float32</th><th>float32</th><th>float32</th><th>float32</th><th>float32</th><th>float32</th><th>float32</th><th>float32</th><th>float32</th><th>float32</th><th>float32</th><th>float32</th><th>float32</th><th>float32</th><th>float32</th><th>float32</th><th>float32</th><th>float32</th><th>float32</th><th>float32</th><th>float32</th><th>float32</th><th>float32</th><th>float32</th><th>float32</th><th>float32</th><th>float32</th><th>float32</th><th>float32</th><th>float32</th><th>float32</th><th>float32</th><th>float32</th><th>float32</th><th>float32</th><th>float32</th><th>float32</th><th>float32</th><th>float32</th><th>float32</th><th>float32</th><th>float32</th><th>float32</th><th>float32</th><th>float32</th><th>float32</th><th>float32</th><th>float32</th><th>float32</th><th>float32</th><th>float32</th><th>float32</th><th>float32</th><th>float32</th><th>float32</th><th>float32</th><th>int32</th></tr></thead>\n",
       "<tr><td>2</td><td>SGA-2020 2</td><td>PGC1283207</td><td>1283207</td><td>228.3770865</td><td>5.4232017</td><td>S?</td><td>152.2</td><td>0.36307806</td><td>0.724436</td><td>0.03463229</td><td>23.40448</td><td>16.976</td><td>False</td><td>LEDA-20181114</td><td>0</td><td>PGC1283207</td><td>1</td><td>True</td><td>228.3770865</td><td>5.4232017</td><td>0.36307806</td><td>2283p055</td><td>228.3770803831908</td><td>5.423191398593787</td><td>0.49470574</td><td>SB26</td><td>158.20142</td><td>0.545691</td><td>228.37700918822188</td><td>5.4232652570544015</td><td>10.897086</td><td>3.3509698</td><td>3.1147978</td><td>3.240862</td><td>5.902337</td><td>6.9126143</td><td>7.941369</td><td>8.997992</td><td>10.073601</td><td>11.199986</td><td>12.391357</td><td>13.561038</td><td>14.841172</td><td>16.966799</td><td>16.108246</td><td>15.486356</td><td>16.879545</td><td>16.024958</td><td>15.400715</td><td>16.818878</td><td>15.967034</td><td>15.341793</td><td>16.776297</td><td>15.925804</td><td>15.300776</td><td>16.746685</td><td>15.897334</td><td>15.272053</td><td>16.725166</td><td>15.876816</td><td>15.2521105</td><td>16.708357</td><td>15.862035</td><td>15.237181</td><td>16.696539</td><td>15.851936</td><td>15.226998</td><td>16.689613</td><td>15.844313</td><td>15.21976</td><td>0.013392451</td><td>0.02354</td><td>0.021872982</td><td>0.01736985</td><td>0.024445537</td><td>0.039866067</td><td>0.05026544</td><td>0.08455789</td><td>0.122911856</td><td>0.005682776</td><td>0.0054258136</td><td>0.0049038026</td><td>0.005588406</td><td>0.005323561</td><td>0.0047632363</td><td>0.00543534</td><td>0.005177031</td><td>0.0046343105</td><td>0.0053025587</td><td>0.005040888</td><td>0.0045181247</td><td>0.005206092</td><td>0.0049438984</td><td>0.0044374703</td><td>0.0051483097</td><td>0.0048758644</td><td>0.0043834248</td><td>0.0051032505</td><td>0.0048264163</td><td>0.004344248</td><td>0.0050705094</td><td>0.004792021</td><td>0.004319857</td><td>0.005054293</td><td>0.004765629</td><td>0.0043044444</td><td>16.65942</td><td>0.34037337</td><td>0.2978292</td><td>3.0239506</td><td>0.07928849</td><td>15.820566</td><td>0.2640441</td><td>0.34559453</td><td>3.3033552</td><td>0.003811298</td><td>15.195567</td><td>0.29826432</td><td>0.3001073</td><td>3.2333765</td><td>0.011723555</td><td>0</td></tr>\n",
       "<tr><td>3</td><td>SGA-2020 3</td><td>PGC1310416</td><td>1310416</td><td>202.54443750000002</td><td>6.9345944</td><td>Sc</td><td>159.26</td><td>0.4017908</td><td>0.7816278</td><td>0.073888786</td><td>23.498482</td><td>16.85</td><td>False</td><td>LEDA-20181114</td><td>1</td><td>PGC1310416</td><td>1</td><td>True</td><td>202.54443750000002</td><td>6.9345944</td><td>0.4017908</td><td>2025p070</td><td>202.5444619671207</td><td>6.9346244322326624</td><td>0.55350494</td><td>SB26</td><td>161.5937</td><td>0.7291764</td><td>202.54432739596137</td><td>6.934806737209989</td><td>15.746941</td><td>5.6416235</td><td>5.2647552</td><td>5.0895185</td><td>5.9838247</td><td>7.4356494</td><td>8.728868</td><td>10.087478</td><td>11.529764</td><td>12.818195</td><td>14.115497</td><td>15.319822</td><td>16.605148</td><td>16.963299</td><td>16.307854</td><td>15.806882</td><td>16.729511</td><td>16.097378</td><td>15.615527</td><td>16.606344</td><td>15.990707</td><td>15.518403</td><td>16.525967</td><td>15.917321</td><td>15.450624</td><td>16.462585</td><td>15.859485</td><td>15.397182</td><td>16.419558</td><td>15.820947</td><td>15.36243</td><td>16.390558</td><td>15.796369</td><td>15.338905</td><td>16.376112</td><td>15.782492</td><td>15.323709</td><td>16.364115</td><td>15.773462</td><td>15.313725</td><td>0.036992554</td><td>0.034982767</td><td>0.037769336</td><td>0.049429573</td><td>0.052699674</td><td>0.074114166</td><td>0.07914538</td><td>0.09781406</td><td>0.15534972</td><td>0.016095797</td><td>0.019181909</td><td>0.021539452</td><td>0.013955905</td><td>0.016594552</td><td>0.018640138</td><td>0.012786752</td><td>0.015244632</td><td>0.01715491</td><td>0.011973826</td><td>0.014366956</td><td>0.016208366</td><td>0.011358372</td><td>0.013676575</td><td>0.015474222</td><td>0.010944939</td><td>0.013225297</td><td>0.015011175</td><td>0.010691595</td><td>0.012931233</td><td>0.014687982</td><td>0.010546411</td><td>0.012796015</td><td>0.014518412</td><td>0.010457551</td><td>0.012685407</td><td>0.014379212</td><td>16.284733</td><td>1.0914493</td><td>0.24674739</td><td>2.4320207</td><td>0.68685365</td><td>15.704403</td><td>0.8764323</td><td>0.27360612</td><td>2.4995425</td><td>0.49343896</td><td>15.235263</td><td>1.3098688</td><td>0.17866786</td><td>2.1750498</td><td>0.20391206</td><td>0</td></tr>\n",
       "<tr><td>4</td><td>SGA-2020 4</td><td>SDSSJ145059.93+135143.0</td><td>4435547</td><td>222.749787</td><td>13.8619111</td><td>S?</td><td>44.57</td><td>0.33342642</td><td>0.6637431</td><td>0.07567602</td><td>24.457481</td><td>18.214</td><td>False</td><td>LEDA-20181114</td><td>2</td><td>SDSSJ145059.93+135143.0</td><td>1</td><td>True</td><td>222.749787</td><td>13.8619111</td><td>0.33342642</td><td>2228p137</td><td>222.7497050504303</td><td>13.861929561160224</td><td>0.37067476</td><td>SB26</td><td>45.28537</td><td>0.70922077</td><td>222.749650475464</td><td>13.862052070022896</td><td>8.877115</td><td>4.652771</td><td>4.4837785</td><td>4.4959745</td><td>2.01033</td><td>3.3967943</td><td>4.76257</td><td>6.043787</td><td>7.242806</td><td>8.250407</td><td>9.158723</td><td>10.083457</td><td>11.120243</td><td>19.97595</td><td>19.190666</td><td>18.649523</td><td>19.098536</td><td>18.397219</td><td>17.899643</td><td>18.624952</td><td>17.967802</td><td>17.50231</td><td>18.35278</td><td>17.718002</td><td>17.265854</td><td>18.192762</td><td>17.5654</td><td>17.115404</td><td>18.10496</td><td>17.480022</td><td>17.033989</td><td>18.053415</td><td>17.430794</td><td>16.982971</td><td>18.020155</td><td>17.399996</td><td>16.948252</td><td>17.994783</td><td>17.377092</td><td>16.924469</td><td>0.02113719</td><td>0.03639431</td><td>0.051901262</td><td>0.06539029</td><td>0.08552586</td><td>0.07008602</td><td>0.070394725</td><td>0.08394975</td><td>0.113649584</td><td>0.013428732</td><td>0.017600043</td><td>0.016373685</td><td>0.012251812</td><td>0.014566466</td><td>0.013732588</td><td>0.012644532</td><td>0.014030071</td><td>0.013153961</td><td>0.012747069</td><td>0.013512552</td><td>0.012818239</td><td>0.012865601</td><td>0.01324455</td><td>0.012532208</td><td>0.012762528</td><td>0.013058522</td><td>0.012420634</td><td>0.01252645</td><td>0.012827468</td><td>0.012283978</td><td>0.012320441</td><td>0.012607317</td><td>0.012104107</td><td>0.0121167945</td><td>0.01244376</td><td>0.011985352</td><td>17.896797</td><td>0.5557265</td><td>0.25455818</td><td>3.167909</td><td>1.0522435</td><td>17.28287</td><td>0.4885815</td><td>0.2782499</td><td>3.2144456</td><td>1.3733263</td><td>16.807674</td><td>0.5177045</td><td>0.32264626</td><td>2.900518</td><td>1.8054093</td><td>0</td></tr>\n",
       "<tr><td>7</td><td>SGA-2020 7</td><td>PGC1742504</td><td>1742504</td><td>182.0888085</td><td>25.6022764</td><td>Sbc</td><td>84.97</td><td>0.548277</td><td>0.25118864</td><td>0.10090814</td><td>24.91348</td><td>17.59</td><td>False</td><td>LEDA-20181114</td><td>3</td><td>PGC1742504</td><td>1</td><td>True</td><td>182.0888085</td><td>25.6022764</td><td>0.548277</td><td>1820p255</td><td>182.08882232629614</td><td>25.60226821438983</td><td>0.8883204</td><td>SB26</td><td>84.857475</td><td>0.19753796</td><td>182.08873760544392</td><td>25.602311195157757</td><td>19.779116</td><td>6.5958204</td><td>6.0386286</td><td>5.8089786</td><td>9.279068</td><td>10.949478</td><td>12.652142</td><td>14.446171</td><td>16.323679</td><td>18.392954</td><td>20.915508</td><td>23.566542</td><td>26.649612</td><td>17.390274</td><td>16.360935</td><td>15.531964</td><td>17.285898</td><td>16.262264</td><td>15.440768</td><td>17.2167</td><td>16.195492</td><td>15.380734</td><td>17.16217</td><td>16.144245</td><td>15.334935</td><td>17.130178</td><td>16.110302</td><td>15.304758</td><td>17.104496</td><td>16.084463</td><td>15.280803</td><td>17.081282</td><td>16.061373</td><td>15.2589855</td><td>17.063671</td><td>16.045204</td><td>15.243196</td><td>17.046705</td><td>16.031244</td><td>15.23268</td><td>0.04351465</td><td>0.055440858</td><td>0.052207235</td><td>0.07507412</td><td>0.0793679</td><td>0.10347854</td><td>0.13569456</td><td>0.13104819</td><td>0.17234002</td><td>0.03885276</td><td>0.03744209</td><td>0.03786608</td><td>0.035534665</td><td>0.03441038</td><td>0.03503794</td><td>0.033557214</td><td>0.032548346</td><td>0.033348277</td><td>0.031964395</td><td>0.03106612</td><td>0.031957533</td><td>0.031133845</td><td>0.030202182</td><td>0.031190341</td><td>0.030430589</td><td>0.029511228</td><td>0.030530946</td><td>0.02975241</td><td>0.028853998</td><td>0.029866546</td><td>0.02928568</td><td>0.0284345</td><td>0.029445464</td><td>0.028843498</td><td>0.028076617</td><td>0.029169334</td><td>16.995174</td><td>21.083004</td><td>0.0164273</td><td>1.9079465</td><td>0.029703742</td><td>15.991165</td><td>0.7657307</td><td>0.52285546</td><td>2.3045986</td><td>0.006013103</td><td>15.191324</td><td>1.0408205</td><td>0.32956335</td><td>2.1520333</td><td>0.004725194</td><td>0</td></tr>\n",
       "<tr><td>18</td><td>SGA-2020 18</td><td>2MASXJ12340801+4535444</td><td>3550748</td><td>188.5335525</td><td>45.5956434</td><td>E</td><td>168.65</td><td>0.53088444</td><td>0.6950243</td><td>0.07609531</td><td>23.97948</td><td>16.726</td><td>False</td><td>LEDA-20181114</td><td>4</td><td>2MASXJ12340801+4535444</td><td>1</td><td>True</td><td>188.5335525</td><td>45.5956434</td><td>0.53088444</td><td>1883p455</td><td>188.53364923054596</td><td>45.595620212931856</td><td>0.73435897</td><td>SB26</td><td>166.25127</td><td>0.70995796</td><td>188.53349052789085</td><td>45.59567446403057</td><td>15.694805</td><td>5.091253</td><td>4.670616</td><td>2.9429996</td><td>5.219665</td><td>6.6119533</td><td>8.228266</td><td>10.109745</td><td>12.170589</td><td>14.364073</td><td>16.722517</td><td>19.18709</td><td>22.03077</td><td>17.208511</td><td>16.224203</td><td>15.566424</td><td>17.050343</td><td>16.080097</td><td>15.443468</td><td>16.921791</td><td>15.962402</td><td>15.347263</td><td>16.814959</td><td>15.864242</td><td>15.27134</td><td>16.729906</td><td>15.787886</td><td>15.218466</td><td>16.664564</td><td>15.730083</td><td>15.182751</td><td>16.61991</td><td>15.686324</td><td>15.1601305</td><td>16.585676</td><td>15.654064</td><td>15.148039</td><td>16.558054</td><td>15.629669</td><td>15.141826</td><td>0.032001704</td><td>0.043849397</td><td>0.045203492</td><td>0.072918765</td><td>0.06263939</td><td>0.07675708</td><td>0.10399303</td><td>0.07780949</td><td>0.14017467</td><td>0.016467415</td><td>0.021250801</td><td>0.032092847</td><td>0.0149329165</td><td>0.019061867</td><td>0.028947951</td><td>0.01369758</td><td>0.01736746</td><td>0.026648495</td><td>0.012623343</td><td>0.015980754</td><td>0.024998168</td><td>0.011793644</td><td>0.014977396</td><td>0.023862366</td><td>0.011184664</td><td>0.014255281</td><td>0.023120966</td><td>0.010785815</td><td>0.013740733</td><td>0.022603082</td><td>0.010472503</td><td>0.013351409</td><td>0.022360764</td><td>0.010212836</td><td>0.013043255</td><td>0.022296576</td><td>16.471447</td><td>0.3236818</td><td>1.9206839</td><td>2.3249283</td><td>0.0973919</td><td>15.540598</td><td>0.3247282</td><td>1.7439244</td><td>2.1774826</td><td>0.023485765</td><td>15.124181</td><td>0.16547345</td><td>1.4694684</td><td>3.3948786</td><td>0.028653827</td><td>0</td></tr>\n",
       "</table></div>"
      ],
      "text/plain": [
       "<Table length=5>\n",
       "SGA_ID  SGA_GALAXY          GALAXY         ... Z_COG_PARAMS_CHI2 ELLIPSEBIT\n",
       "int64    bytes16           bytes29         ...      float32        int32   \n",
       "------ ----------- ----------------------- ... ----------------- ----------\n",
       "     2  SGA-2020 2              PGC1283207 ...       0.011723555          0\n",
       "     3  SGA-2020 3              PGC1310416 ...        0.20391206          0\n",
       "     4  SGA-2020 4 SDSSJ145059.93+135143.0 ...         1.8054093          0\n",
       "     7  SGA-2020 7              PGC1742504 ...       0.004725194          0\n",
       "    18 SGA-2020 18  2MASXJ12340801+4535444 ...       0.028653827          0"
      ]
     },
     "execution_count": 4,
     "metadata": {},
     "output_type": "execute_result"
    }
   ],
   "source": [
    "SGA = Table.read('/global/cfs/cdirs/cosmo/data/sga/2020/SGA-2020.fits', 'ELLIPSE')\n",
    "#SGA = Table.read('/Users/kellydouglass/Documents/Research/data/SGA/SGA-2020.fits', 'ELLIPSE')\n",
    "\n",
    "SGA[:5]"
   ]
  },
  {
   "cell_type": "code",
   "execution_count": 5,
   "id": "a4f077ec-1bd9-4ab6-bc32-93f4475f94c4",
   "metadata": {
    "tags": []
   },
   "outputs": [],
   "source": [
    "# tjura['SGA_ID'] = tjura['SGA_ID'].astype('int32')\n",
    "# tjura.write('/global/homes/s/sgmoore1/DESI_SGA/TF/queries/jura_test.fits',overwrite=True)"
   ]
  },
  {
   "cell_type": "code",
   "execution_count": 6,
   "id": "2baf1f1e-ca0c-4c3d-a9d9-468fa682a9cc",
   "metadata": {
    "tags": []
   },
   "outputs": [],
   "source": [
    "SGA_dict = {}\n",
    "\n",
    "for i in range(len(SGA)):\n",
    "    \n",
    "    SGA_dict[SGA['SGA_ID'][i]] = i"
   ]
  },
  {
   "cell_type": "markdown",
   "id": "c73f0e4b-835b-4eea-b1b9-d1323d6a635c",
   "metadata": {},
   "source": [
    "# Update the Measurement Uncertainties\n",
    "Redrock has a 7km/s statistical uncertainty that should be added into the reported velocity uncertainties."
   ]
  },
  {
   "cell_type": "code",
   "execution_count": 7,
   "id": "4b2285a3-8be5-4bac-9b58-786fe6c49e68",
   "metadata": {},
   "outputs": [],
   "source": [
    "dv_sys = 7 # km/s\n",
    "dz_sys = dv_sys/c.value\n",
    "tjura['ZERR_MOD'] = np.sqrt(tjura['ZERR']**2 + dz_sys**2)"
   ]
  },
  {
   "cell_type": "markdown",
   "id": "e0ca7b6a-df7c-42b3-91c5-a74dfc6fa325",
   "metadata": {},
   "source": [
    "# Separate the JURA data into center and off-center observations"
   ]
  },
  {
   "cell_type": "code",
   "execution_count": 8,
   "id": "45d0726d-f311-4c7a-a60c-91a37e12b695",
   "metadata": {
    "tags": []
   },
   "outputs": [
    {
     "name": "stderr",
     "output_type": "stream",
     "text": [
      "100%|██████████| 146579/146579 [07:38<00:00, 319.88it/s]\n"
     ]
    }
   ],
   "source": [
    "tjura['SKY_FIBER_DIST'] = 0.\n",
    "tjura['SKY_FIBER_DIST_R26'] = 0.\n",
    "\n",
    "# For each SGA galaxy that has at least one observation, calculate the distance \n",
    "# for all of that galaxy's targets\n",
    "for sga_id in tqdm(np.unique(tjura['SGA_ID'])):\n",
    "    \n",
    "    # Identify all galaxy targets on this galaxy\n",
    "    obs_idx = tjura['SGA_ID'] == sga_id\n",
    "    \n",
    "    # Find galaxy index in SGA catalog\n",
    "    sga_idx = SGA_dict[sga_id]\n",
    "    \n",
    "    #---------------------------------------------------------------------------\n",
    "    # Calculate distance between each observation and the center of the SGA \n",
    "    # galaxy\n",
    "    #---------------------------------------------------------------------------\n",
    "    SGA_coords = SkyCoord(ra=SGA['RA'][sga_idx], \n",
    "                          dec=SGA['DEC'][sga_idx], \n",
    "                          unit=u.degree)\n",
    "    target_coords = SkyCoord(ra=tjura['MEAN_FIBER_RA'][obs_idx], \n",
    "                             dec=tjura['MEAN_FIBER_DEC'][obs_idx], \n",
    "                             unit=u.degree)\n",
    "    \n",
    "    sep2d = target_coords.separation(SGA_coords)\n",
    "    \n",
    "    tjura['SKY_FIBER_DIST'][obs_idx] = sep2d\n",
    "    tjura['SKY_FIBER_DIST_R26'][obs_idx] = 2*sep2d.to('arcmin')/(SGA['D26'][sga_idx]*u.arcmin)\n",
    "    #---------------------------------------------------------------------------"
   ]
  },
  {
   "cell_type": "code",
   "execution_count": 9,
   "id": "2439cd46-a72e-474c-9cf8-5589d7bad293",
   "metadata": {},
   "outputs": [
    {
     "data": {
      "text/html": [
       "<div><i>Table length=5</i>\n",
       "<table id=\"table140005407921520\" class=\"table-striped table-bordered table-condensed\">\n",
       "<thead><tr><th>TARGETID</th><th>TARGET_RA</th><th>TARGET_DEC</th><th>MEAN_FIBER_RA</th><th>MEAN_FIBER_DEC</th><th>STD_FIBER_RA</th><th>STD_FIBER_DEC</th><th>Z</th><th>ZERR</th><th>SPECTYPE</th><th>DELTACHI2</th><th>ZWARN</th><th>PVTYPE</th><th>SGA_ID</th><th>PHOTSYS</th><th>SKY_FIBER_DIST</th><th>SKY_FIBER_DIST_R26</th><th>ZERR_MOD</th></tr></thead>\n",
       "<thead><tr><th>int64</th><th>float64</th><th>float64</th><th>float64</th><th>float64</th><th>float64</th><th>float64</th><th>float64</th><th>float64</th><th>bytes6</th><th>float64</th><th>int64</th><th>bytes3</th><th>int32</th><th>bytes1</th><th>float64</th><th>float64</th><th>float64</th></tr></thead>\n",
       "<tr><td>-430502046</td><td>134.00013295228783</td><td>5.934552839997555</td><td>134.0000012447711</td><td>5.934402495943119</td><td>0.0</td><td>0.0</td><td>1.5211813094599733</td><td>9.536633276548175e-05</td><td>GALAXY</td><td>21.043927863240242</td><td>2049</td><td>TFT</td><td>838970</td><td>S</td><td>0.0013187418193048013</td><td>0.37881835118124596</td><td>9.818317550681925e-05</td></tr>\n",
       "<tr><td>-427872363</td><td>61.981718642816155</td><td>-22.823913110732356</td><td>61.981815755036905</td><td>-22.824112647850505</td><td>0.01692960597574711</td><td>0.01899055577814579</td><td>0.049085960824979194</td><td>8.765385426009584e-06</td><td>GALAXY</td><td>320.327581204474</td><td>2049</td><td>TFT</td><td>982213</td><td>S</td><td>0.0017097597202940203</td><td>0.33339925796909753</td><td>2.4940539471566653e-05</td></tr>\n",
       "<tr><td>-411444222</td><td>156.2181500220905</td><td>7.1584828480845655</td><td>156.21807676457115</td><td>7.1586258676041306</td><td>0.0</td><td>0.0</td><td>0.7655265334224575</td><td>0.00014819907104570706</td><td>GALAXY</td><td>2.862433671951294</td><td>2053</td><td>TFT</td><td>4614</td><td>S</td><td>0.0016980637984330216</td><td>0.33506324509215485</td><td>0.00015002720815331065</td></tr>\n",
       "<tr><td>-261707523</td><td>51.18809619857989</td><td>-15.380001206793725</td><td>51.18805131712048</td><td>-15.379972719695512</td><td>0.18443052470684052</td><td>0.270201712846756</td><td>0.11706841864860068</td><td>1.263477560383397e-05</td><td>GALAXY</td><td>5022.345633155666</td><td>512</td><td>SGA</td><td>788458</td><td>S</td><td>0.0002682174918449598</td><td>0.06453367053951317</td><td>2.6548749161222475e-05</td></tr>\n",
       "<tr><td>-260779407</td><td>138.32747528464944</td><td>17.5639019859795</td><td>138.32760054746495</td><td>17.56391743552376</td><td>0.0</td><td>0.0</td><td>0.08569271543378945</td><td>9.438671035622181e-06</td><td>GALAXY</td><td>243.51359286904335</td><td>2560</td><td>TFT</td><td>735997</td><td>S</td><td>0.001479866619395422</td><td>0.338333065066731</td><td>2.5185055854314995e-05</td></tr>\n",
       "</table></div>"
      ],
      "text/plain": [
       "<Table length=5>\n",
       " TARGETID      TARGET_RA      ...  SKY_FIBER_DIST_R26        ZERR_MOD       \n",
       "  int64         float64       ...       float64              float64        \n",
       "---------- ------------------ ... ------------------- ----------------------\n",
       "-430502046 134.00013295228783 ... 0.37881835118124596  9.818317550681925e-05\n",
       "-427872363 61.981718642816155 ... 0.33339925796909753 2.4940539471566653e-05\n",
       "-411444222  156.2181500220905 ... 0.33506324509215485 0.00015002720815331065\n",
       "-261707523  51.18809619857989 ... 0.06453367053951317 2.6548749161222475e-05\n",
       "-260779407 138.32747528464944 ...   0.338333065066731 2.5185055854314995e-05"
      ]
     },
     "execution_count": 9,
     "metadata": {},
     "output_type": "execute_result"
    }
   ],
   "source": [
    "tjura[:5]"
   ]
  },
  {
   "cell_type": "code",
   "execution_count": 10,
   "id": "3e6de221-d6e8-4a86-90ee-aafe5bd76490",
   "metadata": {
    "tags": []
   },
   "outputs": [],
   "source": [
    "centers_boolean = tjura['SKY_FIBER_DIST_R26'] < 0.1\n",
    "jura_centers = tjura[centers_boolean]\n",
    "jura_axis = tjura[~centers_boolean]"
   ]
  },
  {
   "cell_type": "markdown",
   "id": "26eb5bcb-9c1b-4d6a-81b7-6fd1653edc31",
   "metadata": {},
   "source": [
    "## Clean the jura center observations\n",
    "\n",
    "Only keep those with\n",
    "* `DELTACHI2` > 25\n",
    "* `ZWARN` == 0\n",
    "* passed VI"
   ]
  },
  {
   "cell_type": "code",
   "execution_count": 11,
   "id": "31b19d03-c11d-40a8-8e6f-45dfa8fd2c9d",
   "metadata": {
    "tags": []
   },
   "outputs": [
    {
     "name": "stdout",
     "output_type": "stream",
     "text": [
      "138013 152733\n"
     ]
    }
   ],
   "source": [
    "good_centers = jura_centers[(jura_centers['DELTACHI2'] > 25) & (jura_centers['ZWARN'] == 0)]\n",
    "print(len(np.unique(good_centers['SGA_ID'])), len(good_centers))"
   ]
  },
  {
   "cell_type": "code",
   "execution_count": 12,
   "id": "67cd9f93-8ee4-4bd7-bd2b-fce4c8d39ee8",
   "metadata": {
    "tags": []
   },
   "outputs": [],
   "source": [
    "# # Come back and redo this one after the VI step\n",
    "\n",
    "# jura_VI = Table.read('jura_VI.txt', format='ascii.commented_header')\n",
    "\n",
    "# centers_VI = np.ones(len(good_centers), dtype=bool)\n",
    "\n",
    "# for targetid in jura_VI['TARGETID']:\n",
    "    \n",
    "#     if targetid in good_centers['TARGETID']:\n",
    "#         centers_VI = centers_VI & (good_centers['TARGETID'] != targetid)\n",
    "        \n",
    "# good_centers_VI = good_centers[centers_VI]\n",
    "# print(len(np.unique(good_centers_VI['SGA_ID'])), len(good_centers_VI))"
   ]
  },
  {
   "cell_type": "markdown",
   "id": "e4347b30-762e-49f5-ba37-e3f810f59ed2",
   "metadata": {},
   "source": [
    "## If an SGA galaxy has at least one observation at its center, set the redshift of that galaxy"
   ]
  },
  {
   "cell_type": "code",
   "execution_count": 13,
   "id": "3fd6300f-becb-4fdf-b073-055d15d53dba",
   "metadata": {
    "tags": []
   },
   "outputs": [],
   "source": [
    "# SGA['Z_DESI'] = np.nan\n",
    "# SGA['ZERR_DESI'] = np.nan\n",
    "# SGA['PHOTSYS'] = ''\n",
    "\n",
    "# weights = 1./(good_centers_VI['ZERR_MOD']**2)\n",
    "\n",
    "# for sga_id in tqdm(np.unique(good_centers_VI['SGA_ID'])):\n",
    "    \n",
    "#     # Find all the center observations of this galaxy\n",
    "#     obs_idx = good_centers_VI['SGA_ID'] == sga_id\n",
    "    \n",
    "#     # Find the row in SGA for this galaxy\n",
    "#     SGA_idx = SGA_dict[sga_id]\n",
    "    \n",
    "#     # Set the redshift of this galaxy to be the weighted average redshift of all \n",
    "#     # good center observations\n",
    "#     SGA['Z_DESI'][SGA_idx] = np.average(good_centers_VI['Z'][obs_idx], \n",
    "#                                         weights=weights[obs_idx])\n",
    "#     SGA['ZERR_DESI'][SGA_idx] = np.sqrt(1./np.sum(weights[obs_idx]))\n",
    "#     ## also store the PHOTSYS value since we will need this later\n",
    "#     SGA['PHOTSYS'][SGA_idx] = good_centers_VI['PHOTSYS'][obs_idx][0]"
   ]
  },
  {
   "cell_type": "code",
   "execution_count": 14,
   "id": "a8f1198a-776d-4022-a56e-fb025f71dd4e",
   "metadata": {},
   "outputs": [
    {
     "name": "stderr",
     "output_type": "stream",
     "text": [
      "100%|██████████| 138013/138013 [00:50<00:00, 2725.78it/s]\n"
     ]
    }
   ],
   "source": [
    "### version without VI\n",
    "SGA['Z_DESI'] = np.nan\n",
    "SGA['ZERR_DESI'] = np.nan\n",
    "SGA['PHOTSYS'] = ''\n",
    "\n",
    "weights = 1./(good_centers['ZERR_MOD']**2)\n",
    "\n",
    "for sga_id in tqdm(np.unique(good_centers['SGA_ID'])):\n",
    "    \n",
    "    # Find all the center observations of this galaxy\n",
    "    obs_idx = good_centers['SGA_ID'] == sga_id\n",
    "    \n",
    "    # Find the row in SGA for this galaxy\n",
    "    SGA_idx = SGA_dict[sga_id]\n",
    "    \n",
    "    # Set the redshift of this galaxy to be the weighted average redshift of all \n",
    "    # good center observations\n",
    "    SGA['Z_DESI'][SGA_idx] = np.average(good_centers['Z'][obs_idx], \n",
    "                                        weights=weights[obs_idx])\n",
    "    SGA['ZERR_DESI'][SGA_idx] = np.sqrt(1./np.sum(weights[obs_idx]))\n",
    "    ## also store the PHOTSYS value since we will need this later\n",
    "    SGA['PHOTSYS'][SGA_idx] = good_centers['PHOTSYS'][obs_idx][0]"
   ]
  },
  {
   "cell_type": "markdown",
   "id": "1eb51cfc-f223-4467-b345-8d3b04834451",
   "metadata": {},
   "source": [
    "# Calculate the rotational velocities"
   ]
  },
  {
   "cell_type": "code",
   "execution_count": 15,
   "id": "a9e83755-74d8-422c-8543-92978dcc8f75",
   "metadata": {
    "tags": []
   },
   "outputs": [
    {
     "name": "stderr",
     "output_type": "stream",
     "text": [
      "/tmp/ipykernel_1758571/986684340.py:57: RuntimeWarning: divide by zero encountered in true_divide\n",
      "  jura_axis['V_ROT'][obs_idx] /= np.sin(np.arccos(np.sqrt(cosi2)))\n",
      "100%|██████████| 138013/138013 [07:39<00:00, 300.10it/s]\n"
     ]
    }
   ],
   "source": [
    "jura_axis['SKY_FIBER_DIST'] = 0.\n",
    "jura_axis['SKY_FIBER_DIST_R26'] = 0.\n",
    "jura_axis['V_ROT'] = np.nan\n",
    "jura_axis['V_ROT_ERR'] = np.nan\n",
    "\n",
    "\n",
    "# For each SGA galaxy that has at least one center observation, calculate the \n",
    "# distance for all of that galaxy's targets\n",
    "# for sga_gal in tqdm(np.unique(good_centers_VI['SGA_ID'])):\n",
    "for sga_gal in tqdm(np.unique(good_centers['SGA_ID'])):\n",
    "    \n",
    "    # Identify all galaxy targets on this galaxy\n",
    "    obs_idx = jura_axis['SGA_ID'] == sga_gal\n",
    "    \n",
    "    # Find galaxy index in SGA catalog\n",
    "    sga_idx = SGA_dict[sga_gal]\n",
    "    \n",
    "    #---------------------------------------------------------------------------\n",
    "    # Calculate distance between each observation and the center\n",
    "    #---------------------------------------------------------------------------\n",
    "    center_coords = SkyCoord(ra=SGA['RA'][sga_idx], \n",
    "                             dec=SGA['DEC'][sga_idx], \n",
    "                             unit=u.degree)\n",
    "    target_coords = SkyCoord(ra=jura_axis['MEAN_FIBER_RA'][obs_idx], \n",
    "                             dec=jura_axis['MEAN_FIBER_DEC'][obs_idx], \n",
    "                             unit=u.degree)\n",
    "    \n",
    "    sep2d = target_coords.separation(center_coords)\n",
    "    \n",
    "    jura_axis['SKY_FIBER_DIST'][obs_idx] = sep2d\n",
    "    jura_axis['SKY_FIBER_DIST_R26'][obs_idx] = 2*sep2d.to('arcmin')/(SGA['D26'][sga_idx]*u.arcmin)\n",
    "    #---------------------------------------------------------------------------\n",
    "    \n",
    "    \n",
    "    #---------------------------------------------------------------------------\n",
    "    # Calculate rotational velocity\n",
    "    #---------------------------------------------------------------------------\n",
    "    # Use the average redshift of all center observations for the systemic velocity\n",
    "    z_center = np.mean(SGA['Z_DESI'][sga_idx])\n",
    "    z_err_center2 = SGA['ZERR_DESI'][sga_idx]**2\n",
    "\n",
    "    # Calculate rotational velocity for all observations of the galaxy\n",
    "    jura_axis['V_ROT'][obs_idx] = c*(jura_axis['Z'][obs_idx] - z_center)\n",
    "    jura_axis['V_ROT_ERR'][obs_idx] = c*np.sqrt(jura_axis['ZERR'][obs_idx]**2 + z_err_center2)\n",
    "    #---------------------------------------------------------------------------\n",
    "    \n",
    "    \n",
    "    #---------------------------------------------------------------------------\n",
    "    # Correct rotational velocities for inclination angle\n",
    "    #---------------------------------------------------------------------------\n",
    "    cosi2 = (SGA['BA'][sga_idx]**2 - q0**2)/(1 - q0**2)\n",
    "    \n",
    "    # Galaxies with b/a < q0\n",
    "    if cosi2 < 0:\n",
    "        cosi2 = 0\n",
    "    \n",
    "    jura_axis['V_ROT'][obs_idx] /= np.sin(np.arccos(np.sqrt(cosi2)))\n",
    "    #---------------------------------------------------------------------------"
   ]
  },
  {
   "cell_type": "code",
   "execution_count": 16,
   "id": "1a8520dd-4d86-475e-80d6-fa2cd6235e7c",
   "metadata": {
    "tags": []
   },
   "outputs": [
    {
     "data": {
      "image/png": "[encoded data removed]",
      "text/plain": [
       "<Figure size 640x480 with 1 Axes>"
      ]
     },
     "metadata": {},
     "output_type": "display_data"
    }
   ],
   "source": [
    "plt.figure(tight_layout=True)\n",
    "\n",
    "plt.hist(np.abs(jura_axis['V_ROT']), bins=np.linspace(0, 1000, 100))\n",
    "\n",
    "plt.xlabel('$V_{rot}$ [km/s]')\n",
    "plt.ylabel('number of observations');"
   ]
  },
  {
   "cell_type": "markdown",
   "id": "dabab384-167b-4560-a8d9-cc0b89705f0a",
   "metadata": {},
   "source": [
    "# Quality criteria for velocities\n",
    "\n",
    "Requirements:\n",
    "* $10 < V_{rot} < 1000$ km/s at $0.4R_{26}$\n",
    "* $\\Delta V / V_{min} \\leq 5$\n",
    "* passes VI"
   ]
  },
  {
   "cell_type": "markdown",
   "id": "29528ee6-e3f8-462a-872e-b9fabf31c1bb",
   "metadata": {},
   "source": [
    "## Velocity cut"
   ]
  },
  {
   "cell_type": "code",
   "execution_count": 17,
   "id": "8eb93f7e-ec87-43ba-ae6e-3e6eae145e20",
   "metadata": {
    "tags": []
   },
   "outputs": [
    {
     "name": "stdout",
     "output_type": "stream",
     "text": [
      "57802 36513\n"
     ]
    }
   ],
   "source": [
    "r0p4 = (jura_axis['SKY_FIBER_DIST_R26'] > 0.38) & (jura_axis['SKY_FIBER_DIST_R26'] < 0.42)\n",
    "\n",
    "Vgood = (np.abs(jura_axis['V_ROT']) < 1000) & (np.abs(jura_axis['V_ROT']) > 10)\n",
    "\n",
    "good_axis = jura_axis[r0p4 & Vgood]\n",
    "\n",
    "print(len(good_axis), len(np.unique(good_axis['SGA_ID'])))"
   ]
  },
  {
   "cell_type": "markdown",
   "id": "c4c05456-4ac0-4043-b173-c73278406899",
   "metadata": {},
   "source": [
    "## Visual inspection\n",
    "\n",
    "Cutouts for this were generated with the `TF_Y1_VI.ipynb` notebook."
   ]
  },
  {
   "cell_type": "code",
   "execution_count": 18,
   "id": "36ef8301-d83f-4dde-827d-796390b957e0",
   "metadata": {
    "tags": []
   },
   "outputs": [],
   "source": [
    "# # Come back and run this cell after the VI.\n",
    "\n",
    "# axis_VI = np.ones(len(good_axis), dtype=bool)\n",
    "\n",
    "# for targetid in jura_VI['TARGETID']:\n",
    "    \n",
    "#     if targetid in good_axis['TARGETID']:\n",
    "#         axis_VI = axis_VI & (good_axis['TARGETID'] != targetid)\n",
    "        \n",
    "# good_axis_VI = good_axis[axis_VI]\n",
    "# print(len(good_axis_VI), len(np.unique(good_axis_VI['SGA_ID'])))"
   ]
  },
  {
   "cell_type": "markdown",
   "id": "0c4f024e-ff66-414e-9e35-e8abe166158f",
   "metadata": {},
   "source": [
    "## Relative velocity cut"
   ]
  },
  {
   "cell_type": "code",
   "execution_count": 19,
   "id": "537c56b2-fdf5-4957-b6c8-65333105484a",
   "metadata": {
    "tags": []
   },
   "outputs": [
    {
     "name": "stderr",
     "output_type": "stream",
     "text": [
      "100%|██████████| 36513/36513 [00:07<00:00, 4564.53it/s]\n"
     ]
    }
   ],
   "source": [
    "#Will need to redo this with good_axis_VI after the visual inspection\n",
    "\n",
    "good_deltaV = np.ones(len(good_axis), dtype=bool)\n",
    "\n",
    "for sga_id in tqdm(np.unique(good_axis['SGA_ID'])):\n",
    "    \n",
    "    # Identify all galaxy targets on this galaxy\n",
    "    obs_idx = good_axis['SGA_ID'] == sga_id\n",
    "    \n",
    "    n_obs = np.sum(obs_idx)\n",
    "    \n",
    "    if n_obs > 1:\n",
    "        \n",
    "        Vmin = np.min(np.abs(good_axis['V_ROT'][obs_idx]))\n",
    "        Vmax = np.max(np.abs(good_axis['V_ROT'][obs_idx]))\n",
    "        \n",
    "        v_norm_min = np.abs(good_axis['V_ROT'][obs_idx])/Vmin\n",
    "        v_norm_max = np.abs(good_axis['V_ROT'][obs_idx])/Vmax\n",
    "        \n",
    "        diff_matrix = np.abs(good_axis['V_ROT'][obs_idx]).reshape(n_obs, 1) - np.abs(good_axis['V_ROT'][obs_idx]).reshape(1, n_obs)\n",
    "        \n",
    "        diff_matrix_norm = diff_matrix/Vmin\n",
    "        \n",
    "        if np.any(np.abs(diff_matrix_norm) > 5.):\n",
    "            \n",
    "            # Remove all observations with DELTACHI2 < 25\n",
    "            # Note: This also typically removes observations with ZWARN != 0\n",
    "            deltachi2_idx = good_axis['DELTACHI2'] >= 25\n",
    "            \n",
    "            good_deltaV[obs_idx & ~deltachi2_idx] = False\n",
    "            \n",
    "            good_obs_idx = obs_idx & deltachi2_idx\n",
    "            \n",
    "            n_obs_good = np.sum(good_obs_idx)\n",
    "            \n",
    "            # Check to make sure that, if there are still multiple observations, they all satisfy our relative velocity criteria\n",
    "            if n_obs_good > 1:\n",
    "                \n",
    "                Vmin = np.min(np.abs(good_axis['V_ROT'][good_obs_idx]))\n",
    "                \n",
    "                diff_matrix = np.abs(good_axis['V_ROT'][good_obs_idx]).reshape(n_obs_good, 1) - np.abs(good_axis['V_ROT'][good_obs_idx]).reshape(1, n_obs_good)\n",
    "                \n",
    "                diff_matrix_norm = diff_matrix/Vmin\n",
    "                \n",
    "                if np.any(np.abs(diff_matrix_norm) > 5.):\n",
    "                    \n",
    "                    # Set all of these so that we don't look at this galaxy\n",
    "                    good_deltaV[good_obs_idx] = False"
   ]
  },
  {
   "cell_type": "code",
   "execution_count": 20,
   "id": "fe1f801c-a536-446f-bce1-f3fd9b27c0e7",
   "metadata": {},
   "outputs": [],
   "source": [
    "## For after visual inspection\n",
    "\n",
    "# good_deltaV = np.ones(len(good_axis_VI), dtype=bool)\n",
    "\n",
    "# for sga_id in tqdm(np.unique(good_axis_VI['SGA_ID'])):\n",
    "    \n",
    "#     # Identify all galaxy targets on this galaxy\n",
    "#     obs_idx = good_axis_VI['SGA_ID'] == sga_id\n",
    "    \n",
    "#     n_obs = np.sum(obs_idx)\n",
    "    \n",
    "#     if n_obs > 1:\n",
    "        \n",
    "#         Vmin = np.min(np.abs(good_axis_VI['V_ROT'][obs_idx]))\n",
    "#         Vmax = np.max(np.abs(good_axis_VI['V_ROT'][obs_idx]))\n",
    "        \n",
    "#         v_norm_min = np.abs(good_axis_VI['V_ROT'][obs_idx])/Vmin\n",
    "#         v_norm_max = np.abs(good_axis_VI['V_ROT'][obs_idx])/Vmax\n",
    "        \n",
    "#         diff_matrix = np.abs(good_axis_VI['V_ROT'][obs_idx]).reshape(n_obs, 1) - np.abs(good_axis_VI['V_ROT'][obs_idx]).reshape(1, n_obs)\n",
    "        \n",
    "#         diff_matrix_norm = diff_matrix/Vmin\n",
    "        \n",
    "#         if np.any(np.abs(diff_matrix_norm) > 5.):\n",
    "            \n",
    "#             # Remove all observations with DELTACHI2 < 25\n",
    "#             # Note: This also typically removes observations with ZWARN != 0\n",
    "#             deltachi2_idx = good_axis_VI['DELTACHI2'] >= 25\n",
    "            \n",
    "#             good_deltaV[obs_idx & ~deltachi2_idx] = False\n",
    "            \n",
    "#             good_obs_idx = obs_idx & deltachi2_idx\n",
    "            \n",
    "#             n_obs_good = np.sum(good_obs_idx)\n",
    "            \n",
    "#             # Check to make sure that, if there are still multiple observations, they all satisfy our relative velocity criteria\n",
    "#             if n_obs_good > 1:\n",
    "                \n",
    "#                 Vmin = np.min(np.abs(good_axis_VI['V_ROT'][good_obs_idx]))\n",
    "                \n",
    "#                 diff_matrix = np.abs(good_axis_VI['V_ROT'][good_obs_idx]).reshape(n_obs_good, 1) - np.abs(good_axis_VI['V_ROT'][good_obs_idx]).reshape(1, n_obs_good)\n",
    "                \n",
    "#                 diff_matrix_norm = diff_matrix/Vmin\n",
    "                \n",
    "#                 if np.any(np.abs(diff_matrix_norm) > 5.):\n",
    "                    \n",
    "#                     # Set all of these so that we don't look at this galaxy\n",
    "#                     good_deltaV[good_obs_idx] = False"
   ]
  },
  {
   "cell_type": "code",
   "execution_count": 21,
   "id": "f87b60f0-473e-47bc-b823-61a1b8e7b1df",
   "metadata": {
    "tags": []
   },
   "outputs": [
    {
     "name": "stdout",
     "output_type": "stream",
     "text": [
      "57630 36470\n"
     ]
    }
   ],
   "source": [
    "#Will need to redo post-VI\n",
    "\n",
    "# good_deltaV_axis = good_axis_VI[good_deltaV]\n",
    "good_deltaV_axis = good_axis[good_deltaV]\n",
    "\n",
    "print(len(good_deltaV_axis), len(np.unique(good_deltaV_axis['SGA_ID'])))"
   ]
  },
  {
   "cell_type": "markdown",
   "id": "e4fe2cc4-63ae-407c-aee0-d7ec9b1a73e0",
   "metadata": {},
   "source": [
    "# Compute the weighted average velocity for those galaxies with more than one observation at $0.4R_{26}$\n",
    "\n",
    "\\begin{equation}\n",
    "  \\overline{v} = \\frac{\\sum_i w_i v_i}{\\sum_i w_i}\n",
    "\\end{equation}\n",
    "where $w_i = 1/\\sigma^2$"
   ]
  },
  {
   "cell_type": "code",
   "execution_count": 22,
   "id": "3a10e6f0-022f-40b1-bc2d-03c0928244e4",
   "metadata": {
    "tags": []
   },
   "outputs": [
    {
     "name": "stderr",
     "output_type": "stream",
     "text": [
      "100%|██████████| 36470/36470 [00:07<00:00, 4563.95it/s]\n"
     ]
    }
   ],
   "source": [
    "SGA['V_0p4R26'] = np.nan\n",
    "SGA['V_0p4R26_err'] = np.nan\n",
    "\n",
    "weights = 1./(good_deltaV_axis['V_ROT_ERR']**2)\n",
    "\n",
    "for sga_id in tqdm(np.unique(good_deltaV_axis['SGA_ID'])):\n",
    "    \n",
    "    # Identify all galaxy targets on this galaxy\n",
    "    obs_idx = good_deltaV_axis['SGA_ID'] == sga_id\n",
    "    \n",
    "    SGA['V_0p4R26'][SGA_dict[sga_id]] = np.average(np.abs(good_deltaV_axis['V_ROT'][obs_idx]), \n",
    "                                                   weights=weights[obs_idx])\n",
    "\n",
    "    SGA['V_0p4R26_err'][SGA_dict[sga_id]] = np.sqrt(1./np.sum(weights[obs_idx]))"
   ]
  },
  {
   "cell_type": "code",
   "execution_count": 23,
   "id": "a509c1b5-0380-4ed6-b81a-56d4c076f297",
   "metadata": {
    "tags": []
   },
   "outputs": [],
   "source": [
    "# Make a catalog of just those galaxies with velocities\n",
    "SGA_TF_jura = SGA[np.isfinite(SGA['V_0p4R26']) & (SGA['R_MAG_SB26'] > 0)]"
   ]
  },
  {
   "cell_type": "code",
   "execution_count": 24,
   "id": "8c36f340-c884-4430-8cb5-01bc1888e348",
   "metadata": {},
   "outputs": [
    {
     "data": {
      "text/html": [
       "<div><i>Table length=35760</i>\n",
       "<table id=\"table140005013978128\" class=\"table-striped table-bordered table-condensed\">\n",
       "<thead><tr><th>SGA_ID</th><th>SGA_GALAXY</th><th>GALAXY</th><th>PGC</th><th>RA_LEDA</th><th>DEC_LEDA</th><th>MORPHTYPE</th><th>PA_LEDA</th><th>D25_LEDA</th><th>BA_LEDA</th><th>Z_LEDA</th><th>SB_D25_LEDA</th><th>MAG_LEDA</th><th>BYHAND</th><th>REF</th><th>GROUP_ID</th><th>GROUP_NAME</th><th>GROUP_MULT</th><th>GROUP_PRIMARY</th><th>GROUP_RA</th><th>GROUP_DEC</th><th>GROUP_DIAMETER</th><th>BRICKNAME</th><th>RA</th><th>DEC</th><th>D26</th><th>D26_REF</th><th>PA</th><th>BA</th><th>RA_MOMENT</th><th>DEC_MOMENT</th><th>SMA_MOMENT</th><th>G_SMA50</th><th>R_SMA50</th><th>Z_SMA50</th><th>SMA_SB22</th><th>SMA_SB22.5</th><th>SMA_SB23</th><th>SMA_SB23.5</th><th>SMA_SB24</th><th>SMA_SB24.5</th><th>SMA_SB25</th><th>SMA_SB25.5</th><th>SMA_SB26</th><th>G_MAG_SB22</th><th>R_MAG_SB22</th><th>Z_MAG_SB22</th><th>G_MAG_SB22.5</th><th>R_MAG_SB22.5</th><th>Z_MAG_SB22.5</th><th>G_MAG_SB23</th><th>R_MAG_SB23</th><th>Z_MAG_SB23</th><th>G_MAG_SB23.5</th><th>R_MAG_SB23.5</th><th>Z_MAG_SB23.5</th><th>G_MAG_SB24</th><th>R_MAG_SB24</th><th>Z_MAG_SB24</th><th>G_MAG_SB24.5</th><th>R_MAG_SB24.5</th><th>Z_MAG_SB24.5</th><th>G_MAG_SB25</th><th>R_MAG_SB25</th><th>Z_MAG_SB25</th><th>G_MAG_SB25.5</th><th>R_MAG_SB25.5</th><th>Z_MAG_SB25.5</th><th>G_MAG_SB26</th><th>R_MAG_SB26</th><th>Z_MAG_SB26</th><th>SMA_SB22_ERR</th><th>SMA_SB22.5_ERR</th><th>SMA_SB23_ERR</th><th>SMA_SB23.5_ERR</th><th>SMA_SB24_ERR</th><th>SMA_SB24.5_ERR</th><th>SMA_SB25_ERR</th><th>SMA_SB25.5_ERR</th><th>SMA_SB26_ERR</th><th>G_MAG_SB22_ERR</th><th>R_MAG_SB22_ERR</th><th>Z_MAG_SB22_ERR</th><th>G_MAG_SB22.5_ERR</th><th>R_MAG_SB22.5_ERR</th><th>Z_MAG_SB22.5_ERR</th><th>G_MAG_SB23_ERR</th><th>R_MAG_SB23_ERR</th><th>Z_MAG_SB23_ERR</th><th>G_MAG_SB23.5_ERR</th><th>R_MAG_SB23.5_ERR</th><th>Z_MAG_SB23.5_ERR</th><th>G_MAG_SB24_ERR</th><th>R_MAG_SB24_ERR</th><th>Z_MAG_SB24_ERR</th><th>G_MAG_SB24.5_ERR</th><th>R_MAG_SB24.5_ERR</th><th>Z_MAG_SB24.5_ERR</th><th>G_MAG_SB25_ERR</th><th>R_MAG_SB25_ERR</th><th>Z_MAG_SB25_ERR</th><th>G_MAG_SB25.5_ERR</th><th>R_MAG_SB25.5_ERR</th><th>Z_MAG_SB25.5_ERR</th><th>G_MAG_SB26_ERR</th><th>R_MAG_SB26_ERR</th><th>Z_MAG_SB26_ERR</th><th>G_COG_PARAMS_MTOT</th><th>G_COG_PARAMS_M0</th><th>G_COG_PARAMS_ALPHA1</th><th>G_COG_PARAMS_ALPHA2</th><th>G_COG_PARAMS_CHI2</th><th>R_COG_PARAMS_MTOT</th><th>R_COG_PARAMS_M0</th><th>R_COG_PARAMS_ALPHA1</th><th>R_COG_PARAMS_ALPHA2</th><th>R_COG_PARAMS_CHI2</th><th>Z_COG_PARAMS_MTOT</th><th>Z_COG_PARAMS_M0</th><th>Z_COG_PARAMS_ALPHA1</th><th>Z_COG_PARAMS_ALPHA2</th><th>Z_COG_PARAMS_CHI2</th><th>ELLIPSEBIT</th><th>Z_DESI</th><th>ZERR_DESI</th><th>PHOTSYS</th><th>V_0p4R26</th><th>V_0p4R26_err</th></tr></thead>\n",
       "<thead><tr><th>int64</th><th>bytes16</th><th>bytes29</th><th>int64</th><th>float64</th><th>float64</th><th>bytes21</th><th>float32</th><th>float32</th><th>float32</th><th>float32</th><th>float32</th><th>float32</th><th>bool</th><th>bytes13</th><th>int64</th><th>bytes35</th><th>int16</th><th>bool</th><th>float64</th><th>float64</th><th>float32</th><th>bytes8</th><th>float64</th><th>float64</th><th>float32</th><th>bytes4</th><th>float32</th><th>float32</th><th>float64</th><th>float64</th><th>float32</th><th>float32</th><th>float32</th><th>float32</th><th>float32</th><th>float32</th><th>float32</th><th>float32</th><th>float32</th><th>float32</th><th>float32</th><th>float32</th><th>float32</th><th>float32</th><th>float32</th><th>float32</th><th>float32</th><th>float32</th><th>float32</th><th>float32</th><th>float32</th><th>float32</th><th>float32</th><th>float32</th><th>float32</th><th>float32</th><th>float32</th><th>float32</th><th>float32</th><th>float32</th><th>float32</th><th>float32</th><th>float32</th><th>float32</th><th>float32</th><th>float32</th><th>float32</th><th>float32</th><th>float32</th><th>float32</th><th>float32</th><th>float32</th><th>float32</th><th>float32</th><th>float32</th><th>float32</th><th>float32</th><th>float32</th><th>float32</th><th>float32</th><th>float32</th><th>float32</th><th>float32</th><th>float32</th><th>float32</th><th>float32</th><th>float32</th><th>float32</th><th>float32</th><th>float32</th><th>float32</th><th>float32</th><th>float32</th><th>float32</th><th>float32</th><th>float32</th><th>float32</th><th>float32</th><th>float32</th><th>float32</th><th>float32</th><th>float32</th><th>float32</th><th>float32</th><th>float32</th><th>float32</th><th>float32</th><th>float32</th><th>float32</th><th>float32</th><th>float32</th><th>float32</th><th>float32</th><th>float32</th><th>float32</th><th>float32</th><th>float32</th><th>float32</th><th>float32</th><th>float32</th><th>float32</th><th>int32</th><th>float64</th><th>float64</th><th>str1</th><th>float64</th><th>float64</th></tr></thead>\n",
       "<tr><td>20</td><td>SGA-2020 20</td><td>SDSSJ173412.71+572041.6</td><td>3331584</td><td>263.5529355</td><td>57.34490699999999</td><td>S?</td><td>152.58</td><td>0.4487454</td><td>0.5333349</td><td>0.08364453</td><td>24.92448</td><td>18.036</td><td>False</td><td>LEDA-20181114</td><td>5</td><td>SDSSJ173412.71+572041.6</td><td>1</td><td>True</td><td>263.5529355</td><td>57.34490699999999</td><td>0.4487454</td><td>2635p572</td><td>263.55294849855886</td><td>57.344862145664294</td><td>0.4460123</td><td>SB26</td><td>152.3756</td><td>0.5778338</td><td>263.5528114673963</td><td>57.34481025685253</td><td>10.459747</td><td>5.9780583</td><td>5.751067</td><td>4.821581</td><td>1.4858595</td><td>3.4448266</td><td>5.1149526</td><td>6.748707</td><td>8.426254</td><td>9.720271</td><td>11.022999</td><td>12.0887985</td><td>13.380368</td><td>20.656942</td><td>20.044735</td><td>19.40886</td><td>19.194794</td><td>18.66572</td><td>18.231262</td><td>18.599888</td><td>18.123905</td><td>17.745926</td><td>18.256256</td><td>17.807074</td><td>17.476473</td><td>18.040592</td><td>17.60353</td><td>17.319197</td><td>17.926336</td><td>17.500519</td><td>17.228865</td><td>17.85259</td><td>17.42695</td><td>17.180876</td><td>17.811844</td><td>17.39206</td><td>17.151228</td><td>17.783718</td><td>17.36542</td><td>17.143204</td><td>0.02069058</td><td>0.026094317</td><td>0.03480586</td><td>0.05076174</td><td>0.08751116</td><td>0.10309491</td><td>0.08337893</td><td>0.10982923</td><td>0.13734566</td><td>0.031223593</td><td>0.046367057</td><td>0.0777883</td><td>0.015935475</td><td>0.020728666</td><td>0.032657374</td><td>0.012760426</td><td>0.014699919</td><td>0.022893604</td><td>0.010505663</td><td>0.011998588</td><td>0.018923525</td><td>0.010358521</td><td>0.011374098</td><td>0.017719442</td><td>0.010557283</td><td>0.0112259</td><td>0.017149422</td><td>0.010553381</td><td>0.011049819</td><td>0.017135512</td><td>0.010413324</td><td>0.010993488</td><td>0.01699026</td><td>0.010291049</td><td>0.010862263</td><td>0.017057167</td><td>17.6411</td><td>0.6362121</td><td>0.53480667</td><td>2.8045392</td><td>1.7123051</td><td>17.22401</td><td>0.6144014</td><td>0.53440714</td><td>2.7180903</td><td>2.1161501</td><td>17.062769</td><td>0.44818503</td><td>0.43006793</td><td>3.1755726</td><td>0.97457016</td><td>0</td><td>0.08361389105924856</td><td>2.4100568709106263e-05</td><td>N</td><td>147.82237894320167</td><td>8.33731363315019</td></tr>\n",
       "<tr><td>32</td><td>SGA-2020 32</td><td>PGC2644444</td><td>2644444</td><td>212.02461</td><td>62.8385803</td><td>Sc</td><td>26.25</td><td>0.3758374</td><td>0.60255957</td><td>0.09556411</td><td>23.73748</td><td>17.234</td><td>False</td><td>LEDA-20181114</td><td>10</td><td>PGC2644444</td><td>1</td><td>True</td><td>212.02461</td><td>62.8385803</td><td>0.3758374</td><td>2122p627</td><td>212.02462598739942</td><td>62.838526399057336</td><td>0.68802845</td><td>SB26</td><td>22.800411</td><td>0.4168182</td><td>212.02444469714254</td><td>62.83861910315144</td><td>15.352884</td><td>7.5523267</td><td>7.0574827</td><td>6.552769</td><td>6.8422165</td><td>9.006861</td><td>11.119019</td><td>13.218836</td><td>14.83576</td><td>16.089632</td><td>17.419872</td><td>18.262827</td><td>20.640854</td><td>17.682621</td><td>16.800076</td><td>16.140163</td><td>17.36588</td><td>16.500635</td><td>15.859558</td><td>17.164816</td><td>16.315928</td><td>15.683345</td><td>17.029795</td><td>16.192858</td><td>15.569851</td><td>16.956533</td><td>16.127148</td><td>15.511885</td><td>16.912262</td><td>16.09487</td><td>15.481129</td><td>16.881954</td><td>16.068357</td><td>15.467079</td><td>16.868856</td><td>16.055609</td><td>15.458797</td><td>16.854921</td><td>16.045063</td><td>15.448293</td><td>0.076427355</td><td>0.10654599</td><td>0.14980716</td><td>0.14600274</td><td>0.17229652</td><td>0.11901944</td><td>0.1291893</td><td>0.1625502</td><td>0.3402725</td><td>0.028715666</td><td>0.03028943</td><td>0.031358354</td><td>0.026863642</td><td>0.028016893</td><td>0.029046243</td><td>0.025209688</td><td>0.026244337</td><td>0.027134262</td><td>0.023817942</td><td>0.024750203</td><td>0.025650727</td><td>0.022882456</td><td>0.023803992</td><td>0.024767375</td><td>0.022301689</td><td>0.023322092</td><td>0.02424668</td><td>0.02186869</td><td>0.022889571</td><td>0.023994846</td><td>0.021672187</td><td>0.022686103</td><td>0.023837518</td><td>0.02142763</td><td>0.022476751</td><td>0.023631034</td><td>16.8146</td><td>0.23519146</td><td>5.7815895</td><td>4.999612</td><td>0.39062694</td><td>16.011211</td><td>0.2319782</td><td>4.483918</td><td>4.8892393</td><td>0.2325632</td><td>15.429928</td><td>0.18450199</td><td>5.2820787</td><td>5.672057</td><td>0.13526808</td><td>0</td><td>0.09554957288202022</td><td>3.920136884954893e-05</td><td>N</td><td>264.4537334962159</td><td>14.504115936818195</td></tr>\n",
       "<tr><td>38</td><td>SGA-2020 38</td><td>SDSSJ140638.88+393138.1</td><td>3558705</td><td>211.66194</td><td>39.5272341</td><td>S?</td><td>81.63</td><td>0.35318315</td><td>0.37757218</td><td>0.08108376</td><td>24.72948</td><td>18.361</td><td>False</td><td>LEDA-20181114</td><td>12</td><td>SDSSJ140638.88+393138.1</td><td>1</td><td>True</td><td>211.66194</td><td>39.5272341</td><td>0.35318315</td><td>2115p395</td><td>211.66203166014844</td><td>39.52724032794356</td><td>0.41757938</td><td>SB26</td><td>82.21093</td><td>0.41431504</td><td>211.6619547015994</td><td>39.52729608884245</td><td>8.520181</td><td>5.252184</td><td>4.0750155</td><td>3.3951538</td><td>3.3006833</td><td>4.4037066</td><td>5.5453897</td><td>6.693271</td><td>7.8023033</td><td>8.999919</td><td>10.213078</td><td>11.41192</td><td>12.527382</td><td>19.246052</td><td>18.406073</td><td>17.931826</td><td>18.841032</td><td>18.092857</td><td>17.659027</td><td>18.566164</td><td>17.886087</td><td>17.47688</td><td>18.383362</td><td>17.749825</td><td>17.355968</td><td>18.261652</td><td>17.655558</td><td>17.284552</td><td>18.168955</td><td>17.588947</td><td>17.231817</td><td>18.101948</td><td>17.547142</td><td>17.20673</td><td>18.055267</td><td>17.516266</td><td>17.18719</td><td>18.023865</td><td>17.497095</td><td>17.178627</td><td>0.041267984</td><td>0.058114093</td><td>0.082968995</td><td>0.08808186</td><td>0.099526815</td><td>0.11876543</td><td>0.11355961</td><td>0.14645264</td><td>0.17035669</td><td>0.028041152</td><td>0.045385383</td><td>0.052895926</td><td>0.02822557</td><td>0.041093465</td><td>0.04698563</td><td>0.027371243</td><td>0.038240846</td><td>0.043213904</td><td>0.026219657</td><td>0.03618844</td><td>0.04070005</td><td>0.025270721</td><td>0.034526117</td><td>0.039107796</td><td>0.024264116</td><td>0.033164512</td><td>0.03780495</td><td>0.02343744</td><td>0.03226152</td><td>0.037176747</td><td>0.022813411</td><td>0.031564914</td><td>0.036686495</td><td>0.022342678</td><td>0.031088097</td><td>0.03649375</td><td>17.87426</td><td>0.7614885</td><td>0.3679447</td><td>2.3644495</td><td>0.004768816</td><td>17.421976</td><td>0.45777154</td><td>0.33258685</td><td>2.8184628</td><td>0.021122098</td><td>17.150808</td><td>0.27153513</td><td>0.24329957</td><td>3.8143618</td><td>0.0151183605</td><td>0</td><td>0.08098921000640849</td><td>2.3652841625692014e-05</td><td>N</td><td>131.7204980109027</td><td>7.50267495258597</td></tr>\n",
       "<tr><td>53</td><td>SGA-2020 53</td><td>2MASXJ17023385+3640545</td><td>3389283</td><td>255.64105950000004</td><td>36.6817929</td><td>Sc</td><td>61.06</td><td>0.35809645</td><td>0.58344513</td><td>0.099020496</td><td>24.18748</td><td>17.789</td><td>False</td><td>LEDA-20181114</td><td>15</td><td>2MASXJ17023385+3640545</td><td>1</td><td>True</td><td>255.64105950000004</td><td>36.6817929</td><td>0.35809645</td><td>2555p367</td><td>255.6410175635765</td><td>36.68179095091098</td><td>0.38201582</td><td>SB26</td><td>59.253864</td><td>0.583645</td><td>255.64096140530728</td><td>36.68187229158973</td><td>9.901862</td><td>4.0760365</td><td>3.7421422</td><td>3.597797</td><td>4.6018367</td><td>5.578547</td><td>6.396601</td><td>7.156809</td><td>7.917724</td><td>8.656318</td><td>9.540839</td><td>10.444103</td><td>11.460475</td><td>18.079813</td><td>17.194258</td><td>16.611929</td><td>17.855059</td><td>17.00117</td><td>16.430384</td><td>17.730537</td><td>16.898685</td><td>16.33437</td><td>17.654907</td><td>16.839092</td><td>16.27649</td><td>17.605541</td><td>16.800901</td><td>16.237022</td><td>17.572424</td><td>16.775042</td><td>16.21075</td><td>17.54726</td><td>16.753338</td><td>16.189995</td><td>17.528898</td><td>16.74113</td><td>16.177568</td><td>17.51865</td><td>16.730833</td><td>16.169716</td><td>0.020986231</td><td>0.034068488</td><td>0.017396927</td><td>0.024216063</td><td>0.028976766</td><td>0.031180529</td><td>0.05268424</td><td>0.08073198</td><td>0.115541875</td><td>0.007864048</td><td>0.010676348</td><td>0.009370819</td><td>0.007926592</td><td>0.010011065</td><td>0.008700506</td><td>0.007939915</td><td>0.009750992</td><td>0.008414243</td><td>0.0077780616</td><td>0.009489916</td><td>0.008195838</td><td>0.007575348</td><td>0.0092413165</td><td>0.007951777</td><td>0.007406732</td><td>0.009067921</td><td>0.007830448</td><td>0.0072647426</td><td>0.008909598</td><td>0.0077000526</td><td>0.0071705673</td><td>0.008856049</td><td>0.007671429</td><td>0.007131124</td><td>0.008801767</td><td>0.007657998</td><td>17.493746</td><td>0.3738384</td><td>0.123585634</td><td>4.4130607</td><td>0.06395559</td><td>16.709053</td><td>0.4111703</td><td>0.095716566</td><td>4.0714164</td><td>0.048778836</td><td>16.148045</td><td>0.3341436</td><td>0.112932466</td><td>4.2279735</td><td>0.07390147</td><td>0</td><td>0.099164353071142</td><td>2.916812889645373e-05</td><td>N</td><td>269.3971746697042</td><td>9.026891141649168</td></tr>\n",
       "<tr><td>55</td><td>SGA-2020 55</td><td>PGC1203947</td><td>1203947</td><td>199.73061299999998</td><td>1.7263548999999998</td><td>S?</td><td>159.49</td><td>0.35156044</td><td>0.510505</td><td>0.04396308</td><td>24.60848</td><td>18.25</td><td>False</td><td>LEDA-20181114</td><td>17</td><td>PGC1203947</td><td>1</td><td>True</td><td>199.73061299999998</td><td>1.7263548999999998</td><td>0.35156044</td><td>1996p017</td><td>199.73062047638814</td><td>1.7262730115560398</td><td>0.4956815</td><td>SB26</td><td>160.63597</td><td>0.511194</td><td>199.7305377211278</td><td>1.7262556303464236</td><td>10.683119</td><td>7.5134478</td><td>7.237519</td><td>7.358609</td><td>1.0663536</td><td>2.4361885</td><td>4.5284705</td><td>6.209374</td><td>7.894941</td><td>9.662576</td><td>11.338187</td><td>13.058548</td><td>14.870445</td><td>21.586454</td><td>21.022594</td><td>20.5186</td><td>20.022512</td><td>19.486275</td><td>19.047207</td><td>19.079992</td><td>18.56653</td><td>18.196766</td><td>18.698801</td><td>18.197613</td><td>17.858175</td><td>18.461773</td><td>17.962809</td><td>17.637083</td><td>18.290697</td><td>17.804535</td><td>17.48882</td><td>18.184755</td><td>17.702862</td><td>17.391363</td><td>18.108042</td><td>17.630135</td><td>17.322704</td><td>18.062273</td><td>17.58211</td><td>17.270563</td><td>0.021755822</td><td>0.038157243</td><td>0.04157986</td><td>0.08506337</td><td>0.09445482</td><td>0.12531056</td><td>0.13733958</td><td>0.123995595</td><td>0.12832229</td><td>0.04457232</td><td>0.04439948</td><td>0.07058882</td><td>0.025476964</td><td>0.026438117</td><td>0.038408875</td><td>0.019658687</td><td>0.02046595</td><td>0.025474863</td><td>0.017983157</td><td>0.018753268</td><td>0.022374356</td><td>0.017475583</td><td>0.01794357</td><td>0.02073173</td><td>0.01711202</td><td>0.017407436</td><td>0.019818878</td><td>0.016593343</td><td>0.016929915</td><td>0.018991327</td><td>0.016066696</td><td>0.016367108</td><td>0.018504865</td><td>0.015716974</td><td>0.015961537</td><td>0.018187799</td><td>17.750465</td><td>1.2892414</td><td>0.49991378</td><td>1.6126304</td><td>1.257941</td><td>17.28831</td><td>1.2717371</td><td>0.47907558</td><td>1.6136137</td><td>0.81320935</td><td>16.944408</td><td>1.4179186</td><td>0.44993672</td><td>1.4420404</td><td>0.5220518</td><td>0</td><td>0.044001545059768436</td><td>2.5822295710276416e-05</td><td>S</td><td>85.03888780486824</td><td>6.124721468715481</td></tr>\n",
       "<tr><td>63</td><td>SGA-2020 63</td><td>PGC1602229</td><td>1602229</td><td>234.8751135</td><td>19.697651500000003</td><td>S?</td><td>168.56</td><td>0.4655861</td><td>0.33884415</td><td>0.045484465</td><td>25.16348</td><td>18.195</td><td>False</td><td>LEDA-20181114</td><td>18</td><td>PGC1602229</td><td>1</td><td>True</td><td>234.8751135</td><td>19.697651500000003</td><td>0.4655861</td><td>2350p197</td><td>234.87534259414386</td><td>19.697185738728333</td><td>0.6503176</td><td>SB26</td><td>166.3003</td><td>0.27058077</td><td>234.87530461295447</td><td>19.697066579424625</td><td>11.18636</td><td>9.540775</td><td>10.65305</td><td>9.591725</td><td>2.970902</td><td>5.761996</td><td>8.804666</td><td>11.941835</td><td>14.460548</td><td>15.860096</td><td>17.551657</td><td>18.71841</td><td>19.50953</td><td>20.006403</td><td>19.441755</td><td>19.03366</td><td>18.923996</td><td>18.360247</td><td>17.927858</td><td>18.28981</td><td>17.753086</td><td>17.370296</td><td>17.899</td><td>17.454376</td><td>17.09524</td><td>17.700842</td><td>17.263668</td><td>16.942326</td><td>17.614803</td><td>17.174807</td><td>16.876553</td><td>17.548824</td><td>17.104845</td><td>16.819206</td><td>17.540318</td><td>17.090849</td><td>16.799608</td><td>17.52737</td><td>17.081161</td><td>16.791212</td><td>0.10511215</td><td>0.11880484</td><td>0.16999497</td><td>0.24010491</td><td>0.3257525</td><td>0.40032467</td><td>0.09051673</td><td>0.34727</td><td>0.17063652</td><td>0.08399079</td><td>0.08636947</td><td>0.08877438</td><td>0.059620954</td><td>0.061386008</td><td>0.06400586</td><td>0.049017586</td><td>0.051424064</td><td>0.054133862</td><td>0.042656086</td><td>0.044642214</td><td>0.046909813</td><td>0.038752384</td><td>0.04045277</td><td>0.042913344</td><td>0.037057485</td><td>0.038601525</td><td>0.041302845</td><td>0.03569574</td><td>0.037048567</td><td>0.03977621</td><td>0.03539381</td><td>0.036562823</td><td>0.03916474</td><td>0.035100136</td><td>0.03637159</td><td>0.03895229</td><td>17.423037</td><td>0.3653335</td><td>5.571077</td><td>4.382742</td><td>0.55165875</td><td>16.792454</td><td>0.791286</td><td>1.8291132</td><td>2.2295098</td><td>1.101746</td><td>16.532091</td><td>1.030897</td><td>0.99205023</td><td>1.9291406</td><td>0.27314395</td><td>0</td><td>0.045345474270714135</td><td>2.4438602114550695e-05</td><td>S</td><td>92.88121708003851</td><td>5.648939186871361</td></tr>\n",
       "<tr><td>74</td><td>SGA-2020 74</td><td>SDSSJ135532.63+102701.7</td><td>3557538</td><td>208.8859395</td><td>10.4505624</td><td>S?</td><td>3.03</td><td>0.8994976</td><td>0.13243414</td><td>0.03813705</td><td>26.223482</td><td>17.825</td><td>False</td><td>LEDA-20181114</td><td>23</td><td>SDSSJ135532.63+102701.7</td><td>1</td><td>True</td><td>208.8859395</td><td>10.4505624</td><td>0.8994976</td><td>2088p105</td><td>208.88595452038825</td><td>10.45038023846306</td><td>0.9377506</td><td>SB26</td><td>1.0110943</td><td>0.16343135</td><td>208.88585962998664</td><td>10.450312345905019</td><td>16.918167</td><td>10.709738</td><td>10.532774</td><td>10.390777</td><td>6.095034</td><td>10.368537</td><td>13.56946</td><td>16.302784</td><td>18.563665</td><td>20.584385</td><td>23.208078</td><td>25.386417</td><td>28.132517</td><td>18.885397</td><td>18.277832</td><td>17.836216</td><td>18.070486</td><td>17.48325</td><td>17.05436</td><td>17.739159</td><td>17.157473</td><td>16.738962</td><td>17.578815</td><td>16.997936</td><td>16.58368</td><td>17.480083</td><td>16.907488</td><td>16.503061</td><td>17.417385</td><td>16.844397</td><td>16.438307</td><td>17.37241</td><td>16.804577</td><td>16.397968</td><td>17.353653</td><td>16.782059</td><td>16.375956</td><td>17.331314</td><td>16.761374</td><td>16.354862</td><td>0.12622105</td><td>0.20674814</td><td>0.16807792</td><td>0.25504676</td><td>0.14089678</td><td>0.16829072</td><td>0.19875632</td><td>0.16561174</td><td>0.15427741</td><td>0.046313487</td><td>0.04724616</td><td>0.048439484</td><td>0.03917673</td><td>0.039395563</td><td>0.040091965</td><td>0.036151644</td><td>0.035970192</td><td>0.0366718</td><td>0.03392182</td><td>0.033808276</td><td>0.034251444</td><td>0.032378722</td><td>0.03228349</td><td>0.032734264</td><td>0.031305518</td><td>0.031217247</td><td>0.031562127</td><td>0.030364351</td><td>0.03031965</td><td>0.030655177</td><td>0.029917706</td><td>0.029788723</td><td>0.03014343</td><td>0.029384265</td><td>0.0292718</td><td>0.029606054</td><td>17.276386</td><td>0.45210275</td><td>5.512375</td><td>3.6780589</td><td>0.16846009</td><td>16.710693</td><td>0.4354368</td><td>5.618919</td><td>3.7244556</td><td>0.096192606</td><td>16.299109</td><td>0.46605882</td><td>4.6048703</td><td>3.500001</td><td>0.10056463</td><td>0</td><td>0.03812866997509131</td><td>2.3626866933610976e-05</td><td>S</td><td>95.96961734753083</td><td>7.275188682784779</td></tr>\n",
       "<tr><td>76</td><td>SGA-2020 76</td><td>2MASXJ13193867+1319476</td><td>3554979</td><td>199.91132100000002</td><td>13.3300033</td><td>Sc</td><td>31.75</td><td>0.3499452</td><td>0.52844524</td><td>0.054629125</td><td>24.11248</td><td>17.764</td><td>False</td><td>LEDA-20181114</td><td>24</td><td>2MASXJ13193867+1319476</td><td>1</td><td>True</td><td>199.91132100000002</td><td>13.3300033</td><td>0.3499452</td><td>1998p132</td><td>199.9113135992517</td><td>13.329991136671882</td><td>0.4451001</td><td>SB26</td><td>22.905378</td><td>0.51860845</td><td>199.91120101667676</td><td>13.33006133525471</td><td>9.282045</td><td>3.9885411</td><td>3.966519</td><td>3.8115015</td><td>4.696555</td><td>5.9004173</td><td>7.052831</td><td>8.163935</td><td>9.220189</td><td>10.170329</td><td>11.198942</td><td>12.120846</td><td>13.353003</td><td>17.921488</td><td>17.197258</td><td>16.664124</td><td>17.705431</td><td>16.990112</td><td>16.465982</td><td>17.57282</td><td>16.862581</td><td>16.342922</td><td>17.487513</td><td>16.776474</td><td>16.261377</td><td>17.430614</td><td>16.721258</td><td>16.207926</td><td>17.40115</td><td>16.689163</td><td>16.177795</td><td>17.381325</td><td>16.66461</td><td>16.157372</td><td>17.3689</td><td>16.652546</td><td>16.143244</td><td>17.357347</td><td>16.639008</td><td>16.13258</td><td>0.073423065</td><td>0.092519246</td><td>0.0914643</td><td>0.12338651</td><td>0.112646095</td><td>0.097671814</td><td>0.1335277</td><td>0.12972087</td><td>0.14151393</td><td>0.035409544</td><td>0.036944214</td><td>0.038055237</td><td>0.033948235</td><td>0.034878187</td><td>0.035562627</td><td>0.03228358</td><td>0.033084854</td><td>0.033634093</td><td>0.030885255</td><td>0.03155872</td><td>0.03215581</td><td>0.029848408</td><td>0.030482613</td><td>0.031104034</td><td>0.029231582</td><td>0.029798742</td><td>0.030410364</td><td>0.028793776</td><td>0.02924297</td><td>0.029942103</td><td>0.028504623</td><td>0.028955694</td><td>0.029613603</td><td>0.028233392</td><td>0.028633099</td><td>0.029357912</td><td>17.33485</td><td>0.24642451</td><td>0.34083524</td><td>4.4410286</td><td>0.02592396</td><td>16.609165</td><td>0.25834143</td><td>0.3927081</td><td>4.100756</td><td>0.018338645</td><td>16.106625</td><td>0.23543513</td><td>0.38638958</td><td>4.256516</td><td>0.0146418195</td><td>0</td><td>0.05460013596252998</td><td>2.383149441216226e-05</td><td>S</td><td>137.78741972867823</td><td>9.866030829997742</td></tr>\n",
       "<tr><td>117</td><td>SGA-2020 117</td><td>2MASXJ09154446+0241407</td><td>3354886</td><td>138.9353835</td><td>2.6947728</td><td>S?</td><td>128.28</td><td>0.3990249</td><td>0.38106582</td><td>0.09010734</td><td>24.727482</td><td>18.094</td><td>False</td><td>LEDA-20181114</td><td>34</td><td>2MASXJ09154446+0241407</td><td>1</td><td>True</td><td>138.9353835</td><td>2.6947728</td><td>0.3990249</td><td>1388p027</td><td>138.9354018819327</td><td>2.69476220880469</td><td>0.56725013</td><td>SB26</td><td>128.27348</td><td>0.38386053</td><td>138.93537779417755</td><td>2.6947957581570927</td><td>10.338557</td><td>6.257738</td><td>5.955538</td><td>5.841074</td><td>5.095325</td><td>6.9415464</td><td>8.791956</td><td>10.532487</td><td>11.842479</td><td>13.0811</td><td>14.365393</td><td>15.712301</td><td>17.017504</td><td>18.443657</td><td>17.58299</td><td>16.92973</td><td>18.058376</td><td>17.226091</td><td>16.588629</td><td>17.812689</td><td>17.00055</td><td>16.371704</td><td>17.660887</td><td>16.859318</td><td>16.23806</td><td>17.57534</td><td>16.787174</td><td>16.164423</td><td>17.527903</td><td>16.737005</td><td>16.119072</td><td>17.498484</td><td>16.715483</td><td>16.089012</td><td>17.47861</td><td>16.688995</td><td>16.071629</td><td>17.467876</td><td>16.683826</td><td>16.060444</td><td>0.07752799</td><td>0.10798192</td><td>0.15095635</td><td>0.20314258</td><td>0.1526195</td><td>0.12731193</td><td>0.2313309</td><td>0.16195889</td><td>0.14576925</td><td>0.048041802</td><td>0.05141112</td><td>0.051927906</td><td>0.042856753</td><td>0.045049492</td><td>0.045350183</td><td>0.038913112</td><td>0.040672153</td><td>0.04090189</td><td>0.036267072</td><td>0.03780034</td><td>0.037927195</td><td>0.034719575</td><td>0.036313146</td><td>0.036274742</td><td>0.033770207</td><td>0.035203736</td><td>0.035202943</td><td>0.03311381</td><td>0.034623306</td><td>0.034443073</td><td>0.032663263</td><td>0.034020565</td><td>0.0339658</td><td>0.032346245</td><td>0.033806317</td><td>0.03365211</td><td>17.436062</td><td>0.2512432</td><td>1.7910243</td><td>5.037278</td><td>0.10841618</td><td>16.648998</td><td>0.24943292</td><td>1.6484181</td><td>4.7604127</td><td>0.10132269</td><td>16.024673</td><td>0.24497303</td><td>1.7002242</td><td>4.6383066</td><td>0.06712678</td><td>0</td><td>0.09004580647676316</td><td>3.4072404477873065e-05</td><td>S</td><td>199.31795125815435</td><td>10.674131026344526</td></tr>\n",
       "<tr><td>146</td><td>SGA-2020 146</td><td>2MASXJ12064551+5749479</td><td>3548029</td><td>181.6893645</td><td>57.830051100000006</td><td>S?</td><td>48.71</td><td>0.34833732</td><td>0.7726806</td><td>0.08683107</td><td>23.381481</td><td>17.043</td><td>False</td><td>LEDA-20181114</td><td>44</td><td>2MASXJ12064551+5749479</td><td>1</td><td>True</td><td>181.6893645</td><td>57.830051100000006</td><td>0.34833732</td><td>1816p577</td><td>181.68940917696546</td><td>57.83003104947937</td><td>0.36415058</td><td>SB26</td><td>48.3093</td><td>0.76031077</td><td>181.68927646718146</td><td>57.83003937253488</td><td>8.556511</td><td>3.4790816</td><td>3.2297716</td><td>2.792609</td><td>4.65354</td><td>5.5384154</td><td>6.288284</td><td>7.0090117</td><td>7.7473254</td><td>8.435928</td><td>9.281414</td><td>10.044157</td><td>10.924518</td><td>17.197342</td><td>16.64778</td><td>16.239794</td><td>17.0416</td><td>16.511215</td><td>16.12045</td><td>16.952618</td><td>16.433926</td><td>16.050842</td><td>16.900208</td><td>16.385595</td><td>16.008142</td><td>16.866474</td><td>16.354696</td><td>15.981494</td><td>16.842852</td><td>16.3341</td><td>15.965365</td><td>16.825573</td><td>16.317263</td><td>15.95298</td><td>16.814331</td><td>16.307076</td><td>15.944683</td><td>16.806469</td><td>16.298855</td><td>15.94009</td><td>0.041527864</td><td>0.08357649</td><td>0.050740317</td><td>0.05205987</td><td>0.045416936</td><td>0.0490538</td><td>0.063110456</td><td>0.08092954</td><td>0.08631646</td><td>0.014227689</td><td>0.0185518</td><td>0.025183618</td><td>0.014932208</td><td>0.018072862</td><td>0.023654822</td><td>0.015130591</td><td>0.017819095</td><td>0.022927113</td><td>0.014902598</td><td>0.017428178</td><td>0.022299813</td><td>0.01461358</td><td>0.017018395</td><td>0.02171393</td><td>0.014384262</td><td>0.01678308</td><td>0.021565419</td><td>0.014165267</td><td>0.016507052</td><td>0.021206876</td><td>0.014050296</td><td>0.016401306</td><td>0.021190243</td><td>0.013933333</td><td>0.016245957</td><td>0.020981535</td><td>16.788258</td><td>0.3268808</td><td>0.0859406</td><td>4.405118</td><td>0.042221688</td><td>16.280504</td><td>0.29998967</td><td>0.09424027</td><td>4.2344804</td><td>0.0123713715</td><td>15.930992</td><td>0.17818208</td><td>0.085705355</td><td>5.225517</td><td>0.007930444</td><td>0</td><td>0.0868492377945293</td><td>1.1714745702921221e-05</td><td>N</td><td>174.65939324529865</td><td>2.5536349213973812</td></tr>\n",
       "<tr><td>...</td><td>...</td><td>...</td><td>...</td><td>...</td><td>...</td><td>...</td><td>...</td><td>...</td><td>...</td><td>...</td><td>...</td><td>...</td><td>...</td><td>...</td><td>...</td><td>...</td><td>...</td><td>...</td><td>...</td><td>...</td><td>...</td><td>...</td><td>...</td><td>...</td><td>...</td><td>...</td><td>...</td><td>...</td><td>...</td><td>...</td><td>...</td><td>...</td><td>...</td><td>...</td><td>...</td><td>...</td><td>...</td><td>...</td><td>...</td><td>...</td><td>...</td><td>...</td><td>...</td><td>...</td><td>...</td><td>...</td><td>...</td><td>...</td><td>...</td><td>...</td><td>...</td><td>...</td><td>...</td><td>...</td><td>...</td><td>...</td><td>...</td><td>...</td><td>...</td><td>...</td><td>...</td><td>...</td><td>...</td><td>...</td><td>...</td><td>...</td><td>...</td><td>...</td><td>...</td><td>...</td><td>...</td><td>...</td><td>...</td><td>...</td><td>...</td><td>...</td><td>...</td><td>...</td><td>...</td><td>...</td><td>...</td><td>...</td><td>...</td><td>...</td><td>...</td><td>...</td><td>...</td><td>...</td><td>...</td><td>...</td><td>...</td><td>...</td><td>...</td><td>...</td><td>...</td><td>...</td><td>...</td><td>...</td><td>...</td><td>...</td><td>...</td><td>...</td><td>...</td><td>...</td><td>...</td><td>...</td><td>...</td><td>...</td><td>...</td><td>...</td><td>...</td><td>...</td><td>...</td><td>...</td><td>...</td><td>...</td><td>...</td><td>...</td><td>...</td><td>...</td><td>...</td><td>...</td><td>...</td><td>...</td><td>...</td><td>...</td><td>...</td></tr>\n",
       "<tr><td>5002979</td><td>SGA-2020 5002979</td><td>DR8-2397p652-167</td><td>-1</td><td>239.924898070929</td><td>65.1335613910586</td><td>COMP</td><td>67.210915</td><td>0.43699723</td><td>0.18314047</td><td>-1.0</td><td>24.381874</td><td>17.551</td><td>False</td><td>DR8</td><td>531180</td><td>DR8-2397p652-167</td><td>1</td><td>True</td><td>239.924898070929</td><td>65.1335613910586</td><td>0.43699723</td><td>2397p652</td><td>239.92492402653707</td><td>65.13355735779955</td><td>0.45626715</td><td>SB26</td><td>65.47312</td><td>0.323703</td><td>239.92491617045874</td><td>65.1336522097774</td><td>11.356818</td><td>5.0084615</td><td>5.2744956</td><td>3.8315012</td><td>2.1767786</td><td>4.1628194</td><td>5.621367</td><td>6.9673505</td><td>8.284424</td><td>9.639256</td><td>11.016103</td><td>12.311766</td><td>13.688014</td><td>20.749155</td><td>19.821903</td><td>18.622519</td><td>19.675947</td><td>18.759464</td><td>17.71218</td><td>19.309002</td><td>18.39348</td><td>17.446665</td><td>19.11053</td><td>18.193024</td><td>17.311804</td><td>18.98419</td><td>18.062576</td><td>17.234247</td><td>18.90314</td><td>17.972124</td><td>17.180563</td><td>18.848152</td><td>17.911032</td><td>17.147327</td><td>18.812113</td><td>17.872213</td><td>17.131145</td><td>18.787783</td><td>17.84331</td><td>17.11618</td><td>0.02658036</td><td>0.03216826</td><td>0.033247657</td><td>0.03098253</td><td>0.040881623</td><td>0.038021352</td><td>0.06001063</td><td>0.08135062</td><td>0.10424633</td><td>0.032608777</td><td>0.033876732</td><td>0.052335072</td><td>0.02132334</td><td>0.021264859</td><td>0.029132297</td><td>0.017494736</td><td>0.017872352</td><td>0.024053397</td><td>0.016173579</td><td>0.015982687</td><td>0.02192911</td><td>0.015114146</td><td>0.014820993</td><td>0.020821707</td><td>0.0144540435</td><td>0.013892267</td><td>0.020053793</td><td>0.014116646</td><td>0.013265011</td><td>0.019589279</td><td>0.013835338</td><td>0.0128714545</td><td>0.019406393</td><td>0.013616575</td><td>0.0126029905</td><td>0.019253295</td><td>18.685425</td><td>0.81560135</td><td>0.28128865</td><td>2.4362183</td><td>0.09587855</td><td>17.710533</td><td>0.90226614</td><td>0.31298414</td><td>2.229261</td><td>0.1683545</td><td>17.055399</td><td>0.8260203</td><td>0.1539571</td><td>2.3640034</td><td>0.103004</td><td>0</td><td>0.08765096937376782</td><td>3.1738404231129194e-05</td><td>N</td><td>146.70900655385535</td><td>14.354038202361883</td></tr>\n",
       "<tr><td>5002994</td><td>SGA-2020 5002994</td><td>DR8-1398p665-1615</td><td>-1</td><td>139.864382043653</td><td>66.4721755731082</td><td>DEV</td><td>101.013794</td><td>0.5753267</td><td>0.071344316</td><td>-1.0</td><td>25.721354</td><td>18.2933</td><td>False</td><td>DR8</td><td>531191</td><td>DR8-1398p665-1615</td><td>1</td><td>True</td><td>139.864382043653</td><td>66.4721755731082</td><td>0.5753267</td><td>1398p665</td><td>139.86435722699446</td><td>66.47217431853446</td><td>0.5490915</td><td>SB26</td><td>100.38608</td><td>0.17725486</td><td>139.86398551814102</td><td>66.47226023279771</td><td>10.545621</td><td>9.887215</td><td>8.595079</td><td>7.7230816</td><td>-1.0</td><td>0.6948133</td><td>2.6397734</td><td>5.375548</td><td>7.9385815</td><td>10.095449</td><td>12.381149</td><td>14.493664</td><td>16.472746</td><td>-1.0</td><td>-1.0</td><td>-1.0</td><td>24.912306</td><td>23.873669</td><td>23.055914</td><td>22.153711</td><td>21.166409</td><td>20.367807</td><td>20.862572</td><td>19.92279</td><td>19.193596</td><td>20.313389</td><td>19.385433</td><td>18.70704</td><td>20.03827</td><td>19.137272</td><td>18.484045</td><td>19.84823</td><td>18.970484</td><td>18.339989</td><td>19.73206</td><td>18.876404</td><td>18.258461</td><td>19.656702</td><td>18.803837</td><td>18.206432</td><td>-1.0</td><td>0.03325055</td><td>0.053489998</td><td>0.10656316</td><td>0.079258546</td><td>0.12572764</td><td>0.14248478</td><td>0.10924942</td><td>0.15195657</td><td>-1.0</td><td>-1.0</td><td>-1.0</td><td>0.03655815</td><td>0.052470915</td><td>0.07374169</td><td>0.04353275</td><td>0.054902457</td><td>0.06727626</td><td>0.032866273</td><td>0.03737229</td><td>0.045083545</td><td>0.02979003</td><td>0.03257439</td><td>0.038288545</td><td>0.028245408</td><td>0.030242732</td><td>0.03515473</td><td>0.02682099</td><td>0.028373884</td><td>0.03292232</td><td>0.025636008</td><td>0.02723336</td><td>0.031637415</td><td>0.024718849</td><td>0.026224555</td><td>0.030764705</td><td>19.305637</td><td>1.1360888</td><td>0.91967666</td><td>1.879403</td><td>0.06263441</td><td>18.545938</td><td>1.0229808</td><td>0.7986917</td><td>2.0349977</td><td>0.06394184</td><td>17.982222</td><td>1.0536814</td><td>0.6254577</td><td>1.9778081</td><td>0.085709065</td><td>0</td><td>0.048405841192079815</td><td>2.551316656122742e-05</td><td>N</td><td>72.41767549081787</td><td>8.236664018292144</td></tr>\n",
       "<tr><td>5003004</td><td>SGA-2020 5003004</td><td>DR8-1714p670-2342</td><td>-1</td><td>171.35883916067</td><td>67.0611764882104</td><td>DEV</td><td>80.3217</td><td>0.60768</td><td>0.08748469</td><td>-1.0</td><td>25.928455</td><td>18.3816</td><td>False</td><td>DR8</td><td>531199</td><td>DR8-1714p670-2342</td><td>1</td><td>True</td><td>171.35883916067</td><td>67.0611764882104</td><td>0.60768</td><td>1714p670</td><td>171.35881877248994</td><td>67.06118179615684</td><td>0.47528946</td><td>SB26</td><td>81.904305</td><td>0.23210156</td><td>171.35839908332883</td><td>67.06123894917796</td><td>9.509831</td><td>6.7971253</td><td>8.67151</td><td>5.367893</td><td>-1.0</td><td>-1.0</td><td>0.7149287</td><td>2.6152117</td><td>5.3913107</td><td>7.8126597</td><td>9.989338</td><td>12.164344</td><td>14.258684</td><td>-1.0</td><td>-1.0</td><td>-1.0</td><td>-1.0</td><td>-1.0</td><td>-1.0</td><td>23.990133</td><td>24.01508</td><td>23.591227</td><td>21.40138</td><td>21.379026</td><td>21.04436</td><td>20.225557</td><td>20.12302</td><td>19.928143</td><td>19.780087</td><td>19.626316</td><td>19.537397</td><td>19.559645</td><td>19.37025</td><td>19.367208</td><td>19.442797</td><td>19.208246</td><td>19.291243</td><td>19.38842</td><td>19.110348</td><td>19.27636</td><td>-1.0</td><td>-1.0</td><td>0.04180464</td><td>0.048984915</td><td>0.08504153</td><td>0.12991256</td><td>0.12206072</td><td>0.15354736</td><td>0.14100157</td><td>-1.0</td><td>-1.0</td><td>-1.0</td><td>-1.0</td><td>-1.0</td><td>-1.0</td><td>0.032449197</td><td>0.050993886</td><td>0.13238242</td><td>0.043113627</td><td>0.039578818</td><td>0.070912704</td><td>0.04259607</td><td>0.03421088</td><td>0.06046601</td><td>0.04076413</td><td>0.031005017</td><td>0.053169258</td><td>0.03788167</td><td>0.029154485</td><td>0.050601453</td><td>0.035704378</td><td>0.027307019</td><td>0.050026268</td><td>0.034471277</td><td>0.026303183</td><td>0.051400226</td><td>19.17055</td><td>0.95281184</td><td>0.5223741</td><td>2.1607606</td><td>0.38082954</td><td>18.757368</td><td>1.0837588</td><td>0.76037323</td><td>1.9395914</td><td>0.025478158</td><td>19.162567</td><td>0.77011454</td><td>0.32981506</td><td>2.594674</td><td>0.4011641</td><td>0</td><td>0.05497527658535031</td><td>2.4234972322755034e-05</td><td>N</td><td>60.448478426807355</td><td>7.7494506405248</td></tr>\n",
       "<tr><td>5003016</td><td>SGA-2020 5003016</td><td>DR8-1180p685-982</td><td>-1</td><td>118.413192598763</td><td>68.4475232039251</td><td>COMP</td><td>2.7931678</td><td>0.38619024</td><td>0.3354965</td><td>-1.0</td><td>23.511286</td><td>16.9488</td><td>False</td><td>DR8</td><td>531209</td><td>DR8-1180p685-982</td><td>1</td><td>True</td><td>118.413192598763</td><td>68.4475232039251</td><td>0.38619024</td><td>1180p685</td><td>118.41335218674068</td><td>68.44756628924732</td><td>0.36928576</td><td>SB26</td><td>39.323143</td><td>0.6080408</td><td>118.41355663477529</td><td>68.44783546098549</td><td>9.090026</td><td>4.192083</td><td>4.1868567</td><td>3.5377216</td><td>2.4994369</td><td>4.4049687</td><td>5.5124483</td><td>6.580792</td><td>7.5675535</td><td>8.470651</td><td>9.419668</td><td>10.238615</td><td>11.078573</td><td>19.329086</td><td>18.70795</td><td>18.142296</td><td>18.460035</td><td>17.891752</td><td>17.441038</td><td>18.18327</td><td>17.629723</td><td>17.217985</td><td>18.029228</td><td>17.467611</td><td>17.099804</td><td>17.947746</td><td>17.385164</td><td>17.035223</td><td>17.893185</td><td>17.3279</td><td>17.001596</td><td>17.85378</td><td>17.290592</td><td>16.977774</td><td>17.833279</td><td>17.266891</td><td>16.968819</td><td>17.817175</td><td>17.251467</td><td>16.96305</td><td>0.058407836</td><td>0.05761795</td><td>0.0472844</td><td>0.058159698</td><td>0.062547594</td><td>0.08531638</td><td>0.063434765</td><td>0.07591749</td><td>0.11168528</td><td>0.05535375</td><td>0.056489572</td><td>0.08199482</td><td>0.0302142</td><td>0.032033842</td><td>0.04719929</td><td>0.025984367</td><td>0.027111376</td><td>0.039662063</td><td>0.02389687</td><td>0.02489324</td><td>0.03622886</td><td>0.022824634</td><td>0.0235452</td><td>0.0344496</td><td>0.022073936</td><td>0.022654897</td><td>0.033618093</td><td>0.021485014</td><td>0.02207306</td><td>0.03303966</td><td>0.02115713</td><td>0.021664346</td><td>0.03284681</td><td>0.020846916</td><td>0.021352056</td><td>0.032737326</td><td>17.769403</td><td>0.47055158</td><td>0.15964885</td><td>3.6904638</td><td>0.1493848</td><td>17.203154</td><td>0.4136125</td><td>0.18550104</td><td>3.8217518</td><td>0.07669389</td><td>16.944618</td><td>0.28349632</td><td>0.10090171</td><td>4.691846</td><td>0.016500065</td><td>0</td><td>0.11692509196560236</td><td>2.3959323775888464e-05</td><td>N</td><td>117.19120305255979</td><td>5.833898935408909</td></tr>\n",
       "<tr><td>5003025</td><td>SGA-2020 5003025</td><td>DR8-1964p692-1520</td><td>-1</td><td>196.249821325712</td><td>69.2404735910327</td><td>DEV</td><td>65.993675</td><td>0.53019</td><td>0.83550423</td><td>-1.0</td><td>23.703638</td><td>16.453</td><td>False</td><td>DR8</td><td>531217</td><td>DR8-1964p692-1520</td><td>1</td><td>True</td><td>196.249821325712</td><td>69.2404735910327</td><td>0.53019</td><td>1964p692</td><td>196.24985590299065</td><td>69.24047403123191</td><td>0.3762274</td><td>SB26</td><td>69.32113</td><td>0.8474411</td><td>196.24956535362386</td><td>69.24058470993809</td><td>9.153697</td><td>5.2658134</td><td>4.931614</td><td>4.095267</td><td>0.980254</td><td>2.4707532</td><td>3.7954679</td><td>5.208217</td><td>6.64204</td><td>7.895033</td><td>9.0990505</td><td>10.242334</td><td>11.286822</td><td>21.251368</td><td>20.476337</td><td>20.10416</td><td>19.6451</td><td>18.985996</td><td>18.646614</td><td>19.014925</td><td>18.416061</td><td>18.123596</td><td>18.574312</td><td>18.025017</td><td>17.76473</td><td>18.293917</td><td>17.779255</td><td>17.554861</td><td>18.139387</td><td>17.643995</td><td>17.44837</td><td>18.044146</td><td>17.55823</td><td>17.39057</td><td>17.982098</td><td>17.506182</td><td>17.359121</td><td>17.945805</td><td>17.471407</td><td>17.343243</td><td>0.0069023687</td><td>0.010550653</td><td>0.016471252</td><td>0.02250987</td><td>0.029023474</td><td>0.035044607</td><td>0.050860174</td><td>0.06265391</td><td>0.091106564</td><td>0.025555115</td><td>0.040090375</td><td>0.039042614</td><td>0.011055786</td><td>0.016875388</td><td>0.0162537</td><td>0.0071044043</td><td>0.010832993</td><td>0.011001163</td><td>0.0056095333</td><td>0.008214461</td><td>0.008658351</td><td>0.0047839754</td><td>0.0069714896</td><td>0.007678118</td><td>0.004642599</td><td>0.0065153595</td><td>0.0075184805</td><td>0.004636516</td><td>0.0063242204</td><td>0.0075814105</td><td>0.0045584664</td><td>0.0062105795</td><td>0.0077166874</td><td>0.0045477264</td><td>0.0061218785</td><td>0.00781886</td><td>17.802494</td><td>0.55231285</td><td>0.41594377</td><td>3.0312378</td><td>15.277665</td><td>17.328266</td><td>0.5637767</td><td>0.39493692</td><td>2.7704544</td><td>6.344422</td><td>17.264029</td><td>0.48153266</td><td>0.2337462</td><td>3.1153762</td><td>13.043791</td><td>0</td><td>0.05445021424288115</td><td>2.5632454534953117e-05</td><td>N</td><td>46.88669883616818</td><td>7.917451718568092</td></tr>\n",
       "<tr><td>5003026</td><td>SGA-2020 5003026</td><td>DR8-2062p692-3548</td><td>-1</td><td>206.173102845139</td><td>69.3689603946125</td><td>DEV</td><td>154.31407</td><td>0.50661</td><td>0.09038569</td><td>-1.0</td><td>25.51585</td><td>18.364</td><td>False</td><td>DR8</td><td>531218</td><td>DR8-2062p692-3548</td><td>1</td><td>True</td><td>206.173102845139</td><td>69.3689603946125</td><td>0.50661</td><td>2062p692</td><td>206.17338580325088</td><td>69.36879116767244</td><td>0.5133742</td><td>SB26</td><td>152.68248</td><td>0.21594274</td><td>206.17313685158067</td><td>69.36887462279773</td><td>8.263047</td><td>9.253409</td><td>8.988054</td><td>6.572062</td><td>-1.0</td><td>0.94253665</td><td>2.7663212</td><td>5.6930323</td><td>8.5402155</td><td>10.928623</td><td>12.938184</td><td>14.395423</td><td>15.401226</td><td>-1.0</td><td>-1.0</td><td>-1.0</td><td>23.735952</td><td>22.775803</td><td>21.64349</td><td>21.818464</td><td>20.872969</td><td>19.874765</td><td>20.575</td><td>19.636568</td><td>18.787037</td><td>19.99735</td><td>19.075829</td><td>18.321186</td><td>19.71226</td><td>18.792349</td><td>18.09326</td><td>19.536978</td><td>18.633186</td><td>18.013458</td><td>19.468704</td><td>18.561232</td><td>17.971956</td><td>19.428648</td><td>18.525364</td><td>17.95479</td><td>-1.0</td><td>0.063837886</td><td>0.087008856</td><td>0.16539806</td><td>0.21387036</td><td>0.19643526</td><td>0.16088685</td><td>0.10302735</td><td>0.14549845</td><td>-1.0</td><td>-1.0</td><td>-1.0</td><td>0.08337063</td><td>0.06078962</td><td>0.12025353</td><td>0.09459272</td><td>0.09971636</td><td>0.14241862</td><td>0.061237257</td><td>0.064610876</td><td>0.085181884</td><td>0.051206045</td><td>0.05276152</td><td>0.06897163</td><td>0.04632865</td><td>0.047517184</td><td>0.062305544</td><td>0.043556936</td><td>0.044594377</td><td>0.058996145</td><td>0.042225543</td><td>0.04296184</td><td>0.057529192</td><td>0.04144066</td><td>0.04196402</td><td>0.056985397</td><td>19.138977</td><td>0.67302245</td><td>1.6734488</td><td>2.674247</td><td>0.15206179</td><td>18.252243</td><td>0.67125225</td><td>1.5563235</td><td>2.666082</td><td>0.102686904</td><td>17.846682</td><td>0.51567817</td><td>0.8723632</td><td>3.1720223</td><td>0.1154653</td><td>0</td><td>0.17186823696467102</td><td>2.4630866811097912e-05</td><td>N</td><td>252.77498469165545</td><td>10.151335571330064</td></tr>\n",
       "<tr><td>5003042</td><td>SGA-2020 5003042</td><td>DR8-1788p705-2761</td><td>-1</td><td>178.886248174981</td><td>70.5862565306647</td><td>DEV</td><td>123.207634</td><td>0.47999334</td><td>0.5997575</td><td>-1.0</td><td>24.162756</td><td>17.1281</td><td>False</td><td>DR8</td><td>531231</td><td>DR8-1788p705-2761</td><td>1</td><td>True</td><td>178.886248174981</td><td>70.5862565306647</td><td>0.47999334</td><td>1788p705</td><td>178.8862785601706</td><td>70.58624697230493</td><td>0.36200136</td><td>SB26</td><td>125.24374</td><td>0.64845276</td><td>178.88606249969044</td><td>70.58627541657373</td><td>8.553643</td><td>5.731049</td><td>5.9333167</td><td>4.8973</td><td>0.4319653</td><td>1.3864847</td><td>3.047685</td><td>4.321398</td><td>5.6121936</td><td>6.960401</td><td>8.355741</td><td>9.72887</td><td>10.860041</td><td>23.528044</td><td>22.870604</td><td>21.90141</td><td>21.276356</td><td>20.507837</td><td>19.755964</td><td>20.00039</td><td>19.26</td><td>18.724419</td><td>19.490372</td><td>18.809628</td><td>18.343924</td><td>19.150068</td><td>18.517948</td><td>18.095984</td><td>18.939661</td><td>18.336416</td><td>17.946585</td><td>18.806273</td><td>18.216522</td><td>17.85679</td><td>18.715223</td><td>18.136826</td><td>17.793627</td><td>18.657173</td><td>18.081808</td><td>17.755415</td><td>0.012983936</td><td>0.02596652</td><td>0.031495087</td><td>0.03505714</td><td>0.060470216</td><td>0.08336966</td><td>0.08657825</td><td>0.15099958</td><td>0.12846708</td><td>0.041599523</td><td>0.049795024</td><td>0.08694215</td><td>0.028040832</td><td>0.03016664</td><td>0.05442411</td><td>0.017687852</td><td>0.020218076</td><td>0.03169479</td><td>0.0152520025</td><td>0.017243044</td><td>0.026304955</td><td>0.014170057</td><td>0.015881548</td><td>0.02318564</td><td>0.013916019</td><td>0.015109587</td><td>0.0218094</td><td>0.013785148</td><td>0.014686738</td><td>0.021117546</td><td>0.013662463</td><td>0.014429111</td><td>0.020847611</td><td>0.013597124</td><td>0.014138819</td><td>0.020602891</td><td>18.386326</td><td>0.90661913</td><td>0.40670052</td><td>2.078456</td><td>7.827966</td><td>17.725664</td><td>1.407968</td><td>0.32085827</td><td>1.5124189</td><td>3.6684504</td><td>17.464483</td><td>1.3141232</td><td>0.27003244</td><td>1.4732548</td><td>3.2791605</td><td>0</td><td>0.11885901724082157</td><td>5.7098936625022754e-05</td><td>N</td><td>137.60810216730812</td><td>17.35579749476484</td></tr>\n",
       "<tr><td>5003044</td><td>SGA-2020 5003044</td><td>DR8-1871p707-934</td><td>-1</td><td>187.039327700228</td><td>70.7094485721822</td><td>COMP</td><td>176.6534</td><td>0.4478798</td><td>0.10771403</td><td>-1.0</td><td>24.884089</td><td>17.9998</td><td>False</td><td>DR8</td><td>531232</td><td>DR8-1871p707-934</td><td>1</td><td>True</td><td>187.039327700228</td><td>70.7094485721822</td><td>0.4478798</td><td>1871p707</td><td>187.0393754215968</td><td>70.70954568726202</td><td>0.45446476</td><td>SB26</td><td>177.46777</td><td>0.21339494</td><td>187.03913955198644</td><td>70.70963026986104</td><td>10.928007</td><td>5.711995</td><td>5.3233075</td><td>5.1449146</td><td>2.151994</td><td>4.362925</td><td>6.2506046</td><td>7.622578</td><td>8.864355</td><td>10.016671</td><td>11.0834055</td><td>12.19836</td><td>13.633943</td><td>21.60051</td><td>20.415434</td><td>19.561075</td><td>20.308853</td><td>19.154308</td><td>18.330902</td><td>19.805435</td><td>18.656433</td><td>17.865152</td><td>19.599024</td><td>18.456722</td><td>17.673725</td><td>19.475636</td><td>18.343643</td><td>17.56651</td><td>19.397234</td><td>18.273926</td><td>17.502722</td><td>19.345844</td><td>18.229164</td><td>17.464523</td><td>19.30992</td><td>18.199965</td><td>17.436916</td><td>19.274109</td><td>18.177862</td><td>17.413712</td><td>0.02248094</td><td>0.02106907</td><td>0.019714963</td><td>0.026001409</td><td>0.025607906</td><td>0.04175527</td><td>0.07508612</td><td>0.07731131</td><td>0.15724127</td><td>0.031683955</td><td>0.039428655</td><td>0.03547412</td><td>0.019935798</td><td>0.022308318</td><td>0.020489505</td><td>0.015330863</td><td>0.01651906</td><td>0.015847545</td><td>0.013698094</td><td>0.014332885</td><td>0.0143381655</td><td>0.012764545</td><td>0.013258427</td><td>0.013595736</td><td>0.012093991</td><td>0.012635661</td><td>0.013262001</td><td>0.011719649</td><td>0.012276251</td><td>0.013140208</td><td>0.011547911</td><td>0.012097023</td><td>0.013124858</td><td>0.011477698</td><td>0.011967833</td><td>0.0132263275</td><td>19.164099</td><td>0.72991806</td><td>0.38097164</td><td>2.7767498</td><td>0.09768463</td><td>18.10752</td><td>0.5841937</td><td>0.33403307</td><td>3.2706497</td><td>0.24090384</td><td>17.345636</td><td>0.5957881</td><td>0.30950978</td><td>3.1652956</td><td>0.31759864</td><td>0</td><td>0.13382448606567757</td><td>3.8561518649482464e-05</td><td>N</td><td>195.8725337040959</td><td>18.963723302702473</td></tr>\n",
       "<tr><td>5003075</td><td>SGA-2020 5003075</td><td>DR8-1471p740-944</td><td>-1</td><td>146.852838040185</td><td>73.9547564406542</td><td>DEV</td><td>67.622696</td><td>0.48962668</td><td>0.3161503</td><td>-1.0</td><td>23.939207</td><td>16.8614</td><td>False</td><td>DR8</td><td>531256</td><td>DR8-1471p740-944</td><td>1</td><td>True</td><td>146.852838040185</td><td>73.9547564406542</td><td>0.48962668</td><td>1471p740</td><td>146.8528097570781</td><td>73.95474012822847</td><td>0.5697113</td><td>SB26</td><td>70.31672</td><td>0.39222878</td><td>146.85260201693393</td><td>73.95481726867567</td><td>10.980568</td><td>8.365745</td><td>7.250436</td><td>6.7237144</td><td>1.936407</td><td>3.9904687</td><td>5.9091377</td><td>7.9328766</td><td>10.027711</td><td>12.026291</td><td>13.868172</td><td>15.569904</td><td>17.09134</td><td>20.565453</td><td>19.829273</td><td>19.346647</td><td>19.401884</td><td>18.732777</td><td>18.279396</td><td>18.85942</td><td>18.228605</td><td>17.799877</td><td>18.506054</td><td>17.89475</td><td>17.492552</td><td>18.264954</td><td>17.66807</td><td>17.289888</td><td>18.115206</td><td>17.533073</td><td>17.172129</td><td>18.01642</td><td>17.450136</td><td>17.10932</td><td>17.955143</td><td>17.405823</td><td>17.05811</td><td>17.922651</td><td>17.377522</td><td>17.038376</td><td>0.06631403</td><td>0.08176365</td><td>0.108295955</td><td>0.12953302</td><td>0.18545443</td><td>0.16246535</td><td>0.13165852</td><td>0.12661855</td><td>0.166926</td><td>0.057620913</td><td>0.06838719</td><td>0.0748089</td><td>0.045328382</td><td>0.050573166</td><td>0.053785603</td><td>0.03942852</td><td>0.042899955</td><td>0.045067873</td><td>0.03510518</td><td>0.03750515</td><td>0.039328925</td><td>0.03179709</td><td>0.033831224</td><td>0.03576075</td><td>0.029496316</td><td>0.031350166</td><td>0.033421118</td><td>0.027790401</td><td>0.029689867</td><td>0.032195583</td><td>0.026754541</td><td>0.028775953</td><td>0.031066077</td><td>0.026162982</td><td>0.028150462</td><td>0.030709643</td><td>17.688265</td><td>0.75627697</td><td>1.1482797</td><td>2.2153423</td><td>0.28886202</td><td>17.228083</td><td>0.585975</td><td>1.1270509</td><td>2.6143727</td><td>0.36711362</td><td>16.896973</td><td>0.6333095</td><td>0.87312746</td><td>2.4198256</td><td>0.22771747</td><td>0</td><td>0.056663371731410284</td><td>2.731706030686523e-05</td><td>N</td><td>113.97630250244593</td><td>6.691866417686977</td></tr>\n",
       "<tr><td>5003690</td><td>SGA-2020 5003690</td><td>DR8-3538m085-2119</td><td>-1</td><td>353.91877403154876</td><td>-8.500125659558334</td><td>PSF</td><td>0.0</td><td>0.504</td><td>1.0</td><td>-1.0</td><td>24.295685</td><td>17.155052</td><td>True</td><td>DR8</td><td>531397</td><td>DR8-3538m085-2119</td><td>1</td><td>True</td><td>353.91877403154876</td><td>-8.500125659558334</td><td>0.504</td><td>3538m085</td><td>353.918725875674</td><td>-8.500178425860529</td><td>0.40905288</td><td>SB26</td><td>77.87609</td><td>0.8739322</td><td>353.91867316796277</td><td>-8.50011252685305</td><td>10.923769</td><td>2.114272</td><td>2.3529387</td><td>2.840075</td><td>5.5757</td><td>6.5362024</td><td>7.4308066</td><td>8.259595</td><td>9.0084505</td><td>9.70209</td><td>10.449663</td><td>11.127357</td><td>12.271586</td><td>16.270388</td><td>15.716652</td><td>15.340878</td><td>16.194172</td><td>15.633355</td><td>15.247107</td><td>16.141834</td><td>15.577122</td><td>15.184869</td><td>16.108997</td><td>15.541147</td><td>15.145875</td><td>16.090513</td><td>15.521163</td><td>15.122307</td><td>16.078249</td><td>15.50802</td><td>15.107102</td><td>16.070158</td><td>15.4986515</td><td>15.095938</td><td>16.06557</td><td>15.493516</td><td>15.088886</td><td>16.059961</td><td>15.488407</td><td>15.08108</td><td>0.01388442</td><td>0.035363927</td><td>0.023681393</td><td>0.039492417</td><td>0.03864433</td><td>0.034425754</td><td>0.08908372</td><td>0.07852673</td><td>0.2100026</td><td>0.014275457</td><td>0.01368379</td><td>0.009532733</td><td>0.013586088</td><td>0.01288743</td><td>0.008810729</td><td>0.012995196</td><td>0.012289315</td><td>0.008382328</td><td>0.0124174</td><td>0.01176672</td><td>0.008112468</td><td>0.012448063</td><td>0.011731609</td><td>0.007992379</td><td>0.012095029</td><td>0.011441943</td><td>0.007867542</td><td>0.012009588</td><td>0.011349588</td><td>0.0077945087</td><td>0.012180091</td><td>0.011455518</td><td>0.007774968</td><td>0.012120133</td><td>0.011406247</td><td>0.007726163</td><td>16.054438</td><td>0.08805369</td><td>0.25674745</td><td>6.3751884</td><td>0.006444107</td><td>15.481927</td><td>0.09567547</td><td>0.25643852</td><td>6.3765764</td><td>0.005022586</td><td>15.069668</td><td>0.13804597</td><td>0.26408017</td><td>5.3853464</td><td>0.0038956604</td><td>0</td><td>0.06025708247204386</td><td>2.3385152553749317e-05</td><td>S</td><td>159.1082154250024</td><td>7.048339527367358</td></tr>\n",
       "</table></div>"
      ],
      "text/plain": [
       "<Table length=35760>\n",
       " SGA_ID    SGA_GALAXY    ...      V_0p4R26         V_0p4R26_err   \n",
       " int64      bytes16      ...      float64            float64      \n",
       "------- ---------------- ... ------------------ ------------------\n",
       "     20      SGA-2020 20 ... 147.82237894320167   8.33731363315019\n",
       "     32      SGA-2020 32 ...  264.4537334962159 14.504115936818195\n",
       "     38      SGA-2020 38 ...  131.7204980109027   7.50267495258597\n",
       "     53      SGA-2020 53 ...  269.3971746697042  9.026891141649168\n",
       "     55      SGA-2020 55 ...  85.03888780486824  6.124721468715481\n",
       "     63      SGA-2020 63 ...  92.88121708003851  5.648939186871361\n",
       "     74      SGA-2020 74 ...  95.96961734753083  7.275188682784779\n",
       "     76      SGA-2020 76 ... 137.78741972867823  9.866030829997742\n",
       "    117     SGA-2020 117 ... 199.31795125815435 10.674131026344526\n",
       "    146     SGA-2020 146 ... 174.65939324529865 2.5536349213973812\n",
       "    ...              ... ...                ...                ...\n",
       "5002979 SGA-2020 5002979 ... 146.70900655385535 14.354038202361883\n",
       "5002994 SGA-2020 5002994 ...  72.41767549081787  8.236664018292144\n",
       "5003004 SGA-2020 5003004 ... 60.448478426807355    7.7494506405248\n",
       "5003016 SGA-2020 5003016 ... 117.19120305255979  5.833898935408909\n",
       "5003025 SGA-2020 5003025 ...  46.88669883616818  7.917451718568092\n",
       "5003026 SGA-2020 5003026 ... 252.77498469165545 10.151335571330064\n",
       "5003042 SGA-2020 5003042 ... 137.60810216730812  17.35579749476484\n",
       "5003044 SGA-2020 5003044 ...  195.8725337040959 18.963723302702473\n",
       "5003075 SGA-2020 5003075 ... 113.97630250244593  6.691866417686977\n",
       "5003690 SGA-2020 5003690 ...  159.1082154250024  7.048339527367358"
      ]
     },
     "execution_count": 24,
     "metadata": {},
     "output_type": "execute_result"
    }
   ],
   "source": [
    "SGA_TF_jura"
   ]
  },
  {
   "cell_type": "code",
   "execution_count": 27,
   "id": "87111810-2092-4f54-91a8-343283f7f9f5",
   "metadata": {
    "tags": []
   },
   "outputs": [],
   "source": [
    "#When it is confirmed that this is a good file to go with, write to here\n",
    "\n",
    "# SGA_TF_jura.write('/global/cfs/cdirs/desi/science/td/pv/tfgalaxies/Y3/SGA-2020_jura_Vrot.fits', overwrite=True)\n",
    "# SGA_TF_jura.write('/global/cfs/cdirs/desi/science/td/pv/tfgalaxies/Y3/SGA-2020_jura_Vrot_VI.fits', \n",
    "#                   overwrite=True)"
   ]
  },
  {
   "cell_type": "code",
   "execution_count": 25,
   "id": "d8826352-99ca-4c2d-b4c8-605815c4d691",
   "metadata": {
    "tags": []
   },
   "outputs": [],
   "source": [
    "SGA_TF_jura.write('/global/homes/s/sgmoore1/DESI_SGA/TF/Y3/SGA-2020_jura_Vrot.fits', overwrite=True)"
   ]
  },
  {
   "cell_type": "code",
   "execution_count": 42,
   "id": "ad69fb6a-4b83-4ed4-8b12-7fd56888fcdb",
   "metadata": {},
   "outputs": [],
   "source": [
    "# SGA_TF_jura.write('/global/cfs/projectdirs/desi/science/td/pv/tfgalaxies/Y3/SGA-2020_jura_Vrot_VI.fits', overwrite=True)"
   ]
  },
  {
   "cell_type": "code",
   "execution_count": null,
   "id": "bf778a4c-2b4f-4bc1-912c-dfdc59dbb445",
   "metadata": {},
   "outputs": [],
   "source": []
  }
 ],
 "metadata": {
  "kernelspec": {
   "display_name": "DESI main",
   "language": "python",
   "name": "desi-main"
  },
  "language_info": {
   "codemirror_mode": {
    "name": "ipython",
    "version": 3
   },
   "file_extension": ".py",
   "mimetype": "text/x-python",
   "name": "python",
   "nbconvert_exporter": "python",
   "pygments_lexer": "ipython3",
   "version": "3.10.14"
  }
 },
 "nbformat": 4,
 "nbformat_minor": 5
}
