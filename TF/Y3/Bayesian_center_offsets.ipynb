{
 "cells": [
  {
   "cell_type": "markdown",
   "id": "38a37346-e41b-4597-b688-b934141fda5c",
   "metadata": {},
   "source": [
    "# Determining the offset between the observed center and the kinematic center of our galaxies"
   ]
  },
  {
   "cell_type": "markdown",
   "id": "4aef3cdf-bf1c-4f18-b607-7f904d5bb458",
   "metadata": {},
   "source": [
    "This notebook matches the spiral galaxies in our sample with galaxies in the MANGA sample with kinematic centers, so that we can see if there is a systematic offset in our placement of the center fiber."
   ]
  },
  {
   "cell_type": "code",
   "execution_count": 1,
   "id": "f78599d5-53eb-416c-acd1-f85e7efc5804",
   "metadata": {},
   "outputs": [],
   "source": [
    "from astropy.table import Table\n",
    "import numpy as np\n",
    "import matplotlib.pyplot as plt\n",
    "from astropy.coordinates import SkyCoord, Distance\n",
    "from astropy import units as u\n",
    "from astropy.cosmology import Planck18 as cosmo\n",
    "import os\n",
    "from pathlib import Path\n",
    "\n",
    "from astropy.table import Table, vstack, join, unique\n",
    "from astropy.coordinates import SkyCoord, Distance\n",
    "from astropy.cosmology import Planck18, LambdaCDM\n",
    "from astropy.wcs import WCS\n",
    "from astropy.visualization.wcsaxes import SphericalCircle\n",
    "from astropy import units as u\n",
    "from astropy import constants as c\n",
    "import requests\n",
    "import matplotlib as mpl\n",
    "import matplotlib.image as mpimg\n",
    "import math"
   ]
  },
  {
   "cell_type": "code",
   "execution_count": 2,
   "id": "28c45a37-7888-4b9b-9207-50a44c5700e5",
   "metadata": {},
   "outputs": [],
   "source": [
    "#### Read in file with galaxy kinematic centers from Nitya\n",
    "centers = Table.read('manga_kinematic_centers.fits')\n",
    "\n",
    "##### Read in the file with out rotational velocities\n",
    "gals = Table.read('SGA-2020_jura_Vrot_VI.fits')\n",
    "# gals = Table.read('SGA-2020_jura_Vrot_VI_ML_photocorr.fits')"
   ]
  },
  {
   "cell_type": "markdown",
   "id": "353cbd95-3f27-47ec-9827-4e42f8a9017c",
   "metadata": {},
   "source": [
    "### Get the center coordinates from each of out samples, and perform a sky match between the objects."
   ]
  },
  {
   "cell_type": "code",
   "execution_count": 3,
   "id": "70fd9c83-f659-46b4-822c-1a284750524b",
   "metadata": {},
   "outputs": [],
   "source": [
    "## Center coords from the MANGA data\n",
    "center_coords = SkyCoord(centers['objra'], centers['objdec'], unit='deg')\n",
    "\n",
    "## center coordinates from SGA sample\n",
    "gal_coords = SkyCoord(gals['RA'], gals['DEC'], unit='deg')\n",
    "\n",
    "match_ids, match_dist, _ = center_coords.match_to_catalog_sky(gal_coords)\n",
    "\n",
    "## Let's use these matches to add the group as a new column in our table\n",
    "centers['RA_matched'] = gals['RA'][match_ids]\n",
    "centers['DEC_matched']= gals['DEC'][match_ids]\n",
    "\n",
    "#### now let's get the relative separation which is the separation divided by R26\n",
    "centers['rel_sep'] = (2 * match_dist.to('arcmin')) / (gals['D26'][match_ids]*u.arcmin)"
   ]
  },
  {
   "cell_type": "code",
   "execution_count": 4,
   "id": "32613274-e3cc-461a-a6c9-4ecc164cfeba",
   "metadata": {},
   "outputs": [
    {
     "data": {
      "text/html": [
       "<div><i>Table length=5</i>\n",
       "<table id=\"table140683737265776\" class=\"table-striped table-bordered table-condensed\">\n",
       "<thead><tr><th>plateifu</th><th>objra</th><th>objdec</th><th>kin_center_ra</th><th>kin_center_dec</th><th>RA_matched</th><th>DEC_matched</th><th>rel_sep</th></tr></thead>\n",
       "<thead><tr><th></th><th></th><th></th><th></th><th></th><th></th><th></th><th></th></tr></thead>\n",
       "<thead><tr><th>bytes32</th><th>float64</th><th>float64</th><th>float64</th><th>float64</th><th>float64</th><th>float64</th><th>float64</th></tr></thead>\n",
       "<tr><td>10001-12701</td><td>133.371090612</td><td>57.5984251446</td><td>133.37136806524703</td><td>57.59884166593068</td><td>134.09733721776388</td><td>57.301339548059005</td><td>84.84654033972211</td></tr>\n",
       "<tr><td>10001-12702</td><td>133.685669869</td><td>57.4802503218</td><td>133.68566993942432</td><td>57.48011111099636</td><td>134.09733721776388</td><td>57.301339548059005</td><td>49.263806453234864</td></tr>\n",
       "<tr><td>10001-12703</td><td>136.017159969</td><td>57.0923291779</td><td>136.0171599858419</td><td>57.09232900000001</td><td>134.09733721776388</td><td>57.301339548059005</td><td>183.3687168447665</td></tr>\n",
       "<tr><td>10001-12704</td><td>133.989966869</td><td>57.6779676669</td><td>133.9899685430747</td><td>57.677829111002396</td><td>134.09733721776388</td><td>57.301339548059005</td><td>65.86152113535259</td></tr>\n",
       "<tr><td>10001-12705</td><td>136.75137451</td><td>57.4514369241</td><td>136.7513720835557</td><td>57.45129811100007</td><td>137.7136026125566</td><td>57.72460922169214</td><td>114.9746254598268</td></tr>\n",
       "</table></div>"
      ],
      "text/plain": [
       "<Table length=5>\n",
       "  plateifu      objra     ...    DEC_matched          rel_sep      \n",
       "                          ...                                      \n",
       "  bytes32      float64    ...      float64            float64      \n",
       "----------- ------------- ... ------------------ ------------------\n",
       "10001-12701 133.371090612 ... 57.301339548059005  84.84654033972211\n",
       "10001-12702 133.685669869 ... 57.301339548059005 49.263806453234864\n",
       "10001-12703 136.017159969 ... 57.301339548059005  183.3687168447665\n",
       "10001-12704 133.989966869 ... 57.301339548059005  65.86152113535259\n",
       "10001-12705  136.75137451 ...  57.72460922169214  114.9746254598268"
      ]
     },
     "execution_count": 4,
     "metadata": {},
     "output_type": "execute_result"
    }
   ],
   "source": [
    "centers[:5]"
   ]
  },
  {
   "cell_type": "code",
   "execution_count": 5,
   "id": "1c6d8e3b-ff8a-4302-bbe9-53a8635742b2",
   "metadata": {},
   "outputs": [
    {
     "data": {
      "image/png": "[encoded data removed]",
      "text/plain": [
       "<Figure size 640x480 with 1 Axes>"
      ]
     },
     "metadata": {},
     "output_type": "display_data"
    }
   ],
   "source": [
    "## plot a histogram of the separations that could possibly be matches\n",
    "plt.figure()\n",
    "plt.hist(centers['rel_sep'], bins=np.arange(0,1,0.01))\n",
    "plt.xlabel('Separation [R26]')\n",
    "plt.ylabel('Count')\n",
    "# plt.yscale('log')\n",
    "plt.show()"
   ]
  },
  {
   "cell_type": "markdown",
   "id": "e0137154-89aa-4260-b23c-64ec09c3e6d3",
   "metadata": {},
   "source": [
    "Based on the histogram and past VI, we have determined that 0.1R26 is a reasonable cut to make for actual galaxy matches."
   ]
  },
  {
   "cell_type": "code",
   "execution_count": 6,
   "id": "ab8eddc5-e4e3-4892-a95b-db815342c737",
   "metadata": {},
   "outputs": [],
   "source": [
    "close_matches = centers[centers['rel_sep'] <= 0.1]"
   ]
  },
  {
   "cell_type": "code",
   "execution_count": 7,
   "id": "a142f598-8b25-4272-b9f8-9eec0f84e4d0",
   "metadata": {},
   "outputs": [
    {
     "data": {
      "text/html": [
       "<div><i>Table length=5</i>\n",
       "<table id=\"table140682815154704\" class=\"table-striped table-bordered table-condensed\">\n",
       "<thead><tr><th>plateifu</th><th>objra</th><th>objdec</th><th>kin_center_ra</th><th>kin_center_dec</th><th>RA_matched</th><th>DEC_matched</th><th>rel_sep</th></tr></thead>\n",
       "<thead><tr><th></th><th></th><th></th><th></th><th></th><th></th><th></th><th></th></tr></thead>\n",
       "<thead><tr><th>bytes32</th><th>float64</th><th>float64</th><th>float64</th><th>float64</th><th>float64</th><th>float64</th><th>float64</th></tr></thead>\n",
       "<tr><td>10213-12702</td><td>124.272776248</td><td>43.3509915523</td><td>124.27264008762963</td><td>43.35085311084331</td><td>124.27268435330247</td><td>43.35103204129766</td><td>0.012129191087675047</td></tr>\n",
       "<tr><td>10214-12701</td><td>121.177734666</td><td>35.4005287119</td><td>121.17759197339105</td><td>35.400667888878004</td><td>121.17767250822992</td><td>35.400601910135634</td><td>0.006666757842071807</td></tr>\n",
       "<tr><td>10215-12702</td><td>121.466201503</td><td>37.5140925477</td><td>121.46633919981254</td><td>37.51409299987079</td><td>121.46622439654605</td><td>37.514043449418224</td><td>0.010880114094618686</td></tr>\n",
       "<tr><td>10215-12703</td><td>122.130636583</td><td>37.5865756841</td><td>122.13091706924595</td><td>37.586714888479584</td><td>122.13064132023531</td><td>37.586493584043595</td><td>0.007940161228619546</td></tr>\n",
       "<tr><td>10215-9101</td><td>121.561209049</td><td>37.6405216725</td><td>121.5612098020569</td><td>37.640522000000004</td><td>121.56109997638029</td><td>37.64046629109479</td><td>0.020058942579179583</td></tr>\n",
       "</table></div>"
      ],
      "text/plain": [
       "<Table length=5>\n",
       "  plateifu      objra     ...    DEC_matched           rel_sep       \n",
       "                          ...                                        \n",
       "  bytes32      float64    ...      float64             float64       \n",
       "----------- ------------- ... ------------------ --------------------\n",
       "10213-12702 124.272776248 ...  43.35103204129766 0.012129191087675047\n",
       "10214-12701 121.177734666 ... 35.400601910135634 0.006666757842071807\n",
       "10215-12702 121.466201503 ... 37.514043449418224 0.010880114094618686\n",
       "10215-12703 122.130636583 ... 37.586493584043595 0.007940161228619546\n",
       " 10215-9101 121.561209049 ...  37.64046629109479 0.020058942579179583"
      ]
     },
     "execution_count": 7,
     "metadata": {},
     "output_type": "execute_result"
    }
   ],
   "source": [
    "close_matches[:5]"
   ]
  },
  {
   "cell_type": "markdown",
   "id": "d33a2ad0-7799-4332-9a3a-61704b216894",
   "metadata": {},
   "source": [
    "### Now, let's find the distance between the kinematic center and the matched galaxy center"
   ]
  },
  {
   "cell_type": "code",
   "execution_count": 8,
   "id": "3078f0c5-ab5f-455d-a401-eda09182f08e",
   "metadata": {},
   "outputs": [],
   "source": [
    "## Kinematic centers\n",
    "center_coords = SkyCoord(centers['kin_center_ra'], centers['kin_center_dec'], unit='deg')\n",
    "\n",
    "## fiber center coordinates\n",
    "obs_coords = SkyCoord(centers['RA_matched'], centers['DEC_matched'], unit='deg')\n",
    "\n",
    "match_ids, match_dist, _ = center_coords.match_to_catalog_sky(obs_coords)\n"
   ]
  },
  {
   "cell_type": "code",
   "execution_count": 9,
   "id": "dc28e302-660e-4830-b762-75f1f2809198",
   "metadata": {},
   "outputs": [
    {
     "data": {
      "image/png": "[encoded data removed]",
      "text/plain": [
       "<Figure size 640x480 with 1 Axes>"
      ]
     },
     "metadata": {},
     "output_type": "display_data"
    }
   ],
   "source": [
    "## plot a histogram of the separations\n",
    "plt.figure()\n",
    "plt.hist(match_dist.to('arcmin'), bins=50)\n",
    "plt.xlabel('Separation (arcminutues)')\n",
    "# plt.yscale('log')\n",
    "plt.ylabel('Count')\n",
    "# plt.yscale('log')\n",
    "plt.show()"
   ]
  },
  {
   "cell_type": "code",
   "execution_count": 10,
   "id": "e56566ba-6a8c-4b35-b9ff-2dfec499d907",
   "metadata": {},
   "outputs": [
    {
     "name": "stdout",
     "output_type": "stream",
     "text": [
      "Median separation: 13.63633943592945 arcmin\n",
      "Mean separation: 17.35512380054286 arcmin\n"
     ]
    }
   ],
   "source": [
    "print(f'Median separation: {np.median(match_dist.to(\"arcmin\"))}')\n",
    "print(f'Mean separation: {np.mean(match_dist.to(\"arcmin\"))}')"
   ]
  },
  {
   "cell_type": "code",
   "execution_count": null,
   "id": "3ae89034-614b-4f86-a51a-dc5df261788c",
   "metadata": {},
   "outputs": [],
   "source": []
  }
 ],
 "metadata": {
  "kernelspec": {
   "display_name": "DESI main",
   "language": "python",
   "name": "desi-main"
  },
  "language_info": {
   "codemirror_mode": {
    "name": "ipython",
    "version": 3
   },
   "file_extension": ".py",
   "mimetype": "text/x-python",
   "name": "python",
   "nbconvert_exporter": "python",
   "pygments_lexer": "ipython3",
   "version": "3.10.14"
  }
 },
 "nbformat": 4,
 "nbformat_minor": 5
}
