{
 "cells": [
  {
   "cell_type": "markdown",
   "id": "26eeb91e-2d1b-45a4-90ff-35139f91870c",
   "metadata": {},
   "source": [
    "This notebook plays around with comparisons between the Bayesian and the Hyperfit analyses."
   ]
  },
  {
   "cell_type": "code",
   "execution_count": 7,
   "id": "1fb353e9-a0a6-4678-9094-6d915c586499",
   "metadata": {},
   "outputs": [],
   "source": [
    "from astropy.table import Table\n",
    "import numpy as np\n",
    "import matplotlib.pyplot as plt\n",
    "from astropy.coordinates import SkyCoord, Distance\n",
    "from astropy import units as u\n",
    "from astropy.cosmology import Planck18 as cosmo\n",
    "import os\n",
    "from pathlib import Path\n",
    "import glob\n",
    "import re\n",
    "import pickle"
   ]
  },
  {
   "cell_type": "code",
   "execution_count": 8,
   "id": "73ac4b0a-ae36-44b2-8fe2-9cdd2c41a6c7",
   "metadata": {
    "scrolled": true
   },
   "outputs": [
    {
     "data": {
      "text/html": [
       "<div><i>Table length=5</i>\n",
       "<table id=\"table140645320101936\" class=\"table-striped table-bordered table-condensed\">\n",
       "<thead><tr><th>SGA_ID</th><th>SGA_GALAXY</th><th>GALAXY</th><th>PGC</th><th>RA_LEDA</th><th>DEC_LEDA</th><th>MORPHTYPE</th><th>PA_LEDA</th><th>D25_LEDA</th><th>BA_LEDA</th><th>Z_LEDA</th><th>SB_D25_LEDA</th><th>MAG_LEDA</th><th>BYHAND</th><th>REF</th><th>GROUP_ID</th><th>GROUP_NAME</th><th>GROUP_MULT</th><th>GROUP_PRIMARY</th><th>GROUP_RA</th><th>GROUP_DEC</th><th>GROUP_DIAMETER</th><th>BRICKNAME</th><th>RA</th><th>DEC</th><th>D26</th><th>D26_REF</th><th>PA</th><th>BA</th><th>RA_MOMENT</th><th>DEC_MOMENT</th><th>SMA_MOMENT</th><th>G_SMA50</th><th>R_SMA50</th><th>Z_SMA50</th><th>SMA_SB22</th><th>SMA_SB22.5</th><th>SMA_SB23</th><th>SMA_SB23.5</th><th>SMA_SB24</th><th>SMA_SB24.5</th><th>SMA_SB25</th><th>SMA_SB25.5</th><th>SMA_SB26</th><th>G_MAG_SB22</th><th>R_MAG_SB22</th><th>Z_MAG_SB22</th><th>G_MAG_SB22.5</th><th>R_MAG_SB22.5</th><th>Z_MAG_SB22.5</th><th>G_MAG_SB23</th><th>R_MAG_SB23</th><th>Z_MAG_SB23</th><th>G_MAG_SB23.5</th><th>R_MAG_SB23.5</th><th>Z_MAG_SB23.5</th><th>G_MAG_SB24</th><th>R_MAG_SB24</th><th>Z_MAG_SB24</th><th>G_MAG_SB24.5</th><th>R_MAG_SB24.5</th><th>Z_MAG_SB24.5</th><th>G_MAG_SB25</th><th>R_MAG_SB25</th><th>Z_MAG_SB25</th><th>G_MAG_SB25.5</th><th>R_MAG_SB25.5</th><th>Z_MAG_SB25.5</th><th>G_MAG_SB26</th><th>R_MAG_SB26</th><th>Z_MAG_SB26</th><th>SMA_SB22_ERR</th><th>SMA_SB22.5_ERR</th><th>SMA_SB23_ERR</th><th>SMA_SB23.5_ERR</th><th>SMA_SB24_ERR</th><th>SMA_SB24.5_ERR</th><th>SMA_SB25_ERR</th><th>SMA_SB25.5_ERR</th><th>SMA_SB26_ERR</th><th>G_MAG_SB22_ERR</th><th>R_MAG_SB22_ERR</th><th>Z_MAG_SB22_ERR</th><th>G_MAG_SB22.5_ERR</th><th>R_MAG_SB22.5_ERR</th><th>Z_MAG_SB22.5_ERR</th><th>G_MAG_SB23_ERR</th><th>R_MAG_SB23_ERR</th><th>Z_MAG_SB23_ERR</th><th>G_MAG_SB23.5_ERR</th><th>R_MAG_SB23.5_ERR</th><th>Z_MAG_SB23.5_ERR</th><th>G_MAG_SB24_ERR</th><th>R_MAG_SB24_ERR</th><th>Z_MAG_SB24_ERR</th><th>G_MAG_SB24.5_ERR</th><th>R_MAG_SB24.5_ERR</th><th>Z_MAG_SB24.5_ERR</th><th>G_MAG_SB25_ERR</th><th>R_MAG_SB25_ERR</th><th>Z_MAG_SB25_ERR</th><th>G_MAG_SB25.5_ERR</th><th>R_MAG_SB25.5_ERR</th><th>Z_MAG_SB25.5_ERR</th><th>G_MAG_SB26_ERR</th><th>R_MAG_SB26_ERR</th><th>Z_MAG_SB26_ERR</th><th>G_COG_PARAMS_MTOT</th><th>G_COG_PARAMS_M0</th><th>G_COG_PARAMS_ALPHA1</th><th>G_COG_PARAMS_ALPHA2</th><th>G_COG_PARAMS_CHI2</th><th>R_COG_PARAMS_MTOT</th><th>R_COG_PARAMS_M0</th><th>R_COG_PARAMS_ALPHA1</th><th>R_COG_PARAMS_ALPHA2</th><th>R_COG_PARAMS_CHI2</th><th>Z_COG_PARAMS_MTOT</th><th>Z_COG_PARAMS_M0</th><th>Z_COG_PARAMS_ALPHA1</th><th>Z_COG_PARAMS_ALPHA2</th><th>Z_COG_PARAMS_CHI2</th><th>ELLIPSEBIT</th><th>Z_DESI</th><th>ZERR_DESI</th><th>PHOTSYS</th><th>V_0p4R26</th><th>V_0p4R26_err</th><th>D26_kpc</th><th>DIST_MAX</th><th>MAX_VOL_FRAC</th><th>MORPHTYPE_AI</th><th>G_MAG_SB26_CORR</th><th>R_MAG_SB26_CORR</th><th>Z_MAG_SB26_CORR</th><th>G_MAG_SB26_ERR_CORR</th><th>R_MAG_SB26_ERR_CORR</th><th>Z_MAG_SB26_ERR_CORR</th></tr></thead>\n",
       "<thead><tr><th></th><th></th><th></th><th></th><th></th><th></th><th></th><th></th><th></th><th></th><th></th><th></th><th></th><th></th><th></th><th></th><th></th><th></th><th></th><th></th><th></th><th></th><th></th><th></th><th></th><th></th><th></th><th></th><th></th><th></th><th></th><th></th><th></th><th></th><th></th><th></th><th></th><th></th><th></th><th></th><th></th><th></th><th></th><th></th><th></th><th></th><th></th><th></th><th></th><th></th><th></th><th></th><th></th><th></th><th></th><th></th><th></th><th></th><th></th><th></th><th></th><th></th><th></th><th></th><th></th><th></th><th></th><th></th><th></th><th></th><th></th><th></th><th></th><th></th><th></th><th></th><th></th><th></th><th></th><th></th><th></th><th></th><th></th><th></th><th></th><th></th><th></th><th></th><th></th><th></th><th></th><th></th><th></th><th></th><th></th><th></th><th></th><th></th><th></th><th></th><th></th><th></th><th></th><th></th><th></th><th></th><th></th><th></th><th></th><th></th><th></th><th></th><th></th><th></th><th></th><th></th><th></th><th></th><th></th><th></th><th></th><th></th><th></th><th></th><th></th><th></th><th></th><th></th><th>kpc</th><th>kpc</th><th></th><th></th><th></th><th></th><th></th><th></th><th></th><th></th></tr></thead>\n",
       "<thead><tr><th>float64</th><th>bytes16</th><th>bytes29</th><th>int64</th><th>float64</th><th>float64</th><th>bytes21</th><th>float32</th><th>float32</th><th>float32</th><th>float32</th><th>float32</th><th>float32</th><th>bool</th><th>bytes13</th><th>int64</th><th>bytes35</th><th>int16</th><th>bool</th><th>float64</th><th>float64</th><th>float32</th><th>bytes8</th><th>float64</th><th>float64</th><th>float32</th><th>bytes4</th><th>float32</th><th>float32</th><th>float64</th><th>float64</th><th>float32</th><th>float32</th><th>float32</th><th>float32</th><th>float32</th><th>float32</th><th>float32</th><th>float32</th><th>float32</th><th>float32</th><th>float32</th><th>float32</th><th>float32</th><th>float32</th><th>float32</th><th>float32</th><th>float32</th><th>float32</th><th>float32</th><th>float32</th><th>float32</th><th>float32</th><th>float32</th><th>float32</th><th>float32</th><th>float32</th><th>float32</th><th>float32</th><th>float32</th><th>float32</th><th>float32</th><th>float32</th><th>float32</th><th>float32</th><th>float32</th><th>float32</th><th>float32</th><th>float32</th><th>float32</th><th>float32</th><th>float32</th><th>float32</th><th>float32</th><th>float32</th><th>float32</th><th>float32</th><th>float32</th><th>float32</th><th>float32</th><th>float32</th><th>float32</th><th>float32</th><th>float32</th><th>float32</th><th>float32</th><th>float32</th><th>float32</th><th>float32</th><th>float32</th><th>float32</th><th>float32</th><th>float32</th><th>float32</th><th>float32</th><th>float32</th><th>float32</th><th>float32</th><th>float32</th><th>float32</th><th>float32</th><th>float32</th><th>float32</th><th>float32</th><th>float32</th><th>float32</th><th>float32</th><th>float32</th><th>float32</th><th>float32</th><th>float32</th><th>float32</th><th>float32</th><th>float32</th><th>float32</th><th>float32</th><th>float32</th><th>float32</th><th>float32</th><th>float32</th><th>float32</th><th>float32</th><th>int32</th><th>float64</th><th>float64</th><th>bytes1</th><th>float64</th><th>float64</th><th>float64</th><th>float64</th><th>float64</th><th>bytes10</th><th>float64</th><th>float64</th><th>float64</th><th>float64</th><th>float64</th><th>float64</th></tr></thead>\n",
       "<tr><td>32.0</td><td>SGA-2020 32</td><td>PGC2644444</td><td>2644444</td><td>212.02461</td><td>62.8385803</td><td>Sc</td><td>26.25</td><td>0.3758374</td><td>0.60255957</td><td>0.09556411</td><td>23.73748</td><td>17.234</td><td>False</td><td>LEDA-20181114</td><td>10</td><td>PGC2644444</td><td>1</td><td>True</td><td>212.02461</td><td>62.8385803</td><td>0.3758374</td><td>2122p627</td><td>212.02462598739942</td><td>62.838526399057336</td><td>0.68802845</td><td>SB26</td><td>22.800411</td><td>0.4168182</td><td>212.02444469714254</td><td>62.83861910315144</td><td>15.352884</td><td>7.5523267</td><td>7.0574827</td><td>6.552769</td><td>6.8422165</td><td>9.006861</td><td>11.119019</td><td>13.218836</td><td>14.83576</td><td>16.089632</td><td>17.419872</td><td>18.262827</td><td>20.640854</td><td>17.682621</td><td>16.800076</td><td>16.140163</td><td>17.36588</td><td>16.500635</td><td>15.859558</td><td>17.164816</td><td>16.315928</td><td>15.683345</td><td>17.029795</td><td>16.192858</td><td>15.569851</td><td>16.956533</td><td>16.127148</td><td>15.511885</td><td>16.912262</td><td>16.09487</td><td>15.481129</td><td>16.881954</td><td>16.068357</td><td>15.467079</td><td>16.868856</td><td>16.055609</td><td>15.458797</td><td>16.854921</td><td>16.045063</td><td>15.448293</td><td>0.076427355</td><td>0.10654599</td><td>0.14980716</td><td>0.14600274</td><td>0.17229652</td><td>0.11901944</td><td>0.1291893</td><td>0.1625502</td><td>0.3402725</td><td>0.028715666</td><td>0.03028943</td><td>0.031358354</td><td>0.026863642</td><td>0.028016893</td><td>0.029046243</td><td>0.025209688</td><td>0.026244337</td><td>0.027134262</td><td>0.023817942</td><td>0.024750203</td><td>0.025650727</td><td>0.022882456</td><td>0.023803992</td><td>0.024767375</td><td>0.022301689</td><td>0.023322092</td><td>0.02424668</td><td>0.02186869</td><td>0.022889571</td><td>0.023994846</td><td>0.021672187</td><td>0.022686103</td><td>0.023837518</td><td>0.02142763</td><td>0.022476751</td><td>0.023631034</td><td>16.8146</td><td>0.23519146</td><td>5.7815895</td><td>4.999612</td><td>0.39062694</td><td>16.011211</td><td>0.2319782</td><td>4.483918</td><td>4.8892393</td><td>0.2325632</td><td>15.429928</td><td>0.18450199</td><td>5.2820787</td><td>5.672057</td><td>0.13526808</td><td>0</td><td>0.09554957288202022</td><td>3.920136884954893e-05</td><td>N</td><td>264.4537334962159</td><td>14.504115936818195</td><td>61.38520459867993</td><td>1055133.9441178197</td><td>35.20151617603084</td><td>Spiral</td><td>16.02112155931592</td><td>15.39881034989059</td><td>14.99221526322663</td><td>0.1244484787332868</td><td>0.13444716677856366</td><td>0.16058218057353035</td></tr>\n",
       "<tr><td>38.0</td><td>SGA-2020 38</td><td>SDSSJ140638.88+393138.1</td><td>3558705</td><td>211.66194</td><td>39.5272341</td><td>S?</td><td>81.63</td><td>0.35318315</td><td>0.37757218</td><td>0.08108376</td><td>24.72948</td><td>18.361</td><td>False</td><td>LEDA-20181114</td><td>12</td><td>SDSSJ140638.88+393138.1</td><td>1</td><td>True</td><td>211.66194</td><td>39.5272341</td><td>0.35318315</td><td>2115p395</td><td>211.66203166014844</td><td>39.52724032794356</td><td>0.41757938</td><td>SB26</td><td>82.21093</td><td>0.41431504</td><td>211.6619547015994</td><td>39.52729608884245</td><td>8.520181</td><td>5.252184</td><td>4.0750155</td><td>3.3951538</td><td>3.3006833</td><td>4.4037066</td><td>5.5453897</td><td>6.693271</td><td>7.8023033</td><td>8.999919</td><td>10.213078</td><td>11.41192</td><td>12.527382</td><td>19.246052</td><td>18.406073</td><td>17.931826</td><td>18.841032</td><td>18.092857</td><td>17.659027</td><td>18.566164</td><td>17.886087</td><td>17.47688</td><td>18.383362</td><td>17.749825</td><td>17.355968</td><td>18.261652</td><td>17.655558</td><td>17.284552</td><td>18.168955</td><td>17.588947</td><td>17.231817</td><td>18.101948</td><td>17.547142</td><td>17.20673</td><td>18.055267</td><td>17.516266</td><td>17.18719</td><td>18.023865</td><td>17.497095</td><td>17.178627</td><td>0.041267984</td><td>0.058114093</td><td>0.082968995</td><td>0.08808186</td><td>0.099526815</td><td>0.11876543</td><td>0.11355961</td><td>0.14645264</td><td>0.17035669</td><td>0.028041152</td><td>0.045385383</td><td>0.052895926</td><td>0.02822557</td><td>0.041093465</td><td>0.04698563</td><td>0.027371243</td><td>0.038240846</td><td>0.043213904</td><td>0.026219657</td><td>0.03618844</td><td>0.04070005</td><td>0.025270721</td><td>0.034526117</td><td>0.039107796</td><td>0.024264116</td><td>0.033164512</td><td>0.03780495</td><td>0.02343744</td><td>0.03226152</td><td>0.037176747</td><td>0.022813411</td><td>0.031564914</td><td>0.036686495</td><td>0.022342678</td><td>0.031088097</td><td>0.03649375</td><td>17.87426</td><td>0.7614885</td><td>0.3679447</td><td>2.3644495</td><td>0.004768816</td><td>17.421976</td><td>0.45777154</td><td>0.33258685</td><td>2.8184628</td><td>0.021122098</td><td>17.150808</td><td>0.27153513</td><td>0.24329957</td><td>3.8143618</td><td>0.0151183605</td><td>0</td><td>0.08098921000640849</td><td>2.3652841625692014e-05</td><td>N</td><td>131.7204980109027</td><td>7.50267495258597</td><td>31.27043165841696</td><td>537499.1271222668</td><td>4.653415963388956</td><td>Spiral</td><td>17.195695182719824</td><td>16.78364852003902</td><td>16.73143556893021</td><td>0.12273287256742911</td><td>0.1357104353452215</td><td>0.16337025183876858</td></tr>\n",
       "<tr><td>53.0</td><td>SGA-2020 53</td><td>2MASXJ17023385+3640545</td><td>3389283</td><td>255.64105950000004</td><td>36.6817929</td><td>Sc</td><td>61.06</td><td>0.35809645</td><td>0.58344513</td><td>0.099020496</td><td>24.18748</td><td>17.789</td><td>False</td><td>LEDA-20181114</td><td>15</td><td>2MASXJ17023385+3640545</td><td>1</td><td>True</td><td>255.64105950000004</td><td>36.6817929</td><td>0.35809645</td><td>2555p367</td><td>255.6410175635765</td><td>36.68179095091098</td><td>0.38201582</td><td>SB26</td><td>59.253864</td><td>0.583645</td><td>255.64096140530728</td><td>36.68187229158973</td><td>9.901862</td><td>4.0760365</td><td>3.7421422</td><td>3.597797</td><td>4.6018367</td><td>5.578547</td><td>6.396601</td><td>7.156809</td><td>7.917724</td><td>8.656318</td><td>9.540839</td><td>10.444103</td><td>11.460475</td><td>18.079813</td><td>17.194258</td><td>16.611929</td><td>17.855059</td><td>17.00117</td><td>16.430384</td><td>17.730537</td><td>16.898685</td><td>16.33437</td><td>17.654907</td><td>16.839092</td><td>16.27649</td><td>17.605541</td><td>16.800901</td><td>16.237022</td><td>17.572424</td><td>16.775042</td><td>16.21075</td><td>17.54726</td><td>16.753338</td><td>16.189995</td><td>17.528898</td><td>16.74113</td><td>16.177568</td><td>17.51865</td><td>16.730833</td><td>16.169716</td><td>0.020986231</td><td>0.034068488</td><td>0.017396927</td><td>0.024216063</td><td>0.028976766</td><td>0.031180529</td><td>0.05268424</td><td>0.08073198</td><td>0.115541875</td><td>0.007864048</td><td>0.010676348</td><td>0.009370819</td><td>0.007926592</td><td>0.010011065</td><td>0.008700506</td><td>0.007939915</td><td>0.009750992</td><td>0.008414243</td><td>0.0077780616</td><td>0.009489916</td><td>0.008195838</td><td>0.007575348</td><td>0.0092413165</td><td>0.007951777</td><td>0.007406732</td><td>0.009067921</td><td>0.007830448</td><td>0.0072647426</td><td>0.008909598</td><td>0.0077000526</td><td>0.0071705673</td><td>0.008856049</td><td>0.007671429</td><td>0.007131124</td><td>0.008801767</td><td>0.007657998</td><td>17.493746</td><td>0.3738384</td><td>0.123585634</td><td>4.4130607</td><td>0.06395559</td><td>16.709053</td><td>0.4111703</td><td>0.095716566</td><td>4.0714164</td><td>0.048778836</td><td>16.148045</td><td>0.3341436</td><td>0.112932466</td><td>4.2279735</td><td>0.07390147</td><td>0</td><td>0.099164353071142</td><td>2.916812889645373e-05</td><td>N</td><td>269.3971746697042</td><td>9.026891141649168</td><td>35.457621840800236</td><td>609471.6247427192</td><td>6.784206492201513</td><td>Spiral</td><td>16.94552456957996</td><td>16.275697542579472</td><td>15.836890918748079</td><td>0.0872952228802033</td><td>0.0953915024876824</td><td>0.1143374497631338</td></tr>\n",
       "<tr><td>55.0</td><td>SGA-2020 55</td><td>PGC1203947</td><td>1203947</td><td>199.73061299999998</td><td>1.7263548999999998</td><td>S?</td><td>159.49</td><td>0.35156044</td><td>0.510505</td><td>0.04396308</td><td>24.60848</td><td>18.25</td><td>False</td><td>LEDA-20181114</td><td>17</td><td>PGC1203947</td><td>1</td><td>True</td><td>199.73061299999998</td><td>1.7263548999999998</td><td>0.35156044</td><td>1996p017</td><td>199.73062047638814</td><td>1.7262730115560398</td><td>0.4956815</td><td>SB26</td><td>160.63597</td><td>0.511194</td><td>199.7305377211278</td><td>1.7262556303464236</td><td>10.683119</td><td>7.5134478</td><td>7.237519</td><td>7.358609</td><td>1.0663536</td><td>2.4361885</td><td>4.5284705</td><td>6.209374</td><td>7.894941</td><td>9.662576</td><td>11.338187</td><td>13.058548</td><td>14.870445</td><td>21.586454</td><td>21.022594</td><td>20.5186</td><td>20.022512</td><td>19.486275</td><td>19.047207</td><td>19.079992</td><td>18.56653</td><td>18.196766</td><td>18.698801</td><td>18.197613</td><td>17.858175</td><td>18.461773</td><td>17.962809</td><td>17.637083</td><td>18.290697</td><td>17.804535</td><td>17.48882</td><td>18.184755</td><td>17.702862</td><td>17.391363</td><td>18.108042</td><td>17.630135</td><td>17.322704</td><td>18.062273</td><td>17.58211</td><td>17.270563</td><td>0.021755822</td><td>0.038157243</td><td>0.04157986</td><td>0.08506337</td><td>0.09445482</td><td>0.12531056</td><td>0.13733958</td><td>0.123995595</td><td>0.12832229</td><td>0.04457232</td><td>0.04439948</td><td>0.07058882</td><td>0.025476964</td><td>0.026438117</td><td>0.038408875</td><td>0.019658687</td><td>0.02046595</td><td>0.025474863</td><td>0.017983157</td><td>0.018753268</td><td>0.022374356</td><td>0.017475583</td><td>0.01794357</td><td>0.02073173</td><td>0.01711202</td><td>0.017407436</td><td>0.019818878</td><td>0.016593343</td><td>0.016929915</td><td>0.018991327</td><td>0.016066696</td><td>0.016367108</td><td>0.018504865</td><td>0.015716974</td><td>0.015961537</td><td>0.018187799</td><td>17.750465</td><td>1.2892414</td><td>0.49991378</td><td>1.6126304</td><td>1.257941</td><td>17.28831</td><td>1.2717371</td><td>0.47907558</td><td>1.6136137</td><td>0.81320935</td><td>16.944408</td><td>1.4179186</td><td>0.44993672</td><td>1.4420404</td><td>0.5220518</td><td>0</td><td>0.044001545059768436</td><td>2.5822295710276416e-05</td><td>S</td><td>85.03888780486824</td><td>6.124721468715481</td><td>19.651809272279756</td><td>337789.7192340316</td><td>1.1549890528326399</td><td>Spiral</td><td>17.319360488507897</td><td>16.933866379400715</td><td>16.851619329402222</td><td>0.10084527425825389</td><td>0.11025944828069938</td><td>0.13312813784448674</td></tr>\n",
       "<tr><td>63.0</td><td>SGA-2020 63</td><td>PGC1602229</td><td>1602229</td><td>234.8751135</td><td>19.697651500000003</td><td>S?</td><td>168.56</td><td>0.4655861</td><td>0.33884415</td><td>0.045484465</td><td>25.16348</td><td>18.195</td><td>False</td><td>LEDA-20181114</td><td>18</td><td>PGC1602229</td><td>1</td><td>True</td><td>234.8751135</td><td>19.697651500000003</td><td>0.4655861</td><td>2350p197</td><td>234.87534259414386</td><td>19.697185738728333</td><td>0.6503176</td><td>SB26</td><td>166.3003</td><td>0.27058077</td><td>234.87530461295447</td><td>19.697066579424625</td><td>11.18636</td><td>9.540775</td><td>10.65305</td><td>9.591725</td><td>2.970902</td><td>5.761996</td><td>8.804666</td><td>11.941835</td><td>14.460548</td><td>15.860096</td><td>17.551657</td><td>18.71841</td><td>19.50953</td><td>20.006403</td><td>19.441755</td><td>19.03366</td><td>18.923996</td><td>18.360247</td><td>17.927858</td><td>18.28981</td><td>17.753086</td><td>17.370296</td><td>17.899</td><td>17.454376</td><td>17.09524</td><td>17.700842</td><td>17.263668</td><td>16.942326</td><td>17.614803</td><td>17.174807</td><td>16.876553</td><td>17.548824</td><td>17.104845</td><td>16.819206</td><td>17.540318</td><td>17.090849</td><td>16.799608</td><td>17.52737</td><td>17.081161</td><td>16.791212</td><td>0.10511215</td><td>0.11880484</td><td>0.16999497</td><td>0.24010491</td><td>0.3257525</td><td>0.40032467</td><td>0.09051673</td><td>0.34727</td><td>0.17063652</td><td>0.08399079</td><td>0.08636947</td><td>0.08877438</td><td>0.059620954</td><td>0.061386008</td><td>0.06400586</td><td>0.049017586</td><td>0.051424064</td><td>0.054133862</td><td>0.042656086</td><td>0.044642214</td><td>0.046909813</td><td>0.038752384</td><td>0.04045277</td><td>0.042913344</td><td>0.037057485</td><td>0.038601525</td><td>0.041302845</td><td>0.03569574</td><td>0.037048567</td><td>0.03977621</td><td>0.03539381</td><td>0.036562823</td><td>0.03916474</td><td>0.035100136</td><td>0.03637159</td><td>0.03895229</td><td>17.423037</td><td>0.3653335</td><td>5.571077</td><td>4.382742</td><td>0.55165875</td><td>16.792454</td><td>0.791286</td><td>1.8291132</td><td>2.2295098</td><td>1.101746</td><td>16.532091</td><td>1.030897</td><td>0.99205023</td><td>1.9291406</td><td>0.27314395</td><td>0</td><td>0.045345474270714135</td><td>2.4438602114550695e-05</td><td>S</td><td>92.88121708003851</td><td>5.648939186871361</td><td>26.59563265858235</td><td>457145.2513161804</td><td>2.8628673384125665</td><td>Spiral</td><td>16.419126105606555</td><td>16.17437105551362</td><td>16.202853969186545</td><td>0.15056282842620478</td><td>0.16591612356457702</td><td>0.2003820084306278</td></tr>\n",
       "</table></div>"
      ],
      "text/plain": [
       "<Table length=5>\n",
       " SGA_ID  SGA_GALAXY ... R_MAG_SB26_ERR_CORR Z_MAG_SB26_ERR_CORR\n",
       "                    ...                                        \n",
       "float64   bytes16   ...       float64             float64      \n",
       "------- ----------- ... ------------------- -------------------\n",
       "   32.0 SGA-2020 32 ... 0.13444716677856366 0.16058218057353035\n",
       "   38.0 SGA-2020 38 ...  0.1357104353452215 0.16337025183876858\n",
       "   53.0 SGA-2020 53 ...  0.0953915024876824  0.1143374497631338\n",
       "   55.0 SGA-2020 55 ... 0.11025944828069938 0.13312813784448674\n",
       "   63.0 SGA-2020 63 ... 0.16591612356457702  0.2003820084306278"
      ]
     },
     "execution_count": 8,
     "metadata": {},
     "output_type": "execute_result"
    }
   ],
   "source": [
    "#Read in the table of rotational velocities post all quality and morphology cuts\n",
    "tjura = Table.read('SGA-2020_jura_Vrot_VI_ML_photocorr.fits')\n",
    "tjura[:5]"
   ]
  },
  {
   "cell_type": "markdown",
   "id": "42b9ad2b-d2f1-4c44-b719-258412ec7374",
   "metadata": {},
   "source": [
    "## Making bowtie plots"
   ]
  },
  {
   "cell_type": "code",
   "execution_count": null,
   "id": "c4d736d2-749e-4043-9bcb-751bbcb1ff8a",
   "metadata": {},
   "outputs": [],
   "source": []
  },
  {
   "cell_type": "code",
   "execution_count": 9,
   "id": "f9757c07-619d-4c02-ba8a-7ea0158a41c7",
   "metadata": {},
   "outputs": [],
   "source": [
    "def plot_bowties_from_pickles(pickle_files, labels=None, colors=None, output_path=\"bowtie_compare.png\", logV_lines=False):\n",
    "    if labels is None:\n",
    "        labels = [f\"Model {i+1}\" for i in range(len(pickle_files))]\n",
    "    if colors is None:\n",
    "        colors = [\"tab:orange\", \"tab:blue\", \"tab:green\"]\n",
    "\n",
    "    fig, ax = plt.subplots(figsize=(8, 8))\n",
    "\n",
    "    x_vals = np.linspace(10, 1000, 200)\n",
    "    logx = np.log10(x_vals)\n",
    "\n",
    "    for i, pickle_file in enumerate(pickle_files):\n",
    "        with open(pickle_file, \"rb\") as f:\n",
    "            cov, samples, logV0 = pickle.load(f)\n",
    "\n",
    "        a_samples = samples.T[:, 0]\n",
    "        b0_samples = samples.T[:, 1]\n",
    "        b_samples = b0_samples - a_samples * logV0\n",
    "\n",
    "        # Compute predicted y for all samples\n",
    "        Y = np.array([b + a * logx for a, b in zip(a_samples, b_samples)])\n",
    "\n",
    "        # Calculate percentiles for 68% confidence band\n",
    "        lower = np.percentile(Y, 16, axis=0)\n",
    "        upper = np.percentile(Y, 84, axis=0)\n",
    "        median = np.percentile(Y, 50, axis=0)\n",
    "\n",
    "        # Plot median line\n",
    "        ax.plot(x_vals, median, color=colors[i], label=labels[i], linewidth=2)\n",
    "\n",
    "        # Fill confidence band with transparency\n",
    "        ax.fill_between(x_vals, lower, upper, color=colors[i], alpha=0.3)\n",
    "\n",
    "\n",
    "\n",
    "    ax.set_xscale('log', base=10)\n",
    "    ax.set_xlabel(r\"$\\log V_{rot}$\", fontsize=18)\n",
    "    ax.set_ylabel(\"Absolute Magnitude\", fontsize=18)\n",
    "    ax.invert_yaxis()\n",
    "    ax.legend(fontsize=14)\n",
    "\n",
    "    fig.tight_layout()\n",
    "    fig.savefig(output_path, dpi=150)\n",
    "    plt.close(fig)\n",
    "    print(f\"Saved bowtie comparison to {output_path}\")\n"
   ]
  },
  {
   "cell_type": "code",
   "execution_count": 4,
   "id": "bae93c62-0846-43ff-b901-9d727cbcc173",
   "metadata": {},
   "outputs": [],
   "source": [
    "# pickle_paths = [\n",
    "#     \"cov_ab_jura_jointTFR_varyV0_binaryML_weightsVmax-1_williams_v2.pickle\",\n",
    "#     \"cov_ab_jura_jointTFR_varyV0_binaryML_weightsVmax-1_Tully_nooverlaps_v2.pickle\",\n",
    "#     \"cov_ab_jura_jointTFR_varyV0_binaryML_weightsVmax-1_Tully_full_lessdwarves.pickle\"\n",
    "# ]\n",
    "\n",
    "# plot_bowties_from_pickles(\n",
    "#     pickle_files=pickle_paths,\n",
    "#     labels=[\"Williams\", \"Tully (No Overlapping Clusters)\", \"Tully (All Clusters)\"],\n",
    "#     colors=[\"tab:orange\", \"tab:blue\", \"tab:green\"],\n",
    "#     output_path=\"bowtie_compare_v2.png\",\n",
    "# )\n"
   ]
  },
  {
   "cell_type": "markdown",
   "id": "587fa9ed-b107-454e-a7a8-5ffe97f3fd0c",
   "metadata": {},
   "source": [
    "## Trying to make comparable Hyperfit intercept"
   ]
  },
  {
   "cell_type": "code",
   "execution_count": 10,
   "id": "7f6e57ae-fb3d-462f-a79c-cadde956b96f",
   "metadata": {},
   "outputs": [],
   "source": [
    "#### Read in the covariance matrix with all of the clusters\n",
    "\n",
    "with open(\"/global/cfs/cdirs/desi/science/td/pv/tfgalaxies/Y3/cov_ab_jura_jointTFR_varyV0_binaryML_weightsVmax-1_Tully_full_lessdwarves.pickle\", \"rb\") as f:\n",
    "            cov, samples, logV0 = pickle.load(f)\n",
    "\n",
    "b_vals=[]\n",
    "for i in range(len(samples)-3): #since slope, zero-pt, and scatter also in there:\n",
    "    b_vals.append(np.median(samples.T[:, i+2]))\n",
    "\n",
    "b_original = np.median(samples.T[:, 1])"
   ]
  },
  {
   "cell_type": "code",
   "execution_count": 11,
   "id": "610a3dc4-b314-4e80-8b70-25558b9c7f84",
   "metadata": {},
   "outputs": [
    {
     "data": {
      "text/plain": [
       "[14.877168717970912,\n",
       " 15.191988580310168,\n",
       " 15.266678590832448,\n",
       " 14.820293733563254,\n",
       " 15.089918341633151,\n",
       " 15.381082124730428,\n",
       " 14.936510895707361,\n",
       " 16.316725031916675,\n",
       " 14.934450181061816,\n",
       " 14.899624158476838,\n",
       " 14.91178247076206,\n",
       " 15.679449987174777,\n",
       " 15.229550601562625,\n",
       " 16.696884599223978,\n",
       " 15.901216525798253,\n",
       " 16.5871075497935,\n",
       " 15.936758086157306,\n",
       " 13.927903135663483,\n",
       " 15.167684286863363,\n",
       " 14.888266288246497,\n",
       " 16.463181089302726,\n",
       " 12.086857250148936]"
      ]
     },
     "execution_count": 11,
     "metadata": {},
     "output_type": "execute_result"
    }
   ],
   "source": [
    "b_vals"
   ]
  },
  {
   "cell_type": "code",
   "execution_count": 12,
   "id": "8457df7c-135d-4938-9b3b-654167bf399e",
   "metadata": {},
   "outputs": [],
   "source": [
    "##### Figure out which clusters those were and record their distance moduli\n",
    "table = Table.read(\"Tully_Kourchi_combined.fits\")\n",
    "tully_df = table.to_pandas()\n",
    "\n",
    "DM=[]\n",
    "for fn in glob.glob(\"tully_full/output_*.txt\"):\n",
    "    Nest = re.search('output_(.+?).txt',fn).group(1)  # number of the galaxy\n",
    "    mu_ = tully_df.loc[tully_df[\"Nest\"]==int(Nest)][\"DM\"].values[0]\n",
    "    DM.append(mu_)"
   ]
  },
  {
   "cell_type": "code",
   "execution_count": 13,
   "id": "930da706-8c65-4c32-8516-243ccfa0a771",
   "metadata": {},
   "outputs": [
    {
     "name": "stdout",
     "output_type": "stream",
     "text": [
      "For Tully:\n",
      "Original Hyperfit zero point: -20.717\n",
      "Directly comparable zero point: -20.033\n",
      "Bayesian zero point: -19.438\n"
     ]
    }
   ],
   "source": [
    "###### Subtract off the distance moduli for each cluster, and calculate the mean\n",
    "absmag = np.array(b_vals) - np.array(DM)\n",
    "b0 = np.mean(absmag)\n",
    "print('For Tully:')\n",
    "print(f'Original Hyperfit zero point: {b_original:.3f}')\n",
    "print(f'Directly comparable zero point: {b0:.3f}')\n",
    "print(f'Bayesian zero point: -19.438') #Manually checked this val"
   ]
  },
  {
   "cell_type": "code",
   "execution_count": 15,
   "id": "f24f1502-a459-4e1f-b9f5-600eed048694",
   "metadata": {},
   "outputs": [
    {
     "name": "stdout",
     "output_type": "stream",
     "text": [
      "For Williams:\n",
      "Original Hyperfit zero point: -20.354\n",
      "Directly comparable zero point: -20.571\n",
      "Bayesian zero point: -19.857\n"
     ]
    }
   ],
   "source": [
    "##### Redoing for williams (since the DM definition is different):\n",
    "table = Table.read('/global/homes/s/sgmoore1/DESI_SGA/TF/Y3/Williams_group_catalog_Y3.fits')\n",
    "df = table.to_pandas()\n",
    "\n",
    "with open(\"/global/cfs/cdirs/desi/science/td/pv/tfgalaxies/Y3/cov_ab_jura_jointTFR_varyV0_binaryML_weightsVmax-1_williams_v2.pickle\", \"rb\") as f:\n",
    "            cov, samples, logV0 = pickle.load(f)\n",
    "\n",
    "b_vals=[]\n",
    "for i in range(len(samples)-3): #since slope, zero-pt, and scatter also in there:\n",
    "    b_vals.append(np.median(samples.T[:, i+2]))\n",
    "\n",
    "b_original = np.median(samples.T[:, 1])\n",
    "\n",
    "DM=[]\n",
    "for fn in glob.glob(\"williams/output_*.txt\"):\n",
    "    Nest = re.search('output_(.+?).txt',fn).group(1)  # number of the galaxy\n",
    "    ### to get mu for the cluster, we will use the astropy distmod function using the Planck18 cosmology, based on the median redshift of the cluster\n",
    "\n",
    "    median_z = df.loc[df[\"IGRP\"] == int(Nest), \"Z\"].median()\n",
    "    # print(Nest, median_z)\n",
    "    mu_ = (cosmo.distmod(median_z)).value\n",
    "    DM.append(mu_)\n",
    "\n",
    "\n",
    "absmag = np.array(b_vals) - np.array(DM)\n",
    "b0 = np.mean(absmag)\n",
    "print('For Williams:')\n",
    "print(f'Original Hyperfit zero point: {b_original:.3f}')\n",
    "print(f'Directly comparable zero point: {b0:.3f}')\n",
    "print(f'Bayesian zero point: -19.857') #manually checked this val"
   ]
  },
  {
   "cell_type": "code",
   "execution_count": null,
   "id": "8dea2300-1e39-433f-ab0d-c5ee7b03b7f4",
   "metadata": {},
   "outputs": [],
   "source": []
  }
 ],
 "metadata": {
  "kernelspec": {
   "display_name": "DESI main",
   "language": "python",
   "name": "desi-main"
  },
  "language_info": {
   "codemirror_mode": {
    "name": "ipython",
    "version": 3
   },
   "file_extension": ".py",
   "mimetype": "text/x-python",
   "name": "python",
   "nbconvert_exporter": "python",
   "pygments_lexer": "ipython3",
   "version": "3.10.14"
  }
 },
 "nbformat": 4,
 "nbformat_minor": 5
}
