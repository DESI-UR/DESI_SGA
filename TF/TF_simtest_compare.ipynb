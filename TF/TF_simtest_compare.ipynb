{
 "cells": [
  {
   "cell_type": "markdown",
   "id": "897d5213-2145-44b7-814a-d5e5b11f3f2a",
   "metadata": {},
   "source": [
    "How do my fits for Segev's mock TFRs compare to Alex's?"
   ]
  },
  {
   "cell_type": "code",
   "execution_count": 1,
   "id": "e04f4a63-cc81-46f9-9f33-e9f27fc05d4e",
   "metadata": {
    "tags": []
   },
   "outputs": [],
   "source": [
    "from astropy.table import Table\n",
    "\n",
    "import matplotlib.pyplot as plt"
   ]
  },
  {
   "cell_type": "markdown",
   "id": "21d4379c-6fee-4f84-a118-a561ab4d9fd9",
   "metadata": {},
   "source": [
    "# Fit results"
   ]
  },
  {
   "cell_type": "code",
   "execution_count": 8,
   "id": "9cd3ff05-d871-4a60-9739-d66df36588d0",
   "metadata": {
    "tags": []
   },
   "outputs": [
    {
     "data": {
      "text/html": [
       "<div><i>Table length=5</i>\n",
       "<table id=\"table140066358542240\" class=\"table-striped table-bordered table-condensed\">\n",
       "<thead><tr><th>test</th><th>slope</th><th>slope_err</th><th>y_int</th><th>y_int_err</th><th>scatter</th></tr></thead>\n",
       "<thead><tr><th>int64</th><th>float64</th><th>float64</th><th>float64</th><th>float64</th><th>float64</th></tr></thead>\n",
       "<tr><td>1</td><td>-5.66982334629205</td><td>0.3229344026663364</td><td>12.531912198025875</td><td>0.19126474982494407</td><td>0.11204729380555818</td></tr>\n",
       "<tr><td>2</td><td>-5.797223450693212</td><td>0.36478330104584106</td><td>12.040834146410614</td><td>0.23648441158964098</td><td>0.13069039772066995</td></tr>\n",
       "<tr><td>3</td><td>-5.110258387235348</td><td>0.3265382104532483</td><td>12.46728316934328</td><td>0.19628623627412597</td><td>0.12582188420128734</td></tr>\n",
       "<tr><td>4</td><td>-5.963178238478099</td><td>0.47840470841972726</td><td>12.019383737841817</td><td>0.33809562669178195</td><td>0.147153729589086</td></tr>\n",
       "<tr><td>5</td><td>-5.613637766880529</td><td>0.41498569104795147</td><td>12.428043618823835</td><td>0.30110636534299334</td><td>0.15366944433902668</td></tr>\n",
       "</table></div>"
      ],
      "text/plain": [
       "<Table length=5>\n",
       " test       slope        ...      y_int_err            scatter      \n",
       "int64      float64       ...       float64             float64      \n",
       "----- ------------------ ... ------------------- -------------------\n",
       "    1  -5.66982334629205 ... 0.19126474982494407 0.11204729380555818\n",
       "    2 -5.797223450693212 ... 0.23648441158964098 0.13069039772066995\n",
       "    3 -5.110258387235348 ... 0.19628623627412597 0.12582188420128734\n",
       "    4 -5.963178238478099 ... 0.33809562669178195   0.147153729589086\n",
       "    5 -5.613637766880529 ... 0.30110636534299334 0.15366944433902668"
      ]
     },
     "execution_count": 8,
     "metadata": {},
     "output_type": "execute_result"
    }
   ],
   "source": [
    "kelly = Table.read('SGA_TFR_simtest_hyperfit_results.txt', format='ascii.commented_header')\n",
    "\n",
    "kelly[:5]"
   ]
  },
  {
   "cell_type": "code",
   "execution_count": 9,
   "id": "2dda3fb7-48d9-4cb9-87c2-424dc818521a",
   "metadata": {
    "tags": []
   },
   "outputs": [
    {
     "data": {
      "text/html": [
       "<div><i>Table length=5</i>\n",
       "<table id=\"table140067176876160\" class=\"table-striped table-bordered table-condensed\">\n",
       "<thead><tr><th>test</th><th>slope</th><th>col3</th><th>col4</th><th>col5</th><th>col6</th><th>col7</th><th>col8</th><th>col9</th><th>col10</th></tr></thead>\n",
       "<thead><tr><th>int64</th><th>float64</th><th>float64</th><th>float64</th><th>float64</th><th>float64</th><th>float64</th><th>int64</th><th>int64</th><th>float64</th></tr></thead>\n",
       "<tr><td>1</td><td>-6.0</td><td>0.001</td><td>0.023</td><td>-6.0</td><td>-6.0</td><td>-5.9</td><td>512</td><td>197</td><td>1.0</td></tr>\n",
       "<tr><td>2</td><td>-5.7</td><td>0.002</td><td>0.033</td><td>-5.8</td><td>-5.7</td><td>-5.7</td><td>290</td><td>64</td><td>1.0</td></tr>\n",
       "<tr><td>3</td><td>-4.6</td><td>0.00083</td><td>0.019</td><td>-4.6</td><td>-4.6</td><td>-4.5</td><td>549</td><td>47</td><td>1.0</td></tr>\n",
       "<tr><td>4</td><td>-5.2</td><td>0.00068</td><td>0.029</td><td>-5.3</td><td>-5.2</td><td>-5.2</td><td>1810</td><td>81</td><td>1.0</td></tr>\n",
       "<tr><td>5</td><td>-3.4</td><td>0.0017</td><td>0.024</td><td>-3.5</td><td>-3.4</td><td>-3.4</td><td>191</td><td>71</td><td>1.0</td></tr>\n",
       "</table></div>"
      ],
      "text/plain": [
       "<Table length=5>\n",
       " test  slope    col3    col4    col5    col6    col7   col8  col9  col10 \n",
       "int64 float64 float64 float64 float64 float64 float64 int64 int64 float64\n",
       "----- ------- ------- ------- ------- ------- ------- ----- ----- -------\n",
       "    1    -6.0   0.001   0.023    -6.0    -6.0    -5.9   512   197     1.0\n",
       "    2    -5.7   0.002   0.033    -5.8    -5.7    -5.7   290    64     1.0\n",
       "    3    -4.6 0.00083   0.019    -4.6    -4.6    -4.5   549    47     1.0\n",
       "    4    -5.2 0.00068   0.029    -5.3    -5.2    -5.2  1810    81     1.0\n",
       "    5    -3.4  0.0017   0.024    -3.5    -3.4    -3.4   191    71     1.0"
      ]
     },
     "execution_count": 9,
     "metadata": {},
     "output_type": "execute_result"
    }
   ],
   "source": [
    "alex = Table.read('SGA_TFR_simtest_Alex_results.txt', format='ascii.no_header')\n",
    "\n",
    "alex['col1'].name = 'test'\n",
    "alex['col2'].name = 'slope'\n",
    "\n",
    "alex[:5]"
   ]
  },
  {
   "cell_type": "markdown",
   "id": "39b62535-ecfb-4bd7-a87c-f7fd7c81d27d",
   "metadata": {},
   "source": [
    "# Compare slopes"
   ]
  },
  {
   "cell_type": "code",
   "execution_count": 21,
   "id": "20c13846-d7cd-48b3-b35e-c2ecf53c7634",
   "metadata": {
    "tags": []
   },
   "outputs": [
    {
     "data": {
      "image/png": "[encoded data removed]",
      "text/plain": [
       "<Figure size 640x480 with 1 Axes>"
      ]
     },
     "metadata": {},
     "output_type": "display_data"
    }
   ],
   "source": [
    "plt.figure(tight_layout=True)\n",
    "\n",
    "plt.errorbar(kelly['slope'], alex['slope'], \n",
    "             xerr=kelly['slope_err'], \n",
    "             fmt='o')\n",
    "\n",
    "plt.plot([-10, 0], [-10, 0], 'k:')\n",
    "\n",
    "plt.gca().set_aspect('equal', 'box')\n",
    "\n",
    "plt.gca().set(xlim=(-8, -3), ylim=(-8, -3))\n",
    "\n",
    "plt.xlabel('Kelly')\n",
    "plt.ylabel('Alex');"
   ]
  },
  {
   "cell_type": "code",
   "execution_count": null,
   "id": "71f4872d-1f7f-45ba-bcd6-e6b79950c024",
   "metadata": {},
   "outputs": [],
   "source": []
  }
 ],
 "metadata": {
  "kernelspec": {
   "display_name": "DESI main",
   "language": "python",
   "name": "desi-main"
  },
  "language_info": {
   "codemirror_mode": {
    "name": "ipython",
    "version": 3
   },
   "file_extension": ".py",
   "mimetype": "text/x-python",
   "name": "python",
   "nbconvert_exporter": "python",
   "pygments_lexer": "ipython3",
   "version": "3.10.8"
  }
 },
 "nbformat": 4,
 "nbformat_minor": 5
}
