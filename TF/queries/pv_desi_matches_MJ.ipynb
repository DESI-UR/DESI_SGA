{
 "cells": [
  {
   "cell_type": "markdown",
   "id": "cc54687f-dc38-4a05-abaa-64a9b2248dbe",
   "metadata": {},
   "source": [
    "# DESI PV Survey Target Matches\n",
    "\n",
    "Grab the list of targets from the DESI PV survey that are available in some spectroscopic reduction, which can be specified by the user.\n",
    "\n",
    "The list of PV secondary targets is provided in a set of FITS files produced by [Khaled Said](mailto:k.saidahmedsoliman@uq.edu.au) in the folder `/global/homes/k/ksaid/desi_pv/savepath_dr9_corr` at NERSC.\n",
    "\n",
    "DESI observations are taken from the [redshift database](https://desi.lbl.gov/trac/wiki/DESIDatabase) maintained at NERSC by Rob Knop."
   ]
  },
  {
   "cell_type": "markdown",
   "id": "63daa104-6e23-4a3a-aa84-d30d132bef84",
   "metadata": {},
   "source": [
    "_Updating to include iron. Password not available. Contacting Segev BenZvi for password/testing._"
   ]
  },
  {
   "cell_type": "code",
   "execution_count": 1,
   "id": "1b036800-a800-438d-b1ca-18400628e8ff",
   "metadata": {},
   "outputs": [
    {
     "name": "stdout",
     "output_type": "stream",
     "text": [
      "DEBUG: Read templates from /global/common/software/desi/perlmutter/desiconda/20230111-2.1.0/code/redrock-templates/main\n",
      "DEBUG: Using default redshift range -0.0050-1.6997 for rrtemplate-galaxy.fits\n",
      "DEBUG: Using redshift range 1.4000-6.9930 for rrtemplate-qso-HIZ.fits\n",
      "DEBUG: Using redshift range 0.0500-1.5983 for rrtemplate-qso-LOZ.fits\n",
      "DEBUG: Using default redshift range -0.0020-0.0020 for rrtemplate-star-A.fits\n",
      "DEBUG: Using default redshift range -0.0020-0.0020 for rrtemplate-star-B.fits\n",
      "DEBUG: Using default redshift range -0.0020-0.0020 for rrtemplate-star-CV.fits\n",
      "DEBUG: Using default redshift range -0.0020-0.0020 for rrtemplate-star-F.fits\n",
      "DEBUG: Using default redshift range -0.0020-0.0020 for rrtemplate-star-G.fits\n",
      "DEBUG: Using default redshift range -0.0020-0.0020 for rrtemplate-star-K.fits\n",
      "DEBUG: Using default redshift range -0.0020-0.0020 for rrtemplate-star-M.fits\n",
      "DEBUG: Using default redshift range -0.0020-0.0020 for rrtemplate-star-WD.fits\n"
     ]
    }
   ],
   "source": [
    "from desispec.io import read_spectra\n",
    "from desispec.coaddition import coadd_cameras\n",
    "from desispec.interpolation import resample_flux\n",
    "from desispec.resolution import Resolution\n",
    "\n",
    "import redrock.templates\n",
    "\n",
    "rrtemplates = dict()\n",
    "for filename in redrock.templates.find_templates():\n",
    "    t = redrock.templates.Template(filename)\n",
    "    rrtemplates[(t.template_type, t.sub_type)] = t\n",
    "\n",
    "from astropy import units as u\n",
    "from astropy.table import Table, vstack, hstack\n",
    "from astropy.coordinates import SkyCoord, match_coordinates_sky\n",
    "from astropy.time import Time\n",
    "from astropy.wcs import WCS\n",
    "from astropy.visualization.wcsaxes import SphericalCircle\n",
    "\n",
    "from datetime import datetime, timedelta\n",
    "\n",
    "from scipy.ndimage import gaussian_filter1d\n",
    "\n",
    "import os\n",
    "from glob import glob\n",
    "\n",
    "import psycopg2\n",
    "\n",
    "from tqdm.notebook import tqdm_notebook\n",
    "\n",
    "import numpy as np\n",
    "import matplotlib as mpl\n",
    "import matplotlib.pyplot as plt"
   ]
  },
  {
   "cell_type": "code",
   "execution_count": 2,
   "id": "9a770b7c-bfa3-4bf9-ba9c-4870e9147ee9",
   "metadata": {},
   "outputs": [],
   "source": [
    "mpl.rc('font', size=14)\n",
    "mpl.rc('figure', max_open_warning = 0)"
   ]
  },
  {
   "cell_type": "markdown",
   "id": "1a44e3fa-e28e-44b3-98d0-8d5a94b9164d",
   "metadata": {},
   "source": [
    "## Database Matching Functions\n",
    "\n",
    "Given a target table and spectroscopic reduction, match all observed targets using the DESI redshift database."
   ]
  },
  {
   "cell_type": "code",
   "execution_count": 3,
   "id": "919fe758-250c-4771-aebd-c8c699211b27",
   "metadata": {},
   "outputs": [],
   "source": [
    "def match_targets(pvtargtab, redux='daily', search='healpix'):\n",
    "    \"\"\"Match PV targets against the redshift DB for a particular spectroscopic reduction.\n",
    "    \n",
    "    Parameters\n",
    "    ----------\n",
    "    pvtargtab : astropy.Table\n",
    "        Table of PV target info. Specifically need the RA, DEC, PVTYPE, and SGA_ID fields.\n",
    "    redux : str\n",
    "        Spectroscopic reduction: e.g., 'daily', 'everest', 'fuji', 'guadalupe', ...\n",
    "    search : str\n",
    "        'healpix' to search the HEALPix tables, 'tiles' to search the tiles tables.\n",
    "        \n",
    "    Returns\n",
    "    -------\n",
    "    desi_targets : astropy.Table\n",
    "        Joined table of DESI redshifts and PV targets for all matches.\n",
    "    \"\"\"\n",
    "    # Accumulate data in this table.\n",
    "    desi_targets = None\n",
    "        \n",
    "    try:\n",
    "        db = psycopg2.connect(host='decatdb.lbl.gov', database='desidb', user='desi')\n",
    "        cursor = db.cursor()\n",
    "        # cursor.execute('SET search_path TO da, public;')\n",
    "\n",
    "        # Loop over all TNS alerts and perform a coordinate match with DESI observations.\n",
    "        N = len(pvtargtab)\n",
    "        n = 0\n",
    "        with tqdm_notebook(total=N) as progress_bar:\n",
    "\n",
    "            for i, obj in enumerate(pvtargtab):\n",
    "                ra, dec = obj['RA'], obj['DEC']\n",
    "\n",
    "                # Enable search in HEALPix tables.\n",
    "                if search == 'healpix':\n",
    "                    query = 'SELECT f.targetid,f.target_ra,f.target_dec,h.healpix,h.survey,r.z,r.zerr,r.zwarn,r.deltachi2,h.filename\\n' \\\n",
    "                            f'FROM {redux}.healpix_fibermap f\\n' \\\n",
    "                            f'INNER JOIN {redux}.healpix h ON f.healpix_id=h.id\\n' \\\n",
    "                            f'INNER JOIN {redux}.healpix_redshifts r ON r.healpix_id=h.id AND r.targetid=f.targetid\\n' \\\n",
    "                            f'WHERE q3c_radial_query( f.target_ra, f.target_dec, {ra}, {dec}, 1./3600. );'\n",
    "                    \n",
    "                    colnames = ['TARGETID', 'TARGET_RA', 'TARGET_DEC', 'HEALPIX', 'SURVEY', 'Z', 'ZERR', 'ZWARN', 'DELTACHI2', 'FILENAME']\n",
    "                # Enable search in tiles tables.\n",
    "                elif search == 'tiles':\n",
    "                    query = 'SELECT f.targetid,f.target_ra,f.target_dec,c.tileid,c.night,r.z,r.zerr,r.zwarn,r.deltachi2,c.filename\\n' \\\n",
    "                            f'FROM {redux}.tiles_fibermap f\\n' \\\n",
    "                            f'INNER JOIN {redux}.cumulative_tiles c ON f.cumultile_id=c.id\\n' \\\n",
    "                            f'INNER JOIN {redux}.tiles_redshifts r ON r.cumultile_id=c.id AND r.targetid=f.targetid\\n' \\\n",
    "                            f'WHERE q3c_radial_query( f.target_ra, f.target_dec, {ra}, {dec}, 1./3600. );'\n",
    "                    colnames = ['TARGETID', 'TARGET_RA', 'TARGET_DEC', 'TILEID', 'NIGHT', 'Z', 'ZERR', 'ZWARN', 'DELTACHI2', 'FILENAME']\n",
    "                else:\n",
    "                    raise ValueError(f'Search {search} not recognized; use \"healpix\" or \"tiles.\"')\n",
    "                    \n",
    "                # TEMPORARY FOR HACKING: LIMIT TO 10 RESULTS!\n",
    "                query = query.replace(');', ') LIMIT 10;')\n",
    "\n",
    "                cursor.execute(query)\n",
    "                rows = cursor.fetchall()\n",
    "\n",
    "                if rows:\n",
    "                    # Convert postgresql row output to an astropy Table.\n",
    "                    data = Table(list(map(list, zip(*rows))),\n",
    "                                 names=colnames)\n",
    "\n",
    "                    # hstack the postgresql rows with the PV target info.\n",
    "                    # The following vstack loop ensures every row gets a match.\n",
    "                    pv_data = obj\n",
    "                    if len(data) > 1:\n",
    "                        for j in range(1, len(data)):\n",
    "                            pv_data = vstack([pv_data, obj])\n",
    "                    data = hstack([data, pv_data['PVTYPE', 'SGA_ID', 'RA', 'DEC']])\n",
    "\n",
    "                    # Accumulate matched targets.\n",
    "                    if desi_targets is None:\n",
    "                        desi_targets = data\n",
    "                    else:\n",
    "                        desi_targets = vstack([desi_targets, data], join_type='outer')\n",
    "\n",
    "                if (i+1) % 50 == 0:\n",
    "                    progress_bar.update(50)\n",
    "                    n += 50\n",
    "\n",
    "            if n < N:\n",
    "                progress_bar.update(N - n)\n",
    "\n",
    "    except (Exception, psycopg2.Error) as error:\n",
    "        print(error)\n",
    "    finally:\n",
    "        if db is not None:\n",
    "            db.close()\n",
    "            \n",
    "    return desi_targets"
   ]
  },
  {
   "cell_type": "markdown",
   "id": "803dc28e-bf3a-4a70-9494-b0aad2921b79",
   "metadata": {},
   "source": [
    "## Perform Coordinate Match between DESI Observations and the PV Target Files\n",
    "\n",
    "Match PV observations within 1\" of a DESI fiber.\n",
    "\n",
    "Read FITS files of PV targets. In this notebook, we only download targets relevant to the DESI Tully-Fisher sample, which corresponds to these three files:\n",
    "* `pv_tf.fits`: targets on the semi-major axes of spiral galaxies, selected for the Tully-Fisher analysis.\n",
    "* `pv_ext.fits`: other targets on spatially extended spiral galaxies (e.g., HII regions).\n",
    "* `pv_sga.fits`: centers of SGA galaxies."
   ]
  },
  {
   "cell_type": "code",
   "execution_count": 4,
   "id": "fb41f8e6-865c-4499-ae0b-97af42f47852",
   "metadata": {},
   "outputs": [],
   "source": [
    "pv_ext = Table.read('/global/homes/k/ksaid/desi_pv/savepath_dr9_corr/pv_ext.fits', hdu=1)\n",
    "pv_sga = Table.read('/global/homes/k/ksaid/desi_pv/savepath_dr9_corr/pv_sga.fits', hdu=1)\n",
    "pv_tf = Table.read('/global/homes/k/ksaid/desi_pv/savepath_dr9_corr/pv_tf.fits', hdu=1)"
   ]
  },
  {
   "cell_type": "code",
   "execution_count": 8,
   "id": "7c590a41-5af7-4f42-8328-b23469ec635a",
   "metadata": {},
   "outputs": [
    {
     "data": {
      "text/html": [
       "<div><i>Table length=389316</i>\n",
       "<table id=\"table22868789654288\" class=\"table-striped table-bordered table-condensed\">\n",
       "<thead><tr><th>OBJID</th><th>BRICKID</th><th>BRICKNAME</th><th>RA</th><th>DEC</th><th>PMRA</th><th>PMDEC</th><th>REF_EPOCH</th><th>OVERRIDE</th><th>PVTYPE</th><th>PVPRIORITY</th><th>POINTINGID</th><th>SGA_ID</th></tr></thead>\n",
       "<thead><tr><th>int64</th><th>int32</th><th>bytes8</th><th>float64</th><th>float64</th><th>float32</th><th>float32</th><th>float32</th><th>bool</th><th>bytes3</th><th>int32</th><th>int64</th><th>int64</th></tr></thead>\n",
       "<tr><td>262</td><td>520796</td><td>2267p350</td><td>226.62204270638287</td><td>34.98227660676318</td><td>0.0</td><td>0.0</td><td>2015.5</td><td>True</td><td>TFT</td><td>1</td><td>1</td><td>1006008</td></tr>\n",
       "<tr><td>262</td><td>520796</td><td>2267p350</td><td>226.62323955692426</td><td>34.98099178744529</td><td>0.0</td><td>0.0</td><td>2015.5</td><td>False</td><td>TFT</td><td>2</td><td>2</td><td>1006008</td></tr>\n",
       "<tr><td>262</td><td>520796</td><td>2267p350</td><td>226.62443636990747</td><td>34.97970695638398</td><td>0.0</td><td>0.0</td><td>2015.5</td><td>True</td><td>TFT</td><td>1</td><td>3</td><td>1006008</td></tr>\n",
       "<tr><td>2738</td><td>514840</td><td>2263p337</td><td>226.40142777879575</td><td>33.68537046528162</td><td>0.0</td><td>0.0</td><td>2015.5</td><td>True</td><td>TFT</td><td>1</td><td>1</td><td>4331</td></tr>\n",
       "<tr><td>2738</td><td>514840</td><td>2263p337</td><td>226.40426477759235</td><td>33.68450278837041</td><td>0.0</td><td>0.0</td><td>2015.5</td><td>False</td><td>TFT</td><td>2</td><td>2</td><td>4331</td></tr>\n",
       "<tr><td>2738</td><td>514840</td><td>2263p337</td><td>226.40710171911545</td><td>33.68363504663166</td><td>0.0</td><td>0.0</td><td>2015.5</td><td>True</td><td>TFT</td><td>1</td><td>3</td><td>4331</td></tr>\n",
       "<tr><td>3660</td><td>519612</td><td>2265p347</td><td>226.73903016754545</td><td>34.70265984577079</td><td>0.0</td><td>0.0</td><td>2015.5</td><td>True</td><td>TFT</td><td>1</td><td>1</td><td>530851</td></tr>\n",
       "<tr><td>3660</td><td>519612</td><td>2265p347</td><td>226.74169219833286</td><td>34.7021964389237</td><td>0.0</td><td>0.0</td><td>2015.5</td><td>False</td><td>TFT</td><td>2</td><td>2</td><td>530851</td></tr>\n",
       "<tr><td>3660</td><td>519612</td><td>2265p347</td><td>226.74435419929935</td><td>34.70173297418913</td><td>0.0</td><td>0.0</td><td>2015.5</td><td>True</td><td>TFT</td><td>1</td><td>3</td><td>530851</td></tr>\n",
       "<tr><td>2458</td><td>516039</td><td>2268p340</td><td>226.801242597114</td><td>34.00872587126427</td><td>0.0</td><td>0.0</td><td>2015.5</td><td>True</td><td>TFT</td><td>1</td><td>1</td><td>631968</td></tr>\n",
       "<tr><td>...</td><td>...</td><td>...</td><td>...</td><td>...</td><td>...</td><td>...</td><td>...</td><td>...</td><td>...</td><td>...</td><td>...</td><td>...</td></tr>\n",
       "<tr><td>4028</td><td>246235</td><td>3453m150</td><td>345.47620596618395</td><td>-15.01292583015566</td><td>0.0</td><td>0.0</td><td>2015.5</td><td>True</td><td>TFT</td><td>1</td><td>3</td><td>702965</td></tr>\n",
       "<tr><td>4642</td><td>246234</td><td>3451m150</td><td>345.2564412879452</td><td>-15.087065878868385</td><td>0.0</td><td>0.0</td><td>2015.5</td><td>True</td><td>TFT</td><td>1</td><td>1</td><td>133475</td></tr>\n",
       "<tr><td>4642</td><td>246234</td><td>3451m150</td><td>345.258009674595</td><td>-15.088077456931021</td><td>0.0</td><td>0.0</td><td>2015.5</td><td>False</td><td>TFT</td><td>2</td><td>2</td><td>133475</td></tr>\n",
       "<tr><td>4642</td><td>246234</td><td>3451m150</td><td>345.2595780761753</td><td>-15.089089024203389</td><td>0.0</td><td>0.0</td><td>2015.5</td><td>True</td><td>TFT</td><td>1</td><td>3</td><td>133475</td></tr>\n",
       "<tr><td>1636</td><td>244845</td><td>3459m152</td><td>345.8569774786607</td><td>-15.220918958743047</td><td>0.0</td><td>0.0</td><td>2015.5</td><td>True</td><td>TFT</td><td>1</td><td>1</td><td>1391062</td></tr>\n",
       "<tr><td>1636</td><td>244845</td><td>3459m152</td><td>345.8573080782272</td><td>-15.224564396263835</td><td>0.0</td><td>0.0</td><td>2015.5</td><td>False</td><td>TFT</td><td>2</td><td>2</td><td>1391062</td></tr>\n",
       "<tr><td>1636</td><td>244845</td><td>3459m152</td><td>345.8576386892431</td><td>-15.228209833301248</td><td>0.0</td><td>0.0</td><td>2015.5</td><td>True</td><td>TFT</td><td>1</td><td>3</td><td>1391062</td></tr>\n",
       "<tr><td>2807</td><td>243452</td><td>3456m155</td><td>345.724809949581</td><td>-15.50045613467185</td><td>0.0</td><td>0.0</td><td>2015.5</td><td>True</td><td>TFT</td><td>1</td><td>1</td><td>345482</td></tr>\n",
       "<tr><td>2807</td><td>243452</td><td>3456m155</td><td>345.7268390052459</td><td>-15.500737036229298</td><td>0.0</td><td>0.0</td><td>2015.5</td><td>False</td><td>TFT</td><td>2</td><td>2</td><td>345482</td></tr>\n",
       "<tr><td>2807</td><td>243452</td><td>3456m155</td><td>345.7288680664284</td><td>-15.501017919281516</td><td>0.0</td><td>0.0</td><td>2015.5</td><td>True</td><td>TFT</td><td>1</td><td>3</td><td>345482</td></tr>\n",
       "</table></div>"
      ],
      "text/plain": [
       "<Table length=389316>\n",
       "OBJID BRICKID BRICKNAME         RA         ... PVPRIORITY POINTINGID  SGA_ID\n",
       "int64  int32    bytes8       float64       ...   int32      int64     int64 \n",
       "----- ------- --------- ------------------ ... ---------- ---------- -------\n",
       "  262  520796  2267p350 226.62204270638287 ...          1          1 1006008\n",
       "  262  520796  2267p350 226.62323955692426 ...          2          2 1006008\n",
       "  262  520796  2267p350 226.62443636990747 ...          1          3 1006008\n",
       " 2738  514840  2263p337 226.40142777879575 ...          1          1    4331\n",
       " 2738  514840  2263p337 226.40426477759235 ...          2          2    4331\n",
       " 2738  514840  2263p337 226.40710171911545 ...          1          3    4331\n",
       " 3660  519612  2265p347 226.73903016754545 ...          1          1  530851\n",
       " 3660  519612  2265p347 226.74169219833286 ...          2          2  530851\n",
       " 3660  519612  2265p347 226.74435419929935 ...          1          3  530851\n",
       " 2458  516039  2268p340   226.801242597114 ...          1          1  631968\n",
       "  ...     ...       ...                ... ...        ...        ...     ...\n",
       " 4028  246235  3453m150 345.47620596618395 ...          1          3  702965\n",
       " 4642  246234  3451m150  345.2564412879452 ...          1          1  133475\n",
       " 4642  246234  3451m150   345.258009674595 ...          2          2  133475\n",
       " 4642  246234  3451m150  345.2595780761753 ...          1          3  133475\n",
       " 1636  244845  3459m152  345.8569774786607 ...          1          1 1391062\n",
       " 1636  244845  3459m152  345.8573080782272 ...          2          2 1391062\n",
       " 1636  244845  3459m152  345.8576386892431 ...          1          3 1391062\n",
       " 2807  243452  3456m155   345.724809949581 ...          1          1  345482\n",
       " 2807  243452  3456m155  345.7268390052459 ...          2          2  345482\n",
       " 2807  243452  3456m155  345.7288680664284 ...          1          3  345482"
      ]
     },
     "execution_count": 8,
     "metadata": {},
     "output_type": "execute_result"
    }
   ],
   "source": [
    "pv_tf"
   ]
  },
  {
   "cell_type": "markdown",
   "id": "481e5bd7-81b7-4881-810f-d40cbd8bae6d",
   "metadata": {},
   "source": [
    "### Process fuji Observations"
   ]
  },
  {
   "cell_type": "code",
   "execution_count": 9,
   "id": "dec453df-5118-4e86-b15b-449dc9a5cf18",
   "metadata": {},
   "outputs": [
    {
     "data": {
      "application/vnd.jupyter.widget-view+json": {
       "model_id": "8ca06fe5cb41487795c5715f283467a0",
       "version_major": 2,
       "version_minor": 0
      },
      "text/plain": [
       "  0%|          | 0/20486 [00:00<?, ?it/s]"
      ]
     },
     "metadata": {},
     "output_type": "display_data"
    },
    {
     "data": {
      "text/html": [
       "<div><i>Table length=83</i>\n",
       "<table id=\"table22868758724176\" class=\"table-striped table-bordered table-condensed\">\n",
       "<thead><tr><th>TARGETID</th><th>TARGET_RA</th><th>TARGET_DEC</th><th>HEALPIX</th><th>SURVEY</th><th>Z</th><th>ZERR</th><th>ZWARN</th><th>DELTACHI2</th><th>FILENAME</th><th>PVTYPE</th><th>SGA_ID</th><th>RA</th><th>DEC</th></tr></thead>\n",
       "<thead><tr><th>int64</th><th>float64</th><th>float64</th><th>int64</th><th>str3</th><th>float64</th><th>float64</th><th>int64</th><th>float64</th><th>str63</th><th>bytes3</th><th>int64</th><th>float64</th><th>float64</th></tr></thead>\n",
       "<tr><td>1092899764699136</td><td>216.00143660376</td><td>34.881062410803</td><td>10515</td><td>sv3</td><td>0.512530942294242</td><td>0.0001125096994758</td><td>4</td><td>5.75281726941466</td><td>fuji/healpix/sv3/dark/105/10515/redrock-sv3-dark-10515.fits</td><td>EXT</td><td>682254</td><td>216.0014366037598</td><td>34.881062410803</td></tr>\n",
       "<tr><td>1079700659109889</td><td>216.061747702864</td><td>34.8365760573346</td><td>10515</td><td>sv3</td><td>1.5277305869098</td><td>0.000248864600940801</td><td>4</td><td>8.71738664060831</td><td>fuji/healpix/sv3/bright/105/10515/redrock-sv3-bright-10515.fits</td><td>EXT</td><td>682254</td><td>216.06174770286376</td><td>34.836576057334575</td></tr>\n",
       "<tr><td>1092894798643201</td><td>216.061747702864</td><td>34.8365760573346</td><td>10515</td><td>sv3</td><td>1.01290900857488</td><td>6.38649008792103e-05</td><td>4</td><td>2.01506862044334</td><td>fuji/healpix/sv3/dark/105/10515/redrock-sv3-dark-10515.fits</td><td>EXT</td><td>682254</td><td>216.06174770286376</td><td>34.836576057334575</td></tr>\n",
       "<tr><td>1079037296377859</td><td>208.975477166485</td><td>5.30336633406908</td><td>26091</td><td>sv3</td><td>1.49877155103453</td><td>0.00022479094539867</td><td>0</td><td>11.9354891255498</td><td>fuji/healpix/sv3/bright/260/26091/redrock-sv3-bright-26091.fits</td><td>EXT</td><td>865490</td><td>208.9754771664854</td><td>5.303366334069084</td></tr>\n",
       "<tr><td>1092231435911171</td><td>208.975477166485</td><td>5.30336633406908</td><td>26091</td><td>sv3</td><td>1.18699867849368</td><td>0.000116017737064761</td><td>4</td><td>1.74350547604263</td><td>fuji/healpix/sv3/dark/260/26091/redrock-sv3-dark-26091.fits</td><td>EXT</td><td>865490</td><td>208.9754771664854</td><td>5.303366334069084</td></tr>\n",
       "<tr><td>1079037300572160</td><td>209.084716493457</td><td>5.20650793636111</td><td>26091</td><td>sv3</td><td>0.907146237131769</td><td>0.000133516273090146</td><td>0</td><td>11.1716398671269</td><td>fuji/healpix/sv3/bright/260/26091/redrock-sv3-bright-26091.fits</td><td>EXT</td><td>865490</td><td>209.0847164934571</td><td>5.206507936361107</td></tr>\n",
       "<tr><td>1092231440105472</td><td>209.084716493457</td><td>5.20650793636111</td><td>26091</td><td>sv3</td><td>1.55395322376555</td><td>0.000108078787702566</td><td>4</td><td>4.13443431630731</td><td>fuji/healpix/sv3/dark/260/26091/redrock-sv3-dark-26091.fits</td><td>EXT</td><td>865490</td><td>209.0847164934571</td><td>5.206507936361107</td></tr>\n",
       "<tr><td>1078989217071107</td><td>217.423332498867</td><td>3.20319258782244</td><td>26065</td><td>sv3</td><td>0.680248512223176</td><td>8.41292468167563e-05</td><td>4</td><td>0.725679285824299</td><td>fuji/healpix/sv3/bright/260/26065/redrock-sv3-bright-26065.fits</td><td>EXT</td><td>1413430</td><td>217.42333249886704</td><td>3.203192587822438</td></tr>\n",
       "<tr><td>1092183356604419</td><td>217.423332498867</td><td>3.20319258782244</td><td>26065</td><td>sv3</td><td>0.464078931593149</td><td>6.04317367217602e-05</td><td>4</td><td>5.38805882632732</td><td>fuji/healpix/sv3/dark/260/26065/redrock-sv3-dark-26065.fits</td><td>EXT</td><td>1413430</td><td>217.42333249886704</td><td>3.203192587822438</td></tr>\n",
       "<tr><td>1078940328263681</td><td>183.177614260981</td><td>1.35177591070447</td><td>26285</td><td>sv3</td><td>1.39600851070721</td><td>0.000111324562546966</td><td>4</td><td>6.38193941116333</td><td>fuji/healpix/sv3/bright/262/26285/redrock-sv3-bright-26285.fits</td><td>EXT</td><td>671847</td><td>183.17761426098141</td><td>1.3517759107044744</td></tr>\n",
       "<tr><td>...</td><td>...</td><td>...</td><td>...</td><td>...</td><td>...</td><td>...</td><td>...</td><td>...</td><td>...</td><td>...</td><td>...</td><td>...</td><td>...</td></tr>\n",
       "<tr><td>39633062551620033</td><td>153.178857933669</td><td>39.3739445564769</td><td>5703</td><td>sv1</td><td>0.022711924294578</td><td>5.75568615760296e-07</td><td>0</td><td>641871.757860661</td><td>fuji/healpix/sv1/bright/57/5703/redrock-sv1-bright-5703.fits</td><td>EXT</td><td>1037949</td><td>153.17885793366855</td><td>39.3739445564769</td></tr>\n",
       "<tr><td>2305843015479989956</td><td>173.45541945964</td><td>53.1254763873733</td><td>5976</td><td>sv1</td><td>0.00333404373962337</td><td>2.24812533738904e-07</td><td>0</td><td>1486700.56152642</td><td>fuji/healpix/sv1/other/59/5976/redrock-sv1-other-5976.fits</td><td>EXT</td><td>559707</td><td>173.4553483637811</td><td>53.12541571341898</td></tr>\n",
       "<tr><td>1078892626444294</td><td>219.927793051945</td><td>-0.732047919721255</td><td>25933</td><td>sv3</td><td>0.389212131703041</td><td>5.37984677902569e-05</td><td>4</td><td>2.94517927616835</td><td>fuji/healpix/sv3/bright/259/25933/redrock-sv3-bright-25933.fits</td><td>EXT</td><td>166290</td><td>219.9277930519453</td><td>-0.7320479197212552</td></tr>\n",
       "<tr><td>39627770296276005</td><td>219.956999318774</td><td>-0.718640392418429</td><td>25933</td><td>sv3</td><td>0.00585538786570846</td><td>4.19501768104605e-06</td><td>0</td><td>2858.02824933385</td><td>fuji/healpix/sv3/bright/259/25933/redrock-sv3-bright-25933.fits</td><td>EXT</td><td>166290</td><td>219.95699931877425</td><td>-0.7186403924184287</td></tr>\n",
       "<tr><td>1078892626444292</td><td>219.98620541415</td><td>-0.705232678404417</td><td>25933</td><td>sv3</td><td>0.321693030175296</td><td>5.52000816259728e-05</td><td>4</td><td>0.999024361371994</td><td>fuji/healpix/sv3/bright/259/25933/redrock-sv3-bright-25933.fits</td><td>EXT</td><td>166290</td><td>219.98620541415</td><td>-0.7052326784044174</td></tr>\n",
       "<tr><td>1078994120212481</td><td>150.096689848937</td><td>3.40736949409563</td><td>27345</td><td>sv3</td><td>1.18232343562154</td><td>9.64836191298094e-05</td><td>4</td><td>8.75033162534237</td><td>fuji/healpix/sv3/bright/273/27345/redrock-sv3-bright-27345.fits</td><td>EXT</td><td>1225398</td><td>150.09668984893693</td><td>3.4073694940956294</td></tr>\n",
       "<tr><td>1092188259745793</td><td>150.096689848937</td><td>3.40736949409563</td><td>27345</td><td>sv3</td><td>0.543896524243357</td><td>5.20456611593509e-05</td><td>4</td><td>1.57002077251673</td><td>fuji/healpix/sv3/dark/273/27345/redrock-sv3-dark-27345.fits</td><td>EXT</td><td>1225398</td><td>150.09668984893693</td><td>3.4073694940956294</td></tr>\n",
       "<tr><td>39627865758633464</td><td>150.11281896177</td><td>3.37442274219938</td><td>27345</td><td>sv3</td><td>0.00687190356978907</td><td>1.5141461957797e-06</td><td>0</td><td>24405.1790848412</td><td>fuji/healpix/sv3/bright/273/27345/redrock-sv3-bright-27345.fits</td><td>EXT</td><td>1225398</td><td>150.1128189617695</td><td>3.3744227421993793</td></tr>\n",
       "<tr><td>1078988088803329</td><td>150.128946980905</td><td>3.34147572353072</td><td>27345</td><td>sv3</td><td>1.48598921814128</td><td>7.78107541588613e-05</td><td>4</td><td>3.45342898368835</td><td>fuji/healpix/sv3/bright/273/27345/redrock-sv3-bright-27345.fits</td><td>EXT</td><td>1225398</td><td>150.12894698090534</td><td>3.3414757235307233</td></tr>\n",
       "<tr><td>1092182228336641</td><td>150.128946980905</td><td>3.34147572353072</td><td>27345</td><td>sv3</td><td>0.284931493679325</td><td>7.32403560495644e-05</td><td>4</td><td>3.56822789460421</td><td>fuji/healpix/sv3/dark/273/27345/redrock-sv3-dark-27345.fits</td><td>EXT</td><td>1225398</td><td>150.12894698090534</td><td>3.3414757235307233</td></tr>\n",
       "</table></div>"
      ],
      "text/plain": [
       "<Table length=83>\n",
       "      TARGETID         TARGET_RA     ...         RA                 DEC        \n",
       "       int64            float64      ...      float64             float64      \n",
       "------------------- ---------------- ... ------------------ -------------------\n",
       "   1092899764699136  216.00143660376 ...  216.0014366037598     34.881062410803\n",
       "   1079700659109889 216.061747702864 ... 216.06174770286376  34.836576057334575\n",
       "   1092894798643201 216.061747702864 ... 216.06174770286376  34.836576057334575\n",
       "   1079037296377859 208.975477166485 ...  208.9754771664854   5.303366334069084\n",
       "   1092231435911171 208.975477166485 ...  208.9754771664854   5.303366334069084\n",
       "   1079037300572160 209.084716493457 ...  209.0847164934571   5.206507936361107\n",
       "   1092231440105472 209.084716493457 ...  209.0847164934571   5.206507936361107\n",
       "   1078989217071107 217.423332498867 ... 217.42333249886704   3.203192587822438\n",
       "   1092183356604419 217.423332498867 ... 217.42333249886704   3.203192587822438\n",
       "   1078940328263681 183.177614260981 ... 183.17761426098141  1.3517759107044744\n",
       "                ...              ... ...                ...                 ...\n",
       "  39633062551620033 153.178857933669 ... 153.17885793366855    39.3739445564769\n",
       "2305843015479989956  173.45541945964 ...  173.4553483637811   53.12541571341898\n",
       "   1078892626444294 219.927793051945 ...  219.9277930519453 -0.7320479197212552\n",
       "  39627770296276005 219.956999318774 ... 219.95699931877425 -0.7186403924184287\n",
       "   1078892626444292  219.98620541415 ...    219.98620541415 -0.7052326784044174\n",
       "   1078994120212481 150.096689848937 ... 150.09668984893693  3.4073694940956294\n",
       "   1092188259745793 150.096689848937 ... 150.09668984893693  3.4073694940956294\n",
       "  39627865758633464  150.11281896177 ...  150.1128189617695  3.3744227421993793\n",
       "   1078988088803329 150.128946980905 ... 150.12894698090534  3.3414757235307233\n",
       "   1092182228336641 150.128946980905 ... 150.12894698090534  3.3414757235307233"
      ]
     },
     "execution_count": 9,
     "metadata": {},
     "output_type": "execute_result"
    }
   ],
   "source": [
    "pv_ext_fuji = match_targets(pv_ext, redux='fuji')\n",
    "pv_ext_fuji"
   ]
  },
  {
   "cell_type": "code",
   "execution_count": null,
   "id": "230a4da5-9eac-4ec6-90a3-4845a698110d",
   "metadata": {},
   "outputs": [],
   "source": [
    "pv_sga_fuji = match_targets(pv_sga, redux='fuji')\n",
    "pv_sga_fuji"
   ]
  },
  {
   "cell_type": "code",
   "execution_count": null,
   "id": "214f4975-6326-46dd-975c-a11d19eb8de5",
   "metadata": {},
   "outputs": [],
   "source": [
    "pv_tf_fuji = match_targets(pv_tf, redux='fuji')\n",
    "pv_tf_fuji"
   ]
  },
  {
   "cell_type": "code",
   "execution_count": null,
   "id": "cc42b3c0-a076-46c3-b797-05cdc9336ea8",
   "metadata": {},
   "outputs": [],
   "source": [
    "isgoodz = (pv_tf_fuji['ZWARN']==0) & (pv_tf_fuji['DELTACHI2']>25)\n",
    "pv_tf_fuji[isgoodz]"
   ]
  },
  {
   "cell_type": "markdown",
   "id": "cb329f5f-4c2c-48dc-b3d6-b7f365d346d9",
   "metadata": {},
   "source": [
    "#### Dump Output to a File\n",
    "\n",
    "Stack the `ext`, `sga`, and `tf` tables and save the output."
   ]
  },
  {
   "cell_type": "code",
   "execution_count": null,
   "id": "79a77d91-8f17-43d2-8788-96439650afa6",
   "metadata": {},
   "outputs": [],
   "source": [
    "pv_fuji = vstack([pv_ext_fuji, pv_sga_fuji, pv_tf_fuji])\n",
    "# pv_fuji.write('desi_pv_tf_fuji.fits', overwrite=True)"
   ]
  },
  {
   "cell_type": "markdown",
   "id": "87a939c4-09d9-43c4-8d00-37388c3e8cb3",
   "metadata": {},
   "source": [
    "### Process guadalupe Observations"
   ]
  },
  {
   "cell_type": "code",
   "execution_count": null,
   "id": "ce789965-640c-45a8-89be-556ff921a19e",
   "metadata": {},
   "outputs": [],
   "source": [
    "pv_ext_guadalupe = match_targets(pv_ext, redux='guadalupe')\n",
    "pv_ext_guadalupe"
   ]
  },
  {
   "cell_type": "code",
   "execution_count": null,
   "id": "dae54912-4c3a-49d3-b39c-efd313dd5e39",
   "metadata": {},
   "outputs": [],
   "source": [
    "pv_sga_guadalupe = match_targets(pv_sga, redux='guadalupe')\n",
    "pv_sga_guadalupe"
   ]
  },
  {
   "cell_type": "code",
   "execution_count": null,
   "id": "3216b4b2-d4b1-4425-a7fc-86c99a9cfa1a",
   "metadata": {},
   "outputs": [],
   "source": [
    "pv_tf_guadalupe = match_targets(pv_tf, redux='guadalupe')\n",
    "pv_tf_guadalupe"
   ]
  },
  {
   "cell_type": "code",
   "execution_count": null,
   "id": "a1d9661c-7c61-43f0-962e-bd7321d3d078",
   "metadata": {},
   "outputs": [],
   "source": [
    "pv_guadalupe = vstack([pv_ext_guadalupe, pv_sga_guadalupe, pv_tf_guadalupe])\n",
    "# pv_guadalupe.write('desi_pv_tf_guadalupe.fits', overwrite=True)"
   ]
  },
  {
   "cell_type": "markdown",
   "id": "888551fe-0be6-4b49-b9f5-14304aec6bf0",
   "metadata": {},
   "source": [
    "#### Dump Output to a File\n",
    "\n",
    "Stack the `ext`, `sga`, and `tf` tables and save the output."
   ]
  },
  {
   "cell_type": "code",
   "execution_count": null,
   "id": "66496c69-fa99-4136-9271-93018c92049d",
   "metadata": {},
   "outputs": [],
   "source": [
    "pv_guadalupe = vstack([pv_ext_guadalupe, pv_sga_guadalupe, pv_tf_guadalupe])\n",
    "pv_guadalupe.write('desi_pv_tf_guadalupe.fits', overwrite=True)"
   ]
  },
  {
   "cell_type": "markdown",
   "id": "168c5b4a-ff44-469d-a5ff-aa7b84bf1191",
   "metadata": {},
   "source": [
    "### Process iron Observations"
   ]
  },
  {
   "cell_type": "code",
   "execution_count": null,
   "id": "5a3bf02e-ecd0-4341-b258-8f951bb83eb5",
   "metadata": {},
   "outputs": [],
   "source": [
    "pv_ext_iron = match_targets(pv_ext, redux='iron')\n",
    "pv_ext_iron"
   ]
  },
  {
   "cell_type": "code",
   "execution_count": null,
   "id": "9d3297cd-df64-4cc9-93c0-e69566692247",
   "metadata": {},
   "outputs": [],
   "source": [
    "pv_sga_iron = match_targets(pv_sga, redux='iron')\n",
    "pv_sga_iron"
   ]
  },
  {
   "cell_type": "code",
   "execution_count": null,
   "id": "a6ed3fa1-5731-4cc9-a06e-5229cfec9e50",
   "metadata": {},
   "outputs": [],
   "source": [
    "pv_tf_iron = match_targets(pv_tf, redux='iron')\n",
    "pv_tf_iron"
   ]
  },
  {
   "cell_type": "code",
   "execution_count": null,
   "id": "b0b0e954-20c4-4025-8357-66af3c9f959e",
   "metadata": {},
   "outputs": [],
   "source": [
    "pv_iron = vstack([pv_ext_iron, pv_sga_iron, pv_tf_iron])\n",
    "pv_iron.write('desi_pv_tf_iron.fits', overwrite=True)"
   ]
  },
  {
   "cell_type": "markdown",
   "id": "bff46f35-9d71-4b21-b142-ad86c5f51f51",
   "metadata": {},
   "source": [
    "#### Dump Output to a File\n",
    "\n",
    "Stack the `ext`, `sga`, and `tf` tables and save the output."
   ]
  },
  {
   "cell_type": "code",
   "execution_count": null,
   "id": "e735bd19-de3f-4227-9d23-3a0e32fae887",
   "metadata": {},
   "outputs": [],
   "source": [
    "pv_iron = vstack([pv_ext_iron, pv_sga_iron, pv_tf_iron])\n",
    "pv_iron.write('desi_pv_tf_iron.fits', overwrite=True)"
   ]
  }
 ],
 "metadata": {
  "kernelspec": {
   "display_name": "DESI main",
   "language": "python",
   "name": "desi-main"
  },
  "language_info": {
   "codemirror_mode": {
    "name": "ipython",
    "version": 3
   },
   "file_extension": ".py",
   "mimetype": "text/x-python",
   "name": "python",
   "nbconvert_exporter": "python",
   "pygments_lexer": "ipython3",
   "version": "3.10.8"
  }
 },
 "nbformat": 4,
 "nbformat_minor": 5
}
