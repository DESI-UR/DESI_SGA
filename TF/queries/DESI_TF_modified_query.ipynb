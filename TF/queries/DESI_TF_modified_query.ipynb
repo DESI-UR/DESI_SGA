{
 "cells": [
  {
   "cell_type": "code",
   "execution_count": 1,
   "id": "5a59258e-f04d-4ce3-9a65-585243ad75bf",
   "metadata": {
    "tags": []
   },
   "outputs": [],
   "source": [
    "import os\n",
    "import psycopg2\n",
    "\n",
    "from astropy import units as u\n",
    "from astropy.table import Table, join, unique, vstack\n",
    "from astropy.coordinates import SkyCoord, match_coordinates_sky, search_around_sky\n",
    "\n",
    "from desitarget.targets import decode_targetid, encode_targetid, resolve\n",
    "from desitarget.io import releasedict, release_to_photsys\n",
    "\n",
    "from tqdm.notebook import tqdm_notebook\n",
    "\n",
    "import numpy as np\n",
    "import matplotlib as mpl\n",
    "import matplotlib.pyplot as plt\n",
    "\n",
    "\n",
    "from astropy.table import Table, vstack, hstack\n",
    "\n",
    "import psycopg2\n",
    "\n",
    "from tqdm.notebook import tqdm_notebook\n",
    "\n",
    "import time\n"
   ]
  },
  {
   "cell_type": "code",
   "execution_count": 15,
   "id": "3fd60749-8ba6-4081-85b9-a53c13bfc203",
   "metadata": {
    "tags": []
   },
   "outputs": [
    {
     "data": {
      "text/html": [
       "<div><i>Table length=99102</i>\n",
       "<table id=\"table140366270592720\" class=\"table-striped table-bordered table-condensed\">\n",
       "<thead><tr><th>TARGETID</th><th>TARGET_RA</th><th>TARGET_DEC</th><th>HEALPIX</th><th>SURVEY</th><th>Z</th><th>ZERR</th><th>ZWARN</th><th>DELTACHI2</th><th>FILENAME</th><th>PVTYPE</th><th>SGA_ID</th><th>RA</th><th>DEC</th></tr></thead>\n",
       "<thead><tr><th>int64</th><th>float64</th><th>float64</th><th>int64</th><th>bytes4</th><th>float64</th><th>float64</th><th>int64</th><th>float64</th><th>bytes65</th><th>bytes3</th><th>int64</th><th>float64</th><th>float64</th></tr></thead>\n",
       "<tr><td>2852147603439621</td><td>198.369130660983</td><td>36.5372037049171</td><td>10475</td><td>main</td><td>0.815976335547845</td><td>7.38513168100107e-05</td><td>4</td><td>0.128754377365112</td><td>iron/healpix/main/dark/104/10475/redrock-main-dark-10475.fits</td><td>EXT</td><td>649377</td><td>198.36913066098333</td><td>36.537203704917076</td></tr>\n",
       "<tr><td>2399148812795907</td><td>198.371733180003</td><td>36.4994335406917</td><td>10475</td><td>main</td><td>1.11088784970434</td><td>7.48767797671894e-05</td><td>4</td><td>7.9473560154438</td><td>iron/healpix/main/bright/104/10475/redrock-main-bright-10475.fits</td><td>EXT</td><td>649377</td><td>198.37173318000336</td><td>36.499433540691676</td></tr>\n",
       "<tr><td>2399382443917318</td><td>184.845242475328</td><td>49.8157304793777</td><td>10995</td><td>main</td><td>1.14739342108157</td><td>0.000146302276719084</td><td>4</td><td>2.56771463155746</td><td>iron/healpix/main/bright/109/10995/redrock-main-bright-10995.fits</td><td>EXT</td><td>1008911</td><td>184.84524247532795</td><td>49.81573047937771</td></tr>\n",
       "<tr><td>2399634072797192</td><td>184.341289722203</td><td>70.8283725474297</td><td>11965</td><td>main</td><td>1.51703376230705</td><td>6.28979649962091e-05</td><td>4</td><td>4.76254060305655</td><td>iron/healpix/main/bright/119/11965/redrock-main-bright-11965.fits</td><td>EXT</td><td>241234</td><td>184.34128972220284</td><td>70.82837254742968</td></tr>\n",
       "<tr><td>2852141710442505</td><td>123.256011148025</td><td>36.2652948002806</td><td>6448</td><td>main</td><td>0.00787379494184006</td><td>3.4714052819995e-05</td><td>0</td><td>22.1719104201402</td><td>iron/healpix/main/dark/64/6448/redrock-main-dark-6448.fits</td><td>EXT</td><td>31591</td><td>123.25601114802525</td><td>36.26529480028061</td></tr>\n",
       "<tr><td>2412337059332105</td><td>123.256011148025</td><td>36.2652948002806</td><td>6448</td><td>main</td><td>0.0799478243014975</td><td>3.26415764231537e-05</td><td>4</td><td>1.08863945491612</td><td>iron/healpix/main/dark/64/6448/redrock-main-dark-6448.fits</td><td>EXT</td><td>31591</td><td>123.25601114802525</td><td>36.26529480028061</td></tr>\n",
       "<tr><td>2852141710442501</td><td>123.270569418049</td><td>36.2759891261316</td><td>6448</td><td>main</td><td>0.125814897161802</td><td>5.25734210595906e-05</td><td>4</td><td>4.58732237294316</td><td>iron/healpix/main/dark/64/6448/redrock-main-dark-6448.fits</td><td>EXT</td><td>31591</td><td>123.2705694180487</td><td>36.27598912613165</td></tr>\n",
       "<tr><td>2852189789749253</td><td>124.454417230594</td><td>38.7904829812355</td><td>6454</td><td>main</td><td>0.0209014343963839</td><td>8.37593315854385e-06</td><td>0</td><td>921.681470951618</td><td>iron/healpix/main/dark/64/6454/redrock-main-dark-6454.fits</td><td>EXT</td><td>1075147</td><td>124.45441723059355</td><td>38.79048298123546</td></tr>\n",
       "<tr><td>2412690689490952</td><td>122.179783442643</td><td>57.7556637029528</td><td>7696</td><td>main</td><td>1.67700904770652</td><td>0.000194559932487755</td><td>0</td><td>10.886064812541</td><td>iron/healpix/main/dark/76/7696/redrock-main-dark-7696.fits</td><td>EXT</td><td>532264</td><td>122.17978344264326</td><td>57.75566370295283</td></tr>\n",
       "<tr><td>2399503000797189</td><td>123.909747510568</td><td>58.3224265203376</td><td>7355</td><td>main</td><td>0.327343975745908</td><td>0.000118736717146286</td><td>4</td><td>2.73333390709013</td><td>iron/healpix/main/bright/73/7355/redrock-main-bright-7355.fits</td><td>EXT</td><td>591851</td><td>123.9097475105679</td><td>58.32242652033756</td></tr>\n",
       "<tr><td>...</td><td>...</td><td>...</td><td>...</td><td>...</td><td>...</td><td>...</td><td>...</td><td>...</td><td>...</td><td>...</td><td>...</td><td>...</td><td>...</td></tr>\n",
       "<tr><td>39628187688241578</td><td>220.052905660042</td><td>16.754533553194</td><td>8774</td><td>main</td><td>0.108009873160349</td><td>1.54177922225668e-05</td><td>0</td><td>3526.91658753948</td><td>iron/healpix/main/bright/87/8774/redrock-main-bright-8774.fits</td><td>TFT</td><td>570959</td><td>220.0529056600419</td><td>16.75453355319404</td></tr>\n",
       "<tr><td>39628187688242044</td><td>220.081360191205</td><td>16.6850749333024</td><td>8774</td><td>main</td><td>0.0299244765955022</td><td>9.9739919522185e-06</td><td>0</td><td>7140.4656449405</td><td>iron/healpix/main/bright/87/8774/redrock-main-bright-8774.fits</td><td>TFT</td><td>1195293</td><td>220.0813601912045</td><td>16.685074933302445</td></tr>\n",
       "<tr><td>2305843018059485624</td><td>225.721731990074</td><td>16.9189852151273</td><td>8438</td><td>main</td><td>0.020929269419286</td><td>1.13433813225525e-06</td><td>0</td><td>134912.593574345</td><td>iron/healpix/main/backup/84/8438/redrock-main-backup-8438.fits</td><td>TFT</td><td>1076749</td><td>225.72172474649994</td><td>16.91891853503617</td></tr>\n",
       "<tr><td>2389904755523585</td><td>225.798638692554</td><td>15.7339352302678</td><td>8433</td><td>main</td><td>0.0676989828794467</td><td>2.45867058812062e-05</td><td>0</td><td>63.0506574362516</td><td>iron/healpix/main/bright/84/8433/redrock-main-bright-8433.fits</td><td>TFT</td><td>1352861</td><td>225.79863869255362</td><td>15.733935230267768</td></tr>\n",
       "<tr><td>39628147070601523</td><td>225.915599270569</td><td>15.0247654433451</td><td>8411</td><td>main</td><td>0.0361115946387217</td><td>3.18654510560542e-06</td><td>0</td><td>6022.86883181334</td><td>iron/healpix/main/bright/84/8411/redrock-main-bright-8411.fits</td><td>TFT</td><td>1029028</td><td>225.9155992705694</td><td>15.024765443345105</td></tr>\n",
       "<tr><td>39628250946732115</td><td>221.561567031637</td><td>19.4056542670243</td><td>8793</td><td>main</td><td>0.044197315010704</td><td>2.95695794671446e-06</td><td>0</td><td>2748.32202285528</td><td>iron/healpix/main/bright/87/8793/redrock-main-bright-8793.fits</td><td>TFT</td><td>838075</td><td>221.56156703163722</td><td>19.405654267024318</td></tr>\n",
       "<tr><td>39628250946732191</td><td>221.565256838818</td><td>19.5999273620398</td><td>8793</td><td>main</td><td>0.0681245462105783</td><td>1.97949355515174e-05</td><td>0</td><td>3418.83049730305</td><td>iron/healpix/main/bright/87/8793/redrock-main-bright-8793.fits</td><td>TFT</td><td>282197</td><td>221.5652568388181</td><td>19.599927362039846</td></tr>\n",
       "<tr><td>39628233800418916</td><td>221.733042028194</td><td>18.6492849905645</td><td>8787</td><td>main</td><td>0.0661453340989506</td><td>6.74978482396179e-06</td><td>0</td><td>3467.61512088776</td><td>iron/healpix/main/bright/87/8787/redrock-main-bright-8787.fits</td><td>TFT</td><td>1355700</td><td>221.73304202819352</td><td>18.649284990564517</td></tr>\n",
       "<tr><td>2389991133020160</td><td>221.323873257724</td><td>19.5277674101711</td><td>8793</td><td>main</td><td>0.0423148908835728</td><td>1.74623100467569e-05</td><td>0</td><td>70.2367960708216</td><td>iron/healpix/main/bright/87/8793/redrock-main-bright-8793.fits</td><td>TFT</td><td>909688</td><td>221.32387325772353</td><td>19.527767410171087</td></tr>\n",
       "<tr><td>39628239521451304</td><td>221.634605747086</td><td>19.112287528364</td><td>8793</td><td>main</td><td>0.0700745078294578</td><td>2.02944346254686e-05</td><td>0</td><td>2984.49141149549</td><td>iron/healpix/main/bright/87/8793/redrock-main-bright-8793.fits</td><td>TFT</td><td>1172051</td><td>221.63460574708606</td><td>19.112287528364</td></tr>\n",
       "</table></div>"
      ],
      "text/plain": [
       "<Table length=99102>\n",
       "      TARGETID         TARGET_RA     ...         RA                DEC        \n",
       "       int64            float64      ...      float64            float64      \n",
       "------------------- ---------------- ... ------------------ ------------------\n",
       "   2852147603439621 198.369130660983 ... 198.36913066098333 36.537203704917076\n",
       "   2399148812795907 198.371733180003 ... 198.37173318000336 36.499433540691676\n",
       "   2399382443917318 184.845242475328 ... 184.84524247532795  49.81573047937771\n",
       "   2399634072797192 184.341289722203 ... 184.34128972220284  70.82837254742968\n",
       "   2852141710442505 123.256011148025 ... 123.25601114802525  36.26529480028061\n",
       "   2412337059332105 123.256011148025 ... 123.25601114802525  36.26529480028061\n",
       "   2852141710442501 123.270569418049 ...  123.2705694180487  36.27598912613165\n",
       "   2852189789749253 124.454417230594 ... 124.45441723059355  38.79048298123546\n",
       "   2412690689490952 122.179783442643 ... 122.17978344264326  57.75566370295283\n",
       "   2399503000797189 123.909747510568 ...  123.9097475105679  58.32242652033756\n",
       "                ...              ... ...                ...                ...\n",
       "  39628187688241578 220.052905660042 ...  220.0529056600419  16.75453355319404\n",
       "  39628187688242044 220.081360191205 ...  220.0813601912045 16.685074933302445\n",
       "2305843018059485624 225.721731990074 ... 225.72172474649994  16.91891853503617\n",
       "   2389904755523585 225.798638692554 ... 225.79863869255362 15.733935230267768\n",
       "  39628147070601523 225.915599270569 ...  225.9155992705694 15.024765443345105\n",
       "  39628250946732115 221.561567031637 ... 221.56156703163722 19.405654267024318\n",
       "  39628250946732191 221.565256838818 ...  221.5652568388181 19.599927362039846\n",
       "  39628233800418916 221.733042028194 ... 221.73304202819352 18.649284990564517\n",
       "   2389991133020160 221.323873257724 ... 221.32387325772353 19.527767410171087\n",
       "  39628239521451304 221.634605747086 ... 221.63460574708606    19.112287528364"
      ]
     },
     "execution_count": 15,
     "metadata": {},
     "output_type": "execute_result"
    }
   ],
   "source": [
    "tiron = Table.read('/global/cfs/projectdirs/desi/science/td/pv/tfgalaxies/desi_pv_tf_iron_healpix.fits')\n",
    "tiron"
   ]
  },
  {
   "cell_type": "code",
   "execution_count": 3,
   "id": "7b68ff83-6a35-49dd-a218-aa626d443950",
   "metadata": {
    "tags": []
   },
   "outputs": [],
   "source": [
    "def get_tf_targets_modified(redux, use_cached=False, verbose=False):\n",
    "    \"\"\"Get TF targets from the DESI observations DB for a given spectroscopic reduction.\n",
    "    \n",
    "    Parameters\n",
    "    ----------\n",
    "    redux : str\n",
    "        Spectroscopic reduction. E.g., 'everest', 'fuji', ...\n",
    "    use_cached : bool\n",
    "        Use cached data rather than re-running the query.\n",
    "    \n",
    "    Returns\n",
    "    -------\n",
    "    \n",
    "    tf_targets : Table\n",
    "        Table of Tully-Fisher observations.\n",
    "    \"\"\"\n",
    "    tf_targets = None\n",
    "\n",
    "    if os.path.exists(f'tf_targets_{redux}.fits') and use_cached:\n",
    "        tf_targets = Table.read('cache/tf_targets_{redux}.fits')\n",
    "    else:\n",
    "        try:\n",
    "            db = psycopg2.connect(host='decatdb.lbl.gov', database='desidb', user='desi', password='')\n",
    "            cursor = db.cursor()\n",
    "\n",
    "            query = f\"\"\"SELECT rdx.targetid, rdx.target_ra, rdx.target_dec, rdx.mean_fiber_ra, rdx.mean_fiber_dec, rdx.std_fiber_ra, rdx.std_fiber_dec, zd.z, zd.zerr, zd.spectype, zd.deltachi2, zd.zwarn, pv.pvtype, pv.sga_id\n",
    "                   FROM {redux}.healpix_fibermap as rdx, static.pv as pv, {redux}.healpix_redshifts as zd\n",
    "                   WHERE q3c_join(rdx.target_ra, rdx.target_dec, pv.ra, pv.dec, 1./3600.) \n",
    "                         AND zd.targetid = rdx.targetid;\"\"\"\n",
    "                         # AND pv.sga_id IS NOT NULL AND (pv.pvtype LIKE 'TFT' or pv.pvtype LIKE 'EXT' or pv.pvtype LIKE 'SGA');\"\"\"\n",
    "            \n",
    "            if verbose:\n",
    "                print(query)\n",
    "\n",
    "            cursor.execute(query)\n",
    "            rows = cursor.fetchall()\n",
    "            tf_targets = Table(list(map(list, zip(*rows))),\n",
    "                               names=['TARGETID', 'TARGET_RA', 'TARGET_DEC', 'MEAN_FIBER_RA', 'MEAN_FIBER_DEC','STD_FIBER_RA', 'STD_FIBER_DEC', 'Z', 'ZERR', 'SPECTYPE', 'DELTACHI2', 'ZWARN', 'PVTYPE', 'SGA_ID'])\n",
    "\n",
    "            #- Select only targets with SGA IDs and PV types matching SGA, EXT, and TFT\n",
    "            select = (tf_targets['SGA_ID'] != None) & \\\n",
    "                     ((tf_targets['PVTYPE'] == 'TFT') | \\\n",
    "                      (tf_targets['PVTYPE'] == 'EXT') | \\\n",
    "                      (tf_targets['PVTYPE'] == 'SGA'))\n",
    "            tf_targets = tf_targets[select]\n",
    "\n",
    "            #- Use TARGETID to extract the photometric system used during targeting\n",
    "            _, _, releases, _, _, _ = decode_targetid(tf_targets['TARGETID'].value)\n",
    "\n",
    "            photsys = []\n",
    "            for i, release in enumerate(releases):\n",
    "                ps = None\n",
    "\n",
    "                if release in releasedict:\n",
    "                    ps = release_to_photsys([release])[0].decode('utf-8')\n",
    "                else:\n",
    "                    #- Fall-through case: not all SGA center observations are in the main survey.\n",
    "                    #  In this case, select 'N' or 'S' based on the SGA object's position.\n",
    "                    ra  = tf_targets['TARGET_RA'][i]\n",
    "                    dec = tf_targets['TARGET_DEC'][i]\n",
    "                    c = SkyCoord(ra=ra, dec=dec, unit='degree')\n",
    "\n",
    "                    #- N: in galactic northern hemisphere and with dec > 32.375. Else, S.\n",
    "                    isnorth = (c.galactic.b > 0) & (dec > 32.375)\n",
    "                    ps = 'N' if isnorth else 'S'\n",
    "\n",
    "                photsys.append(ps)\n",
    "\n",
    "            #- Complain if the photsys table doesn't match the size of the Vrot table.\n",
    "            if len(photsys) != len(tf_targets):\n",
    "                print(f'photsys array of len {len(photsys)} != targets array of len {len(tf_targets)}')\n",
    "\n",
    "            tf_targets['PHOTSYS'] = photsys\n",
    "\n",
    "            # tf_targets.write(f'cache/tf_targets_{redux}.fits', overwrite=True)\n",
    "\n",
    "        except Exception as error:\n",
    "            print(error)\n",
    "        finally:\n",
    "            if db is not None:\n",
    "                db.close()\n",
    "\n",
    "    return tf_targets"
   ]
  },
  {
   "cell_type": "code",
   "execution_count": null,
   "id": "44b4870d-4fe4-43ca-a835-a32a5c59e990",
   "metadata": {},
   "outputs": [],
   "source": [
    "iron = get_tf_targets_modified('iron', verbose=True)\n",
    "iron"
   ]
  },
  {
   "cell_type": "code",
   "execution_count": null,
   "id": "c0b8020d-e0e9-4c7c-bb18-fefa2850ab17",
   "metadata": {},
   "outputs": [],
   "source": [
    "#Fix the fact that for some reason the SGA_ID column was doing weird stuff and not letting me save the table, and then save the table\n",
    "iron['SGA_ID'] = [str(item) for item in iron['SGA_ID']]\n",
    "iron.write('test_iron2.fits', overwrite=True)"
   ]
  },
  {
   "cell_type": "code",
   "execution_count": 4,
   "id": "0487b43f-afd9-49b5-a843-fa8043a3c0f7",
   "metadata": {
    "tags": []
   },
   "outputs": [
    {
     "data": {
      "text/html": [
       "<div><i>Table length=104074</i>\n",
       "<table id=\"table140633646234208\" class=\"table-striped table-bordered table-condensed\">\n",
       "<thead><tr><th>TARGETID</th><th>TARGET_RA</th><th>TARGET_DEC</th><th>Z</th><th>ZERR</th><th>SPECTYPE</th><th>DELTACHI2</th><th>ZWARN</th><th>PVTYPE</th><th>SGA_ID</th><th>PHOTSYS</th></tr></thead>\n",
       "<thead><tr><th>int64</th><th>float64</th><th>float64</th><th>float64</th><th>float64</th><th>bytes6</th><th>float64</th><th>int64</th><th>bytes3</th><th>bytes7</th><th>bytes1</th></tr></thead>\n",
       "<tr><td>-411444222</td><td>156.2181500220905</td><td>7.1584828480845655</td><td>0.1024816376852125</td><td>9.091035224678232e-05</td><td>GALAXY</td><td>0.046789859188720584</td><td>2053</td><td>TFT</td><td>4614</td><td>S</td></tr>\n",
       "<tr><td>-256075243</td><td>267.7127650902238</td><td>29.4851124724098</td><td>0.024937613795555466</td><td>2.443082948450574e-05</td><td>GALAXY</td><td>1544.5199036816193</td><td>2560</td><td>SGA</td><td>447725</td><td>S</td></tr>\n",
       "<tr><td>-255474428</td><td>318.1164926597467</td><td>-5.284018993812088</td><td>0.04895363299977777</td><td>7.857217657641379e-05</td><td>GALAXY</td><td>67.71628514182521</td><td>512</td><td>TFT</td><td>342501</td><td>S</td></tr>\n",
       "<tr><td>-239472210</td><td>323.5029072575962</td><td>2.5962361580108633</td><td>0.05705457943374285</td><td>2.4737644271185894e-05</td><td>GALAXY</td><td>36.335152571089566</td><td>2560</td><td>TFT</td><td>1245160</td><td>S</td></tr>\n",
       "<tr><td>-236269010</td><td>159.44155130148636</td><td>11.81644015613326</td><td>0.053693794815231316</td><td>2.0054150033577103e-06</td><td>GALAXY</td><td>17253.95412647724</td><td>2560</td><td>SGA</td><td>112426</td><td>S</td></tr>\n",
       "<tr><td>-220511122</td><td>158.60935975565818</td><td>4.101297858301211</td><td>0.14424105964001674</td><td>2.3386872353021118e-05</td><td>GALAXY</td><td>100.71361944824457</td><td>2560</td><td>TFT</td><td>1285714</td><td>S</td></tr>\n",
       "<tr><td>-215282046</td><td>135.38170916974107</td><td>2.899429822113334</td><td>0.0706704079002097</td><td>9.790452524988413e-06</td><td>GALAXY</td><td>552.1510838589165</td><td>2560</td><td>TFT</td><td>730406</td><td>S</td></tr>\n",
       "<tr><td>-215264164</td><td>139.65430579472775</td><td>0.3272206295408149</td><td>0.16939400371460273</td><td>1.6665502506260876e-05</td><td>GALAXY</td><td>1103.0728027746081</td><td>2560</td><td>SGA</td><td>460051</td><td>S</td></tr>\n",
       "<tr><td>-211637396</td><td>214.40836786160398</td><td>38.16543192183721</td><td>0.09247420765298109</td><td>8.226175105351364e-06</td><td>GALAXY</td><td>587.4189228154719</td><td>2560</td><td>TFT</td><td>908460</td><td>N</td></tr>\n",
       "<tr><td>-205733115</td><td>193.87126208164</td><td>-7.797971929442544</td><td>0.013093419338286685</td><td>7.450836365408793e-05</td><td>GALAXY</td><td>83.90202052048426</td><td>512</td><td>EXT</td><td>1232665</td><td>S</td></tr>\n",
       "<tr><td>...</td><td>...</td><td>...</td><td>...</td><td>...</td><td>...</td><td>...</td><td>...</td><td>...</td><td>...</td><td>...</td></tr>\n",
       "<tr><td>2305843039236528742</td><td>181.4577743610095</td><td>35.179417142909216</td><td>0.05378324654978045</td><td>2.810581107846241e-06</td><td>QSO</td><td>135429.2562070489</td><td>0</td><td>SGA</td><td>845637</td><td>N</td></tr>\n",
       "<tr><td>2305843039240720934</td><td>182.6844872232104</td><td>38.33616607806192</td><td>0.02294660020818373</td><td>1.3261861851073598e-06</td><td>GALAXY</td><td>257634.47864568233</td><td>0</td><td>TFT</td><td>303562</td><td>N</td></tr>\n",
       "<tr><td>2305843039249105294</td><td>178.956303374743</td><td>36.21201488148806</td><td>0.06833228101148067</td><td>1.6357849179077153e-05</td><td>GALAXY</td><td>14587.996620958671</td><td>0</td><td>SGA</td><td>307046</td><td>N</td></tr>\n",
       "<tr><td>2305843039249107721</td><td>178.78450492022284</td><td>36.029257262019804</td><td>0.14028182360204075</td><td>1.353816589404395e-05</td><td>QSO</td><td>33269.30801334977</td><td>0</td><td>SGA</td><td>749143</td><td>N</td></tr>\n",
       "<tr><td>2305843040717145248</td><td>312.92310395922635</td><td>0.8598596971835342</td><td>0.10666479906220153</td><td>1.1792357931019521e-05</td><td>QSO</td><td>56518.07348179072</td><td>0</td><td>SGA</td><td>5005128</td><td>S</td></tr>\n",
       "<tr><td>2305843042147377573</td><td>229.42431632783575</td><td>1.361211522756951</td><td>0.05702519209426754</td><td>8.596640103072037e-07</td><td>GALAXY</td><td>789834.7514038086</td><td>0</td><td>SGA</td><td>826758</td><td>S</td></tr>\n",
       "<tr><td>2305843042155806624</td><td>228.99677246471285</td><td>2.289811128143533</td><td>0.10459817672650898</td><td>2.8772061914850933e-05</td><td>GALAXY</td><td>3037.6726562129334</td><td>0</td><td>SGA</td><td>463533</td><td>S</td></tr>\n",
       "<tr><td>2305843042155810360</td><td>230.06568022226665</td><td>2.655078770961978</td><td>0.08335582927146148</td><td>2.2940666417533737e-05</td><td>GALAXY</td><td>4131.58505352959</td><td>0</td><td>SGA</td><td>921404</td><td>S</td></tr>\n",
       "<tr><td>2305843042197714698</td><td>232.1859441303683</td><td>3.5858980398345817</td><td>0.03832092056706872</td><td>1.4815031126478209e-05</td><td>GALAXY</td><td>7224.338487993693</td><td>0</td><td>SGA</td><td>569316</td><td>S</td></tr>\n",
       "<tr><td>2305843043351137689</td><td>268.2085462894215</td><td>25.73214552930346</td><td>1.6519590562845483</td><td>5.124459390835717e-05</td><td>GALAXY</td><td>213.3418583869934</td><td>0</td><td>SGA</td><td>158350</td><td>S</td></tr>\n",
       "</table></div>"
      ],
      "text/plain": [
       "<Table length=104074>\n",
       "      TARGETID          TARGET_RA          TARGET_DEC     ...  SGA_ID PHOTSYS\n",
       "       int64             float64            float64       ...  bytes7  bytes1\n",
       "------------------- ------------------ ------------------ ... ------- -------\n",
       "         -411444222  156.2181500220905 7.1584828480845655 ...    4614       S\n",
       "         -256075243  267.7127650902238   29.4851124724098 ...  447725       S\n",
       "         -255474428  318.1164926597467 -5.284018993812088 ...  342501       S\n",
       "         -239472210  323.5029072575962 2.5962361580108633 ... 1245160       S\n",
       "         -236269010 159.44155130148636  11.81644015613326 ...  112426       S\n",
       "         -220511122 158.60935975565818  4.101297858301211 ... 1285714       S\n",
       "         -215282046 135.38170916974107  2.899429822113334 ...  730406       S\n",
       "         -215264164 139.65430579472775 0.3272206295408149 ...  460051       S\n",
       "         -211637396 214.40836786160398  38.16543192183721 ...  908460       N\n",
       "         -205733115    193.87126208164 -7.797971929442544 ... 1232665       S\n",
       "                ...                ...                ... ...     ...     ...\n",
       "2305843039236528742  181.4577743610095 35.179417142909216 ...  845637       N\n",
       "2305843039240720934  182.6844872232104  38.33616607806192 ...  303562       N\n",
       "2305843039249105294   178.956303374743  36.21201488148806 ...  307046       N\n",
       "2305843039249107721 178.78450492022284 36.029257262019804 ...  749143       N\n",
       "2305843040717145248 312.92310395922635 0.8598596971835342 ... 5005128       S\n",
       "2305843042147377573 229.42431632783575  1.361211522756951 ...  826758       S\n",
       "2305843042155806624 228.99677246471285  2.289811128143533 ...  463533       S\n",
       "2305843042155810360 230.06568022226665  2.655078770961978 ...  921404       S\n",
       "2305843042197714698  232.1859441303683 3.5858980398345817 ...  569316       S\n",
       "2305843043351137689  268.2085462894215  25.73214552930346 ...  158350       S"
      ]
     },
     "execution_count": 4,
     "metadata": {},
     "output_type": "execute_result"
    }
   ],
   "source": [
    "#Read in iron table from new query\n",
    "test= Table.read('test_iron2.fits')\n",
    "test"
   ]
  },
  {
   "cell_type": "code",
   "execution_count": 5,
   "id": "a1883c64-1b44-4d52-a702-64145d3c813c",
   "metadata": {
    "tags": []
   },
   "outputs": [
    {
     "name": "stdout",
     "output_type": "stream",
     "text": [
      "Total values for the original query= 99102\n",
      "unique values for the original= 96661\n",
      "Total values for the test = 104074\n",
      "unique values for the test = 96661\n",
      "Number of data entries the lists have in common= 96661\n",
      "Number of data entries in the new test not in the original query= 0\n",
      "Number of data entries in the original query not in the new test= 0\n"
     ]
    }
   ],
   "source": [
    "#Compare the tables from the two different queries\n",
    "\n",
    "#Calculate the number of unique target ids that appear in each table\n",
    "\n",
    "unique_values_set = set(tiron['TARGETID'])\n",
    "\n",
    "print('Total values for the original query=', len(tiron['TARGETID']))\n",
    "print('unique values for the original=',len(unique_values_set))\n",
    "\n",
    "\n",
    "unique_in_test = set(test['TARGETID'])\n",
    "\n",
    "print('Total values for the test =', len(test['TARGETID']))\n",
    "print('unique values for the test =',len(unique_in_test))\n",
    "\n",
    "test_id = set(test['TARGETID'])\n",
    "tiron_id = set(tiron['TARGETID'])\n",
    "\n",
    "#Find the number of entries that are shared between the two sets\n",
    "common_ids = test_id.intersection(tiron_id)\n",
    "common_ids_list = list(common_ids)\n",
    "print('Number of data entries the lists have in common=' ,len(common_ids_list))\n",
    "\n",
    "#Find how many elements are not in both sets\n",
    "difference_ids1 = test_id.difference(tiron_id)\n",
    "different_ids1 = list(difference_ids1)\n",
    "\n",
    "difference_ids2 = tiron_id.difference(test_id)\n",
    "different_ids2 = list(difference_ids2)\n",
    "print('Number of data entries in the new test not in the original query=', len(different_ids1))\n",
    "print('Number of data entries in the original query not in the new test=', len(different_ids2))"
   ]
  },
  {
   "cell_type": "code",
   "execution_count": null,
   "id": "678f5878-50d1-440e-a2b1-a7af31dd75dc",
   "metadata": {},
   "outputs": [],
   "source": []
  },
  {
   "cell_type": "code",
   "execution_count": 4,
   "id": "99d76cec-dc4e-48b3-b206-6506496fe648",
   "metadata": {
    "tags": []
   },
   "outputs": [
    {
     "name": "stdout",
     "output_type": "stream",
     "text": [
      "SELECT rdx.targetid, rdx.target_ra, rdx.target_dec, rdx.mean_fiber_ra, rdx.mean_fiber_dec, rdx.std_fiber_ra, rdx.std_fiber_dec, zd.z, zd.zerr, zd.spectype, zd.deltachi2, zd.zwarn, pv.pvtype, pv.sga_id\n",
      "                   FROM jura.healpix_fibermap as rdx, static.pv as pv, jura.healpix_redshifts as zd\n",
      "                   WHERE q3c_join(rdx.target_ra, rdx.target_dec, pv.ra, pv.dec, 1./3600.) \n",
      "                         AND zd.targetid = rdx.targetid;\n"
     ]
    },
    {
     "data": {
      "text/html": [
       "<div><i>Table length=235167</i>\n",
       "<table id=\"table139965333163312\" class=\"table-striped table-bordered table-condensed\">\n",
       "<thead><tr><th>TARGETID</th><th>TARGET_RA</th><th>TARGET_DEC</th><th>MEAN_FIBER_RA</th><th>MEAN_FIBER_DEC</th><th>STD_FIBER_RA</th><th>STD_FIBER_DEC</th><th>Z</th><th>ZERR</th><th>SPECTYPE</th><th>DELTACHI2</th><th>ZWARN</th><th>PVTYPE</th><th>SGA_ID</th><th>PHOTSYS</th></tr></thead>\n",
       "<thead><tr><th>int64</th><th>float64</th><th>float64</th><th>float64</th><th>float64</th><th>float64</th><th>float64</th><th>float64</th><th>float64</th><th>str6</th><th>float64</th><th>int64</th><th>str3</th><th>str7</th><th>str1</th></tr></thead>\n",
       "<tr><td>-430502046</td><td>134.00013295228783</td><td>5.934552839997555</td><td>134.0000012447711</td><td>5.934402495943119</td><td>0.0</td><td>0.0</td><td>1.5211813094599733</td><td>9.536633276548175e-05</td><td>GALAXY</td><td>21.043927863240242</td><td>2049</td><td>TFT</td><td>838970</td><td>S</td></tr>\n",
       "<tr><td>-427872363</td><td>61.981718642816155</td><td>-22.823913110732356</td><td>61.981815755036905</td><td>-22.824112647850505</td><td>0.01692960597574711</td><td>0.01899055577814579</td><td>0.049085960824979194</td><td>8.765385426009584e-06</td><td>GALAXY</td><td>320.327581204474</td><td>2049</td><td>TFT</td><td>982213</td><td>S</td></tr>\n",
       "<tr><td>-411444222</td><td>156.2181500220905</td><td>7.1584828480845655</td><td>156.21807676457115</td><td>7.1586258676041306</td><td>0.0</td><td>0.0</td><td>0.7655265334224575</td><td>0.00014819907104570706</td><td>GALAXY</td><td>2.862433671951294</td><td>2053</td><td>TFT</td><td>4614</td><td>S</td></tr>\n",
       "<tr><td>-261707523</td><td>51.18809619857989</td><td>-15.380001206793725</td><td>51.18805131712048</td><td>-15.379972719695512</td><td>0.18443052470684052</td><td>0.270201712846756</td><td>0.11706841864860068</td><td>1.263477560383397e-05</td><td>GALAXY</td><td>5022.345633155666</td><td>512</td><td>SGA</td><td>788458</td><td>S</td></tr>\n",
       "<tr><td>-260779407</td><td>138.32747528464944</td><td>17.5639019859795</td><td>138.32760054746495</td><td>17.56391743552376</td><td>0.0</td><td>0.0</td><td>0.08569271543378945</td><td>9.438671035622181e-06</td><td>GALAXY</td><td>243.51359286904335</td><td>2560</td><td>TFT</td><td>735997</td><td>S</td></tr>\n",
       "<tr><td>-256075243</td><td>267.7127650902238</td><td>29.4851124724098</td><td>267.7127035487433</td><td>29.485378196733514</td><td>0.0</td><td>0.0</td><td>0.024938748634094107</td><td>2.4256075629217488e-05</td><td>GALAXY</td><td>1541.527919426706</td><td>2560</td><td>SGA</td><td>447725</td><td>S</td></tr>\n",
       "<tr><td>-255779143</td><td>324.7514856412927</td><td>-14.285073192391051</td><td>324.75157640573354</td><td>-14.285173696560276</td><td>0.0</td><td>0.0</td><td>0.06222014597085957</td><td>1.2531392899106468e-05</td><td>GALAXY</td><td>13019.724023681134</td><td>2560</td><td>SGA</td><td>344696</td><td>S</td></tr>\n",
       "<tr><td>-255474428</td><td>318.1164926597467</td><td>-5.284018993812088</td><td>318.1164721848627</td><td>-5.284046207257645</td><td>0.0</td><td>0.0</td><td>0.048956092264502225</td><td>7.806082205296064e-05</td><td>GALAXY</td><td>65.2918488328578</td><td>512</td><td>TFT</td><td>342501</td><td>S</td></tr>\n",
       "<tr><td>-253178294</td><td>171.33824183216043</td><td>53.64134341804524</td><td>171.33828946114534</td><td>53.64163818459112</td><td>0.0</td><td>0.0</td><td>0.033601461542572625</td><td>3.5901373601923224e-06</td><td>GALAXY</td><td>2593.072873726487</td><td>2560</td><td>TFT</td><td>32805</td><td>N</td></tr>\n",
       "<tr><td>-251109429</td><td>258.6266517495842</td><td>23.05966030445974</td><td>258.62675293179245</td><td>23.05957590980715</td><td>0.0</td><td>0.0</td><td>0.029007802739259413</td><td>3.1032198040959024e-06</td><td>GALAXY</td><td>13170.72806224291</td><td>2560</td><td>TFT</td><td>611168</td><td>S</td></tr>\n",
       "<tr><td>...</td><td>...</td><td>...</td><td>...</td><td>...</td><td>...</td><td>...</td><td>...</td><td>...</td><td>...</td><td>...</td><td>...</td><td>...</td><td>...</td><td>...</td></tr>\n",
       "<tr><td>2305843047637716361</td><td>44.04122946904737</td><td>-13.687843141230235</td><td>44.04120306536794</td><td>-13.687825266642273</td><td>0.16555888950824738</td><td>0.04209356755018234</td><td>0.023153309547441176</td><td>1.8641581089456068e-06</td><td>GALAXY</td><td>76186.79590055346</td><td>0</td><td>SGA</td><td>164187</td><td>S</td></tr>\n",
       "<tr><td>2305843047759352169</td><td>41.118246500576845</td><td>-9.622949309572391</td><td>41.11822782133538</td><td>-9.622952766831295</td><td>0.0</td><td>0.0</td><td>0.05704599509411568</td><td>5.22096757188456e-07</td><td>GALAXY</td><td>305751.5006828308</td><td>0</td><td>SGA</td><td>1068799</td><td>S</td></tr>\n",
       "<tr><td>2305843047776127933</td><td>34.170494613407485</td><td>-9.669387555071735</td><td>34.17049713360427</td><td>-9.669393263678524</td><td>0.001486578956246376</td><td>0.021029362455010414</td><td>0.0728203469400367</td><td>1.802500114440122e-06</td><td>GALAXY</td><td>70700.05493998528</td><td>0</td><td>SGA</td><td>914184</td><td>S</td></tr>\n",
       "<tr><td>2305843047792906496</td><td>37.51563024457585</td><td>-6.661295926001229</td><td>37.5156384578836</td><td>-6.661281562234639</td><td>0.006925496272742748</td><td>0.03767019137740135</td><td>0.047604842654665705</td><td>1.9829872488416394e-05</td><td>GALAXY</td><td>6132.722443480976</td><td>0</td><td>SGA</td><td>521429</td><td>S</td></tr>\n",
       "<tr><td>2305843047797103022</td><td>39.63633727856865</td><td>-6.677390171429402</td><td>39.63635847582003</td><td>-6.6773848879734325</td><td>0.0</td><td>0.0</td><td>0.00481652742047178</td><td>7.686585047777273e-07</td><td>GALAXY</td><td>183713.0446980819</td><td>0</td><td>EXT</td><td>94925</td><td>S</td></tr>\n",
       "<tr><td>2305843047813881178</td><td>44.750642525554106</td><td>-6.760521039692063</td><td>44.75066448324935</td><td>-6.760512015057372</td><td>0.0</td><td>0.0</td><td>0.029534172649832425</td><td>6.3090027439020956e-06</td><td>GALAXY</td><td>16509.064525023452</td><td>0</td><td>SGA</td><td>820032</td><td>S</td></tr>\n",
       "<tr><td>2305843047826461431</td><td>46.95095915260215</td><td>-4.262505743939569</td><td>46.950941134216635</td><td>-4.2625481456843435</td><td>0.0</td><td>0.0</td><td>0.0308842912619699</td><td>1.3233453037549412e-05</td><td>GALAXY</td><td>7363.5002101892605</td><td>0</td><td>SGA</td><td>222852</td><td>S</td></tr>\n",
       "<tr><td>2305843047826464963</td><td>46.71288649883268</td><td>-4.216199771395608</td><td>46.71283138923917</td><td>-4.21621323740598</td><td>0.0</td><td>0.0</td><td>0.03734037901046477</td><td>1.728081366913408e-05</td><td>GALAXY</td><td>5206.494989469134</td><td>0</td><td>SGA</td><td>794417</td><td>S</td></tr>\n",
       "<tr><td>2305843047830657327</td><td>47.981485787647266</td><td>-2.966562765936295</td><td>47.9814605004658</td><td>-2.966557271328591</td><td>0.0</td><td>0.0</td><td>0.028706919146645</td><td>4.07980824249545e-06</td><td>GALAXY</td><td>9530.491675913101</td><td>0</td><td>SGA</td><td>1030509</td><td>S</td></tr>\n",
       "<tr><td>2305843047830657392</td><td>47.19488692019924</td><td>-3.289741669968118</td><td>47.19486140272409</td><td>-3.289726663254201</td><td>0.0</td><td>0.0</td><td>0.028644934303112195</td><td>3.888272408241883e-06</td><td>GALAXY</td><td>26521.717114321887</td><td>0</td><td>SGA</td><td>597645</td><td>S</td></tr>\n",
       "</table></div>"
      ],
      "text/plain": [
       "<Table length=235167>\n",
       "      TARGETID          TARGET_RA           TARGET_DEC     ...  SGA_ID PHOTSYS\n",
       "       int64             float64             float64       ...   str7    str1 \n",
       "------------------- ------------------ ------------------- ... ------- -------\n",
       "         -430502046 134.00013295228783   5.934552839997555 ...  838970       S\n",
       "         -427872363 61.981718642816155 -22.823913110732356 ...  982213       S\n",
       "         -411444222  156.2181500220905  7.1584828480845655 ...    4614       S\n",
       "         -261707523  51.18809619857989 -15.380001206793725 ...  788458       S\n",
       "         -260779407 138.32747528464944    17.5639019859795 ...  735997       S\n",
       "         -256075243  267.7127650902238    29.4851124724098 ...  447725       S\n",
       "         -255779143  324.7514856412927 -14.285073192391051 ...  344696       S\n",
       "         -255474428  318.1164926597467  -5.284018993812088 ...  342501       S\n",
       "         -253178294 171.33824183216043   53.64134341804524 ...   32805       N\n",
       "         -251109429  258.6266517495842   23.05966030445974 ...  611168       S\n",
       "                ...                ...                 ... ...     ...     ...\n",
       "2305843047637716361  44.04122946904737 -13.687843141230235 ...  164187       S\n",
       "2305843047759352169 41.118246500576845  -9.622949309572391 ... 1068799       S\n",
       "2305843047776127933 34.170494613407485  -9.669387555071735 ...  914184       S\n",
       "2305843047792906496  37.51563024457585  -6.661295926001229 ...  521429       S\n",
       "2305843047797103022  39.63633727856865  -6.677390171429402 ...   94925       S\n",
       "2305843047813881178 44.750642525554106  -6.760521039692063 ...  820032       S\n",
       "2305843047826461431  46.95095915260215  -4.262505743939569 ...  222852       S\n",
       "2305843047826464963  46.71288649883268  -4.216199771395608 ...  794417       S\n",
       "2305843047830657327 47.981485787647266  -2.966562765936295 ... 1030509       S\n",
       "2305843047830657392  47.19488692019924  -3.289741669968118 ...  597645       S"
      ]
     },
     "execution_count": 4,
     "metadata": {},
     "output_type": "execute_result"
    }
   ],
   "source": [
    "jura = get_tf_targets_modified('jura', verbose=True)\n",
    "\n",
    "jura['SGA_ID'] = [str(item) for item in jura['SGA_ID']]\n",
    "jura.write('jura_test.fits', overwrite=True)\n",
    "\n",
    "jura"
   ]
  },
  {
   "cell_type": "code",
   "execution_count": 4,
   "id": "bbd0fc85-64dc-465d-892f-4d6f306187c4",
   "metadata": {},
   "outputs": [
    {
     "data": {
      "text/html": [
       "<div><i>Table length=235167</i>\n",
       "<table id=\"table140365058286752\" class=\"table-striped table-bordered table-condensed\">\n",
       "<thead><tr><th>TARGETID</th><th>TARGET_RA</th><th>TARGET_DEC</th><th>Z</th><th>ZERR</th><th>SPECTYPE</th><th>DELTACHI2</th><th>ZWARN</th><th>PVTYPE</th><th>SGA_ID</th><th>PHOTSYS</th></tr></thead>\n",
       "<thead><tr><th>int64</th><th>float64</th><th>float64</th><th>float64</th><th>float64</th><th>bytes6</th><th>float64</th><th>int64</th><th>bytes3</th><th>bytes7</th><th>bytes1</th></tr></thead>\n",
       "<tr><td>-430502046</td><td>134.00013295228783</td><td>5.934552839997555</td><td>1.5211813094599733</td><td>9.536633276548175e-05</td><td>GALAXY</td><td>21.043927863240242</td><td>2049</td><td>TFT</td><td>838970</td><td>S</td></tr>\n",
       "<tr><td>-427872363</td><td>61.981718642816155</td><td>-22.823913110732356</td><td>0.049085960824979194</td><td>8.765385426009584e-06</td><td>GALAXY</td><td>320.327581204474</td><td>2049</td><td>TFT</td><td>982213</td><td>S</td></tr>\n",
       "<tr><td>-411444222</td><td>156.2181500220905</td><td>7.1584828480845655</td><td>0.7655265334224575</td><td>0.00014819907104570706</td><td>GALAXY</td><td>2.862433671951294</td><td>2053</td><td>TFT</td><td>4614</td><td>S</td></tr>\n",
       "<tr><td>-261707523</td><td>51.18809619857989</td><td>-15.380001206793725</td><td>0.11706841864860068</td><td>1.263477560383397e-05</td><td>GALAXY</td><td>5022.345633155666</td><td>512</td><td>SGA</td><td>788458</td><td>S</td></tr>\n",
       "<tr><td>-260779407</td><td>138.32747528464944</td><td>17.5639019859795</td><td>0.08569271543378945</td><td>9.438671035622181e-06</td><td>GALAXY</td><td>243.51359286904335</td><td>2560</td><td>TFT</td><td>735997</td><td>S</td></tr>\n",
       "<tr><td>-256075243</td><td>267.7127650902238</td><td>29.4851124724098</td><td>0.024938748634094107</td><td>2.4256075629217488e-05</td><td>GALAXY</td><td>1541.527919426706</td><td>2560</td><td>SGA</td><td>447725</td><td>S</td></tr>\n",
       "<tr><td>-255779143</td><td>324.7514856412927</td><td>-14.285073192391051</td><td>0.06222014597085957</td><td>1.2531392899106468e-05</td><td>GALAXY</td><td>13019.724023681134</td><td>2560</td><td>SGA</td><td>344696</td><td>S</td></tr>\n",
       "<tr><td>-255474428</td><td>318.1164926597467</td><td>-5.284018993812088</td><td>0.048956092264502225</td><td>7.806082205296064e-05</td><td>GALAXY</td><td>65.2918488328578</td><td>512</td><td>TFT</td><td>342501</td><td>S</td></tr>\n",
       "<tr><td>-253178294</td><td>171.33824183216043</td><td>53.64134341804524</td><td>0.033601461542572625</td><td>3.5901373601923224e-06</td><td>GALAXY</td><td>2593.072873726487</td><td>2560</td><td>TFT</td><td>32805</td><td>N</td></tr>\n",
       "<tr><td>-251109429</td><td>258.6266517495842</td><td>23.05966030445974</td><td>0.029007802739259413</td><td>3.1032198040959024e-06</td><td>GALAXY</td><td>13170.72806224291</td><td>2560</td><td>TFT</td><td>611168</td><td>S</td></tr>\n",
       "<tr><td>...</td><td>...</td><td>...</td><td>...</td><td>...</td><td>...</td><td>...</td><td>...</td><td>...</td><td>...</td><td>...</td></tr>\n",
       "<tr><td>2305843047637716361</td><td>44.04122946904737</td><td>-13.687843141230235</td><td>0.023153309547441176</td><td>1.8641581089456068e-06</td><td>GALAXY</td><td>76186.79590055346</td><td>0</td><td>SGA</td><td>164187</td><td>S</td></tr>\n",
       "<tr><td>2305843047759352169</td><td>41.118246500576845</td><td>-9.622949309572391</td><td>0.05704599509411568</td><td>5.22096757188456e-07</td><td>GALAXY</td><td>305751.5006828308</td><td>0</td><td>SGA</td><td>1068799</td><td>S</td></tr>\n",
       "<tr><td>2305843047776127933</td><td>34.170494613407485</td><td>-9.669387555071735</td><td>0.0728203469400367</td><td>1.802500114440122e-06</td><td>GALAXY</td><td>70700.05493998528</td><td>0</td><td>SGA</td><td>914184</td><td>S</td></tr>\n",
       "<tr><td>2305843047792906496</td><td>37.51563024457585</td><td>-6.661295926001229</td><td>0.047604842654665705</td><td>1.9829872488416394e-05</td><td>GALAXY</td><td>6132.722443480976</td><td>0</td><td>SGA</td><td>521429</td><td>S</td></tr>\n",
       "<tr><td>2305843047797103022</td><td>39.63633727856865</td><td>-6.677390171429402</td><td>0.00481652742047178</td><td>7.686585047777273e-07</td><td>GALAXY</td><td>183713.0446980819</td><td>0</td><td>EXT</td><td>94925</td><td>S</td></tr>\n",
       "<tr><td>2305843047813881178</td><td>44.750642525554106</td><td>-6.760521039692063</td><td>0.029534172649832425</td><td>6.3090027439020956e-06</td><td>GALAXY</td><td>16509.064525023452</td><td>0</td><td>SGA</td><td>820032</td><td>S</td></tr>\n",
       "<tr><td>2305843047826461431</td><td>46.95095915260215</td><td>-4.262505743939569</td><td>0.0308842912619699</td><td>1.3233453037549412e-05</td><td>GALAXY</td><td>7363.5002101892605</td><td>0</td><td>SGA</td><td>222852</td><td>S</td></tr>\n",
       "<tr><td>2305843047826464963</td><td>46.71288649883268</td><td>-4.216199771395608</td><td>0.03734037901046477</td><td>1.728081366913408e-05</td><td>GALAXY</td><td>5206.494989469134</td><td>0</td><td>SGA</td><td>794417</td><td>S</td></tr>\n",
       "<tr><td>2305843047830657327</td><td>47.981485787647266</td><td>-2.966562765936295</td><td>0.028706919146645</td><td>4.07980824249545e-06</td><td>GALAXY</td><td>9530.491675913101</td><td>0</td><td>SGA</td><td>1030509</td><td>S</td></tr>\n",
       "<tr><td>2305843047830657392</td><td>47.19488692019924</td><td>-3.289741669968118</td><td>0.028644934303112195</td><td>3.888272408241883e-06</td><td>GALAXY</td><td>26521.717114321887</td><td>0</td><td>SGA</td><td>597645</td><td>S</td></tr>\n",
       "</table></div>"
      ],
      "text/plain": [
       "<Table length=235167>\n",
       "      TARGETID          TARGET_RA           TARGET_DEC     ...  SGA_ID PHOTSYS\n",
       "       int64             float64             float64       ...  bytes7  bytes1\n",
       "------------------- ------------------ ------------------- ... ------- -------\n",
       "         -430502046 134.00013295228783   5.934552839997555 ...  838970       S\n",
       "         -427872363 61.981718642816155 -22.823913110732356 ...  982213       S\n",
       "         -411444222  156.2181500220905  7.1584828480845655 ...    4614       S\n",
       "         -261707523  51.18809619857989 -15.380001206793725 ...  788458       S\n",
       "         -260779407 138.32747528464944    17.5639019859795 ...  735997       S\n",
       "         -256075243  267.7127650902238    29.4851124724098 ...  447725       S\n",
       "         -255779143  324.7514856412927 -14.285073192391051 ...  344696       S\n",
       "         -255474428  318.1164926597467  -5.284018993812088 ...  342501       S\n",
       "         -253178294 171.33824183216043   53.64134341804524 ...   32805       N\n",
       "         -251109429  258.6266517495842   23.05966030445974 ...  611168       S\n",
       "                ...                ...                 ... ...     ...     ...\n",
       "2305843047637716361  44.04122946904737 -13.687843141230235 ...  164187       S\n",
       "2305843047759352169 41.118246500576845  -9.622949309572391 ... 1068799       S\n",
       "2305843047776127933 34.170494613407485  -9.669387555071735 ...  914184       S\n",
       "2305843047792906496  37.51563024457585  -6.661295926001229 ...  521429       S\n",
       "2305843047797103022  39.63633727856865  -6.677390171429402 ...   94925       S\n",
       "2305843047813881178 44.750642525554106  -6.760521039692063 ...  820032       S\n",
       "2305843047826461431  46.95095915260215  -4.262505743939569 ...  222852       S\n",
       "2305843047826464963  46.71288649883268  -4.216199771395608 ...  794417       S\n",
       "2305843047830657327 47.981485787647266  -2.966562765936295 ... 1030509       S\n",
       "2305843047830657392  47.19488692019924  -3.289741669968118 ...  597645       S"
      ]
     },
     "execution_count": 4,
     "metadata": {},
     "output_type": "execute_result"
    }
   ],
   "source": [
    "#Save the JURA test table and see what it looks like\n",
    "\n",
    "jura['SGA_ID'] = [str(item) for item in jura['SGA_ID']]\n",
    "jura.write('jura_test.fits', overwrite=True)\n",
    "jura_test= Table.read('jura_test.fits')\n",
    "jura_test"
   ]
  },
  {
   "cell_type": "code",
   "execution_count": 5,
   "id": "3842aad2-d7d8-452d-80eb-eb0253e0d3e4",
   "metadata": {
    "tags": []
   },
   "outputs": [
    {
     "name": "stdout",
     "output_type": "stream",
     "text": [
      "Total values for the original query= 235167\n",
      "unique values for the original= 230250\n"
     ]
    }
   ],
   "source": [
    "print('Total values for the original query=', len(jura_test['TARGETID']))\n",
    "print('unique values for the original=',len(set(jura_test['TARGETID'])))"
   ]
  },
  {
   "cell_type": "code",
   "execution_count": 9,
   "id": "97350e4d-435d-4894-b89e-2c9d5d17e7f2",
   "metadata": {},
   "outputs": [
    {
     "name": "stdout",
     "output_type": "stream",
     "text": [
      "3 (<Column name='PVTYPE' dtype='bytes3' length=3>\n",
      "EXT\n",
      "SGA\n",
      "TFT, array([  3717,  65760, 165690]))\n"
     ]
    }
   ],
   "source": [
    "print(len(np.unique(jura_test['PVTYPE'])), np.unique(jura_test['PVTYPE'], return_counts=True))"
   ]
  },
  {
   "cell_type": "code",
   "execution_count": null,
   "id": "fa80b176-9df5-4e68-9d57-5559fc9bd033",
   "metadata": {},
   "outputs": [],
   "source": []
  },
  {
   "cell_type": "code",
   "execution_count": null,
   "id": "8a1150d7-ad9c-410b-a05f-45c2dc53b1ca",
   "metadata": {},
   "outputs": [],
   "source": []
  },
  {
   "cell_type": "code",
   "execution_count": null,
   "id": "8bc5da7a-019a-4e4f-aabb-3c42aeee707f",
   "metadata": {},
   "outputs": [],
   "source": []
  },
  {
   "cell_type": "code",
   "execution_count": 18,
   "id": "12154398-dcc1-4fd0-9dde-80a1759f03cf",
   "metadata": {
    "tags": []
   },
   "outputs": [
    {
     "name": "stdout",
     "output_type": "stream",
     "text": [
      "SELECT rdx.targetid, rdx.target_ra, rdx.target_dec, zd.z, zd.zerr, zd.spectype, zd.deltachi2, zd.zwarn, pv.pvtype, pv.sga_id\n",
      "                   FROM everest.healpix_fibermap as rdx, static.pv as pv, everest.healpix_redshifts as zd\n",
      "                   WHERE q3c_join(rdx.target_ra, rdx.target_dec, pv.ra, pv.dec, 1./3600.) \n",
      "                         AND zd.targetid = rdx.targetid;\n"
     ]
    },
    {
     "data": {
      "text/html": [
       "<div><i>Table length=19246</i>\n",
       "<table id=\"table140466846891552\" class=\"table-striped table-bordered table-condensed\">\n",
       "<thead><tr><th>TARGETID</th><th>TARGET_RA</th><th>TARGET_DEC</th><th>Z</th><th>ZERR</th><th>SPECTYPE</th><th>DELTACHI2</th><th>ZWARN</th><th>PVTYPE</th><th>SGA_ID</th><th>PHOTSYS</th></tr></thead>\n",
       "<thead><tr><th>int64</th><th>float64</th><th>float64</th><th>float64</th><th>float64</th><th>bytes6</th><th>float64</th><th>int64</th><th>bytes3</th><th>bytes7</th><th>bytes1</th></tr></thead>\n",
       "<tr><td>-106245656</td><td>214.40836786160398</td><td>38.16543192183721</td><td>-0.0019956912923479522</td><td>4.1311493573349107e-48</td><td>STAR</td><td>1.942668892225729e+84</td><td>3618</td><td>TFT</td><td>908460</td><td>N</td></tr>\n",
       "<tr><td>-103279575</td><td>193.87126208164</td><td>-7.797971929442544</td><td>-0.0019956912923479522</td><td>4.1311493573349107e-48</td><td>STAR</td><td>1.942668892225729e+84</td><td>1570</td><td>EXT</td><td>1232665</td><td>S</td></tr>\n",
       "<tr><td>-102479394</td><td>256.2862264156173</td><td>7.990707719122054</td><td>-0.0019956912923479522</td><td>4.1311493573349107e-48</td><td>STAR</td><td>1.942668892225729e+84</td><td>3618</td><td>SGA</td><td>1127864</td><td>S</td></tr>\n",
       "<tr><td>-11020318</td><td>216.24332255936653</td><td>35.35082958045987</td><td>-0.0019956912923479522</td><td>4.1311493573349107e-48</td><td>STAR</td><td>1.942668892225729e+84</td><td>1570</td><td>TFT</td><td>1287197</td><td>N</td></tr>\n",
       "<tr><td>-10865656</td><td>214.40835441201924</td><td>38.165409435947396</td><td>-0.0019956912923479522</td><td>4.1311493573349107e-48</td><td>STAR</td><td>1.942668892225729e+84</td><td>3618</td><td>TFT</td><td>908460</td><td>N</td></tr>\n",
       "<tr><td>-7899575</td><td>193.8713209296783</td><td>-7.797987680218857</td><td>-0.0019956912923479522</td><td>4.1311493573349107e-48</td><td>STAR</td><td>1.942668892225729e+84</td><td>1570</td><td>EXT</td><td>1232665</td><td>S</td></tr>\n",
       "<tr><td>-7099394</td><td>256.28620837882397</td><td>7.9906791127629555</td><td>-0.0019956912923479522</td><td>4.1311493573349107e-48</td><td>STAR</td><td>1.942668892225729e+84</td><td>1570</td><td>SGA</td><td>1127864</td><td>S</td></tr>\n",
       "<tr><td>-1916815</td><td>253.1225744031108</td><td>33.719069981503495</td><td>-0.0019956912923479522</td><td>4.1311493573349107e-48</td><td>STAR</td><td>1.942668892225729e+84</td><td>1570</td><td>TFT</td><td>276273</td><td>N</td></tr>\n",
       "<tr><td>-1326276</td><td>220.05055046471682</td><td>-0.27826736320203</td><td>-0.0019956912923479522</td><td>4.1311493573349107e-48</td><td>STAR</td><td>1.942668892225729e+84</td><td>1570</td><td>TFT</td><td>328560</td><td>S</td></tr>\n",
       "<tr><td>67855194259463</td><td>130.28639041727004</td><td>20.89577379903803</td><td>0.014856620618330317</td><td>8.152300427871768e-06</td><td>GALAXY</td><td>231.71337366476655</td><td>0</td><td>TFT</td><td>867551</td><td>S</td></tr>\n",
       "<tr><td>...</td><td>...</td><td>...</td><td>...</td><td>...</td><td>...</td><td>...</td><td>...</td><td>...</td><td>...</td><td>...</td></tr>\n",
       "<tr><td>2305843038204734191</td><td>180.52343426325763</td><td>0.6614010268947027</td><td>0.07841995636122122</td><td>1.993348104775966e-05</td><td>GALAXY</td><td>3399.129085869994</td><td>0</td><td>SGA</td><td>453436</td><td>S</td></tr>\n",
       "<tr><td>2305843038204734224</td><td>179.97861246081285</td><td>0.6169519617656167</td><td>0.10676060614265584</td><td>3.760544946149199e-05</td><td>GALAXY</td><td>1806.9092345507815</td><td>0</td><td>SGA</td><td>1365198</td><td>S</td></tr>\n",
       "<tr><td>2305843038204734475</td><td>179.60882861043538</td><td>0.7131064189064168</td><td>0.07861643580248108</td><td>4.135384788260221e-05</td><td>GALAXY</td><td>1962.0541958706453</td><td>0</td><td>SGA</td><td>91139</td><td>S</td></tr>\n",
       "<tr><td>2305843038695459155</td><td>194.54165733391122</td><td>24.34890035327964</td><td>0.022643050544741975</td><td>1.6179548115580248e-06</td><td>GALAXY</td><td>43010.36291448958</td><td>0</td><td>SGA</td><td>37866</td><td>S</td></tr>\n",
       "<tr><td>2305843038703845902</td><td>193.95454622778453</td><td>25.58714474794115</td><td>0.06928132612784801</td><td>2.235429235041524e-05</td><td>GALAXY</td><td>4131.501864941558</td><td>0</td><td>SGA</td><td>1275395</td><td>S</td></tr>\n",
       "<tr><td>2305843038703850421</td><td>194.21316640406138</td><td>26.8988703775957</td><td>0.0207480094495515</td><td>6.090409414690092e-06</td><td>GALAXY</td><td>15246.46520591942</td><td>0</td><td>TFT</td><td>1281982</td><td>S</td></tr>\n",
       "<tr><td>2305843038703851688</td><td>194.42928857191598</td><td>26.852380472919485</td><td>0.021236795071929673</td><td>1.4427807772087032e-05</td><td>GALAXY</td><td>5970.603453148593</td><td>0</td><td>SGA</td><td>1092279</td><td>S</td></tr>\n",
       "<tr><td>2305843038729013468</td><td>193.69881031051017</td><td>27.340228180474202</td><td>0.04012543289964803</td><td>2.3073134071490198e-05</td><td>GALAXY</td><td>4076.862021940993</td><td>0</td><td>SGA</td><td>1207116</td><td>S</td></tr>\n",
       "<tr><td>2305843038729015412</td><td>192.58296031281216</td><td>27.323985641164533</td><td>0.025527319422508913</td><td>3.808095044730965e-06</td><td>GALAXY</td><td>184814.43615285866</td><td>0</td><td>SGA</td><td>742937</td><td>S</td></tr>\n",
       "<tr><td>2305843042147377573</td><td>229.42431632783575</td><td>1.361211522756951</td><td>0.05702363775845089</td><td>8.644225660840183e-07</td><td>GALAXY</td><td>791602.8742284775</td><td>0</td><td>SGA</td><td>826758</td><td>S</td></tr>\n",
       "</table></div>"
      ],
      "text/plain": [
       "<Table length=19246>\n",
       "      TARGETID          TARGET_RA          TARGET_DEC     ...  SGA_ID PHOTSYS\n",
       "       int64             float64            float64       ...  bytes7  bytes1\n",
       "------------------- ------------------ ------------------ ... ------- -------\n",
       "         -106245656 214.40836786160398  38.16543192183721 ...  908460       N\n",
       "         -103279575    193.87126208164 -7.797971929442544 ... 1232665       S\n",
       "         -102479394  256.2862264156173  7.990707719122054 ... 1127864       S\n",
       "          -11020318 216.24332255936653  35.35082958045987 ... 1287197       N\n",
       "          -10865656 214.40835441201924 38.165409435947396 ...  908460       N\n",
       "           -7899575  193.8713209296783 -7.797987680218857 ... 1232665       S\n",
       "           -7099394 256.28620837882397 7.9906791127629555 ... 1127864       S\n",
       "           -1916815  253.1225744031108 33.719069981503495 ...  276273       N\n",
       "           -1326276 220.05055046471682  -0.27826736320203 ...  328560       S\n",
       "     67855194259463 130.28639041727004  20.89577379903803 ...  867551       S\n",
       "                ...                ...                ... ...     ...     ...\n",
       "2305843038204734191 180.52343426325763 0.6614010268947027 ...  453436       S\n",
       "2305843038204734224 179.97861246081285 0.6169519617656167 ... 1365198       S\n",
       "2305843038204734475 179.60882861043538 0.7131064189064168 ...   91139       S\n",
       "2305843038695459155 194.54165733391122  24.34890035327964 ...   37866       S\n",
       "2305843038703845902 193.95454622778453  25.58714474794115 ... 1275395       S\n",
       "2305843038703850421 194.21316640406138   26.8988703775957 ... 1281982       S\n",
       "2305843038703851688 194.42928857191598 26.852380472919485 ... 1092279       S\n",
       "2305843038729013468 193.69881031051017 27.340228180474202 ... 1207116       S\n",
       "2305843038729015412 192.58296031281216 27.323985641164533 ...  742937       S\n",
       "2305843042147377573 229.42431632783575  1.361211522756951 ...  826758       S"
      ]
     },
     "execution_count": 18,
     "metadata": {},
     "output_type": "execute_result"
    }
   ],
   "source": [
    "#Try the new query on the everest table to see if it recovers everything like Iron\n",
    "\n",
    "everest = get_tf_targets_modified('everest', verbose=True)\n",
    "\n",
    "#Fix the fact that for some reason the SGA_ID column was doing weird stuff and not letting me save the table, and then save the table\n",
    "everest['SGA_ID'] = [str(item) for item in everest['SGA_ID']]\n",
    "everest.write('test_everest.fits', overwrite=True)\n",
    "everest_test= Table.read('test_everest.fits')\n",
    "everest_test\n"
   ]
  },
  {
   "cell_type": "code",
   "execution_count": 10,
   "id": "f1eebbc5-ec4e-4472-8f4d-a9369dc2209f",
   "metadata": {
    "tags": []
   },
   "outputs": [
    {
     "data": {
      "text/html": [
       "<div><i>Table length=18180</i>\n",
       "<table id=\"table140466841739392\" class=\"table-striped table-bordered table-condensed\">\n",
       "<thead><tr><th>TARGETID</th><th>TARGET_RA</th><th>TARGET_DEC</th><th>HEALPIX</th><th>SURVEY</th><th>Z</th><th>ZERR</th><th>ZWARN</th><th>DELTACHI2</th><th>FILENAME</th><th>PVTYPE</th><th>SGA_ID</th><th>RA</th><th>DEC</th></tr></thead>\n",
       "<thead><tr><th>int64</th><th>float64</th><th>float64</th><th>int64</th><th>bytes4</th><th>float64</th><th>float64</th><th>int64</th><th>float64</th><th>bytes1</th><th>bytes3</th><th>int64</th><th>float64</th><th>float64</th></tr></thead>\n",
       "<tr><td>2399124498415623</td><td>214.013122385853</td><td>35.3145314097487</td><td>10511</td><td>main</td><td>0.888985760833643</td><td>0.00012204664140238</td><td>4</td><td>3.5203658118844</td><td>--</td><td>EXT</td><td>1229423</td><td>214.01312238585328</td><td>35.3145314097487</td></tr>\n",
       "<tr><td>2412318637948931</td><td>214.04164239659</td><td>35.3585395889941</td><td>10511</td><td>main</td><td>0.0136311722029368</td><td>3.14431330920849e-05</td><td>0</td><td>113.593752369361</td><td>--</td><td>EXT</td><td>1229423</td><td>214.04164239658957</td><td>35.35853958899406</td></tr>\n",
       "<tr><td>1092899764699136</td><td>216.00143660376</td><td>34.881062410803</td><td>10515</td><td>sv3</td><td>0.511231863324341</td><td>0.000149338383958002</td><td>4</td><td>0.700528137385845</td><td>--</td><td>EXT</td><td>682254</td><td>216.0014366037598</td><td>34.881062410803</td></tr>\n",
       "<tr><td>1079700659109889</td><td>216.061747702864</td><td>34.8365760573346</td><td>10515</td><td>sv3</td><td>0.449087430966155</td><td>6.39900937889053e-05</td><td>0</td><td>9.43113215267658</td><td>--</td><td>EXT</td><td>682254</td><td>216.06174770286376</td><td>34.836576057334575</td></tr>\n",
       "<tr><td>1092894798643201</td><td>216.061747702864</td><td>34.8365760573346</td><td>10515</td><td>sv3</td><td>0.907325853862498</td><td>0.000152981500789795</td><td>4</td><td>0.251146875321865</td><td>--</td><td>EXT</td><td>682254</td><td>216.06174770286376</td><td>34.836576057334575</td></tr>\n",
       "<tr><td>2412333884243973</td><td>249.490218609158</td><td>36.058332514444</td><td>9433</td><td>main</td><td>0.447663677679541</td><td>8.88242926270696e-05</td><td>4</td><td>2.51997595652938</td><td>--</td><td>EXT</td><td>306417</td><td>249.4902186091578</td><td>36.058332514444025</td></tr>\n",
       "<tr><td>2412428541296646</td><td>246.94530009636</td><td>40.9339918585217</td><td>9471</td><td>main</td><td>1.59664910536944</td><td>0.000142278099548223</td><td>0</td><td>16.4966533521656</td><td>--</td><td>EXT</td><td>1141359</td><td>246.94530009636003</td><td>40.93399185852167</td></tr>\n",
       "<tr><td>1079037296377859</td><td>208.975477166485</td><td>5.30336633406908</td><td>26091</td><td>sv3</td><td>1.40202297072998</td><td>7.13955539614258e-05</td><td>4</td><td>8.70454740524292</td><td>--</td><td>EXT</td><td>865490</td><td>208.9754771664854</td><td>5.303366334069084</td></tr>\n",
       "<tr><td>1092231435911171</td><td>208.975477166485</td><td>5.30336633406908</td><td>26091</td><td>sv3</td><td>1.63417441622298</td><td>0.000157425962002011</td><td>0</td><td>10.7714080065489</td><td>--</td><td>EXT</td><td>865490</td><td>208.9754771664854</td><td>5.303366334069084</td></tr>\n",
       "<tr><td>1079037300572160</td><td>209.084716493457</td><td>5.20650793636111</td><td>26091</td><td>sv3</td><td>0.907165266650967</td><td>0.000104003616537847</td><td>4</td><td>3.54499135911465</td><td>--</td><td>EXT</td><td>865490</td><td>209.0847164934571</td><td>5.206507936361107</td></tr>\n",
       "<tr><td>...</td><td>...</td><td>...</td><td>...</td><td>...</td><td>...</td><td>...</td><td>...</td><td>...</td><td>...</td><td>...</td><td>...</td><td>...</td><td>...</td></tr>\n",
       "<tr><td>39628362678797610</td><td>195.982357847492</td><td>24.3930739487093</td><td>28117</td><td>sv3</td><td>0.0728440383380902</td><td>1.35643118086595e-05</td><td>0</td><td>14289.6751774736</td><td>--</td><td>TFT</td><td>1245146</td><td>195.98235784749207</td><td>24.39307394870928</td></tr>\n",
       "<tr><td>39628362678799621</td><td>196.088607649212</td><td>24.4302441008898</td><td>28117</td><td>sv3</td><td>0.0251351182333122</td><td>3.57334797495703e-06</td><td>0</td><td>2665.09347881377</td><td>--</td><td>TFT</td><td>455486</td><td>196.088607649212</td><td>24.43024410088983</td></tr>\n",
       "<tr><td>39628340574815199</td><td>196.117619469496</td><td>23.5750930150952</td><td>28030</td><td>sv3</td><td>0.0314410364920554</td><td>9.05294960620667e-06</td><td>0</td><td>2311.26806679707</td><td>--</td><td>TFT</td><td>464774</td><td>196.11761946949622</td><td>23.575093015095153</td></tr>\n",
       "<tr><td>39628373667876718</td><td>196.194044103987</td><td>24.9823966250258</td><td>28117</td><td>sv3</td><td>0.0792715709415929</td><td>9.02104005099826e-06</td><td>0</td><td>5502.75792983174</td><td>--</td><td>TFT</td><td>477805</td><td>196.19404410398695</td><td>24.982396625025793</td></tr>\n",
       "<tr><td>39628340532874923</td><td>193.573130964063</td><td>23.4186753107925</td><td>28114</td><td>sv3</td><td>0.0825755821925748</td><td>2.26119166934425e-05</td><td>0</td><td>1225.10528617911</td><td>--</td><td>TFT</td><td>638753</td><td>193.57313096406338</td><td>23.418675310792494</td></tr>\n",
       "<tr><td>39628362636854781</td><td>193.248468660564</td><td>24.4005215786347</td><td>28121</td><td>sv3</td><td>0.0706179766880358</td><td>1.05266891236473e-05</td><td>0</td><td>4462.16121495515</td><td>--</td><td>TFT</td><td>1117018</td><td>193.24846866056447</td><td>24.400521578634716</td></tr>\n",
       "<tr><td>2403145246310401</td><td>227.842723277565</td><td>17.7702989586409</td><td>8608</td><td>main</td><td>0.0778853765859862</td><td>1.15808734891021e-05</td><td>0</td><td>153.515319168568</td><td>--</td><td>TFT</td><td>209216</td><td>227.84272327756548</td><td>17.770298958640858</td></tr>\n",
       "<tr><td>2403173956321286</td><td>228.058262698436</td><td>19.0094572959516</td><td>8611</td><td>main</td><td>0.0733630490822666</td><td>2.74904441015406e-05</td><td>0</td><td>265.289275419294</td><td>--</td><td>TFT</td><td>1345345</td><td>228.05826269843638</td><td>19.009457295951616</td></tr>\n",
       "<tr><td>2403087213920258</td><td>224.423814417678</td><td>15.2666099790636</td><td>8434</td><td>main</td><td>0.0348786509223853</td><td>5.15053928134192e-05</td><td>0</td><td>43.0987272736966</td><td>--</td><td>TFT</td><td>1355710</td><td>224.42381441767822</td><td>15.266609979063608</td></tr>\n",
       "<tr><td>2403162514259971</td><td>229.004582034045</td><td>18.444489763665</td><td>8612</td><td>main</td><td>0.0384528792022359</td><td>1.02460993771049e-05</td><td>0</td><td>504.932244105992</td><td>--</td><td>TFT</td><td>728836</td><td>229.00458203404511</td><td>18.44448976366495</td></tr>\n",
       "</table></div>"
      ],
      "text/plain": [
       "<Table length=18180>\n",
       "     TARGETID        TARGET_RA     ...         RA                DEC        \n",
       "      int64           float64      ...      float64            float64      \n",
       "----------------- ---------------- ... ------------------ ------------------\n",
       " 2399124498415623 214.013122385853 ... 214.01312238585328   35.3145314097487\n",
       " 2412318637948931  214.04164239659 ... 214.04164239658957  35.35853958899406\n",
       " 1092899764699136  216.00143660376 ...  216.0014366037598    34.881062410803\n",
       " 1079700659109889 216.061747702864 ... 216.06174770286376 34.836576057334575\n",
       " 1092894798643201 216.061747702864 ... 216.06174770286376 34.836576057334575\n",
       " 2412333884243973 249.490218609158 ...  249.4902186091578 36.058332514444025\n",
       " 2412428541296646  246.94530009636 ... 246.94530009636003  40.93399185852167\n",
       " 1079037296377859 208.975477166485 ...  208.9754771664854  5.303366334069084\n",
       " 1092231435911171 208.975477166485 ...  208.9754771664854  5.303366334069084\n",
       " 1079037300572160 209.084716493457 ...  209.0847164934571  5.206507936361107\n",
       "              ...              ... ...                ...                ...\n",
       "39628362678797610 195.982357847492 ... 195.98235784749207  24.39307394870928\n",
       "39628362678799621 196.088607649212 ...   196.088607649212  24.43024410088983\n",
       "39628340574815199 196.117619469496 ... 196.11761946949622 23.575093015095153\n",
       "39628373667876718 196.194044103987 ... 196.19404410398695 24.982396625025793\n",
       "39628340532874923 193.573130964063 ... 193.57313096406338 23.418675310792494\n",
       "39628362636854781 193.248468660564 ... 193.24846866056447 24.400521578634716\n",
       " 2403145246310401 227.842723277565 ... 227.84272327756548 17.770298958640858\n",
       " 2403173956321286 228.058262698436 ... 228.05826269843638 19.009457295951616\n",
       " 2403087213920258 224.423814417678 ... 224.42381441767822 15.266609979063608\n",
       " 2403162514259971 229.004582034045 ... 229.00458203404511  18.44448976366495"
      ]
     },
     "execution_count": 10,
     "metadata": {},
     "output_type": "execute_result"
    }
   ],
   "source": [
    "everest_table = Table.read('/global/cfs/projectdirs/desi/science/td/pv/tfgalaxies/desi_pv_tf_everest_healpix.fits')\n",
    "everest_table"
   ]
  },
  {
   "cell_type": "code",
   "execution_count": 12,
   "id": "5c77ec7f-051d-4d76-aa4c-b58c2a9b4cac",
   "metadata": {
    "tags": []
   },
   "outputs": [
    {
     "name": "stdout",
     "output_type": "stream",
     "text": [
      "Total values for the original query= 18180\n",
      "unique values for the original= 17653\n",
      "Total values for the test = 19246\n",
      "unique values for the test = 17653\n",
      "Number of data entries the lists have in common= 17653\n",
      "Number of data entries in the new test not in the original query= 0\n",
      "Number of data entries in the original query not in the new test= 0\n"
     ]
    }
   ],
   "source": [
    "#Compare the tables from the two different queries\n",
    "\n",
    "#Calculate the number of unique target ids that appear in each table\n",
    "\n",
    "unique_values_set = set(everest_table['TARGETID'])\n",
    "\n",
    "print('Total values for the original query=', len(everest_table['TARGETID']))\n",
    "print('unique values for the original=',len(unique_values_set))\n",
    "\n",
    "\n",
    "unique_in_test = set(everest_test['TARGETID'])\n",
    "\n",
    "print('Total values for the test =', len(everest_test['TARGETID']))\n",
    "print('unique values for the test =',len(unique_in_test))\n",
    "\n",
    "everest_test_id = set(everest_test['TARGETID'])\n",
    "everest_table_id = set(everest_table['TARGETID'])\n",
    "\n",
    "#Find the number of entries that are shared between the two sets\n",
    "common_ids = everest_test_id.intersection(everest_table_id)\n",
    "common_ids_list = list(common_ids)\n",
    "print('Number of data entries the lists have in common=' ,len(common_ids_list))\n",
    "\n",
    "#Find how many elements are not in both sets\n",
    "difference_ids1 = everest_test_id.difference(everest_table_id)\n",
    "different_ids1 = list(difference_ids1)\n",
    "\n",
    "difference_ids2 = everest_table_id.ifference(everest_test_id)\n",
    "different_ids2 = list(difference_ids2)\n",
    "print('Number of data entries in the new test not in the original query=', len(different_ids1))\n",
    "print('Number of data entries in the original query not in the new test=', len(different_ids2))"
   ]
  },
  {
   "cell_type": "code",
   "execution_count": null,
   "id": "27b0c1c3-b875-49c0-8615-6b8cc769b0bb",
   "metadata": {},
   "outputs": [],
   "source": []
  },
  {
   "cell_type": "code",
   "execution_count": null,
   "id": "077da199-67ed-437d-b720-abbfb5f63748",
   "metadata": {},
   "outputs": [],
   "source": []
  },
  {
   "cell_type": "code",
   "execution_count": 11,
   "id": "627ee657-a60d-4156-acae-63557d0b6847",
   "metadata": {
    "tags": []
   },
   "outputs": [
    {
     "data": {
      "text/html": [
       "<div><i>Table length=235167</i>\n",
       "<table id=\"table140365058287904\" class=\"table-striped table-bordered table-condensed\">\n",
       "<thead><tr><th>TARGETID</th><th>TARGET_RA</th><th>TARGET_DEC</th><th>Z</th><th>ZERR</th><th>SPECTYPE</th><th>DELTACHI2</th><th>ZWARN</th><th>PVTYPE</th><th>SGA_ID</th><th>PHOTSYS</th></tr></thead>\n",
       "<thead><tr><th>int64</th><th>float64</th><th>float64</th><th>float64</th><th>float64</th><th>bytes6</th><th>float64</th><th>int64</th><th>bytes3</th><th>bytes7</th><th>bytes1</th></tr></thead>\n",
       "<tr><td>-430502046</td><td>134.00013295228783</td><td>5.934552839997555</td><td>1.5211813094599733</td><td>9.536633276548175e-05</td><td>GALAXY</td><td>21.043927863240242</td><td>2049</td><td>TFT</td><td>838970</td><td>S</td></tr>\n",
       "<tr><td>-427872363</td><td>61.981718642816155</td><td>-22.823913110732356</td><td>0.049085960824979194</td><td>8.765385426009584e-06</td><td>GALAXY</td><td>320.327581204474</td><td>2049</td><td>TFT</td><td>982213</td><td>S</td></tr>\n",
       "<tr><td>-411444222</td><td>156.2181500220905</td><td>7.1584828480845655</td><td>0.7655265334224575</td><td>0.00014819907104570706</td><td>GALAXY</td><td>2.862433671951294</td><td>2053</td><td>TFT</td><td>4614</td><td>S</td></tr>\n",
       "<tr><td>-261707523</td><td>51.18809619857989</td><td>-15.380001206793725</td><td>0.11706841864860068</td><td>1.263477560383397e-05</td><td>GALAXY</td><td>5022.345633155666</td><td>512</td><td>SGA</td><td>788458</td><td>S</td></tr>\n",
       "<tr><td>-260779407</td><td>138.32747528464944</td><td>17.5639019859795</td><td>0.08569271543378945</td><td>9.438671035622181e-06</td><td>GALAXY</td><td>243.51359286904335</td><td>2560</td><td>TFT</td><td>735997</td><td>S</td></tr>\n",
       "<tr><td>-256075243</td><td>267.7127650902238</td><td>29.4851124724098</td><td>0.024938748634094107</td><td>2.4256075629217488e-05</td><td>GALAXY</td><td>1541.527919426706</td><td>2560</td><td>SGA</td><td>447725</td><td>S</td></tr>\n",
       "<tr><td>-255779143</td><td>324.7514856412927</td><td>-14.285073192391051</td><td>0.06222014597085957</td><td>1.2531392899106468e-05</td><td>GALAXY</td><td>13019.724023681134</td><td>2560</td><td>SGA</td><td>344696</td><td>S</td></tr>\n",
       "<tr><td>-255474428</td><td>318.1164926597467</td><td>-5.284018993812088</td><td>0.048956092264502225</td><td>7.806082205296064e-05</td><td>GALAXY</td><td>65.2918488328578</td><td>512</td><td>TFT</td><td>342501</td><td>S</td></tr>\n",
       "<tr><td>-253178294</td><td>171.33824183216043</td><td>53.64134341804524</td><td>0.033601461542572625</td><td>3.5901373601923224e-06</td><td>GALAXY</td><td>2593.072873726487</td><td>2560</td><td>TFT</td><td>32805</td><td>N</td></tr>\n",
       "<tr><td>-251109429</td><td>258.6266517495842</td><td>23.05966030445974</td><td>0.029007802739259413</td><td>3.1032198040959024e-06</td><td>GALAXY</td><td>13170.72806224291</td><td>2560</td><td>TFT</td><td>611168</td><td>S</td></tr>\n",
       "<tr><td>...</td><td>...</td><td>...</td><td>...</td><td>...</td><td>...</td><td>...</td><td>...</td><td>...</td><td>...</td><td>...</td></tr>\n",
       "<tr><td>2305843047637716361</td><td>44.04122946904737</td><td>-13.687843141230235</td><td>0.023153309547441176</td><td>1.8641581089456068e-06</td><td>GALAXY</td><td>76186.79590055346</td><td>0</td><td>SGA</td><td>164187</td><td>S</td></tr>\n",
       "<tr><td>2305843047759352169</td><td>41.118246500576845</td><td>-9.622949309572391</td><td>0.05704599509411568</td><td>5.22096757188456e-07</td><td>GALAXY</td><td>305751.5006828308</td><td>0</td><td>SGA</td><td>1068799</td><td>S</td></tr>\n",
       "<tr><td>2305843047776127933</td><td>34.170494613407485</td><td>-9.669387555071735</td><td>0.0728203469400367</td><td>1.802500114440122e-06</td><td>GALAXY</td><td>70700.05493998528</td><td>0</td><td>SGA</td><td>914184</td><td>S</td></tr>\n",
       "<tr><td>2305843047792906496</td><td>37.51563024457585</td><td>-6.661295926001229</td><td>0.047604842654665705</td><td>1.9829872488416394e-05</td><td>GALAXY</td><td>6132.722443480976</td><td>0</td><td>SGA</td><td>521429</td><td>S</td></tr>\n",
       "<tr><td>2305843047797103022</td><td>39.63633727856865</td><td>-6.677390171429402</td><td>0.00481652742047178</td><td>7.686585047777273e-07</td><td>GALAXY</td><td>183713.0446980819</td><td>0</td><td>EXT</td><td>94925</td><td>S</td></tr>\n",
       "<tr><td>2305843047813881178</td><td>44.750642525554106</td><td>-6.760521039692063</td><td>0.029534172649832425</td><td>6.3090027439020956e-06</td><td>GALAXY</td><td>16509.064525023452</td><td>0</td><td>SGA</td><td>820032</td><td>S</td></tr>\n",
       "<tr><td>2305843047826461431</td><td>46.95095915260215</td><td>-4.262505743939569</td><td>0.0308842912619699</td><td>1.3233453037549412e-05</td><td>GALAXY</td><td>7363.5002101892605</td><td>0</td><td>SGA</td><td>222852</td><td>S</td></tr>\n",
       "<tr><td>2305843047826464963</td><td>46.71288649883268</td><td>-4.216199771395608</td><td>0.03734037901046477</td><td>1.728081366913408e-05</td><td>GALAXY</td><td>5206.494989469134</td><td>0</td><td>SGA</td><td>794417</td><td>S</td></tr>\n",
       "<tr><td>2305843047830657327</td><td>47.981485787647266</td><td>-2.966562765936295</td><td>0.028706919146645</td><td>4.07980824249545e-06</td><td>GALAXY</td><td>9530.491675913101</td><td>0</td><td>SGA</td><td>1030509</td><td>S</td></tr>\n",
       "<tr><td>2305843047830657392</td><td>47.19488692019924</td><td>-3.289741669968118</td><td>0.028644934303112195</td><td>3.888272408241883e-06</td><td>GALAXY</td><td>26521.717114321887</td><td>0</td><td>SGA</td><td>597645</td><td>S</td></tr>\n",
       "</table></div>"
      ],
      "text/plain": [
       "<Table length=235167>\n",
       "      TARGETID          TARGET_RA           TARGET_DEC     ...  SGA_ID PHOTSYS\n",
       "       int64             float64             float64       ...  bytes7  bytes1\n",
       "------------------- ------------------ ------------------- ... ------- -------\n",
       "         -430502046 134.00013295228783   5.934552839997555 ...  838970       S\n",
       "         -427872363 61.981718642816155 -22.823913110732356 ...  982213       S\n",
       "         -411444222  156.2181500220905  7.1584828480845655 ...    4614       S\n",
       "         -261707523  51.18809619857989 -15.380001206793725 ...  788458       S\n",
       "         -260779407 138.32747528464944    17.5639019859795 ...  735997       S\n",
       "         -256075243  267.7127650902238    29.4851124724098 ...  447725       S\n",
       "         -255779143  324.7514856412927 -14.285073192391051 ...  344696       S\n",
       "         -255474428  318.1164926597467  -5.284018993812088 ...  342501       S\n",
       "         -253178294 171.33824183216043   53.64134341804524 ...   32805       N\n",
       "         -251109429  258.6266517495842   23.05966030445974 ...  611168       S\n",
       "                ...                ...                 ... ...     ...     ...\n",
       "2305843047637716361  44.04122946904737 -13.687843141230235 ...  164187       S\n",
       "2305843047759352169 41.118246500576845  -9.622949309572391 ... 1068799       S\n",
       "2305843047776127933 34.170494613407485  -9.669387555071735 ...  914184       S\n",
       "2305843047792906496  37.51563024457585  -6.661295926001229 ...  521429       S\n",
       "2305843047797103022  39.63633727856865  -6.677390171429402 ...   94925       S\n",
       "2305843047813881178 44.750642525554106  -6.760521039692063 ...  820032       S\n",
       "2305843047826461431  46.95095915260215  -4.262505743939569 ...  222852       S\n",
       "2305843047826464963  46.71288649883268  -4.216199771395608 ...  794417       S\n",
       "2305843047830657327 47.981485787647266  -2.966562765936295 ... 1030509       S\n",
       "2305843047830657392  47.19488692019924  -3.289741669968118 ...  597645       S"
      ]
     },
     "execution_count": 11,
     "metadata": {},
     "output_type": "execute_result"
    }
   ],
   "source": [
    "jura_test= Table.read('jura_test.fits')\n",
    "jura_test"
   ]
  },
  {
   "cell_type": "code",
   "execution_count": 12,
   "id": "0490b3a6-cc23-402c-bfd4-6ac4cb1dc9d8",
   "metadata": {
    "tags": []
   },
   "outputs": [],
   "source": [
    "jura_test['SGA_ID'] = jura_test['SGA_ID'].astype(np.int32)"
   ]
  },
  {
   "cell_type": "code",
   "execution_count": 14,
   "id": "b8105228-794c-47f8-8249-36047fc4258b",
   "metadata": {
    "tags": []
   },
   "outputs": [],
   "source": [
    "jura_test.write('jura_test.fits', overwrite=True)"
   ]
  },
  {
   "cell_type": "code",
   "execution_count": 16,
   "id": "b3a3a3a7-cd7c-428f-8a89-f8878dec1dea",
   "metadata": {
    "tags": []
   },
   "outputs": [
    {
     "data": {
      "text/html": [
       "&lt;Column name=&apos;TARGET_RA&apos; dtype=&apos;float64&apos; length=99102&gt;\n",
       "<table>\n",
       "<tr><td>-3.410605131648481e-13</td></tr>\n",
       "<tr><td>-3.694822225952521e-13</td></tr>\n",
       "<tr><td>5.684341886080802e-14</td></tr>\n",
       "<tr><td>1.4210854715202004e-13</td></tr>\n",
       "<tr><td>-2.5579538487363607e-13</td></tr>\n",
       "<tr><td>-2.5579538487363607e-13</td></tr>\n",
       "<tr><td>3.126388037344441e-13</td></tr>\n",
       "<tr><td>4.547473508864641e-13</td></tr>\n",
       "<tr><td>-2.5579538487363607e-13</td></tr>\n",
       "<tr><td>9.947598300641403e-14</td></tr>\n",
       "<tr><td>3.126388037344441e-13</td></tr>\n",
       "<tr><td>-2.8421709430404007e-13</td></tr>\n",
       "<tr><td>...</td></tr>\n",
       "<tr><td>-3.126388037344441e-13</td></tr>\n",
       "<tr><td>2.8421709430404007e-13</td></tr>\n",
       "<tr><td>1.1368683772161603e-13</td></tr>\n",
       "<tr><td>4.831690603168681e-13</td></tr>\n",
       "<tr><td>7.243574060566971e-06</td></tr>\n",
       "<tr><td>3.694822225952521e-13</td></tr>\n",
       "<tr><td>-3.979039320256561e-13</td></tr>\n",
       "<tr><td>-2.2737367544323206e-13</td></tr>\n",
       "<tr><td>-1.1368683772161603e-13</td></tr>\n",
       "<tr><td>4.831690603168681e-13</td></tr>\n",
       "<tr><td>4.547473508864641e-13</td></tr>\n",
       "<tr><td>-5.684341886080802e-14</td></tr>\n",
       "</table>"
      ],
      "text/plain": [
       "<Column name='TARGET_RA' dtype='float64' length=99102>\n",
       " -3.410605131648481e-13\n",
       " -3.694822225952521e-13\n",
       "  5.684341886080802e-14\n",
       " 1.4210854715202004e-13\n",
       "-2.5579538487363607e-13\n",
       "-2.5579538487363607e-13\n",
       "  3.126388037344441e-13\n",
       "  4.547473508864641e-13\n",
       "-2.5579538487363607e-13\n",
       "  9.947598300641403e-14\n",
       "  3.126388037344441e-13\n",
       "-2.8421709430404007e-13\n",
       "                    ...\n",
       " -3.126388037344441e-13\n",
       " 2.8421709430404007e-13\n",
       " 1.1368683772161603e-13\n",
       "  4.831690603168681e-13\n",
       "  7.243574060566971e-06\n",
       "  3.694822225952521e-13\n",
       " -3.979039320256561e-13\n",
       "-2.2737367544323206e-13\n",
       "-1.1368683772161603e-13\n",
       "  4.831690603168681e-13\n",
       "  4.547473508864641e-13\n",
       " -5.684341886080802e-14"
      ]
     },
     "execution_count": 16,
     "metadata": {},
     "output_type": "execute_result"
    }
   ],
   "source": [
    "diffs = tiron['TARGET_RA'] - tiron['RA']\n",
    "diffs"
   ]
  },
  {
   "cell_type": "code",
   "execution_count": 17,
   "id": "2292481d-6786-4361-be80-5b5a5d683c9b",
   "metadata": {
    "tags": []
   },
   "outputs": [],
   "source": [
    "diffs.sort()"
   ]
  },
  {
   "cell_type": "code",
   "execution_count": 18,
   "id": "1931e862-628a-460c-8775-79dba0eb599c",
   "metadata": {
    "tags": []
   },
   "outputs": [
    {
     "data": {
      "text/html": [
       "&lt;Column name=&apos;TARGET_RA&apos; dtype=&apos;float64&apos; length=99102&gt;\n",
       "<table>\n",
       "<tr><td>-0.0005964179422903726</td></tr>\n",
       "<tr><td>-0.000499312480314984</td></tr>\n",
       "<tr><td>-0.0004923576482269709</td></tr>\n",
       "<tr><td>-0.0004745578369238501</td></tr>\n",
       "<tr><td>-0.00046717002754803616</td></tr>\n",
       "<tr><td>-0.0004589130177237166</td></tr>\n",
       "<tr><td>-0.0004354194299480696</td></tr>\n",
       "<tr><td>-0.00041874097115623954</td></tr>\n",
       "<tr><td>-0.00040720784454606473</td></tr>\n",
       "<tr><td>-0.0004053161319177434</td></tr>\n",
       "<tr><td>-0.00040066666653615357</td></tr>\n",
       "<tr><td>-0.000400615606821475</td></tr>\n",
       "<tr><td>...</td></tr>\n",
       "<tr><td>0.00040066196424959344</td></tr>\n",
       "<tr><td>0.00040530539942551513</td></tr>\n",
       "<tr><td>0.00040724907722733406</td></tr>\n",
       "<tr><td>0.000418741041926296</td></tr>\n",
       "<tr><td>0.0004480499762848922</td></tr>\n",
       "<tr><td>0.0004745182688452587</td></tr>\n",
       "<tr><td>0.0004923736111095423</td></tr>\n",
       "<tr><td>0.0004993095132874714</td></tr>\n",
       "<tr><td>0.0005557263139337465</td></tr>\n",
       "<tr><td>0.0005557263139337465</td></tr>\n",
       "<tr><td>0.0005899809114282561</td></tr>\n",
       "<tr><td>0.0005963654816127928</td></tr>\n",
       "</table>"
      ],
      "text/plain": [
       "<Column name='TARGET_RA' dtype='float64' length=99102>\n",
       " -0.0005964179422903726\n",
       "  -0.000499312480314984\n",
       " -0.0004923576482269709\n",
       " -0.0004745578369238501\n",
       "-0.00046717002754803616\n",
       " -0.0004589130177237166\n",
       " -0.0004354194299480696\n",
       "-0.00041874097115623954\n",
       "-0.00040720784454606473\n",
       " -0.0004053161319177434\n",
       "-0.00040066666653615357\n",
       "  -0.000400615606821475\n",
       "                    ...\n",
       " 0.00040066196424959344\n",
       " 0.00040530539942551513\n",
       " 0.00040724907722733406\n",
       "   0.000418741041926296\n",
       "  0.0004480499762848922\n",
       "  0.0004745182688452587\n",
       "  0.0004923736111095423\n",
       "  0.0004993095132874714\n",
       "  0.0005557263139337465\n",
       "  0.0005557263139337465\n",
       "  0.0005899809114282561\n",
       "  0.0005963654816127928"
      ]
     },
     "execution_count": 18,
     "metadata": {},
     "output_type": "execute_result"
    }
   ],
   "source": [
    "diffs"
   ]
  },
  {
   "cell_type": "code",
   "execution_count": 19,
   "id": "ad182fc3-f38f-4d96-932b-10f3ce86f5d8",
   "metadata": {
    "tags": []
   },
   "outputs": [
    {
     "data": {
      "text/plain": [
       "-4.614396167602199e-08"
      ]
     },
     "execution_count": 19,
     "metadata": {},
     "output_type": "execute_result"
    }
   ],
   "source": [
    "avg=np.mean(diffs)\n",
    "avg"
   ]
  },
  {
   "cell_type": "code",
   "execution_count": 20,
   "id": "ff3eb474-5e57-4ab0-8b7c-ab718e6b52aa",
   "metadata": {
    "tags": []
   },
   "outputs": [
    {
     "data": {
      "text/html": [
       "<div><i>Table length=235167</i>\n",
       "<table id=\"table140365012758928\" class=\"table-striped table-bordered table-condensed\">\n",
       "<thead><tr><th>TARGETID</th><th>TARGET_RA</th><th>TARGET_DEC</th><th>Z</th><th>ZERR</th><th>SPECTYPE</th><th>DELTACHI2</th><th>ZWARN</th><th>PVTYPE</th><th>SGA_ID</th><th>PHOTSYS</th></tr></thead>\n",
       "<thead><tr><th>int64</th><th>float64</th><th>float64</th><th>float64</th><th>float64</th><th>bytes6</th><th>float64</th><th>int64</th><th>bytes3</th><th>int32</th><th>bytes1</th></tr></thead>\n",
       "<tr><td>-430502046</td><td>134.00013295228783</td><td>5.934552839997555</td><td>1.5211813094599733</td><td>9.536633276548175e-05</td><td>GALAXY</td><td>21.043927863240242</td><td>2049</td><td>TFT</td><td>838970</td><td>S</td></tr>\n",
       "<tr><td>-427872363</td><td>61.981718642816155</td><td>-22.823913110732356</td><td>0.049085960824979194</td><td>8.765385426009584e-06</td><td>GALAXY</td><td>320.327581204474</td><td>2049</td><td>TFT</td><td>982213</td><td>S</td></tr>\n",
       "<tr><td>-411444222</td><td>156.2181500220905</td><td>7.1584828480845655</td><td>0.7655265334224575</td><td>0.00014819907104570706</td><td>GALAXY</td><td>2.862433671951294</td><td>2053</td><td>TFT</td><td>4614</td><td>S</td></tr>\n",
       "<tr><td>-261707523</td><td>51.18809619857989</td><td>-15.380001206793725</td><td>0.11706841864860068</td><td>1.263477560383397e-05</td><td>GALAXY</td><td>5022.345633155666</td><td>512</td><td>SGA</td><td>788458</td><td>S</td></tr>\n",
       "<tr><td>-260779407</td><td>138.32747528464944</td><td>17.5639019859795</td><td>0.08569271543378945</td><td>9.438671035622181e-06</td><td>GALAXY</td><td>243.51359286904335</td><td>2560</td><td>TFT</td><td>735997</td><td>S</td></tr>\n",
       "<tr><td>-256075243</td><td>267.7127650902238</td><td>29.4851124724098</td><td>0.024938748634094107</td><td>2.4256075629217488e-05</td><td>GALAXY</td><td>1541.527919426706</td><td>2560</td><td>SGA</td><td>447725</td><td>S</td></tr>\n",
       "<tr><td>-255779143</td><td>324.7514856412927</td><td>-14.285073192391051</td><td>0.06222014597085957</td><td>1.2531392899106468e-05</td><td>GALAXY</td><td>13019.724023681134</td><td>2560</td><td>SGA</td><td>344696</td><td>S</td></tr>\n",
       "<tr><td>-255474428</td><td>318.1164926597467</td><td>-5.284018993812088</td><td>0.048956092264502225</td><td>7.806082205296064e-05</td><td>GALAXY</td><td>65.2918488328578</td><td>512</td><td>TFT</td><td>342501</td><td>S</td></tr>\n",
       "<tr><td>-253178294</td><td>171.33824183216043</td><td>53.64134341804524</td><td>0.033601461542572625</td><td>3.5901373601923224e-06</td><td>GALAXY</td><td>2593.072873726487</td><td>2560</td><td>TFT</td><td>32805</td><td>N</td></tr>\n",
       "<tr><td>-251109429</td><td>258.6266517495842</td><td>23.05966030445974</td><td>0.029007802739259413</td><td>3.1032198040959024e-06</td><td>GALAXY</td><td>13170.72806224291</td><td>2560</td><td>TFT</td><td>611168</td><td>S</td></tr>\n",
       "<tr><td>...</td><td>...</td><td>...</td><td>...</td><td>...</td><td>...</td><td>...</td><td>...</td><td>...</td><td>...</td><td>...</td></tr>\n",
       "<tr><td>2305843047637716361</td><td>44.04122946904737</td><td>-13.687843141230235</td><td>0.023153309547441176</td><td>1.8641581089456068e-06</td><td>GALAXY</td><td>76186.79590055346</td><td>0</td><td>SGA</td><td>164187</td><td>S</td></tr>\n",
       "<tr><td>2305843047759352169</td><td>41.118246500576845</td><td>-9.622949309572391</td><td>0.05704599509411568</td><td>5.22096757188456e-07</td><td>GALAXY</td><td>305751.5006828308</td><td>0</td><td>SGA</td><td>1068799</td><td>S</td></tr>\n",
       "<tr><td>2305843047776127933</td><td>34.170494613407485</td><td>-9.669387555071735</td><td>0.0728203469400367</td><td>1.802500114440122e-06</td><td>GALAXY</td><td>70700.05493998528</td><td>0</td><td>SGA</td><td>914184</td><td>S</td></tr>\n",
       "<tr><td>2305843047792906496</td><td>37.51563024457585</td><td>-6.661295926001229</td><td>0.047604842654665705</td><td>1.9829872488416394e-05</td><td>GALAXY</td><td>6132.722443480976</td><td>0</td><td>SGA</td><td>521429</td><td>S</td></tr>\n",
       "<tr><td>2305843047797103022</td><td>39.63633727856865</td><td>-6.677390171429402</td><td>0.00481652742047178</td><td>7.686585047777273e-07</td><td>GALAXY</td><td>183713.0446980819</td><td>0</td><td>EXT</td><td>94925</td><td>S</td></tr>\n",
       "<tr><td>2305843047813881178</td><td>44.750642525554106</td><td>-6.760521039692063</td><td>0.029534172649832425</td><td>6.3090027439020956e-06</td><td>GALAXY</td><td>16509.064525023452</td><td>0</td><td>SGA</td><td>820032</td><td>S</td></tr>\n",
       "<tr><td>2305843047826461431</td><td>46.95095915260215</td><td>-4.262505743939569</td><td>0.0308842912619699</td><td>1.3233453037549412e-05</td><td>GALAXY</td><td>7363.5002101892605</td><td>0</td><td>SGA</td><td>222852</td><td>S</td></tr>\n",
       "<tr><td>2305843047826464963</td><td>46.71288649883268</td><td>-4.216199771395608</td><td>0.03734037901046477</td><td>1.728081366913408e-05</td><td>GALAXY</td><td>5206.494989469134</td><td>0</td><td>SGA</td><td>794417</td><td>S</td></tr>\n",
       "<tr><td>2305843047830657327</td><td>47.981485787647266</td><td>-2.966562765936295</td><td>0.028706919146645</td><td>4.07980824249545e-06</td><td>GALAXY</td><td>9530.491675913101</td><td>0</td><td>SGA</td><td>1030509</td><td>S</td></tr>\n",
       "<tr><td>2305843047830657392</td><td>47.19488692019924</td><td>-3.289741669968118</td><td>0.028644934303112195</td><td>3.888272408241883e-06</td><td>GALAXY</td><td>26521.717114321887</td><td>0</td><td>SGA</td><td>597645</td><td>S</td></tr>\n",
       "</table></div>"
      ],
      "text/plain": [
       "<Table length=235167>\n",
       "      TARGETID          TARGET_RA           TARGET_DEC     ...  SGA_ID PHOTSYS\n",
       "       int64             float64             float64       ...  int32   bytes1\n",
       "------------------- ------------------ ------------------- ... ------- -------\n",
       "         -430502046 134.00013295228783   5.934552839997555 ...  838970       S\n",
       "         -427872363 61.981718642816155 -22.823913110732356 ...  982213       S\n",
       "         -411444222  156.2181500220905  7.1584828480845655 ...    4614       S\n",
       "         -261707523  51.18809619857989 -15.380001206793725 ...  788458       S\n",
       "         -260779407 138.32747528464944    17.5639019859795 ...  735997       S\n",
       "         -256075243  267.7127650902238    29.4851124724098 ...  447725       S\n",
       "         -255779143  324.7514856412927 -14.285073192391051 ...  344696       S\n",
       "         -255474428  318.1164926597467  -5.284018993812088 ...  342501       S\n",
       "         -253178294 171.33824183216043   53.64134341804524 ...   32805       N\n",
       "         -251109429  258.6266517495842   23.05966030445974 ...  611168       S\n",
       "                ...                ...                 ... ...     ...     ...\n",
       "2305843047637716361  44.04122946904737 -13.687843141230235 ...  164187       S\n",
       "2305843047759352169 41.118246500576845  -9.622949309572391 ... 1068799       S\n",
       "2305843047776127933 34.170494613407485  -9.669387555071735 ...  914184       S\n",
       "2305843047792906496  37.51563024457585  -6.661295926001229 ...  521429       S\n",
       "2305843047797103022  39.63633727856865  -6.677390171429402 ...   94925       S\n",
       "2305843047813881178 44.750642525554106  -6.760521039692063 ...  820032       S\n",
       "2305843047826461431  46.95095915260215  -4.262505743939569 ...  222852       S\n",
       "2305843047826464963  46.71288649883268  -4.216199771395608 ...  794417       S\n",
       "2305843047830657327 47.981485787647266  -2.966562765936295 ... 1030509       S\n",
       "2305843047830657392  47.19488692019924  -3.289741669968118 ...  597645       S"
      ]
     },
     "execution_count": 20,
     "metadata": {},
     "output_type": "execute_result"
    }
   ],
   "source": [
    "jura_test= Table.read('jura_test.fits')\n",
    "jura_test"
   ]
  },
  {
   "cell_type": "code",
   "execution_count": 22,
   "id": "0de9b476-faf4-40c7-b497-751aa5cd0a96",
   "metadata": {
    "tags": []
   },
   "outputs": [],
   "source": [
    "jura_test.write('/global/homes/s/sgmoore1/DESI_SGA/TF/Y3/jura_test.fits')"
   ]
  },
  {
   "cell_type": "code",
   "execution_count": null,
   "id": "9db4dc87-cc9b-4ad1-ac58-08efb8b851d0",
   "metadata": {},
   "outputs": [],
   "source": [
    "######## Check the difference between the mean fiber coordinates and the target coordinates"
   ]
  },
  {
   "cell_type": "code",
   "execution_count": 3,
   "id": "4815622e-cafe-491f-bb93-83134c8ba82e",
   "metadata": {
    "tags": []
   },
   "outputs": [
    {
     "data": {
      "text/html": [
       "<div><i>Table length=235167</i>\n",
       "<table id=\"table140160310098000\" class=\"table-striped table-bordered table-condensed\">\n",
       "<thead><tr><th>TARGETID</th><th>TARGET_RA</th><th>TARGET_DEC</th><th>MEAN_FIBER_RA</th><th>MEAN_FIBER_DEC</th><th>STD_FIBER_RA</th><th>STD_FIBER_DEC</th><th>Z</th><th>ZERR</th><th>SPECTYPE</th><th>DELTACHI2</th><th>ZWARN</th><th>PVTYPE</th><th>SGA_ID</th><th>PHOTSYS</th><th>SKY_FIBER_DIST</th><th>SKY_FIBER_DIST_R26</th></tr></thead>\n",
       "<thead><tr><th>int64</th><th>float64</th><th>float64</th><th>float64</th><th>float64</th><th>float64</th><th>float64</th><th>float64</th><th>float64</th><th>bytes6</th><th>float64</th><th>int64</th><th>bytes3</th><th>int32</th><th>bytes1</th><th>float64</th><th>float64</th></tr></thead>\n",
       "<tr><td>-430502046</td><td>134.00013295228783</td><td>5.934552839997555</td><td>134.0000012447711</td><td>5.934402495943119</td><td>0.0</td><td>0.0</td><td>1.5211813094599733</td><td>9.536633276548175e-05</td><td>GALAXY</td><td>21.043927863240242</td><td>2049</td><td>TFT</td><td>838970</td><td>S</td><td>0.0</td><td>0.0</td></tr>\n",
       "<tr><td>-427872363</td><td>61.981718642816155</td><td>-22.823913110732356</td><td>61.981815755036905</td><td>-22.824112647850505</td><td>0.01692960597574711</td><td>0.01899055577814579</td><td>0.049085960824979194</td><td>8.765385426009584e-06</td><td>GALAXY</td><td>320.327581204474</td><td>2049</td><td>TFT</td><td>982213</td><td>S</td><td>0.0</td><td>0.0</td></tr>\n",
       "<tr><td>-411444222</td><td>156.2181500220905</td><td>7.1584828480845655</td><td>156.21807676457115</td><td>7.1586258676041306</td><td>0.0</td><td>0.0</td><td>0.7655265334224575</td><td>0.00014819907104570706</td><td>GALAXY</td><td>2.862433671951294</td><td>2053</td><td>TFT</td><td>4614</td><td>S</td><td>0.0</td><td>0.0</td></tr>\n",
       "<tr><td>-261707523</td><td>51.18809619857989</td><td>-15.380001206793725</td><td>51.18805131712048</td><td>-15.379972719695512</td><td>0.18443052470684052</td><td>0.270201712846756</td><td>0.11706841864860068</td><td>1.263477560383397e-05</td><td>GALAXY</td><td>5022.345633155666</td><td>512</td><td>SGA</td><td>788458</td><td>S</td><td>0.0</td><td>0.0</td></tr>\n",
       "<tr><td>-260779407</td><td>138.32747528464944</td><td>17.5639019859795</td><td>138.32760054746495</td><td>17.56391743552376</td><td>0.0</td><td>0.0</td><td>0.08569271543378945</td><td>9.438671035622181e-06</td><td>GALAXY</td><td>243.51359286904335</td><td>2560</td><td>TFT</td><td>735997</td><td>S</td><td>0.0</td><td>0.0</td></tr>\n",
       "<tr><td>-256075243</td><td>267.7127650902238</td><td>29.4851124724098</td><td>267.7127035487433</td><td>29.485378196733514</td><td>0.0</td><td>0.0</td><td>0.024938748634094107</td><td>2.4256075629217488e-05</td><td>GALAXY</td><td>1541.527919426706</td><td>2560</td><td>SGA</td><td>447725</td><td>S</td><td>0.0</td><td>0.0</td></tr>\n",
       "<tr><td>-255779143</td><td>324.7514856412927</td><td>-14.285073192391051</td><td>324.75157640573354</td><td>-14.285173696560276</td><td>0.0</td><td>0.0</td><td>0.06222014597085957</td><td>1.2531392899106468e-05</td><td>GALAXY</td><td>13019.724023681134</td><td>2560</td><td>SGA</td><td>344696</td><td>S</td><td>0.0</td><td>0.0</td></tr>\n",
       "<tr><td>-255474428</td><td>318.1164926597467</td><td>-5.284018993812088</td><td>318.1164721848627</td><td>-5.284046207257645</td><td>0.0</td><td>0.0</td><td>0.048956092264502225</td><td>7.806082205296064e-05</td><td>GALAXY</td><td>65.2918488328578</td><td>512</td><td>TFT</td><td>342501</td><td>S</td><td>0.0</td><td>0.0</td></tr>\n",
       "<tr><td>-253178294</td><td>171.33824183216043</td><td>53.64134341804524</td><td>171.33828946114534</td><td>53.64163818459112</td><td>0.0</td><td>0.0</td><td>0.033601461542572625</td><td>3.5901373601923224e-06</td><td>GALAXY</td><td>2593.072873726487</td><td>2560</td><td>TFT</td><td>32805</td><td>N</td><td>0.0</td><td>0.0</td></tr>\n",
       "<tr><td>-251109429</td><td>258.6266517495842</td><td>23.05966030445974</td><td>258.62675293179245</td><td>23.05957590980715</td><td>0.0</td><td>0.0</td><td>0.029007802739259413</td><td>3.1032198040959024e-06</td><td>GALAXY</td><td>13170.72806224291</td><td>2560</td><td>TFT</td><td>611168</td><td>S</td><td>0.0</td><td>0.0</td></tr>\n",
       "<tr><td>...</td><td>...</td><td>...</td><td>...</td><td>...</td><td>...</td><td>...</td><td>...</td><td>...</td><td>...</td><td>...</td><td>...</td><td>...</td><td>...</td><td>...</td><td>...</td><td>...</td></tr>\n",
       "<tr><td>2305843047637716361</td><td>44.04122946904737</td><td>-13.687843141230235</td><td>44.04120306536794</td><td>-13.687825266642273</td><td>0.16555888950824738</td><td>0.04209356755018234</td><td>0.023153309547441176</td><td>1.8641581089456068e-06</td><td>GALAXY</td><td>76186.79590055346</td><td>0</td><td>SGA</td><td>164187</td><td>S</td><td>0.0</td><td>0.0</td></tr>\n",
       "<tr><td>2305843047759352169</td><td>41.118246500576845</td><td>-9.622949309572391</td><td>41.11822782133538</td><td>-9.622952766831295</td><td>0.0</td><td>0.0</td><td>0.05704599509411568</td><td>5.22096757188456e-07</td><td>GALAXY</td><td>305751.5006828308</td><td>0</td><td>SGA</td><td>1068799</td><td>S</td><td>0.0</td><td>0.0</td></tr>\n",
       "<tr><td>2305843047776127933</td><td>34.170494613407485</td><td>-9.669387555071735</td><td>34.17049713360427</td><td>-9.669393263678524</td><td>0.001486578956246376</td><td>0.021029362455010414</td><td>0.0728203469400367</td><td>1.802500114440122e-06</td><td>GALAXY</td><td>70700.05493998528</td><td>0</td><td>SGA</td><td>914184</td><td>S</td><td>0.0</td><td>0.0</td></tr>\n",
       "<tr><td>2305843047792906496</td><td>37.51563024457585</td><td>-6.661295926001229</td><td>37.5156384578836</td><td>-6.661281562234639</td><td>0.006925496272742748</td><td>0.03767019137740135</td><td>0.047604842654665705</td><td>1.9829872488416394e-05</td><td>GALAXY</td><td>6132.722443480976</td><td>0</td><td>SGA</td><td>521429</td><td>S</td><td>0.0</td><td>0.0</td></tr>\n",
       "<tr><td>2305843047797103022</td><td>39.63633727856865</td><td>-6.677390171429402</td><td>39.63635847582003</td><td>-6.6773848879734325</td><td>0.0</td><td>0.0</td><td>0.00481652742047178</td><td>7.686585047777273e-07</td><td>GALAXY</td><td>183713.0446980819</td><td>0</td><td>EXT</td><td>94925</td><td>S</td><td>0.0</td><td>0.0</td></tr>\n",
       "<tr><td>2305843047813881178</td><td>44.750642525554106</td><td>-6.760521039692063</td><td>44.75066448324935</td><td>-6.760512015057372</td><td>0.0</td><td>0.0</td><td>0.029534172649832425</td><td>6.3090027439020956e-06</td><td>GALAXY</td><td>16509.064525023452</td><td>0</td><td>SGA</td><td>820032</td><td>S</td><td>0.0</td><td>0.0</td></tr>\n",
       "<tr><td>2305843047826461431</td><td>46.95095915260215</td><td>-4.262505743939569</td><td>46.950941134216635</td><td>-4.2625481456843435</td><td>0.0</td><td>0.0</td><td>0.0308842912619699</td><td>1.3233453037549412e-05</td><td>GALAXY</td><td>7363.5002101892605</td><td>0</td><td>SGA</td><td>222852</td><td>S</td><td>0.0</td><td>0.0</td></tr>\n",
       "<tr><td>2305843047826464963</td><td>46.71288649883268</td><td>-4.216199771395608</td><td>46.71283138923917</td><td>-4.21621323740598</td><td>0.0</td><td>0.0</td><td>0.03734037901046477</td><td>1.728081366913408e-05</td><td>GALAXY</td><td>5206.494989469134</td><td>0</td><td>SGA</td><td>794417</td><td>S</td><td>0.0</td><td>0.0</td></tr>\n",
       "<tr><td>2305843047830657327</td><td>47.981485787647266</td><td>-2.966562765936295</td><td>47.9814605004658</td><td>-2.966557271328591</td><td>0.0</td><td>0.0</td><td>0.028706919146645</td><td>4.07980824249545e-06</td><td>GALAXY</td><td>9530.491675913101</td><td>0</td><td>SGA</td><td>1030509</td><td>S</td><td>0.0</td><td>0.0</td></tr>\n",
       "<tr><td>2305843047830657392</td><td>47.19488692019924</td><td>-3.289741669968118</td><td>47.19486140272409</td><td>-3.289726663254201</td><td>0.0</td><td>0.0</td><td>0.028644934303112195</td><td>3.888272408241883e-06</td><td>GALAXY</td><td>26521.717114321887</td><td>0</td><td>SGA</td><td>597645</td><td>S</td><td>0.0</td><td>0.0</td></tr>\n",
       "</table></div>"
      ],
      "text/plain": [
       "<Table length=235167>\n",
       "      TARGETID          TARGET_RA      ... SKY_FIBER_DIST SKY_FIBER_DIST_R26\n",
       "       int64             float64       ...    float64          float64      \n",
       "------------------- ------------------ ... -------------- ------------------\n",
       "         -430502046 134.00013295228783 ...            0.0                0.0\n",
       "         -427872363 61.981718642816155 ...            0.0                0.0\n",
       "         -411444222  156.2181500220905 ...            0.0                0.0\n",
       "         -261707523  51.18809619857989 ...            0.0                0.0\n",
       "         -260779407 138.32747528464944 ...            0.0                0.0\n",
       "         -256075243  267.7127650902238 ...            0.0                0.0\n",
       "         -255779143  324.7514856412927 ...            0.0                0.0\n",
       "         -255474428  318.1164926597467 ...            0.0                0.0\n",
       "         -253178294 171.33824183216043 ...            0.0                0.0\n",
       "         -251109429  258.6266517495842 ...            0.0                0.0\n",
       "                ...                ... ...            ...                ...\n",
       "2305843047637716361  44.04122946904737 ...            0.0                0.0\n",
       "2305843047759352169 41.118246500576845 ...            0.0                0.0\n",
       "2305843047776127933 34.170494613407485 ...            0.0                0.0\n",
       "2305843047792906496  37.51563024457585 ...            0.0                0.0\n",
       "2305843047797103022  39.63633727856865 ...            0.0                0.0\n",
       "2305843047813881178 44.750642525554106 ...            0.0                0.0\n",
       "2305843047826461431  46.95095915260215 ...            0.0                0.0\n",
       "2305843047826464963  46.71288649883268 ...            0.0                0.0\n",
       "2305843047830657327 47.981485787647266 ...            0.0                0.0\n",
       "2305843047830657392  47.19488692019924 ...            0.0                0.0"
      ]
     },
     "execution_count": 3,
     "metadata": {},
     "output_type": "execute_result"
    }
   ],
   "source": [
    "tjura = Table.read('/global/homes/s/sgmoore1/DESI_SGA/TF/queries/jura_test.fits')\n",
    "tjura"
   ]
  },
  {
   "cell_type": "code",
   "execution_count": 26,
   "id": "0c8029a3-4ecf-4993-a0c2-2fc0af0d7c94",
   "metadata": {
    "tags": []
   },
   "outputs": [
    {
     "name": "stdout",
     "output_type": "stream",
     "text": [
      "<SkyCoord (ICRS): (ra, dec) in deg\n",
      "    [(134.00013295,   5.93455284), ( 61.98171864, -22.82391311),\n",
      "     (156.21815002,   7.15848285), ..., ( 46.7128865 ,  -4.21619977),\n",
      "     ( 47.98148579,  -2.96656277), ( 47.19488692,  -3.28974167)]>\n",
      "<SkyCoord (ICRS): (ra, dec) in deg\n",
      "    [(134.00000124,   5.9344025 ), ( 61.98181576, -22.82411265),\n",
      "     (156.21807676,   7.15862587), ..., ( 46.71283139,  -4.21621324),\n",
      "     ( 47.9814605 ,  -2.96655727), ( 47.1948614 ,  -3.28972666)]>\n",
      "     TARGETID         TARGET_RA      ... SKY_FIBER_DIST SKY_FIBER_DIST_R26\n",
      "----------------- ------------------ ... -------------- ------------------\n",
      "39628261185029787 148.75616634851673 ...            0.0                0.0\n",
      "39628261189223221  148.9776889766167 ...            0.0                0.0\n",
      "39628266855727250  147.8338950921174 ...            0.0                0.0\n",
      "39628266859923751 148.19843321211746 ...            0.0                0.0\n",
      "39628272522234361 147.61925873542657 ...            0.0                0.0\n",
      "39628272526426833 147.76776757344223 ...            0.0                0.0\n",
      "39628272534816177 148.34258896280713 ...            0.0                0.0\n",
      "39628272539011927 148.69843679196796 ...            0.0                0.0\n",
      "39628272543203467 148.80916618243057 ...            0.0                0.0\n",
      "39628272543204832  148.8946132969312 ...            0.0                0.0\n",
      "              ...                ... ...            ...                ...\n",
      "39628300766676292   149.735609042995 ...            0.0                0.0\n",
      "39628300766678772 149.88223542408758 ...            0.0                0.0\n",
      "39628306361878979  148.3681983776783 ...            0.0                0.0\n",
      "39628306361881979 148.51107931921044 ...            0.0                0.0\n",
      "39628306370267479 148.93955329305948 ...            0.0                0.0\n",
      "39628311994830717 150.27564380323307 ...            0.0                0.0\n",
      "39628317556478066   148.308998340451 ...            0.0                0.0\n",
      "39628323130707974 147.68970323677993 ...            0.0                0.0\n",
      "39628323155870725 149.20429615091157 ...            0.0                0.0\n",
      "39628328721713436  148.6707306421663 ...            0.0                0.0\n",
      "39637085564438736  147.4329559707407 ...            0.0                0.0\n",
      "Length = 33 rows\n"
     ]
    },
    {
     "data": {
      "image/png": "[encoded data removed]",
      "text/plain": [
       "<Figure size 640x480 with 1 Axes>"
      ]
     },
     "metadata": {},
     "output_type": "display_data"
    }
   ],
   "source": [
    "import numpy as np\n",
    "import matplotlib.pyplot as plt\n",
    "from astropy.table import Table\n",
    "from astropy.coordinates import SkyCoord\n",
    "import astropy.units as u\n",
    "\n",
    "\n",
    "# Convert RA and Dec columns to SkyCoord objects\n",
    "coords1 = SkyCoord(ra=tjura['TARGET_RA']*u.deg, dec=tjura['TARGET_DEC']*u.deg)\n",
    "coords2 = SkyCoord(ra=tjura['MEAN_FIBER_RA']*u.deg, dec=tjura['MEAN_FIBER_DEC']*u.deg)\n",
    "\n",
    "print(coords1)\n",
    "print(coords2)\n",
    "\n",
    "# Calculate angular separation between the points\n",
    "separations = coords1.separation(coords2)\n",
    "\n",
    "filtered_entries = tjura[separations > 100*u.deg]\n",
    "print(filtered_entries)\n",
    "# filtered_entries.write('problematic_differences.fits', overwrite=True)\n",
    "\n",
    "real_separations = separations[separations < 200 * u.arcsecond]\n",
    "\n",
    "\n",
    "counts, bin_edges, _ = plt.hist(real_separations.arcsecond, bins=10, edgecolor='black', alpha=0.7)\n",
    "\n",
    "# Annotate each bin with the count value\n",
    "for i in range(len(counts)):\n",
    "    plt.text(bin_edges[i] + (bin_edges[i + 1] - bin_edges[i]) / 2, counts[i],\n",
    "             f'{int(counts[i])}', ha='center', va='bottom', fontsize=10)\n",
    "plt.xlabel('Angular Separation (in arcseconds)')\n",
    "plt.ylabel('Count')\n",
    "plt.title('Angular Separations')\n",
    "plt.yscale('log')\n",
    "plt.show()\n"
   ]
  },
  {
   "cell_type": "code",
   "execution_count": 27,
   "id": "c5ab1311-8367-49eb-9184-8919efc572f4",
   "metadata": {
    "tags": []
   },
   "outputs": [
    {
     "data": {
      "text/html": [
       "<div><i>Table length=33</i>\n",
       "<table id=\"table140160086195696\" class=\"table-striped table-bordered table-condensed\">\n",
       "<thead><tr><th>TARGETID</th><th>TARGET_RA</th><th>TARGET_DEC</th><th>MEAN_FIBER_RA</th><th>MEAN_FIBER_DEC</th><th>STD_FIBER_RA</th><th>STD_FIBER_DEC</th><th>Z</th><th>ZERR</th><th>SPECTYPE</th><th>DELTACHI2</th><th>ZWARN</th><th>PVTYPE</th><th>SGA_ID</th><th>PHOTSYS</th><th>SKY_FIBER_DIST</th><th>SKY_FIBER_DIST_R26</th></tr></thead>\n",
       "<thead><tr><th>int64</th><th>float64</th><th>float64</th><th>float64</th><th>float64</th><th>float64</th><th>float64</th><th>float64</th><th>float64</th><th>bytes6</th><th>float64</th><th>int64</th><th>bytes3</th><th>int32</th><th>bytes1</th><th>float64</th><th>float64</th></tr></thead>\n",
       "<tr><td>39628261185029787</td><td>148.75616634851673</td><td>20.076542527347037</td><td>0.0</td><td>0.0</td><td>0.0</td><td>0.0</td><td>0.02528835991951838</td><td>1.3498482958076885e-05</td><td>GALAXY</td><td>79.71080778772011</td><td>0</td><td>TFT</td><td>298856</td><td>S</td><td>0.0</td><td>0.0</td></tr>\n",
       "<tr><td>39628261189223221</td><td>148.9776889766167</td><td>19.96592180993678</td><td>0.0</td><td>0.0</td><td>0.0</td><td>0.0</td><td>0.08655344038510374</td><td>4.31963289536474e-06</td><td>GALAXY</td><td>1071.9978474974632</td><td>0</td><td>TFT</td><td>177814</td><td>S</td><td>0.0</td><td>0.0</td></tr>\n",
       "<tr><td>39628266855727250</td><td>147.8338950921174</td><td>20.304010211565558</td><td>0.0</td><td>0.0</td><td>0.0</td><td>0.0</td><td>0.09448356385522699</td><td>1.0253575142609597e-05</td><td>GALAXY</td><td>784.742106705904</td><td>0</td><td>TFT</td><td>630160</td><td>S</td><td>0.0</td><td>0.0</td></tr>\n",
       "<tr><td>39628266859923751</td><td>148.19843321211746</td><td>20.25313170543082</td><td>0.0</td><td>0.0</td><td>0.0</td><td>0.0</td><td>0.12894260361067073</td><td>1.3074400034281898e-05</td><td>GALAXY</td><td>722.9639116227627</td><td>0</td><td>TFT</td><td>1385550</td><td>S</td><td>0.0</td><td>0.0</td></tr>\n",
       "<tr><td>39628272522234361</td><td>147.61925873542657</td><td>20.485582944421143</td><td>0.0</td><td>0.0</td><td>0.0</td><td>0.0</td><td>0.1487607695824821</td><td>1.8801748445637147e-05</td><td>GALAXY</td><td>367.198356077075</td><td>0</td><td>SGA</td><td>993833</td><td>S</td><td>0.0</td><td>0.0</td></tr>\n",
       "<tr><td>39628272526426833</td><td>147.76776757344223</td><td>20.502468625208838</td><td>0.0</td><td>0.0</td><td>0.0</td><td>0.0</td><td>0.09413740426812021</td><td>1.714769858585824e-05</td><td>GALAXY</td><td>5581.138887561858</td><td>0</td><td>SGA</td><td>466716</td><td>S</td><td>0.0</td><td>0.0</td></tr>\n",
       "<tr><td>39628272534816177</td><td>148.34258896280713</td><td>20.4485975586792</td><td>0.0</td><td>0.0</td><td>0.0</td><td>0.0</td><td>0.02003063270387008</td><td>2.9476361412380515e-07</td><td>GALAXY</td><td>861482.8710565567</td><td>0</td><td>SGA</td><td>453176</td><td>S</td><td>0.0</td><td>0.0</td></tr>\n",
       "<tr><td>39628272539011927</td><td>148.69843679196796</td><td>20.462517364685862</td><td>0.0</td><td>0.0</td><td>0.0</td><td>0.0</td><td>0.1094315527471432</td><td>2.73304310735367e-05</td><td>GALAXY</td><td>2189.772282554768</td><td>0</td><td>TFT</td><td>1272445</td><td>S</td><td>0.0</td><td>0.0</td></tr>\n",
       "<tr><td>39628272543203467</td><td>148.80916618243057</td><td>20.43150537448006</td><td>0.0</td><td>0.0</td><td>0.0</td><td>0.0</td><td>0.07889180578012725</td><td>1.660794751696423e-05</td><td>GALAXY</td><td>6043.042103593703</td><td>0</td><td>TFT</td><td>427429</td><td>S</td><td>0.0</td><td>0.0</td></tr>\n",
       "<tr><td>39628272543204832</td><td>148.8946132969312</td><td>20.38587985542703</td><td>0.0</td><td>0.0</td><td>0.0</td><td>0.0</td><td>0.07132662927584803</td><td>1.1393772687186779e-05</td><td>GALAXY</td><td>11365.005858200602</td><td>0</td><td>SGA</td><td>1013996</td><td>S</td><td>0.0</td><td>0.0</td></tr>\n",
       "<tr><td>...</td><td>...</td><td>...</td><td>...</td><td>...</td><td>...</td><td>...</td><td>...</td><td>...</td><td>...</td><td>...</td><td>...</td><td>...</td><td>...</td><td>...</td><td>...</td><td>...</td></tr>\n",
       "<tr><td>39628300766678772</td><td>149.88223542408758</td><td>21.63767995328033</td><td>0.0</td><td>0.0</td><td>0.0</td><td>0.0</td><td>0.2782001796151877</td><td>6.080117607457643e-05</td><td>GALAXY</td><td>238.11591870337725</td><td>0</td><td>SGA</td><td>5001928</td><td>S</td><td>0.0</td><td>0.0</td></tr>\n",
       "<tr><td>39628306361878979</td><td>148.3681983776783</td><td>22.020713872111774</td><td>0.0</td><td>0.0</td><td>0.0</td><td>0.0</td><td>0.6186611465284784</td><td>1.1763531143227572e-05</td><td>GALAXY</td><td>53.068416595458984</td><td>2</td><td>TFT</td><td>10049</td><td>S</td><td>0.0</td><td>0.0</td></tr>\n",
       "<tr><td>39628306361881979</td><td>148.51107931921044</td><td>21.915728615315263</td><td>0.0</td><td>0.0</td><td>0.0</td><td>0.0</td><td>0.0832704108529112</td><td>1.4346169859254433e-06</td><td>GALAXY</td><td>44675.43351840973</td><td>0</td><td>SGA</td><td>287135</td><td>S</td><td>0.0</td><td>0.0</td></tr>\n",
       "<tr><td>39628306370267479</td><td>148.93955329305948</td><td>22.07824230206724</td><td>0.0</td><td>0.0</td><td>0.0</td><td>0.0</td><td>0.06664742834680523</td><td>1.0225064909683803e-05</td><td>GALAXY</td><td>2946.5103906239383</td><td>0</td><td>TFT</td><td>1026252</td><td>S</td><td>0.0</td><td>0.0</td></tr>\n",
       "<tr><td>39628311994830717</td><td>150.27564380323307</td><td>22.30163267881052</td><td>0.0</td><td>0.0</td><td>0.0</td><td>0.0</td><td>0.02045168715299337</td><td>5.99583855300513e-06</td><td>GALAXY</td><td>1040.740155743435</td><td>0</td><td>SGA</td><td>1100324</td><td>S</td><td>0.0</td><td>0.0</td></tr>\n",
       "<tr><td>39628317556478066</td><td>148.308998340451</td><td>22.563488718765118</td><td>0.0</td><td>0.0</td><td>0.0</td><td>0.0</td><td>0.06204341607216594</td><td>9.581403506922886e-06</td><td>GALAXY</td><td>1355.7131028045733</td><td>0</td><td>SGA</td><td>848474</td><td>S</td><td>0.0</td><td>0.0</td></tr>\n",
       "<tr><td>39628323130707974</td><td>147.68970323677993</td><td>22.7543629239397</td><td>0.0</td><td>0.0</td><td>0.0</td><td>0.0</td><td>0.02864966462727282</td><td>8.400646597055149e-06</td><td>GALAXY</td><td>10011.360178296643</td><td>0</td><td>TFT</td><td>113581</td><td>S</td><td>0.0</td><td>0.0</td></tr>\n",
       "<tr><td>39628323155870725</td><td>149.20429615091157</td><td>22.77529754491835</td><td>0.0</td><td>0.0</td><td>0.0</td><td>0.0</td><td>0.06265013019897539</td><td>1.8314777761583897e-06</td><td>GALAXY</td><td>17183.330582857132</td><td>0</td><td>TFT</td><td>287011</td><td>S</td><td>0.0</td><td>0.0</td></tr>\n",
       "<tr><td>39628328721713436</td><td>148.6707306421663</td><td>23.08475914445461</td><td>0.0</td><td>0.0</td><td>0.0</td><td>0.0</td><td>0.051813227480905</td><td>7.4373561679219726e-06</td><td>GALAXY</td><td>376.179933719337</td><td>2</td><td>TFT</td><td>289775</td><td>S</td><td>0.0</td><td>0.0</td></tr>\n",
       "<tr><td>39637085564438736</td><td>147.4329559707407</td><td>21.34112779579114</td><td>0.0</td><td>0.0</td><td>0.0</td><td>0.0</td><td>0.013218185409726068</td><td>1.8285474605794808e-05</td><td>GALAXY</td><td>197.13690095487982</td><td>0</td><td>TFT</td><td>1095484</td><td>S</td><td>0.0</td><td>0.0</td></tr>\n",
       "</table></div>"
      ],
      "text/plain": [
       "<Table length=33>\n",
       "     TARGETID         TARGET_RA      ... SKY_FIBER_DIST SKY_FIBER_DIST_R26\n",
       "      int64            float64       ...    float64          float64      \n",
       "----------------- ------------------ ... -------------- ------------------\n",
       "39628261185029787 148.75616634851673 ...            0.0                0.0\n",
       "39628261189223221  148.9776889766167 ...            0.0                0.0\n",
       "39628266855727250  147.8338950921174 ...            0.0                0.0\n",
       "39628266859923751 148.19843321211746 ...            0.0                0.0\n",
       "39628272522234361 147.61925873542657 ...            0.0                0.0\n",
       "39628272526426833 147.76776757344223 ...            0.0                0.0\n",
       "39628272534816177 148.34258896280713 ...            0.0                0.0\n",
       "39628272539011927 148.69843679196796 ...            0.0                0.0\n",
       "39628272543203467 148.80916618243057 ...            0.0                0.0\n",
       "39628272543204832  148.8946132969312 ...            0.0                0.0\n",
       "              ...                ... ...            ...                ...\n",
       "39628300766678772 149.88223542408758 ...            0.0                0.0\n",
       "39628306361878979  148.3681983776783 ...            0.0                0.0\n",
       "39628306361881979 148.51107931921044 ...            0.0                0.0\n",
       "39628306370267479 148.93955329305948 ...            0.0                0.0\n",
       "39628311994830717 150.27564380323307 ...            0.0                0.0\n",
       "39628317556478066   148.308998340451 ...            0.0                0.0\n",
       "39628323130707974 147.68970323677993 ...            0.0                0.0\n",
       "39628323155870725 149.20429615091157 ...            0.0                0.0\n",
       "39628328721713436  148.6707306421663 ...            0.0                0.0\n",
       "39637085564438736  147.4329559707407 ...            0.0                0.0"
      ]
     },
     "execution_count": 27,
     "metadata": {},
     "output_type": "execute_result"
    }
   ],
   "source": [
    "test=Table.read('problematic_differences.fits')\n",
    "test"
   ]
  },
  {
   "cell_type": "code",
   "execution_count": 11,
   "id": "f8f66baa-34d0-467b-9c3a-ed845156f74e",
   "metadata": {
    "tags": []
   },
   "outputs": [
    {
     "data": {
      "text/html": [
       "<div><i>Table length=35786</i>\n",
       "<table id=\"table139966664537616\" class=\"table-striped table-bordered table-condensed\">\n",
       "<thead><tr><th>SGA_ID</th><th>SGA_GALAXY</th><th>GALAXY</th><th>PGC</th><th>RA_LEDA</th><th>DEC_LEDA</th><th>MORPHTYPE</th><th>PA_LEDA</th><th>D25_LEDA</th><th>BA_LEDA</th><th>Z_LEDA</th><th>SB_D25_LEDA</th><th>MAG_LEDA</th><th>BYHAND</th><th>REF</th><th>GROUP_ID</th><th>GROUP_NAME</th><th>GROUP_MULT</th><th>GROUP_PRIMARY</th><th>GROUP_RA</th><th>GROUP_DEC</th><th>GROUP_DIAMETER</th><th>BRICKNAME</th><th>RA</th><th>DEC</th><th>D26</th><th>D26_REF</th><th>PA</th><th>BA</th><th>RA_MOMENT</th><th>DEC_MOMENT</th><th>SMA_MOMENT</th><th>G_SMA50</th><th>R_SMA50</th><th>Z_SMA50</th><th>SMA_SB22</th><th>SMA_SB22.5</th><th>SMA_SB23</th><th>SMA_SB23.5</th><th>SMA_SB24</th><th>SMA_SB24.5</th><th>SMA_SB25</th><th>SMA_SB25.5</th><th>SMA_SB26</th><th>G_MAG_SB22</th><th>R_MAG_SB22</th><th>Z_MAG_SB22</th><th>G_MAG_SB22.5</th><th>R_MAG_SB22.5</th><th>Z_MAG_SB22.5</th><th>G_MAG_SB23</th><th>R_MAG_SB23</th><th>Z_MAG_SB23</th><th>G_MAG_SB23.5</th><th>R_MAG_SB23.5</th><th>Z_MAG_SB23.5</th><th>G_MAG_SB24</th><th>R_MAG_SB24</th><th>Z_MAG_SB24</th><th>G_MAG_SB24.5</th><th>R_MAG_SB24.5</th><th>Z_MAG_SB24.5</th><th>G_MAG_SB25</th><th>R_MAG_SB25</th><th>Z_MAG_SB25</th><th>G_MAG_SB25.5</th><th>R_MAG_SB25.5</th><th>Z_MAG_SB25.5</th><th>G_MAG_SB26</th><th>R_MAG_SB26</th><th>Z_MAG_SB26</th><th>SMA_SB22_ERR</th><th>SMA_SB22.5_ERR</th><th>SMA_SB23_ERR</th><th>SMA_SB23.5_ERR</th><th>SMA_SB24_ERR</th><th>SMA_SB24.5_ERR</th><th>SMA_SB25_ERR</th><th>SMA_SB25.5_ERR</th><th>SMA_SB26_ERR</th><th>G_MAG_SB22_ERR</th><th>R_MAG_SB22_ERR</th><th>Z_MAG_SB22_ERR</th><th>G_MAG_SB22.5_ERR</th><th>R_MAG_SB22.5_ERR</th><th>Z_MAG_SB22.5_ERR</th><th>G_MAG_SB23_ERR</th><th>R_MAG_SB23_ERR</th><th>Z_MAG_SB23_ERR</th><th>G_MAG_SB23.5_ERR</th><th>R_MAG_SB23.5_ERR</th><th>Z_MAG_SB23.5_ERR</th><th>G_MAG_SB24_ERR</th><th>R_MAG_SB24_ERR</th><th>Z_MAG_SB24_ERR</th><th>G_MAG_SB24.5_ERR</th><th>R_MAG_SB24.5_ERR</th><th>Z_MAG_SB24.5_ERR</th><th>G_MAG_SB25_ERR</th><th>R_MAG_SB25_ERR</th><th>Z_MAG_SB25_ERR</th><th>G_MAG_SB25.5_ERR</th><th>R_MAG_SB25.5_ERR</th><th>Z_MAG_SB25.5_ERR</th><th>G_MAG_SB26_ERR</th><th>R_MAG_SB26_ERR</th><th>Z_MAG_SB26_ERR</th><th>G_COG_PARAMS_MTOT</th><th>G_COG_PARAMS_M0</th><th>G_COG_PARAMS_ALPHA1</th><th>G_COG_PARAMS_ALPHA2</th><th>G_COG_PARAMS_CHI2</th><th>R_COG_PARAMS_MTOT</th><th>R_COG_PARAMS_M0</th><th>R_COG_PARAMS_ALPHA1</th><th>R_COG_PARAMS_ALPHA2</th><th>R_COG_PARAMS_CHI2</th><th>Z_COG_PARAMS_MTOT</th><th>Z_COG_PARAMS_M0</th><th>Z_COG_PARAMS_ALPHA1</th><th>Z_COG_PARAMS_ALPHA2</th><th>Z_COG_PARAMS_CHI2</th><th>ELLIPSEBIT</th><th>Z_DESI</th><th>ZERR_DESI</th><th>V_0p4R26</th><th>V_0p4R26_err</th></tr></thead>\n",
       "<thead><tr><th>int64</th><th>bytes16</th><th>bytes29</th><th>int64</th><th>float64</th><th>float64</th><th>bytes21</th><th>float32</th><th>float32</th><th>float32</th><th>float32</th><th>float32</th><th>float32</th><th>bool</th><th>bytes13</th><th>int64</th><th>bytes35</th><th>int16</th><th>bool</th><th>float64</th><th>float64</th><th>float32</th><th>bytes8</th><th>float64</th><th>float64</th><th>float32</th><th>bytes4</th><th>float32</th><th>float32</th><th>float64</th><th>float64</th><th>float32</th><th>float32</th><th>float32</th><th>float32</th><th>float32</th><th>float32</th><th>float32</th><th>float32</th><th>float32</th><th>float32</th><th>float32</th><th>float32</th><th>float32</th><th>float32</th><th>float32</th><th>float32</th><th>float32</th><th>float32</th><th>float32</th><th>float32</th><th>float32</th><th>float32</th><th>float32</th><th>float32</th><th>float32</th><th>float32</th><th>float32</th><th>float32</th><th>float32</th><th>float32</th><th>float32</th><th>float32</th><th>float32</th><th>float32</th><th>float32</th><th>float32</th><th>float32</th><th>float32</th><th>float32</th><th>float32</th><th>float32</th><th>float32</th><th>float32</th><th>float32</th><th>float32</th><th>float32</th><th>float32</th><th>float32</th><th>float32</th><th>float32</th><th>float32</th><th>float32</th><th>float32</th><th>float32</th><th>float32</th><th>float32</th><th>float32</th><th>float32</th><th>float32</th><th>float32</th><th>float32</th><th>float32</th><th>float32</th><th>float32</th><th>float32</th><th>float32</th><th>float32</th><th>float32</th><th>float32</th><th>float32</th><th>float32</th><th>float32</th><th>float32</th><th>float32</th><th>float32</th><th>float32</th><th>float32</th><th>float32</th><th>float32</th><th>float32</th><th>float32</th><th>float32</th><th>float32</th><th>float32</th><th>float32</th><th>float32</th><th>float32</th><th>float32</th><th>float32</th><th>float32</th><th>float32</th><th>int32</th><th>float64</th><th>float64</th><th>float64</th><th>float64</th></tr></thead>\n",
       "<tr><td>20</td><td>SGA-2020 20</td><td>SDSSJ173412.71+572041.6</td><td>3331584</td><td>263.5529355</td><td>57.34490699999999</td><td>S?</td><td>152.58</td><td>0.4487454</td><td>0.5333349</td><td>0.08364453</td><td>24.92448</td><td>18.036</td><td>False</td><td>LEDA-20181114</td><td>5</td><td>SDSSJ173412.71+572041.6</td><td>1</td><td>True</td><td>263.5529355</td><td>57.34490699999999</td><td>0.4487454</td><td>2635p572</td><td>263.55294849855886</td><td>57.344862145664294</td><td>0.4460123</td><td>SB26</td><td>152.3756</td><td>0.5778338</td><td>263.5528114673963</td><td>57.34481025685253</td><td>10.459747</td><td>5.9780583</td><td>5.751067</td><td>4.821581</td><td>1.4858595</td><td>3.4448266</td><td>5.1149526</td><td>6.748707</td><td>8.426254</td><td>9.720271</td><td>11.022999</td><td>12.0887985</td><td>13.380368</td><td>20.656942</td><td>20.044735</td><td>19.40886</td><td>19.194794</td><td>18.66572</td><td>18.231262</td><td>18.599888</td><td>18.123905</td><td>17.745926</td><td>18.256256</td><td>17.807074</td><td>17.476473</td><td>18.040592</td><td>17.60353</td><td>17.319197</td><td>17.926336</td><td>17.500519</td><td>17.228865</td><td>17.85259</td><td>17.42695</td><td>17.180876</td><td>17.811844</td><td>17.39206</td><td>17.151228</td><td>17.783718</td><td>17.36542</td><td>17.143204</td><td>0.02069058</td><td>0.026094317</td><td>0.03480586</td><td>0.05076174</td><td>0.08751116</td><td>0.10309491</td><td>0.08337893</td><td>0.10982923</td><td>0.13734566</td><td>0.031223593</td><td>0.046367057</td><td>0.0777883</td><td>0.015935475</td><td>0.020728666</td><td>0.032657374</td><td>0.012760426</td><td>0.014699919</td><td>0.022893604</td><td>0.010505663</td><td>0.011998588</td><td>0.018923525</td><td>0.010358521</td><td>0.011374098</td><td>0.017719442</td><td>0.010557283</td><td>0.0112259</td><td>0.017149422</td><td>0.010553381</td><td>0.011049819</td><td>0.017135512</td><td>0.010413324</td><td>0.010993488</td><td>0.01699026</td><td>0.010291049</td><td>0.010862263</td><td>0.017057167</td><td>17.6411</td><td>0.6362121</td><td>0.53480667</td><td>2.8045392</td><td>1.7123051</td><td>17.22401</td><td>0.6144014</td><td>0.53440714</td><td>2.7180903</td><td>2.1161501</td><td>17.062769</td><td>0.44818503</td><td>0.43006793</td><td>3.1755726</td><td>0.97457016</td><td>0</td><td>0.08361389105924856</td><td>5.969831206665643e-06</td><td>147.82237894320167</td><td>4.528884919879512</td></tr>\n",
       "<tr><td>32</td><td>SGA-2020 32</td><td>PGC2644444</td><td>2644444</td><td>212.02461</td><td>62.8385803</td><td>Sc</td><td>26.25</td><td>0.3758374</td><td>0.60255957</td><td>0.09556411</td><td>23.73748</td><td>17.234</td><td>False</td><td>LEDA-20181114</td><td>10</td><td>PGC2644444</td><td>1</td><td>True</td><td>212.02461</td><td>62.8385803</td><td>0.3758374</td><td>2122p627</td><td>212.02462598739942</td><td>62.838526399057336</td><td>0.68802845</td><td>SB26</td><td>22.800411</td><td>0.4168182</td><td>212.02444469714254</td><td>62.83861910315144</td><td>15.352884</td><td>7.5523267</td><td>7.0574827</td><td>6.552769</td><td>6.8422165</td><td>9.006861</td><td>11.119019</td><td>13.218836</td><td>14.83576</td><td>16.089632</td><td>17.419872</td><td>18.262827</td><td>20.640854</td><td>17.682621</td><td>16.800076</td><td>16.140163</td><td>17.36588</td><td>16.500635</td><td>15.859558</td><td>17.164816</td><td>16.315928</td><td>15.683345</td><td>17.029795</td><td>16.192858</td><td>15.569851</td><td>16.956533</td><td>16.127148</td><td>15.511885</td><td>16.912262</td><td>16.09487</td><td>15.481129</td><td>16.881954</td><td>16.068357</td><td>15.467079</td><td>16.868856</td><td>16.055609</td><td>15.458797</td><td>16.854921</td><td>16.045063</td><td>15.448293</td><td>0.076427355</td><td>0.10654599</td><td>0.14980716</td><td>0.14600274</td><td>0.17229652</td><td>0.11901944</td><td>0.1291893</td><td>0.1625502</td><td>0.3402725</td><td>0.028715666</td><td>0.03028943</td><td>0.031358354</td><td>0.026863642</td><td>0.028016893</td><td>0.029046243</td><td>0.025209688</td><td>0.026244337</td><td>0.027134262</td><td>0.023817942</td><td>0.024750203</td><td>0.025650727</td><td>0.022882456</td><td>0.023803992</td><td>0.024767375</td><td>0.022301689</td><td>0.023322092</td><td>0.02424668</td><td>0.02186869</td><td>0.022889571</td><td>0.023994846</td><td>0.021672187</td><td>0.022686103</td><td>0.023837518</td><td>0.02142763</td><td>0.022476751</td><td>0.023631034</td><td>16.8146</td><td>0.23519146</td><td>5.7815895</td><td>4.999612</td><td>0.39062694</td><td>16.011211</td><td>0.2319782</td><td>4.483918</td><td>4.8892393</td><td>0.2325632</td><td>15.429928</td><td>0.18450199</td><td>5.2820787</td><td>5.672057</td><td>0.13526808</td><td>0</td><td>0.09554957288202022</td><td>3.1488867750557696e-05</td><td>264.4537334962159</td><td>12.703124777339772</td></tr>\n",
       "<tr><td>38</td><td>SGA-2020 38</td><td>SDSSJ140638.88+393138.1</td><td>3558705</td><td>211.66194</td><td>39.5272341</td><td>S?</td><td>81.63</td><td>0.35318315</td><td>0.37757218</td><td>0.08108376</td><td>24.72948</td><td>18.361</td><td>False</td><td>LEDA-20181114</td><td>12</td><td>SDSSJ140638.88+393138.1</td><td>1</td><td>True</td><td>211.66194</td><td>39.5272341</td><td>0.35318315</td><td>2115p395</td><td>211.66203166014844</td><td>39.52724032794356</td><td>0.41757938</td><td>SB26</td><td>82.21093</td><td>0.41431504</td><td>211.6619547015994</td><td>39.52729608884245</td><td>8.520181</td><td>5.252184</td><td>4.0750155</td><td>3.3951538</td><td>3.3006833</td><td>4.4037066</td><td>5.5453897</td><td>6.693271</td><td>7.8023033</td><td>8.999919</td><td>10.213078</td><td>11.41192</td><td>12.527382</td><td>19.246052</td><td>18.406073</td><td>17.931826</td><td>18.841032</td><td>18.092857</td><td>17.659027</td><td>18.566164</td><td>17.886087</td><td>17.47688</td><td>18.383362</td><td>17.749825</td><td>17.355968</td><td>18.261652</td><td>17.655558</td><td>17.284552</td><td>18.168955</td><td>17.588947</td><td>17.231817</td><td>18.101948</td><td>17.547142</td><td>17.20673</td><td>18.055267</td><td>17.516266</td><td>17.18719</td><td>18.023865</td><td>17.497095</td><td>17.178627</td><td>0.041267984</td><td>0.058114093</td><td>0.082968995</td><td>0.08808186</td><td>0.099526815</td><td>0.11876543</td><td>0.11355961</td><td>0.14645264</td><td>0.17035669</td><td>0.028041152</td><td>0.045385383</td><td>0.052895926</td><td>0.02822557</td><td>0.041093465</td><td>0.04698563</td><td>0.027371243</td><td>0.038240846</td><td>0.043213904</td><td>0.026219657</td><td>0.03618844</td><td>0.04070005</td><td>0.025270721</td><td>0.034526117</td><td>0.039107796</td><td>0.024264116</td><td>0.033164512</td><td>0.03780495</td><td>0.02343744</td><td>0.03226152</td><td>0.037176747</td><td>0.022813411</td><td>0.031564914</td><td>0.036686495</td><td>0.022342678</td><td>0.031088097</td><td>0.03649375</td><td>17.87426</td><td>0.7614885</td><td>0.3679447</td><td>2.3644495</td><td>0.004768816</td><td>17.421976</td><td>0.45777154</td><td>0.33258685</td><td>2.8184628</td><td>0.021122098</td><td>17.150808</td><td>0.27153513</td><td>0.24329957</td><td>3.8143618</td><td>0.0151183605</td><td>0</td><td>0.08098921000640849</td><td>3.776028271053569e-06</td><td>131.7204980109027</td><td>2.7000243414015537</td></tr>\n",
       "<tr><td>53</td><td>SGA-2020 53</td><td>2MASXJ17023385+3640545</td><td>3389283</td><td>255.64105950000004</td><td>36.6817929</td><td>Sc</td><td>61.06</td><td>0.35809645</td><td>0.58344513</td><td>0.099020496</td><td>24.18748</td><td>17.789</td><td>False</td><td>LEDA-20181114</td><td>15</td><td>2MASXJ17023385+3640545</td><td>1</td><td>True</td><td>255.64105950000004</td><td>36.6817929</td><td>0.35809645</td><td>2555p367</td><td>255.6410175635765</td><td>36.68179095091098</td><td>0.38201582</td><td>SB26</td><td>59.253864</td><td>0.583645</td><td>255.64096140530728</td><td>36.68187229158973</td><td>9.901862</td><td>4.0760365</td><td>3.7421422</td><td>3.597797</td><td>4.6018367</td><td>5.578547</td><td>6.396601</td><td>7.156809</td><td>7.917724</td><td>8.656318</td><td>9.540839</td><td>10.444103</td><td>11.460475</td><td>18.079813</td><td>17.194258</td><td>16.611929</td><td>17.855059</td><td>17.00117</td><td>16.430384</td><td>17.730537</td><td>16.898685</td><td>16.33437</td><td>17.654907</td><td>16.839092</td><td>16.27649</td><td>17.605541</td><td>16.800901</td><td>16.237022</td><td>17.572424</td><td>16.775042</td><td>16.21075</td><td>17.54726</td><td>16.753338</td><td>16.189995</td><td>17.528898</td><td>16.74113</td><td>16.177568</td><td>17.51865</td><td>16.730833</td><td>16.169716</td><td>0.020986231</td><td>0.034068488</td><td>0.017396927</td><td>0.024216063</td><td>0.028976766</td><td>0.031180529</td><td>0.05268424</td><td>0.08073198</td><td>0.115541875</td><td>0.007864048</td><td>0.010676348</td><td>0.009370819</td><td>0.007926592</td><td>0.010011065</td><td>0.008700506</td><td>0.007939915</td><td>0.009750992</td><td>0.008414243</td><td>0.0077780616</td><td>0.009489916</td><td>0.008195838</td><td>0.007575348</td><td>0.0092413165</td><td>0.007951777</td><td>0.007406732</td><td>0.009067921</td><td>0.007830448</td><td>0.0072647426</td><td>0.008909598</td><td>0.0077000526</td><td>0.0071705673</td><td>0.008856049</td><td>0.007671429</td><td>0.007131124</td><td>0.008801767</td><td>0.007657998</td><td>17.493746</td><td>0.3738384</td><td>0.123585634</td><td>4.4130607</td><td>0.06395559</td><td>16.709053</td><td>0.4111703</td><td>0.095716566</td><td>4.0714164</td><td>0.048778836</td><td>16.148045</td><td>0.3341436</td><td>0.112932466</td><td>4.2279735</td><td>0.07390147</td><td>0</td><td>0.09916435307114199</td><td>1.7480881438127367e-05</td><td>269.3971746696992</td><td>5.699540655454983</td></tr>\n",
       "<tr><td>55</td><td>SGA-2020 55</td><td>PGC1203947</td><td>1203947</td><td>199.73061299999998</td><td>1.7263548999999998</td><td>S?</td><td>159.49</td><td>0.35156044</td><td>0.510505</td><td>0.04396308</td><td>24.60848</td><td>18.25</td><td>False</td><td>LEDA-20181114</td><td>17</td><td>PGC1203947</td><td>1</td><td>True</td><td>199.73061299999998</td><td>1.7263548999999998</td><td>0.35156044</td><td>1996p017</td><td>199.73062047638814</td><td>1.7262730115560398</td><td>0.4956815</td><td>SB26</td><td>160.63597</td><td>0.511194</td><td>199.7305377211278</td><td>1.7262556303464236</td><td>10.683119</td><td>7.5134478</td><td>7.237519</td><td>7.358609</td><td>1.0663536</td><td>2.4361885</td><td>4.5284705</td><td>6.209374</td><td>7.894941</td><td>9.662576</td><td>11.338187</td><td>13.058548</td><td>14.870445</td><td>21.586454</td><td>21.022594</td><td>20.5186</td><td>20.022512</td><td>19.486275</td><td>19.047207</td><td>19.079992</td><td>18.56653</td><td>18.196766</td><td>18.698801</td><td>18.197613</td><td>17.858175</td><td>18.461773</td><td>17.962809</td><td>17.637083</td><td>18.290697</td><td>17.804535</td><td>17.48882</td><td>18.184755</td><td>17.702862</td><td>17.391363</td><td>18.108042</td><td>17.630135</td><td>17.322704</td><td>18.062273</td><td>17.58211</td><td>17.270563</td><td>0.021755822</td><td>0.038157243</td><td>0.04157986</td><td>0.08506337</td><td>0.09445482</td><td>0.12531056</td><td>0.13733958</td><td>0.123995595</td><td>0.12832229</td><td>0.04457232</td><td>0.04439948</td><td>0.07058882</td><td>0.025476964</td><td>0.026438117</td><td>0.038408875</td><td>0.019658687</td><td>0.02046595</td><td>0.025474863</td><td>0.017983157</td><td>0.018753268</td><td>0.022374356</td><td>0.017475583</td><td>0.01794357</td><td>0.02073173</td><td>0.01711202</td><td>0.017407436</td><td>0.019818878</td><td>0.016593343</td><td>0.016929915</td><td>0.018991327</td><td>0.016066696</td><td>0.016367108</td><td>0.018504865</td><td>0.015716974</td><td>0.015961537</td><td>0.018187799</td><td>17.750465</td><td>1.2892414</td><td>0.49991378</td><td>1.6126304</td><td>1.257941</td><td>17.28831</td><td>1.2717371</td><td>0.47907558</td><td>1.6136137</td><td>0.81320935</td><td>16.944408</td><td>1.4179186</td><td>0.44993672</td><td>1.4420404</td><td>0.5220518</td><td>0</td><td>0.044001545059768436</td><td>1.102689567750991e-05</td><td>81.96380902973591</td><td>3.1957190840943728</td></tr>\n",
       "<tr><td>63</td><td>SGA-2020 63</td><td>PGC1602229</td><td>1602229</td><td>234.8751135</td><td>19.697651500000003</td><td>S?</td><td>168.56</td><td>0.4655861</td><td>0.33884415</td><td>0.045484465</td><td>25.16348</td><td>18.195</td><td>False</td><td>LEDA-20181114</td><td>18</td><td>PGC1602229</td><td>1</td><td>True</td><td>234.8751135</td><td>19.697651500000003</td><td>0.4655861</td><td>2350p197</td><td>234.87534259414386</td><td>19.697185738728333</td><td>0.6503176</td><td>SB26</td><td>166.3003</td><td>0.27058077</td><td>234.87530461295447</td><td>19.697066579424625</td><td>11.18636</td><td>9.540775</td><td>10.65305</td><td>9.591725</td><td>2.970902</td><td>5.761996</td><td>8.804666</td><td>11.941835</td><td>14.460548</td><td>15.860096</td><td>17.551657</td><td>18.71841</td><td>19.50953</td><td>20.006403</td><td>19.441755</td><td>19.03366</td><td>18.923996</td><td>18.360247</td><td>17.927858</td><td>18.28981</td><td>17.753086</td><td>17.370296</td><td>17.899</td><td>17.454376</td><td>17.09524</td><td>17.700842</td><td>17.263668</td><td>16.942326</td><td>17.614803</td><td>17.174807</td><td>16.876553</td><td>17.548824</td><td>17.104845</td><td>16.819206</td><td>17.540318</td><td>17.090849</td><td>16.799608</td><td>17.52737</td><td>17.081161</td><td>16.791212</td><td>0.10511215</td><td>0.11880484</td><td>0.16999497</td><td>0.24010491</td><td>0.3257525</td><td>0.40032467</td><td>0.09051673</td><td>0.34727</td><td>0.17063652</td><td>0.08399079</td><td>0.08636947</td><td>0.08877438</td><td>0.059620954</td><td>0.061386008</td><td>0.06400586</td><td>0.049017586</td><td>0.051424064</td><td>0.054133862</td><td>0.042656086</td><td>0.044642214</td><td>0.046909813</td><td>0.038752384</td><td>0.04045277</td><td>0.042913344</td><td>0.037057485</td><td>0.038601525</td><td>0.041302845</td><td>0.03569574</td><td>0.037048567</td><td>0.03977621</td><td>0.03539381</td><td>0.036562823</td><td>0.03916474</td><td>0.035100136</td><td>0.03637159</td><td>0.03895229</td><td>17.423037</td><td>0.3653335</td><td>5.571077</td><td>4.382742</td><td>0.55165875</td><td>16.792454</td><td>0.791286</td><td>1.8291132</td><td>2.2295098</td><td>1.101746</td><td>16.532091</td><td>1.030897</td><td>0.99205023</td><td>1.9291406</td><td>0.27314395</td><td>0</td><td>0.04534547427071413</td><td>7.2143430641361005e-06</td><td>91.3777286515229</td><td>2.1564839156492313</td></tr>\n",
       "<tr><td>74</td><td>SGA-2020 74</td><td>SDSSJ135532.63+102701.7</td><td>3557538</td><td>208.8859395</td><td>10.4505624</td><td>S?</td><td>3.03</td><td>0.8994976</td><td>0.13243414</td><td>0.03813705</td><td>26.223482</td><td>17.825</td><td>False</td><td>LEDA-20181114</td><td>23</td><td>SDSSJ135532.63+102701.7</td><td>1</td><td>True</td><td>208.8859395</td><td>10.4505624</td><td>0.8994976</td><td>2088p105</td><td>208.88595452038825</td><td>10.45038023846306</td><td>0.9377506</td><td>SB26</td><td>1.0110943</td><td>0.16343135</td><td>208.88585962998664</td><td>10.450312345905019</td><td>16.918167</td><td>10.709738</td><td>10.532774</td><td>10.390777</td><td>6.095034</td><td>10.368537</td><td>13.56946</td><td>16.302784</td><td>18.563665</td><td>20.584385</td><td>23.208078</td><td>25.386417</td><td>28.132517</td><td>18.885397</td><td>18.277832</td><td>17.836216</td><td>18.070486</td><td>17.48325</td><td>17.05436</td><td>17.739159</td><td>17.157473</td><td>16.738962</td><td>17.578815</td><td>16.997936</td><td>16.58368</td><td>17.480083</td><td>16.907488</td><td>16.503061</td><td>17.417385</td><td>16.844397</td><td>16.438307</td><td>17.37241</td><td>16.804577</td><td>16.397968</td><td>17.353653</td><td>16.782059</td><td>16.375956</td><td>17.331314</td><td>16.761374</td><td>16.354862</td><td>0.12622105</td><td>0.20674814</td><td>0.16807792</td><td>0.25504676</td><td>0.14089678</td><td>0.16829072</td><td>0.19875632</td><td>0.16561174</td><td>0.15427741</td><td>0.046313487</td><td>0.04724616</td><td>0.048439484</td><td>0.03917673</td><td>0.039395563</td><td>0.040091965</td><td>0.036151644</td><td>0.035970192</td><td>0.0366718</td><td>0.03392182</td><td>0.033808276</td><td>0.034251444</td><td>0.032378722</td><td>0.03228349</td><td>0.032734264</td><td>0.031305518</td><td>0.031217247</td><td>0.031562127</td><td>0.030364351</td><td>0.03031965</td><td>0.030655177</td><td>0.029917706</td><td>0.029788723</td><td>0.03014343</td><td>0.029384265</td><td>0.0292718</td><td>0.029606054</td><td>17.276386</td><td>0.45210275</td><td>5.512375</td><td>3.6780589</td><td>0.16846009</td><td>16.710693</td><td>0.4354368</td><td>5.618919</td><td>3.7244556</td><td>0.096192606</td><td>16.299109</td><td>0.46605882</td><td>4.6048703</td><td>3.500001</td><td>0.10056463</td><td>0</td><td>0.03812866997509131</td><td>3.609752572169831e-06</td><td>95.96961734753083</td><td>1.9820116977757078</td></tr>\n",
       "<tr><td>76</td><td>SGA-2020 76</td><td>2MASXJ13193867+1319476</td><td>3554979</td><td>199.91132100000002</td><td>13.3300033</td><td>Sc</td><td>31.75</td><td>0.3499452</td><td>0.52844524</td><td>0.054629125</td><td>24.11248</td><td>17.764</td><td>False</td><td>LEDA-20181114</td><td>24</td><td>2MASXJ13193867+1319476</td><td>1</td><td>True</td><td>199.91132100000002</td><td>13.3300033</td><td>0.3499452</td><td>1998p132</td><td>199.9113135992517</td><td>13.329991136671882</td><td>0.4451001</td><td>SB26</td><td>22.905378</td><td>0.51860845</td><td>199.91120101667676</td><td>13.33006133525471</td><td>9.282045</td><td>3.9885411</td><td>3.966519</td><td>3.8115015</td><td>4.696555</td><td>5.9004173</td><td>7.052831</td><td>8.163935</td><td>9.220189</td><td>10.170329</td><td>11.198942</td><td>12.120846</td><td>13.353003</td><td>17.921488</td><td>17.197258</td><td>16.664124</td><td>17.705431</td><td>16.990112</td><td>16.465982</td><td>17.57282</td><td>16.862581</td><td>16.342922</td><td>17.487513</td><td>16.776474</td><td>16.261377</td><td>17.430614</td><td>16.721258</td><td>16.207926</td><td>17.40115</td><td>16.689163</td><td>16.177795</td><td>17.381325</td><td>16.66461</td><td>16.157372</td><td>17.3689</td><td>16.652546</td><td>16.143244</td><td>17.357347</td><td>16.639008</td><td>16.13258</td><td>0.073423065</td><td>0.092519246</td><td>0.0914643</td><td>0.12338651</td><td>0.112646095</td><td>0.097671814</td><td>0.1335277</td><td>0.12972087</td><td>0.14151393</td><td>0.035409544</td><td>0.036944214</td><td>0.038055237</td><td>0.033948235</td><td>0.034878187</td><td>0.035562627</td><td>0.03228358</td><td>0.033084854</td><td>0.033634093</td><td>0.030885255</td><td>0.03155872</td><td>0.03215581</td><td>0.029848408</td><td>0.030482613</td><td>0.031104034</td><td>0.029231582</td><td>0.029798742</td><td>0.030410364</td><td>0.028793776</td><td>0.02924297</td><td>0.029942103</td><td>0.028504623</td><td>0.028955694</td><td>0.029613603</td><td>0.028233392</td><td>0.028633099</td><td>0.029357912</td><td>17.33485</td><td>0.24642451</td><td>0.34083524</td><td>4.4410286</td><td>0.02592396</td><td>16.609165</td><td>0.25834143</td><td>0.3927081</td><td>4.100756</td><td>0.018338645</td><td>16.106625</td><td>0.23543513</td><td>0.38638958</td><td>4.256516</td><td>0.0146418195</td><td>0</td><td>0.05460013596252999</td><td>4.768815204078259e-06</td><td>136.69374676554472</td><td>7.619682654847482</td></tr>\n",
       "<tr><td>117</td><td>SGA-2020 117</td><td>2MASXJ09154446+0241407</td><td>3354886</td><td>138.9353835</td><td>2.6947728</td><td>S?</td><td>128.28</td><td>0.3990249</td><td>0.38106582</td><td>0.09010734</td><td>24.727482</td><td>18.094</td><td>False</td><td>LEDA-20181114</td><td>34</td><td>2MASXJ09154446+0241407</td><td>1</td><td>True</td><td>138.9353835</td><td>2.6947728</td><td>0.3990249</td><td>1388p027</td><td>138.9354018819327</td><td>2.69476220880469</td><td>0.56725013</td><td>SB26</td><td>128.27348</td><td>0.38386053</td><td>138.93537779417755</td><td>2.6947957581570927</td><td>10.338557</td><td>6.257738</td><td>5.955538</td><td>5.841074</td><td>5.095325</td><td>6.9415464</td><td>8.791956</td><td>10.532487</td><td>11.842479</td><td>13.0811</td><td>14.365393</td><td>15.712301</td><td>17.017504</td><td>18.443657</td><td>17.58299</td><td>16.92973</td><td>18.058376</td><td>17.226091</td><td>16.588629</td><td>17.812689</td><td>17.00055</td><td>16.371704</td><td>17.660887</td><td>16.859318</td><td>16.23806</td><td>17.57534</td><td>16.787174</td><td>16.164423</td><td>17.527903</td><td>16.737005</td><td>16.119072</td><td>17.498484</td><td>16.715483</td><td>16.089012</td><td>17.47861</td><td>16.688995</td><td>16.071629</td><td>17.467876</td><td>16.683826</td><td>16.060444</td><td>0.07752799</td><td>0.10798192</td><td>0.15095635</td><td>0.20314258</td><td>0.1526195</td><td>0.12731193</td><td>0.2313309</td><td>0.16195889</td><td>0.14576925</td><td>0.048041802</td><td>0.05141112</td><td>0.051927906</td><td>0.042856753</td><td>0.045049492</td><td>0.045350183</td><td>0.038913112</td><td>0.040672153</td><td>0.04090189</td><td>0.036267072</td><td>0.03780034</td><td>0.037927195</td><td>0.034719575</td><td>0.036313146</td><td>0.036274742</td><td>0.033770207</td><td>0.035203736</td><td>0.035202943</td><td>0.03311381</td><td>0.034623306</td><td>0.034443073</td><td>0.032663263</td><td>0.034020565</td><td>0.0339658</td><td>0.032346245</td><td>0.033806317</td><td>0.03365211</td><td>17.436062</td><td>0.2512432</td><td>1.7910243</td><td>5.037278</td><td>0.10841618</td><td>16.648998</td><td>0.24943292</td><td>1.6484181</td><td>4.7604127</td><td>0.10132269</td><td>16.024673</td><td>0.24497303</td><td>1.7002242</td><td>4.6383066</td><td>0.06712678</td><td>0</td><td>0.09004580647676316</td><td>2.4813911812479536e-05</td><td>199.31795125815435</td><td>8.058354246840409</td></tr>\n",
       "<tr><td>146</td><td>SGA-2020 146</td><td>2MASXJ12064551+5749479</td><td>3548029</td><td>181.6893645</td><td>57.830051100000006</td><td>S?</td><td>48.71</td><td>0.34833732</td><td>0.7726806</td><td>0.08683107</td><td>23.381481</td><td>17.043</td><td>False</td><td>LEDA-20181114</td><td>44</td><td>2MASXJ12064551+5749479</td><td>1</td><td>True</td><td>181.6893645</td><td>57.830051100000006</td><td>0.34833732</td><td>1816p577</td><td>181.68940917696546</td><td>57.83003104947937</td><td>0.36415058</td><td>SB26</td><td>48.3093</td><td>0.76031077</td><td>181.68927646718146</td><td>57.83003937253488</td><td>8.556511</td><td>3.4790816</td><td>3.2297716</td><td>2.792609</td><td>4.65354</td><td>5.5384154</td><td>6.288284</td><td>7.0090117</td><td>7.7473254</td><td>8.435928</td><td>9.281414</td><td>10.044157</td><td>10.924518</td><td>17.197342</td><td>16.64778</td><td>16.239794</td><td>17.0416</td><td>16.511215</td><td>16.12045</td><td>16.952618</td><td>16.433926</td><td>16.050842</td><td>16.900208</td><td>16.385595</td><td>16.008142</td><td>16.866474</td><td>16.354696</td><td>15.981494</td><td>16.842852</td><td>16.3341</td><td>15.965365</td><td>16.825573</td><td>16.317263</td><td>15.95298</td><td>16.814331</td><td>16.307076</td><td>15.944683</td><td>16.806469</td><td>16.298855</td><td>15.94009</td><td>0.041527864</td><td>0.08357649</td><td>0.050740317</td><td>0.05205987</td><td>0.045416936</td><td>0.0490538</td><td>0.063110456</td><td>0.08092954</td><td>0.08631646</td><td>0.014227689</td><td>0.0185518</td><td>0.025183618</td><td>0.014932208</td><td>0.018072862</td><td>0.023654822</td><td>0.015130591</td><td>0.017819095</td><td>0.022927113</td><td>0.014902598</td><td>0.017428178</td><td>0.022299813</td><td>0.01461358</td><td>0.017018395</td><td>0.02171393</td><td>0.014384262</td><td>0.01678308</td><td>0.021565419</td><td>0.014165267</td><td>0.016507052</td><td>0.021206876</td><td>0.014050296</td><td>0.016401306</td><td>0.021190243</td><td>0.013933333</td><td>0.016245957</td><td>0.020981535</td><td>16.788258</td><td>0.3268808</td><td>0.0859406</td><td>4.405118</td><td>0.042221688</td><td>16.280504</td><td>0.29998967</td><td>0.09424027</td><td>4.2344804</td><td>0.0123713715</td><td>15.930992</td><td>0.17818208</td><td>0.085705355</td><td>5.225517</td><td>0.007930444</td><td>0</td><td>0.08685622294361282</td><td>9.054558147859191e-07</td><td>174.84306068818927</td><td>0.6186216089875395</td></tr>\n",
       "<tr><td>...</td><td>...</td><td>...</td><td>...</td><td>...</td><td>...</td><td>...</td><td>...</td><td>...</td><td>...</td><td>...</td><td>...</td><td>...</td><td>...</td><td>...</td><td>...</td><td>...</td><td>...</td><td>...</td><td>...</td><td>...</td><td>...</td><td>...</td><td>...</td><td>...</td><td>...</td><td>...</td><td>...</td><td>...</td><td>...</td><td>...</td><td>...</td><td>...</td><td>...</td><td>...</td><td>...</td><td>...</td><td>...</td><td>...</td><td>...</td><td>...</td><td>...</td><td>...</td><td>...</td><td>...</td><td>...</td><td>...</td><td>...</td><td>...</td><td>...</td><td>...</td><td>...</td><td>...</td><td>...</td><td>...</td><td>...</td><td>...</td><td>...</td><td>...</td><td>...</td><td>...</td><td>...</td><td>...</td><td>...</td><td>...</td><td>...</td><td>...</td><td>...</td><td>...</td><td>...</td><td>...</td><td>...</td><td>...</td><td>...</td><td>...</td><td>...</td><td>...</td><td>...</td><td>...</td><td>...</td><td>...</td><td>...</td><td>...</td><td>...</td><td>...</td><td>...</td><td>...</td><td>...</td><td>...</td><td>...</td><td>...</td><td>...</td><td>...</td><td>...</td><td>...</td><td>...</td><td>...</td><td>...</td><td>...</td><td>...</td><td>...</td><td>...</td><td>...</td><td>...</td><td>...</td><td>...</td><td>...</td><td>...</td><td>...</td><td>...</td><td>...</td><td>...</td><td>...</td><td>...</td><td>...</td><td>...</td><td>...</td><td>...</td><td>...</td><td>...</td><td>...</td><td>...</td><td>...</td><td>...</td><td>...</td><td>...</td><td>...</td></tr>\n",
       "<tr><td>5002979</td><td>SGA-2020 5002979</td><td>DR8-2397p652-167</td><td>-1</td><td>239.924898070929</td><td>65.1335613910586</td><td>COMP</td><td>67.210915</td><td>0.43699723</td><td>0.18314047</td><td>-1.0</td><td>24.381874</td><td>17.551</td><td>False</td><td>DR8</td><td>531180</td><td>DR8-2397p652-167</td><td>1</td><td>True</td><td>239.924898070929</td><td>65.1335613910586</td><td>0.43699723</td><td>2397p652</td><td>239.92492402653707</td><td>65.13355735779955</td><td>0.45626715</td><td>SB26</td><td>65.47312</td><td>0.323703</td><td>239.92491617045874</td><td>65.1336522097774</td><td>11.356818</td><td>5.0084615</td><td>5.2744956</td><td>3.8315012</td><td>2.1767786</td><td>4.1628194</td><td>5.621367</td><td>6.9673505</td><td>8.284424</td><td>9.639256</td><td>11.016103</td><td>12.311766</td><td>13.688014</td><td>20.749155</td><td>19.821903</td><td>18.622519</td><td>19.675947</td><td>18.759464</td><td>17.71218</td><td>19.309002</td><td>18.39348</td><td>17.446665</td><td>19.11053</td><td>18.193024</td><td>17.311804</td><td>18.98419</td><td>18.062576</td><td>17.234247</td><td>18.90314</td><td>17.972124</td><td>17.180563</td><td>18.848152</td><td>17.911032</td><td>17.147327</td><td>18.812113</td><td>17.872213</td><td>17.131145</td><td>18.787783</td><td>17.84331</td><td>17.11618</td><td>0.02658036</td><td>0.03216826</td><td>0.033247657</td><td>0.03098253</td><td>0.040881623</td><td>0.038021352</td><td>0.06001063</td><td>0.08135062</td><td>0.10424633</td><td>0.032608777</td><td>0.033876732</td><td>0.052335072</td><td>0.02132334</td><td>0.021264859</td><td>0.029132297</td><td>0.017494736</td><td>0.017872352</td><td>0.024053397</td><td>0.016173579</td><td>0.015982687</td><td>0.02192911</td><td>0.015114146</td><td>0.014820993</td><td>0.020821707</td><td>0.0144540435</td><td>0.013892267</td><td>0.020053793</td><td>0.014116646</td><td>0.013265011</td><td>0.019589279</td><td>0.013835338</td><td>0.0128714545</td><td>0.019406393</td><td>0.013616575</td><td>0.0126029905</td><td>0.019253295</td><td>18.685425</td><td>0.81560135</td><td>0.28128865</td><td>2.4362183</td><td>0.09587855</td><td>17.710533</td><td>0.90226614</td><td>0.31298414</td><td>2.229261</td><td>0.1683545</td><td>17.055399</td><td>0.8260203</td><td>0.1539571</td><td>2.3640034</td><td>0.103004</td><td>0</td><td>0.0876509693737678</td><td>2.149715738585655e-05</td><td>146.70900655385103</td><td>12.531496826591164</td></tr>\n",
       "<tr><td>5002994</td><td>SGA-2020 5002994</td><td>DR8-1398p665-1615</td><td>-1</td><td>139.864382043653</td><td>66.4721755731082</td><td>DEV</td><td>101.013794</td><td>0.5753267</td><td>0.071344316</td><td>-1.0</td><td>25.721354</td><td>18.2933</td><td>False</td><td>DR8</td><td>531191</td><td>DR8-1398p665-1615</td><td>1</td><td>True</td><td>139.864382043653</td><td>66.4721755731082</td><td>0.5753267</td><td>1398p665</td><td>139.86435722699446</td><td>66.47217431853446</td><td>0.5490915</td><td>SB26</td><td>100.38608</td><td>0.17725486</td><td>139.86398551814102</td><td>66.47226023279771</td><td>10.545621</td><td>9.887215</td><td>8.595079</td><td>7.7230816</td><td>-1.0</td><td>0.6948133</td><td>2.6397734</td><td>5.375548</td><td>7.9385815</td><td>10.095449</td><td>12.381149</td><td>14.493664</td><td>16.472746</td><td>-1.0</td><td>-1.0</td><td>-1.0</td><td>24.912306</td><td>23.873669</td><td>23.055914</td><td>22.153711</td><td>21.166409</td><td>20.367807</td><td>20.862572</td><td>19.92279</td><td>19.193596</td><td>20.313389</td><td>19.385433</td><td>18.70704</td><td>20.03827</td><td>19.137272</td><td>18.484045</td><td>19.84823</td><td>18.970484</td><td>18.339989</td><td>19.73206</td><td>18.876404</td><td>18.258461</td><td>19.656702</td><td>18.803837</td><td>18.206432</td><td>-1.0</td><td>0.03325055</td><td>0.053489998</td><td>0.10656316</td><td>0.079258546</td><td>0.12572764</td><td>0.14248478</td><td>0.10924942</td><td>0.15195657</td><td>-1.0</td><td>-1.0</td><td>-1.0</td><td>0.03655815</td><td>0.052470915</td><td>0.07374169</td><td>0.04353275</td><td>0.054902457</td><td>0.06727626</td><td>0.032866273</td><td>0.03737229</td><td>0.045083545</td><td>0.02979003</td><td>0.03257439</td><td>0.038288545</td><td>0.028245408</td><td>0.030242732</td><td>0.03515473</td><td>0.02682099</td><td>0.028373884</td><td>0.03292232</td><td>0.025636008</td><td>0.02723336</td><td>0.031637415</td><td>0.024718849</td><td>0.026224555</td><td>0.030764705</td><td>19.305637</td><td>1.1360888</td><td>0.91967666</td><td>1.879403</td><td>0.06263441</td><td>18.545938</td><td>1.0229808</td><td>0.7986917</td><td>2.0349977</td><td>0.06394184</td><td>17.982222</td><td>1.0536814</td><td>0.6254577</td><td>1.9778081</td><td>0.085709065</td><td>0</td><td>0.048405841192079815</td><td>1.0282175864799238e-05</td><td>72.41767549081787</td><td>4.340810310325538</td></tr>\n",
       "<tr><td>5003004</td><td>SGA-2020 5003004</td><td>DR8-1714p670-2342</td><td>-1</td><td>171.35883916067</td><td>67.0611764882104</td><td>DEV</td><td>80.3217</td><td>0.60768</td><td>0.08748469</td><td>-1.0</td><td>25.928455</td><td>18.3816</td><td>False</td><td>DR8</td><td>531199</td><td>DR8-1714p670-2342</td><td>1</td><td>True</td><td>171.35883916067</td><td>67.0611764882104</td><td>0.60768</td><td>1714p670</td><td>171.35881877248994</td><td>67.06118179615684</td><td>0.47528946</td><td>SB26</td><td>81.904305</td><td>0.23210156</td><td>171.35839908332883</td><td>67.06123894917796</td><td>9.509831</td><td>6.7971253</td><td>8.67151</td><td>5.367893</td><td>-1.0</td><td>-1.0</td><td>0.7149287</td><td>2.6152117</td><td>5.3913107</td><td>7.8126597</td><td>9.989338</td><td>12.164344</td><td>14.258684</td><td>-1.0</td><td>-1.0</td><td>-1.0</td><td>-1.0</td><td>-1.0</td><td>-1.0</td><td>23.990133</td><td>24.01508</td><td>23.591227</td><td>21.40138</td><td>21.379026</td><td>21.04436</td><td>20.225557</td><td>20.12302</td><td>19.928143</td><td>19.780087</td><td>19.626316</td><td>19.537397</td><td>19.559645</td><td>19.37025</td><td>19.367208</td><td>19.442797</td><td>19.208246</td><td>19.291243</td><td>19.38842</td><td>19.110348</td><td>19.27636</td><td>-1.0</td><td>-1.0</td><td>0.04180464</td><td>0.048984915</td><td>0.08504153</td><td>0.12991256</td><td>0.12206072</td><td>0.15354736</td><td>0.14100157</td><td>-1.0</td><td>-1.0</td><td>-1.0</td><td>-1.0</td><td>-1.0</td><td>-1.0</td><td>0.032449197</td><td>0.050993886</td><td>0.13238242</td><td>0.043113627</td><td>0.039578818</td><td>0.070912704</td><td>0.04259607</td><td>0.03421088</td><td>0.06046601</td><td>0.04076413</td><td>0.031005017</td><td>0.053169258</td><td>0.03788167</td><td>0.029154485</td><td>0.050601453</td><td>0.035704378</td><td>0.027307019</td><td>0.050026268</td><td>0.034471277</td><td>0.026303183</td><td>0.051400226</td><td>19.17055</td><td>0.95281184</td><td>0.5223741</td><td>2.1607606</td><td>0.38082954</td><td>18.757368</td><td>1.0837588</td><td>0.76037323</td><td>1.9395914</td><td>0.025478158</td><td>19.162567</td><td>0.77011454</td><td>0.32981506</td><td>2.594674</td><td>0.4011641</td><td>0</td><td>0.05497527658535031</td><td>6.491175241697728e-06</td><td>60.448478426807355</td><td>3.3247534088906847</td></tr>\n",
       "<tr><td>5003016</td><td>SGA-2020 5003016</td><td>DR8-1180p685-982</td><td>-1</td><td>118.413192598763</td><td>68.4475232039251</td><td>COMP</td><td>2.7931678</td><td>0.38619024</td><td>0.3354965</td><td>-1.0</td><td>23.511286</td><td>16.9488</td><td>False</td><td>DR8</td><td>531209</td><td>DR8-1180p685-982</td><td>1</td><td>True</td><td>118.413192598763</td><td>68.4475232039251</td><td>0.38619024</td><td>1180p685</td><td>118.41335218674068</td><td>68.44756628924732</td><td>0.36928576</td><td>SB26</td><td>39.323143</td><td>0.6080408</td><td>118.41355663477529</td><td>68.44783546098549</td><td>9.090026</td><td>4.192083</td><td>4.1868567</td><td>3.5377216</td><td>2.4994369</td><td>4.4049687</td><td>5.5124483</td><td>6.580792</td><td>7.5675535</td><td>8.470651</td><td>9.419668</td><td>10.238615</td><td>11.078573</td><td>19.329086</td><td>18.70795</td><td>18.142296</td><td>18.460035</td><td>17.891752</td><td>17.441038</td><td>18.18327</td><td>17.629723</td><td>17.217985</td><td>18.029228</td><td>17.467611</td><td>17.099804</td><td>17.947746</td><td>17.385164</td><td>17.035223</td><td>17.893185</td><td>17.3279</td><td>17.001596</td><td>17.85378</td><td>17.290592</td><td>16.977774</td><td>17.833279</td><td>17.266891</td><td>16.968819</td><td>17.817175</td><td>17.251467</td><td>16.96305</td><td>0.058407836</td><td>0.05761795</td><td>0.0472844</td><td>0.058159698</td><td>0.062547594</td><td>0.08531638</td><td>0.063434765</td><td>0.07591749</td><td>0.11168528</td><td>0.05535375</td><td>0.056489572</td><td>0.08199482</td><td>0.0302142</td><td>0.032033842</td><td>0.04719929</td><td>0.025984367</td><td>0.027111376</td><td>0.039662063</td><td>0.02389687</td><td>0.02489324</td><td>0.03622886</td><td>0.022824634</td><td>0.0235452</td><td>0.0344496</td><td>0.022073936</td><td>0.022654897</td><td>0.033618093</td><td>0.021485014</td><td>0.02207306</td><td>0.03303966</td><td>0.02115713</td><td>0.021664346</td><td>0.03284681</td><td>0.020846916</td><td>0.021352056</td><td>0.032737326</td><td>17.769403</td><td>0.47055158</td><td>0.15964885</td><td>3.6904638</td><td>0.1493848</td><td>17.203154</td><td>0.4136125</td><td>0.18550104</td><td>3.8217518</td><td>0.07669389</td><td>16.944618</td><td>0.28349632</td><td>0.10090171</td><td>4.691846</td><td>0.016500065</td><td>0</td><td>0.11692509196560236</td><td>5.3712818145747254e-06</td><td>107.28956953697448</td><td>1.9167795108204821</td></tr>\n",
       "<tr><td>5003025</td><td>SGA-2020 5003025</td><td>DR8-1964p692-1520</td><td>-1</td><td>196.249821325712</td><td>69.2404735910327</td><td>DEV</td><td>65.993675</td><td>0.53019</td><td>0.83550423</td><td>-1.0</td><td>23.703638</td><td>16.453</td><td>False</td><td>DR8</td><td>531217</td><td>DR8-1964p692-1520</td><td>1</td><td>True</td><td>196.249821325712</td><td>69.2404735910327</td><td>0.53019</td><td>1964p692</td><td>196.24985590299065</td><td>69.24047403123191</td><td>0.3762274</td><td>SB26</td><td>69.32113</td><td>0.8474411</td><td>196.24956535362386</td><td>69.24058470993809</td><td>9.153697</td><td>5.2658134</td><td>4.931614</td><td>4.095267</td><td>0.980254</td><td>2.4707532</td><td>3.7954679</td><td>5.208217</td><td>6.64204</td><td>7.895033</td><td>9.0990505</td><td>10.242334</td><td>11.286822</td><td>21.251368</td><td>20.476337</td><td>20.10416</td><td>19.6451</td><td>18.985996</td><td>18.646614</td><td>19.014925</td><td>18.416061</td><td>18.123596</td><td>18.574312</td><td>18.025017</td><td>17.76473</td><td>18.293917</td><td>17.779255</td><td>17.554861</td><td>18.139387</td><td>17.643995</td><td>17.44837</td><td>18.044146</td><td>17.55823</td><td>17.39057</td><td>17.982098</td><td>17.506182</td><td>17.359121</td><td>17.945805</td><td>17.471407</td><td>17.343243</td><td>0.0069023687</td><td>0.010550653</td><td>0.016471252</td><td>0.02250987</td><td>0.029023474</td><td>0.035044607</td><td>0.050860174</td><td>0.06265391</td><td>0.091106564</td><td>0.025555115</td><td>0.040090375</td><td>0.039042614</td><td>0.011055786</td><td>0.016875388</td><td>0.0162537</td><td>0.0071044043</td><td>0.010832993</td><td>0.011001163</td><td>0.0056095333</td><td>0.008214461</td><td>0.008658351</td><td>0.0047839754</td><td>0.0069714896</td><td>0.007678118</td><td>0.004642599</td><td>0.0065153595</td><td>0.0075184805</td><td>0.004636516</td><td>0.0063242204</td><td>0.0075814105</td><td>0.0045584664</td><td>0.0062105795</td><td>0.0077166874</td><td>0.0045477264</td><td>0.0061218785</td><td>0.00781886</td><td>17.802494</td><td>0.55231285</td><td>0.41594377</td><td>3.0312378</td><td>15.277665</td><td>17.328266</td><td>0.5637767</td><td>0.39493692</td><td>2.7704544</td><td>6.344422</td><td>17.264029</td><td>0.48153266</td><td>0.2337462</td><td>3.1153762</td><td>13.043791</td><td>0</td><td>0.05445021424288115</td><td>1.0574696119518783e-05</td><td>46.88669883616818</td><td>3.699465058066751</td></tr>\n",
       "<tr><td>5003026</td><td>SGA-2020 5003026</td><td>DR8-2062p692-3548</td><td>-1</td><td>206.173102845139</td><td>69.3689603946125</td><td>DEV</td><td>154.31407</td><td>0.50661</td><td>0.09038569</td><td>-1.0</td><td>25.51585</td><td>18.364</td><td>False</td><td>DR8</td><td>531218</td><td>DR8-2062p692-3548</td><td>1</td><td>True</td><td>206.173102845139</td><td>69.3689603946125</td><td>0.50661</td><td>2062p692</td><td>206.17338580325088</td><td>69.36879116767244</td><td>0.5133742</td><td>SB26</td><td>152.68248</td><td>0.21594274</td><td>206.17313685158067</td><td>69.36887462279773</td><td>8.263047</td><td>9.253409</td><td>8.988054</td><td>6.572062</td><td>-1.0</td><td>0.94253665</td><td>2.7663212</td><td>5.6930323</td><td>8.5402155</td><td>10.928623</td><td>12.938184</td><td>14.395423</td><td>15.401226</td><td>-1.0</td><td>-1.0</td><td>-1.0</td><td>23.735952</td><td>22.775803</td><td>21.64349</td><td>21.818464</td><td>20.872969</td><td>19.874765</td><td>20.575</td><td>19.636568</td><td>18.787037</td><td>19.99735</td><td>19.075829</td><td>18.321186</td><td>19.71226</td><td>18.792349</td><td>18.09326</td><td>19.536978</td><td>18.633186</td><td>18.013458</td><td>19.468704</td><td>18.561232</td><td>17.971956</td><td>19.428648</td><td>18.525364</td><td>17.95479</td><td>-1.0</td><td>0.063837886</td><td>0.087008856</td><td>0.16539806</td><td>0.21387036</td><td>0.19643526</td><td>0.16088685</td><td>0.10302735</td><td>0.14549845</td><td>-1.0</td><td>-1.0</td><td>-1.0</td><td>0.08337063</td><td>0.06078962</td><td>0.12025353</td><td>0.09459272</td><td>0.09971636</td><td>0.14241862</td><td>0.061237257</td><td>0.064610876</td><td>0.085181884</td><td>0.051206045</td><td>0.05276152</td><td>0.06897163</td><td>0.04632865</td><td>0.047517184</td><td>0.062305544</td><td>0.043556936</td><td>0.044594377</td><td>0.058996145</td><td>0.042225543</td><td>0.04296184</td><td>0.057529192</td><td>0.04144066</td><td>0.04196402</td><td>0.056985397</td><td>19.138977</td><td>0.67302245</td><td>1.6734488</td><td>2.674247</td><td>0.15206179</td><td>18.252243</td><td>0.67125225</td><td>1.5563235</td><td>2.666082</td><td>0.102686904</td><td>17.846682</td><td>0.51567817</td><td>0.8723632</td><td>3.1720223</td><td>0.1154653</td><td>0</td><td>0.17186823696467102</td><td>7.840986698099393e-06</td><td>252.77498469165545</td><td>7.351844250373584</td></tr>\n",
       "<tr><td>5003042</td><td>SGA-2020 5003042</td><td>DR8-1788p705-2761</td><td>-1</td><td>178.886248174981</td><td>70.5862565306647</td><td>DEV</td><td>123.207634</td><td>0.47999334</td><td>0.5997575</td><td>-1.0</td><td>24.162756</td><td>17.1281</td><td>False</td><td>DR8</td><td>531231</td><td>DR8-1788p705-2761</td><td>1</td><td>True</td><td>178.886248174981</td><td>70.5862565306647</td><td>0.47999334</td><td>1788p705</td><td>178.8862785601706</td><td>70.58624697230493</td><td>0.36200136</td><td>SB26</td><td>125.24374</td><td>0.64845276</td><td>178.88606249969044</td><td>70.58627541657373</td><td>8.553643</td><td>5.731049</td><td>5.9333167</td><td>4.8973</td><td>0.4319653</td><td>1.3864847</td><td>3.047685</td><td>4.321398</td><td>5.6121936</td><td>6.960401</td><td>8.355741</td><td>9.72887</td><td>10.860041</td><td>23.528044</td><td>22.870604</td><td>21.90141</td><td>21.276356</td><td>20.507837</td><td>19.755964</td><td>20.00039</td><td>19.26</td><td>18.724419</td><td>19.490372</td><td>18.809628</td><td>18.343924</td><td>19.150068</td><td>18.517948</td><td>18.095984</td><td>18.939661</td><td>18.336416</td><td>17.946585</td><td>18.806273</td><td>18.216522</td><td>17.85679</td><td>18.715223</td><td>18.136826</td><td>17.793627</td><td>18.657173</td><td>18.081808</td><td>17.755415</td><td>0.012983936</td><td>0.02596652</td><td>0.031495087</td><td>0.03505714</td><td>0.060470216</td><td>0.08336966</td><td>0.08657825</td><td>0.15099958</td><td>0.12846708</td><td>0.041599523</td><td>0.049795024</td><td>0.08694215</td><td>0.028040832</td><td>0.03016664</td><td>0.05442411</td><td>0.017687852</td><td>0.020218076</td><td>0.03169479</td><td>0.0152520025</td><td>0.017243044</td><td>0.026304955</td><td>0.014170057</td><td>0.015881548</td><td>0.02318564</td><td>0.013916019</td><td>0.015109587</td><td>0.0218094</td><td>0.013785148</td><td>0.014686738</td><td>0.021117546</td><td>0.013662463</td><td>0.014429111</td><td>0.020847611</td><td>0.013597124</td><td>0.014138819</td><td>0.020602891</td><td>18.386326</td><td>0.90661913</td><td>0.40670052</td><td>2.078456</td><td>7.827966</td><td>17.725664</td><td>1.407968</td><td>0.32085827</td><td>1.5124189</td><td>3.6684504</td><td>17.464483</td><td>1.3141232</td><td>0.27003244</td><td>1.4732548</td><td>3.2791605</td><td>0</td><td>0.11885901724082157</td><td>5.210652585081922e-05</td><td>137.60810216730812</td><td>15.881552401427436</td></tr>\n",
       "<tr><td>5003044</td><td>SGA-2020 5003044</td><td>DR8-1871p707-934</td><td>-1</td><td>187.039327700228</td><td>70.7094485721822</td><td>COMP</td><td>176.6534</td><td>0.4478798</td><td>0.10771403</td><td>-1.0</td><td>24.884089</td><td>17.9998</td><td>False</td><td>DR8</td><td>531232</td><td>DR8-1871p707-934</td><td>1</td><td>True</td><td>187.039327700228</td><td>70.7094485721822</td><td>0.4478798</td><td>1871p707</td><td>187.0393754215968</td><td>70.70954568726202</td><td>0.45446476</td><td>SB26</td><td>177.46777</td><td>0.21339494</td><td>187.03913955198644</td><td>70.70963026986104</td><td>10.928007</td><td>5.711995</td><td>5.3233075</td><td>5.1449146</td><td>2.151994</td><td>4.362925</td><td>6.2506046</td><td>7.622578</td><td>8.864355</td><td>10.016671</td><td>11.0834055</td><td>12.19836</td><td>13.633943</td><td>21.60051</td><td>20.415434</td><td>19.561075</td><td>20.308853</td><td>19.154308</td><td>18.330902</td><td>19.805435</td><td>18.656433</td><td>17.865152</td><td>19.599024</td><td>18.456722</td><td>17.673725</td><td>19.475636</td><td>18.343643</td><td>17.56651</td><td>19.397234</td><td>18.273926</td><td>17.502722</td><td>19.345844</td><td>18.229164</td><td>17.464523</td><td>19.30992</td><td>18.199965</td><td>17.436916</td><td>19.274109</td><td>18.177862</td><td>17.413712</td><td>0.02248094</td><td>0.02106907</td><td>0.019714963</td><td>0.026001409</td><td>0.025607906</td><td>0.04175527</td><td>0.07508612</td><td>0.07731131</td><td>0.15724127</td><td>0.031683955</td><td>0.039428655</td><td>0.03547412</td><td>0.019935798</td><td>0.022308318</td><td>0.020489505</td><td>0.015330863</td><td>0.01651906</td><td>0.015847545</td><td>0.013698094</td><td>0.014332885</td><td>0.0143381655</td><td>0.012764545</td><td>0.013258427</td><td>0.013595736</td><td>0.012093991</td><td>0.012635661</td><td>0.013262001</td><td>0.011719649</td><td>0.012276251</td><td>0.013140208</td><td>0.011547911</td><td>0.012097023</td><td>0.013124858</td><td>0.011477698</td><td>0.011967833</td><td>0.0132263275</td><td>19.164099</td><td>0.72991806</td><td>0.38097164</td><td>2.7767498</td><td>0.09768463</td><td>18.10752</td><td>0.5841937</td><td>0.33403307</td><td>3.2706497</td><td>0.24090384</td><td>17.345636</td><td>0.5957881</td><td>0.30950978</td><td>3.1652956</td><td>0.31759864</td><td>0</td><td>0.13382448606567757</td><td>3.068863296219157e-05</td><td>195.8725337040959</td><td>17.62449436158271</td></tr>\n",
       "<tr><td>5003075</td><td>SGA-2020 5003075</td><td>DR8-1471p740-944</td><td>-1</td><td>146.852838040185</td><td>73.9547564406542</td><td>DEV</td><td>67.622696</td><td>0.48962668</td><td>0.3161503</td><td>-1.0</td><td>23.939207</td><td>16.8614</td><td>False</td><td>DR8</td><td>531256</td><td>DR8-1471p740-944</td><td>1</td><td>True</td><td>146.852838040185</td><td>73.9547564406542</td><td>0.48962668</td><td>1471p740</td><td>146.8528097570781</td><td>73.95474012822847</td><td>0.5697113</td><td>SB26</td><td>70.31672</td><td>0.39222878</td><td>146.85260201693393</td><td>73.95481726867567</td><td>10.980568</td><td>8.365745</td><td>7.250436</td><td>6.7237144</td><td>1.936407</td><td>3.9904687</td><td>5.9091377</td><td>7.9328766</td><td>10.027711</td><td>12.026291</td><td>13.868172</td><td>15.569904</td><td>17.09134</td><td>20.565453</td><td>19.829273</td><td>19.346647</td><td>19.401884</td><td>18.732777</td><td>18.279396</td><td>18.85942</td><td>18.228605</td><td>17.799877</td><td>18.506054</td><td>17.89475</td><td>17.492552</td><td>18.264954</td><td>17.66807</td><td>17.289888</td><td>18.115206</td><td>17.533073</td><td>17.172129</td><td>18.01642</td><td>17.450136</td><td>17.10932</td><td>17.955143</td><td>17.405823</td><td>17.05811</td><td>17.922651</td><td>17.377522</td><td>17.038376</td><td>0.06631403</td><td>0.08176365</td><td>0.108295955</td><td>0.12953302</td><td>0.18545443</td><td>0.16246535</td><td>0.13165852</td><td>0.12661855</td><td>0.166926</td><td>0.057620913</td><td>0.06838719</td><td>0.0748089</td><td>0.045328382</td><td>0.050573166</td><td>0.053785603</td><td>0.03942852</td><td>0.042899955</td><td>0.045067873</td><td>0.03510518</td><td>0.03750515</td><td>0.039328925</td><td>0.03179709</td><td>0.033831224</td><td>0.03576075</td><td>0.029496316</td><td>0.031350166</td><td>0.033421118</td><td>0.027790401</td><td>0.029689867</td><td>0.032195583</td><td>0.026754541</td><td>0.028775953</td><td>0.031066077</td><td>0.026162982</td><td>0.028150462</td><td>0.030709643</td><td>17.688265</td><td>0.75627697</td><td>1.1482797</td><td>2.2153423</td><td>0.28886202</td><td>17.228083</td><td>0.585975</td><td>1.1270509</td><td>2.6143727</td><td>0.36711362</td><td>16.896973</td><td>0.6333095</td><td>0.87312746</td><td>2.4198256</td><td>0.22771747</td><td>0</td><td>0.056663371731410284</td><td>1.4178267043000672e-05</td><td>114.98219785520891</td><td>4.49883027792885</td></tr>\n",
       "<tr><td>5003690</td><td>SGA-2020 5003690</td><td>DR8-3538m085-2119</td><td>-1</td><td>353.91877403154876</td><td>-8.500125659558334</td><td>PSF</td><td>0.0</td><td>0.504</td><td>1.0</td><td>-1.0</td><td>24.295685</td><td>17.155052</td><td>True</td><td>DR8</td><td>531397</td><td>DR8-3538m085-2119</td><td>1</td><td>True</td><td>353.91877403154876</td><td>-8.500125659558334</td><td>0.504</td><td>3538m085</td><td>353.918725875674</td><td>-8.500178425860529</td><td>0.40905288</td><td>SB26</td><td>77.87609</td><td>0.8739322</td><td>353.91867316796277</td><td>-8.50011252685305</td><td>10.923769</td><td>2.114272</td><td>2.3529387</td><td>2.840075</td><td>5.5757</td><td>6.5362024</td><td>7.4308066</td><td>8.259595</td><td>9.0084505</td><td>9.70209</td><td>10.449663</td><td>11.127357</td><td>12.271586</td><td>16.270388</td><td>15.716652</td><td>15.340878</td><td>16.194172</td><td>15.633355</td><td>15.247107</td><td>16.141834</td><td>15.577122</td><td>15.184869</td><td>16.108997</td><td>15.541147</td><td>15.145875</td><td>16.090513</td><td>15.521163</td><td>15.122307</td><td>16.078249</td><td>15.50802</td><td>15.107102</td><td>16.070158</td><td>15.4986515</td><td>15.095938</td><td>16.06557</td><td>15.493516</td><td>15.088886</td><td>16.059961</td><td>15.488407</td><td>15.08108</td><td>0.01388442</td><td>0.035363927</td><td>0.023681393</td><td>0.039492417</td><td>0.03864433</td><td>0.034425754</td><td>0.08908372</td><td>0.07852673</td><td>0.2100026</td><td>0.014275457</td><td>0.01368379</td><td>0.009532733</td><td>0.013586088</td><td>0.01288743</td><td>0.008810729</td><td>0.012995196</td><td>0.012289315</td><td>0.008382328</td><td>0.0124174</td><td>0.01176672</td><td>0.008112468</td><td>0.012448063</td><td>0.011731609</td><td>0.007992379</td><td>0.012095029</td><td>0.011441943</td><td>0.007867542</td><td>0.012009588</td><td>0.011349588</td><td>0.0077945087</td><td>0.012180091</td><td>0.011455518</td><td>0.007774968</td><td>0.012120133</td><td>0.011406247</td><td>0.007726163</td><td>16.054438</td><td>0.08805369</td><td>0.25674745</td><td>6.3751884</td><td>0.006444107</td><td>15.481927</td><td>0.09567547</td><td>0.25643852</td><td>6.3765764</td><td>0.005022586</td><td>15.069668</td><td>0.13804597</td><td>0.26408017</td><td>5.3853464</td><td>0.0038956604</td><td>0</td><td>0.06025708247204386</td><td>1.2910586725068959e-06</td><td>159.1082154250024</td><td>0.8240692283110285</td></tr>\n",
       "</table></div>"
      ],
      "text/plain": [
       "<Table length=35786>\n",
       " SGA_ID    SGA_GALAXY    ...      V_0p4R26         V_0p4R26_err   \n",
       " int64      bytes16      ...      float64            float64      \n",
       "------- ---------------- ... ------------------ ------------------\n",
       "     20      SGA-2020 20 ... 147.82237894320167  4.528884919879512\n",
       "     32      SGA-2020 32 ...  264.4537334962159 12.703124777339772\n",
       "     38      SGA-2020 38 ...  131.7204980109027 2.7000243414015537\n",
       "     53      SGA-2020 53 ...  269.3971746696992  5.699540655454983\n",
       "     55      SGA-2020 55 ...  81.96380902973591 3.1957190840943728\n",
       "     63      SGA-2020 63 ...   91.3777286515229 2.1564839156492313\n",
       "     74      SGA-2020 74 ...  95.96961734753083 1.9820116977757078\n",
       "     76      SGA-2020 76 ... 136.69374676554472  7.619682654847482\n",
       "    117     SGA-2020 117 ... 199.31795125815435  8.058354246840409\n",
       "    146     SGA-2020 146 ... 174.84306068818927 0.6186216089875395\n",
       "    ...              ... ...                ...                ...\n",
       "5002979 SGA-2020 5002979 ... 146.70900655385103 12.531496826591164\n",
       "5002994 SGA-2020 5002994 ...  72.41767549081787  4.340810310325538\n",
       "5003004 SGA-2020 5003004 ... 60.448478426807355 3.3247534088906847\n",
       "5003016 SGA-2020 5003016 ... 107.28956953697448 1.9167795108204821\n",
       "5003025 SGA-2020 5003025 ...  46.88669883616818  3.699465058066751\n",
       "5003026 SGA-2020 5003026 ... 252.77498469165545  7.351844250373584\n",
       "5003042 SGA-2020 5003042 ... 137.60810216730812 15.881552401427436\n",
       "5003044 SGA-2020 5003044 ...  195.8725337040959  17.62449436158271\n",
       "5003075 SGA-2020 5003075 ... 114.98219785520891   4.49883027792885\n",
       "5003690 SGA-2020 5003690 ...  159.1082154250024 0.8240692283110285"
      ]
     },
     "execution_count": 11,
     "metadata": {},
     "output_type": "execute_result"
    }
   ],
   "source": [
    "vrot = Table.read('/global/homes/s/sgmoore1/DESI_SGA/TF/Y3/SGA-2020_jura_Vrot.fits')\n",
    "vrot"
   ]
  },
  {
   "cell_type": "code",
   "execution_count": 13,
   "id": "a1ef09d8-182d-41e9-9ed2-e5636cf62df8",
   "metadata": {
    "tags": []
   },
   "outputs": [
    {
     "data": {
      "text/plain": [
       "{113581, 287011, 427429, 548591, 564577, 1012058, 1014724, 1272445, 1385550}"
      ]
     },
     "execution_count": 13,
     "metadata": {},
     "output_type": "execute_result"
    }
   ],
   "source": [
    "problems = set(vrot['SGA_ID']).intersection(set(test['SGA_ID']))\n",
    "problems"
   ]
  },
  {
   "cell_type": "code",
   "execution_count": 30,
   "id": "b35c4075-c671-4c35-8671-9cdeacf178c8",
   "metadata": {},
   "outputs": [],
   "source": [
    "\n",
    "\n",
    "# filtered_entries['MEAN_FIBER_RA'] = np.where(filtered_entries['MEAN_FIBER_RA'] == 0.0, filtered_entries['TARGET_RA'], filtered_entries['MEAN_FIBER_RA'])\n",
    "# filtered_entries['MEAN_FIBER_DEC'] = np.where(filtered_entries['MEAN_FIBER_DEC'] == 0.0, filtered_entries['TARGET_DEC'], filtered_entries['MEAN_FIBER_DEC'])\n",
    "\n",
    "tjura['MEAN_FIBER_RA'] = np.where(tjura['MEAN_FIBER_RA'] == 0.0, tjura['TARGET_RA'], tjura['MEAN_FIBER_RA'])\n",
    "tjura['MEAN_FIBER_DEC'] = np.where(tjura['MEAN_FIBER_DEC'] == 0.0, tjura['TARGET_DEC'], tjura['MEAN_FIBER_DEC'])\n"
   ]
  },
  {
   "cell_type": "code",
   "execution_count": 31,
   "id": "90fcf0d6-2967-4efe-8bc9-c27cd61bc50c",
   "metadata": {
    "tags": []
   },
   "outputs": [
    {
     "name": "stdout",
     "output_type": "stream",
     "text": [
      "<SkyCoord (ICRS): (ra, dec) in deg\n",
      "    [(134.00013295,   5.93455284), ( 61.98171864, -22.82391311),\n",
      "     (156.21815002,   7.15848285), ..., ( 46.7128865 ,  -4.21619977),\n",
      "     ( 47.98148579,  -2.96656277), ( 47.19488692,  -3.28974167)]>\n",
      "<SkyCoord (ICRS): (ra, dec) in deg\n",
      "    [(134.00000124,   5.9344025 ), ( 61.98181576, -22.82411265),\n",
      "     (156.21807676,   7.15862587), ..., ( 46.71283139,  -4.21621324),\n",
      "     ( 47.9814605 ,  -2.96655727), ( 47.1948614 ,  -3.28972666)]>\n"
     ]
    },
    {
     "data": {
      "text/html": [
       "<div><i>Table length=0</i>\n",
       "<table id=\"table140161175039728\" class=\"table-striped table-bordered table-condensed\">\n",
       "<thead><tr><th>TARGETID</th><th>TARGET_RA</th><th>TARGET_DEC</th><th>MEAN_FIBER_RA</th><th>MEAN_FIBER_DEC</th><th>STD_FIBER_RA</th><th>STD_FIBER_DEC</th><th>Z</th><th>ZERR</th><th>SPECTYPE</th><th>DELTACHI2</th><th>ZWARN</th><th>PVTYPE</th><th>SGA_ID</th><th>PHOTSYS</th><th>SKY_FIBER_DIST</th><th>SKY_FIBER_DIST_R26</th></tr></thead>\n",
       "<thead><tr><th>int64</th><th>float64</th><th>float64</th><th>float64</th><th>float64</th><th>float64</th><th>float64</th><th>float64</th><th>float64</th><th>bytes6</th><th>float64</th><th>int64</th><th>bytes3</th><th>int32</th><th>bytes1</th><th>float64</th><th>float64</th></tr></thead>\n",
       "</table></div>"
      ],
      "text/plain": [
       "<Table length=0>\n",
       "TARGETID TARGET_RA TARGET_DEC ... PHOTSYS SKY_FIBER_DIST SKY_FIBER_DIST_R26\n",
       " int64    float64   float64   ...  bytes1    float64          float64      \n",
       "-------- --------- ---------- ... ------- -------------- ------------------"
      ]
     },
     "execution_count": 31,
     "metadata": {},
     "output_type": "execute_result"
    }
   ],
   "source": [
    "coords1 = SkyCoord(ra=tjura['TARGET_RA']*u.deg, dec=tjura['TARGET_DEC']*u.deg)\n",
    "coords2 = SkyCoord(ra=tjura['MEAN_FIBER_RA']*u.deg, dec=tjura['MEAN_FIBER_DEC']*u.deg)\n",
    "\n",
    "print(coords1)\n",
    "print(coords2)\n",
    "\n",
    "# Calculate angular separation between the points\n",
    "separations = coords1.separation(coords2)\n",
    "\n",
    "gut_check = tjura[separations > 100*u.deg]\n",
    "gut_check"
   ]
  },
  {
   "cell_type": "code",
   "execution_count": 32,
   "id": "78ee5a8f-d038-4f4e-9fc6-45d68766a873",
   "metadata": {
    "tags": []
   },
   "outputs": [
    {
     "data": {
      "text/html": [
       "<div><i>Table length=235167</i>\n",
       "<table id=\"table140160310098000\" class=\"table-striped table-bordered table-condensed\">\n",
       "<thead><tr><th>TARGETID</th><th>TARGET_RA</th><th>TARGET_DEC</th><th>MEAN_FIBER_RA</th><th>MEAN_FIBER_DEC</th><th>STD_FIBER_RA</th><th>STD_FIBER_DEC</th><th>Z</th><th>ZERR</th><th>SPECTYPE</th><th>DELTACHI2</th><th>ZWARN</th><th>PVTYPE</th><th>SGA_ID</th><th>PHOTSYS</th><th>SKY_FIBER_DIST</th><th>SKY_FIBER_DIST_R26</th></tr></thead>\n",
       "<thead><tr><th>int64</th><th>float64</th><th>float64</th><th>float64</th><th>float64</th><th>float64</th><th>float64</th><th>float64</th><th>float64</th><th>bytes6</th><th>float64</th><th>int64</th><th>bytes3</th><th>int32</th><th>bytes1</th><th>float64</th><th>float64</th></tr></thead>\n",
       "<tr><td>-430502046</td><td>134.00013295228783</td><td>5.934552839997555</td><td>134.0000012447711</td><td>5.934402495943119</td><td>0.0</td><td>0.0</td><td>1.5211813094599733</td><td>9.536633276548175e-05</td><td>GALAXY</td><td>21.043927863240242</td><td>2049</td><td>TFT</td><td>838970</td><td>S</td><td>0.0</td><td>0.0</td></tr>\n",
       "<tr><td>-427872363</td><td>61.981718642816155</td><td>-22.823913110732356</td><td>61.981815755036905</td><td>-22.824112647850505</td><td>0.01692960597574711</td><td>0.01899055577814579</td><td>0.049085960824979194</td><td>8.765385426009584e-06</td><td>GALAXY</td><td>320.327581204474</td><td>2049</td><td>TFT</td><td>982213</td><td>S</td><td>0.0</td><td>0.0</td></tr>\n",
       "<tr><td>-411444222</td><td>156.2181500220905</td><td>7.1584828480845655</td><td>156.21807676457115</td><td>7.1586258676041306</td><td>0.0</td><td>0.0</td><td>0.7655265334224575</td><td>0.00014819907104570706</td><td>GALAXY</td><td>2.862433671951294</td><td>2053</td><td>TFT</td><td>4614</td><td>S</td><td>0.0</td><td>0.0</td></tr>\n",
       "<tr><td>-261707523</td><td>51.18809619857989</td><td>-15.380001206793725</td><td>51.18805131712048</td><td>-15.379972719695512</td><td>0.18443052470684052</td><td>0.270201712846756</td><td>0.11706841864860068</td><td>1.263477560383397e-05</td><td>GALAXY</td><td>5022.345633155666</td><td>512</td><td>SGA</td><td>788458</td><td>S</td><td>0.0</td><td>0.0</td></tr>\n",
       "<tr><td>-260779407</td><td>138.32747528464944</td><td>17.5639019859795</td><td>138.32760054746495</td><td>17.56391743552376</td><td>0.0</td><td>0.0</td><td>0.08569271543378945</td><td>9.438671035622181e-06</td><td>GALAXY</td><td>243.51359286904335</td><td>2560</td><td>TFT</td><td>735997</td><td>S</td><td>0.0</td><td>0.0</td></tr>\n",
       "<tr><td>-256075243</td><td>267.7127650902238</td><td>29.4851124724098</td><td>267.7127035487433</td><td>29.485378196733514</td><td>0.0</td><td>0.0</td><td>0.024938748634094107</td><td>2.4256075629217488e-05</td><td>GALAXY</td><td>1541.527919426706</td><td>2560</td><td>SGA</td><td>447725</td><td>S</td><td>0.0</td><td>0.0</td></tr>\n",
       "<tr><td>-255779143</td><td>324.7514856412927</td><td>-14.285073192391051</td><td>324.75157640573354</td><td>-14.285173696560276</td><td>0.0</td><td>0.0</td><td>0.06222014597085957</td><td>1.2531392899106468e-05</td><td>GALAXY</td><td>13019.724023681134</td><td>2560</td><td>SGA</td><td>344696</td><td>S</td><td>0.0</td><td>0.0</td></tr>\n",
       "<tr><td>-255474428</td><td>318.1164926597467</td><td>-5.284018993812088</td><td>318.1164721848627</td><td>-5.284046207257645</td><td>0.0</td><td>0.0</td><td>0.048956092264502225</td><td>7.806082205296064e-05</td><td>GALAXY</td><td>65.2918488328578</td><td>512</td><td>TFT</td><td>342501</td><td>S</td><td>0.0</td><td>0.0</td></tr>\n",
       "<tr><td>-253178294</td><td>171.33824183216043</td><td>53.64134341804524</td><td>171.33828946114534</td><td>53.64163818459112</td><td>0.0</td><td>0.0</td><td>0.033601461542572625</td><td>3.5901373601923224e-06</td><td>GALAXY</td><td>2593.072873726487</td><td>2560</td><td>TFT</td><td>32805</td><td>N</td><td>0.0</td><td>0.0</td></tr>\n",
       "<tr><td>-251109429</td><td>258.6266517495842</td><td>23.05966030445974</td><td>258.62675293179245</td><td>23.05957590980715</td><td>0.0</td><td>0.0</td><td>0.029007802739259413</td><td>3.1032198040959024e-06</td><td>GALAXY</td><td>13170.72806224291</td><td>2560</td><td>TFT</td><td>611168</td><td>S</td><td>0.0</td><td>0.0</td></tr>\n",
       "<tr><td>...</td><td>...</td><td>...</td><td>...</td><td>...</td><td>...</td><td>...</td><td>...</td><td>...</td><td>...</td><td>...</td><td>...</td><td>...</td><td>...</td><td>...</td><td>...</td><td>...</td></tr>\n",
       "<tr><td>2305843047637716361</td><td>44.04122946904737</td><td>-13.687843141230235</td><td>44.04120306536794</td><td>-13.687825266642273</td><td>0.16555888950824738</td><td>0.04209356755018234</td><td>0.023153309547441176</td><td>1.8641581089456068e-06</td><td>GALAXY</td><td>76186.79590055346</td><td>0</td><td>SGA</td><td>164187</td><td>S</td><td>0.0</td><td>0.0</td></tr>\n",
       "<tr><td>2305843047759352169</td><td>41.118246500576845</td><td>-9.622949309572391</td><td>41.11822782133538</td><td>-9.622952766831295</td><td>0.0</td><td>0.0</td><td>0.05704599509411568</td><td>5.22096757188456e-07</td><td>GALAXY</td><td>305751.5006828308</td><td>0</td><td>SGA</td><td>1068799</td><td>S</td><td>0.0</td><td>0.0</td></tr>\n",
       "<tr><td>2305843047776127933</td><td>34.170494613407485</td><td>-9.669387555071735</td><td>34.17049713360427</td><td>-9.669393263678524</td><td>0.001486578956246376</td><td>0.021029362455010414</td><td>0.0728203469400367</td><td>1.802500114440122e-06</td><td>GALAXY</td><td>70700.05493998528</td><td>0</td><td>SGA</td><td>914184</td><td>S</td><td>0.0</td><td>0.0</td></tr>\n",
       "<tr><td>2305843047792906496</td><td>37.51563024457585</td><td>-6.661295926001229</td><td>37.5156384578836</td><td>-6.661281562234639</td><td>0.006925496272742748</td><td>0.03767019137740135</td><td>0.047604842654665705</td><td>1.9829872488416394e-05</td><td>GALAXY</td><td>6132.722443480976</td><td>0</td><td>SGA</td><td>521429</td><td>S</td><td>0.0</td><td>0.0</td></tr>\n",
       "<tr><td>2305843047797103022</td><td>39.63633727856865</td><td>-6.677390171429402</td><td>39.63635847582003</td><td>-6.6773848879734325</td><td>0.0</td><td>0.0</td><td>0.00481652742047178</td><td>7.686585047777273e-07</td><td>GALAXY</td><td>183713.0446980819</td><td>0</td><td>EXT</td><td>94925</td><td>S</td><td>0.0</td><td>0.0</td></tr>\n",
       "<tr><td>2305843047813881178</td><td>44.750642525554106</td><td>-6.760521039692063</td><td>44.75066448324935</td><td>-6.760512015057372</td><td>0.0</td><td>0.0</td><td>0.029534172649832425</td><td>6.3090027439020956e-06</td><td>GALAXY</td><td>16509.064525023452</td><td>0</td><td>SGA</td><td>820032</td><td>S</td><td>0.0</td><td>0.0</td></tr>\n",
       "<tr><td>2305843047826461431</td><td>46.95095915260215</td><td>-4.262505743939569</td><td>46.950941134216635</td><td>-4.2625481456843435</td><td>0.0</td><td>0.0</td><td>0.0308842912619699</td><td>1.3233453037549412e-05</td><td>GALAXY</td><td>7363.5002101892605</td><td>0</td><td>SGA</td><td>222852</td><td>S</td><td>0.0</td><td>0.0</td></tr>\n",
       "<tr><td>2305843047826464963</td><td>46.71288649883268</td><td>-4.216199771395608</td><td>46.71283138923917</td><td>-4.21621323740598</td><td>0.0</td><td>0.0</td><td>0.03734037901046477</td><td>1.728081366913408e-05</td><td>GALAXY</td><td>5206.494989469134</td><td>0</td><td>SGA</td><td>794417</td><td>S</td><td>0.0</td><td>0.0</td></tr>\n",
       "<tr><td>2305843047830657327</td><td>47.981485787647266</td><td>-2.966562765936295</td><td>47.9814605004658</td><td>-2.966557271328591</td><td>0.0</td><td>0.0</td><td>0.028706919146645</td><td>4.07980824249545e-06</td><td>GALAXY</td><td>9530.491675913101</td><td>0</td><td>SGA</td><td>1030509</td><td>S</td><td>0.0</td><td>0.0</td></tr>\n",
       "<tr><td>2305843047830657392</td><td>47.19488692019924</td><td>-3.289741669968118</td><td>47.19486140272409</td><td>-3.289726663254201</td><td>0.0</td><td>0.0</td><td>0.028644934303112195</td><td>3.888272408241883e-06</td><td>GALAXY</td><td>26521.717114321887</td><td>0</td><td>SGA</td><td>597645</td><td>S</td><td>0.0</td><td>0.0</td></tr>\n",
       "</table></div>"
      ],
      "text/plain": [
       "<Table length=235167>\n",
       "      TARGETID          TARGET_RA      ... SKY_FIBER_DIST SKY_FIBER_DIST_R26\n",
       "       int64             float64       ...    float64          float64      \n",
       "------------------- ------------------ ... -------------- ------------------\n",
       "         -430502046 134.00013295228783 ...            0.0                0.0\n",
       "         -427872363 61.981718642816155 ...            0.0                0.0\n",
       "         -411444222  156.2181500220905 ...            0.0                0.0\n",
       "         -261707523  51.18809619857989 ...            0.0                0.0\n",
       "         -260779407 138.32747528464944 ...            0.0                0.0\n",
       "         -256075243  267.7127650902238 ...            0.0                0.0\n",
       "         -255779143  324.7514856412927 ...            0.0                0.0\n",
       "         -255474428  318.1164926597467 ...            0.0                0.0\n",
       "         -253178294 171.33824183216043 ...            0.0                0.0\n",
       "         -251109429  258.6266517495842 ...            0.0                0.0\n",
       "                ...                ... ...            ...                ...\n",
       "2305843047637716361  44.04122946904737 ...            0.0                0.0\n",
       "2305843047759352169 41.118246500576845 ...            0.0                0.0\n",
       "2305843047776127933 34.170494613407485 ...            0.0                0.0\n",
       "2305843047792906496  37.51563024457585 ...            0.0                0.0\n",
       "2305843047797103022  39.63633727856865 ...            0.0                0.0\n",
       "2305843047813881178 44.750642525554106 ...            0.0                0.0\n",
       "2305843047826461431  46.95095915260215 ...            0.0                0.0\n",
       "2305843047826464963  46.71288649883268 ...            0.0                0.0\n",
       "2305843047830657327 47.981485787647266 ...            0.0                0.0\n",
       "2305843047830657392  47.19488692019924 ...            0.0                0.0"
      ]
     },
     "execution_count": 32,
     "metadata": {},
     "output_type": "execute_result"
    }
   ],
   "source": [
    "tjura"
   ]
  },
  {
   "cell_type": "code",
   "execution_count": 35,
   "id": "60756837-3dbc-4f40-be36-a038bbbd0efb",
   "metadata": {
    "tags": []
   },
   "outputs": [],
   "source": [
    "tjura.write('/global/homes/s/sgmoore1/DESI_SGA/TF/Y3/desi_pv_tf_jura_healpix.fits', overwrite=True)"
   ]
  },
  {
   "cell_type": "code",
   "execution_count": null,
   "id": "8576cf2b-f3c1-425c-9c39-923a9f0b0f90",
   "metadata": {},
   "outputs": [],
   "source": []
  }
 ],
 "metadata": {
  "kernelspec": {
   "display_name": "DESI main",
   "language": "python",
   "name": "desi-main"
  },
  "language_info": {
   "codemirror_mode": {
    "name": "ipython",
    "version": 3
   },
   "file_extension": ".py",
   "mimetype": "text/x-python",
   "name": "python",
   "nbconvert_exporter": "python",
   "pygments_lexer": "ipython3",
   "version": "3.10.14"
  }
 },
 "nbformat": 4,
 "nbformat_minor": 5
}
