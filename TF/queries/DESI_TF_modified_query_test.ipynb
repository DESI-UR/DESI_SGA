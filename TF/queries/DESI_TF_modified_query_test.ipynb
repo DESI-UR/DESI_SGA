{
 "cells": [
  {
   "cell_type": "code",
   "execution_count": 1,
   "id": "5a59258e-f04d-4ce3-9a65-585243ad75bf",
   "metadata": {
    "tags": []
   },
   "outputs": [],
   "source": [
    "import os\n",
    "import psycopg2\n",
    "\n",
    "from astropy import units as u\n",
    "from astropy.table import Table, join, unique, vstack\n",
    "from astropy.coordinates import SkyCoord, match_coordinates_sky, search_around_sky\n",
    "\n",
    "from desitarget.targets import decode_targetid, encode_targetid, resolve\n",
    "from desitarget.io import releasedict, release_to_photsys\n",
    "\n",
    "from tqdm.notebook import tqdm_notebook\n",
    "\n",
    "import numpy as np\n",
    "import matplotlib as mpl\n",
    "import matplotlib.pyplot as plt\n",
    "\n",
    "\n",
    "from astropy.table import Table, vstack, hstack\n",
    "\n",
    "import psycopg2\n",
    "\n",
    "from tqdm.notebook import tqdm_notebook\n",
    "\n",
    "import time\n"
   ]
  },
  {
   "cell_type": "code",
   "execution_count": 2,
   "id": "3fd60749-8ba6-4081-85b9-a53c13bfc203",
   "metadata": {
    "tags": []
   },
   "outputs": [
    {
     "data": {
      "text/html": [
       "<div><i>Table length=99102</i>\n",
       "<table id=\"table140467722592432\" class=\"table-striped table-bordered table-condensed\">\n",
       "<thead><tr><th>TARGETID</th><th>TARGET_RA</th><th>TARGET_DEC</th><th>HEALPIX</th><th>SURVEY</th><th>Z</th><th>ZERR</th><th>ZWARN</th><th>DELTACHI2</th><th>FILENAME</th><th>PVTYPE</th><th>SGA_ID</th><th>RA</th><th>DEC</th></tr></thead>\n",
       "<thead><tr><th>int64</th><th>float64</th><th>float64</th><th>int64</th><th>bytes4</th><th>float64</th><th>float64</th><th>int64</th><th>float64</th><th>bytes65</th><th>bytes3</th><th>int64</th><th>float64</th><th>float64</th></tr></thead>\n",
       "<tr><td>2852147603439621</td><td>198.369130660983</td><td>36.5372037049171</td><td>10475</td><td>main</td><td>0.815976335547845</td><td>7.38513168100107e-05</td><td>4</td><td>0.128754377365112</td><td>iron/healpix/main/dark/104/10475/redrock-main-dark-10475.fits</td><td>EXT</td><td>649377</td><td>198.36913066098333</td><td>36.537203704917076</td></tr>\n",
       "<tr><td>2399148812795907</td><td>198.371733180003</td><td>36.4994335406917</td><td>10475</td><td>main</td><td>1.11088784970434</td><td>7.48767797671894e-05</td><td>4</td><td>7.9473560154438</td><td>iron/healpix/main/bright/104/10475/redrock-main-bright-10475.fits</td><td>EXT</td><td>649377</td><td>198.37173318000336</td><td>36.499433540691676</td></tr>\n",
       "<tr><td>2399382443917318</td><td>184.845242475328</td><td>49.8157304793777</td><td>10995</td><td>main</td><td>1.14739342108157</td><td>0.000146302276719084</td><td>4</td><td>2.56771463155746</td><td>iron/healpix/main/bright/109/10995/redrock-main-bright-10995.fits</td><td>EXT</td><td>1008911</td><td>184.84524247532795</td><td>49.81573047937771</td></tr>\n",
       "<tr><td>2399634072797192</td><td>184.341289722203</td><td>70.8283725474297</td><td>11965</td><td>main</td><td>1.51703376230705</td><td>6.28979649962091e-05</td><td>4</td><td>4.76254060305655</td><td>iron/healpix/main/bright/119/11965/redrock-main-bright-11965.fits</td><td>EXT</td><td>241234</td><td>184.34128972220284</td><td>70.82837254742968</td></tr>\n",
       "<tr><td>2852141710442505</td><td>123.256011148025</td><td>36.2652948002806</td><td>6448</td><td>main</td><td>0.00787379494184006</td><td>3.4714052819995e-05</td><td>0</td><td>22.1719104201402</td><td>iron/healpix/main/dark/64/6448/redrock-main-dark-6448.fits</td><td>EXT</td><td>31591</td><td>123.25601114802525</td><td>36.26529480028061</td></tr>\n",
       "<tr><td>2412337059332105</td><td>123.256011148025</td><td>36.2652948002806</td><td>6448</td><td>main</td><td>0.0799478243014975</td><td>3.26415764231537e-05</td><td>4</td><td>1.08863945491612</td><td>iron/healpix/main/dark/64/6448/redrock-main-dark-6448.fits</td><td>EXT</td><td>31591</td><td>123.25601114802525</td><td>36.26529480028061</td></tr>\n",
       "<tr><td>2852141710442501</td><td>123.270569418049</td><td>36.2759891261316</td><td>6448</td><td>main</td><td>0.125814897161802</td><td>5.25734210595906e-05</td><td>4</td><td>4.58732237294316</td><td>iron/healpix/main/dark/64/6448/redrock-main-dark-6448.fits</td><td>EXT</td><td>31591</td><td>123.2705694180487</td><td>36.27598912613165</td></tr>\n",
       "<tr><td>2852189789749253</td><td>124.454417230594</td><td>38.7904829812355</td><td>6454</td><td>main</td><td>0.0209014343963839</td><td>8.37593315854385e-06</td><td>0</td><td>921.681470951618</td><td>iron/healpix/main/dark/64/6454/redrock-main-dark-6454.fits</td><td>EXT</td><td>1075147</td><td>124.45441723059355</td><td>38.79048298123546</td></tr>\n",
       "<tr><td>2412690689490952</td><td>122.179783442643</td><td>57.7556637029528</td><td>7696</td><td>main</td><td>1.67700904770652</td><td>0.000194559932487755</td><td>0</td><td>10.886064812541</td><td>iron/healpix/main/dark/76/7696/redrock-main-dark-7696.fits</td><td>EXT</td><td>532264</td><td>122.17978344264326</td><td>57.75566370295283</td></tr>\n",
       "<tr><td>2399503000797189</td><td>123.909747510568</td><td>58.3224265203376</td><td>7355</td><td>main</td><td>0.327343975745908</td><td>0.000118736717146286</td><td>4</td><td>2.73333390709013</td><td>iron/healpix/main/bright/73/7355/redrock-main-bright-7355.fits</td><td>EXT</td><td>591851</td><td>123.9097475105679</td><td>58.32242652033756</td></tr>\n",
       "<tr><td>...</td><td>...</td><td>...</td><td>...</td><td>...</td><td>...</td><td>...</td><td>...</td><td>...</td><td>...</td><td>...</td><td>...</td><td>...</td><td>...</td></tr>\n",
       "<tr><td>39628187688241578</td><td>220.052905660042</td><td>16.754533553194</td><td>8774</td><td>main</td><td>0.108009873160349</td><td>1.54177922225668e-05</td><td>0</td><td>3526.91658753948</td><td>iron/healpix/main/bright/87/8774/redrock-main-bright-8774.fits</td><td>TFT</td><td>570959</td><td>220.0529056600419</td><td>16.75453355319404</td></tr>\n",
       "<tr><td>39628187688242044</td><td>220.081360191205</td><td>16.6850749333024</td><td>8774</td><td>main</td><td>0.0299244765955022</td><td>9.9739919522185e-06</td><td>0</td><td>7140.4656449405</td><td>iron/healpix/main/bright/87/8774/redrock-main-bright-8774.fits</td><td>TFT</td><td>1195293</td><td>220.0813601912045</td><td>16.685074933302445</td></tr>\n",
       "<tr><td>2305843018059485624</td><td>225.721731990074</td><td>16.9189852151273</td><td>8438</td><td>main</td><td>0.020929269419286</td><td>1.13433813225525e-06</td><td>0</td><td>134912.593574345</td><td>iron/healpix/main/backup/84/8438/redrock-main-backup-8438.fits</td><td>TFT</td><td>1076749</td><td>225.72172474649994</td><td>16.91891853503617</td></tr>\n",
       "<tr><td>2389904755523585</td><td>225.798638692554</td><td>15.7339352302678</td><td>8433</td><td>main</td><td>0.0676989828794467</td><td>2.45867058812062e-05</td><td>0</td><td>63.0506574362516</td><td>iron/healpix/main/bright/84/8433/redrock-main-bright-8433.fits</td><td>TFT</td><td>1352861</td><td>225.79863869255362</td><td>15.733935230267768</td></tr>\n",
       "<tr><td>39628147070601523</td><td>225.915599270569</td><td>15.0247654433451</td><td>8411</td><td>main</td><td>0.0361115946387217</td><td>3.18654510560542e-06</td><td>0</td><td>6022.86883181334</td><td>iron/healpix/main/bright/84/8411/redrock-main-bright-8411.fits</td><td>TFT</td><td>1029028</td><td>225.9155992705694</td><td>15.024765443345105</td></tr>\n",
       "<tr><td>39628250946732115</td><td>221.561567031637</td><td>19.4056542670243</td><td>8793</td><td>main</td><td>0.044197315010704</td><td>2.95695794671446e-06</td><td>0</td><td>2748.32202285528</td><td>iron/healpix/main/bright/87/8793/redrock-main-bright-8793.fits</td><td>TFT</td><td>838075</td><td>221.56156703163722</td><td>19.405654267024318</td></tr>\n",
       "<tr><td>39628250946732191</td><td>221.565256838818</td><td>19.5999273620398</td><td>8793</td><td>main</td><td>0.0681245462105783</td><td>1.97949355515174e-05</td><td>0</td><td>3418.83049730305</td><td>iron/healpix/main/bright/87/8793/redrock-main-bright-8793.fits</td><td>TFT</td><td>282197</td><td>221.5652568388181</td><td>19.599927362039846</td></tr>\n",
       "<tr><td>39628233800418916</td><td>221.733042028194</td><td>18.6492849905645</td><td>8787</td><td>main</td><td>0.0661453340989506</td><td>6.74978482396179e-06</td><td>0</td><td>3467.61512088776</td><td>iron/healpix/main/bright/87/8787/redrock-main-bright-8787.fits</td><td>TFT</td><td>1355700</td><td>221.73304202819352</td><td>18.649284990564517</td></tr>\n",
       "<tr><td>2389991133020160</td><td>221.323873257724</td><td>19.5277674101711</td><td>8793</td><td>main</td><td>0.0423148908835728</td><td>1.74623100467569e-05</td><td>0</td><td>70.2367960708216</td><td>iron/healpix/main/bright/87/8793/redrock-main-bright-8793.fits</td><td>TFT</td><td>909688</td><td>221.32387325772353</td><td>19.527767410171087</td></tr>\n",
       "<tr><td>39628239521451304</td><td>221.634605747086</td><td>19.112287528364</td><td>8793</td><td>main</td><td>0.0700745078294578</td><td>2.02944346254686e-05</td><td>0</td><td>2984.49141149549</td><td>iron/healpix/main/bright/87/8793/redrock-main-bright-8793.fits</td><td>TFT</td><td>1172051</td><td>221.63460574708606</td><td>19.112287528364</td></tr>\n",
       "</table></div>"
      ],
      "text/plain": [
       "<Table length=99102>\n",
       "      TARGETID         TARGET_RA     ...         RA                DEC        \n",
       "       int64            float64      ...      float64            float64      \n",
       "------------------- ---------------- ... ------------------ ------------------\n",
       "   2852147603439621 198.369130660983 ... 198.36913066098333 36.537203704917076\n",
       "   2399148812795907 198.371733180003 ... 198.37173318000336 36.499433540691676\n",
       "   2399382443917318 184.845242475328 ... 184.84524247532795  49.81573047937771\n",
       "   2399634072797192 184.341289722203 ... 184.34128972220284  70.82837254742968\n",
       "   2852141710442505 123.256011148025 ... 123.25601114802525  36.26529480028061\n",
       "   2412337059332105 123.256011148025 ... 123.25601114802525  36.26529480028061\n",
       "   2852141710442501 123.270569418049 ...  123.2705694180487  36.27598912613165\n",
       "   2852189789749253 124.454417230594 ... 124.45441723059355  38.79048298123546\n",
       "   2412690689490952 122.179783442643 ... 122.17978344264326  57.75566370295283\n",
       "   2399503000797189 123.909747510568 ...  123.9097475105679  58.32242652033756\n",
       "                ...              ... ...                ...                ...\n",
       "  39628187688241578 220.052905660042 ...  220.0529056600419  16.75453355319404\n",
       "  39628187688242044 220.081360191205 ...  220.0813601912045 16.685074933302445\n",
       "2305843018059485624 225.721731990074 ... 225.72172474649994  16.91891853503617\n",
       "   2389904755523585 225.798638692554 ... 225.79863869255362 15.733935230267768\n",
       "  39628147070601523 225.915599270569 ...  225.9155992705694 15.024765443345105\n",
       "  39628250946732115 221.561567031637 ... 221.56156703163722 19.405654267024318\n",
       "  39628250946732191 221.565256838818 ...  221.5652568388181 19.599927362039846\n",
       "  39628233800418916 221.733042028194 ... 221.73304202819352 18.649284990564517\n",
       "   2389991133020160 221.323873257724 ... 221.32387325772353 19.527767410171087\n",
       "  39628239521451304 221.634605747086 ... 221.63460574708606    19.112287528364"
      ]
     },
     "execution_count": 2,
     "metadata": {},
     "output_type": "execute_result"
    }
   ],
   "source": [
    "tiron = Table.read('/global/cfs/projectdirs/desi/science/td/pv/tfgalaxies/desi_pv_tf_iron_healpix.fits')\n",
    "tiron"
   ]
  },
  {
   "cell_type": "code",
   "execution_count": 2,
   "id": "7b68ff83-6a35-49dd-a218-aa626d443950",
   "metadata": {
    "tags": []
   },
   "outputs": [],
   "source": [
    "#Remove the condition that targetid>0 because there are a few entries in the iron table that had a targetid<0.\n",
    "\n",
    "def get_tf_targets_modified(redux, use_cached=False, verbose=False):\n",
    "    \"\"\"Get TF targets from the DESI observations DB for a given spectroscopic reduction.\n",
    "    \n",
    "    Parameters\n",
    "    ----------\n",
    "    redux : str\n",
    "        Spectroscopic reduction. E.g., 'everest', 'fuji', ...\n",
    "    use_cached : bool\n",
    "        Use cached data rather than re-running the query.\n",
    "    \n",
    "    Returns\n",
    "    -------\n",
    "    \n",
    "    tf_targets : Table\n",
    "        Table of Tully-Fisher observations.\n",
    "    \"\"\"\n",
    "    tf_targets = None\n",
    "\n",
    "    if os.path.exists(f'tf_targets_{redux}.fits') and use_cached:\n",
    "        tf_targets = Table.read('cache/tf_targets_{redux}.fits')\n",
    "    else:\n",
    "        try:\n",
    "            db = psycopg2.connect(host='decatdb.lbl.gov', database='desidb', user='desi', password='')\n",
    "            cursor = db.cursor()\n",
    "\n",
    "            query = f\"\"\"SELECT rdx.targetid, rdx.target_ra, rdx.target_dec, zd.z, zd.zerr, zd.spectype, zd.deltachi2, zd.zwarn, pv.pvtype, pv.sga_id\n",
    "                   FROM {redux}.healpix_fibermap as rdx, static.pv as pv, {redux}.healpix_redshifts as zd\n",
    "                   WHERE q3c_join(rdx.target_ra, rdx.target_dec, pv.ra, pv.dec, 1./3600.) \n",
    "                         AND zd.targetid = rdx.targetid;\"\"\"\n",
    "                         # AND pv.sga_id IS NOT NULL AND (pv.pvtype LIKE 'TFT' or pv.pvtype LIKE 'EXT' or pv.pvtype LIKE 'SGA');\"\"\"\n",
    "            \n",
    "            if verbose:\n",
    "                print(query)\n",
    "\n",
    "            cursor.execute(query)\n",
    "            rows = cursor.fetchall()\n",
    "            tf_targets = Table(list(map(list, zip(*rows))),\n",
    "                               names=['TARGETID', 'TARGET_RA', 'TARGET_DEC', 'Z', 'ZERR', 'SPECTYPE', 'DELTACHI2', 'ZWARN', 'PVTYPE', 'SGA_ID'])\n",
    "\n",
    "            #- Select only targets with SGA IDs and PV types matching SGA, EXT, and TFT\n",
    "            select = (tf_targets['SGA_ID'] != None) & \\\n",
    "                     ((tf_targets['PVTYPE'] == 'TFT') | \\\n",
    "                      (tf_targets['PVTYPE'] == 'EXT') | \\\n",
    "                      (tf_targets['PVTYPE'] == 'SGA'))\n",
    "            tf_targets = tf_targets[select]\n",
    "\n",
    "            #- Use TARGETID to extract the photometric system used during targeting\n",
    "            _, _, releases, _, _, _ = decode_targetid(tf_targets['TARGETID'].value)\n",
    "\n",
    "            photsys = []\n",
    "            for i, release in enumerate(releases):\n",
    "                ps = None\n",
    "\n",
    "                if release in releasedict:\n",
    "                    ps = release_to_photsys([release])[0].decode('utf-8')\n",
    "                else:\n",
    "                    #- Fall-through case: not all SGA center observations are in the main survey.\n",
    "                    #  In this case, select 'N' or 'S' based on the SGA object's position.\n",
    "                    ra  = tf_targets['TARGET_RA'][i]\n",
    "                    dec = tf_targets['TARGET_DEC'][i]\n",
    "                    c = SkyCoord(ra=ra, dec=dec, unit='degree')\n",
    "\n",
    "                    #- N: in galactic northern hemisphere and with dec > 32.375. Else, S.\n",
    "                    isnorth = (c.galactic.b > 0) & (dec > 32.375)\n",
    "                    ps = 'N' if isnorth else 'S'\n",
    "\n",
    "                photsys.append(ps)\n",
    "\n",
    "            #- Complain if the photsys table doesn't match the size of the Vrot table.\n",
    "            if len(photsys) != len(tf_targets):\n",
    "                print(f'photsys array of len {len(photsys)} != targets array of len {len(tf_targets)}')\n",
    "\n",
    "            tf_targets['PHOTSYS'] = photsys\n",
    "\n",
    "            # tf_targets.write(f'cache/tf_targets_{redux}.fits', overwrite=True)\n",
    "\n",
    "        except Exception as error:\n",
    "            print(error)\n",
    "        finally:\n",
    "            if db is not None:\n",
    "                db.close()\n",
    "\n",
    "    return tf_targets"
   ]
  },
  {
   "cell_type": "code",
   "execution_count": null,
   "id": "44b4870d-4fe4-43ca-a835-a32a5c59e990",
   "metadata": {},
   "outputs": [],
   "source": [
    "iron = get_tf_targets_modified('iron', verbose=True)\n",
    "iron"
   ]
  },
  {
   "cell_type": "code",
   "execution_count": null,
   "id": "c0b8020d-e0e9-4c7c-bb18-fefa2850ab17",
   "metadata": {},
   "outputs": [],
   "source": [
    "#Fix the fact that for some reason the SGA_ID column was doing weird stuff and not letting me save the table, and then save the table\n",
    "iron['SGA_ID'] = [str(item) for item in iron['SGA_ID']]\n",
    "iron.write('test_iron2.fits', overwrite=True)"
   ]
  },
  {
   "cell_type": "code",
   "execution_count": 4,
   "id": "0487b43f-afd9-49b5-a843-fa8043a3c0f7",
   "metadata": {
    "tags": []
   },
   "outputs": [
    {
     "data": {
      "text/html": [
       "<div><i>Table length=104074</i>\n",
       "<table id=\"table140633646234208\" class=\"table-striped table-bordered table-condensed\">\n",
       "<thead><tr><th>TARGETID</th><th>TARGET_RA</th><th>TARGET_DEC</th><th>Z</th><th>ZERR</th><th>SPECTYPE</th><th>DELTACHI2</th><th>ZWARN</th><th>PVTYPE</th><th>SGA_ID</th><th>PHOTSYS</th></tr></thead>\n",
       "<thead><tr><th>int64</th><th>float64</th><th>float64</th><th>float64</th><th>float64</th><th>bytes6</th><th>float64</th><th>int64</th><th>bytes3</th><th>bytes7</th><th>bytes1</th></tr></thead>\n",
       "<tr><td>-411444222</td><td>156.2181500220905</td><td>7.1584828480845655</td><td>0.1024816376852125</td><td>9.091035224678232e-05</td><td>GALAXY</td><td>0.046789859188720584</td><td>2053</td><td>TFT</td><td>4614</td><td>S</td></tr>\n",
       "<tr><td>-256075243</td><td>267.7127650902238</td><td>29.4851124724098</td><td>0.024937613795555466</td><td>2.443082948450574e-05</td><td>GALAXY</td><td>1544.5199036816193</td><td>2560</td><td>SGA</td><td>447725</td><td>S</td></tr>\n",
       "<tr><td>-255474428</td><td>318.1164926597467</td><td>-5.284018993812088</td><td>0.04895363299977777</td><td>7.857217657641379e-05</td><td>GALAXY</td><td>67.71628514182521</td><td>512</td><td>TFT</td><td>342501</td><td>S</td></tr>\n",
       "<tr><td>-239472210</td><td>323.5029072575962</td><td>2.5962361580108633</td><td>0.05705457943374285</td><td>2.4737644271185894e-05</td><td>GALAXY</td><td>36.335152571089566</td><td>2560</td><td>TFT</td><td>1245160</td><td>S</td></tr>\n",
       "<tr><td>-236269010</td><td>159.44155130148636</td><td>11.81644015613326</td><td>0.053693794815231316</td><td>2.0054150033577103e-06</td><td>GALAXY</td><td>17253.95412647724</td><td>2560</td><td>SGA</td><td>112426</td><td>S</td></tr>\n",
       "<tr><td>-220511122</td><td>158.60935975565818</td><td>4.101297858301211</td><td>0.14424105964001674</td><td>2.3386872353021118e-05</td><td>GALAXY</td><td>100.71361944824457</td><td>2560</td><td>TFT</td><td>1285714</td><td>S</td></tr>\n",
       "<tr><td>-215282046</td><td>135.38170916974107</td><td>2.899429822113334</td><td>0.0706704079002097</td><td>9.790452524988413e-06</td><td>GALAXY</td><td>552.1510838589165</td><td>2560</td><td>TFT</td><td>730406</td><td>S</td></tr>\n",
       "<tr><td>-215264164</td><td>139.65430579472775</td><td>0.3272206295408149</td><td>0.16939400371460273</td><td>1.6665502506260876e-05</td><td>GALAXY</td><td>1103.0728027746081</td><td>2560</td><td>SGA</td><td>460051</td><td>S</td></tr>\n",
       "<tr><td>-211637396</td><td>214.40836786160398</td><td>38.16543192183721</td><td>0.09247420765298109</td><td>8.226175105351364e-06</td><td>GALAXY</td><td>587.4189228154719</td><td>2560</td><td>TFT</td><td>908460</td><td>N</td></tr>\n",
       "<tr><td>-205733115</td><td>193.87126208164</td><td>-7.797971929442544</td><td>0.013093419338286685</td><td>7.450836365408793e-05</td><td>GALAXY</td><td>83.90202052048426</td><td>512</td><td>EXT</td><td>1232665</td><td>S</td></tr>\n",
       "<tr><td>...</td><td>...</td><td>...</td><td>...</td><td>...</td><td>...</td><td>...</td><td>...</td><td>...</td><td>...</td><td>...</td></tr>\n",
       "<tr><td>2305843039236528742</td><td>181.4577743610095</td><td>35.179417142909216</td><td>0.05378324654978045</td><td>2.810581107846241e-06</td><td>QSO</td><td>135429.2562070489</td><td>0</td><td>SGA</td><td>845637</td><td>N</td></tr>\n",
       "<tr><td>2305843039240720934</td><td>182.6844872232104</td><td>38.33616607806192</td><td>0.02294660020818373</td><td>1.3261861851073598e-06</td><td>GALAXY</td><td>257634.47864568233</td><td>0</td><td>TFT</td><td>303562</td><td>N</td></tr>\n",
       "<tr><td>2305843039249105294</td><td>178.956303374743</td><td>36.21201488148806</td><td>0.06833228101148067</td><td>1.6357849179077153e-05</td><td>GALAXY</td><td>14587.996620958671</td><td>0</td><td>SGA</td><td>307046</td><td>N</td></tr>\n",
       "<tr><td>2305843039249107721</td><td>178.78450492022284</td><td>36.029257262019804</td><td>0.14028182360204075</td><td>1.353816589404395e-05</td><td>QSO</td><td>33269.30801334977</td><td>0</td><td>SGA</td><td>749143</td><td>N</td></tr>\n",
       "<tr><td>2305843040717145248</td><td>312.92310395922635</td><td>0.8598596971835342</td><td>0.10666479906220153</td><td>1.1792357931019521e-05</td><td>QSO</td><td>56518.07348179072</td><td>0</td><td>SGA</td><td>5005128</td><td>S</td></tr>\n",
       "<tr><td>2305843042147377573</td><td>229.42431632783575</td><td>1.361211522756951</td><td>0.05702519209426754</td><td>8.596640103072037e-07</td><td>GALAXY</td><td>789834.7514038086</td><td>0</td><td>SGA</td><td>826758</td><td>S</td></tr>\n",
       "<tr><td>2305843042155806624</td><td>228.99677246471285</td><td>2.289811128143533</td><td>0.10459817672650898</td><td>2.8772061914850933e-05</td><td>GALAXY</td><td>3037.6726562129334</td><td>0</td><td>SGA</td><td>463533</td><td>S</td></tr>\n",
       "<tr><td>2305843042155810360</td><td>230.06568022226665</td><td>2.655078770961978</td><td>0.08335582927146148</td><td>2.2940666417533737e-05</td><td>GALAXY</td><td>4131.58505352959</td><td>0</td><td>SGA</td><td>921404</td><td>S</td></tr>\n",
       "<tr><td>2305843042197714698</td><td>232.1859441303683</td><td>3.5858980398345817</td><td>0.03832092056706872</td><td>1.4815031126478209e-05</td><td>GALAXY</td><td>7224.338487993693</td><td>0</td><td>SGA</td><td>569316</td><td>S</td></tr>\n",
       "<tr><td>2305843043351137689</td><td>268.2085462894215</td><td>25.73214552930346</td><td>1.6519590562845483</td><td>5.124459390835717e-05</td><td>GALAXY</td><td>213.3418583869934</td><td>0</td><td>SGA</td><td>158350</td><td>S</td></tr>\n",
       "</table></div>"
      ],
      "text/plain": [
       "<Table length=104074>\n",
       "      TARGETID          TARGET_RA          TARGET_DEC     ...  SGA_ID PHOTSYS\n",
       "       int64             float64            float64       ...  bytes7  bytes1\n",
       "------------------- ------------------ ------------------ ... ------- -------\n",
       "         -411444222  156.2181500220905 7.1584828480845655 ...    4614       S\n",
       "         -256075243  267.7127650902238   29.4851124724098 ...  447725       S\n",
       "         -255474428  318.1164926597467 -5.284018993812088 ...  342501       S\n",
       "         -239472210  323.5029072575962 2.5962361580108633 ... 1245160       S\n",
       "         -236269010 159.44155130148636  11.81644015613326 ...  112426       S\n",
       "         -220511122 158.60935975565818  4.101297858301211 ... 1285714       S\n",
       "         -215282046 135.38170916974107  2.899429822113334 ...  730406       S\n",
       "         -215264164 139.65430579472775 0.3272206295408149 ...  460051       S\n",
       "         -211637396 214.40836786160398  38.16543192183721 ...  908460       N\n",
       "         -205733115    193.87126208164 -7.797971929442544 ... 1232665       S\n",
       "                ...                ...                ... ...     ...     ...\n",
       "2305843039236528742  181.4577743610095 35.179417142909216 ...  845637       N\n",
       "2305843039240720934  182.6844872232104  38.33616607806192 ...  303562       N\n",
       "2305843039249105294   178.956303374743  36.21201488148806 ...  307046       N\n",
       "2305843039249107721 178.78450492022284 36.029257262019804 ...  749143       N\n",
       "2305843040717145248 312.92310395922635 0.8598596971835342 ... 5005128       S\n",
       "2305843042147377573 229.42431632783575  1.361211522756951 ...  826758       S\n",
       "2305843042155806624 228.99677246471285  2.289811128143533 ...  463533       S\n",
       "2305843042155810360 230.06568022226665  2.655078770961978 ...  921404       S\n",
       "2305843042197714698  232.1859441303683 3.5858980398345817 ...  569316       S\n",
       "2305843043351137689  268.2085462894215  25.73214552930346 ...  158350       S"
      ]
     },
     "execution_count": 4,
     "metadata": {},
     "output_type": "execute_result"
    }
   ],
   "source": [
    "#Read in iron table from new query\n",
    "test= Table.read('test_iron2.fits')\n",
    "test"
   ]
  },
  {
   "cell_type": "code",
   "execution_count": 5,
   "id": "a1883c64-1b44-4d52-a702-64145d3c813c",
   "metadata": {
    "tags": []
   },
   "outputs": [
    {
     "name": "stdout",
     "output_type": "stream",
     "text": [
      "Total values for the original query= 99102\n",
      "unique values for the original= 96661\n",
      "Total values for the test = 104074\n",
      "unique values for the test = 96661\n",
      "Number of data entries the lists have in common= 96661\n",
      "Number of data entries in the new test not in the original query= 0\n",
      "Number of data entries in the original query not in the new test= 0\n"
     ]
    }
   ],
   "source": [
    "#Compare the tables from the two different queries\n",
    "\n",
    "#Calculate the number of unique target ids that appear in each table\n",
    "\n",
    "unique_values_set = set(tiron['TARGETID'])\n",
    "\n",
    "print('Total values for the original query=', len(tiron['TARGETID']))\n",
    "print('unique values for the original=',len(unique_values_set))\n",
    "\n",
    "\n",
    "unique_in_test = set(test['TARGETID'])\n",
    "\n",
    "print('Total values for the test =', len(test['TARGETID']))\n",
    "print('unique values for the test =',len(unique_in_test))\n",
    "\n",
    "test_id = set(test['TARGETID'])\n",
    "tiron_id = set(tiron['TARGETID'])\n",
    "\n",
    "#Find the number of entries that are shared between the two sets\n",
    "common_ids = test_id.intersection(tiron_id)\n",
    "common_ids_list = list(common_ids)\n",
    "print('Number of data entries the lists have in common=' ,len(common_ids_list))\n",
    "\n",
    "#Find how many elements are not in both sets\n",
    "difference_ids1 = test_id.difference(tiron_id)\n",
    "different_ids1 = list(difference_ids1)\n",
    "\n",
    "difference_ids2 = tiron_id.difference(test_id)\n",
    "different_ids2 = list(difference_ids2)\n",
    "print('Number of data entries in the new test not in the original query=', len(different_ids1))\n",
    "print('Number of data entries in the original query not in the new test=', len(different_ids2))"
   ]
  },
  {
   "cell_type": "code",
   "execution_count": null,
   "id": "678f5878-50d1-440e-a2b1-a7af31dd75dc",
   "metadata": {},
   "outputs": [],
   "source": []
  },
  {
   "cell_type": "code",
   "execution_count": 3,
   "id": "99d76cec-dc4e-48b3-b206-6506496fe648",
   "metadata": {
    "tags": []
   },
   "outputs": [
    {
     "name": "stdout",
     "output_type": "stream",
     "text": [
      "SELECT rdx.targetid, rdx.target_ra, rdx.target_dec, zd.z, zd.zerr, zd.spectype, zd.deltachi2, zd.zwarn, pv.pvtype, pv.sga_id\n",
      "                   FROM jura.healpix_fibermap as rdx, static.pv as pv, jura.healpix_redshifts as zd\n",
      "                   WHERE q3c_join(rdx.target_ra, rdx.target_dec, pv.ra, pv.dec, 1./3600.) \n",
      "                         AND zd.targetid = rdx.targetid;\n"
     ]
    },
    {
     "data": {
      "text/html": [
       "<div><i>Table length=235167</i>\n",
       "<table id=\"table140365058280464\" class=\"table-striped table-bordered table-condensed\">\n",
       "<thead><tr><th>TARGETID</th><th>TARGET_RA</th><th>TARGET_DEC</th><th>Z</th><th>ZERR</th><th>SPECTYPE</th><th>DELTACHI2</th><th>ZWARN</th><th>PVTYPE</th><th>SGA_ID</th><th>PHOTSYS</th></tr></thead>\n",
       "<thead><tr><th>int64</th><th>float64</th><th>float64</th><th>float64</th><th>float64</th><th>str6</th><th>float64</th><th>int64</th><th>str3</th><th>object</th><th>str1</th></tr></thead>\n",
       "<tr><td>-430502046</td><td>134.00013295228783</td><td>5.934552839997555</td><td>1.5211813094599733</td><td>9.536633276548175e-05</td><td>GALAXY</td><td>21.043927863240242</td><td>2049</td><td>TFT</td><td>838970</td><td>S</td></tr>\n",
       "<tr><td>-427872363</td><td>61.981718642816155</td><td>-22.823913110732356</td><td>0.049085960824979194</td><td>8.765385426009584e-06</td><td>GALAXY</td><td>320.327581204474</td><td>2049</td><td>TFT</td><td>982213</td><td>S</td></tr>\n",
       "<tr><td>-411444222</td><td>156.2181500220905</td><td>7.1584828480845655</td><td>0.7655265334224575</td><td>0.00014819907104570706</td><td>GALAXY</td><td>2.862433671951294</td><td>2053</td><td>TFT</td><td>4614</td><td>S</td></tr>\n",
       "<tr><td>-261707523</td><td>51.18809619857989</td><td>-15.380001206793725</td><td>0.11706841864860068</td><td>1.263477560383397e-05</td><td>GALAXY</td><td>5022.345633155666</td><td>512</td><td>SGA</td><td>788458</td><td>S</td></tr>\n",
       "<tr><td>-260779407</td><td>138.32747528464944</td><td>17.5639019859795</td><td>0.08569271543378945</td><td>9.438671035622181e-06</td><td>GALAXY</td><td>243.51359286904335</td><td>2560</td><td>TFT</td><td>735997</td><td>S</td></tr>\n",
       "<tr><td>-256075243</td><td>267.7127650902238</td><td>29.4851124724098</td><td>0.024938748634094107</td><td>2.4256075629217488e-05</td><td>GALAXY</td><td>1541.527919426706</td><td>2560</td><td>SGA</td><td>447725</td><td>S</td></tr>\n",
       "<tr><td>-255779143</td><td>324.7514856412927</td><td>-14.285073192391051</td><td>0.06222014597085957</td><td>1.2531392899106468e-05</td><td>GALAXY</td><td>13019.724023681134</td><td>2560</td><td>SGA</td><td>344696</td><td>S</td></tr>\n",
       "<tr><td>-255474428</td><td>318.1164926597467</td><td>-5.284018993812088</td><td>0.048956092264502225</td><td>7.806082205296064e-05</td><td>GALAXY</td><td>65.2918488328578</td><td>512</td><td>TFT</td><td>342501</td><td>S</td></tr>\n",
       "<tr><td>-253178294</td><td>171.33824183216043</td><td>53.64134341804524</td><td>0.033601461542572625</td><td>3.5901373601923224e-06</td><td>GALAXY</td><td>2593.072873726487</td><td>2560</td><td>TFT</td><td>32805</td><td>N</td></tr>\n",
       "<tr><td>-251109429</td><td>258.6266517495842</td><td>23.05966030445974</td><td>0.029007802739259413</td><td>3.1032198040959024e-06</td><td>GALAXY</td><td>13170.72806224291</td><td>2560</td><td>TFT</td><td>611168</td><td>S</td></tr>\n",
       "<tr><td>...</td><td>...</td><td>...</td><td>...</td><td>...</td><td>...</td><td>...</td><td>...</td><td>...</td><td>...</td><td>...</td></tr>\n",
       "<tr><td>2305843047637716361</td><td>44.04122946904737</td><td>-13.687843141230235</td><td>0.023153309547441176</td><td>1.8641581089456068e-06</td><td>GALAXY</td><td>76186.79590055346</td><td>0</td><td>SGA</td><td>164187</td><td>S</td></tr>\n",
       "<tr><td>2305843047759352169</td><td>41.118246500576845</td><td>-9.622949309572391</td><td>0.05704599509411568</td><td>5.22096757188456e-07</td><td>GALAXY</td><td>305751.5006828308</td><td>0</td><td>SGA</td><td>1068799</td><td>S</td></tr>\n",
       "<tr><td>2305843047776127933</td><td>34.170494613407485</td><td>-9.669387555071735</td><td>0.0728203469400367</td><td>1.802500114440122e-06</td><td>GALAXY</td><td>70700.05493998528</td><td>0</td><td>SGA</td><td>914184</td><td>S</td></tr>\n",
       "<tr><td>2305843047792906496</td><td>37.51563024457585</td><td>-6.661295926001229</td><td>0.047604842654665705</td><td>1.9829872488416394e-05</td><td>GALAXY</td><td>6132.722443480976</td><td>0</td><td>SGA</td><td>521429</td><td>S</td></tr>\n",
       "<tr><td>2305843047797103022</td><td>39.63633727856865</td><td>-6.677390171429402</td><td>0.00481652742047178</td><td>7.686585047777273e-07</td><td>GALAXY</td><td>183713.0446980819</td><td>0</td><td>EXT</td><td>94925</td><td>S</td></tr>\n",
       "<tr><td>2305843047813881178</td><td>44.750642525554106</td><td>-6.760521039692063</td><td>0.029534172649832425</td><td>6.3090027439020956e-06</td><td>GALAXY</td><td>16509.064525023452</td><td>0</td><td>SGA</td><td>820032</td><td>S</td></tr>\n",
       "<tr><td>2305843047826461431</td><td>46.95095915260215</td><td>-4.262505743939569</td><td>0.0308842912619699</td><td>1.3233453037549412e-05</td><td>GALAXY</td><td>7363.5002101892605</td><td>0</td><td>SGA</td><td>222852</td><td>S</td></tr>\n",
       "<tr><td>2305843047826464963</td><td>46.71288649883268</td><td>-4.216199771395608</td><td>0.03734037901046477</td><td>1.728081366913408e-05</td><td>GALAXY</td><td>5206.494989469134</td><td>0</td><td>SGA</td><td>794417</td><td>S</td></tr>\n",
       "<tr><td>2305843047830657327</td><td>47.981485787647266</td><td>-2.966562765936295</td><td>0.028706919146645</td><td>4.07980824249545e-06</td><td>GALAXY</td><td>9530.491675913101</td><td>0</td><td>SGA</td><td>1030509</td><td>S</td></tr>\n",
       "<tr><td>2305843047830657392</td><td>47.19488692019924</td><td>-3.289741669968118</td><td>0.028644934303112195</td><td>3.888272408241883e-06</td><td>GALAXY</td><td>26521.717114321887</td><td>0</td><td>SGA</td><td>597645</td><td>S</td></tr>\n",
       "</table></div>"
      ],
      "text/plain": [
       "<Table length=235167>\n",
       "      TARGETID          TARGET_RA           TARGET_DEC     ...  SGA_ID PHOTSYS\n",
       "       int64             float64             float64       ...  object   str1 \n",
       "------------------- ------------------ ------------------- ... ------- -------\n",
       "         -430502046 134.00013295228783   5.934552839997555 ...  838970       S\n",
       "         -427872363 61.981718642816155 -22.823913110732356 ...  982213       S\n",
       "         -411444222  156.2181500220905  7.1584828480845655 ...    4614       S\n",
       "         -261707523  51.18809619857989 -15.380001206793725 ...  788458       S\n",
       "         -260779407 138.32747528464944    17.5639019859795 ...  735997       S\n",
       "         -256075243  267.7127650902238    29.4851124724098 ...  447725       S\n",
       "         -255779143  324.7514856412927 -14.285073192391051 ...  344696       S\n",
       "         -255474428  318.1164926597467  -5.284018993812088 ...  342501       S\n",
       "         -253178294 171.33824183216043   53.64134341804524 ...   32805       N\n",
       "         -251109429  258.6266517495842   23.05966030445974 ...  611168       S\n",
       "                ...                ...                 ... ...     ...     ...\n",
       "2305843047637716361  44.04122946904737 -13.687843141230235 ...  164187       S\n",
       "2305843047759352169 41.118246500576845  -9.622949309572391 ... 1068799       S\n",
       "2305843047776127933 34.170494613407485  -9.669387555071735 ...  914184       S\n",
       "2305843047792906496  37.51563024457585  -6.661295926001229 ...  521429       S\n",
       "2305843047797103022  39.63633727856865  -6.677390171429402 ...   94925       S\n",
       "2305843047813881178 44.750642525554106  -6.760521039692063 ...  820032       S\n",
       "2305843047826461431  46.95095915260215  -4.262505743939569 ...  222852       S\n",
       "2305843047826464963  46.71288649883268  -4.216199771395608 ...  794417       S\n",
       "2305843047830657327 47.981485787647266  -2.966562765936295 ... 1030509       S\n",
       "2305843047830657392  47.19488692019924  -3.289741669968118 ...  597645       S"
      ]
     },
     "execution_count": 3,
     "metadata": {},
     "output_type": "execute_result"
    }
   ],
   "source": [
    "jura = get_tf_targets_modified('jura', verbose=True)\n",
    "jura"
   ]
  },
  {
   "cell_type": "code",
   "execution_count": 4,
   "id": "bbd0fc85-64dc-465d-892f-4d6f306187c4",
   "metadata": {},
   "outputs": [
    {
     "data": {
      "text/html": [
       "<div><i>Table length=235167</i>\n",
       "<table id=\"table140365058286752\" class=\"table-striped table-bordered table-condensed\">\n",
       "<thead><tr><th>TARGETID</th><th>TARGET_RA</th><th>TARGET_DEC</th><th>Z</th><th>ZERR</th><th>SPECTYPE</th><th>DELTACHI2</th><th>ZWARN</th><th>PVTYPE</th><th>SGA_ID</th><th>PHOTSYS</th></tr></thead>\n",
       "<thead><tr><th>int64</th><th>float64</th><th>float64</th><th>float64</th><th>float64</th><th>bytes6</th><th>float64</th><th>int64</th><th>bytes3</th><th>bytes7</th><th>bytes1</th></tr></thead>\n",
       "<tr><td>-430502046</td><td>134.00013295228783</td><td>5.934552839997555</td><td>1.5211813094599733</td><td>9.536633276548175e-05</td><td>GALAXY</td><td>21.043927863240242</td><td>2049</td><td>TFT</td><td>838970</td><td>S</td></tr>\n",
       "<tr><td>-427872363</td><td>61.981718642816155</td><td>-22.823913110732356</td><td>0.049085960824979194</td><td>8.765385426009584e-06</td><td>GALAXY</td><td>320.327581204474</td><td>2049</td><td>TFT</td><td>982213</td><td>S</td></tr>\n",
       "<tr><td>-411444222</td><td>156.2181500220905</td><td>7.1584828480845655</td><td>0.7655265334224575</td><td>0.00014819907104570706</td><td>GALAXY</td><td>2.862433671951294</td><td>2053</td><td>TFT</td><td>4614</td><td>S</td></tr>\n",
       "<tr><td>-261707523</td><td>51.18809619857989</td><td>-15.380001206793725</td><td>0.11706841864860068</td><td>1.263477560383397e-05</td><td>GALAXY</td><td>5022.345633155666</td><td>512</td><td>SGA</td><td>788458</td><td>S</td></tr>\n",
       "<tr><td>-260779407</td><td>138.32747528464944</td><td>17.5639019859795</td><td>0.08569271543378945</td><td>9.438671035622181e-06</td><td>GALAXY</td><td>243.51359286904335</td><td>2560</td><td>TFT</td><td>735997</td><td>S</td></tr>\n",
       "<tr><td>-256075243</td><td>267.7127650902238</td><td>29.4851124724098</td><td>0.024938748634094107</td><td>2.4256075629217488e-05</td><td>GALAXY</td><td>1541.527919426706</td><td>2560</td><td>SGA</td><td>447725</td><td>S</td></tr>\n",
       "<tr><td>-255779143</td><td>324.7514856412927</td><td>-14.285073192391051</td><td>0.06222014597085957</td><td>1.2531392899106468e-05</td><td>GALAXY</td><td>13019.724023681134</td><td>2560</td><td>SGA</td><td>344696</td><td>S</td></tr>\n",
       "<tr><td>-255474428</td><td>318.1164926597467</td><td>-5.284018993812088</td><td>0.048956092264502225</td><td>7.806082205296064e-05</td><td>GALAXY</td><td>65.2918488328578</td><td>512</td><td>TFT</td><td>342501</td><td>S</td></tr>\n",
       "<tr><td>-253178294</td><td>171.33824183216043</td><td>53.64134341804524</td><td>0.033601461542572625</td><td>3.5901373601923224e-06</td><td>GALAXY</td><td>2593.072873726487</td><td>2560</td><td>TFT</td><td>32805</td><td>N</td></tr>\n",
       "<tr><td>-251109429</td><td>258.6266517495842</td><td>23.05966030445974</td><td>0.029007802739259413</td><td>3.1032198040959024e-06</td><td>GALAXY</td><td>13170.72806224291</td><td>2560</td><td>TFT</td><td>611168</td><td>S</td></tr>\n",
       "<tr><td>...</td><td>...</td><td>...</td><td>...</td><td>...</td><td>...</td><td>...</td><td>...</td><td>...</td><td>...</td><td>...</td></tr>\n",
       "<tr><td>2305843047637716361</td><td>44.04122946904737</td><td>-13.687843141230235</td><td>0.023153309547441176</td><td>1.8641581089456068e-06</td><td>GALAXY</td><td>76186.79590055346</td><td>0</td><td>SGA</td><td>164187</td><td>S</td></tr>\n",
       "<tr><td>2305843047759352169</td><td>41.118246500576845</td><td>-9.622949309572391</td><td>0.05704599509411568</td><td>5.22096757188456e-07</td><td>GALAXY</td><td>305751.5006828308</td><td>0</td><td>SGA</td><td>1068799</td><td>S</td></tr>\n",
       "<tr><td>2305843047776127933</td><td>34.170494613407485</td><td>-9.669387555071735</td><td>0.0728203469400367</td><td>1.802500114440122e-06</td><td>GALAXY</td><td>70700.05493998528</td><td>0</td><td>SGA</td><td>914184</td><td>S</td></tr>\n",
       "<tr><td>2305843047792906496</td><td>37.51563024457585</td><td>-6.661295926001229</td><td>0.047604842654665705</td><td>1.9829872488416394e-05</td><td>GALAXY</td><td>6132.722443480976</td><td>0</td><td>SGA</td><td>521429</td><td>S</td></tr>\n",
       "<tr><td>2305843047797103022</td><td>39.63633727856865</td><td>-6.677390171429402</td><td>0.00481652742047178</td><td>7.686585047777273e-07</td><td>GALAXY</td><td>183713.0446980819</td><td>0</td><td>EXT</td><td>94925</td><td>S</td></tr>\n",
       "<tr><td>2305843047813881178</td><td>44.750642525554106</td><td>-6.760521039692063</td><td>0.029534172649832425</td><td>6.3090027439020956e-06</td><td>GALAXY</td><td>16509.064525023452</td><td>0</td><td>SGA</td><td>820032</td><td>S</td></tr>\n",
       "<tr><td>2305843047826461431</td><td>46.95095915260215</td><td>-4.262505743939569</td><td>0.0308842912619699</td><td>1.3233453037549412e-05</td><td>GALAXY</td><td>7363.5002101892605</td><td>0</td><td>SGA</td><td>222852</td><td>S</td></tr>\n",
       "<tr><td>2305843047826464963</td><td>46.71288649883268</td><td>-4.216199771395608</td><td>0.03734037901046477</td><td>1.728081366913408e-05</td><td>GALAXY</td><td>5206.494989469134</td><td>0</td><td>SGA</td><td>794417</td><td>S</td></tr>\n",
       "<tr><td>2305843047830657327</td><td>47.981485787647266</td><td>-2.966562765936295</td><td>0.028706919146645</td><td>4.07980824249545e-06</td><td>GALAXY</td><td>9530.491675913101</td><td>0</td><td>SGA</td><td>1030509</td><td>S</td></tr>\n",
       "<tr><td>2305843047830657392</td><td>47.19488692019924</td><td>-3.289741669968118</td><td>0.028644934303112195</td><td>3.888272408241883e-06</td><td>GALAXY</td><td>26521.717114321887</td><td>0</td><td>SGA</td><td>597645</td><td>S</td></tr>\n",
       "</table></div>"
      ],
      "text/plain": [
       "<Table length=235167>\n",
       "      TARGETID          TARGET_RA           TARGET_DEC     ...  SGA_ID PHOTSYS\n",
       "       int64             float64             float64       ...  bytes7  bytes1\n",
       "------------------- ------------------ ------------------- ... ------- -------\n",
       "         -430502046 134.00013295228783   5.934552839997555 ...  838970       S\n",
       "         -427872363 61.981718642816155 -22.823913110732356 ...  982213       S\n",
       "         -411444222  156.2181500220905  7.1584828480845655 ...    4614       S\n",
       "         -261707523  51.18809619857989 -15.380001206793725 ...  788458       S\n",
       "         -260779407 138.32747528464944    17.5639019859795 ...  735997       S\n",
       "         -256075243  267.7127650902238    29.4851124724098 ...  447725       S\n",
       "         -255779143  324.7514856412927 -14.285073192391051 ...  344696       S\n",
       "         -255474428  318.1164926597467  -5.284018993812088 ...  342501       S\n",
       "         -253178294 171.33824183216043   53.64134341804524 ...   32805       N\n",
       "         -251109429  258.6266517495842   23.05966030445974 ...  611168       S\n",
       "                ...                ...                 ... ...     ...     ...\n",
       "2305843047637716361  44.04122946904737 -13.687843141230235 ...  164187       S\n",
       "2305843047759352169 41.118246500576845  -9.622949309572391 ... 1068799       S\n",
       "2305843047776127933 34.170494613407485  -9.669387555071735 ...  914184       S\n",
       "2305843047792906496  37.51563024457585  -6.661295926001229 ...  521429       S\n",
       "2305843047797103022  39.63633727856865  -6.677390171429402 ...   94925       S\n",
       "2305843047813881178 44.750642525554106  -6.760521039692063 ...  820032       S\n",
       "2305843047826461431  46.95095915260215  -4.262505743939569 ...  222852       S\n",
       "2305843047826464963  46.71288649883268  -4.216199771395608 ...  794417       S\n",
       "2305843047830657327 47.981485787647266  -2.966562765936295 ... 1030509       S\n",
       "2305843047830657392  47.19488692019924  -3.289741669968118 ...  597645       S"
      ]
     },
     "execution_count": 4,
     "metadata": {},
     "output_type": "execute_result"
    }
   ],
   "source": [
    "#Save the JURA test table and see what it looks like\n",
    "\n",
    "jura['SGA_ID'] = [str(item) for item in jura['SGA_ID']]\n",
    "jura.write('jura_test.fits', overwrite=True)\n",
    "jura_test= Table.read('jura_test.fits')\n",
    "jura_test"
   ]
  },
  {
   "cell_type": "code",
   "execution_count": 5,
   "id": "3842aad2-d7d8-452d-80eb-eb0253e0d3e4",
   "metadata": {
    "tags": []
   },
   "outputs": [
    {
     "name": "stdout",
     "output_type": "stream",
     "text": [
      "Total values for the original query= 235167\n",
      "unique values for the original= 230250\n"
     ]
    }
   ],
   "source": [
    "print('Total values for the original query=', len(jura_test['TARGETID']))\n",
    "print('unique values for the original=',len(set(jura_test['TARGETID'])))"
   ]
  },
  {
   "cell_type": "code",
   "execution_count": 9,
   "id": "97350e4d-435d-4894-b89e-2c9d5d17e7f2",
   "metadata": {},
   "outputs": [
    {
     "name": "stdout",
     "output_type": "stream",
     "text": [
      "3 (<Column name='PVTYPE' dtype='bytes3' length=3>\n",
      "EXT\n",
      "SGA\n",
      "TFT, array([  3717,  65760, 165690]))\n"
     ]
    }
   ],
   "source": [
    "print(len(np.unique(jura_test['PVTYPE'])), np.unique(jura_test['PVTYPE'], return_counts=True))"
   ]
  },
  {
   "cell_type": "code",
   "execution_count": null,
   "id": "fa80b176-9df5-4e68-9d57-5559fc9bd033",
   "metadata": {},
   "outputs": [],
   "source": []
  },
  {
   "cell_type": "code",
   "execution_count": null,
   "id": "8a1150d7-ad9c-410b-a05f-45c2dc53b1ca",
   "metadata": {},
   "outputs": [],
   "source": []
  },
  {
   "cell_type": "code",
   "execution_count": null,
   "id": "8bc5da7a-019a-4e4f-aabb-3c42aeee707f",
   "metadata": {},
   "outputs": [],
   "source": []
  },
  {
   "cell_type": "code",
   "execution_count": 18,
   "id": "12154398-dcc1-4fd0-9dde-80a1759f03cf",
   "metadata": {
    "tags": []
   },
   "outputs": [
    {
     "name": "stdout",
     "output_type": "stream",
     "text": [
      "SELECT rdx.targetid, rdx.target_ra, rdx.target_dec, zd.z, zd.zerr, zd.spectype, zd.deltachi2, zd.zwarn, pv.pvtype, pv.sga_id\n",
      "                   FROM everest.healpix_fibermap as rdx, static.pv as pv, everest.healpix_redshifts as zd\n",
      "                   WHERE q3c_join(rdx.target_ra, rdx.target_dec, pv.ra, pv.dec, 1./3600.) \n",
      "                         AND zd.targetid = rdx.targetid;\n"
     ]
    },
    {
     "data": {
      "text/html": [
       "<div><i>Table length=19246</i>\n",
       "<table id=\"table140466846891552\" class=\"table-striped table-bordered table-condensed\">\n",
       "<thead><tr><th>TARGETID</th><th>TARGET_RA</th><th>TARGET_DEC</th><th>Z</th><th>ZERR</th><th>SPECTYPE</th><th>DELTACHI2</th><th>ZWARN</th><th>PVTYPE</th><th>SGA_ID</th><th>PHOTSYS</th></tr></thead>\n",
       "<thead><tr><th>int64</th><th>float64</th><th>float64</th><th>float64</th><th>float64</th><th>bytes6</th><th>float64</th><th>int64</th><th>bytes3</th><th>bytes7</th><th>bytes1</th></tr></thead>\n",
       "<tr><td>-106245656</td><td>214.40836786160398</td><td>38.16543192183721</td><td>-0.0019956912923479522</td><td>4.1311493573349107e-48</td><td>STAR</td><td>1.942668892225729e+84</td><td>3618</td><td>TFT</td><td>908460</td><td>N</td></tr>\n",
       "<tr><td>-103279575</td><td>193.87126208164</td><td>-7.797971929442544</td><td>-0.0019956912923479522</td><td>4.1311493573349107e-48</td><td>STAR</td><td>1.942668892225729e+84</td><td>1570</td><td>EXT</td><td>1232665</td><td>S</td></tr>\n",
       "<tr><td>-102479394</td><td>256.2862264156173</td><td>7.990707719122054</td><td>-0.0019956912923479522</td><td>4.1311493573349107e-48</td><td>STAR</td><td>1.942668892225729e+84</td><td>3618</td><td>SGA</td><td>1127864</td><td>S</td></tr>\n",
       "<tr><td>-11020318</td><td>216.24332255936653</td><td>35.35082958045987</td><td>-0.0019956912923479522</td><td>4.1311493573349107e-48</td><td>STAR</td><td>1.942668892225729e+84</td><td>1570</td><td>TFT</td><td>1287197</td><td>N</td></tr>\n",
       "<tr><td>-10865656</td><td>214.40835441201924</td><td>38.165409435947396</td><td>-0.0019956912923479522</td><td>4.1311493573349107e-48</td><td>STAR</td><td>1.942668892225729e+84</td><td>3618</td><td>TFT</td><td>908460</td><td>N</td></tr>\n",
       "<tr><td>-7899575</td><td>193.8713209296783</td><td>-7.797987680218857</td><td>-0.0019956912923479522</td><td>4.1311493573349107e-48</td><td>STAR</td><td>1.942668892225729e+84</td><td>1570</td><td>EXT</td><td>1232665</td><td>S</td></tr>\n",
       "<tr><td>-7099394</td><td>256.28620837882397</td><td>7.9906791127629555</td><td>-0.0019956912923479522</td><td>4.1311493573349107e-48</td><td>STAR</td><td>1.942668892225729e+84</td><td>1570</td><td>SGA</td><td>1127864</td><td>S</td></tr>\n",
       "<tr><td>-1916815</td><td>253.1225744031108</td><td>33.719069981503495</td><td>-0.0019956912923479522</td><td>4.1311493573349107e-48</td><td>STAR</td><td>1.942668892225729e+84</td><td>1570</td><td>TFT</td><td>276273</td><td>N</td></tr>\n",
       "<tr><td>-1326276</td><td>220.05055046471682</td><td>-0.27826736320203</td><td>-0.0019956912923479522</td><td>4.1311493573349107e-48</td><td>STAR</td><td>1.942668892225729e+84</td><td>1570</td><td>TFT</td><td>328560</td><td>S</td></tr>\n",
       "<tr><td>67855194259463</td><td>130.28639041727004</td><td>20.89577379903803</td><td>0.014856620618330317</td><td>8.152300427871768e-06</td><td>GALAXY</td><td>231.71337366476655</td><td>0</td><td>TFT</td><td>867551</td><td>S</td></tr>\n",
       "<tr><td>...</td><td>...</td><td>...</td><td>...</td><td>...</td><td>...</td><td>...</td><td>...</td><td>...</td><td>...</td><td>...</td></tr>\n",
       "<tr><td>2305843038204734191</td><td>180.52343426325763</td><td>0.6614010268947027</td><td>0.07841995636122122</td><td>1.993348104775966e-05</td><td>GALAXY</td><td>3399.129085869994</td><td>0</td><td>SGA</td><td>453436</td><td>S</td></tr>\n",
       "<tr><td>2305843038204734224</td><td>179.97861246081285</td><td>0.6169519617656167</td><td>0.10676060614265584</td><td>3.760544946149199e-05</td><td>GALAXY</td><td>1806.9092345507815</td><td>0</td><td>SGA</td><td>1365198</td><td>S</td></tr>\n",
       "<tr><td>2305843038204734475</td><td>179.60882861043538</td><td>0.7131064189064168</td><td>0.07861643580248108</td><td>4.135384788260221e-05</td><td>GALAXY</td><td>1962.0541958706453</td><td>0</td><td>SGA</td><td>91139</td><td>S</td></tr>\n",
       "<tr><td>2305843038695459155</td><td>194.54165733391122</td><td>24.34890035327964</td><td>0.022643050544741975</td><td>1.6179548115580248e-06</td><td>GALAXY</td><td>43010.36291448958</td><td>0</td><td>SGA</td><td>37866</td><td>S</td></tr>\n",
       "<tr><td>2305843038703845902</td><td>193.95454622778453</td><td>25.58714474794115</td><td>0.06928132612784801</td><td>2.235429235041524e-05</td><td>GALAXY</td><td>4131.501864941558</td><td>0</td><td>SGA</td><td>1275395</td><td>S</td></tr>\n",
       "<tr><td>2305843038703850421</td><td>194.21316640406138</td><td>26.8988703775957</td><td>0.0207480094495515</td><td>6.090409414690092e-06</td><td>GALAXY</td><td>15246.46520591942</td><td>0</td><td>TFT</td><td>1281982</td><td>S</td></tr>\n",
       "<tr><td>2305843038703851688</td><td>194.42928857191598</td><td>26.852380472919485</td><td>0.021236795071929673</td><td>1.4427807772087032e-05</td><td>GALAXY</td><td>5970.603453148593</td><td>0</td><td>SGA</td><td>1092279</td><td>S</td></tr>\n",
       "<tr><td>2305843038729013468</td><td>193.69881031051017</td><td>27.340228180474202</td><td>0.04012543289964803</td><td>2.3073134071490198e-05</td><td>GALAXY</td><td>4076.862021940993</td><td>0</td><td>SGA</td><td>1207116</td><td>S</td></tr>\n",
       "<tr><td>2305843038729015412</td><td>192.58296031281216</td><td>27.323985641164533</td><td>0.025527319422508913</td><td>3.808095044730965e-06</td><td>GALAXY</td><td>184814.43615285866</td><td>0</td><td>SGA</td><td>742937</td><td>S</td></tr>\n",
       "<tr><td>2305843042147377573</td><td>229.42431632783575</td><td>1.361211522756951</td><td>0.05702363775845089</td><td>8.644225660840183e-07</td><td>GALAXY</td><td>791602.8742284775</td><td>0</td><td>SGA</td><td>826758</td><td>S</td></tr>\n",
       "</table></div>"
      ],
      "text/plain": [
       "<Table length=19246>\n",
       "      TARGETID          TARGET_RA          TARGET_DEC     ...  SGA_ID PHOTSYS\n",
       "       int64             float64            float64       ...  bytes7  bytes1\n",
       "------------------- ------------------ ------------------ ... ------- -------\n",
       "         -106245656 214.40836786160398  38.16543192183721 ...  908460       N\n",
       "         -103279575    193.87126208164 -7.797971929442544 ... 1232665       S\n",
       "         -102479394  256.2862264156173  7.990707719122054 ... 1127864       S\n",
       "          -11020318 216.24332255936653  35.35082958045987 ... 1287197       N\n",
       "          -10865656 214.40835441201924 38.165409435947396 ...  908460       N\n",
       "           -7899575  193.8713209296783 -7.797987680218857 ... 1232665       S\n",
       "           -7099394 256.28620837882397 7.9906791127629555 ... 1127864       S\n",
       "           -1916815  253.1225744031108 33.719069981503495 ...  276273       N\n",
       "           -1326276 220.05055046471682  -0.27826736320203 ...  328560       S\n",
       "     67855194259463 130.28639041727004  20.89577379903803 ...  867551       S\n",
       "                ...                ...                ... ...     ...     ...\n",
       "2305843038204734191 180.52343426325763 0.6614010268947027 ...  453436       S\n",
       "2305843038204734224 179.97861246081285 0.6169519617656167 ... 1365198       S\n",
       "2305843038204734475 179.60882861043538 0.7131064189064168 ...   91139       S\n",
       "2305843038695459155 194.54165733391122  24.34890035327964 ...   37866       S\n",
       "2305843038703845902 193.95454622778453  25.58714474794115 ... 1275395       S\n",
       "2305843038703850421 194.21316640406138   26.8988703775957 ... 1281982       S\n",
       "2305843038703851688 194.42928857191598 26.852380472919485 ... 1092279       S\n",
       "2305843038729013468 193.69881031051017 27.340228180474202 ... 1207116       S\n",
       "2305843038729015412 192.58296031281216 27.323985641164533 ...  742937       S\n",
       "2305843042147377573 229.42431632783575  1.361211522756951 ...  826758       S"
      ]
     },
     "execution_count": 18,
     "metadata": {},
     "output_type": "execute_result"
    }
   ],
   "source": [
    "#Try the new query on the everest table to see if it recovers everything like Iron\n",
    "\n",
    "everest = get_tf_targets_modified('everest', verbose=True)\n",
    "\n",
    "#Fix the fact that for some reason the SGA_ID column was doing weird stuff and not letting me save the table, and then save the table\n",
    "everest['SGA_ID'] = [str(item) for item in everest['SGA_ID']]\n",
    "everest.write('test_everest.fits', overwrite=True)\n",
    "everest_test= Table.read('test_everest.fits')\n",
    "everest_test\n"
   ]
  },
  {
   "cell_type": "code",
   "execution_count": 10,
   "id": "f1eebbc5-ec4e-4472-8f4d-a9369dc2209f",
   "metadata": {
    "tags": []
   },
   "outputs": [
    {
     "data": {
      "text/html": [
       "<div><i>Table length=18180</i>\n",
       "<table id=\"table140466841739392\" class=\"table-striped table-bordered table-condensed\">\n",
       "<thead><tr><th>TARGETID</th><th>TARGET_RA</th><th>TARGET_DEC</th><th>HEALPIX</th><th>SURVEY</th><th>Z</th><th>ZERR</th><th>ZWARN</th><th>DELTACHI2</th><th>FILENAME</th><th>PVTYPE</th><th>SGA_ID</th><th>RA</th><th>DEC</th></tr></thead>\n",
       "<thead><tr><th>int64</th><th>float64</th><th>float64</th><th>int64</th><th>bytes4</th><th>float64</th><th>float64</th><th>int64</th><th>float64</th><th>bytes1</th><th>bytes3</th><th>int64</th><th>float64</th><th>float64</th></tr></thead>\n",
       "<tr><td>2399124498415623</td><td>214.013122385853</td><td>35.3145314097487</td><td>10511</td><td>main</td><td>0.888985760833643</td><td>0.00012204664140238</td><td>4</td><td>3.5203658118844</td><td>--</td><td>EXT</td><td>1229423</td><td>214.01312238585328</td><td>35.3145314097487</td></tr>\n",
       "<tr><td>2412318637948931</td><td>214.04164239659</td><td>35.3585395889941</td><td>10511</td><td>main</td><td>0.0136311722029368</td><td>3.14431330920849e-05</td><td>0</td><td>113.593752369361</td><td>--</td><td>EXT</td><td>1229423</td><td>214.04164239658957</td><td>35.35853958899406</td></tr>\n",
       "<tr><td>1092899764699136</td><td>216.00143660376</td><td>34.881062410803</td><td>10515</td><td>sv3</td><td>0.511231863324341</td><td>0.000149338383958002</td><td>4</td><td>0.700528137385845</td><td>--</td><td>EXT</td><td>682254</td><td>216.0014366037598</td><td>34.881062410803</td></tr>\n",
       "<tr><td>1079700659109889</td><td>216.061747702864</td><td>34.8365760573346</td><td>10515</td><td>sv3</td><td>0.449087430966155</td><td>6.39900937889053e-05</td><td>0</td><td>9.43113215267658</td><td>--</td><td>EXT</td><td>682254</td><td>216.06174770286376</td><td>34.836576057334575</td></tr>\n",
       "<tr><td>1092894798643201</td><td>216.061747702864</td><td>34.8365760573346</td><td>10515</td><td>sv3</td><td>0.907325853862498</td><td>0.000152981500789795</td><td>4</td><td>0.251146875321865</td><td>--</td><td>EXT</td><td>682254</td><td>216.06174770286376</td><td>34.836576057334575</td></tr>\n",
       "<tr><td>2412333884243973</td><td>249.490218609158</td><td>36.058332514444</td><td>9433</td><td>main</td><td>0.447663677679541</td><td>8.88242926270696e-05</td><td>4</td><td>2.51997595652938</td><td>--</td><td>EXT</td><td>306417</td><td>249.4902186091578</td><td>36.058332514444025</td></tr>\n",
       "<tr><td>2412428541296646</td><td>246.94530009636</td><td>40.9339918585217</td><td>9471</td><td>main</td><td>1.59664910536944</td><td>0.000142278099548223</td><td>0</td><td>16.4966533521656</td><td>--</td><td>EXT</td><td>1141359</td><td>246.94530009636003</td><td>40.93399185852167</td></tr>\n",
       "<tr><td>1079037296377859</td><td>208.975477166485</td><td>5.30336633406908</td><td>26091</td><td>sv3</td><td>1.40202297072998</td><td>7.13955539614258e-05</td><td>4</td><td>8.70454740524292</td><td>--</td><td>EXT</td><td>865490</td><td>208.9754771664854</td><td>5.303366334069084</td></tr>\n",
       "<tr><td>1092231435911171</td><td>208.975477166485</td><td>5.30336633406908</td><td>26091</td><td>sv3</td><td>1.63417441622298</td><td>0.000157425962002011</td><td>0</td><td>10.7714080065489</td><td>--</td><td>EXT</td><td>865490</td><td>208.9754771664854</td><td>5.303366334069084</td></tr>\n",
       "<tr><td>1079037300572160</td><td>209.084716493457</td><td>5.20650793636111</td><td>26091</td><td>sv3</td><td>0.907165266650967</td><td>0.000104003616537847</td><td>4</td><td>3.54499135911465</td><td>--</td><td>EXT</td><td>865490</td><td>209.0847164934571</td><td>5.206507936361107</td></tr>\n",
       "<tr><td>...</td><td>...</td><td>...</td><td>...</td><td>...</td><td>...</td><td>...</td><td>...</td><td>...</td><td>...</td><td>...</td><td>...</td><td>...</td><td>...</td></tr>\n",
       "<tr><td>39628362678797610</td><td>195.982357847492</td><td>24.3930739487093</td><td>28117</td><td>sv3</td><td>0.0728440383380902</td><td>1.35643118086595e-05</td><td>0</td><td>14289.6751774736</td><td>--</td><td>TFT</td><td>1245146</td><td>195.98235784749207</td><td>24.39307394870928</td></tr>\n",
       "<tr><td>39628362678799621</td><td>196.088607649212</td><td>24.4302441008898</td><td>28117</td><td>sv3</td><td>0.0251351182333122</td><td>3.57334797495703e-06</td><td>0</td><td>2665.09347881377</td><td>--</td><td>TFT</td><td>455486</td><td>196.088607649212</td><td>24.43024410088983</td></tr>\n",
       "<tr><td>39628340574815199</td><td>196.117619469496</td><td>23.5750930150952</td><td>28030</td><td>sv3</td><td>0.0314410364920554</td><td>9.05294960620667e-06</td><td>0</td><td>2311.26806679707</td><td>--</td><td>TFT</td><td>464774</td><td>196.11761946949622</td><td>23.575093015095153</td></tr>\n",
       "<tr><td>39628373667876718</td><td>196.194044103987</td><td>24.9823966250258</td><td>28117</td><td>sv3</td><td>0.0792715709415929</td><td>9.02104005099826e-06</td><td>0</td><td>5502.75792983174</td><td>--</td><td>TFT</td><td>477805</td><td>196.19404410398695</td><td>24.982396625025793</td></tr>\n",
       "<tr><td>39628340532874923</td><td>193.573130964063</td><td>23.4186753107925</td><td>28114</td><td>sv3</td><td>0.0825755821925748</td><td>2.26119166934425e-05</td><td>0</td><td>1225.10528617911</td><td>--</td><td>TFT</td><td>638753</td><td>193.57313096406338</td><td>23.418675310792494</td></tr>\n",
       "<tr><td>39628362636854781</td><td>193.248468660564</td><td>24.4005215786347</td><td>28121</td><td>sv3</td><td>0.0706179766880358</td><td>1.05266891236473e-05</td><td>0</td><td>4462.16121495515</td><td>--</td><td>TFT</td><td>1117018</td><td>193.24846866056447</td><td>24.400521578634716</td></tr>\n",
       "<tr><td>2403145246310401</td><td>227.842723277565</td><td>17.7702989586409</td><td>8608</td><td>main</td><td>0.0778853765859862</td><td>1.15808734891021e-05</td><td>0</td><td>153.515319168568</td><td>--</td><td>TFT</td><td>209216</td><td>227.84272327756548</td><td>17.770298958640858</td></tr>\n",
       "<tr><td>2403173956321286</td><td>228.058262698436</td><td>19.0094572959516</td><td>8611</td><td>main</td><td>0.0733630490822666</td><td>2.74904441015406e-05</td><td>0</td><td>265.289275419294</td><td>--</td><td>TFT</td><td>1345345</td><td>228.05826269843638</td><td>19.009457295951616</td></tr>\n",
       "<tr><td>2403087213920258</td><td>224.423814417678</td><td>15.2666099790636</td><td>8434</td><td>main</td><td>0.0348786509223853</td><td>5.15053928134192e-05</td><td>0</td><td>43.0987272736966</td><td>--</td><td>TFT</td><td>1355710</td><td>224.42381441767822</td><td>15.266609979063608</td></tr>\n",
       "<tr><td>2403162514259971</td><td>229.004582034045</td><td>18.444489763665</td><td>8612</td><td>main</td><td>0.0384528792022359</td><td>1.02460993771049e-05</td><td>0</td><td>504.932244105992</td><td>--</td><td>TFT</td><td>728836</td><td>229.00458203404511</td><td>18.44448976366495</td></tr>\n",
       "</table></div>"
      ],
      "text/plain": [
       "<Table length=18180>\n",
       "     TARGETID        TARGET_RA     ...         RA                DEC        \n",
       "      int64           float64      ...      float64            float64      \n",
       "----------------- ---------------- ... ------------------ ------------------\n",
       " 2399124498415623 214.013122385853 ... 214.01312238585328   35.3145314097487\n",
       " 2412318637948931  214.04164239659 ... 214.04164239658957  35.35853958899406\n",
       " 1092899764699136  216.00143660376 ...  216.0014366037598    34.881062410803\n",
       " 1079700659109889 216.061747702864 ... 216.06174770286376 34.836576057334575\n",
       " 1092894798643201 216.061747702864 ... 216.06174770286376 34.836576057334575\n",
       " 2412333884243973 249.490218609158 ...  249.4902186091578 36.058332514444025\n",
       " 2412428541296646  246.94530009636 ... 246.94530009636003  40.93399185852167\n",
       " 1079037296377859 208.975477166485 ...  208.9754771664854  5.303366334069084\n",
       " 1092231435911171 208.975477166485 ...  208.9754771664854  5.303366334069084\n",
       " 1079037300572160 209.084716493457 ...  209.0847164934571  5.206507936361107\n",
       "              ...              ... ...                ...                ...\n",
       "39628362678797610 195.982357847492 ... 195.98235784749207  24.39307394870928\n",
       "39628362678799621 196.088607649212 ...   196.088607649212  24.43024410088983\n",
       "39628340574815199 196.117619469496 ... 196.11761946949622 23.575093015095153\n",
       "39628373667876718 196.194044103987 ... 196.19404410398695 24.982396625025793\n",
       "39628340532874923 193.573130964063 ... 193.57313096406338 23.418675310792494\n",
       "39628362636854781 193.248468660564 ... 193.24846866056447 24.400521578634716\n",
       " 2403145246310401 227.842723277565 ... 227.84272327756548 17.770298958640858\n",
       " 2403173956321286 228.058262698436 ... 228.05826269843638 19.009457295951616\n",
       " 2403087213920258 224.423814417678 ... 224.42381441767822 15.266609979063608\n",
       " 2403162514259971 229.004582034045 ... 229.00458203404511  18.44448976366495"
      ]
     },
     "execution_count": 10,
     "metadata": {},
     "output_type": "execute_result"
    }
   ],
   "source": [
    "everest_table = Table.read('/global/cfs/projectdirs/desi/science/td/pv/tfgalaxies/desi_pv_tf_everest_healpix.fits')\n",
    "everest_table"
   ]
  },
  {
   "cell_type": "code",
   "execution_count": 12,
   "id": "5c77ec7f-051d-4d76-aa4c-b58c2a9b4cac",
   "metadata": {
    "tags": []
   },
   "outputs": [
    {
     "name": "stdout",
     "output_type": "stream",
     "text": [
      "Total values for the original query= 18180\n",
      "unique values for the original= 17653\n",
      "Total values for the test = 19246\n",
      "unique values for the test = 17653\n",
      "Number of data entries the lists have in common= 17653\n",
      "Number of data entries in the new test not in the original query= 0\n",
      "Number of data entries in the original query not in the new test= 0\n"
     ]
    }
   ],
   "source": [
    "#Compare the tables from the two different queries\n",
    "\n",
    "#Calculate the number of unique target ids that appear in each table\n",
    "\n",
    "unique_values_set = set(everest_table['TARGETID'])\n",
    "\n",
    "print('Total values for the original query=', len(everest_table['TARGETID']))\n",
    "print('unique values for the original=',len(unique_values_set))\n",
    "\n",
    "\n",
    "unique_in_test = set(everest_test['TARGETID'])\n",
    "\n",
    "print('Total values for the test =', len(everest_test['TARGETID']))\n",
    "print('unique values for the test =',len(unique_in_test))\n",
    "\n",
    "everest_test_id = set(everest_test['TARGETID'])\n",
    "everest_table_id = set(everest_table['TARGETID'])\n",
    "\n",
    "#Find the number of entries that are shared between the two sets\n",
    "common_ids = everest_test_id.intersection(everest_table_id)\n",
    "common_ids_list = list(common_ids)\n",
    "print('Number of data entries the lists have in common=' ,len(common_ids_list))\n",
    "\n",
    "#Find how many elements are not in both sets\n",
    "difference_ids1 = everest_test_id.difference(everest_table_id)\n",
    "different_ids1 = list(difference_ids1)\n",
    "\n",
    "difference_ids2 = everest_table_id.difference(everest_test_id)\n",
    "different_ids2 = list(difference_ids2)\n",
    "print('Number of data entries in the new test not in the original query=', len(different_ids1))\n",
    "print('Number of data entries in the original query not in the new test=', len(different_ids2))"
   ]
  },
  {
   "cell_type": "code",
   "execution_count": null,
   "id": "27b0c1c3-b875-49c0-8615-6b8cc769b0bb",
   "metadata": {},
   "outputs": [],
   "source": []
  },
  {
   "cell_type": "code",
   "execution_count": 19,
   "id": "4166c9df-5a21-45b4-b9c7-dff6fdc78e3a",
   "metadata": {
    "tags": []
   },
   "outputs": [
    {
     "name": "stdout",
     "output_type": "stream",
     "text": [
      "SELECT rdx.targetid, rdx.target_ra, rdx.target_dec, zd.z, zd.zerr, zd.spectype, zd.deltachi2, zd.zwarn, pv.pvtype, pv.sga_id\n",
      "                   FROM himalayas.healpix_fibermap as rdx, static.pv as pv, himalayas.healpix_redshifts as zd\n",
      "                   WHERE q3c_join(rdx.target_ra, rdx.target_dec, pv.ra, pv.dec, 1./3600.) \n",
      "                         AND zd.targetid = rdx.targetid;\n",
      "Arguments \"names\" and \"dtype\" must match number of columns\n"
     ]
    },
    {
     "ename": "AttributeError",
     "evalue": "'NoneType' object has no attribute 'write'",
     "output_type": "error",
     "traceback": [
      "\u001b[0;31m---------------------------------------------------------------------------\u001b[0m",
      "\u001b[0;31mAttributeError\u001b[0m                            Traceback (most recent call last)",
      "Cell \u001b[0;32mIn[19], line 6\u001b[0m\n\u001b[1;32m      3\u001b[0m himalayas \u001b[38;5;241m=\u001b[39m get_tf_targets_modified(\u001b[38;5;124m'\u001b[39m\u001b[38;5;124mhimalayas\u001b[39m\u001b[38;5;124m'\u001b[39m, verbose\u001b[38;5;241m=\u001b[39m\u001b[38;5;28;01mTrue\u001b[39;00m)\n\u001b[1;32m      5\u001b[0m \u001b[38;5;66;03m#Fix the fact that for some reason the SGA_ID column was doing weird stuff and not letting me save the table, and then save the table\u001b[39;00m\n\u001b[0;32m----> 6\u001b[0m \u001b[43mhimalayas\u001b[49m\u001b[38;5;241;43m.\u001b[39;49m\u001b[43mwrite\u001b[49m(\u001b[38;5;124m'\u001b[39m\u001b[38;5;124mtest_himalayas.fits\u001b[39m\u001b[38;5;124m'\u001b[39m, overwrite\u001b[38;5;241m=\u001b[39m\u001b[38;5;28;01mTrue\u001b[39;00m)\n\u001b[1;32m      7\u001b[0m himalayas_test\u001b[38;5;241m=\u001b[39m Table\u001b[38;5;241m.\u001b[39mread(\u001b[38;5;124m'\u001b[39m\u001b[38;5;124mtest_himalayas.fits\u001b[39m\u001b[38;5;124m'\u001b[39m)\n\u001b[1;32m      8\u001b[0m himalayas_test\n",
      "\u001b[0;31mAttributeError\u001b[0m: 'NoneType' object has no attribute 'write'"
     ]
    }
   ],
   "source": [
    "#Try the new query on the fuji table to see if it recovers everything like Iron\n",
    "\n",
    "himalayas = get_tf_targets_modified('himalayas', verbose=True)\n",
    "\n",
    "#Fix the fact that for some reason the SGA_ID column was doing weird stuff and not letting me save the table, and then save the table\n",
    "himalayas.write('test_himalayas.fits', overwrite=True)\n",
    "himalayas_test= Table.read('test_himalayas.fits')\n",
    "himalayas_test\n"
   ]
  },
  {
   "cell_type": "code",
   "execution_count": 16,
   "id": "f60d160e-4d63-4546-ba8e-f5058c852dee",
   "metadata": {
    "tags": []
   },
   "outputs": [
    {
     "data": {
      "text/html": [
       "<div><i>Table length=12504</i>\n",
       "<table id=\"table140466826933920\" class=\"table-striped table-bordered table-condensed\">\n",
       "<thead><tr><th>TARGETID</th><th>TARGET_RA</th><th>TARGET_DEC</th><th>HEALPIX</th><th>SURVEY</th><th>Z</th><th>ZERR</th><th>ZWARN</th><th>DELTACHI2</th><th>FILENAME</th><th>PVTYPE</th><th>SGA_ID</th><th>RA</th><th>DEC</th></tr></thead>\n",
       "<thead><tr><th>int64</th><th>float64</th><th>float64</th><th>int64</th><th>bytes7</th><th>float64</th><th>float64</th><th>int64</th><th>float64</th><th>bytes76</th><th>bytes3</th><th>int64</th><th>float64</th><th>float64</th></tr></thead>\n",
       "<tr><td>2399124498415623</td><td>214.013122385853</td><td>35.3145314097487</td><td>10511</td><td>main</td><td>1.377580664732</td><td>9.84449640590381e-05</td><td>4</td><td>5.34532008320093</td><td>guadalupe/healpix/main/bright/105/10511/redrock-main-bright-10511.fits</td><td>EXT</td><td>1229423</td><td>214.01312238585328</td><td>35.3145314097487</td></tr>\n",
       "<tr><td>2412318637948931</td><td>214.04164239659</td><td>35.3585395889941</td><td>10511</td><td>main</td><td>0.0136149298283923</td><td>3.84349317724892e-05</td><td>0</td><td>105.808545001011</td><td>guadalupe/healpix/main/dark/105/10511/redrock-main-dark-10511.fits</td><td>EXT</td><td>1229423</td><td>214.04164239658957</td><td>35.35853958899406</td></tr>\n",
       "<tr><td>2412333884243973</td><td>249.490218609158</td><td>36.058332514444</td><td>9433</td><td>main</td><td>0.790966031999166</td><td>5.68528719021782e-05</td><td>4</td><td>6.58435443043709</td><td>guadalupe/healpix/main/dark/94/9433/redrock-main-dark-9433.fits</td><td>EXT</td><td>306417</td><td>249.4902186091578</td><td>36.058332514444025</td></tr>\n",
       "<tr><td>2412428541296646</td><td>246.94530009636</td><td>40.9339918585217</td><td>9471</td><td>main</td><td>1.59672805899643</td><td>0.00021512202669222</td><td>0</td><td>21.9079817682505</td><td>guadalupe/healpix/main/dark/94/9471/redrock-main-dark-9471.fits</td><td>EXT</td><td>1141359</td><td>246.94530009636003</td><td>40.93399185852167</td></tr>\n",
       "<tr><td>2411343818784770</td><td>207.304942983762</td><td>-7.21204274377769</td><td>25721</td><td>main</td><td>0.0251758506722491</td><td>5.63666872037601e-05</td><td>0</td><td>18.4876595666283</td><td>guadalupe/healpix/main/dark/257/25721/redrock-main-dark-25721.fits</td><td>EXT</td><td>528682</td><td>207.30494298376212</td><td>-7.212042743777691</td></tr>\n",
       "<tr><td>2398191546793985</td><td>196.070630789244</td><td>-5.50346819670039</td><td>25790</td><td>main</td><td>1.47619325616168</td><td>9.56944906413878e-05</td><td>4</td><td>2.18669384717941</td><td>guadalupe/healpix/main/bright/257/25790/redrock-main-bright-25790.fits</td><td>EXT</td><td>131706</td><td>196.07063078924412</td><td>-5.503468196700393</td></tr>\n",
       "<tr><td>2398113503379461</td><td>192.273729147642</td><td>-8.64496061055452</td><td>26113</td><td>main</td><td>0.0052033014260005</td><td>1.4751066688564e-05</td><td>0</td><td>250.45065983828</td><td>guadalupe/healpix/main/bright/261/26113/redrock-main-bright-26113.fits</td><td>EXT</td><td>288376</td><td>192.27372914764155</td><td>-8.644960610554522</td></tr>\n",
       "<tr><td>2412060990242825</td><td>267.974068380698</td><td>23.0836119738323</td><td>32545</td><td>main</td><td>1.28091277853885</td><td>9.66284176278662e-05</td><td>4</td><td>3.30605861544609</td><td>guadalupe/healpix/main/dark/325/32545/redrock-main-dark-32545.fits</td><td>EXT</td><td>600287</td><td>267.9740683806976</td><td>23.08361197383228</td></tr>\n",
       "<tr><td>2411567266136067</td><td>226.331158541844</td><td>2.06661086575034</td><td>8196</td><td>main</td><td>0.36889259266065</td><td>5.63732348350446e-05</td><td>4</td><td>4.60599585622549</td><td>guadalupe/healpix/main/dark/81/8196/redrock-main-dark-8196.fits</td><td>EXT</td><td>330560</td><td>226.33115854184445</td><td>2.0666108657503446</td></tr>\n",
       "<tr><td>2411561209561090</td><td>225.304300881054</td><td>1.69398474274656</td><td>8195</td><td>main</td><td>0.00642344814460749</td><td>4.19184822955602e-05</td><td>0</td><td>1353.33556032318</td><td>guadalupe/healpix/main/dark/81/8195/redrock-main-dark-8195.fits</td><td>EXT</td><td>693208</td><td>225.3043008810543</td><td>1.6939847427465609</td></tr>\n",
       "<tr><td>...</td><td>...</td><td>...</td><td>...</td><td>...</td><td>...</td><td>...</td><td>...</td><td>...</td><td>...</td><td>...</td><td>...</td><td>...</td><td>...</td></tr>\n",
       "<tr><td>39627770329830415</td><td>221.975611967913</td><td>-0.646951684317705</td><td>25939</td><td>main</td><td>0.123680518881172</td><td>3.35508043764737e-05</td><td>0</td><td>878.320410429034</td><td>guadalupe/healpix/main/bright/259/25939/redrock-main-bright-25939.fits</td><td>TFT</td><td>935461</td><td>221.97561196791327</td><td>-0.6469516843177049</td></tr>\n",
       "<tr><td>39627746162250030</td><td>221.416459035634</td><td>-1.71859605181395</td><td>25938</td><td>main</td><td>0.0296808980055543</td><td>4.37642994369035e-06</td><td>0</td><td>2768.76944893497</td><td>guadalupe/healpix/main/bright/259/25938/redrock-main-bright-25938.fits</td><td>TFT</td><td>742585</td><td>221.41645903563355</td><td>-1.7185960518139491</td></tr>\n",
       "<tr><td>39627746158052762</td><td>221.046128518979</td><td>-1.69479115327865</td><td>25927</td><td>main</td><td>0.0721365049475943</td><td>1.16598857361827e-05</td><td>0</td><td>1747.67318867892</td><td>guadalupe/healpix/main/bright/259/25927/redrock-main-bright-25927.fits</td><td>TFT</td><td>1262897</td><td>221.04612851897917</td><td>-1.6947911532786506</td></tr>\n",
       "<tr><td>39627764290029807</td><td>221.831876463588</td><td>-0.957550935183749</td><td>25938</td><td>main</td><td>0.034472848185937</td><td>3.14897337080941e-06</td><td>0</td><td>6719.06419253349</td><td>guadalupe/healpix/main/bright/259/25938/redrock-main-bright-25938.fits</td><td>TFT</td><td>261864</td><td>221.83187646358778</td><td>-0.9575509351837495</td></tr>\n",
       "<tr><td>2402716735242240</td><td>221.53253152726</td><td>-0.229596292561464</td><td>25945</td><td>main</td><td>0.00619706884927084</td><td>4.76202950023059e-05</td><td>0</td><td>194.517363751374</td><td>guadalupe/healpix/main/dark/259/25945/redrock-main-dark-25945.fits</td><td>TFT</td><td>884254</td><td>221.53253152725964</td><td>-0.2295962925614643</td></tr>\n",
       "<tr><td>39627728047050393</td><td>221.623761098041</td><td>-2.53349427125553</td><td>25925</td><td>main</td><td>0.0432787461058024</td><td>2.75909010184447e-06</td><td>0</td><td>6128.49937489268</td><td>guadalupe/healpix/main/bright/259/25925/redrock-main-bright-25925.fits</td><td>TFT</td><td>1086359</td><td>221.62376109804092</td><td>-2.5334942712555266</td></tr>\n",
       "<tr><td>2403145246310401</td><td>227.842723277565</td><td>17.7702989586409</td><td>8608</td><td>main</td><td>0.0778828015236246</td><td>1.18033897784268e-05</td><td>0</td><td>122.510801717639</td><td>guadalupe/healpix/main/dark/86/8608/redrock-main-dark-8608.fits</td><td>TFT</td><td>209216</td><td>227.84272327756548</td><td>17.770298958640858</td></tr>\n",
       "<tr><td>2403173956321286</td><td>228.058262698436</td><td>19.0094572959516</td><td>8611</td><td>main</td><td>0.0733646523189127</td><td>3.13614489948056e-05</td><td>0</td><td>294.124357512434</td><td>guadalupe/healpix/main/dark/86/8611/redrock-main-dark-8611.fits</td><td>TFT</td><td>1345345</td><td>228.05826269843638</td><td>19.009457295951616</td></tr>\n",
       "<tr><td>2403087213920258</td><td>224.423814417678</td><td>15.2666099790636</td><td>8434</td><td>main</td><td>0.0348913488855228</td><td>5.90357215202983e-05</td><td>0</td><td>43.4685709585901</td><td>guadalupe/healpix/main/dark/84/8434/redrock-main-dark-8434.fits</td><td>TFT</td><td>1355710</td><td>224.42381441767822</td><td>15.266609979063608</td></tr>\n",
       "<tr><td>2403162514259971</td><td>229.004582034045</td><td>18.444489763665</td><td>8612</td><td>main</td><td>0.038451494985302</td><td>1.06230159701737e-05</td><td>0</td><td>475.384799664695</td><td>guadalupe/healpix/main/dark/86/8612/redrock-main-dark-8612.fits</td><td>TFT</td><td>728836</td><td>229.00458203404511</td><td>18.44448976366495</td></tr>\n",
       "</table></div>"
      ],
      "text/plain": [
       "<Table length=12504>\n",
       "     TARGETID        TARGET_RA     ...         RA                 DEC        \n",
       "      int64           float64      ...      float64             float64      \n",
       "----------------- ---------------- ... ------------------ -------------------\n",
       " 2399124498415623 214.013122385853 ... 214.01312238585328    35.3145314097487\n",
       " 2412318637948931  214.04164239659 ... 214.04164239658957   35.35853958899406\n",
       " 2412333884243973 249.490218609158 ...  249.4902186091578  36.058332514444025\n",
       " 2412428541296646  246.94530009636 ... 246.94530009636003   40.93399185852167\n",
       " 2411343818784770 207.304942983762 ... 207.30494298376212  -7.212042743777691\n",
       " 2398191546793985 196.070630789244 ... 196.07063078924412  -5.503468196700393\n",
       " 2398113503379461 192.273729147642 ... 192.27372914764155  -8.644960610554522\n",
       " 2412060990242825 267.974068380698 ...  267.9740683806976   23.08361197383228\n",
       " 2411567266136067 226.331158541844 ... 226.33115854184445  2.0666108657503446\n",
       " 2411561209561090 225.304300881054 ...  225.3043008810543  1.6939847427465609\n",
       "              ...              ... ...                ...                 ...\n",
       "39627770329830415 221.975611967913 ... 221.97561196791327 -0.6469516843177049\n",
       "39627746162250030 221.416459035634 ... 221.41645903563355 -1.7185960518139491\n",
       "39627746158052762 221.046128518979 ... 221.04612851897917 -1.6947911532786506\n",
       "39627764290029807 221.831876463588 ... 221.83187646358778 -0.9575509351837495\n",
       " 2402716735242240  221.53253152726 ... 221.53253152725964 -0.2295962925614643\n",
       "39627728047050393 221.623761098041 ... 221.62376109804092 -2.5334942712555266\n",
       " 2403145246310401 227.842723277565 ... 227.84272327756548  17.770298958640858\n",
       " 2403173956321286 228.058262698436 ... 228.05826269843638  19.009457295951616\n",
       " 2403087213920258 224.423814417678 ... 224.42381441767822  15.266609979063608\n",
       " 2403162514259971 229.004582034045 ... 229.00458203404511   18.44448976366495"
      ]
     },
     "execution_count": 16,
     "metadata": {},
     "output_type": "execute_result"
    }
   ],
   "source": [
    "guadalupe_table = Table.read('/global/cfs/projectdirs/desi/science/td/pv/tfgalaxies/desi_pv_tf_guadalupe_healpix.fits')\n",
    "guadalupe_table"
   ]
  },
  {
   "cell_type": "code",
   "execution_count": null,
   "id": "19b3551d-56fe-4c7b-a777-d87ef3c43e24",
   "metadata": {},
   "outputs": [],
   "source": [
    "#Compare the tables from the two different queries\n",
    "\n",
    "#Calculate the number of unique target ids that appear in each table\n",
    "\n",
    "unique_values_set = set(everest_table['TARGETID'])\n",
    "\n",
    "print('Total values for the original query=', len(everest_table['TARGETID']))\n",
    "print('unique values for the original=',len(unique_values_set))\n",
    "\n",
    "\n",
    "unique_in_test = set(everest_test['TARGETID'])\n",
    "\n",
    "print('Total values for the test =', len(everest_test['TARGETID']))\n",
    "print('unique values for the test =',len(unique_in_test))\n",
    "\n",
    "everest_test_id = set(everest_test['TARGETID'])\n",
    "everest_table_id = set(everest_table['TARGETID'])\n",
    "\n",
    "#Find the number of entries that are shared between the two sets\n",
    "common_ids = everest_test_id.intersection(everest_table_id)\n",
    "common_ids_list = list(common_ids)\n",
    "print('Number of data entries the lists have in common=' ,len(common_ids_list))\n",
    "\n",
    "#Find how many elements are not in both sets\n",
    "difference_ids1 = everest_test_id.difference(everest_table_id)\n",
    "different_ids1 = list(difference_ids1)\n",
    "\n",
    "difference_ids2 = everest_table_id.difference(everest_test_id)\n",
    "different_ids2 = list(difference_ids2)\n",
    "print('Number of data entries in the new test not in the original query=', len(different_ids1))\n",
    "print('Number of data entries in the original query not in the new test=', len(different_ids2))"
   ]
  }
 ],
 "metadata": {
  "kernelspec": {
   "display_name": "DESI main",
   "language": "python",
   "name": "desi-main"
  },
  "language_info": {
   "codemirror_mode": {
    "name": "ipython",
    "version": 3
   },
   "file_extension": ".py",
   "mimetype": "text/x-python",
   "name": "python",
   "nbconvert_exporter": "python",
   "pygments_lexer": "ipython3",
   "version": "3.10.14"
  }
 },
 "nbformat": 4,
 "nbformat_minor": 5
}
