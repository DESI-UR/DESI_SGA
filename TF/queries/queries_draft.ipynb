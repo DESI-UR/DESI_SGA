{
 "cells": [
  {
   "cell_type": "markdown",
   "id": "cc54687f-dc38-4a05-abaa-64a9b2248dbe",
   "metadata": {},
   "source": [
    "# DESI PV Survey Target Matches\n",
    "\n",
    "Grab the list of targets from the DESI PV survey that are available in some spectroscopic reduction, which can be specified by the user.\n",
    "\n",
    "The list of PV secondary targets is provided in a set of FITS files produced by [Khaled Said](mailto:k.saidahmedsoliman@uq.edu.au) in the folder `/global/homes/k/ksaid/desi_pv/savepath_dr9_corr` at NERSC.\n",
    "\n",
    "DESI observations are taken from the [redshift database](https://desi.lbl.gov/trac/wiki/DESIDatabase) maintained at NERSC by Rob Knop."
   ]
  },
  {
   "cell_type": "code",
   "execution_count": 1,
   "id": "1b036800-a800-438d-b1ca-18400628e8ff",
   "metadata": {},
   "outputs": [
    {
     "name": "stdout",
     "output_type": "stream",
     "text": [
      "DEBUG: Read templates from /global/common/software/desi/perlmutter/desiconda/20230111-2.1.0/code/redrock-templates/main\n",
      "DEBUG: Using default redshift range -0.0050-1.6997 for rrtemplate-galaxy.fits\n",
      "DEBUG: Using redshift range 1.4000-6.9930 for rrtemplate-qso-HIZ.fits\n",
      "DEBUG: Using redshift range 0.0500-1.5983 for rrtemplate-qso-LOZ.fits\n",
      "DEBUG: Using default redshift range -0.0020-0.0020 for rrtemplate-star-A.fits\n",
      "DEBUG: Using default redshift range -0.0020-0.0020 for rrtemplate-star-B.fits\n",
      "DEBUG: Using default redshift range -0.0020-0.0020 for rrtemplate-star-CV.fits\n",
      "DEBUG: Using default redshift range -0.0020-0.0020 for rrtemplate-star-F.fits\n",
      "DEBUG: Using default redshift range -0.0020-0.0020 for rrtemplate-star-G.fits\n",
      "DEBUG: Using default redshift range -0.0020-0.0020 for rrtemplate-star-K.fits\n",
      "DEBUG: Using default redshift range -0.0020-0.0020 for rrtemplate-star-M.fits\n",
      "DEBUG: Using default redshift range -0.0020-0.0020 for rrtemplate-star-WD.fits\n"
     ]
    }
   ],
   "source": [
    "from desispec.io import read_spectra\n",
    "from desispec.coaddition import coadd_cameras\n",
    "from desispec.interpolation import resample_flux\n",
    "from desispec.resolution import Resolution\n",
    "\n",
    "import redrock.templates\n",
    "\n",
    "rrtemplates = dict()\n",
    "for filename in redrock.templates.find_templates():\n",
    "    t = redrock.templates.Template(filename)\n",
    "    rrtemplates[(t.template_type, t.sub_type)] = t\n",
    "\n",
    "from astropy import units as u\n",
    "from astropy.table import Table, vstack, hstack\n",
    "from astropy.coordinates import SkyCoord, match_coordinates_sky\n",
    "from astropy.time import Time\n",
    "from astropy.wcs import WCS\n",
    "from astropy.visualization.wcsaxes import SphericalCircle\n",
    "\n",
    "from datetime import datetime, timedelta\n",
    "\n",
    "from scipy.ndimage import gaussian_filter1d\n",
    "\n",
    "import os\n",
    "from glob import glob\n",
    "\n",
    "import psycopg2\n",
    "\n",
    "from tqdm.notebook import tqdm_notebook\n",
    "\n",
    "import numpy as np\n",
    "import matplotlib as mpl\n",
    "import matplotlib.pyplot as plt"
   ]
  },
  {
   "cell_type": "code",
   "execution_count": 2,
   "id": "9a770b7c-bfa3-4bf9-ba9c-4870e9147ee9",
   "metadata": {},
   "outputs": [],
   "source": [
    "mpl.rc('font', size=14)\n",
    "mpl.rc('figure', max_open_warning = 0)"
   ]
  },
  {
   "cell_type": "markdown",
   "id": "1a44e3fa-e28e-44b3-98d0-8d5a94b9164d",
   "metadata": {},
   "source": [
    "## Database Matching Functions\n",
    "\n",
    "Given a target table and spectroscopic reduction, match all observed targets using the DESI redshift database."
   ]
  },
  {
   "cell_type": "code",
   "execution_count": 3,
   "id": "919fe758-250c-4771-aebd-c8c699211b27",
   "metadata": {},
   "outputs": [],
   "source": [
    "def match_targets(pvtargtab, redux='daily', search='healpix'):\n",
    "    \"\"\"Match PV targets against the redshift DB for a particular spectroscopic reduction.\n",
    "    \n",
    "    Parameters\n",
    "    ----------\n",
    "    pvtargtab : astropy.Table\n",
    "        Table of PV target info. Specifically need the RA, DEC, PVTYPE, and SGA_ID fields.\n",
    "    redux : str\n",
    "        Spectroscopic reduction: e.g., 'daily', 'everest', 'fuji', 'guadalupe', ...\n",
    "    search : str\n",
    "        'healpix' to search the HEALPix tables, 'tiles' to search the tiles tables.\n",
    "        \n",
    "    Returns\n",
    "    -------\n",
    "    desi_targets : astropy.Table\n",
    "        Joined table of DESI redshifts and PV targets for all matches.\n",
    "    \"\"\"\n",
    "    # Accumulate data in this table.\n",
    "    desi_targets = None\n",
    "        \n",
    "    try:\n",
    "        db = psycopg2.connect(host='decatdb.lbl.gov', database='desidb', user='desi')\n",
    "        cursor = db.cursor()\n",
    "        # cursor.execute('SET search_path TO da, public;')\n",
    "\n",
    "        # Loop over all TNS alerts and perform a coordinate match with DESI observations.\n",
    "        N = len(pvtargtab)\n",
    "        n = 0\n",
    "        with tqdm_notebook(total=N) as progress_bar:\n",
    "\n",
    "            for i, obj in enumerate(pvtargtab):\n",
    "                ra, dec = obj['RA'], obj['DEC']\n",
    "\n",
    "                # Enable search in HEALPix tables.\n",
    "                if search == 'healpix':\n",
    "                    query = 'SELECT f.targetid,f.target_ra,f.target_dec,h.healpix,h.survey,r.z,r.zerr,r.zwarn,r.deltachi2,h.filename\\n' \\\n",
    "                            f'FROM {redux}.healpix_fibermap f\\n' \\\n",
    "                            f'INNER JOIN {redux}.healpix h ON f.healpix_id=h.id\\n' \\\n",
    "                            f'INNER JOIN {redux}.healpix_redshifts r ON r.healpix_id=h.id AND r.targetid=f.targetid\\n' \\\n",
    "                            f'WHERE q3c_radial_query( f.target_ra, f.target_dec, {ra}, {dec}, 1./3600. );'\n",
    "                    \n",
    "                    colnames = ['TARGETID', 'TARGET_RA', 'TARGET_DEC', 'HEALPIX', 'SURVEY', 'Z', 'ZERR', 'ZWARN', 'DELTACHI2', 'FILENAME']\n",
    "                # Enable search in tiles tables.\n",
    "                elif search == 'tiles':\n",
    "                    query = 'SELECT f.targetid,f.target_ra,f.target_dec,c.tileid,c.night,r.z,r.zerr,r.zwarn,r.deltachi2,c.filename\\n' \\\n",
    "                            f'FROM {redux}.tiles_fibermap f\\n' \\\n",
    "                            f'INNER JOIN {redux}.cumulative_tiles c ON f.cumultile_id=c.id\\n' \\\n",
    "                            f'INNER JOIN {redux}.tiles_redshifts r ON r.cumultile_id=c.id AND r.targetid=f.targetid\\n' \\\n",
    "                            f'WHERE q3c_radial_query( f.target_ra, f.target_dec, {ra}, {dec}, 1./3600. );'\n",
    "                    colnames = ['TARGETID', 'TARGET_RA', 'TARGET_DEC', 'TILEID', 'NIGHT', 'Z', 'ZERR', 'ZWARN', 'DELTACHI2', 'FILENAME']\n",
    "                else:\n",
    "                    raise ValueError(f'Search {search} not recognized; use \"healpix\" or \"tiles.\"')\n",
    "\n",
    "                cursor.execute(query)\n",
    "                rows = cursor.fetchall()\n",
    "\n",
    "                if rows:\n",
    "                    # Convert postgresql row output to an astropy Table.\n",
    "                    data = Table(list(map(list, zip(*rows))),\n",
    "                                 names=colnames)\n",
    "\n",
    "                    # hstack the postgresql rows with the PV target info.\n",
    "                    # The following vstack loop ensures every row gets a match.\n",
    "                    pv_data = obj\n",
    "                    if len(data) > 1:\n",
    "                        for j in range(1, len(data)):\n",
    "                            pv_data = vstack([pv_data, obj])\n",
    "                    data = hstack([data, pv_data['PVTYPE', 'SGA_ID', 'RA', 'DEC']])\n",
    "\n",
    "                    # Accumulate matched targets.\n",
    "                    if desi_targets is None:\n",
    "                        desi_targets = data\n",
    "                    else:\n",
    "                        desi_targets = vstack([desi_targets, data], join_type='outer')\n",
    "\n",
    "                if (i+1) % 50 == 0:\n",
    "                    progress_bar.update(50)\n",
    "                    n += 50\n",
    "\n",
    "            if n < N:\n",
    "                progress_bar.update(N - n)\n",
    "\n",
    "    except (Exception, psycopg2.Error) as error:\n",
    "        print(error)\n",
    "    finally:\n",
    "        if db is not None:\n",
    "            db.close()\n",
    "            \n",
    "    return desi_targets"
   ]
  },
  {
   "cell_type": "markdown",
   "id": "803dc28e-bf3a-4a70-9494-b0aad2921b79",
   "metadata": {},
   "source": [
    "## Perform Coordinate Match between DESI Observations and the PV Target Files\n",
    "\n",
    "Match PV observations within 1\" of a DESI fiber.\n",
    "\n",
    "Read FITS files of PV targets. In this notebook, we only download targets relevant to the DESI Tully-Fisher sample, which corresponds to these three files:\n",
    "* `pv_tf.fits`: targets on the semi-major axes of spiral galaxies, selected for the Tully-Fisher analysis.\n",
    "* `pv_ext.fits`: other targets on spatially extended spiral galaxies (e.g., HII regions).\n",
    "* `pv_sga.fits`: centers of SGA galaxies."
   ]
  },
  {
   "cell_type": "code",
   "execution_count": 4,
   "id": "fb41f8e6-865c-4499-ae0b-97af42f47852",
   "metadata": {},
   "outputs": [],
   "source": [
    "pv_ext = Table.read('/global/homes/k/ksaid/desi_pv/savepath_dr9_corr/pv_ext.fits', hdu=1)\n",
    "pv_sga = Table.read('/global/homes/k/ksaid/desi_pv/savepath_dr9_corr/pv_sga.fits', hdu=1)\n",
    "pv_tf = Table.read('/global/homes/k/ksaid/desi_pv/savepath_dr9_corr/pv_tf.fits', hdu=1)"
   ]
  },
  {
   "cell_type": "markdown",
   "id": "481e5bd7-81b7-4881-810f-d40cbd8bae6d",
   "metadata": {},
   "source": [
    "### Process fuji Observations"
   ]
  },
  {
   "cell_type": "code",
   "execution_count": 5,
   "id": "dec453df-5118-4e86-b15b-449dc9a5cf18",
   "metadata": {},
   "outputs": [
    {
     "name": "stdout",
     "output_type": "stream",
     "text": [
      "connection to server at \"decatdb.lbl.gov\" (128.3.71.86), port 5432 failed: fe_sendauth: no password supplied\n",
      "\n"
     ]
    },
    {
     "ename": "UnboundLocalError",
     "evalue": "local variable 'db' referenced before assignment",
     "output_type": "error",
     "traceback": [
      "\u001b[0;31m---------------------------------------------------------------------------\u001b[0m",
      "\u001b[0;31mUnboundLocalError\u001b[0m                         Traceback (most recent call last)",
      "Cell \u001b[0;32mIn[5], line 1\u001b[0m\n\u001b[0;32m----> 1\u001b[0m pv_ext_fuji \u001b[38;5;241m=\u001b[39m \u001b[43mmatch_targets\u001b[49m\u001b[43m(\u001b[49m\u001b[43mpv_ext\u001b[49m\u001b[43m,\u001b[49m\u001b[43m \u001b[49m\u001b[43mredux\u001b[49m\u001b[38;5;241;43m=\u001b[39;49m\u001b[38;5;124;43m'\u001b[39;49m\u001b[38;5;124;43mfuji\u001b[39;49m\u001b[38;5;124;43m'\u001b[39;49m\u001b[43m)\u001b[49m\n\u001b[1;32m      2\u001b[0m pv_ext_fuji\n",
      "Cell \u001b[0;32mIn[3], line 86\u001b[0m, in \u001b[0;36mmatch_targets\u001b[0;34m(pvtargtab, redux, search)\u001b[0m\n\u001b[1;32m     84\u001b[0m     \u001b[38;5;28mprint\u001b[39m(error)\n\u001b[1;32m     85\u001b[0m \u001b[38;5;28;01mfinally\u001b[39;00m:\n\u001b[0;32m---> 86\u001b[0m     \u001b[38;5;28;01mif\u001b[39;00m \u001b[43mdb\u001b[49m \u001b[38;5;129;01mis\u001b[39;00m \u001b[38;5;129;01mnot\u001b[39;00m \u001b[38;5;28;01mNone\u001b[39;00m:\n\u001b[1;32m     87\u001b[0m         db\u001b[38;5;241m.\u001b[39mclose()\n\u001b[1;32m     89\u001b[0m \u001b[38;5;28;01mreturn\u001b[39;00m desi_targets\n",
      "\u001b[0;31mUnboundLocalError\u001b[0m: local variable 'db' referenced before assignment"
     ]
    }
   ],
   "source": [
    "pv_ext_fuji = match_targets(pv_ext, redux='fuji')\n",
    "pv_ext_fuji"
   ]
  },
  {
   "cell_type": "code",
   "execution_count": null,
   "id": "230a4da5-9eac-4ec6-90a3-4845a698110d",
   "metadata": {},
   "outputs": [],
   "source": [
    "pv_sga_fuji = match_targets(pv_sga, redux='fuji')\n",
    "pv_sga_fuji"
   ]
  },
  {
   "cell_type": "code",
   "execution_count": null,
   "id": "214f4975-6326-46dd-975c-a11d19eb8de5",
   "metadata": {},
   "outputs": [],
   "source": [
    "pv_tf_fuji = match_targets(pv_tf, redux='fuji')\n",
    "pv_tf_fuji"
   ]
  },
  {
   "cell_type": "code",
   "execution_count": null,
   "id": "cc42b3c0-a076-46c3-b797-05cdc9336ea8",
   "metadata": {},
   "outputs": [],
   "source": [
    "isgoodz = (pv_tf_fuji['ZWARN']==0) & (pv_tf_fuji['DELTACHI2']>25)\n",
    "pv_tf_fuji[isgoodz]"
   ]
  },
  {
   "cell_type": "markdown",
   "id": "cb329f5f-4c2c-48dc-b3d6-b7f365d346d9",
   "metadata": {},
   "source": [
    "#### Dump Output to a File\n",
    "\n",
    "Stack the `ext`, `sga`, and `tf` tables and save the output."
   ]
  },
  {
   "cell_type": "code",
   "execution_count": null,
   "id": "79a77d91-8f17-43d2-8788-96439650afa6",
   "metadata": {},
   "outputs": [],
   "source": [
    "pv_fuji = vstack([pv_ext_fuji, pv_sga_fuji, pv_tf_fuji])\n",
    "pv_fuji.write('desi_pv_tf_fuji.fits', overwrite=True)"
   ]
  },
  {
   "cell_type": "markdown",
   "id": "87a939c4-09d9-43c4-8d00-37388c3e8cb3",
   "metadata": {},
   "source": [
    "### Process guadalupe Observations"
   ]
  },
  {
   "cell_type": "code",
   "execution_count": null,
   "id": "ce789965-640c-45a8-89be-556ff921a19e",
   "metadata": {},
   "outputs": [],
   "source": [
    "pv_ext_guadalupe = match_targets(pv_ext, redux='guadalupe')\n",
    "pv_ext_guadalupe"
   ]
  },
  {
   "cell_type": "code",
   "execution_count": null,
   "id": "dae54912-4c3a-49d3-b39c-efd313dd5e39",
   "metadata": {},
   "outputs": [],
   "source": [
    "pv_sga_guadalupe = match_targets(pv_sga, redux='guadalupe')\n",
    "pv_sga_guadalupe"
   ]
  },
  {
   "cell_type": "code",
   "execution_count": null,
   "id": "3216b4b2-d4b1-4425-a7fc-86c99a9cfa1a",
   "metadata": {},
   "outputs": [],
   "source": [
    "pv_tf_guadalupe = match_targets(pv_tf, redux='guadalupe')\n",
    "pv_tf_guadalupe"
   ]
  },
  {
   "cell_type": "code",
   "execution_count": null,
   "id": "a1d9661c-7c61-43f0-962e-bd7321d3d078",
   "metadata": {},
   "outputs": [],
   "source": [
    "pv_guadalupe = vstack([pv_ext_guadalupe, pv_sga_guadalupe, pv_tf_guadalupe])\n",
    "pv_guadalupe.write('desi_pv_tf_guadalupe.fits', overwrite=True)"
   ]
  },
  {
   "cell_type": "markdown",
   "id": "888551fe-0be6-4b49-b9f5-14304aec6bf0",
   "metadata": {},
   "source": [
    "#### Dump Output to a File\n",
    "\n",
    "Stack the `ext`, `sga`, and `tf` tables and save the output."
   ]
  },
  {
   "cell_type": "markdown",
   "id": "168c5b4a-ff44-469d-a5ff-aa7b84bf1191",
   "metadata": {},
   "source": [
    "### Process iron Observations"
   ]
  },
  {
   "cell_type": "code",
   "execution_count": null,
   "id": "5a3bf02e-ecd0-4341-b258-8f951bb83eb5",
   "metadata": {},
   "outputs": [],
   "source": [
    "pv_ext_iron = match_targets(pv_ext, redux='iron')\n",
    "pv_ext_iron"
   ]
  },
  {
   "cell_type": "code",
   "execution_count": null,
   "id": "9d3297cd-df64-4cc9-93c0-e69566692247",
   "metadata": {},
   "outputs": [],
   "source": [
    "pv_sga_iron = match_targets(pv_sga, redux='iron')\n",
    "pv_sga_iron"
   ]
  },
  {
   "cell_type": "code",
   "execution_count": null,
   "id": "a6ed3fa1-5731-4cc9-a06e-5229cfec9e50",
   "metadata": {},
   "outputs": [],
   "source": [
    "pv_tf_iron = match_targets(pv_tf, redux='iron')\n",
    "pv_tf_iron"
   ]
  },
  {
   "cell_type": "code",
   "execution_count": null,
   "id": "b0b0e954-20c4-4025-8357-66af3c9f959e",
   "metadata": {},
   "outputs": [],
   "source": [
    "pv_iron = vstack([pv_ext_iron, pv_sga_iron, pv_tf_iron])\n",
    "pv_iron.write('desi_pv_tf_iron.fits', overwrite=True)"
   ]
  }
 ],
 "metadata": {
  "kernelspec": {
   "display_name": "DESI main",
   "language": "python",
   "name": "desi-main"
  },
  "language_info": {
   "codemirror_mode": {
    "name": "ipython",
    "version": 3
   },
   "file_extension": ".py",
   "mimetype": "text/x-python",
   "name": "python",
   "nbconvert_exporter": "python",
   "pygments_lexer": "ipython3",
   "version": "3.10.8"
  }
 },
 "nbformat": 4,
 "nbformat_minor": 5
}
