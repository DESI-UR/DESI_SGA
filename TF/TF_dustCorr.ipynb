{
 "cells": [
  {
   "cell_type": "markdown",
   "id": "13155905-d495-49af-9634-2a3d2c880813",
   "metadata": {},
   "source": [
    "Correct for dust extinction due to both Galactic dust and the extinction within the galaxy (should be a function of inclination)."
   ]
  },
  {
   "cell_type": "code",
   "execution_count": 1,
   "id": "fd0ebaa6-738d-44f6-a3fa-f28b9aec7932",
   "metadata": {
    "tags": []
   },
   "outputs": [],
   "source": [
    "import numpy as np\n",
    "\n",
    "from astropy.table import Table\n",
    "from astropy.io import fits\n",
    "from astropy.coordinates import SkyCoord\n",
    "import astropy.constants as const\n",
    "import astropy.units as u\n",
    "\n",
    "import time\n",
    "\n",
    "import matplotlib.pyplot as plt"
   ]
  },
  {
   "cell_type": "code",
   "execution_count": 2,
   "id": "acab4163-11f7-4edb-97f3-4dd7f5098886",
   "metadata": {
    "tags": []
   },
   "outputs": [],
   "source": [
    "c = const.c.to('km/s')\n",
    "\n",
    "q0 = 0.2"
   ]
  },
  {
   "cell_type": "markdown",
   "id": "46267890-5c95-4101-85b4-7b6d7114ed49",
   "metadata": {},
   "source": [
    "# Data"
   ]
  },
  {
   "cell_type": "markdown",
   "id": "7fb45225-ef95-4439-bbd1-8c8f68085d34",
   "metadata": {},
   "source": [
    "## Galaxies"
   ]
  },
  {
   "cell_type": "code",
   "execution_count": 3,
   "id": "c2efb728-a717-442d-8ea5-13a4ba7d5982",
   "metadata": {
    "tags": []
   },
   "outputs": [],
   "source": [
    "gals_directory = '/global/cfs/cdirs/desi/science/td/pv/tfgalaxies/SV/'\n",
    "\n",
    "gals_filename = 'SGA-2020_fuji_Vrot_phot-K-Corr.fits'\n",
    "\n",
    "gals = Table.read(gals_directory + gals_filename)"
   ]
  },
  {
   "cell_type": "code",
   "execution_count": 4,
   "id": "85ee1e6d-952f-47d3-ac94-b93a8078cd5b",
   "metadata": {
    "tags": []
   },
   "outputs": [],
   "source": [
    "targets_directory = '/global/cfs/projectdirs/desi/science/td/pv/'\n",
    "\n",
    "targets_filename = 'desi_pv_tf_fuji_healpix.fits'\n",
    "\n",
    "targets = Table.read(targets_directory + targets_filename)"
   ]
  },
  {
   "cell_type": "code",
   "execution_count": 5,
   "id": "a89db58f-1721-4a89-ad0f-8cb12a18f1d9",
   "metadata": {
    "tags": []
   },
   "outputs": [],
   "source": [
    "fastspecfit_directory = '/global/cfs/cdirs/desi/public/edr/vac/edr/fastspecfit/fuji/v3.2/'"
   ]
  },
  {
   "cell_type": "markdown",
   "id": "7a33e074-eb28-4ead-9af7-aba8a4cc4ded",
   "metadata": {},
   "source": [
    "# Dust extinction\n",
    "\n",
    "Ratios of total to selective extinction (rederived from Schlafly11 and listed on https://www.legacysurvey.org/dr10/catalogs/#galactic-extinction-coefficients)"
   ]
  },
  {
   "cell_type": "code",
   "execution_count": 6,
   "id": "426a28fe-b204-41bd-ae45-77b2469e4c36",
   "metadata": {
    "tags": []
   },
   "outputs": [],
   "source": [
    "Rr = 2.165\n",
    "Rv = 3.1 # from Schlafly & Finkbeiner (2011) - https://ui.adsabs.harvard.edu/abs/2011ApJ...737..103S/abstract"
   ]
  },
  {
   "cell_type": "markdown",
   "id": "a98b8c58-a539-44cc-889b-7c5fef295577",
   "metadata": {},
   "source": [
    "## 1. Extract line fluxes\n",
    "\n",
    "We need to identify which spectra were actually used in the analysis, so that we can use \"good\" flux estimates."
   ]
  },
  {
   "cell_type": "code",
   "execution_count": 7,
   "id": "6b7616d8-734d-4899-9802-a128344629f6",
   "metadata": {
    "tags": []
   },
   "outputs": [],
   "source": [
    "################################################################################\n",
    "# Separate the data into center and off-center observations\n",
    "#-------------------------------------------------------------------------------\n",
    "targets['SKY_FIBER_DIST'] = 0.\n",
    "targets['SKY_FIBER_DIST_R26'] = 0.\n",
    "targets['V_ROT'] = np.nan\n",
    "targets['V_ROT_ERR'] = np.nan\n",
    "\n",
    "\n",
    "for i in range(len(gals)):\n",
    "    \n",
    "    # Identify all galaxy targets on this galaxy\n",
    "    obs_idx = targets['SGA_ID'] == gals['SGA_ID'][i]\n",
    "    \n",
    "    #---------------------------------------------------------------------------\n",
    "    # Calculate distance between each observation and the center of the galaxy\n",
    "    #---------------------------------------------------------------------------\n",
    "    gal_coords = SkyCoord(ra=gals['RA'][i], \n",
    "                          dec=gals['DEC'][i], \n",
    "                          unit=u.degree)\n",
    "    target_coords = SkyCoord(ra=targets['RA'][obs_idx], \n",
    "                             dec=targets['DEC'][obs_idx], \n",
    "                             unit=u.degree)\n",
    "    \n",
    "    sep2d = target_coords.separation(gal_coords)\n",
    "    \n",
    "    targets['SKY_FIBER_DIST'][obs_idx] = sep2d\n",
    "    targets['SKY_FIBER_DIST_R26'][obs_idx] = 2*sep2d.to('arcmin')/(gals['D26'][i]*u.arcmin)\n",
    "    #---------------------------------------------------------------------------\n",
    "    \n",
    "    \n",
    "    #---------------------------------------------------------------------------\n",
    "    # Calculate the rotational velocity\n",
    "    #---------------------------------------------------------------------------\n",
    "    targets['V_ROT'][obs_idx] = c*(targets['Z'][obs_idx] - gals['Z_DESI'][i])\n",
    "    targets['V_ROT_ERR'][obs_idx] = c*np.sqrt(targets['ZERR'][obs_idx]**2 + gals['ZERR_DESI'][i]**2)\n",
    "    #---------------------------------------------------------------------------\n",
    "    \n",
    "    \n",
    "    #---------------------------------------------------------------------------\n",
    "    # Correct rotational velocities for inclination angle\n",
    "    #---------------------------------------------------------------------------\n",
    "    cosi2 = (gals['BA'][i]**2 - q0**2)/(1 - q0**2)\n",
    "    \n",
    "    # Galaxies with b/a < q0\n",
    "    if cosi2 < 0:\n",
    "        cosi2 = 0\n",
    "        \n",
    "    targets['V_ROT'][obs_idx] /= np.sin(np.arccos(np.sqrt(cosi2)))\n",
    "    #---------------------------------------------------------------------------\n",
    "\n",
    "\n",
    "centers_boolean = targets['SKY_FIBER_DIST_R26'] < 0.1\n",
    "\n",
    "target_centers = targets[centers_boolean]\n",
    "# target_axis = targets[~centers_boolean]\n",
    "################################################################################\n",
    "\n",
    "\n",
    "################################################################################\n",
    "# Clean the center observations\n",
    "#\n",
    "# Only keep those with\n",
    "#  - DELTACHI2 > 25\n",
    "#  - ZWARN == 0\n",
    "#-------------------------------------------------------------------------------\n",
    "good_centers = target_centers[(target_centers['DELTACHI2'] > 25) & (target_centers['ZWARN'] == 0)]\n",
    "################################################################################\n",
    "\n",
    "'''\n",
    "################################################################################\n",
    "# Clean the axis observations\n",
    "#\n",
    "# Requirements:\n",
    "#  - 10 < Vrot < 1000 km/s\n",
    "#  - Delta V / Vmin <= 5\n",
    "#-------------------------------------------------------------------------------\n",
    "# Velocity cut\n",
    "#-------------------------------------------------------------------------------\n",
    "good_axis = target_axis[(np.abs(target_axis['V_ROT']) < 1000) & (np.abs(target_axis['V_ROT']) > 10)]\n",
    "#-------------------------------------------------------------------------------\n",
    "# Relative velocity cut\n",
    "#-------------------------------------------------------------------------------\n",
    "good_deltaV = np.ones(len(good_axis), dtype=bool)\n",
    "\n",
    "for sga_id in gals['SGA_ID']:\n",
    "    \n",
    "    # Identify all axis targets on this galaxy\n",
    "    obs_idx = good_axis['SGA_ID'] == sga_id\n",
    "''';"
   ]
  },
  {
   "cell_type": "code",
   "execution_count": 8,
   "id": "1b2d068a-20bd-4999-9a4e-acc6a1c8a58c",
   "metadata": {
    "tags": []
   },
   "outputs": [
    {
     "name": "stderr",
     "output_type": "stream",
     "text": [
      "/tmp/ipykernel_1779369/820940368.py:50: RuntimeWarning: divide by zero encountered in true_divide\n",
      "  gals['HaHb'][i] = np.nanmean(Ha/Hb)\n",
      "/tmp/ipykernel_1779369/820940368.py:54: RuntimeWarning: divide by zero encountered in true_divide\n",
      "  Hb_random = rng.normal(Hb, 1/Hb_ivar, size=(N_samples, len(Hb)))\n",
      "/tmp/ipykernel_1779369/820940368.py:53: RuntimeWarning: divide by zero encountered in true_divide\n",
      "  Ha_random = rng.normal(Ha, 1/Ha_ivar, size=(N_samples, len(Ha)))\n",
      "/global/common/software/desi/perlmutter/desiconda/20240425-2.2.0/conda/lib/python3.10/site-packages/numpy/core/fromnumeric.py:86: RuntimeWarning: invalid value encountered in reduce\n",
      "  return ufunc.reduce(obj, axis, dtype, out, **passkwargs)\n",
      "/tmp/ipykernel_1779369/820940368.py:50: RuntimeWarning: invalid value encountered in true_divide\n",
      "  gals['HaHb'][i] = np.nanmean(Ha/Hb)\n",
      "/tmp/ipykernel_1779369/820940368.py:50: RuntimeWarning: Mean of empty slice\n",
      "  gals['HaHb'][i] = np.nanmean(Ha/Hb)\n",
      "/tmp/ipykernel_1779369/820940368.py:55: RuntimeWarning: invalid value encountered in true_divide\n",
      "  HaHb_random = Ha_random/Hb_random\n",
      "/global/common/software/desi/perlmutter/desiconda/20240425-2.2.0/conda/lib/python3.10/site-packages/numpy/lib/nanfunctions.py:1879: RuntimeWarning: Degrees of freedom <= 0 for slice.\n",
      "  var = nanvar(a, axis=axis, dtype=dtype, out=out, ddof=ddof,\n"
     ]
    }
   ],
   "source": [
    "gals['HaHb'] = np.nan\n",
    "gals['HaHb_err'] = np.nan\n",
    "\n",
    "rng = np.random.default_rng()\n",
    "N_samples = 1000\n",
    "\n",
    "for i in range(len(gals)):\n",
    "    \n",
    "    # Identify all galaxy targets on this galaxy\n",
    "    obs_idx = good_centers['SGA_ID'] == gals['SGA_ID'][i]\n",
    "    \n",
    "    # Identify targetIDs for galaxy\n",
    "    targetids = good_centers['TARGETID'][obs_idx]\n",
    "    \n",
    "    # Identify filenames for galaxy\n",
    "    filenames = good_centers['FILENAME'][obs_idx]\n",
    "    \n",
    "    # Initialize Ha, Hb arrays\n",
    "    Ha = np.zeros(sum(obs_idx))\n",
    "    Hb = np.zeros(sum(obs_idx))\n",
    "    Ha_ivar = np.zeros(sum(obs_idx))\n",
    "    Hb_ivar = np.zeros(sum(obs_idx))\n",
    "    \n",
    "    # Extract fluxes from fastspecfit catalog\n",
    "    for j in range(len(filenames)):\n",
    "        \n",
    "        # Strip \"fuji/\" from filename\n",
    "        rr_filename = filenames[j][5:]\n",
    "        \n",
    "        # Replace \"redrock\" with \"fastspec\"\n",
    "        dirs, file = rr_filename.split('redrock')\n",
    "        fs_filename = dirs + 'fastspec' + file + '.gz'\n",
    "        \n",
    "        # Open file\n",
    "        hdul = fits.open(fastspecfit_directory + fs_filename, hdu=1)\n",
    "        fs_file = hdul[1].data\n",
    "        hdul.close()\n",
    "        \n",
    "        # Find row for this targetid\n",
    "        targetid_idx = fs_file['TARGETID'] == targetids[j]\n",
    "        \n",
    "        if sum(targetid_idx) == 1:\n",
    "            # Extract Ha, Hb fluxes\n",
    "            Ha[j] = fs_file['HALPHA_FLUX'][targetid_idx]\n",
    "            Hb[j] = fs_file['HBETA_FLUX'][targetid_idx]\n",
    "            Ha_ivar[j] = fs_file['HALPHA_FLUX_IVAR'][targetid_idx]\n",
    "            Hb_ivar[j] = fs_file['HBETA_FLUX_IVAR'][targetid_idx]\n",
    "    \n",
    "    # Compute average flux ratios\n",
    "    gals['HaHb'][i] = np.nanmean(Ha/Hb)\n",
    "    \n",
    "    # Compute uncertainty in average flux ratio\n",
    "    Ha_random = rng.normal(Ha, 1/Ha_ivar, size=(N_samples, len(Ha)))\n",
    "    Hb_random = rng.normal(Hb, 1/Hb_ivar, size=(N_samples, len(Hb)))\n",
    "    HaHb_random = Ha_random/Hb_random\n",
    "    gals['HaHb_err'][i] = np.nanstd(HaHb_random)"
   ]
  },
  {
   "cell_type": "code",
   "execution_count": 9,
   "id": "b567342a-6051-4259-b492-5d866714d1aa",
   "metadata": {},
   "outputs": [
    {
     "data": {
      "image/png": "[encoded data removed]",
      "text/plain": [
       "<Figure size 640x480 with 1 Axes>"
      ]
     },
     "metadata": {},
     "output_type": "display_data"
    }
   ],
   "source": [
    "plt.figure(tight_layout=True)\n",
    "\n",
    "plt.errorbar(gals['BA'], gals['HaHb'], yerr=gals['HaHb_err'], fmt='.', ecolor='lightblue')\n",
    "# plt.plot(gals['BA'], gals['HaHb'], '.')\n",
    "plt.hlines(2.86, 0, 1, colors='r', linestyles='dashed')\n",
    "plt.xlim(0, 1)\n",
    "plt.ylim(0, 10)\n",
    "plt.xlabel('b/a')\n",
    "plt.ylabel(r'average H$\\alpha$/H$\\beta$');"
   ]
  },
  {
   "cell_type": "markdown",
   "id": "f95969ff-77ad-429b-8522-647669001613",
   "metadata": {},
   "source": [
    "## 2. Compute $E(B-V)$ value for each galaxy\n",
    "\n",
    "$A_\\lambda / A_V$ from [O'Donnell (1994)](https://ui.adsabs.harvard.edu/abs/1994ApJ...422..158O/abstract)"
   ]
  },
  {
   "cell_type": "code",
   "execution_count": 10,
   "id": "d7c2ebe9-62e9-4257-959b-c0fc75750b3c",
   "metadata": {
    "tags": []
   },
   "outputs": [],
   "source": [
    "def ODon94(wave, Rv):\n",
    "    '''\n",
    "    Calculate the interstellar extinction, A(lambda)/Av, using the extinction curve defined in O'Donnell (1994).\n",
    "    \n",
    "    \n",
    "    PARAMETERS\n",
    "    ==========\n",
    "    \n",
    "    wave : float\n",
    "        Wavelength for which the extinction should be calculated.  Units are Angstroms.\n",
    "        \n",
    "    Rv : float\n",
    "        Extinction ratio\n",
    "        \n",
    "        \n",
    "    RETURNS\n",
    "    =======\n",
    "    \n",
    "    AwAv : float\n",
    "        The interstellar extinction for the given wavelength.\n",
    "    '''\n",
    "    \n",
    "    # Convert wavelength to microns\n",
    "    wave_um = wave/1e4\n",
    "    \n",
    "    # Calculate inverse wavelength\n",
    "    x = 1/wave_um\n",
    "    \n",
    "    # Calculate wavelength shift\n",
    "    y = x - 1.82\n",
    "    \n",
    "    # Calculate coefficients\n",
    "    a = 1 + 0.104*y - 0.609*y**2 + 0.701*y**3 + 1.137*y**4 - 1.718*y**5 - 0.827*y**6 + 1.647*y**7 - 0.505*y**8\n",
    "    b = 1.952*y + 2.908*y**2 - 3.989*y**3 - 7.985*y**4 + 11.102*y**5 + 5.491*y**6 - 10.805*y**7 + 3.347*y**8\n",
    "    \n",
    "    # Calculate extinction\n",
    "    AwAv = a + b/Rv\n",
    "    \n",
    "    return AwAv"
   ]
  },
  {
   "cell_type": "code",
   "execution_count": 11,
   "id": "8ad54b34-a60c-4b24-b399-39830537a068",
   "metadata": {},
   "outputs": [
    {
     "name": "stderr",
     "output_type": "stream",
     "text": [
      "/tmp/ipykernel_1779369/1304718783.py:4: RuntimeWarning: divide by zero encountered in true_divide\n",
      "  gals['EBV'] = 2.5*np.log10(2.86/gals['HaHb'])/(Rv*(AHaAv - AHbAv))\n",
      "/tmp/ipykernel_1779369/1304718783.py:4: RuntimeWarning: divide by zero encountered in log10\n",
      "  gals['EBV'] = 2.5*np.log10(2.86/gals['HaHb'])/(Rv*(AHaAv - AHbAv))\n",
      "/global/common/software/desi/perlmutter/desiconda/20240425-2.2.0/conda/lib/python3.10/site-packages/numpy/lib/nanfunctions.py:1741: RuntimeWarning: invalid value encountered in subtract\n",
      "  np.subtract(arr, avg, out=arr, casting='unsafe', where=where)\n"
     ]
    }
   ],
   "source": [
    "AHaAv = ODon94(6563, Rv)\n",
    "AHbAv = ODon94(4861, Rv)\n",
    "\n",
    "gals['EBV'] = 2.5*np.log10(2.86/gals['HaHb'])/(Rv*(AHaAv - AHbAv))\n",
    "\n",
    "HaHb_random = rng.normal(gals['HaHb'], gals['HaHb_err'], size=(N_samples, len(gals)))\n",
    "gals['EBV_ERR'] = np.nanstd(HaHb_random, axis=0)"
   ]
  },
  {
   "cell_type": "markdown",
   "id": "49562817-f3f3-4f01-8946-501c1e1a97d7",
   "metadata": {},
   "source": [
    "## 3. Compute dust extinction correction\n",
    "\n",
    "\\begin{equation}\n",
    "  A_\\text{dust} = R_r E(B - V)\n",
    "\\end{equation}"
   ]
  },
  {
   "cell_type": "code",
   "execution_count": 12,
   "id": "a318a505-3593-44e6-b879-db1b59ceff54",
   "metadata": {},
   "outputs": [],
   "source": [
    "gals['Adust'] = Rr * gals['EBV']\n",
    "gals['Adust_err'] = Rr * gals['EBV_ERR']"
   ]
  },
  {
   "cell_type": "code",
   "execution_count": 13,
   "id": "45a9fb7e-7b9e-48d4-9136-d772044b88c9",
   "metadata": {},
   "outputs": [
    {
     "data": {
      "image/png": "[encoded data removed]",
      "text/plain": [
       "<Figure size 640x480 with 1 Axes>"
      ]
     },
     "metadata": {},
     "output_type": "display_data"
    }
   ],
   "source": [
    "plt.figure(tight_layout=True)\n",
    "\n",
    "plt.hist(gals['Adust'], bins=np.arange(-1, 3, 0.1))\n",
    "\n",
    "plt.xlabel(r'$A_\\text{dust}$ [mag]', fontsize=16)\n",
    "plt.ylabel('number of galaxies', fontsize=16)\n",
    "\n",
    "plt.tick_params(axis='both', which='major', labelsize=14);\n",
    "\n",
    "# plt.savefig('../Figures/SV/fuji_Adust_hist_20240701.png', dpi=150);"
   ]
  },
  {
   "cell_type": "markdown",
   "id": "f70693ed-a0c1-4040-95a9-e7dd86b6e9ae",
   "metadata": {},
   "source": [
    "## 4. Apply dust correction"
   ]
  },
  {
   "cell_type": "code",
   "execution_count": 14,
   "id": "51b50114-86e5-456a-b18f-a52504e7fd6e",
   "metadata": {},
   "outputs": [],
   "source": [
    "if 'R_MAG_SB26_CORR' not in gals.colnames:    \n",
    "    gals['R_MAG_SB26_CORR'] = gals['R_MAG_SB26']\n",
    "    gals['R_MAG_SB26_CORR_ERR'] = gals['R_MAG_SB26_ERR']\n",
    "\n",
    "# Only adjust those galaxies which have valid corrections\n",
    "nan_gal = np.isnan(gals['Adust'])\n",
    "    \n",
    "gals['R_MAG_SB26_CORR'][~nan_gal] -= gals['Adust'][~nan_gal]\n",
    "gals['R_MAG_SB26_CORR_ERR'][~nan_gal] = np.sqrt(gals['R_MAG_SB26_CORR_ERR'][~nan_gal]**2 + gals['Adust_err'][~nan_gal]**2)"
   ]
  },
  {
   "cell_type": "markdown",
   "id": "f7a9b920-92ad-40b9-9700-3104db53f9d3",
   "metadata": {},
   "source": [
    "# Save results to file"
   ]
  },
  {
   "cell_type": "code",
   "execution_count": 15,
   "id": "6019ab05-529d-47b9-bf28-1c8e2e472c21",
   "metadata": {
    "tags": []
   },
   "outputs": [],
   "source": [
    "gals.write(gals_directory + 'SGA-2020_fuji_Vrot_phot-K-dust-Corr.fits', overwrite=True)"
   ]
  },
  {
   "cell_type": "code",
   "execution_count": null,
   "id": "033919df-133c-4c60-ac37-f10e6bd182dc",
   "metadata": {},
   "outputs": [],
   "source": []
  }
 ],
 "metadata": {
  "kernelspec": {
   "display_name": "DESI main",
   "language": "python",
   "name": "desi-main"
  },
  "language_info": {
   "codemirror_mode": {
    "name": "ipython",
    "version": 3
   },
   "file_extension": ".py",
   "mimetype": "text/x-python",
   "name": "python",
   "nbconvert_exporter": "python",
   "pygments_lexer": "ipython3",
   "version": "3.10.14"
  }
 },
 "nbformat": 4,
 "nbformat_minor": 5
}
