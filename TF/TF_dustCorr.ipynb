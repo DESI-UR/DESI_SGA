{
 "cells": [
  {
   "cell_type": "markdown",
   "id": "13155905-d495-49af-9634-2a3d2c880813",
   "metadata": {},
   "source": [
    "Correct for dust extinction due to both Galactic dust and the extinction within the galaxy (should be a function of inclination)."
   ]
  },
  {
   "cell_type": "code",
   "execution_count": 1,
   "id": "fd0ebaa6-738d-44f6-a3fa-f28b9aec7932",
   "metadata": {
    "tags": []
   },
   "outputs": [],
   "source": [
    "import numpy as np\n",
    "\n",
    "from astropy.table import Table\n",
    "\n",
    "import matplotlib.pyplot as plt"
   ]
  },
  {
   "cell_type": "markdown",
   "id": "46267890-5c95-4101-85b4-7b6d7114ed49",
   "metadata": {},
   "source": [
    "# Data"
   ]
  },
  {
   "cell_type": "markdown",
   "id": "7fb45225-ef95-4439-bbd1-8c8f68085d34",
   "metadata": {},
   "source": [
    "## Galaxies"
   ]
  },
  {
   "cell_type": "code",
   "execution_count": 2,
   "id": "c2efb728-a717-442d-8ea5-13a4ba7d5982",
   "metadata": {
    "tags": []
   },
   "outputs": [],
   "source": [
    "gals_directory = '/global/cfs/cdirs/desi/science/td/pv/tfgalaxies/SV/'\n",
    "\n",
    "gals_filename = 'SGA-2020_fuji_Vrot_photsys.fits'\n",
    "\n",
    "gals = Table.read(gals_directory + gals_filename)"
   ]
  },
  {
   "cell_type": "code",
   "execution_count": 3,
   "id": "85ee1e6d-952f-47d3-ac94-b93a8078cd5b",
   "metadata": {
    "tags": []
   },
   "outputs": [],
   "source": [
    "targets_directory = '/global/cfs/projectdirs/desi/science/td/pv/'\n",
    "\n",
    "targets_filename = 'desi_pv_tf_fuji_healpix.fits'\n",
    "\n",
    "targets = Table.read(targets_directory + targets_filename)"
   ]
  },
  {
   "cell_type": "code",
   "execution_count": 4,
   "id": "a89db58f-1721-4a89-ad0f-8cb12a18f1d9",
   "metadata": {
    "tags": []
   },
   "outputs": [],
   "source": [
    "fastspecfit_directory = '/global/cfs/cdirs/desi/public/edr/vac/edr/fastspecfit/fuji/v3.2/'"
   ]
  },
  {
   "cell_type": "markdown",
   "id": "7a33e074-eb28-4ead-9af7-aba8a4cc4ded",
   "metadata": {},
   "source": [
    "# Dust extinction\n",
    "\n",
    "Ratios of total to selective extinction (rederived from Schlafly11 and listed on https://www.legacysurvey.org/dr10/catalogs/#galactic-extinction-coefficients)"
   ]
  },
  {
   "cell_type": "code",
   "execution_count": 6,
   "id": "426a28fe-b204-41bd-ae45-77b2469e4c36",
   "metadata": {
    "tags": []
   },
   "outputs": [],
   "source": [
    "Rr = 2.165\n",
    "Rv = 3.1 # from Schlafly & Finkbeiner (2011) - https://ui.adsabs.harvard.edu/abs/2011ApJ...737..103S/abstract"
   ]
  },
  {
   "cell_type": "markdown",
   "id": "a98b8c58-a539-44cc-889b-7c5fef295577",
   "metadata": {},
   "source": [
    "## 1. Extract line fluxes\n",
    "\n",
    "We need to identify which spectra were actually used in the analysis, so that we can use \"good\" flux estimates."
   ]
  },
  {
   "cell_type": "code",
   "execution_count": null,
   "id": "6b7616d8-734d-4899-9802-a128344629f6",
   "metadata": {
    "jupyter": {
     "source_hidden": true
    },
    "tags": []
   },
   "outputs": [],
   "source": [
    "'''\n",
    "################################################################################\n",
    "# Separate the data into center and off-center observations\n",
    "#-------------------------------------------------------------------------------\n",
    "targets['SKY_FIBER_DIST'] = 0.\n",
    "targets['SKY_FIBER_DIST_R26'] = 0.\n",
    "targets['V_ROT'] = np.nan\n",
    "targets['V_ROT_ERR'] = np.nan\n",
    "\n",
    "\n",
    "for i in range(len(gals)):\n",
    "    \n",
    "    # Identify all galaxy targets on this galaxy\n",
    "    obs_idx = targets['SGA_ID'] == gals['SGA_ID'][i]\n",
    "    \n",
    "    #---------------------------------------------------------------------------\n",
    "    # Calculate distance between each observation and the center of the galaxy\n",
    "    #---------------------------------------------------------------------------\n",
    "    gal_coords = SkyCoord(ra=gals['RA'][i], \n",
    "                          dec=gals['DEC'][i], \n",
    "                          unit=u.degree)\n",
    "    target_coords = SkyCoord(ra=targets['RA'][obs_idx], \n",
    "                             dec=targets['DEC'][obs_idx], \n",
    "                             unit=u.degree)\n",
    "    \n",
    "    sep2d = target_coords.separation(gal_coords)\n",
    "    \n",
    "    targets['SKY_FIBER_DIST'][obs_idx] = sep2d\n",
    "    targets['SKY_FIBER_DIST_R26'][obs_idx] = 2*sep2d.to('arcmin')/(gals['D26'][i]*u.arcmin)\n",
    "    #---------------------------------------------------------------------------\n",
    "    \n",
    "    \n",
    "    #---------------------------------------------------------------------------\n",
    "    # Calculate the rotational velocity\n",
    "    #---------------------------------------------------------------------------\n",
    "    targets['V_ROT'][obs_idx] = c*(targets['Z'][obs_idx] - gals['Z_DESI'][i])\n",
    "    targets['V_ROT_ERR'][obs_idx] = c*np.sqrt(targets['ZERR'][obs_idx]**2 + gals['ZERR_DESI'][i]**2)\n",
    "    #---------------------------------------------------------------------------\n",
    "    \n",
    "    \n",
    "    #---------------------------------------------------------------------------\n",
    "    # Correct rotational velocities for inclination angle\n",
    "    #---------------------------------------------------------------------------\n",
    "    cosi2 = (gals['BA'][i]**2 - q0**2)/(1 - q0**2)\n",
    "    \n",
    "    # Galaxies with b/a < q0\n",
    "    if cosi2 < 0:\n",
    "        cosi2 = 0\n",
    "        \n",
    "    targets['V_ROT'][obs_idx] /= np.sin(np.arccos(np.sqrt(cosi2)))\n",
    "    #---------------------------------------------------------------------------\n",
    "\n",
    "\n",
    "centers_boolean = targets['SKY_FIBER_DIST_R26'] < 0.1\n",
    "\n",
    "target_centers = targets[centers_boolean]\n",
    "target_axis = targets[~centers_boolean]\n",
    "################################################################################\n",
    "\n",
    "\n",
    "################################################################################\n",
    "# Clean the center observations\n",
    "#\n",
    "# Only keep those with\n",
    "#  - DELTACHI2 > 25\n",
    "#  - ZWARN == 0\n",
    "#-------------------------------------------------------------------------------\n",
    "good_centers = target_centers[(target_centers['DELTACHI2'] > 25) & (target_centers['ZWARN'] == 0)]\n",
    "################################################################################\n",
    "\n",
    "\n",
    "################################################################################\n",
    "# Clean the axis observations\n",
    "#\n",
    "# Requirements:\n",
    "#  - 10 < Vrot < 1000 km/s\n",
    "#  - Delta V / Vmin <= 5\n",
    "#-------------------------------------------------------------------------------\n",
    "# Velocity cut\n",
    "#-------------------------------------------------------------------------------\n",
    "good_axis = target_axis[(np.abs(target_axis['V_ROT']) < 1000) & (np.abs(target_axis['V_ROT']) > 10)]\n",
    "#-------------------------------------------------------------------------------\n",
    "# Relative velocity cut\n",
    "#-------------------------------------------------------------------------------\n",
    "good_deltaV = np.ones(len(good_axis), dtype=bool)\n",
    "\n",
    "for sga_id in gals['SGA_ID']:\n",
    "    \n",
    "    # Identify all axis targets on this galaxy\n",
    "    obs_idx = good_axis['SGA_ID'] == sga_id\n",
    "''';"
   ]
  },
  {
   "cell_type": "code",
   "execution_count": 18,
   "id": "1b2d068a-20bd-4999-9a4e-acc6a1c8a58c",
   "metadata": {
    "tags": []
   },
   "outputs": [
    {
     "name": "stderr",
     "output_type": "stream",
     "text": [
      "WARNING: UnitsWarning: 'nanomaggies' did not parse as fits unit: At col 0, Unit 'nanomaggies' not supported by the FITS standard.  If this is meant to be a custom unit, define it with 'u.def_unit'. To have it recognized inside a file reader or other code, enable it with 'u.add_enabled_units'. For details, see https://docs.astropy.org/en/latest/units/combining_and_defining.html [astropy.units.core]\n",
      "/tmp/ipykernel_1519124/3766936838.py:57: RuntimeWarning: divide by zero encountered in true_divide\n",
      "  gals['HALPHA_FLUX_ERR'][i] = np.sqrt(np.nansum(1/Ha_ivar**2))\n",
      "/tmp/ipykernel_1519124/3766936838.py:58: RuntimeWarning: divide by zero encountered in true_divide\n",
      "  gals['HBETA_FLUX_ERR'][i] = np.sqrt(np.nansum(1/Hb_ivar**2))\n"
     ]
    },
    {
     "name": "stdout",
     "output_type": "stream",
     "text": [
      "0 1071046983680006\n",
      "0 1070791412154371\n",
      "0 1084416059244550\n",
      "0 39627757612699997\n",
      "0 1070770205753344\n",
      "0 1070905056821255\n",
      "0 1083435347083273\n",
      "0 1070241207549959\n",
      "0 1083272423538695\n",
      "0 1083459418193922\n",
      "0 1071095058792449\n",
      "0 1070904587059200\n",
      "0 1083308779765763\n",
      "0 1084544249757697\n",
      "0 1083296704364546\n",
      "0 1083296704364546\n",
      "0 1071371966742533\n",
      "0 1084240997384192\n",
      "0 1070108482994196\n",
      "0 1083374043136007\n",
      "0 1084280654528518\n",
      "0 1070168985829381\n",
      "0 1070199147069461\n",
      "0 39628433256351023\n",
      "0 1084079214690304\n",
      "0 1083357064593411\n",
      "0 1070874497122305\n",
      "0 1070149738168324\n",
      "0 1083331785523213\n",
      "0 -3809215\n",
      "0 1070114522791936\n",
      "0 1084084218494985\n",
      "0 1070909574086659\n",
      "0 1070786127331332\n",
      "0 1071207118012417\n",
      "0 1084401257545729\n",
      "0 1071060283817985\n",
      "0 1071350089252865\n",
      "0 1071073479098371\n",
      "0 1083411250806790\n",
      "0 1070217111273474\n"
     ]
    },
    {
     "ename": "KeyboardInterrupt",
     "evalue": "",
     "output_type": "error",
     "traceback": [
      "\u001b[0;31m---------------------------------------------------------------------------\u001b[0m",
      "\u001b[0;31mKeyboardInterrupt\u001b[0m                         Traceback (most recent call last)",
      "Cell \u001b[0;32mIn[18], line 38\u001b[0m\n\u001b[1;32m     35\u001b[0m fs_filename \u001b[38;5;241m=\u001b[39m dirs \u001b[38;5;241m+\u001b[39m \u001b[38;5;124m'\u001b[39m\u001b[38;5;124mfastspec\u001b[39m\u001b[38;5;124m'\u001b[39m \u001b[38;5;241m+\u001b[39m file \u001b[38;5;241m+\u001b[39m \u001b[38;5;124m'\u001b[39m\u001b[38;5;124m.gz\u001b[39m\u001b[38;5;124m'\u001b[39m\n\u001b[1;32m     37\u001b[0m \u001b[38;5;66;03m# Open file\u001b[39;00m\n\u001b[0;32m---> 38\u001b[0m fs_file \u001b[38;5;241m=\u001b[39m \u001b[43mTable\u001b[49m\u001b[38;5;241;43m.\u001b[39;49m\u001b[43mread\u001b[49m\u001b[43m(\u001b[49m\u001b[43mfastspecfit_directory\u001b[49m\u001b[43m \u001b[49m\u001b[38;5;241;43m+\u001b[39;49m\u001b[43m \u001b[49m\u001b[43mfs_filename\u001b[49m\u001b[43m,\u001b[49m\u001b[43m \u001b[49m\u001b[43mhdu\u001b[49m\u001b[38;5;241;43m=\u001b[39;49m\u001b[38;5;241;43m1\u001b[39;49m\u001b[43m)\u001b[49m\n\u001b[1;32m     40\u001b[0m \u001b[38;5;66;03m# Find row for this targetid\u001b[39;00m\n\u001b[1;32m     41\u001b[0m targetid_idx \u001b[38;5;241m=\u001b[39m fs_file[\u001b[38;5;124m'\u001b[39m\u001b[38;5;124mTARGETID\u001b[39m\u001b[38;5;124m'\u001b[39m] \u001b[38;5;241m==\u001b[39m targetids[j]\n",
      "File \u001b[0;32m/global/common/software/desi/perlmutter/desiconda/20240425-2.2.0/conda/lib/python3.10/site-packages/astropy/table/connect.py:62\u001b[0m, in \u001b[0;36mTableRead.__call__\u001b[0;34m(self, *args, **kwargs)\u001b[0m\n\u001b[1;32m     59\u001b[0m units \u001b[38;5;241m=\u001b[39m kwargs\u001b[38;5;241m.\u001b[39mpop(\u001b[38;5;124m\"\u001b[39m\u001b[38;5;124munits\u001b[39m\u001b[38;5;124m\"\u001b[39m, \u001b[38;5;28;01mNone\u001b[39;00m)\n\u001b[1;32m     60\u001b[0m descriptions \u001b[38;5;241m=\u001b[39m kwargs\u001b[38;5;241m.\u001b[39mpop(\u001b[38;5;124m\"\u001b[39m\u001b[38;5;124mdescriptions\u001b[39m\u001b[38;5;124m\"\u001b[39m, \u001b[38;5;28;01mNone\u001b[39;00m)\n\u001b[0;32m---> 62\u001b[0m out \u001b[38;5;241m=\u001b[39m \u001b[38;5;28;43mself\u001b[39;49m\u001b[38;5;241;43m.\u001b[39;49m\u001b[43mregistry\u001b[49m\u001b[38;5;241;43m.\u001b[39;49m\u001b[43mread\u001b[49m\u001b[43m(\u001b[49m\u001b[38;5;28;43mcls\u001b[39;49m\u001b[43m,\u001b[49m\u001b[43m \u001b[49m\u001b[38;5;241;43m*\u001b[39;49m\u001b[43margs\u001b[49m\u001b[43m,\u001b[49m\u001b[43m \u001b[49m\u001b[38;5;241;43m*\u001b[39;49m\u001b[38;5;241;43m*\u001b[39;49m\u001b[43mkwargs\u001b[49m\u001b[43m)\u001b[49m\n\u001b[1;32m     64\u001b[0m \u001b[38;5;66;03m# For some readers (e.g., ascii.ecsv), the returned `out` class is not\u001b[39;00m\n\u001b[1;32m     65\u001b[0m \u001b[38;5;66;03m# guaranteed to be the same as the desired output `cls`.  If so,\u001b[39;00m\n\u001b[1;32m     66\u001b[0m \u001b[38;5;66;03m# try coercing to desired class without copying (io.registry.read\u001b[39;00m\n\u001b[1;32m     67\u001b[0m \u001b[38;5;66;03m# would normally do a copy).  The normal case here is swapping\u001b[39;00m\n\u001b[1;32m     68\u001b[0m \u001b[38;5;66;03m# Table <=> QTable.\u001b[39;00m\n\u001b[1;32m     69\u001b[0m \u001b[38;5;28;01mif\u001b[39;00m \u001b[38;5;28mcls\u001b[39m \u001b[38;5;129;01mis\u001b[39;00m \u001b[38;5;129;01mnot\u001b[39;00m out\u001b[38;5;241m.\u001b[39m\u001b[38;5;18m__class__\u001b[39m:\n",
      "File \u001b[0;32m/global/common/software/desi/perlmutter/desiconda/20240425-2.2.0/conda/lib/python3.10/site-packages/astropy/io/registry/core.py:221\u001b[0m, in \u001b[0;36mUnifiedInputRegistry.read\u001b[0;34m(self, cls, format, cache, *args, **kwargs)\u001b[0m\n\u001b[1;32m    218\u001b[0m         kwargs\u001b[38;5;241m.\u001b[39mupdate({\u001b[38;5;124m\"\u001b[39m\u001b[38;5;124mfilename\u001b[39m\u001b[38;5;124m\"\u001b[39m: path})\n\u001b[1;32m    220\u001b[0m reader \u001b[38;5;241m=\u001b[39m \u001b[38;5;28mself\u001b[39m\u001b[38;5;241m.\u001b[39mget_reader(\u001b[38;5;28mformat\u001b[39m, \u001b[38;5;28mcls\u001b[39m)\n\u001b[0;32m--> 221\u001b[0m data \u001b[38;5;241m=\u001b[39m \u001b[43mreader\u001b[49m\u001b[43m(\u001b[49m\u001b[38;5;241;43m*\u001b[39;49m\u001b[43margs\u001b[49m\u001b[43m,\u001b[49m\u001b[43m \u001b[49m\u001b[38;5;241;43m*\u001b[39;49m\u001b[38;5;241;43m*\u001b[39;49m\u001b[43mkwargs\u001b[49m\u001b[43m)\u001b[49m\n\u001b[1;32m    223\u001b[0m \u001b[38;5;28;01mif\u001b[39;00m \u001b[38;5;129;01mnot\u001b[39;00m \u001b[38;5;28misinstance\u001b[39m(data, \u001b[38;5;28mcls\u001b[39m):\n\u001b[1;32m    224\u001b[0m     \u001b[38;5;66;03m# User has read with a subclass where only the parent class is\u001b[39;00m\n\u001b[1;32m    225\u001b[0m     \u001b[38;5;66;03m# registered.  This returns the parent class, so try coercing\u001b[39;00m\n\u001b[1;32m    226\u001b[0m     \u001b[38;5;66;03m# to desired subclass.\u001b[39;00m\n\u001b[1;32m    227\u001b[0m     \u001b[38;5;28;01mtry\u001b[39;00m:\n",
      "File \u001b[0;32m/global/common/software/desi/perlmutter/desiconda/20240425-2.2.0/conda/lib/python3.10/site-packages/astropy/io/fits/connect.py:246\u001b[0m, in \u001b[0;36mread_table_fits\u001b[0;34m(input, hdu, astropy_native, memmap, character_as_bytes, unit_parse_strict, mask_invalid)\u001b[0m\n\u001b[1;32m    243\u001b[0m hdulist \u001b[38;5;241m=\u001b[39m fits_open(\u001b[38;5;28minput\u001b[39m, character_as_bytes\u001b[38;5;241m=\u001b[39mcharacter_as_bytes, memmap\u001b[38;5;241m=\u001b[39mmemmap)\n\u001b[1;32m    245\u001b[0m \u001b[38;5;28;01mtry\u001b[39;00m:\n\u001b[0;32m--> 246\u001b[0m     \u001b[38;5;28;01mreturn\u001b[39;00m \u001b[43mread_table_fits\u001b[49m\u001b[43m(\u001b[49m\n\u001b[1;32m    247\u001b[0m \u001b[43m        \u001b[49m\u001b[43mhdulist\u001b[49m\u001b[43m,\u001b[49m\n\u001b[1;32m    248\u001b[0m \u001b[43m        \u001b[49m\u001b[43mhdu\u001b[49m\u001b[38;5;241;43m=\u001b[39;49m\u001b[43mhdu\u001b[49m\u001b[43m,\u001b[49m\n\u001b[1;32m    249\u001b[0m \u001b[43m        \u001b[49m\u001b[43mastropy_native\u001b[49m\u001b[38;5;241;43m=\u001b[39;49m\u001b[43mastropy_native\u001b[49m\u001b[43m,\u001b[49m\n\u001b[1;32m    250\u001b[0m \u001b[43m        \u001b[49m\u001b[43munit_parse_strict\u001b[49m\u001b[38;5;241;43m=\u001b[39;49m\u001b[43munit_parse_strict\u001b[49m\u001b[43m,\u001b[49m\n\u001b[1;32m    251\u001b[0m \u001b[43m        \u001b[49m\u001b[43mmask_invalid\u001b[49m\u001b[38;5;241;43m=\u001b[39;49m\u001b[43mmask_invalid\u001b[49m\u001b[43m,\u001b[49m\n\u001b[1;32m    252\u001b[0m \u001b[43m    \u001b[49m\u001b[43m)\u001b[49m\n\u001b[1;32m    253\u001b[0m \u001b[38;5;28;01mfinally\u001b[39;00m:\n\u001b[1;32m    254\u001b[0m     hdulist\u001b[38;5;241m.\u001b[39mclose()\n",
      "File \u001b[0;32m/global/common/software/desi/perlmutter/desiconda/20240425-2.2.0/conda/lib/python3.10/site-packages/astropy/io/fits/connect.py:258\u001b[0m, in \u001b[0;36mread_table_fits\u001b[0;34m(input, hdu, astropy_native, memmap, character_as_bytes, unit_parse_strict, mask_invalid)\u001b[0m\n\u001b[1;32m    254\u001b[0m         hdulist\u001b[38;5;241m.\u001b[39mclose()\n\u001b[1;32m    256\u001b[0m \u001b[38;5;66;03m# In the loop below we access the data using data[col.name] rather than\u001b[39;00m\n\u001b[1;32m    257\u001b[0m \u001b[38;5;66;03m# col.array to make sure that the data is scaled correctly if needed.\u001b[39;00m\n\u001b[0;32m--> 258\u001b[0m data \u001b[38;5;241m=\u001b[39m \u001b[43mtable\u001b[49m\u001b[38;5;241;43m.\u001b[39;49m\u001b[43mdata\u001b[49m\n\u001b[1;32m    260\u001b[0m columns \u001b[38;5;241m=\u001b[39m []\n\u001b[1;32m    261\u001b[0m \u001b[38;5;28;01mfor\u001b[39;00m col \u001b[38;5;129;01min\u001b[39;00m data\u001b[38;5;241m.\u001b[39mcolumns:\n\u001b[1;32m    262\u001b[0m     \u001b[38;5;66;03m# Check if column is masked. Here, we make a guess based on the\u001b[39;00m\n\u001b[1;32m    263\u001b[0m     \u001b[38;5;66;03m# presence of FITS mask values. For integer columns, this is simply\u001b[39;00m\n\u001b[0;32m   (...)\u001b[0m\n\u001b[1;32m    269\u001b[0m     \u001b[38;5;66;03m# floats and strings to the column's fill_value to ensure round trips\u001b[39;00m\n\u001b[1;32m    270\u001b[0m     \u001b[38;5;66;03m# preserve null values.\u001b[39;00m\n",
      "File \u001b[0;32m/global/common/software/desi/perlmutter/desiconda/20240425-2.2.0/conda/lib/python3.10/site-packages/astropy/utils/decorators.py:837\u001b[0m, in \u001b[0;36mlazyproperty.__get__\u001b[0;34m(self, obj, owner)\u001b[0m\n\u001b[1;32m    835\u001b[0m         val \u001b[38;5;241m=\u001b[39m obj_dict\u001b[38;5;241m.\u001b[39mget(\u001b[38;5;28mself\u001b[39m\u001b[38;5;241m.\u001b[39m_key, _NotFound)\n\u001b[1;32m    836\u001b[0m         \u001b[38;5;28;01mif\u001b[39;00m val \u001b[38;5;129;01mis\u001b[39;00m _NotFound:\n\u001b[0;32m--> 837\u001b[0m             val \u001b[38;5;241m=\u001b[39m \u001b[38;5;28;43mself\u001b[39;49m\u001b[38;5;241;43m.\u001b[39;49m\u001b[43mfget\u001b[49m\u001b[43m(\u001b[49m\u001b[43mobj\u001b[49m\u001b[43m)\u001b[49m\n\u001b[1;32m    838\u001b[0m             obj_dict[\u001b[38;5;28mself\u001b[39m\u001b[38;5;241m.\u001b[39m_key] \u001b[38;5;241m=\u001b[39m val\n\u001b[1;32m    839\u001b[0m \u001b[38;5;28;01mreturn\u001b[39;00m val\n",
      "File \u001b[0;32m/global/common/software/desi/perlmutter/desiconda/20240425-2.2.0/conda/lib/python3.10/site-packages/astropy/io/fits/hdu/table.py:407\u001b[0m, in \u001b[0;36m_TableBaseHDU.data\u001b[0;34m(self)\u001b[0m\n\u001b[1;32m    405\u001b[0m \u001b[38;5;129m@lazyproperty\u001b[39m\n\u001b[1;32m    406\u001b[0m \u001b[38;5;28;01mdef\u001b[39;00m \u001b[38;5;21mdata\u001b[39m(\u001b[38;5;28mself\u001b[39m):\n\u001b[0;32m--> 407\u001b[0m     data \u001b[38;5;241m=\u001b[39m \u001b[38;5;28;43mself\u001b[39;49m\u001b[38;5;241;43m.\u001b[39;49m\u001b[43m_get_tbdata\u001b[49m\u001b[43m(\u001b[49m\u001b[43m)\u001b[49m\n\u001b[1;32m    408\u001b[0m     data\u001b[38;5;241m.\u001b[39m_coldefs \u001b[38;5;241m=\u001b[39m \u001b[38;5;28mself\u001b[39m\u001b[38;5;241m.\u001b[39mcolumns\n\u001b[1;32m    409\u001b[0m     data\u001b[38;5;241m.\u001b[39m_character_as_bytes \u001b[38;5;241m=\u001b[39m \u001b[38;5;28mself\u001b[39m\u001b[38;5;241m.\u001b[39m_character_as_bytes\n",
      "File \u001b[0;32m/global/common/software/desi/perlmutter/desiconda/20240425-2.2.0/conda/lib/python3.10/site-packages/astropy/io/fits/hdu/table.py:193\u001b[0m, in \u001b[0;36m_TableLikeHDU._get_tbdata\u001b[0;34m(self)\u001b[0m\n\u001b[1;32m    191\u001b[0m     data \u001b[38;5;241m=\u001b[39m raw_data[:tbsize]\u001b[38;5;241m.\u001b[39mview(dtype\u001b[38;5;241m=\u001b[39mcolumns\u001b[38;5;241m.\u001b[39mdtype, \u001b[38;5;28mtype\u001b[39m\u001b[38;5;241m=\u001b[39mnp\u001b[38;5;241m.\u001b[39mrec\u001b[38;5;241m.\u001b[39mrecarray)\n\u001b[1;32m    192\u001b[0m \u001b[38;5;28;01melse\u001b[39;00m:\n\u001b[0;32m--> 193\u001b[0m     raw_data \u001b[38;5;241m=\u001b[39m \u001b[38;5;28;43mself\u001b[39;49m\u001b[38;5;241;43m.\u001b[39;49m\u001b[43m_get_raw_data\u001b[49m\u001b[43m(\u001b[49m\u001b[38;5;28;43mself\u001b[39;49m\u001b[38;5;241;43m.\u001b[39;49m\u001b[43m_nrows\u001b[49m\u001b[43m,\u001b[49m\u001b[43m \u001b[49m\u001b[43mcolumns\u001b[49m\u001b[38;5;241;43m.\u001b[39;49m\u001b[43mdtype\u001b[49m\u001b[43m,\u001b[49m\u001b[43m \u001b[49m\u001b[38;5;28;43mself\u001b[39;49m\u001b[38;5;241;43m.\u001b[39;49m\u001b[43m_data_offset\u001b[49m\u001b[43m)\u001b[49m\n\u001b[1;32m    194\u001b[0m     \u001b[38;5;28;01mif\u001b[39;00m raw_data \u001b[38;5;129;01mis\u001b[39;00m \u001b[38;5;28;01mNone\u001b[39;00m:\n\u001b[1;32m    195\u001b[0m         \u001b[38;5;66;03m# This can happen when a brand new table HDU is being created\u001b[39;00m\n\u001b[1;32m    196\u001b[0m         \u001b[38;5;66;03m# and no data has been assigned to the columns, which case just\u001b[39;00m\n\u001b[1;32m    197\u001b[0m         \u001b[38;5;66;03m# return an empty array\u001b[39;00m\n\u001b[1;32m    198\u001b[0m         raw_data \u001b[38;5;241m=\u001b[39m np\u001b[38;5;241m.\u001b[39marray([], dtype\u001b[38;5;241m=\u001b[39mcolumns\u001b[38;5;241m.\u001b[39mdtype)\n",
      "File \u001b[0;32m/global/common/software/desi/perlmutter/desiconda/20240425-2.2.0/conda/lib/python3.10/site-packages/astropy/io/fits/hdu/base.py:559\u001b[0m, in \u001b[0;36m_BaseHDU._get_raw_data\u001b[0;34m(self, shape, code, offset)\u001b[0m\n\u001b[1;32m    557\u001b[0m     \u001b[38;5;28;01mreturn\u001b[39;00m np\u001b[38;5;241m.\u001b[39mndarray(shape, dtype\u001b[38;5;241m=\u001b[39mcode, buffer\u001b[38;5;241m=\u001b[39m\u001b[38;5;28mself\u001b[39m\u001b[38;5;241m.\u001b[39m_buffer, offset\u001b[38;5;241m=\u001b[39moffset)\n\u001b[1;32m    558\u001b[0m \u001b[38;5;28;01melif\u001b[39;00m \u001b[38;5;28mself\u001b[39m\u001b[38;5;241m.\u001b[39m_file:\n\u001b[0;32m--> 559\u001b[0m     \u001b[38;5;28;01mreturn\u001b[39;00m \u001b[38;5;28;43mself\u001b[39;49m\u001b[38;5;241;43m.\u001b[39;49m\u001b[43m_file\u001b[49m\u001b[38;5;241;43m.\u001b[39;49m\u001b[43mreadarray\u001b[49m\u001b[43m(\u001b[49m\u001b[43moffset\u001b[49m\u001b[38;5;241;43m=\u001b[39;49m\u001b[43moffset\u001b[49m\u001b[43m,\u001b[49m\u001b[43m \u001b[49m\u001b[43mdtype\u001b[49m\u001b[38;5;241;43m=\u001b[39;49m\u001b[43mcode\u001b[49m\u001b[43m,\u001b[49m\u001b[43m \u001b[49m\u001b[43mshape\u001b[49m\u001b[38;5;241;43m=\u001b[39;49m\u001b[43mshape\u001b[49m\u001b[43m)\u001b[49m\n\u001b[1;32m    560\u001b[0m \u001b[38;5;28;01melse\u001b[39;00m:\n\u001b[1;32m    561\u001b[0m     \u001b[38;5;28;01mreturn\u001b[39;00m \u001b[38;5;28;01mNone\u001b[39;00m\n",
      "File \u001b[0;32m/global/common/software/desi/perlmutter/desiconda/20240425-2.2.0/conda/lib/python3.10/site-packages/astropy/io/fits/file.py:409\u001b[0m, in \u001b[0;36m_File.readarray\u001b[0;34m(self, size, offset, dtype, shape)\u001b[0m\n\u001b[1;32m    402\u001b[0m \u001b[38;5;28;01mfinally\u001b[39;00m:\n\u001b[1;32m    403\u001b[0m     \u001b[38;5;66;03m# Make sure we leave the file in the position we found it; on\u001b[39;00m\n\u001b[1;32m    404\u001b[0m     \u001b[38;5;66;03m# some platforms (e.g. Windows) mmaping a file handle can also\u001b[39;00m\n\u001b[1;32m    405\u001b[0m     \u001b[38;5;66;03m# reset its file pointer.\u001b[39;00m\n\u001b[1;32m    406\u001b[0m     \u001b[38;5;66;03m# Also for Windows when using mmap seek() may return weird\u001b[39;00m\n\u001b[1;32m    407\u001b[0m     \u001b[38;5;66;03m# negative values, which is fixed by calling tell() before.\u001b[39;00m\n\u001b[1;32m    408\u001b[0m     \u001b[38;5;28mself\u001b[39m\u001b[38;5;241m.\u001b[39m_file\u001b[38;5;241m.\u001b[39mtell()\n\u001b[0;32m--> 409\u001b[0m     \u001b[38;5;28;43mself\u001b[39;49m\u001b[38;5;241;43m.\u001b[39;49m\u001b[43m_file\u001b[49m\u001b[38;5;241;43m.\u001b[39;49m\u001b[43mseek\u001b[49m\u001b[43m(\u001b[49m\u001b[43mfilepos\u001b[49m\u001b[43m)\u001b[49m\n",
      "File \u001b[0;32m/global/common/software/desi/perlmutter/desiconda/20240425-2.2.0/conda/lib/python3.10/gzip.py:393\u001b[0m, in \u001b[0;36mGzipFile.seek\u001b[0;34m(self, offset, whence)\u001b[0m\n\u001b[1;32m    391\u001b[0m \u001b[38;5;28;01melif\u001b[39;00m \u001b[38;5;28mself\u001b[39m\u001b[38;5;241m.\u001b[39mmode \u001b[38;5;241m==\u001b[39m READ:\n\u001b[1;32m    392\u001b[0m     \u001b[38;5;28mself\u001b[39m\u001b[38;5;241m.\u001b[39m_check_not_closed()\n\u001b[0;32m--> 393\u001b[0m     \u001b[38;5;28;01mreturn\u001b[39;00m \u001b[38;5;28;43mself\u001b[39;49m\u001b[38;5;241;43m.\u001b[39;49m\u001b[43m_buffer\u001b[49m\u001b[38;5;241;43m.\u001b[39;49m\u001b[43mseek\u001b[49m\u001b[43m(\u001b[49m\u001b[43moffset\u001b[49m\u001b[43m,\u001b[49m\u001b[43m \u001b[49m\u001b[43mwhence\u001b[49m\u001b[43m)\u001b[49m\n\u001b[1;32m    395\u001b[0m \u001b[38;5;28;01mreturn\u001b[39;00m \u001b[38;5;28mself\u001b[39m\u001b[38;5;241m.\u001b[39moffset\n",
      "File \u001b[0;32m/global/common/software/desi/perlmutter/desiconda/20240425-2.2.0/conda/lib/python3.10/_compression.py:153\u001b[0m, in \u001b[0;36mDecompressReader.seek\u001b[0;34m(self, offset, whence)\u001b[0m\n\u001b[1;32m    151\u001b[0m \u001b[38;5;66;03m# Read and discard data until we reach the desired position.\u001b[39;00m\n\u001b[1;32m    152\u001b[0m \u001b[38;5;28;01mwhile\u001b[39;00m offset \u001b[38;5;241m>\u001b[39m \u001b[38;5;241m0\u001b[39m:\n\u001b[0;32m--> 153\u001b[0m     data \u001b[38;5;241m=\u001b[39m \u001b[38;5;28;43mself\u001b[39;49m\u001b[38;5;241;43m.\u001b[39;49m\u001b[43mread\u001b[49m\u001b[43m(\u001b[49m\u001b[38;5;28;43mmin\u001b[39;49m\u001b[43m(\u001b[49m\u001b[43mio\u001b[49m\u001b[38;5;241;43m.\u001b[39;49m\u001b[43mDEFAULT_BUFFER_SIZE\u001b[49m\u001b[43m,\u001b[49m\u001b[43m \u001b[49m\u001b[43moffset\u001b[49m\u001b[43m)\u001b[49m\u001b[43m)\u001b[49m\n\u001b[1;32m    154\u001b[0m     \u001b[38;5;28;01mif\u001b[39;00m \u001b[38;5;129;01mnot\u001b[39;00m data:\n\u001b[1;32m    155\u001b[0m         \u001b[38;5;28;01mbreak\u001b[39;00m\n",
      "File \u001b[0;32m/global/common/software/desi/perlmutter/desiconda/20240425-2.2.0/conda/lib/python3.10/gzip.py:496\u001b[0m, in \u001b[0;36m_GzipReader.read\u001b[0;34m(self, size)\u001b[0m\n\u001b[1;32m    493\u001b[0m \u001b[38;5;66;03m# Read a chunk of data from the file\u001b[39;00m\n\u001b[1;32m    494\u001b[0m buf \u001b[38;5;241m=\u001b[39m \u001b[38;5;28mself\u001b[39m\u001b[38;5;241m.\u001b[39m_fp\u001b[38;5;241m.\u001b[39mread(io\u001b[38;5;241m.\u001b[39mDEFAULT_BUFFER_SIZE)\n\u001b[0;32m--> 496\u001b[0m uncompress \u001b[38;5;241m=\u001b[39m \u001b[38;5;28;43mself\u001b[39;49m\u001b[38;5;241;43m.\u001b[39;49m\u001b[43m_decompressor\u001b[49m\u001b[38;5;241;43m.\u001b[39;49m\u001b[43mdecompress\u001b[49m\u001b[43m(\u001b[49m\u001b[43mbuf\u001b[49m\u001b[43m,\u001b[49m\u001b[43m \u001b[49m\u001b[43msize\u001b[49m\u001b[43m)\u001b[49m\n\u001b[1;32m    497\u001b[0m \u001b[38;5;28;01mif\u001b[39;00m \u001b[38;5;28mself\u001b[39m\u001b[38;5;241m.\u001b[39m_decompressor\u001b[38;5;241m.\u001b[39munconsumed_tail \u001b[38;5;241m!=\u001b[39m \u001b[38;5;124mb\u001b[39m\u001b[38;5;124m\"\u001b[39m\u001b[38;5;124m\"\u001b[39m:\n\u001b[1;32m    498\u001b[0m     \u001b[38;5;28mself\u001b[39m\u001b[38;5;241m.\u001b[39m_fp\u001b[38;5;241m.\u001b[39mprepend(\u001b[38;5;28mself\u001b[39m\u001b[38;5;241m.\u001b[39m_decompressor\u001b[38;5;241m.\u001b[39munconsumed_tail)\n",
      "\u001b[0;31mKeyboardInterrupt\u001b[0m: "
     ]
    }
   ],
   "source": [
    "gals['HALPHA_FLUX'] = np.nan\n",
    "gals['HBETA_FLUX'] = np.nan\n",
    "gals['HALPHA_FLUX_ERR'] = np.nan\n",
    "gals['HBETA_FLUX_ERR'] = np.nan\n",
    "\n",
    "# Only consider those targets for which RedRock thinks it has a good fit\n",
    "targets_good = targets[targets['DELTACHI2'] > 25]\n",
    "\n",
    "for i in range(len(gals)):\n",
    "    \n",
    "    # Identify all galaxy targets on this galaxy\n",
    "    obs_idx = targets_good['SGA_ID'] == gals['SGA_ID'][i]\n",
    "    \n",
    "    # Identify targetIDs for galaxy\n",
    "    targetids = targets_good['TARGETID'][obs_idx]\n",
    "    # print(targetids)\n",
    "    \n",
    "    # Identify filenames for galaxy\n",
    "    filenames = targets_good['FILENAME'][obs_idx]\n",
    "    \n",
    "    # Initialize Ha, Hb arrays\n",
    "    Ha = np.zeros(sum(obs_idx))\n",
    "    Hb = np.zeros(sum(obs_idx))\n",
    "    Ha_ivar = np.zeros(sum(obs_idx))\n",
    "    Hb_ivar = np.zeros(sum(obs_idx))\n",
    "    \n",
    "    # Extract fluxes from fastspecfit catalog\n",
    "    for j in range(len(filenames)):\n",
    "        \n",
    "        # Strip \"fuji/\" from filename\n",
    "        rr_filename = filenames[j][5:]\n",
    "        \n",
    "        # Replace \"redrock\" with \"fastspec\"\n",
    "        dirs, file = rr_filename.split('redrock')\n",
    "        fs_filename = dirs + 'fastspec' + file + '.gz'\n",
    "        \n",
    "        # Open file\n",
    "        fs_file = Table.read(fastspecfit_directory + fs_filename, hdu=1)\n",
    "        \n",
    "        # Find row for this targetid\n",
    "        targetid_idx = fs_file['TARGETID'] == targetids[j]\n",
    "        \n",
    "        if sum(targetid_idx) == 1:\n",
    "            # Extract Ha, Hb fluxes\n",
    "            Ha[j] = fs_file['HALPHA_FLUX'][targetid_idx]\n",
    "            Hb[j] = fs_file['HBETA_FLUX'][targetid_idx]\n",
    "            Ha_ivar[j] = fs_file['HALPHA_FLUX_IVAR'][targetid_idx]\n",
    "            Hb_ivar[j] = fs_file['HBETA_FLUX_IVAR'][targetid_idx]\n",
    "        else:\n",
    "            print(sum(targetid_idx), targetids[j])\n",
    "    \n",
    "    # print(Ha/Hb)\n",
    "    \n",
    "    # Compute \"total\" fluxes\n",
    "    gals['HALPHA_FLUX'][i] = np.sum(Ha)\n",
    "    gals['HBETA_FLUX'][i] = np.sum(Hb)\n",
    "    gals['HALPHA_FLUX_ERR'][i] = np.sqrt(np.nansum(1/Ha_ivar**2))\n",
    "    gals['HBETA_FLUX_ERR'][i] = np.sqrt(np.nansum(1/Hb_ivar**2))"
   ]
  },
  {
   "cell_type": "code",
   "execution_count": null,
   "id": "b567342a-6051-4259-b492-5d866714d1aa",
   "metadata": {},
   "outputs": [],
   "source": []
  },
  {
   "cell_type": "code",
   "execution_count": null,
   "id": "00317b74-c156-486c-950d-4c2a3af98467",
   "metadata": {},
   "outputs": [],
   "source": []
  },
  {
   "cell_type": "code",
   "execution_count": null,
   "id": "010e31a2-3bbc-4640-a709-bf3e6a807d15",
   "metadata": {},
   "outputs": [],
   "source": []
  },
  {
   "cell_type": "markdown",
   "id": "f95969ff-77ad-429b-8522-647669001613",
   "metadata": {},
   "source": [
    "## 2. Compute $E(B-V)$ value for each galaxy\n",
    "\n",
    "$A_\\lambda / A_V$ from [O'Donnell (1994)](https://ui.adsabs.harvard.edu/abs/1994ApJ...422..158O/abstract)"
   ]
  },
  {
   "cell_type": "code",
   "execution_count": 7,
   "id": "d7c2ebe9-62e9-4257-959b-c0fc75750b3c",
   "metadata": {
    "tags": []
   },
   "outputs": [],
   "source": [
    "def ODon94(wave, Rv):\n",
    "    '''\n",
    "    Calculate the interstellar extinction, A(lambda)/Av, using the extinction curve defined in O'Donnell (1994).\n",
    "    \n",
    "    \n",
    "    PARAMETERS\n",
    "    ==========\n",
    "    \n",
    "    wave : float\n",
    "        Wavelength for which the extinction should be calculated.  Units are Angstroms.\n",
    "        \n",
    "    Rv : float\n",
    "        Extinction ratio\n",
    "        \n",
    "        \n",
    "    RETURNS\n",
    "    =======\n",
    "    \n",
    "    AwAv : float\n",
    "        The interstellar extinction for the given wavelength.\n",
    "    '''\n",
    "    \n",
    "    # Convert wavelength to microns\n",
    "    wave_um = wave/1e4\n",
    "    \n",
    "    # Calculate inverse wavelength\n",
    "    x = 1/wave_um\n",
    "    \n",
    "    # Calculate wavelength shift\n",
    "    y = x - 1.82\n",
    "    \n",
    "    # Calculate coefficients\n",
    "    a = 1 + 0.104*y - 0.609*y**2 + 0.701*y**3 + 1.137*y**4 - 1.718*y**5 - 0.827*y**6 + 1.647*y**7 - 0.505*y**8\n",
    "    b = 1.952*y + 2.908*y**2 - 3.989*y**3 - 7.985*y**4 + 11.102*y**5 + 5.491*y**6 - 10.805*y**7 + 3.347*y**8\n",
    "    \n",
    "    print(a, b)\n",
    "    \n",
    "    # Calculate extinction\n",
    "    AwAv = a + b/Rv\n",
    "    \n",
    "    return AwAv"
   ]
  },
  {
   "cell_type": "code",
   "execution_count": null,
   "id": "8ad54b34-a60c-4b24-b399-39830537a068",
   "metadata": {},
   "outputs": [],
   "source": [
    "gals['EBV'] = np.nan\n",
    "gals['EBV_ERR'] = np.nan\n",
    "\n",
    "AHaAv = ODon94(6563, Rv)\n",
    "AHbAv = ODon94(4861, Rv)\n",
    "\n",
    "gals['EBV'] = 2.5*np.log10(2.86/HaHb)/(Rv*(AHaAv - AHbAv))"
   ]
  },
  {
   "cell_type": "markdown",
   "id": "49562817-f3f3-4f01-8946-501c1e1a97d7",
   "metadata": {},
   "source": [
    "## 3. Compute dust extinction correction\n",
    "\n",
    "\\begin{equation}\n",
    "  A_\\text{dust} = R_r E(B - V)\n",
    "\\end{equation}"
   ]
  },
  {
   "cell_type": "code",
   "execution_count": null,
   "id": "a318a505-3593-44e6-b879-db1b59ceff54",
   "metadata": {},
   "outputs": [],
   "source": [
    "gals['Adust'] = Rr * gals['EBV']\n",
    "gals['Adust_err'] = Rr * gals['EBV_ERR']"
   ]
  },
  {
   "cell_type": "code",
   "execution_count": null,
   "id": "45a9fb7e-7b9e-48d4-9136-d772044b88c9",
   "metadata": {},
   "outputs": [],
   "source": [
    "plt.figure(tight_layout=True)\n",
    "\n",
    "plt.hist(gals['Adust'], bins=np.arange(-0.1, 0.15, 0.005))\n",
    "\n",
    "plt.xlabel(r'$A_\\text{dust}$ [mag]', fontsize=16)\n",
    "plt.ylabel('number of galaxies', fontsize=16)\n",
    "\n",
    "plt.tick_params(axis='both', which='major', labelsize=14);\n",
    "\n",
    "# plt.savefig('../Figures/SV/fuji_Adust_hist_20240701.png', dpi=150);"
   ]
  },
  {
   "cell_type": "markdown",
   "id": "f70693ed-a0c1-4040-95a9-e7dd86b6e9ae",
   "metadata": {},
   "source": [
    "## 4. Apply dust correction"
   ]
  },
  {
   "cell_type": "code",
   "execution_count": null,
   "id": "51b50114-86e5-456a-b18f-a52504e7fd6e",
   "metadata": {},
   "outputs": [],
   "source": [
    "if 'R_MAG_SB26_CORR' not in gals.colnames:    \n",
    "    gals['R_MAG_SB26_CORR'] = gals['R_MAG_SB26']\n",
    "    gals['R_MAG_SB26_CORR_ERR'] = gals['R_MAG_SB26_ERR']\n",
    "\n",
    "# Only adjust those galaxies which have valid corrections\n",
    "nan_gal = np.isnan(gals['Adust'])\n",
    "    \n",
    "gals['R_MAG_SB26_CORR'][~nan_gal] -= gals['Adust'][~nan_gal]\n",
    "gals['R_MAG_SB26_CORR_ERR'][~nan_gal] = np.sqrt(gals['R_MAG_SB26_CORR_ERR'][~nan_gal]**2 + gals['Adust_err'][~nan_gal]**2)"
   ]
  }
 ],
 "metadata": {
  "kernelspec": {
   "display_name": "DESI main",
   "language": "python",
   "name": "desi-main"
  },
  "language_info": {
   "codemirror_mode": {
    "name": "ipython",
    "version": 3
   },
   "file_extension": ".py",
   "mimetype": "text/x-python",
   "name": "python",
   "nbconvert_exporter": "python",
   "pygments_lexer": "ipython3",
   "version": "3.10.14"
  }
 },
 "nbformat": 4,
 "nbformat_minor": 5
}
