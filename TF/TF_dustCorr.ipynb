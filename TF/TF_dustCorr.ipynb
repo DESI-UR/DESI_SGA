{
 "cells": [
  {
   "cell_type": "markdown",
   "id": "13155905-d495-49af-9634-2a3d2c880813",
   "metadata": {},
   "source": [
    "Correct for dust extinction due to both Galactic dust and the extinction within the galaxy (should be a function of inclination)."
   ]
  },
  {
   "cell_type": "code",
   "execution_count": 1,
   "id": "fd0ebaa6-738d-44f6-a3fa-f28b9aec7932",
   "metadata": {
    "tags": []
   },
   "outputs": [],
   "source": [
    "import numpy as np\n",
    "\n",
    "from astropy.table import Table\n",
    "from astropy.io import fits\n",
    "from astropy.coordinates import SkyCoord\n",
    "import astropy.constants as const\n",
    "import astropy.units as u\n",
    "\n",
    "import time\n",
    "\n",
    "import matplotlib.pyplot as plt"
   ]
  },
  {
   "cell_type": "code",
   "execution_count": 2,
   "id": "acab4163-11f7-4edb-97f3-4dd7f5098886",
   "metadata": {
    "tags": []
   },
   "outputs": [],
   "source": [
    "c = const.c.to('km/s')\n",
    "\n",
    "q0 = 0.2"
   ]
  },
  {
   "cell_type": "markdown",
   "id": "46267890-5c95-4101-85b4-7b6d7114ed49",
   "metadata": {},
   "source": [
    "# Data"
   ]
  },
  {
   "cell_type": "markdown",
   "id": "7fb45225-ef95-4439-bbd1-8c8f68085d34",
   "metadata": {},
   "source": [
    "## Galaxies"
   ]
  },
  {
   "cell_type": "code",
   "execution_count": 3,
   "id": "c2efb728-a717-442d-8ea5-13a4ba7d5982",
   "metadata": {
    "tags": []
   },
   "outputs": [],
   "source": [
    "gals_directory = '/global/cfs/cdirs/desi/science/td/pv/tfgalaxies/SV/'\n",
    "\n",
    "gals_filename = 'SGA-2020_fuji_Vrot_phot-K-Corr.fits'\n",
    "\n",
    "gals = Table.read(gals_directory + gals_filename)"
   ]
  },
  {
   "cell_type": "code",
   "execution_count": 4,
   "id": "85ee1e6d-952f-47d3-ac94-b93a8078cd5b",
   "metadata": {
    "tags": []
   },
   "outputs": [],
   "source": [
    "targets_directory = '/global/cfs/projectdirs/desi/science/td/pv/'\n",
    "\n",
    "targets_filename = 'desi_pv_tf_fuji_healpix.fits'\n",
    "\n",
    "targets = Table.read(targets_directory + targets_filename)"
   ]
  },
  {
   "cell_type": "code",
   "execution_count": 5,
   "id": "a89db58f-1721-4a89-ad0f-8cb12a18f1d9",
   "metadata": {
    "tags": []
   },
   "outputs": [],
   "source": [
    "fastspecfit_directory = '/global/cfs/cdirs/desi/public/edr/vac/edr/fastspecfit/fuji/v3.2/'"
   ]
  },
  {
   "cell_type": "markdown",
   "id": "7a33e074-eb28-4ead-9af7-aba8a4cc4ded",
   "metadata": {},
   "source": [
    "# Dust extinction\n",
    "\n",
    "Ratios of total to selective extinction (rederived from Schlafly11 and listed on https://www.legacysurvey.org/dr10/catalogs/#galactic-extinction-coefficients)"
   ]
  },
  {
   "cell_type": "code",
   "execution_count": 6,
   "id": "426a28fe-b204-41bd-ae45-77b2469e4c36",
   "metadata": {
    "tags": []
   },
   "outputs": [],
   "source": [
    "Rr = 2.165\n",
    "Rv = 3.1 # from Schlafly & Finkbeiner (2011) - https://ui.adsabs.harvard.edu/abs/2011ApJ...737..103S/abstract"
   ]
  },
  {
   "cell_type": "markdown",
   "id": "a98b8c58-a539-44cc-889b-7c5fef295577",
   "metadata": {},
   "source": [
    "## 1. Extract line fluxes\n",
    "\n",
    "We need to identify which spectra were actually used in the analysis, so that we can use \"good\" flux estimates."
   ]
  },
  {
   "cell_type": "code",
   "execution_count": 7,
   "id": "6b7616d8-734d-4899-9802-a128344629f6",
   "metadata": {
    "tags": []
   },
   "outputs": [],
   "source": [
    "################################################################################\n",
    "# Separate the data into center and off-center observations\n",
    "#-------------------------------------------------------------------------------\n",
    "targets['SKY_FIBER_DIST'] = 0.\n",
    "targets['SKY_FIBER_DIST_R26'] = 0.\n",
    "targets['V_ROT'] = np.nan\n",
    "targets['V_ROT_ERR'] = np.nan\n",
    "\n",
    "\n",
    "for i in range(len(gals)):\n",
    "    \n",
    "    # Identify all galaxy targets on this galaxy\n",
    "    obs_idx = targets['SGA_ID'] == gals['SGA_ID'][i]\n",
    "    \n",
    "    #---------------------------------------------------------------------------\n",
    "    # Calculate distance between each observation and the center of the galaxy\n",
    "    #---------------------------------------------------------------------------\n",
    "    gal_coords = SkyCoord(ra=gals['RA'][i], \n",
    "                          dec=gals['DEC'][i], \n",
    "                          unit=u.degree)\n",
    "    target_coords = SkyCoord(ra=targets['RA'][obs_idx], \n",
    "                             dec=targets['DEC'][obs_idx], \n",
    "                             unit=u.degree)\n",
    "    \n",
    "    sep2d = target_coords.separation(gal_coords)\n",
    "    \n",
    "    targets['SKY_FIBER_DIST'][obs_idx] = sep2d\n",
    "    targets['SKY_FIBER_DIST_R26'][obs_idx] = 2*sep2d.to('arcmin')/(gals['D26'][i]*u.arcmin)\n",
    "    #---------------------------------------------------------------------------\n",
    "    \n",
    "    \n",
    "    #---------------------------------------------------------------------------\n",
    "    # Calculate the rotational velocity\n",
    "    #---------------------------------------------------------------------------\n",
    "    targets['V_ROT'][obs_idx] = c*(targets['Z'][obs_idx] - gals['Z_DESI'][i])\n",
    "    targets['V_ROT_ERR'][obs_idx] = c*np.sqrt(targets['ZERR'][obs_idx]**2 + gals['ZERR_DESI'][i]**2)\n",
    "    #---------------------------------------------------------------------------\n",
    "    \n",
    "    \n",
    "    #---------------------------------------------------------------------------\n",
    "    # Correct rotational velocities for inclination angle\n",
    "    #---------------------------------------------------------------------------\n",
    "    cosi2 = (gals['BA'][i]**2 - q0**2)/(1 - q0**2)\n",
    "    \n",
    "    # Galaxies with b/a < q0\n",
    "    if cosi2 < 0:\n",
    "        cosi2 = 0\n",
    "        \n",
    "    targets['V_ROT'][obs_idx] /= np.sin(np.arccos(np.sqrt(cosi2)))\n",
    "    #---------------------------------------------------------------------------\n",
    "\n",
    "\n",
    "centers_boolean = targets['SKY_FIBER_DIST_R26'] < 0.1\n",
    "\n",
    "target_centers = targets[centers_boolean]\n",
    "# target_axis = targets[~centers_boolean]\n",
    "################################################################################\n",
    "\n",
    "\n",
    "################################################################################\n",
    "# Clean the center observations\n",
    "#\n",
    "# Only keep those with\n",
    "#  - DELTACHI2 > 25\n",
    "#  - ZWARN == 0\n",
    "#-------------------------------------------------------------------------------\n",
    "good_centers = target_centers[(target_centers['DELTACHI2'] > 25) & (target_centers['ZWARN'] == 0)]\n",
    "################################################################################\n",
    "\n",
    "'''\n",
    "################################################################################\n",
    "# Clean the axis observations\n",
    "#\n",
    "# Requirements:\n",
    "#  - 10 < Vrot < 1000 km/s\n",
    "#  - Delta V / Vmin <= 5\n",
    "#-------------------------------------------------------------------------------\n",
    "# Velocity cut\n",
    "#-------------------------------------------------------------------------------\n",
    "good_axis = target_axis[(np.abs(target_axis['V_ROT']) < 1000) & (np.abs(target_axis['V_ROT']) > 10)]\n",
    "#-------------------------------------------------------------------------------\n",
    "# Relative velocity cut\n",
    "#-------------------------------------------------------------------------------\n",
    "good_deltaV = np.ones(len(good_axis), dtype=bool)\n",
    "\n",
    "for sga_id in gals['SGA_ID']:\n",
    "    \n",
    "    # Identify all axis targets on this galaxy\n",
    "    obs_idx = good_axis['SGA_ID'] == sga_id\n",
    "''';"
   ]
  },
  {
   "cell_type": "code",
   "execution_count": 13,
   "id": "1b2d068a-20bd-4999-9a4e-acc6a1c8a58c",
   "metadata": {
    "tags": []
   },
   "outputs": [
    {
     "name": "stdout",
     "output_type": "stream",
     "text": [
      "     TARGETID    \n",
      "-----------------\n",
      "39627817951955633 [7.79920435] [1.2660279] [1.36633444] [2.11619078]\n",
      "     TARGETID    \n",
      "-----------------\n",
      "39628465175004507 [0.11106434] [9.51409128] [35.67062759] [11.1972553]\n"
     ]
    },
    {
     "name": "stderr",
     "output_type": "stream",
     "text": [
      "/tmp/ipykernel_852492/1027776735.py:49: RuntimeWarning: divide by zero encountered in true_divide\n",
      "  if np.any((1/np.sqrt(Ha_ivar) > Ha) | (1/np.sqrt(Hb_ivar) > Hb)):\n",
      "/tmp/ipykernel_852492/1027776735.py:50: RuntimeWarning: divide by zero encountered in true_divide\n",
      "  print(targetids, Ha, 1/np.sqrt(Ha_ivar), Hb, 1/np.sqrt(Hb_ivar))\n",
      "/tmp/ipykernel_852492/1027776735.py:53: RuntimeWarning: divide by zero encountered in true_divide\n",
      "  gals['HaHb'][i] = np.nanmean(Ha/Hb)\n",
      "/tmp/ipykernel_852492/1027776735.py:57: RuntimeWarning: divide by zero encountered in true_divide\n",
      "  Hb_random = rng.normal(Hb, 1/np.sqrt(Hb_ivar), size=(N_samples, len(Hb)))\n"
     ]
    },
    {
     "name": "stdout",
     "output_type": "stream",
     "text": [
      "     TARGETID    \n",
      "-----------------\n",
      "39632991248449659 [28.41849518] [2.49223767] [0.] [inf]\n",
      "     TARGETID    \n",
      "-----------------\n",
      "39628438633448398 [0.] [inf] [2.2521143] [4.2700493]\n"
     ]
    },
    {
     "name": "stderr",
     "output_type": "stream",
     "text": [
      "/tmp/ipykernel_852492/1027776735.py:56: RuntimeWarning: divide by zero encountered in true_divide\n",
      "  Ha_random = rng.normal(Ha, 1/np.sqrt(Ha_ivar), size=(N_samples, len(Ha)))\n",
      "/global/common/software/desi/perlmutter/desiconda/20240425-2.2.0/conda/lib/python3.10/site-packages/numpy/core/fromnumeric.py:86: RuntimeWarning: invalid value encountered in reduce\n",
      "  return ufunc.reduce(obj, axis, dtype, out, **passkwargs)\n"
     ]
    },
    {
     "name": "stdout",
     "output_type": "stream",
     "text": [
      "     TARGETID    \n",
      "-----------------\n",
      "39633114233834138 [0.] [inf] [6.12614679] [6.12837094]\n",
      "     TARGETID    \n",
      "-----------------\n",
      "39633315468150062 [9.61582947] [1.55762507] [0.] [inf]\n",
      "     TARGETID    \n",
      "-----------------\n",
      "39627914970401768 [0.] [inf] [7.33205128] [4.92694884]\n",
      "     TARGETID    \n",
      "-----------------\n",
      "39627799807394778\n",
      "39627799807394778 [ 9.0328846  11.65234566] [0.38997697 1.12200024] [2.71799755 0.        ] [0.77878126        inf]\n",
      "     TARGETID    \n",
      "-----------------\n",
      "39627776289934029 [38.70440674] [3.3246307] [1.64622951] [2.2143936]\n",
      "      TARGETID     \n",
      "-------------------\n",
      "  39628433264739253\n",
      "2305843020118892462\n",
      "  39628433264739253 [0. 0. 0.] [inf inf inf] [0. 0. 0.] [inf inf inf]\n"
     ]
    },
    {
     "name": "stderr",
     "output_type": "stream",
     "text": [
      "/tmp/ipykernel_852492/1027776735.py:53: RuntimeWarning: invalid value encountered in true_divide\n",
      "  gals['HaHb'][i] = np.nanmean(Ha/Hb)\n",
      "/tmp/ipykernel_852492/1027776735.py:53: RuntimeWarning: Mean of empty slice\n",
      "  gals['HaHb'][i] = np.nanmean(Ha/Hb)\n",
      "/tmp/ipykernel_852492/1027776735.py:58: RuntimeWarning: invalid value encountered in true_divide\n",
      "  HaHb_random = Ha_random/Hb_random\n",
      "/global/common/software/desi/perlmutter/desiconda/20240425-2.2.0/conda/lib/python3.10/site-packages/numpy/lib/nanfunctions.py:1879: RuntimeWarning: Degrees of freedom <= 0 for slice.\n",
      "  var = nanvar(a, axis=axis, dtype=dtype, out=out, ddof=ddof,\n"
     ]
    },
    {
     "name": "stdout",
     "output_type": "stream",
     "text": [
      "     TARGETID    \n",
      "-----------------\n",
      "39627782275203522 [7.14422464] [0.78951705] [5.73038342e-05] [1.45646072]\n",
      "     TARGETID    \n",
      "-----------------\n",
      "39633421919586900 [10.77036667] [1.30885755] [1.82468784] [2.11638561]\n",
      "     TARGETID    \n",
      "-----------------\n",
      "39633443776106994 [23.17792702] [2.00716224] [1.7996248] [2.70519337]\n",
      "     TARGETID    \n",
      "-----------------\n",
      "39627770195607790 [25.76053429] [1.68616213] [0.] [inf]\n",
      "     TARGETID    \n",
      "-----------------\n",
      "39628427912810105 [0.] [inf] [8.37655926] [4.49568461]\n",
      "     TARGETID    \n",
      "-----------------\n",
      "39628368169144466 [8.39901733] [2.90883818] [0.] [inf]\n",
      "     TARGETID    \n",
      "-----------------\n",
      "39627817947761397 [20.79677963] [3.11923754] [2.91558504] [4.13390089]\n",
      "     TARGETID    \n",
      "-----------------\n",
      "39628433264741476 [0.] [inf] [0.] [inf]\n",
      "     TARGETID    \n",
      "-----------------\n",
      "39628427896034511 [0.] [inf] [9.81221581] [5.2374478]\n",
      "     TARGETID    \n",
      "-----------------\n",
      "39628433256351023 [0.] [inf] [0.] [inf]\n",
      "     TARGETID    \n",
      "-----------------\n",
      "39628433289907237 [10.47300529] [1.35008943] [1.29427159] [2.43025309]\n",
      "     TARGETID    \n",
      "-----------------\n",
      "39628433273131447 [0.] [inf] [0.] [inf]\n",
      "      TARGETID     \n",
      "-------------------\n",
      "  39627751501596897\n",
      "2305843036053054910\n",
      "  39627751501596897 [15.83684731 21.99101257 10.00631905] [1.24817351 6.2345782  5.182638  ] [4.52281904 0.         1.79773247] [1.83864264        inf 8.57192222]\n",
      "     TARGETID    \n",
      "-----------------\n",
      "39627752038469949 [11.65114307] [1.14997882] [0.19973283] [1.88105641]\n",
      "     TARGETID    \n",
      "-----------------\n",
      "39628427908612234 [8.44730473] [0.9532041] [0.] [inf]\n",
      "     TARGETID    \n",
      "-----------------\n",
      "39633419742741149 [6.48770142] [1.73554368] [1.43250561] [1.96051081]\n",
      "     TARGETID    \n",
      "-----------------\n",
      "39627811408840344 [7.55407524] [1.91047935] [0.] [inf]\n",
      "     TARGETID    \n",
      "-----------------\n",
      "39628411752154000 [3.22211027] [2.11530365] [0.] [inf]\n",
      "     TARGETID    \n",
      "-----------------\n",
      "39628433247964512 [0.] [inf] [0.] [inf]\n",
      "     TARGETID    \n",
      "-----------------\n",
      "39628459890180943 [0.] [inf] [0.] [inf]\n",
      "     TARGETID    \n",
      "-----------------\n",
      "39633278927374431 [25.27425194] [1.9162042] [2.39261436] [2.53494178]\n",
      "     TARGETID    \n",
      "-----------------\n",
      "39628465145644279 [1.9808892] [2.93009992] [0.] [inf]\n",
      "     TARGETID    \n",
      "-----------------\n",
      "39628427917002691 [0.] [inf] [0.] [inf]\n",
      "     TARGETID    \n",
      "-----------------\n",
      "39628470426275324 [0.] [inf] [6.06920815] [3.45944835]\n",
      "     TARGETID    \n",
      "-----------------\n",
      "39628417141836579 [0.] [inf] [13.53086948] [9.69491302]\n",
      "     TARGETID    \n",
      "-----------------\n",
      "39632936638615249 [12.48630428] [1.6387706] [0.] [inf]\n",
      "     TARGETID    \n",
      "-----------------\n",
      "39628438612480557 [0.] [inf] [0.] [inf]\n",
      "     TARGETID    \n",
      "-----------------\n",
      "39632971426172646 [18.98726273] [2.21341163] [0.24854223] [2.71721533]\n",
      "     TARGETID    \n",
      "-----------------\n",
      "39627853658066307 [11.55342197] [1.01662001] [0.21859901] [2.00911716]\n",
      "     TARGETID    \n",
      "-----------------\n",
      "39633132093181167 [29.8025341] [2.38158333] [2.00007439] [3.35274092]\n",
      "     TARGETID    \n",
      "-----------------\n",
      "39633446347211206 [13.23989964] [1.31236336] [0.04724628] [2.21938267]\n",
      "     TARGETID    \n",
      "-----------------\n",
      "39627764139036762 [7.74120092] [2.67018115] [0.01974742] [3.42903179]\n",
      "     TARGETID    \n",
      "-----------------\n",
      "39627860842907960 [11.30237675] [2.10695825] [1.77578664] [3.01538653]\n",
      "     TARGETID    \n",
      "-----------------\n",
      "39633136518171050 [52.38228607] [3.16560732] [3.56359458] [3.66124651]\n",
      "     TARGETID    \n",
      "-----------------\n",
      "39627805369043232 [14.08704472] [3.60589856] [0.] [inf]\n",
      "     TARGETID    \n",
      "-----------------\n",
      "39627818585296142 [25.63886833] [2.96347378] [2.08816767] [3.47633569]\n",
      "     TARGETID    \n",
      "-----------------\n",
      "39628438604089487 [0.] [inf] [0.] [inf]\n",
      "     TARGETID    \n",
      "-----------------\n",
      "39627854807302483 [20.12456512] [2.4179162] [0.] [inf]\n",
      "     TARGETID    \n",
      "-----------------\n",
      "39633123243199671 [26.95248222] [2.62435941] [0.] [inf]\n",
      "     TARGETID    \n",
      "-----------------\n",
      "39627878979076542 [17.00220108] [2.26094302] [0.69364512] [3.04308214]\n",
      "     TARGETID    \n",
      "-----------------\n",
      "39628438625061298 [0.] [inf] [0.] [inf]\n",
      "     TARGETID    \n",
      "-----------------\n",
      "39632991244255714 [40.32035446] [3.49601986] [0.36805198] [3.72667399]\n",
      "     TARGETID    \n",
      "-----------------\n",
      "39628433273127097 [0.] [inf] [11.85618687] [3.89444434]\n",
      "     TARGETID    \n",
      "-----------------\n",
      "39633127714325735 [14.59007454] [2.3608028] [0.33029667] [3.61736162]\n",
      "     TARGETID    \n",
      "-----------------\n",
      "39633301249461774 [15.55647659] [3.55415969] [0.] [inf]\n",
      "     TARGETID    \n",
      "-----------------\n",
      "39627776352845906 [1.73312676] [0.68857306] [0.] [inf]\n",
      "     TARGETID    \n",
      "-----------------\n",
      "39628417146029233 [1.48327982] [1.57519612] [0.] [inf]\n",
      "     TARGETID    \n",
      "-----------------\n",
      "39628433277324139 [0.] [inf] [1.61055517] [1.82510681]\n",
      "     TARGETID    \n",
      "-----------------\n",
      "39628340532874923 [23.8886795] [2.799922] [3.344239] [3.78183671]\n"
     ]
    },
    {
     "ename": "KeyboardInterrupt",
     "evalue": "",
     "output_type": "error",
     "traceback": [
      "\u001b[0;31m---------------------------------------------------------------------------\u001b[0m",
      "\u001b[0;31mKeyboardInterrupt\u001b[0m                         Traceback (most recent call last)",
      "Cell \u001b[0;32mIn[13], line 36\u001b[0m\n\u001b[1;32m     34\u001b[0m \u001b[38;5;66;03m# Open file\u001b[39;00m\n\u001b[1;32m     35\u001b[0m hdul \u001b[38;5;241m=\u001b[39m fits\u001b[38;5;241m.\u001b[39mopen(fastspecfit_directory \u001b[38;5;241m+\u001b[39m fs_filename, hdu\u001b[38;5;241m=\u001b[39m\u001b[38;5;241m1\u001b[39m)\n\u001b[0;32m---> 36\u001b[0m fs_file \u001b[38;5;241m=\u001b[39m \u001b[43mhdul\u001b[49m\u001b[43m[\u001b[49m\u001b[38;5;241;43m1\u001b[39;49m\u001b[43m]\u001b[49m\u001b[38;5;241;43m.\u001b[39;49m\u001b[43mdata\u001b[49m\n\u001b[1;32m     37\u001b[0m hdul\u001b[38;5;241m.\u001b[39mclose()\n\u001b[1;32m     39\u001b[0m \u001b[38;5;66;03m# Find row for this targetid\u001b[39;00m\n",
      "File \u001b[0;32m/global/common/software/desi/perlmutter/desiconda/20240425-2.2.0/conda/lib/python3.10/site-packages/astropy/utils/decorators.py:837\u001b[0m, in \u001b[0;36mlazyproperty.__get__\u001b[0;34m(self, obj, owner)\u001b[0m\n\u001b[1;32m    835\u001b[0m         val \u001b[38;5;241m=\u001b[39m obj_dict\u001b[38;5;241m.\u001b[39mget(\u001b[38;5;28mself\u001b[39m\u001b[38;5;241m.\u001b[39m_key, _NotFound)\n\u001b[1;32m    836\u001b[0m         \u001b[38;5;28;01mif\u001b[39;00m val \u001b[38;5;129;01mis\u001b[39;00m _NotFound:\n\u001b[0;32m--> 837\u001b[0m             val \u001b[38;5;241m=\u001b[39m \u001b[38;5;28;43mself\u001b[39;49m\u001b[38;5;241;43m.\u001b[39;49m\u001b[43mfget\u001b[49m\u001b[43m(\u001b[49m\u001b[43mobj\u001b[49m\u001b[43m)\u001b[49m\n\u001b[1;32m    838\u001b[0m             obj_dict[\u001b[38;5;28mself\u001b[39m\u001b[38;5;241m.\u001b[39m_key] \u001b[38;5;241m=\u001b[39m val\n\u001b[1;32m    839\u001b[0m \u001b[38;5;28;01mreturn\u001b[39;00m val\n",
      "File \u001b[0;32m/global/common/software/desi/perlmutter/desiconda/20240425-2.2.0/conda/lib/python3.10/site-packages/astropy/io/fits/hdu/table.py:407\u001b[0m, in \u001b[0;36m_TableBaseHDU.data\u001b[0;34m(self)\u001b[0m\n\u001b[1;32m    405\u001b[0m \u001b[38;5;129m@lazyproperty\u001b[39m\n\u001b[1;32m    406\u001b[0m \u001b[38;5;28;01mdef\u001b[39;00m \u001b[38;5;21mdata\u001b[39m(\u001b[38;5;28mself\u001b[39m):\n\u001b[0;32m--> 407\u001b[0m     data \u001b[38;5;241m=\u001b[39m \u001b[38;5;28;43mself\u001b[39;49m\u001b[38;5;241;43m.\u001b[39;49m\u001b[43m_get_tbdata\u001b[49m\u001b[43m(\u001b[49m\u001b[43m)\u001b[49m\n\u001b[1;32m    408\u001b[0m     data\u001b[38;5;241m.\u001b[39m_coldefs \u001b[38;5;241m=\u001b[39m \u001b[38;5;28mself\u001b[39m\u001b[38;5;241m.\u001b[39mcolumns\n\u001b[1;32m    409\u001b[0m     data\u001b[38;5;241m.\u001b[39m_character_as_bytes \u001b[38;5;241m=\u001b[39m \u001b[38;5;28mself\u001b[39m\u001b[38;5;241m.\u001b[39m_character_as_bytes\n",
      "File \u001b[0;32m/global/common/software/desi/perlmutter/desiconda/20240425-2.2.0/conda/lib/python3.10/site-packages/astropy/io/fits/hdu/table.py:177\u001b[0m, in \u001b[0;36m_TableLikeHDU._get_tbdata\u001b[0;34m(self)\u001b[0m\n\u001b[1;32m    175\u001b[0m \u001b[38;5;28;01mdef\u001b[39;00m \u001b[38;5;21m_get_tbdata\u001b[39m(\u001b[38;5;28mself\u001b[39m):\n\u001b[1;32m    176\u001b[0m \u001b[38;5;250m    \u001b[39m\u001b[38;5;124;03m\"\"\"Get the table data from an input HDU object.\"\"\"\u001b[39;00m\n\u001b[0;32m--> 177\u001b[0m     columns \u001b[38;5;241m=\u001b[39m \u001b[38;5;28;43mself\u001b[39;49m\u001b[38;5;241;43m.\u001b[39;49m\u001b[43mcolumns\u001b[49m\n\u001b[1;32m    179\u001b[0m     \u001b[38;5;66;03m# TODO: Details related to variable length arrays need to be dealt with\u001b[39;00m\n\u001b[1;32m    180\u001b[0m     \u001b[38;5;66;03m# specifically in the BinTableHDU class, since they're a detail\u001b[39;00m\n\u001b[1;32m    181\u001b[0m     \u001b[38;5;66;03m# specific to FITS binary tables\u001b[39;00m\n\u001b[1;32m    182\u001b[0m     \u001b[38;5;28;01mif\u001b[39;00m (\n\u001b[1;32m    183\u001b[0m         \u001b[38;5;28mself\u001b[39m\u001b[38;5;241m.\u001b[39m_load_variable_length_data\n\u001b[1;32m    184\u001b[0m         \u001b[38;5;129;01mand\u001b[39;00m \u001b[38;5;28many\u001b[39m(\u001b[38;5;28mtype\u001b[39m(r) \u001b[38;5;129;01min\u001b[39;00m (_FormatP, _FormatQ) \u001b[38;5;28;01mfor\u001b[39;00m r \u001b[38;5;129;01min\u001b[39;00m columns\u001b[38;5;241m.\u001b[39m_recformats)\n\u001b[0;32m   (...)\u001b[0m\n\u001b[1;32m    187\u001b[0m     ):\n\u001b[1;32m    188\u001b[0m         \u001b[38;5;66;03m# We have a heap; include it in the raw_data\u001b[39;00m\n",
      "File \u001b[0;32m/global/common/software/desi/perlmutter/desiconda/20240425-2.2.0/conda/lib/python3.10/site-packages/astropy/utils/decorators.py:837\u001b[0m, in \u001b[0;36mlazyproperty.__get__\u001b[0;34m(self, obj, owner)\u001b[0m\n\u001b[1;32m    835\u001b[0m         val \u001b[38;5;241m=\u001b[39m obj_dict\u001b[38;5;241m.\u001b[39mget(\u001b[38;5;28mself\u001b[39m\u001b[38;5;241m.\u001b[39m_key, _NotFound)\n\u001b[1;32m    836\u001b[0m         \u001b[38;5;28;01mif\u001b[39;00m val \u001b[38;5;129;01mis\u001b[39;00m _NotFound:\n\u001b[0;32m--> 837\u001b[0m             val \u001b[38;5;241m=\u001b[39m \u001b[38;5;28;43mself\u001b[39;49m\u001b[38;5;241;43m.\u001b[39;49m\u001b[43mfget\u001b[49m\u001b[43m(\u001b[49m\u001b[43mobj\u001b[49m\u001b[43m)\u001b[49m\n\u001b[1;32m    838\u001b[0m             obj_dict[\u001b[38;5;28mself\u001b[39m\u001b[38;5;241m.\u001b[39m_key] \u001b[38;5;241m=\u001b[39m val\n\u001b[1;32m    839\u001b[0m \u001b[38;5;28;01mreturn\u001b[39;00m val\n",
      "File \u001b[0;32m/global/common/software/desi/perlmutter/desiconda/20240425-2.2.0/conda/lib/python3.10/site-packages/astropy/io/fits/hdu/table.py:403\u001b[0m, in \u001b[0;36m_TableBaseHDU.columns\u001b[0;34m(self)\u001b[0m\n\u001b[1;32m    401\u001b[0m \u001b[38;5;28;01mif\u001b[39;00m \u001b[38;5;28mself\u001b[39m\u001b[38;5;241m.\u001b[39m_has_data \u001b[38;5;129;01mand\u001b[39;00m \u001b[38;5;28mhasattr\u001b[39m(\u001b[38;5;28mself\u001b[39m\u001b[38;5;241m.\u001b[39mdata, \u001b[38;5;124m\"\u001b[39m\u001b[38;5;124m_coldefs\u001b[39m\u001b[38;5;124m\"\u001b[39m):\n\u001b[1;32m    402\u001b[0m     \u001b[38;5;28;01mreturn\u001b[39;00m \u001b[38;5;28mself\u001b[39m\u001b[38;5;241m.\u001b[39mdata\u001b[38;5;241m.\u001b[39m_coldefs\n\u001b[0;32m--> 403\u001b[0m \u001b[38;5;28;01mreturn\u001b[39;00m \u001b[38;5;28;43mself\u001b[39;49m\u001b[38;5;241;43m.\u001b[39;49m\u001b[43m_columns_type\u001b[49m\u001b[43m(\u001b[49m\u001b[38;5;28;43mself\u001b[39;49m\u001b[43m)\u001b[49m\n",
      "File \u001b[0;32m/global/common/software/desi/perlmutter/desiconda/20240425-2.2.0/conda/lib/python3.10/site-packages/astropy/io/fits/column.py:1502\u001b[0m, in \u001b[0;36mColDefs.__init__\u001b[0;34m(self, input, ascii)\u001b[0m\n\u001b[1;32m   1499\u001b[0m     \u001b[38;5;28mself\u001b[39m\u001b[38;5;241m.\u001b[39m_init_from_sequence(\u001b[38;5;28minput\u001b[39m)\n\u001b[1;32m   1500\u001b[0m \u001b[38;5;28;01melif\u001b[39;00m \u001b[38;5;28misinstance\u001b[39m(\u001b[38;5;28minput\u001b[39m, _TableBaseHDU):\n\u001b[1;32m   1501\u001b[0m     \u001b[38;5;66;03m# Construct columns from fields in an HDU header\u001b[39;00m\n\u001b[0;32m-> 1502\u001b[0m     \u001b[38;5;28;43mself\u001b[39;49m\u001b[38;5;241;43m.\u001b[39;49m\u001b[43m_init_from_table\u001b[49m\u001b[43m(\u001b[49m\u001b[38;5;28;43minput\u001b[39;49m\u001b[43m)\u001b[49m\n\u001b[1;32m   1503\u001b[0m \u001b[38;5;28;01melse\u001b[39;00m:\n\u001b[1;32m   1504\u001b[0m     \u001b[38;5;28;01mraise\u001b[39;00m \u001b[38;5;167;01mTypeError\u001b[39;00m(\n\u001b[1;32m   1505\u001b[0m         \u001b[38;5;124m\"\u001b[39m\u001b[38;5;124mInput to ColDefs must be a table HDU, a list \u001b[39m\u001b[38;5;124m\"\u001b[39m\n\u001b[1;32m   1506\u001b[0m         \u001b[38;5;124m\"\u001b[39m\u001b[38;5;124mof Columns, or a record/field array.\u001b[39m\u001b[38;5;124m\"\u001b[39m\n\u001b[1;32m   1507\u001b[0m     )\n",
      "File \u001b[0;32m/global/common/software/desi/perlmutter/desiconda/20240425-2.2.0/conda/lib/python3.10/site-packages/astropy/io/fits/column.py:1594\u001b[0m, in \u001b[0;36mColDefs._init_from_table\u001b[0;34m(self, table)\u001b[0m\n\u001b[1;32m   1592\u001b[0m \u001b[38;5;28;01mif\u001b[39;00m \u001b[38;5;241m0\u001b[39m \u001b[38;5;241m<\u001b[39m col \u001b[38;5;241m<\u001b[39m\u001b[38;5;241m=\u001b[39m nfields:\n\u001b[1;32m   1593\u001b[0m     attr \u001b[38;5;241m=\u001b[39m KEYWORD_TO_ATTRIBUTE[label]\n\u001b[0;32m-> 1594\u001b[0m     value \u001b[38;5;241m=\u001b[39m \u001b[43mhdr\u001b[49m\u001b[43m[\u001b[49m\u001b[43mkeyword\u001b[49m\u001b[43m]\u001b[49m\n\u001b[1;32m   1595\u001b[0m     \u001b[38;5;28;01mif\u001b[39;00m attr \u001b[38;5;241m==\u001b[39m \u001b[38;5;124m\"\u001b[39m\u001b[38;5;124mformat\u001b[39m\u001b[38;5;124m\"\u001b[39m:\n\u001b[1;32m   1596\u001b[0m         \u001b[38;5;66;03m# Go ahead and convert the format value to the\u001b[39;00m\n\u001b[1;32m   1597\u001b[0m         \u001b[38;5;66;03m# appropriate ColumnFormat container now\u001b[39;00m\n\u001b[1;32m   1598\u001b[0m         value \u001b[38;5;241m=\u001b[39m \u001b[38;5;28mself\u001b[39m\u001b[38;5;241m.\u001b[39m_col_format_cls(value)\n",
      "File \u001b[0;32m/global/common/software/desi/perlmutter/desiconda/20240425-2.2.0/conda/lib/python3.10/site-packages/astropy/io/fits/header.py:177\u001b[0m, in \u001b[0;36mHeader.__getitem__\u001b[0;34m(self, key)\u001b[0m\n\u001b[1;32m    172\u001b[0m \u001b[38;5;28;01mif\u001b[39;00m card\u001b[38;5;241m.\u001b[39mfield_specifier \u001b[38;5;129;01mis\u001b[39;00m \u001b[38;5;129;01mnot\u001b[39;00m \u001b[38;5;28;01mNone\u001b[39;00m \u001b[38;5;129;01mand\u001b[39;00m keyword \u001b[38;5;241m==\u001b[39m card\u001b[38;5;241m.\u001b[39mrawkeyword:\n\u001b[1;32m    173\u001b[0m     \u001b[38;5;66;03m# This is RVKC; if only the top-level keyword was specified return\u001b[39;00m\n\u001b[1;32m    174\u001b[0m     \u001b[38;5;66;03m# the raw value, not the parsed out float value\u001b[39;00m\n\u001b[1;32m    175\u001b[0m     \u001b[38;5;28;01mreturn\u001b[39;00m card\u001b[38;5;241m.\u001b[39mrawvalue\n\u001b[0;32m--> 177\u001b[0m value \u001b[38;5;241m=\u001b[39m \u001b[43mcard\u001b[49m\u001b[38;5;241;43m.\u001b[39;49m\u001b[43mvalue\u001b[49m\n\u001b[1;32m    178\u001b[0m \u001b[38;5;28;01mif\u001b[39;00m value \u001b[38;5;241m==\u001b[39m UNDEFINED:\n\u001b[1;32m    179\u001b[0m     \u001b[38;5;28;01mreturn\u001b[39;00m \u001b[38;5;28;01mNone\u001b[39;00m\n",
      "File \u001b[0;32m/global/common/software/desi/perlmutter/desiconda/20240425-2.2.0/conda/lib/python3.10/site-packages/astropy/io/fits/card.py:300\u001b[0m, in \u001b[0;36mCard.value\u001b[0;34m(self)\u001b[0m\n\u001b[1;32m    297\u001b[0m     \u001b[38;5;28;01melse\u001b[39;00m:\n\u001b[1;32m    298\u001b[0m         \u001b[38;5;28mself\u001b[39m\u001b[38;5;241m.\u001b[39m_value \u001b[38;5;241m=\u001b[39m value \u001b[38;5;241m=\u001b[39m UNDEFINED\n\u001b[0;32m--> 300\u001b[0m \u001b[38;5;28;01mif\u001b[39;00m \u001b[43mconf\u001b[49m\u001b[38;5;241;43m.\u001b[39;49m\u001b[43mstrip_header_whitespace\u001b[49m \u001b[38;5;129;01mand\u001b[39;00m \u001b[38;5;28misinstance\u001b[39m(value, \u001b[38;5;28mstr\u001b[39m):\n\u001b[1;32m    301\u001b[0m     value \u001b[38;5;241m=\u001b[39m value\u001b[38;5;241m.\u001b[39mrstrip()\n\u001b[1;32m    303\u001b[0m \u001b[38;5;28;01mreturn\u001b[39;00m value\n",
      "File \u001b[0;32m/global/common/software/desi/perlmutter/desiconda/20240425-2.2.0/conda/lib/python3.10/site-packages/astropy/config/configuration.py:336\u001b[0m, in \u001b[0;36mConfigItem.__get__\u001b[0;34m(self, obj, objtype)\u001b[0m\n\u001b[1;32m    334\u001b[0m \u001b[38;5;28;01mif\u001b[39;00m obj \u001b[38;5;129;01mis\u001b[39;00m \u001b[38;5;28;01mNone\u001b[39;00m:\n\u001b[1;32m    335\u001b[0m     \u001b[38;5;28;01mreturn\u001b[39;00m \u001b[38;5;28mself\u001b[39m\n\u001b[0;32m--> 336\u001b[0m \u001b[38;5;28;01mreturn\u001b[39;00m \u001b[38;5;28;43mself\u001b[39;49m\u001b[43m(\u001b[49m\u001b[43m)\u001b[49m\n",
      "File \u001b[0;32m/global/common/software/desi/perlmutter/desiconda/20240425-2.2.0/conda/lib/python3.10/site-packages/astropy/config/configuration.py:465\u001b[0m, in \u001b[0;36mConfigItem.__call__\u001b[0;34m(self)\u001b[0m\n\u001b[1;32m    462\u001b[0m         \u001b[38;5;28;01mreturn\u001b[39;00m \u001b[38;5;124mf\u001b[39m\u001b[38;5;124m\"\u001b[39m\u001b[38;5;124min section [\u001b[39m\u001b[38;5;132;01m{\u001b[39;00msection\u001b[38;5;132;01m}\u001b[39;00m\u001b[38;5;124m]\u001b[39m\u001b[38;5;124m\"\u001b[39m\n\u001b[1;32m    464\u001b[0m options \u001b[38;5;241m=\u001b[39m []\n\u001b[0;32m--> 465\u001b[0m sec \u001b[38;5;241m=\u001b[39m \u001b[43mget_config\u001b[49m\u001b[43m(\u001b[49m\u001b[38;5;28;43mself\u001b[39;49m\u001b[38;5;241;43m.\u001b[39;49m\u001b[43mmodule\u001b[49m\u001b[43m,\u001b[49m\u001b[43m \u001b[49m\u001b[43mrootname\u001b[49m\u001b[38;5;241;43m=\u001b[39;49m\u001b[38;5;28;43mself\u001b[39;49m\u001b[38;5;241;43m.\u001b[39;49m\u001b[43mrootname\u001b[49m\u001b[43m)\u001b[49m\n\u001b[1;32m    466\u001b[0m \u001b[38;5;28;01mif\u001b[39;00m \u001b[38;5;28mself\u001b[39m\u001b[38;5;241m.\u001b[39mname \u001b[38;5;129;01min\u001b[39;00m sec:\n\u001b[1;32m    467\u001b[0m     options\u001b[38;5;241m.\u001b[39mappend((sec[\u001b[38;5;28mself\u001b[39m\u001b[38;5;241m.\u001b[39mname], \u001b[38;5;28mself\u001b[39m\u001b[38;5;241m.\u001b[39mmodule, \u001b[38;5;28mself\u001b[39m\u001b[38;5;241m.\u001b[39mname))\n",
      "File \u001b[0;32m/global/common/software/desi/perlmutter/desiconda/20240425-2.2.0/conda/lib/python3.10/site-packages/astropy/config/configuration.py:626\u001b[0m, in \u001b[0;36mget_config\u001b[0;34m(packageormod, reload, rootname)\u001b[0m\n\u001b[1;32m    624\u001b[0m     \u001b[38;5;28;01mif\u001b[39;00m secname \u001b[38;5;129;01mnot\u001b[39;00m \u001b[38;5;129;01min\u001b[39;00m cobj:\n\u001b[1;32m    625\u001b[0m         cobj[secname] \u001b[38;5;241m=\u001b[39m {}\n\u001b[0;32m--> 626\u001b[0m     \u001b[38;5;28;01mreturn\u001b[39;00m \u001b[43mcobj\u001b[49m\u001b[43m[\u001b[49m\u001b[43msecname\u001b[49m\u001b[43m]\u001b[49m\n\u001b[1;32m    627\u001b[0m \u001b[38;5;28;01melse\u001b[39;00m:\n\u001b[1;32m    628\u001b[0m     \u001b[38;5;28;01mreturn\u001b[39;00m cobj\n",
      "File \u001b[0;32m/global/common/software/desi/perlmutter/desiconda/20240425-2.2.0/conda/lib/python3.10/site-packages/astropy/extern/configobj/configobj.py:552\u001b[0m, in \u001b[0;36mSection.__getitem__\u001b[0;34m(self, key)\u001b[0m\n\u001b[1;32m    550\u001b[0m \u001b[38;5;28;01mdef\u001b[39;00m \u001b[38;5;21m__getitem__\u001b[39m(\u001b[38;5;28mself\u001b[39m, key):\n\u001b[1;32m    551\u001b[0m \u001b[38;5;250m    \u001b[39m\u001b[38;5;124;03m\"\"\"Fetch the item and do string interpolation.\"\"\"\u001b[39;00m\n\u001b[0;32m--> 552\u001b[0m     val \u001b[38;5;241m=\u001b[39m \u001b[38;5;28;43mdict\u001b[39;49m\u001b[38;5;241;43m.\u001b[39;49m\u001b[38;5;21;43m__getitem__\u001b[39;49m\u001b[43m(\u001b[49m\u001b[38;5;28;43mself\u001b[39;49m\u001b[43m,\u001b[49m\u001b[43m \u001b[49m\u001b[43mkey\u001b[49m\u001b[43m)\u001b[49m\n\u001b[1;32m    553\u001b[0m     \u001b[38;5;28;01mif\u001b[39;00m \u001b[38;5;28mself\u001b[39m\u001b[38;5;241m.\u001b[39mmain\u001b[38;5;241m.\u001b[39minterpolation:\n\u001b[1;32m    554\u001b[0m         \u001b[38;5;28;01mif\u001b[39;00m \u001b[38;5;28misinstance\u001b[39m(val, \u001b[38;5;28mstr\u001b[39m):\n",
      "\u001b[0;31mKeyboardInterrupt\u001b[0m: "
     ]
    }
   ],
   "source": [
    "gals['HaHb'] = np.nan\n",
    "gals['HaHb_err'] = np.nan\n",
    "\n",
    "rng = np.random.default_rng()\n",
    "N_samples = 1000\n",
    "\n",
    "for i in range(len(gals)):\n",
    "    \n",
    "    # Identify all galaxy targets on this galaxy\n",
    "    obs_idx = good_centers['SGA_ID'] == gals['SGA_ID'][i]\n",
    "    \n",
    "    # Identify targetIDs for galaxy\n",
    "    targetids = good_centers['TARGETID'][obs_idx]\n",
    "    \n",
    "    # Identify filenames for galaxy\n",
    "    filenames = good_centers['FILENAME'][obs_idx]\n",
    "    \n",
    "    # Initialize Ha, Hb arrays\n",
    "    Ha = np.nan*np.ones(sum(obs_idx))\n",
    "    Hb = np.nan*np.ones(sum(obs_idx))\n",
    "    Ha_ivar = np.nan*np.ones(sum(obs_idx))\n",
    "    Hb_ivar = np.nan*np.ones(sum(obs_idx))\n",
    "    \n",
    "    # Extract fluxes from fastspecfit catalog\n",
    "    for j in range(len(filenames)):\n",
    "        \n",
    "        # Strip \"fuji/\" from filename\n",
    "        rr_filename = filenames[j][5:]\n",
    "        \n",
    "        # Replace \"redrock\" with \"fastspec\"\n",
    "        dirs, file = rr_filename.split('redrock')\n",
    "        fs_filename = dirs + 'fastspec' + file + '.gz'\n",
    "        \n",
    "        # Open file\n",
    "        hdul = fits.open(fastspecfit_directory + fs_filename, hdu=1)\n",
    "        fs_file = hdul[1].data\n",
    "        hdul.close()\n",
    "        \n",
    "        # Find row for this targetid\n",
    "        targetid_idx = fs_file['TARGETID'] == targetids[j]\n",
    "        \n",
    "        if sum(targetid_idx) == 1:\n",
    "            # Extract Ha, Hb fluxes\n",
    "            Ha[j] = fs_file['HALPHA_FLUX'][targetid_idx]\n",
    "            Hb[j] = fs_file['HBETA_FLUX'][targetid_idx]\n",
    "            Ha_ivar[j] = fs_file['HALPHA_FLUX_IVAR'][targetid_idx]\n",
    "            Hb_ivar[j] = fs_file['HBETA_FLUX_IVAR'][targetid_idx]\n",
    "            \n",
    "    if np.any((1/np.sqrt(Ha_ivar) > Ha) | (1/np.sqrt(Hb_ivar) > Hb)):\n",
    "        print(targetids, Ha, 1/np.sqrt(Ha_ivar), Hb, 1/np.sqrt(Hb_ivar))\n",
    "    \n",
    "    # Compute average flux ratios\n",
    "    gals['HaHb'][i] = np.nanmean(Ha/Hb)\n",
    "    \n",
    "    # Compute uncertainty in average flux ratio\n",
    "    Ha_random = rng.normal(Ha, 1/np.sqrt(Ha_ivar), size=(N_samples, len(Ha)))\n",
    "    Hb_random = rng.normal(Hb, 1/np.sqrt(Hb_ivar), size=(N_samples, len(Hb)))\n",
    "    HaHb_random = Ha_random/Hb_random\n",
    "    gals['HaHb_err'][i] = np.nanstd(HaHb_random)"
   ]
  },
  {
   "cell_type": "code",
   "execution_count": 11,
   "id": "b567342a-6051-4259-b492-5d866714d1aa",
   "metadata": {},
   "outputs": [
    {
     "data": {
      "image/png": "[encoded data removed]",
      "text/plain": [
       "<Figure size 640x480 with 1 Axes>"
      ]
     },
     "metadata": {},
     "output_type": "display_data"
    }
   ],
   "source": [
    "plt.figure(tight_layout=True)\n",
    "\n",
    "plt.errorbar(gals['BA'], gals['HaHb'], yerr=gals['HaHb_err'], fmt='.', ecolor='lightblue')\n",
    "# plt.plot(gals['BA'], gals['HaHb'], '.')\n",
    "plt.hlines(2.86, 0, 1, colors='r', linestyles='dashed')\n",
    "plt.xlim(0, 1)\n",
    "plt.ylim(0, 10)\n",
    "plt.xlabel('b/a')\n",
    "plt.ylabel(r'average H$\\alpha$/H$\\beta$');"
   ]
  },
  {
   "cell_type": "markdown",
   "id": "f95969ff-77ad-429b-8522-647669001613",
   "metadata": {},
   "source": [
    "## 2. Compute $E(B-V)$ value for each galaxy\n",
    "\n",
    "$A_\\lambda / A_V$ from [O'Donnell (1994)](https://ui.adsabs.harvard.edu/abs/1994ApJ...422..158O/abstract)"
   ]
  },
  {
   "cell_type": "code",
   "execution_count": 10,
   "id": "d7c2ebe9-62e9-4257-959b-c0fc75750b3c",
   "metadata": {
    "tags": []
   },
   "outputs": [],
   "source": [
    "def ODon94(wave, Rv):\n",
    "    '''\n",
    "    Calculate the interstellar extinction, A(lambda)/Av, using the extinction curve defined in O'Donnell (1994).\n",
    "    \n",
    "    \n",
    "    PARAMETERS\n",
    "    ==========\n",
    "    \n",
    "    wave : float\n",
    "        Wavelength for which the extinction should be calculated.  Units are Angstroms.\n",
    "        \n",
    "    Rv : float\n",
    "        Extinction ratio\n",
    "        \n",
    "        \n",
    "    RETURNS\n",
    "    =======\n",
    "    \n",
    "    AwAv : float\n",
    "        The interstellar extinction for the given wavelength.\n",
    "    '''\n",
    "    \n",
    "    # Convert wavelength to microns\n",
    "    wave_um = wave/1e4\n",
    "    \n",
    "    # Calculate inverse wavelength\n",
    "    x = 1/wave_um\n",
    "    \n",
    "    # Calculate wavelength shift\n",
    "    y = x - 1.82\n",
    "    \n",
    "    # Calculate coefficients\n",
    "    a = 1 + 0.104*y - 0.609*y**2 + 0.701*y**3 + 1.137*y**4 - 1.718*y**5 - 0.827*y**6 + 1.647*y**7 - 0.505*y**8\n",
    "    b = 1.952*y + 2.908*y**2 - 3.989*y**3 - 7.985*y**4 + 11.102*y**5 + 5.491*y**6 - 10.805*y**7 + 3.347*y**8\n",
    "    \n",
    "    # Calculate extinction\n",
    "    AwAv = a + b/Rv\n",
    "    \n",
    "    return AwAv"
   ]
  },
  {
   "cell_type": "code",
   "execution_count": 11,
   "id": "8ad54b34-a60c-4b24-b399-39830537a068",
   "metadata": {},
   "outputs": [
    {
     "name": "stderr",
     "output_type": "stream",
     "text": [
      "/tmp/ipykernel_1779369/1304718783.py:4: RuntimeWarning: divide by zero encountered in true_divide\n",
      "  gals['EBV'] = 2.5*np.log10(2.86/gals['HaHb'])/(Rv*(AHaAv - AHbAv))\n",
      "/tmp/ipykernel_1779369/1304718783.py:4: RuntimeWarning: divide by zero encountered in log10\n",
      "  gals['EBV'] = 2.5*np.log10(2.86/gals['HaHb'])/(Rv*(AHaAv - AHbAv))\n",
      "/global/common/software/desi/perlmutter/desiconda/20240425-2.2.0/conda/lib/python3.10/site-packages/numpy/lib/nanfunctions.py:1741: RuntimeWarning: invalid value encountered in subtract\n",
      "  np.subtract(arr, avg, out=arr, casting='unsafe', where=where)\n"
     ]
    }
   ],
   "source": [
    "AHaAv = ODon94(6563, Rv)\n",
    "AHbAv = ODon94(4861, Rv)\n",
    "\n",
    "gals['EBV'] = 2.5*np.log10(2.86/gals['HaHb'])/(Rv*(AHaAv - AHbAv))\n",
    "\n",
    "HaHb_random = rng.normal(gals['HaHb'], gals['HaHb_err'], size=(N_samples, len(gals)))\n",
    "gals['EBV_ERR'] = np.nanstd(HaHb_random, axis=0)"
   ]
  },
  {
   "cell_type": "markdown",
   "id": "49562817-f3f3-4f01-8946-501c1e1a97d7",
   "metadata": {},
   "source": [
    "## 3. Compute dust extinction correction\n",
    "\n",
    "\\begin{equation}\n",
    "  A_\\text{dust} = R_r E(B - V)\n",
    "\\end{equation}"
   ]
  },
  {
   "cell_type": "code",
   "execution_count": 12,
   "id": "a318a505-3593-44e6-b879-db1b59ceff54",
   "metadata": {},
   "outputs": [],
   "source": [
    "gals['Adust'] = Rr * gals['EBV']\n",
    "gals['Adust_err'] = Rr * gals['EBV_ERR']"
   ]
  },
  {
   "cell_type": "code",
   "execution_count": 13,
   "id": "45a9fb7e-7b9e-48d4-9136-d772044b88c9",
   "metadata": {},
   "outputs": [
    {
     "data": {
      "image/png": "[encoded data removed]",
      "text/plain": [
       "<Figure size 640x480 with 1 Axes>"
      ]
     },
     "metadata": {},
     "output_type": "display_data"
    }
   ],
   "source": [
    "plt.figure(tight_layout=True)\n",
    "\n",
    "plt.hist(gals['Adust'], bins=np.arange(-1, 3, 0.1))\n",
    "\n",
    "plt.xlabel(r'$A_\\text{dust}$ [mag]', fontsize=16)\n",
    "plt.ylabel('number of galaxies', fontsize=16)\n",
    "\n",
    "plt.tick_params(axis='both', which='major', labelsize=14);\n",
    "\n",
    "# plt.savefig('../Figures/SV/fuji_Adust_hist_20240701.png', dpi=150);"
   ]
  },
  {
   "cell_type": "markdown",
   "id": "f70693ed-a0c1-4040-95a9-e7dd86b6e9ae",
   "metadata": {},
   "source": [
    "## 4. Apply dust correction"
   ]
  },
  {
   "cell_type": "code",
   "execution_count": 14,
   "id": "51b50114-86e5-456a-b18f-a52504e7fd6e",
   "metadata": {},
   "outputs": [],
   "source": [
    "if 'R_MAG_SB26_CORR' not in gals.colnames:    \n",
    "    gals['R_MAG_SB26_CORR'] = gals['R_MAG_SB26']\n",
    "    gals['R_MAG_SB26_CORR_ERR'] = gals['R_MAG_SB26_ERR']\n",
    "\n",
    "# Only adjust those galaxies which have valid corrections\n",
    "nan_gal = np.isnan(gals['Adust'])\n",
    "    \n",
    "gals['R_MAG_SB26_CORR'][~nan_gal] -= gals['Adust'][~nan_gal]\n",
    "gals['R_MAG_SB26_CORR_ERR'][~nan_gal] = np.sqrt(gals['R_MAG_SB26_CORR_ERR'][~nan_gal]**2 + gals['Adust_err'][~nan_gal]**2)"
   ]
  },
  {
   "cell_type": "markdown",
   "id": "f7a9b920-92ad-40b9-9700-3104db53f9d3",
   "metadata": {},
   "source": [
    "# Save results to file"
   ]
  },
  {
   "cell_type": "code",
   "execution_count": 15,
   "id": "6019ab05-529d-47b9-bf28-1c8e2e472c21",
   "metadata": {
    "tags": []
   },
   "outputs": [],
   "source": [
    "gals.write(gals_directory + 'SGA-2020_fuji_Vrot_phot-K-dust-Corr.fits', overwrite=True)"
   ]
  },
  {
   "cell_type": "code",
   "execution_count": null,
   "id": "033919df-133c-4c60-ac37-f10e6bd182dc",
   "metadata": {},
   "outputs": [],
   "source": []
  }
 ],
 "metadata": {
  "kernelspec": {
   "display_name": "DESI main",
   "language": "python",
   "name": "desi-main"
  },
  "language_info": {
   "codemirror_mode": {
    "name": "ipython",
    "version": 3
   },
   "file_extension": ".py",
   "mimetype": "text/x-python",
   "name": "python",
   "nbconvert_exporter": "python",
   "pygments_lexer": "ipython3",
   "version": "3.10.14"
  }
 },
 "nbformat": 4,
 "nbformat_minor": 5
}
