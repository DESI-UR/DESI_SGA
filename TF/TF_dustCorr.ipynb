{
 "cells": [
  {
   "cell_type": "markdown",
   "id": "13155905-d495-49af-9634-2a3d2c880813",
   "metadata": {},
   "source": [
    "Correct for dust extinction due to both Galactic dust and the extinction within the galaxy (should be a function of inclination)."
   ]
  },
  {
   "cell_type": "code",
   "execution_count": 12,
   "id": "fd0ebaa6-738d-44f6-a3fa-f28b9aec7932",
   "metadata": {
    "tags": []
   },
   "outputs": [],
   "source": [
    "import numpy as np\n",
    "\n",
    "from astropy.table import Table\n",
    "from astropy.io import fits\n",
    "\n",
    "import time\n",
    "\n",
    "import matplotlib.pyplot as plt"
   ]
  },
  {
   "cell_type": "markdown",
   "id": "46267890-5c95-4101-85b4-7b6d7114ed49",
   "metadata": {},
   "source": [
    "# Data"
   ]
  },
  {
   "cell_type": "markdown",
   "id": "7fb45225-ef95-4439-bbd1-8c8f68085d34",
   "metadata": {},
   "source": [
    "## Galaxies"
   ]
  },
  {
   "cell_type": "code",
   "execution_count": 2,
   "id": "c2efb728-a717-442d-8ea5-13a4ba7d5982",
   "metadata": {
    "tags": []
   },
   "outputs": [],
   "source": [
    "gals_directory = '/global/cfs/cdirs/desi/science/td/pv/tfgalaxies/SV/'\n",
    "\n",
    "gals_filename = 'SGA-2020_fuji_Vrot_photsys.fits'\n",
    "\n",
    "gals = Table.read(gals_directory + gals_filename)"
   ]
  },
  {
   "cell_type": "code",
   "execution_count": 7,
   "id": "07cdff40-7937-40c8-a323-f3e0af4969c2",
   "metadata": {
    "tags": []
   },
   "outputs": [
    {
     "data": {
      "text/plain": [
       "1164"
      ]
     },
     "execution_count": 7,
     "metadata": {},
     "output_type": "execute_result"
    }
   ],
   "source": [
    "len(gals)"
   ]
  },
  {
   "cell_type": "code",
   "execution_count": 3,
   "id": "85ee1e6d-952f-47d3-ac94-b93a8078cd5b",
   "metadata": {
    "tags": []
   },
   "outputs": [],
   "source": [
    "targets_directory = '/global/cfs/projectdirs/desi/science/td/pv/'\n",
    "\n",
    "targets_filename = 'desi_pv_tf_fuji_healpix.fits'\n",
    "\n",
    "targets = Table.read(targets_directory + targets_filename)"
   ]
  },
  {
   "cell_type": "code",
   "execution_count": 6,
   "id": "90500e5a-7869-4a8a-a2bf-4d0bf478e679",
   "metadata": {
    "tags": []
   },
   "outputs": [
    {
     "data": {
      "text/plain": [
       "13134"
      ]
     },
     "execution_count": 6,
     "metadata": {},
     "output_type": "execute_result"
    }
   ],
   "source": [
    "len(targets)"
   ]
  },
  {
   "cell_type": "code",
   "execution_count": 4,
   "id": "a89db58f-1721-4a89-ad0f-8cb12a18f1d9",
   "metadata": {
    "tags": []
   },
   "outputs": [],
   "source": [
    "fastspecfit_directory = '/global/cfs/cdirs/desi/public/edr/vac/edr/fastspecfit/fuji/v3.2/'"
   ]
  },
  {
   "cell_type": "markdown",
   "id": "7a33e074-eb28-4ead-9af7-aba8a4cc4ded",
   "metadata": {},
   "source": [
    "# Dust extinction\n",
    "\n",
    "Ratios of total to selective extinction (rederived from Schlafly11 and listed on https://www.legacysurvey.org/dr10/catalogs/#galactic-extinction-coefficients)"
   ]
  },
  {
   "cell_type": "code",
   "execution_count": 5,
   "id": "426a28fe-b204-41bd-ae45-77b2469e4c36",
   "metadata": {
    "tags": []
   },
   "outputs": [],
   "source": [
    "Rr = 2.165\n",
    "Rv = 3.1 # from Schlafly & Finkbeiner (2011) - https://ui.adsabs.harvard.edu/abs/2011ApJ...737..103S/abstract"
   ]
  },
  {
   "cell_type": "markdown",
   "id": "a98b8c58-a539-44cc-889b-7c5fef295577",
   "metadata": {},
   "source": [
    "## 1. Extract line fluxes\n",
    "\n",
    "We need to identify which spectra were actually used in the analysis, so that we can use \"good\" flux estimates."
   ]
  },
  {
   "cell_type": "code",
   "execution_count": null,
   "id": "6b7616d8-734d-4899-9802-a128344629f6",
   "metadata": {
    "jupyter": {
     "source_hidden": true
    },
    "tags": []
   },
   "outputs": [],
   "source": [
    "'''\n",
    "################################################################################\n",
    "# Separate the data into center and off-center observations\n",
    "#-------------------------------------------------------------------------------\n",
    "targets['SKY_FIBER_DIST'] = 0.\n",
    "targets['SKY_FIBER_DIST_R26'] = 0.\n",
    "targets['V_ROT'] = np.nan\n",
    "targets['V_ROT_ERR'] = np.nan\n",
    "\n",
    "\n",
    "for i in range(len(gals)):\n",
    "    \n",
    "    # Identify all galaxy targets on this galaxy\n",
    "    obs_idx = targets['SGA_ID'] == gals['SGA_ID'][i]\n",
    "    \n",
    "    #---------------------------------------------------------------------------\n",
    "    # Calculate distance between each observation and the center of the galaxy\n",
    "    #---------------------------------------------------------------------------\n",
    "    gal_coords = SkyCoord(ra=gals['RA'][i], \n",
    "                          dec=gals['DEC'][i], \n",
    "                          unit=u.degree)\n",
    "    target_coords = SkyCoord(ra=targets['RA'][obs_idx], \n",
    "                             dec=targets['DEC'][obs_idx], \n",
    "                             unit=u.degree)\n",
    "    \n",
    "    sep2d = target_coords.separation(gal_coords)\n",
    "    \n",
    "    targets['SKY_FIBER_DIST'][obs_idx] = sep2d\n",
    "    targets['SKY_FIBER_DIST_R26'][obs_idx] = 2*sep2d.to('arcmin')/(gals['D26'][i]*u.arcmin)\n",
    "    #---------------------------------------------------------------------------\n",
    "    \n",
    "    \n",
    "    #---------------------------------------------------------------------------\n",
    "    # Calculate the rotational velocity\n",
    "    #---------------------------------------------------------------------------\n",
    "    targets['V_ROT'][obs_idx] = c*(targets['Z'][obs_idx] - gals['Z_DESI'][i])\n",
    "    targets['V_ROT_ERR'][obs_idx] = c*np.sqrt(targets['ZERR'][obs_idx]**2 + gals['ZERR_DESI'][i]**2)\n",
    "    #---------------------------------------------------------------------------\n",
    "    \n",
    "    \n",
    "    #---------------------------------------------------------------------------\n",
    "    # Correct rotational velocities for inclination angle\n",
    "    #---------------------------------------------------------------------------\n",
    "    cosi2 = (gals['BA'][i]**2 - q0**2)/(1 - q0**2)\n",
    "    \n",
    "    # Galaxies with b/a < q0\n",
    "    if cosi2 < 0:\n",
    "        cosi2 = 0\n",
    "        \n",
    "    targets['V_ROT'][obs_idx] /= np.sin(np.arccos(np.sqrt(cosi2)))\n",
    "    #---------------------------------------------------------------------------\n",
    "\n",
    "\n",
    "centers_boolean = targets['SKY_FIBER_DIST_R26'] < 0.1\n",
    "\n",
    "target_centers = targets[centers_boolean]\n",
    "target_axis = targets[~centers_boolean]\n",
    "################################################################################\n",
    "\n",
    "\n",
    "################################################################################\n",
    "# Clean the center observations\n",
    "#\n",
    "# Only keep those with\n",
    "#  - DELTACHI2 > 25\n",
    "#  - ZWARN == 0\n",
    "#-------------------------------------------------------------------------------\n",
    "good_centers = target_centers[(target_centers['DELTACHI2'] > 25) & (target_centers['ZWARN'] == 0)]\n",
    "################################################################################\n",
    "\n",
    "\n",
    "################################################################################\n",
    "# Clean the axis observations\n",
    "#\n",
    "# Requirements:\n",
    "#  - 10 < Vrot < 1000 km/s\n",
    "#  - Delta V / Vmin <= 5\n",
    "#-------------------------------------------------------------------------------\n",
    "# Velocity cut\n",
    "#-------------------------------------------------------------------------------\n",
    "good_axis = target_axis[(np.abs(target_axis['V_ROT']) < 1000) & (np.abs(target_axis['V_ROT']) > 10)]\n",
    "#-------------------------------------------------------------------------------\n",
    "# Relative velocity cut\n",
    "#-------------------------------------------------------------------------------\n",
    "good_deltaV = np.ones(len(good_axis), dtype=bool)\n",
    "\n",
    "for sga_id in gals['SGA_ID']:\n",
    "    \n",
    "    # Identify all axis targets on this galaxy\n",
    "    obs_idx = good_axis['SGA_ID'] == sga_id\n",
    "''';"
   ]
  },
  {
   "cell_type": "code",
   "execution_count": 14,
   "id": "1b2d068a-20bd-4999-9a4e-acc6a1c8a58c",
   "metadata": {
    "collapsed": true,
    "jupyter": {
     "outputs_hidden": true
    },
    "tags": []
   },
   "outputs": [
    {
     "name": "stderr",
     "output_type": "stream",
     "text": [
      "/tmp/ipykernel_488138/380194261.py:68: RuntimeWarning: divide by zero encountered in true_divide\n",
      "  gals['HALPHA_FLUX_ERR'][i] = np.sqrt(np.nansum(1/Ha_ivar**2))\n",
      "/tmp/ipykernel_488138/380194261.py:69: RuntimeWarning: divide by zero encountered in true_divide\n",
      "  gals['HBETA_FLUX_ERR'][i] = np.sqrt(np.nansum(1/Hb_ivar**2))\n"
     ]
    },
    {
     "name": "stdout",
     "output_type": "stream",
     "text": [
      "0 1071046983680006\n",
      "0 1070791412154371\n",
      "0 1084416059244550\n",
      "0 39627757612699997\n",
      "0 1070770205753344\n",
      "0 1070905056821255\n",
      "0 1083435347083273\n",
      "0 1070241207549959\n",
      "0 1083272423538695\n",
      "0 1083459418193922\n",
      "0 1071095058792449\n",
      "0 1070904587059200\n",
      "0 1083308779765763\n",
      "0 1084544249757697\n",
      "0 1083296704364546\n",
      "0 1083296704364546\n",
      "0 1071371966742533\n",
      "0 1084240997384192\n",
      "0 1070108482994196\n",
      "0 1083374043136007\n",
      "0 1084280654528518\n",
      "0 1070168985829381\n",
      "0 1070199147069461\n",
      "0 39628433256351023\n",
      "0 1084079214690304\n",
      "0 1083357064593411\n",
      "0 1070874497122305\n",
      "0 1070149738168324\n",
      "0 1083331785523213\n",
      "0 -3809215\n",
      "0 1070114522791936\n",
      "0 1084084218494985\n",
      "0 1070909574086659\n",
      "0 1070786127331332\n",
      "0 1071207118012417\n",
      "0 1084401257545729\n",
      "0 1071060283817985\n",
      "0 1071350089252865\n",
      "0 1071073479098371\n",
      "0 1083411250806790\n",
      "0 1070217111273474\n",
      "0 1084241047715846\n",
      "0 1070193157603332\n",
      "0 1070919439089688\n",
      "0 1083990802956289\n",
      "0 1071221928099842\n",
      "0 1070894621392898\n",
      "0 1084245527232516\n",
      "0 1070198031384587\n",
      "0 1070108638183428\n",
      "0 1071064704614406\n",
      "0 1083985526521861\n",
      "0 39627859710446261\n",
      "0 1084088744148994\n",
      "0 1083399338983426\n",
      "0 1070089809952773\n",
      "0 1070143681593347\n",
      "0 39627853700009582\n",
      "0 1070199176429579\n",
      "0 1084393795878915\n",
      "0 1083308666519555\n",
      "0 1070114526986246\n",
      "0 1070126073905152\n",
      "0 2305843021381380269\n",
      "0 1084581042192389\n",
      "0 1084568648024067\n",
      "0 1084448263110657\n",
      "0 1083375183986695\n",
      "0 1071051433836548\n",
      "0 1071330225029121\n",
      "0 1084249989971971\n",
      "0 1083314198806529\n",
      "0 1070155740217346\n",
      "0 1083349879750658\n",
      "0 1083349879750661\n",
      "0 1070155740217348\n",
      "0 1071236582998021\n",
      "0 1071261019013121\n",
      "0 1070199176429573\n",
      "0 1070138157694983\n",
      "0 1071199647956999\n",
      "0 1083349888139265\n",
      "0 1083332909596674\n",
      "0 1071330241806336\n",
      "0 1084581054775296\n",
      "0 1084581054775301\n",
      "0 1070090359406612\n",
      "0 1084401261740038\n",
      "0 1083283970457610\n",
      "0 1084078698790914\n",
      "0 1070884559257600\n",
      "0 1083393303379980\n",
      "0 1083937531101199\n",
      "0 1071090759630850\n",
      "0 1070149700419586\n",
      "0 1083343839952899\n",
      "0 1083405223591940\n",
      "0 1084084214300675\n",
      "0 1070895074377731\n",
      "0 1083398202327051\n",
      "0 1084573697966082\n",
      "0 1084576168411139\n",
      "0 39628438599893250\n",
      "0 1071236591386630\n",
      "0 1071264412205059\n",
      "0 1084458551738371\n",
      "0 1084108625149954\n",
      "0 1084258856730627\n",
      "0 1084094247075850\n",
      "0 1084123879833614\n",
      "0 1083374043136019\n",
      "0 1071073500069891\n",
      "0 2305843020987114193\n",
      "0 1084267601854465\n",
      "0 1084245594341387\n",
      "0 1070191995781132\n",
      "0 1070247259930630\n",
      "0 1070874966884353\n",
      "0 39627781721555062\n",
      "0 1070874471956482\n",
      "0 1071386906853379\n",
      "0 2305843020093719364\n",
      "0 1070102497722376\n",
      "0 1084245518843905\n",
      "0 1084544241369093\n",
      "0 1071350114418692\n",
      "0 1084544253952004\n",
      "0 1084079218884608\n",
      "0 1084109111689222\n",
      "0 1071257579683844\n",
      "0 1071333769216002\n",
      "0 39633405578577642\n",
      "0 1083974956875784\n",
      "0 1083974956875782\n",
      "0 1083343852535811\n",
      "0 1084241039327235\n",
      "0 1070191999975429\n",
      "0 1083381219590148\n",
      "0 1071336029945868\n",
      "0 1070090351017985\n",
      "0 1083953637228560\n",
      "0 1071344552771587\n",
      "0 1070083778543626\n",
      "0 1070120566784004\n",
      "0 1071240169127940\n",
      "0 1084118959915013\n",
      "0 1084254414962689\n",
      "0 1070137633406991\n",
      "0 1084098714009612\n",
      "0 1070904574476298\n",
      "0 1084114039996419\n",
      "0 1084267694129155\n",
      "0 1070905090375689\n",
      "0 2305843020118892586\n",
      "0 39628433260547426\n",
      "0 1071330875146246\n",
      "0 1083296687587328\n",
      "0 1083337837903873\n",
      "0 1083344993386502\n",
      "0 1071042424471572\n",
      "0 1084089218105344\n",
      "0 1084089218105349\n",
      "0 -2126206\n",
      "0 -2016206\n",
      "0 -1906206\n",
      "0 1071250675859468\n",
      "0 1071240131379207\n",
      "0 1071233026228238\n"
     ]
    }
   ],
   "source": [
    "gals['HALPHA_FLUX'] = np.nan\n",
    "gals['HBETA_FLUX'] = np.nan\n",
    "gals['HALPHA_FLUX_ERR'] = np.nan\n",
    "gals['HBETA_FLUX_ERR'] = np.nan\n",
    "\n",
    "# Only consider those targets for which RedRock thinks it has a good fit\n",
    "targets_good = targets[targets['DELTACHI2'] > 25]\n",
    "\n",
    "for i in range(len(gals)):\n",
    "    \n",
    "    # start_time = time.time()\n",
    "    \n",
    "    # Identify all galaxy targets on this galaxy\n",
    "    obs_idx = targets_good['SGA_ID'] == gals['SGA_ID'][i]\n",
    "    \n",
    "    # Identify targetIDs for galaxy\n",
    "    targetids = targets_good['TARGETID'][obs_idx]\n",
    "    # print(targetids)\n",
    "    \n",
    "    # Identify filenames for galaxy\n",
    "    filenames = targets_good['FILENAME'][obs_idx]\n",
    "    \n",
    "    # Initialize Ha, Hb arrays\n",
    "    Ha = np.zeros(sum(obs_idx))\n",
    "    Hb = np.zeros(sum(obs_idx))\n",
    "    Ha_ivar = np.zeros(sum(obs_idx))\n",
    "    Hb_ivar = np.zeros(sum(obs_idx))\n",
    "    \n",
    "    # print('Checkpoint 1:', time.time() - start_time)\n",
    "    \n",
    "    # Extract fluxes from fastspecfit catalog\n",
    "    for j in range(len(filenames)):\n",
    "        \n",
    "        # Strip \"fuji/\" from filename\n",
    "        rr_filename = filenames[j][5:]\n",
    "        \n",
    "        # Replace \"redrock\" with \"fastspec\"\n",
    "        dirs, file = rr_filename.split('redrock')\n",
    "        fs_filename = dirs + 'fastspec' + file + '.gz'\n",
    "        \n",
    "        # start_read = time.time()\n",
    "        \n",
    "        # Open file\n",
    "        hdul = fits.open(fastspecfit_directory + fs_filename, hdu=1)\n",
    "        fs_file = hdul[1].data\n",
    "        hdul.close()\n",
    "        \n",
    "        # print('Read time:', time.time() - start_read)\n",
    "        \n",
    "        # Find row for this targetid\n",
    "        targetid_idx = fs_file['TARGETID'] == targetids[j]\n",
    "        \n",
    "        if sum(targetid_idx) == 1:\n",
    "            # Extract Ha, Hb fluxes\n",
    "            Ha[j] = fs_file['HALPHA_FLUX'][targetid_idx]\n",
    "            Hb[j] = fs_file['HBETA_FLUX'][targetid_idx]\n",
    "            Ha_ivar[j] = fs_file['HALPHA_FLUX_IVAR'][targetid_idx]\n",
    "            Hb_ivar[j] = fs_file['HBETA_FLUX_IVAR'][targetid_idx]\n",
    "        else:\n",
    "            print(sum(targetid_idx), targetids[j])\n",
    "    \n",
    "    # print(Ha/Hb)\n",
    "    # print('Checkpoint 4:', time.time() - start_time)\n",
    "    \n",
    "    # Compute \"total\" fluxes\n",
    "    gals['HALPHA_FLUX'][i] = np.sum(Ha)\n",
    "    gals['HBETA_FLUX'][i] = np.sum(Hb)\n",
    "    gals['HALPHA_FLUX_ERR'][i] = np.sqrt(np.nansum(1/Ha_ivar**2))\n",
    "    gals['HBETA_FLUX_ERR'][i] = np.sqrt(np.nansum(1/Hb_ivar**2))\n",
    "    \n",
    "    # print('-------')"
   ]
  },
  {
   "cell_type": "code",
   "execution_count": 17,
   "id": "b567342a-6051-4259-b492-5d866714d1aa",
   "metadata": {},
   "outputs": [
    {
     "name": "stderr",
     "output_type": "stream",
     "text": [
      "/tmp/ipykernel_488138/946008949.py:3: RuntimeWarning: divide by zero encountered in true_divide\n",
      "  plt.plot(gals['BA'], gals['HALPHA_FLUX']/gals['HBETA_FLUX'], '.')\n",
      "/tmp/ipykernel_488138/946008949.py:3: RuntimeWarning: invalid value encountered in true_divide\n",
      "  plt.plot(gals['BA'], gals['HALPHA_FLUX']/gals['HBETA_FLUX'], '.')\n"
     ]
    },
    {
     "data": {
      "image/png": "[encoded data removed]",
      "text/plain": [
       "<Figure size 640x480 with 1 Axes>"
      ]
     },
     "metadata": {},
     "output_type": "display_data"
    }
   ],
   "source": [
    "plt.figure(tight_layout=True)\n",
    "\n",
    "plt.plot(gals['BA'], gals['HALPHA_FLUX']/gals['HBETA_FLUX'], '.')\n",
    "\n",
    "plt.ylim(ymax=20)\n",
    "\n",
    "plt.xlabel('b/a')\n",
    "plt.ylabel(r'H$\\alpha$/H$\\beta$');"
   ]
  },
  {
   "cell_type": "code",
   "execution_count": null,
   "id": "00317b74-c156-486c-950d-4c2a3af98467",
   "metadata": {},
   "outputs": [],
   "source": []
  },
  {
   "cell_type": "code",
   "execution_count": null,
   "id": "010e31a2-3bbc-4640-a709-bf3e6a807d15",
   "metadata": {},
   "outputs": [],
   "source": []
  },
  {
   "cell_type": "markdown",
   "id": "f95969ff-77ad-429b-8522-647669001613",
   "metadata": {},
   "source": [
    "## 2. Compute $E(B-V)$ value for each galaxy\n",
    "\n",
    "$A_\\lambda / A_V$ from [O'Donnell (1994)](https://ui.adsabs.harvard.edu/abs/1994ApJ...422..158O/abstract)"
   ]
  },
  {
   "cell_type": "code",
   "execution_count": 7,
   "id": "d7c2ebe9-62e9-4257-959b-c0fc75750b3c",
   "metadata": {
    "tags": []
   },
   "outputs": [],
   "source": [
    "def ODon94(wave, Rv):\n",
    "    '''\n",
    "    Calculate the interstellar extinction, A(lambda)/Av, using the extinction curve defined in O'Donnell (1994).\n",
    "    \n",
    "    \n",
    "    PARAMETERS\n",
    "    ==========\n",
    "    \n",
    "    wave : float\n",
    "        Wavelength for which the extinction should be calculated.  Units are Angstroms.\n",
    "        \n",
    "    Rv : float\n",
    "        Extinction ratio\n",
    "        \n",
    "        \n",
    "    RETURNS\n",
    "    =======\n",
    "    \n",
    "    AwAv : float\n",
    "        The interstellar extinction for the given wavelength.\n",
    "    '''\n",
    "    \n",
    "    # Convert wavelength to microns\n",
    "    wave_um = wave/1e4\n",
    "    \n",
    "    # Calculate inverse wavelength\n",
    "    x = 1/wave_um\n",
    "    \n",
    "    # Calculate wavelength shift\n",
    "    y = x - 1.82\n",
    "    \n",
    "    # Calculate coefficients\n",
    "    a = 1 + 0.104*y - 0.609*y**2 + 0.701*y**3 + 1.137*y**4 - 1.718*y**5 - 0.827*y**6 + 1.647*y**7 - 0.505*y**8\n",
    "    b = 1.952*y + 2.908*y**2 - 3.989*y**3 - 7.985*y**4 + 11.102*y**5 + 5.491*y**6 - 10.805*y**7 + 3.347*y**8\n",
    "    \n",
    "    print(a, b)\n",
    "    \n",
    "    # Calculate extinction\n",
    "    AwAv = a + b/Rv\n",
    "    \n",
    "    return AwAv"
   ]
  },
  {
   "cell_type": "code",
   "execution_count": null,
   "id": "8ad54b34-a60c-4b24-b399-39830537a068",
   "metadata": {},
   "outputs": [],
   "source": [
    "gals['EBV'] = np.nan\n",
    "gals['EBV_ERR'] = np.nan\n",
    "\n",
    "AHaAv = ODon94(6563, Rv)\n",
    "AHbAv = ODon94(4861, Rv)\n",
    "\n",
    "gals['EBV'] = 2.5*np.log10(2.86/HaHb)/(Rv*(AHaAv - AHbAv))"
   ]
  },
  {
   "cell_type": "markdown",
   "id": "49562817-f3f3-4f01-8946-501c1e1a97d7",
   "metadata": {},
   "source": [
    "## 3. Compute dust extinction correction\n",
    "\n",
    "\\begin{equation}\n",
    "  A_\\text{dust} = R_r E(B - V)\n",
    "\\end{equation}"
   ]
  },
  {
   "cell_type": "code",
   "execution_count": null,
   "id": "a318a505-3593-44e6-b879-db1b59ceff54",
   "metadata": {},
   "outputs": [],
   "source": [
    "gals['Adust'] = Rr * gals['EBV']\n",
    "gals['Adust_err'] = Rr * gals['EBV_ERR']"
   ]
  },
  {
   "cell_type": "code",
   "execution_count": null,
   "id": "45a9fb7e-7b9e-48d4-9136-d772044b88c9",
   "metadata": {},
   "outputs": [],
   "source": [
    "plt.figure(tight_layout=True)\n",
    "\n",
    "plt.hist(gals['Adust'], bins=np.arange(-0.1, 0.15, 0.005))\n",
    "\n",
    "plt.xlabel(r'$A_\\text{dust}$ [mag]', fontsize=16)\n",
    "plt.ylabel('number of galaxies', fontsize=16)\n",
    "\n",
    "plt.tick_params(axis='both', which='major', labelsize=14);\n",
    "\n",
    "# plt.savefig('../Figures/SV/fuji_Adust_hist_20240701.png', dpi=150);"
   ]
  },
  {
   "cell_type": "markdown",
   "id": "f70693ed-a0c1-4040-95a9-e7dd86b6e9ae",
   "metadata": {},
   "source": [
    "## 4. Apply dust correction"
   ]
  },
  {
   "cell_type": "code",
   "execution_count": null,
   "id": "51b50114-86e5-456a-b18f-a52504e7fd6e",
   "metadata": {},
   "outputs": [],
   "source": [
    "if 'R_MAG_SB26_CORR' not in gals.colnames:    \n",
    "    gals['R_MAG_SB26_CORR'] = gals['R_MAG_SB26']\n",
    "    gals['R_MAG_SB26_CORR_ERR'] = gals['R_MAG_SB26_ERR']\n",
    "\n",
    "# Only adjust those galaxies which have valid corrections\n",
    "nan_gal = np.isnan(gals['Adust'])\n",
    "    \n",
    "gals['R_MAG_SB26_CORR'][~nan_gal] -= gals['Adust'][~nan_gal]\n",
    "gals['R_MAG_SB26_CORR_ERR'][~nan_gal] = np.sqrt(gals['R_MAG_SB26_CORR_ERR'][~nan_gal]**2 + gals['Adust_err'][~nan_gal]**2)"
   ]
  }
 ],
 "metadata": {
  "kernelspec": {
   "display_name": "DESI main",
   "language": "python",
   "name": "desi-main"
  },
  "language_info": {
   "codemirror_mode": {
    "name": "ipython",
    "version": 3
   },
   "file_extension": ".py",
   "mimetype": "text/x-python",
   "name": "python",
   "nbconvert_exporter": "python",
   "pygments_lexer": "ipython3",
   "version": "3.10.14"
  }
 },
 "nbformat": 4,
 "nbformat_minor": 5
}
