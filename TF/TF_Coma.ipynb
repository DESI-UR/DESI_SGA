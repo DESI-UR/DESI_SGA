{
 "cells": [
  {
   "cell_type": "markdown",
   "id": "ead385a1-f2d4-44ec-afd0-57871d0e2cb2",
   "metadata": {},
   "source": [
    "# Tully-Fisher Relation of galaxies in the Coma Cluster\n",
    "\n",
    "Using the observations made as part of the Peculiar Velocity Survey, create the Tully-Fisher relation for those galaxies in the Coma Cluster."
   ]
  },
  {
   "cell_type": "code",
   "execution_count": 1,
   "id": "0cf37865-b277-4944-a29f-10e7584487e1",
   "metadata": {},
   "outputs": [],
   "source": [
    "import os\n",
    "\n",
    "#from astropy.io import fits\n",
    "from astropy.table import Table\n",
    "from astropy.coordinates import SkyCoord, match_coordinates_sky\n",
    "from astropy import units as u\n",
    "#from astropy.wcs import WCS\n",
    "#from astropy.visualization.wcsaxes import SphericalCircle\n",
    "\n",
    "#import psycopg2\n",
    "\n",
    "import numpy as np\n",
    "\n",
    "from scipy.optimize import minimize, curve_fit\n",
    "\n",
    "import matplotlib as mpl\n",
    "import matplotlib.pyplot as plt"
   ]
  },
  {
   "cell_type": "code",
   "execution_count": 2,
   "id": "6a3be784-4baf-4c63-b47b-6ea97bb1f64a",
   "metadata": {},
   "outputs": [],
   "source": [
    "mpl.rc('font', size=12)\n",
    "mpl.rc('axes', titlesize='small')\n",
    "mpl.rc('figure', max_open_warning=0)"
   ]
  },
  {
   "cell_type": "code",
   "execution_count": 3,
   "id": "a7565ae1-09d0-4018-8ceb-ba8ab81128c4",
   "metadata": {},
   "outputs": [],
   "source": [
    "h = 1\n",
    "H0 = 100*h\n",
    "\n",
    "c = 3e5\n",
    "\n",
    "q0 = 0.2"
   ]
  },
  {
   "cell_type": "markdown",
   "id": "1678e508-b7cd-467d-a41e-5036e5c58863",
   "metadata": {},
   "source": [
    "## Read in Coma cluster targets\n",
    "\n",
    "Generated in the `PV_coma_targets` notebook"
   ]
  },
  {
   "cell_type": "code",
   "execution_count": 4,
   "id": "f0e47a36-d443-4846-abe4-e89b0af7a50b",
   "metadata": {},
   "outputs": [],
   "source": [
    "inComa_sga_table = Table.read('cache/tf_targets_coma_sga.fits', format='fits')"
   ]
  },
  {
   "cell_type": "markdown",
   "id": "5810ece7-ce1b-43ca-b865-20e736d0f78f",
   "metadata": {},
   "source": [
    "## Calculate the rotational velocities\n",
    "\n",
    "And store those at $0.33R_{26}$\n",
    "\n",
    "Also, remove those with a velocity > 5000 km/s"
   ]
  },
  {
   "cell_type": "code",
   "execution_count": 62,
   "id": "66da2fa7-c91a-4c6a-9645-6622bb9df907",
   "metadata": {},
   "outputs": [],
   "source": [
    "rmag = []\n",
    "vmax = []\n",
    "dvmax = []\n",
    "\n",
    "for i, sga_id in enumerate(np.unique(inComa_sga_table['SGA_ID'])):\n",
    "    galaxy_list = inComa_sga_table[inComa_sga_table['SGA_ID'] == sga_id]\n",
    "    #print(i+1, sga_id)\n",
    "    \n",
    "    is_sga_galaxy = (galaxy_list['TARGETID'] > 30000000000000000) & (galaxy_list['TARGETID'] < 40000000000000000)\n",
    "    sga_galaxy = galaxy_list[is_sga_galaxy]\n",
    "    tf_list = galaxy_list[~is_sga_galaxy]\n",
    "    \n",
    "    targetid = sga_galaxy['TARGETID'][0]\n",
    "    center = SkyCoord(sga_galaxy['FIBER_RA'], sga_galaxy['FIBER_DEC'], unit='deg')\n",
    "    offcenter = SkyCoord(tf_list['FIBER_RA'], tf_list['FIBER_DEC'], unit='deg')\n",
    "    idx, sep2d, sep3d = match_coordinates_sky(offcenter, center)\n",
    "    r26 = 0.5 * float(sga_galaxy['D26'])\n",
    "    sep_r26 = sep2d.to_value('arcmin') / r26\n",
    "    \n",
    "    zc, zc_err = sga_galaxy['Z'], sga_galaxy['ZERR']\n",
    "    zt, zt_err = tf_list['Z'], tf_list['ZERR']\n",
    "    \n",
    "    dz = np.abs(zt - zc)\n",
    "    dz_err = np.sqrt(zc_err**2 + zt_err**2)\n",
    "    \n",
    "    dv = c * dz\n",
    "    dv_err = c * dz_err\n",
    "    \n",
    "    good_vel = dv < 5000\n",
    "    \n",
    "    if np.sum(good_vel) > 0:\n",
    "        sep_r26 = np.insert(sep_r26[good_vel], 0, 0.)\n",
    "        dv = np.insert(dv[good_vel], 0, 0.)\n",
    "        dv_err = np.insert(dv_err[good_vel], 0, 3e5*zc_err)\n",
    "\n",
    "        # Extract the 0.33xR26 points.\n",
    "        is_033_r26 = (sep_r26 > 0.3) & (sep_r26 < 0.4)\n",
    "        if np.sum(is_033_r26) > 0:\n",
    "            v033 = np.mean(dv[is_033_r26])\n",
    "            dv033 = np.sqrt(np.sum(dv_err[is_033_r26]**2))\n",
    "\n",
    "            rmag.append(float(sga_galaxy['R_MAG_SB26']))\n",
    "            vmax.append(v033)\n",
    "            dvmax.append(dv033)\n",
    "    \n",
    "#print('mag:', rmag)\n",
    "#print('vel:', vmax)\n",
    "#print('dv:', dvmax)"
   ]
  },
  {
   "cell_type": "code",
   "execution_count": 63,
   "id": "6daea423-59e9-4388-8501-b5e2942b9c99",
   "metadata": {},
   "outputs": [
    {
     "name": "stdout",
     "output_type": "stream",
     "text": [
      "50\n"
     ]
    },
    {
     "data": {
      "image/png": "[encoded data removed]",
      "text/plain": [
       "<Figure size 720x288 with 2 Axes>"
      ]
     },
     "metadata": {
      "needs_background": "light"
     },
     "output_type": "display_data"
    }
   ],
   "source": [
    "rmag = np.asarray(rmag)\n",
    "vmax = np.asarray(vmax)\n",
    "dvmax = np.asarray(dvmax)\n",
    "\n",
    "isrmeas = rmag > 0\n",
    "\n",
    "fig, axes = plt.subplots(1, 2, figsize=(10,4), tight_layout=True)\n",
    "\n",
    "ax = axes[0]\n",
    "ax.errorbar(rmag[isrmeas], vmax[isrmeas], yerr=dvmax[isrmeas], fmt='ro')\n",
    "ax.set(xlabel='$m_r$(26)',\n",
    "       xlim=(18.5, 12.5),\n",
    "       ylim=(-50,300),\n",
    "       ylabel='$v_\\mathrm{max}$ [km s$^{-1}$]')\n",
    "\n",
    "ax = axes[1]\n",
    "\n",
    "log10vmax = np.log10(vmax)\n",
    "dlog10vmax = 0.434 * dvmax / vmax \n",
    "\n",
    "ax.errorbar(rmag[isrmeas], log10vmax[isrmeas], yerr=dlog10vmax[isrmeas], fmt='ro')\n",
    "ax.set(xlabel='$m_r$(26)',\n",
    "       xlim=(18.5, 12.5),\n",
    "       ylabel=r'$\\log{(v_\\mathrm{max} / \\mathrm{km~s}^{-1})}$',\n",
    "       ylim=(-0.5,3))\n",
    "\n",
    "fig.suptitle(r'Rotational velocity at $0.33R_{26}$', y=1.05)\n",
    "fig.subplots_adjust(top=0.8)\n",
    "\n",
    "print(np.sum(isrmeas))"
   ]
  },
  {
   "cell_type": "markdown",
   "id": "e0039773-5608-42d6-9d3e-7305404efada",
   "metadata": {},
   "source": [
    "## Cuts on inclination angle and morphology"
   ]
  },
  {
   "cell_type": "code",
   "execution_count": 65,
   "id": "6ce147db-3ca9-4d52-a14f-d7708ab2d993",
   "metadata": {},
   "outputs": [
    {
     "name": "stderr",
     "output_type": "stream",
     "text": [
      "<ipython-input-65-89f78b36dcee>:8: RuntimeWarning: invalid value encountered in sqrt\n",
      "  inComa_sga_table['cosi'] = np.sqrt((inComa_sga_table['BA']**2 - q0**2)/(1 - q0**2))\n"
     ]
    }
   ],
   "source": [
    "rmag_clean = []\n",
    "vmax_clean = []\n",
    "dvmax_clean = []\n",
    "\n",
    "inc_min = 45*u.degree\n",
    "cosi_max = np.cos(inc_min.to('radian'))\n",
    "\n",
    "inComa_sga_table['cosi'] = np.sqrt((inComa_sga_table['BA']**2 - q0**2)/(1 - q0**2))\n",
    "inComa_sga_table['cosi'][np.isnan(inComa_sga_table['cosi'])] = 0 # Objects with b/a < 0.2\n",
    "\n",
    "i = 0\n",
    "\n",
    "for sga_id in np.unique(inComa_sga_table['SGA_ID']):\n",
    "    galaxy_list = inComa_sga_table[inComa_sga_table['SGA_ID'] == sga_id]\n",
    "    \n",
    "    is_sga_galaxy = (galaxy_list['TARGETID'] > 30000000000000000) & (galaxy_list['TARGETID'] < 40000000000000000)\n",
    "    sga_galaxy = galaxy_list[is_sga_galaxy]\n",
    "    tf_list = galaxy_list[~is_sga_galaxy]\n",
    "    \n",
    "    targetid = sga_galaxy['TARGETID'][0]\n",
    "    center = SkyCoord(sga_galaxy['FIBER_RA'], sga_galaxy['FIBER_DEC'], unit='deg')\n",
    "    offcenter = SkyCoord(tf_list['FIBER_RA'], tf_list['FIBER_DEC'], unit='deg')\n",
    "    idx, sep2d, sep3d = match_coordinates_sky(offcenter, center)\n",
    "    morphtype = sga_galaxy['MORPHTYPE'][0]\n",
    "    cosi = sga_galaxy['cosi'][0]\n",
    "    r26 = 0.5 * float(sga_galaxy['D26'])\n",
    "    sep_r26 = sep2d.to_value('arcmin') / r26\n",
    "\n",
    "    # Cut any suspected ellipticals\n",
    "    if morphtype.startswith('E') or morphtype.startswith('S0') or morphtype.startswith('I'):\n",
    "        continue\n",
    "               \n",
    "    # Inclination cut\n",
    "    if cosi > cosi_max:\n",
    "        continue\n",
    "        \n",
    "    i += 1\n",
    "    #print(i, sga_id, cosi)\n",
    "    \n",
    "    zc, zc_err = sga_galaxy['Z'], sga_galaxy['ZERR']\n",
    "    zt, zt_err = tf_list['Z'], tf_list['ZERR']\n",
    "    \n",
    "    dz = np.abs(zt - zc)\n",
    "    dz_err = np.sqrt(zc_err**2 + zt_err**2)\n",
    "    \n",
    "    dv = 3e5 * dz\n",
    "    dv_err = 3e5 * dz_err\n",
    "    \n",
    "    good_vel = dv < 5000\n",
    "    \n",
    "    if np.sum(good_vel) > 0:\n",
    "    \n",
    "        sep_r26 = np.insert(sep_r26[good_vel], 0, 0.)\n",
    "        dv = np.insert(dv[good_vel], 0, 0.)\n",
    "        dv_err = np.insert(dv_err[good_vel], 0, 3e5*zc_err)\n",
    "\n",
    "        # Extract the 0.33xR26 points.\n",
    "        is_033_r26 = (sep_r26 > 0.3) & (sep_r26 < 0.4)\n",
    "        v033 = np.mean(dv[is_033_r26]) / np.sqrt(1 - cosi**2)\n",
    "        dv033 = np.sqrt(np.sum(dv_err[is_033_r26]**2)) / np.sqrt(1 - cosi**2)\n",
    "\n",
    "        rmag_clean.append(float(sga_galaxy['R_MAG_SB26']))\n",
    "        vmax_clean.append(v033)\n",
    "        dvmax_clean.append(dv033)\n",
    "    \n",
    "#inComa_sga_table[['SGA_ID', 'BA', 'cosi']].show_in_notebook()"
   ]
  },
  {
   "cell_type": "markdown",
   "id": "1e9a7301-90cc-440e-9b6c-dec4606af5a8",
   "metadata": {},
   "source": [
    "## Fitting using `scipy.optimize.minimize`\n",
    "\n",
    "Segev's code"
   ]
  },
  {
   "cell_type": "code",
   "execution_count": 69,
   "id": "65c41595-218e-4771-9740-ef5d8e47894b",
   "metadata": {},
   "outputs": [],
   "source": [
    "def l1norm(pars, x, y, dy):\n",
    "    '''\n",
    "    Linear fit that uses the l1-norm (robust against outliers).\n",
    "    '''\n",
    "    a, b = pars\n",
    "    return np.sum(np.abs((y - a - b*x)/dy))\n",
    "\n",
    "def fit_tfr(r, logv, dlogv):\n",
    "    fmin = 1e99\n",
    "    a, b = 6, -0.25\n",
    "    \n",
    "    succ_res = None\n",
    "    \n",
    "    # Try a large number of random seeds to ensure a decent fit.\n",
    "    for i in range(100):\n",
    "        _a, _b = np.random.uniform(0,10), np.random.uniform(-1,0)\n",
    "        \n",
    "        res = minimize(l1norm, \n",
    "                       [_a, _b], \n",
    "                       args=(r, logv, dlogv),\n",
    "                       method='L-BFGS-B', \n",
    "                       bounds=[[0,10], [-1,1]])\n",
    "        \n",
    "        if res.fun < fmin and res.success:\n",
    "            print('Successful fit')\n",
    "            succ_res = res.copy()\n",
    "            fmin = res.fun\n",
    "            a, b = res.x\n",
    "    \n",
    "    if succ_res is None:\n",
    "        print('No successful fits')\n",
    "    else:\n",
    "        print(succ_res)\n",
    "    \n",
    "    return a, b"
   ]
  },
  {
   "cell_type": "code",
   "execution_count": 70,
   "id": "16282f30-d351-416b-95a6-06766c885265",
   "metadata": {},
   "outputs": [
    {
     "name": "stdout",
     "output_type": "stream",
     "text": [
      "Original\n",
      "Successful fit\n",
      "Successful fit\n",
      "Successful fit\n",
      "Successful fit\n",
      "{'fun': 266.0302247344065, 'jac': array([  95.48430229, -966.75256584]), 'nfev': 603, 'njev': 201, 'nit': 25, 'status': 0, 'message': b'CONVERGENCE: REL_REDUCTION_OF_F_<=_FACTR*EPSMCH', 'x': array([ 3.02608442, -0.06182105]), 'success': True, 'hess_inv': <2x2 LbfgsInvHessProduct with dtype=float64>}\n",
      "3.026084422974233 -0.06182105006846161\n",
      "\n",
      "Cleaned\n",
      "Successful fit\n",
      "Successful fit\n",
      "Successful fit\n",
      "Successful fit\n",
      "Successful fit\n",
      "{'fun': 99.55141234895397, 'jac': array([ 34.9923797, -78.7243636]), 'nfev': 411, 'njev': 137, 'nit': 23, 'status': 0, 'message': b'CONVERGENCE: REL_REDUCTION_OF_F_<=_FACTR*EPSMCH', 'x': array([ 3.75185668, -0.10755527]), 'success': True, 'hess_inv': <2x2 LbfgsInvHessProduct with dtype=float64>}\n",
      "3.7518566816135293 -0.1075552745646721\n"
     ]
    },
    {
     "data": {
      "image/png": "[encoded data removed]",
      "text/plain": [
       "<Figure size 432x288 with 1 Axes>"
      ]
     },
     "metadata": {
      "needs_background": "light"
     },
     "output_type": "display_data"
    }
   ],
   "source": [
    "fig, ax = plt.subplots(1,1, figsize=(6,4), tight_layout=True)\n",
    "\n",
    "################################################################################\n",
    "# Original data\n",
    "#-------------------------------------------------------------------------------\n",
    "print('Original')\n",
    "\n",
    "ax.errorbar(rmag[isrmeas], \n",
    "            log10vmax[isrmeas], \n",
    "            yerr=dlog10vmax[isrmeas], \n",
    "            fmt='ko', \n",
    "            alpha=0.2,\n",
    "            label='Coma data')\n",
    "\n",
    "a, b = fit_tfr(rmag[isrmeas], log10vmax[isrmeas], dlog10vmax[isrmeas])\n",
    "print(a, b)\n",
    "\n",
    "r = np.arange(12.5,18.6,0.1)\n",
    "ax.plot(r, a + b*r, 'k--', alpha=0.2)\n",
    "################################################################################\n",
    "\n",
    "\n",
    "################################################################################\n",
    "# Cleaned data\n",
    "#-------------------------------------------------------------------------------\n",
    "print('\\nCleaned')\n",
    "\n",
    "rmag_clean = np.asarray(rmag_clean)\n",
    "vmax_clean = np.asarray(vmax_clean)\n",
    "dvmax_clean = np.asarray(dvmax_clean)\n",
    "\n",
    "isrmeas_clean = rmag_clean > 0\n",
    "\n",
    "log10vmax_clean = np.log10(vmax_clean)\n",
    "dlog10vmax_clean = 0.434 * dvmax_clean / vmax_clean \n",
    "\n",
    "ax.errorbar(rmag_clean[isrmeas_clean], \n",
    "            log10vmax_clean[isrmeas_clean], \n",
    "            yerr=dlog10vmax_clean[isrmeas_clean], \n",
    "            fmt='ro', \n",
    "            alpha=0.7,\n",
    "            label='Cleaned data, $\\cos{(i)}$-corrected')\n",
    "\n",
    "a, b = fit_tfr(rmag_clean[isrmeas_clean], \n",
    "               log10vmax_clean[isrmeas_clean], \n",
    "               dlog10vmax_clean[isrmeas_clean])\n",
    "print(a, b)\n",
    "r = np.arange(12.5,18.6,0.1)\n",
    "ax.plot(r, a + b*r, 'r--', alpha=0.8)\n",
    "################################################################################\n",
    "\n",
    "\n",
    "ax.set(xlabel='$m_r$(26)',\n",
    "       xlim=(18.5, 12.5),\n",
    "       ylabel=r'$\\log{(v_\\mathrm{max} / \\mathrm{km~s}^{-1})}$',\n",
    "       ylim=(-0.5,3),\n",
    "       title=r'Rotational velocity at $0.33R_{26}$')\n",
    "\n",
    "ax.legend(loc='lower right', fontsize=10);\n",
    "\n",
    "# fig.suptitle(r'Max velocity at $0.33\\times R_{26}$', y=1.05)\n",
    "# fig.subplots_adjust(top=0.8)\n",
    "#fig.savefig('tf_coma.png', dpi=120)\n",
    "\n",
    "# print(np.sum(isrmeas))"
   ]
  },
  {
   "cell_type": "markdown",
   "id": "cbb04565-145d-49b3-b2b4-c0310d26c8f6",
   "metadata": {},
   "source": [
    "## Fitting using `scipy.optimize.curve_fit`"
   ]
  },
  {
   "cell_type": "code",
   "execution_count": 29,
   "id": "1857078a-f351-44ca-b916-51cdfdaa9010",
   "metadata": {},
   "outputs": [],
   "source": [
    "def line(x,m,b):\n",
    "    '''\n",
    "    y = mx + b\n",
    "    '''\n",
    "    return m*x + b"
   ]
  },
  {
   "cell_type": "code",
   "execution_count": 71,
   "id": "76471dc8-6959-49d6-a530-35609af21ff3",
   "metadata": {},
   "outputs": [
    {
     "name": "stdout",
     "output_type": "stream",
     "text": [
      "[0.02092375 1.77817072]\n",
      "[-0.04834309  2.87017959]\n"
     ]
    },
    {
     "data": {
      "image/png": "[encoded data removed]",
      "text/plain": [
       "<Figure size 432x288 with 1 Axes>"
      ]
     },
     "metadata": {
      "needs_background": "light"
     },
     "output_type": "display_data"
    }
   ],
   "source": [
    "fig, ax = plt.subplots(1,1, figsize=(6,4), tight_layout=True)\n",
    "\n",
    "ax.errorbar(rmag[isrmeas], \n",
    "            log10vmax[isrmeas], \n",
    "            yerr=dlog10vmax[isrmeas], \n",
    "            fmt='ko', \n",
    "            alpha=0.2,\n",
    "            label='Coma data')\n",
    "\n",
    "popt, pcov = curve_fit(line, \n",
    "                       rmag[isrmeas], \n",
    "                       log10vmax[isrmeas], \n",
    "                       p0=[-0.25, 6], \n",
    "                       sigma=dlog10vmax[isrmeas])\n",
    "print(popt)\n",
    "\n",
    "r = np.arange(12.5,18.6,0.1)\n",
    "ax.plot(r, line(r, *popt), 'k--', alpha=0.2)\n",
    "\n",
    "rmag_clean = np.asarray(rmag_clean)\n",
    "vmax_clean = np.asarray(vmax_clean)\n",
    "dvmax_clean = np.asarray(dvmax_clean)\n",
    "\n",
    "isrmeas_clean = rmag_clean > 0\n",
    "\n",
    "log10vmax_clean = np.log10(vmax_clean)\n",
    "dlog10vmax_clean = 0.434 * dvmax_clean / vmax_clean \n",
    "\n",
    "ax.errorbar(rmag_clean[isrmeas_clean], \n",
    "            log10vmax_clean[isrmeas_clean], \n",
    "            yerr=dlog10vmax_clean[isrmeas_clean], \n",
    "            fmt='ro', \n",
    "            alpha=0.7,\n",
    "            label='Cleaned data, $\\cos{(i)}$-corrected')\n",
    "\n",
    "popt, pcov = curve_fit(line, \n",
    "                       rmag_clean[isrmeas_clean], \n",
    "                       log10vmax_clean[isrmeas_clean], \n",
    "                       p0=[-0.25, 6],\n",
    "                       sigma=dlog10vmax_clean[isrmeas_clean])\n",
    "print(popt)\n",
    "r = np.arange(12.5,18.6,0.1)\n",
    "ax.plot(r, line(r, *popt), 'r--', alpha=0.8)\n",
    "\n",
    "ax.set(xlabel='$m_r$(26)',\n",
    "       xlim=(18.5, 12.5),\n",
    "       ylabel=r'$\\log{(v_\\mathrm{max} / \\mathrm{km~s}^{-1})}$',\n",
    "       ylim=(-0.5,3),\n",
    "       title=r'Rotational velocity at $0.33R_{26}$')\n",
    "\n",
    "ax.legend(loc='lower right', fontsize=10);\n",
    "\n",
    "# fig.suptitle(r'Max velocity at $0.33\\times R_{26}$', y=1.05)\n",
    "# fig.subplots_adjust(top=0.8)\n",
    "#fig.savefig('tf_coma.png', dpi=120)\n",
    "\n",
    "# print(np.sum(isrmeas))"
   ]
  },
  {
   "cell_type": "code",
   "execution_count": null,
   "id": "1d17ff72-b544-4474-a036-3a313f87242f",
   "metadata": {},
   "outputs": [],
   "source": []
  }
 ],
 "metadata": {
  "kernelspec": {
   "display_name": "DESI master",
   "language": "python",
   "name": "desi-master"
  },
  "language_info": {
   "codemirror_mode": {
    "name": "ipython",
    "version": 3
   },
   "file_extension": ".py",
   "mimetype": "text/x-python",
   "name": "python",
   "nbconvert_exporter": "python",
   "pygments_lexer": "ipython3",
   "version": "3.8.3"
  }
 },
 "nbformat": 4,
 "nbformat_minor": 5
}
