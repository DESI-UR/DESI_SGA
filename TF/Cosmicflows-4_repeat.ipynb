{
 "cells": [
  {
   "cell_type": "markdown",
   "id": "f590a4d3-7a06-4f45-a2d0-eac513bcffb4",
   "metadata": {},
   "source": [
    "Can I reproduce the fit parameters produced by the Cosmicflows-4 team for the Coma cluster?\n",
    "\n",
    "(https://ui.adsabs.harvard.edu/abs/2020ApJ...896....3K/abstract)"
   ]
  },
  {
   "cell_type": "code",
   "execution_count": 1,
   "id": "5b6aa533-e6bc-442e-97d9-770112972e30",
   "metadata": {},
   "outputs": [],
   "source": [
    "import numpy as np\n",
    "\n",
    "from astropy.io import fits\n",
    "from astropy.table import Table\n",
    "\n",
    "from sklearn.linear_model import LinearRegression\n",
    "\n",
    "from line_fits import lls_line, hyperfit_line, param_invert, chi2_line_sigmax\n",
    "\n",
    "from ltsfit import lts_linefit\n",
    "\n",
    "import matplotlib.pyplot as plt"
   ]
  },
  {
   "cell_type": "code",
   "execution_count": 2,
   "id": "fe38d452-fadd-40a7-a4b7-f6ee849061ae",
   "metadata": {},
   "outputs": [],
   "source": [
    "V0 = 2.5"
   ]
  },
  {
   "cell_type": "markdown",
   "id": "1f0df35a-f2e6-47ea-bdf4-d4029340a667",
   "metadata": {},
   "source": [
    "# Import data\n",
    "\n",
    "This is Table 1 from Kourkchi20a (https://ui.adsabs.harvard.edu/abs/2020ApJ...896....3K/abstract)"
   ]
  },
  {
   "cell_type": "code",
   "execution_count": 3,
   "id": "4a7a302b-3d7b-471e-8211-d2e369c9354f",
   "metadata": {},
   "outputs": [
    {
     "data": {
      "text/html": [
       "<div><i>Table length=5</i>\n",
       "<table id=\"table140431741589824\" class=\"table-striped table-bordered table-condensed\">\n",
       "<thead><tr><th>logWmxi</th><th>e_logWmxi</th><th>i_mag</th><th>cluster</th></tr></thead>\n",
       "<thead><tr><th>float64</th><th>float64</th><th>float64</th><th>str13</th></tr></thead>\n",
       "<tr><td>2.658</td><td>0.005</td><td>9.35</td><td>ZP calibrator</td></tr>\n",
       "<tr><td>2.311</td><td>0.021</td><td>0.0</td><td>ZP calibrator</td></tr>\n",
       "<tr><td>2.404</td><td>0.03</td><td>14.37</td><td>NGC70</td></tr>\n",
       "<tr><td>2.635</td><td>0.024</td><td>12.68</td><td>NGC70</td></tr>\n",
       "<tr><td>2.397</td><td>0.033</td><td>15.02</td><td>NGC70</td></tr>\n",
       "</table></div>"
      ],
      "text/plain": [
       "<Table length=5>\n",
       "logWmxi e_logWmxi  i_mag     cluster   \n",
       "float64  float64  float64     str13    \n",
       "------- --------- ------- -------------\n",
       "  2.658     0.005    9.35 ZP calibrator\n",
       "  2.311     0.021     0.0 ZP calibrator\n",
       "  2.404      0.03   14.37 NGC70        \n",
       "  2.635     0.024   12.68 NGC70        \n",
       "  2.397     0.033   15.02 NGC70        "
      ]
     },
     "execution_count": 3,
     "metadata": {},
     "output_type": "execute_result"
    }
   ],
   "source": [
    "table1_filename = '/Users/kellydouglass/Documents/Research/data/Cosmicflows-4/Kourkchi20a_table1.fit'\n",
    "\n",
    "hdul = fits.open(table1_filename)\n",
    "t1 = hdul[1].data\n",
    "hdul.close()\n",
    "\n",
    "table1 = Table([t1['logWmxi'], t1['e_logWmxi'], t1['i_mag'], t1['Cl']], names=['logWmxi', 'e_logWmxi', 'i_mag', 'cluster'])\n",
    "\n",
    "table1[:5]"
   ]
  },
  {
   "cell_type": "markdown",
   "id": "08c13d0b-e374-4f49-be4e-55ae07835d25",
   "metadata": {},
   "source": [
    "## Make a smaller table with just the Coma cluster"
   ]
  },
  {
   "cell_type": "code",
   "execution_count": 4,
   "id": "532f13e0-35b6-4b54-83b7-a339e7d295cf",
   "metadata": {},
   "outputs": [
    {
     "data": {
      "text/html": [
       "&lt;Column name=&apos;cluster&apos; dtype=&apos;str13&apos; length=23&gt;\n",
       "<table>\n",
       "<tr><td>Abell 1367</td></tr>\n",
       "<tr><td>Abell 1367*</td></tr>\n",
       "<tr><td>Abell 2151</td></tr>\n",
       "<tr><td>Abell 262</td></tr>\n",
       "<tr><td>Abell 262*</td></tr>\n",
       "<tr><td>Abell 2634/66</td></tr>\n",
       "<tr><td>Abell 400</td></tr>\n",
       "<tr><td>Abell 539</td></tr>\n",
       "<tr><td>Antlia</td></tr>\n",
       "<tr><td>...</td></tr>\n",
       "<tr><td>NGC410</td></tr>\n",
       "<tr><td>NGC507</td></tr>\n",
       "<tr><td>NGC70</td></tr>\n",
       "<tr><td>NGC80</td></tr>\n",
       "<tr><td>Pegasus</td></tr>\n",
       "<tr><td>Ursa Major</td></tr>\n",
       "<tr><td>Virgo</td></tr>\n",
       "<tr><td>ZP calibrator</td></tr>\n",
       "</table>"
      ],
      "text/plain": [
       "<Column name='cluster' dtype='str13' length=23>\n",
       "Abell 1367   \n",
       "Abell 1367*  \n",
       "Abell 2151   \n",
       "Abell 262    \n",
       "Abell 262*   \n",
       "Abell 2634/66\n",
       "Abell 400    \n",
       "Abell 539    \n",
       "Antlia       \n",
       "          ...\n",
       "NGC410       \n",
       "NGC507       \n",
       "NGC70        \n",
       "NGC80        \n",
       "Pegasus      \n",
       "Ursa Major   \n",
       "Virgo        \n",
       "ZP calibrator"
      ]
     },
     "execution_count": 4,
     "metadata": {},
     "output_type": "execute_result"
    }
   ],
   "source": [
    "np.unique(table1['cluster'])"
   ]
  },
  {
   "cell_type": "code",
   "execution_count": 5,
   "id": "81f4fe84-2310-4d77-ba55-04ec82d23c33",
   "metadata": {},
   "outputs": [
    {
     "data": {
      "text/html": [
       "<div><i>Table length=5</i>\n",
       "<table id=\"table140431741588960\" class=\"table-striped table-bordered table-condensed\">\n",
       "<thead><tr><th>logWmxi</th><th>e_logWmxi</th><th>i_mag</th><th>cluster</th></tr></thead>\n",
       "<thead><tr><th>float64</th><th>float64</th><th>float64</th><th>str13</th></tr></thead>\n",
       "<tr><td>2.576</td><td>0.011</td><td>13.47</td><td>Coma</td></tr>\n",
       "<tr><td>2.587</td><td>0.018</td><td>13.49</td><td>Coma</td></tr>\n",
       "<tr><td>2.685</td><td>0.018</td><td>12.88</td><td>Coma</td></tr>\n",
       "<tr><td>2.551</td><td>0.023</td><td>13.49</td><td>Coma</td></tr>\n",
       "<tr><td>2.685</td><td>0.008</td><td>13.27</td><td>Coma</td></tr>\n",
       "</table></div>"
      ],
      "text/plain": [
       "<Table length=5>\n",
       "logWmxi e_logWmxi  i_mag     cluster   \n",
       "float64  float64  float64     str13    \n",
       "------- --------- ------- -------------\n",
       "  2.576     0.011   13.47 Coma         \n",
       "  2.587     0.018   13.49 Coma         \n",
       "  2.685     0.018   12.88 Coma         \n",
       "  2.551     0.023   13.49 Coma         \n",
       "  2.685     0.008   13.27 Coma         "
      ]
     },
     "execution_count": 5,
     "metadata": {},
     "output_type": "execute_result"
    }
   ],
   "source": [
    "coma = table1[table1['cluster'] == 'Coma         ']\n",
    "\n",
    "coma[:5]"
   ]
  },
  {
   "cell_type": "markdown",
   "id": "f0588f84-266a-4db3-a7cc-91fce9fb24ed",
   "metadata": {},
   "source": [
    "# Plot the data\n",
    "\n",
    "Let's take a look at the data before we do any fitting."
   ]
  },
  {
   "cell_type": "code",
   "execution_count": 6,
   "id": "2dec73d0-8c71-46f1-b514-0f36d9046440",
   "metadata": {},
   "outputs": [
    {
     "data": {
      "image/png": "[encoded data removed]",
      "text/plain": [
       "<Figure size 640x480 with 1 Axes>"
      ]
     },
     "metadata": {},
     "output_type": "display_data"
    }
   ],
   "source": [
    "plt.figure(tight_layout=True)\n",
    "\n",
    "plt.errorbar(coma['logWmxi'], coma['i_mag'], \n",
    "             xerr=coma['e_logWmxi'], \n",
    "             fmt='.')\n",
    "\n",
    "plt.xlabel(r'$\\log W^i_{mx}$')\n",
    "plt.ylabel('$i^*$ [AB]')\n",
    "\n",
    "plt.ylim(18.5, 11.5);"
   ]
  },
  {
   "cell_type": "markdown",
   "id": "74cbf767-3067-44e6-a106-f115e6aae833",
   "metadata": {},
   "source": [
    "# Fit the TFR\n",
    "\n",
    "We are using linear least squares, repeating what Cosmicflows-4 used."
   ]
  },
  {
   "cell_type": "code",
   "execution_count": 7,
   "id": "cbeecc51-32bb-4854-ac90-4afe8a55a437",
   "metadata": {},
   "outputs": [],
   "source": [
    "x = coma['i_mag']\n",
    "y = coma['logWmxi'] - V0\n",
    "yerr = coma['e_logWmxi']\n",
    "\n",
    "A = np.vander(x, 2)\n",
    "C = np.diag(yerr*yerr)\n",
    "\n",
    "ATA = np.dot(A.T, A/(yerr**2)[:, None])\n",
    "\n",
    "cov = np.linalg.inv(ATA)\n",
    "\n",
    "w = np.linalg.solve(ATA, np.dot(A.T, y/yerr**2))\n",
    "\n",
    "#reg = LinearRegression().fit(x.reshape(-1, 1), y, 1./yerr**2)"
   ]
  },
  {
   "cell_type": "code",
   "execution_count": 8,
   "id": "e22fbf95-c341-49f7-a2ab-d5ae31c089b6",
   "metadata": {},
   "outputs": [
    {
     "data": {
      "image/png": "[encoded data removed]",
      "text/plain": [
       "<Figure size 640x480 with 1 Axes>"
      ]
     },
     "metadata": {},
     "output_type": "display_data"
    }
   ],
   "source": [
    "w0 = w[0]\n",
    "w1 = w[1]\n",
    "'''\n",
    "w0 = reg.coef_[0]\n",
    "w1 = reg.intercept_\n",
    "'''\n",
    "\n",
    "plt.figure(tight_layout=True)\n",
    "\n",
    "plt.errorbar(coma['i_mag'], coma['logWmxi'], \n",
    "             yerr=coma['e_logWmxi'], \n",
    "             fmt='.')\n",
    "\n",
    "plt.plot([11.5, 18.5], w0*np.array([11.5, 18.5]) + w1 + V0, 'k')\n",
    "\n",
    "plt.ylabel(r'$\\log W^i_{mx}$')\n",
    "plt.xlabel('$i^*$ [AB]')\n",
    "\n",
    "plt.xlim(18.5, 11.5);"
   ]
  },
  {
   "cell_type": "code",
   "execution_count": 9,
   "id": "661f6b6c-326d-4a74-b240-dcb19415a97f",
   "metadata": {},
   "outputs": [
    {
     "name": "stdout",
     "output_type": "stream",
     "text": [
      "-8.37 +/- 0.072 or 0.072\n",
      "13.95 +/- 0.168 or 0.011\n"
     ]
    }
   ],
   "source": [
    "lls_m = 1./w0\n",
    "lls_b = -w1/w0\n",
    "\n",
    "lls_dm = lls_m**2 * np.sqrt(cov[0,0])\n",
    "lls_db = np.sqrt( (lls_b/w0)**2 * cov[0,0] + lls_m**2 * cov[1,1] + 2*(lls_b/lls_m**2) * cov[1,0] )\n",
    "\n",
    "rng = np.random.default_rng()\n",
    "w0_rng, w1_rng = rng.multivariate_normal([w0, w1], cov, 5000).T\n",
    "m_rng = 1./w0_rng\n",
    "b_rng = -w1_rng/w0_rng\n",
    "mb_rng = np.stack((m_rng, b_rng))\n",
    "cov_mb = np.cov(mb_rng)\n",
    "\n",
    "print(f'{lls_m:.2f} +/- {lls_dm:.3f} or {np.sqrt(cov_mb[0,0]):.3f}')\n",
    "print(f'{lls_b:.2f} +/- {lls_db:.3f} or {np.sqrt(cov_mb[1,1]):.3f}')"
   ]
  },
  {
   "cell_type": "markdown",
   "id": "c8e481e0-eea1-4caf-b646-938882e58ce9",
   "metadata": {},
   "source": [
    "They have\n",
    "\n",
    "\\begin{equation}\n",
    "  m = -8.68 \\pm 0.40 \\qquad \\qquad b = 13.94 \\pm 0.06\n",
    "\\end{equation}"
   ]
  },
  {
   "cell_type": "code",
   "execution_count": 10,
   "id": "00e01b32-daa0-4a9b-b366-ee10464362c6",
   "metadata": {},
   "outputs": [
    {
     "data": {
      "image/png": "[encoded data removed]",
      "text/plain": [
       "<Figure size 640x480 with 1 Axes>"
      ]
     },
     "metadata": {},
     "output_type": "display_data"
    }
   ],
   "source": [
    "plt.figure(tight_layout=True)\n",
    "\n",
    "plt.errorbar(coma['logWmxi'], coma['i_mag'], \n",
    "             xerr=coma['e_logWmxi'], \n",
    "             fmt='.')\n",
    "\n",
    "plt.plot([1.5, 3], lls_m*(np.array([1.5, 3]) - V0) + lls_b, 'k')\n",
    "\n",
    "plt.xlabel(r'$\\log W^i_{mx}$')\n",
    "plt.ylabel('$i^*$ [AB]')\n",
    "\n",
    "plt.ylim(18.5, 11.5);"
   ]
  },
  {
   "cell_type": "markdown",
   "id": "c50c8ed8-7ce7-4de4-8351-f4bed6ea6762",
   "metadata": {},
   "source": [
    "## They do throw out a few of the galaxies while fitting.  If we discard the same ones, do we reproduce their parameters?"
   ]
  },
  {
   "cell_type": "code",
   "execution_count": 11,
   "id": "e702b0eb-9565-45d3-b7a9-7c65f0165bc0",
   "metadata": {},
   "outputs": [],
   "source": [
    "cut1 = coma['i_mag'] >= 18\n",
    "\n",
    "cut2 = (coma['i_mag'] < 14.5) & (coma['logWmxi'] < 2.2)\n",
    "\n",
    "CF_coma = coma[~cut1 & ~cut2]"
   ]
  },
  {
   "cell_type": "code",
   "execution_count": 12,
   "id": "075392ee-945b-491c-8664-b38596874f6e",
   "metadata": {},
   "outputs": [],
   "source": [
    "x = CF_coma['i_mag']\n",
    "y = CF_coma['logWmxi'] - V0\n",
    "yerr = CF_coma['e_logWmxi']\n",
    "\n",
    "A = np.vander(x, 2)\n",
    "\n",
    "ATA = np.dot(A.T, A/(yerr**2)[:, None])\n",
    "\n",
    "cov_cut = np.linalg.inv(ATA)\n",
    "\n",
    "w_cut = np.linalg.solve(ATA, np.dot(A.T, y/yerr**2))\n",
    "\n",
    "#reg_cut = LinearRegression().fit(x.reshape(-1, 1), y, 1./yerr**2)"
   ]
  },
  {
   "cell_type": "code",
   "execution_count": 13,
   "id": "92d2696a-3a37-45b6-b154-b332d85fb996",
   "metadata": {},
   "outputs": [
    {
     "data": {
      "text/plain": [
       "array([[1.12592366e+08, 8.21192855e+06],\n",
       "       [8.21192855e+06, 6.03879369e+05]])"
      ]
     },
     "execution_count": 13,
     "metadata": {},
     "output_type": "execute_result"
    }
   ],
   "source": [
    "ATA"
   ]
  },
  {
   "cell_type": "code",
   "execution_count": 14,
   "id": "5b612ea8-cc53-4a4c-8755-64f7147f2b1b",
   "metadata": {},
   "outputs": [
    {
     "name": "stdout",
     "output_type": "stream",
     "text": [
      "-0.11857981032193061 1.655554651874861\n"
     ]
    }
   ],
   "source": [
    "w0_cut = w_cut[0]\n",
    "w1_cut = w_cut[1]\n",
    "'''\n",
    "w0_cut = reg_cut.coef_[0]\n",
    "w1_cut = reg_cut.intercept_\n",
    "''';\n",
    "\n",
    "print(w0_cut, w1_cut)"
   ]
  },
  {
   "cell_type": "code",
   "execution_count": 15,
   "id": "23383de5-5bc9-4703-951a-6e28c84469c6",
   "metadata": {},
   "outputs": [
    {
     "name": "stdout",
     "output_type": "stream",
     "text": [
      "-8.43 +/- 0.074 or 0.074\n",
      "13.96 +/- 0.172 or 0.011\n"
     ]
    }
   ],
   "source": [
    "lls_m_cut = 1./w0_cut\n",
    "lls_b_cut = -w1_cut/w0_cut\n",
    "\n",
    "lls_dm_cut = lls_m_cut**2 * np.sqrt(cov_cut[0,0])\n",
    "lls_db_cut = np.sqrt( (lls_b_cut/w0_cut)**2 * cov_cut[0,0] + lls_m_cut**2 * cov_cut[1,1] + 2*(lls_b_cut/lls_m_cut**2) * cov_cut[1,0] )\n",
    "\n",
    "w0_cut_rng, w1_cut_rng = rng.multivariate_normal([w0_cut, w1_cut], cov_cut, 5000).T\n",
    "m_cut_rng = 1./w0_cut_rng\n",
    "b_cut_rng = -w1_cut_rng/w0_cut_rng\n",
    "mb_cut_rng = np.stack((m_cut_rng, b_cut_rng))\n",
    "cov_mb_cut = np.cov(mb_cut_rng)\n",
    "\n",
    "print(f'{lls_m_cut:.2f} +/- {lls_dm_cut:.3f} or {np.sqrt(cov_mb_cut[0,0]):.3f}')\n",
    "print(f'{lls_b_cut:.2f} +/- {lls_db_cut:.3f} or {np.sqrt(cov_mb_cut[1,1]):.3f}')"
   ]
  },
  {
   "cell_type": "markdown",
   "id": "8ad00456-6676-4a8b-a0f8-c771b1eb1007",
   "metadata": {},
   "source": [
    "Nope, still doesn't match.  So I must be doing something wrong."
   ]
  },
  {
   "cell_type": "code",
   "execution_count": 16,
   "id": "ef7c898b-011b-454f-aeae-ac1457705b6f",
   "metadata": {},
   "outputs": [],
   "source": [
    "from line_fits import lls_line, param_invert"
   ]
  },
  {
   "cell_type": "code",
   "execution_count": 17,
   "id": "3efbdb36-3a25-4dcf-85a3-fa116fe933d1",
   "metadata": {},
   "outputs": [
    {
     "name": "stdout",
     "output_type": "stream",
     "text": [
      "-8.43 +/- 0.073\n",
      "13.96 +/- 0.012\n"
     ]
    }
   ],
   "source": [
    "w0_cut, w1_cut, cov_cut = lls_line(CF_coma['i_mag'], CF_coma['logWmxi'] - V0, CF_coma['e_logWmxi'])\n",
    "\n",
    "m_cut, b_cut, cov_mb_cut = param_invert(w0_cut, w1_cut, cov_cut)\n",
    "\n",
    "print(f'{m_cut:.2f} +/- {np.sqrt(cov_mb_cut[0,0]):.3f}')\n",
    "print(f'{b_cut:.2f} +/- {np.sqrt(cov_mb_cut[1,1]):.3f}')"
   ]
  },
  {
   "cell_type": "markdown",
   "id": "c35b0143-b664-446c-8bf7-54b93e96ce5a",
   "metadata": {},
   "source": [
    "### What does this fit look like if I use `hyperfit`?"
   ]
  },
  {
   "cell_type": "code",
   "execution_count": 18,
   "id": "c5d43e33-861a-41c7-b999-2c244de64896",
   "metadata": {},
   "outputs": [
    {
     "name": "stdout",
     "output_type": "stream",
     "text": [
      " message: Optimization terminated successfully.\n",
      " success: True\n",
      "     fun: -175.85414926751568\n",
      "       x: [ 1.993e-01  1.653e+00  6.142e-02]\n",
      "     nit: 112\n",
      "    nfev: 5105\n",
      "     jac: [-1.484e-03 -1.416e-02  1.201e-01]\n"
     ]
    },
    {
     "name": "stderr",
     "output_type": "stream",
     "text": [
      "100%|█████████████████████████████████████| 1000/1000 [00:00<00:00, 1213.95it/s]\n"
     ]
    },
    {
     "name": "stdout",
     "output_type": "stream",
     "text": [
      "Niterations/Max Iterations:  1000 / 100000\n",
      "Integrated ACT/Min Convergence Iterations:  [35.59863479 34.7289877  34.98074134] / 1779.931739479735\n"
     ]
    },
    {
     "name": "stderr",
     "output_type": "stream",
     "text": [
      "100%|█████████████████████████████████████| 1000/1000 [00:00<00:00, 1252.63it/s]\n"
     ]
    },
    {
     "name": "stdout",
     "output_type": "stream",
     "text": [
      "Niterations/Max Iterations:  2000 / 100000\n",
      "Integrated ACT/Min Convergence Iterations:  [51.93989286 51.44381946 41.7980101 ] / 2596.994643204712\n"
     ]
    },
    {
     "name": "stderr",
     "output_type": "stream",
     "text": [
      "100%|█████████████████████████████████████| 1000/1000 [00:00<00:00, 1242.35it/s]\n"
     ]
    },
    {
     "name": "stdout",
     "output_type": "stream",
     "text": [
      "Niterations/Max Iterations:  3000 / 100000\n",
      "Integrated ACT/Min Convergence Iterations:  [55.74324099 55.04365147 42.58842339] / 2787.1620493564274\n"
     ]
    },
    {
     "name": "stderr",
     "output_type": "stream",
     "text": [
      "100%|█████████████████████████████████████| 1000/1000 [00:00<00:00, 1146.35it/s]\n"
     ]
    },
    {
     "name": "stdout",
     "output_type": "stream",
     "text": [
      "Niterations/Max Iterations:  4000 / 100000\n",
      "Integrated ACT/Min Convergence Iterations:  [45.55141925 44.78071093 34.59011701] / 2277.570962314675\n"
     ]
    },
    {
     "name": "stderr",
     "output_type": "stream",
     "text": [
      "100%|█████████████████████████████████████| 1000/1000 [00:00<00:00, 1247.84it/s]\n"
     ]
    },
    {
     "name": "stdout",
     "output_type": "stream",
     "text": [
      "Niterations/Max Iterations:  5000 / 100000\n",
      "Integrated ACT/Min Convergence Iterations:  [48.19559742 47.77507077 44.46495709] / 2409.779871199283\n"
     ]
    },
    {
     "name": "stderr",
     "output_type": "stream",
     "text": [
      "100%|█████████████████████████████████████| 1000/1000 [00:00<00:00, 1259.15it/s]\n"
     ]
    },
    {
     "name": "stdout",
     "output_type": "stream",
     "text": [
      "Niterations/Max Iterations:  6000 / 100000\n",
      "Integrated ACT/Min Convergence Iterations:  [44.0930695  43.82027861 43.83319058] / 2204.6534750671085\n"
     ]
    },
    {
     "name": "stderr",
     "output_type": "stream",
     "text": [
      "100%|█████████████████████████████████████| 1000/1000 [00:00<00:00, 1237.86it/s]\n"
     ]
    },
    {
     "name": "stdout",
     "output_type": "stream",
     "text": [
      "Niterations/Max Iterations:  7000 / 100000\n",
      "Integrated ACT/Min Convergence Iterations:  [48.39325459 47.44953447 45.28564117] / 2419.662729424215\n"
     ]
    },
    {
     "name": "stderr",
     "output_type": "stream",
     "text": [
      "100%|█████████████████████████████████████| 1000/1000 [00:00<00:00, 1248.77it/s]\n"
     ]
    },
    {
     "name": "stdout",
     "output_type": "stream",
     "text": [
      "Niterations/Max Iterations:  8000 / 100000\n",
      "Integrated ACT/Min Convergence Iterations:  [47.36700353 46.17016395 42.50538428] / 2368.3501765863257\n"
     ]
    },
    {
     "name": "stderr",
     "output_type": "stream",
     "text": [
      "100%|█████████████████████████████████████| 1000/1000 [00:00<00:00, 1250.81it/s]\n"
     ]
    },
    {
     "name": "stdout",
     "output_type": "stream",
     "text": [
      "Niterations/Max Iterations:  9000 / 100000\n",
      "Integrated ACT/Min Convergence Iterations:  [52.04016476 50.71947898 43.5587983 ] / 2602.008237828979\n"
     ]
    },
    {
     "name": "stderr",
     "output_type": "stream",
     "text": [
      "100%|█████████████████████████████████████| 1000/1000 [00:00<00:00, 1243.53it/s]\n"
     ]
    },
    {
     "name": "stdout",
     "output_type": "stream",
     "text": [
      "Niterations/Max Iterations:  10000 / 100000\n",
      "Integrated ACT/Min Convergence Iterations:  [47.68899809 46.63510772 41.34838028] / 2384.4499044216523\n"
     ]
    },
    {
     "name": "stderr",
     "output_type": "stream",
     "text": [
      "100%|█████████████████████████████████████| 1000/1000 [00:00<00:00, 1254.64it/s]\n"
     ]
    },
    {
     "name": "stdout",
     "output_type": "stream",
     "text": [
      "Niterations/Max Iterations:  11000 / 100000\n",
      "Integrated ACT/Min Convergence Iterations:  [46.77893229 45.9687076  41.47524348] / 2338.9466145901088\n"
     ]
    }
   ],
   "source": [
    "w0_hf, w1_hf, wsig_hf, cov_w_hf, w_mcmc_samples = hyperfit_line(CF_coma['i_mag'], \n",
    "                                                                CF_coma['logWmxi'] - V0, \n",
    "                                                                np.zeros(len(CF_coma)), \n",
    "                                                                CF_coma['e_logWmxi'], \n",
    "                                                                ((-10, 10), (-100, 100), (1e-5, 1000)))\n",
    "\n",
    "m_hf, b_hf, cov_mb_hf = param_invert(w0_hf, w1_hf, cov_w_hf[:2,:2])"
   ]
  },
  {
   "cell_type": "code",
   "execution_count": 19,
   "id": "8a19ddcf-054e-4de2-8128-a08fff199deb",
   "metadata": {},
   "outputs": [
    {
     "name": "stdout",
     "output_type": "stream",
     "text": [
      "-8.26 +/- 0.413\n",
      "13.91 +/- 0.065\n"
     ]
    }
   ],
   "source": [
    "print(f'{m_hf:.2f} +/- {np.sqrt(cov_mb_hf[0,0]):.3f}')\n",
    "print(f'{b_hf:.2f} +/- {np.sqrt(cov_mb_hf[1,1]):.3f}')"
   ]
  },
  {
   "cell_type": "markdown",
   "id": "d8a60a57-61a6-42aa-9654-c2c82f8be08d",
   "metadata": {},
   "source": [
    "These uncertainties are *very* similar to what is reported in Cosmicflows-4.  I wonder if they are doing a generalized least squares fit, accounting for some vertical scatter."
   ]
  },
  {
   "cell_type": "code",
   "execution_count": 20,
   "id": "02a23ece-a314-472a-a7cf-c8171f579e5c",
   "metadata": {},
   "outputs": [
    {
     "name": "stdout",
     "output_type": "stream",
     "text": [
      " message: Optimization terminated successfully.\n",
      " success: True\n",
      "     fun: -175.85414864281424\n",
      "       x: [ 1.653e+00  1.993e-01  6.141e-02]\n",
      "     nit: 96\n",
      "    nfev: 4381\n",
      "     jac: [-1.989e-02 -4.636e-03 -7.162e-04]\n"
     ]
    },
    {
     "name": "stderr",
     "output_type": "stream",
     "text": [
      "100%|█████████████████████████████████████| 1000/1000 [00:00<00:00, 1228.02it/s]\n"
     ]
    },
    {
     "name": "stdout",
     "output_type": "stream",
     "text": [
      "Niterations/Max Iterations:  1000 / 100000\n",
      "Integrated ACT/Min Convergence Iterations:  [33.32560284 32.86043664 33.78953378] / 1689.476688905003\n"
     ]
    },
    {
     "name": "stderr",
     "output_type": "stream",
     "text": [
      "100%|█████████████████████████████████████| 1000/1000 [00:00<00:00, 1264.11it/s]\n"
     ]
    },
    {
     "name": "stdout",
     "output_type": "stream",
     "text": [
      "Niterations/Max Iterations:  2000 / 100000\n",
      "Integrated ACT/Min Convergence Iterations:  [43.88136121 43.15421057 36.45332138] / 2194.068060404505\n"
     ]
    },
    {
     "name": "stderr",
     "output_type": "stream",
     "text": [
      "100%|█████████████████████████████████████| 1000/1000 [00:00<00:00, 1259.76it/s]\n"
     ]
    },
    {
     "name": "stdout",
     "output_type": "stream",
     "text": [
      "Niterations/Max Iterations:  3000 / 100000\n",
      "Integrated ACT/Min Convergence Iterations:  [38.67424897 38.46826967 47.36035956] / 2368.017978022352\n"
     ]
    },
    {
     "name": "stderr",
     "output_type": "stream",
     "text": [
      "100%|█████████████████████████████████████| 1000/1000 [00:00<00:00, 1250.30it/s]\n"
     ]
    },
    {
     "name": "stdout",
     "output_type": "stream",
     "text": [
      "Niterations/Max Iterations:  4000 / 100000\n",
      "Integrated ACT/Min Convergence Iterations:  [37.2293289  36.94805679 46.75991078] / 2337.9955391678354\n"
     ]
    }
   ],
   "source": [
    "m1_hf, b1_hf, sig1_hf, cov_mb1_hf, mcmc_samples = hyperfit_line(CF_coma['logWmxi'] - V0, \n",
    "                                                                CF_coma['i_mag'], \n",
    "                                                                CF_coma['e_logWmxi'], \n",
    "                                                                np.zeros(len(CF_coma)), \n",
    "                                                                ((-10, 10), (-100, 100), (1e-5, 1000)))"
   ]
  },
  {
   "cell_type": "code",
   "execution_count": 21,
   "id": "18302c89-dc58-491f-8086-6876d5a714f7",
   "metadata": {},
   "outputs": [
    {
     "name": "stdout",
     "output_type": "stream",
     "text": [
      "-8.29 +/- 0.425\n",
      "13.91 +/- 0.069\n"
     ]
    }
   ],
   "source": [
    "print(f'{m1_hf:.2f} +/- {np.sqrt(cov_mb1_hf[0,0]):.3f}')\n",
    "print(f'{b1_hf:.2f} +/- {np.sqrt(cov_mb1_hf[1,1]):.3f}')"
   ]
  },
  {
   "cell_type": "markdown",
   "id": "48c561ac-cb9d-48cd-b624-67195c8a4662",
   "metadata": {},
   "source": [
    "Interesting - I get almost the same slope and y-intercept whether I fit the TFR or ITFR."
   ]
  },
  {
   "cell_type": "markdown",
   "id": "975308c6-cb78-4751-9e10-6af1b39caca2",
   "metadata": {},
   "source": [
    "### What does the fit look like if I use a generalized least squares?\n",
    "\n",
    "Here, we are using the `ltsfit` package."
   ]
  },
  {
   "cell_type": "code",
   "execution_count": 22,
   "id": "cc39a905-0d86-47c9-977a-4b389caf2624",
   "metadata": {},
   "outputs": [
    {
     "name": "stdout",
     "output_type": "stream",
     "text": [
      "sig_int:     0.0000     24.4160\n",
      "Computing sig_int\n",
      "sig_int:     0.0000     24.4160\n",
      "sig_int:     0.0835     -0.4037\n",
      "sig_int:     0.0821     -0.3852\n",
      "sig_int:     0.0542      0.3004\n",
      "sig_int:     0.0664     -0.0937\n",
      "sig_int:     0.0635     -0.0177\n",
      "sig_int:     0.0629      0.0003\n",
      "sig_int:     0.0629     -0.0006\n",
      "Computing sig_int error\n",
      "sig_int:     0.0629      0.1614\n",
      "sig_int:     0.0835     -0.2425\n",
      "sig_int:     0.0711     -0.0378\n",
      "sig_int:     0.0695     -0.0048\n",
      "sig_int:     0.0693      0.0000\n",
      "sig_int:     0.0694     -0.0007\n",
      "Repeat at best fitting solution\n",
      "sig_int:     0.0629      0.0003\n",
      "################# Values and formal errors ################\n",
      " intercept:  1.673 +/- 0.085\n",
      "     slope:  -0.1203 +/- 0.0059\n",
      "   scatter:  0.0629 +/- 0.0065\n",
      "Observed rms scatter: 0.067\n",
      "WARNING: pivot=0. Using `pivot` keyword is always reccomended\n",
      "Spearman r=-0.92 and p=1.5e-33\n",
      "Pearson r=-0.91 and p=4.5e-32\n",
      "##########################################################\n",
      "seconds 0.03\n"
     ]
    }
   ],
   "source": [
    "w_gls = lts_linefit.lts_linefit(CF_coma['i_mag'], \n",
    "                                CF_coma['logWmxi'] - V0, \n",
    "                                np.zeros(len(CF_coma)), \n",
    "                                CF_coma['e_logWmxi'], \n",
    "                                frac=1, # Turns off the outlier detection, so that none are removed from the fit\n",
    "                                plot=False)"
   ]
  },
  {
   "cell_type": "code",
   "execution_count": 23,
   "id": "96401886-3a44-4d1a-bffb-f2abf4d36125",
   "metadata": {},
   "outputs": [],
   "source": [
    "wcov_gls = np.identity(2)\n",
    "wcov_gls[0,0] = w_gls.ab_err[1]**2\n",
    "wcov_gls[1,1] = w_gls.ab_err[0]**2\n",
    "\n",
    "m_gls, b_gls, cov_gls = param_invert(w_gls.ab[1], w_gls.ab[0], wcov_gls)"
   ]
  },
  {
   "cell_type": "code",
   "execution_count": 24,
   "id": "d3d5a057-b35e-412c-9f57-97a92a757023",
   "metadata": {},
   "outputs": [
    {
     "name": "stdout",
     "output_type": "stream",
     "text": [
      "-8.31 +/- 0.415\n",
      "13.90 +/- 1.003\n"
     ]
    }
   ],
   "source": [
    "print(f'{m_gls:.2f} +/- {np.sqrt(cov_gls[0,0]):.3f}')\n",
    "print(f'{b_gls:.2f} +/- {np.sqrt(cov_gls[1,1]):.3f}')"
   ]
  },
  {
   "cell_type": "code",
   "execution_count": 31,
   "id": "ebe3854a-84da-41a4-a629-3567a96b0a4c",
   "metadata": {},
   "outputs": [
    {
     "name": "stdout",
     "output_type": "stream",
     "text": [
      "sig_int:     0.0000     24.4159\n",
      "Computing sig_int\n",
      "sig_int:     0.0000     24.4159\n",
      "sig_int:     0.7041     -0.5038\n",
      "sig_int:     0.6899     -0.4842\n",
      "sig_int:     0.3455      0.8149\n",
      "sig_int:     0.5615     -0.2405\n",
      "sig_int:     0.4637      0.0795\n",
      "sig_int:     0.4880     -0.0163\n",
      "sig_int:     0.4838     -0.0009\n",
      "sig_int:     0.4836      0.0000\n",
      "Computing sig_int error\n",
      "sig_int:     0.4836      0.1612\n",
      "sig_int:     0.7041     -0.3426\n",
      "sig_int:     0.5542     -0.0605\n",
      "sig_int:     0.5349     -0.0078\n",
      "sig_int:     0.5322      0.0001\n",
      "sig_int:     0.5324     -0.0007\n",
      "Repeat at best fitting solution\n",
      "sig_int:     0.4836      0.0000\n",
      "################# Values and formal errors ################\n",
      " intercept:  13.962 +/- 0.060\n",
      "     slope:  -7.11 +/- 0.35\n",
      "   scatter:  0.484 +/- 0.049\n",
      "Observed rms scatter: 0.51\n",
      "y = a + b*(x - pivot) with pivot = 2.5\n",
      "Spearman r=-0.92 and p=1.5e-33\n",
      "Pearson r=-0.91 and p=4.5e-32\n",
      "##########################################################\n",
      "seconds 0.05\n"
     ]
    }
   ],
   "source": [
    "ab_gls = lts_linefit.lts_linefit(CF_coma['logWmxi'], \n",
    "                                 CF_coma['i_mag'], \n",
    "                                 CF_coma['e_logWmxi'], \n",
    "                                 0.0001*np.ones(len(CF_coma)), \n",
    "                                 pivot=V0,\n",
    "                                 frac=1, # Turns off the outlier detection, so that none are removed from the fit\n",
    "                                 plot=False)"
   ]
  },
  {
   "cell_type": "markdown",
   "id": "ca547ce9-9877-4cf2-9a37-6c4e35ad62b2",
   "metadata": {},
   "source": [
    "### What does the fit look like if I minimize $\\chi^2$ with $x = m$ and $y = \\log V - 2.5$, but also add an additional scatter parameter in the magnitude?"
   ]
  },
  {
   "cell_type": "code",
   "execution_count": 25,
   "id": "a95d937c-7916-4352-b466-828b867eaf70",
   "metadata": {},
   "outputs": [],
   "source": [
    "p0 = [-0.12, 1.66, 0.5]\n",
    "\n",
    "bounds = ((-50, 50), (-100, 100), (1e-5, 1000))\n",
    "\n",
    "w0, w1, sigma_m, cov_chi2_sigmax, result_chi2_sigmax = chi2_line_sigmax(CF_coma['i_mag'], \n",
    "                                                                        CF_coma['logWmxi'] - V0, \n",
    "                                                                        np.zeros(len(CF_coma)), \n",
    "                                                                        CF_coma['e_logWmxi'], \n",
    "                                                                        p0, \n",
    "                                                                        bounds)"
   ]
  },
  {
   "cell_type": "code",
   "execution_count": 26,
   "id": "c891c790-7028-4985-be4d-0be9b15386fc",
   "metadata": {},
   "outputs": [],
   "source": [
    "m_sigmax, b_sigmax, cov_sigmax = param_invert(w0, w1, cov_chi2_sigmax[:2,:2])"
   ]
  },
  {
   "cell_type": "code",
   "execution_count": 27,
   "id": "7c504ad1-6318-44e4-840b-2bc2c106b13e",
   "metadata": {},
   "outputs": [
    {
     "name": "stdout",
     "output_type": "stream",
     "text": [
      "0.44 +/- 28.539\n",
      "14.36 +/- 1607.543\n"
     ]
    }
   ],
   "source": [
    "print(f'{m_sigmax:.2f} +/- {np.sqrt(cov_sigmax[0,0]):.3f}')\n",
    "print(f'{b_sigmax:.2f} +/- {np.sqrt(cov_sigmax[1,1]):.3f}')"
   ]
  },
  {
   "cell_type": "code",
   "execution_count": 28,
   "id": "9c899d03-b75a-48dc-ad38-93267b9d5ab8",
   "metadata": {},
   "outputs": [
    {
     "data": {
      "text/plain": [
       "  message: CONVERGENCE: NORM_OF_PROJECTED_GRADIENT_<=_PGTOL\n",
       "  success: True\n",
       "   status: 0\n",
       "      fun: 0.0010172157127574346\n",
       "        x: [ 2.275e+00 -3.266e+01  3.666e+02]\n",
       "      nit: 17\n",
       "      jac: [ 7.341e-06  3.687e-06 -5.550e-06]\n",
       "     nfev: 124\n",
       "     njev: 31\n",
       " hess_inv: <3x3 LbfgsInvHessProduct with dtype=float64>"
      ]
     },
     "execution_count": 28,
     "metadata": {},
     "output_type": "execute_result"
    }
   ],
   "source": [
    "result_chi2_sigmax"
   ]
  },
  {
   "cell_type": "code",
   "execution_count": null,
   "id": "449b4496-e16c-42c4-b199-1478994585c2",
   "metadata": {},
   "outputs": [],
   "source": []
  }
 ],
 "metadata": {
  "kernelspec": {
   "display_name": "Python 3 (ipykernel)",
   "language": "python",
   "name": "python3"
  },
  "language_info": {
   "codemirror_mode": {
    "name": "ipython",
    "version": 3
   },
   "file_extension": ".py",
   "mimetype": "text/x-python",
   "name": "python",
   "nbconvert_exporter": "python",
   "pygments_lexer": "ipython3",
   "version": "3.8.16"
  }
 },
 "nbformat": 4,
 "nbformat_minor": 5
}
