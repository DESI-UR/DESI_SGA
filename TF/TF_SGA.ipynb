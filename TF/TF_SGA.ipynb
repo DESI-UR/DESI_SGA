{
 "cells": [
  {
   "cell_type": "markdown",
   "id": "ead385a1-f2d4-44ec-afd0-57871d0e2cb2",
   "metadata": {},
   "source": [
    "# Tully-Fisher Relation of galaxies"
   ]
  },
  {
   "cell_type": "code",
   "execution_count": 1,
   "id": "0cf37865-b277-4944-a29f-10e7584487e1",
   "metadata": {},
   "outputs": [],
   "source": [
    "import os\n",
    "\n",
    "#from astropy.io import fits\n",
    "from astropy.table import Table, hstack, join, column\n",
    "from astropy.coordinates import SkyCoord, match_coordinates_sky\n",
    "from astropy import units as u\n",
    "#from astropy.wcs import WCS\n",
    "#from astropy.visualization.wcsaxes import SphericalCircle\n",
    "\n",
    "#import psycopg2\n",
    "\n",
    "import numpy as np\n",
    "\n",
    "try:\n",
    "    import numdifftools as ndt\n",
    "except ModuleNotFoundError as e:\n",
    "    ! pip install --user numdifftools\n",
    "    import numdifftools as ndt\n",
    "    \n",
    "from scipy.optimize import minimize, curve_fit\n",
    "\n",
    "import matplotlib as mpl\n",
    "import matplotlib.pyplot as plt"
   ]
  },
  {
   "cell_type": "code",
   "execution_count": 2,
   "id": "6a3be784-4baf-4c63-b47b-6ea97bb1f64a",
   "metadata": {},
   "outputs": [],
   "source": [
    "mpl.rc('font', size=12)\n",
    "#mpl.rc('axes', titlesize='small')\n",
    "mpl.rc('figure', max_open_warning=0)\n",
    "\n",
    "plt.rcParams['font.family'] = 'serif'\n",
    "plt.rcParams['font.serif'] = ['Times New Roman'] + plt.rcParams['font.serif']"
   ]
  },
  {
   "cell_type": "code",
   "execution_count": 3,
   "id": "a7565ae1-09d0-4018-8ceb-ba8ab81128c4",
   "metadata": {},
   "outputs": [],
   "source": [
    "h = 1\n",
    "H0 = 100*h\n",
    "\n",
    "c = 3e5\n",
    "\n",
    "q0 = 0.2"
   ]
  },
  {
   "cell_type": "markdown",
   "id": "1678e508-b7cd-467d-a41e-5036e5c58863",
   "metadata": {
    "tags": []
   },
   "source": [
    "## Read in targets"
   ]
  },
  {
   "cell_type": "code",
   "execution_count": 4,
   "id": "f0e47a36-d443-4846-abe4-e89b0af7a50b",
   "metadata": {},
   "outputs": [
    {
     "name": "stdout",
     "output_type": "stream",
     "text": [
      "1403\n"
     ]
    },
    {
     "data": {
      "text/html": [
       "<div><i>Table length=2</i>\n",
       "<table id=\"table23456059889072\" class=\"table-striped table-bordered table-condensed\">\n",
       "<thead><tr><th>PVTYPE</th><th>SGA_ID</th><th>TARGETID</th><th>FIBER_RA</th><th>FIBER_DEC</th><th>FIBERSTATUS</th><th>TILEID</th><th>TARGET_RA</th><th>TARGET_DEC</th><th>Z</th><th>ZERR</th><th>SPECTYPE</th><th>DELTACHI2</th><th>ZWARN</th><th>SGA_GALAXY</th><th>GALAXY</th><th>PGC</th><th>RA_LEDA</th><th>DEC_LEDA</th><th>MORPHTYPE</th><th>PA_LEDA</th><th>D25_LEDA</th><th>BA_LEDA</th><th>Z_LEDA</th><th>SB_D25_LEDA</th><th>MAG_LEDA</th><th>BYHAND</th><th>REF</th><th>GROUP_ID</th><th>GROUP_NAME</th><th>GROUP_MULT</th><th>GROUP_PRIMARY</th><th>GROUP_RA</th><th>GROUP_DEC</th><th>GROUP_DIAMETER</th><th>BRICKNAME</th><th>RA</th><th>DEC</th><th>D26</th><th>D26_REF</th><th>PA</th><th>BA</th><th>RA_MOMENT</th><th>DEC_MOMENT</th><th>SMA_MOMENT</th><th>G_SMA50</th><th>R_SMA50</th><th>Z_SMA50</th><th>SMA_SB22</th><th>SMA_SB22.5</th><th>SMA_SB23</th><th>SMA_SB23.5</th><th>SMA_SB24</th><th>SMA_SB24.5</th><th>SMA_SB25</th><th>SMA_SB25.5</th><th>SMA_SB26</th><th>G_MAG_SB22</th><th>R_MAG_SB22</th><th>Z_MAG_SB22</th><th>G_MAG_SB22.5</th><th>R_MAG_SB22.5</th><th>Z_MAG_SB22.5</th><th>G_MAG_SB23</th><th>R_MAG_SB23</th><th>Z_MAG_SB23</th><th>G_MAG_SB23.5</th><th>R_MAG_SB23.5</th><th>Z_MAG_SB23.5</th><th>G_MAG_SB24</th><th>R_MAG_SB24</th><th>Z_MAG_SB24</th><th>G_MAG_SB24.5</th><th>R_MAG_SB24.5</th><th>Z_MAG_SB24.5</th><th>G_MAG_SB25</th><th>R_MAG_SB25</th><th>Z_MAG_SB25</th><th>G_MAG_SB25.5</th><th>R_MAG_SB25.5</th><th>Z_MAG_SB25.5</th><th>G_MAG_SB26</th><th>R_MAG_SB26</th><th>Z_MAG_SB26</th><th>SMA_SB22_ERR</th><th>SMA_SB22.5_ERR</th><th>SMA_SB23_ERR</th><th>SMA_SB23.5_ERR</th><th>SMA_SB24_ERR</th><th>SMA_SB24.5_ERR</th><th>SMA_SB25_ERR</th><th>SMA_SB25.5_ERR</th><th>SMA_SB26_ERR</th><th>G_MAG_SB22_ERR</th><th>R_MAG_SB22_ERR</th><th>Z_MAG_SB22_ERR</th><th>G_MAG_SB22.5_ERR</th><th>R_MAG_SB22.5_ERR</th><th>Z_MAG_SB22.5_ERR</th><th>G_MAG_SB23_ERR</th><th>R_MAG_SB23_ERR</th><th>Z_MAG_SB23_ERR</th><th>G_MAG_SB23.5_ERR</th><th>R_MAG_SB23.5_ERR</th><th>Z_MAG_SB23.5_ERR</th><th>G_MAG_SB24_ERR</th><th>R_MAG_SB24_ERR</th><th>Z_MAG_SB24_ERR</th><th>G_MAG_SB24.5_ERR</th><th>R_MAG_SB24.5_ERR</th><th>Z_MAG_SB24.5_ERR</th><th>G_MAG_SB25_ERR</th><th>R_MAG_SB25_ERR</th><th>Z_MAG_SB25_ERR</th><th>G_MAG_SB25.5_ERR</th><th>R_MAG_SB25.5_ERR</th><th>Z_MAG_SB25.5_ERR</th><th>G_MAG_SB26_ERR</th><th>R_MAG_SB26_ERR</th><th>Z_MAG_SB26_ERR</th><th>G_COG_PARAMS_MTOT</th><th>G_COG_PARAMS_M0</th><th>G_COG_PARAMS_ALPHA1</th><th>G_COG_PARAMS_ALPHA2</th><th>G_COG_PARAMS_CHI2</th><th>R_COG_PARAMS_MTOT</th><th>R_COG_PARAMS_M0</th><th>R_COG_PARAMS_ALPHA1</th><th>R_COG_PARAMS_ALPHA2</th><th>R_COG_PARAMS_CHI2</th><th>Z_COG_PARAMS_MTOT</th><th>Z_COG_PARAMS_M0</th><th>Z_COG_PARAMS_ALPHA1</th><th>Z_COG_PARAMS_ALPHA2</th><th>Z_COG_PARAMS_CHI2</th><th>ELLIPSEBIT</th><th>DM_Stellar</th><th>e_DM_lo_Stellar</th><th>e_DM_hi_Stellar</th><th>Stellar_Catalog</th><th>DM1_SN</th><th>e_DM1_SN</th><th>DM2_SN</th><th>e_DM2_SN</th><th>DM3_SN</th><th>e_DM3_SN</th><th>DM4_SN</th><th>e_DM4_SN</th><th>DM5_SN</th><th>e_DM5_SN</th><th>DM6_SN</th><th>e_DM6_SN</th><th>DM7_SN</th><th>e_DM7_SN</th><th>SN_Catalog</th></tr></thead>\n",
       "<thead><tr><th>bytes3</th><th>int64</th><th>int64</th><th>float64</th><th>float64</th><th>int64</th><th>int64</th><th>float64</th><th>float64</th><th>float64</th><th>float64</th><th>bytes6</th><th>float64</th><th>int64</th><th>bytes16</th><th>bytes29</th><th>int64</th><th>float64</th><th>float64</th><th>bytes21</th><th>float32</th><th>float32</th><th>float32</th><th>float32</th><th>float32</th><th>float32</th><th>bool</th><th>bytes13</th><th>int64</th><th>bytes35</th><th>int16</th><th>bool</th><th>float64</th><th>float64</th><th>float32</th><th>bytes8</th><th>float64</th><th>float64</th><th>float32</th><th>bytes4</th><th>float32</th><th>float32</th><th>float64</th><th>float64</th><th>float32</th><th>float32</th><th>float32</th><th>float32</th><th>float32</th><th>float32</th><th>float32</th><th>float32</th><th>float32</th><th>float32</th><th>float32</th><th>float32</th><th>float32</th><th>float32</th><th>float32</th><th>float32</th><th>float32</th><th>float32</th><th>float32</th><th>float32</th><th>float32</th><th>float32</th><th>float32</th><th>float32</th><th>float32</th><th>float32</th><th>float32</th><th>float32</th><th>float32</th><th>float32</th><th>float32</th><th>float32</th><th>float32</th><th>float32</th><th>float32</th><th>float32</th><th>float32</th><th>float32</th><th>float32</th><th>float32</th><th>float32</th><th>float32</th><th>float32</th><th>float32</th><th>float32</th><th>float32</th><th>float32</th><th>float32</th><th>float32</th><th>float32</th><th>float32</th><th>float32</th><th>float32</th><th>float32</th><th>float32</th><th>float32</th><th>float32</th><th>float32</th><th>float32</th><th>float32</th><th>float32</th><th>float32</th><th>float32</th><th>float32</th><th>float32</th><th>float32</th><th>float32</th><th>float32</th><th>float32</th><th>float32</th><th>float32</th><th>float32</th><th>float32</th><th>float32</th><th>float32</th><th>float32</th><th>float32</th><th>float32</th><th>float32</th><th>float32</th><th>float32</th><th>float32</th><th>float32</th><th>float32</th><th>float32</th><th>float32</th><th>float32</th><th>float32</th><th>float32</th><th>float32</th><th>float32</th><th>int32</th><th>float64</th><th>float64</th><th>float64</th><th>bytes16</th><th>float64</th><th>float64</th><th>float64</th><th>float64</th><th>float64</th><th>float64</th><th>float64</th><th>float64</th><th>float64</th><th>float64</th><th>float64</th><th>int64</th><th>float64</th><th>int64</th><th>bytes24</th></tr></thead>\n",
       "<tr><td>TFT</td><td>896</td><td>1070144189104132</td><td>180.383435473621</td><td>1.29623935768054</td><td>0</td><td>44</td><td>180.383498876859</td><td>1.29621479718706</td><td>0.0222925310315383</td><td>2.85320544093656e-05</td><td>GALAXY</td><td>39.9242557298858</td><td>0</td><td>SGA-2020 896</td><td>PGC1190469</td><td>1190469</td><td>180.38184750000002</td><td>1.2958311000000002</td><td>Sc</td><td>76.42</td><td>0.44771332</td><td>0.7726806</td><td>0.022478215</td><td>23.47448</td><td>16.591</td><td>False</td><td>LEDA-20181114</td><td>256</td><td>PGC1190469</td><td>1</td><td>True</td><td>180.38184750000002</td><td>1.2958311000000002</td><td>0.44771332</td><td>1803p012</td><td>180.38182702766252</td><td>1.2958268307578154</td><td>0.6239483</td><td>SB26</td><td>76.93204</td><td>0.79918337</td><td>180.38178401011206</td><td>1.295990493861164</td><td>16.25661</td><td>7.6343946</td><td>7.3312407</td><td>7.215459</td><td>4.267071</td><td>6.71145</td><td>8.98399</td><td>11.085844</td><td>12.783826</td><td>14.283976</td><td>15.799797</td><td>17.191736</td><td>18.718449</td><td>18.022089</td><td>17.380363</td><td>16.982048</td><td>17.370085</td><td>16.760023</td><td>16.377943</td><td>16.967363</td><td>16.3918</td><td>16.024693</td><td>16.728146</td><td>16.17214</td><td>15.817478</td><td>16.609686</td><td>16.06539</td><td>15.715597</td><td>16.54587</td><td>16.008068</td><td>15.658699</td><td>16.505327</td><td>15.967604</td><td>15.619181</td><td>16.48057</td><td>15.942226</td><td>15.594475</td><td>16.459711</td><td>15.924162</td><td>15.572447</td><td>0.02403138</td><td>0.037713606</td><td>0.06752815</td><td>0.0597593</td><td>0.041663416</td><td>0.057950046</td><td>0.06897008</td><td>0.07238169</td><td>0.11818266</td><td>0.0070740557</td><td>0.008179923</td><td>0.008415725</td><td>0.005835994</td><td>0.006626628</td><td>0.0068130954</td><td>0.0056522293</td><td>0.006152283</td><td>0.0062183426</td><td>0.0057331356</td><td>0.0059468574</td><td>0.0059097866</td><td>0.005547482</td><td>0.0057424223</td><td>0.005712396</td><td>0.005370375</td><td>0.0055686547</td><td>0.005550764</td><td>0.0052407323</td><td>0.0054267743</td><td>0.0054291883</td><td>0.0051505533</td><td>0.005328927</td><td>0.005367155</td><td>0.005074676</td><td>0.005267603</td><td>0.0053163357</td><td>16.432898</td><td>0.27237165</td><td>3.4572394</td><td>5.399334</td><td>1.6520585</td><td>15.889806</td><td>0.2892297</td><td>2.7702796</td><td>4.85128</td><td>0.7334321</td><td>15.531683</td><td>0.31152296</td><td>2.403034</td><td>4.429238</td><td>0.75814104</td><td>0</td><td>-1.0</td><td>-1.0</td><td>-1.0</td><td>-1</td><td>-1.0</td><td>-1.0</td><td>-1.0</td><td>-1.0</td><td>-1.0</td><td>-1.0</td><td>-1.0</td><td>-1.0</td><td>-1.0</td><td>-1.0</td><td>-1.0</td><td>-1</td><td>-1.0</td><td>-1</td><td>-1</td></tr>\n",
       "<tr><td>TFT</td><td>896</td><td>39627817951955633</td><td>180.381807261429</td><td>1.29583502399248</td><td>0</td><td>39</td><td>180.381827027663</td><td>1.29582683075782</td><td>0.0224292087826733</td><td>2.38256057951294e-05</td><td>GALAXY</td><td>284.325442182948</td><td>0</td><td>SGA-2020 896</td><td>PGC1190469</td><td>1190469</td><td>180.38184750000002</td><td>1.2958311000000002</td><td>Sc</td><td>76.42</td><td>0.44771332</td><td>0.7726806</td><td>0.022478215</td><td>23.47448</td><td>16.591</td><td>False</td><td>LEDA-20181114</td><td>256</td><td>PGC1190469</td><td>1</td><td>True</td><td>180.38184750000002</td><td>1.2958311000000002</td><td>0.44771332</td><td>1803p012</td><td>180.38182702766252</td><td>1.2958268307578154</td><td>0.6239483</td><td>SB26</td><td>76.93204</td><td>0.79918337</td><td>180.38178401011206</td><td>1.295990493861164</td><td>16.25661</td><td>7.6343946</td><td>7.3312407</td><td>7.215459</td><td>4.267071</td><td>6.71145</td><td>8.98399</td><td>11.085844</td><td>12.783826</td><td>14.283976</td><td>15.799797</td><td>17.191736</td><td>18.718449</td><td>18.022089</td><td>17.380363</td><td>16.982048</td><td>17.370085</td><td>16.760023</td><td>16.377943</td><td>16.967363</td><td>16.3918</td><td>16.024693</td><td>16.728146</td><td>16.17214</td><td>15.817478</td><td>16.609686</td><td>16.06539</td><td>15.715597</td><td>16.54587</td><td>16.008068</td><td>15.658699</td><td>16.505327</td><td>15.967604</td><td>15.619181</td><td>16.48057</td><td>15.942226</td><td>15.594475</td><td>16.459711</td><td>15.924162</td><td>15.572447</td><td>0.02403138</td><td>0.037713606</td><td>0.06752815</td><td>0.0597593</td><td>0.041663416</td><td>0.057950046</td><td>0.06897008</td><td>0.07238169</td><td>0.11818266</td><td>0.0070740557</td><td>0.008179923</td><td>0.008415725</td><td>0.005835994</td><td>0.006626628</td><td>0.0068130954</td><td>0.0056522293</td><td>0.006152283</td><td>0.0062183426</td><td>0.0057331356</td><td>0.0059468574</td><td>0.0059097866</td><td>0.005547482</td><td>0.0057424223</td><td>0.005712396</td><td>0.005370375</td><td>0.0055686547</td><td>0.005550764</td><td>0.0052407323</td><td>0.0054267743</td><td>0.0054291883</td><td>0.0051505533</td><td>0.005328927</td><td>0.005367155</td><td>0.005074676</td><td>0.005267603</td><td>0.0053163357</td><td>16.432898</td><td>0.27237165</td><td>3.4572394</td><td>5.399334</td><td>1.6520585</td><td>15.889806</td><td>0.2892297</td><td>2.7702796</td><td>4.85128</td><td>0.7334321</td><td>15.531683</td><td>0.31152296</td><td>2.403034</td><td>4.429238</td><td>0.75814104</td><td>0</td><td>-1.0</td><td>-1.0</td><td>-1.0</td><td>-1</td><td>-1.0</td><td>-1.0</td><td>-1.0</td><td>-1.0</td><td>-1.0</td><td>-1.0</td><td>-1.0</td><td>-1.0</td><td>-1.0</td><td>-1.0</td><td>-1.0</td><td>-1</td><td>-1.0</td><td>-1</td><td>-1</td></tr>\n",
       "</table></div>"
      ],
      "text/plain": [
       "<Table length=2>\n",
       "PVTYPE SGA_ID      TARGETID         FIBER_RA     ...  DM7_SN e_DM7_SN SN_Catalog\n",
       "bytes3 int64        int64           float64      ... float64  int64    bytes24  \n",
       "------ ------ ----------------- ---------------- ... ------- -------- ----------\n",
       "   TFT    896  1070144189104132 180.383435473621 ...    -1.0       -1         -1\n",
       "   TFT    896 39627817951955633 180.381807261429 ...    -1.0       -1         -1"
      ]
     },
     "execution_count": 4,
     "metadata": {},
     "output_type": "execute_result"
    }
   ],
   "source": [
    "sga_table = Table.read('cache/tf_targets_sga.fits')\n",
    "print(len(np.unique(sga_table['SGA_ID'])))\n",
    "sga_table[:2]"
   ]
  },
  {
   "cell_type": "code",
   "execution_count": 5,
   "id": "b55f902d-9446-48db-b927-36e3aaed7326",
   "metadata": {},
   "outputs": [],
   "source": [
    "bad_sga_ids = [30149, 474614, 545858, 653059, 811359, 900049, 972260, 1393079]\n",
    "for bad_sga_id in bad_sga_ids:\n",
    "    indices = np.where(sga_table['SGA_ID'] == bad_sga_id)\n",
    "    sga_table.remove_rows(indices)"
   ]
  },
  {
   "cell_type": "markdown",
   "id": "5810ece7-ce1b-43ca-b865-20e736d0f78f",
   "metadata": {
    "tags": []
   },
   "source": [
    "## Calculate the rotational velocities\n",
    "\n",
    "And store those at $0.33R_{26}$\n",
    "\n",
    "Also, remove those with a velocity > 5000 km/s"
   ]
  },
  {
   "cell_type": "code",
   "execution_count": 6,
   "id": "66da2fa7-c91a-4c6a-9645-6622bb9df907",
   "metadata": {},
   "outputs": [],
   "source": [
    "rmag = []\n",
    "rmag_err = []\n",
    "abs_mag = []\n",
    "abs_mag_err = []\n",
    "vmax = []\n",
    "dvmax = []\n",
    "\n",
    "for i, sga_id in enumerate(np.unique(sga_table['SGA_ID'])):\n",
    "    if sga_id == 474614:\n",
    "        print('skipped')\n",
    "        continue\n",
    "    galaxy_list = sga_table[sga_table['SGA_ID'] == sga_id]\n",
    "    print\n",
    "    #print(i+1, sga_id)\n",
    "    \n",
    "    is_sga_galaxy = (galaxy_list['TARGETID'] > 30000000000000000) & (galaxy_list['TARGETID'] < 40000000000000000)\n",
    "    \n",
    "    sga_galaxy = galaxy_list[is_sga_galaxy]\n",
    "    tf_list = galaxy_list[~is_sga_galaxy]\n",
    "    \n",
    "    if np.sum(is_sga_galaxy) > 1:\n",
    "        sga_galaxy = sga_galaxy[0]\n",
    "    \n",
    "    targetid = int(sga_galaxy['TARGETID'])\n",
    "    center = SkyCoord(sga_galaxy['FIBER_RA'], sga_galaxy['FIBER_DEC'], unit='deg')\n",
    "    offcenter = SkyCoord(tf_list['FIBER_RA'], tf_list['FIBER_DEC'], unit='deg')\n",
    "    sep2d = offcenter.separation(center)\n",
    "    r26 = 0.5 * float(sga_galaxy['D26'])*u.arcmin\n",
    "    sep_r26 = sep2d.to('arcmin') / r26\n",
    "    \n",
    "    zc, zc_err = sga_galaxy['Z'], sga_galaxy['ZERR']\n",
    "    zt, zt_err = tf_list['Z'], tf_list['ZERR']\n",
    "    \n",
    "    dz = np.abs(zt - zc)\n",
    "    dz_err = np.sqrt(zc_err**2 + zt_err**2)\n",
    "    \n",
    "    dv = c * dz\n",
    "    dv_err = c * dz_err\n",
    "    \n",
    "    good_vel = dv < 5000\n",
    "    \n",
    "    if np.sum(good_vel) > 0:\n",
    "        sep_r26 = np.insert(sep_r26[good_vel], 0, 0.)\n",
    "        dv = np.insert(dv[good_vel], 0, 0.)\n",
    "        dv_err = np.insert(dv_err[good_vel], 0, 3e5*zc_err)\n",
    "\n",
    "        # Extract the 0.33xR26 points.\n",
    "        is_033_r26 = (sep_r26 > 0.3) & (sep_r26 < 0.4)\n",
    "        if np.sum(is_033_r26) > 0:\n",
    "            v033 = np.mean(dv[is_033_r26])\n",
    "            dv033 = np.sqrt(np.sum(dv_err[is_033_r26]**2))\n",
    "\n",
    "            d = c * zc / H0 * 1e6 # pc\n",
    "            d_err = c * zc_err / H0 * 1e6\n",
    "            m = float(sga_galaxy['R_MAG_SB26'])\n",
    "            m_err = float(sga_galaxy['R_MAG_SB26_ERR'])\n",
    "            rmag.append(m)\n",
    "            rmag_err.append(m_err)\n",
    "            vmax.append(v033)\n",
    "            dvmax.append(dv033)\n",
    "            abs_mag.append(m - 5*np.log10(d/10))\n",
    "            abs_mag_err.append(np.sqrt(d_err**2 + m_err**2 * 25/d**2))\n",
    "\n",
    "# cut = [idx for idx in range(len(sga_table)) if sga_table['R_MAG_SB26'][idx] in rmag]\n",
    "# sga_tab1 = sga_table[cut]\n",
    "#print('mag:', rmag)\n",
    "#print('vel:', vmax)\n",
    "#print('dv:', dvmax)"
   ]
  },
  {
   "cell_type": "code",
   "execution_count": 7,
   "id": "6daea423-59e9-4388-8501-b5e2942b9c99",
   "metadata": {},
   "outputs": [
    {
     "name": "stderr",
     "output_type": "stream",
     "text": [
      "/tmp/ipykernel_33838/191502626.py:5: VisibleDeprecationWarning: Creating an ndarray from ragged nested sequences (which is a list-or-tuple of lists-or-tuples-or ndarrays with different lengths or shapes) is deprecated. If you meant to do this, you must specify 'dtype=object' when creating the ndarray.\n",
      "  abs_mag = np.asarray(abs_mag)\n",
      "/tmp/ipykernel_33838/191502626.py:6: VisibleDeprecationWarning: Creating an ndarray from ragged nested sequences (which is a list-or-tuple of lists-or-tuples-or ndarrays with different lengths or shapes) is deprecated. If you meant to do this, you must specify 'dtype=object' when creating the ndarray.\n",
      "  abs_mag_err = np.asarray(abs_mag_err)\n"
     ]
    },
    {
     "name": "stdout",
     "output_type": "stream",
     "text": [
      "1170\n"
     ]
    },
    {
     "data": {
      "image/png": "[encoded data removed]",
      "text/plain": [
       "<Figure size 720x288 with 2 Axes>"
      ]
     },
     "metadata": {
      "needs_background": "light"
     },
     "output_type": "display_data"
    }
   ],
   "source": [
    "rmag = np.asarray(rmag)\n",
    "rmag_err = np.asarray(rmag_err)\n",
    "vmax = np.asarray(vmax)\n",
    "dvmax = np.asarray(dvmax)\n",
    "abs_mag = np.asarray(abs_mag)\n",
    "abs_mag_err = np.asarray(abs_mag_err)\n",
    "\n",
    "isrmeas = rmag > 0\n",
    "\n",
    "fig, axes = plt.subplots(1, 2, figsize=(10,4), tight_layout=True)\n",
    "\n",
    "ax = axes[0]\n",
    "ax.errorbar(rmag[isrmeas], vmax[isrmeas], xerr = rmag_err[isrmeas], yerr=dvmax[isrmeas], fmt='ro')\n",
    "ax.set(xlabel='$m_r$(26)',\n",
    "       xlim=(19, 12.5),\n",
    "       ylim=(-50,500),\n",
    "       ylabel='$v_\\mathrm{max}$ [km s$^{-1}$]')\n",
    "\n",
    "ax = axes[1]\n",
    "\n",
    "log10vmax = np.log10(vmax)\n",
    "dlog10vmax = 0.434 * dvmax / vmax \n",
    "\n",
    "ax.errorbar(rmag[isrmeas], log10vmax[isrmeas], xerr = rmag_err[isrmeas], yerr=dlog10vmax[isrmeas], fmt='ro')\n",
    "ax.set(xlabel='$M_r$(26)',\n",
    "       xlim=(19, 12.5),\n",
    "       ylabel=r'$\\log{(v_\\mathrm{max} / \\mathrm{km~s}^{-1})}$',\n",
    "       ylim=(-0.5,3))\n",
    "\n",
    "fig.suptitle(r'Rotational velocity at $0.33R_{26}$', y=1.05)\n",
    "fig.subplots_adjust(top=0.8)\n",
    "\n",
    "print(np.sum(isrmeas))"
   ]
  },
  {
   "cell_type": "code",
   "execution_count": 8,
   "id": "4d14e575-6b12-4d9a-b56e-6104016d71b5",
   "metadata": {},
   "outputs": [
    {
     "name": "stdout",
     "output_type": "stream",
     "text": [
      "1170\n"
     ]
    }
   ],
   "source": [
    "rmag = np.asarray(rmag, dtype=float)\n",
    "vmax = np.asarray(vmax, dtype=float)\n",
    "dvmax = np.asarray(dvmax, dtype=float)\n",
    "abs_mag = np.asarray(abs_mag, dtype=float)\n",
    "abs_mag_err = np.asarray(abs_mag_err, dtype=float)\n",
    "# abs_mag_err = np.sqrt()\n",
    "\n",
    "# fig, axes = plt.subplots(1, 2, figsize=(10,4), tight_layout=True)\n",
    "\n",
    "# ax = axes[0]\n",
    "# ax.errorbar(abs_mag[isrmeas], vmax[isrmeas],yerr=dvmax[isrmeas], fmt='ro')\n",
    "# ax.set(xlabel='$M_r$(26)',\n",
    "#        # xlim=(18.5, 12.5),\n",
    "#        ylim=(-50,500),\n",
    "#        ylabel='$v_\\mathrm{max}$ [km s$^{-1}$]')\n",
    "\n",
    "# ax = axes[1]\n",
    "\n",
    "log10vmax = np.log10(vmax)\n",
    "dlog10vmax = 0.434 * dvmax / vmax \n",
    "\n",
    "# ax.errorbar(abs_mag[isrmeas], log10vmax[isrmeas], yerr=dlog10vmax[isrmeas], fmt='ro')\n",
    "# ax.set(xlabel='$M_r$(26)',\n",
    "#        # xlim=(18.5, 12.5),\n",
    "#        ylabel=r'$\\log{(v_\\mathrm{max} / \\mathrm{km~s}^{-1})}$',\n",
    "#        ylim=(-0.5,3))\n",
    "\n",
    "# fig.suptitle(r'Rotational velocity at $0.33R_{26}$', y=1.05)\n",
    "# fig.subplots_adjust(top=0.8)\n",
    "\n",
    "print(np.sum(isrmeas))"
   ]
  },
  {
   "cell_type": "markdown",
   "id": "e0039773-5608-42d6-9d3e-7305404efada",
   "metadata": {
    "tags": []
   },
   "source": [
    "## Cuts on inclination angle and morphology"
   ]
  },
  {
   "cell_type": "code",
   "execution_count": 9,
   "id": "6ce147db-3ca9-4d52-a14f-d7708ab2d993",
   "metadata": {},
   "outputs": [
    {
     "name": "stderr",
     "output_type": "stream",
     "text": [
      "/tmp/ipykernel_33838/158645154.py:13: RuntimeWarning: invalid value encountered in sqrt\n",
      "  sga_table['cosi'] = np.sqrt((sga_table['BA']**2 - q0**2)/(1 - q0**2))\n"
     ]
    },
    {
     "name": "stdout",
     "output_type": "stream",
     "text": [
      "972\n"
     ]
    }
   ],
   "source": [
    "rmag_clean = []\n",
    "rmag_err_clean = []\n",
    "vmax_clean = []\n",
    "dvmax_clean = []\n",
    "abs_mag_clean = []\n",
    "abs_mag_err_clean = []\n",
    "sga_id_cut = []\n",
    "pgc_id_cut = []\n",
    "z = []\n",
    "\n",
    "inc_min = 45*u.degree\n",
    "cosi_max = np.cos(inc_min.to('radian'))\n",
    "\n",
    "sga_table['cosi'] = np.sqrt((sga_table['BA']**2 - q0**2)/(1 - q0**2))\n",
    "sga_table['cosi'][np.isnan(sga_table['cosi'])] = 0 # Objects with b/a < 0.2\n",
    "\n",
    "#i = 0\n",
    "\n",
    "for sga_id in np.unique(sga_table['SGA_ID']):\n",
    "    galaxy_list = sga_table[sga_table['SGA_ID'] == sga_id]\n",
    "    \n",
    "    is_sga_galaxy = (galaxy_list['TARGETID'] > 30000000000000000) & (galaxy_list['TARGETID'] < 40000000000000000)\n",
    "    sga_galaxy = galaxy_list[is_sga_galaxy]\n",
    "    tf_list = galaxy_list[~is_sga_galaxy]\n",
    "    \n",
    "    if np.sum(is_sga_galaxy) > 1:\n",
    "        sga_galaxy = sga_galaxy[0]\n",
    "    \n",
    "    targetid = int(sga_galaxy['TARGETID'])\n",
    "    \n",
    "    center = SkyCoord(sga_galaxy['FIBER_RA'], sga_galaxy['FIBER_DEC'], unit='deg')\n",
    "    offcenter = SkyCoord(tf_list['FIBER_RA'], tf_list['FIBER_DEC'], unit='deg')\n",
    "    sep2d = offcenter.separation(center)\n",
    "    \n",
    "    morphtype = str(sga_galaxy['MORPHTYPE'])\n",
    "    \n",
    "    cosi = float(sga_galaxy['cosi'])\n",
    "    \n",
    "    r26 = 0.5 * float(sga_galaxy['D26']) * u.arcmin\n",
    "    sep_r26 = sep2d.to('arcmin') / r26\n",
    "\n",
    "    # Cut any suspected ellipticals\n",
    "    if morphtype.startswith('E') or morphtype.startswith('S0') or morphtype.startswith('I'):\n",
    "        # print('{} cut (morphology)'.format(sga_id))\n",
    "        continue\n",
    "               \n",
    "    # Inclination cut\n",
    "    if cosi > cosi_max:\n",
    "        # print('{} cut (inclination)'.format(sga_id))\n",
    "        continue\n",
    "        \n",
    "    #i += 1\n",
    "    #print(i, sga_id, cosi)\n",
    "    \n",
    "    zc, zc_err = float(sga_galaxy['Z']), float(sga_galaxy['ZERR'])\n",
    "    zt, zt_err = tf_list['Z'], tf_list['ZERR']\n",
    "    \n",
    "    dz = np.abs(zt - zc)\n",
    "    dz_err = np.sqrt(zc_err**2 + zt_err**2)\n",
    "    \n",
    "    dv = 3e5 * dz\n",
    "    dv_err = 3e5 * dz_err\n",
    "    \n",
    "    good_vel = dv < 5000\n",
    "    \n",
    "    if np.sum(good_vel) > 0:\n",
    "    \n",
    "        sep_r26 = np.insert(sep_r26[good_vel], 0, 0.)\n",
    "        dv = np.insert(dv[good_vel], 0, 0.)\n",
    "        dv_err = np.insert(dv_err[good_vel], 0, 3e5*zc_err)\n",
    "\n",
    "        # Extract the 0.33xR26 points.\n",
    "        is_033_r26 = (sep_r26 > 0.3) & (sep_r26 < 0.4)\n",
    "        \n",
    "        if np.sum(is_033_r26) > 0:\n",
    "            v033 = np.mean(dv[is_033_r26]) / np.sqrt(1 - cosi**2)\n",
    "            dv033 = np.sqrt(np.sum(dv_err[is_033_r26]**2)) / np.sqrt(1 - cosi**2)\n",
    "\n",
    "            d = c * zc / H0 * 1e6 # pc\n",
    "            d_err = c * zc_err / H0 * 1e6\n",
    "            m = float(sga_galaxy['R_MAG_SB26'])\n",
    "            m_err = float(sga_galaxy['R_MAG_SB26_ERR'])\n",
    "            rmag_clean.append(m)\n",
    "            rmag_err_clean.append(m_err)\n",
    "            vmax_clean.append(v033)\n",
    "            dvmax_clean.append(dv033)\n",
    "            abs_mag_clean.append(m - 5*np.log10(d/10))\n",
    "            abs_mag_err_clean.append(np.sqrt(d_err**2 + m_err**2 * 25/d**2))\n",
    "            sga_id_cut.append(sga_id)\n",
    "            # idx = np.where(sga_galaxy['SGA_ID'] == sga_id)[0][0]\n",
    "            # print(idx)\n",
    "            # print(sga_galaxy['PGC'])\n",
    "            pgc = sga_galaxy['PGC']\n",
    "            if type(pgc) is column.Column:\n",
    "                pgc = pgc[0]\n",
    "            # print(type(pgc))\n",
    "            pgc_id_cut.append(pgc)\n",
    "            \n",
    "            # rmag_clean.append(float(sga_galaxy['R_MAG_SB26']))\n",
    "            # rmag_err_clean.append(float(sga_galaxy['R_MAG_SB26_ERR']))\n",
    "            # vmax_clean.append(v033)\n",
    "            # dvmax_clean.append(dv033)\n",
    "            # abs_mag_clean.append(float(sga_galaxy['R_MAG_SB26'] - sga_galaxy['DM1_SN']))\n",
    "            # abs_mag_err_clean.append(np.sqrt((float(sga_galaxy['R_MAG_SB26_ERR']))**2 + (float(sga_galaxy['e_DM1_SN']))**2))\n",
    "    \n",
    "#inComa_sga_table[['SGA_ID', 'BA', 'cosi']].show_in_notebook()\n",
    "print(len(rmag_clean))"
   ]
  },
  {
   "cell_type": "code",
   "execution_count": 10,
   "id": "60b73ede-ea53-4b39-a1b5-2f4792eb2f68",
   "metadata": {},
   "outputs": [
    {
     "data": {
      "image/png": "[encoded data removed]",
      "text/plain": [
       "<Figure size 720x288 with 2 Axes>"
      ]
     },
     "metadata": {
      "needs_background": "light"
     },
     "output_type": "display_data"
    }
   ],
   "source": [
    "rmag_clean = np.asarray(rmag_clean)\n",
    "rmag_err_clean = np.asarray(rmag_err_clean)\n",
    "vmax_clean = np.asarray(vmax_clean)\n",
    "dvmax_clean = np.asarray(dvmax_clean)\n",
    "abs_mag_clean = np.asarray(abs_mag_clean)\n",
    "abs_mag_err_clean = np.asarray(abs_mag_err_clean)\n",
    "\n",
    "fig, axes = plt.subplots(1, 2, figsize=(10,4), tight_layout=True)\n",
    "\n",
    "isrmeas = rmag_clean > 0.\n",
    "\n",
    "ax = axes[0]\n",
    "ax.errorbar(abs_mag_clean[isrmeas], vmax_clean[isrmeas] ,yerr=dvmax_clean[isrmeas], fmt='ro')\n",
    "ax.set(xlabel='$M_r$(26)',\n",
    "       xlim=(-15, -22.5),\n",
    "       ylim=(-50,500),\n",
    "       ylabel='$v_\\mathrm{max}$ [km s$^{-1}$]')\n",
    "\n",
    "ax = axes[1]\n",
    "\n",
    "log10vmax_clean = np.log10(vmax_clean)\n",
    "dlog10vmax_clean = 0.434 * dvmax_clean / vmax_clean\n",
    "\n",
    "ax.errorbar(abs_mag_clean[isrmeas], log10vmax_clean[isrmeas], yerr=dlog10vmax_clean[isrmeas], fmt='ro')\n",
    "ax.set(xlabel='$M_r$(26)',\n",
    "       xlim=(-15, -22.5),\n",
    "       ylabel=r'$\\log{(v_\\mathrm{max} / \\mathrm{km~s}^{-1})}$',\n",
    "       ylim=(-0.5,3))\n",
    "\n",
    "fig.suptitle(r'Rotational velocity at $0.33R_{26}$', y=1.05)\n",
    "fig.subplots_adjust(top=0.8)"
   ]
  },
  {
   "cell_type": "code",
   "execution_count": null,
   "id": "277e26cf-0aa9-4544-a3b5-fcbf7a35f9ee",
   "metadata": {},
   "outputs": [],
   "source": [
    "len(pgc_id_cut)"
   ]
  },
  {
   "cell_type": "code",
   "execution_count": 12,
   "id": "36795b96-3b17-4a81-95bd-f96cfa1a7294",
   "metadata": {},
   "outputs": [],
   "source": [
    "cuts = [idx for idx in range(len(sga_table)) if sga_table['SGA_ID'][idx] in sga_id_cut]\n",
    "sga_tab = sga_table[cuts]"
   ]
  },
  {
   "cell_type": "code",
   "execution_count": 13,
   "id": "eab7d334-9477-4344-9389-c8314681de4c",
   "metadata": {},
   "outputs": [
    {
     "ename": "OSError",
     "evalue": "File exists: cache/tf_targets_sga_cuts.fits",
     "output_type": "error",
     "traceback": [
      "\u001b[0;31m---------------------------------------------------------------------------\u001b[0m",
      "\u001b[0;31mOSError\u001b[0m                                   Traceback (most recent call last)",
      "\u001b[0;32m<ipython-input-13-f8ea4380dc1f>\u001b[0m in \u001b[0;36m<module>\u001b[0;34m\u001b[0m\n\u001b[0;32m----> 1\u001b[0;31m \u001b[0msga_tab\u001b[0m\u001b[0;34m.\u001b[0m\u001b[0mwrite\u001b[0m\u001b[0;34m(\u001b[0m\u001b[0;34m'cache/tf_targets_sga_cuts.fits'\u001b[0m\u001b[0;34m,\u001b[0m \u001b[0mformat\u001b[0m \u001b[0;34m=\u001b[0m \u001b[0;34m'fits'\u001b[0m\u001b[0;34m)\u001b[0m\u001b[0;34m\u001b[0m\u001b[0;34m\u001b[0m\u001b[0m\n\u001b[0m",
      "\u001b[0;32m/global/common/software/desi/cori/desiconda/20200801-1.4.0-spec/conda/lib/python3.8/site-packages/astropy/table/connect.py\u001b[0m in \u001b[0;36m__call__\u001b[0;34m(self, serialize_method, *args, **kwargs)\u001b[0m\n\u001b[1;32m    111\u001b[0m         \u001b[0minstance\u001b[0m \u001b[0;34m=\u001b[0m \u001b[0mself\u001b[0m\u001b[0;34m.\u001b[0m\u001b[0m_instance\u001b[0m\u001b[0;34m\u001b[0m\u001b[0;34m\u001b[0m\u001b[0m\n\u001b[1;32m    112\u001b[0m         \u001b[0;32mwith\u001b[0m \u001b[0mserialize_method_as\u001b[0m\u001b[0;34m(\u001b[0m\u001b[0minstance\u001b[0m\u001b[0;34m,\u001b[0m \u001b[0mserialize_method\u001b[0m\u001b[0;34m)\u001b[0m\u001b[0;34m:\u001b[0m\u001b[0;34m\u001b[0m\u001b[0;34m\u001b[0m\u001b[0m\n\u001b[0;32m--> 113\u001b[0;31m             \u001b[0mregistry\u001b[0m\u001b[0;34m.\u001b[0m\u001b[0mwrite\u001b[0m\u001b[0;34m(\u001b[0m\u001b[0minstance\u001b[0m\u001b[0;34m,\u001b[0m \u001b[0;34m*\u001b[0m\u001b[0margs\u001b[0m\u001b[0;34m,\u001b[0m \u001b[0;34m**\u001b[0m\u001b[0mkwargs\u001b[0m\u001b[0;34m)\u001b[0m\u001b[0;34m\u001b[0m\u001b[0;34m\u001b[0m\u001b[0m\n\u001b[0m",
      "\u001b[0;32m/global/common/software/desi/cori/desiconda/20200801-1.4.0-spec/conda/lib/python3.8/site-packages/astropy/io/registry.py\u001b[0m in \u001b[0;36mwrite\u001b[0;34m(data, format, *args, **kwargs)\u001b[0m\n\u001b[1;32m    564\u001b[0m \u001b[0;34m\u001b[0m\u001b[0m\n\u001b[1;32m    565\u001b[0m     \u001b[0mwriter\u001b[0m \u001b[0;34m=\u001b[0m \u001b[0mget_writer\u001b[0m\u001b[0;34m(\u001b[0m\u001b[0mformat\u001b[0m\u001b[0;34m,\u001b[0m \u001b[0mdata\u001b[0m\u001b[0;34m.\u001b[0m\u001b[0m__class__\u001b[0m\u001b[0;34m)\u001b[0m\u001b[0;34m\u001b[0m\u001b[0;34m\u001b[0m\u001b[0m\n\u001b[0;32m--> 566\u001b[0;31m     \u001b[0mwriter\u001b[0m\u001b[0;34m(\u001b[0m\u001b[0mdata\u001b[0m\u001b[0;34m,\u001b[0m \u001b[0;34m*\u001b[0m\u001b[0margs\u001b[0m\u001b[0;34m,\u001b[0m \u001b[0;34m**\u001b[0m\u001b[0mkwargs\u001b[0m\u001b[0;34m)\u001b[0m\u001b[0;34m\u001b[0m\u001b[0;34m\u001b[0m\u001b[0m\n\u001b[0m\u001b[1;32m    567\u001b[0m \u001b[0;34m\u001b[0m\u001b[0m\n\u001b[1;32m    568\u001b[0m \u001b[0;34m\u001b[0m\u001b[0m\n",
      "\u001b[0;32m/global/common/software/desi/cori/desiconda/20200801-1.4.0-spec/conda/lib/python3.8/site-packages/astropy/io/fits/connect.py\u001b[0m in \u001b[0;36mwrite_table_fits\u001b[0;34m(input, output, overwrite)\u001b[0m\n\u001b[1;32m    409\u001b[0m             \u001b[0mos\u001b[0m\u001b[0;34m.\u001b[0m\u001b[0mremove\u001b[0m\u001b[0;34m(\u001b[0m\u001b[0moutput\u001b[0m\u001b[0;34m)\u001b[0m\u001b[0;34m\u001b[0m\u001b[0;34m\u001b[0m\u001b[0m\n\u001b[1;32m    410\u001b[0m         \u001b[0;32melse\u001b[0m\u001b[0;34m:\u001b[0m\u001b[0;34m\u001b[0m\u001b[0;34m\u001b[0m\u001b[0m\n\u001b[0;32m--> 411\u001b[0;31m             \u001b[0;32mraise\u001b[0m \u001b[0mOSError\u001b[0m\u001b[0;34m(\u001b[0m\u001b[0;34mf\"File exists: {output}\"\u001b[0m\u001b[0;34m)\u001b[0m\u001b[0;34m\u001b[0m\u001b[0;34m\u001b[0m\u001b[0m\n\u001b[0m\u001b[1;32m    412\u001b[0m \u001b[0;34m\u001b[0m\u001b[0m\n\u001b[1;32m    413\u001b[0m     \u001b[0mtable_hdu\u001b[0m\u001b[0;34m.\u001b[0m\u001b[0mwriteto\u001b[0m\u001b[0;34m(\u001b[0m\u001b[0moutput\u001b[0m\u001b[0;34m)\u001b[0m\u001b[0;34m\u001b[0m\u001b[0;34m\u001b[0m\u001b[0m\n",
      "\u001b[0;31mOSError\u001b[0m: File exists: cache/tf_targets_sga_cuts.fits"
     ]
    }
   ],
   "source": [
    "sga_tab.write('cache/tf_targets_sga_cuts.fits', format = 'fits', overwrite = True)"
   ]
  },
  {
   "cell_type": "code",
   "execution_count": 14,
   "id": "6de15f25-d9c5-4071-ad20-72691408c1c3",
   "metadata": {},
   "outputs": [],
   "source": [
    "tab = Table([sga_id_cut, pgc_id_cut, rmag_clean, rmag_err_clean, vmax_clean, dvmax_clean, log10vmax_clean, dlog10vmax_clean, abs_mag_clean, abs_mag_err_clean],\n",
    "            names = ['SGA_ID', 'PGC', 'RMAG', 'RMAG_ERR', 'VMAX', 'VMAX_ERR', 'LOG_VMAX', 'LOG_VMAX_ERR', 'ABS_MAG_CALC', 'ABS_MAG_CALC_ERR'])"
   ]
  },
  {
   "cell_type": "code",
   "execution_count": 42,
   "id": "1aefa9b0-0372-4555-ba8c-b5bcfda2709e",
   "metadata": {},
   "outputs": [],
   "source": [
    "tab.write('cache/SGA_TF_targets_vmax.fits', format = 'fits')"
   ]
  },
  {
   "cell_type": "markdown",
   "id": "c19e9dca-af94-4a30-81a9-c1d0e7e1def4",
   "metadata": {
    "tags": []
   },
   "source": [
    "## Plot TFR"
   ]
  },
  {
   "cell_type": "code",
   "execution_count": 4,
   "id": "de80475b-2ba8-4ef2-8c81-6d7548e48919",
   "metadata": {},
   "outputs": [
    {
     "data": {
      "text/html": [
       "<div><i>Table length=2</i>\n",
       "<table id=\"table23456059741808\" class=\"table-striped table-bordered table-condensed\">\n",
       "<thead><tr><th>SGA_ID</th><th>PGC</th><th>RMAG</th><th>RMAG_ERR</th><th>VMAX</th><th>VMAX_ERR</th><th>LOG_VMAX</th><th>LOG_VMAX_ERR</th><th>ABS_MAG_CALC</th><th>ABS_MAG_CALC_ERR</th></tr></thead>\n",
       "<thead><tr><th>int64</th><th>int64</th><th>float64</th><th>float64</th><th>float64</th><th>float64</th><th>float64</th><th>float64</th><th>float64</th><th>float64</th></tr></thead>\n",
       "<tr><td>1548</td><td>3502220</td><td>17.070053100585938</td><td>0.010217264294624329</td><td>153.61304846436158</td><td>3.6373473993169387</td><td>2.186428107852915</td><td>0.010276527854141184</td><td>-19.281223798701404</td><td>23768.12523417303</td></tr>\n",
       "<tr><td>1583</td><td>4006227</td><td>17.30707550048828</td><td>0.015975113958120346</td><td>66.73848646769699</td><td>10.953677162903615</td><td>1.824376353260026</td><td>0.0712317006320059</td><td>-17.827886150010855</td><td>18785.22950782002</td></tr>\n",
       "</table></div>"
      ],
      "text/plain": [
       "<Table length=2>\n",
       "SGA_ID   PGC          RMAG        ...     ABS_MAG_CALC     ABS_MAG_CALC_ERR\n",
       "int64   int64       float64       ...       float64            float64     \n",
       "------ ------- ------------------ ... ------------------- -----------------\n",
       "  1548 3502220 17.070053100585938 ... -19.281223798701404 23768.12523417303\n",
       "  1583 4006227  17.30707550048828 ... -17.827886150010855 18785.22950782002"
      ]
     },
     "execution_count": 4,
     "metadata": {},
     "output_type": "execute_result"
    }
   ],
   "source": [
    "sga_tf = Table.read('cache/SGA_TF_targets_vmax_cleaned.fits', format = 'fits')\n",
    "sga_tf[:2]"
   ]
  },
  {
   "cell_type": "code",
   "execution_count": 5,
   "id": "f69a796f-c3e3-4fa0-8c8d-74d43b4b7f40",
   "metadata": {},
   "outputs": [],
   "source": [
    "# bad_sga_ids = [30149, 191275, 474614, 900049, 972260, 1124033, 1367749]\n",
    "# for bad_sga_id in bad_sga_ids:\n",
    "#     indices = np.where(sga_tf['SGA_ID'] == bad_sga_id)\n",
    "#     sga_tf.remove_rows(indices)\n",
    "    \n",
    "# sga_tf.write('cache/SGA_TF_targets_vmax_cleaned.fits', format = 'fits')"
   ]
  },
  {
   "cell_type": "code",
   "execution_count": 6,
   "id": "6163b733-3a19-44df-8d5b-a2bfa049bce7",
   "metadata": {},
   "outputs": [],
   "source": [
    "a, b = -0.66674, -0.14654"
   ]
  },
  {
   "cell_type": "code",
   "execution_count": 7,
   "id": "5b956fad-ced4-4439-97ad-1a55fa9b9796",
   "metadata": {},
   "outputs": [],
   "source": [
    "_a = -a/b\n",
    "_b = 1/b"
   ]
  },
  {
   "cell_type": "code",
   "execution_count": 9,
   "id": "9b6ca325-4459-4749-b84b-ffccd68e73c6",
   "metadata": {},
   "outputs": [],
   "source": [
    "_da = 0.09628\n",
    "_db = 0.86871"
   ]
  },
  {
   "cell_type": "code",
   "execution_count": 14,
   "id": "16282f30-d351-416b-95a6-06766c885265",
   "metadata": {},
   "outputs": [
    {
     "name": "stdout",
     "output_type": "stream",
     "text": [
      "-0.66674 -0.14654\n",
      "-4.549883990719257 -6.824075337791729\n"
     ]
    },
    {
     "data": {
      "image/png": "[encoded data removed]",
      "text/plain": [
       "<Figure size 360x432 with 1 Axes>"
      ]
     },
     "metadata": {
      "needs_background": "light"
     },
     "output_type": "display_data"
    }
   ],
   "source": [
    "fig, ax = plt.subplots(1,1, figsize=(5,6), tight_layout=True)\n",
    "\n",
    "# rmag_clean = np.asarray(rmag_clean)\n",
    "# abs_mag_clean = np.asarray(abs_mag_clean)\n",
    "# vmax_clean = np.asarray(vmax_clean)\n",
    "# dvmax_clean = np.asarray(dvmax_clean)\n",
    "\n",
    "# isrmeas_clean = rmag_clean > 0\n",
    "\n",
    "# log10vmax_clean = np.log10(vmax_clean)\n",
    "# dlog10vmax_clean = 0.434 * dvmax_clean / vmax_clean \n",
    "\n",
    "ax.errorbar(sga_tf['LOG_VMAX'],\n",
    "            sga_tf['ABS_MAG_CALC'], \n",
    "            # yerr = sga_tf['ABS_MAG_CALC_ERR'],\n",
    "            xerr = sga_tf['LOG_VMAX_ERR'], \n",
    "            fmt='ro', \n",
    "            alpha=0.7)\n",
    "\n",
    "\n",
    "print(a, b)\n",
    "print(_a, _b)\n",
    "\n",
    "# ################################################################################\n",
    "\n",
    "\n",
    "ax.set(ylabel='$M_r(26)-5\\log_{10}$(h)',\n",
    "       ylim=(-15, -22.5),\n",
    "       xlabel=r'$\\log{(v_\\mathrm{max} / \\mathrm{km~s}^{-1})}$',\n",
    "       xlim=(0.5,3),\n",
    "       title=r'Rotational velocity at $0.33R_{26}$')\n",
    "ax.grid(ls=':')\n",
    "# r = np.arange(-22.5, -15, 0.1)\n",
    "logv = np.arange(-0.5, 3, 0.1)\n",
    "ax.plot(logv, _a + _b*logv, 'k--', label='$y={:9.4f}{:6.4f}x$'.format(_a,_b))\n",
    "\n",
    "slopes = np.linspace(_b-_db, _b+_db,20) \n",
    "intercepts = np.linspace(_a-_da, _a+_da, 20) \n",
    "line_array = []\n",
    "for i in range(len(slopes)):\n",
    "    line_array.append(logv*slopes[i] + intercepts[i])\n",
    "line_array = np.asarray(line_array)\n",
    "lower_edge = np.min(line_array,axis=0)\n",
    "upper_edge = np.max(line_array,axis=0)\n",
    "ax.fill_between(logv,lower_edge,upper_edge,color='gray',alpha=0.4, label = 'Uncertainty region')\n",
    "\n",
    "ax.legend(loc='upper left', fontsize=10);\n",
    "\n",
    "# fig.suptitle(r'Max velocity at $0.33\\times R_{26}$', y=1.05)\n",
    "# fig.subplots_adjust(top=0.8)\n",
    "fig.savefig('tf_SGA_targets_04_15_2022_with_label.png', dpi=120, transparent=True)\n",
    "\n",
    "# print(np.sum(isrmeas))"
   ]
  },
  {
   "cell_type": "markdown",
   "id": "24fb880a-fd3d-44f6-9206-0eaff9c313dc",
   "metadata": {},
   "source": [
    "## Compute Peculiar Velocities\n",
    "\n",
    "Let uncertainty in the zero point be $da$ and that in the slope be $db$. Then the uncertainty in TF absolute magnitude is given by:\n",
    "$$dM=\\sqrt{da^2+\\left(db\\cdot\\log{v_{\\text{max}}}\\right)^2+\\left(b\\cdot d\\log{v_{\\text{max}}}\\right)^2}$$"
   ]
  },
  {
   "cell_type": "code",
   "execution_count": 16,
   "id": "7bc21117-bcdb-4f2b-96f2-71d96fe1c383",
   "metadata": {},
   "outputs": [],
   "source": [
    "## Compute absolute magnitudes from TFR\n",
    "abs_mag_tf = []\n",
    "abs_mag_tf_err = []\n",
    "for logv, dlogv in zip(sga_tf['LOG_VMAX'], sga_tf['LOG_VMAX_ERR']):\n",
    "    abs_mag_tf.append(_a + _b*logv)\n",
    "    abs_mag_tf_err.append(np.sqrt(_da**2 + (_db*logv)**2 + (_b*dlogv)**2))"
   ]
  },
  {
   "cell_type": "code",
   "execution_count": 17,
   "id": "d219e2a1-dc20-4378-8ada-5bbcb93634d3",
   "metadata": {},
   "outputs": [
    {
     "data": {
      "text/plain": [
       "(-19.470234119372968, 1.9031031488551746)"
      ]
     },
     "execution_count": 17,
     "metadata": {},
     "output_type": "execute_result"
    }
   ],
   "source": [
    "abs_mag_tf[0], abs_mag_tf_err[0]"
   ]
  },
  {
   "cell_type": "markdown",
   "id": "fc6af78c-b649-4f0e-97cc-f8a9df0afdaf",
   "metadata": {},
   "source": []
  },
  {
   "cell_type": "code",
   "execution_count": 27,
   "id": "89ffd87e-562b-49d4-a159-a751b6babef4",
   "metadata": {},
   "outputs": [],
   "source": [
    "## Extract observed redshift and compute peculiar redshift\n",
    "z_obs = []\n",
    "dz_obs = []\n",
    "z_H = []\n",
    "dz_H = []\n",
    "z_p = []\n",
    "dz_p = []\n",
    "bad_id = []\n",
    "\n",
    "for i in range(len(sga_tf['SGA_ID'])):\n",
    "    \n",
    "    sga_id = sga_tf['SGA_ID'][i]\n",
    "    M_obs, dM_obs = sga_tf['ABS_MAG_CALC'][i], sga_tf['ABS_MAG_CALC_ERR'][i] \n",
    "    M_TF, dM_TF = abs_mag_tf[i], abs_mag_tf_err[i] \n",
    "    \n",
    "    galaxy_list = sga_table[sga_table['SGA_ID'] == sga_id]\n",
    "    is_sga_galaxy = (galaxy_list['TARGETID'] > 30000000000000000) & (galaxy_list['TARGETID'] < 40000000000000000)\n",
    "    sga_galaxy = galaxy_list[is_sga_galaxy]\n",
    "    tf_list = galaxy_list[~is_sga_galaxy]\n",
    "    if np.sum(is_sga_galaxy) > 1:\n",
    "        sga_galaxy = sga_galaxy[0]\n",
    "    \n",
    "    zc, zc_err = float(sga_galaxy['Z']), float(sga_galaxy['ZERR'])\n",
    "    z_obs.append(zc)\n",
    "    dz_obs.append(zc_err)\n",
    "    # print(zc)\n",
    "    if np.shape(sga_galaxy['R_MAG_SB26']) == (0,):\n",
    "        bad_id.append(sga_id)\n",
    "        continue\n",
    "    m, m_err = float(sga_galaxy['R_MAG_SB26']), float(sga_galaxy['R_MAG_SB26_ERR'])\n",
    "    zH = zc * 10**((M_obs-M_TF)/5)\n",
    "    dzH = np.sqrt(zc_err**2 * 10**(2*(M_obs-M_TF)/5) + (zc*np.log(10)/5)**2 * (dM_obs**2 * 10**(2*M_obs/5)+dM_TF**2 * 10**(2*M_TF/5)))\n",
    "    z_H.append(zH)\n",
    "    dz_H.append(dzH)\n",
    "    z_p.append(((1+zc)/(1+zH)) - 1)\n",
    "    dz_p.append(np.sqrt(((1+zc)/(1+zH)**2 * dzH)**2 + (zc_err/(1+zH))**2))"
   ]
  },
  {
   "cell_type": "code",
   "execution_count": 28,
   "id": "2d45842e-a1a4-4c40-ba6f-2490bf46bd02",
   "metadata": {},
   "outputs": [],
   "source": [
    "sga_tf['Z_OBS'] = z_obs\n",
    "sga_tf['Z_OBS_ERR'] = dz_obs\n",
    "sga_tf['Z_H'] = z_H\n",
    "sga_tf['Z_H_ERR'] = dz_H\n",
    "sga_tf['Z_P'] = z_p\n",
    "sga_tf['Z_P_ERR'] = dz_p"
   ]
  },
  {
   "cell_type": "code",
   "execution_count": 30,
   "id": "4ba4fdc0-3c57-443c-95a1-c1d88947a658",
   "metadata": {},
   "outputs": [],
   "source": [
    "sga_tf['ABS_MAG_TF'] = abs_mag_tf\n",
    "sga_tf['ABS_MAG_TF_ERR'] = abs_mag_tf_err"
   ]
  },
  {
   "cell_type": "code",
   "execution_count": 31,
   "id": "56802dd1-2c4b-48fe-9b5d-cf7fa446a2d9",
   "metadata": {},
   "outputs": [],
   "source": [
    "sga_tf.write('cache/SGA_PV.fits', format = 'fits', overwrite = True)"
   ]
  },
  {
   "cell_type": "code",
   "execution_count": 12,
   "id": "4fa6657e-3577-4e04-b76f-3e05a3617212",
   "metadata": {},
   "outputs": [
    {
     "data": {
      "text/plain": [
       "<TableColumns names=('SGA_ID','PGC','RMAG','RMAG_ERR','VMAX','VMAX_ERR','LOG_VMAX','LOG_VMAX_ERR','ABS_MAG_CALC','ABS_MAG_CALC_ERR','Z_OBS','Z_OBS_ERR','Z_H','Z_H_ERR','Z_P','Z_P_ERR','ABS_MAG_TF','ABS_MAG_TF_ERR')>"
      ]
     },
     "execution_count": 12,
     "metadata": {},
     "output_type": "execute_result"
    }
   ],
   "source": [
    "sga_tf = Table.read('cache/SGA_PV.fits', format = 'fits')\n",
    "sga_tf.columns"
   ]
  },
  {
   "cell_type": "code",
   "execution_count": 20,
   "id": "a7e39e18-c3ae-4d10-a2e5-d183af02fdbb",
   "metadata": {},
   "outputs": [
    {
     "data": {
      "image/png": "[encoded data removed]",
      "text/plain": [
       "<Figure size 432x288 with 1 Axes>"
      ]
     },
     "metadata": {
      "needs_background": "light"
     },
     "output_type": "display_data"
    }
   ],
   "source": [
    "plt.hist(sga_tf['Z_OBS'])\n",
    "plt.xlabel(r'$z_\\mathrm{obs}$')\n",
    "plt.ylabel('Counts')\n",
    "plt.title('Redshifts: SV3 TF Sample')\n",
    "# plt.axvline(0.05, color = 'k', ls = ':')\n",
    "# plt.show()\n",
    "plt.savefig('z_obs_hist_SV3.png', dpi=120, transparent=True)"
   ]
  },
  {
   "cell_type": "code",
   "execution_count": null,
   "id": "405ef300-546c-4751-bccb-8cbf13ce99a9",
   "metadata": {},
   "outputs": [],
   "source": []
  }
 ],
 "metadata": {
  "kernelspec": {
   "display_name": "DESI master",
   "language": "python",
   "name": "desi-master"
  },
  "language_info": {
   "codemirror_mode": {
    "name": "ipython",
    "version": 3
   },
   "file_extension": ".py",
   "mimetype": "text/x-python",
   "name": "python",
   "nbconvert_exporter": "python",
   "pygments_lexer": "ipython3",
   "version": "3.9.7"
  }
 },
 "nbformat": 4,
 "nbformat_minor": 5
}
