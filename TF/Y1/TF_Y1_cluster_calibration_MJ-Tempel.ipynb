{
 "cells": [
  {
   "cell_type": "markdown",
   "id": "493d8d3b-6dfe-4c2a-b55f-960acf5b222f",
   "metadata": {},
   "source": [
    "# DESI PV Y1 Group/Cluster TFR Calibration\n",
    "\n",
    "Using the list of groups defined by Tully in [*Galaxy Groups: a 2MASS Catalog*](https://iopscience.iop.org/article/10.1088/0004-6256/149/5/171), AJ 149:171, 2015, identify DESI observations with measurements suitable for the Tully-Fisher relation. Export the SGA IDs of the TFR galaxies and apply a multi-cluster joint fit to calibrate the TFR at $0.4R_{26}$.\n",
    "\n",
    "Version: **25 February 2025 (MJ working document)**\n",
    "\n",
    "**Note:** This requires using a subclassed version of `hyperfit`.\n",
    "\n",
    "Potential updates to this notebook:\n",
    "* ~~Improved identification of spiral galaxy morphologies in the SGA (currently using LEDA morphological classification).~~\n",
    "* Larger statistics of SN Ia calibrators with rotation curve measurements and independent distance moduli."
   ]
  },
  {
   "cell_type": "code",
   "execution_count": null,
   "id": "d78dd69c-7654-42dd-9877-5f14589962c8",
   "metadata": {
    "tags": []
   },
   "outputs": [],
   "source": [
    "import numpy as np\n",
    "\n",
    "import matplotlib.pyplot as plt\n",
    "plt.rcParams['text.usetex'] = False\n",
    "from matplotlib import cm, colors\n",
    "from matplotlib.patches import Ellipse\n",
    "import matplotlib as mpl\n",
    "\n",
    "# We have more than 10 clusters, so we need to change the default color map so that they are all plotted with different colors\n",
    "from cycler import cycler\n",
    "plt.rcParams['axes.prop_cycle'] = cycler('color', plt.get_cmap('tab10').colors)\n",
    "\n",
    "from astropy.table import Table, vstack, join\n",
    "from astropy.coordinates import SkyCoord\n",
    "from astropy.wcs import WCS\n",
    "from astropy.visualization.wcsaxes import SphericalCircle\n",
    "from astropy import units as u\n",
    "from astropy import constants as c\n",
    "\n",
    "from scipy.spatial.distance import cdist, euclidean\n",
    "\n",
    "import os\n",
    "\n",
    "from corner import corner\n",
    "\n",
    "import pickle\n",
    "\n",
    "import ligo.skymap.plot\n",
    "\n",
    "from tqdm import tqdm\n",
    "\n",
    "from matplotlib.projections import get_projection_names\n",
    "\n",
    "from desiutil.plots import init_sky\n",
    "\n",
    "# Custom functions / classes\n",
    "import sys\n",
    "sys.path.insert(1, '/global/homes/m/mjkeller/DESI_SGA/TF')\n",
    "from help_functions import adjust_lightness\n",
    "from line_fits import hyperfit_line_multi\n",
    "from TF_photoCorrect import BASS_corr, MW_dust, k_corr, internal_dust"
   ]
  },
  {
   "cell_type": "code",
   "execution_count": null,
   "id": "ec842bc2-eb1a-40fa-b78b-84458e1883fa",
   "metadata": {
    "tags": []
   },
   "outputs": [],
   "source": [
    "# Base values for later conversions (all in units in km/s).\n",
    "c_kms = c.c.to_value('km/s')\n",
    "h = 1.\n",
    "H0 = 100*h\n",
    "q0 = 0.2"
   ]
  },
  {
   "cell_type": "markdown",
   "id": "a2fc09db-6b0c-4ec9-91ec-d71fe65c6bb8",
   "metadata": {},
   "source": [
    "# Access SGA Iron Data\n",
    "\n",
    "The following selections have already been applied:\n",
    "* `DELTACHI2 > 25` & `ZWARN = 0` for the centers\n",
    "* $10 < V < 1000$ km/s and $\\Delta V / V_\\text{min}$ for the observations at $0.4R_{26}$\n",
    "* Visual inspection"
   ]
  },
  {
   "cell_type": "code",
   "execution_count": null,
   "id": "87ebe4bc-9fe5-4000-af6f-8574121c3065",
   "metadata": {
    "tags": []
   },
   "outputs": [],
   "source": [
    "sgapath = '/global/cfs/cdirs/desi/science/td/pv/tfgalaxies/Y1'\n",
    "# sgapath = '.'\n",
    "# sgafits = os.path.join(sgapath, 'SGA-2020_iron_Vrot.fits')\n",
    "# sgafits = os.path.join(sgapath, 'SGA-2020_iron_Vrot_VI.fits')\n",
    "sgafits = os.path.join(sgapath, 'SGA-2020_iron_Vrot_VI_photsys.fits')\n",
    "\n",
    "sgatab = Table.read(sgafits)\n",
    "sgatab[:5]"
   ]
  },
  {
   "cell_type": "markdown",
   "id": "cc82780a-ecbe-470e-9406-4b653cd218ca",
   "metadata": {
    "tags": []
   },
   "source": [
    "# Load Morphological Classification using the SSL\n",
    "\n",
    "As an alternative to morphological classification of the galaxies, we also produced a classification based on the SSL sorter (using a nearest-neighbor query; Largett et al., in prep.). The classification ignored the Hubble sub-types and grouped the galaxies into four main categories:\n",
    "1. Spiral\n",
    "2. Elliptical\n",
    "3. Lenticular\n",
    "4. Irregular\n",
    "\n",
    "Let's also load this table and add it to the SGA table."
   ]
  },
  {
   "cell_type": "code",
   "execution_count": null,
   "id": "56d3f814-2a79-4bba-b6a9-ba04c1471c1b",
   "metadata": {
    "tags": []
   },
   "outputs": [],
   "source": [
    "# ai_morphpath = '/global/cfs/cdirs/desi/science/td/pv'\n",
    "# ai_morphpath = '.'\n",
    "ai_morphpath = '/global/cfs/cdirs/desi/science/td/pv/SGA2020'\n",
    "# ai_morphcsv = os.path.join(ai_morphpath, 'sga10278_morphologies_model_analysis.csv')\n",
    "ai_morphcsv = os.path.join(ai_morphpath, 'TFY1_Classification.csv')\n",
    "\n",
    "ai_morphtab = Table.read(ai_morphcsv)\n",
    "ai_morphtab[:5]"
   ]
  },
  {
   "cell_type": "code",
   "execution_count": null,
   "id": "073ec6fa-aa56-4f57-9a47-c544478f227e",
   "metadata": {
    "tags": []
   },
   "outputs": [],
   "source": [
    "sum(ai_morphtab['Spiral_Pred'] == 'Spiral') + sum(ai_morphtab['Elliptical_Pred'] == 'Elliptical') + sum(ai_morphtab['Lenticular_Pred'] == 'Lenticular') + sum(ai_morphtab['Irregular_Pred'] == 'Irregular')"
   ]
  },
  {
   "cell_type": "markdown",
   "id": "78beab1a-a35b-4bb7-a0a2-d6d11add4845",
   "metadata": {},
   "source": [
    "Cool, so Julia gave us a table with only those objects with certain classifications from all three binary classifiers.  Therefore, if `Spiral_Pred` = 'Spiral', then this is a spiral galaxy."
   ]
  },
  {
   "cell_type": "code",
   "execution_count": null,
   "id": "1a98cfed-968c-4e0e-abad-24a5e274945e",
   "metadata": {
    "tags": []
   },
   "outputs": [],
   "source": [
    "# Create an overall record of the SSL prediction\n",
    "ai_morphtab['Predicted_Type'] = 'Undecided '\n",
    "\n",
    "for i in range(len(ai_morphtab)):\n",
    "    \n",
    "    classes = ai_morphtab['Spiral_Pred', 'Elliptical_Pred', 'Lenticular_Pred', 'Irregular_Pred'][i]\n",
    "    \n",
    "    ai_morphtab['Predicted_Type'][i] = next(j for j in classes if j != 'Other')"
   ]
  },
  {
   "cell_type": "markdown",
   "id": "64380219-178a-4788-a0dc-12d0ce3ca0c7",
   "metadata": {},
   "source": [
    "# Combine ML morphtypes with SGA catalog"
   ]
  },
  {
   "cell_type": "code",
   "execution_count": null,
   "id": "e0694926-dad7-4619-acb9-3871fa4ec2ed",
   "metadata": {
    "tags": []
   },
   "outputs": [],
   "source": [
    "'''\n",
    "#- Match SGA_ID in the two tables and return index into ai_morphtab\n",
    "idx = np.where(ai_morphtab['SGA_ID'][:, None] == sgatab['SGA_ID'][None, :])[1]\n",
    "\n",
    "#- Create a new column in the SGA table\n",
    "sgatab['MORPHTYPE_AI'] = ai_morphtab['Predicted_Type'][idx]\n",
    "''';\n",
    "\n",
    "sgatab = join(sgatab, ai_morphtab['SGA_ID', 'Predicted_Type'], keys='SGA_ID', join_type='left')\n",
    "\n",
    "# Rename Predicted_Type to MORPHTYPE_AI\n",
    "sgatab['Predicted_Type'].name = 'MORPHTYPE_AI'"
   ]
  },
  {
   "cell_type": "markdown",
   "id": "80c9e832-277b-4393-96c1-b70e91f1da6e",
   "metadata": {},
   "source": [
    "# Apply Cuts Suitable for Calibrating the TFR\n",
    "\n",
    "Requirements:\n",
    "* $10~\\mathrm{km/s} < V_\\mathrm{rot} < 1000~\\mathrm{km/s}$ at $0.4R_{26}$\n",
    "* $\\Delta V/V_\\mathrm{min} \\leq 5$\n",
    "* Passed visual inspection\n",
    "* $i > 45^\\circ$\n",
    "* Spiral-type morphology\n",
    "\n",
    "The first three items have already been applied."
   ]
  },
  {
   "cell_type": "code",
   "execution_count": null,
   "id": "e286bb73-b6b3-4409-916d-387d6b3370ea",
   "metadata": {
    "tags": []
   },
   "outputs": [],
   "source": [
    "#- Inclination cut\n",
    "cosi2 = (sgatab['BA']**2 - q0**2) / (1 - q0**2)\n",
    "i_min = 45. * u.degree\n",
    "cosi2_max = np.cos(i_min)**2\n",
    "is_good_incl = cosi2 < cosi2_max\n",
    "'''\n",
    "#- Morphology cut: spiral, not S0\n",
    "is_good_morph = np.zeros_like(is_good_incl, dtype=bool)\n",
    "for i in range(len(sgatab)):\n",
    "    try:\n",
    "        if (sgatab['MORPHTYPE'][i][0] == 'S' and sgatab['MORPHTYPE'][i][:2] != 'S0') or (sgatab['MORPHTYPE_AI'][i][0] == 'S'):\n",
    "            is_good_morph[i] = True\n",
    "    except IndexError as e:\n",
    "        continue\n",
    "'''\n",
    "#- Morphology cut: only ML\n",
    "is_good_morph_ML = np.zeros_like(is_good_incl, dtype=bool)\n",
    "for i in range(len(sgatab)):\n",
    "    if sgatab['MORPHTYPE_AI'][i] == 'Spiral':\n",
    "        is_good_morph_ML[i] = True\n",
    "\n",
    "#- Combine selections:\n",
    "# is_good_sga = is_good_incl & is_good_morph\n",
    "is_good_sga = is_good_incl & is_good_morph_ML"
   ]
  },
  {
   "cell_type": "code",
   "execution_count": null,
   "id": "b123eb7b-c2ee-4768-9ac3-1cd84587d51d",
   "metadata": {
    "tags": []
   },
   "outputs": [],
   "source": [
    "data = {\n",
    "    'SGA obs.' : len(sgatab),\n",
    "    # r'$10 < V_\\mathrm{rot} < 1000$' : np.sum(is_good_velo),\n",
    "    # r'$\\Delta V/V_\\mathrm{min}>5$' : np.sum(is_good_dv),\n",
    "    r'$i > 45^\\circ$' : np.sum(is_good_incl), \n",
    "    # 'Spiral' : np.sum(is_good_morph),\n",
    "    'Spiral\\n(binary ML)' : np.sum(is_good_morph_ML),\n",
    "    'All Cuts' : np.sum(is_good_sga), \n",
    "    # 'All Cuts\\n(binary ML)' : np.sum(is_good_sga_ML)\n",
    "}\n",
    "names = list(data.keys())\n",
    "values = list(data.values())\n",
    "\n",
    "fig, ax = plt.subplots(1, 1, figsize=(5,4), tight_layout=True)\n",
    "bars = ax.bar(names, values)\n",
    "ax.bar_label(bars, fmt='%d')\n",
    "ax.set(ylabel='count');#, yscale='log', ylim=[1e3,1.2e4]);\n",
    "\n",
    "# fig.savefig('../../Figures/Y1/TF_Y1_SGA_Vrot_cuts.png', dpi=150, facecolor='none');"
   ]
  },
  {
   "cell_type": "markdown",
   "id": "7dfd5b1c-903a-4aa7-b1f3-a1ad9be68638",
   "metadata": {},
   "source": [
    "# Photometric corrections"
   ]
  },
  {
   "cell_type": "markdown",
   "id": "8dd29f6a-1597-4fd6-b56b-f455e19c67e8",
   "metadata": {},
   "source": [
    "### Survey offsets"
   ]
  },
  {
   "cell_type": "code",
   "execution_count": null,
   "id": "1b4edeec-b5c1-4680-b58c-3adbdf858588",
   "metadata": {
    "tags": []
   },
   "outputs": [],
   "source": [
    "sys_corr, sys_corr_err = BASS_corr(sgatab['PHOTSYS'])"
   ]
  },
  {
   "cell_type": "markdown",
   "id": "f3e53af4-82a1-4038-b5de-34d02e6185f6",
   "metadata": {},
   "source": [
    "### Dust corrections"
   ]
  },
  {
   "cell_type": "code",
   "execution_count": null,
   "id": "06941ddb-4be1-4672-92a2-48e0e8e5a1ec",
   "metadata": {
    "tags": []
   },
   "outputs": [],
   "source": [
    "# Import E(B-V) dust map\n",
    "ebv_directory = '/global/cfs/cdirs/desicollab/users/rongpu/dust/desi_ebv/public_data/maps/'\n",
    "ebv_filename = 'desi_dust_gr_512.fits'\n",
    "ebv_map = Table.read(ebv_directory + ebv_filename)"
   ]
  },
  {
   "cell_type": "code",
   "execution_count": null,
   "id": "5548353c-2039-41b6-a3ba-c3acc1b56a4d",
   "metadata": {
    "tags": []
   },
   "outputs": [],
   "source": [
    "MWdust_corr, MWdust_corr_err = MW_dust(sgatab['RA'], sgatab['DEC'], ebv_map)"
   ]
  },
  {
   "cell_type": "code",
   "execution_count": null,
   "id": "9e142462-c841-4fd0-8dd7-c202593b3703",
   "metadata": {
    "tags": []
   },
   "outputs": [],
   "source": [
    "# Flip NaN values to 0\n",
    "MWdust_corr_err[np.isnan(MWdust_corr_err)] = 0"
   ]
  },
  {
   "cell_type": "markdown",
   "id": "5c3e435c-82df-4233-9e81-2bfb362ac701",
   "metadata": {},
   "source": [
    "### $K$-corrections"
   ]
  },
  {
   "cell_type": "code",
   "execution_count": null,
   "id": "008c60ff-f524-4e06-a194-f21f828d9b6c",
   "metadata": {
    "tags": []
   },
   "outputs": [],
   "source": [
    "# Apparently we have some galaxies with negative redshifts\n",
    "zg0 = sgatab['Z_DESI'] >= 0"
   ]
  },
  {
   "cell_type": "code",
   "execution_count": null,
   "id": "bed6fbe9-1f18-4982-b9a9-0ae7332d737d",
   "metadata": {
    "tags": []
   },
   "outputs": [],
   "source": [
    "kcorr_zg0 = k_corr(sgatab['Z_DESI'][zg0], \n",
    "                   [sgatab['G_MAG_SB26'][zg0], sgatab['R_MAG_SB26'][zg0], sgatab['Z_MAG_SB26'][zg0]], \n",
    "                   [sgatab['G_MAG_SB26_ERR'][zg0], sgatab['R_MAG_SB26_ERR'][zg0], sgatab['Z_MAG_SB26_ERR'][zg0]], \n",
    "                   z_corr=0.1) # K-correcting to same redshift as FastSpecFit (which is what Caitlin's using for the FP)"
   ]
  },
  {
   "cell_type": "code",
   "execution_count": null,
   "id": "50ee9617-788b-445a-bef1-3a3ffc3b3f01",
   "metadata": {
    "tags": []
   },
   "outputs": [],
   "source": [
    "kcorr = np.zeros([len(sgatab), 3])\n",
    "kcorr[zg0] = kcorr_zg0"
   ]
  },
  {
   "cell_type": "markdown",
   "id": "fcb81a99-2eba-4031-80ac-da3009ca7663",
   "metadata": {},
   "source": [
    "### Internal dust extinction correction\n",
    "\n",
    "This is based off of a linear fit to ($b/a$, $m_r$), removing any correlation between $b/a$ and $m_r$."
   ]
  },
  {
   "cell_type": "code",
   "execution_count": null,
   "id": "338df309-de8b-4ff6-a8c9-935d6ac5ebba",
   "metadata": {
    "tags": []
   },
   "outputs": [],
   "source": [
    "temp_infile = open('iron_internalDust_z0p1_mcmc.pickle', 'rb')\n",
    "dust_mcmc_samples,_ = pickle.load(temp_infile)\n",
    "temp_infile.close()"
   ]
  },
  {
   "cell_type": "code",
   "execution_count": null,
   "id": "86c6b76d-4fa8-4d61-a0f5-057c4d8c0b49",
   "metadata": {
    "tags": []
   },
   "outputs": [],
   "source": [
    "internalDust_coeffs = np.median(dust_mcmc_samples, axis=1)\n",
    "\n",
    "internalDust_coeffs_err = np.zeros(len(internalDust_coeffs))\n",
    "internalDust_coeffs_err[0] = np.std(dust_mcmc_samples[0][(-1.5 < dust_mcmc_samples[0]) & (dust_mcmc_samples[0] < 0)])\n",
    "internalDust_coeffs_err[1] = np.std(dust_mcmc_samples[1][(0 < dust_mcmc_samples[1]) & (dust_mcmc_samples[1] < 1)])"
   ]
  },
  {
   "cell_type": "code",
   "execution_count": null,
   "id": "c8d07a6e-8e82-491a-839e-f6453e94f5b0",
   "metadata": {
    "tags": []
   },
   "outputs": [],
   "source": [
    "internalDust_corr, internalDust_corr_err = internal_dust(sgatab['BA'], \n",
    "                                                         internalDust_coeffs, \n",
    "                                                         internalDust_coeffs_err)"
   ]
  },
  {
   "cell_type": "markdown",
   "id": "4e7ce4b5-9ca6-44e1-90b9-e5f3181ef3d3",
   "metadata": {},
   "source": [
    "## Apply corrections"
   ]
  },
  {
   "cell_type": "code",
   "execution_count": null,
   "id": "c67ea6f5-9663-4e7e-ba3f-774ba630668d",
   "metadata": {
    "tags": []
   },
   "outputs": [],
   "source": [
    "sgatab['R_MAG_SB26_CORR'] = sgatab['R_MAG_SB26'] - MWdust_corr[1] + sys_corr + kcorr[:,1] - internalDust_corr"
   ]
  },
  {
   "cell_type": "code",
   "execution_count": null,
   "id": "c054c2fa-ffa6-466b-a1d8-b09c98dd3424",
   "metadata": {
    "tags": []
   },
   "outputs": [],
   "source": [
    "sgatab['R_MAG_SB26_ERR_CORR'] = np.sqrt(sgatab['R_MAG_SB26_ERR']**2 + MWdust_corr_err[1]**2 + sys_corr_err**2 + internalDust_corr_err**2)"
   ]
  },
  {
   "cell_type": "markdown",
   "id": "835cf1c1-4da9-41fe-a2fd-35011e1490b8",
   "metadata": {},
   "source": [
    "## Load SN Ia Calibrators for the TFR Zero Point\n",
    "\n",
    "List of SNe Ia from UNION3 and Pantheon+ from Anthony Carr. Match these to the SGA iron observations that have passed all quality cuts."
   ]
  },
  {
   "cell_type": "code",
   "execution_count": null,
   "id": "10675d4f-05b1-4da5-8add-a42c11dabdcc",
   "metadata": {
    "tags": []
   },
   "outputs": [],
   "source": [
    "# zeroptpath = '../cache/'\n",
    "# zeroptpath = '.'\n",
    "zeroptpath = '/global/cfs/cdirs/desi/science/td/pv/tfgalaxies/tf_0pt/'\n",
    "zeroptab = Table.read(os.path.join(zeroptpath, 'SGA_SNmatches+secondary.fits'))"
   ]
  },
  {
   "cell_type": "code",
   "execution_count": null,
   "id": "c1984125-f138-48bc-81a6-b54a25b4f7db",
   "metadata": {
    "tags": []
   },
   "outputs": [],
   "source": [
    "#- Extract the 0-point SNe Ia that match SGA IDs in the good catalog (passed all rotation curve cuts).\n",
    "#  Merge the tables so we can use the zero point later.\n",
    "idx = np.in1d(zeroptab['SGA_ID'], sgatab['SGA_ID'][is_good_sga])\n",
    "# zeroptab[['SGA_ID', 'MU_PRIMARY', 'MU_SECONDARY', 'MU_ERR', 'MU_SOURCE']][idx]\n",
    "\n",
    "zeroptab = join(sgatab, zeroptab[['SGA_ID', 'MU_PRIMARY', 'MU_SECONDARY', 'MU_ERR', 'MU_SOURCE']][idx], keys='SGA_ID')\n",
    "\n",
    "#- Write catalog to file\n",
    "zeroptab.write('SGA_distances_0pt_iron_z0p1.fits', overwrite=True)\n",
    "zeroptab"
   ]
  },
  {
   "cell_type": "code",
   "execution_count": null,
   "id": "a450e88c-164d-4582-82e8-e4cdc818d9f9",
   "metadata": {},
   "outputs": [],
   "source": [
    "plt.figure(tight_layout=True)\n",
    "\n",
    "plt.hist(zeroptab['Z_DESI'])\n",
    "\n",
    "plt.xlabel('z');"
   ]
  },
  {
   "cell_type": "code",
   "execution_count": null,
   "id": "8f93dc9e-b22b-4594-a0fd-2838064ce5a0",
   "metadata": {},
   "outputs": [],
   "source": [
    "# Only keep galaxies with a primary SN match\n",
    "# zeroptab = zeroptab[~zeroptab['MU_PRIMARY'].mask]"
   ]
  },
  {
   "cell_type": "code",
   "execution_count": null,
   "id": "b05ac000-a3fa-413e-b4fe-cd98d51b42c8",
   "metadata": {},
   "outputs": [],
   "source": [
    "np.unique(zeroptab['MU_SOURCE'], return_counts=True)"
   ]
  },
  {
   "cell_type": "markdown",
   "id": "f81bd536-02ab-412a-8623-6e5dd8284fc5",
   "metadata": {},
   "source": [
    "### Plot the Zero Point Calibrators\n",
    "\n",
    "Sky coordinates of the SNe with good DESI rotational velocities."
   ]
  },
  {
   "cell_type": "code",
   "execution_count": null,
   "id": "ec9ca361-89fc-4e35-9066-896127237d34",
   "metadata": {
    "tags": []
   },
   "outputs": [],
   "source": [
    "sne_coords = SkyCoord(ra=zeroptab['RA'], dec=zeroptab['DEC'], frame='icrs', unit='deg')\n",
    "\n",
    "fig, ax = plt.subplots(figsize=(10,4), tight_layout=True, subplot_kw={'projection' : 'mollweide'})\n",
    "_ra = np.radians(180*u.deg - sne_coords.ra)\n",
    "_dec = np.radians(sne_coords.dec)\n",
    "ax.plot(_ra, _dec, 'x', ms=10, mew=3)\n",
    "\n",
    "ax.set(xticklabels=[f'{_}h' for _ in np.arange(2,24, 2)][::-1])\n",
    "ax.grid(ls=':');\n",
    "\n",
    "# fig.savefig('../../Figures/Y1/TF_Y1_SGA_Vrot_SNIa_calibrators.png', dpi=150);"
   ]
  },
  {
   "cell_type": "code",
   "execution_count": null,
   "id": "ea24478d-d27f-47af-a754-d76a04097d7a",
   "metadata": {},
   "outputs": [],
   "source": [
    "ax = init_sky()\n",
    "\n",
    "ax.scatter(ax.projection_ra(sne_coords.ra.value), \n",
    "           ax.projection_dec(sne_coords.dec.value), \n",
    "           marker='x', \n",
    "           s=100,\n",
    "           linewidth=3,\n",
    "           color='tab:blue')\n",
    "\n",
    "ax.xaxis.label.set_size(14)\n",
    "ax.yaxis.label.set_size(14)\n",
    "\n",
    "plt.tick_params(axis='both', which='major', labelsize=12)\n",
    "\n",
    "# plt.savefig('../../Figures/Y1/iron_0pt_sky.png', dpi=150, facecolor='none');"
   ]
  },
  {
   "cell_type": "markdown",
   "id": "e0270c7e-0d66-4d01-8396-5e0d858338c3",
   "metadata": {},
   "source": [
    "### Compute the Absolute Magnitude of the 0-pt Calibrators based on the Distance\n",
    "\n",
    "Compute the absolute magnitude\n",
    "$$\n",
    "M_r - 5\\log{h} = m_r - \\mu - 5\\log{h},\n",
    "$$\n",
    "where $h$ is the reduced Hubble constant used to calibrate the distance modulus $\\mu$.\n",
    "\n",
    "Since our calibrators are from Pantheon+SH0ES, where distances are based on the distance ladder, there is no assumed value of $h$."
   ]
  },
  {
   "cell_type": "code",
   "execution_count": null,
   "id": "5a9b9d5c-5b5c-4f85-b44d-c948fd7f768e",
   "metadata": {
    "tags": []
   },
   "outputs": [],
   "source": [
    "#- Clean up the distance modulus\n",
    "use_primary = zeroptab['MU_SECONDARY'] < 0\n",
    "mu = zeroptab['MU_SECONDARY']\n",
    "mu[use_primary] = zeroptab['MU_PRIMARY'][use_primary]\n",
    "# mu = zeroptab['MU_PRIMARY']\n",
    "\n",
    "#- Compute the absolute magnitude\n",
    "zeroptab['R_ABSMAG_SB26'] = zeroptab['R_MAG_SB26_CORR'] - mu\n",
    "zeroptab['R_ABSMAG_SB26_err'] = np.sqrt(zeroptab['R_MAG_SB26_ERR_CORR']**2 + zeroptab['MU_ERR']**2)"
   ]
  },
  {
   "cell_type": "code",
   "execution_count": null,
   "id": "cd3e5077-a498-4b8b-baa6-56f253680d3d",
   "metadata": {
    "tags": []
   },
   "outputs": [],
   "source": [
    "# Save this table\n",
    "zeroptab.write('SGA-2020_iron_Vrot_VI_0pt_calib_z0p1.fits', overwrite=True)"
   ]
  },
  {
   "cell_type": "markdown",
   "id": "ebaa2ced-1b9a-47fd-8191-f200324ee30c",
   "metadata": {},
   "source": [
    "# Access Cluster Catalog\n",
    "\n",
    "These clusters come from the group catalog used by Kourkchi et al. in [*CosmicFlows-4: The Calibration of Optical and Infrared Tully-Fisher Relations*](https://iopscience.iop.org/article/10.3847/1538-4357/ab901c), ApJ 896:3, 2020.\n",
    "\n",
    "Cluster membership is defined as\n",
    "1. $R_p < 1.5R_{2t}$ AND $v < V_c \\pm 3\\sigma_p$, OR\n",
    "1. $1.5R_{2t} \\leq R_p < 3R_{2t}$ AND $v < V_c \\pm 2\\sigma_p$\n",
    "\n",
    "where $R_p$ is the projected distance from the center of the cluster, $R_{2t}$ is the projected cluster second turnaround radius, $\\sigma_p$ is the projected velocity dispersion of the cluster, and $V_c$ is the average heliocentric radial velocity of the cluster."
   ]
  },
  {
   "cell_type": "code",
   "execution_count": null,
   "id": "379c1b97-8376-4553-85df-728a040c731b",
   "metadata": {
    "tags": []
   },
   "outputs": [],
   "source": [
    "clusters = Table.read(format='/global/homes/m/mjkeller/table2.dat')\n",
    "clusters[:5]"
   ]
  },
  {
   "cell_type": "markdown",
   "id": "1c0db012-6ca4-4aa1-8e1f-d5df339eea74",
   "metadata": {},
   "source": [
    "# Find Cluster Membership\n",
    "\n",
    "Identify SGA galaxies in the list of galaxy groups from Tully (2015).\n",
    "\n",
    "Loop through the data and keep only clusters where DESI has at least 20 galaxies with TF measurements passing all quality cuts."
   ]
  },
  {
   "cell_type": "code",
   "execution_count": null,
   "id": "2c9f9924-a5de-457e-8d4a-df1e69e05b00",
   "metadata": {
    "tags": []
   },
   "outputs": [],
   "source": [
    "#- Sky coordinates of SGA galaxies that passed quality selection\n",
    "sgatab_sel = sgatab[is_good_sga]\n",
    "\n",
    "sga_coords = SkyCoord(sgatab_sel['RA'], sgatab_sel['DEC'], unit='deg')\n",
    "z_sga_desi = sgatab_sel['Z_DESI']"
   ]
  },
  {
   "cell_type": "code",
   "execution_count": null,
   "id": "92da72b6-cb63-485d-bacc-be60879d3f55",
   "metadata": {
    "tags": []
   },
   "outputs": [],
   "source": [
    "sga_clusters = {}\n",
    "m_dwarf_clusters = {}\n",
    "n_cluster_min = 15\n",
    "\n",
    "# for cluster in tqdm(clusters[['Nest', 'SGLON', 'SGLAT', 'R2t', 'sigP', 'DM']]):\n",
    "for i in tqdm(range(len(clusters))):\n",
    "    nest_id = clusters['Nest'][i]\n",
    "    \n",
    "    #- Sky coordinates of cluster\n",
    "    cls_coord = SkyCoord(clusters['SGLON'][i], \n",
    "                         clusters['SGLAT'][i], \n",
    "                         unit='deg', \n",
    "                         frame='supergalactic')\n",
    "\n",
    "    #- Cluster turnaround radius, velocity dispersion, and distance modulus\n",
    "    R2t = clusters['R2t'][i]\n",
    "    sigP = clusters['sigP'][i]\n",
    "    mu = clusters['DM'][i]\n",
    "\n",
    "    #- Convert distance moduli to velocities [in km/s]\n",
    "    dist = 10 * 10**(0.2*mu)\n",
    "    velo = 100 * (dist*1e-6) # Tully used H0 = 100 km/s/Mpc, which is why we are using 100 here and not H0 \n",
    "\n",
    "    ## MJ - do we want to use H0 here instead for Ian's?\n",
    "\n",
    "    #- Apply cuts on angular separation\n",
    "    sep = cls_coord.separation(sga_coords)\n",
    "    R2t_angle_1p5 = np.arctan(1.5*R2t / (velo/H0)) * u.radian\n",
    "    R2t_angle_3 = np.arctan(3*R2t / (velo/H0)) * u.radian\n",
    "\n",
    "    #- Apply cluster cuts.\n",
    "    in_cluster_1 = (sep < R2t_angle_1p5) & (z_sga_desi*c_kms > velo - 3*sigP) & (z_sga_desi*c_kms < velo + 3*sigP)\n",
    "    in_cluster_2 = (sep >= R2t_angle_1p5) & (sep < R2t_angle_3) & (z_sga_desi*c_kms > velo - 2*sigP) & (z_sga_desi*c_kms < velo + 2*sigP)\n",
    "    in_cluster = in_cluster_1 | in_cluster_2\n",
    "\n",
    "    if np.any(in_cluster) and np.sum(in_cluster) >= n_cluster_min:\n",
    "        if nest_id in sga_clusters:\n",
    "            warnings.warn(f'Cluster ID {nest_id} already encountered.', RuntimeWarning)\n",
    "        sga_clusters[nest_id] = list(sgatab_sel['SGA_ID'][in_cluster])\n",
    "        m_dwarf_clusters[nest_id] = -17 + mu"
   ]
  },
  {
   "cell_type": "code",
   "execution_count": null,
   "id": "4fc231a4-6260-4ba9-9c9f-2368087a44f4",
   "metadata": {
    "tags": []
   },
   "outputs": [],
   "source": [
    "for i, (cluster_id, sga_ids) in enumerate(sga_clusters.items()):\n",
    "    print(f'{i+1:2d} {cluster_id:7d} {len(sga_ids):3d} galaxies')"
   ]
  },
  {
   "cell_type": "markdown",
   "id": "cf896039-9533-4638-9098-1c8afc527a71",
   "metadata": {},
   "source": [
    "## Sanity Checks: Plot Cluster Positions and Galaxy Coordinates"
   ]
  },
  {
   "cell_type": "code",
   "execution_count": null,
   "id": "5fff3c9d-8e07-4438-8996-ab116b7b02d6",
   "metadata": {
    "scrolled": true,
    "tags": []
   },
   "outputs": [],
   "source": [
    "nest_ids = np.asarray(list(sga_clusters.keys()))\n",
    "idx = np.in1d(clusters['Nest'], nest_ids)\n",
    "cluster_lon = clusters['SGLON'][idx]\n",
    "cluster_lat = clusters['SGLAT'][idx]\n",
    "cluster_coords = SkyCoord(cluster_lon, cluster_lat, unit='deg', frame='supergalactic')\n",
    "\n",
    "fig, ax = plt.subplots(figsize=(10,4), tight_layout=True, subplot_kw={'projection' : 'mollweide'})\n",
    "for coord in cluster_coords:\n",
    "    _ra = np.radians(180*u.deg - coord.transform_to('icrs').ra)\n",
    "    _dec = np.radians(coord.transform_to('icrs').dec)\n",
    "    ax.plot(_ra, _dec, 'kx', ms=10, mew=5)\n",
    "\n",
    "ax.set(xticklabels=[f'{_}h' for _ in np.arange(2,24, 2)][::-1])\n",
    "ax.grid(ls=':');\n",
    "\n",
    "# fig.savefig('../../Figures/Y1/TF_Y1_SGA_Vrot_clusters_20241203.png', dpi=150);"
   ]
  },
  {
   "cell_type": "code",
   "execution_count": null,
   "id": "1b90ca98-2f45-4da6-9579-4d7fbdaae82a",
   "metadata": {
    "tags": []
   },
   "outputs": [],
   "source": [
    "def geometric_median(X, eps=1e-6):\n",
    "    \"\"\"Compute the weighted geometric median of a set of points using Weiszfeld's algorithm.\n",
    "\n",
    "    From https://github.com/scoutant/l1-median. Weiszfeld's algorithm may fail to converge\n",
    "    if a guess is located on top of one of the initial points. If that occurs, move the guess.\n",
    "    \n",
    "    A summary of other algorithms is provided in\n",
    "    https://www.cs.cmu.edu/~./glmiller/Publications/Papers/CLMPS16.pdf.\n",
    "\n",
    "    Parameters\n",
    "    ----------\n",
    "    X : ndarray\n",
    "        list of sample points (n-D), given as a 2D array\n",
    "    eps : float\n",
    "        Tolerance for convergence to the median.\n",
    "\n",
    "    Returns\n",
    "    -------\n",
    "    y : ndarray\n",
    "        First n-D estimate of the median satisfying the tolerance.\n",
    "    \"\"\"\n",
    "    #- See with the geometric mean\n",
    "    y = np.mean(X,0)\n",
    "    while True:\n",
    "        #- Compute Euclidean distances. Move away to avoid any null distances.\n",
    "        while np.any(cdist(X,[y])==0):\n",
    "            y +=0.1*np.ones(len(y))\n",
    "            \n",
    "        #- Weights that are the inverse of the distances from current estimate to the observations\n",
    "        W = 1/cdist(X,[y]) # element-wise\n",
    "        \n",
    "        #- Update is the weighted average of the observations\n",
    "        y1 = np.sum(W*X,0)/np.sum(W) # sum along axis 0\n",
    "        if euclidean(y,y1) < eps:\n",
    "            return y1\n",
    "        y = y1\n",
    "\n",
    "def cluster_median_coords(galaxy_coords):\n",
    "    \"\"\"Compute the geometric median coordinate of the galaxies in a cluster.\n",
    "\n",
    "    Parameters\n",
    "    ----------\n",
    "    galaxy_coords : ndarray\n",
    "        List of SkyCoords for galaxies in a cluster or group.\n",
    "\n",
    "    Returns\n",
    "    -------\n",
    "    gal_median : SkyCoord\n",
    "        Coordinates of the geometric median.\n",
    "    \"\"\"\n",
    "    #- Pack the clusters coordinates into an array of Cartesian coordinates\n",
    "    galcoords = []\n",
    "    for galaxy in galaxy_coords:\n",
    "        galcoords.append(galaxy.represent_as('cartesian').get_xyz())\n",
    "    galcoords = np.asarray(galcoords)\n",
    "\n",
    "    #- Compute the geometric median.\n",
    "    gm = geometric_median(galcoords)\n",
    "    lonlat = SkyCoord(x=gm[0], y=gm[1], z=gm[2], representation_type='cartesian').transform_to('icrs').represent_as('unitspherical')\n",
    "    gal_median = SkyCoord(ra=lonlat.lon.deg, dec=lonlat.lat.deg, unit='degree', frame='icrs')\n",
    "\n",
    "    return gal_median"
   ]
  },
  {
   "cell_type": "code",
   "execution_count": null,
   "id": "5ba85433-b93f-4bd7-bf76-e38324930bbf",
   "metadata": {
    "tags": []
   },
   "outputs": [],
   "source": [
    "def plot_cluster_members(clusters, cluster_id, sgacat, sga_ids):\n",
    "    \"\"\"Generate a set of diagnostic plots for the members of a cluster.\n",
    "    \"\"\"\n",
    "    \n",
    "    #- Get cluster sky coordinates\n",
    "    idx = np.in1d(clusters['Nest'], cluster_id)\n",
    "    cluster_lon = clusters['SGLON'][idx][0]\n",
    "    cluster_lat = clusters['SGLAT'][idx][0]\n",
    "    cluster_mu = clusters['DM'][idx][0]\n",
    "    cluster_dist = 10 * 10**(0.2*cluster_mu) * 1e-6\n",
    "    cluster_v = H0*cluster_dist\n",
    "    cluster_sigma = clusters['sigP'][idx][0]\n",
    "    cluster_R2t = clusters['R2t'][idx][0]\n",
    "    cluster_R2t_1p5 = np.arctan(1.5*cluster_R2t / (cluster_v/H0)) * u.radian\n",
    "    cluster_R2t_3 = np.arctan(3*cluster_R2t / (cluster_v/H0)) * u.radian\n",
    "    cluster_R2t_4 = np.arctan(4*cluster_R2t / (cluster_v/H0)) * u.radian\n",
    "    \n",
    "    cluster_coord = SkyCoord(cluster_lon, cluster_lat, unit='deg', frame='supergalactic').transform_to('icrs')\n",
    "\n",
    "    print(cluster_coord)\n",
    "    print(f'{cluster_v} +/- {cluster_sigma} km/s')\n",
    "\n",
    "    #- Get SGA galaxy coordinates and median of observations\n",
    "    idx = np.in1d(sgacat['SGA_ID'], sga_ids)\n",
    "    z_sga = sgacat['Z_DESI'][idx]\n",
    "    z_sorted = np.sort(z_sga)\n",
    "    ngal = len(z_sorted)\n",
    "    z_sga_median = np.mean(z_sorted[ngal//2:ngal//2 + 2]) if (ngal % 2 == 0) else z_sorted[ngal//2]\n",
    "    \n",
    "    sga_coords = SkyCoord(ra=sgacat['RA'][idx], dec=sgacat['DEC'][idx], unit='deg', frame='icrs')\n",
    "    sga_coords_median = cluster_median_coords(sga_coords)\n",
    "\n",
    "    #- Plot the angular coordinates and redshifts\n",
    "    fig = plt.figure(figsize=(12,8), tight_layout=True)\n",
    "    ax = plt.subplot(231, projection='astro degrees zoom', center=cluster_coord, radius=cluster_R2t_4)\n",
    "    ax.grid()\n",
    "\n",
    "    ax.plot(sga_coords.ra.deg, sga_coords.dec.deg, 'o', transform=ax.get_transform('world'), alpha=0.5, label=f'{cluster_id}')\n",
    "    ax.plot(sga_coords_median.ra.deg, sga_coords_median.dec.deg, 'rD', transform=ax.get_transform('world'), ms=5, mew=5)\n",
    "    ax.plot(cluster_coord.ra.deg, cluster_coord.dec.deg, 'kx', transform=ax.get_transform('world'), ms=10, mew=5)\n",
    "\n",
    "    inner = SphericalCircle(cluster_coord, cluster_R2t_1p5, transform=ax.get_transform('world'), edgecolor='tab:blue', linestyle='dotted', facecolor='none')\n",
    "    ax.add_patch(inner)\n",
    "\n",
    "    outer = SphericalCircle(cluster_coord, cluster_R2t_3, transform=ax.get_transform('world'), edgecolor='tab:blue', linestyle='solid', facecolor='none')\n",
    "    ax.add_patch(outer)\n",
    "    \n",
    "    ax.set(xlabel=r'$\\alpha$ [deg]', ylabel=r'$\\delta$ [deg]')\n",
    "\n",
    "    #- Plot the Dec vs redshift and velocity limits\n",
    "    ax = plt.subplot(232)\n",
    "    ax.plot(z_sga, sga_coords.dec.deg, 'o', alpha=0.5, label=f'{cluster_id}')\n",
    "    ax.plot(z_sga_median, sga_coords_median.dec.deg, 'rD', ms=5, mew=5)\n",
    "    ax.plot(cluster_v/c_kms, cluster_coord.dec.deg, 'kx', ms=10, mew=5)\n",
    "\n",
    "    decmin = np.min(sga_coords.dec.deg) - 0.5\n",
    "    decmax = np.max(sga_coords.dec.deg) + 0.5\n",
    "\n",
    "    ax.vlines(np.asarray([cluster_v-3*cluster_sigma,\n",
    "                          cluster_v+3*cluster_sigma,\n",
    "                          cluster_v-2*cluster_sigma,\n",
    "                          cluster_v+2*cluster_sigma])/c_kms,\n",
    "              decmin, decmax,\n",
    "              colors='tab:blue',\n",
    "              linestyles=['solid', 'solid', 'dotted', 'dotted'])\n",
    "\n",
    "    ax.set(xlabel='redshift',\n",
    "           ylabel=r'$\\delta$ [deg]',\n",
    "           ylim=(decmin, decmax))\n",
    "\n",
    "    #- Plot the RA vs redshift and velocity limits\n",
    "    ax = plt.subplot(233)\n",
    "    ax.plot(sga_coords.ra.deg, z_sga, 'o', alpha=0.5, label=f'{cluster_id}')\n",
    "    ax.plot(sga_coords_median.ra.deg, z_sga_median, 'rD', ms=5, mew=5)\n",
    "    ax.plot(cluster_coord.ra.deg, cluster_v/c_kms, 'kx', ms=10, mew=5)\n",
    "\n",
    "    ramin = np.min(sga_coords.ra.deg) - 0.5\n",
    "    ramax = np.max(sga_coords.ra.deg) + 0.5\n",
    "\n",
    "    ax.hlines(np.asarray([cluster_v-3*cluster_sigma,\n",
    "                          cluster_v+3*cluster_sigma,\n",
    "                          cluster_v-2*cluster_sigma,\n",
    "                          cluster_v+2*cluster_sigma])/c_kms,\n",
    "              ramin, ramax,\n",
    "              colors='tab:blue',\n",
    "              linestyles=['solid', 'solid', 'dotted', 'dotted'])\n",
    "\n",
    "    ax.set(ylabel='redshift',\n",
    "           xlabel=r'$\\alpha$ [deg]',\n",
    "           xlim=(ramax, ramin))\n",
    "\n",
    "    #- Histograms of RA, Dec, and redshift:\n",
    "    delta_angle = 0.75\n",
    "    \n",
    "    ax = plt.subplot(234)\n",
    "    ax.hist(sga_coords.ra.deg, bins=np.arange(ramin, ramax+delta_angle, delta_angle))\n",
    "    ax.vlines(sga_coords_median.ra.deg, 0, 50, colors='r', linestyles='dotted')\n",
    "    ax.vlines(cluster_coord.ra.deg, 0, 50, colors='k', linestyles='dotted')\n",
    "    ax.set(xlabel=r'$\\alpha$ [deg]',\n",
    "           xlim=(ramax+delta_angle, ramin-delta_angle),\n",
    "           ylabel='count',\n",
    "           ylim=(0,10))\n",
    "\n",
    "    ax = plt.subplot(235)\n",
    "    ax.hist(sga_coords.dec.deg, bins=np.arange(decmin, decmax+delta_angle, delta_angle))\n",
    "    ax.vlines(sga_coords_median.dec.deg, 0, 50, colors='r', linestyles='dotted')\n",
    "    ax.vlines(cluster_coord.dec.deg, 0, 50, colors='k', linestyles='dotted')\n",
    "    ax.set(xlabel=r'$\\delta$ [deg]',\n",
    "           xlim=(decmax+delta_angle, decmin-delta_angle),\n",
    "           ylabel='count',\n",
    "           ylim=(0,10))\n",
    "\n",
    "    dz = 0.0025\n",
    "    zmin = np.min(np.round(z_sga, 2)) - 4*dz\n",
    "    zmax = np.max(np.round(z_sga, 2)) + 4*dz\n",
    "\n",
    "    ax = plt.subplot(236)\n",
    "    ax.hist(z_sga, bins=np.arange(zmin, zmax + dz, dz))\n",
    "    ax.vlines(z_sga_median, 0, 50, colors='r', linestyles='dotted')\n",
    "    ax.vlines(cluster_v/c_kms, 0, 50, colors='k', linestyles='dotted')\n",
    "    ax.set(xlabel='redshift',\n",
    "           xlim=(zmin, zmax),\n",
    "           ylabel='count',\n",
    "           ylim=(0,10))\n",
    "\n",
    "    fig.suptitle(f'TF Iron Observations of Tully Group {cluster_id}')\n",
    "\n",
    "    return fig"
   ]
  },
  {
   "cell_type": "code",
   "execution_count": null,
   "id": "f09d7f6e-32af-4454-9c7f-13a3852527b9",
   "metadata": {
    "scrolled": true,
    "tags": []
   },
   "outputs": [],
   "source": [
    "for cluster_id in sga_clusters.keys():\n",
    "    fig = plot_cluster_members(clusters, cluster_id, sgatab_sel, sga_clusters[cluster_id])"
   ]
  },
  {
   "cell_type": "markdown",
   "id": "0b025e8e-4c43-494a-9bbf-cebbacf6210e",
   "metadata": {},
   "source": [
    "# Apply Cluster Selection\n",
    "\n",
    "Plot the clusters as a function of $\\Delta\\theta/\\angle(R_{2t})$ versus $\\Delta v/\\sigma_P$. The quantities are:\n",
    "* $\\Delta\\theta$: the angular separation between the median position of the DESI observations and the cluster center reported in Tully 2015.\n",
    "* $\\angle(R_{2t})$: the angular projection of the cluster second turnaround radius.\n",
    "* $\\Delta v = v_\\text{cluster} - v_\\text{SGA,median}$.\n",
    "* $\\sigma_P$: the velocity dispersion of the cluster, reported in Tully 2015.\n",
    "\n",
    "A reasonable selection appears to be\n",
    "\n",
    "1. $\\Delta v/ \\sigma_P < 1$\n",
    "2. $\\Delta\\theta / R_{2t} < 1$"
   ]
  },
  {
   "cell_type": "code",
   "execution_count": null,
   "id": "f60587f6-aa1b-4331-9191-7d1e0d7ad3eb",
   "metadata": {
    "tags": []
   },
   "outputs": [],
   "source": [
    "keep_cluster = []\n",
    "dv_sigmaP = []\n",
    "dtheta_R2t = []\n",
    "cluster_ids = []\n",
    "\n",
    "for cluster_id, sga_ids in sga_clusters.items():\n",
    "    #- Get cluster sky coordinates\n",
    "    idx = np.in1d(clusters['Nest'], cluster_id)\n",
    "    cluster_lon = clusters['SGLON'][idx][0]\n",
    "    cluster_lat = clusters['SGLAT'][idx][0]\n",
    "    cluster_mu = clusters['DM'][idx][0]\n",
    "    cluster_dist = 10 * 10**(0.2*cluster_mu) * 1e-6\n",
    "    cluster_v = H0*cluster_dist\n",
    "    cluster_sigma = clusters['sigP'][idx][0]\n",
    "    cluster_R2t = clusters['R2t'][idx][0]\n",
    "    cluster_R2t_angle = np.arctan(cluster_R2t / (cluster_v/H0)) * u.radian\n",
    "    cluster_R2t_1p5 = np.arctan(1.5*cluster_R2t / (cluster_v/H0)) * u.radian\n",
    "    cluster_R2t_3 = np.arctan(3*cluster_R2t / (cluster_v/H0)) * u.radian\n",
    "    cluster_R2t_4 = np.arctan(4*cluster_R2t / (cluster_v/H0)) * u.radian\n",
    "    \n",
    "    cluster_coord = SkyCoord(cluster_lon, cluster_lat, unit='deg', frame='supergalactic').transform_to('icrs')\n",
    "    \n",
    "    #- Get SGA galaxy coordinates and median of observations\n",
    "    idx = np.in1d(sgatab['SGA_ID'], sga_ids)\n",
    "    z_sga = sgatab['Z_DESI'][idx]\n",
    "    z_sorted = np.sort(z_sga)\n",
    "    ngal = len(z_sorted)\n",
    "    z_sga_median = np.mean(z_sorted[ngal//2:ngal//2 + 2]) if (ngal % 2 == 0) else z_sorted[ngal//2]\n",
    "    \n",
    "    sga_coords = SkyCoord(ra=sgatab['RA'][idx], dec=sgatab['DEC'][idx], unit='deg', frame='icrs')\n",
    "    sga_coords_median = cluster_median_coords(sga_coords)\n",
    "\n",
    "    #- Compute the angle and velocity ratios:\n",
    "    delta_v = cluster_v - c_kms*z_sga_median\n",
    "    _dv_sigP = delta_v / cluster_sigma\n",
    "    dv_sigmaP.append(_dv_sigP)\n",
    "\n",
    "    delta_theta = sga_coords_median.separation(cluster_coord).to('rad')\n",
    "    _dth_R2t = delta_theta / cluster_R2t_angle\n",
    "    dtheta_R2t.append(_dth_R2t)\n",
    "\n",
    "    cluster_ids.append(cluster_id)\n",
    "\n",
    "    #- Print results:\n",
    "    print(f'{cluster_id:<8d}{np.abs(delta_v):12.3f} km/s{cluster_sigma:12.3f} km/s{np.abs(delta_v)/cluster_sigma:12.3f}' \\\n",
    "          f'{delta_theta.to(\"deg\"):12.3f}{cluster_R2t_angle.to(\"deg\"):12.3f}{delta_theta / (1.5*cluster_R2t_angle):12.3f}')\n",
    "\n",
    "dv_sigmaP = np.asarray(dv_sigmaP)\n",
    "dtheta_R2t = np.asarray(dtheta_R2t)\n",
    "cluster_ids = np.asarray(cluster_ids)\n",
    "\n",
    "#- Apply selection\n",
    "dvcut = 1\n",
    "dthcut = 1\n",
    "select = (np.abs(dv_sigmaP) < dvcut) & (dtheta_R2t < dthcut)\n",
    "\n",
    "#- Plot results\n",
    "\n",
    "fig, axes = plt.subplots(1, 2, figsize=(10,4), sharey=True, tight_layout=True)\n",
    "ax = axes[0]\n",
    "ax.scatter(dv_sigmaP[select], dtheta_R2t[select], color='g')\n",
    "for _dv, _dth, _id in zip(dv_sigmaP[select], dtheta_R2t[select], cluster_ids[select]):\n",
    "    ax.annotate(f'{_id}', (_dv, _dth+0.02), fontsize=8, rotation=50, color='green')\n",
    "\n",
    "ax.scatter(dv_sigmaP[~select], dtheta_R2t[~select], color='r')\n",
    "for _dv, _dth, _id in zip(dv_sigmaP[~select], dtheta_R2t[~select], cluster_ids[~select]):\n",
    "    ax.annotate(f'{_id}', (_dv, _dth+0.02), fontsize=8, rotation=50, color='red')\n",
    "\n",
    "ax.axvline(dvcut, ls=':', color='k', alpha=0.5)\n",
    "ax.axvline(-dvcut, ls=':', color='k', alpha=0.5)\n",
    "ax.axhline(dthcut, ls=':', color='k', alpha=0.5)\n",
    "ax.set(xlabel=r'$\\Delta v/\\sigma_P$',\n",
    "       xlim=(-1.5, 1.5),\n",
    "       ylabel=r'$\\Delta\\theta/R_{2t}$',\n",
    "       ylim=(0,2))\n",
    "\n",
    "ax = axes[1]\n",
    "ax.scatter(np.abs(dv_sigmaP[select]), dtheta_R2t[select], color='g')\n",
    "for _dv, _dth, _id in zip(np.abs(dv_sigmaP[select]), dtheta_R2t[select], cluster_ids[select]):\n",
    "    ax.annotate(f'{_id}', (_dv, _dth+0.02), fontsize=8, rotation=50, color='green')\n",
    "\n",
    "ax.scatter(np.abs(dv_sigmaP[~select]), dtheta_R2t[~select], color='r')\n",
    "for _dv, _dth, _id in zip(np.abs(dv_sigmaP[~select]), dtheta_R2t[~select], cluster_ids[~select]):\n",
    "    ax.annotate(f'{_id}', (_dv, _dth+0.02), fontsize=8, rotation=50, color='red')\n",
    "\n",
    "ax.axvline(dvcut, ls=':', color='k')\n",
    "ax.axvline(-dvcut, ls=':', color='k')\n",
    "ax.axhline(dthcut, ls=':', color='k')\n",
    "ax.set(xlabel=r'$|\\Delta v|/\\sigma_P$',\n",
    "       xlim=(0, 1.5));\n",
    "\n",
    "# fig.savefig('../../Figures/Y1/TF_Y1_SGA_Vrot_clusters_selection_binaryMLupdated_20241023.png', dpi=150);"
   ]
  },
  {
   "cell_type": "code",
   "execution_count": null,
   "id": "94297daa-228f-4d92-9f30-088a8ca814cf",
   "metadata": {},
   "outputs": [],
   "source": [
    "nest_ids = np.asarray(list(sga_clusters.keys()))\n",
    "good_idx = np.in1d(clusters['Nest'], nest_ids[select])\n",
    "bad_idx = np.in1d(clusters['Nest'], nest_ids[~select])\n",
    "good_cluster_coords = SkyCoord(clusters['SGLON'][good_idx], clusters['SGLAT'][good_idx], unit='deg', frame='supergalactic')\n",
    "bad_cluster_coords = SkyCoord(clusters['SGLON'][bad_idx], clusters['SGLAT'][bad_idx], unit='deg', frame='supergalactic')\n",
    "\n",
    "ax = init_sky()\n",
    "\n",
    "ax.scatter(ax.projection_ra(bad_cluster_coords.transform_to('icrs').ra.value), \n",
    "           ax.projection_dec(bad_cluster_coords.transform_to('icrs').dec.value), \n",
    "           marker='x', \n",
    "           s=100,\n",
    "           linewidth=2,\n",
    "           color='gray', \n",
    "           label='rejected clusters')\n",
    "ax.scatter(ax.projection_ra(good_cluster_coords.transform_to('icrs').ra.value), \n",
    "           ax.projection_dec(good_cluster_coords.transform_to('icrs').dec.value), \n",
    "           marker='x', \n",
    "           s=100,\n",
    "           linewidth=5,\n",
    "           color='black', \n",
    "           label='DESI DR1')\n",
    "\n",
    "ax.xaxis.label.set_size(14)\n",
    "ax.yaxis.label.set_size(14)\n",
    "\n",
    "plt.legend(loc='lower right')\n",
    "\n",
    "plt.tick_params(axis='both', which='major', labelsize=12);\n",
    "\n",
    "# plt.savefig('../../Figures/Y1/iron_clusters_sky.png', dpi=150, facecolor='none');"
   ]
  },
  {
   "cell_type": "code",
   "execution_count": null,
   "id": "0e886214-ab18-4951-a492-cc3775df444f",
   "metadata": {
    "tags": []
   },
   "outputs": [],
   "source": [
    "for i, (cluster_id, sga_ids) in enumerate(sga_clusters.items()):\n",
    "    print(f'{i+1:2d} {cluster_id:7d} {len(sga_ids):3d} galaxies  {\"Y\" if select[i] else \"N\"}')"
   ]
  },
  {
   "cell_type": "markdown",
   "id": "90ed66b4-5676-482b-a381-adaa9ce45d29",
   "metadata": {},
   "source": [
    "## Plot Galaxy Clusters that Failed the Selection"
   ]
  },
  {
   "cell_type": "code",
   "execution_count": null,
   "id": "c33470c8-900d-403a-b0fb-015fcda59ce3",
   "metadata": {
    "tags": []
   },
   "outputs": [],
   "source": [
    "for cluster_id in sga_clusters.keys():\n",
    "    if cluster_id in cluster_ids[~select]:\n",
    "        fig = plot_cluster_members(clusters, cluster_id, sgatab_sel, sga_clusters[cluster_id])\n",
    "        # fig.savefig(f'../../Figures/Y1/TF_Y1_cluster_{cluster_id}_reject.png', dpi=150);"
   ]
  },
  {
   "cell_type": "markdown",
   "id": "12cafcc0-a378-4901-a548-2b61f991cfcb",
   "metadata": {},
   "source": [
    "## Plot Galaxy Clusters that Passed the Selection"
   ]
  },
  {
   "cell_type": "code",
   "execution_count": null,
   "id": "aeceab1b-be7a-4802-933a-340d4a44f1d9",
   "metadata": {
    "tags": []
   },
   "outputs": [],
   "source": [
    "for cluster_id in sga_clusters.keys():\n",
    "    if cluster_id in cluster_ids[select]:\n",
    "        fig = plot_cluster_members(clusters, cluster_id, sgatab_sel, sga_clusters[cluster_id])\n",
    "        # fig.savefig(f'../../Figures/Y1/TF_Y1_cluster_{cluster_id}_accept.png', dpi=150);"
   ]
  },
  {
   "cell_type": "markdown",
   "id": "e5117ce8-513d-40f5-8738-5ae155a07872",
   "metadata": {},
   "source": [
    "# Build the Calibration Table of SGA Galaxies in Clusters"
   ]
  },
  {
   "cell_type": "code",
   "execution_count": null,
   "id": "5354fd1f-434a-4f96-922d-30f7a4e3943e",
   "metadata": {
    "tags": []
   },
   "outputs": [],
   "source": [
    "caltab = None    # Table of selected clusters and SGA galaxies\n",
    "rejtab = None    # Table of clusters failing the selection\n",
    "\n",
    "for cluster_id, sga_ids in sga_clusters.items():\n",
    "    if cluster_id in cluster_ids[select]:\n",
    "        idx = np.in1d(sgatab['SGA_ID'], sga_ids)\n",
    "        clustertab = sgatab[idx]\n",
    "        clustertab['CLUSTER_ID'] = cluster_id\n",
    "        \n",
    "        caltab = clustertab if caltab is None else vstack([caltab, clustertab])\n",
    "    else:\n",
    "        idx = np.in1d(sgatab['SGA_ID'], sga_ids)\n",
    "        clustertab = sgatab[idx]\n",
    "        clustertab['CLUSTER_ID'] = cluster_id\n",
    "        \n",
    "        rejtab = clustertab if rejtab is None else vstack([rejtab, clustertab])\n",
    "\n",
    "caltab.write('SGA-2020_iron_Vrot_cluster_calib_z0p1.fits', overwrite=True)\n",
    "caltab[['CLUSTER_ID', 'SGA_ID', 'R_MAG_SB26_CORR', 'R_MAG_SB26_ERR_CORR', 'V_0p4R26', 'V_0p4R26_err']]"
   ]
  },
  {
   "cell_type": "code",
   "execution_count": null,
   "id": "f31e8e4c-7fba-47ba-a23f-2d3bd9d2848a",
   "metadata": {},
   "outputs": [],
   "source": [
    "# Save SGA IDs for each cluster that is part of the calibration (for Alex's Bayesian calibration)\n",
    "for cluster in np.unique(caltab['CLUSTER_ID']):\n",
    "    output_filename = 'output_' + str(cluster) + '.txt'\n",
    "    # SGA_IDs_in_cluster = Table()\n",
    "    # SGA_IDs_in_cluster['SGA_ID'] = c_4r_in_cluster[i]\n",
    "    caltab[['SGA_ID']][caltab['CLUSTER_ID'] == cluster].write(output_filename, \n",
    "                                                              format='ascii.commented_header', \n",
    "                                                              overwrite=True)"
   ]
  },
  {
   "cell_type": "code",
   "execution_count": null,
   "id": "ff63823c-25fd-4365-8a6f-ee8a329021db",
   "metadata": {
    "tags": []
   },
   "outputs": [],
   "source": [
    "rejtab"
   ]
  },
  {
   "cell_type": "code",
   "execution_count": null,
   "id": "934f3777-24d6-4f28-a0e6-5500265440a1",
   "metadata": {
    "tags": []
   },
   "outputs": [],
   "source": [
    "fig, axes = plt.subplots(1, 2, figsize=(8,6), sharex=True, tight_layout=True)\n",
    "\n",
    "logV0 = 0\n",
    "\n",
    "ax = axes[0] \n",
    "\n",
    "#- Plot galaxies with failed cluster selections.\n",
    "_cluster_ids = np.unique(rejtab['CLUSTER_ID'])\n",
    "markers = 'sDv^<>'\n",
    "for j, _cluster_id in enumerate(_cluster_ids):\n",
    "    select_cluster = np.in1d(rejtab['CLUSTER_ID'], _cluster_id)\n",
    "\n",
    "    #- Store independent variable for each cluster\n",
    "    logv = np.log10(rejtab['V_0p4R26'][select_cluster].data) - logV0\n",
    "    logv_err = 0.434*rejtab['V_0p4R26_err'][select_cluster].data / rejtab['V_0p4R26'][select_cluster].data\n",
    "\n",
    "    #- Store dependent variable for each cluster\n",
    "    mr26 = rejtab['R_MAG_SB26_CORR'][select_cluster].data\n",
    "    mr26_err = rejtab['R_MAG_SB26_ERR_CORR'][select_cluster].data\n",
    "    \n",
    "    ax.errorbar(x=logv, y=mr26, xerr=logv_err, yerr=mr26_err, \n",
    "                fmt=markers[j % 6], markersize=6, color='gray', alpha=0.3, label=f'{_cluster_id} (rej.)')\n",
    "\n",
    "#- Plot galaxies and clusters passing all selections.\n",
    "_cluster_ids = np.unique(caltab['CLUSTER_ID'])\n",
    "\n",
    "for _cluster_id in _cluster_ids:\n",
    "    select_cluster = np.in1d(caltab['CLUSTER_ID'], _cluster_id)\n",
    "\n",
    "    #- Store independent variable for each cluster\n",
    "    logv = np.log10(caltab['V_0p4R26'][select_cluster].data) - logV0\n",
    "    logv_err = 0.434*caltab['V_0p4R26_err'][select_cluster].data / caltab['V_0p4R26'][select_cluster].data\n",
    "\n",
    "    #- Store dependent variable for each cluster\n",
    "    mr26 = caltab['R_MAG_SB26_CORR'][select_cluster].data\n",
    "    mr26_err = caltab['R_MAG_SB26_ERR_CORR'][select_cluster].data\n",
    "    \n",
    "    ax.errorbar(x=logv, y=mr26, xerr=logv_err, yerr=mr26_err, fmt='.', label=f'{_cluster_id}')\n",
    "\n",
    "ax.set(xlim=[1.25, 2.75],\n",
    "       xlabel=r'$\\log{(V_{rot}~[\\mathrm{km/s}]}$)',\n",
    "       ylim=[18, 14],\n",
    "       ylabel=r'$m_r^{0.1} (26)$')\n",
    "ax.legend(loc='upper left', fontsize=9)\n",
    "\n",
    "#- Plot the 0-pt calibrators\n",
    "ax = axes[1]\n",
    "\n",
    "logv = np.log10(zeroptab['V_0p4R26'].data) - logV0\n",
    "logv_err = 0.434*zeroptab['V_0p4R26_err'].data / zeroptab['V_0p4R26'].data\n",
    "mr26 = zeroptab['R_ABSMAG_SB26'].data\n",
    "mr26_err = zeroptab['R_ABSMAG_SB26_err'].data\n",
    "\n",
    "ax.errorbar(x=logv, y=mr26, xerr=logv_err, yerr=mr26_err, fmt='.', label='0-pt')\n",
    "ax.set(xlim=[1.25, 2.75],\n",
    "       xlabel=r'$\\log{(V_{rot}~[\\mathrm{km/s}]}$)',\n",
    "       ylim=[-17.75, -23.75],\n",
    "       ylabel=r'$M_r^{0.1}(26) = m_r^{0.1}(26) - \\mu$')\n",
    "ax.legend(loc='upper left', fontsize=9);\n",
    "\n",
    "# fig.savefig('../../Figures/Y1/TF_Y1_cluster_calibration_0pt_binaryMLupdated_20241203.png', dpi=150);"
   ]
  },
  {
   "cell_type": "markdown",
   "id": "4b2b0539-24fe-4464-b4ac-e876002a4fe8",
   "metadata": {},
   "source": [
    "# Apply the Joint TFR Fit"
   ]
  },
  {
   "cell_type": "code",
   "execution_count": null,
   "id": "31aec457-275d-45e6-a843-3bbeed66faca",
   "metadata": {
    "tags": []
   },
   "outputs": [],
   "source": [
    "#- Extract successful clusters\n",
    "_cluster_ids = np.unique(caltab['CLUSTER_ID'])\n",
    "m = len(_cluster_ids)\n",
    "\n",
    "#- Pack the results into arrays data and cov.\n",
    "logV, logV_err = [], []\n",
    "mag, mag_err = [], []\n",
    "\n",
    "# logV0 = 2.25\n",
    "logV0 = np.median(np.concatenate([np.log10(caltab['V_0p4R26']), \n",
    "                                  np.log10(zeroptab['V_0p4R26'])]))\n",
    "print('logV0 =', logV0)\n",
    "\n",
    "# Start with the zero-point calibrators\n",
    "logV.append(np.log10(zeroptab['V_0p4R26']) - logV0)\n",
    "logV_err.append(0.434*zeroptab['V_0p4R26_err'] / zeroptab['V_0p4R26'])\n",
    "mag.append(zeroptab['R_ABSMAG_SB26'])\n",
    "mag_err.append(zeroptab['R_ABSMAG_SB26_err'])\n",
    "\n",
    "#- Loop over the SGA clusters\n",
    "for k, _cluster_id in enumerate(_cluster_ids):\n",
    "    select_cluster = np.in1d(caltab['CLUSTER_ID'], _cluster_id)\n",
    "    logV.append(np.log10(caltab['V_0p4R26'][select_cluster]) - logV0)\n",
    "    logV_err.append(0.434*caltab['V_0p4R26_err'][select_cluster] / caltab['V_0p4R26'][select_cluster])\n",
    "    mag.append(caltab['R_MAG_SB26_CORR'][select_cluster])\n",
    "    mag_err.append(caltab['R_MAG_SB26_ERR_CORR'][select_cluster])"
   ]
  },
  {
   "cell_type": "markdown",
   "id": "d4b67574-9e21-497f-8505-83d071d41d42",
   "metadata": {},
   "source": [
    "## Multiline Fit using HyperFit"
   ]
  },
  {
   "cell_type": "code",
   "execution_count": null,
   "id": "e04b69f3-7651-4f70-b346-f86a87d7c418",
   "metadata": {
    "tags": []
   },
   "outputs": [],
   "source": [
    "bounds = [[-20, 0]]                    # Bounds on a (slope)\n",
    "bounds += [(-40,0)] + m*[(-20, 20)]    # Bounds on b (intercepts: 0-pt + clusters)\n",
    "bounds += [(0,5)]                      # Bounds on sigma\n",
    "\n",
    "results = hyperfit_line_multi(logV, mag, logV_err, mag_err, bounds, scatter=1)\n",
    "\n",
    "a, b, sig_tfr, cov_tfr, tfr_mcmc_samples, hf_tfr = results"
   ]
  },
  {
   "cell_type": "code",
   "execution_count": null,
   "id": "11e2f649-cbeb-4ec9-b334-1e4c7a0dd5a3",
   "metadata": {
    "tags": []
   },
   "outputs": [],
   "source": [
    "temp_outfile = open('cov_ab_iron_jointTFR_varyV0-perpdwarfs0_z0p1_binaryMLupdated_KAD-20241220.pickle', 'wb')\n",
    "pickle.dump((cov_tfr, tfr_mcmc_samples, logV0), temp_outfile)\n",
    "temp_outfile.close()"
   ]
  },
  {
   "cell_type": "code",
   "execution_count": null,
   "id": "87a1378c-cf29-48ad-8df5-1d42a512802d",
   "metadata": {
    "tags": []
   },
   "outputs": [],
   "source": [
    "labels  = ['$a$']\n",
    "labels += ['$b_{0\\mathrm{pt}}$'] + [f'$b_{{ {k+1} }}$' for k in np.arange(m)]\n",
    "labels += [r'$\\sigma$'] #+ [rf'$\\sigma_{k}$' for k in np.arange(m)]\n",
    "\n",
    "fig = corner(tfr_mcmc_samples.T, bins=25, smooth=1,\n",
    "#              range=[[1.9, 2.4], [0.75, 1.1], [0.1, 0.3]],   # Range for a, b, sigma. Adjust as needed.\n",
    "             labels=labels,\n",
    "             label_kwargs={'fontsize':18},\n",
    "             labelpad=0.1,\n",
    "             levels=(1-np.exp(-0.5), 1-np.exp(-2)),\n",
    "             quantiles=[0.16, 0.5, 0.84],\n",
    "             color='tab:blue',\n",
    "             hist_kwargs={'histtype':'stepfilled', 'alpha':0.3},\n",
    "             plot_datapoints=False,\n",
    "             fill_contours=True,\n",
    "             show_titles=True,\n",
    "             title_kwargs={\"fontsize\": 18, 'loc':'left', 'pad':10});\n",
    "\n",
    "for ax in fig.get_axes():\n",
    "    ax.tick_params(axis='both', which='major', labelsize=16)\n",
    "\n",
    "# fig.savefig('../../Figures/Y1/TF_Y1_cluster_calibration_binaryMLupdated_z0p1_corner0_20241220.png', dpi=150,facecolor='none');"
   ]
  },
  {
   "cell_type": "markdown",
   "id": "ecb773c6-3c34-4654-bb99-881d00e1de5c",
   "metadata": {},
   "source": [
    "### Plot the HyperFit Results"
   ]
  },
  {
   "cell_type": "code",
   "execution_count": null,
   "id": "78480332-5630-43c7-a3ad-2993df8a8804",
   "metadata": {
    "tags": []
   },
   "outputs": [],
   "source": [
    "sigma_mcmc = np.percentile(tfr_mcmc_samples[-1], [16., 50., 84.])\n",
    "a_mcmc = np.percentile(tfr_mcmc_samples[0], [16., 50., 84])\n",
    "b_mcmc = []\n",
    "for k in range(1, m+2):\n",
    "    b_mcmc.append(np.percentile(tfr_mcmc_samples[k], [16., 50., 84.]))\n",
    "b_mcmc = np.asarray(b_mcmc)"
   ]
  },
  {
   "cell_type": "code",
   "execution_count": null,
   "id": "0531baf5-ed87-4607-bc00-4a4a714da587",
   "metadata": {
    "tags": []
   },
   "outputs": [],
   "source": [
    "fig, axes = plt.subplots(2,2, figsize=(10,7), sharex=True,\n",
    "                         gridspec_kw={'height_ratios':[4,1], 'hspace':0.04, 'wspace':0.25})\n",
    "\n",
    "a_   = a_mcmc[1]\n",
    "b0pt = b_mcmc[0,1]\n",
    "b_   = b_mcmc[:,1][1:]\n",
    "\n",
    "#- Plot clusters\n",
    "ax = axes[0,0]\n",
    "\n",
    "_logv = np.arange(0, 3, 0.1) - logV0\n",
    "for k in range(m):\n",
    "    eb = ax.errorbar(x=logV[k+1] + logV0, y=mag[k+1], xerr=logV_err[k+1], yerr=mag_err[k+1],\n",
    "                     fmt='.', label=f'{_cluster_ids[k]}')\n",
    "\n",
    "    ax.plot(_logv + logV0, a_*_logv + b_[k], color=eb[0].get_color(), ls='--', alpha=0.5)#, label='fit')\n",
    "\n",
    "ax.set(xlim=[1.25, 2.6],\n",
    "       ylim=[18, 14]\n",
    "      )\n",
    "ax.set_ylabel(r'$m_r^{0.1} (26)$', fontsize=14)\n",
    "ax.legend(loc='upper left', fontsize=9, ncol=2);\n",
    "\n",
    "#- Plot calibrators\n",
    "ax = axes[0,1]\n",
    "eb = ax.errorbar(x=logV[0] + logV0, y=mag[0], xerr=logV_err[0], yerr=mag_err[0],\n",
    "                 fmt='.', label=f'0-pt')\n",
    "\n",
    "ax.plot(_logv + logV0, a_*_logv + b0pt, color=eb[0].get_color(), ls='--')#, label='fit')\n",
    "ax.set(xlim=[1.25, 2.6],\n",
    "       ylim=[-18, -24]\n",
    "      )\n",
    "ax.set_ylabel(r'$M_r^{0.1}(26) = m_r^{0.1}(26) - \\mu$', fontsize=14)\n",
    "ax.legend(loc='upper left', fontsize=9, ncol=2)\n",
    "\n",
    "#- Plot residuals: clusters\n",
    "ax = axes[1,0]\n",
    "\n",
    "for k in range(m):\n",
    "    logv_obs = logV[k+1]\n",
    "    m_obs = mag[k+1]\n",
    "    m_exp = (a_*logv_obs + b_[k])\n",
    "    eb = ax.errorbar(x=logv_obs + logV0, y=(m_exp-m_obs)/m_exp, xerr=logV_err[k+1], yerr=mag_err[k+1],\n",
    "                     fmt='.', label=f'{_cluster_ids[k]}')\n",
    "\n",
    "ax.axhline(0, ls=':', color='k', alpha=0.3)\n",
    "\n",
    "ax.set(xlim=[1.25, 2.6],\n",
    "       ylim=[-0.4, 0.4])\n",
    "ax.set_xlabel(r'$\\log{(V(0.4R_{26})~[\\mathrm{km/s}]}$)', fontsize=14)\n",
    "ax.set_ylabel(r'$\\Delta m_r/m_r$', fontsize=14)\n",
    "\n",
    "#- Plot residuals: calibrators\n",
    "ax = axes[1,1]\n",
    "\n",
    "logv_obs = logV[0]\n",
    "m_obs = mag[0]\n",
    "m_exp = (a_*logv_obs + b0pt)\n",
    "\n",
    "b = ax.errorbar(x=logv_obs + logV0, y=(m_exp-m_obs)/m_exp, xerr=logV_err[0], yerr=mag_err[0],\n",
    "                     fmt='.', label=f'0-pt')\n",
    "ax.axhline(0, ls=':', color='k', alpha=0.3)\n",
    "\n",
    "ax.set(xlim=[1.25, 2.6],\n",
    "       ylim=[-0.4, 0.4])\n",
    "ax.set_xlabel(r'$\\log{(V(0.4R_{26})~[\\mathrm{km/s}]}$)', fontsize=14)\n",
    "ax.set_ylabel(r'$\\Delta M_r/M_r$', fontsize=14)\n",
    "\n",
    "fig.subplots_adjust(left=0.1, bottom=0.1, top=0.9, right=0.9);\n",
    "# fig.savefig('../../Figures/Y1/TF_Y1_cluster_calibration_0pt_binaryMLupdated_z0p1_fit0_20241220.png', dpi=150, facecolor='none')"
   ]
  },
  {
   "cell_type": "code",
   "execution_count": null,
   "id": "4171ec6d-0767-4ea1-a0aa-39762ddd13c8",
   "metadata": {
    "tags": []
   },
   "outputs": [],
   "source": [
    "fig, axs = plt.subplots(nrows=3, ncols=3, sharex=True, sharey=True, figsize=(9,9), tight_layout=True)\n",
    "\n",
    "color = iter(plt.get_cmap('tab10').colors)\n",
    "for i in range(m):\n",
    "    c = next(color)\n",
    "    \n",
    "    row = int(i/3)\n",
    "    col = i%3\n",
    "    \n",
    "    eb = axs[row,col].errorbar(logV[i+1] + logV0, mag[i+1], xerr=logV_err[i+1], yerr=mag_err[i+1], fmt='.', color=c)\n",
    "    axs[row,col].plot(_logv + logV0, a_*_logv + b_[i], color=c)\n",
    "    \n",
    "    axs[row,col].set(xlim=[1.25, 2.6], ylim=[18, 14], title=f'{_cluster_ids[i]}')\n",
    "    \n",
    "fig.supxlabel(r'$\\log{(V(0.4R_{26})~[\\mathrm{km/s}]}$)')\n",
    "fig.supylabel(r'$m_r^{0.1} (26)$');"
   ]
  },
  {
   "cell_type": "markdown",
   "id": "1c21f7f9-3204-484f-9b7f-058f18862975",
   "metadata": {},
   "source": [
    "### Does this calibration result in any dwarf galaxies?\n",
    "\n",
    "Dwarf galaxies are defined as those below the line perpendicular to the calibration where $M_r > -17$."
   ]
  },
  {
   "cell_type": "markdown",
   "id": "2c6663fd-9592-43c8-b670-9b3f02b7e3c9",
   "metadata": {},
   "source": [
    "#### Define the line perpendicular to the calibration"
   ]
  },
  {
   "cell_type": "code",
   "execution_count": null,
   "id": "72532bca-3673-40d1-b114-29bac24027e8",
   "metadata": {
    "tags": []
   },
   "outputs": [],
   "source": [
    "logV_n17 = (-17 - b0pt)/a_ + logV0\n",
    "# b_perp = -17 + (logV_n17 - logV0)/a_\n",
    "# b_perp\n",
    "\n",
    "mr_n17 = a_*(logV_n17 - logV0) + b_\n",
    "b_perp = mr_n17 + (logV_n17 - logV0)/a_\n",
    "\n",
    "print(10**logV_n17, 'km/s')"
   ]
  },
  {
   "cell_type": "code",
   "execution_count": null,
   "id": "c48a994e-ea26-41ed-bfcf-222f573542f2",
   "metadata": {
    "tags": []
   },
   "outputs": [],
   "source": [
    "plt.figure(figsize=(4,8), tight_layout=True)\n",
    "\n",
    "ax = plt.gca()\n",
    "\n",
    "plt.grid(ls=':')\n",
    "\n",
    "for k in range(m):\n",
    "    eb = plt.plot(logV[k+1] + logV0, mag[k+1], '.', label=f'{_cluster_ids[k]}')\n",
    "    plt.plot(_logv + logV0, a_*_logv + b_[k], color=eb[0].get_color(), marker='None', ls='-', lw=1.3)\n",
    "    plt.plot(_logv + logV0, -_logv/a_ + b_perp[k], color=eb[0].get_color(), marker='None', ls=':', lw=1.3)\n",
    "    # plt.hlines(m_dwarf_clusters[_cluster_ids[k]], 1.25, 2.75, colors=eb[0].get_color(), linestyles='dashed')\n",
    "    \n",
    "plt.xlabel(r'$\\log{(V_\\mathrm{0.4R_{26}} [\\mathrm{km/s}])}$', fontsize=14)\n",
    "plt.ylabel(r'$m_r (26)$', fontsize=14)\n",
    "\n",
    "plt.legend(bbox_to_anchor=(1.05,1), loc='upper left', borderaxespad=0)\n",
    "\n",
    "plt.xlim(1.25, 2.6)\n",
    "plt.ylim(21, 14)\n",
    "\n",
    "plt.gca().set_aspect('equal');"
   ]
  },
  {
   "cell_type": "markdown",
   "id": "1451a736-9516-4b56-a95c-9b477aafa66c",
   "metadata": {},
   "source": [
    "#### Filter out the dwarf galaxies\n",
    "\n",
    "Those below the line\n",
    "\\begin{equation}\n",
    "  m_r = -(\\log(V(0.4R_{26})) - V_0)/a + b_{\\rm cluster \\perp}\n",
    "\\end{equation}"
   ]
  },
  {
   "cell_type": "code",
   "execution_count": null,
   "id": "659f5d8b-e296-4cc8-85cd-9951cbf5cad1",
   "metadata": {
    "tags": []
   },
   "outputs": [],
   "source": [
    "dwarfs = np.zeros(len(caltab), dtype=bool)\n",
    "\n",
    "for i in range(m):\n",
    "    # Retrieve this cluster's nest ID\n",
    "    nestid = _cluster_ids[i]\n",
    "    \n",
    "    # Find all galaxies in this cluster\n",
    "    cluster_gal_idx = caltab['CLUSTER_ID'] == nestid\n",
    "    \n",
    "    # Find which of these cluster galaxies are dwarfs\n",
    "    cluster_dwarfs = (caltab['R_MAG_SB26_CORR'][cluster_gal_idx] - caltab['R_MAG_SB26_ERR_CORR'][cluster_gal_idx]) > (-(np.log10(caltab['V_0p4R26'][cluster_gal_idx]) - logV0)/a_ + b_perp[k])\n",
    "    \n",
    "    # Set the boolean correctly\n",
    "    dwarfs[cluster_gal_idx] = cluster_dwarfs\n",
    "    \n",
    "caltab_bright = caltab[~dwarfs]\n",
    "\n",
    "print(np.sum(dwarfs))"
   ]
  },
  {
   "cell_type": "code",
   "execution_count": null,
   "id": "859945df-553c-45fc-8b2f-8a9151534803",
   "metadata": {},
   "outputs": [],
   "source": []
  }
 ],
 "metadata": {
  "kernelspec": {
   "display_name": "DESI main",
   "language": "python",
   "name": "desi-main"
  },
  "language_info": {
   "codemirror_mode": {
    "name": "ipython",
    "version": 3
   },
   "file_extension": ".py",
   "mimetype": "text/x-python",
   "name": "python",
   "nbconvert_exporter": "python",
   "pygments_lexer": "ipython3",
   "version": "3.10.14"
  }
 },
 "nbformat": 4,
 "nbformat_minor": 5
}
