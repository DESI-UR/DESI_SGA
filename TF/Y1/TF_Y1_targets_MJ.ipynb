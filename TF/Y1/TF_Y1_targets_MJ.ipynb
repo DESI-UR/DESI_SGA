{
 "cells": [
  {
   "cell_type": "markdown",
   "id": "5874ce1d-9fb1-4bae-a357-009cb170e7da",
   "metadata": {},
   "source": [
    "#### Determine how many of the galaxies observed during DESI Y1 are good TF targets."
   ]
  },
  {
   "cell_type": "code",
   "execution_count": 1,
   "id": "23fa9ebd-2932-43c6-9159-dfd4aa82487d",
   "metadata": {},
   "outputs": [],
   "source": [
    "## Module imports \n",
    "\n",
    "from astropy.table import Table\n",
    "from astropy.table import unique\n",
    "from astropy.coordinates import SkyCoord\n",
    "import astropy.units as u\n",
    "\n",
    "import numpy as np"
   ]
  },
  {
   "cell_type": "markdown",
   "id": "d82633de-f96f-4bc4-ac2d-1c0101d55e53",
   "metadata": {},
   "source": [
    "# Data\n",
    "## Y1"
   ]
  },
  {
   "cell_type": "code",
   "execution_count": 6,
   "id": "f7f9d22d-2708-4071-b085-44644ef5ea1e",
   "metadata": {},
   "outputs": [
    {
     "data": {
      "text/html": [
       "<div><i>Table length=5</i>\n",
       "<table id=\"table23273972167104\" class=\"table-striped table-bordered table-condensed\">\n",
       "<thead><tr><th>TARGETID</th><th>TARGET_RA</th><th>TARGET_DEC</th><th>TILEID</th><th>NIGHT</th><th>Z</th><th>ZERR</th><th>ZWARN</th><th>DELTACHI2</th><th>FILENAME</th><th>PVTYPE</th><th>SGA_ID</th><th>RA</th><th>DEC</th></tr></thead>\n",
       "<thead><tr><th>int64</th><th>float64</th><th>float64</th><th>int64</th><th>int64</th><th>float64</th><th>float64</th><th>int64</th><th>float64</th><th>bytes71</th><th>bytes3</th><th>int64</th><th>float64</th><th>float64</th></tr></thead>\n",
       "<tr><td>1070078338531330</td><td>215.283010668276</td><td>-1.39145841590029</td><td>238</td><td>20210529</td><td>0.054563523491107</td><td>4.78618373069215e-06</td><td>0</td><td>1089.48007261753</td><td>daily/tiles/cumulative/238/20210529/zbest-2-238-thru20210529.fits</td><td>TFT</td><td>288715</td><td>215.28287803560949</td><td>-1.3912525835370635</td></tr>\n",
       "<tr><td>1070083786932227</td><td>180.069093043901</td><td>-1.13063657023067</td><td>49</td><td>20210529</td><td>0.314211124259992</td><td>8.99712267420943e-05</td><td>0</td><td>11.9833363676444</td><td>daily/tiles/cumulative/49/20210529/zbest-9-49-thru20210529.fits</td><td>EXT</td><td>1065602</td><td>180.06909304390072</td><td>-1.1306365702306744</td></tr>\n",
       "<tr><td>1070084336386051</td><td>212.917111369992</td><td>-1.22460595248835</td><td>534</td><td>20210517</td><td>0.0841301241154583</td><td>6.52772211486213e-05</td><td>4</td><td>1.39549936563708</td><td>daily/tiles/cumulative/534/20210517/zbest-9-534-thru20210517.fits</td><td>EXT</td><td>975775</td><td>212.91711136999217</td><td>-1.2246059524883492</td></tr>\n",
       "<tr><td>1070084441243655</td><td>219.069566485758</td><td>-1.13003383330839</td><td>265</td><td>20210529</td><td>0.0398900599608056</td><td>1.37854801019852e-05</td><td>0</td><td>77.0514682456851</td><td>daily/tiles/cumulative/265/20210529/zbest-2-265-thru20210529.fits</td><td>TFT</td><td>901663</td><td>219.06962274524022</td><td>-1.12978017419777</td></tr>\n",
       "<tr><td>1070090376183808</td><td>212.898473491284</td><td>-1.09151474315062</td><td>534</td><td>20210517</td><td>0.581078735490297</td><td>5.89713452349444e-05</td><td>4</td><td>2.61762019991875</td><td>daily/tiles/cumulative/534/20210517/zbest-9-534-thru20210517.fits</td><td>EXT</td><td>975775</td><td>212.8984734912842</td><td>-1.0915147431506185</td></tr>\n",
       "</table></div>"
      ],
      "text/plain": [
       "<Table length=5>\n",
       "    TARGETID        TARGET_RA     ...         RA                 DEC        \n",
       "     int64           float64      ...      float64             float64      \n",
       "---------------- ---------------- ... ------------------ -------------------\n",
       "1070078338531330 215.283010668276 ... 215.28287803560949 -1.3912525835370635\n",
       "1070083786932227 180.069093043901 ... 180.06909304390072 -1.1306365702306744\n",
       "1070084336386051 212.917111369992 ... 212.91711136999217 -1.2246059524883492\n",
       "1070084441243655 219.069566485758 ... 219.06962274524022   -1.12978017419777\n",
       "1070090376183808 212.898473491284 ...  212.8984734912842 -1.0915147431506185"
      ]
     },
     "execution_count": 6,
     "metadata": {},
     "output_type": "execute_result"
    }
   ],
   "source": [
    "## Daily tiles data reading\n",
    "\n",
    "tdaily_all = Table.read(\"/global/cfs/projectdirs/desi/science/td/pv/desi_pv_tf_daily_tiles.fits\")\n",
    "\n",
    "## Improper TARGETID filtering\n",
    "tdaily = tdaily_all[tdaily_all[\"TARGETID\"] > 0]\n",
    "\n",
    "## SGA removal (Fuji data overlap)\n",
    "Y1 = unique(tdaily[(tdaily[\"NIGHT\"] > 20210513) & (tdaily[\"NIGHT\"] < 20220514)])\n",
    "Y1[:5]"
   ]
  },
  {
   "cell_type": "code",
   "execution_count": null,
   "id": "a7400518-482f-449b-a629-c96d99784914",
   "metadata": {},
   "outputs": [],
   "source": []
  },
  {
   "cell_type": "code",
   "execution_count": null,
   "id": "7e798dcb-28de-44d7-82cb-cc9efc95af36",
   "metadata": {},
   "outputs": [],
   "source": []
  }
 ],
 "metadata": {
  "kernelspec": {
   "display_name": "DESI main",
   "language": "python",
   "name": "desi-main"
  },
  "language_info": {
   "codemirror_mode": {
    "name": "ipython",
    "version": 3
   },
   "file_extension": ".py",
   "mimetype": "text/x-python",
   "name": "python",
   "nbconvert_exporter": "python",
   "pygments_lexer": "ipython3",
   "version": "3.10.8"
  },
  "toc-autonumbering": false,
  "toc-showcode": false,
  "toc-showmarkdowntxt": true
 },
 "nbformat": 4,
 "nbformat_minor": 5
}
