{
 "cells": [
  {
   "cell_type": "markdown",
   "id": "09e49034-a028-41c9-8b51-57ef62918bea",
   "metadata": {},
   "source": [
    "Notebook to generate data file that is a subset of the SGA catalog with rotational velocities measured during Y1 (iron)."
   ]
  },
  {
   "cell_type": "code",
   "execution_count": 1,
   "id": "5340282d-d5f6-4d25-83e3-a08183ef30b9",
   "metadata": {
    "tags": []
   },
   "outputs": [],
   "source": [
    "import numpy as np\n",
    "\n",
    "from astropy.table import Table\n",
    "from astropy.coordinates import SkyCoord\n",
    "import astropy.units as u\n",
    "\n",
    "import matplotlib.pyplot as plt"
   ]
  },
  {
   "cell_type": "code",
   "execution_count": 11,
   "id": "b7dfb2b9-436d-4666-a284-38e8cb57fc4f",
   "metadata": {
    "tags": []
   },
   "outputs": [],
   "source": [
    "c = 3e5\n",
    "\n",
    "q0 = 0.2"
   ]
  },
  {
   "cell_type": "markdown",
   "id": "852542cb-e308-434d-8b5d-1ff19f88a63d",
   "metadata": {},
   "source": [
    "# Data"
   ]
  },
  {
   "cell_type": "markdown",
   "id": "6a959aa6-23f7-4a4b-bf38-788fcfb664a1",
   "metadata": {},
   "source": [
    "## iron"
   ]
  },
  {
   "cell_type": "code",
   "execution_count": 3,
   "id": "fe5b1fa6-1458-4304-aa0b-c93236d6ee85",
   "metadata": {
    "tags": []
   },
   "outputs": [
    {
     "data": {
      "text/html": [
       "<div><i>Table length=5</i>\n",
       "<table id=\"table140151019782352\" class=\"table-striped table-bordered table-condensed\">\n",
       "<thead><tr><th>TARGETID</th><th>TARGET_RA</th><th>TARGET_DEC</th><th>HEALPIX</th><th>SURVEY</th><th>Z</th><th>ZERR</th><th>ZWARN</th><th>DELTACHI2</th><th>FILENAME</th><th>PVTYPE</th><th>SGA_ID</th><th>RA</th><th>DEC</th></tr></thead>\n",
       "<thead><tr><th>int64</th><th>float64</th><th>float64</th><th>int64</th><th>bytes4</th><th>float64</th><th>float64</th><th>int64</th><th>float64</th><th>bytes65</th><th>bytes3</th><th>int64</th><th>float64</th><th>float64</th></tr></thead>\n",
       "<tr><td>2852147603439621</td><td>198.369130660983</td><td>36.5372037049171</td><td>10475</td><td>main</td><td>0.815976335547845</td><td>7.38513168100107e-05</td><td>4</td><td>0.128754377365112</td><td>iron/healpix/main/dark/104/10475/redrock-main-dark-10475.fits</td><td>EXT</td><td>649377</td><td>198.36913066098333</td><td>36.537203704917076</td></tr>\n",
       "<tr><td>2399148812795907</td><td>198.371733180003</td><td>36.4994335406917</td><td>10475</td><td>main</td><td>1.11088784970434</td><td>7.48767797671894e-05</td><td>4</td><td>7.9473560154438</td><td>iron/healpix/main/bright/104/10475/redrock-main-bright-10475.fits</td><td>EXT</td><td>649377</td><td>198.37173318000336</td><td>36.499433540691676</td></tr>\n",
       "<tr><td>2399382443917318</td><td>184.845242475328</td><td>49.8157304793777</td><td>10995</td><td>main</td><td>1.14739342108157</td><td>0.000146302276719084</td><td>4</td><td>2.56771463155746</td><td>iron/healpix/main/bright/109/10995/redrock-main-bright-10995.fits</td><td>EXT</td><td>1008911</td><td>184.84524247532795</td><td>49.81573047937771</td></tr>\n",
       "<tr><td>2399634072797192</td><td>184.341289722203</td><td>70.8283725474297</td><td>11965</td><td>main</td><td>1.51703376230705</td><td>6.28979649962091e-05</td><td>4</td><td>4.76254060305655</td><td>iron/healpix/main/bright/119/11965/redrock-main-bright-11965.fits</td><td>EXT</td><td>241234</td><td>184.34128972220284</td><td>70.82837254742968</td></tr>\n",
       "<tr><td>2852141710442505</td><td>123.256011148025</td><td>36.2652948002806</td><td>6448</td><td>main</td><td>0.00787379494184006</td><td>3.4714052819995e-05</td><td>0</td><td>22.1719104201402</td><td>iron/healpix/main/dark/64/6448/redrock-main-dark-6448.fits</td><td>EXT</td><td>31591</td><td>123.25601114802525</td><td>36.26529480028061</td></tr>\n",
       "</table></div>"
      ],
      "text/plain": [
       "<Table length=5>\n",
       "    TARGETID        TARGET_RA     ...         RA                DEC        \n",
       "     int64           float64      ...      float64            float64      \n",
       "---------------- ---------------- ... ------------------ ------------------\n",
       "2852147603439621 198.369130660983 ... 198.36913066098333 36.537203704917076\n",
       "2399148812795907 198.371733180003 ... 198.37173318000336 36.499433540691676\n",
       "2399382443917318 184.845242475328 ... 184.84524247532795  49.81573047937771\n",
       "2399634072797192 184.341289722203 ... 184.34128972220284  70.82837254742968\n",
       "2852141710442505 123.256011148025 ... 123.25601114802525  36.26529480028061"
      ]
     },
     "execution_count": 3,
     "metadata": {},
     "output_type": "execute_result"
    }
   ],
   "source": [
    "tiron = Table.read('/global/cfs/projectdirs/desi/science/td/pv/desi_pv_tf_iron_healpix.fits')\n",
    "tiron[:5]"
   ]
  },
  {
   "cell_type": "markdown",
   "id": "e4d220a5-ea6d-45c7-9a3f-8259ea3af96f",
   "metadata": {},
   "source": [
    "## SGA"
   ]
  },
  {
   "cell_type": "code",
   "execution_count": 4,
   "id": "7d67c7b2-868b-4b70-9261-4dfb09e03f19",
   "metadata": {
    "tags": []
   },
   "outputs": [
    {
     "data": {
      "text/html": [
       "<div><i>Table length=5</i>\n",
       "<table id=\"table140151021375152\" class=\"table-striped table-bordered table-condensed\">\n",
       "<thead><tr><th>SGA_ID</th><th>SGA_GALAXY</th><th>GALAXY</th><th>PGC</th><th>RA_LEDA</th><th>DEC_LEDA</th><th>MORPHTYPE</th><th>PA_LEDA</th><th>D25_LEDA</th><th>BA_LEDA</th><th>Z_LEDA</th><th>SB_D25_LEDA</th><th>MAG_LEDA</th><th>BYHAND</th><th>REF</th><th>GROUP_ID</th><th>GROUP_NAME</th><th>GROUP_MULT</th><th>GROUP_PRIMARY</th><th>GROUP_RA</th><th>GROUP_DEC</th><th>GROUP_DIAMETER</th><th>BRICKNAME</th><th>RA</th><th>DEC</th><th>D26</th><th>D26_REF</th><th>PA</th><th>BA</th><th>RA_MOMENT</th><th>DEC_MOMENT</th><th>SMA_MOMENT</th><th>G_SMA50</th><th>R_SMA50</th><th>Z_SMA50</th><th>SMA_SB22</th><th>SMA_SB22.5</th><th>SMA_SB23</th><th>SMA_SB23.5</th><th>SMA_SB24</th><th>SMA_SB24.5</th><th>SMA_SB25</th><th>SMA_SB25.5</th><th>SMA_SB26</th><th>G_MAG_SB22</th><th>R_MAG_SB22</th><th>Z_MAG_SB22</th><th>G_MAG_SB22.5</th><th>R_MAG_SB22.5</th><th>Z_MAG_SB22.5</th><th>G_MAG_SB23</th><th>R_MAG_SB23</th><th>Z_MAG_SB23</th><th>G_MAG_SB23.5</th><th>R_MAG_SB23.5</th><th>Z_MAG_SB23.5</th><th>G_MAG_SB24</th><th>R_MAG_SB24</th><th>Z_MAG_SB24</th><th>G_MAG_SB24.5</th><th>R_MAG_SB24.5</th><th>Z_MAG_SB24.5</th><th>G_MAG_SB25</th><th>R_MAG_SB25</th><th>Z_MAG_SB25</th><th>G_MAG_SB25.5</th><th>R_MAG_SB25.5</th><th>Z_MAG_SB25.5</th><th>G_MAG_SB26</th><th>R_MAG_SB26</th><th>Z_MAG_SB26</th><th>SMA_SB22_ERR</th><th>SMA_SB22.5_ERR</th><th>SMA_SB23_ERR</th><th>SMA_SB23.5_ERR</th><th>SMA_SB24_ERR</th><th>SMA_SB24.5_ERR</th><th>SMA_SB25_ERR</th><th>SMA_SB25.5_ERR</th><th>SMA_SB26_ERR</th><th>G_MAG_SB22_ERR</th><th>R_MAG_SB22_ERR</th><th>Z_MAG_SB22_ERR</th><th>G_MAG_SB22.5_ERR</th><th>R_MAG_SB22.5_ERR</th><th>Z_MAG_SB22.5_ERR</th><th>G_MAG_SB23_ERR</th><th>R_MAG_SB23_ERR</th><th>Z_MAG_SB23_ERR</th><th>G_MAG_SB23.5_ERR</th><th>R_MAG_SB23.5_ERR</th><th>Z_MAG_SB23.5_ERR</th><th>G_MAG_SB24_ERR</th><th>R_MAG_SB24_ERR</th><th>Z_MAG_SB24_ERR</th><th>G_MAG_SB24.5_ERR</th><th>R_MAG_SB24.5_ERR</th><th>Z_MAG_SB24.5_ERR</th><th>G_MAG_SB25_ERR</th><th>R_MAG_SB25_ERR</th><th>Z_MAG_SB25_ERR</th><th>G_MAG_SB25.5_ERR</th><th>R_MAG_SB25.5_ERR</th><th>Z_MAG_SB25.5_ERR</th><th>G_MAG_SB26_ERR</th><th>R_MAG_SB26_ERR</th><th>Z_MAG_SB26_ERR</th><th>G_COG_PARAMS_MTOT</th><th>G_COG_PARAMS_M0</th><th>G_COG_PARAMS_ALPHA1</th><th>G_COG_PARAMS_ALPHA2</th><th>G_COG_PARAMS_CHI2</th><th>R_COG_PARAMS_MTOT</th><th>R_COG_PARAMS_M0</th><th>R_COG_PARAMS_ALPHA1</th><th>R_COG_PARAMS_ALPHA2</th><th>R_COG_PARAMS_CHI2</th><th>Z_COG_PARAMS_MTOT</th><th>Z_COG_PARAMS_M0</th><th>Z_COG_PARAMS_ALPHA1</th><th>Z_COG_PARAMS_ALPHA2</th><th>Z_COG_PARAMS_CHI2</th><th>ELLIPSEBIT</th></tr></thead>\n",
       "<thead><tr><th>int64</th><th>bytes16</th><th>bytes29</th><th>int64</th><th>float64</th><th>float64</th><th>bytes21</th><th>float32</th><th>float32</th><th>float32</th><th>float32</th><th>float32</th><th>float32</th><th>bool</th><th>bytes13</th><th>int64</th><th>bytes35</th><th>int16</th><th>bool</th><th>float64</th><th>float64</th><th>float32</th><th>bytes8</th><th>float64</th><th>float64</th><th>float32</th><th>bytes4</th><th>float32</th><th>float32</th><th>float64</th><th>float64</th><th>float32</th><th>float32</th><th>float32</th><th>float32</th><th>float32</th><th>float32</th><th>float32</th><th>float32</th><th>float32</th><th>float32</th><th>float32</th><th>float32</th><th>float32</th><th>float32</th><th>float32</th><th>float32</th><th>float32</th><th>float32</th><th>float32</th><th>float32</th><th>float32</th><th>float32</th><th>float32</th><th>float32</th><th>float32</th><th>float32</th><th>float32</th><th>float32</th><th>float32</th><th>float32</th><th>float32</th><th>float32</th><th>float32</th><th>float32</th><th>float32</th><th>float32</th><th>float32</th><th>float32</th><th>float32</th><th>float32</th><th>float32</th><th>float32</th><th>float32</th><th>float32</th><th>float32</th><th>float32</th><th>float32</th><th>float32</th><th>float32</th><th>float32</th><th>float32</th><th>float32</th><th>float32</th><th>float32</th><th>float32</th><th>float32</th><th>float32</th><th>float32</th><th>float32</th><th>float32</th><th>float32</th><th>float32</th><th>float32</th><th>float32</th><th>float32</th><th>float32</th><th>float32</th><th>float32</th><th>float32</th><th>float32</th><th>float32</th><th>float32</th><th>float32</th><th>float32</th><th>float32</th><th>float32</th><th>float32</th><th>float32</th><th>float32</th><th>float32</th><th>float32</th><th>float32</th><th>float32</th><th>float32</th><th>float32</th><th>float32</th><th>float32</th><th>float32</th><th>float32</th><th>float32</th><th>float32</th><th>int32</th></tr></thead>\n",
       "<tr><td>2</td><td>SGA-2020 2</td><td>PGC1283207</td><td>1283207</td><td>228.3770865</td><td>5.4232017</td><td>S?</td><td>152.2</td><td>0.36307806</td><td>0.724436</td><td>0.03463229</td><td>23.40448</td><td>16.976</td><td>False</td><td>LEDA-20181114</td><td>0</td><td>PGC1283207</td><td>1</td><td>True</td><td>228.3770865</td><td>5.4232017</td><td>0.36307806</td><td>2283p055</td><td>228.3770803831908</td><td>5.423191398593787</td><td>0.49470574</td><td>SB26</td><td>158.20142</td><td>0.545691</td><td>228.37700918822188</td><td>5.4232652570544015</td><td>10.897086</td><td>3.3509698</td><td>3.1147978</td><td>3.240862</td><td>5.902337</td><td>6.9126143</td><td>7.941369</td><td>8.997992</td><td>10.073601</td><td>11.199986</td><td>12.391357</td><td>13.561038</td><td>14.841172</td><td>16.966799</td><td>16.108246</td><td>15.486356</td><td>16.879545</td><td>16.024958</td><td>15.400715</td><td>16.818878</td><td>15.967034</td><td>15.341793</td><td>16.776297</td><td>15.925804</td><td>15.300776</td><td>16.746685</td><td>15.897334</td><td>15.272053</td><td>16.725166</td><td>15.876816</td><td>15.2521105</td><td>16.708357</td><td>15.862035</td><td>15.237181</td><td>16.696539</td><td>15.851936</td><td>15.226998</td><td>16.689613</td><td>15.844313</td><td>15.21976</td><td>0.013392451</td><td>0.02354</td><td>0.021872982</td><td>0.01736985</td><td>0.024445537</td><td>0.039866067</td><td>0.05026544</td><td>0.08455789</td><td>0.122911856</td><td>0.005682776</td><td>0.0054258136</td><td>0.0049038026</td><td>0.005588406</td><td>0.005323561</td><td>0.0047632363</td><td>0.00543534</td><td>0.005177031</td><td>0.0046343105</td><td>0.0053025587</td><td>0.005040888</td><td>0.0045181247</td><td>0.005206092</td><td>0.0049438984</td><td>0.0044374703</td><td>0.0051483097</td><td>0.0048758644</td><td>0.0043834248</td><td>0.0051032505</td><td>0.0048264163</td><td>0.004344248</td><td>0.0050705094</td><td>0.004792021</td><td>0.004319857</td><td>0.005054293</td><td>0.004765629</td><td>0.0043044444</td><td>16.65942</td><td>0.34037337</td><td>0.2978292</td><td>3.0239506</td><td>0.07928849</td><td>15.820566</td><td>0.2640441</td><td>0.34559453</td><td>3.3033552</td><td>0.003811298</td><td>15.195567</td><td>0.29826432</td><td>0.3001073</td><td>3.2333765</td><td>0.011723555</td><td>0</td></tr>\n",
       "<tr><td>3</td><td>SGA-2020 3</td><td>PGC1310416</td><td>1310416</td><td>202.54443750000002</td><td>6.9345944</td><td>Sc</td><td>159.26</td><td>0.4017908</td><td>0.7816278</td><td>0.073888786</td><td>23.498482</td><td>16.85</td><td>False</td><td>LEDA-20181114</td><td>1</td><td>PGC1310416</td><td>1</td><td>True</td><td>202.54443750000002</td><td>6.9345944</td><td>0.4017908</td><td>2025p070</td><td>202.5444619671207</td><td>6.9346244322326624</td><td>0.55350494</td><td>SB26</td><td>161.5937</td><td>0.7291764</td><td>202.54432739596137</td><td>6.934806737209989</td><td>15.746941</td><td>5.6416235</td><td>5.2647552</td><td>5.0895185</td><td>5.9838247</td><td>7.4356494</td><td>8.728868</td><td>10.087478</td><td>11.529764</td><td>12.818195</td><td>14.115497</td><td>15.319822</td><td>16.605148</td><td>16.963299</td><td>16.307854</td><td>15.806882</td><td>16.729511</td><td>16.097378</td><td>15.615527</td><td>16.606344</td><td>15.990707</td><td>15.518403</td><td>16.525967</td><td>15.917321</td><td>15.450624</td><td>16.462585</td><td>15.859485</td><td>15.397182</td><td>16.419558</td><td>15.820947</td><td>15.36243</td><td>16.390558</td><td>15.796369</td><td>15.338905</td><td>16.376112</td><td>15.782492</td><td>15.323709</td><td>16.364115</td><td>15.773462</td><td>15.313725</td><td>0.036992554</td><td>0.034982767</td><td>0.037769336</td><td>0.049429573</td><td>0.052699674</td><td>0.074114166</td><td>0.07914538</td><td>0.09781406</td><td>0.15534972</td><td>0.016095797</td><td>0.019181909</td><td>0.021539452</td><td>0.013955905</td><td>0.016594552</td><td>0.018640138</td><td>0.012786752</td><td>0.015244632</td><td>0.01715491</td><td>0.011973826</td><td>0.014366956</td><td>0.016208366</td><td>0.011358372</td><td>0.013676575</td><td>0.015474222</td><td>0.010944939</td><td>0.013225297</td><td>0.015011175</td><td>0.010691595</td><td>0.012931233</td><td>0.014687982</td><td>0.010546411</td><td>0.012796015</td><td>0.014518412</td><td>0.010457551</td><td>0.012685407</td><td>0.014379212</td><td>16.284733</td><td>1.0914493</td><td>0.24674739</td><td>2.4320207</td><td>0.68685365</td><td>15.704403</td><td>0.8764323</td><td>0.27360612</td><td>2.4995425</td><td>0.49343896</td><td>15.235263</td><td>1.3098688</td><td>0.17866786</td><td>2.1750498</td><td>0.20391206</td><td>0</td></tr>\n",
       "<tr><td>4</td><td>SGA-2020 4</td><td>SDSSJ145059.93+135143.0</td><td>4435547</td><td>222.749787</td><td>13.8619111</td><td>S?</td><td>44.57</td><td>0.33342642</td><td>0.6637431</td><td>0.07567602</td><td>24.457481</td><td>18.214</td><td>False</td><td>LEDA-20181114</td><td>2</td><td>SDSSJ145059.93+135143.0</td><td>1</td><td>True</td><td>222.749787</td><td>13.8619111</td><td>0.33342642</td><td>2228p137</td><td>222.7497050504303</td><td>13.861929561160224</td><td>0.37067476</td><td>SB26</td><td>45.28537</td><td>0.70922077</td><td>222.749650475464</td><td>13.862052070022896</td><td>8.877115</td><td>4.652771</td><td>4.4837785</td><td>4.4959745</td><td>2.01033</td><td>3.3967943</td><td>4.76257</td><td>6.043787</td><td>7.242806</td><td>8.250407</td><td>9.158723</td><td>10.083457</td><td>11.120243</td><td>19.97595</td><td>19.190666</td><td>18.649523</td><td>19.098536</td><td>18.397219</td><td>17.899643</td><td>18.624952</td><td>17.967802</td><td>17.50231</td><td>18.35278</td><td>17.718002</td><td>17.265854</td><td>18.192762</td><td>17.5654</td><td>17.115404</td><td>18.10496</td><td>17.480022</td><td>17.033989</td><td>18.053415</td><td>17.430794</td><td>16.982971</td><td>18.020155</td><td>17.399996</td><td>16.948252</td><td>17.994783</td><td>17.377092</td><td>16.924469</td><td>0.02113719</td><td>0.03639431</td><td>0.051901262</td><td>0.06539029</td><td>0.08552586</td><td>0.07008602</td><td>0.070394725</td><td>0.08394975</td><td>0.113649584</td><td>0.013428732</td><td>0.017600043</td><td>0.016373685</td><td>0.012251812</td><td>0.014566466</td><td>0.013732588</td><td>0.012644532</td><td>0.014030071</td><td>0.013153961</td><td>0.012747069</td><td>0.013512552</td><td>0.012818239</td><td>0.012865601</td><td>0.01324455</td><td>0.012532208</td><td>0.012762528</td><td>0.013058522</td><td>0.012420634</td><td>0.01252645</td><td>0.012827468</td><td>0.012283978</td><td>0.012320441</td><td>0.012607317</td><td>0.012104107</td><td>0.0121167945</td><td>0.01244376</td><td>0.011985352</td><td>17.896797</td><td>0.5557265</td><td>0.25455818</td><td>3.167909</td><td>1.0522435</td><td>17.28287</td><td>0.4885815</td><td>0.2782499</td><td>3.2144456</td><td>1.3733263</td><td>16.807674</td><td>0.5177045</td><td>0.32264626</td><td>2.900518</td><td>1.8054093</td><td>0</td></tr>\n",
       "<tr><td>7</td><td>SGA-2020 7</td><td>PGC1742504</td><td>1742504</td><td>182.0888085</td><td>25.6022764</td><td>Sbc</td><td>84.97</td><td>0.548277</td><td>0.25118864</td><td>0.10090814</td><td>24.91348</td><td>17.59</td><td>False</td><td>LEDA-20181114</td><td>3</td><td>PGC1742504</td><td>1</td><td>True</td><td>182.0888085</td><td>25.6022764</td><td>0.548277</td><td>1820p255</td><td>182.08882232629614</td><td>25.60226821438983</td><td>0.8883204</td><td>SB26</td><td>84.857475</td><td>0.19753796</td><td>182.08873760544392</td><td>25.602311195157757</td><td>19.779116</td><td>6.5958204</td><td>6.0386286</td><td>5.8089786</td><td>9.279068</td><td>10.949478</td><td>12.652142</td><td>14.446171</td><td>16.323679</td><td>18.392954</td><td>20.915508</td><td>23.566542</td><td>26.649612</td><td>17.390274</td><td>16.360935</td><td>15.531964</td><td>17.285898</td><td>16.262264</td><td>15.440768</td><td>17.2167</td><td>16.195492</td><td>15.380734</td><td>17.16217</td><td>16.144245</td><td>15.334935</td><td>17.130178</td><td>16.110302</td><td>15.304758</td><td>17.104496</td><td>16.084463</td><td>15.280803</td><td>17.081282</td><td>16.061373</td><td>15.2589855</td><td>17.063671</td><td>16.045204</td><td>15.243196</td><td>17.046705</td><td>16.031244</td><td>15.23268</td><td>0.04351465</td><td>0.055440858</td><td>0.052207235</td><td>0.07507412</td><td>0.0793679</td><td>0.10347854</td><td>0.13569456</td><td>0.13104819</td><td>0.17234002</td><td>0.03885276</td><td>0.03744209</td><td>0.03786608</td><td>0.035534665</td><td>0.03441038</td><td>0.03503794</td><td>0.033557214</td><td>0.032548346</td><td>0.033348277</td><td>0.031964395</td><td>0.03106612</td><td>0.031957533</td><td>0.031133845</td><td>0.030202182</td><td>0.031190341</td><td>0.030430589</td><td>0.029511228</td><td>0.030530946</td><td>0.02975241</td><td>0.028853998</td><td>0.029866546</td><td>0.02928568</td><td>0.0284345</td><td>0.029445464</td><td>0.028843498</td><td>0.028076617</td><td>0.029169334</td><td>16.995174</td><td>21.083004</td><td>0.0164273</td><td>1.9079465</td><td>0.029703742</td><td>15.991165</td><td>0.7657307</td><td>0.52285546</td><td>2.3045986</td><td>0.006013103</td><td>15.191324</td><td>1.0408205</td><td>0.32956335</td><td>2.1520333</td><td>0.004725194</td><td>0</td></tr>\n",
       "<tr><td>18</td><td>SGA-2020 18</td><td>2MASXJ12340801+4535444</td><td>3550748</td><td>188.5335525</td><td>45.5956434</td><td>E</td><td>168.65</td><td>0.53088444</td><td>0.6950243</td><td>0.07609531</td><td>23.97948</td><td>16.726</td><td>False</td><td>LEDA-20181114</td><td>4</td><td>2MASXJ12340801+4535444</td><td>1</td><td>True</td><td>188.5335525</td><td>45.5956434</td><td>0.53088444</td><td>1883p455</td><td>188.53364923054596</td><td>45.595620212931856</td><td>0.73435897</td><td>SB26</td><td>166.25127</td><td>0.70995796</td><td>188.53349052789085</td><td>45.59567446403057</td><td>15.694805</td><td>5.091253</td><td>4.670616</td><td>2.9429996</td><td>5.219665</td><td>6.6119533</td><td>8.228266</td><td>10.109745</td><td>12.170589</td><td>14.364073</td><td>16.722517</td><td>19.18709</td><td>22.03077</td><td>17.208511</td><td>16.224203</td><td>15.566424</td><td>17.050343</td><td>16.080097</td><td>15.443468</td><td>16.921791</td><td>15.962402</td><td>15.347263</td><td>16.814959</td><td>15.864242</td><td>15.27134</td><td>16.729906</td><td>15.787886</td><td>15.218466</td><td>16.664564</td><td>15.730083</td><td>15.182751</td><td>16.61991</td><td>15.686324</td><td>15.1601305</td><td>16.585676</td><td>15.654064</td><td>15.148039</td><td>16.558054</td><td>15.629669</td><td>15.141826</td><td>0.032001704</td><td>0.043849397</td><td>0.045203492</td><td>0.072918765</td><td>0.06263939</td><td>0.07675708</td><td>0.10399303</td><td>0.07780949</td><td>0.14017467</td><td>0.016467415</td><td>0.021250801</td><td>0.032092847</td><td>0.0149329165</td><td>0.019061867</td><td>0.028947951</td><td>0.01369758</td><td>0.01736746</td><td>0.026648495</td><td>0.012623343</td><td>0.015980754</td><td>0.024998168</td><td>0.011793644</td><td>0.014977396</td><td>0.023862366</td><td>0.011184664</td><td>0.014255281</td><td>0.023120966</td><td>0.010785815</td><td>0.013740733</td><td>0.022603082</td><td>0.010472503</td><td>0.013351409</td><td>0.022360764</td><td>0.010212836</td><td>0.013043255</td><td>0.022296576</td><td>16.471447</td><td>0.3236818</td><td>1.9206839</td><td>2.3249283</td><td>0.0973919</td><td>15.540598</td><td>0.3247282</td><td>1.7439244</td><td>2.1774826</td><td>0.023485765</td><td>15.124181</td><td>0.16547345</td><td>1.4694684</td><td>3.3948786</td><td>0.028653827</td><td>0</td></tr>\n",
       "</table></div>"
      ],
      "text/plain": [
       "<Table length=5>\n",
       "SGA_ID  SGA_GALAXY          GALAXY         ... Z_COG_PARAMS_CHI2 ELLIPSEBIT\n",
       "int64    bytes16           bytes29         ...      float32        int32   \n",
       "------ ----------- ----------------------- ... ----------------- ----------\n",
       "     2  SGA-2020 2              PGC1283207 ...       0.011723555          0\n",
       "     3  SGA-2020 3              PGC1310416 ...        0.20391206          0\n",
       "     4  SGA-2020 4 SDSSJ145059.93+135143.0 ...         1.8054093          0\n",
       "     7  SGA-2020 7              PGC1742504 ...       0.004725194          0\n",
       "    18 SGA-2020 18  2MASXJ12340801+4535444 ...       0.028653827          0"
      ]
     },
     "execution_count": 4,
     "metadata": {},
     "output_type": "execute_result"
    }
   ],
   "source": [
    "SGA = Table.read('/global/cfs/cdirs/cosmo/data/sga/2020/SGA-2020.fits', 'ELLIPSE')\n",
    "#SGA = Table.read('/Users/kellydouglass/Documents/Research/data/SGA/SGA-2020.fits', 'ELLIPSE')\n",
    "\n",
    "SGA[:5]"
   ]
  },
  {
   "cell_type": "code",
   "execution_count": 5,
   "id": "2baf1f1e-ca0c-4c3d-a9d9-468fa682a9cc",
   "metadata": {
    "tags": []
   },
   "outputs": [],
   "source": [
    "SGA_dict = {}\n",
    "\n",
    "for i in range(len(SGA)):\n",
    "    \n",
    "    SGA_dict[SGA['SGA_ID'][i]] = i"
   ]
  },
  {
   "cell_type": "markdown",
   "id": "e0ca7b6a-df7c-42b3-91c5-a74dfc6fa325",
   "metadata": {},
   "source": [
    "# Separate the iron data into center and off-center observations"
   ]
  },
  {
   "cell_type": "code",
   "execution_count": 6,
   "id": "45d0726d-f311-4c7a-a60c-91a37e12b695",
   "metadata": {
    "tags": []
   },
   "outputs": [],
   "source": [
    "tiron['SKY_FIBER_DIST'] = 0.\n",
    "tiron['SKY_FIBER_DIST_R26'] = 0.\n",
    "\n",
    "# For each SGA galaxy that has at least one observation, calculate the distance \n",
    "# for all of that galaxy's targets\n",
    "for sga_id in np.unique(tiron['SGA_ID']):\n",
    "    \n",
    "    # Identify all galaxy targets on this galaxy\n",
    "    obs_idx = tiron['SGA_ID'] == sga_id\n",
    "    \n",
    "    # Find galaxy index in SGA catalog\n",
    "    sga_idx = SGA_dict[sga_id]\n",
    "    \n",
    "    #---------------------------------------------------------------------------\n",
    "    # Calculate distance between each observation and the center of the SGA \n",
    "    # galaxy\n",
    "    #---------------------------------------------------------------------------\n",
    "    SGA_coords = SkyCoord(ra=SGA['RA'][sga_idx], \n",
    "                          dec=SGA['DEC'][sga_idx], \n",
    "                          unit=u.degree)\n",
    "    target_coords = SkyCoord(ra=tiron['RA'][obs_idx], \n",
    "                             dec=tiron['DEC'][obs_idx], \n",
    "                             unit=u.degree)\n",
    "    \n",
    "    sep2d = target_coords.separation(SGA_coords)\n",
    "    \n",
    "    tiron['SKY_FIBER_DIST'][obs_idx] = sep2d\n",
    "    tiron['SKY_FIBER_DIST_R26'][obs_idx] = 2*sep2d.to('arcmin')/(SGA['D26'][sga_idx]*u.arcmin)\n",
    "    #---------------------------------------------------------------------------"
   ]
  },
  {
   "cell_type": "code",
   "execution_count": 7,
   "id": "3e6de221-d6e8-4a86-90ee-aafe5bd76490",
   "metadata": {
    "tags": []
   },
   "outputs": [],
   "source": [
    "centers_boolean = tiron['SKY_FIBER_DIST_R26'] < 0.1\n",
    "\n",
    "iron_centers = tiron[centers_boolean]\n",
    "iron_axis = tiron[~centers_boolean]"
   ]
  },
  {
   "cell_type": "markdown",
   "id": "26eb5bcb-9c1b-4d6a-81b7-6fd1653edc31",
   "metadata": {},
   "source": [
    "## Clean the iron center observations\n",
    "\n",
    "Only keep those with\n",
    "* `DELTACHI2` > 25\n",
    "* `ZWARN` == 0"
   ]
  },
  {
   "cell_type": "code",
   "execution_count": 8,
   "id": "31b19d03-c11d-40a8-8e6f-45dfa8fd2c9d",
   "metadata": {
    "tags": []
   },
   "outputs": [],
   "source": [
    "good_centers = iron_centers[(iron_centers['DELTACHI2'] > 25) & (iron_centers['ZWARN'] == 0)]"
   ]
  },
  {
   "cell_type": "markdown",
   "id": "e4347b30-762e-49f5-ba37-e3f810f59ed2",
   "metadata": {},
   "source": [
    "## If an SGA galaxy has at least one observation at its center, set the redshift of that galaxy"
   ]
  },
  {
   "cell_type": "code",
   "execution_count": 9,
   "id": "3fd6300f-becb-4fdf-b073-055d15d53dba",
   "metadata": {
    "tags": []
   },
   "outputs": [],
   "source": [
    "SGA['Z_DESI'] = np.nan\n",
    "SGA['ZERR_DESI'] = np.nan\n",
    "\n",
    "weights = 1./(good_centers['ZERR']**2)\n",
    "\n",
    "for sga_id in np.unique(good_centers['SGA_ID']):\n",
    "    \n",
    "    # Find all the center observations of this galaxy\n",
    "    obs_idx = good_centers['SGA_ID'] == sga_id\n",
    "    \n",
    "    # Find the row in SGA for this galaxy\n",
    "    SGA_idx = SGA_dict[sga_id]\n",
    "    \n",
    "    # Set the redshift of this galaxy to be the weighted average redshift of all \n",
    "    # good center observations\n",
    "    SGA['Z_DESI'][SGA_idx] = np.average(good_centers['Z'][obs_idx], \n",
    "                                        weights=weights[obs_idx])\n",
    "    SGA['ZERR_DESI'][SGA_idx] = np.sqrt(1./np.sum(weights[obs_idx]))"
   ]
  },
  {
   "cell_type": "markdown",
   "id": "1eb51cfc-f223-4467-b345-8d3b04834451",
   "metadata": {},
   "source": [
    "# Calculate the rotational velocity"
   ]
  },
  {
   "cell_type": "code",
   "execution_count": 12,
   "id": "a9e83755-74d8-422c-8543-92978dcc8f75",
   "metadata": {
    "tags": []
   },
   "outputs": [],
   "source": [
    "iron_axis['SKY_FIBER_DIST'] = 0.\n",
    "iron_axis['SKY_FIBER_DIST_R26'] = 0.\n",
    "iron_axis['V_ROT'] = np.nan\n",
    "iron_axis['V_ROT_ERR'] = np.nan\n",
    "\n",
    "\n",
    "# For each SGA galaxy that has at least one center observation, calculate the \n",
    "# distance for all of that galaxy's targets\n",
    "for sga_gal in np.unique(good_centers['SGA_ID']):\n",
    "    \n",
    "    # Identify all galaxy targets on this galaxy\n",
    "    obs_idx = iron_axis['SGA_ID'] == sga_gal\n",
    "    \n",
    "    # Find galaxy index in SGA catalog\n",
    "    sga_idx = SGA_dict[sga_gal]\n",
    "    \n",
    "    #---------------------------------------------------------------------------\n",
    "    # Calculate distance between each observation and the center\n",
    "    #---------------------------------------------------------------------------\n",
    "    center_coords = SkyCoord(ra=SGA['RA'][sga_idx], \n",
    "                             dec=SGA['DEC'][sga_idx], \n",
    "                             unit=u.degree)\n",
    "    target_coords = SkyCoord(ra=iron_axis['RA'][obs_idx], \n",
    "                             dec=iron_axis['DEC'][obs_idx], \n",
    "                             unit=u.degree)\n",
    "    \n",
    "    sep2d = target_coords.separation(center_coords)\n",
    "    \n",
    "    iron_axis['SKY_FIBER_DIST'][obs_idx] = sep2d\n",
    "    iron_axis['SKY_FIBER_DIST_R26'][obs_idx] = 2*sep2d.to('arcmin')/(SGA['D26'][sga_idx]*u.arcmin)\n",
    "    #---------------------------------------------------------------------------\n",
    "    \n",
    "    \n",
    "    #---------------------------------------------------------------------------\n",
    "    # Calculate rotational velocity\n",
    "    #---------------------------------------------------------------------------\n",
    "    # Use the average redshift of all center observations for the systemic velocity\n",
    "    z_center = np.mean(SGA['Z_DESI'][sga_idx])\n",
    "    z_err_center2 = SGA['ZERR_DESI'][sga_idx]**2\n",
    "\n",
    "    # Calculate rotational velocity for all observations of the galaxy\n",
    "    iron_axis['V_ROT'][obs_idx] = c*(iron_axis['Z'][obs_idx] - z_center)\n",
    "    iron_axis['V_ROT_ERR'][obs_idx] = c*np.sqrt(iron_axis['ZERR'][obs_idx]**2 + z_err_center2)\n",
    "    #---------------------------------------------------------------------------\n",
    "    \n",
    "    \n",
    "    #---------------------------------------------------------------------------\n",
    "    # Correct rotational velocities for inclination angle\n",
    "    #---------------------------------------------------------------------------\n",
    "    cosi2 = (SGA['BA'][sga_idx]**2 - q0**2)/(1 - q0**2)\n",
    "    \n",
    "    # Galaxies with b/a < q0\n",
    "    if cosi2 < 0:\n",
    "        cosi2 = 0\n",
    "    \n",
    "    iron_axis['V_ROT'][obs_idx] /= np.sin(np.arccos(np.sqrt(cosi2)))\n",
    "    #---------------------------------------------------------------------------"
   ]
  },
  {
   "cell_type": "code",
   "execution_count": 13,
   "id": "1a8520dd-4d86-475e-80d6-fa2cd6235e7c",
   "metadata": {
    "tags": []
   },
   "outputs": [
    {
     "data": {
      "image/png": "[encoded data removed]",
      "text/plain": [
       "<Figure size 640x480 with 1 Axes>"
      ]
     },
     "metadata": {},
     "output_type": "display_data"
    }
   ],
   "source": [
    "plt.figure(tight_layout=True)\n",
    "\n",
    "plt.hist(np.abs(iron_axis['V_ROT']), bins=np.linspace(0, 1000, 100))\n",
    "\n",
    "plt.xlabel('$V_{rot}$ [km/s]')\n",
    "plt.ylabel('number of observations');"
   ]
  },
  {
   "cell_type": "markdown",
   "id": "dabab384-167b-4560-a8d9-cc0b89705f0a",
   "metadata": {},
   "source": [
    "# Quality criteria for velocities\n",
    "\n",
    "Requirements:\n",
    "* $10 < V_{rot} < 1000$ km/s at $0.4R_{26}$\n",
    "* $\\Delta V / V_{min} \\leq 5$"
   ]
  },
  {
   "cell_type": "markdown",
   "id": "29528ee6-e3f8-462a-872e-b9fabf31c1bb",
   "metadata": {},
   "source": [
    "## Velocity cut"
   ]
  },
  {
   "cell_type": "code",
   "execution_count": 14,
   "id": "8eb93f7e-ec87-43ba-ae6e-3e6eae145e20",
   "metadata": {
    "tags": []
   },
   "outputs": [
    {
     "name": "stdout",
     "output_type": "stream",
     "text": [
      "15080 10501\n"
     ]
    }
   ],
   "source": [
    "r0p4 = (iron_axis['SKY_FIBER_DIST_R26'] > 0.38) & (iron_axis['SKY_FIBER_DIST_R26'] < 0.42)\n",
    "\n",
    "Vgood = (np.abs(iron_axis['V_ROT']) < 1000) & (np.abs(iron_axis['V_ROT']) > 10)\n",
    "\n",
    "good_axis = iron_axis[r0p4 & Vgood]\n",
    "\n",
    "print(len(good_axis), len(np.unique(good_axis['SGA_ID'])))"
   ]
  },
  {
   "cell_type": "markdown",
   "id": "0c4f024e-ff66-414e-9e35-e8abe166158f",
   "metadata": {},
   "source": [
    "## Relative velocity cut"
   ]
  },
  {
   "cell_type": "code",
   "execution_count": 15,
   "id": "537c56b2-fdf5-4957-b6c8-65333105484a",
   "metadata": {
    "tags": []
   },
   "outputs": [],
   "source": [
    "good_deltaV = np.ones(len(good_axis), dtype=bool)\n",
    "\n",
    "for sga_id in np.unique(good_axis['SGA_ID']):\n",
    "    \n",
    "    # Identify all galaxy targets on this galaxy\n",
    "    obs_idx = good_axis['SGA_ID'] == sga_id\n",
    "    \n",
    "    n_obs = np.sum(obs_idx)\n",
    "    \n",
    "    if n_obs > 1:\n",
    "        \n",
    "        Vmin = np.min(np.abs(good_axis['V_ROT'][obs_idx]))\n",
    "        Vmax = np.max(np.abs(good_axis['V_ROT'][obs_idx]))\n",
    "        \n",
    "        v_norm_min = np.abs(good_axis['V_ROT'][obs_idx])/Vmin\n",
    "        v_norm_max = np.abs(good_axis['V_ROT'][obs_idx])/Vmax\n",
    "        \n",
    "        diff_matrix = np.abs(good_axis['V_ROT'][obs_idx]).reshape(n_obs, 1) - np.abs(good_axis['V_ROT'][obs_idx]).reshape(1, n_obs)\n",
    "        \n",
    "        diff_matrix_norm = diff_matrix/Vmin\n",
    "        \n",
    "        if np.any(np.abs(diff_matrix_norm) > 5.):\n",
    "            \n",
    "            # Remove all observations with DELTACHI2 < 25\n",
    "            # Note: This also typically removes observations with ZWARN != 0\n",
    "            deltachi2_idx = good_axis['DELTACHI2'] >= 25\n",
    "            \n",
    "            good_deltaV[obs_idx & ~deltachi2_idx] = False\n",
    "            \n",
    "            good_obs_idx = obs_idx & deltachi2_idx\n",
    "            \n",
    "            n_obs_good = np.sum(good_obs_idx)\n",
    "            \n",
    "            # Check to make sure that, if there are still multiple observations, they all satisfy our relative velocity criteria\n",
    "            if n_obs_good > 1:\n",
    "                \n",
    "                Vmin = np.min(np.abs(good_axis['V_ROT'][good_obs_idx]))\n",
    "                \n",
    "                diff_matrix = np.abs(good_axis['V_ROT'][good_obs_idx]).reshape(n_obs_good, 1) - np.abs(good_axis['V_ROT'][good_obs_idx]).reshape(1, n_obs_good)\n",
    "                \n",
    "                diff_matrix_norm = diff_matrix/Vmin\n",
    "                \n",
    "                if np.any(np.abs(diff_matrix_norm) > 5.):\n",
    "                    \n",
    "                    # Set all of these so that we don't look at this galaxy\n",
    "                    good_deltaV[good_obs_idx] = False"
   ]
  },
  {
   "cell_type": "code",
   "execution_count": 16,
   "id": "f87b60f0-473e-47bc-b823-61a1b8e7b1df",
   "metadata": {
    "tags": []
   },
   "outputs": [
    {
     "name": "stdout",
     "output_type": "stream",
     "text": [
      "15054 10493\n"
     ]
    }
   ],
   "source": [
    "good_deltaV_axis = good_axis[good_deltaV]\n",
    "\n",
    "print(len(good_deltaV_axis), len(np.unique(good_deltaV_axis['SGA_ID'])))"
   ]
  },
  {
   "cell_type": "markdown",
   "id": "e4fe2cc4-63ae-407c-aee0-d7ec9b1a73e0",
   "metadata": {},
   "source": [
    "# Compute the weighted average velocity for those galaxies with more than one observation at $0.4R_{26}$\n",
    "\n",
    "\\begin{equation}\n",
    "  \\overline{v} = \\frac{\\sum_i w_i v_i}{\\sum_i w_i}\n",
    "\\end{equation}\n",
    "where $w_i = 1/\\sigma^2$"
   ]
  },
  {
   "cell_type": "code",
   "execution_count": 17,
   "id": "3a10e6f0-022f-40b1-bc2d-03c0928244e4",
   "metadata": {
    "tags": []
   },
   "outputs": [],
   "source": [
    "SGA['V_0p4R26'] = np.nan\n",
    "SGA['V_0p4R26_err'] = np.nan\n",
    "\n",
    "weights = 1./(good_deltaV_axis['V_ROT_ERR']**2)\n",
    "\n",
    "for sga_id in np.unique(good_deltaV_axis['SGA_ID']):\n",
    "    \n",
    "    # Identify all galaxy targets on this galaxy\n",
    "    obs_idx = good_deltaV_axis['SGA_ID'] == sga_id\n",
    "    \n",
    "    SGA['V_0p4R26'][SGA_dict[sga_id]] = np.average(np.abs(good_deltaV_axis['V_ROT'][obs_idx]), \n",
    "                                                   weights=weights[obs_idx])\n",
    "\n",
    "    SGA['V_0p4R26_err'][SGA_dict[sga_id]] = np.sqrt(1./np.sum(weights[obs_idx]))"
   ]
  },
  {
   "cell_type": "code",
   "execution_count": 18,
   "id": "a509c1b5-0380-4ed6-b81a-56d4c076f297",
   "metadata": {
    "tags": []
   },
   "outputs": [],
   "source": [
    "# Make a catalog of just those galaxies with velocities\n",
    "SGA_TF_iron = SGA[np.isfinite(SGA['V_0p4R26']) & (SGA['R_MAG_SB26'] > 0)]"
   ]
  },
  {
   "cell_type": "code",
   "execution_count": 19,
   "id": "87111810-2092-4f54-91a8-343283f7f9f5",
   "metadata": {
    "tags": []
   },
   "outputs": [],
   "source": [
    "SGA_TF_iron.write('/global/cfs/cdirs/desi/science/td/pv/tfgalaxies/Y1/SGA-2020_iron_Vrot.fits')"
   ]
  },
  {
   "cell_type": "code",
   "execution_count": null,
   "id": "d8826352-99ca-4c2d-b4c8-605815c4d691",
   "metadata": {},
   "outputs": [],
   "source": []
  }
 ],
 "metadata": {
  "kernelspec": {
   "display_name": "DESI main",
   "language": "python",
   "name": "desi-main"
  },
  "language_info": {
   "codemirror_mode": {
    "name": "ipython",
    "version": 3
   },
   "file_extension": ".py",
   "mimetype": "text/x-python",
   "name": "python",
   "nbconvert_exporter": "python",
   "pygments_lexer": "ipython3",
   "version": "3.10.8"
  }
 },
 "nbformat": 4,
 "nbformat_minor": 5
}
