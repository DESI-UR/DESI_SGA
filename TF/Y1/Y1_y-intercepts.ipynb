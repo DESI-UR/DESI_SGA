{
 "cells": [
  {
   "cell_type": "markdown",
   "id": "fd8e6649-5ad5-4153-bb93-5d5b5ff8ed59",
   "metadata": {},
   "source": [
    "12/12/2024 - Alex finds a $z$-dependence on the $y$-intercept for each of the calibration clusters, after removing their Hubble flow.  Do we see the same thing?"
   ]
  },
  {
   "cell_type": "code",
   "execution_count": 2,
   "id": "f4f39a1d-888c-4fa8-8e71-5b7627c6de06",
   "metadata": {},
   "outputs": [],
   "source": [
    "import numpy as np\n",
    "\n",
    "from astropy.io import fits\n",
    "from astropy.table import Table\n",
    "\n",
    "import pickle\n",
    "\n",
    "import matplotlib.pyplot as plt"
   ]
  },
  {
   "cell_type": "markdown",
   "id": "9bed6fd8-778b-47d0-aa63-14f9b069556d",
   "metadata": {},
   "source": [
    "# Read in our best fit for the TFR"
   ]
  },
  {
   "cell_type": "code",
   "execution_count": 3,
   "id": "fa25f062-65f1-4c41-a02f-757c500b0f7c",
   "metadata": {},
   "outputs": [],
   "source": [
    "temp_infile = open('cov_ab_iron_jointTFR_varyV0-perpdwarfs0_z0p1_binaryMLupdated_KAD-20241211.pickle', 'rb')\n",
    "cov_ab, tfr_samples, V0 = pickle.load(temp_infile)\n",
    "temp_infile.close()"
   ]
  },
  {
   "cell_type": "code",
   "execution_count": 23,
   "id": "c1be871b-b764-4cd5-9320-03e2198c5188",
   "metadata": {},
   "outputs": [],
   "source": [
    "b = np.median(tfr_samples[2:-1,:], axis=1)\n",
    "b_err = np.sqrt(np.diag(cov_ab[2:-1,2:-1]))"
   ]
  },
  {
   "cell_type": "markdown",
   "id": "9e18ed28-fb3e-4a4b-99cf-299692e6aef0",
   "metadata": {},
   "source": [
    "# Read in cluster catalog"
   ]
  },
  {
   "cell_type": "code",
   "execution_count": 17,
   "id": "0a3a4b8e-1cc4-420f-80b8-2accdf71d6f0",
   "metadata": {},
   "outputs": [
    {
     "name": "stderr",
     "output_type": "stream",
     "text": [
      "WARNING: VerifyWarning: It is strongly recommended that column names contain only upper and lower-case ASCII letters, digits, or underscores for maximum compatibility with other software (got '<Vcmba>'). [astropy.io.fits.column]\n",
      "WARNING: UnitsWarning: '[Lsun]' did not parse as fits unit: Invalid character at col 0 If this is meant to be a custom unit, define it with 'u.def_unit'. To have it recognized inside a file reader or other code, enable it with 'u.add_enabled_units'. For details, see https://docs.astropy.org/en/latest/units/combining_and_defining.html [astropy.units.core]\n",
      "WARNING: UnitsWarning: 'Msun' did not parse as fits unit: At col 0, Unit 'Msun' not supported by the FITS standard. Did you mean Sun? If this is meant to be a custom unit, define it with 'u.def_unit'. To have it recognized inside a file reader or other code, enable it with 'u.add_enabled_units'. For details, see https://docs.astropy.org/en/latest/units/combining_and_defining.html [astropy.units.core]\n"
     ]
    },
    {
     "data": {
      "text/html": [
       "<div><i>Table length=5</i>\n",
       "<table id=\"table139798370600704\" class=\"table-striped table-bordered table-condensed\">\n",
       "<thead><tr><th>f_Nest</th><th>Nest</th><th>Nmb</th><th>PGC1</th><th>SGLON</th><th>SGLAT</th><th>logLK</th><th>&lt;Vcmba&gt;</th><th>DM</th><th>sigV</th><th>R2t</th><th>sigP</th><th>Mlum</th><th>CF</th></tr></thead>\n",
       "<thead><tr><th></th><th></th><th></th><th></th><th>deg</th><th>deg</th><th>[Lsun]</th><th>km / s</th><th>mag</th><th>km / s</th><th>Mpc</th><th>km / s</th><th>Msun</th><th></th></tr></thead>\n",
       "<thead><tr><th>int16</th><th>int32</th><th>int16</th><th>int32</th><th>float64</th><th>float64</th><th>float64</th><th>int32</th><th>float64</th><th>int16</th><th>float64</th><th>int16</th><th>float64</th><th>float64</th></tr></thead>\n",
       "<tr><td>1</td><td>100001</td><td>136</td><td>44715</td><td>89.6226</td><td>8.1461</td><td>13.15</td><td>7331</td><td>34.33</td><td>886</td><td>2.129</td><td>1045</td><td>1.710e+15</td><td>1.65</td></tr>\n",
       "<tr><td>1</td><td>100002</td><td>197</td><td>41220</td><td>103.0008</td><td>-2.3248</td><td>12.69</td><td>1491</td><td>30.87</td><td>670</td><td>1.440</td><td>707</td><td>5.290e+14</td><td>1.00</td></tr>\n",
       "<tr><td>1</td><td>100003</td><td>113</td><td>43296</td><td>156.2336</td><td>-11.5868</td><td>12.75</td><td>3873</td><td>32.94</td><td>822</td><td>1.520</td><td>746</td><td>6.230e+14</td><td>1.12</td></tr>\n",
       "<tr><td>1</td><td>100004</td><td>81</td><td>58265</td><td>71.5103</td><td>49.7851</td><td>13.16</td><td>9424</td><td>34.87</td><td>740</td><td>2.153</td><td>1057</td><td>1.770e+15</td><td>2.26</td></tr>\n",
       "<tr><td>1</td><td>100005</td><td>61</td><td>36487</td><td>92.0255</td><td>-10.4950</td><td>12.78</td><td>6987</td><td>34.22</td><td>707</td><td>1.560</td><td>766</td><td>6.730e+14</td><td>1.58</td></tr>\n",
       "</table></div>"
      ],
      "text/plain": [
       "<Table length=5>\n",
       "f_Nest  Nest   Nmb    PGC1   SGLON   ...  sigV    R2t    sigP     Mlum      CF  \n",
       "                              deg    ... km / s   Mpc   km / s    Msun          \n",
       "int16  int32  int16  int32  float64  ... int16  float64 int16   float64  float64\n",
       "------ ------ ----- ------- -------- ... ------ ------- ------ --------- -------\n",
       "     1 100001   136   44715  89.6226 ...    886   2.129   1045 1.710e+15    1.65\n",
       "     1 100002   197   41220 103.0008 ...    670   1.440    707 5.290e+14    1.00\n",
       "     1 100003   113   43296 156.2336 ...    822   1.520    746 6.230e+14    1.12\n",
       "     1 100004    81   58265  71.5103 ...    740   2.153   1057 1.770e+15    2.26\n",
       "     1 100005    61   36487  92.0255 ...    707   1.560    766 6.730e+14    1.58"
      ]
     },
     "execution_count": 17,
     "metadata": {},
     "output_type": "execute_result"
    }
   ],
   "source": [
    "clusters = Table.read('../Tully15-Table3.fits')\n",
    "clusters[:5]"
   ]
  },
  {
   "cell_type": "code",
   "execution_count": 19,
   "id": "3a40cbd1-2896-4a02-b6bc-124fa69f4fec",
   "metadata": {},
   "outputs": [],
   "source": [
    "# List of clusters used in the calibration\n",
    "cluster_ids = np.asarray([100067, 100077, 101400, 101434, 101823, 103172, 103182, 103229])\n",
    "\n",
    "idx = np.in1d(clusters['Nest'], cluster_ids)\n",
    "cluster_mu = clusters['DM'][idx]"
   ]
  },
  {
   "cell_type": "markdown",
   "id": "2953f2f3-38df-4bd3-b51a-abf1f6db34b6",
   "metadata": {},
   "source": [
    "# Plot $\\mu$ v. $b$\n",
    "\n",
    "We should see a correlation, where clusters that are further away have fainter $y$-intercepts."
   ]
  },
  {
   "cell_type": "code",
   "execution_count": 27,
   "id": "2f2f716d-3d2f-4569-8305-493f3484c3ba",
   "metadata": {},
   "outputs": [
    {
     "data": {
      "image/png": "[encoded data removed]",
      "text/plain": [
       "<Figure size 640x480 with 1 Axes>"
      ]
     },
     "metadata": {},
     "output_type": "display_data"
    }
   ],
   "source": [
    "plt.figure(tight_layout=True)\n",
    "\n",
    "plt.errorbar(cluster_mu, b, yerr=b_err, fmt='.')\n",
    "\n",
    "plt.ylim([17, 14.5])\n",
    "\n",
    "plt.xlabel('$\\mu$')\n",
    "plt.ylabel('$b$');"
   ]
  },
  {
   "cell_type": "markdown",
   "id": "bcadd10c-c03e-40fb-8ffb-1253275584ac",
   "metadata": {},
   "source": [
    "This is what we expect - clusters that are further away should have fainter $y$-intercepts."
   ]
  },
  {
   "cell_type": "markdown",
   "id": "4667b068-81e5-4eca-9f90-3b098a39ef04",
   "metadata": {},
   "source": [
    "# Compute $b_0$, the expected $y$-intercept based on the distance to the cluster\n",
    "\n",
    "I'm going to compute $b_0$ to be the apparent magnitude of a galaxy with $M_r = -18$ within that cluster (looks like this is similar to what Alex is doing)."
   ]
  },
  {
   "cell_type": "code",
   "execution_count": 41,
   "id": "1f09a4d2-457e-4b28-8d8d-7cead810ed88",
   "metadata": {},
   "outputs": [],
   "source": [
    "Mr_lim = -18\n",
    "# Mr_lim = -20.5\n",
    "\n",
    "b0 = Mr_lim + cluster_mu"
   ]
  },
  {
   "cell_type": "markdown",
   "id": "28ebd8bc-0c7a-4010-846a-998c7d7d5191",
   "metadata": {},
   "source": [
    "# Plot $\\mu$ v. $b - b_0$\n",
    "\n",
    "We should NOT see a correlation."
   ]
  },
  {
   "cell_type": "code",
   "execution_count": 42,
   "id": "ecba3636-6038-4056-8c55-c3ce157fab0c",
   "metadata": {},
   "outputs": [
    {
     "data": {
      "image/png": "[encoded data removed]",
      "text/plain": [
       "<Figure size 640x480 with 1 Axes>"
      ]
     },
     "metadata": {},
     "output_type": "display_data"
    }
   ],
   "source": [
    "plt.figure(tight_layout=True)\n",
    "\n",
    "plt.errorbar(cluster_mu, b - b0, yerr=b_err, fmt='.')\n",
    "\n",
    "# plt.ylim([17, 14.5])\n",
    "\n",
    "plt.xlabel('$\\mu$')\n",
    "plt.ylabel('$b - b_0$');"
   ]
  },
  {
   "cell_type": "code",
   "execution_count": null,
   "id": "6f463807-3d24-42ef-8c6b-6357f5027587",
   "metadata": {},
   "outputs": [],
   "source": []
  }
 ],
 "metadata": {
  "kernelspec": {
   "display_name": "DESI main",
   "language": "python",
   "name": "desi-main"
  },
  "language_info": {
   "codemirror_mode": {
    "name": "ipython",
    "version": 3
   },
   "file_extension": ".py",
   "mimetype": "text/x-python",
   "name": "python",
   "nbconvert_exporter": "python",
   "pygments_lexer": "ipython3",
   "version": "3.10.14"
  }
 },
 "nbformat": 4,
 "nbformat_minor": 5
}
