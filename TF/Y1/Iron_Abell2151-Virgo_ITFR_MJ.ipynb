{
 "cells": [
  {
   "cell_type": "markdown",
   "id": "1c1bf435-46fb-4ece-aae1-101cc1c7e0c0",
   "metadata": {},
   "source": [
    "# DESI Iron\n",
    "Determine how many galaxies were observed in DESI Iron that are good TF targets by finding the number of unique galaxies observed with observations at the center and at .4R."
   ]
  },
  {
   "cell_type": "code",
   "execution_count": null,
   "id": "c91c091b-527b-471c-871a-fdce09042aba",
   "metadata": {},
   "outputs": [],
   "source": [
    "## Module imports and constant definitions \n",
    "from astropy.table import unique, Table\n",
    "from astropy.coordinates import SkyCoord\n",
    "from astropy.io import fits \n",
    "\n",
    "import astropy.units as u\n",
    "import numpy as np\n",
    "import matplotlib as mpl\n",
    "import matplotlib.pyplot as plt \n",
    "\n",
    "from tqdm.auto import tqdm\n",
    "\n",
    "import os\n",
    "\n",
    "import requests\n",
    "\n",
    "from astropy.wcs import WCS\n",
    "from astropy.visualization.wcsaxes import SphericalCircle\n",
    "\n",
    "h = 1\n",
    "H0 = 100*h\n",
    "c = 3e5\n",
    "q0 = 0.2\n",
    "V0 = 2.5 # 0-point of TFR"
   ]
  },
  {
   "cell_type": "markdown",
   "id": "abc3d297-c99d-431a-9a53-10e56cd5f8e6",
   "metadata": {},
   "source": [
    "### Iron Data\n",
    "We read in the Iron data to use throughout the notebook. Commented out below is the Fuji data, to use to check against when necessary. "
   ]
  },
  {
   "cell_type": "code",
   "execution_count": null,
   "id": "aa84685f-3a0f-4f0c-a42f-2ff03812704c",
   "metadata": {},
   "outputs": [],
   "source": [
    "tiron = Table.read('/global/cfs/projectdirs/desi/science/td/pv/desi_pv_tf_iron_healpix.fits')\n",
    "#tiron = Table.read('/global/cfs/projectdirs/desi/science/td/pv/desi_pv_tf_fuji_healpix.fits')\n",
    "\n",
    "tiron[:5]"
   ]
  },
  {
   "cell_type": "markdown",
   "id": "31806e8d-bcce-4584-9944-7e3620f1a5ee",
   "metadata": {},
   "source": [
    "### SGA\n",
    "We read in the SGA to use throughout the notebook. "
   ]
  },
  {
   "cell_type": "code",
   "execution_count": null,
   "id": "ad24a524-771b-42d2-a434-5e7168a65d56",
   "metadata": {},
   "outputs": [],
   "source": [
    "SGA = Table.read('/global/cfs/cdirs/cosmo/data/sga/2020/SGA-2020.fits', 'ELLIPSE')\n",
    "\n",
    "## Create a dictionary of SGA IDs to find row indices \n",
    "SGA_dict = {}\n",
    "for i in range(len(SGA)):\n",
    "    SGA_dict[SGA['SGA_ID'][i]] = i\n",
    "\n",
    "SGA[:5]"
   ]
  },
  {
   "cell_type": "markdown",
   "id": "4f70ba30-c59c-4e6f-8f78-bbafbb7db5cc",
   "metadata": {
    "tags": []
   },
   "source": [
    "## Separation between Galaxies and Observations\n",
    "Find all targets on each galaxy, and then calculate distance between SGA center coordinates and observation coordinates. "
   ]
  },
  {
   "cell_type": "code",
   "execution_count": null,
   "id": "9de47cfb-0760-41a8-a46e-3d09a7995bff",
   "metadata": {},
   "outputs": [],
   "source": [
    "tiron['SKY_FIBER_DIST'] = 0.\n",
    "tiron['SKY_FIBER_DIST_R26'] = 0.\n",
    "\n",
    "## For each SGA galaxy that has 1+ observations, calculate distance for all of its targets\n",
    "for sga_id in tqdm(np.unique(tiron['SGA_ID'])):\n",
    "    \n",
    "    ## Identify all galaxy targets on this galaxy\n",
    "    obs_idx = tiron['SGA_ID'] == sga_id\n",
    "    \n",
    "    ## Find galaxy index in SGA catalog\n",
    "    sga_idx = SGA_dict[sga_id]\n",
    "    \n",
    "    ## Calculate distance between each observation and the center of the galaxy\n",
    "    SGA_coords = SkyCoord(ra=SGA['RA'][sga_idx], \n",
    "                          dec=SGA['DEC'][sga_idx], \n",
    "                          unit=u.degree)\n",
    "    target_coords = SkyCoord(ra=tiron['RA'][obs_idx], \n",
    "                             dec=tiron['DEC'][obs_idx], \n",
    "                             unit=u.degree)\n",
    "    sep2d = target_coords.separation(SGA_coords)\n",
    "    \n",
    "    ## Add the distance to the tiron table\n",
    "    tiron['SKY_FIBER_DIST'][obs_idx] = sep2d\n",
    "    ## Add the distance in R26 to the tiron table \n",
    "    tiron['SKY_FIBER_DIST_R26'][obs_idx] = 2*sep2d.to('arcmin')/(SGA['D26'][sga_idx]*u.arcmin)\n",
    "\n",
    "## Isolate the centers to be those measurements where the distance is <.1*R26\n",
    "centers_boolean = tiron['SKY_FIBER_DIST_R26'] < 0.1\n",
    "\n",
    "## Sort observations into center and axis observations \n",
    "iron_centers = tiron[centers_boolean]\n",
    "iron_axis = tiron[~centers_boolean]"
   ]
  },
  {
   "cell_type": "markdown",
   "id": "0a5f7f3d-d393-41c0-ab49-99bd83ee6fd2",
   "metadata": {
    "tags": []
   },
   "source": [
    "## Cleaning Iron Center Observations\n",
    "\n",
    "Only keep those observations with\n",
    " * `DELTACHI2` > 25\n",
    " * `ZWARN` == 0"
   ]
  },
  {
   "cell_type": "code",
   "execution_count": null,
   "id": "4b8c19d5-7747-4d99-9829-83e888e66891",
   "metadata": {},
   "outputs": [],
   "source": [
    "good_centers = iron_centers[(iron_centers['DELTACHI2'] > 25) & (iron_centers['ZWARN'] == 0)]\n",
    "\n",
    "## Check for multiple good center observations \n",
    "unique_ids, counts = np.unique(good_centers['SGA_ID'], return_counts=True)"
   ]
  },
  {
   "cell_type": "markdown",
   "id": "58de30ed-2506-4927-81d9-36f12c3f2501",
   "metadata": {},
   "source": [
    "If there's at least one good center observation, set the galaxy's redshift."
   ]
  },
  {
   "cell_type": "code",
   "execution_count": null,
   "id": "6d101817-1731-4890-8d65-1635cbcc29ea",
   "metadata": {},
   "outputs": [],
   "source": [
    "SGA['Z_DESI'] = np.nan\n",
    "SGA['ZERR_DESI'] = np.nan\n",
    "\n",
    "weights = 1./(good_centers['ZERR']**2)\n",
    "\n",
    "for sga_id in np.unique(good_centers['SGA_ID']):\n",
    "    \n",
    "    ## Find all the center observations of this galaxy\n",
    "    obs_idx = good_centers['SGA_ID'] == sga_id\n",
    "    \n",
    "    ## Find the row in SGA for this galaxy\n",
    "    SGA_idx = SGA_dict[sga_id]\n",
    "    \n",
    "    # Set the redshift of this galaxy to be weighted average of all good center observation redshifts\n",
    "    SGA['Z_DESI'][SGA_idx] = np.average(good_centers['Z'][obs_idx], \n",
    "                                        weights=weights[obs_idx])\n",
    "    SGA['ZERR_DESI'][SGA_idx] = np.sqrt(1./np.sum(weights[obs_idx]))"
   ]
  },
  {
   "cell_type": "markdown",
   "id": "9d4c25a0-7443-41a8-8b22-c63c569359f1",
   "metadata": {},
   "source": [
    "Determine how many observations at $.4R$ we have. "
   ]
  },
  {
   "cell_type": "code",
   "execution_count": null,
   "id": "8e88bba0-2f44-4d3c-87ed-498790d840a3",
   "metadata": {},
   "outputs": [],
   "source": [
    "## Include all observations where .38R < distance < .42R in our .4R values\n",
    "r0p4 = iron_axis[(iron_axis['SKY_FIBER_DIST_R26'] > 0.38) & (iron_axis['SKY_FIBER_DIST_R26'] < 0.42)]\n",
    "\n",
    "## Count how many of these are unique values\n",
    "unique_centers = np.unique(good_centers['SGA_ID'])\n",
    "unique_r0p4 = np.unique(r0p4['SGA_ID'])\n",
    "\n",
    "centers_and_p4s = []\n",
    "for i in unique_r0p4: \n",
    "    if i in unique_centers: \n",
    "        centers_and_p4s.append(i)\n",
    "\n",
    "## Output the number of observations that are generally good for TF fitting\n",
    "print(len(centers_and_p4s),\" unique galaxies with center and .4R observations\")\n",
    "\n",
    "## Find the percentage of all Iron galaxies that are generally good for TF fitting\n",
    "num_iron = len(np.unique(tiron['SGA_ID']))\n",
    "percentage_TF = 100*((len(centers_and_p4s))/num_iron)\n",
    "print(percentage_TF,\"% of all Iron galaxies\")"
   ]
  },
  {
   "cell_type": "markdown",
   "id": "9e416821-3b21-4d57-9fdb-08fa1bbb359a",
   "metadata": {},
   "source": [
    "## Cluster Membership\n",
    "Following Cosmicflows4 (Kourkchi et al. 2020), cluster membership is defined as\n",
    "- $R_p < 1.5R_{2t}$ and $v < V_c \\pm 3\\sigma_p$\n",
    "- $1.5R_{2t} \\leq R_p < 3R_{2t}$ and $v < V_c \\pm 2\\sigma_p$\n",
    "\n",
    "where $R_p$ is the projected distance from the cluster center, $R_{2t}$ is the cluster projected second turnaround radius, $\\sigma_p$ is the projected velocity dispersion of the cluster, and $V_c$ is the average heliocentric radial velocity of the cluster."
   ]
  },
  {
   "cell_type": "markdown",
   "id": "33ea30be-9731-432a-a913-94a77f955d5c",
   "metadata": {},
   "source": [
    "### Tully et. al. (2015) Table 3"
   ]
  },
  {
   "cell_type": "code",
   "execution_count": null,
   "id": "26c1a91d-44dc-44db-bb5e-66df5431a997",
   "metadata": {},
   "outputs": [],
   "source": [
    "hdu = fits.open(\"../Tully15-Table3.fits\")\n",
    "table3 = Table(hdu[1].data)\n",
    "table3.rename_column(\"<Vcmba>\",\"VMod\")\n",
    "hdu.close()\n",
    "\n",
    "table3_dict = {}\n",
    "for i in range(len(table3)):\n",
    "    table3_dict[table3['Nest'][i]] = i\n",
    "\n",
    "table3[:5]"
   ]
  },
  {
   "cell_type": "code",
   "execution_count": null,
   "id": "4b9cb196-6f03-4eb6-935d-2ddcf643a672",
   "metadata": {
    "tags": []
   },
   "outputs": [],
   "source": [
    "## Check a suspicious value from later on in the notebook\n",
    "table3[table3['Nest'] == 100526]"
   ]
  },
  {
   "cell_type": "code",
   "execution_count": null,
   "id": "5e0fd8de-2802-449f-a0bb-6cffb71e2b2b",
   "metadata": {
    "tags": []
   },
   "outputs": [],
   "source": [
    "## Continue the suspicious value check \n",
    "cluster_coord = SkyCoord(table3['SGLON'][table3['Nest'] == 100526]*u.degree, \n",
    "                         table3['SGLAT'][table3['Nest'] == 100526]*u.degree, \n",
    "                         frame='supergalactic')\n",
    "print(cluster_coord.transform_to('icrs'))"
   ]
  },
  {
   "cell_type": "markdown",
   "id": "a262e259-6cf9-403f-90c9-d1d6942d97c8",
   "metadata": {},
   "source": [
    "### Tully et. al (2013) Table 2"
   ]
  },
  {
   "cell_type": "code",
   "execution_count": null,
   "id": "195c06ac-1dec-4862-8046-9d8aa09d3171",
   "metadata": {
    "tags": []
   },
   "outputs": [],
   "source": [
    "hdu = fits.open(\"../Tully13-Table2.fit\")\n",
    "table2 = Table(hdu[1].data)\n",
    "hdu.close()\n",
    "\n",
    "table2[:5]"
   ]
  },
  {
   "cell_type": "markdown",
   "id": "00b6499f-039b-4712-a3fb-fd9623025ed8",
   "metadata": {},
   "source": [
    "Loop through the SGA table to do just the rows that are for IDs we want from centers_and_p4s. Collect them into a smaller table. "
   ]
  },
  {
   "cell_type": "code",
   "execution_count": null,
   "id": "c0606ad9-c9df-46a8-b055-7300727cd250",
   "metadata": {},
   "outputs": [],
   "source": [
    "SGA.add_index(\"SGA_ID\")\n",
    "TF_SGA_cp4 = SGA.loc[centers_and_p4s]\n",
    "\n",
    "TF_SGA_cp4[:5]"
   ]
  },
  {
   "cell_type": "code",
   "execution_count": null,
   "id": "fd1c5dfd-5423-42b2-9a5f-c2b3a2101b39",
   "metadata": {
    "tags": []
   },
   "outputs": [],
   "source": [
    "## Cluster Membership function. Takes argument of nest ID for the target cluster.\n",
    "\n",
    "def cluster_membership(nest_id):\n",
    "    c_4r_in_cluster = []\n",
    "    \n",
    "    ## Set active row for each nest number and base values \n",
    "    active_row = table3_dict[nest_id]\n",
    "    R2t = table3[\"R2t\"][active_row]\n",
    "    sigma = table3[\"sigP\"][active_row]\n",
    "    \n",
    "    ## Find the coordinates for each cluster\n",
    "    cluster_coords = SkyCoord(table3[\"SGLON\"][active_row]*u.degree, \n",
    "                       table3[\"SGLAT\"][active_row]*u.degree, \n",
    "                       frame='supergalactic')\n",
    "    \n",
    "    group_coords = SkyCoord(table2['SGLON']*u.degree, \n",
    "                        table2['SGLAT']*u.degree, \n",
    "                        frame='supergalactic')\n",
    "    \n",
    "    ## Match cluster to group coordinates \n",
    "    idx, d2d, d3d = cluster_coords.match_to_catalog_sky(group_coords)\n",
    "    v = table2[\"__HV_\"][idx]\n",
    "    \n",
    "    ## Match SGA coordinates from unique galaxies to nearest cluster\n",
    "    SGA_coords = SkyCoord(TF_SGA_cp4['RA'], TF_SGA_cp4['DEC'], unit='deg')\n",
    "    sep = cluster_coords.separation(SGA_coords)\n",
    "\n",
    "    ## Convert R2t to an angle \n",
    "    R2t_angle = (R2t/(v/H0))*u.radian\n",
    "    \n",
    "    SGA_in_cluster1 = (sep < 1.5*R2t_angle) & (TF_SGA_cp4[\"Z_DESI\"]*c > v - 3*sigma) & (TF_SGA_cp4[\"Z_DESI\"]*c < v + 3*sigma)\n",
    "    SGA_in_cluster2 = (sep >= 1.5*R2t_angle) & (sep < 3*R2t_angle) & (TF_SGA_cp4[\"Z_DESI\"]*c > v - 2*sigma) & (TF_SGA_cp4[\"Z_DESI\"]*c < v + 2*sigma)\n",
    "    \n",
    "    SGA_in_cluster = SGA_in_cluster1 | SGA_in_cluster2\n",
    "    \n",
    "    ## Keep observations that are within nest cluster \n",
    "    SGA_ID_in_cluster = TF_SGA_cp4[\"SGA_ID\"][SGA_in_cluster]\n",
    "    \n",
    "    ## Gather centers and axes in the cluster\n",
    "    centers_in_cluster = good_centers[np.in1d(good_centers['SGA_ID'], SGA_ID_in_cluster)]\n",
    "    axis_in_cluster = iron_axis[np.in1d(iron_axis['SGA_ID'], SGA_ID_in_cluster)]\n",
    "    \n",
    "    c_4r_in_cluster.append(SGA_ID_in_cluster)\n",
    "    return(c_4r_in_cluster, SGA_in_cluster, SGA_ID_in_cluster, centers_in_cluster, axis_in_cluster, cluster_coords, v, sep)"
   ]
  },
  {
   "cell_type": "markdown",
   "id": "2bb79277-642c-4d85-87c1-fedfa2a03721",
   "metadata": {},
   "source": [
    "## Abell-2151 Explicit Filtering"
   ]
  },
  {
   "cell_type": "code",
   "execution_count": null,
   "id": "0a2fb380-c34f-4411-a3d9-fb52eca5b0fd",
   "metadata": {},
   "outputs": [],
   "source": [
    "(c_4r_in_Abell, SGA_in_Abell, SGA_ID_in_Abell, centers_in_Abell, axis_in_Abell, Abell_coords, v_Abell, sep_Abell)"
   ]
  },
  {
   "cell_type": "code",
   "execution_count": null,
   "id": "56a4d592-af62-42ed-9e75-ae51d5ec2920",
   "metadata": {},
   "outputs": [],
   "source": [
    "## make a bar graph of the angular separation \n",
    "plt.hist(sep[SGA_in_Abell].to_value('degree'), bins=np.arange(0,5, 0.5))\n",
    "plt.xlabel('SGA-Abell-2151 Angular Separation [deg]')\n",
    "plt.ylabel('number of galaxies');"
   ]
  },
  {
   "cell_type": "code",
   "execution_count": null,
   "id": "8face3c9-c6d4-41b4-9ad1-28b3e28084a2",
   "metadata": {},
   "outputs": [],
   "source": [
    "## plot the physical locations and the redshifts of the cluster\n",
    "\n",
    "plt.figure(figsize=(15,5), tight_layout=True)\n",
    "\n",
    "plt.subplot(131)\n",
    "plt.plot(centers_in_Abell['TARGET_RA'], centers_in_Abell['TARGET_DEC'], '.')\n",
    "plt.plot(Abell_coords.transform_to('icrs').ra.deg, Abell_coords.transform_to('icrs').dec.deg, 'kx', ms=10, mew=5)\n",
    "plt.xlabel(r'$\\alpha$ [deg]')\n",
    "plt.ylabel(r'$\\delta$ [deg]')\n",
    "\n",
    "plt.subplot(132)\n",
    "plt.plot(centers_in_Abell['Z'], centers_in_Abell['TARGET_DEC'], '.')\n",
    "plt.plot(v/c, Abell_coords.transform_to('icrs').dec.deg, 'kx', ms=10, mew=5)\n",
    "plt.xlabel('z')\n",
    "plt.ylabel(r'$\\delta$ [deg]')\n",
    "\n",
    "plt.subplot(133)\n",
    "plt.hist(centers_in_Abell['Z'], bins=np.arange(0.02, .06, 0.01))\n",
    "plt.vlines(v/c, 0, 100, colors='k', linestyles='dotted')\n",
    "plt.xlabel('redshift')\n",
    "plt.ylabel('number of galaxies')\n",
    "plt.ylim(ymax=95);"
   ]
  },
  {
   "cell_type": "markdown",
   "id": "16d6afd1-2f4f-4116-a82a-bdaf54c4502f",
   "metadata": {},
   "source": [
    "## Virgo Explicit Filtering"
   ]
  },
  {
   "cell_type": "code",
   "execution_count": null,
   "id": "f1c3651a-142d-421e-85c6-22339d562f6a",
   "metadata": {},
   "outputs": [],
   "source": [
    "(c_4r_in_Virgo, SGA_in_Virgo, SGA_ID_in_Virgo, centers_in_Virgo, axis_in_Virgo, Virgo_coords, v_Virgo, sep_Virgo) = = cluster_membership(100002)"
   ]
  },
  {
   "cell_type": "code",
   "execution_count": null,
   "id": "bcfe5a51-f477-4471-ba97-dd7a6065986c",
   "metadata": {},
   "outputs": [],
   "source": [
    "## make a bar graph of the angular separation \n",
    "plt.hist(sep[SGA_in_Virgo].to_value('degree'), bins=np.arange(0,5, 0.5))\n",
    "plt.xlabel('SGA-Virgo Angular Separation [deg]')\n",
    "plt.ylabel('number of galaxies');"
   ]
  },
  {
   "cell_type": "code",
   "execution_count": null,
   "id": "20e85870-e6cb-4c9c-9509-5f36ed54a891",
   "metadata": {
    "tags": []
   },
   "outputs": [],
   "source": [
    "## plot the physical locations and the redshifts of the cluster\n",
    "\n",
    "plt.figure(figsize=(15,5), tight_layout=True)\n",
    "\n",
    "plt.subplot(131)\n",
    "plt.plot(centers_in_Virgo['TARGET_RA'], centers_in_Virgo['TARGET_DEC'], '.')\n",
    "plt.plot(Virgo_coords.transform_to('icrs').ra.deg, Virgo_coords.transform_to('icrs').dec.deg, 'kx', ms=10, mew=5)\n",
    "plt.xlabel(r'$\\alpha$ [deg]')\n",
    "plt.ylabel(r'$\\delta$ [deg]')\n",
    "\n",
    "plt.subplot(132)\n",
    "plt.plot(centers_in_Virgo['Z'], centers_in_Virgo['TARGET_DEC'], '.')\n",
    "plt.plot(v/c, Virgo_coords.transform_to('icrs').dec.deg, 'kx', ms=10, mew=5)\n",
    "plt.xlabel('z')\n",
    "plt.ylabel(r'$\\delta$ [deg]')\n",
    "\n",
    "plt.subplot(133)\n",
    "plt.hist(centers_in_Virgo['Z'], bins=np.arange(0.02, .06, 0.01))\n",
    "plt.vlines(v/c, 0, 100, colors='k', linestyles='dotted')\n",
    "plt.xlabel('redshift')\n",
    "plt.ylabel('number of galaxies')\n",
    "plt.ylim(ymax=95);"
   ]
  },
  {
   "cell_type": "markdown",
   "id": "afc52565-f933-4b30-b212-273e247b517f",
   "metadata": {
    "tags": []
   },
   "source": [
    "## Abell-2151 Filtering"
   ]
  },
  {
   "cell_type": "code",
   "execution_count": null,
   "id": "351e435f-c00e-4cb9-94a4-25e6cda46291",
   "metadata": {
    "tags": []
   },
   "outputs": [],
   "source": [
    "## make a bar graph of the angular separation \n",
    "plt.hist(sep[SGA_in_cluster].to_value('degree'), bins=np.arange(0,5, 0.5))\n",
    "plt.xlabel('SGA-Abell-2151 Angular Separation [deg]')\n",
    "plt.ylabel('number of galaxies');"
   ]
  },
  {
   "cell_type": "code",
   "execution_count": null,
   "id": "34995364-fb09-44ce-9e8f-c4765ef90885",
   "metadata": {
    "tags": []
   },
   "outputs": [],
   "source": [
    "## plot the physical locations and the redshifts of the cluster\n",
    "\n",
    "plt.figure(figsize=(15,5), tight_layout=True)\n",
    "\n",
    "plt.subplot(131)\n",
    "plt.plot(centers_in_cluster['TARGET_RA'], centers_in_cluster['TARGET_DEC'], '.')\n",
    "plt.plot(cluster_coords.transform_to('icrs').ra.deg, cluster_coords.transform_to('icrs').dec.deg, 'kx', ms=10, mew=5)\n",
    "plt.xlabel(r'$\\alpha$ [deg]')\n",
    "plt.ylabel(r'$\\delta$ [deg]')\n",
    "\n",
    "plt.subplot(132)\n",
    "plt.plot(centers_in_cluster['Z'], centers_in_cluster['TARGET_DEC'], '.')\n",
    "plt.plot(v/c, cluster_coords.transform_to('icrs').dec.deg, 'kx', ms=10, mew=5)\n",
    "plt.xlabel('z')\n",
    "plt.ylabel(r'$\\delta$ [deg]')\n",
    "\n",
    "plt.subplot(133)\n",
    "plt.hist(centers_in_cluster['Z'], bins=np.arange(0.02, .06, 0.01))\n",
    "plt.vlines(v/c, 0, 100, colors='k', linestyles='dotted')\n",
    "plt.xlabel('redshift')\n",
    "plt.ylabel('number of galaxies')\n",
    "plt.ylim(ymax=95);"
   ]
  },
  {
   "cell_type": "code",
   "execution_count": null,
   "id": "a76c0eab-f315-4825-84c1-63ba308a18b2",
   "metadata": {
    "tags": []
   },
   "outputs": [],
   "source": [
    "axis_SGAids, axis_counts = np.unique(axis_in_cluster['SGA_ID'], return_counts=True)\n",
    "center_SGAids, center_counts = np.unique(centers_in_cluster['SGA_ID'], return_counts=True)\n",
    "\n",
    "counts = []\n",
    "\n",
    "for sga_id in SGA_ID_in_cluster:\n",
    "    \n",
    "    center_count = 0\n",
    "    axis_count = 0\n",
    "    \n",
    "    if sga_id in center_SGAids:\n",
    "        \n",
    "        center_count = center_counts[center_SGAids == sga_id]\n",
    "        \n",
    "    if sga_id in axis_SGAids:\n",
    "        \n",
    "        axis_count = axis_counts[axis_SGAids == sga_id]\n",
    "        \n",
    "    count = center_count + axis_count\n",
    "    \n",
    "    if count > 1:\n",
    "        \n",
    "        counts.append(count)\n",
    "        \n",
    "\n",
    "plt.figure(tight_layout=True)\n",
    "\n",
    "plt.hist(np.array(counts), bins=np.arange(2,15))\n",
    "\n",
    "plt.xlabel('Observations per SGA_ID in Abell-2151')\n",
    "plt.ylabel('count');"
   ]
  },
  {
   "cell_type": "markdown",
   "id": "e54f43b5-0c1b-4978-95b2-43abb83ffaee",
   "metadata": {},
   "source": [
    "### Calculate the rotational velocity"
   ]
  },
  {
   "cell_type": "code",
   "execution_count": null,
   "id": "b3b18e98-eca8-4746-ba6a-f9706b0a1c70",
   "metadata": {
    "tags": []
   },
   "outputs": [],
   "source": [
    "axis_in_cluster['SKY_FIBER_DIST'] = 0.\n",
    "axis_in_cluster['SKY_FIBER_DIST_R26'] = 0.\n",
    "axis_in_cluster['V_ROT'] = np.nan\n",
    "axis_in_cluster['V_ROT_ERR'] = np.nan\n",
    "\n",
    "\n",
    "# For each SGA galaxy that has at least one center observation, calculate the \n",
    "# distance for all of that galaxy's targets\n",
    "for sga_gal in np.unique(centers_in_cluster['SGA_ID']):\n",
    "    \n",
    "    # Identify all galaxy targets on this galaxy\n",
    "    obs_idx = axis_in_cluster['SGA_ID'] == sga_gal\n",
    "    \n",
    "    # Find galaxy index in SGA catalog\n",
    "    sga_idx = SGA_dict[sga_gal]\n",
    "    \n",
    "    #---------------------------------------------------------------------------\n",
    "    # Calculate distance between each observation and the center\n",
    "    #---------------------------------------------------------------------------\n",
    "    center_coords = SkyCoord(ra=SGA['RA'][sga_idx], \n",
    "                             dec=SGA['DEC'][sga_idx], \n",
    "                             unit=u.degree)\n",
    "    target_coords = SkyCoord(ra=axis_in_cluster['RA'][obs_idx], \n",
    "                             dec=axis_in_cluster['DEC'][obs_idx], \n",
    "                             unit=u.degree)\n",
    "    \n",
    "    sep2d = target_coords.separation(center_coords)\n",
    "    \n",
    "    axis_in_cluster['SKY_FIBER_DIST'][obs_idx] = sep2d\n",
    "    axis_in_cluster['SKY_FIBER_DIST_R26'][obs_idx] = 2*sep2d.to('arcmin')/(SGA['D26'][sga_idx]*u.arcmin)\n",
    "    #---------------------------------------------------------------------------\n",
    "    \n",
    "    \n",
    "    #---------------------------------------------------------------------------\n",
    "    # Calculate rotational velocity\n",
    "    #---------------------------------------------------------------------------\n",
    "    # Use the average redshift of all center observations for the systemic velocity\n",
    "    z_center = np.mean(SGA['Z_DESI'][sga_idx])\n",
    "    z_err_center2 = SGA['ZERR_DESI'][sga_idx]**2\n",
    "\n",
    "    # Calculate rotational velocity for all observations of the galaxy\n",
    "    axis_in_cluster['V_ROT'][obs_idx] = c*(axis_in_cluster['Z'][obs_idx] - z_center)\n",
    "    axis_in_cluster['V_ROT_ERR'][obs_idx] = c*np.sqrt(axis_in_cluster['ZERR'][obs_idx]**2 + z_err_center2)\n",
    "    #---------------------------------------------------------------------------\n",
    "    \n",
    "    \n",
    "    #---------------------------------------------------------------------------\n",
    "    # Correct rotational velocities for inclination angle\n",
    "    #---------------------------------------------------------------------------\n",
    "    cosi2 = (SGA['BA'][sga_idx]**2 - q0**2)/(1 - q0**2)\n",
    "    \n",
    "    # Galaxies with b/a < q0\n",
    "    if cosi2 < 0:\n",
    "        cosi2 = 0\n",
    "    \n",
    "    axis_in_cluster['V_ROT'][obs_idx] /= np.sin(np.arccos(np.sqrt(cosi2)))\n",
    "    #---------------------------------------------------------------------------"
   ]
  },
  {
   "cell_type": "code",
   "execution_count": null,
   "id": "ee2e4d32-c82c-49f2-bc2a-834b3f2b3b9c",
   "metadata": {
    "tags": []
   },
   "outputs": [],
   "source": [
    "plt.figure(tight_layout=True)\n",
    "\n",
    "plt.hist(np.abs(axis_in_cluster['V_ROT']), bins=np.linspace(0, 1000, 100))\n",
    "\n",
    "plt.xlabel('$V_{rot}$ [km/s]')\n",
    "plt.ylabel('number of observations');"
   ]
  },
  {
   "cell_type": "markdown",
   "id": "c3c1497b-7d35-42a3-92b5-10e59d211ccb",
   "metadata": {},
   "source": [
    "### Cut for Abell-2151 galaxies suitable for calibrating the TFR\n",
    "\n",
    "Requirements:\n",
    " * $10 < V_{rot} < 1000$ km/s at $0.33R_{26}$\n",
    " * $\\Delta V / V_{min} \\leq 5$\n",
    " * $i > 45^\\circ$\n",
    " * Spiral-type morphology\n",
    " * Passes visual inspection"
   ]
  },
  {
   "cell_type": "markdown",
   "id": "7a32e26b-1de9-4987-b656-19cab01fec40",
   "metadata": {},
   "source": [
    "#### Velocity Cut"
   ]
  },
  {
   "cell_type": "code",
   "execution_count": null,
   "id": "c8ce43d4-9e9b-4ec1-a61e-edfad380dc4c",
   "metadata": {
    "tags": []
   },
   "outputs": [],
   "source": [
    "r0p4 = (axis_in_cluster['SKY_FIBER_DIST_R26'] > 0.38) & (axis_in_cluster['SKY_FIBER_DIST_R26'] < 0.42)\n",
    "\n",
    "Vgood = (np.abs(axis_in_cluster['V_ROT']) < 1000) & (np.abs(axis_in_cluster['V_ROT']) > 10)\n",
    "\n",
    "good_axis_in_cluster = axis_in_cluster[r0p4 & Vgood]\n",
    "\n",
    "print(len(good_axis_in_cluster), len(np.unique(good_axis_in_cluster['SGA_ID'])))"
   ]
  },
  {
   "cell_type": "markdown",
   "id": "0835a66c-5f83-442c-ab72-b669fd202668",
   "metadata": {},
   "source": [
    "#### Relative Velocity Cut"
   ]
  },
  {
   "cell_type": "code",
   "execution_count": null,
   "id": "54bc0b60-a4c1-4f5d-be57-308be3e7fb93",
   "metadata": {
    "tags": []
   },
   "outputs": [],
   "source": [
    "good_deltaV = np.ones(len(good_axis_in_cluster), dtype=bool)\n",
    "\n",
    "for sga_id in np.unique(good_axis_in_cluster['SGA_ID']):\n",
    "    \n",
    "    # Identify all galaxy targets on this galaxy\n",
    "    obs_idx = good_axis_in_cluster['SGA_ID'] == sga_id\n",
    "    \n",
    "    n_obs = np.sum(obs_idx)\n",
    "    \n",
    "    if n_obs > 1:\n",
    "        \n",
    "        Vmin = np.min(np.abs(good_axis_in_cluster['V_ROT'][obs_idx]))\n",
    "        Vmax = np.max(np.abs(good_axis_in_cluster['V_ROT'][obs_idx]))\n",
    "        \n",
    "        v_norm_min = np.abs(good_axis_in_cluster['V_ROT'][obs_idx])/Vmin\n",
    "        v_norm_max = np.abs(good_axis_in_cluster['V_ROT'][obs_idx])/Vmax\n",
    "        \n",
    "        diff_matrix = np.abs(good_axis_in_cluster['V_ROT'][obs_idx]).reshape(n_obs, 1) - np.abs(good_axis_in_cluster['V_ROT'][obs_idx]).reshape(1, n_obs)\n",
    "        \n",
    "        diff_matrix_norm = diff_matrix/Vmin\n",
    "        \n",
    "        if np.any(np.abs(diff_matrix_norm) > 5.):\n",
    "            \n",
    "            '''\n",
    "            print(sga_id)\n",
    "            print(diff_matrix_norm)\n",
    "            print(1/v_norm_min.data)\n",
    "            print(v_norm_max.data)\n",
    "            print(good_axis_inComa[['TARGETID', 'V_ROT', 'PVTYPE', 'FILENAME', 'DELTACHI2', 'ZWARN']][obs_idx].pprint(max_width=-1))\n",
    "            ''';\n",
    "            \n",
    "            # Remove all observations with DELTACHI2 < 25\n",
    "            # Note: This also typically removes observations with ZWARN != 0\n",
    "            deltachi2_idx = good_axis_in_cluster['DELTACHI2'] >= 25\n",
    "            \n",
    "            good_deltaV[obs_idx & ~deltachi2_idx] = False\n",
    "            \n",
    "            good_obs_idx = obs_idx & deltachi2_idx\n",
    "            \n",
    "            n_obs_good = np.sum(good_obs_idx)\n",
    "            \n",
    "            # Check to make sure that, if there are still multiple observations, they all satisfy our relative velocity criteria\n",
    "            if n_obs_good > 1:\n",
    "                \n",
    "                Vmin = np.min(np.abs(good_axis_in_cluster['V_ROT'][good_obs_idx]))\n",
    "                \n",
    "                diff_matrix = np.abs(good_axis_in_cluster['V_ROT'][good_obs_idx]).reshape(n_obs_good, 1) - np.abs(good_axis_in_cluster['V_ROT'][good_obs_idx]).reshape(1, n_obs_good)\n",
    "                \n",
    "                diff_matrix_norm = diff_matrix/Vmin\n",
    "                \n",
    "                if np.any(np.abs(diff_matrix_norm) > 5.):\n",
    "                    '''\n",
    "                    print(sga_id)\n",
    "                    print(diff_matrix_norm)\n",
    "                    print(good_axis_inComa[['TARGETID', 'V_ROT', 'PVTYPE', 'FILENAME', 'DELTACHI2', 'ZWARN']][obs_idx].pprint(max_width=-1))\n",
    "                    ''';\n",
    "                    # Set all of these so that we don't look at this galaxy\n",
    "                    good_deltaV[good_obs_idx] = False"
   ]
  },
  {
   "cell_type": "code",
   "execution_count": null,
   "id": "85a549a5-4a7d-45d8-8d37-81fe13c7d8c1",
   "metadata": {
    "tags": []
   },
   "outputs": [],
   "source": [
    "good_deltaV_axis_in_cluster = good_axis_in_cluster[good_deltaV]\n",
    "\n",
    "print(len(good_deltaV_axis_in_cluster), len(np.unique(good_deltaV_axis_in_cluster['SGA_ID'])))"
   ]
  },
  {
   "cell_type": "markdown",
   "id": "c7c561ca-4110-4898-8ddd-6e1bc5a6cbbd",
   "metadata": {},
   "source": [
    "#### Inclination Angle Cut"
   ]
  },
  {
   "cell_type": "code",
   "execution_count": null,
   "id": "e3d8c7fe-93e8-4a71-a0fa-e4ea76e8c8ce",
   "metadata": {
    "tags": []
   },
   "outputs": [],
   "source": [
    "SGA['cosi2'] = (SGA['BA']**2 - q0**2)/(1 - q0**2)\n",
    "SGA['cosi2'][SGA['cosi2'] < 0] = 0\n",
    "\n",
    "good_deltaV_axis_in_cluster['iSGA'] = -1\n",
    "\n",
    "for i in range(len(good_deltaV_axis_in_cluster)):\n",
    "    \n",
    "    # Find galaxy in SGA\n",
    "    sga_idx = SGA_dict[good_deltaV_axis_in_cluster['SGA_ID'][i]]\n",
    "    \n",
    "    good_deltaV_axis_in_cluster['iSGA'][i] = sga_idx\n",
    "    \n",
    "good_deltaV_axis_in_cluster['cosi2'] = SGA['cosi2'][good_deltaV_axis_in_cluster['iSGA']]"
   ]
  },
  {
   "cell_type": "code",
   "execution_count": null,
   "id": "a7732e61-5397-4aa6-a338-f81b2b179704",
   "metadata": {
    "tags": []
   },
   "outputs": [],
   "source": [
    "i_min = 45. # degrees\n",
    "\n",
    "cosi2_max = np.cos(i_min*np.pi/180.)**2\n",
    "\n",
    "edge = good_deltaV_axis_in_cluster['cosi2'] <= cosi2_max\n",
    "\n",
    "good_edge_axis_in_cluster = good_deltaV_axis_in_cluster[edge]\n",
    "\n",
    "print(len(good_edge_axis_in_cluster), len(np.unique(good_edge_axis_in_cluster['SGA_ID'])))"
   ]
  },
  {
   "cell_type": "code",
   "execution_count": null,
   "id": "6edc3ddd-391d-4ca6-a064-322dbc86696a",
   "metadata": {
    "tags": []
   },
   "outputs": [],
   "source": [
    "plt.figure(tight_layout=True)\n",
    "\n",
    "plt.hist(np.arccos(np.sqrt(good_edge_axis_in_cluster['cosi2']))*180/np.pi, bins=np.linspace(0, 90, 10))\n",
    "\n",
    "plt.xlabel('inclination angle [deg]')\n",
    "plt.ylabel('number of observations');"
   ]
  },
  {
   "cell_type": "markdown",
   "id": "c3e6627f-af04-4974-b607-27f3ba61f0ba",
   "metadata": {},
   "source": [
    "#### Morphology Cut"
   ]
  },
  {
   "cell_type": "code",
   "execution_count": null,
   "id": "88efead7-ad80-4c69-8aa7-f19d5f756a75",
   "metadata": {
    "tags": []
   },
   "outputs": [],
   "source": [
    "good_edge_axis_in_cluster['MORPHTYPE'] = SGA['MORPHTYPE'][good_edge_axis_in_cluster['iSGA']]"
   ]
  },
  {
   "cell_type": "code",
   "execution_count": null,
   "id": "40afec86-1b63-4202-9fa8-fda0730feba2",
   "metadata": {
    "tags": []
   },
   "outputs": [],
   "source": [
    "spirals = np.zeros(len(good_edge_axis_in_cluster), dtype=bool)\n",
    "\n",
    "for i in range(len(good_edge_axis_in_cluster)):\n",
    "    \n",
    "    try:    \n",
    "        if (good_edge_axis_in_cluster['MORPHTYPE'][i][0] == 'S') and (good_edge_axis_in_cluster['MORPHTYPE'][i][:2] != 'S0'):\n",
    "            spirals[i] = True\n",
    "    except IndexError:\n",
    "        print(good_edge_axis_in_cluster['MORPHTYPE'][i])\n",
    "\n",
    "good_edge_spirals_axis_in_cluster = good_edge_axis_in_cluster[spirals]\n",
    "\n",
    "print(len(good_edge_spirals_axis_in_cluster), len(np.unique(good_edge_spirals_axis_in_cluster['SGA_ID'])))"
   ]
  },
  {
   "cell_type": "markdown",
   "id": "0f5c705f-7bba-45bf-a2a2-3c762a3337b1",
   "metadata": {},
   "source": [
    "Stopped at visual inspection cut because the number of galaxies dropped below 20."
   ]
  },
  {
   "cell_type": "markdown",
   "id": "3b8922b3-180d-4457-b8a4-314f1aece915",
   "metadata": {
    "tags": []
   },
   "source": [
    "## Virgo Filtering"
   ]
  },
  {
   "cell_type": "code",
   "execution_count": null,
   "id": "e2388f2d-3906-4f0f-89ed-4c067e7cc237",
   "metadata": {
    "tags": []
   },
   "outputs": [],
   "source": [
    "(c_4r_in_cluster, SGA_in_cluster, SGA_ID_in_cluster, centers_in_cluster, axis_in_cluster, cluster_coords, v, sep) = cluster_membership(100002)"
   ]
  },
  {
   "cell_type": "code",
   "execution_count": null,
   "id": "32ef20c6-4b03-437e-bce3-2b8c64f800af",
   "metadata": {},
   "outputs": [],
   "source": [
    "## make a bar graph of the angular separation \n",
    "plt.hist(sep[SGA_in_cluster].to_value('degree'), bins=np.arange(15,25, 0.5))\n",
    "plt.xlabel('SGA-Abell-2151 Angular Separation [deg]')\n",
    "plt.ylabel('number of galaxies');"
   ]
  },
  {
   "cell_type": "code",
   "execution_count": null,
   "id": "8ceff623-bb24-4814-97c8-7b4f434af6ce",
   "metadata": {
    "tags": []
   },
   "outputs": [],
   "source": [
    "# plt.plot(centers_in_cluster['TARGET_RA'], centers_in_cluster['TARGET_DEC'], '.')\n",
    "with open('virgo.txt', 'w') as f:\n",
    "    for ra, dec in centers_in_cluster['TARGET_RA', 'TARGET_DEC']:\n",
    "        f.write(f'{ra} {dec}\\n')"
   ]
  },
  {
   "cell_type": "code",
   "execution_count": null,
   "id": "873d0880-6fa2-482e-af52-bdab8035fc58",
   "metadata": {},
   "outputs": [],
   "source": [
    "## plot the physical locations and the redshifts of the cluster\n",
    "\n",
    "plt.figure(figsize=(15,5), tight_layout=True)\n",
    "\n",
    "plt.subplot(131)\n",
    "plt.plot(centers_in_cluster['TARGET_RA'], centers_in_cluster['TARGET_DEC'], '.')\n",
    "plt.plot(cluster_coords.transform_to('icrs').ra.deg, cluster_coords.transform_to('icrs').dec.deg, 'kx', ms=10, mew=5)\n",
    "plt.xlabel(r'$\\alpha$ [deg]')\n",
    "plt.ylabel(r'$\\delta$ [deg]')\n",
    "\n",
    "plt.subplot(132)\n",
    "plt.plot(centers_in_cluster['Z'], centers_in_cluster['TARGET_DEC'], '.')\n",
    "plt.plot(v/c, cluster_coords.transform_to('icrs').dec.deg, 'kx', ms=10, mew=5)\n",
    "plt.xlabel('z')\n",
    "plt.ylabel(r'$\\delta$ [deg]')\n",
    "\n",
    "plt.subplot(133)\n",
    "plt.hist(centers_in_cluster['Z'], bins=np.arange(0.001, .01, 0.0005))\n",
    "plt.vlines(v/c, 0, 100, colors='k', linestyles='dotted')\n",
    "plt.xlabel('redshift')\n",
    "plt.ylabel('number of galaxies')\n",
    "plt.ylim(ymax=95);"
   ]
  },
  {
   "cell_type": "code",
   "execution_count": null,
   "id": "4aa1b136-d11d-4ca2-95a2-ef6a2e6d9a5f",
   "metadata": {},
   "outputs": [],
   "source": [
    "axis_SGAids, axis_counts = np.unique(axis_in_cluster['SGA_ID'], return_counts=True)\n",
    "center_SGAids, center_counts = np.unique(centers_in_cluster['SGA_ID'], return_counts=True)\n",
    "\n",
    "counts = []\n",
    "\n",
    "for sga_id in SGA_ID_in_cluster:\n",
    "    \n",
    "    center_count = 0\n",
    "    axis_count = 0\n",
    "    \n",
    "    if sga_id in center_SGAids:\n",
    "        \n",
    "        center_count = center_counts[center_SGAids == sga_id]\n",
    "        \n",
    "    if sga_id in axis_SGAids:\n",
    "        \n",
    "        axis_count = axis_counts[axis_SGAids == sga_id]\n",
    "        \n",
    "    count = center_count + axis_count\n",
    "    \n",
    "    if count > 1:\n",
    "        \n",
    "        counts.append(count)\n",
    "        \n",
    "\n",
    "plt.figure(tight_layout=True)\n",
    "\n",
    "plt.hist(np.array(counts), bins=np.arange(2,15))\n",
    "\n",
    "plt.xlabel('Observations per SGA_ID in Abell-2151')\n",
    "plt.ylabel('count');"
   ]
  },
  {
   "cell_type": "markdown",
   "id": "7dd0861c-5170-4e20-8afd-7294e0b4933c",
   "metadata": {},
   "source": [
    "### Calculate the rotational velocity"
   ]
  },
  {
   "cell_type": "code",
   "execution_count": null,
   "id": "1958d2fc-1ef6-4eec-b4f8-a55090a0e35f",
   "metadata": {},
   "outputs": [],
   "source": [
    "axis_in_cluster['SKY_FIBER_DIST'] = 0.\n",
    "axis_in_cluster['SKY_FIBER_DIST_R26'] = 0.\n",
    "axis_in_cluster['V_ROT'] = np.nan\n",
    "axis_in_cluster['V_ROT_ERR'] = np.nan\n",
    "\n",
    "\n",
    "# For each SGA galaxy that has at least one center observation, calculate the \n",
    "# distance for all of that galaxy's targets\n",
    "for sga_gal in np.unique(centers_in_cluster['SGA_ID']):\n",
    "    \n",
    "    # Identify all galaxy targets on this galaxy\n",
    "    obs_idx = axis_in_cluster['SGA_ID'] == sga_gal\n",
    "    \n",
    "    # Find galaxy index in SGA catalog\n",
    "    sga_idx = SGA_dict[sga_gal]\n",
    "    \n",
    "    #---------------------------------------------------------------------------\n",
    "    # Calculate distance between each observation and the center\n",
    "    #---------------------------------------------------------------------------\n",
    "    center_coords = SkyCoord(ra=SGA['RA'][sga_idx], \n",
    "                             dec=SGA['DEC'][sga_idx], \n",
    "                             unit=u.degree)\n",
    "    target_coords = SkyCoord(ra=axis_in_cluster['RA'][obs_idx], \n",
    "                             dec=axis_in_cluster['DEC'][obs_idx], \n",
    "                             unit=u.degree)\n",
    "    \n",
    "    sep2d = target_coords.separation(center_coords)\n",
    "    \n",
    "    axis_in_cluster['SKY_FIBER_DIST'][obs_idx] = sep2d\n",
    "    axis_in_cluster['SKY_FIBER_DIST_R26'][obs_idx] = 2*sep2d.to('arcmin')/(SGA['D26'][sga_idx]*u.arcmin)\n",
    "    #---------------------------------------------------------------------------\n",
    "    \n",
    "    \n",
    "    #---------------------------------------------------------------------------\n",
    "    # Calculate rotational velocity\n",
    "    #---------------------------------------------------------------------------\n",
    "    # Use the average redshift of all center observations for the systemic velocity\n",
    "    z_center = np.mean(SGA['Z_DESI'][sga_idx])\n",
    "    z_err_center2 = SGA['ZERR_DESI'][sga_idx]**2\n",
    "\n",
    "    # Calculate rotational velocity for all observations of the galaxy\n",
    "    axis_in_cluster['V_ROT'][obs_idx] = c*(axis_in_cluster['Z'][obs_idx] - z_center)\n",
    "    axis_in_cluster['V_ROT_ERR'][obs_idx] = c*np.sqrt(axis_in_cluster['ZERR'][obs_idx]**2 + z_err_center2)\n",
    "    #---------------------------------------------------------------------------\n",
    "    \n",
    "    \n",
    "    #---------------------------------------------------------------------------\n",
    "    # Correct rotational velocities for inclination angle\n",
    "    #---------------------------------------------------------------------------\n",
    "    cosi2 = (SGA['BA'][sga_idx]**2 - q0**2)/(1 - q0**2)\n",
    "    \n",
    "    # Galaxies with b/a < q0\n",
    "    if cosi2 < 0:\n",
    "        cosi2 = 0\n",
    "    \n",
    "    axis_in_cluster['V_ROT'][obs_idx] /= np.sin(np.arccos(np.sqrt(cosi2)))\n",
    "    #---------------------------------------------------------------------------"
   ]
  },
  {
   "cell_type": "code",
   "execution_count": null,
   "id": "897a7465-bce0-4667-9b31-2882c3941850",
   "metadata": {},
   "outputs": [],
   "source": [
    "plt.figure(tight_layout=True)\n",
    "\n",
    "plt.hist(np.abs(axis_in_cluster['V_ROT']), bins=np.linspace(0, 1000, 100))\n",
    "\n",
    "plt.xlabel('$V_{rot}$ [km/s]')\n",
    "plt.ylabel('number of observations');"
   ]
  },
  {
   "cell_type": "markdown",
   "id": "4092f132-aa93-4327-a911-befd818bb3c7",
   "metadata": {},
   "source": [
    "### Cut for Virgo galaxies suitable for calibrating the TFR\n",
    "\n",
    "Requirements:\n",
    " * $10 < V_{rot} < 1000$ km/s at $0.33R_{26}$\n",
    " * $\\Delta V / V_{min} \\leq 5$\n",
    " * $i > 45^\\circ$\n",
    " * Spiral-type morphology\n",
    " * Passes visual inspection"
   ]
  },
  {
   "cell_type": "markdown",
   "id": "ed205ed0-981f-4379-ae92-2eefc235bf46",
   "metadata": {},
   "source": [
    "### Velocity cut"
   ]
  },
  {
   "cell_type": "code",
   "execution_count": null,
   "id": "93ab7bcd-b94e-4069-8a0c-46f6b44aff8f",
   "metadata": {},
   "outputs": [],
   "source": [
    "r0p4 = (axis_in_cluster['SKY_FIBER_DIST_R26'] > 0.38) & (axis_in_cluster['SKY_FIBER_DIST_R26'] < 0.42)\n",
    "\n",
    "Vgood = (np.abs(axis_in_cluster['V_ROT']) < 1000) & (np.abs(axis_in_cluster['V_ROT']) > 10)\n",
    "\n",
    "good_axis_in_cluster = axis_in_cluster[r0p4 & Vgood]\n",
    "\n",
    "print(len(good_axis_in_cluster), len(np.unique(good_axis_in_cluster['SGA_ID'])))"
   ]
  },
  {
   "cell_type": "markdown",
   "id": "316e0c01-c597-466e-a657-a5c30551eca9",
   "metadata": {},
   "source": [
    "### Relative velocity cut"
   ]
  },
  {
   "cell_type": "code",
   "execution_count": null,
   "id": "532f670b-734e-434a-aaea-fa27faa236d9",
   "metadata": {},
   "outputs": [],
   "source": [
    "good_deltaV = np.ones(len(good_axis_in_cluster), dtype=bool)\n",
    "\n",
    "for sga_id in np.unique(good_axis_in_cluster['SGA_ID']):\n",
    "    \n",
    "    # Identify all galaxy targets on this galaxy\n",
    "    obs_idx = good_axis_in_cluster['SGA_ID'] == sga_id\n",
    "    \n",
    "    n_obs = np.sum(obs_idx)\n",
    "    \n",
    "    if n_obs > 1:\n",
    "        \n",
    "        Vmin = np.min(np.abs(good_axis_in_cluster['V_ROT'][obs_idx]))\n",
    "        Vmax = np.max(np.abs(good_axis_in_cluster['V_ROT'][obs_idx]))\n",
    "        \n",
    "        v_norm_min = np.abs(good_axis_in_cluster['V_ROT'][obs_idx])/Vmin\n",
    "        v_norm_max = np.abs(good_axis_in_cluster['V_ROT'][obs_idx])/Vmax\n",
    "        \n",
    "        diff_matrix = np.abs(good_axis_in_cluster['V_ROT'][obs_idx]).reshape(n_obs, 1) - np.abs(good_axis_in_cluster['V_ROT'][obs_idx]).reshape(1, n_obs)\n",
    "        \n",
    "        diff_matrix_norm = diff_matrix/Vmin\n",
    "        \n",
    "        if np.any(np.abs(diff_matrix_norm) > 5.):\n",
    "            \n",
    "            '''\n",
    "            print(sga_id)\n",
    "            print(diff_matrix_norm)\n",
    "            print(1/v_norm_min.data)\n",
    "            print(v_norm_max.data)\n",
    "            print(good_axis_inComa[['TARGETID', 'V_ROT', 'PVTYPE', 'FILENAME', 'DELTACHI2', 'ZWARN']][obs_idx].pprint(max_width=-1))\n",
    "            ''';\n",
    "            \n",
    "            # Remove all observations with DELTACHI2 < 25\n",
    "            # Note: This also typically removes observations with ZWARN != 0\n",
    "            deltachi2_idx = good_axis_in_cluster['DELTACHI2'] >= 25\n",
    "            \n",
    "            good_deltaV[obs_idx & ~deltachi2_idx] = False\n",
    "            \n",
    "            good_obs_idx = obs_idx & deltachi2_idx\n",
    "            \n",
    "            n_obs_good = np.sum(good_obs_idx)\n",
    "            \n",
    "            # Check to make sure that, if there are still multiple observations, they all satisfy our relative velocity criteria\n",
    "            if n_obs_good > 1:\n",
    "                \n",
    "                Vmin = np.min(np.abs(good_axis_in_cluster['V_ROT'][good_obs_idx]))\n",
    "                \n",
    "                diff_matrix = np.abs(good_axis_in_cluster['V_ROT'][good_obs_idx]).reshape(n_obs_good, 1) - np.abs(good_axis_in_cluster['V_ROT'][good_obs_idx]).reshape(1, n_obs_good)\n",
    "                \n",
    "                diff_matrix_norm = diff_matrix/Vmin\n",
    "                \n",
    "                if np.any(np.abs(diff_matrix_norm) > 5.):\n",
    "                    '''\n",
    "                    print(sga_id)\n",
    "                    print(diff_matrix_norm)\n",
    "                    print(good_axis_inComa[['TARGETID', 'V_ROT', 'PVTYPE', 'FILENAME', 'DELTACHI2', 'ZWARN']][obs_idx].pprint(max_width=-1))\n",
    "                    ''';\n",
    "                    # Set all of these so that we don't look at this galaxy\n",
    "                    good_deltaV[good_obs_idx] = False"
   ]
  },
  {
   "cell_type": "code",
   "execution_count": null,
   "id": "b30bd118-4a70-47d4-95fc-efaa2e431580",
   "metadata": {},
   "outputs": [],
   "source": [
    "good_deltaV_axis_in_cluster = good_axis_in_cluster[good_deltaV]\n",
    "\n",
    "print(len(good_deltaV_axis_in_cluster), len(np.unique(good_deltaV_axis_in_cluster['SGA_ID'])))"
   ]
  },
  {
   "cell_type": "markdown",
   "id": "ec1b78d9-ba6c-46a5-ba94-fd01ecbd0255",
   "metadata": {},
   "source": [
    "### Inclination angle cut"
   ]
  },
  {
   "cell_type": "code",
   "execution_count": null,
   "id": "3b726b2d-a29e-43e4-8f55-690b2601d213",
   "metadata": {},
   "outputs": [],
   "source": [
    "SGA['cosi2'] = (SGA['BA']**2 - q0**2)/(1 - q0**2)\n",
    "SGA['cosi2'][SGA['cosi2'] < 0] = 0\n",
    "\n",
    "good_deltaV_axis_in_cluster['iSGA'] = -1\n",
    "\n",
    "for i in range(len(good_deltaV_axis_in_cluster)):\n",
    "    \n",
    "    # Find galaxy in SGA\n",
    "    sga_idx = SGA_dict[good_deltaV_axis_in_cluster['SGA_ID'][i]]\n",
    "    \n",
    "    good_deltaV_axis_in_cluster['iSGA'][i] = sga_idx\n",
    "    \n",
    "good_deltaV_axis_in_cluster['cosi2'] = SGA['cosi2'][good_deltaV_axis_in_cluster['iSGA']]"
   ]
  },
  {
   "cell_type": "code",
   "execution_count": null,
   "id": "4ea9fde9-ec0c-4094-b98a-a8e98c9f7ccb",
   "metadata": {},
   "outputs": [],
   "source": [
    "i_min = 45. # degrees\n",
    "\n",
    "cosi2_max = np.cos(i_min*np.pi/180.)**2\n",
    "\n",
    "edge = good_deltaV_axis_in_cluster['cosi2'] <= cosi2_max\n",
    "\n",
    "good_edge_axis_in_cluster = good_deltaV_axis_in_cluster[edge]\n",
    "\n",
    "print(len(good_edge_axis_in_cluster), len(np.unique(good_edge_axis_in_cluster['SGA_ID'])))"
   ]
  },
  {
   "cell_type": "code",
   "execution_count": null,
   "id": "f5630f91-10fc-4ba4-be41-0ad93c2c463a",
   "metadata": {},
   "outputs": [],
   "source": [
    "plt.figure(tight_layout=True)\n",
    "\n",
    "plt.hist(np.arccos(np.sqrt(good_edge_axis_in_cluster['cosi2']))*180/np.pi, bins=np.linspace(0, 90, 10))\n",
    "\n",
    "plt.xlabel('inclination angle [deg]')\n",
    "plt.ylabel('number of observations');"
   ]
  },
  {
   "cell_type": "markdown",
   "id": "63c99c24-0631-45e3-bcdb-d013bf37339e",
   "metadata": {},
   "source": [
    "### Morphology cut"
   ]
  },
  {
   "cell_type": "code",
   "execution_count": null,
   "id": "0588c483-a9df-411d-8bc0-000c1f154e6f",
   "metadata": {},
   "outputs": [],
   "source": [
    "good_edge_axis_in_cluster['MORPHTYPE'] = SGA['MORPHTYPE'][good_edge_axis_in_cluster['iSGA']]"
   ]
  },
  {
   "cell_type": "code",
   "execution_count": null,
   "id": "bffee613-b6a0-4759-8edb-927402ff0ef0",
   "metadata": {},
   "outputs": [],
   "source": [
    "spirals = np.zeros(len(good_edge_axis_in_cluster), dtype=bool)\n",
    "\n",
    "for i in range(len(good_edge_axis_in_cluster)):\n",
    "    \n",
    "    try:    \n",
    "        if (good_edge_axis_in_cluster['MORPHTYPE'][i][0] == 'S') and (good_edge_axis_in_cluster['MORPHTYPE'][i][:2] != 'S0'):\n",
    "            spirals[i] = True\n",
    "    except IndexError:\n",
    "        print(good_edge_axis_in_cluster['MORPHTYPE'][i])\n",
    "\n",
    "good_edge_spirals_axis_in_cluster = good_edge_axis_in_cluster[spirals]\n",
    "\n",
    "print(len(good_edge_spirals_axis_in_cluster), len(np.unique(good_edge_spirals_axis_in_cluster['SGA_ID'])))"
   ]
  },
  {
   "cell_type": "markdown",
   "id": "f76bed49-b72e-4369-9f0c-f16cf8bb1982",
   "metadata": {},
   "source": [
    "### Visual Inspection Cut"
   ]
  },
  {
   "cell_type": "code",
   "execution_count": null,
   "id": "c2e2adab-d340-4058-8694-858aa18678e6",
   "metadata": {
    "tags": []
   },
   "outputs": [],
   "source": [
    "def get_cutout(targetid, ra, dec, size, verbose=False):\n",
    "    \"\"\"Grab and cache legacy survey cutouts.\n",
    "    \n",
    "    Parameters\n",
    "    ----------\n",
    "    targetid : int\n",
    "        DESI target ID.\n",
    "    ra : float\n",
    "        Right ascension (degrees).\n",
    "    dec : float\n",
    "        Declination (degrees).\n",
    "    verbose : bool\n",
    "        Add some status messages if true.\n",
    "        \n",
    "    Returns\n",
    "    -------\n",
    "    img_name : str\n",
    "        Name of JPG cutout file written after query.\n",
    "    w : astropy.wcs.WCS\n",
    "        World coordinate system for the image.\n",
    "    \"\"\"\n",
    "    # Either load an existing image or download a cutout.\n",
    "    img_name = 'cache/iron_{}.jpg'.format(targetid)\n",
    "    \n",
    "    if os.path.exists(img_name):\n",
    "        if verbose:\n",
    "            print('{} exists.'.format(img_name))\n",
    "    else:\n",
    "        img_url = 'https://www.legacysurvey.org/viewer/cutout.jpg?ra={}&dec={}&zoom=14&layer=ls-dr9&size={}&sga'.format(ra, dec, size)\n",
    "        if verbose:\n",
    "            print('Get {}'.format(img_url))\n",
    "            \n",
    "        with open(img_name, 'wb') as handle: \n",
    "            response = requests.get(img_url, stream=True) \n",
    "            if not response.ok: \n",
    "                print(response) \n",
    "            for block in response.iter_content(1024): \n",
    "                if not block: \n",
    "                    break \n",
    "                handle.write(block)\n",
    "                \n",
    "    # Set up the WCS.\n",
    "    wcs_input_dict = {\n",
    "        'CTYPE1': 'RA---TAN',\n",
    "        'CUNIT1': 'deg',\n",
    "        'CDELT1': -0.262/3600,\n",
    "        'CRPIX1': size/2 + 0.5,\n",
    "        'CRVAL1': ra,\n",
    "        'NAXIS1': size,\n",
    "        'CTYPE2': 'DEC--TAN',\n",
    "        'CUNIT2': 'deg',\n",
    "        'CDELT2': 0.262/3600,\n",
    "        'CRPIX2': size/2 + 0.5,\n",
    "        'CRVAL2': dec,\n",
    "        'NAXIS2': size\n",
    "    }\n",
    "    w = WCS(wcs_input_dict)\n",
    "    \n",
    "    return img_name, w"
   ]
  },
  {
   "cell_type": "code",
   "execution_count": null,
   "id": "30d13259-724f-479d-9a8e-6ecaa3293fc7",
   "metadata": {
    "tags": []
   },
   "outputs": [],
   "source": [
    "for sga_id in np.unique(good_edge_spirals_axis_in_cluster['SGA_ID']):\n",
    "    \n",
    "    tf_list = good_edge_spirals_axis_in_cluster[good_edge_spirals_axis_in_cluster['SGA_ID'] == sga_id]\n",
    "    center_list = centers_in_cluster[centers_in_cluster['SGA_ID'] == sga_id]\n",
    "    \n",
    "    try:\n",
    "        targetid = int(center_list['TARGETID'][0])\n",
    "    except TypeError as err:\n",
    "        print(err)\n",
    "        # print(sga_galaxy['TARGETID'])\n",
    "        continue\n",
    "    \n",
    "    ra, dec, z = float(SGA['RA'][SGA_dict[sga_id]]), float(SGA['DEC'][SGA_dict[sga_id]]), float(SGA['Z_DESI'][SGA_dict[sga_id]])\n",
    "    \n",
    "    # D26 in arcmin\n",
    "    d26 = SGA['D26'][SGA_dict[sga_id]]\n",
    "    \n",
    "    # Padd the image cutout of the galaxy.\n",
    "    # Multiply by 60 (to arcsec), divide by 180 to get pixscale.\n",
    "#     pixscale = 1.05*d26*60/180\n",
    "    npix = np.minimum(int(1.025 * d26*60/0.262), 512)\n",
    "    \n",
    "    #print(targetid, sga_id, ra, dec)\n",
    "#     img_file = get_cutout(targetid, ra, dec, size=npix, verbose=True)\n",
    "    img_file, wcs = get_cutout(targetid, ra, dec, size=npix, verbose=True)\n",
    "    img = mpl.image.imread(img_file)\n",
    "\n",
    "    fig1 = plt.figure(figsize=(7,5))\n",
    "\n",
    "    ax = fig1.add_subplot(111, projection=wcs)\n",
    "    ax.imshow(np.flip(img, axis=0))\n",
    "    ax.set(xlabel='ra', ylabel='dec')\n",
    "    ax.text(int(0.02*npix), int(0.85*npix), 'TARGETID: {}\\nSGA_ID: {}\\n$z={{{:.4f}}}$'.format(targetid, sga_id, z), fontsize=9, color='yellow')\n",
    "    overlay = ax.get_coords_overlay('icrs')\n",
    "    overlay.grid(color='white', ls='dotted');\n",
    "\n",
    "    # Add the location of the DESI fibers.\n",
    "    # SDSS fibers are 2\" diameter, DESI is 107 um with 70 um/\" plate scale.\n",
    "    r1 = SphericalCircle((ra * u.deg, dec * u.deg), (107./70) * u.arcsec,\n",
    "                         edgecolor='black', facecolor='none', alpha=0.8, lw=3,\n",
    "                         transform=ax.get_transform('icrs'))\n",
    "    r2 = SphericalCircle((ra * u.deg, dec * u.deg), (107./70) * u.arcsec,\n",
    "                         edgecolor='red', facecolor='none', alpha=0.8, lw=2,\n",
    "                         transform=ax.get_transform('icrs'))\n",
    "    ax.add_patch(r1)\n",
    "    ax.add_patch(r2)\n",
    "\n",
    "    for tft in tf_list:\n",
    "        ra, dec = tft['RA'], tft['DEC']\n",
    "        \n",
    "        edgecolor2 = 'orange'\n",
    "#         if tft['Z'] > 0.05:\n",
    "#             edgecolor2 = 'orange'\n",
    "#         else:\n",
    "#             edgecolor2 = 'lime'\n",
    "        \n",
    "        # Add the location of the DESI fibers.\n",
    "        # SDSS fibers are 2\" diameter, DESI is 107 um with 70 um/\" plate scale.\n",
    "        r1 = SphericalCircle((ra * u.deg, dec * u.deg), (107./70) * u.arcsec,\n",
    "                             edgecolor='lightcoral', facecolor='none', alpha=1, lw=3,\n",
    "                             transform=ax.get_transform('icrs'))\n",
    "        r2 = SphericalCircle((ra * u.deg, dec * u.deg), (107./70) * u.arcsec,\n",
    "                             edgecolor=edgecolor2, facecolor='none', alpha=0.8, lw=2,\n",
    "                             transform=ax.get_transform('icrs'))\n",
    "        ax.add_patch(r1)\n",
    "        ax.add_patch(r2)\n",
    "        \n",
    "        ax.text(ra, dec, str(tft['TARGETID']), transform=ax.get_transform('icrs'), color='white')\n",
    "    \n",
    "    fig1.subplots_adjust(top=0.85, right=0.85, bottom=0.15, left=0.15)\n",
    "    \n",
    "    fig1.savefig('cache/iron_VI_cutouts/dist_{}.png'.format(sga_id), dpi=120)\n",
    "    \n",
    "    fig1.clear()\n",
    "    plt.close(fig1)\n",
    "    '''\n",
    "    #----------------------------------------------------------------------------------\n",
    "    # Get spectra\n",
    "    #----------------------------------------------------------------------------------\n",
    "    coadds = get_spectra_for_sga(good_edge_spirals_axis_inComa, sga_id)\n",
    "    n = coadds.num_spectra()\n",
    "\n",
    "    fig2, axes = plt.subplots(n,1, figsize=(8,4*n), sharex=True, sharey=True, tight_layout=True)\n",
    "\n",
    "    for i in range(n):\n",
    "        wave = coadds.wave['brz']\n",
    "        flux = coadds.flux['brz'][i]\n",
    "        smoothed = gaussian_filter1d(flux, 7)\n",
    "\n",
    "        ax = axes[i]\n",
    "        ax.plot(wave, smoothed, label='TARGETID: {}'.format(coadds.fibermap['TARGETID'][i]))\n",
    "        ax.set(ylabel=r'flux [$10^{-17}$ erg cm$^{-2}$ s$^{-1}$ $\\AA^{-1}$]')\n",
    "        if i+1 == n:\n",
    "            ax.set(xlabel=r'$\\lambda_\\mathrm{obs}$ [$\\AA$]')\n",
    "\n",
    "        ax.legend(loc='upper right', fontsize=10)\n",
    "    \n",
    "    # figure = PdfPages('cache/DM_cutouts/dist_{}.pdf'.format(sga_id))\n",
    "    # figure.savefig(fig1, dpi = 300)\n",
    "    # figure.savefig(fig2, dpi = 120)\n",
    "    # figure.close()\n",
    "    \n",
    "    break\n",
    "    ''';"
   ]
  },
  {
   "cell_type": "code",
   "execution_count": null,
   "id": "45db3936-3f63-41e8-b403-74439347b1a9",
   "metadata": {},
   "outputs": [],
   "source": []
  }
 ],
 "metadata": {
  "kernelspec": {
   "display_name": "DESI main",
   "language": "python",
   "name": "desi-main"
  },
  "language_info": {
   "codemirror_mode": {
    "name": "ipython",
    "version": 3
   },
   "file_extension": ".py",
   "mimetype": "text/x-python",
   "name": "python",
   "nbconvert_exporter": "python",
   "pygments_lexer": "ipython3",
   "version": "3.10.8"
  }
 },
 "nbformat": 4,
 "nbformat_minor": 5
}
