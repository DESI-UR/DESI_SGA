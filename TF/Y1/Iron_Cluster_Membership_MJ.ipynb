{
 "cells": [
  {
   "cell_type": "markdown",
   "id": "1c1bf435-46fb-4ece-aae1-101cc1c7e0c0",
   "metadata": {},
   "source": [
    "# DESI Iron\n",
    "Determine how many galaxies were observed in DESI Iron that are good TF targets by finding the number of unique galaxies observed with observations at the center and at .4R."
   ]
  },
  {
   "cell_type": "code",
   "execution_count": null,
   "id": "c91c091b-527b-471c-871a-fdce09042aba",
   "metadata": {},
   "outputs": [],
   "source": [
    "## Module imports and constant definitions \n",
    "from astropy.table import unique, Table\n",
    "from astropy.coordinates import SkyCoord\n",
    "from astropy.io import fits \n",
    "\n",
    "import astropy.units as u\n",
    "import numpy as np\n",
    "import matplotlib as mpl\n",
    "import matplotlib.pyplot as plt \n",
    "\n",
    "from tqdm.auto import tqdm\n",
    "\n",
    "import os\n",
    "\n",
    "import requests\n",
    "\n",
    "from astropy.wcs import WCS\n",
    "from astropy.visualization.wcsaxes import SphericalCircle\n",
    "\n",
    "h = 1\n",
    "H0 = 100*h\n",
    "c = 3e5\n",
    "q0 = 0.2\n",
    "V0 = 2.5 # 0-point of TFR"
   ]
  },
  {
   "cell_type": "markdown",
   "id": "abc3d297-c99d-431a-9a53-10e56cd5f8e6",
   "metadata": {},
   "source": [
    "### Iron Data\n",
    "We read in the Iron data to use throughout the notebook. Commented out below is the Fuji data, to use to check against when necessary. "
   ]
  },
  {
   "cell_type": "code",
   "execution_count": null,
   "id": "aa84685f-3a0f-4f0c-a42f-2ff03812704c",
   "metadata": {},
   "outputs": [],
   "source": [
    "tiron = Table.read('/global/cfs/projectdirs/desi/science/td/pv/desi_pv_tf_iron_healpix.fits')\n",
    "#tiron = Table.read('/global/cfs/projectdirs/desi/science/td/pv/desi_pv_tf_fuji_healpix.fits')\n",
    "\n",
    "tiron[:5]"
   ]
  },
  {
   "cell_type": "markdown",
   "id": "31806e8d-bcce-4584-9944-7e3620f1a5ee",
   "metadata": {},
   "source": [
    "### SGA\n",
    "We read in the SGA to use throughout the notebook. "
   ]
  },
  {
   "cell_type": "code",
   "execution_count": null,
   "id": "ad24a524-771b-42d2-a434-5e7168a65d56",
   "metadata": {},
   "outputs": [],
   "source": [
    "SGA = Table.read('/global/cfs/cdirs/cosmo/data/sga/2020/SGA-2020.fits', 'ELLIPSE')\n",
    "\n",
    "## Create a dictionary of SGA IDs to find row indices \n",
    "SGA_dict = {}\n",
    "for i in range(len(SGA)):\n",
    "    SGA_dict[SGA['SGA_ID'][i]] = i\n",
    "\n",
    "SGA[:5]"
   ]
  },
  {
   "cell_type": "markdown",
   "id": "4f70ba30-c59c-4e6f-8f78-bbafbb7db5cc",
   "metadata": {
    "tags": []
   },
   "source": [
    "## Separation between Galaxies and Observations\n",
    "Find all targets on each galaxy, and then calculate distance between SGA center coordinates and observation coordinates. Store the lists of center and axis observations as `iron_centers` and `iron_axis`."
   ]
  },
  {
   "cell_type": "code",
   "execution_count": null,
   "id": "9de47cfb-0760-41a8-a46e-3d09a7995bff",
   "metadata": {},
   "outputs": [],
   "source": [
    "tiron['SKY_FIBER_DIST'] = 0.\n",
    "tiron['SKY_FIBER_DIST_R26'] = 0.\n",
    "\n",
    "## For each SGA galaxy that has 1+ observations, calculate distance for all of its targets\n",
    "for sga_id in tqdm(np.unique(tiron['SGA_ID'])):\n",
    "    \n",
    "    ## Identify all galaxy targets on this galaxy\n",
    "    obs_idx = tiron['SGA_ID'] == sga_id\n",
    "    \n",
    "    ## Find galaxy index in SGA catalog\n",
    "    sga_idx = SGA_dict[sga_id]\n",
    "    \n",
    "    ## Calculate distance between each observation and the center of the galaxy\n",
    "    SGA_coords = SkyCoord(ra=SGA['RA'][sga_idx], \n",
    "                          dec=SGA['DEC'][sga_idx], \n",
    "                          unit=u.degree)\n",
    "    target_coords = SkyCoord(ra=tiron['RA'][obs_idx], \n",
    "                             dec=tiron['DEC'][obs_idx], \n",
    "                             unit=u.degree)\n",
    "    sep2d = target_coords.separation(SGA_coords)\n",
    "    \n",
    "    ## Add the distance to the tiron table\n",
    "    tiron['SKY_FIBER_DIST'][obs_idx] = sep2d\n",
    "    ## Add the distance in R26 to the tiron table \n",
    "    tiron['SKY_FIBER_DIST_R26'][obs_idx] = 2*sep2d.to('arcmin')/(SGA['D26'][sga_idx]*u.arcmin)\n",
    "\n",
    "## Isolate the centers to be those measurements where the distance is <.1*R26\n",
    "centers_boolean = tiron['SKY_FIBER_DIST_R26'] < 0.1\n",
    "\n",
    "## Sort observations into center and axis observations \n",
    "iron_centers = tiron[centers_boolean]\n",
    "iron_axis = tiron[~centers_boolean]"
   ]
  },
  {
   "cell_type": "markdown",
   "id": "0a5f7f3d-d393-41c0-ab49-99bd83ee6fd2",
   "metadata": {
    "tags": []
   },
   "source": [
    "## Cleaning Iron Center Observations\n",
    "\n",
    "Only keep observations with\n",
    " * `DELTACHI2` > 25\n",
    " * `ZWARN` == 0"
   ]
  },
  {
   "cell_type": "code",
   "execution_count": null,
   "id": "4b8c19d5-7747-4d99-9829-83e888e66891",
   "metadata": {},
   "outputs": [],
   "source": [
    "good_centers = iron_centers[(iron_centers['DELTACHI2'] > 25) & (iron_centers['ZWARN'] == 0)]\n",
    "\n",
    "## Check for multiple good center observations \n",
    "unique_ids, counts = np.unique(good_centers['SGA_ID'], return_counts=True)"
   ]
  },
  {
   "cell_type": "markdown",
   "id": "58de30ed-2506-4927-81d9-36f12c3f2501",
   "metadata": {},
   "source": [
    "If there is at least one good center observation, set the galaxy's redshift as the weighted average of all observation redshifts."
   ]
  },
  {
   "cell_type": "code",
   "execution_count": null,
   "id": "6d101817-1731-4890-8d65-1635cbcc29ea",
   "metadata": {},
   "outputs": [],
   "source": [
    "SGA['Z_DESI'] = np.nan\n",
    "SGA['ZERR_DESI'] = np.nan\n",
    "\n",
    "weights = 1./(good_centers['ZERR']**2)\n",
    "\n",
    "for sga_id in np.unique(good_centers['SGA_ID']):\n",
    "    \n",
    "    ## Find all the center observations of this galaxy\n",
    "    obs_idx = good_centers['SGA_ID'] == sga_id\n",
    "    \n",
    "    ## Find the row in SGA for this galaxy\n",
    "    SGA_idx = SGA_dict[sga_id]\n",
    "    \n",
    "    # Set the redshift of this galaxy to be weighted average of all good center observation redshifts\n",
    "    SGA['Z_DESI'][SGA_idx] = np.average(good_centers['Z'][obs_idx], \n",
    "                                        weights=weights[obs_idx])\n",
    "    SGA['ZERR_DESI'][SGA_idx] = np.sqrt(1./np.sum(weights[obs_idx]))"
   ]
  },
  {
   "cell_type": "markdown",
   "id": "9d4c25a0-7443-41a8-8b22-c63c569359f1",
   "metadata": {},
   "source": [
    "Determine how many observations we have at $.4R$ that have a corresponding center observation for that galaxy."
   ]
  },
  {
   "cell_type": "code",
   "execution_count": null,
   "id": "8e88bba0-2f44-4d3c-87ed-498790d840a3",
   "metadata": {},
   "outputs": [],
   "source": [
    "## Include all observations where .38R < distance < .42R in our .4R values\n",
    "r0p4 = iron_axis[(iron_axis['SKY_FIBER_DIST_R26'] > 0.38) & (iron_axis['SKY_FIBER_DIST_R26'] < 0.42)]\n",
    "\n",
    "## Count how many of these are unique values\n",
    "unique_centers = np.unique(good_centers['SGA_ID'])\n",
    "unique_r0p4 = np.unique(r0p4['SGA_ID'])\n",
    "\n",
    "centers_and_p4s = []\n",
    "for i in unique_r0p4: \n",
    "    if i in unique_centers: \n",
    "        centers_and_p4s.append(i)\n",
    "\n",
    "## Output the number of observations that are generally good for TF fitting\n",
    "print(len(centers_and_p4s),\" unique galaxies with center and .4R observations\")\n",
    "\n",
    "## Find the percentage of all Iron galaxies that are generally good for TF fitting\n",
    "num_iron = len(np.unique(tiron['SGA_ID']))\n",
    "percentage_TF = 100*((len(centers_and_p4s))/num_iron)\n",
    "print(percentage_TF,\"% of all Iron galaxies\")"
   ]
  },
  {
   "cell_type": "markdown",
   "id": "9e416821-3b21-4d57-9fdb-08fa1bbb359a",
   "metadata": {},
   "source": [
    "## Cluster Membership\n",
    "Following Cosmicflows4 (Kourkchi et al. 2020), cluster membership is defined as\n",
    "- $R_p < 1.5R_{2t}$ and $v < V_c \\pm 3\\sigma_p$\n",
    "- $1.5R_{2t} \\leq R_p < 3R_{2t}$ and $v < V_c \\pm 2\\sigma_p$\n",
    "\n",
    "where $R_p$ is the projected distance from the cluster center, $R_{2t}$ is the cluster projected second turnaround radius, $\\sigma_p$ is the projected velocity dispersion of the cluster, and $V_c$ is the average heliocentric radial velocity of the cluster."
   ]
  },
  {
   "cell_type": "markdown",
   "id": "33ea30be-9731-432a-a913-94a77f955d5c",
   "metadata": {},
   "source": [
    "### Tully et. al. (2015) Table 3"
   ]
  },
  {
   "cell_type": "code",
   "execution_count": null,
   "id": "26c1a91d-44dc-44db-bb5e-66df5431a997",
   "metadata": {},
   "outputs": [],
   "source": [
    "hdu = fits.open(\"../Tully15-Table3.fits\")\n",
    "table3 = Table(hdu[1].data)\n",
    "table3.rename_column(\"<Vcmba>\",\"VMod\")\n",
    "hdu.close()\n",
    "\n",
    "table3_dict = {}\n",
    "for i in range(len(table3)):\n",
    "    table3_dict[table3['Nest'][i]] = i\n",
    "\n",
    "table3[:5]"
   ]
  },
  {
   "cell_type": "code",
   "execution_count": null,
   "id": "4b9cb196-6f03-4eb6-935d-2ddcf643a672",
   "metadata": {
    "tags": []
   },
   "outputs": [],
   "source": [
    "## Check a suspicious value from later on in the notebook\n",
    "table3[table3['Nest'] == 100526]"
   ]
  },
  {
   "cell_type": "code",
   "execution_count": null,
   "id": "5e0fd8de-2802-449f-a0bb-6cffb71e2b2b",
   "metadata": {
    "tags": []
   },
   "outputs": [],
   "source": [
    "## Continue the suspicious value check \n",
    "cluster_coord = SkyCoord(table3['SGLON'][table3['Nest'] == 100526]*u.degree, \n",
    "                         table3['SGLAT'][table3['Nest'] == 100526]*u.degree, \n",
    "                         frame='supergalactic')\n",
    "print(cluster_coord.transform_to('icrs'))"
   ]
  },
  {
   "cell_type": "markdown",
   "id": "a262e259-6cf9-403f-90c9-d1d6942d97c8",
   "metadata": {},
   "source": [
    "### Tully et. al (2013) Table 2"
   ]
  },
  {
   "cell_type": "code",
   "execution_count": null,
   "id": "195c06ac-1dec-4862-8046-9d8aa09d3171",
   "metadata": {
    "tags": []
   },
   "outputs": [],
   "source": [
    "hdu = fits.open(\"../Tully13-Table2.fit\")\n",
    "table2 = Table(hdu[1].data)\n",
    "hdu.close()\n",
    "\n",
    "table2[:5]"
   ]
  },
  {
   "cell_type": "markdown",
   "id": "00b6499f-039b-4712-a3fb-fd9623025ed8",
   "metadata": {},
   "source": [
    "Loop through the SGA table and collect just the rows with `SGA_ID` values that are included in `centers_and_p4s` in a new table."
   ]
  },
  {
   "cell_type": "code",
   "execution_count": null,
   "id": "c0606ad9-c9df-46a8-b055-7300727cd250",
   "metadata": {},
   "outputs": [],
   "source": [
    "SGA.add_index(\"SGA_ID\")\n",
    "TF_SGA_cp4 = SGA.loc[centers_and_p4s]\n",
    "\n",
    "TF_SGA_cp4[:5]"
   ]
  },
  {
   "cell_type": "markdown",
   "id": "c4e6976a-390e-41e6-b8d0-252191dd7d68",
   "metadata": {},
   "source": [
    "## Determine Iron Cluster Membership\n",
    "This cell loops through all Nest numbers given in Tully 2015 Table 3, determines the coordinates, and matches galaxies to their nearest cluster. It collects the center and axis observations for each cluster, and stores the Nest number in `full_clusters` along with a table of center and axis observations in `c_4r_in_cluster`. \n",
    "\n",
    "At present, this cell is returning some suspicious values."
   ]
  },
  {
   "cell_type": "code",
   "execution_count": null,
   "id": "fd1c5dfd-5423-42b2-9a5f-c2b3a2101b39",
   "metadata": {
    "tags": []
   },
   "outputs": [],
   "source": [
    "full_cluster = [] \n",
    "c_4r_in_cluster = []\n",
    "\n",
    "for nest_id in tqdm(table3[\"Nest\"]):\n",
    "    ## Set active row for each nest number and base values \n",
    "    active_row = table3_dict[nest_id]\n",
    "    R2t = table3[\"R2t\"][active_row]\n",
    "    sigma = table3[\"sigP\"][active_row]\n",
    "    \n",
    "    ## Find the coordinates for each cluster\n",
    "    cluster_coords = SkyCoord(table3[\"SGLON\"][active_row]*u.degree, \n",
    "                       table3[\"SGLAT\"][active_row]*u.degree, \n",
    "                       frame='supergalactic')\n",
    "    \n",
    "    group_coords = SkyCoord(table2['SGLON']*u.degree, \n",
    "                        table2['SGLAT']*u.degree, \n",
    "                        frame='supergalactic')\n",
    "    \n",
    "    ## Match cluster to group coordinates \n",
    "    idx, d2d, d3d = cluster_coords.match_to_catalog_sky(group_coords)\n",
    "    v = table2[\"__HV_\"][idx]\n",
    "    \n",
    "    ## Match SGA coordinates from unique galaxies to nearest cluster\n",
    "    SGA_coords = SkyCoord(TF_SGA_cp4['RA'], TF_SGA_cp4['DEC'], unit='deg')\n",
    "    sep = cluster_coords.separation(SGA_coords)\n",
    "\n",
    "    ## Convert R2t to an angle \n",
    "    R2t_angle = (R2t/(v/H0))*u.radian\n",
    "    \n",
    "    SGA_in_cluster1 = (sep < 1.5*R2t_angle) & (TF_SGA_cp4[\"Z_DESI\"]*c > v - 3*sigma) & (TF_SGA_cp4[\"Z_DESI\"]*c < v + 3*sigma)\n",
    "    SGA_in_cluster2 = (sep >= 1.5*R2t_angle) & (sep < 3*R2t_angle) & (TF_SGA_cp4[\"Z_DESI\"]*c > v - 2*sigma) & (TF_SGA_cp4[\"Z_DESI\"]*c < v + 2*sigma)\n",
    "    \n",
    "    SGA_in_cluster = SGA_in_cluster1 | SGA_in_cluster2\n",
    "    \n",
    "    ## Keep observations that are within nest cluster \n",
    "    SGA_ID_in_cluster = TF_SGA_cp4[\"SGA_ID\"][SGA_in_cluster]\n",
    "    \n",
    "    ## Gather centers and axes in the cluster\n",
    "    centers_in_cluster = good_centers[np.in1d(good_centers['SGA_ID'], SGA_ID_in_cluster)]\n",
    "    axis_in_cluster = iron_axis[np.in1d(iron_axis['SGA_ID'], SGA_ID_in_cluster)]\n",
    "    \n",
    "    if len(SGA_ID_in_cluster) > 20:\n",
    "        print(\"CLUSTER ID:\", nest_id, \"--\", len(SGA_ID_in_cluster), \"GALAXIES.\"),\n",
    "        full_cluster.append(nest_id)\n",
    "        c_4r_in_cluster.append(SGA_ID_in_cluster)"
   ]
  }
 ],
 "metadata": {
  "kernelspec": {
   "display_name": "DESI main",
   "language": "python",
   "name": "desi-main"
  },
  "language_info": {
   "codemirror_mode": {
    "name": "ipython",
    "version": 3
   },
   "file_extension": ".py",
   "mimetype": "text/x-python",
   "name": "python",
   "nbconvert_exporter": "python",
   "pygments_lexer": "ipython3",
   "version": "3.10.8"
  }
 },
 "nbformat": 4,
 "nbformat_minor": 5
}
