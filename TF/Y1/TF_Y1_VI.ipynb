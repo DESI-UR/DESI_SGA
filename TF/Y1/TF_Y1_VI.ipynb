{
 "cells": [
  {
   "cell_type": "markdown",
   "id": "895522dc-5085-407d-b454-e7c829cfda0c",
   "metadata": {},
   "source": [
    "Generate cutouts to perform VI for the galaxies in the Y1 TFR calibration.  The goal is to remove observations that are contaminated by foreground stars or other galaxies."
   ]
  },
  {
   "cell_type": "code",
   "execution_count": 8,
   "id": "e4f56c60-6e62-44f0-ba15-437be2686899",
   "metadata": {
    "tags": []
   },
   "outputs": [],
   "source": [
    "import requests\n",
    "\n",
    "from astropy.table import Table\n",
    "from astropy.wcs import WCS\n",
    "from astropy.visualization.wcsaxes import SphericalCircle\n",
    "from astropy.coordinates import SkyCoord\n",
    "import astropy.units as u\n",
    "\n",
    "import numpy as np\n",
    "\n",
    "import os\n",
    "\n",
    "import matplotlib as mpl\n",
    "import matplotlib.pyplot as plt"
   ]
  },
  {
   "cell_type": "markdown",
   "id": "38750451-6054-49d0-ab12-e76d8b315a4d",
   "metadata": {},
   "source": [
    "# Data"
   ]
  },
  {
   "cell_type": "markdown",
   "id": "31d2fab5-9eee-4cc4-a638-75201e84c857",
   "metadata": {},
   "source": [
    "## Full Iron PV catalog\n",
    "\n",
    "This is needed for all the targetids"
   ]
  },
  {
   "cell_type": "code",
   "execution_count": 2,
   "id": "34ca90b8-637f-4ab3-8d27-1fc5d0c157f8",
   "metadata": {
    "tags": []
   },
   "outputs": [],
   "source": [
    "tiron = Table.read('/global/cfs/projectdirs/desi/science/td/pv/desi_pv_tf_iron_healpix.fits')"
   ]
  },
  {
   "cell_type": "markdown",
   "id": "e5106578-0536-4534-bf3f-d31852405851",
   "metadata": {},
   "source": [
    "## SGA catalog with Iron galaxies\n",
    "\n",
    "These have already had some quality cuts applied ($10 < V < 1000$ km/s and $\\Delta V / V_\\text{min} < 5$)."
   ]
  },
  {
   "cell_type": "code",
   "execution_count": 3,
   "id": "cab7a42a-ac63-42cd-b02f-14931f8da731",
   "metadata": {
    "tags": []
   },
   "outputs": [],
   "source": [
    "SGA = Table.read('/global/cfs/cdirs/desi/science/td/pv/tfgalaxies/Y1/SGA-2020_iron_Vrot.fits')"
   ]
  },
  {
   "cell_type": "markdown",
   "id": "554b3c6f-7eeb-4d4b-ac20-3304f49edb2b",
   "metadata": {},
   "source": [
    "# Generate cutouts"
   ]
  },
  {
   "cell_type": "code",
   "execution_count": 6,
   "id": "19caa72f-90cd-4207-84e5-96b0afcc371e",
   "metadata": {
    "tags": []
   },
   "outputs": [],
   "source": [
    "def get_cutout(sgaid, ra, dec, size, verbose=False):\n",
    "    \"\"\"Grab and cache legacy survey cutouts.\n",
    "    \n",
    "    Parameters\n",
    "    ----------\n",
    "    sgaid : int\n",
    "        SGA galaxy ID.\n",
    "    ra : float\n",
    "        Right ascension (degrees).\n",
    "    dec : float\n",
    "        Declination (degrees).\n",
    "    verbose : bool\n",
    "        Add some status messages if true.\n",
    "        \n",
    "    Returns\n",
    "    -------\n",
    "    img_name : str\n",
    "        Name of JPG cutout file written after query.\n",
    "    w : astropy.wcs.WCS\n",
    "        World coordinate system for the image.\n",
    "    \"\"\"\n",
    "    # Either load an existing image or download a cutout.\n",
    "    img_name = 'cache/sga_{}.jpg'.format(sgaid)\n",
    "    \n",
    "    if os.path.exists(img_name):\n",
    "        if verbose:\n",
    "            print('{} exists.'.format(img_name))\n",
    "    else:\n",
    "        img_url = 'https://www.legacysurvey.org/viewer/cutout.jpg?ra={}&dec={}&zoom=14&layer=ls-dr9&size={}&sga'.format(ra, dec, size)\n",
    "        if verbose:\n",
    "            print('Get {}'.format(img_url))\n",
    "            \n",
    "        with open(img_name, 'wb') as handle: \n",
    "            response = requests.get(img_url, stream=True) \n",
    "            if not response.ok: \n",
    "                print(response) \n",
    "            for block in response.iter_content(1024): \n",
    "                if not block: \n",
    "                    break \n",
    "                handle.write(block)\n",
    "                \n",
    "    # Set up the WCS.\n",
    "    wcs_input_dict = {\n",
    "        'CTYPE1': 'RA---TAN',\n",
    "        'CUNIT1': 'deg',\n",
    "        'CDELT1': -0.262/3600,\n",
    "        'CRPIX1': size/2 + 0.5,\n",
    "        'CRVAL1': ra,\n",
    "        'NAXIS1': size,\n",
    "        'CTYPE2': 'DEC--TAN',\n",
    "        'CUNIT2': 'deg',\n",
    "        'CDELT2': 0.262/3600,\n",
    "        'CRPIX2': size/2 + 0.5,\n",
    "        'CRVAL2': dec,\n",
    "        'NAXIS2': size\n",
    "    }\n",
    "    w = WCS(wcs_input_dict)\n",
    "    \n",
    "    return img_name, w"
   ]
  },
  {
   "cell_type": "code",
   "execution_count": null,
   "id": "45f58f46-c515-41c5-83a6-795008978952",
   "metadata": {},
   "outputs": [],
   "source": [
    "for i in range(len(SGA)):\n",
    "    \n",
    "    # Retrieve SGA ID of galaxy\n",
    "    sga_id = SGA['SGA_ID'][i]\n",
    "    \n",
    "    # Coordinates of SGA galaxy's center   \n",
    "    ra, dec, z = float(SGA['RA'][i]), float(SGA['DEC'][i]), float(SGA['Z_DESI'][i])\n",
    "    \n",
    "    # D26 in arcmin\n",
    "    d26 = SGA['D26'][i]\n",
    "    \n",
    "    #---------------------------------------------------------------------------\n",
    "    # Padd the image cutout of the galaxy.\n",
    "    # Multiply by 60 (to arcsec), divide by 180 to get pixscale.\n",
    "    npix = np.minimum(int(1.025 * d26*60/0.262), 512)\n",
    "    \n",
    "    #print(targetid, sga_id, ra, dec)\n",
    "    img_file, wcs = get_cutout(sga_id, ra, dec, size=npix, verbose=True)\n",
    "    img = mpl.image.imread(img_file)\n",
    "\n",
    "    fig1 = plt.figure(figsize=(7,5))\n",
    "\n",
    "    ax = fig1.add_subplot(111, projection=wcs)\n",
    "    ax.imshow(np.flip(img, axis=0))\n",
    "    ax.set(xlabel='ra', ylabel='dec')\n",
    "    ax.text(int(0.02*npix), int(0.85*npix), 'SGA_ID: {}\\n$z={{{:.4f}}}$'.format(sga_id, z), fontsize=9, color='yellow')\n",
    "    overlay = ax.get_coords_overlay('icrs')\n",
    "    overlay.grid(color='white', ls='dotted');\n",
    "    #---------------------------------------------------------------------------\n",
    "    \n",
    "    #---------------------------------------------------------------------------\n",
    "    # Add the location of the center DESI fiber.\n",
    "    # SDSS fibers are 2\" diameter, DESI is 107 um with 70 um/\" plate scale.\n",
    "    r1 = SphericalCircle((ra * u.deg, dec * u.deg), (107./70) * u.arcsec,\n",
    "                         edgecolor='black', facecolor='none', alpha=0.8, lw=3,\n",
    "                         transform=ax.get_transform('icrs'))\n",
    "    r2 = SphericalCircle((ra * u.deg, dec * u.deg), (107./70) * u.arcsec,\n",
    "                         edgecolor='red', facecolor='none', alpha=0.8, lw=2,\n",
    "                         transform=ax.get_transform('icrs'))\n",
    "    ax.add_patch(r1)\n",
    "    ax.add_patch(r2)\n",
    "    #---------------------------------------------------------------------------\n",
    "    \n",
    "    # Find all targets on this galaxy\n",
    "    tf_list = tiron[tiron['SGA_ID'] == sga_id]\n",
    "    \n",
    "    # Only keep targets at 0.4R26\n",
    "    SGA_coords = SkyCoord(ra=ra, dec=dec, unit=u.degree)\n",
    "    target_coords = SkyCoord(ra=tf_list['RA'], dec=tf_list['DEC'], unit=u.degree)\n",
    "    sep2d = target_coords.separation(SGA_coords)\n",
    "    sep2d_r26 = 2*sep2d.to('arcmin')/(d26*u.arcmin)\n",
    "    tf_list_0p4 = tf_list[(sep2d_r26 > 0.35) & (sep2d_r26 < 0.45)]\n",
    "\n",
    "    for i in range(len(tf_list_0p4)):\n",
    "        ra, dec = tf_list_0p4['RA'][i], tf_list_0p4['DEC'][i]\n",
    "        \n",
    "        edgecolor2 = 'orange'\n",
    "        \n",
    "        # Add the location of the DESI fibers.\n",
    "        # SDSS fibers are 2\" diameter, DESI is 107 um with 70 um/\" plate scale.\n",
    "        r1 = SphericalCircle((ra * u.deg, dec * u.deg), (107./70) * u.arcsec,\n",
    "                             edgecolor='lightcoral', facecolor='none', alpha=1, lw=3,\n",
    "                             transform=ax.get_transform('icrs'))\n",
    "        r2 = SphericalCircle((ra * u.deg, dec * u.deg), (107./70) * u.arcsec,\n",
    "                             edgecolor=edgecolor2, facecolor='none', alpha=0.8, lw=2,\n",
    "                             transform=ax.get_transform('icrs'))\n",
    "        ax.add_patch(r1)\n",
    "        ax.add_patch(r2)\n",
    "        \n",
    "        ax.text(ra, dec, str(tf_list_0p4['TARGETID'][i]), \n",
    "                transform=ax.get_transform('icrs'), \n",
    "                color='white')\n",
    "    \n",
    "    fig1.subplots_adjust(top=0.85, right=0.85, bottom=0.15, left=0.15)\n",
    "    \n",
    "    fig1.savefig('cache/iron_VI_cutouts/dist_{}.png'.format(sga_id), dpi=120)\n",
    "    \n",
    "    fig1.clear()\n",
    "    plt.close(fig1)"
   ]
  },
  {
   "cell_type": "code",
   "execution_count": 10,
   "id": "a2adddf3-609c-4e57-8865-470a801899e4",
   "metadata": {
    "tags": []
   },
   "outputs": [
    {
     "data": {
      "text/html": [
       "&lt;Column name=&apos;TARGETID&apos; dtype=&apos;int64&apos; length=4&gt;\n",
       "<table>\n",
       "<tr><td>2389695837241346</td></tr>\n",
       "<tr><td>2402889976774658</td></tr>\n",
       "<tr><td>39627955646764051</td></tr>\n",
       "<tr><td>2402889976774659</td></tr>\n",
       "</table>"
      ],
      "text/plain": [
       "<Column name='TARGETID' dtype='int64' length=4>\n",
       " 2389695837241346\n",
       " 2402889976774658\n",
       "39627955646764051\n",
       " 2402889976774659"
      ]
     },
     "execution_count": 10,
     "metadata": {},
     "output_type": "execute_result"
    }
   ],
   "source": [
    "# Print targetids for galaxy\n",
    "tiron['TARGETID'][tiron['SGA_ID'] == 1135]"
   ]
  },
  {
   "cell_type": "code",
   "execution_count": null,
   "id": "43f20f80-f4cc-432d-a9f8-41c5ac3616e5",
   "metadata": {},
   "outputs": [],
   "source": []
  }
 ],
 "metadata": {
  "kernelspec": {
   "display_name": "DESI main",
   "language": "python",
   "name": "desi-main"
  },
  "language_info": {
   "codemirror_mode": {
    "name": "ipython",
    "version": 3
   },
   "file_extension": ".py",
   "mimetype": "text/x-python",
   "name": "python",
   "nbconvert_exporter": "python",
   "pygments_lexer": "ipython3",
   "version": "3.10.14"
  }
 },
 "nbformat": 4,
 "nbformat_minor": 5
}
