{
 "cells": [
  {
   "cell_type": "markdown",
   "id": "1c1bf435-46fb-4ece-aae1-101cc1c7e0c0",
   "metadata": {},
   "source": [
    "# DESI Iron\n",
    "Determine how many galaxies were observed in DESI Iron that are good TF targets by finding the number of unique galaxies observed with observations at the center and at .4R."
   ]
  },
  {
   "cell_type": "code",
   "execution_count": 27,
   "id": "5fd4732d-4d75-4f67-823e-d13507fd6cf6",
   "metadata": {
    "tags": []
   },
   "outputs": [],
   "source": [
    "## Module imports and constant definitions \n",
    "from astropy.table import unique, Table\n",
    "from astropy.coordinates import SkyCoord\n",
    "from astropy.io import fits \n",
    "\n",
    "import astropy.units as u\n",
    "import numpy as np\n",
    "import matplotlib as mpl\n",
    "import matplotlib.pyplot as plt \n",
    "\n",
    "from tqdm.auto import tqdm\n",
    "\n",
    "import os\n",
    "\n",
    "import requests\n",
    "\n",
    "from astropy.wcs import WCS\n",
    "from astropy.visualization.wcsaxes import SphericalCircle"
   ]
  },
  {
   "cell_type": "code",
   "execution_count": 2,
   "id": "55509630-ca3f-4489-bbf1-89a46d283cf8",
   "metadata": {
    "tags": []
   },
   "outputs": [],
   "source": [
    "h = 1\n",
    "H0 = 100*h\n",
    "\n",
    "c = 3e5\n",
    "\n",
    "q0 = 0.2\n",
    "\n",
    "V0 = 2.5 # 0-point of TFR"
   ]
  },
  {
   "cell_type": "markdown",
   "id": "abc3d297-c99d-431a-9a53-10e56cd5f8e6",
   "metadata": {},
   "source": [
    "### Iron Data\n",
    "We read in the Iron data to use throughout the notebook. Commented out below is the Fuji data, to use to check against when necessary. "
   ]
  },
  {
   "cell_type": "code",
   "execution_count": 3,
   "id": "aa84685f-3a0f-4f0c-a42f-2ff03812704c",
   "metadata": {
    "tags": []
   },
   "outputs": [
    {
     "data": {
      "text/html": [
       "<div><i>Table length=5</i>\n",
       "<table id=\"table139900940697952\" class=\"table-striped table-bordered table-condensed\">\n",
       "<thead><tr><th>TARGETID</th><th>TARGET_RA</th><th>TARGET_DEC</th><th>HEALPIX</th><th>SURVEY</th><th>Z</th><th>ZERR</th><th>ZWARN</th><th>DELTACHI2</th><th>FILENAME</th><th>PVTYPE</th><th>SGA_ID</th><th>RA</th><th>DEC</th></tr></thead>\n",
       "<thead><tr><th>int64</th><th>float64</th><th>float64</th><th>int64</th><th>bytes4</th><th>float64</th><th>float64</th><th>int64</th><th>float64</th><th>bytes65</th><th>bytes3</th><th>int64</th><th>float64</th><th>float64</th></tr></thead>\n",
       "<tr><td>2852147603439621</td><td>198.369130660983</td><td>36.5372037049171</td><td>10475</td><td>main</td><td>0.815976335547845</td><td>7.38513168100107e-05</td><td>4</td><td>0.128754377365112</td><td>iron/healpix/main/dark/104/10475/redrock-main-dark-10475.fits</td><td>EXT</td><td>649377</td><td>198.36913066098333</td><td>36.537203704917076</td></tr>\n",
       "<tr><td>2399148812795907</td><td>198.371733180003</td><td>36.4994335406917</td><td>10475</td><td>main</td><td>1.11088784970434</td><td>7.48767797671894e-05</td><td>4</td><td>7.9473560154438</td><td>iron/healpix/main/bright/104/10475/redrock-main-bright-10475.fits</td><td>EXT</td><td>649377</td><td>198.37173318000336</td><td>36.499433540691676</td></tr>\n",
       "<tr><td>2399382443917318</td><td>184.845242475328</td><td>49.8157304793777</td><td>10995</td><td>main</td><td>1.14739342108157</td><td>0.000146302276719084</td><td>4</td><td>2.56771463155746</td><td>iron/healpix/main/bright/109/10995/redrock-main-bright-10995.fits</td><td>EXT</td><td>1008911</td><td>184.84524247532795</td><td>49.81573047937771</td></tr>\n",
       "<tr><td>2399634072797192</td><td>184.341289722203</td><td>70.8283725474297</td><td>11965</td><td>main</td><td>1.51703376230705</td><td>6.28979649962091e-05</td><td>4</td><td>4.76254060305655</td><td>iron/healpix/main/bright/119/11965/redrock-main-bright-11965.fits</td><td>EXT</td><td>241234</td><td>184.34128972220284</td><td>70.82837254742968</td></tr>\n",
       "<tr><td>2852141710442505</td><td>123.256011148025</td><td>36.2652948002806</td><td>6448</td><td>main</td><td>0.00787379494184006</td><td>3.4714052819995e-05</td><td>0</td><td>22.1719104201402</td><td>iron/healpix/main/dark/64/6448/redrock-main-dark-6448.fits</td><td>EXT</td><td>31591</td><td>123.25601114802525</td><td>36.26529480028061</td></tr>\n",
       "</table></div>"
      ],
      "text/plain": [
       "<Table length=5>\n",
       "    TARGETID        TARGET_RA     ...         RA                DEC        \n",
       "     int64           float64      ...      float64            float64      \n",
       "---------------- ---------------- ... ------------------ ------------------\n",
       "2852147603439621 198.369130660983 ... 198.36913066098333 36.537203704917076\n",
       "2399148812795907 198.371733180003 ... 198.37173318000336 36.499433540691676\n",
       "2399382443917318 184.845242475328 ... 184.84524247532795  49.81573047937771\n",
       "2399634072797192 184.341289722203 ... 184.34128972220284  70.82837254742968\n",
       "2852141710442505 123.256011148025 ... 123.25601114802525  36.26529480028061"
      ]
     },
     "execution_count": 3,
     "metadata": {},
     "output_type": "execute_result"
    }
   ],
   "source": [
    "tiron = Table.read('/global/cfs/projectdirs/desi/science/td/pv/desi_pv_tf_iron_healpix.fits')\n",
    "#tiron = Table.read('/global/cfs/projectdirs/desi/science/td/pv/desi_pv_tf_fuji_healpix.fits')\n",
    "\n",
    "tiron[:5]"
   ]
  },
  {
   "cell_type": "markdown",
   "id": "31806e8d-bcce-4584-9944-7e3620f1a5ee",
   "metadata": {},
   "source": [
    "### SGA\n",
    "We read in the SGA to use throughout the notebook. "
   ]
  },
  {
   "cell_type": "code",
   "execution_count": 4,
   "id": "ad24a524-771b-42d2-a434-5e7168a65d56",
   "metadata": {
    "tags": []
   },
   "outputs": [
    {
     "data": {
      "text/html": [
       "<div><i>Table length=5</i>\n",
       "<table id=\"table139900942290992\" class=\"table-striped table-bordered table-condensed\">\n",
       "<thead><tr><th>SGA_ID</th><th>SGA_GALAXY</th><th>GALAXY</th><th>PGC</th><th>RA_LEDA</th><th>DEC_LEDA</th><th>MORPHTYPE</th><th>PA_LEDA</th><th>D25_LEDA</th><th>BA_LEDA</th><th>Z_LEDA</th><th>SB_D25_LEDA</th><th>MAG_LEDA</th><th>BYHAND</th><th>REF</th><th>GROUP_ID</th><th>GROUP_NAME</th><th>GROUP_MULT</th><th>GROUP_PRIMARY</th><th>GROUP_RA</th><th>GROUP_DEC</th><th>GROUP_DIAMETER</th><th>BRICKNAME</th><th>RA</th><th>DEC</th><th>D26</th><th>D26_REF</th><th>PA</th><th>BA</th><th>RA_MOMENT</th><th>DEC_MOMENT</th><th>SMA_MOMENT</th><th>G_SMA50</th><th>R_SMA50</th><th>Z_SMA50</th><th>SMA_SB22</th><th>SMA_SB22.5</th><th>SMA_SB23</th><th>SMA_SB23.5</th><th>SMA_SB24</th><th>SMA_SB24.5</th><th>SMA_SB25</th><th>SMA_SB25.5</th><th>SMA_SB26</th><th>G_MAG_SB22</th><th>R_MAG_SB22</th><th>Z_MAG_SB22</th><th>G_MAG_SB22.5</th><th>R_MAG_SB22.5</th><th>Z_MAG_SB22.5</th><th>G_MAG_SB23</th><th>R_MAG_SB23</th><th>Z_MAG_SB23</th><th>G_MAG_SB23.5</th><th>R_MAG_SB23.5</th><th>Z_MAG_SB23.5</th><th>G_MAG_SB24</th><th>R_MAG_SB24</th><th>Z_MAG_SB24</th><th>G_MAG_SB24.5</th><th>R_MAG_SB24.5</th><th>Z_MAG_SB24.5</th><th>G_MAG_SB25</th><th>R_MAG_SB25</th><th>Z_MAG_SB25</th><th>G_MAG_SB25.5</th><th>R_MAG_SB25.5</th><th>Z_MAG_SB25.5</th><th>G_MAG_SB26</th><th>R_MAG_SB26</th><th>Z_MAG_SB26</th><th>SMA_SB22_ERR</th><th>SMA_SB22.5_ERR</th><th>SMA_SB23_ERR</th><th>SMA_SB23.5_ERR</th><th>SMA_SB24_ERR</th><th>SMA_SB24.5_ERR</th><th>SMA_SB25_ERR</th><th>SMA_SB25.5_ERR</th><th>SMA_SB26_ERR</th><th>G_MAG_SB22_ERR</th><th>R_MAG_SB22_ERR</th><th>Z_MAG_SB22_ERR</th><th>G_MAG_SB22.5_ERR</th><th>R_MAG_SB22.5_ERR</th><th>Z_MAG_SB22.5_ERR</th><th>G_MAG_SB23_ERR</th><th>R_MAG_SB23_ERR</th><th>Z_MAG_SB23_ERR</th><th>G_MAG_SB23.5_ERR</th><th>R_MAG_SB23.5_ERR</th><th>Z_MAG_SB23.5_ERR</th><th>G_MAG_SB24_ERR</th><th>R_MAG_SB24_ERR</th><th>Z_MAG_SB24_ERR</th><th>G_MAG_SB24.5_ERR</th><th>R_MAG_SB24.5_ERR</th><th>Z_MAG_SB24.5_ERR</th><th>G_MAG_SB25_ERR</th><th>R_MAG_SB25_ERR</th><th>Z_MAG_SB25_ERR</th><th>G_MAG_SB25.5_ERR</th><th>R_MAG_SB25.5_ERR</th><th>Z_MAG_SB25.5_ERR</th><th>G_MAG_SB26_ERR</th><th>R_MAG_SB26_ERR</th><th>Z_MAG_SB26_ERR</th><th>G_COG_PARAMS_MTOT</th><th>G_COG_PARAMS_M0</th><th>G_COG_PARAMS_ALPHA1</th><th>G_COG_PARAMS_ALPHA2</th><th>G_COG_PARAMS_CHI2</th><th>R_COG_PARAMS_MTOT</th><th>R_COG_PARAMS_M0</th><th>R_COG_PARAMS_ALPHA1</th><th>R_COG_PARAMS_ALPHA2</th><th>R_COG_PARAMS_CHI2</th><th>Z_COG_PARAMS_MTOT</th><th>Z_COG_PARAMS_M0</th><th>Z_COG_PARAMS_ALPHA1</th><th>Z_COG_PARAMS_ALPHA2</th><th>Z_COG_PARAMS_CHI2</th><th>ELLIPSEBIT</th></tr></thead>\n",
       "<thead><tr><th>int64</th><th>bytes16</th><th>bytes29</th><th>int64</th><th>float64</th><th>float64</th><th>bytes21</th><th>float32</th><th>float32</th><th>float32</th><th>float32</th><th>float32</th><th>float32</th><th>bool</th><th>bytes13</th><th>int64</th><th>bytes35</th><th>int16</th><th>bool</th><th>float64</th><th>float64</th><th>float32</th><th>bytes8</th><th>float64</th><th>float64</th><th>float32</th><th>bytes4</th><th>float32</th><th>float32</th><th>float64</th><th>float64</th><th>float32</th><th>float32</th><th>float32</th><th>float32</th><th>float32</th><th>float32</th><th>float32</th><th>float32</th><th>float32</th><th>float32</th><th>float32</th><th>float32</th><th>float32</th><th>float32</th><th>float32</th><th>float32</th><th>float32</th><th>float32</th><th>float32</th><th>float32</th><th>float32</th><th>float32</th><th>float32</th><th>float32</th><th>float32</th><th>float32</th><th>float32</th><th>float32</th><th>float32</th><th>float32</th><th>float32</th><th>float32</th><th>float32</th><th>float32</th><th>float32</th><th>float32</th><th>float32</th><th>float32</th><th>float32</th><th>float32</th><th>float32</th><th>float32</th><th>float32</th><th>float32</th><th>float32</th><th>float32</th><th>float32</th><th>float32</th><th>float32</th><th>float32</th><th>float32</th><th>float32</th><th>float32</th><th>float32</th><th>float32</th><th>float32</th><th>float32</th><th>float32</th><th>float32</th><th>float32</th><th>float32</th><th>float32</th><th>float32</th><th>float32</th><th>float32</th><th>float32</th><th>float32</th><th>float32</th><th>float32</th><th>float32</th><th>float32</th><th>float32</th><th>float32</th><th>float32</th><th>float32</th><th>float32</th><th>float32</th><th>float32</th><th>float32</th><th>float32</th><th>float32</th><th>float32</th><th>float32</th><th>float32</th><th>float32</th><th>float32</th><th>float32</th><th>float32</th><th>float32</th><th>float32</th><th>float32</th><th>int32</th></tr></thead>\n",
       "<tr><td>2</td><td>SGA-2020 2</td><td>PGC1283207</td><td>1283207</td><td>228.3770865</td><td>5.4232017</td><td>S?</td><td>152.2</td><td>0.36307806</td><td>0.724436</td><td>0.03463229</td><td>23.40448</td><td>16.976</td><td>False</td><td>LEDA-20181114</td><td>0</td><td>PGC1283207</td><td>1</td><td>True</td><td>228.3770865</td><td>5.4232017</td><td>0.36307806</td><td>2283p055</td><td>228.3770803831908</td><td>5.423191398593787</td><td>0.49470574</td><td>SB26</td><td>158.20142</td><td>0.545691</td><td>228.37700918822188</td><td>5.4232652570544015</td><td>10.897086</td><td>3.3509698</td><td>3.1147978</td><td>3.240862</td><td>5.902337</td><td>6.9126143</td><td>7.941369</td><td>8.997992</td><td>10.073601</td><td>11.199986</td><td>12.391357</td><td>13.561038</td><td>14.841172</td><td>16.966799</td><td>16.108246</td><td>15.486356</td><td>16.879545</td><td>16.024958</td><td>15.400715</td><td>16.818878</td><td>15.967034</td><td>15.341793</td><td>16.776297</td><td>15.925804</td><td>15.300776</td><td>16.746685</td><td>15.897334</td><td>15.272053</td><td>16.725166</td><td>15.876816</td><td>15.2521105</td><td>16.708357</td><td>15.862035</td><td>15.237181</td><td>16.696539</td><td>15.851936</td><td>15.226998</td><td>16.689613</td><td>15.844313</td><td>15.21976</td><td>0.013392451</td><td>0.02354</td><td>0.021872982</td><td>0.01736985</td><td>0.024445537</td><td>0.039866067</td><td>0.05026544</td><td>0.08455789</td><td>0.122911856</td><td>0.005682776</td><td>0.0054258136</td><td>0.0049038026</td><td>0.005588406</td><td>0.005323561</td><td>0.0047632363</td><td>0.00543534</td><td>0.005177031</td><td>0.0046343105</td><td>0.0053025587</td><td>0.005040888</td><td>0.0045181247</td><td>0.005206092</td><td>0.0049438984</td><td>0.0044374703</td><td>0.0051483097</td><td>0.0048758644</td><td>0.0043834248</td><td>0.0051032505</td><td>0.0048264163</td><td>0.004344248</td><td>0.0050705094</td><td>0.004792021</td><td>0.004319857</td><td>0.005054293</td><td>0.004765629</td><td>0.0043044444</td><td>16.65942</td><td>0.34037337</td><td>0.2978292</td><td>3.0239506</td><td>0.07928849</td><td>15.820566</td><td>0.2640441</td><td>0.34559453</td><td>3.3033552</td><td>0.003811298</td><td>15.195567</td><td>0.29826432</td><td>0.3001073</td><td>3.2333765</td><td>0.011723555</td><td>0</td></tr>\n",
       "<tr><td>3</td><td>SGA-2020 3</td><td>PGC1310416</td><td>1310416</td><td>202.54443750000002</td><td>6.9345944</td><td>Sc</td><td>159.26</td><td>0.4017908</td><td>0.7816278</td><td>0.073888786</td><td>23.498482</td><td>16.85</td><td>False</td><td>LEDA-20181114</td><td>1</td><td>PGC1310416</td><td>1</td><td>True</td><td>202.54443750000002</td><td>6.9345944</td><td>0.4017908</td><td>2025p070</td><td>202.5444619671207</td><td>6.9346244322326624</td><td>0.55350494</td><td>SB26</td><td>161.5937</td><td>0.7291764</td><td>202.54432739596137</td><td>6.934806737209989</td><td>15.746941</td><td>5.6416235</td><td>5.2647552</td><td>5.0895185</td><td>5.9838247</td><td>7.4356494</td><td>8.728868</td><td>10.087478</td><td>11.529764</td><td>12.818195</td><td>14.115497</td><td>15.319822</td><td>16.605148</td><td>16.963299</td><td>16.307854</td><td>15.806882</td><td>16.729511</td><td>16.097378</td><td>15.615527</td><td>16.606344</td><td>15.990707</td><td>15.518403</td><td>16.525967</td><td>15.917321</td><td>15.450624</td><td>16.462585</td><td>15.859485</td><td>15.397182</td><td>16.419558</td><td>15.820947</td><td>15.36243</td><td>16.390558</td><td>15.796369</td><td>15.338905</td><td>16.376112</td><td>15.782492</td><td>15.323709</td><td>16.364115</td><td>15.773462</td><td>15.313725</td><td>0.036992554</td><td>0.034982767</td><td>0.037769336</td><td>0.049429573</td><td>0.052699674</td><td>0.074114166</td><td>0.07914538</td><td>0.09781406</td><td>0.15534972</td><td>0.016095797</td><td>0.019181909</td><td>0.021539452</td><td>0.013955905</td><td>0.016594552</td><td>0.018640138</td><td>0.012786752</td><td>0.015244632</td><td>0.01715491</td><td>0.011973826</td><td>0.014366956</td><td>0.016208366</td><td>0.011358372</td><td>0.013676575</td><td>0.015474222</td><td>0.010944939</td><td>0.013225297</td><td>0.015011175</td><td>0.010691595</td><td>0.012931233</td><td>0.014687982</td><td>0.010546411</td><td>0.012796015</td><td>0.014518412</td><td>0.010457551</td><td>0.012685407</td><td>0.014379212</td><td>16.284733</td><td>1.0914493</td><td>0.24674739</td><td>2.4320207</td><td>0.68685365</td><td>15.704403</td><td>0.8764323</td><td>0.27360612</td><td>2.4995425</td><td>0.49343896</td><td>15.235263</td><td>1.3098688</td><td>0.17866786</td><td>2.1750498</td><td>0.20391206</td><td>0</td></tr>\n",
       "<tr><td>4</td><td>SGA-2020 4</td><td>SDSSJ145059.93+135143.0</td><td>4435547</td><td>222.749787</td><td>13.8619111</td><td>S?</td><td>44.57</td><td>0.33342642</td><td>0.6637431</td><td>0.07567602</td><td>24.457481</td><td>18.214</td><td>False</td><td>LEDA-20181114</td><td>2</td><td>SDSSJ145059.93+135143.0</td><td>1</td><td>True</td><td>222.749787</td><td>13.8619111</td><td>0.33342642</td><td>2228p137</td><td>222.7497050504303</td><td>13.861929561160224</td><td>0.37067476</td><td>SB26</td><td>45.28537</td><td>0.70922077</td><td>222.749650475464</td><td>13.862052070022896</td><td>8.877115</td><td>4.652771</td><td>4.4837785</td><td>4.4959745</td><td>2.01033</td><td>3.3967943</td><td>4.76257</td><td>6.043787</td><td>7.242806</td><td>8.250407</td><td>9.158723</td><td>10.083457</td><td>11.120243</td><td>19.97595</td><td>19.190666</td><td>18.649523</td><td>19.098536</td><td>18.397219</td><td>17.899643</td><td>18.624952</td><td>17.967802</td><td>17.50231</td><td>18.35278</td><td>17.718002</td><td>17.265854</td><td>18.192762</td><td>17.5654</td><td>17.115404</td><td>18.10496</td><td>17.480022</td><td>17.033989</td><td>18.053415</td><td>17.430794</td><td>16.982971</td><td>18.020155</td><td>17.399996</td><td>16.948252</td><td>17.994783</td><td>17.377092</td><td>16.924469</td><td>0.02113719</td><td>0.03639431</td><td>0.051901262</td><td>0.06539029</td><td>0.08552586</td><td>0.07008602</td><td>0.070394725</td><td>0.08394975</td><td>0.113649584</td><td>0.013428732</td><td>0.017600043</td><td>0.016373685</td><td>0.012251812</td><td>0.014566466</td><td>0.013732588</td><td>0.012644532</td><td>0.014030071</td><td>0.013153961</td><td>0.012747069</td><td>0.013512552</td><td>0.012818239</td><td>0.012865601</td><td>0.01324455</td><td>0.012532208</td><td>0.012762528</td><td>0.013058522</td><td>0.012420634</td><td>0.01252645</td><td>0.012827468</td><td>0.012283978</td><td>0.012320441</td><td>0.012607317</td><td>0.012104107</td><td>0.0121167945</td><td>0.01244376</td><td>0.011985352</td><td>17.896797</td><td>0.5557265</td><td>0.25455818</td><td>3.167909</td><td>1.0522435</td><td>17.28287</td><td>0.4885815</td><td>0.2782499</td><td>3.2144456</td><td>1.3733263</td><td>16.807674</td><td>0.5177045</td><td>0.32264626</td><td>2.900518</td><td>1.8054093</td><td>0</td></tr>\n",
       "<tr><td>7</td><td>SGA-2020 7</td><td>PGC1742504</td><td>1742504</td><td>182.0888085</td><td>25.6022764</td><td>Sbc</td><td>84.97</td><td>0.548277</td><td>0.25118864</td><td>0.10090814</td><td>24.91348</td><td>17.59</td><td>False</td><td>LEDA-20181114</td><td>3</td><td>PGC1742504</td><td>1</td><td>True</td><td>182.0888085</td><td>25.6022764</td><td>0.548277</td><td>1820p255</td><td>182.08882232629614</td><td>25.60226821438983</td><td>0.8883204</td><td>SB26</td><td>84.857475</td><td>0.19753796</td><td>182.08873760544392</td><td>25.602311195157757</td><td>19.779116</td><td>6.5958204</td><td>6.0386286</td><td>5.8089786</td><td>9.279068</td><td>10.949478</td><td>12.652142</td><td>14.446171</td><td>16.323679</td><td>18.392954</td><td>20.915508</td><td>23.566542</td><td>26.649612</td><td>17.390274</td><td>16.360935</td><td>15.531964</td><td>17.285898</td><td>16.262264</td><td>15.440768</td><td>17.2167</td><td>16.195492</td><td>15.380734</td><td>17.16217</td><td>16.144245</td><td>15.334935</td><td>17.130178</td><td>16.110302</td><td>15.304758</td><td>17.104496</td><td>16.084463</td><td>15.280803</td><td>17.081282</td><td>16.061373</td><td>15.2589855</td><td>17.063671</td><td>16.045204</td><td>15.243196</td><td>17.046705</td><td>16.031244</td><td>15.23268</td><td>0.04351465</td><td>0.055440858</td><td>0.052207235</td><td>0.07507412</td><td>0.0793679</td><td>0.10347854</td><td>0.13569456</td><td>0.13104819</td><td>0.17234002</td><td>0.03885276</td><td>0.03744209</td><td>0.03786608</td><td>0.035534665</td><td>0.03441038</td><td>0.03503794</td><td>0.033557214</td><td>0.032548346</td><td>0.033348277</td><td>0.031964395</td><td>0.03106612</td><td>0.031957533</td><td>0.031133845</td><td>0.030202182</td><td>0.031190341</td><td>0.030430589</td><td>0.029511228</td><td>0.030530946</td><td>0.02975241</td><td>0.028853998</td><td>0.029866546</td><td>0.02928568</td><td>0.0284345</td><td>0.029445464</td><td>0.028843498</td><td>0.028076617</td><td>0.029169334</td><td>16.995174</td><td>21.083004</td><td>0.0164273</td><td>1.9079465</td><td>0.029703742</td><td>15.991165</td><td>0.7657307</td><td>0.52285546</td><td>2.3045986</td><td>0.006013103</td><td>15.191324</td><td>1.0408205</td><td>0.32956335</td><td>2.1520333</td><td>0.004725194</td><td>0</td></tr>\n",
       "<tr><td>18</td><td>SGA-2020 18</td><td>2MASXJ12340801+4535444</td><td>3550748</td><td>188.5335525</td><td>45.5956434</td><td>E</td><td>168.65</td><td>0.53088444</td><td>0.6950243</td><td>0.07609531</td><td>23.97948</td><td>16.726</td><td>False</td><td>LEDA-20181114</td><td>4</td><td>2MASXJ12340801+4535444</td><td>1</td><td>True</td><td>188.5335525</td><td>45.5956434</td><td>0.53088444</td><td>1883p455</td><td>188.53364923054596</td><td>45.595620212931856</td><td>0.73435897</td><td>SB26</td><td>166.25127</td><td>0.70995796</td><td>188.53349052789085</td><td>45.59567446403057</td><td>15.694805</td><td>5.091253</td><td>4.670616</td><td>2.9429996</td><td>5.219665</td><td>6.6119533</td><td>8.228266</td><td>10.109745</td><td>12.170589</td><td>14.364073</td><td>16.722517</td><td>19.18709</td><td>22.03077</td><td>17.208511</td><td>16.224203</td><td>15.566424</td><td>17.050343</td><td>16.080097</td><td>15.443468</td><td>16.921791</td><td>15.962402</td><td>15.347263</td><td>16.814959</td><td>15.864242</td><td>15.27134</td><td>16.729906</td><td>15.787886</td><td>15.218466</td><td>16.664564</td><td>15.730083</td><td>15.182751</td><td>16.61991</td><td>15.686324</td><td>15.1601305</td><td>16.585676</td><td>15.654064</td><td>15.148039</td><td>16.558054</td><td>15.629669</td><td>15.141826</td><td>0.032001704</td><td>0.043849397</td><td>0.045203492</td><td>0.072918765</td><td>0.06263939</td><td>0.07675708</td><td>0.10399303</td><td>0.07780949</td><td>0.14017467</td><td>0.016467415</td><td>0.021250801</td><td>0.032092847</td><td>0.0149329165</td><td>0.019061867</td><td>0.028947951</td><td>0.01369758</td><td>0.01736746</td><td>0.026648495</td><td>0.012623343</td><td>0.015980754</td><td>0.024998168</td><td>0.011793644</td><td>0.014977396</td><td>0.023862366</td><td>0.011184664</td><td>0.014255281</td><td>0.023120966</td><td>0.010785815</td><td>0.013740733</td><td>0.022603082</td><td>0.010472503</td><td>0.013351409</td><td>0.022360764</td><td>0.010212836</td><td>0.013043255</td><td>0.022296576</td><td>16.471447</td><td>0.3236818</td><td>1.9206839</td><td>2.3249283</td><td>0.0973919</td><td>15.540598</td><td>0.3247282</td><td>1.7439244</td><td>2.1774826</td><td>0.023485765</td><td>15.124181</td><td>0.16547345</td><td>1.4694684</td><td>3.3948786</td><td>0.028653827</td><td>0</td></tr>\n",
       "</table></div>"
      ],
      "text/plain": [
       "<Table length=5>\n",
       "SGA_ID  SGA_GALAXY          GALAXY         ... Z_COG_PARAMS_CHI2 ELLIPSEBIT\n",
       "int64    bytes16           bytes29         ...      float32        int32   \n",
       "------ ----------- ----------------------- ... ----------------- ----------\n",
       "     2  SGA-2020 2              PGC1283207 ...       0.011723555          0\n",
       "     3  SGA-2020 3              PGC1310416 ...        0.20391206          0\n",
       "     4  SGA-2020 4 SDSSJ145059.93+135143.0 ...         1.8054093          0\n",
       "     7  SGA-2020 7              PGC1742504 ...       0.004725194          0\n",
       "    18 SGA-2020 18  2MASXJ12340801+4535444 ...       0.028653827          0"
      ]
     },
     "execution_count": 4,
     "metadata": {},
     "output_type": "execute_result"
    }
   ],
   "source": [
    "SGA = Table.read('/global/cfs/cdirs/cosmo/data/sga/2020/SGA-2020.fits', 'ELLIPSE')\n",
    "\n",
    "## Create a dictionary of SGA IDs to find row indices \n",
    "SGA_dict = {}\n",
    "for i in range(len(SGA)):\n",
    "    SGA_dict[SGA['SGA_ID'][i]] = i\n",
    "\n",
    "SGA[:5]"
   ]
  },
  {
   "cell_type": "markdown",
   "id": "4f70ba30-c59c-4e6f-8f78-bbafbb7db5cc",
   "metadata": {
    "tags": []
   },
   "source": [
    "## Separation between Galaxies and Observations\n",
    "Find all targets on each galaxy, and then calculate distance between SGA center coordinates and observation coordinates. Store the lists of center and axis observations as `iron_centers` and `iron_axis`."
   ]
  },
  {
   "cell_type": "code",
   "execution_count": 5,
   "id": "9edb26c0-f1c5-4def-a08e-218a2f7b020c",
   "metadata": {
    "tags": []
   },
   "outputs": [
    {
     "data": {
      "application/vnd.jupyter.widget-view+json": {
       "model_id": "26c932a50d9a4b479ecd5695a0df4af7",
       "version_major": 2,
       "version_minor": 0
      },
      "text/plain": [
       "  0%|          | 0/75152 [00:00<?, ?it/s]"
      ]
     },
     "metadata": {},
     "output_type": "display_data"
    }
   ],
   "source": [
    "tiron['SKY_FIBER_DIST'] = 0.\n",
    "tiron['SKY_FIBER_DIST_R26'] = 0.\n",
    "\n",
    "## For each SGA galaxy that has 1+ observations, calculate distance for all of its targets\n",
    "for sga_id in tqdm(np.unique(tiron['SGA_ID'])):\n",
    "    \n",
    "    ## Identify all galaxy targets on this galaxy\n",
    "    obs_idx = tiron['SGA_ID'] == sga_id\n",
    "    \n",
    "    ## Find galaxy index in SGA catalog\n",
    "    sga_idx = SGA_dict[sga_id]\n",
    "    \n",
    "    ## Calculate distance between each observation and the center of the galaxy\n",
    "    SGA_coords = SkyCoord(ra=SGA['RA'][sga_idx], \n",
    "                          dec=SGA['DEC'][sga_idx], \n",
    "                          unit=u.degree)\n",
    "    target_coords = SkyCoord(ra=tiron['RA'][obs_idx], \n",
    "                             dec=tiron['DEC'][obs_idx], \n",
    "                             unit=u.degree)\n",
    "    sep2d = target_coords.separation(SGA_coords)\n",
    "    \n",
    "    ## Add the distance to the tiron table\n",
    "    tiron['SKY_FIBER_DIST'][obs_idx] = sep2d\n",
    "    \n",
    "    ## Add the distance in R26 to the tiron table \n",
    "    tiron['SKY_FIBER_DIST_R26'][obs_idx] = 2*sep2d.to('arcmin')/(SGA['D26'][sga_idx]*u.arcmin)"
   ]
  },
  {
   "cell_type": "code",
   "execution_count": 6,
   "id": "4cfe4d28-5e3b-4b6f-83cd-92d045cce953",
   "metadata": {
    "tags": []
   },
   "outputs": [],
   "source": [
    "## Isolate the centers to be those measurements where the distance is <.1*R26\n",
    "centers_boolean = tiron['SKY_FIBER_DIST_R26'] < 0.1\n",
    "\n",
    "## Sort observations into center and axis observations \n",
    "iron_centers = tiron[centers_boolean]\n",
    "iron_axis = tiron[~centers_boolean]"
   ]
  },
  {
   "cell_type": "markdown",
   "id": "0a5f7f3d-d393-41c0-ab49-99bd83ee6fd2",
   "metadata": {
    "tags": []
   },
   "source": [
    "## Cleaning Iron Center Observations\n",
    "\n",
    "Only keep observations with\n",
    " * `DELTACHI2` > 25\n",
    " * `ZWARN` == 0"
   ]
  },
  {
   "cell_type": "code",
   "execution_count": 7,
   "id": "4b8c19d5-7747-4d99-9829-83e888e66891",
   "metadata": {
    "tags": []
   },
   "outputs": [],
   "source": [
    "good_centers = iron_centers[(iron_centers['DELTACHI2'] > 25) & (iron_centers['ZWARN'] == 0)]\n",
    "\n",
    "## Check for multiple good center observations \n",
    "unique_ids, counts = np.unique(good_centers['SGA_ID'], return_counts=True)"
   ]
  },
  {
   "cell_type": "markdown",
   "id": "58de30ed-2506-4927-81d9-36f12c3f2501",
   "metadata": {},
   "source": [
    "If there is at least one good center observation, set the galaxy's redshift as the weighted average of all observation redshifts."
   ]
  },
  {
   "cell_type": "code",
   "execution_count": 8,
   "id": "6d101817-1731-4890-8d65-1635cbcc29ea",
   "metadata": {
    "tags": []
   },
   "outputs": [
    {
     "data": {
      "application/vnd.jupyter.widget-view+json": {
       "model_id": "df35172873e64433ba715a4825d84f3a",
       "version_major": 2,
       "version_minor": 0
      },
      "text/plain": [
       "  0%|          | 0/70100 [00:00<?, ?it/s]"
      ]
     },
     "metadata": {},
     "output_type": "display_data"
    }
   ],
   "source": [
    "SGA['Z_DESI'] = np.nan\n",
    "SGA['ZERR_DESI'] = np.nan\n",
    "\n",
    "weights = 1./(good_centers['ZERR']**2)\n",
    "\n",
    "for sga_id in tqdm(np.unique(good_centers['SGA_ID'])):\n",
    "    \n",
    "    ## Find all the center observations of this galaxy\n",
    "    obs_idx = good_centers['SGA_ID'] == sga_id\n",
    "    \n",
    "    ## Find the row in SGA for this galaxy\n",
    "    SGA_idx = SGA_dict[sga_id]\n",
    "    \n",
    "    # Set the redshift of this galaxy to be weighted average of all good center observation redshifts\n",
    "    SGA['Z_DESI'][SGA_idx] = np.average(good_centers['Z'][obs_idx], \n",
    "                                        weights=weights[obs_idx])\n",
    "    SGA['ZERR_DESI'][SGA_idx] = np.sqrt(1./np.sum(weights[obs_idx]))"
   ]
  },
  {
   "cell_type": "markdown",
   "id": "9d4c25a0-7443-41a8-8b22-c63c569359f1",
   "metadata": {},
   "source": [
    "Determine how many observations we have at $0.4R_{26}$ that have a corresponding center observation for that galaxy."
   ]
  },
  {
   "cell_type": "code",
   "execution_count": 9,
   "id": "8e88bba0-2f44-4d3c-87ed-498790d840a3",
   "metadata": {
    "tags": []
   },
   "outputs": [
    {
     "name": "stdout",
     "output_type": "stream",
     "text": [
      "11819 unique galaxies with center and 0.4R observations\n",
      "15.7% of all Iron galaxies\n"
     ]
    }
   ],
   "source": [
    "## Include all observations where .38R < distance < .42R in our .4R values\n",
    "r0p4 = iron_axis[(iron_axis['SKY_FIBER_DIST_R26'] > 0.38) & (iron_axis['SKY_FIBER_DIST_R26'] < 0.42)]\n",
    "\n",
    "## Count how many of these are unique values\n",
    "unique_centers = np.unique(good_centers['SGA_ID'])\n",
    "unique_r0p4 = np.unique(r0p4['SGA_ID'])\n",
    "\n",
    "centers_and_p4s = []\n",
    "for i in unique_r0p4: \n",
    "    if i in unique_centers: \n",
    "        centers_and_p4s.append(i)\n",
    "\n",
    "## Output the number of observations that are generally good for TF fitting\n",
    "print(len(centers_and_p4s), \"unique galaxies with center and 0.4R observations\")\n",
    "\n",
    "## Find the percentage of all Iron galaxies that are generally good for TF fitting\n",
    "num_iron = len(np.unique(tiron['SGA_ID']))\n",
    "percentage_TF = 100*((len(centers_and_p4s))/num_iron)\n",
    "print(f\"{percentage_TF:.1f}% of all Iron galaxies\")"
   ]
  },
  {
   "cell_type": "markdown",
   "id": "9e416821-3b21-4d57-9fdb-08fa1bbb359a",
   "metadata": {},
   "source": [
    "## Cluster Membership\n",
    "Following Cosmicflows4 (Kourkchi et al. 2020), cluster membership is defined as\n",
    "- $R_p < 1.5R_{2t}$ and $v < V_c \\pm 3\\sigma_p$\n",
    "- $1.5R_{2t} \\leq R_p < 3R_{2t}$ and $v < V_c \\pm 2\\sigma_p$\n",
    "\n",
    "where $R_p$ is the projected distance from the cluster center, $R_{2t}$ is the cluster projected second turnaround radius, $\\sigma_p$ is the projected velocity dispersion of the cluster, and $V_c$ is the average heliocentric radial velocity of the cluster."
   ]
  },
  {
   "cell_type": "markdown",
   "id": "33ea30be-9731-432a-a913-94a77f955d5c",
   "metadata": {},
   "source": [
    "### Tully et al. (2015) Table 3"
   ]
  },
  {
   "cell_type": "code",
   "execution_count": 10,
   "id": "26c1a91d-44dc-44db-bb5e-66df5431a997",
   "metadata": {
    "tags": []
   },
   "outputs": [
    {
     "name": "stderr",
     "output_type": "stream",
     "text": [
      "WARNING: VerifyWarning: It is strongly recommended that column names contain only upper and lower-case ASCII letters, digits, or underscores for maximum compatibility with other software (got '<Vcmba>'). [astropy.io.fits.column]\n"
     ]
    },
    {
     "data": {
      "text/html": [
       "<div><i>Table length=5</i>\n",
       "<table id=\"table139900086453824\" class=\"table-striped table-bordered table-condensed\">\n",
       "<thead><tr><th>f_Nest</th><th>Nest</th><th>Nmb</th><th>PGC1</th><th>SGLON</th><th>SGLAT</th><th>logLK</th><th>VMod</th><th>DM</th><th>sigV</th><th>R2t</th><th>sigP</th><th>Mlum</th><th>CF</th></tr></thead>\n",
       "<thead><tr><th>int16</th><th>int32</th><th>int16</th><th>int32</th><th>float64</th><th>float64</th><th>float64</th><th>int32</th><th>float64</th><th>int16</th><th>float64</th><th>int16</th><th>float64</th><th>float64</th></tr></thead>\n",
       "<tr><td>1</td><td>100001</td><td>136</td><td>44715</td><td>89.6226</td><td>8.1461</td><td>13.15</td><td>7331</td><td>34.33</td><td>886</td><td>2.129</td><td>1045</td><td>1710000000000000.0</td><td>1.65</td></tr>\n",
       "<tr><td>1</td><td>100002</td><td>197</td><td>41220</td><td>103.0008</td><td>-2.3248</td><td>12.69</td><td>1491</td><td>30.87</td><td>670</td><td>1.44</td><td>707</td><td>529000000000000.0</td><td>1.0</td></tr>\n",
       "<tr><td>1</td><td>100003</td><td>113</td><td>43296</td><td>156.2336</td><td>-11.5868</td><td>12.75</td><td>3873</td><td>32.94</td><td>822</td><td>1.52</td><td>746</td><td>623000000000000.0</td><td>1.12</td></tr>\n",
       "<tr><td>1</td><td>100004</td><td>81</td><td>58265</td><td>71.5103</td><td>49.7851</td><td>13.16</td><td>9424</td><td>34.87</td><td>740</td><td>2.153</td><td>1057</td><td>1770000000000000.0</td><td>2.26</td></tr>\n",
       "<tr><td>1</td><td>100005</td><td>61</td><td>36487</td><td>92.0255</td><td>-10.495</td><td>12.78</td><td>6987</td><td>34.22</td><td>707</td><td>1.56</td><td>766</td><td>673000000000000.0</td><td>1.58</td></tr>\n",
       "</table></div>"
      ],
      "text/plain": [
       "<Table length=5>\n",
       "f_Nest  Nest   Nmb   PGC1  SGLON   ...   R2t    sigP        Mlum           CF  \n",
       "int16  int32  int16 int32 float64  ... float64 int16      float64       float64\n",
       "------ ------ ----- ----- -------- ... ------- ----- ------------------ -------\n",
       "     1 100001   136 44715  89.6226 ...   2.129  1045 1710000000000000.0    1.65\n",
       "     1 100002   197 41220 103.0008 ...    1.44   707  529000000000000.0     1.0\n",
       "     1 100003   113 43296 156.2336 ...    1.52   746  623000000000000.0    1.12\n",
       "     1 100004    81 58265  71.5103 ...   2.153  1057 1770000000000000.0    2.26\n",
       "     1 100005    61 36487  92.0255 ...    1.56   766  673000000000000.0    1.58"
      ]
     },
     "execution_count": 10,
     "metadata": {},
     "output_type": "execute_result"
    }
   ],
   "source": [
    "hdu = fits.open(\"../Tully15-Table3.fits\")\n",
    "table3 = Table(hdu[1].data)\n",
    "table3.rename_column(\"<Vcmba>\",\"VMod\")\n",
    "hdu.close()\n",
    "\n",
    "table3_dict = {}\n",
    "for i in range(len(table3)):\n",
    "    table3_dict[table3['Nest'][i]] = i\n",
    "\n",
    "table3[:5]"
   ]
  },
  {
   "cell_type": "code",
   "execution_count": 9,
   "id": "4b9cb196-6f03-4eb6-935d-2ddcf643a672",
   "metadata": {
    "collapsed": true,
    "jupyter": {
     "outputs_hidden": true,
     "source_hidden": true
    },
    "tags": []
   },
   "outputs": [
    {
     "data": {
      "text/html": [
       "<div><i>Table length=1</i>\n",
       "<table id=\"table140676783908240\" class=\"table-striped table-bordered table-condensed\">\n",
       "<thead><tr><th>f_Nest</th><th>Nest</th><th>Nmb</th><th>PGC1</th><th>SGLON</th><th>SGLAT</th><th>logLK</th><th>VMod</th><th>DM</th><th>sigV</th><th>R2t</th><th>sigP</th><th>Mlum</th><th>CF</th></tr></thead>\n",
       "<thead><tr><th>int16</th><th>int32</th><th>int16</th><th>int32</th><th>float64</th><th>float64</th><th>float64</th><th>int32</th><th>float64</th><th>int16</th><th>float64</th><th>int16</th><th>float64</th><th>float64</th></tr></thead>\n",
       "<tr><td>1</td><td>100526</td><td>4</td><td>42543</td><td>97.8357</td><td>1.6001</td><td>14.1</td><td>22525</td><td>36.76</td><td>1151</td><td>4.419</td><td>2170</td><td>1.53e+16</td><td>92.56</td></tr>\n",
       "</table></div>"
      ],
      "text/plain": [
       "<Table length=1>\n",
       "f_Nest  Nest   Nmb   PGC1  SGLON  ...  sigV   R2t    sigP   Mlum      CF  \n",
       "int16  int32  int16 int32 float64 ... int16 float64 int16 float64  float64\n",
       "------ ------ ----- ----- ------- ... ----- ------- ----- -------- -------\n",
       "     1 100526     4 42543 97.8357 ...  1151   4.419  2170 1.53e+16   92.56"
      ]
     },
     "execution_count": 9,
     "metadata": {},
     "output_type": "execute_result"
    }
   ],
   "source": [
    "## Check a suspicious value from later on in the notebook\n",
    "table3[table3['Nest'] == 100526]"
   ]
  },
  {
   "cell_type": "code",
   "execution_count": 10,
   "id": "5e0fd8de-2802-449f-a0bb-6cffb71e2b2b",
   "metadata": {
    "collapsed": true,
    "jupyter": {
     "outputs_hidden": true,
     "source_hidden": true
    },
    "tags": []
   },
   "outputs": [
    {
     "name": "stdout",
     "output_type": "stream",
     "text": [
      "<SkyCoord (ICRS): (ra, dec) in deg\n",
      "    [(190.1595305, 18.34388035)]>\n"
     ]
    }
   ],
   "source": [
    "## Continue the suspicious value check \n",
    "cluster_coord = SkyCoord(table3['SGLON'][table3['Nest'] == 100526]*u.degree, \n",
    "                         table3['SGLAT'][table3['Nest'] == 100526]*u.degree, \n",
    "                         frame='supergalactic')\n",
    "print(cluster_coord.transform_to('icrs'))"
   ]
  },
  {
   "cell_type": "markdown",
   "id": "a262e259-6cf9-403f-90c9-d1d6942d97c8",
   "metadata": {},
   "source": [
    "### Tully et. al (2013) Table 2"
   ]
  },
  {
   "cell_type": "code",
   "execution_count": 11,
   "id": "195c06ac-1dec-4862-8046-9d8aa09d3171",
   "metadata": {
    "tags": []
   },
   "outputs": [
    {
     "name": "stderr",
     "output_type": "stream",
     "text": [
      "WARNING: VerifyWarning: Invalid keyword for column 24: ASCII table null option (TNULLn) is longer than the column's character width and will be truncated (got '-32768'). [astropy.io.fits.column]\n"
     ]
    },
    {
     "data": {
      "text/html": [
       "<div><i>Table length=5</i>\n",
       "<table id=\"table139900103893312\" class=\"table-striped table-bordered table-condensed\">\n",
       "<thead><tr><th>_RAJ2000</th><th>_DEJ2000</th><th>N1</th><th>__Dist_</th><th>__DM_</th><th>__Err_</th><th>N2</th><th>GLON</th><th>GLAT</th><th>SGLON</th><th>SGLAT</th><th>GMT</th><th>__Bmag_</th><th>__Kmag_</th><th>__HV_</th><th>__GV_</th><th>__Vls_</th><th>__Vcmb_</th><th>__Vcmba_</th><th>sigma</th><th>__PV_</th><th>__PVa_</th><th>Group</th><th>Ng</th><th>_2M__</th><th>PGCb</th><th>GName</th><th>_2M</th><th>Simbad</th><th>NED</th><th>recno</th></tr></thead>\n",
       "<thead><tr><th>float64</th><th>float64</th><th>int16</th><th>float64</th><th>float64</th><th>float64</th><th>int16</th><th>float64</th><th>float64</th><th>float64</th><th>float64</th><th>int16</th><th>float64</th><th>float64</th><th>int32</th><th>int32</th><th>int32</th><th>int32</th><th>int32</th><th>int16</th><th>int32</th><th>int32</th><th>int16</th><th>int16</th><th>int16</th><th>int32</th><th>str10</th><th>str2</th><th>str6</th><th>str3</th><th>int32</th></tr></thead>\n",
       "<tr><td>266.404996</td><td>-28.936172</td><td>16</td><td>0.01</td><td>14.5</td><td>0.02</td><td>20</td><td>0.0</td><td>0.0</td><td>185.7861</td><td>42.3103</td><td>1</td><td>-6.0</td><td>-9.0</td><td>51</td><td>26</td><td>13</td><td>91</td><td>91</td><td>64</td><td>90</td><td>90</td><td>223</td><td>16</td><td>0</td><td>17223</td><td>Galaxy</td><td>2M</td><td>Simbad</td><td>NED</td><td>1</td></tr>\n",
       "<tr><td>15.693346</td><td>36.392682</td><td>39</td><td>0.76</td><td>24.4</td><td>0.01</td><td>41</td><td>125.479</td><td>-26.423</td><td>322.2989</td><td>9.4579</td><td>2</td><td>3.4</td><td>0.68</td><td>-213</td><td>-49</td><td>17</td><td>-485</td><td>-484</td><td>156</td><td>-541</td><td>-547</td><td>222</td><td>39</td><td>0</td><td>2557</td><td>NGC0224</td><td>2M</td><td>Simbad</td><td>NED</td><td>2</td></tr>\n",
       "<tr><td>149.896678</td><td>-12.831016</td><td>4</td><td>1.37</td><td>25.68</td><td>0.03</td><td>4</td><td>251.1365</td><td>32.2601</td><td>120.502</td><td>-42.5472</td><td>10</td><td>9.75</td><td>9.29</td><td>347</td><td>153</td><td>103</td><td>690</td><td>691</td><td>23</td><td>589</td><td>589</td><td>227</td><td>4</td><td>0</td><td>29128</td><td>NGC003109</td><td>2M</td><td>Simbad</td><td>NED</td><td>3</td></tr>\n",
       "<tr><td>139.011477</td><td>52.840941</td><td>1</td><td>1.37</td><td>25.68</td><td>0.1</td><td>1</td><td>164.6636</td><td>42.8855</td><td>47.6118</td><td>-15.0125</td><td>10</td><td>13.75</td><td>11.5</td><td>-29</td><td>17</td><td>45</td><td>130</td><td>130</td><td>0</td><td>28</td><td>28</td><td>0</td><td>579</td><td>0</td><td>26142</td><td>UGC4879</td><td>2M</td><td>Simbad</td><td>NED</td><td>4</td></tr>\n",
       "<tr><td>243.448636</td><td>54.37081</td><td>1</td><td>1.91</td><td>26.41</td><td>0.08</td><td>1</td><td>83.8788</td><td>44.4092</td><td>56.0935</td><td>40.37</td><td>10</td><td>16.69</td><td>12.9</td><td>-139</td><td>44</td><td>78</td><td>-121</td><td>-120</td><td>0</td><td>-262</td><td>-268</td><td>230</td><td>1</td><td>0</td><td>2801026</td><td>KKR25</td><td>2M</td><td>Simbad</td><td>NED</td><td>5</td></tr>\n",
       "</table></div>"
      ],
      "text/plain": [
       "<Table length=5>\n",
       " _RAJ2000   _DEJ2000    N1  __Dist_  __DM_  ... _2M  Simbad NED  recno\n",
       " float64    float64   int16 float64 float64 ... str2  str6  str3 int32\n",
       "---------- ---------- ----- ------- ------- ... ---- ------ ---- -----\n",
       "266.404996 -28.936172    16    0.01    14.5 ...   2M Simbad  NED     1\n",
       " 15.693346  36.392682    39    0.76    24.4 ...   2M Simbad  NED     2\n",
       "149.896678 -12.831016     4    1.37   25.68 ...   2M Simbad  NED     3\n",
       "139.011477  52.840941     1    1.37   25.68 ...   2M Simbad  NED     4\n",
       "243.448636   54.37081     1    1.91   26.41 ...   2M Simbad  NED     5"
      ]
     },
     "execution_count": 11,
     "metadata": {},
     "output_type": "execute_result"
    }
   ],
   "source": [
    "hdu = fits.open(\"../Tully13-Table2.fit\")\n",
    "table2 = Table(hdu[1].data)\n",
    "hdu.close()\n",
    "\n",
    "table2[:5]"
   ]
  },
  {
   "cell_type": "markdown",
   "id": "00b6499f-039b-4712-a3fb-fd9623025ed8",
   "metadata": {},
   "source": [
    "Loop through the SGA table and collect just the rows with `SGA_ID` values that are included in `centers_and_p4s` in a new table."
   ]
  },
  {
   "cell_type": "code",
   "execution_count": 12,
   "id": "c0606ad9-c9df-46a8-b055-7300727cd250",
   "metadata": {
    "tags": []
   },
   "outputs": [
    {
     "data": {
      "text/html": [
       "<div><i>Table length=5</i>\n",
       "<table id=\"table139900103897248\" class=\"table-striped table-bordered table-condensed\">\n",
       "<thead><tr><th>SGA_ID</th><th>SGA_GALAXY</th><th>GALAXY</th><th>PGC</th><th>RA_LEDA</th><th>DEC_LEDA</th><th>MORPHTYPE</th><th>PA_LEDA</th><th>D25_LEDA</th><th>BA_LEDA</th><th>Z_LEDA</th><th>SB_D25_LEDA</th><th>MAG_LEDA</th><th>BYHAND</th><th>REF</th><th>GROUP_ID</th><th>GROUP_NAME</th><th>GROUP_MULT</th><th>GROUP_PRIMARY</th><th>GROUP_RA</th><th>GROUP_DEC</th><th>GROUP_DIAMETER</th><th>BRICKNAME</th><th>RA</th><th>DEC</th><th>D26</th><th>D26_REF</th><th>PA</th><th>BA</th><th>RA_MOMENT</th><th>DEC_MOMENT</th><th>SMA_MOMENT</th><th>G_SMA50</th><th>R_SMA50</th><th>Z_SMA50</th><th>SMA_SB22</th><th>SMA_SB22.5</th><th>SMA_SB23</th><th>SMA_SB23.5</th><th>SMA_SB24</th><th>SMA_SB24.5</th><th>SMA_SB25</th><th>SMA_SB25.5</th><th>SMA_SB26</th><th>G_MAG_SB22</th><th>R_MAG_SB22</th><th>Z_MAG_SB22</th><th>G_MAG_SB22.5</th><th>R_MAG_SB22.5</th><th>Z_MAG_SB22.5</th><th>G_MAG_SB23</th><th>R_MAG_SB23</th><th>Z_MAG_SB23</th><th>G_MAG_SB23.5</th><th>R_MAG_SB23.5</th><th>Z_MAG_SB23.5</th><th>G_MAG_SB24</th><th>R_MAG_SB24</th><th>Z_MAG_SB24</th><th>G_MAG_SB24.5</th><th>R_MAG_SB24.5</th><th>Z_MAG_SB24.5</th><th>G_MAG_SB25</th><th>R_MAG_SB25</th><th>Z_MAG_SB25</th><th>G_MAG_SB25.5</th><th>R_MAG_SB25.5</th><th>Z_MAG_SB25.5</th><th>G_MAG_SB26</th><th>R_MAG_SB26</th><th>Z_MAG_SB26</th><th>SMA_SB22_ERR</th><th>SMA_SB22.5_ERR</th><th>SMA_SB23_ERR</th><th>SMA_SB23.5_ERR</th><th>SMA_SB24_ERR</th><th>SMA_SB24.5_ERR</th><th>SMA_SB25_ERR</th><th>SMA_SB25.5_ERR</th><th>SMA_SB26_ERR</th><th>G_MAG_SB22_ERR</th><th>R_MAG_SB22_ERR</th><th>Z_MAG_SB22_ERR</th><th>G_MAG_SB22.5_ERR</th><th>R_MAG_SB22.5_ERR</th><th>Z_MAG_SB22.5_ERR</th><th>G_MAG_SB23_ERR</th><th>R_MAG_SB23_ERR</th><th>Z_MAG_SB23_ERR</th><th>G_MAG_SB23.5_ERR</th><th>R_MAG_SB23.5_ERR</th><th>Z_MAG_SB23.5_ERR</th><th>G_MAG_SB24_ERR</th><th>R_MAG_SB24_ERR</th><th>Z_MAG_SB24_ERR</th><th>G_MAG_SB24.5_ERR</th><th>R_MAG_SB24.5_ERR</th><th>Z_MAG_SB24.5_ERR</th><th>G_MAG_SB25_ERR</th><th>R_MAG_SB25_ERR</th><th>Z_MAG_SB25_ERR</th><th>G_MAG_SB25.5_ERR</th><th>R_MAG_SB25.5_ERR</th><th>Z_MAG_SB25.5_ERR</th><th>G_MAG_SB26_ERR</th><th>R_MAG_SB26_ERR</th><th>Z_MAG_SB26_ERR</th><th>G_COG_PARAMS_MTOT</th><th>G_COG_PARAMS_M0</th><th>G_COG_PARAMS_ALPHA1</th><th>G_COG_PARAMS_ALPHA2</th><th>G_COG_PARAMS_CHI2</th><th>R_COG_PARAMS_MTOT</th><th>R_COG_PARAMS_M0</th><th>R_COG_PARAMS_ALPHA1</th><th>R_COG_PARAMS_ALPHA2</th><th>R_COG_PARAMS_CHI2</th><th>Z_COG_PARAMS_MTOT</th><th>Z_COG_PARAMS_M0</th><th>Z_COG_PARAMS_ALPHA1</th><th>Z_COG_PARAMS_ALPHA2</th><th>Z_COG_PARAMS_CHI2</th><th>ELLIPSEBIT</th><th>Z_DESI</th><th>ZERR_DESI</th></tr></thead>\n",
       "<thead><tr><th>int64</th><th>bytes16</th><th>bytes29</th><th>int64</th><th>float64</th><th>float64</th><th>bytes21</th><th>float32</th><th>float32</th><th>float32</th><th>float32</th><th>float32</th><th>float32</th><th>bool</th><th>bytes13</th><th>int64</th><th>bytes35</th><th>int16</th><th>bool</th><th>float64</th><th>float64</th><th>float32</th><th>bytes8</th><th>float64</th><th>float64</th><th>float32</th><th>bytes4</th><th>float32</th><th>float32</th><th>float64</th><th>float64</th><th>float32</th><th>float32</th><th>float32</th><th>float32</th><th>float32</th><th>float32</th><th>float32</th><th>float32</th><th>float32</th><th>float32</th><th>float32</th><th>float32</th><th>float32</th><th>float32</th><th>float32</th><th>float32</th><th>float32</th><th>float32</th><th>float32</th><th>float32</th><th>float32</th><th>float32</th><th>float32</th><th>float32</th><th>float32</th><th>float32</th><th>float32</th><th>float32</th><th>float32</th><th>float32</th><th>float32</th><th>float32</th><th>float32</th><th>float32</th><th>float32</th><th>float32</th><th>float32</th><th>float32</th><th>float32</th><th>float32</th><th>float32</th><th>float32</th><th>float32</th><th>float32</th><th>float32</th><th>float32</th><th>float32</th><th>float32</th><th>float32</th><th>float32</th><th>float32</th><th>float32</th><th>float32</th><th>float32</th><th>float32</th><th>float32</th><th>float32</th><th>float32</th><th>float32</th><th>float32</th><th>float32</th><th>float32</th><th>float32</th><th>float32</th><th>float32</th><th>float32</th><th>float32</th><th>float32</th><th>float32</th><th>float32</th><th>float32</th><th>float32</th><th>float32</th><th>float32</th><th>float32</th><th>float32</th><th>float32</th><th>float32</th><th>float32</th><th>float32</th><th>float32</th><th>float32</th><th>float32</th><th>float32</th><th>float32</th><th>float32</th><th>float32</th><th>float32</th><th>float32</th><th>float32</th><th>float32</th><th>int32</th><th>float64</th><th>float64</th></tr></thead>\n",
       "<tr><td>38</td><td>SGA-2020 38</td><td>SDSSJ140638.88+393138.1</td><td>3558705</td><td>211.66194</td><td>39.5272341</td><td>S?</td><td>81.63</td><td>0.35318315</td><td>0.37757218</td><td>0.08108376</td><td>24.72948</td><td>18.361</td><td>False</td><td>LEDA-20181114</td><td>12</td><td>SDSSJ140638.88+393138.1</td><td>1</td><td>True</td><td>211.66194</td><td>39.5272341</td><td>0.35318315</td><td>2115p395</td><td>211.66203166014844</td><td>39.52724032794356</td><td>0.41757938</td><td>SB26</td><td>82.21093</td><td>0.41431504</td><td>211.6619547015994</td><td>39.52729608884245</td><td>8.520181</td><td>5.252184</td><td>4.0750155</td><td>3.3951538</td><td>3.3006833</td><td>4.4037066</td><td>5.5453897</td><td>6.693271</td><td>7.8023033</td><td>8.999919</td><td>10.213078</td><td>11.41192</td><td>12.527382</td><td>19.246052</td><td>18.406073</td><td>17.931826</td><td>18.841032</td><td>18.092857</td><td>17.659027</td><td>18.566164</td><td>17.886087</td><td>17.47688</td><td>18.383362</td><td>17.749825</td><td>17.355968</td><td>18.261652</td><td>17.655558</td><td>17.284552</td><td>18.168955</td><td>17.588947</td><td>17.231817</td><td>18.101948</td><td>17.547142</td><td>17.20673</td><td>18.055267</td><td>17.516266</td><td>17.18719</td><td>18.023865</td><td>17.497095</td><td>17.178627</td><td>0.041267984</td><td>0.058114093</td><td>0.082968995</td><td>0.08808186</td><td>0.099526815</td><td>0.11876543</td><td>0.11355961</td><td>0.14645264</td><td>0.17035669</td><td>0.028041152</td><td>0.045385383</td><td>0.052895926</td><td>0.02822557</td><td>0.041093465</td><td>0.04698563</td><td>0.027371243</td><td>0.038240846</td><td>0.043213904</td><td>0.026219657</td><td>0.03618844</td><td>0.04070005</td><td>0.025270721</td><td>0.034526117</td><td>0.039107796</td><td>0.024264116</td><td>0.033164512</td><td>0.03780495</td><td>0.02343744</td><td>0.03226152</td><td>0.037176747</td><td>0.022813411</td><td>0.031564914</td><td>0.036686495</td><td>0.022342678</td><td>0.031088097</td><td>0.03649375</td><td>17.87426</td><td>0.7614885</td><td>0.3679447</td><td>2.3644495</td><td>0.004768816</td><td>17.421976</td><td>0.45777154</td><td>0.33258685</td><td>2.8184628</td><td>0.021122098</td><td>17.150808</td><td>0.27153513</td><td>0.24329957</td><td>3.8143618</td><td>0.0151183605</td><td>0</td><td>0.0809898865247745</td><td>3.77329579263809e-06</td></tr>\n",
       "<tr><td>55</td><td>SGA-2020 55</td><td>PGC1203947</td><td>1203947</td><td>199.73061299999998</td><td>1.7263548999999998</td><td>S?</td><td>159.49</td><td>0.35156044</td><td>0.510505</td><td>0.04396308</td><td>24.60848</td><td>18.25</td><td>False</td><td>LEDA-20181114</td><td>17</td><td>PGC1203947</td><td>1</td><td>True</td><td>199.73061299999998</td><td>1.7263548999999998</td><td>0.35156044</td><td>1996p017</td><td>199.73062047638814</td><td>1.7262730115560398</td><td>0.4956815</td><td>SB26</td><td>160.63597</td><td>0.511194</td><td>199.7305377211278</td><td>1.7262556303464236</td><td>10.683119</td><td>7.5134478</td><td>7.237519</td><td>7.358609</td><td>1.0663536</td><td>2.4361885</td><td>4.5284705</td><td>6.209374</td><td>7.894941</td><td>9.662576</td><td>11.338187</td><td>13.058548</td><td>14.870445</td><td>21.586454</td><td>21.022594</td><td>20.5186</td><td>20.022512</td><td>19.486275</td><td>19.047207</td><td>19.079992</td><td>18.56653</td><td>18.196766</td><td>18.698801</td><td>18.197613</td><td>17.858175</td><td>18.461773</td><td>17.962809</td><td>17.637083</td><td>18.290697</td><td>17.804535</td><td>17.48882</td><td>18.184755</td><td>17.702862</td><td>17.391363</td><td>18.108042</td><td>17.630135</td><td>17.322704</td><td>18.062273</td><td>17.58211</td><td>17.270563</td><td>0.021755822</td><td>0.038157243</td><td>0.04157986</td><td>0.08506337</td><td>0.09445482</td><td>0.12531056</td><td>0.13733958</td><td>0.123995595</td><td>0.12832229</td><td>0.04457232</td><td>0.04439948</td><td>0.07058882</td><td>0.025476964</td><td>0.026438117</td><td>0.038408875</td><td>0.019658687</td><td>0.02046595</td><td>0.025474863</td><td>0.017983157</td><td>0.018753268</td><td>0.022374356</td><td>0.017475583</td><td>0.01794357</td><td>0.02073173</td><td>0.01711202</td><td>0.017407436</td><td>0.019818878</td><td>0.016593343</td><td>0.016929915</td><td>0.018991327</td><td>0.016066696</td><td>0.016367108</td><td>0.018504865</td><td>0.015716974</td><td>0.015961537</td><td>0.018187799</td><td>17.750465</td><td>1.2892414</td><td>0.49991378</td><td>1.6126304</td><td>1.257941</td><td>17.28831</td><td>1.2717371</td><td>0.47907558</td><td>1.6136137</td><td>0.81320935</td><td>16.944408</td><td>1.4179186</td><td>0.44993672</td><td>1.4420404</td><td>0.5220518</td><td>0</td><td>0.0440016373089485</td><td>1.10478141581557e-05</td></tr>\n",
       "<tr><td>117</td><td>SGA-2020 117</td><td>2MASXJ09154446+0241407</td><td>3354886</td><td>138.9353835</td><td>2.6947728</td><td>S?</td><td>128.28</td><td>0.3990249</td><td>0.38106582</td><td>0.09010734</td><td>24.727482</td><td>18.094</td><td>False</td><td>LEDA-20181114</td><td>34</td><td>2MASXJ09154446+0241407</td><td>1</td><td>True</td><td>138.9353835</td><td>2.6947728</td><td>0.3990249</td><td>1388p027</td><td>138.9354018819327</td><td>2.69476220880469</td><td>0.56725013</td><td>SB26</td><td>128.27348</td><td>0.38386053</td><td>138.93537779417755</td><td>2.6947957581570927</td><td>10.338557</td><td>6.257738</td><td>5.955538</td><td>5.841074</td><td>5.095325</td><td>6.9415464</td><td>8.791956</td><td>10.532487</td><td>11.842479</td><td>13.0811</td><td>14.365393</td><td>15.712301</td><td>17.017504</td><td>18.443657</td><td>17.58299</td><td>16.92973</td><td>18.058376</td><td>17.226091</td><td>16.588629</td><td>17.812689</td><td>17.00055</td><td>16.371704</td><td>17.660887</td><td>16.859318</td><td>16.23806</td><td>17.57534</td><td>16.787174</td><td>16.164423</td><td>17.527903</td><td>16.737005</td><td>16.119072</td><td>17.498484</td><td>16.715483</td><td>16.089012</td><td>17.47861</td><td>16.688995</td><td>16.071629</td><td>17.467876</td><td>16.683826</td><td>16.060444</td><td>0.07752799</td><td>0.10798192</td><td>0.15095635</td><td>0.20314258</td><td>0.1526195</td><td>0.12731193</td><td>0.2313309</td><td>0.16195889</td><td>0.14576925</td><td>0.048041802</td><td>0.05141112</td><td>0.051927906</td><td>0.042856753</td><td>0.045049492</td><td>0.045350183</td><td>0.038913112</td><td>0.040672153</td><td>0.04090189</td><td>0.036267072</td><td>0.03780034</td><td>0.037927195</td><td>0.034719575</td><td>0.036313146</td><td>0.036274742</td><td>0.033770207</td><td>0.035203736</td><td>0.035202943</td><td>0.03311381</td><td>0.034623306</td><td>0.034443073</td><td>0.032663263</td><td>0.034020565</td><td>0.0339658</td><td>0.032346245</td><td>0.033806317</td><td>0.03365211</td><td>17.436062</td><td>0.2512432</td><td>1.7910243</td><td>5.037278</td><td>0.10841618</td><td>16.648998</td><td>0.24943292</td><td>1.6484181</td><td>4.7604127</td><td>0.10132269</td><td>16.024673</td><td>0.24497303</td><td>1.7002242</td><td>4.6383066</td><td>0.06712678</td><td>0</td><td>0.0900398334789895</td><td>2.77551773506223e-05</td></tr>\n",
       "<tr><td>223</td><td>SGA-2020 223</td><td>SDSSJ131108.84+341016.9</td><td>4358531</td><td>197.7869265</td><td>34.171387599999996</td><td>S?</td><td>134.47</td><td>0.44055486</td><td>0.4931738</td><td>0.033994183</td><td>24.805481</td><td>17.957</td><td>False</td><td>LEDA-20181114</td><td>65</td><td>SDSSJ131108.84+341016.9</td><td>1</td><td>True</td><td>197.7869265</td><td>34.171387599999996</td><td>0.44055486</td><td>1976p342</td><td>197.78701405654667</td><td>34.17125367720305</td><td>0.57577115</td><td>SB26</td><td>134.38298</td><td>0.47138268</td><td>197.78704109204864</td><td>34.17111130228583</td><td>11.69958</td><td>9.955084</td><td>9.278722</td><td>9.751492</td><td>0.6828059</td><td>2.3254988</td><td>4.9719324</td><td>7.4325504</td><td>9.649941</td><td>11.863435</td><td>13.640683</td><td>15.582001</td><td>17.273134</td><td>22.897339</td><td>22.34764</td><td>22.026272</td><td>20.321405</td><td>19.848394</td><td>19.59332</td><td>18.986736</td><td>18.536367</td><td>18.368645</td><td>18.434067</td><td>18.01858</td><td>17.865541</td><td>18.125021</td><td>17.736038</td><td>17.58872</td><td>17.912762</td><td>17.539042</td><td>17.408375</td><td>17.806139</td><td>17.440613</td><td>17.312643</td><td>17.730648</td><td>17.371693</td><td>17.24187</td><td>17.707102</td><td>17.34121</td><td>17.199097</td><td>0.041864317</td><td>0.066966064</td><td>0.07801557</td><td>0.11308808</td><td>0.12998714</td><td>0.24660182</td><td>0.114447504</td><td>0.1922687</td><td>0.23441382</td><td>0.05551159</td><td>0.08470402</td><td>0.08816689</td><td>0.043171383</td><td>0.049026806</td><td>0.0636179</td><td>0.031030105</td><td>0.035004828</td><td>0.044257868</td><td>0.027344769</td><td>0.030057041</td><td>0.03632035</td><td>0.025608508</td><td>0.02753884</td><td>0.032421403</td><td>0.024074173</td><td>0.025666032</td><td>0.030199958</td><td>0.023156928</td><td>0.024646157</td><td>0.028681029</td><td>0.022260955</td><td>0.02381721</td><td>0.027649622</td><td>0.02188973</td><td>0.02341512</td><td>0.026929174</td><td>17.335453</td><td>1.2520962</td><td>0.81767285</td><td>1.7221842</td><td>3.8673375</td><td>17.011572</td><td>1.2281433</td><td>0.7433044</td><td>1.7215263</td><td>1.7376461</td><td>16.82672</td><td>1.3453456</td><td>0.72090364</td><td>1.5515473</td><td>0.647471</td><td>0</td><td>0.0340259256442166</td><td>7.90806379252849e-06</td></tr>\n",
       "<tr><td>316</td><td>SGA-2020 316</td><td>PGC2139858</td><td>2139858</td><td>171.756879</td><td>38.9304104</td><td>S0</td><td>89.78</td><td>0.8709636</td><td>0.40738028</td><td>0.0065008304</td><td>24.672482</td><td>16.344</td><td>False</td><td>LEDA-20181114</td><td>89</td><td>PGC2139858</td><td>1</td><td>True</td><td>171.756879</td><td>38.9304104</td><td>0.8709636</td><td>1718p390</td><td>171.7569746981187</td><td>38.93041779226394</td><td>1.5940573</td><td>SB26</td><td>87.46363</td><td>0.38084197</td><td>171.75699147964164</td><td>38.9304966861187</td><td>31.133736</td><td>21.58895</td><td>21.552126</td><td>10.029356</td><td>8.711674</td><td>11.509584</td><td>14.632065</td><td>18.196827</td><td>22.397657</td><td>27.609798</td><td>33.696056</td><td>40.73306</td><td>47.82172</td><td>17.131031</td><td>16.368685</td><td>15.894021</td><td>16.824274</td><td>16.073683</td><td>15.623229</td><td>16.60877</td><td>15.865996</td><td>15.435743</td><td>16.449163</td><td>15.7112665</td><td>15.305071</td><td>16.320385</td><td>15.5863695</td><td>15.209117</td><td>16.20987</td><td>15.479476</td><td>15.1356125</td><td>16.12036</td><td>15.390224</td><td>15.085737</td><td>16.044447</td><td>15.315566</td><td>15.058008</td><td>15.98913</td><td>15.261575</td><td>15.045505</td><td>0.052015785</td><td>0.07484271</td><td>0.09441159</td><td>0.11657918</td><td>0.117596574</td><td>0.13293791</td><td>0.17625299</td><td>0.2470652</td><td>0.27360988</td><td>0.013730353</td><td>0.015033487</td><td>0.017105285</td><td>0.012305521</td><td>0.013319876</td><td>0.015240518</td><td>0.011007159</td><td>0.011854928</td><td>0.01365385</td><td>0.009941208</td><td>0.010681372</td><td>0.012472795</td><td>0.009074947</td><td>0.00974307</td><td>0.011629849</td><td>0.008344043</td><td>0.008965636</td><td>0.010993264</td><td>0.007756507</td><td>0.008325224</td><td>0.010580289</td><td>0.0072808536</td><td>0.007827254</td><td>0.010366357</td><td>0.0069436943</td><td>0.0074707195</td><td>0.010296307</td><td>15.58873</td><td>59223.74</td><td>2.3325265e-05</td><td>0.789183</td><td>0.24238315</td><td>14.855149</td><td>74975.86</td><td>1.8125229e-05</td><td>0.76959705</td><td>0.24501446</td><td>14.999359</td><td>0.57704186</td><td>2.7027042</td><td>2.2774546</td><td>0.47039926</td><td>0</td><td>0.00657502969001476</td><td>2.93411236472506e-05</td></tr>\n",
       "</table></div>"
      ],
      "text/plain": [
       "<Table length=5>\n",
       "SGA_ID  SGA_GALAXY  ...        Z_DESI            ZERR_DESI      \n",
       "int64    bytes16    ...       float64             float64       \n",
       "------ ------------ ... ------------------- --------------------\n",
       "    38  SGA-2020 38 ...  0.0809898865247745 3.77329579263809e-06\n",
       "    55  SGA-2020 55 ...  0.0440016373089485 1.10478141581557e-05\n",
       "   117 SGA-2020 117 ...  0.0900398334789895 2.77551773506223e-05\n",
       "   223 SGA-2020 223 ...  0.0340259256442166 7.90806379252849e-06\n",
       "   316 SGA-2020 316 ... 0.00657502969001476 2.93411236472506e-05"
      ]
     },
     "execution_count": 12,
     "metadata": {},
     "output_type": "execute_result"
    }
   ],
   "source": [
    "SGA.add_index(\"SGA_ID\")\n",
    "TF_SGA_cp4 = SGA.loc[centers_and_p4s]\n",
    "\n",
    "TF_SGA_cp4[:5]"
   ]
  },
  {
   "cell_type": "markdown",
   "id": "c4e6976a-390e-41e6-b8d0-252191dd7d68",
   "metadata": {},
   "source": [
    "## Determine Iron Cluster Membership\n",
    "This cell loops through all Nest numbers given in Tully 2015 Table 3, determines the coordinates, and matches galaxies to their nearest cluster. It collects the center and axis observations for each cluster, and stores the Nest number in `full_clusters` along with a table of center and axis observations in `c_4r_in_cluster`. \n",
    "\n",
    "At present, this cell is returning some suspicious values."
   ]
  },
  {
   "cell_type": "code",
   "execution_count": 24,
   "id": "fd1c5dfd-5423-42b2-9a5f-c2b3a2101b39",
   "metadata": {
    "tags": []
   },
   "outputs": [
    {
     "data": {
      "application/vnd.jupyter.widget-view+json": {
       "model_id": "c63dc29d418d42f7b570be8d486a7c84",
       "version_major": 2,
       "version_minor": 0
      },
      "text/plain": [
       "  0%|          | 0/20 [00:00<?, ?it/s]"
      ]
     },
     "metadata": {},
     "output_type": "display_data"
    },
    {
     "name": "stdout",
     "output_type": "stream",
     "text": [
      "<SkyCoord (Supergalactic): (sgl, sgb) in deg\n",
      "    (89.6226, 8.1461)> <SkyCoord (ICRS): (ra, dec) in deg\n",
      "    (194.75582168, 27.93269246)>\n",
      "<SkyCoord (Supergalactic): (sgl, sgb) in deg\n",
      "    (103.0008, -2.3248)> <SkyCoord (ICRS): (ra, dec) in deg\n",
      "    (187.76381061, 12.28264393)>\n",
      "CLUSTER ID: 100002 -- 131 GALAXIES\n",
      "<SkyCoord (Supergalactic): (sgl, sgb) in deg\n",
      "    (156.2336, -11.5868)> <SkyCoord (ICRS): (ra, dec) in deg\n",
      "    (191.95609451, -41.13331653)>\n",
      "<SkyCoord (Supergalactic): (sgl, sgb) in deg\n",
      "    (71.5103, 49.7851)> <SkyCoord (ICRS): (ra, dec) in deg\n",
      "    (246.98584602, 40.22479396)>\n",
      "<SkyCoord (Supergalactic): (sgl, sgb) in deg\n",
      "    (92.0255, -10.495)> <SkyCoord (ICRS): (ra, dec) in deg\n",
      "    (176.07089679, 20.00355552)>\n",
      "<SkyCoord (Supergalactic): (sgl, sgb) in deg\n",
      "    (139.4478, -37.6063)> <SkyCoord (ICRS): (ra, dec) in deg\n",
      "    (159.12443756, -27.59210981)>\n",
      "<SkyCoord (Supergalactic): (sgl, sgb) in deg\n",
      "    (108.5182, 49.0878)> <SkyCoord (ICRS): (ra, dec) in deg\n",
      "    (241.05808519, 16.95441739)>\n",
      "CLUSTER ID: 100007 -- 27 GALAXIES\n",
      "<SkyCoord (Supergalactic): (sgl, sgb) in deg\n",
      "    (67.2953, 3.239)> <SkyCoord (ICRS): (ra, dec) in deg\n",
      "    (180.80824918, 47.93296516)>\n",
      "<SkyCoord (Supergalactic): (sgl, sgb) in deg\n",
      "    (173.2412, 43.415)> <SkyCoord (ICRS): (ra, dec) in deg\n",
      "    (258.04052886, -23.51424173)>\n",
      "<SkyCoord (Supergalactic): (sgl, sgb) in deg\n",
      "    (149.1678, -1.3439)> <SkyCoord (ICRS): (ra, dec) in deg\n",
      "    (202.12189779, -31.77035065)>\n",
      "<SkyCoord (Supergalactic): (sgl, sgb) in deg\n",
      "    (149.3252, 3.0111)> <SkyCoord (ICRS): (ra, dec) in deg\n",
      "    (206.99387595, -30.50331833)>\n",
      "<SkyCoord (Supergalactic): (sgl, sgb) in deg\n",
      "    (153.5729, 4.6472)> <SkyCoord (ICRS): (ra, dec) in deg\n",
      "    (210.6147874, -33.85783008)>\n",
      "<SkyCoord (Supergalactic): (sgl, sgb) in deg\n",
      "    (129.3997, -3.7956)> <SkyCoord (ICRS): (ra, dec) in deg\n",
      "    (193.56640266, -13.48376481)>\n",
      "<SkyCoord (Supergalactic): (sgl, sgb) in deg\n",
      "    (149.1605, -38.8487)> <SkyCoord (ICRS): (ra, dec) in deg\n",
      "    (156.97292291, -35.09763937)>\n",
      "<SkyCoord (Supergalactic): (sgl, sgb) in deg\n",
      "    (125.2081, -3.0578)> <SkyCoord (ICRS): (ra, dec) in deg\n",
      "    (193.16277283, -9.25359807)>\n",
      "CLUSTER ID: 100015 -- 54 GALAXIES\n",
      "<SkyCoord (Supergalactic): (sgl, sgb) in deg\n",
      "    (30.2577, -18.3958)> <SkyCoord (ICRS): (ra, dec) in deg\n",
      "    (110.17218675, 55.6898024)>\n",
      "<SkyCoord (Supergalactic): (sgl, sgb) in deg\n",
      "    (28.9315, -23.8358)> <SkyCoord (ICRS): (ra, dec) in deg\n",
      "    (107.31433169, 50.38103909)>\n",
      "<SkyCoord (Supergalactic): (sgl, sgb) in deg\n",
      "    (93.2967, -5.8961)> <SkyCoord (ICRS): (ra, dec) in deg\n",
      "    (181.13330451, 20.40761669)>\n",
      "<SkyCoord (Supergalactic): (sgl, sgb) in deg\n",
      "    (133.586, 0.2604)> <SkyCoord (ICRS): (ra, dec) in deg\n",
      "    (198.78637875, -16.40332102)>\n",
      "<SkyCoord (Supergalactic): (sgl, sgb) in deg\n",
      "    (80.917, -14.0429)> <SkyCoord (ICRS): (ra, dec) in deg\n",
      "    (167.684214, 28.49303999)>\n"
     ]
    }
   ],
   "source": [
    "full_cluster = []\n",
    "v_cluster = []\n",
    "c_4r_in_cluster = []\n",
    "\n",
    "# Define group coordinates object (used to find heliocentric velocity for each cluster)\n",
    "group_coords = SkyCoord(table2['SGLON']*u.degree, \n",
    "                        table2['SGLAT']*u.degree, \n",
    "                        frame='supergalactic')\n",
    "\n",
    "# Define SGA galaxy coordinates object\n",
    "SGA_coords = SkyCoord(TF_SGA_cp4['RA'], TF_SGA_cp4['DEC'], unit='deg')\n",
    "\n",
    "for nest_id in tqdm(table3[\"Nest\"][:20]):\n",
    "    \n",
    "    ## Set active row for each nest number and base values \n",
    "    i_cluster = table3_dict[nest_id]\n",
    "    \n",
    "    R2t = table3[\"R2t\"][i_cluster]\n",
    "    sigma = table3[\"sigP\"][i_cluster]\n",
    "    \n",
    "    ## Find the coordinates for each cluster\n",
    "    cluster_coords = SkyCoord(table3[\"SGLON\"][i_cluster]*u.degree, \n",
    "                              table3[\"SGLAT\"][i_cluster]*u.degree, \n",
    "                              frame='supergalactic')\n",
    "    \n",
    "    print(cluster_coords, cluster_coords.transform_to('icrs'))\n",
    "    \n",
    "    ## Match cluster to group coordinates \n",
    "    idx, d2d, d3d = cluster_coords.match_to_catalog_sky(group_coords)\n",
    "    v = table2[\"__HV_\"][idx]\n",
    "    \n",
    "    ## Match SGA coordinates from unique galaxies to nearest cluster\n",
    "    sep = cluster_coords.separation(SGA_coords)\n",
    "\n",
    "    ## Convert R2t to an angle \n",
    "    R2t_angle = (R2t/(v/H0))*u.radian\n",
    "    \n",
    "    SGA_in_cluster1 = (sep < 1.5*R2t_angle) & (TF_SGA_cp4[\"Z_DESI\"]*c > v - 3*sigma) & (TF_SGA_cp4[\"Z_DESI\"]*c < v + 3*sigma)\n",
    "    SGA_in_cluster2 = (sep >= 1.5*R2t_angle) & (sep < 3*R2t_angle) & (TF_SGA_cp4[\"Z_DESI\"]*c > v - 2*sigma) & (TF_SGA_cp4[\"Z_DESI\"]*c < v + 2*sigma)\n",
    "    \n",
    "    SGA_in_cluster = SGA_in_cluster1 | SGA_in_cluster2\n",
    "    \n",
    "    ## Keep observations that are within nest cluster \n",
    "    SGA_ID_in_cluster = TF_SGA_cp4[\"SGA_ID\"][SGA_in_cluster]\n",
    "    \n",
    "    ## Gather centers and axes in the cluster\n",
    "    centers_in_cluster = good_centers[np.in1d(good_centers['SGA_ID'], SGA_ID_in_cluster)]\n",
    "    axis_in_cluster = iron_axis[np.in1d(iron_axis['SGA_ID'], SGA_ID_in_cluster)]\n",
    "    \n",
    "    if len(SGA_ID_in_cluster) > 20:\n",
    "        print(\"CLUSTER ID:\", nest_id, \"--\", len(SGA_ID_in_cluster), \"GALAXIES\"),\n",
    "        full_cluster.append(nest_id)\n",
    "        v_cluster.append(v)\n",
    "        c_4r_in_cluster.append(SGA_ID_in_cluster)"
   ]
  },
  {
   "cell_type": "code",
   "execution_count": 25,
   "id": "c47d6aa4-8ee4-4476-b7d9-6eba569f9838",
   "metadata": {
    "tags": []
   },
   "outputs": [
    {
     "name": "stdout",
     "output_type": "stream",
     "text": [
      "162 212\n"
     ]
    }
   ],
   "source": [
    "print(len(np.unique(np.concatenate(c_4r_in_cluster))), len(np.concatenate(c_4r_in_cluster)))"
   ]
  },
  {
   "cell_type": "code",
   "execution_count": 32,
   "id": "72f70ee6-6fa6-49a9-a536-d72bf58bb66e",
   "metadata": {
    "tags": []
   },
   "outputs": [
    {
     "data": {
      "image/png": "[encoded data removed]",
      "text/plain": [
       "<Figure size 1000x400 with 2 Axes>"
      ]
     },
     "metadata": {},
     "output_type": "display_data"
    }
   ],
   "source": [
    "cluster_coords = SkyCoord(table3['SGLON']*u.degree, \n",
    "                          table3['SGLAT']*u.degree, \n",
    "                          frame='supergalactic')\n",
    "\n",
    "plt.figure(figsize=(10,4), tight_layout=True)\n",
    "\n",
    "# colors = ['tab:blue', 'tab:orange', 'tab:green']\n",
    "\n",
    "plt.subplot(121)#, projection='mollweide')\n",
    "plt.grid(True)\n",
    "for i in range(len(full_cluster)):\n",
    "    \n",
    "    table3_i = table3_dict[full_cluster[i]]\n",
    "    \n",
    "    plt.plot(np.radians(TF_SGA_cp4.loc[c_4r_in_cluster[i]]['RA'] - 180), \n",
    "             np.radians(TF_SGA_cp4.loc[c_4r_in_cluster[i]]['DEC']), \n",
    "             'o', alpha=0.5, label=str(full_cluster[i]))\n",
    "    plt.plot(np.radians(cluster_coords[table3_i].transform_to('icrs').ra.deg - 180), \n",
    "             np.radians(cluster_coords[table3_i].transform_to('icrs').dec.deg), \n",
    "             'kx', ms=10, mew=5)\n",
    "\n",
    "plt.xlabel(r'$\\alpha$ [deg]', fontsize=14)\n",
    "plt.ylabel(r'$\\delta$ [deg]', fontsize=14)\n",
    "# plt.tick_params(axis='both', which='major', labelsize=12)\n",
    "\n",
    "plt.subplot(122)\n",
    "for i in range(len(full_cluster)):\n",
    "    \n",
    "    table3_i = table3_dict[full_cluster[i]]\n",
    "    \n",
    "    plt.plot(TF_SGA_cp4.loc[c_4r_in_cluster[i]]['Z_DESI'], \n",
    "             TF_SGA_cp4.loc[c_4r_in_cluster[i]]['DEC'], \n",
    "             'o', alpha=0.5, label=str(full_cluster[i]))\n",
    "    \n",
    "    plt.plot(v_cluster[i]/c, \n",
    "             cluster_coords[table3_i].transform_to('icrs').dec.deg, \n",
    "             'kx', ms=10, mew=5)\n",
    "\n",
    "# plt.xlim((0.0125, 0.035))\n",
    "plt.xlabel('redshift', fontsize=14)\n",
    "plt.ylabel(r'$\\delta$ [deg]', fontsize=14)\n",
    "# plt.tick_params(axis='both', which='major', labelsize=12)\n",
    "\n",
    "plt.legend();"
   ]
  },
  {
   "cell_type": "code",
   "execution_count": null,
   "id": "7351500b-1b61-4b75-82fe-be65dad0a617",
   "metadata": {},
   "outputs": [],
   "source": []
  }
 ],
 "metadata": {
  "kernelspec": {
   "display_name": "DESI main",
   "language": "python",
   "name": "desi-main"
  },
  "language_info": {
   "codemirror_mode": {
    "name": "ipython",
    "version": 3
   },
   "file_extension": ".py",
   "mimetype": "text/x-python",
   "name": "python",
   "nbconvert_exporter": "python",
   "pygments_lexer": "ipython3",
   "version": "3.10.8"
  }
 },
 "nbformat": 4,
 "nbformat_minor": 5
}
