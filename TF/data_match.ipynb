{
 "cells": [
  {
   "cell_type": "code",
   "execution_count": 87,
   "id": "a019ebd5-ff8d-4671-948c-82ef0fbdd6eb",
   "metadata": {},
   "outputs": [],
   "source": [
    "from astropy.table import Table, join, hstack, unique\n",
    "from astropy.io import ascii\n",
    "from astropy.coordinates import SkyCoord\n",
    "import astropy.units as u\n",
    "import numpy as np\n",
    "from glob import glob\n",
    "\n",
    "import matplotlib as mpl\n",
    "import matplotlib.pyplot as plt\n",
    "\n",
    "import os\n",
    "import requests"
   ]
  },
  {
   "cell_type": "markdown",
   "id": "e157975c-e991-4936-ad95-e5fe92f1b530",
   "metadata": {},
   "source": [
    "## Load SGA Data"
   ]
  },
  {
   "cell_type": "code",
   "execution_count": 2,
   "id": "e2d8ce3d-0246-4353-a1b2-84aa774c47cb",
   "metadata": {},
   "outputs": [
    {
     "data": {
      "text/html": [
       "<i>Table length=10</i>\n",
       "<table id=\"table46913212498176\" class=\"table-striped table-bordered table-condensed\">\n",
       "<thead><tr><th>SGA_ID</th><th>SGA_GALAXY</th><th>GALAXY</th><th>PGC</th><th>RA_LEDA</th><th>DEC_LEDA</th><th>MORPHTYPE</th><th>PA_LEDA</th><th>D25_LEDA</th><th>BA_LEDA</th><th>Z_LEDA</th><th>SB_D25_LEDA</th><th>MAG_LEDA</th><th>BYHAND</th><th>REF</th><th>GROUP_ID</th><th>GROUP_NAME</th><th>GROUP_MULT</th><th>GROUP_PRIMARY</th><th>GROUP_RA</th><th>GROUP_DEC</th><th>GROUP_DIAMETER</th><th>BRICKNAME</th><th>RA</th><th>DEC</th><th>D26</th><th>D26_REF</th><th>PA</th><th>BA</th><th>RA_MOMENT</th><th>DEC_MOMENT</th><th>SMA_MOMENT</th><th>G_SMA50</th><th>R_SMA50</th><th>Z_SMA50</th><th>SMA_SB22</th><th>SMA_SB22.5</th><th>SMA_SB23</th><th>SMA_SB23.5</th><th>SMA_SB24</th><th>SMA_SB24.5</th><th>SMA_SB25</th><th>SMA_SB25.5</th><th>SMA_SB26</th><th>G_MAG_SB22</th><th>R_MAG_SB22</th><th>Z_MAG_SB22</th><th>G_MAG_SB22.5</th><th>R_MAG_SB22.5</th><th>Z_MAG_SB22.5</th><th>G_MAG_SB23</th><th>R_MAG_SB23</th><th>Z_MAG_SB23</th><th>G_MAG_SB23.5</th><th>R_MAG_SB23.5</th><th>Z_MAG_SB23.5</th><th>G_MAG_SB24</th><th>R_MAG_SB24</th><th>Z_MAG_SB24</th><th>G_MAG_SB24.5</th><th>R_MAG_SB24.5</th><th>Z_MAG_SB24.5</th><th>G_MAG_SB25</th><th>R_MAG_SB25</th><th>Z_MAG_SB25</th><th>G_MAG_SB25.5</th><th>R_MAG_SB25.5</th><th>Z_MAG_SB25.5</th><th>G_MAG_SB26</th><th>R_MAG_SB26</th><th>Z_MAG_SB26</th><th>SMA_SB22_ERR</th><th>SMA_SB22.5_ERR</th><th>SMA_SB23_ERR</th><th>SMA_SB23.5_ERR</th><th>SMA_SB24_ERR</th><th>SMA_SB24.5_ERR</th><th>SMA_SB25_ERR</th><th>SMA_SB25.5_ERR</th><th>SMA_SB26_ERR</th><th>G_MAG_SB22_ERR</th><th>R_MAG_SB22_ERR</th><th>Z_MAG_SB22_ERR</th><th>G_MAG_SB22.5_ERR</th><th>R_MAG_SB22.5_ERR</th><th>Z_MAG_SB22.5_ERR</th><th>G_MAG_SB23_ERR</th><th>R_MAG_SB23_ERR</th><th>Z_MAG_SB23_ERR</th><th>G_MAG_SB23.5_ERR</th><th>R_MAG_SB23.5_ERR</th><th>Z_MAG_SB23.5_ERR</th><th>G_MAG_SB24_ERR</th><th>R_MAG_SB24_ERR</th><th>Z_MAG_SB24_ERR</th><th>G_MAG_SB24.5_ERR</th><th>R_MAG_SB24.5_ERR</th><th>Z_MAG_SB24.5_ERR</th><th>G_MAG_SB25_ERR</th><th>R_MAG_SB25_ERR</th><th>Z_MAG_SB25_ERR</th><th>G_MAG_SB25.5_ERR</th><th>R_MAG_SB25.5_ERR</th><th>Z_MAG_SB25.5_ERR</th><th>G_MAG_SB26_ERR</th><th>R_MAG_SB26_ERR</th><th>Z_MAG_SB26_ERR</th><th>G_COG_PARAMS_MTOT</th><th>G_COG_PARAMS_M0</th><th>G_COG_PARAMS_ALPHA1</th><th>G_COG_PARAMS_ALPHA2</th><th>G_COG_PARAMS_CHI2</th><th>R_COG_PARAMS_MTOT</th><th>R_COG_PARAMS_M0</th><th>R_COG_PARAMS_ALPHA1</th><th>R_COG_PARAMS_ALPHA2</th><th>R_COG_PARAMS_CHI2</th><th>Z_COG_PARAMS_MTOT</th><th>Z_COG_PARAMS_M0</th><th>Z_COG_PARAMS_ALPHA1</th><th>Z_COG_PARAMS_ALPHA2</th><th>Z_COG_PARAMS_CHI2</th><th>ELLIPSEBIT</th></tr></thead>\n",
       "<thead><tr><th>int64</th><th>bytes16</th><th>bytes29</th><th>int64</th><th>float64</th><th>float64</th><th>bytes21</th><th>float32</th><th>float32</th><th>float32</th><th>float32</th><th>float32</th><th>float32</th><th>bool</th><th>bytes13</th><th>int64</th><th>bytes35</th><th>int16</th><th>bool</th><th>float64</th><th>float64</th><th>float32</th><th>bytes8</th><th>float64</th><th>float64</th><th>float32</th><th>bytes4</th><th>float32</th><th>float32</th><th>float64</th><th>float64</th><th>float32</th><th>float32</th><th>float32</th><th>float32</th><th>float32</th><th>float32</th><th>float32</th><th>float32</th><th>float32</th><th>float32</th><th>float32</th><th>float32</th><th>float32</th><th>float32</th><th>float32</th><th>float32</th><th>float32</th><th>float32</th><th>float32</th><th>float32</th><th>float32</th><th>float32</th><th>float32</th><th>float32</th><th>float32</th><th>float32</th><th>float32</th><th>float32</th><th>float32</th><th>float32</th><th>float32</th><th>float32</th><th>float32</th><th>float32</th><th>float32</th><th>float32</th><th>float32</th><th>float32</th><th>float32</th><th>float32</th><th>float32</th><th>float32</th><th>float32</th><th>float32</th><th>float32</th><th>float32</th><th>float32</th><th>float32</th><th>float32</th><th>float32</th><th>float32</th><th>float32</th><th>float32</th><th>float32</th><th>float32</th><th>float32</th><th>float32</th><th>float32</th><th>float32</th><th>float32</th><th>float32</th><th>float32</th><th>float32</th><th>float32</th><th>float32</th><th>float32</th><th>float32</th><th>float32</th><th>float32</th><th>float32</th><th>float32</th><th>float32</th><th>float32</th><th>float32</th><th>float32</th><th>float32</th><th>float32</th><th>float32</th><th>float32</th><th>float32</th><th>float32</th><th>float32</th><th>float32</th><th>float32</th><th>float32</th><th>float32</th><th>float32</th><th>float32</th><th>float32</th><th>float32</th><th>float32</th><th>int32</th></tr></thead>\n",
       "<tr><td>2</td><td>SGA-2020 2</td><td>PGC1283207</td><td>1283207</td><td>228.3770865</td><td>5.4232017</td><td>S?</td><td>152.2</td><td>0.36307806</td><td>0.724436</td><td>0.03463229</td><td>23.40448</td><td>16.976</td><td>False</td><td>LEDA-20181114</td><td>0</td><td>PGC1283207</td><td>1</td><td>True</td><td>228.3770865</td><td>5.4232017</td><td>0.36307806</td><td>2283p055</td><td>228.3770803831908</td><td>5.423191398593787</td><td>0.49470574</td><td>SB26</td><td>158.20142</td><td>0.545691</td><td>228.37700918822188</td><td>5.4232652570544015</td><td>10.897086</td><td>3.3509698</td><td>3.1147978</td><td>3.240862</td><td>5.902337</td><td>6.9126143</td><td>7.941369</td><td>8.997992</td><td>10.073601</td><td>11.199986</td><td>12.391357</td><td>13.561038</td><td>14.841172</td><td>16.966799</td><td>16.108246</td><td>15.486356</td><td>16.879545</td><td>16.024958</td><td>15.400715</td><td>16.818878</td><td>15.967034</td><td>15.341793</td><td>16.776297</td><td>15.925804</td><td>15.300776</td><td>16.746685</td><td>15.897334</td><td>15.272053</td><td>16.725166</td><td>15.876816</td><td>15.2521105</td><td>16.708357</td><td>15.862035</td><td>15.237181</td><td>16.696539</td><td>15.851936</td><td>15.226998</td><td>16.689613</td><td>15.844313</td><td>15.21976</td><td>0.013392451</td><td>0.02354</td><td>0.021872982</td><td>0.01736985</td><td>0.024445537</td><td>0.039866067</td><td>0.05026544</td><td>0.08455789</td><td>0.122911856</td><td>0.005682776</td><td>0.0054258136</td><td>0.0049038026</td><td>0.005588406</td><td>0.005323561</td><td>0.0047632363</td><td>0.00543534</td><td>0.005177031</td><td>0.0046343105</td><td>0.0053025587</td><td>0.005040888</td><td>0.0045181247</td><td>0.005206092</td><td>0.0049438984</td><td>0.0044374703</td><td>0.0051483097</td><td>0.0048758644</td><td>0.0043834248</td><td>0.0051032505</td><td>0.0048264163</td><td>0.004344248</td><td>0.0050705094</td><td>0.004792021</td><td>0.004319857</td><td>0.005054293</td><td>0.004765629</td><td>0.0043044444</td><td>16.65942</td><td>0.34037337</td><td>0.2978292</td><td>3.0239506</td><td>0.07928849</td><td>15.820566</td><td>0.2640441</td><td>0.34559453</td><td>3.3033552</td><td>0.003811298</td><td>15.195567</td><td>0.29826432</td><td>0.3001073</td><td>3.2333765</td><td>0.011723555</td><td>0</td></tr>\n",
       "<tr><td>3</td><td>SGA-2020 3</td><td>PGC1310416</td><td>1310416</td><td>202.54443750000002</td><td>6.9345944</td><td>Sc</td><td>159.26</td><td>0.4017908</td><td>0.7816278</td><td>0.073888786</td><td>23.498482</td><td>16.85</td><td>False</td><td>LEDA-20181114</td><td>1</td><td>PGC1310416</td><td>1</td><td>True</td><td>202.54443750000002</td><td>6.9345944</td><td>0.4017908</td><td>2025p070</td><td>202.5444619671207</td><td>6.9346244322326624</td><td>0.55350494</td><td>SB26</td><td>161.5937</td><td>0.7291764</td><td>202.54432739596137</td><td>6.934806737209989</td><td>15.746941</td><td>5.6416235</td><td>5.2647552</td><td>5.0895185</td><td>5.9838247</td><td>7.4356494</td><td>8.728868</td><td>10.087478</td><td>11.529764</td><td>12.818195</td><td>14.115497</td><td>15.319822</td><td>16.605148</td><td>16.963299</td><td>16.307854</td><td>15.806882</td><td>16.729511</td><td>16.097378</td><td>15.615527</td><td>16.606344</td><td>15.990707</td><td>15.518403</td><td>16.525967</td><td>15.917321</td><td>15.450624</td><td>16.462585</td><td>15.859485</td><td>15.397182</td><td>16.419558</td><td>15.820947</td><td>15.36243</td><td>16.390558</td><td>15.796369</td><td>15.338905</td><td>16.376112</td><td>15.782492</td><td>15.323709</td><td>16.364115</td><td>15.773462</td><td>15.313725</td><td>0.036992554</td><td>0.034982767</td><td>0.037769336</td><td>0.049429573</td><td>0.052699674</td><td>0.074114166</td><td>0.07914538</td><td>0.09781406</td><td>0.15534972</td><td>0.016095797</td><td>0.019181909</td><td>0.021539452</td><td>0.013955905</td><td>0.016594552</td><td>0.018640138</td><td>0.012786752</td><td>0.015244632</td><td>0.01715491</td><td>0.011973826</td><td>0.014366956</td><td>0.016208366</td><td>0.011358372</td><td>0.013676575</td><td>0.015474222</td><td>0.010944939</td><td>0.013225297</td><td>0.015011175</td><td>0.010691595</td><td>0.012931233</td><td>0.014687982</td><td>0.010546411</td><td>0.012796015</td><td>0.014518412</td><td>0.010457551</td><td>0.012685407</td><td>0.014379212</td><td>16.284733</td><td>1.0914493</td><td>0.24674739</td><td>2.4320207</td><td>0.68685365</td><td>15.704403</td><td>0.8764323</td><td>0.27360612</td><td>2.4995425</td><td>0.49343896</td><td>15.235263</td><td>1.3098688</td><td>0.17866786</td><td>2.1750498</td><td>0.20391206</td><td>0</td></tr>\n",
       "<tr><td>4</td><td>SGA-2020 4</td><td>SDSSJ145059.93+135143.0</td><td>4435547</td><td>222.749787</td><td>13.8619111</td><td>S?</td><td>44.57</td><td>0.33342642</td><td>0.6637431</td><td>0.07567602</td><td>24.457481</td><td>18.214</td><td>False</td><td>LEDA-20181114</td><td>2</td><td>SDSSJ145059.93+135143.0</td><td>1</td><td>True</td><td>222.749787</td><td>13.8619111</td><td>0.33342642</td><td>2228p137</td><td>222.7497050504303</td><td>13.861929561160224</td><td>0.37067476</td><td>SB26</td><td>45.28537</td><td>0.70922077</td><td>222.749650475464</td><td>13.862052070022896</td><td>8.877115</td><td>4.652771</td><td>4.4837785</td><td>4.4959745</td><td>2.01033</td><td>3.3967943</td><td>4.76257</td><td>6.043787</td><td>7.242806</td><td>8.250407</td><td>9.158723</td><td>10.083457</td><td>11.120243</td><td>19.97595</td><td>19.190666</td><td>18.649523</td><td>19.098536</td><td>18.397219</td><td>17.899643</td><td>18.624952</td><td>17.967802</td><td>17.50231</td><td>18.35278</td><td>17.718002</td><td>17.265854</td><td>18.192762</td><td>17.5654</td><td>17.115404</td><td>18.10496</td><td>17.480022</td><td>17.033989</td><td>18.053415</td><td>17.430794</td><td>16.982971</td><td>18.020155</td><td>17.399996</td><td>16.948252</td><td>17.994783</td><td>17.377092</td><td>16.924469</td><td>0.02113719</td><td>0.03639431</td><td>0.051901262</td><td>0.06539029</td><td>0.08552586</td><td>0.07008602</td><td>0.070394725</td><td>0.08394975</td><td>0.113649584</td><td>0.013428732</td><td>0.017600043</td><td>0.016373685</td><td>0.012251812</td><td>0.014566466</td><td>0.013732588</td><td>0.012644532</td><td>0.014030071</td><td>0.013153961</td><td>0.012747069</td><td>0.013512552</td><td>0.012818239</td><td>0.012865601</td><td>0.01324455</td><td>0.012532208</td><td>0.012762528</td><td>0.013058522</td><td>0.012420634</td><td>0.01252645</td><td>0.012827468</td><td>0.012283978</td><td>0.012320441</td><td>0.012607317</td><td>0.012104107</td><td>0.0121167945</td><td>0.01244376</td><td>0.011985352</td><td>17.896797</td><td>0.5557265</td><td>0.25455818</td><td>3.167909</td><td>1.0522435</td><td>17.28287</td><td>0.4885815</td><td>0.2782499</td><td>3.2144456</td><td>1.3733263</td><td>16.807674</td><td>0.5177045</td><td>0.32264626</td><td>2.900518</td><td>1.8054093</td><td>0</td></tr>\n",
       "<tr><td>7</td><td>SGA-2020 7</td><td>PGC1742504</td><td>1742504</td><td>182.0888085</td><td>25.6022764</td><td>Sbc</td><td>84.97</td><td>0.548277</td><td>0.25118864</td><td>0.10090814</td><td>24.91348</td><td>17.59</td><td>False</td><td>LEDA-20181114</td><td>3</td><td>PGC1742504</td><td>1</td><td>True</td><td>182.0888085</td><td>25.6022764</td><td>0.548277</td><td>1820p255</td><td>182.08882232629614</td><td>25.60226821438983</td><td>0.8883204</td><td>SB26</td><td>84.857475</td><td>0.19753796</td><td>182.08873760544392</td><td>25.602311195157757</td><td>19.779116</td><td>6.5958204</td><td>6.0386286</td><td>5.8089786</td><td>9.279068</td><td>10.949478</td><td>12.652142</td><td>14.446171</td><td>16.323679</td><td>18.392954</td><td>20.915508</td><td>23.566542</td><td>26.649612</td><td>17.390274</td><td>16.360935</td><td>15.531964</td><td>17.285898</td><td>16.262264</td><td>15.440768</td><td>17.2167</td><td>16.195492</td><td>15.380734</td><td>17.16217</td><td>16.144245</td><td>15.334935</td><td>17.130178</td><td>16.110302</td><td>15.304758</td><td>17.104496</td><td>16.084463</td><td>15.280803</td><td>17.081282</td><td>16.061373</td><td>15.2589855</td><td>17.063671</td><td>16.045204</td><td>15.243196</td><td>17.046705</td><td>16.031244</td><td>15.23268</td><td>0.04351465</td><td>0.055440858</td><td>0.052207235</td><td>0.07507412</td><td>0.0793679</td><td>0.10347854</td><td>0.13569456</td><td>0.13104819</td><td>0.17234002</td><td>0.03885276</td><td>0.03744209</td><td>0.03786608</td><td>0.035534665</td><td>0.03441038</td><td>0.03503794</td><td>0.033557214</td><td>0.032548346</td><td>0.033348277</td><td>0.031964395</td><td>0.03106612</td><td>0.031957533</td><td>0.031133845</td><td>0.030202182</td><td>0.031190341</td><td>0.030430589</td><td>0.029511228</td><td>0.030530946</td><td>0.02975241</td><td>0.028853998</td><td>0.029866546</td><td>0.02928568</td><td>0.0284345</td><td>0.029445464</td><td>0.028843498</td><td>0.028076617</td><td>0.029169334</td><td>16.995174</td><td>21.083004</td><td>0.0164273</td><td>1.9079465</td><td>0.029703742</td><td>15.991165</td><td>0.7657307</td><td>0.52285546</td><td>2.3045986</td><td>0.006013103</td><td>15.191324</td><td>1.0408205</td><td>0.32956335</td><td>2.1520333</td><td>0.004725194</td><td>0</td></tr>\n",
       "<tr><td>18</td><td>SGA-2020 18</td><td>2MASXJ12340801+4535444</td><td>3550748</td><td>188.5335525</td><td>45.5956434</td><td>E</td><td>168.65</td><td>0.53088444</td><td>0.6950243</td><td>0.07609531</td><td>23.97948</td><td>16.726</td><td>False</td><td>LEDA-20181114</td><td>4</td><td>2MASXJ12340801+4535444</td><td>1</td><td>True</td><td>188.5335525</td><td>45.5956434</td><td>0.53088444</td><td>1883p455</td><td>188.53364923054596</td><td>45.595620212931856</td><td>0.73435897</td><td>SB26</td><td>166.25127</td><td>0.70995796</td><td>188.53349052789085</td><td>45.59567446403057</td><td>15.694805</td><td>5.091253</td><td>4.670616</td><td>2.9429996</td><td>5.219665</td><td>6.6119533</td><td>8.228266</td><td>10.109745</td><td>12.170589</td><td>14.364073</td><td>16.722517</td><td>19.18709</td><td>22.03077</td><td>17.208511</td><td>16.224203</td><td>15.566424</td><td>17.050343</td><td>16.080097</td><td>15.443468</td><td>16.921791</td><td>15.962402</td><td>15.347263</td><td>16.814959</td><td>15.864242</td><td>15.27134</td><td>16.729906</td><td>15.787886</td><td>15.218466</td><td>16.664564</td><td>15.730083</td><td>15.182751</td><td>16.61991</td><td>15.686324</td><td>15.1601305</td><td>16.585676</td><td>15.654064</td><td>15.148039</td><td>16.558054</td><td>15.629669</td><td>15.141826</td><td>0.032001704</td><td>0.043849397</td><td>0.045203492</td><td>0.072918765</td><td>0.06263939</td><td>0.07675708</td><td>0.10399303</td><td>0.07780949</td><td>0.14017467</td><td>0.016467415</td><td>0.021250801</td><td>0.032092847</td><td>0.0149329165</td><td>0.019061867</td><td>0.028947951</td><td>0.01369758</td><td>0.01736746</td><td>0.026648495</td><td>0.012623343</td><td>0.015980754</td><td>0.024998168</td><td>0.011793644</td><td>0.014977396</td><td>0.023862366</td><td>0.011184664</td><td>0.014255281</td><td>0.023120966</td><td>0.010785815</td><td>0.013740733</td><td>0.022603082</td><td>0.010472503</td><td>0.013351409</td><td>0.022360764</td><td>0.010212836</td><td>0.013043255</td><td>0.022296576</td><td>16.471447</td><td>0.3236818</td><td>1.9206839</td><td>2.3249283</td><td>0.0973919</td><td>15.540598</td><td>0.3247282</td><td>1.7439244</td><td>2.1774826</td><td>0.023485765</td><td>15.124181</td><td>0.16547345</td><td>1.4694684</td><td>3.3948786</td><td>0.028653827</td><td>0</td></tr>\n",
       "<tr><td>20</td><td>SGA-2020 20</td><td>SDSSJ173412.71+572041.6</td><td>3331584</td><td>263.5529355</td><td>57.34490699999999</td><td>S?</td><td>152.58</td><td>0.4487454</td><td>0.5333349</td><td>0.08364453</td><td>24.92448</td><td>18.036</td><td>False</td><td>LEDA-20181114</td><td>5</td><td>SDSSJ173412.71+572041.6</td><td>1</td><td>True</td><td>263.5529355</td><td>57.34490699999999</td><td>0.4487454</td><td>2635p572</td><td>263.55294849855886</td><td>57.344862145664294</td><td>0.4460123</td><td>SB26</td><td>152.3756</td><td>0.5778338</td><td>263.5528114673963</td><td>57.34481025685253</td><td>10.459747</td><td>5.9780583</td><td>5.751067</td><td>4.821581</td><td>1.4858595</td><td>3.4448266</td><td>5.1149526</td><td>6.748707</td><td>8.426254</td><td>9.720271</td><td>11.022999</td><td>12.0887985</td><td>13.380368</td><td>20.656942</td><td>20.044735</td><td>19.40886</td><td>19.194794</td><td>18.66572</td><td>18.231262</td><td>18.599888</td><td>18.123905</td><td>17.745926</td><td>18.256256</td><td>17.807074</td><td>17.476473</td><td>18.040592</td><td>17.60353</td><td>17.319197</td><td>17.926336</td><td>17.500519</td><td>17.228865</td><td>17.85259</td><td>17.42695</td><td>17.180876</td><td>17.811844</td><td>17.39206</td><td>17.151228</td><td>17.783718</td><td>17.36542</td><td>17.143204</td><td>0.02069058</td><td>0.026094317</td><td>0.03480586</td><td>0.05076174</td><td>0.08751116</td><td>0.10309491</td><td>0.08337893</td><td>0.10982923</td><td>0.13734566</td><td>0.031223593</td><td>0.046367057</td><td>0.0777883</td><td>0.015935475</td><td>0.020728666</td><td>0.032657374</td><td>0.012760426</td><td>0.014699919</td><td>0.022893604</td><td>0.010505663</td><td>0.011998588</td><td>0.018923525</td><td>0.010358521</td><td>0.011374098</td><td>0.017719442</td><td>0.010557283</td><td>0.0112259</td><td>0.017149422</td><td>0.010553381</td><td>0.011049819</td><td>0.017135512</td><td>0.010413324</td><td>0.010993488</td><td>0.01699026</td><td>0.010291049</td><td>0.010862263</td><td>0.017057167</td><td>17.6411</td><td>0.6362121</td><td>0.53480667</td><td>2.8045392</td><td>1.7123051</td><td>17.22401</td><td>0.6144014</td><td>0.53440714</td><td>2.7180903</td><td>2.1161501</td><td>17.062769</td><td>0.44818503</td><td>0.43006793</td><td>3.1755726</td><td>0.97457016</td><td>0</td></tr>\n",
       "<tr><td>24</td><td>SGA-2020 24</td><td>PGC2162969</td><td>2162969</td><td>247.42443000000003</td><td>40.24824</td><td>S?</td><td>0.0</td><td>0.43451023</td><td>0.91201085</td><td>0.030465743</td><td>23.110481</td><td>16.292</td><td>False</td><td>LEDA-20181114</td><td>6</td><td>PGC200157_GROUP</td><td>2</td><td>False</td><td>247.41561265388845</td><td>40.24057507998105</td><td>1.0561523</td><td>2474p402</td><td>247.42445048371366</td><td>40.24820033835744</td><td>0.5431378</td><td>LEDA</td><td>101.95022</td><td>0.89250207</td><td>247.42434880302983</td><td>40.24826160366282</td><td>15.888059</td><td>-1.0</td><td>-1.0</td><td>-1.0</td><td>-1.0</td><td>-1.0</td><td>-1.0</td><td>-1.0</td><td>-1.0</td><td>-1.0</td><td>-1.0</td><td>-1.0</td><td>-1.0</td><td>-1.0</td><td>-1.0</td><td>-1.0</td><td>-1.0</td><td>-1.0</td><td>-1.0</td><td>-1.0</td><td>-1.0</td><td>-1.0</td><td>-1.0</td><td>-1.0</td><td>-1.0</td><td>-1.0</td><td>-1.0</td><td>-1.0</td><td>-1.0</td><td>-1.0</td><td>-1.0</td><td>-1.0</td><td>-1.0</td><td>-1.0</td><td>-1.0</td><td>-1.0</td><td>-1.0</td><td>-1.0</td><td>-1.0</td><td>-1.0</td><td>-1.0</td><td>-1.0</td><td>-1.0</td><td>-1.0</td><td>-1.0</td><td>-1.0</td><td>-1.0</td><td>-1.0</td><td>-1.0</td><td>-1.0</td><td>-1.0</td><td>-1.0</td><td>-1.0</td><td>-1.0</td><td>-1.0</td><td>-1.0</td><td>-1.0</td><td>-1.0</td><td>-1.0</td><td>-1.0</td><td>-1.0</td><td>-1.0</td><td>-1.0</td><td>-1.0</td><td>-1.0</td><td>-1.0</td><td>-1.0</td><td>-1.0</td><td>-1.0</td><td>-1.0</td><td>-1.0</td><td>-1.0</td><td>-1.0</td><td>-1.0</td><td>-1.0</td><td>-1.0</td><td>-1.0</td><td>-1.0</td><td>-1.0</td><td>-1.0</td><td>-1.0</td><td>-1.0</td><td>-1.0</td><td>-1.0</td><td>-1.0</td><td>-1.0</td><td>-1.0</td><td>-1.0</td><td>-1.0</td><td>-1.0</td><td>-1.0</td><td>0</td></tr>\n",
       "<tr><td>25</td><td>SGA-2020 25</td><td>PGC054121</td><td>54121</td><td>227.47036350000002</td><td>13.2562981</td><td>Sbc</td><td>70.64</td><td>0.8165824</td><td>0.86496794</td><td>0.022379482</td><td>23.42948</td><td>15.241</td><td>False</td><td>LEDA-20181114</td><td>7</td><td>PGC054121</td><td>1</td><td>True</td><td>227.47036350000002</td><td>13.2562981</td><td>0.8165824</td><td>2275p132</td><td>227.47031353123606</td><td>13.256402782093659</td><td>0.9032927</td><td>SB26</td><td>54.9372</td><td>0.9290268</td><td>227.4700429472929</td><td>13.256485984671057</td><td>23.756569</td><td>9.900074</td><td>9.4958725</td><td>9.147629</td><td>10.191483</td><td>12.735173</td><td>14.82731</td><td>16.736444</td><td>18.73402</td><td>20.828588</td><td>22.853401</td><td>24.907934</td><td>27.098782</td><td>15.6729</td><td>15.045083</td><td>14.593568</td><td>15.3769245</td><td>14.774321</td><td>14.341049</td><td>15.246051</td><td>14.654672</td><td>14.2298155</td><td>15.173311</td><td>14.588186</td><td>14.167052</td><td>15.122127</td><td>14.541565</td><td>14.123228</td><td>15.083035</td><td>14.505676</td><td>14.089516</td><td>15.057359</td><td>14.482468</td><td>14.068062</td><td>15.040025</td><td>14.467183</td><td>14.055928</td><td>15.028107</td><td>14.457384</td><td>14.047177</td><td>0.018359262</td><td>0.017375102</td><td>0.016255992</td><td>0.019816728</td><td>0.038647514</td><td>0.037284017</td><td>0.04342706</td><td>0.071717694</td><td>0.099439405</td><td>0.0058437292</td><td>0.0069466177</td><td>0.008048645</td><td>0.0045692935</td><td>0.005496873</td><td>0.006436989</td><td>0.004073469</td><td>0.0049413145</td><td>0.0058239037</td><td>0.003822102</td><td>0.0046530096</td><td>0.0054966044</td><td>0.0036556777</td><td>0.004464092</td><td>0.0052853883</td><td>0.0035357797</td><td>0.004325215</td><td>0.005129757</td><td>0.0034596229</td><td>0.00423875</td><td>0.005034937</td><td>0.0034086278</td><td>0.00418244</td><td>0.0049834424</td><td>0.0033738492</td><td>0.0041466616</td><td>0.0049476875</td><td>14.970135</td><td>2.6651645</td><td>0.3175275</td><td>2.7061899</td><td>0.84036297</td><td>14.407399</td><td>1.8774098</td><td>0.4264286</td><td>2.8085065</td><td>0.7415527</td><td>14.005723</td><td>1.1530024</td><td>0.7036117</td><td>3.0188198</td><td>0.7843209</td><td>0</td></tr>\n",
       "<tr><td>26</td><td>SGA-2020 26</td><td>PGC2468893</td><td>2468893</td><td>163.598436</td><td>54.4129738</td><td></td><td>64.51</td><td>0.35892195</td><td>0.53703177</td><td>0.17676328</td><td>24.926481</td><td>18.523</td><td>False</td><td>LEDA-20181114</td><td>8</td><td>PGC2468893</td><td>1</td><td>True</td><td>163.598436</td><td>54.4129738</td><td>0.35892195</td><td>1635p545</td><td>163.5984039051307</td><td>54.41298240323229</td><td>0.3833318</td><td>SB26</td><td>46.26398</td><td>0.8524061</td><td>163.5982638998639</td><td>54.41303380382761</td><td>8.821292</td><td>3.2359526</td><td>2.924398</td><td>2.021345</td><td>2.7333577</td><td>3.383293</td><td>4.131329</td><td>5.008367</td><td>6.0306945</td><td>7.188326</td><td>8.429446</td><td>9.863966</td><td>11.499954</td><td>18.91375</td><td>17.621288</td><td>16.865643</td><td>18.731339</td><td>17.469679</td><td>16.733221</td><td>18.59152</td><td>17.350786</td><td>16.62865</td><td>18.480558</td><td>17.254736</td><td>16.545355</td><td>18.388554</td><td>17.175478</td><td>16.476664</td><td>18.312742</td><td>17.111551</td><td>16.42716</td><td>18.256575</td><td>17.062248</td><td>16.38989</td><td>18.215641</td><td>17.022528</td><td>16.365273</td><td>18.179653</td><td>16.990267</td><td>16.35279</td><td>0.0023302117</td><td>0.005615393</td><td>0.008432587</td><td>0.009294833</td><td>0.0114881545</td><td>0.029902346</td><td>0.050029624</td><td>0.0698561</td><td>0.10298213</td><td>0.008917422</td><td>0.008953597</td><td>0.015666634</td><td>0.0076031582</td><td>0.007837551</td><td>0.013918447</td><td>0.006716909</td><td>0.0069769695</td><td>0.012487223</td><td>0.006135703</td><td>0.0064592385</td><td>0.011609407</td><td>0.0057196575</td><td>0.0060675964</td><td>0.010953607</td><td>0.005430515</td><td>0.005781204</td><td>0.010553227</td><td>0.005267251</td><td>0.0056759133</td><td>0.010439154</td><td>0.005154885</td><td>0.00546258</td><td>0.010156198</td><td>0.005106954</td><td>0.0054070675</td><td>0.010169683</td><td>18.01642</td><td>1.2385604</td><td>0.17051077</td><td>1.4091581</td><td>0.99601644</td><td>16.817999</td><td>1.4139539</td><td>0.1533624</td><td>1.2380737</td><td>0.13531691</td><td>16.309488</td><td>0.29089946</td><td>0.21375196</td><td>2.5342278</td><td>0.2944147</td><td>0</td></tr>\n",
       "<tr><td>29</td><td>SGA-2020 29</td><td>2MASXJ11122927+6014431</td><td>3382669</td><td>168.12193649999998</td><td>60.245229599999995</td><td></td><td>95.18</td><td>0.37153524</td><td>0.40550855</td><td>0.13134186</td><td>24.756481</td><td>18.278</td><td>False</td><td>LEDA-20181114</td><td>9</td><td>2MASXJ11122927+6014431</td><td>1</td><td>True</td><td>168.12193649999998</td><td>60.245229599999995</td><td>0.37153524</td><td>1682p602</td><td>168.12195030280432</td><td>60.24520943972748</td><td>0.5254904</td><td>SB26</td><td>93.27518</td><td>0.4504665</td><td>168.12174206037417</td><td>60.24526113391869</td><td>10.063886</td><td>4.9710255</td><td>4.2121243</td><td>2.955684</td><td>3.917081</td><td>5.031503</td><td>6.3397484</td><td>7.859549</td><td>9.5116625</td><td>11.106687</td><td>12.624502</td><td>14.035045</td><td>15.764712</td><td>18.788036</td><td>17.645203</td><td>16.76298</td><td>18.56597</td><td>17.444305</td><td>16.599722</td><td>18.396406</td><td>17.29114</td><td>16.477816</td><td>18.250896</td><td>17.16368</td><td>16.373098</td><td>18.136703</td><td>17.062458</td><td>16.293201</td><td>18.053637</td><td>16.990055</td><td>16.23756</td><td>17.998623</td><td>16.947845</td><td>16.209606</td><td>17.968748</td><td>16.91967</td><td>16.198694</td><td>17.937456</td><td>16.901102</td><td>16.190332</td><td>0.043608252</td><td>0.068593405</td><td>0.08251232</td><td>0.114085354</td><td>0.18821189</td><td>0.14581837</td><td>0.13098465</td><td>0.18873167</td><td>0.16190481</td><td>0.048937622</td><td>0.053202</td><td>0.070389636</td><td>0.043584738</td><td>0.047049206</td><td>0.0624863</td><td>0.039282635</td><td>0.042405277</td><td>0.056875147</td><td>0.035782997</td><td>0.038730845</td><td>0.05225435</td><td>0.033184648</td><td>0.03600609</td><td>0.049067486</td><td>0.03135153</td><td>0.034110624</td><td>0.046893198</td><td>0.030152028</td><td>0.033022434</td><td>0.045820117</td><td>0.029458879</td><td>0.032266933</td><td>0.045367915</td><td>0.028717741</td><td>0.03176078</td><td>0.045077246</td><td>17.832409</td><td>0.3196674</td><td>1.3563452</td><td>2.7893887</td><td>0.122701444</td><td>16.831856</td><td>0.25142962</td><td>1.251332</td><td>3.1430612</td><td>0.10823416</td><td>16.170433</td><td>0.12689392</td><td>1.2175424</td><td>4.702156</td><td>0.06635867</td><td>0</td></tr>\n",
       "</table>"
      ],
      "text/plain": [
       "<Table length=10>\n",
       "SGA_ID  SGA_GALAXY          GALAXY         ... Z_COG_PARAMS_CHI2 ELLIPSEBIT\n",
       "int64    bytes16           bytes29         ...      float32        int32   \n",
       "------ ----------- ----------------------- ... ----------------- ----------\n",
       "     2  SGA-2020 2              PGC1283207 ...       0.011723555          0\n",
       "     3  SGA-2020 3              PGC1310416 ...        0.20391206          0\n",
       "     4  SGA-2020 4 SDSSJ145059.93+135143.0 ...         1.8054093          0\n",
       "     7  SGA-2020 7              PGC1742504 ...       0.004725194          0\n",
       "    18 SGA-2020 18  2MASXJ12340801+4535444 ...       0.028653827          0\n",
       "    20 SGA-2020 20 SDSSJ173412.71+572041.6 ...        0.97457016          0\n",
       "    24 SGA-2020 24              PGC2162969 ...              -1.0          0\n",
       "    25 SGA-2020 25               PGC054121 ...         0.7843209          0\n",
       "    26 SGA-2020 26              PGC2468893 ...         0.2944147          0\n",
       "    29 SGA-2020 29  2MASXJ11122927+6014431 ...        0.06635867          0"
      ]
     },
     "execution_count": 2,
     "metadata": {},
     "output_type": "execute_result"
    }
   ],
   "source": [
    "SGA = Table.read('/global/cfs/cdirs/cosmo/data/sga/2020/SGA-2020.fits', 'ELLIPSE')\n",
    "\n",
    "SGA[:10]"
   ]
  },
  {
   "cell_type": "markdown",
   "id": "cecbccf9-7dea-407e-a8d0-35a29ea3e9b7",
   "metadata": {},
   "source": [
    "## Match stellar distances"
   ]
  },
  {
   "cell_type": "code",
   "execution_count": 3,
   "id": "e8a4be52-ead5-4c87-8a0d-f029fd15b0a0",
   "metadata": {},
   "outputs": [],
   "source": [
    "stellar_dist = glob('cache/stellar_dist/*.txt')"
   ]
  },
  {
   "cell_type": "code",
   "execution_count": 4,
   "id": "320a61f9-ffd1-4fba-8350-3df36ce432b5",
   "metadata": {},
   "outputs": [
    {
     "data": {
      "text/plain": [
       "'Virgo_Fornax_SBF'"
      ]
     },
     "execution_count": 4,
     "metadata": {},
     "output_type": "execute_result"
    }
   ],
   "source": [
    "stellar_dist[0].split('/')[-1].strip('.txt').strip('EDDtable')"
   ]
  },
  {
   "cell_type": "code",
   "execution_count": 5,
   "id": "2ca021ee-d76d-4b5b-97b6-65aa2dd009ca",
   "metadata": {},
   "outputs": [
    {
     "name": "stdout",
     "output_type": "stream",
     "text": [
      "cache/stellar_dist/EDDtableVirgo_Fornax_SBF.txt\n",
      "['PGC', '1PGC', 'J2000', 'Name', 'g-z', 'e_gz', 'm_sbf', 'e_msbf', 'DM', 'e_dm', 'dist', 'e_d', 'Altname']\n",
      "Iteration complete\n",
      "\n",
      "cache/stellar_dist/EDDtableHST_IR_SBF.txt\n",
      "['PGC', 'Name', '1PGC', 'Nest', 'DM', 'edm', 'Vhel', 'Ty', 'RA_DEJ', 'glon', 'glat', 'sgl', 'sgb', 'Ag']\n",
      "Iteration complete\n",
      "\n",
      "cache/stellar_dist/EDDtableTonry_SBF.txt\n",
      "['PGC', 'objname', 'Modc', '1PGC', 'Nest', 'al2000', 'de2000', 'V_hel', 'T', 'GrpID', 'AgB', 'VmI', 'e_VmI', 'N_VmI', 'Ibar', 'e_Ibar', 'N_Ibar', 'Mod01', 'e_Mod', 'Rav', 'ratio_in', 'ratio_out', 'Qmax', 'PD', 'NbarI', 'Sigma', 'Qual', 'icnt', 'NBG_ID', 'LH_ID', 'fil']\n",
      "Iteration complete\n",
      "\n",
      "cache/stellar_dist/EDDtableMcConnachie.txt\n",
      "['PGC', 'Name', 'RAJ', 'DeJ', 'E(B-V)', 'DM', 'eDM+', 'eDM-', 'Vhel', 'eV+', 'eV-', 'Vmag', 'emag+', 'emag-', 'PA', 'PA+', 'PA-', 'Ellip', 'eE+', 'eE-', 'SB0', 'eSB+', 'eSB-', 'Re', 'eR+', 'eR-', 'Sig_s', 'eS_s+', 'eS_s-', 'Vrot_s', 'eVr_s+', 'eVr_s-', 'MHI', 'Sig_g', 'eS_g+', 'eS_g-', 'Vrot_g', 'eVr_g+', 'eVr_g-', '[Fe/H]', 'eFe/H+', 'eFe/H-', 'F', 'Ref', 'Dist', 'eD+', 'eD-', 'Vh', 'eVh', 'Glong', 'Glat', 'SGL', 'SGB']\n",
      "Iteration complete\n",
      "\n",
      "cache/stellar_dist/EDDtableANGST.txt\n",
      "cache/stellar_dist/EDDtableCantiello_18_SBF.txt\n",
      "['PGC', 'Name', 'VCC', 'dist', 'eD', 'DM', 'edm', 'Vhel', '1PGC', 'Nest', 'Gp', 'Ty', 'RA_DEJ', 'glon', 'glat', 'sgl', 'sgb', 'Ag', 'Area', 'Rad', 'uz', 'euz', 'gi', 'egi', 'gz', 'egz', 'Mbar', 'eMbar']\n",
      "Iteration complete\n",
      "\n",
      "cache/stellar_dist/EDDtableHydra_Centaurus_SBF.txt\n",
      "['PGC', 'Name', '1PGC', 'Nest', 'GpID', 'RAJ', 'DeJ', 'Vo', 'V-I', 'Vh', 'Type', 'F', 'P0', 'e_P0', 'P1', 'ZP', 'S/N', 'dsim', 'dBG', 'dGC', 'mbar', 'e_mbar', 'DM', 'e_dm', 'dist', 'e_d']\n",
      "Iteration complete\n",
      "\n"
     ]
    }
   ],
   "source": [
    "PGC_ids = []\n",
    "DM = []\n",
    "e_DM_hi = []\n",
    "e_DM_lo = []\n",
    "dist = []\n",
    "e_dist = []\n",
    "catalog = []\n",
    "\n",
    "for sfile in stellar_dist:\n",
    "    print(sfile)\n",
    "    if sfile == 'cache/stellar_dist/EDDtableANGST.txt':\n",
    "        continue\n",
    "    name = sfile.split('/')[-1].strip('.txt').strip('EDDtable')\n",
    "    tab = Table.read(sfile, format = 'csv', header_start = 1, data_start = 5)\n",
    "    tab.rename_column('pgc', 'PGC')\n",
    "    jtab = join(SGA, tab, keys = 'PGC', join_type = 'inner')\n",
    "    print(tab.colnames)\n",
    "    catalog.append(np.full(np.shape(jtab['PGC'].flatten()), name))\n",
    "    PGC_ids.append(jtab['PGC'].flatten())\n",
    "    \n",
    "    try:\n",
    "        DM.append(jtab['DM'].flatten())\n",
    "    except KeyError:\n",
    "        try:\n",
    "            DM.append(jtab['dm'].flatten())\n",
    "        except KeyError:\n",
    "            try:\n",
    "                DM.append(jtab['Mod01'].flatten())\n",
    "            except KeyError:\n",
    "                try:\n",
    "                    DM.append(jtab['DM_tip'].flatten())\n",
    "                except KeyError:\n",
    "                    try:\n",
    "                        DM.append(jtab['modulus'].flatten())\n",
    "                    except KeyError:\n",
    "                        print('DM not found')\n",
    "                \n",
    "    try:\n",
    "        e_DM_hi.append(jtab['e_dm'].flatten())\n",
    "    except KeyError:\n",
    "        try:\n",
    "            e_DM_hi.append(jtab['edm'].flatten())\n",
    "        except KeyError:\n",
    "            try:\n",
    "                e_DM_hi.append(jtab['e_Mod'].flatten())\n",
    "            except KeyError:\n",
    "                try:\n",
    "                    e_DM_hi.append(jtab['eDM_hi'].flatten())\n",
    "                except KeyError:\n",
    "                    try:\n",
    "                        e_DM_hi.append(jtab['eDM+'].flatten())\n",
    "                    except KeyError:\n",
    "                        e_DM_hi.append(np.zeros_like(jtab['modulus'].flatten()))\n",
    "                        print('E_DM_hi not found')\n",
    "    \n",
    "    try:\n",
    "        e_DM_lo.append(jtab['e_dm'].flatten())\n",
    "    except KeyError:\n",
    "        try:\n",
    "            e_DM_lo.append(jtab['edm'].flatten())\n",
    "        except KeyError:\n",
    "            try:\n",
    "                e_DM_lo.append(jtab['e_Mod'].flatten())\n",
    "            except KeyError:\n",
    "                try:\n",
    "                    e_DM_lo.append(jtab['eDM_lo'].flatten())\n",
    "                except KeyError:\n",
    "                    try:\n",
    "                        e_DM_lo.append(jtab['eDM-'].flatten())\n",
    "                    except KeyError:\n",
    "                        e_DM_lo.append(np.zeros_like(jtab['modulus'].flatten()))\n",
    "                        print('E_DM_lo not found')\n",
    "                        \n",
    "#     try:\n",
    "#         dist.append(jtab['dist'].flatten())\n",
    "#     except KeyError:\n",
    "#         try:\n",
    "#             DM.append(jtab['dm'].flatten())\n",
    "#         except KeyError:\n",
    "#             try:\n",
    "#                 DM.append(jtab['Mod01'].flatten())\n",
    "#             except KeyError:\n",
    "#                 try:\n",
    "#                     DM.append(jtab['DM_tip'].flatten())\n",
    "#                 except KeyError:\n",
    "#                     try:\n",
    "#                         DM.append(jtab['modulus'].flatten())\n",
    "#                     except KeyError:\n",
    "#                         print('DM not found')\n",
    "# #     try:\n",
    "#         e_DM.append(jtab['e_dm'].flatten())\n",
    "#     except KeyError:\n",
    "#         try:\n",
    "#             e_DM.append(jtab['edm'].flatten())\n",
    "#         except KeyError:\n",
    "#             print('e_dm not found')\n",
    "    # print()\n",
    "#     dist.append(jtab['dist'].flatten())\n",
    "#     e_dist.append(jtab['e_d'].flatten())\n",
    "    \n",
    "    print('Iteration complete')\n",
    "    print()\n",
    "    # print(jtab)\n",
    "    # break"
   ]
  },
  {
   "cell_type": "code",
   "execution_count": 6,
   "id": "83a19841-6a62-49df-8992-b34c5e2d60e9",
   "metadata": {},
   "outputs": [],
   "source": [
    "def flatten_array(arr):\n",
    "    flat_arr = []\n",
    "    for i in range(len(arr)):\n",
    "        for j in range(len(arr[i])):\n",
    "            flat_arr.append(arr[i][j])\n",
    "    return flat_arr"
   ]
  },
  {
   "cell_type": "code",
   "execution_count": 7,
   "id": "6ad491d5-ffb9-47a9-b64a-d057266621ff",
   "metadata": {},
   "outputs": [],
   "source": [
    "PGC_ids_flat = flatten_array(PGC_ids)\n",
    "DM_flat = flatten_array(DM)\n",
    "e_DM_lo_flat = flatten_array(e_DM_lo)\n",
    "e_DM_hi_flat = flatten_array(e_DM_hi)\n",
    "catalog_flat = flatten_array(catalog)\n",
    "# for i in range(len(PGC_ids)):\n",
    "#     for j in range(len(PGC_ids[i])):\n",
    "#         PGC_ids_flat.append(PGC_ids[i][j])"
   ]
  },
  {
   "cell_type": "code",
   "execution_count": 8,
   "id": "3083b78b-d240-48c5-b112-6015f3a84b4b",
   "metadata": {},
   "outputs": [
    {
     "data": {
      "text/plain": [
       "520"
      ]
     },
     "execution_count": 8,
     "metadata": {},
     "output_type": "execute_result"
    }
   ],
   "source": [
    "len(PGC_ids_flat)"
   ]
  },
  {
   "cell_type": "code",
   "execution_count": 9,
   "id": "b267b5a0-8f0a-4d33-a070-7beef12f54c6",
   "metadata": {},
   "outputs": [],
   "source": [
    "tab = Table([PGC_ids_flat, DM_flat, e_DM_lo_flat, e_DM_hi_flat, catalog_flat],\n",
    "             names = ['PGC', 'DM_Stellar', 'e_DM_lo_Stellar', 'e_DM_hi_Stellar', 'Stellar_Catalog'])"
   ]
  },
  {
   "cell_type": "code",
   "execution_count": 10,
   "id": "68d1bd5a-18be-4c5d-9c4a-c24619ec53f2",
   "metadata": {},
   "outputs": [
    {
     "data": {
      "text/html": [
       "<i>Table length=520</i>\n",
       "<table id=\"table46913212993840\" class=\"table-striped table-bordered table-condensed\">\n",
       "<thead><tr><th>PGC</th><th>DM_Stellar</th><th>e_DM_lo_Stellar</th><th>e_DM_hi_Stellar</th><th>Stellar_Catalog</th></tr></thead>\n",
       "<thead><tr><th>int64</th><th>float64</th><th>float64</th><th>float64</th><th>str16</th></tr></thead>\n",
       "<tr><td>12636</td><td>31.532</td><td>0.074</td><td>0.074</td><td>Virgo_Fornax_SBF</td></tr>\n",
       "<tr><td>12651</td><td>31.607</td><td>0.065</td><td>0.065</td><td>Virgo_Fornax_SBF</td></tr>\n",
       "<tr><td>12691</td><td>31.491</td><td>0.139</td><td>0.139</td><td>Virgo_Fornax_SBF</td></tr>\n",
       "<tr><td>12825</td><td>31.483</td><td>0.073</td><td>0.073</td><td>Virgo_Fornax_SBF</td></tr>\n",
       "<tr><td>12848</td><td>31.314</td><td>0.075</td><td>0.075</td><td>Virgo_Fornax_SBF</td></tr>\n",
       "<tr><td>12878</td><td>31.598</td><td>0.08</td><td>0.08</td><td>Virgo_Fornax_SBF</td></tr>\n",
       "<tr><td>12917</td><td>31.47</td><td>0.083</td><td>0.083</td><td>Virgo_Fornax_SBF</td></tr>\n",
       "<tr><td>12923</td><td>31.603</td><td>0.068</td><td>0.068</td><td>Virgo_Fornax_SBF</td></tr>\n",
       "<tr><td>13028</td><td>31.422</td><td>0.071</td><td>0.071</td><td>Virgo_Fornax_SBF</td></tr>\n",
       "<tr><td>13058</td><td>31.443</td><td>0.193</td><td>0.193</td><td>Virgo_Fornax_SBF</td></tr>\n",
       "<tr><td>...</td><td>...</td><td>...</td><td>...</td><td>...</td></tr>\n",
       "<tr><td>42628</td><td>30.97</td><td>0.07</td><td>0.07</td><td>Cantiello_18_SBF</td></tr>\n",
       "<tr><td>42728</td><td>31.12</td><td>0.15</td><td>0.15</td><td>Cantiello_18_SBF</td></tr>\n",
       "<tr><td>42831</td><td>31.11</td><td>0.08</td><td>0.08</td><td>Cantiello_18_SBF</td></tr>\n",
       "<tr><td>42913</td><td>31.06</td><td>0.12</td><td>0.12</td><td>Cantiello_18_SBF</td></tr>\n",
       "<tr><td>42917</td><td>30.88</td><td>0.16</td><td>0.16</td><td>Cantiello_18_SBF</td></tr>\n",
       "<tr><td>43186</td><td>31.22</td><td>0.19</td><td>0.19</td><td>Cantiello_18_SBF</td></tr>\n",
       "<tr><td>43241</td><td>31.2</td><td>0.21</td><td>0.21</td><td>Cantiello_18_SBF</td></tr>\n",
       "<tr><td>43516</td><td>31.2</td><td>0.14</td><td>0.14</td><td>Cantiello_18_SBF</td></tr>\n",
       "<tr><td>43656</td><td>30.97</td><td>0.13</td><td>0.13</td><td>Cantiello_18_SBF</td></tr>\n",
       "<tr><td>43733</td><td>31.15</td><td>0.18</td><td>0.18</td><td>Cantiello_18_SBF</td></tr>\n",
       "</table>"
      ],
      "text/plain": [
       "<Table length=520>\n",
       " PGC  DM_Stellar e_DM_lo_Stellar e_DM_hi_Stellar Stellar_Catalog \n",
       "int64  float64       float64         float64          str16      \n",
       "----- ---------- --------------- --------------- ----------------\n",
       "12636     31.532           0.074           0.074 Virgo_Fornax_SBF\n",
       "12651     31.607           0.065           0.065 Virgo_Fornax_SBF\n",
       "12691     31.491           0.139           0.139 Virgo_Fornax_SBF\n",
       "12825     31.483           0.073           0.073 Virgo_Fornax_SBF\n",
       "12848     31.314           0.075           0.075 Virgo_Fornax_SBF\n",
       "12878     31.598            0.08            0.08 Virgo_Fornax_SBF\n",
       "12917      31.47           0.083           0.083 Virgo_Fornax_SBF\n",
       "12923     31.603           0.068           0.068 Virgo_Fornax_SBF\n",
       "13028     31.422           0.071           0.071 Virgo_Fornax_SBF\n",
       "13058     31.443           0.193           0.193 Virgo_Fornax_SBF\n",
       "  ...        ...             ...             ...              ...\n",
       "42628      30.97            0.07            0.07 Cantiello_18_SBF\n",
       "42728      31.12            0.15            0.15 Cantiello_18_SBF\n",
       "42831      31.11            0.08            0.08 Cantiello_18_SBF\n",
       "42913      31.06            0.12            0.12 Cantiello_18_SBF\n",
       "42917      30.88            0.16            0.16 Cantiello_18_SBF\n",
       "43186      31.22            0.19            0.19 Cantiello_18_SBF\n",
       "43241       31.2            0.21            0.21 Cantiello_18_SBF\n",
       "43516       31.2            0.14            0.14 Cantiello_18_SBF\n",
       "43656      30.97            0.13            0.13 Cantiello_18_SBF\n",
       "43733      31.15            0.18            0.18 Cantiello_18_SBF"
      ]
     },
     "execution_count": 10,
     "metadata": {},
     "output_type": "execute_result"
    }
   ],
   "source": [
    "tab"
   ]
  },
  {
   "cell_type": "code",
   "execution_count": 11,
   "id": "71046762-e7e2-44d2-a607-0d31b6267fbf",
   "metadata": {},
   "outputs": [
    {
     "data": {
      "text/html": [
       "<i>Table length=520</i>\n",
       "<table id=\"table46913212996288\" class=\"table-striped table-bordered table-condensed\">\n",
       "<thead><tr><th>PGC</th><th>DM_Stellar</th><th>e_DM_lo_Stellar</th><th>e_DM_hi_Stellar</th><th>Stellar_Catalog</th></tr></thead>\n",
       "<thead><tr><th>int64</th><th>float64</th><th>float64</th><th>float64</th><th>str16</th></tr></thead>\n",
       "<tr><td>12636</td><td>31.532</td><td>0.074</td><td>0.074</td><td>Virgo_Fornax_SBF</td></tr>\n",
       "<tr><td>12651</td><td>31.607</td><td>0.065</td><td>0.065</td><td>Virgo_Fornax_SBF</td></tr>\n",
       "<tr><td>12691</td><td>31.491</td><td>0.139</td><td>0.139</td><td>Virgo_Fornax_SBF</td></tr>\n",
       "<tr><td>12825</td><td>31.483</td><td>0.073</td><td>0.073</td><td>Virgo_Fornax_SBF</td></tr>\n",
       "<tr><td>12848</td><td>31.314</td><td>0.075</td><td>0.075</td><td>Virgo_Fornax_SBF</td></tr>\n",
       "<tr><td>12878</td><td>31.598</td><td>0.08</td><td>0.08</td><td>Virgo_Fornax_SBF</td></tr>\n",
       "<tr><td>12917</td><td>31.47</td><td>0.083</td><td>0.083</td><td>Virgo_Fornax_SBF</td></tr>\n",
       "<tr><td>12923</td><td>31.603</td><td>0.068</td><td>0.068</td><td>Virgo_Fornax_SBF</td></tr>\n",
       "<tr><td>13028</td><td>31.422</td><td>0.071</td><td>0.071</td><td>Virgo_Fornax_SBF</td></tr>\n",
       "<tr><td>13058</td><td>31.443</td><td>0.193</td><td>0.193</td><td>Virgo_Fornax_SBF</td></tr>\n",
       "<tr><td>...</td><td>...</td><td>...</td><td>...</td><td>...</td></tr>\n",
       "<tr><td>42628</td><td>30.97</td><td>0.07</td><td>0.07</td><td>Cantiello_18_SBF</td></tr>\n",
       "<tr><td>42728</td><td>31.12</td><td>0.15</td><td>0.15</td><td>Cantiello_18_SBF</td></tr>\n",
       "<tr><td>42831</td><td>31.11</td><td>0.08</td><td>0.08</td><td>Cantiello_18_SBF</td></tr>\n",
       "<tr><td>42913</td><td>31.06</td><td>0.12</td><td>0.12</td><td>Cantiello_18_SBF</td></tr>\n",
       "<tr><td>42917</td><td>30.88</td><td>0.16</td><td>0.16</td><td>Cantiello_18_SBF</td></tr>\n",
       "<tr><td>43186</td><td>31.22</td><td>0.19</td><td>0.19</td><td>Cantiello_18_SBF</td></tr>\n",
       "<tr><td>43241</td><td>31.2</td><td>0.21</td><td>0.21</td><td>Cantiello_18_SBF</td></tr>\n",
       "<tr><td>43516</td><td>31.2</td><td>0.14</td><td>0.14</td><td>Cantiello_18_SBF</td></tr>\n",
       "<tr><td>43656</td><td>30.97</td><td>0.13</td><td>0.13</td><td>Cantiello_18_SBF</td></tr>\n",
       "<tr><td>43733</td><td>31.15</td><td>0.18</td><td>0.18</td><td>Cantiello_18_SBF</td></tr>\n",
       "</table>"
      ],
      "text/plain": [
       "<Table length=520>\n",
       " PGC  DM_Stellar e_DM_lo_Stellar e_DM_hi_Stellar Stellar_Catalog \n",
       "int64  float64       float64         float64          str16      \n",
       "----- ---------- --------------- --------------- ----------------\n",
       "12636     31.532           0.074           0.074 Virgo_Fornax_SBF\n",
       "12651     31.607           0.065           0.065 Virgo_Fornax_SBF\n",
       "12691     31.491           0.139           0.139 Virgo_Fornax_SBF\n",
       "12825     31.483           0.073           0.073 Virgo_Fornax_SBF\n",
       "12848     31.314           0.075           0.075 Virgo_Fornax_SBF\n",
       "12878     31.598            0.08            0.08 Virgo_Fornax_SBF\n",
       "12917      31.47           0.083           0.083 Virgo_Fornax_SBF\n",
       "12923     31.603           0.068           0.068 Virgo_Fornax_SBF\n",
       "13028     31.422           0.071           0.071 Virgo_Fornax_SBF\n",
       "13058     31.443           0.193           0.193 Virgo_Fornax_SBF\n",
       "  ...        ...             ...             ...              ...\n",
       "42628      30.97            0.07            0.07 Cantiello_18_SBF\n",
       "42728      31.12            0.15            0.15 Cantiello_18_SBF\n",
       "42831      31.11            0.08            0.08 Cantiello_18_SBF\n",
       "42913      31.06            0.12            0.12 Cantiello_18_SBF\n",
       "42917      30.88            0.16            0.16 Cantiello_18_SBF\n",
       "43186      31.22            0.19            0.19 Cantiello_18_SBF\n",
       "43241       31.2            0.21            0.21 Cantiello_18_SBF\n",
       "43516       31.2            0.14            0.14 Cantiello_18_SBF\n",
       "43656      30.97            0.13            0.13 Cantiello_18_SBF\n",
       "43733      31.15            0.18            0.18 Cantiello_18_SBF"
      ]
     },
     "execution_count": 11,
     "metadata": {},
     "output_type": "execute_result"
    }
   ],
   "source": [
    "tab['DM_Stellar'].fill_value = -1\n",
    "tab['e_DM_hi_Stellar'].fill_value = -1\n",
    "tab['e_DM_lo_Stellar'].fill_value = -1\n",
    "tab['Stellar_Catalog'].fill_value = -1\n",
    "tab = tab.filled()\n",
    "tab"
   ]
  },
  {
   "cell_type": "code",
   "execution_count": 12,
   "id": "fb3ca85d-c9a5-4a5b-9351-8faac7b38b3b",
   "metadata": {},
   "outputs": [
    {
     "data": {
      "text/html": [
       "<i>Table length=520</i>\n",
       "<table id=\"table46912564583344\" class=\"table-striped table-bordered table-condensed\">\n",
       "<thead><tr><th>PGC</th><th>DM_Stellar</th><th>e_DM_lo_Stellar</th><th>e_DM_hi_Stellar</th><th>Stellar_Catalog</th></tr></thead>\n",
       "<thead><tr><th>int64</th><th>float64</th><th>float64</th><th>float64</th><th>str16</th></tr></thead>\n",
       "<tr><td>218</td><td>30.6</td><td>0.14</td><td>0.14</td><td>Tonry_SBF</td></tr>\n",
       "<tr><td>1014</td><td>26.43</td><td>0.12</td><td>0.12</td><td>McConnachi</td></tr>\n",
       "<tr><td>1037</td><td>34.126</td><td>0.094</td><td>0.094</td><td>HST_IR_SBF</td></tr>\n",
       "<tr><td>1038</td><td>26.42</td><td>0.04</td><td>0.04</td><td>McConnachi</td></tr>\n",
       "<tr><td>1160</td><td>31.36</td><td>0.33</td><td>0.33</td><td>Tonry_SBF</td></tr>\n",
       "<tr><td>1641</td><td>26.54</td><td>0.04</td><td>0.04</td><td>McConnachi</td></tr>\n",
       "<tr><td>2980</td><td>31.45</td><td>0.47</td><td>0.47</td><td>Tonry_SBF</td></tr>\n",
       "<tr><td>3238</td><td>26.59</td><td>0.06</td><td>0.06</td><td>McConnachi</td></tr>\n",
       "<tr><td>3455</td><td>34.166</td><td>0.081</td><td>0.081</td><td>HST_IR_SBF</td></tr>\n",
       "<tr><td>3792</td><td>24.43</td><td>0.07</td><td>0.07</td><td>McConnachi</td></tr>\n",
       "<tr><td>...</td><td>...</td><td>...</td><td>...</td><td>...</td></tr>\n",
       "<tr><td>71121</td><td>33.62</td><td>0.31</td><td>0.31</td><td>Tonry_SBF</td></tr>\n",
       "<tr><td>71538</td><td>24.82</td><td>0.07</td><td>0.07</td><td>McConnachi</td></tr>\n",
       "<tr><td>71730</td><td>32.89</td><td>0.15</td><td>0.15</td><td>Tonry_SBF</td></tr>\n",
       "<tr><td>72263</td><td>31.58</td><td>0.17</td><td>0.17</td><td>Tonry_SBF</td></tr>\n",
       "<tr><td>73126</td><td>33.49</td><td>0.4</td><td>0.4</td><td>Tonry_SBF</td></tr>\n",
       "<tr><td>166185</td><td>26.7</td><td>0.12</td><td>0.12</td><td>McConnachi</td></tr>\n",
       "<tr><td>771919</td><td>31.347</td><td>0.074</td><td>0.074</td><td>HST_IR_SBF</td></tr>\n",
       "<tr><td>771919</td><td>31.53</td><td>0.3</td><td>0.3</td><td>Tonry_SBF</td></tr>\n",
       "<tr><td>2807150</td><td>27.06</td><td>0.16</td><td>0.16</td><td>McConnachi</td></tr>\n",
       "<tr><td>3097691</td><td>24.39</td><td>0.07</td><td>0.07</td><td>McConnachi</td></tr>\n",
       "</table>"
      ],
      "text/plain": [
       "<Table length=520>\n",
       "  PGC   DM_Stellar e_DM_lo_Stellar e_DM_hi_Stellar Stellar_Catalog\n",
       " int64   float64       float64         float64          str16     \n",
       "------- ---------- --------------- --------------- ---------------\n",
       "    218       30.6            0.14            0.14       Tonry_SBF\n",
       "   1014      26.43            0.12            0.12      McConnachi\n",
       "   1037     34.126           0.094           0.094      HST_IR_SBF\n",
       "   1038      26.42            0.04            0.04      McConnachi\n",
       "   1160      31.36            0.33            0.33       Tonry_SBF\n",
       "   1641      26.54            0.04            0.04      McConnachi\n",
       "   2980      31.45            0.47            0.47       Tonry_SBF\n",
       "   3238      26.59            0.06            0.06      McConnachi\n",
       "   3455     34.166           0.081           0.081      HST_IR_SBF\n",
       "   3792      24.43            0.07            0.07      McConnachi\n",
       "    ...        ...             ...             ...             ...\n",
       "  71121      33.62            0.31            0.31       Tonry_SBF\n",
       "  71538      24.82            0.07            0.07      McConnachi\n",
       "  71730      32.89            0.15            0.15       Tonry_SBF\n",
       "  72263      31.58            0.17            0.17       Tonry_SBF\n",
       "  73126      33.49             0.4             0.4       Tonry_SBF\n",
       " 166185       26.7            0.12            0.12      McConnachi\n",
       " 771919     31.347           0.074           0.074      HST_IR_SBF\n",
       " 771919      31.53             0.3             0.3       Tonry_SBF\n",
       "2807150      27.06            0.16            0.16      McConnachi\n",
       "3097691      24.39            0.07            0.07      McConnachi"
      ]
     },
     "execution_count": 12,
     "metadata": {},
     "output_type": "execute_result"
    }
   ],
   "source": [
    "utab = unique(tab, keys = ['PGC', 'DM_Stellar', 'e_DM_lo_Stellar', 'e_DM_hi_Stellar'])\n",
    "utab"
   ]
  },
  {
   "cell_type": "code",
   "execution_count": 13,
   "id": "5099037e-2d5b-439e-ad23-26b490290dab",
   "metadata": {},
   "outputs": [
    {
     "data": {
      "text/plain": [
       "383620"
      ]
     },
     "execution_count": 13,
     "metadata": {},
     "output_type": "execute_result"
    }
   ],
   "source": [
    "len(SGA)"
   ]
  },
  {
   "cell_type": "code",
   "execution_count": 14,
   "id": "27d9fa61-bbb2-4f55-a852-cbaa2cfdad34",
   "metadata": {},
   "outputs": [],
   "source": [
    "maintab = join(SGA, utab, keys = 'PGC', join_type = 'left')"
   ]
  },
  {
   "cell_type": "code",
   "execution_count": 15,
   "id": "e6608786-279f-49c1-94be-777195cb4f29",
   "metadata": {},
   "outputs": [
    {
     "data": {
      "text/html": [
       "<i>Table length=10</i>\n",
       "<table id=\"table46913212996528\" class=\"table-striped table-bordered table-condensed\">\n",
       "<thead><tr><th>SGA_ID</th><th>SGA_GALAXY</th><th>GALAXY</th><th>PGC</th><th>RA_LEDA</th><th>DEC_LEDA</th><th>MORPHTYPE</th><th>PA_LEDA</th><th>D25_LEDA</th><th>BA_LEDA</th><th>Z_LEDA</th><th>SB_D25_LEDA</th><th>MAG_LEDA</th><th>BYHAND</th><th>REF</th><th>GROUP_ID</th><th>GROUP_NAME</th><th>GROUP_MULT</th><th>GROUP_PRIMARY</th><th>GROUP_RA</th><th>GROUP_DEC</th><th>GROUP_DIAMETER</th><th>BRICKNAME</th><th>RA</th><th>DEC</th><th>D26</th><th>D26_REF</th><th>PA</th><th>BA</th><th>RA_MOMENT</th><th>DEC_MOMENT</th><th>SMA_MOMENT</th><th>G_SMA50</th><th>R_SMA50</th><th>Z_SMA50</th><th>SMA_SB22</th><th>SMA_SB22.5</th><th>SMA_SB23</th><th>SMA_SB23.5</th><th>SMA_SB24</th><th>SMA_SB24.5</th><th>SMA_SB25</th><th>SMA_SB25.5</th><th>SMA_SB26</th><th>G_MAG_SB22</th><th>R_MAG_SB22</th><th>Z_MAG_SB22</th><th>G_MAG_SB22.5</th><th>R_MAG_SB22.5</th><th>Z_MAG_SB22.5</th><th>G_MAG_SB23</th><th>R_MAG_SB23</th><th>Z_MAG_SB23</th><th>G_MAG_SB23.5</th><th>R_MAG_SB23.5</th><th>Z_MAG_SB23.5</th><th>G_MAG_SB24</th><th>R_MAG_SB24</th><th>Z_MAG_SB24</th><th>G_MAG_SB24.5</th><th>R_MAG_SB24.5</th><th>Z_MAG_SB24.5</th><th>G_MAG_SB25</th><th>R_MAG_SB25</th><th>Z_MAG_SB25</th><th>G_MAG_SB25.5</th><th>R_MAG_SB25.5</th><th>Z_MAG_SB25.5</th><th>G_MAG_SB26</th><th>R_MAG_SB26</th><th>Z_MAG_SB26</th><th>SMA_SB22_ERR</th><th>SMA_SB22.5_ERR</th><th>SMA_SB23_ERR</th><th>SMA_SB23.5_ERR</th><th>SMA_SB24_ERR</th><th>SMA_SB24.5_ERR</th><th>SMA_SB25_ERR</th><th>SMA_SB25.5_ERR</th><th>SMA_SB26_ERR</th><th>G_MAG_SB22_ERR</th><th>R_MAG_SB22_ERR</th><th>Z_MAG_SB22_ERR</th><th>G_MAG_SB22.5_ERR</th><th>R_MAG_SB22.5_ERR</th><th>Z_MAG_SB22.5_ERR</th><th>G_MAG_SB23_ERR</th><th>R_MAG_SB23_ERR</th><th>Z_MAG_SB23_ERR</th><th>G_MAG_SB23.5_ERR</th><th>R_MAG_SB23.5_ERR</th><th>Z_MAG_SB23.5_ERR</th><th>G_MAG_SB24_ERR</th><th>R_MAG_SB24_ERR</th><th>Z_MAG_SB24_ERR</th><th>G_MAG_SB24.5_ERR</th><th>R_MAG_SB24.5_ERR</th><th>Z_MAG_SB24.5_ERR</th><th>G_MAG_SB25_ERR</th><th>R_MAG_SB25_ERR</th><th>Z_MAG_SB25_ERR</th><th>G_MAG_SB25.5_ERR</th><th>R_MAG_SB25.5_ERR</th><th>Z_MAG_SB25.5_ERR</th><th>G_MAG_SB26_ERR</th><th>R_MAG_SB26_ERR</th><th>Z_MAG_SB26_ERR</th><th>G_COG_PARAMS_MTOT</th><th>G_COG_PARAMS_M0</th><th>G_COG_PARAMS_ALPHA1</th><th>G_COG_PARAMS_ALPHA2</th><th>G_COG_PARAMS_CHI2</th><th>R_COG_PARAMS_MTOT</th><th>R_COG_PARAMS_M0</th><th>R_COG_PARAMS_ALPHA1</th><th>R_COG_PARAMS_ALPHA2</th><th>R_COG_PARAMS_CHI2</th><th>Z_COG_PARAMS_MTOT</th><th>Z_COG_PARAMS_M0</th><th>Z_COG_PARAMS_ALPHA1</th><th>Z_COG_PARAMS_ALPHA2</th><th>Z_COG_PARAMS_CHI2</th><th>ELLIPSEBIT</th><th>DM_Stellar</th><th>e_DM_lo_Stellar</th><th>e_DM_hi_Stellar</th><th>Stellar_Catalog</th></tr></thead>\n",
       "<thead><tr><th>int64</th><th>bytes16</th><th>bytes29</th><th>int64</th><th>float64</th><th>float64</th><th>bytes21</th><th>float32</th><th>float32</th><th>float32</th><th>float32</th><th>float32</th><th>float32</th><th>bool</th><th>bytes13</th><th>int64</th><th>bytes35</th><th>int16</th><th>bool</th><th>float64</th><th>float64</th><th>float32</th><th>bytes8</th><th>float64</th><th>float64</th><th>float32</th><th>bytes4</th><th>float32</th><th>float32</th><th>float64</th><th>float64</th><th>float32</th><th>float32</th><th>float32</th><th>float32</th><th>float32</th><th>float32</th><th>float32</th><th>float32</th><th>float32</th><th>float32</th><th>float32</th><th>float32</th><th>float32</th><th>float32</th><th>float32</th><th>float32</th><th>float32</th><th>float32</th><th>float32</th><th>float32</th><th>float32</th><th>float32</th><th>float32</th><th>float32</th><th>float32</th><th>float32</th><th>float32</th><th>float32</th><th>float32</th><th>float32</th><th>float32</th><th>float32</th><th>float32</th><th>float32</th><th>float32</th><th>float32</th><th>float32</th><th>float32</th><th>float32</th><th>float32</th><th>float32</th><th>float32</th><th>float32</th><th>float32</th><th>float32</th><th>float32</th><th>float32</th><th>float32</th><th>float32</th><th>float32</th><th>float32</th><th>float32</th><th>float32</th><th>float32</th><th>float32</th><th>float32</th><th>float32</th><th>float32</th><th>float32</th><th>float32</th><th>float32</th><th>float32</th><th>float32</th><th>float32</th><th>float32</th><th>float32</th><th>float32</th><th>float32</th><th>float32</th><th>float32</th><th>float32</th><th>float32</th><th>float32</th><th>float32</th><th>float32</th><th>float32</th><th>float32</th><th>float32</th><th>float32</th><th>float32</th><th>float32</th><th>float32</th><th>float32</th><th>float32</th><th>float32</th><th>float32</th><th>float32</th><th>float32</th><th>float32</th><th>float32</th><th>float32</th><th>int32</th><th>float64</th><th>float64</th><th>float64</th><th>str16</th></tr></thead>\n",
       "<tr><td>5000761</td><td>SGA-2020 5000761</td><td>DR8-3598m132-1566</td><td>-1</td><td>359.8543401209699</td><td>-13.27298450516979</td><td>COMP</td><td>13.630395</td><td>0.36305833</td><td>0.37946832</td><td>-1.0</td><td>24.814651</td><td>18.386288</td><td>False</td><td>DR8</td><td>529381</td><td>DR8-3598m132-1566</td><td>1</td><td>True</td><td>359.8543401209699</td><td>-13.27298450516979</td><td>0.36305833</td><td>3598m132</td><td>359.85434774837023</td><td>-13.272977710650537</td><td>0.28370878</td><td>SB26</td><td>168.67378</td><td>0.5625282</td><td>359.85426448280407</td><td>-13.27283520797331</td><td>6.5634704</td><td>6.3352146</td><td>5.8562765</td><td>5.2685037</td><td>-1.0</td><td>0.490355</td><td>1.3431504</td><td>2.6847167</td><td>3.7493393</td><td>4.8546333</td><td>6.111469</td><td>7.3589787</td><td>8.511264</td><td>-1.0</td><td>-1.0</td><td>-1.0</td><td>23.718433</td><td>23.193655</td><td>23.154612</td><td>21.66221</td><td>21.185404</td><td>21.111595</td><td>20.502134</td><td>20.086287</td><td>19.971468</td><td>20.085892</td><td>19.70376</td><td>19.57079</td><td>19.821558</td><td>19.462872</td><td>19.34163</td><td>19.616253</td><td>19.26634</td><td>19.164177</td><td>19.466738</td><td>19.137087</td><td>19.014479</td><td>19.37565</td><td>19.053564</td><td>18.928083</td><td>-1.0</td><td>0.014212543</td><td>0.040192965</td><td>0.033691984</td><td>0.04154174</td><td>0.07088843</td><td>0.11356775</td><td>0.13873318</td><td>0.12907872</td><td>-1.0</td><td>-1.0</td><td>-1.0</td><td>0.026477985</td><td>0.050427496</td><td>0.039810665</td><td>0.038443595</td><td>0.041060727</td><td>0.028624054</td><td>0.030409802</td><td>0.033370476</td><td>0.027760057</td><td>0.027706875</td><td>0.030110046</td><td>0.026305534</td><td>0.02673246</td><td>0.027684188</td><td>0.026165267</td><td>0.02534611</td><td>0.02572179</td><td>0.025609946</td><td>0.024172347</td><td>0.024743635</td><td>0.024433767</td><td>0.023255061</td><td>0.024151104</td><td>0.023917114</td><td>18.828407</td><td>1.8961897</td><td>0.27432075</td><td>1.2582772</td><td>0.5068609</td><td>18.54517</td><td>1.9884998</td><td>0.24010763</td><td>1.2152138</td><td>0.42738745</td><td>18.50474</td><td>1.7520914</td><td>0.22583209</td><td>1.3503227</td><td>2.026229</td><td>0</td><td>--</td><td>--</td><td>--</td><td>--</td></tr>\n",
       "<tr><td>5002052</td><td>SGA-2020 5002052</td><td>DR8-0344p257-2109</td><td>-1</td><td>34.51293949359952</td><td>25.744871325366134</td><td>DEV</td><td>151.64052</td><td>0.5850924</td><td>0.09584511</td><td>-1.0</td><td>25.39388</td><td>17.929277</td><td>False</td><td>DR8</td><td>530440</td><td>DR8-0344p257-2109</td><td>1</td><td>True</td><td>34.51293949359952</td><td>25.744871325366134</td><td>0.5850924</td><td>0344p257</td><td>34.51294813603673</td><td>25.744857036351764</td><td>0.68860686</td><td>SB26</td><td>150.95369</td><td>0.16084522</td><td>34.51285312078029</td><td>25.7448859360189</td><td>11.332634</td><td>26.02853</td><td>12.436312</td><td>10.408187</td><td>0.7446575</td><td>2.6943886</td><td>5.8059907</td><td>8.918248</td><td>12.309079</td><td>14.8406</td><td>17.318445</td><td>19.61883</td><td>20.658205</td><td>24.985107</td><td>23.241074</td><td>21.919067</td><td>22.416386</td><td>20.802729</td><td>19.5334</td><td>20.981726</td><td>19.423344</td><td>18.213448</td><td>20.308216</td><td>18.819778</td><td>17.67794</td><td>19.884304</td><td>18.456345</td><td>17.36667</td><td>19.671104</td><td>18.282207</td><td>17.216923</td><td>19.498528</td><td>18.14675</td><td>17.116562</td><td>19.370079</td><td>18.073362</td><td>17.053322</td><td>19.319057</td><td>18.054268</td><td>17.038513</td><td>0.061178025</td><td>0.09111086</td><td>0.13133463</td><td>0.15452333</td><td>0.18336654</td><td>0.16947876</td><td>0.19880234</td><td>0.17052293</td><td>0.20142992</td><td>0.070645496</td><td>0.093136825</td><td>0.13491446</td><td>0.09937287</td><td>0.13220285</td><td>0.16197653</td><td>0.06008311</td><td>0.072973445</td><td>0.08526528</td><td>0.04804064</td><td>0.055860307</td><td>0.06420065</td><td>0.04075153</td><td>0.04682164</td><td>0.053274423</td><td>0.037689418</td><td>0.042769633</td><td>0.048384</td><td>0.034989394</td><td>0.039601184</td><td>0.045091093</td><td>0.032971874</td><td>0.037852727</td><td>0.04310154</td><td>0.032305226</td><td>0.0373796</td><td>0.04262736</td><td>18.37849</td><td>1.6986222</td><td>1.8493062</td><td>1.2535875</td><td>0.30027997</td><td>17.686308</td><td>1.0633026</td><td>1.5389938</td><td>1.8441566</td><td>0.25587013</td><td>16.759422</td><td>1.0627648</td><td>1.1083618</td><td>1.8281469</td><td>0.14331667</td><td>0</td><td>--</td><td>--</td><td>--</td><td>--</td></tr>\n",
       "<tr><td>5002054</td><td>SGA-2020 5002054</td><td>DR8-1784p257-1944</td><td>-1</td><td>178.35895056368483</td><td>25.714163210692604</td><td>COMP</td><td>64.162895</td><td>0.49934536</td><td>0.5893301</td><td>-1.0</td><td>24.674006</td><td>17.55352</td><td>False</td><td>DR8</td><td>530441</td><td>DR8-1784p257-1944</td><td>1</td><td>True</td><td>178.35895056368483</td><td>25.714163210692604</td><td>0.49934536</td><td>1784p257</td><td>178.3589519474366</td><td>25.714158772488776</td><td>0.23590738</td><td>SB26</td><td>47.835987</td><td>0.8250357</td><td>178.35886459386288</td><td>25.71421341960156</td><td>6.61665</td><td>3.2677453</td><td>1.9085883</td><td>2.3045676</td><td>1.3930851</td><td>1.7718022</td><td>2.2223358</td><td>2.7726712</td><td>3.4083529</td><td>4.0817666</td><td>4.8943634</td><td>5.8183546</td><td>7.0772214</td><td>20.715128</td><td>19.38024</td><td>18.778965</td><td>20.461245</td><td>19.163992</td><td>18.546307</td><td>20.267557</td><td>18.99122</td><td>18.358278</td><td>20.111101</td><td>18.854921</td><td>18.194132</td><td>19.988832</td><td>18.738659</td><td>18.065685</td><td>19.900126</td><td>18.649105</td><td>17.967403</td><td>19.808813</td><td>18.576538</td><td>17.884369</td><td>19.746798</td><td>18.527327</td><td>17.827055</td><td>19.670656</td><td>18.485065</td><td>17.764526</td><td>0.0074930126</td><td>0.013944792</td><td>0.0147121325</td><td>0.022509845</td><td>0.023150494</td><td>0.041445028</td><td>0.047231276</td><td>0.103253655</td><td>0.2437358</td><td>0.038410377</td><td>0.034660246</td><td>0.032524835</td><td>0.032752104</td><td>0.030422792</td><td>0.028237892</td><td>0.028229805</td><td>0.026825298</td><td>0.02444311</td><td>0.025158009</td><td>0.02414764</td><td>0.021685671</td><td>0.023073357</td><td>0.022004444</td><td>0.019795932</td><td>0.021893412</td><td>0.020610126</td><td>0.018673327</td><td>0.02125558</td><td>0.019773273</td><td>0.018534673</td><td>0.02099111</td><td>0.019295866</td><td>0.018290129</td><td>0.02064504</td><td>0.018893251</td><td>0.018169861</td><td>19.259605</td><td>39983.96</td><td>7.964688e-06</td><td>0.7689097</td><td>0.24720249</td><td>18.357906</td><td>0.6059301</td><td>0.12179761</td><td>1.8153416</td><td>0.27794895</td><td>17.576096</td><td>0.8501114</td><td>0.14586806</td><td>1.5522755</td><td>0.084792085</td><td>0</td><td>--</td><td>--</td><td>--</td><td>--</td></tr>\n",
       "<tr><td>5002055</td><td>SGA-2020 5002055</td><td>DR8-1823p257-230</td><td>-1</td><td>182.30045461577487</td><td>25.638022138756888</td><td>COMP</td><td>54.940224</td><td>0.36782092</td><td>0.3417285</td><td>-1.0</td><td>24.809872</td><td>18.353209</td><td>False</td><td>DR8</td><td>530442</td><td>DR8-1823p257-230</td><td>1</td><td>True</td><td>182.30045461577487</td><td>25.638022138756888</td><td>0.36782092</td><td>1823p257</td><td>182.30047774695058</td><td>25.638014850043387</td><td>0.2616598</td><td>SB26</td><td>49.686592</td><td>0.500733</td><td>182.30039865249148</td><td>25.638048743506232</td><td>6.566019</td><td>2.8250787</td><td>2.9079614</td><td>3.0494995</td><td>0.64678997</td><td>1.8385516</td><td>2.696174</td><td>3.5106752</td><td>4.2383647</td><td>4.931757</td><td>5.7520695</td><td>6.7093825</td><td>7.8497944</td><td>22.260447</td><td>22.005386</td><td>21.825228</td><td>20.431135</td><td>20.188745</td><td>19.985706</td><td>19.910164</td><td>19.66585</td><td>19.451582</td><td>19.602543</td><td>19.355482</td><td>19.164808</td><td>19.439165</td><td>19.187689</td><td>18.989407</td><td>19.339918</td><td>19.085272</td><td>18.888273</td><td>19.267424</td><td>19.015398</td><td>18.792109</td><td>19.213593</td><td>18.955612</td><td>18.735971</td><td>19.171898</td><td>18.902569</td><td>18.687103</td><td>0.022085343</td><td>0.025720002</td><td>0.034137294</td><td>0.01972184</td><td>0.0254724</td><td>0.033754077</td><td>0.081778705</td><td>0.1184639</td><td>0.12959397</td><td>0.08559362</td><td>0.090296835</td><td>0.064786784</td><td>0.060150728</td><td>0.065954834</td><td>0.06281095</td><td>0.046012897</td><td>0.048988953</td><td>0.046431888</td><td>0.038301606</td><td>0.039739523</td><td>0.038813863</td><td>0.034018952</td><td>0.034730878</td><td>0.033763915</td><td>0.031484414</td><td>0.03192939</td><td>0.031782746</td><td>0.029882478</td><td>0.030254176</td><td>0.030339317</td><td>0.028729549</td><td>0.029050866</td><td>0.030122649</td><td>0.028094506</td><td>0.028109686</td><td>0.030175911</td><td>19.086432</td><td>0.6876604</td><td>0.06933014</td><td>2.6547205</td><td>0.16423321</td><td>18.807678</td><td>0.71579003</td><td>0.0798934</td><td>2.5491295</td><td>0.2220811</td><td>18.552357</td><td>0.8326773</td><td>0.09878345</td><td>2.2729623</td><td>0.15607573</td><td>0</td><td>--</td><td>--</td><td>--</td><td>--</td></tr>\n",
       "<tr><td>5002057</td><td>SGA-2020 5002057</td><td>DR8-2186p257-3102</td><td>-1</td><td>218.52675351118162</td><td>25.777874765173692</td><td>COMP</td><td>99.44611</td><td>0.430383</td><td>0.6935583</td><td>-1.0</td><td>23.651276</td><td>16.85352</td><td>False</td><td>DR8</td><td>530443</td><td>DR8-2186p257-3102</td><td>1</td><td>True</td><td>218.52675351118162</td><td>25.777874765173692</td><td>0.430383</td><td>2186p257</td><td>218.52675403371052</td><td>25.777866281446112</td><td>0.28422502</td><td>SB26</td><td>170.02393</td><td>0.9512747</td><td>218.52669913759985</td><td>25.77794876672501</td><td>7.5481772</td><td>3.3619752</td><td>2.9452875</td><td>2.6339617</td><td>1.6860615</td><td>2.1809776</td><td>3.020206</td><td>4.174839</td><td>5.52089</td><td>6.392034</td><td>7.279041</td><td>7.7982597</td><td>8.526751</td><td>19.857561</td><td>18.860588</td><td>18.17803</td><td>19.58193</td><td>18.610964</td><td>17.948112</td><td>19.310358</td><td>18.370378</td><td>17.721947</td><td>19.056047</td><td>18.147415</td><td>17.520973</td><td>18.754253</td><td>17.900494</td><td>17.308077</td><td>18.599892</td><td>17.768744</td><td>17.199852</td><td>18.506903</td><td>17.694752</td><td>17.130339</td><td>18.481678</td><td>17.671705</td><td>17.107803</td><td>18.46009</td><td>17.648983</td><td>17.088022</td><td>0.009114435</td><td>0.0119036315</td><td>0.028776595</td><td>0.027904274</td><td>0.054004967</td><td>0.041131835</td><td>0.037143793</td><td>0.05638475</td><td>0.04748776</td><td>0.02174655</td><td>0.015500244</td><td>0.019963564</td><td>0.021399202</td><td>0.015143763</td><td>0.017793322</td><td>0.01908663</td><td>0.013749946</td><td>0.015117348</td><td>0.0157649</td><td>0.011701589</td><td>0.01288439</td><td>0.012355591</td><td>0.009633408</td><td>0.010833294</td><td>0.0110014165</td><td>0.008716253</td><td>0.0100948755</td><td>0.0101745445</td><td>0.008309146</td><td>0.0094871195</td><td>0.010013149</td><td>0.008197582</td><td>0.009375395</td><td>0.0099698845</td><td>0.0081014205</td><td>0.009416443</td><td>18.460312</td><td>0.041467015</td><td>0.0017834055</td><td>22.455711</td><td>13.108814</td><td>17.64666</td><td>0.045927238</td><td>0.0072623407</td><td>17.434286</td><td>13.186934</td><td>17.082151</td><td>0.048204545</td><td>0.015438232</td><td>14.828787</td><td>5.7593513</td><td>0</td><td>--</td><td>--</td><td>--</td><td>--</td></tr>\n",
       "<tr><td>5002059</td><td>SGA-2020 5002059</td><td>DR8-2574p257-1652</td><td>-1</td><td>257.489178210142</td><td>25.68954170950334</td><td>DEV</td><td>54.34336</td><td>0.5739394</td><td>0.60341257</td><td>-1.0</td><td>25.076468</td><td>17.653656</td><td>False</td><td>DR8</td><td>530444</td><td>DR8-2574p257-1652</td><td>1</td><td>True</td><td>257.489178210142</td><td>25.68954170950334</td><td>0.5739394</td><td>2574p257</td><td>257.4891773857944</td><td>25.689512238499404</td><td>0.29265073</td><td>SB26</td><td>45.305546</td><td>0.7878912</td><td>257.48907802628236</td><td>25.689546582713927</td><td>6.748928</td><td>6.75135</td><td>6.8497815</td><td>5.797514</td><td>-1.0</td><td>-1.0</td><td>0.8823972</td><td>1.9318292</td><td>3.607621</td><td>4.9483266</td><td>6.204522</td><td>7.532655</td><td>8.779522</td><td>-1.0</td><td>-1.0</td><td>-1.0</td><td>-1.0</td><td>-1.0</td><td>-1.0</td><td>22.395176</td><td>21.903332</td><td>21.450241</td><td>20.988762</td><td>20.468824</td><td>20.055164</td><td>20.090715</td><td>19.586184</td><td>19.230303</td><td>19.685022</td><td>19.223629</td><td>18.908161</td><td>19.422743</td><td>18.990652</td><td>18.707825</td><td>19.256433</td><td>18.831554</td><td>18.570835</td><td>19.147623</td><td>18.744835</td><td>18.503544</td><td>-1.0</td><td>-1.0</td><td>0.015120099</td><td>0.023799146</td><td>0.02203746</td><td>0.04269273</td><td>0.08707952</td><td>0.089919165</td><td>0.08701137</td><td>-1.0</td><td>-1.0</td><td>-1.0</td><td>-1.0</td><td>-1.0</td><td>-1.0</td><td>0.055190634</td><td>0.045343112</td><td>0.04373555</td><td>0.032567814</td><td>0.030621987</td><td>0.038314342</td><td>0.02067661</td><td>0.01978862</td><td>0.026538037</td><td>0.015506979</td><td>0.01540197</td><td>0.022549402</td><td>0.013884077</td><td>0.0138456</td><td>0.021088004</td><td>0.013350352</td><td>0.01296349</td><td>0.02092294</td><td>0.01290051</td><td>0.0128038535</td><td>0.021656765</td><td>18.602917</td><td>1.0961971</td><td>0.5100188</td><td>1.6801494</td><td>3.188617</td><td>18.163013</td><td>1.5706954</td><td>0.3689261</td><td>1.3492157</td><td>2.4697354</td><td>18.015022</td><td>1.7154992</td><td>0.27069804</td><td>1.3026445</td><td>0.91837305</td><td>0</td><td>--</td><td>--</td><td>--</td><td>--</td></tr>\n",
       "<tr><td>5002060</td><td>SGA-2020 5002060</td><td>DR8-0387p260-4128</td><td>-1</td><td>38.775213967040806</td><td>26.063917483194377</td><td>COMP</td><td>61.733482</td><td>0.3859409</td><td>0.49896035</td><td>-1.0</td><td>23.50242</td><td>16.941336</td><td>False</td><td>DR8</td><td>530445</td><td>DR8-0387p260-4128</td><td>1</td><td>True</td><td>38.775213967040806</td><td>26.063917483194377</td><td>0.3859409</td><td>0387p260</td><td>38.77522007945641</td><td>26.063911266778963</td><td>0.37486315</td><td>SB26</td><td>76.81555</td><td>0.6614047</td><td>38.775068843202</td><td>26.06396992010829</td><td>8.528834</td><td>5.3921814</td><td>4.193535</td><td>3.495971</td><td>2.5421011</td><td>3.256088</td><td>4.0066447</td><td>4.9291735</td><td>6.0054207</td><td>7.284177</td><td>8.564728</td><td>9.994357</td><td>11.245894</td><td>19.418848</td><td>18.389858</td><td>17.549156</td><td>19.150877</td><td>18.147106</td><td>17.33126</td><td>18.969809</td><td>17.983267</td><td>17.184658</td><td>18.824133</td><td>17.846869</td><td>17.063644</td><td>18.703703</td><td>17.740942</td><td>16.969515</td><td>18.59951</td><td>17.650465</td><td>16.8907</td><td>18.519024</td><td>17.582773</td><td>16.827991</td><td>18.457827</td><td>17.530031</td><td>16.784727</td><td>18.422825</td><td>17.501816</td><td>16.761732</td><td>0.01891524</td><td>0.034605727</td><td>0.039026555</td><td>0.052407186</td><td>0.0653756</td><td>0.09351885</td><td>0.107837826</td><td>0.13968588</td><td>0.14666855</td><td>0.025455188</td><td>0.029175779</td><td>0.033818193</td><td>0.024425391</td><td>0.026561614</td><td>0.029888274</td><td>0.023495065</td><td>0.024847647</td><td>0.02742456</td><td>0.021823939</td><td>0.023027956</td><td>0.025399234</td><td>0.020492317</td><td>0.021653594</td><td>0.02388096</td><td>0.01959185</td><td>0.020541986</td><td>0.022647658</td><td>0.0189584</td><td>0.019797275</td><td>0.021730104</td><td>0.018527484</td><td>0.019215066</td><td>0.021087414</td><td>0.018200086</td><td>0.018859062</td><td>0.020734109</td><td>18.010809</td><td>13714.826</td><td>3.285643e-05</td><td>0.8304307</td><td>0.27659962</td><td>17.19884</td><td>11.605206</td><td>0.029242659</td><td>0.95394516</td><td>0.1151696</td><td>16.526941</td><td>3.9054916</td><td>0.069055095</td><td>1.0695863</td><td>0.14369495</td><td>0</td><td>--</td><td>--</td><td>--</td><td>--</td></tr>\n",
       "<tr><td>5002061</td><td>SGA-2020 5002061</td><td>DR8-1331p260-2535</td><td>-1</td><td>133.1022672218886</td><td>26.01225205046505</td><td>COMP</td><td>173.93405</td><td>0.3675429</td><td>0.5871012</td><td>-1.0</td><td>22.835455</td><td>16.380434</td><td>False</td><td>DR8</td><td>530446</td><td>DR8-1331p260-2535</td><td>1</td><td>True</td><td>133.1022672218886</td><td>26.01225205046505</td><td>0.3675429</td><td>1331p260</td><td>133.10228353174327</td><td>26.012234495098593</td><td>0.30617592</td><td>SB26</td><td>27.58399</td><td>0.8495498</td><td>133.10217746920011</td><td>26.012288565247985</td><td>8.608526</td><td>2.685112</td><td>2.6941478</td><td>2.5040274</td><td>3.2431479</td><td>4.0103054</td><td>4.8231735</td><td>5.649113</td><td>6.457118</td><td>7.1757617</td><td>7.8964744</td><td>8.508293</td><td>9.185278</td><td>18.202904</td><td>17.44703</td><td>16.836306</td><td>18.015171</td><td>17.263784</td><td>16.668266</td><td>17.890503</td><td>17.137829</td><td>16.55192</td><td>17.802273</td><td>17.048656</td><td>16.467062</td><td>17.743982</td><td>16.986555</td><td>16.409906</td><td>17.70812</td><td>16.949392</td><td>16.374197</td><td>17.686064</td><td>16.923882</td><td>16.35275</td><td>17.67381</td><td>16.910786</td><td>16.340927</td><td>17.6651</td><td>16.90183</td><td>16.330353</td><td>0.012578337</td><td>0.015178427</td><td>0.018678332</td><td>0.022032669</td><td>0.022242269</td><td>0.027109202</td><td>0.062061395</td><td>0.070145085</td><td>0.070947744</td><td>0.016649308</td><td>0.01673558</td><td>0.019257853</td><td>0.01460507</td><td>0.014620656</td><td>0.017005013</td><td>0.013120791</td><td>0.013198883</td><td>0.015382623</td><td>0.012151789</td><td>0.012159125</td><td>0.0143146245</td><td>0.011611824</td><td>0.011634117</td><td>0.0136827305</td><td>0.011290471</td><td>0.011253879</td><td>0.013315241</td><td>0.011112873</td><td>0.011090202</td><td>0.0131081445</td><td>0.011005323</td><td>0.010979559</td><td>0.0130030075</td><td>0.010925972</td><td>0.01085516</td><td>0.012924591</td><td>17.62623</td><td>0.27808952</td><td>0.10252227</td><td>3.7378695</td><td>0.30803826</td><td>16.859676</td><td>0.2557747</td><td>0.121081516</td><td>3.8119943</td><td>0.32186726</td><td>16.29547</td><td>0.21789831</td><td>0.1194429</td><td>4.005656</td><td>0.15875688</td><td>0</td><td>--</td><td>--</td><td>--</td><td>--</td></tr>\n",
       "<tr><td>5002062</td><td>SGA-2020 5002062</td><td>DR8-1415p260-1774</td><td>-1</td><td>141.563263100328</td><td>25.991821352827408</td><td>DEV</td><td>64.94905</td><td>0.49731663</td><td>0.4763062</td><td>-1.0</td><td>24.394587</td><td>17.28294</td><td>False</td><td>DR8</td><td>530447</td><td>DR8-1415p260-1774</td><td>1</td><td>True</td><td>141.563263100328</td><td>25.991821352827408</td><td>0.49731663</td><td>1415p260</td><td>141.56322686460305</td><td>25.991800926946855</td><td>0.46666777</td><td>SB26</td><td>58.185925</td><td>0.47516543</td><td>141.563026623798</td><td>25.991937176596785</td><td>9.608679</td><td>8.909337</td><td>8.331264</td><td>9.663198</td><td>0.49446082</td><td>1.6019396</td><td>3.4488425</td><td>4.9324694</td><td>6.58859</td><td>8.466022</td><td>10.318445</td><td>12.234596</td><td>14.000033</td><td>23.461647</td><td>22.933357</td><td>22.6284</td><td>21.065037</td><td>20.568367</td><td>20.282024</td><td>19.779476</td><td>19.322622</td><td>19.044792</td><td>19.291958</td><td>18.859568</td><td>18.571678</td><td>18.963299</td><td>18.54661</td><td>18.262037</td><td>18.73532</td><td>18.341017</td><td>18.054453</td><td>18.590612</td><td>18.19906</td><td>17.907774</td><td>18.476229</td><td>18.092972</td><td>17.780447</td><td>18.396502</td><td>18.021997</td><td>17.712172</td><td>0.03453182</td><td>0.052019514</td><td>0.057833318</td><td>0.064763255</td><td>0.092221685</td><td>0.12774539</td><td>0.16121936</td><td>0.19027685</td><td>0.17187767</td><td>0.11094245</td><td>0.13721938</td><td>0.122073464</td><td>0.071904056</td><td>0.096012086</td><td>0.09558649</td><td>0.045216862</td><td>0.056210946</td><td>0.060223315</td><td>0.036070034</td><td>0.04396925</td><td>0.046491243</td><td>0.030444376</td><td>0.036201447</td><td>0.038489655</td><td>0.0267862</td><td>0.031861905</td><td>0.03371825</td><td>0.024761902</td><td>0.02913856</td><td>0.03059347</td><td>0.02331502</td><td>0.027488008</td><td>0.028407276</td><td>0.022429865</td><td>0.026439665</td><td>0.027588727</td><td>17.943136</td><td>1.6921898</td><td>0.48118743</td><td>1.3145844</td><td>0.11049008</td><td>17.597855</td><td>1.7226985</td><td>0.43262878</td><td>1.2931865</td><td>0.07200211</td><td>17.192787</td><td>1.9362189</td><td>0.4563042</td><td>1.1743094</td><td>0.30316997</td><td>0</td><td>--</td><td>--</td><td>--</td><td>--</td></tr>\n",
       "<tr><td>5002064</td><td>SGA-2020 5002064</td><td>DR8-2134p260-1376</td><td>-1</td><td>213.35742650064347</td><td>25.944969557975373</td><td>COMP</td><td>138.92987</td><td>0.41980565</td><td>0.17013104</td><td>-1.0</td><td>24.870749</td><td>18.127026</td><td>False</td><td>DR8</td><td>530448</td><td>DR8-2134p260-1376</td><td>1</td><td>True</td><td>213.35742650064347</td><td>25.944969557975373</td><td>0.41980565</td><td>2134p260</td><td>213.35744946562002</td><td>25.94498108546874</td><td>0.46322358</td><td>SB26</td><td>146.81259</td><td>0.30508327</td><td>213.35728535914612</td><td>25.945123594176092</td><td>8.514018</td><td>8.353787</td><td>5.8509626</td><td>5.6304607</td><td>1.3909734</td><td>3.15017</td><td>4.572327</td><td>6.0478864</td><td>7.613665</td><td>9.198722</td><td>10.86969</td><td>12.74964</td><td>13.896708</td><td>22.112082</td><td>20.831774</td><td>19.95391</td><td>20.769636</td><td>19.544533</td><td>18.6733</td><td>20.234728</td><td>19.02906</td><td>18.171207</td><td>19.913473</td><td>18.721365</td><td>17.873951</td><td>19.699118</td><td>18.519077</td><td>17.684835</td><td>19.532879</td><td>18.390667</td><td>17.557062</td><td>19.414278</td><td>18.292683</td><td>17.473894</td><td>19.31448</td><td>18.218864</td><td>17.393368</td><td>19.267895</td><td>18.189621</td><td>17.374407</td><td>0.055070132</td><td>0.07543271</td><td>0.09094755</td><td>0.123204775</td><td>0.11611826</td><td>0.13974988</td><td>0.1919233</td><td>0.19453591</td><td>0.1948024</td><td>0.051901866</td><td>0.08869773</td><td>0.09592212</td><td>0.073430255</td><td>0.08622512</td><td>0.08758711</td><td>0.0634122</td><td>0.072652854</td><td>0.072227776</td><td>0.056514837</td><td>0.0634322</td><td>0.063192256</td><td>0.05172504</td><td>0.057115886</td><td>0.05702567</td><td>0.047395743</td><td>0.05300191</td><td>0.052829213</td><td>0.04459751</td><td>0.04979356</td><td>0.049904775</td><td>0.04204979</td><td>0.047380865</td><td>0.047219623</td><td>0.04087242</td><td>0.046420354</td><td>0.046572484</td><td>18.857948</td><td>1.3500049</td><td>0.57432455</td><td>1.455736</td><td>0.08381088</td><td>18.0054</td><td>0.8471173</td><td>0.47725996</td><td>2.0490072</td><td>0.03232326</td><td>17.19551</td><td>0.87468696</td><td>0.43157175</td><td>2.0035203</td><td>0.067023866</td><td>0</td><td>--</td><td>--</td><td>--</td><td>--</td></tr>\n",
       "</table>"
      ],
      "text/plain": [
       "<Table length=10>\n",
       " SGA_ID    SGA_GALAXY          GALAXY      ... e_DM_hi_Stellar Stellar_Catalog\n",
       " int64      bytes16           bytes29      ...     float64          str16     \n",
       "------- ---------------- ----------------- ... --------------- ---------------\n",
       "5000761 SGA-2020 5000761 DR8-3598m132-1566 ...              --              --\n",
       "5002052 SGA-2020 5002052 DR8-0344p257-2109 ...              --              --\n",
       "5002054 SGA-2020 5002054 DR8-1784p257-1944 ...              --              --\n",
       "5002055 SGA-2020 5002055  DR8-1823p257-230 ...              --              --\n",
       "5002057 SGA-2020 5002057 DR8-2186p257-3102 ...              --              --\n",
       "5002059 SGA-2020 5002059 DR8-2574p257-1652 ...              --              --\n",
       "5002060 SGA-2020 5002060 DR8-0387p260-4128 ...              --              --\n",
       "5002061 SGA-2020 5002061 DR8-1331p260-2535 ...              --              --\n",
       "5002062 SGA-2020 5002062 DR8-1415p260-1774 ...              --              --\n",
       "5002064 SGA-2020 5002064 DR8-2134p260-1376 ...              --              --"
      ]
     },
     "execution_count": 15,
     "metadata": {},
     "output_type": "execute_result"
    }
   ],
   "source": [
    "maintab[:10]"
   ]
  },
  {
   "cell_type": "code",
   "execution_count": 16,
   "id": "75afe458-e2fd-4227-9bd2-316cf099c385",
   "metadata": {},
   "outputs": [
    {
     "data": {
      "text/html": [
       "<i>Table length=2</i>\n",
       "<table id=\"table46912564687488\" class=\"table-striped table-bordered table-condensed\">\n",
       "<thead><tr><th>SGA_ID</th><th>SGA_GALAXY</th><th>GALAXY</th><th>PGC</th><th>RA_LEDA</th><th>DEC_LEDA</th><th>MORPHTYPE</th><th>PA_LEDA</th><th>D25_LEDA</th><th>BA_LEDA</th><th>Z_LEDA</th><th>SB_D25_LEDA</th><th>MAG_LEDA</th><th>BYHAND</th><th>REF</th><th>GROUP_ID</th><th>GROUP_NAME</th><th>GROUP_MULT</th><th>GROUP_PRIMARY</th><th>GROUP_RA</th><th>GROUP_DEC</th><th>GROUP_DIAMETER</th><th>BRICKNAME</th><th>RA</th><th>DEC</th><th>D26</th><th>D26_REF</th><th>PA</th><th>BA</th><th>RA_MOMENT</th><th>DEC_MOMENT</th><th>SMA_MOMENT</th><th>G_SMA50</th><th>R_SMA50</th><th>Z_SMA50</th><th>SMA_SB22</th><th>SMA_SB22.5</th><th>SMA_SB23</th><th>SMA_SB23.5</th><th>SMA_SB24</th><th>SMA_SB24.5</th><th>SMA_SB25</th><th>SMA_SB25.5</th><th>SMA_SB26</th><th>G_MAG_SB22</th><th>R_MAG_SB22</th><th>Z_MAG_SB22</th><th>G_MAG_SB22.5</th><th>R_MAG_SB22.5</th><th>Z_MAG_SB22.5</th><th>G_MAG_SB23</th><th>R_MAG_SB23</th><th>Z_MAG_SB23</th><th>G_MAG_SB23.5</th><th>R_MAG_SB23.5</th><th>Z_MAG_SB23.5</th><th>G_MAG_SB24</th><th>R_MAG_SB24</th><th>Z_MAG_SB24</th><th>G_MAG_SB24.5</th><th>R_MAG_SB24.5</th><th>Z_MAG_SB24.5</th><th>G_MAG_SB25</th><th>R_MAG_SB25</th><th>Z_MAG_SB25</th><th>G_MAG_SB25.5</th><th>R_MAG_SB25.5</th><th>Z_MAG_SB25.5</th><th>G_MAG_SB26</th><th>R_MAG_SB26</th><th>Z_MAG_SB26</th><th>SMA_SB22_ERR</th><th>SMA_SB22.5_ERR</th><th>SMA_SB23_ERR</th><th>SMA_SB23.5_ERR</th><th>SMA_SB24_ERR</th><th>SMA_SB24.5_ERR</th><th>SMA_SB25_ERR</th><th>SMA_SB25.5_ERR</th><th>SMA_SB26_ERR</th><th>G_MAG_SB22_ERR</th><th>R_MAG_SB22_ERR</th><th>Z_MAG_SB22_ERR</th><th>G_MAG_SB22.5_ERR</th><th>R_MAG_SB22.5_ERR</th><th>Z_MAG_SB22.5_ERR</th><th>G_MAG_SB23_ERR</th><th>R_MAG_SB23_ERR</th><th>Z_MAG_SB23_ERR</th><th>G_MAG_SB23.5_ERR</th><th>R_MAG_SB23.5_ERR</th><th>Z_MAG_SB23.5_ERR</th><th>G_MAG_SB24_ERR</th><th>R_MAG_SB24_ERR</th><th>Z_MAG_SB24_ERR</th><th>G_MAG_SB24.5_ERR</th><th>R_MAG_SB24.5_ERR</th><th>Z_MAG_SB24.5_ERR</th><th>G_MAG_SB25_ERR</th><th>R_MAG_SB25_ERR</th><th>Z_MAG_SB25_ERR</th><th>G_MAG_SB25.5_ERR</th><th>R_MAG_SB25.5_ERR</th><th>Z_MAG_SB25.5_ERR</th><th>G_MAG_SB26_ERR</th><th>R_MAG_SB26_ERR</th><th>Z_MAG_SB26_ERR</th><th>G_COG_PARAMS_MTOT</th><th>G_COG_PARAMS_M0</th><th>G_COG_PARAMS_ALPHA1</th><th>G_COG_PARAMS_ALPHA2</th><th>G_COG_PARAMS_CHI2</th><th>R_COG_PARAMS_MTOT</th><th>R_COG_PARAMS_M0</th><th>R_COG_PARAMS_ALPHA1</th><th>R_COG_PARAMS_ALPHA2</th><th>R_COG_PARAMS_CHI2</th><th>Z_COG_PARAMS_MTOT</th><th>Z_COG_PARAMS_M0</th><th>Z_COG_PARAMS_ALPHA1</th><th>Z_COG_PARAMS_ALPHA2</th><th>Z_COG_PARAMS_CHI2</th><th>ELLIPSEBIT</th><th>DM_Stellar</th><th>e_DM_lo_Stellar</th><th>e_DM_hi_Stellar</th><th>Stellar_Catalog</th></tr></thead>\n",
       "<thead><tr><th>int64</th><th>bytes16</th><th>bytes29</th><th>int64</th><th>float64</th><th>float64</th><th>bytes21</th><th>float32</th><th>float32</th><th>float32</th><th>float32</th><th>float32</th><th>float32</th><th>bool</th><th>bytes13</th><th>int64</th><th>bytes35</th><th>int16</th><th>bool</th><th>float64</th><th>float64</th><th>float32</th><th>bytes8</th><th>float64</th><th>float64</th><th>float32</th><th>bytes4</th><th>float32</th><th>float32</th><th>float64</th><th>float64</th><th>float32</th><th>float32</th><th>float32</th><th>float32</th><th>float32</th><th>float32</th><th>float32</th><th>float32</th><th>float32</th><th>float32</th><th>float32</th><th>float32</th><th>float32</th><th>float32</th><th>float32</th><th>float32</th><th>float32</th><th>float32</th><th>float32</th><th>float32</th><th>float32</th><th>float32</th><th>float32</th><th>float32</th><th>float32</th><th>float32</th><th>float32</th><th>float32</th><th>float32</th><th>float32</th><th>float32</th><th>float32</th><th>float32</th><th>float32</th><th>float32</th><th>float32</th><th>float32</th><th>float32</th><th>float32</th><th>float32</th><th>float32</th><th>float32</th><th>float32</th><th>float32</th><th>float32</th><th>float32</th><th>float32</th><th>float32</th><th>float32</th><th>float32</th><th>float32</th><th>float32</th><th>float32</th><th>float32</th><th>float32</th><th>float32</th><th>float32</th><th>float32</th><th>float32</th><th>float32</th><th>float32</th><th>float32</th><th>float32</th><th>float32</th><th>float32</th><th>float32</th><th>float32</th><th>float32</th><th>float32</th><th>float32</th><th>float32</th><th>float32</th><th>float32</th><th>float32</th><th>float32</th><th>float32</th><th>float32</th><th>float32</th><th>float32</th><th>float32</th><th>float32</th><th>float32</th><th>float32</th><th>float32</th><th>float32</th><th>float32</th><th>float32</th><th>float32</th><th>float32</th><th>float32</th><th>float32</th><th>int32</th><th>float64</th><th>float64</th><th>float64</th><th>str16</th></tr></thead>\n",
       "<tr><td>868032</td><td>SGA-2020 868032</td><td>NGC1201</td><td>771919</td><td>46.03332532673745</td><td>-26.06969750695285</td><td>E-S0</td><td>8.59</td><td>3.411929</td><td>0.57411647</td><td>0.005596872</td><td>22.99448</td><td>11.701</td><td>True</td><td>LEDA-20181114</td><td>317178</td><td>NGC1201</td><td>1</td><td>True</td><td>46.03332532673745</td><td>-26.06969750695285</td><td>3.411929</td><td>0459m260</td><td>46.03332172733179</td><td>-26.06966853637713</td><td>4.9620147</td><td>SB26</td><td>7.90505</td><td>0.56788504</td><td>46.033208590750064</td><td>-26.069688000976626</td><td>118.01962</td><td>27.42394</td><td>27.187017</td><td>27.923996</td><td>61.19563</td><td>72.84604</td><td>83.99373</td><td>94.485725</td><td>104.98598</td><td>115.697334</td><td>126.560875</td><td>137.64</td><td>148.86044</td><td>11.54185</td><td>10.780679</td><td>10.202037</td><td>11.4601555</td><td>10.698883</td><td>10.118637</td><td>11.407081</td><td>10.646178</td><td>10.065561</td><td>11.373177</td><td>10.6126375</td><td>10.031863</td><td>11.349672</td><td>10.589578</td><td>10.0087805</td><td>11.333385</td><td>10.573862</td><td>9.993349</td><td>11.321908</td><td>10.562697</td><td>9.982237</td><td>11.313794</td><td>10.5551195</td><td>9.974818</td><td>11.308098</td><td>10.5498085</td><td>9.96952</td><td>0.02019594</td><td>0.030068478</td><td>0.020640232</td><td>0.026782066</td><td>0.027618866</td><td>0.043218754</td><td>0.053795904</td><td>0.06738641</td><td>0.08724375</td><td>0.0021383492</td><td>0.0025708186</td><td>0.0028877133</td><td>0.0019859343</td><td>0.0023212722</td><td>0.0026519478</td><td>0.0018893456</td><td>0.002271816</td><td>0.002547142</td><td>0.0018313518</td><td>0.0022027814</td><td>0.0024693797</td><td>0.0017941092</td><td>0.002099232</td><td>0.002397022</td><td>0.001765516</td><td>0.0021255494</td><td>0.0023833702</td><td>0.0017488543</td><td>0.0020479271</td><td>0.0023391622</td><td>0.0017339756</td><td>0.0020891912</td><td>0.0023430607</td><td>0.0017249141</td><td>0.002079005</td><td>0.0023316648</td><td>11.290278</td><td>0.18008748</td><td>2974.8523</td><td>3.800875</td><td>0.0053895037</td><td>10.53363</td><td>0.17351764</td><td>3786.2764</td><td>3.9145265</td><td>0.014138333</td><td>9.953629</td><td>0.18070917</td><td>3505.5095</td><td>3.9080532</td><td>0.021632774</td><td>0</td><td>31.53</td><td>0.3</td><td>0.3</td><td>Tonry_SBF</td></tr>\n",
       "<tr><td>868032</td><td>SGA-2020 868032</td><td>NGC1201</td><td>771919</td><td>46.03332532673745</td><td>-26.06969750695285</td><td>E-S0</td><td>8.59</td><td>3.411929</td><td>0.57411647</td><td>0.005596872</td><td>22.99448</td><td>11.701</td><td>True</td><td>LEDA-20181114</td><td>317178</td><td>NGC1201</td><td>1</td><td>True</td><td>46.03332532673745</td><td>-26.06969750695285</td><td>3.411929</td><td>0459m260</td><td>46.03332172733179</td><td>-26.06966853637713</td><td>4.9620147</td><td>SB26</td><td>7.90505</td><td>0.56788504</td><td>46.033208590750064</td><td>-26.069688000976626</td><td>118.01962</td><td>27.42394</td><td>27.187017</td><td>27.923996</td><td>61.19563</td><td>72.84604</td><td>83.99373</td><td>94.485725</td><td>104.98598</td><td>115.697334</td><td>126.560875</td><td>137.64</td><td>148.86044</td><td>11.54185</td><td>10.780679</td><td>10.202037</td><td>11.4601555</td><td>10.698883</td><td>10.118637</td><td>11.407081</td><td>10.646178</td><td>10.065561</td><td>11.373177</td><td>10.6126375</td><td>10.031863</td><td>11.349672</td><td>10.589578</td><td>10.0087805</td><td>11.333385</td><td>10.573862</td><td>9.993349</td><td>11.321908</td><td>10.562697</td><td>9.982237</td><td>11.313794</td><td>10.5551195</td><td>9.974818</td><td>11.308098</td><td>10.5498085</td><td>9.96952</td><td>0.02019594</td><td>0.030068478</td><td>0.020640232</td><td>0.026782066</td><td>0.027618866</td><td>0.043218754</td><td>0.053795904</td><td>0.06738641</td><td>0.08724375</td><td>0.0021383492</td><td>0.0025708186</td><td>0.0028877133</td><td>0.0019859343</td><td>0.0023212722</td><td>0.0026519478</td><td>0.0018893456</td><td>0.002271816</td><td>0.002547142</td><td>0.0018313518</td><td>0.0022027814</td><td>0.0024693797</td><td>0.0017941092</td><td>0.002099232</td><td>0.002397022</td><td>0.001765516</td><td>0.0021255494</td><td>0.0023833702</td><td>0.0017488543</td><td>0.0020479271</td><td>0.0023391622</td><td>0.0017339756</td><td>0.0020891912</td><td>0.0023430607</td><td>0.0017249141</td><td>0.002079005</td><td>0.0023316648</td><td>11.290278</td><td>0.18008748</td><td>2974.8523</td><td>3.800875</td><td>0.0053895037</td><td>10.53363</td><td>0.17351764</td><td>3786.2764</td><td>3.9145265</td><td>0.014138333</td><td>9.953629</td><td>0.18070917</td><td>3505.5095</td><td>3.9080532</td><td>0.021632774</td><td>0</td><td>31.347</td><td>0.074</td><td>0.074</td><td>HST_IR_SBF</td></tr>\n",
       "</table>"
      ],
      "text/plain": [
       "<Table length=2>\n",
       "SGA_ID    SGA_GALAXY    GALAXY ... e_DM_hi_Stellar Stellar_Catalog\n",
       "int64      bytes16     bytes29 ...     float64          str16     \n",
       "------ --------------- ------- ... --------------- ---------------\n",
       "868032 SGA-2020 868032 NGC1201 ...             0.3       Tonry_SBF\n",
       "868032 SGA-2020 868032 NGC1201 ...           0.074      HST_IR_SBF"
      ]
     },
     "execution_count": 16,
     "metadata": {},
     "output_type": "execute_result"
    }
   ],
   "source": [
    "maintab[maintab['PGC'] == 771919]"
   ]
  },
  {
   "cell_type": "code",
   "execution_count": 17,
   "id": "77562589-2890-4717-8c15-f604fd3ca95b",
   "metadata": {},
   "outputs": [],
   "source": [
    "maintab['DM_Stellar'].fill_value = -1\n",
    "maintab['e_DM_hi_Stellar'].fill_value = -1\n",
    "maintab['e_DM_lo_Stellar'].fill_value = -1\n",
    "maintab['Stellar_Catalog'].fill_value = -1\n",
    "\n",
    "maintab = maintab.filled()"
   ]
  },
  {
   "cell_type": "code",
   "execution_count": 18,
   "id": "0da03a2e-d789-4477-a191-96aa074b2932",
   "metadata": {},
   "outputs": [
    {
     "data": {
      "text/html": [
       "<i>Table length=383723</i>\n",
       "<table id=\"table46913207120896\" class=\"table-striped table-bordered table-condensed\">\n",
       "<thead><tr><th>SGA_ID</th><th>SGA_GALAXY</th><th>GALAXY</th><th>PGC</th><th>RA_LEDA</th><th>DEC_LEDA</th><th>MORPHTYPE</th><th>PA_LEDA</th><th>D25_LEDA</th><th>BA_LEDA</th><th>Z_LEDA</th><th>SB_D25_LEDA</th><th>MAG_LEDA</th><th>BYHAND</th><th>REF</th><th>GROUP_ID</th><th>GROUP_NAME</th><th>GROUP_MULT</th><th>GROUP_PRIMARY</th><th>GROUP_RA</th><th>GROUP_DEC</th><th>GROUP_DIAMETER</th><th>BRICKNAME</th><th>RA</th><th>DEC</th><th>D26</th><th>D26_REF</th><th>PA</th><th>BA</th><th>RA_MOMENT</th><th>DEC_MOMENT</th><th>SMA_MOMENT</th><th>G_SMA50</th><th>R_SMA50</th><th>Z_SMA50</th><th>SMA_SB22</th><th>SMA_SB22.5</th><th>SMA_SB23</th><th>SMA_SB23.5</th><th>SMA_SB24</th><th>SMA_SB24.5</th><th>SMA_SB25</th><th>SMA_SB25.5</th><th>SMA_SB26</th><th>G_MAG_SB22</th><th>R_MAG_SB22</th><th>Z_MAG_SB22</th><th>G_MAG_SB22.5</th><th>R_MAG_SB22.5</th><th>Z_MAG_SB22.5</th><th>G_MAG_SB23</th><th>R_MAG_SB23</th><th>Z_MAG_SB23</th><th>G_MAG_SB23.5</th><th>R_MAG_SB23.5</th><th>Z_MAG_SB23.5</th><th>G_MAG_SB24</th><th>R_MAG_SB24</th><th>Z_MAG_SB24</th><th>G_MAG_SB24.5</th><th>R_MAG_SB24.5</th><th>Z_MAG_SB24.5</th><th>G_MAG_SB25</th><th>R_MAG_SB25</th><th>Z_MAG_SB25</th><th>G_MAG_SB25.5</th><th>R_MAG_SB25.5</th><th>Z_MAG_SB25.5</th><th>G_MAG_SB26</th><th>R_MAG_SB26</th><th>Z_MAG_SB26</th><th>SMA_SB22_ERR</th><th>SMA_SB22.5_ERR</th><th>SMA_SB23_ERR</th><th>SMA_SB23.5_ERR</th><th>SMA_SB24_ERR</th><th>SMA_SB24.5_ERR</th><th>SMA_SB25_ERR</th><th>SMA_SB25.5_ERR</th><th>SMA_SB26_ERR</th><th>G_MAG_SB22_ERR</th><th>R_MAG_SB22_ERR</th><th>Z_MAG_SB22_ERR</th><th>G_MAG_SB22.5_ERR</th><th>R_MAG_SB22.5_ERR</th><th>Z_MAG_SB22.5_ERR</th><th>G_MAG_SB23_ERR</th><th>R_MAG_SB23_ERR</th><th>Z_MAG_SB23_ERR</th><th>G_MAG_SB23.5_ERR</th><th>R_MAG_SB23.5_ERR</th><th>Z_MAG_SB23.5_ERR</th><th>G_MAG_SB24_ERR</th><th>R_MAG_SB24_ERR</th><th>Z_MAG_SB24_ERR</th><th>G_MAG_SB24.5_ERR</th><th>R_MAG_SB24.5_ERR</th><th>Z_MAG_SB24.5_ERR</th><th>G_MAG_SB25_ERR</th><th>R_MAG_SB25_ERR</th><th>Z_MAG_SB25_ERR</th><th>G_MAG_SB25.5_ERR</th><th>R_MAG_SB25.5_ERR</th><th>Z_MAG_SB25.5_ERR</th><th>G_MAG_SB26_ERR</th><th>R_MAG_SB26_ERR</th><th>Z_MAG_SB26_ERR</th><th>G_COG_PARAMS_MTOT</th><th>G_COG_PARAMS_M0</th><th>G_COG_PARAMS_ALPHA1</th><th>G_COG_PARAMS_ALPHA2</th><th>G_COG_PARAMS_CHI2</th><th>R_COG_PARAMS_MTOT</th><th>R_COG_PARAMS_M0</th><th>R_COG_PARAMS_ALPHA1</th><th>R_COG_PARAMS_ALPHA2</th><th>R_COG_PARAMS_CHI2</th><th>Z_COG_PARAMS_MTOT</th><th>Z_COG_PARAMS_M0</th><th>Z_COG_PARAMS_ALPHA1</th><th>Z_COG_PARAMS_ALPHA2</th><th>Z_COG_PARAMS_CHI2</th><th>ELLIPSEBIT</th><th>DM_Stellar</th><th>e_DM_lo_Stellar</th><th>e_DM_hi_Stellar</th><th>Stellar_Catalog</th></tr></thead>\n",
       "<thead><tr><th>int64</th><th>bytes16</th><th>bytes29</th><th>int64</th><th>float64</th><th>float64</th><th>bytes21</th><th>float32</th><th>float32</th><th>float32</th><th>float32</th><th>float32</th><th>float32</th><th>bool</th><th>bytes13</th><th>int64</th><th>bytes35</th><th>int16</th><th>bool</th><th>float64</th><th>float64</th><th>float32</th><th>bytes8</th><th>float64</th><th>float64</th><th>float32</th><th>bytes4</th><th>float32</th><th>float32</th><th>float64</th><th>float64</th><th>float32</th><th>float32</th><th>float32</th><th>float32</th><th>float32</th><th>float32</th><th>float32</th><th>float32</th><th>float32</th><th>float32</th><th>float32</th><th>float32</th><th>float32</th><th>float32</th><th>float32</th><th>float32</th><th>float32</th><th>float32</th><th>float32</th><th>float32</th><th>float32</th><th>float32</th><th>float32</th><th>float32</th><th>float32</th><th>float32</th><th>float32</th><th>float32</th><th>float32</th><th>float32</th><th>float32</th><th>float32</th><th>float32</th><th>float32</th><th>float32</th><th>float32</th><th>float32</th><th>float32</th><th>float32</th><th>float32</th><th>float32</th><th>float32</th><th>float32</th><th>float32</th><th>float32</th><th>float32</th><th>float32</th><th>float32</th><th>float32</th><th>float32</th><th>float32</th><th>float32</th><th>float32</th><th>float32</th><th>float32</th><th>float32</th><th>float32</th><th>float32</th><th>float32</th><th>float32</th><th>float32</th><th>float32</th><th>float32</th><th>float32</th><th>float32</th><th>float32</th><th>float32</th><th>float32</th><th>float32</th><th>float32</th><th>float32</th><th>float32</th><th>float32</th><th>float32</th><th>float32</th><th>float32</th><th>float32</th><th>float32</th><th>float32</th><th>float32</th><th>float32</th><th>float32</th><th>float32</th><th>float32</th><th>float32</th><th>float32</th><th>float32</th><th>float32</th><th>float32</th><th>float32</th><th>float32</th><th>int32</th><th>float64</th><th>float64</th><th>float64</th><th>str16</th></tr></thead>\n",
       "<tr><td>5000761</td><td>SGA-2020 5000761</td><td>DR8-3598m132-1566</td><td>-1</td><td>359.8543401209699</td><td>-13.27298450516979</td><td>COMP</td><td>13.630395</td><td>0.36305833</td><td>0.37946832</td><td>-1.0</td><td>24.814651</td><td>18.386288</td><td>False</td><td>DR8</td><td>529381</td><td>DR8-3598m132-1566</td><td>1</td><td>True</td><td>359.8543401209699</td><td>-13.27298450516979</td><td>0.36305833</td><td>3598m132</td><td>359.85434774837023</td><td>-13.272977710650537</td><td>0.28370878</td><td>SB26</td><td>168.67378</td><td>0.5625282</td><td>359.85426448280407</td><td>-13.27283520797331</td><td>6.5634704</td><td>6.3352146</td><td>5.8562765</td><td>5.2685037</td><td>-1.0</td><td>0.490355</td><td>1.3431504</td><td>2.6847167</td><td>3.7493393</td><td>4.8546333</td><td>6.111469</td><td>7.3589787</td><td>8.511264</td><td>-1.0</td><td>-1.0</td><td>-1.0</td><td>23.718433</td><td>23.193655</td><td>23.154612</td><td>21.66221</td><td>21.185404</td><td>21.111595</td><td>20.502134</td><td>20.086287</td><td>19.971468</td><td>20.085892</td><td>19.70376</td><td>19.57079</td><td>19.821558</td><td>19.462872</td><td>19.34163</td><td>19.616253</td><td>19.26634</td><td>19.164177</td><td>19.466738</td><td>19.137087</td><td>19.014479</td><td>19.37565</td><td>19.053564</td><td>18.928083</td><td>-1.0</td><td>0.014212543</td><td>0.040192965</td><td>0.033691984</td><td>0.04154174</td><td>0.07088843</td><td>0.11356775</td><td>0.13873318</td><td>0.12907872</td><td>-1.0</td><td>-1.0</td><td>-1.0</td><td>0.026477985</td><td>0.050427496</td><td>0.039810665</td><td>0.038443595</td><td>0.041060727</td><td>0.028624054</td><td>0.030409802</td><td>0.033370476</td><td>0.027760057</td><td>0.027706875</td><td>0.030110046</td><td>0.026305534</td><td>0.02673246</td><td>0.027684188</td><td>0.026165267</td><td>0.02534611</td><td>0.02572179</td><td>0.025609946</td><td>0.024172347</td><td>0.024743635</td><td>0.024433767</td><td>0.023255061</td><td>0.024151104</td><td>0.023917114</td><td>18.828407</td><td>1.8961897</td><td>0.27432075</td><td>1.2582772</td><td>0.5068609</td><td>18.54517</td><td>1.9884998</td><td>0.24010763</td><td>1.2152138</td><td>0.42738745</td><td>18.50474</td><td>1.7520914</td><td>0.22583209</td><td>1.3503227</td><td>2.026229</td><td>0</td><td>-1.0</td><td>-1.0</td><td>-1.0</td><td>-1</td></tr>\n",
       "<tr><td>5002052</td><td>SGA-2020 5002052</td><td>DR8-0344p257-2109</td><td>-1</td><td>34.51293949359952</td><td>25.744871325366134</td><td>DEV</td><td>151.64052</td><td>0.5850924</td><td>0.09584511</td><td>-1.0</td><td>25.39388</td><td>17.929277</td><td>False</td><td>DR8</td><td>530440</td><td>DR8-0344p257-2109</td><td>1</td><td>True</td><td>34.51293949359952</td><td>25.744871325366134</td><td>0.5850924</td><td>0344p257</td><td>34.51294813603673</td><td>25.744857036351764</td><td>0.68860686</td><td>SB26</td><td>150.95369</td><td>0.16084522</td><td>34.51285312078029</td><td>25.7448859360189</td><td>11.332634</td><td>26.02853</td><td>12.436312</td><td>10.408187</td><td>0.7446575</td><td>2.6943886</td><td>5.8059907</td><td>8.918248</td><td>12.309079</td><td>14.8406</td><td>17.318445</td><td>19.61883</td><td>20.658205</td><td>24.985107</td><td>23.241074</td><td>21.919067</td><td>22.416386</td><td>20.802729</td><td>19.5334</td><td>20.981726</td><td>19.423344</td><td>18.213448</td><td>20.308216</td><td>18.819778</td><td>17.67794</td><td>19.884304</td><td>18.456345</td><td>17.36667</td><td>19.671104</td><td>18.282207</td><td>17.216923</td><td>19.498528</td><td>18.14675</td><td>17.116562</td><td>19.370079</td><td>18.073362</td><td>17.053322</td><td>19.319057</td><td>18.054268</td><td>17.038513</td><td>0.061178025</td><td>0.09111086</td><td>0.13133463</td><td>0.15452333</td><td>0.18336654</td><td>0.16947876</td><td>0.19880234</td><td>0.17052293</td><td>0.20142992</td><td>0.070645496</td><td>0.093136825</td><td>0.13491446</td><td>0.09937287</td><td>0.13220285</td><td>0.16197653</td><td>0.06008311</td><td>0.072973445</td><td>0.08526528</td><td>0.04804064</td><td>0.055860307</td><td>0.06420065</td><td>0.04075153</td><td>0.04682164</td><td>0.053274423</td><td>0.037689418</td><td>0.042769633</td><td>0.048384</td><td>0.034989394</td><td>0.039601184</td><td>0.045091093</td><td>0.032971874</td><td>0.037852727</td><td>0.04310154</td><td>0.032305226</td><td>0.0373796</td><td>0.04262736</td><td>18.37849</td><td>1.6986222</td><td>1.8493062</td><td>1.2535875</td><td>0.30027997</td><td>17.686308</td><td>1.0633026</td><td>1.5389938</td><td>1.8441566</td><td>0.25587013</td><td>16.759422</td><td>1.0627648</td><td>1.1083618</td><td>1.8281469</td><td>0.14331667</td><td>0</td><td>-1.0</td><td>-1.0</td><td>-1.0</td><td>-1</td></tr>\n",
       "<tr><td>5002054</td><td>SGA-2020 5002054</td><td>DR8-1784p257-1944</td><td>-1</td><td>178.35895056368483</td><td>25.714163210692604</td><td>COMP</td><td>64.162895</td><td>0.49934536</td><td>0.5893301</td><td>-1.0</td><td>24.674006</td><td>17.55352</td><td>False</td><td>DR8</td><td>530441</td><td>DR8-1784p257-1944</td><td>1</td><td>True</td><td>178.35895056368483</td><td>25.714163210692604</td><td>0.49934536</td><td>1784p257</td><td>178.3589519474366</td><td>25.714158772488776</td><td>0.23590738</td><td>SB26</td><td>47.835987</td><td>0.8250357</td><td>178.35886459386288</td><td>25.71421341960156</td><td>6.61665</td><td>3.2677453</td><td>1.9085883</td><td>2.3045676</td><td>1.3930851</td><td>1.7718022</td><td>2.2223358</td><td>2.7726712</td><td>3.4083529</td><td>4.0817666</td><td>4.8943634</td><td>5.8183546</td><td>7.0772214</td><td>20.715128</td><td>19.38024</td><td>18.778965</td><td>20.461245</td><td>19.163992</td><td>18.546307</td><td>20.267557</td><td>18.99122</td><td>18.358278</td><td>20.111101</td><td>18.854921</td><td>18.194132</td><td>19.988832</td><td>18.738659</td><td>18.065685</td><td>19.900126</td><td>18.649105</td><td>17.967403</td><td>19.808813</td><td>18.576538</td><td>17.884369</td><td>19.746798</td><td>18.527327</td><td>17.827055</td><td>19.670656</td><td>18.485065</td><td>17.764526</td><td>0.0074930126</td><td>0.013944792</td><td>0.0147121325</td><td>0.022509845</td><td>0.023150494</td><td>0.041445028</td><td>0.047231276</td><td>0.103253655</td><td>0.2437358</td><td>0.038410377</td><td>0.034660246</td><td>0.032524835</td><td>0.032752104</td><td>0.030422792</td><td>0.028237892</td><td>0.028229805</td><td>0.026825298</td><td>0.02444311</td><td>0.025158009</td><td>0.02414764</td><td>0.021685671</td><td>0.023073357</td><td>0.022004444</td><td>0.019795932</td><td>0.021893412</td><td>0.020610126</td><td>0.018673327</td><td>0.02125558</td><td>0.019773273</td><td>0.018534673</td><td>0.02099111</td><td>0.019295866</td><td>0.018290129</td><td>0.02064504</td><td>0.018893251</td><td>0.018169861</td><td>19.259605</td><td>39983.96</td><td>7.964688e-06</td><td>0.7689097</td><td>0.24720249</td><td>18.357906</td><td>0.6059301</td><td>0.12179761</td><td>1.8153416</td><td>0.27794895</td><td>17.576096</td><td>0.8501114</td><td>0.14586806</td><td>1.5522755</td><td>0.084792085</td><td>0</td><td>-1.0</td><td>-1.0</td><td>-1.0</td><td>-1</td></tr>\n",
       "<tr><td>5002055</td><td>SGA-2020 5002055</td><td>DR8-1823p257-230</td><td>-1</td><td>182.30045461577487</td><td>25.638022138756888</td><td>COMP</td><td>54.940224</td><td>0.36782092</td><td>0.3417285</td><td>-1.0</td><td>24.809872</td><td>18.353209</td><td>False</td><td>DR8</td><td>530442</td><td>DR8-1823p257-230</td><td>1</td><td>True</td><td>182.30045461577487</td><td>25.638022138756888</td><td>0.36782092</td><td>1823p257</td><td>182.30047774695058</td><td>25.638014850043387</td><td>0.2616598</td><td>SB26</td><td>49.686592</td><td>0.500733</td><td>182.30039865249148</td><td>25.638048743506232</td><td>6.566019</td><td>2.8250787</td><td>2.9079614</td><td>3.0494995</td><td>0.64678997</td><td>1.8385516</td><td>2.696174</td><td>3.5106752</td><td>4.2383647</td><td>4.931757</td><td>5.7520695</td><td>6.7093825</td><td>7.8497944</td><td>22.260447</td><td>22.005386</td><td>21.825228</td><td>20.431135</td><td>20.188745</td><td>19.985706</td><td>19.910164</td><td>19.66585</td><td>19.451582</td><td>19.602543</td><td>19.355482</td><td>19.164808</td><td>19.439165</td><td>19.187689</td><td>18.989407</td><td>19.339918</td><td>19.085272</td><td>18.888273</td><td>19.267424</td><td>19.015398</td><td>18.792109</td><td>19.213593</td><td>18.955612</td><td>18.735971</td><td>19.171898</td><td>18.902569</td><td>18.687103</td><td>0.022085343</td><td>0.025720002</td><td>0.034137294</td><td>0.01972184</td><td>0.0254724</td><td>0.033754077</td><td>0.081778705</td><td>0.1184639</td><td>0.12959397</td><td>0.08559362</td><td>0.090296835</td><td>0.064786784</td><td>0.060150728</td><td>0.065954834</td><td>0.06281095</td><td>0.046012897</td><td>0.048988953</td><td>0.046431888</td><td>0.038301606</td><td>0.039739523</td><td>0.038813863</td><td>0.034018952</td><td>0.034730878</td><td>0.033763915</td><td>0.031484414</td><td>0.03192939</td><td>0.031782746</td><td>0.029882478</td><td>0.030254176</td><td>0.030339317</td><td>0.028729549</td><td>0.029050866</td><td>0.030122649</td><td>0.028094506</td><td>0.028109686</td><td>0.030175911</td><td>19.086432</td><td>0.6876604</td><td>0.06933014</td><td>2.6547205</td><td>0.16423321</td><td>18.807678</td><td>0.71579003</td><td>0.0798934</td><td>2.5491295</td><td>0.2220811</td><td>18.552357</td><td>0.8326773</td><td>0.09878345</td><td>2.2729623</td><td>0.15607573</td><td>0</td><td>-1.0</td><td>-1.0</td><td>-1.0</td><td>-1</td></tr>\n",
       "<tr><td>5002057</td><td>SGA-2020 5002057</td><td>DR8-2186p257-3102</td><td>-1</td><td>218.52675351118162</td><td>25.777874765173692</td><td>COMP</td><td>99.44611</td><td>0.430383</td><td>0.6935583</td><td>-1.0</td><td>23.651276</td><td>16.85352</td><td>False</td><td>DR8</td><td>530443</td><td>DR8-2186p257-3102</td><td>1</td><td>True</td><td>218.52675351118162</td><td>25.777874765173692</td><td>0.430383</td><td>2186p257</td><td>218.52675403371052</td><td>25.777866281446112</td><td>0.28422502</td><td>SB26</td><td>170.02393</td><td>0.9512747</td><td>218.52669913759985</td><td>25.77794876672501</td><td>7.5481772</td><td>3.3619752</td><td>2.9452875</td><td>2.6339617</td><td>1.6860615</td><td>2.1809776</td><td>3.020206</td><td>4.174839</td><td>5.52089</td><td>6.392034</td><td>7.279041</td><td>7.7982597</td><td>8.526751</td><td>19.857561</td><td>18.860588</td><td>18.17803</td><td>19.58193</td><td>18.610964</td><td>17.948112</td><td>19.310358</td><td>18.370378</td><td>17.721947</td><td>19.056047</td><td>18.147415</td><td>17.520973</td><td>18.754253</td><td>17.900494</td><td>17.308077</td><td>18.599892</td><td>17.768744</td><td>17.199852</td><td>18.506903</td><td>17.694752</td><td>17.130339</td><td>18.481678</td><td>17.671705</td><td>17.107803</td><td>18.46009</td><td>17.648983</td><td>17.088022</td><td>0.009114435</td><td>0.0119036315</td><td>0.028776595</td><td>0.027904274</td><td>0.054004967</td><td>0.041131835</td><td>0.037143793</td><td>0.05638475</td><td>0.04748776</td><td>0.02174655</td><td>0.015500244</td><td>0.019963564</td><td>0.021399202</td><td>0.015143763</td><td>0.017793322</td><td>0.01908663</td><td>0.013749946</td><td>0.015117348</td><td>0.0157649</td><td>0.011701589</td><td>0.01288439</td><td>0.012355591</td><td>0.009633408</td><td>0.010833294</td><td>0.0110014165</td><td>0.008716253</td><td>0.0100948755</td><td>0.0101745445</td><td>0.008309146</td><td>0.0094871195</td><td>0.010013149</td><td>0.008197582</td><td>0.009375395</td><td>0.0099698845</td><td>0.0081014205</td><td>0.009416443</td><td>18.460312</td><td>0.041467015</td><td>0.0017834055</td><td>22.455711</td><td>13.108814</td><td>17.64666</td><td>0.045927238</td><td>0.0072623407</td><td>17.434286</td><td>13.186934</td><td>17.082151</td><td>0.048204545</td><td>0.015438232</td><td>14.828787</td><td>5.7593513</td><td>0</td><td>-1.0</td><td>-1.0</td><td>-1.0</td><td>-1</td></tr>\n",
       "<tr><td>5002059</td><td>SGA-2020 5002059</td><td>DR8-2574p257-1652</td><td>-1</td><td>257.489178210142</td><td>25.68954170950334</td><td>DEV</td><td>54.34336</td><td>0.5739394</td><td>0.60341257</td><td>-1.0</td><td>25.076468</td><td>17.653656</td><td>False</td><td>DR8</td><td>530444</td><td>DR8-2574p257-1652</td><td>1</td><td>True</td><td>257.489178210142</td><td>25.68954170950334</td><td>0.5739394</td><td>2574p257</td><td>257.4891773857944</td><td>25.689512238499404</td><td>0.29265073</td><td>SB26</td><td>45.305546</td><td>0.7878912</td><td>257.48907802628236</td><td>25.689546582713927</td><td>6.748928</td><td>6.75135</td><td>6.8497815</td><td>5.797514</td><td>-1.0</td><td>-1.0</td><td>0.8823972</td><td>1.9318292</td><td>3.607621</td><td>4.9483266</td><td>6.204522</td><td>7.532655</td><td>8.779522</td><td>-1.0</td><td>-1.0</td><td>-1.0</td><td>-1.0</td><td>-1.0</td><td>-1.0</td><td>22.395176</td><td>21.903332</td><td>21.450241</td><td>20.988762</td><td>20.468824</td><td>20.055164</td><td>20.090715</td><td>19.586184</td><td>19.230303</td><td>19.685022</td><td>19.223629</td><td>18.908161</td><td>19.422743</td><td>18.990652</td><td>18.707825</td><td>19.256433</td><td>18.831554</td><td>18.570835</td><td>19.147623</td><td>18.744835</td><td>18.503544</td><td>-1.0</td><td>-1.0</td><td>0.015120099</td><td>0.023799146</td><td>0.02203746</td><td>0.04269273</td><td>0.08707952</td><td>0.089919165</td><td>0.08701137</td><td>-1.0</td><td>-1.0</td><td>-1.0</td><td>-1.0</td><td>-1.0</td><td>-1.0</td><td>0.055190634</td><td>0.045343112</td><td>0.04373555</td><td>0.032567814</td><td>0.030621987</td><td>0.038314342</td><td>0.02067661</td><td>0.01978862</td><td>0.026538037</td><td>0.015506979</td><td>0.01540197</td><td>0.022549402</td><td>0.013884077</td><td>0.0138456</td><td>0.021088004</td><td>0.013350352</td><td>0.01296349</td><td>0.02092294</td><td>0.01290051</td><td>0.0128038535</td><td>0.021656765</td><td>18.602917</td><td>1.0961971</td><td>0.5100188</td><td>1.6801494</td><td>3.188617</td><td>18.163013</td><td>1.5706954</td><td>0.3689261</td><td>1.3492157</td><td>2.4697354</td><td>18.015022</td><td>1.7154992</td><td>0.27069804</td><td>1.3026445</td><td>0.91837305</td><td>0</td><td>-1.0</td><td>-1.0</td><td>-1.0</td><td>-1</td></tr>\n",
       "<tr><td>5002060</td><td>SGA-2020 5002060</td><td>DR8-0387p260-4128</td><td>-1</td><td>38.775213967040806</td><td>26.063917483194377</td><td>COMP</td><td>61.733482</td><td>0.3859409</td><td>0.49896035</td><td>-1.0</td><td>23.50242</td><td>16.941336</td><td>False</td><td>DR8</td><td>530445</td><td>DR8-0387p260-4128</td><td>1</td><td>True</td><td>38.775213967040806</td><td>26.063917483194377</td><td>0.3859409</td><td>0387p260</td><td>38.77522007945641</td><td>26.063911266778963</td><td>0.37486315</td><td>SB26</td><td>76.81555</td><td>0.6614047</td><td>38.775068843202</td><td>26.06396992010829</td><td>8.528834</td><td>5.3921814</td><td>4.193535</td><td>3.495971</td><td>2.5421011</td><td>3.256088</td><td>4.0066447</td><td>4.9291735</td><td>6.0054207</td><td>7.284177</td><td>8.564728</td><td>9.994357</td><td>11.245894</td><td>19.418848</td><td>18.389858</td><td>17.549156</td><td>19.150877</td><td>18.147106</td><td>17.33126</td><td>18.969809</td><td>17.983267</td><td>17.184658</td><td>18.824133</td><td>17.846869</td><td>17.063644</td><td>18.703703</td><td>17.740942</td><td>16.969515</td><td>18.59951</td><td>17.650465</td><td>16.8907</td><td>18.519024</td><td>17.582773</td><td>16.827991</td><td>18.457827</td><td>17.530031</td><td>16.784727</td><td>18.422825</td><td>17.501816</td><td>16.761732</td><td>0.01891524</td><td>0.034605727</td><td>0.039026555</td><td>0.052407186</td><td>0.0653756</td><td>0.09351885</td><td>0.107837826</td><td>0.13968588</td><td>0.14666855</td><td>0.025455188</td><td>0.029175779</td><td>0.033818193</td><td>0.024425391</td><td>0.026561614</td><td>0.029888274</td><td>0.023495065</td><td>0.024847647</td><td>0.02742456</td><td>0.021823939</td><td>0.023027956</td><td>0.025399234</td><td>0.020492317</td><td>0.021653594</td><td>0.02388096</td><td>0.01959185</td><td>0.020541986</td><td>0.022647658</td><td>0.0189584</td><td>0.019797275</td><td>0.021730104</td><td>0.018527484</td><td>0.019215066</td><td>0.021087414</td><td>0.018200086</td><td>0.018859062</td><td>0.020734109</td><td>18.010809</td><td>13714.826</td><td>3.285643e-05</td><td>0.8304307</td><td>0.27659962</td><td>17.19884</td><td>11.605206</td><td>0.029242659</td><td>0.95394516</td><td>0.1151696</td><td>16.526941</td><td>3.9054916</td><td>0.069055095</td><td>1.0695863</td><td>0.14369495</td><td>0</td><td>-1.0</td><td>-1.0</td><td>-1.0</td><td>-1</td></tr>\n",
       "<tr><td>5002061</td><td>SGA-2020 5002061</td><td>DR8-1331p260-2535</td><td>-1</td><td>133.1022672218886</td><td>26.01225205046505</td><td>COMP</td><td>173.93405</td><td>0.3675429</td><td>0.5871012</td><td>-1.0</td><td>22.835455</td><td>16.380434</td><td>False</td><td>DR8</td><td>530446</td><td>DR8-1331p260-2535</td><td>1</td><td>True</td><td>133.1022672218886</td><td>26.01225205046505</td><td>0.3675429</td><td>1331p260</td><td>133.10228353174327</td><td>26.012234495098593</td><td>0.30617592</td><td>SB26</td><td>27.58399</td><td>0.8495498</td><td>133.10217746920011</td><td>26.012288565247985</td><td>8.608526</td><td>2.685112</td><td>2.6941478</td><td>2.5040274</td><td>3.2431479</td><td>4.0103054</td><td>4.8231735</td><td>5.649113</td><td>6.457118</td><td>7.1757617</td><td>7.8964744</td><td>8.508293</td><td>9.185278</td><td>18.202904</td><td>17.44703</td><td>16.836306</td><td>18.015171</td><td>17.263784</td><td>16.668266</td><td>17.890503</td><td>17.137829</td><td>16.55192</td><td>17.802273</td><td>17.048656</td><td>16.467062</td><td>17.743982</td><td>16.986555</td><td>16.409906</td><td>17.70812</td><td>16.949392</td><td>16.374197</td><td>17.686064</td><td>16.923882</td><td>16.35275</td><td>17.67381</td><td>16.910786</td><td>16.340927</td><td>17.6651</td><td>16.90183</td><td>16.330353</td><td>0.012578337</td><td>0.015178427</td><td>0.018678332</td><td>0.022032669</td><td>0.022242269</td><td>0.027109202</td><td>0.062061395</td><td>0.070145085</td><td>0.070947744</td><td>0.016649308</td><td>0.01673558</td><td>0.019257853</td><td>0.01460507</td><td>0.014620656</td><td>0.017005013</td><td>0.013120791</td><td>0.013198883</td><td>0.015382623</td><td>0.012151789</td><td>0.012159125</td><td>0.0143146245</td><td>0.011611824</td><td>0.011634117</td><td>0.0136827305</td><td>0.011290471</td><td>0.011253879</td><td>0.013315241</td><td>0.011112873</td><td>0.011090202</td><td>0.0131081445</td><td>0.011005323</td><td>0.010979559</td><td>0.0130030075</td><td>0.010925972</td><td>0.01085516</td><td>0.012924591</td><td>17.62623</td><td>0.27808952</td><td>0.10252227</td><td>3.7378695</td><td>0.30803826</td><td>16.859676</td><td>0.2557747</td><td>0.121081516</td><td>3.8119943</td><td>0.32186726</td><td>16.29547</td><td>0.21789831</td><td>0.1194429</td><td>4.005656</td><td>0.15875688</td><td>0</td><td>-1.0</td><td>-1.0</td><td>-1.0</td><td>-1</td></tr>\n",
       "<tr><td>5002062</td><td>SGA-2020 5002062</td><td>DR8-1415p260-1774</td><td>-1</td><td>141.563263100328</td><td>25.991821352827408</td><td>DEV</td><td>64.94905</td><td>0.49731663</td><td>0.4763062</td><td>-1.0</td><td>24.394587</td><td>17.28294</td><td>False</td><td>DR8</td><td>530447</td><td>DR8-1415p260-1774</td><td>1</td><td>True</td><td>141.563263100328</td><td>25.991821352827408</td><td>0.49731663</td><td>1415p260</td><td>141.56322686460305</td><td>25.991800926946855</td><td>0.46666777</td><td>SB26</td><td>58.185925</td><td>0.47516543</td><td>141.563026623798</td><td>25.991937176596785</td><td>9.608679</td><td>8.909337</td><td>8.331264</td><td>9.663198</td><td>0.49446082</td><td>1.6019396</td><td>3.4488425</td><td>4.9324694</td><td>6.58859</td><td>8.466022</td><td>10.318445</td><td>12.234596</td><td>14.000033</td><td>23.461647</td><td>22.933357</td><td>22.6284</td><td>21.065037</td><td>20.568367</td><td>20.282024</td><td>19.779476</td><td>19.322622</td><td>19.044792</td><td>19.291958</td><td>18.859568</td><td>18.571678</td><td>18.963299</td><td>18.54661</td><td>18.262037</td><td>18.73532</td><td>18.341017</td><td>18.054453</td><td>18.590612</td><td>18.19906</td><td>17.907774</td><td>18.476229</td><td>18.092972</td><td>17.780447</td><td>18.396502</td><td>18.021997</td><td>17.712172</td><td>0.03453182</td><td>0.052019514</td><td>0.057833318</td><td>0.064763255</td><td>0.092221685</td><td>0.12774539</td><td>0.16121936</td><td>0.19027685</td><td>0.17187767</td><td>0.11094245</td><td>0.13721938</td><td>0.122073464</td><td>0.071904056</td><td>0.096012086</td><td>0.09558649</td><td>0.045216862</td><td>0.056210946</td><td>0.060223315</td><td>0.036070034</td><td>0.04396925</td><td>0.046491243</td><td>0.030444376</td><td>0.036201447</td><td>0.038489655</td><td>0.0267862</td><td>0.031861905</td><td>0.03371825</td><td>0.024761902</td><td>0.02913856</td><td>0.03059347</td><td>0.02331502</td><td>0.027488008</td><td>0.028407276</td><td>0.022429865</td><td>0.026439665</td><td>0.027588727</td><td>17.943136</td><td>1.6921898</td><td>0.48118743</td><td>1.3145844</td><td>0.11049008</td><td>17.597855</td><td>1.7226985</td><td>0.43262878</td><td>1.2931865</td><td>0.07200211</td><td>17.192787</td><td>1.9362189</td><td>0.4563042</td><td>1.1743094</td><td>0.30316997</td><td>0</td><td>-1.0</td><td>-1.0</td><td>-1.0</td><td>-1</td></tr>\n",
       "<tr><td>5002064</td><td>SGA-2020 5002064</td><td>DR8-2134p260-1376</td><td>-1</td><td>213.35742650064347</td><td>25.944969557975373</td><td>COMP</td><td>138.92987</td><td>0.41980565</td><td>0.17013104</td><td>-1.0</td><td>24.870749</td><td>18.127026</td><td>False</td><td>DR8</td><td>530448</td><td>DR8-2134p260-1376</td><td>1</td><td>True</td><td>213.35742650064347</td><td>25.944969557975373</td><td>0.41980565</td><td>2134p260</td><td>213.35744946562002</td><td>25.94498108546874</td><td>0.46322358</td><td>SB26</td><td>146.81259</td><td>0.30508327</td><td>213.35728535914612</td><td>25.945123594176092</td><td>8.514018</td><td>8.353787</td><td>5.8509626</td><td>5.6304607</td><td>1.3909734</td><td>3.15017</td><td>4.572327</td><td>6.0478864</td><td>7.613665</td><td>9.198722</td><td>10.86969</td><td>12.74964</td><td>13.896708</td><td>22.112082</td><td>20.831774</td><td>19.95391</td><td>20.769636</td><td>19.544533</td><td>18.6733</td><td>20.234728</td><td>19.02906</td><td>18.171207</td><td>19.913473</td><td>18.721365</td><td>17.873951</td><td>19.699118</td><td>18.519077</td><td>17.684835</td><td>19.532879</td><td>18.390667</td><td>17.557062</td><td>19.414278</td><td>18.292683</td><td>17.473894</td><td>19.31448</td><td>18.218864</td><td>17.393368</td><td>19.267895</td><td>18.189621</td><td>17.374407</td><td>0.055070132</td><td>0.07543271</td><td>0.09094755</td><td>0.123204775</td><td>0.11611826</td><td>0.13974988</td><td>0.1919233</td><td>0.19453591</td><td>0.1948024</td><td>0.051901866</td><td>0.08869773</td><td>0.09592212</td><td>0.073430255</td><td>0.08622512</td><td>0.08758711</td><td>0.0634122</td><td>0.072652854</td><td>0.072227776</td><td>0.056514837</td><td>0.0634322</td><td>0.063192256</td><td>0.05172504</td><td>0.057115886</td><td>0.05702567</td><td>0.047395743</td><td>0.05300191</td><td>0.052829213</td><td>0.04459751</td><td>0.04979356</td><td>0.049904775</td><td>0.04204979</td><td>0.047380865</td><td>0.047219623</td><td>0.04087242</td><td>0.046420354</td><td>0.046572484</td><td>18.857948</td><td>1.3500049</td><td>0.57432455</td><td>1.455736</td><td>0.08381088</td><td>18.0054</td><td>0.8471173</td><td>0.47725996</td><td>2.0490072</td><td>0.03232326</td><td>17.19551</td><td>0.87468696</td><td>0.43157175</td><td>2.0035203</td><td>0.067023866</td><td>0</td><td>-1.0</td><td>-1.0</td><td>-1.0</td><td>-1</td></tr>\n",
       "<tr><td>...</td><td>...</td><td>...</td><td>...</td><td>...</td><td>...</td><td>...</td><td>...</td><td>...</td><td>...</td><td>...</td><td>...</td><td>...</td><td>...</td><td>...</td><td>...</td><td>...</td><td>...</td><td>...</td><td>...</td><td>...</td><td>...</td><td>...</td><td>...</td><td>...</td><td>...</td><td>...</td><td>...</td><td>...</td><td>...</td><td>...</td><td>...</td><td>...</td><td>...</td><td>...</td><td>...</td><td>...</td><td>...</td><td>...</td><td>...</td><td>...</td><td>...</td><td>...</td><td>...</td><td>...</td><td>...</td><td>...</td><td>...</td><td>...</td><td>...</td><td>...</td><td>...</td><td>...</td><td>...</td><td>...</td><td>...</td><td>...</td><td>...</td><td>...</td><td>...</td><td>...</td><td>...</td><td>...</td><td>...</td><td>...</td><td>...</td><td>...</td><td>...</td><td>...</td><td>...</td><td>...</td><td>...</td><td>...</td><td>...</td><td>...</td><td>...</td><td>...</td><td>...</td><td>...</td><td>...</td><td>...</td><td>...</td><td>...</td><td>...</td><td>...</td><td>...</td><td>...</td><td>...</td><td>...</td><td>...</td><td>...</td><td>...</td><td>...</td><td>...</td><td>...</td><td>...</td><td>...</td><td>...</td><td>...</td><td>...</td><td>...</td><td>...</td><td>...</td><td>...</td><td>...</td><td>...</td><td>...</td><td>...</td><td>...</td><td>...</td><td>...</td><td>...</td><td>...</td><td>...</td><td>...</td><td>...</td><td>...</td><td>...</td><td>...</td><td>...</td><td>...</td><td>...</td><td>...</td><td>...</td><td>...</td><td>...</td><td>...</td></tr>\n",
       "<tr><td>1381636</td><td>SGA-2020 1381636</td><td>SDSSJ084556.57+533919.5</td><td>6655844</td><td>131.485701</td><td>53.65544379999999</td><td>E</td><td>95.67</td><td>0.3349654</td><td>0.5546257</td><td>0.18141483</td><td>25.113482</td><td>18.86</td><td>False</td><td>LEDA-20181114</td><td>505249</td><td>SDSSJ084556.57+533919.5</td><td>1</td><td>True</td><td>131.485701</td><td>53.65544379999999</td><td>0.3349654</td><td>1314p537</td><td>131.485513332869</td><td>53.65552786241768</td><td>0.90785563</td><td>SB26</td><td>100.781906</td><td>0.46966988</td><td>131.48501097335733</td><td>53.655693283414486</td><td>19.27131</td><td>19.645798</td><td>18.474365</td><td>6.119243</td><td>3.2048464</td><td>5.3000298</td><td>6.868498</td><td>8.733146</td><td>10.891547</td><td>13.799854</td><td>17.674564</td><td>22.38903</td><td>27.235668</td><td>19.617006</td><td>18.344181</td><td>17.434069</td><td>18.978195</td><td>17.674133</td><td>16.850527</td><td>18.723785</td><td>17.416801</td><td>16.62731</td><td>18.533216</td><td>17.225698</td><td>16.458725</td><td>18.376013</td><td>17.077702</td><td>16.329185</td><td>18.221233</td><td>16.928686</td><td>16.220829</td><td>18.096092</td><td>16.81081</td><td>16.13823</td><td>17.982832</td><td>16.693537</td><td>16.08931</td><td>17.898993</td><td>16.599098</td><td>16.06033</td><td>0.02145444</td><td>0.024300767</td><td>0.02659843</td><td>0.038242504</td><td>0.049760833</td><td>0.08221394</td><td>0.1245344</td><td>0.18116935</td><td>0.33597404</td><td>0.06416799</td><td>0.050728355</td><td>0.05993947</td><td>0.03762428</td><td>0.029434409</td><td>0.03632072</td><td>0.030153323</td><td>0.023723181</td><td>0.02987621</td><td>0.025530338</td><td>0.020114306</td><td>0.025720255</td><td>0.022249224</td><td>0.017710531</td><td>0.02294827</td><td>0.019440806</td><td>0.015559579</td><td>0.020865593</td><td>0.017504236</td><td>0.014118455</td><td>0.019410819</td><td>0.015995648</td><td>0.012845607</td><td>0.01868493</td><td>0.014987484</td><td>0.011922889</td><td>0.0183018</td><td>17.28751</td><td>73180.23</td><td>1.5632104e-05</td><td>0.62010896</td><td>0.3111535</td><td>16.02202</td><td>74812.266</td><td>1.4850441e-05</td><td>0.634582</td><td>3.317102</td><td>15.9725685</td><td>0.92735827</td><td>0.53775245</td><td>1.719592</td><td>0.2274793</td><td>0</td><td>-1.0</td><td>-1.0</td><td>-1.0</td><td>-1</td></tr>\n",
       "<tr><td>192068</td><td>SGA-2020 192068</td><td>SDSSJ081707.55+511127.7</td><td>6655947</td><td>124.28238088651509</td><td>51.19128628720261</td><td></td><td>71.97</td><td>0.36812896</td><td>0.22594357</td><td>0.17712219</td><td>25.81748</td><td>19.359</td><td>True</td><td>LEDA-20181114</td><td>69573</td><td>SDSSJ081707.55+511127.7</td><td>1</td><td>True</td><td>124.28238088651509</td><td>51.19128628720261</td><td>0.36812896</td><td>1244p512</td><td>124.28286712681074</td><td>51.191316969084056</td><td>0.5698969</td><td>SB26</td><td>38.01268</td><td>0.60827065</td><td>124.28264919212468</td><td>51.19135772249885</td><td>11.790564</td><td>26.220972</td><td>32.505302</td><td>4.255241</td><td>2.9588587</td><td>3.7123146</td><td>4.66305</td><td>5.8716984</td><td>7.5463243</td><td>9.732671</td><td>12.048173</td><td>14.47257</td><td>17.096907</td><td>19.246832</td><td>17.866617</td><td>17.068176</td><td>19.053019</td><td>17.69755</td><td>16.92151</td><td>18.893269</td><td>17.556864</td><td>16.796852</td><td>18.74582</td><td>17.433514</td><td>16.697847</td><td>18.601437</td><td>17.307768</td><td>16.598597</td><td>18.472775</td><td>17.188192</td><td>16.493504</td><td>18.369629</td><td>17.095926</td><td>16.426714</td><td>18.285688</td><td>17.01381</td><td>16.371881</td><td>18.218992</td><td>16.959127</td><td>16.347162</td><td>0.023079297</td><td>0.04086215</td><td>0.05482284</td><td>0.078915626</td><td>0.09437602</td><td>0.08666526</td><td>0.09979178</td><td>0.118369386</td><td>0.12936331</td><td>0.034474935</td><td>0.041634373</td><td>0.0527702</td><td>0.030878717</td><td>0.036941394</td><td>0.047334947</td><td>0.028247554</td><td>0.033442415</td><td>0.0430739</td><td>0.025652625</td><td>0.030590272</td><td>0.040022045</td><td>0.023055358</td><td>0.02769982</td><td>0.036951464</td><td>0.020845573</td><td>0.025080584</td><td>0.033801246</td><td>0.019185174</td><td>0.023202341</td><td>0.03195588</td><td>0.017905246</td><td>0.021613762</td><td>0.03049109</td><td>0.016926548</td><td>0.02059854</td><td>0.029887747</td><td>17.315825</td><td>28263.938</td><td>4.0299303e-05</td><td>0.42989406</td><td>0.21140626</td><td>15.998731</td><td>12815.154</td><td>9.1607675e-05</td><td>0.37716883</td><td>0.27228743</td><td>16.10019</td><td>0.900625</td><td>0.53558946</td><td>1.0434191</td><td>0.28794855</td><td>0</td><td>-1.0</td><td>-1.0</td><td>-1.0</td><td>-1</td></tr>\n",
       "<tr><td>1015032</td><td>SGA-2020 1015032</td><td>SDSSJ120341.63+275957.9</td><td>6656953</td><td>180.92358149999998</td><td>27.999443699999997</td><td>Sbc</td><td>168.6</td><td>0.5834451</td><td>0.379315</td><td>0.13893944</td><td>25.544481</td><td>18.086</td><td>False</td><td>LEDA-20181114</td><td>303346</td><td>SDSSJ120341.63+275957.9_GROUP</td><td>3</td><td>True</td><td>180.9212985046776</td><td>27.998505136513337</td><td>0.75372183</td><td>1809p280</td><td>180.92359944729975</td><td>27.999443129696207</td><td>0.8077715</td><td>SB26</td><td>162.69438</td><td>0.43797576</td><td>180.92371366548593</td><td>27.999202931310073</td><td>15.937034</td><td>8.241134</td><td>7.70254</td><td>7.259966</td><td>3.206125</td><td>5.950151</td><td>7.876542</td><td>9.721162</td><td>11.51854</td><td>13.64122</td><td>16.679659</td><td>20.331114</td><td>24.233145</td><td>19.737555</td><td>18.619164</td><td>17.707706</td><td>18.761906</td><td>17.666943</td><td>16.795593</td><td>18.3967</td><td>17.320261</td><td>16.475294</td><td>18.155092</td><td>17.133202</td><td>16.313765</td><td>17.992344</td><td>16.996462</td><td>16.210371</td><td>17.877838</td><td>16.900969</td><td>16.120815</td><td>17.78587</td><td>16.821604</td><td>16.040777</td><td>17.721733</td><td>16.758123</td><td>15.982839</td><td>17.652637</td><td>16.6967</td><td>15.932339</td><td>0.11108169</td><td>0.1090004</td><td>0.110301286</td><td>0.15792286</td><td>0.122607596</td><td>0.18852842</td><td>0.21782541</td><td>0.21479286</td><td>0.33606178</td><td>0.044466127</td><td>0.053559944</td><td>0.06406398</td><td>0.040328447</td><td>0.046081588</td><td>0.05219833</td><td>0.036476463</td><td>0.04033911</td><td>0.044750202</td><td>0.032531247</td><td>0.035964098</td><td>0.040050626</td><td>0.030211946</td><td>0.03310702</td><td>0.03697897</td><td>0.02816797</td><td>0.030891443</td><td>0.034441527</td><td>0.026085349</td><td>0.028939256</td><td>0.032155618</td><td>0.024806887</td><td>0.027418455</td><td>0.030550003</td><td>0.023556186</td><td>0.025985079</td><td>0.029230917</td><td>17.581604</td><td>0.69125044</td><td>1.2055752</td><td>2.5397527</td><td>0.9411545</td><td>16.597622</td><td>1.0361096</td><td>0.6367639</td><td>1.9793861</td><td>0.5039726</td><td>15.812825</td><td>1.473543</td><td>0.38964978</td><td>1.6763681</td><td>0.23054382</td><td>0</td><td>-1.0</td><td>-1.0</td><td>-1.0</td><td>-1</td></tr>\n",
       "<tr><td>163773</td><td>SGA-2020 163773</td><td>MSB2017_J1408+56</td><td>6657065</td><td>212.170833</td><td>56.92722220000001</td><td></td><td>0.0</td><td>0.36666667</td><td>1.0</td><td>-99.0</td><td>24.71984</td><td>18.27</td><td>True</td><td>LEDA-20181114</td><td>59011</td><td>MSB2017_J1408+56</td><td>1</td><td>True</td><td>212.170833</td><td>56.92722220000001</td><td>0.36666667</td><td>2122p570</td><td>212.171159955593</td><td>56.926595549320815</td><td>0.58524245</td><td>SB26</td><td>50.73783</td><td>0.4828788</td><td>212.1707516989119</td><td>56.926627496412706</td><td>9.405043</td><td>15.877693</td><td>16.633938</td><td>8.064359</td><td>-1.0</td><td>-1.0</td><td>-1.0</td><td>-1.0</td><td>2.6530533</td><td>6.095575</td><td>10.717708</td><td>14.651399</td><td>17.557274</td><td>-1.0</td><td>-1.0</td><td>-1.0</td><td>-1.0</td><td>-1.0</td><td>-1.0</td><td>-1.0</td><td>-1.0</td><td>-1.0</td><td>-1.0</td><td>-1.0</td><td>-1.0</td><td>21.625917</td><td>21.187191</td><td>21.246511</td><td>20.063698</td><td>19.643198</td><td>19.8808</td><td>19.182755</td><td>18.779291</td><td>19.256529</td><td>18.79556</td><td>18.392824</td><td>19.051292</td><td>18.618816</td><td>18.218784</td><td>18.96972</td><td>-1.0</td><td>-1.0</td><td>-1.0</td><td>-1.0</td><td>0.04900321</td><td>0.12553737</td><td>0.14137444</td><td>0.22693798</td><td>0.34099555</td><td>-1.0</td><td>-1.0</td><td>-1.0</td><td>-1.0</td><td>-1.0</td><td>-1.0</td><td>-1.0</td><td>-1.0</td><td>-1.0</td><td>-1.0</td><td>-1.0</td><td>-1.0</td><td>0.024730783</td><td>0.022632247</td><td>0.061896753</td><td>0.0155524425</td><td>0.016901288</td><td>0.03857256</td><td>0.01526508</td><td>0.016313702</td><td>0.03891823</td><td>0.013758953</td><td>0.01469708</td><td>0.04103073</td><td>0.012740955</td><td>0.013579273</td><td>0.042758927</td><td>17.96158</td><td>1.1124256</td><td>2.2624726</td><td>1.8385125</td><td>0.05919084</td><td>17.515175</td><td>1.1819742</td><td>2.1476247</td><td>1.7305608</td><td>0.15930454</td><td>18.778017</td><td>0.87467015</td><td>0.8490365</td><td>2.2040992</td><td>0.00031231687</td><td>0</td><td>-1.0</td><td>-1.0</td><td>-1.0</td><td>-1</td></tr>\n",
       "<tr><td>259065</td><td>SGA-2020 259065</td><td>MSB2017_J1305+41</td><td>6657076</td><td>196.3716</td><td>41.8938</td><td></td><td>0.0</td><td>0.40666667</td><td>1.0</td><td>-99.0</td><td>23.994673</td><td>17.32</td><td>True</td><td>LEDA-20181114</td><td>94630</td><td>MSB2017_J1305+41</td><td>1</td><td>True</td><td>196.3716</td><td>41.8938</td><td>0.40666667</td><td>1962p420</td><td>196.37132998092522</td><td>41.8932195346971</td><td>0.66303176</td><td>SB26</td><td>52.223404</td><td>0.9118806</td><td>196.37112279893566</td><td>41.893266881498754</td><td>13.664224</td><td>19.533525</td><td>18.815765</td><td>6.1085525</td><td>-1.0</td><td>-1.0</td><td>-1.0</td><td>2.910728</td><td>5.822521</td><td>9.797999</td><td>13.057665</td><td>16.531813</td><td>19.890953</td><td>-1.0</td><td>-1.0</td><td>-1.0</td><td>-1.0</td><td>-1.0</td><td>-1.0</td><td>-1.0</td><td>-1.0</td><td>-1.0</td><td>20.151731</td><td>19.754078</td><td>19.91731</td><td>18.801258</td><td>18.432663</td><td>18.642662</td><td>18.060808</td><td>17.693975</td><td>18.068945</td><td>17.771181</td><td>17.392496</td><td>17.932392</td><td>17.565676</td><td>17.185678</td><td>17.863697</td><td>17.422804</td><td>17.042221</td><td>17.85511</td><td>-1.0</td><td>-1.0</td><td>-1.0</td><td>0.01898834</td><td>0.03100518</td><td>0.039650068</td><td>0.0660397</td><td>0.08333549</td><td>0.15105432</td><td>-1.0</td><td>-1.0</td><td>-1.0</td><td>-1.0</td><td>-1.0</td><td>-1.0</td><td>-1.0</td><td>-1.0</td><td>-1.0</td><td>0.008788423</td><td>0.0092661325</td><td>0.030514777</td><td>0.005188027</td><td>0.005262448</td><td>0.01739371</td><td>0.00393001</td><td>0.0040864726</td><td>0.015194148</td><td>0.0034638399</td><td>0.003603017</td><td>0.016705519</td><td>0.0031898906</td><td>0.003404639</td><td>0.01882653</td><td>0.003039708</td><td>0.003299739</td><td>0.021213887</td><td>16.685862</td><td>3.7185729</td><td>0.4417826</td><td>1.012266</td><td>11.173057</td><td>16.331194</td><td>2.8898659</td><td>0.5920997</td><td>1.0889734</td><td>3.7448015</td><td>17.819023</td><td>0.647334</td><td>0.44158864</td><td>3.256265</td><td>0.34275523</td><td>0</td><td>-1.0</td><td>-1.0</td><td>-1.0</td><td>-1</td></tr>\n",
       "<tr><td>706307</td><td>SGA-2020 706307</td><td>MSB2017_J1308+40</td><td>6657077</td><td>197.1916665</td><td>40.9011111</td><td></td><td>0.0</td><td>0.36666667</td><td>1.0</td><td>-99.0</td><td>24.89984</td><td>18.45</td><td>True</td><td>LEDA-20181114</td><td>258969</td><td>MSB2017_J1308+40</td><td>1</td><td>True</td><td>197.1916665</td><td>40.9011111</td><td>0.36666667</td><td>1973p410</td><td>197.19137793031447</td><td>40.901048874962804</td><td>0.68482155</td><td>SB26</td><td>88.6135</td><td>0.43416804</td><td>197.19112395226895</td><td>40.90114986353322</td><td>13.771014</td><td>21.397373</td><td>15.1284</td><td>8.650713</td><td>-1.0</td><td>-1.0</td><td>-1.0</td><td>-1.0</td><td>2.0416327</td><td>5.9897866</td><td>11.135965</td><td>16.2076</td><td>20.544647</td><td>-1.0</td><td>-1.0</td><td>-1.0</td><td>-1.0</td><td>-1.0</td><td>-1.0</td><td>-1.0</td><td>-1.0</td><td>-1.0</td><td>-1.0</td><td>-1.0</td><td>-1.0</td><td>22.689522</td><td>22.04564</td><td>21.906284</td><td>20.474197</td><td>19.88835</td><td>19.787655</td><td>19.428696</td><td>18.815996</td><td>18.888979</td><td>18.945002</td><td>18.356041</td><td>18.602873</td><td>18.695383</td><td>18.123974</td><td>18.531347</td><td>-1.0</td><td>-1.0</td><td>-1.0</td><td>-1.0</td><td>0.060773477</td><td>0.06677961</td><td>0.13201728</td><td>0.1221379</td><td>0.20880674</td><td>-1.0</td><td>-1.0</td><td>-1.0</td><td>-1.0</td><td>-1.0</td><td>-1.0</td><td>-1.0</td><td>-1.0</td><td>-1.0</td><td>-1.0</td><td>-1.0</td><td>-1.0</td><td>0.04236685</td><td>0.037515614</td><td>0.08954121</td><td>0.016390966</td><td>0.015259452</td><td>0.033005722</td><td>0.011452674</td><td>0.012146447</td><td>0.026643632</td><td>0.009841064</td><td>0.010819584</td><td>0.02718492</td><td>0.009124575</td><td>0.010522271</td><td>0.03044903</td><td>17.906374</td><td>1.4898592</td><td>2.101282</td><td>1.5279807</td><td>0.12883934</td><td>17.670845</td><td>0.9590376</td><td>2.9476821</td><td>2.1874077</td><td>1.3483498</td><td>18.440636</td><td>0.64043385</td><td>1.4109446</td><td>3.1842403</td><td>0.12957327</td><td>0</td><td>-1.0</td><td>-1.0</td><td>-1.0</td><td>-1</td></tr>\n",
       "<tr><td>616723</td><td>SGA-2020 616723</td><td>2MASXJ22553169+1917333</td><td>6728423</td><td>343.882104</td><td>19.2925833</td><td></td><td>120.0</td><td>0.33342642</td><td>0.6516284</td><td>0.036795452</td><td>21.343481</td><td>15.1</td><td>False</td><td>LEDA-20181114</td><td>226148</td><td>2MASXJ22553169+1917333</td><td>1</td><td>True</td><td>343.882104</td><td>19.2925833</td><td>0.33342642</td><td>3440p192</td><td>343.88230356417046</td><td>19.29255109954895</td><td>1.3891104</td><td>SB26</td><td>103.098976</td><td>0.38874847</td><td>343.88259982194063</td><td>19.29251533055245</td><td>26.466312</td><td>8.4434805</td><td>8.7295</td><td>9.090706</td><td>10.608587</td><td>13.014946</td><td>15.541839</td><td>17.929342</td><td>20.888144</td><td>24.904701</td><td>31.448812</td><td>37.005264</td><td>41.673313</td><td>16.029053</td><td>15.406702</td><td>14.92092</td><td>15.892499</td><td>15.267762</td><td>14.790253</td><td>15.800121</td><td>15.174032</td><td>14.699166</td><td>15.746087</td><td>15.113318</td><td>14.639041</td><td>15.689497</td><td>15.055291</td><td>14.5771475</td><td>15.64972</td><td>15.012168</td><td>14.532978</td><td>15.60892</td><td>14.9699135</td><td>14.483572</td><td>15.576314</td><td>14.936018</td><td>14.4432955</td><td>15.556289</td><td>14.914095</td><td>14.418763</td><td>0.13050835</td><td>0.11635388</td><td>0.14874108</td><td>0.15351556</td><td>0.18362059</td><td>0.24007733</td><td>0.2852556</td><td>0.34795675</td><td>0.3434295</td><td>0.03815936</td><td>0.03886769</td><td>0.042758264</td><td>0.034829862</td><td>0.035236727</td><td>0.03887225</td><td>0.032369602</td><td>0.032672122</td><td>0.036024667</td><td>0.030834239</td><td>0.031005744</td><td>0.0340593</td><td>0.029450262</td><td>0.029517455</td><td>0.03237433</td><td>0.028419662</td><td>0.028403513</td><td>0.03112243</td><td>0.027313221</td><td>0.02731104</td><td>0.02965691</td><td>0.026598318</td><td>0.026519107</td><td>0.02869976</td><td>0.026119547</td><td>0.025998466</td><td>0.028070174</td><td>15.477656</td><td>17482.045</td><td>3.411209e-05</td><td>1.3753492</td><td>0.16354679</td><td>14.826298</td><td>11667.472</td><td>5.3780266e-05</td><td>1.3381327</td><td>0.16153426</td><td>14.285724</td><td>9333.491</td><td>7.251292e-05</td><td>1.1136502</td><td>0.1708866</td><td>0</td><td>-1.0</td><td>-1.0</td><td>-1.0</td><td>-1</td></tr>\n",
       "<tr><td>1322974</td><td>SGA-2020 1322974</td><td>OBC97_N07-1</td><td>6740580</td><td>219.70549950000003</td><td>20.178222199999997</td><td></td><td>0.0</td><td>0.34434992</td><td>1.0</td><td>-99.0</td><td>24.71348</td><td>18.4</td><td>True</td><td>LEDA-20181114</td><td>485274</td><td>OBC97_N07-1</td><td>1</td><td>True</td><td>219.70549950000003</td><td>20.178222199999997</td><td>0.34434992</td><td>2197p202</td><td>219.70547953286695</td><td>20.178220642926885</td><td>0.6604175</td><td>SB26</td><td>47.181854</td><td>0.3085205</td><td>219.70535713588458</td><td>20.17829278288451</td><td>12.396978</td><td>12.324828</td><td>10.420617</td><td>11.950062</td><td>0.96932715</td><td>2.574895</td><td>5.1753573</td><td>7.5578337</td><td>10.014726</td><td>12.43931</td><td>14.975536</td><td>17.576817</td><td>19.812525</td><td>22.470488</td><td>21.859222</td><td>21.638268</td><td>20.547432</td><td>20.010117</td><td>19.768991</td><td>19.39724</td><td>18.896023</td><td>18.641176</td><td>18.901817</td><td>18.425837</td><td>18.156912</td><td>18.580412</td><td>18.126343</td><td>17.853626</td><td>18.370375</td><td>17.92589</td><td>17.648806</td><td>18.221046</td><td>17.795376</td><td>17.515776</td><td>18.123287</td><td>17.713139</td><td>17.416056</td><td>18.079092</td><td>17.670403</td><td>17.358076</td><td>0.026884958</td><td>0.06656205</td><td>0.07487173</td><td>0.12117621</td><td>0.19151749</td><td>0.19990145</td><td>0.14730681</td><td>0.21696524</td><td>0.20905368</td><td>0.02913667</td><td>0.03380056</td><td>0.038944688</td><td>0.0327753</td><td>0.044457175</td><td>0.04132127</td><td>0.03143977</td><td>0.036128264</td><td>0.03556559</td><td>0.02995043</td><td>0.033552274</td><td>0.03198465</td><td>0.028007496</td><td>0.030757166</td><td>0.029363044</td><td>0.02633924</td><td>0.028487535</td><td>0.027352285</td><td>0.024906307</td><td>0.026910238</td><td>0.025714</td><td>0.023810709</td><td>0.025716843</td><td>0.02436761</td><td>0.023189954</td><td>0.02504026</td><td>0.023758963</td><td>17.633333</td><td>1.4967467</td><td>0.8794937</td><td>1.421917</td><td>1.3982863</td><td>17.33023</td><td>1.2819827</td><td>0.8519915</td><td>1.5690289</td><td>0.98505014</td><td>16.937494</td><td>1.4649441</td><td>0.8646768</td><td>1.4192353</td><td>0.2699432</td><td>0</td><td>-1.0</td><td>-1.0</td><td>-1.0</td><td>-1</td></tr>\n",
       "<tr><td>680722</td><td>SGA-2020 680722</td><td>EKS2015_RS0955</td><td>6740714</td><td>196.584</td><td>4.1501002</td><td></td><td>30.0</td><td>0.43233332</td><td>0.5</td><td>-99.0</td><td>24.692575</td><td>17.885</td><td>True</td><td>LEDA-20181114</td><td>247649</td><td>EKS2015_RS0955</td><td>1</td><td>True</td><td>196.584</td><td>4.1501002</td><td>0.43233332</td><td>1966p042</td><td>196.58453004994354</td><td>4.150449008524681</td><td>0.51801646</td><td>SB26</td><td>27.8532</td><td>0.63095343</td><td>196.58450391969455</td><td>4.150583973229383</td><td>13.641732</td><td>8.403328</td><td>8.579344</td><td>8.9144335</td><td>-1.0</td><td>-1.0</td><td>-1.0</td><td>2.4525337</td><td>5.999064</td><td>9.000806</td><td>11.946341</td><td>14.010179</td><td>15.540493</td><td>-1.0</td><td>-1.0</td><td>-1.0</td><td>-1.0</td><td>-1.0</td><td>-1.0</td><td>-1.0</td><td>-1.0</td><td>-1.0</td><td>20.969837</td><td>20.666525</td><td>20.462996</td><td>19.258673</td><td>18.912659</td><td>18.711302</td><td>18.569925</td><td>18.228273</td><td>18.007591</td><td>18.23849</td><td>17.90323</td><td>17.676832</td><td>18.11638</td><td>17.77918</td><td>17.539978</td><td>18.053371</td><td>17.710043</td><td>17.462769</td><td>-1.0</td><td>-1.0</td><td>-1.0</td><td>0.042871237</td><td>0.10295274</td><td>0.08178099</td><td>0.11206135</td><td>0.13521013</td><td>0.1286146</td><td>-1.0</td><td>-1.0</td><td>-1.0</td><td>-1.0</td><td>-1.0</td><td>-1.0</td><td>-1.0</td><td>-1.0</td><td>-1.0</td><td>0.022737056</td><td>0.019431813</td><td>0.037241165</td><td>0.014586467</td><td>0.012415101</td><td>0.017076166</td><td>0.011434039</td><td>0.010220548</td><td>0.013098819</td><td>0.010152266</td><td>0.009238782</td><td>0.01216015</td><td>0.009866379</td><td>0.009067176</td><td>0.011967325</td><td>0.0097371135</td><td>0.0090295775</td><td>0.011900776</td><td>17.92526</td><td>0.48405787</td><td>1.8492088</td><td>4.0392656</td><td>0.5897124</td><td>17.551624</td><td>0.5682978</td><td>1.5978823</td><td>3.5655272</td><td>1.1108413</td><td>17.280184</td><td>0.58595294</td><td>1.7533054</td><td>3.470009</td><td>1.7564456</td><td>0</td><td>-1.0</td><td>-1.0</td><td>-1.0</td><td>-1</td></tr>\n",
       "<tr><td>439837</td><td>SGA-2020 439837</td><td>EKS2015_RS0510</td><td>6740716</td><td>173.49469950000002</td><td>4.3449998</td><td></td><td>0.0</td><td>0.33966663</td><td>0.5075971</td><td>-99.0</td><td>24.229744</td><td>17.946</td><td>True</td><td>LEDA-20181114</td><td>161162</td><td>EKS2015_RS0510</td><td>1</td><td>True</td><td>173.49469950000002</td><td>4.3449998</td><td>0.33966663</td><td>1736p042</td><td>173.49485595803574</td><td>4.344924883507937</td><td>0.5156837</td><td>SB26</td><td>4.4822693</td><td>0.7222341</td><td>173.49478297026465</td><td>4.344997661170944</td><td>25.039705</td><td>8.61086</td><td>9.066328</td><td>8.944384</td><td>-1.0</td><td>0.45278558</td><td>1.7595636</td><td>3.619618</td><td>6.025716</td><td>7.9975605</td><td>10.50512</td><td>12.991229</td><td>15.4705105</td><td>-1.0</td><td>-1.0</td><td>-1.0</td><td>23.7996</td><td>23.267387</td><td>22.991875</td><td>21.039238</td><td>20.48188</td><td>20.157995</td><td>19.774647</td><td>19.228273</td><td>18.898565</td><td>19.0537</td><td>18.53154</td><td>18.202375</td><td>18.726082</td><td>18.205614</td><td>17.8956</td><td>18.47124</td><td>17.966726</td><td>17.664473</td><td>18.328512</td><td>17.823252</td><td>17.517555</td><td>18.252943</td><td>17.736387</td><td>17.433922</td><td>-1.0</td><td>0.010897889</td><td>0.013311464</td><td>0.020633783</td><td>0.03676928</td><td>0.03941907</td><td>0.11827865</td><td>0.15728638</td><td>0.13521516</td><td>-1.0</td><td>-1.0</td><td>-1.0</td><td>0.028910832</td><td>0.02775613</td><td>0.043279663</td><td>0.011560348</td><td>0.012096981</td><td>0.02022066</td><td>0.008650073</td><td>0.008137791</td><td>0.013546953</td><td>0.0070009404</td><td>0.006156571</td><td>0.01027869</td><td>0.0064963005</td><td>0.0058289957</td><td>0.009382823</td><td>0.006193187</td><td>0.0055950615</td><td>0.008555451</td><td>0.005919617</td><td>0.0054007163</td><td>0.008111147</td><td>0.0057586282</td><td>0.0052909143</td><td>0.008045299</td><td>17.900679</td><td>1.2536795</td><td>0.64236355</td><td>1.6540393</td><td>15.883132</td><td>17.342123</td><td>1.4246392</td><td>0.60082567</td><td>1.4997882</td><td>10.254365</td><td>17.042652</td><td>1.515813</td><td>0.5465951</td><td>1.4551128</td><td>1.5517347</td><td>0</td><td>-1.0</td><td>-1.0</td><td>-1.0</td><td>-1</td></tr>\n",
       "</table>"
      ],
      "text/plain": [
       "<Table length=383723>\n",
       " SGA_ID    SGA_GALAXY    ... e_DM_hi_Stellar Stellar_Catalog\n",
       " int64      bytes16      ...     float64          str16     \n",
       "------- ---------------- ... --------------- ---------------\n",
       "5000761 SGA-2020 5000761 ...            -1.0              -1\n",
       "5002052 SGA-2020 5002052 ...            -1.0              -1\n",
       "5002054 SGA-2020 5002054 ...            -1.0              -1\n",
       "5002055 SGA-2020 5002055 ...            -1.0              -1\n",
       "5002057 SGA-2020 5002057 ...            -1.0              -1\n",
       "5002059 SGA-2020 5002059 ...            -1.0              -1\n",
       "5002060 SGA-2020 5002060 ...            -1.0              -1\n",
       "5002061 SGA-2020 5002061 ...            -1.0              -1\n",
       "5002062 SGA-2020 5002062 ...            -1.0              -1\n",
       "5002064 SGA-2020 5002064 ...            -1.0              -1\n",
       "    ...              ... ...             ...             ...\n",
       "1381636 SGA-2020 1381636 ...            -1.0              -1\n",
       " 192068  SGA-2020 192068 ...            -1.0              -1\n",
       "1015032 SGA-2020 1015032 ...            -1.0              -1\n",
       " 163773  SGA-2020 163773 ...            -1.0              -1\n",
       " 259065  SGA-2020 259065 ...            -1.0              -1\n",
       " 706307  SGA-2020 706307 ...            -1.0              -1\n",
       " 616723  SGA-2020 616723 ...            -1.0              -1\n",
       "1322974 SGA-2020 1322974 ...            -1.0              -1\n",
       " 680722  SGA-2020 680722 ...            -1.0              -1\n",
       " 439837  SGA-2020 439837 ...            -1.0              -1"
      ]
     },
     "execution_count": 18,
     "metadata": {},
     "output_type": "execute_result"
    }
   ],
   "source": [
    "maintab"
   ]
  },
  {
   "cell_type": "markdown",
   "id": "54ec3f3d-0add-434b-8fc0-57bf40b58765",
   "metadata": {},
   "source": [
    "## SN1a Distances"
   ]
  },
  {
   "cell_type": "code",
   "execution_count": 19,
   "id": "1290468a-a6ba-4b51-a5c4-b08774947feb",
   "metadata": {},
   "outputs": [
    {
     "data": {
      "text/plain": [
       "'cache/SN1A_dist/EDDtableConstitution_SNIa.txt'"
      ]
     },
     "execution_count": 19,
     "metadata": {},
     "output_type": "execute_result"
    }
   ],
   "source": [
    "sn_dist = glob('cache/SN1A_dist/*')\n",
    "sn_dist[0]"
   ]
  },
  {
   "cell_type": "code",
   "execution_count": 20,
   "id": "899d0b35-e098-4cc5-bfe1-f5918aa3f98d",
   "metadata": {},
   "outputs": [
    {
     "data": {
      "text/plain": [
       "11"
      ]
     },
     "execution_count": 20,
     "metadata": {},
     "output_type": "execute_result"
    }
   ],
   "source": [
    "len(sn_dist)"
   ]
  },
  {
   "cell_type": "code",
   "execution_count": 21,
   "id": "fb842339-b6c7-430e-8155-c7bca069dbb8",
   "metadata": {},
   "outputs": [
    {
     "data": {
      "text/plain": [
       "'Constitution_SNI'"
      ]
     },
     "execution_count": 21,
     "metadata": {},
     "output_type": "execute_result"
    }
   ],
   "source": [
    "sn_dist[0].split('/')[-1].strip('.txt').strip('EDDtable')"
   ]
  },
  {
   "cell_type": "code",
   "execution_count": 22,
   "id": "d3a53652-afc9-4ed4-92e1-7961c48e1eb1",
   "metadata": {},
   "outputs": [
    {
     "name": "stdout",
     "output_type": "stream",
     "text": [
      "cache/SN1A_dist/EDDtableConstitution_SNIa.txt\n",
      "['PGC', 'SNIa', 'zcmb', 'ez', 'S_Bmag', 'S_eB', 'S_s', 'S_es', 'S_c', 'S_ec', 'S_mu0', 'S_emu0', 'S2_Bmag', 'S2_eB', 'S2_s', 'S2_es', 'S2_c', 'S2_ec', 'S2_mu0', 'S2_emu0', 'M31_Del', 'M31_eD', 'M31_AV', 'M31_eAV', 'M31_mu0', 'M31_emu0', 'M17_Del', 'M17_eD', 'M17_AV', 'M17_eAV', 'M17_mu0', 'M17_emu0']\n",
      "\n",
      "cache/SN1A_dist/EDDtableCSP1_Burns18_SN1a.txt\n",
      "['PGC', 'SNIa', '1PGC', 'Nest', 'muCV', 'emu', 'zh', 'z3k', 'sBV', 'esBV', 'Dm15', 'eDm15', 'Vmax', 'eVmax', 'EBV', 'eEBV', 'Rv', 'eRv', 'covER', 'Q', 'RA', 'Dec', 'glon', 'glat', 'sgl', 'sgb']\n",
      "\n",
      "cache/SN1A_dist/EDDtableLOSS_Ganeshalingam13_SN1a.txt\n",
      "['PGC', 'SNIa', '1PGC', 'Nest', 'RA', 'Dec', 'z3k', 'B', 'eB', 'x1', 'ex1', 'c', 'ec', 'mu', 'emu', 'Sample', 'Ref']\n",
      "\n",
      "cache/SN1A_dist/EDDtableCSP1_SNIa.txt\n",
      "['PGC', 'SNIa', 'zhel', 'zcmb', 'E(B-V)', 'DelM15', 'eM15', 'mu0', 'emu0', 'Q']\n",
      "\n",
      "cache/SN1A_dist/EDDtableSNIa_calibration.txt\n",
      "['PGC', 'SNIa', 'objname', 'J2000', 'Glon', 'Glat', 'SGL', 'SGB', 'Typ', 'logD25', 'logR25', 'BT', 'IT', 'Ag', 'Vhel', 'Vcmb', 'VcmbSN', 'mu0U', 'emu0U', 'Cuts', 'mu0J', 'emu0J', 'NotesJ', 'Notes']\n",
      "\n",
      "cache/SN1A_dist/EDDtablede_Jaeger_SNII.txt\n",
      "['PGC', '1PGC', 'Nest', 'SNII', 'DM', 'eDM', 'Vhel', 'Vcmb', 'Vrc3', 'J2000', 'RA', 'De', 'Glon', 'Glat', 'SGL', 'SGB', 'Ty', 'Ag', 'Host', 'So']\n",
      "\n",
      "cache/SN1A_dist/EDDtableJha_SNIa.txt\n",
      "['PGC', 'objname', 'SNIa', 'Glon', 'Glat', 'Vhel', 'Vlg', 'Vcmb', 'Typ', 'OffN', 'OffE', 't1', 'Filt', 'E_B-V', 'Ref', 't0', 'et0', 'mu0', 'emu0', 'Delta', 'eDel', 'AV0', 'eAV0', 'RV', 'eRV', 'mV0', 'emV0', 'Notes']\n",
      "\n",
      "cache/SN1A_dist/EDDtablePrieto_SNIa.txt\n",
      "['PGC', 'SNIa', 'z', 'mu0', 'emu0', 'E(B-V)', 'eE(B-V)', 'DelM15', 'eM15']\n",
      "\n",
      "cache/SN1A_dist/EDDtableStahl_SNIa.txt\n",
      "['PGC', '1PGC', 'Nest', 'SNIa', 'DM', 'eDM', 'Vcmb', 'Vrc3', 'J2000', 'RA', 'De', 'Glon', 'Glat', 'SGL', 'SGB', 'Ty', 'Ag', 'SSubsamp']\n",
      "\n",
      "cache/SN1A_dist/EDDtable5_Sources_SNIa.txt\n",
      "['PGC', 'SNIa', 'l', 'b', 'SGL', 'SGB', 'Vhel', 'Vcmb', 'z', 'logz', 'Ns', 'DM5c', 'D5c', 'H5c', 'DM5u', 'D5u', 'H5u', 'DMu', 'eDMu', 'DMj', 'eDMj', 'DMp', 'eDMp', 'DMh', 'DMf', 'H0', 'logH0', 'SGX', 'SGY', 'SGZ']\n",
      "\n",
      "cache/SN1A_dist/EDDtableUnion2_SNIa.txt\n",
      "['PGC', 'objname', 'J2000', 'Typ', 'Imag', 'logD25', 'Inc', 'Vhel', 'SNIa', 'Vcmb', 'mB0', 'emB0', 'X1', 'eX1', 'C', 'eC', 'mu0', 'emu0', 'Samp', 'Cuts']\n",
      "\n"
     ]
    }
   ],
   "source": [
    "PGC_ids = []\n",
    "DM1 = []\n",
    "e_DM1 = []\n",
    "DM2 = []\n",
    "e_DM2 = []\n",
    "DM3 = []\n",
    "e_DM3 = []\n",
    "DM4 = []\n",
    "e_DM4 = []\n",
    "DM5 = []\n",
    "e_DM5 = []\n",
    "DM6 = []\n",
    "e_DM6 = []\n",
    "DM7 = []\n",
    "e_DM7 = []\n",
    "dist = []\n",
    "e_dist = []\n",
    "catalog = []\n",
    "\n",
    "for sfile in sn_dist:\n",
    "    print(sfile)\n",
    "    name = sfile.split('/')[-1].strip('.txt').strip('EDDtable')\n",
    "    tab = Table.read(sfile, format = 'csv', header_start = 1, data_start = 5)\n",
    "    tab.rename_column('pgc', 'PGC')\n",
    "    jtab = join(SGA, tab, keys = 'PGC', join_type = 'inner')\n",
    "    print(tab.colnames)\n",
    "    catalog.append(np.full(np.shape(jtab['PGC'].flatten()), name))\n",
    "    PGC_ids.append(jtab['PGC'].flatten())\n",
    "    \n",
    "    try:\n",
    "        ## SALT\n",
    "        DM1.append(np.array(jtab['S_mu0']).flatten())\n",
    "        # print(jtab['S_mu0'].flatten())\n",
    "        e_DM1.append(np.array(jtab['S_emu0']).flatten())\n",
    "        # print(len(np.array(jtab['S_mu0']).flatten()))\n",
    "        # print(len(np.array(jtab['S_emu0']).flatten()))\n",
    "    except KeyError:\n",
    "        try:\n",
    "            DM1.append(np.array(jtab['mu0']).flatten())\n",
    "            e_DM1.append(np.array(jtab['emu0']).flatten())\n",
    "            # print(len(np.array(jtab['mu0']).flatten()))\n",
    "            # print(len(np.array(jtab['emu0']).flatten()))\n",
    "        except KeyError:\n",
    "            try:\n",
    "                DM1.append(np.array(jtab['muCV']).flatten())\n",
    "                e_DM1.append(np.array(jtab['emu']).flatten())\n",
    "                # print(len(np.array(jtab['muCV']).flatten()))\n",
    "                # print(len(np.array(jtab['emu']).flatten()))\n",
    "            except KeyError:\n",
    "                try:\n",
    "                    DM1.append(np.array(jtab['mu']).flatten())\n",
    "                    e_DM1.append(np.array(jtab['emu']).flatten())\n",
    "                    # print(len(np.array(jtab['mu']).flatten()))\n",
    "                    # print(len(np.array(jtab['emu']).flatten()))\n",
    "                except KeyError:\n",
    "                    try:\n",
    "                        ## mu0U: Union2 (2010) Distance Modulus assuming H0=74.2 km/s/Mpc\n",
    "                        DM1.append(np.array(jtab['mu0U']).flatten())\n",
    "                        e_DM1.append(np.array(jtab['emu0U']).flatten())\n",
    "                        # print(len(np.array(jtab['mu0U']).flatten()))\n",
    "                        # print(len(np.array(jtab['emu0U']).flatten()))\n",
    "                    except KeyError:\n",
    "                        try:\n",
    "                            DM1.append(np.array(jtab['DM']).flatten())\n",
    "                            e_DM1.append(np.array(jtab['eDM']).flatten())\n",
    "                            # print(len(np.array(jtab['DM']).flatten()))\n",
    "                            # print(len(np.array(jtab['eDM']).flatten()))\n",
    "                        except KeyError:\n",
    "                            try:\n",
    "                                ## DM5c: Distance modulus, all contributing sources, Cosmicflows-2 zero point\n",
    "                                DM1.append(np.array(jtab['DM5c']).flatten())\n",
    "                                e_DM1.append(np.full(np.shape(np.array(jtab['PGC']).flatten()), 0))\n",
    "                                # print(len(np.array(jtab['DM5c']).flatten()))\n",
    "                                # print(len(np.array(jtab['eDM5c']).flatten()))\n",
    "                            except KeyError:\n",
    "                                print('DM and eDM not found')\n",
    "    try:\n",
    "        ## S2_mu0: SALT2\n",
    "        DM2.append(np.array(jtab['S2_mu0']).flatten())\n",
    "        e_DM2.append(np.array(jtab['S2_emu0']).flatten())\n",
    "        # print(len(np.array(jtab['S2_mu0']).flatten()))\n",
    "        # print(len(np.array(jtab['S2_emu0']).flatten()))\n",
    "    except KeyError:\n",
    "        try:\n",
    "            ## mu0J: Jha et al. (2007) Distance Modulus assuming H0=65 km/s/Mpc \n",
    "            DM2.append(np.array(jtab['mu0J']).flatten())\n",
    "            e_DM2.append(np.array(jtab['emu0J']).flatten())\n",
    "            # print(len(np.array(jtab['mu0J']).flatten()))\n",
    "            # print(len(np.array(jtab['emu0J']).flatten()))\n",
    "        except:\n",
    "            try:\n",
    "                ## DM5u: Distance modulus, all contributing sources, Union2 zero point\n",
    "                DM2.append(np.array(jtab['DM5u']).flatten())\n",
    "                e_DM2.append(np.array(jtab['DM5u']).flatten())\n",
    "                # print(len(np.array(jtab['DM5u']).flatten()))\n",
    "                # print(len(np.array(jtab['DM5u']).flatten()))\n",
    "            except KeyError:\n",
    "                DM2.append(np.full(np.shape(np.array(jtab['PGC']).flatten()), -1))\n",
    "                e_DM2.append(np.full(np.shape(np.array(jtab['PGC']).flatten()), -1))\n",
    "    \n",
    "    try:\n",
    "        ## M31_mu0\n",
    "        DM3.append(np.array(jtab['M31_mu0']).flatten())\n",
    "        e_DM3.append(np.array(jtab['M31_emu0']).flatten())\n",
    "        # print(len(np.array(jtab['M31_mu0']).flatten()))\n",
    "        # print(len(np.array(jtab['M31_emu0']).flatten()))\n",
    "    except KeyError:\n",
    "        try:\n",
    "            ## DMu: Distance modulus from Union2 (Amanullah et al. 2010), Union2 zero point \n",
    "            DM3.append(np.array(jtab['DMu']).flatten())\n",
    "            e_DM3.append(np.array(jtab['eDMu']).flatten())\n",
    "            # print(len(np.array(jtab['DMu']).flatten()))\n",
    "            # print(len(np.array(jtab['DMu']).flatten()))\n",
    "        except KeyError:\n",
    "            DM3.append(np.full(np.shape(np.array(jtab['PGC']).flatten()), -1))\n",
    "            e_DM3.append(np.full(np.shape(np.array(jtab['PGC']).flatten()), -1))\n",
    "    \n",
    "    try:\n",
    "        ## M17_mu0\n",
    "        DM4.append(np.array(jtab['M17_mu0']).flatten())\n",
    "        e_DM4.append(np.array(jtab['M17_emu0']).flatten())\n",
    "    except KeyError:\n",
    "        try:\n",
    "            ## DMj: Distance modulus from Jha et al. (2007), Union2 zero point\n",
    "            DM4.append(np.array(jtab['DMj']).flatten())\n",
    "            e_DM4.append(np.array(jtab['eDMj']).flatten())\n",
    "        except KeyError:\n",
    "            DM4.append(np.full(np.shape(np.array(jtab['PGC']).flatten()), -1))\n",
    "            e_DM4.append(np.full(np.shape(np.array(jtab['PGC']).flatten()), -1))\n",
    "            \n",
    "    try:\n",
    "        ## DMp: Distance modulus from Prieto et al. (2006), Union2 zero point\n",
    "        DM5.append(np.array(jtab['DMp']).flatten())\n",
    "        e_DM5.append(np.array(jtab['eDMp']).flatten())\n",
    "    except KeyError:\n",
    "        # print(np.shape(flatten_array(jtab['PGC'])))\n",
    "        # print(np.shape(np.array(np.array(jtab['PGC'])).flatten()))\n",
    "        # l = np.array(np.array(jtab['PGC'])).flatten()\n",
    "        DM5.append(np.full(np.shape(np.array(jtab['PGC']).flatten()), -1))\n",
    "        e_DM5.append(np.full(np.shape(np.array(jtab['PGC']).flatten()), -1))\n",
    "    \n",
    "    try:\n",
    "        ## DMh: Distance modulus from Hicken et al. (2009), Union2 zero point\n",
    "        ## DMf: Distance modulus from Folatelli et al. (2010)\n",
    "        DM6.append(np.array(jtab['DMh']).flatten())\n",
    "        DM7.append(np.array(jtab['DMf']).flatten())\n",
    "        e_DM6.append(np.full(np.shape(np.array(jtab['PGC']).flatten()), 0))\n",
    "        e_DM7.append(np.full(np.shape(np.array(jtab['PGC']).flatten()), 0))\n",
    "    except KeyError:\n",
    "        DM6.append(np.full(np.shape(np.array(jtab['PGC']).flatten()), -1))\n",
    "        DM7.append(np.full(np.shape(np.array(jtab['PGC']).flatten()), -1))\n",
    "        e_DM6.append(np.full(np.shape(np.array(jtab['PGC']).flatten()), -1))\n",
    "        e_DM7.append(np.full(np.shape(np.array(jtab['PGC']).flatten()), -1))\n",
    "\n",
    "    print()"
   ]
  },
  {
   "cell_type": "code",
   "execution_count": 23,
   "id": "d93c86a0-4e09-4222-b964-2dd92f01a7ed",
   "metadata": {},
   "outputs": [],
   "source": [
    "PGC_ids_flat = flatten_array(PGC_ids)\n",
    "DM1_flat = flatten_array(DM1)\n",
    "e_DM1_flat = flatten_array(e_DM1)\n",
    "DM2_flat = flatten_array(DM2)\n",
    "e_DM2_flat = flatten_array(e_DM2)\n",
    "DM3_flat = flatten_array(DM3)\n",
    "e_DM3_flat = flatten_array(e_DM3)\n",
    "DM4_flat = flatten_array(DM4)\n",
    "e_DM4_flat = flatten_array(e_DM4)\n",
    "DM5_flat = flatten_array(DM5)\n",
    "e_DM5_flat = flatten_array(e_DM5)\n",
    "DM6_flat = flatten_array(DM6)\n",
    "e_DM6_flat = flatten_array(e_DM6)\n",
    "DM7_flat = flatten_array(DM7)\n",
    "e_DM7_flat = flatten_array(e_DM7)\n",
    "catalog_flat = flatten_array(catalog)"
   ]
  },
  {
   "cell_type": "code",
   "execution_count": 24,
   "id": "5ab456dd-593a-40f7-889b-56c9f2cb1f92",
   "metadata": {},
   "outputs": [
    {
     "data": {
      "text/plain": [
       "11"
      ]
     },
     "execution_count": 24,
     "metadata": {},
     "output_type": "execute_result"
    }
   ],
   "source": [
    "len(e_DM1)"
   ]
  },
  {
   "cell_type": "code",
   "execution_count": 25,
   "id": "c9b42fb7-0975-4282-bd9a-65ed46d6d789",
   "metadata": {},
   "outputs": [],
   "source": [
    "metadata = {\n",
    "            'DM1_SN': 'SALT data for Constitution_SNIa; Union2 (2010) Distance Modulus assuming H0=74.2 km/s/Mpc for SNIa_calibration; Distance modulus, all contributing sources, Cosmicflows-2 zero point for 5_Sources_SNIa',\n",
    "            'DM2_SN': 'SALT2 data for Constitution_SNIa; Jha et al. (2007) Distance Modulus assuming H0=65 km/s/Mpc for SNIa_calibration; Distance modulus, all contributing sources, Union2 zero point for 5_Sources_SNIa',\n",
    "            'DM3_SN': 'MLCS31 data for Constitution_SNIa; Distance modulus from Union2 (Amanullah et al. 2010), Union2 zero point for 5_Sources_SNIa',\n",
    "            'DM4_SN': 'MLCS17 data for Constitution_SNIa; Distance modulus from Jha et al. (2007), Union2 zero point for 5_Sources_SNIa',\n",
    "            'DM5_SN': 'Distance modulus from Prieto et al. (2006), Union2 zero point for 5_Sources_SNIa',\n",
    "            'DM6_SN': 'Distance modulus from Hicken et al. (2009), Union2 zero point for 5_Sources_SNIa (no error given)',\n",
    "            'DM7_SN': 'Distance modulus from Folatelli et al. (2010) for 5_Sources_SNIa (no error given)'\n",
    "            }"
   ]
  },
  {
   "cell_type": "code",
   "execution_count": 29,
   "id": "e2e855d8-2080-415b-a2db-7c7502406618",
   "metadata": {},
   "outputs": [],
   "source": [
    "tab = Table([PGC_ids_flat, DM1_flat, e_DM1_flat, DM2_flat, e_DM2_flat, DM3_flat, e_DM3_flat, DM4_flat, e_DM4_flat,DM5_flat, e_DM5_flat,DM6_flat, e_DM6_flat,DM7_flat, e_DM7_flat, catalog_flat],\n",
    "             names = ['PGC', 'DM1_SN', 'e_DM1_SN',  'DM2_SN', 'e_DM2_SN', 'DM3_SN', 'e_DM3_SN', 'DM4_SN', 'e_DM4_SN', 'DM5_SN', 'e_DM5_SN', 'DM6_SN', 'e_DM6_SN', 'DM7_SN', 'e_DM7_SN','SN_Catalog'],\n",
    "             meta = metadata)"
   ]
  },
  {
   "cell_type": "code",
   "execution_count": 30,
   "id": "bae5a80f-6a74-4916-aa06-91452868481e",
   "metadata": {},
   "outputs": [
    {
     "data": {
      "text/html": [
       "<i>Table length=10</i>\n",
       "<table id=\"table46913212866128\" class=\"table-striped table-bordered table-condensed\">\n",
       "<thead><tr><th>PGC</th><th>DM1_SN</th><th>e_DM1_SN</th><th>DM2_SN</th><th>e_DM2_SN</th><th>DM3_SN</th><th>e_DM3_SN</th><th>DM4_SN</th><th>e_DM4_SN</th><th>DM5_SN</th><th>e_DM5_SN</th><th>DM6_SN</th><th>e_DM6_SN</th><th>DM7_SN</th><th>e_DM7_SN</th><th>SN_Catalog</th></tr></thead>\n",
       "<thead><tr><th>int64</th><th>float64</th><th>float64</th><th>float64</th><th>float64</th><th>float64</th><th>float64</th><th>float64</th><th>float64</th><th>float64</th><th>float64</th><th>float64</th><th>int64</th><th>float64</th><th>int64</th><th>str24</th></tr></thead>\n",
       "<tr><td>250</td><td>35.272</td><td>0.185</td><td>35.241</td><td>0.204</td><td>35.282</td><td>0.192</td><td>35.279</td><td>0.177</td><td>-1.0</td><td>-1.0</td><td>-1.0</td><td>-1</td><td>-1.0</td><td>-1</td><td>Constitution_SNI</td></tr>\n",
       "<tr><td>415</td><td>35.358</td><td>0.185</td><td>35.383</td><td>0.212</td><td>35.248</td><td>0.188</td><td>35.282</td><td>0.187</td><td>-1.0</td><td>-1.0</td><td>-1.0</td><td>-1</td><td>-1.0</td><td>-1</td><td>Constitution_SNI</td></tr>\n",
       "<tr><td>515</td><td>0.0</td><td>0.0</td><td>34.574</td><td>0.245</td><td>34.037</td><td>0.216</td><td>34.33</td><td>0.212</td><td>-1.0</td><td>-1.0</td><td>-1.0</td><td>-1</td><td>-1.0</td><td>-1</td><td>Constitution_SNI</td></tr>\n",
       "<tr><td>2332</td><td>34.962</td><td>0.202</td><td>34.91</td><td>0.227</td><td>34.974</td><td>0.196</td><td>34.858</td><td>0.202</td><td>-1.0</td><td>-1.0</td><td>-1.0</td><td>-1</td><td>-1.0</td><td>-1</td><td>Constitution_SNI</td></tr>\n",
       "<tr><td>2501</td><td>36.685</td><td>0.157</td><td>36.769</td><td>0.184</td><td>36.763</td><td>0.17</td><td>36.776</td><td>0.158</td><td>-1.0</td><td>-1.0</td><td>-1.0</td><td>-1</td><td>-1.0</td><td>-1</td><td>Constitution_SNI</td></tr>\n",
       "<tr><td>2559</td><td>35.128</td><td>0.193</td><td>34.951</td><td>0.214</td><td>35.032</td><td>0.217</td><td>35.065</td><td>0.192</td><td>-1.0</td><td>-1.0</td><td>-1.0</td><td>-1</td><td>-1.0</td><td>-1</td><td>Constitution_SNI</td></tr>\n",
       "<tr><td>2819</td><td>0.0</td><td>0.0</td><td>0.0</td><td>0.0</td><td>34.449</td><td>0.213</td><td>34.464</td><td>0.206</td><td>-1.0</td><td>-1.0</td><td>-1.0</td><td>-1</td><td>-1.0</td><td>-1</td><td>Constitution_SNI</td></tr>\n",
       "<tr><td>3508</td><td>0.0</td><td>0.0</td><td>36.51</td><td>0.194</td><td>36.666</td><td>0.158</td><td>36.597</td><td>0.16</td><td>-1.0</td><td>-1.0</td><td>-1.0</td><td>-1</td><td>-1.0</td><td>-1</td><td>Constitution_SNI</td></tr>\n",
       "<tr><td>3773</td><td>0.0</td><td>0.0</td><td>34.117</td><td>0.237</td><td>34.17</td><td>0.213</td><td>34.094</td><td>0.213</td><td>-1.0</td><td>-1.0</td><td>-1.0</td><td>-1</td><td>-1.0</td><td>-1</td><td>Constitution_SNI</td></tr>\n",
       "<tr><td>4972</td><td>0.0</td><td>0.0</td><td>0.0</td><td>0.0</td><td>34.713</td><td>0.203</td><td>34.67</td><td>0.202</td><td>-1.0</td><td>-1.0</td><td>-1.0</td><td>-1</td><td>-1.0</td><td>-1</td><td>Constitution_SNI</td></tr>\n",
       "</table>"
      ],
      "text/plain": [
       "<Table length=10>\n",
       " PGC   DM1_SN e_DM1_SN  DM2_SN ... e_DM6_SN  DM7_SN e_DM7_SN    SN_Catalog   \n",
       "int64 float64 float64  float64 ...  int64   float64  int64        str24      \n",
       "----- ------- -------- ------- ... -------- ------- -------- ----------------\n",
       "  250  35.272    0.185  35.241 ...       -1    -1.0       -1 Constitution_SNI\n",
       "  415  35.358    0.185  35.383 ...       -1    -1.0       -1 Constitution_SNI\n",
       "  515     0.0      0.0  34.574 ...       -1    -1.0       -1 Constitution_SNI\n",
       " 2332  34.962    0.202   34.91 ...       -1    -1.0       -1 Constitution_SNI\n",
       " 2501  36.685    0.157  36.769 ...       -1    -1.0       -1 Constitution_SNI\n",
       " 2559  35.128    0.193  34.951 ...       -1    -1.0       -1 Constitution_SNI\n",
       " 2819     0.0      0.0     0.0 ...       -1    -1.0       -1 Constitution_SNI\n",
       " 3508     0.0      0.0   36.51 ...       -1    -1.0       -1 Constitution_SNI\n",
       " 3773     0.0      0.0  34.117 ...       -1    -1.0       -1 Constitution_SNI\n",
       " 4972     0.0      0.0     0.0 ...       -1    -1.0       -1 Constitution_SNI"
      ]
     },
     "execution_count": 30,
     "metadata": {},
     "output_type": "execute_result"
    }
   ],
   "source": [
    "tab[:10]"
   ]
  },
  {
   "cell_type": "code",
   "execution_count": 33,
   "id": "3af9600a-3a4a-4313-9d8e-9422823b6833",
   "metadata": {},
   "outputs": [
    {
     "data": {
      "text/html": [
       "<i>Table length=10</i>\n",
       "<table id=\"table46913212866224\" class=\"table-striped table-bordered table-condensed\">\n",
       "<thead><tr><th>SGA_ID</th><th>SGA_GALAXY</th><th>GALAXY</th><th>PGC</th><th>RA_LEDA</th><th>DEC_LEDA</th><th>MORPHTYPE</th><th>PA_LEDA</th><th>D25_LEDA</th><th>BA_LEDA</th><th>Z_LEDA</th><th>SB_D25_LEDA</th><th>MAG_LEDA</th><th>BYHAND</th><th>REF</th><th>GROUP_ID</th><th>GROUP_NAME</th><th>GROUP_MULT</th><th>GROUP_PRIMARY</th><th>GROUP_RA</th><th>GROUP_DEC</th><th>GROUP_DIAMETER</th><th>BRICKNAME</th><th>RA</th><th>DEC</th><th>D26</th><th>D26_REF</th><th>PA</th><th>BA</th><th>RA_MOMENT</th><th>DEC_MOMENT</th><th>SMA_MOMENT</th><th>G_SMA50</th><th>R_SMA50</th><th>Z_SMA50</th><th>SMA_SB22</th><th>SMA_SB22.5</th><th>SMA_SB23</th><th>SMA_SB23.5</th><th>SMA_SB24</th><th>SMA_SB24.5</th><th>SMA_SB25</th><th>SMA_SB25.5</th><th>SMA_SB26</th><th>G_MAG_SB22</th><th>R_MAG_SB22</th><th>Z_MAG_SB22</th><th>G_MAG_SB22.5</th><th>R_MAG_SB22.5</th><th>Z_MAG_SB22.5</th><th>G_MAG_SB23</th><th>R_MAG_SB23</th><th>Z_MAG_SB23</th><th>G_MAG_SB23.5</th><th>R_MAG_SB23.5</th><th>Z_MAG_SB23.5</th><th>G_MAG_SB24</th><th>R_MAG_SB24</th><th>Z_MAG_SB24</th><th>G_MAG_SB24.5</th><th>R_MAG_SB24.5</th><th>Z_MAG_SB24.5</th><th>G_MAG_SB25</th><th>R_MAG_SB25</th><th>Z_MAG_SB25</th><th>G_MAG_SB25.5</th><th>R_MAG_SB25.5</th><th>Z_MAG_SB25.5</th><th>G_MAG_SB26</th><th>R_MAG_SB26</th><th>Z_MAG_SB26</th><th>SMA_SB22_ERR</th><th>SMA_SB22.5_ERR</th><th>SMA_SB23_ERR</th><th>SMA_SB23.5_ERR</th><th>SMA_SB24_ERR</th><th>SMA_SB24.5_ERR</th><th>SMA_SB25_ERR</th><th>SMA_SB25.5_ERR</th><th>SMA_SB26_ERR</th><th>G_MAG_SB22_ERR</th><th>R_MAG_SB22_ERR</th><th>Z_MAG_SB22_ERR</th><th>G_MAG_SB22.5_ERR</th><th>R_MAG_SB22.5_ERR</th><th>Z_MAG_SB22.5_ERR</th><th>G_MAG_SB23_ERR</th><th>R_MAG_SB23_ERR</th><th>Z_MAG_SB23_ERR</th><th>G_MAG_SB23.5_ERR</th><th>R_MAG_SB23.5_ERR</th><th>Z_MAG_SB23.5_ERR</th><th>G_MAG_SB24_ERR</th><th>R_MAG_SB24_ERR</th><th>Z_MAG_SB24_ERR</th><th>G_MAG_SB24.5_ERR</th><th>R_MAG_SB24.5_ERR</th><th>Z_MAG_SB24.5_ERR</th><th>G_MAG_SB25_ERR</th><th>R_MAG_SB25_ERR</th><th>Z_MAG_SB25_ERR</th><th>G_MAG_SB25.5_ERR</th><th>R_MAG_SB25.5_ERR</th><th>Z_MAG_SB25.5_ERR</th><th>G_MAG_SB26_ERR</th><th>R_MAG_SB26_ERR</th><th>Z_MAG_SB26_ERR</th><th>G_COG_PARAMS_MTOT</th><th>G_COG_PARAMS_M0</th><th>G_COG_PARAMS_ALPHA1</th><th>G_COG_PARAMS_ALPHA2</th><th>G_COG_PARAMS_CHI2</th><th>R_COG_PARAMS_MTOT</th><th>R_COG_PARAMS_M0</th><th>R_COG_PARAMS_ALPHA1</th><th>R_COG_PARAMS_ALPHA2</th><th>R_COG_PARAMS_CHI2</th><th>Z_COG_PARAMS_MTOT</th><th>Z_COG_PARAMS_M0</th><th>Z_COG_PARAMS_ALPHA1</th><th>Z_COG_PARAMS_ALPHA2</th><th>Z_COG_PARAMS_CHI2</th><th>ELLIPSEBIT</th><th>DM_Stellar</th><th>e_DM_lo_Stellar</th><th>e_DM_hi_Stellar</th><th>Stellar_Catalog</th><th>DM1_SN</th><th>e_DM1_SN</th><th>DM2_SN</th><th>e_DM2_SN</th><th>DM3_SN</th><th>e_DM3_SN</th><th>DM4_SN</th><th>e_DM4_SN</th><th>DM5_SN</th><th>e_DM5_SN</th><th>DM6_SN</th><th>e_DM6_SN</th><th>DM7_SN</th><th>e_DM7_SN</th><th>SN_Catalog</th></tr></thead>\n",
       "<thead><tr><th>int64</th><th>bytes16</th><th>bytes29</th><th>int64</th><th>float64</th><th>float64</th><th>bytes21</th><th>float32</th><th>float32</th><th>float32</th><th>float32</th><th>float32</th><th>float32</th><th>bool</th><th>bytes13</th><th>int64</th><th>bytes35</th><th>int16</th><th>bool</th><th>float64</th><th>float64</th><th>float32</th><th>bytes8</th><th>float64</th><th>float64</th><th>float32</th><th>bytes4</th><th>float32</th><th>float32</th><th>float64</th><th>float64</th><th>float32</th><th>float32</th><th>float32</th><th>float32</th><th>float32</th><th>float32</th><th>float32</th><th>float32</th><th>float32</th><th>float32</th><th>float32</th><th>float32</th><th>float32</th><th>float32</th><th>float32</th><th>float32</th><th>float32</th><th>float32</th><th>float32</th><th>float32</th><th>float32</th><th>float32</th><th>float32</th><th>float32</th><th>float32</th><th>float32</th><th>float32</th><th>float32</th><th>float32</th><th>float32</th><th>float32</th><th>float32</th><th>float32</th><th>float32</th><th>float32</th><th>float32</th><th>float32</th><th>float32</th><th>float32</th><th>float32</th><th>float32</th><th>float32</th><th>float32</th><th>float32</th><th>float32</th><th>float32</th><th>float32</th><th>float32</th><th>float32</th><th>float32</th><th>float32</th><th>float32</th><th>float32</th><th>float32</th><th>float32</th><th>float32</th><th>float32</th><th>float32</th><th>float32</th><th>float32</th><th>float32</th><th>float32</th><th>float32</th><th>float32</th><th>float32</th><th>float32</th><th>float32</th><th>float32</th><th>float32</th><th>float32</th><th>float32</th><th>float32</th><th>float32</th><th>float32</th><th>float32</th><th>float32</th><th>float32</th><th>float32</th><th>float32</th><th>float32</th><th>float32</th><th>float32</th><th>float32</th><th>float32</th><th>float32</th><th>float32</th><th>float32</th><th>float32</th><th>float32</th><th>float32</th><th>float32</th><th>int32</th><th>float64</th><th>float64</th><th>float64</th><th>str16</th><th>float64</th><th>float64</th><th>float64</th><th>float64</th><th>float64</th><th>float64</th><th>float64</th><th>float64</th><th>float64</th><th>float64</th><th>float64</th><th>int64</th><th>float64</th><th>int64</th><th>str24</th></tr></thead>\n",
       "<tr><td>5000761</td><td>SGA-2020 5000761</td><td>DR8-3598m132-1566</td><td>-1</td><td>359.8543401209699</td><td>-13.27298450516979</td><td>COMP</td><td>13.630395</td><td>0.36305833</td><td>0.37946832</td><td>-1.0</td><td>24.814651</td><td>18.386288</td><td>False</td><td>DR8</td><td>529381</td><td>DR8-3598m132-1566</td><td>1</td><td>True</td><td>359.8543401209699</td><td>-13.27298450516979</td><td>0.36305833</td><td>3598m132</td><td>359.85434774837023</td><td>-13.272977710650537</td><td>0.28370878</td><td>SB26</td><td>168.67378</td><td>0.5625282</td><td>359.85426448280407</td><td>-13.27283520797331</td><td>6.5634704</td><td>6.3352146</td><td>5.8562765</td><td>5.2685037</td><td>-1.0</td><td>0.490355</td><td>1.3431504</td><td>2.6847167</td><td>3.7493393</td><td>4.8546333</td><td>6.111469</td><td>7.3589787</td><td>8.511264</td><td>-1.0</td><td>-1.0</td><td>-1.0</td><td>23.718433</td><td>23.193655</td><td>23.154612</td><td>21.66221</td><td>21.185404</td><td>21.111595</td><td>20.502134</td><td>20.086287</td><td>19.971468</td><td>20.085892</td><td>19.70376</td><td>19.57079</td><td>19.821558</td><td>19.462872</td><td>19.34163</td><td>19.616253</td><td>19.26634</td><td>19.164177</td><td>19.466738</td><td>19.137087</td><td>19.014479</td><td>19.37565</td><td>19.053564</td><td>18.928083</td><td>-1.0</td><td>0.014212543</td><td>0.040192965</td><td>0.033691984</td><td>0.04154174</td><td>0.07088843</td><td>0.11356775</td><td>0.13873318</td><td>0.12907872</td><td>-1.0</td><td>-1.0</td><td>-1.0</td><td>0.026477985</td><td>0.050427496</td><td>0.039810665</td><td>0.038443595</td><td>0.041060727</td><td>0.028624054</td><td>0.030409802</td><td>0.033370476</td><td>0.027760057</td><td>0.027706875</td><td>0.030110046</td><td>0.026305534</td><td>0.02673246</td><td>0.027684188</td><td>0.026165267</td><td>0.02534611</td><td>0.02572179</td><td>0.025609946</td><td>0.024172347</td><td>0.024743635</td><td>0.024433767</td><td>0.023255061</td><td>0.024151104</td><td>0.023917114</td><td>18.828407</td><td>1.8961897</td><td>0.27432075</td><td>1.2582772</td><td>0.5068609</td><td>18.54517</td><td>1.9884998</td><td>0.24010763</td><td>1.2152138</td><td>0.42738745</td><td>18.50474</td><td>1.7520914</td><td>0.22583209</td><td>1.3503227</td><td>2.026229</td><td>0</td><td>-1.0</td><td>-1.0</td><td>-1.0</td><td>-1</td><td>--</td><td>--</td><td>--</td><td>--</td><td>--</td><td>--</td><td>--</td><td>--</td><td>--</td><td>--</td><td>--</td><td>--</td><td>--</td><td>--</td><td>--</td></tr>\n",
       "<tr><td>5000100</td><td>SGA-2020 5000100</td><td>DR8-3299m605-2919</td><td>-1</td><td>329.95571191714737</td><td>-60.4722744689504</td><td>COMP</td><td>155.0766</td><td>0.42772675</td><td>0.6975549</td><td>-1.0</td><td>22.43324</td><td>15.648927</td><td>False</td><td>DR8</td><td>528867</td><td>DR8-3299m605-2919</td><td>1</td><td>True</td><td>329.95571191714737</td><td>-60.4722744689504</td><td>0.42772675</td><td>3299m605</td><td>329.9556939232771</td><td>-60.47227993946594</td><td>0.62354004</td><td>SB26</td><td>13.482484</td><td>0.81153715</td><td>329.9557616952847</td><td>-60.47212089960734</td><td>19.176771</td><td>6.305705</td><td>5.316128</td><td>4.633332</td><td>3.5362608</td><td>4.7344112</td><td>6.4602933</td><td>8.686563</td><td>11.099823</td><td>13.182781</td><td>15.129542</td><td>16.952633</td><td>18.706202</td><td>18.079912</td><td>17.10553</td><td>16.45363</td><td>17.861446</td><td>16.90573</td><td>16.270485</td><td>17.626451</td><td>16.702143</td><td>16.085651</td><td>17.37193</td><td>16.493755</td><td>15.902965</td><td>17.164364</td><td>16.32334</td><td>15.7551775</td><td>17.044641</td><td>16.225012</td><td>15.673279</td><td>16.968338</td><td>16.161993</td><td>15.621534</td><td>16.925732</td><td>16.126425</td><td>15.589917</td><td>16.897062</td><td>16.101164</td><td>15.5661955</td><td>0.018870493</td><td>0.02211962</td><td>0.027392235</td><td>0.042248614</td><td>0.059847366</td><td>0.058304973</td><td>0.06292059</td><td>0.067461185</td><td>0.12281286</td><td>0.04445038</td><td>0.05216242</td><td>0.060565393</td><td>0.036527295</td><td>0.043659844</td><td>0.05149793</td><td>0.029508885</td><td>0.036248904</td><td>0.043481365</td><td>0.023377204</td><td>0.029838156</td><td>0.036598608</td><td>0.019523589</td><td>0.025709704</td><td>0.032179926</td><td>0.017574714</td><td>0.02352256</td><td>0.02987031</td><td>0.016379716</td><td>0.022110106</td><td>0.028337618</td><td>0.015827144</td><td>0.021511706</td><td>0.027686927</td><td>0.015383046</td><td>0.020921161</td><td>0.026947394</td><td>16.875532</td><td>0.10224132</td><td>39.47095</td><td>7.990301</td><td>0.87541056</td><td>16.076267</td><td>0.09990648</td><td>23.529333</td><td>6.9226575</td><td>0.13347243</td><td>15.534506</td><td>0.11103598</td><td>11.803069</td><td>5.6001678</td><td>0.052898582</td><td>0</td><td>-1.0</td><td>-1.0</td><td>-1.0</td><td>-1</td><td>--</td><td>--</td><td>--</td><td>--</td><td>--</td><td>--</td><td>--</td><td>--</td><td>--</td><td>--</td><td>--</td><td>--</td><td>--</td><td>--</td><td>--</td></tr>\n",
       "<tr><td>5000101</td><td>SGA-2020 5000101</td><td>DR8-0428m602-4341</td><td>-1</td><td>43.01589380518563</td><td>-60.19008355097176</td><td>DEV</td><td>76.72161</td><td>0.5197684</td><td>0.50547314</td><td>-1.0</td><td>24.886185</td><td>17.678654</td><td>False</td><td>DR8</td><td>528868</td><td>DR8-0428m602-4341</td><td>1</td><td>True</td><td>43.01589380518563</td><td>-60.19008355097176</td><td>0.5197684</td><td>0428m602</td><td>43.0158409278892</td><td>-60.19006850693699</td><td>0.2995438</td><td>SB26</td><td>130.62354</td><td>0.82812405</td><td>43.015711547505454</td><td>-60.18985283465927</td><td>7.305906</td><td>6.4000063</td><td>6.554371</td><td>5.941861</td><td>-1.0</td><td>0.43971828</td><td>1.2950909</td><td>2.7783186</td><td>4.0173025</td><td>5.380957</td><td>6.637323</td><td>7.863014</td><td>8.986314</td><td>-1.0</td><td>-1.0</td><td>-1.0</td><td>23.46046</td><td>23.012009</td><td>22.722801</td><td>21.298271</td><td>20.838564</td><td>20.586018</td><td>20.091703</td><td>19.686905</td><td>19.45462</td><td>19.585398</td><td>19.213463</td><td>19.011019</td><td>19.241985</td><td>18.8988</td><td>18.708347</td><td>19.030985</td><td>18.704548</td><td>18.52491</td><td>18.902962</td><td>18.57962</td><td>18.404764</td><td>18.816408</td><td>18.505655</td><td>18.345798</td><td>-1.0</td><td>0.040133674</td><td>0.038412448</td><td>0.039465293</td><td>0.040503945</td><td>0.04500195</td><td>0.0574474</td><td>0.05836967</td><td>0.08682622</td><td>-1.0</td><td>-1.0</td><td>-1.0</td><td>0.18643145</td><td>0.23118983</td><td>0.26170272</td><td>0.10713007</td><td>0.11413693</td><td>0.12643518</td><td>0.049031835</td><td>0.051427525</td><td>0.05546828</td><td>0.03417839</td><td>0.03575449</td><td>0.038691323</td><td>0.026123025</td><td>0.02776557</td><td>0.030320605</td><td>0.021982374</td><td>0.023457259</td><td>0.025968803</td><td>0.019888498</td><td>0.02129597</td><td>0.023985501</td><td>0.018616242</td><td>0.02012911</td><td>0.023204003</td><td>18.32019</td><td>1.2479571</td><td>0.40770265</td><td>1.5866154</td><td>0.8099984</td><td>17.970156</td><td>1.4986098</td><td>0.36491713</td><td>1.374992</td><td>0.78827834</td><td>17.86777</td><td>1.4401665</td><td>0.3296373</td><td>1.4088252</td><td>0.9026677</td><td>0</td><td>-1.0</td><td>-1.0</td><td>-1.0</td><td>-1</td><td>--</td><td>--</td><td>--</td><td>--</td><td>--</td><td>--</td><td>--</td><td>--</td><td>--</td><td>--</td><td>--</td><td>--</td><td>--</td><td>--</td><td>--</td></tr>\n",
       "<tr><td>5000103</td><td>SGA-2020 5000103</td><td>DR8-0564m602-5182</td><td>-1</td><td>56.54259474515711</td><td>-60.170012742290595</td><td>COMP</td><td>116.028</td><td>0.39595056</td><td>0.6758435</td><td>-1.0</td><td>22.833836</td><td>16.21715</td><td>False</td><td>DR8</td><td>528869</td><td>DR8-0564m602-5182</td><td>1</td><td>True</td><td>56.54259474515711</td><td>-60.170012742290595</td><td>0.39595056</td><td>0564m602</td><td>56.5425484311264</td><td>-60.17002017195986</td><td>0.45891094</td><td>SB26</td><td>58.620274</td><td>0.8069667</td><td>56.542605001541126</td><td>-60.16987915861672</td><td>11.52677</td><td>3.5407197</td><td>3.640534</td><td>3.4678946</td><td>2.9925213</td><td>3.982296</td><td>5.2397475</td><td>6.6388736</td><td>8.143896</td><td>9.431933</td><td>10.802918</td><td>12.243053</td><td>13.767328</td><td>18.205729</td><td>17.511276</td><td>16.946764</td><td>18.015867</td><td>17.325253</td><td>16.757921</td><td>17.829113</td><td>17.131493</td><td>16.574013</td><td>17.658195</td><td>16.955154</td><td>16.409122</td><td>17.543545</td><td>16.835526</td><td>16.295795</td><td>17.479597</td><td>16.7686</td><td>16.232376</td><td>17.432611</td><td>16.721592</td><td>16.187424</td><td>17.39887</td><td>16.685518</td><td>16.154554</td><td>17.373758</td><td>16.65943</td><td>16.129866</td><td>0.029243266</td><td>0.052350823</td><td>0.042395998</td><td>0.049963497</td><td>0.051639527</td><td>0.046315562</td><td>0.054095972</td><td>0.07581425</td><td>0.11955502</td><td>0.04193297</td><td>0.050752692</td><td>0.056369837</td><td>0.036478166</td><td>0.04359036</td><td>0.04802639</td><td>0.031672988</td><td>0.037227865</td><td>0.04105769</td><td>0.027629614</td><td>0.032112982</td><td>0.035625856</td><td>0.025011195</td><td>0.02890964</td><td>0.03220338</td><td>0.023639638</td><td>0.02723375</td><td>0.030418476</td><td>0.022663414</td><td>0.0261013</td><td>0.029206611</td><td>0.022073252</td><td>0.025447907</td><td>0.028602172</td><td>0.02158101</td><td>0.024851251</td><td>0.027972175</td><td>17.341112</td><td>0.15827028</td><td>1.0597229</td><td>4.5156007</td><td>0.25887877</td><td>16.628347</td><td>0.15414321</td><td>1.1208923</td><td>4.7113214</td><td>0.283053</td><td>16.097488</td><td>0.15764304</td><td>1.0367033</td><td>4.4657435</td><td>0.11038314</td><td>0</td><td>-1.0</td><td>-1.0</td><td>-1.0</td><td>-1</td><td>--</td><td>--</td><td>--</td><td>--</td><td>--</td><td>--</td><td>--</td><td>--</td><td>--</td><td>--</td><td>--</td><td>--</td><td>--</td><td>--</td><td>--</td></tr>\n",
       "<tr><td>5000104</td><td>SGA-2020 5000104</td><td>DR8-3116m602-5249</td><td>-1</td><td>311.6822338222947</td><td>-60.15777584223587</td><td>COMP</td><td>27.00728</td><td>0.31811</td><td>0.3786559</td><td>-1.0</td><td>22.528774</td><td>16.387407</td><td>False</td><td>DR8</td><td>528870</td><td>DR8-3116m602-5249</td><td>1</td><td>True</td><td>311.6822338222947</td><td>-60.15777584223587</td><td>0.31811</td><td>3116m602</td><td>311.68218370725486</td><td>-60.15778385496827</td><td>0.3772321</td><td>SB26</td><td>37.267677</td><td>0.60977674</td><td>311.6819701782829</td><td>-60.15771809823727</td><td>9.049317</td><td>2.5344326</td><td>2.5065234</td><td>2.3701298</td><td>3.7486074</td><td>4.5074596</td><td>5.360254</td><td>6.282953</td><td>7.2018814</td><td>8.1922035</td><td>9.174659</td><td>10.215832</td><td>11.316963</td><td>18.011465</td><td>17.212872</td><td>16.609362</td><td>17.890486</td><td>17.095617</td><td>16.501747</td><td>17.7956</td><td>17.003231</td><td>16.415813</td><td>17.724556</td><td>16.932873</td><td>16.351442</td><td>17.674213</td><td>16.88341</td><td>16.306314</td><td>17.637867</td><td>16.847454</td><td>16.274595</td><td>17.613974</td><td>16.823631</td><td>16.250742</td><td>17.596737</td><td>16.805452</td><td>16.23273</td><td>17.584661</td><td>16.792227</td><td>16.220684</td><td>0.0271106</td><td>0.03580016</td><td>0.044821702</td><td>0.04606568</td><td>0.04248665</td><td>0.058688715</td><td>0.06138982</td><td>0.08101228</td><td>0.06897944</td><td>0.038286723</td><td>0.038399193</td><td>0.042705674</td><td>0.03511407</td><td>0.035257023</td><td>0.039255373</td><td>0.032415666</td><td>0.0326344</td><td>0.03647537</td><td>0.030571626</td><td>0.030768186</td><td>0.03451141</td><td>0.029262934</td><td>0.029472051</td><td>0.03318024</td><td>0.028343963</td><td>0.028556058</td><td>0.032272372</td><td>0.02775303</td><td>0.02795914</td><td>0.03159694</td><td>0.02727826</td><td>0.027469523</td><td>0.031076986</td><td>0.027046604</td><td>0.027188068</td><td>0.03077609</td><td>17.547606</td><td>0.26231307</td><td>0.22092265</td><td>3.1476464</td><td>0.004118985</td><td>16.751373</td><td>0.27314</td><td>0.23329324</td><td>2.9956362</td><td>0.0018884783</td><td>16.175776</td><td>0.29954964</td><td>0.22481349</td><td>2.723101</td><td>0.0016395395</td><td>0</td><td>-1.0</td><td>-1.0</td><td>-1.0</td><td>-1</td><td>--</td><td>--</td><td>--</td><td>--</td><td>--</td><td>--</td><td>--</td><td>--</td><td>--</td><td>--</td><td>--</td><td>--</td><td>--</td><td>--</td><td>--</td></tr>\n",
       "<tr><td>5000105</td><td>SGA-2020 5000105</td><td>DR8-3271m602-4434</td><td>-1</td><td>327.20399904398926</td><td>-60.18927727041611</td><td>DEV</td><td>123.754814</td><td>0.46746832</td><td>0.33057404</td><td>-1.0</td><td>24.169014</td><td>17.191772</td><td>False</td><td>DR8</td><td>528871</td><td>DR8-3271m602-4434</td><td>1</td><td>True</td><td>327.20399904398926</td><td>-60.18927727041611</td><td>0.46746832</td><td>3271m602</td><td>327.203978257651</td><td>-60.189276288853094</td><td>0.58809745</td><td>SB26</td><td>123.90804</td><td>0.36832082</td><td>327.2038020754954</td><td>-60.189212464087056</td><td>11.211322</td><td>8.184088</td><td>9.01079</td><td>9.29529</td><td>1.4546129</td><td>3.2465594</td><td>4.8150015</td><td>6.613887</td><td>8.541795</td><td>10.596966</td><td>12.930577</td><td>15.2800045</td><td>17.642923</td><td>21.09287</td><td>20.572702</td><td>20.21215</td><td>19.79161</td><td>19.257528</td><td>18.920706</td><td>19.276733</td><td>18.73325</td><td>18.408928</td><td>18.950054</td><td>18.389452</td><td>18.075459</td><td>18.721958</td><td>18.148958</td><td>17.82809</td><td>18.556396</td><td>17.977125</td><td>17.659838</td><td>18.437012</td><td>17.84955</td><td>17.52815</td><td>18.359562</td><td>17.76108</td><td>17.436275</td><td>18.305994</td><td>17.70245</td><td>17.381977</td><td>0.037537128</td><td>0.05935818</td><td>0.06824799</td><td>0.103358984</td><td>0.11438411</td><td>0.13156846</td><td>0.17122948</td><td>0.14893575</td><td>0.22648528</td><td>0.06772707</td><td>0.06368487</td><td>0.07474274</td><td>0.05263248</td><td>0.049136057</td><td>0.054467082</td><td>0.04335729</td><td>0.040854607</td><td>0.04373058</td><td>0.03674146</td><td>0.03510042</td><td>0.037243858</td><td>0.0324937</td><td>0.031169055</td><td>0.032944854</td><td>0.029451791</td><td>0.02844182</td><td>0.030087413</td><td>0.02724927</td><td>0.026381092</td><td>0.027934</td><td>0.02586129</td><td>0.024865149</td><td>0.026217775</td><td>0.024876798</td><td>0.02386781</td><td>0.025352657</td><td>17.998127</td><td>1.4075223</td><td>0.5335039</td><td>1.404374</td><td>0.23679212</td><td>17.349401</td><td>1.4542434</td><td>0.58803564</td><td>1.3643383</td><td>0.15707539</td><td>17.00635</td><td>1.4553359</td><td>0.6143331</td><td>1.3328501</td><td>0.32982987</td><td>0</td><td>-1.0</td><td>-1.0</td><td>-1.0</td><td>-1</td><td>--</td><td>--</td><td>--</td><td>--</td><td>--</td><td>--</td><td>--</td><td>--</td><td>--</td><td>--</td><td>--</td><td>--</td><td>--</td><td>--</td><td>--</td></tr>\n",
       "<tr><td>5000106</td><td>SGA-2020 5000106</td><td>DR8-3582m602-2634</td><td>-1</td><td>358.2285569660937</td><td>-60.29322425919397</td><td>COMP</td><td>173.39816</td><td>0.4267407</td><td>0.667444</td><td>-1.0</td><td>24.312376</td><td>17.533075</td><td>False</td><td>DR8</td><td>528872</td><td>DR8-3582m602-2634</td><td>1</td><td>True</td><td>358.2285569660937</td><td>-60.29322425919397</td><td>0.4267407</td><td>3582m602</td><td>358.2285543373415</td><td>-60.29323267198674</td><td>0.24782544</td><td>SB26</td><td>176.42456</td><td>0.9574692</td><td>358.22843712037223</td><td>-60.293154303094845</td><td>5.399659</td><td>7.5401325</td><td>4.0741067</td><td>3.144112</td><td>1.1066737</td><td>1.5228931</td><td>1.9941443</td><td>2.5765333</td><td>3.2772872</td><td>4.0921497</td><td>5.0237756</td><td>6.1178546</td><td>7.4347634</td><td>21.664864</td><td>19.927444</td><td>19.107903</td><td>21.239723</td><td>19.563234</td><td>18.767735</td><td>20.934557</td><td>19.311409</td><td>18.530838</td><td>20.684872</td><td>19.104795</td><td>18.334953</td><td>20.478848</td><td>18.937</td><td>18.173769</td><td>20.296925</td><td>18.796442</td><td>18.040031</td><td>20.150002</td><td>18.685743</td><td>17.94211</td><td>20.041786</td><td>18.595877</td><td>17.857811</td><td>19.933641</td><td>18.522131</td><td>17.791784</td><td>0.0019536219</td><td>0.0033075102</td><td>0.0032118992</td><td>0.006764245</td><td>0.00780156</td><td>0.016372308</td><td>0.02396838</td><td>0.049469784</td><td>0.04788394</td><td>0.017232051</td><td>0.014936631</td><td>0.018556543</td><td>0.013144351</td><td>0.010952096</td><td>0.013928725</td><td>0.0105386255</td><td>0.008860606</td><td>0.011524469</td><td>0.008950988</td><td>0.007497824</td><td>0.00987382</td><td>0.007977693</td><td>0.006695393</td><td>0.008848764</td><td>0.0076931613</td><td>0.005967062</td><td>0.008038869</td><td>0.0075699654</td><td>0.005753246</td><td>0.007813181</td><td>0.008043889</td><td>0.005662869</td><td>0.0077426797</td><td>0.00833468</td><td>0.0057246517</td><td>0.007991438</td><td>19.172474</td><td>4.3892117</td><td>0.1520997</td><td>0.73232853</td><td>2.9216607</td><td>18.04707</td><td>3.0274446</td><td>0.1311827</td><td>0.8531324</td><td>1.5159098</td><td>17.443909</td><td>1.6284821</td><td>0.1730422</td><td>1.0563608</td><td>0.7838654</td><td>0</td><td>-1.0</td><td>-1.0</td><td>-1.0</td><td>-1</td><td>--</td><td>--</td><td>--</td><td>--</td><td>--</td><td>--</td><td>--</td><td>--</td><td>--</td><td>--</td><td>--</td><td>--</td><td>--</td><td>--</td><td>--</td></tr>\n",
       "<tr><td>5000093</td><td>SGA-2020 5000093</td><td>DR8-0958m607-87</td><td>-1</td><td>95.84579736045889</td><td>-60.87017495576278</td><td>COMP</td><td>6.862879</td><td>0.4688806</td><td>0.5160953</td><td>-1.0</td><td>23.910288</td><td>16.926497</td><td>False</td><td>DR8</td><td>528864</td><td>DR8-0958m607-87</td><td>1</td><td>True</td><td>95.84579736045889</td><td>-60.87017495576278</td><td>0.4688806</td><td>0958m607</td><td>95.84578318032922</td><td>-60.87017344852478</td><td>0.34734446</td><td>SB26</td><td>36.63736</td><td>0.62975144</td><td>95.84557069334618</td><td>-60.87012661444932</td><td>10.115272</td><td>4.2033725</td><td>3.8890688</td><td>3.6802142</td><td>2.304844</td><td>3.3932943</td><td>4.6027765</td><td>5.855651</td><td>6.9726844</td><td>7.8925357</td><td>8.694431</td><td>9.5464525</td><td>10.420334</td><td>19.486519</td><td>18.839628</td><td>18.40503</td><td>18.982243</td><td>18.389038</td><td>17.98708</td><td>18.642971</td><td>18.08769</td><td>17.711443</td><td>18.360989</td><td>17.840422</td><td>17.486338</td><td>18.190287</td><td>17.690369</td><td>17.348286</td><td>18.108591</td><td>17.615805</td><td>17.2824</td><td>18.064188</td><td>17.575932</td><td>17.242126</td><td>18.034115</td><td>17.54859</td><td>17.219515</td><td>18.013008</td><td>17.531202</td><td>17.198069</td><td>0.015102809</td><td>0.03331533</td><td>0.03932621</td><td>0.03971297</td><td>0.042289834</td><td>0.038883567</td><td>0.045974802</td><td>0.07088428</td><td>0.09811156</td><td>0.023367593</td><td>0.029627439</td><td>0.032148965</td><td>0.018821223</td><td>0.022861019</td><td>0.02498411</td><td>0.017120007</td><td>0.019729042</td><td>0.021428235</td><td>0.016255315</td><td>0.017668083</td><td>0.018843686</td><td>0.015214873</td><td>0.016264742</td><td>0.017198853</td><td>0.014372482</td><td>0.015332987</td><td>0.016392035</td><td>0.013914355</td><td>0.014855432</td><td>0.015892308</td><td>0.0135872485</td><td>0.014540428</td><td>0.015653433</td><td>0.013401592</td><td>0.014337021</td><td>0.015444129</td><td>17.987846</td><td>0.1931468</td><td>0.19323812</td><td>6.368651</td><td>1.7643019</td><td>17.50649</td><td>0.17463554</td><td>0.20027408</td><td>6.2514224</td><td>0.96978635</td><td>17.170492</td><td>0.17639524</td><td>0.22756033</td><td>5.7348347</td><td>0.8630334</td><td>0</td><td>-1.0</td><td>-1.0</td><td>-1.0</td><td>-1</td><td>--</td><td>--</td><td>--</td><td>--</td><td>--</td><td>--</td><td>--</td><td>--</td><td>--</td><td>--</td><td>--</td><td>--</td><td>--</td><td>--</td><td>--</td></tr>\n",
       "<tr><td>5003392</td><td>SGA-2020 5003392</td><td>DR8-2411p472-3446</td><td>-1</td><td>241.03319839030343</td><td>47.349676720257634</td><td>PSF</td><td>0.0</td><td>0.344</td><td>1.0</td><td>-1.0</td><td>23.332514</td><td>17.02124</td><td>True</td><td>DR8</td><td>531344</td><td>DR8-2411p472-3446</td><td>1</td><td>True</td><td>241.03319839030343</td><td>47.349676720257634</td><td>0.344</td><td>2411p472</td><td>241.0331948562062</td><td>47.34967186945754</td><td>0.36360943</td><td>SB26</td><td>109.9096</td><td>0.9165981</td><td>241.03309056158568</td><td>47.34976222071839</td><td>8.682061</td><td>1.9049383</td><td>2.30394</td><td>2.0494843</td><td>3.7118149</td><td>4.509427</td><td>5.313996</td><td>6.114325</td><td>6.9329815</td><td>7.7613354</td><td>8.681544</td><td>9.721496</td><td>10.908283</td><td>17.243343</td><td>16.658142</td><td>16.160637</td><td>17.144438</td><td>16.540117</td><td>16.046865</td><td>17.075495</td><td>16.459087</td><td>15.973463</td><td>17.027739</td><td>16.403515</td><td>15.922847</td><td>16.995546</td><td>16.36484</td><td>15.890327</td><td>16.972334</td><td>16.337948</td><td>15.867161</td><td>16.95447</td><td>16.317652</td><td>15.851335</td><td>16.941713</td><td>16.30202</td><td>15.842204</td><td>16.932203</td><td>16.290209</td><td>15.835608</td><td>0.00481967</td><td>0.004891338</td><td>0.009491605</td><td>0.0105752265</td><td>0.013222079</td><td>0.020374026</td><td>0.025012534</td><td>0.061723646</td><td>0.09414528</td><td>0.010301288</td><td>0.0059837424</td><td>0.012279851</td><td>0.009382037</td><td>0.0053333608</td><td>0.010729453</td><td>0.008854858</td><td>0.0050711907</td><td>0.010399376</td><td>0.008445666</td><td>0.0047555426</td><td>0.009612835</td><td>0.008243402</td><td>0.0046831467</td><td>0.009671972</td><td>0.008042059</td><td>0.0045056203</td><td>0.009178275</td><td>0.007919752</td><td>0.004438654</td><td>0.009072405</td><td>0.007834143</td><td>0.0043875477</td><td>0.009025627</td><td>0.007774089</td><td>0.004357446</td><td>0.00900043</td><td>16.90925</td><td>0.21193907</td><td>0.15115295</td><td>3.263453</td><td>0.008128283</td><td>16.261354</td><td>0.27702454</td><td>0.14449826</td><td>3.1218348</td><td>0.0052086157</td><td>15.821025</td><td>0.19504343</td><td>0.10215698</td><td>3.8602085</td><td>0.085215494</td><td>0</td><td>-1.0</td><td>-1.0</td><td>-1.0</td><td>-1</td><td>--</td><td>--</td><td>--</td><td>--</td><td>--</td><td>--</td><td>--</td><td>--</td><td>--</td><td>--</td><td>--</td><td>--</td><td>--</td><td>--</td><td>--</td></tr>\n",
       "<tr><td>5000671</td><td>SGA-2020 5000671</td><td>DR8-0082m222-1061</td><td>-1</td><td>8.19552610093737</td><td>-22.32483368225319</td><td>DEV</td><td>156.1808</td><td>0.51407033</td><td>0.7783969</td><td>-1.0</td><td>24.378393</td><td>17.1948</td><td>False</td><td>DR8</td><td>529317</td><td>DR8-0082m222-1061</td><td>1</td><td>True</td><td>8.19552610093737</td><td>-22.32483368225319</td><td>0.51407033</td><td>0082m222</td><td>8.19552507428572</td><td>-22.32484518833573</td><td>0.33491746</td><td>SB26</td><td>177.94041</td><td>0.7322651</td><td>8.195404665332452</td><td>-22.324811866592423</td><td>8.540585</td><td>7.1204305</td><td>6.4915442</td><td>13.661813</td><td>0.2647428</td><td>0.94710654</td><td>2.3608894</td><td>3.59501</td><td>5.0403123</td><td>6.489762</td><td>7.7356973</td><td>8.957508</td><td>10.0475235</td><td>24.490732</td><td>23.780666</td><td>23.331232</td><td>21.83318</td><td>21.17994</td><td>20.847519</td><td>20.278826</td><td>19.726152</td><td>19.419912</td><td>19.685152</td><td>19.192759</td><td>18.909187</td><td>19.227568</td><td>18.776237</td><td>18.512466</td><td>18.94064</td><td>18.516218</td><td>18.257977</td><td>18.78416</td><td>18.363235</td><td>18.102661</td><td>18.682875</td><td>18.272362</td><td>18.003407</td><td>18.621006</td><td>18.223305</td><td>17.92905</td><td>0.010989847</td><td>0.015071178</td><td>0.01585197</td><td>0.02703369</td><td>0.031104797</td><td>0.05338847</td><td>0.06331625</td><td>0.060011346</td><td>0.118697055</td><td>0.06866005</td><td>0.15131792</td><td>0.056195572</td><td>0.042547558</td><td>0.05097767</td><td>0.059147857</td><td>0.018270904</td><td>0.022107337</td><td>0.028877709</td><td>0.012936144</td><td>0.015495257</td><td>0.02218661</td><td>0.011157171</td><td>0.012569907</td><td>0.018664086</td><td>0.010438955</td><td>0.011411711</td><td>0.017429894</td><td>0.009825037</td><td>0.010572101</td><td>0.016987693</td><td>0.0095630875</td><td>0.010280984</td><td>0.01674769</td><td>0.009408203</td><td>0.010172472</td><td>0.01654887</td><td>18.116531</td><td>1.268059</td><td>0.47584373</td><td>1.567354</td><td>18.606615</td><td>17.770554</td><td>1.1486329</td><td>0.46623585</td><td>1.5868546</td><td>15.616654</td><td>16.96906</td><td>2.4920237</td><td>0.4654651</td><td>0.89045</td><td>2.9809487</td><td>0</td><td>-1.0</td><td>-1.0</td><td>-1.0</td><td>-1</td><td>--</td><td>--</td><td>--</td><td>--</td><td>--</td><td>--</td><td>--</td><td>--</td><td>--</td><td>--</td><td>--</td><td>--</td><td>--</td><td>--</td><td>--</td></tr>\n",
       "</table>"
      ],
      "text/plain": [
       "<Table length=10>\n",
       " SGA_ID    SGA_GALAXY          GALAXY       PGC  ...  DM7_SN e_DM7_SN SN_Catalog\n",
       " int64      bytes16           bytes29      int64 ... float64  int64     str24   \n",
       "------- ---------------- ----------------- ----- ... ------- -------- ----------\n",
       "5000761 SGA-2020 5000761 DR8-3598m132-1566    -1 ...      --       --         --\n",
       "5000100 SGA-2020 5000100 DR8-3299m605-2919    -1 ...      --       --         --\n",
       "5000101 SGA-2020 5000101 DR8-0428m602-4341    -1 ...      --       --         --\n",
       "5000103 SGA-2020 5000103 DR8-0564m602-5182    -1 ...      --       --         --\n",
       "5000104 SGA-2020 5000104 DR8-3116m602-5249    -1 ...      --       --         --\n",
       "5000105 SGA-2020 5000105 DR8-3271m602-4434    -1 ...      --       --         --\n",
       "5000106 SGA-2020 5000106 DR8-3582m602-2634    -1 ...      --       --         --\n",
       "5000093 SGA-2020 5000093   DR8-0958m607-87    -1 ...      --       --         --\n",
       "5003392 SGA-2020 5003392 DR8-2411p472-3446    -1 ...      --       --         --\n",
       "5000671 SGA-2020 5000671 DR8-0082m222-1061    -1 ...      --       --         --"
      ]
     },
     "execution_count": 33,
     "metadata": {},
     "output_type": "execute_result"
    }
   ],
   "source": [
    "maintab2 = join(maintab, tab, keys = 'PGC', join_type = 'left')\n",
    "maintab2[:10]"
   ]
  },
  {
   "cell_type": "code",
   "execution_count": 34,
   "id": "5f7bdef8-633f-480e-b4ad-10d06e3e7404",
   "metadata": {},
   "outputs": [],
   "source": [
    "maintab2['DM1_SN'].fill_value = -1\n",
    "maintab2['e_DM1_SN'].fill_value = -1\n",
    "maintab2['DM2_SN'].fill_value = -1\n",
    "maintab2['e_DM2_SN'].fill_value = -1\n",
    "maintab2['DM3_SN'].fill_value = -1\n",
    "maintab2['e_DM3_SN'].fill_value = -1\n",
    "maintab2['DM4_SN'].fill_value = -1\n",
    "maintab2['e_DM4_SN'].fill_value = -1\n",
    "maintab2['DM5_SN'].fill_value = -1\n",
    "maintab2['e_DM5_SN'].fill_value = -1\n",
    "maintab2['DM6_SN'].fill_value = -1\n",
    "maintab2['e_DM6_SN'].fill_value = -1\n",
    "maintab2['DM7_SN'].fill_value = -1\n",
    "maintab2['e_DM7_SN'].fill_value = -1\n",
    "maintab2['SN_Catalog'].fill_value = -1\n",
    "\n",
    "maintab2 = maintab2.filled()"
   ]
  },
  {
   "cell_type": "code",
   "execution_count": 63,
   "id": "81c8ed49-d945-4285-975c-e242d20d7cd6",
   "metadata": {},
   "outputs": [
    {
     "data": {
      "text/html": [
       "<i>Table length=384640</i>\n",
       "<table id=\"table46912564569760\" class=\"table-striped table-bordered table-condensed\">\n",
       "<thead><tr><th>SGA_ID</th><th>SGA_GALAXY</th><th>GALAXY</th><th>PGC</th><th>RA_LEDA</th><th>DEC_LEDA</th><th>MORPHTYPE</th><th>PA_LEDA</th><th>D25_LEDA</th><th>BA_LEDA</th><th>Z_LEDA</th><th>SB_D25_LEDA</th><th>MAG_LEDA</th><th>BYHAND</th><th>REF</th><th>GROUP_ID</th><th>GROUP_NAME</th><th>GROUP_MULT</th><th>GROUP_PRIMARY</th><th>GROUP_RA</th><th>GROUP_DEC</th><th>GROUP_DIAMETER</th><th>BRICKNAME</th><th>RA</th><th>DEC</th><th>D26</th><th>D26_REF</th><th>PA</th><th>BA</th><th>RA_MOMENT</th><th>DEC_MOMENT</th><th>SMA_MOMENT</th><th>G_SMA50</th><th>R_SMA50</th><th>Z_SMA50</th><th>SMA_SB22</th><th>SMA_SB22.5</th><th>SMA_SB23</th><th>SMA_SB23.5</th><th>SMA_SB24</th><th>SMA_SB24.5</th><th>SMA_SB25</th><th>SMA_SB25.5</th><th>SMA_SB26</th><th>G_MAG_SB22</th><th>R_MAG_SB22</th><th>Z_MAG_SB22</th><th>G_MAG_SB22.5</th><th>R_MAG_SB22.5</th><th>Z_MAG_SB22.5</th><th>G_MAG_SB23</th><th>R_MAG_SB23</th><th>Z_MAG_SB23</th><th>G_MAG_SB23.5</th><th>R_MAG_SB23.5</th><th>Z_MAG_SB23.5</th><th>G_MAG_SB24</th><th>R_MAG_SB24</th><th>Z_MAG_SB24</th><th>G_MAG_SB24.5</th><th>R_MAG_SB24.5</th><th>Z_MAG_SB24.5</th><th>G_MAG_SB25</th><th>R_MAG_SB25</th><th>Z_MAG_SB25</th><th>G_MAG_SB25.5</th><th>R_MAG_SB25.5</th><th>Z_MAG_SB25.5</th><th>G_MAG_SB26</th><th>R_MAG_SB26</th><th>Z_MAG_SB26</th><th>SMA_SB22_ERR</th><th>SMA_SB22.5_ERR</th><th>SMA_SB23_ERR</th><th>SMA_SB23.5_ERR</th><th>SMA_SB24_ERR</th><th>SMA_SB24.5_ERR</th><th>SMA_SB25_ERR</th><th>SMA_SB25.5_ERR</th><th>SMA_SB26_ERR</th><th>G_MAG_SB22_ERR</th><th>R_MAG_SB22_ERR</th><th>Z_MAG_SB22_ERR</th><th>G_MAG_SB22.5_ERR</th><th>R_MAG_SB22.5_ERR</th><th>Z_MAG_SB22.5_ERR</th><th>G_MAG_SB23_ERR</th><th>R_MAG_SB23_ERR</th><th>Z_MAG_SB23_ERR</th><th>G_MAG_SB23.5_ERR</th><th>R_MAG_SB23.5_ERR</th><th>Z_MAG_SB23.5_ERR</th><th>G_MAG_SB24_ERR</th><th>R_MAG_SB24_ERR</th><th>Z_MAG_SB24_ERR</th><th>G_MAG_SB24.5_ERR</th><th>R_MAG_SB24.5_ERR</th><th>Z_MAG_SB24.5_ERR</th><th>G_MAG_SB25_ERR</th><th>R_MAG_SB25_ERR</th><th>Z_MAG_SB25_ERR</th><th>G_MAG_SB25.5_ERR</th><th>R_MAG_SB25.5_ERR</th><th>Z_MAG_SB25.5_ERR</th><th>G_MAG_SB26_ERR</th><th>R_MAG_SB26_ERR</th><th>Z_MAG_SB26_ERR</th><th>G_COG_PARAMS_MTOT</th><th>G_COG_PARAMS_M0</th><th>G_COG_PARAMS_ALPHA1</th><th>G_COG_PARAMS_ALPHA2</th><th>G_COG_PARAMS_CHI2</th><th>R_COG_PARAMS_MTOT</th><th>R_COG_PARAMS_M0</th><th>R_COG_PARAMS_ALPHA1</th><th>R_COG_PARAMS_ALPHA2</th><th>R_COG_PARAMS_CHI2</th><th>Z_COG_PARAMS_MTOT</th><th>Z_COG_PARAMS_M0</th><th>Z_COG_PARAMS_ALPHA1</th><th>Z_COG_PARAMS_ALPHA2</th><th>Z_COG_PARAMS_CHI2</th><th>ELLIPSEBIT</th><th>DM_Stellar</th><th>e_DM_lo_Stellar</th><th>e_DM_hi_Stellar</th><th>Stellar_Catalog</th><th>DM1_SN</th><th>e_DM1_SN</th><th>DM2_SN</th><th>e_DM2_SN</th><th>DM3_SN</th><th>e_DM3_SN</th><th>DM4_SN</th><th>e_DM4_SN</th><th>DM5_SN</th><th>e_DM5_SN</th><th>DM6_SN</th><th>e_DM6_SN</th><th>DM7_SN</th><th>e_DM7_SN</th><th>SN_Catalog</th></tr></thead>\n",
       "<thead><tr><th>int64</th><th>bytes16</th><th>bytes29</th><th>int64</th><th>float64</th><th>float64</th><th>bytes21</th><th>float32</th><th>float32</th><th>float32</th><th>float32</th><th>float32</th><th>float32</th><th>bool</th><th>bytes13</th><th>int64</th><th>bytes35</th><th>int16</th><th>bool</th><th>float64</th><th>float64</th><th>float32</th><th>bytes8</th><th>float64</th><th>float64</th><th>float32</th><th>bytes4</th><th>float32</th><th>float32</th><th>float64</th><th>float64</th><th>float32</th><th>float32</th><th>float32</th><th>float32</th><th>float32</th><th>float32</th><th>float32</th><th>float32</th><th>float32</th><th>float32</th><th>float32</th><th>float32</th><th>float32</th><th>float32</th><th>float32</th><th>float32</th><th>float32</th><th>float32</th><th>float32</th><th>float32</th><th>float32</th><th>float32</th><th>float32</th><th>float32</th><th>float32</th><th>float32</th><th>float32</th><th>float32</th><th>float32</th><th>float32</th><th>float32</th><th>float32</th><th>float32</th><th>float32</th><th>float32</th><th>float32</th><th>float32</th><th>float32</th><th>float32</th><th>float32</th><th>float32</th><th>float32</th><th>float32</th><th>float32</th><th>float32</th><th>float32</th><th>float32</th><th>float32</th><th>float32</th><th>float32</th><th>float32</th><th>float32</th><th>float32</th><th>float32</th><th>float32</th><th>float32</th><th>float32</th><th>float32</th><th>float32</th><th>float32</th><th>float32</th><th>float32</th><th>float32</th><th>float32</th><th>float32</th><th>float32</th><th>float32</th><th>float32</th><th>float32</th><th>float32</th><th>float32</th><th>float32</th><th>float32</th><th>float32</th><th>float32</th><th>float32</th><th>float32</th><th>float32</th><th>float32</th><th>float32</th><th>float32</th><th>float32</th><th>float32</th><th>float32</th><th>float32</th><th>float32</th><th>float32</th><th>float32</th><th>float32</th><th>float32</th><th>float32</th><th>int32</th><th>float64</th><th>float64</th><th>float64</th><th>str16</th><th>float64</th><th>float64</th><th>float64</th><th>float64</th><th>float64</th><th>float64</th><th>float64</th><th>float64</th><th>float64</th><th>float64</th><th>float64</th><th>int64</th><th>float64</th><th>int64</th><th>str24</th></tr></thead>\n",
       "<tr><td>5000761</td><td>SGA-2020 5000761</td><td>DR8-3598m132-1566</td><td>-1</td><td>359.8543401209699</td><td>-13.27298450516979</td><td>COMP</td><td>13.630395</td><td>0.36305833</td><td>0.37946832</td><td>-1.0</td><td>24.814651</td><td>18.386288</td><td>False</td><td>DR8</td><td>529381</td><td>DR8-3598m132-1566</td><td>1</td><td>True</td><td>359.8543401209699</td><td>-13.27298450516979</td><td>0.36305833</td><td>3598m132</td><td>359.85434774837023</td><td>-13.272977710650537</td><td>0.28370878</td><td>SB26</td><td>168.67378</td><td>0.5625282</td><td>359.85426448280407</td><td>-13.27283520797331</td><td>6.5634704</td><td>6.3352146</td><td>5.8562765</td><td>5.2685037</td><td>-1.0</td><td>0.490355</td><td>1.3431504</td><td>2.6847167</td><td>3.7493393</td><td>4.8546333</td><td>6.111469</td><td>7.3589787</td><td>8.511264</td><td>-1.0</td><td>-1.0</td><td>-1.0</td><td>23.718433</td><td>23.193655</td><td>23.154612</td><td>21.66221</td><td>21.185404</td><td>21.111595</td><td>20.502134</td><td>20.086287</td><td>19.971468</td><td>20.085892</td><td>19.70376</td><td>19.57079</td><td>19.821558</td><td>19.462872</td><td>19.34163</td><td>19.616253</td><td>19.26634</td><td>19.164177</td><td>19.466738</td><td>19.137087</td><td>19.014479</td><td>19.37565</td><td>19.053564</td><td>18.928083</td><td>-1.0</td><td>0.014212543</td><td>0.040192965</td><td>0.033691984</td><td>0.04154174</td><td>0.07088843</td><td>0.11356775</td><td>0.13873318</td><td>0.12907872</td><td>-1.0</td><td>-1.0</td><td>-1.0</td><td>0.026477985</td><td>0.050427496</td><td>0.039810665</td><td>0.038443595</td><td>0.041060727</td><td>0.028624054</td><td>0.030409802</td><td>0.033370476</td><td>0.027760057</td><td>0.027706875</td><td>0.030110046</td><td>0.026305534</td><td>0.02673246</td><td>0.027684188</td><td>0.026165267</td><td>0.02534611</td><td>0.02572179</td><td>0.025609946</td><td>0.024172347</td><td>0.024743635</td><td>0.024433767</td><td>0.023255061</td><td>0.024151104</td><td>0.023917114</td><td>18.828407</td><td>1.8961897</td><td>0.27432075</td><td>1.2582772</td><td>0.5068609</td><td>18.54517</td><td>1.9884998</td><td>0.24010763</td><td>1.2152138</td><td>0.42738745</td><td>18.50474</td><td>1.7520914</td><td>0.22583209</td><td>1.3503227</td><td>2.026229</td><td>0</td><td>-1.0</td><td>-1.0</td><td>-1.0</td><td>-1</td><td>-1.0</td><td>-1.0</td><td>-1.0</td><td>-1.0</td><td>-1.0</td><td>-1.0</td><td>-1.0</td><td>-1.0</td><td>-1.0</td><td>-1.0</td><td>-1.0</td><td>-1</td><td>-1.0</td><td>-1</td><td>-1</td></tr>\n",
       "<tr><td>5000100</td><td>SGA-2020 5000100</td><td>DR8-3299m605-2919</td><td>-1</td><td>329.95571191714737</td><td>-60.4722744689504</td><td>COMP</td><td>155.0766</td><td>0.42772675</td><td>0.6975549</td><td>-1.0</td><td>22.43324</td><td>15.648927</td><td>False</td><td>DR8</td><td>528867</td><td>DR8-3299m605-2919</td><td>1</td><td>True</td><td>329.95571191714737</td><td>-60.4722744689504</td><td>0.42772675</td><td>3299m605</td><td>329.9556939232771</td><td>-60.47227993946594</td><td>0.62354004</td><td>SB26</td><td>13.482484</td><td>0.81153715</td><td>329.9557616952847</td><td>-60.47212089960734</td><td>19.176771</td><td>6.305705</td><td>5.316128</td><td>4.633332</td><td>3.5362608</td><td>4.7344112</td><td>6.4602933</td><td>8.686563</td><td>11.099823</td><td>13.182781</td><td>15.129542</td><td>16.952633</td><td>18.706202</td><td>18.079912</td><td>17.10553</td><td>16.45363</td><td>17.861446</td><td>16.90573</td><td>16.270485</td><td>17.626451</td><td>16.702143</td><td>16.085651</td><td>17.37193</td><td>16.493755</td><td>15.902965</td><td>17.164364</td><td>16.32334</td><td>15.7551775</td><td>17.044641</td><td>16.225012</td><td>15.673279</td><td>16.968338</td><td>16.161993</td><td>15.621534</td><td>16.925732</td><td>16.126425</td><td>15.589917</td><td>16.897062</td><td>16.101164</td><td>15.5661955</td><td>0.018870493</td><td>0.02211962</td><td>0.027392235</td><td>0.042248614</td><td>0.059847366</td><td>0.058304973</td><td>0.06292059</td><td>0.067461185</td><td>0.12281286</td><td>0.04445038</td><td>0.05216242</td><td>0.060565393</td><td>0.036527295</td><td>0.043659844</td><td>0.05149793</td><td>0.029508885</td><td>0.036248904</td><td>0.043481365</td><td>0.023377204</td><td>0.029838156</td><td>0.036598608</td><td>0.019523589</td><td>0.025709704</td><td>0.032179926</td><td>0.017574714</td><td>0.02352256</td><td>0.02987031</td><td>0.016379716</td><td>0.022110106</td><td>0.028337618</td><td>0.015827144</td><td>0.021511706</td><td>0.027686927</td><td>0.015383046</td><td>0.020921161</td><td>0.026947394</td><td>16.875532</td><td>0.10224132</td><td>39.47095</td><td>7.990301</td><td>0.87541056</td><td>16.076267</td><td>0.09990648</td><td>23.529333</td><td>6.9226575</td><td>0.13347243</td><td>15.534506</td><td>0.11103598</td><td>11.803069</td><td>5.6001678</td><td>0.052898582</td><td>0</td><td>-1.0</td><td>-1.0</td><td>-1.0</td><td>-1</td><td>-1.0</td><td>-1.0</td><td>-1.0</td><td>-1.0</td><td>-1.0</td><td>-1.0</td><td>-1.0</td><td>-1.0</td><td>-1.0</td><td>-1.0</td><td>-1.0</td><td>-1</td><td>-1.0</td><td>-1</td><td>-1</td></tr>\n",
       "<tr><td>5000101</td><td>SGA-2020 5000101</td><td>DR8-0428m602-4341</td><td>-1</td><td>43.01589380518563</td><td>-60.19008355097176</td><td>DEV</td><td>76.72161</td><td>0.5197684</td><td>0.50547314</td><td>-1.0</td><td>24.886185</td><td>17.678654</td><td>False</td><td>DR8</td><td>528868</td><td>DR8-0428m602-4341</td><td>1</td><td>True</td><td>43.01589380518563</td><td>-60.19008355097176</td><td>0.5197684</td><td>0428m602</td><td>43.0158409278892</td><td>-60.19006850693699</td><td>0.2995438</td><td>SB26</td><td>130.62354</td><td>0.82812405</td><td>43.015711547505454</td><td>-60.18985283465927</td><td>7.305906</td><td>6.4000063</td><td>6.554371</td><td>5.941861</td><td>-1.0</td><td>0.43971828</td><td>1.2950909</td><td>2.7783186</td><td>4.0173025</td><td>5.380957</td><td>6.637323</td><td>7.863014</td><td>8.986314</td><td>-1.0</td><td>-1.0</td><td>-1.0</td><td>23.46046</td><td>23.012009</td><td>22.722801</td><td>21.298271</td><td>20.838564</td><td>20.586018</td><td>20.091703</td><td>19.686905</td><td>19.45462</td><td>19.585398</td><td>19.213463</td><td>19.011019</td><td>19.241985</td><td>18.8988</td><td>18.708347</td><td>19.030985</td><td>18.704548</td><td>18.52491</td><td>18.902962</td><td>18.57962</td><td>18.404764</td><td>18.816408</td><td>18.505655</td><td>18.345798</td><td>-1.0</td><td>0.040133674</td><td>0.038412448</td><td>0.039465293</td><td>0.040503945</td><td>0.04500195</td><td>0.0574474</td><td>0.05836967</td><td>0.08682622</td><td>-1.0</td><td>-1.0</td><td>-1.0</td><td>0.18643145</td><td>0.23118983</td><td>0.26170272</td><td>0.10713007</td><td>0.11413693</td><td>0.12643518</td><td>0.049031835</td><td>0.051427525</td><td>0.05546828</td><td>0.03417839</td><td>0.03575449</td><td>0.038691323</td><td>0.026123025</td><td>0.02776557</td><td>0.030320605</td><td>0.021982374</td><td>0.023457259</td><td>0.025968803</td><td>0.019888498</td><td>0.02129597</td><td>0.023985501</td><td>0.018616242</td><td>0.02012911</td><td>0.023204003</td><td>18.32019</td><td>1.2479571</td><td>0.40770265</td><td>1.5866154</td><td>0.8099984</td><td>17.970156</td><td>1.4986098</td><td>0.36491713</td><td>1.374992</td><td>0.78827834</td><td>17.86777</td><td>1.4401665</td><td>0.3296373</td><td>1.4088252</td><td>0.9026677</td><td>0</td><td>-1.0</td><td>-1.0</td><td>-1.0</td><td>-1</td><td>-1.0</td><td>-1.0</td><td>-1.0</td><td>-1.0</td><td>-1.0</td><td>-1.0</td><td>-1.0</td><td>-1.0</td><td>-1.0</td><td>-1.0</td><td>-1.0</td><td>-1</td><td>-1.0</td><td>-1</td><td>-1</td></tr>\n",
       "<tr><td>5000103</td><td>SGA-2020 5000103</td><td>DR8-0564m602-5182</td><td>-1</td><td>56.54259474515711</td><td>-60.170012742290595</td><td>COMP</td><td>116.028</td><td>0.39595056</td><td>0.6758435</td><td>-1.0</td><td>22.833836</td><td>16.21715</td><td>False</td><td>DR8</td><td>528869</td><td>DR8-0564m602-5182</td><td>1</td><td>True</td><td>56.54259474515711</td><td>-60.170012742290595</td><td>0.39595056</td><td>0564m602</td><td>56.5425484311264</td><td>-60.17002017195986</td><td>0.45891094</td><td>SB26</td><td>58.620274</td><td>0.8069667</td><td>56.542605001541126</td><td>-60.16987915861672</td><td>11.52677</td><td>3.5407197</td><td>3.640534</td><td>3.4678946</td><td>2.9925213</td><td>3.982296</td><td>5.2397475</td><td>6.6388736</td><td>8.143896</td><td>9.431933</td><td>10.802918</td><td>12.243053</td><td>13.767328</td><td>18.205729</td><td>17.511276</td><td>16.946764</td><td>18.015867</td><td>17.325253</td><td>16.757921</td><td>17.829113</td><td>17.131493</td><td>16.574013</td><td>17.658195</td><td>16.955154</td><td>16.409122</td><td>17.543545</td><td>16.835526</td><td>16.295795</td><td>17.479597</td><td>16.7686</td><td>16.232376</td><td>17.432611</td><td>16.721592</td><td>16.187424</td><td>17.39887</td><td>16.685518</td><td>16.154554</td><td>17.373758</td><td>16.65943</td><td>16.129866</td><td>0.029243266</td><td>0.052350823</td><td>0.042395998</td><td>0.049963497</td><td>0.051639527</td><td>0.046315562</td><td>0.054095972</td><td>0.07581425</td><td>0.11955502</td><td>0.04193297</td><td>0.050752692</td><td>0.056369837</td><td>0.036478166</td><td>0.04359036</td><td>0.04802639</td><td>0.031672988</td><td>0.037227865</td><td>0.04105769</td><td>0.027629614</td><td>0.032112982</td><td>0.035625856</td><td>0.025011195</td><td>0.02890964</td><td>0.03220338</td><td>0.023639638</td><td>0.02723375</td><td>0.030418476</td><td>0.022663414</td><td>0.0261013</td><td>0.029206611</td><td>0.022073252</td><td>0.025447907</td><td>0.028602172</td><td>0.02158101</td><td>0.024851251</td><td>0.027972175</td><td>17.341112</td><td>0.15827028</td><td>1.0597229</td><td>4.5156007</td><td>0.25887877</td><td>16.628347</td><td>0.15414321</td><td>1.1208923</td><td>4.7113214</td><td>0.283053</td><td>16.097488</td><td>0.15764304</td><td>1.0367033</td><td>4.4657435</td><td>0.11038314</td><td>0</td><td>-1.0</td><td>-1.0</td><td>-1.0</td><td>-1</td><td>-1.0</td><td>-1.0</td><td>-1.0</td><td>-1.0</td><td>-1.0</td><td>-1.0</td><td>-1.0</td><td>-1.0</td><td>-1.0</td><td>-1.0</td><td>-1.0</td><td>-1</td><td>-1.0</td><td>-1</td><td>-1</td></tr>\n",
       "<tr><td>5000104</td><td>SGA-2020 5000104</td><td>DR8-3116m602-5249</td><td>-1</td><td>311.6822338222947</td><td>-60.15777584223587</td><td>COMP</td><td>27.00728</td><td>0.31811</td><td>0.3786559</td><td>-1.0</td><td>22.528774</td><td>16.387407</td><td>False</td><td>DR8</td><td>528870</td><td>DR8-3116m602-5249</td><td>1</td><td>True</td><td>311.6822338222947</td><td>-60.15777584223587</td><td>0.31811</td><td>3116m602</td><td>311.68218370725486</td><td>-60.15778385496827</td><td>0.3772321</td><td>SB26</td><td>37.267677</td><td>0.60977674</td><td>311.6819701782829</td><td>-60.15771809823727</td><td>9.049317</td><td>2.5344326</td><td>2.5065234</td><td>2.3701298</td><td>3.7486074</td><td>4.5074596</td><td>5.360254</td><td>6.282953</td><td>7.2018814</td><td>8.1922035</td><td>9.174659</td><td>10.215832</td><td>11.316963</td><td>18.011465</td><td>17.212872</td><td>16.609362</td><td>17.890486</td><td>17.095617</td><td>16.501747</td><td>17.7956</td><td>17.003231</td><td>16.415813</td><td>17.724556</td><td>16.932873</td><td>16.351442</td><td>17.674213</td><td>16.88341</td><td>16.306314</td><td>17.637867</td><td>16.847454</td><td>16.274595</td><td>17.613974</td><td>16.823631</td><td>16.250742</td><td>17.596737</td><td>16.805452</td><td>16.23273</td><td>17.584661</td><td>16.792227</td><td>16.220684</td><td>0.0271106</td><td>0.03580016</td><td>0.044821702</td><td>0.04606568</td><td>0.04248665</td><td>0.058688715</td><td>0.06138982</td><td>0.08101228</td><td>0.06897944</td><td>0.038286723</td><td>0.038399193</td><td>0.042705674</td><td>0.03511407</td><td>0.035257023</td><td>0.039255373</td><td>0.032415666</td><td>0.0326344</td><td>0.03647537</td><td>0.030571626</td><td>0.030768186</td><td>0.03451141</td><td>0.029262934</td><td>0.029472051</td><td>0.03318024</td><td>0.028343963</td><td>0.028556058</td><td>0.032272372</td><td>0.02775303</td><td>0.02795914</td><td>0.03159694</td><td>0.02727826</td><td>0.027469523</td><td>0.031076986</td><td>0.027046604</td><td>0.027188068</td><td>0.03077609</td><td>17.547606</td><td>0.26231307</td><td>0.22092265</td><td>3.1476464</td><td>0.004118985</td><td>16.751373</td><td>0.27314</td><td>0.23329324</td><td>2.9956362</td><td>0.0018884783</td><td>16.175776</td><td>0.29954964</td><td>0.22481349</td><td>2.723101</td><td>0.0016395395</td><td>0</td><td>-1.0</td><td>-1.0</td><td>-1.0</td><td>-1</td><td>-1.0</td><td>-1.0</td><td>-1.0</td><td>-1.0</td><td>-1.0</td><td>-1.0</td><td>-1.0</td><td>-1.0</td><td>-1.0</td><td>-1.0</td><td>-1.0</td><td>-1</td><td>-1.0</td><td>-1</td><td>-1</td></tr>\n",
       "<tr><td>5000105</td><td>SGA-2020 5000105</td><td>DR8-3271m602-4434</td><td>-1</td><td>327.20399904398926</td><td>-60.18927727041611</td><td>DEV</td><td>123.754814</td><td>0.46746832</td><td>0.33057404</td><td>-1.0</td><td>24.169014</td><td>17.191772</td><td>False</td><td>DR8</td><td>528871</td><td>DR8-3271m602-4434</td><td>1</td><td>True</td><td>327.20399904398926</td><td>-60.18927727041611</td><td>0.46746832</td><td>3271m602</td><td>327.203978257651</td><td>-60.189276288853094</td><td>0.58809745</td><td>SB26</td><td>123.90804</td><td>0.36832082</td><td>327.2038020754954</td><td>-60.189212464087056</td><td>11.211322</td><td>8.184088</td><td>9.01079</td><td>9.29529</td><td>1.4546129</td><td>3.2465594</td><td>4.8150015</td><td>6.613887</td><td>8.541795</td><td>10.596966</td><td>12.930577</td><td>15.2800045</td><td>17.642923</td><td>21.09287</td><td>20.572702</td><td>20.21215</td><td>19.79161</td><td>19.257528</td><td>18.920706</td><td>19.276733</td><td>18.73325</td><td>18.408928</td><td>18.950054</td><td>18.389452</td><td>18.075459</td><td>18.721958</td><td>18.148958</td><td>17.82809</td><td>18.556396</td><td>17.977125</td><td>17.659838</td><td>18.437012</td><td>17.84955</td><td>17.52815</td><td>18.359562</td><td>17.76108</td><td>17.436275</td><td>18.305994</td><td>17.70245</td><td>17.381977</td><td>0.037537128</td><td>0.05935818</td><td>0.06824799</td><td>0.103358984</td><td>0.11438411</td><td>0.13156846</td><td>0.17122948</td><td>0.14893575</td><td>0.22648528</td><td>0.06772707</td><td>0.06368487</td><td>0.07474274</td><td>0.05263248</td><td>0.049136057</td><td>0.054467082</td><td>0.04335729</td><td>0.040854607</td><td>0.04373058</td><td>0.03674146</td><td>0.03510042</td><td>0.037243858</td><td>0.0324937</td><td>0.031169055</td><td>0.032944854</td><td>0.029451791</td><td>0.02844182</td><td>0.030087413</td><td>0.02724927</td><td>0.026381092</td><td>0.027934</td><td>0.02586129</td><td>0.024865149</td><td>0.026217775</td><td>0.024876798</td><td>0.02386781</td><td>0.025352657</td><td>17.998127</td><td>1.4075223</td><td>0.5335039</td><td>1.404374</td><td>0.23679212</td><td>17.349401</td><td>1.4542434</td><td>0.58803564</td><td>1.3643383</td><td>0.15707539</td><td>17.00635</td><td>1.4553359</td><td>0.6143331</td><td>1.3328501</td><td>0.32982987</td><td>0</td><td>-1.0</td><td>-1.0</td><td>-1.0</td><td>-1</td><td>-1.0</td><td>-1.0</td><td>-1.0</td><td>-1.0</td><td>-1.0</td><td>-1.0</td><td>-1.0</td><td>-1.0</td><td>-1.0</td><td>-1.0</td><td>-1.0</td><td>-1</td><td>-1.0</td><td>-1</td><td>-1</td></tr>\n",
       "<tr><td>5000106</td><td>SGA-2020 5000106</td><td>DR8-3582m602-2634</td><td>-1</td><td>358.2285569660937</td><td>-60.29322425919397</td><td>COMP</td><td>173.39816</td><td>0.4267407</td><td>0.667444</td><td>-1.0</td><td>24.312376</td><td>17.533075</td><td>False</td><td>DR8</td><td>528872</td><td>DR8-3582m602-2634</td><td>1</td><td>True</td><td>358.2285569660937</td><td>-60.29322425919397</td><td>0.4267407</td><td>3582m602</td><td>358.2285543373415</td><td>-60.29323267198674</td><td>0.24782544</td><td>SB26</td><td>176.42456</td><td>0.9574692</td><td>358.22843712037223</td><td>-60.293154303094845</td><td>5.399659</td><td>7.5401325</td><td>4.0741067</td><td>3.144112</td><td>1.1066737</td><td>1.5228931</td><td>1.9941443</td><td>2.5765333</td><td>3.2772872</td><td>4.0921497</td><td>5.0237756</td><td>6.1178546</td><td>7.4347634</td><td>21.664864</td><td>19.927444</td><td>19.107903</td><td>21.239723</td><td>19.563234</td><td>18.767735</td><td>20.934557</td><td>19.311409</td><td>18.530838</td><td>20.684872</td><td>19.104795</td><td>18.334953</td><td>20.478848</td><td>18.937</td><td>18.173769</td><td>20.296925</td><td>18.796442</td><td>18.040031</td><td>20.150002</td><td>18.685743</td><td>17.94211</td><td>20.041786</td><td>18.595877</td><td>17.857811</td><td>19.933641</td><td>18.522131</td><td>17.791784</td><td>0.0019536219</td><td>0.0033075102</td><td>0.0032118992</td><td>0.006764245</td><td>0.00780156</td><td>0.016372308</td><td>0.02396838</td><td>0.049469784</td><td>0.04788394</td><td>0.017232051</td><td>0.014936631</td><td>0.018556543</td><td>0.013144351</td><td>0.010952096</td><td>0.013928725</td><td>0.0105386255</td><td>0.008860606</td><td>0.011524469</td><td>0.008950988</td><td>0.007497824</td><td>0.00987382</td><td>0.007977693</td><td>0.006695393</td><td>0.008848764</td><td>0.0076931613</td><td>0.005967062</td><td>0.008038869</td><td>0.0075699654</td><td>0.005753246</td><td>0.007813181</td><td>0.008043889</td><td>0.005662869</td><td>0.0077426797</td><td>0.00833468</td><td>0.0057246517</td><td>0.007991438</td><td>19.172474</td><td>4.3892117</td><td>0.1520997</td><td>0.73232853</td><td>2.9216607</td><td>18.04707</td><td>3.0274446</td><td>0.1311827</td><td>0.8531324</td><td>1.5159098</td><td>17.443909</td><td>1.6284821</td><td>0.1730422</td><td>1.0563608</td><td>0.7838654</td><td>0</td><td>-1.0</td><td>-1.0</td><td>-1.0</td><td>-1</td><td>-1.0</td><td>-1.0</td><td>-1.0</td><td>-1.0</td><td>-1.0</td><td>-1.0</td><td>-1.0</td><td>-1.0</td><td>-1.0</td><td>-1.0</td><td>-1.0</td><td>-1</td><td>-1.0</td><td>-1</td><td>-1</td></tr>\n",
       "<tr><td>5000093</td><td>SGA-2020 5000093</td><td>DR8-0958m607-87</td><td>-1</td><td>95.84579736045889</td><td>-60.87017495576278</td><td>COMP</td><td>6.862879</td><td>0.4688806</td><td>0.5160953</td><td>-1.0</td><td>23.910288</td><td>16.926497</td><td>False</td><td>DR8</td><td>528864</td><td>DR8-0958m607-87</td><td>1</td><td>True</td><td>95.84579736045889</td><td>-60.87017495576278</td><td>0.4688806</td><td>0958m607</td><td>95.84578318032922</td><td>-60.87017344852478</td><td>0.34734446</td><td>SB26</td><td>36.63736</td><td>0.62975144</td><td>95.84557069334618</td><td>-60.87012661444932</td><td>10.115272</td><td>4.2033725</td><td>3.8890688</td><td>3.6802142</td><td>2.304844</td><td>3.3932943</td><td>4.6027765</td><td>5.855651</td><td>6.9726844</td><td>7.8925357</td><td>8.694431</td><td>9.5464525</td><td>10.420334</td><td>19.486519</td><td>18.839628</td><td>18.40503</td><td>18.982243</td><td>18.389038</td><td>17.98708</td><td>18.642971</td><td>18.08769</td><td>17.711443</td><td>18.360989</td><td>17.840422</td><td>17.486338</td><td>18.190287</td><td>17.690369</td><td>17.348286</td><td>18.108591</td><td>17.615805</td><td>17.2824</td><td>18.064188</td><td>17.575932</td><td>17.242126</td><td>18.034115</td><td>17.54859</td><td>17.219515</td><td>18.013008</td><td>17.531202</td><td>17.198069</td><td>0.015102809</td><td>0.03331533</td><td>0.03932621</td><td>0.03971297</td><td>0.042289834</td><td>0.038883567</td><td>0.045974802</td><td>0.07088428</td><td>0.09811156</td><td>0.023367593</td><td>0.029627439</td><td>0.032148965</td><td>0.018821223</td><td>0.022861019</td><td>0.02498411</td><td>0.017120007</td><td>0.019729042</td><td>0.021428235</td><td>0.016255315</td><td>0.017668083</td><td>0.018843686</td><td>0.015214873</td><td>0.016264742</td><td>0.017198853</td><td>0.014372482</td><td>0.015332987</td><td>0.016392035</td><td>0.013914355</td><td>0.014855432</td><td>0.015892308</td><td>0.0135872485</td><td>0.014540428</td><td>0.015653433</td><td>0.013401592</td><td>0.014337021</td><td>0.015444129</td><td>17.987846</td><td>0.1931468</td><td>0.19323812</td><td>6.368651</td><td>1.7643019</td><td>17.50649</td><td>0.17463554</td><td>0.20027408</td><td>6.2514224</td><td>0.96978635</td><td>17.170492</td><td>0.17639524</td><td>0.22756033</td><td>5.7348347</td><td>0.8630334</td><td>0</td><td>-1.0</td><td>-1.0</td><td>-1.0</td><td>-1</td><td>-1.0</td><td>-1.0</td><td>-1.0</td><td>-1.0</td><td>-1.0</td><td>-1.0</td><td>-1.0</td><td>-1.0</td><td>-1.0</td><td>-1.0</td><td>-1.0</td><td>-1</td><td>-1.0</td><td>-1</td><td>-1</td></tr>\n",
       "<tr><td>5003392</td><td>SGA-2020 5003392</td><td>DR8-2411p472-3446</td><td>-1</td><td>241.03319839030343</td><td>47.349676720257634</td><td>PSF</td><td>0.0</td><td>0.344</td><td>1.0</td><td>-1.0</td><td>23.332514</td><td>17.02124</td><td>True</td><td>DR8</td><td>531344</td><td>DR8-2411p472-3446</td><td>1</td><td>True</td><td>241.03319839030343</td><td>47.349676720257634</td><td>0.344</td><td>2411p472</td><td>241.0331948562062</td><td>47.34967186945754</td><td>0.36360943</td><td>SB26</td><td>109.9096</td><td>0.9165981</td><td>241.03309056158568</td><td>47.34976222071839</td><td>8.682061</td><td>1.9049383</td><td>2.30394</td><td>2.0494843</td><td>3.7118149</td><td>4.509427</td><td>5.313996</td><td>6.114325</td><td>6.9329815</td><td>7.7613354</td><td>8.681544</td><td>9.721496</td><td>10.908283</td><td>17.243343</td><td>16.658142</td><td>16.160637</td><td>17.144438</td><td>16.540117</td><td>16.046865</td><td>17.075495</td><td>16.459087</td><td>15.973463</td><td>17.027739</td><td>16.403515</td><td>15.922847</td><td>16.995546</td><td>16.36484</td><td>15.890327</td><td>16.972334</td><td>16.337948</td><td>15.867161</td><td>16.95447</td><td>16.317652</td><td>15.851335</td><td>16.941713</td><td>16.30202</td><td>15.842204</td><td>16.932203</td><td>16.290209</td><td>15.835608</td><td>0.00481967</td><td>0.004891338</td><td>0.009491605</td><td>0.0105752265</td><td>0.013222079</td><td>0.020374026</td><td>0.025012534</td><td>0.061723646</td><td>0.09414528</td><td>0.010301288</td><td>0.0059837424</td><td>0.012279851</td><td>0.009382037</td><td>0.0053333608</td><td>0.010729453</td><td>0.008854858</td><td>0.0050711907</td><td>0.010399376</td><td>0.008445666</td><td>0.0047555426</td><td>0.009612835</td><td>0.008243402</td><td>0.0046831467</td><td>0.009671972</td><td>0.008042059</td><td>0.0045056203</td><td>0.009178275</td><td>0.007919752</td><td>0.004438654</td><td>0.009072405</td><td>0.007834143</td><td>0.0043875477</td><td>0.009025627</td><td>0.007774089</td><td>0.004357446</td><td>0.00900043</td><td>16.90925</td><td>0.21193907</td><td>0.15115295</td><td>3.263453</td><td>0.008128283</td><td>16.261354</td><td>0.27702454</td><td>0.14449826</td><td>3.1218348</td><td>0.0052086157</td><td>15.821025</td><td>0.19504343</td><td>0.10215698</td><td>3.8602085</td><td>0.085215494</td><td>0</td><td>-1.0</td><td>-1.0</td><td>-1.0</td><td>-1</td><td>-1.0</td><td>-1.0</td><td>-1.0</td><td>-1.0</td><td>-1.0</td><td>-1.0</td><td>-1.0</td><td>-1.0</td><td>-1.0</td><td>-1.0</td><td>-1.0</td><td>-1</td><td>-1.0</td><td>-1</td><td>-1</td></tr>\n",
       "<tr><td>5000671</td><td>SGA-2020 5000671</td><td>DR8-0082m222-1061</td><td>-1</td><td>8.19552610093737</td><td>-22.32483368225319</td><td>DEV</td><td>156.1808</td><td>0.51407033</td><td>0.7783969</td><td>-1.0</td><td>24.378393</td><td>17.1948</td><td>False</td><td>DR8</td><td>529317</td><td>DR8-0082m222-1061</td><td>1</td><td>True</td><td>8.19552610093737</td><td>-22.32483368225319</td><td>0.51407033</td><td>0082m222</td><td>8.19552507428572</td><td>-22.32484518833573</td><td>0.33491746</td><td>SB26</td><td>177.94041</td><td>0.7322651</td><td>8.195404665332452</td><td>-22.324811866592423</td><td>8.540585</td><td>7.1204305</td><td>6.4915442</td><td>13.661813</td><td>0.2647428</td><td>0.94710654</td><td>2.3608894</td><td>3.59501</td><td>5.0403123</td><td>6.489762</td><td>7.7356973</td><td>8.957508</td><td>10.0475235</td><td>24.490732</td><td>23.780666</td><td>23.331232</td><td>21.83318</td><td>21.17994</td><td>20.847519</td><td>20.278826</td><td>19.726152</td><td>19.419912</td><td>19.685152</td><td>19.192759</td><td>18.909187</td><td>19.227568</td><td>18.776237</td><td>18.512466</td><td>18.94064</td><td>18.516218</td><td>18.257977</td><td>18.78416</td><td>18.363235</td><td>18.102661</td><td>18.682875</td><td>18.272362</td><td>18.003407</td><td>18.621006</td><td>18.223305</td><td>17.92905</td><td>0.010989847</td><td>0.015071178</td><td>0.01585197</td><td>0.02703369</td><td>0.031104797</td><td>0.05338847</td><td>0.06331625</td><td>0.060011346</td><td>0.118697055</td><td>0.06866005</td><td>0.15131792</td><td>0.056195572</td><td>0.042547558</td><td>0.05097767</td><td>0.059147857</td><td>0.018270904</td><td>0.022107337</td><td>0.028877709</td><td>0.012936144</td><td>0.015495257</td><td>0.02218661</td><td>0.011157171</td><td>0.012569907</td><td>0.018664086</td><td>0.010438955</td><td>0.011411711</td><td>0.017429894</td><td>0.009825037</td><td>0.010572101</td><td>0.016987693</td><td>0.0095630875</td><td>0.010280984</td><td>0.01674769</td><td>0.009408203</td><td>0.010172472</td><td>0.01654887</td><td>18.116531</td><td>1.268059</td><td>0.47584373</td><td>1.567354</td><td>18.606615</td><td>17.770554</td><td>1.1486329</td><td>0.46623585</td><td>1.5868546</td><td>15.616654</td><td>16.96906</td><td>2.4920237</td><td>0.4654651</td><td>0.89045</td><td>2.9809487</td><td>0</td><td>-1.0</td><td>-1.0</td><td>-1.0</td><td>-1</td><td>-1.0</td><td>-1.0</td><td>-1.0</td><td>-1.0</td><td>-1.0</td><td>-1.0</td><td>-1.0</td><td>-1.0</td><td>-1.0</td><td>-1.0</td><td>-1.0</td><td>-1</td><td>-1.0</td><td>-1</td><td>-1</td></tr>\n",
       "<tr><td>...</td><td>...</td><td>...</td><td>...</td><td>...</td><td>...</td><td>...</td><td>...</td><td>...</td><td>...</td><td>...</td><td>...</td><td>...</td><td>...</td><td>...</td><td>...</td><td>...</td><td>...</td><td>...</td><td>...</td><td>...</td><td>...</td><td>...</td><td>...</td><td>...</td><td>...</td><td>...</td><td>...</td><td>...</td><td>...</td><td>...</td><td>...</td><td>...</td><td>...</td><td>...</td><td>...</td><td>...</td><td>...</td><td>...</td><td>...</td><td>...</td><td>...</td><td>...</td><td>...</td><td>...</td><td>...</td><td>...</td><td>...</td><td>...</td><td>...</td><td>...</td><td>...</td><td>...</td><td>...</td><td>...</td><td>...</td><td>...</td><td>...</td><td>...</td><td>...</td><td>...</td><td>...</td><td>...</td><td>...</td><td>...</td><td>...</td><td>...</td><td>...</td><td>...</td><td>...</td><td>...</td><td>...</td><td>...</td><td>...</td><td>...</td><td>...</td><td>...</td><td>...</td><td>...</td><td>...</td><td>...</td><td>...</td><td>...</td><td>...</td><td>...</td><td>...</td><td>...</td><td>...</td><td>...</td><td>...</td><td>...</td><td>...</td><td>...</td><td>...</td><td>...</td><td>...</td><td>...</td><td>...</td><td>...</td><td>...</td><td>...</td><td>...</td><td>...</td><td>...</td><td>...</td><td>...</td><td>...</td><td>...</td><td>...</td><td>...</td><td>...</td><td>...</td><td>...</td><td>...</td><td>...</td><td>...</td><td>...</td><td>...</td><td>...</td><td>...</td><td>...</td><td>...</td><td>...</td><td>...</td><td>...</td><td>...</td><td>...</td><td>...</td><td>...</td><td>...</td><td>...</td><td>...</td><td>...</td><td>...</td><td>...</td><td>...</td><td>...</td><td>...</td><td>...</td><td>...</td><td>...</td><td>...</td></tr>\n",
       "<tr><td>1381636</td><td>SGA-2020 1381636</td><td>SDSSJ084556.57+533919.5</td><td>6655844</td><td>131.485701</td><td>53.65544379999999</td><td>E</td><td>95.67</td><td>0.3349654</td><td>0.5546257</td><td>0.18141483</td><td>25.113482</td><td>18.86</td><td>False</td><td>LEDA-20181114</td><td>505249</td><td>SDSSJ084556.57+533919.5</td><td>1</td><td>True</td><td>131.485701</td><td>53.65544379999999</td><td>0.3349654</td><td>1314p537</td><td>131.485513332869</td><td>53.65552786241768</td><td>0.90785563</td><td>SB26</td><td>100.781906</td><td>0.46966988</td><td>131.48501097335733</td><td>53.655693283414486</td><td>19.27131</td><td>19.645798</td><td>18.474365</td><td>6.119243</td><td>3.2048464</td><td>5.3000298</td><td>6.868498</td><td>8.733146</td><td>10.891547</td><td>13.799854</td><td>17.674564</td><td>22.38903</td><td>27.235668</td><td>19.617006</td><td>18.344181</td><td>17.434069</td><td>18.978195</td><td>17.674133</td><td>16.850527</td><td>18.723785</td><td>17.416801</td><td>16.62731</td><td>18.533216</td><td>17.225698</td><td>16.458725</td><td>18.376013</td><td>17.077702</td><td>16.329185</td><td>18.221233</td><td>16.928686</td><td>16.220829</td><td>18.096092</td><td>16.81081</td><td>16.13823</td><td>17.982832</td><td>16.693537</td><td>16.08931</td><td>17.898993</td><td>16.599098</td><td>16.06033</td><td>0.02145444</td><td>0.024300767</td><td>0.02659843</td><td>0.038242504</td><td>0.049760833</td><td>0.08221394</td><td>0.1245344</td><td>0.18116935</td><td>0.33597404</td><td>0.06416799</td><td>0.050728355</td><td>0.05993947</td><td>0.03762428</td><td>0.029434409</td><td>0.03632072</td><td>0.030153323</td><td>0.023723181</td><td>0.02987621</td><td>0.025530338</td><td>0.020114306</td><td>0.025720255</td><td>0.022249224</td><td>0.017710531</td><td>0.02294827</td><td>0.019440806</td><td>0.015559579</td><td>0.020865593</td><td>0.017504236</td><td>0.014118455</td><td>0.019410819</td><td>0.015995648</td><td>0.012845607</td><td>0.01868493</td><td>0.014987484</td><td>0.011922889</td><td>0.0183018</td><td>17.28751</td><td>73180.23</td><td>1.5632104e-05</td><td>0.62010896</td><td>0.3111535</td><td>16.02202</td><td>74812.266</td><td>1.4850441e-05</td><td>0.634582</td><td>3.317102</td><td>15.9725685</td><td>0.92735827</td><td>0.53775245</td><td>1.719592</td><td>0.2274793</td><td>0</td><td>-1.0</td><td>-1.0</td><td>-1.0</td><td>-1</td><td>-1.0</td><td>-1.0</td><td>-1.0</td><td>-1.0</td><td>-1.0</td><td>-1.0</td><td>-1.0</td><td>-1.0</td><td>-1.0</td><td>-1.0</td><td>-1.0</td><td>-1</td><td>-1.0</td><td>-1</td><td>-1</td></tr>\n",
       "<tr><td>192068</td><td>SGA-2020 192068</td><td>SDSSJ081707.55+511127.7</td><td>6655947</td><td>124.28238088651509</td><td>51.19128628720261</td><td></td><td>71.97</td><td>0.36812896</td><td>0.22594357</td><td>0.17712219</td><td>25.81748</td><td>19.359</td><td>True</td><td>LEDA-20181114</td><td>69573</td><td>SDSSJ081707.55+511127.7</td><td>1</td><td>True</td><td>124.28238088651509</td><td>51.19128628720261</td><td>0.36812896</td><td>1244p512</td><td>124.28286712681074</td><td>51.191316969084056</td><td>0.5698969</td><td>SB26</td><td>38.01268</td><td>0.60827065</td><td>124.28264919212468</td><td>51.19135772249885</td><td>11.790564</td><td>26.220972</td><td>32.505302</td><td>4.255241</td><td>2.9588587</td><td>3.7123146</td><td>4.66305</td><td>5.8716984</td><td>7.5463243</td><td>9.732671</td><td>12.048173</td><td>14.47257</td><td>17.096907</td><td>19.246832</td><td>17.866617</td><td>17.068176</td><td>19.053019</td><td>17.69755</td><td>16.92151</td><td>18.893269</td><td>17.556864</td><td>16.796852</td><td>18.74582</td><td>17.433514</td><td>16.697847</td><td>18.601437</td><td>17.307768</td><td>16.598597</td><td>18.472775</td><td>17.188192</td><td>16.493504</td><td>18.369629</td><td>17.095926</td><td>16.426714</td><td>18.285688</td><td>17.01381</td><td>16.371881</td><td>18.218992</td><td>16.959127</td><td>16.347162</td><td>0.023079297</td><td>0.04086215</td><td>0.05482284</td><td>0.078915626</td><td>0.09437602</td><td>0.08666526</td><td>0.09979178</td><td>0.118369386</td><td>0.12936331</td><td>0.034474935</td><td>0.041634373</td><td>0.0527702</td><td>0.030878717</td><td>0.036941394</td><td>0.047334947</td><td>0.028247554</td><td>0.033442415</td><td>0.0430739</td><td>0.025652625</td><td>0.030590272</td><td>0.040022045</td><td>0.023055358</td><td>0.02769982</td><td>0.036951464</td><td>0.020845573</td><td>0.025080584</td><td>0.033801246</td><td>0.019185174</td><td>0.023202341</td><td>0.03195588</td><td>0.017905246</td><td>0.021613762</td><td>0.03049109</td><td>0.016926548</td><td>0.02059854</td><td>0.029887747</td><td>17.315825</td><td>28263.938</td><td>4.0299303e-05</td><td>0.42989406</td><td>0.21140626</td><td>15.998731</td><td>12815.154</td><td>9.1607675e-05</td><td>0.37716883</td><td>0.27228743</td><td>16.10019</td><td>0.900625</td><td>0.53558946</td><td>1.0434191</td><td>0.28794855</td><td>0</td><td>-1.0</td><td>-1.0</td><td>-1.0</td><td>-1</td><td>-1.0</td><td>-1.0</td><td>-1.0</td><td>-1.0</td><td>-1.0</td><td>-1.0</td><td>-1.0</td><td>-1.0</td><td>-1.0</td><td>-1.0</td><td>-1.0</td><td>-1</td><td>-1.0</td><td>-1</td><td>-1</td></tr>\n",
       "<tr><td>1015032</td><td>SGA-2020 1015032</td><td>SDSSJ120341.63+275957.9</td><td>6656953</td><td>180.92358149999998</td><td>27.999443699999997</td><td>Sbc</td><td>168.6</td><td>0.5834451</td><td>0.379315</td><td>0.13893944</td><td>25.544481</td><td>18.086</td><td>False</td><td>LEDA-20181114</td><td>303346</td><td>SDSSJ120341.63+275957.9_GROUP</td><td>3</td><td>True</td><td>180.9212985046776</td><td>27.998505136513337</td><td>0.75372183</td><td>1809p280</td><td>180.92359944729975</td><td>27.999443129696207</td><td>0.8077715</td><td>SB26</td><td>162.69438</td><td>0.43797576</td><td>180.92371366548593</td><td>27.999202931310073</td><td>15.937034</td><td>8.241134</td><td>7.70254</td><td>7.259966</td><td>3.206125</td><td>5.950151</td><td>7.876542</td><td>9.721162</td><td>11.51854</td><td>13.64122</td><td>16.679659</td><td>20.331114</td><td>24.233145</td><td>19.737555</td><td>18.619164</td><td>17.707706</td><td>18.761906</td><td>17.666943</td><td>16.795593</td><td>18.3967</td><td>17.320261</td><td>16.475294</td><td>18.155092</td><td>17.133202</td><td>16.313765</td><td>17.992344</td><td>16.996462</td><td>16.210371</td><td>17.877838</td><td>16.900969</td><td>16.120815</td><td>17.78587</td><td>16.821604</td><td>16.040777</td><td>17.721733</td><td>16.758123</td><td>15.982839</td><td>17.652637</td><td>16.6967</td><td>15.932339</td><td>0.11108169</td><td>0.1090004</td><td>0.110301286</td><td>0.15792286</td><td>0.122607596</td><td>0.18852842</td><td>0.21782541</td><td>0.21479286</td><td>0.33606178</td><td>0.044466127</td><td>0.053559944</td><td>0.06406398</td><td>0.040328447</td><td>0.046081588</td><td>0.05219833</td><td>0.036476463</td><td>0.04033911</td><td>0.044750202</td><td>0.032531247</td><td>0.035964098</td><td>0.040050626</td><td>0.030211946</td><td>0.03310702</td><td>0.03697897</td><td>0.02816797</td><td>0.030891443</td><td>0.034441527</td><td>0.026085349</td><td>0.028939256</td><td>0.032155618</td><td>0.024806887</td><td>0.027418455</td><td>0.030550003</td><td>0.023556186</td><td>0.025985079</td><td>0.029230917</td><td>17.581604</td><td>0.69125044</td><td>1.2055752</td><td>2.5397527</td><td>0.9411545</td><td>16.597622</td><td>1.0361096</td><td>0.6367639</td><td>1.9793861</td><td>0.5039726</td><td>15.812825</td><td>1.473543</td><td>0.38964978</td><td>1.6763681</td><td>0.23054382</td><td>0</td><td>-1.0</td><td>-1.0</td><td>-1.0</td><td>-1</td><td>-1.0</td><td>-1.0</td><td>-1.0</td><td>-1.0</td><td>-1.0</td><td>-1.0</td><td>-1.0</td><td>-1.0</td><td>-1.0</td><td>-1.0</td><td>-1.0</td><td>-1</td><td>-1.0</td><td>-1</td><td>-1</td></tr>\n",
       "<tr><td>163773</td><td>SGA-2020 163773</td><td>MSB2017_J1408+56</td><td>6657065</td><td>212.170833</td><td>56.92722220000001</td><td></td><td>0.0</td><td>0.36666667</td><td>1.0</td><td>-99.0</td><td>24.71984</td><td>18.27</td><td>True</td><td>LEDA-20181114</td><td>59011</td><td>MSB2017_J1408+56</td><td>1</td><td>True</td><td>212.170833</td><td>56.92722220000001</td><td>0.36666667</td><td>2122p570</td><td>212.171159955593</td><td>56.926595549320815</td><td>0.58524245</td><td>SB26</td><td>50.73783</td><td>0.4828788</td><td>212.1707516989119</td><td>56.926627496412706</td><td>9.405043</td><td>15.877693</td><td>16.633938</td><td>8.064359</td><td>-1.0</td><td>-1.0</td><td>-1.0</td><td>-1.0</td><td>2.6530533</td><td>6.095575</td><td>10.717708</td><td>14.651399</td><td>17.557274</td><td>-1.0</td><td>-1.0</td><td>-1.0</td><td>-1.0</td><td>-1.0</td><td>-1.0</td><td>-1.0</td><td>-1.0</td><td>-1.0</td><td>-1.0</td><td>-1.0</td><td>-1.0</td><td>21.625917</td><td>21.187191</td><td>21.246511</td><td>20.063698</td><td>19.643198</td><td>19.8808</td><td>19.182755</td><td>18.779291</td><td>19.256529</td><td>18.79556</td><td>18.392824</td><td>19.051292</td><td>18.618816</td><td>18.218784</td><td>18.96972</td><td>-1.0</td><td>-1.0</td><td>-1.0</td><td>-1.0</td><td>0.04900321</td><td>0.12553737</td><td>0.14137444</td><td>0.22693798</td><td>0.34099555</td><td>-1.0</td><td>-1.0</td><td>-1.0</td><td>-1.0</td><td>-1.0</td><td>-1.0</td><td>-1.0</td><td>-1.0</td><td>-1.0</td><td>-1.0</td><td>-1.0</td><td>-1.0</td><td>0.024730783</td><td>0.022632247</td><td>0.061896753</td><td>0.0155524425</td><td>0.016901288</td><td>0.03857256</td><td>0.01526508</td><td>0.016313702</td><td>0.03891823</td><td>0.013758953</td><td>0.01469708</td><td>0.04103073</td><td>0.012740955</td><td>0.013579273</td><td>0.042758927</td><td>17.96158</td><td>1.1124256</td><td>2.2624726</td><td>1.8385125</td><td>0.05919084</td><td>17.515175</td><td>1.1819742</td><td>2.1476247</td><td>1.7305608</td><td>0.15930454</td><td>18.778017</td><td>0.87467015</td><td>0.8490365</td><td>2.2040992</td><td>0.00031231687</td><td>0</td><td>-1.0</td><td>-1.0</td><td>-1.0</td><td>-1</td><td>-1.0</td><td>-1.0</td><td>-1.0</td><td>-1.0</td><td>-1.0</td><td>-1.0</td><td>-1.0</td><td>-1.0</td><td>-1.0</td><td>-1.0</td><td>-1.0</td><td>-1</td><td>-1.0</td><td>-1</td><td>-1</td></tr>\n",
       "<tr><td>259065</td><td>SGA-2020 259065</td><td>MSB2017_J1305+41</td><td>6657076</td><td>196.3716</td><td>41.8938</td><td></td><td>0.0</td><td>0.40666667</td><td>1.0</td><td>-99.0</td><td>23.994673</td><td>17.32</td><td>True</td><td>LEDA-20181114</td><td>94630</td><td>MSB2017_J1305+41</td><td>1</td><td>True</td><td>196.3716</td><td>41.8938</td><td>0.40666667</td><td>1962p420</td><td>196.37132998092522</td><td>41.8932195346971</td><td>0.66303176</td><td>SB26</td><td>52.223404</td><td>0.9118806</td><td>196.37112279893566</td><td>41.893266881498754</td><td>13.664224</td><td>19.533525</td><td>18.815765</td><td>6.1085525</td><td>-1.0</td><td>-1.0</td><td>-1.0</td><td>2.910728</td><td>5.822521</td><td>9.797999</td><td>13.057665</td><td>16.531813</td><td>19.890953</td><td>-1.0</td><td>-1.0</td><td>-1.0</td><td>-1.0</td><td>-1.0</td><td>-1.0</td><td>-1.0</td><td>-1.0</td><td>-1.0</td><td>20.151731</td><td>19.754078</td><td>19.91731</td><td>18.801258</td><td>18.432663</td><td>18.642662</td><td>18.060808</td><td>17.693975</td><td>18.068945</td><td>17.771181</td><td>17.392496</td><td>17.932392</td><td>17.565676</td><td>17.185678</td><td>17.863697</td><td>17.422804</td><td>17.042221</td><td>17.85511</td><td>-1.0</td><td>-1.0</td><td>-1.0</td><td>0.01898834</td><td>0.03100518</td><td>0.039650068</td><td>0.0660397</td><td>0.08333549</td><td>0.15105432</td><td>-1.0</td><td>-1.0</td><td>-1.0</td><td>-1.0</td><td>-1.0</td><td>-1.0</td><td>-1.0</td><td>-1.0</td><td>-1.0</td><td>0.008788423</td><td>0.0092661325</td><td>0.030514777</td><td>0.005188027</td><td>0.005262448</td><td>0.01739371</td><td>0.00393001</td><td>0.0040864726</td><td>0.015194148</td><td>0.0034638399</td><td>0.003603017</td><td>0.016705519</td><td>0.0031898906</td><td>0.003404639</td><td>0.01882653</td><td>0.003039708</td><td>0.003299739</td><td>0.021213887</td><td>16.685862</td><td>3.7185729</td><td>0.4417826</td><td>1.012266</td><td>11.173057</td><td>16.331194</td><td>2.8898659</td><td>0.5920997</td><td>1.0889734</td><td>3.7448015</td><td>17.819023</td><td>0.647334</td><td>0.44158864</td><td>3.256265</td><td>0.34275523</td><td>0</td><td>-1.0</td><td>-1.0</td><td>-1.0</td><td>-1</td><td>-1.0</td><td>-1.0</td><td>-1.0</td><td>-1.0</td><td>-1.0</td><td>-1.0</td><td>-1.0</td><td>-1.0</td><td>-1.0</td><td>-1.0</td><td>-1.0</td><td>-1</td><td>-1.0</td><td>-1</td><td>-1</td></tr>\n",
       "<tr><td>706307</td><td>SGA-2020 706307</td><td>MSB2017_J1308+40</td><td>6657077</td><td>197.1916665</td><td>40.9011111</td><td></td><td>0.0</td><td>0.36666667</td><td>1.0</td><td>-99.0</td><td>24.89984</td><td>18.45</td><td>True</td><td>LEDA-20181114</td><td>258969</td><td>MSB2017_J1308+40</td><td>1</td><td>True</td><td>197.1916665</td><td>40.9011111</td><td>0.36666667</td><td>1973p410</td><td>197.19137793031447</td><td>40.901048874962804</td><td>0.68482155</td><td>SB26</td><td>88.6135</td><td>0.43416804</td><td>197.19112395226895</td><td>40.90114986353322</td><td>13.771014</td><td>21.397373</td><td>15.1284</td><td>8.650713</td><td>-1.0</td><td>-1.0</td><td>-1.0</td><td>-1.0</td><td>2.0416327</td><td>5.9897866</td><td>11.135965</td><td>16.2076</td><td>20.544647</td><td>-1.0</td><td>-1.0</td><td>-1.0</td><td>-1.0</td><td>-1.0</td><td>-1.0</td><td>-1.0</td><td>-1.0</td><td>-1.0</td><td>-1.0</td><td>-1.0</td><td>-1.0</td><td>22.689522</td><td>22.04564</td><td>21.906284</td><td>20.474197</td><td>19.88835</td><td>19.787655</td><td>19.428696</td><td>18.815996</td><td>18.888979</td><td>18.945002</td><td>18.356041</td><td>18.602873</td><td>18.695383</td><td>18.123974</td><td>18.531347</td><td>-1.0</td><td>-1.0</td><td>-1.0</td><td>-1.0</td><td>0.060773477</td><td>0.06677961</td><td>0.13201728</td><td>0.1221379</td><td>0.20880674</td><td>-1.0</td><td>-1.0</td><td>-1.0</td><td>-1.0</td><td>-1.0</td><td>-1.0</td><td>-1.0</td><td>-1.0</td><td>-1.0</td><td>-1.0</td><td>-1.0</td><td>-1.0</td><td>0.04236685</td><td>0.037515614</td><td>0.08954121</td><td>0.016390966</td><td>0.015259452</td><td>0.033005722</td><td>0.011452674</td><td>0.012146447</td><td>0.026643632</td><td>0.009841064</td><td>0.010819584</td><td>0.02718492</td><td>0.009124575</td><td>0.010522271</td><td>0.03044903</td><td>17.906374</td><td>1.4898592</td><td>2.101282</td><td>1.5279807</td><td>0.12883934</td><td>17.670845</td><td>0.9590376</td><td>2.9476821</td><td>2.1874077</td><td>1.3483498</td><td>18.440636</td><td>0.64043385</td><td>1.4109446</td><td>3.1842403</td><td>0.12957327</td><td>0</td><td>-1.0</td><td>-1.0</td><td>-1.0</td><td>-1</td><td>-1.0</td><td>-1.0</td><td>-1.0</td><td>-1.0</td><td>-1.0</td><td>-1.0</td><td>-1.0</td><td>-1.0</td><td>-1.0</td><td>-1.0</td><td>-1.0</td><td>-1</td><td>-1.0</td><td>-1</td><td>-1</td></tr>\n",
       "<tr><td>616723</td><td>SGA-2020 616723</td><td>2MASXJ22553169+1917333</td><td>6728423</td><td>343.882104</td><td>19.2925833</td><td></td><td>120.0</td><td>0.33342642</td><td>0.6516284</td><td>0.036795452</td><td>21.343481</td><td>15.1</td><td>False</td><td>LEDA-20181114</td><td>226148</td><td>2MASXJ22553169+1917333</td><td>1</td><td>True</td><td>343.882104</td><td>19.2925833</td><td>0.33342642</td><td>3440p192</td><td>343.88230356417046</td><td>19.29255109954895</td><td>1.3891104</td><td>SB26</td><td>103.098976</td><td>0.38874847</td><td>343.88259982194063</td><td>19.29251533055245</td><td>26.466312</td><td>8.4434805</td><td>8.7295</td><td>9.090706</td><td>10.608587</td><td>13.014946</td><td>15.541839</td><td>17.929342</td><td>20.888144</td><td>24.904701</td><td>31.448812</td><td>37.005264</td><td>41.673313</td><td>16.029053</td><td>15.406702</td><td>14.92092</td><td>15.892499</td><td>15.267762</td><td>14.790253</td><td>15.800121</td><td>15.174032</td><td>14.699166</td><td>15.746087</td><td>15.113318</td><td>14.639041</td><td>15.689497</td><td>15.055291</td><td>14.5771475</td><td>15.64972</td><td>15.012168</td><td>14.532978</td><td>15.60892</td><td>14.9699135</td><td>14.483572</td><td>15.576314</td><td>14.936018</td><td>14.4432955</td><td>15.556289</td><td>14.914095</td><td>14.418763</td><td>0.13050835</td><td>0.11635388</td><td>0.14874108</td><td>0.15351556</td><td>0.18362059</td><td>0.24007733</td><td>0.2852556</td><td>0.34795675</td><td>0.3434295</td><td>0.03815936</td><td>0.03886769</td><td>0.042758264</td><td>0.034829862</td><td>0.035236727</td><td>0.03887225</td><td>0.032369602</td><td>0.032672122</td><td>0.036024667</td><td>0.030834239</td><td>0.031005744</td><td>0.0340593</td><td>0.029450262</td><td>0.029517455</td><td>0.03237433</td><td>0.028419662</td><td>0.028403513</td><td>0.03112243</td><td>0.027313221</td><td>0.02731104</td><td>0.02965691</td><td>0.026598318</td><td>0.026519107</td><td>0.02869976</td><td>0.026119547</td><td>0.025998466</td><td>0.028070174</td><td>15.477656</td><td>17482.045</td><td>3.411209e-05</td><td>1.3753492</td><td>0.16354679</td><td>14.826298</td><td>11667.472</td><td>5.3780266e-05</td><td>1.3381327</td><td>0.16153426</td><td>14.285724</td><td>9333.491</td><td>7.251292e-05</td><td>1.1136502</td><td>0.1708866</td><td>0</td><td>-1.0</td><td>-1.0</td><td>-1.0</td><td>-1</td><td>-1.0</td><td>-1.0</td><td>-1.0</td><td>-1.0</td><td>-1.0</td><td>-1.0</td><td>-1.0</td><td>-1.0</td><td>-1.0</td><td>-1.0</td><td>-1.0</td><td>-1</td><td>-1.0</td><td>-1</td><td>-1</td></tr>\n",
       "<tr><td>1322974</td><td>SGA-2020 1322974</td><td>OBC97_N07-1</td><td>6740580</td><td>219.70549950000003</td><td>20.178222199999997</td><td></td><td>0.0</td><td>0.34434992</td><td>1.0</td><td>-99.0</td><td>24.71348</td><td>18.4</td><td>True</td><td>LEDA-20181114</td><td>485274</td><td>OBC97_N07-1</td><td>1</td><td>True</td><td>219.70549950000003</td><td>20.178222199999997</td><td>0.34434992</td><td>2197p202</td><td>219.70547953286695</td><td>20.178220642926885</td><td>0.6604175</td><td>SB26</td><td>47.181854</td><td>0.3085205</td><td>219.70535713588458</td><td>20.17829278288451</td><td>12.396978</td><td>12.324828</td><td>10.420617</td><td>11.950062</td><td>0.96932715</td><td>2.574895</td><td>5.1753573</td><td>7.5578337</td><td>10.014726</td><td>12.43931</td><td>14.975536</td><td>17.576817</td><td>19.812525</td><td>22.470488</td><td>21.859222</td><td>21.638268</td><td>20.547432</td><td>20.010117</td><td>19.768991</td><td>19.39724</td><td>18.896023</td><td>18.641176</td><td>18.901817</td><td>18.425837</td><td>18.156912</td><td>18.580412</td><td>18.126343</td><td>17.853626</td><td>18.370375</td><td>17.92589</td><td>17.648806</td><td>18.221046</td><td>17.795376</td><td>17.515776</td><td>18.123287</td><td>17.713139</td><td>17.416056</td><td>18.079092</td><td>17.670403</td><td>17.358076</td><td>0.026884958</td><td>0.06656205</td><td>0.07487173</td><td>0.12117621</td><td>0.19151749</td><td>0.19990145</td><td>0.14730681</td><td>0.21696524</td><td>0.20905368</td><td>0.02913667</td><td>0.03380056</td><td>0.038944688</td><td>0.0327753</td><td>0.044457175</td><td>0.04132127</td><td>0.03143977</td><td>0.036128264</td><td>0.03556559</td><td>0.02995043</td><td>0.033552274</td><td>0.03198465</td><td>0.028007496</td><td>0.030757166</td><td>0.029363044</td><td>0.02633924</td><td>0.028487535</td><td>0.027352285</td><td>0.024906307</td><td>0.026910238</td><td>0.025714</td><td>0.023810709</td><td>0.025716843</td><td>0.02436761</td><td>0.023189954</td><td>0.02504026</td><td>0.023758963</td><td>17.633333</td><td>1.4967467</td><td>0.8794937</td><td>1.421917</td><td>1.3982863</td><td>17.33023</td><td>1.2819827</td><td>0.8519915</td><td>1.5690289</td><td>0.98505014</td><td>16.937494</td><td>1.4649441</td><td>0.8646768</td><td>1.4192353</td><td>0.2699432</td><td>0</td><td>-1.0</td><td>-1.0</td><td>-1.0</td><td>-1</td><td>-1.0</td><td>-1.0</td><td>-1.0</td><td>-1.0</td><td>-1.0</td><td>-1.0</td><td>-1.0</td><td>-1.0</td><td>-1.0</td><td>-1.0</td><td>-1.0</td><td>-1</td><td>-1.0</td><td>-1</td><td>-1</td></tr>\n",
       "<tr><td>680722</td><td>SGA-2020 680722</td><td>EKS2015_RS0955</td><td>6740714</td><td>196.584</td><td>4.1501002</td><td></td><td>30.0</td><td>0.43233332</td><td>0.5</td><td>-99.0</td><td>24.692575</td><td>17.885</td><td>True</td><td>LEDA-20181114</td><td>247649</td><td>EKS2015_RS0955</td><td>1</td><td>True</td><td>196.584</td><td>4.1501002</td><td>0.43233332</td><td>1966p042</td><td>196.58453004994354</td><td>4.150449008524681</td><td>0.51801646</td><td>SB26</td><td>27.8532</td><td>0.63095343</td><td>196.58450391969455</td><td>4.150583973229383</td><td>13.641732</td><td>8.403328</td><td>8.579344</td><td>8.9144335</td><td>-1.0</td><td>-1.0</td><td>-1.0</td><td>2.4525337</td><td>5.999064</td><td>9.000806</td><td>11.946341</td><td>14.010179</td><td>15.540493</td><td>-1.0</td><td>-1.0</td><td>-1.0</td><td>-1.0</td><td>-1.0</td><td>-1.0</td><td>-1.0</td><td>-1.0</td><td>-1.0</td><td>20.969837</td><td>20.666525</td><td>20.462996</td><td>19.258673</td><td>18.912659</td><td>18.711302</td><td>18.569925</td><td>18.228273</td><td>18.007591</td><td>18.23849</td><td>17.90323</td><td>17.676832</td><td>18.11638</td><td>17.77918</td><td>17.539978</td><td>18.053371</td><td>17.710043</td><td>17.462769</td><td>-1.0</td><td>-1.0</td><td>-1.0</td><td>0.042871237</td><td>0.10295274</td><td>0.08178099</td><td>0.11206135</td><td>0.13521013</td><td>0.1286146</td><td>-1.0</td><td>-1.0</td><td>-1.0</td><td>-1.0</td><td>-1.0</td><td>-1.0</td><td>-1.0</td><td>-1.0</td><td>-1.0</td><td>0.022737056</td><td>0.019431813</td><td>0.037241165</td><td>0.014586467</td><td>0.012415101</td><td>0.017076166</td><td>0.011434039</td><td>0.010220548</td><td>0.013098819</td><td>0.010152266</td><td>0.009238782</td><td>0.01216015</td><td>0.009866379</td><td>0.009067176</td><td>0.011967325</td><td>0.0097371135</td><td>0.0090295775</td><td>0.011900776</td><td>17.92526</td><td>0.48405787</td><td>1.8492088</td><td>4.0392656</td><td>0.5897124</td><td>17.551624</td><td>0.5682978</td><td>1.5978823</td><td>3.5655272</td><td>1.1108413</td><td>17.280184</td><td>0.58595294</td><td>1.7533054</td><td>3.470009</td><td>1.7564456</td><td>0</td><td>-1.0</td><td>-1.0</td><td>-1.0</td><td>-1</td><td>-1.0</td><td>-1.0</td><td>-1.0</td><td>-1.0</td><td>-1.0</td><td>-1.0</td><td>-1.0</td><td>-1.0</td><td>-1.0</td><td>-1.0</td><td>-1.0</td><td>-1</td><td>-1.0</td><td>-1</td><td>-1</td></tr>\n",
       "<tr><td>439837</td><td>SGA-2020 439837</td><td>EKS2015_RS0510</td><td>6740716</td><td>173.49469950000002</td><td>4.3449998</td><td></td><td>0.0</td><td>0.33966663</td><td>0.5075971</td><td>-99.0</td><td>24.229744</td><td>17.946</td><td>True</td><td>LEDA-20181114</td><td>161162</td><td>EKS2015_RS0510</td><td>1</td><td>True</td><td>173.49469950000002</td><td>4.3449998</td><td>0.33966663</td><td>1736p042</td><td>173.49485595803574</td><td>4.344924883507937</td><td>0.5156837</td><td>SB26</td><td>4.4822693</td><td>0.7222341</td><td>173.49478297026465</td><td>4.344997661170944</td><td>25.039705</td><td>8.61086</td><td>9.066328</td><td>8.944384</td><td>-1.0</td><td>0.45278558</td><td>1.7595636</td><td>3.619618</td><td>6.025716</td><td>7.9975605</td><td>10.50512</td><td>12.991229</td><td>15.4705105</td><td>-1.0</td><td>-1.0</td><td>-1.0</td><td>23.7996</td><td>23.267387</td><td>22.991875</td><td>21.039238</td><td>20.48188</td><td>20.157995</td><td>19.774647</td><td>19.228273</td><td>18.898565</td><td>19.0537</td><td>18.53154</td><td>18.202375</td><td>18.726082</td><td>18.205614</td><td>17.8956</td><td>18.47124</td><td>17.966726</td><td>17.664473</td><td>18.328512</td><td>17.823252</td><td>17.517555</td><td>18.252943</td><td>17.736387</td><td>17.433922</td><td>-1.0</td><td>0.010897889</td><td>0.013311464</td><td>0.020633783</td><td>0.03676928</td><td>0.03941907</td><td>0.11827865</td><td>0.15728638</td><td>0.13521516</td><td>-1.0</td><td>-1.0</td><td>-1.0</td><td>0.028910832</td><td>0.02775613</td><td>0.043279663</td><td>0.011560348</td><td>0.012096981</td><td>0.02022066</td><td>0.008650073</td><td>0.008137791</td><td>0.013546953</td><td>0.0070009404</td><td>0.006156571</td><td>0.01027869</td><td>0.0064963005</td><td>0.0058289957</td><td>0.009382823</td><td>0.006193187</td><td>0.0055950615</td><td>0.008555451</td><td>0.005919617</td><td>0.0054007163</td><td>0.008111147</td><td>0.0057586282</td><td>0.0052909143</td><td>0.008045299</td><td>17.900679</td><td>1.2536795</td><td>0.64236355</td><td>1.6540393</td><td>15.883132</td><td>17.342123</td><td>1.4246392</td><td>0.60082567</td><td>1.4997882</td><td>10.254365</td><td>17.042652</td><td>1.515813</td><td>0.5465951</td><td>1.4551128</td><td>1.5517347</td><td>0</td><td>-1.0</td><td>-1.0</td><td>-1.0</td><td>-1</td><td>-1.0</td><td>-1.0</td><td>-1.0</td><td>-1.0</td><td>-1.0</td><td>-1.0</td><td>-1.0</td><td>-1.0</td><td>-1.0</td><td>-1.0</td><td>-1.0</td><td>-1</td><td>-1.0</td><td>-1</td><td>-1</td></tr>\n",
       "</table>"
      ],
      "text/plain": [
       "<Table length=384640>\n",
       " SGA_ID    SGA_GALAXY             GALAXY         ...  DM7_SN e_DM7_SN SN_Catalog\n",
       " int64      bytes16              bytes29         ... float64  int64     str24   \n",
       "------- ---------------- ----------------------- ... ------- -------- ----------\n",
       "5000761 SGA-2020 5000761       DR8-3598m132-1566 ...    -1.0       -1         -1\n",
       "5000100 SGA-2020 5000100       DR8-3299m605-2919 ...    -1.0       -1         -1\n",
       "5000101 SGA-2020 5000101       DR8-0428m602-4341 ...    -1.0       -1         -1\n",
       "5000103 SGA-2020 5000103       DR8-0564m602-5182 ...    -1.0       -1         -1\n",
       "5000104 SGA-2020 5000104       DR8-3116m602-5249 ...    -1.0       -1         -1\n",
       "5000105 SGA-2020 5000105       DR8-3271m602-4434 ...    -1.0       -1         -1\n",
       "5000106 SGA-2020 5000106       DR8-3582m602-2634 ...    -1.0       -1         -1\n",
       "5000093 SGA-2020 5000093         DR8-0958m607-87 ...    -1.0       -1         -1\n",
       "5003392 SGA-2020 5003392       DR8-2411p472-3446 ...    -1.0       -1         -1\n",
       "5000671 SGA-2020 5000671       DR8-0082m222-1061 ...    -1.0       -1         -1\n",
       "    ...              ...                     ... ...     ...      ...        ...\n",
       "1381636 SGA-2020 1381636 SDSSJ084556.57+533919.5 ...    -1.0       -1         -1\n",
       " 192068  SGA-2020 192068 SDSSJ081707.55+511127.7 ...    -1.0       -1         -1\n",
       "1015032 SGA-2020 1015032 SDSSJ120341.63+275957.9 ...    -1.0       -1         -1\n",
       " 163773  SGA-2020 163773        MSB2017_J1408+56 ...    -1.0       -1         -1\n",
       " 259065  SGA-2020 259065        MSB2017_J1305+41 ...    -1.0       -1         -1\n",
       " 706307  SGA-2020 706307        MSB2017_J1308+40 ...    -1.0       -1         -1\n",
       " 616723  SGA-2020 616723  2MASXJ22553169+1917333 ...    -1.0       -1         -1\n",
       "1322974 SGA-2020 1322974             OBC97_N07-1 ...    -1.0       -1         -1\n",
       " 680722  SGA-2020 680722          EKS2015_RS0955 ...    -1.0       -1         -1\n",
       " 439837  SGA-2020 439837          EKS2015_RS0510 ...    -1.0       -1         -1"
      ]
     },
     "execution_count": 63,
     "metadata": {},
     "output_type": "execute_result"
    }
   ],
   "source": [
    "maintab2"
   ]
  },
  {
   "cell_type": "code",
   "execution_count": 39,
   "id": "4b7f7321-8b36-4f63-8fe0-53a2bb6d6a1a",
   "metadata": {},
   "outputs": [],
   "source": [
    "maintab2.write('SGA_distances.fits', format = 'fits')"
   ]
  },
  {
   "cell_type": "markdown",
   "id": "fba46660-1164-4491-af34-730e23275fc6",
   "metadata": {},
   "source": [
    "## Combining with DESI Rosettes"
   ]
  },
  {
   "cell_type": "code",
   "execution_count": 48,
   "id": "4f876226-cb9b-4e0d-ae87-4351b86579cf",
   "metadata": {},
   "outputs": [
    {
     "data": {
      "text/plain": [
       "1"
      ]
     },
     "execution_count": 48,
     "metadata": {},
     "output_type": "execute_result"
    }
   ],
   "source": [
    "centers = Table.read('cache/tiles-sv3.ecsv', format = 'ascii.ecsv')\n",
    "centers[0]['TILEID']"
   ]
  },
  {
   "cell_type": "code",
   "execution_count": 77,
   "id": "4ea40b5b-111b-4165-b559-3c669e8b09e8",
   "metadata": {},
   "outputs": [
    {
     "data": {
      "text/html": [
       "<i>Table length=1934</i>\n",
       "<table id=\"table46913530280112\" class=\"table-striped table-bordered table-condensed\">\n",
       "<thead><tr><th>SGA_ID</th><th>SGA_GALAXY</th><th>GALAXY</th><th>PGC</th><th>RA_LEDA</th><th>DEC_LEDA</th><th>MORPHTYPE</th><th>PA_LEDA</th><th>D25_LEDA</th><th>BA_LEDA</th><th>Z_LEDA</th><th>SB_D25_LEDA</th><th>MAG_LEDA</th><th>BYHAND</th><th>REF</th><th>GROUP_ID</th><th>GROUP_NAME</th><th>GROUP_MULT</th><th>GROUP_PRIMARY</th><th>GROUP_RA</th><th>GROUP_DEC</th><th>GROUP_DIAMETER</th><th>BRICKNAME</th><th>RA</th><th>DEC</th><th>D26</th><th>D26_REF</th><th>PA</th><th>BA</th><th>RA_MOMENT</th><th>DEC_MOMENT</th><th>SMA_MOMENT</th><th>G_SMA50</th><th>R_SMA50</th><th>Z_SMA50</th><th>SMA_SB22</th><th>SMA_SB22.5</th><th>SMA_SB23</th><th>SMA_SB23.5</th><th>SMA_SB24</th><th>SMA_SB24.5</th><th>SMA_SB25</th><th>SMA_SB25.5</th><th>SMA_SB26</th><th>G_MAG_SB22</th><th>R_MAG_SB22</th><th>Z_MAG_SB22</th><th>G_MAG_SB22.5</th><th>R_MAG_SB22.5</th><th>Z_MAG_SB22.5</th><th>G_MAG_SB23</th><th>R_MAG_SB23</th><th>Z_MAG_SB23</th><th>G_MAG_SB23.5</th><th>R_MAG_SB23.5</th><th>Z_MAG_SB23.5</th><th>G_MAG_SB24</th><th>R_MAG_SB24</th><th>Z_MAG_SB24</th><th>G_MAG_SB24.5</th><th>R_MAG_SB24.5</th><th>Z_MAG_SB24.5</th><th>G_MAG_SB25</th><th>R_MAG_SB25</th><th>Z_MAG_SB25</th><th>G_MAG_SB25.5</th><th>R_MAG_SB25.5</th><th>Z_MAG_SB25.5</th><th>G_MAG_SB26</th><th>R_MAG_SB26</th><th>Z_MAG_SB26</th><th>SMA_SB22_ERR</th><th>SMA_SB22.5_ERR</th><th>SMA_SB23_ERR</th><th>SMA_SB23.5_ERR</th><th>SMA_SB24_ERR</th><th>SMA_SB24.5_ERR</th><th>SMA_SB25_ERR</th><th>SMA_SB25.5_ERR</th><th>SMA_SB26_ERR</th><th>G_MAG_SB22_ERR</th><th>R_MAG_SB22_ERR</th><th>Z_MAG_SB22_ERR</th><th>G_MAG_SB22.5_ERR</th><th>R_MAG_SB22.5_ERR</th><th>Z_MAG_SB22.5_ERR</th><th>G_MAG_SB23_ERR</th><th>R_MAG_SB23_ERR</th><th>Z_MAG_SB23_ERR</th><th>G_MAG_SB23.5_ERR</th><th>R_MAG_SB23.5_ERR</th><th>Z_MAG_SB23.5_ERR</th><th>G_MAG_SB24_ERR</th><th>R_MAG_SB24_ERR</th><th>Z_MAG_SB24_ERR</th><th>G_MAG_SB24.5_ERR</th><th>R_MAG_SB24.5_ERR</th><th>Z_MAG_SB24.5_ERR</th><th>G_MAG_SB25_ERR</th><th>R_MAG_SB25_ERR</th><th>Z_MAG_SB25_ERR</th><th>G_MAG_SB25.5_ERR</th><th>R_MAG_SB25.5_ERR</th><th>Z_MAG_SB25.5_ERR</th><th>G_MAG_SB26_ERR</th><th>R_MAG_SB26_ERR</th><th>Z_MAG_SB26_ERR</th><th>G_COG_PARAMS_MTOT</th><th>G_COG_PARAMS_M0</th><th>G_COG_PARAMS_ALPHA1</th><th>G_COG_PARAMS_ALPHA2</th><th>G_COG_PARAMS_CHI2</th><th>R_COG_PARAMS_MTOT</th><th>R_COG_PARAMS_M0</th><th>R_COG_PARAMS_ALPHA1</th><th>R_COG_PARAMS_ALPHA2</th><th>R_COG_PARAMS_CHI2</th><th>Z_COG_PARAMS_MTOT</th><th>Z_COG_PARAMS_M0</th><th>Z_COG_PARAMS_ALPHA1</th><th>Z_COG_PARAMS_ALPHA2</th><th>Z_COG_PARAMS_CHI2</th><th>ELLIPSEBIT</th><th>DM_Stellar</th><th>e_DM_lo_Stellar</th><th>e_DM_hi_Stellar</th><th>Stellar_Catalog</th><th>DM1_SN</th><th>e_DM1_SN</th><th>DM2_SN</th><th>e_DM2_SN</th><th>DM3_SN</th><th>e_DM3_SN</th><th>DM4_SN</th><th>e_DM4_SN</th><th>DM5_SN</th><th>e_DM5_SN</th><th>DM6_SN</th><th>e_DM6_SN</th><th>DM7_SN</th><th>e_DM7_SN</th><th>SN_Catalog</th></tr></thead>\n",
       "<thead><tr><th>int64</th><th>bytes16</th><th>bytes29</th><th>int64</th><th>float64</th><th>float64</th><th>bytes21</th><th>float32</th><th>float32</th><th>float32</th><th>float32</th><th>float32</th><th>float32</th><th>bool</th><th>bytes13</th><th>int64</th><th>bytes35</th><th>int16</th><th>bool</th><th>float64</th><th>float64</th><th>float32</th><th>bytes8</th><th>float64</th><th>float64</th><th>float32</th><th>bytes4</th><th>float32</th><th>float32</th><th>float64</th><th>float64</th><th>float32</th><th>float32</th><th>float32</th><th>float32</th><th>float32</th><th>float32</th><th>float32</th><th>float32</th><th>float32</th><th>float32</th><th>float32</th><th>float32</th><th>float32</th><th>float32</th><th>float32</th><th>float32</th><th>float32</th><th>float32</th><th>float32</th><th>float32</th><th>float32</th><th>float32</th><th>float32</th><th>float32</th><th>float32</th><th>float32</th><th>float32</th><th>float32</th><th>float32</th><th>float32</th><th>float32</th><th>float32</th><th>float32</th><th>float32</th><th>float32</th><th>float32</th><th>float32</th><th>float32</th><th>float32</th><th>float32</th><th>float32</th><th>float32</th><th>float32</th><th>float32</th><th>float32</th><th>float32</th><th>float32</th><th>float32</th><th>float32</th><th>float32</th><th>float32</th><th>float32</th><th>float32</th><th>float32</th><th>float32</th><th>float32</th><th>float32</th><th>float32</th><th>float32</th><th>float32</th><th>float32</th><th>float32</th><th>float32</th><th>float32</th><th>float32</th><th>float32</th><th>float32</th><th>float32</th><th>float32</th><th>float32</th><th>float32</th><th>float32</th><th>float32</th><th>float32</th><th>float32</th><th>float32</th><th>float32</th><th>float32</th><th>float32</th><th>float32</th><th>float32</th><th>float32</th><th>float32</th><th>float32</th><th>float32</th><th>float32</th><th>float32</th><th>float32</th><th>float32</th><th>float32</th><th>float32</th><th>int32</th><th>float64</th><th>float64</th><th>float64</th><th>str16</th><th>float64</th><th>float64</th><th>float64</th><th>float64</th><th>float64</th><th>float64</th><th>float64</th><th>float64</th><th>float64</th><th>float64</th><th>float64</th><th>int64</th><th>float64</th><th>int64</th><th>str24</th></tr></thead>\n",
       "<tr><td>207638</td><td>SGA-2020 207638</td><td>NGC7814</td><td>218</td><td>0.812559</td><td>16.1456194</td><td>Sab</td><td>134.53</td><td>4.365158</td><td>0.4305266</td><td>0.0035124298</td><td>23.421482</td><td>11.593</td><td>False</td><td>LEDA-20181114</td><td>73938</td><td>NGC7814</td><td>1</td><td>True</td><td>0.812559</td><td>16.1456194</td><td>4.365158</td><td>0009p162</td><td>0.8124274854816511</td><td>16.1455169162983</td><td>11.15105</td><td>SB26</td><td>134.2024</td><td>0.4849028</td><td>0.8120762037951955</td><td>16.14534837690191</td><td>200.04625</td><td>82.82556</td><td>78.24203</td><td>72.30593</td><td>94.85372</td><td>118.66765</td><td>144.39467</td><td>172.24834</td><td>202.94002</td><td>234.82027</td><td>267.05215</td><td>302.1296</td><td>334.5315</td><td>11.391324</td><td>10.4479065</td><td>9.623682</td><td>11.228865</td><td>10.295919</td><td>9.4892435</td><td>11.108571</td><td>10.186071</td><td>9.391858</td><td>11.016354</td><td>10.10016</td><td>9.319667</td><td>10.945187</td><td>10.035046</td><td>9.264916</td><td>10.894269</td><td>9.989213</td><td>9.225079</td><td>10.856926</td><td>9.954834</td><td>9.195862</td><td>10.830645</td><td>9.929288</td><td>9.171985</td><td>10.814159</td><td>9.9131775</td><td>9.156266</td><td>0.21526095</td><td>0.23602074</td><td>0.34232575</td><td>0.3225715</td><td>0.26907054</td><td>0.4221382</td><td>0.53733534</td><td>0.39212316</td><td>0.53470826</td><td>0.0020625296</td><td>0.0022948585</td><td>0.002650695</td><td>0.0018137891</td><td>0.0020279833</td><td>0.0023673968</td><td>0.0016452036</td><td>0.0018506112</td><td>0.0021778245</td><td>0.0015238288</td><td>0.0017204144</td><td>0.0020450433</td><td>0.0014345231</td><td>0.0016259744</td><td>0.0019482705</td><td>0.0013731329</td><td>0.001561975</td><td>0.0018802665</td><td>0.001329639</td><td>0.0015156246</td><td>0.0018319507</td><td>0.0012991042</td><td>0.0014813977</td><td>0.0017928901</td><td>0.001279939</td><td>0.0014598139</td><td>0.0017673312</td><td>10.7426405</td><td>0.3634739</td><td>1342.3901</td><td>2.4910772</td><td>3.7638025</td><td>9.837566</td><td>0.4029513</td><td>575.4227</td><td>2.2628853</td><td>1.9512408</td><td>9.065861</td><td>0.63717496</td><td>73.61136</td><td>1.7612522</td><td>0.07164451</td><td>0</td><td>30.6</td><td>0.14</td><td>0.14</td><td>Tonry_SBF</td><td>-1.0</td><td>-1.0</td><td>-1.0</td><td>-1.0</td><td>-1.0</td><td>-1.0</td><td>-1.0</td><td>-1.0</td><td>-1.0</td><td>-1.0</td><td>-1.0</td><td>-1</td><td>-1.0</td><td>-1</td><td>-1</td></tr>\n",
       "<tr><td>1327008</td><td>SGA-2020 1327008</td><td>UGC00014</td><td>250</td><td>0.8958735000000001</td><td>23.2007729</td><td>Sc</td><td>25.38</td><td>1.0423175</td><td>0.5395106</td><td>0.024216752</td><td>22.831482</td><td>14.113</td><td>False</td><td>LEDA-20181114</td><td>487030</td><td>UGC00014</td><td>1</td><td>True</td><td>0.8958735000000001</td><td>23.2007729</td><td>1.0423175</td><td>0009p232</td><td>0.8958620610956882</td><td>23.200726856714155</td><td>2.5702791</td><td>SB26</td><td>18.948963</td><td>0.60621285</td><td>0.8954368391501071</td><td>23.20053581449864</td><td>58.4263</td><td>31.541191</td><td>32.8187</td><td>36.071968</td><td>15.376917</td><td>20.431486</td><td>25.758154</td><td>32.029892</td><td>39.031902</td><td>47.955307</td><td>57.89139</td><td>67.703354</td><td>77.108376</td><td>15.255352</td><td>14.51565</td><td>13.928576</td><td>14.960389</td><td>14.238125</td><td>13.657076</td><td>14.762822</td><td>14.037892</td><td>13.461026</td><td>14.628848</td><td>13.901559</td><td>13.319341</td><td>14.523222</td><td>13.794634</td><td>13.208976</td><td>14.420363</td><td>13.692406</td><td>13.10497</td><td>14.3405485</td><td>13.612584</td><td>13.023545</td><td>14.282167</td><td>13.553737</td><td>12.963001</td><td>14.244243</td><td>13.515443</td><td>12.921845</td><td>0.07616808</td><td>0.08575747</td><td>0.10886908</td><td>0.10535007</td><td>0.11640918</td><td>0.112925865</td><td>0.21598709</td><td>0.19338751</td><td>0.22664279</td><td>0.01323528</td><td>0.017059084</td><td>0.018296726</td><td>0.010484105</td><td>0.013436497</td><td>0.01458323</td><td>0.009023272</td><td>0.0113886185</td><td>0.012210336</td><td>0.008051435</td><td>0.01009558</td><td>0.010757069</td><td>0.007327639</td><td>0.009165395</td><td>0.009732378</td><td>0.0066701053</td><td>0.008333975</td><td>0.008927417</td><td>0.006219527</td><td>0.007770655</td><td>0.0082246885</td><td>0.0059010857</td><td>0.0073662326</td><td>0.007784909</td><td>0.0057037543</td><td>0.007115131</td><td>0.0075006047</td><td>13.884993</td><td>55189.46</td><td>3.524745e-05</td><td>0.8267172</td><td>3.5632286</td><td>13.134548</td><td>26632.988</td><td>7.3055395e-05</td><td>0.7992621</td><td>1.3816593</td><td>12.496875</td><td>17404.445</td><td>0.00011383974</td><td>0.75451845</td><td>0.53068733</td><td>0</td><td>-1.0</td><td>-1.0</td><td>-1.0</td><td>-1</td><td>35.07</td><td>0.17</td><td>-1.0</td><td>-1.0</td><td>-1.0</td><td>-1.0</td><td>-1.0</td><td>-1.0</td><td>-1.0</td><td>-1.0</td><td>-1.0</td><td>-1</td><td>-1.0</td><td>-1</td><td>LOSS_Ganeshalingam13_SN1</td></tr>\n",
       "<tr><td>1327008</td><td>SGA-2020 1327008</td><td>UGC00014</td><td>250</td><td>0.8958735000000001</td><td>23.2007729</td><td>Sc</td><td>25.38</td><td>1.0423175</td><td>0.5395106</td><td>0.024216752</td><td>22.831482</td><td>14.113</td><td>False</td><td>LEDA-20181114</td><td>487030</td><td>UGC00014</td><td>1</td><td>True</td><td>0.8958735000000001</td><td>23.2007729</td><td>1.0423175</td><td>0009p232</td><td>0.8958620610956882</td><td>23.200726856714155</td><td>2.5702791</td><td>SB26</td><td>18.948963</td><td>0.60621285</td><td>0.8954368391501071</td><td>23.20053581449864</td><td>58.4263</td><td>31.541191</td><td>32.8187</td><td>36.071968</td><td>15.376917</td><td>20.431486</td><td>25.758154</td><td>32.029892</td><td>39.031902</td><td>47.955307</td><td>57.89139</td><td>67.703354</td><td>77.108376</td><td>15.255352</td><td>14.51565</td><td>13.928576</td><td>14.960389</td><td>14.238125</td><td>13.657076</td><td>14.762822</td><td>14.037892</td><td>13.461026</td><td>14.628848</td><td>13.901559</td><td>13.319341</td><td>14.523222</td><td>13.794634</td><td>13.208976</td><td>14.420363</td><td>13.692406</td><td>13.10497</td><td>14.3405485</td><td>13.612584</td><td>13.023545</td><td>14.282167</td><td>13.553737</td><td>12.963001</td><td>14.244243</td><td>13.515443</td><td>12.921845</td><td>0.07616808</td><td>0.08575747</td><td>0.10886908</td><td>0.10535007</td><td>0.11640918</td><td>0.112925865</td><td>0.21598709</td><td>0.19338751</td><td>0.22664279</td><td>0.01323528</td><td>0.017059084</td><td>0.018296726</td><td>0.010484105</td><td>0.013436497</td><td>0.01458323</td><td>0.009023272</td><td>0.0113886185</td><td>0.012210336</td><td>0.008051435</td><td>0.01009558</td><td>0.010757069</td><td>0.007327639</td><td>0.009165395</td><td>0.009732378</td><td>0.0066701053</td><td>0.008333975</td><td>0.008927417</td><td>0.006219527</td><td>0.007770655</td><td>0.0082246885</td><td>0.0059010857</td><td>0.0073662326</td><td>0.007784909</td><td>0.0057037543</td><td>0.007115131</td><td>0.0075006047</td><td>13.884993</td><td>55189.46</td><td>3.524745e-05</td><td>0.8267172</td><td>3.5632286</td><td>13.134548</td><td>26632.988</td><td>7.3055395e-05</td><td>0.7992621</td><td>1.3816593</td><td>12.496875</td><td>17404.445</td><td>0.00011383974</td><td>0.75451845</td><td>0.53068733</td><td>0</td><td>-1.0</td><td>-1.0</td><td>-1.0</td><td>-1</td><td>34.34</td><td>0.18</td><td>0.0</td><td>0.0</td><td>-1.0</td><td>-1.0</td><td>-1.0</td><td>-1.0</td><td>-1.0</td><td>-1.0</td><td>-1.0</td><td>-1</td><td>-1.0</td><td>-1</td><td>SNIa_calibration</td></tr>\n",
       "<tr><td>1327008</td><td>SGA-2020 1327008</td><td>UGC00014</td><td>250</td><td>0.8958735000000001</td><td>23.2007729</td><td>Sc</td><td>25.38</td><td>1.0423175</td><td>0.5395106</td><td>0.024216752</td><td>22.831482</td><td>14.113</td><td>False</td><td>LEDA-20181114</td><td>487030</td><td>UGC00014</td><td>1</td><td>True</td><td>0.8958735000000001</td><td>23.2007729</td><td>1.0423175</td><td>0009p232</td><td>0.8958620610956882</td><td>23.200726856714155</td><td>2.5702791</td><td>SB26</td><td>18.948963</td><td>0.60621285</td><td>0.8954368391501071</td><td>23.20053581449864</td><td>58.4263</td><td>31.541191</td><td>32.8187</td><td>36.071968</td><td>15.376917</td><td>20.431486</td><td>25.758154</td><td>32.029892</td><td>39.031902</td><td>47.955307</td><td>57.89139</td><td>67.703354</td><td>77.108376</td><td>15.255352</td><td>14.51565</td><td>13.928576</td><td>14.960389</td><td>14.238125</td><td>13.657076</td><td>14.762822</td><td>14.037892</td><td>13.461026</td><td>14.628848</td><td>13.901559</td><td>13.319341</td><td>14.523222</td><td>13.794634</td><td>13.208976</td><td>14.420363</td><td>13.692406</td><td>13.10497</td><td>14.3405485</td><td>13.612584</td><td>13.023545</td><td>14.282167</td><td>13.553737</td><td>12.963001</td><td>14.244243</td><td>13.515443</td><td>12.921845</td><td>0.07616808</td><td>0.08575747</td><td>0.10886908</td><td>0.10535007</td><td>0.11640918</td><td>0.112925865</td><td>0.21598709</td><td>0.19338751</td><td>0.22664279</td><td>0.01323528</td><td>0.017059084</td><td>0.018296726</td><td>0.010484105</td><td>0.013436497</td><td>0.01458323</td><td>0.009023272</td><td>0.0113886185</td><td>0.012210336</td><td>0.008051435</td><td>0.01009558</td><td>0.010757069</td><td>0.007327639</td><td>0.009165395</td><td>0.009732378</td><td>0.0066701053</td><td>0.008333975</td><td>0.008927417</td><td>0.006219527</td><td>0.007770655</td><td>0.0082246885</td><td>0.0059010857</td><td>0.0073662326</td><td>0.007784909</td><td>0.0057037543</td><td>0.007115131</td><td>0.0075006047</td><td>13.884993</td><td>55189.46</td><td>3.524745e-05</td><td>0.8267172</td><td>3.5632286</td><td>13.134548</td><td>26632.988</td><td>7.3055395e-05</td><td>0.7992621</td><td>1.3816593</td><td>12.496875</td><td>17404.445</td><td>0.00011383974</td><td>0.75451845</td><td>0.53068733</td><td>0</td><td>-1.0</td><td>-1.0</td><td>-1.0</td><td>-1</td><td>35.06</td><td>0.17</td><td>-1.0</td><td>-1.0</td><td>-1.0</td><td>-1.0</td><td>-1.0</td><td>-1.0</td><td>-1.0</td><td>-1.0</td><td>-1.0</td><td>-1</td><td>-1.0</td><td>-1</td><td>Stahl_SNI</td></tr>\n",
       "<tr><td>1327008</td><td>SGA-2020 1327008</td><td>UGC00014</td><td>250</td><td>0.8958735000000001</td><td>23.2007729</td><td>Sc</td><td>25.38</td><td>1.0423175</td><td>0.5395106</td><td>0.024216752</td><td>22.831482</td><td>14.113</td><td>False</td><td>LEDA-20181114</td><td>487030</td><td>UGC00014</td><td>1</td><td>True</td><td>0.8958735000000001</td><td>23.2007729</td><td>1.0423175</td><td>0009p232</td><td>0.8958620610956882</td><td>23.200726856714155</td><td>2.5702791</td><td>SB26</td><td>18.948963</td><td>0.60621285</td><td>0.8954368391501071</td><td>23.20053581449864</td><td>58.4263</td><td>31.541191</td><td>32.8187</td><td>36.071968</td><td>15.376917</td><td>20.431486</td><td>25.758154</td><td>32.029892</td><td>39.031902</td><td>47.955307</td><td>57.89139</td><td>67.703354</td><td>77.108376</td><td>15.255352</td><td>14.51565</td><td>13.928576</td><td>14.960389</td><td>14.238125</td><td>13.657076</td><td>14.762822</td><td>14.037892</td><td>13.461026</td><td>14.628848</td><td>13.901559</td><td>13.319341</td><td>14.523222</td><td>13.794634</td><td>13.208976</td><td>14.420363</td><td>13.692406</td><td>13.10497</td><td>14.3405485</td><td>13.612584</td><td>13.023545</td><td>14.282167</td><td>13.553737</td><td>12.963001</td><td>14.244243</td><td>13.515443</td><td>12.921845</td><td>0.07616808</td><td>0.08575747</td><td>0.10886908</td><td>0.10535007</td><td>0.11640918</td><td>0.112925865</td><td>0.21598709</td><td>0.19338751</td><td>0.22664279</td><td>0.01323528</td><td>0.017059084</td><td>0.018296726</td><td>0.010484105</td><td>0.013436497</td><td>0.01458323</td><td>0.009023272</td><td>0.0113886185</td><td>0.012210336</td><td>0.008051435</td><td>0.01009558</td><td>0.010757069</td><td>0.007327639</td><td>0.009165395</td><td>0.009732378</td><td>0.0066701053</td><td>0.008333975</td><td>0.008927417</td><td>0.006219527</td><td>0.007770655</td><td>0.0082246885</td><td>0.0059010857</td><td>0.0073662326</td><td>0.007784909</td><td>0.0057037543</td><td>0.007115131</td><td>0.0075006047</td><td>13.884993</td><td>55189.46</td><td>3.524745e-05</td><td>0.8267172</td><td>3.5632286</td><td>13.134548</td><td>26632.988</td><td>7.3055395e-05</td><td>0.7992621</td><td>1.3816593</td><td>12.496875</td><td>17404.445</td><td>0.00011383974</td><td>0.75451845</td><td>0.53068733</td><td>0</td><td>-1.0</td><td>-1.0</td><td>-1.0</td><td>-1</td><td>34.9</td><td>0.0</td><td>34.34</td><td>34.34</td><td>34.34</td><td>0.18</td><td>0.0</td><td>0.0</td><td>0.0</td><td>0.0</td><td>34.35</td><td>0</td><td>0.0</td><td>0</td><td>5_Sources_SNI</td></tr>\n",
       "<tr><td>1327008</td><td>SGA-2020 1327008</td><td>UGC00014</td><td>250</td><td>0.8958735000000001</td><td>23.2007729</td><td>Sc</td><td>25.38</td><td>1.0423175</td><td>0.5395106</td><td>0.024216752</td><td>22.831482</td><td>14.113</td><td>False</td><td>LEDA-20181114</td><td>487030</td><td>UGC00014</td><td>1</td><td>True</td><td>0.8958735000000001</td><td>23.2007729</td><td>1.0423175</td><td>0009p232</td><td>0.8958620610956882</td><td>23.200726856714155</td><td>2.5702791</td><td>SB26</td><td>18.948963</td><td>0.60621285</td><td>0.8954368391501071</td><td>23.20053581449864</td><td>58.4263</td><td>31.541191</td><td>32.8187</td><td>36.071968</td><td>15.376917</td><td>20.431486</td><td>25.758154</td><td>32.029892</td><td>39.031902</td><td>47.955307</td><td>57.89139</td><td>67.703354</td><td>77.108376</td><td>15.255352</td><td>14.51565</td><td>13.928576</td><td>14.960389</td><td>14.238125</td><td>13.657076</td><td>14.762822</td><td>14.037892</td><td>13.461026</td><td>14.628848</td><td>13.901559</td><td>13.319341</td><td>14.523222</td><td>13.794634</td><td>13.208976</td><td>14.420363</td><td>13.692406</td><td>13.10497</td><td>14.3405485</td><td>13.612584</td><td>13.023545</td><td>14.282167</td><td>13.553737</td><td>12.963001</td><td>14.244243</td><td>13.515443</td><td>12.921845</td><td>0.07616808</td><td>0.08575747</td><td>0.10886908</td><td>0.10535007</td><td>0.11640918</td><td>0.112925865</td><td>0.21598709</td><td>0.19338751</td><td>0.22664279</td><td>0.01323528</td><td>0.017059084</td><td>0.018296726</td><td>0.010484105</td><td>0.013436497</td><td>0.01458323</td><td>0.009023272</td><td>0.0113886185</td><td>0.012210336</td><td>0.008051435</td><td>0.01009558</td><td>0.010757069</td><td>0.007327639</td><td>0.009165395</td><td>0.009732378</td><td>0.0066701053</td><td>0.008333975</td><td>0.008927417</td><td>0.006219527</td><td>0.007770655</td><td>0.0082246885</td><td>0.0059010857</td><td>0.0073662326</td><td>0.007784909</td><td>0.0057037543</td><td>0.007115131</td><td>0.0075006047</td><td>13.884993</td><td>55189.46</td><td>3.524745e-05</td><td>0.8267172</td><td>3.5632286</td><td>13.134548</td><td>26632.988</td><td>7.3055395e-05</td><td>0.7992621</td><td>1.3816593</td><td>12.496875</td><td>17404.445</td><td>0.00011383974</td><td>0.75451845</td><td>0.53068733</td><td>0</td><td>-1.0</td><td>-1.0</td><td>-1.0</td><td>-1</td><td>34.34</td><td>0.18</td><td>-1.0</td><td>-1.0</td><td>-1.0</td><td>-1.0</td><td>-1.0</td><td>-1.0</td><td>-1.0</td><td>-1.0</td><td>-1.0</td><td>-1</td><td>-1.0</td><td>-1</td><td>Union2_SNI</td></tr>\n",
       "<tr><td>1327008</td><td>SGA-2020 1327008</td><td>UGC00014</td><td>250</td><td>0.8958735000000001</td><td>23.2007729</td><td>Sc</td><td>25.38</td><td>1.0423175</td><td>0.5395106</td><td>0.024216752</td><td>22.831482</td><td>14.113</td><td>False</td><td>LEDA-20181114</td><td>487030</td><td>UGC00014</td><td>1</td><td>True</td><td>0.8958735000000001</td><td>23.2007729</td><td>1.0423175</td><td>0009p232</td><td>0.8958620610956882</td><td>23.200726856714155</td><td>2.5702791</td><td>SB26</td><td>18.948963</td><td>0.60621285</td><td>0.8954368391501071</td><td>23.20053581449864</td><td>58.4263</td><td>31.541191</td><td>32.8187</td><td>36.071968</td><td>15.376917</td><td>20.431486</td><td>25.758154</td><td>32.029892</td><td>39.031902</td><td>47.955307</td><td>57.89139</td><td>67.703354</td><td>77.108376</td><td>15.255352</td><td>14.51565</td><td>13.928576</td><td>14.960389</td><td>14.238125</td><td>13.657076</td><td>14.762822</td><td>14.037892</td><td>13.461026</td><td>14.628848</td><td>13.901559</td><td>13.319341</td><td>14.523222</td><td>13.794634</td><td>13.208976</td><td>14.420363</td><td>13.692406</td><td>13.10497</td><td>14.3405485</td><td>13.612584</td><td>13.023545</td><td>14.282167</td><td>13.553737</td><td>12.963001</td><td>14.244243</td><td>13.515443</td><td>12.921845</td><td>0.07616808</td><td>0.08575747</td><td>0.10886908</td><td>0.10535007</td><td>0.11640918</td><td>0.112925865</td><td>0.21598709</td><td>0.19338751</td><td>0.22664279</td><td>0.01323528</td><td>0.017059084</td><td>0.018296726</td><td>0.010484105</td><td>0.013436497</td><td>0.01458323</td><td>0.009023272</td><td>0.0113886185</td><td>0.012210336</td><td>0.008051435</td><td>0.01009558</td><td>0.010757069</td><td>0.007327639</td><td>0.009165395</td><td>0.009732378</td><td>0.0066701053</td><td>0.008333975</td><td>0.008927417</td><td>0.006219527</td><td>0.007770655</td><td>0.0082246885</td><td>0.0059010857</td><td>0.0073662326</td><td>0.007784909</td><td>0.0057037543</td><td>0.007115131</td><td>0.0075006047</td><td>13.884993</td><td>55189.46</td><td>3.524745e-05</td><td>0.8267172</td><td>3.5632286</td><td>13.134548</td><td>26632.988</td><td>7.3055395e-05</td><td>0.7992621</td><td>1.3816593</td><td>12.496875</td><td>17404.445</td><td>0.00011383974</td><td>0.75451845</td><td>0.53068733</td><td>0</td><td>-1.0</td><td>-1.0</td><td>-1.0</td><td>-1</td><td>35.272</td><td>0.185</td><td>35.241</td><td>0.204</td><td>35.282</td><td>0.192</td><td>35.279</td><td>0.177</td><td>-1.0</td><td>-1.0</td><td>-1.0</td><td>-1</td><td>-1.0</td><td>-1</td><td>Constitution_SNI</td></tr>\n",
       "<tr><td>412276</td><td>SGA-2020 412276</td><td>PGC000282</td><td>282</td><td>1.006308</td><td>-11.174213</td><td>Sa</td><td>0.0</td><td>0.8933054</td><td>0.81096107</td><td>0.037892878</td><td>23.308481</td><td>14.925</td><td>False</td><td>LEDA-20181114</td><td>148949</td><td>PGC000282_GROUP</td><td>2</td><td>True</td><td>1.0047861686959476</td><td>-11.175775630773337</td><td>1.0229776</td><td>0008m112</td><td>1.0063324460802996</td><td>-11.174295487734916</td><td>1.1275401</td><td>SB26</td><td>121.04507</td><td>0.74517024</td><td>1.0064314957086224</td><td>-11.1742996531527</td><td>29.630356</td><td>15.441837</td><td>14.261043</td><td>13.776371</td><td>6.9159293</td><td>10.511812</td><td>14.476256</td><td>18.945965</td><td>23.677198</td><td>27.131773</td><td>29.855072</td><td>31.946638</td><td>33.826202</td><td>16.998072</td><td>16.271227</td><td>15.773948</td><td>16.421417</td><td>15.746347</td><td>15.261113</td><td>16.06563</td><td>15.426125</td><td>14.945458</td><td>15.757968</td><td>15.156549</td><td>14.690318</td><td>15.533391</td><td>14.967528</td><td>14.519767</td><td>15.42424</td><td>14.873592</td><td>14.434588</td><td>15.362994</td><td>14.82303</td><td>14.388254</td><td>15.335261</td><td>14.798643</td><td>14.366543</td><td>15.321649</td><td>14.785383</td><td>14.35419</td><td>0.024478568</td><td>0.046063315</td><td>0.071119964</td><td>0.1277795</td><td>0.13895176</td><td>0.14614888</td><td>0.11599555</td><td>0.12465998</td><td>0.21829098</td><td>0.00900605</td><td>0.012086762</td><td>0.009053486</td><td>0.0064312303</td><td>0.008261258</td><td>0.006485159</td><td>0.0054555624</td><td>0.0066950303</td><td>0.005318032</td><td>0.00475841</td><td>0.0056489683</td><td>0.0045396844</td><td>0.004206021</td><td>0.0049635004</td><td>0.004063674</td><td>0.003997542</td><td>0.004684714</td><td>0.003878518</td><td>0.0039073145</td><td>0.004560675</td><td>0.003800786</td><td>0.003874935</td><td>0.004506827</td><td>0.0037751305</td><td>0.0038544354</td><td>0.0044748043</td><td>0.003756263</td><td>15.230915</td><td>0.25454077</td><td>152.94417</td><td>4.8950334</td><td>40.332214</td><td>14.683679</td><td>0.2849832</td><td>54.50756</td><td>4.0331326</td><td>19.36555</td><td>14.236459</td><td>0.3515615</td><td>21.902239</td><td>3.3430388</td><td>21.991396</td><td>0</td><td>-1.0</td><td>-1.0</td><td>-1.0</td><td>-1</td><td>36.08</td><td>0.13</td><td>-1.0</td><td>-1.0</td><td>-1.0</td><td>-1.0</td><td>-1.0</td><td>-1.0</td><td>-1.0</td><td>-1.0</td><td>-1.0</td><td>-1</td><td>-1.0</td><td>-1</td><td>Stahl_SNI</td></tr>\n",
       "<tr><td>412276</td><td>SGA-2020 412276</td><td>PGC000282</td><td>282</td><td>1.006308</td><td>-11.174213</td><td>Sa</td><td>0.0</td><td>0.8933054</td><td>0.81096107</td><td>0.037892878</td><td>23.308481</td><td>14.925</td><td>False</td><td>LEDA-20181114</td><td>148949</td><td>PGC000282_GROUP</td><td>2</td><td>True</td><td>1.0047861686959476</td><td>-11.175775630773337</td><td>1.0229776</td><td>0008m112</td><td>1.0063324460802996</td><td>-11.174295487734916</td><td>1.1275401</td><td>SB26</td><td>121.04507</td><td>0.74517024</td><td>1.0064314957086224</td><td>-11.1742996531527</td><td>29.630356</td><td>15.441837</td><td>14.261043</td><td>13.776371</td><td>6.9159293</td><td>10.511812</td><td>14.476256</td><td>18.945965</td><td>23.677198</td><td>27.131773</td><td>29.855072</td><td>31.946638</td><td>33.826202</td><td>16.998072</td><td>16.271227</td><td>15.773948</td><td>16.421417</td><td>15.746347</td><td>15.261113</td><td>16.06563</td><td>15.426125</td><td>14.945458</td><td>15.757968</td><td>15.156549</td><td>14.690318</td><td>15.533391</td><td>14.967528</td><td>14.519767</td><td>15.42424</td><td>14.873592</td><td>14.434588</td><td>15.362994</td><td>14.82303</td><td>14.388254</td><td>15.335261</td><td>14.798643</td><td>14.366543</td><td>15.321649</td><td>14.785383</td><td>14.35419</td><td>0.024478568</td><td>0.046063315</td><td>0.071119964</td><td>0.1277795</td><td>0.13895176</td><td>0.14614888</td><td>0.11599555</td><td>0.12465998</td><td>0.21829098</td><td>0.00900605</td><td>0.012086762</td><td>0.009053486</td><td>0.0064312303</td><td>0.008261258</td><td>0.006485159</td><td>0.0054555624</td><td>0.0066950303</td><td>0.005318032</td><td>0.00475841</td><td>0.0056489683</td><td>0.0045396844</td><td>0.004206021</td><td>0.0049635004</td><td>0.004063674</td><td>0.003997542</td><td>0.004684714</td><td>0.003878518</td><td>0.0039073145</td><td>0.004560675</td><td>0.003800786</td><td>0.003874935</td><td>0.004506827</td><td>0.0037751305</td><td>0.0038544354</td><td>0.0044748043</td><td>0.003756263</td><td>15.230915</td><td>0.25454077</td><td>152.94417</td><td>4.8950334</td><td>40.332214</td><td>14.683679</td><td>0.2849832</td><td>54.50756</td><td>4.0331326</td><td>19.36555</td><td>14.236459</td><td>0.3515615</td><td>21.902239</td><td>3.3430388</td><td>21.991396</td><td>0</td><td>-1.0</td><td>-1.0</td><td>-1.0</td><td>-1</td><td>36.11</td><td>0.04</td><td>-1.0</td><td>-1.0</td><td>-1.0</td><td>-1.0</td><td>-1.0</td><td>-1.0</td><td>-1.0</td><td>-1.0</td><td>-1.0</td><td>-1</td><td>-1.0</td><td>-1</td><td>CSP1_Burns18_SN1</td></tr>\n",
       "<tr><td>559852</td><td>SGA-2020 559852</td><td>UGC00040</td><td>415</td><td>1.4516985</td><td>27.449222</td><td>SBb</td><td>97.55</td><td>1.069055</td><td>0.62086904</td><td>0.025070343</td><td>23.831482</td><td>15.058</td><td>False</td><td>LEDA-20181114</td><td>204075</td><td>UGC00040</td><td>1</td><td>True</td><td>1.4516985</td><td>27.449222</td><td>1.069055</td><td>0015p275</td><td>1.451607253120829</td><td>27.449348263155745</td><td>1.3461109</td><td>SB26</td><td>97.71713</td><td>0.65854603</td><td>1.4512917864565076</td><td>27.44952201883348</td><td>37.563385</td><td>11.548384</td><td>9.790124</td><td>8.583918</td><td>13.389874</td><td>17.402458</td><td>22.221514</td><td>26.643656</td><td>30.451092</td><td>33.0199</td><td>35.30686</td><td>37.66482</td><td>40.383327</td><td>15.327095</td><td>14.367415</td><td>13.623496</td><td>15.144156</td><td>14.206807</td><td>13.476655</td><td>14.977016</td><td>14.06156</td><td>13.345406</td><td>14.837744</td><td>13.943513</td><td>13.242147</td><td>14.755721</td><td>13.874073</td><td>13.181175</td><td>14.72527</td><td>13.847412</td><td>13.156875</td><td>14.707554</td><td>13.831696</td><td>13.14269</td><td>14.695461</td><td>13.821782</td><td>13.13261</td><td>14.686472</td><td>13.813511</td><td>13.124669</td><td>0.056579683</td><td>0.068786845</td><td>0.075682506</td><td>0.048749138</td><td>0.031492256</td><td>0.030710308</td><td>0.04028154</td><td>0.091116</td><td>0.10068378</td><td>0.012191934</td><td>0.012639024</td><td>0.012882702</td><td>0.010416451</td><td>0.010979625</td><td>0.011311836</td><td>0.009007676</td><td>0.009649677</td><td>0.01005341</td><td>0.007962475</td><td>0.008682634</td><td>0.009162177</td><td>0.007379481</td><td>0.008138072</td><td>0.008654727</td><td>0.0071773073</td><td>0.007941759</td><td>0.008464082</td><td>0.0070620854</td><td>0.007828132</td><td>0.008354807</td><td>0.006994736</td><td>0.007767408</td><td>0.008287585</td><td>0.006927806</td><td>0.007698987</td><td>0.00821842</td><td>14.685015</td><td>0.056187034</td><td>4119974.8</td><td>12.762229</td><td>1.9100422</td><td>13.811461</td><td>0.05145322</td><td>1741963.2</td><td>12.062982</td><td>0.8025874</td><td>13.120745</td><td>0.05239073</td><td>338519.3</td><td>10.690112</td><td>0.37038615</td><td>0</td><td>-1.0</td><td>-1.0</td><td>-1.0</td><td>-1</td><td>34.44</td><td>0.19</td><td>0.0</td><td>0.0</td><td>-1.0</td><td>-1.0</td><td>-1.0</td><td>-1.0</td><td>-1.0</td><td>-1.0</td><td>-1.0</td><td>-1</td><td>-1.0</td><td>-1</td><td>SNIa_calibration</td></tr>\n",
       "<tr><td>...</td><td>...</td><td>...</td><td>...</td><td>...</td><td>...</td><td>...</td><td>...</td><td>...</td><td>...</td><td>...</td><td>...</td><td>...</td><td>...</td><td>...</td><td>...</td><td>...</td><td>...</td><td>...</td><td>...</td><td>...</td><td>...</td><td>...</td><td>...</td><td>...</td><td>...</td><td>...</td><td>...</td><td>...</td><td>...</td><td>...</td><td>...</td><td>...</td><td>...</td><td>...</td><td>...</td><td>...</td><td>...</td><td>...</td><td>...</td><td>...</td><td>...</td><td>...</td><td>...</td><td>...</td><td>...</td><td>...</td><td>...</td><td>...</td><td>...</td><td>...</td><td>...</td><td>...</td><td>...</td><td>...</td><td>...</td><td>...</td><td>...</td><td>...</td><td>...</td><td>...</td><td>...</td><td>...</td><td>...</td><td>...</td><td>...</td><td>...</td><td>...</td><td>...</td><td>...</td><td>...</td><td>...</td><td>...</td><td>...</td><td>...</td><td>...</td><td>...</td><td>...</td><td>...</td><td>...</td><td>...</td><td>...</td><td>...</td><td>...</td><td>...</td><td>...</td><td>...</td><td>...</td><td>...</td><td>...</td><td>...</td><td>...</td><td>...</td><td>...</td><td>...</td><td>...</td><td>...</td><td>...</td><td>...</td><td>...</td><td>...</td><td>...</td><td>...</td><td>...</td><td>...</td><td>...</td><td>...</td><td>...</td><td>...</td><td>...</td><td>...</td><td>...</td><td>...</td><td>...</td><td>...</td><td>...</td><td>...</td><td>...</td><td>...</td><td>...</td><td>...</td><td>...</td><td>...</td><td>...</td><td>...</td><td>...</td><td>...</td><td>...</td><td>...</td><td>...</td><td>...</td><td>...</td><td>...</td><td>...</td><td>...</td><td>...</td><td>...</td><td>...</td><td>...</td><td>...</td><td>...</td><td>...</td></tr>\n",
       "<tr><td>1114827</td><td>SGA-2020 1114827</td><td>SDSSJ152241.16+505836.0</td><td>3492136</td><td>230.671563</td><td>50.9766327</td><td>S?</td><td>134.62</td><td>0.3499452</td><td>0.52844524</td><td>0.034682326</td><td>24.513481</td><td>18.165</td><td>False</td><td>LEDA-20181114</td><td>407423</td><td>SDSSJ152241.16+505836.0</td><td>1</td><td>True</td><td>230.671563</td><td>50.9766327</td><td>0.3499452</td><td>2308p510</td><td>230.67149650848938</td><td>50.976698931704554</td><td>0.40369403</td><td>SB26</td><td>136.2923</td><td>0.5210742</td><td>230.6713536784759</td><td>50.9767935553224</td><td>8.707252</td><td>4.024453</td><td>3.7649772</td><td>3.2152915</td><td>2.843959</td><td>3.7331753</td><td>4.6747036</td><td>5.6807203</td><td>6.747214</td><td>7.9118013</td><td>9.242974</td><td>10.728313</td><td>12.110821</td><td>19.01689</td><td>18.490168</td><td>18.107788</td><td>18.7199</td><td>18.198229</td><td>17.843998</td><td>18.521132</td><td>18.00188</td><td>17.662035</td><td>18.379488</td><td>17.860159</td><td>17.528456</td><td>18.277264</td><td>17.757753</td><td>17.431002</td><td>18.201416</td><td>17.681934</td><td>17.365206</td><td>18.140259</td><td>17.624998</td><td>17.31376</td><td>18.092737</td><td>17.580622</td><td>17.287037</td><td>18.057943</td><td>17.552387</td><td>17.275381</td><td>0.020908773</td><td>0.02967229</td><td>0.034829054</td><td>0.041553527</td><td>0.043064892</td><td>0.064858496</td><td>0.050884597</td><td>0.1249622</td><td>0.14960545</td><td>0.024110228</td><td>0.025038514</td><td>0.028002689</td><td>0.022364007</td><td>0.022422906</td><td>0.025067484</td><td>0.020480053</td><td>0.02042491</td><td>0.022780254</td><td>0.01901033</td><td>0.018874768</td><td>0.020997576</td><td>0.017832244</td><td>0.017736472</td><td>0.019813092</td><td>0.016938563</td><td>0.016924923</td><td>0.018938428</td><td>0.016218815</td><td>0.016263524</td><td>0.018302955</td><td>0.015632968</td><td>0.015735207</td><td>0.018026091</td><td>0.015208472</td><td>0.015418076</td><td>0.017972406</td><td>17.89603</td><td>1.2892838</td><td>0.18332775</td><td>1.6086125</td><td>0.01729646</td><td>17.439402</td><td>0.761815</td><td>0.23484139</td><td>2.0176356</td><td>0.019197673</td><td>17.234407</td><td>0.3176389</td><td>0.2342281</td><td>3.2807162</td><td>0.2057274</td><td>0</td><td>-1.0</td><td>-1.0</td><td>-1.0</td><td>-1</td><td>35.91</td><td>0.13</td><td>-1.0</td><td>-1.0</td><td>-1.0</td><td>-1.0</td><td>-1.0</td><td>-1.0</td><td>-1.0</td><td>-1.0</td><td>-1.0</td><td>-1</td><td>-1.0</td><td>-1</td><td>Stahl_SNI</td></tr>\n",
       "<tr><td>1273956</td><td>SGA-2020 1273956</td><td>SDSSJ080519.59+225751.1</td><td>3522201</td><td>121.33165349999999</td><td>22.964228100000003</td><td>S?</td><td>24.8</td><td>0.35809645</td><td>0.41783035</td><td>0.044734947</td><td>24.683481</td><td>18.285</td><td>False</td><td>LEDA-20181114</td><td>467528</td><td>SDSSJ080519.59+225751.1</td><td>1</td><td>True</td><td>121.33165349999999</td><td>22.964228100000003</td><td>0.35809645</td><td>1213p230</td><td>121.33167596950221</td><td>22.964180244009658</td><td>0.44724724</td><td>SB26</td><td>24.712828</td><td>0.35687548</td><td>121.3316119275072</td><td>22.964273816956975</td><td>8.422517</td><td>4.7797985</td><td>4.410731</td><td>4.052565</td><td>4.611088</td><td>6.0453367</td><td>7.434638</td><td>8.708089</td><td>9.745984</td><td>10.636916</td><td>11.345493</td><td>12.442951</td><td>13.417418</td><td>18.55646</td><td>17.7611</td><td>17.121012</td><td>18.26455</td><td>17.490347</td><td>16.870941</td><td>18.072052</td><td>17.319424</td><td>16.716051</td><td>17.945612</td><td>17.207617</td><td>16.615637</td><td>17.872269</td><td>17.144451</td><td>16.56452</td><td>17.832615</td><td>17.104586</td><td>16.53675</td><td>17.806732</td><td>17.091509</td><td>16.52193</td><td>17.792835</td><td>17.075605</td><td>16.50844</td><td>17.783863</td><td>17.0683</td><td>16.503597</td><td>0.077108294</td><td>0.105575</td><td>0.13374034</td><td>0.10742287</td><td>0.17933446</td><td>0.13549069</td><td>0.098694175</td><td>0.21075176</td><td>0.16404799</td><td>0.051038604</td><td>0.054198198</td><td>0.058437712</td><td>0.04685808</td><td>0.04886825</td><td>0.05212144</td><td>0.043626286</td><td>0.045316026</td><td>0.04807476</td><td>0.041277017</td><td>0.04278714</td><td>0.045254458</td><td>0.039737232</td><td>0.04119678</td><td>0.043720305</td><td>0.038762085</td><td>0.04010807</td><td>0.042817473</td><td>0.038062245</td><td>0.03971535</td><td>0.04233394</td><td>0.037648212</td><td>0.039209656</td><td>0.041851852</td><td>0.037365355</td><td>0.038967982</td><td>0.04168246</td><td>17.762953</td><td>0.16362274</td><td>0.802573</td><td>6.5149875</td><td>0.06236565</td><td>17.048803</td><td>0.1599886</td><td>0.68999845</td><td>6.1889033</td><td>0.070013046</td><td>16.486261</td><td>0.16143681</td><td>0.5419495</td><td>5.828847</td><td>0.023982069</td><td>0</td><td>-1.0</td><td>-1.0</td><td>-1.0</td><td>-1</td><td>36.25</td><td>0.18</td><td>-1.0</td><td>-1.0</td><td>-1.0</td><td>-1.0</td><td>-1.0</td><td>-1.0</td><td>-1.0</td><td>-1.0</td><td>-1.0</td><td>-1</td><td>-1.0</td><td>-1</td><td>Stahl_SNI</td></tr>\n",
       "<tr><td>276874</td><td>SGA-2020 276874</td><td>2MASXJ13211289+4015564</td><td>3555214</td><td>200.3036895</td><td>40.2657612</td><td>E?</td><td>91.27</td><td>0.4246196</td><td>0.79250133</td><td>0.035053916</td><td>23.211481</td><td>16.443</td><td>False</td><td>LEDA-20181114</td><td>101413</td><td>2MASXJ13211289+4015564</td><td>1</td><td>True</td><td>200.3036895</td><td>40.2657612</td><td>0.4246196</td><td>2004p402</td><td>200.30366670903584</td><td>40.2657704874295</td><td>0.5307745</td><td>LEDA</td><td>91.27</td><td>0.79250133</td><td>200.3036895</td><td>40.2657612</td><td>-1.0</td><td>-1.0</td><td>-1.0</td><td>-1.0</td><td>-1.0</td><td>-1.0</td><td>-1.0</td><td>-1.0</td><td>-1.0</td><td>-1.0</td><td>-1.0</td><td>-1.0</td><td>-1.0</td><td>-1.0</td><td>-1.0</td><td>-1.0</td><td>-1.0</td><td>-1.0</td><td>-1.0</td><td>-1.0</td><td>-1.0</td><td>-1.0</td><td>-1.0</td><td>-1.0</td><td>-1.0</td><td>-1.0</td><td>-1.0</td><td>-1.0</td><td>-1.0</td><td>-1.0</td><td>-1.0</td><td>-1.0</td><td>-1.0</td><td>-1.0</td><td>-1.0</td><td>-1.0</td><td>-1.0</td><td>-1.0</td><td>-1.0</td><td>-1.0</td><td>-1.0</td><td>-1.0</td><td>-1.0</td><td>-1.0</td><td>-1.0</td><td>-1.0</td><td>-1.0</td><td>-1.0</td><td>-1.0</td><td>-1.0</td><td>-1.0</td><td>-1.0</td><td>-1.0</td><td>-1.0</td><td>-1.0</td><td>-1.0</td><td>-1.0</td><td>-1.0</td><td>-1.0</td><td>-1.0</td><td>-1.0</td><td>-1.0</td><td>-1.0</td><td>-1.0</td><td>-1.0</td><td>-1.0</td><td>-1.0</td><td>-1.0</td><td>-1.0</td><td>-1.0</td><td>-1.0</td><td>-1.0</td><td>-1.0</td><td>-1.0</td><td>-1.0</td><td>-1.0</td><td>-1.0</td><td>-1.0</td><td>-1.0</td><td>-1.0</td><td>-1.0</td><td>-1.0</td><td>-1.0</td><td>-1.0</td><td>-1.0</td><td>-1.0</td><td>-1.0</td><td>-1.0</td><td>-1.0</td><td>-1.0</td><td>-1.0</td><td>4</td><td>-1.0</td><td>-1.0</td><td>-1.0</td><td>-1</td><td>36.01</td><td>0.13</td><td>-1.0</td><td>-1.0</td><td>-1.0</td><td>-1.0</td><td>-1.0</td><td>-1.0</td><td>-1.0</td><td>-1.0</td><td>-1.0</td><td>-1</td><td>-1.0</td><td>-1</td><td>Stahl_SNI</td></tr>\n",
       "<tr><td>554553</td><td>SGA-2020 554553</td><td>SDSSJ000249.43+004506.6</td><td>3577012</td><td>0.706041</td><td>0.751839</td><td>S0-a</td><td>84.98</td><td>0.36057863</td><td>0.85703784</td><td>0.08652552</td><td>23.94248</td><td>17.529</td><td>False</td><td>LEDA-20181114</td><td>202611</td><td>SDSSJ000249.43+004506.6</td><td>1</td><td>True</td><td>0.706041</td><td>0.751839</td><td>0.36057863</td><td>0006p007</td><td>0.7052685880526286</td><td>0.7515041086525273</td><td>0.62748086</td><td>SB26</td><td>71.02251</td><td>0.67836833</td><td>0.7052978540250503</td><td>0.7514723411466789</td><td>14.778227</td><td>6.376742</td><td>6.329987</td><td>6.2990594</td><td>5.255263</td><td>7.881741</td><td>9.390086</td><td>10.861468</td><td>12.291297</td><td>13.757443</td><td>15.340751</td><td>17.022173</td><td>18.824427</td><td>17.742369</td><td>16.856693</td><td>16.197506</td><td>17.203472</td><td>16.324886</td><td>15.677047</td><td>17.03988</td><td>16.160055</td><td>15.511503</td><td>16.938082</td><td>16.058865</td><td>15.41134</td><td>16.873344</td><td>15.995742</td><td>15.350695</td><td>16.829042</td><td>15.952556</td><td>15.306574</td><td>16.796585</td><td>15.920445</td><td>15.274438</td><td>16.771883</td><td>15.89736</td><td>15.251453</td><td>16.755909</td><td>15.879645</td><td>15.232511</td><td>0.11460317</td><td>0.0692063</td><td>0.065552615</td><td>0.0679886</td><td>0.074556485</td><td>0.066761106</td><td>0.09472025</td><td>0.07690647</td><td>0.07979779</td><td>0.023231823</td><td>0.023715248</td><td>0.02820109</td><td>0.018988824</td><td>0.019291433</td><td>0.021411346</td><td>0.017425044</td><td>0.017760761</td><td>0.019697003</td><td>0.01625975</td><td>0.016556839</td><td>0.01826593</td><td>0.015506363</td><td>0.01572127</td><td>0.017132891</td><td>0.014940835</td><td>0.015157759</td><td>0.016492512</td><td>0.014527467</td><td>0.014741051</td><td>0.016036203</td><td>0.014218042</td><td>0.014443947</td><td>0.015713662</td><td>0.013969407</td><td>0.014233406</td><td>0.0156704</td><td>16.70716</td><td>0.61350316</td><td>0.59228474</td><td>3.1190686</td><td>0.0062886593</td><td>15.835392</td><td>0.57633084</td><td>0.6211421</td><td>3.205821</td><td>0.026784562</td><td>15.188272</td><td>0.5658951</td><td>0.6365777</td><td>3.1898878</td><td>0.07539881</td><td>0</td><td>-1.0</td><td>-1.0</td><td>-1.0</td><td>-1</td><td>37.983</td><td>0.126</td><td>-1.0</td><td>-1.0</td><td>-1.0</td><td>-1.0</td><td>-1.0</td><td>-1.0</td><td>-1.0</td><td>-1.0</td><td>-1.0</td><td>-1</td><td>-1.0</td><td>-1</td><td>LOSS_Ganeshalingam13_SN1</td></tr>\n",
       "<tr><td>474506</td><td>SGA-2020 474506</td><td>2MASXJ12592407+2820498</td><td>3799928</td><td>194.85054</td><td>28.347233199999998</td><td>S?</td><td>83.53</td><td>0.37153524</td><td>0.726106</td><td>0.06770817</td><td>23.811481</td><td>17.333</td><td>False</td><td>LEDA-20181114</td><td>172229</td><td>2MASXJ12592407+2820498</td><td>1</td><td>True</td><td>194.85054</td><td>28.347233199999998</td><td>0.37153524</td><td>1948p282</td><td>194.8505055352854</td><td>28.34719917557576</td><td>0.53895026</td><td>SB26</td><td>87.31538</td><td>0.64912796</td><td>194.8504418338237</td><td>28.34727445354061</td><td>12.159943</td><td>4.160359</td><td>3.866543</td><td>3.2716143</td><td>4.3479757</td><td>5.427159</td><td>6.5417995</td><td>7.7074184</td><td>9.033473</td><td>10.500874</td><td>12.189946</td><td>13.996174</td><td>16.168509</td><td>17.70245</td><td>16.892986</td><td>16.211628</td><td>17.519907</td><td>16.731558</td><td>16.080015</td><td>17.396557</td><td>16.619452</td><td>15.987517</td><td>17.30709</td><td>16.538094</td><td>15.920381</td><td>17.237488</td><td>16.474945</td><td>15.868666</td><td>17.185127</td><td>16.428755</td><td>15.831332</td><td>17.1421</td><td>16.38998</td><td>15.796828</td><td>17.110134</td><td>16.359432</td><td>15.771185</td><td>17.084904</td><td>16.33436</td><td>15.751581</td><td>0.028779598</td><td>0.04424667</td><td>0.044781487</td><td>0.0426444</td><td>0.04283108</td><td>0.06133143</td><td>0.07891288</td><td>0.08572148</td><td>0.12660429</td><td>0.018391902</td><td>0.020923559</td><td>0.025908979</td><td>0.017497174</td><td>0.019393422</td><td>0.023825068</td><td>0.016567467</td><td>0.018213285</td><td>0.022330021</td><td>0.015718795</td><td>0.017226089</td><td>0.021215748</td><td>0.014912508</td><td>0.016387504</td><td>0.020304013</td><td>0.014271385</td><td>0.01575628</td><td>0.019646972</td><td>0.01374942</td><td>0.01522582</td><td>0.019050691</td><td>0.013376525</td><td>0.014819059</td><td>0.018631341</td><td>0.013091454</td><td>0.014499241</td><td>0.01831783</td><td>16.990608</td><td>0.9695011</td><td>0.24175155</td><td>1.8012542</td><td>0.0069729453</td><td>16.241383</td><td>0.9818832</td><td>0.22718073</td><td>1.7086776</td><td>0.028316995</td><td>15.671174</td><td>0.8049514</td><td>0.23549543</td><td>1.6847804</td><td>0.02361801</td><td>0</td><td>-1.0</td><td>-1.0</td><td>-1.0</td><td>-1</td><td>37.55</td><td>0.0</td><td>36.99</td><td>36.99</td><td>37.0</td><td>0.16</td><td>0.0</td><td>0.0</td><td>0.0</td><td>0.0</td><td>36.97</td><td>0</td><td>0.0</td><td>0</td><td>5_Sources_SNI</td></tr>\n",
       "<tr><td>1043097</td><td>SGA-2020 1043097</td><td>2MASXJ13590394+3308172</td><td>3817166</td><td>209.76640049999997</td><td>33.138217100000006</td><td>S?</td><td>134.92</td><td>0.726106</td><td>0.6441693</td><td>0.050934568</td><td>23.943481</td><td>16.01</td><td>False</td><td>LEDA-20181114</td><td>210565</td><td>2MASXJ13590394+3308172_GROUP</td><td>3</td><td>True</td><td>209.76578993433696</td><td>33.14150960596251</td><td>0.9260237</td><td>2097p332</td><td>209.76644723434254</td><td>33.13824682465341</td><td>1.2160765</td><td>SB26</td><td>155.1088</td><td>0.60746396</td><td>209.76598783381613</td><td>33.13900742218262</td><td>32.624016</td><td>7.982447</td><td>7.1756096</td><td>3.3935559</td><td>8.622076</td><td>10.805408</td><td>13.662248</td><td>16.950022</td><td>20.981544</td><td>25.102362</td><td>28.411802</td><td>32.57074</td><td>36.482296</td><td>16.196274</td><td>15.241095</td><td>14.602144</td><td>16.069126</td><td>15.119927</td><td>14.497682</td><td>15.948036</td><td>15.003509</td><td>14.40388</td><td>15.842336</td><td>14.901446</td><td>14.3281145</td><td>15.7462435</td><td>14.810077</td><td>14.271717</td><td>15.677313</td><td>14.752023</td><td>14.250131</td><td>15.627727</td><td>14.708069</td><td>14.23965</td><td>15.587131</td><td>14.672232</td><td>14.240137</td><td>15.567438</td><td>14.656647</td><td>14.251483</td><td>0.057374645</td><td>0.04012707</td><td>0.04966264</td><td>0.075873375</td><td>0.073895685</td><td>0.1343414</td><td>0.123253815</td><td>0.09797898</td><td>0.2638614</td><td>0.043723855</td><td>0.047332514</td><td>0.052043997</td><td>0.039065957</td><td>0.042525217</td><td>0.04750709</td><td>0.034846954</td><td>0.038076703</td><td>0.04340723</td><td>0.03162615</td><td>0.03467021</td><td>0.040494073</td><td>0.028951984</td><td>0.031874977</td><td>0.03844769</td><td>0.027274184</td><td>0.030336035</td><td>0.037857357</td><td>0.025979323</td><td>0.029031659</td><td>0.03733943</td><td>0.025031473</td><td>0.028092712</td><td>0.037359457</td><td>0.024666578</td><td>0.027796395</td><td>0.037914805</td><td>15.481846</td><td>0.17060512</td><td>39.51264</td><td>3.2057078</td><td>0.091439106</td><td>14.584622</td><td>0.17741244</td><td>24.881136</td><td>3.0532267</td><td>0.065306805</td><td>14.242066</td><td>0.05601926</td><td>186.46175</td><td>7.5931706</td><td>0.11306961</td><td>0</td><td>-1.0</td><td>-1.0</td><td>-1.0</td><td>-1</td><td>36.64</td><td>0.14</td><td>-1.0</td><td>-1.0</td><td>-1.0</td><td>-1.0</td><td>-1.0</td><td>-1.0</td><td>-1.0</td><td>-1.0</td><td>-1.0</td><td>-1</td><td>-1.0</td><td>-1</td><td>Stahl_SNI</td></tr>\n",
       "<tr><td>1112235</td><td>SGA-2020 1112235</td><td>2MASXJ15195900+0454389</td><td>3844474</td><td>229.995921</td><td>4.9107734</td><td>SBbc</td><td>101.97</td><td>0.42657954</td><td>0.887156</td><td>0.07821277</td><td>23.71648</td><td>16.938</td><td>False</td><td>LEDA-20181114</td><td>406705</td><td>2MASXJ15195900+0454389</td><td>1</td><td>True</td><td>229.995921</td><td>4.9107734</td><td>0.42657954</td><td>2300p050</td><td>229.9959372417758</td><td>4.910750651416653</td><td>0.5067796</td><td>SB26</td><td>113.44692</td><td>0.96581906</td><td>229.99585176329268</td><td>4.910726838089146</td><td>13.092988</td><td>4.0300117</td><td>3.8033292</td><td>3.5104513</td><td>4.446066</td><td>5.4488616</td><td>6.51914</td><td>7.739122</td><td>9.138503</td><td>10.6042595</td><td>12.070999</td><td>13.565048</td><td>15.203389</td><td>17.235632</td><td>16.492481</td><td>15.94086</td><td>17.073921</td><td>16.34107</td><td>15.799045</td><td>16.970018</td><td>16.238752</td><td>15.700538</td><td>16.876337</td><td>16.148613</td><td>15.614183</td><td>16.800762</td><td>16.076923</td><td>15.544784</td><td>16.74856</td><td>16.028519</td><td>15.49828</td><td>16.708054</td><td>15.992277</td><td>15.464593</td><td>16.678694</td><td>15.965203</td><td>15.441368</td><td>16.661587</td><td>15.947141</td><td>15.423995</td><td>0.01587582</td><td>0.02079382</td><td>0.020289164</td><td>0.015475233</td><td>0.019831914</td><td>0.031129979</td><td>0.048567805</td><td>0.06841171</td><td>0.08396845</td><td>0.018339084</td><td>0.019953229</td><td>0.021957709</td><td>0.016180176</td><td>0.017585253</td><td>0.019425413</td><td>0.014767831</td><td>0.016038349</td><td>0.017766051</td><td>0.013523876</td><td>0.014685733</td><td>0.016262908</td><td>0.012684565</td><td>0.013841301</td><td>0.015417716</td><td>0.012103334</td><td>0.013245356</td><td>0.0147814</td><td>0.011671749</td><td>0.012816992</td><td>0.014339236</td><td>0.011323428</td><td>0.012431617</td><td>0.013910362</td><td>0.011202399</td><td>0.01230682</td><td>0.013830611</td><td>16.560862</td><td>0.5722601</td><td>0.43474144</td><td>2.0196695</td><td>0.45582312</td><td>15.862741</td><td>0.49592248</td><td>0.44819248</td><td>2.1439278</td><td>0.14507441</td><td>15.361794</td><td>0.34544572</td><td>0.5607003</td><td>2.5189993</td><td>0.083018996</td><td>0</td><td>-1.0</td><td>-1.0</td><td>-1.0</td><td>-1</td><td>35.98</td><td>0.38</td><td>-1.0</td><td>-1.0</td><td>-1.0</td><td>-1.0</td><td>-1.0</td><td>-1.0</td><td>-1.0</td><td>-1.0</td><td>-1.0</td><td>-1</td><td>-1.0</td><td>-1</td><td>Stahl_SNI</td></tr>\n",
       "<tr><td>1003592</td><td>SGA-2020 1003592</td><td>2MASXJ15383353+1320423</td><td>3850590</td><td>234.6396465</td><td>13.3451902</td><td>E</td><td>95.87</td><td>1.1066239</td><td>0.39264494</td><td>0.049239393</td><td>24.53848</td><td>15.69</td><td>False</td><td>LEDA-20181114</td><td>368395</td><td>2MASXJ15383353+1320423</td><td>1</td><td>True</td><td>234.6396465</td><td>13.3451902</td><td>1.1066239</td><td>2347p132</td><td>234.6395908136752</td><td>13.345177030781356</td><td>1.6206976</td><td>SB26</td><td>94.07573</td><td>0.45584822</td><td>234.6395139568025</td><td>13.345209703682338</td><td>34.99767</td><td>11.213743</td><td>9.405686</td><td>8.367402</td><td>11.281633</td><td>14.00367</td><td>17.225758</td><td>21.13498</td><td>25.750212</td><td>30.922585</td><td>36.52014</td><td>42.53996</td><td>48.62093</td><td>15.810586</td><td>14.869705</td><td>14.14858</td><td>15.688239</td><td>14.757163</td><td>14.045378</td><td>15.587478</td><td>14.664284</td><td>13.960757</td><td>15.499017</td><td>14.582982</td><td>13.887509</td><td>15.42523</td><td>14.514143</td><td>13.822473</td><td>15.363465</td><td>14.456938</td><td>13.769391</td><td>15.317715</td><td>14.4112015</td><td>13.728524</td><td>15.278189</td><td>14.378159</td><td>13.6969595</td><td>15.251881</td><td>14.354824</td><td>13.675302</td><td>0.024938086</td><td>0.035260793</td><td>0.03791326</td><td>0.06559653</td><td>0.08267512</td><td>0.10978768</td><td>0.14057972</td><td>0.20910272</td><td>0.22843935</td><td>0.019121418</td><td>0.021305494</td><td>0.023573628</td><td>0.01711705</td><td>0.019234283</td><td>0.02145563</td><td>0.015619952</td><td>0.01766974</td><td>0.019859327</td><td>0.014441892</td><td>0.016427407</td><td>0.018614344</td><td>0.013507282</td><td>0.015426234</td><td>0.01754158</td><td>0.0127743315</td><td>0.014641442</td><td>0.01671276</td><td>0.012235468</td><td>0.014022831</td><td>0.016068472</td><td>0.011833422</td><td>0.0136268465</td><td>0.015650487</td><td>0.011540242</td><td>0.01332285</td><td>0.015316328</td><td>15.060707</td><td>0.8174262</td><td>1.7325429</td><td>1.1945935</td><td>0.04810646</td><td>14.214338</td><td>0.47442538</td><td>3.5483978</td><td>1.4815468</td><td>0.07440192</td><td>13.544279</td><td>0.4229744</td><td>3.7780316</td><td>1.4878583</td><td>0.051716216</td><td>0</td><td>-1.0</td><td>-1.0</td><td>-1.0</td><td>-1</td><td>36.6</td><td>0.26</td><td>-1.0</td><td>-1.0</td><td>-1.0</td><td>-1.0</td><td>-1.0</td><td>-1.0</td><td>-1.0</td><td>-1.0</td><td>-1.0</td><td>-1</td><td>-1.0</td><td>-1</td><td>Stahl_SNI</td></tr>\n",
       "<tr><td>639159</td><td>SGA-2020 639159</td><td>SDSSJ101331.75+293305.0</td><td>4228874</td><td>153.382266</td><td>29.551388899999996</td><td>S?</td><td>177.82</td><td>0.34197944</td><td>0.8892011</td><td>0.04857794</td><td>23.99048</td><td>17.692</td><td>False</td><td>LEDA-20181114</td><td>234324</td><td>SDSSJ101331.75+293305.0</td><td>1</td><td>True</td><td>153.382266</td><td>29.551388899999996</td><td>0.34197944</td><td>1534p295</td><td>153.38217689624778</td><td>29.551327381594906</td><td>0.40653172</td><td>SB26</td><td>20.786428</td><td>0.89813745</td><td>153.38198060178817</td><td>29.551446656245457</td><td>10.3093</td><td>4.912087</td><td>4.839452</td><td>4.8639874</td><td>1.7325572</td><td>3.69106</td><td>5.034809</td><td>6.3818502</td><td>7.592218</td><td>8.7955</td><td>10.087028</td><td>11.226658</td><td>12.195951</td><td>19.605158</td><td>19.198208</td><td>18.991611</td><td>18.350752</td><td>18.001871</td><td>17.835688</td><td>17.898258</td><td>17.575365</td><td>17.43353</td><td>17.627695</td><td>17.323431</td><td>17.185822</td><td>17.487045</td><td>17.196184</td><td>17.059698</td><td>17.39131</td><td>17.105177</td><td>16.961287</td><td>17.323757</td><td>17.03772</td><td>16.8963</td><td>17.285948</td><td>16.998661</td><td>16.855953</td><td>17.264229</td><td>16.974092</td><td>16.83242</td><td>0.03745846</td><td>0.027276287</td><td>0.01848761</td><td>0.018490786</td><td>0.024645653</td><td>0.033425547</td><td>0.042474758</td><td>0.059255466</td><td>0.0866532</td><td>0.046854123</td><td>0.066644974</td><td>0.073335096</td><td>0.019589353</td><td>0.026844405</td><td>0.029671654</td><td>0.013967272</td><td>0.018959891</td><td>0.021089824</td><td>0.011268555</td><td>0.015272105</td><td>0.017055035</td><td>0.01001976</td><td>0.013666552</td><td>0.015343391</td><td>0.009228813</td><td>0.012621321</td><td>0.014111606</td><td>0.008720744</td><td>0.011913799</td><td>0.01344809</td><td>0.00843785</td><td>0.011518224</td><td>0.013042864</td><td>0.008283008</td><td>0.011280555</td><td>0.012835568</td><td>17.180359</td><td>0.5615758</td><td>0.30077854</td><td>3.148087</td><td>0.57504076</td><td>16.87404</td><td>0.6212751</td><td>0.30888015</td><td>2.8005686</td><td>0.6688048</td><td>16.721918</td><td>0.60686344</td><td>0.34192276</td><td>2.7357063</td><td>0.3235579</td><td>0</td><td>-1.0</td><td>-1.0</td><td>-1.0</td><td>-1</td><td>36.04</td><td>0.44</td><td>-1.0</td><td>-1.0</td><td>-1.0</td><td>-1.0</td><td>-1.0</td><td>-1.0</td><td>-1.0</td><td>-1.0</td><td>-1.0</td><td>-1</td><td>-1.0</td><td>-1</td><td>Stahl_SNI</td></tr>\n",
       "<tr><td>1281981</td><td>SGA-2020 1281981</td><td>SDSSJ134550.90+264747.4</td><td>4384817</td><td>206.4621285</td><td>26.7965933</td><td>S?</td><td>25.31</td><td>0.39719152</td><td>0.8531001</td><td>0.050402533</td><td>24.566483</td><td>17.943</td><td>False</td><td>LEDA-20181114</td><td>469640</td><td>SDSSJ134550.90+264747.4</td><td>1</td><td>True</td><td>206.4621285</td><td>26.7965933</td><td>0.39719152</td><td>2064p267</td><td>206.46214059781587</td><td>26.796520343789823</td><td>0.4454694</td><td>SB26</td><td>38.160957</td><td>0.86325216</td><td>206.4620829425037</td><td>26.796696647823882</td><td>11.021274</td><td>6.793196</td><td>8.123959</td><td>9.279049</td><td>0.40364933</td><td>1.1969014</td><td>2.7751362</td><td>4.3152137</td><td>6.204098</td><td>7.8994026</td><td>9.749019</td><td>11.489086</td><td>13.364082</td><td>23.048138</td><td>22.59077</td><td>22.209549</td><td>20.93193</td><td>20.471182</td><td>20.15102</td><td>19.634205</td><td>19.187914</td><td>18.901506</td><td>19.053621</td><td>18.632013</td><td>18.36521</td><td>18.606968</td><td>18.19375</td><td>17.93779</td><td>18.32503</td><td>17.918201</td><td>17.685394</td><td>18.155245</td><td>17.739944</td><td>17.503878</td><td>18.063652</td><td>17.643251</td><td>17.404259</td><td>17.996336</td><td>17.565388</td><td>17.328281</td><td>0.013978079</td><td>0.019843657</td><td>0.023737501</td><td>0.035943236</td><td>0.05899819</td><td>0.05285361</td><td>0.06998709</td><td>0.085430734</td><td>0.18086724</td><td>0.08726471</td><td>0.08427542</td><td>0.070231766</td><td>0.060505666</td><td>0.0494986</td><td>0.05955245</td><td>0.029255137</td><td>0.026094802</td><td>0.02919838</td><td>0.01944333</td><td>0.017780386</td><td>0.020262359</td><td>0.0145322485</td><td>0.013630254</td><td>0.015519509</td><td>0.012157334</td><td>0.011600618</td><td>0.013152493</td><td>0.010703303</td><td>0.010153969</td><td>0.0117188115</td><td>0.010067854</td><td>0.009531293</td><td>0.011126077</td><td>0.009705757</td><td>0.009134513</td><td>0.010870045</td><td>17.730515</td><td>0.82482713</td><td>0.66710836</td><td>2.0787592</td><td>17.838123</td><td>17.154177</td><td>1.087618</td><td>0.71247536</td><td>1.6201276</td><td>20.807684</td><td>16.80764</td><td>1.3582938</td><td>0.66943294</td><td>1.3448274</td><td>12.183096</td><td>0</td><td>-1.0</td><td>-1.0</td><td>-1.0</td><td>-1</td><td>36.07</td><td>0.27</td><td>-1.0</td><td>-1.0</td><td>-1.0</td><td>-1.0</td><td>-1.0</td><td>-1.0</td><td>-1.0</td><td>-1.0</td><td>-1.0</td><td>-1</td><td>-1.0</td><td>-1</td><td>Stahl_SNI</td></tr>\n",
       "</table>"
      ],
      "text/plain": [
       "<Table length=1934>\n",
       " SGA_ID    SGA_GALAXY    ... e_DM7_SN        SN_Catalog       \n",
       " int64      bytes16      ...  int64            str24          \n",
       "------- ---------------- ... -------- ------------------------\n",
       " 207638  SGA-2020 207638 ...       -1                       -1\n",
       "1327008 SGA-2020 1327008 ...       -1 LOSS_Ganeshalingam13_SN1\n",
       "1327008 SGA-2020 1327008 ...       -1         SNIa_calibration\n",
       "1327008 SGA-2020 1327008 ...       -1                Stahl_SNI\n",
       "1327008 SGA-2020 1327008 ...        0            5_Sources_SNI\n",
       "1327008 SGA-2020 1327008 ...       -1               Union2_SNI\n",
       "1327008 SGA-2020 1327008 ...       -1         Constitution_SNI\n",
       " 412276  SGA-2020 412276 ...       -1                Stahl_SNI\n",
       " 412276  SGA-2020 412276 ...       -1         CSP1_Burns18_SN1\n",
       " 559852  SGA-2020 559852 ...       -1         SNIa_calibration\n",
       "    ...              ... ...      ...                      ...\n",
       "1114827 SGA-2020 1114827 ...       -1                Stahl_SNI\n",
       "1273956 SGA-2020 1273956 ...       -1                Stahl_SNI\n",
       " 276874  SGA-2020 276874 ...       -1                Stahl_SNI\n",
       " 554553  SGA-2020 554553 ...       -1 LOSS_Ganeshalingam13_SN1\n",
       " 474506  SGA-2020 474506 ...        0            5_Sources_SNI\n",
       "1043097 SGA-2020 1043097 ...       -1                Stahl_SNI\n",
       "1112235 SGA-2020 1112235 ...       -1                Stahl_SNI\n",
       "1003592 SGA-2020 1003592 ...       -1                Stahl_SNI\n",
       " 639159  SGA-2020 639159 ...       -1                Stahl_SNI\n",
       "1281981 SGA-2020 1281981 ...       -1                Stahl_SNI"
      ]
     },
     "execution_count": 77,
     "metadata": {},
     "output_type": "execute_result"
    }
   ],
   "source": [
    "# m = (maintab2['DM_Stellar'] != -1) or (maintain2['DM1_SN'] != -1)\n",
    "disttab = maintab2[(maintab2['DM_Stellar'] != -1) | (maintab2['DM1_SN'] != -1)]\n",
    "disttab"
   ]
  },
  {
   "cell_type": "code",
   "execution_count": 81,
   "id": "d43e07a0-1cc6-4685-8890-250b3139f00d",
   "metadata": {},
   "outputs": [],
   "source": [
    "sep_max = 1.45 * u.deg\n",
    "sep_min = 0.15 * u.deg\n",
    "SGA_match = []\n",
    "with open(\"rosette_match_output_dist.txt\", \"a\") as f:\n",
    "    for i in range(len(centers)):\n",
    "        print('TILE ID: ', centers[i]['TILEID'], file = f)\n",
    "        ra, dec = centers[i]['RA'] * u.deg, centers[i]['DEC'] * u.deg\n",
    "        center = SkyCoord(ra, dec)\n",
    "        for j in range(len(disttab)):\n",
    "            ra2, dec2 = disttab[j]['RA'] * u.deg, disttab[j]['DEC'] * u.deg\n",
    "            target = SkyCoord(ra2, dec2)\n",
    "            d2d = center.separation(target)\n",
    "            msk1 = d2d < sep_max\n",
    "            msk2 = d2d > sep_min\n",
    "            if msk1 == True and msk2 == True:\n",
    "                # print('Match found')\n",
    "                SGA_match.append(disttab[j]['SGA_ID'])\n",
    "                print('Match found:', disttab[j]['SGA_ID'], file = f)\n",
    "            # print()\n",
    "            # break\n",
    "        print(file = f)\n",
    "        # break\n",
    "# f.close()"
   ]
  },
  {
   "cell_type": "code",
   "execution_count": 80,
   "id": "1abd4089-8ad8-412a-bd11-7d1c1af7a93e",
   "metadata": {},
   "outputs": [],
   "source": [
    "f.close()"
   ]
  },
  {
   "cell_type": "code",
   "execution_count": 84,
   "id": "613a9212-e691-4331-85fc-2d413dda90f3",
   "metadata": {},
   "outputs": [
    {
     "data": {
      "text/plain": [
       "array([  49524,  135945,  294387,  464075,  474506,  497874,  630029,\n",
       "        662902,  772284, 1065602, 1271764, 1351452, 1385252, 1413430,\n",
       "       2000090])"
      ]
     },
     "execution_count": 84,
     "metadata": {},
     "output_type": "execute_result"
    }
   ],
   "source": [
    "(np.unique(SGA_match))"
   ]
  },
  {
   "cell_type": "code",
   "execution_count": 85,
   "id": "96bb47f7-c896-4244-9f9e-5438cb1094d3",
   "metadata": {},
   "outputs": [
    {
     "data": {
      "text/html": [
       "<i>Table length=1</i>\n",
       "<table id=\"table46913528112704\" class=\"table-striped table-bordered table-condensed\">\n",
       "<thead><tr><th>SGA_ID</th><th>SGA_GALAXY</th><th>GALAXY</th><th>PGC</th><th>RA_LEDA</th><th>DEC_LEDA</th><th>MORPHTYPE</th><th>PA_LEDA</th><th>D25_LEDA</th><th>BA_LEDA</th><th>Z_LEDA</th><th>SB_D25_LEDA</th><th>MAG_LEDA</th><th>BYHAND</th><th>REF</th><th>GROUP_ID</th><th>GROUP_NAME</th><th>GROUP_MULT</th><th>GROUP_PRIMARY</th><th>GROUP_RA</th><th>GROUP_DEC</th><th>GROUP_DIAMETER</th><th>BRICKNAME</th><th>RA</th><th>DEC</th><th>D26</th><th>D26_REF</th><th>PA</th><th>BA</th><th>RA_MOMENT</th><th>DEC_MOMENT</th><th>SMA_MOMENT</th><th>G_SMA50</th><th>R_SMA50</th><th>Z_SMA50</th><th>SMA_SB22</th><th>SMA_SB22.5</th><th>SMA_SB23</th><th>SMA_SB23.5</th><th>SMA_SB24</th><th>SMA_SB24.5</th><th>SMA_SB25</th><th>SMA_SB25.5</th><th>SMA_SB26</th><th>G_MAG_SB22</th><th>R_MAG_SB22</th><th>Z_MAG_SB22</th><th>G_MAG_SB22.5</th><th>R_MAG_SB22.5</th><th>Z_MAG_SB22.5</th><th>G_MAG_SB23</th><th>R_MAG_SB23</th><th>Z_MAG_SB23</th><th>G_MAG_SB23.5</th><th>R_MAG_SB23.5</th><th>Z_MAG_SB23.5</th><th>G_MAG_SB24</th><th>R_MAG_SB24</th><th>Z_MAG_SB24</th><th>G_MAG_SB24.5</th><th>R_MAG_SB24.5</th><th>Z_MAG_SB24.5</th><th>G_MAG_SB25</th><th>R_MAG_SB25</th><th>Z_MAG_SB25</th><th>G_MAG_SB25.5</th><th>R_MAG_SB25.5</th><th>Z_MAG_SB25.5</th><th>G_MAG_SB26</th><th>R_MAG_SB26</th><th>Z_MAG_SB26</th><th>SMA_SB22_ERR</th><th>SMA_SB22.5_ERR</th><th>SMA_SB23_ERR</th><th>SMA_SB23.5_ERR</th><th>SMA_SB24_ERR</th><th>SMA_SB24.5_ERR</th><th>SMA_SB25_ERR</th><th>SMA_SB25.5_ERR</th><th>SMA_SB26_ERR</th><th>G_MAG_SB22_ERR</th><th>R_MAG_SB22_ERR</th><th>Z_MAG_SB22_ERR</th><th>G_MAG_SB22.5_ERR</th><th>R_MAG_SB22.5_ERR</th><th>Z_MAG_SB22.5_ERR</th><th>G_MAG_SB23_ERR</th><th>R_MAG_SB23_ERR</th><th>Z_MAG_SB23_ERR</th><th>G_MAG_SB23.5_ERR</th><th>R_MAG_SB23.5_ERR</th><th>Z_MAG_SB23.5_ERR</th><th>G_MAG_SB24_ERR</th><th>R_MAG_SB24_ERR</th><th>Z_MAG_SB24_ERR</th><th>G_MAG_SB24.5_ERR</th><th>R_MAG_SB24.5_ERR</th><th>Z_MAG_SB24.5_ERR</th><th>G_MAG_SB25_ERR</th><th>R_MAG_SB25_ERR</th><th>Z_MAG_SB25_ERR</th><th>G_MAG_SB25.5_ERR</th><th>R_MAG_SB25.5_ERR</th><th>Z_MAG_SB25.5_ERR</th><th>G_MAG_SB26_ERR</th><th>R_MAG_SB26_ERR</th><th>Z_MAG_SB26_ERR</th><th>G_COG_PARAMS_MTOT</th><th>G_COG_PARAMS_M0</th><th>G_COG_PARAMS_ALPHA1</th><th>G_COG_PARAMS_ALPHA2</th><th>G_COG_PARAMS_CHI2</th><th>R_COG_PARAMS_MTOT</th><th>R_COG_PARAMS_M0</th><th>R_COG_PARAMS_ALPHA1</th><th>R_COG_PARAMS_ALPHA2</th><th>R_COG_PARAMS_CHI2</th><th>Z_COG_PARAMS_MTOT</th><th>Z_COG_PARAMS_M0</th><th>Z_COG_PARAMS_ALPHA1</th><th>Z_COG_PARAMS_ALPHA2</th><th>Z_COG_PARAMS_CHI2</th><th>ELLIPSEBIT</th><th>DM_Stellar</th><th>e_DM_lo_Stellar</th><th>e_DM_hi_Stellar</th><th>Stellar_Catalog</th><th>DM1_SN</th><th>e_DM1_SN</th><th>DM2_SN</th><th>e_DM2_SN</th><th>DM3_SN</th><th>e_DM3_SN</th><th>DM4_SN</th><th>e_DM4_SN</th><th>DM5_SN</th><th>e_DM5_SN</th><th>DM6_SN</th><th>e_DM6_SN</th><th>DM7_SN</th><th>e_DM7_SN</th><th>SN_Catalog</th></tr></thead>\n",
       "<thead><tr><th>int64</th><th>bytes16</th><th>bytes29</th><th>int64</th><th>float64</th><th>float64</th><th>bytes21</th><th>float32</th><th>float32</th><th>float32</th><th>float32</th><th>float32</th><th>float32</th><th>bool</th><th>bytes13</th><th>int64</th><th>bytes35</th><th>int16</th><th>bool</th><th>float64</th><th>float64</th><th>float32</th><th>bytes8</th><th>float64</th><th>float64</th><th>float32</th><th>bytes4</th><th>float32</th><th>float32</th><th>float64</th><th>float64</th><th>float32</th><th>float32</th><th>float32</th><th>float32</th><th>float32</th><th>float32</th><th>float32</th><th>float32</th><th>float32</th><th>float32</th><th>float32</th><th>float32</th><th>float32</th><th>float32</th><th>float32</th><th>float32</th><th>float32</th><th>float32</th><th>float32</th><th>float32</th><th>float32</th><th>float32</th><th>float32</th><th>float32</th><th>float32</th><th>float32</th><th>float32</th><th>float32</th><th>float32</th><th>float32</th><th>float32</th><th>float32</th><th>float32</th><th>float32</th><th>float32</th><th>float32</th><th>float32</th><th>float32</th><th>float32</th><th>float32</th><th>float32</th><th>float32</th><th>float32</th><th>float32</th><th>float32</th><th>float32</th><th>float32</th><th>float32</th><th>float32</th><th>float32</th><th>float32</th><th>float32</th><th>float32</th><th>float32</th><th>float32</th><th>float32</th><th>float32</th><th>float32</th><th>float32</th><th>float32</th><th>float32</th><th>float32</th><th>float32</th><th>float32</th><th>float32</th><th>float32</th><th>float32</th><th>float32</th><th>float32</th><th>float32</th><th>float32</th><th>float32</th><th>float32</th><th>float32</th><th>float32</th><th>float32</th><th>float32</th><th>float32</th><th>float32</th><th>float32</th><th>float32</th><th>float32</th><th>float32</th><th>float32</th><th>float32</th><th>float32</th><th>float32</th><th>float32</th><th>float32</th><th>float32</th><th>float32</th><th>int32</th><th>float64</th><th>float64</th><th>float64</th><th>str16</th><th>float64</th><th>float64</th><th>float64</th><th>float64</th><th>float64</th><th>float64</th><th>float64</th><th>float64</th><th>float64</th><th>float64</th><th>float64</th><th>int64</th><th>float64</th><th>int64</th><th>str24</th></tr></thead>\n",
       "<tr><td>2000090</td><td>SGA-2020 2000090</td><td>KKH86</td><td>2807150</td><td>208.639395</td><td>4.244438</td><td>dIrr</td><td>177.0</td><td>1.12</td><td>0.61</td><td>0.00096053514</td><td>25.974571</td><td>17.1</td><td>False</td><td>LGDWARFS</td><td>528594</td><td>KKH86</td><td>1</td><td>True</td><td>208.639395</td><td>4.244438</td><td>1.12</td><td>2086p042</td><td>208.63972178060317</td><td>4.244498901726164</td><td>1.0676076</td><td>SB26</td><td>170.32007</td><td>0.5827334</td><td>208.63968031066798</td><td>4.24463009280064</td><td>22.80629</td><td>22.110266</td><td>23.175814</td><td>22.7685</td><td>-1.0</td><td>-1.0</td><td>-1.0</td><td>2.1870558</td><td>7.5076385</td><td>14.265005</td><td>21.140234</td><td>26.860487</td><td>32.02823</td><td>-1.0</td><td>-1.0</td><td>-1.0</td><td>-1.0</td><td>-1.0</td><td>-1.0</td><td>-1.0</td><td>-1.0</td><td>-1.0</td><td>21.529501</td><td>21.079931</td><td>20.850012</td><td>19.002533</td><td>18.631569</td><td>18.403715</td><td>17.85994</td><td>17.516594</td><td>17.313553</td><td>17.326685</td><td>16.972342</td><td>16.754358</td><td>17.085537</td><td>16.721113</td><td>16.503862</td><td>16.940128</td><td>16.571085</td><td>16.35761</td><td>-1.0</td><td>-1.0</td><td>-1.0</td><td>0.05646121</td><td>0.083752856</td><td>0.14392973</td><td>0.12178976</td><td>0.14702602</td><td>0.2187881</td><td>-1.0</td><td>-1.0</td><td>-1.0</td><td>-1.0</td><td>-1.0</td><td>-1.0</td><td>-1.0</td><td>-1.0</td><td>-1.0</td><td>0.032627493</td><td>0.03765607</td><td>0.06573504</td><td>0.010871151</td><td>0.012353091</td><td>0.018345706</td><td>0.00635901</td><td>0.0073078596</td><td>0.011273069</td><td>0.005092679</td><td>0.0059680473</td><td>0.008832604</td><td>0.004640285</td><td>0.005482721</td><td>0.008107432</td><td>0.0044362904</td><td>0.0052330135</td><td>0.007900765</td><td>16.524176</td><td>1.0284809</td><td>5.574703</td><td>2.0700536</td><td>0.8340654</td><td>16.116747</td><td>0.9855422</td><td>6.54034</td><td>2.072152</td><td>0.18118383</td><td>15.921342</td><td>0.9220686</td><td>7.505497</td><td>2.1670828</td><td>1.8919169</td><td>0</td><td>27.06</td><td>0.16</td><td>0.16</td><td>McConnachi</td><td>-1.0</td><td>-1.0</td><td>-1.0</td><td>-1.0</td><td>-1.0</td><td>-1.0</td><td>-1.0</td><td>-1.0</td><td>-1.0</td><td>-1.0</td><td>-1.0</td><td>-1</td><td>-1.0</td><td>-1</td><td>-1</td></tr>\n",
       "</table>"
      ],
      "text/plain": [
       "<Table length=1>\n",
       " SGA_ID    SGA_GALAXY     GALAXY   PGC   ...  DM7_SN e_DM7_SN SN_Catalog\n",
       " int64      bytes16      bytes29  int64  ... float64  int64     str24   \n",
       "------- ---------------- ------- ------- ... ------- -------- ----------\n",
       "2000090 SGA-2020 2000090   KKH86 2807150 ...    -1.0       -1         -1"
      ]
     },
     "execution_count": 85,
     "metadata": {},
     "output_type": "execute_result"
    }
   ],
   "source": [
    "disttab[disttab['SGA_ID'] == 2000090]"
   ]
  },
  {
   "cell_type": "code",
   "execution_count": 88,
   "id": "ef17ba45-8742-4a23-91db-a45f5ae87f94",
   "metadata": {},
   "outputs": [
    {
     "data": {
      "text/html": [
       "<i>Table length=50337</i>\n",
       "<table id=\"table46913532713952\" class=\"table-striped table-bordered table-condensed\">\n",
       "<thead><tr><th>PVTYPE</th><th>SGA_ID</th><th>TARGETID</th><th>FIBER_RA</th><th>FIBER_DEC</th><th>FIBERSTATUS</th><th>TILEID</th><th>TARGET_RA</th><th>TARGET_DEC</th><th>Z</th><th>ZERR</th><th>SPECTYPE</th><th>DELTACHI2</th><th>ZWARN</th></tr></thead>\n",
       "<thead><tr><th>bytes3</th><th>int64</th><th>int64</th><th>float64</th><th>float64</th><th>int64</th><th>int64</th><th>float64</th><th>float64</th><th>float64</th><th>float64</th><th>bytes6</th><th>float64</th><th>int64</th></tr></thead>\n",
       "<tr><td>EXT</td><td>17643</td><td>39633062056692288</td><td>0.0</td><td>0.0</td><td>0</td><td>80618</td><td>115.163713024568</td><td>39.2330431988692</td><td>0.0112272729370015</td><td>2.54691135614028e-06</td><td>GALAXY</td><td>199710.72255059</td><td>0</td></tr>\n",
       "<tr><td>EXT</td><td>17643</td><td>39633062056692288</td><td>115.163671928495</td><td>39.2330481232594</td><td>0</td><td>80618</td><td>115.163713024568</td><td>39.2330431988692</td><td>0.0112272729370015</td><td>2.54691135614028e-06</td><td>GALAXY</td><td>199710.72255059</td><td>0</td></tr>\n",
       "<tr><td>EXT</td><td>17643</td><td>39633062056692288</td><td>115.163676763292</td><td>39.2330716810911</td><td>0</td><td>80618</td><td>115.163713024568</td><td>39.2330431988692</td><td>0.0112272729370015</td><td>2.54691135614028e-06</td><td>GALAXY</td><td>199710.72255059</td><td>0</td></tr>\n",
       "<tr><td>EXT</td><td>17643</td><td>39633062056692288</td><td>115.163687172584</td><td>39.2330595735952</td><td>0</td><td>80618</td><td>115.163713024568</td><td>39.2330431988692</td><td>0.0112272729370015</td><td>2.54691135614028e-06</td><td>GALAXY</td><td>199710.72255059</td><td>0</td></tr>\n",
       "<tr><td>EXT</td><td>17643</td><td>39633062056692288</td><td>115.163687272099</td><td>39.2330517354585</td><td>0</td><td>80618</td><td>115.163713024568</td><td>39.2330431988692</td><td>0.0112272729370015</td><td>2.54691135614028e-06</td><td>GALAXY</td><td>199710.72255059</td><td>0</td></tr>\n",
       "<tr><td>EXT</td><td>17643</td><td>39633062056692288</td><td>115.163687614895</td><td>39.2330239448729</td><td>0</td><td>80618</td><td>115.163713024568</td><td>39.2330431988692</td><td>0.0112272729370015</td><td>2.54691135614028e-06</td><td>GALAXY</td><td>199710.72255059</td><td>0</td></tr>\n",
       "<tr><td>EXT</td><td>17643</td><td>39633062056692288</td><td>115.163692746003</td><td>39.2330238257014</td><td>0</td><td>80618</td><td>115.163713024568</td><td>39.2330431988692</td><td>0.0112272729370015</td><td>2.54691135614028e-06</td><td>GALAXY</td><td>199710.72255059</td><td>0</td></tr>\n",
       "<tr><td>EXT</td><td>17643</td><td>39633062056692288</td><td>115.163702566258</td><td>39.2330592761066</td><td>0</td><td>80618</td><td>115.163713024568</td><td>39.2330431988692</td><td>0.0112272729370015</td><td>2.54691135614028e-06</td><td>GALAXY</td><td>199710.72255059</td><td>0</td></tr>\n",
       "<tr><td>EXT</td><td>17643</td><td>39633062056692288</td><td>115.163702811737</td><td>39.2330394673576</td><td>0</td><td>80618</td><td>115.163713024568</td><td>39.2330431988692</td><td>0.0112272729370015</td><td>2.54691135614028e-06</td><td>GALAXY</td><td>199710.72255059</td><td>0</td></tr>\n",
       "<tr><td>EXT</td><td>17643</td><td>39633062056692288</td><td>115.163713024568</td><td>39.2330431988692</td><td>0</td><td>80618</td><td>115.163713024568</td><td>39.2330431988692</td><td>0.0112272729370015</td><td>2.54691135614028e-06</td><td>GALAXY</td><td>199710.72255059</td><td>0</td></tr>\n",
       "<tr><td>...</td><td>...</td><td>...</td><td>...</td><td>...</td><td>...</td><td>...</td><td>...</td><td>...</td><td>...</td><td>...</td><td>...</td><td>...</td><td>...</td></tr>\n",
       "<tr><td>TFT</td><td>5002834</td><td>39633332262142424</td><td>184.479163492579</td><td>55.6283412091969</td><td>0</td><td>81069</td><td>184.47917781956</td><td>55.6283335551213</td><td>0.117793341958439</td><td>7.43533476024843e-06</td><td>GALAXY</td><td>2499.71438142657</td><td>0</td></tr>\n",
       "<tr><td>TFT</td><td>5002854</td><td>39633343125391143</td><td>262.289543928086</td><td>56.6239412312086</td><td>0</td><td>20746</td><td>262.289572762347</td><td>56.6239366173946</td><td>0.0916427447513874</td><td>8.14525340740346e-06</td><td>GALAXY</td><td>816.592183232307</td><td>0</td></tr>\n",
       "<tr><td>TFT</td><td>5002867</td><td>39633349773361398</td><td>262.255588401596</td><td>56.9397682390049</td><td>0</td><td>20746</td><td>262.255624725747</td><td>56.9397752596294</td><td>0.0630771932729861</td><td>7.2799852456132e-06</td><td>GALAXY</td><td>861.639057200169</td><td>0</td></tr>\n",
       "<tr><td>TFT</td><td>5002871</td><td>39633353028144264</td><td>259.02750529209</td><td>57.1929782516413</td><td>0</td><td>20746</td><td>259.027555301625</td><td>57.1929951000212</td><td>0.0253098742211238</td><td>4.60144109111536e-06</td><td>GALAXY</td><td>1008.08463830873</td><td>0</td></tr>\n",
       "<tr><td>TFT</td><td>5002960</td><td>39633433382617123</td><td>275.095997459549</td><td>63.8962717495826</td><td>0</td><td>20507</td><td>275.096050401914</td><td>63.8962540115316</td><td>0.0712444567599144</td><td>1.27243778806407e-05</td><td>GALAXY</td><td>265.632686032914</td><td>0</td></tr>\n",
       "<tr><td>TFT</td><td>5002991</td><td>39633454039564470</td><td>297.168755852476</td><td>66.0538447189418</td><td>0</td><td>20504</td><td>297.168759557762</td><td>66.0538847558776</td><td>0.222522321969458</td><td>1.38471724762845e-05</td><td>GALAXY</td><td>35.0426686070859</td><td>0</td></tr>\n",
       "<tr><td>TFT</td><td>5003027</td><td>39633483877845276</td><td>271.406909017715</td><td>69.3275856399569</td><td>0</td><td>20040</td><td>271.406827817855</td><td>69.327558937278</td><td>0.0936798503441587</td><td>4.38694862700492e-06</td><td>GALAXY</td><td>7657.60778868198</td><td>0</td></tr>\n",
       "<tr><td>TFT</td><td>5003122</td><td>39633565075376334</td><td>147.040159308329</td><td>83.4784960368452</td><td>512</td><td>80655</td><td>146.99773214879</td><td>83.4665456719823</td><td>-0.00199569129234795</td><td>4.13114935733491e-48</td><td>STAR</td><td>1.94266889222573e+84</td><td>1570</td></tr>\n",
       "<tr><td>TFT</td><td>5003122</td><td>39633565075376334</td><td>147.040552511968</td><td>83.4784586548945</td><td>512</td><td>80655</td><td>146.99773214879</td><td>83.4665456719823</td><td>-0.00199569129234795</td><td>4.13114935733491e-48</td><td>STAR</td><td>1.94266889222573e+84</td><td>1570</td></tr>\n",
       "<tr><td>TFT</td><td>5003122</td><td>39633565075376334</td><td>147.040733115934</td><td>83.4784538506359</td><td>512</td><td>80655</td><td>146.99773214879</td><td>83.4665456719823</td><td>-0.00199569129234795</td><td>4.13114935733491e-48</td><td>STAR</td><td>1.94266889222573e+84</td><td>1570</td></tr>\n",
       "</table>"
      ],
      "text/plain": [
       "<Table length=50337>\n",
       "PVTYPE  SGA_ID      TARGETID     ... SPECTYPE      DELTACHI2       ZWARN\n",
       "bytes3  int64        int64       ...  bytes6        float64        int64\n",
       "------ ------- ----------------- ... -------- -------------------- -----\n",
       "   EXT   17643 39633062056692288 ...   GALAXY      199710.72255059     0\n",
       "   EXT   17643 39633062056692288 ...   GALAXY      199710.72255059     0\n",
       "   EXT   17643 39633062056692288 ...   GALAXY      199710.72255059     0\n",
       "   EXT   17643 39633062056692288 ...   GALAXY      199710.72255059     0\n",
       "   EXT   17643 39633062056692288 ...   GALAXY      199710.72255059     0\n",
       "   EXT   17643 39633062056692288 ...   GALAXY      199710.72255059     0\n",
       "   EXT   17643 39633062056692288 ...   GALAXY      199710.72255059     0\n",
       "   EXT   17643 39633062056692288 ...   GALAXY      199710.72255059     0\n",
       "   EXT   17643 39633062056692288 ...   GALAXY      199710.72255059     0\n",
       "   EXT   17643 39633062056692288 ...   GALAXY      199710.72255059     0\n",
       "   ...     ...               ... ...      ...                  ...   ...\n",
       "   TFT 5002834 39633332262142424 ...   GALAXY     2499.71438142657     0\n",
       "   TFT 5002854 39633343125391143 ...   GALAXY     816.592183232307     0\n",
       "   TFT 5002867 39633349773361398 ...   GALAXY     861.639057200169     0\n",
       "   TFT 5002871 39633353028144264 ...   GALAXY     1008.08463830873     0\n",
       "   TFT 5002960 39633433382617123 ...   GALAXY     265.632686032914     0\n",
       "   TFT 5002991 39633454039564470 ...   GALAXY     35.0426686070859     0\n",
       "   TFT 5003027 39633483877845276 ...   GALAXY     7657.60778868198     0\n",
       "   TFT 5003122 39633565075376334 ...     STAR 1.94266889222573e+84  1570\n",
       "   TFT 5003122 39633565075376334 ...     STAR 1.94266889222573e+84  1570\n",
       "   TFT 5003122 39633565075376334 ...     STAR 1.94266889222573e+84  1570"
      ]
     },
     "execution_count": 88,
     "metadata": {},
     "output_type": "execute_result"
    }
   ],
   "source": [
    "# Change use_cached = False if we want to redo the query at some point.\n",
    "use_cached = True\n",
    "\n",
    "if os.path.exists('cache/tf_targets_everest.fits') and use_cached:\n",
    "    tf_targets = Table.read('cache/tf_targets_everest.fits')\n",
    "else:\n",
    "    try:\n",
    "        db = psycopg2.connect(host='decatdb.lbl.gov', database='desi', user='desi')\n",
    "        cursor = db.cursor()\n",
    "        \n",
    "        query = \"\"\"SELECT DISTINCT pr.pvtype, pr.sga_id, fd.targetid, fd.fiber_ra, fd.fiber_dec, fd.fiberstatus, fd.tileid, zd.target_ra, zd.target_dec, zd.z, zd.zerr, zd.spectype, zd.deltachi2, zd.zwarn\n",
    "                   FROM everest.ztile_cumulative_fibermap fd\n",
    "                   INNER JOIN\n",
    "                       everest.ztile_cumulative_redshifts zd ON zd.targetid = fd.targetid\n",
    "                   INNER JOIN pv.proposals pr ON (CAST(pr.ra*10000 AS INTEGER) = CAST(zd.target_ra*10000 AS INTEGER)) AND \n",
    "                                                 (CAST(pr.dec*10000 AS INTEGER) = CAST(zd.target_dec*10000 AS INTEGER))\n",
    "                   WHERE (pr.pvtype LIKE 'TFT' or pr.pvtype LIKE 'EXT' or pr.pvtype LIKE 'SGA');\"\"\"\n",
    "        \n",
    "        cursor.execute(query)\n",
    "        rows = cursor.fetchall()\n",
    "        tf_targets = Table(list(map(list, zip(*rows))), \n",
    "                           names=['PVTYPE', 'SGA_ID', 'TARGETID', 'FIBER_RA', 'FIBER_DEC', 'FIBERSTATUS', 'TILEID', \n",
    "                                  'TARGET_RA', 'TARGET_DEC', 'Z', 'ZERR', 'SPECTYPE', 'DELTACHI2', 'ZWARN'])\n",
    "        tf_targets.write('cache/tf_targets_everest.fits', overwrite=True)\n",
    "        \n",
    "    except (Exception, psycopg2.errors) as error:\n",
    "        print(error)\n",
    "    finally:\n",
    "        if db is not None:\n",
    "            db.close()\n",
    "            \n",
    "tf_targets"
   ]
  },
  {
   "cell_type": "code",
   "execution_count": 89,
   "id": "620a3a40-ecdb-4767-88be-eb24849b4999",
   "metadata": {},
   "outputs": [],
   "source": [
    "l = np.unique(SGA_match)\n",
    "match = []\n",
    "SGA_ids = list(tf_targets['SGA_ID'])\n",
    "for l_id in l:\n",
    "    for SGA_id in SGA_ids:\n",
    "        if SGA_id == l_id:\n",
    "            # print(SGA_id)\n",
    "            match.append(SGA_id)"
   ]
  },
  {
   "cell_type": "code",
   "execution_count": 91,
   "id": "9da4e9c0-1861-4fdf-8b77-430b51fdd528",
   "metadata": {},
   "outputs": [
    {
     "data": {
      "text/plain": [
       "12"
      ]
     },
     "execution_count": 91,
     "metadata": {},
     "output_type": "execute_result"
    }
   ],
   "source": [
    "len(np.unique(match))"
   ]
  },
  {
   "cell_type": "markdown",
   "id": "a8472dcb-8b84-4629-82ce-21d1bad6ee80",
   "metadata": {},
   "source": [
    "## Testing Multiple values of Distance Moduli"
   ]
  },
  {
   "cell_type": "code",
   "execution_count": null,
   "id": "6f23e571-8914-4ae9-a158-e844b6979bb3",
   "metadata": {},
   "outputs": [],
   "source": []
  },
  {
   "cell_type": "code",
   "execution_count": 23,
   "id": "a05ab227-8597-44fd-ad3d-53ad94aea895",
   "metadata": {},
   "outputs": [
    {
     "ename": "NameError",
     "evalue": "name 'sntab' is not defined",
     "output_type": "error",
     "traceback": [
      "\u001b[0;31m---------------------------------------------------------------------------\u001b[0m",
      "\u001b[0;31mNameError\u001b[0m                                 Traceback (most recent call last)",
      "\u001b[0;32m<ipython-input-23-2972e9990fc6>\u001b[0m in \u001b[0;36m<module>\u001b[0;34m\u001b[0m\n\u001b[0;32m----> 1\u001b[0;31m \u001b[0mS_dist\u001b[0m \u001b[0;34m=\u001b[0m \u001b[0msntab\u001b[0m\u001b[0;34m[\u001b[0m\u001b[0;34m'S_mu0'\u001b[0m\u001b[0;34m]\u001b[0m\u001b[0;34m\u001b[0m\u001b[0;34m\u001b[0m\u001b[0m\n\u001b[0m\u001b[1;32m      2\u001b[0m \u001b[0mS_err\u001b[0m \u001b[0;34m=\u001b[0m \u001b[0msntab\u001b[0m\u001b[0;34m[\u001b[0m\u001b[0;34m'S_emu0'\u001b[0m\u001b[0;34m]\u001b[0m\u001b[0;34m\u001b[0m\u001b[0;34m\u001b[0m\u001b[0m\n\u001b[1;32m      3\u001b[0m \u001b[0mS2_dist\u001b[0m \u001b[0;34m=\u001b[0m \u001b[0msntab\u001b[0m\u001b[0;34m[\u001b[0m\u001b[0;34m'S2_mu0'\u001b[0m\u001b[0;34m]\u001b[0m\u001b[0;34m\u001b[0m\u001b[0;34m\u001b[0m\u001b[0m\n\u001b[1;32m      4\u001b[0m \u001b[0mS2_err\u001b[0m \u001b[0;34m=\u001b[0m \u001b[0msntab\u001b[0m\u001b[0;34m[\u001b[0m\u001b[0;34m'S2_emu0'\u001b[0m\u001b[0;34m]\u001b[0m\u001b[0;34m\u001b[0m\u001b[0;34m\u001b[0m\u001b[0m\n\u001b[1;32m      5\u001b[0m \u001b[0mM31_dist\u001b[0m \u001b[0;34m=\u001b[0m \u001b[0msntab\u001b[0m\u001b[0;34m[\u001b[0m\u001b[0;34m'M31_mu0'\u001b[0m\u001b[0;34m]\u001b[0m\u001b[0;34m\u001b[0m\u001b[0;34m\u001b[0m\u001b[0m\n",
      "\u001b[0;31mNameError\u001b[0m: name 'sntab' is not defined"
     ]
    }
   ],
   "source": [
    "S_dist = sntab['S_mu0']\n",
    "S_err = sntab['S_emu0']\n",
    "S2_dist = sntab['S2_mu0']\n",
    "S2_err = sntab['S2_emu0']\n",
    "M31_dist = sntab['M31_mu0']\n",
    "M31_err = sntab['M31_emu0']\n",
    "M17_dist = sntab['M17_mu0']\n",
    "M17_err = sntab['M17_emu0']"
   ]
  },
  {
   "cell_type": "code",
   "execution_count": null,
   "id": "02ea8a48-4609-450f-b34f-c84b644ae0c5",
   "metadata": {},
   "outputs": [],
   "source": [
    "plt.figure(figsize = (13, 4))\n",
    "plt.errorbar(range(len(sntab)), S_dist, fmt = '.', yerr = S_err, label = 'SALT', alpha = 0.2)\n",
    "plt.errorbar(range(len(sntab)), S2_dist, fmt = '.', yerr = S2_err, label = 'SALT2', alpha = 0.2)\n",
    "plt.errorbar(range(len(sntab)), M31_dist, fmt = '.', yerr = M31_err, label = 'M31', alpha = 0.2)\n",
    "plt.errorbar(range(len(sntab)), M17_dist, fmt = '.', yerr = M17_err, label = 'M17', alpha = 0.2)\n",
    "plt.legend()"
   ]
  },
  {
   "cell_type": "code",
   "execution_count": null,
   "id": "e58807a9-9204-4924-883c-cfd3a1e114c0",
   "metadata": {},
   "outputs": [],
   "source": [
    "plt.errorbar(S_dist, S2_dist, fmt = '.', xerr = S_err, yerr = S2_err, alpha = 0.2)\n",
    "plt.xlabel('SALT')\n",
    "plt.ylabel('SALT2')\n",
    "plt.plot([34.5, 38.5], [34.5, 38.5], 'k:');"
   ]
  },
  {
   "cell_type": "code",
   "execution_count": null,
   "id": "796715a8-1833-43cc-9509-8a113f3642b6",
   "metadata": {},
   "outputs": [],
   "source": [
    "plt.errorbar(S_dist, M31_dist, fmt = '.', xerr = S_err, yerr = M31_err, alpha = 0.2)\n",
    "plt.xlabel('SALT')\n",
    "plt.ylabel('M31')\n",
    "plt.plot([34.5, 38.5], [34.5, 38.5], 'k:');"
   ]
  },
  {
   "cell_type": "code",
   "execution_count": null,
   "id": "79286988-aa32-4d88-80f0-35d659d81b85",
   "metadata": {},
   "outputs": [],
   "source": [
    "plt.errorbar(S2_dist, M31_dist, fmt = '.', xerr = S2_err, yerr = M31_err, alpha = 0.2)\n",
    "plt.xlabel('SALT2')\n",
    "plt.ylabel('M31')\n",
    "plt.plot([33, 38.5], [33, 38.5], 'k:');"
   ]
  },
  {
   "cell_type": "code",
   "execution_count": null,
   "id": "ca67cb01-cc1d-4431-b49e-28242d460bf5",
   "metadata": {},
   "outputs": [],
   "source": [
    "plt.errorbar(M17_dist, M31_dist, fmt = '.', xerr = M17_err, yerr = M31_err, alpha = 0.2)\n",
    "plt.xlabel('M17')\n",
    "plt.ylabel('M31')\n",
    "plt.plot([33, 38.5], [33, 38.5], 'k:');"
   ]
  },
  {
   "cell_type": "code",
   "execution_count": null,
   "id": "306b0d11-bf68-4a40-ba71-6845bd4b6e75",
   "metadata": {},
   "outputs": [],
   "source": []
  }
 ],
 "metadata": {
  "kernelspec": {
   "display_name": "DESI master",
   "language": "python",
   "name": "desi-master"
  },
  "language_info": {
   "codemirror_mode": {
    "name": "ipython",
    "version": 3
   },
   "file_extension": ".py",
   "mimetype": "text/x-python",
   "name": "python",
   "nbconvert_exporter": "python",
   "pygments_lexer": "ipython3",
   "version": "3.9.7"
  }
 },
 "nbformat": 4,
 "nbformat_minor": 5
}
