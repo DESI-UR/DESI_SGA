{
 "cells": [
  {
   "cell_type": "code",
   "execution_count": 1,
   "id": "a019ebd5-ff8d-4671-948c-82ef0fbdd6eb",
   "metadata": {},
   "outputs": [],
   "source": [
    "from astropy.table import Table, join, hstack, unique\n",
    "from astropy.io import ascii\n",
    "from astropy.coordinates import SkyCoord\n",
    "import astropy.units as u\n",
    "\n",
    "import numpy as np\n",
    "\n",
    "from glob import glob\n",
    "\n",
    "import matplotlib as mpl\n",
    "import matplotlib.pyplot as plt\n",
    "\n",
    "import os\n",
    "import requests"
   ]
  },
  {
   "cell_type": "markdown",
   "id": "e157975c-e991-4936-ad95-e5fe92f1b530",
   "metadata": {},
   "source": [
    "## Load SGA Data"
   ]
  },
  {
   "cell_type": "code",
   "execution_count": 53,
   "id": "e2d8ce3d-0246-4353-a1b2-84aa774c47cb",
   "metadata": {},
   "outputs": [
    {
     "data": {
      "text/html": [
       "<div><i>Table length=5</i>\n",
       "<table id=\"table23453620689120\" class=\"table-striped table-bordered table-condensed\">\n",
       "<thead><tr><th>SGA_ID</th><th>SGA_GALAXY</th><th>GALAXY</th><th>PGC</th><th>RA_LEDA</th><th>DEC_LEDA</th><th>MORPHTYPE</th><th>PA_LEDA</th><th>D25_LEDA</th><th>BA_LEDA</th><th>Z_LEDA</th><th>SB_D25_LEDA</th><th>MAG_LEDA</th><th>BYHAND</th><th>REF</th><th>GROUP_ID</th><th>GROUP_NAME</th><th>GROUP_MULT</th><th>GROUP_PRIMARY</th><th>GROUP_RA</th><th>GROUP_DEC</th><th>GROUP_DIAMETER</th><th>BRICKNAME</th><th>RA</th><th>DEC</th><th>D26</th><th>D26_REF</th><th>PA</th><th>BA</th><th>RA_MOMENT</th><th>DEC_MOMENT</th><th>SMA_MOMENT</th><th>G_SMA50</th><th>R_SMA50</th><th>Z_SMA50</th><th>SMA_SB22</th><th>SMA_SB22.5</th><th>SMA_SB23</th><th>SMA_SB23.5</th><th>SMA_SB24</th><th>SMA_SB24.5</th><th>SMA_SB25</th><th>SMA_SB25.5</th><th>SMA_SB26</th><th>G_MAG_SB22</th><th>R_MAG_SB22</th><th>Z_MAG_SB22</th><th>G_MAG_SB22.5</th><th>R_MAG_SB22.5</th><th>Z_MAG_SB22.5</th><th>G_MAG_SB23</th><th>R_MAG_SB23</th><th>Z_MAG_SB23</th><th>G_MAG_SB23.5</th><th>R_MAG_SB23.5</th><th>Z_MAG_SB23.5</th><th>G_MAG_SB24</th><th>R_MAG_SB24</th><th>Z_MAG_SB24</th><th>G_MAG_SB24.5</th><th>R_MAG_SB24.5</th><th>Z_MAG_SB24.5</th><th>G_MAG_SB25</th><th>R_MAG_SB25</th><th>Z_MAG_SB25</th><th>G_MAG_SB25.5</th><th>R_MAG_SB25.5</th><th>Z_MAG_SB25.5</th><th>G_MAG_SB26</th><th>R_MAG_SB26</th><th>Z_MAG_SB26</th><th>SMA_SB22_ERR</th><th>SMA_SB22.5_ERR</th><th>SMA_SB23_ERR</th><th>SMA_SB23.5_ERR</th><th>SMA_SB24_ERR</th><th>SMA_SB24.5_ERR</th><th>SMA_SB25_ERR</th><th>SMA_SB25.5_ERR</th><th>SMA_SB26_ERR</th><th>G_MAG_SB22_ERR</th><th>R_MAG_SB22_ERR</th><th>Z_MAG_SB22_ERR</th><th>G_MAG_SB22.5_ERR</th><th>R_MAG_SB22.5_ERR</th><th>Z_MAG_SB22.5_ERR</th><th>G_MAG_SB23_ERR</th><th>R_MAG_SB23_ERR</th><th>Z_MAG_SB23_ERR</th><th>G_MAG_SB23.5_ERR</th><th>R_MAG_SB23.5_ERR</th><th>Z_MAG_SB23.5_ERR</th><th>G_MAG_SB24_ERR</th><th>R_MAG_SB24_ERR</th><th>Z_MAG_SB24_ERR</th><th>G_MAG_SB24.5_ERR</th><th>R_MAG_SB24.5_ERR</th><th>Z_MAG_SB24.5_ERR</th><th>G_MAG_SB25_ERR</th><th>R_MAG_SB25_ERR</th><th>Z_MAG_SB25_ERR</th><th>G_MAG_SB25.5_ERR</th><th>R_MAG_SB25.5_ERR</th><th>Z_MAG_SB25.5_ERR</th><th>G_MAG_SB26_ERR</th><th>R_MAG_SB26_ERR</th><th>Z_MAG_SB26_ERR</th><th>G_COG_PARAMS_MTOT</th><th>G_COG_PARAMS_M0</th><th>G_COG_PARAMS_ALPHA1</th><th>G_COG_PARAMS_ALPHA2</th><th>G_COG_PARAMS_CHI2</th><th>R_COG_PARAMS_MTOT</th><th>R_COG_PARAMS_M0</th><th>R_COG_PARAMS_ALPHA1</th><th>R_COG_PARAMS_ALPHA2</th><th>R_COG_PARAMS_CHI2</th><th>Z_COG_PARAMS_MTOT</th><th>Z_COG_PARAMS_M0</th><th>Z_COG_PARAMS_ALPHA1</th><th>Z_COG_PARAMS_ALPHA2</th><th>Z_COG_PARAMS_CHI2</th><th>ELLIPSEBIT</th></tr></thead>\n",
       "<thead><tr><th>int64</th><th>bytes16</th><th>bytes29</th><th>int64</th><th>float64</th><th>float64</th><th>bytes21</th><th>float32</th><th>float32</th><th>float32</th><th>float32</th><th>float32</th><th>float32</th><th>bool</th><th>bytes13</th><th>int64</th><th>bytes35</th><th>int16</th><th>bool</th><th>float64</th><th>float64</th><th>float32</th><th>bytes8</th><th>float64</th><th>float64</th><th>float32</th><th>bytes4</th><th>float32</th><th>float32</th><th>float64</th><th>float64</th><th>float32</th><th>float32</th><th>float32</th><th>float32</th><th>float32</th><th>float32</th><th>float32</th><th>float32</th><th>float32</th><th>float32</th><th>float32</th><th>float32</th><th>float32</th><th>float32</th><th>float32</th><th>float32</th><th>float32</th><th>float32</th><th>float32</th><th>float32</th><th>float32</th><th>float32</th><th>float32</th><th>float32</th><th>float32</th><th>float32</th><th>float32</th><th>float32</th><th>float32</th><th>float32</th><th>float32</th><th>float32</th><th>float32</th><th>float32</th><th>float32</th><th>float32</th><th>float32</th><th>float32</th><th>float32</th><th>float32</th><th>float32</th><th>float32</th><th>float32</th><th>float32</th><th>float32</th><th>float32</th><th>float32</th><th>float32</th><th>float32</th><th>float32</th><th>float32</th><th>float32</th><th>float32</th><th>float32</th><th>float32</th><th>float32</th><th>float32</th><th>float32</th><th>float32</th><th>float32</th><th>float32</th><th>float32</th><th>float32</th><th>float32</th><th>float32</th><th>float32</th><th>float32</th><th>float32</th><th>float32</th><th>float32</th><th>float32</th><th>float32</th><th>float32</th><th>float32</th><th>float32</th><th>float32</th><th>float32</th><th>float32</th><th>float32</th><th>float32</th><th>float32</th><th>float32</th><th>float32</th><th>float32</th><th>float32</th><th>float32</th><th>float32</th><th>float32</th><th>float32</th><th>float32</th><th>float32</th><th>int32</th></tr></thead>\n",
       "<tr><td>2</td><td>SGA-2020 2</td><td>PGC1283207</td><td>1283207</td><td>228.3770865</td><td>5.4232017</td><td>S?</td><td>152.2</td><td>0.36307806</td><td>0.724436</td><td>0.03463229</td><td>23.40448</td><td>16.976</td><td>False</td><td>LEDA-20181114</td><td>0</td><td>PGC1283207</td><td>1</td><td>True</td><td>228.3770865</td><td>5.4232017</td><td>0.36307806</td><td>2283p055</td><td>228.3770803831908</td><td>5.423191398593787</td><td>0.49470574</td><td>SB26</td><td>158.20142</td><td>0.545691</td><td>228.37700918822188</td><td>5.4232652570544015</td><td>10.897086</td><td>3.3509698</td><td>3.1147978</td><td>3.240862</td><td>5.902337</td><td>6.9126143</td><td>7.941369</td><td>8.997992</td><td>10.073601</td><td>11.199986</td><td>12.391357</td><td>13.561038</td><td>14.841172</td><td>16.966799</td><td>16.108246</td><td>15.486356</td><td>16.879545</td><td>16.024958</td><td>15.400715</td><td>16.818878</td><td>15.967034</td><td>15.341793</td><td>16.776297</td><td>15.925804</td><td>15.300776</td><td>16.746685</td><td>15.897334</td><td>15.272053</td><td>16.725166</td><td>15.876816</td><td>15.2521105</td><td>16.708357</td><td>15.862035</td><td>15.237181</td><td>16.696539</td><td>15.851936</td><td>15.226998</td><td>16.689613</td><td>15.844313</td><td>15.21976</td><td>0.013392451</td><td>0.02354</td><td>0.021872982</td><td>0.01736985</td><td>0.024445537</td><td>0.039866067</td><td>0.05026544</td><td>0.08455789</td><td>0.122911856</td><td>0.005682776</td><td>0.0054258136</td><td>0.0049038026</td><td>0.005588406</td><td>0.005323561</td><td>0.0047632363</td><td>0.00543534</td><td>0.005177031</td><td>0.0046343105</td><td>0.0053025587</td><td>0.005040888</td><td>0.0045181247</td><td>0.005206092</td><td>0.0049438984</td><td>0.0044374703</td><td>0.0051483097</td><td>0.0048758644</td><td>0.0043834248</td><td>0.0051032505</td><td>0.0048264163</td><td>0.004344248</td><td>0.0050705094</td><td>0.004792021</td><td>0.004319857</td><td>0.005054293</td><td>0.004765629</td><td>0.0043044444</td><td>16.65942</td><td>0.34037337</td><td>0.2978292</td><td>3.0239506</td><td>0.07928849</td><td>15.820566</td><td>0.2640441</td><td>0.34559453</td><td>3.3033552</td><td>0.003811298</td><td>15.195567</td><td>0.29826432</td><td>0.3001073</td><td>3.2333765</td><td>0.011723555</td><td>0</td></tr>\n",
       "<tr><td>3</td><td>SGA-2020 3</td><td>PGC1310416</td><td>1310416</td><td>202.54443750000002</td><td>6.9345944</td><td>Sc</td><td>159.26</td><td>0.4017908</td><td>0.7816278</td><td>0.073888786</td><td>23.498482</td><td>16.85</td><td>False</td><td>LEDA-20181114</td><td>1</td><td>PGC1310416</td><td>1</td><td>True</td><td>202.54443750000002</td><td>6.9345944</td><td>0.4017908</td><td>2025p070</td><td>202.5444619671207</td><td>6.9346244322326624</td><td>0.55350494</td><td>SB26</td><td>161.5937</td><td>0.7291764</td><td>202.54432739596137</td><td>6.934806737209989</td><td>15.746941</td><td>5.6416235</td><td>5.2647552</td><td>5.0895185</td><td>5.9838247</td><td>7.4356494</td><td>8.728868</td><td>10.087478</td><td>11.529764</td><td>12.818195</td><td>14.115497</td><td>15.319822</td><td>16.605148</td><td>16.963299</td><td>16.307854</td><td>15.806882</td><td>16.729511</td><td>16.097378</td><td>15.615527</td><td>16.606344</td><td>15.990707</td><td>15.518403</td><td>16.525967</td><td>15.917321</td><td>15.450624</td><td>16.462585</td><td>15.859485</td><td>15.397182</td><td>16.419558</td><td>15.820947</td><td>15.36243</td><td>16.390558</td><td>15.796369</td><td>15.338905</td><td>16.376112</td><td>15.782492</td><td>15.323709</td><td>16.364115</td><td>15.773462</td><td>15.313725</td><td>0.036992554</td><td>0.034982767</td><td>0.037769336</td><td>0.049429573</td><td>0.052699674</td><td>0.074114166</td><td>0.07914538</td><td>0.09781406</td><td>0.15534972</td><td>0.016095797</td><td>0.019181909</td><td>0.021539452</td><td>0.013955905</td><td>0.016594552</td><td>0.018640138</td><td>0.012786752</td><td>0.015244632</td><td>0.01715491</td><td>0.011973826</td><td>0.014366956</td><td>0.016208366</td><td>0.011358372</td><td>0.013676575</td><td>0.015474222</td><td>0.010944939</td><td>0.013225297</td><td>0.015011175</td><td>0.010691595</td><td>0.012931233</td><td>0.014687982</td><td>0.010546411</td><td>0.012796015</td><td>0.014518412</td><td>0.010457551</td><td>0.012685407</td><td>0.014379212</td><td>16.284733</td><td>1.0914493</td><td>0.24674739</td><td>2.4320207</td><td>0.68685365</td><td>15.704403</td><td>0.8764323</td><td>0.27360612</td><td>2.4995425</td><td>0.49343896</td><td>15.235263</td><td>1.3098688</td><td>0.17866786</td><td>2.1750498</td><td>0.20391206</td><td>0</td></tr>\n",
       "<tr><td>4</td><td>SGA-2020 4</td><td>SDSSJ145059.93+135143.0</td><td>4435547</td><td>222.749787</td><td>13.8619111</td><td>S?</td><td>44.57</td><td>0.33342642</td><td>0.6637431</td><td>0.07567602</td><td>24.457481</td><td>18.214</td><td>False</td><td>LEDA-20181114</td><td>2</td><td>SDSSJ145059.93+135143.0</td><td>1</td><td>True</td><td>222.749787</td><td>13.8619111</td><td>0.33342642</td><td>2228p137</td><td>222.7497050504303</td><td>13.861929561160224</td><td>0.37067476</td><td>SB26</td><td>45.28537</td><td>0.70922077</td><td>222.749650475464</td><td>13.862052070022896</td><td>8.877115</td><td>4.652771</td><td>4.4837785</td><td>4.4959745</td><td>2.01033</td><td>3.3967943</td><td>4.76257</td><td>6.043787</td><td>7.242806</td><td>8.250407</td><td>9.158723</td><td>10.083457</td><td>11.120243</td><td>19.97595</td><td>19.190666</td><td>18.649523</td><td>19.098536</td><td>18.397219</td><td>17.899643</td><td>18.624952</td><td>17.967802</td><td>17.50231</td><td>18.35278</td><td>17.718002</td><td>17.265854</td><td>18.192762</td><td>17.5654</td><td>17.115404</td><td>18.10496</td><td>17.480022</td><td>17.033989</td><td>18.053415</td><td>17.430794</td><td>16.982971</td><td>18.020155</td><td>17.399996</td><td>16.948252</td><td>17.994783</td><td>17.377092</td><td>16.924469</td><td>0.02113719</td><td>0.03639431</td><td>0.051901262</td><td>0.06539029</td><td>0.08552586</td><td>0.07008602</td><td>0.070394725</td><td>0.08394975</td><td>0.113649584</td><td>0.013428732</td><td>0.017600043</td><td>0.016373685</td><td>0.012251812</td><td>0.014566466</td><td>0.013732588</td><td>0.012644532</td><td>0.014030071</td><td>0.013153961</td><td>0.012747069</td><td>0.013512552</td><td>0.012818239</td><td>0.012865601</td><td>0.01324455</td><td>0.012532208</td><td>0.012762528</td><td>0.013058522</td><td>0.012420634</td><td>0.01252645</td><td>0.012827468</td><td>0.012283978</td><td>0.012320441</td><td>0.012607317</td><td>0.012104107</td><td>0.0121167945</td><td>0.01244376</td><td>0.011985352</td><td>17.896797</td><td>0.5557265</td><td>0.25455818</td><td>3.167909</td><td>1.0522435</td><td>17.28287</td><td>0.4885815</td><td>0.2782499</td><td>3.2144456</td><td>1.3733263</td><td>16.807674</td><td>0.5177045</td><td>0.32264626</td><td>2.900518</td><td>1.8054093</td><td>0</td></tr>\n",
       "<tr><td>7</td><td>SGA-2020 7</td><td>PGC1742504</td><td>1742504</td><td>182.0888085</td><td>25.6022764</td><td>Sbc</td><td>84.97</td><td>0.548277</td><td>0.25118864</td><td>0.10090814</td><td>24.91348</td><td>17.59</td><td>False</td><td>LEDA-20181114</td><td>3</td><td>PGC1742504</td><td>1</td><td>True</td><td>182.0888085</td><td>25.6022764</td><td>0.548277</td><td>1820p255</td><td>182.08882232629614</td><td>25.60226821438983</td><td>0.8883204</td><td>SB26</td><td>84.857475</td><td>0.19753796</td><td>182.08873760544392</td><td>25.602311195157757</td><td>19.779116</td><td>6.5958204</td><td>6.0386286</td><td>5.8089786</td><td>9.279068</td><td>10.949478</td><td>12.652142</td><td>14.446171</td><td>16.323679</td><td>18.392954</td><td>20.915508</td><td>23.566542</td><td>26.649612</td><td>17.390274</td><td>16.360935</td><td>15.531964</td><td>17.285898</td><td>16.262264</td><td>15.440768</td><td>17.2167</td><td>16.195492</td><td>15.380734</td><td>17.16217</td><td>16.144245</td><td>15.334935</td><td>17.130178</td><td>16.110302</td><td>15.304758</td><td>17.104496</td><td>16.084463</td><td>15.280803</td><td>17.081282</td><td>16.061373</td><td>15.2589855</td><td>17.063671</td><td>16.045204</td><td>15.243196</td><td>17.046705</td><td>16.031244</td><td>15.23268</td><td>0.04351465</td><td>0.055440858</td><td>0.052207235</td><td>0.07507412</td><td>0.0793679</td><td>0.10347854</td><td>0.13569456</td><td>0.13104819</td><td>0.17234002</td><td>0.03885276</td><td>0.03744209</td><td>0.03786608</td><td>0.035534665</td><td>0.03441038</td><td>0.03503794</td><td>0.033557214</td><td>0.032548346</td><td>0.033348277</td><td>0.031964395</td><td>0.03106612</td><td>0.031957533</td><td>0.031133845</td><td>0.030202182</td><td>0.031190341</td><td>0.030430589</td><td>0.029511228</td><td>0.030530946</td><td>0.02975241</td><td>0.028853998</td><td>0.029866546</td><td>0.02928568</td><td>0.0284345</td><td>0.029445464</td><td>0.028843498</td><td>0.028076617</td><td>0.029169334</td><td>16.995174</td><td>21.083004</td><td>0.0164273</td><td>1.9079465</td><td>0.029703742</td><td>15.991165</td><td>0.7657307</td><td>0.52285546</td><td>2.3045986</td><td>0.006013103</td><td>15.191324</td><td>1.0408205</td><td>0.32956335</td><td>2.1520333</td><td>0.004725194</td><td>0</td></tr>\n",
       "<tr><td>18</td><td>SGA-2020 18</td><td>2MASXJ12340801+4535444</td><td>3550748</td><td>188.5335525</td><td>45.5956434</td><td>E</td><td>168.65</td><td>0.53088444</td><td>0.6950243</td><td>0.07609531</td><td>23.97948</td><td>16.726</td><td>False</td><td>LEDA-20181114</td><td>4</td><td>2MASXJ12340801+4535444</td><td>1</td><td>True</td><td>188.5335525</td><td>45.5956434</td><td>0.53088444</td><td>1883p455</td><td>188.53364923054596</td><td>45.595620212931856</td><td>0.73435897</td><td>SB26</td><td>166.25127</td><td>0.70995796</td><td>188.53349052789085</td><td>45.59567446403057</td><td>15.694805</td><td>5.091253</td><td>4.670616</td><td>2.9429996</td><td>5.219665</td><td>6.6119533</td><td>8.228266</td><td>10.109745</td><td>12.170589</td><td>14.364073</td><td>16.722517</td><td>19.18709</td><td>22.03077</td><td>17.208511</td><td>16.224203</td><td>15.566424</td><td>17.050343</td><td>16.080097</td><td>15.443468</td><td>16.921791</td><td>15.962402</td><td>15.347263</td><td>16.814959</td><td>15.864242</td><td>15.27134</td><td>16.729906</td><td>15.787886</td><td>15.218466</td><td>16.664564</td><td>15.730083</td><td>15.182751</td><td>16.61991</td><td>15.686324</td><td>15.1601305</td><td>16.585676</td><td>15.654064</td><td>15.148039</td><td>16.558054</td><td>15.629669</td><td>15.141826</td><td>0.032001704</td><td>0.043849397</td><td>0.045203492</td><td>0.072918765</td><td>0.06263939</td><td>0.07675708</td><td>0.10399303</td><td>0.07780949</td><td>0.14017467</td><td>0.016467415</td><td>0.021250801</td><td>0.032092847</td><td>0.0149329165</td><td>0.019061867</td><td>0.028947951</td><td>0.01369758</td><td>0.01736746</td><td>0.026648495</td><td>0.012623343</td><td>0.015980754</td><td>0.024998168</td><td>0.011793644</td><td>0.014977396</td><td>0.023862366</td><td>0.011184664</td><td>0.014255281</td><td>0.023120966</td><td>0.010785815</td><td>0.013740733</td><td>0.022603082</td><td>0.010472503</td><td>0.013351409</td><td>0.022360764</td><td>0.010212836</td><td>0.013043255</td><td>0.022296576</td><td>16.471447</td><td>0.3236818</td><td>1.9206839</td><td>2.3249283</td><td>0.0973919</td><td>15.540598</td><td>0.3247282</td><td>1.7439244</td><td>2.1774826</td><td>0.023485765</td><td>15.124181</td><td>0.16547345</td><td>1.4694684</td><td>3.3948786</td><td>0.028653827</td><td>0</td></tr>\n",
       "</table></div>"
      ],
      "text/plain": [
       "<Table length=5>\n",
       "SGA_ID  SGA_GALAXY          GALAXY         ... Z_COG_PARAMS_CHI2 ELLIPSEBIT\n",
       "int64    bytes16           bytes29         ...      float32        int32   \n",
       "------ ----------- ----------------------- ... ----------------- ----------\n",
       "     2  SGA-2020 2              PGC1283207 ...       0.011723555          0\n",
       "     3  SGA-2020 3              PGC1310416 ...        0.20391206          0\n",
       "     4  SGA-2020 4 SDSSJ145059.93+135143.0 ...         1.8054093          0\n",
       "     7  SGA-2020 7              PGC1742504 ...       0.004725194          0\n",
       "    18 SGA-2020 18  2MASXJ12340801+4535444 ...       0.028653827          0"
      ]
     },
     "execution_count": 53,
     "metadata": {},
     "output_type": "execute_result"
    }
   ],
   "source": [
    "SGA = Table.read('/global/cfs/cdirs/cosmo/data/sga/2020/SGA-2020.fits', 'ELLIPSE')\n",
    "\n",
    "SGA[:5]"
   ]
  },
  {
   "cell_type": "markdown",
   "id": "cecbccf9-7dea-407e-a8d0-35a29ea3e9b7",
   "metadata": {},
   "source": [
    "# Match stellar distances"
   ]
  },
  {
   "cell_type": "code",
   "execution_count": 60,
   "id": "e8a4be52-ead5-4c87-8a0d-f029fd15b0a0",
   "metadata": {},
   "outputs": [],
   "source": [
    "stellar_dist = glob('cache/stellar_dist/*.txt')"
   ]
  },
  {
   "cell_type": "code",
   "execution_count": 61,
   "id": "320a61f9-ffd1-4fba-8350-3df36ce432b5",
   "metadata": {},
   "outputs": [
    {
     "data": {
      "text/plain": [
       "'McConnachie'"
      ]
     },
     "execution_count": 61,
     "metadata": {},
     "output_type": "execute_result"
    }
   ],
   "source": [
    "stellar_dist[0].split('/')[-1].strip('.txt').split('_')[-1]\n",
    "#stellar_dist[0].split('/')[-1].strip('.txt').strip('EDDtable_')"
   ]
  },
  {
   "cell_type": "code",
   "execution_count": 62,
   "id": "2ca021ee-d76d-4b5b-97b6-65aa2dd009ca",
   "metadata": {},
   "outputs": [
    {
     "name": "stdout",
     "output_type": "stream",
     "text": [
      "cache/stellar_dist/EDDtable_McConnachie.txt\n",
      "['PGC', 'Name', 'RAJ', 'DeJ', 'E(B-V)', 'DM', 'eDM+', 'eDM-', 'Vhel', 'eV+', 'eV-', 'Vmag', 'emag+', 'emag-', 'PA', 'PA+', 'PA-', 'Ellip', 'eE+', 'eE-', 'SB0', 'eSB+', 'eSB-', 'Re', 'eR+', 'eR-', 'Sig_s', 'eS_s+', 'eS_s-', 'Vrot_s', 'eVr_s+', 'eVr_s-', 'MHI', 'Sig_g', 'eS_g+', 'eS_g-', 'Vrot_g', 'eVr_g+', 'eVr_g-', '[Fe/H]', 'eFe/H+', 'eFe/H-', 'F', 'Ref', 'Dist', 'eD+', 'eD-', 'Vh', 'eVh', 'Glong', 'Glat', 'SGL', 'SGB']\n",
      "Iteration complete\n",
      "\n",
      "cache/stellar_dist/EDDtable_VirgoFornaxSBF.txt\n",
      "['PGC', '1PGC', 'J2000', 'Name', 'g-z', 'e_gz', 'm_sbf', 'e_msbf', 'DM', 'e_dm', 'dist', 'e_d', 'Altname']\n",
      "Iteration complete\n",
      "\n",
      "cache/stellar_dist/EDDtable_Araucaria.txt\n",
      "['PGC', 'Ref', 'Name', 'IRCeph', 'erC', 'esC', 'IRRRLy', 'erR', 'esR', 'TRGB', 'erT', 'esT', 'FGLR', 'eFGLR', 'EB', 'eEB']\n",
      "Iteration complete\n",
      "\n",
      "cache/stellar_dist/EDDtable_TonrySBF.txt\n",
      "['PGC', 'objname', 'Modc', '1PGC', 'Nest', 'al2000', 'de2000', 'V_hel', 'T', 'GrpID', 'AgB', 'VmI', 'e_VmI', 'N_VmI', 'Ibar', 'e_Ibar', 'N_Ibar', 'Mod01', 'e_Mod', 'Rav', 'ratio_in', 'ratio_out', 'Qmax', 'PD', 'NbarI', 'Sigma', 'Qual', 'icnt', 'NBG_ID', 'LH_ID', 'fil']\n",
      "Iteration complete\n",
      "\n",
      "cache/stellar_dist/EDDtable_HSTIRSBF.txt\n",
      "['PGC', 'Name', '1PGC', 'Nest', 'DMzp', 'DM', 'edm', 'Vhel', 'Ty', 'RA_DEJ', 'glon', 'glat', 'sgl', 'sgb', 'Ag']\n",
      "Iteration complete\n",
      "\n",
      "cache/stellar_dist/EDDtable_CMDsTRGB.txt\n",
      "['PGC', 'Name/CMD', 'Alt_Source', 'D814', 'HST-pgm', 'Cam', 'D110', 'D160', 'HST-IR', 'Cam-IR', 'T814', 'T8_lo', 'T8_hi', '606-814', 'eb_lo', 'eb_hi', '555-814', 'ea_lo', 'ea_hi', 'TRGB', 'T_lo', 'T_hi', 'V-I', 'e_lo', 'e_hi', 'E1_B-V', 'E2_B-V', 'A_814', 'M_TRGB', 'DM_tip', 'eDM_lo', 'eDM_hi', 'T110', 'T1_lo', 'T1_hi', 'C110', 'e1_lo', 'e1_hi', 'T160', 'T6_lo', 'T6_hi', 'C160', 'e6_lo', 'e6_hi', 'A_110', 'A_160', 'M_T110', 'M_T160', 'DM_110', 'eDM1_lo', 'eDM1_hi', 'DM_160', 'eDM6_lo', 'eDM6_hi']\n",
      "Iteration complete\n",
      "\n",
      "cache/stellar_dist/EDDtable_HydraCentaurusSBF.txt\n",
      "['PGC', 'Name', '1PGC', 'Nest', 'GpID', 'RAJ', 'DeJ', 'Vo', 'V-I', 'Vh', 'Type', 'F', 'P0', 'e_P0', 'P1', 'ZP', 'S/N', 'dsim', 'dBG', 'dGC', 'mbar', 'e_mbar', 'DM', 'e_dm', 'dist', 'e_d']\n",
      "Iteration complete\n",
      "\n",
      "cache/stellar_dist/EDDtable_ANGST.txt\n",
      "['PGC', 'Cat', 'Targ', 'Filt', 'Nstar', 'A_V', 'Color', 'Mtrgb', 'mraw', 'm_trgb', 'etrgb', 'modulus', 'dist', 'edist', 'Ncmd', 'avdist', 'eavdist']\n",
      "E_DM_hi not found\n",
      "E_DM_lo not found\n",
      "Iteration complete\n",
      "\n",
      "cache/stellar_dist/EDDtable_Cantiello18SBF.txt\n",
      "['PGC', 'Name', 'VCC', 'dist', 'eD', 'DM', 'edm', 'Vhel', '1PGC', 'Nest', 'Gp', 'Ty', 'RA_DEJ', 'glon', 'glat', 'sgl', 'sgb', 'Ag', 'Area', 'Rad', 'uz', 'euz', 'gi', 'egi', 'gz', 'egz', 'Mbar', 'eMbar']\n",
      "Iteration complete\n",
      "\n"
     ]
    }
   ],
   "source": [
    "PGC_ids = []\n",
    "DM = []\n",
    "e_DM_hi = []\n",
    "e_DM_lo = []\n",
    "dist = []\n",
    "e_dist = []\n",
    "catalog = []\n",
    "\n",
    "for sfile in stellar_dist:\n",
    "    \n",
    "    print(sfile)\n",
    "    '''\n",
    "    if sfile == 'cache/stellar_dist/EDDtable_ANGST.txt':\n",
    "        continue\n",
    "    '''\n",
    "    # Catalog name\n",
    "    #name = sfile.split('/')[-1].strip('.txt').strip('EDDtable_')\n",
    "    name = sfile.split('/')[-1].strip('.txt').split('_')[-1]\n",
    "    \n",
    "    # Read in data file\n",
    "    tab = Table.read(sfile, format='csv', header_start=1, data_start=5)\n",
    "    \n",
    "    # Rename the pgc column\n",
    "    tab.rename_column('pgc', 'PGC')\n",
    "    \n",
    "    # Join this distance catalog with the SGA catalog\n",
    "    jtab = join(SGA, tab, keys='PGC', join_type='inner')\n",
    "    \n",
    "    print(tab.colnames)\n",
    "    \n",
    "    # Append this catalog's name to the list of all names\n",
    "    catalog.append(np.full(np.shape(jtab['PGC'].flatten()), name))\n",
    "    if name == 'Araucaria':\n",
    "        for i in range(4):\n",
    "            catalog.append(np.full(np.shape(jtab['PGC'].flatten()), name))\n",
    "    \n",
    "    # Append this catalog's list of PGC numbers to the list of all PGC numbers with distances\n",
    "    PGC_ids.append(jtab['PGC'].flatten())\n",
    "    if name == 'Araucaria':\n",
    "        for i in range(4):\n",
    "            PGC_ids.append(jtab['PGC'].flatten())\n",
    "    \n",
    "    # Append distance moduli to list of all distance moduli\n",
    "    if name == 'Araucaria':\n",
    "        DM.append(jtab['IRCeph'].flatten())\n",
    "        DM.append(jtab['IRRRLy'].flatten())\n",
    "        DM.append(jtab['TRGB'].flatten())\n",
    "        DM.append(jtab['FGLR'].flatten())\n",
    "        DM.append(jtab['EB'].flatten())\n",
    "    else:\n",
    "        try:\n",
    "            DM.append(jtab['DM'].flatten())\n",
    "        except KeyError:\n",
    "            try:\n",
    "                DM.append(jtab['dm'].flatten())\n",
    "            except KeyError:\n",
    "                try:\n",
    "                    DM.append(jtab['Mod01'].flatten())\n",
    "                except KeyError:\n",
    "                    try:\n",
    "                        DM.append(jtab['DM_tip'].flatten())\n",
    "                    except KeyError:\n",
    "                        try:\n",
    "                            DM.append(jtab['modulus'].flatten())\n",
    "                        except KeyError:\n",
    "                            print('DM not found')\n",
    "    \n",
    "    # Append uncertainty in the distance moduli to the list of all uncertainties\n",
    "    if name == 'Araucaria':\n",
    "        e_DM_hi.append(np.sqrt(jtab['erC'].flatten()**2 + jtab['esC'].flatten()**2))\n",
    "        e_DM_hi.append(np.sqrt(jtab['erR'].flatten()**2 + jtab['esR'].flatten()**2))\n",
    "        e_DM_hi.append(np.sqrt(jtab['erT'].flatten()**2 + jtab['esT'].flatten()**2))\n",
    "        e_DM_hi.append(jtab['eFGLR'].flatten())\n",
    "        e_DM_hi.append(jtab['eEB'].flatten())\n",
    "    else:\n",
    "        try:\n",
    "            e_DM_hi.append(jtab['e_dm'].flatten())\n",
    "        except KeyError:\n",
    "            try:\n",
    "                e_DM_hi.append(jtab['edm'].flatten())\n",
    "            except KeyError:\n",
    "                try:\n",
    "                    e_DM_hi.append(jtab['e_Mod'].flatten())\n",
    "                except KeyError:\n",
    "                    try:\n",
    "                        e_DM_hi.append(jtab['eDM_hi'].flatten())\n",
    "                    except KeyError:\n",
    "                        try:\n",
    "                            e_DM_hi.append(jtab['eDM+'].flatten())\n",
    "                        except KeyError:\n",
    "                            e_DM_hi.append(np.zeros_like(jtab['modulus'].flatten()))\n",
    "                            print('E_DM_hi not found')\n",
    "    \n",
    "    # Append uncertainty in the distance moduli to the list of all uncertainties\n",
    "    if name == 'Araucaria':\n",
    "        e_DM_lo.append(np.sqrt(jtab['erC'].flatten()**2 + jtab['esC'].flatten()**2))\n",
    "        e_DM_lo.append(np.sqrt(jtab['erR'].flatten()**2 + jtab['esR'].flatten()**2))\n",
    "        e_DM_lo.append(np.sqrt(jtab['erT'].flatten()**2 + jtab['esT'].flatten()**2))\n",
    "        e_DM_lo.append(jtab['eFGLR'].flatten())\n",
    "        e_DM_lo.append(jtab['eEB'].flatten())\n",
    "    else:\n",
    "        try:\n",
    "            e_DM_lo.append(jtab['e_dm'].flatten())\n",
    "        except KeyError:\n",
    "            try:\n",
    "                e_DM_lo.append(jtab['edm'].flatten())\n",
    "            except KeyError:\n",
    "                try:\n",
    "                    e_DM_lo.append(jtab['e_Mod'].flatten())\n",
    "                except KeyError:\n",
    "                    try:\n",
    "                        e_DM_lo.append(jtab['eDM_lo'].flatten())\n",
    "                    except KeyError:\n",
    "                        try:\n",
    "                            e_DM_lo.append(jtab['eDM-'].flatten())\n",
    "                        except KeyError:\n",
    "                            e_DM_lo.append(np.zeros_like(jtab['modulus'].flatten()))\n",
    "                            print('E_DM_lo not found')\n",
    "                        \n",
    "#     try:\n",
    "#         dist.append(jtab['dist'].flatten())\n",
    "#     except KeyError:\n",
    "#         try:\n",
    "#             DM.append(jtab['dm'].flatten())\n",
    "#         except KeyError:\n",
    "#             try:\n",
    "#                 DM.append(jtab['Mod01'].flatten())\n",
    "#             except KeyError:\n",
    "#                 try:\n",
    "#                     DM.append(jtab['DM_tip'].flatten())\n",
    "#                 except KeyError:\n",
    "#                     try:\n",
    "#                         DM.append(jtab['modulus'].flatten())\n",
    "#                     except KeyError:\n",
    "#                         print('DM not found')\n",
    "# #     try:\n",
    "#         e_DM.append(jtab['e_dm'].flatten())\n",
    "#     except KeyError:\n",
    "#         try:\n",
    "#             e_DM.append(jtab['edm'].flatten())\n",
    "#         except KeyError:\n",
    "#             print('e_dm not found')\n",
    "    # print()\n",
    "#     dist.append(jtab['dist'].flatten())\n",
    "#     e_dist.append(jtab['e_d'].flatten())\n",
    "    \n",
    "    # Check that the list lengths are all the same\n",
    "    if not all([len(catalog), len(PGC_ids), len(DM), len(e_DM_hi), len(e_DM_lo)]):\n",
    "        print('Not all lists are the same length!')\n",
    "        break\n",
    "    \n",
    "    print('Iteration complete')\n",
    "    print()\n",
    "    # print(jtab)\n",
    "    # break"
   ]
  },
  {
   "cell_type": "code",
   "execution_count": 63,
   "id": "83a19841-6a62-49df-8992-b34c5e2d60e9",
   "metadata": {},
   "outputs": [],
   "source": [
    "def flatten_list(arr):\n",
    "    flat_arr = []\n",
    "    for i in range(len(arr)):\n",
    "        for j in range(len(arr[i])):\n",
    "            flat_arr.append(arr[i][j])\n",
    "    return flat_arr"
   ]
  },
  {
   "cell_type": "code",
   "execution_count": 64,
   "id": "6ad491d5-ffb9-47a9-b64a-d057266621ff",
   "metadata": {},
   "outputs": [],
   "source": [
    "PGC_ids_flat = flatten_list(PGC_ids)\n",
    "DM_flat = flatten_list(DM)\n",
    "e_DM_lo_flat = flatten_list(e_DM_lo)\n",
    "e_DM_hi_flat = flatten_list(e_DM_hi)\n",
    "catalog_flat = flatten_list(catalog)\n",
    "\n",
    "# for i in range(len(PGC_ids)):\n",
    "#     for j in range(len(PGC_ids[i])):\n",
    "#         PGC_ids_flat.append(PGC_ids[i][j])"
   ]
  },
  {
   "cell_type": "code",
   "execution_count": 65,
   "id": "3083b78b-d240-48c5-b112-6015f3a84b4b",
   "metadata": {},
   "outputs": [
    {
     "data": {
      "text/plain": [
       "(869, 869, 869, 869, 869)"
      ]
     },
     "execution_count": 65,
     "metadata": {},
     "output_type": "execute_result"
    }
   ],
   "source": [
    "len(PGC_ids_flat), len(DM_flat), len(e_DM_lo_flat), len(e_DM_hi_flat), len(catalog_flat)"
   ]
  },
  {
   "cell_type": "code",
   "execution_count": 67,
   "id": "b267b5a0-8f0a-4d33-a070-7beef12f54c6",
   "metadata": {},
   "outputs": [
    {
     "data": {
      "text/html": [
       "<div><i>Table length=869</i>\n",
       "<table id=\"table23453620875952\" class=\"table-striped table-bordered table-condensed\">\n",
       "<thead><tr><th>PGC</th><th>DM_Stellar</th><th>e_DM_lo_Stellar</th><th>e_DM_hi_Stellar</th><th>Stellar_Catalog</th></tr></thead>\n",
       "<thead><tr><th>int64</th><th>float64</th><th>float64</th><th>float64</th><th>str14</th></tr></thead>\n",
       "<tr><td>1014</td><td>26.43</td><td>0.12</td><td>0.12</td><td>McConnachie</td></tr>\n",
       "<tr><td>1038</td><td>26.42</td><td>0.04</td><td>0.04</td><td>McConnachie</td></tr>\n",
       "<tr><td>1641</td><td>26.54</td><td>0.04</td><td>0.04</td><td>McConnachie</td></tr>\n",
       "<tr><td>3238</td><td>26.59</td><td>0.06</td><td>0.06</td><td>McConnachie</td></tr>\n",
       "<tr><td>3792</td><td>24.43</td><td>0.07</td><td>0.07</td><td>McConnachie</td></tr>\n",
       "<tr><td>3844</td><td>24.39</td><td>0.12</td><td>0.12</td><td>McConnachie</td></tr>\n",
       "<tr><td>5818</td><td>24.54</td><td>0.06</td><td>0.06</td><td>McConnachie</td></tr>\n",
       "<tr><td>6830</td><td>23.09</td><td>0.1</td><td>0.1</td><td>McConnachie</td></tr>\n",
       "<tr><td>26142</td><td>25.67</td><td>0.04</td><td>0.04</td><td>McConnachie</td></tr>\n",
       "<tr><td>28868</td><td>24.51</td><td>0.12</td><td>0.12</td><td>McConnachie</td></tr>\n",
       "<tr><td>...</td><td>...</td><td>...</td><td>...</td><td>...</td></tr>\n",
       "<tr><td>42628</td><td>30.97</td><td>0.07</td><td>0.07</td><td>Cantiello18SBF</td></tr>\n",
       "<tr><td>42728</td><td>31.12</td><td>0.15</td><td>0.15</td><td>Cantiello18SBF</td></tr>\n",
       "<tr><td>42831</td><td>31.11</td><td>0.08</td><td>0.08</td><td>Cantiello18SBF</td></tr>\n",
       "<tr><td>42913</td><td>31.06</td><td>0.12</td><td>0.12</td><td>Cantiello18SBF</td></tr>\n",
       "<tr><td>42917</td><td>30.88</td><td>0.16</td><td>0.16</td><td>Cantiello18SBF</td></tr>\n",
       "<tr><td>43186</td><td>31.22</td><td>0.19</td><td>0.19</td><td>Cantiello18SBF</td></tr>\n",
       "<tr><td>43241</td><td>31.2</td><td>0.21</td><td>0.21</td><td>Cantiello18SBF</td></tr>\n",
       "<tr><td>43516</td><td>31.2</td><td>0.14</td><td>0.14</td><td>Cantiello18SBF</td></tr>\n",
       "<tr><td>43656</td><td>30.97</td><td>0.13</td><td>0.13</td><td>Cantiello18SBF</td></tr>\n",
       "<tr><td>43733</td><td>31.15</td><td>0.18</td><td>0.18</td><td>Cantiello18SBF</td></tr>\n",
       "</table></div>"
      ],
      "text/plain": [
       "<Table length=869>\n",
       " PGC  DM_Stellar e_DM_lo_Stellar e_DM_hi_Stellar Stellar_Catalog\n",
       "int64  float64       float64         float64          str14     \n",
       "----- ---------- --------------- --------------- ---------------\n",
       " 1014      26.43            0.12            0.12     McConnachie\n",
       " 1038      26.42            0.04            0.04     McConnachie\n",
       " 1641      26.54            0.04            0.04     McConnachie\n",
       " 3238      26.59            0.06            0.06     McConnachie\n",
       " 3792      24.43            0.07            0.07     McConnachie\n",
       " 3844      24.39            0.12            0.12     McConnachie\n",
       " 5818      24.54            0.06            0.06     McConnachie\n",
       " 6830      23.09             0.1             0.1     McConnachie\n",
       "26142      25.67            0.04            0.04     McConnachie\n",
       "28868      24.51            0.12            0.12     McConnachie\n",
       "  ...        ...             ...             ...             ...\n",
       "42628      30.97            0.07            0.07  Cantiello18SBF\n",
       "42728      31.12            0.15            0.15  Cantiello18SBF\n",
       "42831      31.11            0.08            0.08  Cantiello18SBF\n",
       "42913      31.06            0.12            0.12  Cantiello18SBF\n",
       "42917      30.88            0.16            0.16  Cantiello18SBF\n",
       "43186      31.22            0.19            0.19  Cantiello18SBF\n",
       "43241       31.2            0.21            0.21  Cantiello18SBF\n",
       "43516       31.2            0.14            0.14  Cantiello18SBF\n",
       "43656      30.97            0.13            0.13  Cantiello18SBF\n",
       "43733      31.15            0.18            0.18  Cantiello18SBF"
      ]
     },
     "execution_count": 67,
     "metadata": {},
     "output_type": "execute_result"
    }
   ],
   "source": [
    "tab = Table([PGC_ids_flat, DM_flat, e_DM_lo_flat, e_DM_hi_flat, catalog_flat],\n",
    "            names=['PGC', 'DM_Stellar', 'e_DM_lo_Stellar', 'e_DM_hi_Stellar', 'Stellar_Catalog'])\n",
    "\n",
    "tab"
   ]
  },
  {
   "cell_type": "code",
   "execution_count": 68,
   "id": "71046762-e7e2-44d2-a607-0d31b6267fbf",
   "metadata": {},
   "outputs": [
    {
     "data": {
      "text/html": [
       "<div><i>Table length=869</i>\n",
       "<table id=\"table23453620876336\" class=\"table-striped table-bordered table-condensed\">\n",
       "<thead><tr><th>PGC</th><th>DM_Stellar</th><th>e_DM_lo_Stellar</th><th>e_DM_hi_Stellar</th><th>Stellar_Catalog</th></tr></thead>\n",
       "<thead><tr><th>int64</th><th>float64</th><th>float64</th><th>float64</th><th>str14</th></tr></thead>\n",
       "<tr><td>1014</td><td>26.43</td><td>0.12</td><td>0.12</td><td>McConnachie</td></tr>\n",
       "<tr><td>1038</td><td>26.42</td><td>0.04</td><td>0.04</td><td>McConnachie</td></tr>\n",
       "<tr><td>1641</td><td>26.54</td><td>0.04</td><td>0.04</td><td>McConnachie</td></tr>\n",
       "<tr><td>3238</td><td>26.59</td><td>0.06</td><td>0.06</td><td>McConnachie</td></tr>\n",
       "<tr><td>3792</td><td>24.43</td><td>0.07</td><td>0.07</td><td>McConnachie</td></tr>\n",
       "<tr><td>3844</td><td>24.39</td><td>0.12</td><td>0.12</td><td>McConnachie</td></tr>\n",
       "<tr><td>5818</td><td>24.54</td><td>0.06</td><td>0.06</td><td>McConnachie</td></tr>\n",
       "<tr><td>6830</td><td>23.09</td><td>0.1</td><td>0.1</td><td>McConnachie</td></tr>\n",
       "<tr><td>26142</td><td>25.67</td><td>0.04</td><td>0.04</td><td>McConnachie</td></tr>\n",
       "<tr><td>28868</td><td>24.51</td><td>0.12</td><td>0.12</td><td>McConnachie</td></tr>\n",
       "<tr><td>...</td><td>...</td><td>...</td><td>...</td><td>...</td></tr>\n",
       "<tr><td>42628</td><td>30.97</td><td>0.07</td><td>0.07</td><td>Cantiello18SBF</td></tr>\n",
       "<tr><td>42728</td><td>31.12</td><td>0.15</td><td>0.15</td><td>Cantiello18SBF</td></tr>\n",
       "<tr><td>42831</td><td>31.11</td><td>0.08</td><td>0.08</td><td>Cantiello18SBF</td></tr>\n",
       "<tr><td>42913</td><td>31.06</td><td>0.12</td><td>0.12</td><td>Cantiello18SBF</td></tr>\n",
       "<tr><td>42917</td><td>30.88</td><td>0.16</td><td>0.16</td><td>Cantiello18SBF</td></tr>\n",
       "<tr><td>43186</td><td>31.22</td><td>0.19</td><td>0.19</td><td>Cantiello18SBF</td></tr>\n",
       "<tr><td>43241</td><td>31.2</td><td>0.21</td><td>0.21</td><td>Cantiello18SBF</td></tr>\n",
       "<tr><td>43516</td><td>31.2</td><td>0.14</td><td>0.14</td><td>Cantiello18SBF</td></tr>\n",
       "<tr><td>43656</td><td>30.97</td><td>0.13</td><td>0.13</td><td>Cantiello18SBF</td></tr>\n",
       "<tr><td>43733</td><td>31.15</td><td>0.18</td><td>0.18</td><td>Cantiello18SBF</td></tr>\n",
       "</table></div>"
      ],
      "text/plain": [
       "<Table length=869>\n",
       " PGC  DM_Stellar e_DM_lo_Stellar e_DM_hi_Stellar Stellar_Catalog\n",
       "int64  float64       float64         float64          str14     \n",
       "----- ---------- --------------- --------------- ---------------\n",
       " 1014      26.43            0.12            0.12     McConnachie\n",
       " 1038      26.42            0.04            0.04     McConnachie\n",
       " 1641      26.54            0.04            0.04     McConnachie\n",
       " 3238      26.59            0.06            0.06     McConnachie\n",
       " 3792      24.43            0.07            0.07     McConnachie\n",
       " 3844      24.39            0.12            0.12     McConnachie\n",
       " 5818      24.54            0.06            0.06     McConnachie\n",
       " 6830      23.09             0.1             0.1     McConnachie\n",
       "26142      25.67            0.04            0.04     McConnachie\n",
       "28868      24.51            0.12            0.12     McConnachie\n",
       "  ...        ...             ...             ...             ...\n",
       "42628      30.97            0.07            0.07  Cantiello18SBF\n",
       "42728      31.12            0.15            0.15  Cantiello18SBF\n",
       "42831      31.11            0.08            0.08  Cantiello18SBF\n",
       "42913      31.06            0.12            0.12  Cantiello18SBF\n",
       "42917      30.88            0.16            0.16  Cantiello18SBF\n",
       "43186      31.22            0.19            0.19  Cantiello18SBF\n",
       "43241       31.2            0.21            0.21  Cantiello18SBF\n",
       "43516       31.2            0.14            0.14  Cantiello18SBF\n",
       "43656      30.97            0.13            0.13  Cantiello18SBF\n",
       "43733      31.15            0.18            0.18  Cantiello18SBF"
      ]
     },
     "execution_count": 68,
     "metadata": {},
     "output_type": "execute_result"
    }
   ],
   "source": [
    "tab['DM_Stellar'].fill_value = -1\n",
    "tab['e_DM_hi_Stellar'].fill_value = -1\n",
    "tab['e_DM_lo_Stellar'].fill_value = -1\n",
    "tab['Stellar_Catalog'].fill_value = -1\n",
    "tab = tab.filled()\n",
    "tab"
   ]
  },
  {
   "cell_type": "code",
   "execution_count": 69,
   "id": "fb3ca85d-c9a5-4a5b-9351-8faac7b38b3b",
   "metadata": {},
   "outputs": [
    {
     "data": {
      "text/html": [
       "<div><i>Table length=855</i>\n",
       "<table id=\"table23456038304592\" class=\"table-striped table-bordered table-condensed\">\n",
       "<thead><tr><th>PGC</th><th>DM_Stellar</th><th>e_DM_lo_Stellar</th><th>e_DM_hi_Stellar</th><th>Stellar_Catalog</th></tr></thead>\n",
       "<thead><tr><th>int64</th><th>float64</th><th>float64</th><th>float64</th><th>str14</th></tr></thead>\n",
       "<tr><td>218</td><td>30.6</td><td>0.14</td><td>0.14</td><td>TonrySBF</td></tr>\n",
       "<tr><td>218</td><td>30.78</td><td>30.69</td><td>30.88</td><td>CMDsTRGB</td></tr>\n",
       "<tr><td>621</td><td>27.53</td><td>27.49</td><td>27.57</td><td>CMDsTRGB</td></tr>\n",
       "<tr><td>1014</td><td>-1.0</td><td>-1.0</td><td>-1.0</td><td>Araucaria</td></tr>\n",
       "<tr><td>1014</td><td>26.43</td><td>0.08944271909999159</td><td>0.08944271909999159</td><td>Araucaria</td></tr>\n",
       "<tr><td>1014</td><td>26.43</td><td>0.12</td><td>0.12</td><td>McConnachie</td></tr>\n",
       "<tr><td>1014</td><td>26.604</td><td>0.0</td><td>0.0</td><td>ANGST</td></tr>\n",
       "<tr><td>1014</td><td>26.62</td><td>26.59</td><td>26.65</td><td>CMDsTRGB</td></tr>\n",
       "<tr><td>1037</td><td>34.126</td><td>0.094</td><td>0.094</td><td>HSTIRSBF</td></tr>\n",
       "<tr><td>1038</td><td>26.42</td><td>0.04</td><td>0.04</td><td>McConnachie</td></tr>\n",
       "<tr><td>...</td><td>...</td><td>...</td><td>...</td><td>...</td></tr>\n",
       "<tr><td>3097727</td><td>28.16</td><td>28.13</td><td>28.2</td><td>CMDsTRGB</td></tr>\n",
       "<tr><td>4015941</td><td>-1.0</td><td>-1.0</td><td>-1.0</td><td>CMDsTRGB</td></tr>\n",
       "<tr><td>4231240</td><td>30.14</td><td>29.88</td><td>30.39</td><td>CMDsTRGB</td></tr>\n",
       "<tr><td>4310323</td><td>-1.0</td><td>-1.0</td><td>-1.0</td><td>CMDsTRGB</td></tr>\n",
       "<tr><td>4320422</td><td>29.59</td><td>29.5</td><td>29.68</td><td>CMDsTRGB</td></tr>\n",
       "<tr><td>4343356</td><td>29.06</td><td>28.96</td><td>29.15</td><td>CMDsTRGB</td></tr>\n",
       "<tr><td>4560762</td><td>-1.0</td><td>-1.0</td><td>-1.0</td><td>CMDsTRGB</td></tr>\n",
       "<tr><td>4562575</td><td>-1.0</td><td>-1.0</td><td>-1.0</td><td>CMDsTRGB</td></tr>\n",
       "<tr><td>4571720</td><td>-1.0</td><td>-1.0</td><td>-1.0</td><td>CMDsTRGB</td></tr>\n",
       "<tr><td>5056941</td><td>27.92</td><td>27.86</td><td>27.98</td><td>CMDsTRGB</td></tr>\n",
       "</table></div>"
      ],
      "text/plain": [
       "<Table length=855>\n",
       "  PGC   DM_Stellar   e_DM_lo_Stellar     e_DM_hi_Stellar   Stellar_Catalog\n",
       " int64   float64         float64             float64            str14     \n",
       "------- ---------- ------------------- ------------------- ---------------\n",
       "    218       30.6                0.14                0.14        TonrySBF\n",
       "    218      30.78               30.69               30.88        CMDsTRGB\n",
       "    621      27.53               27.49               27.57        CMDsTRGB\n",
       "   1014       -1.0                -1.0                -1.0       Araucaria\n",
       "   1014      26.43 0.08944271909999159 0.08944271909999159       Araucaria\n",
       "   1014      26.43                0.12                0.12     McConnachie\n",
       "   1014     26.604                 0.0                 0.0           ANGST\n",
       "   1014      26.62               26.59               26.65        CMDsTRGB\n",
       "   1037     34.126               0.094               0.094        HSTIRSBF\n",
       "   1038      26.42                0.04                0.04     McConnachie\n",
       "    ...        ...                 ...                 ...             ...\n",
       "3097727      28.16               28.13                28.2        CMDsTRGB\n",
       "4015941       -1.0                -1.0                -1.0        CMDsTRGB\n",
       "4231240      30.14               29.88               30.39        CMDsTRGB\n",
       "4310323       -1.0                -1.0                -1.0        CMDsTRGB\n",
       "4320422      29.59                29.5               29.68        CMDsTRGB\n",
       "4343356      29.06               28.96               29.15        CMDsTRGB\n",
       "4560762       -1.0                -1.0                -1.0        CMDsTRGB\n",
       "4562575       -1.0                -1.0                -1.0        CMDsTRGB\n",
       "4571720       -1.0                -1.0                -1.0        CMDsTRGB\n",
       "5056941      27.92               27.86               27.98        CMDsTRGB"
      ]
     },
     "execution_count": 69,
     "metadata": {},
     "output_type": "execute_result"
    }
   ],
   "source": [
    "utab = unique(tab, keys=['PGC', 'DM_Stellar', 'e_DM_lo_Stellar', 'e_DM_hi_Stellar'])\n",
    "utab"
   ]
  },
  {
   "cell_type": "code",
   "execution_count": 70,
   "id": "eef8dc69-5142-44e0-8193-f9ae838bb3db",
   "metadata": {},
   "outputs": [
    {
     "data": {
      "text/html": [
       "<div><i>Table length=817</i>\n",
       "<table id=\"table23453862851776\" class=\"table-striped table-bordered table-condensed\">\n",
       "<thead><tr><th>PGC</th><th>DM_Stellar</th><th>e_DM_lo_Stellar</th><th>e_DM_hi_Stellar</th><th>Stellar_Catalog</th></tr></thead>\n",
       "<thead><tr><th>int64</th><th>float64</th><th>float64</th><th>float64</th><th>str14</th></tr></thead>\n",
       "<tr><td>218</td><td>30.6</td><td>0.14</td><td>0.14</td><td>TonrySBF</td></tr>\n",
       "<tr><td>218</td><td>30.78</td><td>30.69</td><td>30.88</td><td>CMDsTRGB</td></tr>\n",
       "<tr><td>621</td><td>27.53</td><td>27.49</td><td>27.57</td><td>CMDsTRGB</td></tr>\n",
       "<tr><td>1014</td><td>26.43</td><td>0.08944271909999159</td><td>0.08944271909999159</td><td>Araucaria</td></tr>\n",
       "<tr><td>1014</td><td>26.43</td><td>0.12</td><td>0.12</td><td>McConnachie</td></tr>\n",
       "<tr><td>1014</td><td>26.604</td><td>0.0</td><td>0.0</td><td>ANGST</td></tr>\n",
       "<tr><td>1014</td><td>26.62</td><td>26.59</td><td>26.65</td><td>CMDsTRGB</td></tr>\n",
       "<tr><td>1037</td><td>34.126</td><td>0.094</td><td>0.094</td><td>HSTIRSBF</td></tr>\n",
       "<tr><td>1038</td><td>26.42</td><td>0.04</td><td>0.04</td><td>McConnachie</td></tr>\n",
       "<tr><td>1038</td><td>26.43</td><td>26.39</td><td>26.46</td><td>CMDsTRGB</td></tr>\n",
       "<tr><td>...</td><td>...</td><td>...</td><td>...</td><td>...</td></tr>\n",
       "<tr><td>2832120</td><td>29.4</td><td>29.31</td><td>29.49</td><td>CMDsTRGB</td></tr>\n",
       "<tr><td>3097691</td><td>24.39</td><td>0.07</td><td>0.07</td><td>McConnachie</td></tr>\n",
       "<tr><td>3097691</td><td>24.48</td><td>24.4</td><td>24.59</td><td>CMDsTRGB</td></tr>\n",
       "<tr><td>3097708</td><td>29.95</td><td>29.85</td><td>30.05</td><td>CMDsTRGB</td></tr>\n",
       "<tr><td>3097727</td><td>28.11</td><td>0.0</td><td>0.0</td><td>ANGST</td></tr>\n",
       "<tr><td>3097727</td><td>28.16</td><td>28.13</td><td>28.2</td><td>CMDsTRGB</td></tr>\n",
       "<tr><td>4231240</td><td>30.14</td><td>29.88</td><td>30.39</td><td>CMDsTRGB</td></tr>\n",
       "<tr><td>4320422</td><td>29.59</td><td>29.5</td><td>29.68</td><td>CMDsTRGB</td></tr>\n",
       "<tr><td>4343356</td><td>29.06</td><td>28.96</td><td>29.15</td><td>CMDsTRGB</td></tr>\n",
       "<tr><td>5056941</td><td>27.92</td><td>27.86</td><td>27.98</td><td>CMDsTRGB</td></tr>\n",
       "</table></div>"
      ],
      "text/plain": [
       "<Table length=817>\n",
       "  PGC   DM_Stellar   e_DM_lo_Stellar     e_DM_hi_Stellar   Stellar_Catalog\n",
       " int64   float64         float64             float64            str14     \n",
       "------- ---------- ------------------- ------------------- ---------------\n",
       "    218       30.6                0.14                0.14        TonrySBF\n",
       "    218      30.78               30.69               30.88        CMDsTRGB\n",
       "    621      27.53               27.49               27.57        CMDsTRGB\n",
       "   1014      26.43 0.08944271909999159 0.08944271909999159       Araucaria\n",
       "   1014      26.43                0.12                0.12     McConnachie\n",
       "   1014     26.604                 0.0                 0.0           ANGST\n",
       "   1014      26.62               26.59               26.65        CMDsTRGB\n",
       "   1037     34.126               0.094               0.094        HSTIRSBF\n",
       "   1038      26.42                0.04                0.04     McConnachie\n",
       "   1038      26.43               26.39               26.46        CMDsTRGB\n",
       "    ...        ...                 ...                 ...             ...\n",
       "2832120       29.4               29.31               29.49        CMDsTRGB\n",
       "3097691      24.39                0.07                0.07     McConnachie\n",
       "3097691      24.48                24.4               24.59        CMDsTRGB\n",
       "3097708      29.95               29.85               30.05        CMDsTRGB\n",
       "3097727      28.11                 0.0                 0.0           ANGST\n",
       "3097727      28.16               28.13                28.2        CMDsTRGB\n",
       "4231240      30.14               29.88               30.39        CMDsTRGB\n",
       "4320422      29.59                29.5               29.68        CMDsTRGB\n",
       "4343356      29.06               28.96               29.15        CMDsTRGB\n",
       "5056941      27.92               27.86               27.98        CMDsTRGB"
      ]
     },
     "execution_count": 70,
     "metadata": {},
     "output_type": "execute_result"
    }
   ],
   "source": [
    "# Also remove all table rows that are full of -1s (contain no data)\n",
    "empty_rows = (utab['DM_Stellar'] == -1) & (utab['e_DM_lo_Stellar'] == -1) & (utab['e_DM_hi_Stellar'] == -1)\n",
    "utab_noempty = utab[~empty_rows]\n",
    "utab_noempty"
   ]
  },
  {
   "cell_type": "code",
   "execution_count": 71,
   "id": "5099037e-2d5b-439e-ad23-26b490290dab",
   "metadata": {},
   "outputs": [
    {
     "data": {
      "text/plain": [
       "383620"
      ]
     },
     "execution_count": 71,
     "metadata": {},
     "output_type": "execute_result"
    }
   ],
   "source": [
    "len(SGA)"
   ]
  },
  {
   "cell_type": "code",
   "execution_count": 72,
   "id": "27d9fa61-bbb2-4f55-a852-cbaa2cfdad34",
   "metadata": {},
   "outputs": [
    {
     "data": {
      "text/html": [
       "<div><i>Table length=5</i>\n",
       "<table id=\"table23453863004960\" class=\"table-striped table-bordered table-condensed\">\n",
       "<thead><tr><th>SGA_ID</th><th>SGA_GALAXY</th><th>GALAXY</th><th>PGC</th><th>RA_LEDA</th><th>DEC_LEDA</th><th>MORPHTYPE</th><th>PA_LEDA</th><th>D25_LEDA</th><th>BA_LEDA</th><th>Z_LEDA</th><th>SB_D25_LEDA</th><th>MAG_LEDA</th><th>BYHAND</th><th>REF</th><th>GROUP_ID</th><th>GROUP_NAME</th><th>GROUP_MULT</th><th>GROUP_PRIMARY</th><th>GROUP_RA</th><th>GROUP_DEC</th><th>GROUP_DIAMETER</th><th>BRICKNAME</th><th>RA</th><th>DEC</th><th>D26</th><th>D26_REF</th><th>PA</th><th>BA</th><th>RA_MOMENT</th><th>DEC_MOMENT</th><th>SMA_MOMENT</th><th>G_SMA50</th><th>R_SMA50</th><th>Z_SMA50</th><th>SMA_SB22</th><th>SMA_SB22.5</th><th>SMA_SB23</th><th>SMA_SB23.5</th><th>SMA_SB24</th><th>SMA_SB24.5</th><th>SMA_SB25</th><th>SMA_SB25.5</th><th>SMA_SB26</th><th>G_MAG_SB22</th><th>R_MAG_SB22</th><th>Z_MAG_SB22</th><th>G_MAG_SB22.5</th><th>R_MAG_SB22.5</th><th>Z_MAG_SB22.5</th><th>G_MAG_SB23</th><th>R_MAG_SB23</th><th>Z_MAG_SB23</th><th>G_MAG_SB23.5</th><th>R_MAG_SB23.5</th><th>Z_MAG_SB23.5</th><th>G_MAG_SB24</th><th>R_MAG_SB24</th><th>Z_MAG_SB24</th><th>G_MAG_SB24.5</th><th>R_MAG_SB24.5</th><th>Z_MAG_SB24.5</th><th>G_MAG_SB25</th><th>R_MAG_SB25</th><th>Z_MAG_SB25</th><th>G_MAG_SB25.5</th><th>R_MAG_SB25.5</th><th>Z_MAG_SB25.5</th><th>G_MAG_SB26</th><th>R_MAG_SB26</th><th>Z_MAG_SB26</th><th>SMA_SB22_ERR</th><th>SMA_SB22.5_ERR</th><th>SMA_SB23_ERR</th><th>SMA_SB23.5_ERR</th><th>SMA_SB24_ERR</th><th>SMA_SB24.5_ERR</th><th>SMA_SB25_ERR</th><th>SMA_SB25.5_ERR</th><th>SMA_SB26_ERR</th><th>G_MAG_SB22_ERR</th><th>R_MAG_SB22_ERR</th><th>Z_MAG_SB22_ERR</th><th>G_MAG_SB22.5_ERR</th><th>R_MAG_SB22.5_ERR</th><th>Z_MAG_SB22.5_ERR</th><th>G_MAG_SB23_ERR</th><th>R_MAG_SB23_ERR</th><th>Z_MAG_SB23_ERR</th><th>G_MAG_SB23.5_ERR</th><th>R_MAG_SB23.5_ERR</th><th>Z_MAG_SB23.5_ERR</th><th>G_MAG_SB24_ERR</th><th>R_MAG_SB24_ERR</th><th>Z_MAG_SB24_ERR</th><th>G_MAG_SB24.5_ERR</th><th>R_MAG_SB24.5_ERR</th><th>Z_MAG_SB24.5_ERR</th><th>G_MAG_SB25_ERR</th><th>R_MAG_SB25_ERR</th><th>Z_MAG_SB25_ERR</th><th>G_MAG_SB25.5_ERR</th><th>R_MAG_SB25.5_ERR</th><th>Z_MAG_SB25.5_ERR</th><th>G_MAG_SB26_ERR</th><th>R_MAG_SB26_ERR</th><th>Z_MAG_SB26_ERR</th><th>G_COG_PARAMS_MTOT</th><th>G_COG_PARAMS_M0</th><th>G_COG_PARAMS_ALPHA1</th><th>G_COG_PARAMS_ALPHA2</th><th>G_COG_PARAMS_CHI2</th><th>R_COG_PARAMS_MTOT</th><th>R_COG_PARAMS_M0</th><th>R_COG_PARAMS_ALPHA1</th><th>R_COG_PARAMS_ALPHA2</th><th>R_COG_PARAMS_CHI2</th><th>Z_COG_PARAMS_MTOT</th><th>Z_COG_PARAMS_M0</th><th>Z_COG_PARAMS_ALPHA1</th><th>Z_COG_PARAMS_ALPHA2</th><th>Z_COG_PARAMS_CHI2</th><th>ELLIPSEBIT</th><th>DM_Stellar</th><th>e_DM_lo_Stellar</th><th>e_DM_hi_Stellar</th><th>Stellar_Catalog</th></tr></thead>\n",
       "<thead><tr><th>int64</th><th>bytes16</th><th>bytes29</th><th>int64</th><th>float64</th><th>float64</th><th>bytes21</th><th>float32</th><th>float32</th><th>float32</th><th>float32</th><th>float32</th><th>float32</th><th>bool</th><th>bytes13</th><th>int64</th><th>bytes35</th><th>int16</th><th>bool</th><th>float64</th><th>float64</th><th>float32</th><th>bytes8</th><th>float64</th><th>float64</th><th>float32</th><th>bytes4</th><th>float32</th><th>float32</th><th>float64</th><th>float64</th><th>float32</th><th>float32</th><th>float32</th><th>float32</th><th>float32</th><th>float32</th><th>float32</th><th>float32</th><th>float32</th><th>float32</th><th>float32</th><th>float32</th><th>float32</th><th>float32</th><th>float32</th><th>float32</th><th>float32</th><th>float32</th><th>float32</th><th>float32</th><th>float32</th><th>float32</th><th>float32</th><th>float32</th><th>float32</th><th>float32</th><th>float32</th><th>float32</th><th>float32</th><th>float32</th><th>float32</th><th>float32</th><th>float32</th><th>float32</th><th>float32</th><th>float32</th><th>float32</th><th>float32</th><th>float32</th><th>float32</th><th>float32</th><th>float32</th><th>float32</th><th>float32</th><th>float32</th><th>float32</th><th>float32</th><th>float32</th><th>float32</th><th>float32</th><th>float32</th><th>float32</th><th>float32</th><th>float32</th><th>float32</th><th>float32</th><th>float32</th><th>float32</th><th>float32</th><th>float32</th><th>float32</th><th>float32</th><th>float32</th><th>float32</th><th>float32</th><th>float32</th><th>float32</th><th>float32</th><th>float32</th><th>float32</th><th>float32</th><th>float32</th><th>float32</th><th>float32</th><th>float32</th><th>float32</th><th>float32</th><th>float32</th><th>float32</th><th>float32</th><th>float32</th><th>float32</th><th>float32</th><th>float32</th><th>float32</th><th>float32</th><th>float32</th><th>float32</th><th>float32</th><th>float32</th><th>float32</th><th>int32</th><th>float64</th><th>float64</th><th>float64</th><th>str14</th></tr></thead>\n",
       "<tr><td>5002480</td><td>SGA-2020 5002480</td><td>DR8-2837p402-5033</td><td>-1</td><td>283.619631436471</td><td>40.3162008554537</td><td>DEV</td><td>178.80934</td><td>0.54342</td><td>0.3166</td><td>-1.0</td><td>24.29036</td><td>16.9862</td><td>False</td><td>DR8</td><td>530781</td><td>DR8-2837p402-5033</td><td>1</td><td>True</td><td>283.619631436471</td><td>40.3162008554537</td><td>0.54342</td><td>2837p402</td><td>283.6196056669463</td><td>40.316337272867564</td><td>0.53864765</td><td>SB26</td><td>179.53694</td><td>0.3690244</td><td>283.6194583471782</td><td>40.31653379127378</td><td>11.641381</td><td>11.157478</td><td>8.614751</td><td>9.8993</td><td>1.6142721</td><td>3.685578</td><td>5.5844307</td><td>7.701021</td><td>9.878292</td><td>11.927793</td><td>13.400182</td><td>14.697571</td><td>16.15943</td><td>21.37251</td><td>20.373438</td><td>19.779512</td><td>19.920574</td><td>19.005274</td><td>18.41066</td><td>19.314016</td><td>18.435898</td><td>17.843414</td><td>18.922651</td><td>18.076838</td><td>17.494484</td><td>18.664383</td><td>17.833265</td><td>17.25879</td><td>18.496494</td><td>17.682926</td><td>17.106598</td><td>18.404135</td><td>17.605488</td><td>17.02742</td><td>18.332602</td><td>17.555883</td><td>16.971588</td><td>18.299273</td><td>17.52499</td><td>16.931496</td><td>0.04933311</td><td>0.065890566</td><td>0.09742977</td><td>0.10495926</td><td>0.1614855</td><td>0.27832195</td><td>0.15179653</td><td>0.13904023</td><td>0.20484819</td><td>0.041657884</td><td>0.06669066</td><td>0.06785251</td><td>0.038538612</td><td>0.049561314</td><td>0.05101378</td><td>0.03635901</td><td>0.041818976</td><td>0.042013034</td><td>0.03367074</td><td>0.03763669</td><td>0.03705858</td><td>0.03122176</td><td>0.03420294</td><td>0.033616345</td><td>0.029198052</td><td>0.031941395</td><td>0.031132452</td><td>0.028080799</td><td>0.030865192</td><td>0.029955743</td><td>0.02722575</td><td>0.030135926</td><td>0.029090546</td><td>0.026788738</td><td>0.02959205</td><td>0.028436601</td><td>17.799881</td><td>1.3952494</td><td>0.83855844</td><td>1.4560318</td><td>0.5604667</td><td>17.200954</td><td>1.0272083</td><td>0.8301853</td><td>1.7677885</td><td>0.4513309</td><td>16.501709</td><td>1.3551984</td><td>0.73172045</td><td>1.4457989</td><td>0.2076136</td><td>0</td><td>--</td><td>--</td><td>--</td><td>--</td></tr>\n",
       "<tr><td>5001827</td><td>SGA-2020 5001827</td><td>DR8-3429p190-2654</td><td>-1</td><td>343.06599510416885</td><td>19.007842544240166</td><td>COMP</td><td>149.72781</td><td>0.364481</td><td>0.19212697</td><td>-1.0</td><td>24.179615</td><td>17.74276</td><td>False</td><td>DR8</td><td>530254</td><td>DR8-3429p190-2654</td><td>1</td><td>True</td><td>343.06599510416885</td><td>19.007842544240166</td><td>0.364481</td><td>3429p190</td><td>343.0659889732931</td><td>19.007852130676508</td><td>0.31858853</td><td>SB26</td><td>165.48743</td><td>0.51580334</td><td>343.0658381058998</td><td>19.008006031812073</td><td>6.41638</td><td>4.2388635</td><td>3.840903</td><td>3.4690995</td><td>1.4742124</td><td>2.669276</td><td>3.5663874</td><td>4.4851093</td><td>5.496815</td><td>6.579041</td><td>7.5856853</td><td>8.549421</td><td>9.557655</td><td>20.457138</td><td>19.99795</td><td>19.310287</td><td>19.68652</td><td>19.141296</td><td>18.504486</td><td>19.410294</td><td>18.824106</td><td>18.213345</td><td>19.237774</td><td>18.62338</td><td>18.03335</td><td>19.109232</td><td>18.470993</td><td>17.894444</td><td>19.000568</td><td>18.359991</td><td>17.783697</td><td>18.923605</td><td>18.287474</td><td>17.721334</td><td>18.88137</td><td>18.241232</td><td>17.682678</td><td>18.851168</td><td>18.211874</td><td>17.66416</td><td>0.053744696</td><td>0.05957313</td><td>0.055946287</td><td>0.05204967</td><td>0.0821097</td><td>0.095657445</td><td>0.119443916</td><td>0.10069492</td><td>0.12309161</td><td>0.13743532</td><td>0.093717776</td><td>0.10916014</td><td>0.093963</td><td>0.06863667</td><td>0.0786399</td><td>0.079224735</td><td>0.059428245</td><td>0.0675472</td><td>0.07008829</td><td>0.05303887</td><td>0.060243715</td><td>0.06339974</td><td>0.047965165</td><td>0.054594293</td><td>0.0583686</td><td>0.044448227</td><td>0.050365347</td><td>0.05489181</td><td>0.042148653</td><td>0.047974177</td><td>0.05303347</td><td>0.040692396</td><td>0.046537176</td><td>0.05167792</td><td>0.039713927</td><td>0.04589845</td><td>18.521765</td><td>2.235707</td><td>0.14681886</td><td>1.1683329</td><td>0.093139835</td><td>17.999727</td><td>1.1346433</td><td>0.1844311</td><td>1.7032534</td><td>0.07780951</td><td>17.487045</td><td>0.9763811</td><td>0.17169948</td><td>1.8057032</td><td>0.18825474</td><td>0</td><td>--</td><td>--</td><td>--</td><td>--</td></tr>\n",
       "<tr><td>5000010</td><td>SGA-2020 5000010</td><td>DR8-0567m647-903</td><td>-1</td><td>56.54300312639871</td><td>-64.80934718457651</td><td>COMP</td><td>29.012455</td><td>0.35952702</td><td>0.20064402</td><td>-1.0</td><td>24.011541</td><td>17.604403</td><td>False</td><td>DR8</td><td>528795</td><td>DR8-0567m647-903</td><td>1</td><td>True</td><td>56.54300312639871</td><td>-64.80934718457651</td><td>0.35952702</td><td>0567m647</td><td>56.54302036375809</td><td>-64.80933986880245</td><td>0.4755346</td><td>SB26</td><td>28.663513</td><td>0.29433584</td><td>56.542848647797285</td><td>-64.80927381585727</td><td>8.736589</td><td>6.156345</td><td>5.8911633</td><td>5.019775</td><td>3.636086</td><td>5.1246305</td><td>6.7995977</td><td>8.504624</td><td>10.197529</td><td>11.433053</td><td>12.451951</td><td>13.459908</td><td>14.266038</td><td>19.829435</td><td>18.702341</td><td>17.72078</td><td>19.3742</td><td>18.26326</td><td>17.318417</td><td>19.070024</td><td>17.969576</td><td>17.044413</td><td>18.873032</td><td>17.780529</td><td>16.869009</td><td>18.741777</td><td>17.654367</td><td>16.757753</td><td>18.66881</td><td>17.585577</td><td>16.69676</td><td>18.61921</td><td>17.540369</td><td>16.671885</td><td>18.5956</td><td>17.516678</td><td>16.658276</td><td>18.584908</td><td>17.508587</td><td>16.65622</td><td>0.07842346</td><td>0.10684808</td><td>0.10598127</td><td>0.1336244</td><td>0.18079208</td><td>0.16833758</td><td>0.09698383</td><td>0.123597294</td><td>0.2271979</td><td>0.090346076</td><td>0.09316593</td><td>0.10661618</td><td>0.0741755</td><td>0.07625258</td><td>0.08597292</td><td>0.06378336</td><td>0.06548006</td><td>0.07345229</td><td>0.05695747</td><td>0.058580663</td><td>0.06560911</td><td>0.052507028</td><td>0.053927705</td><td>0.0607523</td><td>0.050013393</td><td>0.051447473</td><td>0.058112048</td><td>0.04834179</td><td>0.049834423</td><td>0.05700061</td><td>0.04748593</td><td>0.048931133</td><td>0.056356043</td><td>0.04705708</td><td>0.048579786</td><td>0.056249145</td><td>18.4196</td><td>0.5854682</td><td>0.7582667</td><td>2.552956</td><td>0.1275611</td><td>17.362331</td><td>0.5354967</td><td>0.75221664</td><td>2.6623</td><td>0.108051404</td><td>16.59882</td><td>0.29290038</td><td>0.75512224</td><td>4.02001</td><td>0.099371895</td><td>0</td><td>--</td><td>--</td><td>--</td><td>--</td></tr>\n",
       "<tr><td>5000011</td><td>SGA-2020 5000011</td><td>DR8-3573m647-4867</td><td>-1</td><td>357.4523961260836</td><td>-64.69721404027233</td><td>COMP</td><td>126.79205</td><td>0.36208385</td><td>0.42391703</td><td>-1.0</td><td>22.575665</td><td>16.153137</td><td>False</td><td>DR8</td><td>54737</td><td>PGC141901_GROUP</td><td>2</td><td>False</td><td>357.458854576772</td><td>-64.69052667836162</td><td>0.79625386</td><td>3573m647</td><td>357.4523913742022</td><td>-64.6972084264251</td><td>0.40692437</td><td>SB26</td><td>123.056046</td><td>0.52281606</td><td>357.45228655025676</td><td>-64.69715212027364</td><td>9.629811</td><td>2.121767</td><td>2.0611894</td><td>1.734506</td><td>3.5462766</td><td>4.2129354</td><td>5.0000014</td><td>5.9288983</td><td>7.007124</td><td>8.254464</td><td>9.556827</td><td>10.855088</td><td>12.207731</td><td>18.094467</td><td>17.114706</td><td>16.465424</td><td>18.013458</td><td>17.037617</td><td>16.391382</td><td>17.946354</td><td>16.97433</td><td>16.330555</td><td>17.889101</td><td>16.919909</td><td>16.277067</td><td>17.840693</td><td>16.874798</td><td>16.234098</td><td>17.80058</td><td>16.838003</td><td>16.200266</td><td>17.770811</td><td>16.809774</td><td>16.174864</td><td>17.748878</td><td>16.788744</td><td>16.157566</td><td>17.73346</td><td>16.774214</td><td>16.145689</td><td>0.010273421</td><td>0.010014012</td><td>0.010738629</td><td>0.015260606</td><td>0.021387616</td><td>0.04154679</td><td>0.06918029</td><td>0.098998316</td><td>0.07722032</td><td>0.03530816</td><td>0.036704395</td><td>0.039194494</td><td>0.0327766</td><td>0.03416593</td><td>0.036599513</td><td>0.030853296</td><td>0.032287627</td><td>0.034646317</td><td>0.029252011</td><td>0.030675704</td><td>0.032963473</td><td>0.027989708</td><td>0.029434614</td><td>0.031693593</td><td>0.027015993</td><td>0.028505038</td><td>0.030759998</td><td>0.026278716</td><td>0.027747156</td><td>0.030036297</td><td>0.025798026</td><td>0.027265415</td><td>0.029602205</td><td>0.025424486</td><td>0.02687521</td><td>0.029269233</td><td>17.637094</td><td>0.60642505</td><td>0.23123847</td><td>1.5248909</td><td>0.005628741</td><td>16.674759</td><td>0.8186746</td><td>0.16887273</td><td>1.3860676</td><td>0.0035928597</td><td>16.089655</td><td>0.33333126</td><td>0.2682886</td><td>1.9767312</td><td>0.002995053</td><td>0</td><td>--</td><td>--</td><td>--</td><td>--</td></tr>\n",
       "<tr><td>5001826</td><td>SGA-2020 5001826</td><td>DR8-2186p190-2856</td><td>-1</td><td>218.60677584802335</td><td>19.003043542910984</td><td>DEV</td><td>88.05296</td><td>0.467111</td><td>0.64048594</td><td>-1.0</td><td>24.450872</td><td>17.47529</td><td>False</td><td>DR8</td><td>530253</td><td>DR8-2186p190-2856</td><td>1</td><td>True</td><td>218.60677584802335</td><td>19.003043542910984</td><td>0.467111</td><td>2186p190</td><td>218.60677233775607</td><td>19.003026803236974</td><td>0.29269597</td><td>SB26</td><td>90.857796</td><td>0.74431086</td><td>218.60666844947647</td><td>19.00310886539051</td><td>7.6630845</td><td>10.186203</td><td>9.00587</td><td>8.174782</td><td>0.22978395</td><td>0.873341</td><td>2.1718428</td><td>3.2572255</td><td>4.5300097</td><td>5.9109225</td><td>7.1559114</td><td>8.024923</td><td>8.780879</td><td>24.741697</td><td>24.08734</td><td>23.795313</td><td>21.96077</td><td>21.347706</td><td>21.038857</td><td>20.463587</td><td>19.881445</td><td>19.53472</td><td>19.905565</td><td>19.346622</td><td>18.992098</td><td>19.493916</td><td>18.97071</td><td>18.617464</td><td>19.227316</td><td>18.718887</td><td>18.375254</td><td>19.045078</td><td>18.549232</td><td>18.215836</td><td>18.95633</td><td>18.471169</td><td>18.131598</td><td>18.907969</td><td>18.42323</td><td>18.0868</td><td>0.008029306</td><td>0.0123182</td><td>0.014140214</td><td>0.015759325</td><td>0.024049308</td><td>0.050987743</td><td>0.075250864</td><td>0.088774644</td><td>0.08043317</td><td>0.09715722</td><td>0.092361055</td><td>0.055669226</td><td>0.029446846</td><td>0.04600904</td><td>0.032089457</td><td>0.014483493</td><td>0.019064376</td><td>0.015256983</td><td>0.01252577</td><td>0.013659607</td><td>0.011862875</td><td>0.0103253005</td><td>0.011108007</td><td>0.010525566</td><td>0.009179375</td><td>0.009986064</td><td>0.01061244</td><td>0.008839704</td><td>0.009501278</td><td>0.010758125</td><td>0.008620395</td><td>0.009272786</td><td>0.010937056</td><td>0.008707557</td><td>0.009234039</td><td>0.011174641</td><td>18.038057</td><td>2.074743</td><td>0.4457875</td><td>1.0481199</td><td>8.261567</td><td>17.643421</td><td>2.151769</td><td>0.37569383</td><td>1.0352645</td><td>3.8246021</td><td>17.372353</td><td>2.1132116</td><td>0.3445718</td><td>1.0734451</td><td>1.9173046</td><td>0</td><td>--</td><td>--</td><td>--</td><td>--</td></tr>\n",
       "</table></div>"
      ],
      "text/plain": [
       "<Table length=5>\n",
       " SGA_ID    SGA_GALAXY          GALAXY      ... e_DM_hi_Stellar Stellar_Catalog\n",
       " int64      bytes16           bytes29      ...     float64          str14     \n",
       "------- ---------------- ----------------- ... --------------- ---------------\n",
       "5002480 SGA-2020 5002480 DR8-2837p402-5033 ...              --              --\n",
       "5001827 SGA-2020 5001827 DR8-3429p190-2654 ...              --              --\n",
       "5000010 SGA-2020 5000010  DR8-0567m647-903 ...              --              --\n",
       "5000011 SGA-2020 5000011 DR8-3573m647-4867 ...              --              --\n",
       "5001826 SGA-2020 5001826 DR8-2186p190-2856 ...              --              --"
      ]
     },
     "execution_count": 72,
     "metadata": {},
     "output_type": "execute_result"
    }
   ],
   "source": [
    "#maintab = join(SGA, utab, keys='PGC', join_type='left')\n",
    "maintab = join(SGA, utab_noempty, keys='PGC', join_type='left')\n",
    "\n",
    "maintab[:5]"
   ]
  },
  {
   "cell_type": "code",
   "execution_count": 73,
   "id": "75afe458-e2fd-4227-9bd2-316cf099c385",
   "metadata": {},
   "outputs": [
    {
     "data": {
      "text/html": [
       "<div><i>Table length=2</i>\n",
       "<table id=\"table23456038305360\" class=\"table-striped table-bordered table-condensed\">\n",
       "<thead><tr><th>SGA_ID</th><th>SGA_GALAXY</th><th>GALAXY</th><th>PGC</th><th>RA_LEDA</th><th>DEC_LEDA</th><th>MORPHTYPE</th><th>PA_LEDA</th><th>D25_LEDA</th><th>BA_LEDA</th><th>Z_LEDA</th><th>SB_D25_LEDA</th><th>MAG_LEDA</th><th>BYHAND</th><th>REF</th><th>GROUP_ID</th><th>GROUP_NAME</th><th>GROUP_MULT</th><th>GROUP_PRIMARY</th><th>GROUP_RA</th><th>GROUP_DEC</th><th>GROUP_DIAMETER</th><th>BRICKNAME</th><th>RA</th><th>DEC</th><th>D26</th><th>D26_REF</th><th>PA</th><th>BA</th><th>RA_MOMENT</th><th>DEC_MOMENT</th><th>SMA_MOMENT</th><th>G_SMA50</th><th>R_SMA50</th><th>Z_SMA50</th><th>SMA_SB22</th><th>SMA_SB22.5</th><th>SMA_SB23</th><th>SMA_SB23.5</th><th>SMA_SB24</th><th>SMA_SB24.5</th><th>SMA_SB25</th><th>SMA_SB25.5</th><th>SMA_SB26</th><th>G_MAG_SB22</th><th>R_MAG_SB22</th><th>Z_MAG_SB22</th><th>G_MAG_SB22.5</th><th>R_MAG_SB22.5</th><th>Z_MAG_SB22.5</th><th>G_MAG_SB23</th><th>R_MAG_SB23</th><th>Z_MAG_SB23</th><th>G_MAG_SB23.5</th><th>R_MAG_SB23.5</th><th>Z_MAG_SB23.5</th><th>G_MAG_SB24</th><th>R_MAG_SB24</th><th>Z_MAG_SB24</th><th>G_MAG_SB24.5</th><th>R_MAG_SB24.5</th><th>Z_MAG_SB24.5</th><th>G_MAG_SB25</th><th>R_MAG_SB25</th><th>Z_MAG_SB25</th><th>G_MAG_SB25.5</th><th>R_MAG_SB25.5</th><th>Z_MAG_SB25.5</th><th>G_MAG_SB26</th><th>R_MAG_SB26</th><th>Z_MAG_SB26</th><th>SMA_SB22_ERR</th><th>SMA_SB22.5_ERR</th><th>SMA_SB23_ERR</th><th>SMA_SB23.5_ERR</th><th>SMA_SB24_ERR</th><th>SMA_SB24.5_ERR</th><th>SMA_SB25_ERR</th><th>SMA_SB25.5_ERR</th><th>SMA_SB26_ERR</th><th>G_MAG_SB22_ERR</th><th>R_MAG_SB22_ERR</th><th>Z_MAG_SB22_ERR</th><th>G_MAG_SB22.5_ERR</th><th>R_MAG_SB22.5_ERR</th><th>Z_MAG_SB22.5_ERR</th><th>G_MAG_SB23_ERR</th><th>R_MAG_SB23_ERR</th><th>Z_MAG_SB23_ERR</th><th>G_MAG_SB23.5_ERR</th><th>R_MAG_SB23.5_ERR</th><th>Z_MAG_SB23.5_ERR</th><th>G_MAG_SB24_ERR</th><th>R_MAG_SB24_ERR</th><th>Z_MAG_SB24_ERR</th><th>G_MAG_SB24.5_ERR</th><th>R_MAG_SB24.5_ERR</th><th>Z_MAG_SB24.5_ERR</th><th>G_MAG_SB25_ERR</th><th>R_MAG_SB25_ERR</th><th>Z_MAG_SB25_ERR</th><th>G_MAG_SB25.5_ERR</th><th>R_MAG_SB25.5_ERR</th><th>Z_MAG_SB25.5_ERR</th><th>G_MAG_SB26_ERR</th><th>R_MAG_SB26_ERR</th><th>Z_MAG_SB26_ERR</th><th>G_COG_PARAMS_MTOT</th><th>G_COG_PARAMS_M0</th><th>G_COG_PARAMS_ALPHA1</th><th>G_COG_PARAMS_ALPHA2</th><th>G_COG_PARAMS_CHI2</th><th>R_COG_PARAMS_MTOT</th><th>R_COG_PARAMS_M0</th><th>R_COG_PARAMS_ALPHA1</th><th>R_COG_PARAMS_ALPHA2</th><th>R_COG_PARAMS_CHI2</th><th>Z_COG_PARAMS_MTOT</th><th>Z_COG_PARAMS_M0</th><th>Z_COG_PARAMS_ALPHA1</th><th>Z_COG_PARAMS_ALPHA2</th><th>Z_COG_PARAMS_CHI2</th><th>ELLIPSEBIT</th><th>DM_Stellar</th><th>e_DM_lo_Stellar</th><th>e_DM_hi_Stellar</th><th>Stellar_Catalog</th></tr></thead>\n",
       "<thead><tr><th>int64</th><th>bytes16</th><th>bytes29</th><th>int64</th><th>float64</th><th>float64</th><th>bytes21</th><th>float32</th><th>float32</th><th>float32</th><th>float32</th><th>float32</th><th>float32</th><th>bool</th><th>bytes13</th><th>int64</th><th>bytes35</th><th>int16</th><th>bool</th><th>float64</th><th>float64</th><th>float32</th><th>bytes8</th><th>float64</th><th>float64</th><th>float32</th><th>bytes4</th><th>float32</th><th>float32</th><th>float64</th><th>float64</th><th>float32</th><th>float32</th><th>float32</th><th>float32</th><th>float32</th><th>float32</th><th>float32</th><th>float32</th><th>float32</th><th>float32</th><th>float32</th><th>float32</th><th>float32</th><th>float32</th><th>float32</th><th>float32</th><th>float32</th><th>float32</th><th>float32</th><th>float32</th><th>float32</th><th>float32</th><th>float32</th><th>float32</th><th>float32</th><th>float32</th><th>float32</th><th>float32</th><th>float32</th><th>float32</th><th>float32</th><th>float32</th><th>float32</th><th>float32</th><th>float32</th><th>float32</th><th>float32</th><th>float32</th><th>float32</th><th>float32</th><th>float32</th><th>float32</th><th>float32</th><th>float32</th><th>float32</th><th>float32</th><th>float32</th><th>float32</th><th>float32</th><th>float32</th><th>float32</th><th>float32</th><th>float32</th><th>float32</th><th>float32</th><th>float32</th><th>float32</th><th>float32</th><th>float32</th><th>float32</th><th>float32</th><th>float32</th><th>float32</th><th>float32</th><th>float32</th><th>float32</th><th>float32</th><th>float32</th><th>float32</th><th>float32</th><th>float32</th><th>float32</th><th>float32</th><th>float32</th><th>float32</th><th>float32</th><th>float32</th><th>float32</th><th>float32</th><th>float32</th><th>float32</th><th>float32</th><th>float32</th><th>float32</th><th>float32</th><th>float32</th><th>float32</th><th>float32</th><th>float32</th><th>float32</th><th>float32</th><th>int32</th><th>float64</th><th>float64</th><th>float64</th><th>str14</th></tr></thead>\n",
       "<tr><td>868032</td><td>SGA-2020 868032</td><td>NGC1201</td><td>771919</td><td>46.03332532673745</td><td>-26.06969750695285</td><td>E-S0</td><td>8.59</td><td>3.411929</td><td>0.57411647</td><td>0.005596872</td><td>22.99448</td><td>11.701</td><td>True</td><td>LEDA-20181114</td><td>317178</td><td>NGC1201</td><td>1</td><td>True</td><td>46.03332532673745</td><td>-26.06969750695285</td><td>3.411929</td><td>0459m260</td><td>46.03332172733179</td><td>-26.06966853637713</td><td>4.9620147</td><td>SB26</td><td>7.90505</td><td>0.56788504</td><td>46.033208590750064</td><td>-26.069688000976626</td><td>118.01962</td><td>27.42394</td><td>27.187017</td><td>27.923996</td><td>61.19563</td><td>72.84604</td><td>83.99373</td><td>94.485725</td><td>104.98598</td><td>115.697334</td><td>126.560875</td><td>137.64</td><td>148.86044</td><td>11.54185</td><td>10.780679</td><td>10.202037</td><td>11.4601555</td><td>10.698883</td><td>10.118637</td><td>11.407081</td><td>10.646178</td><td>10.065561</td><td>11.373177</td><td>10.6126375</td><td>10.031863</td><td>11.349672</td><td>10.589578</td><td>10.0087805</td><td>11.333385</td><td>10.573862</td><td>9.993349</td><td>11.321908</td><td>10.562697</td><td>9.982237</td><td>11.313794</td><td>10.5551195</td><td>9.974818</td><td>11.308098</td><td>10.5498085</td><td>9.96952</td><td>0.02019594</td><td>0.030068478</td><td>0.020640232</td><td>0.026782066</td><td>0.027618866</td><td>0.043218754</td><td>0.053795904</td><td>0.06738641</td><td>0.08724375</td><td>0.0021383492</td><td>0.0025708186</td><td>0.0028877133</td><td>0.0019859343</td><td>0.0023212722</td><td>0.0026519478</td><td>0.0018893456</td><td>0.002271816</td><td>0.002547142</td><td>0.0018313518</td><td>0.0022027814</td><td>0.0024693797</td><td>0.0017941092</td><td>0.002099232</td><td>0.002397022</td><td>0.001765516</td><td>0.0021255494</td><td>0.0023833702</td><td>0.0017488543</td><td>0.0020479271</td><td>0.0023391622</td><td>0.0017339756</td><td>0.0020891912</td><td>0.0023430607</td><td>0.0017249141</td><td>0.002079005</td><td>0.0023316648</td><td>11.290278</td><td>0.18008748</td><td>2974.8523</td><td>3.800875</td><td>0.0053895037</td><td>10.53363</td><td>0.17351764</td><td>3786.2764</td><td>3.9145265</td><td>0.014138333</td><td>9.953629</td><td>0.18070917</td><td>3505.5095</td><td>3.9080532</td><td>0.021632774</td><td>0</td><td>31.347</td><td>0.074</td><td>0.074</td><td>HSTIRSBF</td></tr>\n",
       "<tr><td>868032</td><td>SGA-2020 868032</td><td>NGC1201</td><td>771919</td><td>46.03332532673745</td><td>-26.06969750695285</td><td>E-S0</td><td>8.59</td><td>3.411929</td><td>0.57411647</td><td>0.005596872</td><td>22.99448</td><td>11.701</td><td>True</td><td>LEDA-20181114</td><td>317178</td><td>NGC1201</td><td>1</td><td>True</td><td>46.03332532673745</td><td>-26.06969750695285</td><td>3.411929</td><td>0459m260</td><td>46.03332172733179</td><td>-26.06966853637713</td><td>4.9620147</td><td>SB26</td><td>7.90505</td><td>0.56788504</td><td>46.033208590750064</td><td>-26.069688000976626</td><td>118.01962</td><td>27.42394</td><td>27.187017</td><td>27.923996</td><td>61.19563</td><td>72.84604</td><td>83.99373</td><td>94.485725</td><td>104.98598</td><td>115.697334</td><td>126.560875</td><td>137.64</td><td>148.86044</td><td>11.54185</td><td>10.780679</td><td>10.202037</td><td>11.4601555</td><td>10.698883</td><td>10.118637</td><td>11.407081</td><td>10.646178</td><td>10.065561</td><td>11.373177</td><td>10.6126375</td><td>10.031863</td><td>11.349672</td><td>10.589578</td><td>10.0087805</td><td>11.333385</td><td>10.573862</td><td>9.993349</td><td>11.321908</td><td>10.562697</td><td>9.982237</td><td>11.313794</td><td>10.5551195</td><td>9.974818</td><td>11.308098</td><td>10.5498085</td><td>9.96952</td><td>0.02019594</td><td>0.030068478</td><td>0.020640232</td><td>0.026782066</td><td>0.027618866</td><td>0.043218754</td><td>0.053795904</td><td>0.06738641</td><td>0.08724375</td><td>0.0021383492</td><td>0.0025708186</td><td>0.0028877133</td><td>0.0019859343</td><td>0.0023212722</td><td>0.0026519478</td><td>0.0018893456</td><td>0.002271816</td><td>0.002547142</td><td>0.0018313518</td><td>0.0022027814</td><td>0.0024693797</td><td>0.0017941092</td><td>0.002099232</td><td>0.002397022</td><td>0.001765516</td><td>0.0021255494</td><td>0.0023833702</td><td>0.0017488543</td><td>0.0020479271</td><td>0.0023391622</td><td>0.0017339756</td><td>0.0020891912</td><td>0.0023430607</td><td>0.0017249141</td><td>0.002079005</td><td>0.0023316648</td><td>11.290278</td><td>0.18008748</td><td>2974.8523</td><td>3.800875</td><td>0.0053895037</td><td>10.53363</td><td>0.17351764</td><td>3786.2764</td><td>3.9145265</td><td>0.014138333</td><td>9.953629</td><td>0.18070917</td><td>3505.5095</td><td>3.9080532</td><td>0.021632774</td><td>0</td><td>31.53</td><td>0.3</td><td>0.3</td><td>TonrySBF</td></tr>\n",
       "</table></div>"
      ],
      "text/plain": [
       "<Table length=2>\n",
       "SGA_ID    SGA_GALAXY    GALAXY ... e_DM_hi_Stellar Stellar_Catalog\n",
       "int64      bytes16     bytes29 ...     float64          str14     \n",
       "------ --------------- ------- ... --------------- ---------------\n",
       "868032 SGA-2020 868032 NGC1201 ...           0.074        HSTIRSBF\n",
       "868032 SGA-2020 868032 NGC1201 ...             0.3        TonrySBF"
      ]
     },
     "execution_count": 73,
     "metadata": {},
     "output_type": "execute_result"
    }
   ],
   "source": [
    "maintab[maintab['PGC'] == 771919]"
   ]
  },
  {
   "cell_type": "code",
   "execution_count": 74,
   "id": "77562589-2890-4717-8c15-f604fd3ca95b",
   "metadata": {},
   "outputs": [
    {
     "data": {
      "text/html": [
       "<div><i>Table length=383827</i>\n",
       "<table id=\"table23453865090352\" class=\"table-striped table-bordered table-condensed\">\n",
       "<thead><tr><th>SGA_ID</th><th>SGA_GALAXY</th><th>GALAXY</th><th>PGC</th><th>RA_LEDA</th><th>DEC_LEDA</th><th>MORPHTYPE</th><th>PA_LEDA</th><th>D25_LEDA</th><th>BA_LEDA</th><th>Z_LEDA</th><th>SB_D25_LEDA</th><th>MAG_LEDA</th><th>BYHAND</th><th>REF</th><th>GROUP_ID</th><th>GROUP_NAME</th><th>GROUP_MULT</th><th>GROUP_PRIMARY</th><th>GROUP_RA</th><th>GROUP_DEC</th><th>GROUP_DIAMETER</th><th>BRICKNAME</th><th>RA</th><th>DEC</th><th>D26</th><th>D26_REF</th><th>PA</th><th>BA</th><th>RA_MOMENT</th><th>DEC_MOMENT</th><th>SMA_MOMENT</th><th>G_SMA50</th><th>R_SMA50</th><th>Z_SMA50</th><th>SMA_SB22</th><th>SMA_SB22.5</th><th>SMA_SB23</th><th>SMA_SB23.5</th><th>SMA_SB24</th><th>SMA_SB24.5</th><th>SMA_SB25</th><th>SMA_SB25.5</th><th>SMA_SB26</th><th>G_MAG_SB22</th><th>R_MAG_SB22</th><th>Z_MAG_SB22</th><th>G_MAG_SB22.5</th><th>R_MAG_SB22.5</th><th>Z_MAG_SB22.5</th><th>G_MAG_SB23</th><th>R_MAG_SB23</th><th>Z_MAG_SB23</th><th>G_MAG_SB23.5</th><th>R_MAG_SB23.5</th><th>Z_MAG_SB23.5</th><th>G_MAG_SB24</th><th>R_MAG_SB24</th><th>Z_MAG_SB24</th><th>G_MAG_SB24.5</th><th>R_MAG_SB24.5</th><th>Z_MAG_SB24.5</th><th>G_MAG_SB25</th><th>R_MAG_SB25</th><th>Z_MAG_SB25</th><th>G_MAG_SB25.5</th><th>R_MAG_SB25.5</th><th>Z_MAG_SB25.5</th><th>G_MAG_SB26</th><th>R_MAG_SB26</th><th>Z_MAG_SB26</th><th>SMA_SB22_ERR</th><th>SMA_SB22.5_ERR</th><th>SMA_SB23_ERR</th><th>SMA_SB23.5_ERR</th><th>SMA_SB24_ERR</th><th>SMA_SB24.5_ERR</th><th>SMA_SB25_ERR</th><th>SMA_SB25.5_ERR</th><th>SMA_SB26_ERR</th><th>G_MAG_SB22_ERR</th><th>R_MAG_SB22_ERR</th><th>Z_MAG_SB22_ERR</th><th>G_MAG_SB22.5_ERR</th><th>R_MAG_SB22.5_ERR</th><th>Z_MAG_SB22.5_ERR</th><th>G_MAG_SB23_ERR</th><th>R_MAG_SB23_ERR</th><th>Z_MAG_SB23_ERR</th><th>G_MAG_SB23.5_ERR</th><th>R_MAG_SB23.5_ERR</th><th>Z_MAG_SB23.5_ERR</th><th>G_MAG_SB24_ERR</th><th>R_MAG_SB24_ERR</th><th>Z_MAG_SB24_ERR</th><th>G_MAG_SB24.5_ERR</th><th>R_MAG_SB24.5_ERR</th><th>Z_MAG_SB24.5_ERR</th><th>G_MAG_SB25_ERR</th><th>R_MAG_SB25_ERR</th><th>Z_MAG_SB25_ERR</th><th>G_MAG_SB25.5_ERR</th><th>R_MAG_SB25.5_ERR</th><th>Z_MAG_SB25.5_ERR</th><th>G_MAG_SB26_ERR</th><th>R_MAG_SB26_ERR</th><th>Z_MAG_SB26_ERR</th><th>G_COG_PARAMS_MTOT</th><th>G_COG_PARAMS_M0</th><th>G_COG_PARAMS_ALPHA1</th><th>G_COG_PARAMS_ALPHA2</th><th>G_COG_PARAMS_CHI2</th><th>R_COG_PARAMS_MTOT</th><th>R_COG_PARAMS_M0</th><th>R_COG_PARAMS_ALPHA1</th><th>R_COG_PARAMS_ALPHA2</th><th>R_COG_PARAMS_CHI2</th><th>Z_COG_PARAMS_MTOT</th><th>Z_COG_PARAMS_M0</th><th>Z_COG_PARAMS_ALPHA1</th><th>Z_COG_PARAMS_ALPHA2</th><th>Z_COG_PARAMS_CHI2</th><th>ELLIPSEBIT</th><th>DM_Stellar</th><th>e_DM_lo_Stellar</th><th>e_DM_hi_Stellar</th><th>Stellar_Catalog</th></tr></thead>\n",
       "<thead><tr><th>int64</th><th>bytes16</th><th>bytes29</th><th>int64</th><th>float64</th><th>float64</th><th>bytes21</th><th>float32</th><th>float32</th><th>float32</th><th>float32</th><th>float32</th><th>float32</th><th>bool</th><th>bytes13</th><th>int64</th><th>bytes35</th><th>int16</th><th>bool</th><th>float64</th><th>float64</th><th>float32</th><th>bytes8</th><th>float64</th><th>float64</th><th>float32</th><th>bytes4</th><th>float32</th><th>float32</th><th>float64</th><th>float64</th><th>float32</th><th>float32</th><th>float32</th><th>float32</th><th>float32</th><th>float32</th><th>float32</th><th>float32</th><th>float32</th><th>float32</th><th>float32</th><th>float32</th><th>float32</th><th>float32</th><th>float32</th><th>float32</th><th>float32</th><th>float32</th><th>float32</th><th>float32</th><th>float32</th><th>float32</th><th>float32</th><th>float32</th><th>float32</th><th>float32</th><th>float32</th><th>float32</th><th>float32</th><th>float32</th><th>float32</th><th>float32</th><th>float32</th><th>float32</th><th>float32</th><th>float32</th><th>float32</th><th>float32</th><th>float32</th><th>float32</th><th>float32</th><th>float32</th><th>float32</th><th>float32</th><th>float32</th><th>float32</th><th>float32</th><th>float32</th><th>float32</th><th>float32</th><th>float32</th><th>float32</th><th>float32</th><th>float32</th><th>float32</th><th>float32</th><th>float32</th><th>float32</th><th>float32</th><th>float32</th><th>float32</th><th>float32</th><th>float32</th><th>float32</th><th>float32</th><th>float32</th><th>float32</th><th>float32</th><th>float32</th><th>float32</th><th>float32</th><th>float32</th><th>float32</th><th>float32</th><th>float32</th><th>float32</th><th>float32</th><th>float32</th><th>float32</th><th>float32</th><th>float32</th><th>float32</th><th>float32</th><th>float32</th><th>float32</th><th>float32</th><th>float32</th><th>float32</th><th>float32</th><th>float32</th><th>float32</th><th>int32</th><th>float64</th><th>float64</th><th>float64</th><th>str14</th></tr></thead>\n",
       "<tr><td>5002480</td><td>SGA-2020 5002480</td><td>DR8-2837p402-5033</td><td>-1</td><td>283.619631436471</td><td>40.3162008554537</td><td>DEV</td><td>178.80934</td><td>0.54342</td><td>0.3166</td><td>-1.0</td><td>24.29036</td><td>16.9862</td><td>False</td><td>DR8</td><td>530781</td><td>DR8-2837p402-5033</td><td>1</td><td>True</td><td>283.619631436471</td><td>40.3162008554537</td><td>0.54342</td><td>2837p402</td><td>283.6196056669463</td><td>40.316337272867564</td><td>0.53864765</td><td>SB26</td><td>179.53694</td><td>0.3690244</td><td>283.6194583471782</td><td>40.31653379127378</td><td>11.641381</td><td>11.157478</td><td>8.614751</td><td>9.8993</td><td>1.6142721</td><td>3.685578</td><td>5.5844307</td><td>7.701021</td><td>9.878292</td><td>11.927793</td><td>13.400182</td><td>14.697571</td><td>16.15943</td><td>21.37251</td><td>20.373438</td><td>19.779512</td><td>19.920574</td><td>19.005274</td><td>18.41066</td><td>19.314016</td><td>18.435898</td><td>17.843414</td><td>18.922651</td><td>18.076838</td><td>17.494484</td><td>18.664383</td><td>17.833265</td><td>17.25879</td><td>18.496494</td><td>17.682926</td><td>17.106598</td><td>18.404135</td><td>17.605488</td><td>17.02742</td><td>18.332602</td><td>17.555883</td><td>16.971588</td><td>18.299273</td><td>17.52499</td><td>16.931496</td><td>0.04933311</td><td>0.065890566</td><td>0.09742977</td><td>0.10495926</td><td>0.1614855</td><td>0.27832195</td><td>0.15179653</td><td>0.13904023</td><td>0.20484819</td><td>0.041657884</td><td>0.06669066</td><td>0.06785251</td><td>0.038538612</td><td>0.049561314</td><td>0.05101378</td><td>0.03635901</td><td>0.041818976</td><td>0.042013034</td><td>0.03367074</td><td>0.03763669</td><td>0.03705858</td><td>0.03122176</td><td>0.03420294</td><td>0.033616345</td><td>0.029198052</td><td>0.031941395</td><td>0.031132452</td><td>0.028080799</td><td>0.030865192</td><td>0.029955743</td><td>0.02722575</td><td>0.030135926</td><td>0.029090546</td><td>0.026788738</td><td>0.02959205</td><td>0.028436601</td><td>17.799881</td><td>1.3952494</td><td>0.83855844</td><td>1.4560318</td><td>0.5604667</td><td>17.200954</td><td>1.0272083</td><td>0.8301853</td><td>1.7677885</td><td>0.4513309</td><td>16.501709</td><td>1.3551984</td><td>0.73172045</td><td>1.4457989</td><td>0.2076136</td><td>0</td><td>-1.0</td><td>-1.0</td><td>-1.0</td><td>-1</td></tr>\n",
       "<tr><td>5001827</td><td>SGA-2020 5001827</td><td>DR8-3429p190-2654</td><td>-1</td><td>343.06599510416885</td><td>19.007842544240166</td><td>COMP</td><td>149.72781</td><td>0.364481</td><td>0.19212697</td><td>-1.0</td><td>24.179615</td><td>17.74276</td><td>False</td><td>DR8</td><td>530254</td><td>DR8-3429p190-2654</td><td>1</td><td>True</td><td>343.06599510416885</td><td>19.007842544240166</td><td>0.364481</td><td>3429p190</td><td>343.0659889732931</td><td>19.007852130676508</td><td>0.31858853</td><td>SB26</td><td>165.48743</td><td>0.51580334</td><td>343.0658381058998</td><td>19.008006031812073</td><td>6.41638</td><td>4.2388635</td><td>3.840903</td><td>3.4690995</td><td>1.4742124</td><td>2.669276</td><td>3.5663874</td><td>4.4851093</td><td>5.496815</td><td>6.579041</td><td>7.5856853</td><td>8.549421</td><td>9.557655</td><td>20.457138</td><td>19.99795</td><td>19.310287</td><td>19.68652</td><td>19.141296</td><td>18.504486</td><td>19.410294</td><td>18.824106</td><td>18.213345</td><td>19.237774</td><td>18.62338</td><td>18.03335</td><td>19.109232</td><td>18.470993</td><td>17.894444</td><td>19.000568</td><td>18.359991</td><td>17.783697</td><td>18.923605</td><td>18.287474</td><td>17.721334</td><td>18.88137</td><td>18.241232</td><td>17.682678</td><td>18.851168</td><td>18.211874</td><td>17.66416</td><td>0.053744696</td><td>0.05957313</td><td>0.055946287</td><td>0.05204967</td><td>0.0821097</td><td>0.095657445</td><td>0.119443916</td><td>0.10069492</td><td>0.12309161</td><td>0.13743532</td><td>0.093717776</td><td>0.10916014</td><td>0.093963</td><td>0.06863667</td><td>0.0786399</td><td>0.079224735</td><td>0.059428245</td><td>0.0675472</td><td>0.07008829</td><td>0.05303887</td><td>0.060243715</td><td>0.06339974</td><td>0.047965165</td><td>0.054594293</td><td>0.0583686</td><td>0.044448227</td><td>0.050365347</td><td>0.05489181</td><td>0.042148653</td><td>0.047974177</td><td>0.05303347</td><td>0.040692396</td><td>0.046537176</td><td>0.05167792</td><td>0.039713927</td><td>0.04589845</td><td>18.521765</td><td>2.235707</td><td>0.14681886</td><td>1.1683329</td><td>0.093139835</td><td>17.999727</td><td>1.1346433</td><td>0.1844311</td><td>1.7032534</td><td>0.07780951</td><td>17.487045</td><td>0.9763811</td><td>0.17169948</td><td>1.8057032</td><td>0.18825474</td><td>0</td><td>-1.0</td><td>-1.0</td><td>-1.0</td><td>-1</td></tr>\n",
       "<tr><td>5000010</td><td>SGA-2020 5000010</td><td>DR8-0567m647-903</td><td>-1</td><td>56.54300312639871</td><td>-64.80934718457651</td><td>COMP</td><td>29.012455</td><td>0.35952702</td><td>0.20064402</td><td>-1.0</td><td>24.011541</td><td>17.604403</td><td>False</td><td>DR8</td><td>528795</td><td>DR8-0567m647-903</td><td>1</td><td>True</td><td>56.54300312639871</td><td>-64.80934718457651</td><td>0.35952702</td><td>0567m647</td><td>56.54302036375809</td><td>-64.80933986880245</td><td>0.4755346</td><td>SB26</td><td>28.663513</td><td>0.29433584</td><td>56.542848647797285</td><td>-64.80927381585727</td><td>8.736589</td><td>6.156345</td><td>5.8911633</td><td>5.019775</td><td>3.636086</td><td>5.1246305</td><td>6.7995977</td><td>8.504624</td><td>10.197529</td><td>11.433053</td><td>12.451951</td><td>13.459908</td><td>14.266038</td><td>19.829435</td><td>18.702341</td><td>17.72078</td><td>19.3742</td><td>18.26326</td><td>17.318417</td><td>19.070024</td><td>17.969576</td><td>17.044413</td><td>18.873032</td><td>17.780529</td><td>16.869009</td><td>18.741777</td><td>17.654367</td><td>16.757753</td><td>18.66881</td><td>17.585577</td><td>16.69676</td><td>18.61921</td><td>17.540369</td><td>16.671885</td><td>18.5956</td><td>17.516678</td><td>16.658276</td><td>18.584908</td><td>17.508587</td><td>16.65622</td><td>0.07842346</td><td>0.10684808</td><td>0.10598127</td><td>0.1336244</td><td>0.18079208</td><td>0.16833758</td><td>0.09698383</td><td>0.123597294</td><td>0.2271979</td><td>0.090346076</td><td>0.09316593</td><td>0.10661618</td><td>0.0741755</td><td>0.07625258</td><td>0.08597292</td><td>0.06378336</td><td>0.06548006</td><td>0.07345229</td><td>0.05695747</td><td>0.058580663</td><td>0.06560911</td><td>0.052507028</td><td>0.053927705</td><td>0.0607523</td><td>0.050013393</td><td>0.051447473</td><td>0.058112048</td><td>0.04834179</td><td>0.049834423</td><td>0.05700061</td><td>0.04748593</td><td>0.048931133</td><td>0.056356043</td><td>0.04705708</td><td>0.048579786</td><td>0.056249145</td><td>18.4196</td><td>0.5854682</td><td>0.7582667</td><td>2.552956</td><td>0.1275611</td><td>17.362331</td><td>0.5354967</td><td>0.75221664</td><td>2.6623</td><td>0.108051404</td><td>16.59882</td><td>0.29290038</td><td>0.75512224</td><td>4.02001</td><td>0.099371895</td><td>0</td><td>-1.0</td><td>-1.0</td><td>-1.0</td><td>-1</td></tr>\n",
       "<tr><td>5000011</td><td>SGA-2020 5000011</td><td>DR8-3573m647-4867</td><td>-1</td><td>357.4523961260836</td><td>-64.69721404027233</td><td>COMP</td><td>126.79205</td><td>0.36208385</td><td>0.42391703</td><td>-1.0</td><td>22.575665</td><td>16.153137</td><td>False</td><td>DR8</td><td>54737</td><td>PGC141901_GROUP</td><td>2</td><td>False</td><td>357.458854576772</td><td>-64.69052667836162</td><td>0.79625386</td><td>3573m647</td><td>357.4523913742022</td><td>-64.6972084264251</td><td>0.40692437</td><td>SB26</td><td>123.056046</td><td>0.52281606</td><td>357.45228655025676</td><td>-64.69715212027364</td><td>9.629811</td><td>2.121767</td><td>2.0611894</td><td>1.734506</td><td>3.5462766</td><td>4.2129354</td><td>5.0000014</td><td>5.9288983</td><td>7.007124</td><td>8.254464</td><td>9.556827</td><td>10.855088</td><td>12.207731</td><td>18.094467</td><td>17.114706</td><td>16.465424</td><td>18.013458</td><td>17.037617</td><td>16.391382</td><td>17.946354</td><td>16.97433</td><td>16.330555</td><td>17.889101</td><td>16.919909</td><td>16.277067</td><td>17.840693</td><td>16.874798</td><td>16.234098</td><td>17.80058</td><td>16.838003</td><td>16.200266</td><td>17.770811</td><td>16.809774</td><td>16.174864</td><td>17.748878</td><td>16.788744</td><td>16.157566</td><td>17.73346</td><td>16.774214</td><td>16.145689</td><td>0.010273421</td><td>0.010014012</td><td>0.010738629</td><td>0.015260606</td><td>0.021387616</td><td>0.04154679</td><td>0.06918029</td><td>0.098998316</td><td>0.07722032</td><td>0.03530816</td><td>0.036704395</td><td>0.039194494</td><td>0.0327766</td><td>0.03416593</td><td>0.036599513</td><td>0.030853296</td><td>0.032287627</td><td>0.034646317</td><td>0.029252011</td><td>0.030675704</td><td>0.032963473</td><td>0.027989708</td><td>0.029434614</td><td>0.031693593</td><td>0.027015993</td><td>0.028505038</td><td>0.030759998</td><td>0.026278716</td><td>0.027747156</td><td>0.030036297</td><td>0.025798026</td><td>0.027265415</td><td>0.029602205</td><td>0.025424486</td><td>0.02687521</td><td>0.029269233</td><td>17.637094</td><td>0.60642505</td><td>0.23123847</td><td>1.5248909</td><td>0.005628741</td><td>16.674759</td><td>0.8186746</td><td>0.16887273</td><td>1.3860676</td><td>0.0035928597</td><td>16.089655</td><td>0.33333126</td><td>0.2682886</td><td>1.9767312</td><td>0.002995053</td><td>0</td><td>-1.0</td><td>-1.0</td><td>-1.0</td><td>-1</td></tr>\n",
       "<tr><td>5001826</td><td>SGA-2020 5001826</td><td>DR8-2186p190-2856</td><td>-1</td><td>218.60677584802335</td><td>19.003043542910984</td><td>DEV</td><td>88.05296</td><td>0.467111</td><td>0.64048594</td><td>-1.0</td><td>24.450872</td><td>17.47529</td><td>False</td><td>DR8</td><td>530253</td><td>DR8-2186p190-2856</td><td>1</td><td>True</td><td>218.60677584802335</td><td>19.003043542910984</td><td>0.467111</td><td>2186p190</td><td>218.60677233775607</td><td>19.003026803236974</td><td>0.29269597</td><td>SB26</td><td>90.857796</td><td>0.74431086</td><td>218.60666844947647</td><td>19.00310886539051</td><td>7.6630845</td><td>10.186203</td><td>9.00587</td><td>8.174782</td><td>0.22978395</td><td>0.873341</td><td>2.1718428</td><td>3.2572255</td><td>4.5300097</td><td>5.9109225</td><td>7.1559114</td><td>8.024923</td><td>8.780879</td><td>24.741697</td><td>24.08734</td><td>23.795313</td><td>21.96077</td><td>21.347706</td><td>21.038857</td><td>20.463587</td><td>19.881445</td><td>19.53472</td><td>19.905565</td><td>19.346622</td><td>18.992098</td><td>19.493916</td><td>18.97071</td><td>18.617464</td><td>19.227316</td><td>18.718887</td><td>18.375254</td><td>19.045078</td><td>18.549232</td><td>18.215836</td><td>18.95633</td><td>18.471169</td><td>18.131598</td><td>18.907969</td><td>18.42323</td><td>18.0868</td><td>0.008029306</td><td>0.0123182</td><td>0.014140214</td><td>0.015759325</td><td>0.024049308</td><td>0.050987743</td><td>0.075250864</td><td>0.088774644</td><td>0.08043317</td><td>0.09715722</td><td>0.092361055</td><td>0.055669226</td><td>0.029446846</td><td>0.04600904</td><td>0.032089457</td><td>0.014483493</td><td>0.019064376</td><td>0.015256983</td><td>0.01252577</td><td>0.013659607</td><td>0.011862875</td><td>0.0103253005</td><td>0.011108007</td><td>0.010525566</td><td>0.009179375</td><td>0.009986064</td><td>0.01061244</td><td>0.008839704</td><td>0.009501278</td><td>0.010758125</td><td>0.008620395</td><td>0.009272786</td><td>0.010937056</td><td>0.008707557</td><td>0.009234039</td><td>0.011174641</td><td>18.038057</td><td>2.074743</td><td>0.4457875</td><td>1.0481199</td><td>8.261567</td><td>17.643421</td><td>2.151769</td><td>0.37569383</td><td>1.0352645</td><td>3.8246021</td><td>17.372353</td><td>2.1132116</td><td>0.3445718</td><td>1.0734451</td><td>1.9173046</td><td>0</td><td>-1.0</td><td>-1.0</td><td>-1.0</td><td>-1</td></tr>\n",
       "<tr><td>5001825</td><td>SGA-2020 5001825</td><td>DR8-1421p190-2167</td><td>-1</td><td>142.17496809104406</td><td>18.98764584098726</td><td>DEV</td><td>108.64014</td><td>0.55194664</td><td>0.7347403</td><td>-1.0</td><td>24.605</td><td>17.267033</td><td>False</td><td>DR8</td><td>530252</td><td>DR8-1421p190-2167</td><td>1</td><td>True</td><td>142.17496809104406</td><td>18.98764584098726</td><td>0.55194664</td><td>1421p190</td><td>142.1749818558605</td><td>18.98763017352957</td><td>0.35443878</td><td>SB26</td><td>91.11453</td><td>0.5919541</td><td>142.1750790860811</td><td>18.98764367863834</td><td>9.58705</td><td>5.6981773</td><td>5.8868804</td><td>6.336597</td><td>-1.0</td><td>0.6646099</td><td>1.8338716</td><td>3.872237</td><td>5.419138</td><td>6.9197574</td><td>8.314351</td><td>9.548152</td><td>10.633163</td><td>-1.0</td><td>-1.0</td><td>-1.0</td><td>23.143423</td><td>22.569334</td><td>22.36952</td><td>21.04071</td><td>20.483864</td><td>20.235138</td><td>19.79019</td><td>19.32489</td><td>19.078901</td><td>19.314728</td><td>18.893408</td><td>18.64716</td><td>19.031136</td><td>18.628668</td><td>18.37998</td><td>18.86192</td><td>18.478401</td><td>18.20659</td><td>18.776785</td><td>18.393312</td><td>18.125658</td><td>18.721584</td><td>18.338066</td><td>18.071123</td><td>-1.0</td><td>0.04059031</td><td>0.04019662</td><td>0.034941226</td><td>0.037053425</td><td>0.057182375</td><td>0.07160045</td><td>0.101368465</td><td>0.11946646</td><td>-1.0</td><td>-1.0</td><td>-1.0</td><td>0.18783897</td><td>0.2541146</td><td>0.2160328</td><td>0.07685397</td><td>0.10445799</td><td>0.08212002</td><td>0.031378377</td><td>0.041718435</td><td>0.0347374</td><td>0.0222052</td><td>0.029693529</td><td>0.025350967</td><td>0.01788981</td><td>0.023911923</td><td>0.021065146</td><td>0.015895829</td><td>0.021305948</td><td>0.018815346</td><td>0.014999024</td><td>0.01999056</td><td>0.018131055</td><td>0.014527135</td><td>0.019213637</td><td>0.017728802</td><td>18.491074</td><td>0.7556115</td><td>0.40850544</td><td>2.5428727</td><td>1.5155315</td><td>18.039312</td><td>0.9599112</td><td>0.40648556</td><td>2.0276155</td><td>0.9375498</td><td>17.711824</td><td>1.0532973</td><td>0.44244152</td><td>1.879908</td><td>2.5663292</td><td>0</td><td>-1.0</td><td>-1.0</td><td>-1.0</td><td>-1</td></tr>\n",
       "<tr><td>5000013</td><td>SGA-2020 5000013</td><td>DR8-3072m645-3132</td><td>-1</td><td>307.32155203584443</td><td>-64.4849314525816</td><td>DEV</td><td>81.67694</td><td>0.46810666</td><td>0.22082223</td><td>-1.0</td><td>23.687445</td><td>16.70724</td><td>False</td><td>DR8</td><td>528797</td><td>DR8-3072m645-3132</td><td>1</td><td>True</td><td>307.32155203584443</td><td>-64.4849314525816</td><td>0.46810666</td><td>3072m645</td><td>307.32116956446146</td><td>-64.4849500823508</td><td>0.64645445</td><td>SB26</td><td>83.15343</td><td>0.28868306</td><td>307.32108201336644</td><td>-64.48486082794466</td><td>11.968996</td><td>9.50523</td><td>7.7051563</td><td>6.9433136</td><td>5.1110687</td><td>7.3001814</td><td>9.734026</td><td>12.335936</td><td>14.275652</td><td>15.858719</td><td>17.250523</td><td>18.061224</td><td>19.393633</td><td>18.992493</td><td>17.91157</td><td>17.122673</td><td>18.529242</td><td>17.49708</td><td>16.728395</td><td>18.205809</td><td>17.20848</td><td>16.458555</td><td>17.97798</td><td>17.00678</td><td>16.27444</td><td>17.854822</td><td>16.899263</td><td>16.182232</td><td>17.77313</td><td>16.828854</td><td>16.126957</td><td>17.71232</td><td>16.789436</td><td>16.103762</td><td>17.690924</td><td>16.782694</td><td>16.097063</td><td>17.675514</td><td>16.772346</td><td>16.086908</td><td>0.06528468</td><td>0.11795067</td><td>0.14836559</td><td>0.18301694</td><td>0.20163453</td><td>0.20339029</td><td>0.11059007</td><td>0.16402388</td><td>0.20684978</td><td>0.05677273</td><td>0.06905787</td><td>0.07572643</td><td>0.04713037</td><td>0.05548216</td><td>0.06040296</td><td>0.04093789</td><td>0.04728993</td><td>0.051430583</td><td>0.036730617</td><td>0.041949585</td><td>0.045628473</td><td>0.03449919</td><td>0.03923277</td><td>0.042847272</td><td>0.03300582</td><td>0.03747952</td><td>0.041191604</td><td>0.031883866</td><td>0.036463883</td><td>0.04045864</td><td>0.031455405</td><td>0.036258213</td><td>0.040244263</td><td>0.03110513</td><td>0.035948258</td><td>0.039896797</td><td>17.479368</td><td>0.43907392</td><td>3.9006157</td><td>3.0397437</td><td>0.44372743</td><td>16.698677</td><td>0.24537492</td><td>6.205595</td><td>4.5797234</td><td>0.33139172</td><td>16.038088</td><td>0.23322663</td><td>4.4285016</td><td>4.6551933</td><td>0.1405707</td><td>0</td><td>-1.0</td><td>-1.0</td><td>-1.0</td><td>-1</td></tr>\n",
       "<tr><td>5001824</td><td>SGA-2020 5001824</td><td>DR8-1365p190-40</td><td>-1</td><td>136.64808065660915</td><td>18.87785283408407</td><td>COMP</td><td>139.82565</td><td>0.2955251</td><td>0.21015294</td><td>-1.0</td><td>24.0311</td><td>18.049646</td><td>False</td><td>DR8</td><td>530251</td><td>DR8-1365p190-40</td><td>1</td><td>True</td><td>136.64808065660915</td><td>18.87785283408407</td><td>0.2955251</td><td>1365p190</td><td>136.64808826140003</td><td>18.877847784816957</td><td>0.3918237</td><td>SB26</td><td>138.98502</td><td>0.2894482</td><td>136.64800698964063</td><td>18.877919039722574</td><td>10.625722</td><td>4.0507474</td><td>3.9349582</td><td>3.420091</td><td>2.9133255</td><td>4.104258</td><td>5.1013374</td><td>6.029387</td><td>6.9804416</td><td>8.076821</td><td>9.236493</td><td>10.3964405</td><td>11.754711</td><td>20.190245</td><td>19.214119</td><td>18.332914</td><td>19.714502</td><td>18.738441</td><td>17.922482</td><td>19.486032</td><td>18.5181</td><td>17.741867</td><td>19.34954</td><td>18.393448</td><td>17.643152</td><td>19.26181</td><td>18.307405</td><td>17.57606</td><td>19.19087</td><td>18.241583</td><td>17.52776</td><td>19.137838</td><td>18.192606</td><td>17.492777</td><td>19.100964</td><td>18.158272</td><td>17.463757</td><td>19.073486</td><td>18.131847</td><td>17.440859</td><td>0.03685551</td><td>0.03616617</td><td>0.02930234</td><td>0.031885643</td><td>0.03578029</td><td>0.06922839</td><td>0.0731062</td><td>0.09322926</td><td>0.13228081</td><td>0.037376236</td><td>0.03856801</td><td>0.04379109</td><td>0.030263204</td><td>0.031734105</td><td>0.035323177</td><td>0.027168838</td><td>0.028388042</td><td>0.031495463</td><td>0.024959955</td><td>0.026162481</td><td>0.029345665</td><td>0.023486007</td><td>0.024535656</td><td>0.027919782</td><td>0.022332443</td><td>0.023277262</td><td>0.026902817</td><td>0.021599557</td><td>0.022441367</td><td>0.026231846</td><td>0.021142742</td><td>0.021862311</td><td>0.025674086</td><td>0.020839049</td><td>0.021471312</td><td>0.025308583</td><td>18.975607</td><td>1.0423259</td><td>0.14094618</td><td>2.2312043</td><td>0.03572857</td><td>18.033857</td><td>1.3166913</td><td>0.1083459</td><td>2.1040413</td><td>0.011107309</td><td>17.3644</td><td>1.7523485</td><td>0.06318017</td><td>1.9935912</td><td>0.03923463</td><td>0</td><td>-1.0</td><td>-1.0</td><td>-1.0</td><td>-1</td></tr>\n",
       "<tr><td>5001823</td><td>SGA-2020 5001823</td><td>DR8-0304p190-1005</td><td>-1</td><td>30.520078371267697</td><td>18.930737668154617</td><td>DEV</td><td>69.847176</td><td>0.5123013</td><td>0.71619105</td><td>-1.0</td><td>24.455664</td><td>17.279556</td><td>False</td><td>DR8</td><td>530250</td><td>DR8-0304p190-1005</td><td>1</td><td>True</td><td>30.520078371267697</td><td>18.930737668154617</td><td>0.5123013</td><td>0304p190</td><td>30.52007805224517</td><td>18.930728527675907</td><td>0.33547503</td><td>SB26</td><td>68.45356</td><td>0.700529</td><td>30.520101409445186</td><td>18.930908893740785</td><td>7.6686697</td><td>9.691269</td><td>11.09028</td><td>10.286824</td><td>0.16301344</td><td>0.87534046</td><td>2.2826307</td><td>3.5913608</td><td>5.102635</td><td>6.656279</td><td>8.013197</td><td>9.287876</td><td>10.064251</td><td>25.684883</td><td>25.03715</td><td>24.76168</td><td>22.124722</td><td>21.500946</td><td>21.193089</td><td>20.430252</td><td>19.851856</td><td>19.507345</td><td>19.783304</td><td>19.23042</td><td>18.887623</td><td>19.366274</td><td>18.836634</td><td>18.49036</td><td>19.082426</td><td>18.569244</td><td>18.229538</td><td>18.900475</td><td>18.385475</td><td>18.074436</td><td>18.798885</td><td>18.285154</td><td>17.959084</td><td>18.75627</td><td>18.246912</td><td>17.915934</td><td>0.015534417</td><td>0.021761445</td><td>0.021118855</td><td>0.022494117</td><td>0.032707445</td><td>0.059055522</td><td>0.09327626</td><td>0.060154885</td><td>0.089664675</td><td>0.13145544</td><td>0.102806896</td><td>0.16090122</td><td>0.07189164</td><td>0.07386048</td><td>0.07227537</td><td>0.031218011</td><td>0.030894997</td><td>0.030372744</td><td>0.020405574</td><td>0.019598639</td><td>0.020571893</td><td>0.015163628</td><td>0.01510623</td><td>0.016338583</td><td>0.012545986</td><td>0.012759743</td><td>0.014260911</td><td>0.01113246</td><td>0.01146638</td><td>0.013413527</td><td>0.0104427505</td><td>0.010855532</td><td>0.012832523</td><td>0.010208837</td><td>0.010779738</td><td>0.012819328</td><td>18.01893</td><td>1.9189357</td><td>0.46320954</td><td>1.1493287</td><td>4.910013</td><td>17.416246</td><td>2.2683325</td><td>0.43669224</td><td>1.0079197</td><td>5.446195</td><td>17.143198</td><td>2.281988</td><td>0.40215454</td><td>1.0241084</td><td>0.5870931</td><td>0</td><td>-1.0</td><td>-1.0</td><td>-1.0</td><td>-1</td></tr>\n",
       "<tr><td>5001822</td><td>SGA-2020 5001822</td><td>DR8-0175p190-1197</td><td>-1</td><td>17.597235742188428</td><td>18.94687651087893</td><td>DEV</td><td>22.712126</td><td>0.47827083</td><td>0.74794614</td><td>-1.0</td><td>24.740303</td><td>17.713453</td><td>False</td><td>DR8</td><td>530249</td><td>DR8-0175p190-1197</td><td>1</td><td>True</td><td>17.597235742188428</td><td>18.94687651087893</td><td>0.47827083</td><td>0175p190</td><td>17.597234827819882</td><td>18.94687784245447</td><td>0.2898211</td><td>SB26</td><td>10.183331</td><td>0.7739125</td><td>17.597153491141462</td><td>18.9469375363033</td><td>6.377506</td><td>7.8236246</td><td>7.6729093</td><td>6.475175</td><td>0.034139242</td><td>0.40630808</td><td>1.4412687</td><td>2.4597359</td><td>3.5236242</td><td>4.750208</td><td>6.0549245</td><td>7.2982574</td><td>8.694633</td><td>29.453411</td><td>28.374216</td><td>28.052284</td><td>24.038736</td><td>23.066624</td><td>22.743015</td><td>21.539232</td><td>20.801346</td><td>20.44081</td><td>20.679707</td><td>20.03586</td><td>19.67169</td><td>20.163689</td><td>19.563717</td><td>19.17598</td><td>19.790432</td><td>19.24406</td><td>18.841831</td><td>19.551569</td><td>19.031502</td><td>18.636795</td><td>19.393059</td><td>18.89733</td><td>18.52766</td><td>19.265247</td><td>18.783274</td><td>18.416985</td><td>0.0036708063</td><td>0.0074399714</td><td>0.017370837</td><td>0.025711732</td><td>0.027804771</td><td>0.043806523</td><td>0.063380785</td><td>0.09288068</td><td>0.13879603</td><td>0.08783857</td><td>0.12335899</td><td>0.090545096</td><td>0.05622877</td><td>0.08428811</td><td>0.06376022</td><td>0.027333908</td><td>0.024855124</td><td>0.031770203</td><td>0.01830291</td><td>0.019114977</td><td>0.024189925</td><td>0.014740545</td><td>0.01779372</td><td>0.022588698</td><td>0.012645485</td><td>0.015892165</td><td>0.020233499</td><td>0.011706974</td><td>0.014609963</td><td>0.01874847</td><td>0.0113009885</td><td>0.014181883</td><td>0.018389566</td><td>0.011048722</td><td>0.013700175</td><td>0.01822773</td><td>18.585917</td><td>1.7711843</td><td>0.39014253</td><td>1.2439067</td><td>2.142255</td><td>18.10748</td><td>1.9546137</td><td>0.35044813</td><td>1.105281</td><td>3.0125923</td><td>17.850462</td><td>1.736113</td><td>0.31760016</td><td>1.2324106</td><td>7.313139</td><td>0</td><td>-1.0</td><td>-1.0</td><td>-1.0</td><td>-1</td></tr>\n",
       "<tr><td>...</td><td>...</td><td>...</td><td>...</td><td>...</td><td>...</td><td>...</td><td>...</td><td>...</td><td>...</td><td>...</td><td>...</td><td>...</td><td>...</td><td>...</td><td>...</td><td>...</td><td>...</td><td>...</td><td>...</td><td>...</td><td>...</td><td>...</td><td>...</td><td>...</td><td>...</td><td>...</td><td>...</td><td>...</td><td>...</td><td>...</td><td>...</td><td>...</td><td>...</td><td>...</td><td>...</td><td>...</td><td>...</td><td>...</td><td>...</td><td>...</td><td>...</td><td>...</td><td>...</td><td>...</td><td>...</td><td>...</td><td>...</td><td>...</td><td>...</td><td>...</td><td>...</td><td>...</td><td>...</td><td>...</td><td>...</td><td>...</td><td>...</td><td>...</td><td>...</td><td>...</td><td>...</td><td>...</td><td>...</td><td>...</td><td>...</td><td>...</td><td>...</td><td>...</td><td>...</td><td>...</td><td>...</td><td>...</td><td>...</td><td>...</td><td>...</td><td>...</td><td>...</td><td>...</td><td>...</td><td>...</td><td>...</td><td>...</td><td>...</td><td>...</td><td>...</td><td>...</td><td>...</td><td>...</td><td>...</td><td>...</td><td>...</td><td>...</td><td>...</td><td>...</td><td>...</td><td>...</td><td>...</td><td>...</td><td>...</td><td>...</td><td>...</td><td>...</td><td>...</td><td>...</td><td>...</td><td>...</td><td>...</td><td>...</td><td>...</td><td>...</td><td>...</td><td>...</td><td>...</td><td>...</td><td>...</td><td>...</td><td>...</td><td>...</td><td>...</td><td>...</td><td>...</td><td>...</td><td>...</td><td>...</td><td>...</td><td>...</td></tr>\n",
       "<tr><td>1381636</td><td>SGA-2020 1381636</td><td>SDSSJ084556.57+533919.5</td><td>6655844</td><td>131.485701</td><td>53.65544379999999</td><td>E</td><td>95.67</td><td>0.3349654</td><td>0.5546257</td><td>0.18141483</td><td>25.113482</td><td>18.86</td><td>False</td><td>LEDA-20181114</td><td>505249</td><td>SDSSJ084556.57+533919.5</td><td>1</td><td>True</td><td>131.485701</td><td>53.65544379999999</td><td>0.3349654</td><td>1314p537</td><td>131.485513332869</td><td>53.65552786241768</td><td>0.90785563</td><td>SB26</td><td>100.781906</td><td>0.46966988</td><td>131.48501097335733</td><td>53.655693283414486</td><td>19.27131</td><td>19.645798</td><td>18.474365</td><td>6.119243</td><td>3.2048464</td><td>5.3000298</td><td>6.868498</td><td>8.733146</td><td>10.891547</td><td>13.799854</td><td>17.674564</td><td>22.38903</td><td>27.235668</td><td>19.617006</td><td>18.344181</td><td>17.434069</td><td>18.978195</td><td>17.674133</td><td>16.850527</td><td>18.723785</td><td>17.416801</td><td>16.62731</td><td>18.533216</td><td>17.225698</td><td>16.458725</td><td>18.376013</td><td>17.077702</td><td>16.329185</td><td>18.221233</td><td>16.928686</td><td>16.220829</td><td>18.096092</td><td>16.81081</td><td>16.13823</td><td>17.982832</td><td>16.693537</td><td>16.08931</td><td>17.898993</td><td>16.599098</td><td>16.06033</td><td>0.02145444</td><td>0.024300767</td><td>0.02659843</td><td>0.038242504</td><td>0.049760833</td><td>0.08221394</td><td>0.1245344</td><td>0.18116935</td><td>0.33597404</td><td>0.06416799</td><td>0.050728355</td><td>0.05993947</td><td>0.03762428</td><td>0.029434409</td><td>0.03632072</td><td>0.030153323</td><td>0.023723181</td><td>0.02987621</td><td>0.025530338</td><td>0.020114306</td><td>0.025720255</td><td>0.022249224</td><td>0.017710531</td><td>0.02294827</td><td>0.019440806</td><td>0.015559579</td><td>0.020865593</td><td>0.017504236</td><td>0.014118455</td><td>0.019410819</td><td>0.015995648</td><td>0.012845607</td><td>0.01868493</td><td>0.014987484</td><td>0.011922889</td><td>0.0183018</td><td>17.28751</td><td>73180.23</td><td>1.5632104e-05</td><td>0.62010896</td><td>0.3111535</td><td>16.02202</td><td>74812.266</td><td>1.4850441e-05</td><td>0.634582</td><td>3.317102</td><td>15.9725685</td><td>0.92735827</td><td>0.53775245</td><td>1.719592</td><td>0.2274793</td><td>0</td><td>-1.0</td><td>-1.0</td><td>-1.0</td><td>-1</td></tr>\n",
       "<tr><td>192068</td><td>SGA-2020 192068</td><td>SDSSJ081707.55+511127.7</td><td>6655947</td><td>124.28238088651509</td><td>51.19128628720261</td><td>N/A</td><td>71.97</td><td>0.36812896</td><td>0.22594357</td><td>0.17712219</td><td>25.81748</td><td>19.359</td><td>True</td><td>LEDA-20181114</td><td>69573</td><td>SDSSJ081707.55+511127.7</td><td>1</td><td>True</td><td>124.28238088651509</td><td>51.19128628720261</td><td>0.36812896</td><td>1244p512</td><td>124.28286712681074</td><td>51.191316969084056</td><td>0.5698969</td><td>SB26</td><td>38.01268</td><td>0.60827065</td><td>124.28264919212468</td><td>51.19135772249885</td><td>11.790564</td><td>26.220972</td><td>32.505302</td><td>4.255241</td><td>2.9588587</td><td>3.7123146</td><td>4.66305</td><td>5.8716984</td><td>7.5463243</td><td>9.732671</td><td>12.048173</td><td>14.47257</td><td>17.096907</td><td>19.246832</td><td>17.866617</td><td>17.068176</td><td>19.053019</td><td>17.69755</td><td>16.92151</td><td>18.893269</td><td>17.556864</td><td>16.796852</td><td>18.74582</td><td>17.433514</td><td>16.697847</td><td>18.601437</td><td>17.307768</td><td>16.598597</td><td>18.472775</td><td>17.188192</td><td>16.493504</td><td>18.369629</td><td>17.095926</td><td>16.426714</td><td>18.285688</td><td>17.01381</td><td>16.371881</td><td>18.218992</td><td>16.959127</td><td>16.347162</td><td>0.023079297</td><td>0.04086215</td><td>0.05482284</td><td>0.078915626</td><td>0.09437602</td><td>0.08666526</td><td>0.09979178</td><td>0.118369386</td><td>0.12936331</td><td>0.034474935</td><td>0.041634373</td><td>0.0527702</td><td>0.030878717</td><td>0.036941394</td><td>0.047334947</td><td>0.028247554</td><td>0.033442415</td><td>0.0430739</td><td>0.025652625</td><td>0.030590272</td><td>0.040022045</td><td>0.023055358</td><td>0.02769982</td><td>0.036951464</td><td>0.020845573</td><td>0.025080584</td><td>0.033801246</td><td>0.019185174</td><td>0.023202341</td><td>0.03195588</td><td>0.017905246</td><td>0.021613762</td><td>0.03049109</td><td>0.016926548</td><td>0.02059854</td><td>0.029887747</td><td>17.315825</td><td>28263.938</td><td>4.0299303e-05</td><td>0.42989406</td><td>0.21140626</td><td>15.998731</td><td>12815.154</td><td>9.1607675e-05</td><td>0.37716883</td><td>0.27228743</td><td>16.10019</td><td>0.900625</td><td>0.53558946</td><td>1.0434191</td><td>0.28794855</td><td>0</td><td>-1.0</td><td>-1.0</td><td>-1.0</td><td>-1</td></tr>\n",
       "<tr><td>1015032</td><td>SGA-2020 1015032</td><td>SDSSJ120341.63+275957.9</td><td>6656953</td><td>180.92358149999998</td><td>27.999443699999997</td><td>Sbc</td><td>168.6</td><td>0.5834451</td><td>0.379315</td><td>0.13893944</td><td>25.544481</td><td>18.086</td><td>False</td><td>LEDA-20181114</td><td>303346</td><td>SDSSJ120341.63+275957.9_GROUP</td><td>3</td><td>True</td><td>180.9212985046776</td><td>27.998505136513337</td><td>0.75372183</td><td>1809p280</td><td>180.92359944729975</td><td>27.999443129696207</td><td>0.8077715</td><td>SB26</td><td>162.69438</td><td>0.43797576</td><td>180.92371366548593</td><td>27.999202931310073</td><td>15.937034</td><td>8.241134</td><td>7.70254</td><td>7.259966</td><td>3.206125</td><td>5.950151</td><td>7.876542</td><td>9.721162</td><td>11.51854</td><td>13.64122</td><td>16.679659</td><td>20.331114</td><td>24.233145</td><td>19.737555</td><td>18.619164</td><td>17.707706</td><td>18.761906</td><td>17.666943</td><td>16.795593</td><td>18.3967</td><td>17.320261</td><td>16.475294</td><td>18.155092</td><td>17.133202</td><td>16.313765</td><td>17.992344</td><td>16.996462</td><td>16.210371</td><td>17.877838</td><td>16.900969</td><td>16.120815</td><td>17.78587</td><td>16.821604</td><td>16.040777</td><td>17.721733</td><td>16.758123</td><td>15.982839</td><td>17.652637</td><td>16.6967</td><td>15.932339</td><td>0.11108169</td><td>0.1090004</td><td>0.110301286</td><td>0.15792286</td><td>0.122607596</td><td>0.18852842</td><td>0.21782541</td><td>0.21479286</td><td>0.33606178</td><td>0.044466127</td><td>0.053559944</td><td>0.06406398</td><td>0.040328447</td><td>0.046081588</td><td>0.05219833</td><td>0.036476463</td><td>0.04033911</td><td>0.044750202</td><td>0.032531247</td><td>0.035964098</td><td>0.040050626</td><td>0.030211946</td><td>0.03310702</td><td>0.03697897</td><td>0.02816797</td><td>0.030891443</td><td>0.034441527</td><td>0.026085349</td><td>0.028939256</td><td>0.032155618</td><td>0.024806887</td><td>0.027418455</td><td>0.030550003</td><td>0.023556186</td><td>0.025985079</td><td>0.029230917</td><td>17.581604</td><td>0.69125044</td><td>1.2055752</td><td>2.5397527</td><td>0.9411545</td><td>16.597622</td><td>1.0361096</td><td>0.6367639</td><td>1.9793861</td><td>0.5039726</td><td>15.812825</td><td>1.473543</td><td>0.38964978</td><td>1.6763681</td><td>0.23054382</td><td>0</td><td>-1.0</td><td>-1.0</td><td>-1.0</td><td>-1</td></tr>\n",
       "<tr><td>163773</td><td>SGA-2020 163773</td><td>MSB2017_J1408+56</td><td>6657065</td><td>212.170833</td><td>56.92722220000001</td><td>N/A</td><td>0.0</td><td>0.36666667</td><td>1.0</td><td>-99.0</td><td>24.71984</td><td>18.27</td><td>True</td><td>LEDA-20181114</td><td>59011</td><td>MSB2017_J1408+56</td><td>1</td><td>True</td><td>212.170833</td><td>56.92722220000001</td><td>0.36666667</td><td>2122p570</td><td>212.171159955593</td><td>56.926595549320815</td><td>0.58524245</td><td>SB26</td><td>50.73783</td><td>0.4828788</td><td>212.1707516989119</td><td>56.926627496412706</td><td>9.405043</td><td>15.877693</td><td>16.633938</td><td>8.064359</td><td>-1.0</td><td>-1.0</td><td>-1.0</td><td>-1.0</td><td>2.6530533</td><td>6.095575</td><td>10.717708</td><td>14.651399</td><td>17.557274</td><td>-1.0</td><td>-1.0</td><td>-1.0</td><td>-1.0</td><td>-1.0</td><td>-1.0</td><td>-1.0</td><td>-1.0</td><td>-1.0</td><td>-1.0</td><td>-1.0</td><td>-1.0</td><td>21.625917</td><td>21.187191</td><td>21.246511</td><td>20.063698</td><td>19.643198</td><td>19.8808</td><td>19.182755</td><td>18.779291</td><td>19.256529</td><td>18.79556</td><td>18.392824</td><td>19.051292</td><td>18.618816</td><td>18.218784</td><td>18.96972</td><td>-1.0</td><td>-1.0</td><td>-1.0</td><td>-1.0</td><td>0.04900321</td><td>0.12553737</td><td>0.14137444</td><td>0.22693798</td><td>0.34099555</td><td>-1.0</td><td>-1.0</td><td>-1.0</td><td>-1.0</td><td>-1.0</td><td>-1.0</td><td>-1.0</td><td>-1.0</td><td>-1.0</td><td>-1.0</td><td>-1.0</td><td>-1.0</td><td>0.024730783</td><td>0.022632247</td><td>0.061896753</td><td>0.0155524425</td><td>0.016901288</td><td>0.03857256</td><td>0.01526508</td><td>0.016313702</td><td>0.03891823</td><td>0.013758953</td><td>0.01469708</td><td>0.04103073</td><td>0.012740955</td><td>0.013579273</td><td>0.042758927</td><td>17.96158</td><td>1.1124256</td><td>2.2624726</td><td>1.8385125</td><td>0.05919084</td><td>17.515175</td><td>1.1819742</td><td>2.1476247</td><td>1.7305608</td><td>0.15930454</td><td>18.778017</td><td>0.87467015</td><td>0.8490365</td><td>2.2040992</td><td>0.00031231687</td><td>0</td><td>-1.0</td><td>-1.0</td><td>-1.0</td><td>-1</td></tr>\n",
       "<tr><td>259065</td><td>SGA-2020 259065</td><td>MSB2017_J1305+41</td><td>6657076</td><td>196.3716</td><td>41.8938</td><td>N/A</td><td>0.0</td><td>0.40666667</td><td>1.0</td><td>-99.0</td><td>23.994673</td><td>17.32</td><td>True</td><td>LEDA-20181114</td><td>94630</td><td>MSB2017_J1305+41</td><td>1</td><td>True</td><td>196.3716</td><td>41.8938</td><td>0.40666667</td><td>1962p420</td><td>196.37132998092522</td><td>41.8932195346971</td><td>0.66303176</td><td>SB26</td><td>52.223404</td><td>0.9118806</td><td>196.37112279893566</td><td>41.893266881498754</td><td>13.664224</td><td>19.533525</td><td>18.815765</td><td>6.1085525</td><td>-1.0</td><td>-1.0</td><td>-1.0</td><td>2.910728</td><td>5.822521</td><td>9.797999</td><td>13.057665</td><td>16.531813</td><td>19.890953</td><td>-1.0</td><td>-1.0</td><td>-1.0</td><td>-1.0</td><td>-1.0</td><td>-1.0</td><td>-1.0</td><td>-1.0</td><td>-1.0</td><td>20.151731</td><td>19.754078</td><td>19.91731</td><td>18.801258</td><td>18.432663</td><td>18.642662</td><td>18.060808</td><td>17.693975</td><td>18.068945</td><td>17.771181</td><td>17.392496</td><td>17.932392</td><td>17.565676</td><td>17.185678</td><td>17.863697</td><td>17.422804</td><td>17.042221</td><td>17.85511</td><td>-1.0</td><td>-1.0</td><td>-1.0</td><td>0.01898834</td><td>0.03100518</td><td>0.039650068</td><td>0.0660397</td><td>0.08333549</td><td>0.15105432</td><td>-1.0</td><td>-1.0</td><td>-1.0</td><td>-1.0</td><td>-1.0</td><td>-1.0</td><td>-1.0</td><td>-1.0</td><td>-1.0</td><td>0.008788423</td><td>0.0092661325</td><td>0.030514777</td><td>0.005188027</td><td>0.005262448</td><td>0.01739371</td><td>0.00393001</td><td>0.0040864726</td><td>0.015194148</td><td>0.0034638399</td><td>0.003603017</td><td>0.016705519</td><td>0.0031898906</td><td>0.003404639</td><td>0.01882653</td><td>0.003039708</td><td>0.003299739</td><td>0.021213887</td><td>16.685862</td><td>3.7185729</td><td>0.4417826</td><td>1.012266</td><td>11.173057</td><td>16.331194</td><td>2.8898659</td><td>0.5920997</td><td>1.0889734</td><td>3.7448015</td><td>17.819023</td><td>0.647334</td><td>0.44158864</td><td>3.256265</td><td>0.34275523</td><td>0</td><td>-1.0</td><td>-1.0</td><td>-1.0</td><td>-1</td></tr>\n",
       "<tr><td>706307</td><td>SGA-2020 706307</td><td>MSB2017_J1308+40</td><td>6657077</td><td>197.1916665</td><td>40.9011111</td><td>N/A</td><td>0.0</td><td>0.36666667</td><td>1.0</td><td>-99.0</td><td>24.89984</td><td>18.45</td><td>True</td><td>LEDA-20181114</td><td>258969</td><td>MSB2017_J1308+40</td><td>1</td><td>True</td><td>197.1916665</td><td>40.9011111</td><td>0.36666667</td><td>1973p410</td><td>197.19137793031447</td><td>40.901048874962804</td><td>0.68482155</td><td>SB26</td><td>88.6135</td><td>0.43416804</td><td>197.19112395226895</td><td>40.90114986353322</td><td>13.771014</td><td>21.397373</td><td>15.1284</td><td>8.650713</td><td>-1.0</td><td>-1.0</td><td>-1.0</td><td>-1.0</td><td>2.0416327</td><td>5.9897866</td><td>11.135965</td><td>16.2076</td><td>20.544647</td><td>-1.0</td><td>-1.0</td><td>-1.0</td><td>-1.0</td><td>-1.0</td><td>-1.0</td><td>-1.0</td><td>-1.0</td><td>-1.0</td><td>-1.0</td><td>-1.0</td><td>-1.0</td><td>22.689522</td><td>22.04564</td><td>21.906284</td><td>20.474197</td><td>19.88835</td><td>19.787655</td><td>19.428696</td><td>18.815996</td><td>18.888979</td><td>18.945002</td><td>18.356041</td><td>18.602873</td><td>18.695383</td><td>18.123974</td><td>18.531347</td><td>-1.0</td><td>-1.0</td><td>-1.0</td><td>-1.0</td><td>0.060773477</td><td>0.06677961</td><td>0.13201728</td><td>0.1221379</td><td>0.20880674</td><td>-1.0</td><td>-1.0</td><td>-1.0</td><td>-1.0</td><td>-1.0</td><td>-1.0</td><td>-1.0</td><td>-1.0</td><td>-1.0</td><td>-1.0</td><td>-1.0</td><td>-1.0</td><td>0.04236685</td><td>0.037515614</td><td>0.08954121</td><td>0.016390966</td><td>0.015259452</td><td>0.033005722</td><td>0.011452674</td><td>0.012146447</td><td>0.026643632</td><td>0.009841064</td><td>0.010819584</td><td>0.02718492</td><td>0.009124575</td><td>0.010522271</td><td>0.03044903</td><td>17.906374</td><td>1.4898592</td><td>2.101282</td><td>1.5279807</td><td>0.12883934</td><td>17.670845</td><td>0.9590376</td><td>2.9476821</td><td>2.1874077</td><td>1.3483498</td><td>18.440636</td><td>0.64043385</td><td>1.4109446</td><td>3.1842403</td><td>0.12957327</td><td>0</td><td>-1.0</td><td>-1.0</td><td>-1.0</td><td>-1</td></tr>\n",
       "<tr><td>616723</td><td>SGA-2020 616723</td><td>2MASXJ22553169+1917333</td><td>6728423</td><td>343.882104</td><td>19.2925833</td><td>N/A</td><td>120.0</td><td>0.33342642</td><td>0.6516284</td><td>0.036795452</td><td>21.343481</td><td>15.1</td><td>False</td><td>LEDA-20181114</td><td>226148</td><td>2MASXJ22553169+1917333</td><td>1</td><td>True</td><td>343.882104</td><td>19.2925833</td><td>0.33342642</td><td>3440p192</td><td>343.88230356417046</td><td>19.29255109954895</td><td>1.3891104</td><td>SB26</td><td>103.098976</td><td>0.38874847</td><td>343.88259982194063</td><td>19.29251533055245</td><td>26.466312</td><td>8.4434805</td><td>8.7295</td><td>9.090706</td><td>10.608587</td><td>13.014946</td><td>15.541839</td><td>17.929342</td><td>20.888144</td><td>24.904701</td><td>31.448812</td><td>37.005264</td><td>41.673313</td><td>16.029053</td><td>15.406702</td><td>14.92092</td><td>15.892499</td><td>15.267762</td><td>14.790253</td><td>15.800121</td><td>15.174032</td><td>14.699166</td><td>15.746087</td><td>15.113318</td><td>14.639041</td><td>15.689497</td><td>15.055291</td><td>14.5771475</td><td>15.64972</td><td>15.012168</td><td>14.532978</td><td>15.60892</td><td>14.9699135</td><td>14.483572</td><td>15.576314</td><td>14.936018</td><td>14.4432955</td><td>15.556289</td><td>14.914095</td><td>14.418763</td><td>0.13050835</td><td>0.11635388</td><td>0.14874108</td><td>0.15351556</td><td>0.18362059</td><td>0.24007733</td><td>0.2852556</td><td>0.34795675</td><td>0.3434295</td><td>0.03815936</td><td>0.03886769</td><td>0.042758264</td><td>0.034829862</td><td>0.035236727</td><td>0.03887225</td><td>0.032369602</td><td>0.032672122</td><td>0.036024667</td><td>0.030834239</td><td>0.031005744</td><td>0.0340593</td><td>0.029450262</td><td>0.029517455</td><td>0.03237433</td><td>0.028419662</td><td>0.028403513</td><td>0.03112243</td><td>0.027313221</td><td>0.02731104</td><td>0.02965691</td><td>0.026598318</td><td>0.026519107</td><td>0.02869976</td><td>0.026119547</td><td>0.025998466</td><td>0.028070174</td><td>15.477656</td><td>17482.045</td><td>3.411209e-05</td><td>1.3753492</td><td>0.16354679</td><td>14.826298</td><td>11667.472</td><td>5.3780266e-05</td><td>1.3381327</td><td>0.16153426</td><td>14.285724</td><td>9333.491</td><td>7.251292e-05</td><td>1.1136502</td><td>0.1708866</td><td>0</td><td>-1.0</td><td>-1.0</td><td>-1.0</td><td>-1</td></tr>\n",
       "<tr><td>1322974</td><td>SGA-2020 1322974</td><td>OBC97_N07-1</td><td>6740580</td><td>219.70549950000003</td><td>20.178222199999997</td><td>N/A</td><td>0.0</td><td>0.34434992</td><td>1.0</td><td>-99.0</td><td>24.71348</td><td>18.4</td><td>True</td><td>LEDA-20181114</td><td>485274</td><td>OBC97_N07-1</td><td>1</td><td>True</td><td>219.70549950000003</td><td>20.178222199999997</td><td>0.34434992</td><td>2197p202</td><td>219.70547953286695</td><td>20.178220642926885</td><td>0.6604175</td><td>SB26</td><td>47.181854</td><td>0.3085205</td><td>219.70535713588458</td><td>20.17829278288451</td><td>12.396978</td><td>12.324828</td><td>10.420617</td><td>11.950062</td><td>0.96932715</td><td>2.574895</td><td>5.1753573</td><td>7.5578337</td><td>10.014726</td><td>12.43931</td><td>14.975536</td><td>17.576817</td><td>19.812525</td><td>22.470488</td><td>21.859222</td><td>21.638268</td><td>20.547432</td><td>20.010117</td><td>19.768991</td><td>19.39724</td><td>18.896023</td><td>18.641176</td><td>18.901817</td><td>18.425837</td><td>18.156912</td><td>18.580412</td><td>18.126343</td><td>17.853626</td><td>18.370375</td><td>17.92589</td><td>17.648806</td><td>18.221046</td><td>17.795376</td><td>17.515776</td><td>18.123287</td><td>17.713139</td><td>17.416056</td><td>18.079092</td><td>17.670403</td><td>17.358076</td><td>0.026884958</td><td>0.06656205</td><td>0.07487173</td><td>0.12117621</td><td>0.19151749</td><td>0.19990145</td><td>0.14730681</td><td>0.21696524</td><td>0.20905368</td><td>0.02913667</td><td>0.03380056</td><td>0.038944688</td><td>0.0327753</td><td>0.044457175</td><td>0.04132127</td><td>0.03143977</td><td>0.036128264</td><td>0.03556559</td><td>0.02995043</td><td>0.033552274</td><td>0.03198465</td><td>0.028007496</td><td>0.030757166</td><td>0.029363044</td><td>0.02633924</td><td>0.028487535</td><td>0.027352285</td><td>0.024906307</td><td>0.026910238</td><td>0.025714</td><td>0.023810709</td><td>0.025716843</td><td>0.02436761</td><td>0.023189954</td><td>0.02504026</td><td>0.023758963</td><td>17.633333</td><td>1.4967467</td><td>0.8794937</td><td>1.421917</td><td>1.3982863</td><td>17.33023</td><td>1.2819827</td><td>0.8519915</td><td>1.5690289</td><td>0.98505014</td><td>16.937494</td><td>1.4649441</td><td>0.8646768</td><td>1.4192353</td><td>0.2699432</td><td>0</td><td>-1.0</td><td>-1.0</td><td>-1.0</td><td>-1</td></tr>\n",
       "<tr><td>680722</td><td>SGA-2020 680722</td><td>EKS2015_RS0955</td><td>6740714</td><td>196.584</td><td>4.1501002</td><td>N/A</td><td>30.0</td><td>0.43233332</td><td>0.5</td><td>-99.0</td><td>24.692575</td><td>17.885</td><td>True</td><td>LEDA-20181114</td><td>247649</td><td>EKS2015_RS0955</td><td>1</td><td>True</td><td>196.584</td><td>4.1501002</td><td>0.43233332</td><td>1966p042</td><td>196.58453004994354</td><td>4.150449008524681</td><td>0.51801646</td><td>SB26</td><td>27.8532</td><td>0.63095343</td><td>196.58450391969455</td><td>4.150583973229383</td><td>13.641732</td><td>8.403328</td><td>8.579344</td><td>8.9144335</td><td>-1.0</td><td>-1.0</td><td>-1.0</td><td>2.4525337</td><td>5.999064</td><td>9.000806</td><td>11.946341</td><td>14.010179</td><td>15.540493</td><td>-1.0</td><td>-1.0</td><td>-1.0</td><td>-1.0</td><td>-1.0</td><td>-1.0</td><td>-1.0</td><td>-1.0</td><td>-1.0</td><td>20.969837</td><td>20.666525</td><td>20.462996</td><td>19.258673</td><td>18.912659</td><td>18.711302</td><td>18.569925</td><td>18.228273</td><td>18.007591</td><td>18.23849</td><td>17.90323</td><td>17.676832</td><td>18.11638</td><td>17.77918</td><td>17.539978</td><td>18.053371</td><td>17.710043</td><td>17.462769</td><td>-1.0</td><td>-1.0</td><td>-1.0</td><td>0.042871237</td><td>0.10295274</td><td>0.08178099</td><td>0.11206135</td><td>0.13521013</td><td>0.1286146</td><td>-1.0</td><td>-1.0</td><td>-1.0</td><td>-1.0</td><td>-1.0</td><td>-1.0</td><td>-1.0</td><td>-1.0</td><td>-1.0</td><td>0.022737056</td><td>0.019431813</td><td>0.037241165</td><td>0.014586467</td><td>0.012415101</td><td>0.017076166</td><td>0.011434039</td><td>0.010220548</td><td>0.013098819</td><td>0.010152266</td><td>0.009238782</td><td>0.01216015</td><td>0.009866379</td><td>0.009067176</td><td>0.011967325</td><td>0.0097371135</td><td>0.0090295775</td><td>0.011900776</td><td>17.92526</td><td>0.48405787</td><td>1.8492088</td><td>4.0392656</td><td>0.5897124</td><td>17.551624</td><td>0.5682978</td><td>1.5978823</td><td>3.5655272</td><td>1.1108413</td><td>17.280184</td><td>0.58595294</td><td>1.7533054</td><td>3.470009</td><td>1.7564456</td><td>0</td><td>-1.0</td><td>-1.0</td><td>-1.0</td><td>-1</td></tr>\n",
       "<tr><td>439837</td><td>SGA-2020 439837</td><td>EKS2015_RS0510</td><td>6740716</td><td>173.49469950000002</td><td>4.3449998</td><td>N/A</td><td>0.0</td><td>0.33966663</td><td>0.5075971</td><td>-99.0</td><td>24.229744</td><td>17.946</td><td>True</td><td>LEDA-20181114</td><td>161162</td><td>EKS2015_RS0510</td><td>1</td><td>True</td><td>173.49469950000002</td><td>4.3449998</td><td>0.33966663</td><td>1736p042</td><td>173.49485595803574</td><td>4.344924883507937</td><td>0.5156837</td><td>SB26</td><td>4.4822693</td><td>0.7222341</td><td>173.49478297026465</td><td>4.344997661170944</td><td>25.039705</td><td>8.61086</td><td>9.066328</td><td>8.944384</td><td>-1.0</td><td>0.45278558</td><td>1.7595636</td><td>3.619618</td><td>6.025716</td><td>7.9975605</td><td>10.50512</td><td>12.991229</td><td>15.4705105</td><td>-1.0</td><td>-1.0</td><td>-1.0</td><td>23.7996</td><td>23.267387</td><td>22.991875</td><td>21.039238</td><td>20.48188</td><td>20.157995</td><td>19.774647</td><td>19.228273</td><td>18.898565</td><td>19.0537</td><td>18.53154</td><td>18.202375</td><td>18.726082</td><td>18.205614</td><td>17.8956</td><td>18.47124</td><td>17.966726</td><td>17.664473</td><td>18.328512</td><td>17.823252</td><td>17.517555</td><td>18.252943</td><td>17.736387</td><td>17.433922</td><td>-1.0</td><td>0.010897889</td><td>0.013311464</td><td>0.020633783</td><td>0.03676928</td><td>0.03941907</td><td>0.11827865</td><td>0.15728638</td><td>0.13521516</td><td>-1.0</td><td>-1.0</td><td>-1.0</td><td>0.028910832</td><td>0.02775613</td><td>0.043279663</td><td>0.011560348</td><td>0.012096981</td><td>0.02022066</td><td>0.008650073</td><td>0.008137791</td><td>0.013546953</td><td>0.0070009404</td><td>0.006156571</td><td>0.01027869</td><td>0.0064963005</td><td>0.0058289957</td><td>0.009382823</td><td>0.006193187</td><td>0.0055950615</td><td>0.008555451</td><td>0.005919617</td><td>0.0054007163</td><td>0.008111147</td><td>0.0057586282</td><td>0.0052909143</td><td>0.008045299</td><td>17.900679</td><td>1.2536795</td><td>0.64236355</td><td>1.6540393</td><td>15.883132</td><td>17.342123</td><td>1.4246392</td><td>0.60082567</td><td>1.4997882</td><td>10.254365</td><td>17.042652</td><td>1.515813</td><td>0.5465951</td><td>1.4551128</td><td>1.5517347</td><td>0</td><td>-1.0</td><td>-1.0</td><td>-1.0</td><td>-1</td></tr>\n",
       "</table></div>"
      ],
      "text/plain": [
       "<Table length=383827>\n",
       " SGA_ID    SGA_GALAXY    ... e_DM_hi_Stellar Stellar_Catalog\n",
       " int64      bytes16      ...     float64          str14     \n",
       "------- ---------------- ... --------------- ---------------\n",
       "5002480 SGA-2020 5002480 ...            -1.0              -1\n",
       "5001827 SGA-2020 5001827 ...            -1.0              -1\n",
       "5000010 SGA-2020 5000010 ...            -1.0              -1\n",
       "5000011 SGA-2020 5000011 ...            -1.0              -1\n",
       "5001826 SGA-2020 5001826 ...            -1.0              -1\n",
       "5001825 SGA-2020 5001825 ...            -1.0              -1\n",
       "5000013 SGA-2020 5000013 ...            -1.0              -1\n",
       "5001824 SGA-2020 5001824 ...            -1.0              -1\n",
       "5001823 SGA-2020 5001823 ...            -1.0              -1\n",
       "5001822 SGA-2020 5001822 ...            -1.0              -1\n",
       "    ...              ... ...             ...             ...\n",
       "1381636 SGA-2020 1381636 ...            -1.0              -1\n",
       " 192068  SGA-2020 192068 ...            -1.0              -1\n",
       "1015032 SGA-2020 1015032 ...            -1.0              -1\n",
       " 163773  SGA-2020 163773 ...            -1.0              -1\n",
       " 259065  SGA-2020 259065 ...            -1.0              -1\n",
       " 706307  SGA-2020 706307 ...            -1.0              -1\n",
       " 616723  SGA-2020 616723 ...            -1.0              -1\n",
       "1322974 SGA-2020 1322974 ...            -1.0              -1\n",
       " 680722  SGA-2020 680722 ...            -1.0              -1\n",
       " 439837  SGA-2020 439837 ...            -1.0              -1"
      ]
     },
     "execution_count": 74,
     "metadata": {},
     "output_type": "execute_result"
    }
   ],
   "source": [
    "maintab['DM_Stellar'].fill_value = -1\n",
    "maintab['e_DM_hi_Stellar'].fill_value = -1\n",
    "maintab['e_DM_lo_Stellar'].fill_value = -1\n",
    "maintab['Stellar_Catalog'].fill_value = -1\n",
    "\n",
    "maintab = maintab.filled()\n",
    "\n",
    "maintab"
   ]
  },
  {
   "cell_type": "markdown",
   "id": "54ec3f3d-0add-434b-8fc0-57bf40b58765",
   "metadata": {},
   "source": [
    "# SN1a Distances\n",
    "\n",
    "Note that the `ASAS-SN SNIa` table on the EDD does *not* have any distance moduli and is therefore not included below.\n",
    "\n",
    "We are also skipping Tonry's data (https://ui.adsabs.harvard.edu/abs/2003ApJ...594....1T/abstract, Table 8) because the distances are in velocity units, which makes me (KAD) think that they are not actually distance moduli."
   ]
  },
  {
   "cell_type": "code",
   "execution_count": 79,
   "id": "1290468a-a6ba-4b51-a5c4-b08774947feb",
   "metadata": {},
   "outputs": [
    {
     "data": {
      "text/plain": [
       "'cache/SN1A_dist/EDDtable_Prieto-SNIa.txt'"
      ]
     },
     "execution_count": 79,
     "metadata": {},
     "output_type": "execute_result"
    }
   ],
   "source": [
    "sn_dist = glob('cache/SN1A_dist/*')\n",
    "sn_dist[0]"
   ]
  },
  {
   "cell_type": "code",
   "execution_count": 80,
   "id": "899d0b35-e098-4cc5-bfe1-f5918aa3f98d",
   "metadata": {},
   "outputs": [
    {
     "data": {
      "text/plain": [
       "12"
      ]
     },
     "execution_count": 80,
     "metadata": {},
     "output_type": "execute_result"
    }
   ],
   "source": [
    "len(sn_dist)"
   ]
  },
  {
   "cell_type": "code",
   "execution_count": 81,
   "id": "fb842339-b6c7-430e-8155-c7bca069dbb8",
   "metadata": {},
   "outputs": [
    {
     "data": {
      "text/plain": [
       "'Prieto-SNIa'"
      ]
     },
     "execution_count": 81,
     "metadata": {},
     "output_type": "execute_result"
    }
   ],
   "source": [
    "# sn_dist[0].split('/')[-1].strip('.txt').strip('EDDtable')\n",
    "sn_dist[0].split('/')[-1].strip('.txt').split('_')[-1]"
   ]
  },
  {
   "cell_type": "code",
   "execution_count": 90,
   "id": "d3a53652-afc9-4ed4-92e1-7961c48e1eb1",
   "metadata": {},
   "outputs": [
    {
     "name": "stdout",
     "output_type": "stream",
     "text": [
      "cache/SN1A_dist/EDDtable_Prieto-SNIa.txt\n",
      "['PGC', 'SNIa', 'z', 'mu0', 'emu0', 'E(B-V)', 'eE(B-V)', 'DelM15', 'eM15']\n",
      "\n",
      "cache/SN1A_dist/EDDtable_Stahl-SNIa.txt\n",
      "['PGC', '1PGC', 'Nest', 'SNIa', 'DM', 'eDM', 'Vcmb', 'Vrc3', 'J2000', 'RA', 'De', 'Glon', 'Glat', 'SGL', 'SGB', 'Ty', 'Ag', 'SSubsamp']\n",
      "\n",
      "cache/SN1A_dist/EDDtable_Jaeger-SNII.txt\n",
      "['PGC', '1PGC', 'Nest', 'SNII', 'DM', 'eDM', 'Vhel', 'Vcmb', 'Vrc3', 'J2000', 'RA', 'De', 'Glon', 'Glat', 'SGL', 'SGB', 'Ty', 'Ag', 'Host', 'So']\n",
      "\n",
      "cache/SN1A_dist/EDDtable_SNIa-calibration.txt\n",
      "['PGC', 'SNIa', 'objname', 'J2000', 'Glon', 'Glat', 'SGL', 'SGB', 'Typ', 'logD25', 'logR25', 'BT', 'IT', 'Ag', 'Vhel', 'Vcmb', 'VcmbSN', 'mu0U', 'emu0U', 'Cuts', 'mu0J', 'emu0J', 'NotesJ', 'Notes']\n",
      "\n",
      "cache/SN1A_dist/EDDtable_Constitution-SNIa.txt\n",
      "['PGC', 'SNIa', 'zcmb', 'ez', 'S_Bmag', 'S_eB', 'S_s', 'S_es', 'S_c', 'S_ec', 'S_mu0', 'S_emu0', 'S2_Bmag', 'S2_eB', 'S2_s', 'S2_es', 'S2_c', 'S2_ec', 'S2_mu0', 'S2_emu0', 'M31_Del', 'M31_eD', 'M31_AV', 'M31_eAV', 'M31_mu0', 'M31_emu0', 'M17_Del', 'M17_eD', 'M17_AV', 'M17_eAV', 'M17_mu0', 'M17_emu0']\n",
      "\n",
      "cache/SN1A_dist/EDDtable_CSP1-Burns18-SN1a.txt\n",
      "['PGC', 'SNIa', '1PGC', 'Nest', 'muCV', 'emu', 'zh', 'z3k', 'sBV', 'esBV', 'Dm15', 'eDm15', 'Vmax', 'eVmax', 'EBV', 'eEBV', 'Rv', 'eRv', 'covER', 'Q', 'RA', 'Dec', 'glon', 'glat', 'sgl', 'sgb']\n",
      "\n",
      "cache/SN1A_dist/EDDtable_CSP1-SNIa.txt\n",
      "['PGC', 'SNIa', 'zhel', 'zcmb', 'E(B-V)', 'DelM15', 'eM15', 'mu0', 'emu0', 'Q']\n",
      "\n",
      "cache/SN1A_dist/EDDtable_Union2-SNIa.txt\n",
      "['PGC', 'objname', 'J2000', 'Typ', 'Imag', 'logD25', 'Inc', 'Vhel', 'SNIa', 'Vcmb', 'mB0', 'emB0', 'X1', 'eX1', 'C', 'eC', 'mu0', 'emu0', 'Samp', 'Cuts']\n",
      "\n",
      "cache/SN1A_dist/EDDtable_5-Sources-SNIa.txt\n",
      "['PGC', 'SNIa', 'l', 'b', 'SGL', 'SGB', 'Vhel', 'Vcmb', 'z', 'logz', 'Ns', 'DM5c', 'D5c', 'H5c', 'DM5u', 'D5u', 'H5u', 'DMu', 'eDMu', 'DMj', 'eDMj', 'DMp', 'eDMp', 'DMh', 'DMf', 'H0', 'logH0', 'SGX', 'SGY', 'SGZ']\n",
      "\n",
      "cache/SN1A_dist/EDDtable_Jha-SNIa.txt\n",
      "['PGC', 'objname', 'SNIa', 'Glon', 'Glat', 'Vhel', 'Vlg', 'Vcmb', 'Typ', 'OffN', 'OffE', 't1', 'Filt', 'E_B-V', 'Ref', 't0', 'et0', 'mu0', 'emu0', 'Delta', 'eDel', 'AV0', 'eAV0', 'RV', 'eRV', 'mV0', 'emV0', 'Notes']\n",
      "\n",
      "cache/SN1A_dist/EDDtable_LOSS-Ganeshalingam13-SN1a.txt\n",
      "['PGC', 'SNIa', '1PGC', 'Nest', 'RA', 'Dec', 'z3k', 'B', 'eB', 'x1', 'ex1', 'c', 'ec', 'mu', 'emu', 'Sample', 'Ref']\n",
      "\n"
     ]
    }
   ],
   "source": [
    "PGC_ids = []\n",
    "DM1 = []\n",
    "e_DM1 = []\n",
    "DM2 = []\n",
    "e_DM2 = []\n",
    "DM3 = []\n",
    "e_DM3 = []\n",
    "DM4 = []\n",
    "e_DM4 = []\n",
    "DM5 = []\n",
    "e_DM5 = []\n",
    "DM6 = []\n",
    "e_DM6 = []\n",
    "DM7 = []\n",
    "e_DM7 = []\n",
    "dist = []\n",
    "e_dist = []\n",
    "catalog = []\n",
    "\n",
    "for sfile in sn_dist:\n",
    "    \n",
    "    if sfile == 'cache/SN1A_dist/EDDtable_Tonry-SNIa.txt':\n",
    "        continue\n",
    "    print(sfile)\n",
    "    \n",
    "    # Extract catalog name from file name\n",
    "    #name = sfile.split('/')[-1].strip('.txt').strip('EDDtable')\n",
    "    name = sfile.split('/')[-1].strip('.txt').split('_')[-1]\n",
    "    \n",
    "    # Read data from file\n",
    "    tab = Table.read(sfile, format='csv', header_start=1, data_start=5)\n",
    "    \n",
    "    # Rename pgc column name to match SGA\n",
    "    tab.rename_column('pgc', 'PGC')\n",
    "    \n",
    "    jtab = join(SGA, tab, keys='PGC', join_type='inner')\n",
    "    print(tab.colnames)\n",
    "    \n",
    "    # Append catalog name to list of catalogs\n",
    "    catalog.append(np.full(np.shape(jtab['PGC'].flatten()), name))\n",
    "    \n",
    "    # Append PGC numbers to list of PGC numbers\n",
    "    PGC_ids.append(jtab['PGC'].flatten())\n",
    "    \n",
    "    # Append distance moduli and uncertainties to appropriate lists\n",
    "    try:\n",
    "        ## SALT\n",
    "        DM1.append(np.array(jtab['S_mu0']).flatten())\n",
    "        # print(jtab['S_mu0'].flatten())\n",
    "        e_DM1.append(np.array(jtab['S_emu0']).flatten())\n",
    "        # print(len(np.array(jtab['S_mu0']).flatten()))\n",
    "        # print(len(np.array(jtab['S_emu0']).flatten()))\n",
    "    except KeyError:\n",
    "        try:\n",
    "            DM1.append(np.array(jtab['mu0']).flatten())\n",
    "            e_DM1.append(np.array(jtab['emu0']).flatten())\n",
    "            # print(len(np.array(jtab['mu0']).flatten()))\n",
    "            # print(len(np.array(jtab['emu0']).flatten()))\n",
    "        except KeyError:\n",
    "            try:\n",
    "                DM1.append(np.array(jtab['muCV']).flatten())\n",
    "                e_DM1.append(np.array(jtab['emu']).flatten())\n",
    "                # print(len(np.array(jtab['muCV']).flatten()))\n",
    "                # print(len(np.array(jtab['emu']).flatten()))\n",
    "            except KeyError:\n",
    "                try:\n",
    "                    DM1.append(np.array(jtab['mu']).flatten())\n",
    "                    e_DM1.append(np.array(jtab['emu']).flatten())\n",
    "                    # print(len(np.array(jtab['mu']).flatten()))\n",
    "                    # print(len(np.array(jtab['emu']).flatten()))\n",
    "                except KeyError:\n",
    "                    try:\n",
    "                        ## mu0U: Union2 (2010) Distance Modulus assuming H0=74.2 km/s/Mpc\n",
    "                        DM1.append(np.array(jtab['mu0U']).flatten())\n",
    "                        e_DM1.append(np.array(jtab['emu0U']).flatten())\n",
    "                        # print(len(np.array(jtab['mu0U']).flatten()))\n",
    "                        # print(len(np.array(jtab['emu0U']).flatten()))\n",
    "                    except KeyError:\n",
    "                        try:\n",
    "                            DM1.append(np.array(jtab['DM']).flatten())\n",
    "                            e_DM1.append(np.array(jtab['eDM']).flatten())\n",
    "                            # print(len(np.array(jtab['DM']).flatten()))\n",
    "                            # print(len(np.array(jtab['eDM']).flatten()))\n",
    "                        except KeyError:\n",
    "                            try:\n",
    "                                ## DM5c: Distance modulus, all contributing sources, Cosmicflows-2 zero point\n",
    "                                DM1.append(np.array(jtab['DM5c']).flatten())\n",
    "                                e_DM1.append(np.full(np.shape(np.array(jtab['PGC']).flatten()), 0))\n",
    "                                # print(len(np.array(jtab['DM5c']).flatten()))\n",
    "                                # print(len(np.array(jtab['eDM5c']).flatten()))\n",
    "                            except KeyError:\n",
    "                                print('DM and eDM not found')\n",
    "    \n",
    "    # Repeat for second distance moduli (when available)\n",
    "    try:\n",
    "        ## S2_mu0: SALT2\n",
    "        DM2.append(np.array(jtab['S2_mu0']).flatten())\n",
    "        e_DM2.append(np.array(jtab['S2_emu0']).flatten())\n",
    "        # print(len(np.array(jtab['S2_mu0']).flatten()))\n",
    "        # print(len(np.array(jtab['S2_emu0']).flatten()))\n",
    "    except KeyError:\n",
    "        try:\n",
    "            ## mu0J: Jha et al. (2007) Distance Modulus assuming H0=65 km/s/Mpc \n",
    "            DM2.append(np.array(jtab['mu0J']).flatten())\n",
    "            e_DM2.append(np.array(jtab['emu0J']).flatten())\n",
    "            # print(len(np.array(jtab['mu0J']).flatten()))\n",
    "            # print(len(np.array(jtab['emu0J']).flatten()))\n",
    "        except:\n",
    "            try:\n",
    "                ## DM5u: Distance modulus, all contributing sources, Union2 zero point\n",
    "                DM2.append(np.array(jtab['DM5u']).flatten())\n",
    "                e_DM2.append(np.array(jtab['DM5u']).flatten())\n",
    "                # print(len(np.array(jtab['DM5u']).flatten()))\n",
    "                # print(len(np.array(jtab['DM5u']).flatten()))\n",
    "            except KeyError:\n",
    "                DM2.append(np.full(np.shape(np.array(jtab['PGC']).flatten()), -1))\n",
    "                e_DM2.append(np.full(np.shape(np.array(jtab['PGC']).flatten()), -1))\n",
    "    \n",
    "    # And for third distance moduli (when available)\n",
    "    try:\n",
    "        ## M31_mu0\n",
    "        DM3.append(np.array(jtab['M31_mu0']).flatten())\n",
    "        e_DM3.append(np.array(jtab['M31_emu0']).flatten())\n",
    "        # print(len(np.array(jtab['M31_mu0']).flatten()))\n",
    "        # print(len(np.array(jtab['M31_emu0']).flatten()))\n",
    "    except KeyError:\n",
    "        try:\n",
    "            ## DMu: Distance modulus from Union2 (Amanullah et al. 2010), Union2 zero point \n",
    "            DM3.append(np.array(jtab['DMu']).flatten())\n",
    "            e_DM3.append(np.array(jtab['eDMu']).flatten())\n",
    "            # print(len(np.array(jtab['DMu']).flatten()))\n",
    "            # print(len(np.array(jtab['DMu']).flatten()))\n",
    "        except KeyError:\n",
    "            DM3.append(np.full(np.shape(np.array(jtab['PGC']).flatten()), -1))\n",
    "            e_DM3.append(np.full(np.shape(np.array(jtab['PGC']).flatten()), -1))\n",
    "    \n",
    "    # And for the fourth distance moduli (when available)\n",
    "    try:\n",
    "        ## M17_mu0\n",
    "        DM4.append(np.array(jtab['M17_mu0']).flatten())\n",
    "        e_DM4.append(np.array(jtab['M17_emu0']).flatten())\n",
    "    except KeyError:\n",
    "        try:\n",
    "            ## DMj: Distance modulus from Jha et al. (2007), Union2 zero point\n",
    "            DM4.append(np.array(jtab['DMj']).flatten())\n",
    "            e_DM4.append(np.array(jtab['eDMj']).flatten())\n",
    "        except KeyError:\n",
    "            DM4.append(np.full(np.shape(np.array(jtab['PGC']).flatten()), -1))\n",
    "            e_DM4.append(np.full(np.shape(np.array(jtab['PGC']).flatten()), -1))\n",
    "    \n",
    "    # And for the fifth distance moduli (when available)\n",
    "    try:\n",
    "        ## DMp: Distance modulus from Prieto et al. (2006), Union2 zero point\n",
    "        DM5.append(np.array(jtab['DMp']).flatten())\n",
    "        e_DM5.append(np.array(jtab['eDMp']).flatten())\n",
    "    except KeyError:\n",
    "        # print(np.shape(flatten_array(jtab['PGC'])))\n",
    "        # print(np.shape(np.array(np.array(jtab['PGC'])).flatten()))\n",
    "        # l = np.array(np.array(jtab['PGC'])).flatten()\n",
    "        DM5.append(np.full(np.shape(np.array(jtab['PGC']).flatten()), -1))\n",
    "        e_DM5.append(np.full(np.shape(np.array(jtab['PGC']).flatten()), -1))\n",
    "    \n",
    "    # And for the sixth and seventh distance moduli (when available)\n",
    "    try:\n",
    "        ## DMh: Distance modulus from Hicken et al. (2009), Union2 zero point\n",
    "        ## DMf: Distance modulus from Folatelli et al. (2010)\n",
    "        DM6.append(np.array(jtab['DMh']).flatten())\n",
    "        DM7.append(np.array(jtab['DMf']).flatten())\n",
    "        e_DM6.append(np.full(np.shape(np.array(jtab['PGC']).flatten()), 0))\n",
    "        e_DM7.append(np.full(np.shape(np.array(jtab['PGC']).flatten()), 0))\n",
    "    except KeyError:\n",
    "        DM6.append(np.full(np.shape(np.array(jtab['PGC']).flatten()), -1))\n",
    "        DM7.append(np.full(np.shape(np.array(jtab['PGC']).flatten()), -1))\n",
    "        e_DM6.append(np.full(np.shape(np.array(jtab['PGC']).flatten()), -1))\n",
    "        e_DM7.append(np.full(np.shape(np.array(jtab['PGC']).flatten()), -1))\n",
    "    \n",
    "    print()"
   ]
  },
  {
   "cell_type": "code",
   "execution_count": 91,
   "id": "d93c86a0-4e09-4222-b964-2dd92f01a7ed",
   "metadata": {},
   "outputs": [],
   "source": [
    "PGC_ids_flat = flatten_list(PGC_ids)\n",
    "DM1_flat = flatten_list(DM1)\n",
    "e_DM1_flat = flatten_list(e_DM1)\n",
    "DM2_flat = flatten_list(DM2)\n",
    "e_DM2_flat = flatten_list(e_DM2)\n",
    "DM3_flat = flatten_list(DM3)\n",
    "e_DM3_flat = flatten_list(e_DM3)\n",
    "DM4_flat = flatten_list(DM4)\n",
    "e_DM4_flat = flatten_list(e_DM4)\n",
    "DM5_flat = flatten_list(DM5)\n",
    "e_DM5_flat = flatten_list(e_DM5)\n",
    "DM6_flat = flatten_list(DM6)\n",
    "e_DM6_flat = flatten_list(e_DM6)\n",
    "DM7_flat = flatten_list(DM7)\n",
    "e_DM7_flat = flatten_list(e_DM7)\n",
    "catalog_flat = flatten_list(catalog)"
   ]
  },
  {
   "cell_type": "code",
   "execution_count": 92,
   "id": "5ab456dd-593a-40f7-889b-56c9f2cb1f92",
   "metadata": {},
   "outputs": [
    {
     "data": {
      "text/plain": [
       "11"
      ]
     },
     "execution_count": 92,
     "metadata": {},
     "output_type": "execute_result"
    }
   ],
   "source": [
    "len(e_DM1)"
   ]
  },
  {
   "cell_type": "code",
   "execution_count": 93,
   "id": "c9b42fb7-0975-4282-bd9a-65ed46d6d789",
   "metadata": {},
   "outputs": [],
   "source": [
    "metadata = {\n",
    "            'DM1_SN': 'SALT data for Constitution_SNIa; Union2 (2010) Distance Modulus assuming H0=74.2 km/s/Mpc for SNIa_calibration; Distance modulus, all contributing sources, Cosmicflows-2 zero point for 5_Sources_SNIa',\n",
    "            'DM2_SN': 'SALT2 data for Constitution_SNIa; Jha et al. (2007) Distance Modulus assuming H0=65 km/s/Mpc for SNIa_calibration; Distance modulus, all contributing sources, Union2 zero point for 5_Sources_SNIa',\n",
    "            'DM3_SN': 'MLCS31 data for Constitution_SNIa; Distance modulus from Union2 (Amanullah et al. 2010), Union2 zero point for 5_Sources_SNIa',\n",
    "            'DM4_SN': 'MLCS17 data for Constitution_SNIa; Distance modulus from Jha et al. (2007), Union2 zero point for 5_Sources_SNIa',\n",
    "            'DM5_SN': 'Distance modulus from Prieto et al. (2006), Union2 zero point for 5_Sources_SNIa',\n",
    "            'DM6_SN': 'Distance modulus from Hicken et al. (2009), Union2 zero point for 5_Sources_SNIa (no error given)',\n",
    "            'DM7_SN': 'Distance modulus from Folatelli et al. (2010) for 5_Sources_SNIa (no error given)'\n",
    "            }"
   ]
  },
  {
   "cell_type": "code",
   "execution_count": 94,
   "id": "e2e855d8-2080-415b-a2db-7c7502406618",
   "metadata": {},
   "outputs": [
    {
     "data": {
      "text/html": [
       "<div><i>Table length=5</i>\n",
       "<table id=\"table23456059778624\" class=\"table-striped table-bordered table-condensed\">\n",
       "<thead><tr><th>PGC</th><th>DM1_SN</th><th>e_DM1_SN</th><th>DM2_SN</th><th>e_DM2_SN</th><th>DM3_SN</th><th>e_DM3_SN</th><th>DM4_SN</th><th>e_DM4_SN</th><th>DM5_SN</th><th>e_DM5_SN</th><th>DM6_SN</th><th>e_DM6_SN</th><th>DM7_SN</th><th>e_DM7_SN</th><th>SN_Catalog</th></tr></thead>\n",
       "<thead><tr><th>int64</th><th>float64</th><th>float64</th><th>float64</th><th>float64</th><th>float64</th><th>float64</th><th>float64</th><th>float64</th><th>float64</th><th>float64</th><th>float64</th><th>int64</th><th>float64</th><th>int64</th><th>str25</th></tr></thead>\n",
       "<tr><td>963</td><td>33.453</td><td>0.051</td><td>-1.0</td><td>-1.0</td><td>-1.0</td><td>-1.0</td><td>-1.0</td><td>-1.0</td><td>-1.0</td><td>-1.0</td><td>-1.0</td><td>-1</td><td>-1.0</td><td>-1</td><td>Prieto-SNIa</td></tr>\n",
       "<tr><td>1288</td><td>33.349</td><td>0.124</td><td>-1.0</td><td>-1.0</td><td>-1.0</td><td>-1.0</td><td>-1.0</td><td>-1.0</td><td>-1.0</td><td>-1.0</td><td>-1.0</td><td>-1</td><td>-1.0</td><td>-1</td><td>Prieto-SNIa</td></tr>\n",
       "<tr><td>1583</td><td>33.863</td><td>0.06</td><td>-1.0</td><td>-1.0</td><td>-1.0</td><td>-1.0</td><td>-1.0</td><td>-1.0</td><td>-1.0</td><td>-1.0</td><td>-1.0</td><td>-1</td><td>-1.0</td><td>-1</td><td>Prieto-SNIa</td></tr>\n",
       "<tr><td>3508</td><td>36.417</td><td>0.044</td><td>-1.0</td><td>-1.0</td><td>-1.0</td><td>-1.0</td><td>-1.0</td><td>-1.0</td><td>-1.0</td><td>-1.0</td><td>-1.0</td><td>-1</td><td>-1.0</td><td>-1</td><td>Prieto-SNIa</td></tr>\n",
       "<tr><td>3773</td><td>33.979</td><td>0.112</td><td>-1.0</td><td>-1.0</td><td>-1.0</td><td>-1.0</td><td>-1.0</td><td>-1.0</td><td>-1.0</td><td>-1.0</td><td>-1.0</td><td>-1</td><td>-1.0</td><td>-1</td><td>Prieto-SNIa</td></tr>\n",
       "</table></div>"
      ],
      "text/plain": [
       "<Table length=5>\n",
       " PGC   DM1_SN e_DM1_SN  DM2_SN ... e_DM6_SN  DM7_SN e_DM7_SN  SN_Catalog\n",
       "int64 float64 float64  float64 ...  int64   float64  int64      str25   \n",
       "----- ------- -------- ------- ... -------- ------- -------- -----------\n",
       "  963  33.453    0.051    -1.0 ...       -1    -1.0       -1 Prieto-SNIa\n",
       " 1288  33.349    0.124    -1.0 ...       -1    -1.0       -1 Prieto-SNIa\n",
       " 1583  33.863     0.06    -1.0 ...       -1    -1.0       -1 Prieto-SNIa\n",
       " 3508  36.417    0.044    -1.0 ...       -1    -1.0       -1 Prieto-SNIa\n",
       " 3773  33.979    0.112    -1.0 ...       -1    -1.0       -1 Prieto-SNIa"
      ]
     },
     "execution_count": 94,
     "metadata": {},
     "output_type": "execute_result"
    }
   ],
   "source": [
    "tab = Table([PGC_ids_flat, DM1_flat, e_DM1_flat, DM2_flat, e_DM2_flat, DM3_flat, e_DM3_flat, DM4_flat, e_DM4_flat,DM5_flat, e_DM5_flat,DM6_flat, e_DM6_flat,DM7_flat, e_DM7_flat, catalog_flat],\n",
    "             names = ['PGC', 'DM1_SN', 'e_DM1_SN',  'DM2_SN', 'e_DM2_SN', 'DM3_SN', 'e_DM3_SN', 'DM4_SN', 'e_DM4_SN', 'DM5_SN', 'e_DM5_SN', 'DM6_SN', 'e_DM6_SN', 'DM7_SN', 'e_DM7_SN','SN_Catalog'],\n",
    "             meta = metadata)\n",
    "\n",
    "tab[:5]"
   ]
  },
  {
   "cell_type": "code",
   "execution_count": 95,
   "id": "3af9600a-3a4a-4313-9d8e-9422823b6833",
   "metadata": {},
   "outputs": [
    {
     "data": {
      "text/html": [
       "<div><i>Table length=5</i>\n",
       "<table id=\"table23456038303680\" class=\"table-striped table-bordered table-condensed\">\n",
       "<thead><tr><th>SGA_ID</th><th>SGA_GALAXY</th><th>GALAXY</th><th>PGC</th><th>RA_LEDA</th><th>DEC_LEDA</th><th>MORPHTYPE</th><th>PA_LEDA</th><th>D25_LEDA</th><th>BA_LEDA</th><th>Z_LEDA</th><th>SB_D25_LEDA</th><th>MAG_LEDA</th><th>BYHAND</th><th>REF</th><th>GROUP_ID</th><th>GROUP_NAME</th><th>GROUP_MULT</th><th>GROUP_PRIMARY</th><th>GROUP_RA</th><th>GROUP_DEC</th><th>GROUP_DIAMETER</th><th>BRICKNAME</th><th>RA</th><th>DEC</th><th>D26</th><th>D26_REF</th><th>PA</th><th>BA</th><th>RA_MOMENT</th><th>DEC_MOMENT</th><th>SMA_MOMENT</th><th>G_SMA50</th><th>R_SMA50</th><th>Z_SMA50</th><th>SMA_SB22</th><th>SMA_SB22.5</th><th>SMA_SB23</th><th>SMA_SB23.5</th><th>SMA_SB24</th><th>SMA_SB24.5</th><th>SMA_SB25</th><th>SMA_SB25.5</th><th>SMA_SB26</th><th>G_MAG_SB22</th><th>R_MAG_SB22</th><th>Z_MAG_SB22</th><th>G_MAG_SB22.5</th><th>R_MAG_SB22.5</th><th>Z_MAG_SB22.5</th><th>G_MAG_SB23</th><th>R_MAG_SB23</th><th>Z_MAG_SB23</th><th>G_MAG_SB23.5</th><th>R_MAG_SB23.5</th><th>Z_MAG_SB23.5</th><th>G_MAG_SB24</th><th>R_MAG_SB24</th><th>Z_MAG_SB24</th><th>G_MAG_SB24.5</th><th>R_MAG_SB24.5</th><th>Z_MAG_SB24.5</th><th>G_MAG_SB25</th><th>R_MAG_SB25</th><th>Z_MAG_SB25</th><th>G_MAG_SB25.5</th><th>R_MAG_SB25.5</th><th>Z_MAG_SB25.5</th><th>G_MAG_SB26</th><th>R_MAG_SB26</th><th>Z_MAG_SB26</th><th>SMA_SB22_ERR</th><th>SMA_SB22.5_ERR</th><th>SMA_SB23_ERR</th><th>SMA_SB23.5_ERR</th><th>SMA_SB24_ERR</th><th>SMA_SB24.5_ERR</th><th>SMA_SB25_ERR</th><th>SMA_SB25.5_ERR</th><th>SMA_SB26_ERR</th><th>G_MAG_SB22_ERR</th><th>R_MAG_SB22_ERR</th><th>Z_MAG_SB22_ERR</th><th>G_MAG_SB22.5_ERR</th><th>R_MAG_SB22.5_ERR</th><th>Z_MAG_SB22.5_ERR</th><th>G_MAG_SB23_ERR</th><th>R_MAG_SB23_ERR</th><th>Z_MAG_SB23_ERR</th><th>G_MAG_SB23.5_ERR</th><th>R_MAG_SB23.5_ERR</th><th>Z_MAG_SB23.5_ERR</th><th>G_MAG_SB24_ERR</th><th>R_MAG_SB24_ERR</th><th>Z_MAG_SB24_ERR</th><th>G_MAG_SB24.5_ERR</th><th>R_MAG_SB24.5_ERR</th><th>Z_MAG_SB24.5_ERR</th><th>G_MAG_SB25_ERR</th><th>R_MAG_SB25_ERR</th><th>Z_MAG_SB25_ERR</th><th>G_MAG_SB25.5_ERR</th><th>R_MAG_SB25.5_ERR</th><th>Z_MAG_SB25.5_ERR</th><th>G_MAG_SB26_ERR</th><th>R_MAG_SB26_ERR</th><th>Z_MAG_SB26_ERR</th><th>G_COG_PARAMS_MTOT</th><th>G_COG_PARAMS_M0</th><th>G_COG_PARAMS_ALPHA1</th><th>G_COG_PARAMS_ALPHA2</th><th>G_COG_PARAMS_CHI2</th><th>R_COG_PARAMS_MTOT</th><th>R_COG_PARAMS_M0</th><th>R_COG_PARAMS_ALPHA1</th><th>R_COG_PARAMS_ALPHA2</th><th>R_COG_PARAMS_CHI2</th><th>Z_COG_PARAMS_MTOT</th><th>Z_COG_PARAMS_M0</th><th>Z_COG_PARAMS_ALPHA1</th><th>Z_COG_PARAMS_ALPHA2</th><th>Z_COG_PARAMS_CHI2</th><th>ELLIPSEBIT</th><th>DM_Stellar</th><th>e_DM_lo_Stellar</th><th>e_DM_hi_Stellar</th><th>Stellar_Catalog</th><th>DM1_SN</th><th>e_DM1_SN</th><th>DM2_SN</th><th>e_DM2_SN</th><th>DM3_SN</th><th>e_DM3_SN</th><th>DM4_SN</th><th>e_DM4_SN</th><th>DM5_SN</th><th>e_DM5_SN</th><th>DM6_SN</th><th>e_DM6_SN</th><th>DM7_SN</th><th>e_DM7_SN</th><th>SN_Catalog</th></tr></thead>\n",
       "<thead><tr><th>int64</th><th>bytes16</th><th>bytes29</th><th>int64</th><th>float64</th><th>float64</th><th>bytes21</th><th>float32</th><th>float32</th><th>float32</th><th>float32</th><th>float32</th><th>float32</th><th>bool</th><th>bytes13</th><th>int64</th><th>bytes35</th><th>int16</th><th>bool</th><th>float64</th><th>float64</th><th>float32</th><th>bytes8</th><th>float64</th><th>float64</th><th>float32</th><th>bytes4</th><th>float32</th><th>float32</th><th>float64</th><th>float64</th><th>float32</th><th>float32</th><th>float32</th><th>float32</th><th>float32</th><th>float32</th><th>float32</th><th>float32</th><th>float32</th><th>float32</th><th>float32</th><th>float32</th><th>float32</th><th>float32</th><th>float32</th><th>float32</th><th>float32</th><th>float32</th><th>float32</th><th>float32</th><th>float32</th><th>float32</th><th>float32</th><th>float32</th><th>float32</th><th>float32</th><th>float32</th><th>float32</th><th>float32</th><th>float32</th><th>float32</th><th>float32</th><th>float32</th><th>float32</th><th>float32</th><th>float32</th><th>float32</th><th>float32</th><th>float32</th><th>float32</th><th>float32</th><th>float32</th><th>float32</th><th>float32</th><th>float32</th><th>float32</th><th>float32</th><th>float32</th><th>float32</th><th>float32</th><th>float32</th><th>float32</th><th>float32</th><th>float32</th><th>float32</th><th>float32</th><th>float32</th><th>float32</th><th>float32</th><th>float32</th><th>float32</th><th>float32</th><th>float32</th><th>float32</th><th>float32</th><th>float32</th><th>float32</th><th>float32</th><th>float32</th><th>float32</th><th>float32</th><th>float32</th><th>float32</th><th>float32</th><th>float32</th><th>float32</th><th>float32</th><th>float32</th><th>float32</th><th>float32</th><th>float32</th><th>float32</th><th>float32</th><th>float32</th><th>float32</th><th>float32</th><th>float32</th><th>float32</th><th>float32</th><th>float32</th><th>float32</th><th>int32</th><th>float64</th><th>float64</th><th>float64</th><th>str14</th><th>float64</th><th>float64</th><th>float64</th><th>float64</th><th>float64</th><th>float64</th><th>float64</th><th>float64</th><th>float64</th><th>float64</th><th>float64</th><th>int64</th><th>float64</th><th>int64</th><th>str25</th></tr></thead>\n",
       "<tr><td>5002480</td><td>SGA-2020 5002480</td><td>DR8-2837p402-5033</td><td>-1</td><td>283.619631436471</td><td>40.3162008554537</td><td>DEV</td><td>178.80934</td><td>0.54342</td><td>0.3166</td><td>-1.0</td><td>24.29036</td><td>16.9862</td><td>False</td><td>DR8</td><td>530781</td><td>DR8-2837p402-5033</td><td>1</td><td>True</td><td>283.619631436471</td><td>40.3162008554537</td><td>0.54342</td><td>2837p402</td><td>283.6196056669463</td><td>40.316337272867564</td><td>0.53864765</td><td>SB26</td><td>179.53694</td><td>0.3690244</td><td>283.6194583471782</td><td>40.31653379127378</td><td>11.641381</td><td>11.157478</td><td>8.614751</td><td>9.8993</td><td>1.6142721</td><td>3.685578</td><td>5.5844307</td><td>7.701021</td><td>9.878292</td><td>11.927793</td><td>13.400182</td><td>14.697571</td><td>16.15943</td><td>21.37251</td><td>20.373438</td><td>19.779512</td><td>19.920574</td><td>19.005274</td><td>18.41066</td><td>19.314016</td><td>18.435898</td><td>17.843414</td><td>18.922651</td><td>18.076838</td><td>17.494484</td><td>18.664383</td><td>17.833265</td><td>17.25879</td><td>18.496494</td><td>17.682926</td><td>17.106598</td><td>18.404135</td><td>17.605488</td><td>17.02742</td><td>18.332602</td><td>17.555883</td><td>16.971588</td><td>18.299273</td><td>17.52499</td><td>16.931496</td><td>0.04933311</td><td>0.065890566</td><td>0.09742977</td><td>0.10495926</td><td>0.1614855</td><td>0.27832195</td><td>0.15179653</td><td>0.13904023</td><td>0.20484819</td><td>0.041657884</td><td>0.06669066</td><td>0.06785251</td><td>0.038538612</td><td>0.049561314</td><td>0.05101378</td><td>0.03635901</td><td>0.041818976</td><td>0.042013034</td><td>0.03367074</td><td>0.03763669</td><td>0.03705858</td><td>0.03122176</td><td>0.03420294</td><td>0.033616345</td><td>0.029198052</td><td>0.031941395</td><td>0.031132452</td><td>0.028080799</td><td>0.030865192</td><td>0.029955743</td><td>0.02722575</td><td>0.030135926</td><td>0.029090546</td><td>0.026788738</td><td>0.02959205</td><td>0.028436601</td><td>17.799881</td><td>1.3952494</td><td>0.83855844</td><td>1.4560318</td><td>0.5604667</td><td>17.200954</td><td>1.0272083</td><td>0.8301853</td><td>1.7677885</td><td>0.4513309</td><td>16.501709</td><td>1.3551984</td><td>0.73172045</td><td>1.4457989</td><td>0.2076136</td><td>0</td><td>-1.0</td><td>-1.0</td><td>-1.0</td><td>-1</td><td>--</td><td>--</td><td>--</td><td>--</td><td>--</td><td>--</td><td>--</td><td>--</td><td>--</td><td>--</td><td>--</td><td>--</td><td>--</td><td>--</td><td>--</td></tr>\n",
       "<tr><td>5001021</td><td>SGA-2020 5001021</td><td>DR8-1908m035-1012</td><td>-1</td><td>190.9800024746678</td><td>-3.5794970532047348</td><td>COMP</td><td>179.36131</td><td>0.3128912</td><td>0.24235067</td><td>-1.0</td><td>24.242153</td><td>18.136705</td><td>False</td><td>DR8</td><td>529592</td><td>DR8-1908m035-1012</td><td>1</td><td>True</td><td>190.9800024746678</td><td>-3.5794970532047348</td><td>0.3128912</td><td>1908m035</td><td>190.98001150850953</td><td>-3.579504558185747</td><td>0.46029893</td><td>SB26</td><td>179.9099</td><td>0.28135264</td><td>190.97993904058112</td><td>-3.579486477891515</td><td>10.782479</td><td>5.303919</td><td>4.890181</td><td>4.648955</td><td>2.60227</td><td>3.9949758</td><td>5.3321157</td><td>6.6193404</td><td>7.9617677</td><td>9.334041</td><td>10.651372</td><td>11.945739</td><td>13.808968</td><td>20.83302</td><td>19.559025</td><td>18.527628</td><td>20.186102</td><td>18.948116</td><td>17.962463</td><td>19.839163</td><td>18.616032</td><td>17.664757</td><td>19.622812</td><td>18.415947</td><td>17.48664</td><td>19.488094</td><td>18.284103</td><td>17.36675</td><td>19.393885</td><td>18.19177</td><td>17.285147</td><td>19.328535</td><td>18.133291</td><td>17.231174</td><td>19.276346</td><td>18.095415</td><td>17.194038</td><td>19.23636</td><td>18.059212</td><td>17.159449</td><td>0.056616735</td><td>0.075659014</td><td>0.06408011</td><td>0.099823594</td><td>0.1106942</td><td>0.12681642</td><td>0.15963246</td><td>0.18908575</td><td>0.21659172</td><td>0.08466007</td><td>0.08730868</td><td>0.101774946</td><td>0.06604131</td><td>0.06827165</td><td>0.07746673</td><td>0.05750298</td><td>0.058578383</td><td>0.065898776</td><td>0.051398903</td><td>0.052755173</td><td>0.059088793</td><td>0.04776679</td><td>0.04883277</td><td>0.054615494</td><td>0.04498737</td><td>0.045983624</td><td>0.051455963</td><td>0.043144915</td><td>0.044076666</td><td>0.04933408</td><td>0.041449923</td><td>0.042814855</td><td>0.04784726</td><td>0.04055538</td><td>0.041601818</td><td>0.046518978</td><td>19.089306</td><td>0.93604577</td><td>0.32930735</td><td>2.0837493</td><td>0.033988953</td><td>17.95537</td><td>0.69882125</td><td>0.34296194</td><td>2.419169</td><td>0.011013919</td><td>17.04538</td><td>0.77790314</td><td>0.31191626</td><td>2.1598706</td><td>0.0056849383</td><td>0</td><td>-1.0</td><td>-1.0</td><td>-1.0</td><td>-1</td><td>--</td><td>--</td><td>--</td><td>--</td><td>--</td><td>--</td><td>--</td><td>--</td><td>--</td><td>--</td><td>--</td><td>--</td><td>--</td><td>--</td><td>--</td></tr>\n",
       "<tr><td>5001019</td><td>SGA-2020 5001019</td><td>DR8-1470m035-1174</td><td>-1</td><td>147.1427386432192</td><td>-3.5532245640806046</td><td>DEV</td><td>163.838</td><td>0.5674898</td><td>0.30485216</td><td>-1.0</td><td>24.155874</td><td>16.757603</td><td>False</td><td>DR8</td><td>529591</td><td>DR8-1470m035-1174</td><td>1</td><td>True</td><td>147.1427386432192</td><td>-3.5532245640806046</td><td>0.5674898</td><td>1470m035</td><td>147.14273636886824</td><td>-3.5532311036249844</td><td>0.7089864</td><td>SB26</td><td>160.56161</td><td>0.33515733</td><td>147.14265663750427</td><td>-3.5531612954610043</td><td>14.189667</td><td>9.06656</td><td>8.473093</td><td>8.114043</td><td>2.9450347</td><td>4.695773</td><td>6.643506</td><td>8.666231</td><td>10.949383</td><td>13.340206</td><td>15.799134</td><td>18.415377</td><td>21.269592</td><td>19.91953</td><td>19.158825</td><td>18.614452</td><td>19.193794</td><td>18.477886</td><td>17.962807</td><td>18.734055</td><td>18.061895</td><td>17.589006</td><td>18.418203</td><td>17.784187</td><td>17.351715</td><td>18.193169</td><td>17.586119</td><td>17.181166</td><td>18.049446</td><td>17.457943</td><td>17.058641</td><td>17.934223</td><td>17.35795</td><td>16.969753</td><td>17.857323</td><td>17.293016</td><td>16.908016</td><td>17.810745</td><td>17.246443</td><td>16.876032</td><td>0.0614563</td><td>0.089195475</td><td>0.10060314</td><td>0.15540995</td><td>0.17048688</td><td>0.21389666</td><td>0.16420007</td><td>0.25362244</td><td>0.3022587</td><td>0.06389988</td><td>0.06969084</td><td>0.07839319</td><td>0.048208438</td><td>0.052888487</td><td>0.05885825</td><td>0.040130075</td><td>0.044280488</td><td>0.050095942</td><td>0.034714546</td><td>0.038774274</td><td>0.045435317</td><td>0.031042166</td><td>0.03483406</td><td>0.04135831</td><td>0.028832838</td><td>0.032055207</td><td>0.038155198</td><td>0.026886987</td><td>0.02992059</td><td>0.035833754</td><td>0.025639897</td><td>0.028576324</td><td>0.0342623</td><td>0.024892407</td><td>0.0275924</td><td>0.03357749</td><td>17.619846</td><td>0.81239957</td><td>1.2436428</td><td>2.0833044</td><td>0.20735413</td><td>17.052032</td><td>0.9099892</td><td>0.94688904</td><td>1.8497639</td><td>0.08836478</td><td>16.648832</td><td>1.2052153</td><td>0.6299481</td><td>1.5293403</td><td>0.22791538</td><td>0</td><td>-1.0</td><td>-1.0</td><td>-1.0</td><td>-1</td><td>--</td><td>--</td><td>--</td><td>--</td><td>--</td><td>--</td><td>--</td><td>--</td><td>--</td><td>--</td><td>--</td><td>--</td><td>--</td><td>--</td><td>--</td></tr>\n",
       "<tr><td>5001018</td><td>SGA-2020 5001018</td><td>DR8-0589m035-1107</td><td>-1</td><td>58.96747523203085</td><td>-3.5768978632702404</td><td>DEV</td><td>73.886986</td><td>0.52344257</td><td>0.34322816</td><td>-1.0</td><td>24.649805</td><td>17.42698</td><td>False</td><td>DR8</td><td>529590</td><td>DR8-0589m035-1107</td><td>1</td><td>True</td><td>58.96747523203085</td><td>-3.5768978632702404</td><td>0.52344257</td><td>0589m035</td><td>58.96746266894446</td><td>-3.576904154158203</td><td>0.59405684</td><td>SB26</td><td>63.708275</td><td>0.3470738</td><td>58.9673521194436</td><td>-3.5767996362730665</td><td>11.532074</td><td>27.796232</td><td>27.457575</td><td>28.267866</td><td>0.7578961</td><td>2.1168416</td><td>3.5769458</td><td>5.265746</td><td>7.4217663</td><td>9.982045</td><td>12.871645</td><td>15.379495</td><td>17.821705</td><td>22.57269</td><td>22.104053</td><td>21.428228</td><td>20.81164</td><td>20.299337</td><td>19.70747</td><td>20.117699</td><td>19.549505</td><td>19.008604</td><td>19.679396</td><td>19.085209</td><td>18.57469</td><td>19.323883</td><td>18.728365</td><td>18.230927</td><td>19.041245</td><td>18.443516</td><td>17.964779</td><td>18.827599</td><td>18.226679</td><td>17.773859</td><td>18.679247</td><td>18.097006</td><td>17.654163</td><td>18.569975</td><td>17.998594</td><td>17.559578</td><td>0.028430318</td><td>0.053442895</td><td>0.06005233</td><td>0.086550556</td><td>0.121798776</td><td>0.18367727</td><td>0.19650374</td><td>0.2090271</td><td>0.23993549</td><td>0.10603312</td><td>0.13668293</td><td>0.12814379</td><td>0.09004501</td><td>0.09114922</td><td>0.110184155</td><td>0.06574117</td><td>0.0649464</td><td>0.079305</td><td>0.05130527</td><td>0.050389685</td><td>0.061386514</td><td>0.041397545</td><td>0.041069187</td><td>0.049383085</td><td>0.0353218</td><td>0.035057936</td><td>0.04168752</td><td>0.03146701</td><td>0.031024022</td><td>0.03684285</td><td>0.028985405</td><td>0.028910374</td><td>0.034214094</td><td>0.027220415</td><td>0.027361887</td><td>0.03217761</td><td>17.569975</td><td>2.6201665</td><td>0.74379516</td><td>0.78689593</td><td>1.3501529</td><td>16.998594</td><td>3.0956852</td><td>0.5915868</td><td>0.7576835</td><td>0.20765956</td><td>16.559578</td><td>3.5662844</td><td>0.48402628</td><td>0.6955706</td><td>0.049795065</td><td>0</td><td>-1.0</td><td>-1.0</td><td>-1.0</td><td>-1</td><td>--</td><td>--</td><td>--</td><td>--</td><td>--</td><td>--</td><td>--</td><td>--</td><td>--</td><td>--</td><td>--</td><td>--</td><td>--</td><td>--</td><td>--</td></tr>\n",
       "<tr><td>5001000</td><td>SGA-2020 5001000</td><td>DR8-1538m040-5309</td><td>-1</td><td>153.87604470973113</td><td>-3.8952396741736623</td><td>COMP</td><td>151.75539</td><td>0.46971816</td><td>0.2265234</td><td>-1.0</td><td>25.694304</td><td>18.706636</td><td>False</td><td>DR8</td><td>529574</td><td>DR8-1538m040-5309</td><td>1</td><td>True</td><td>153.87604470973113</td><td>-3.8952396741736623</td><td>0.46971816</td><td>1538m040</td><td>153.87605812641382</td><td>-3.8952553120545</td><td>0.3222142</td><td>SB26</td><td>152.51593</td><td>0.38030738</td><td>153.8760096166066</td><td>-3.8952074506049206</td><td>6.2858515</td><td>6.9679866</td><td>5.937727</td><td>6.803102</td><td>-1.0</td><td>0.611838</td><td>1.5926635</td><td>3.1050522</td><td>4.296284</td><td>5.648387</td><td>6.922032</td><td>8.273097</td><td>9.666426</td><td>-1.0</td><td>-1.0</td><td>-1.0</td><td>23.549822</td><td>23.031054</td><td>22.773083</td><td>21.688038</td><td>21.237814</td><td>20.977982</td><td>20.6481</td><td>20.239336</td><td>20.017353</td><td>20.216105</td><td>19.841602</td><td>19.639183</td><td>19.916332</td><td>19.567436</td><td>19.359243</td><td>19.737143</td><td>19.404419</td><td>19.195152</td><td>19.599789</td><td>19.276</td><td>19.082033</td><td>19.506786</td><td>19.204313</td><td>18.991358</td><td>-1.0</td><td>0.021907173</td><td>0.059276454</td><td>0.058691014</td><td>0.07300099</td><td>0.09429353</td><td>0.13673161</td><td>0.13662857</td><td>0.15687384</td><td>-1.0</td><td>-1.0</td><td>-1.0</td><td>0.06336523</td><td>0.03895847</td><td>0.092741065</td><td>0.06610604</td><td>0.070476234</td><td>0.082297616</td><td>0.05458867</td><td>0.05844559</td><td>0.06285622</td><td>0.048253395</td><td>0.05195508</td><td>0.053528924</td><td>0.043112114</td><td>0.04649149</td><td>0.047446106</td><td>0.039647266</td><td>0.04261088</td><td>0.04318384</td><td>0.03672966</td><td>0.03996569</td><td>0.041731343</td><td>0.034884803</td><td>0.03854299</td><td>0.04003972</td><td>18.981636</td><td>1.5777819</td><td>0.37279877</td><td>1.3685343</td><td>0.17616904</td><td>18.774378</td><td>1.4497702</td><td>0.32173964</td><td>1.4371084</td><td>0.1582937</td><td>18.463694</td><td>1.8066257</td><td>0.32254803</td><td>1.2234725</td><td>0.16648228</td><td>0</td><td>-1.0</td><td>-1.0</td><td>-1.0</td><td>-1</td><td>--</td><td>--</td><td>--</td><td>--</td><td>--</td><td>--</td><td>--</td><td>--</td><td>--</td><td>--</td><td>--</td><td>--</td><td>--</td><td>--</td><td>--</td></tr>\n",
       "</table></div>"
      ],
      "text/plain": [
       "<Table length=5>\n",
       " SGA_ID    SGA_GALAXY          GALAXY       PGC  ...  DM7_SN e_DM7_SN SN_Catalog\n",
       " int64      bytes16           bytes29      int64 ... float64  int64     str25   \n",
       "------- ---------------- ----------------- ----- ... ------- -------- ----------\n",
       "5002480 SGA-2020 5002480 DR8-2837p402-5033    -1 ...      --       --         --\n",
       "5001021 SGA-2020 5001021 DR8-1908m035-1012    -1 ...      --       --         --\n",
       "5001019 SGA-2020 5001019 DR8-1470m035-1174    -1 ...      --       --         --\n",
       "5001018 SGA-2020 5001018 DR8-0589m035-1107    -1 ...      --       --         --\n",
       "5001000 SGA-2020 5001000 DR8-1538m040-5309    -1 ...      --       --         --"
      ]
     },
     "execution_count": 95,
     "metadata": {},
     "output_type": "execute_result"
    }
   ],
   "source": [
    "maintab2 = join(maintab, tab, keys='PGC', join_type='left')\n",
    "\n",
    "maintab2[:5]"
   ]
  },
  {
   "cell_type": "code",
   "execution_count": 96,
   "id": "5f7bdef8-633f-480e-b4ad-10d06e3e7404",
   "metadata": {},
   "outputs": [],
   "source": [
    "'''\n",
    "maintab2['DM1_SN'].fill_value = -1\n",
    "maintab2['e_DM1_SN'].fill_value = -1\n",
    "maintab2['DM2_SN'].fill_value = -1\n",
    "maintab2['e_DM2_SN'].fill_value = -1\n",
    "maintab2['DM3_SN'].fill_value = -1\n",
    "maintab2['e_DM3_SN'].fill_value = -1\n",
    "maintab2['DM4_SN'].fill_value = -1\n",
    "maintab2['e_DM4_SN'].fill_value = -1\n",
    "maintab2['DM5_SN'].fill_value = -1\n",
    "maintab2['e_DM5_SN'].fill_value = -1\n",
    "maintab2['DM6_SN'].fill_value = -1\n",
    "maintab2['e_DM6_SN'].fill_value = -1\n",
    "maintab2['DM7_SN'].fill_value = -1\n",
    "maintab2['e_DM7_SN'].fill_value = -1\n",
    "maintab2['SN_Catalog'].fill_value = -1\n",
    "''';\n",
    "maintab2 = maintab2.filled(-1)"
   ]
  },
  {
   "cell_type": "code",
   "execution_count": 97,
   "id": "81c8ed49-d945-4285-975c-e242d20d7cd6",
   "metadata": {},
   "outputs": [
    {
     "data": {
      "text/html": [
       "<div><i>Table length=384757</i>\n",
       "<table id=\"table23456055499648\" class=\"table-striped table-bordered table-condensed\">\n",
       "<thead><tr><th>SGA_ID</th><th>SGA_GALAXY</th><th>GALAXY</th><th>PGC</th><th>RA_LEDA</th><th>DEC_LEDA</th><th>MORPHTYPE</th><th>PA_LEDA</th><th>D25_LEDA</th><th>BA_LEDA</th><th>Z_LEDA</th><th>SB_D25_LEDA</th><th>MAG_LEDA</th><th>BYHAND</th><th>REF</th><th>GROUP_ID</th><th>GROUP_NAME</th><th>GROUP_MULT</th><th>GROUP_PRIMARY</th><th>GROUP_RA</th><th>GROUP_DEC</th><th>GROUP_DIAMETER</th><th>BRICKNAME</th><th>RA</th><th>DEC</th><th>D26</th><th>D26_REF</th><th>PA</th><th>BA</th><th>RA_MOMENT</th><th>DEC_MOMENT</th><th>SMA_MOMENT</th><th>G_SMA50</th><th>R_SMA50</th><th>Z_SMA50</th><th>SMA_SB22</th><th>SMA_SB22.5</th><th>SMA_SB23</th><th>SMA_SB23.5</th><th>SMA_SB24</th><th>SMA_SB24.5</th><th>SMA_SB25</th><th>SMA_SB25.5</th><th>SMA_SB26</th><th>G_MAG_SB22</th><th>R_MAG_SB22</th><th>Z_MAG_SB22</th><th>G_MAG_SB22.5</th><th>R_MAG_SB22.5</th><th>Z_MAG_SB22.5</th><th>G_MAG_SB23</th><th>R_MAG_SB23</th><th>Z_MAG_SB23</th><th>G_MAG_SB23.5</th><th>R_MAG_SB23.5</th><th>Z_MAG_SB23.5</th><th>G_MAG_SB24</th><th>R_MAG_SB24</th><th>Z_MAG_SB24</th><th>G_MAG_SB24.5</th><th>R_MAG_SB24.5</th><th>Z_MAG_SB24.5</th><th>G_MAG_SB25</th><th>R_MAG_SB25</th><th>Z_MAG_SB25</th><th>G_MAG_SB25.5</th><th>R_MAG_SB25.5</th><th>Z_MAG_SB25.5</th><th>G_MAG_SB26</th><th>R_MAG_SB26</th><th>Z_MAG_SB26</th><th>SMA_SB22_ERR</th><th>SMA_SB22.5_ERR</th><th>SMA_SB23_ERR</th><th>SMA_SB23.5_ERR</th><th>SMA_SB24_ERR</th><th>SMA_SB24.5_ERR</th><th>SMA_SB25_ERR</th><th>SMA_SB25.5_ERR</th><th>SMA_SB26_ERR</th><th>G_MAG_SB22_ERR</th><th>R_MAG_SB22_ERR</th><th>Z_MAG_SB22_ERR</th><th>G_MAG_SB22.5_ERR</th><th>R_MAG_SB22.5_ERR</th><th>Z_MAG_SB22.5_ERR</th><th>G_MAG_SB23_ERR</th><th>R_MAG_SB23_ERR</th><th>Z_MAG_SB23_ERR</th><th>G_MAG_SB23.5_ERR</th><th>R_MAG_SB23.5_ERR</th><th>Z_MAG_SB23.5_ERR</th><th>G_MAG_SB24_ERR</th><th>R_MAG_SB24_ERR</th><th>Z_MAG_SB24_ERR</th><th>G_MAG_SB24.5_ERR</th><th>R_MAG_SB24.5_ERR</th><th>Z_MAG_SB24.5_ERR</th><th>G_MAG_SB25_ERR</th><th>R_MAG_SB25_ERR</th><th>Z_MAG_SB25_ERR</th><th>G_MAG_SB25.5_ERR</th><th>R_MAG_SB25.5_ERR</th><th>Z_MAG_SB25.5_ERR</th><th>G_MAG_SB26_ERR</th><th>R_MAG_SB26_ERR</th><th>Z_MAG_SB26_ERR</th><th>G_COG_PARAMS_MTOT</th><th>G_COG_PARAMS_M0</th><th>G_COG_PARAMS_ALPHA1</th><th>G_COG_PARAMS_ALPHA2</th><th>G_COG_PARAMS_CHI2</th><th>R_COG_PARAMS_MTOT</th><th>R_COG_PARAMS_M0</th><th>R_COG_PARAMS_ALPHA1</th><th>R_COG_PARAMS_ALPHA2</th><th>R_COG_PARAMS_CHI2</th><th>Z_COG_PARAMS_MTOT</th><th>Z_COG_PARAMS_M0</th><th>Z_COG_PARAMS_ALPHA1</th><th>Z_COG_PARAMS_ALPHA2</th><th>Z_COG_PARAMS_CHI2</th><th>ELLIPSEBIT</th><th>DM_Stellar</th><th>e_DM_lo_Stellar</th><th>e_DM_hi_Stellar</th><th>Stellar_Catalog</th><th>DM1_SN</th><th>e_DM1_SN</th><th>DM2_SN</th><th>e_DM2_SN</th><th>DM3_SN</th><th>e_DM3_SN</th><th>DM4_SN</th><th>e_DM4_SN</th><th>DM5_SN</th><th>e_DM5_SN</th><th>DM6_SN</th><th>e_DM6_SN</th><th>DM7_SN</th><th>e_DM7_SN</th><th>SN_Catalog</th></tr></thead>\n",
       "<thead><tr><th>int64</th><th>bytes16</th><th>bytes29</th><th>int64</th><th>float64</th><th>float64</th><th>bytes21</th><th>float32</th><th>float32</th><th>float32</th><th>float32</th><th>float32</th><th>float32</th><th>bool</th><th>bytes13</th><th>int64</th><th>bytes35</th><th>int16</th><th>bool</th><th>float64</th><th>float64</th><th>float32</th><th>bytes8</th><th>float64</th><th>float64</th><th>float32</th><th>bytes4</th><th>float32</th><th>float32</th><th>float64</th><th>float64</th><th>float32</th><th>float32</th><th>float32</th><th>float32</th><th>float32</th><th>float32</th><th>float32</th><th>float32</th><th>float32</th><th>float32</th><th>float32</th><th>float32</th><th>float32</th><th>float32</th><th>float32</th><th>float32</th><th>float32</th><th>float32</th><th>float32</th><th>float32</th><th>float32</th><th>float32</th><th>float32</th><th>float32</th><th>float32</th><th>float32</th><th>float32</th><th>float32</th><th>float32</th><th>float32</th><th>float32</th><th>float32</th><th>float32</th><th>float32</th><th>float32</th><th>float32</th><th>float32</th><th>float32</th><th>float32</th><th>float32</th><th>float32</th><th>float32</th><th>float32</th><th>float32</th><th>float32</th><th>float32</th><th>float32</th><th>float32</th><th>float32</th><th>float32</th><th>float32</th><th>float32</th><th>float32</th><th>float32</th><th>float32</th><th>float32</th><th>float32</th><th>float32</th><th>float32</th><th>float32</th><th>float32</th><th>float32</th><th>float32</th><th>float32</th><th>float32</th><th>float32</th><th>float32</th><th>float32</th><th>float32</th><th>float32</th><th>float32</th><th>float32</th><th>float32</th><th>float32</th><th>float32</th><th>float32</th><th>float32</th><th>float32</th><th>float32</th><th>float32</th><th>float32</th><th>float32</th><th>float32</th><th>float32</th><th>float32</th><th>float32</th><th>float32</th><th>float32</th><th>float32</th><th>float32</th><th>float32</th><th>int32</th><th>float64</th><th>float64</th><th>float64</th><th>str14</th><th>float64</th><th>float64</th><th>float64</th><th>float64</th><th>float64</th><th>float64</th><th>float64</th><th>float64</th><th>float64</th><th>float64</th><th>float64</th><th>int64</th><th>float64</th><th>int64</th><th>str25</th></tr></thead>\n",
       "<tr><td>5002480</td><td>SGA-2020 5002480</td><td>DR8-2837p402-5033</td><td>-1</td><td>283.619631436471</td><td>40.3162008554537</td><td>DEV</td><td>178.80934</td><td>0.54342</td><td>0.3166</td><td>-1.0</td><td>24.29036</td><td>16.9862</td><td>False</td><td>DR8</td><td>530781</td><td>DR8-2837p402-5033</td><td>1</td><td>True</td><td>283.619631436471</td><td>40.3162008554537</td><td>0.54342</td><td>2837p402</td><td>283.6196056669463</td><td>40.316337272867564</td><td>0.53864765</td><td>SB26</td><td>179.53694</td><td>0.3690244</td><td>283.6194583471782</td><td>40.31653379127378</td><td>11.641381</td><td>11.157478</td><td>8.614751</td><td>9.8993</td><td>1.6142721</td><td>3.685578</td><td>5.5844307</td><td>7.701021</td><td>9.878292</td><td>11.927793</td><td>13.400182</td><td>14.697571</td><td>16.15943</td><td>21.37251</td><td>20.373438</td><td>19.779512</td><td>19.920574</td><td>19.005274</td><td>18.41066</td><td>19.314016</td><td>18.435898</td><td>17.843414</td><td>18.922651</td><td>18.076838</td><td>17.494484</td><td>18.664383</td><td>17.833265</td><td>17.25879</td><td>18.496494</td><td>17.682926</td><td>17.106598</td><td>18.404135</td><td>17.605488</td><td>17.02742</td><td>18.332602</td><td>17.555883</td><td>16.971588</td><td>18.299273</td><td>17.52499</td><td>16.931496</td><td>0.04933311</td><td>0.065890566</td><td>0.09742977</td><td>0.10495926</td><td>0.1614855</td><td>0.27832195</td><td>0.15179653</td><td>0.13904023</td><td>0.20484819</td><td>0.041657884</td><td>0.06669066</td><td>0.06785251</td><td>0.038538612</td><td>0.049561314</td><td>0.05101378</td><td>0.03635901</td><td>0.041818976</td><td>0.042013034</td><td>0.03367074</td><td>0.03763669</td><td>0.03705858</td><td>0.03122176</td><td>0.03420294</td><td>0.033616345</td><td>0.029198052</td><td>0.031941395</td><td>0.031132452</td><td>0.028080799</td><td>0.030865192</td><td>0.029955743</td><td>0.02722575</td><td>0.030135926</td><td>0.029090546</td><td>0.026788738</td><td>0.02959205</td><td>0.028436601</td><td>17.799881</td><td>1.3952494</td><td>0.83855844</td><td>1.4560318</td><td>0.5604667</td><td>17.200954</td><td>1.0272083</td><td>0.8301853</td><td>1.7677885</td><td>0.4513309</td><td>16.501709</td><td>1.3551984</td><td>0.73172045</td><td>1.4457989</td><td>0.2076136</td><td>0</td><td>-1.0</td><td>-1.0</td><td>-1.0</td><td>-1</td><td>-1.0</td><td>-1.0</td><td>-1.0</td><td>-1.0</td><td>-1.0</td><td>-1.0</td><td>-1.0</td><td>-1.0</td><td>-1.0</td><td>-1.0</td><td>-1.0</td><td>-1</td><td>-1.0</td><td>-1</td><td>-1</td></tr>\n",
       "<tr><td>5001021</td><td>SGA-2020 5001021</td><td>DR8-1908m035-1012</td><td>-1</td><td>190.9800024746678</td><td>-3.5794970532047348</td><td>COMP</td><td>179.36131</td><td>0.3128912</td><td>0.24235067</td><td>-1.0</td><td>24.242153</td><td>18.136705</td><td>False</td><td>DR8</td><td>529592</td><td>DR8-1908m035-1012</td><td>1</td><td>True</td><td>190.9800024746678</td><td>-3.5794970532047348</td><td>0.3128912</td><td>1908m035</td><td>190.98001150850953</td><td>-3.579504558185747</td><td>0.46029893</td><td>SB26</td><td>179.9099</td><td>0.28135264</td><td>190.97993904058112</td><td>-3.579486477891515</td><td>10.782479</td><td>5.303919</td><td>4.890181</td><td>4.648955</td><td>2.60227</td><td>3.9949758</td><td>5.3321157</td><td>6.6193404</td><td>7.9617677</td><td>9.334041</td><td>10.651372</td><td>11.945739</td><td>13.808968</td><td>20.83302</td><td>19.559025</td><td>18.527628</td><td>20.186102</td><td>18.948116</td><td>17.962463</td><td>19.839163</td><td>18.616032</td><td>17.664757</td><td>19.622812</td><td>18.415947</td><td>17.48664</td><td>19.488094</td><td>18.284103</td><td>17.36675</td><td>19.393885</td><td>18.19177</td><td>17.285147</td><td>19.328535</td><td>18.133291</td><td>17.231174</td><td>19.276346</td><td>18.095415</td><td>17.194038</td><td>19.23636</td><td>18.059212</td><td>17.159449</td><td>0.056616735</td><td>0.075659014</td><td>0.06408011</td><td>0.099823594</td><td>0.1106942</td><td>0.12681642</td><td>0.15963246</td><td>0.18908575</td><td>0.21659172</td><td>0.08466007</td><td>0.08730868</td><td>0.101774946</td><td>0.06604131</td><td>0.06827165</td><td>0.07746673</td><td>0.05750298</td><td>0.058578383</td><td>0.065898776</td><td>0.051398903</td><td>0.052755173</td><td>0.059088793</td><td>0.04776679</td><td>0.04883277</td><td>0.054615494</td><td>0.04498737</td><td>0.045983624</td><td>0.051455963</td><td>0.043144915</td><td>0.044076666</td><td>0.04933408</td><td>0.041449923</td><td>0.042814855</td><td>0.04784726</td><td>0.04055538</td><td>0.041601818</td><td>0.046518978</td><td>19.089306</td><td>0.93604577</td><td>0.32930735</td><td>2.0837493</td><td>0.033988953</td><td>17.95537</td><td>0.69882125</td><td>0.34296194</td><td>2.419169</td><td>0.011013919</td><td>17.04538</td><td>0.77790314</td><td>0.31191626</td><td>2.1598706</td><td>0.0056849383</td><td>0</td><td>-1.0</td><td>-1.0</td><td>-1.0</td><td>-1</td><td>-1.0</td><td>-1.0</td><td>-1.0</td><td>-1.0</td><td>-1.0</td><td>-1.0</td><td>-1.0</td><td>-1.0</td><td>-1.0</td><td>-1.0</td><td>-1.0</td><td>-1</td><td>-1.0</td><td>-1</td><td>-1</td></tr>\n",
       "<tr><td>5001019</td><td>SGA-2020 5001019</td><td>DR8-1470m035-1174</td><td>-1</td><td>147.1427386432192</td><td>-3.5532245640806046</td><td>DEV</td><td>163.838</td><td>0.5674898</td><td>0.30485216</td><td>-1.0</td><td>24.155874</td><td>16.757603</td><td>False</td><td>DR8</td><td>529591</td><td>DR8-1470m035-1174</td><td>1</td><td>True</td><td>147.1427386432192</td><td>-3.5532245640806046</td><td>0.5674898</td><td>1470m035</td><td>147.14273636886824</td><td>-3.5532311036249844</td><td>0.7089864</td><td>SB26</td><td>160.56161</td><td>0.33515733</td><td>147.14265663750427</td><td>-3.5531612954610043</td><td>14.189667</td><td>9.06656</td><td>8.473093</td><td>8.114043</td><td>2.9450347</td><td>4.695773</td><td>6.643506</td><td>8.666231</td><td>10.949383</td><td>13.340206</td><td>15.799134</td><td>18.415377</td><td>21.269592</td><td>19.91953</td><td>19.158825</td><td>18.614452</td><td>19.193794</td><td>18.477886</td><td>17.962807</td><td>18.734055</td><td>18.061895</td><td>17.589006</td><td>18.418203</td><td>17.784187</td><td>17.351715</td><td>18.193169</td><td>17.586119</td><td>17.181166</td><td>18.049446</td><td>17.457943</td><td>17.058641</td><td>17.934223</td><td>17.35795</td><td>16.969753</td><td>17.857323</td><td>17.293016</td><td>16.908016</td><td>17.810745</td><td>17.246443</td><td>16.876032</td><td>0.0614563</td><td>0.089195475</td><td>0.10060314</td><td>0.15540995</td><td>0.17048688</td><td>0.21389666</td><td>0.16420007</td><td>0.25362244</td><td>0.3022587</td><td>0.06389988</td><td>0.06969084</td><td>0.07839319</td><td>0.048208438</td><td>0.052888487</td><td>0.05885825</td><td>0.040130075</td><td>0.044280488</td><td>0.050095942</td><td>0.034714546</td><td>0.038774274</td><td>0.045435317</td><td>0.031042166</td><td>0.03483406</td><td>0.04135831</td><td>0.028832838</td><td>0.032055207</td><td>0.038155198</td><td>0.026886987</td><td>0.02992059</td><td>0.035833754</td><td>0.025639897</td><td>0.028576324</td><td>0.0342623</td><td>0.024892407</td><td>0.0275924</td><td>0.03357749</td><td>17.619846</td><td>0.81239957</td><td>1.2436428</td><td>2.0833044</td><td>0.20735413</td><td>17.052032</td><td>0.9099892</td><td>0.94688904</td><td>1.8497639</td><td>0.08836478</td><td>16.648832</td><td>1.2052153</td><td>0.6299481</td><td>1.5293403</td><td>0.22791538</td><td>0</td><td>-1.0</td><td>-1.0</td><td>-1.0</td><td>-1</td><td>-1.0</td><td>-1.0</td><td>-1.0</td><td>-1.0</td><td>-1.0</td><td>-1.0</td><td>-1.0</td><td>-1.0</td><td>-1.0</td><td>-1.0</td><td>-1.0</td><td>-1</td><td>-1.0</td><td>-1</td><td>-1</td></tr>\n",
       "<tr><td>5001018</td><td>SGA-2020 5001018</td><td>DR8-0589m035-1107</td><td>-1</td><td>58.96747523203085</td><td>-3.5768978632702404</td><td>DEV</td><td>73.886986</td><td>0.52344257</td><td>0.34322816</td><td>-1.0</td><td>24.649805</td><td>17.42698</td><td>False</td><td>DR8</td><td>529590</td><td>DR8-0589m035-1107</td><td>1</td><td>True</td><td>58.96747523203085</td><td>-3.5768978632702404</td><td>0.52344257</td><td>0589m035</td><td>58.96746266894446</td><td>-3.576904154158203</td><td>0.59405684</td><td>SB26</td><td>63.708275</td><td>0.3470738</td><td>58.9673521194436</td><td>-3.5767996362730665</td><td>11.532074</td><td>27.796232</td><td>27.457575</td><td>28.267866</td><td>0.7578961</td><td>2.1168416</td><td>3.5769458</td><td>5.265746</td><td>7.4217663</td><td>9.982045</td><td>12.871645</td><td>15.379495</td><td>17.821705</td><td>22.57269</td><td>22.104053</td><td>21.428228</td><td>20.81164</td><td>20.299337</td><td>19.70747</td><td>20.117699</td><td>19.549505</td><td>19.008604</td><td>19.679396</td><td>19.085209</td><td>18.57469</td><td>19.323883</td><td>18.728365</td><td>18.230927</td><td>19.041245</td><td>18.443516</td><td>17.964779</td><td>18.827599</td><td>18.226679</td><td>17.773859</td><td>18.679247</td><td>18.097006</td><td>17.654163</td><td>18.569975</td><td>17.998594</td><td>17.559578</td><td>0.028430318</td><td>0.053442895</td><td>0.06005233</td><td>0.086550556</td><td>0.121798776</td><td>0.18367727</td><td>0.19650374</td><td>0.2090271</td><td>0.23993549</td><td>0.10603312</td><td>0.13668293</td><td>0.12814379</td><td>0.09004501</td><td>0.09114922</td><td>0.110184155</td><td>0.06574117</td><td>0.0649464</td><td>0.079305</td><td>0.05130527</td><td>0.050389685</td><td>0.061386514</td><td>0.041397545</td><td>0.041069187</td><td>0.049383085</td><td>0.0353218</td><td>0.035057936</td><td>0.04168752</td><td>0.03146701</td><td>0.031024022</td><td>0.03684285</td><td>0.028985405</td><td>0.028910374</td><td>0.034214094</td><td>0.027220415</td><td>0.027361887</td><td>0.03217761</td><td>17.569975</td><td>2.6201665</td><td>0.74379516</td><td>0.78689593</td><td>1.3501529</td><td>16.998594</td><td>3.0956852</td><td>0.5915868</td><td>0.7576835</td><td>0.20765956</td><td>16.559578</td><td>3.5662844</td><td>0.48402628</td><td>0.6955706</td><td>0.049795065</td><td>0</td><td>-1.0</td><td>-1.0</td><td>-1.0</td><td>-1</td><td>-1.0</td><td>-1.0</td><td>-1.0</td><td>-1.0</td><td>-1.0</td><td>-1.0</td><td>-1.0</td><td>-1.0</td><td>-1.0</td><td>-1.0</td><td>-1.0</td><td>-1</td><td>-1.0</td><td>-1</td><td>-1</td></tr>\n",
       "<tr><td>5001000</td><td>SGA-2020 5001000</td><td>DR8-1538m040-5309</td><td>-1</td><td>153.87604470973113</td><td>-3.8952396741736623</td><td>COMP</td><td>151.75539</td><td>0.46971816</td><td>0.2265234</td><td>-1.0</td><td>25.694304</td><td>18.706636</td><td>False</td><td>DR8</td><td>529574</td><td>DR8-1538m040-5309</td><td>1</td><td>True</td><td>153.87604470973113</td><td>-3.8952396741736623</td><td>0.46971816</td><td>1538m040</td><td>153.87605812641382</td><td>-3.8952553120545</td><td>0.3222142</td><td>SB26</td><td>152.51593</td><td>0.38030738</td><td>153.8760096166066</td><td>-3.8952074506049206</td><td>6.2858515</td><td>6.9679866</td><td>5.937727</td><td>6.803102</td><td>-1.0</td><td>0.611838</td><td>1.5926635</td><td>3.1050522</td><td>4.296284</td><td>5.648387</td><td>6.922032</td><td>8.273097</td><td>9.666426</td><td>-1.0</td><td>-1.0</td><td>-1.0</td><td>23.549822</td><td>23.031054</td><td>22.773083</td><td>21.688038</td><td>21.237814</td><td>20.977982</td><td>20.6481</td><td>20.239336</td><td>20.017353</td><td>20.216105</td><td>19.841602</td><td>19.639183</td><td>19.916332</td><td>19.567436</td><td>19.359243</td><td>19.737143</td><td>19.404419</td><td>19.195152</td><td>19.599789</td><td>19.276</td><td>19.082033</td><td>19.506786</td><td>19.204313</td><td>18.991358</td><td>-1.0</td><td>0.021907173</td><td>0.059276454</td><td>0.058691014</td><td>0.07300099</td><td>0.09429353</td><td>0.13673161</td><td>0.13662857</td><td>0.15687384</td><td>-1.0</td><td>-1.0</td><td>-1.0</td><td>0.06336523</td><td>0.03895847</td><td>0.092741065</td><td>0.06610604</td><td>0.070476234</td><td>0.082297616</td><td>0.05458867</td><td>0.05844559</td><td>0.06285622</td><td>0.048253395</td><td>0.05195508</td><td>0.053528924</td><td>0.043112114</td><td>0.04649149</td><td>0.047446106</td><td>0.039647266</td><td>0.04261088</td><td>0.04318384</td><td>0.03672966</td><td>0.03996569</td><td>0.041731343</td><td>0.034884803</td><td>0.03854299</td><td>0.04003972</td><td>18.981636</td><td>1.5777819</td><td>0.37279877</td><td>1.3685343</td><td>0.17616904</td><td>18.774378</td><td>1.4497702</td><td>0.32173964</td><td>1.4371084</td><td>0.1582937</td><td>18.463694</td><td>1.8066257</td><td>0.32254803</td><td>1.2234725</td><td>0.16648228</td><td>0</td><td>-1.0</td><td>-1.0</td><td>-1.0</td><td>-1</td><td>-1.0</td><td>-1.0</td><td>-1.0</td><td>-1.0</td><td>-1.0</td><td>-1.0</td><td>-1.0</td><td>-1.0</td><td>-1.0</td><td>-1.0</td><td>-1.0</td><td>-1</td><td>-1.0</td><td>-1</td><td>-1</td></tr>\n",
       "<tr><td>5001017</td><td>SGA-2020 5001017</td><td>DR8-0584m035-2996</td><td>-1</td><td>58.40320516788472</td><td>-3.466918505800092</td><td>DEV</td><td>78.21456</td><td>0.51283354</td><td>0.49073544</td><td>-1.0</td><td>24.937456</td><td>17.759092</td><td>False</td><td>DR8</td><td>529589</td><td>DR8-0584m035-2996</td><td>1</td><td>True</td><td>58.40320516788472</td><td>-3.466918505800092</td><td>0.51283354</td><td>0584m035</td><td>58.40320253298754</td><td>-3.466926588485662</td><td>0.3857445</td><td>SB26</td><td>77.450806</td><td>0.5222588</td><td>58.402952915143096</td><td>-3.4668656841467427</td><td>7.4999247</td><td>10.6275</td><td>9.738742</td><td>9.231915</td><td>-1.0</td><td>0.4168916</td><td>1.3850007</td><td>3.145773</td><td>4.5656934</td><td>6.1649065</td><td>7.8648286</td><td>9.693265</td><td>11.572335</td><td>-1.0</td><td>-1.0</td><td>-1.0</td><td>24.405949</td><td>23.802616</td><td>23.227045</td><td>21.975693</td><td>21.281242</td><td>20.684381</td><td>20.67551</td><td>19.927301</td><td>19.342794</td><td>20.232887</td><td>19.452583</td><td>18.873638</td><td>19.925098</td><td>19.128544</td><td>18.544298</td><td>19.701632</td><td>18.904926</td><td>18.315718</td><td>19.537628</td><td>18.7478</td><td>18.158012</td><td>19.441925</td><td>18.637377</td><td>18.067211</td><td>-1.0</td><td>0.034375846</td><td>0.05000886</td><td>0.04937963</td><td>0.05648364</td><td>0.08459663</td><td>0.09639086</td><td>0.12639426</td><td>0.17496136</td><td>-1.0</td><td>-1.0</td><td>-1.0</td><td>0.1030126</td><td>0.14450267</td><td>0.13146153</td><td>0.07787949</td><td>0.07852679</td><td>0.09690694</td><td>0.051919293</td><td>0.047114756</td><td>0.05007323</td><td>0.040849604</td><td>0.036510844</td><td>0.03906593</td><td>0.03345683</td><td>0.030297955</td><td>0.034481473</td><td>0.029213183</td><td>0.026533324</td><td>0.03164831</td><td>0.026470259</td><td>0.024446977</td><td>0.030300302</td><td>0.025263276</td><td>0.0232073</td><td>0.029973973</td><td>18.734894</td><td>2.4245536</td><td>0.38687333</td><td>1.0028657</td><td>0.4239481</td><td>17.994421</td><td>2.2158453</td><td>0.39288235</td><td>1.0944983</td><td>0.07975243</td><td>17.450657</td><td>2.1201532</td><td>0.3892828</td><td>1.1315521</td><td>0.54996616</td><td>0</td><td>-1.0</td><td>-1.0</td><td>-1.0</td><td>-1</td><td>-1.0</td><td>-1.0</td><td>-1.0</td><td>-1.0</td><td>-1.0</td><td>-1.0</td><td>-1.0</td><td>-1.0</td><td>-1.0</td><td>-1.0</td><td>-1.0</td><td>-1</td><td>-1.0</td><td>-1</td><td>-1</td></tr>\n",
       "<tr><td>5001015</td><td>SGA-2020 5001015</td><td>DR8-3576m037-403</td><td>-1</td><td>357.6740353616442</td><td>-3.85522320009045</td><td>DEV</td><td>82.74744</td><td>0.5409603</td><td>0.7174031</td><td>-1.0</td><td>25.037058</td><td>17.74275</td><td>False</td><td>DR8</td><td>529587</td><td>DR8-3576m037-403</td><td>1</td><td>True</td><td>357.6740353616442</td><td>-3.85522320009045</td><td>0.5409603</td><td>3576m037</td><td>357.67403842412625</td><td>-3.8552269294240613</td><td>0.30211383</td><td>SB26</td><td>43.861855</td><td>0.8301052</td><td>357.67392150552206</td><td>-3.8551886612348403</td><td>7.209229</td><td>13.183595</td><td>13.665959</td><td>11.224029</td><td>-1.0</td><td>0.21450932</td><td>0.846571</td><td>2.1427917</td><td>3.1841862</td><td>4.51692</td><td>6.0777254</td><td>7.509598</td><td>9.063415</td><td>-1.0</td><td>-1.0</td><td>-1.0</td><td>25.193579</td><td>24.62296</td><td>24.420284</td><td>22.346554</td><td>21.777355</td><td>21.521255</td><td>20.84324</td><td>20.298834</td><td>20.017208</td><td>20.272078</td><td>19.77233</td><td>19.492922</td><td>19.831852</td><td>19.376217</td><td>19.082954</td><td>19.54409</td><td>19.106567</td><td>18.84724</td><td>19.34696</td><td>18.923971</td><td>18.657412</td><td>19.177315</td><td>18.762495</td><td>18.520123</td><td>-1.0</td><td>0.0125710685</td><td>0.020094376</td><td>0.022501841</td><td>0.022662519</td><td>0.04211524</td><td>0.09505712</td><td>0.1273042</td><td>0.16206305</td><td>-1.0</td><td>-1.0</td><td>-1.0</td><td>0.054773998</td><td>0.12961262</td><td>0.12157575</td><td>0.049564067</td><td>0.06852701</td><td>0.060764447</td><td>0.023434771</td><td>0.032002203</td><td>0.028441958</td><td>0.016559245</td><td>0.022279179</td><td>0.021754753</td><td>0.0132284975</td><td>0.017743852</td><td>0.019429205</td><td>0.011654457</td><td>0.015651742</td><td>0.019529799</td><td>0.011078748</td><td>0.014891735</td><td>0.01885173</td><td>0.010554862</td><td>0.014203132</td><td>0.019597687</td><td>18.177315</td><td>2.417917</td><td>0.47263953</td><td>0.9337628</td><td>4.7389565</td><td>17.762495</td><td>2.896611</td><td>0.38523775</td><td>0.8362637</td><td>1.8342208</td><td>17.637915</td><td>2.839255</td><td>0.33596423</td><td>0.8797803</td><td>2.4617777</td><td>0</td><td>-1.0</td><td>-1.0</td><td>-1.0</td><td>-1</td><td>-1.0</td><td>-1.0</td><td>-1.0</td><td>-1.0</td><td>-1.0</td><td>-1.0</td><td>-1.0</td><td>-1.0</td><td>-1.0</td><td>-1.0</td><td>-1.0</td><td>-1</td><td>-1.0</td><td>-1</td><td>-1</td></tr>\n",
       "<tr><td>5001014</td><td>SGA-2020 5001014</td><td>DR8-3248m037-1645</td><td>-1</td><td>324.74242937828797</td><td>-3.8084329830009396</td><td>COMP</td><td>122.85104</td><td>0.3906317</td><td>0.2791688</td><td>-1.0</td><td>25.017765</td><td>18.430447</td><td>False</td><td>DR8</td><td>529586</td><td>DR8-3248m037-1645</td><td>1</td><td>True</td><td>324.74242937828797</td><td>-3.8084329830009396</td><td>0.3906317</td><td>3248m037</td><td>324.7424231596453</td><td>-3.808433932264305</td><td>0.3192873</td><td>SB26</td><td>95.61273</td><td>0.48489726</td><td>324.7423724193499</td><td>-3.808398095720384</td><td>7.0272965</td><td>4.5791316</td><td>4.5753717</td><td>3.6445382</td><td>0.49947414</td><td>1.3065332</td><td>2.4695082</td><td>3.2613614</td><td>4.142231</td><td>5.183337</td><td>6.4809637</td><td>7.958481</td><td>9.578619</td><td>23.701742</td><td>22.761845</td><td>21.96575</td><td>21.776823</td><td>20.871134</td><td>20.140362</td><td>20.731417</td><td>19.903755</td><td>19.253887</td><td>20.392155</td><td>19.592918</td><td>18.989386</td><td>20.154202</td><td>19.382841</td><td>18.798645</td><td>19.968445</td><td>19.219912</td><td>18.658823</td><td>19.821955</td><td>19.08637</td><td>18.548094</td><td>19.687834</td><td>18.963942</td><td>18.456245</td><td>19.608</td><td>18.879004</td><td>18.387629</td><td>0.01365834</td><td>0.051344074</td><td>0.048045527</td><td>0.047453772</td><td>0.06288405</td><td>0.08634135</td><td>0.13025087</td><td>0.15966402</td><td>0.18016349</td><td>0.03491276</td><td>0.046863474</td><td>0.072149314</td><td>0.038964324</td><td>0.053757466</td><td>0.07980848</td><td>0.03808629</td><td>0.044602387</td><td>0.059121102</td><td>0.03647604</td><td>0.04122101</td><td>0.052471712</td><td>0.035699002</td><td>0.039069112</td><td>0.047584612</td><td>0.034246605</td><td>0.03695001</td><td>0.04397308</td><td>0.03234685</td><td>0.03465163</td><td>0.04147844</td><td>0.030891905</td><td>0.032819968</td><td>0.039881896</td><td>0.029797714</td><td>0.03152196</td><td>0.03864877</td><td>19.309208</td><td>1.6267128</td><td>0.19292612</td><td>1.427329</td><td>0.6393451</td><td>18.55032</td><td>2.070359</td><td>0.16780946</td><td>1.2280372</td><td>0.6039054</td><td>18.144753</td><td>1.9696791</td><td>0.12739693</td><td>1.2834307</td><td>0.13691457</td><td>0</td><td>-1.0</td><td>-1.0</td><td>-1.0</td><td>-1</td><td>-1.0</td><td>-1.0</td><td>-1.0</td><td>-1.0</td><td>-1.0</td><td>-1.0</td><td>-1.0</td><td>-1.0</td><td>-1.0</td><td>-1.0</td><td>-1.0</td><td>-1</td><td>-1.0</td><td>-1</td><td>-1</td></tr>\n",
       "<tr><td>5001013</td><td>SGA-2020 5001013</td><td>DR8-1973m037-4792</td><td>-1</td><td>197.47401924800593</td><td>-3.6621350297703565</td><td>DEV</td><td>94.92079</td><td>0.46674863</td><td>0.5723814</td><td>-1.0</td><td>24.969769</td><td>17.995872</td><td>False</td><td>DR8</td><td>529585</td><td>DR8-1973m037-4792</td><td>1</td><td>True</td><td>197.47401924800593</td><td>-3.6621350297703565</td><td>0.46674863</td><td>1973m037</td><td>197.47404538452838</td><td>-3.6621230248694636</td><td>0.29520473</td><td>SB26</td><td>89.058784</td><td>0.72040945</td><td>197.47420344308577</td><td>-3.6619048924065143</td><td>7.204689</td><td>6.521164</td><td>7.24791</td><td>6.1340494</td><td>-1.0</td><td>-1.0</td><td>-1.0</td><td>1.488728</td><td>2.958264</td><td>5.045399</td><td>6.4098344</td><td>7.751964</td><td>8.856142</td><td>-1.0</td><td>-1.0</td><td>-1.0</td><td>-1.0</td><td>-1.0</td><td>-1.0</td><td>-1.0</td><td>-1.0</td><td>-1.0</td><td>21.8124</td><td>21.323421</td><td>20.920893</td><td>20.579765</td><td>20.091543</td><td>19.76243</td><td>19.869051</td><td>19.398155</td><td>19.068933</td><td>19.594856</td><td>19.121052</td><td>18.802778</td><td>19.419483</td><td>18.945795</td><td>18.625757</td><td>19.339823</td><td>18.862553</td><td>18.548876</td><td>-1.0</td><td>-1.0</td><td>-1.0</td><td>0.044755075</td><td>0.055119783</td><td>0.061903916</td><td>0.08852452</td><td>0.08958574</td><td>0.092253394</td><td>-1.0</td><td>-1.0</td><td>-1.0</td><td>-1.0</td><td>-1.0</td><td>-1.0</td><td>-1.0</td><td>-1.0</td><td>-1.0</td><td>0.08071548</td><td>0.1017576</td><td>0.10086333</td><td>0.044424035</td><td>0.054060057</td><td>0.05850449</td><td>0.028320478</td><td>0.032595545</td><td>0.036407605</td><td>0.023215273</td><td>0.026266104</td><td>0.03002261</td><td>0.020845793</td><td>0.023088543</td><td>0.02673365</td><td>0.019802231</td><td>0.021871772</td><td>0.0257374</td><td>18.829357</td><td>1.2586708</td><td>0.40086284</td><td>1.6691909</td><td>0.9075604</td><td>18.261055</td><td>1.5107319</td><td>0.40313983</td><td>1.4633697</td><td>0.8158358</td><td>18.093489</td><td>0.99198073</td><td>0.45411348</td><td>1.8750689</td><td>0.51325434</td><td>0</td><td>-1.0</td><td>-1.0</td><td>-1.0</td><td>-1</td><td>-1.0</td><td>-1.0</td><td>-1.0</td><td>-1.0</td><td>-1.0</td><td>-1.0</td><td>-1.0</td><td>-1.0</td><td>-1.0</td><td>-1.0</td><td>-1.0</td><td>-1</td><td>-1.0</td><td>-1</td><td>-1</td></tr>\n",
       "<tr><td>5001012</td><td>SGA-2020 5001012</td><td>DR8-1863m037-1407</td><td>-1</td><td>186.3282961009188</td><td>-3.8123626632889565</td><td>DEV</td><td>124.16643</td><td>0.5100267</td><td>0.6013166</td><td>-1.0</td><td>24.694693</td><td>17.528248</td><td>False</td><td>DR8</td><td>529584</td><td>DR8-1863m037-1407</td><td>1</td><td>True</td><td>186.3282961009188</td><td>-3.8123626632889565</td><td>0.5100267</td><td>1863m037</td><td>186.32830553410045</td><td>-3.8123711897522057</td><td>0.32582077</td><td>SB26</td><td>128.29668</td><td>0.73112607</td><td>186.32826405987862</td><td>-3.8122720860588974</td><td>7.773577</td><td>10.450753</td><td>11.500017</td><td>8.271859</td><td>0.13106135</td><td>0.685433</td><td>1.8279032</td><td>2.9168928</td><td>4.1341057</td><td>5.5390787</td><td>6.999425</td><td>8.225969</td><td>9.774623</td><td>26.266888</td><td>25.458773</td><td>25.029684</td><td>22.710222</td><td>21.960506</td><td>21.5409</td><td>20.934456</td><td>20.262428</td><td>19.876976</td><td>20.265493</td><td>19.666615</td><td>19.286251</td><td>19.813469</td><td>19.267513</td><td>18.920568</td><td>19.4426</td><td>18.93104</td><td>18.624336</td><td>19.217634</td><td>18.727102</td><td>18.433485</td><td>19.09832</td><td>18.607302</td><td>18.345827</td><td>19.006086</td><td>18.523409</td><td>18.261992</td><td>0.00969503</td><td>0.013569138</td><td>0.014105372</td><td>0.026345553</td><td>0.02660912</td><td>0.07256469</td><td>0.098183535</td><td>0.12857668</td><td>0.14876917</td><td>0.05458695</td><td>0.11105924</td><td>0.08947272</td><td>0.035643235</td><td>0.06675573</td><td>0.05979766</td><td>0.021873277</td><td>0.027340975</td><td>0.032831974</td><td>0.01531736</td><td>0.01873454</td><td>0.023950825</td><td>0.012992552</td><td>0.01616751</td><td>0.020474698</td><td>0.012693274</td><td>0.014852131</td><td>0.019265732</td><td>0.013063653</td><td>0.014028915</td><td>0.018601894</td><td>0.013164621</td><td>0.014181305</td><td>0.019495737</td><td>0.013162505</td><td>0.014332609</td><td>0.020389073</td><td>18.179201</td><td>2.115192</td><td>0.4477518</td><td>1.0596126</td><td>19.653217</td><td>17.645784</td><td>2.5803664</td><td>0.3843283</td><td>0.9055234</td><td>11.486654</td><td>17.590706</td><td>2.4013312</td><td>0.3058053</td><td>0.97676456</td><td>3.8434405</td><td>0</td><td>-1.0</td><td>-1.0</td><td>-1.0</td><td>-1</td><td>-1.0</td><td>-1.0</td><td>-1.0</td><td>-1.0</td><td>-1.0</td><td>-1.0</td><td>-1.0</td><td>-1.0</td><td>-1.0</td><td>-1.0</td><td>-1.0</td><td>-1</td><td>-1.0</td><td>-1</td><td>-1</td></tr>\n",
       "<tr><td>...</td><td>...</td><td>...</td><td>...</td><td>...</td><td>...</td><td>...</td><td>...</td><td>...</td><td>...</td><td>...</td><td>...</td><td>...</td><td>...</td><td>...</td><td>...</td><td>...</td><td>...</td><td>...</td><td>...</td><td>...</td><td>...</td><td>...</td><td>...</td><td>...</td><td>...</td><td>...</td><td>...</td><td>...</td><td>...</td><td>...</td><td>...</td><td>...</td><td>...</td><td>...</td><td>...</td><td>...</td><td>...</td><td>...</td><td>...</td><td>...</td><td>...</td><td>...</td><td>...</td><td>...</td><td>...</td><td>...</td><td>...</td><td>...</td><td>...</td><td>...</td><td>...</td><td>...</td><td>...</td><td>...</td><td>...</td><td>...</td><td>...</td><td>...</td><td>...</td><td>...</td><td>...</td><td>...</td><td>...</td><td>...</td><td>...</td><td>...</td><td>...</td><td>...</td><td>...</td><td>...</td><td>...</td><td>...</td><td>...</td><td>...</td><td>...</td><td>...</td><td>...</td><td>...</td><td>...</td><td>...</td><td>...</td><td>...</td><td>...</td><td>...</td><td>...</td><td>...</td><td>...</td><td>...</td><td>...</td><td>...</td><td>...</td><td>...</td><td>...</td><td>...</td><td>...</td><td>...</td><td>...</td><td>...</td><td>...</td><td>...</td><td>...</td><td>...</td><td>...</td><td>...</td><td>...</td><td>...</td><td>...</td><td>...</td><td>...</td><td>...</td><td>...</td><td>...</td><td>...</td><td>...</td><td>...</td><td>...</td><td>...</td><td>...</td><td>...</td><td>...</td><td>...</td><td>...</td><td>...</td><td>...</td><td>...</td><td>...</td><td>...</td><td>...</td><td>...</td><td>...</td><td>...</td><td>...</td><td>...</td><td>...</td><td>...</td><td>...</td><td>...</td><td>...</td><td>...</td><td>...</td><td>...</td></tr>\n",
       "<tr><td>1381636</td><td>SGA-2020 1381636</td><td>SDSSJ084556.57+533919.5</td><td>6655844</td><td>131.485701</td><td>53.65544379999999</td><td>E</td><td>95.67</td><td>0.3349654</td><td>0.5546257</td><td>0.18141483</td><td>25.113482</td><td>18.86</td><td>False</td><td>LEDA-20181114</td><td>505249</td><td>SDSSJ084556.57+533919.5</td><td>1</td><td>True</td><td>131.485701</td><td>53.65544379999999</td><td>0.3349654</td><td>1314p537</td><td>131.485513332869</td><td>53.65552786241768</td><td>0.90785563</td><td>SB26</td><td>100.781906</td><td>0.46966988</td><td>131.48501097335733</td><td>53.655693283414486</td><td>19.27131</td><td>19.645798</td><td>18.474365</td><td>6.119243</td><td>3.2048464</td><td>5.3000298</td><td>6.868498</td><td>8.733146</td><td>10.891547</td><td>13.799854</td><td>17.674564</td><td>22.38903</td><td>27.235668</td><td>19.617006</td><td>18.344181</td><td>17.434069</td><td>18.978195</td><td>17.674133</td><td>16.850527</td><td>18.723785</td><td>17.416801</td><td>16.62731</td><td>18.533216</td><td>17.225698</td><td>16.458725</td><td>18.376013</td><td>17.077702</td><td>16.329185</td><td>18.221233</td><td>16.928686</td><td>16.220829</td><td>18.096092</td><td>16.81081</td><td>16.13823</td><td>17.982832</td><td>16.693537</td><td>16.08931</td><td>17.898993</td><td>16.599098</td><td>16.06033</td><td>0.02145444</td><td>0.024300767</td><td>0.02659843</td><td>0.038242504</td><td>0.049760833</td><td>0.08221394</td><td>0.1245344</td><td>0.18116935</td><td>0.33597404</td><td>0.06416799</td><td>0.050728355</td><td>0.05993947</td><td>0.03762428</td><td>0.029434409</td><td>0.03632072</td><td>0.030153323</td><td>0.023723181</td><td>0.02987621</td><td>0.025530338</td><td>0.020114306</td><td>0.025720255</td><td>0.022249224</td><td>0.017710531</td><td>0.02294827</td><td>0.019440806</td><td>0.015559579</td><td>0.020865593</td><td>0.017504236</td><td>0.014118455</td><td>0.019410819</td><td>0.015995648</td><td>0.012845607</td><td>0.01868493</td><td>0.014987484</td><td>0.011922889</td><td>0.0183018</td><td>17.28751</td><td>73180.23</td><td>1.5632104e-05</td><td>0.62010896</td><td>0.3111535</td><td>16.02202</td><td>74812.266</td><td>1.4850441e-05</td><td>0.634582</td><td>3.317102</td><td>15.9725685</td><td>0.92735827</td><td>0.53775245</td><td>1.719592</td><td>0.2274793</td><td>0</td><td>-1.0</td><td>-1.0</td><td>-1.0</td><td>-1</td><td>-1.0</td><td>-1.0</td><td>-1.0</td><td>-1.0</td><td>-1.0</td><td>-1.0</td><td>-1.0</td><td>-1.0</td><td>-1.0</td><td>-1.0</td><td>-1.0</td><td>-1</td><td>-1.0</td><td>-1</td><td>-1</td></tr>\n",
       "<tr><td>192068</td><td>SGA-2020 192068</td><td>SDSSJ081707.55+511127.7</td><td>6655947</td><td>124.28238088651509</td><td>51.19128628720261</td><td>N/A</td><td>71.97</td><td>0.36812896</td><td>0.22594357</td><td>0.17712219</td><td>25.81748</td><td>19.359</td><td>True</td><td>LEDA-20181114</td><td>69573</td><td>SDSSJ081707.55+511127.7</td><td>1</td><td>True</td><td>124.28238088651509</td><td>51.19128628720261</td><td>0.36812896</td><td>1244p512</td><td>124.28286712681074</td><td>51.191316969084056</td><td>0.5698969</td><td>SB26</td><td>38.01268</td><td>0.60827065</td><td>124.28264919212468</td><td>51.19135772249885</td><td>11.790564</td><td>26.220972</td><td>32.505302</td><td>4.255241</td><td>2.9588587</td><td>3.7123146</td><td>4.66305</td><td>5.8716984</td><td>7.5463243</td><td>9.732671</td><td>12.048173</td><td>14.47257</td><td>17.096907</td><td>19.246832</td><td>17.866617</td><td>17.068176</td><td>19.053019</td><td>17.69755</td><td>16.92151</td><td>18.893269</td><td>17.556864</td><td>16.796852</td><td>18.74582</td><td>17.433514</td><td>16.697847</td><td>18.601437</td><td>17.307768</td><td>16.598597</td><td>18.472775</td><td>17.188192</td><td>16.493504</td><td>18.369629</td><td>17.095926</td><td>16.426714</td><td>18.285688</td><td>17.01381</td><td>16.371881</td><td>18.218992</td><td>16.959127</td><td>16.347162</td><td>0.023079297</td><td>0.04086215</td><td>0.05482284</td><td>0.078915626</td><td>0.09437602</td><td>0.08666526</td><td>0.09979178</td><td>0.118369386</td><td>0.12936331</td><td>0.034474935</td><td>0.041634373</td><td>0.0527702</td><td>0.030878717</td><td>0.036941394</td><td>0.047334947</td><td>0.028247554</td><td>0.033442415</td><td>0.0430739</td><td>0.025652625</td><td>0.030590272</td><td>0.040022045</td><td>0.023055358</td><td>0.02769982</td><td>0.036951464</td><td>0.020845573</td><td>0.025080584</td><td>0.033801246</td><td>0.019185174</td><td>0.023202341</td><td>0.03195588</td><td>0.017905246</td><td>0.021613762</td><td>0.03049109</td><td>0.016926548</td><td>0.02059854</td><td>0.029887747</td><td>17.315825</td><td>28263.938</td><td>4.0299303e-05</td><td>0.42989406</td><td>0.21140626</td><td>15.998731</td><td>12815.154</td><td>9.1607675e-05</td><td>0.37716883</td><td>0.27228743</td><td>16.10019</td><td>0.900625</td><td>0.53558946</td><td>1.0434191</td><td>0.28794855</td><td>0</td><td>-1.0</td><td>-1.0</td><td>-1.0</td><td>-1</td><td>-1.0</td><td>-1.0</td><td>-1.0</td><td>-1.0</td><td>-1.0</td><td>-1.0</td><td>-1.0</td><td>-1.0</td><td>-1.0</td><td>-1.0</td><td>-1.0</td><td>-1</td><td>-1.0</td><td>-1</td><td>-1</td></tr>\n",
       "<tr><td>1015032</td><td>SGA-2020 1015032</td><td>SDSSJ120341.63+275957.9</td><td>6656953</td><td>180.92358149999998</td><td>27.999443699999997</td><td>Sbc</td><td>168.6</td><td>0.5834451</td><td>0.379315</td><td>0.13893944</td><td>25.544481</td><td>18.086</td><td>False</td><td>LEDA-20181114</td><td>303346</td><td>SDSSJ120341.63+275957.9_GROUP</td><td>3</td><td>True</td><td>180.9212985046776</td><td>27.998505136513337</td><td>0.75372183</td><td>1809p280</td><td>180.92359944729975</td><td>27.999443129696207</td><td>0.8077715</td><td>SB26</td><td>162.69438</td><td>0.43797576</td><td>180.92371366548593</td><td>27.999202931310073</td><td>15.937034</td><td>8.241134</td><td>7.70254</td><td>7.259966</td><td>3.206125</td><td>5.950151</td><td>7.876542</td><td>9.721162</td><td>11.51854</td><td>13.64122</td><td>16.679659</td><td>20.331114</td><td>24.233145</td><td>19.737555</td><td>18.619164</td><td>17.707706</td><td>18.761906</td><td>17.666943</td><td>16.795593</td><td>18.3967</td><td>17.320261</td><td>16.475294</td><td>18.155092</td><td>17.133202</td><td>16.313765</td><td>17.992344</td><td>16.996462</td><td>16.210371</td><td>17.877838</td><td>16.900969</td><td>16.120815</td><td>17.78587</td><td>16.821604</td><td>16.040777</td><td>17.721733</td><td>16.758123</td><td>15.982839</td><td>17.652637</td><td>16.6967</td><td>15.932339</td><td>0.11108169</td><td>0.1090004</td><td>0.110301286</td><td>0.15792286</td><td>0.122607596</td><td>0.18852842</td><td>0.21782541</td><td>0.21479286</td><td>0.33606178</td><td>0.044466127</td><td>0.053559944</td><td>0.06406398</td><td>0.040328447</td><td>0.046081588</td><td>0.05219833</td><td>0.036476463</td><td>0.04033911</td><td>0.044750202</td><td>0.032531247</td><td>0.035964098</td><td>0.040050626</td><td>0.030211946</td><td>0.03310702</td><td>0.03697897</td><td>0.02816797</td><td>0.030891443</td><td>0.034441527</td><td>0.026085349</td><td>0.028939256</td><td>0.032155618</td><td>0.024806887</td><td>0.027418455</td><td>0.030550003</td><td>0.023556186</td><td>0.025985079</td><td>0.029230917</td><td>17.581604</td><td>0.69125044</td><td>1.2055752</td><td>2.5397527</td><td>0.9411545</td><td>16.597622</td><td>1.0361096</td><td>0.6367639</td><td>1.9793861</td><td>0.5039726</td><td>15.812825</td><td>1.473543</td><td>0.38964978</td><td>1.6763681</td><td>0.23054382</td><td>0</td><td>-1.0</td><td>-1.0</td><td>-1.0</td><td>-1</td><td>-1.0</td><td>-1.0</td><td>-1.0</td><td>-1.0</td><td>-1.0</td><td>-1.0</td><td>-1.0</td><td>-1.0</td><td>-1.0</td><td>-1.0</td><td>-1.0</td><td>-1</td><td>-1.0</td><td>-1</td><td>-1</td></tr>\n",
       "<tr><td>163773</td><td>SGA-2020 163773</td><td>MSB2017_J1408+56</td><td>6657065</td><td>212.170833</td><td>56.92722220000001</td><td>N/A</td><td>0.0</td><td>0.36666667</td><td>1.0</td><td>-99.0</td><td>24.71984</td><td>18.27</td><td>True</td><td>LEDA-20181114</td><td>59011</td><td>MSB2017_J1408+56</td><td>1</td><td>True</td><td>212.170833</td><td>56.92722220000001</td><td>0.36666667</td><td>2122p570</td><td>212.171159955593</td><td>56.926595549320815</td><td>0.58524245</td><td>SB26</td><td>50.73783</td><td>0.4828788</td><td>212.1707516989119</td><td>56.926627496412706</td><td>9.405043</td><td>15.877693</td><td>16.633938</td><td>8.064359</td><td>-1.0</td><td>-1.0</td><td>-1.0</td><td>-1.0</td><td>2.6530533</td><td>6.095575</td><td>10.717708</td><td>14.651399</td><td>17.557274</td><td>-1.0</td><td>-1.0</td><td>-1.0</td><td>-1.0</td><td>-1.0</td><td>-1.0</td><td>-1.0</td><td>-1.0</td><td>-1.0</td><td>-1.0</td><td>-1.0</td><td>-1.0</td><td>21.625917</td><td>21.187191</td><td>21.246511</td><td>20.063698</td><td>19.643198</td><td>19.8808</td><td>19.182755</td><td>18.779291</td><td>19.256529</td><td>18.79556</td><td>18.392824</td><td>19.051292</td><td>18.618816</td><td>18.218784</td><td>18.96972</td><td>-1.0</td><td>-1.0</td><td>-1.0</td><td>-1.0</td><td>0.04900321</td><td>0.12553737</td><td>0.14137444</td><td>0.22693798</td><td>0.34099555</td><td>-1.0</td><td>-1.0</td><td>-1.0</td><td>-1.0</td><td>-1.0</td><td>-1.0</td><td>-1.0</td><td>-1.0</td><td>-1.0</td><td>-1.0</td><td>-1.0</td><td>-1.0</td><td>0.024730783</td><td>0.022632247</td><td>0.061896753</td><td>0.0155524425</td><td>0.016901288</td><td>0.03857256</td><td>0.01526508</td><td>0.016313702</td><td>0.03891823</td><td>0.013758953</td><td>0.01469708</td><td>0.04103073</td><td>0.012740955</td><td>0.013579273</td><td>0.042758927</td><td>17.96158</td><td>1.1124256</td><td>2.2624726</td><td>1.8385125</td><td>0.05919084</td><td>17.515175</td><td>1.1819742</td><td>2.1476247</td><td>1.7305608</td><td>0.15930454</td><td>18.778017</td><td>0.87467015</td><td>0.8490365</td><td>2.2040992</td><td>0.00031231687</td><td>0</td><td>-1.0</td><td>-1.0</td><td>-1.0</td><td>-1</td><td>-1.0</td><td>-1.0</td><td>-1.0</td><td>-1.0</td><td>-1.0</td><td>-1.0</td><td>-1.0</td><td>-1.0</td><td>-1.0</td><td>-1.0</td><td>-1.0</td><td>-1</td><td>-1.0</td><td>-1</td><td>-1</td></tr>\n",
       "<tr><td>259065</td><td>SGA-2020 259065</td><td>MSB2017_J1305+41</td><td>6657076</td><td>196.3716</td><td>41.8938</td><td>N/A</td><td>0.0</td><td>0.40666667</td><td>1.0</td><td>-99.0</td><td>23.994673</td><td>17.32</td><td>True</td><td>LEDA-20181114</td><td>94630</td><td>MSB2017_J1305+41</td><td>1</td><td>True</td><td>196.3716</td><td>41.8938</td><td>0.40666667</td><td>1962p420</td><td>196.37132998092522</td><td>41.8932195346971</td><td>0.66303176</td><td>SB26</td><td>52.223404</td><td>0.9118806</td><td>196.37112279893566</td><td>41.893266881498754</td><td>13.664224</td><td>19.533525</td><td>18.815765</td><td>6.1085525</td><td>-1.0</td><td>-1.0</td><td>-1.0</td><td>2.910728</td><td>5.822521</td><td>9.797999</td><td>13.057665</td><td>16.531813</td><td>19.890953</td><td>-1.0</td><td>-1.0</td><td>-1.0</td><td>-1.0</td><td>-1.0</td><td>-1.0</td><td>-1.0</td><td>-1.0</td><td>-1.0</td><td>20.151731</td><td>19.754078</td><td>19.91731</td><td>18.801258</td><td>18.432663</td><td>18.642662</td><td>18.060808</td><td>17.693975</td><td>18.068945</td><td>17.771181</td><td>17.392496</td><td>17.932392</td><td>17.565676</td><td>17.185678</td><td>17.863697</td><td>17.422804</td><td>17.042221</td><td>17.85511</td><td>-1.0</td><td>-1.0</td><td>-1.0</td><td>0.01898834</td><td>0.03100518</td><td>0.039650068</td><td>0.0660397</td><td>0.08333549</td><td>0.15105432</td><td>-1.0</td><td>-1.0</td><td>-1.0</td><td>-1.0</td><td>-1.0</td><td>-1.0</td><td>-1.0</td><td>-1.0</td><td>-1.0</td><td>0.008788423</td><td>0.0092661325</td><td>0.030514777</td><td>0.005188027</td><td>0.005262448</td><td>0.01739371</td><td>0.00393001</td><td>0.0040864726</td><td>0.015194148</td><td>0.0034638399</td><td>0.003603017</td><td>0.016705519</td><td>0.0031898906</td><td>0.003404639</td><td>0.01882653</td><td>0.003039708</td><td>0.003299739</td><td>0.021213887</td><td>16.685862</td><td>3.7185729</td><td>0.4417826</td><td>1.012266</td><td>11.173057</td><td>16.331194</td><td>2.8898659</td><td>0.5920997</td><td>1.0889734</td><td>3.7448015</td><td>17.819023</td><td>0.647334</td><td>0.44158864</td><td>3.256265</td><td>0.34275523</td><td>0</td><td>-1.0</td><td>-1.0</td><td>-1.0</td><td>-1</td><td>-1.0</td><td>-1.0</td><td>-1.0</td><td>-1.0</td><td>-1.0</td><td>-1.0</td><td>-1.0</td><td>-1.0</td><td>-1.0</td><td>-1.0</td><td>-1.0</td><td>-1</td><td>-1.0</td><td>-1</td><td>-1</td></tr>\n",
       "<tr><td>706307</td><td>SGA-2020 706307</td><td>MSB2017_J1308+40</td><td>6657077</td><td>197.1916665</td><td>40.9011111</td><td>N/A</td><td>0.0</td><td>0.36666667</td><td>1.0</td><td>-99.0</td><td>24.89984</td><td>18.45</td><td>True</td><td>LEDA-20181114</td><td>258969</td><td>MSB2017_J1308+40</td><td>1</td><td>True</td><td>197.1916665</td><td>40.9011111</td><td>0.36666667</td><td>1973p410</td><td>197.19137793031447</td><td>40.901048874962804</td><td>0.68482155</td><td>SB26</td><td>88.6135</td><td>0.43416804</td><td>197.19112395226895</td><td>40.90114986353322</td><td>13.771014</td><td>21.397373</td><td>15.1284</td><td>8.650713</td><td>-1.0</td><td>-1.0</td><td>-1.0</td><td>-1.0</td><td>2.0416327</td><td>5.9897866</td><td>11.135965</td><td>16.2076</td><td>20.544647</td><td>-1.0</td><td>-1.0</td><td>-1.0</td><td>-1.0</td><td>-1.0</td><td>-1.0</td><td>-1.0</td><td>-1.0</td><td>-1.0</td><td>-1.0</td><td>-1.0</td><td>-1.0</td><td>22.689522</td><td>22.04564</td><td>21.906284</td><td>20.474197</td><td>19.88835</td><td>19.787655</td><td>19.428696</td><td>18.815996</td><td>18.888979</td><td>18.945002</td><td>18.356041</td><td>18.602873</td><td>18.695383</td><td>18.123974</td><td>18.531347</td><td>-1.0</td><td>-1.0</td><td>-1.0</td><td>-1.0</td><td>0.060773477</td><td>0.06677961</td><td>0.13201728</td><td>0.1221379</td><td>0.20880674</td><td>-1.0</td><td>-1.0</td><td>-1.0</td><td>-1.0</td><td>-1.0</td><td>-1.0</td><td>-1.0</td><td>-1.0</td><td>-1.0</td><td>-1.0</td><td>-1.0</td><td>-1.0</td><td>0.04236685</td><td>0.037515614</td><td>0.08954121</td><td>0.016390966</td><td>0.015259452</td><td>0.033005722</td><td>0.011452674</td><td>0.012146447</td><td>0.026643632</td><td>0.009841064</td><td>0.010819584</td><td>0.02718492</td><td>0.009124575</td><td>0.010522271</td><td>0.03044903</td><td>17.906374</td><td>1.4898592</td><td>2.101282</td><td>1.5279807</td><td>0.12883934</td><td>17.670845</td><td>0.9590376</td><td>2.9476821</td><td>2.1874077</td><td>1.3483498</td><td>18.440636</td><td>0.64043385</td><td>1.4109446</td><td>3.1842403</td><td>0.12957327</td><td>0</td><td>-1.0</td><td>-1.0</td><td>-1.0</td><td>-1</td><td>-1.0</td><td>-1.0</td><td>-1.0</td><td>-1.0</td><td>-1.0</td><td>-1.0</td><td>-1.0</td><td>-1.0</td><td>-1.0</td><td>-1.0</td><td>-1.0</td><td>-1</td><td>-1.0</td><td>-1</td><td>-1</td></tr>\n",
       "<tr><td>616723</td><td>SGA-2020 616723</td><td>2MASXJ22553169+1917333</td><td>6728423</td><td>343.882104</td><td>19.2925833</td><td>N/A</td><td>120.0</td><td>0.33342642</td><td>0.6516284</td><td>0.036795452</td><td>21.343481</td><td>15.1</td><td>False</td><td>LEDA-20181114</td><td>226148</td><td>2MASXJ22553169+1917333</td><td>1</td><td>True</td><td>343.882104</td><td>19.2925833</td><td>0.33342642</td><td>3440p192</td><td>343.88230356417046</td><td>19.29255109954895</td><td>1.3891104</td><td>SB26</td><td>103.098976</td><td>0.38874847</td><td>343.88259982194063</td><td>19.29251533055245</td><td>26.466312</td><td>8.4434805</td><td>8.7295</td><td>9.090706</td><td>10.608587</td><td>13.014946</td><td>15.541839</td><td>17.929342</td><td>20.888144</td><td>24.904701</td><td>31.448812</td><td>37.005264</td><td>41.673313</td><td>16.029053</td><td>15.406702</td><td>14.92092</td><td>15.892499</td><td>15.267762</td><td>14.790253</td><td>15.800121</td><td>15.174032</td><td>14.699166</td><td>15.746087</td><td>15.113318</td><td>14.639041</td><td>15.689497</td><td>15.055291</td><td>14.5771475</td><td>15.64972</td><td>15.012168</td><td>14.532978</td><td>15.60892</td><td>14.9699135</td><td>14.483572</td><td>15.576314</td><td>14.936018</td><td>14.4432955</td><td>15.556289</td><td>14.914095</td><td>14.418763</td><td>0.13050835</td><td>0.11635388</td><td>0.14874108</td><td>0.15351556</td><td>0.18362059</td><td>0.24007733</td><td>0.2852556</td><td>0.34795675</td><td>0.3434295</td><td>0.03815936</td><td>0.03886769</td><td>0.042758264</td><td>0.034829862</td><td>0.035236727</td><td>0.03887225</td><td>0.032369602</td><td>0.032672122</td><td>0.036024667</td><td>0.030834239</td><td>0.031005744</td><td>0.0340593</td><td>0.029450262</td><td>0.029517455</td><td>0.03237433</td><td>0.028419662</td><td>0.028403513</td><td>0.03112243</td><td>0.027313221</td><td>0.02731104</td><td>0.02965691</td><td>0.026598318</td><td>0.026519107</td><td>0.02869976</td><td>0.026119547</td><td>0.025998466</td><td>0.028070174</td><td>15.477656</td><td>17482.045</td><td>3.411209e-05</td><td>1.3753492</td><td>0.16354679</td><td>14.826298</td><td>11667.472</td><td>5.3780266e-05</td><td>1.3381327</td><td>0.16153426</td><td>14.285724</td><td>9333.491</td><td>7.251292e-05</td><td>1.1136502</td><td>0.1708866</td><td>0</td><td>-1.0</td><td>-1.0</td><td>-1.0</td><td>-1</td><td>-1.0</td><td>-1.0</td><td>-1.0</td><td>-1.0</td><td>-1.0</td><td>-1.0</td><td>-1.0</td><td>-1.0</td><td>-1.0</td><td>-1.0</td><td>-1.0</td><td>-1</td><td>-1.0</td><td>-1</td><td>-1</td></tr>\n",
       "<tr><td>1322974</td><td>SGA-2020 1322974</td><td>OBC97_N07-1</td><td>6740580</td><td>219.70549950000003</td><td>20.178222199999997</td><td>N/A</td><td>0.0</td><td>0.34434992</td><td>1.0</td><td>-99.0</td><td>24.71348</td><td>18.4</td><td>True</td><td>LEDA-20181114</td><td>485274</td><td>OBC97_N07-1</td><td>1</td><td>True</td><td>219.70549950000003</td><td>20.178222199999997</td><td>0.34434992</td><td>2197p202</td><td>219.70547953286695</td><td>20.178220642926885</td><td>0.6604175</td><td>SB26</td><td>47.181854</td><td>0.3085205</td><td>219.70535713588458</td><td>20.17829278288451</td><td>12.396978</td><td>12.324828</td><td>10.420617</td><td>11.950062</td><td>0.96932715</td><td>2.574895</td><td>5.1753573</td><td>7.5578337</td><td>10.014726</td><td>12.43931</td><td>14.975536</td><td>17.576817</td><td>19.812525</td><td>22.470488</td><td>21.859222</td><td>21.638268</td><td>20.547432</td><td>20.010117</td><td>19.768991</td><td>19.39724</td><td>18.896023</td><td>18.641176</td><td>18.901817</td><td>18.425837</td><td>18.156912</td><td>18.580412</td><td>18.126343</td><td>17.853626</td><td>18.370375</td><td>17.92589</td><td>17.648806</td><td>18.221046</td><td>17.795376</td><td>17.515776</td><td>18.123287</td><td>17.713139</td><td>17.416056</td><td>18.079092</td><td>17.670403</td><td>17.358076</td><td>0.026884958</td><td>0.06656205</td><td>0.07487173</td><td>0.12117621</td><td>0.19151749</td><td>0.19990145</td><td>0.14730681</td><td>0.21696524</td><td>0.20905368</td><td>0.02913667</td><td>0.03380056</td><td>0.038944688</td><td>0.0327753</td><td>0.044457175</td><td>0.04132127</td><td>0.03143977</td><td>0.036128264</td><td>0.03556559</td><td>0.02995043</td><td>0.033552274</td><td>0.03198465</td><td>0.028007496</td><td>0.030757166</td><td>0.029363044</td><td>0.02633924</td><td>0.028487535</td><td>0.027352285</td><td>0.024906307</td><td>0.026910238</td><td>0.025714</td><td>0.023810709</td><td>0.025716843</td><td>0.02436761</td><td>0.023189954</td><td>0.02504026</td><td>0.023758963</td><td>17.633333</td><td>1.4967467</td><td>0.8794937</td><td>1.421917</td><td>1.3982863</td><td>17.33023</td><td>1.2819827</td><td>0.8519915</td><td>1.5690289</td><td>0.98505014</td><td>16.937494</td><td>1.4649441</td><td>0.8646768</td><td>1.4192353</td><td>0.2699432</td><td>0</td><td>-1.0</td><td>-1.0</td><td>-1.0</td><td>-1</td><td>-1.0</td><td>-1.0</td><td>-1.0</td><td>-1.0</td><td>-1.0</td><td>-1.0</td><td>-1.0</td><td>-1.0</td><td>-1.0</td><td>-1.0</td><td>-1.0</td><td>-1</td><td>-1.0</td><td>-1</td><td>-1</td></tr>\n",
       "<tr><td>680722</td><td>SGA-2020 680722</td><td>EKS2015_RS0955</td><td>6740714</td><td>196.584</td><td>4.1501002</td><td>N/A</td><td>30.0</td><td>0.43233332</td><td>0.5</td><td>-99.0</td><td>24.692575</td><td>17.885</td><td>True</td><td>LEDA-20181114</td><td>247649</td><td>EKS2015_RS0955</td><td>1</td><td>True</td><td>196.584</td><td>4.1501002</td><td>0.43233332</td><td>1966p042</td><td>196.58453004994354</td><td>4.150449008524681</td><td>0.51801646</td><td>SB26</td><td>27.8532</td><td>0.63095343</td><td>196.58450391969455</td><td>4.150583973229383</td><td>13.641732</td><td>8.403328</td><td>8.579344</td><td>8.9144335</td><td>-1.0</td><td>-1.0</td><td>-1.0</td><td>2.4525337</td><td>5.999064</td><td>9.000806</td><td>11.946341</td><td>14.010179</td><td>15.540493</td><td>-1.0</td><td>-1.0</td><td>-1.0</td><td>-1.0</td><td>-1.0</td><td>-1.0</td><td>-1.0</td><td>-1.0</td><td>-1.0</td><td>20.969837</td><td>20.666525</td><td>20.462996</td><td>19.258673</td><td>18.912659</td><td>18.711302</td><td>18.569925</td><td>18.228273</td><td>18.007591</td><td>18.23849</td><td>17.90323</td><td>17.676832</td><td>18.11638</td><td>17.77918</td><td>17.539978</td><td>18.053371</td><td>17.710043</td><td>17.462769</td><td>-1.0</td><td>-1.0</td><td>-1.0</td><td>0.042871237</td><td>0.10295274</td><td>0.08178099</td><td>0.11206135</td><td>0.13521013</td><td>0.1286146</td><td>-1.0</td><td>-1.0</td><td>-1.0</td><td>-1.0</td><td>-1.0</td><td>-1.0</td><td>-1.0</td><td>-1.0</td><td>-1.0</td><td>0.022737056</td><td>0.019431813</td><td>0.037241165</td><td>0.014586467</td><td>0.012415101</td><td>0.017076166</td><td>0.011434039</td><td>0.010220548</td><td>0.013098819</td><td>0.010152266</td><td>0.009238782</td><td>0.01216015</td><td>0.009866379</td><td>0.009067176</td><td>0.011967325</td><td>0.0097371135</td><td>0.0090295775</td><td>0.011900776</td><td>17.92526</td><td>0.48405787</td><td>1.8492088</td><td>4.0392656</td><td>0.5897124</td><td>17.551624</td><td>0.5682978</td><td>1.5978823</td><td>3.5655272</td><td>1.1108413</td><td>17.280184</td><td>0.58595294</td><td>1.7533054</td><td>3.470009</td><td>1.7564456</td><td>0</td><td>-1.0</td><td>-1.0</td><td>-1.0</td><td>-1</td><td>-1.0</td><td>-1.0</td><td>-1.0</td><td>-1.0</td><td>-1.0</td><td>-1.0</td><td>-1.0</td><td>-1.0</td><td>-1.0</td><td>-1.0</td><td>-1.0</td><td>-1</td><td>-1.0</td><td>-1</td><td>-1</td></tr>\n",
       "<tr><td>439837</td><td>SGA-2020 439837</td><td>EKS2015_RS0510</td><td>6740716</td><td>173.49469950000002</td><td>4.3449998</td><td>N/A</td><td>0.0</td><td>0.33966663</td><td>0.5075971</td><td>-99.0</td><td>24.229744</td><td>17.946</td><td>True</td><td>LEDA-20181114</td><td>161162</td><td>EKS2015_RS0510</td><td>1</td><td>True</td><td>173.49469950000002</td><td>4.3449998</td><td>0.33966663</td><td>1736p042</td><td>173.49485595803574</td><td>4.344924883507937</td><td>0.5156837</td><td>SB26</td><td>4.4822693</td><td>0.7222341</td><td>173.49478297026465</td><td>4.344997661170944</td><td>25.039705</td><td>8.61086</td><td>9.066328</td><td>8.944384</td><td>-1.0</td><td>0.45278558</td><td>1.7595636</td><td>3.619618</td><td>6.025716</td><td>7.9975605</td><td>10.50512</td><td>12.991229</td><td>15.4705105</td><td>-1.0</td><td>-1.0</td><td>-1.0</td><td>23.7996</td><td>23.267387</td><td>22.991875</td><td>21.039238</td><td>20.48188</td><td>20.157995</td><td>19.774647</td><td>19.228273</td><td>18.898565</td><td>19.0537</td><td>18.53154</td><td>18.202375</td><td>18.726082</td><td>18.205614</td><td>17.8956</td><td>18.47124</td><td>17.966726</td><td>17.664473</td><td>18.328512</td><td>17.823252</td><td>17.517555</td><td>18.252943</td><td>17.736387</td><td>17.433922</td><td>-1.0</td><td>0.010897889</td><td>0.013311464</td><td>0.020633783</td><td>0.03676928</td><td>0.03941907</td><td>0.11827865</td><td>0.15728638</td><td>0.13521516</td><td>-1.0</td><td>-1.0</td><td>-1.0</td><td>0.028910832</td><td>0.02775613</td><td>0.043279663</td><td>0.011560348</td><td>0.012096981</td><td>0.02022066</td><td>0.008650073</td><td>0.008137791</td><td>0.013546953</td><td>0.0070009404</td><td>0.006156571</td><td>0.01027869</td><td>0.0064963005</td><td>0.0058289957</td><td>0.009382823</td><td>0.006193187</td><td>0.0055950615</td><td>0.008555451</td><td>0.005919617</td><td>0.0054007163</td><td>0.008111147</td><td>0.0057586282</td><td>0.0052909143</td><td>0.008045299</td><td>17.900679</td><td>1.2536795</td><td>0.64236355</td><td>1.6540393</td><td>15.883132</td><td>17.342123</td><td>1.4246392</td><td>0.60082567</td><td>1.4997882</td><td>10.254365</td><td>17.042652</td><td>1.515813</td><td>0.5465951</td><td>1.4551128</td><td>1.5517347</td><td>0</td><td>-1.0</td><td>-1.0</td><td>-1.0</td><td>-1</td><td>-1.0</td><td>-1.0</td><td>-1.0</td><td>-1.0</td><td>-1.0</td><td>-1.0</td><td>-1.0</td><td>-1.0</td><td>-1.0</td><td>-1.0</td><td>-1.0</td><td>-1</td><td>-1.0</td><td>-1</td><td>-1</td></tr>\n",
       "</table></div>"
      ],
      "text/plain": [
       "<Table length=384757>\n",
       " SGA_ID    SGA_GALAXY             GALAXY         ...  DM7_SN e_DM7_SN SN_Catalog\n",
       " int64      bytes16              bytes29         ... float64  int64     str25   \n",
       "------- ---------------- ----------------------- ... ------- -------- ----------\n",
       "5002480 SGA-2020 5002480       DR8-2837p402-5033 ...    -1.0       -1         -1\n",
       "5001021 SGA-2020 5001021       DR8-1908m035-1012 ...    -1.0       -1         -1\n",
       "5001019 SGA-2020 5001019       DR8-1470m035-1174 ...    -1.0       -1         -1\n",
       "5001018 SGA-2020 5001018       DR8-0589m035-1107 ...    -1.0       -1         -1\n",
       "5001000 SGA-2020 5001000       DR8-1538m040-5309 ...    -1.0       -1         -1\n",
       "5001017 SGA-2020 5001017       DR8-0584m035-2996 ...    -1.0       -1         -1\n",
       "5001015 SGA-2020 5001015        DR8-3576m037-403 ...    -1.0       -1         -1\n",
       "5001014 SGA-2020 5001014       DR8-3248m037-1645 ...    -1.0       -1         -1\n",
       "5001013 SGA-2020 5001013       DR8-1973m037-4792 ...    -1.0       -1         -1\n",
       "5001012 SGA-2020 5001012       DR8-1863m037-1407 ...    -1.0       -1         -1\n",
       "    ...              ...                     ... ...     ...      ...        ...\n",
       "1381636 SGA-2020 1381636 SDSSJ084556.57+533919.5 ...    -1.0       -1         -1\n",
       " 192068  SGA-2020 192068 SDSSJ081707.55+511127.7 ...    -1.0       -1         -1\n",
       "1015032 SGA-2020 1015032 SDSSJ120341.63+275957.9 ...    -1.0       -1         -1\n",
       " 163773  SGA-2020 163773        MSB2017_J1408+56 ...    -1.0       -1         -1\n",
       " 259065  SGA-2020 259065        MSB2017_J1305+41 ...    -1.0       -1         -1\n",
       " 706307  SGA-2020 706307        MSB2017_J1308+40 ...    -1.0       -1         -1\n",
       " 616723  SGA-2020 616723  2MASXJ22553169+1917333 ...    -1.0       -1         -1\n",
       "1322974 SGA-2020 1322974             OBC97_N07-1 ...    -1.0       -1         -1\n",
       " 680722  SGA-2020 680722          EKS2015_RS0955 ...    -1.0       -1         -1\n",
       " 439837  SGA-2020 439837          EKS2015_RS0510 ...    -1.0       -1         -1"
      ]
     },
     "execution_count": 97,
     "metadata": {},
     "output_type": "execute_result"
    }
   ],
   "source": [
    "maintab2"
   ]
  },
  {
   "cell_type": "code",
   "execution_count": 98,
   "id": "4b7f7321-8b36-4f63-8fe0-53a2bb6d6a1a",
   "metadata": {},
   "outputs": [],
   "source": [
    "maintab2.write('SGA_distances.fits', format='fits')"
   ]
  },
  {
   "cell_type": "markdown",
   "id": "fba46660-1164-4491-af34-730e23275fc6",
   "metadata": {},
   "source": [
    "# Combining with DESI Rosettes"
   ]
  },
  {
   "cell_type": "code",
   "execution_count": 48,
   "id": "4f876226-cb9b-4e0d-ae87-4351b86579cf",
   "metadata": {},
   "outputs": [
    {
     "data": {
      "text/plain": [
       "1"
      ]
     },
     "execution_count": 48,
     "metadata": {},
     "output_type": "execute_result"
    }
   ],
   "source": [
    "centers = Table.read('cache/tiles-sv3.ecsv', format = 'ascii.ecsv')\n",
    "centers[0]['TILEID']"
   ]
  },
  {
   "cell_type": "code",
   "execution_count": 77,
   "id": "4ea40b5b-111b-4165-b559-3c669e8b09e8",
   "metadata": {},
   "outputs": [
    {
     "data": {
      "text/html": [
       "<i>Table length=1934</i>\n",
       "<table id=\"table46913530280112\" class=\"table-striped table-bordered table-condensed\">\n",
       "<thead><tr><th>SGA_ID</th><th>SGA_GALAXY</th><th>GALAXY</th><th>PGC</th><th>RA_LEDA</th><th>DEC_LEDA</th><th>MORPHTYPE</th><th>PA_LEDA</th><th>D25_LEDA</th><th>BA_LEDA</th><th>Z_LEDA</th><th>SB_D25_LEDA</th><th>MAG_LEDA</th><th>BYHAND</th><th>REF</th><th>GROUP_ID</th><th>GROUP_NAME</th><th>GROUP_MULT</th><th>GROUP_PRIMARY</th><th>GROUP_RA</th><th>GROUP_DEC</th><th>GROUP_DIAMETER</th><th>BRICKNAME</th><th>RA</th><th>DEC</th><th>D26</th><th>D26_REF</th><th>PA</th><th>BA</th><th>RA_MOMENT</th><th>DEC_MOMENT</th><th>SMA_MOMENT</th><th>G_SMA50</th><th>R_SMA50</th><th>Z_SMA50</th><th>SMA_SB22</th><th>SMA_SB22.5</th><th>SMA_SB23</th><th>SMA_SB23.5</th><th>SMA_SB24</th><th>SMA_SB24.5</th><th>SMA_SB25</th><th>SMA_SB25.5</th><th>SMA_SB26</th><th>G_MAG_SB22</th><th>R_MAG_SB22</th><th>Z_MAG_SB22</th><th>G_MAG_SB22.5</th><th>R_MAG_SB22.5</th><th>Z_MAG_SB22.5</th><th>G_MAG_SB23</th><th>R_MAG_SB23</th><th>Z_MAG_SB23</th><th>G_MAG_SB23.5</th><th>R_MAG_SB23.5</th><th>Z_MAG_SB23.5</th><th>G_MAG_SB24</th><th>R_MAG_SB24</th><th>Z_MAG_SB24</th><th>G_MAG_SB24.5</th><th>R_MAG_SB24.5</th><th>Z_MAG_SB24.5</th><th>G_MAG_SB25</th><th>R_MAG_SB25</th><th>Z_MAG_SB25</th><th>G_MAG_SB25.5</th><th>R_MAG_SB25.5</th><th>Z_MAG_SB25.5</th><th>G_MAG_SB26</th><th>R_MAG_SB26</th><th>Z_MAG_SB26</th><th>SMA_SB22_ERR</th><th>SMA_SB22.5_ERR</th><th>SMA_SB23_ERR</th><th>SMA_SB23.5_ERR</th><th>SMA_SB24_ERR</th><th>SMA_SB24.5_ERR</th><th>SMA_SB25_ERR</th><th>SMA_SB25.5_ERR</th><th>SMA_SB26_ERR</th><th>G_MAG_SB22_ERR</th><th>R_MAG_SB22_ERR</th><th>Z_MAG_SB22_ERR</th><th>G_MAG_SB22.5_ERR</th><th>R_MAG_SB22.5_ERR</th><th>Z_MAG_SB22.5_ERR</th><th>G_MAG_SB23_ERR</th><th>R_MAG_SB23_ERR</th><th>Z_MAG_SB23_ERR</th><th>G_MAG_SB23.5_ERR</th><th>R_MAG_SB23.5_ERR</th><th>Z_MAG_SB23.5_ERR</th><th>G_MAG_SB24_ERR</th><th>R_MAG_SB24_ERR</th><th>Z_MAG_SB24_ERR</th><th>G_MAG_SB24.5_ERR</th><th>R_MAG_SB24.5_ERR</th><th>Z_MAG_SB24.5_ERR</th><th>G_MAG_SB25_ERR</th><th>R_MAG_SB25_ERR</th><th>Z_MAG_SB25_ERR</th><th>G_MAG_SB25.5_ERR</th><th>R_MAG_SB25.5_ERR</th><th>Z_MAG_SB25.5_ERR</th><th>G_MAG_SB26_ERR</th><th>R_MAG_SB26_ERR</th><th>Z_MAG_SB26_ERR</th><th>G_COG_PARAMS_MTOT</th><th>G_COG_PARAMS_M0</th><th>G_COG_PARAMS_ALPHA1</th><th>G_COG_PARAMS_ALPHA2</th><th>G_COG_PARAMS_CHI2</th><th>R_COG_PARAMS_MTOT</th><th>R_COG_PARAMS_M0</th><th>R_COG_PARAMS_ALPHA1</th><th>R_COG_PARAMS_ALPHA2</th><th>R_COG_PARAMS_CHI2</th><th>Z_COG_PARAMS_MTOT</th><th>Z_COG_PARAMS_M0</th><th>Z_COG_PARAMS_ALPHA1</th><th>Z_COG_PARAMS_ALPHA2</th><th>Z_COG_PARAMS_CHI2</th><th>ELLIPSEBIT</th><th>DM_Stellar</th><th>e_DM_lo_Stellar</th><th>e_DM_hi_Stellar</th><th>Stellar_Catalog</th><th>DM1_SN</th><th>e_DM1_SN</th><th>DM2_SN</th><th>e_DM2_SN</th><th>DM3_SN</th><th>e_DM3_SN</th><th>DM4_SN</th><th>e_DM4_SN</th><th>DM5_SN</th><th>e_DM5_SN</th><th>DM6_SN</th><th>e_DM6_SN</th><th>DM7_SN</th><th>e_DM7_SN</th><th>SN_Catalog</th></tr></thead>\n",
       "<thead><tr><th>int64</th><th>bytes16</th><th>bytes29</th><th>int64</th><th>float64</th><th>float64</th><th>bytes21</th><th>float32</th><th>float32</th><th>float32</th><th>float32</th><th>float32</th><th>float32</th><th>bool</th><th>bytes13</th><th>int64</th><th>bytes35</th><th>int16</th><th>bool</th><th>float64</th><th>float64</th><th>float32</th><th>bytes8</th><th>float64</th><th>float64</th><th>float32</th><th>bytes4</th><th>float32</th><th>float32</th><th>float64</th><th>float64</th><th>float32</th><th>float32</th><th>float32</th><th>float32</th><th>float32</th><th>float32</th><th>float32</th><th>float32</th><th>float32</th><th>float32</th><th>float32</th><th>float32</th><th>float32</th><th>float32</th><th>float32</th><th>float32</th><th>float32</th><th>float32</th><th>float32</th><th>float32</th><th>float32</th><th>float32</th><th>float32</th><th>float32</th><th>float32</th><th>float32</th><th>float32</th><th>float32</th><th>float32</th><th>float32</th><th>float32</th><th>float32</th><th>float32</th><th>float32</th><th>float32</th><th>float32</th><th>float32</th><th>float32</th><th>float32</th><th>float32</th><th>float32</th><th>float32</th><th>float32</th><th>float32</th><th>float32</th><th>float32</th><th>float32</th><th>float32</th><th>float32</th><th>float32</th><th>float32</th><th>float32</th><th>float32</th><th>float32</th><th>float32</th><th>float32</th><th>float32</th><th>float32</th><th>float32</th><th>float32</th><th>float32</th><th>float32</th><th>float32</th><th>float32</th><th>float32</th><th>float32</th><th>float32</th><th>float32</th><th>float32</th><th>float32</th><th>float32</th><th>float32</th><th>float32</th><th>float32</th><th>float32</th><th>float32</th><th>float32</th><th>float32</th><th>float32</th><th>float32</th><th>float32</th><th>float32</th><th>float32</th><th>float32</th><th>float32</th><th>float32</th><th>float32</th><th>float32</th><th>float32</th><th>float32</th><th>float32</th><th>int32</th><th>float64</th><th>float64</th><th>float64</th><th>str16</th><th>float64</th><th>float64</th><th>float64</th><th>float64</th><th>float64</th><th>float64</th><th>float64</th><th>float64</th><th>float64</th><th>float64</th><th>float64</th><th>int64</th><th>float64</th><th>int64</th><th>str24</th></tr></thead>\n",
       "<tr><td>207638</td><td>SGA-2020 207638</td><td>NGC7814</td><td>218</td><td>0.812559</td><td>16.1456194</td><td>Sab</td><td>134.53</td><td>4.365158</td><td>0.4305266</td><td>0.0035124298</td><td>23.421482</td><td>11.593</td><td>False</td><td>LEDA-20181114</td><td>73938</td><td>NGC7814</td><td>1</td><td>True</td><td>0.812559</td><td>16.1456194</td><td>4.365158</td><td>0009p162</td><td>0.8124274854816511</td><td>16.1455169162983</td><td>11.15105</td><td>SB26</td><td>134.2024</td><td>0.4849028</td><td>0.8120762037951955</td><td>16.14534837690191</td><td>200.04625</td><td>82.82556</td><td>78.24203</td><td>72.30593</td><td>94.85372</td><td>118.66765</td><td>144.39467</td><td>172.24834</td><td>202.94002</td><td>234.82027</td><td>267.05215</td><td>302.1296</td><td>334.5315</td><td>11.391324</td><td>10.4479065</td><td>9.623682</td><td>11.228865</td><td>10.295919</td><td>9.4892435</td><td>11.108571</td><td>10.186071</td><td>9.391858</td><td>11.016354</td><td>10.10016</td><td>9.319667</td><td>10.945187</td><td>10.035046</td><td>9.264916</td><td>10.894269</td><td>9.989213</td><td>9.225079</td><td>10.856926</td><td>9.954834</td><td>9.195862</td><td>10.830645</td><td>9.929288</td><td>9.171985</td><td>10.814159</td><td>9.9131775</td><td>9.156266</td><td>0.21526095</td><td>0.23602074</td><td>0.34232575</td><td>0.3225715</td><td>0.26907054</td><td>0.4221382</td><td>0.53733534</td><td>0.39212316</td><td>0.53470826</td><td>0.0020625296</td><td>0.0022948585</td><td>0.002650695</td><td>0.0018137891</td><td>0.0020279833</td><td>0.0023673968</td><td>0.0016452036</td><td>0.0018506112</td><td>0.0021778245</td><td>0.0015238288</td><td>0.0017204144</td><td>0.0020450433</td><td>0.0014345231</td><td>0.0016259744</td><td>0.0019482705</td><td>0.0013731329</td><td>0.001561975</td><td>0.0018802665</td><td>0.001329639</td><td>0.0015156246</td><td>0.0018319507</td><td>0.0012991042</td><td>0.0014813977</td><td>0.0017928901</td><td>0.001279939</td><td>0.0014598139</td><td>0.0017673312</td><td>10.7426405</td><td>0.3634739</td><td>1342.3901</td><td>2.4910772</td><td>3.7638025</td><td>9.837566</td><td>0.4029513</td><td>575.4227</td><td>2.2628853</td><td>1.9512408</td><td>9.065861</td><td>0.63717496</td><td>73.61136</td><td>1.7612522</td><td>0.07164451</td><td>0</td><td>30.6</td><td>0.14</td><td>0.14</td><td>Tonry_SBF</td><td>-1.0</td><td>-1.0</td><td>-1.0</td><td>-1.0</td><td>-1.0</td><td>-1.0</td><td>-1.0</td><td>-1.0</td><td>-1.0</td><td>-1.0</td><td>-1.0</td><td>-1</td><td>-1.0</td><td>-1</td><td>-1</td></tr>\n",
       "<tr><td>1327008</td><td>SGA-2020 1327008</td><td>UGC00014</td><td>250</td><td>0.8958735000000001</td><td>23.2007729</td><td>Sc</td><td>25.38</td><td>1.0423175</td><td>0.5395106</td><td>0.024216752</td><td>22.831482</td><td>14.113</td><td>False</td><td>LEDA-20181114</td><td>487030</td><td>UGC00014</td><td>1</td><td>True</td><td>0.8958735000000001</td><td>23.2007729</td><td>1.0423175</td><td>0009p232</td><td>0.8958620610956882</td><td>23.200726856714155</td><td>2.5702791</td><td>SB26</td><td>18.948963</td><td>0.60621285</td><td>0.8954368391501071</td><td>23.20053581449864</td><td>58.4263</td><td>31.541191</td><td>32.8187</td><td>36.071968</td><td>15.376917</td><td>20.431486</td><td>25.758154</td><td>32.029892</td><td>39.031902</td><td>47.955307</td><td>57.89139</td><td>67.703354</td><td>77.108376</td><td>15.255352</td><td>14.51565</td><td>13.928576</td><td>14.960389</td><td>14.238125</td><td>13.657076</td><td>14.762822</td><td>14.037892</td><td>13.461026</td><td>14.628848</td><td>13.901559</td><td>13.319341</td><td>14.523222</td><td>13.794634</td><td>13.208976</td><td>14.420363</td><td>13.692406</td><td>13.10497</td><td>14.3405485</td><td>13.612584</td><td>13.023545</td><td>14.282167</td><td>13.553737</td><td>12.963001</td><td>14.244243</td><td>13.515443</td><td>12.921845</td><td>0.07616808</td><td>0.08575747</td><td>0.10886908</td><td>0.10535007</td><td>0.11640918</td><td>0.112925865</td><td>0.21598709</td><td>0.19338751</td><td>0.22664279</td><td>0.01323528</td><td>0.017059084</td><td>0.018296726</td><td>0.010484105</td><td>0.013436497</td><td>0.01458323</td><td>0.009023272</td><td>0.0113886185</td><td>0.012210336</td><td>0.008051435</td><td>0.01009558</td><td>0.010757069</td><td>0.007327639</td><td>0.009165395</td><td>0.009732378</td><td>0.0066701053</td><td>0.008333975</td><td>0.008927417</td><td>0.006219527</td><td>0.007770655</td><td>0.0082246885</td><td>0.0059010857</td><td>0.0073662326</td><td>0.007784909</td><td>0.0057037543</td><td>0.007115131</td><td>0.0075006047</td><td>13.884993</td><td>55189.46</td><td>3.524745e-05</td><td>0.8267172</td><td>3.5632286</td><td>13.134548</td><td>26632.988</td><td>7.3055395e-05</td><td>0.7992621</td><td>1.3816593</td><td>12.496875</td><td>17404.445</td><td>0.00011383974</td><td>0.75451845</td><td>0.53068733</td><td>0</td><td>-1.0</td><td>-1.0</td><td>-1.0</td><td>-1</td><td>35.07</td><td>0.17</td><td>-1.0</td><td>-1.0</td><td>-1.0</td><td>-1.0</td><td>-1.0</td><td>-1.0</td><td>-1.0</td><td>-1.0</td><td>-1.0</td><td>-1</td><td>-1.0</td><td>-1</td><td>LOSS_Ganeshalingam13_SN1</td></tr>\n",
       "<tr><td>1327008</td><td>SGA-2020 1327008</td><td>UGC00014</td><td>250</td><td>0.8958735000000001</td><td>23.2007729</td><td>Sc</td><td>25.38</td><td>1.0423175</td><td>0.5395106</td><td>0.024216752</td><td>22.831482</td><td>14.113</td><td>False</td><td>LEDA-20181114</td><td>487030</td><td>UGC00014</td><td>1</td><td>True</td><td>0.8958735000000001</td><td>23.2007729</td><td>1.0423175</td><td>0009p232</td><td>0.8958620610956882</td><td>23.200726856714155</td><td>2.5702791</td><td>SB26</td><td>18.948963</td><td>0.60621285</td><td>0.8954368391501071</td><td>23.20053581449864</td><td>58.4263</td><td>31.541191</td><td>32.8187</td><td>36.071968</td><td>15.376917</td><td>20.431486</td><td>25.758154</td><td>32.029892</td><td>39.031902</td><td>47.955307</td><td>57.89139</td><td>67.703354</td><td>77.108376</td><td>15.255352</td><td>14.51565</td><td>13.928576</td><td>14.960389</td><td>14.238125</td><td>13.657076</td><td>14.762822</td><td>14.037892</td><td>13.461026</td><td>14.628848</td><td>13.901559</td><td>13.319341</td><td>14.523222</td><td>13.794634</td><td>13.208976</td><td>14.420363</td><td>13.692406</td><td>13.10497</td><td>14.3405485</td><td>13.612584</td><td>13.023545</td><td>14.282167</td><td>13.553737</td><td>12.963001</td><td>14.244243</td><td>13.515443</td><td>12.921845</td><td>0.07616808</td><td>0.08575747</td><td>0.10886908</td><td>0.10535007</td><td>0.11640918</td><td>0.112925865</td><td>0.21598709</td><td>0.19338751</td><td>0.22664279</td><td>0.01323528</td><td>0.017059084</td><td>0.018296726</td><td>0.010484105</td><td>0.013436497</td><td>0.01458323</td><td>0.009023272</td><td>0.0113886185</td><td>0.012210336</td><td>0.008051435</td><td>0.01009558</td><td>0.010757069</td><td>0.007327639</td><td>0.009165395</td><td>0.009732378</td><td>0.0066701053</td><td>0.008333975</td><td>0.008927417</td><td>0.006219527</td><td>0.007770655</td><td>0.0082246885</td><td>0.0059010857</td><td>0.0073662326</td><td>0.007784909</td><td>0.0057037543</td><td>0.007115131</td><td>0.0075006047</td><td>13.884993</td><td>55189.46</td><td>3.524745e-05</td><td>0.8267172</td><td>3.5632286</td><td>13.134548</td><td>26632.988</td><td>7.3055395e-05</td><td>0.7992621</td><td>1.3816593</td><td>12.496875</td><td>17404.445</td><td>0.00011383974</td><td>0.75451845</td><td>0.53068733</td><td>0</td><td>-1.0</td><td>-1.0</td><td>-1.0</td><td>-1</td><td>34.34</td><td>0.18</td><td>0.0</td><td>0.0</td><td>-1.0</td><td>-1.0</td><td>-1.0</td><td>-1.0</td><td>-1.0</td><td>-1.0</td><td>-1.0</td><td>-1</td><td>-1.0</td><td>-1</td><td>SNIa_calibration</td></tr>\n",
       "<tr><td>1327008</td><td>SGA-2020 1327008</td><td>UGC00014</td><td>250</td><td>0.8958735000000001</td><td>23.2007729</td><td>Sc</td><td>25.38</td><td>1.0423175</td><td>0.5395106</td><td>0.024216752</td><td>22.831482</td><td>14.113</td><td>False</td><td>LEDA-20181114</td><td>487030</td><td>UGC00014</td><td>1</td><td>True</td><td>0.8958735000000001</td><td>23.2007729</td><td>1.0423175</td><td>0009p232</td><td>0.8958620610956882</td><td>23.200726856714155</td><td>2.5702791</td><td>SB26</td><td>18.948963</td><td>0.60621285</td><td>0.8954368391501071</td><td>23.20053581449864</td><td>58.4263</td><td>31.541191</td><td>32.8187</td><td>36.071968</td><td>15.376917</td><td>20.431486</td><td>25.758154</td><td>32.029892</td><td>39.031902</td><td>47.955307</td><td>57.89139</td><td>67.703354</td><td>77.108376</td><td>15.255352</td><td>14.51565</td><td>13.928576</td><td>14.960389</td><td>14.238125</td><td>13.657076</td><td>14.762822</td><td>14.037892</td><td>13.461026</td><td>14.628848</td><td>13.901559</td><td>13.319341</td><td>14.523222</td><td>13.794634</td><td>13.208976</td><td>14.420363</td><td>13.692406</td><td>13.10497</td><td>14.3405485</td><td>13.612584</td><td>13.023545</td><td>14.282167</td><td>13.553737</td><td>12.963001</td><td>14.244243</td><td>13.515443</td><td>12.921845</td><td>0.07616808</td><td>0.08575747</td><td>0.10886908</td><td>0.10535007</td><td>0.11640918</td><td>0.112925865</td><td>0.21598709</td><td>0.19338751</td><td>0.22664279</td><td>0.01323528</td><td>0.017059084</td><td>0.018296726</td><td>0.010484105</td><td>0.013436497</td><td>0.01458323</td><td>0.009023272</td><td>0.0113886185</td><td>0.012210336</td><td>0.008051435</td><td>0.01009558</td><td>0.010757069</td><td>0.007327639</td><td>0.009165395</td><td>0.009732378</td><td>0.0066701053</td><td>0.008333975</td><td>0.008927417</td><td>0.006219527</td><td>0.007770655</td><td>0.0082246885</td><td>0.0059010857</td><td>0.0073662326</td><td>0.007784909</td><td>0.0057037543</td><td>0.007115131</td><td>0.0075006047</td><td>13.884993</td><td>55189.46</td><td>3.524745e-05</td><td>0.8267172</td><td>3.5632286</td><td>13.134548</td><td>26632.988</td><td>7.3055395e-05</td><td>0.7992621</td><td>1.3816593</td><td>12.496875</td><td>17404.445</td><td>0.00011383974</td><td>0.75451845</td><td>0.53068733</td><td>0</td><td>-1.0</td><td>-1.0</td><td>-1.0</td><td>-1</td><td>35.06</td><td>0.17</td><td>-1.0</td><td>-1.0</td><td>-1.0</td><td>-1.0</td><td>-1.0</td><td>-1.0</td><td>-1.0</td><td>-1.0</td><td>-1.0</td><td>-1</td><td>-1.0</td><td>-1</td><td>Stahl_SNI</td></tr>\n",
       "<tr><td>1327008</td><td>SGA-2020 1327008</td><td>UGC00014</td><td>250</td><td>0.8958735000000001</td><td>23.2007729</td><td>Sc</td><td>25.38</td><td>1.0423175</td><td>0.5395106</td><td>0.024216752</td><td>22.831482</td><td>14.113</td><td>False</td><td>LEDA-20181114</td><td>487030</td><td>UGC00014</td><td>1</td><td>True</td><td>0.8958735000000001</td><td>23.2007729</td><td>1.0423175</td><td>0009p232</td><td>0.8958620610956882</td><td>23.200726856714155</td><td>2.5702791</td><td>SB26</td><td>18.948963</td><td>0.60621285</td><td>0.8954368391501071</td><td>23.20053581449864</td><td>58.4263</td><td>31.541191</td><td>32.8187</td><td>36.071968</td><td>15.376917</td><td>20.431486</td><td>25.758154</td><td>32.029892</td><td>39.031902</td><td>47.955307</td><td>57.89139</td><td>67.703354</td><td>77.108376</td><td>15.255352</td><td>14.51565</td><td>13.928576</td><td>14.960389</td><td>14.238125</td><td>13.657076</td><td>14.762822</td><td>14.037892</td><td>13.461026</td><td>14.628848</td><td>13.901559</td><td>13.319341</td><td>14.523222</td><td>13.794634</td><td>13.208976</td><td>14.420363</td><td>13.692406</td><td>13.10497</td><td>14.3405485</td><td>13.612584</td><td>13.023545</td><td>14.282167</td><td>13.553737</td><td>12.963001</td><td>14.244243</td><td>13.515443</td><td>12.921845</td><td>0.07616808</td><td>0.08575747</td><td>0.10886908</td><td>0.10535007</td><td>0.11640918</td><td>0.112925865</td><td>0.21598709</td><td>0.19338751</td><td>0.22664279</td><td>0.01323528</td><td>0.017059084</td><td>0.018296726</td><td>0.010484105</td><td>0.013436497</td><td>0.01458323</td><td>0.009023272</td><td>0.0113886185</td><td>0.012210336</td><td>0.008051435</td><td>0.01009558</td><td>0.010757069</td><td>0.007327639</td><td>0.009165395</td><td>0.009732378</td><td>0.0066701053</td><td>0.008333975</td><td>0.008927417</td><td>0.006219527</td><td>0.007770655</td><td>0.0082246885</td><td>0.0059010857</td><td>0.0073662326</td><td>0.007784909</td><td>0.0057037543</td><td>0.007115131</td><td>0.0075006047</td><td>13.884993</td><td>55189.46</td><td>3.524745e-05</td><td>0.8267172</td><td>3.5632286</td><td>13.134548</td><td>26632.988</td><td>7.3055395e-05</td><td>0.7992621</td><td>1.3816593</td><td>12.496875</td><td>17404.445</td><td>0.00011383974</td><td>0.75451845</td><td>0.53068733</td><td>0</td><td>-1.0</td><td>-1.0</td><td>-1.0</td><td>-1</td><td>34.9</td><td>0.0</td><td>34.34</td><td>34.34</td><td>34.34</td><td>0.18</td><td>0.0</td><td>0.0</td><td>0.0</td><td>0.0</td><td>34.35</td><td>0</td><td>0.0</td><td>0</td><td>5_Sources_SNI</td></tr>\n",
       "<tr><td>1327008</td><td>SGA-2020 1327008</td><td>UGC00014</td><td>250</td><td>0.8958735000000001</td><td>23.2007729</td><td>Sc</td><td>25.38</td><td>1.0423175</td><td>0.5395106</td><td>0.024216752</td><td>22.831482</td><td>14.113</td><td>False</td><td>LEDA-20181114</td><td>487030</td><td>UGC00014</td><td>1</td><td>True</td><td>0.8958735000000001</td><td>23.2007729</td><td>1.0423175</td><td>0009p232</td><td>0.8958620610956882</td><td>23.200726856714155</td><td>2.5702791</td><td>SB26</td><td>18.948963</td><td>0.60621285</td><td>0.8954368391501071</td><td>23.20053581449864</td><td>58.4263</td><td>31.541191</td><td>32.8187</td><td>36.071968</td><td>15.376917</td><td>20.431486</td><td>25.758154</td><td>32.029892</td><td>39.031902</td><td>47.955307</td><td>57.89139</td><td>67.703354</td><td>77.108376</td><td>15.255352</td><td>14.51565</td><td>13.928576</td><td>14.960389</td><td>14.238125</td><td>13.657076</td><td>14.762822</td><td>14.037892</td><td>13.461026</td><td>14.628848</td><td>13.901559</td><td>13.319341</td><td>14.523222</td><td>13.794634</td><td>13.208976</td><td>14.420363</td><td>13.692406</td><td>13.10497</td><td>14.3405485</td><td>13.612584</td><td>13.023545</td><td>14.282167</td><td>13.553737</td><td>12.963001</td><td>14.244243</td><td>13.515443</td><td>12.921845</td><td>0.07616808</td><td>0.08575747</td><td>0.10886908</td><td>0.10535007</td><td>0.11640918</td><td>0.112925865</td><td>0.21598709</td><td>0.19338751</td><td>0.22664279</td><td>0.01323528</td><td>0.017059084</td><td>0.018296726</td><td>0.010484105</td><td>0.013436497</td><td>0.01458323</td><td>0.009023272</td><td>0.0113886185</td><td>0.012210336</td><td>0.008051435</td><td>0.01009558</td><td>0.010757069</td><td>0.007327639</td><td>0.009165395</td><td>0.009732378</td><td>0.0066701053</td><td>0.008333975</td><td>0.008927417</td><td>0.006219527</td><td>0.007770655</td><td>0.0082246885</td><td>0.0059010857</td><td>0.0073662326</td><td>0.007784909</td><td>0.0057037543</td><td>0.007115131</td><td>0.0075006047</td><td>13.884993</td><td>55189.46</td><td>3.524745e-05</td><td>0.8267172</td><td>3.5632286</td><td>13.134548</td><td>26632.988</td><td>7.3055395e-05</td><td>0.7992621</td><td>1.3816593</td><td>12.496875</td><td>17404.445</td><td>0.00011383974</td><td>0.75451845</td><td>0.53068733</td><td>0</td><td>-1.0</td><td>-1.0</td><td>-1.0</td><td>-1</td><td>34.34</td><td>0.18</td><td>-1.0</td><td>-1.0</td><td>-1.0</td><td>-1.0</td><td>-1.0</td><td>-1.0</td><td>-1.0</td><td>-1.0</td><td>-1.0</td><td>-1</td><td>-1.0</td><td>-1</td><td>Union2_SNI</td></tr>\n",
       "<tr><td>1327008</td><td>SGA-2020 1327008</td><td>UGC00014</td><td>250</td><td>0.8958735000000001</td><td>23.2007729</td><td>Sc</td><td>25.38</td><td>1.0423175</td><td>0.5395106</td><td>0.024216752</td><td>22.831482</td><td>14.113</td><td>False</td><td>LEDA-20181114</td><td>487030</td><td>UGC00014</td><td>1</td><td>True</td><td>0.8958735000000001</td><td>23.2007729</td><td>1.0423175</td><td>0009p232</td><td>0.8958620610956882</td><td>23.200726856714155</td><td>2.5702791</td><td>SB26</td><td>18.948963</td><td>0.60621285</td><td>0.8954368391501071</td><td>23.20053581449864</td><td>58.4263</td><td>31.541191</td><td>32.8187</td><td>36.071968</td><td>15.376917</td><td>20.431486</td><td>25.758154</td><td>32.029892</td><td>39.031902</td><td>47.955307</td><td>57.89139</td><td>67.703354</td><td>77.108376</td><td>15.255352</td><td>14.51565</td><td>13.928576</td><td>14.960389</td><td>14.238125</td><td>13.657076</td><td>14.762822</td><td>14.037892</td><td>13.461026</td><td>14.628848</td><td>13.901559</td><td>13.319341</td><td>14.523222</td><td>13.794634</td><td>13.208976</td><td>14.420363</td><td>13.692406</td><td>13.10497</td><td>14.3405485</td><td>13.612584</td><td>13.023545</td><td>14.282167</td><td>13.553737</td><td>12.963001</td><td>14.244243</td><td>13.515443</td><td>12.921845</td><td>0.07616808</td><td>0.08575747</td><td>0.10886908</td><td>0.10535007</td><td>0.11640918</td><td>0.112925865</td><td>0.21598709</td><td>0.19338751</td><td>0.22664279</td><td>0.01323528</td><td>0.017059084</td><td>0.018296726</td><td>0.010484105</td><td>0.013436497</td><td>0.01458323</td><td>0.009023272</td><td>0.0113886185</td><td>0.012210336</td><td>0.008051435</td><td>0.01009558</td><td>0.010757069</td><td>0.007327639</td><td>0.009165395</td><td>0.009732378</td><td>0.0066701053</td><td>0.008333975</td><td>0.008927417</td><td>0.006219527</td><td>0.007770655</td><td>0.0082246885</td><td>0.0059010857</td><td>0.0073662326</td><td>0.007784909</td><td>0.0057037543</td><td>0.007115131</td><td>0.0075006047</td><td>13.884993</td><td>55189.46</td><td>3.524745e-05</td><td>0.8267172</td><td>3.5632286</td><td>13.134548</td><td>26632.988</td><td>7.3055395e-05</td><td>0.7992621</td><td>1.3816593</td><td>12.496875</td><td>17404.445</td><td>0.00011383974</td><td>0.75451845</td><td>0.53068733</td><td>0</td><td>-1.0</td><td>-1.0</td><td>-1.0</td><td>-1</td><td>35.272</td><td>0.185</td><td>35.241</td><td>0.204</td><td>35.282</td><td>0.192</td><td>35.279</td><td>0.177</td><td>-1.0</td><td>-1.0</td><td>-1.0</td><td>-1</td><td>-1.0</td><td>-1</td><td>Constitution_SNI</td></tr>\n",
       "<tr><td>412276</td><td>SGA-2020 412276</td><td>PGC000282</td><td>282</td><td>1.006308</td><td>-11.174213</td><td>Sa</td><td>0.0</td><td>0.8933054</td><td>0.81096107</td><td>0.037892878</td><td>23.308481</td><td>14.925</td><td>False</td><td>LEDA-20181114</td><td>148949</td><td>PGC000282_GROUP</td><td>2</td><td>True</td><td>1.0047861686959476</td><td>-11.175775630773337</td><td>1.0229776</td><td>0008m112</td><td>1.0063324460802996</td><td>-11.174295487734916</td><td>1.1275401</td><td>SB26</td><td>121.04507</td><td>0.74517024</td><td>1.0064314957086224</td><td>-11.1742996531527</td><td>29.630356</td><td>15.441837</td><td>14.261043</td><td>13.776371</td><td>6.9159293</td><td>10.511812</td><td>14.476256</td><td>18.945965</td><td>23.677198</td><td>27.131773</td><td>29.855072</td><td>31.946638</td><td>33.826202</td><td>16.998072</td><td>16.271227</td><td>15.773948</td><td>16.421417</td><td>15.746347</td><td>15.261113</td><td>16.06563</td><td>15.426125</td><td>14.945458</td><td>15.757968</td><td>15.156549</td><td>14.690318</td><td>15.533391</td><td>14.967528</td><td>14.519767</td><td>15.42424</td><td>14.873592</td><td>14.434588</td><td>15.362994</td><td>14.82303</td><td>14.388254</td><td>15.335261</td><td>14.798643</td><td>14.366543</td><td>15.321649</td><td>14.785383</td><td>14.35419</td><td>0.024478568</td><td>0.046063315</td><td>0.071119964</td><td>0.1277795</td><td>0.13895176</td><td>0.14614888</td><td>0.11599555</td><td>0.12465998</td><td>0.21829098</td><td>0.00900605</td><td>0.012086762</td><td>0.009053486</td><td>0.0064312303</td><td>0.008261258</td><td>0.006485159</td><td>0.0054555624</td><td>0.0066950303</td><td>0.005318032</td><td>0.00475841</td><td>0.0056489683</td><td>0.0045396844</td><td>0.004206021</td><td>0.0049635004</td><td>0.004063674</td><td>0.003997542</td><td>0.004684714</td><td>0.003878518</td><td>0.0039073145</td><td>0.004560675</td><td>0.003800786</td><td>0.003874935</td><td>0.004506827</td><td>0.0037751305</td><td>0.0038544354</td><td>0.0044748043</td><td>0.003756263</td><td>15.230915</td><td>0.25454077</td><td>152.94417</td><td>4.8950334</td><td>40.332214</td><td>14.683679</td><td>0.2849832</td><td>54.50756</td><td>4.0331326</td><td>19.36555</td><td>14.236459</td><td>0.3515615</td><td>21.902239</td><td>3.3430388</td><td>21.991396</td><td>0</td><td>-1.0</td><td>-1.0</td><td>-1.0</td><td>-1</td><td>36.08</td><td>0.13</td><td>-1.0</td><td>-1.0</td><td>-1.0</td><td>-1.0</td><td>-1.0</td><td>-1.0</td><td>-1.0</td><td>-1.0</td><td>-1.0</td><td>-1</td><td>-1.0</td><td>-1</td><td>Stahl_SNI</td></tr>\n",
       "<tr><td>412276</td><td>SGA-2020 412276</td><td>PGC000282</td><td>282</td><td>1.006308</td><td>-11.174213</td><td>Sa</td><td>0.0</td><td>0.8933054</td><td>0.81096107</td><td>0.037892878</td><td>23.308481</td><td>14.925</td><td>False</td><td>LEDA-20181114</td><td>148949</td><td>PGC000282_GROUP</td><td>2</td><td>True</td><td>1.0047861686959476</td><td>-11.175775630773337</td><td>1.0229776</td><td>0008m112</td><td>1.0063324460802996</td><td>-11.174295487734916</td><td>1.1275401</td><td>SB26</td><td>121.04507</td><td>0.74517024</td><td>1.0064314957086224</td><td>-11.1742996531527</td><td>29.630356</td><td>15.441837</td><td>14.261043</td><td>13.776371</td><td>6.9159293</td><td>10.511812</td><td>14.476256</td><td>18.945965</td><td>23.677198</td><td>27.131773</td><td>29.855072</td><td>31.946638</td><td>33.826202</td><td>16.998072</td><td>16.271227</td><td>15.773948</td><td>16.421417</td><td>15.746347</td><td>15.261113</td><td>16.06563</td><td>15.426125</td><td>14.945458</td><td>15.757968</td><td>15.156549</td><td>14.690318</td><td>15.533391</td><td>14.967528</td><td>14.519767</td><td>15.42424</td><td>14.873592</td><td>14.434588</td><td>15.362994</td><td>14.82303</td><td>14.388254</td><td>15.335261</td><td>14.798643</td><td>14.366543</td><td>15.321649</td><td>14.785383</td><td>14.35419</td><td>0.024478568</td><td>0.046063315</td><td>0.071119964</td><td>0.1277795</td><td>0.13895176</td><td>0.14614888</td><td>0.11599555</td><td>0.12465998</td><td>0.21829098</td><td>0.00900605</td><td>0.012086762</td><td>0.009053486</td><td>0.0064312303</td><td>0.008261258</td><td>0.006485159</td><td>0.0054555624</td><td>0.0066950303</td><td>0.005318032</td><td>0.00475841</td><td>0.0056489683</td><td>0.0045396844</td><td>0.004206021</td><td>0.0049635004</td><td>0.004063674</td><td>0.003997542</td><td>0.004684714</td><td>0.003878518</td><td>0.0039073145</td><td>0.004560675</td><td>0.003800786</td><td>0.003874935</td><td>0.004506827</td><td>0.0037751305</td><td>0.0038544354</td><td>0.0044748043</td><td>0.003756263</td><td>15.230915</td><td>0.25454077</td><td>152.94417</td><td>4.8950334</td><td>40.332214</td><td>14.683679</td><td>0.2849832</td><td>54.50756</td><td>4.0331326</td><td>19.36555</td><td>14.236459</td><td>0.3515615</td><td>21.902239</td><td>3.3430388</td><td>21.991396</td><td>0</td><td>-1.0</td><td>-1.0</td><td>-1.0</td><td>-1</td><td>36.11</td><td>0.04</td><td>-1.0</td><td>-1.0</td><td>-1.0</td><td>-1.0</td><td>-1.0</td><td>-1.0</td><td>-1.0</td><td>-1.0</td><td>-1.0</td><td>-1</td><td>-1.0</td><td>-1</td><td>CSP1_Burns18_SN1</td></tr>\n",
       "<tr><td>559852</td><td>SGA-2020 559852</td><td>UGC00040</td><td>415</td><td>1.4516985</td><td>27.449222</td><td>SBb</td><td>97.55</td><td>1.069055</td><td>0.62086904</td><td>0.025070343</td><td>23.831482</td><td>15.058</td><td>False</td><td>LEDA-20181114</td><td>204075</td><td>UGC00040</td><td>1</td><td>True</td><td>1.4516985</td><td>27.449222</td><td>1.069055</td><td>0015p275</td><td>1.451607253120829</td><td>27.449348263155745</td><td>1.3461109</td><td>SB26</td><td>97.71713</td><td>0.65854603</td><td>1.4512917864565076</td><td>27.44952201883348</td><td>37.563385</td><td>11.548384</td><td>9.790124</td><td>8.583918</td><td>13.389874</td><td>17.402458</td><td>22.221514</td><td>26.643656</td><td>30.451092</td><td>33.0199</td><td>35.30686</td><td>37.66482</td><td>40.383327</td><td>15.327095</td><td>14.367415</td><td>13.623496</td><td>15.144156</td><td>14.206807</td><td>13.476655</td><td>14.977016</td><td>14.06156</td><td>13.345406</td><td>14.837744</td><td>13.943513</td><td>13.242147</td><td>14.755721</td><td>13.874073</td><td>13.181175</td><td>14.72527</td><td>13.847412</td><td>13.156875</td><td>14.707554</td><td>13.831696</td><td>13.14269</td><td>14.695461</td><td>13.821782</td><td>13.13261</td><td>14.686472</td><td>13.813511</td><td>13.124669</td><td>0.056579683</td><td>0.068786845</td><td>0.075682506</td><td>0.048749138</td><td>0.031492256</td><td>0.030710308</td><td>0.04028154</td><td>0.091116</td><td>0.10068378</td><td>0.012191934</td><td>0.012639024</td><td>0.012882702</td><td>0.010416451</td><td>0.010979625</td><td>0.011311836</td><td>0.009007676</td><td>0.009649677</td><td>0.01005341</td><td>0.007962475</td><td>0.008682634</td><td>0.009162177</td><td>0.007379481</td><td>0.008138072</td><td>0.008654727</td><td>0.0071773073</td><td>0.007941759</td><td>0.008464082</td><td>0.0070620854</td><td>0.007828132</td><td>0.008354807</td><td>0.006994736</td><td>0.007767408</td><td>0.008287585</td><td>0.006927806</td><td>0.007698987</td><td>0.00821842</td><td>14.685015</td><td>0.056187034</td><td>4119974.8</td><td>12.762229</td><td>1.9100422</td><td>13.811461</td><td>0.05145322</td><td>1741963.2</td><td>12.062982</td><td>0.8025874</td><td>13.120745</td><td>0.05239073</td><td>338519.3</td><td>10.690112</td><td>0.37038615</td><td>0</td><td>-1.0</td><td>-1.0</td><td>-1.0</td><td>-1</td><td>34.44</td><td>0.19</td><td>0.0</td><td>0.0</td><td>-1.0</td><td>-1.0</td><td>-1.0</td><td>-1.0</td><td>-1.0</td><td>-1.0</td><td>-1.0</td><td>-1</td><td>-1.0</td><td>-1</td><td>SNIa_calibration</td></tr>\n",
       "<tr><td>...</td><td>...</td><td>...</td><td>...</td><td>...</td><td>...</td><td>...</td><td>...</td><td>...</td><td>...</td><td>...</td><td>...</td><td>...</td><td>...</td><td>...</td><td>...</td><td>...</td><td>...</td><td>...</td><td>...</td><td>...</td><td>...</td><td>...</td><td>...</td><td>...</td><td>...</td><td>...</td><td>...</td><td>...</td><td>...</td><td>...</td><td>...</td><td>...</td><td>...</td><td>...</td><td>...</td><td>...</td><td>...</td><td>...</td><td>...</td><td>...</td><td>...</td><td>...</td><td>...</td><td>...</td><td>...</td><td>...</td><td>...</td><td>...</td><td>...</td><td>...</td><td>...</td><td>...</td><td>...</td><td>...</td><td>...</td><td>...</td><td>...</td><td>...</td><td>...</td><td>...</td><td>...</td><td>...</td><td>...</td><td>...</td><td>...</td><td>...</td><td>...</td><td>...</td><td>...</td><td>...</td><td>...</td><td>...</td><td>...</td><td>...</td><td>...</td><td>...</td><td>...</td><td>...</td><td>...</td><td>...</td><td>...</td><td>...</td><td>...</td><td>...</td><td>...</td><td>...</td><td>...</td><td>...</td><td>...</td><td>...</td><td>...</td><td>...</td><td>...</td><td>...</td><td>...</td><td>...</td><td>...</td><td>...</td><td>...</td><td>...</td><td>...</td><td>...</td><td>...</td><td>...</td><td>...</td><td>...</td><td>...</td><td>...</td><td>...</td><td>...</td><td>...</td><td>...</td><td>...</td><td>...</td><td>...</td><td>...</td><td>...</td><td>...</td><td>...</td><td>...</td><td>...</td><td>...</td><td>...</td><td>...</td><td>...</td><td>...</td><td>...</td><td>...</td><td>...</td><td>...</td><td>...</td><td>...</td><td>...</td><td>...</td><td>...</td><td>...</td><td>...</td><td>...</td><td>...</td><td>...</td><td>...</td></tr>\n",
       "<tr><td>1114827</td><td>SGA-2020 1114827</td><td>SDSSJ152241.16+505836.0</td><td>3492136</td><td>230.671563</td><td>50.9766327</td><td>S?</td><td>134.62</td><td>0.3499452</td><td>0.52844524</td><td>0.034682326</td><td>24.513481</td><td>18.165</td><td>False</td><td>LEDA-20181114</td><td>407423</td><td>SDSSJ152241.16+505836.0</td><td>1</td><td>True</td><td>230.671563</td><td>50.9766327</td><td>0.3499452</td><td>2308p510</td><td>230.67149650848938</td><td>50.976698931704554</td><td>0.40369403</td><td>SB26</td><td>136.2923</td><td>0.5210742</td><td>230.6713536784759</td><td>50.9767935553224</td><td>8.707252</td><td>4.024453</td><td>3.7649772</td><td>3.2152915</td><td>2.843959</td><td>3.7331753</td><td>4.6747036</td><td>5.6807203</td><td>6.747214</td><td>7.9118013</td><td>9.242974</td><td>10.728313</td><td>12.110821</td><td>19.01689</td><td>18.490168</td><td>18.107788</td><td>18.7199</td><td>18.198229</td><td>17.843998</td><td>18.521132</td><td>18.00188</td><td>17.662035</td><td>18.379488</td><td>17.860159</td><td>17.528456</td><td>18.277264</td><td>17.757753</td><td>17.431002</td><td>18.201416</td><td>17.681934</td><td>17.365206</td><td>18.140259</td><td>17.624998</td><td>17.31376</td><td>18.092737</td><td>17.580622</td><td>17.287037</td><td>18.057943</td><td>17.552387</td><td>17.275381</td><td>0.020908773</td><td>0.02967229</td><td>0.034829054</td><td>0.041553527</td><td>0.043064892</td><td>0.064858496</td><td>0.050884597</td><td>0.1249622</td><td>0.14960545</td><td>0.024110228</td><td>0.025038514</td><td>0.028002689</td><td>0.022364007</td><td>0.022422906</td><td>0.025067484</td><td>0.020480053</td><td>0.02042491</td><td>0.022780254</td><td>0.01901033</td><td>0.018874768</td><td>0.020997576</td><td>0.017832244</td><td>0.017736472</td><td>0.019813092</td><td>0.016938563</td><td>0.016924923</td><td>0.018938428</td><td>0.016218815</td><td>0.016263524</td><td>0.018302955</td><td>0.015632968</td><td>0.015735207</td><td>0.018026091</td><td>0.015208472</td><td>0.015418076</td><td>0.017972406</td><td>17.89603</td><td>1.2892838</td><td>0.18332775</td><td>1.6086125</td><td>0.01729646</td><td>17.439402</td><td>0.761815</td><td>0.23484139</td><td>2.0176356</td><td>0.019197673</td><td>17.234407</td><td>0.3176389</td><td>0.2342281</td><td>3.2807162</td><td>0.2057274</td><td>0</td><td>-1.0</td><td>-1.0</td><td>-1.0</td><td>-1</td><td>35.91</td><td>0.13</td><td>-1.0</td><td>-1.0</td><td>-1.0</td><td>-1.0</td><td>-1.0</td><td>-1.0</td><td>-1.0</td><td>-1.0</td><td>-1.0</td><td>-1</td><td>-1.0</td><td>-1</td><td>Stahl_SNI</td></tr>\n",
       "<tr><td>1273956</td><td>SGA-2020 1273956</td><td>SDSSJ080519.59+225751.1</td><td>3522201</td><td>121.33165349999999</td><td>22.964228100000003</td><td>S?</td><td>24.8</td><td>0.35809645</td><td>0.41783035</td><td>0.044734947</td><td>24.683481</td><td>18.285</td><td>False</td><td>LEDA-20181114</td><td>467528</td><td>SDSSJ080519.59+225751.1</td><td>1</td><td>True</td><td>121.33165349999999</td><td>22.964228100000003</td><td>0.35809645</td><td>1213p230</td><td>121.33167596950221</td><td>22.964180244009658</td><td>0.44724724</td><td>SB26</td><td>24.712828</td><td>0.35687548</td><td>121.3316119275072</td><td>22.964273816956975</td><td>8.422517</td><td>4.7797985</td><td>4.410731</td><td>4.052565</td><td>4.611088</td><td>6.0453367</td><td>7.434638</td><td>8.708089</td><td>9.745984</td><td>10.636916</td><td>11.345493</td><td>12.442951</td><td>13.417418</td><td>18.55646</td><td>17.7611</td><td>17.121012</td><td>18.26455</td><td>17.490347</td><td>16.870941</td><td>18.072052</td><td>17.319424</td><td>16.716051</td><td>17.945612</td><td>17.207617</td><td>16.615637</td><td>17.872269</td><td>17.144451</td><td>16.56452</td><td>17.832615</td><td>17.104586</td><td>16.53675</td><td>17.806732</td><td>17.091509</td><td>16.52193</td><td>17.792835</td><td>17.075605</td><td>16.50844</td><td>17.783863</td><td>17.0683</td><td>16.503597</td><td>0.077108294</td><td>0.105575</td><td>0.13374034</td><td>0.10742287</td><td>0.17933446</td><td>0.13549069</td><td>0.098694175</td><td>0.21075176</td><td>0.16404799</td><td>0.051038604</td><td>0.054198198</td><td>0.058437712</td><td>0.04685808</td><td>0.04886825</td><td>0.05212144</td><td>0.043626286</td><td>0.045316026</td><td>0.04807476</td><td>0.041277017</td><td>0.04278714</td><td>0.045254458</td><td>0.039737232</td><td>0.04119678</td><td>0.043720305</td><td>0.038762085</td><td>0.04010807</td><td>0.042817473</td><td>0.038062245</td><td>0.03971535</td><td>0.04233394</td><td>0.037648212</td><td>0.039209656</td><td>0.041851852</td><td>0.037365355</td><td>0.038967982</td><td>0.04168246</td><td>17.762953</td><td>0.16362274</td><td>0.802573</td><td>6.5149875</td><td>0.06236565</td><td>17.048803</td><td>0.1599886</td><td>0.68999845</td><td>6.1889033</td><td>0.070013046</td><td>16.486261</td><td>0.16143681</td><td>0.5419495</td><td>5.828847</td><td>0.023982069</td><td>0</td><td>-1.0</td><td>-1.0</td><td>-1.0</td><td>-1</td><td>36.25</td><td>0.18</td><td>-1.0</td><td>-1.0</td><td>-1.0</td><td>-1.0</td><td>-1.0</td><td>-1.0</td><td>-1.0</td><td>-1.0</td><td>-1.0</td><td>-1</td><td>-1.0</td><td>-1</td><td>Stahl_SNI</td></tr>\n",
       "<tr><td>276874</td><td>SGA-2020 276874</td><td>2MASXJ13211289+4015564</td><td>3555214</td><td>200.3036895</td><td>40.2657612</td><td>E?</td><td>91.27</td><td>0.4246196</td><td>0.79250133</td><td>0.035053916</td><td>23.211481</td><td>16.443</td><td>False</td><td>LEDA-20181114</td><td>101413</td><td>2MASXJ13211289+4015564</td><td>1</td><td>True</td><td>200.3036895</td><td>40.2657612</td><td>0.4246196</td><td>2004p402</td><td>200.30366670903584</td><td>40.2657704874295</td><td>0.5307745</td><td>LEDA</td><td>91.27</td><td>0.79250133</td><td>200.3036895</td><td>40.2657612</td><td>-1.0</td><td>-1.0</td><td>-1.0</td><td>-1.0</td><td>-1.0</td><td>-1.0</td><td>-1.0</td><td>-1.0</td><td>-1.0</td><td>-1.0</td><td>-1.0</td><td>-1.0</td><td>-1.0</td><td>-1.0</td><td>-1.0</td><td>-1.0</td><td>-1.0</td><td>-1.0</td><td>-1.0</td><td>-1.0</td><td>-1.0</td><td>-1.0</td><td>-1.0</td><td>-1.0</td><td>-1.0</td><td>-1.0</td><td>-1.0</td><td>-1.0</td><td>-1.0</td><td>-1.0</td><td>-1.0</td><td>-1.0</td><td>-1.0</td><td>-1.0</td><td>-1.0</td><td>-1.0</td><td>-1.0</td><td>-1.0</td><td>-1.0</td><td>-1.0</td><td>-1.0</td><td>-1.0</td><td>-1.0</td><td>-1.0</td><td>-1.0</td><td>-1.0</td><td>-1.0</td><td>-1.0</td><td>-1.0</td><td>-1.0</td><td>-1.0</td><td>-1.0</td><td>-1.0</td><td>-1.0</td><td>-1.0</td><td>-1.0</td><td>-1.0</td><td>-1.0</td><td>-1.0</td><td>-1.0</td><td>-1.0</td><td>-1.0</td><td>-1.0</td><td>-1.0</td><td>-1.0</td><td>-1.0</td><td>-1.0</td><td>-1.0</td><td>-1.0</td><td>-1.0</td><td>-1.0</td><td>-1.0</td><td>-1.0</td><td>-1.0</td><td>-1.0</td><td>-1.0</td><td>-1.0</td><td>-1.0</td><td>-1.0</td><td>-1.0</td><td>-1.0</td><td>-1.0</td><td>-1.0</td><td>-1.0</td><td>-1.0</td><td>-1.0</td><td>-1.0</td><td>-1.0</td><td>-1.0</td><td>-1.0</td><td>-1.0</td><td>4</td><td>-1.0</td><td>-1.0</td><td>-1.0</td><td>-1</td><td>36.01</td><td>0.13</td><td>-1.0</td><td>-1.0</td><td>-1.0</td><td>-1.0</td><td>-1.0</td><td>-1.0</td><td>-1.0</td><td>-1.0</td><td>-1.0</td><td>-1</td><td>-1.0</td><td>-1</td><td>Stahl_SNI</td></tr>\n",
       "<tr><td>554553</td><td>SGA-2020 554553</td><td>SDSSJ000249.43+004506.6</td><td>3577012</td><td>0.706041</td><td>0.751839</td><td>S0-a</td><td>84.98</td><td>0.36057863</td><td>0.85703784</td><td>0.08652552</td><td>23.94248</td><td>17.529</td><td>False</td><td>LEDA-20181114</td><td>202611</td><td>SDSSJ000249.43+004506.6</td><td>1</td><td>True</td><td>0.706041</td><td>0.751839</td><td>0.36057863</td><td>0006p007</td><td>0.7052685880526286</td><td>0.7515041086525273</td><td>0.62748086</td><td>SB26</td><td>71.02251</td><td>0.67836833</td><td>0.7052978540250503</td><td>0.7514723411466789</td><td>14.778227</td><td>6.376742</td><td>6.329987</td><td>6.2990594</td><td>5.255263</td><td>7.881741</td><td>9.390086</td><td>10.861468</td><td>12.291297</td><td>13.757443</td><td>15.340751</td><td>17.022173</td><td>18.824427</td><td>17.742369</td><td>16.856693</td><td>16.197506</td><td>17.203472</td><td>16.324886</td><td>15.677047</td><td>17.03988</td><td>16.160055</td><td>15.511503</td><td>16.938082</td><td>16.058865</td><td>15.41134</td><td>16.873344</td><td>15.995742</td><td>15.350695</td><td>16.829042</td><td>15.952556</td><td>15.306574</td><td>16.796585</td><td>15.920445</td><td>15.274438</td><td>16.771883</td><td>15.89736</td><td>15.251453</td><td>16.755909</td><td>15.879645</td><td>15.232511</td><td>0.11460317</td><td>0.0692063</td><td>0.065552615</td><td>0.0679886</td><td>0.074556485</td><td>0.066761106</td><td>0.09472025</td><td>0.07690647</td><td>0.07979779</td><td>0.023231823</td><td>0.023715248</td><td>0.02820109</td><td>0.018988824</td><td>0.019291433</td><td>0.021411346</td><td>0.017425044</td><td>0.017760761</td><td>0.019697003</td><td>0.01625975</td><td>0.016556839</td><td>0.01826593</td><td>0.015506363</td><td>0.01572127</td><td>0.017132891</td><td>0.014940835</td><td>0.015157759</td><td>0.016492512</td><td>0.014527467</td><td>0.014741051</td><td>0.016036203</td><td>0.014218042</td><td>0.014443947</td><td>0.015713662</td><td>0.013969407</td><td>0.014233406</td><td>0.0156704</td><td>16.70716</td><td>0.61350316</td><td>0.59228474</td><td>3.1190686</td><td>0.0062886593</td><td>15.835392</td><td>0.57633084</td><td>0.6211421</td><td>3.205821</td><td>0.026784562</td><td>15.188272</td><td>0.5658951</td><td>0.6365777</td><td>3.1898878</td><td>0.07539881</td><td>0</td><td>-1.0</td><td>-1.0</td><td>-1.0</td><td>-1</td><td>37.983</td><td>0.126</td><td>-1.0</td><td>-1.0</td><td>-1.0</td><td>-1.0</td><td>-1.0</td><td>-1.0</td><td>-1.0</td><td>-1.0</td><td>-1.0</td><td>-1</td><td>-1.0</td><td>-1</td><td>LOSS_Ganeshalingam13_SN1</td></tr>\n",
       "<tr><td>474506</td><td>SGA-2020 474506</td><td>2MASXJ12592407+2820498</td><td>3799928</td><td>194.85054</td><td>28.347233199999998</td><td>S?</td><td>83.53</td><td>0.37153524</td><td>0.726106</td><td>0.06770817</td><td>23.811481</td><td>17.333</td><td>False</td><td>LEDA-20181114</td><td>172229</td><td>2MASXJ12592407+2820498</td><td>1</td><td>True</td><td>194.85054</td><td>28.347233199999998</td><td>0.37153524</td><td>1948p282</td><td>194.8505055352854</td><td>28.34719917557576</td><td>0.53895026</td><td>SB26</td><td>87.31538</td><td>0.64912796</td><td>194.8504418338237</td><td>28.34727445354061</td><td>12.159943</td><td>4.160359</td><td>3.866543</td><td>3.2716143</td><td>4.3479757</td><td>5.427159</td><td>6.5417995</td><td>7.7074184</td><td>9.033473</td><td>10.500874</td><td>12.189946</td><td>13.996174</td><td>16.168509</td><td>17.70245</td><td>16.892986</td><td>16.211628</td><td>17.519907</td><td>16.731558</td><td>16.080015</td><td>17.396557</td><td>16.619452</td><td>15.987517</td><td>17.30709</td><td>16.538094</td><td>15.920381</td><td>17.237488</td><td>16.474945</td><td>15.868666</td><td>17.185127</td><td>16.428755</td><td>15.831332</td><td>17.1421</td><td>16.38998</td><td>15.796828</td><td>17.110134</td><td>16.359432</td><td>15.771185</td><td>17.084904</td><td>16.33436</td><td>15.751581</td><td>0.028779598</td><td>0.04424667</td><td>0.044781487</td><td>0.0426444</td><td>0.04283108</td><td>0.06133143</td><td>0.07891288</td><td>0.08572148</td><td>0.12660429</td><td>0.018391902</td><td>0.020923559</td><td>0.025908979</td><td>0.017497174</td><td>0.019393422</td><td>0.023825068</td><td>0.016567467</td><td>0.018213285</td><td>0.022330021</td><td>0.015718795</td><td>0.017226089</td><td>0.021215748</td><td>0.014912508</td><td>0.016387504</td><td>0.020304013</td><td>0.014271385</td><td>0.01575628</td><td>0.019646972</td><td>0.01374942</td><td>0.01522582</td><td>0.019050691</td><td>0.013376525</td><td>0.014819059</td><td>0.018631341</td><td>0.013091454</td><td>0.014499241</td><td>0.01831783</td><td>16.990608</td><td>0.9695011</td><td>0.24175155</td><td>1.8012542</td><td>0.0069729453</td><td>16.241383</td><td>0.9818832</td><td>0.22718073</td><td>1.7086776</td><td>0.028316995</td><td>15.671174</td><td>0.8049514</td><td>0.23549543</td><td>1.6847804</td><td>0.02361801</td><td>0</td><td>-1.0</td><td>-1.0</td><td>-1.0</td><td>-1</td><td>37.55</td><td>0.0</td><td>36.99</td><td>36.99</td><td>37.0</td><td>0.16</td><td>0.0</td><td>0.0</td><td>0.0</td><td>0.0</td><td>36.97</td><td>0</td><td>0.0</td><td>0</td><td>5_Sources_SNI</td></tr>\n",
       "<tr><td>1043097</td><td>SGA-2020 1043097</td><td>2MASXJ13590394+3308172</td><td>3817166</td><td>209.76640049999997</td><td>33.138217100000006</td><td>S?</td><td>134.92</td><td>0.726106</td><td>0.6441693</td><td>0.050934568</td><td>23.943481</td><td>16.01</td><td>False</td><td>LEDA-20181114</td><td>210565</td><td>2MASXJ13590394+3308172_GROUP</td><td>3</td><td>True</td><td>209.76578993433696</td><td>33.14150960596251</td><td>0.9260237</td><td>2097p332</td><td>209.76644723434254</td><td>33.13824682465341</td><td>1.2160765</td><td>SB26</td><td>155.1088</td><td>0.60746396</td><td>209.76598783381613</td><td>33.13900742218262</td><td>32.624016</td><td>7.982447</td><td>7.1756096</td><td>3.3935559</td><td>8.622076</td><td>10.805408</td><td>13.662248</td><td>16.950022</td><td>20.981544</td><td>25.102362</td><td>28.411802</td><td>32.57074</td><td>36.482296</td><td>16.196274</td><td>15.241095</td><td>14.602144</td><td>16.069126</td><td>15.119927</td><td>14.497682</td><td>15.948036</td><td>15.003509</td><td>14.40388</td><td>15.842336</td><td>14.901446</td><td>14.3281145</td><td>15.7462435</td><td>14.810077</td><td>14.271717</td><td>15.677313</td><td>14.752023</td><td>14.250131</td><td>15.627727</td><td>14.708069</td><td>14.23965</td><td>15.587131</td><td>14.672232</td><td>14.240137</td><td>15.567438</td><td>14.656647</td><td>14.251483</td><td>0.057374645</td><td>0.04012707</td><td>0.04966264</td><td>0.075873375</td><td>0.073895685</td><td>0.1343414</td><td>0.123253815</td><td>0.09797898</td><td>0.2638614</td><td>0.043723855</td><td>0.047332514</td><td>0.052043997</td><td>0.039065957</td><td>0.042525217</td><td>0.04750709</td><td>0.034846954</td><td>0.038076703</td><td>0.04340723</td><td>0.03162615</td><td>0.03467021</td><td>0.040494073</td><td>0.028951984</td><td>0.031874977</td><td>0.03844769</td><td>0.027274184</td><td>0.030336035</td><td>0.037857357</td><td>0.025979323</td><td>0.029031659</td><td>0.03733943</td><td>0.025031473</td><td>0.028092712</td><td>0.037359457</td><td>0.024666578</td><td>0.027796395</td><td>0.037914805</td><td>15.481846</td><td>0.17060512</td><td>39.51264</td><td>3.2057078</td><td>0.091439106</td><td>14.584622</td><td>0.17741244</td><td>24.881136</td><td>3.0532267</td><td>0.065306805</td><td>14.242066</td><td>0.05601926</td><td>186.46175</td><td>7.5931706</td><td>0.11306961</td><td>0</td><td>-1.0</td><td>-1.0</td><td>-1.0</td><td>-1</td><td>36.64</td><td>0.14</td><td>-1.0</td><td>-1.0</td><td>-1.0</td><td>-1.0</td><td>-1.0</td><td>-1.0</td><td>-1.0</td><td>-1.0</td><td>-1.0</td><td>-1</td><td>-1.0</td><td>-1</td><td>Stahl_SNI</td></tr>\n",
       "<tr><td>1112235</td><td>SGA-2020 1112235</td><td>2MASXJ15195900+0454389</td><td>3844474</td><td>229.995921</td><td>4.9107734</td><td>SBbc</td><td>101.97</td><td>0.42657954</td><td>0.887156</td><td>0.07821277</td><td>23.71648</td><td>16.938</td><td>False</td><td>LEDA-20181114</td><td>406705</td><td>2MASXJ15195900+0454389</td><td>1</td><td>True</td><td>229.995921</td><td>4.9107734</td><td>0.42657954</td><td>2300p050</td><td>229.9959372417758</td><td>4.910750651416653</td><td>0.5067796</td><td>SB26</td><td>113.44692</td><td>0.96581906</td><td>229.99585176329268</td><td>4.910726838089146</td><td>13.092988</td><td>4.0300117</td><td>3.8033292</td><td>3.5104513</td><td>4.446066</td><td>5.4488616</td><td>6.51914</td><td>7.739122</td><td>9.138503</td><td>10.6042595</td><td>12.070999</td><td>13.565048</td><td>15.203389</td><td>17.235632</td><td>16.492481</td><td>15.94086</td><td>17.073921</td><td>16.34107</td><td>15.799045</td><td>16.970018</td><td>16.238752</td><td>15.700538</td><td>16.876337</td><td>16.148613</td><td>15.614183</td><td>16.800762</td><td>16.076923</td><td>15.544784</td><td>16.74856</td><td>16.028519</td><td>15.49828</td><td>16.708054</td><td>15.992277</td><td>15.464593</td><td>16.678694</td><td>15.965203</td><td>15.441368</td><td>16.661587</td><td>15.947141</td><td>15.423995</td><td>0.01587582</td><td>0.02079382</td><td>0.020289164</td><td>0.015475233</td><td>0.019831914</td><td>0.031129979</td><td>0.048567805</td><td>0.06841171</td><td>0.08396845</td><td>0.018339084</td><td>0.019953229</td><td>0.021957709</td><td>0.016180176</td><td>0.017585253</td><td>0.019425413</td><td>0.014767831</td><td>0.016038349</td><td>0.017766051</td><td>0.013523876</td><td>0.014685733</td><td>0.016262908</td><td>0.012684565</td><td>0.013841301</td><td>0.015417716</td><td>0.012103334</td><td>0.013245356</td><td>0.0147814</td><td>0.011671749</td><td>0.012816992</td><td>0.014339236</td><td>0.011323428</td><td>0.012431617</td><td>0.013910362</td><td>0.011202399</td><td>0.01230682</td><td>0.013830611</td><td>16.560862</td><td>0.5722601</td><td>0.43474144</td><td>2.0196695</td><td>0.45582312</td><td>15.862741</td><td>0.49592248</td><td>0.44819248</td><td>2.1439278</td><td>0.14507441</td><td>15.361794</td><td>0.34544572</td><td>0.5607003</td><td>2.5189993</td><td>0.083018996</td><td>0</td><td>-1.0</td><td>-1.0</td><td>-1.0</td><td>-1</td><td>35.98</td><td>0.38</td><td>-1.0</td><td>-1.0</td><td>-1.0</td><td>-1.0</td><td>-1.0</td><td>-1.0</td><td>-1.0</td><td>-1.0</td><td>-1.0</td><td>-1</td><td>-1.0</td><td>-1</td><td>Stahl_SNI</td></tr>\n",
       "<tr><td>1003592</td><td>SGA-2020 1003592</td><td>2MASXJ15383353+1320423</td><td>3850590</td><td>234.6396465</td><td>13.3451902</td><td>E</td><td>95.87</td><td>1.1066239</td><td>0.39264494</td><td>0.049239393</td><td>24.53848</td><td>15.69</td><td>False</td><td>LEDA-20181114</td><td>368395</td><td>2MASXJ15383353+1320423</td><td>1</td><td>True</td><td>234.6396465</td><td>13.3451902</td><td>1.1066239</td><td>2347p132</td><td>234.6395908136752</td><td>13.345177030781356</td><td>1.6206976</td><td>SB26</td><td>94.07573</td><td>0.45584822</td><td>234.6395139568025</td><td>13.345209703682338</td><td>34.99767</td><td>11.213743</td><td>9.405686</td><td>8.367402</td><td>11.281633</td><td>14.00367</td><td>17.225758</td><td>21.13498</td><td>25.750212</td><td>30.922585</td><td>36.52014</td><td>42.53996</td><td>48.62093</td><td>15.810586</td><td>14.869705</td><td>14.14858</td><td>15.688239</td><td>14.757163</td><td>14.045378</td><td>15.587478</td><td>14.664284</td><td>13.960757</td><td>15.499017</td><td>14.582982</td><td>13.887509</td><td>15.42523</td><td>14.514143</td><td>13.822473</td><td>15.363465</td><td>14.456938</td><td>13.769391</td><td>15.317715</td><td>14.4112015</td><td>13.728524</td><td>15.278189</td><td>14.378159</td><td>13.6969595</td><td>15.251881</td><td>14.354824</td><td>13.675302</td><td>0.024938086</td><td>0.035260793</td><td>0.03791326</td><td>0.06559653</td><td>0.08267512</td><td>0.10978768</td><td>0.14057972</td><td>0.20910272</td><td>0.22843935</td><td>0.019121418</td><td>0.021305494</td><td>0.023573628</td><td>0.01711705</td><td>0.019234283</td><td>0.02145563</td><td>0.015619952</td><td>0.01766974</td><td>0.019859327</td><td>0.014441892</td><td>0.016427407</td><td>0.018614344</td><td>0.013507282</td><td>0.015426234</td><td>0.01754158</td><td>0.0127743315</td><td>0.014641442</td><td>0.01671276</td><td>0.012235468</td><td>0.014022831</td><td>0.016068472</td><td>0.011833422</td><td>0.0136268465</td><td>0.015650487</td><td>0.011540242</td><td>0.01332285</td><td>0.015316328</td><td>15.060707</td><td>0.8174262</td><td>1.7325429</td><td>1.1945935</td><td>0.04810646</td><td>14.214338</td><td>0.47442538</td><td>3.5483978</td><td>1.4815468</td><td>0.07440192</td><td>13.544279</td><td>0.4229744</td><td>3.7780316</td><td>1.4878583</td><td>0.051716216</td><td>0</td><td>-1.0</td><td>-1.0</td><td>-1.0</td><td>-1</td><td>36.6</td><td>0.26</td><td>-1.0</td><td>-1.0</td><td>-1.0</td><td>-1.0</td><td>-1.0</td><td>-1.0</td><td>-1.0</td><td>-1.0</td><td>-1.0</td><td>-1</td><td>-1.0</td><td>-1</td><td>Stahl_SNI</td></tr>\n",
       "<tr><td>639159</td><td>SGA-2020 639159</td><td>SDSSJ101331.75+293305.0</td><td>4228874</td><td>153.382266</td><td>29.551388899999996</td><td>S?</td><td>177.82</td><td>0.34197944</td><td>0.8892011</td><td>0.04857794</td><td>23.99048</td><td>17.692</td><td>False</td><td>LEDA-20181114</td><td>234324</td><td>SDSSJ101331.75+293305.0</td><td>1</td><td>True</td><td>153.382266</td><td>29.551388899999996</td><td>0.34197944</td><td>1534p295</td><td>153.38217689624778</td><td>29.551327381594906</td><td>0.40653172</td><td>SB26</td><td>20.786428</td><td>0.89813745</td><td>153.38198060178817</td><td>29.551446656245457</td><td>10.3093</td><td>4.912087</td><td>4.839452</td><td>4.8639874</td><td>1.7325572</td><td>3.69106</td><td>5.034809</td><td>6.3818502</td><td>7.592218</td><td>8.7955</td><td>10.087028</td><td>11.226658</td><td>12.195951</td><td>19.605158</td><td>19.198208</td><td>18.991611</td><td>18.350752</td><td>18.001871</td><td>17.835688</td><td>17.898258</td><td>17.575365</td><td>17.43353</td><td>17.627695</td><td>17.323431</td><td>17.185822</td><td>17.487045</td><td>17.196184</td><td>17.059698</td><td>17.39131</td><td>17.105177</td><td>16.961287</td><td>17.323757</td><td>17.03772</td><td>16.8963</td><td>17.285948</td><td>16.998661</td><td>16.855953</td><td>17.264229</td><td>16.974092</td><td>16.83242</td><td>0.03745846</td><td>0.027276287</td><td>0.01848761</td><td>0.018490786</td><td>0.024645653</td><td>0.033425547</td><td>0.042474758</td><td>0.059255466</td><td>0.0866532</td><td>0.046854123</td><td>0.066644974</td><td>0.073335096</td><td>0.019589353</td><td>0.026844405</td><td>0.029671654</td><td>0.013967272</td><td>0.018959891</td><td>0.021089824</td><td>0.011268555</td><td>0.015272105</td><td>0.017055035</td><td>0.01001976</td><td>0.013666552</td><td>0.015343391</td><td>0.009228813</td><td>0.012621321</td><td>0.014111606</td><td>0.008720744</td><td>0.011913799</td><td>0.01344809</td><td>0.00843785</td><td>0.011518224</td><td>0.013042864</td><td>0.008283008</td><td>0.011280555</td><td>0.012835568</td><td>17.180359</td><td>0.5615758</td><td>0.30077854</td><td>3.148087</td><td>0.57504076</td><td>16.87404</td><td>0.6212751</td><td>0.30888015</td><td>2.8005686</td><td>0.6688048</td><td>16.721918</td><td>0.60686344</td><td>0.34192276</td><td>2.7357063</td><td>0.3235579</td><td>0</td><td>-1.0</td><td>-1.0</td><td>-1.0</td><td>-1</td><td>36.04</td><td>0.44</td><td>-1.0</td><td>-1.0</td><td>-1.0</td><td>-1.0</td><td>-1.0</td><td>-1.0</td><td>-1.0</td><td>-1.0</td><td>-1.0</td><td>-1</td><td>-1.0</td><td>-1</td><td>Stahl_SNI</td></tr>\n",
       "<tr><td>1281981</td><td>SGA-2020 1281981</td><td>SDSSJ134550.90+264747.4</td><td>4384817</td><td>206.4621285</td><td>26.7965933</td><td>S?</td><td>25.31</td><td>0.39719152</td><td>0.8531001</td><td>0.050402533</td><td>24.566483</td><td>17.943</td><td>False</td><td>LEDA-20181114</td><td>469640</td><td>SDSSJ134550.90+264747.4</td><td>1</td><td>True</td><td>206.4621285</td><td>26.7965933</td><td>0.39719152</td><td>2064p267</td><td>206.46214059781587</td><td>26.796520343789823</td><td>0.4454694</td><td>SB26</td><td>38.160957</td><td>0.86325216</td><td>206.4620829425037</td><td>26.796696647823882</td><td>11.021274</td><td>6.793196</td><td>8.123959</td><td>9.279049</td><td>0.40364933</td><td>1.1969014</td><td>2.7751362</td><td>4.3152137</td><td>6.204098</td><td>7.8994026</td><td>9.749019</td><td>11.489086</td><td>13.364082</td><td>23.048138</td><td>22.59077</td><td>22.209549</td><td>20.93193</td><td>20.471182</td><td>20.15102</td><td>19.634205</td><td>19.187914</td><td>18.901506</td><td>19.053621</td><td>18.632013</td><td>18.36521</td><td>18.606968</td><td>18.19375</td><td>17.93779</td><td>18.32503</td><td>17.918201</td><td>17.685394</td><td>18.155245</td><td>17.739944</td><td>17.503878</td><td>18.063652</td><td>17.643251</td><td>17.404259</td><td>17.996336</td><td>17.565388</td><td>17.328281</td><td>0.013978079</td><td>0.019843657</td><td>0.023737501</td><td>0.035943236</td><td>0.05899819</td><td>0.05285361</td><td>0.06998709</td><td>0.085430734</td><td>0.18086724</td><td>0.08726471</td><td>0.08427542</td><td>0.070231766</td><td>0.060505666</td><td>0.0494986</td><td>0.05955245</td><td>0.029255137</td><td>0.026094802</td><td>0.02919838</td><td>0.01944333</td><td>0.017780386</td><td>0.020262359</td><td>0.0145322485</td><td>0.013630254</td><td>0.015519509</td><td>0.012157334</td><td>0.011600618</td><td>0.013152493</td><td>0.010703303</td><td>0.010153969</td><td>0.0117188115</td><td>0.010067854</td><td>0.009531293</td><td>0.011126077</td><td>0.009705757</td><td>0.009134513</td><td>0.010870045</td><td>17.730515</td><td>0.82482713</td><td>0.66710836</td><td>2.0787592</td><td>17.838123</td><td>17.154177</td><td>1.087618</td><td>0.71247536</td><td>1.6201276</td><td>20.807684</td><td>16.80764</td><td>1.3582938</td><td>0.66943294</td><td>1.3448274</td><td>12.183096</td><td>0</td><td>-1.0</td><td>-1.0</td><td>-1.0</td><td>-1</td><td>36.07</td><td>0.27</td><td>-1.0</td><td>-1.0</td><td>-1.0</td><td>-1.0</td><td>-1.0</td><td>-1.0</td><td>-1.0</td><td>-1.0</td><td>-1.0</td><td>-1</td><td>-1.0</td><td>-1</td><td>Stahl_SNI</td></tr>\n",
       "</table>"
      ],
      "text/plain": [
       "<Table length=1934>\n",
       " SGA_ID    SGA_GALAXY    ... e_DM7_SN        SN_Catalog       \n",
       " int64      bytes16      ...  int64            str24          \n",
       "------- ---------------- ... -------- ------------------------\n",
       " 207638  SGA-2020 207638 ...       -1                       -1\n",
       "1327008 SGA-2020 1327008 ...       -1 LOSS_Ganeshalingam13_SN1\n",
       "1327008 SGA-2020 1327008 ...       -1         SNIa_calibration\n",
       "1327008 SGA-2020 1327008 ...       -1                Stahl_SNI\n",
       "1327008 SGA-2020 1327008 ...        0            5_Sources_SNI\n",
       "1327008 SGA-2020 1327008 ...       -1               Union2_SNI\n",
       "1327008 SGA-2020 1327008 ...       -1         Constitution_SNI\n",
       " 412276  SGA-2020 412276 ...       -1                Stahl_SNI\n",
       " 412276  SGA-2020 412276 ...       -1         CSP1_Burns18_SN1\n",
       " 559852  SGA-2020 559852 ...       -1         SNIa_calibration\n",
       "    ...              ... ...      ...                      ...\n",
       "1114827 SGA-2020 1114827 ...       -1                Stahl_SNI\n",
       "1273956 SGA-2020 1273956 ...       -1                Stahl_SNI\n",
       " 276874  SGA-2020 276874 ...       -1                Stahl_SNI\n",
       " 554553  SGA-2020 554553 ...       -1 LOSS_Ganeshalingam13_SN1\n",
       " 474506  SGA-2020 474506 ...        0            5_Sources_SNI\n",
       "1043097 SGA-2020 1043097 ...       -1                Stahl_SNI\n",
       "1112235 SGA-2020 1112235 ...       -1                Stahl_SNI\n",
       "1003592 SGA-2020 1003592 ...       -1                Stahl_SNI\n",
       " 639159  SGA-2020 639159 ...       -1                Stahl_SNI\n",
       "1281981 SGA-2020 1281981 ...       -1                Stahl_SNI"
      ]
     },
     "execution_count": 77,
     "metadata": {},
     "output_type": "execute_result"
    }
   ],
   "source": [
    "# m = (maintab2['DM_Stellar'] != -1) or (maintain2['DM1_SN'] != -1)\n",
    "disttab = maintab2[(maintab2['DM_Stellar'] != -1) | (maintab2['DM1_SN'] != -1)]\n",
    "disttab"
   ]
  },
  {
   "cell_type": "code",
   "execution_count": 81,
   "id": "d43e07a0-1cc6-4685-8890-250b3139f00d",
   "metadata": {},
   "outputs": [],
   "source": [
    "sep_max = 1.45 * u.deg\n",
    "sep_min = 0.15 * u.deg\n",
    "SGA_match = []\n",
    "with open(\"rosette_match_output_dist.txt\", \"a\") as f:\n",
    "    for i in range(len(centers)):\n",
    "        print('TILE ID: ', centers[i]['TILEID'], file = f)\n",
    "        ra, dec = centers[i]['RA'] * u.deg, centers[i]['DEC'] * u.deg\n",
    "        center = SkyCoord(ra, dec)\n",
    "        for j in range(len(disttab)):\n",
    "            ra2, dec2 = disttab[j]['RA'] * u.deg, disttab[j]['DEC'] * u.deg\n",
    "            target = SkyCoord(ra2, dec2)\n",
    "            d2d = center.separation(target)\n",
    "            msk1 = d2d < sep_max\n",
    "            msk2 = d2d > sep_min\n",
    "            if msk1 == True and msk2 == True:\n",
    "                # print('Match found')\n",
    "                SGA_match.append(disttab[j]['SGA_ID'])\n",
    "                print('Match found:', disttab[j]['SGA_ID'], file = f)\n",
    "            # print()\n",
    "            # break\n",
    "        print(file = f)\n",
    "        # break\n",
    "# f.close()"
   ]
  },
  {
   "cell_type": "code",
   "execution_count": 80,
   "id": "1abd4089-8ad8-412a-bd11-7d1c1af7a93e",
   "metadata": {},
   "outputs": [],
   "source": [
    "f.close()"
   ]
  },
  {
   "cell_type": "code",
   "execution_count": 84,
   "id": "613a9212-e691-4331-85fc-2d413dda90f3",
   "metadata": {},
   "outputs": [
    {
     "data": {
      "text/plain": [
       "array([  49524,  135945,  294387,  464075,  474506,  497874,  630029,\n",
       "        662902,  772284, 1065602, 1271764, 1351452, 1385252, 1413430,\n",
       "       2000090])"
      ]
     },
     "execution_count": 84,
     "metadata": {},
     "output_type": "execute_result"
    }
   ],
   "source": [
    "(np.unique(SGA_match))"
   ]
  },
  {
   "cell_type": "code",
   "execution_count": 85,
   "id": "96bb47f7-c896-4244-9f9e-5438cb1094d3",
   "metadata": {},
   "outputs": [
    {
     "data": {
      "text/html": [
       "<i>Table length=1</i>\n",
       "<table id=\"table46913528112704\" class=\"table-striped table-bordered table-condensed\">\n",
       "<thead><tr><th>SGA_ID</th><th>SGA_GALAXY</th><th>GALAXY</th><th>PGC</th><th>RA_LEDA</th><th>DEC_LEDA</th><th>MORPHTYPE</th><th>PA_LEDA</th><th>D25_LEDA</th><th>BA_LEDA</th><th>Z_LEDA</th><th>SB_D25_LEDA</th><th>MAG_LEDA</th><th>BYHAND</th><th>REF</th><th>GROUP_ID</th><th>GROUP_NAME</th><th>GROUP_MULT</th><th>GROUP_PRIMARY</th><th>GROUP_RA</th><th>GROUP_DEC</th><th>GROUP_DIAMETER</th><th>BRICKNAME</th><th>RA</th><th>DEC</th><th>D26</th><th>D26_REF</th><th>PA</th><th>BA</th><th>RA_MOMENT</th><th>DEC_MOMENT</th><th>SMA_MOMENT</th><th>G_SMA50</th><th>R_SMA50</th><th>Z_SMA50</th><th>SMA_SB22</th><th>SMA_SB22.5</th><th>SMA_SB23</th><th>SMA_SB23.5</th><th>SMA_SB24</th><th>SMA_SB24.5</th><th>SMA_SB25</th><th>SMA_SB25.5</th><th>SMA_SB26</th><th>G_MAG_SB22</th><th>R_MAG_SB22</th><th>Z_MAG_SB22</th><th>G_MAG_SB22.5</th><th>R_MAG_SB22.5</th><th>Z_MAG_SB22.5</th><th>G_MAG_SB23</th><th>R_MAG_SB23</th><th>Z_MAG_SB23</th><th>G_MAG_SB23.5</th><th>R_MAG_SB23.5</th><th>Z_MAG_SB23.5</th><th>G_MAG_SB24</th><th>R_MAG_SB24</th><th>Z_MAG_SB24</th><th>G_MAG_SB24.5</th><th>R_MAG_SB24.5</th><th>Z_MAG_SB24.5</th><th>G_MAG_SB25</th><th>R_MAG_SB25</th><th>Z_MAG_SB25</th><th>G_MAG_SB25.5</th><th>R_MAG_SB25.5</th><th>Z_MAG_SB25.5</th><th>G_MAG_SB26</th><th>R_MAG_SB26</th><th>Z_MAG_SB26</th><th>SMA_SB22_ERR</th><th>SMA_SB22.5_ERR</th><th>SMA_SB23_ERR</th><th>SMA_SB23.5_ERR</th><th>SMA_SB24_ERR</th><th>SMA_SB24.5_ERR</th><th>SMA_SB25_ERR</th><th>SMA_SB25.5_ERR</th><th>SMA_SB26_ERR</th><th>G_MAG_SB22_ERR</th><th>R_MAG_SB22_ERR</th><th>Z_MAG_SB22_ERR</th><th>G_MAG_SB22.5_ERR</th><th>R_MAG_SB22.5_ERR</th><th>Z_MAG_SB22.5_ERR</th><th>G_MAG_SB23_ERR</th><th>R_MAG_SB23_ERR</th><th>Z_MAG_SB23_ERR</th><th>G_MAG_SB23.5_ERR</th><th>R_MAG_SB23.5_ERR</th><th>Z_MAG_SB23.5_ERR</th><th>G_MAG_SB24_ERR</th><th>R_MAG_SB24_ERR</th><th>Z_MAG_SB24_ERR</th><th>G_MAG_SB24.5_ERR</th><th>R_MAG_SB24.5_ERR</th><th>Z_MAG_SB24.5_ERR</th><th>G_MAG_SB25_ERR</th><th>R_MAG_SB25_ERR</th><th>Z_MAG_SB25_ERR</th><th>G_MAG_SB25.5_ERR</th><th>R_MAG_SB25.5_ERR</th><th>Z_MAG_SB25.5_ERR</th><th>G_MAG_SB26_ERR</th><th>R_MAG_SB26_ERR</th><th>Z_MAG_SB26_ERR</th><th>G_COG_PARAMS_MTOT</th><th>G_COG_PARAMS_M0</th><th>G_COG_PARAMS_ALPHA1</th><th>G_COG_PARAMS_ALPHA2</th><th>G_COG_PARAMS_CHI2</th><th>R_COG_PARAMS_MTOT</th><th>R_COG_PARAMS_M0</th><th>R_COG_PARAMS_ALPHA1</th><th>R_COG_PARAMS_ALPHA2</th><th>R_COG_PARAMS_CHI2</th><th>Z_COG_PARAMS_MTOT</th><th>Z_COG_PARAMS_M0</th><th>Z_COG_PARAMS_ALPHA1</th><th>Z_COG_PARAMS_ALPHA2</th><th>Z_COG_PARAMS_CHI2</th><th>ELLIPSEBIT</th><th>DM_Stellar</th><th>e_DM_lo_Stellar</th><th>e_DM_hi_Stellar</th><th>Stellar_Catalog</th><th>DM1_SN</th><th>e_DM1_SN</th><th>DM2_SN</th><th>e_DM2_SN</th><th>DM3_SN</th><th>e_DM3_SN</th><th>DM4_SN</th><th>e_DM4_SN</th><th>DM5_SN</th><th>e_DM5_SN</th><th>DM6_SN</th><th>e_DM6_SN</th><th>DM7_SN</th><th>e_DM7_SN</th><th>SN_Catalog</th></tr></thead>\n",
       "<thead><tr><th>int64</th><th>bytes16</th><th>bytes29</th><th>int64</th><th>float64</th><th>float64</th><th>bytes21</th><th>float32</th><th>float32</th><th>float32</th><th>float32</th><th>float32</th><th>float32</th><th>bool</th><th>bytes13</th><th>int64</th><th>bytes35</th><th>int16</th><th>bool</th><th>float64</th><th>float64</th><th>float32</th><th>bytes8</th><th>float64</th><th>float64</th><th>float32</th><th>bytes4</th><th>float32</th><th>float32</th><th>float64</th><th>float64</th><th>float32</th><th>float32</th><th>float32</th><th>float32</th><th>float32</th><th>float32</th><th>float32</th><th>float32</th><th>float32</th><th>float32</th><th>float32</th><th>float32</th><th>float32</th><th>float32</th><th>float32</th><th>float32</th><th>float32</th><th>float32</th><th>float32</th><th>float32</th><th>float32</th><th>float32</th><th>float32</th><th>float32</th><th>float32</th><th>float32</th><th>float32</th><th>float32</th><th>float32</th><th>float32</th><th>float32</th><th>float32</th><th>float32</th><th>float32</th><th>float32</th><th>float32</th><th>float32</th><th>float32</th><th>float32</th><th>float32</th><th>float32</th><th>float32</th><th>float32</th><th>float32</th><th>float32</th><th>float32</th><th>float32</th><th>float32</th><th>float32</th><th>float32</th><th>float32</th><th>float32</th><th>float32</th><th>float32</th><th>float32</th><th>float32</th><th>float32</th><th>float32</th><th>float32</th><th>float32</th><th>float32</th><th>float32</th><th>float32</th><th>float32</th><th>float32</th><th>float32</th><th>float32</th><th>float32</th><th>float32</th><th>float32</th><th>float32</th><th>float32</th><th>float32</th><th>float32</th><th>float32</th><th>float32</th><th>float32</th><th>float32</th><th>float32</th><th>float32</th><th>float32</th><th>float32</th><th>float32</th><th>float32</th><th>float32</th><th>float32</th><th>float32</th><th>float32</th><th>float32</th><th>float32</th><th>float32</th><th>int32</th><th>float64</th><th>float64</th><th>float64</th><th>str16</th><th>float64</th><th>float64</th><th>float64</th><th>float64</th><th>float64</th><th>float64</th><th>float64</th><th>float64</th><th>float64</th><th>float64</th><th>float64</th><th>int64</th><th>float64</th><th>int64</th><th>str24</th></tr></thead>\n",
       "<tr><td>2000090</td><td>SGA-2020 2000090</td><td>KKH86</td><td>2807150</td><td>208.639395</td><td>4.244438</td><td>dIrr</td><td>177.0</td><td>1.12</td><td>0.61</td><td>0.00096053514</td><td>25.974571</td><td>17.1</td><td>False</td><td>LGDWARFS</td><td>528594</td><td>KKH86</td><td>1</td><td>True</td><td>208.639395</td><td>4.244438</td><td>1.12</td><td>2086p042</td><td>208.63972178060317</td><td>4.244498901726164</td><td>1.0676076</td><td>SB26</td><td>170.32007</td><td>0.5827334</td><td>208.63968031066798</td><td>4.24463009280064</td><td>22.80629</td><td>22.110266</td><td>23.175814</td><td>22.7685</td><td>-1.0</td><td>-1.0</td><td>-1.0</td><td>2.1870558</td><td>7.5076385</td><td>14.265005</td><td>21.140234</td><td>26.860487</td><td>32.02823</td><td>-1.0</td><td>-1.0</td><td>-1.0</td><td>-1.0</td><td>-1.0</td><td>-1.0</td><td>-1.0</td><td>-1.0</td><td>-1.0</td><td>21.529501</td><td>21.079931</td><td>20.850012</td><td>19.002533</td><td>18.631569</td><td>18.403715</td><td>17.85994</td><td>17.516594</td><td>17.313553</td><td>17.326685</td><td>16.972342</td><td>16.754358</td><td>17.085537</td><td>16.721113</td><td>16.503862</td><td>16.940128</td><td>16.571085</td><td>16.35761</td><td>-1.0</td><td>-1.0</td><td>-1.0</td><td>0.05646121</td><td>0.083752856</td><td>0.14392973</td><td>0.12178976</td><td>0.14702602</td><td>0.2187881</td><td>-1.0</td><td>-1.0</td><td>-1.0</td><td>-1.0</td><td>-1.0</td><td>-1.0</td><td>-1.0</td><td>-1.0</td><td>-1.0</td><td>0.032627493</td><td>0.03765607</td><td>0.06573504</td><td>0.010871151</td><td>0.012353091</td><td>0.018345706</td><td>0.00635901</td><td>0.0073078596</td><td>0.011273069</td><td>0.005092679</td><td>0.0059680473</td><td>0.008832604</td><td>0.004640285</td><td>0.005482721</td><td>0.008107432</td><td>0.0044362904</td><td>0.0052330135</td><td>0.007900765</td><td>16.524176</td><td>1.0284809</td><td>5.574703</td><td>2.0700536</td><td>0.8340654</td><td>16.116747</td><td>0.9855422</td><td>6.54034</td><td>2.072152</td><td>0.18118383</td><td>15.921342</td><td>0.9220686</td><td>7.505497</td><td>2.1670828</td><td>1.8919169</td><td>0</td><td>27.06</td><td>0.16</td><td>0.16</td><td>McConnachi</td><td>-1.0</td><td>-1.0</td><td>-1.0</td><td>-1.0</td><td>-1.0</td><td>-1.0</td><td>-1.0</td><td>-1.0</td><td>-1.0</td><td>-1.0</td><td>-1.0</td><td>-1</td><td>-1.0</td><td>-1</td><td>-1</td></tr>\n",
       "</table>"
      ],
      "text/plain": [
       "<Table length=1>\n",
       " SGA_ID    SGA_GALAXY     GALAXY   PGC   ...  DM7_SN e_DM7_SN SN_Catalog\n",
       " int64      bytes16      bytes29  int64  ... float64  int64     str24   \n",
       "------- ---------------- ------- ------- ... ------- -------- ----------\n",
       "2000090 SGA-2020 2000090   KKH86 2807150 ...    -1.0       -1         -1"
      ]
     },
     "execution_count": 85,
     "metadata": {},
     "output_type": "execute_result"
    }
   ],
   "source": [
    "disttab[disttab['SGA_ID'] == 2000090]"
   ]
  },
  {
   "cell_type": "code",
   "execution_count": 88,
   "id": "ef17ba45-8742-4a23-91db-a45f5ae87f94",
   "metadata": {},
   "outputs": [
    {
     "data": {
      "text/html": [
       "<i>Table length=50337</i>\n",
       "<table id=\"table46913532713952\" class=\"table-striped table-bordered table-condensed\">\n",
       "<thead><tr><th>PVTYPE</th><th>SGA_ID</th><th>TARGETID</th><th>FIBER_RA</th><th>FIBER_DEC</th><th>FIBERSTATUS</th><th>TILEID</th><th>TARGET_RA</th><th>TARGET_DEC</th><th>Z</th><th>ZERR</th><th>SPECTYPE</th><th>DELTACHI2</th><th>ZWARN</th></tr></thead>\n",
       "<thead><tr><th>bytes3</th><th>int64</th><th>int64</th><th>float64</th><th>float64</th><th>int64</th><th>int64</th><th>float64</th><th>float64</th><th>float64</th><th>float64</th><th>bytes6</th><th>float64</th><th>int64</th></tr></thead>\n",
       "<tr><td>EXT</td><td>17643</td><td>39633062056692288</td><td>0.0</td><td>0.0</td><td>0</td><td>80618</td><td>115.163713024568</td><td>39.2330431988692</td><td>0.0112272729370015</td><td>2.54691135614028e-06</td><td>GALAXY</td><td>199710.72255059</td><td>0</td></tr>\n",
       "<tr><td>EXT</td><td>17643</td><td>39633062056692288</td><td>115.163671928495</td><td>39.2330481232594</td><td>0</td><td>80618</td><td>115.163713024568</td><td>39.2330431988692</td><td>0.0112272729370015</td><td>2.54691135614028e-06</td><td>GALAXY</td><td>199710.72255059</td><td>0</td></tr>\n",
       "<tr><td>EXT</td><td>17643</td><td>39633062056692288</td><td>115.163676763292</td><td>39.2330716810911</td><td>0</td><td>80618</td><td>115.163713024568</td><td>39.2330431988692</td><td>0.0112272729370015</td><td>2.54691135614028e-06</td><td>GALAXY</td><td>199710.72255059</td><td>0</td></tr>\n",
       "<tr><td>EXT</td><td>17643</td><td>39633062056692288</td><td>115.163687172584</td><td>39.2330595735952</td><td>0</td><td>80618</td><td>115.163713024568</td><td>39.2330431988692</td><td>0.0112272729370015</td><td>2.54691135614028e-06</td><td>GALAXY</td><td>199710.72255059</td><td>0</td></tr>\n",
       "<tr><td>EXT</td><td>17643</td><td>39633062056692288</td><td>115.163687272099</td><td>39.2330517354585</td><td>0</td><td>80618</td><td>115.163713024568</td><td>39.2330431988692</td><td>0.0112272729370015</td><td>2.54691135614028e-06</td><td>GALAXY</td><td>199710.72255059</td><td>0</td></tr>\n",
       "<tr><td>EXT</td><td>17643</td><td>39633062056692288</td><td>115.163687614895</td><td>39.2330239448729</td><td>0</td><td>80618</td><td>115.163713024568</td><td>39.2330431988692</td><td>0.0112272729370015</td><td>2.54691135614028e-06</td><td>GALAXY</td><td>199710.72255059</td><td>0</td></tr>\n",
       "<tr><td>EXT</td><td>17643</td><td>39633062056692288</td><td>115.163692746003</td><td>39.2330238257014</td><td>0</td><td>80618</td><td>115.163713024568</td><td>39.2330431988692</td><td>0.0112272729370015</td><td>2.54691135614028e-06</td><td>GALAXY</td><td>199710.72255059</td><td>0</td></tr>\n",
       "<tr><td>EXT</td><td>17643</td><td>39633062056692288</td><td>115.163702566258</td><td>39.2330592761066</td><td>0</td><td>80618</td><td>115.163713024568</td><td>39.2330431988692</td><td>0.0112272729370015</td><td>2.54691135614028e-06</td><td>GALAXY</td><td>199710.72255059</td><td>0</td></tr>\n",
       "<tr><td>EXT</td><td>17643</td><td>39633062056692288</td><td>115.163702811737</td><td>39.2330394673576</td><td>0</td><td>80618</td><td>115.163713024568</td><td>39.2330431988692</td><td>0.0112272729370015</td><td>2.54691135614028e-06</td><td>GALAXY</td><td>199710.72255059</td><td>0</td></tr>\n",
       "<tr><td>EXT</td><td>17643</td><td>39633062056692288</td><td>115.163713024568</td><td>39.2330431988692</td><td>0</td><td>80618</td><td>115.163713024568</td><td>39.2330431988692</td><td>0.0112272729370015</td><td>2.54691135614028e-06</td><td>GALAXY</td><td>199710.72255059</td><td>0</td></tr>\n",
       "<tr><td>...</td><td>...</td><td>...</td><td>...</td><td>...</td><td>...</td><td>...</td><td>...</td><td>...</td><td>...</td><td>...</td><td>...</td><td>...</td><td>...</td></tr>\n",
       "<tr><td>TFT</td><td>5002834</td><td>39633332262142424</td><td>184.479163492579</td><td>55.6283412091969</td><td>0</td><td>81069</td><td>184.47917781956</td><td>55.6283335551213</td><td>0.117793341958439</td><td>7.43533476024843e-06</td><td>GALAXY</td><td>2499.71438142657</td><td>0</td></tr>\n",
       "<tr><td>TFT</td><td>5002854</td><td>39633343125391143</td><td>262.289543928086</td><td>56.6239412312086</td><td>0</td><td>20746</td><td>262.289572762347</td><td>56.6239366173946</td><td>0.0916427447513874</td><td>8.14525340740346e-06</td><td>GALAXY</td><td>816.592183232307</td><td>0</td></tr>\n",
       "<tr><td>TFT</td><td>5002867</td><td>39633349773361398</td><td>262.255588401596</td><td>56.9397682390049</td><td>0</td><td>20746</td><td>262.255624725747</td><td>56.9397752596294</td><td>0.0630771932729861</td><td>7.2799852456132e-06</td><td>GALAXY</td><td>861.639057200169</td><td>0</td></tr>\n",
       "<tr><td>TFT</td><td>5002871</td><td>39633353028144264</td><td>259.02750529209</td><td>57.1929782516413</td><td>0</td><td>20746</td><td>259.027555301625</td><td>57.1929951000212</td><td>0.0253098742211238</td><td>4.60144109111536e-06</td><td>GALAXY</td><td>1008.08463830873</td><td>0</td></tr>\n",
       "<tr><td>TFT</td><td>5002960</td><td>39633433382617123</td><td>275.095997459549</td><td>63.8962717495826</td><td>0</td><td>20507</td><td>275.096050401914</td><td>63.8962540115316</td><td>0.0712444567599144</td><td>1.27243778806407e-05</td><td>GALAXY</td><td>265.632686032914</td><td>0</td></tr>\n",
       "<tr><td>TFT</td><td>5002991</td><td>39633454039564470</td><td>297.168755852476</td><td>66.0538447189418</td><td>0</td><td>20504</td><td>297.168759557762</td><td>66.0538847558776</td><td>0.222522321969458</td><td>1.38471724762845e-05</td><td>GALAXY</td><td>35.0426686070859</td><td>0</td></tr>\n",
       "<tr><td>TFT</td><td>5003027</td><td>39633483877845276</td><td>271.406909017715</td><td>69.3275856399569</td><td>0</td><td>20040</td><td>271.406827817855</td><td>69.327558937278</td><td>0.0936798503441587</td><td>4.38694862700492e-06</td><td>GALAXY</td><td>7657.60778868198</td><td>0</td></tr>\n",
       "<tr><td>TFT</td><td>5003122</td><td>39633565075376334</td><td>147.040159308329</td><td>83.4784960368452</td><td>512</td><td>80655</td><td>146.99773214879</td><td>83.4665456719823</td><td>-0.00199569129234795</td><td>4.13114935733491e-48</td><td>STAR</td><td>1.94266889222573e+84</td><td>1570</td></tr>\n",
       "<tr><td>TFT</td><td>5003122</td><td>39633565075376334</td><td>147.040552511968</td><td>83.4784586548945</td><td>512</td><td>80655</td><td>146.99773214879</td><td>83.4665456719823</td><td>-0.00199569129234795</td><td>4.13114935733491e-48</td><td>STAR</td><td>1.94266889222573e+84</td><td>1570</td></tr>\n",
       "<tr><td>TFT</td><td>5003122</td><td>39633565075376334</td><td>147.040733115934</td><td>83.4784538506359</td><td>512</td><td>80655</td><td>146.99773214879</td><td>83.4665456719823</td><td>-0.00199569129234795</td><td>4.13114935733491e-48</td><td>STAR</td><td>1.94266889222573e+84</td><td>1570</td></tr>\n",
       "</table>"
      ],
      "text/plain": [
       "<Table length=50337>\n",
       "PVTYPE  SGA_ID      TARGETID     ... SPECTYPE      DELTACHI2       ZWARN\n",
       "bytes3  int64        int64       ...  bytes6        float64        int64\n",
       "------ ------- ----------------- ... -------- -------------------- -----\n",
       "   EXT   17643 39633062056692288 ...   GALAXY      199710.72255059     0\n",
       "   EXT   17643 39633062056692288 ...   GALAXY      199710.72255059     0\n",
       "   EXT   17643 39633062056692288 ...   GALAXY      199710.72255059     0\n",
       "   EXT   17643 39633062056692288 ...   GALAXY      199710.72255059     0\n",
       "   EXT   17643 39633062056692288 ...   GALAXY      199710.72255059     0\n",
       "   EXT   17643 39633062056692288 ...   GALAXY      199710.72255059     0\n",
       "   EXT   17643 39633062056692288 ...   GALAXY      199710.72255059     0\n",
       "   EXT   17643 39633062056692288 ...   GALAXY      199710.72255059     0\n",
       "   EXT   17643 39633062056692288 ...   GALAXY      199710.72255059     0\n",
       "   EXT   17643 39633062056692288 ...   GALAXY      199710.72255059     0\n",
       "   ...     ...               ... ...      ...                  ...   ...\n",
       "   TFT 5002834 39633332262142424 ...   GALAXY     2499.71438142657     0\n",
       "   TFT 5002854 39633343125391143 ...   GALAXY     816.592183232307     0\n",
       "   TFT 5002867 39633349773361398 ...   GALAXY     861.639057200169     0\n",
       "   TFT 5002871 39633353028144264 ...   GALAXY     1008.08463830873     0\n",
       "   TFT 5002960 39633433382617123 ...   GALAXY     265.632686032914     0\n",
       "   TFT 5002991 39633454039564470 ...   GALAXY     35.0426686070859     0\n",
       "   TFT 5003027 39633483877845276 ...   GALAXY     7657.60778868198     0\n",
       "   TFT 5003122 39633565075376334 ...     STAR 1.94266889222573e+84  1570\n",
       "   TFT 5003122 39633565075376334 ...     STAR 1.94266889222573e+84  1570\n",
       "   TFT 5003122 39633565075376334 ...     STAR 1.94266889222573e+84  1570"
      ]
     },
     "execution_count": 88,
     "metadata": {},
     "output_type": "execute_result"
    }
   ],
   "source": [
    "# Change use_cached = False if we want to redo the query at some point.\n",
    "use_cached = True\n",
    "\n",
    "if os.path.exists('cache/tf_targets_everest.fits') and use_cached:\n",
    "    tf_targets = Table.read('cache/tf_targets_everest.fits')\n",
    "else:\n",
    "    try:\n",
    "        db = psycopg2.connect(host='decatdb.lbl.gov', database='desi', user='desi')\n",
    "        cursor = db.cursor()\n",
    "        \n",
    "        query = \"\"\"SELECT DISTINCT pr.pvtype, pr.sga_id, fd.targetid, fd.fiber_ra, fd.fiber_dec, fd.fiberstatus, fd.tileid, zd.target_ra, zd.target_dec, zd.z, zd.zerr, zd.spectype, zd.deltachi2, zd.zwarn\n",
    "                   FROM everest.ztile_cumulative_fibermap fd\n",
    "                   INNER JOIN\n",
    "                       everest.ztile_cumulative_redshifts zd ON zd.targetid = fd.targetid\n",
    "                   INNER JOIN pv.proposals pr ON (CAST(pr.ra*10000 AS INTEGER) = CAST(zd.target_ra*10000 AS INTEGER)) AND \n",
    "                                                 (CAST(pr.dec*10000 AS INTEGER) = CAST(zd.target_dec*10000 AS INTEGER))\n",
    "                   WHERE (pr.pvtype LIKE 'TFT' or pr.pvtype LIKE 'EXT' or pr.pvtype LIKE 'SGA');\"\"\"\n",
    "        \n",
    "        cursor.execute(query)\n",
    "        rows = cursor.fetchall()\n",
    "        tf_targets = Table(list(map(list, zip(*rows))), \n",
    "                           names=['PVTYPE', 'SGA_ID', 'TARGETID', 'FIBER_RA', 'FIBER_DEC', 'FIBERSTATUS', 'TILEID', \n",
    "                                  'TARGET_RA', 'TARGET_DEC', 'Z', 'ZERR', 'SPECTYPE', 'DELTACHI2', 'ZWARN'])\n",
    "        tf_targets.write('cache/tf_targets_everest.fits', overwrite=True)\n",
    "        \n",
    "    except (Exception, psycopg2.errors) as error:\n",
    "        print(error)\n",
    "    finally:\n",
    "        if db is not None:\n",
    "            db.close()\n",
    "            \n",
    "tf_targets"
   ]
  },
  {
   "cell_type": "code",
   "execution_count": 89,
   "id": "620a3a40-ecdb-4767-88be-eb24849b4999",
   "metadata": {},
   "outputs": [],
   "source": [
    "l = np.unique(SGA_match)\n",
    "match = []\n",
    "SGA_ids = list(tf_targets['SGA_ID'])\n",
    "for l_id in l:\n",
    "    for SGA_id in SGA_ids:\n",
    "        if SGA_id == l_id:\n",
    "            # print(SGA_id)\n",
    "            match.append(SGA_id)"
   ]
  },
  {
   "cell_type": "code",
   "execution_count": 91,
   "id": "9da4e9c0-1861-4fdf-8b77-430b51fdd528",
   "metadata": {},
   "outputs": [
    {
     "data": {
      "text/plain": [
       "12"
      ]
     },
     "execution_count": 91,
     "metadata": {},
     "output_type": "execute_result"
    }
   ],
   "source": [
    "len(np.unique(match))"
   ]
  },
  {
   "cell_type": "markdown",
   "id": "a8472dcb-8b84-4629-82ce-21d1bad6ee80",
   "metadata": {},
   "source": [
    "## Testing Multiple values of Distance Moduli"
   ]
  },
  {
   "cell_type": "code",
   "execution_count": null,
   "id": "6f23e571-8914-4ae9-a158-e844b6979bb3",
   "metadata": {},
   "outputs": [],
   "source": []
  },
  {
   "cell_type": "code",
   "execution_count": 23,
   "id": "a05ab227-8597-44fd-ad3d-53ad94aea895",
   "metadata": {},
   "outputs": [
    {
     "ename": "NameError",
     "evalue": "name 'sntab' is not defined",
     "output_type": "error",
     "traceback": [
      "\u001b[0;31m---------------------------------------------------------------------------\u001b[0m",
      "\u001b[0;31mNameError\u001b[0m                                 Traceback (most recent call last)",
      "\u001b[0;32m<ipython-input-23-2972e9990fc6>\u001b[0m in \u001b[0;36m<module>\u001b[0;34m\u001b[0m\n\u001b[0;32m----> 1\u001b[0;31m \u001b[0mS_dist\u001b[0m \u001b[0;34m=\u001b[0m \u001b[0msntab\u001b[0m\u001b[0;34m[\u001b[0m\u001b[0;34m'S_mu0'\u001b[0m\u001b[0;34m]\u001b[0m\u001b[0;34m\u001b[0m\u001b[0;34m\u001b[0m\u001b[0m\n\u001b[0m\u001b[1;32m      2\u001b[0m \u001b[0mS_err\u001b[0m \u001b[0;34m=\u001b[0m \u001b[0msntab\u001b[0m\u001b[0;34m[\u001b[0m\u001b[0;34m'S_emu0'\u001b[0m\u001b[0;34m]\u001b[0m\u001b[0;34m\u001b[0m\u001b[0;34m\u001b[0m\u001b[0m\n\u001b[1;32m      3\u001b[0m \u001b[0mS2_dist\u001b[0m \u001b[0;34m=\u001b[0m \u001b[0msntab\u001b[0m\u001b[0;34m[\u001b[0m\u001b[0;34m'S2_mu0'\u001b[0m\u001b[0;34m]\u001b[0m\u001b[0;34m\u001b[0m\u001b[0;34m\u001b[0m\u001b[0m\n\u001b[1;32m      4\u001b[0m \u001b[0mS2_err\u001b[0m \u001b[0;34m=\u001b[0m \u001b[0msntab\u001b[0m\u001b[0;34m[\u001b[0m\u001b[0;34m'S2_emu0'\u001b[0m\u001b[0;34m]\u001b[0m\u001b[0;34m\u001b[0m\u001b[0;34m\u001b[0m\u001b[0m\n\u001b[1;32m      5\u001b[0m \u001b[0mM31_dist\u001b[0m \u001b[0;34m=\u001b[0m \u001b[0msntab\u001b[0m\u001b[0;34m[\u001b[0m\u001b[0;34m'M31_mu0'\u001b[0m\u001b[0;34m]\u001b[0m\u001b[0;34m\u001b[0m\u001b[0;34m\u001b[0m\u001b[0m\n",
      "\u001b[0;31mNameError\u001b[0m: name 'sntab' is not defined"
     ]
    }
   ],
   "source": [
    "S_dist = sntab['S_mu0']\n",
    "S_err = sntab['S_emu0']\n",
    "S2_dist = sntab['S2_mu0']\n",
    "S2_err = sntab['S2_emu0']\n",
    "M31_dist = sntab['M31_mu0']\n",
    "M31_err = sntab['M31_emu0']\n",
    "M17_dist = sntab['M17_mu0']\n",
    "M17_err = sntab['M17_emu0']"
   ]
  },
  {
   "cell_type": "code",
   "execution_count": null,
   "id": "02ea8a48-4609-450f-b34f-c84b644ae0c5",
   "metadata": {},
   "outputs": [],
   "source": [
    "plt.figure(figsize = (13, 4))\n",
    "plt.errorbar(range(len(sntab)), S_dist, fmt = '.', yerr = S_err, label = 'SALT', alpha = 0.2)\n",
    "plt.errorbar(range(len(sntab)), S2_dist, fmt = '.', yerr = S2_err, label = 'SALT2', alpha = 0.2)\n",
    "plt.errorbar(range(len(sntab)), M31_dist, fmt = '.', yerr = M31_err, label = 'M31', alpha = 0.2)\n",
    "plt.errorbar(range(len(sntab)), M17_dist, fmt = '.', yerr = M17_err, label = 'M17', alpha = 0.2)\n",
    "plt.legend()"
   ]
  },
  {
   "cell_type": "code",
   "execution_count": null,
   "id": "e58807a9-9204-4924-883c-cfd3a1e114c0",
   "metadata": {},
   "outputs": [],
   "source": [
    "plt.errorbar(S_dist, S2_dist, fmt = '.', xerr = S_err, yerr = S2_err, alpha = 0.2)\n",
    "plt.xlabel('SALT')\n",
    "plt.ylabel('SALT2')\n",
    "plt.plot([34.5, 38.5], [34.5, 38.5], 'k:');"
   ]
  },
  {
   "cell_type": "code",
   "execution_count": null,
   "id": "796715a8-1833-43cc-9509-8a113f3642b6",
   "metadata": {},
   "outputs": [],
   "source": [
    "plt.errorbar(S_dist, M31_dist, fmt = '.', xerr = S_err, yerr = M31_err, alpha = 0.2)\n",
    "plt.xlabel('SALT')\n",
    "plt.ylabel('M31')\n",
    "plt.plot([34.5, 38.5], [34.5, 38.5], 'k:');"
   ]
  },
  {
   "cell_type": "code",
   "execution_count": null,
   "id": "79286988-aa32-4d88-80f0-35d659d81b85",
   "metadata": {},
   "outputs": [],
   "source": [
    "plt.errorbar(S2_dist, M31_dist, fmt = '.', xerr = S2_err, yerr = M31_err, alpha = 0.2)\n",
    "plt.xlabel('SALT2')\n",
    "plt.ylabel('M31')\n",
    "plt.plot([33, 38.5], [33, 38.5], 'k:');"
   ]
  },
  {
   "cell_type": "code",
   "execution_count": null,
   "id": "ca67cb01-cc1d-4431-b49e-28242d460bf5",
   "metadata": {},
   "outputs": [],
   "source": [
    "plt.errorbar(M17_dist, M31_dist, fmt = '.', xerr = M17_err, yerr = M31_err, alpha = 0.2)\n",
    "plt.xlabel('M17')\n",
    "plt.ylabel('M31')\n",
    "plt.plot([33, 38.5], [33, 38.5], 'k:');"
   ]
  },
  {
   "cell_type": "code",
   "execution_count": null,
   "id": "306b0d11-bf68-4a40-ba71-6845bd4b6e75",
   "metadata": {},
   "outputs": [],
   "source": []
  }
 ],
 "metadata": {
  "kernelspec": {
   "display_name": "DESI master",
   "language": "python",
   "name": "desi-master"
  },
  "language_info": {
   "codemirror_mode": {
    "name": "ipython",
    "version": 3
   },
   "file_extension": ".py",
   "mimetype": "text/x-python",
   "name": "python",
   "nbconvert_exporter": "python",
   "pygments_lexer": "ipython3",
   "version": "3.9.7"
  }
 },
 "nbformat": 4,
 "nbformat_minor": 5
}
