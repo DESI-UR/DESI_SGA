{
 "cells": [
  {
   "cell_type": "markdown",
   "id": "ac3f864c-a2c1-4ce6-bba6-6cd31d02c638",
   "metadata": {},
   "source": [
    "Match and extract any SNIa observations from Pantheon + SH0ES with the SGA"
   ]
  },
  {
   "cell_type": "code",
   "execution_count": 6,
   "id": "b65bd6f7-31ec-4651-8372-d7d742fcc009",
   "metadata": {
    "tags": []
   },
   "outputs": [],
   "source": [
    "from astropy.table import Table\n",
    "from astropy.coordinates import SkyCoord\n",
    "import astropy.units as u\n",
    "\n",
    "import numpy as np\n",
    "\n",
    "import matplotlib.pyplot as plt"
   ]
  },
  {
   "cell_type": "markdown",
   "id": "3a4b4b47-2ce7-4cbe-984a-b1c8ffe5d0f3",
   "metadata": {},
   "source": [
    "# Load SGA data\n",
    "\n",
    "We're going to start with the output from `data_match.ipynb`, so that all the distances are in the same file."
   ]
  },
  {
   "cell_type": "code",
   "execution_count": 2,
   "id": "c65a3107-e4be-4e4d-b357-c5d7e85444ab",
   "metadata": {
    "tags": []
   },
   "outputs": [
    {
     "data": {
      "text/html": [
       "<div><i>Table length=5</i>\n",
       "<table id=\"table140448183516992\" class=\"table-striped table-bordered table-condensed\">\n",
       "<thead><tr><th>SGA_ID</th><th>SGA_GALAXY</th><th>GALAXY</th><th>PGC</th><th>RA_LEDA</th><th>DEC_LEDA</th><th>MORPHTYPE</th><th>PA_LEDA</th><th>D25_LEDA</th><th>BA_LEDA</th><th>Z_LEDA</th><th>SB_D25_LEDA</th><th>MAG_LEDA</th><th>BYHAND</th><th>REF</th><th>GROUP_ID</th><th>GROUP_NAME</th><th>GROUP_MULT</th><th>GROUP_PRIMARY</th><th>GROUP_RA</th><th>GROUP_DEC</th><th>GROUP_DIAMETER</th><th>BRICKNAME</th><th>RA</th><th>DEC</th><th>D26</th><th>D26_REF</th><th>PA</th><th>BA</th><th>RA_MOMENT</th><th>DEC_MOMENT</th><th>SMA_MOMENT</th><th>G_SMA50</th><th>R_SMA50</th><th>Z_SMA50</th><th>SMA_SB22</th><th>SMA_SB22.5</th><th>SMA_SB23</th><th>SMA_SB23.5</th><th>SMA_SB24</th><th>SMA_SB24.5</th><th>SMA_SB25</th><th>SMA_SB25.5</th><th>SMA_SB26</th><th>G_MAG_SB22</th><th>R_MAG_SB22</th><th>Z_MAG_SB22</th><th>G_MAG_SB22.5</th><th>R_MAG_SB22.5</th><th>Z_MAG_SB22.5</th><th>G_MAG_SB23</th><th>R_MAG_SB23</th><th>Z_MAG_SB23</th><th>G_MAG_SB23.5</th><th>R_MAG_SB23.5</th><th>Z_MAG_SB23.5</th><th>G_MAG_SB24</th><th>R_MAG_SB24</th><th>Z_MAG_SB24</th><th>G_MAG_SB24.5</th><th>R_MAG_SB24.5</th><th>Z_MAG_SB24.5</th><th>G_MAG_SB25</th><th>R_MAG_SB25</th><th>Z_MAG_SB25</th><th>G_MAG_SB25.5</th><th>R_MAG_SB25.5</th><th>Z_MAG_SB25.5</th><th>G_MAG_SB26</th><th>R_MAG_SB26</th><th>Z_MAG_SB26</th><th>SMA_SB22_ERR</th><th>SMA_SB22.5_ERR</th><th>SMA_SB23_ERR</th><th>SMA_SB23.5_ERR</th><th>SMA_SB24_ERR</th><th>SMA_SB24.5_ERR</th><th>SMA_SB25_ERR</th><th>SMA_SB25.5_ERR</th><th>SMA_SB26_ERR</th><th>G_MAG_SB22_ERR</th><th>R_MAG_SB22_ERR</th><th>Z_MAG_SB22_ERR</th><th>G_MAG_SB22.5_ERR</th><th>R_MAG_SB22.5_ERR</th><th>Z_MAG_SB22.5_ERR</th><th>G_MAG_SB23_ERR</th><th>R_MAG_SB23_ERR</th><th>Z_MAG_SB23_ERR</th><th>G_MAG_SB23.5_ERR</th><th>R_MAG_SB23.5_ERR</th><th>Z_MAG_SB23.5_ERR</th><th>G_MAG_SB24_ERR</th><th>R_MAG_SB24_ERR</th><th>Z_MAG_SB24_ERR</th><th>G_MAG_SB24.5_ERR</th><th>R_MAG_SB24.5_ERR</th><th>Z_MAG_SB24.5_ERR</th><th>G_MAG_SB25_ERR</th><th>R_MAG_SB25_ERR</th><th>Z_MAG_SB25_ERR</th><th>G_MAG_SB25.5_ERR</th><th>R_MAG_SB25.5_ERR</th><th>Z_MAG_SB25.5_ERR</th><th>G_MAG_SB26_ERR</th><th>R_MAG_SB26_ERR</th><th>Z_MAG_SB26_ERR</th><th>G_COG_PARAMS_MTOT</th><th>G_COG_PARAMS_M0</th><th>G_COG_PARAMS_ALPHA1</th><th>G_COG_PARAMS_ALPHA2</th><th>G_COG_PARAMS_CHI2</th><th>R_COG_PARAMS_MTOT</th><th>R_COG_PARAMS_M0</th><th>R_COG_PARAMS_ALPHA1</th><th>R_COG_PARAMS_ALPHA2</th><th>R_COG_PARAMS_CHI2</th><th>Z_COG_PARAMS_MTOT</th><th>Z_COG_PARAMS_M0</th><th>Z_COG_PARAMS_ALPHA1</th><th>Z_COG_PARAMS_ALPHA2</th><th>Z_COG_PARAMS_CHI2</th><th>ELLIPSEBIT</th><th>DM_Stellar</th><th>e_DM_lo_Stellar</th><th>e_DM_hi_Stellar</th><th>Stellar_Catalog</th><th>DM1_SN</th><th>e_DM1_SN</th><th>DM2_SN</th><th>e_DM2_SN</th><th>DM3_SN</th><th>e_DM3_SN</th><th>DM4_SN</th><th>e_DM4_SN</th><th>DM5_SN</th><th>e_DM5_SN</th><th>DM6_SN</th><th>e_DM6_SN</th><th>DM7_SN</th><th>e_DM7_SN</th><th>SN_Catalog</th></tr></thead>\n",
       "<thead><tr><th>int64</th><th>bytes16</th><th>bytes29</th><th>int64</th><th>float64</th><th>float64</th><th>bytes21</th><th>float32</th><th>float32</th><th>float32</th><th>float32</th><th>float32</th><th>float32</th><th>bool</th><th>bytes13</th><th>int64</th><th>bytes35</th><th>int16</th><th>bool</th><th>float64</th><th>float64</th><th>float32</th><th>bytes8</th><th>float64</th><th>float64</th><th>float32</th><th>bytes4</th><th>float32</th><th>float32</th><th>float64</th><th>float64</th><th>float32</th><th>float32</th><th>float32</th><th>float32</th><th>float32</th><th>float32</th><th>float32</th><th>float32</th><th>float32</th><th>float32</th><th>float32</th><th>float32</th><th>float32</th><th>float32</th><th>float32</th><th>float32</th><th>float32</th><th>float32</th><th>float32</th><th>float32</th><th>float32</th><th>float32</th><th>float32</th><th>float32</th><th>float32</th><th>float32</th><th>float32</th><th>float32</th><th>float32</th><th>float32</th><th>float32</th><th>float32</th><th>float32</th><th>float32</th><th>float32</th><th>float32</th><th>float32</th><th>float32</th><th>float32</th><th>float32</th><th>float32</th><th>float32</th><th>float32</th><th>float32</th><th>float32</th><th>float32</th><th>float32</th><th>float32</th><th>float32</th><th>float32</th><th>float32</th><th>float32</th><th>float32</th><th>float32</th><th>float32</th><th>float32</th><th>float32</th><th>float32</th><th>float32</th><th>float32</th><th>float32</th><th>float32</th><th>float32</th><th>float32</th><th>float32</th><th>float32</th><th>float32</th><th>float32</th><th>float32</th><th>float32</th><th>float32</th><th>float32</th><th>float32</th><th>float32</th><th>float32</th><th>float32</th><th>float32</th><th>float32</th><th>float32</th><th>float32</th><th>float32</th><th>float32</th><th>float32</th><th>float32</th><th>float32</th><th>float32</th><th>float32</th><th>float32</th><th>float32</th><th>float32</th><th>float32</th><th>int32</th><th>float64</th><th>float64</th><th>float64</th><th>bytes14</th><th>float64</th><th>float64</th><th>float64</th><th>float64</th><th>float64</th><th>float64</th><th>float64</th><th>float64</th><th>float64</th><th>float64</th><th>float64</th><th>int64</th><th>float64</th><th>int64</th><th>bytes25</th></tr></thead>\n",
       "<tr><td>5002480</td><td>SGA-2020 5002480</td><td>DR8-2837p402-5033</td><td>-1</td><td>283.619631436471</td><td>40.3162008554537</td><td>DEV</td><td>178.80934</td><td>0.54342</td><td>0.3166</td><td>-1.0</td><td>24.29036</td><td>16.9862</td><td>False</td><td>DR8</td><td>530781</td><td>DR8-2837p402-5033</td><td>1</td><td>True</td><td>283.619631436471</td><td>40.3162008554537</td><td>0.54342</td><td>2837p402</td><td>283.6196056669463</td><td>40.316337272867564</td><td>0.53864765</td><td>SB26</td><td>179.53694</td><td>0.3690244</td><td>283.6194583471782</td><td>40.31653379127378</td><td>11.641381</td><td>11.157478</td><td>8.614751</td><td>9.8993</td><td>1.6142721</td><td>3.685578</td><td>5.5844307</td><td>7.701021</td><td>9.878292</td><td>11.927793</td><td>13.400182</td><td>14.697571</td><td>16.15943</td><td>21.37251</td><td>20.373438</td><td>19.779512</td><td>19.920574</td><td>19.005274</td><td>18.41066</td><td>19.314016</td><td>18.435898</td><td>17.843414</td><td>18.922651</td><td>18.076838</td><td>17.494484</td><td>18.664383</td><td>17.833265</td><td>17.25879</td><td>18.496494</td><td>17.682926</td><td>17.106598</td><td>18.404135</td><td>17.605488</td><td>17.02742</td><td>18.332602</td><td>17.555883</td><td>16.971588</td><td>18.299273</td><td>17.52499</td><td>16.931496</td><td>0.04933311</td><td>0.065890566</td><td>0.09742977</td><td>0.10495926</td><td>0.1614855</td><td>0.27832195</td><td>0.15179653</td><td>0.13904023</td><td>0.20484819</td><td>0.041657884</td><td>0.06669066</td><td>0.06785251</td><td>0.038538612</td><td>0.049561314</td><td>0.05101378</td><td>0.03635901</td><td>0.041818976</td><td>0.042013034</td><td>0.03367074</td><td>0.03763669</td><td>0.03705858</td><td>0.03122176</td><td>0.03420294</td><td>0.033616345</td><td>0.029198052</td><td>0.031941395</td><td>0.031132452</td><td>0.028080799</td><td>0.030865192</td><td>0.029955743</td><td>0.02722575</td><td>0.030135926</td><td>0.029090546</td><td>0.026788738</td><td>0.02959205</td><td>0.028436601</td><td>17.799881</td><td>1.3952494</td><td>0.83855844</td><td>1.4560318</td><td>0.5604667</td><td>17.200954</td><td>1.0272083</td><td>0.8301853</td><td>1.7677885</td><td>0.4513309</td><td>16.501709</td><td>1.3551984</td><td>0.73172045</td><td>1.4457989</td><td>0.2076136</td><td>0</td><td>-1.0</td><td>-1.0</td><td>-1.0</td><td>-1</td><td>-1.0</td><td>-1.0</td><td>-1.0</td><td>-1.0</td><td>-1.0</td><td>-1.0</td><td>-1.0</td><td>-1.0</td><td>-1.0</td><td>-1.0</td><td>-1.0</td><td>-1</td><td>-1.0</td><td>-1</td><td>-1</td></tr>\n",
       "<tr><td>5001021</td><td>SGA-2020 5001021</td><td>DR8-1908m035-1012</td><td>-1</td><td>190.9800024746678</td><td>-3.5794970532047348</td><td>COMP</td><td>179.36131</td><td>0.3128912</td><td>0.24235067</td><td>-1.0</td><td>24.242153</td><td>18.136705</td><td>False</td><td>DR8</td><td>529592</td><td>DR8-1908m035-1012</td><td>1</td><td>True</td><td>190.9800024746678</td><td>-3.5794970532047348</td><td>0.3128912</td><td>1908m035</td><td>190.98001150850953</td><td>-3.579504558185747</td><td>0.46029893</td><td>SB26</td><td>179.9099</td><td>0.28135264</td><td>190.97993904058112</td><td>-3.579486477891515</td><td>10.782479</td><td>5.303919</td><td>4.890181</td><td>4.648955</td><td>2.60227</td><td>3.9949758</td><td>5.3321157</td><td>6.6193404</td><td>7.9617677</td><td>9.334041</td><td>10.651372</td><td>11.945739</td><td>13.808968</td><td>20.83302</td><td>19.559025</td><td>18.527628</td><td>20.186102</td><td>18.948116</td><td>17.962463</td><td>19.839163</td><td>18.616032</td><td>17.664757</td><td>19.622812</td><td>18.415947</td><td>17.48664</td><td>19.488094</td><td>18.284103</td><td>17.36675</td><td>19.393885</td><td>18.19177</td><td>17.285147</td><td>19.328535</td><td>18.133291</td><td>17.231174</td><td>19.276346</td><td>18.095415</td><td>17.194038</td><td>19.23636</td><td>18.059212</td><td>17.159449</td><td>0.056616735</td><td>0.075659014</td><td>0.06408011</td><td>0.099823594</td><td>0.1106942</td><td>0.12681642</td><td>0.15963246</td><td>0.18908575</td><td>0.21659172</td><td>0.08466007</td><td>0.08730868</td><td>0.101774946</td><td>0.06604131</td><td>0.06827165</td><td>0.07746673</td><td>0.05750298</td><td>0.058578383</td><td>0.065898776</td><td>0.051398903</td><td>0.052755173</td><td>0.059088793</td><td>0.04776679</td><td>0.04883277</td><td>0.054615494</td><td>0.04498737</td><td>0.045983624</td><td>0.051455963</td><td>0.043144915</td><td>0.044076666</td><td>0.04933408</td><td>0.041449923</td><td>0.042814855</td><td>0.04784726</td><td>0.04055538</td><td>0.041601818</td><td>0.046518978</td><td>19.089306</td><td>0.93604577</td><td>0.32930735</td><td>2.0837493</td><td>0.033988953</td><td>17.95537</td><td>0.69882125</td><td>0.34296194</td><td>2.419169</td><td>0.011013919</td><td>17.04538</td><td>0.77790314</td><td>0.31191626</td><td>2.1598706</td><td>0.0056849383</td><td>0</td><td>-1.0</td><td>-1.0</td><td>-1.0</td><td>-1</td><td>-1.0</td><td>-1.0</td><td>-1.0</td><td>-1.0</td><td>-1.0</td><td>-1.0</td><td>-1.0</td><td>-1.0</td><td>-1.0</td><td>-1.0</td><td>-1.0</td><td>-1</td><td>-1.0</td><td>-1</td><td>-1</td></tr>\n",
       "<tr><td>5001019</td><td>SGA-2020 5001019</td><td>DR8-1470m035-1174</td><td>-1</td><td>147.1427386432192</td><td>-3.5532245640806046</td><td>DEV</td><td>163.838</td><td>0.5674898</td><td>0.30485216</td><td>-1.0</td><td>24.155874</td><td>16.757603</td><td>False</td><td>DR8</td><td>529591</td><td>DR8-1470m035-1174</td><td>1</td><td>True</td><td>147.1427386432192</td><td>-3.5532245640806046</td><td>0.5674898</td><td>1470m035</td><td>147.14273636886824</td><td>-3.5532311036249844</td><td>0.7089864</td><td>SB26</td><td>160.56161</td><td>0.33515733</td><td>147.14265663750427</td><td>-3.5531612954610043</td><td>14.189667</td><td>9.06656</td><td>8.473093</td><td>8.114043</td><td>2.9450347</td><td>4.695773</td><td>6.643506</td><td>8.666231</td><td>10.949383</td><td>13.340206</td><td>15.799134</td><td>18.415377</td><td>21.269592</td><td>19.91953</td><td>19.158825</td><td>18.614452</td><td>19.193794</td><td>18.477886</td><td>17.962807</td><td>18.734055</td><td>18.061895</td><td>17.589006</td><td>18.418203</td><td>17.784187</td><td>17.351715</td><td>18.193169</td><td>17.586119</td><td>17.181166</td><td>18.049446</td><td>17.457943</td><td>17.058641</td><td>17.934223</td><td>17.35795</td><td>16.969753</td><td>17.857323</td><td>17.293016</td><td>16.908016</td><td>17.810745</td><td>17.246443</td><td>16.876032</td><td>0.0614563</td><td>0.089195475</td><td>0.10060314</td><td>0.15540995</td><td>0.17048688</td><td>0.21389666</td><td>0.16420007</td><td>0.25362244</td><td>0.3022587</td><td>0.06389988</td><td>0.06969084</td><td>0.07839319</td><td>0.048208438</td><td>0.052888487</td><td>0.05885825</td><td>0.040130075</td><td>0.044280488</td><td>0.050095942</td><td>0.034714546</td><td>0.038774274</td><td>0.045435317</td><td>0.031042166</td><td>0.03483406</td><td>0.04135831</td><td>0.028832838</td><td>0.032055207</td><td>0.038155198</td><td>0.026886987</td><td>0.02992059</td><td>0.035833754</td><td>0.025639897</td><td>0.028576324</td><td>0.0342623</td><td>0.024892407</td><td>0.0275924</td><td>0.03357749</td><td>17.619846</td><td>0.81239957</td><td>1.2436428</td><td>2.0833044</td><td>0.20735413</td><td>17.052032</td><td>0.9099892</td><td>0.94688904</td><td>1.8497639</td><td>0.08836478</td><td>16.648832</td><td>1.2052153</td><td>0.6299481</td><td>1.5293403</td><td>0.22791538</td><td>0</td><td>-1.0</td><td>-1.0</td><td>-1.0</td><td>-1</td><td>-1.0</td><td>-1.0</td><td>-1.0</td><td>-1.0</td><td>-1.0</td><td>-1.0</td><td>-1.0</td><td>-1.0</td><td>-1.0</td><td>-1.0</td><td>-1.0</td><td>-1</td><td>-1.0</td><td>-1</td><td>-1</td></tr>\n",
       "<tr><td>5001018</td><td>SGA-2020 5001018</td><td>DR8-0589m035-1107</td><td>-1</td><td>58.96747523203085</td><td>-3.5768978632702404</td><td>DEV</td><td>73.886986</td><td>0.52344257</td><td>0.34322816</td><td>-1.0</td><td>24.649805</td><td>17.42698</td><td>False</td><td>DR8</td><td>529590</td><td>DR8-0589m035-1107</td><td>1</td><td>True</td><td>58.96747523203085</td><td>-3.5768978632702404</td><td>0.52344257</td><td>0589m035</td><td>58.96746266894446</td><td>-3.576904154158203</td><td>0.59405684</td><td>SB26</td><td>63.708275</td><td>0.3470738</td><td>58.9673521194436</td><td>-3.5767996362730665</td><td>11.532074</td><td>27.796232</td><td>27.457575</td><td>28.267866</td><td>0.7578961</td><td>2.1168416</td><td>3.5769458</td><td>5.265746</td><td>7.4217663</td><td>9.982045</td><td>12.871645</td><td>15.379495</td><td>17.821705</td><td>22.57269</td><td>22.104053</td><td>21.428228</td><td>20.81164</td><td>20.299337</td><td>19.70747</td><td>20.117699</td><td>19.549505</td><td>19.008604</td><td>19.679396</td><td>19.085209</td><td>18.57469</td><td>19.323883</td><td>18.728365</td><td>18.230927</td><td>19.041245</td><td>18.443516</td><td>17.964779</td><td>18.827599</td><td>18.226679</td><td>17.773859</td><td>18.679247</td><td>18.097006</td><td>17.654163</td><td>18.569975</td><td>17.998594</td><td>17.559578</td><td>0.028430318</td><td>0.053442895</td><td>0.06005233</td><td>0.086550556</td><td>0.121798776</td><td>0.18367727</td><td>0.19650374</td><td>0.2090271</td><td>0.23993549</td><td>0.10603312</td><td>0.13668293</td><td>0.12814379</td><td>0.09004501</td><td>0.09114922</td><td>0.110184155</td><td>0.06574117</td><td>0.0649464</td><td>0.079305</td><td>0.05130527</td><td>0.050389685</td><td>0.061386514</td><td>0.041397545</td><td>0.041069187</td><td>0.049383085</td><td>0.0353218</td><td>0.035057936</td><td>0.04168752</td><td>0.03146701</td><td>0.031024022</td><td>0.03684285</td><td>0.028985405</td><td>0.028910374</td><td>0.034214094</td><td>0.027220415</td><td>0.027361887</td><td>0.03217761</td><td>17.569975</td><td>2.6201665</td><td>0.74379516</td><td>0.78689593</td><td>1.3501529</td><td>16.998594</td><td>3.0956852</td><td>0.5915868</td><td>0.7576835</td><td>0.20765956</td><td>16.559578</td><td>3.5662844</td><td>0.48402628</td><td>0.6955706</td><td>0.049795065</td><td>0</td><td>-1.0</td><td>-1.0</td><td>-1.0</td><td>-1</td><td>-1.0</td><td>-1.0</td><td>-1.0</td><td>-1.0</td><td>-1.0</td><td>-1.0</td><td>-1.0</td><td>-1.0</td><td>-1.0</td><td>-1.0</td><td>-1.0</td><td>-1</td><td>-1.0</td><td>-1</td><td>-1</td></tr>\n",
       "<tr><td>5001000</td><td>SGA-2020 5001000</td><td>DR8-1538m040-5309</td><td>-1</td><td>153.87604470973113</td><td>-3.8952396741736623</td><td>COMP</td><td>151.75539</td><td>0.46971816</td><td>0.2265234</td><td>-1.0</td><td>25.694304</td><td>18.706636</td><td>False</td><td>DR8</td><td>529574</td><td>DR8-1538m040-5309</td><td>1</td><td>True</td><td>153.87604470973113</td><td>-3.8952396741736623</td><td>0.46971816</td><td>1538m040</td><td>153.87605812641382</td><td>-3.8952553120545</td><td>0.3222142</td><td>SB26</td><td>152.51593</td><td>0.38030738</td><td>153.8760096166066</td><td>-3.8952074506049206</td><td>6.2858515</td><td>6.9679866</td><td>5.937727</td><td>6.803102</td><td>-1.0</td><td>0.611838</td><td>1.5926635</td><td>3.1050522</td><td>4.296284</td><td>5.648387</td><td>6.922032</td><td>8.273097</td><td>9.666426</td><td>-1.0</td><td>-1.0</td><td>-1.0</td><td>23.549822</td><td>23.031054</td><td>22.773083</td><td>21.688038</td><td>21.237814</td><td>20.977982</td><td>20.6481</td><td>20.239336</td><td>20.017353</td><td>20.216105</td><td>19.841602</td><td>19.639183</td><td>19.916332</td><td>19.567436</td><td>19.359243</td><td>19.737143</td><td>19.404419</td><td>19.195152</td><td>19.599789</td><td>19.276</td><td>19.082033</td><td>19.506786</td><td>19.204313</td><td>18.991358</td><td>-1.0</td><td>0.021907173</td><td>0.059276454</td><td>0.058691014</td><td>0.07300099</td><td>0.09429353</td><td>0.13673161</td><td>0.13662857</td><td>0.15687384</td><td>-1.0</td><td>-1.0</td><td>-1.0</td><td>0.06336523</td><td>0.03895847</td><td>0.092741065</td><td>0.06610604</td><td>0.070476234</td><td>0.082297616</td><td>0.05458867</td><td>0.05844559</td><td>0.06285622</td><td>0.048253395</td><td>0.05195508</td><td>0.053528924</td><td>0.043112114</td><td>0.04649149</td><td>0.047446106</td><td>0.039647266</td><td>0.04261088</td><td>0.04318384</td><td>0.03672966</td><td>0.03996569</td><td>0.041731343</td><td>0.034884803</td><td>0.03854299</td><td>0.04003972</td><td>18.981636</td><td>1.5777819</td><td>0.37279877</td><td>1.3685343</td><td>0.17616904</td><td>18.774378</td><td>1.4497702</td><td>0.32173964</td><td>1.4371084</td><td>0.1582937</td><td>18.463694</td><td>1.8066257</td><td>0.32254803</td><td>1.2234725</td><td>0.16648228</td><td>0</td><td>-1.0</td><td>-1.0</td><td>-1.0</td><td>-1</td><td>-1.0</td><td>-1.0</td><td>-1.0</td><td>-1.0</td><td>-1.0</td><td>-1.0</td><td>-1.0</td><td>-1.0</td><td>-1.0</td><td>-1.0</td><td>-1.0</td><td>-1</td><td>-1.0</td><td>-1</td><td>-1</td></tr>\n",
       "</table></div>"
      ],
      "text/plain": [
       "<Table length=5>\n",
       " SGA_ID    SGA_GALAXY          GALAXY       PGC  ...  DM7_SN e_DM7_SN SN_Catalog\n",
       " int64      bytes16           bytes29      int64 ... float64  int64    bytes25  \n",
       "------- ---------------- ----------------- ----- ... ------- -------- ----------\n",
       "5002480 SGA-2020 5002480 DR8-2837p402-5033    -1 ...    -1.0       -1         -1\n",
       "5001021 SGA-2020 5001021 DR8-1908m035-1012    -1 ...    -1.0       -1         -1\n",
       "5001019 SGA-2020 5001019 DR8-1470m035-1174    -1 ...    -1.0       -1         -1\n",
       "5001018 SGA-2020 5001018 DR8-0589m035-1107    -1 ...    -1.0       -1         -1\n",
       "5001000 SGA-2020 5001000 DR8-1538m040-5309    -1 ...    -1.0       -1         -1"
      ]
     },
     "execution_count": 2,
     "metadata": {},
     "output_type": "execute_result"
    }
   ],
   "source": [
    "SGA = Table.read('SGA_distances.fits')\n",
    "SGA[:5]"
   ]
  },
  {
   "cell_type": "markdown",
   "id": "2a8135e2-1810-40a4-8945-dce87ae7ea14",
   "metadata": {},
   "source": [
    "# Load Pantheon+SH0ES distance moduli\n",
    "\n",
    "File from https://github.com/PantheonPlusSH0ES/DataRelease/tree/main/Pantheon%2B_Data/4_DISTANCES_AND_COVAR"
   ]
  },
  {
   "cell_type": "code",
   "execution_count": 3,
   "id": "a32eaf22-572e-4238-be48-fc8a8460941a",
   "metadata": {
    "tags": []
   },
   "outputs": [
    {
     "data": {
      "text/html": [
       "<div><i>Table length=5</i>\n",
       "<table id=\"table140448186645280\" class=\"table-striped table-bordered table-condensed\">\n",
       "<thead><tr><th>CID</th><th>IDSURVEY</th><th>zHD</th><th>zHDERR</th><th>zCMB</th><th>zCMBERR</th><th>zHEL</th><th>zHELERR</th><th>m_b_corr</th><th>m_b_corr_err_DIAG</th><th>MU_SH0ES</th><th>MU_SH0ES_ERR_DIAG</th><th>CEPH_DIST</th><th>IS_CALIBRATOR</th><th>USED_IN_SH0ES_HF</th><th>c</th><th>cERR</th><th>x1</th><th>x1ERR</th><th>mB</th><th>mBERR</th><th>x0</th><th>x0ERR</th><th>COV_x1_c</th><th>COV_x1_x0</th><th>COV_c_x0</th><th>RA</th><th>DEC</th><th>HOST_RA</th><th>HOST_DEC</th><th>HOST_ANGSEP</th><th>VPEC</th><th>VPECERR</th><th>MWEBV</th><th>HOST_LOGMASS</th><th>HOST_LOGMASS_ERR</th><th>PKMJD</th><th>PKMJDERR</th><th>NDOF</th><th>FITCHI2</th><th>FITPROB</th><th>m_b_corr_err_RAW</th><th>m_b_corr_err_VPEC</th><th>biasCor_m_b</th><th>biasCorErr_m_b</th><th>biasCor_m_b_COVSCALE</th><th>biasCor_m_b_COVADD</th></tr></thead>\n",
       "<thead><tr><th>str15</th><th>int64</th><th>float64</th><th>float64</th><th>float64</th><th>float64</th><th>float64</th><th>float64</th><th>float64</th><th>float64</th><th>float64</th><th>float64</th><th>float64</th><th>int64</th><th>int64</th><th>float64</th><th>float64</th><th>float64</th><th>float64</th><th>float64</th><th>float64</th><th>float64</th><th>float64</th><th>float64</th><th>float64</th><th>float64</th><th>float64</th><th>float64</th><th>int64</th><th>int64</th><th>float64</th><th>float64</th><th>int64</th><th>float64</th><th>float64</th><th>float64</th><th>float64</th><th>float64</th><th>int64</th><th>float64</th><th>float64</th><th>float64</th><th>float64</th><th>float64</th><th>float64</th><th>float64</th><th>float64</th></tr></thead>\n",
       "<tr><td>2011fe</td><td>51</td><td>0.00122</td><td>0.00084</td><td>0.00122</td><td>2e-05</td><td>0.00082</td><td>2e-05</td><td>9.74571</td><td>1.51621</td><td>28.9987</td><td>1.51645</td><td>29.177</td><td>1</td><td>0</td><td>-0.1076</td><td>0.04008</td><td>-0.548188</td><td>0.13373</td><td>9.58436</td><td>0.0327221</td><td>2.63181</td><td>0.0793177</td><td>0.00011378</td><td>-0.00052525</td><td>-0.00272765</td><td>210.774</td><td>54.2737</td><td>-999</td><td>-999</td><td>-9.0</td><td>0.0</td><td>250</td><td>0.00758935</td><td>10.677</td><td>-9.0</td><td>55815.0</td><td>0.1071</td><td>36</td><td>26.8859</td><td>0.86447</td><td>0.0991</td><td>1.496</td><td>0.0381</td><td>0.005</td><td>1.0</td><td>0.003</td></tr>\n",
       "<tr><td>2011fe</td><td>56</td><td>0.00122</td><td>0.00084</td><td>0.00122</td><td>2e-05</td><td>0.00082</td><td>2e-05</td><td>9.80286</td><td>1.51723</td><td>29.0559</td><td>1.51747</td><td>29.177</td><td>1</td><td>0</td><td>-0.032895</td><td>0.038463</td><td>-0.380481</td><td>0.0861</td><td>9.78448</td><td>0.0352442</td><td>2.1888</td><td>0.0710511</td><td>-0.000443845</td><td>-0.00150198</td><td>-0.00220084</td><td>210.774</td><td>54.2737</td><td>-999</td><td>-999</td><td>-9.0</td><td>0.0</td><td>250</td><td>0.00758935</td><td>10.677</td><td>0.0</td><td>55815.2</td><td>0.0579</td><td>101</td><td>88.3064</td><td>0.81222</td><td>0.0971</td><td>1.496</td><td>-0.0252</td><td>0.003</td><td>1.0</td><td>0.004</td></tr>\n",
       "<tr><td>2012cg</td><td>51</td><td>0.00256</td><td>0.00084</td><td>0.00256</td><td>2e-05</td><td>0.00144</td><td>2e-05</td><td>11.4703</td><td>0.781906</td><td>30.7233</td><td>0.782372</td><td>30.8433</td><td>1</td><td>0</td><td>0.10073</td><td>0.018231</td><td>0.49196</td><td>0.023545</td><td>11.8161</td><td>0.0237119</td><td>0.33695</td><td>0.00735879</td><td>-6.06025e-05</td><td>9.35054e-06</td><td>-0.000110842</td><td>186.803</td><td>9.4203</td><td>-999</td><td>-999</td><td>-9.0</td><td>0.0</td><td>250</td><td>0.0177724</td><td>9.633</td><td>0.002</td><td>56082.4</td><td>0.0278</td><td>165</td><td>233.5</td><td>0.000358347</td><td>0.0399</td><td>0.7134</td><td>0.0545</td><td>0.019</td><td>1.0</td><td>0.036</td></tr>\n",
       "<tr><td>2012cg</td><td>56</td><td>0.00256</td><td>0.00084</td><td>0.00256</td><td>2e-05</td><td>0.00144</td><td>2e-05</td><td>11.4919</td><td>0.798612</td><td>30.7449</td><td>0.799068</td><td>30.8433</td><td>1</td><td>0</td><td>0.12247</td><td>0.03903</td><td>0.71261</td><td>0.083554</td><td>11.8801</td><td>0.0359611</td><td>0.31765</td><td>0.0105211</td><td>0.000222656</td><td>-0.000136637</td><td>-0.000344022</td><td>186.803</td><td>9.4203</td><td>-999</td><td>-999</td><td>-9.0</td><td>0.0</td><td>250</td><td>0.0177724</td><td>9.633</td><td>0.004</td><td>56082.4</td><td>0.0667</td><td>55</td><td>100.122</td><td>0.000193186</td><td>0.0931</td><td>0.7134</td><td>0.0622</td><td>0.028</td><td>1.0</td><td>0.04</td></tr>\n",
       "<tr><td>1994DRichmond</td><td>50</td><td>0.00299</td><td>0.00084</td><td>0.00299</td><td>4e-05</td><td>0.00187</td><td>4e-05</td><td>11.5227</td><td>0.880798</td><td>30.7757</td><td>0.881212</td><td>-9.0</td><td>0</td><td>0</td><td>-0.111684</td><td>0.026044</td><td>-1.61803</td><td>0.049543</td><td>11.5334</td><td>0.0322548</td><td>0.43715</td><td>0.0129866</td><td>-9.88782e-05</td><td>-3.53658e-05</td><td>-0.000291408</td><td>188.51</td><td>7.7016</td><td>-999</td><td>-999</td><td>-9.0</td><td>0.0</td><td>250</td><td>0.0191036</td><td>8.46247</td><td>-9.0</td><td>49432.6</td><td>0.0522</td><td>146</td><td>109.839</td><td>0.98874</td><td>0.0567</td><td>0.611</td><td>0.065</td><td>0.009</td><td>1.0</td><td>0.006</td></tr>\n",
       "</table></div>"
      ],
      "text/plain": [
       "<Table length=5>\n",
       "     CID      IDSURVEY   zHD   ... biasCor_m_b_COVSCALE biasCor_m_b_COVADD\n",
       "    str15      int64   float64 ...       float64             float64      \n",
       "------------- -------- ------- ... -------------------- ------------------\n",
       "       2011fe       51 0.00122 ...                  1.0              0.003\n",
       "       2011fe       56 0.00122 ...                  1.0              0.004\n",
       "       2012cg       51 0.00256 ...                  1.0              0.036\n",
       "       2012cg       56 0.00256 ...                  1.0               0.04\n",
       "1994DRichmond       50 0.00299 ...                  1.0              0.006"
      ]
     },
     "execution_count": 3,
     "metadata": {},
     "output_type": "execute_result"
    }
   ],
   "source": [
    "SNIa = Table.read('cache/SN1A_dist/Pantheon+SH0ES.dat', \n",
    "                  format='ascii.commented_header')\n",
    "SNIa[:5]"
   ]
  },
  {
   "cell_type": "markdown",
   "id": "b2d41962-1ee5-4ed0-bbab-9cd64e402234",
   "metadata": {},
   "source": [
    "# Match via sky position\n",
    "\n",
    "We will consider a SN part of a galaxy if it is within that galaxy's $R_{26}$."
   ]
  },
  {
   "cell_type": "code",
   "execution_count": 4,
   "id": "be571b9e-988c-436b-b04a-4888a940aa49",
   "metadata": {
    "tags": []
   },
   "outputs": [],
   "source": [
    "SGA_coords = SkyCoord(ra=SGA['RA']*u.deg, dec=SGA['DEC']*u.deg)\n",
    "\n",
    "SNIa_coords = SkyCoord(ra=SNIa['RA']*u.deg, dec=SNIa['DEC']*u.deg)"
   ]
  },
  {
   "cell_type": "code",
   "execution_count": 5,
   "id": "7dc74b6b-a0f0-48d0-b1c1-ed78d87a6517",
   "metadata": {
    "tags": []
   },
   "outputs": [],
   "source": [
    "idx, sep2d,_ = SNIa_coords.match_to_catalog_sky(SGA_coords)"
   ]
  },
  {
   "cell_type": "code",
   "execution_count": 13,
   "id": "8c7ddca5-6f89-4fac-aa16-dbcb2d0ab7aa",
   "metadata": {
    "tags": []
   },
   "outputs": [
    {
     "data": {
      "image/png": "[encoded data removed]",
      "text/plain": [
       "<Figure size 640x480 with 1 Axes>"
      ]
     },
     "metadata": {},
     "output_type": "display_data"
    }
   ],
   "source": [
    "plt.figure(tight_layout=True)\n",
    "\n",
    "plt.hist(sep2d.to(u.deg), bins=100)\n",
    "\n",
    "plt.xlabel(r'$\\Delta \\theta$ [degrees]')\n",
    "plt.ylabel('number of SNIa');"
   ]
  },
  {
   "cell_type": "code",
   "execution_count": 20,
   "id": "d6bf75d3-cffc-4b82-b1ef-f809d2bd5f24",
   "metadata": {
    "tags": []
   },
   "outputs": [],
   "source": [
    "SGA['DM_PantheonSH0ES'] = np.nan\n",
    "SGA['e_DM_PantheonSH0ES'] = np.nan\n",
    "SGA['z_PantheonSH0ES'] = np.nan\n",
    "SGA['e_z_PantheonSH0ES'] = np.nan\n",
    "SGA['RA_PantheonSH0ES'] = np.nan\n",
    "SGA['DEC_PantheonSH0ES'] = np.nan\n",
    "\n",
    "# Valid matches\n",
    "matches = sep2d.to(u.arcmin) < 0.5*SGA['D26'][idx]*u.arcmin\n",
    "\n",
    "SGA['DM_PantheonSH0ES'][idx[matches]] = SNIa['MU_SH0ES'][matches]\n",
    "SGA['e_DM_PantheonSH0ES'][idx[matches]] = SNIa['MU_SH0ES_ERR_DIAG'][matches]\n",
    "SGA['z_PantheonSH0ES'][idx[matches]] = SNIa['zHEL'][matches]\n",
    "SGA['e_z_PantheonSH0ES'][idx[matches]] = SNIa['zHELERR'][matches]\n",
    "SGA['RA_PantheonSH0ES'][idx[matches]] = SNIa['RA'][matches]\n",
    "SGA['DEC_PantheonSH0ES'][idx[matches]] = SNIa['DEC'][matches]"
   ]
  },
  {
   "cell_type": "code",
   "execution_count": 18,
   "id": "addb1925-fdee-4e1d-9c9a-731ff430281f",
   "metadata": {
    "tags": []
   },
   "outputs": [
    {
     "data": {
      "text/plain": [
       "318"
      ]
     },
     "execution_count": 18,
     "metadata": {},
     "output_type": "execute_result"
    }
   ],
   "source": [
    "np.sum(np.isfinite(SGA['DM_PantheonSH0ES']))"
   ]
  },
  {
   "cell_type": "code",
   "execution_count": 19,
   "id": "101434c2-bb51-4b1c-a2fe-b7cbd86acac5",
   "metadata": {
    "collapsed": true,
    "jupyter": {
     "outputs_hidden": true
    },
    "tags": []
   },
   "outputs": [
    {
     "data": {
      "text/html": [
       "<i>Table length=318</i>\n",
       "<table id=\"table140447006574528-834832\" class=\"table-striped table-bordered table-condensed\">\n",
       "<thead><tr><th>idx</th><th>RA</th><th>DEC</th><th>z_PantheonSH0ES</th></tr></thead>\n",
       "<tr><td>0</td><td>16.84975791968929</td><td>32.40403223183585</td><td>0.01749</td></tr>\n",
       "<tr><td>1</td><td>0.8958620610956882</td><td>23.200726856714155</td><td>0.02425</td></tr>\n",
       "<tr><td>2</td><td>1.0063324460802996</td><td>-11.174295487734916</td><td>0.03761</td></tr>\n",
       "<tr><td>3</td><td>1.451607253120829</td><td>27.449348263155745</td><td>0.02528</td></tr>\n",
       "<tr><td>4</td><td>1.5593314530833227</td><td>8.887737461213659</td><td>0.03849</td></tr>\n",
       "<tr><td>5</td><td>5.3433731447818635</td><td>22.433571232419247</td><td>0.02109</td></tr>\n",
       "<tr><td>6</td><td>6.31978444708489</td><td>12.883866113740343</td><td>0.01765</td></tr>\n",
       "<tr><td>7</td><td>9.751011519264168</td><td>-9.014585925754265</td><td>0.02038</td></tr>\n",
       "<tr><td>8</td><td>10.46032011158196</td><td>-9.303116243899773</td><td>0.05311</td></tr>\n",
       "<tr><td>9</td><td>10.465519374661358</td><td>32.99140987356976</td><td>0.01643</td></tr>\n",
       "<tr><td>10</td><td>10.690963853028352</td><td>-23.561420194293788</td><td>0.0224</td></tr>\n",
       "<tr><td>11</td><td>14.395444221847136</td><td>-1.3909900660856607</td><td>0.04389</td></tr>\n",
       "<tr><td>12</td><td>15.42737598960605</td><td>-15.56772137843183</td><td>0.01867</td></tr>\n",
       "<tr><td>13</td><td>15.859887870791951</td><td>32.23736389953915</td><td>0.01711</td></tr>\n",
       "<tr><td>14</td><td>20.222822204942666</td><td>4.801406565242848</td><td>0.03354</td></tr>\n",
       "<tr><td>15</td><td>21.198961484057996</td><td>9.538888767845226</td><td>0.00826</td></tr>\n",
       "<tr><td>16</td><td>21.34051243458646</td><td>-18.163864560095206</td><td>0.03203</td></tr>\n",
       "<tr><td>17</td><td>21.560287778646394</td><td>-6.094185834556723</td><td>0.00667</td></tr>\n",
       "<tr><td>18</td><td>22.861025636479248</td><td>14.277469402201863</td><td>0.01502</td></tr>\n",
       "<tr><td>19</td><td>24.32312416079206</td><td>5.877373403507534</td><td>0.01057</td></tr>\n",
       "<tr><td>20</td><td>25.985683292853725</td><td>17.062032691479956</td><td>0.02678</td></tr>\n",
       "<tr><td>21</td><td>27.174959115119982</td><td>-48.648533301196885</td><td>0.02113</td></tr>\n",
       "<tr><td>22</td><td>27.673837048806885</td><td>21.760004206830825</td><td>0.00954</td></tr>\n",
       "<tr><td>23</td><td>27.952128071602708</td><td>0.263826950626441</td><td>0.0586</td></tr>\n",
       "<tr><td>24</td><td>28.426117398799622</td><td>29.9332331947812</td><td>0.02565</td></tr>\n",
       "<tr><td>25</td><td>29.20209302594828</td><td>-0.21257564289424907</td><td>0.04592</td></tr>\n",
       "<tr><td>26</td><td>30.277508348378763</td><td>31.882466909955568</td><td>0.01732</td></tr>\n",
       "<tr><td>27</td><td>31.079063267709888</td><td>-8.73530426364571</td><td>0.01781</td></tr>\n",
       "<tr><td>28</td><td>31.152022937077714</td><td>21.592110773362997</td><td>0.03026</td></tr>\n",
       "<tr><td>29</td><td>32.32539871135074</td><td>-23.41501729142025</td><td>0.01815</td></tr>\n",
       "<tr><td>30</td><td>33.76914561710635</td><td>-20.767721691711227</td><td>0.0531</td></tr>\n",
       "<tr><td>31</td><td>35.80530438843146</td><td>-4.516805057228698</td><td>0.0176</td></tr>\n",
       "<tr><td>32</td><td>36.84093343163276</td><td>-23.928797574399688</td><td>0.01701</td></tr>\n",
       "<tr><td>33</td><td>38.16368508735464</td><td>0.6174800302550463</td><td>0.02159</td></tr>\n",
       "<tr><td>34</td><td>38.50007000741023</td><td>20.97672954937044</td><td>0.01413</td></tr>\n",
       "<tr><td>35</td><td>39.54813153326115</td><td>-1.3187820609863203</td><td>0.00877</td></tr>\n",
       "<tr><td>36</td><td>41.45527796612677</td><td>3.2308570264747</td><td>0.02269</td></tr>\n",
       "<tr><td>37</td><td>42.53689201855506</td><td>12.843600662552223</td><td>0.03426</td></tr>\n",
       "<tr><td>38</td><td>43.0929418063175</td><td>-31.81726897668214</td><td>0.02315</td></tr>\n",
       "<tr><td>39</td><td>44.39029516826792</td><td>5.976947336773506</td><td>0.02309</td></tr>\n",
       "<tr><td>40</td><td>45.977065254148066</td><td>-11.99168455995024</td><td>0.01321</td></tr>\n",
       "<tr><td>41</td><td>46.31634243130507</td><td>-39.5607284002367</td><td>0.02017</td></tr>\n",
       "<tr><td>42</td><td>47.20131614582086</td><td>-7.040614405342262</td><td>0.02893</td></tr>\n",
       "<tr><td>43</td><td>49.39374312701508</td><td>-1.695098264951892</td><td>0.0283</td></tr>\n",
       "<tr><td>44</td><td>50.52719431292272</td><td>-15.399994443237496</td><td>0.00719</td></tr>\n",
       "<tr><td>45</td><td>50.673732942690876</td><td>-37.20802757898915</td><td>0.00587</td></tr>\n",
       "<tr><td>46</td><td>50.749959832746285</td><td>1.365731219734634</td><td>0.03303</td></tr>\n",
       "<tr><td>47</td><td>53.40165125377555</td><td>-36.140405651411335</td><td>0.00492</td></tr>\n",
       "<tr><td>48</td><td>54.1149290745103</td><td>-34.97606755178244</td><td>0.00492</td></tr>\n",
       "<tr><td>49</td><td>54.71639018121246</td><td>-35.594193407388744</td><td>0.00625</td></tr>\n",
       "<tr><td>50</td><td>55.56743856779452</td><td>-4.730834642989457</td><td>0.01355</td></tr>\n",
       "<tr><td>51</td><td>56.13370047600146</td><td>-44.64502449404264</td><td>0.00388</td></tr>\n",
       "<tr><td>52</td><td>64.40288884468781</td><td>-62.78350825492641</td><td>0.00435</td></tr>\n",
       "<tr><td>53</td><td>65.44842214399306</td><td>-15.755513960409372</td><td>0.03075</td></tr>\n",
       "<tr><td>54</td><td>74.24851655452663</td><td>-4.756914629608548</td><td>0.01312</td></tr>\n",
       "<tr><td>55</td><td>94.05691603011114</td><td>57.051591435566436</td><td>0.01667</td></tr>\n",
       "<tr><td>56</td><td>95.41140717336162</td><td>-59.739901619422206</td><td>0.00757</td></tr>\n",
       "<tr><td>57</td><td>99.31915061652415</td><td>49.850013073054185</td><td>0.0193</td></tr>\n",
       "<tr><td>58</td><td>107.92442930885984</td><td>49.8622316385567</td><td>0.01964</td></tr>\n",
       "<tr><td>59</td><td>109.42068454650259</td><td>23.35652240895299</td><td>0.00759</td></tr>\n",
       "<tr><td>60</td><td>111.67801384642429</td><td>47.09405435721456</td><td>0.01012</td></tr>\n",
       "<tr><td>61</td><td>117.04572288586495</td><td>28.230292675022618</td><td>0.02716</td></tr>\n",
       "<tr><td>62</td><td>120.03597501892347</td><td>56.365601967752845</td><td>0.02837</td></tr>\n",
       "<tr><td>63</td><td>122.9311557449567</td><td>41.55496519403228</td><td>0.03155</td></tr>\n",
       "<tr><td>64</td><td>124.47305173831056</td><td>23.47216204565948</td><td>0.01381</td></tr>\n",
       "<tr><td>65</td><td>125.00713780491701</td><td>62.83067701703853</td><td>0.02441</td></tr>\n",
       "<tr><td>66</td><td>126.77485007718217</td><td>21.645272340064952</td><td>0.02515</td></tr>\n",
       "<tr><td>67</td><td>126.9251296492152</td><td>21.479101240529438</td><td>0.01497</td></tr>\n",
       "<tr><td>68</td><td>127.88703079167226</td><td>-1.197846408138689</td><td>0.03044</td></tr>\n",
       "<tr><td>69</td><td>128.82204982258406</td><td>28.473315868089223</td><td>0.00719</td></tr>\n",
       "<tr><td>70</td><td>129.06417241183408</td><td>28.06025339586513</td><td>0.01169</td></tr>\n",
       "<tr><td>71</td><td>129.59937827805567</td><td>17.631321452251985</td><td>0.0274</td></tr>\n",
       "<tr><td>72</td><td>130.20996179477254</td><td>73.48671982197006</td><td>0.01208</td></tr>\n",
       "<tr><td>73</td><td>133.90898099088375</td><td>78.22329969426394</td><td>0.00452</td></tr>\n",
       "<tr><td>74</td><td>134.8939790618242</td><td>45.926586126960714</td><td>0.02812</td></tr>\n",
       "<tr><td>75</td><td>136.90266516818903</td><td>3.3929155416690753</td><td>0.01255</td></tr>\n",
       "<tr><td>76</td><td>138.74866192392997</td><td>29.73021055871006</td><td>0.02227</td></tr>\n",
       "<tr><td>77</td><td>139.9451806756516</td><td>33.74971111026585</td><td>0.02233</td></tr>\n",
       "<tr><td>78</td><td>142.78283737960572</td><td>46.38424906340434</td><td>0.01681</td></tr>\n",
       "<tr><td>79</td><td>144.38658332542596</td><td>23.20345443513253</td><td>0.02484</td></tr>\n",
       "<tr><td>80</td><td>144.4916637757236</td><td>25.494803740531605</td><td>0.01351</td></tr>\n",
       "<tr><td>81</td><td>145.22474431763305</td><td>5.165834924096602</td><td>0.00668</td></tr>\n",
       "<tr><td>82</td><td>146.64484970656875</td><td>30.65302311333863</td><td>0.03316</td></tr>\n",
       "<tr><td>83</td><td>146.70662342856758</td><td>16.042826882074767</td><td>0.01979</td></tr>\n",
       "<tr><td>84</td><td>147.73833809089385</td><td>33.55391168615453</td><td>0.00504</td></tr>\n",
       "<tr><td>85</td><td>148.4551269440475</td><td>9.19377828115004</td><td>0.02992</td></tr>\n",
       "<tr><td>86</td><td>153.9260446730727</td><td>55.66747619514791</td><td>0.02438</td></tr>\n",
       "<tr><td>87</td><td>154.2229244056088</td><td>73.40060778229771</td><td>0.00973</td></tr>\n",
       "<tr><td>88</td><td>154.82338083770287</td><td>4.763040060652233</td><td>0.04611</td></tr>\n",
       "<tr><td>89</td><td>155.14635601822872</td><td>-2.4683838402913123</td><td>0.0627</td></tr>\n",
       "<tr><td>90</td><td>156.76643264429208</td><td>16.01793074942798</td><td>0.03229</td></tr>\n",
       "<tr><td>91</td><td>156.79745578380707</td><td>71.41789452962448</td><td>0.03472</td></tr>\n",
       "<tr><td>92</td><td>157.3330918355282</td><td>29.49182587453388</td><td>0.00452</td></tr>\n",
       "<tr><td>93</td><td>159.06792846831127</td><td>37.32461684164784</td><td>0.00523</td></tr>\n",
       "<tr><td>94</td><td>160.11822900394466</td><td>9.182567789240485</td><td>0.01946</td></tr>\n",
       "<tr><td>95</td><td>160.67171686549432</td><td>58.844163276349036</td><td>0.03123</td></tr>\n",
       "<tr><td>96</td><td>161.7608726697525</td><td>26.542939219534812</td><td>0.02104</td></tr>\n",
       "<tr><td>97</td><td>161.76688892368006</td><td>17.273650548178757</td><td>0.00427</td></tr>\n",
       "<tr><td>98</td><td>162.03121073218878</td><td>0.16710794329884093</td><td>0.0393</td></tr>\n",
       "<tr><td>99</td><td>162.7625428298265</td><td>65.7815450837589</td><td>0.01105</td></tr>\n",
       "<tr><td>100</td><td>163.35017035428385</td><td>16.7726150482748</td><td>0.00352</td></tr>\n",
       "<tr><td>101</td><td>163.51009301182262</td><td>46.027906165169306</td><td>0.04146</td></tr>\n",
       "<tr><td>102</td><td>163.74523103475497</td><td>14.271592751545187</td><td>0.05547</td></tr>\n",
       "<tr><td>103</td><td>166.89902226070595</td><td>22.852283859312482</td><td>0.02222</td></tr>\n",
       "<tr><td>104</td><td>167.35750192481072</td><td>29.56920749821272</td><td>0.03486</td></tr>\n",
       "<tr><td>105</td><td>167.6264246427168</td><td>55.16987204056257</td><td>0.05776</td></tr>\n",
       "<tr><td>106</td><td>168.54540322469134</td><td>48.31849634295035</td><td>0.00702</td></tr>\n",
       "<tr><td>107</td><td>169.81925802010926</td><td>20.813549643709585</td><td>0.02075</td></tr>\n",
       "<tr><td>108</td><td>169.87853737723987</td><td>54.4608336700833</td><td>0.06965</td></tr>\n",
       "<tr><td>109</td><td>170.25058017983687</td><td>21.336859606941076</td><td>0.02103</td></tr>\n",
       "<tr><td>110</td><td>176.44215645011158</td><td>19.77376056473755</td><td>0.02184</td></tr>\n",
       "<tr><td>111</td><td>177.86762150409777</td><td>22.025960275982264</td><td>0.02567</td></tr>\n",
       "<tr><td>112</td><td>178.46181470159834</td><td>33.36549546616483</td><td>0.01074</td></tr>\n",
       "<tr><td>113</td><td>178.93803293462844</td><td>55.32058533670165</td><td>0.00313</td></tr>\n",
       "<tr><td>114</td><td>179.04309231411216</td><td>60.522516926258675</td><td>0.03275</td></tr>\n",
       "<tr><td>115</td><td>179.11738820825124</td><td>55.125143810334784</td><td>0.00313</td></tr>\n",
       "<tr><td>116</td><td>179.3366517200274</td><td>25.194901123374095</td><td>0.01488</td></tr>\n",
       "<tr><td>117</td><td>180.36147704840658</td><td>61.89578798182767</td><td>0.00462</td></tr>\n",
       "<tr><td>118</td><td>181.0226087463022</td><td>14.065518828786328</td><td>0.04385</td></tr>\n",
       "<tr><td>119</td><td>182.02443450304796</td><td>65.1743496924212</td><td>0.00452</td></tr>\n",
       "<tr><td>120</td><td>183.0621001236928</td><td>56.17750549824788</td><td>0.03103</td></tr>\n",
       "<tr><td>121</td><td>183.40368689534546</td><td>46.49394185097993</td><td>0.02428</td></tr>\n",
       "<tr><td>122</td><td>184.04869216246144</td><td>47.88321925580775</td><td>0.332</td></tr>\n",
       "<tr><td>123</td><td>184.32179701096754</td><td>16.37157868352906</td><td>0.02303</td></tr>\n",
       "<tr><td>124</td><td>184.80599676846225</td><td>22.431403183179057</td><td>0.02229</td></tr>\n",
       "<tr><td>125</td><td>185.69491079169302</td><td>65.84382967504618</td><td>0.00887</td></tr>\n",
       "<tr><td>126</td><td>186.11831317413774</td><td>75.5289701772639</td><td>0.00533</td></tr>\n",
       "<tr><td>127</td><td>186.15649233384622</td><td>10.839020676925978</td><td>0.02617</td></tr>\n",
       "<tr><td>128</td><td>186.79849939237772</td><td>9.420521531074511</td><td>0.00144</td></tr>\n",
       "<tr><td>129</td><td>187.78487295528637</td><td>0.6137029181166687</td><td>0.02308</td></tr>\n",
       "<tr><td>130</td><td>187.8453934692887</td><td>29.136382386119294</td><td>0.01524</td></tr>\n",
       "<tr><td>131</td><td>188.51242931301545</td><td>7.699284080415375</td><td>0.00187</td></tr>\n",
       "<tr><td>132</td><td>188.61258665525952</td><td>2.18772446630326</td><td>0.00236</td></tr>\n",
       "<tr><td>133</td><td>188.74730632064004</td><td>50.8511232755914</td><td>0.03964</td></tr>\n",
       "<tr><td>134</td><td>190.27434729809815</td><td>50.39335361886676</td><td>0.01557</td></tr>\n",
       "<tr><td>135</td><td>190.4355764268698</td><td>35.06274740206694</td><td>0.02309</td></tr>\n",
       "<tr><td>136</td><td>190.7049954632934</td><td>10.35749730625399</td><td>0.02531</td></tr>\n",
       "<tr><td>137</td><td>190.71822645708647</td><td>13.257368007938961</td><td>0.00355</td></tr>\n",
       "<tr><td>138</td><td>191.19000635834473</td><td>9.757302870593687</td><td>0.04655</td></tr>\n",
       "<tr><td>139</td><td>191.3828714913132</td><td>54.73758007364617</td><td>0.01608</td></tr>\n",
       "<tr><td>140</td><td>191.41100472956492</td><td>35.08374982623915</td><td>0.03224</td></tr>\n",
       "<tr><td>141</td><td>192.19344964098647</td><td>41.92123127430548</td><td>0.02731</td></tr>\n",
       "<tr><td>142</td><td>193.1446319394063</td><td>-9.776589340746327</td><td>0.00853</td></tr>\n",
       "<tr><td>143</td><td>193.70744925672582</td><td>58.882325081410485</td><td>0.00856</td></tr>\n",
       "<tr><td>144</td><td>195.81711237209248</td><td>50.62074659679528</td><td>0.02362</td></tr>\n",
       "<tr><td>145</td><td>196.83542457069876</td><td>35.788555901994364</td><td>0.03667</td></tr>\n",
       "<tr><td>146</td><td>196.91423465988257</td><td>6.335930873434685</td><td>0.02385</td></tr>\n",
       "<tr><td>147</td><td>196.97837034880357</td><td>34.087107469765854</td><td>0.03548</td></tr>\n",
       "<tr><td>148</td><td>198.88628797402825</td><td>3.5007770112930943</td><td>0.02015</td></tr>\n",
       "<tr><td>149</td><td>200.37713948140257</td><td>-2.145545190055468</td><td>0.03457</td></tr>\n",
       "<tr><td>150</td><td>200.4393679287711</td><td>31.237213820397297</td><td>0.02409</td></tr>\n",
       "<tr><td>151</td><td>201.10595300321182</td><td>30.959269352616815</td><td>0.04844</td></tr>\n",
       "<tr><td>152</td><td>202.3068366158842</td><td>11.275816242075676</td><td>0.02194</td></tr>\n",
       "<tr><td>153</td><td>202.3511662678397</td><td>11.797020107878943</td><td>0.02269</td></tr>\n",
       "<tr><td>154</td><td>202.68725977942913</td><td>32.76060864277974</td><td>0.01558</td></tr>\n",
       "<tr><td>155</td><td>204.37236357161794</td><td>4.104424310062441</td><td>0.02306</td></tr>\n",
       "<tr><td>156</td><td>205.9175010300047</td><td>3.8965018144234658</td><td>0.02324</td></tr>\n",
       "<tr><td>157</td><td>207.70345503812052</td><td>49.315128099073725</td><td>0.02823</td></tr>\n",
       "<tr><td>158</td><td>208.16595621705648</td><td>-1.9975376296322276</td><td>0.02402</td></tr>\n",
       "<tr><td>159</td><td>208.36122986931267</td><td>40.28304928999741</td><td>0.00775</td></tr>\n",
       "<tr><td>160</td><td>208.5365812265285</td><td>9.412747688033388</td><td>0.0229</td></tr>\n",
       "<tr><td>161</td><td>210.8030425957459</td><td>54.34885971354772</td><td>0.00082</td></tr>\n",
       "<tr><td>162</td><td>210.8156229607473</td><td>41.60634361126989</td><td>0.03442</td></tr>\n",
       "<tr><td>163</td><td>211.64542310327974</td><td>-5.452861231483264</td><td>0.00907</td></tr>\n",
       "<tr><td>164</td><td>212.85932288106468</td><td>1.2864896992818489</td><td>0.02493</td></tr>\n",
       "<tr><td>165</td><td>213.2135585696085</td><td>35.71088820651656</td><td>0.02782</td></tr>\n",
       "<tr><td>166</td><td>213.91337315609277</td><td>14.282653684988306</td><td>0.01844</td></tr>\n",
       "<tr><td>167</td><td>214.13251607404553</td><td>39.58906617981479</td><td>0.02561</td></tr>\n",
       "<tr><td>168</td><td>215.59893104954324</td><td>-0.38726228586054096</td><td>0.00552</td></tr>\n",
       "<tr><td>169</td><td>216.8286407824725</td><td>-1.6784609141173013</td><td>0.05399</td></tr>\n",
       "<tr><td>170</td><td>217.78771500073745</td><td>27.23731869079982</td><td>0.01502</td></tr>\n",
       "<tr><td>171</td><td>218.65411052258918</td><td>59.337953000843115</td><td>0.00638</td></tr>\n",
       "<tr><td>172</td><td>221.7763418416948</td><td>11.593798291324509</td><td>0.0292</td></tr>\n",
       "<tr><td>173</td><td>222.152437365666</td><td>-4.736267192348342</td><td>0.04175</td></tr>\n",
       "<tr><td>174</td><td>224.01822004979894</td><td>45.405216901145195</td><td>0.03694</td></tr>\n",
       "<tr><td>175</td><td>225.9386946200989</td><td>-3.302675479307726</td><td>0.0214</td></tr>\n",
       "<tr><td>176</td><td>226.36454230452435</td><td>1.6348034579705546</td><td>0.00539</td></tr>\n",
       "<tr><td>177</td><td>227.8668743968536</td><td>13.483545702962672</td><td>0.02206</td></tr>\n",
       "<tr><td>178</td><td>227.9515698612108</td><td>46.253845041926155</td><td>0.01819</td></tr>\n",
       "<tr><td>179</td><td>229.1742387126893</td><td>7.396884239974654</td><td>0.03474</td></tr>\n",
       "<tr><td>180</td><td>237.80535140623437</td><td>25.70187962088833</td><td>0.02146</td></tr>\n",
       "<tr><td>181</td><td>238.23216907705157</td><td>65.93564717635662</td><td>0.03642</td></tr>\n",
       "<tr><td>182</td><td>239.63493581307083</td><td>17.44144523491884</td><td>0.00726</td></tr>\n",
       "<tr><td>183</td><td>240.66894049559664</td><td>37.35948279180635</td><td>0.03111</td></tr>\n",
       "<tr><td>184</td><td>240.7073606982907</td><td>47.224661577307735</td><td>0.02025</td></tr>\n",
       "<tr><td>185</td><td>241.80421950616525</td><td>7.979015895381451</td><td>0.00947</td></tr>\n",
       "<tr><td>186</td><td>244.12791423695958</td><td>35.70807245441041</td><td>0.03034</td></tr>\n",
       "<tr><td>187</td><td>244.52221171656183</td><td>21.55367270426366</td><td>0.0341</td></tr>\n",
       "<tr><td>188</td><td>247.15956875168354</td><td>39.55128892479941</td><td>0.03063</td></tr>\n",
       "<tr><td>189</td><td>247.43702872670764</td><td>40.811626721822954</td><td>0.03065</td></tr>\n",
       "<tr><td>190</td><td>248.62036840331086</td><td>76.02970016790478</td><td>0.04069</td></tr>\n",
       "<tr><td>191</td><td>250.80520893699511</td><td>32.677919993003336</td><td>0.05287</td></tr>\n",
       "<tr><td>192</td><td>251.8115640370971</td><td>40.24507208030224</td><td>0.02953</td></tr>\n",
       "<tr><td>193</td><td>253.24556473262803</td><td>2.401008395924953</td><td>0.02427</td></tr>\n",
       "<tr><td>194</td><td>254.1271561573227</td><td>27.977557742461286</td><td>0.03518</td></tr>\n",
       "<tr><td>195</td><td>255.4551624785446</td><td>79.03779718896652</td><td>0.06499</td></tr>\n",
       "<tr><td>196</td><td>255.97098808040522</td><td>31.499147205199133</td><td>0.0334</td></tr>\n",
       "<tr><td>197</td><td>257.4336943729507</td><td>62.9730412854569</td><td>0.02734</td></tr>\n",
       "<tr><td>198</td><td>257.7745248787549</td><td>5.852070137808159</td><td>0.02246</td></tr>\n",
       "<tr><td>199</td><td>257.8779384492208</td><td>7.994701070174863</td><td>0.00855</td></tr>\n",
       "<tr><td>200</td><td>258.8932257806462</td><td>16.324913362484484</td><td>0.03099</td></tr>\n",
       "<tr><td>201</td><td>260.6827820238876</td><td>62.166054477671466</td><td>0.0281</td></tr>\n",
       "<tr><td>202</td><td>261.6729903530674</td><td>13.909675176637956</td><td>0.0232</td></tr>\n",
       "<tr><td>203</td><td>267.0511733417623</td><td>17.625238379277825</td><td>0.02117</td></tr>\n",
       "<tr><td>204</td><td>268.024614359025</td><td>21.56910847573025</td><td>0.02039</td></tr>\n",
       "<tr><td>205</td><td>269.4208805385422</td><td>27.834807118933913</td><td>0.02289</td></tr>\n",
       "<tr><td>206</td><td>269.87407163766545</td><td>43.39193843883055</td><td>0.02551</td></tr>\n",
       "<tr><td>207</td><td>270.3900871018879</td><td>26.252870398513817</td><td>0.01587</td></tr>\n",
       "<tr><td>208</td><td>270.6027152575383</td><td>26.043084270803437</td><td>0.01526</td></tr>\n",
       "<tr><td>209</td><td>272.73947388383266</td><td>31.11614814479736</td><td>0.02252</td></tr>\n",
       "<tr><td>210</td><td>272.79059974661305</td><td>49.864668765859626</td><td>0.05014</td></tr>\n",
       "<tr><td>211</td><td>275.76742359830644</td><td>29.901353008709023</td><td>0.02696</td></tr>\n",
       "<tr><td>212</td><td>277.6059747873714</td><td>34.10282578054103</td><td>0.0209</td></tr>\n",
       "<tr><td>213</td><td>279.9942899037311</td><td>39.98178962534792</td><td>0.02271</td></tr>\n",
       "<tr><td>214</td><td>281.7399093858201</td><td>45.70560970073437</td><td>0.01584</td></tr>\n",
       "<tr><td>215</td><td>284.66956183332627</td><td>43.46837949828199</td><td>0.02902</td></tr>\n",
       "<tr><td>216</td><td>290.1264476384166</td><td>54.21139657883524</td><td>0.04457</td></tr>\n",
       "<tr><td>217</td><td>291.89981733155946</td><td>54.372772887021476</td><td>0.01454</td></tr>\n",
       "<tr><td>218</td><td>311.4773740769544</td><td>-51.391222701638355</td><td>0.01484</td></tr>\n",
       "<tr><td>219</td><td>311.8294767404334</td><td>0.3208036383758203</td><td>0.01321</td></tr>\n",
       "<tr><td>220</td><td>317.40117559271334</td><td>15.124929313604255</td><td>0.03074</td></tr>\n",
       "<tr><td>221</td><td>318.44117481364674</td><td>13.574909558705505</td><td>0.01679</td></tr>\n",
       "<tr><td>222</td><td>320.2574087304202</td><td>9.177629207276864</td><td>0.02095</td></tr>\n",
       "<tr><td>223</td><td>322.74018503314335</td><td>13.986097567209605</td><td>0.02873</td></tr>\n",
       "<tr><td>224</td><td>324.3673634915039</td><td>-47.03579107878234</td><td>0.03167</td></tr>\n",
       "<tr><td>225</td><td>332.7155880869287</td><td>2.105823792355053</td><td>0.04119</td></tr>\n",
       "<tr><td>226</td><td>334.77622137774824</td><td>24.598141656863568</td><td>0.02751</td></tr>\n",
       "<tr><td>227</td><td>338.10188253614433</td><td>30.8355526425286</td><td>0.03467</td></tr>\n",
       "<tr><td>228</td><td>338.4603256257378</td><td>20.805315465574257</td><td>0.03438</td></tr>\n",
       "<tr><td>229</td><td>338.52820962316974</td><td>5.570319902599397</td><td>0.01509</td></tr>\n",
       "<tr><td>230</td><td>339.88377649723327</td><td>8.612878469447784</td><td>0.02483</td></tr>\n",
       "<tr><td>231</td><td>340.5438717108152</td><td>19.996903699210126</td><td>0.03101</td></tr>\n",
       "<tr><td>232</td><td>341.1015008239745</td><td>-0.16203900665926546</td><td>0.01616</td></tr>\n",
       "<tr><td>233</td><td>341.55172596295404</td><td>10.55708592250612</td><td>0.03888</td></tr>\n",
       "<tr><td>234</td><td>345.4514057198874</td><td>15.58256759893538</td><td>0.01411</td></tr>\n",
       "<tr><td>235</td><td>345.815152005144</td><td>8.873801639621727</td><td>0.01631</td></tr>\n",
       "<tr><td>236</td><td>346.28151714107753</td><td>-3.2044446851832276</td><td>0.03207</td></tr>\n",
       "<tr><td>237</td><td>347.5196486406654</td><td>30.224262920637848</td><td>0.03198</td></tr>\n",
       "<tr><td>238</td><td>348.6815733604135</td><td>4.534015969994155</td><td>0.00893</td></tr>\n",
       "<tr><td>239</td><td>348.80003161916994</td><td>-44.73679328290447</td><td>0.04359</td></tr>\n",
       "<tr><td>240</td><td>348.82184644686924</td><td>19.04179561867023</td><td>0.01649</td></tr>\n",
       "<tr><td>241</td><td>351.9862656738333</td><td>8.778956507384587</td><td>0.02901</td></tr>\n",
       "<tr><td>242</td><td>352.1160700909868</td><td>22.42107161207016</td><td>0.01169</td></tr>\n",
       "<tr><td>243</td><td>354.70289927053943</td><td>-6.51782520673833</td><td>0.00672</td></tr>\n",
       "<tr><td>244</td><td>355.44724604719283</td><td>-3.6673777658759237</td><td>0.02284</td></tr>\n",
       "<tr><td>245</td><td>355.46939172903643</td><td>-8.648229258222148</td><td>0.0343</td></tr>\n",
       "<tr><td>246</td><td>356.7701070306962</td><td>29.48347834278187</td><td>0.01727</td></tr>\n",
       "<tr><td>247</td><td>356.8518001619832</td><td>28.39343808209683</td><td>0.03013</td></tr>\n",
       "<tr><td>248</td><td>357.8703876850166</td><td>-13.38158928831103</td><td>0.02341</td></tr>\n",
       "<tr><td>249</td><td>358.15170186557145</td><td>14.551437606546093</td><td>0.02648</td></tr>\n",
       "<tr><td>250</td><td>358.3839531540097</td><td>8.118072509330803</td><td>0.01782</td></tr>\n",
       "<tr><td>251</td><td>359.2152887535957</td><td>5.508280732696897</td><td>0.01803</td></tr>\n",
       "<tr><td>252</td><td>359.7385514268262</td><td>-2.2496140287740403</td><td>0.02526</td></tr>\n",
       "<tr><td>253</td><td>18.488280844924994</td><td>0.37141896417772396</td><td>0.04539</td></tr>\n",
       "<tr><td>254</td><td>219.46024683958683</td><td>30.48321685921514</td><td>0.03483</td></tr>\n",
       "<tr><td>255</td><td>191.60336706570166</td><td>11.949558621287839</td><td>0.04558</td></tr>\n",
       "<tr><td>256</td><td>197.03796217462173</td><td>27.82659833944542</td><td>0.02306</td></tr>\n",
       "<tr><td>257</td><td>152.69005070035243</td><td>-3.7789161361800137</td><td>0.05953</td></tr>\n",
       "<tr><td>258</td><td>38.00566324212267</td><td>-26.665760060215888</td><td>0.04332</td></tr>\n",
       "<tr><td>259</td><td>149.64744389119485</td><td>0.742783795679439</td><td>0.06479</td></tr>\n",
       "<tr><td>260</td><td>24.653072735728124</td><td>-4.68274465374227</td><td>0.04879</td></tr>\n",
       "<tr><td>261</td><td>57.430386664618375</td><td>-3.259719165731561</td><td>0.01286</td></tr>\n",
       "<tr><td>262</td><td>128.23874696930872</td><td>-3.858204323415718</td><td>0.03059</td></tr>\n",
       "<tr><td>263</td><td>61.56160879175355</td><td>-8.886369318734953</td><td>0.03672</td></tr>\n",
       "<tr><td>264</td><td>38.8931533887615</td><td>-6.063902595457827</td><td>0.03081</td></tr>\n",
       "<tr><td>265</td><td>348.9401804877289</td><td>-1.3372052786408133</td><td>0.02531</td></tr>\n",
       "<tr><td>266</td><td>224.1800507255773</td><td>9.326759919835096</td><td>0.07954</td></tr>\n",
       "<tr><td>267</td><td>213.59581536677078</td><td>2.9754169716642473</td><td>0.02604</td></tr>\n",
       "<tr><td>268</td><td>27.428023606501704</td><td>32.62519713618633</td><td>0.03763</td></tr>\n",
       "<tr><td>269</td><td>152.33205570817242</td><td>14.990915851873622</td><td>0.0307</td></tr>\n",
       "<tr><td>270</td><td>240.960593504976</td><td>39.98879768654996</td><td>0.03183</td></tr>\n",
       "<tr><td>271</td><td>333.66958138726056</td><td>5.078566405446778</td><td>0.02604</td></tr>\n",
       "<tr><td>272</td><td>323.74725218752644</td><td>-62.73733075407516</td><td>0.05057</td></tr>\n",
       "<tr><td>273</td><td>74.86076361205268</td><td>-58.82966477788248</td><td>0.045</td></tr>\n",
       "<tr><td>274</td><td>53.908013297764086</td><td>-28.31784624080859</td><td>0.38182</td></tr>\n",
       "<tr><td>275</td><td>32.86760158586268</td><td>-16.511315192528063</td><td>0.05312</td></tr>\n",
       "<tr><td>276</td><td>45.38503839208042</td><td>-15.017374454212533</td><td>0.03064</td></tr>\n",
       "<tr><td>277</td><td>346.66527971535595</td><td>-12.573124182239177</td><td>0.03309</td></tr>\n",
       "<tr><td>278</td><td>341.3919735226073</td><td>-8.750731806970112</td><td>0.0499</td></tr>\n",
       "<tr><td>279</td><td>2.8642925042152965</td><td>-6.4304490619575585</td><td>0.02468</td></tr>\n",
       "<tr><td>280</td><td>203.1490399754881</td><td>-5.272679781726945</td><td>0.0289</td></tr>\n",
       "<tr><td>281</td><td>14.075331313168729</td><td>-1.6258459026972198</td><td>0.0448</td></tr>\n",
       "<tr><td>282</td><td>31.616215107337037</td><td>-0.8980977524893079</td><td>0.07944</td></tr>\n",
       "<tr><td>283</td><td>344.9276912671828</td><td>-0.013499018028215792</td><td>0.04525</td></tr>\n",
       "<tr><td>284</td><td>309.47265166652227</td><td>1.2194066153605438</td><td>0.07995</td></tr>\n",
       "<tr><td>285</td><td>150.80634335939453</td><td>1.8953231518117883</td><td>0.04551</td></tr>\n",
       "<tr><td>286</td><td>226.51108253507923</td><td>7.561598609820689</td><td>0.03768</td></tr>\n",
       "<tr><td>287</td><td>189.74214963337886</td><td>11.130562044692144</td><td>0.06015</td></tr>\n",
       "<tr><td>288</td><td>9.075552235705782</td><td>11.39307236428287</td><td>0.036</td></tr>\n",
       "<tr><td>289</td><td>215.06739893160577</td><td>15.344188472451787</td><td>0.06828</td></tr>\n",
       "<tr><td>290</td><td>236.13115171691356</td><td>16.30389356827199</td><td>0.04954</td></tr>\n",
       "<tr><td>291</td><td>3.750387114170041</td><td>16.333116624751796</td><td>0.0276</td></tr>\n",
       "<tr><td>292</td><td>353.94940383569053</td><td>20.70739227603226</td><td>0.06194</td></tr>\n",
       "<tr><td>293</td><td>248.3332526197433</td><td>23.73227686513131</td><td>0.03323</td></tr>\n",
       "<tr><td>294</td><td>324.9220907324357</td><td>24.405022346634247</td><td>0.03817</td></tr>\n",
       "<tr><td>295</td><td>174.64047580672994</td><td>25.39800640254684</td><td>0.02537</td></tr>\n",
       "<tr><td>296</td><td>171.98022229922276</td><td>27.347016349064653</td><td>0.03265</td></tr>\n",
       "<tr><td>297</td><td>126.78406898818248</td><td>27.81044219493383</td><td>0.02028</td></tr>\n",
       "<tr><td>298</td><td>14.381398963566893</td><td>30.185927545305333</td><td>0.01633</td></tr>\n",
       "<tr><td>299</td><td>145.81399417467728</td><td>36.28578333949696</td><td>0.02062</td></tr>\n",
       "<tr><td>300</td><td>253.70557951346808</td><td>36.7274952133354</td><td>0.07096</td></tr>\n",
       "<tr><td>301</td><td>233.094329762166</td><td>41.849940875255406</td><td>0.04277</td></tr>\n",
       "<tr><td>302</td><td>269.41898233733605</td><td>50.033462044242874</td><td>0.0223</td></tr>\n",
       "<tr><td>303</td><td>211.96962624645735</td><td>9.641261298984078</td><td>0.0544</td></tr>\n",
       "<tr><td>304</td><td>47.63180183639117</td><td>4.271654938411772</td><td>0.02317</td></tr>\n",
       "<tr><td>305</td><td>343.7918191725568</td><td>-0.409400458123421</td><td>0.06889</td></tr>\n",
       "<tr><td>306</td><td>358.58630652057775</td><td>-0.9172665240424744</td><td>0.10484</td></tr>\n",
       "<tr><td>307</td><td>4.174364109436501</td><td>-0.4251681801963699</td><td>0.10467</td></tr>\n",
       "<tr><td>308</td><td>19.052955335493984</td><td>0.7905603614115851</td><td>0.08658</td></tr>\n",
       "<tr><td>309</td><td>46.34433726042309</td><td>0.8597654445678179</td><td>0.11813</td></tr>\n",
       "<tr><td>310</td><td>150.19390410171445</td><td>2.5512659271007307</td><td>0.10682</td></tr>\n",
       "<tr><td>311</td><td>230.67149650848938</td><td>50.976698931704554</td><td>0.03468</td></tr>\n",
       "<tr><td>312</td><td>200.30366670903584</td><td>40.2657704874295</td><td>0.03505</td></tr>\n",
       "<tr><td>313</td><td>209.76644723434254</td><td>33.13824682465341</td><td>0.05093</td></tr>\n",
       "<tr><td>314</td><td>234.6395908136752</td><td>13.345177030781356</td><td>0.04924</td></tr>\n",
       "<tr><td>315</td><td>28.142343827846958</td><td>1.244121878166849</td><td>0.10855</td></tr>\n",
       "<tr><td>316</td><td>164.69575526280218</td><td>59.48678207042726</td><td>0.02237</td></tr>\n",
       "<tr><td>317</td><td>171.41118245164265</td><td>22.831800974387075</td><td>0.03139</td></tr>\n",
       "</table><style>table.dataTable {clear: both; width: auto !important; margin: 0 !important;}\n",
       ".dataTables_info, .dataTables_length, .dataTables_filter, .dataTables_paginate{\n",
       "display: inline-block; margin-right: 1em; }\n",
       ".paginate_button { margin-right: 5px; }\n",
       "</style>\n",
       "<script>\n",
       "\n",
       "var astropy_sort_num = function(a, b) {\n",
       "    var a_num = parseFloat(a);\n",
       "    var b_num = parseFloat(b);\n",
       "\n",
       "    if (isNaN(a_num) && isNaN(b_num))\n",
       "        return ((a < b) ? -1 : ((a > b) ? 1 : 0));\n",
       "    else if (!isNaN(a_num) && !isNaN(b_num))\n",
       "        return ((a_num < b_num) ? -1 : ((a_num > b_num) ? 1 : 0));\n",
       "    else\n",
       "        return isNaN(a_num) ? -1 : 1;\n",
       "}\n",
       "\n",
       "require.config({paths: {\n",
       "    datatables: 'https://cdn.datatables.net/1.10.12/js/jquery.dataTables.min'\n",
       "}});\n",
       "require([\"datatables\"], function(){\n",
       "    console.log(\"$('#table140447006574528-834832').dataTable()\");\n",
       "    \n",
       "jQuery.extend( jQuery.fn.dataTableExt.oSort, {\n",
       "    \"optionalnum-asc\": astropy_sort_num,\n",
       "    \"optionalnum-desc\": function (a,b) { return -astropy_sort_num(a, b); }\n",
       "});\n",
       "\n",
       "    $('#table140447006574528-834832').dataTable({\n",
       "        order: [],\n",
       "        pageLength: 50,\n",
       "        lengthMenu: [[10, 25, 50, 100, 500, 1000, -1], [10, 25, 50, 100, 500, 1000, 'All']],\n",
       "        pagingType: \"full_numbers\",\n",
       "        columnDefs: [{targets: [0, 1, 2, 3], type: \"optionalnum\"}]\n",
       "    });\n",
       "});\n",
       "</script>\n"
      ],
      "text/plain": [
       "<IPython.core.display.HTML object>"
      ]
     },
     "execution_count": 19,
     "metadata": {},
     "output_type": "execute_result"
    }
   ],
   "source": [
    "SGA[['RA', 'DEC', 'z_PantheonSH0ES']][np.isfinite(SGA['DM_PantheonSH0ES'])].show_in_notebook()"
   ]
  },
  {
   "cell_type": "code",
   "execution_count": 21,
   "id": "92410116-dd98-4213-9389-18d77b9e4054",
   "metadata": {
    "tags": []
   },
   "outputs": [],
   "source": [
    "SGA.write('SGA_distances.fits', format='fits', overwrite=True)"
   ]
  },
  {
   "cell_type": "code",
   "execution_count": null,
   "id": "93f65e50-0a65-4149-b9e8-83a9966443f7",
   "metadata": {},
   "outputs": [],
   "source": []
  }
 ],
 "metadata": {
  "kernelspec": {
   "display_name": "DESI master",
   "language": "python",
   "name": "desi-master"
  },
  "language_info": {
   "codemirror_mode": {
    "name": "ipython",
    "version": 3
   },
   "file_extension": ".py",
   "mimetype": "text/x-python",
   "name": "python",
   "nbconvert_exporter": "python",
   "pygments_lexer": "ipython3",
   "version": "3.10.8"
  }
 },
 "nbformat": 4,
 "nbformat_minor": 5
}
