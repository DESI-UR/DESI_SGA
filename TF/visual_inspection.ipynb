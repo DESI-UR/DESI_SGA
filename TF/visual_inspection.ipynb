{
 "cells": [
  {
   "cell_type": "code",
   "execution_count": 1,
   "id": "924e391c-bbd4-4c2a-b031-9258dbdc137f",
   "metadata": {},
   "outputs": [],
   "source": [
    "## Module imports \n",
    "\n",
    "import numpy as np\n",
    "\n",
    "import matplotlib.pyplot as plt\n",
    "plt.rcParams[\"text.usetex\"] = False\n",
    "from matplotlib import cm, colors\n",
    "from matplotlib.patches import Ellipse\n",
    "import matplotlib as mpl\n",
    "\n",
    "from astropy.io import fits\n",
    "from astropy.table import Table\n",
    "from astropy.coordinates import SkyCoord\n",
    "from astropy import units as u\n",
    "from astropy.wcs import WCS\n",
    "from astropy.visualization.wcsaxes import SphericalCircle\n",
    "\n",
    "from scipy.ndimage import gaussian_filter1d\n",
    "\n",
    "import os\n",
    "\n",
    "import requests\n",
    "\n",
    "from desispec.io import read_spectra\n",
    "from desispec.spectra import stack as specstack\n",
    "from desispec.coaddition import coadd_cameras"
   ]
  },
  {
   "cell_type": "code",
   "execution_count": 2,
   "id": "a13954bd-6240-4f40-99a6-1a36ed6eafa1",
   "metadata": {},
   "outputs": [],
   "source": [
    "## Define constants\n",
    "\n",
    "h = 1\n",
    "H0 = 100*h\n",
    "c = 3e5\n",
    "q0 = 0.2"
   ]
  },
  {
   "cell_type": "markdown",
   "id": "92411cde-b5c7-4f69-85ab-b515b7350614",
   "metadata": {},
   "source": [
    "# Visual Inspection\n",
    "Trying to do the things to make Prospect work."
   ]
  },
  {
   "cell_type": "code",
   "execution_count": 3,
   "id": "977eba71-a6da-46c6-8f1d-8b13009b71b0",
   "metadata": {},
   "outputs": [
    {
     "data": {
      "text/html": [
       "<div><i>Table length=3</i>\n",
       "<table id=\"table139927932376432\" class=\"table-striped table-bordered table-condensed\">\n",
       "<thead><tr><th>TARGETID</th><th>TARGET_RA</th><th>TARGET_DEC</th><th>HEALPIX</th><th>SURVEY</th><th>Z</th><th>ZERR</th><th>ZWARN</th><th>DELTACHI2</th><th>FILENAME</th><th>PVTYPE</th><th>SGA_ID</th><th>RA</th><th>DEC</th></tr></thead>\n",
       "<thead><tr><th>int64</th><th>float64</th><th>float64</th><th>int64</th><th>bytes3</th><th>float64</th><th>float64</th><th>int64</th><th>float64</th><th>bytes63</th><th>bytes3</th><th>int64</th><th>float64</th><th>float64</th></tr></thead>\n",
       "<tr><td>1079550234591232</td><td>194.390863195343</td><td>27.5157211790145</td><td>10378</td><td>sv3</td><td>1.1235686466514</td><td>7.31685779475115e-05</td><td>4</td><td>3.28414569795132</td><td>fuji/healpix/sv3/bright/103/10378/redrock-sv3-bright-10378.fits</td><td>EXT</td><td>662902</td><td>194.39086319534337</td><td>27.51572117901454</td></tr>\n",
       "<tr><td>1092744374124544</td><td>194.390863195343</td><td>27.5157211790145</td><td>10378</td><td>sv3</td><td>0.686773088332363</td><td>6.9756676262104e-05</td><td>4</td><td>0.786607094109058</td><td>fuji/healpix/sv3/dark/103/10378/redrock-sv3-dark-10378.fits</td><td>EXT</td><td>662902</td><td>194.39086319534337</td><td>27.51572117901454</td></tr>\n",
       "<tr><td>1092744374124546</td><td>194.364461113654</td><td>27.5037185881314</td><td>10378</td><td>sv3</td><td>0.0242933923052181</td><td>4.95233472646785e-05</td><td>0</td><td>95.428411073226</td><td>fuji/healpix/sv3/dark/103/10378/redrock-sv3-dark-10378.fits</td><td>EXT</td><td>662902</td><td>194.36446111365385</td><td>27.50371858813136</td></tr>\n",
       "</table></div>"
      ],
      "text/plain": [
       "<Table length=3>\n",
       "    TARGETID        TARGET_RA     ...         RA                DEC       \n",
       "     int64           float64      ...      float64            float64     \n",
       "---------------- ---------------- ... ------------------ -----------------\n",
       "1079550234591232 194.390863195343 ... 194.39086319534337 27.51572117901454\n",
       "1092744374124544 194.390863195343 ... 194.39086319534337 27.51572117901454\n",
       "1092744374124546 194.364461113654 ... 194.36446111365385 27.50371858813136"
      ]
     },
     "execution_count": 3,
     "metadata": {},
     "output_type": "execute_result"
    }
   ],
   "source": [
    "tfuji_all = Table.read(\"/global/cfs/projectdirs/desi/science/td/pv/desi_pv_tf_fuji_healpix.fits\")\n",
    "tfuji = tfuji_all[tfuji_all[\"TARGETID\"] > 0]\n",
    "tfuji[:3]"
   ]
  },
  {
   "cell_type": "code",
   "execution_count": 4,
   "id": "cf513d82-7bd3-4722-82bd-3e495be8a703",
   "metadata": {},
   "outputs": [],
   "source": [
    "## Lewis's code to make a txt file of fuji data.\n",
    "\n",
    "def create_list_targetids(filename, data, filetype, separate=False):\n",
    "    \"\"\"\n",
    "    Creates a fits or txt files of the targetid names. \n",
    "    If separate=True, the targetids will be separated by \" separate_by \" \n",
    "    At least one is required to run prospect. \n",
    "    \n",
    "    Parameters\n",
    "    ----------\n",
    "    data : astropy.Table\n",
    "    filename: The beggining of the exported new filename\n",
    "    filetype: Do you want a fits file or txt file?\n",
    "    separate: if True, can create several files separated by a column\n",
    "    \n",
    "    Returns\n",
    "    -------\n",
    "    Creates a fits file or txt file with list of targetids.\n",
    "    \"\"\"\n",
    "    if separate == True:\n",
    "        colname = str(input(\"What would you like to separate by?\")).upper()\n",
    "        \n",
    "        for separate_by in np.unique(data[f'{colname}']):\n",
    "\n",
    "            PV_data = data[data[f'{colname}']==separate_by]\n",
    "            TARGETIDS = []\n",
    "            for target_id in np.unique(PV_data['TARGETID']):\n",
    "                TARGETIDS.append(target_id)\n",
    "\n",
    "            # Ensuring the data is the correct type  \n",
    "            TARGETIDS = np.array(TARGETIDS, dtype = np.int64)\n",
    "\n",
    "            if filetype == 'fits':\n",
    "                # Creating the fits file. Two different ways of doing it\n",
    "                \"\"\"hdu = fits.PrimaryHDU(TARGETIDS)\n",
    "                hdu.writeto(f'{filename}_{healpix}.fits', overwrite=True)\"\"\"\n",
    "                t = Table([TARGETIDS], names=('TARGETID',), \n",
    "                          meta={'name': f'TARGETID table TF FUJI {colname} separated. {colname} {separate_by}'})\n",
    "                t.write(f'{filename}_{colname}_{separate_by}.fits', format = 'fits', overwrite=True)\n",
    "            else:\n",
    "                # Creating txt file\n",
    "                np.savetxt(f'{filename}_{colname}_{separate_by}.txt', TARGETIDS, delimiter = ',', fmt = '%d')\n",
    "    \n",
    "    else:\n",
    "        TARGETIDS = []\n",
    "        for target_id in np.unique(data['TARGETID']):\n",
    "            TARGETIDS.append(target_id)\n",
    "\n",
    "        # Ensuring the data is the correct type  \n",
    "        TARGETIDS = np.array(TARGETIDS, dtype = np.int64)\n",
    "\n",
    "        if filetype == 'fits':\n",
    "            # Creating the fits file. Two different ways of doing it\n",
    "            \"\"\"hdu = fits.PrimaryHDU(TARGETIDS)\n",
    "            hdu.writeto(f'{filename}.fits', overwrite=True)\"\"\"\n",
    "            t = Table([TARGETIDS], names=('TARGETID',), meta={'name': f'TARGETID table after quality cuts TF FUJI HEALPIX'})\n",
    "            t.write(f'{filename}.fits', format = 'fits', overwrite=True)\n",
    "        else:\n",
    "            # Creating txt file\n",
    "            np.savetxt(f'{filename}.txt', TARGETIDS, delimiter = ',', fmt = '%d')\n",
    "    \n",
    "    # No return\n"
   ]
  },
  {
   "cell_type": "code",
   "execution_count": 10,
   "id": "9d2f2cf2-b1da-4d6c-9423-3a2ef692edf4",
   "metadata": {},
   "outputs": [],
   "source": [
    "create_list_targetids(\"tfuji_IDs\", tfuji, \"txt\", separate=False)"
   ]
  },
  {
   "cell_type": "code",
   "execution_count": null,
   "id": "995aded4-8fd1-47b0-acd8-809acf925d5e",
   "metadata": {},
   "outputs": [],
   "source": []
  }
 ],
 "metadata": {
  "kernelspec": {
   "display_name": "DESI main",
   "language": "python",
   "name": "desi-main"
  },
  "language_info": {
   "codemirror_mode": {
    "name": "ipython",
    "version": 3
   },
   "file_extension": ".py",
   "mimetype": "text/x-python",
   "name": "python",
   "nbconvert_exporter": "python",
   "pygments_lexer": "ipython3",
   "version": "3.10.8"
  }
 },
 "nbformat": 4,
 "nbformat_minor": 5
}
