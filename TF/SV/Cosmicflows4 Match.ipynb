{
 "cells": [
  {
   "cell_type": "code",
   "execution_count": 1,
   "id": "0abd07dc-9a87-416b-a06b-b7931573345f",
   "metadata": {},
   "outputs": [],
   "source": [
    "from astropy.table import Table, join, hstack, unique\n",
    "from astropy.io import ascii\n",
    "from astropy.coordinates import SkyCoord\n",
    "import astropy.units as u\n",
    "import numpy as np\n",
    "from glob import glob\n",
    "\n",
    "import matplotlib as mpl\n",
    "import matplotlib.pyplot as plt\n",
    "\n",
    "import os\n",
    "import requests"
   ]
  },
  {
   "cell_type": "code",
   "execution_count": 2,
   "id": "162f65b6-8972-440c-9d90-f4a61ff55c92",
   "metadata": {},
   "outputs": [],
   "source": [
    "mpl.rc('font', size=12)\n",
    "#mpl.rc('axes', titlesize='small')\n",
    "mpl.rc('figure', max_open_warning=0)\n",
    "\n",
    "plt.rcParams['font.family'] = 'serif'\n",
    "plt.rcParams['font.serif'] = ['Times New Roman'] + plt.rcParams['font.serif']"
   ]
  },
  {
   "cell_type": "code",
   "execution_count": 62,
   "id": "0a9fb086-8013-474a-9f5c-b2edefe09980",
   "metadata": {
    "tags": []
   },
   "outputs": [],
   "source": [
    "galaxies = SkyCoord(ra=galaxy_table['RA']*u.degree, dec=galaxy_table['DEC']*u.degree)\n",
    "alfalfa = SkyCoord(ra=alfalfa_table['RAdeg_OC']*u.degree, dec=alfalfa_table['DECdeg_OC']*u.degree)\n",
    "\n",
    "matches, ang_sep, dist3d = galaxies.match_to_catalog_sky(alfalfa)\n",
    "sga_ids = []\n",
    "matched_alfalfa = []\n",
    "\n",
    "for i in range(len(galaxy_table)):\n",
    "    \n",
    "    if ang_sep[i].to(u.arcsec) <= 60.*u.arcsec:\n",
    "        sga_ids.append(galaxy_table['SGA_ID'][i])\n",
    "        matched_alfalfa.append(matches[i])"
   ]
  },
  {
   "cell_type": "code",
   "execution_count": 63,
   "id": "c8d3798b-4f4c-467a-a729-a71068e3789c",
   "metadata": {
    "tags": []
   },
   "outputs": [
    {
     "data": {
      "text/plain": [
       "120"
      ]
     },
     "execution_count": 63,
     "metadata": {},
     "output_type": "execute_result"
    }
   ],
   "source": [
    "len(np.unique(sga_ids))"
   ]
  },
  {
   "cell_type": "code",
   "execution_count": 64,
   "id": "93ea83f9-8cb8-4ce8-9bad-7dcc0eee217f",
   "metadata": {
    "tags": []
   },
   "outputs": [
    {
     "data": {
      "text/plain": [
       "120"
      ]
     },
     "execution_count": 64,
     "metadata": {},
     "output_type": "execute_result"
    }
   ],
   "source": [
    "len(np.unique(matched_alfalfa))"
   ]
  },
  {
   "cell_type": "code",
   "execution_count": 65,
   "id": "b1abbb65-7329-481a-97cd-6332a4f7581b",
   "metadata": {
    "tags": []
   },
   "outputs": [],
   "source": [
    "isgalaxy = [idx for idx in range(len(galaxy_table)) if galaxy_table['SGA_ID'][idx] in np.unique(sga_ids)]\n",
    "galaxy_targets = galaxy_table[isgalaxy]"
   ]
  },
  {
   "cell_type": "code",
   "execution_count": 66,
   "id": "c9ba2829-ab1b-4c4a-9bba-84c8120987d8",
   "metadata": {
    "tags": []
   },
   "outputs": [],
   "source": [
    "alfalfa_targets = alfalfa_table[matched_alfalfa]"
   ]
  },
  {
   "cell_type": "code",
   "execution_count": 67,
   "id": "70b25616-6091-454c-91d0-51d11b68cb7f",
   "metadata": {
    "tags": []
   },
   "outputs": [],
   "source": [
    "tab = hstack([galaxy_targets, alfalfa_targets])"
   ]
  },
  {
   "cell_type": "code",
   "execution_count": 68,
   "id": "975a0788-c214-45b4-ab5a-e15c79cd47f0",
   "metadata": {
    "tags": []
   },
   "outputs": [],
   "source": [
    "tab.write('cache/Cosmicflows4_HI_comparison_table.fits', format = 'fits', overwrite = True)"
   ]
  },
  {
   "cell_type": "markdown",
   "id": "35af677a-06e3-4ed4-992d-2683458a153b",
   "metadata": {},
   "source": [
    "## Using Cosmicflows-4 corrected data\n",
    "Dervied from the $W_{M50}$ values obtained from ALFALFA"
   ]
  },
  {
   "cell_type": "code",
   "execution_count": 3,
   "id": "2e39cfd0-c1fa-4c37-ae4d-23fd377e6cd7",
   "metadata": {},
   "outputs": [],
   "source": [
    "CF_table = Table.read('cache/Cosmicflows4TFR.txt', format = 'ascii')"
   ]
  },
  {
   "cell_type": "code",
   "execution_count": 4,
   "id": "a84bebd4-a07b-48b3-8745-c125e5d9168b",
   "metadata": {},
   "outputs": [
    {
     "data": {
      "text/html": [
       "<div><i>Table length=2</i>\n",
       "<table id=\"table23456038209184\" class=\"table-striped table-bordered table-condensed\">\n",
       "<thead><tr><th>PGC</th><th>Name</th><th>Inc</th><th>e_Inc</th><th>HRV</th><th>Wmx</th><th>e_Wmx</th><th>logWmxi</th><th>e_logWmxi</th><th>m21</th><th>e_m21</th><th>umag</th><th>gmag</th><th>rmag</th><th>imag</th><th>zmag</th><th>W1mag</th><th>W2mag</th><th>(b/a)s</th><th>(b/a)W</th><th>Reu</th><th>Reg</th><th>Rer</th><th>Rei</th><th>Rez</th><th>ReW1</th><th>ReW2</th><th>ucmag</th><th>gcmag</th><th>rcmag</th><th>icmag</th><th>zcmag</th><th>W1cmag</th><th>W2cmag</th><th>Au</th><th>e_Au</th><th>Ag</th><th>e_Ag</th><th>Ar</th><th>e_Ar</th><th>Ai</th><th>e_Ai</th><th>Az</th><th>e_Az</th><th>AW1</th><th>e_AW1</th><th>AW2</th><th>e_AW2</th><th>u*mag</th><th>g*mag</th><th>r*mag</th><th>i*mag</th><th>z*mag</th><th>W1*mag</th><th>W2*mag</th><th>pW2*mag</th><th>Gu</th><th>Gg</th><th>Gr</th><th>Gi</th><th>Gz</th><th>Gw1</th><th>Gw2</th><th>pGu</th><th>pGg</th><th>pGr</th><th>pGi</th><th>pGz</th><th>pGW1</th><th>pGW2</th><th>pA-u</th><th>pA-g</th><th>pA-r</th><th>pA-i</th><th>pA-z</th><th>pA-W1</th><th>pA-W2</th><th>P1-W2</th><th>e_P1-W2</th><th>P1-pW2</th><th>P1-W1</th><th>QSflag</th><th>QWflag</th><th>Rsrc</th></tr></thead>\n",
       "<thead><tr><th></th><th></th><th>deg</th><th>deg</th><th>km / s</th><th>km / s</th><th>km / s</th><th>dex(km / s)</th><th>dex(km / s)</th><th>mag</th><th>mag</th><th>mag</th><th>mag</th><th>mag</th><th>mag</th><th>mag</th><th>mag</th><th>mag</th><th></th><th></th><th>arcmin</th><th>arcmin</th><th>arcmin</th><th>arcmin</th><th>arcmin</th><th>arcmin</th><th>arcmin</th><th>mag</th><th>mag</th><th>mag</th><th>mag</th><th>mag</th><th>mag</th><th>mag</th><th>mag</th><th>mag</th><th>mag</th><th>mag</th><th>mag</th><th>mag</th><th>mag</th><th>mag</th><th>mag</th><th>mag</th><th>mag</th><th>mag</th><th>mag</th><th>mag</th><th>mag</th><th>mag</th><th>mag</th><th>mag</th><th>mag</th><th>mag</th><th>mag</th><th>mag</th><th>mag</th><th>mag</th><th>mag</th><th>mag</th><th>mag</th><th>mag</th><th>mag</th><th>mag</th><th>mag</th><th>mag</th><th>mag</th><th>mag</th><th>mag</th><th>mag</th><th>mag</th><th>mag</th><th>mag</th><th>mag</th><th>mag</th><th>mag</th><th>mag</th><th></th><th></th><th></th><th></th><th></th><th></th><th></th></tr></thead>\n",
       "<thead><tr><th>int64</th><th>str25</th><th>int64</th><th>int64</th><th>int64</th><th>int64</th><th>int64</th><th>float64</th><th>float64</th><th>float64</th><th>float64</th><th>float64</th><th>float64</th><th>float64</th><th>float64</th><th>float64</th><th>float64</th><th>float64</th><th>float64</th><th>float64</th><th>float64</th><th>float64</th><th>float64</th><th>float64</th><th>float64</th><th>float64</th><th>float64</th><th>float64</th><th>float64</th><th>float64</th><th>float64</th><th>float64</th><th>float64</th><th>float64</th><th>float64</th><th>float64</th><th>float64</th><th>float64</th><th>float64</th><th>float64</th><th>float64</th><th>float64</th><th>float64</th><th>float64</th><th>float64</th><th>float64</th><th>float64</th><th>float64</th><th>float64</th><th>float64</th><th>float64</th><th>float64</th><th>float64</th><th>float64</th><th>float64</th><th>float64</th><th>float64</th><th>float64</th><th>float64</th><th>float64</th><th>float64</th><th>float64</th><th>float64</th><th>float64</th><th>float64</th><th>float64</th><th>float64</th><th>float64</th><th>float64</th><th>float64</th><th>float64</th><th>float64</th><th>float64</th><th>float64</th><th>float64</th><th>float64</th><th>float64</th><th>float64</th><th>float64</th><th>float64</th><th>float64</th><th>int64</th><th>int64</th><th>int64</th></tr></thead>\n",
       "<tr><td>2</td><td>UGC12889</td><td>52</td><td>4</td><td>5004</td><td>437</td><td>16</td><td>2.744</td><td>0.029</td><td>15.713</td><td>0.185</td><td>--</td><td>--</td><td>--</td><td>--</td><td>--</td><td>11.86</td><td>12.49</td><td>--</td><td>0.66</td><td>--</td><td>--</td><td>--</td><td>--</td><td>--</td><td>0.51</td><td>0.51</td><td>--</td><td>--</td><td>--</td><td>--</td><td>--</td><td>11.9</td><td>12.53</td><td>--</td><td>--</td><td>--</td><td>--</td><td>--</td><td>--</td><td>--</td><td>--</td><td>--</td><td>--</td><td>0.01</td><td>0.0</td><td>0.01</td><td>0.0</td><td>--</td><td>--</td><td>--</td><td>--</td><td>--</td><td>11.89</td><td>12.52</td><td>12.53</td><td>1.06</td><td>0.7</td><td>0.51</td><td>0.37</td><td>0.2</td><td>0.05</td><td>0.02</td><td>1.06</td><td>0.7</td><td>0.51</td><td>0.37</td><td>0.2</td><td>0.05</td><td>0.02</td><td>0.22</td><td>0.15</td><td>0.11</td><td>0.08</td><td>0.04</td><td>0.01</td><td>0.0</td><td>2.02</td><td>0.14</td><td>2.02</td><td>2.14</td><td>0</td><td>5</td><td>2</td></tr>\n",
       "<tr><td>4</td><td>PGC000004</td><td>85</td><td>2</td><td>4458</td><td>154</td><td>5</td><td>2.189</td><td>0.014</td><td>16.688</td><td>0.076</td><td>17.57</td><td>16.43</td><td>15.91</td><td>15.57</td><td>15.42</td><td>16.06</td><td>16.42</td><td>0.24</td><td>0.33</td><td>0.25</td><td>0.23</td><td>0.21</td><td>0.23</td><td>0.27</td><td>0.27</td><td>0.33</td><td>17.11</td><td>16.11</td><td>15.69</td><td>15.41</td><td>15.3</td><td>16.08</td><td>16.44</td><td>0.81</td><td>0.12</td><td>0.52</td><td>0.08</td><td>0.36</td><td>0.06</td><td>0.29</td><td>0.05</td><td>0.23</td><td>0.04</td><td>0.01</td><td>0.0</td><td>0.0</td><td>0.0</td><td>16.3</td><td>15.59</td><td>15.33</td><td>15.12</td><td>15.07</td><td>16.07</td><td>16.44</td><td>16.55</td><td>0.79</td><td>0.5</td><td>0.34</td><td>0.28</td><td>0.22</td><td>0.01</td><td>0.0</td><td>0.79</td><td>0.5</td><td>0.34</td><td>0.28</td><td>0.22</td><td>0.01</td><td>0.0</td><td>0.82</td><td>0.52</td><td>0.36</td><td>0.29</td><td>0.24</td><td>0.01</td><td>0.0</td><td>-2.75</td><td>0.1</td><td>-2.73</td><td>-2.69</td><td>5</td><td>4</td><td>2</td></tr>\n",
       "</table></div>"
      ],
      "text/plain": [
       "<Table length=2>\n",
       " PGC     Name    Inc  e_Inc  HRV   ...  P1-pW2  P1-W1  QSflag QWflag  Rsrc\n",
       "                 deg   deg  km / s ...                                    \n",
       "int64   str25   int64 int64 int64  ... float64 float64 int64  int64  int64\n",
       "----- --------- ----- ----- ------ ... ------- ------- ------ ------ -----\n",
       "    2  UGC12889    52     4   5004 ...    2.02    2.14      0      5     2\n",
       "    4 PGC000004    85     2   4458 ...   -2.73   -2.69      5      4     2"
      ]
     },
     "execution_count": 4,
     "metadata": {},
     "output_type": "execute_result"
    }
   ],
   "source": [
    "CF_table[:2]"
   ]
  },
  {
   "cell_type": "code",
   "execution_count": 5,
   "id": "f6173ec8-a30e-4a76-98b5-6dd7c7e69d9c",
   "metadata": {},
   "outputs": [
    {
     "data": {
      "text/html": [
       "<div><i>Table length=2</i>\n",
       "<table id=\"table23456038208560\" class=\"table-striped table-bordered table-condensed\">\n",
       "<thead><tr><th>SGA_ID</th><th>PGC</th><th>RMAG</th><th>RMAG_ERR</th><th>VMAX</th><th>VMAX_ERR</th><th>LOG_VMAX</th><th>LOG_VMAX_ERR</th><th>ABS_MAG_CALC</th><th>ABS_MAG_CALC_ERR</th><th>Z_OBS</th><th>Z_OBS_ERR</th><th>Z_H</th><th>Z_H_ERR</th><th>Z_P</th><th>Z_P_ERR</th></tr></thead>\n",
       "<thead><tr><th>int64</th><th>int64</th><th>float64</th><th>float64</th><th>float64</th><th>float64</th><th>float64</th><th>float64</th><th>float64</th><th>float64</th><th>float64</th><th>float64</th><th>float64</th><th>float64</th><th>float64</th><th>float64</th></tr></thead>\n",
       "<tr><td>1548</td><td>3502220</td><td>17.070053100585938</td><td>0.010217264294624329</td><td>153.61304846436158</td><td>3.6373473993169387</td><td>2.186428107852915</td><td>0.010276527854141184</td><td>-19.281223798701404</td><td>23768.12523417303</td><td>0.0621060809646368</td><td>7.92270841139101e-06</td><td>0.06775419493083637</td><td>0.09465204027288213</td><td>-0.005289713674752172</td><td>0.007775182795197195</td></tr>\n",
       "<tr><td>1583</td><td>4006227</td><td>17.30707550048828</td><td>0.015975113958120346</td><td>66.73848646769699</td><td>10.953677162903615</td><td>1.824376353260026</td><td>0.0712317006320059</td><td>-17.827886150010855</td><td>18785.22950782002</td><td>0.0354708074996139</td><td>6.26174316927334e-06</td><td>0.024221831540616027</td><td>0.08343649257886888</td><td>0.010982948822793048</td><td>0.006782841762107985</td></tr>\n",
       "</table></div>"
      ],
      "text/plain": [
       "<Table length=2>\n",
       "SGA_ID   PGC          RMAG        ...          Z_P                Z_P_ERR       \n",
       "int64   int64       float64       ...        float64              float64       \n",
       "------ ------- ------------------ ... --------------------- --------------------\n",
       "  1548 3502220 17.070053100585938 ... -0.005289713674752172 0.007775182795197195\n",
       "  1583 4006227  17.30707550048828 ...  0.010982948822793048 0.006782841762107985"
      ]
     },
     "execution_count": 5,
     "metadata": {},
     "output_type": "execute_result"
    }
   ],
   "source": [
    "galaxy_table = Table.read('cache/SGA_PV.fits', format = 'fits')\n",
    "galaxy_table[:2]"
   ]
  },
  {
   "cell_type": "code",
   "execution_count": 6,
   "id": "f91afc23-6130-41bb-8b1a-12c161da779a",
   "metadata": {},
   "outputs": [
    {
     "data": {
      "text/plain": [
       "10737"
      ]
     },
     "execution_count": 6,
     "metadata": {},
     "output_type": "execute_result"
    }
   ],
   "source": [
    "len(np.unique(CF_table['PGC']))"
   ]
  },
  {
   "cell_type": "code",
   "execution_count": 7,
   "id": "2c826ced-3d48-41ea-bbae-690c4a481457",
   "metadata": {},
   "outputs": [],
   "source": [
    "pgc = []\n",
    "for i in np.unique(galaxy_table['PGC']):\n",
    "    for j in np.unique(CF_table['PGC']):\n",
    "        if i == j:\n",
    "            pgc.append(i)"
   ]
  },
  {
   "cell_type": "code",
   "execution_count": 8,
   "id": "63d5f7a3-e537-45c8-bac4-267b703e4419",
   "metadata": {},
   "outputs": [
    {
     "data": {
      "text/plain": [
       "51"
      ]
     },
     "execution_count": 8,
     "metadata": {},
     "output_type": "execute_result"
    }
   ],
   "source": [
    "len(pgc)"
   ]
  },
  {
   "cell_type": "markdown",
   "id": "3fa0c404-c239-447b-bc7f-660e121666d5",
   "metadata": {},
   "source": [
    "## Extract HI line widths from Cosmicflows-4 data\n",
    "\n",
    "The equation for the TFR derived in the Cosmicflows-4 paper is given by:\n",
    "$$M_\\lambda=\\text{Slope}(\\log{W^i_{mx}}-2.5)+\\text{ZP}+C_{zp}$$\n",
    "Here, we use the r-band calibrations, where \n",
    "1. Slope = -7.96\n",
    "1. ZP = −20.57\n",
    "1. $C_{zp}$ = −0.08"
   ]
  },
  {
   "cell_type": "code",
   "execution_count": 9,
   "id": "53d1e189-ff3f-4874-a2c5-7292769952c7",
   "metadata": {},
   "outputs": [],
   "source": [
    "slope = -7.96 \n",
    "slope_err = 0.13\n",
    "ZP = -20.57\n",
    "ZP_err = 0.10\n",
    "C_zp = -0.08"
   ]
  },
  {
   "cell_type": "code",
   "execution_count": 10,
   "id": "9dde5acf-5a15-4c42-bbbc-9707bbc0f58c",
   "metadata": {},
   "outputs": [],
   "source": [
    "def abs_mag(logW, slope = slope, slope_err = slope_err,ZP = ZP, ZP_err = ZP_err,C_zp = C_zp):\n",
    "    return slope*(logW-2.5) + ZP + C_zp, np.sqrt((logW*slope_err)**2 + ZP_err**2)"
   ]
  },
  {
   "cell_type": "code",
   "execution_count": 11,
   "id": "f64d79c3-9b32-4380-ab30-4b32e6e2f762",
   "metadata": {},
   "outputs": [
    {
     "name": "stderr",
     "output_type": "stream",
     "text": [
      "/tmp/ipykernel_6354/402751210.py:2: FutureWarning: Using a non-tuple sequence for multidimensional indexing is deprecated; use `arr[tuple(seq)]` instead of `arr[seq]`. In the future this will be interpreted as an array index, `arr[np.array(seq)]`, which will result either in an error or a different result.\n",
      "  logW = np.asarray(CF_table['logWmxi'][cut])\n"
     ]
    },
    {
     "data": {
      "image/png": "[encoded data removed]",
      "text/plain": [
       "<Figure size 432x288 with 1 Axes>"
      ]
     },
     "metadata": {
      "needs_background": "light"
     },
     "output_type": "display_data"
    }
   ],
   "source": [
    "cut = [CF_table['logWmxi'] < 2.5]\n",
    "logW = np.asarray(CF_table['logWmxi'][cut])\n",
    "M, M_err = abs_mag(logW)\n",
    "plt.plot(logW, M)\n",
    "# plt.axhline(-18, color='k', ls=':')\n",
    "plt.ylim(-10, -21)\n",
    "plt.xlabel('$\\log{W^i_{mx}}$')\n",
    "plt.ylabel('$M_r$')\n",
    "plt.show()"
   ]
  },
  {
   "cell_type": "code",
   "execution_count": 12,
   "id": "b0f5ce87-9b02-44da-8cb3-3e657f8968ed",
   "metadata": {
    "tags": []
   },
   "outputs": [
    {
     "name": "stderr",
     "output_type": "stream",
     "text": [
      "/tmp/ipykernel_6354/458186382.py:9: FutureWarning: Using a non-tuple sequence for multidimensional indexing is deprecated; use `arr[tuple(seq)]` instead of `arr[seq]`. In the future this will be interpreted as an array index, `arr[np.array(seq)]`, which will result either in an error or a different result.\n",
      "  logW_matched = logW_matched[cut2]\n"
     ]
    }
   ],
   "source": [
    "# logW_matched = []\n",
    "# PGC_CF = []\n",
    "# for idx in range(len(CF_table)):\n",
    "#     if CF_table['PGC'][idx] == \n",
    "\n",
    "cut = [idx for idx in range(len(CF_table)) if CF_table['PGC'][idx] in pgc]\n",
    "logW_matched = CF_table['logWmxi'][cut]\n",
    "cut2 = [logW_matched < 2.5]\n",
    "logW_matched = logW_matched[cut2]"
   ]
  },
  {
   "cell_type": "code",
   "execution_count": 13,
   "id": "851afeb1-fd4c-4b56-8f7f-c01ad728b1f7",
   "metadata": {
    "tags": []
   },
   "outputs": [
    {
     "name": "stderr",
     "output_type": "stream",
     "text": [
      "/tmp/ipykernel_6354/130563770.py:3: FutureWarning: Using a non-tuple sequence for multidimensional indexing is deprecated; use `arr[tuple(seq)]` instead of `arr[seq]`. In the future this will be interpreted as an array index, `arr[np.array(seq)]`, which will result either in an error or a different result.\n",
      "  CF_PGC2 = CF_PGC[cut2]\n"
     ]
    }
   ],
   "source": [
    "cut1 = [idx for idx in range(len(CF_table)) if CF_table['PGC'][idx] in pgc]\n",
    "CF_PGC = CF_table['PGC'][cut1]\n",
    "CF_PGC2 = CF_PGC[cut2]\n",
    "# CF_PGC2"
   ]
  },
  {
   "cell_type": "code",
   "execution_count": 14,
   "id": "a91c00af-c6a0-4349-b2b2-f98f367bafbd",
   "metadata": {},
   "outputs": [],
   "source": [
    "CF_abs_mag, CF_abs_mag_err = abs_mag(logW_matched)"
   ]
  },
  {
   "cell_type": "markdown",
   "id": "7a4c66f0-ac4f-4789-bf6d-4f7dcbff4ab5",
   "metadata": {
    "tags": []
   },
   "source": [
    "## Find absolute magnitude from Coma TFR\n",
    "\n",
    "The Coma calibration yields the slope of the TFR, while the y-intercept comes from fitting a line with this slope to objects with known distance moduli. Therefore the TFR is:\n",
    "$$M=-4.5498 -6.8241\\log{v_{\\text{max}}}$$\n",
    "where $v_{\\text{max}}$ is the rotational velocity of the galaxy at 0.33$R$ in km/s. "
   ]
  },
  {
   "cell_type": "code",
   "execution_count": 15,
   "id": "aa491a31-bdc3-4b4a-b52c-d0c220eedeac",
   "metadata": {
    "tags": []
   },
   "outputs": [],
   "source": [
    "y_int = -4.5499\n",
    "y_int_err = 0.09628\n",
    "slope = -6.8241\n",
    "slope_err = 0.86871\n",
    "\n",
    "cut = [idx for idx in range(len(galaxy_table)) if galaxy_table['PGC'][idx] in CF_PGC2]\n",
    "logvmax = galaxy_table['LOG_VMAX'][cut]\n",
    "M = y_int + slope * logvmax\n",
    "M_err = []\n",
    "for i, dlogv in enumerate(galaxy_table['LOG_VMAX_ERR'][cut]):\n",
    "    M_err.append(np.sqrt(y_int_err**2 + slope**2 * dlogv**2 + slope_err**2 * logvmax[i]**2))\n",
    "SGA_PGC = galaxy_table['PGC'][cut]"
   ]
  },
  {
   "cell_type": "markdown",
   "id": "40602066-e7ad-43d6-85fb-f1375f481d88",
   "metadata": {},
   "source": [
    "## Join data from both surevys into a single table"
   ]
  },
  {
   "cell_type": "code",
   "execution_count": 16,
   "id": "67d44fba-e0b2-4329-9628-904bee35441e",
   "metadata": {
    "tags": []
   },
   "outputs": [
    {
     "data": {
      "text/html": [
       "<div><i>Table length=37</i>\n",
       "<table id=\"table23453865103568\" class=\"table-striped table-bordered table-condensed\">\n",
       "<thead><tr><th>PGC</th><th>M_SGA</th><th>M_ERR_SGA</th></tr></thead>\n",
       "<thead><tr><th>int64</th><th>float64</th><th>float64</th></tr></thead>\n",
       "<tr><td>55821</td><td>-18.526347339630917</td><td>1.782861376131644</td></tr>\n",
       "<tr><td>61276</td><td>-19.486929183246797</td><td>1.963956983915719</td></tr>\n",
       "<tr><td>44370</td><td>-16.995267886213856</td><td>1.6019851290945415</td></tr>\n",
       "<tr><td>49791</td><td>-18.341336737097805</td><td>1.8020639473313795</td></tr>\n",
       "<tr><td>2057435</td><td>-20.13054213678993</td><td>1.9860490213634334</td></tr>\n",
       "<tr><td>49887</td><td>-15.505632812176906</td><td>1.4096018376916044</td></tr>\n",
       "<tr><td>90978</td><td>-17.966822190888003</td><td>1.711455111667006</td></tr>\n",
       "<tr><td>52178</td><td>-13.964760845058624</td><td>1.4932819730797557</td></tr>\n",
       "<tr><td>53779</td><td>-13.964277139986848</td><td>2.348847803027864</td></tr>\n",
       "<tr><td>38864</td><td>-17.720676352007896</td><td>1.6840672518126447</td></tr>\n",
       "<tr><td>...</td><td>...</td><td>...</td></tr>\n",
       "<tr><td>36743</td><td>-18.1242804710092</td><td>1.7320622806712136</td></tr>\n",
       "<tr><td>43840</td><td>-19.255907027625394</td><td>1.874753329914606</td></tr>\n",
       "<tr><td>1159724</td><td>-17.369455179143344</td><td>1.635755600642563</td></tr>\n",
       "<tr><td>90968</td><td>-18.036744158165618</td><td>1.7289090486799943</td></tr>\n",
       "<tr><td>51741</td><td>-17.227383981599658</td><td>1.6697527817613778</td></tr>\n",
       "<tr><td>52006</td><td>-17.390647536613564</td><td>1.6462837033824278</td></tr>\n",
       "<tr><td>37807</td><td>-19.88417293125574</td><td>1.9545720917141947</td></tr>\n",
       "<tr><td>49411</td><td>-17.14845774156258</td><td>1.834242897838587</td></tr>\n",
       "<tr><td>1832164</td><td>-1.2334540295793777</td><td>60.69360276423595</td></tr>\n",
       "<tr><td>90975</td><td>-14.54711125236702</td><td>1.2972113885631327</td></tr>\n",
       "</table></div>"
      ],
      "text/plain": [
       "<Table length=37>\n",
       "  PGC          M_SGA            M_ERR_SGA     \n",
       " int64        float64            float64      \n",
       "------- ------------------- ------------------\n",
       "  55821 -18.526347339630917  1.782861376131644\n",
       "  61276 -19.486929183246797  1.963956983915719\n",
       "  44370 -16.995267886213856 1.6019851290945415\n",
       "  49791 -18.341336737097805 1.8020639473313795\n",
       "2057435  -20.13054213678993 1.9860490213634334\n",
       "  49887 -15.505632812176906 1.4096018376916044\n",
       "  90978 -17.966822190888003  1.711455111667006\n",
       "  52178 -13.964760845058624 1.4932819730797557\n",
       "  53779 -13.964277139986848  2.348847803027864\n",
       "  38864 -17.720676352007896 1.6840672518126447\n",
       "    ...                 ...                ...\n",
       "  36743   -18.1242804710092 1.7320622806712136\n",
       "  43840 -19.255907027625394  1.874753329914606\n",
       "1159724 -17.369455179143344  1.635755600642563\n",
       "  90968 -18.036744158165618 1.7289090486799943\n",
       "  51741 -17.227383981599658 1.6697527817613778\n",
       "  52006 -17.390647536613564 1.6462837033824278\n",
       "  37807  -19.88417293125574 1.9545720917141947\n",
       "  49411  -17.14845774156258  1.834242897838587\n",
       "1832164 -1.2334540295793777  60.69360276423595\n",
       "  90975  -14.54711125236702 1.2972113885631327"
      ]
     },
     "execution_count": 16,
     "metadata": {},
     "output_type": "execute_result"
    }
   ],
   "source": [
    "SGA_tab = Table([SGA_PGC, M, M_err],\n",
    "                names = ['PGC', 'M_SGA', 'M_ERR_SGA'])\n",
    "SGA_tab"
   ]
  },
  {
   "cell_type": "code",
   "execution_count": 17,
   "id": "ef5aebb0-e7fd-44d0-a8b1-54824692559d",
   "metadata": {},
   "outputs": [
    {
     "data": {
      "text/html": [
       "<div><i>Table length=37</i>\n",
       "<table id=\"table23453853410448\" class=\"table-striped table-bordered table-condensed\">\n",
       "<thead><tr><th>PGC</th><th>M_CF4</th><th>M_ERR_CF4</th></tr></thead>\n",
       "<thead><tr><th></th><th>dex(km / s)</th><th>dex(km / s)</th></tr></thead>\n",
       "<thead><tr><th>int64</th><th>float64</th><th>float64</th></tr></thead>\n",
       "<tr><td>36743</td><td>-19.018199999999997</td><td>0.3146628711812056</td></tr>\n",
       "<tr><td>37807</td><td>-20.252</td><td>0.3338296721383527</td></tr>\n",
       "<tr><td>38815</td><td>-18.7794</td><td>0.31096752643965897</td></tr>\n",
       "<tr><td>38864</td><td>-19.90176</td><td>0.3283768085599225</td></tr>\n",
       "<tr><td>43840</td><td>-20.51468</td><td>0.3379251161130229</td></tr>\n",
       "<tr><td>44147</td><td>-19.694799999999997</td><td>0.32515897650226416</td></tr>\n",
       "<tr><td>44370</td><td>-18.962479999999996</td><td>0.3138001810069586</td></tr>\n",
       "<tr><td>44416</td><td>-20.0928</td><td>0.3313499811377692</td></tr>\n",
       "<tr><td>44725</td><td>-20.602240000000002</td><td>0.33929133263318123</td></tr>\n",
       "<tr><td>...</td><td>...</td><td>...</td></tr>\n",
       "<tr><td>90978</td><td>-19.38436</td><td>0.32033849113086615</td></tr>\n",
       "<tr><td>91321</td><td>-19.209239999999998</td><td>0.3176226706329383</td></tr>\n",
       "<tr><td>1159724</td><td>-20.02912</td><td>0.3303586227117434</td></tr>\n",
       "<tr><td>1201224</td><td>-16.99636</td><td>0.28354895326909607</td></tr>\n",
       "<tr><td>1251141</td><td>-19.599279999999997</td><td>0.32367493817099896</td></tr>\n",
       "<tr><td>1709453</td><td>-16.37548</td><td>0.2740838121816026</td></tr>\n",
       "<tr><td>1787484</td><td>-18.49284</td><td>0.3065398063873598</td></tr>\n",
       "<tr><td>1832164</td><td>-16.59836</td><td>0.2774760690582163</td></tr>\n",
       "<tr><td>2057435</td><td>-20.06892</td><td>0.3309781867434771</td></tr>\n",
       "<tr><td>4353581</td><td>-18.82716</td><td>0.31170619644145675</td></tr>\n",
       "</table></div>"
      ],
      "text/plain": [
       "<Table length=37>\n",
       "  PGC          M_CF4             M_ERR_CF4     \n",
       "            dex(km / s)         dex(km / s)    \n",
       " int64        float64             float64      \n",
       "------- ------------------- -------------------\n",
       "  36743 -19.018199999999997  0.3146628711812056\n",
       "  37807             -20.252  0.3338296721383527\n",
       "  38815            -18.7794 0.31096752643965897\n",
       "  38864           -19.90176  0.3283768085599225\n",
       "  43840           -20.51468  0.3379251161130229\n",
       "  44147 -19.694799999999997 0.32515897650226416\n",
       "  44370 -18.962479999999996  0.3138001810069586\n",
       "  44416            -20.0928  0.3313499811377692\n",
       "  44725 -20.602240000000002 0.33929133263318123\n",
       "    ...                 ...                 ...\n",
       "  90978           -19.38436 0.32033849113086615\n",
       "  91321 -19.209239999999998  0.3176226706329383\n",
       "1159724           -20.02912  0.3303586227117434\n",
       "1201224           -16.99636 0.28354895326909607\n",
       "1251141 -19.599279999999997 0.32367493817099896\n",
       "1709453           -16.37548  0.2740838121816026\n",
       "1787484           -18.49284  0.3065398063873598\n",
       "1832164           -16.59836  0.2774760690582163\n",
       "2057435           -20.06892  0.3309781867434771\n",
       "4353581           -18.82716 0.31170619644145675"
      ]
     },
     "execution_count": 17,
     "metadata": {},
     "output_type": "execute_result"
    }
   ],
   "source": [
    "CF_tab = Table([CF_PGC2, CF_abs_mag, CF_abs_mag_err],\n",
    "               names = ['PGC', 'M_CF4', 'M_ERR_CF4'])\n",
    "CF_tab"
   ]
  },
  {
   "cell_type": "code",
   "execution_count": 18,
   "id": "4d462af9-7afd-43cb-b02f-f3695ba67f0f",
   "metadata": {},
   "outputs": [
    {
     "data": {
      "text/html": [
       "<div><i>Table length=36</i>\n",
       "<table id=\"table23456055462592\" class=\"table-striped table-bordered table-condensed\">\n",
       "<thead><tr><th>PGC</th><th>M_CF4</th><th>M_ERR_CF4</th><th>M_SGA</th><th>M_ERR_SGA</th></tr></thead>\n",
       "<thead><tr><th></th><th>dex(km / s)</th><th>dex(km / s)</th><th></th><th></th></tr></thead>\n",
       "<thead><tr><th>int64</th><th>float64</th><th>float64</th><th>float64</th><th>float64</th></tr></thead>\n",
       "<tr><td>36743</td><td>-19.018199999999997</td><td>0.3146628711812056</td><td>-18.1242804710092</td><td>1.7320622806712136</td></tr>\n",
       "<tr><td>37807</td><td>-20.252</td><td>0.3338296721383527</td><td>-19.88417293125574</td><td>1.9545720917141947</td></tr>\n",
       "<tr><td>38815</td><td>-18.7794</td><td>0.31096752643965897</td><td>-16.952560955112432</td><td>1.6103942459330922</td></tr>\n",
       "<tr><td>38864</td><td>-19.90176</td><td>0.3283768085599225</td><td>-17.720676352007896</td><td>1.6840672518126447</td></tr>\n",
       "<tr><td>43840</td><td>-20.51468</td><td>0.3379251161130229</td><td>-19.255907027625394</td><td>1.874753329914606</td></tr>\n",
       "<tr><td>44147</td><td>-19.694799999999997</td><td>0.32515897650226416</td><td>-18.62492608196239</td><td>1.7962381365972917</td></tr>\n",
       "<tr><td>44370</td><td>-18.962479999999996</td><td>0.3138001810069586</td><td>-16.995267886213856</td><td>1.6019851290945415</td></tr>\n",
       "<tr><td>44416</td><td>-20.0928</td><td>0.3313499811377692</td><td>-19.220071619423862</td><td>1.8702259751668562</td></tr>\n",
       "<tr><td>44725</td><td>-20.602240000000002</td><td>0.33929133263318123</td><td>-19.373557658040447</td><td>1.8904883687997565</td></tr>\n",
       "<tr><td>...</td><td>...</td><td>...</td><td>...</td><td>...</td></tr>\n",
       "<tr><td>90975</td><td>-15.85808</td><td>0.26623415934098316</td><td>-14.54711125236702</td><td>1.2972113885631327</td></tr>\n",
       "<tr><td>90978</td><td>-19.38436</td><td>0.32033849113086615</td><td>-17.966822190888003</td><td>1.711455111667006</td></tr>\n",
       "<tr><td>91321</td><td>-19.209239999999998</td><td>0.3176226706329383</td><td>-16.970043056834616</td><td>1.5900240352920803</td></tr>\n",
       "<tr><td>1159724</td><td>-20.02912</td><td>0.3303586227117434</td><td>-17.369455179143344</td><td>1.635755600642563</td></tr>\n",
       "<tr><td>1201224</td><td>-16.99636</td><td>0.28354895326909607</td><td>-21.340175073863808</td><td>2.1490529609680964</td></tr>\n",
       "<tr><td>1251141</td><td>-19.599279999999997</td><td>0.32367493817099896</td><td>-16.34563343640174</td><td>1.521697002471013</td></tr>\n",
       "<tr><td>1709453</td><td>-16.37548</td><td>0.2740838121816026</td><td>-12.550440329542042</td><td>1.3763337218717373</td></tr>\n",
       "<tr><td>1787484</td><td>-18.49284</td><td>0.3065398063873598</td><td>-16.62442785272118</td><td>1.5437466580484605</td></tr>\n",
       "<tr><td>2057435</td><td>-20.06892</td><td>0.3309781867434771</td><td>-20.13054213678993</td><td>1.9860490213634334</td></tr>\n",
       "<tr><td>4353581</td><td>-18.82716</td><td>0.31170619644145675</td><td>-17.06731179908432</td><td>1.6117801586153515</td></tr>\n",
       "</table></div>"
      ],
      "text/plain": [
       "<Table length=36>\n",
       "  PGC          M_CF4        ...        M_SGA            M_ERR_SGA     \n",
       "            dex(km / s)     ...                                       \n",
       " int64        float64       ...       float64            float64      \n",
       "------- ------------------- ... ------------------- ------------------\n",
       "  36743 -19.018199999999997 ...   -18.1242804710092 1.7320622806712136\n",
       "  37807             -20.252 ...  -19.88417293125574 1.9545720917141947\n",
       "  38815            -18.7794 ... -16.952560955112432 1.6103942459330922\n",
       "  38864           -19.90176 ... -17.720676352007896 1.6840672518126447\n",
       "  43840           -20.51468 ... -19.255907027625394  1.874753329914606\n",
       "  44147 -19.694799999999997 ...  -18.62492608196239 1.7962381365972917\n",
       "  44370 -18.962479999999996 ... -16.995267886213856 1.6019851290945415\n",
       "  44416            -20.0928 ... -19.220071619423862 1.8702259751668562\n",
       "  44725 -20.602240000000002 ... -19.373557658040447 1.8904883687997565\n",
       "    ...                 ... ...                 ...                ...\n",
       "  90975           -15.85808 ...  -14.54711125236702 1.2972113885631327\n",
       "  90978           -19.38436 ... -17.966822190888003  1.711455111667006\n",
       "  91321 -19.209239999999998 ... -16.970043056834616 1.5900240352920803\n",
       "1159724           -20.02912 ... -17.369455179143344  1.635755600642563\n",
       "1201224           -16.99636 ... -21.340175073863808 2.1490529609680964\n",
       "1251141 -19.599279999999997 ...  -16.34563343640174  1.521697002471013\n",
       "1709453           -16.37548 ... -12.550440329542042 1.3763337218717373\n",
       "1787484           -18.49284 ...  -16.62442785272118 1.5437466580484605\n",
       "2057435           -20.06892 ...  -20.13054213678993 1.9860490213634334\n",
       "4353581           -18.82716 ...  -17.06731179908432 1.6117801586153515"
      ]
     },
     "execution_count": 18,
     "metadata": {},
     "output_type": "execute_result"
    }
   ],
   "source": [
    "mastertab = join(CF_tab, SGA_tab, join_type = 'inner')\n",
    "mastertab.remove_row(34)\n",
    "mastertab"
   ]
  },
  {
   "cell_type": "code",
   "execution_count": 19,
   "id": "aa93272c-cd6d-4795-80d2-f50d4a896c47",
   "metadata": {},
   "outputs": [
    {
     "name": "stderr",
     "output_type": "stream",
     "text": [
      "WARNING: UnitsWarning: 'dex(km / s)' did not parse as fits unit: Unit 'dex' not supported by the FITS standard.  If this is meant to be a custom unit, define it with 'u.def_unit'. To have it recognized inside a file reader or other code, enable it with 'u.add_enabled_units'. For details, see https://docs.astropy.org/en/latest/units/combining_and_defining.html [astropy.units.core]\n"
     ]
    },
    {
     "ename": "OSError",
     "evalue": "File cache/TF_Coma_CF4_comparison.fits already exists. If you mean to replace it then use the argument \"overwrite=True\".",
     "output_type": "error",
     "traceback": [
      "\u001b[0;31m---------------------------------------------------------------------------\u001b[0m",
      "\u001b[0;31mOSError\u001b[0m                                   Traceback (most recent call last)",
      "\u001b[0;32m/tmp/ipykernel_6354/2363529085.py\u001b[0m in \u001b[0;36m<module>\u001b[0;34m\u001b[0m\n\u001b[0;32m----> 1\u001b[0;31m \u001b[0mmastertab\u001b[0m\u001b[0;34m.\u001b[0m\u001b[0mwrite\u001b[0m\u001b[0;34m(\u001b[0m\u001b[0;34m'cache/TF_Coma_CF4_comparison.fits'\u001b[0m\u001b[0;34m,\u001b[0m \u001b[0mformat\u001b[0m \u001b[0;34m=\u001b[0m \u001b[0;34m'fits'\u001b[0m\u001b[0;34m)\u001b[0m\u001b[0;34m\u001b[0m\u001b[0;34m\u001b[0m\u001b[0m\n\u001b[0m",
      "\u001b[0;32m/global/common/software/desi/cori/desiconda/20211217-2.0.0/conda/lib/python3.9/site-packages/astropy/table/connect.py\u001b[0m in \u001b[0;36m__call__\u001b[0;34m(self, serialize_method, *args, **kwargs)\u001b[0m\n\u001b[1;32m    127\u001b[0m         \u001b[0minstance\u001b[0m \u001b[0;34m=\u001b[0m \u001b[0mself\u001b[0m\u001b[0;34m.\u001b[0m\u001b[0m_instance\u001b[0m\u001b[0;34m\u001b[0m\u001b[0;34m\u001b[0m\u001b[0m\n\u001b[1;32m    128\u001b[0m         \u001b[0;32mwith\u001b[0m \u001b[0mserialize_method_as\u001b[0m\u001b[0;34m(\u001b[0m\u001b[0minstance\u001b[0m\u001b[0;34m,\u001b[0m \u001b[0mserialize_method\u001b[0m\u001b[0;34m)\u001b[0m\u001b[0;34m:\u001b[0m\u001b[0;34m\u001b[0m\u001b[0;34m\u001b[0m\u001b[0m\n\u001b[0;32m--> 129\u001b[0;31m             \u001b[0mself\u001b[0m\u001b[0;34m.\u001b[0m\u001b[0mregistry\u001b[0m\u001b[0;34m.\u001b[0m\u001b[0mwrite\u001b[0m\u001b[0;34m(\u001b[0m\u001b[0minstance\u001b[0m\u001b[0;34m,\u001b[0m \u001b[0;34m*\u001b[0m\u001b[0margs\u001b[0m\u001b[0;34m,\u001b[0m \u001b[0;34m**\u001b[0m\u001b[0mkwargs\u001b[0m\u001b[0;34m)\u001b[0m\u001b[0;34m\u001b[0m\u001b[0;34m\u001b[0m\u001b[0m\n\u001b[0m",
      "\u001b[0;32m/global/common/software/desi/cori/desiconda/20211217-2.0.0/conda/lib/python3.9/site-packages/astropy/io/registry/core.py\u001b[0m in \u001b[0;36mwrite\u001b[0;34m(self, data, format, *args, **kwargs)\u001b[0m\n\u001b[1;32m    352\u001b[0m \u001b[0;34m\u001b[0m\u001b[0m\n\u001b[1;32m    353\u001b[0m         \u001b[0mwriter\u001b[0m \u001b[0;34m=\u001b[0m \u001b[0mself\u001b[0m\u001b[0;34m.\u001b[0m\u001b[0mget_writer\u001b[0m\u001b[0;34m(\u001b[0m\u001b[0mformat\u001b[0m\u001b[0;34m,\u001b[0m \u001b[0mdata\u001b[0m\u001b[0;34m.\u001b[0m\u001b[0m__class__\u001b[0m\u001b[0;34m)\u001b[0m\u001b[0;34m\u001b[0m\u001b[0;34m\u001b[0m\u001b[0m\n\u001b[0;32m--> 354\u001b[0;31m         \u001b[0;32mreturn\u001b[0m \u001b[0mwriter\u001b[0m\u001b[0;34m(\u001b[0m\u001b[0mdata\u001b[0m\u001b[0;34m,\u001b[0m \u001b[0;34m*\u001b[0m\u001b[0margs\u001b[0m\u001b[0;34m,\u001b[0m \u001b[0;34m**\u001b[0m\u001b[0mkwargs\u001b[0m\u001b[0;34m)\u001b[0m\u001b[0;34m\u001b[0m\u001b[0;34m\u001b[0m\u001b[0m\n\u001b[0m\u001b[1;32m    355\u001b[0m \u001b[0;34m\u001b[0m\u001b[0m\n\u001b[1;32m    356\u001b[0m \u001b[0;34m\u001b[0m\u001b[0m\n",
      "\u001b[0;32m/global/common/software/desi/cori/desiconda/20211217-2.0.0/conda/lib/python3.9/site-packages/astropy/io/fits/connect.py\u001b[0m in \u001b[0;36mwrite_table_fits\u001b[0;34m(input, output, overwrite, append)\u001b[0m\n\u001b[1;32m    402\u001b[0m             \u001b[0mos\u001b[0m\u001b[0;34m.\u001b[0m\u001b[0mremove\u001b[0m\u001b[0;34m(\u001b[0m\u001b[0moutput\u001b[0m\u001b[0;34m)\u001b[0m\u001b[0;34m\u001b[0m\u001b[0;34m\u001b[0m\u001b[0m\n\u001b[1;32m    403\u001b[0m         \u001b[0;32melif\u001b[0m \u001b[0;32mnot\u001b[0m \u001b[0mappend\u001b[0m\u001b[0;34m:\u001b[0m\u001b[0;34m\u001b[0m\u001b[0;34m\u001b[0m\u001b[0m\n\u001b[0;32m--> 404\u001b[0;31m             \u001b[0;32mraise\u001b[0m \u001b[0mOSError\u001b[0m\u001b[0;34m(\u001b[0m\u001b[0mNOT_OVERWRITING_MSG\u001b[0m\u001b[0;34m.\u001b[0m\u001b[0mformat\u001b[0m\u001b[0;34m(\u001b[0m\u001b[0moutput\u001b[0m\u001b[0;34m)\u001b[0m\u001b[0;34m)\u001b[0m\u001b[0;34m\u001b[0m\u001b[0;34m\u001b[0m\u001b[0m\n\u001b[0m\u001b[1;32m    405\u001b[0m \u001b[0;34m\u001b[0m\u001b[0m\n\u001b[1;32m    406\u001b[0m     \u001b[0;32mif\u001b[0m \u001b[0mappend\u001b[0m\u001b[0;34m:\u001b[0m\u001b[0;34m\u001b[0m\u001b[0;34m\u001b[0m\u001b[0m\n",
      "\u001b[0;31mOSError\u001b[0m: File cache/TF_Coma_CF4_comparison.fits already exists. If you mean to replace it then use the argument \"overwrite=True\"."
     ]
    }
   ],
   "source": [
    "mastertab.write('cache/TF_Coma_CF4_comparison.fits', format = 'fits')"
   ]
  },
  {
   "cell_type": "code",
   "execution_count": 23,
   "id": "11a4c8bd-f0d8-4516-9e25-451b78e90192",
   "metadata": {},
   "outputs": [
    {
     "data": {
      "image/png": "[encoded data removed]",
      "text/plain": [
       "<Figure size 360x360 with 1 Axes>"
      ]
     },
     "metadata": {
      "needs_background": "light"
     },
     "output_type": "display_data"
    }
   ],
   "source": [
    "fig, ax = plt.subplots(figsize = (5,5))\n",
    "ax.errorbar(mastertab['M_CF4']-5*np.log10(0.751), mastertab['M_SGA'], \n",
    "             xerr = mastertab['M_ERR_CF4'], yerr = mastertab['M_ERR_SGA'], fmt='o', alpha = 0.6)\n",
    "# plt.plot(mastertab['M_CF4'], mastertab['M_SGA'], 'o')\n",
    "\n",
    "ax.set(xlabel = 'M: Cosmicflows-4',\n",
    "       ylabel = 'M: Coma cluster calibration',\n",
    "       xlim = (-12, -21),\n",
    "       ylim = (-12, -21))\n",
    "ax.plot([-12, -21], [-12, -21], 'k', label = 'x=y')\n",
    "ax.legend()\n",
    "ax.grid(ls = ':')\n",
    "# plt.figure(figsize=(5,5))\n",
    "# fig.savefig('cache/Cosmicflows4-Coma_comparison_04_14_2022.png', bbox_inches='tight')"
   ]
  },
  {
   "cell_type": "code",
   "execution_count": 24,
   "id": "9e007853-9a08-4d63-8f83-3a9c83ff9fbb",
   "metadata": {},
   "outputs": [
    {
     "data": {
      "text/plain": [
       "(array([32]),)"
      ]
     },
     "execution_count": 24,
     "metadata": {},
     "output_type": "execute_result"
    }
   ],
   "source": [
    "np.where(mastertab['M_SGA']==np.amax(mastertab['M_SGA']))"
   ]
  },
  {
   "cell_type": "code",
   "execution_count": null,
   "id": "a4ce89f8-3229-402c-95a0-42ca97d8998f",
   "metadata": {},
   "outputs": [],
   "source": []
  },
  {
   "cell_type": "code",
   "execution_count": null,
   "id": "52dd1156-4fe8-4187-aa67-8041511e0c9a",
   "metadata": {},
   "outputs": [],
   "source": []
  }
 ],
 "metadata": {
  "kernelspec": {
   "display_name": "DESI master",
   "language": "python",
   "name": "desi-master"
  },
  "language_info": {
   "codemirror_mode": {
    "name": "ipython",
    "version": 3
   },
   "file_extension": ".py",
   "mimetype": "text/x-python",
   "name": "python",
   "nbconvert_exporter": "python",
   "pygments_lexer": "ipython3",
   "version": "3.9.7"
  }
 },
 "nbformat": 4,
 "nbformat_minor": 5
}
