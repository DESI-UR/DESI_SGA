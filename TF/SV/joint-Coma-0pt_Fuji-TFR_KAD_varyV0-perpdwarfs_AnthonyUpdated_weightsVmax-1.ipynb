{
 "cells": [
  {
   "cell_type": "markdown",
   "id": "addd95be-ae41-4d8d-bb1a-ed960d838164",
   "metadata": {},
   "source": [
    "Calibrate the TFR by fitting both galaxies in the Coma cluster and those used for 0-pt calibration simultaneously, weighting the galaxies by 1/$V_{max}$ and adjusting the Coma cluster properties as recommended by Anthony Carr.\n",
    "\n",
    "In this notebook, we recompute $V_0$ with each recalibration (removing the \"dwarf\" galaxies - those below the line perpendicular to the current calibration that intersects the calibration at $M_r = -17$).\n",
    "\n",
    "**Note**: This requires using a subclassed version of `hyperfit`."
   ]
  },
  {
   "cell_type": "code",
   "execution_count": 1,
   "id": "dd925c8e-e017-40f7-bd18-c75fc388e126",
   "metadata": {
    "tags": []
   },
   "outputs": [],
   "source": [
    "import numpy as np\n",
    "\n",
    "import matplotlib.pyplot as plt\n",
    "plt.rcParams[\"text.usetex\"] = False\n",
    "from matplotlib import cm, colors\n",
    "from matplotlib.patches import Ellipse\n",
    "import matplotlib as mpl\n",
    "\n",
    "from astropy.io import fits\n",
    "from astropy.table import Table, unique, join\n",
    "from astropy.coordinates import SkyCoord, Distance\n",
    "from astropy.cosmology import Planck18, LambdaCDM\n",
    "from astropy import units as u\n",
    "from astropy import constants as const\n",
    "from astropy.wcs import WCS\n",
    "from astropy.visualization.wcsaxes import SphericalCircle\n",
    "\n",
    "from tqdm import tqdm\n",
    "\n",
    "import os\n",
    "\n",
    "import requests\n",
    "\n",
    "import corner\n",
    "\n",
    "import pickle\n",
    "\n",
    "import sys\n",
    "sys.path.insert(1, '/global/u1/k/kadglass/DESI_SGA/TF/')\n",
    "# sys.path.insert(1, '/Users/kdouglass/Documents/Research/DESI/PV_survey/code/TF/')\n",
    "from help_functions import adjust_lightness\n",
    "from line_fits import param_invert, hyperfit_line_multi\n",
    "from TF_photoCorrect import BASS_corr, MW_dust, k_corr, internal_dust\n",
    "from z_CMB_convert import convert_z_frame"
   ]
  },
  {
   "cell_type": "code",
   "execution_count": 2,
   "id": "2533249c-48da-4daa-a75f-95f2fac3fbcd",
   "metadata": {
    "tags": []
   },
   "outputs": [],
   "source": [
    "h = 1\n",
    "H0 = 100*h\n",
    "\n",
    "c = const.c.to('km/s')\n",
    "\n",
    "q0 = 0.2\n",
    "\n",
    "# Redrock systematic duplicate redshift uncertainty (from Lan+23)\n",
    "dv_sys = 7 # km/s\n",
    "dz_sys = dv_sys/c.value"
   ]
  },
  {
   "cell_type": "markdown",
   "id": "e1bdaae7-5e97-475f-845d-02a4703507ee",
   "metadata": {},
   "source": [
    "# Data\n",
    "\n",
    "## fuji"
   ]
  },
  {
   "cell_type": "code",
   "execution_count": 3,
   "id": "f32a61f1-36c9-4645-8a25-e3c02568941d",
   "metadata": {
    "tags": []
   },
   "outputs": [
    {
     "data": {
      "text/html": [
       "<div><i>Table length=5</i>\n",
       "<table id=\"table139900497298672\" class=\"table-striped table-bordered table-condensed\">\n",
       "<thead><tr><th>TARGETID</th><th>TARGET_RA</th><th>TARGET_DEC</th><th>HEALPIX</th><th>SURVEY</th><th>Z</th><th>ZERR</th><th>ZWARN</th><th>DELTACHI2</th><th>FILENAME</th><th>PVTYPE</th><th>SGA_ID</th><th>RA</th><th>DEC</th></tr></thead>\n",
       "<thead><tr><th>int64</th><th>float64</th><th>float64</th><th>int64</th><th>bytes3</th><th>float64</th><th>float64</th><th>int64</th><th>float64</th><th>bytes63</th><th>bytes3</th><th>int64</th><th>float64</th><th>float64</th></tr></thead>\n",
       "<tr><td>-810643058</td><td>172.649268761659</td><td>50.9379496804841</td><td>5615</td><td>sv2</td><td>-0.00199569129234795</td><td>4.13114935733491e-48</td><td>1570</td><td>1.94266889222573e+84</td><td>fuji/healpix/sv2/bright/56/5615/redrock-sv2-bright-5615.fits</td><td>TFT</td><td>632436</td><td>172.64931872904359</td><td>50.93778398770638</td></tr>\n",
       "<tr><td>-810083058</td><td>172.649268761659</td><td>50.9379496804841</td><td>5615</td><td>sv2</td><td>-0.00199569129234795</td><td>4.13114935733491e-48</td><td>1570</td><td>1.94266889222573e+84</td><td>fuji/healpix/sv2/dark/56/5615/redrock-sv2-dark-5615.fits</td><td>TFT</td><td>632436</td><td>172.64931872904359</td><td>50.93778398770638</td></tr>\n",
       "<tr><td>-4601510</td><td>213.789117851594</td><td>51.6121621066111</td><td>10741</td><td>sv3</td><td>0.614440857644474</td><td>2.5334368384479e-05</td><td>2053</td><td>4.58016765117645</td><td>fuji/healpix/sv3/dark/107/10741/redrock-sv3-dark-10741.fits</td><td>TFT</td><td>742370</td><td>213.78934983594</td><td>51.61232801047766</td></tr>\n",
       "<tr><td>-3809215</td><td>253.122574403111</td><td>33.7190699815035</td><td>9340</td><td>sv3</td><td>-0.00199569129234795</td><td>4.13114935733491e-48</td><td>1570</td><td>1.94266889222573e+84</td><td>fuji/healpix/sv3/dark/93/9340/redrock-sv3-dark-9340.fits</td><td>TFT</td><td>276273</td><td>253.12281332574227</td><td>33.719157220176115</td></tr>\n",
       "<tr><td>-2126206</td><td>218.818747743752</td><td>35.1134907925663</td><td>10517</td><td>sv3</td><td>-0.00199569129234795</td><td>4.13114935733491e-48</td><td>1570</td><td>1.94266889222573e+84</td><td>fuji/healpix/sv3/backup/105/10517/redrock-sv3-backup-10517.fits</td><td>TFT</td><td>1362315</td><td>218.81857534717938</td><td>35.11350628239651</td></tr>\n",
       "</table></div>"
      ],
      "text/plain": [
       "<Table length=5>\n",
       " TARGETID     TARGET_RA     ...         RA                DEC        \n",
       "  int64        float64      ...      float64            float64      \n",
       "---------- ---------------- ... ------------------ ------------------\n",
       "-810643058 172.649268761659 ... 172.64931872904359  50.93778398770638\n",
       "-810083058 172.649268761659 ... 172.64931872904359  50.93778398770638\n",
       "  -4601510 213.789117851594 ...    213.78934983594  51.61232801047766\n",
       "  -3809215 253.122574403111 ... 253.12281332574227 33.719157220176115\n",
       "  -2126206 218.818747743752 ... 218.81857534717938  35.11350628239651"
      ]
     },
     "execution_count": 3,
     "metadata": {},
     "output_type": "execute_result"
    }
   ],
   "source": [
    "# tfuji_all = Table.read('/global/cfs/cdirs/desi/science/td/pv/tfgalaxies/SV/SGA-2020_fuji_Vrot.fits')\n",
    "tfuji_all = Table.read('/global/cfs/cdirs/desi/science/td/pv/tfgalaxies/desi_pv_tf_fuji_healpix.fits')\n",
    "# tfuji_all = Table.read('/Users/kdouglass/Documents/Research/data/DESI/SV/desi_pv_tf_fuji_healpix.fits')\n",
    "tfuji = unique(tfuji_all)\n",
    "tfuji[:5]"
   ]
  },
  {
   "cell_type": "markdown",
   "id": "3b11e9d9-b6e7-4c43-9f09-3a04cdc1eef8",
   "metadata": {},
   "source": [
    "### Update all Redrock uncertainties to account for 7 km/s statistical uncertainty"
   ]
  },
  {
   "cell_type": "code",
   "execution_count": 4,
   "id": "ed92b0c8-9781-4608-8484-3e6b1f89dcdf",
   "metadata": {},
   "outputs": [],
   "source": [
    "tfuji['ZERR_MOD'] = np.sqrt(tfuji['ZERR']**2 + dz_sys**2)"
   ]
  },
  {
   "cell_type": "markdown",
   "id": "49a742b7-8522-427b-9c7d-162e6d633db4",
   "metadata": {},
   "source": [
    "## SGA\n",
    "\n",
    "Read in our version of the SGA that includes distances from the Extragalactic Distance Database.  (This file was made with the `data_match.ipynb` notebook.)"
   ]
  },
  {
   "cell_type": "code",
   "execution_count": 5,
   "id": "14fc9cd1-0917-443c-9a40-08c6d2521bd4",
   "metadata": {
    "tags": []
   },
   "outputs": [
    {
     "data": {
      "text/html": [
       "<div><i>Table length=5</i>\n",
       "<table id=\"table139900497298144\" class=\"table-striped table-bordered table-condensed\">\n",
       "<thead><tr><th>SGA_ID</th><th>SGA_GALAXY</th><th>GALAXY</th><th>PGC</th><th>RA_LEDA</th><th>DEC_LEDA</th><th>MORPHTYPE</th><th>PA_LEDA</th><th>D25_LEDA</th><th>BA_LEDA</th><th>Z_LEDA</th><th>SB_D25_LEDA</th><th>MAG_LEDA</th><th>BYHAND</th><th>REF</th><th>GROUP_ID</th><th>GROUP_NAME</th><th>GROUP_MULT</th><th>GROUP_PRIMARY</th><th>GROUP_RA</th><th>GROUP_DEC</th><th>GROUP_DIAMETER</th><th>BRICKNAME</th><th>RA</th><th>DEC</th><th>D26</th><th>D26_REF</th><th>PA</th><th>BA</th><th>RA_MOMENT</th><th>DEC_MOMENT</th><th>SMA_MOMENT</th><th>G_SMA50</th><th>R_SMA50</th><th>Z_SMA50</th><th>SMA_SB22</th><th>SMA_SB22.5</th><th>SMA_SB23</th><th>SMA_SB23.5</th><th>SMA_SB24</th><th>SMA_SB24.5</th><th>SMA_SB25</th><th>SMA_SB25.5</th><th>SMA_SB26</th><th>G_MAG_SB22</th><th>R_MAG_SB22</th><th>Z_MAG_SB22</th><th>G_MAG_SB22.5</th><th>R_MAG_SB22.5</th><th>Z_MAG_SB22.5</th><th>G_MAG_SB23</th><th>R_MAG_SB23</th><th>Z_MAG_SB23</th><th>G_MAG_SB23.5</th><th>R_MAG_SB23.5</th><th>Z_MAG_SB23.5</th><th>G_MAG_SB24</th><th>R_MAG_SB24</th><th>Z_MAG_SB24</th><th>G_MAG_SB24.5</th><th>R_MAG_SB24.5</th><th>Z_MAG_SB24.5</th><th>G_MAG_SB25</th><th>R_MAG_SB25</th><th>Z_MAG_SB25</th><th>G_MAG_SB25.5</th><th>R_MAG_SB25.5</th><th>Z_MAG_SB25.5</th><th>G_MAG_SB26</th><th>R_MAG_SB26</th><th>Z_MAG_SB26</th><th>SMA_SB22_ERR</th><th>SMA_SB22.5_ERR</th><th>SMA_SB23_ERR</th><th>SMA_SB23.5_ERR</th><th>SMA_SB24_ERR</th><th>SMA_SB24.5_ERR</th><th>SMA_SB25_ERR</th><th>SMA_SB25.5_ERR</th><th>SMA_SB26_ERR</th><th>G_MAG_SB22_ERR</th><th>R_MAG_SB22_ERR</th><th>Z_MAG_SB22_ERR</th><th>G_MAG_SB22.5_ERR</th><th>R_MAG_SB22.5_ERR</th><th>Z_MAG_SB22.5_ERR</th><th>G_MAG_SB23_ERR</th><th>R_MAG_SB23_ERR</th><th>Z_MAG_SB23_ERR</th><th>G_MAG_SB23.5_ERR</th><th>R_MAG_SB23.5_ERR</th><th>Z_MAG_SB23.5_ERR</th><th>G_MAG_SB24_ERR</th><th>R_MAG_SB24_ERR</th><th>Z_MAG_SB24_ERR</th><th>G_MAG_SB24.5_ERR</th><th>R_MAG_SB24.5_ERR</th><th>Z_MAG_SB24.5_ERR</th><th>G_MAG_SB25_ERR</th><th>R_MAG_SB25_ERR</th><th>Z_MAG_SB25_ERR</th><th>G_MAG_SB25.5_ERR</th><th>R_MAG_SB25.5_ERR</th><th>Z_MAG_SB25.5_ERR</th><th>G_MAG_SB26_ERR</th><th>R_MAG_SB26_ERR</th><th>Z_MAG_SB26_ERR</th><th>G_COG_PARAMS_MTOT</th><th>G_COG_PARAMS_M0</th><th>G_COG_PARAMS_ALPHA1</th><th>G_COG_PARAMS_ALPHA2</th><th>G_COG_PARAMS_CHI2</th><th>R_COG_PARAMS_MTOT</th><th>R_COG_PARAMS_M0</th><th>R_COG_PARAMS_ALPHA1</th><th>R_COG_PARAMS_ALPHA2</th><th>R_COG_PARAMS_CHI2</th><th>Z_COG_PARAMS_MTOT</th><th>Z_COG_PARAMS_M0</th><th>Z_COG_PARAMS_ALPHA1</th><th>Z_COG_PARAMS_ALPHA2</th><th>Z_COG_PARAMS_CHI2</th><th>ELLIPSEBIT</th><th>DM_Stellar</th><th>e_DM_lo_Stellar</th><th>e_DM_hi_Stellar</th><th>Stellar_Catalog</th><th>SN</th><th>DM1_SN</th><th>e_DM1_SN</th><th>DM2_SN</th><th>e_DM2_SN</th><th>DM3_SN</th><th>e_DM3_SN</th><th>DM4_SN</th><th>e_DM4_SN</th><th>DM5_SN</th><th>e_DM5_SN</th><th>DM6_SN</th><th>e_DM6_SN</th><th>DM7_SN</th><th>e_DM7_SN</th><th>SN_Catalog</th></tr></thead>\n",
       "<thead><tr><th>int64</th><th>bytes16</th><th>bytes29</th><th>int64</th><th>float64</th><th>float64</th><th>bytes21</th><th>float32</th><th>float32</th><th>float32</th><th>float32</th><th>float32</th><th>float32</th><th>bool</th><th>bytes13</th><th>int64</th><th>bytes35</th><th>int16</th><th>bool</th><th>float64</th><th>float64</th><th>float32</th><th>bytes8</th><th>float64</th><th>float64</th><th>float32</th><th>bytes4</th><th>float32</th><th>float32</th><th>float64</th><th>float64</th><th>float32</th><th>float32</th><th>float32</th><th>float32</th><th>float32</th><th>float32</th><th>float32</th><th>float32</th><th>float32</th><th>float32</th><th>float32</th><th>float32</th><th>float32</th><th>float32</th><th>float32</th><th>float32</th><th>float32</th><th>float32</th><th>float32</th><th>float32</th><th>float32</th><th>float32</th><th>float32</th><th>float32</th><th>float32</th><th>float32</th><th>float32</th><th>float32</th><th>float32</th><th>float32</th><th>float32</th><th>float32</th><th>float32</th><th>float32</th><th>float32</th><th>float32</th><th>float32</th><th>float32</th><th>float32</th><th>float32</th><th>float32</th><th>float32</th><th>float32</th><th>float32</th><th>float32</th><th>float32</th><th>float32</th><th>float32</th><th>float32</th><th>float32</th><th>float32</th><th>float32</th><th>float32</th><th>float32</th><th>float32</th><th>float32</th><th>float32</th><th>float32</th><th>float32</th><th>float32</th><th>float32</th><th>float32</th><th>float32</th><th>float32</th><th>float32</th><th>float32</th><th>float32</th><th>float32</th><th>float32</th><th>float32</th><th>float32</th><th>float32</th><th>float32</th><th>float32</th><th>float32</th><th>float32</th><th>float32</th><th>float32</th><th>float32</th><th>float32</th><th>float32</th><th>float32</th><th>float32</th><th>float32</th><th>float32</th><th>float32</th><th>float32</th><th>float32</th><th>float32</th><th>float32</th><th>float32</th><th>int32</th><th>float64</th><th>float64</th><th>float64</th><th>bytes14</th><th>bytes21</th><th>float64</th><th>float64</th><th>float64</th><th>float64</th><th>float64</th><th>float64</th><th>float64</th><th>float64</th><th>float64</th><th>float64</th><th>float64</th><th>int64</th><th>float64</th><th>int64</th><th>bytes25</th></tr></thead>\n",
       "<tr><td>5002480</td><td>SGA-2020 5002480</td><td>DR8-2837p402-5033</td><td>-1</td><td>283.619631436471</td><td>40.3162008554537</td><td>DEV</td><td>178.80934</td><td>0.54342</td><td>0.3166</td><td>-1.0</td><td>24.29036</td><td>16.9862</td><td>False</td><td>DR8</td><td>530781</td><td>DR8-2837p402-5033</td><td>1</td><td>True</td><td>283.619631436471</td><td>40.3162008554537</td><td>0.54342</td><td>2837p402</td><td>283.6196056669463</td><td>40.316337272867564</td><td>0.53864765</td><td>SB26</td><td>179.53694</td><td>0.3690244</td><td>283.6194583471782</td><td>40.31653379127378</td><td>11.641381</td><td>11.157478</td><td>8.614751</td><td>9.8993</td><td>1.6142721</td><td>3.685578</td><td>5.5844307</td><td>7.701021</td><td>9.878292</td><td>11.927793</td><td>13.400182</td><td>14.697571</td><td>16.15943</td><td>21.37251</td><td>20.373438</td><td>19.779512</td><td>19.920574</td><td>19.005274</td><td>18.41066</td><td>19.314016</td><td>18.435898</td><td>17.843414</td><td>18.922651</td><td>18.076838</td><td>17.494484</td><td>18.664383</td><td>17.833265</td><td>17.25879</td><td>18.496494</td><td>17.682926</td><td>17.106598</td><td>18.404135</td><td>17.605488</td><td>17.02742</td><td>18.332602</td><td>17.555883</td><td>16.971588</td><td>18.299273</td><td>17.52499</td><td>16.931496</td><td>0.04933311</td><td>0.065890566</td><td>0.09742977</td><td>0.10495926</td><td>0.1614855</td><td>0.27832195</td><td>0.15179653</td><td>0.13904023</td><td>0.20484819</td><td>0.041657884</td><td>0.06669066</td><td>0.06785251</td><td>0.038538612</td><td>0.049561314</td><td>0.05101378</td><td>0.03635901</td><td>0.041818976</td><td>0.042013034</td><td>0.03367074</td><td>0.03763669</td><td>0.03705858</td><td>0.03122176</td><td>0.03420294</td><td>0.033616345</td><td>0.029198052</td><td>0.031941395</td><td>0.031132452</td><td>0.028080799</td><td>0.030865192</td><td>0.029955743</td><td>0.02722575</td><td>0.030135926</td><td>0.029090546</td><td>0.026788738</td><td>0.02959205</td><td>0.028436601</td><td>17.799881</td><td>1.3952494</td><td>0.83855844</td><td>1.4560318</td><td>0.5604667</td><td>17.200954</td><td>1.0272083</td><td>0.8301853</td><td>1.7677885</td><td>0.4513309</td><td>16.501709</td><td>1.3551984</td><td>0.73172045</td><td>1.4457989</td><td>0.2076136</td><td>0</td><td>-1.0</td><td>-1.0</td><td>-1.0</td><td>-1</td><td>-1</td><td>-1.0</td><td>-1.0</td><td>-1.0</td><td>-1.0</td><td>-1.0</td><td>-1.0</td><td>-1.0</td><td>-1.0</td><td>-1.0</td><td>-1.0</td><td>-1.0</td><td>-1</td><td>-1.0</td><td>-1</td><td>-1</td></tr>\n",
       "<tr><td>5001021</td><td>SGA-2020 5001021</td><td>DR8-1908m035-1012</td><td>-1</td><td>190.9800024746678</td><td>-3.5794970532047348</td><td>COMP</td><td>179.36131</td><td>0.3128912</td><td>0.24235067</td><td>-1.0</td><td>24.242153</td><td>18.136705</td><td>False</td><td>DR8</td><td>529592</td><td>DR8-1908m035-1012</td><td>1</td><td>True</td><td>190.9800024746678</td><td>-3.5794970532047348</td><td>0.3128912</td><td>1908m035</td><td>190.98001150850953</td><td>-3.579504558185747</td><td>0.46029893</td><td>SB26</td><td>179.9099</td><td>0.28135264</td><td>190.97993904058112</td><td>-3.579486477891515</td><td>10.782479</td><td>5.303919</td><td>4.890181</td><td>4.648955</td><td>2.60227</td><td>3.9949758</td><td>5.3321157</td><td>6.6193404</td><td>7.9617677</td><td>9.334041</td><td>10.651372</td><td>11.945739</td><td>13.808968</td><td>20.83302</td><td>19.559025</td><td>18.527628</td><td>20.186102</td><td>18.948116</td><td>17.962463</td><td>19.839163</td><td>18.616032</td><td>17.664757</td><td>19.622812</td><td>18.415947</td><td>17.48664</td><td>19.488094</td><td>18.284103</td><td>17.36675</td><td>19.393885</td><td>18.19177</td><td>17.285147</td><td>19.328535</td><td>18.133291</td><td>17.231174</td><td>19.276346</td><td>18.095415</td><td>17.194038</td><td>19.23636</td><td>18.059212</td><td>17.159449</td><td>0.056616735</td><td>0.075659014</td><td>0.06408011</td><td>0.099823594</td><td>0.1106942</td><td>0.12681642</td><td>0.15963246</td><td>0.18908575</td><td>0.21659172</td><td>0.08466007</td><td>0.08730868</td><td>0.101774946</td><td>0.06604131</td><td>0.06827165</td><td>0.07746673</td><td>0.05750298</td><td>0.058578383</td><td>0.065898776</td><td>0.051398903</td><td>0.052755173</td><td>0.059088793</td><td>0.04776679</td><td>0.04883277</td><td>0.054615494</td><td>0.04498737</td><td>0.045983624</td><td>0.051455963</td><td>0.043144915</td><td>0.044076666</td><td>0.04933408</td><td>0.041449923</td><td>0.042814855</td><td>0.04784726</td><td>0.04055538</td><td>0.041601818</td><td>0.046518978</td><td>19.089306</td><td>0.93604577</td><td>0.32930735</td><td>2.0837493</td><td>0.033988953</td><td>17.95537</td><td>0.69882125</td><td>0.34296194</td><td>2.419169</td><td>0.011013919</td><td>17.04538</td><td>0.77790314</td><td>0.31191626</td><td>2.1598706</td><td>0.0056849383</td><td>0</td><td>-1.0</td><td>-1.0</td><td>-1.0</td><td>-1</td><td>-1</td><td>-1.0</td><td>-1.0</td><td>-1.0</td><td>-1.0</td><td>-1.0</td><td>-1.0</td><td>-1.0</td><td>-1.0</td><td>-1.0</td><td>-1.0</td><td>-1.0</td><td>-1</td><td>-1.0</td><td>-1</td><td>-1</td></tr>\n",
       "<tr><td>5001019</td><td>SGA-2020 5001019</td><td>DR8-1470m035-1174</td><td>-1</td><td>147.1427386432192</td><td>-3.5532245640806046</td><td>DEV</td><td>163.838</td><td>0.5674898</td><td>0.30485216</td><td>-1.0</td><td>24.155874</td><td>16.757603</td><td>False</td><td>DR8</td><td>529591</td><td>DR8-1470m035-1174</td><td>1</td><td>True</td><td>147.1427386432192</td><td>-3.5532245640806046</td><td>0.5674898</td><td>1470m035</td><td>147.14273636886824</td><td>-3.5532311036249844</td><td>0.7089864</td><td>SB26</td><td>160.56161</td><td>0.33515733</td><td>147.14265663750427</td><td>-3.5531612954610043</td><td>14.189667</td><td>9.06656</td><td>8.473093</td><td>8.114043</td><td>2.9450347</td><td>4.695773</td><td>6.643506</td><td>8.666231</td><td>10.949383</td><td>13.340206</td><td>15.799134</td><td>18.415377</td><td>21.269592</td><td>19.91953</td><td>19.158825</td><td>18.614452</td><td>19.193794</td><td>18.477886</td><td>17.962807</td><td>18.734055</td><td>18.061895</td><td>17.589006</td><td>18.418203</td><td>17.784187</td><td>17.351715</td><td>18.193169</td><td>17.586119</td><td>17.181166</td><td>18.049446</td><td>17.457943</td><td>17.058641</td><td>17.934223</td><td>17.35795</td><td>16.969753</td><td>17.857323</td><td>17.293016</td><td>16.908016</td><td>17.810745</td><td>17.246443</td><td>16.876032</td><td>0.0614563</td><td>0.089195475</td><td>0.10060314</td><td>0.15540995</td><td>0.17048688</td><td>0.21389666</td><td>0.16420007</td><td>0.25362244</td><td>0.3022587</td><td>0.06389988</td><td>0.06969084</td><td>0.07839319</td><td>0.048208438</td><td>0.052888487</td><td>0.05885825</td><td>0.040130075</td><td>0.044280488</td><td>0.050095942</td><td>0.034714546</td><td>0.038774274</td><td>0.045435317</td><td>0.031042166</td><td>0.03483406</td><td>0.04135831</td><td>0.028832838</td><td>0.032055207</td><td>0.038155198</td><td>0.026886987</td><td>0.02992059</td><td>0.035833754</td><td>0.025639897</td><td>0.028576324</td><td>0.0342623</td><td>0.024892407</td><td>0.0275924</td><td>0.03357749</td><td>17.619846</td><td>0.81239957</td><td>1.2436428</td><td>2.0833044</td><td>0.20735413</td><td>17.052032</td><td>0.9099892</td><td>0.94688904</td><td>1.8497639</td><td>0.08836478</td><td>16.648832</td><td>1.2052153</td><td>0.6299481</td><td>1.5293403</td><td>0.22791538</td><td>0</td><td>-1.0</td><td>-1.0</td><td>-1.0</td><td>-1</td><td>-1</td><td>-1.0</td><td>-1.0</td><td>-1.0</td><td>-1.0</td><td>-1.0</td><td>-1.0</td><td>-1.0</td><td>-1.0</td><td>-1.0</td><td>-1.0</td><td>-1.0</td><td>-1</td><td>-1.0</td><td>-1</td><td>-1</td></tr>\n",
       "<tr><td>5001018</td><td>SGA-2020 5001018</td><td>DR8-0589m035-1107</td><td>-1</td><td>58.96747523203085</td><td>-3.5768978632702404</td><td>DEV</td><td>73.886986</td><td>0.52344257</td><td>0.34322816</td><td>-1.0</td><td>24.649805</td><td>17.42698</td><td>False</td><td>DR8</td><td>529590</td><td>DR8-0589m035-1107</td><td>1</td><td>True</td><td>58.96747523203085</td><td>-3.5768978632702404</td><td>0.52344257</td><td>0589m035</td><td>58.96746266894446</td><td>-3.576904154158203</td><td>0.59405684</td><td>SB26</td><td>63.708275</td><td>0.3470738</td><td>58.9673521194436</td><td>-3.5767996362730665</td><td>11.532074</td><td>27.796232</td><td>27.457575</td><td>28.267866</td><td>0.7578961</td><td>2.1168416</td><td>3.5769458</td><td>5.265746</td><td>7.4217663</td><td>9.982045</td><td>12.871645</td><td>15.379495</td><td>17.821705</td><td>22.57269</td><td>22.104053</td><td>21.428228</td><td>20.81164</td><td>20.299337</td><td>19.70747</td><td>20.117699</td><td>19.549505</td><td>19.008604</td><td>19.679396</td><td>19.085209</td><td>18.57469</td><td>19.323883</td><td>18.728365</td><td>18.230927</td><td>19.041245</td><td>18.443516</td><td>17.964779</td><td>18.827599</td><td>18.226679</td><td>17.773859</td><td>18.679247</td><td>18.097006</td><td>17.654163</td><td>18.569975</td><td>17.998594</td><td>17.559578</td><td>0.028430318</td><td>0.053442895</td><td>0.06005233</td><td>0.086550556</td><td>0.121798776</td><td>0.18367727</td><td>0.19650374</td><td>0.2090271</td><td>0.23993549</td><td>0.10603312</td><td>0.13668293</td><td>0.12814379</td><td>0.09004501</td><td>0.09114922</td><td>0.110184155</td><td>0.06574117</td><td>0.0649464</td><td>0.079305</td><td>0.05130527</td><td>0.050389685</td><td>0.061386514</td><td>0.041397545</td><td>0.041069187</td><td>0.049383085</td><td>0.0353218</td><td>0.035057936</td><td>0.04168752</td><td>0.03146701</td><td>0.031024022</td><td>0.03684285</td><td>0.028985405</td><td>0.028910374</td><td>0.034214094</td><td>0.027220415</td><td>0.027361887</td><td>0.03217761</td><td>17.569975</td><td>2.6201665</td><td>0.74379516</td><td>0.78689593</td><td>1.3501529</td><td>16.998594</td><td>3.0956852</td><td>0.5915868</td><td>0.7576835</td><td>0.20765956</td><td>16.559578</td><td>3.5662844</td><td>0.48402628</td><td>0.6955706</td><td>0.049795065</td><td>0</td><td>-1.0</td><td>-1.0</td><td>-1.0</td><td>-1</td><td>-1</td><td>-1.0</td><td>-1.0</td><td>-1.0</td><td>-1.0</td><td>-1.0</td><td>-1.0</td><td>-1.0</td><td>-1.0</td><td>-1.0</td><td>-1.0</td><td>-1.0</td><td>-1</td><td>-1.0</td><td>-1</td><td>-1</td></tr>\n",
       "<tr><td>5001000</td><td>SGA-2020 5001000</td><td>DR8-1538m040-5309</td><td>-1</td><td>153.87604470973113</td><td>-3.8952396741736623</td><td>COMP</td><td>151.75539</td><td>0.46971816</td><td>0.2265234</td><td>-1.0</td><td>25.694304</td><td>18.706636</td><td>False</td><td>DR8</td><td>529574</td><td>DR8-1538m040-5309</td><td>1</td><td>True</td><td>153.87604470973113</td><td>-3.8952396741736623</td><td>0.46971816</td><td>1538m040</td><td>153.87605812641382</td><td>-3.8952553120545</td><td>0.3222142</td><td>SB26</td><td>152.51593</td><td>0.38030738</td><td>153.8760096166066</td><td>-3.8952074506049206</td><td>6.2858515</td><td>6.9679866</td><td>5.937727</td><td>6.803102</td><td>-1.0</td><td>0.611838</td><td>1.5926635</td><td>3.1050522</td><td>4.296284</td><td>5.648387</td><td>6.922032</td><td>8.273097</td><td>9.666426</td><td>-1.0</td><td>-1.0</td><td>-1.0</td><td>23.549822</td><td>23.031054</td><td>22.773083</td><td>21.688038</td><td>21.237814</td><td>20.977982</td><td>20.6481</td><td>20.239336</td><td>20.017353</td><td>20.216105</td><td>19.841602</td><td>19.639183</td><td>19.916332</td><td>19.567436</td><td>19.359243</td><td>19.737143</td><td>19.404419</td><td>19.195152</td><td>19.599789</td><td>19.276</td><td>19.082033</td><td>19.506786</td><td>19.204313</td><td>18.991358</td><td>-1.0</td><td>0.021907173</td><td>0.059276454</td><td>0.058691014</td><td>0.07300099</td><td>0.09429353</td><td>0.13673161</td><td>0.13662857</td><td>0.15687384</td><td>-1.0</td><td>-1.0</td><td>-1.0</td><td>0.06336523</td><td>0.03895847</td><td>0.092741065</td><td>0.06610604</td><td>0.070476234</td><td>0.082297616</td><td>0.05458867</td><td>0.05844559</td><td>0.06285622</td><td>0.048253395</td><td>0.05195508</td><td>0.053528924</td><td>0.043112114</td><td>0.04649149</td><td>0.047446106</td><td>0.039647266</td><td>0.04261088</td><td>0.04318384</td><td>0.03672966</td><td>0.03996569</td><td>0.041731343</td><td>0.034884803</td><td>0.03854299</td><td>0.04003972</td><td>18.981636</td><td>1.5777819</td><td>0.37279877</td><td>1.3685343</td><td>0.17616904</td><td>18.774378</td><td>1.4497702</td><td>0.32173964</td><td>1.4371084</td><td>0.1582937</td><td>18.463694</td><td>1.8066257</td><td>0.32254803</td><td>1.2234725</td><td>0.16648228</td><td>0</td><td>-1.0</td><td>-1.0</td><td>-1.0</td><td>-1</td><td>-1</td><td>-1.0</td><td>-1.0</td><td>-1.0</td><td>-1.0</td><td>-1.0</td><td>-1.0</td><td>-1.0</td><td>-1.0</td><td>-1.0</td><td>-1.0</td><td>-1.0</td><td>-1</td><td>-1.0</td><td>-1</td><td>-1</td></tr>\n",
       "</table></div>"
      ],
      "text/plain": [
       "<Table length=5>\n",
       " SGA_ID    SGA_GALAXY          GALAXY       PGC  ...  DM7_SN e_DM7_SN SN_Catalog\n",
       " int64      bytes16           bytes29      int64 ... float64  int64    bytes25  \n",
       "------- ---------------- ----------------- ----- ... ------- -------- ----------\n",
       "5002480 SGA-2020 5002480 DR8-2837p402-5033    -1 ...    -1.0       -1         -1\n",
       "5001021 SGA-2020 5001021 DR8-1908m035-1012    -1 ...    -1.0       -1         -1\n",
       "5001019 SGA-2020 5001019 DR8-1470m035-1174    -1 ...    -1.0       -1         -1\n",
       "5001018 SGA-2020 5001018 DR8-0589m035-1107    -1 ...    -1.0       -1         -1\n",
       "5001000 SGA-2020 5001000 DR8-1538m040-5309    -1 ...    -1.0       -1         -1"
      ]
     },
     "execution_count": 5,
     "metadata": {},
     "output_type": "execute_result"
    }
   ],
   "source": [
    "# SGA = Table.read('/global/cfs/cdirs/cosmo/data/sga/2020/SGA-2020.fits', 'ELLIPSE')\n",
    "#SGA = Table.read('/Users/kellydouglass/Documents/Research/data/SGA/SGA-2020.fits', 'ELLIPSE')\n",
    "SGA = Table.read('../SGA_distances.fits')\n",
    "\n",
    "SGA[:5]"
   ]
  },
  {
   "cell_type": "code",
   "execution_count": 6,
   "id": "627f9a8a-0c07-48d9-bbb6-e48c197c9480",
   "metadata": {
    "tags": []
   },
   "outputs": [],
   "source": [
    "SGA_dict = {}\n",
    "\n",
    "for i in range(len(SGA)):\n",
    "    \n",
    "    SGA_dict[SGA['SGA_ID'][i]] = i"
   ]
  },
  {
   "cell_type": "markdown",
   "id": "4d0af000-ef76-4d74-80d0-1c7f8385f4f7",
   "metadata": {},
   "source": [
    "## Separate the fuji data into center and off-center observations"
   ]
  },
  {
   "cell_type": "code",
   "execution_count": 7,
   "id": "adc0c55e-bc2d-47c9-b58c-fa231f214d83",
   "metadata": {
    "tags": []
   },
   "outputs": [
    {
     "name": "stderr",
     "output_type": "stream",
     "text": [
      "100%|██████████| 4524/4524 [00:14<00:00, 312.83it/s]\n"
     ]
    }
   ],
   "source": [
    "tfuji['SKY_FIBER_DIST'] = 0.\n",
    "tfuji['SKY_FIBER_DIST_R26'] = 0.\n",
    "\n",
    "# For each SGA galaxy that has at least one observation, calculate the distance \n",
    "# for all of that galaxy's targets\n",
    "for sga_id in tqdm(np.unique(tfuji['SGA_ID'])):\n",
    "    \n",
    "    # Identify all galaxy targets on this galaxy\n",
    "    obs_idx = tfuji['SGA_ID'] == sga_id\n",
    "    \n",
    "    # Find galaxy index in SGA catalog\n",
    "    sga_idx = SGA_dict[sga_id]\n",
    "    \n",
    "    #---------------------------------------------------------------------------\n",
    "    # Calculate distance between each observation and the center of the SGA \n",
    "    # galaxy\n",
    "    #---------------------------------------------------------------------------\n",
    "    SGA_coords = SkyCoord(ra=SGA['RA'][sga_idx], \n",
    "                          dec=SGA['DEC'][sga_idx], \n",
    "                          unit=u.degree)\n",
    "    target_coords = SkyCoord(ra=tfuji['RA'][obs_idx], \n",
    "                             dec=tfuji['DEC'][obs_idx], \n",
    "                             unit=u.degree)\n",
    "    \n",
    "    sep2d = target_coords.separation(SGA_coords)\n",
    "    \n",
    "    tfuji['SKY_FIBER_DIST'][obs_idx] = sep2d\n",
    "    tfuji['SKY_FIBER_DIST_R26'][obs_idx] = 2*sep2d.to('arcmin')/(SGA['D26'][sga_idx]*u.arcmin)\n",
    "    #---------------------------------------------------------------------------"
   ]
  },
  {
   "cell_type": "code",
   "execution_count": 8,
   "id": "1d0d7f14-5e74-44a9-80f7-d9899ca759a2",
   "metadata": {
    "tags": []
   },
   "outputs": [],
   "source": [
    "centers_boolean = tfuji['SKY_FIBER_DIST_R26'] < 0.1\n",
    "\n",
    "fuji_centers = tfuji[centers_boolean]\n",
    "fuji_axis = tfuji[~centers_boolean]"
   ]
  },
  {
   "cell_type": "markdown",
   "id": "2be6cbc1-a9d2-48d7-b2e5-5a86f1846810",
   "metadata": {},
   "source": [
    "### Clean the fuji center observations\n",
    "\n",
    "Only keep those with\n",
    " * `DELTACHI2` > 25\n",
    " * `ZWARN` == 0"
   ]
  },
  {
   "cell_type": "code",
   "execution_count": 9,
   "id": "f533cc9a-9df8-43ed-91c7-b88c62966e00",
   "metadata": {
    "tags": []
   },
   "outputs": [],
   "source": [
    "good_centers = fuji_centers[(fuji_centers['DELTACHI2'] > 25) & (fuji_centers['ZWARN'] == 0)]"
   ]
  },
  {
   "cell_type": "markdown",
   "id": "472c0152-3e6a-49bd-a077-58c9da6c8cb3",
   "metadata": {},
   "source": [
    "### If an SGA galaxy has at least one observation at its center, set the redshift of that galaxy"
   ]
  },
  {
   "cell_type": "code",
   "execution_count": 11,
   "id": "9122e379-898a-46bf-ace2-6686d3d3f060",
   "metadata": {},
   "outputs": [],
   "source": [
    "rng = np.random.default_rng()\n",
    "\n",
    "N_samples = 10000 # for large error propagation"
   ]
  },
  {
   "cell_type": "code",
   "execution_count": 12,
   "id": "47f2d756-1eef-465c-8b3c-58a410f78763",
   "metadata": {
    "tags": []
   },
   "outputs": [
    {
     "name": "stderr",
     "output_type": "stream",
     "text": [
      "100%|██████████| 4255/4255 [00:01<00:00, 3572.44it/s]\n"
     ]
    }
   ],
   "source": [
    "SGA['Z_DESI'] = np.nan\n",
    "SGA['ZERR_DESI'] = np.nan\n",
    "\n",
    "# weights = 1./(good_centers['ZERR']**2)\n",
    "weights = 1./(good_centers['ZERR_MOD']**2)\n",
    "\n",
    "for sga_id in tqdm(np.unique(good_centers['SGA_ID'])):\n",
    "    \n",
    "    # Find all the center observations of this galaxy\n",
    "    obs_idx = good_centers['SGA_ID'] == sga_id\n",
    "    N_obs = np.sum(obs_idx)\n",
    "    \n",
    "    # Find the row in SGA for this galaxy\n",
    "    SGA_idx = SGA_dict[sga_id]\n",
    "    \n",
    "    # Set the redshift of this galaxy to be the weighted average redshift of all \n",
    "    # good center observations\n",
    "    SGA['Z_DESI'][SGA_idx] = np.average(good_centers['Z'][obs_idx], \n",
    "                                        weights=weights[obs_idx])\n",
    "\n",
    "    if N_obs == 1 or np.all(np.abs(good_centers['ZERR_MOD'][obs_idx]/good_centers['Z'][obs_idx]) < 0.05):\n",
    "        SGA['ZERR_DESI'][SGA_idx] = np.sqrt(1./(N_obs*np.sum(weights[obs_idx])))\n",
    "    else:\n",
    "        z_random = np.zeros((N_obs, N_samples))\n",
    "\n",
    "        for i in range(N_obs):\n",
    "            z_random[i] = rng.normal(scale=good_centers['ZERR_MOD'][obs_idx][i], \n",
    "                                     loc=good_centers['Z'][obs_idx][i], \n",
    "                                     size=N_samples)\n",
    "        \n",
    "        avg_z_random = np.average(z_random, \n",
    "                                  weights=weights[obs_idx,None]*np.ones(N_samples), \n",
    "                                  axis=0)\n",
    "        SGA['ZERR_DESI'][SGA_idx] = np.std(avg_z_random)"
   ]
  },
  {
   "cell_type": "markdown",
   "id": "b6ab109a-f8fe-4bc1-ad25-aa98a57170b5",
   "metadata": {},
   "source": [
    "### Compute the maximum volume for each galaxy\n",
    "\n",
    "Since the SGA is a size-limited catalog ($D_{26} > 0.2$ arcmin), there is a maximum volume within which each galaxy could be lcoated to be included in the SGA.  Let's calculate that maximum volume so that we can use it as a weight in the TFR calibration."
   ]
  },
  {
   "cell_type": "code",
   "execution_count": 13,
   "id": "548cf9f0-aa20-457c-879b-630cb099ffd1",
   "metadata": {},
   "outputs": [],
   "source": [
    "Planck18_h = LambdaCDM(H0=100, \n",
    "                       Om0=Planck18.Om0, \n",
    "                       Tcmb0=Planck18.Tcmb0, \n",
    "                       Neff=Planck18.Neff, \n",
    "                       m_nu=Planck18.m_nu, \n",
    "                       Ob0=Planck18.Ob0, \n",
    "                       Ode0=Planck18.Ode0)"
   ]
  },
  {
   "cell_type": "code",
   "execution_count": 14,
   "id": "2c91c7a1-e27b-4db8-b80b-21d4e275a9d9",
   "metadata": {},
   "outputs": [
    {
     "name": "stderr",
     "output_type": "stream",
     "text": [
      "/global/common/software/desi/perlmutter/desiconda/20240425-2.2.0/conda/lib/python3.10/site-packages/numpy/lib/function_base.py:2387: RuntimeWarning: invalid value encountered in _integral_comoving_distance_z1z2_scalar (vectorized)\n",
      "  outputs = ufunc(*inputs)\n"
     ]
    }
   ],
   "source": [
    "dist = Distance(z=np.abs(SGA['Z_DESI']), cosmology=Planck18_h)\n",
    "\n",
    "SGA['D26_kpc'] = 2*dist.to('kpc')*np.tan(0.5*SGA['D26']*u.arcmin)\n",
    "\n",
    "SGA['DIST_MAX'] = 0.5*SGA['D26_kpc']/np.tan(0.1*u.arcmin)\n",
    "\n",
    "dist_max = Distance(z=0.1, cosmology=Planck18_h)\n",
    "\n",
    "SGA['MAX_VOL_FRAC'] = SGA['DIST_MAX'].to('Mpc')**3 / dist_max.to('Mpc')**3"
   ]
  },
  {
   "cell_type": "markdown",
   "id": "9537c66f-55d6-4656-bb7e-94dbb7437cf3",
   "metadata": {},
   "source": [
    "# Coma cluster membership\n",
    "\n",
    "Following Cosmicflows4 (Kourkchi et al. 2020), cluster membership is defined as\n",
    "- $R_p < 1.5R_{2t}$ and $v < V_c \\pm 3\\sigma_v$\n",
    "- $1.5R_{2t} \\leq R_p < 3R_{2t}$ and $v < V_c \\pm 2\\sigma_v$\n",
    "\n",
    "where $R_p$ is the projected distance from the cluster center, $R_{2t}$ is the cluster projected second turnaround radius, $\\sigma_v$ is the velocity dispersion of the cluster, and $V_c$ is the average heliocentric radial velocity of the cluster."
   ]
  },
  {
   "cell_type": "code",
   "execution_count": 15,
   "id": "44191133-688b-4fc0-b9f6-ea33131b9892",
   "metadata": {
    "tags": []
   },
   "outputs": [
    {
     "name": "stderr",
     "output_type": "stream",
     "text": [
      "WARNING: VerifyWarning: It is strongly recommended that column names contain only upper and lower-case ASCII letters, digits, or underscores for maximum compatibility with other software (got '<Vcmba>'). [astropy.io.fits.column]\n"
     ]
    },
    {
     "data": {
      "text/html": [
       "<div><i>Table length=5</i>\n",
       "<table id=\"table139899483411344\" class=\"table-striped table-bordered table-condensed\">\n",
       "<thead><tr><th>f_Nest</th><th>Nest</th><th>Nmb</th><th>PGC1</th><th>SGLON</th><th>SGLAT</th><th>logLK</th><th>&lt;Vcmba&gt;</th><th>DM</th><th>sigV</th><th>R2t</th><th>sigP</th><th>Mlum</th><th>CF</th></tr></thead>\n",
       "<thead><tr><th>int16</th><th>int32</th><th>int16</th><th>int32</th><th>float64</th><th>float64</th><th>float64</th><th>int32</th><th>float64</th><th>int16</th><th>float64</th><th>int16</th><th>float64</th><th>float64</th></tr></thead>\n",
       "<tr><td>1</td><td>100001</td><td>136</td><td>44715</td><td>89.6226</td><td>8.1461</td><td>13.15</td><td>7331</td><td>34.33</td><td>886</td><td>2.129</td><td>1045</td><td>1710000000000000.0</td><td>1.65</td></tr>\n",
       "<tr><td>1</td><td>100002</td><td>197</td><td>41220</td><td>103.0008</td><td>-2.3248</td><td>12.69</td><td>1491</td><td>30.87</td><td>670</td><td>1.44</td><td>707</td><td>529000000000000.0</td><td>1.0</td></tr>\n",
       "<tr><td>1</td><td>100003</td><td>113</td><td>43296</td><td>156.2336</td><td>-11.5868</td><td>12.75</td><td>3873</td><td>32.94</td><td>822</td><td>1.52</td><td>746</td><td>623000000000000.0</td><td>1.12</td></tr>\n",
       "<tr><td>1</td><td>100004</td><td>81</td><td>58265</td><td>71.5103</td><td>49.7851</td><td>13.16</td><td>9424</td><td>34.87</td><td>740</td><td>2.153</td><td>1057</td><td>1770000000000000.0</td><td>2.26</td></tr>\n",
       "<tr><td>1</td><td>100005</td><td>61</td><td>36487</td><td>92.0255</td><td>-10.495</td><td>12.78</td><td>6987</td><td>34.22</td><td>707</td><td>1.56</td><td>766</td><td>673000000000000.0</td><td>1.58</td></tr>\n",
       "</table></div>"
      ],
      "text/plain": [
       "<Table length=5>\n",
       "f_Nest  Nest   Nmb   PGC1  SGLON   ...   R2t    sigP        Mlum           CF  \n",
       "int16  int32  int16 int32 float64  ... float64 int16      float64       float64\n",
       "------ ------ ----- ----- -------- ... ------- ----- ------------------ -------\n",
       "     1 100001   136 44715  89.6226 ...   2.129  1045 1710000000000000.0    1.65\n",
       "     1 100002   197 41220 103.0008 ...    1.44   707  529000000000000.0     1.0\n",
       "     1 100003   113 43296 156.2336 ...    1.52   746  623000000000000.0    1.12\n",
       "     1 100004    81 58265  71.5103 ...   2.153  1057 1770000000000000.0    2.26\n",
       "     1 100005    61 36487  92.0255 ...    1.56   766  673000000000000.0    1.58"
      ]
     },
     "execution_count": 15,
     "metadata": {},
     "output_type": "execute_result"
    }
   ],
   "source": [
    "# Data table #3 from Tully (2015)\n",
    "hdu = fits.open('../Tully15-Table3.fits')\n",
    "table3 = Table(hdu[1].data)\n",
    "hdu.close()\n",
    "\n",
    "table3[:5]"
   ]
  },
  {
   "cell_type": "code",
   "execution_count": 16,
   "id": "0b49046b-d1e0-466c-b325-e8801594319f",
   "metadata": {},
   "outputs": [
    {
     "name": "stderr",
     "output_type": "stream",
     "text": [
      "WARNING: UnitsWarning: '[Lsun]' did not parse as fits unit: Invalid character at col 0 If this is meant to be a custom unit, define it with 'u.def_unit'. To have it recognized inside a file reader or other code, enable it with 'u.add_enabled_units'. For details, see https://docs.astropy.org/en/latest/units/combining_and_defining.html [astropy.units.core]\n",
      "WARNING: UnitsWarning: '%' did not parse as fits unit: At col 0, Unit '%' not supported by the FITS standard.  If this is meant to be a custom unit, define it with 'u.def_unit'. To have it recognized inside a file reader or other code, enable it with 'u.add_enabled_units'. For details, see https://docs.astropy.org/en/latest/units/combining_and_defining.html [astropy.units.core]\n",
      "WARNING: UnitsWarning: '[Msun]' did not parse as fits unit: Invalid character at col 0 If this is meant to be a custom unit, define it with 'u.def_unit'. To have it recognized inside a file reader or other code, enable it with 'u.add_enabled_units'. For details, see https://docs.astropy.org/en/latest/units/combining_and_defining.html [astropy.units.core]\n"
     ]
    },
    {
     "data": {
      "text/html": [
       "<div><i>Table length=5</i>\n",
       "<table id=\"table139900497862688\" class=\"table-striped table-bordered table-condensed\">\n",
       "<thead><tr><th>PGC1</th><th>PGC1+</th><th>Nm</th><th>GLON</th><th>GLAT</th><th>SGLON</th><th>SGLAT</th><th>Ksmag</th><th>logK</th><th>HRV</th><th>VLS</th><th>Nd</th><th>Dist</th><th>e_Dist</th><th>sigmaL</th><th>sigmaV</th><th>R2t</th><th>Rg</th><th>logMK</th><th>logMd</th></tr></thead>\n",
       "<thead><tr><th></th><th></th><th></th><th>deg</th><th>deg</th><th>deg</th><th>deg</th><th>mag</th><th>[Lsun]</th><th>km / s</th><th>km / s</th><th></th><th>Mpc</th><th>%</th><th>km / s</th><th>km / s</th><th>Mpc</th><th>Mpc</th><th>[Msun]</th><th>[Msun]</th></tr></thead>\n",
       "<thead><tr><th>int32</th><th>int32</th><th>int16</th><th>float64</th><th>float64</th><th>float64</th><th>float64</th><th>float64</th><th>float64</th><th>int16</th><th>int16</th><th>int16</th><th>float64</th><th>int16</th><th>int16</th><th>int16</th><th>float64</th><th>float64</th><th>float64</th><th>float64</th></tr></thead>\n",
       "<tr><td>43296</td><td>43296</td><td>191</td><td>302.2241</td><td>21.6465</td><td>156.3251</td><td>-11.5819</td><td>4.61</td><td>12.71</td><td>3407</td><td>3142</td><td>59</td><td>36.96</td><td>3</td><td>595</td><td>800</td><td>1.612</td><td>0.893</td><td>14.624</td><td>14.717</td></tr>\n",
       "<tr><td>46618</td><td>43296</td><td>30</td><td>307.8738</td><td>19.2865</td><td>159.6426</td><td>-6.8008</td><td>6.07</td><td>12.11</td><td>3340</td><td>3086</td><td>5</td><td>37.57</td><td>7</td><td>350</td><td>307</td><td>0.950</td><td>0.745</td><td>13.936</td><td>13.808</td></tr>\n",
       "<tr><td>45174</td><td>43296</td><td>34</td><td>306.0424</td><td>32.5707</td><td>146.1941</td><td>-6.0422</td><td>6.42</td><td>11.96</td><td>3292</td><td>3059</td><td>4</td><td>44.03</td><td>8</td><td>307</td><td>300</td><td>0.833</td><td>0.693</td><td>13.764</td><td>13.756</td></tr>\n",
       "<tr><td>40498</td><td>43296</td><td>24</td><td>297.5648</td><td>23.0823</td><td>153.9019</td><td>-15.4648</td><td>6.48</td><td>11.92</td><td>3258</td><td>2986</td><td>4</td><td>28.45</td><td>6</td><td>296</td><td>170</td><td>0.801</td><td>0.607</td><td>13.713</td><td>13.207</td></tr>\n",
       "<tr><td>43557</td><td>43296</td><td>22</td><td>302.9333</td><td>36.4075</td><td>141.8602</td><td>-7.7062</td><td>6.82</td><td>11.81</td><td>3296</td><td>3066</td><td>7</td><td>39.89</td><td>8</td><td>267</td><td>163</td><td>0.724</td><td>0.428</td><td>13.582</td><td>13.017</td></tr>\n",
       "</table></div>"
      ],
      "text/plain": [
       "<Table length=5>\n",
       "  PGC1   PGC1+    Nm    GLON     GLAT   ...   R2t      Rg    logMK   logMd \n",
       "                        deg      deg    ...   Mpc     Mpc    [Msun]  [Msun]\n",
       " int32   int32  int16 float64  float64  ... float64 float64 float64 float64\n",
       "------- ------- ----- -------- -------- ... ------- ------- ------- -------\n",
       "  43296   43296   191 302.2241  21.6465 ...   1.612   0.893  14.624  14.717\n",
       "  46618   43296    30 307.8738  19.2865 ...   0.950   0.745  13.936  13.808\n",
       "  45174   43296    34 306.0424  32.5707 ...   0.833   0.693  13.764  13.756\n",
       "  40498   43296    24 297.5648  23.0823 ...   0.801   0.607  13.713  13.207\n",
       "  43557   43296    22 302.9333  36.4075 ...   0.724   0.428  13.582  13.017"
      ]
     },
     "execution_count": 16,
     "metadata": {},
     "output_type": "execute_result"
    }
   ],
   "source": [
    "# Data table from Kourkchi et al. (2017)\n",
    "clusters_K = Table.read('../Kourkchi17-Table2.fits.gz')\n",
    "clusters_K[:5]"
   ]
  },
  {
   "cell_type": "code",
   "execution_count": 17,
   "id": "2d90ed83-2512-4a48-8241-2daa96bfa994",
   "metadata": {},
   "outputs": [
    {
     "name": "stdout",
     "output_type": "stream",
     "text": [
      "False\n"
     ]
    }
   ],
   "source": [
    "# Is Coma in Kourkchi's data table?\n",
    "Coma_nest = 100001\n",
    "\n",
    "Coma_row_t3 = table3['Nest'] == Coma_nest\n",
    "\n",
    "print(table3['PGC1'][Coma_row_t3] in clusters_K['PGC1'])"
   ]
  },
  {
   "cell_type": "markdown",
   "id": "5bb59926-f338-4d5f-a556-38e8f82adb2d",
   "metadata": {},
   "source": [
    "So we don't need to update any of the info from the Kourkchi table."
   ]
  },
  {
   "cell_type": "code",
   "execution_count": 18,
   "id": "2e6bf5c3-f30d-42aa-8364-ab75a963bfa6",
   "metadata": {
    "tags": []
   },
   "outputs": [],
   "source": [
    "R2t_Coma = table3['R2t'][Coma_row_t3][0]\n",
    "sigma_Coma = table3['sigV'][Coma_row_t3][0]\n",
    "mu_Coma = table3['DM'][Coma_row_t3][0]\n",
    "\n",
    "Coma_coords = SkyCoord(table3['SGLON'][Coma_row_t3]*u.degree, \n",
    "                       table3['SGLAT'][Coma_row_t3]*u.degree, \n",
    "                       frame='supergalactic').icrs\n",
    "\n",
    "# Calculate heliocentric redshift of Coma\n",
    "zHelio_Coma = convert_z_frame(table3['<Vcmba>'][Coma_row_t3][0]/c.value, \n",
    "                              Coma_coords.ra.deg, \n",
    "                              Coma_coords.dec.deg, \n",
    "                              corrtype='-full')[0]"
   ]
  },
  {
   "cell_type": "code",
   "execution_count": 19,
   "id": "6286cb68-b729-4c94-afe4-c828a77cf8c8",
   "metadata": {
    "tags": []
   },
   "outputs": [
    {
     "data": {
      "text/plain": [
       "7176.227154937464"
      ]
     },
     "execution_count": 19,
     "metadata": {},
     "output_type": "execute_result"
    }
   ],
   "source": [
    "V_Coma = 100 * 10**(0.2*(mu_Coma - 25)) / (1 + zHelio_Coma)\n",
    "# Tully used H0 = 100 km/s/Mpc, which is why we are using 100 here and not H0\n",
    "\n",
    "V_Coma"
   ]
  },
  {
   "cell_type": "markdown",
   "id": "653cc8c1-9d9c-4bb2-b781-f4cfb3838a48",
   "metadata": {},
   "source": [
    "## Calculate the projected distance between the Coma cluster and each SGA galaxy"
   ]
  },
  {
   "cell_type": "code",
   "execution_count": 20,
   "id": "db08cc7e-f5e6-49e2-ac98-c6d95a251a93",
   "metadata": {
    "tags": []
   },
   "outputs": [],
   "source": [
    "# First, we need to convert R2t from Mpc to an angle, using the group's velocity\n",
    "# Note that we are NOT assuming that the size of the cluster is a small angle!!\n",
    "R2t_Coma_angle_1p5 = np.arctan(1.5*R2t_Coma/(V_Coma/H0)) * u.radian\n",
    "R2t_Coma_angle_3 = np.arctan(3*R2t_Coma/(V_Coma/H0)) * u.radian"
   ]
  },
  {
   "cell_type": "code",
   "execution_count": 21,
   "id": "69576c0e-8d94-4220-b1f7-ffa0fca2e70f",
   "metadata": {
    "tags": []
   },
   "outputs": [],
   "source": [
    "SGA_coords = SkyCoord(SGA['RA'], SGA['DEC'], unit='deg')\n",
    "\n",
    "sep = Coma_coords.separation(SGA_coords)"
   ]
  },
  {
   "cell_type": "code",
   "execution_count": 22,
   "id": "6ca06e0a-e8f1-46c2-97ee-f214fa137238",
   "metadata": {
    "tags": []
   },
   "outputs": [
    {
     "name": "stdout",
     "output_type": "stream",
     "text": [
      "fuji galaxies in Coma with good center observations: 270\n",
      "fuji off-center observations in Coma: 901\n"
     ]
    }
   ],
   "source": [
    "SGA_in_Coma1 = (sep < R2t_Coma_angle_1p5) & (SGA['Z_DESI']*c.value > V_Coma - 3*sigma_Coma) & (SGA['Z_DESI']*c.value < V_Coma + 3*sigma_Coma)\n",
    "\n",
    "SGA_in_Coma2 = (sep >= R2t_Coma_angle_1p5) & (sep < R2t_Coma_angle_3) & (SGA['Z_DESI']*c.value > V_Coma - 2*sigma_Coma) & (SGA['Z_DESI']*c.value < V_Coma + 2*sigma_Coma)\n",
    "#SGA_in_Coma2 = (sep >= 1.5*R2t_Coma_angle) & (SGA['Z_DESI']*c > V_Coma - 2*sigma_Coma) & (SGA['Z_DESI']*c < V_Coma + 2*sigma_Coma)\n",
    "\n",
    "SGA_in_Coma = SGA_in_Coma1 | SGA_in_Coma2\n",
    "\n",
    "################################################################################\n",
    "# Keep all observations of each galaxy that are within the Coma cluster\n",
    "#-------------------------------------------------------------------------------\n",
    "SGA_ID_in_Coma = SGA['SGA_ID'][SGA_in_Coma]\n",
    "\n",
    "centers_inComa = good_centers[np.in1d(good_centers['SGA_ID'], SGA_ID_in_Coma)]\n",
    "\n",
    "axis_inComa = fuji_axis[np.in1d(fuji_axis['SGA_ID'], SGA_ID_in_Coma)]\n",
    "################################################################################\n",
    "\n",
    "print('fuji galaxies in Coma with good center observations:', len(np.unique(centers_inComa['SGA_ID'])))\n",
    "print('fuji off-center observations in Coma:', len(axis_inComa))"
   ]
  },
  {
   "cell_type": "code",
   "execution_count": 23,
   "id": "9ea3cfa0-2dcf-4d20-b7c8-ccd5f9605be8",
   "metadata": {
    "tags": []
   },
   "outputs": [
    {
     "data": {
      "image/png": "[encoded data removed]",
      "text/plain": [
       "<Figure size 640x480 with 1 Axes>"
      ]
     },
     "metadata": {},
     "output_type": "display_data"
    }
   ],
   "source": [
    "plt.figure(tight_layout=True)\n",
    "\n",
    "plt.hist(sep[SGA_in_Coma].to_value('degree'), bins=np.arange(0, 5, 0.5))\n",
    "\n",
    "plt.xlabel('SGA-Coma Angular Separation [deg]')\n",
    "plt.ylabel('number of galaxies');"
   ]
  },
  {
   "cell_type": "code",
   "execution_count": 24,
   "id": "c5b373a5-c6bc-48d7-a80b-4b6d6be96cda",
   "metadata": {
    "tags": []
   },
   "outputs": [
    {
     "data": {
      "image/png": "[encoded data removed]",
      "text/plain": [
       "<Figure size 1500x500 with 3 Axes>"
      ]
     },
     "metadata": {},
     "output_type": "display_data"
    }
   ],
   "source": [
    "plt.figure(figsize=(15,5), tight_layout=True)\n",
    "\n",
    "plt.subplot(131)\n",
    "plt.plot(centers_inComa['TARGET_RA'], centers_inComa['TARGET_DEC'], '.')\n",
    "plt.plot(Coma_coords.transform_to('icrs').ra.deg, Coma_coords.transform_to('icrs').dec.deg, 'kx', ms=10, mew=5)\n",
    "plt.xlabel(r'$\\alpha$ [deg]')\n",
    "plt.ylabel(r'$\\delta$ [deg]')\n",
    "\n",
    "plt.subplot(132)\n",
    "plt.plot(centers_inComa['Z'], centers_inComa['TARGET_DEC'], '.')\n",
    "plt.plot(V_Coma/c.value, Coma_coords.transform_to('icrs').dec.deg, 'kx', ms=10, mew=5)\n",
    "plt.xlabel('z')\n",
    "plt.ylabel(r'$\\delta$ [deg]')\n",
    "\n",
    "plt.subplot(133)\n",
    "plt.hist(centers_inComa['Z'], bins=np.arange(0.0125, 0.035, 0.0025))\n",
    "plt.vlines(V_Coma/c.value, 0, 100, colors='k', linestyles='dotted')\n",
    "plt.xlabel('redshift')\n",
    "plt.ylabel('number of galaxies')\n",
    "plt.ylim(ymax=95);"
   ]
  },
  {
   "cell_type": "code",
   "execution_count": 25,
   "id": "8e109e35-f1c2-483d-8c9e-31d61e861a06",
   "metadata": {
    "tags": []
   },
   "outputs": [
    {
     "data": {
      "image/png": "[encoded data removed]",
      "text/plain": [
       "<Figure size 640x480 with 1 Axes>"
      ]
     },
     "metadata": {},
     "output_type": "display_data"
    }
   ],
   "source": [
    "axis_SGAids, axis_counts = np.unique(axis_inComa['SGA_ID'], return_counts=True)\n",
    "center_SGAids, center_counts = np.unique(centers_inComa['SGA_ID'], return_counts=True)\n",
    "\n",
    "counts = []\n",
    "\n",
    "for sga_id in SGA_ID_in_Coma:\n",
    "    \n",
    "    center_count = 0\n",
    "    axis_count = 0\n",
    "    \n",
    "    if sga_id in center_SGAids:\n",
    "        \n",
    "        center_count = center_counts[center_SGAids == sga_id]\n",
    "        \n",
    "    if sga_id in axis_SGAids:\n",
    "        \n",
    "        axis_count = axis_counts[axis_SGAids == sga_id]\n",
    "        \n",
    "    count = center_count + axis_count\n",
    "    \n",
    "    if count > 1:\n",
    "        \n",
    "        counts.append(count)\n",
    "        \n",
    "\n",
    "plt.figure(tight_layout=True)\n",
    "\n",
    "plt.hist(np.array(counts), bins=np.arange(2,15))\n",
    "\n",
    "plt.xlabel('Observations per SGA_ID in Coma')\n",
    "plt.ylabel('count');"
   ]
  },
  {
   "cell_type": "markdown",
   "id": "5011fc26-576f-4e4e-904f-ce34f84aef4c",
   "metadata": {},
   "source": [
    "# 0-pt calibrators\n",
    "\n",
    "Which objects with center observations also have independent distances?"
   ]
  },
  {
   "cell_type": "code",
   "execution_count": 26,
   "id": "a41c686f-1f27-4f4f-9b2f-ff28cd167214",
   "metadata": {
    "tags": []
   },
   "outputs": [
    {
     "name": "stdout",
     "output_type": "stream",
     "text": [
      "fuji galaxies with distances and good center observations: 11\n",
      "fuji off-center observations in galaxies with distances: 25\n"
     ]
    }
   ],
   "source": [
    "distances = (SGA['DM_Stellar'] != -1) | (SGA['DM1_SN'] != -1) #| np.isfinite(SGA['DM_PantheonSH0ES'])\n",
    "centers = np.isfinite(SGA['Z_DESI'])\n",
    "\n",
    "################################################################################\n",
    "# Keep all observations of each galaxy that have independent distances\n",
    "#-------------------------------------------------------------------------------\n",
    "SGA_ID_dist = SGA['SGA_ID'][distances & centers]\n",
    "\n",
    "centers_dist = good_centers[np.in1d(good_centers['SGA_ID'], SGA_ID_dist)]\n",
    "\n",
    "axis_dist = fuji_axis[np.in1d(fuji_axis['SGA_ID'], SGA_ID_dist)]\n",
    "################################################################################\n",
    "\n",
    "print('fuji galaxies with distances and good center observations:', len(np.unique(centers_dist['SGA_ID'])))\n",
    "print('fuji off-center observations in galaxies with distances:', len(axis_dist))"
   ]
  },
  {
   "cell_type": "markdown",
   "id": "3426b07b-c1cc-470f-89be-62b56926fbd4",
   "metadata": {},
   "source": [
    "# Calculate the rotational velocity"
   ]
  },
  {
   "cell_type": "markdown",
   "id": "e02d1180-193d-48ed-9ef0-6647981a14bb",
   "metadata": {},
   "source": [
    "## For Coma galaxies"
   ]
  },
  {
   "cell_type": "code",
   "execution_count": 27,
   "id": "12a7b557-ca87-44ff-b3c3-b9d8227b4500",
   "metadata": {
    "tags": []
   },
   "outputs": [],
   "source": [
    "axis_inComa['V_ROT'] = np.nan\n",
    "axis_inComa['V_ROT_ERR'] = np.nan\n",
    "\n",
    "\n",
    "# For each SGA galaxy that has at least one center observation, calculate the \n",
    "# distance for all of that galaxy's targets\n",
    "for sga_gal in np.unique(centers_inComa['SGA_ID']):\n",
    "    \n",
    "    # Identify all galaxy targets on this galaxy\n",
    "    obs_idx = axis_inComa['SGA_ID'] == sga_gal\n",
    "    \n",
    "    # Find galaxy index in SGA catalog\n",
    "    sga_idx = SGA_dict[sga_gal]\n",
    "    \n",
    "    \n",
    "    #---------------------------------------------------------------------------\n",
    "    # Calculate rotational velocity\n",
    "    #---------------------------------------------------------------------------\n",
    "    # Use the average redshift of all center observations for the systemic velocity\n",
    "    z_center = SGA['Z_DESI'][sga_idx]\n",
    "    z_err_center = SGA['ZERR_DESI'][sga_idx]\n",
    "\n",
    "    # Calculate rotational velocity for all observations of the galaxy\n",
    "    # axis_inComa['V_ROT'][obs_idx] = c*(axis_inComa['Z'][obs_idx] - z_center)\n",
    "    z_rot = (1 + axis_inComa['Z'][obs_idx])/(1 + z_center) - 1\n",
    "    axis_inComa['V_ROT'][obs_idx] = c*z_rot\n",
    "\n",
    "    # Calculate uncertainty in the rotational velocity\n",
    "    if np.all(np.abs(axis_inComa['ZERR_MOD'][obs_idx]/axis_inComa['Z'][obs_idx]) < 0.05) and (np.abs(z_err_center/z_center) < 0.05):\n",
    "        # axis_inComa['V_ROT_ERR'][obs_idx] = c*np.sqrt(axis_inComa['ZERR'][obs_idx]**2 + z_err_center**2)\n",
    "        # axis_inComa['V_ROT_ERR'][obs_idx] = c*np.sqrt((axis_inComa['ZERR'][obs_idx]/(1 + z_center))**2 + z_err_center**2*((1 + axis_inComa['Z'][obs_idx])/(1 + z_center)**2) + (dv_sys/c).value**2)\n",
    "        axis_inComa['V_ROT_ERR'][obs_idx] = c*np.sqrt((axis_inComa['ZERR_MOD'][obs_idx]/(1 + z_center))**2 + z_err_center**2*((1 + axis_inComa['Z'][obs_idx])/(1 + z_center)**2))\n",
    "    else:\n",
    "        z_center_random = rng.normal(scale=z_err_center, \n",
    "                                     loc=z_center, \n",
    "                                     size=N_samples)\n",
    "\n",
    "        z_axis_random = np.zeros((np.sum(obs_idx), N_samples))\n",
    "\n",
    "        for i in range(np.sum(obs_idx)):\n",
    "            z_axis_random[i] = rng.normal(scale=axis_inComa['ZERR_MOD'][obs_idx][i], \n",
    "                                          loc=axis_inComa['Z'][obs_idx][i], \n",
    "                                          size=N_samples)\n",
    "\n",
    "        z_rot_random = (1 + z_axis_random)/(1 + z_center_random) - 1\n",
    "\n",
    "        axis_inComa['V_ROT_ERR'][obs_idx] = np.std(c*z_rot_random, axis=1)\n",
    "    #---------------------------------------------------------------------------\n",
    "    \n",
    "    \n",
    "    #---------------------------------------------------------------------------\n",
    "    # Correct rotational velocities for inclination angle\n",
    "    #---------------------------------------------------------------------------\n",
    "    cosi2 = (SGA['BA'][sga_idx]**2 - q0**2)/(1 - q0**2)\n",
    "    \n",
    "    # Galaxies with b/a < q0\n",
    "    if cosi2 < 0:\n",
    "        cosi2 = 0\n",
    "    \n",
    "    axis_inComa['V_ROT'][obs_idx] /= np.sin(np.arccos(np.sqrt(cosi2)))\n",
    "    #---------------------------------------------------------------------------"
   ]
  },
  {
   "cell_type": "code",
   "execution_count": 28,
   "id": "9d6d9315-66ae-4f67-9fa4-1a6fff109b90",
   "metadata": {
    "tags": []
   },
   "outputs": [
    {
     "data": {
      "image/png": "[encoded data removed]",
      "text/plain": [
       "<Figure size 640x480 with 1 Axes>"
      ]
     },
     "metadata": {},
     "output_type": "display_data"
    }
   ],
   "source": [
    "plt.figure(tight_layout=True)\n",
    "\n",
    "plt.hist(np.abs(axis_inComa['V_ROT']), bins=np.linspace(0, 1000, 100))\n",
    "\n",
    "plt.xlabel('$V_{rot}$ [km/s]')\n",
    "plt.ylabel('number of observations');"
   ]
  },
  {
   "cell_type": "markdown",
   "id": "5ecab7e7-12c2-49a2-a9f7-19a50a13519c",
   "metadata": {},
   "source": [
    "## For 0-pt calibrators"
   ]
  },
  {
   "cell_type": "code",
   "execution_count": 29,
   "id": "81385f00-0d5c-4019-abd2-b41f342940e0",
   "metadata": {
    "tags": []
   },
   "outputs": [],
   "source": [
    "axis_dist['V_ROT'] = np.nan\n",
    "axis_dist['V_ROT_ERR'] = np.nan\n",
    "\n",
    "\n",
    "# For each SGA galaxy that has at least one center observation, calculate the \n",
    "# distance for all of that galaxy's targets\n",
    "for sga_gal in np.unique(centers_dist['SGA_ID']):\n",
    "    \n",
    "    # Identify all galaxy targets on this galaxy\n",
    "    obs_idx = axis_dist['SGA_ID'] == sga_gal\n",
    "    \n",
    "    # Find galaxy index in SGA catalog\n",
    "    sga_idx = SGA_dict[sga_gal]\n",
    "    \n",
    "    \n",
    "    #---------------------------------------------------------------------------\n",
    "    # Calculate rotational velocity\n",
    "    #---------------------------------------------------------------------------\n",
    "    # Use the average redshift of all center observations for the systemic velocity\n",
    "    z_center = np.mean(SGA['Z_DESI'][sga_idx])\n",
    "    z_err_center = SGA['ZERR_DESI'][sga_idx]\n",
    "\n",
    "    # Calculate rotational velocity for all observations of the galaxy\n",
    "    # axis_dist['V_ROT'][obs_idx] = c*(axis_dist['Z'][obs_idx] - z_center)\n",
    "    z_rot = (1 + axis_dist['Z'][obs_idx])/(1 + z_center) - 1\n",
    "    axis_dist['V_ROT'][obs_idx] = c*z_rot\n",
    "\n",
    "    # Calculate uncertainty in the rotational velocity\n",
    "    if np.all(np.abs(axis_dist['ZERR_MOD'][obs_idx]/axis_dist['Z'][obs_idx]) < 0.05) and (np.abs(z_err_center/z_center) < 0.05):\n",
    "        # axis_dist['V_ROT_ERR'][obs_idx] = c*np.sqrt(axis_dist['ZERR'][obs_idx]**2 + z_err_center**2)\n",
    "        # axis_dist['V_ROT_ERR'][obs_idx] = c*np.sqrt((axis_dist['ZERR'][obs_idx]/(1 + z_center))**2 + z_err_center**2*((1 + axis_dist['Z'][obs_idx])/(1 + z_center)**2) + (dv_sys/c).value**2)\n",
    "        axis_dist['V_ROT_ERR'][obs_idx] = c*np.sqrt((axis_dist['ZERR_MOD'][obs_idx]/(1 + z_center))**2 + z_err_center**2*((1 + axis_dist['Z'][obs_idx])/(1 + z_center)**2))\n",
    "    else:\n",
    "        z_center_random = rng.normal(scale=z_err_center, \n",
    "                                     loc=z_center, \n",
    "                                     size=N_samples)\n",
    "\n",
    "        z_axis_random = np.zeros((np.sum(obs_idx), N_samples))\n",
    "\n",
    "        for i in range(np.sum(obs_idx)):\n",
    "            z_axis_random[i] = rng.normal(scale=axis_dist['ZERR_MOD'][obs_idx][i], \n",
    "                                          loc=axis_dist['Z'][obs_idx][i],\n",
    "                                          size=N_samples)\n",
    "\n",
    "        z_rot_random = (1 + z_axis_random)/(1 + z_center_random) - 1\n",
    "\n",
    "        axis_dist['V_ROT_ERR'][obs_idx] = np.std(c*z_rot_random, axis=1)\n",
    "    #---------------------------------------------------------------------------\n",
    "    \n",
    "    \n",
    "    #---------------------------------------------------------------------------\n",
    "    # Correct rotational velocities for inclination angle\n",
    "    #---------------------------------------------------------------------------\n",
    "    cosi2 = (SGA['BA'][sga_idx]**2 - q0**2)/(1 - q0**2)\n",
    "    \n",
    "    # Galaxies with b/a < q0\n",
    "    if cosi2 < 0:\n",
    "        cosi2 = 0\n",
    "    \n",
    "    axis_dist['V_ROT'][obs_idx] /= np.sin(np.arccos(np.sqrt(cosi2)))\n",
    "    #---------------------------------------------------------------------------"
   ]
  },
  {
   "cell_type": "code",
   "execution_count": 30,
   "id": "c26f61fd-ca73-42b2-b28c-7627c7198c28",
   "metadata": {
    "tags": []
   },
   "outputs": [
    {
     "data": {
      "image/png": "[encoded data removed]",
      "text/plain": [
       "<Figure size 640x480 with 1 Axes>"
      ]
     },
     "metadata": {},
     "output_type": "display_data"
    }
   ],
   "source": [
    "plt.figure(tight_layout=True)\n",
    "\n",
    "plt.hist(np.abs(axis_dist['V_ROT']), bins=np.linspace(0, 1000, 100))\n",
    "\n",
    "plt.xlabel('$V_{rot}$ [km/s]')\n",
    "plt.ylabel('number of observations');"
   ]
  },
  {
   "cell_type": "markdown",
   "id": "459c724e-367a-41de-accc-12850f8e30cc",
   "metadata": {},
   "source": [
    "# Cut for galaxies suitable for calibrating the TFR\n",
    "\n",
    "Requirements:\n",
    " * $10 < V_{rot} < 1000$ km/s at $0.33R_{26}$\n",
    " * $\\Delta V / V_{min} \\leq 5$\n",
    " * $i > 45^\\circ$\n",
    " * Spiral-type morphology\n",
    " * Passes visual inspection"
   ]
  },
  {
   "cell_type": "markdown",
   "id": "55e02594-74c0-4737-8279-be97076ab015",
   "metadata": {},
   "source": [
    "## Velocity cut"
   ]
  },
  {
   "cell_type": "code",
   "execution_count": 31,
   "id": "848a3667-c026-4dcd-822c-9714f26ece88",
   "metadata": {
    "tags": []
   },
   "outputs": [
    {
     "name": "stdout",
     "output_type": "stream",
     "text": [
      "190 111\n"
     ]
    }
   ],
   "source": [
    "r0p3 = (axis_inComa['SKY_FIBER_DIST_R26'] > 0.3) & (axis_inComa['SKY_FIBER_DIST_R26'] < 0.4)\n",
    "\n",
    "Vgood = (np.abs(axis_inComa['V_ROT']) < 1000) & (np.abs(axis_inComa['V_ROT']) > 10)\n",
    "\n",
    "good_axis_inComa = axis_inComa[r0p3 & Vgood]\n",
    "\n",
    "print(len(good_axis_inComa), len(np.unique(good_axis_inComa['SGA_ID'])))"
   ]
  },
  {
   "cell_type": "code",
   "execution_count": 32,
   "id": "a43f6bc4-1294-44c3-9b83-290498e93e4f",
   "metadata": {
    "tags": []
   },
   "outputs": [
    {
     "name": "stdout",
     "output_type": "stream",
     "text": [
      "7 3\n"
     ]
    }
   ],
   "source": [
    "r0p3_0pt = (axis_dist['SKY_FIBER_DIST_R26'] > 0.3) & (axis_dist['SKY_FIBER_DIST_R26'] < 0.4)\n",
    "\n",
    "Vgood_0pt = (np.abs(axis_dist['V_ROT']) < 1000) & (np.abs(axis_dist['V_ROT']) > 10)\n",
    "\n",
    "good_axis_dist = axis_dist[r0p3_0pt & Vgood_0pt]\n",
    "\n",
    "print(len(good_axis_dist), len(np.unique(good_axis_dist['SGA_ID'])))"
   ]
  },
  {
   "cell_type": "markdown",
   "id": "249ba011-ae29-484b-9f58-349a68b2d654",
   "metadata": {},
   "source": [
    "## Relative velocity cut"
   ]
  },
  {
   "cell_type": "code",
   "execution_count": 33,
   "id": "3a90b957-4496-43f1-894c-ca9822e43bf0",
   "metadata": {
    "tags": []
   },
   "outputs": [],
   "source": [
    "good_deltaV = np.ones(len(good_axis_inComa), dtype=bool)\n",
    "\n",
    "for sga_id in np.unique(good_axis_inComa['SGA_ID']):\n",
    "    \n",
    "    # Identify all galaxy targets on this galaxy\n",
    "    obs_idx = good_axis_inComa['SGA_ID'] == sga_id\n",
    "    \n",
    "    n_obs = np.sum(obs_idx)\n",
    "    \n",
    "    if n_obs > 1:\n",
    "        \n",
    "        Vmin = np.min(np.abs(good_axis_inComa['V_ROT'][obs_idx]))\n",
    "        Vmax = np.max(np.abs(good_axis_inComa['V_ROT'][obs_idx]))\n",
    "        \n",
    "        v_norm_min = np.abs(good_axis_inComa['V_ROT'][obs_idx])/Vmin\n",
    "        v_norm_max = np.abs(good_axis_inComa['V_ROT'][obs_idx])/Vmax\n",
    "        \n",
    "        diff_matrix = np.abs(good_axis_inComa['V_ROT'][obs_idx]).reshape(n_obs, 1) - np.abs(good_axis_inComa['V_ROT'][obs_idx]).reshape(1, n_obs)\n",
    "        \n",
    "        diff_matrix_norm = diff_matrix/Vmin\n",
    "        \n",
    "        if np.any(np.abs(diff_matrix_norm) > 5.):\n",
    "            \n",
    "            # Remove all observations with DELTACHI2 < 25\n",
    "            # Note: This also typically removes observations with ZWARN != 0\n",
    "            deltachi2_idx = good_axis_inComa['DELTACHI2'] >= 25\n",
    "            \n",
    "            good_deltaV[obs_idx & ~deltachi2_idx] = False\n",
    "            \n",
    "            good_obs_idx = obs_idx & deltachi2_idx\n",
    "            \n",
    "            n_obs_good = np.sum(good_obs_idx)\n",
    "            \n",
    "            # Check to make sure that, if there are still multiple observations, they all satisfy our relative velocity criteria\n",
    "            if n_obs_good > 1:\n",
    "                \n",
    "                Vmin = np.min(np.abs(good_axis_inComa['V_ROT'][good_obs_idx]))\n",
    "                \n",
    "                diff_matrix = np.abs(good_axis_inComa['V_ROT'][good_obs_idx]).reshape(n_obs_good, 1) - np.abs(good_axis_inComa['V_ROT'][good_obs_idx]).reshape(1, n_obs_good)\n",
    "                \n",
    "                diff_matrix_norm = diff_matrix/Vmin\n",
    "                \n",
    "                if np.any(np.abs(diff_matrix_norm) > 5.):\n",
    "                    \n",
    "                    # Set all of these so that we don't look at this galaxy\n",
    "                    good_deltaV[good_obs_idx] = False"
   ]
  },
  {
   "cell_type": "code",
   "execution_count": 34,
   "id": "abf1eb09-13f5-478f-9d7f-1274d8b16e2a",
   "metadata": {
    "tags": []
   },
   "outputs": [
    {
     "name": "stdout",
     "output_type": "stream",
     "text": [
      "182 108\n"
     ]
    }
   ],
   "source": [
    "good_deltaV_axis_inComa = good_axis_inComa[good_deltaV]\n",
    "\n",
    "print(len(good_deltaV_axis_inComa), len(np.unique(good_deltaV_axis_inComa['SGA_ID'])))"
   ]
  },
  {
   "cell_type": "code",
   "execution_count": 35,
   "id": "eb6a40b5-a8e5-40cb-9682-058669c274e6",
   "metadata": {
    "tags": []
   },
   "outputs": [],
   "source": [
    "good_deltaV_0pt = np.ones(len(good_axis_dist), dtype=bool)\n",
    "\n",
    "for sga_id in np.unique(good_axis_dist['SGA_ID']):\n",
    "    \n",
    "    # Identify all galaxy targets on this galaxy\n",
    "    obs_idx = good_axis_dist['SGA_ID'] == sga_id\n",
    "    \n",
    "    n_obs = np.sum(obs_idx)\n",
    "    \n",
    "    if n_obs > 1:\n",
    "        \n",
    "        Vmin = np.min(np.abs(good_axis_dist['V_ROT'][obs_idx]))\n",
    "        Vmax = np.max(np.abs(good_axis_dist['V_ROT'][obs_idx]))\n",
    "        \n",
    "        v_norm_min = np.abs(good_axis_dist['V_ROT'][obs_idx])/Vmin\n",
    "        v_norm_max = np.abs(good_axis_dist['V_ROT'][obs_idx])/Vmax\n",
    "        \n",
    "        diff_matrix = np.abs(good_axis_dist['V_ROT'][obs_idx]).reshape(n_obs, 1) - np.abs(good_axis_dist['V_ROT'][obs_idx]).reshape(1, n_obs)\n",
    "        \n",
    "        diff_matrix_norm = diff_matrix/Vmin\n",
    "        \n",
    "        if np.any(np.abs(diff_matrix_norm) > 5.):\n",
    "            \n",
    "            # Remove all observations with DELTACHI2 < 25\n",
    "            # Note: This also typically removes observations with ZWARN != 0\n",
    "            deltachi2_idx = good_axis_dist['DELTACHI2'] >= 25\n",
    "            \n",
    "            good_deltaV_0pt[obs_idx & ~deltachi2_idx] = False\n",
    "            \n",
    "            good_obs_idx = obs_idx & deltachi2_idx\n",
    "            \n",
    "            n_obs_good = np.sum(good_obs_idx)\n",
    "            \n",
    "            # Check to make sure that, if there are still multiple observations, they all satisfy our relative velocity criteria\n",
    "            if n_obs_good > 1:\n",
    "                \n",
    "                Vmin = np.min(np.abs(good_axis_dist['V_ROT'][good_obs_idx]))\n",
    "                \n",
    "                diff_matrix = np.abs(good_axis_dist['V_ROT'][good_obs_idx]).reshape(n_obs_good, 1) - np.abs(good_axis_dist['V_ROT'][good_obs_idx]).reshape(1, n_obs_good)\n",
    "                \n",
    "                diff_matrix_norm = diff_matrix/Vmin\n",
    "                \n",
    "                if np.any(np.abs(diff_matrix_norm) > 5.):\n",
    "                    \n",
    "                    # Set all of these so that we don't look at this galaxy\n",
    "                    good_deltaV_0pt[good_obs_idx] = False"
   ]
  },
  {
   "cell_type": "code",
   "execution_count": 36,
   "id": "baef5f08-1582-4735-ab2e-595bb99ed22d",
   "metadata": {
    "tags": []
   },
   "outputs": [
    {
     "name": "stdout",
     "output_type": "stream",
     "text": [
      "7 3\n"
     ]
    }
   ],
   "source": [
    "good_deltaV_axis_dist = good_axis_dist[good_deltaV_0pt]\n",
    "\n",
    "print(len(good_deltaV_axis_dist), len(np.unique(good_deltaV_axis_dist['SGA_ID'])))"
   ]
  },
  {
   "cell_type": "markdown",
   "id": "51dbac88-c153-443a-9633-0a03dc3e3f46",
   "metadata": {},
   "source": [
    "## Inclination angle cut"
   ]
  },
  {
   "cell_type": "code",
   "execution_count": 37,
   "id": "1856fd8c-d704-49f7-ab66-a3f1a7a1d576",
   "metadata": {
    "tags": []
   },
   "outputs": [],
   "source": [
    "SGA['cosi2'] = (SGA['BA']**2 - q0**2)/(1 - q0**2)\n",
    "SGA['cosi2'][SGA['cosi2'] < 0] = 0\n",
    "\n",
    "i_min = 45. # degrees\n",
    "cosi2_max = np.cos(i_min*np.pi/180.)**2"
   ]
  },
  {
   "cell_type": "code",
   "execution_count": 38,
   "id": "9fa2525f-f830-46c5-b26c-48e6408b2bf3",
   "metadata": {
    "tags": []
   },
   "outputs": [],
   "source": [
    "good_deltaV_axis_inComa['iSGA'] = -1\n",
    "\n",
    "for i in range(len(good_deltaV_axis_inComa)):\n",
    "    \n",
    "    # Find galaxy in SGA\n",
    "    sga_idx = SGA_dict[good_deltaV_axis_inComa['SGA_ID'][i]]\n",
    "    \n",
    "    good_deltaV_axis_inComa['iSGA'][i] = sga_idx\n",
    "    \n",
    "good_deltaV_axis_inComa['cosi2'] = SGA['cosi2'][good_deltaV_axis_inComa['iSGA']]"
   ]
  },
  {
   "cell_type": "code",
   "execution_count": 39,
   "id": "082bcddd-b7e8-41c7-88e7-ccb0781eec67",
   "metadata": {
    "tags": []
   },
   "outputs": [
    {
     "name": "stdout",
     "output_type": "stream",
     "text": [
      "147 89\n"
     ]
    }
   ],
   "source": [
    "edge = good_deltaV_axis_inComa['cosi2'] <= cosi2_max\n",
    "\n",
    "good_edge_axis_inComa = good_deltaV_axis_inComa[edge]\n",
    "\n",
    "print(len(good_edge_axis_inComa), len(np.unique(good_edge_axis_inComa['SGA_ID'])))"
   ]
  },
  {
   "cell_type": "code",
   "execution_count": 40,
   "id": "d1aee5e0-0ee5-4e4d-bbab-38b1d59c7fc8",
   "metadata": {
    "tags": []
   },
   "outputs": [],
   "source": [
    "good_deltaV_axis_dist['iSGA'] = -1\n",
    "\n",
    "for i in range(len(good_deltaV_axis_dist)):\n",
    "    \n",
    "    # Find galaxy in SGA\n",
    "    sga_idx = SGA_dict[good_deltaV_axis_dist['SGA_ID'][i]]\n",
    "    \n",
    "    good_deltaV_axis_dist['iSGA'][i] = sga_idx\n",
    "    \n",
    "good_deltaV_axis_dist['cosi2'] = SGA['cosi2'][good_deltaV_axis_dist['iSGA']]"
   ]
  },
  {
   "cell_type": "code",
   "execution_count": 41,
   "id": "e8f3099e-ac63-4299-b77f-4f11689d025a",
   "metadata": {
    "tags": []
   },
   "outputs": [
    {
     "name": "stdout",
     "output_type": "stream",
     "text": [
      "6 2\n"
     ]
    }
   ],
   "source": [
    "edge_0pt = good_deltaV_axis_dist['cosi2'] <= cosi2_max\n",
    "\n",
    "good_edge_axis_dist = good_deltaV_axis_dist[edge_0pt]\n",
    "\n",
    "print(len(good_edge_axis_dist), len(np.unique(good_edge_axis_dist['SGA_ID'])))"
   ]
  },
  {
   "cell_type": "markdown",
   "id": "a1f8d4a7-9e92-4828-b730-a98b24799e4b",
   "metadata": {},
   "source": [
    "## Morphology cut"
   ]
  },
  {
   "cell_type": "code",
   "execution_count": 42,
   "id": "b18aacdc-7dbc-4f15-a03c-6b3f14d72cde",
   "metadata": {
    "tags": []
   },
   "outputs": [],
   "source": [
    "good_edge_axis_inComa['MORPHTYPE'] = SGA['MORPHTYPE'][good_edge_axis_inComa['iSGA']]"
   ]
  },
  {
   "cell_type": "code",
   "execution_count": 43,
   "id": "26587bfd-334d-4692-82e5-f3a9a54cc053",
   "metadata": {
    "tags": []
   },
   "outputs": [
    {
     "name": "stdout",
     "output_type": "stream",
     "text": [
      "--\n",
      "79 44\n"
     ]
    }
   ],
   "source": [
    "spirals = np.zeros(len(good_edge_axis_inComa), dtype=bool)\n",
    "\n",
    "for i in range(len(good_edge_axis_inComa)):\n",
    "    \n",
    "    try:    \n",
    "        if (good_edge_axis_inComa['MORPHTYPE'][i][0] == 'S') and (good_edge_axis_inComa['MORPHTYPE'][i][:2] != 'S0'):\n",
    "            spirals[i] = True\n",
    "    except IndexError:\n",
    "        print(good_edge_axis_inComa['MORPHTYPE'][i])\n",
    "\n",
    "good_edge_spirals_axis_inComa = good_edge_axis_inComa[spirals]\n",
    "\n",
    "print(len(good_edge_spirals_axis_inComa), len(np.unique(good_edge_spirals_axis_inComa['SGA_ID'])))"
   ]
  },
  {
   "cell_type": "code",
   "execution_count": 44,
   "id": "97bdd98f-846b-43c0-a05c-bccca93e084a",
   "metadata": {
    "tags": []
   },
   "outputs": [],
   "source": [
    "good_edge_axis_dist['MORPHTYPE'] = SGA['MORPHTYPE'][good_edge_axis_dist['iSGA']]"
   ]
  },
  {
   "cell_type": "code",
   "execution_count": 45,
   "id": "0de8d06f-cc90-4929-9c4b-6ba91f712965",
   "metadata": {
    "tags": []
   },
   "outputs": [
    {
     "name": "stdout",
     "output_type": "stream",
     "text": [
      "6 2\n"
     ]
    }
   ],
   "source": [
    "spirals_0pt = np.zeros(len(good_edge_axis_dist), dtype=bool)\n",
    "\n",
    "for i in range(len(good_edge_axis_dist)):\n",
    "    \n",
    "    try:    \n",
    "        if (good_edge_axis_dist['MORPHTYPE'][i][0] == 'S') and (good_edge_axis_dist['MORPHTYPE'][i][:2] != 'S0'):\n",
    "            spirals_0pt[i] = True\n",
    "        elif good_edge_axis_dist['MORPHTYPE'][i] == 'N/A':\n",
    "            spirals_0pt[i] = True\n",
    "    except IndexError:\n",
    "        print(good_edge_axis_dist['MORPHTYPE'][i])\n",
    "\n",
    "good_edge_spirals_axis_dist = good_edge_axis_dist[spirals_0pt]\n",
    "\n",
    "print(len(good_edge_spirals_axis_dist), len(np.unique(good_edge_spirals_axis_dist['SGA_ID'])))"
   ]
  },
  {
   "cell_type": "markdown",
   "id": "345f6c36-5689-4081-a8bc-e64605813b8b",
   "metadata": {
    "tags": []
   },
   "source": [
    "## Visual inspection cut\n",
    "\n",
    "This removes any observations that are contaminated by foreground stars or other galaxies."
   ]
  },
  {
   "cell_type": "code",
   "execution_count": 56,
   "id": "e56ac93d-27c4-413e-a950-96c555260cb9",
   "metadata": {
    "tags": []
   },
   "outputs": [],
   "source": [
    "def get_cutout(targetid, ra, dec, size, verbose=False):\n",
    "    \"\"\"Grab and cache legacy survey cutouts.\n",
    "    \n",
    "    Parameters\n",
    "    ----------\n",
    "    targetid : int\n",
    "        DESI target ID.\n",
    "    ra : float\n",
    "        Right ascension (degrees).\n",
    "    dec : float\n",
    "        Declination (degrees).\n",
    "    verbose : bool\n",
    "        Add some status messages if true.\n",
    "        \n",
    "    Returns\n",
    "    -------\n",
    "    img_name : str\n",
    "        Name of JPG cutout file written after query.\n",
    "    w : astropy.wcs.WCS\n",
    "        World coordinate system for the image.\n",
    "    \"\"\"\n",
    "    # Either load an existing image or download a cutout.\n",
    "    img_name = 'cache/coma_{}.jpg'.format(targetid)\n",
    "    \n",
    "    if os.path.exists(img_name):\n",
    "        if verbose:\n",
    "            print('{} exists.'.format(img_name))\n",
    "    else:\n",
    "        img_url = 'https://www.legacysurvey.org/viewer/cutout.jpg?ra={}&dec={}&zoom=14&layer=ls-dr9&size={}&sga'.format(ra, dec, size)\n",
    "        if verbose:\n",
    "            print('Get {}'.format(img_url))\n",
    "            \n",
    "        with open(img_name, 'wb') as handle: \n",
    "            response = requests.get(img_url, stream=True) \n",
    "            if not response.ok: \n",
    "                print(response) \n",
    "            for block in response.iter_content(1024): \n",
    "                if not block: \n",
    "                    break \n",
    "                handle.write(block)\n",
    "                \n",
    "    # Set up the WCS.\n",
    "    wcs_input_dict = {\n",
    "        'CTYPE1': 'RA---TAN',\n",
    "        'CUNIT1': 'deg',\n",
    "        'CDELT1': -0.262/3600,\n",
    "        'CRPIX1': size/2 + 0.5,\n",
    "        'CRVAL1': ra,\n",
    "        'NAXIS1': size,\n",
    "        'CTYPE2': 'DEC--TAN',\n",
    "        'CUNIT2': 'deg',\n",
    "        'CDELT2': 0.262/3600,\n",
    "        'CRPIX2': size/2 + 0.5,\n",
    "        'CRVAL2': dec,\n",
    "        'NAXIS2': size\n",
    "    }\n",
    "    w = WCS(wcs_input_dict)\n",
    "    \n",
    "    return img_name, w"
   ]
  },
  {
   "cell_type": "code",
   "execution_count": 57,
   "id": "72c5b1cb-69cd-41b7-92e2-f96d00acab36",
   "metadata": {
    "tags": []
   },
   "outputs": [
    {
     "name": "stdout",
     "output_type": "stream",
     "text": [
      "cache/coma_39628443968603627.jpg exists.\n",
      "cache/coma_39628438620866050.jpg exists.\n",
      "cache/coma_39628417141837039.jpg exists.\n",
      "cache/coma_39628422552487928.jpg exists.\n",
      "cache/coma_39628433264741476.jpg exists.\n",
      "cache/coma_39628433252157024.jpg exists.\n",
      "cache/coma_39628433273131447.jpg exists.\n",
      "cache/coma_39628427883449010.jpg exists.\n",
      "cache/coma_39628459890180943.jpg exists.\n",
      "cache/coma_39628465145644279.jpg exists.\n",
      "cache/coma_39628443939246506.jpg exists.\n",
      "cache/coma_39628443926663216.jpg exists.\n",
      "cache/coma_39628470426275324.jpg exists.\n",
      "cache/coma_39628417141836579.jpg exists.\n",
      "cache/coma_39628417150224365.jpg exists.\n",
      "cache/coma_39628443943438135.jpg exists.\n",
      "cache/coma_39628362678799621.jpg exists.\n",
      "cache/coma_39628454601166042.jpg exists.\n",
      "cache/coma_39628443926662280.jpg exists.\n",
      "cache/coma_39628346081936550.jpg exists.\n",
      "cache/coma_39628411752155310.jpg exists.\n",
      "cache/coma_39628459885986062.jpg exists.\n",
      "cache/coma_39628454580191468.jpg exists.\n",
      "cache/coma_39628433252157334.jpg exists.\n",
      "cache/coma_39628459885986743.jpg exists.\n",
      "cache/coma_39628465154033668.jpg exists.\n",
      "cache/coma_39628422527321535.jpg exists.\n",
      "cache/coma_39628433273131043.jpg exists.\n",
      "cache/coma_39628438633449631.jpg exists.\n",
      "cache/coma_39628427887645274.jpg exists.\n",
      "cache/coma_39628427904417920.jpg exists.\n",
      "cache/coma_39628433273128422.jpg exists.\n",
      "cache/coma_39628459860821137.jpg exists.\n",
      "cache/coma_39628433277322539.jpg exists.\n",
      "cache/coma_39628459873406209.jpg exists.\n",
      "cache/coma_39628373646905117.jpg exists.\n",
      "cache/coma_39628443930855642.jpg exists.\n",
      "cache/coma_39628449253427649.jpg exists.\n",
      "cache/coma_39628438620868323.jpg exists.\n",
      "cache/coma_39628438599893097.jpg exists.\n",
      "cache/coma_39628427912809847.jpg exists.\n",
      "cache/coma_39628417150227137.jpg exists.\n",
      "cache/coma_39628422548291710.jpg exists.\n",
      "cache/coma_39628433285713872.jpg exists.\n"
     ]
    }
   ],
   "source": [
    "for sga_id in np.unique(good_edge_spirals_axis_inComa['SGA_ID']):\n",
    "    \n",
    "    tf_list = good_edge_spirals_axis_inComa[good_edge_spirals_axis_inComa['SGA_ID'] == sga_id]\n",
    "    center_list = centers_inComa[centers_inComa['SGA_ID'] == sga_id]\n",
    "    \n",
    "    try:\n",
    "        targetid = int(center_list['TARGETID'][0])\n",
    "    except TypeError as err:\n",
    "        print(err)\n",
    "        # print(sga_galaxy['TARGETID'])\n",
    "        continue\n",
    "    \n",
    "    ra, dec, z = float(SGA['RA'][SGA_dict[sga_id]]), float(SGA['DEC'][SGA_dict[sga_id]]), float(SGA['Z_DESI'][SGA_dict[sga_id]])\n",
    "    \n",
    "    # D26 in arcmin\n",
    "    d26 = SGA['D26'][SGA_dict[sga_id]]\n",
    "    \n",
    "    # Padd the image cutout of the galaxy.\n",
    "    # Multiply by 60 (to arcsec), divide by 180 to get pixscale.\n",
    "#     pixscale = 1.05*d26*60/180\n",
    "    npix = np.minimum(int(1.025 * d26*60/0.262), 512)\n",
    "    \n",
    "    #print(targetid, sga_id, ra, dec)\n",
    "#     img_file = get_cutout(targetid, ra, dec, size=npix, verbose=True)\n",
    "    img_file, wcs = get_cutout(targetid, ra, dec, size=npix, verbose=True)\n",
    "    img = mpl.image.imread(img_file)\n",
    "\n",
    "    fig1 = plt.figure(figsize=(7,5))\n",
    "\n",
    "    ax = fig1.add_subplot(111, projection=wcs)\n",
    "    ax.imshow(np.flip(img, axis=0))\n",
    "    ax.set(xlabel='ra', ylabel='dec')\n",
    "    ax.text(int(0.02*npix), int(0.85*npix), 'TARGETID: {}\\nSGA_ID: {}\\n$z={{{:.4f}}}$'.format(targetid, sga_id, z), fontsize=9, color='yellow')\n",
    "    overlay = ax.get_coords_overlay('icrs')\n",
    "    overlay.grid(color='white', ls='dotted');\n",
    "\n",
    "    # Add the location of the DESI fibers.\n",
    "    # SDSS fibers are 2\" diameter, DESI is 107 um with 70 um/\" plate scale.\n",
    "    r1 = SphericalCircle((ra * u.deg, dec * u.deg), (107./70) * u.arcsec,\n",
    "                         edgecolor='black', facecolor='none', alpha=0.8, lw=3,\n",
    "                         transform=ax.get_transform('icrs'))\n",
    "    r2 = SphericalCircle((ra * u.deg, dec * u.deg), (107./70) * u.arcsec,\n",
    "                         edgecolor='red', facecolor='none', alpha=0.8, lw=2,\n",
    "                         transform=ax.get_transform('icrs'))\n",
    "    ax.add_patch(r1)\n",
    "    ax.add_patch(r2)\n",
    "\n",
    "    for tft in tf_list:\n",
    "        ra, dec = tft['RA'], tft['DEC']\n",
    "        \n",
    "        edgecolor2 = 'orange'\n",
    "#         if tft['Z'] > 0.05:\n",
    "#             edgecolor2 = 'orange'\n",
    "#         else:\n",
    "#             edgecolor2 = 'lime'\n",
    "        \n",
    "        # Add the location of the DESI fibers.\n",
    "        # SDSS fibers are 2\" diameter, DESI is 107 um with 70 um/\" plate scale.\n",
    "        r1 = SphericalCircle((ra * u.deg, dec * u.deg), (107./70) * u.arcsec,\n",
    "                             edgecolor='lightcoral', facecolor='none', alpha=1, lw=3,\n",
    "                             transform=ax.get_transform('icrs'))\n",
    "        r2 = SphericalCircle((ra * u.deg, dec * u.deg), (107./70) * u.arcsec,\n",
    "                             edgecolor=edgecolor2, facecolor='none', alpha=0.8, lw=2,\n",
    "                             transform=ax.get_transform('icrs'))\n",
    "        ax.add_patch(r1)\n",
    "        ax.add_patch(r2)\n",
    "        \n",
    "        ax.text(ra, dec, str(tft['TARGETID']), transform=ax.get_transform('icrs'), color='white')\n",
    "    \n",
    "    fig1.subplots_adjust(top=0.85, right=0.85, bottom=0.15, left=0.15)\n",
    "    \n",
    "    fig1.savefig('cache/fuji_VI_cutouts/dist_{}.png'.format(sga_id), dpi=120)\n",
    "    \n",
    "    fig1.clear()\n",
    "    plt.close(fig1)\n",
    "    '''\n",
    "    #----------------------------------------------------------------------------------\n",
    "    # Get spectra\n",
    "    #----------------------------------------------------------------------------------\n",
    "    coadds = get_spectra_for_sga(good_edge_spirals_axis_inComa, sga_id)\n",
    "    n = coadds.num_spectra()\n",
    "\n",
    "    fig2, axes = plt.subplots(n,1, figsize=(8,4*n), sharex=True, sharey=True, tight_layout=True)\n",
    "\n",
    "    for i in range(n):\n",
    "        wave = coadds.wave['brz']\n",
    "        flux = coadds.flux['brz'][i]\n",
    "        smoothed = gaussian_filter1d(flux, 7)\n",
    "\n",
    "        ax = axes[i]\n",
    "        ax.plot(wave, smoothed, label='TARGETID: {}'.format(coadds.fibermap['TARGETID'][i]))\n",
    "        ax.set(ylabel=r'flux [$10^{-17}$ erg cm$^{-2}$ s$^{-1}$ $\\AA^{-1}$]')\n",
    "        if i+1 == n:\n",
    "            ax.set(xlabel=r'$\\lambda_\\mathrm{obs}$ [$\\AA$]')\n",
    "\n",
    "        ax.legend(loc='upper right', fontsize=10)\n",
    "    \n",
    "    # figure = PdfPages('cache/DM_cutouts/dist_{}.pdf'.format(sga_id))\n",
    "    # figure.savefig(fig1, dpi = 300)\n",
    "    # figure.savefig(fig2, dpi = 120)\n",
    "    # figure.close()\n",
    "    \n",
    "    break\n",
    "    ''';"
   ]
  },
  {
   "cell_type": "code",
   "execution_count": 46,
   "id": "8bf1f30e-5953-429e-8f8c-45289d5a7f8d",
   "metadata": {
    "tags": []
   },
   "outputs": [
    {
     "name": "stdout",
     "output_type": "stream",
     "text": [
      "79 44\n"
     ]
    }
   ],
   "source": [
    "VI_remove = Table.read('fuji_VI.txt', format='ascii.commented_header')\n",
    "\n",
    "remove_targets = np.zeros(len(good_edge_spirals_axis_inComa), dtype=bool)\n",
    "\n",
    "for targetid in VI_remove['TARGETID']:\n",
    "    \n",
    "    remove_targets = remove_targets & (good_edge_spirals_axis_inComa['TARGETID'] == targetid)\n",
    "    \n",
    "VI_good_edge_spirals_axis_inComa = good_edge_spirals_axis_inComa[~remove_targets]\n",
    "\n",
    "print(len(VI_good_edge_spirals_axis_inComa), len(np.unique(VI_good_edge_spirals_axis_inComa['SGA_ID'])))"
   ]
  },
  {
   "cell_type": "markdown",
   "id": "138a6ccb-0ad1-498b-821a-f072a27a4ca7",
   "metadata": {},
   "source": [
    "Both of the 0-pt calibrators pass VI."
   ]
  },
  {
   "cell_type": "markdown",
   "id": "28b329bd-ef73-49cf-a423-17637416a3cd",
   "metadata": {},
   "source": [
    "# Compute the weighted average velocity for those galaxies with more than one observation at $0.33R_{26}$:\n",
    "\n",
    "\\begin{equation}\n",
    "  \\overline{v} = \\frac{\\sum_i w_i v_i}{\\sum_i w_i}\n",
    "\\end{equation}\n",
    "where $w_i = 1/\\sigma^2$."
   ]
  },
  {
   "cell_type": "code",
   "execution_count": 47,
   "id": "44993f3e-efa9-4b01-96c2-4fb8cb0c8623",
   "metadata": {
    "tags": []
   },
   "outputs": [],
   "source": [
    "SGA['V_0p33R26'] = np.nan\n",
    "SGA['V_0p33R26_ERR'] = np.nan\n",
    "\n",
    "weights = 1./(VI_good_edge_spirals_axis_inComa['V_ROT_ERR']**2)\n",
    "\n",
    "for sga_id in np.unique(VI_good_edge_spirals_axis_inComa['SGA_ID']):\n",
    "    \n",
    "    # Identify all galaxy targets on this galaxy\n",
    "    obs_idx = VI_good_edge_spirals_axis_inComa['SGA_ID'] == sga_id\n",
    "    N_obs = np.sum(obs_idx)\n",
    "    \n",
    "    SGA['V_0p33R26'][SGA_dict[sga_id]] = np.average(np.abs(VI_good_edge_spirals_axis_inComa['V_ROT'][obs_idx]), \n",
    "                                                    weights=weights[obs_idx])\n",
    "\n",
    "    if N_obs == 1 or np.all(np.abs(VI_good_edge_spirals_axis_inComa['V_ROT_ERR'][obs_idx]/VI_good_edge_spirals_axis_inComa['V_ROT'][obs_idx]) < 0.05):\n",
    "        SGA['V_0p33R26_ERR'][SGA_dict[sga_id]] = np.sqrt(1./(N_obs*np.sum(weights[obs_idx])))\n",
    "    else:\n",
    "        v_random = np.zeros((N_obs, N_samples))\n",
    "\n",
    "        for i in range(N_obs):\n",
    "            v_random[i] = rng.normal(scale=VI_good_edge_spirals_axis_inComa['V_ROT_ERR'][obs_idx][i], \n",
    "                                     loc=np.abs(VI_good_edge_spirals_axis_inComa['V_ROT'][obs_idx][i]), \n",
    "                                     size=N_samples)\n",
    "        \n",
    "        v_avg_random = np.average(v_random, \n",
    "                                  weights=weights[obs_idx,None]*np.ones(N_samples), \n",
    "                                  axis=0)\n",
    "        SGA['V_0p33R26_ERR'][SGA_dict[sga_id]] = np.std(v_avg_random)"
   ]
  },
  {
   "cell_type": "code",
   "execution_count": 48,
   "id": "02c36ca3-9ead-43bf-be3d-083a1097eb11",
   "metadata": {
    "tags": []
   },
   "outputs": [],
   "source": [
    "# Make a catalog of just Coma galaxies with velocities\n",
    "SGA_TF = SGA[np.isfinite(SGA['V_0p33R26']) & (SGA['R_MAG_SB26'] > 0)]\n",
    "\n",
    "# Write list of SGA IDs to file\n",
    "SGA_TF[['SGA_ID']].write('fuji_Coma_SGAids_calibration-20250613.txt', \n",
    "                         format='ascii.commented_header', \n",
    "                         overwrite=True)"
   ]
  },
  {
   "cell_type": "code",
   "execution_count": 49,
   "id": "79e74690-1bf1-4ea9-8cf0-ed3cd8a9affd",
   "metadata": {},
   "outputs": [
    {
     "data": {
      "text/plain": [
       "41"
      ]
     },
     "execution_count": 49,
     "metadata": {},
     "output_type": "execute_result"
    }
   ],
   "source": [
    "len(SGA_TF)"
   ]
  },
  {
   "cell_type": "code",
   "execution_count": 50,
   "id": "27fbc8d0-37c0-4044-be58-4ae743915cc7",
   "metadata": {
    "tags": []
   },
   "outputs": [],
   "source": [
    "SGA['V_0p33R26'] = np.nan\n",
    "SGA['V_0p33R26_ERR'] = np.nan\n",
    "\n",
    "# good_edge_spirals_axis_dist['R_MAG_SB26'] = np.nan\n",
    "# good_edge_spirals_axis_dist['R_MAG_SB26_ERR'] = np.nan\n",
    "\n",
    "weights = 1./(good_edge_spirals_axis_dist['V_ROT_ERR']**2)\n",
    "\n",
    "for sga_id in np.unique(good_edge_spirals_axis_dist['SGA_ID']):\n",
    "    \n",
    "    # Identify all galaxy targets on this galaxy\n",
    "    obs_idx = good_edge_spirals_axis_dist['SGA_ID'] == sga_id\n",
    "    N_obs = np.sum(obs_idx)\n",
    "    \n",
    "    SGA['V_0p33R26'][SGA_dict[sga_id]] = np.average(np.abs(good_edge_spirals_axis_dist['V_ROT'][obs_idx]), \n",
    "                                                    weights=weights[obs_idx])\n",
    "\n",
    "    if N_obs == 1 or np.all(np.abs(good_edge_spirals_axis_dist['V_ROT_ERR'][obs_idx]/good_edge_spirals_axis_dist['V_ROT'][obs_idx]) < 0.05):\n",
    "        SGA['V_0p33R26_ERR'][SGA_dict[sga_id]] = np.sqrt(1./(N_obs*np.sum(weights[obs_idx])))\n",
    "    else:\n",
    "        v_random = np.zeros((N_obs, N_samples))\n",
    "\n",
    "        for i in range(N_obs):\n",
    "            v_random[i] = rng.normal(scale=good_edge_spirals_axis_dist['V_ROT_ERR'][obs_idx][i], \n",
    "                                     loc=np.abs(good_edge_spirals_axis_dist['V_ROT'][obs_idx][i]), \n",
    "                                     size=N_samples)\n",
    "        \n",
    "        v_avg_random = np.average(v_random, \n",
    "                                  weights=weights[obs_idx,None]*np.ones(N_samples), \n",
    "                                  axis=0)\n",
    "        SGA['V_0p33R26_ERR'][SGA_dict[sga_id]] = np.std(v_avg_random)"
   ]
  },
  {
   "cell_type": "code",
   "execution_count": 51,
   "id": "0f235e6b-855e-422f-a8ba-2be7c7fd45e9",
   "metadata": {
    "tags": []
   },
   "outputs": [],
   "source": [
    "# Make a catalog of just 0-pt galaxies with velocities\n",
    "SGA_0pt = SGA[np.isfinite(SGA['V_0p33R26']) & (SGA['R_MAG_SB26'] > 0)]\n",
    "\n",
    "# Write catalog to file\n",
    "SGA_0pt.write('SGA_distances_0pt_fuji_dVsys.fits', overwrite=True)"
   ]
  },
  {
   "cell_type": "markdown",
   "id": "96533988-13a2-4f31-bbef-4d7801263769",
   "metadata": {},
   "source": [
    "# Photometric corrections"
   ]
  },
  {
   "cell_type": "markdown",
   "id": "12c77f67-8025-4022-924b-52e7f19c8b3a",
   "metadata": {},
   "source": [
    "### Survey offsets"
   ]
  },
  {
   "cell_type": "code",
   "execution_count": 52,
   "id": "bfdd3238-b152-4ade-9392-4be6d190b684",
   "metadata": {
    "tags": []
   },
   "outputs": [],
   "source": [
    "gals_directory = '/global/cfs/cdirs/desi/science/td/pv/tfgalaxies/SV/'\n",
    "# gals_directory = '/Users/kdouglass/Documents/Research/data/DESI/SV/'\n",
    "gals_filename = 'SGA-2020_fuji_Vrot_photsys.fits'\n",
    "gals = Table.read(gals_directory + gals_filename)\n",
    "gal_photsys = gals['SGA_ID', 'PHOTSYS']\n",
    "\n",
    "# Add PHOTOSYS column to target tables\n",
    "SGA_TF = join(SGA_TF, gal_photsys, join_type='left', keys='SGA_ID')\n",
    "SGA_0pt = join(SGA_0pt, gal_photsys, join_type='left', keys='SGA_ID')"
   ]
  },
  {
   "cell_type": "code",
   "execution_count": 53,
   "id": "3e18cee3-05b8-4a1a-9cfc-37a64a3245b7",
   "metadata": {
    "tags": []
   },
   "outputs": [],
   "source": [
    "SGA_sys_corr, SGA_sys_corr_err = BASS_corr(SGA_TF['PHOTSYS'])\n",
    "zpt_sys_corr, zpt_sys_corr_err = BASS_corr(SGA_0pt['PHOTSYS'])"
   ]
  },
  {
   "cell_type": "markdown",
   "id": "e8b6e6d3-6464-4fd0-8066-06b78b5ee101",
   "metadata": {},
   "source": [
    "### MW Dust corrections"
   ]
  },
  {
   "cell_type": "code",
   "execution_count": 54,
   "id": "2a56fd35-9eed-445f-a013-58c4166b82fd",
   "metadata": {
    "tags": []
   },
   "outputs": [],
   "source": [
    "# Import E(B-V) dust map\n",
    "ebv_directory = '/global/cfs/cdirs/desicollab/users/rongpu/dust/desi_ebv/public_data/maps/'\n",
    "# ebv_directory = '/Users/kdouglass/Documents/Research/data/DESI/'\n",
    "ebv_filename = 'desi_dust_gr_512.fits'\n",
    "ebv_map = Table.read(ebv_directory + ebv_filename)"
   ]
  },
  {
   "cell_type": "code",
   "execution_count": 55,
   "id": "03686e6b-c19f-467c-a939-c1e705266f80",
   "metadata": {
    "tags": []
   },
   "outputs": [
    {
     "name": "stderr",
     "output_type": "stream",
     "text": [
      "/global/u1/k/kadglass/DESI_SGA/TF/TF_photoCorrect.py:90: UserWarning: Warning: converting a masked element to nan.\n",
      "  EBV_err[i] = ebv_map['EBV_GR_ERR'][i_ebv]\n"
     ]
    }
   ],
   "source": [
    "SGA_dust_corr, SGA_dust_corr_err = MW_dust(SGA_TF['RA'], SGA_TF['DEC'], ebv_map)\n",
    "zpt_dust_corr, zpt_dust_corr_err = MW_dust(SGA_0pt['RA'], SGA_0pt['DEC'], ebv_map)"
   ]
  },
  {
   "cell_type": "code",
   "execution_count": 56,
   "id": "e9e8fd3e-3652-4747-8aa6-e697f6d3626a",
   "metadata": {
    "tags": []
   },
   "outputs": [],
   "source": [
    "# Flip NaN values to 0\n",
    "SGA_dust_corr_err[np.isnan(SGA_dust_corr_err)] = 0\n",
    "zpt_dust_corr_err[np.isnan(zpt_dust_corr_err)] = 0"
   ]
  },
  {
   "cell_type": "markdown",
   "id": "8afe0e81-111a-4f7d-ab94-a448c3cf1242",
   "metadata": {},
   "source": [
    "### $K$-corrections"
   ]
  },
  {
   "cell_type": "code",
   "execution_count": 57,
   "id": "13b215c3-1c9f-4b95-a244-26a0e728e121",
   "metadata": {
    "tags": []
   },
   "outputs": [],
   "source": [
    "SGA_kcorr = k_corr(SGA_TF['Z_DESI'], \n",
    "                   [SGA_TF['G_MAG_SB26'], SGA_TF['R_MAG_SB26'], SGA_TF['Z_MAG_SB26']], \n",
    "                   [SGA_TF['G_MAG_SB26_ERR'], SGA_TF['R_MAG_SB26_ERR'], SGA_TF['Z_MAG_SB26_ERR']])\n",
    "zpt_kcorr = k_corr(SGA_0pt['Z_DESI'], \n",
    "                   [SGA_0pt['G_MAG_SB26'], SGA_0pt['R_MAG_SB26'], SGA_0pt['Z_MAG_SB26']], \n",
    "                   [SGA_0pt['G_MAG_SB26_ERR'], SGA_0pt['R_MAG_SB26_ERR'], SGA_0pt['Z_MAG_SB26_ERR']])"
   ]
  },
  {
   "cell_type": "markdown",
   "id": "3814168f-3e73-4a1e-acbb-147edae26c8b",
   "metadata": {},
   "source": [
    "### Internal dust extinction correction\n",
    "\n",
    "This is based off of a linear fit to ($b/a$, $m_r$), removing any correlation between $b/a$ and $m_r$."
   ]
  },
  {
   "cell_type": "code",
   "execution_count": 58,
   "id": "4862812f-016b-4a95-92a8-ba86cd8a4711",
   "metadata": {
    "tags": []
   },
   "outputs": [],
   "source": [
    "temp_infile = open('fuji_internalDust_mcmc-20250205.pickle', 'rb')\n",
    "dust_mcmc_samples,_ = pickle.load(temp_infile)\n",
    "temp_infile.close()"
   ]
  },
  {
   "cell_type": "code",
   "execution_count": 59,
   "id": "f14662bc-5e54-45fc-a4eb-c94e49c4cd4f",
   "metadata": {
    "tags": []
   },
   "outputs": [],
   "source": [
    "internalDust_coeffs = np.median(dust_mcmc_samples, axis=1)\n",
    "# internalDust_coeffs_err = np.std(dust_mcmc_samples, axis=1)\n",
    "internalDust_coeffs_err = np.zeros(len(internalDust_coeffs))\n",
    "internalDust_coeffs_err[0] = np.std(dust_mcmc_samples[0][(-1.5 < dust_mcmc_samples[0]) & (dust_mcmc_samples[0] < 0)])\n",
    "internalDust_coeffs_err[1] = np.std(dust_mcmc_samples[1][(0 < dust_mcmc_samples[1]) & (dust_mcmc_samples[1] < 1)])"
   ]
  },
  {
   "cell_type": "code",
   "execution_count": 60,
   "id": "91eb581d-de69-497f-be33-58d87674b043",
   "metadata": {
    "tags": []
   },
   "outputs": [],
   "source": [
    "SGA_internalDust_corr, SGA_internalDust_corr_err = internal_dust(SGA_TF['BA'], \n",
    "                                                                 internalDust_coeffs, \n",
    "                                                                 internalDust_coeffs_err)\n",
    "zpt_internalDust_corr, zpt_internalDust_corr_err = internal_dust(SGA_0pt['BA'], \n",
    "                                                                 internalDust_coeffs, \n",
    "                                                                 internalDust_coeffs_err)"
   ]
  },
  {
   "cell_type": "markdown",
   "id": "147884d4-695f-4e58-85a0-b0eb04c751ea",
   "metadata": {},
   "source": [
    "## Apply corrections"
   ]
  },
  {
   "cell_type": "code",
   "execution_count": 61,
   "id": "43228553-d396-4c27-9b77-656436752a2a",
   "metadata": {
    "tags": []
   },
   "outputs": [],
   "source": [
    "SGA_TF['R_MAG_SB26_CORR'] = SGA_TF['R_MAG_SB26'] - SGA_dust_corr[1] + SGA_sys_corr + SGA_kcorr[:,1] - SGA_internalDust_corr\n",
    "SGA_0pt['R_MAG_SB26_CORR'] = SGA_0pt['R_MAG_SB26'] - zpt_dust_corr[1] + zpt_sys_corr + zpt_kcorr[:,1] - zpt_internalDust_corr"
   ]
  },
  {
   "cell_type": "code",
   "execution_count": 62,
   "id": "127b1014-6f24-425c-b028-c514f2be63ff",
   "metadata": {
    "tags": []
   },
   "outputs": [],
   "source": [
    "SGA_TF['R_MAG_SB26_ERR_CORR'] = np.sqrt(SGA_TF['R_MAG_SB26_ERR']**2 + SGA_dust_corr_err[1]**2 + SGA_sys_corr_err**2 + SGA_internalDust_corr_err**2)\n",
    "SGA_0pt['R_MAG_SB26_ERR_CORR'] = np.sqrt(SGA_0pt['R_MAG_SB26_ERR']**2 + zpt_dust_corr_err[1]**2 + zpt_sys_corr_err**2 + zpt_internalDust_corr_err**2)"
   ]
  },
  {
   "cell_type": "markdown",
   "id": "e2227c26-5144-4307-bb00-de22e6b5994e",
   "metadata": {},
   "source": [
    "# Coma TFR"
   ]
  },
  {
   "cell_type": "code",
   "execution_count": 63,
   "id": "e30c4a9b-a6b8-4f42-ad98-e2c727302204",
   "metadata": {
    "tags": []
   },
   "outputs": [
    {
     "data": {
      "image/png": "[encoded data removed]",
      "text/plain": [
       "<Figure size 400x500 with 1 Axes>"
      ]
     },
     "metadata": {},
     "output_type": "display_data"
    }
   ],
   "source": [
    "plt.figure(figsize=(4,5), tight_layout=True)\n",
    "\n",
    "plt.errorbar(np.log10(SGA_TF['V_0p33R26']), \n",
    "             SGA_TF['R_MAG_SB26_CORR'], \n",
    "             xerr=0.434*SGA_TF['V_0p33R26_ERR']/SGA_TF['V_0p33R26'],\n",
    "             yerr=SGA_TF['R_MAG_SB26_ERR_CORR'], \n",
    "             fmt='.', \n",
    "             label='Coma')\n",
    "\n",
    "plt.errorbar(np.log10(SGA_0pt['V_0p33R26']), \n",
    "             SGA_0pt['R_MAG_SB26_CORR'], \n",
    "             xerr=0.434*SGA_0pt['V_0p33R26_ERR']/SGA_0pt['V_0p33R26'],\n",
    "             yerr=SGA_0pt['R_MAG_SB26_ERR_CORR'], \n",
    "             fmt='.', \n",
    "             label='0-pt')\n",
    "\n",
    "plt.xlim([0.5, 3])\n",
    "plt.ylim([17.5, 12])\n",
    "\n",
    "plt.legend()\n",
    "\n",
    "plt.xlabel('log($V_{rot}$ [km/s])')\n",
    "plt.ylabel('$m_r (26)$');"
   ]
  },
  {
   "cell_type": "markdown",
   "id": "d197bcea-00bd-40fc-9e9a-899696504475",
   "metadata": {},
   "source": [
    "# Compute the absolute magnitudes for the 0-pt calibrators based on the distance measurements\n",
    "\n",
    "\\begin{equation}\n",
    "  M_r - 5\\log h = m_r - \\mu - 5\\log h\n",
    "\\end{equation}\n",
    "where $h$ is the reduced Hubble constant used to calibrate the distance modulus, $\\mu$.\n",
    "\n",
    "Both of our galaxies have distance moduli from Stahl et al. (2021), which *appears* to use $h = 1$.  Therefore, the distance moduli we have to use are $\\mu_h = \\mu - 5\\log h$.\n",
    "\n",
    "The third galaxy has a distance moduli from Pantheon+SH0ES, whose distances are based on distance ladder calibrations, so there is no assumption of $h$."
   ]
  },
  {
   "cell_type": "code",
   "execution_count": 64,
   "id": "e52885a1-3639-4049-94d5-d3dc3a34840a",
   "metadata": {
    "tags": []
   },
   "outputs": [],
   "source": [
    "SGA_0pt['R_ABSMAG_SB26'] = SGA_0pt['R_MAG_SB26_CORR'] - SGA_0pt['DM1_SN'] #+ 5*np.log10(0.7)\n",
    "SGA_0pt['R_ABSMAG_SB26_ERR'] = np.sqrt(SGA_0pt['R_MAG_SB26_ERR_CORR']**2 + SGA_0pt['e_DM1_SN']**2)"
   ]
  },
  {
   "cell_type": "code",
   "execution_count": 65,
   "id": "25507ed5-4935-44c5-ba19-f734a0c5605c",
   "metadata": {
    "tags": []
   },
   "outputs": [
    {
     "data": {
      "image/png": "[encoded data removed]",
      "text/plain": [
       "<Figure size 300x500 with 2 Axes>"
      ]
     },
     "metadata": {},
     "output_type": "display_data"
    }
   ],
   "source": [
    "fig, (ax1, ax2) = plt.subplots(2, sharex=True, figsize=(3,5))\n",
    "\n",
    "ax2.errorbar(np.log10(SGA_TF['V_0p33R26']), \n",
    "             SGA_TF['R_MAG_SB26_CORR'], \n",
    "             xerr=0.434*SGA_TF['V_0p33R26_ERR']/SGA_TF['V_0p33R26'],\n",
    "             yerr=SGA_TF['R_MAG_SB26_ERR_CORR'], \n",
    "             fmt='.', \n",
    "             label='Coma')\n",
    "\n",
    "ax1.errorbar(np.log10(SGA_0pt['V_0p33R26']), \n",
    "             SGA_0pt['R_ABSMAG_SB26'], \n",
    "             xerr=0.434*SGA_0pt['V_0p33R26_ERR']/SGA_0pt['V_0p33R26'],\n",
    "             yerr=SGA_0pt['R_ABSMAG_SB26_ERR'], \n",
    "             fmt='.', \n",
    "             c='tab:orange',\n",
    "             label='0-pt')\n",
    "\n",
    "plt.xlim([0.5, 3])\n",
    "ax1.set_ylim([-19, -23])\n",
    "ax2.set_ylim([17.5, 12])\n",
    "\n",
    "ax1.legend(loc='upper left')\n",
    "ax2.legend(loc='upper left')\n",
    "\n",
    "plt.xlabel('log($V_{rot}$ [km/s])')\n",
    "ax1.set_ylabel('$M_r (26) - 5\\log h$')\n",
    "ax2.set_ylabel('$m_r (26)$');"
   ]
  },
  {
   "cell_type": "markdown",
   "id": "d14d965a-0fb6-4101-a5bf-2fab83998fd8",
   "metadata": {},
   "source": [
    "# Fit the TFR using the subclassed version of `hyperfit`"
   ]
  },
  {
   "cell_type": "code",
   "execution_count": 66,
   "id": "3ff094b1-b2de-4f8a-a472-275745925d7a",
   "metadata": {
    "tags": []
   },
   "outputs": [
    {
     "name": "stdout",
     "output_type": "stream",
     "text": [
      "2.009911400765184\n"
     ]
    }
   ],
   "source": [
    "V0 = np.median(np.concatenate([np.log10(SGA_TF['V_0p33R26']), np.log10(SGA_0pt['V_0p33R26'])]))\n",
    "print(V0)"
   ]
  },
  {
   "cell_type": "code",
   "execution_count": 67,
   "id": "4d3c78bd-3ccd-4251-aa80-472fcf3d0f75",
   "metadata": {
    "tags": []
   },
   "outputs": [
    {
     "name": "stdout",
     "output_type": "stream",
     "text": [
      "     fun: -6634.200045360735\n",
      "     jac: array([-0.00945874, -0.01800799, -0.03174136,  0.03901732])\n",
      " message: 'Optimization terminated successfully.'\n",
      "    nfev: 2330\n",
      "     nit: 37\n",
      " success: True\n",
      "       x: array([ -7.95048825,  14.95021019, -19.35069325,   1.06989162])\n",
      "Ndim: 4 2\n"
     ]
    },
    {
     "name": "stderr",
     "output_type": "stream",
     "text": [
      "100%|██████████| 1000/1000 [00:03<00:00, 260.41it/s]\n"
     ]
    },
    {
     "name": "stdout",
     "output_type": "stream",
     "text": [
      "Niterations/Max Iterations:  1000 / 100000\n",
      "Integrated ACT/Min Convergence Iterations:  [32.49371751 31.69554677 31.37787359 30.59619621] / 1624.6858755434357\n"
     ]
    },
    {
     "name": "stderr",
     "output_type": "stream",
     "text": [
      "100%|██████████| 1000/1000 [00:03<00:00, 264.98it/s]\n"
     ]
    },
    {
     "name": "stdout",
     "output_type": "stream",
     "text": [
      "Niterations/Max Iterations:  2000 / 100000\n",
      "Integrated ACT/Min Convergence Iterations:  [44.45090713 39.74831196 41.89737636 41.68251632] / 2222.545356376386\n"
     ]
    },
    {
     "name": "stderr",
     "output_type": "stream",
     "text": [
      "100%|██████████| 1000/1000 [00:03<00:00, 261.04it/s]\n"
     ]
    },
    {
     "name": "stdout",
     "output_type": "stream",
     "text": [
      "Niterations/Max Iterations:  3000 / 100000\n",
      "Integrated ACT/Min Convergence Iterations:  [37.81305807 41.55480707 43.72126539 37.8114451 ] / 2186.0632697436017\n"
     ]
    },
    {
     "name": "stderr",
     "output_type": "stream",
     "text": [
      "100%|██████████| 1000/1000 [00:03<00:00, 250.60it/s]\n"
     ]
    },
    {
     "name": "stdout",
     "output_type": "stream",
     "text": [
      "Niterations/Max Iterations:  4000 / 100000\n",
      "Integrated ACT/Min Convergence Iterations:  [40.36556893 42.56345407 45.88405984 41.20542032] / 2294.202991818405\n"
     ]
    },
    {
     "name": "stderr",
     "output_type": "stream",
     "text": [
      "100%|██████████| 1000/1000 [00:04<00:00, 244.96it/s]\n"
     ]
    },
    {
     "name": "stdout",
     "output_type": "stream",
     "text": [
      "Niterations/Max Iterations:  5000 / 100000\n",
      "Integrated ACT/Min Convergence Iterations:  [42.76204671 42.68292454 43.27526088 44.26408172] / 2213.2040857955485\n"
     ]
    },
    {
     "name": "stderr",
     "output_type": "stream",
     "text": [
      "100%|██████████| 1000/1000 [00:03<00:00, 262.79it/s]\n"
     ]
    },
    {
     "name": "stdout",
     "output_type": "stream",
     "text": [
      "Niterations/Max Iterations:  6000 / 100000\n",
      "Integrated ACT/Min Convergence Iterations:  [47.37273594 43.38997519 42.54747919 43.13477439] / 2368.636796767208\n"
     ]
    },
    {
     "name": "stderr",
     "output_type": "stream",
     "text": [
      "100%|██████████| 1000/1000 [00:04<00:00, 246.25it/s]"
     ]
    },
    {
     "name": "stdout",
     "output_type": "stream",
     "text": [
      "Niterations/Max Iterations:  7000 / 100000\n",
      "Integrated ACT/Min Convergence Iterations:  [48.18945359 42.24113583 42.19147815 43.77017117] / 2409.472679335417\n"
     ]
    },
    {
     "name": "stderr",
     "output_type": "stream",
     "text": [
      "\n"
     ]
    }
   ],
   "source": [
    "bounds_tfr = ((-20.0, 0.0), (0.0, 20.0), (-30.0, 0.0), (1.0e-5, 5.0))\n",
    "# bounds_itfr = ((-20.0, 20.0), (0.0, 20.0), (-20.0, 0.0), (1.0e-5, 5.0))\n",
    "\n",
    "results = hyperfit_line_multi([np.log10(SGA_TF['V_0p33R26']) - V0, np.log10(SGA_0pt['V_0p33R26']) - V0], \n",
    "                              [SGA_TF['R_MAG_SB26_CORR'], SGA_0pt['R_ABSMAG_SB26']],\n",
    "                              [0.434*SGA_TF['V_0p33R26_ERR']/SGA_TF['V_0p33R26'], 0.434*SGA_0pt['V_0p33R26_ERR']/SGA_0pt['V_0p33R26']], \n",
    "                              [SGA_TF['R_MAG_SB26_ERR_CORR'], SGA_0pt['R_ABSMAG_SB26_ERR']], \n",
    "                              bounds_tfr, \n",
    "                              weights=[1/SGA_TF['MAX_VOL_FRAC'], 1/SGA_0pt['MAX_VOL_FRAC']]\n",
    "                             )\n",
    "\n",
    "a, b, sig_tfr, cov_tfr, tfr_mcmc_samples, hf_tfr = results"
   ]
  },
  {
   "cell_type": "code",
   "execution_count": 68,
   "id": "bfcd61f6-1068-43cb-a924-627083ea42ce",
   "metadata": {
    "tags": []
   },
   "outputs": [
    {
     "data": {
      "image/png": "[encoded data removed]",
      "text/plain": [
       "<Figure size 970x970 with 16 Axes>"
      ]
     },
     "metadata": {},
     "output_type": "display_data"
    }
   ],
   "source": [
    "fig = corner.corner(tfr_mcmc_samples.T, bins=30, smooth=1,\n",
    "                    # range=[[-0.14, -0.117], [1.9, 2.2], [-2.55, -2.15], [0.13, 0.15]],   # Range for w0, w1, sigma. Adjust as needed.\n",
    "                    # range=[[-8.4, -7.2], [15.85, 16.1], [-18.6, -17.8], [1, 1.2]], # Range for a, b, sigma.  Adjust as needed.\n",
    "                    # labels=['$w_0$', '$w_{1, Coma}$', '$w_{1, 0 pt}$', r'$\\sigma_{Coma}$'],\n",
    "                    labels=['$a$', '$b_{Coma}$', '$b_{0 pt}$', r'$\\sigma_{Coma}$'],\n",
    "                    label_kwargs={'fontsize':18}, \n",
    "                    labelpad=0.1, \n",
    "                    levels=(1-np.exp(-0.5), 1-np.exp(-2)),\n",
    "                    quantiles=[0.16, 0.5, 0.84],\n",
    "                    color='tab:blue',\n",
    "                    hist_kwargs={'histtype':'stepfilled', 'alpha':0.3},\n",
    "                    plot_datapoints=False,\n",
    "                    fill_contours=True,\n",
    "                    show_titles=True,\n",
    "                    title_kwargs={\"fontsize\": 18, 'loc':'left', 'pad':10});\n",
    "\n",
    "for ax in fig.get_axes():\n",
    "    ax.tick_params(axis='both', which='major', labelsize=16)\n",
    "'''\n",
    "fig.savefig('../../Figures/SV/fuji_joint_Coma_corner_20250205.png', \n",
    "            dpi=150, \n",
    "            facecolor='none', \n",
    "            bbox_inches='tight')\n",
    "''';"
   ]
  },
  {
   "cell_type": "code",
   "execution_count": 69,
   "id": "7c1fa36f-2fc5-4d5b-99fa-df1994cbddd9",
   "metadata": {
    "tags": []
   },
   "outputs": [
    {
     "name": "stdout",
     "output_type": "stream",
     "text": [
      "           slope:  -7.96 +/- 0.130\n",
      "y-intercept Coma:  14.95 +/- 0.018\n",
      " y-intercept 0pt: -19.34 +/- 0.298\n",
      "         scatter:   1.07 +/- 0.022\n",
      "-------\n",
      "   slope (alpha):  3.18 +/- 0.052\n"
     ]
    }
   ],
   "source": [
    "print(f'           slope:  {a:.2f} +/- {np.sqrt(cov_tfr[0,0]):.3f}')\n",
    "print(f'y-intercept Coma:  {b[0]:.2f} +/- {np.sqrt(cov_tfr[1,1]):.3f}')\n",
    "print(f' y-intercept 0pt: {b[1]:.2f} +/- {np.sqrt(cov_tfr[2,2]):.3f}')\n",
    "print(f'         scatter:   {sig_tfr[0]:.2f} +/- {np.sqrt(cov_tfr[3,3]):.3f}')\n",
    "print('-------')\n",
    "print(f'   slope (alpha):  {-a/2.5:.2f} +/- {np.sqrt(cov_tfr[0,0])/2.5:.3f}')"
   ]
  },
  {
   "cell_type": "code",
   "execution_count": 70,
   "id": "025aceb4-ef75-4033-846e-efb253befd04",
   "metadata": {
    "tags": []
   },
   "outputs": [
    {
     "data": {
      "image/png": "[encoded data removed]",
      "text/plain": [
       "<Figure size 400x480 with 2 Axes>"
      ]
     },
     "metadata": {},
     "output_type": "display_data"
    }
   ],
   "source": [
    "xvals = np.linspace(0.5, 3., 1000)\n",
    "yvals = np.zeros((len(b), len(xvals)))\n",
    "for i in range(len(b)):\n",
    "    yvals[i] = a * (xvals - V0) + b[i]\n",
    "\n",
    "################################################################################\n",
    "# Get the MCMC 1-sigma quantiles to plot with the fit.\n",
    "#-------------------------------------------------------------------------------\n",
    "y_chain1 = np.outer(xvals - V0, tfr_mcmc_samples[0]) + tfr_mcmc_samples[1]\n",
    "y_chain1_quantiles = np.quantile(y_chain1, [0.1587, 0.8414], axis=1)\n",
    "\n",
    "y_chain2 = np.outer(xvals - V0, tfr_mcmc_samples[0]) + tfr_mcmc_samples[2]\n",
    "y_chain2_quantiles = np.quantile(y_chain2, [0.1587, 0.8414], axis=1)\n",
    "################################################################################\n",
    "\n",
    "\n",
    "################################################################################\n",
    "# Pack info into data\n",
    "#-------------------------------------------------------------------------------\n",
    "data1 = [np.log10(SGA_TF['V_0p33R26']), SGA_TF['R_MAG_SB26_CORR']]\n",
    "x1_err = 0.434*SGA_TF['V_0p33R26_ERR']/SGA_TF['V_0p33R26']\n",
    "y1_err = SGA_TF['R_MAG_SB26_ERR_CORR']\n",
    "corr1_xy = np.zeros_like(x1_err)\n",
    "\n",
    "data2 = [np.log10(SGA_0pt['V_0p33R26']), SGA_0pt['R_ABSMAG_SB26']]\n",
    "x2_err = 0.434*SGA_0pt['V_0p33R26_ERR']/SGA_0pt['V_0p33R26']\n",
    "y2_err = SGA_0pt['R_ABSMAG_SB26_ERR']\n",
    "corr2_xy = np.zeros_like(x2_err)\n",
    "################################################################################\n",
    "\n",
    "\n",
    "################################################################################\n",
    "# Generate ellipses\n",
    "#-------------------------------------------------------------------------------\n",
    "ells1 = [\n",
    "    Ellipse(\n",
    "        xy=[data1[0][i], data1[1][i]],\n",
    "        width=2*y1_err[i],\n",
    "        height=2*x1_err[i],\n",
    "        angle=np.rad2deg(np.arccos(corr1_xy[i])),\n",
    "    )\n",
    "    for i in range(len(data1[0]))\n",
    "]\n",
    "\n",
    "ells2 = [\n",
    "    Ellipse(\n",
    "        xy=[data2[0][i], data2[1][i]],\n",
    "        width=2*y2_err[i],\n",
    "        height=2*x2_err[i],\n",
    "        angle=np.rad2deg(np.arccos(corr2_xy[i])),\n",
    "    )\n",
    "    for i in range(len(data2[0]))\n",
    "]\n",
    "################################################################################\n",
    "\n",
    "\n",
    "################################################################################\n",
    "# Make the plot\n",
    "#-------------------------------------------------------------------------------\n",
    "fig, (ax1, ax2) = plt.subplots(2, \n",
    "                               figsize=(4,4.8), \n",
    "                               tight_layout=True, \n",
    "                               sharex=True, \n",
    "                               height_ratios=[3,5])\n",
    "\n",
    "#-------------------------------------------------------------------------------\n",
    "# Coma\n",
    "#-------------------------------------------------------------------------------\n",
    "ax2.fill_between(xvals, \n",
    "                 y_chain1_quantiles[0], \n",
    "                 y_chain1_quantiles[1], \n",
    "                 color=\"darkgray\")\n",
    "\n",
    "for i, e in enumerate(ells1):\n",
    "    ax2.add_artist(e)\n",
    "    e.set_facecolor(adjust_lightness('tab:blue', amount=1.75))\n",
    "    \n",
    "ax2.plot(data1[0], data1[1], 'x', label='Coma ({} galaxies)'.format(len(SGA_TF)))\n",
    "\n",
    "ax2.plot(xvals, yvals[0], c=\"k\", marker=\"None\", ls=\"-\", lw=1.3)\n",
    "ax2.plot(xvals, yvals[0] - sig_tfr[0], c=\"k\", marker=\"None\", ls=\"--\", lw=1.3)\n",
    "ax2.plot(xvals, yvals[0] + sig_tfr[0], c=\"k\", marker=\"None\", ls=\"--\", lw=1.3)\n",
    "\n",
    "ax2.set_xlabel(r\"$\\log{(V(0.33R_{26}) [\\mathrm{km/s}])}$\", fontsize=14)\n",
    "ax2.set_ylabel(r\"$m_r(26)$\", fontsize=14)\n",
    "\n",
    "ax2.legend(loc='upper left')\n",
    "\n",
    "plt.xlim(0.5, 3)\n",
    "ax2.set_ylim(17.5, 12)\n",
    "#-------------------------------------------------------------------------------\n",
    "# 0-pt calibrators\n",
    "#-------------------------------------------------------------------------------\n",
    "ax1.fill_between(xvals, \n",
    "                 y_chain2_quantiles[0], \n",
    "                 y_chain2_quantiles[1], \n",
    "                 color='lightgray')\n",
    "\n",
    "for i, e in enumerate(ells2):\n",
    "    ax1.add_artist(e)\n",
    "    e.set_facecolor(adjust_lightness('tab:orange', amount=1.25))\n",
    "    \n",
    "ax1.plot(data2[0], \n",
    "         data2[1], \n",
    "         'x', \n",
    "         c='tab:orange',\n",
    "         label='0-pt ({} galaxies)'.format(len(SGA_0pt)))\n",
    "\n",
    "ax1.plot(xvals, yvals[1], c='k', marker='None', ls='-', lw=1.3)\n",
    "\n",
    "ax1.set_ylabel(r'$M_r (26) - 5\\log h$', fontsize=14)\n",
    "\n",
    "ax1.legend(loc='upper left')\n",
    "\n",
    "ax1.set_ylim(-19, -23);\n",
    "#-------------------------------------------------------------------------------\n",
    "################################################################################\n",
    "\n",
    "# plt.savefig('../../Figures/SV/fuji_Coma_TFR_20240130.png', dpi=150)"
   ]
  },
  {
   "cell_type": "markdown",
   "id": "01de208a-182a-4920-836a-7d59b42455ae",
   "metadata": {},
   "source": [
    "# Does this calibration result in any dwarf galaxies?\n",
    "\n",
    "Dwarf galaxies are defined as those below the line perpendicular to the calibration where $M_r > -17$."
   ]
  },
  {
   "cell_type": "markdown",
   "id": "3a2ae70b-a387-46cf-9670-6b006c1cade1",
   "metadata": {},
   "source": [
    "## Define the line perpendicular to the calibration"
   ]
  },
  {
   "cell_type": "code",
   "execution_count": 71,
   "id": "3efc9b53-4537-4e4b-9b2c-21d5fe83d903",
   "metadata": {
    "tags": []
   },
   "outputs": [
    {
     "data": {
      "text/plain": [
       "-16.962985884265585"
      ]
     },
     "execution_count": 71,
     "metadata": {},
     "output_type": "execute_result"
    }
   ],
   "source": [
    "logV_n17 = (-17 - b[1])/a + V0\n",
    "b_perp = -17 + (logV_n17 - V0)/a\n",
    "b_perp"
   ]
  },
  {
   "cell_type": "code",
   "execution_count": 72,
   "id": "0372c725-aa0d-4f76-a161-cf0df648447b",
   "metadata": {
    "tags": []
   },
   "outputs": [
    {
     "data": {
      "image/png": "[encoded data removed]",
      "text/plain": [
       "<Figure size 400x500 with 1 Axes>"
      ]
     },
     "metadata": {},
     "output_type": "display_data"
    }
   ],
   "source": [
    "yvals_perp = -(xvals - V0)/a + (b_perp + b[0] - b[1])\n",
    "\n",
    "################################################################################\n",
    "# Make the plot\n",
    "#-------------------------------------------------------------------------------\n",
    "plt.figure(figsize=(4,5), tight_layout=True)\n",
    "\n",
    "ax = plt.gca()\n",
    "\n",
    "plt.grid(ls=':')\n",
    "\n",
    "plt.plot(np.log10(SGA_TF['V_0p33R26']), SGA_TF['R_MAG_SB26_CORR'], 'x')\n",
    "\n",
    "plt.plot(xvals, yvals[0], c='k', marker='None', ls='-', lw=1.3)\n",
    "plt.plot(xvals, yvals_perp, c='r', marker='None', ls=':', lw=1.3)\n",
    "\n",
    "plt.xlabel(r\"$\\log{(V(0.33R_{26}) [\\mathrm{km/s}])}$\", fontsize=14)\n",
    "plt.ylabel(r'$m_r (26)$', fontsize=14)\n",
    "\n",
    "plt.xlim(0.5, 3)\n",
    "plt.ylim(17.5, 12);\n",
    "################################################################################"
   ]
  },
  {
   "cell_type": "markdown",
   "id": "859f3489-92ca-49e8-a20a-e9bb2b0d8940",
   "metadata": {},
   "source": [
    "## Filter out the dwarf galaxies\n",
    "\n",
    "Those below the line\n",
    "\\begin{equation}\n",
    "  m_r = -(\\log(V(0.33R_{26})) - V_0)/a + b_\\perp + (b_{Coma} - b_{0pt})\n",
    "\\end{equation}"
   ]
  },
  {
   "cell_type": "code",
   "execution_count": 73,
   "id": "62e0315e-5bbd-4698-9705-88151a24a785",
   "metadata": {
    "tags": []
   },
   "outputs": [
    {
     "name": "stdout",
     "output_type": "stream",
     "text": [
      "0\n"
     ]
    }
   ],
   "source": [
    "dwarfs = (SGA_TF['R_MAG_SB26_CORR'] - SGA_TF['R_MAG_SB26_ERR_CORR']) > (-(np.log10(SGA_TF['V_0p33R26']) - V0)/a + b_perp + b[0] - b[1])\n",
    "\n",
    "SGA_TF_bright = SGA_TF[~dwarfs]\n",
    "\n",
    "print(np.sum(dwarfs))"
   ]
  },
  {
   "cell_type": "markdown",
   "id": "b17383ae-289c-403c-9f5c-454288ec06ff",
   "metadata": {},
   "source": [
    "Looks like we have no \"dwarf\" galaxies, so we don't need to repeat the calibration."
   ]
  },
  {
   "cell_type": "code",
   "execution_count": 74,
   "id": "49847761-7619-4d40-87f8-d7505aa316bc",
   "metadata": {
    "tags": []
   },
   "outputs": [],
   "source": [
    "temp_outfile = open('cov_ab_fuji_joint_TFR_varyV0-perpdwarfs0_AnthonyUpdates_weightsVmax-1_dVsys_KAD.pickle', 'wb')\n",
    "pickle.dump((cov_tfr, tfr_mcmc_samples, V0), temp_outfile)\n",
    "temp_outfile.close()"
   ]
  },
  {
   "cell_type": "code",
   "execution_count": null,
   "id": "e949f3cd-dc09-4292-b7b1-4cd075aa538d",
   "metadata": {},
   "outputs": [],
   "source": []
  }
 ],
 "metadata": {
  "kernelspec": {
   "display_name": "DESI main",
   "language": "python",
   "name": "desi-main"
  },
  "language_info": {
   "codemirror_mode": {
    "name": "ipython",
    "version": 3
   },
   "file_extension": ".py",
   "mimetype": "text/x-python",
   "name": "python",
   "nbconvert_exporter": "python",
   "pygments_lexer": "ipython3",
   "version": "3.10.14"
  }
 },
 "nbformat": 4,
 "nbformat_minor": 5
}
