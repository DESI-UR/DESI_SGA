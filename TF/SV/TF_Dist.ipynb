{
 "cells": [
  {
   "cell_type": "markdown",
   "id": "ead385a1-f2d4-44ec-afd0-57871d0e2cb2",
   "metadata": {},
   "source": [
    "# Tully-Fisher Relation of galaxies with known Distances"
   ]
  },
  {
   "cell_type": "code",
   "execution_count": 1,
   "id": "0cf37865-b277-4944-a29f-10e7584487e1",
   "metadata": {},
   "outputs": [],
   "source": [
    "import os\n",
    "\n",
    "#from astropy.io import fits\n",
    "from astropy.table import Table, hstack, join\n",
    "from astropy.coordinates import SkyCoord, match_coordinates_sky\n",
    "from astropy import units as u\n",
    "#from astropy.wcs import WCS\n",
    "#from astropy.visualization.wcsaxes import SphericalCircle\n",
    "\n",
    "#import psycopg2\n",
    "\n",
    "import numpy as np\n",
    "\n",
    "# try:\n",
    "#     import numdifftools as ndt\n",
    "# except ModuleNotFoundError as e:\n",
    "#     ! pip install --user numdifftools\n",
    "#     import numdifftools as ndt\n",
    "    \n",
    "from scipy.optimize import minimize, curve_fit\n",
    "\n",
    "import matplotlib as mpl\n",
    "import matplotlib.pyplot as plt"
   ]
  },
  {
   "cell_type": "code",
   "execution_count": 2,
   "id": "6a3be784-4baf-4c63-b47b-6ea97bb1f64a",
   "metadata": {},
   "outputs": [],
   "source": [
    "mpl.rc('font', size=12)\n",
    "#mpl.rc('axes', titlesize='small')\n",
    "mpl.rc('figure', max_open_warning=0)\n",
    "\n",
    "plt.rcParams['font.family'] = 'serif'\n",
    "plt.rcParams['font.serif'] = ['Times New Roman'] + plt.rcParams['font.serif']"
   ]
  },
  {
   "cell_type": "code",
   "execution_count": 3,
   "id": "a7565ae1-09d0-4018-8ceb-ba8ab81128c4",
   "metadata": {},
   "outputs": [],
   "source": [
    "h = 1\n",
    "H0 = 100*h\n",
    "\n",
    "c = 3e5\n",
    "\n",
    "q0 = 0.2"
   ]
  },
  {
   "cell_type": "markdown",
   "id": "1678e508-b7cd-467d-a41e-5036e5c58863",
   "metadata": {},
   "source": [
    "## Read in targets"
   ]
  },
  {
   "cell_type": "code",
   "execution_count": 4,
   "id": "c98efb62-90ad-4b12-89ac-fd47d1395abd",
   "metadata": {},
   "outputs": [],
   "source": [
    "SGA_IDs = [294387, 464075, 630029]"
   ]
  },
  {
   "cell_type": "code",
   "execution_count": 5,
   "id": "f0e47a36-d443-4846-abe4-e89b0af7a50b",
   "metadata": {},
   "outputs": [],
   "source": [
    "tf_targets = Table.read('cache/tf_targets_everest.fits')\n",
    "SGA = Table.read('SGA_distances.fits', format = 'fits')"
   ]
  },
  {
   "cell_type": "code",
   "execution_count": 6,
   "id": "fb914550-753a-4072-924e-754334c91353",
   "metadata": {},
   "outputs": [
    {
     "data": {
      "text/html": [
       "<div><i>Table length=2</i>\n",
       "<table id=\"table23456038263536\" class=\"table-striped table-bordered table-condensed\">\n",
       "<thead><tr><th>PVTYPE</th><th>SGA_ID</th><th>TARGETID</th><th>FIBER_RA</th><th>FIBER_DEC</th><th>FIBERSTATUS</th><th>TILEID</th><th>TARGET_RA</th><th>TARGET_DEC</th><th>Z</th><th>ZERR</th><th>SPECTYPE</th><th>DELTACHI2</th><th>ZWARN</th><th>SGA_GALAXY</th><th>GALAXY</th><th>PGC</th><th>RA_LEDA</th><th>DEC_LEDA</th><th>MORPHTYPE</th><th>PA_LEDA</th><th>D25_LEDA</th><th>BA_LEDA</th><th>Z_LEDA</th><th>SB_D25_LEDA</th><th>MAG_LEDA</th><th>BYHAND</th><th>REF</th><th>GROUP_ID</th><th>GROUP_NAME</th><th>GROUP_MULT</th><th>GROUP_PRIMARY</th><th>GROUP_RA</th><th>GROUP_DEC</th><th>GROUP_DIAMETER</th><th>BRICKNAME</th><th>RA</th><th>DEC</th><th>D26</th><th>D26_REF</th><th>PA</th><th>BA</th><th>RA_MOMENT</th><th>DEC_MOMENT</th><th>SMA_MOMENT</th><th>G_SMA50</th><th>R_SMA50</th><th>Z_SMA50</th><th>SMA_SB22</th><th>SMA_SB22.5</th><th>SMA_SB23</th><th>SMA_SB23.5</th><th>SMA_SB24</th><th>SMA_SB24.5</th><th>SMA_SB25</th><th>SMA_SB25.5</th><th>SMA_SB26</th><th>G_MAG_SB22</th><th>R_MAG_SB22</th><th>Z_MAG_SB22</th><th>G_MAG_SB22.5</th><th>R_MAG_SB22.5</th><th>Z_MAG_SB22.5</th><th>G_MAG_SB23</th><th>R_MAG_SB23</th><th>Z_MAG_SB23</th><th>G_MAG_SB23.5</th><th>R_MAG_SB23.5</th><th>Z_MAG_SB23.5</th><th>G_MAG_SB24</th><th>R_MAG_SB24</th><th>Z_MAG_SB24</th><th>G_MAG_SB24.5</th><th>R_MAG_SB24.5</th><th>Z_MAG_SB24.5</th><th>G_MAG_SB25</th><th>R_MAG_SB25</th><th>Z_MAG_SB25</th><th>G_MAG_SB25.5</th><th>R_MAG_SB25.5</th><th>Z_MAG_SB25.5</th><th>G_MAG_SB26</th><th>R_MAG_SB26</th><th>Z_MAG_SB26</th><th>SMA_SB22_ERR</th><th>SMA_SB22.5_ERR</th><th>SMA_SB23_ERR</th><th>SMA_SB23.5_ERR</th><th>SMA_SB24_ERR</th><th>SMA_SB24.5_ERR</th><th>SMA_SB25_ERR</th><th>SMA_SB25.5_ERR</th><th>SMA_SB26_ERR</th><th>G_MAG_SB22_ERR</th><th>R_MAG_SB22_ERR</th><th>Z_MAG_SB22_ERR</th><th>G_MAG_SB22.5_ERR</th><th>R_MAG_SB22.5_ERR</th><th>Z_MAG_SB22.5_ERR</th><th>G_MAG_SB23_ERR</th><th>R_MAG_SB23_ERR</th><th>Z_MAG_SB23_ERR</th><th>G_MAG_SB23.5_ERR</th><th>R_MAG_SB23.5_ERR</th><th>Z_MAG_SB23.5_ERR</th><th>G_MAG_SB24_ERR</th><th>R_MAG_SB24_ERR</th><th>Z_MAG_SB24_ERR</th><th>G_MAG_SB24.5_ERR</th><th>R_MAG_SB24.5_ERR</th><th>Z_MAG_SB24.5_ERR</th><th>G_MAG_SB25_ERR</th><th>R_MAG_SB25_ERR</th><th>Z_MAG_SB25_ERR</th><th>G_MAG_SB25.5_ERR</th><th>R_MAG_SB25.5_ERR</th><th>Z_MAG_SB25.5_ERR</th><th>G_MAG_SB26_ERR</th><th>R_MAG_SB26_ERR</th><th>Z_MAG_SB26_ERR</th><th>G_COG_PARAMS_MTOT</th><th>G_COG_PARAMS_M0</th><th>G_COG_PARAMS_ALPHA1</th><th>G_COG_PARAMS_ALPHA2</th><th>G_COG_PARAMS_CHI2</th><th>R_COG_PARAMS_MTOT</th><th>R_COG_PARAMS_M0</th><th>R_COG_PARAMS_ALPHA1</th><th>R_COG_PARAMS_ALPHA2</th><th>R_COG_PARAMS_CHI2</th><th>Z_COG_PARAMS_MTOT</th><th>Z_COG_PARAMS_M0</th><th>Z_COG_PARAMS_ALPHA1</th><th>Z_COG_PARAMS_ALPHA2</th><th>Z_COG_PARAMS_CHI2</th><th>ELLIPSEBIT</th><th>DM_Stellar</th><th>e_DM_lo_Stellar</th><th>e_DM_hi_Stellar</th><th>Stellar_Catalog</th><th>DM1_SN</th><th>e_DM1_SN</th><th>DM2_SN</th><th>e_DM2_SN</th><th>DM3_SN</th><th>e_DM3_SN</th><th>DM4_SN</th><th>e_DM4_SN</th><th>DM5_SN</th><th>e_DM5_SN</th><th>DM6_SN</th><th>e_DM6_SN</th><th>DM7_SN</th><th>e_DM7_SN</th><th>SN_Catalog</th></tr></thead>\n",
       "<thead><tr><th>bytes3</th><th>int64</th><th>int64</th><th>float64</th><th>float64</th><th>int64</th><th>int64</th><th>float64</th><th>float64</th><th>float64</th><th>float64</th><th>bytes6</th><th>float64</th><th>int64</th><th>bytes16</th><th>bytes29</th><th>int64</th><th>float64</th><th>float64</th><th>bytes21</th><th>float32</th><th>float32</th><th>float32</th><th>float32</th><th>float32</th><th>float32</th><th>bool</th><th>bytes13</th><th>int64</th><th>bytes35</th><th>int16</th><th>bool</th><th>float64</th><th>float64</th><th>float32</th><th>bytes8</th><th>float64</th><th>float64</th><th>float32</th><th>bytes4</th><th>float32</th><th>float32</th><th>float64</th><th>float64</th><th>float32</th><th>float32</th><th>float32</th><th>float32</th><th>float32</th><th>float32</th><th>float32</th><th>float32</th><th>float32</th><th>float32</th><th>float32</th><th>float32</th><th>float32</th><th>float32</th><th>float32</th><th>float32</th><th>float32</th><th>float32</th><th>float32</th><th>float32</th><th>float32</th><th>float32</th><th>float32</th><th>float32</th><th>float32</th><th>float32</th><th>float32</th><th>float32</th><th>float32</th><th>float32</th><th>float32</th><th>float32</th><th>float32</th><th>float32</th><th>float32</th><th>float32</th><th>float32</th><th>float32</th><th>float32</th><th>float32</th><th>float32</th><th>float32</th><th>float32</th><th>float32</th><th>float32</th><th>float32</th><th>float32</th><th>float32</th><th>float32</th><th>float32</th><th>float32</th><th>float32</th><th>float32</th><th>float32</th><th>float32</th><th>float32</th><th>float32</th><th>float32</th><th>float32</th><th>float32</th><th>float32</th><th>float32</th><th>float32</th><th>float32</th><th>float32</th><th>float32</th><th>float32</th><th>float32</th><th>float32</th><th>float32</th><th>float32</th><th>float32</th><th>float32</th><th>float32</th><th>float32</th><th>float32</th><th>float32</th><th>float32</th><th>float32</th><th>float32</th><th>float32</th><th>float32</th><th>float32</th><th>float32</th><th>float32</th><th>float32</th><th>float32</th><th>float32</th><th>float32</th><th>float32</th><th>float32</th><th>int32</th><th>float64</th><th>float64</th><th>float64</th><th>bytes16</th><th>float64</th><th>float64</th><th>float64</th><th>float64</th><th>float64</th><th>float64</th><th>float64</th><th>float64</th><th>float64</th><th>float64</th><th>float64</th><th>int64</th><th>float64</th><th>int64</th><th>bytes24</th></tr></thead>\n",
       "<tr><td>TFT</td><td>294387</td><td>1070095925248001</td><td>183.545486931535</td><td>-0.821581014453435</td><td>0</td><td>76</td><td>183.54550321013</td><td>-0.821572881819896</td><td>1.447811116976</td><td>0.000129134659278205</td><td>GALAXY</td><td>3.17801080644131</td><td>4</td><td>SGA-2020 294387</td><td>PGC039073</td><td>39073</td><td>183.547164</td><td>-0.831551</td><td>SABc</td><td>171.72</td><td>0.7780365</td><td>0.561048</td><td>0.024841517</td><td>23.520481</td><td>15.437</td><td>False</td><td>LEDA-20181114</td><td>106169</td><td>PGC039073</td><td>1</td><td>True</td><td>183.547164</td><td>-0.831551</td><td>0.7780365</td><td>1836m007</td><td>183.5471939888577</td><td>-0.8316111360355423</td><td>1.2215545</td><td>SB26</td><td>170.44017</td><td>0.5814847</td><td>183.54718532704396</td><td>-0.8315369651746233</td><td>30.07738</td><td>12.846199</td><td>12.395062</td><td>11.759229</td><td>8.509257</td><td>11.53522</td><td>14.766707</td><td>18.282831</td><td>22.028744</td><td>25.829937</td><td>29.480642</td><td>33.008987</td><td>36.646637</td><td>16.52693</td><td>15.968272</td><td>15.577775</td><td>16.17626</td><td>15.640676</td><td>15.267396</td><td>15.939795</td><td>15.423002</td><td>15.057729</td><td>15.767317</td><td>15.26203</td><td>14.904332</td><td>15.642654</td><td>15.141757</td><td>14.787272</td><td>15.55682</td><td>15.060615</td><td>14.709526</td><td>15.498996</td><td>15.00487</td><td>14.656994</td><td>15.462121</td><td>14.968573</td><td>14.623675</td><td>15.437742</td><td>14.945529</td><td>14.603001</td><td>0.038360342</td><td>0.061051294</td><td>0.059315868</td><td>0.09041882</td><td>0.07770962</td><td>0.099839635</td><td>0.10327726</td><td>0.10800127</td><td>0.15686321</td><td>0.008838212</td><td>0.009582073</td><td>0.0097316895</td><td>0.007513806</td><td>0.008082654</td><td>0.008192047</td><td>0.0066172783</td><td>0.007089283</td><td>0.007204685</td><td>0.005913486</td><td>0.006328169</td><td>0.006462018</td><td>0.005406668</td><td>0.005792954</td><td>0.0059218905</td><td>0.005074407</td><td>0.005446651</td><td>0.0055868314</td><td>0.0048628864</td><td>0.0052201203</td><td>0.005371191</td><td>0.004731652</td><td>0.005074616</td><td>0.0052398327</td><td>0.004641347</td><td>0.0049823252</td><td>0.0051635467</td><td>15.318537</td><td>0.5640646</td><td>5.086929</td><td>2.3881478</td><td>1.8722204</td><td>14.825719</td><td>0.52780443</td><td>5.237951</td><td>2.3515327</td><td>2.232278</td><td>14.503408</td><td>0.44021618</td><td>6.862227</td><td>2.5675461</td><td>2.2760477</td><td>0</td><td>-1.0</td><td>-1.0</td><td>-1.0</td><td>-1</td><td>34.77</td><td>0.3</td><td>-1.0</td><td>-1.0</td><td>-1.0</td><td>-1.0</td><td>-1.0</td><td>-1.0</td><td>-1.0</td><td>-1.0</td><td>-1.0</td><td>-1</td><td>-1.0</td><td>-1</td><td>Stahl_SNI</td></tr>\n",
       "<tr><td>TFT</td><td>294387</td><td>1070095925248005</td><td>183.548330758231</td><td>-0.838344605575187</td><td>0</td><td>71</td><td>183.54832681541</td><td>-0.838336765955474</td><td>1.37156238916563</td><td>0.000123339660664733</td><td>GALAXY</td><td>12.872922629118</td><td>0</td><td>SGA-2020 294387</td><td>PGC039073</td><td>39073</td><td>183.547164</td><td>-0.831551</td><td>SABc</td><td>171.72</td><td>0.7780365</td><td>0.561048</td><td>0.024841517</td><td>23.520481</td><td>15.437</td><td>False</td><td>LEDA-20181114</td><td>106169</td><td>PGC039073</td><td>1</td><td>True</td><td>183.547164</td><td>-0.831551</td><td>0.7780365</td><td>1836m007</td><td>183.5471939888577</td><td>-0.8316111360355423</td><td>1.2215545</td><td>SB26</td><td>170.44017</td><td>0.5814847</td><td>183.54718532704396</td><td>-0.8315369651746233</td><td>30.07738</td><td>12.846199</td><td>12.395062</td><td>11.759229</td><td>8.509257</td><td>11.53522</td><td>14.766707</td><td>18.282831</td><td>22.028744</td><td>25.829937</td><td>29.480642</td><td>33.008987</td><td>36.646637</td><td>16.52693</td><td>15.968272</td><td>15.577775</td><td>16.17626</td><td>15.640676</td><td>15.267396</td><td>15.939795</td><td>15.423002</td><td>15.057729</td><td>15.767317</td><td>15.26203</td><td>14.904332</td><td>15.642654</td><td>15.141757</td><td>14.787272</td><td>15.55682</td><td>15.060615</td><td>14.709526</td><td>15.498996</td><td>15.00487</td><td>14.656994</td><td>15.462121</td><td>14.968573</td><td>14.623675</td><td>15.437742</td><td>14.945529</td><td>14.603001</td><td>0.038360342</td><td>0.061051294</td><td>0.059315868</td><td>0.09041882</td><td>0.07770962</td><td>0.099839635</td><td>0.10327726</td><td>0.10800127</td><td>0.15686321</td><td>0.008838212</td><td>0.009582073</td><td>0.0097316895</td><td>0.007513806</td><td>0.008082654</td><td>0.008192047</td><td>0.0066172783</td><td>0.007089283</td><td>0.007204685</td><td>0.005913486</td><td>0.006328169</td><td>0.006462018</td><td>0.005406668</td><td>0.005792954</td><td>0.0059218905</td><td>0.005074407</td><td>0.005446651</td><td>0.0055868314</td><td>0.0048628864</td><td>0.0052201203</td><td>0.005371191</td><td>0.004731652</td><td>0.005074616</td><td>0.0052398327</td><td>0.004641347</td><td>0.0049823252</td><td>0.0051635467</td><td>15.318537</td><td>0.5640646</td><td>5.086929</td><td>2.3881478</td><td>1.8722204</td><td>14.825719</td><td>0.52780443</td><td>5.237951</td><td>2.3515327</td><td>2.232278</td><td>14.503408</td><td>0.44021618</td><td>6.862227</td><td>2.5675461</td><td>2.2760477</td><td>0</td><td>-1.0</td><td>-1.0</td><td>-1.0</td><td>-1</td><td>34.77</td><td>0.3</td><td>-1.0</td><td>-1.0</td><td>-1.0</td><td>-1.0</td><td>-1.0</td><td>-1.0</td><td>-1.0</td><td>-1.0</td><td>-1.0</td><td>-1</td><td>-1.0</td><td>-1</td><td>Stahl_SNI</td></tr>\n",
       "</table></div>"
      ],
      "text/plain": [
       "<Table length=2>\n",
       "PVTYPE SGA_ID     TARGETID         FIBER_RA     ...  DM7_SN e_DM7_SN SN_Catalog\n",
       "bytes3 int64       int64           float64      ... float64  int64    bytes24  \n",
       "------ ------ ---------------- ---------------- ... ------- -------- ----------\n",
       "   TFT 294387 1070095925248001 183.545486931535 ...    -1.0       -1  Stahl_SNI\n",
       "   TFT 294387 1070095925248005 183.548330758231 ...    -1.0       -1  Stahl_SNI"
      ]
     },
     "execution_count": 6,
     "metadata": {},
     "output_type": "execute_result"
    }
   ],
   "source": [
    "idx_sga_coma = np.in1d(tf_targets['SGA_ID'], SGA_IDs)\n",
    "\n",
    "sga_table = join(tf_targets[idx_sga_coma], SGA, keys='SGA_ID')\n",
    "sga_table[:2]"
   ]
  },
  {
   "cell_type": "markdown",
   "id": "5810ece7-ce1b-43ca-b865-20e736d0f78f",
   "metadata": {},
   "source": [
    "## Calculate the rotational velocities\n",
    "\n",
    "And store those at $0.33R_{26}$\n",
    "\n",
    "Also, remove those with a velocity > 5000 km/s"
   ]
  },
  {
   "cell_type": "code",
   "execution_count": 7,
   "id": "66da2fa7-c91a-4c6a-9645-6622bb9df907",
   "metadata": {},
   "outputs": [],
   "source": [
    "rmag = []\n",
    "rmag_err = []\n",
    "abs_mag = []\n",
    "abs_mag_err = []\n",
    "vmax = []\n",
    "dvmax = []\n",
    "\n",
    "for i, sga_id in enumerate(SGA_IDs):\n",
    "    # if sga_id == 474614:\n",
    "    #     print('skipped')\n",
    "    #     continue\n",
    "    galaxy_list = sga_table[sga_table['SGA_ID'] == sga_id]\n",
    "    print\n",
    "    #print(i+1, sga_id)\n",
    "    \n",
    "    is_sga_galaxy = (galaxy_list['TARGETID'] > 30000000000000000) & (galaxy_list['TARGETID'] < 40000000000000000)\n",
    "    \n",
    "    sga_galaxy = galaxy_list[is_sga_galaxy]\n",
    "    tf_list = galaxy_list[~is_sga_galaxy]\n",
    "    \n",
    "    if np.sum(is_sga_galaxy) > 1:\n",
    "        sga_galaxy = sga_galaxy[0]\n",
    "    \n",
    "    targetid = int(sga_galaxy['TARGETID'])\n",
    "    center = SkyCoord(sga_galaxy['FIBER_RA'], sga_galaxy['FIBER_DEC'], unit='deg')\n",
    "    offcenter = SkyCoord(tf_list['FIBER_RA'], tf_list['FIBER_DEC'], unit='deg')\n",
    "    sep2d = offcenter.separation(center)\n",
    "    r26 = 0.5 * float(sga_galaxy['D26'])*u.arcmin\n",
    "    sep_r26 = sep2d.to('arcmin') / r26\n",
    "    \n",
    "    zc, zc_err = sga_galaxy['Z'], sga_galaxy['ZERR']\n",
    "    zt, zt_err = tf_list['Z'], tf_list['ZERR']\n",
    "    \n",
    "    dz = np.abs(zt - zc)\n",
    "    dz_err = np.sqrt(zc_err**2 + zt_err**2)\n",
    "    \n",
    "    dv = c * dz\n",
    "    dv_err = c * dz_err\n",
    "    \n",
    "    good_vel = dv < 5000\n",
    "    \n",
    "    if np.sum(good_vel) > 0:\n",
    "        sep_r26 = np.insert(sep_r26[good_vel], 0, 0.)\n",
    "        dv = np.insert(dv[good_vel], 0, 0.)\n",
    "        dv_err = np.insert(dv_err[good_vel], 0, 3e5*zc_err)\n",
    "\n",
    "        # Extract the 0.33xR26 points.\n",
    "        is_033_r26 = (sep_r26 > 0.3) & (sep_r26 < 0.4)\n",
    "        if np.sum(is_033_r26) > 0:\n",
    "            v033 = np.mean(dv[is_033_r26])\n",
    "            dv033 = np.sqrt(np.sum(dv_err[is_033_r26]**2))\n",
    "\n",
    "            rmag.append(float(sga_galaxy['R_MAG_SB26']))\n",
    "            rmag_err.append(float(sga_galaxy['R_MAG_SB26_ERR']))\n",
    "            vmax.append(v033)\n",
    "            dvmax.append(dv033)\n",
    "            # Find absolute magnitude - 5log(h), using h=0.742 (Union2 (2010))\n",
    "            abs_mag.append(float(sga_galaxy['R_MAG_SB26'] - sga_galaxy['DM1_SN']) - 5*np.log10(0.742))\n",
    "            abs_mag_err.append(np.sqrt((float(sga_galaxy['R_MAG_SB26_ERR']))**2 + (float(sga_galaxy['e_DM1_SN']))**2))\n",
    "    \n",
    "#print('mag:', rmag)\n",
    "#print('vel:', vmax)\n",
    "#print('dv:', dvmax)"
   ]
  },
  {
   "cell_type": "code",
   "execution_count": 8,
   "id": "6daea423-59e9-4388-8501-b5e2942b9c99",
   "metadata": {},
   "outputs": [
    {
     "name": "stdout",
     "output_type": "stream",
     "text": [
      "3\n"
     ]
    },
    {
     "data": {
      "image/png": "[encoded data removed]",
      "text/plain": [
       "<Figure size 720x288 with 2 Axes>"
      ]
     },
     "metadata": {
      "needs_background": "light"
     },
     "output_type": "display_data"
    }
   ],
   "source": [
    "rmag = np.asarray(rmag)\n",
    "rmag_err = np.asarray(rmag_err)\n",
    "vmax = np.asarray(vmax)\n",
    "dvmax = np.asarray(dvmax)\n",
    "abs_mag = np.asarray(abs_mag)\n",
    "abs_mag_err = np.asarray(abs_mag_err)\n",
    "\n",
    "isrmeas = rmag > 0\n",
    "\n",
    "fig, axes = plt.subplots(1, 2, figsize=(10,4), tight_layout=True)\n",
    "\n",
    "ax = axes[0]\n",
    "ax.errorbar(rmag[isrmeas], vmax[isrmeas], xerr = rmag_err[isrmeas], yerr=dvmax[isrmeas], fmt='ro')\n",
    "ax.set(xlabel='$M_r$(26) - 5log$_{10}$(h)',\n",
    "       xlim=(18.5, 12.5),\n",
    "       ylim=(-50,300),\n",
    "       ylabel='$v_\\mathrm{max}$ [km s$^{-1}$]')\n",
    "\n",
    "ax = axes[1]\n",
    "\n",
    "log10vmax = np.log10(vmax)\n",
    "dlog10vmax = 0.434 * dvmax / vmax \n",
    "\n",
    "ax.errorbar(rmag[isrmeas], log10vmax[isrmeas], xerr = rmag_err[isrmeas], yerr=dlog10vmax[isrmeas], fmt='ro')\n",
    "ax.set(xlabel='$M_r$(26) - 5log$_{10}$(h)',\n",
    "       xlim=(18.5, 12.5),\n",
    "       ylabel=r'$\\log{(v_\\mathrm{max} / \\mathrm{km~s}^{-1})}$',\n",
    "       ylim=(-0.5,3))\n",
    "\n",
    "fig.suptitle(r'Rotational velocity at $0.33R_{26}$', y=1.05)\n",
    "fig.subplots_adjust(top=0.8)\n",
    "\n",
    "print(np.sum(isrmeas))"
   ]
  },
  {
   "cell_type": "code",
   "execution_count": 9,
   "id": "4d14e575-6b12-4d9a-b56e-6104016d71b5",
   "metadata": {},
   "outputs": [
    {
     "name": "stdout",
     "output_type": "stream",
     "text": [
      "3\n"
     ]
    },
    {
     "data": {
      "image/png": "[encoded data removed]",
      "text/plain": [
       "<Figure size 720x288 with 2 Axes>"
      ]
     },
     "metadata": {
      "needs_background": "light"
     },
     "output_type": "display_data"
    }
   ],
   "source": [
    "rmag = np.asarray(rmag)\n",
    "vmax = np.asarray(vmax)\n",
    "dvmax = np.asarray(dvmax)\n",
    "abs_mag = np.asarray(abs_mag)\n",
    "abs_mag_err = np.asarray(abs_mag_err)\n",
    "# abs_mag_err = np.sqrt()\n",
    "\n",
    "fig, axes = plt.subplots(1, 2, figsize=(10,4), tight_layout=True)\n",
    "\n",
    "ax = axes[0]\n",
    "ax.errorbar(abs_mag, vmax, xerr = abs_mag_err,yerr=dvmax, fmt='ro')\n",
    "ax.set(xlabel='$M_r$(26)',\n",
    "       # xlim=(18.5, 12.5),\n",
    "       ylim=(-50,300),\n",
    "       ylabel='$v_\\mathrm{max}$ [km s$^{-1}$]')\n",
    "\n",
    "ax = axes[1]\n",
    "\n",
    "log10vmax = np.log10(vmax)\n",
    "dlog10vmax = 0.434 * dvmax / vmax \n",
    "\n",
    "ax.errorbar(abs_mag[isrmeas], log10vmax[isrmeas], xerr = abs_mag_err[isrmeas],yerr=dlog10vmax[isrmeas], fmt='ro')\n",
    "ax.set(xlabel='$M_r$(26)',\n",
    "       # xlim=(18.5, 12.5),\n",
    "       ylabel=r'$\\log{(v_\\mathrm{max} / \\mathrm{km~s}^{-1})}$',\n",
    "       ylim=(-0.5,3))\n",
    "\n",
    "fig.suptitle(r'Rotational velocity at $0.33R_{26}$', y=1.05)\n",
    "fig.subplots_adjust(top=0.8)\n",
    "\n",
    "print(np.sum(isrmeas))"
   ]
  },
  {
   "cell_type": "markdown",
   "id": "e0039773-5608-42d6-9d3e-7305404efada",
   "metadata": {},
   "source": [
    "## Cuts on inclination angle and morphology"
   ]
  },
  {
   "cell_type": "code",
   "execution_count": 17,
   "id": "6ce147db-3ca9-4d52-a14f-d7708ab2d993",
   "metadata": {},
   "outputs": [
    {
     "name": "stdout",
     "output_type": "stream",
     "text": [
      "630029 cut (inclination)\n",
      "2\n"
     ]
    }
   ],
   "source": [
    "rmag_clean = []\n",
    "rmag_err_clean = []\n",
    "vmax_clean = []\n",
    "dvmax_clean = []\n",
    "abs_mag_clean = []\n",
    "abs_mag_err_clean = []\n",
    "z= []\n",
    "\n",
    "inc_min = 45*u.degree\n",
    "cosi_max = np.cos(inc_min.to('radian'))\n",
    "\n",
    "sga_table['cosi'] = np.sqrt((sga_table['BA']**2 - q0**2)/(1 - q0**2))\n",
    "sga_table['cosi'][np.isnan(sga_table['cosi'])] = 0 # Objects with b/a < 0.2\n",
    "\n",
    "#i = 0\n",
    "\n",
    "for sga_id in np.unique(sga_table['SGA_ID']):\n",
    "    galaxy_list = sga_table[sga_table['SGA_ID'] == sga_id]\n",
    "    \n",
    "    is_sga_galaxy = (galaxy_list['TARGETID'] > 30000000000000000) & (galaxy_list['TARGETID'] < 40000000000000000)\n",
    "    sga_galaxy = galaxy_list[is_sga_galaxy]\n",
    "    tf_list = galaxy_list[~is_sga_galaxy]\n",
    "    \n",
    "    if np.sum(is_sga_galaxy) > 1:\n",
    "        sga_galaxy = sga_galaxy[0]\n",
    "    \n",
    "    targetid = int(sga_galaxy['TARGETID'])\n",
    "    \n",
    "    center = SkyCoord(sga_galaxy['FIBER_RA'], sga_galaxy['FIBER_DEC'], unit='deg')\n",
    "    offcenter = SkyCoord(tf_list['FIBER_RA'], tf_list['FIBER_DEC'], unit='deg')\n",
    "    sep2d = offcenter.separation(center)\n",
    "    \n",
    "    morphtype = str(sga_galaxy['MORPHTYPE'])\n",
    "    \n",
    "    cosi = float(sga_galaxy['cosi'])\n",
    "    \n",
    "    r26 = 0.5 * float(sga_galaxy['D26']) * u.arcmin\n",
    "    sep_r26 = sep2d.to('arcmin') / r26\n",
    "\n",
    "    # Cut any suspected ellipticals\n",
    "    if morphtype.startswith('E') or morphtype.startswith('S0') or morphtype.startswith('I'):\n",
    "        print('{} cut (morphology)'.format(sga_id))\n",
    "        continue\n",
    "               \n",
    "    # Inclination cut\n",
    "    if cosi > cosi_max:\n",
    "        print('{} cut (inclination)'.format(sga_id))\n",
    "        continue\n",
    "        \n",
    "    #i += 1\n",
    "    #print(i, sga_id, cosi)\n",
    "    \n",
    "    zc, zc_err = float(sga_galaxy['Z']), float(sga_galaxy['ZERR'])\n",
    "    zt, zt_err = tf_list['Z'], tf_list['ZERR']\n",
    "    \n",
    "    dz = np.abs(zt - zc)\n",
    "    dz_err = np.sqrt(zc_err**2 + zt_err**2)\n",
    "    \n",
    "    dv = 3e5 * dz\n",
    "    dv_err = 3e5 * dz_err\n",
    "    \n",
    "    good_vel = dv < 5000\n",
    "    \n",
    "    if np.sum(good_vel) > 0:\n",
    "    \n",
    "        sep_r26 = np.insert(sep_r26[good_vel], 0, 0.)\n",
    "        dv = np.insert(dv[good_vel], 0, 0.)\n",
    "        dv_err = np.insert(dv_err[good_vel], 0, 3e5*zc_err)\n",
    "\n",
    "        # Extract the 0.33xR26 points.\n",
    "        is_033_r26 = (sep_r26 > 0.3) & (sep_r26 < 0.4)\n",
    "        \n",
    "        if np.sum(is_033_r26) > 0:\n",
    "            v033 = np.mean(dv[is_033_r26]) / np.sqrt(1 - cosi**2)\n",
    "            dv033 = np.sqrt(np.sum(dv_err[is_033_r26]**2)) / np.sqrt(1 - cosi**2)\n",
    "            z.append(zc)\n",
    "            rmag_clean.append(float(sga_galaxy['R_MAG_SB26']))\n",
    "            rmag_err_clean.append(float(sga_galaxy['R_MAG_SB26_ERR']))\n",
    "            vmax_clean.append(v033)\n",
    "            dvmax_clean.append(dv033)\n",
    "            abs_mag_clean.append(float(sga_galaxy['R_MAG_SB26'] - sga_galaxy['DM1_SN'] - 5*np.log10(0.742)))\n",
    "            abs_mag_err_clean.append(np.sqrt((float(sga_galaxy['R_MAG_SB26_ERR']))**2 + (float(sga_galaxy['e_DM1_SN']))**2))\n",
    "    \n",
    "#inComa_sga_table[['SGA_ID', 'BA', 'cosi']].show_in_notebook()\n",
    "print(len(rmag_clean))"
   ]
  },
  {
   "cell_type": "markdown",
   "id": "f65cc047-3685-4756-8999-ab2246295585",
   "metadata": {},
   "source": [
    "### Catalogs\n",
    "294387: Stahl et. al.\n",
    "464075: "
   ]
  },
  {
   "cell_type": "code",
   "execution_count": 18,
   "id": "cf19bc5f-06ff-4033-9465-9a241cd66686",
   "metadata": {},
   "outputs": [
    {
     "data": {
      "image/png": "[encoded data removed]",
      "text/plain": [
       "<Figure size 432x288 with 1 Axes>"
      ]
     },
     "metadata": {
      "needs_background": "light"
     },
     "output_type": "display_data"
    }
   ],
   "source": [
    "plt.hist(z)\n",
    "plt.xlabel(r'$z_c$')\n",
    "plt.ylabel('Counts')\n",
    "plt.title('Redshifts')\n",
    "plt.show()"
   ]
  },
  {
   "cell_type": "code",
   "execution_count": null,
   "id": "fb7ff629-b88b-4e1b-aa4c-31cfebfebb53",
   "metadata": {},
   "outputs": [],
   "source": [
    "294387, 464075"
   ]
  },
  {
   "cell_type": "code",
   "execution_count": 16,
   "id": "eb8ce8da-92aa-414b-a3fd-a1a7a80650d5",
   "metadata": {},
   "outputs": [
    {
     "data": {
      "text/html": [
       "<div><i>Table length=160</i>\n",
       "<table id=\"table23453535964944\" class=\"table-striped table-bordered table-condensed\">\n",
       "<thead><tr><th>PVTYPE</th><th>SGA_ID</th><th>TARGETID</th><th>FIBER_RA</th><th>FIBER_DEC</th><th>FIBERSTATUS</th><th>TILEID</th><th>TARGET_RA</th><th>TARGET_DEC</th><th>Z</th><th>ZERR</th><th>SPECTYPE</th><th>DELTACHI2</th><th>ZWARN</th><th>SGA_GALAXY</th><th>GALAXY</th><th>PGC</th><th>RA_LEDA</th><th>DEC_LEDA</th><th>MORPHTYPE</th><th>PA_LEDA</th><th>D25_LEDA</th><th>BA_LEDA</th><th>Z_LEDA</th><th>SB_D25_LEDA</th><th>MAG_LEDA</th><th>BYHAND</th><th>REF</th><th>GROUP_ID</th><th>GROUP_NAME</th><th>GROUP_MULT</th><th>GROUP_PRIMARY</th><th>GROUP_RA</th><th>GROUP_DEC</th><th>GROUP_DIAMETER</th><th>BRICKNAME</th><th>RA</th><th>DEC</th><th>D26</th><th>D26_REF</th><th>PA</th><th>BA</th><th>RA_MOMENT</th><th>DEC_MOMENT</th><th>SMA_MOMENT</th><th>G_SMA50</th><th>R_SMA50</th><th>Z_SMA50</th><th>SMA_SB22</th><th>SMA_SB22.5</th><th>SMA_SB23</th><th>SMA_SB23.5</th><th>SMA_SB24</th><th>SMA_SB24.5</th><th>SMA_SB25</th><th>SMA_SB25.5</th><th>SMA_SB26</th><th>G_MAG_SB22</th><th>R_MAG_SB22</th><th>Z_MAG_SB22</th><th>G_MAG_SB22.5</th><th>R_MAG_SB22.5</th><th>Z_MAG_SB22.5</th><th>G_MAG_SB23</th><th>R_MAG_SB23</th><th>Z_MAG_SB23</th><th>G_MAG_SB23.5</th><th>R_MAG_SB23.5</th><th>Z_MAG_SB23.5</th><th>G_MAG_SB24</th><th>R_MAG_SB24</th><th>Z_MAG_SB24</th><th>G_MAG_SB24.5</th><th>R_MAG_SB24.5</th><th>Z_MAG_SB24.5</th><th>G_MAG_SB25</th><th>R_MAG_SB25</th><th>Z_MAG_SB25</th><th>G_MAG_SB25.5</th><th>R_MAG_SB25.5</th><th>Z_MAG_SB25.5</th><th>G_MAG_SB26</th><th>R_MAG_SB26</th><th>Z_MAG_SB26</th><th>SMA_SB22_ERR</th><th>SMA_SB22.5_ERR</th><th>SMA_SB23_ERR</th><th>SMA_SB23.5_ERR</th><th>SMA_SB24_ERR</th><th>SMA_SB24.5_ERR</th><th>SMA_SB25_ERR</th><th>SMA_SB25.5_ERR</th><th>SMA_SB26_ERR</th><th>G_MAG_SB22_ERR</th><th>R_MAG_SB22_ERR</th><th>Z_MAG_SB22_ERR</th><th>G_MAG_SB22.5_ERR</th><th>R_MAG_SB22.5_ERR</th><th>Z_MAG_SB22.5_ERR</th><th>G_MAG_SB23_ERR</th><th>R_MAG_SB23_ERR</th><th>Z_MAG_SB23_ERR</th><th>G_MAG_SB23.5_ERR</th><th>R_MAG_SB23.5_ERR</th><th>Z_MAG_SB23.5_ERR</th><th>G_MAG_SB24_ERR</th><th>R_MAG_SB24_ERR</th><th>Z_MAG_SB24_ERR</th><th>G_MAG_SB24.5_ERR</th><th>R_MAG_SB24.5_ERR</th><th>Z_MAG_SB24.5_ERR</th><th>G_MAG_SB25_ERR</th><th>R_MAG_SB25_ERR</th><th>Z_MAG_SB25_ERR</th><th>G_MAG_SB25.5_ERR</th><th>R_MAG_SB25.5_ERR</th><th>Z_MAG_SB25.5_ERR</th><th>G_MAG_SB26_ERR</th><th>R_MAG_SB26_ERR</th><th>Z_MAG_SB26_ERR</th><th>G_COG_PARAMS_MTOT</th><th>G_COG_PARAMS_M0</th><th>G_COG_PARAMS_ALPHA1</th><th>G_COG_PARAMS_ALPHA2</th><th>G_COG_PARAMS_CHI2</th><th>R_COG_PARAMS_MTOT</th><th>R_COG_PARAMS_M0</th><th>R_COG_PARAMS_ALPHA1</th><th>R_COG_PARAMS_ALPHA2</th><th>R_COG_PARAMS_CHI2</th><th>Z_COG_PARAMS_MTOT</th><th>Z_COG_PARAMS_M0</th><th>Z_COG_PARAMS_ALPHA1</th><th>Z_COG_PARAMS_ALPHA2</th><th>Z_COG_PARAMS_CHI2</th><th>ELLIPSEBIT</th><th>DM_Stellar</th><th>e_DM_lo_Stellar</th><th>e_DM_hi_Stellar</th><th>Stellar_Catalog</th><th>DM1_SN</th><th>e_DM1_SN</th><th>DM2_SN</th><th>e_DM2_SN</th><th>DM3_SN</th><th>e_DM3_SN</th><th>DM4_SN</th><th>e_DM4_SN</th><th>DM5_SN</th><th>e_DM5_SN</th><th>DM6_SN</th><th>e_DM6_SN</th><th>DM7_SN</th><th>e_DM7_SN</th><th>SN_Catalog</th><th>cosi</th></tr></thead>\n",
       "<thead><tr><th>bytes3</th><th>int64</th><th>int64</th><th>float64</th><th>float64</th><th>int64</th><th>int64</th><th>float64</th><th>float64</th><th>float64</th><th>float64</th><th>bytes6</th><th>float64</th><th>int64</th><th>bytes16</th><th>bytes29</th><th>int64</th><th>float64</th><th>float64</th><th>bytes21</th><th>float32</th><th>float32</th><th>float32</th><th>float32</th><th>float32</th><th>float32</th><th>bool</th><th>bytes13</th><th>int64</th><th>bytes35</th><th>int16</th><th>bool</th><th>float64</th><th>float64</th><th>float32</th><th>bytes8</th><th>float64</th><th>float64</th><th>float32</th><th>bytes4</th><th>float32</th><th>float32</th><th>float64</th><th>float64</th><th>float32</th><th>float32</th><th>float32</th><th>float32</th><th>float32</th><th>float32</th><th>float32</th><th>float32</th><th>float32</th><th>float32</th><th>float32</th><th>float32</th><th>float32</th><th>float32</th><th>float32</th><th>float32</th><th>float32</th><th>float32</th><th>float32</th><th>float32</th><th>float32</th><th>float32</th><th>float32</th><th>float32</th><th>float32</th><th>float32</th><th>float32</th><th>float32</th><th>float32</th><th>float32</th><th>float32</th><th>float32</th><th>float32</th><th>float32</th><th>float32</th><th>float32</th><th>float32</th><th>float32</th><th>float32</th><th>float32</th><th>float32</th><th>float32</th><th>float32</th><th>float32</th><th>float32</th><th>float32</th><th>float32</th><th>float32</th><th>float32</th><th>float32</th><th>float32</th><th>float32</th><th>float32</th><th>float32</th><th>float32</th><th>float32</th><th>float32</th><th>float32</th><th>float32</th><th>float32</th><th>float32</th><th>float32</th><th>float32</th><th>float32</th><th>float32</th><th>float32</th><th>float32</th><th>float32</th><th>float32</th><th>float32</th><th>float32</th><th>float32</th><th>float32</th><th>float32</th><th>float32</th><th>float32</th><th>float32</th><th>float32</th><th>float32</th><th>float32</th><th>float32</th><th>float32</th><th>float32</th><th>float32</th><th>float32</th><th>float32</th><th>float32</th><th>float32</th><th>float32</th><th>float32</th><th>float32</th><th>int32</th><th>float64</th><th>float64</th><th>float64</th><th>bytes16</th><th>float64</th><th>float64</th><th>float64</th><th>float64</th><th>float64</th><th>float64</th><th>float64</th><th>float64</th><th>float64</th><th>float64</th><th>float64</th><th>int64</th><th>float64</th><th>int64</th><th>bytes24</th><th>float32</th></tr></thead>\n",
       "<tr><td>TFT</td><td>464075</td><td>1084254431739904</td><td>242.492164247918</td><td>43.1225394778083</td><td>0</td><td>334</td><td>242.492201894302</td><td>43.1225512964867</td><td>0.567282617699403</td><td>0.000146986310433262</td><td>GALAXY</td><td>9.85052530281246</td><td>0</td><td>SGA-2020 464075</td><td>UGC10244</td><td>57341</td><td>242.48108100000002</td><td>43.1290549</td><td>Sbc</td><td>128.96</td><td>1.0423175</td><td>0.3019952</td><td>0.03288008</td><td>24.129482</td><td>15.411</td><td>False</td><td>LEDA-20181114</td><td>169351</td><td>UGC10244</td><td>1</td><td>True</td><td>242.48108100000002</td><td>43.1290549</td><td>1.0423175</td><td>2424p432</td><td>242.48098745213719</td><td>43.12912634553939</td><td>1.8803749</td><td>SB26</td><td>128.77156</td><td>0.25576675</td><td>242.48074521025828</td><td>43.12920524001464</td><td>33.333332</td><td>13.762432</td><td>13.33429</td><td>6.869408</td><td>20.062359</td><td>23.480825</td><td>26.841143</td><td>30.275038</td><td>34.482098</td><td>39.361794</td><td>44.571243</td><td>50.888767</td><td>56.411247</td><td>15.378283</td><td>14.3577795</td><td>13.665737</td><td>15.277042</td><td>14.263303</td><td>13.620374</td><td>15.212705</td><td>14.207908</td><td>13.586886</td><td>15.177601</td><td>14.170899</td><td>13.565661</td><td>15.144904</td><td>14.135565</td><td>13.546063</td><td>15.118075</td><td>14.108305</td><td>13.528171</td><td>15.095903</td><td>14.08959</td><td>13.514712</td><td>15.077272</td><td>14.071617</td><td>13.503589</td><td>15.064306</td><td>14.061757</td><td>13.50056</td><td>0.14993039</td><td>0.18158807</td><td>0.18825479</td><td>0.22639686</td><td>0.24359083</td><td>0.24287476</td><td>0.23499858</td><td>0.34557027</td><td>0.32119325</td><td>0.023190737</td><td>0.020619955</td><td>0.02711046</td><td>0.021607935</td><td>0.019364513</td><td>0.026131935</td><td>0.020621898</td><td>0.018606326</td><td>0.02540204</td><td>0.020023214</td><td>0.018049074</td><td>0.024948375</td><td>0.019484583</td><td>0.017537842</td><td>0.024526162</td><td>0.019048229</td><td>0.017155945</td><td>0.024136491</td><td>0.018682567</td><td>0.016877254</td><td>0.023848789</td><td>0.018375177</td><td>0.016610518</td><td>0.023612779</td><td>0.01815413</td><td>0.016440732</td><td>0.023553774</td><td>15.02493</td><td>18027.455</td><td>7.982429e-05</td><td>2.0297074</td><td>0.24238399</td><td>14.017664</td><td>12811.115</td><td>0.00010316957</td><td>1.9570801</td><td>0.056902446</td><td>13.471971</td><td>0.36119577</td><td>3.1486363</td><td>2.1401784</td><td>0.019810589</td><td>0</td><td>-1.0</td><td>-1.0</td><td>-1.0</td><td>-1</td><td>35.56</td><td>0.16</td><td>-1.0</td><td>-1.0</td><td>-1.0</td><td>-1.0</td><td>-1.0</td><td>-1.0</td><td>-1.0</td><td>-1.0</td><td>-1.0</td><td>-1</td><td>-1.0</td><td>-1</td><td>Stahl_SNI</td><td>0.16271341</td></tr>\n",
       "<tr><td>TFT</td><td>464075</td><td>1084254431739904</td><td>242.492164247918</td><td>43.1225394778083</td><td>0</td><td>334</td><td>242.492201894302</td><td>43.1225512964867</td><td>0.567282617699403</td><td>0.000146986310433262</td><td>GALAXY</td><td>9.85052530281246</td><td>0</td><td>SGA-2020 464075</td><td>UGC10244</td><td>57341</td><td>242.48108100000002</td><td>43.1290549</td><td>Sbc</td><td>128.96</td><td>1.0423175</td><td>0.3019952</td><td>0.03288008</td><td>24.129482</td><td>15.411</td><td>False</td><td>LEDA-20181114</td><td>169351</td><td>UGC10244</td><td>1</td><td>True</td><td>242.48108100000002</td><td>43.1290549</td><td>1.0423175</td><td>2424p432</td><td>242.48098745213719</td><td>43.12912634553939</td><td>1.8803749</td><td>SB26</td><td>128.77156</td><td>0.25576675</td><td>242.48074521025828</td><td>43.12920524001464</td><td>33.333332</td><td>13.762432</td><td>13.33429</td><td>6.869408</td><td>20.062359</td><td>23.480825</td><td>26.841143</td><td>30.275038</td><td>34.482098</td><td>39.361794</td><td>44.571243</td><td>50.888767</td><td>56.411247</td><td>15.378283</td><td>14.3577795</td><td>13.665737</td><td>15.277042</td><td>14.263303</td><td>13.620374</td><td>15.212705</td><td>14.207908</td><td>13.586886</td><td>15.177601</td><td>14.170899</td><td>13.565661</td><td>15.144904</td><td>14.135565</td><td>13.546063</td><td>15.118075</td><td>14.108305</td><td>13.528171</td><td>15.095903</td><td>14.08959</td><td>13.514712</td><td>15.077272</td><td>14.071617</td><td>13.503589</td><td>15.064306</td><td>14.061757</td><td>13.50056</td><td>0.14993039</td><td>0.18158807</td><td>0.18825479</td><td>0.22639686</td><td>0.24359083</td><td>0.24287476</td><td>0.23499858</td><td>0.34557027</td><td>0.32119325</td><td>0.023190737</td><td>0.020619955</td><td>0.02711046</td><td>0.021607935</td><td>0.019364513</td><td>0.026131935</td><td>0.020621898</td><td>0.018606326</td><td>0.02540204</td><td>0.020023214</td><td>0.018049074</td><td>0.024948375</td><td>0.019484583</td><td>0.017537842</td><td>0.024526162</td><td>0.019048229</td><td>0.017155945</td><td>0.024136491</td><td>0.018682567</td><td>0.016877254</td><td>0.023848789</td><td>0.018375177</td><td>0.016610518</td><td>0.023612779</td><td>0.01815413</td><td>0.016440732</td><td>0.023553774</td><td>15.02493</td><td>18027.455</td><td>7.982429e-05</td><td>2.0297074</td><td>0.24238399</td><td>14.017664</td><td>12811.115</td><td>0.00010316957</td><td>1.9570801</td><td>0.056902446</td><td>13.471971</td><td>0.36119577</td><td>3.1486363</td><td>2.1401784</td><td>0.019810589</td><td>0</td><td>-1.0</td><td>-1.0</td><td>-1.0</td><td>-1</td><td>35.841</td><td>0.152</td><td>-1.0</td><td>-1.0</td><td>-1.0</td><td>-1.0</td><td>-1.0</td><td>-1.0</td><td>-1.0</td><td>-1.0</td><td>-1.0</td><td>-1</td><td>-1.0</td><td>-1</td><td>LOSS_Ganeshalingam13_SN1</td><td>0.16271341</td></tr>\n",
       "<tr><td>TFT</td><td>464075</td><td>1084254431739904</td><td>242.492164247918</td><td>43.1225394778083</td><td>0</td><td>334</td><td>242.492201894302</td><td>43.1225512964867</td><td>0.567282617699403</td><td>0.000146986310433262</td><td>GALAXY</td><td>9.85052530281246</td><td>0</td><td>SGA-2020 464075</td><td>UGC10244</td><td>57341</td><td>242.48108100000002</td><td>43.1290549</td><td>Sbc</td><td>128.96</td><td>1.0423175</td><td>0.3019952</td><td>0.03288008</td><td>24.129482</td><td>15.411</td><td>False</td><td>LEDA-20181114</td><td>169351</td><td>UGC10244</td><td>1</td><td>True</td><td>242.48108100000002</td><td>43.1290549</td><td>1.0423175</td><td>2424p432</td><td>242.48098745213719</td><td>43.12912634553939</td><td>1.8803749</td><td>SB26</td><td>128.77156</td><td>0.25576675</td><td>242.48074521025828</td><td>43.12920524001464</td><td>33.333332</td><td>13.762432</td><td>13.33429</td><td>6.869408</td><td>20.062359</td><td>23.480825</td><td>26.841143</td><td>30.275038</td><td>34.482098</td><td>39.361794</td><td>44.571243</td><td>50.888767</td><td>56.411247</td><td>15.378283</td><td>14.3577795</td><td>13.665737</td><td>15.277042</td><td>14.263303</td><td>13.620374</td><td>15.212705</td><td>14.207908</td><td>13.586886</td><td>15.177601</td><td>14.170899</td><td>13.565661</td><td>15.144904</td><td>14.135565</td><td>13.546063</td><td>15.118075</td><td>14.108305</td><td>13.528171</td><td>15.095903</td><td>14.08959</td><td>13.514712</td><td>15.077272</td><td>14.071617</td><td>13.503589</td><td>15.064306</td><td>14.061757</td><td>13.50056</td><td>0.14993039</td><td>0.18158807</td><td>0.18825479</td><td>0.22639686</td><td>0.24359083</td><td>0.24287476</td><td>0.23499858</td><td>0.34557027</td><td>0.32119325</td><td>0.023190737</td><td>0.020619955</td><td>0.02711046</td><td>0.021607935</td><td>0.019364513</td><td>0.026131935</td><td>0.020621898</td><td>0.018606326</td><td>0.02540204</td><td>0.020023214</td><td>0.018049074</td><td>0.024948375</td><td>0.019484583</td><td>0.017537842</td><td>0.024526162</td><td>0.019048229</td><td>0.017155945</td><td>0.024136491</td><td>0.018682567</td><td>0.016877254</td><td>0.023848789</td><td>0.018375177</td><td>0.016610518</td><td>0.023612779</td><td>0.01815413</td><td>0.016440732</td><td>0.023553774</td><td>15.02493</td><td>18027.455</td><td>7.982429e-05</td><td>2.0297074</td><td>0.24238399</td><td>14.017664</td><td>12811.115</td><td>0.00010316957</td><td>1.9570801</td><td>0.056902446</td><td>13.471971</td><td>0.36119577</td><td>3.1486363</td><td>2.1401784</td><td>0.019810589</td><td>0</td><td>-1.0</td><td>-1.0</td><td>-1.0</td><td>-1</td><td>35.35</td><td>0.16</td><td>-1.0</td><td>-1.0</td><td>-1.0</td><td>-1.0</td><td>-1.0</td><td>-1.0</td><td>-1.0</td><td>-1.0</td><td>-1.0</td><td>-1</td><td>-1.0</td><td>-1</td><td>Union2_SNI</td><td>0.16271341</td></tr>\n",
       "<tr><td>TFT</td><td>464075</td><td>1084254431739904</td><td>242.492164247918</td><td>43.1225394778083</td><td>0</td><td>334</td><td>242.492201894302</td><td>43.1225512964867</td><td>0.567282617699403</td><td>0.000146986310433262</td><td>GALAXY</td><td>9.85052530281246</td><td>0</td><td>SGA-2020 464075</td><td>UGC10244</td><td>57341</td><td>242.48108100000002</td><td>43.1290549</td><td>Sbc</td><td>128.96</td><td>1.0423175</td><td>0.3019952</td><td>0.03288008</td><td>24.129482</td><td>15.411</td><td>False</td><td>LEDA-20181114</td><td>169351</td><td>UGC10244</td><td>1</td><td>True</td><td>242.48108100000002</td><td>43.1290549</td><td>1.0423175</td><td>2424p432</td><td>242.48098745213719</td><td>43.12912634553939</td><td>1.8803749</td><td>SB26</td><td>128.77156</td><td>0.25576675</td><td>242.48074521025828</td><td>43.12920524001464</td><td>33.333332</td><td>13.762432</td><td>13.33429</td><td>6.869408</td><td>20.062359</td><td>23.480825</td><td>26.841143</td><td>30.275038</td><td>34.482098</td><td>39.361794</td><td>44.571243</td><td>50.888767</td><td>56.411247</td><td>15.378283</td><td>14.3577795</td><td>13.665737</td><td>15.277042</td><td>14.263303</td><td>13.620374</td><td>15.212705</td><td>14.207908</td><td>13.586886</td><td>15.177601</td><td>14.170899</td><td>13.565661</td><td>15.144904</td><td>14.135565</td><td>13.546063</td><td>15.118075</td><td>14.108305</td><td>13.528171</td><td>15.095903</td><td>14.08959</td><td>13.514712</td><td>15.077272</td><td>14.071617</td><td>13.503589</td><td>15.064306</td><td>14.061757</td><td>13.50056</td><td>0.14993039</td><td>0.18158807</td><td>0.18825479</td><td>0.22639686</td><td>0.24359083</td><td>0.24287476</td><td>0.23499858</td><td>0.34557027</td><td>0.32119325</td><td>0.023190737</td><td>0.020619955</td><td>0.02711046</td><td>0.021607935</td><td>0.019364513</td><td>0.026131935</td><td>0.020621898</td><td>0.018606326</td><td>0.02540204</td><td>0.020023214</td><td>0.018049074</td><td>0.024948375</td><td>0.019484583</td><td>0.017537842</td><td>0.024526162</td><td>0.019048229</td><td>0.017155945</td><td>0.024136491</td><td>0.018682567</td><td>0.016877254</td><td>0.023848789</td><td>0.018375177</td><td>0.016610518</td><td>0.023612779</td><td>0.01815413</td><td>0.016440732</td><td>0.023553774</td><td>15.02493</td><td>18027.455</td><td>7.982429e-05</td><td>2.0297074</td><td>0.24238399</td><td>14.017664</td><td>12811.115</td><td>0.00010316957</td><td>1.9570801</td><td>0.056902446</td><td>13.471971</td><td>0.36119577</td><td>3.1486363</td><td>2.1401784</td><td>0.019810589</td><td>0</td><td>-1.0</td><td>-1.0</td><td>-1.0</td><td>-1</td><td>35.9</td><td>0.0</td><td>35.34</td><td>35.34</td><td>35.35</td><td>0.16</td><td>0.0</td><td>0.0</td><td>0.0</td><td>0.0</td><td>35.33</td><td>0</td><td>0.0</td><td>0</td><td>5_Sources_SNI</td><td>0.16271341</td></tr>\n",
       "<tr><td>TFT</td><td>464075</td><td>1084254431739904</td><td>242.492164247918</td><td>43.1225394778083</td><td>0</td><td>334</td><td>242.492201894302</td><td>43.1225512964867</td><td>0.567282617699403</td><td>0.000146986310433262</td><td>GALAXY</td><td>9.85052530281246</td><td>0</td><td>SGA-2020 464075</td><td>UGC10244</td><td>57341</td><td>242.48108100000002</td><td>43.1290549</td><td>Sbc</td><td>128.96</td><td>1.0423175</td><td>0.3019952</td><td>0.03288008</td><td>24.129482</td><td>15.411</td><td>False</td><td>LEDA-20181114</td><td>169351</td><td>UGC10244</td><td>1</td><td>True</td><td>242.48108100000002</td><td>43.1290549</td><td>1.0423175</td><td>2424p432</td><td>242.48098745213719</td><td>43.12912634553939</td><td>1.8803749</td><td>SB26</td><td>128.77156</td><td>0.25576675</td><td>242.48074521025828</td><td>43.12920524001464</td><td>33.333332</td><td>13.762432</td><td>13.33429</td><td>6.869408</td><td>20.062359</td><td>23.480825</td><td>26.841143</td><td>30.275038</td><td>34.482098</td><td>39.361794</td><td>44.571243</td><td>50.888767</td><td>56.411247</td><td>15.378283</td><td>14.3577795</td><td>13.665737</td><td>15.277042</td><td>14.263303</td><td>13.620374</td><td>15.212705</td><td>14.207908</td><td>13.586886</td><td>15.177601</td><td>14.170899</td><td>13.565661</td><td>15.144904</td><td>14.135565</td><td>13.546063</td><td>15.118075</td><td>14.108305</td><td>13.528171</td><td>15.095903</td><td>14.08959</td><td>13.514712</td><td>15.077272</td><td>14.071617</td><td>13.503589</td><td>15.064306</td><td>14.061757</td><td>13.50056</td><td>0.14993039</td><td>0.18158807</td><td>0.18825479</td><td>0.22639686</td><td>0.24359083</td><td>0.24287476</td><td>0.23499858</td><td>0.34557027</td><td>0.32119325</td><td>0.023190737</td><td>0.020619955</td><td>0.02711046</td><td>0.021607935</td><td>0.019364513</td><td>0.026131935</td><td>0.020621898</td><td>0.018606326</td><td>0.02540204</td><td>0.020023214</td><td>0.018049074</td><td>0.024948375</td><td>0.019484583</td><td>0.017537842</td><td>0.024526162</td><td>0.019048229</td><td>0.017155945</td><td>0.024136491</td><td>0.018682567</td><td>0.016877254</td><td>0.023848789</td><td>0.018375177</td><td>0.016610518</td><td>0.023612779</td><td>0.01815413</td><td>0.016440732</td><td>0.023553774</td><td>15.02493</td><td>18027.455</td><td>7.982429e-05</td><td>2.0297074</td><td>0.24238399</td><td>14.017664</td><td>12811.115</td><td>0.00010316957</td><td>1.9570801</td><td>0.056902446</td><td>13.471971</td><td>0.36119577</td><td>3.1486363</td><td>2.1401784</td><td>0.019810589</td><td>0</td><td>-1.0</td><td>-1.0</td><td>-1.0</td><td>-1</td><td>36.209</td><td>0.163</td><td>36.225</td><td>0.182</td><td>35.777</td><td>0.156</td><td>36.194</td><td>0.143</td><td>-1.0</td><td>-1.0</td><td>-1.0</td><td>-1</td><td>-1.0</td><td>-1</td><td>Constitution_SNI</td><td>0.16271341</td></tr>\n",
       "<tr><td>TFT</td><td>464075</td><td>1084254431739904</td><td>242.492237005464</td><td>43.1226147691941</td><td>0</td><td>478</td><td>242.492201894302</td><td>43.1225512964867</td><td>0.567282617699403</td><td>0.000146986310433262</td><td>GALAXY</td><td>9.85052530281246</td><td>0</td><td>SGA-2020 464075</td><td>UGC10244</td><td>57341</td><td>242.48108100000002</td><td>43.1290549</td><td>Sbc</td><td>128.96</td><td>1.0423175</td><td>0.3019952</td><td>0.03288008</td><td>24.129482</td><td>15.411</td><td>False</td><td>LEDA-20181114</td><td>169351</td><td>UGC10244</td><td>1</td><td>True</td><td>242.48108100000002</td><td>43.1290549</td><td>1.0423175</td><td>2424p432</td><td>242.48098745213719</td><td>43.12912634553939</td><td>1.8803749</td><td>SB26</td><td>128.77156</td><td>0.25576675</td><td>242.48074521025828</td><td>43.12920524001464</td><td>33.333332</td><td>13.762432</td><td>13.33429</td><td>6.869408</td><td>20.062359</td><td>23.480825</td><td>26.841143</td><td>30.275038</td><td>34.482098</td><td>39.361794</td><td>44.571243</td><td>50.888767</td><td>56.411247</td><td>15.378283</td><td>14.3577795</td><td>13.665737</td><td>15.277042</td><td>14.263303</td><td>13.620374</td><td>15.212705</td><td>14.207908</td><td>13.586886</td><td>15.177601</td><td>14.170899</td><td>13.565661</td><td>15.144904</td><td>14.135565</td><td>13.546063</td><td>15.118075</td><td>14.108305</td><td>13.528171</td><td>15.095903</td><td>14.08959</td><td>13.514712</td><td>15.077272</td><td>14.071617</td><td>13.503589</td><td>15.064306</td><td>14.061757</td><td>13.50056</td><td>0.14993039</td><td>0.18158807</td><td>0.18825479</td><td>0.22639686</td><td>0.24359083</td><td>0.24287476</td><td>0.23499858</td><td>0.34557027</td><td>0.32119325</td><td>0.023190737</td><td>0.020619955</td><td>0.02711046</td><td>0.021607935</td><td>0.019364513</td><td>0.026131935</td><td>0.020621898</td><td>0.018606326</td><td>0.02540204</td><td>0.020023214</td><td>0.018049074</td><td>0.024948375</td><td>0.019484583</td><td>0.017537842</td><td>0.024526162</td><td>0.019048229</td><td>0.017155945</td><td>0.024136491</td><td>0.018682567</td><td>0.016877254</td><td>0.023848789</td><td>0.018375177</td><td>0.016610518</td><td>0.023612779</td><td>0.01815413</td><td>0.016440732</td><td>0.023553774</td><td>15.02493</td><td>18027.455</td><td>7.982429e-05</td><td>2.0297074</td><td>0.24238399</td><td>14.017664</td><td>12811.115</td><td>0.00010316957</td><td>1.9570801</td><td>0.056902446</td><td>13.471971</td><td>0.36119577</td><td>3.1486363</td><td>2.1401784</td><td>0.019810589</td><td>0</td><td>-1.0</td><td>-1.0</td><td>-1.0</td><td>-1</td><td>35.56</td><td>0.16</td><td>-1.0</td><td>-1.0</td><td>-1.0</td><td>-1.0</td><td>-1.0</td><td>-1.0</td><td>-1.0</td><td>-1.0</td><td>-1.0</td><td>-1</td><td>-1.0</td><td>-1</td><td>Stahl_SNI</td><td>0.16271341</td></tr>\n",
       "<tr><td>TFT</td><td>464075</td><td>1084254431739904</td><td>242.492237005464</td><td>43.1226147691941</td><td>0</td><td>478</td><td>242.492201894302</td><td>43.1225512964867</td><td>0.567282617699403</td><td>0.000146986310433262</td><td>GALAXY</td><td>9.85052530281246</td><td>0</td><td>SGA-2020 464075</td><td>UGC10244</td><td>57341</td><td>242.48108100000002</td><td>43.1290549</td><td>Sbc</td><td>128.96</td><td>1.0423175</td><td>0.3019952</td><td>0.03288008</td><td>24.129482</td><td>15.411</td><td>False</td><td>LEDA-20181114</td><td>169351</td><td>UGC10244</td><td>1</td><td>True</td><td>242.48108100000002</td><td>43.1290549</td><td>1.0423175</td><td>2424p432</td><td>242.48098745213719</td><td>43.12912634553939</td><td>1.8803749</td><td>SB26</td><td>128.77156</td><td>0.25576675</td><td>242.48074521025828</td><td>43.12920524001464</td><td>33.333332</td><td>13.762432</td><td>13.33429</td><td>6.869408</td><td>20.062359</td><td>23.480825</td><td>26.841143</td><td>30.275038</td><td>34.482098</td><td>39.361794</td><td>44.571243</td><td>50.888767</td><td>56.411247</td><td>15.378283</td><td>14.3577795</td><td>13.665737</td><td>15.277042</td><td>14.263303</td><td>13.620374</td><td>15.212705</td><td>14.207908</td><td>13.586886</td><td>15.177601</td><td>14.170899</td><td>13.565661</td><td>15.144904</td><td>14.135565</td><td>13.546063</td><td>15.118075</td><td>14.108305</td><td>13.528171</td><td>15.095903</td><td>14.08959</td><td>13.514712</td><td>15.077272</td><td>14.071617</td><td>13.503589</td><td>15.064306</td><td>14.061757</td><td>13.50056</td><td>0.14993039</td><td>0.18158807</td><td>0.18825479</td><td>0.22639686</td><td>0.24359083</td><td>0.24287476</td><td>0.23499858</td><td>0.34557027</td><td>0.32119325</td><td>0.023190737</td><td>0.020619955</td><td>0.02711046</td><td>0.021607935</td><td>0.019364513</td><td>0.026131935</td><td>0.020621898</td><td>0.018606326</td><td>0.02540204</td><td>0.020023214</td><td>0.018049074</td><td>0.024948375</td><td>0.019484583</td><td>0.017537842</td><td>0.024526162</td><td>0.019048229</td><td>0.017155945</td><td>0.024136491</td><td>0.018682567</td><td>0.016877254</td><td>0.023848789</td><td>0.018375177</td><td>0.016610518</td><td>0.023612779</td><td>0.01815413</td><td>0.016440732</td><td>0.023553774</td><td>15.02493</td><td>18027.455</td><td>7.982429e-05</td><td>2.0297074</td><td>0.24238399</td><td>14.017664</td><td>12811.115</td><td>0.00010316957</td><td>1.9570801</td><td>0.056902446</td><td>13.471971</td><td>0.36119577</td><td>3.1486363</td><td>2.1401784</td><td>0.019810589</td><td>0</td><td>-1.0</td><td>-1.0</td><td>-1.0</td><td>-1</td><td>35.841</td><td>0.152</td><td>-1.0</td><td>-1.0</td><td>-1.0</td><td>-1.0</td><td>-1.0</td><td>-1.0</td><td>-1.0</td><td>-1.0</td><td>-1.0</td><td>-1</td><td>-1.0</td><td>-1</td><td>LOSS_Ganeshalingam13_SN1</td><td>0.16271341</td></tr>\n",
       "<tr><td>TFT</td><td>464075</td><td>1084254431739904</td><td>242.492237005464</td><td>43.1226147691941</td><td>0</td><td>478</td><td>242.492201894302</td><td>43.1225512964867</td><td>0.567282617699403</td><td>0.000146986310433262</td><td>GALAXY</td><td>9.85052530281246</td><td>0</td><td>SGA-2020 464075</td><td>UGC10244</td><td>57341</td><td>242.48108100000002</td><td>43.1290549</td><td>Sbc</td><td>128.96</td><td>1.0423175</td><td>0.3019952</td><td>0.03288008</td><td>24.129482</td><td>15.411</td><td>False</td><td>LEDA-20181114</td><td>169351</td><td>UGC10244</td><td>1</td><td>True</td><td>242.48108100000002</td><td>43.1290549</td><td>1.0423175</td><td>2424p432</td><td>242.48098745213719</td><td>43.12912634553939</td><td>1.8803749</td><td>SB26</td><td>128.77156</td><td>0.25576675</td><td>242.48074521025828</td><td>43.12920524001464</td><td>33.333332</td><td>13.762432</td><td>13.33429</td><td>6.869408</td><td>20.062359</td><td>23.480825</td><td>26.841143</td><td>30.275038</td><td>34.482098</td><td>39.361794</td><td>44.571243</td><td>50.888767</td><td>56.411247</td><td>15.378283</td><td>14.3577795</td><td>13.665737</td><td>15.277042</td><td>14.263303</td><td>13.620374</td><td>15.212705</td><td>14.207908</td><td>13.586886</td><td>15.177601</td><td>14.170899</td><td>13.565661</td><td>15.144904</td><td>14.135565</td><td>13.546063</td><td>15.118075</td><td>14.108305</td><td>13.528171</td><td>15.095903</td><td>14.08959</td><td>13.514712</td><td>15.077272</td><td>14.071617</td><td>13.503589</td><td>15.064306</td><td>14.061757</td><td>13.50056</td><td>0.14993039</td><td>0.18158807</td><td>0.18825479</td><td>0.22639686</td><td>0.24359083</td><td>0.24287476</td><td>0.23499858</td><td>0.34557027</td><td>0.32119325</td><td>0.023190737</td><td>0.020619955</td><td>0.02711046</td><td>0.021607935</td><td>0.019364513</td><td>0.026131935</td><td>0.020621898</td><td>0.018606326</td><td>0.02540204</td><td>0.020023214</td><td>0.018049074</td><td>0.024948375</td><td>0.019484583</td><td>0.017537842</td><td>0.024526162</td><td>0.019048229</td><td>0.017155945</td><td>0.024136491</td><td>0.018682567</td><td>0.016877254</td><td>0.023848789</td><td>0.018375177</td><td>0.016610518</td><td>0.023612779</td><td>0.01815413</td><td>0.016440732</td><td>0.023553774</td><td>15.02493</td><td>18027.455</td><td>7.982429e-05</td><td>2.0297074</td><td>0.24238399</td><td>14.017664</td><td>12811.115</td><td>0.00010316957</td><td>1.9570801</td><td>0.056902446</td><td>13.471971</td><td>0.36119577</td><td>3.1486363</td><td>2.1401784</td><td>0.019810589</td><td>0</td><td>-1.0</td><td>-1.0</td><td>-1.0</td><td>-1</td><td>35.35</td><td>0.16</td><td>-1.0</td><td>-1.0</td><td>-1.0</td><td>-1.0</td><td>-1.0</td><td>-1.0</td><td>-1.0</td><td>-1.0</td><td>-1.0</td><td>-1</td><td>-1.0</td><td>-1</td><td>Union2_SNI</td><td>0.16271341</td></tr>\n",
       "<tr><td>TFT</td><td>464075</td><td>1084254431739904</td><td>242.492237005464</td><td>43.1226147691941</td><td>0</td><td>478</td><td>242.492201894302</td><td>43.1225512964867</td><td>0.567282617699403</td><td>0.000146986310433262</td><td>GALAXY</td><td>9.85052530281246</td><td>0</td><td>SGA-2020 464075</td><td>UGC10244</td><td>57341</td><td>242.48108100000002</td><td>43.1290549</td><td>Sbc</td><td>128.96</td><td>1.0423175</td><td>0.3019952</td><td>0.03288008</td><td>24.129482</td><td>15.411</td><td>False</td><td>LEDA-20181114</td><td>169351</td><td>UGC10244</td><td>1</td><td>True</td><td>242.48108100000002</td><td>43.1290549</td><td>1.0423175</td><td>2424p432</td><td>242.48098745213719</td><td>43.12912634553939</td><td>1.8803749</td><td>SB26</td><td>128.77156</td><td>0.25576675</td><td>242.48074521025828</td><td>43.12920524001464</td><td>33.333332</td><td>13.762432</td><td>13.33429</td><td>6.869408</td><td>20.062359</td><td>23.480825</td><td>26.841143</td><td>30.275038</td><td>34.482098</td><td>39.361794</td><td>44.571243</td><td>50.888767</td><td>56.411247</td><td>15.378283</td><td>14.3577795</td><td>13.665737</td><td>15.277042</td><td>14.263303</td><td>13.620374</td><td>15.212705</td><td>14.207908</td><td>13.586886</td><td>15.177601</td><td>14.170899</td><td>13.565661</td><td>15.144904</td><td>14.135565</td><td>13.546063</td><td>15.118075</td><td>14.108305</td><td>13.528171</td><td>15.095903</td><td>14.08959</td><td>13.514712</td><td>15.077272</td><td>14.071617</td><td>13.503589</td><td>15.064306</td><td>14.061757</td><td>13.50056</td><td>0.14993039</td><td>0.18158807</td><td>0.18825479</td><td>0.22639686</td><td>0.24359083</td><td>0.24287476</td><td>0.23499858</td><td>0.34557027</td><td>0.32119325</td><td>0.023190737</td><td>0.020619955</td><td>0.02711046</td><td>0.021607935</td><td>0.019364513</td><td>0.026131935</td><td>0.020621898</td><td>0.018606326</td><td>0.02540204</td><td>0.020023214</td><td>0.018049074</td><td>0.024948375</td><td>0.019484583</td><td>0.017537842</td><td>0.024526162</td><td>0.019048229</td><td>0.017155945</td><td>0.024136491</td><td>0.018682567</td><td>0.016877254</td><td>0.023848789</td><td>0.018375177</td><td>0.016610518</td><td>0.023612779</td><td>0.01815413</td><td>0.016440732</td><td>0.023553774</td><td>15.02493</td><td>18027.455</td><td>7.982429e-05</td><td>2.0297074</td><td>0.24238399</td><td>14.017664</td><td>12811.115</td><td>0.00010316957</td><td>1.9570801</td><td>0.056902446</td><td>13.471971</td><td>0.36119577</td><td>3.1486363</td><td>2.1401784</td><td>0.019810589</td><td>0</td><td>-1.0</td><td>-1.0</td><td>-1.0</td><td>-1</td><td>35.9</td><td>0.0</td><td>35.34</td><td>35.34</td><td>35.35</td><td>0.16</td><td>0.0</td><td>0.0</td><td>0.0</td><td>0.0</td><td>35.33</td><td>0</td><td>0.0</td><td>0</td><td>5_Sources_SNI</td><td>0.16271341</td></tr>\n",
       "<tr><td>TFT</td><td>464075</td><td>1084254431739904</td><td>242.492237005464</td><td>43.1226147691941</td><td>0</td><td>478</td><td>242.492201894302</td><td>43.1225512964867</td><td>0.567282617699403</td><td>0.000146986310433262</td><td>GALAXY</td><td>9.85052530281246</td><td>0</td><td>SGA-2020 464075</td><td>UGC10244</td><td>57341</td><td>242.48108100000002</td><td>43.1290549</td><td>Sbc</td><td>128.96</td><td>1.0423175</td><td>0.3019952</td><td>0.03288008</td><td>24.129482</td><td>15.411</td><td>False</td><td>LEDA-20181114</td><td>169351</td><td>UGC10244</td><td>1</td><td>True</td><td>242.48108100000002</td><td>43.1290549</td><td>1.0423175</td><td>2424p432</td><td>242.48098745213719</td><td>43.12912634553939</td><td>1.8803749</td><td>SB26</td><td>128.77156</td><td>0.25576675</td><td>242.48074521025828</td><td>43.12920524001464</td><td>33.333332</td><td>13.762432</td><td>13.33429</td><td>6.869408</td><td>20.062359</td><td>23.480825</td><td>26.841143</td><td>30.275038</td><td>34.482098</td><td>39.361794</td><td>44.571243</td><td>50.888767</td><td>56.411247</td><td>15.378283</td><td>14.3577795</td><td>13.665737</td><td>15.277042</td><td>14.263303</td><td>13.620374</td><td>15.212705</td><td>14.207908</td><td>13.586886</td><td>15.177601</td><td>14.170899</td><td>13.565661</td><td>15.144904</td><td>14.135565</td><td>13.546063</td><td>15.118075</td><td>14.108305</td><td>13.528171</td><td>15.095903</td><td>14.08959</td><td>13.514712</td><td>15.077272</td><td>14.071617</td><td>13.503589</td><td>15.064306</td><td>14.061757</td><td>13.50056</td><td>0.14993039</td><td>0.18158807</td><td>0.18825479</td><td>0.22639686</td><td>0.24359083</td><td>0.24287476</td><td>0.23499858</td><td>0.34557027</td><td>0.32119325</td><td>0.023190737</td><td>0.020619955</td><td>0.02711046</td><td>0.021607935</td><td>0.019364513</td><td>0.026131935</td><td>0.020621898</td><td>0.018606326</td><td>0.02540204</td><td>0.020023214</td><td>0.018049074</td><td>0.024948375</td><td>0.019484583</td><td>0.017537842</td><td>0.024526162</td><td>0.019048229</td><td>0.017155945</td><td>0.024136491</td><td>0.018682567</td><td>0.016877254</td><td>0.023848789</td><td>0.018375177</td><td>0.016610518</td><td>0.023612779</td><td>0.01815413</td><td>0.016440732</td><td>0.023553774</td><td>15.02493</td><td>18027.455</td><td>7.982429e-05</td><td>2.0297074</td><td>0.24238399</td><td>14.017664</td><td>12811.115</td><td>0.00010316957</td><td>1.9570801</td><td>0.056902446</td><td>13.471971</td><td>0.36119577</td><td>3.1486363</td><td>2.1401784</td><td>0.019810589</td><td>0</td><td>-1.0</td><td>-1.0</td><td>-1.0</td><td>-1</td><td>36.209</td><td>0.163</td><td>36.225</td><td>0.182</td><td>35.777</td><td>0.156</td><td>36.194</td><td>0.143</td><td>-1.0</td><td>-1.0</td><td>-1.0</td><td>-1</td><td>-1.0</td><td>-1</td><td>Constitution_SNI</td><td>0.16271341</td></tr>\n",
       "<tr><td>...</td><td>...</td><td>...</td><td>...</td><td>...</td><td>...</td><td>...</td><td>...</td><td>...</td><td>...</td><td>...</td><td>...</td><td>...</td><td>...</td><td>...</td><td>...</td><td>...</td><td>...</td><td>...</td><td>...</td><td>...</td><td>...</td><td>...</td><td>...</td><td>...</td><td>...</td><td>...</td><td>...</td><td>...</td><td>...</td><td>...</td><td>...</td><td>...</td><td>...</td><td>...</td><td>...</td><td>...</td><td>...</td><td>...</td><td>...</td><td>...</td><td>...</td><td>...</td><td>...</td><td>...</td><td>...</td><td>...</td><td>...</td><td>...</td><td>...</td><td>...</td><td>...</td><td>...</td><td>...</td><td>...</td><td>...</td><td>...</td><td>...</td><td>...</td><td>...</td><td>...</td><td>...</td><td>...</td><td>...</td><td>...</td><td>...</td><td>...</td><td>...</td><td>...</td><td>...</td><td>...</td><td>...</td><td>...</td><td>...</td><td>...</td><td>...</td><td>...</td><td>...</td><td>...</td><td>...</td><td>...</td><td>...</td><td>...</td><td>...</td><td>...</td><td>...</td><td>...</td><td>...</td><td>...</td><td>...</td><td>...</td><td>...</td><td>...</td><td>...</td><td>...</td><td>...</td><td>...</td><td>...</td><td>...</td><td>...</td><td>...</td><td>...</td><td>...</td><td>...</td><td>...</td><td>...</td><td>...</td><td>...</td><td>...</td><td>...</td><td>...</td><td>...</td><td>...</td><td>...</td><td>...</td><td>...</td><td>...</td><td>...</td><td>...</td><td>...</td><td>...</td><td>...</td><td>...</td><td>...</td><td>...</td><td>...</td><td>...</td><td>...</td><td>...</td><td>...</td><td>...</td><td>...</td><td>...</td><td>...</td><td>...</td><td>...</td><td>...</td><td>...</td><td>...</td><td>...</td><td>...</td><td>...</td><td>...</td><td>...</td><td>...</td><td>...</td><td>...</td><td>...</td><td>...</td><td>...</td><td>...</td><td>...</td><td>...</td><td>...</td><td>...</td><td>...</td></tr>\n",
       "<tr><td>TFT</td><td>464075</td><td>1071060292206593</td><td>242.497839922343</td><td>43.1193641742792</td><td>0</td><td>341</td><td>242.497724539492</td><td>43.1193124370116</td><td>0.468808449555954</td><td>6.0913449460786e-05</td><td>GALAXY</td><td>4.28276547044516</td><td>4</td><td>SGA-2020 464075</td><td>UGC10244</td><td>57341</td><td>242.48108100000002</td><td>43.1290549</td><td>Sbc</td><td>128.96</td><td>1.0423175</td><td>0.3019952</td><td>0.03288008</td><td>24.129482</td><td>15.411</td><td>False</td><td>LEDA-20181114</td><td>169351</td><td>UGC10244</td><td>1</td><td>True</td><td>242.48108100000002</td><td>43.1290549</td><td>1.0423175</td><td>2424p432</td><td>242.48098745213719</td><td>43.12912634553939</td><td>1.8803749</td><td>SB26</td><td>128.77156</td><td>0.25576675</td><td>242.48074521025828</td><td>43.12920524001464</td><td>33.333332</td><td>13.762432</td><td>13.33429</td><td>6.869408</td><td>20.062359</td><td>23.480825</td><td>26.841143</td><td>30.275038</td><td>34.482098</td><td>39.361794</td><td>44.571243</td><td>50.888767</td><td>56.411247</td><td>15.378283</td><td>14.3577795</td><td>13.665737</td><td>15.277042</td><td>14.263303</td><td>13.620374</td><td>15.212705</td><td>14.207908</td><td>13.586886</td><td>15.177601</td><td>14.170899</td><td>13.565661</td><td>15.144904</td><td>14.135565</td><td>13.546063</td><td>15.118075</td><td>14.108305</td><td>13.528171</td><td>15.095903</td><td>14.08959</td><td>13.514712</td><td>15.077272</td><td>14.071617</td><td>13.503589</td><td>15.064306</td><td>14.061757</td><td>13.50056</td><td>0.14993039</td><td>0.18158807</td><td>0.18825479</td><td>0.22639686</td><td>0.24359083</td><td>0.24287476</td><td>0.23499858</td><td>0.34557027</td><td>0.32119325</td><td>0.023190737</td><td>0.020619955</td><td>0.02711046</td><td>0.021607935</td><td>0.019364513</td><td>0.026131935</td><td>0.020621898</td><td>0.018606326</td><td>0.02540204</td><td>0.020023214</td><td>0.018049074</td><td>0.024948375</td><td>0.019484583</td><td>0.017537842</td><td>0.024526162</td><td>0.019048229</td><td>0.017155945</td><td>0.024136491</td><td>0.018682567</td><td>0.016877254</td><td>0.023848789</td><td>0.018375177</td><td>0.016610518</td><td>0.023612779</td><td>0.01815413</td><td>0.016440732</td><td>0.023553774</td><td>15.02493</td><td>18027.455</td><td>7.982429e-05</td><td>2.0297074</td><td>0.24238399</td><td>14.017664</td><td>12811.115</td><td>0.00010316957</td><td>1.9570801</td><td>0.056902446</td><td>13.471971</td><td>0.36119577</td><td>3.1486363</td><td>2.1401784</td><td>0.019810589</td><td>0</td><td>-1.0</td><td>-1.0</td><td>-1.0</td><td>-1</td><td>35.56</td><td>0.16</td><td>-1.0</td><td>-1.0</td><td>-1.0</td><td>-1.0</td><td>-1.0</td><td>-1.0</td><td>-1.0</td><td>-1.0</td><td>-1.0</td><td>-1</td><td>-1.0</td><td>-1</td><td>Stahl_SNI</td><td>0.16271341</td></tr>\n",
       "<tr><td>TFT</td><td>464075</td><td>1071060292206593</td><td>242.497839922343</td><td>43.1193641742792</td><td>0</td><td>341</td><td>242.497724539492</td><td>43.1193124370116</td><td>0.468808449555954</td><td>6.0913449460786e-05</td><td>GALAXY</td><td>4.28276547044516</td><td>4</td><td>SGA-2020 464075</td><td>UGC10244</td><td>57341</td><td>242.48108100000002</td><td>43.1290549</td><td>Sbc</td><td>128.96</td><td>1.0423175</td><td>0.3019952</td><td>0.03288008</td><td>24.129482</td><td>15.411</td><td>False</td><td>LEDA-20181114</td><td>169351</td><td>UGC10244</td><td>1</td><td>True</td><td>242.48108100000002</td><td>43.1290549</td><td>1.0423175</td><td>2424p432</td><td>242.48098745213719</td><td>43.12912634553939</td><td>1.8803749</td><td>SB26</td><td>128.77156</td><td>0.25576675</td><td>242.48074521025828</td><td>43.12920524001464</td><td>33.333332</td><td>13.762432</td><td>13.33429</td><td>6.869408</td><td>20.062359</td><td>23.480825</td><td>26.841143</td><td>30.275038</td><td>34.482098</td><td>39.361794</td><td>44.571243</td><td>50.888767</td><td>56.411247</td><td>15.378283</td><td>14.3577795</td><td>13.665737</td><td>15.277042</td><td>14.263303</td><td>13.620374</td><td>15.212705</td><td>14.207908</td><td>13.586886</td><td>15.177601</td><td>14.170899</td><td>13.565661</td><td>15.144904</td><td>14.135565</td><td>13.546063</td><td>15.118075</td><td>14.108305</td><td>13.528171</td><td>15.095903</td><td>14.08959</td><td>13.514712</td><td>15.077272</td><td>14.071617</td><td>13.503589</td><td>15.064306</td><td>14.061757</td><td>13.50056</td><td>0.14993039</td><td>0.18158807</td><td>0.18825479</td><td>0.22639686</td><td>0.24359083</td><td>0.24287476</td><td>0.23499858</td><td>0.34557027</td><td>0.32119325</td><td>0.023190737</td><td>0.020619955</td><td>0.02711046</td><td>0.021607935</td><td>0.019364513</td><td>0.026131935</td><td>0.020621898</td><td>0.018606326</td><td>0.02540204</td><td>0.020023214</td><td>0.018049074</td><td>0.024948375</td><td>0.019484583</td><td>0.017537842</td><td>0.024526162</td><td>0.019048229</td><td>0.017155945</td><td>0.024136491</td><td>0.018682567</td><td>0.016877254</td><td>0.023848789</td><td>0.018375177</td><td>0.016610518</td><td>0.023612779</td><td>0.01815413</td><td>0.016440732</td><td>0.023553774</td><td>15.02493</td><td>18027.455</td><td>7.982429e-05</td><td>2.0297074</td><td>0.24238399</td><td>14.017664</td><td>12811.115</td><td>0.00010316957</td><td>1.9570801</td><td>0.056902446</td><td>13.471971</td><td>0.36119577</td><td>3.1486363</td><td>2.1401784</td><td>0.019810589</td><td>0</td><td>-1.0</td><td>-1.0</td><td>-1.0</td><td>-1</td><td>35.841</td><td>0.152</td><td>-1.0</td><td>-1.0</td><td>-1.0</td><td>-1.0</td><td>-1.0</td><td>-1.0</td><td>-1.0</td><td>-1.0</td><td>-1.0</td><td>-1</td><td>-1.0</td><td>-1</td><td>LOSS_Ganeshalingam13_SN1</td><td>0.16271341</td></tr>\n",
       "<tr><td>TFT</td><td>464075</td><td>1071060292206593</td><td>242.497839922343</td><td>43.1193641742792</td><td>0</td><td>341</td><td>242.497724539492</td><td>43.1193124370116</td><td>0.468808449555954</td><td>6.0913449460786e-05</td><td>GALAXY</td><td>4.28276547044516</td><td>4</td><td>SGA-2020 464075</td><td>UGC10244</td><td>57341</td><td>242.48108100000002</td><td>43.1290549</td><td>Sbc</td><td>128.96</td><td>1.0423175</td><td>0.3019952</td><td>0.03288008</td><td>24.129482</td><td>15.411</td><td>False</td><td>LEDA-20181114</td><td>169351</td><td>UGC10244</td><td>1</td><td>True</td><td>242.48108100000002</td><td>43.1290549</td><td>1.0423175</td><td>2424p432</td><td>242.48098745213719</td><td>43.12912634553939</td><td>1.8803749</td><td>SB26</td><td>128.77156</td><td>0.25576675</td><td>242.48074521025828</td><td>43.12920524001464</td><td>33.333332</td><td>13.762432</td><td>13.33429</td><td>6.869408</td><td>20.062359</td><td>23.480825</td><td>26.841143</td><td>30.275038</td><td>34.482098</td><td>39.361794</td><td>44.571243</td><td>50.888767</td><td>56.411247</td><td>15.378283</td><td>14.3577795</td><td>13.665737</td><td>15.277042</td><td>14.263303</td><td>13.620374</td><td>15.212705</td><td>14.207908</td><td>13.586886</td><td>15.177601</td><td>14.170899</td><td>13.565661</td><td>15.144904</td><td>14.135565</td><td>13.546063</td><td>15.118075</td><td>14.108305</td><td>13.528171</td><td>15.095903</td><td>14.08959</td><td>13.514712</td><td>15.077272</td><td>14.071617</td><td>13.503589</td><td>15.064306</td><td>14.061757</td><td>13.50056</td><td>0.14993039</td><td>0.18158807</td><td>0.18825479</td><td>0.22639686</td><td>0.24359083</td><td>0.24287476</td><td>0.23499858</td><td>0.34557027</td><td>0.32119325</td><td>0.023190737</td><td>0.020619955</td><td>0.02711046</td><td>0.021607935</td><td>0.019364513</td><td>0.026131935</td><td>0.020621898</td><td>0.018606326</td><td>0.02540204</td><td>0.020023214</td><td>0.018049074</td><td>0.024948375</td><td>0.019484583</td><td>0.017537842</td><td>0.024526162</td><td>0.019048229</td><td>0.017155945</td><td>0.024136491</td><td>0.018682567</td><td>0.016877254</td><td>0.023848789</td><td>0.018375177</td><td>0.016610518</td><td>0.023612779</td><td>0.01815413</td><td>0.016440732</td><td>0.023553774</td><td>15.02493</td><td>18027.455</td><td>7.982429e-05</td><td>2.0297074</td><td>0.24238399</td><td>14.017664</td><td>12811.115</td><td>0.00010316957</td><td>1.9570801</td><td>0.056902446</td><td>13.471971</td><td>0.36119577</td><td>3.1486363</td><td>2.1401784</td><td>0.019810589</td><td>0</td><td>-1.0</td><td>-1.0</td><td>-1.0</td><td>-1</td><td>35.35</td><td>0.16</td><td>-1.0</td><td>-1.0</td><td>-1.0</td><td>-1.0</td><td>-1.0</td><td>-1.0</td><td>-1.0</td><td>-1.0</td><td>-1.0</td><td>-1</td><td>-1.0</td><td>-1</td><td>Union2_SNI</td><td>0.16271341</td></tr>\n",
       "<tr><td>TFT</td><td>464075</td><td>1071060292206593</td><td>242.497839922343</td><td>43.1193641742792</td><td>0</td><td>341</td><td>242.497724539492</td><td>43.1193124370116</td><td>0.468808449555954</td><td>6.0913449460786e-05</td><td>GALAXY</td><td>4.28276547044516</td><td>4</td><td>SGA-2020 464075</td><td>UGC10244</td><td>57341</td><td>242.48108100000002</td><td>43.1290549</td><td>Sbc</td><td>128.96</td><td>1.0423175</td><td>0.3019952</td><td>0.03288008</td><td>24.129482</td><td>15.411</td><td>False</td><td>LEDA-20181114</td><td>169351</td><td>UGC10244</td><td>1</td><td>True</td><td>242.48108100000002</td><td>43.1290549</td><td>1.0423175</td><td>2424p432</td><td>242.48098745213719</td><td>43.12912634553939</td><td>1.8803749</td><td>SB26</td><td>128.77156</td><td>0.25576675</td><td>242.48074521025828</td><td>43.12920524001464</td><td>33.333332</td><td>13.762432</td><td>13.33429</td><td>6.869408</td><td>20.062359</td><td>23.480825</td><td>26.841143</td><td>30.275038</td><td>34.482098</td><td>39.361794</td><td>44.571243</td><td>50.888767</td><td>56.411247</td><td>15.378283</td><td>14.3577795</td><td>13.665737</td><td>15.277042</td><td>14.263303</td><td>13.620374</td><td>15.212705</td><td>14.207908</td><td>13.586886</td><td>15.177601</td><td>14.170899</td><td>13.565661</td><td>15.144904</td><td>14.135565</td><td>13.546063</td><td>15.118075</td><td>14.108305</td><td>13.528171</td><td>15.095903</td><td>14.08959</td><td>13.514712</td><td>15.077272</td><td>14.071617</td><td>13.503589</td><td>15.064306</td><td>14.061757</td><td>13.50056</td><td>0.14993039</td><td>0.18158807</td><td>0.18825479</td><td>0.22639686</td><td>0.24359083</td><td>0.24287476</td><td>0.23499858</td><td>0.34557027</td><td>0.32119325</td><td>0.023190737</td><td>0.020619955</td><td>0.02711046</td><td>0.021607935</td><td>0.019364513</td><td>0.026131935</td><td>0.020621898</td><td>0.018606326</td><td>0.02540204</td><td>0.020023214</td><td>0.018049074</td><td>0.024948375</td><td>0.019484583</td><td>0.017537842</td><td>0.024526162</td><td>0.019048229</td><td>0.017155945</td><td>0.024136491</td><td>0.018682567</td><td>0.016877254</td><td>0.023848789</td><td>0.018375177</td><td>0.016610518</td><td>0.023612779</td><td>0.01815413</td><td>0.016440732</td><td>0.023553774</td><td>15.02493</td><td>18027.455</td><td>7.982429e-05</td><td>2.0297074</td><td>0.24238399</td><td>14.017664</td><td>12811.115</td><td>0.00010316957</td><td>1.9570801</td><td>0.056902446</td><td>13.471971</td><td>0.36119577</td><td>3.1486363</td><td>2.1401784</td><td>0.019810589</td><td>0</td><td>-1.0</td><td>-1.0</td><td>-1.0</td><td>-1</td><td>35.9</td><td>0.0</td><td>35.34</td><td>35.34</td><td>35.35</td><td>0.16</td><td>0.0</td><td>0.0</td><td>0.0</td><td>0.0</td><td>35.33</td><td>0</td><td>0.0</td><td>0</td><td>5_Sources_SNI</td><td>0.16271341</td></tr>\n",
       "<tr><td>TFT</td><td>464075</td><td>1071060292206593</td><td>242.497839922343</td><td>43.1193641742792</td><td>0</td><td>341</td><td>242.497724539492</td><td>43.1193124370116</td><td>0.468808449555954</td><td>6.0913449460786e-05</td><td>GALAXY</td><td>4.28276547044516</td><td>4</td><td>SGA-2020 464075</td><td>UGC10244</td><td>57341</td><td>242.48108100000002</td><td>43.1290549</td><td>Sbc</td><td>128.96</td><td>1.0423175</td><td>0.3019952</td><td>0.03288008</td><td>24.129482</td><td>15.411</td><td>False</td><td>LEDA-20181114</td><td>169351</td><td>UGC10244</td><td>1</td><td>True</td><td>242.48108100000002</td><td>43.1290549</td><td>1.0423175</td><td>2424p432</td><td>242.48098745213719</td><td>43.12912634553939</td><td>1.8803749</td><td>SB26</td><td>128.77156</td><td>0.25576675</td><td>242.48074521025828</td><td>43.12920524001464</td><td>33.333332</td><td>13.762432</td><td>13.33429</td><td>6.869408</td><td>20.062359</td><td>23.480825</td><td>26.841143</td><td>30.275038</td><td>34.482098</td><td>39.361794</td><td>44.571243</td><td>50.888767</td><td>56.411247</td><td>15.378283</td><td>14.3577795</td><td>13.665737</td><td>15.277042</td><td>14.263303</td><td>13.620374</td><td>15.212705</td><td>14.207908</td><td>13.586886</td><td>15.177601</td><td>14.170899</td><td>13.565661</td><td>15.144904</td><td>14.135565</td><td>13.546063</td><td>15.118075</td><td>14.108305</td><td>13.528171</td><td>15.095903</td><td>14.08959</td><td>13.514712</td><td>15.077272</td><td>14.071617</td><td>13.503589</td><td>15.064306</td><td>14.061757</td><td>13.50056</td><td>0.14993039</td><td>0.18158807</td><td>0.18825479</td><td>0.22639686</td><td>0.24359083</td><td>0.24287476</td><td>0.23499858</td><td>0.34557027</td><td>0.32119325</td><td>0.023190737</td><td>0.020619955</td><td>0.02711046</td><td>0.021607935</td><td>0.019364513</td><td>0.026131935</td><td>0.020621898</td><td>0.018606326</td><td>0.02540204</td><td>0.020023214</td><td>0.018049074</td><td>0.024948375</td><td>0.019484583</td><td>0.017537842</td><td>0.024526162</td><td>0.019048229</td><td>0.017155945</td><td>0.024136491</td><td>0.018682567</td><td>0.016877254</td><td>0.023848789</td><td>0.018375177</td><td>0.016610518</td><td>0.023612779</td><td>0.01815413</td><td>0.016440732</td><td>0.023553774</td><td>15.02493</td><td>18027.455</td><td>7.982429e-05</td><td>2.0297074</td><td>0.24238399</td><td>14.017664</td><td>12811.115</td><td>0.00010316957</td><td>1.9570801</td><td>0.056902446</td><td>13.471971</td><td>0.36119577</td><td>3.1486363</td><td>2.1401784</td><td>0.019810589</td><td>0</td><td>-1.0</td><td>-1.0</td><td>-1.0</td><td>-1</td><td>36.209</td><td>0.163</td><td>36.225</td><td>0.182</td><td>35.777</td><td>0.156</td><td>36.194</td><td>0.143</td><td>-1.0</td><td>-1.0</td><td>-1.0</td><td>-1</td><td>-1.0</td><td>-1</td><td>Constitution_SNI</td><td>0.16271341</td></tr>\n",
       "<tr><td>TFT</td><td>464075</td><td>1084258848342018</td><td>242.475426098953</td><td>43.1323685853282</td><td>0</td><td>334</td><td>242.475463034733</td><td>43.1323643999381</td><td>0.0336404326019473</td><td>5.73708108787994e-06</td><td>GALAXY</td><td>1239.16453289986</td><td>0</td><td>SGA-2020 464075</td><td>UGC10244</td><td>57341</td><td>242.48108100000002</td><td>43.1290549</td><td>Sbc</td><td>128.96</td><td>1.0423175</td><td>0.3019952</td><td>0.03288008</td><td>24.129482</td><td>15.411</td><td>False</td><td>LEDA-20181114</td><td>169351</td><td>UGC10244</td><td>1</td><td>True</td><td>242.48108100000002</td><td>43.1290549</td><td>1.0423175</td><td>2424p432</td><td>242.48098745213719</td><td>43.12912634553939</td><td>1.8803749</td><td>SB26</td><td>128.77156</td><td>0.25576675</td><td>242.48074521025828</td><td>43.12920524001464</td><td>33.333332</td><td>13.762432</td><td>13.33429</td><td>6.869408</td><td>20.062359</td><td>23.480825</td><td>26.841143</td><td>30.275038</td><td>34.482098</td><td>39.361794</td><td>44.571243</td><td>50.888767</td><td>56.411247</td><td>15.378283</td><td>14.3577795</td><td>13.665737</td><td>15.277042</td><td>14.263303</td><td>13.620374</td><td>15.212705</td><td>14.207908</td><td>13.586886</td><td>15.177601</td><td>14.170899</td><td>13.565661</td><td>15.144904</td><td>14.135565</td><td>13.546063</td><td>15.118075</td><td>14.108305</td><td>13.528171</td><td>15.095903</td><td>14.08959</td><td>13.514712</td><td>15.077272</td><td>14.071617</td><td>13.503589</td><td>15.064306</td><td>14.061757</td><td>13.50056</td><td>0.14993039</td><td>0.18158807</td><td>0.18825479</td><td>0.22639686</td><td>0.24359083</td><td>0.24287476</td><td>0.23499858</td><td>0.34557027</td><td>0.32119325</td><td>0.023190737</td><td>0.020619955</td><td>0.02711046</td><td>0.021607935</td><td>0.019364513</td><td>0.026131935</td><td>0.020621898</td><td>0.018606326</td><td>0.02540204</td><td>0.020023214</td><td>0.018049074</td><td>0.024948375</td><td>0.019484583</td><td>0.017537842</td><td>0.024526162</td><td>0.019048229</td><td>0.017155945</td><td>0.024136491</td><td>0.018682567</td><td>0.016877254</td><td>0.023848789</td><td>0.018375177</td><td>0.016610518</td><td>0.023612779</td><td>0.01815413</td><td>0.016440732</td><td>0.023553774</td><td>15.02493</td><td>18027.455</td><td>7.982429e-05</td><td>2.0297074</td><td>0.24238399</td><td>14.017664</td><td>12811.115</td><td>0.00010316957</td><td>1.9570801</td><td>0.056902446</td><td>13.471971</td><td>0.36119577</td><td>3.1486363</td><td>2.1401784</td><td>0.019810589</td><td>0</td><td>-1.0</td><td>-1.0</td><td>-1.0</td><td>-1</td><td>35.56</td><td>0.16</td><td>-1.0</td><td>-1.0</td><td>-1.0</td><td>-1.0</td><td>-1.0</td><td>-1.0</td><td>-1.0</td><td>-1.0</td><td>-1.0</td><td>-1</td><td>-1.0</td><td>-1</td><td>Stahl_SNI</td><td>0.16271341</td></tr>\n",
       "<tr><td>TFT</td><td>464075</td><td>1084258848342018</td><td>242.475426098953</td><td>43.1323685853282</td><td>0</td><td>334</td><td>242.475463034733</td><td>43.1323643999381</td><td>0.0336404326019473</td><td>5.73708108787994e-06</td><td>GALAXY</td><td>1239.16453289986</td><td>0</td><td>SGA-2020 464075</td><td>UGC10244</td><td>57341</td><td>242.48108100000002</td><td>43.1290549</td><td>Sbc</td><td>128.96</td><td>1.0423175</td><td>0.3019952</td><td>0.03288008</td><td>24.129482</td><td>15.411</td><td>False</td><td>LEDA-20181114</td><td>169351</td><td>UGC10244</td><td>1</td><td>True</td><td>242.48108100000002</td><td>43.1290549</td><td>1.0423175</td><td>2424p432</td><td>242.48098745213719</td><td>43.12912634553939</td><td>1.8803749</td><td>SB26</td><td>128.77156</td><td>0.25576675</td><td>242.48074521025828</td><td>43.12920524001464</td><td>33.333332</td><td>13.762432</td><td>13.33429</td><td>6.869408</td><td>20.062359</td><td>23.480825</td><td>26.841143</td><td>30.275038</td><td>34.482098</td><td>39.361794</td><td>44.571243</td><td>50.888767</td><td>56.411247</td><td>15.378283</td><td>14.3577795</td><td>13.665737</td><td>15.277042</td><td>14.263303</td><td>13.620374</td><td>15.212705</td><td>14.207908</td><td>13.586886</td><td>15.177601</td><td>14.170899</td><td>13.565661</td><td>15.144904</td><td>14.135565</td><td>13.546063</td><td>15.118075</td><td>14.108305</td><td>13.528171</td><td>15.095903</td><td>14.08959</td><td>13.514712</td><td>15.077272</td><td>14.071617</td><td>13.503589</td><td>15.064306</td><td>14.061757</td><td>13.50056</td><td>0.14993039</td><td>0.18158807</td><td>0.18825479</td><td>0.22639686</td><td>0.24359083</td><td>0.24287476</td><td>0.23499858</td><td>0.34557027</td><td>0.32119325</td><td>0.023190737</td><td>0.020619955</td><td>0.02711046</td><td>0.021607935</td><td>0.019364513</td><td>0.026131935</td><td>0.020621898</td><td>0.018606326</td><td>0.02540204</td><td>0.020023214</td><td>0.018049074</td><td>0.024948375</td><td>0.019484583</td><td>0.017537842</td><td>0.024526162</td><td>0.019048229</td><td>0.017155945</td><td>0.024136491</td><td>0.018682567</td><td>0.016877254</td><td>0.023848789</td><td>0.018375177</td><td>0.016610518</td><td>0.023612779</td><td>0.01815413</td><td>0.016440732</td><td>0.023553774</td><td>15.02493</td><td>18027.455</td><td>7.982429e-05</td><td>2.0297074</td><td>0.24238399</td><td>14.017664</td><td>12811.115</td><td>0.00010316957</td><td>1.9570801</td><td>0.056902446</td><td>13.471971</td><td>0.36119577</td><td>3.1486363</td><td>2.1401784</td><td>0.019810589</td><td>0</td><td>-1.0</td><td>-1.0</td><td>-1.0</td><td>-1</td><td>35.841</td><td>0.152</td><td>-1.0</td><td>-1.0</td><td>-1.0</td><td>-1.0</td><td>-1.0</td><td>-1.0</td><td>-1.0</td><td>-1.0</td><td>-1.0</td><td>-1</td><td>-1.0</td><td>-1</td><td>LOSS_Ganeshalingam13_SN1</td><td>0.16271341</td></tr>\n",
       "<tr><td>TFT</td><td>464075</td><td>1084258848342018</td><td>242.475426098953</td><td>43.1323685853282</td><td>0</td><td>334</td><td>242.475463034733</td><td>43.1323643999381</td><td>0.0336404326019473</td><td>5.73708108787994e-06</td><td>GALAXY</td><td>1239.16453289986</td><td>0</td><td>SGA-2020 464075</td><td>UGC10244</td><td>57341</td><td>242.48108100000002</td><td>43.1290549</td><td>Sbc</td><td>128.96</td><td>1.0423175</td><td>0.3019952</td><td>0.03288008</td><td>24.129482</td><td>15.411</td><td>False</td><td>LEDA-20181114</td><td>169351</td><td>UGC10244</td><td>1</td><td>True</td><td>242.48108100000002</td><td>43.1290549</td><td>1.0423175</td><td>2424p432</td><td>242.48098745213719</td><td>43.12912634553939</td><td>1.8803749</td><td>SB26</td><td>128.77156</td><td>0.25576675</td><td>242.48074521025828</td><td>43.12920524001464</td><td>33.333332</td><td>13.762432</td><td>13.33429</td><td>6.869408</td><td>20.062359</td><td>23.480825</td><td>26.841143</td><td>30.275038</td><td>34.482098</td><td>39.361794</td><td>44.571243</td><td>50.888767</td><td>56.411247</td><td>15.378283</td><td>14.3577795</td><td>13.665737</td><td>15.277042</td><td>14.263303</td><td>13.620374</td><td>15.212705</td><td>14.207908</td><td>13.586886</td><td>15.177601</td><td>14.170899</td><td>13.565661</td><td>15.144904</td><td>14.135565</td><td>13.546063</td><td>15.118075</td><td>14.108305</td><td>13.528171</td><td>15.095903</td><td>14.08959</td><td>13.514712</td><td>15.077272</td><td>14.071617</td><td>13.503589</td><td>15.064306</td><td>14.061757</td><td>13.50056</td><td>0.14993039</td><td>0.18158807</td><td>0.18825479</td><td>0.22639686</td><td>0.24359083</td><td>0.24287476</td><td>0.23499858</td><td>0.34557027</td><td>0.32119325</td><td>0.023190737</td><td>0.020619955</td><td>0.02711046</td><td>0.021607935</td><td>0.019364513</td><td>0.026131935</td><td>0.020621898</td><td>0.018606326</td><td>0.02540204</td><td>0.020023214</td><td>0.018049074</td><td>0.024948375</td><td>0.019484583</td><td>0.017537842</td><td>0.024526162</td><td>0.019048229</td><td>0.017155945</td><td>0.024136491</td><td>0.018682567</td><td>0.016877254</td><td>0.023848789</td><td>0.018375177</td><td>0.016610518</td><td>0.023612779</td><td>0.01815413</td><td>0.016440732</td><td>0.023553774</td><td>15.02493</td><td>18027.455</td><td>7.982429e-05</td><td>2.0297074</td><td>0.24238399</td><td>14.017664</td><td>12811.115</td><td>0.00010316957</td><td>1.9570801</td><td>0.056902446</td><td>13.471971</td><td>0.36119577</td><td>3.1486363</td><td>2.1401784</td><td>0.019810589</td><td>0</td><td>-1.0</td><td>-1.0</td><td>-1.0</td><td>-1</td><td>35.35</td><td>0.16</td><td>-1.0</td><td>-1.0</td><td>-1.0</td><td>-1.0</td><td>-1.0</td><td>-1.0</td><td>-1.0</td><td>-1.0</td><td>-1.0</td><td>-1</td><td>-1.0</td><td>-1</td><td>Union2_SNI</td><td>0.16271341</td></tr>\n",
       "<tr><td>TFT</td><td>464075</td><td>1084258848342018</td><td>242.475426098953</td><td>43.1323685853282</td><td>0</td><td>334</td><td>242.475463034733</td><td>43.1323643999381</td><td>0.0336404326019473</td><td>5.73708108787994e-06</td><td>GALAXY</td><td>1239.16453289986</td><td>0</td><td>SGA-2020 464075</td><td>UGC10244</td><td>57341</td><td>242.48108100000002</td><td>43.1290549</td><td>Sbc</td><td>128.96</td><td>1.0423175</td><td>0.3019952</td><td>0.03288008</td><td>24.129482</td><td>15.411</td><td>False</td><td>LEDA-20181114</td><td>169351</td><td>UGC10244</td><td>1</td><td>True</td><td>242.48108100000002</td><td>43.1290549</td><td>1.0423175</td><td>2424p432</td><td>242.48098745213719</td><td>43.12912634553939</td><td>1.8803749</td><td>SB26</td><td>128.77156</td><td>0.25576675</td><td>242.48074521025828</td><td>43.12920524001464</td><td>33.333332</td><td>13.762432</td><td>13.33429</td><td>6.869408</td><td>20.062359</td><td>23.480825</td><td>26.841143</td><td>30.275038</td><td>34.482098</td><td>39.361794</td><td>44.571243</td><td>50.888767</td><td>56.411247</td><td>15.378283</td><td>14.3577795</td><td>13.665737</td><td>15.277042</td><td>14.263303</td><td>13.620374</td><td>15.212705</td><td>14.207908</td><td>13.586886</td><td>15.177601</td><td>14.170899</td><td>13.565661</td><td>15.144904</td><td>14.135565</td><td>13.546063</td><td>15.118075</td><td>14.108305</td><td>13.528171</td><td>15.095903</td><td>14.08959</td><td>13.514712</td><td>15.077272</td><td>14.071617</td><td>13.503589</td><td>15.064306</td><td>14.061757</td><td>13.50056</td><td>0.14993039</td><td>0.18158807</td><td>0.18825479</td><td>0.22639686</td><td>0.24359083</td><td>0.24287476</td><td>0.23499858</td><td>0.34557027</td><td>0.32119325</td><td>0.023190737</td><td>0.020619955</td><td>0.02711046</td><td>0.021607935</td><td>0.019364513</td><td>0.026131935</td><td>0.020621898</td><td>0.018606326</td><td>0.02540204</td><td>0.020023214</td><td>0.018049074</td><td>0.024948375</td><td>0.019484583</td><td>0.017537842</td><td>0.024526162</td><td>0.019048229</td><td>0.017155945</td><td>0.024136491</td><td>0.018682567</td><td>0.016877254</td><td>0.023848789</td><td>0.018375177</td><td>0.016610518</td><td>0.023612779</td><td>0.01815413</td><td>0.016440732</td><td>0.023553774</td><td>15.02493</td><td>18027.455</td><td>7.982429e-05</td><td>2.0297074</td><td>0.24238399</td><td>14.017664</td><td>12811.115</td><td>0.00010316957</td><td>1.9570801</td><td>0.056902446</td><td>13.471971</td><td>0.36119577</td><td>3.1486363</td><td>2.1401784</td><td>0.019810589</td><td>0</td><td>-1.0</td><td>-1.0</td><td>-1.0</td><td>-1</td><td>35.9</td><td>0.0</td><td>35.34</td><td>35.34</td><td>35.35</td><td>0.16</td><td>0.0</td><td>0.0</td><td>0.0</td><td>0.0</td><td>35.33</td><td>0</td><td>0.0</td><td>0</td><td>5_Sources_SNI</td><td>0.16271341</td></tr>\n",
       "<tr><td>TFT</td><td>464075</td><td>1084258848342018</td><td>242.475426098953</td><td>43.1323685853282</td><td>0</td><td>334</td><td>242.475463034733</td><td>43.1323643999381</td><td>0.0336404326019473</td><td>5.73708108787994e-06</td><td>GALAXY</td><td>1239.16453289986</td><td>0</td><td>SGA-2020 464075</td><td>UGC10244</td><td>57341</td><td>242.48108100000002</td><td>43.1290549</td><td>Sbc</td><td>128.96</td><td>1.0423175</td><td>0.3019952</td><td>0.03288008</td><td>24.129482</td><td>15.411</td><td>False</td><td>LEDA-20181114</td><td>169351</td><td>UGC10244</td><td>1</td><td>True</td><td>242.48108100000002</td><td>43.1290549</td><td>1.0423175</td><td>2424p432</td><td>242.48098745213719</td><td>43.12912634553939</td><td>1.8803749</td><td>SB26</td><td>128.77156</td><td>0.25576675</td><td>242.48074521025828</td><td>43.12920524001464</td><td>33.333332</td><td>13.762432</td><td>13.33429</td><td>6.869408</td><td>20.062359</td><td>23.480825</td><td>26.841143</td><td>30.275038</td><td>34.482098</td><td>39.361794</td><td>44.571243</td><td>50.888767</td><td>56.411247</td><td>15.378283</td><td>14.3577795</td><td>13.665737</td><td>15.277042</td><td>14.263303</td><td>13.620374</td><td>15.212705</td><td>14.207908</td><td>13.586886</td><td>15.177601</td><td>14.170899</td><td>13.565661</td><td>15.144904</td><td>14.135565</td><td>13.546063</td><td>15.118075</td><td>14.108305</td><td>13.528171</td><td>15.095903</td><td>14.08959</td><td>13.514712</td><td>15.077272</td><td>14.071617</td><td>13.503589</td><td>15.064306</td><td>14.061757</td><td>13.50056</td><td>0.14993039</td><td>0.18158807</td><td>0.18825479</td><td>0.22639686</td><td>0.24359083</td><td>0.24287476</td><td>0.23499858</td><td>0.34557027</td><td>0.32119325</td><td>0.023190737</td><td>0.020619955</td><td>0.02711046</td><td>0.021607935</td><td>0.019364513</td><td>0.026131935</td><td>0.020621898</td><td>0.018606326</td><td>0.02540204</td><td>0.020023214</td><td>0.018049074</td><td>0.024948375</td><td>0.019484583</td><td>0.017537842</td><td>0.024526162</td><td>0.019048229</td><td>0.017155945</td><td>0.024136491</td><td>0.018682567</td><td>0.016877254</td><td>0.023848789</td><td>0.018375177</td><td>0.016610518</td><td>0.023612779</td><td>0.01815413</td><td>0.016440732</td><td>0.023553774</td><td>15.02493</td><td>18027.455</td><td>7.982429e-05</td><td>2.0297074</td><td>0.24238399</td><td>14.017664</td><td>12811.115</td><td>0.00010316957</td><td>1.9570801</td><td>0.056902446</td><td>13.471971</td><td>0.36119577</td><td>3.1486363</td><td>2.1401784</td><td>0.019810589</td><td>0</td><td>-1.0</td><td>-1.0</td><td>-1.0</td><td>-1</td><td>36.209</td><td>0.163</td><td>36.225</td><td>0.182</td><td>35.777</td><td>0.156</td><td>36.194</td><td>0.143</td><td>-1.0</td><td>-1.0</td><td>-1.0</td><td>-1</td><td>-1.0</td><td>-1</td><td>Constitution_SNI</td><td>0.16271341</td></tr>\n",
       "</table></div>"
      ],
      "text/plain": [
       "<Table length=160>\n",
       "PVTYPE SGA_ID     TARGETID     ... e_DM7_SN        SN_Catalog           cosi   \n",
       "bytes3 int64       int64       ...  int64           bytes24           float32  \n",
       "------ ------ ---------------- ... -------- ------------------------ ----------\n",
       "   TFT 464075 1084254431739904 ...       -1                Stahl_SNI 0.16271341\n",
       "   TFT 464075 1084254431739904 ...       -1 LOSS_Ganeshalingam13_SN1 0.16271341\n",
       "   TFT 464075 1084254431739904 ...       -1               Union2_SNI 0.16271341\n",
       "   TFT 464075 1084254431739904 ...        0            5_Sources_SNI 0.16271341\n",
       "   TFT 464075 1084254431739904 ...       -1         Constitution_SNI 0.16271341\n",
       "   TFT 464075 1084254431739904 ...       -1                Stahl_SNI 0.16271341\n",
       "   TFT 464075 1084254431739904 ...       -1 LOSS_Ganeshalingam13_SN1 0.16271341\n",
       "   TFT 464075 1084254431739904 ...       -1               Union2_SNI 0.16271341\n",
       "   TFT 464075 1084254431739904 ...        0            5_Sources_SNI 0.16271341\n",
       "   TFT 464075 1084254431739904 ...       -1         Constitution_SNI 0.16271341\n",
       "   ...    ...              ... ...      ...                      ...        ...\n",
       "   TFT 464075 1071060292206593 ...       -1                Stahl_SNI 0.16271341\n",
       "   TFT 464075 1071060292206593 ...       -1 LOSS_Ganeshalingam13_SN1 0.16271341\n",
       "   TFT 464075 1071060292206593 ...       -1               Union2_SNI 0.16271341\n",
       "   TFT 464075 1071060292206593 ...        0            5_Sources_SNI 0.16271341\n",
       "   TFT 464075 1071060292206593 ...       -1         Constitution_SNI 0.16271341\n",
       "   TFT 464075 1084258848342018 ...       -1                Stahl_SNI 0.16271341\n",
       "   TFT 464075 1084258848342018 ...       -1 LOSS_Ganeshalingam13_SN1 0.16271341\n",
       "   TFT 464075 1084258848342018 ...       -1               Union2_SNI 0.16271341\n",
       "   TFT 464075 1084258848342018 ...        0            5_Sources_SNI 0.16271341\n",
       "   TFT 464075 1084258848342018 ...       -1         Constitution_SNI 0.16271341"
      ]
     },
     "execution_count": 16,
     "metadata": {},
     "output_type": "execute_result"
    }
   ],
   "source": [
    "sga_table[sga_table['SGA_ID']==464075]"
   ]
  },
  {
   "cell_type": "markdown",
   "id": "1f36d770-2f3b-4619-bc9a-add00bf2e217",
   "metadata": {
    "jp-MarkdownHeadingCollapsed": true,
    "tags": []
   },
   "source": [
    "## Fitting using slope from Coma TFR"
   ]
  },
  {
   "cell_type": "code",
   "execution_count": 12,
   "id": "e80e0660-e250-434d-8c5b-aaf61129ba84",
   "metadata": {
    "jupyter": {
     "source_hidden": true
    },
    "tags": []
   },
   "outputs": [],
   "source": [
    "\n",
    "def l1norm_noerror(pars, x, y):\n",
    "    '''\n",
    "    Linear fit that uses the l1-norm without normalizing by measurement uncertainties.\n",
    "    '''\n",
    "    a, b = pars\n",
    "    return np.sum(np.abs(y - a - b*x))\n",
    "\n",
    "def fit_tfr2(r, dr, logv, dlogv):\n",
    "    fmin = 1e99\n",
    "    a, b = 6, -0.25\n",
    "    hess_inv = np.ones((2,2))\n",
    "    succ_res = None\n",
    "    slope = []\n",
    "    yint = []\n",
    "    for i in range(100000):\n",
    "        x_arr = np.random.normal(r, dr)\n",
    "        y_arr = np.random.normal(logv, dlogv)\n",
    "        \n",
    "        res = minimize(l1norm_noerror, \n",
    "                       [a, b], \n",
    "                       args=(x_arr, y_arr),# dlogv),\n",
    "                       method='L-BFGS-B', \n",
    "                       bounds=[[-10,10], [-4.2714, -4.2714]])\n",
    "        \n",
    "        if res.fun < fmin and res.success:\n",
    "            # print('Successful fit')\n",
    "            succ_res = res.copy()\n",
    "            fmin = res.fun\n",
    "            a, b = res.x\n",
    "            hess_inv = res.hess_inv\n",
    "            slope.append(b)\n",
    "            yint.append(a)\n",
    "            \n",
    "    if succ_res is None:\n",
    "        print('No successful fits')\n",
    "    # else:\n",
    "    #     print(succ_res)\n",
    "    \n",
    "    return yint, slope"
   ]
  },
  {
   "cell_type": "code",
   "execution_count": 13,
   "id": "c0fbfd94-719c-4927-bd39-4d0e771e6d01",
   "metadata": {
    "collapsed": true,
    "jupyter": {
     "outputs_hidden": true,
     "source_hidden": true
    },
    "tags": []
   },
   "outputs": [
    {
     "name": "stderr",
     "output_type": "stream",
     "text": [
      "/global/common/software/desi/cori/desiconda/20211217-2.0.0/conda/lib/python3.9/site-packages/scipy/optimize/_numdiff.py:579: RuntimeWarning: invalid value encountered in true_divide\n",
      "  J_transposed[i] = df / dx\n"
     ]
    },
    {
     "name": "stdout",
     "output_type": "stream",
     "text": [
      "No successful fits\n"
     ]
    }
   ],
   "source": [
    "a, b = fit_tfr2(abs_mag_clean[isrmeas_clean], abs_mag_err_clean[isrmeas_clean], log10vmax_clean[isrmeas_clean], dlog10vmax_clean[isrmeas_clean])"
   ]
  },
  {
   "cell_type": "code",
   "execution_count": 23,
   "id": "2e9c4771-48c3-4adb-931b-223068cc6e5d",
   "metadata": {
    "collapsed": true,
    "jupyter": {
     "outputs_hidden": true,
     "source_hidden": true
    },
    "tags": []
   },
   "outputs": [
    {
     "data": {
      "text/plain": [
       "[-1.0, -1.0, -1.0, -1.0, -1.0, -1.0, -1.0, -1.0]"
      ]
     },
     "execution_count": 23,
     "metadata": {},
     "output_type": "execute_result"
    }
   ],
   "source": [
    "a"
   ]
  },
  {
   "cell_type": "code",
   "execution_count": 22,
   "id": "e189e837-06a1-4ab6-9349-fc4f30d253d9",
   "metadata": {
    "collapsed": true,
    "jupyter": {
     "outputs_hidden": true,
     "source_hidden": true
    },
    "tags": []
   },
   "outputs": [
    {
     "data": {
      "text/plain": [
       "(-1.0, 0.0)"
      ]
     },
     "execution_count": 22,
     "metadata": {},
     "output_type": "execute_result"
    }
   ],
   "source": [
    "np.mean(a), np.std(a)"
   ]
  },
  {
   "cell_type": "code",
   "execution_count": null,
   "id": "ef346061-2052-4864-b5f8-28cda1cf78d5",
   "metadata": {
    "jupyter": {
     "source_hidden": true
    },
    "tags": []
   },
   "outputs": [],
   "source": [
    "fig, ax = plt.subplots(1,1, figsize=(6,4), tight_layout=True)\n",
    "\n",
    "ax.errorbar(rmag_clean[isrmeas_clean], \n",
    "            log10vmax_clean[isrmeas_clean], \n",
    "            yerr=dlog10vmax_clean[isrmeas_clean], \n",
    "            fmt='ro', \n",
    "            alpha=0.7,\n",
    "            label='Cleaned data, $\\cos{(i)}$-corrected')\n",
    "\n",
    "a_fit, b_fit = np.mean(a), np.mean(b)\n",
    "r = np.arange(12.5,18.6,0.1)\n",
    "ax.plot(r, a_fit + b_fit*r, 'r--', alpha=0.8)\n",
    "\n",
    "ax.set(xlabel='$m_r$(26)',\n",
    "       xlim=(18.5, 12.5),\n",
    "       ylabel=r'$\\log{(v_\\mathrm{max} / \\mathrm{km~s}^{-1})}$',\n",
    "       ylim=(-0.5,3),\n",
    "       title=r'Rotational velocity at $0.33R_{26}$')\n",
    "\n",
    "ax.legend(loc='lower right', fontsize=10)"
   ]
  },
  {
   "cell_type": "code",
   "execution_count": 29,
   "id": "5241f0c3-87d4-4232-beba-09626f12cc53",
   "metadata": {
    "jupyter": {
     "source_hidden": true
    },
    "tags": []
   },
   "outputs": [],
   "source": [
    "# Log-likelihood\n",
    "def loglike(theta):\n",
    "    b = -0.146652\n",
    "    a, lnf = theta\n",
    "    model = a + b*x\n",
    "    inv_sigma2 = 1.0 / (yerr**2 + model**2 * np.exp(2 * lnf))\n",
    "    \n",
    "    return -0.5 * (np.sum((y-model)**2 * inv_sigma2 - np.log(inv_sigma2)))\n",
    "\n",
    "# Define a negative LL for minimizers.\n",
    "nloglike = lambda theta: -loglike(theta)"
   ]
  },
  {
   "cell_type": "code",
   "execution_count": 30,
   "id": "a7a4aa27-07c0-4ef4-b0b7-6774561d9541",
   "metadata": {
    "collapsed": true,
    "jupyter": {
     "outputs_hidden": true,
     "source_hidden": true
    },
    "tags": []
   },
   "outputs": [
    {
     "data": {
      "text/plain": [
       "      fun: -6.945516752849134\n",
       " hess_inv: <2x2 LbfgsInvHessProduct with dtype=float64>\n",
       "      jac: array([-1.24344978e-06,  2.39808153e-06])\n",
       "  message: 'CONVERGENCE: NORM_OF_PROJECTED_GRADIENT_<=_PGTOL'\n",
       "     nfev: 111\n",
       "      nit: 22\n",
       "     njev: 37\n",
       "   status: 0\n",
       "  success: True\n",
       "        x: array([ -0.75655391, -11.16182049])"
      ]
     },
     "execution_count": 30,
     "metadata": {},
     "output_type": "execute_result"
    }
   ],
   "source": [
    "p0 = [-2., 0.]\n",
    "\n",
    "bestfit = minimize(nloglike, p0, method='L-BFGS-B',\n",
    "                   bounds=((-10.,10.),\n",
    "                           # (-0.13666, -0.13665),\n",
    "                           (-20.,20.)))\n",
    "\n",
    "bestfit"
   ]
  },
  {
   "cell_type": "code",
   "execution_count": 32,
   "id": "91755c90-5f77-422d-9f68-88b0310e0ad3",
   "metadata": {
    "jupyter": {
     "source_hidden": true
    },
    "tags": []
   },
   "outputs": [],
   "source": [
    "# hessian = ndt.Hessian(loglike)\n",
    "# hess_ll = hessian(bestfit.x)\n",
    "# hess_inv = np.linalg.inv(hess_ll)\n",
    "\n",
    "# labels = ['y-intercept', 'lnf']\n",
    "\n",
    "# uncertainty = np.sqrt(np.diag(-hess_inv))\n",
    "# print('Slope from Coma calibration = -0.13665286 +- 0.0189')\n",
    "# print('Fit results: ')\n",
    "# for i in range(2):\n",
    "#     print('{:<14s} = {:9.4f} +- {:6.4f}'.format(labels[i], bestfit.x[i], uncertainty[i]))"
   ]
  },
  {
   "cell_type": "markdown",
   "id": "1e9a7301-90cc-440e-9b6c-dec4606af5a8",
   "metadata": {},
   "source": [
    "## Fitting using `scipy.optimize.minimize`\n",
    "\n",
    "Segev's code"
   ]
  },
  {
   "cell_type": "code",
   "execution_count": 22,
   "id": "65c41595-218e-4771-9740-ef5d8e47894b",
   "metadata": {},
   "outputs": [],
   "source": [
    "def l1norm(pars, x, y, dy):\n",
    "    '''\n",
    "    Linear fit that uses the l1-norm (robust against outliers).\n",
    "    '''\n",
    "    a, b = pars\n",
    "    return np.sum(np.abs((y - a - b*x)/dy))\n",
    "\n",
    "def l1norm_noerror(pars, x, y):\n",
    "    '''\n",
    "    Linear fit that uses the l1-norm without normalizing by measurement uncertainties.\n",
    "    '''\n",
    "    a, b = pars\n",
    "    return np.sum(np.abs(y - a - b*x))\n",
    "\n",
    "def l2norm(pars, x, y, dy):\n",
    "    '''\n",
    "    Linear fit that uses the l2-norm\n",
    "    '''\n",
    "    a, b = pars\n",
    "    return np.sum((y - a - b*x)**2/dy**2)\n",
    "\n",
    "def fit_tfr(r, logv, dlogv):\n",
    "    fmin = 1e99\n",
    "    a, b = -0.5, -0.15\n",
    "    hess_inv = np.ones((2,2))\n",
    "    \n",
    "    succ_res = None\n",
    "    \n",
    "    # Try a large number of random seeds to ensure a decent fit.\n",
    "    for i in range(1000):\n",
    "        _a, _b = np.random.uniform(-1,1), np.random.uniform(-0.146541,-0.146541)\n",
    "        \n",
    "        res = minimize(l1norm_noerror, \n",
    "                       [_a, _b], \n",
    "                       args=(r,logv),# dlogv),\n",
    "                       method='L-BFGS-B', \n",
    "                       bounds=[[-1,1], [-0.146541,-0.146541]])\n",
    "        \n",
    "        if res.fun < fmin and res.success:\n",
    "            # print('Successful fit')\n",
    "            succ_res = res.copy()\n",
    "            fmin = res.fun\n",
    "            a, b = res.x\n",
    "            hess_inv = res.hess_inv\n",
    "    \n",
    "    if succ_res is None:\n",
    "        print('No successful fits')\n",
    "    # else:\n",
    "    #     print(succ_res)\n",
    "    \n",
    "    return a, b, hess_inv"
   ]
  },
  {
   "cell_type": "code",
   "execution_count": 15,
   "id": "bbf489a2-ade3-41be-a6eb-103de61eb0d1",
   "metadata": {},
   "outputs": [
    {
     "name": "stderr",
     "output_type": "stream",
     "text": [
      "/global/common/software/desi/cori/desiconda/20211217-2.0.0/conda/lib/python3.9/site-packages/scipy/optimize/_numdiff.py:579: RuntimeWarning: invalid value encountered in true_divide\n",
      "  J_transposed[i] = df / dx\n"
     ]
    },
    {
     "name": "stdout",
     "output_type": "stream",
     "text": [
      "{'fun': 0.02661846112007238, 'jac': array([-2.00000007,         nan]), 'nfev': 9, 'njev': 3, 'nit': 1, 'status': 0, 'message': 'CONVERGENCE: REL_REDUCTION_OF_F_<=_FACTR*EPSMCH', 'x': array([-0.6667481, -0.146541 ]), 'success': True, 'hess_inv': <2x2 LbfgsInvHessProduct with dtype=float64>}\n",
      "Fitted params: a=-0.6667480966732697, b=-0.146541\n",
      "Slope=-6.824028770105294, y-int=-4.549908194111339\n"
     ]
    }
   ],
   "source": [
    "abs_mag_clean = np.asarray(abs_mag_clean)\n",
    "abs_mag_err_clean = np.asarray(abs_mag_err_clean)\n",
    "vmax_clean = np.asarray(vmax_clean)\n",
    "dvmax_clean = np.asarray(dvmax_clean)\n",
    "\n",
    "log10vmax_clean = np.log10(vmax_clean)\n",
    "dlog10vmax_clean = 0.434 * dvmax_clean / vmax_clean \n",
    "\n",
    "a, b, hess_inv = fit_tfr(abs_mag_clean, \n",
    "                  log10vmax_clean, \n",
    "                  dlog10vmax_clean)\n",
    "\n",
    "print('Fitted params: a={0}, b={1}'.format(a, b))\n",
    "print('Slope={0}, y-int={1}'.format(1/b, -a/b))"
   ]
  },
  {
   "cell_type": "code",
   "execution_count": 18,
   "id": "16282f30-d351-416b-95a6-06766c885265",
   "metadata": {},
   "outputs": [
    {
     "data": {
      "image/png": "[encoded data removed]",
      "text/plain": [
       "<Figure size 432x288 with 1 Axes>"
      ]
     },
     "metadata": {
      "needs_background": "light"
     },
     "output_type": "display_data"
    }
   ],
   "source": [
    "fig, ax = plt.subplots(1,1, figsize=(6,4), tight_layout=True)\n",
    "\n",
    "ax.errorbar(log10vmax_clean, \n",
    "            abs_mag_clean,\n",
    "            yerr = abs_mag_err_clean,\n",
    "            xerr=dlog10vmax_clean, \n",
    "            fmt='ro', \n",
    "            alpha=0.7,\n",
    "            label='Cleaned data, $\\cos{(i)}$-corrected')\n",
    "\n",
    "# a = -0.75655391\n",
    "# b = -0.14665\n",
    "\n",
    "logv = np.arange(2, 2.5, 0.03)\n",
    "ax.plot(logv, 1/b * (logv - a), 'r--', alpha=0.8)\n",
    "# ################################################################################\n",
    "\n",
    "\n",
    "ax.set(ylabel='$M_r$(26)-5log$_{10}$(h)',\n",
    "       ylim=(-18, -22),\n",
    "       xlabel=r'$\\log{(v_\\mathrm{max} / \\mathrm{km~s}^{-1})}$',\n",
    "       # ylim=(-19, -22),\n",
    "       title=r'Rotational velocity at $0.33R_{26}$')\n",
    "ax.grid(ls=':')\n",
    "# ax.legend(loc='upper left', fontsize=10);\n",
    "\n",
    "# fig.suptitle(r'Max velocity at $0.33\\times R_{26}$', y=1.05)\n",
    "# fig.subplots_adjust(top=0.8)\n",
    "fig.savefig('tf_dist_04_06_2022.png', dpi=120, transparent=True)\n",
    "\n",
    "# print(np.sum(isrmeas))"
   ]
  },
  {
   "cell_type": "code",
   "execution_count": 24,
   "id": "79f14087-2554-43c8-b943-7ddd123ece1e",
   "metadata": {},
   "outputs": [],
   "source": [
    "yint = []\n",
    "for i in range(1000):\n",
    "    _logv = np.random.normal(log10vmax_clean, dlog10vmax_clean)\n",
    "    a, b, hess_inv = fit_tfr(abs_mag_clean, \n",
    "                                log10vmax_clean, \n",
    "                                dlog10vmax_clean)\n",
    "    yint.append(-a/b)"
   ]
  },
  {
   "cell_type": "code",
   "execution_count": 25,
   "id": "5de239de-1822-4b8b-ba07-250ec3be15cf",
   "metadata": {},
   "outputs": [
    {
     "data": {
      "text/plain": [
       "0.09628344291624659"
      ]
     },
     "execution_count": 25,
     "metadata": {},
     "output_type": "execute_result"
    }
   ],
   "source": [
    "np.std(yint)"
   ]
  },
  {
   "cell_type": "markdown",
   "id": "cbb04565-145d-49b3-b2b4-c0310d26c8f6",
   "metadata": {
    "jp-MarkdownHeadingCollapsed": true,
    "tags": []
   },
   "source": [
    "### Iteratively fit and remove objects further than 3$\\sigma$"
   ]
  },
  {
   "cell_type": "code",
   "execution_count": 10,
   "id": "20a71ce6-8d23-4c85-a992-26f9390d376c",
   "metadata": {},
   "outputs": [],
   "source": [
    "def fit_3sigma(x,y,dy):\n",
    "    '''\n",
    "    Iterative linear fit that removes points outside 3sigma of the fit until \n",
    "    convergence (no more points removed).\n",
    "    '''\n",
    "    \n",
    "    # Number of points to fit\n",
    "    N = len(x)\n",
    "    \n",
    "    # Initialize variable to store the number of points fit in the last iteration\n",
    "    N_last = np.inf\n",
    "    \n",
    "    while (N < N_last) and (N > 1):\n",
    "        \n",
    "        # Update N_last\n",
    "        N_last = N\n",
    "        \n",
    "        # Fit\n",
    "        a, b, hess_inv = fit_tfr(x, y, dy)\n",
    "        \n",
    "        ########################################################################\n",
    "        # Remove all points that are outside 3-sigma of the fit\n",
    "        #-----------------------------------------------------------------------\n",
    "        remove_points = []\n",
    "        \n",
    "        for i in range(N):\n",
    "            ####################################################################\n",
    "            # Calculate expected value at this point\n",
    "            #-------------------------------------------------------------------\n",
    "            y_fit = a + b*x[i]\n",
    "            ####################################################################\n",
    "            \n",
    "            \n",
    "            ####################################################################\n",
    "            # Calculate sigma at this point\n",
    "            #-------------------------------------------------------------------\n",
    "            random_sample = np.random.multivariate_normal(mean=(a,b), \n",
    "                                                          cov=hess_inv.matmat(np.eye(2)), \n",
    "                                                          size=1000)\n",
    "            \n",
    "            y_random = random_sample[:,0] + random_sample[:,1]*x[i]\n",
    "            \n",
    "            std_dev = np.std(y_random)\n",
    "            ####################################################################\n",
    "            \n",
    "            \n",
    "            if np.abs(y_fit - y[i]) > 3*std_dev:\n",
    "                remove_points.append(i)\n",
    "        ########################################################################\n",
    "        \n",
    "        \n",
    "        ########################################################################\n",
    "        # Update points if needed\n",
    "        #-----------------------------------------------------------------------\n",
    "        if len(remove_points) > 0:\n",
    "            x = np.delete(x, remove_points)\n",
    "            y = np.delete(y, remove_points)\n",
    "            dy = np.delete(dy, remove_points)\n",
    "            \n",
    "            N = len(x)\n",
    "        ########################################################################\n",
    "    \n",
    "    return a, b, hess_inv"
   ]
  },
  {
   "cell_type": "code",
   "execution_count": 11,
   "id": "76471dc8-6959-49d6-a530-35609af21ff3",
   "metadata": {},
   "outputs": [
    {
     "name": "stdout",
     "output_type": "stream",
     "text": [
      "Original\n",
      "Successful fit\n",
      "Successful fit\n",
      "Successful fit\n",
      "Successful fit\n",
      "Successful fit\n",
      "{'fun': 17.23398123162435, 'jac': array([  0.        , -31.90372945]), 'nfev': 198, 'njev': 66, 'nit': 19, 'status': 0, 'message': b'CONVERGENCE: REL_REDUCTION_OF_F_<=_FACTR*EPSMCH', 'x': array([ 3.92228692, -0.12923591]), 'success': True, 'hess_inv': <2x2 LbfgsInvHessProduct with dtype=float64>}\n",
      "Successful fit\n",
      "Successful fit\n",
      "Successful fit\n",
      "Successful fit\n",
      "{'fun': 0.5006566669053467, 'jac': array([  1.92957691, -17.02326678]), 'nfev': 237, 'njev': 79, 'nit': 19, 'status': 0, 'message': b'CONVERGENCE: REL_REDUCTION_OF_F_<=_FACTR*EPSMCH', 'x': array([ 3.92228712, -0.12923592]), 'success': True, 'hess_inv': <2x2 LbfgsInvHessProduct with dtype=float64>}\n",
      "3.9222871195548 -0.1292359246954822\n",
      "\n",
      "Cleaned\n",
      "Successful fit\n",
      "Successful fit\n",
      "Successful fit\n",
      "Successful fit\n",
      "Successful fit\n",
      "Successful fit\n",
      "Successful fit\n",
      "{'fun': 9.413012036247746, 'jac': array([  1.99351381, -32.64731776]), 'nfev': 309, 'njev': 103, 'nit': 19, 'status': 0, 'message': b'CONVERGENCE: REL_REDUCTION_OF_F_<=_FACTR*EPSMCH', 'x': array([ 4.21110227, -0.1432478 ]), 'success': True, 'hess_inv': <2x2 LbfgsInvHessProduct with dtype=float64>}\n",
      "4.211102270769101 -0.14324779750894953\n"
     ]
    },
    {
     "data": {
      "image/png": "[encoded data removed]",
      "text/plain": [
       "<Figure size 432x288 with 1 Axes>"
      ]
     },
     "metadata": {
      "needs_background": "light"
     },
     "output_type": "display_data"
    }
   ],
   "source": [
    "fig, ax = plt.subplots(1,1, figsize=(6,4), tight_layout=True)\n",
    "\n",
    "\n",
    "################################################################################\n",
    "# Original data\n",
    "#-------------------------------------------------------------------------------\n",
    "print('Original')\n",
    "\n",
    "ax.errorbar(rmag[isrmeas], \n",
    "            log10vmax[isrmeas], \n",
    "            yerr=dlog10vmax[isrmeas], \n",
    "            fmt='ko', \n",
    "            alpha=0.2,\n",
    "            label='Coma data')\n",
    "\n",
    "a, b, hess_inv = fit_3sigma(rmag[isrmeas], \n",
    "                            log10vmax[isrmeas], \n",
    "                            dlog10vmax[isrmeas])\n",
    "print(a,b)\n",
    "\n",
    "r = np.arange(12.5,18.6,0.1)\n",
    "ax.plot(r, a + b*r, 'k--', alpha=0.2)\n",
    "################################################################################\n",
    "\n",
    "\n",
    "################################################################################\n",
    "# Cleaned data\n",
    "#-------------------------------------------------------------------------------\n",
    "print('\\nCleaned')\n",
    "\n",
    "rmag_clean = np.asarray(rmag_clean)\n",
    "vmax_clean = np.asarray(vmax_clean)\n",
    "dvmax_clean = np.asarray(dvmax_clean)\n",
    "\n",
    "isrmeas_clean = rmag_clean > 0\n",
    "\n",
    "log10vmax_clean = np.log10(vmax_clean)\n",
    "dlog10vmax_clean = 0.434 * dvmax_clean / vmax_clean \n",
    "\n",
    "ax.errorbar(rmag_clean[isrmeas_clean], \n",
    "            log10vmax_clean[isrmeas_clean], \n",
    "            yerr=dlog10vmax_clean[isrmeas_clean], \n",
    "            fmt='ro', \n",
    "            alpha=0.7,\n",
    "            label='Cleaned data, $\\cos{(i)}$-corrected')\n",
    "\n",
    "a, b, hess_inv = fit_3sigma(rmag_clean[isrmeas_clean], \n",
    "                            log10vmax_clean[isrmeas_clean], \n",
    "                            dlog10vmax_clean[isrmeas_clean])\n",
    "print(a,b)\n",
    "\n",
    "r = np.arange(12.5,18.6,0.1)\n",
    "ax.plot(r, a + b*r, 'r--', alpha=0.8)\n",
    "################################################################################\n",
    "\n",
    "\n",
    "ax.set(xlabel='$m_r$(26)',\n",
    "       xlim=(18.5, 12.5),\n",
    "       ylabel=r'$\\log{(v_\\mathrm{max} / \\mathrm{km~s}^{-1})}$',\n",
    "       ylim=(-0.5,3),\n",
    "       title=r'Rotational velocity at $0.33R_{26}$')\n",
    "\n",
    "ax.legend(loc='lower right', fontsize=10);\n",
    "\n",
    "# fig.suptitle(r'Max velocity at $0.33\\times R_{26}$', y=1.05)\n",
    "# fig.subplots_adjust(top=0.8)\n",
    "#fig.savefig('tf_coma.png', dpi=120)\n",
    "\n",
    "# print(np.sum(isrmeas))"
   ]
  },
  {
   "cell_type": "markdown",
   "id": "d9894080-d873-4b56-b089-0bbf67a41668",
   "metadata": {
    "jp-MarkdownHeadingCollapsed": true,
    "tags": []
   },
   "source": [
    "### Make pretty plot of just cleaned data with best fit"
   ]
  },
  {
   "cell_type": "code",
   "execution_count": 12,
   "id": "a0bfb2df-c839-4db3-9478-3940df05f8db",
   "metadata": {},
   "outputs": [
    {
     "data": {
      "image/png": "[encoded data removed]",
      "text/plain": [
       "<Figure size 288x360 with 1 Axes>"
      ]
     },
     "metadata": {
      "needs_background": "light"
     },
     "output_type": "display_data"
    }
   ],
   "source": [
    "fig, ax = plt.subplots(1,1, figsize=(4,5), tight_layout=True)\n",
    "\n",
    "rmag_clean = np.asarray(rmag_clean)\n",
    "vmax_clean = np.asarray(vmax_clean)\n",
    "dvmax_clean = np.asarray(dvmax_clean)\n",
    "\n",
    "isrmeas_clean = rmag_clean > 0\n",
    "\n",
    "log10vmax_clean = np.log10(vmax_clean)\n",
    "dlog10vmax_clean = 0.434 * dvmax_clean / vmax_clean\n",
    "\n",
    "r = np.arange(12.5,18.6,0.1)\n",
    "v = a + b*r\n",
    "\n",
    "################################################################################\n",
    "# Compute and plot the uncertainty range around the best fit\n",
    "#-------------------------------------------------------------------------------\n",
    "hessian = ndt.Hessian(l1norm)\n",
    "hess = hessian((a,b), \n",
    "               rmag_clean[isrmeas_clean], \n",
    "               log10vmax_clean[isrmeas_clean], \n",
    "               dlog10vmax_clean[isrmeas_clean])\n",
    "\n",
    "N_samples = 1000\n",
    "\n",
    "random_samples = np.random.multivariate_normal(mean=(a,b), \n",
    "                                               cov=np.linalg.inv(np.abs(hess)), #hess_inv.matmat(np.eye(2)), \n",
    "                                               size=N_samples)\n",
    "\n",
    "y_samples = np.zeros([1000, len(r)])\n",
    "for i in range(len(r)):\n",
    "    y_samples[:,i] = random_samples[:,0] + random_samples[:,1]*r[i]\n",
    "\n",
    "std_dev = np.std(y_samples, axis=0)\n",
    "\n",
    "ax.fill_betweenx(r, v-std_dev, v+std_dev, facecolor='lightgray')\n",
    "################################################################################\n",
    "\n",
    "ax.plot(v, r, 'k--', alpha=0.8)\n",
    "\n",
    "ax.errorbar(log10vmax_clean[isrmeas_clean], \n",
    "            rmag_clean[isrmeas_clean], \n",
    "            xerr=dlog10vmax_clean[isrmeas_clean], \n",
    "            fmt='ro', \n",
    "            alpha=0.7)\n",
    "\n",
    "ax.set(ylabel='$m_r$',\n",
    "       ylim=(18.5, 12.5),\n",
    "       xlabel=r'$\\log{(v_\\mathrm{max} / \\mathrm{km~s}^{-1})}$',\n",
    "       xlim=(1,3),\n",
    "       title='Rotational velocity at $0.33R_{26}$ \\n for the Coma cluster');\n",
    "\n",
    "#plt.savefig('../Figures/PV_TFR_Coma_fitWOerrors_09262021.eps', format='eps', dpi=120);"
   ]
  },
  {
   "cell_type": "code",
   "execution_count": null,
   "id": "160315b5-aab0-4917-83c3-916a6d0fae76",
   "metadata": {},
   "outputs": [],
   "source": []
  }
 ],
 "metadata": {
  "kernelspec": {
   "display_name": "DESI master",
   "language": "python",
   "name": "desi-master"
  },
  "language_info": {
   "codemirror_mode": {
    "name": "ipython",
    "version": 3
   },
   "file_extension": ".py",
   "mimetype": "text/x-python",
   "name": "python",
   "nbconvert_exporter": "python",
   "pygments_lexer": "ipython3",
   "version": "3.9.7"
  }
 },
 "nbformat": 4,
 "nbformat_minor": 5
}
