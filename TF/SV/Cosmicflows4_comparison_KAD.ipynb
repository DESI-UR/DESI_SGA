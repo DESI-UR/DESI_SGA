{
 "cells": [
  {
   "cell_type": "markdown",
   "id": "f1dbec5d-edd1-4d14-9d4d-32a40632f0a8",
   "metadata": {},
   "source": [
    "How does our TFR (with the 0pt calibrated with the EDD) compare with that of Cosmicflows-4?"
   ]
  },
  {
   "cell_type": "code",
   "execution_count": 1,
   "id": "33308a14-d4c1-4ab3-ac5a-02fcc428858b",
   "metadata": {},
   "outputs": [],
   "source": [
    "import numpy as np\n",
    "\n",
    "from astropy.table import Table\n",
    "from astropy.coordinates import SkyCoord\n",
    "from astropy import units as u\n",
    "\n",
    "import matplotlib.pyplot as plt"
   ]
  },
  {
   "cell_type": "code",
   "execution_count": 2,
   "id": "84aa87c1-0245-44d9-9da5-171a570eeac3",
   "metadata": {},
   "outputs": [],
   "source": [
    "c = 3e5\n",
    "\n",
    "q0 = 0.2"
   ]
  },
  {
   "cell_type": "markdown",
   "id": "b3e76bcb-b859-4235-8b2b-c47b4cc2237a",
   "metadata": {},
   "source": [
    "# Data\n",
    "\n",
    "## fuji"
   ]
  },
  {
   "cell_type": "code",
   "execution_count": 3,
   "id": "269f38cb-0fd6-421c-a843-5ec655dd92f6",
   "metadata": {},
   "outputs": [
    {
     "data": {
      "text/html": [
       "<div><i>Table length=5</i>\n",
       "<table id=\"table23453867987680\" class=\"table-striped table-bordered table-condensed\">\n",
       "<thead><tr><th>TARGETID</th><th>TARGET_RA</th><th>TARGET_DEC</th><th>HEALPIX</th><th>SURVEY</th><th>Z</th><th>ZERR</th><th>ZWARN</th><th>DELTACHI2</th><th>FILENAME</th><th>PVTYPE</th><th>SGA_ID</th><th>RA</th><th>DEC</th></tr></thead>\n",
       "<thead><tr><th>int64</th><th>float64</th><th>float64</th><th>int64</th><th>bytes3</th><th>float64</th><th>float64</th><th>int64</th><th>float64</th><th>bytes63</th><th>bytes3</th><th>int64</th><th>float64</th><th>float64</th></tr></thead>\n",
       "<tr><td>1079550234591232</td><td>194.390863195343</td><td>27.5157211790145</td><td>10378</td><td>sv3</td><td>1.1235686466514</td><td>7.31685779475115e-05</td><td>4</td><td>3.28414569795132</td><td>fuji/healpix/sv3/bright/103/10378/redrock-sv3-bright-10378.fits</td><td>EXT</td><td>662902</td><td>194.39086319534337</td><td>27.51572117901454</td></tr>\n",
       "<tr><td>1092744374124544</td><td>194.390863195343</td><td>27.5157211790145</td><td>10378</td><td>sv3</td><td>0.686773088332363</td><td>6.9756676262104e-05</td><td>4</td><td>0.786607094109058</td><td>fuji/healpix/sv3/dark/103/10378/redrock-sv3-dark-10378.fits</td><td>EXT</td><td>662902</td><td>194.39086319534337</td><td>27.51572117901454</td></tr>\n",
       "<tr><td>1092744374124546</td><td>194.364461113654</td><td>27.5037185881314</td><td>10378</td><td>sv3</td><td>0.0242933923052181</td><td>4.95233472646785e-05</td><td>0</td><td>95.428411073226</td><td>fuji/healpix/sv3/dark/103/10378/redrock-sv3-dark-10378.fits</td><td>EXT</td><td>662902</td><td>194.36446111365385</td><td>27.50371858813136</td></tr>\n",
       "<tr><td>1092744369930240</td><td>194.338458724402</td><td>27.4918902690326</td><td>10378</td><td>sv3</td><td>0.0264170223697961</td><td>0.00010139452689994</td><td>0</td><td>9.53278421035066</td><td>fuji/healpix/sv3/dark/103/10378/redrock-sv3-dark-10378.fits</td><td>EXT</td><td>662902</td><td>194.33845872440244</td><td>27.491890269032595</td></tr>\n",
       "<tr><td>1092744374124545</td><td>194.377858465028</td><td>27.5098100780282</td><td>10378</td><td>sv3</td><td>0.211332646769145</td><td>6.68535116703737e-05</td><td>4</td><td>3.73989077657461</td><td>fuji/healpix/sv3/dark/103/10378/redrock-sv3-dark-10378.fits</td><td>EXT</td><td>662902</td><td>194.3778584650283</td><td>27.509810078028195</td></tr>\n",
       "</table></div>"
      ],
      "text/plain": [
       "<Table length=5>\n",
       "    TARGETID        TARGET_RA     ...         RA                DEC        \n",
       "     int64           float64      ...      float64            float64      \n",
       "---------------- ---------------- ... ------------------ ------------------\n",
       "1079550234591232 194.390863195343 ... 194.39086319534337  27.51572117901454\n",
       "1092744374124544 194.390863195343 ... 194.39086319534337  27.51572117901454\n",
       "1092744374124546 194.364461113654 ... 194.36446111365385  27.50371858813136\n",
       "1092744369930240 194.338458724402 ... 194.33845872440244 27.491890269032595\n",
       "1092744374124545 194.377858465028 ...  194.3778584650283 27.509810078028195"
      ]
     },
     "execution_count": 3,
     "metadata": {},
     "output_type": "execute_result"
    }
   ],
   "source": [
    "#tfuji = Table.read('/global/project/projectdirs/desi/science/td/pv/desi_pv_tf_fuji_healpix.fits') # <-- CORI\n",
    "tfuji = Table.read('/global/cfs/projectdirs/desi/science/td/pv/desi_pv_tf_fuji_healpix.fits')\n",
    "tfuji[:5]"
   ]
  },
  {
   "cell_type": "markdown",
   "id": "203e2c06-be2e-4c26-9efe-f15f33fb50a3",
   "metadata": {},
   "source": [
    "### Separate fuji data into center and off-center observations"
   ]
  },
  {
   "cell_type": "code",
   "execution_count": 4,
   "id": "14867fcb-2d9b-4cb7-9e0e-e7f0aa486a56",
   "metadata": {},
   "outputs": [],
   "source": [
    "def firstdigit(n):\n",
    "    \"\"\"\n",
    "    Return the first digit of a number.\n",
    "    \n",
    "    Parameters\n",
    "    ----------\n",
    "    n : int, float, or ndarray\n",
    "        Number or list of numbers.\n",
    "    \n",
    "    Returns\n",
    "    -------\n",
    "    digit : int\n",
    "        First digit of the number.\n",
    "    \"\"\"\n",
    "    \n",
    "    digit = np.trunc(n * 10**(-np.trunc(np.log10(n)))).astype(int)\n",
    "    \n",
    "    return digit"
   ]
  },
  {
   "cell_type": "code",
   "execution_count": 5,
   "id": "858665a6-d93a-4f3a-8ece-a473f0781ddc",
   "metadata": {},
   "outputs": [
    {
     "name": "stderr",
     "output_type": "stream",
     "text": [
      "/tmp/ipykernel_20256/917620242.py:16: RuntimeWarning: invalid value encountered in log10\n",
      "  digit = np.trunc(n * 10**(-np.trunc(np.log10(n)))).astype(int)\n"
     ]
    }
   ],
   "source": [
    "first_digits = firstdigit(tfuji['TARGETID'])\n",
    "\n",
    "fuji_centers = tfuji[first_digits == 3]\n",
    "fuji_axis = tfuji[first_digits != 3]"
   ]
  },
  {
   "cell_type": "markdown",
   "id": "e682c2cc-2551-465f-a7f9-9a6d3ca77305",
   "metadata": {},
   "source": [
    "### Clean the fuji center observations\n",
    "\n",
    "Only keep those with\n",
    " * DELTACHI2 > 25\n",
    " * ZWARN == 0"
   ]
  },
  {
   "cell_type": "code",
   "execution_count": 6,
   "id": "74cc17ee-9f38-4a9b-8ac8-5979648f48c4",
   "metadata": {},
   "outputs": [],
   "source": [
    "good_centers = fuji_centers[(fuji_centers['DELTACHI2'] > 25) & (fuji_centers['ZWARN'] == 0)]"
   ]
  },
  {
   "cell_type": "markdown",
   "id": "8a9c26f5-f7f7-4d17-a6c9-91b8856fcad5",
   "metadata": {},
   "source": [
    "## ALFALFA\n",
    "\n",
    "Read in our version of the SGA that includes the index value of the galaxy in the ALFALFA data file.  (This file was made with the `ALFALFA_radec_match.py` script, currently living in my (Kelly's) data folder on my local machine.)"
   ]
  },
  {
   "cell_type": "code",
   "execution_count": 7,
   "id": "563b5239-f1f9-475d-be41-2225c7ecf6c7",
   "metadata": {},
   "outputs": [
    {
     "data": {
      "text/html": [
       "<div><i>Table length=5</i>\n",
       "<table id=\"table23453867928304\" class=\"table-striped table-bordered table-condensed\">\n",
       "<thead><tr><th>AGCNr</th><th>W50</th><th>sigW</th></tr></thead>\n",
       "<thead><tr><th>int64</th><th>int64</th><th>int64</th></tr></thead>\n",
       "<tr><td>105367</td><td>274</td><td>39</td></tr>\n",
       "<tr><td>333313</td><td>313</td><td>20</td></tr>\n",
       "<tr><td>331060</td><td>160</td><td>4</td></tr>\n",
       "<tr><td>331061</td><td>260</td><td>45</td></tr>\n",
       "<tr><td>104570</td><td>245</td><td>6</td></tr>\n",
       "</table></div>"
      ],
      "text/plain": [
       "<Table length=5>\n",
       "AGCNr   W50   sigW\n",
       "int64  int64 int64\n",
       "------ ----- -----\n",
       "105367   274    39\n",
       "333313   313    20\n",
       "331060   160     4\n",
       "331061   260    45\n",
       "104570   245     6"
      ]
     },
     "execution_count": 7,
     "metadata": {},
     "output_type": "execute_result"
    }
   ],
   "source": [
    "ALFALFA = Table.read('../../data/a100.code12.table2.190808.txt', \n",
    "                     format='ascii.csv', \n",
    "                     include_names=['AGCNr', 'W50', 'sigW'])\n",
    "\n",
    "ALFALFA[:5]"
   ]
  },
  {
   "cell_type": "code",
   "execution_count": 8,
   "id": "44d7e323-4e41-4000-bdbd-96799b6f7fad",
   "metadata": {},
   "outputs": [],
   "source": [
    "ALFALFA_dict = {}\n",
    "\n",
    "for i in range(len(ALFALFA)):\n",
    "    \n",
    "    ALFALFA_dict[ALFALFA['AGCNr'][i]] = i"
   ]
  },
  {
   "cell_type": "code",
   "execution_count": 9,
   "id": "0e046488-4edf-4042-9a49-9c12a0853856",
   "metadata": {},
   "outputs": [
    {
     "data": {
      "text/html": [
       "<div><i>Table length=5</i>\n",
       "<table id=\"table23453860954176\" class=\"table-striped table-bordered table-condensed\">\n",
       "<thead><tr><th>SGA_ID</th><th>SGA_GALAXY</th><th>GALAXY</th><th>PGC</th><th>RA_LEDA</th><th>DEC_LEDA</th><th>MORPHTYPE</th><th>PA_LEDA</th><th>D25_LEDA</th><th>BA_LEDA</th><th>Z_LEDA</th><th>SB_D25_LEDA</th><th>MAG_LEDA</th><th>BYHAND</th><th>REF</th><th>GROUP_ID</th><th>GROUP_NAME</th><th>GROUP_MULT</th><th>GROUP_PRIMARY</th><th>GROUP_RA</th><th>GROUP_DEC</th><th>GROUP_DIAMETER</th><th>BRICKNAME</th><th>RA</th><th>DEC</th><th>D26</th><th>D26_REF</th><th>PA</th><th>BA</th><th>RA_MOMENT</th><th>DEC_MOMENT</th><th>SMA_MOMENT</th><th>G_SMA50</th><th>R_SMA50</th><th>Z_SMA50</th><th>SMA_SB22</th><th>SMA_SB22.5</th><th>SMA_SB23</th><th>SMA_SB23.5</th><th>SMA_SB24</th><th>SMA_SB24.5</th><th>SMA_SB25</th><th>SMA_SB25.5</th><th>SMA_SB26</th><th>G_MAG_SB22</th><th>R_MAG_SB22</th><th>Z_MAG_SB22</th><th>G_MAG_SB22.5</th><th>R_MAG_SB22.5</th><th>Z_MAG_SB22.5</th><th>G_MAG_SB23</th><th>R_MAG_SB23</th><th>Z_MAG_SB23</th><th>G_MAG_SB23.5</th><th>R_MAG_SB23.5</th><th>Z_MAG_SB23.5</th><th>G_MAG_SB24</th><th>R_MAG_SB24</th><th>Z_MAG_SB24</th><th>G_MAG_SB24.5</th><th>R_MAG_SB24.5</th><th>Z_MAG_SB24.5</th><th>G_MAG_SB25</th><th>R_MAG_SB25</th><th>Z_MAG_SB25</th><th>G_MAG_SB25.5</th><th>R_MAG_SB25.5</th><th>Z_MAG_SB25.5</th><th>G_MAG_SB26</th><th>R_MAG_SB26</th><th>Z_MAG_SB26</th><th>SMA_SB22_ERR</th><th>SMA_SB22.5_ERR</th><th>SMA_SB23_ERR</th><th>SMA_SB23.5_ERR</th><th>SMA_SB24_ERR</th><th>SMA_SB24.5_ERR</th><th>SMA_SB25_ERR</th><th>SMA_SB25.5_ERR</th><th>SMA_SB26_ERR</th><th>G_MAG_SB22_ERR</th><th>R_MAG_SB22_ERR</th><th>Z_MAG_SB22_ERR</th><th>G_MAG_SB22.5_ERR</th><th>R_MAG_SB22.5_ERR</th><th>Z_MAG_SB22.5_ERR</th><th>G_MAG_SB23_ERR</th><th>R_MAG_SB23_ERR</th><th>Z_MAG_SB23_ERR</th><th>G_MAG_SB23.5_ERR</th><th>R_MAG_SB23.5_ERR</th><th>Z_MAG_SB23.5_ERR</th><th>G_MAG_SB24_ERR</th><th>R_MAG_SB24_ERR</th><th>Z_MAG_SB24_ERR</th><th>G_MAG_SB24.5_ERR</th><th>R_MAG_SB24.5_ERR</th><th>Z_MAG_SB24.5_ERR</th><th>G_MAG_SB25_ERR</th><th>R_MAG_SB25_ERR</th><th>Z_MAG_SB25_ERR</th><th>G_MAG_SB25.5_ERR</th><th>R_MAG_SB25.5_ERR</th><th>Z_MAG_SB25.5_ERR</th><th>G_MAG_SB26_ERR</th><th>R_MAG_SB26_ERR</th><th>Z_MAG_SB26_ERR</th><th>G_COG_PARAMS_MTOT</th><th>G_COG_PARAMS_M0</th><th>G_COG_PARAMS_ALPHA1</th><th>G_COG_PARAMS_ALPHA2</th><th>G_COG_PARAMS_CHI2</th><th>R_COG_PARAMS_MTOT</th><th>R_COG_PARAMS_M0</th><th>R_COG_PARAMS_ALPHA1</th><th>R_COG_PARAMS_ALPHA2</th><th>R_COG_PARAMS_CHI2</th><th>Z_COG_PARAMS_MTOT</th><th>Z_COG_PARAMS_M0</th><th>Z_COG_PARAMS_ALPHA1</th><th>Z_COG_PARAMS_ALPHA2</th><th>Z_COG_PARAMS_CHI2</th><th>ELLIPSEBIT</th><th>ALFALFA_AGCNr</th></tr></thead>\n",
       "<thead><tr><th>int64</th><th>bytes16</th><th>bytes29</th><th>int64</th><th>float64</th><th>float64</th><th>bytes21</th><th>float32</th><th>float32</th><th>float32</th><th>float32</th><th>float32</th><th>float32</th><th>bool</th><th>bytes13</th><th>int64</th><th>bytes35</th><th>int16</th><th>bool</th><th>float64</th><th>float64</th><th>float32</th><th>bytes8</th><th>float64</th><th>float64</th><th>float32</th><th>bytes4</th><th>float32</th><th>float32</th><th>float64</th><th>float64</th><th>float32</th><th>float32</th><th>float32</th><th>float32</th><th>float32</th><th>float32</th><th>float32</th><th>float32</th><th>float32</th><th>float32</th><th>float32</th><th>float32</th><th>float32</th><th>float32</th><th>float32</th><th>float32</th><th>float32</th><th>float32</th><th>float32</th><th>float32</th><th>float32</th><th>float32</th><th>float32</th><th>float32</th><th>float32</th><th>float32</th><th>float32</th><th>float32</th><th>float32</th><th>float32</th><th>float32</th><th>float32</th><th>float32</th><th>float32</th><th>float32</th><th>float32</th><th>float32</th><th>float32</th><th>float32</th><th>float32</th><th>float32</th><th>float32</th><th>float32</th><th>float32</th><th>float32</th><th>float32</th><th>float32</th><th>float32</th><th>float32</th><th>float32</th><th>float32</th><th>float32</th><th>float32</th><th>float32</th><th>float32</th><th>float32</th><th>float32</th><th>float32</th><th>float32</th><th>float32</th><th>float32</th><th>float32</th><th>float32</th><th>float32</th><th>float32</th><th>float32</th><th>float32</th><th>float32</th><th>float32</th><th>float32</th><th>float32</th><th>float32</th><th>float32</th><th>float32</th><th>float32</th><th>float32</th><th>float32</th><th>float32</th><th>float32</th><th>float32</th><th>float32</th><th>float32</th><th>float32</th><th>float32</th><th>float32</th><th>float32</th><th>float32</th><th>float32</th><th>float32</th><th>float32</th><th>float32</th><th>int32</th><th>int64</th></tr></thead>\n",
       "<tr><td>2</td><td>SGA-2020 2</td><td>PGC1283207</td><td>1283207</td><td>228.3770865</td><td>5.4232017</td><td>S?</td><td>152.2</td><td>0.36307806</td><td>0.724436</td><td>0.03463229</td><td>23.40448</td><td>16.976</td><td>False</td><td>LEDA-20181114</td><td>0</td><td>PGC1283207</td><td>1</td><td>True</td><td>228.3770865</td><td>5.4232017</td><td>0.36307806</td><td>2283p055</td><td>228.3770803831908</td><td>5.423191398593787</td><td>0.49470574</td><td>SB26</td><td>158.20142</td><td>0.545691</td><td>228.37700918822188</td><td>5.4232652570544015</td><td>10.897086</td><td>3.3509698</td><td>3.1147978</td><td>3.240862</td><td>5.902337</td><td>6.9126143</td><td>7.941369</td><td>8.997992</td><td>10.073601</td><td>11.199986</td><td>12.391357</td><td>13.561038</td><td>14.841172</td><td>16.966799</td><td>16.108246</td><td>15.486356</td><td>16.879545</td><td>16.024958</td><td>15.400715</td><td>16.818878</td><td>15.967034</td><td>15.341793</td><td>16.776297</td><td>15.925804</td><td>15.300776</td><td>16.746685</td><td>15.897334</td><td>15.272053</td><td>16.725166</td><td>15.876816</td><td>15.2521105</td><td>16.708357</td><td>15.862035</td><td>15.237181</td><td>16.696539</td><td>15.851936</td><td>15.226998</td><td>16.689613</td><td>15.844313</td><td>15.21976</td><td>0.013392451</td><td>0.02354</td><td>0.021872982</td><td>0.01736985</td><td>0.024445537</td><td>0.039866067</td><td>0.05026544</td><td>0.08455789</td><td>0.122911856</td><td>0.005682776</td><td>0.0054258136</td><td>0.0049038026</td><td>0.005588406</td><td>0.005323561</td><td>0.0047632363</td><td>0.00543534</td><td>0.005177031</td><td>0.0046343105</td><td>0.0053025587</td><td>0.005040888</td><td>0.0045181247</td><td>0.005206092</td><td>0.0049438984</td><td>0.0044374703</td><td>0.0051483097</td><td>0.0048758644</td><td>0.0043834248</td><td>0.0051032505</td><td>0.0048264163</td><td>0.004344248</td><td>0.0050705094</td><td>0.004792021</td><td>0.004319857</td><td>0.005054293</td><td>0.004765629</td><td>0.0043044444</td><td>16.65942</td><td>0.34037337</td><td>0.2978292</td><td>3.0239506</td><td>0.07928849</td><td>15.820566</td><td>0.2640441</td><td>0.34559453</td><td>3.3033552</td><td>0.003811298</td><td>15.195567</td><td>0.29826432</td><td>0.3001073</td><td>3.2333765</td><td>0.011723555</td><td>0</td><td>-1</td></tr>\n",
       "<tr><td>3</td><td>SGA-2020 3</td><td>PGC1310416</td><td>1310416</td><td>202.54443750000002</td><td>6.9345944</td><td>Sc</td><td>159.26</td><td>0.4017908</td><td>0.7816278</td><td>0.073888786</td><td>23.498482</td><td>16.85</td><td>False</td><td>LEDA-20181114</td><td>1</td><td>PGC1310416</td><td>1</td><td>True</td><td>202.54443750000002</td><td>6.9345944</td><td>0.4017908</td><td>2025p070</td><td>202.5444619671207</td><td>6.9346244322326624</td><td>0.55350494</td><td>SB26</td><td>161.5937</td><td>0.7291764</td><td>202.54432739596137</td><td>6.934806737209989</td><td>15.746941</td><td>5.6416235</td><td>5.2647552</td><td>5.0895185</td><td>5.9838247</td><td>7.4356494</td><td>8.728868</td><td>10.087478</td><td>11.529764</td><td>12.818195</td><td>14.115497</td><td>15.319822</td><td>16.605148</td><td>16.963299</td><td>16.307854</td><td>15.806882</td><td>16.729511</td><td>16.097378</td><td>15.615527</td><td>16.606344</td><td>15.990707</td><td>15.518403</td><td>16.525967</td><td>15.917321</td><td>15.450624</td><td>16.462585</td><td>15.859485</td><td>15.397182</td><td>16.419558</td><td>15.820947</td><td>15.36243</td><td>16.390558</td><td>15.796369</td><td>15.338905</td><td>16.376112</td><td>15.782492</td><td>15.323709</td><td>16.364115</td><td>15.773462</td><td>15.313725</td><td>0.036992554</td><td>0.034982767</td><td>0.037769336</td><td>0.049429573</td><td>0.052699674</td><td>0.074114166</td><td>0.07914538</td><td>0.09781406</td><td>0.15534972</td><td>0.016095797</td><td>0.019181909</td><td>0.021539452</td><td>0.013955905</td><td>0.016594552</td><td>0.018640138</td><td>0.012786752</td><td>0.015244632</td><td>0.01715491</td><td>0.011973826</td><td>0.014366956</td><td>0.016208366</td><td>0.011358372</td><td>0.013676575</td><td>0.015474222</td><td>0.010944939</td><td>0.013225297</td><td>0.015011175</td><td>0.010691595</td><td>0.012931233</td><td>0.014687982</td><td>0.010546411</td><td>0.012796015</td><td>0.014518412</td><td>0.010457551</td><td>0.012685407</td><td>0.014379212</td><td>16.284733</td><td>1.0914493</td><td>0.24674739</td><td>2.4320207</td><td>0.68685365</td><td>15.704403</td><td>0.8764323</td><td>0.27360612</td><td>2.4995425</td><td>0.49343896</td><td>15.235263</td><td>1.3098688</td><td>0.17866786</td><td>2.1750498</td><td>0.20391206</td><td>0</td><td>-1</td></tr>\n",
       "<tr><td>4</td><td>SGA-2020 4</td><td>SDSSJ145059.93+135143.0</td><td>4435547</td><td>222.749787</td><td>13.8619111</td><td>S?</td><td>44.57</td><td>0.33342642</td><td>0.6637431</td><td>0.07567602</td><td>24.457481</td><td>18.214</td><td>False</td><td>LEDA-20181114</td><td>2</td><td>SDSSJ145059.93+135143.0</td><td>1</td><td>True</td><td>222.749787</td><td>13.8619111</td><td>0.33342642</td><td>2228p137</td><td>222.7497050504303</td><td>13.861929561160224</td><td>0.37067476</td><td>SB26</td><td>45.28537</td><td>0.70922077</td><td>222.749650475464</td><td>13.862052070022896</td><td>8.877115</td><td>4.652771</td><td>4.4837785</td><td>4.4959745</td><td>2.01033</td><td>3.3967943</td><td>4.76257</td><td>6.043787</td><td>7.242806</td><td>8.250407</td><td>9.158723</td><td>10.083457</td><td>11.120243</td><td>19.97595</td><td>19.190666</td><td>18.649523</td><td>19.098536</td><td>18.397219</td><td>17.899643</td><td>18.624952</td><td>17.967802</td><td>17.50231</td><td>18.35278</td><td>17.718002</td><td>17.265854</td><td>18.192762</td><td>17.5654</td><td>17.115404</td><td>18.10496</td><td>17.480022</td><td>17.033989</td><td>18.053415</td><td>17.430794</td><td>16.982971</td><td>18.020155</td><td>17.399996</td><td>16.948252</td><td>17.994783</td><td>17.377092</td><td>16.924469</td><td>0.02113719</td><td>0.03639431</td><td>0.051901262</td><td>0.06539029</td><td>0.08552586</td><td>0.07008602</td><td>0.070394725</td><td>0.08394975</td><td>0.113649584</td><td>0.013428732</td><td>0.017600043</td><td>0.016373685</td><td>0.012251812</td><td>0.014566466</td><td>0.013732588</td><td>0.012644532</td><td>0.014030071</td><td>0.013153961</td><td>0.012747069</td><td>0.013512552</td><td>0.012818239</td><td>0.012865601</td><td>0.01324455</td><td>0.012532208</td><td>0.012762528</td><td>0.013058522</td><td>0.012420634</td><td>0.01252645</td><td>0.012827468</td><td>0.012283978</td><td>0.012320441</td><td>0.012607317</td><td>0.012104107</td><td>0.0121167945</td><td>0.01244376</td><td>0.011985352</td><td>17.896797</td><td>0.5557265</td><td>0.25455818</td><td>3.167909</td><td>1.0522435</td><td>17.28287</td><td>0.4885815</td><td>0.2782499</td><td>3.2144456</td><td>1.3733263</td><td>16.807674</td><td>0.5177045</td><td>0.32264626</td><td>2.900518</td><td>1.8054093</td><td>0</td><td>-1</td></tr>\n",
       "<tr><td>7</td><td>SGA-2020 7</td><td>PGC1742504</td><td>1742504</td><td>182.0888085</td><td>25.6022764</td><td>Sbc</td><td>84.97</td><td>0.548277</td><td>0.25118864</td><td>0.10090814</td><td>24.91348</td><td>17.59</td><td>False</td><td>LEDA-20181114</td><td>3</td><td>PGC1742504</td><td>1</td><td>True</td><td>182.0888085</td><td>25.6022764</td><td>0.548277</td><td>1820p255</td><td>182.08882232629614</td><td>25.60226821438983</td><td>0.8883204</td><td>SB26</td><td>84.857475</td><td>0.19753796</td><td>182.08873760544392</td><td>25.602311195157757</td><td>19.779116</td><td>6.5958204</td><td>6.0386286</td><td>5.8089786</td><td>9.279068</td><td>10.949478</td><td>12.652142</td><td>14.446171</td><td>16.323679</td><td>18.392954</td><td>20.915508</td><td>23.566542</td><td>26.649612</td><td>17.390274</td><td>16.360935</td><td>15.531964</td><td>17.285898</td><td>16.262264</td><td>15.440768</td><td>17.2167</td><td>16.195492</td><td>15.380734</td><td>17.16217</td><td>16.144245</td><td>15.334935</td><td>17.130178</td><td>16.110302</td><td>15.304758</td><td>17.104496</td><td>16.084463</td><td>15.280803</td><td>17.081282</td><td>16.061373</td><td>15.2589855</td><td>17.063671</td><td>16.045204</td><td>15.243196</td><td>17.046705</td><td>16.031244</td><td>15.23268</td><td>0.04351465</td><td>0.055440858</td><td>0.052207235</td><td>0.07507412</td><td>0.0793679</td><td>0.10347854</td><td>0.13569456</td><td>0.13104819</td><td>0.17234002</td><td>0.03885276</td><td>0.03744209</td><td>0.03786608</td><td>0.035534665</td><td>0.03441038</td><td>0.03503794</td><td>0.033557214</td><td>0.032548346</td><td>0.033348277</td><td>0.031964395</td><td>0.03106612</td><td>0.031957533</td><td>0.031133845</td><td>0.030202182</td><td>0.031190341</td><td>0.030430589</td><td>0.029511228</td><td>0.030530946</td><td>0.02975241</td><td>0.028853998</td><td>0.029866546</td><td>0.02928568</td><td>0.0284345</td><td>0.029445464</td><td>0.028843498</td><td>0.028076617</td><td>0.029169334</td><td>16.995174</td><td>21.083004</td><td>0.0164273</td><td>1.9079465</td><td>0.029703742</td><td>15.991165</td><td>0.7657307</td><td>0.52285546</td><td>2.3045986</td><td>0.006013103</td><td>15.191324</td><td>1.0408205</td><td>0.32956335</td><td>2.1520333</td><td>0.004725194</td><td>0</td><td>-1</td></tr>\n",
       "<tr><td>18</td><td>SGA-2020 18</td><td>2MASXJ12340801+4535444</td><td>3550748</td><td>188.5335525</td><td>45.5956434</td><td>E</td><td>168.65</td><td>0.53088444</td><td>0.6950243</td><td>0.07609531</td><td>23.97948</td><td>16.726</td><td>False</td><td>LEDA-20181114</td><td>4</td><td>2MASXJ12340801+4535444</td><td>1</td><td>True</td><td>188.5335525</td><td>45.5956434</td><td>0.53088444</td><td>1883p455</td><td>188.53364923054596</td><td>45.595620212931856</td><td>0.73435897</td><td>SB26</td><td>166.25127</td><td>0.70995796</td><td>188.53349052789085</td><td>45.59567446403057</td><td>15.694805</td><td>5.091253</td><td>4.670616</td><td>2.9429996</td><td>5.219665</td><td>6.6119533</td><td>8.228266</td><td>10.109745</td><td>12.170589</td><td>14.364073</td><td>16.722517</td><td>19.18709</td><td>22.03077</td><td>17.208511</td><td>16.224203</td><td>15.566424</td><td>17.050343</td><td>16.080097</td><td>15.443468</td><td>16.921791</td><td>15.962402</td><td>15.347263</td><td>16.814959</td><td>15.864242</td><td>15.27134</td><td>16.729906</td><td>15.787886</td><td>15.218466</td><td>16.664564</td><td>15.730083</td><td>15.182751</td><td>16.61991</td><td>15.686324</td><td>15.1601305</td><td>16.585676</td><td>15.654064</td><td>15.148039</td><td>16.558054</td><td>15.629669</td><td>15.141826</td><td>0.032001704</td><td>0.043849397</td><td>0.045203492</td><td>0.072918765</td><td>0.06263939</td><td>0.07675708</td><td>0.10399303</td><td>0.07780949</td><td>0.14017467</td><td>0.016467415</td><td>0.021250801</td><td>0.032092847</td><td>0.0149329165</td><td>0.019061867</td><td>0.028947951</td><td>0.01369758</td><td>0.01736746</td><td>0.026648495</td><td>0.012623343</td><td>0.015980754</td><td>0.024998168</td><td>0.011793644</td><td>0.014977396</td><td>0.023862366</td><td>0.011184664</td><td>0.014255281</td><td>0.023120966</td><td>0.010785815</td><td>0.013740733</td><td>0.022603082</td><td>0.010472503</td><td>0.013351409</td><td>0.022360764</td><td>0.010212836</td><td>0.013043255</td><td>0.022296576</td><td>16.471447</td><td>0.3236818</td><td>1.9206839</td><td>2.3249283</td><td>0.0973919</td><td>15.540598</td><td>0.3247282</td><td>1.7439244</td><td>2.1774826</td><td>0.023485765</td><td>15.124181</td><td>0.16547345</td><td>1.4694684</td><td>3.3948786</td><td>0.028653827</td><td>0</td><td>-1</td></tr>\n",
       "</table></div>"
      ],
      "text/plain": [
       "<Table length=5>\n",
       "SGA_ID  SGA_GALAXY          GALAXY         ... ELLIPSEBIT ALFALFA_AGCNr\n",
       "int64    bytes16           bytes29         ...   int32        int64    \n",
       "------ ----------- ----------------------- ... ---------- -------------\n",
       "     2  SGA-2020 2              PGC1283207 ...          0            -1\n",
       "     3  SGA-2020 3              PGC1310416 ...          0            -1\n",
       "     4  SGA-2020 4 SDSSJ145059.93+135143.0 ...          0            -1\n",
       "     7  SGA-2020 7              PGC1742504 ...          0            -1\n",
       "    18 SGA-2020 18  2MASXJ12340801+4535444 ...          0            -1"
      ]
     },
     "execution_count": 9,
     "metadata": {},
     "output_type": "execute_result"
    }
   ],
   "source": [
    "SGA = Table.read('../../data/SGA-2020_ALFALFA.fits')\n",
    "\n",
    "SGA['ALFALFA_index'].name = 'ALFALFA_AGCNr'\n",
    "\n",
    "SGA[:5]"
   ]
  },
  {
   "cell_type": "code",
   "execution_count": 10,
   "id": "d669f3ec-651e-4247-ad4a-5ab6144f16fc",
   "metadata": {},
   "outputs": [],
   "source": [
    "SGA_dict = {}\n",
    "\n",
    "for i in range(len(SGA)):\n",
    "    \n",
    "    SGA_dict[SGA['SGA_ID'][i]] = i"
   ]
  },
  {
   "cell_type": "markdown",
   "id": "16e0dc1c-c4a9-4194-8427-5d4b0e6b3fd5",
   "metadata": {},
   "source": [
    "### If an SGA galaxy has at least one observation at its center, set the redshift and HI velocity of that galaxy"
   ]
  },
  {
   "cell_type": "code",
   "execution_count": 11,
   "id": "e0567881-6d2e-4127-abad-3cf4e67cbe18",
   "metadata": {},
   "outputs": [],
   "source": [
    "SGA['Z_DESI'] = np.nan\n",
    "SGA['ZERR_DESI'] = np.nan\n",
    "\n",
    "SGA['V_HI'] = np.nan\n",
    "SGA['VERR_HI'] = np.nan\n",
    "\n",
    "for sga_id in np.unique(good_centers['SGA_ID']):\n",
    "    \n",
    "    # Find the row in SGA for this galaxy\n",
    "    SGA_idx = SGA_dict[sga_id]\n",
    "    \n",
    "    # Set the redshift of this galaxy to be the average redshift of all good center observations\n",
    "    SGA['Z_DESI'][SGA_idx] = np.mean(good_centers['Z'][good_centers['SGA_ID'] == sga_id])\n",
    "    SGA['ZERR_DESI'][SGA_idx] = np.mean(good_centers['ZERR'][good_centers['SGA_ID'] == sga_id]**2)/np.sum(good_centers['SGA_ID'] == sga_id)\n",
    "    \n",
    "    # Set the HI velocity width of this galaxy\n",
    "    if SGA['ALFALFA_AGCNr'][SGA_idx] >= 0:\n",
    "        \n",
    "        ALFALFA_idx = ALFALFA_dict[SGA['ALFALFA_AGCNr'][SGA_idx]]\n",
    "        \n",
    "        SGA['V_HI'][SGA_idx] = ALFALFA['W50'][ALFALFA_idx] - 6. # Adjustment from Kourkchi et al. (2020a), Sec. 2.2\n",
    "        SGA['VERR_HI'][SGA_idx] = ALFALFA['sigW'][ALFALFA_idx]"
   ]
  },
  {
   "cell_type": "markdown",
   "id": "57a6dae2-5b0a-49d0-91f3-2e3520f57013",
   "metadata": {},
   "source": [
    "### Filter SGA to keep only those objects with center observations and HI velocities"
   ]
  },
  {
   "cell_type": "code",
   "execution_count": 12,
   "id": "429abb64-7348-4a46-bf80-fa764e674386",
   "metadata": {},
   "outputs": [
    {
     "name": "stdout",
     "output_type": "stream",
     "text": [
      "fuji galaxies with HI velocities and good center observations: 315\n",
      "fuji off-center observations in galaxies with HI velocities: 1089\n"
     ]
    }
   ],
   "source": [
    "HI = np.isfinite(SGA['V_HI'])\n",
    "centers = np.isfinite(SGA['Z_DESI'])\n",
    "\n",
    "################################################################################\n",
    "# Keep all observations of each galaxy that have HI velocities\n",
    "#-------------------------------------------------------------------------------\n",
    "SGA_ID_dist = SGA['SGA_ID'][HI & centers]\n",
    "\n",
    "centers_dist = good_centers[np.in1d(good_centers['SGA_ID'], SGA_ID_dist)]\n",
    "\n",
    "axis_dist = fuji_axis[np.in1d(fuji_axis['SGA_ID'], SGA_ID_dist)]\n",
    "################################################################################\n",
    "\n",
    "print('fuji galaxies with HI velocities and good center observations:', len(np.unique(centers_dist['SGA_ID'])))\n",
    "print('fuji off-center observations in galaxies with HI velocities:', len(axis_dist))"
   ]
  },
  {
   "cell_type": "markdown",
   "id": "f2f0098c-f09d-47da-87b7-d347385c7f9e",
   "metadata": {},
   "source": [
    "# Calculate the rotational velocities"
   ]
  },
  {
   "cell_type": "code",
   "execution_count": 13,
   "id": "940754dc-8885-4b7e-aa8c-f9ded1be16b1",
   "metadata": {},
   "outputs": [],
   "source": [
    "axis_dist['SKY_FIBER_DIST'] = 0.\n",
    "axis_dist['SKY_FIBER_DIST_R26'] = 0.\n",
    "axis_dist['V_ROT'] = np.nan\n",
    "axis_dist['V_ROT_ERR'] = np.nan\n",
    "\n",
    "\n",
    "# For each SGA galaxy that has at least one center observation, calculate the \n",
    "# distance for all of that galaxy's targets\n",
    "for sga_gal in np.unique(centers_dist['SGA_ID']):\n",
    "    \n",
    "    # Identify all galaxy targets on this galaxy\n",
    "    obs_idx = axis_dist['SGA_ID'] == sga_gal\n",
    "    \n",
    "    # Find galaxy index in SGA catalog\n",
    "    sga_idx = SGA_dict[sga_gal]\n",
    "    \n",
    "    #---------------------------------------------------------------------------\n",
    "    # Calculate distance between each observation and the center\n",
    "    #---------------------------------------------------------------------------\n",
    "    center_coords = SkyCoord(ra=SGA['RA'][sga_idx], \n",
    "                             dec=SGA['DEC'][sga_idx], \n",
    "                             unit=u.degree)\n",
    "    target_coords = SkyCoord(ra=axis_dist['RA'][obs_idx], \n",
    "                             dec=axis_dist['DEC'][obs_idx], \n",
    "                             unit=u.degree)\n",
    "    \n",
    "    sep2d = target_coords.separation(center_coords)\n",
    "    \n",
    "    axis_dist['SKY_FIBER_DIST'][obs_idx] = sep2d\n",
    "    axis_dist['SKY_FIBER_DIST_R26'][obs_idx] = 2*sep2d.to('arcmin')/(SGA['D26'][sga_idx]*u.arcmin)\n",
    "    #---------------------------------------------------------------------------\n",
    "    \n",
    "    \n",
    "    #---------------------------------------------------------------------------\n",
    "    # Calculate rotational velocity\n",
    "    #---------------------------------------------------------------------------\n",
    "    # Use the average redshift of all center observations for the systemic velocity\n",
    "    z_center = np.mean(SGA['Z_DESI'][sga_idx])\n",
    "    z_err_center2 = SGA['ZERR_DESI'][sga_idx]**2\n",
    "\n",
    "    # Calculate rotational velocity for all observations of the galaxy\n",
    "    axis_dist['V_ROT'][obs_idx] = c*(axis_dist['Z'][obs_idx] - z_center)\n",
    "    axis_dist['V_ROT_ERR'][obs_idx] = c*np.sqrt(axis_dist['ZERR'][obs_idx]**2 + z_err_center2)\n",
    "    #---------------------------------------------------------------------------\n",
    "    \n",
    "    \n",
    "    #---------------------------------------------------------------------------\n",
    "    # Correct rotational velocities for inclination angle\n",
    "    #---------------------------------------------------------------------------\n",
    "    cosi2 = (SGA['BA'][sga_idx]**2 - q0**2)/(1 - q0**2)\n",
    "    \n",
    "    # Galaxies with b/a < q0\n",
    "    if cosi2 < 0:\n",
    "        cosi2 = 0\n",
    "    \n",
    "    axis_dist['V_ROT'][obs_idx] /= np.sin(np.arccos(np.sqrt(cosi2)))\n",
    "    #---------------------------------------------------------------------------"
   ]
  },
  {
   "cell_type": "markdown",
   "id": "f3d6797a-1f7a-40ee-9cd2-60ab494aa0c9",
   "metadata": {},
   "source": [
    "# Cut for galaxies with HI velocities suitable for calibrating the TFR\n",
    "\n",
    "Requirements:\n",
    " * $V_{rot} < 1000$ km/s at $0.33R_{26}$\n",
    " * $i > 45^\\circ$\n",
    " * Spiral-type morphology\n",
    " * Passes visual inspection"
   ]
  },
  {
   "cell_type": "markdown",
   "id": "53af56fc-473c-41e2-923c-c971d3026126",
   "metadata": {},
   "source": [
    "## Velocity cut"
   ]
  },
  {
   "cell_type": "code",
   "execution_count": 14,
   "id": "e5b8b8a6-5105-4f5b-95a1-d4312f914bcc",
   "metadata": {},
   "outputs": [
    {
     "name": "stdout",
     "output_type": "stream",
     "text": [
      "314 156\n"
     ]
    }
   ],
   "source": [
    "r0p3 = (axis_dist['SKY_FIBER_DIST_R26'] > 0.3) & (axis_dist['SKY_FIBER_DIST_R26'] < 0.4)\n",
    "\n",
    "Vgood = np.abs(axis_dist['V_ROT']) < 1000\n",
    "\n",
    "good_axis_dist = axis_dist[r0p3 & Vgood]\n",
    "\n",
    "print(len(good_axis_dist), len(np.unique(good_axis_dist['SGA_ID'])))"
   ]
  },
  {
   "cell_type": "markdown",
   "id": "29031ebf-651f-435a-9891-ff5d545af0d3",
   "metadata": {},
   "source": [
    "## Inclination angle cut"
   ]
  },
  {
   "cell_type": "code",
   "execution_count": 15,
   "id": "ec78d794-4ad2-416c-a575-88701175efbb",
   "metadata": {},
   "outputs": [],
   "source": [
    "SGA['cosi2'] = (SGA['BA']**2 - q0**2)/(1 - q0**2)\n",
    "SGA['cosi2'][SGA['cosi2'] < 0] = 0\n",
    "\n",
    "good_axis_dist['iSGA'] = -1\n",
    "\n",
    "for i in range(len(good_axis_dist)):\n",
    "    \n",
    "    # Find galaxy in SGA\n",
    "    sga_idx = SGA_dict[good_axis_dist['SGA_ID'][i]]\n",
    "    \n",
    "    good_axis_dist['iSGA'][i] = sga_idx\n",
    "    \n",
    "good_axis_dist['cosi2'] = SGA['cosi2'][good_axis_dist['iSGA']]"
   ]
  },
  {
   "cell_type": "code",
   "execution_count": 16,
   "id": "5c43290a-541c-4770-a245-d8f6d7816df6",
   "metadata": {},
   "outputs": [
    {
     "name": "stdout",
     "output_type": "stream",
     "text": [
      "263 131\n"
     ]
    }
   ],
   "source": [
    "i_min = 45. # degrees\n",
    "\n",
    "cosi2_max = np.cos(i_min*np.pi/180.)**2\n",
    "\n",
    "edge = good_axis_dist['cosi2'] <= cosi2_max\n",
    "\n",
    "good_edge_axis_dist = good_axis_dist[edge]\n",
    "\n",
    "print(len(good_edge_axis_dist), len(np.unique(good_edge_axis_dist['SGA_ID'])))"
   ]
  },
  {
   "cell_type": "markdown",
   "id": "42313606-d624-4ff8-9cac-e54343df4939",
   "metadata": {},
   "source": [
    "## Morphology cut"
   ]
  },
  {
   "cell_type": "code",
   "execution_count": 17,
   "id": "1f789173-8184-47d4-942b-77bb85d88a68",
   "metadata": {},
   "outputs": [],
   "source": [
    "good_edge_axis_dist['MORPHTYPE'] = SGA['MORPHTYPE'][good_edge_axis_dist['iSGA']]"
   ]
  },
  {
   "cell_type": "code",
   "execution_count": 18,
   "id": "4be74ba6-8b9d-460a-954c-680fd9af2b58",
   "metadata": {},
   "outputs": [
    {
     "name": "stdout",
     "output_type": "stream",
     "text": [
      "--\n",
      "--\n",
      "--\n",
      "--\n",
      "--\n",
      "--\n",
      "--\n",
      "--\n",
      "--\n",
      "--\n",
      "227 109\n"
     ]
    }
   ],
   "source": [
    "spirals = np.zeros(len(good_edge_axis_dist), dtype=bool)\n",
    "\n",
    "for i in range(len(good_edge_axis_dist)):\n",
    "    \n",
    "    try:    \n",
    "        if (good_edge_axis_dist['MORPHTYPE'][i][0] == 'S') and (good_edge_axis_dist['MORPHTYPE'][i][:2] != 'S0'):\n",
    "            spirals[i] = True\n",
    "    except IndexError:\n",
    "        print(good_edge_axis_dist['MORPHTYPE'][i])\n",
    "\n",
    "good_edge_spirals_axis_dist = good_edge_axis_dist[spirals]\n",
    "\n",
    "print(len(good_edge_spirals_axis_dist), len(np.unique(good_edge_spirals_axis_dist['SGA_ID'])))"
   ]
  },
  {
   "cell_type": "code",
   "execution_count": 19,
   "id": "b0768b77-edf0-438f-9514-6036131f3469",
   "metadata": {},
   "outputs": [
    {
     "data": {
      "text/html": [
       "<div><i>Table length=109</i>\n",
       "<table id=\"table23456038224272\" class=\"table-striped table-bordered table-condensed\">\n",
       "<thead><tr><th>SGA_ID</th><th>SGA_GALAXY</th><th>GALAXY</th><th>PGC</th><th>RA_LEDA</th><th>DEC_LEDA</th><th>MORPHTYPE</th><th>PA_LEDA</th><th>D25_LEDA</th><th>BA_LEDA</th><th>Z_LEDA</th><th>SB_D25_LEDA</th><th>MAG_LEDA</th><th>BYHAND</th><th>REF</th><th>GROUP_ID</th><th>GROUP_NAME</th><th>GROUP_MULT</th><th>GROUP_PRIMARY</th><th>GROUP_RA</th><th>GROUP_DEC</th><th>GROUP_DIAMETER</th><th>BRICKNAME</th><th>RA</th><th>DEC</th><th>D26</th><th>D26_REF</th><th>PA</th><th>BA</th><th>RA_MOMENT</th><th>DEC_MOMENT</th><th>SMA_MOMENT</th><th>G_SMA50</th><th>R_SMA50</th><th>Z_SMA50</th><th>SMA_SB22</th><th>SMA_SB22.5</th><th>SMA_SB23</th><th>SMA_SB23.5</th><th>SMA_SB24</th><th>SMA_SB24.5</th><th>SMA_SB25</th><th>SMA_SB25.5</th><th>SMA_SB26</th><th>G_MAG_SB22</th><th>R_MAG_SB22</th><th>Z_MAG_SB22</th><th>G_MAG_SB22.5</th><th>R_MAG_SB22.5</th><th>Z_MAG_SB22.5</th><th>G_MAG_SB23</th><th>R_MAG_SB23</th><th>Z_MAG_SB23</th><th>G_MAG_SB23.5</th><th>R_MAG_SB23.5</th><th>Z_MAG_SB23.5</th><th>G_MAG_SB24</th><th>R_MAG_SB24</th><th>Z_MAG_SB24</th><th>G_MAG_SB24.5</th><th>R_MAG_SB24.5</th><th>Z_MAG_SB24.5</th><th>G_MAG_SB25</th><th>R_MAG_SB25</th><th>Z_MAG_SB25</th><th>G_MAG_SB25.5</th><th>R_MAG_SB25.5</th><th>Z_MAG_SB25.5</th><th>G_MAG_SB26</th><th>R_MAG_SB26</th><th>Z_MAG_SB26</th><th>SMA_SB22_ERR</th><th>SMA_SB22.5_ERR</th><th>SMA_SB23_ERR</th><th>SMA_SB23.5_ERR</th><th>SMA_SB24_ERR</th><th>SMA_SB24.5_ERR</th><th>SMA_SB25_ERR</th><th>SMA_SB25.5_ERR</th><th>SMA_SB26_ERR</th><th>G_MAG_SB22_ERR</th><th>R_MAG_SB22_ERR</th><th>Z_MAG_SB22_ERR</th><th>G_MAG_SB22.5_ERR</th><th>R_MAG_SB22.5_ERR</th><th>Z_MAG_SB22.5_ERR</th><th>G_MAG_SB23_ERR</th><th>R_MAG_SB23_ERR</th><th>Z_MAG_SB23_ERR</th><th>G_MAG_SB23.5_ERR</th><th>R_MAG_SB23.5_ERR</th><th>Z_MAG_SB23.5_ERR</th><th>G_MAG_SB24_ERR</th><th>R_MAG_SB24_ERR</th><th>Z_MAG_SB24_ERR</th><th>G_MAG_SB24.5_ERR</th><th>R_MAG_SB24.5_ERR</th><th>Z_MAG_SB24.5_ERR</th><th>G_MAG_SB25_ERR</th><th>R_MAG_SB25_ERR</th><th>Z_MAG_SB25_ERR</th><th>G_MAG_SB25.5_ERR</th><th>R_MAG_SB25.5_ERR</th><th>Z_MAG_SB25.5_ERR</th><th>G_MAG_SB26_ERR</th><th>R_MAG_SB26_ERR</th><th>Z_MAG_SB26_ERR</th><th>G_COG_PARAMS_MTOT</th><th>G_COG_PARAMS_M0</th><th>G_COG_PARAMS_ALPHA1</th><th>G_COG_PARAMS_ALPHA2</th><th>G_COG_PARAMS_CHI2</th><th>R_COG_PARAMS_MTOT</th><th>R_COG_PARAMS_M0</th><th>R_COG_PARAMS_ALPHA1</th><th>R_COG_PARAMS_ALPHA2</th><th>R_COG_PARAMS_CHI2</th><th>Z_COG_PARAMS_MTOT</th><th>Z_COG_PARAMS_M0</th><th>Z_COG_PARAMS_ALPHA1</th><th>Z_COG_PARAMS_ALPHA2</th><th>Z_COG_PARAMS_CHI2</th><th>ELLIPSEBIT</th><th>ALFALFA_AGCNr</th><th>Z_DESI</th><th>ZERR_DESI</th><th>V_HI</th><th>VERR_HI</th><th>cosi2</th></tr></thead>\n",
       "<thead><tr><th>int64</th><th>bytes16</th><th>bytes29</th><th>int64</th><th>float64</th><th>float64</th><th>bytes21</th><th>float32</th><th>float32</th><th>float32</th><th>float32</th><th>float32</th><th>float32</th><th>bool</th><th>bytes13</th><th>int64</th><th>bytes35</th><th>int16</th><th>bool</th><th>float64</th><th>float64</th><th>float32</th><th>bytes8</th><th>float64</th><th>float64</th><th>float32</th><th>bytes4</th><th>float32</th><th>float32</th><th>float64</th><th>float64</th><th>float32</th><th>float32</th><th>float32</th><th>float32</th><th>float32</th><th>float32</th><th>float32</th><th>float32</th><th>float32</th><th>float32</th><th>float32</th><th>float32</th><th>float32</th><th>float32</th><th>float32</th><th>float32</th><th>float32</th><th>float32</th><th>float32</th><th>float32</th><th>float32</th><th>float32</th><th>float32</th><th>float32</th><th>float32</th><th>float32</th><th>float32</th><th>float32</th><th>float32</th><th>float32</th><th>float32</th><th>float32</th><th>float32</th><th>float32</th><th>float32</th><th>float32</th><th>float32</th><th>float32</th><th>float32</th><th>float32</th><th>float32</th><th>float32</th><th>float32</th><th>float32</th><th>float32</th><th>float32</th><th>float32</th><th>float32</th><th>float32</th><th>float32</th><th>float32</th><th>float32</th><th>float32</th><th>float32</th><th>float32</th><th>float32</th><th>float32</th><th>float32</th><th>float32</th><th>float32</th><th>float32</th><th>float32</th><th>float32</th><th>float32</th><th>float32</th><th>float32</th><th>float32</th><th>float32</th><th>float32</th><th>float32</th><th>float32</th><th>float32</th><th>float32</th><th>float32</th><th>float32</th><th>float32</th><th>float32</th><th>float32</th><th>float32</th><th>float32</th><th>float32</th><th>float32</th><th>float32</th><th>float32</th><th>float32</th><th>float32</th><th>float32</th><th>float32</th><th>float32</th><th>float32</th><th>float32</th><th>int32</th><th>int64</th><th>float64</th><th>float64</th><th>float64</th><th>float64</th><th>float32</th></tr></thead>\n",
       "<tr><td>21905</td><td>SGA-2020 21905</td><td>PGC2057303</td><td>2057303</td><td>219.091098</td><td>34.9634106</td><td>Sc</td><td>12.24</td><td>0.46881336</td><td>0.374973</td><td>0.030079473</td><td>23.690481</td><td>16.707</td><td>False</td><td>LEDA-20181114</td><td>5858</td><td>PGC2057303</td><td>1</td><td>True</td><td>219.091098</td><td>34.9634106</td><td>0.46881336</td><td>2191p350</td><td>219.09108657904613</td><td>34.9633173924782</td><td>0.7438286</td><td>SB26</td><td>9.770802</td><td>0.38141513</td><td>219.09112462525545</td><td>34.96344218485945</td><td>16.3721</td><td>7.3809056</td><td>6.9394255</td><td>6.438956</td><td>6.945866</td><td>9.164333</td><td>11.25903</td><td>13.091548</td><td>14.669391</td><td>16.164392</td><td>18.16269</td><td>19.857664</td><td>22.314857</td><td>17.193132</td><td>16.8005</td><td>16.566973</td><td>16.881731</td><td>16.509058</td><td>16.29431</td><td>16.72109</td><td>16.351477</td><td>16.144707</td><td>16.604822</td><td>16.236557</td><td>16.045586</td><td>16.522583</td><td>16.177313</td><td>15.99385</td><td>16.47039</td><td>16.127832</td><td>15.946779</td><td>16.435534</td><td>16.100458</td><td>15.924124</td><td>16.417917</td><td>16.084673</td><td>15.914168</td><td>16.399458</td><td>16.068775</td><td>15.904226</td><td>0.12528424</td><td>0.1263019</td><td>0.15110311</td><td>0.12396254</td><td>0.17606099</td><td>0.17370777</td><td>0.21082695</td><td>0.13444765</td><td>0.27963006</td><td>0.041218147</td><td>0.04442056</td><td>0.047901593</td><td>0.036485113</td><td>0.038643964</td><td>0.04148492</td><td>0.033336964</td><td>0.0351727</td><td>0.03789257</td><td>0.03112216</td><td>0.03276487</td><td>0.03544987</td><td>0.029583538</td><td>0.031440873</td><td>0.034148198</td><td>0.028558232</td><td>0.030356243</td><td>0.033018697</td><td>0.027808832</td><td>0.02968668</td><td>0.032411925</td><td>0.027409067</td><td>0.029297458</td><td>0.03215074</td><td>0.026979305</td><td>0.028897557</td><td>0.03188434</td><td>16.368975</td><td>0.22579144</td><td>6.275678</td><td>4.8076715</td><td>0.6099423</td><td>16.044615</td><td>0.22601731</td><td>4.7760386</td><td>4.7340226</td><td>0.24342757</td><td>15.884407</td><td>0.20401548</td><td>4.4418197</td><td>4.934887</td><td>0.20438476</td><td>0</td><td>729387</td><td>0.0300903938271713</td><td>6.8506482821311785e-12</td><td>142.0</td><td>34.0</td><td>0.1098724</td></tr>\n",
       "<tr><td>25532</td><td>SGA-2020 25532</td><td>SDSSJ130354.42+281837.9</td><td>4107586</td><td>195.9767025</td><td>28.310474100000004</td><td>S?</td><td>166.76</td><td>0.40405336</td><td>0.50740194</td><td>0.026749838</td><td>23.873674</td><td>17.213</td><td>False</td><td>LEDA-20181114</td><td>6819</td><td>SDSSJ130354.42+281837.9</td><td>1</td><td>True</td><td>195.9767025</td><td>28.310474100000004</td><td>0.40405336</td><td>1960p282</td><td>195.97667146704435</td><td>28.31062379047577</td><td>0.791036</td><td>SB26</td><td>161.18756</td><td>0.55564547</td><td>195.97656966701223</td><td>28.310650982288717</td><td>18.834179</td><td>19.184307</td><td>19.752268</td><td>36.091793</td><td>-1.0</td><td>1.7119654</td><td>3.7173758</td><td>6.900119</td><td>9.907776</td><td>13.35609</td><td>16.801786</td><td>20.405842</td><td>23.731081</td><td>-1.0</td><td>-1.0</td><td>-1.0</td><td>20.706158</td><td>20.35425</td><td>20.04227</td><td>19.36581</td><td>18.990892</td><td>18.701727</td><td>18.502205</td><td>18.118683</td><td>17.876488</td><td>18.048151</td><td>17.671566</td><td>17.476873</td><td>17.731274</td><td>17.358215</td><td>17.176588</td><td>17.519728</td><td>17.148079</td><td>16.978123</td><td>17.368778</td><td>17.000885</td><td>16.83452</td><td>17.279095</td><td>16.91376</td><td>16.731997</td><td>-1.0</td><td>0.019494459</td><td>0.028828895</td><td>0.042468164</td><td>0.05867041</td><td>0.078144304</td><td>0.09247545</td><td>0.13441253</td><td>0.17492415</td><td>-1.0</td><td>-1.0</td><td>-1.0</td><td>0.029355431</td><td>0.025699927</td><td>0.037269406</td><td>0.014447774</td><td>0.013454323</td><td>0.018270632</td><td>0.011132489</td><td>0.009945563</td><td>0.013540759</td><td>0.008731338</td><td>0.008016314</td><td>0.011215353</td><td>0.007031184</td><td>0.0067533953</td><td>0.009951402</td><td>0.0061839516</td><td>0.006110009</td><td>0.009497991</td><td>0.005727287</td><td>0.005688859</td><td>0.00928647</td><td>0.0054369103</td><td>0.005556694</td><td>0.009177039</td><td>16.667498</td><td>1.449297</td><td>1.5652359</td><td>1.2778447</td><td>8.244046</td><td>16.277807</td><td>1.6270032</td><td>1.3319848</td><td>1.2009833</td><td>9.118069</td><td>15.731997</td><td>3.3302157</td><td>0.67887783</td><td>0.7673344</td><td>2.0021436</td><td>0</td><td>725318</td><td>0.0267297616862906</td><td>1.7164341503745058e-11</td><td>148.0</td><td>8.0</td><td>0.2799395</td></tr>\n",
       "<tr><td>34497</td><td>SGA-2020 34497</td><td>SDSSJ100139.99+031207.5</td><td>4010455</td><td>150.41662350000001</td><td>3.2020727000000004</td><td>S?</td><td>111.21</td><td>0.5370318</td><td>0.33884415</td><td>0.03256086</td><td>25.513481</td><td>18.235</td><td>False</td><td>LEDA-20181114</td><td>9239</td><td>SDSSJ100139.99+031207.5</td><td>1</td><td>True</td><td>150.41662350000001</td><td>3.2020727000000004</td><td>0.5370318</td><td>1503p032</td><td>150.416765004886</td><td>3.2019900406194037</td><td>0.6006787</td><td>SB26</td><td>107.67698</td><td>0.39433932</td><td>150.41668286310087</td><td>3.2020523893787987</td><td>13.151427</td><td>11.770252</td><td>10.829082</td><td>10.007324</td><td>0.34694564</td><td>1.8073578</td><td>4.278565</td><td>6.9109306</td><td>9.293054</td><td>11.624296</td><td>13.73401</td><td>15.807516</td><td>18.02036</td><td>24.573887</td><td>24.048563</td><td>23.548458</td><td>21.145609</td><td>20.63745</td><td>20.15452</td><td>19.62802</td><td>19.120188</td><td>18.73406</td><td>18.941479</td><td>18.438171</td><td>18.10907</td><td>18.56569</td><td>18.090002</td><td>17.782833</td><td>18.327547</td><td>17.86481</td><td>17.574638</td><td>18.190866</td><td>17.736925</td><td>17.459196</td><td>18.110168</td><td>17.654488</td><td>17.39605</td><td>18.04994</td><td>17.602661</td><td>17.354261</td><td>0.01732846</td><td>0.022527726</td><td>0.059256673</td><td>0.070308305</td><td>0.12427577</td><td>0.13878767</td><td>0.10017119</td><td>0.15179832</td><td>0.1735811</td><td>0.0757235</td><td>0.032867346</td><td>0.04373988</td><td>0.028490579</td><td>0.026439589</td><td>0.043815706</td><td>0.020750234</td><td>0.021066258</td><td>0.027454384</td><td>0.018133076</td><td>0.018677771</td><td>0.023786591</td><td>0.017762007</td><td>0.017851401</td><td>0.021946384</td><td>0.018208507</td><td>0.017562805</td><td>0.020856312</td><td>0.017793547</td><td>0.017094603</td><td>0.01996851</td><td>0.017245736</td><td>0.016468806</td><td>0.019646978</td><td>0.01666098</td><td>0.0160046</td><td>0.019507231</td><td>17.585205</td><td>1.3782835</td><td>0.9303856</td><td>1.5187032</td><td>7.1661587</td><td>17.189434</td><td>1.3733357</td><td>0.82499117</td><td>1.539711</td><td>4.395354</td><td>16.963736</td><td>1.4440296</td><td>0.684719</td><td>1.4644374</td><td>5.8273168</td><td>0</td><td>204229</td><td>0.0325943480916906</td><td>3.4753683944018707e-10</td><td>227.0</td><td>9.0</td><td>0.12031615</td></tr>\n",
       "<tr><td>71578</td><td>SGA-2020 71578</td><td>UGC09482</td><td>52558</td><td>220.695831</td><td>0.6618534</td><td>Scd</td><td>65.2</td><td>1.2387967</td><td>0.17139575</td><td>0.006006822</td><td>24.42548</td><td>15.332</td><td>False</td><td>LEDA-20181114</td><td>24733</td><td>UGC09482</td><td>1</td><td>True</td><td>220.695831</td><td>0.6618534</td><td>1.2387967</td><td>2206p007</td><td>220.69565216075827</td><td>0.6616727207759527</td><td>2.3794796</td><td>SB26</td><td>65.87772</td><td>0.19228756</td><td>220.69555622335642</td><td>0.6617279084316696</td><td>44.931526</td><td>20.587006</td><td>22.406477</td><td>25.876154</td><td>15.330247</td><td>20.725908</td><td>25.94277</td><td>31.256277</td><td>37.55488</td><td>44.07684</td><td>52.383415</td><td>62.315</td><td>71.38439</td><td>16.370825</td><td>15.946903</td><td>15.6305</td><td>16.054081</td><td>15.611903</td><td>15.295039</td><td>15.858405</td><td>15.404558</td><td>15.09228</td><td>15.726634</td><td>15.256541</td><td>14.945639</td><td>15.638625</td><td>15.152429</td><td>14.836172</td><td>15.57406</td><td>15.082826</td><td>14.766072</td><td>15.515633</td><td>15.014976</td><td>14.6940975</td><td>15.464015</td><td>14.956921</td><td>14.6228895</td><td>15.431507</td><td>14.920697</td><td>14.58279</td><td>0.10065542</td><td>0.14432561</td><td>0.19288558</td><td>0.1758852</td><td>0.15320687</td><td>0.24359876</td><td>0.3668948</td><td>0.3742966</td><td>0.30480647</td><td>0.013534082</td><td>0.0124537125</td><td>0.01207624</td><td>0.012250826</td><td>0.011350925</td><td>0.01110863</td><td>0.011423933</td><td>0.010646812</td><td>0.010370466</td><td>0.010768418</td><td>0.010024714</td><td>0.009755236</td><td>0.010176013</td><td>0.009454548</td><td>0.009238369</td><td>0.0097095985</td><td>0.009013059</td><td>0.008834013</td><td>0.009296657</td><td>0.008594684</td><td>0.008442513</td><td>0.008938142</td><td>0.0082321735</td><td>0.008060942</td><td>0.008707924</td><td>0.008009365</td><td>0.007844227</td><td>15.300249</td><td>1.7940667</td><td>1.5744798</td><td>1.5311478</td><td>1.6870571</td><td>14.778033</td><td>1.3378396</td><td>2.8034525</td><td>1.6259344</td><td>1.8716378</td><td>14.33922</td><td>4.0353694</td><td>0.62203574</td><td>1.1674091</td><td>2.6122375</td><td>0</td><td>9482</td><td>0.00605099963089448</td><td>8.710609687216981e-12</td><td>165.0</td><td>2.0</td><td>0.0</td></tr>\n",
       "<tr><td>74548</td><td>SGA-2020 74548</td><td>UGC09365</td><td>52023</td><td>218.37794351787375</td><td>3.686450639494627</td><td>SBbc</td><td>2.32</td><td>0.80352604</td><td>0.6729767</td><td>0.028125124</td><td>23.25048</td><td>15.097</td><td>True</td><td>LEDA-20181114</td><td>26083</td><td>UGC09365</td><td>1</td><td>True</td><td>218.37794351787375</td><td>3.686450639494627</td><td>0.80352604</td><td>2184p037</td><td>218.3779230778084</td><td>3.6864257707912746</td><td>1.2812088</td><td>SB26</td><td>4.7591558</td><td>0.64047617</td><td>218.3777970446449</td><td>3.6865634283163</td><td>34.086777</td><td>13.476394</td><td>12.551777</td><td>11.927669</td><td>11.789642</td><td>15.292146</td><td>18.97705</td><td>22.828457</td><td>26.52319</td><td>29.829872</td><td>32.904522</td><td>35.74412</td><td>38.436264</td><td>15.69081</td><td>15.098749</td><td>14.653252</td><td>15.407114</td><td>14.838753</td><td>14.414789</td><td>15.222103</td><td>14.665348</td><td>14.250504</td><td>15.084992</td><td>14.538412</td><td>14.13011</td><td>14.989217</td><td>14.451886</td><td>14.050105</td><td>14.93094</td><td>14.399226</td><td>13.999237</td><td>14.896022</td><td>14.367787</td><td>13.968908</td><td>14.874556</td><td>14.349612</td><td>13.95123</td><td>14.860691</td><td>14.336847</td><td>13.93937</td><td>0.025130384</td><td>0.032205325</td><td>0.030490795</td><td>0.023062011</td><td>0.01939752</td><td>0.023159714</td><td>0.030469235</td><td>0.041157115</td><td>0.08883685</td><td>0.0056265774</td><td>0.0061034593</td><td>0.006867062</td><td>0.004591731</td><td>0.0049801227</td><td>0.0056495974</td><td>0.00393723</td><td>0.004293774</td><td>0.00490536</td><td>0.0034985603</td><td>0.0038397424</td><td>0.0044062333</td><td>0.0032132876</td><td>0.0035516995</td><td>0.0040992373</td><td>0.0030477964</td><td>0.0033858742</td><td>0.0039146193</td><td>0.0029531391</td><td>0.0032907438</td><td>0.003808804</td><td>0.0028995157</td><td>0.0032371967</td><td>0.003751086</td><td>0.002864274</td><td>0.003200602</td><td>0.0037117575</td><td>14.791922</td><td>0.32261297</td><td>26.812302</td><td>3.5467098</td><td>12.240292</td><td>14.280407</td><td>0.28397128</td><td>30.488</td><td>3.697735</td><td>6.4470034</td><td>13.886919</td><td>0.25379482</td><td>35.86684</td><td>3.7863739</td><td>2.9871073</td><td>0</td><td>9365</td><td>0.0281579711592633</td><td>2.527213855429632e-11</td><td>223.0</td><td>6.0</td><td>0.38563514</td></tr>\n",
       "<tr><td>176736</td><td>SGA-2020 176736</td><td>PGC1713833</td><td>1713833</td><td>195.632571</td><td>24.6927898</td><td>SBbc</td><td>40.12</td><td>0.35563132</td><td>0.6382635</td><td>-99.0</td><td>24.469482</td><td>18.086</td><td>False</td><td>LEDA-20181114</td><td>40352</td><td>SDSSJ130228.95+244148.4_GROUP</td><td>2</td><td>False</td><td>195.62601985490215</td><td>24.69499132686919</td><td>0.7444307</td><td>1955p247</td><td>195.6326194588143</td><td>24.692850662859097</td><td>0.5331751</td><td>SB26</td><td>42.33549</td><td>0.5623621</td><td>195.63251731153426</td><td>24.69292396699407</td><td>10.694965</td><td>4.5619287</td><td>4.270564</td><td>3.671763</td><td>4.346126</td><td>5.4860587</td><td>6.712937</td><td>7.961659</td><td>9.343629</td><td>10.831413</td><td>12.3826475</td><td>14.136312</td><td>15.995253</td><td>18.243704</td><td>17.245266</td><td>16.41316</td><td>18.031292</td><td>17.04598</td><td>16.241055</td><td>17.879013</td><td>16.90299</td><td>16.116987</td><td>17.772688</td><td>16.80121</td><td>16.028904</td><td>17.691425</td><td>16.72508</td><td>15.963865</td><td>17.63104</td><td>16.671507</td><td>15.918283</td><td>17.587948</td><td>16.633112</td><td>15.887909</td><td>17.55462</td><td>16.602655</td><td>15.863206</td><td>17.530075</td><td>16.57914</td><td>15.845226</td><td>0.04637621</td><td>0.056386</td><td>0.059663523</td><td>0.0591929</td><td>0.08701894</td><td>0.07060718</td><td>0.1112938</td><td>0.15052596</td><td>0.2176531</td><td>0.022570007</td><td>0.024225697</td><td>0.027999658</td><td>0.021673702</td><td>0.023029706</td><td>0.026255177</td><td>0.020614242</td><td>0.021821607</td><td>0.02476486</td><td>0.01964146</td><td>0.02071874</td><td>0.023451716</td><td>0.018741768</td><td>0.019787785</td><td>0.022421036</td><td>0.01796379</td><td>0.019019522</td><td>0.021623364</td><td>0.017379086</td><td>0.018447397</td><td>0.021080775</td><td>0.016922636</td><td>0.01799227</td><td>0.02064054</td><td>0.016593026</td><td>0.017639957</td><td>0.02032441</td><td>17.444122</td><td>0.58769006</td><td>0.44883364</td><td>2.2375312</td><td>0.004397294</td><td>16.50895</td><td>0.51001596</td><td>0.45281538</td><td>2.360325</td><td>0.014478288</td><td>15.798442</td><td>0.3654632</td><td>0.48138064</td><td>2.648814</td><td>0.009081095</td><td>0</td><td>732474</td><td>0.0892408423706699</td><td>5.575646992213871e-10</td><td>83.0</td><td>33.0</td><td>0.28776157</td></tr>\n",
       "<tr><td>180872</td><td>SGA-2020 180872</td><td>SDSSJ140213.21+040542.4</td><td>3359401</td><td>210.5550795</td><td>4.0951335</td><td>S?</td><td>66.26</td><td>0.53579664</td><td>0.21037786</td><td>0.024292804</td><td>25.56248</td><td>18.289</td><td>False</td><td>LEDA-20181114</td><td>66471</td><td>SDSSJ140213.21+040542.4</td><td>1</td><td>True</td><td>210.5550795</td><td>4.0951335</td><td>0.53579664</td><td>2106p040</td><td>210.5550679154331</td><td>4.095086710695675</td><td>0.6449412</td><td>SB26</td><td>67.23605</td><td>0.24922001</td><td>210.55507298905124</td><td>4.095192412523293</td><td>11.797238</td><td>9.053714</td><td>8.348904</td><td>8.568267</td><td>3.0363474</td><td>6.2338586</td><td>9.375688</td><td>11.814805</td><td>13.437416</td><td>15.1303835</td><td>16.47862</td><td>17.868343</td><td>19.348236</td><td>20.046312</td><td>19.499918</td><td>19.221607</td><td>18.815414</td><td>18.296974</td><td>18.017954</td><td>18.218363</td><td>17.72208</td><td>17.464527</td><td>17.933588</td><td>17.451204</td><td>17.197926</td><td>17.796122</td><td>17.320347</td><td>17.07006</td><td>17.689375</td><td>17.24365</td><td>16.987556</td><td>17.654467</td><td>17.210985</td><td>16.949432</td><td>17.619944</td><td>17.190899</td><td>16.920807</td><td>17.596375</td><td>17.17313</td><td>16.904396</td><td>0.08671803</td><td>0.18574105</td><td>0.2170389</td><td>0.1940048</td><td>0.22142433</td><td>0.13058287</td><td>0.18047304</td><td>0.15495221</td><td>0.24199897</td><td>0.08398353</td><td>0.09539179</td><td>0.09227381</td><td>0.05744674</td><td>0.062295448</td><td>0.06061658</td><td>0.0472323</td><td>0.050657544</td><td>0.04966227</td><td>0.04249355</td><td>0.04522307</td><td>0.044657595</td><td>0.04003494</td><td>0.042550538</td><td>0.042100705</td><td>0.037990976</td><td>0.040733922</td><td>0.040362928</td><td>0.0371379</td><td>0.039836798</td><td>0.039346717</td><td>0.03628806</td><td>0.039254438</td><td>0.03861686</td><td>0.035673615</td><td>0.038694</td><td>0.038164143</td><td>17.505861</td><td>0.40731305</td><td>3.539085</td><td>4.1472874</td><td>0.48753142</td><td>17.119383</td><td>0.34891668</td><td>3.2772622</td><td>4.693365</td><td>0.40782106</td><td>16.815828</td><td>0.4277799</td><td>2.6416464</td><td>3.875913</td><td>0.4663919</td><td>0</td><td>242425</td><td>0.0242722654156907</td><td>1.451289667901915e-10</td><td>103.0</td><td>9.0</td><td>0.02303189</td></tr>\n",
       "<tr><td>188525</td><td>SGA-2020 188525</td><td>PGC1151901</td><td>1151901</td><td>184.18916249999998</td><td>-0.10347999999999999</td><td>Sb</td><td>96.14</td><td>0.43451023</td><td>0.42364296</td><td>0.040243838</td><td>24.373482</td><td>17.555</td><td>False</td><td>LEDA-20181114</td><td>68577</td><td>PGC1151901</td><td>1</td><td>True</td><td>184.18916249999998</td><td>-0.10347999999999999</td><td>0.43451023</td><td>1841p000</td><td>184.18920954546303</td><td>-0.1034986259573292</td><td>0.64924645</td><td>SB26</td><td>95.55758</td><td>0.42025757</td><td>184.18902482218263</td><td>-0.103422235157271</td><td>14.26931</td><td>6.0692086</td><td>5.9763994</td><td>5.4048414</td><td>5.107181</td><td>6.806472</td><td>8.45052</td><td>10.274892</td><td>11.81669</td><td>13.182504</td><td>14.907154</td><td>16.93284</td><td>19.477394</td><td>18.015303</td><td>17.46967</td><td>16.824974</td><td>17.68766</td><td>17.143433</td><td>16.540146</td><td>17.481073</td><td>16.938665</td><td>16.360992</td><td>17.327356</td><td>16.79733</td><td>16.236683</td><td>17.239107</td><td>16.7225</td><td>16.16901</td><td>17.1804</td><td>16.670218</td><td>16.12494</td><td>17.138512</td><td>16.623434</td><td>16.089808</td><td>17.114653</td><td>16.600275</td><td>16.068205</td><td>17.095621</td><td>16.578459</td><td>16.047401</td><td>0.07274522</td><td>0.12548198</td><td>0.10235966</td><td>0.12567395</td><td>0.14153273</td><td>0.12615211</td><td>0.13405444</td><td>0.30768678</td><td>0.2558028</td><td>0.045336988</td><td>0.050476927</td><td>0.047494616</td><td>0.04027057</td><td>0.04353983</td><td>0.04178263</td><td>0.036525887</td><td>0.03904026</td><td>0.03780728</td><td>0.033531398</td><td>0.03565385</td><td>0.034912452</td><td>0.03170061</td><td>0.033846654</td><td>0.03325257</td><td>0.030436868</td><td>0.0326177</td><td>0.032162663</td><td>0.029494839</td><td>0.031443633</td><td>0.031265695</td><td>0.028924756</td><td>0.030841416</td><td>0.030711332</td><td>0.02846925</td><td>0.030275721</td><td>0.030178137</td><td>17.065498</td><td>0.28586558</td><td>1.6277099</td><td>4.147013</td><td>0.11750095</td><td>16.53296</td><td>0.41054833</td><td>0.9802534</td><td>3.261256</td><td>0.0728503</td><td>16.013079</td><td>0.34250522</td><td>1.000156</td><td>3.3794339</td><td>0.016446648</td><td>0</td><td>641351</td><td>0.04027596360832675</td><td>1.975681445082349e-11</td><td>307.0</td><td>47.0</td><td>0.14230879</td></tr>\n",
       "<tr><td>195106</td><td>SGA-2020 195106</td><td>UGC09277</td><td>51703</td><td>217.13879849999998</td><td>3.2619766</td><td>SBb</td><td>44.48</td><td>1.409289</td><td>0.21428905</td><td>0.02776154</td><td>24.222483</td><td>14.849</td><td>False</td><td>LEDA-20181114</td><td>70451</td><td>UGC09277</td><td>1</td><td>True</td><td>217.13879849999998</td><td>3.2619766</td><td>1.409289</td><td>2171p032</td><td>217.1388663992408</td><td>3.2620089371274394</td><td>2.5455103</td><td>SB26</td><td>45.135864</td><td>0.21337569</td><td>217.13877278053536</td><td>3.2620844796046757</td><td>48.94214</td><td>22.95839</td><td>23.386744</td><td>24.04551</td><td>32.62592</td><td>36.57847</td><td>40.84011</td><td>44.76479</td><td>48.92662</td><td>54.427082</td><td>61.109215</td><td>68.83587</td><td>76.36531</td><td>14.398654</td><td>13.488817</td><td>12.794749</td><td>14.313501</td><td>13.405773</td><td>12.713494</td><td>14.268459</td><td>13.354074</td><td>12.650959</td><td>14.244745</td><td>13.334199</td><td>12.629786</td><td>14.226846</td><td>13.319778</td><td>12.615038</td><td>14.20997</td><td>13.302864</td><td>12.597956</td><td>14.195185</td><td>13.288421</td><td>12.58401</td><td>14.180506</td><td>13.27606</td><td>12.573477</td><td>14.173653</td><td>13.269171</td><td>12.566273</td><td>0.3184376</td><td>0.24931642</td><td>0.19586638</td><td>0.34333262</td><td>0.31104916</td><td>0.29028934</td><td>0.47574884</td><td>0.41520953</td><td>0.3665389</td><td>0.018284876</td><td>0.018585766</td><td>0.019182622</td><td>0.017289463</td><td>0.017576091</td><td>0.018135332</td><td>0.01673615</td><td>0.016944576</td><td>0.01735533</td><td>0.016430607</td><td>0.01667786</td><td>0.01706685</td><td>0.016189942</td><td>0.01647728</td><td>0.016856957</td><td>0.015952716</td><td>0.016238991</td><td>0.016606303</td><td>0.015750455</td><td>0.016036032</td><td>0.016405651</td><td>0.01555755</td><td>0.015864871</td><td>0.01625864</td><td>0.0154537475</td><td>0.015764406</td><td>0.016148245</td><td>14.164687</td><td>9391.384</td><td>0.0013307582</td><td>3.3807745</td><td>0.55101466</td><td>13.264046</td><td>11799.358</td><td>0.0014487756</td><td>3.6758997</td><td>0.5960829</td><td>12.56133</td><td>7200.7935</td><td>0.0030564903</td><td>3.847507</td><td>0.47188985</td><td>0</td><td>9277</td><td>0.0277454291060856</td><td>1.0115081439585939e-10</td><td>660.0</td><td>56.0</td><td>0.0057595666</td></tr>\n",
       "<tr><td>197270</td><td>SGA-2020 197270</td><td>PGC1283631</td><td>1283631</td><td>208.97770350000002</td><td>5.4504428</td><td>Scd</td><td>50.11</td><td>0.5520774</td><td>0.4852885</td><td>0.039375905</td><td>23.75348</td><td>16.415</td><td>False</td><td>LEDA-20181114</td><td>71081</td><td>PGC1283631</td><td>1</td><td>True</td><td>208.97770350000002</td><td>5.4504428</td><td>0.5520774</td><td>2089p055</td><td>208.9775713864839</td><td>5.450250244394595</td><td>0.94276637</td><td>SB26</td><td>50.987133</td><td>0.46167105</td><td>208.97747567615608</td><td>5.450358423429874</td><td>21.2865</td><td>10.670022</td><td>9.949784</td><td>11.352256</td><td>6.0685368</td><td>9.170094</td><td>12.181231</td><td>14.91829</td><td>17.437077</td><td>19.560986</td><td>22.056992</td><td>24.892006</td><td>28.282991</td><td>17.782394</td><td>17.176535</td><td>16.781052</td><td>17.174492</td><td>16.594023</td><td>16.20403</td><td>16.833895</td><td>16.266813</td><td>15.885606</td><td>16.646332</td><td>16.086609</td><td>15.708083</td><td>16.516737</td><td>15.972169</td><td>15.589309</td><td>16.434061</td><td>15.907509</td><td>15.515674</td><td>16.379568</td><td>15.861391</td><td>15.450023</td><td>16.345816</td><td>15.826048</td><td>15.399757</td><td>16.31541</td><td>15.803329</td><td>15.36396</td><td>0.085767135</td><td>0.13002457</td><td>0.17634156</td><td>0.2194584</td><td>0.21908835</td><td>0.12804173</td><td>0.20623265</td><td>0.20981345</td><td>0.19285187</td><td>0.018710652</td><td>0.02157521</td><td>0.022364197</td><td>0.019201843</td><td>0.02060684</td><td>0.020975599</td><td>0.018411089</td><td>0.01934557</td><td>0.019648243</td><td>0.017268766</td><td>0.01817661</td><td>0.018389728</td><td>0.016467668</td><td>0.017356554</td><td>0.017493052</td><td>0.015808634</td><td>0.016739829</td><td>0.016835783</td><td>0.015266841</td><td>0.01620994</td><td>0.016142309</td><td>0.014885448</td><td>0.015784116</td><td>0.015596414</td><td>0.014536078</td><td>0.015496273</td><td>0.015183385</td><td>16.235283</td><td>0.50673884</td><td>4.1865396</td><td>3.1383884</td><td>1.6274233</td><td>15.743122</td><td>0.47082236</td><td>3.8807068</td><td>3.276353</td><td>0.3073592</td><td>15.206861</td><td>0.7880555</td><td>2.11447</td><td>2.2050452</td><td>0.36807728</td><td>0</td><td>232201</td><td>0.0392894214026567</td><td>2.9498574083070724e-11</td><td>303.0</td><td>12.0</td><td>0.18035434</td></tr>\n",
       "<tr><td>...</td><td>...</td><td>...</td><td>...</td><td>...</td><td>...</td><td>...</td><td>...</td><td>...</td><td>...</td><td>...</td><td>...</td><td>...</td><td>...</td><td>...</td><td>...</td><td>...</td><td>...</td><td>...</td><td>...</td><td>...</td><td>...</td><td>...</td><td>...</td><td>...</td><td>...</td><td>...</td><td>...</td><td>...</td><td>...</td><td>...</td><td>...</td><td>...</td><td>...</td><td>...</td><td>...</td><td>...</td><td>...</td><td>...</td><td>...</td><td>...</td><td>...</td><td>...</td><td>...</td><td>...</td><td>...</td><td>...</td><td>...</td><td>...</td><td>...</td><td>...</td><td>...</td><td>...</td><td>...</td><td>...</td><td>...</td><td>...</td><td>...</td><td>...</td><td>...</td><td>...</td><td>...</td><td>...</td><td>...</td><td>...</td><td>...</td><td>...</td><td>...</td><td>...</td><td>...</td><td>...</td><td>...</td><td>...</td><td>...</td><td>...</td><td>...</td><td>...</td><td>...</td><td>...</td><td>...</td><td>...</td><td>...</td><td>...</td><td>...</td><td>...</td><td>...</td><td>...</td><td>...</td><td>...</td><td>...</td><td>...</td><td>...</td><td>...</td><td>...</td><td>...</td><td>...</td><td>...</td><td>...</td><td>...</td><td>...</td><td>...</td><td>...</td><td>...</td><td>...</td><td>...</td><td>...</td><td>...</td><td>...</td><td>...</td><td>...</td><td>...</td><td>...</td><td>...</td><td>...</td><td>...</td><td>...</td><td>...</td><td>...</td><td>...</td><td>...</td><td>...</td><td>...</td><td>...</td><td>...</td><td>...</td><td>...</td><td>...</td><td>...</td><td>...</td></tr>\n",
       "<tr><td>1289613</td><td>SGA-2020 1289613</td><td>PGC3122315</td><td>3122315</td><td>218.686083</td><td>2.8233842</td><td>S?</td><td>31.76</td><td>0.4753352</td><td>0.24888575</td><td>0.02813513</td><td>24.751482</td><td>17.738</td><td>False</td><td>LEDA-20181114</td><td>471771</td><td>PGC3122315</td><td>1</td><td>True</td><td>218.686083</td><td>2.8233842</td><td>0.4753352</td><td>2186p027</td><td>218.68612643042394</td><td>2.823411677830313</td><td>0.5512642</td><td>SB26</td><td>30.857065</td><td>0.25826192</td><td>218.68602253114784</td><td>2.82341624730013</td><td>12.038311</td><td>4.547962</td><td>4.375795</td><td>4.301632</td><td>5.3125725</td><td>6.5117283</td><td>7.7798305</td><td>8.987199</td><td>10.290549</td><td>11.595163</td><td>12.933724</td><td>14.5889225</td><td>16.537928</td><td>17.980307</td><td>17.670559</td><td>17.548712</td><td>17.798826</td><td>17.499424</td><td>17.385317</td><td>17.665234</td><td>17.374935</td><td>17.266283</td><td>17.57984</td><td>17.296158</td><td>17.192976</td><td>17.511606</td><td>17.235144</td><td>17.136524</td><td>17.464706</td><td>17.195871</td><td>17.098097</td><td>17.436884</td><td>17.172148</td><td>17.079262</td><td>17.415426</td><td>17.148382</td><td>17.057377</td><td>17.400715</td><td>17.13265</td><td>17.034</td><td>0.068329655</td><td>0.08805006</td><td>0.08297887</td><td>0.12771544</td><td>0.11972981</td><td>0.13150582</td><td>0.17599945</td><td>0.19537574</td><td>0.1624657</td><td>0.048595022</td><td>0.050745726</td><td>0.05221568</td><td>0.04581273</td><td>0.047000486</td><td>0.04807723</td><td>0.043254737</td><td>0.04410886</td><td>0.04499038</td><td>0.041573886</td><td>0.042273834</td><td>0.043102827</td><td>0.039888196</td><td>0.040661998</td><td>0.04145391</td><td>0.03871527</td><td>0.039574165</td><td>0.040411163</td><td>0.037852492</td><td>0.038803663</td><td>0.039788645</td><td>0.03720809</td><td>0.038070284</td><td>0.03915443</td><td>0.03674441</td><td>0.037571803</td><td>0.038477834</td><td>17.372805</td><td>0.25889125</td><td>0.7860407</td><td>3.9236524</td><td>0.017136026</td><td>17.100647</td><td>0.31926182</td><td>0.5827337</td><td>3.3851194</td><td>0.0052685486</td><td>16.997839</td><td>0.40728217</td><td>0.44729328</td><td>2.9408305</td><td>0.034731556</td><td>0</td><td>243200</td><td>0.0281557692056421</td><td>3.1096845567484047e-12</td><td>188.0</td><td>7.0</td><td>0.027811691</td></tr>\n",
       "<tr><td>1333993</td><td>SGA-2020 1333993</td><td>NGC5348</td><td>49411</td><td>208.5469185</td><td>5.227286</td><td>SBbc</td><td>175.08</td><td>3.8815036</td><td>0.18749945</td><td>0.00483768</td><td>25.916481</td><td>14.343</td><td>False</td><td>LEDA-20181114</td><td>143089</td><td>NGC5348_GROUP</td><td>2</td><td>True</td><td>208.54654551777742</td><td>5.232659391644642</td><td>4.2046766</td><td>2084p052</td><td>208.546877933513</td><td>5.22735690444977</td><td>6.7305875</td><td>SB26</td><td>176.67142</td><td>0.15475982</td><td>208.54687261735413</td><td>5.227154149347941</td><td>110.077675</td><td>92.04181</td><td>90.346375</td><td>88.81173</td><td>42.062344</td><td>55.452976</td><td>70.292305</td><td>87.30515</td><td>106.07525</td><td>132.58398</td><td>160.66434</td><td>186.63165</td><td>201.91762</td><td>14.666852</td><td>14.022518</td><td>13.501951</td><td>14.34829</td><td>13.704868</td><td>13.192653</td><td>14.114842</td><td>13.464649</td><td>12.959087</td><td>13.975704</td><td>13.311999</td><td>12.795298</td><td>13.86377</td><td>13.196692</td><td>12.685103</td><td>13.759929</td><td>13.090637</td><td>12.579379</td><td>13.668844</td><td>13.001199</td><td>12.489997</td><td>13.604588</td><td>12.93831</td><td>12.43049</td><td>13.566095</td><td>12.903671</td><td>12.39815</td><td>0.42232826</td><td>0.36411422</td><td>0.30618915</td><td>0.53709275</td><td>0.48568416</td><td>0.6397551</td><td>0.6331752</td><td>1.1135247</td><td>1.5828774</td><td>0.010312977</td><td>0.010412997</td><td>0.010577372</td><td>0.00895894</td><td>0.009015089</td><td>0.009140045</td><td>0.007992453</td><td>0.008009757</td><td>0.008098668</td><td>0.0072988016</td><td>0.0072805528</td><td>0.0073353676</td><td>0.0067288885</td><td>0.006709613</td><td>0.006779533</td><td>0.0062093576</td><td>0.006185022</td><td>0.0062538795</td><td>0.0057821427</td><td>0.005760764</td><td>0.005829082</td><td>0.005483513</td><td>0.0054777763</td><td>0.005557395</td><td>0.0053124498</td><td>0.005323486</td><td>0.00541242</td><td>13.191895</td><td>44710.938</td><td>0.000110837806</td><td>0.84912956</td><td>24.108158</td><td>12.541716</td><td>45441.945</td><td>0.00011525246</td><td>0.88141465</td><td>12.8864355</td><td>12.041166</td><td>28989.775</td><td>0.00018020764</td><td>0.88717866</td><td>8.519369</td><td>0</td><td>8821</td><td>0.00484641453654551</td><td>5.267474586511768e-12</td><td>178.0</td><td>3.0</td><td>0.0</td></tr>\n",
       "<tr><td>1349528</td><td>SGA-2020 1349528</td><td>PGC1197902</td><td>1197902</td><td>217.520136</td><td>1.5368611</td><td>Scd</td><td>177.57</td><td>0.64565426</td><td>0.3372873</td><td>0.0271261</td><td>24.39348</td><td>16.715</td><td>False</td><td>LEDA-20181114</td><td>496588</td><td>PGC1197902</td><td>1</td><td>True</td><td>217.520136</td><td>1.5368611</td><td>0.64565426</td><td>2176p015</td><td>217.52018493171667</td><td>1.5368673646637858</td><td>0.8607991</td><td>SB26</td><td>177.36647</td><td>0.3380168</td><td>217.52020313965832</td><td>1.5370095468065486</td><td>21.312902</td><td>8.308263</td><td>8.090275</td><td>7.857283</td><td>8.1574745</td><td>10.514369</td><td>12.914043</td><td>15.2984915</td><td>17.520218</td><td>19.525442</td><td>21.396296</td><td>23.49561</td><td>25.823973</td><td>17.142445</td><td>16.588692</td><td>16.20284</td><td>16.880207</td><td>16.334766</td><td>15.959117</td><td>16.712303</td><td>16.170586</td><td>15.803738</td><td>16.594103</td><td>16.055601</td><td>15.695878</td><td>16.515968</td><td>15.980502</td><td>15.624332</td><td>16.471193</td><td>15.936146</td><td>15.581077</td><td>16.444504</td><td>15.909279</td><td>15.554095</td><td>16.423407</td><td>15.890404</td><td>15.535583</td><td>16.408098</td><td>15.877266</td><td>15.523484</td><td>0.023489388</td><td>0.026562914</td><td>0.04382277</td><td>0.05781231</td><td>0.067739345</td><td>0.06780181</td><td>0.06970728</td><td>0.13590595</td><td>0.17828122</td><td>0.013748373</td><td>0.01543135</td><td>0.017731698</td><td>0.011081461</td><td>0.012544928</td><td>0.014499822</td><td>0.00960572</td><td>0.010883997</td><td>0.0126688015</td><td>0.008745301</td><td>0.009869066</td><td>0.011547798</td><td>0.008266154</td><td>0.009299755</td><td>0.010903805</td><td>0.007993157</td><td>0.008974588</td><td>0.010527841</td><td>0.007831794</td><td>0.00878408</td><td>0.010314603</td><td>0.0076984796</td><td>0.008650503</td><td>0.010172027</td><td>0.007600989</td><td>0.008551382</td><td>0.010086356</td><td>16.367584</td><td>0.2757713</td><td>6.8187866</td><td>4.0024204</td><td>0.89025855</td><td>15.840909</td><td>0.25113496</td><td>7.824898</td><td>4.190884</td><td>0.6931976</td><td>15.482986</td><td>0.26034933</td><td>6.5723104</td><td>3.9421518</td><td>0.61171025</td><td>0</td><td>243449</td><td>0.0271083312259728</td><td>1.162665098165526e-11</td><td>250.0</td><td>47.0</td><td>0.077349335</td></tr>\n",
       "<tr><td>1354616</td><td>SGA-2020 1354616</td><td>PGC1236160</td><td>1236160</td><td>216.555183</td><td>2.741559</td><td>Scd</td><td>141.07</td><td>0.34355795</td><td>0.66527313</td><td>0.025599375</td><td>23.221481</td><td>16.913</td><td>False</td><td>LEDA-20181114</td><td>498034</td><td>PGC1236160</td><td>1</td><td>True</td><td>216.555183</td><td>2.741559</td><td>0.34355795</td><td>2166p027</td><td>216.55526099922164</td><td>2.7414234891090454</td><td>0.6010565</td><td>SB26</td><td>142.75975</td><td>0.6006731</td><td>216.55536240522798</td><td>2.7411451960175124</td><td>14.352467</td><td>5.7310476</td><td>5.871065</td><td>5.9341536</td><td>5.171405</td><td>6.9035716</td><td>8.405631</td><td>9.949421</td><td>11.309836</td><td>12.805569</td><td>14.443456</td><td>16.277702</td><td>18.031696</td><td>17.483845</td><td>17.109201</td><td>16.892235</td><td>17.144176</td><td>16.77823</td><td>16.5672</td><td>16.937616</td><td>16.573547</td><td>16.367756</td><td>16.809689</td><td>16.443989</td><td>16.237858</td><td>16.746038</td><td>16.37596</td><td>16.168442</td><td>16.701656</td><td>16.326912</td><td>16.11621</td><td>16.66663</td><td>16.28785</td><td>16.070923</td><td>16.642248</td><td>16.259209</td><td>16.043385</td><td>16.627186</td><td>16.238867</td><td>16.022116</td><td>0.04641143</td><td>0.04795807</td><td>0.05379182</td><td>0.057095412</td><td>0.059042297</td><td>0.058270555</td><td>0.07415432</td><td>0.08980089</td><td>0.10798198</td><td>0.0299679</td><td>0.032925017</td><td>0.03564442</td><td>0.023633553</td><td>0.025683759</td><td>0.027701253</td><td>0.020995116</td><td>0.02248298</td><td>0.024042878</td><td>0.01938595</td><td>0.020557018</td><td>0.021876466</td><td>0.018430663</td><td>0.019424884</td><td>0.020625787</td><td>0.01769916</td><td>0.018577721</td><td>0.019679906</td><td>0.01719091</td><td>0.017976403</td><td>0.018979948</td><td>0.016790655</td><td>0.017496979</td><td>0.018503996</td><td>0.016567362</td><td>0.017184054</td><td>0.018182896</td><td>16.603268</td><td>0.36354968</td><td>0.7761121</td><td>3.931576</td><td>0.36971742</td><td>16.202362</td><td>0.4072591</td><td>0.82063925</td><td>3.519136</td><td>0.36031523</td><td>15.976168</td><td>0.41843736</td><td>0.87661123</td><td>3.3519611</td><td>0.21685308</td><td>0</td><td>243178</td><td>0.0256138538401234</td><td>6.7532611478700775e-12</td><td>153.0</td><td>7.0</td><td>0.33417517</td></tr>\n",
       "<tr><td>1361840</td><td>SGA-2020 1361840</td><td>PGC051791</td><td>51791</td><td>217.44193809467365</td><td>-0.15254171073317724</td><td>Sc</td><td>114.97</td><td>0.90573263</td><td>0.22284351</td><td>0.030092817</td><td>24.429482</td><td>16.016</td><td>True</td><td>LEDA-20181114</td><td>499992</td><td>PGC051791</td><td>1</td><td>True</td><td>217.44193809467365</td><td>-0.15254171073317724</td><td>0.90573263</td><td>2173m002</td><td>217.4419252959145</td><td>-0.15251939779719786</td><td>1.5195243</td><td>SB26</td><td>114.54307</td><td>0.19323719</td><td>217.4418391207375</td><td>-0.15247886930929375</td><td>28.344027</td><td>15.742941</td><td>15.483645</td><td>15.416012</td><td>19.078419</td><td>21.961819</td><td>24.936996</td><td>27.39428</td><td>29.711107</td><td>32.91298</td><td>37.03957</td><td>41.723434</td><td>45.58573</td><td>16.221037</td><td>15.24607</td><td>14.438058</td><td>16.078573</td><td>15.110403</td><td>14.305322</td><td>15.966195</td><td>14.999835</td><td>14.213966</td><td>15.918362</td><td>14.965353</td><td>14.179324</td><td>15.884698</td><td>14.944072</td><td>14.161665</td><td>15.8548565</td><td>14.92054</td><td>14.141409</td><td>15.82371</td><td>14.89916</td><td>14.123058</td><td>15.803777</td><td>14.881492</td><td>14.105939</td><td>15.791596</td><td>14.873057</td><td>14.096731</td><td>0.18319121</td><td>0.27888653</td><td>0.14684594</td><td>0.2604106</td><td>0.2755193</td><td>0.27984264</td><td>0.2472503</td><td>0.25009996</td><td>0.3505718</td><td>0.026930489</td><td>0.0284733</td><td>0.029152969</td><td>0.02532067</td><td>0.026740119</td><td>0.02738109</td><td>0.024021778</td><td>0.025344828</td><td>0.026096465</td><td>0.023321616</td><td>0.024765605</td><td>0.02548242</td><td>0.022806047</td><td>0.024359727</td><td>0.025116017</td><td>0.022292104</td><td>0.023913773</td><td>0.024703246</td><td>0.021749893</td><td>0.023495594</td><td>0.02432396</td><td>0.021396002</td><td>0.023146648</td><td>0.023969607</td><td>0.021176392</td><td>0.022976216</td><td>0.02377594</td><td>15.76462</td><td>0.99613476</td><td>5.348114</td><td>3.4281278</td><td>0.23245552</td><td>14.860375</td><td>1.4854385</td><td>3.47354</td><td>3.799525</td><td>0.5542486</td><td>14.084932</td><td>4280.1714</td><td>0.00081448926</td><td>3.541796</td><td>0.28480962</td><td>0</td><td>241274</td><td>0.0300951451241419</td><td>8.234082985738164e-12</td><td>323.0</td><td>52.0</td><td>0.0</td></tr>\n",
       "<tr><td>1363060</td><td>SGA-2020 1363060</td><td>PGC3123143</td><td>3123143</td><td>218.667843</td><td>3.0862154</td><td>S?</td><td>126.21</td><td>0.36812896</td><td>0.37325016</td><td>0.028747888</td><td>24.738482</td><td>18.28</td><td>False</td><td>LEDA-20181114</td><td>500324</td><td>PGC3123143</td><td>1</td><td>True</td><td>218.667843</td><td>3.0862154</td><td>0.36812896</td><td>2186p030</td><td>218.66787891529356</td><td>3.0862298102748627</td><td>0.41285497</td><td>SB26</td><td>126.44038</td><td>0.4181764</td><td>218.66780557409984</td><td>3.0862778455026842</td><td>9.834069</td><td>3.9493036</td><td>3.9663074</td><td>3.934461</td><td>3.3173976</td><td>4.3635397</td><td>5.4180307</td><td>6.4552717</td><td>7.5605073</td><td>8.6885605</td><td>9.792466</td><td>11.034642</td><td>12.385649</td><td>18.883085</td><td>18.432991</td><td>18.070335</td><td>18.569592</td><td>18.119854</td><td>17.777178</td><td>18.374859</td><td>17.924477</td><td>17.59735</td><td>18.252005</td><td>17.798416</td><td>17.478737</td><td>18.165514</td><td>17.706533</td><td>17.392094</td><td>18.104534</td><td>17.644974</td><td>17.332996</td><td>18.064734</td><td>17.601467</td><td>17.285643</td><td>18.032696</td><td>17.570719</td><td>17.25227</td><td>18.008875</td><td>17.549242</td><td>17.23288</td><td>0.015174622</td><td>0.025983717</td><td>0.02477143</td><td>0.024839034</td><td>0.029086938</td><td>0.05006676</td><td>0.07764225</td><td>0.08658008</td><td>0.13593107</td><td>0.018949356</td><td>0.018850261</td><td>0.020611538</td><td>0.016703535</td><td>0.016387189</td><td>0.017680002</td><td>0.015114446</td><td>0.014730871</td><td>0.015702557</td><td>0.014031606</td><td>0.013624503</td><td>0.014485239</td><td>0.013289798</td><td>0.012770789</td><td>0.013799093</td><td>0.012741041</td><td>0.012210475</td><td>0.0133800795</td><td>0.01239631</td><td>0.011842093</td><td>0.012990938</td><td>0.012086646</td><td>0.011594345</td><td>0.012742719</td><td>0.0118789505</td><td>0.0114377765</td><td>0.012761325</td><td>17.923197</td><td>0.7538682</td><td>0.19701724</td><td>2.3282745</td><td>0.01064835</td><td>17.471064</td><td>0.6015193</td><td>0.23396462</td><td>2.559158</td><td>0.12620442</td><td>17.1299</td><td>0.72267944</td><td>0.23565125</td><td>2.199164</td><td>0.30292475</td><td>0</td><td>242823</td><td>0.0288734393359437</td><td>2.3139522002336988e-11</td><td>109.0</td><td>8.0</td><td>0.14049116</td></tr>\n",
       "<tr><td>1365838</td><td>SGA-2020 1365838</td><td>PGC1270940</td><td>1270940</td><td>211.09459274793636</td><td>4.629758712838968</td><td>S?</td><td>115.7</td><td>0.42953643</td><td>0.5821032</td><td>0.025077349</td><td>23.456482</td><td>16.663</td><td>True</td><td>LEDA-20181114</td><td>501051</td><td>PGC1270940</td><td>1</td><td>True</td><td>211.09459274793636</td><td>4.629758712838968</td><td>0.42953643</td><td>2112p047</td><td>211.0946351901908</td><td>4.62951057852917</td><td>0.5245815</td><td>SB26</td><td>118.95801</td><td>0.5245221</td><td>211.0943855625536</td><td>4.629597982385065</td><td>11.931234</td><td>5.379053</td><td>4.5943155</td><td>4.163144</td><td>6.8384085</td><td>8.040395</td><td>9.201049</td><td>10.112406</td><td>10.88574</td><td>11.966535</td><td>13.109767</td><td>14.488752</td><td>15.737444</td><td>17.091255</td><td>16.267344</td><td>15.64344</td><td>16.928429</td><td>16.131334</td><td>15.532754</td><td>16.82518</td><td>16.048252</td><td>15.470664</td><td>16.765282</td><td>16.00535</td><td>15.432592</td><td>16.728394</td><td>15.974886</td><td>15.413115</td><td>16.693598</td><td>15.956509</td><td>15.393664</td><td>16.673382</td><td>15.944277</td><td>15.377873</td><td>16.654589</td><td>15.933391</td><td>15.3732605</td><td>16.64231</td><td>15.927046</td><td>15.363693</td><td>0.08810411</td><td>0.084786266</td><td>0.114314504</td><td>0.10140888</td><td>0.09350916</td><td>0.16215163</td><td>0.12650234</td><td>0.1858212</td><td>0.17424244</td><td>0.029313168</td><td>0.03319025</td><td>0.040132318</td><td>0.028005844</td><td>0.031494766</td><td>0.03773336</td><td>0.02679495</td><td>0.030104334</td><td>0.036059134</td><td>0.025933927</td><td>0.029221434</td><td>0.035187382</td><td>0.025318448</td><td>0.028629567</td><td>0.034516007</td><td>0.024694905</td><td>0.028204054</td><td>0.03398444</td><td>0.024313953</td><td>0.027882958</td><td>0.033695295</td><td>0.023938404</td><td>0.027668249</td><td>0.033431</td><td>0.023712639</td><td>0.02748327</td><td>0.03331086</td><td>16.621685</td><td>0.28101596</td><td>0.7036723</td><td>4.770929</td><td>0.02751767</td><td>15.919906</td><td>0.19175978</td><td>0.58327115</td><td>5.7134547</td><td>0.03173326</td><td>15.35172</td><td>0.23887357</td><td>0.43016344</td><td>4.5078926</td><td>0.023053689</td><td>0</td><td>242434</td><td>0.0250926897043212</td><td>3.014867426335685e-12</td><td>247.0</td><td>15.0</td><td>0.24492027</td></tr>\n",
       "<tr><td>1369191</td><td>SGA-2020 1369191</td><td>UGC09222</td><td>51419</td><td>215.9429475</td><td>34.016988700000006</td><td>SBab</td><td>38.36</td><td>0.8531001</td><td>0.36982816</td><td>0.011819176</td><td>23.271482</td><td>14.988</td><td>False</td><td>LEDA-20181114</td><td>240560</td><td>UGC09222_GROUP</td><td>2</td><td>True</td><td>215.93492773096844</td><td>34.01306669800676</td><td>1.3161957</td><td>2159p340</td><td>215.9430401365157</td><td>34.016978824559885</td><td>1.0663751</td><td>LEDA</td><td>36.247192</td><td>0.3516721</td><td>215.94294871602332</td><td>34.01703647942929</td><td>33.343586</td><td>-1.0</td><td>-1.0</td><td>-1.0</td><td>-1.0</td><td>-1.0</td><td>-1.0</td><td>-1.0</td><td>-1.0</td><td>-1.0</td><td>-1.0</td><td>-1.0</td><td>-1.0</td><td>-1.0</td><td>-1.0</td><td>-1.0</td><td>-1.0</td><td>-1.0</td><td>-1.0</td><td>-1.0</td><td>-1.0</td><td>-1.0</td><td>-1.0</td><td>-1.0</td><td>-1.0</td><td>-1.0</td><td>-1.0</td><td>-1.0</td><td>-1.0</td><td>-1.0</td><td>-1.0</td><td>-1.0</td><td>-1.0</td><td>-1.0</td><td>-1.0</td><td>-1.0</td><td>-1.0</td><td>-1.0</td><td>-1.0</td><td>-1.0</td><td>-1.0</td><td>-1.0</td><td>-1.0</td><td>-1.0</td><td>-1.0</td><td>-1.0</td><td>-1.0</td><td>-1.0</td><td>-1.0</td><td>-1.0</td><td>-1.0</td><td>-1.0</td><td>-1.0</td><td>-1.0</td><td>-1.0</td><td>-1.0</td><td>-1.0</td><td>-1.0</td><td>-1.0</td><td>-1.0</td><td>-1.0</td><td>-1.0</td><td>-1.0</td><td>-1.0</td><td>-1.0</td><td>-1.0</td><td>-1.0</td><td>-1.0</td><td>-1.0</td><td>-1.0</td><td>-1.0</td><td>-1.0</td><td>-1.0</td><td>-1.0</td><td>-1.0</td><td>-1.0</td><td>-1.0</td><td>-1.0</td><td>-1.0</td><td>-1.0</td><td>-1.0</td><td>-1.0</td><td>-1.0</td><td>-1.0</td><td>-1.0</td><td>-1.0</td><td>-1.0</td><td>-1.0</td><td>-1.0</td><td>-1.0</td><td>-1.0</td><td>0</td><td>9222</td><td>0.0118050504068858</td><td>3.449478762597235e-11</td><td>310.0</td><td>6.0</td><td>0.08715966</td></tr>\n",
       "<tr><td>1418640</td><td>SGA-2020 1418640</td><td>PGC039275</td><td>39275</td><td>184.0186305</td><td>1.1804502000000001</td><td>SBb</td><td>35.22</td><td>0.4655861</td><td>0.7227698</td><td>0.05006897</td><td>22.59748</td><td>15.629</td><td>False</td><td>LEDA-20181114</td><td>520854</td><td>PGC039275</td><td>1</td><td>True</td><td>184.0186305</td><td>1.1804502000000001</td><td>0.4655861</td><td>1841p012</td><td>184.01862769811592</td><td>1.1805230150916357</td><td>0.63148403</td><td>SB26</td><td>32.653046</td><td>0.7210938</td><td>184.01855323531373</td><td>1.1806560880827675</td><td>15.06827</td><td>6.03358</td><td>5.697077</td><td>5.4127336</td><td>9.615142</td><td>11.019934</td><td>12.264778</td><td>13.415286</td><td>14.570264</td><td>15.706771</td><td>16.812685</td><td>17.90772</td><td>18.94452</td><td>15.472463</td><td>14.967471</td><td>14.583081</td><td>15.375188</td><td>14.8765955</td><td>14.499364</td><td>15.319243</td><td>14.823327</td><td>14.449557</td><td>15.287217</td><td>14.791768</td><td>14.420198</td><td>15.266664</td><td>14.770953</td><td>14.400431</td><td>15.253309</td><td>14.756888</td><td>14.387387</td><td>15.244477</td><td>14.74749</td><td>14.377938</td><td>15.238536</td><td>14.741347</td><td>14.371938</td><td>15.234483</td><td>14.737886</td><td>14.368586</td><td>0.055490963</td><td>0.052241713</td><td>0.058399227</td><td>0.06023697</td><td>0.088022396</td><td>0.07487429</td><td>0.07506171</td><td>0.074990615</td><td>0.1274562</td><td>0.010476576</td><td>0.010240365</td><td>0.0145399</td><td>0.010195261</td><td>0.009918802</td><td>0.013764534</td><td>0.009912179</td><td>0.009643212</td><td>0.013272123</td><td>0.009699225</td><td>0.009444261</td><td>0.012938828</td><td>0.009549376</td><td>0.009296407</td><td>0.012725753</td><td>0.00944561</td><td>0.009191061</td><td>0.012583681</td><td>0.009377333</td><td>0.009118871</td><td>0.012505433</td><td>0.009329089</td><td>0.009070383</td><td>0.012439722</td><td>0.009295657</td><td>0.009042983</td><td>0.012403476</td><td>15.223579</td><td>0.23747228</td><td>1.5003352</td><td>5.384457</td><td>0.009234151</td><td>14.725314</td><td>0.2120351</td><td>1.7345716</td><td>5.2776384</td><td>0.00731272</td><td>14.355785</td><td>0.20400572</td><td>1.6747159</td><td>5.128499</td><td>0.0061563356</td><td>0</td><td>221593</td><td>0.0500494316793913</td><td>8.972184451937375e-12</td><td>159.0</td><td>27.0</td><td>0.4999753</td></tr>\n",
       "<tr><td>1431285</td><td>SGA-2020 1431285</td><td>PGC090975</td><td>90975</td><td>150.29298762881675</td><td>0.908562816704724</td><td>Scd</td><td>143.0</td><td>0.5046613</td><td>0.17021586</td><td>0.0042259237</td><td>24.97848</td><td>17.835</td><td>True</td><td>LEDA-20181114</td><td>526421</td><td>PGC090975</td><td>1</td><td>True</td><td>150.29298762881675</td><td>0.908562816704724</td><td>0.5046613</td><td>1503p010</td><td>150.29296675342553</td><td>0.9085990687920653</td><td>0.88684726</td><td>SB26</td><td>142.05725</td><td>0.17881668</td><td>150.2929846497231</td><td>0.9085543379795789</td><td>16.964184</td><td>10.58797</td><td>10.871076</td><td>11.330529</td><td>2.1376812</td><td>4.8955517</td><td>8.755885</td><td>11.53901</td><td>14.214569</td><td>17.024275</td><td>20.060005</td><td>23.35789</td><td>26.605417</td><td>21.036913</td><td>20.764633</td><td>20.686018</td><td>19.424932</td><td>19.167295</td><td>19.05383</td><td>18.539627</td><td>18.26487</td><td>18.151213</td><td>18.22181</td><td>17.9503</td><td>17.820229</td><td>18.037243</td><td>17.751621</td><td>17.61506</td><td>17.918663</td><td>17.621258</td><td>17.479387</td><td>17.834103</td><td>17.535114</td><td>17.377106</td><td>17.76509</td><td>17.4648</td><td>17.311455</td><td>17.722307</td><td>17.423126</td><td>17.274689</td><td>0.030745974</td><td>0.074532196</td><td>0.07313699</td><td>0.08066408</td><td>0.11133378</td><td>0.1171105</td><td>0.17115097</td><td>0.15302226</td><td>0.18245213</td><td>0.038855582</td><td>0.036945574</td><td>0.031514425</td><td>0.021203207</td><td>0.022262033</td><td>0.024134766</td><td>0.018989718</td><td>0.018968983</td><td>0.018573117</td><td>0.018023629</td><td>0.017776424</td><td>0.017897703</td><td>0.01742353</td><td>0.01689832</td><td>0.017175198</td><td>0.01664057</td><td>0.016108135</td><td>0.01674923</td><td>0.0159717</td><td>0.01554861</td><td>0.016210925</td><td>0.015382882</td><td>0.014987298</td><td>0.015953787</td><td>0.014983822</td><td>0.014630137</td><td>0.016010001</td><td>17.559364</td><td>1.0881902</td><td>1.1157881</td><td>1.9723971</td><td>0.22309886</td><td>17.253979</td><td>1.0364543</td><td>1.263175</td><td>2.0206254</td><td>0.28016877</td><td>17.080793</td><td>1.076232</td><td>1.2958947</td><td>1.9773035</td><td>1.1937447</td><td>0</td><td>191643</td><td>0.00417211073760172</td><td>3.59290060127704e-11</td><td>76.0</td><td>10.0</td><td>0.0</td></tr>\n",
       "</table></div>"
      ],
      "text/plain": [
       "<Table length=109>\n",
       " SGA_ID    SGA_GALAXY             GALAXY         ... VERR_HI    cosi2    \n",
       " int64      bytes16              bytes29         ... float64   float32   \n",
       "------- ---------------- ----------------------- ... ------- ------------\n",
       "  21905   SGA-2020 21905              PGC2057303 ...    34.0    0.1098724\n",
       "  25532   SGA-2020 25532 SDSSJ130354.42+281837.9 ...     8.0    0.2799395\n",
       "  34497   SGA-2020 34497 SDSSJ100139.99+031207.5 ...     9.0   0.12031615\n",
       "  71578   SGA-2020 71578                UGC09482 ...     2.0          0.0\n",
       "  74548   SGA-2020 74548                UGC09365 ...     6.0   0.38563514\n",
       " 176736  SGA-2020 176736              PGC1713833 ...    33.0   0.28776157\n",
       " 180872  SGA-2020 180872 SDSSJ140213.21+040542.4 ...     9.0   0.02303189\n",
       " 188525  SGA-2020 188525              PGC1151901 ...    47.0   0.14230879\n",
       " 195106  SGA-2020 195106                UGC09277 ...    56.0 0.0057595666\n",
       " 197270  SGA-2020 197270              PGC1283631 ...    12.0   0.18035434\n",
       "    ...              ...                     ... ...     ...          ...\n",
       "1289613 SGA-2020 1289613              PGC3122315 ...     7.0  0.027811691\n",
       "1333993 SGA-2020 1333993                 NGC5348 ...     3.0          0.0\n",
       "1349528 SGA-2020 1349528              PGC1197902 ...    47.0  0.077349335\n",
       "1354616 SGA-2020 1354616              PGC1236160 ...     7.0   0.33417517\n",
       "1361840 SGA-2020 1361840               PGC051791 ...    52.0          0.0\n",
       "1363060 SGA-2020 1363060              PGC3123143 ...     8.0   0.14049116\n",
       "1365838 SGA-2020 1365838              PGC1270940 ...    15.0   0.24492027\n",
       "1369191 SGA-2020 1369191                UGC09222 ...     6.0   0.08715966\n",
       "1418640 SGA-2020 1418640               PGC039275 ...    27.0    0.4999753\n",
       "1431285 SGA-2020 1431285               PGC090975 ...    10.0          0.0"
      ]
     },
     "execution_count": 19,
     "metadata": {},
     "output_type": "execute_result"
    }
   ],
   "source": [
    "SGA_idx = []\n",
    "\n",
    "for SGA_id in np.unique(good_edge_spirals_axis_dist['SGA_ID']):\n",
    "    \n",
    "    SGA_idx.append(SGA_dict[SGA_id])\n",
    "\n",
    "SGA[SGA_idx]"
   ]
  },
  {
   "cell_type": "markdown",
   "id": "7f071117-f7ab-4f53-9571-e139d0eb4aed",
   "metadata": {},
   "source": [
    "## Visual inspection cut\n",
    "\n",
    "This removes any observations that are contaminated by foreground stars or other galaxies.\n",
    "\n",
    "**Note:** VI was done in the `fuji_zero-point_ALFALFA_KAD.ipynb` notebook."
   ]
  },
  {
   "cell_type": "code",
   "execution_count": 20,
   "id": "4ba7651a-8ac3-4ae5-91c5-d158512b32a3",
   "metadata": {},
   "outputs": [
    {
     "name": "stdout",
     "output_type": "stream",
     "text": [
      "227 109\n"
     ]
    }
   ],
   "source": [
    "VI_remove = Table.read('fuji_ALFALFA_VI.txt', format='ascii.commented_header')\n",
    "\n",
    "remove_targets = np.zeros(len(good_edge_spirals_axis_dist), dtype=bool)\n",
    "\n",
    "for targetid in VI_remove['TARGETID']:\n",
    "    \n",
    "    remove_targets = remove_targets & (good_edge_spirals_axis_dist['TARGETID'] == targetid)\n",
    "    \n",
    "VI_good_edge_spirals_axis_dist = good_edge_spirals_axis_dist[~remove_targets]\n",
    "\n",
    "print(len(VI_good_edge_spirals_axis_dist), len(np.unique(VI_good_edge_spirals_axis_dist['SGA_ID'])))"
   ]
  },
  {
   "cell_type": "markdown",
   "id": "1f48cc9c-d83c-455d-8939-075765d3b276",
   "metadata": {},
   "source": [
    "# Comparison of the two TFRs\n",
    "\n",
    "## Compute the weighted average velocity for those galaxies with more than one observation at $0.33R_{26}$:\n",
    "\n",
    "\\begin{equation}\n",
    "  \\bar{v} = \\frac{\\sum_i w_i v_i}{\\sum_i w_i}\n",
    "\\end{equation}\n",
    "where $w_i = 1/\\sigma^2$."
   ]
  },
  {
   "cell_type": "code",
   "execution_count": 21,
   "id": "06038686-8e00-4322-b01a-952d91679e45",
   "metadata": {},
   "outputs": [],
   "source": [
    "SGA['V_0p33R26'] = np.nan\n",
    "SGA['V_0p33R26_err'] = np.nan\n",
    "\n",
    "good_edge_spirals_axis_dist['R_MAG_SB26'] = np.nan\n",
    "good_edge_spirals_axis_dist['R_MAG_SB26_ERR'] = np.nan\n",
    "\n",
    "weights = 1./(good_edge_spirals_axis_dist['V_ROT_ERR']**2)\n",
    "\n",
    "for sga_id in np.unique(good_edge_spirals_axis_dist['SGA_ID']):\n",
    "    \n",
    "    # Identify all galaxy targets on this galaxy\n",
    "    obs_idx = good_edge_spirals_axis_dist['SGA_ID'] == sga_id\n",
    "    \n",
    "    SGA['V_0p33R26'][SGA_dict[sga_id]] = np.average(np.abs(good_edge_spirals_axis_dist['V_ROT'][obs_idx]), \n",
    "                                                    weights=weights[obs_idx])\n",
    "\n",
    "    SGA['V_0p33R26_err'][SGA_dict[sga_id]] = np.sqrt(1./np.sum(weights[obs_idx]))"
   ]
  },
  {
   "cell_type": "code",
   "execution_count": 22,
   "id": "c92f37df-f76f-4e1b-9700-6607a20b322e",
   "metadata": {},
   "outputs": [],
   "source": [
    "# Make a catalog of just those galaxies with velocities\n",
    "SGA_0pt = SGA[np.isfinite(SGA['V_0p33R26']) & (SGA['R_MAG_SB26'] > 0)]"
   ]
  },
  {
   "cell_type": "markdown",
   "id": "630e0141-d2cc-4f68-b927-122ae48d61fd",
   "metadata": {},
   "source": [
    "## Compute the absolute magnitudes based on the Cosmicflows-4 TFR\n",
    "\n",
    "### First, we need to correct the HI velocities for the inclination angle."
   ]
  },
  {
   "cell_type": "code",
   "execution_count": 23,
   "id": "781f8b2f-d084-41e4-9a8d-bd1c918ee2e8",
   "metadata": {},
   "outputs": [],
   "source": [
    "SGA_0pt['V_HI_corr'] = SGA_0pt['V_HI']/np.sin(np.arccos(np.sqrt(SGA_0pt['cosi2'])))\n",
    "SGA_0pt['VERR_HI_corr'] = SGA_0pt['VERR_HI']/np.sin(np.arccos(np.sqrt(SGA_0pt['cosi2'])))"
   ]
  },
  {
   "cell_type": "markdown",
   "id": "ddfffc6e-9aef-45a4-8d2d-0802c8611879",
   "metadata": {},
   "source": [
    "### Now, we use the Tully-Fisher relation calibrated by Cosmicflows-4 (Kourkchi+ 2020) to calculate the absolute magnitudes of these galaxies\n",
    "\n",
    "Cosmicflows-4 TF calibration:\n",
    "\\begin{equation}\n",
    "  \\overline{M_\\lambda} = \\text{Slope} \\left( \\log W^i_{mx} - 2.5 \\right) + \\overline{\\text{ZP}}\n",
    "\\end{equation}\n",
    "where\n",
    "\\begin{equation}\n",
    "  \\overline{\\text{ZP}} = \\text{ZP} + C_{zp}\n",
    "\\end{equation}\n",
    "is a correction to the zero-point to account for slightly different distance moduli found with different passbands for the same clusters.\n",
    "\n",
    "For the $r$-band, the parameter values are\n",
    " * slope $= -7.96\\pm 0.13$\n",
    " * ZP $= -20.57\\pm 0.10$\n",
    " * $C_{zp} = -0.08\\pm 0.13$"
   ]
  },
  {
   "cell_type": "code",
   "execution_count": 24,
   "id": "9636b0e2-d304-4287-8e2c-8a43cd278612",
   "metadata": {},
   "outputs": [],
   "source": [
    "CF4_slope = -7.96\n",
    "CF4_slope_err = 0.13\n",
    "\n",
    "CF4_ZP = -20.57\n",
    "CF4_ZP_err = 0.10\n",
    "\n",
    "CF4_Czp = -0.08\n",
    "CF4_Czp_err = 0.13\n",
    "\n",
    "SGA_0pt['R_ABSMAG_SB26_CF4'] = CF4_slope*(np.log10(SGA_0pt['V_HI_corr'] - 6) - 2.5) + CF4_ZP + CF4_Czp\n",
    "SGA_0pt['R_ABSMAG_SB26_CF4_err'] = np.sqrt((np.log10(SGA_0pt['V_HI_corr'] - 6) - 2.5)**2 * CF4_slope_err**2 + (CF4_slope/((SGA_0pt['V_HI_corr'] - 6)*np.log(10)))**2 * SGA_0pt['VERR_HI_corr']**2 + CF4_ZP_err**2 + CF4_Czp_err**2)"
   ]
  },
  {
   "cell_type": "markdown",
   "id": "bc857324-0ef9-4db1-b36a-9e8ba7a4b597",
   "metadata": {},
   "source": [
    "## Compute the absolute magnitudes based on our TFR\n",
    "\n",
    "Here, the slope is from `Coma-Fuji_KAD.ipynb` and the 0-pt is from the EDD calibration (`fuji_zero-point_KAD.ipynb`):\n",
    "\n",
    "\\begin{equation}\n",
    "  M_r = a \\log(V(0.33R_{26})) + b\n",
    "\\end{equation}\n",
    "\n",
    "where\n",
    "* $a = -5.63^{+0.87}_{-1.19}$\n",
    "* $b = -7.93 \\pm 2.71$"
   ]
  },
  {
   "cell_type": "code",
   "execution_count": 25,
   "id": "abc28722-9008-4d4a-a56b-cf84871e308d",
   "metadata": {},
   "outputs": [],
   "source": [
    "our_slope = -5.63\n",
    "our_slope_err = 1.16\n",
    "\n",
    "our_ZP = -7.93\n",
    "our_ZP_err = 2.71\n",
    "\n",
    "SGA_0pt['R_ABSMAG_SB26_us'] = our_slope*np.log10(SGA_0pt['V_0p33R26']) + our_ZP"
   ]
  },
  {
   "cell_type": "code",
   "execution_count": 26,
   "id": "f886dceb-2a05-4f05-ae5b-cc8fb55a8949",
   "metadata": {},
   "outputs": [
    {
     "name": "stderr",
     "output_type": "stream",
     "text": [
      "/tmp/ipykernel_20256/2729147543.py:20: RuntimeWarning: invalid value encountered in log10\n",
      "  Ms_stat = our_slope*np.log10(v_random) + our_ZP\n",
      "/tmp/ipykernel_20256/2729147543.py:29: RuntimeWarning: invalid value encountered in log10\n",
      "  Ms = m_random*np.log10(v_random) + b_random\n"
     ]
    }
   ],
   "source": [
    "N_samples = 100000\n",
    "\n",
    "rng = np.random.default_rng()\n",
    "\n",
    "m_random = rng.normal(our_slope, our_slope_err, size=N_samples)\n",
    "b_random = rng.normal(our_ZP, our_ZP_err, size=N_samples)\n",
    "\n",
    "SGA_0pt['R_ABSMAG_SB26_us_err'] = np.nan\n",
    "SGA_0pt['R_ABSMAG_SB26_us_err_stat'] = np.nan # Statistical uncertainty (just due to the uncertainty in the velocity)\n",
    "\n",
    "for i in range(len(SGA_0pt)):\n",
    "    \n",
    "    v_random = rng.normal(SGA_0pt['V_0p33R26'][i], \n",
    "                          SGA_0pt['V_0p33R26_err'][i], \n",
    "                          size=N_samples)\n",
    "    \n",
    "    ############################################################################\n",
    "    # Statistical uncertainty\n",
    "    #---------------------------------------------------------------------------\n",
    "    Ms_stat = our_slope*np.log10(v_random) + our_ZP\n",
    "    \n",
    "    SGA_0pt['R_ABSMAG_SB26_us_err_stat'][i] = np.nanstd(Ms_stat)\n",
    "    ############################################################################\n",
    "    \n",
    "    \n",
    "    ############################################################################\n",
    "    # Total uncertainty\n",
    "    #---------------------------------------------------------------------------\n",
    "    Ms = m_random*np.log10(v_random) + b_random\n",
    "    \n",
    "    SGA_0pt['R_ABSMAG_SB26_us_err'][i] = np.nanstd(Ms)\n",
    "    ############################################################################\n",
    "\n",
    "    \n",
    "    \n",
    "################################################################################\n",
    "# Systematic uncertainty (due to the uncertainty in the fit)\n",
    "#-------------------------------------------------------------------------------\n",
    "SGA_0pt['R_ABSMAG_SB26_us_err_sys'] = np.sqrt(SGA_0pt['R_ABSMAG_SB26_us_err']**2 - SGA_0pt['R_ABSMAG_SB26_us_err_stat']**2)\n",
    "################################################################################"
   ]
  },
  {
   "cell_type": "code",
   "execution_count": 30,
   "id": "a7522b8d-1723-4217-97e7-081d6f3f1558",
   "metadata": {},
   "outputs": [
    {
     "data": {
      "image/png": "[encoded data removed]",
      "text/plain": [
       "<Figure size 288x288 with 1 Axes>"
      ]
     },
     "metadata": {
      "needs_background": "light"
     },
     "output_type": "display_data"
    }
   ],
   "source": [
    "plt.figure(figsize=(4,4), tight_layout=True)\n",
    "\n",
    "plt.grid(ls=':')\n",
    "\n",
    "plt.plot([-5, -28], [-5, -28], 'k--')\n",
    "\n",
    "plt.errorbar(SGA_0pt['R_ABSMAG_SB26_CF4'], SGA_0pt['R_ABSMAG_SB26_us'], \n",
    "             xerr=SGA_0pt['R_ABSMAG_SB26_CF4_err'], \n",
    "             yerr=SGA_0pt['R_ABSMAG_SB26_us_err_stat'], \n",
    "             fmt='o', \n",
    "             alpha=0.5, \n",
    "             ecolor='gray'\n",
    "            )\n",
    "\n",
    "plt.xlim([-12, -24])\n",
    "plt.ylim([-7, -23])\n",
    "\n",
    "plt.xlabel('$M_r(26)$: Cosmicflows-4')\n",
    "plt.ylabel('$M_r(26)$: this work');"
   ]
  },
  {
   "cell_type": "code",
   "execution_count": 31,
   "id": "6b1f8514-853a-4348-a0c3-a415fa9a1b20",
   "metadata": {},
   "outputs": [],
   "source": [
    "# Restrict the sample to the range allowed by the Cosmicflows-4 calibration\n",
    "\n",
    "StoN = SGA_0pt['V_HI']/SGA_0pt['VERR_HI']\n",
    "\n",
    "CF4_boolean = (StoN > 10) & ((SGA_0pt['V_HI_corr'] - 6) > 64)"
   ]
  },
  {
   "cell_type": "code",
   "execution_count": 55,
   "id": "b9638288-fd44-4832-ba3d-a6a23b8dec77",
   "metadata": {},
   "outputs": [
    {
     "data": {
      "image/png": "[encoded data removed]",
      "text/plain": [
       "<Figure size 288x288 with 1 Axes>"
      ]
     },
     "metadata": {
      "needs_background": "light"
     },
     "output_type": "display_data"
    }
   ],
   "source": [
    "plt.figure(figsize=(4,4), tight_layout=True)\n",
    "\n",
    "plt.grid(ls=':')\n",
    "\n",
    "plt.plot([-5, -28], [-5, -28], 'k--')\n",
    "\n",
    "# Statistical error bars\n",
    "plt.errorbar(SGA_0pt['R_ABSMAG_SB26_CF4'][CF4_boolean], SGA_0pt['R_ABSMAG_SB26_us'][CF4_boolean], \n",
    "             xerr=SGA_0pt['R_ABSMAG_SB26_CF4_err'][CF4_boolean], \n",
    "             yerr=SGA_0pt['R_ABSMAG_SB26_us_err_stat'][CF4_boolean], \n",
    "             fmt='o', \n",
    "             # alpha=0.5, \n",
    "             ecolor='gray')\n",
    "\n",
    "# Systematic error bar example\n",
    "plt.errorbar([-23.5], [-13], \n",
    "             yerr=np.nanmean(SGA_0pt['R_ABSMAG_SB26_us_err_sys'][CF4_boolean]), \n",
    "             fmt='x', \n",
    "             color='lightgray',\n",
    "             ecolor='lightgray', \n",
    "             capsize=5)\n",
    "\n",
    "#plt.gca().set_aspect('equal')\n",
    "\n",
    "plt.xlim([-15, -24])\n",
    "plt.ylim([-9, -22])\n",
    "\n",
    "plt.xlabel('$M_r(26) - 5$log$(h)$: Cosmicflows-4', fontsize=14)\n",
    "plt.ylabel('$M_r(26) - 5$log$(h)$: this work', fontsize=14);\n",
    "\n",
    "#plt.savefig('../../Figures/SV/fuji_CF4comp_20230310.png', dpi=150);"
   ]
  },
  {
   "cell_type": "markdown",
   "id": "8ecd70ee-7eb4-4819-a33f-1a829f3430d6",
   "metadata": {
    "jp-MarkdownHeadingCollapsed": true,
    "tags": []
   },
   "source": [
    "## Compute the absolute magnitudes based on our TFR\n",
    "\n",
    "Here, the slope is from `Coma-Fuji-nodwarfs_KAD.ipynb` and the 0-pt is from the EDD calibration (`fuji_zero-point_nodwarf_KAD.ipynb`):\n",
    "\n",
    "\\begin{equation}\n",
    "  M_r = a \\log(V(0.33R_{26})) + b\n",
    "\\end{equation}\n",
    "\n",
    "where\n",
    "* $a = -7.90^{+1.27}_{-1.85}$\n",
    "* $b = -2.62 \\pm 4.28$\n",
    "\n",
    "When the uncertainties are taken into account, the best-fit values are\n",
    "* $a = -7.79^{+1.23}_{-1.69}$\n",
    "* $b = -2.87 \\pm 3.87$"
   ]
  },
  {
   "cell_type": "code",
   "execution_count": 34,
   "id": "0b955bd5-07f7-4b92-b679-710017333d0b",
   "metadata": {},
   "outputs": [],
   "source": [
    "'''\n",
    "our_bright_slope = -7.90\n",
    "our_bright_slope_err = 1.91\n",
    "\n",
    "our_bright_ZP = -2.62\n",
    "our_bright_ZP_err = 4.28\n",
    "'''\n",
    "our_bright_slope = -7.79\n",
    "our_bright_slope_err = 1.71\n",
    "\n",
    "our_bright_ZP = -2.87\n",
    "our_bright_ZP_err = 3.87\n",
    "\n",
    "SGA_0pt['R_ABSMAG_SB26_us_bright'] = our_bright_slope*np.log10(SGA_0pt['V_0p33R26']) + our_bright_ZP"
   ]
  },
  {
   "cell_type": "code",
   "execution_count": 35,
   "id": "2b8d717f-37b7-4968-a63e-e64e02d91069",
   "metadata": {},
   "outputs": [
    {
     "name": "stderr",
     "output_type": "stream",
     "text": [
      "/tmp/ipykernel_32695/1681507318.py:14: RuntimeWarning: invalid value encountered in log10\n",
      "  Ms = m_random*np.log10(v_random) + b_random\n"
     ]
    }
   ],
   "source": [
    "N_samples = 100000\n",
    "\n",
    "rng = np.random.default_rng()\n",
    "\n",
    "m_random = rng.normal(our_bright_slope, our_bright_slope_err, size=N_samples)\n",
    "b_random = rng.normal(our_bright_ZP, our_bright_ZP_err, size=N_samples)\n",
    "\n",
    "SGA_0pt['R_ABSMAG_SB26_us_bright_err'] = np.nan\n",
    "\n",
    "for i in range(len(SGA_0pt)):\n",
    "    \n",
    "    v_random = rng.normal(SGA_0pt['V_0p33R26'][i], SGA_0pt['V_0p33R26_err'][i], size=N_samples)\n",
    "    \n",
    "    Ms = m_random*np.log10(v_random) + b_random\n",
    "    \n",
    "    SGA_0pt['R_ABSMAG_SB26_us_bright_err'][i] = np.nanstd(Ms)"
   ]
  },
  {
   "cell_type": "code",
   "execution_count": 36,
   "id": "96aa89d9-f784-48e8-b16e-29520417e6e9",
   "metadata": {},
   "outputs": [
    {
     "data": {
      "image/png": "[encoded data removed]",
      "text/plain": [
       "<Figure size 288x288 with 1 Axes>"
      ]
     },
     "metadata": {
      "needs_background": "light"
     },
     "output_type": "display_data"
    }
   ],
   "source": [
    "plt.figure(figsize=(4,4), tight_layout=True)\n",
    "\n",
    "plt.plot([-5, -28], [-5, -28], 'k--')\n",
    "\n",
    "plt.errorbar(SGA_0pt['R_ABSMAG_SB26_CF4'], SGA_0pt['R_ABSMAG_SB26_us_bright'], \n",
    "             xerr=SGA_0pt['R_ABSMAG_SB26_CF4_err'], \n",
    "             yerr=SGA_0pt['R_ABSMAG_SB26_us_bright_err'], \n",
    "             fmt='o', \n",
    "             alpha=0.5)\n",
    "\n",
    "plt.xlim([-12, -24])\n",
    "plt.ylim([-5, -28])\n",
    "\n",
    "plt.xlabel('$M_r(26)$: Cosmicflows-4')\n",
    "plt.ylabel('$M_r(26)$: this work (no dwarfs)');"
   ]
  },
  {
   "cell_type": "code",
   "execution_count": 37,
   "id": "2c40f9b0-b6e7-4844-9f0e-cb72cd38c703",
   "metadata": {},
   "outputs": [
    {
     "data": {
      "image/png": "[encoded data removed]",
      "text/plain": [
       "<Figure size 288x288 with 1 Axes>"
      ]
     },
     "metadata": {
      "needs_background": "light"
     },
     "output_type": "display_data"
    }
   ],
   "source": [
    "plt.figure(figsize=(4,4), tight_layout=True)\n",
    "\n",
    "plt.plot([-5, -28], [-5, -28], 'k--')\n",
    "\n",
    "plt.errorbar(SGA_0pt['R_ABSMAG_SB26_CF4'][CF4_boolean], SGA_0pt['R_ABSMAG_SB26_us_bright'][CF4_boolean], \n",
    "             xerr=SGA_0pt['R_ABSMAG_SB26_CF4_err'][CF4_boolean], \n",
    "             yerr=SGA_0pt['R_ABSMAG_SB26_us_bright_err'][CF4_boolean], \n",
    "             fmt='o', \n",
    "             alpha=0.5)\n",
    "\n",
    "plt.xlim([-15, -24])\n",
    "plt.ylim([-5, -26])\n",
    "\n",
    "plt.xlabel('$M_r(26)$: Cosmicflows-4', fontsize=14)\n",
    "plt.ylabel('$M_r(26)$: this work (no dwarfs)', fontsize=14);\n",
    "\n",
    "#plt.savefig('../../Figures/SV/fuji_CF4comp_20230307.png', dpi=150);"
   ]
  },
  {
   "cell_type": "markdown",
   "id": "ba129a75-646c-49ed-8aaa-4169eda19b85",
   "metadata": {
    "tags": []
   },
   "source": [
    "## Compute the absolute magnitudes based on our TFR\n",
    "\n",
    "Here, the slope is from the second iteration `Coma-Fuji-nodwarfs_KAD.ipynb` and the 0-pt is from the second iteration of the EDD calibration (`fuji_zero-point_nodwarf_KAD.ipynb`):\n",
    "\n",
    "\\begin{equation}\n",
    "  M_r = a \\log(V(0.33R_{26})) + b\n",
    "\\end{equation}\n",
    "\n",
    "where\n",
    "* $a = -11.19^{+2.71}_{-4.52}$\n",
    "* $b = 5.09 \\pm 11.10$\n",
    "\n",
    "Again, if we take into account the uncertainties when determining which galaxies are dwarfs, the parameters are\n",
    "* $a = -7.82^{+1.27}_{-1.74}$\n",
    "* $b = -2.80 \\pm 3.90$"
   ]
  },
  {
   "cell_type": "code",
   "execution_count": 46,
   "id": "0056897a-2a49-4851-95f9-6248c35d8844",
   "metadata": {},
   "outputs": [],
   "source": [
    "'''\n",
    "our_bright_slope2 = -11.19\n",
    "our_bright_slope2_err = 6.93\n",
    "\n",
    "our_bright_ZP2 = 5.09\n",
    "our_bright_ZP2_err = 11.10\n",
    "'''\n",
    "our_bright_slope2 = -7.82\n",
    "our_bright_slope2_err = 1.72\n",
    "#our_bright_slope2_err = 0.0\n",
    "\n",
    "our_bright_ZP2 = -2.80\n",
    "our_bright_ZP2_err = 3.90\n",
    "#our_bright_ZP2_err = 0.0\n",
    "\n",
    "SGA_0pt['R_ABSMAG_SB26_us_bright2'] = our_bright_slope2*np.log10(SGA_0pt['V_0p33R26']) + our_bright_ZP2"
   ]
  },
  {
   "cell_type": "code",
   "execution_count": 47,
   "id": "201eafca-144b-4d32-b669-06d22f441562",
   "metadata": {},
   "outputs": [
    {
     "name": "stderr",
     "output_type": "stream",
     "text": [
      "/tmp/ipykernel_20256/3957692913.py:19: RuntimeWarning: invalid value encountered in log10\n",
      "  Ms_stat = our_bright_slope2*np.log10(v_random) + our_bright_ZP2\n",
      "/tmp/ipykernel_20256/3957692913.py:28: RuntimeWarning: invalid value encountered in log10\n",
      "  Ms = m_random*np.log10(v_random) + b_random\n"
     ]
    }
   ],
   "source": [
    "N_samples = 100000\n",
    "\n",
    "rng = np.random.default_rng()\n",
    "\n",
    "m_random = rng.normal(our_bright_slope2, our_bright_slope2_err, size=N_samples)\n",
    "b_random = rng.normal(our_bright_ZP2, our_bright_ZP2_err, size=N_samples)\n",
    "\n",
    "SGA_0pt['R_ABSMAG_SB26_us_bright2_err'] = np.nan\n",
    "SGA_0pt['R_ABSMAG_SB26_us_bright2_err_stat'] = np.nan\n",
    "\n",
    "for i in range(len(SGA_0pt)):\n",
    "    \n",
    "    v_random = rng.normal(SGA_0pt['V_0p33R26'][i], SGA_0pt['V_0p33R26_err'][i], size=N_samples)\n",
    "    #v_random = rng.normal(SGA_0pt['V_0p33R26'][i], 0.0, size=N_samples)\n",
    "    \n",
    "    ############################################################################\n",
    "    # Statistical uncertainty\n",
    "    #---------------------------------------------------------------------------\n",
    "    Ms_stat = our_bright_slope2*np.log10(v_random) + our_bright_ZP2\n",
    "    \n",
    "    SGA_0pt['R_ABSMAG_SB26_us_bright2_err_stat'][i] = np.nanstd(Ms_stat)\n",
    "    ############################################################################\n",
    "    \n",
    "    \n",
    "    ############################################################################\n",
    "    # Total uncertainty\n",
    "    #---------------------------------------------------------------------------\n",
    "    Ms = m_random*np.log10(v_random) + b_random\n",
    "    \n",
    "    SGA_0pt['R_ABSMAG_SB26_us_bright2_err'][i] = np.nanstd(Ms)\n",
    "    ############################################################################\n",
    "\n",
    "    \n",
    "    \n",
    "################################################################################\n",
    "# Systematic uncertainty (due to the uncertainty in the fit)\n",
    "#-------------------------------------------------------------------------------\n",
    "SGA_0pt['R_ABSMAG_SB26_us_bright2_err_sys'] = np.sqrt(SGA_0pt['R_ABSMAG_SB26_us_bright2_err']**2 - SGA_0pt['R_ABSMAG_SB26_us_bright2_err_stat']**2)\n",
    "################################################################################"
   ]
  },
  {
   "cell_type": "code",
   "execution_count": 50,
   "id": "062c07b7-df9b-4994-8dda-0730f2034088",
   "metadata": {},
   "outputs": [
    {
     "data": {
      "image/png": "[encoded data removed]",
      "text/plain": [
       "<Figure size 288x288 with 1 Axes>"
      ]
     },
     "metadata": {
      "needs_background": "light"
     },
     "output_type": "display_data"
    }
   ],
   "source": [
    "plt.figure(figsize=(4,4), tight_layout=True)\n",
    "\n",
    "plt.plot([-5, -28], [-5, -28], 'k--')\n",
    "\n",
    "plt.errorbar(SGA_0pt['R_ABSMAG_SB26_CF4'], SGA_0pt['R_ABSMAG_SB26_us_bright2'], \n",
    "             xerr=SGA_0pt['R_ABSMAG_SB26_CF4_err'], \n",
    "             yerr=SGA_0pt['R_ABSMAG_SB26_us_bright2_err_stat'], \n",
    "             fmt='o', \n",
    "             alpha=0.5, \n",
    "             ecolor='gray')\n",
    "\n",
    "plt.xlim([-12, -24])\n",
    "plt.ylim([-5, -23])\n",
    "\n",
    "plt.xlabel('$M_r(26)$: Cosmicflows-4')\n",
    "plt.ylabel('$M_r(26)$: this work (no dwarfs, iteration 2)');"
   ]
  },
  {
   "cell_type": "code",
   "execution_count": 58,
   "id": "0592b96a-a69c-45f6-a7db-7994b32204f6",
   "metadata": {},
   "outputs": [
    {
     "data": {
      "image/png": "[encoded data removed]",
      "text/plain": [
       "<Figure size 288x288 with 1 Axes>"
      ]
     },
     "metadata": {
      "needs_background": "light"
     },
     "output_type": "display_data"
    }
   ],
   "source": [
    "plt.figure(figsize=(4,4), tight_layout=True)\n",
    "\n",
    "plt.grid(ls=':')\n",
    "\n",
    "plt.plot([-5, -28], [-5, -28], 'k--')\n",
    "\n",
    "plt.errorbar(SGA_0pt['R_ABSMAG_SB26_CF4'][CF4_boolean], SGA_0pt['R_ABSMAG_SB26_us_bright2'][CF4_boolean], \n",
    "             xerr=SGA_0pt['R_ABSMAG_SB26_CF4_err'][CF4_boolean], \n",
    "             yerr=SGA_0pt['R_ABSMAG_SB26_us_bright2_err_stat'][CF4_boolean], \n",
    "             fmt='o', \n",
    "             # alpha=0.5, \n",
    "             ecolor='gray')\n",
    "\n",
    "# Systematic error bar example\n",
    "plt.errorbar([-23.5], [-10.5], \n",
    "             yerr=np.nanmean(SGA_0pt['R_ABSMAG_SB26_us_bright2_err_sys'][CF4_boolean]), \n",
    "             fmt='x', \n",
    "             color='lightgray',\n",
    "             # ecolor='lightgray', \n",
    "             capsize=5)\n",
    "\n",
    "plt.xlim([-15, -24])\n",
    "plt.ylim([-5, -23])\n",
    "\n",
    "plt.xlabel('$M_r(26)$: Cosmicflows-4', fontsize=14)\n",
    "plt.ylabel('$M_r(26)$: this work (no dwarfs, iteration 2)', fontsize=14);\n",
    "\n",
    "#plt.savefig('../../Figures/SV/fuji_CF4comp_20230307.png', dpi=150);"
   ]
  },
  {
   "cell_type": "code",
   "execution_count": null,
   "id": "d67d640c-2933-42f7-a6c6-e186da203c8e",
   "metadata": {},
   "outputs": [],
   "source": []
  }
 ],
 "metadata": {
  "kernelspec": {
   "display_name": "DESI master",
   "language": "python",
   "name": "desi-master"
  },
  "language_info": {
   "codemirror_mode": {
    "name": "ipython",
    "version": 3
   },
   "file_extension": ".py",
   "mimetype": "text/x-python",
   "name": "python",
   "nbconvert_exporter": "python",
   "pygments_lexer": "ipython3",
   "version": "3.9.7"
  }
 },
 "nbformat": 4,
 "nbformat_minor": 5
}
