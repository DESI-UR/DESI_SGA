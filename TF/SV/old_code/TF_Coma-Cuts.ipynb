{
 "cells": [
  {
   "cell_type": "markdown",
   "id": "ead385a1-f2d4-44ec-afd0-57871d0e2cb2",
   "metadata": {},
   "source": [
    "# Tully-Fisher Relation of galaxies in the Coma Cluster\n",
    "\n",
    "Using the observations made as part of the Peculiar Velocity Survey, create the Tully-Fisher relation for those galaxies in the Coma Cluster.\n",
    "\n",
    "The fit produced in this notebook excludes galaxies in the sample that were rejected by visual inspection."
   ]
  },
  {
   "cell_type": "code",
   "execution_count": 1,
   "id": "0cf37865-b277-4944-a29f-10e7584487e1",
   "metadata": {},
   "outputs": [],
   "source": [
    "import os\n",
    "\n",
    "#from astropy.io import fits\n",
    "from astropy.table import Table\n",
    "from astropy.coordinates import SkyCoord, match_coordinates_sky\n",
    "from astropy import units as u\n",
    "#from astropy.wcs import WCS\n",
    "#from astropy.visualization.wcsaxes import SphericalCircle\n",
    "\n",
    "#import psycopg2\n",
    "\n",
    "import numpy as np\n",
    "\n",
    "try:\n",
    "    import numdifftools as ndt\n",
    "except ModuleNotFoundError as e:\n",
    "    ! pip install --user numdifftools\n",
    "    import numdifftools as ndt\n",
    "    \n",
    "from scipy.optimize import minimize, curve_fit\n",
    "\n",
    "import matplotlib as mpl\n",
    "import matplotlib.pyplot as plt"
   ]
  },
  {
   "cell_type": "code",
   "execution_count": 2,
   "id": "6a3be784-4baf-4c63-b47b-6ea97bb1f64a",
   "metadata": {},
   "outputs": [],
   "source": [
    "mpl.rc('font', size=12)\n",
    "#mpl.rc('axes', titlesize='small')\n",
    "mpl.rc('figure', max_open_warning=0)\n",
    "\n",
    "plt.rcParams['font.family'] = 'serif'\n",
    "plt.rcParams['font.serif'] = ['Times New Roman'] + plt.rcParams['font.serif']"
   ]
  },
  {
   "cell_type": "code",
   "execution_count": 3,
   "id": "a7565ae1-09d0-4018-8ceb-ba8ab81128c4",
   "metadata": {},
   "outputs": [],
   "source": [
    "h = 1\n",
    "H0 = 100*h\n",
    "\n",
    "c = 3e5 #km/s\n",
    "\n",
    "q0 = 0.2"
   ]
  },
  {
   "cell_type": "markdown",
   "id": "1678e508-b7cd-467d-a41e-5036e5c58863",
   "metadata": {},
   "source": [
    "## Read in Coma cluster targets\n",
    "\n",
    "Generated in the `PV_coma_targets` notebook, and exclude galaxies rejected by visual inspection."
   ]
  },
  {
   "cell_type": "code",
   "execution_count": 4,
   "id": "688e9cc6-93a4-42ad-8159-a720e27328a2",
   "metadata": {},
   "outputs": [],
   "source": [
    "bad_sga_ids = [30149, 474614, 545858, 653059, 811359, 900049, 972260, 1393079]"
   ]
  },
  {
   "cell_type": "code",
   "execution_count": 5,
   "id": "f0e47a36-d443-4846-abe4-e89b0af7a50b",
   "metadata": {},
   "outputs": [],
   "source": [
    "inComa_sga_table = Table.read('cache/tf_targets_coma_sga.fits', format='fits')"
   ]
  },
  {
   "cell_type": "markdown",
   "id": "3531792b-0154-4226-9b6c-bc51afa74854",
   "metadata": {},
   "source": [
    "## Cut `SGA_IDs` using results from visual inspection"
   ]
  },
  {
   "cell_type": "code",
   "execution_count": 6,
   "id": "52c6d621-e290-41a2-b4ab-94ec7b82aed3",
   "metadata": {},
   "outputs": [
    {
     "data": {
      "text/plain": [
       "113"
      ]
     },
     "execution_count": 6,
     "metadata": {},
     "output_type": "execute_result"
    }
   ],
   "source": [
    "len(np.unique(inComa_sga_table['SGA_ID']))"
   ]
  },
  {
   "cell_type": "code",
   "execution_count": 7,
   "id": "190db371-5edb-47bd-a643-ca2150d5518d",
   "metadata": {},
   "outputs": [],
   "source": [
    "for bad_sga_id in bad_sga_ids:\n",
    "    indices = np.where(inComa_sga_table['SGA_ID'] == bad_sga_id)\n",
    "    inComa_sga_table.remove_rows(indices)"
   ]
  },
  {
   "cell_type": "code",
   "execution_count": 8,
   "id": "e93dbc5a-abcd-4354-9d7b-445b713f877f",
   "metadata": {},
   "outputs": [
    {
     "data": {
      "text/plain": [
       "105"
      ]
     },
     "execution_count": 8,
     "metadata": {},
     "output_type": "execute_result"
    }
   ],
   "source": [
    "len(np.unique(inComa_sga_table['SGA_ID']))"
   ]
  },
  {
   "cell_type": "markdown",
   "id": "5810ece7-ce1b-43ca-b865-20e736d0f78f",
   "metadata": {},
   "source": [
    "## Calculate the rotational velocities\n",
    "\n",
    "And store those at $0.33R_{26}$\n",
    "\n",
    "Also, remove those with a velocity > 5000 km/s"
   ]
  },
  {
   "cell_type": "code",
   "execution_count": 9,
   "id": "66da2fa7-c91a-4c6a-9645-6622bb9df907",
   "metadata": {
    "tags": []
   },
   "outputs": [],
   "source": [
    "sga_ids_vel_cuts = []\n",
    "\n",
    "rmag = []\n",
    "drmag = []\n",
    "vmax = []\n",
    "dvmax = []\n",
    "\n",
    "for i, sga_id in enumerate(np.unique(inComa_sga_table['SGA_ID'])):\n",
    "    # if sga_id == 474614:\n",
    "    #     print('skipped')\n",
    "    #     continue\n",
    "    galaxy_list = inComa_sga_table[inComa_sga_table['SGA_ID'] == sga_id]\n",
    "    # print\n",
    "    #print(i+1, sga_id)\n",
    "    \n",
    "    is_sga_galaxy = (galaxy_list['TARGETID'] > 30000000000000000) & (galaxy_list['TARGETID'] < 40000000000000000)\n",
    "    \n",
    "    sga_galaxy = galaxy_list[is_sga_galaxy]\n",
    "    tf_list = galaxy_list[~is_sga_galaxy]\n",
    "    \n",
    "    if np.sum(is_sga_galaxy) > 1:\n",
    "        sga_galaxy = sga_galaxy[0]\n",
    "    \n",
    "    targetid = int(sga_galaxy['TARGETID'])\n",
    "    center = SkyCoord(sga_galaxy['FIBER_RA'], sga_galaxy['FIBER_DEC'], unit='deg')\n",
    "    offcenter = SkyCoord(tf_list['FIBER_RA'], tf_list['FIBER_DEC'], unit='deg')\n",
    "    sep2d = offcenter.separation(center)\n",
    "    r26 = 0.5 * float(sga_galaxy['D26'])*u.arcmin\n",
    "    sep_r26 = sep2d.to('arcmin') / r26\n",
    "    \n",
    "    zc, zc_err = sga_galaxy['Z'], sga_galaxy['ZERR']\n",
    "    zt, zt_err = tf_list['Z'], tf_list['ZERR']\n",
    "    \n",
    "    dz = np.abs(zt - zc)\n",
    "    dz_err = np.sqrt(zc_err**2 + zt_err**2)\n",
    "    \n",
    "    dv = c * dz\n",
    "    dv_err = c * dz_err\n",
    "    \n",
    "    good_vel = dv < 5000\n",
    "    # print(good_vel[0], sga_id)\n",
    "    \n",
    "    if np.sum(good_vel) > 0:\n",
    "        sep_r26 = np.insert(sep_r26[good_vel], 0, 0.)\n",
    "        dv = np.insert(dv[good_vel], 0, 0.)\n",
    "        dv_err = np.insert(dv_err[good_vel], 0, 3e5*zc_err)\n",
    "\n",
    "        # Extract the 0.33xR26 points.\n",
    "        is_033_r26 = (sep_r26 > 0.3) & (sep_r26 < 0.4)\n",
    "        if np.sum(is_033_r26) > 0:\n",
    "            v033 = np.mean(dv[is_033_r26])\n",
    "            dv033 = np.sqrt(np.sum(dv_err[is_033_r26]**2))\n",
    "\n",
    "            rmag.append(float(sga_galaxy['R_MAG_SB26']))\n",
    "            drmag.append(float(sga_galaxy['R_MAG_SB26_ERR']))\n",
    "            vmax.append(v033)\n",
    "            dvmax.append(dv033)\n",
    "            sga_ids_vel_cuts.append(sga_id)\n",
    "    # break\n",
    "#print('mag:', rmag)\n",
    "#print('vel:', vmax)\n",
    "#print('dv:', dvmax)"
   ]
  },
  {
   "cell_type": "code",
   "execution_count": 10,
   "id": "6daea423-59e9-4388-8501-b5e2942b9c99",
   "metadata": {},
   "outputs": [
    {
     "name": "stdout",
     "output_type": "stream",
     "text": [
      "77\n"
     ]
    },
    {
     "data": {
      "image/png": "[encoded data removed]",
      "text/plain": [
       "<Figure size 720x288 with 2 Axes>"
      ]
     },
     "metadata": {
      "needs_background": "light"
     },
     "output_type": "display_data"
    }
   ],
   "source": [
    "rmag = np.asarray(rmag)\n",
    "drmag = np.asarray(drmag)\n",
    "vmax = np.asarray(vmax)\n",
    "dvmax = np.asarray(dvmax)\n",
    "\n",
    "isrmeas = rmag > 0\n",
    "\n",
    "fig, axes = plt.subplots(1, 2, figsize=(10,4), tight_layout=True)\n",
    "\n",
    "ax = axes[0]\n",
    "ax.errorbar(rmag[isrmeas], vmax[isrmeas], xerr=drmag[isrmeas], yerr=dvmax[isrmeas], fmt='ro')\n",
    "ax.set(xlabel='$m_r$(26)',\n",
    "       xlim=(18.5, 12.5),\n",
    "       ylim=(-50,300),\n",
    "       ylabel='$v_\\mathrm{max}$ [km s$^{-1}$]')\n",
    "\n",
    "ax = axes[1]\n",
    "\n",
    "log10vmax = np.log10(vmax)\n",
    "dlog10vmax = 0.434 * dvmax / vmax \n",
    "\n",
    "ax.errorbar(rmag[isrmeas], log10vmax[isrmeas], yerr=dlog10vmax[isrmeas], fmt='ro')\n",
    "ax.set(xlabel='$m_r$(26)',\n",
    "       xlim=(18.5, 12.5),\n",
    "       ylabel=r'$\\log{(v_\\mathrm{max} / \\mathrm{km~s}^{-1})}$',\n",
    "       ylim=(-0.5,3))\n",
    "\n",
    "fig.suptitle(r'Rotational velocity at $0.33R_{26}$', y=1.05)\n",
    "fig.subplots_adjust(top=0.8)\n",
    "\n",
    "print(np.sum(isrmeas))"
   ]
  },
  {
   "cell_type": "markdown",
   "id": "e0039773-5608-42d6-9d3e-7305404efada",
   "metadata": {},
   "source": [
    "## Cuts on inclination angle and morphology"
   ]
  },
  {
   "cell_type": "code",
   "execution_count": 11,
   "id": "6ce147db-3ca9-4d52-a14f-d7708ab2d993",
   "metadata": {},
   "outputs": [
    {
     "name": "stderr",
     "output_type": "stream",
     "text": [
      "/tmp/ipykernel_33826/679823277.py:12: RuntimeWarning: invalid value encountered in sqrt\n",
      "  inComa_sga_table['cosi'] = np.sqrt((inComa_sga_table['BA']**2 - q0**2)/(1 - q0**2))\n"
     ]
    },
    {
     "name": "stdout",
     "output_type": "stream",
     "text": [
      "56\n"
     ]
    }
   ],
   "source": [
    "sga_ids_clean = []\n",
    "\n",
    "rmag_clean = []\n",
    "drmag_clean = []\n",
    "vmax_clean = []\n",
    "dvmax_clean = []\n",
    "z = []\n",
    "\n",
    "inc_min = 45*u.degree\n",
    "cosi_max = np.cos(inc_min.to('radian'))\n",
    "\n",
    "inComa_sga_table['cosi'] = np.sqrt((inComa_sga_table['BA']**2 - q0**2)/(1 - q0**2))\n",
    "inComa_sga_table['cosi'][np.isnan(inComa_sga_table['cosi'])] = 0 # Objects with b/a < 0.2\n",
    "\n",
    "#i = 0\n",
    "\n",
    "# for sga_id in np.unique(inComa_sga_table['SGA_ID']):\n",
    "for sga_id in sga_ids_vel_cuts:\n",
    "    galaxy_list = inComa_sga_table[inComa_sga_table['SGA_ID'] == sga_id]\n",
    "    \n",
    "    is_sga_galaxy = (galaxy_list['TARGETID'] > 30000000000000000) & (galaxy_list['TARGETID'] < 40000000000000000)\n",
    "    sga_galaxy = galaxy_list[is_sga_galaxy]\n",
    "    tf_list = galaxy_list[~is_sga_galaxy]\n",
    "    \n",
    "    if np.sum(is_sga_galaxy) > 1:\n",
    "        sga_galaxy = sga_galaxy[0]\n",
    "    \n",
    "    targetid = int(sga_galaxy['TARGETID'])\n",
    "    \n",
    "    center = SkyCoord(sga_galaxy['FIBER_RA'], sga_galaxy['FIBER_DEC'], unit='deg')\n",
    "    offcenter = SkyCoord(tf_list['FIBER_RA'], tf_list['FIBER_DEC'], unit='deg')\n",
    "    sep2d = offcenter.separation(center)\n",
    "    \n",
    "    morphtype = str(sga_galaxy['MORPHTYPE'])\n",
    "    \n",
    "    cosi = float(sga_galaxy['cosi'])\n",
    "    \n",
    "    r26 = 0.5 * float(sga_galaxy['D26']) * u.arcmin\n",
    "    sep_r26 = sep2d.to('arcmin') / r26\n",
    "\n",
    "    # Cut any suspected ellipticals\n",
    "    if morphtype.startswith('E') or morphtype.startswith('S0') or morphtype.startswith('I'):\n",
    "        continue\n",
    "               \n",
    "    # Inclination cut\n",
    "    if cosi > cosi_max:\n",
    "        continue\n",
    "        \n",
    "    #i += 1\n",
    "    #print(i, sga_id, cosi)\n",
    "    \n",
    "    zc, zc_err = float(sga_galaxy['Z']), float(sga_galaxy['ZERR'])\n",
    "    zt, zt_err = tf_list['Z'], tf_list['ZERR']\n",
    "    \n",
    "    dz = np.abs(zt - zc)\n",
    "    dz_err = np.sqrt(zc_err**2 + zt_err**2)\n",
    "    \n",
    "    dv = 3e5 * dz\n",
    "    dv_err = 3e5 * dz_err\n",
    "    \n",
    "    good_vel = dv < 5000\n",
    "    \n",
    "    if np.sum(good_vel) > 0:\n",
    "    \n",
    "        sep_r26 = np.insert(sep_r26[good_vel], 0, 0.)\n",
    "        dv = np.insert(dv[good_vel], 0, 0.)\n",
    "        dv_err = np.insert(dv_err[good_vel], 0, 3e5*zc_err)\n",
    "\n",
    "        # Extract the 0.33xR26 points.\n",
    "        is_033_r26 = (sep_r26 > 0.3) & (sep_r26 < 0.4)\n",
    "        \n",
    "        if np.sum(is_033_r26) > 0:\n",
    "            v033 = np.mean(dv[is_033_r26]) / np.sqrt(1 - cosi**2)\n",
    "            dv033 = np.sqrt(np.sum(dv_err[is_033_r26]**2)) / np.sqrt(1 - cosi**2)\n",
    "            z.append(zc)\n",
    "            rmag_clean.append(float(sga_galaxy['R_MAG_SB26']))\n",
    "            drmag_clean.append(float(sga_galaxy['R_MAG_SB26_ERR']))\n",
    "            vmax_clean.append(v033)\n",
    "            dvmax_clean.append(dv033)\n",
    "            sga_ids_clean.append(sga_id)\n",
    "    \n",
    "#inComa_sga_table[['SGA_ID', 'BA', 'cosi']].show_in_notebook()\n",
    "print(len(rmag_clean))"
   ]
  },
  {
   "cell_type": "code",
   "execution_count": 12,
   "id": "40e04c63-c622-4216-b190-d5ca44592ce6",
   "metadata": {},
   "outputs": [
    {
     "data": {
      "text/plain": [
       "56"
      ]
     },
     "execution_count": 12,
     "metadata": {},
     "output_type": "execute_result"
    }
   ],
   "source": [
    "len(sga_ids_clean)"
   ]
  },
  {
   "cell_type": "markdown",
   "id": "4757c9fa-a050-4b82-89f1-ebdee9051edb",
   "metadata": {},
   "source": [
    "## Inspecting rotational velocities and corresponding uncertainties"
   ]
  },
  {
   "cell_type": "code",
   "execution_count": 13,
   "id": "5895ad30-0b78-495d-b469-42c67f7201fe",
   "metadata": {},
   "outputs": [
    {
     "data": {
      "image/png": "[encoded data removed]",
      "text/plain": [
       "<Figure size 432x288 with 1 Axes>"
      ]
     },
     "metadata": {
      "needs_background": "light"
     },
     "output_type": "display_data"
    }
   ],
   "source": [
    "plt.hist(vmax_clean)\n",
    "plt.xlabel(r'$v_\\mathrm{max}$ [km/s]')\n",
    "plt.ylabel('Counts')\n",
    "plt.title('Rotational velocities')\n",
    "plt.show()"
   ]
  },
  {
   "cell_type": "code",
   "execution_count": 14,
   "id": "a4746acc-f529-4381-b9c6-27639bc07028",
   "metadata": {},
   "outputs": [
    {
     "data": {
      "image/png": "[encoded data removed]",
      "text/plain": [
       "<Figure size 432x288 with 1 Axes>"
      ]
     },
     "metadata": {
      "needs_background": "light"
     },
     "output_type": "display_data"
    }
   ],
   "source": [
    "plt.hist(dvmax_clean)\n",
    "plt.xlabel(r'$dv_\\mathrm{max}$ [km/s]')\n",
    "plt.ylabel('Counts')\n",
    "plt.title('Uncertainty in rotational velocities')\n",
    "plt.show()"
   ]
  },
  {
   "cell_type": "code",
   "execution_count": 18,
   "id": "b4b8e485-9b29-4103-a85d-96431b2a30a3",
   "metadata": {},
   "outputs": [
    {
     "data": {
      "image/png": "[encoded data removed]",
      "text/plain": [
       "<Figure size 432x288 with 1 Axes>"
      ]
     },
     "metadata": {
      "needs_background": "light"
     },
     "output_type": "display_data"
    }
   ],
   "source": [
    "plt.hist(z)\n",
    "plt.xlabel(r'$z_\\mathrm{obs}$')\n",
    "plt.ylabel('Counts')\n",
    "plt.title('Redshifts: Coma Cluster')\n",
    "# plt.show()\n",
    "plt.savefig('z_obs_hist_Coma.png', dpi=120, transparent=True)"
   ]
  },
  {
   "cell_type": "code",
   "execution_count": 15,
   "id": "a4fe4507-55d5-4ada-a128-175c2bbb32ae",
   "metadata": {},
   "outputs": [
    {
     "name": "stdout",
     "output_type": "stream",
     "text": [
      "191275\n",
      "1124033\n",
      "1367749\n"
     ]
    }
   ],
   "source": [
    "rmag_clean_new = []\n",
    "drmag_clean_new = []\n",
    "vmax_clean_new = []\n",
    "dvmax_clean_new = []\n",
    "sga_ids_clean_new = []\n",
    "\n",
    "# Remove indices with large uncertainties in log(vmax)\n",
    "# due to having small uncertainties in vmax\n",
    "for i in range(len(sga_ids_clean)):\n",
    "    if i == 7 or i== 40 or i== 53:\n",
    "        print(sga_ids_clean[i])\n",
    "        continue\n",
    "    rmag_clean_new.append(rmag_clean[i])\n",
    "    drmag_clean_new.append(drmag_clean[i])\n",
    "    vmax_clean_new.append(vmax_clean[i])\n",
    "    dvmax_clean_new.append(dvmax_clean[i])\n",
    "    sga_ids_clean_new.append(sga_ids_clean[i])"
   ]
  },
  {
   "cell_type": "code",
   "execution_count": 16,
   "id": "725afe22-2ca0-4fca-a927-3355492817cd",
   "metadata": {},
   "outputs": [
    {
     "data": {
      "text/plain": [
       "53"
      ]
     },
     "execution_count": 16,
     "metadata": {},
     "output_type": "execute_result"
    }
   ],
   "source": [
    "len(rmag_clean_new)"
   ]
  },
  {
   "cell_type": "markdown",
   "id": "1e9a7301-90cc-440e-9b6c-dec4606af5a8",
   "metadata": {},
   "source": [
    "## Fitting using `scipy.optimize.minimize`\n",
    "\n",
    "Segev's code"
   ]
  },
  {
   "cell_type": "code",
   "execution_count": 51,
   "id": "65c41595-218e-4771-9740-ef5d8e47894b",
   "metadata": {},
   "outputs": [],
   "source": [
    "def l1norm(pars, x, y, dy):\n",
    "    '''\n",
    "    Linear fit that uses the l1-norm (robust against outliers).\n",
    "    '''\n",
    "    a, b = pars\n",
    "    return np.sum(np.abs((y - a - b*x)/dy))\n",
    "\n",
    "def l1norm_noerror(pars, x, y):\n",
    "    '''\n",
    "    Linear fit that uses the l1-norm without normalizing by measurement uncertainties.\n",
    "    '''\n",
    "    a, b = pars\n",
    "    return np.sum(np.abs(y - a - b*x))\n",
    "\n",
    "def l2norm(pars, x, y, dy):\n",
    "    '''\n",
    "    Linear fit that uses the l2-norm\n",
    "    '''\n",
    "    a, b = pars\n",
    "    return np.sum((y - a - b*x)**2/dy**2)\n",
    "\n",
    "def fit_tfr(r, logv, dlogv):\n",
    "    fmin = 1e99\n",
    "    a, b = 6, -0.25\n",
    "    # a, b = 28, -5\n",
    "    hess_inv = np.ones((2,2))\n",
    "    \n",
    "    succ_res = None\n",
    "    \n",
    "    # Try a large number of random seeds to ensure a decent fit.\n",
    "    for i in range(1000):\n",
    "        _a, _b = np.random.uniform(0,10), np.random.uniform(-1,0)\n",
    "        \n",
    "        res = minimize(l1norm_noerror, \n",
    "                       [_a, _b], \n",
    "                       # args=(logv, r),# dlogv),\n",
    "                       args=(r, logv),\n",
    "                       method='L-BFGS-B', \n",
    "                       bounds=[[0,10], [-1,0]])\n",
    "        \n",
    "        if res.fun < fmin and res.success:\n",
    "            # print('Successful fit')\n",
    "            succ_res = res.copy()\n",
    "            fmin = res.fun\n",
    "            a, b = res.x\n",
    "            hess_inv = res.hess_inv\n",
    "    \n",
    "    if succ_res is None:\n",
    "        print('No successful fits')\n",
    "    # else:\n",
    "    #     print(succ_res)\n",
    "    \n",
    "    return a, b, hess_inv"
   ]
  },
  {
   "cell_type": "code",
   "execution_count": 21,
   "id": "794cc37f-56cf-45ff-a888-73652f485a67",
   "metadata": {},
   "outputs": [
    {
     "name": "stdout",
     "output_type": "stream",
     "text": [
      "{'fun': 5.295405135540907, 'jac': array([ 0.99921538, 14.96420411]), 'nfev': 489, 'njev': 163, 'nit': 24, 'status': 0, 'message': 'CONVERGENCE: REL_REDUCTION_OF_F_<=_FACTR*EPSMCH', 'x': array([ 4.26920573, -0.14654118]), 'success': True, 'hess_inv': <2x2 LbfgsInvHessProduct with dtype=float64>}\n",
      "Fitted params: a=4.269205728499176, b=-0.1465411836714649\n",
      "Slope=-6.824020217019197, y-int=29.133146201892547\n"
     ]
    }
   ],
   "source": [
    "## Fit straight line to data\n",
    "\n",
    "rmag_clean = np.asarray(rmag_clean_new)\n",
    "drmag_clean = np.asarray(drmag_clean_new)\n",
    "vmax_clean = np.asarray(vmax_clean_new)\n",
    "dvmax_clean = np.asarray(dvmax_clean_new)\n",
    "\n",
    "isrmeas_clean = rmag_clean > 0\n",
    "\n",
    "log10vmax_clean = np.log10(vmax_clean)\n",
    "dlog10vmax_clean = 0.434 * dvmax_clean / vmax_clean \n",
    "\n",
    "a, b, hess_inv = fit_tfr(rmag_clean[isrmeas_clean], \n",
    "                  log10vmax_clean[isrmeas_clean], \n",
    "                  dlog10vmax_clean[isrmeas_clean])\n",
    "\n",
    "print('Fitted params: a={0}, b={1}'.format(a, b))\n",
    "print('Slope={0}, y-int={1}'.format(1/b, -a/b))"
   ]
  },
  {
   "cell_type": "code",
   "execution_count": 36,
   "id": "16282f30-d351-416b-95a6-06766c885265",
   "metadata": {},
   "outputs": [
    {
     "data": {
      "image/png": "[encoded data removed]",
      "text/plain": [
       "<Figure size 360x432 with 1 Axes>"
      ]
     },
     "metadata": {
      "needs_background": "light"
     },
     "output_type": "display_data"
    }
   ],
   "source": [
    "fig, ax = plt.subplots(1,1, figsize=(5,6), tight_layout=True)\n",
    "\n",
    "\n",
    "\n",
    "ax.errorbar(log10vmax_clean[isrmeas_clean], \n",
    "            rmag_clean[isrmeas_clean],\n",
    "            xerr = dlog10vmax_clean[isrmeas_clean],\n",
    "            yerr = drmag_clean[isrmeas_clean],\n",
    "            fmt='ro', \n",
    "            alpha=0.7,\n",
    "            label='Cleaned data, $\\cos{(i)}$-corrected')\n",
    "\n",
    "\n",
    "## Plot log(vmax) as a function of m\n",
    "################################################################################\n",
    "# r = np.arange(12.5,18.6,0.1)\n",
    "# ax.plot(r, a + b*r, 'r--', alpha=0.8)\n",
    "\n",
    "# ax.set(xlabel='$m_r$(26)',\n",
    "#        xlim=(18.5, 12.5),\n",
    "#        ylabel=r'$\\log{(v_\\mathrm{max} / \\mathrm{km~s}^{-1})}$',\n",
    "#        ylim=(-0.5,3),\n",
    "#        title=r'Rotational velocity at $0.33R_{26}$')\n",
    "################################################################################\n",
    "\n",
    "\n",
    "## Plot m as a function of log(vmax)\n",
    "################################################################################\n",
    "logv = np.arange(-0.5, 3 ,0.1)\n",
    "ax.plot(logv, 1/b * (logv - a), 'r--', alpha=0.8)\n",
    "\n",
    "ax.set(ylabel='$m_r$(26)',\n",
    "       ylim=(18.5, 12.5),\n",
    "       xlabel=r'$\\log{(v_\\mathrm{max} / \\mathrm{km~s}^{-1})}$',\n",
    "       xlim=(0.5,3),\n",
    "       title=r'Rotational velocity at $0.33R_{26}$')\n",
    "ax.grid(ls=':')\n",
    "################################################################################\n",
    "\n",
    "# ax.legend(loc='lower right', fontsize=10);\n",
    "\n",
    "# fig.suptitle(r'Max velocity at $0.33\\times R_{26}$', y=1.05)\n",
    "# fig.subplots_adjust(top=0.8)\n",
    "fig.savefig('tf_coma_04_06_2022.png',transparent = True, dpi=120)\n",
    "\n",
    "# print(np.sum(isrmeas))"
   ]
  },
  {
   "cell_type": "markdown",
   "id": "cbb04565-145d-49b3-b2b4-c0310d26c8f6",
   "metadata": {},
   "source": [
    "### Iteratively fit and remove objects further than 3$\\sigma$"
   ]
  },
  {
   "cell_type": "code",
   "execution_count": 39,
   "id": "20a71ce6-8d23-4c85-a992-26f9390d376c",
   "metadata": {},
   "outputs": [],
   "source": [
    "def fit_3sigma(x,y,dy):\n",
    "    '''\n",
    "    Iterative linear fit that removes points outside 3sigma of the fit until \n",
    "    convergence (no more points removed).\n",
    "    '''\n",
    "    \n",
    "    # Number of points to fit\n",
    "    N = len(x)\n",
    "    \n",
    "    # Initialize variable to store the number of points fit in the last iteration\n",
    "    N_last = np.inf\n",
    "    \n",
    "    while (N < N_last) and (N > 1):\n",
    "        \n",
    "        # Update N_last\n",
    "        N_last = N\n",
    "        \n",
    "        # Fit\n",
    "        a, b, hess_inv = fit_tfr(x, y, dy)\n",
    "        \n",
    "        ########################################################################\n",
    "        # Remove all points that are outside 3-sigma of the fit\n",
    "        #-----------------------------------------------------------------------\n",
    "        remove_points = []\n",
    "        \n",
    "        for i in range(N):\n",
    "            ####################################################################\n",
    "            # Calculate expected value at this point\n",
    "            #-------------------------------------------------------------------\n",
    "            y_fit = a + b*x[i]\n",
    "            ####################################################################\n",
    "            \n",
    "            \n",
    "            ####################################################################\n",
    "            # Calculate sigma at this point\n",
    "            #-------------------------------------------------------------------\n",
    "            random_sample = np.random.multivariate_normal(mean=(a,b), \n",
    "                                                          cov=hess_inv.matmat(np.eye(2)), \n",
    "                                                          size=1000)\n",
    "            \n",
    "            y_random = random_sample[:,0] + random_sample[:,1]*x[i]\n",
    "            \n",
    "            std_dev = np.std(y_random)\n",
    "            ####################################################################\n",
    "            \n",
    "            \n",
    "            if np.abs(y_fit - y[i]) > 3*std_dev:\n",
    "                remove_points.append(i)\n",
    "        ########################################################################\n",
    "        \n",
    "        \n",
    "        ########################################################################\n",
    "        # Update points if needed\n",
    "        #-----------------------------------------------------------------------\n",
    "        if len(remove_points) > 0:\n",
    "            x = np.delete(x, remove_points)\n",
    "            y = np.delete(y, remove_points)\n",
    "            dy = np.delete(dy, remove_points)\n",
    "            \n",
    "            N = len(x)\n",
    "        ########################################################################\n",
    "    \n",
    "    return a, b, hess_inv"
   ]
  },
  {
   "cell_type": "code",
   "execution_count": 43,
   "id": "3a3e8431-1d7d-4d5a-97cc-199944d7da01",
   "metadata": {},
   "outputs": [
    {
     "name": "stdout",
     "output_type": "stream",
     "text": [
      "{'fun': 5.295405098514676, 'jac': array([ 0.99039586, 14.95538467]), 'nfev': 411, 'njev': 137, 'nit': 24, 'status': 0, 'message': 'CONVERGENCE: REL_REDUCTION_OF_F_<=_FACTR*EPSMCH', 'x': array([ 4.26920743, -0.1465413 ]), 'success': True, 'hess_inv': <2x2 LbfgsInvHessProduct with dtype=float64>}\n",
      "y-intercept =  4.269207 +- 4.1320\n",
      "slope  = -0.146541 +- 0.5820\n",
      "Slope=  -6.8240, y-int=29.1331\n"
     ]
    }
   ],
   "source": [
    "rmag_clean = np.asarray(rmag_clean_new)\n",
    "drmag_clean = np.asarray(drmag_clean_new)\n",
    "vmax_clean = np.asarray(vmax_clean_new)\n",
    "dvmax_clean = np.asarray(dvmax_clean_new)\n",
    "\n",
    "isrmeas_clean = rmag_clean > 0\n",
    "\n",
    "log10vmax_clean = np.log10(vmax_clean)\n",
    "dlog10vmax_clean = 0.434 * dvmax_clean / vmax_clean \n",
    "\n",
    "a, b, hess_inv = fit_3sigma(rmag_clean[isrmeas_clean], \n",
    "                            log10vmax_clean[isrmeas_clean], \n",
    "                            dlog10vmax_clean[isrmeas_clean])\n",
    "\n",
    "uncertainty = np.sqrt(np.diag(hess_inv.todense()))\n",
    "labels = ['y-intercept', 'slope']\n",
    "params = [a, b]\n",
    "for i in range(2):\n",
    "    print('{:<6s} = {:9.6f} +- {:6.4f}'.format(labels[i], params[i], uncertainty[i]))\n",
    "\n",
    "print('Slope={:9.4f}, y-int={:6.4f}'.format(1/b, -a/b))"
   ]
  },
  {
   "cell_type": "code",
   "execution_count": 46,
   "id": "76471dc8-6959-49d6-a530-35609af21ff3",
   "metadata": {},
   "outputs": [
    {
     "data": {
      "image/png": "[encoded data removed]",
      "text/plain": [
       "<Figure size 360x432 with 1 Axes>"
      ]
     },
     "metadata": {
      "needs_background": "light"
     },
     "output_type": "display_data"
    }
   ],
   "source": [
    "fig, ax = plt.subplots(1,1, figsize=(5,6), tight_layout=True)\n",
    "\n",
    "\n",
    "ax.errorbar(log10vmax_clean[isrmeas_clean], \n",
    "            rmag_clean[isrmeas_clean], \n",
    "            xerr=dlog10vmax_clean[isrmeas_clean], \n",
    "            yerr = drmag_clean[isrmeas_clean],\n",
    "            fmt='ro', \n",
    "            alpha=0.7,\n",
    "            label='Coma data, $\\cos{(i)}$-corrected')\n",
    "\n",
    "logv = np.arange(0.5, 3 ,0.1)\n",
    "ax.plot(logv, 1/b * (logv - a), 'r--', alpha=0.8)\n",
    "################################################################################\n",
    "\n",
    "ax.set(ylabel='$m_r$(26)',\n",
    "       ylim=(18.5, 12.5),\n",
    "       xlabel=r'$\\log{(v_\\mathrm{max} / \\mathrm{km~s}^{-1})}$',\n",
    "       xlim=(0.5,3),\n",
    "       title=r'Rotational velocity at $0.33R_{26}$')\n",
    "ax.grid(ls=':')\n",
    "# ax.legend(loc='lower right', fontsize=10);\n",
    "\n",
    "# fig.suptitle(r'Max velocity at $0.33\\times R_{26}$', y=1.05)\n",
    "# fig.subplots_adjust(top=0.8)\n",
    "fig.savefig('tf_coma_cleaned_m_vs_logvmax_04_06_2022.png', dpi=120, transparent=True)\n",
    "\n",
    "# print(np.sum(isrmeas))"
   ]
  },
  {
   "cell_type": "markdown",
   "id": "2be6fc68-51d3-4bbd-822b-1aba9a3c0c92",
   "metadata": {},
   "source": [
    "### Find Uncertainties in slope\n",
    "Sample points assuming Gaussian uncertainties, find standard deviation of slope"
   ]
  },
  {
   "cell_type": "code",
   "execution_count": 65,
   "id": "c46f89a1-56e0-41e8-aa05-0aebb79cbe25",
   "metadata": {},
   "outputs": [],
   "source": [
    "slopes = []\n",
    "for i in range(500):\n",
    "    # fig, ax = plt.subplots(1, 1)\n",
    "    _logv = np.random.normal(log10vmax_clean[isrmeas_clean], dlog10vmax_clean[isrmeas_clean])\n",
    "    _m = np.random.normal(rmag_clean[isrmeas_clean], drmag_clean[isrmeas_clean])\n",
    "    # ax.plot(_m, _logv, 'o')\n",
    "    a, b, hess_inv = fit_tfr(_m, \n",
    "                             _logv, \n",
    "                             dlog10vmax_clean[isrmeas_clean])\n",
    "    # print(a, b)\n",
    "    slopes.append(1/b)"
   ]
  },
  {
   "cell_type": "code",
   "execution_count": 69,
   "id": "774e8f8f-9ca5-4f09-a180-c8df0c725c75",
   "metadata": {},
   "outputs": [
    {
     "data": {
      "text/plain": [
       "0.86871581818202"
      ]
     },
     "execution_count": 69,
     "metadata": {},
     "output_type": "execute_result"
    }
   ],
   "source": [
    "np.std(slopes)"
   ]
  },
  {
   "cell_type": "markdown",
   "id": "d9894080-d873-4b56-b089-0bbf67a41668",
   "metadata": {},
   "source": [
    "### Make pretty plot of just cleaned data with best fit"
   ]
  },
  {
   "cell_type": "code",
   "execution_count": null,
   "id": "a0bfb2df-c839-4db3-9478-3940df05f8db",
   "metadata": {},
   "outputs": [],
   "source": [
    "fig, ax = plt.subplots(1,1, figsize=(4,6), tight_layout=True)\n",
    "\n",
    "rmag_clean = np.asarray(rmag_clean_new)\n",
    "vmax_clean = np.asarray(vmax_clean_new)\n",
    "dvmax_clean = np.asarray(dvmax_clean_new)\n",
    "\n",
    "isrmeas_clean = rmag_clean > 0\n",
    "\n",
    "log10vmax_clean = np.log10(vmax_clean)\n",
    "dlog10vmax_clean = 0.434 * dvmax_clean / vmax_clean\n",
    "\n",
    "r = np.arange(12.5,18.6,0.1)\n",
    "v = a + b*r\n",
    "\n",
    "################################################################################\n",
    "# Compute and plot the uncertainty range around the best fit\n",
    "#-------------------------------------------------------------------------------\n",
    "hessian = ndt.Hessian(l1norm)\n",
    "hess = hessian((a,b), \n",
    "               rmag_clean[isrmeas_clean], \n",
    "               log10vmax_clean[isrmeas_clean], \n",
    "               dlog10vmax_clean[isrmeas_clean])\n",
    "\n",
    "N_samples = 1000\n",
    "\n",
    "random_samples = np.random.multivariate_normal(mean=(a,b), \n",
    "                                               cov=np.linalg.inv(np.abs(hess)), #hess_inv.matmat(np.eye(2)), \n",
    "                                               size=N_samples)\n",
    "\n",
    "y_samples = np.zeros([1000, len(r)])\n",
    "for i in range(len(r)):\n",
    "    y_samples[:,i] = random_samples[:,0] + random_samples[:,1]*r[i]\n",
    "\n",
    "std_dev = np.std(y_samples, axis=0)\n",
    "\n",
    "ax.fill_betweenx(r, v-std_dev, v+std_dev, facecolor='lightgray')\n",
    "################################################################################\n",
    "\n",
    "ax.plot(v, r, 'k--', alpha=0.8)\n",
    "\n",
    "ax.errorbar(log10vmax_clean[isrmeas_clean], \n",
    "            rmag_clean[isrmeas_clean], \n",
    "            xerr=dlog10vmax_clean[isrmeas_clean], \n",
    "            fmt='ro', \n",
    "            alpha=0.7)\n",
    "\n",
    "ax.set(ylabel='$m_r$',\n",
    "       ylim=(18.5, 12.5),\n",
    "       xlabel=r'$\\log{(v_\\mathrm{max} / \\mathrm{km~s}^{-1})}$',\n",
    "       xlim=(1,3),\n",
    "       title='Rotational velocity at $0.33R_{26}$ \\n for the Coma cluster');\n",
    "\n",
    "# plt.savefig('tf_coma_cleaned_m_vs_vmax.png', dpi=120);"
   ]
  },
  {
   "cell_type": "code",
   "execution_count": null,
   "id": "3530c653-dc81-439c-a598-5f38ce1e4773",
   "metadata": {},
   "outputs": [],
   "source": []
  }
 ],
 "metadata": {
  "kernelspec": {
   "display_name": "DESI master",
   "language": "python",
   "name": "desi-master"
  },
  "language_info": {
   "codemirror_mode": {
    "name": "ipython",
    "version": 3
   },
   "file_extension": ".py",
   "mimetype": "text/x-python",
   "name": "python",
   "nbconvert_exporter": "python",
   "pygments_lexer": "ipython3",
   "version": "3.9.7"
  }
 },
 "nbformat": 4,
 "nbformat_minor": 5
}
