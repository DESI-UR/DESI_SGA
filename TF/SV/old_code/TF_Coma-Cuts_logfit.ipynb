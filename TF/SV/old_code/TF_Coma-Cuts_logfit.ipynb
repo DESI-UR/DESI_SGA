{
 "cells": [
  {
   "cell_type": "markdown",
   "id": "ead385a1-f2d4-44ec-afd0-57871d0e2cb2",
   "metadata": {},
   "source": [
    "# Tully-Fisher Relation of galaxies in the Coma Cluster\n",
    "\n",
    "Using the observations made as part of the Peculiar Velocity Survey, create the Tully-Fisher relation for those galaxies in the Coma Cluster."
   ]
  },
  {
   "cell_type": "code",
   "execution_count": 3,
   "id": "0cf37865-b277-4944-a29f-10e7584487e1",
   "metadata": {},
   "outputs": [],
   "source": [
    "import os\n",
    "\n",
    "#from astropy.io import fits\n",
    "from astropy.table import Table\n",
    "from astropy.coordinates import SkyCoord, match_coordinates_sky\n",
    "from astropy import units as u\n",
    "#from astropy.wcs import WCS\n",
    "#from astropy.visualization.wcsaxes import SphericalCircle\n",
    "\n",
    "#import psycopg2\n",
    "\n",
    "import numpy as np\n",
    "\n",
    "# try:\n",
    "#     import numdifftools as ndt\n",
    "# except ModuleNotFoundError as e:\n",
    "#     ! pip install --user numdifftools\n",
    "#     import numdifftools as ndt\n",
    "    \n",
    "from scipy.optimize import minimize, curve_fit\n",
    "\n",
    "import matplotlib as mpl\n",
    "import matplotlib.pyplot as plt"
   ]
  },
  {
   "cell_type": "code",
   "execution_count": 4,
   "id": "6a3be784-4baf-4c63-b47b-6ea97bb1f64a",
   "metadata": {},
   "outputs": [],
   "source": [
    "mpl.rc('font', size=12)\n",
    "#mpl.rc('axes', titlesize='small')\n",
    "mpl.rc('figure', max_open_warning=0)\n",
    "\n",
    "plt.rcParams['font.family'] = 'serif'\n",
    "plt.rcParams['font.serif'] = ['Times New Roman'] + plt.rcParams['font.serif']"
   ]
  },
  {
   "cell_type": "code",
   "execution_count": 5,
   "id": "a7565ae1-09d0-4018-8ceb-ba8ab81128c4",
   "metadata": {},
   "outputs": [],
   "source": [
    "h = 1\n",
    "H0 = 100*h\n",
    "\n",
    "c = 3e5\n",
    "\n",
    "q0 = 0.2"
   ]
  },
  {
   "cell_type": "markdown",
   "id": "1678e508-b7cd-467d-a41e-5036e5c58863",
   "metadata": {},
   "source": [
    "## Read in Coma cluster targets\n",
    "\n",
    "Generated in the `PV_coma_targets` notebook"
   ]
  },
  {
   "cell_type": "code",
   "execution_count": 6,
   "id": "688e9cc6-93a4-42ad-8159-a720e27328a2",
   "metadata": {},
   "outputs": [],
   "source": [
    "bad_sga_ids = [30149, 474614, 545858, 653059, 811359, 900049, 972260, 1393079]"
   ]
  },
  {
   "cell_type": "code",
   "execution_count": 7,
   "id": "f0e47a36-d443-4846-abe4-e89b0af7a50b",
   "metadata": {},
   "outputs": [],
   "source": [
    "inComa_sga_table = Table.read('cache/tf_targets_coma_sga.fits', format='fits')"
   ]
  },
  {
   "cell_type": "markdown",
   "id": "3531792b-0154-4226-9b6c-bc51afa74854",
   "metadata": {},
   "source": [
    "## Cut `SGA_IDs` using results from visual inspection"
   ]
  },
  {
   "cell_type": "code",
   "execution_count": 8,
   "id": "52c6d621-e290-41a2-b4ab-94ec7b82aed3",
   "metadata": {},
   "outputs": [
    {
     "data": {
      "text/plain": [
       "113"
      ]
     },
     "execution_count": 8,
     "metadata": {},
     "output_type": "execute_result"
    }
   ],
   "source": [
    "len(np.unique(inComa_sga_table['SGA_ID']))"
   ]
  },
  {
   "cell_type": "code",
   "execution_count": 9,
   "id": "190db371-5edb-47bd-a643-ca2150d5518d",
   "metadata": {},
   "outputs": [],
   "source": [
    "for bad_sga_id in bad_sga_ids:\n",
    "    indices = np.where(inComa_sga_table['SGA_ID'] == bad_sga_id)\n",
    "    inComa_sga_table.remove_rows(indices)"
   ]
  },
  {
   "cell_type": "code",
   "execution_count": 10,
   "id": "e93dbc5a-abcd-4354-9d7b-445b713f877f",
   "metadata": {},
   "outputs": [
    {
     "data": {
      "text/plain": [
       "105"
      ]
     },
     "execution_count": 10,
     "metadata": {},
     "output_type": "execute_result"
    }
   ],
   "source": [
    "len(np.unique(inComa_sga_table['SGA_ID']))"
   ]
  },
  {
   "cell_type": "code",
   "execution_count": 14,
   "id": "021091b1-21d1-4153-9ac1-07e8b2d64e03",
   "metadata": {},
   "outputs": [
    {
     "data": {
      "text/html": [
       "<div><i>Table length=1</i>\n",
       "<table id=\"table46914535051120\" class=\"table-striped table-bordered table-condensed\">\n",
       "<thead><tr><th>PVTYPE</th><th>SGA_ID</th><th>TARGETID</th><th>FIBER_RA</th><th>FIBER_DEC</th><th>FIBERSTATUS</th><th>TILEID</th><th>TARGET_RA</th><th>TARGET_DEC</th><th>Z</th><th>ZERR</th><th>SPECTYPE</th><th>DELTACHI2</th><th>ZWARN</th><th>SGA_GALAXY</th><th>GALAXY</th><th>PGC</th><th>RA_LEDA</th><th>DEC_LEDA</th><th>MORPHTYPE</th><th>PA_LEDA</th><th>D25_LEDA</th><th>BA_LEDA</th><th>Z_LEDA</th><th>SB_D25_LEDA</th><th>MAG_LEDA</th><th>BYHAND</th><th>REF</th><th>GROUP_ID</th><th>GROUP_NAME</th><th>GROUP_MULT</th><th>GROUP_PRIMARY</th><th>GROUP_RA</th><th>GROUP_DEC</th><th>GROUP_DIAMETER</th><th>BRICKNAME</th><th>RA</th><th>DEC</th><th>D26</th><th>D26_REF</th><th>PA</th><th>BA</th><th>RA_MOMENT</th><th>DEC_MOMENT</th><th>SMA_MOMENT</th><th>G_SMA50</th><th>R_SMA50</th><th>Z_SMA50</th><th>SMA_SB22</th><th>SMA_SB22.5</th><th>SMA_SB23</th><th>SMA_SB23.5</th><th>SMA_SB24</th><th>SMA_SB24.5</th><th>SMA_SB25</th><th>SMA_SB25.5</th><th>SMA_SB26</th><th>G_MAG_SB22</th><th>R_MAG_SB22</th><th>Z_MAG_SB22</th><th>G_MAG_SB22.5</th><th>R_MAG_SB22.5</th><th>Z_MAG_SB22.5</th><th>G_MAG_SB23</th><th>R_MAG_SB23</th><th>Z_MAG_SB23</th><th>G_MAG_SB23.5</th><th>R_MAG_SB23.5</th><th>Z_MAG_SB23.5</th><th>G_MAG_SB24</th><th>R_MAG_SB24</th><th>Z_MAG_SB24</th><th>G_MAG_SB24.5</th><th>R_MAG_SB24.5</th><th>Z_MAG_SB24.5</th><th>G_MAG_SB25</th><th>R_MAG_SB25</th><th>Z_MAG_SB25</th><th>G_MAG_SB25.5</th><th>R_MAG_SB25.5</th><th>Z_MAG_SB25.5</th><th>G_MAG_SB26</th><th>R_MAG_SB26</th><th>Z_MAG_SB26</th><th>SMA_SB22_ERR</th><th>SMA_SB22.5_ERR</th><th>SMA_SB23_ERR</th><th>SMA_SB23.5_ERR</th><th>SMA_SB24_ERR</th><th>SMA_SB24.5_ERR</th><th>SMA_SB25_ERR</th><th>SMA_SB25.5_ERR</th><th>SMA_SB26_ERR</th><th>G_MAG_SB22_ERR</th><th>R_MAG_SB22_ERR</th><th>Z_MAG_SB22_ERR</th><th>G_MAG_SB22.5_ERR</th><th>R_MAG_SB22.5_ERR</th><th>Z_MAG_SB22.5_ERR</th><th>G_MAG_SB23_ERR</th><th>R_MAG_SB23_ERR</th><th>Z_MAG_SB23_ERR</th><th>G_MAG_SB23.5_ERR</th><th>R_MAG_SB23.5_ERR</th><th>Z_MAG_SB23.5_ERR</th><th>G_MAG_SB24_ERR</th><th>R_MAG_SB24_ERR</th><th>Z_MAG_SB24_ERR</th><th>G_MAG_SB24.5_ERR</th><th>R_MAG_SB24.5_ERR</th><th>Z_MAG_SB24.5_ERR</th><th>G_MAG_SB25_ERR</th><th>R_MAG_SB25_ERR</th><th>Z_MAG_SB25_ERR</th><th>G_MAG_SB25.5_ERR</th><th>R_MAG_SB25.5_ERR</th><th>Z_MAG_SB25.5_ERR</th><th>G_MAG_SB26_ERR</th><th>R_MAG_SB26_ERR</th><th>Z_MAG_SB26_ERR</th><th>G_COG_PARAMS_MTOT</th><th>G_COG_PARAMS_M0</th><th>G_COG_PARAMS_ALPHA1</th><th>G_COG_PARAMS_ALPHA2</th><th>G_COG_PARAMS_CHI2</th><th>R_COG_PARAMS_MTOT</th><th>R_COG_PARAMS_M0</th><th>R_COG_PARAMS_ALPHA1</th><th>R_COG_PARAMS_ALPHA2</th><th>R_COG_PARAMS_CHI2</th><th>Z_COG_PARAMS_MTOT</th><th>Z_COG_PARAMS_M0</th><th>Z_COG_PARAMS_ALPHA1</th><th>Z_COG_PARAMS_ALPHA2</th><th>Z_COG_PARAMS_CHI2</th><th>ELLIPSEBIT</th></tr></thead>\n",
       "<thead><tr><th>bytes3</th><th>int64</th><th>int64</th><th>float64</th><th>float64</th><th>int64</th><th>int64</th><th>float64</th><th>float64</th><th>float64</th><th>float64</th><th>bytes6</th><th>float64</th><th>int64</th><th>bytes16</th><th>bytes29</th><th>int64</th><th>float64</th><th>float64</th><th>bytes21</th><th>float32</th><th>float32</th><th>float32</th><th>float32</th><th>float32</th><th>float32</th><th>bool</th><th>bytes13</th><th>int64</th><th>bytes35</th><th>int16</th><th>bool</th><th>float64</th><th>float64</th><th>float32</th><th>bytes8</th><th>float64</th><th>float64</th><th>float32</th><th>bytes4</th><th>float32</th><th>float32</th><th>float64</th><th>float64</th><th>float32</th><th>float32</th><th>float32</th><th>float32</th><th>float32</th><th>float32</th><th>float32</th><th>float32</th><th>float32</th><th>float32</th><th>float32</th><th>float32</th><th>float32</th><th>float32</th><th>float32</th><th>float32</th><th>float32</th><th>float32</th><th>float32</th><th>float32</th><th>float32</th><th>float32</th><th>float32</th><th>float32</th><th>float32</th><th>float32</th><th>float32</th><th>float32</th><th>float32</th><th>float32</th><th>float32</th><th>float32</th><th>float32</th><th>float32</th><th>float32</th><th>float32</th><th>float32</th><th>float32</th><th>float32</th><th>float32</th><th>float32</th><th>float32</th><th>float32</th><th>float32</th><th>float32</th><th>float32</th><th>float32</th><th>float32</th><th>float32</th><th>float32</th><th>float32</th><th>float32</th><th>float32</th><th>float32</th><th>float32</th><th>float32</th><th>float32</th><th>float32</th><th>float32</th><th>float32</th><th>float32</th><th>float32</th><th>float32</th><th>float32</th><th>float32</th><th>float32</th><th>float32</th><th>float32</th><th>float32</th><th>float32</th><th>float32</th><th>float32</th><th>float32</th><th>float32</th><th>float32</th><th>float32</th><th>float32</th><th>float32</th><th>float32</th><th>float32</th><th>float32</th><th>float32</th><th>float32</th><th>float32</th><th>float32</th><th>float32</th><th>float32</th><th>float32</th><th>float32</th><th>float32</th><th>float32</th><th>int32</th></tr></thead>\n",
       "<tr><td>TFT</td><td>6443</td><td>39628449261815639</td><td>194.015001968576</td><td>28.4347616870916</td><td>0</td><td>120</td><td>194.014992822247</td><td>28.4347575427582</td><td>0.0228077753473186</td><td>9.49692763345357e-06</td><td>GALAXY</td><td>12502.420789832</td><td>0</td><td>SGA-2020 6443</td><td>2MASXJ12560357+2826049</td><td>3798694</td><td>194.0150415</td><td>28.434759200000002</td><td>E</td><td>0.15</td><td>0.42953643</td><td>0.52966344</td><td>0.022773754</td><td>23.495481</td><td>16.702</td><td>False</td><td>LEDA-20181114</td><td>1749</td><td>2MASXJ12560357+2826049</td><td>1</td><td>True</td><td>194.0150415</td><td>28.434759200000002</td><td>0.42953643</td><td>1940p285</td><td>194.01499282224725</td><td>28.434757542758188</td><td>0.5758262</td><td>SB26</td><td>178.74611</td><td>0.5289391</td><td>194.0149013047641</td><td>28.43482627995438</td><td>11.529113</td><td>3.4933767</td><td>3.4790735</td><td>3.5417385</td><td>6.7043676</td><td>7.8427553</td><td>9.000888</td><td>10.051459</td><td>10.989381</td><td>12.259024</td><td>13.601412</td><td>15.212001</td><td>17.274786</td><td>16.533848</td><td>15.79303</td><td>15.308514</td><td>16.449266</td><td>15.712977</td><td>15.225233</td><td>16.390287</td><td>15.657084</td><td>15.167129</td><td>16.35449</td><td>15.6234045</td><td>15.132558</td><td>16.331707</td><td>15.60235</td><td>15.110845</td><td>16.310932</td><td>15.585337</td><td>15.0910425</td><td>16.299269</td><td>15.57684</td><td>15.080532</td><td>16.28742</td><td>15.564971</td><td>15.069217</td><td>16.278936</td><td>15.554956</td><td>15.059705</td><td>0.095610216</td><td>0.095818155</td><td>0.104093984</td><td>0.11963359</td><td>0.09470798</td><td>0.12928808</td><td>0.14805332</td><td>0.1717031</td><td>0.20933938</td><td>0.03951728</td><td>0.0422584</td><td>0.039743226</td><td>0.037378095</td><td>0.040008463</td><td>0.03761356</td><td>0.035762083</td><td>0.038332522</td><td>0.03601092</td><td>0.03476994</td><td>0.03730794</td><td>0.03504701</td><td>0.034159563</td><td>0.036694754</td><td>0.03445771</td><td>0.033523172</td><td>0.03611823</td><td>0.03383837</td><td>0.0332151</td><td>0.035883322</td><td>0.033557374</td><td>0.032830115</td><td>0.035464935</td><td>0.033186853</td><td>0.032613575</td><td>0.03518043</td><td>0.032935467</td><td>16.266928</td><td>0.21731643</td><td>0.5065887</td><td>3.9090939</td><td>0.0033535652</td><td>15.545364</td><td>0.24144182</td><td>0.394424</td><td>3.7904527</td><td>0.018310012</td><td>15.048262</td><td>0.23982158</td><td>0.43149954</td><td>3.7903078</td><td>0.0072238147</td><td>0</td></tr>\n",
       "</table></div>"
      ],
      "text/plain": [
       "<Table length=1>\n",
       "PVTYPE SGA_ID      TARGETID     ... Z_COG_PARAMS_CHI2 ELLIPSEBIT\n",
       "bytes3 int64        int64       ...      float32        int32   \n",
       "------ ------ ----------------- ... ----------------- ----------\n",
       "   TFT   6443 39628449261815639 ...      0.0072238147          0"
      ]
     },
     "execution_count": 14,
     "metadata": {},
     "output_type": "execute_result"
    }
   ],
   "source": [
    "inComa_sga_table[:1]"
   ]
  },
  {
   "cell_type": "markdown",
   "id": "5810ece7-ce1b-43ca-b865-20e736d0f78f",
   "metadata": {},
   "source": [
    "## Calculate the rotational velocities\n",
    "\n",
    "And store those at $0.33R_{26}$\n",
    "\n",
    "Also, remove those with a velocity > 5000 km/s"
   ]
  },
  {
   "cell_type": "code",
   "execution_count": 15,
   "id": "66da2fa7-c91a-4c6a-9645-6622bb9df907",
   "metadata": {},
   "outputs": [],
   "source": [
    "sga_ids_vel_cuts = []\n",
    "\n",
    "rmag = []\n",
    "drmag = []\n",
    "vmax = []\n",
    "dvmax = []\n",
    "\n",
    "for i, sga_id in enumerate(np.unique(inComa_sga_table['SGA_ID'])):\n",
    "    # if sga_id == 474614:\n",
    "    #     print('skipped')\n",
    "    #     continue\n",
    "    galaxy_list = inComa_sga_table[inComa_sga_table['SGA_ID'] == sga_id]\n",
    "    # print\n",
    "    #print(i+1, sga_id)\n",
    "    \n",
    "    is_sga_galaxy = (galaxy_list['TARGETID'] > 30000000000000000) & (galaxy_list['TARGETID'] < 40000000000000000)\n",
    "    \n",
    "    sga_galaxy = galaxy_list[is_sga_galaxy]\n",
    "    tf_list = galaxy_list[~is_sga_galaxy]\n",
    "    \n",
    "    if np.sum(is_sga_galaxy) > 1:\n",
    "        sga_galaxy = sga_galaxy[0]\n",
    "    \n",
    "    targetid = int(sga_galaxy['TARGETID'])\n",
    "    center = SkyCoord(sga_galaxy['FIBER_RA'], sga_galaxy['FIBER_DEC'], unit='deg')\n",
    "    offcenter = SkyCoord(tf_list['FIBER_RA'], tf_list['FIBER_DEC'], unit='deg')\n",
    "    sep2d = offcenter.separation(center)\n",
    "    r26 = 0.5 * float(sga_galaxy['D26'])*u.arcmin\n",
    "    sep_r26 = sep2d.to('arcmin') / r26\n",
    "    \n",
    "    zc, zc_err = sga_galaxy['Z'], sga_galaxy['ZERR']\n",
    "    zt, zt_err = tf_list['Z'], tf_list['ZERR']\n",
    "    \n",
    "    dz = np.abs(zt - zc)\n",
    "    dz_err = np.sqrt(zc_err**2 + zt_err**2)\n",
    "    \n",
    "    dv = c * dz\n",
    "    dv_err = c * dz_err\n",
    "    \n",
    "    good_vel = dv < 5000\n",
    "    # print(good_vel[0], sga_id)\n",
    "    \n",
    "    if np.sum(good_vel) > 0:\n",
    "        sep_r26 = np.insert(sep_r26[good_vel], 0, 0.)\n",
    "        dv = np.insert(dv[good_vel], 0, 0.)\n",
    "        dv_err = np.insert(dv_err[good_vel], 0, 3e5*zc_err)\n",
    "\n",
    "        # Extract the 0.33xR26 points.\n",
    "        is_033_r26 = (sep_r26 > 0.3) & (sep_r26 < 0.4)\n",
    "        if np.sum(is_033_r26) > 0:\n",
    "            v033 = np.mean(dv[is_033_r26])\n",
    "            dv033 = np.sqrt(np.sum(dv_err[is_033_r26]**2))\n",
    "\n",
    "            rmag.append(float(sga_galaxy['R_MAG_SB26']))\n",
    "            drmag.append(float(sga_galaxy['R_MAG_SB26_ERR']))\n",
    "            vmax.append(v033)\n",
    "            dvmax.append(dv033)\n",
    "            sga_ids_vel_cuts.append(sga_id)\n",
    "    # break\n",
    "#print('mag:', rmag)\n",
    "#print('vel:', vmax)\n",
    "#print('dv:', dvmax)"
   ]
  },
  {
   "cell_type": "code",
   "execution_count": 16,
   "id": "6daea423-59e9-4388-8501-b5e2942b9c99",
   "metadata": {},
   "outputs": [
    {
     "name": "stdout",
     "output_type": "stream",
     "text": [
      "77\n"
     ]
    },
    {
     "data": {
      "image/png": "[encoded data removed]",
      "text/plain": [
       "<Figure size 720x288 with 2 Axes>"
      ]
     },
     "metadata": {
      "needs_background": "light"
     },
     "output_type": "display_data"
    }
   ],
   "source": [
    "rmag = np.asarray(rmag)\n",
    "drmag = np.asarray(drmag)\n",
    "vmax = np.asarray(vmax)\n",
    "dvmax = np.asarray(dvmax)\n",
    "\n",
    "isrmeas = rmag > 0\n",
    "\n",
    "fig, axes = plt.subplots(1, 2, figsize=(10,4), tight_layout=True)\n",
    "\n",
    "ax = axes[0]\n",
    "ax.errorbar(rmag[isrmeas], vmax[isrmeas], yerr=dvmax[isrmeas], fmt='ro')\n",
    "ax.set(xlabel='$m_r$(26)',\n",
    "       xlim=(18.5, 12.5),\n",
    "       ylim=(-50,300),\n",
    "       ylabel='$v_\\mathrm{max}$ [km s$^{-1}$]')\n",
    "\n",
    "ax = axes[1]\n",
    "\n",
    "log10vmax = np.log10(vmax)\n",
    "dlog10vmax = 0.434 * dvmax / vmax \n",
    "\n",
    "ax.errorbar(rmag[isrmeas], log10vmax[isrmeas], xerr = drmag[isrmeas], yerr=dlog10vmax[isrmeas], fmt='ro')\n",
    "ax.set(xlabel='$m_r$(26)',\n",
    "       xlim=(18.5, 12.5),\n",
    "       ylabel=r'$\\log{(v_\\mathrm{max} / \\mathrm{km~s}^{-1})}$',\n",
    "       ylim=(-0.5,3))\n",
    "\n",
    "fig.suptitle(r'Rotational velocity at $0.33R_{26}$', y=1.05)\n",
    "fig.subplots_adjust(top=0.8)\n",
    "\n",
    "print(np.sum(isrmeas))"
   ]
  },
  {
   "cell_type": "code",
   "execution_count": 18,
   "id": "d46dd464-24a5-4e0f-bdfe-0357274a489c",
   "metadata": {},
   "outputs": [
    {
     "data": {
      "text/plain": [
       "81"
      ]
     },
     "execution_count": 18,
     "metadata": {},
     "output_type": "execute_result"
    }
   ],
   "source": [
    "len(sga_ids_vel_cuts)"
   ]
  },
  {
   "cell_type": "markdown",
   "id": "e0039773-5608-42d6-9d3e-7305404efada",
   "metadata": {},
   "source": [
    "## Cuts on inclination angle and morphology"
   ]
  },
  {
   "cell_type": "code",
   "execution_count": 19,
   "id": "6ce147db-3ca9-4d52-a14f-d7708ab2d993",
   "metadata": {},
   "outputs": [
    {
     "name": "stderr",
     "output_type": "stream",
     "text": [
      "/tmp/ipykernel_61608/3195127034.py:11: RuntimeWarning: invalid value encountered in sqrt\n",
      "  inComa_sga_table['cosi'] = np.sqrt((inComa_sga_table['BA']**2 - q0**2)/(1 - q0**2))\n"
     ]
    },
    {
     "name": "stdout",
     "output_type": "stream",
     "text": [
      "56\n"
     ]
    }
   ],
   "source": [
    "sga_ids_clean = []\n",
    "\n",
    "rmag_clean = []\n",
    "drmag_clean = []\n",
    "vmax_clean = []\n",
    "dvmax_clean = []\n",
    "\n",
    "inc_min = 45*u.degree\n",
    "cosi_max = np.cos(inc_min.to('radian'))\n",
    "\n",
    "inComa_sga_table['cosi'] = np.sqrt((inComa_sga_table['BA']**2 - q0**2)/(1 - q0**2))\n",
    "inComa_sga_table['cosi'][np.isnan(inComa_sga_table['cosi'])] = 0 # Objects with b/a < 0.2\n",
    "\n",
    "#i = 0\n",
    "\n",
    "# for sga_id in np.unique(inComa_sga_table['SGA_ID']):\n",
    "for sga_id in sga_ids_vel_cuts:\n",
    "    galaxy_list = inComa_sga_table[inComa_sga_table['SGA_ID'] == sga_id]\n",
    "    \n",
    "    is_sga_galaxy = (galaxy_list['TARGETID'] > 30000000000000000) & (galaxy_list['TARGETID'] < 40000000000000000)\n",
    "    sga_galaxy = galaxy_list[is_sga_galaxy]\n",
    "    tf_list = galaxy_list[~is_sga_galaxy]\n",
    "    \n",
    "    if np.sum(is_sga_galaxy) > 1:\n",
    "        sga_galaxy = sga_galaxy[0]\n",
    "    \n",
    "    targetid = int(sga_galaxy['TARGETID'])\n",
    "    \n",
    "    center = SkyCoord(sga_galaxy['FIBER_RA'], sga_galaxy['FIBER_DEC'], unit='deg')\n",
    "    offcenter = SkyCoord(tf_list['FIBER_RA'], tf_list['FIBER_DEC'], unit='deg')\n",
    "    sep2d = offcenter.separation(center)\n",
    "    \n",
    "    morphtype = str(sga_galaxy['MORPHTYPE'])\n",
    "    \n",
    "    cosi = float(sga_galaxy['cosi'])\n",
    "    \n",
    "    r26 = 0.5 * float(sga_galaxy['D26']) * u.arcmin\n",
    "    sep_r26 = sep2d.to('arcmin') / r26\n",
    "\n",
    "    # Cut any suspected ellipticals\n",
    "    if morphtype.startswith('E') or morphtype.startswith('S0') or morphtype.startswith('I'):\n",
    "        continue\n",
    "               \n",
    "    # Inclination cut\n",
    "    if cosi > cosi_max:\n",
    "        continue\n",
    "        \n",
    "    #i += 1\n",
    "    #print(i, sga_id, cosi)\n",
    "    \n",
    "    zc, zc_err = float(sga_galaxy['Z']), float(sga_galaxy['ZERR'])\n",
    "    zt, zt_err = tf_list['Z'], tf_list['ZERR']\n",
    "    \n",
    "    dz = np.abs(zt - zc)\n",
    "    dz_err = np.sqrt(zc_err**2 + zt_err**2)\n",
    "    \n",
    "    dv = 3e5 * dz\n",
    "    dv_err = 3e5 * dz_err\n",
    "    \n",
    "    good_vel = dv < 5000\n",
    "    \n",
    "    if np.sum(good_vel) > 0:\n",
    "    \n",
    "        sep_r26 = np.insert(sep_r26[good_vel], 0, 0.)\n",
    "        dv = np.insert(dv[good_vel], 0, 0.)\n",
    "        dv_err = np.insert(dv_err[good_vel], 0, 3e5*zc_err)\n",
    "\n",
    "        # Extract the 0.33xR26 points.\n",
    "        is_033_r26 = (sep_r26 > 0.3) & (sep_r26 < 0.4)\n",
    "        \n",
    "        if np.sum(is_033_r26) > 0:\n",
    "            v033 = np.mean(dv[is_033_r26]) / np.sqrt(1 - cosi**2)\n",
    "            dv033 = np.sqrt(np.sum(dv_err[is_033_r26]**2)) / np.sqrt(1 - cosi**2)\n",
    "\n",
    "            rmag_clean.append(float(sga_galaxy['R_MAG_SB26']))\n",
    "            drmag_clean.append(float(sga_galaxy['R_MAG_SB26_ERR']))\n",
    "            vmax_clean.append(v033)\n",
    "            dvmax_clean.append(dv033)\n",
    "            sga_ids_clean.append(sga_id)\n",
    "    \n",
    "#inComa_sga_table[['SGA_ID', 'BA', 'cosi']].show_in_notebook()\n",
    "print(len(rmag_clean))"
   ]
  },
  {
   "cell_type": "code",
   "execution_count": 20,
   "id": "f95f37bd-6523-45b6-880a-d1a508fa21ca",
   "metadata": {},
   "outputs": [
    {
     "data": {
      "text/plain": [
       "81"
      ]
     },
     "execution_count": 20,
     "metadata": {},
     "output_type": "execute_result"
    }
   ],
   "source": [
    "len(sga_ids_vel_cuts)"
   ]
  },
  {
   "cell_type": "markdown",
   "id": "4757c9fa-a050-4b82-89f1-ebdee9051edb",
   "metadata": {},
   "source": [
    "## Inspecting rotational velocities and corresponding uncertainties"
   ]
  },
  {
   "cell_type": "code",
   "execution_count": 13,
   "id": "5895ad30-0b78-495d-b469-42c67f7201fe",
   "metadata": {},
   "outputs": [
    {
     "data": {
      "image/png": "[encoded data removed]",
      "text/plain": [
       "<Figure size 432x288 with 1 Axes>"
      ]
     },
     "metadata": {
      "needs_background": "light"
     },
     "output_type": "display_data"
    }
   ],
   "source": [
    "plt.hist(vmax_clean)\n",
    "plt.xlabel(r'$v_\\mathrm{max}$ [km/s]')\n",
    "plt.ylabel('Counts')\n",
    "plt.title('Rotational velocities')\n",
    "plt.show()"
   ]
  },
  {
   "cell_type": "code",
   "execution_count": 14,
   "id": "a4746acc-f529-4381-b9c6-27639bc07028",
   "metadata": {},
   "outputs": [
    {
     "data": {
      "image/png": "[encoded data removed]",
      "text/plain": [
       "<Figure size 432x288 with 1 Axes>"
      ]
     },
     "metadata": {
      "needs_background": "light"
     },
     "output_type": "display_data"
    }
   ],
   "source": [
    "plt.hist(dvmax_clean)\n",
    "plt.xlabel(r'$dv_\\mathrm{max}$ [km/s]')\n",
    "plt.ylabel('Counts')\n",
    "plt.title('Uncertainty in rotational velocities')\n",
    "plt.show()"
   ]
  },
  {
   "cell_type": "code",
   "execution_count": 21,
   "id": "a4fe4507-55d5-4ada-a128-175c2bbb32ae",
   "metadata": {},
   "outputs": [],
   "source": [
    "rmag_clean_new = []\n",
    "drmag_clean_new = []\n",
    "vmax_clean_new = []\n",
    "dvmax_clean_new = []\n",
    "sga_ids_clean_new = []\n",
    "\n",
    "# Remove points with high uncertainty\n",
    "for i in range(len(sga_ids_clean)):\n",
    "    if i == 7 or i== 40 or i== 53:\n",
    "        continue\n",
    "    rmag_clean_new.append(rmag_clean[i])\n",
    "    drmag_clean_new.append(drmag_clean[i])\n",
    "    vmax_clean_new.append(vmax_clean[i])\n",
    "    dvmax_clean_new.append(dvmax_clean[i])\n",
    "    sga_ids_clean_new.append(sga_ids_clean[i])"
   ]
  },
  {
   "cell_type": "code",
   "execution_count": 22,
   "id": "725afe22-2ca0-4fca-a927-3355492817cd",
   "metadata": {},
   "outputs": [
    {
     "data": {
      "text/plain": [
       "53"
      ]
     },
     "execution_count": 22,
     "metadata": {},
     "output_type": "execute_result"
    }
   ],
   "source": [
    "len(rmag_clean_new)"
   ]
  },
  {
   "cell_type": "markdown",
   "id": "1e9a7301-90cc-440e-9b6c-dec4606af5a8",
   "metadata": {},
   "source": [
    "## Fitting using `scipy.optimize.minimize`\n",
    "\n",
    "Segev's code"
   ]
  },
  {
   "cell_type": "code",
   "execution_count": 23,
   "id": "13366b4b-c266-4dc0-ac75-69d93b49f83b",
   "metadata": {},
   "outputs": [],
   "source": [
    "rmag_clean = np.asarray(rmag_clean_new)\n",
    "drmag_clean = np.asarray(drmag_clean_new)\n",
    "vmax_clean = np.asarray(vmax_clean_new)\n",
    "dvmax_clean = np.asarray(dvmax_clean_new)\n",
    "\n",
    "isrmeas_clean = rmag_clean > 0\n",
    "\n",
    "log10vmax_clean = np.log10(vmax_clean)\n",
    "dlog10vmax_clean = 0.434 * dvmax_clean / vmax_clean \n",
    "\n",
    "# x = rmag_clean[isrmeas_clean]\n",
    "# y = log10vmax_clean[isrmeas_clean]\n",
    "# xerr = drmag_clean[isrmeas_clean]\n",
    "# yerr = dlog10vmax_clean[isrmeas_clean]"
   ]
  },
  {
   "cell_type": "code",
   "execution_count": 53,
   "id": "f0d61dcf-5dff-49c0-a3f9-71a37394721b",
   "metadata": {},
   "outputs": [],
   "source": [
    "# Randomly sample each point assumign uncertainties are Gaussian,\n",
    "# fit a straight line using the l1 norm without weighting by the error\n",
    "# to remain robust against outliers.\n",
    "\n",
    "def l1norm_noerror(pars, x, y):\n",
    "    '''\n",
    "    Linear fit that uses the l1-norm without normalizing by measurement uncertainties.\n",
    "    '''\n",
    "    a, b = pars\n",
    "    return np.sum(np.abs(y - a - b*x))\n",
    "\n",
    "def fit_tfr(r, dr, logv, dlogv):\n",
    "    fmin = 1e99\n",
    "    a, b = 5, -0.15\n",
    "    hess_inv = np.ones((2,2))\n",
    "    succ_res = None\n",
    "    slope = []\n",
    "    yint = []\n",
    "    for i in range(100000):\n",
    "        x_arr = np.random.normal(r, dr)\n",
    "        y_arr = np.random.normal(logv, dlogv)\n",
    "        \n",
    "        res = minimize(l1norm_noerror, \n",
    "                       [a, b], \n",
    "                       args=(x_arr, y_arr),# dlogv),\n",
    "                       method='L-BFGS-B', \n",
    "                       bounds=[[-10,10], [-1., 1.]])\n",
    "        \n",
    "        if res.fun < fmin and res.success:\n",
    "            # print('Successful fit')\n",
    "            succ_res = res.copy()\n",
    "            fmin = res.fun\n",
    "            a, b = res.x\n",
    "            hess_inv = res.hess_inv\n",
    "            slope.append(b)\n",
    "            yint.append(a)\n",
    "            \n",
    "    if succ_res is None:\n",
    "        print('No successful fits')\n",
    "    # else:\n",
    "    #     print(succ_res)\n",
    "    \n",
    "    return yint, slope"
   ]
  },
  {
   "cell_type": "code",
   "execution_count": 54,
   "id": "c60d7c75-1343-4d7e-a995-22d3fb21bf6c",
   "metadata": {},
   "outputs": [],
   "source": [
    "# Log-likelihood\n",
    "def loglike(theta):\n",
    "    a, b, lnf = theta\n",
    "    model = a + b*x\n",
    "    inv_sigma2 = 1.0 / (yerr**2 + model**2 * np.exp(2 * lnf))\n",
    "    \n",
    "    return -0.5 * (np.sum((y-model)**2 * inv_sigma2 - np.log(inv_sigma2)))\n",
    "\n",
    "# Define a negative LL for minimizers.\n",
    "nloglike = lambda theta: -loglike(theta)"
   ]
  },
  {
   "cell_type": "code",
   "execution_count": 55,
   "id": "56a5ae73-5447-4ae1-bac6-a7ac2b5e46ec",
   "metadata": {},
   "outputs": [],
   "source": [
    "a, b = fit_tfr(rmag_clean[isrmeas_clean], drmag_clean[isrmeas_clean], log10vmax_clean[isrmeas_clean], dlog10vmax_clean[isrmeas_clean])"
   ]
  },
  {
   "cell_type": "code",
   "execution_count": 52,
   "id": "424d3331-124d-4783-86da-aa0faa6f158d",
   "metadata": {},
   "outputs": [
    {
     "data": {
      "text/plain": [
       "(-0.13296122032882077, 0.014897949926797542)"
      ]
     },
     "execution_count": 52,
     "metadata": {},
     "output_type": "execute_result"
    }
   ],
   "source": [
    "np.mean(b), np.std(b)"
   ]
  },
  {
   "cell_type": "markdown",
   "id": "f165e03f-da43-4f8a-8a39-0aea71dc5f4b",
   "metadata": {},
   "source": [
    "Obtained values:\n",
    "- -0.14665247619339644, 0.009119988577416036\n",
    "- -0.13296122032882077, 0.014897949926797542"
   ]
  },
  {
   "cell_type": "code",
   "execution_count": 56,
   "id": "838990be-18dc-4039-8a4c-5ab8e298b490",
   "metadata": {},
   "outputs": [
    {
     "data": {
      "text/plain": [
       "(array([4., 0., 3., 0., 0., 0., 0., 0., 0., 3.]),\n",
       " array([4.07705473, 4.13252488, 4.18799503, 4.24346518, 4.29893533,\n",
       "        4.35440548, 4.40987563, 4.46534578, 4.52081593, 4.57628608,\n",
       "        4.63175622]),\n",
       " <BarContainer object of 10 artists>)"
      ]
     },
     "execution_count": 56,
     "metadata": {},
     "output_type": "execute_result"
    },
    {
     "data": {
      "image/png": "[encoded data removed]",
      "text/plain": [
       "<Figure size 432x288 with 1 Axes>"
      ]
     },
     "metadata": {
      "needs_background": "light"
     },
     "output_type": "display_data"
    }
   ],
   "source": [
    "plt.hist(a)"
   ]
  },
  {
   "cell_type": "code",
   "execution_count": 47,
   "id": "5253912e-998c-4f69-a288-119fbcfbefa6",
   "metadata": {},
   "outputs": [
    {
     "data": {
      "text/plain": [
       "4.2969955561164985"
      ]
     },
     "execution_count": 47,
     "metadata": {},
     "output_type": "execute_result"
    }
   ],
   "source": [
    "np.mean(a)"
   ]
  },
  {
   "cell_type": "code",
   "execution_count": 50,
   "id": "4a404c02-0f45-4cd4-bb51-7abf89404727",
   "metadata": {},
   "outputs": [
    {
     "data": {
      "image/png": "[encoded data removed]",
      "text/plain": [
       "<Figure size 432x288 with 1 Axes>"
      ]
     },
     "metadata": {
      "needs_background": "light"
     },
     "output_type": "display_data"
    }
   ],
   "source": [
    "fig, ax = plt.subplots(1,1, figsize=(6,4), tight_layout=True)\n",
    "\n",
    "ax.errorbar(rmag_clean[isrmeas_clean], \n",
    "            log10vmax_clean[isrmeas_clean], \n",
    "            yerr=dlog10vmax_clean[isrmeas_clean], \n",
    "            fmt='ro', \n",
    "            alpha=0.7,\n",
    "            label='Cleaned data, $\\cos{(i)}$-corrected')\n",
    "\n",
    "a_fit, b_fit = np.mean(a), np.mean(b)\n",
    "r = np.arange(12.5,18.6,0.1)\n",
    "ax.plot(r, a_fit + b_fit*r, 'r--', alpha=0.8)\n",
    "\n",
    "ax.set(xlabel='$m_r$(26)',\n",
    "       xlim=(18.5, 12.5),\n",
    "       ylabel=r'$\\log{(v_\\mathrm{max} / \\mathrm{km~s}^{-1})}$',\n",
    "       ylim=(-0.5,3),\n",
    "       title=r'Rotational velocity at $0.33R_{26}$')\n",
    "\n",
    "ax.legend(loc='lower right', fontsize=10)\n",
    "fig.savefig('cache/Coma_TFR_gaussian.png', transparent = True)"
   ]
  },
  {
   "cell_type": "code",
   "execution_count": null,
   "id": "8382eb34-f13c-4e4d-9376-7b24b499f150",
   "metadata": {},
   "outputs": [],
   "source": []
  },
  {
   "cell_type": "code",
   "execution_count": 48,
   "id": "0f887cfc-aed5-4d2c-80eb-48a27f972ef0",
   "metadata": {},
   "outputs": [
    {
     "data": {
      "text/plain": [
       "      fun: -69.80078192640372\n",
       " hess_inv: <3x3 LbfgsInvHessProduct with dtype=float64>\n",
       "      jac: array([1.54898317e-04, 2.54658517e-03, 1.42108548e-05])\n",
       "  message: b'CONVERGENCE: REL_REDUCTION_OF_F_<=_FACTR*EPSMCH'\n",
       "     nfev: 160\n",
       "      nit: 16\n",
       "     njev: 40\n",
       "   status: 0\n",
       "  success: True\n",
       "        x: array([ 4.14286996, -0.13665286, -2.85993172])"
      ]
     },
     "execution_count": 48,
     "metadata": {},
     "output_type": "execute_result"
    }
   ],
   "source": [
    "p0 = [4., -1., 1.]\n",
    "\n",
    "bestfit = minimize(nloglike, p0, method='L-BFGS-B',\n",
    "                   bounds=((0.,10.),\n",
    "                           (-10.,0.),\n",
    "                           (-10.,10.)))\n",
    "\n",
    "bestfit"
   ]
  },
  {
   "cell_type": "code",
   "execution_count": 51,
   "id": "66756aaf-172e-4862-ba8d-7e46e2a84a92",
   "metadata": {},
   "outputs": [
    {
     "name": "stdout",
     "output_type": "stream",
     "text": [
      "y-intercept    =    4.1429 +- 0.2979\n",
      "slope          =   -0.1367 +- 0.0189\n",
      "lnf            =   -2.8599 +- 0.1353\n"
     ]
    }
   ],
   "source": [
    "hessian = ndt.Hessian(loglike)\n",
    "hess_ll = hessian(bestfit.x)\n",
    "hess_inv = np.linalg.inv(hess_ll)\n",
    "\n",
    "labels = ['y-intercept', 'slope', 'lnf']\n",
    "\n",
    "uncertainty = np.sqrt(np.diag(-hess_inv))\n",
    "\n",
    "for i in range(3):\n",
    "    print('{:<14s} = {:9.4f} +- {:6.4f}'.format(labels[i], bestfit.x[i], uncertainty[i]))"
   ]
  },
  {
   "cell_type": "code",
   "execution_count": 44,
   "id": "583a212b-3682-4c9d-8cd7-b2c782377021",
   "metadata": {},
   "outputs": [],
   "source": [
    "# def fit_tfr(r, logv, dlogv):\n",
    "#     fmin = 1e99\n",
    "#     a, b, lnf = 4., -1., 1.\n",
    "#     hess_inv = np.ones((3,3))\n",
    "    \n",
    "#     succ_res = None\n",
    "    \n",
    "#     # Try a large number of random seeds to ensure a decent fit.\n",
    "#     for i in range(1000):\n",
    "#         _a, _b, _lnf = np.random.uniform(-10,10), np.random.uniform(-1,0), np.random.uniform(-10.,10.)\n",
    "        \n",
    "#         res = minimize(nloglike, \n",
    "#                        [_a, _b, _lnf], \n",
    "#                        # args=([_a, _b, _lnf]),\n",
    "#                        method='L-BFGS-B', \n",
    "#                        bounds=[[-10,10], [-1,0], [10,10]])\n",
    "        \n",
    "#         if res.fun < fmin and res.success:\n",
    "#             print('Successful fit')\n",
    "#             succ_res = res.copy()\n",
    "#             fmin = res.fun\n",
    "#             a, b, lnf = res.x\n",
    "#             hess_inv = res.hess_inv\n",
    "    \n",
    "#     if succ_res is None:\n",
    "#         print('No successful fits')\n",
    "#     else:\n",
    "#         print(succ_res)\n",
    "    \n",
    "#     return a, b, lnf, hess_inv"
   ]
  },
  {
   "cell_type": "code",
   "execution_count": 53,
   "id": "16282f30-d351-416b-95a6-06766c885265",
   "metadata": {},
   "outputs": [
    {
     "data": {
      "image/png": "[encoded data removed]",
      "text/plain": [
       "<Figure size 432x288 with 1 Axes>"
      ]
     },
     "metadata": {
      "needs_background": "light"
     },
     "output_type": "display_data"
    }
   ],
   "source": [
    "fig, ax = plt.subplots(1,1, figsize=(6,4), tight_layout=True)\n",
    "\n",
    "ax.errorbar(rmag_clean[isrmeas_clean], \n",
    "            log10vmax_clean[isrmeas_clean], \n",
    "            yerr=dlog10vmax_clean[isrmeas_clean], \n",
    "            fmt='ro', \n",
    "            alpha=0.7,\n",
    "            label='Cleaned data, $\\cos{(i)}$-corrected')\n",
    "\n",
    "a, b, _ = bestfit.x\n",
    "r = np.arange(12.5,18.6,0.1)\n",
    "ax.plot(r, a + b*r, 'r--', alpha=0.8)\n",
    "\n",
    "ax.set(xlabel='$m_r$(26)',\n",
    "       xlim=(18.5, 12.5),\n",
    "       ylabel=r'$\\log{(v_\\mathrm{max} / \\mathrm{km~s}^{-1})}$',\n",
    "       ylim=(-0.5,3),\n",
    "       title=r'Rotational velocity at $0.33R_{26}$')\n",
    "\n",
    "ax.legend(loc='lower right', fontsize=10);\n",
    "\n",
    "# fig.suptitle(r'Max velocity at $0.33\\times R_{26}$', y=1.05)\n",
    "# fig.subplots_adjust(top=0.8)\n",
    "fig.savefig('tf_coma.png', dpi=120)\n",
    "\n",
    "# print(np.sum(isrmeas))"
   ]
  },
  {
   "cell_type": "markdown",
   "id": "cbb04565-145d-49b3-b2b4-c0310d26c8f6",
   "metadata": {},
   "source": [
    "### Iteratively fit and remove objects further than 3$\\sigma$"
   ]
  },
  {
   "cell_type": "code",
   "execution_count": 34,
   "id": "20a71ce6-8d23-4c85-a992-26f9390d376c",
   "metadata": {},
   "outputs": [],
   "source": [
    "def fit_3sigma(x,y,dy):\n",
    "    '''\n",
    "    Iterative linear fit that removes points outside 3sigma of the fit until \n",
    "    convergence (no more points removed).\n",
    "    '''\n",
    "    \n",
    "    # Number of points to fit\n",
    "    N = len(x)\n",
    "    \n",
    "    # Initialize variable to store the number of points fit in the last iteration\n",
    "    N_last = np.inf\n",
    "    \n",
    "    while (N < N_last) and (N > 1):\n",
    "        \n",
    "        # Update N_last\n",
    "        N_last = N\n",
    "        \n",
    "        # Fit\n",
    "        a, b, linf, hess_inv = fit_tfr(x, y, dy)\n",
    "        \n",
    "        ########################################################################\n",
    "        # Remove all points that are outside 3-sigma of the fit\n",
    "        #-----------------------------------------------------------------------\n",
    "        remove_points = []\n",
    "        \n",
    "        for i in range(N):\n",
    "            ####################################################################\n",
    "            # Calculate expected value at this point\n",
    "            #-------------------------------------------------------------------\n",
    "            y_fit = a + b*x[i]\n",
    "            ####################################################################\n",
    "            \n",
    "            \n",
    "            ####################################################################\n",
    "            # Calculate sigma at this point\n",
    "            #-------------------------------------------------------------------\n",
    "            random_sample = np.random.multivariate_normal(mean=(a,b), \n",
    "                                                          cov=hess_inv.matmat(np.eye(2)), \n",
    "                                                          size=1000)\n",
    "            \n",
    "            y_random = random_sample[:,0] + random_sample[:,1]*x[i]\n",
    "            \n",
    "            std_dev = np.std(y_random)\n",
    "            ####################################################################\n",
    "            \n",
    "            \n",
    "            if np.abs(y_fit - y[i]) > 3*std_dev:\n",
    "                remove_points.append(i)\n",
    "        ########################################################################\n",
    "        \n",
    "        \n",
    "        ########################################################################\n",
    "        # Update points if needed\n",
    "        #-----------------------------------------------------------------------\n",
    "        if len(remove_points) > 0:\n",
    "            x = np.delete(x, remove_points)\n",
    "            y = np.delete(y, remove_points)\n",
    "            dy = np.delete(dy, remove_points)\n",
    "            \n",
    "            N = len(x)\n",
    "        ########################################################################\n",
    "    \n",
    "    return a, b, hess_inv"
   ]
  },
  {
   "cell_type": "code",
   "execution_count": 36,
   "id": "76471dc8-6959-49d6-a530-35609af21ff3",
   "metadata": {},
   "outputs": [
    {
     "name": "stdout",
     "output_type": "stream",
     "text": [
      "Successful fit\n",
      "Successful fit\n",
      "Successful fit\n",
      "Successful fit\n",
      "Successful fit\n",
      "Successful fit\n",
      "Successful fit\n",
      "{'fun': 5.29540509098671, 'jac': array([  0.85523837, -48.18584743]), 'nfev': 291, 'njev': 97, 'nit': 21, 'status': 0, 'message': b'CONVERGENCE: REL_REDUCTION_OF_F_<=_FACTR*EPSMCH', 'x': array([ 4.2692078 , -0.14654133]), 'success': True, 'hess_inv': <2x2 LbfgsInvHessProduct with dtype=float64>}\n",
      "Successful fit\n",
      "Successful fit\n",
      "Successful fit\n",
      "Successful fit\n",
      "Successful fit\n",
      "Successful fit\n",
      "Successful fit\n",
      "Successful fit\n",
      "Successful fit\n",
      "Successful fit\n",
      "Successful fit\n",
      "{'fun': 3.0065986811301277, 'jac': array([  1.      , -14.496597]), 'nfev': 387, 'njev': 129, 'nit': 24, 'status': 0, 'message': b'CONVERGENCE: REL_REDUCTION_OF_F_<=_FACTR*EPSMCH', 'x': array([ 4.08593478, -0.13402758]), 'success': True, 'hess_inv': <2x2 LbfgsInvHessProduct with dtype=float64>}\n",
      "Successful fit\n",
      "Successful fit\n",
      "Successful fit\n",
      "Successful fit\n",
      "Successful fit\n",
      "{'fun': 7.331619977790638e-08, 'jac': array([  0.        , -21.70209893]), 'nfev': 549, 'njev': 183, 'nit': 21, 'status': 0, 'message': b'CONVERGENCE: REL_REDUCTION_OF_F_<=_FACTR*EPSMCH', 'x': array([ 4.08593527, -0.13402761]), 'success': True, 'hess_inv': <2x2 LbfgsInvHessProduct with dtype=float64>}\n",
      "y-intercept =    4.0859 +- 1.0000\n",
      "slope  =   -0.1340 +- 1.0000\n"
     ]
    },
    {
     "data": {
      "image/png": "[encoded data removed]",
      "text/plain": [
       "<Figure size 432x288 with 1 Axes>"
      ]
     },
     "metadata": {
      "needs_background": "light"
     },
     "output_type": "display_data"
    }
   ],
   "source": [
    "fig, ax = plt.subplots(1,1, figsize=(6,4), tight_layout=True)\n",
    "\n",
    "\n",
    "################################################################################\n",
    "# Original data\n",
    "# #-------------------------------------------------------------------------------\n",
    "# print('Original')\n",
    "\n",
    "# # ax.errorbar(rmag[isrmeas], \n",
    "# #             log10vmax[isrmeas], \n",
    "# #             yerr=dlog10vmax[isrmeas], \n",
    "# #             fmt='ko', \n",
    "# #             alpha=0.2,\n",
    "# #             label='Coma data')\n",
    "\n",
    "# a, b, hess_inv = fit_3sigma(rmag[isrmeas], \n",
    "#                             log10vmax[isrmeas], \n",
    "#                             dlog10vmax[isrmeas])\n",
    "# print(a,b)\n",
    "\n",
    "# r = np.arange(12.5,18.6,0.1)\n",
    "# ax.plot(r, a + b*r, 'k--', alpha=0.2)\n",
    "################################################################################\n",
    "\n",
    "\n",
    "################################################################################\n",
    "# Cleaned data\n",
    "# -------------------------------------------------------------------------------\n",
    "# print('\\nCleaned')\n",
    "\n",
    "rmag_clean = np.asarray(rmag_clean_new)\n",
    "vmax_clean = np.asarray(vmax_clean_new)\n",
    "dvmax_clean = np.asarray(dvmax_clean_new)\n",
    "\n",
    "isrmeas_clean = rmag_clean > 0\n",
    "\n",
    "log10vmax_clean = np.log10(vmax_clean)\n",
    "dlog10vmax_clean = 0.434 * dvmax_clean / vmax_clean \n",
    "\n",
    "ax.errorbar(rmag_clean[isrmeas_clean], \n",
    "            log10vmax_clean[isrmeas_clean], \n",
    "            yerr=dlog10vmax_clean[isrmeas_clean], \n",
    "            fmt='ro', \n",
    "            alpha=0.7,\n",
    "            label='Cleaned Coma data, $\\cos{(i)}$-corrected')\n",
    "\n",
    "a, b, hess_inv = fit_3sigma(rmag_clean[isrmeas_clean], \n",
    "                            log10vmax_clean[isrmeas_clean], \n",
    "                            dlog10vmax_clean[isrmeas_clean])\n",
    "# print(a,b)\n",
    "\n",
    "uncertainty = np.sqrt(np.diag(hess_inv.todense()))\n",
    "labels = ['y-intercept', 'slope']\n",
    "params = [a, b]\n",
    "for i in range(2):\n",
    "    print('{:<6s} = {:9.4f} +- {:6.4f}'.format(labels[i], params[i], uncertainty[i]))\n",
    "r = np.arange(12.5,18.6,0.1)\n",
    "ax.plot(r, a + b*r, 'r--', alpha=0.8)\n",
    "################################################################################\n",
    "\n",
    "\n",
    "ax.set(xlabel='$m_r$(26)',\n",
    "       xlim=(18.5, 12.5),\n",
    "       ylabel=r'$\\log{(v_\\mathrm{max} / \\mathrm{km~s}^{-1})}$',\n",
    "       ylim=(-0.5,3),\n",
    "       title=r'Rotational velocity at $0.33R_{26}$')\n",
    "\n",
    "ax.legend(loc='lower right', fontsize=10);\n",
    "\n",
    "# fig.suptitle(r'Max velocity at $0.33\\times R_{26}$', y=1.05)\n",
    "# fig.subplots_adjust(top=0.8)\n",
    "# fig.savefig('tf_coma_cleaned.png', dpi=120, transparent=True)\n",
    "\n",
    "# print(np.sum(isrmeas))"
   ]
  },
  {
   "cell_type": "markdown",
   "id": "d9894080-d873-4b56-b089-0bbf67a41668",
   "metadata": {},
   "source": [
    "### Make pretty plot of just cleaned data with best fit"
   ]
  },
  {
   "cell_type": "code",
   "execution_count": 49,
   "id": "a0bfb2df-c839-4db3-9478-3940df05f8db",
   "metadata": {},
   "outputs": [
    {
     "name": "stderr",
     "output_type": "stream",
     "text": [
      "<ipython-input-49-6325b4a7720b>:26: RuntimeWarning: covariance is not positive-semidefinite.\n",
      "  random_samples = np.random.multivariate_normal(mean=(a,b),\n"
     ]
    },
    {
     "data": {
      "image/png": "[encoded data removed]",
      "text/plain": [
       "<Figure size 288x360 with 1 Axes>"
      ]
     },
     "metadata": {
      "needs_background": "light"
     },
     "output_type": "display_data"
    }
   ],
   "source": [
    "fig, ax = plt.subplots(1,1, figsize=(4,5), tight_layout=True)\n",
    "\n",
    "rmag_clean = np.asarray(rmag_clean_new)\n",
    "vmax_clean = np.asarray(vmax_clean_new)\n",
    "dvmax_clean = np.asarray(dvmax_clean_new)\n",
    "\n",
    "isrmeas_clean = rmag_clean > 0\n",
    "\n",
    "log10vmax_clean = np.log10(vmax_clean)\n",
    "dlog10vmax_clean = 0.434 * dvmax_clean / vmax_clean\n",
    "\n",
    "r = np.arange(12.5,18.6,0.1)\n",
    "v = a + b*r\n",
    "\n",
    "################################################################################\n",
    "# Compute and plot the uncertainty range around the best fit\n",
    "#-------------------------------------------------------------------------------\n",
    "hessian = ndt.Hessian(l1norm)\n",
    "hess = hessian((a,b), \n",
    "               rmag_clean[isrmeas_clean], \n",
    "               log10vmax_clean[isrmeas_clean], \n",
    "               dlog10vmax_clean[isrmeas_clean])\n",
    "\n",
    "N_samples = 1000\n",
    "\n",
    "random_samples = np.random.multivariate_normal(mean=(a,b), \n",
    "                                               cov=np.linalg.inv(np.abs(hess)), #hess_inv.matmat(np.eye(2)), \n",
    "                                               size=N_samples)\n",
    "\n",
    "y_samples = np.zeros([1000, len(r)])\n",
    "for i in range(len(r)):\n",
    "    y_samples[:,i] = random_samples[:,0] + random_samples[:,1]*r[i]\n",
    "\n",
    "std_dev = np.std(y_samples, axis=0)\n",
    "\n",
    "ax.fill_betweenx(r, v-std_dev, v+std_dev, facecolor='lightgray')\n",
    "################################################################################\n",
    "\n",
    "ax.plot(v, r, 'k--', alpha=0.8)\n",
    "\n",
    "ax.errorbar(log10vmax_clean[isrmeas_clean], \n",
    "            rmag_clean[isrmeas_clean], \n",
    "            xerr=dlog10vmax_clean[isrmeas_clean], \n",
    "            fmt='ro', \n",
    "            alpha=0.7)\n",
    "\n",
    "ax.set(ylabel='$m_r$',\n",
    "       ylim=(18.5, 12.5),\n",
    "       xlabel=r'$\\log{(v_\\mathrm{max} / \\mathrm{km~s}^{-1})}$',\n",
    "       xlim=(1,3),\n",
    "       title='Rotational velocity at $0.33R_{26}$ \\n for the Coma cluster');\n",
    "\n",
    "plt.savefig('tf_coma_cleaned_m_vs_vmax.png', dpi=120);"
   ]
  },
  {
   "cell_type": "code",
   "execution_count": null,
   "id": "3530c653-dc81-439c-a598-5f38ce1e4773",
   "metadata": {},
   "outputs": [],
   "source": []
  }
 ],
 "metadata": {
  "kernelspec": {
   "display_name": "DESI master",
   "language": "python",
   "name": "desi-master"
  },
  "language_info": {
   "codemirror_mode": {
    "name": "ipython",
    "version": 3
   },
   "file_extension": ".py",
   "mimetype": "text/x-python",
   "name": "python",
   "nbconvert_exporter": "python",
   "pygments_lexer": "ipython3",
   "version": "3.9.7"
  }
 },
 "nbformat": 4,
 "nbformat_minor": 5
}
