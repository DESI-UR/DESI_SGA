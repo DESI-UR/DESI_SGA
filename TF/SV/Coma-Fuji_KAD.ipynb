{
 "cells": [
  {
   "cell_type": "code",
   "execution_count": 1,
   "id": "dd925c8e-e017-40f7-bd18-c75fc388e126",
   "metadata": {},
   "outputs": [],
   "source": [
    "import numpy as np\n",
    "\n",
    "import matplotlib.pyplot as plt\n",
    "plt.rcParams[\"text.usetex\"] = False\n",
    "from matplotlib import cm, colors\n",
    "from matplotlib.patches import Ellipse\n",
    "import matplotlib as mpl\n",
    "\n",
    "from astropy.io import fits\n",
    "from astropy.utils.data import get_pkg_data_filename\n",
    "from astropy.table import Table, unique, join, vstack, hstack\n",
    "from astropy.coordinates import SkyCoord, match_coordinates_sky\n",
    "from astropy import units as u\n",
    "from astropy.time import Time\n",
    "from astropy.wcs import WCS\n",
    "from astropy.visualization.wcsaxes import SphericalCircle\n",
    "\n",
    "import pandas as pd\n",
    "\n",
    "from scipy.optimize import minimize, curve_fit\n",
    "from scipy.ndimage import gaussian_filter1d\n",
    "\n",
    "import corner\n",
    "\n",
    "from datetime import datetime, timedelta\n",
    "\n",
    "import os\n",
    "from glob import glob\n",
    "\n",
    "import psycopg2\n",
    "\n",
    "from tqdm.notebook import tqdm_notebook\n",
    "\n",
    "import requests\n",
    "\n",
    "from hyperfit.linfit import LinFit\n",
    "\n",
    "from desispec.io import read_spectra\n",
    "from desispec.spectra import stack as specstack\n",
    "from desispec.coaddition import coadd_cameras"
   ]
  },
  {
   "cell_type": "code",
   "execution_count": 2,
   "id": "2533249c-48da-4daa-a75f-95f2fac3fbcd",
   "metadata": {},
   "outputs": [],
   "source": [
    "h = 1\n",
    "H0 = 100*h\n",
    "\n",
    "c = 3e5\n",
    "\n",
    "q0 = 0.2"
   ]
  },
  {
   "cell_type": "markdown",
   "id": "e1bdaae7-5e97-475f-845d-02a4703507ee",
   "metadata": {},
   "source": [
    "# Data\n",
    "\n",
    "## fuji"
   ]
  },
  {
   "cell_type": "code",
   "execution_count": 3,
   "id": "f32a61f1-36c9-4645-8a25-e3c02568941d",
   "metadata": {},
   "outputs": [
    {
     "data": {
      "text/html": [
       "<div><i>Table length=5</i>\n",
       "<table id=\"table23456035875376\" class=\"table-striped table-bordered table-condensed\">\n",
       "<thead><tr><th>TARGETID</th><th>TARGET_RA</th><th>TARGET_DEC</th><th>HEALPIX</th><th>SURVEY</th><th>Z</th><th>ZERR</th><th>ZWARN</th><th>DELTACHI2</th><th>FILENAME</th><th>PVTYPE</th><th>SGA_ID</th><th>RA</th><th>DEC</th></tr></thead>\n",
       "<thead><tr><th>int64</th><th>float64</th><th>float64</th><th>int64</th><th>bytes3</th><th>float64</th><th>float64</th><th>int64</th><th>float64</th><th>bytes63</th><th>bytes3</th><th>int64</th><th>float64</th><th>float64</th></tr></thead>\n",
       "<tr><td>1079550234591232</td><td>194.390863195343</td><td>27.5157211790145</td><td>10378</td><td>sv3</td><td>1.1235686466514</td><td>7.31685779475115e-05</td><td>4</td><td>3.28414569795132</td><td>fuji/healpix/sv3/bright/103/10378/redrock-sv3-bright-10378.fits</td><td>EXT</td><td>662902</td><td>194.39086319534337</td><td>27.51572117901454</td></tr>\n",
       "<tr><td>1092744374124544</td><td>194.390863195343</td><td>27.5157211790145</td><td>10378</td><td>sv3</td><td>0.686773088332363</td><td>6.9756676262104e-05</td><td>4</td><td>0.786607094109058</td><td>fuji/healpix/sv3/dark/103/10378/redrock-sv3-dark-10378.fits</td><td>EXT</td><td>662902</td><td>194.39086319534337</td><td>27.51572117901454</td></tr>\n",
       "<tr><td>1092744374124546</td><td>194.364461113654</td><td>27.5037185881314</td><td>10378</td><td>sv3</td><td>0.0242933923052181</td><td>4.95233472646785e-05</td><td>0</td><td>95.428411073226</td><td>fuji/healpix/sv3/dark/103/10378/redrock-sv3-dark-10378.fits</td><td>EXT</td><td>662902</td><td>194.36446111365385</td><td>27.50371858813136</td></tr>\n",
       "<tr><td>1092744369930240</td><td>194.338458724402</td><td>27.4918902690326</td><td>10378</td><td>sv3</td><td>0.0264170223697961</td><td>0.00010139452689994</td><td>0</td><td>9.53278421035066</td><td>fuji/healpix/sv3/dark/103/10378/redrock-sv3-dark-10378.fits</td><td>EXT</td><td>662902</td><td>194.33845872440244</td><td>27.491890269032595</td></tr>\n",
       "<tr><td>1092744374124545</td><td>194.377858465028</td><td>27.5098100780282</td><td>10378</td><td>sv3</td><td>0.211332646769145</td><td>6.68535116703737e-05</td><td>4</td><td>3.73989077657461</td><td>fuji/healpix/sv3/dark/103/10378/redrock-sv3-dark-10378.fits</td><td>EXT</td><td>662902</td><td>194.3778584650283</td><td>27.509810078028195</td></tr>\n",
       "</table></div>"
      ],
      "text/plain": [
       "<Table length=5>\n",
       "    TARGETID        TARGET_RA     ...         RA                DEC        \n",
       "     int64           float64      ...      float64            float64      \n",
       "---------------- ---------------- ... ------------------ ------------------\n",
       "1079550234591232 194.390863195343 ... 194.39086319534337  27.51572117901454\n",
       "1092744374124544 194.390863195343 ... 194.39086319534337  27.51572117901454\n",
       "1092744374124546 194.364461113654 ... 194.36446111365385  27.50371858813136\n",
       "1092744369930240 194.338458724402 ... 194.33845872440244 27.491890269032595\n",
       "1092744374124545 194.377858465028 ...  194.3778584650283 27.509810078028195"
      ]
     },
     "execution_count": 3,
     "metadata": {},
     "output_type": "execute_result"
    }
   ],
   "source": [
    "tfuji = Table.read('/global/project/projectdirs/desi/science/td/pv/desi_pv_tf_fuji_healpix.fits')\n",
    "tfuji[:5]"
   ]
  },
  {
   "cell_type": "markdown",
   "id": "4d0af000-ef76-4d74-80d0-1c7f8385f4f7",
   "metadata": {},
   "source": [
    "### Separate the fuji data into center and off-center observations"
   ]
  },
  {
   "cell_type": "code",
   "execution_count": 4,
   "id": "79ef2f10-8a5a-41e0-8d9e-a354011602fb",
   "metadata": {},
   "outputs": [],
   "source": [
    "def firstdigit(n):\n",
    "    \"\"\"\n",
    "    Return the first digit of a number.\n",
    "    \n",
    "    Parameters\n",
    "    ----------\n",
    "    n : int, float, or ndarray\n",
    "        Number or list of numbers.\n",
    "    \n",
    "    Returns\n",
    "    -------\n",
    "    digit : int\n",
    "        First digit of the number.\n",
    "    \"\"\"\n",
    "    \n",
    "    digit = np.trunc(n * 10**(-np.trunc(np.log10(n)))).astype(int)\n",
    "    \n",
    "    return digit"
   ]
  },
  {
   "cell_type": "code",
   "execution_count": 5,
   "id": "1d0d7f14-5e74-44a9-80f7-d9899ca759a2",
   "metadata": {},
   "outputs": [
    {
     "name": "stderr",
     "output_type": "stream",
     "text": [
      "/tmp/ipykernel_42078/917620242.py:16: RuntimeWarning: invalid value encountered in log10\n",
      "  digit = np.trunc(n * 10**(-np.trunc(np.log10(n)))).astype(int)\n"
     ]
    }
   ],
   "source": [
    "first_digits = firstdigit(tfuji['TARGETID'])\n",
    "\n",
    "fuji_centers = tfuji[first_digits == 3]\n",
    "fuji_axis = tfuji[first_digits != 3]"
   ]
  },
  {
   "cell_type": "markdown",
   "id": "2be6cbc1-a9d2-48d7-b2e5-5a86f1846810",
   "metadata": {},
   "source": [
    "### Clean the fuji center observations\n",
    "\n",
    "Only keep those with\n",
    " * DELTACHI2 > 25\n",
    " * ZWARN == 0"
   ]
  },
  {
   "cell_type": "code",
   "execution_count": 6,
   "id": "f533cc9a-9df8-43ed-91c7-b88c62966e00",
   "metadata": {},
   "outputs": [],
   "source": [
    "good_centers = fuji_centers[(fuji_centers['DELTACHI2'] > 25) & (fuji_centers['ZWARN'] == 0)]"
   ]
  },
  {
   "cell_type": "markdown",
   "id": "0b8daf34-f420-4edc-9371-0d21de16e2a5",
   "metadata": {},
   "source": [
    "#### Are there any galaxies with multiple good center observations?"
   ]
  },
  {
   "cell_type": "code",
   "execution_count": 7,
   "id": "c4287a2a-ad76-4c24-ace7-6fd2108fde3f",
   "metadata": {},
   "outputs": [
    {
     "name": "stdout",
     "output_type": "stream",
     "text": [
      " SGA_ID\n",
      "-------\n",
      "    848\n",
      "   3727\n",
      "  26199\n",
      "  37543\n",
      "  46327\n",
      "  83216\n",
      "  98934\n",
      " 100987\n",
      " 101569\n",
      " 102832\n",
      "    ...\n",
      "1204188\n",
      "1244275\n",
      "1249892\n",
      "1272144\n",
      "1273084\n",
      "1284002\n",
      "1285273\n",
      "1319490\n",
      "1366241\n",
      "1380792\n",
      "1382772\n",
      "Length = 87 rows [2 2 2 2 2 2 2 2 2 2 2 2 2 2 2 2 2 2 2 2 2 2 2 2 2 2 2 2 2 2 2 2 2 2 3 2 2\n",
      " 2 2 2 2 2 2 2 2 2 2 2 2 2 2 2 2 2 2 2 2 2 2 2 2 2 2 2 2 2 2 2 2 2 2 2 2 2\n",
      " 2 2 2 2 2 2 2 2 2 2 2 2 2]\n"
     ]
    }
   ],
   "source": [
    "unique_ids, counts = np.unique(good_centers['SGA_ID'], return_counts=True)\n",
    "\n",
    "print(unique_ids[counts > 1], counts[counts > 1])"
   ]
  },
  {
   "cell_type": "markdown",
   "id": "3c9dc72c-4d94-423e-9faa-2346fe74f6a5",
   "metadata": {},
   "source": [
    "## SGA"
   ]
  },
  {
   "cell_type": "code",
   "execution_count": 8,
   "id": "77e22854-73f7-4073-86c5-1bd8eab51133",
   "metadata": {},
   "outputs": [
    {
     "data": {
      "text/html": [
       "<div><i>Table length=5</i>\n",
       "<table id=\"table23453656236144\" class=\"table-striped table-bordered table-condensed\">\n",
       "<thead><tr><th>SGA_ID</th><th>SGA_GALAXY</th><th>GALAXY</th><th>PGC</th><th>RA_LEDA</th><th>DEC_LEDA</th><th>MORPHTYPE</th><th>PA_LEDA</th><th>D25_LEDA</th><th>BA_LEDA</th><th>Z_LEDA</th><th>SB_D25_LEDA</th><th>MAG_LEDA</th><th>BYHAND</th><th>REF</th><th>GROUP_ID</th><th>GROUP_NAME</th><th>GROUP_MULT</th><th>GROUP_PRIMARY</th><th>GROUP_RA</th><th>GROUP_DEC</th><th>GROUP_DIAMETER</th><th>BRICKNAME</th><th>RA</th><th>DEC</th><th>D26</th><th>D26_REF</th><th>PA</th><th>BA</th><th>RA_MOMENT</th><th>DEC_MOMENT</th><th>SMA_MOMENT</th><th>G_SMA50</th><th>R_SMA50</th><th>Z_SMA50</th><th>SMA_SB22</th><th>SMA_SB22.5</th><th>SMA_SB23</th><th>SMA_SB23.5</th><th>SMA_SB24</th><th>SMA_SB24.5</th><th>SMA_SB25</th><th>SMA_SB25.5</th><th>SMA_SB26</th><th>G_MAG_SB22</th><th>R_MAG_SB22</th><th>Z_MAG_SB22</th><th>G_MAG_SB22.5</th><th>R_MAG_SB22.5</th><th>Z_MAG_SB22.5</th><th>G_MAG_SB23</th><th>R_MAG_SB23</th><th>Z_MAG_SB23</th><th>G_MAG_SB23.5</th><th>R_MAG_SB23.5</th><th>Z_MAG_SB23.5</th><th>G_MAG_SB24</th><th>R_MAG_SB24</th><th>Z_MAG_SB24</th><th>G_MAG_SB24.5</th><th>R_MAG_SB24.5</th><th>Z_MAG_SB24.5</th><th>G_MAG_SB25</th><th>R_MAG_SB25</th><th>Z_MAG_SB25</th><th>G_MAG_SB25.5</th><th>R_MAG_SB25.5</th><th>Z_MAG_SB25.5</th><th>G_MAG_SB26</th><th>R_MAG_SB26</th><th>Z_MAG_SB26</th><th>SMA_SB22_ERR</th><th>SMA_SB22.5_ERR</th><th>SMA_SB23_ERR</th><th>SMA_SB23.5_ERR</th><th>SMA_SB24_ERR</th><th>SMA_SB24.5_ERR</th><th>SMA_SB25_ERR</th><th>SMA_SB25.5_ERR</th><th>SMA_SB26_ERR</th><th>G_MAG_SB22_ERR</th><th>R_MAG_SB22_ERR</th><th>Z_MAG_SB22_ERR</th><th>G_MAG_SB22.5_ERR</th><th>R_MAG_SB22.5_ERR</th><th>Z_MAG_SB22.5_ERR</th><th>G_MAG_SB23_ERR</th><th>R_MAG_SB23_ERR</th><th>Z_MAG_SB23_ERR</th><th>G_MAG_SB23.5_ERR</th><th>R_MAG_SB23.5_ERR</th><th>Z_MAG_SB23.5_ERR</th><th>G_MAG_SB24_ERR</th><th>R_MAG_SB24_ERR</th><th>Z_MAG_SB24_ERR</th><th>G_MAG_SB24.5_ERR</th><th>R_MAG_SB24.5_ERR</th><th>Z_MAG_SB24.5_ERR</th><th>G_MAG_SB25_ERR</th><th>R_MAG_SB25_ERR</th><th>Z_MAG_SB25_ERR</th><th>G_MAG_SB25.5_ERR</th><th>R_MAG_SB25.5_ERR</th><th>Z_MAG_SB25.5_ERR</th><th>G_MAG_SB26_ERR</th><th>R_MAG_SB26_ERR</th><th>Z_MAG_SB26_ERR</th><th>G_COG_PARAMS_MTOT</th><th>G_COG_PARAMS_M0</th><th>G_COG_PARAMS_ALPHA1</th><th>G_COG_PARAMS_ALPHA2</th><th>G_COG_PARAMS_CHI2</th><th>R_COG_PARAMS_MTOT</th><th>R_COG_PARAMS_M0</th><th>R_COG_PARAMS_ALPHA1</th><th>R_COG_PARAMS_ALPHA2</th><th>R_COG_PARAMS_CHI2</th><th>Z_COG_PARAMS_MTOT</th><th>Z_COG_PARAMS_M0</th><th>Z_COG_PARAMS_ALPHA1</th><th>Z_COG_PARAMS_ALPHA2</th><th>Z_COG_PARAMS_CHI2</th><th>ELLIPSEBIT</th></tr></thead>\n",
       "<thead><tr><th>int64</th><th>bytes16</th><th>bytes29</th><th>int64</th><th>float64</th><th>float64</th><th>bytes21</th><th>float32</th><th>float32</th><th>float32</th><th>float32</th><th>float32</th><th>float32</th><th>bool</th><th>bytes13</th><th>int64</th><th>bytes35</th><th>int16</th><th>bool</th><th>float64</th><th>float64</th><th>float32</th><th>bytes8</th><th>float64</th><th>float64</th><th>float32</th><th>bytes4</th><th>float32</th><th>float32</th><th>float64</th><th>float64</th><th>float32</th><th>float32</th><th>float32</th><th>float32</th><th>float32</th><th>float32</th><th>float32</th><th>float32</th><th>float32</th><th>float32</th><th>float32</th><th>float32</th><th>float32</th><th>float32</th><th>float32</th><th>float32</th><th>float32</th><th>float32</th><th>float32</th><th>float32</th><th>float32</th><th>float32</th><th>float32</th><th>float32</th><th>float32</th><th>float32</th><th>float32</th><th>float32</th><th>float32</th><th>float32</th><th>float32</th><th>float32</th><th>float32</th><th>float32</th><th>float32</th><th>float32</th><th>float32</th><th>float32</th><th>float32</th><th>float32</th><th>float32</th><th>float32</th><th>float32</th><th>float32</th><th>float32</th><th>float32</th><th>float32</th><th>float32</th><th>float32</th><th>float32</th><th>float32</th><th>float32</th><th>float32</th><th>float32</th><th>float32</th><th>float32</th><th>float32</th><th>float32</th><th>float32</th><th>float32</th><th>float32</th><th>float32</th><th>float32</th><th>float32</th><th>float32</th><th>float32</th><th>float32</th><th>float32</th><th>float32</th><th>float32</th><th>float32</th><th>float32</th><th>float32</th><th>float32</th><th>float32</th><th>float32</th><th>float32</th><th>float32</th><th>float32</th><th>float32</th><th>float32</th><th>float32</th><th>float32</th><th>float32</th><th>float32</th><th>float32</th><th>float32</th><th>float32</th><th>float32</th><th>float32</th><th>float32</th><th>int32</th></tr></thead>\n",
       "<tr><td>2</td><td>SGA-2020 2</td><td>PGC1283207</td><td>1283207</td><td>228.3770865</td><td>5.4232017</td><td>S?</td><td>152.2</td><td>0.36307806</td><td>0.724436</td><td>0.03463229</td><td>23.40448</td><td>16.976</td><td>False</td><td>LEDA-20181114</td><td>0</td><td>PGC1283207</td><td>1</td><td>True</td><td>228.3770865</td><td>5.4232017</td><td>0.36307806</td><td>2283p055</td><td>228.3770803831908</td><td>5.423191398593787</td><td>0.49470574</td><td>SB26</td><td>158.20142</td><td>0.545691</td><td>228.37700918822188</td><td>5.4232652570544015</td><td>10.897086</td><td>3.3509698</td><td>3.1147978</td><td>3.240862</td><td>5.902337</td><td>6.9126143</td><td>7.941369</td><td>8.997992</td><td>10.073601</td><td>11.199986</td><td>12.391357</td><td>13.561038</td><td>14.841172</td><td>16.966799</td><td>16.108246</td><td>15.486356</td><td>16.879545</td><td>16.024958</td><td>15.400715</td><td>16.818878</td><td>15.967034</td><td>15.341793</td><td>16.776297</td><td>15.925804</td><td>15.300776</td><td>16.746685</td><td>15.897334</td><td>15.272053</td><td>16.725166</td><td>15.876816</td><td>15.2521105</td><td>16.708357</td><td>15.862035</td><td>15.237181</td><td>16.696539</td><td>15.851936</td><td>15.226998</td><td>16.689613</td><td>15.844313</td><td>15.21976</td><td>0.013392451</td><td>0.02354</td><td>0.021872982</td><td>0.01736985</td><td>0.024445537</td><td>0.039866067</td><td>0.05026544</td><td>0.08455789</td><td>0.122911856</td><td>0.005682776</td><td>0.0054258136</td><td>0.0049038026</td><td>0.005588406</td><td>0.005323561</td><td>0.0047632363</td><td>0.00543534</td><td>0.005177031</td><td>0.0046343105</td><td>0.0053025587</td><td>0.005040888</td><td>0.0045181247</td><td>0.005206092</td><td>0.0049438984</td><td>0.0044374703</td><td>0.0051483097</td><td>0.0048758644</td><td>0.0043834248</td><td>0.0051032505</td><td>0.0048264163</td><td>0.004344248</td><td>0.0050705094</td><td>0.004792021</td><td>0.004319857</td><td>0.005054293</td><td>0.004765629</td><td>0.0043044444</td><td>16.65942</td><td>0.34037337</td><td>0.2978292</td><td>3.0239506</td><td>0.07928849</td><td>15.820566</td><td>0.2640441</td><td>0.34559453</td><td>3.3033552</td><td>0.003811298</td><td>15.195567</td><td>0.29826432</td><td>0.3001073</td><td>3.2333765</td><td>0.011723555</td><td>0</td></tr>\n",
       "<tr><td>3</td><td>SGA-2020 3</td><td>PGC1310416</td><td>1310416</td><td>202.54443750000002</td><td>6.9345944</td><td>Sc</td><td>159.26</td><td>0.4017908</td><td>0.7816278</td><td>0.073888786</td><td>23.498482</td><td>16.85</td><td>False</td><td>LEDA-20181114</td><td>1</td><td>PGC1310416</td><td>1</td><td>True</td><td>202.54443750000002</td><td>6.9345944</td><td>0.4017908</td><td>2025p070</td><td>202.5444619671207</td><td>6.9346244322326624</td><td>0.55350494</td><td>SB26</td><td>161.5937</td><td>0.7291764</td><td>202.54432739596137</td><td>6.934806737209989</td><td>15.746941</td><td>5.6416235</td><td>5.2647552</td><td>5.0895185</td><td>5.9838247</td><td>7.4356494</td><td>8.728868</td><td>10.087478</td><td>11.529764</td><td>12.818195</td><td>14.115497</td><td>15.319822</td><td>16.605148</td><td>16.963299</td><td>16.307854</td><td>15.806882</td><td>16.729511</td><td>16.097378</td><td>15.615527</td><td>16.606344</td><td>15.990707</td><td>15.518403</td><td>16.525967</td><td>15.917321</td><td>15.450624</td><td>16.462585</td><td>15.859485</td><td>15.397182</td><td>16.419558</td><td>15.820947</td><td>15.36243</td><td>16.390558</td><td>15.796369</td><td>15.338905</td><td>16.376112</td><td>15.782492</td><td>15.323709</td><td>16.364115</td><td>15.773462</td><td>15.313725</td><td>0.036992554</td><td>0.034982767</td><td>0.037769336</td><td>0.049429573</td><td>0.052699674</td><td>0.074114166</td><td>0.07914538</td><td>0.09781406</td><td>0.15534972</td><td>0.016095797</td><td>0.019181909</td><td>0.021539452</td><td>0.013955905</td><td>0.016594552</td><td>0.018640138</td><td>0.012786752</td><td>0.015244632</td><td>0.01715491</td><td>0.011973826</td><td>0.014366956</td><td>0.016208366</td><td>0.011358372</td><td>0.013676575</td><td>0.015474222</td><td>0.010944939</td><td>0.013225297</td><td>0.015011175</td><td>0.010691595</td><td>0.012931233</td><td>0.014687982</td><td>0.010546411</td><td>0.012796015</td><td>0.014518412</td><td>0.010457551</td><td>0.012685407</td><td>0.014379212</td><td>16.284733</td><td>1.0914493</td><td>0.24674739</td><td>2.4320207</td><td>0.68685365</td><td>15.704403</td><td>0.8764323</td><td>0.27360612</td><td>2.4995425</td><td>0.49343896</td><td>15.235263</td><td>1.3098688</td><td>0.17866786</td><td>2.1750498</td><td>0.20391206</td><td>0</td></tr>\n",
       "<tr><td>4</td><td>SGA-2020 4</td><td>SDSSJ145059.93+135143.0</td><td>4435547</td><td>222.749787</td><td>13.8619111</td><td>S?</td><td>44.57</td><td>0.33342642</td><td>0.6637431</td><td>0.07567602</td><td>24.457481</td><td>18.214</td><td>False</td><td>LEDA-20181114</td><td>2</td><td>SDSSJ145059.93+135143.0</td><td>1</td><td>True</td><td>222.749787</td><td>13.8619111</td><td>0.33342642</td><td>2228p137</td><td>222.7497050504303</td><td>13.861929561160224</td><td>0.37067476</td><td>SB26</td><td>45.28537</td><td>0.70922077</td><td>222.749650475464</td><td>13.862052070022896</td><td>8.877115</td><td>4.652771</td><td>4.4837785</td><td>4.4959745</td><td>2.01033</td><td>3.3967943</td><td>4.76257</td><td>6.043787</td><td>7.242806</td><td>8.250407</td><td>9.158723</td><td>10.083457</td><td>11.120243</td><td>19.97595</td><td>19.190666</td><td>18.649523</td><td>19.098536</td><td>18.397219</td><td>17.899643</td><td>18.624952</td><td>17.967802</td><td>17.50231</td><td>18.35278</td><td>17.718002</td><td>17.265854</td><td>18.192762</td><td>17.5654</td><td>17.115404</td><td>18.10496</td><td>17.480022</td><td>17.033989</td><td>18.053415</td><td>17.430794</td><td>16.982971</td><td>18.020155</td><td>17.399996</td><td>16.948252</td><td>17.994783</td><td>17.377092</td><td>16.924469</td><td>0.02113719</td><td>0.03639431</td><td>0.051901262</td><td>0.06539029</td><td>0.08552586</td><td>0.07008602</td><td>0.070394725</td><td>0.08394975</td><td>0.113649584</td><td>0.013428732</td><td>0.017600043</td><td>0.016373685</td><td>0.012251812</td><td>0.014566466</td><td>0.013732588</td><td>0.012644532</td><td>0.014030071</td><td>0.013153961</td><td>0.012747069</td><td>0.013512552</td><td>0.012818239</td><td>0.012865601</td><td>0.01324455</td><td>0.012532208</td><td>0.012762528</td><td>0.013058522</td><td>0.012420634</td><td>0.01252645</td><td>0.012827468</td><td>0.012283978</td><td>0.012320441</td><td>0.012607317</td><td>0.012104107</td><td>0.0121167945</td><td>0.01244376</td><td>0.011985352</td><td>17.896797</td><td>0.5557265</td><td>0.25455818</td><td>3.167909</td><td>1.0522435</td><td>17.28287</td><td>0.4885815</td><td>0.2782499</td><td>3.2144456</td><td>1.3733263</td><td>16.807674</td><td>0.5177045</td><td>0.32264626</td><td>2.900518</td><td>1.8054093</td><td>0</td></tr>\n",
       "<tr><td>7</td><td>SGA-2020 7</td><td>PGC1742504</td><td>1742504</td><td>182.0888085</td><td>25.6022764</td><td>Sbc</td><td>84.97</td><td>0.548277</td><td>0.25118864</td><td>0.10090814</td><td>24.91348</td><td>17.59</td><td>False</td><td>LEDA-20181114</td><td>3</td><td>PGC1742504</td><td>1</td><td>True</td><td>182.0888085</td><td>25.6022764</td><td>0.548277</td><td>1820p255</td><td>182.08882232629614</td><td>25.60226821438983</td><td>0.8883204</td><td>SB26</td><td>84.857475</td><td>0.19753796</td><td>182.08873760544392</td><td>25.602311195157757</td><td>19.779116</td><td>6.5958204</td><td>6.0386286</td><td>5.8089786</td><td>9.279068</td><td>10.949478</td><td>12.652142</td><td>14.446171</td><td>16.323679</td><td>18.392954</td><td>20.915508</td><td>23.566542</td><td>26.649612</td><td>17.390274</td><td>16.360935</td><td>15.531964</td><td>17.285898</td><td>16.262264</td><td>15.440768</td><td>17.2167</td><td>16.195492</td><td>15.380734</td><td>17.16217</td><td>16.144245</td><td>15.334935</td><td>17.130178</td><td>16.110302</td><td>15.304758</td><td>17.104496</td><td>16.084463</td><td>15.280803</td><td>17.081282</td><td>16.061373</td><td>15.2589855</td><td>17.063671</td><td>16.045204</td><td>15.243196</td><td>17.046705</td><td>16.031244</td><td>15.23268</td><td>0.04351465</td><td>0.055440858</td><td>0.052207235</td><td>0.07507412</td><td>0.0793679</td><td>0.10347854</td><td>0.13569456</td><td>0.13104819</td><td>0.17234002</td><td>0.03885276</td><td>0.03744209</td><td>0.03786608</td><td>0.035534665</td><td>0.03441038</td><td>0.03503794</td><td>0.033557214</td><td>0.032548346</td><td>0.033348277</td><td>0.031964395</td><td>0.03106612</td><td>0.031957533</td><td>0.031133845</td><td>0.030202182</td><td>0.031190341</td><td>0.030430589</td><td>0.029511228</td><td>0.030530946</td><td>0.02975241</td><td>0.028853998</td><td>0.029866546</td><td>0.02928568</td><td>0.0284345</td><td>0.029445464</td><td>0.028843498</td><td>0.028076617</td><td>0.029169334</td><td>16.995174</td><td>21.083004</td><td>0.0164273</td><td>1.9079465</td><td>0.029703742</td><td>15.991165</td><td>0.7657307</td><td>0.52285546</td><td>2.3045986</td><td>0.006013103</td><td>15.191324</td><td>1.0408205</td><td>0.32956335</td><td>2.1520333</td><td>0.004725194</td><td>0</td></tr>\n",
       "<tr><td>18</td><td>SGA-2020 18</td><td>2MASXJ12340801+4535444</td><td>3550748</td><td>188.5335525</td><td>45.5956434</td><td>E</td><td>168.65</td><td>0.53088444</td><td>0.6950243</td><td>0.07609531</td><td>23.97948</td><td>16.726</td><td>False</td><td>LEDA-20181114</td><td>4</td><td>2MASXJ12340801+4535444</td><td>1</td><td>True</td><td>188.5335525</td><td>45.5956434</td><td>0.53088444</td><td>1883p455</td><td>188.53364923054596</td><td>45.595620212931856</td><td>0.73435897</td><td>SB26</td><td>166.25127</td><td>0.70995796</td><td>188.53349052789085</td><td>45.59567446403057</td><td>15.694805</td><td>5.091253</td><td>4.670616</td><td>2.9429996</td><td>5.219665</td><td>6.6119533</td><td>8.228266</td><td>10.109745</td><td>12.170589</td><td>14.364073</td><td>16.722517</td><td>19.18709</td><td>22.03077</td><td>17.208511</td><td>16.224203</td><td>15.566424</td><td>17.050343</td><td>16.080097</td><td>15.443468</td><td>16.921791</td><td>15.962402</td><td>15.347263</td><td>16.814959</td><td>15.864242</td><td>15.27134</td><td>16.729906</td><td>15.787886</td><td>15.218466</td><td>16.664564</td><td>15.730083</td><td>15.182751</td><td>16.61991</td><td>15.686324</td><td>15.1601305</td><td>16.585676</td><td>15.654064</td><td>15.148039</td><td>16.558054</td><td>15.629669</td><td>15.141826</td><td>0.032001704</td><td>0.043849397</td><td>0.045203492</td><td>0.072918765</td><td>0.06263939</td><td>0.07675708</td><td>0.10399303</td><td>0.07780949</td><td>0.14017467</td><td>0.016467415</td><td>0.021250801</td><td>0.032092847</td><td>0.0149329165</td><td>0.019061867</td><td>0.028947951</td><td>0.01369758</td><td>0.01736746</td><td>0.026648495</td><td>0.012623343</td><td>0.015980754</td><td>0.024998168</td><td>0.011793644</td><td>0.014977396</td><td>0.023862366</td><td>0.011184664</td><td>0.014255281</td><td>0.023120966</td><td>0.010785815</td><td>0.013740733</td><td>0.022603082</td><td>0.010472503</td><td>0.013351409</td><td>0.022360764</td><td>0.010212836</td><td>0.013043255</td><td>0.022296576</td><td>16.471447</td><td>0.3236818</td><td>1.9206839</td><td>2.3249283</td><td>0.0973919</td><td>15.540598</td><td>0.3247282</td><td>1.7439244</td><td>2.1774826</td><td>0.023485765</td><td>15.124181</td><td>0.16547345</td><td>1.4694684</td><td>3.3948786</td><td>0.028653827</td><td>0</td></tr>\n",
       "</table></div>"
      ],
      "text/plain": [
       "<Table length=5>\n",
       "SGA_ID  SGA_GALAXY          GALAXY         ... Z_COG_PARAMS_CHI2 ELLIPSEBIT\n",
       "int64    bytes16           bytes29         ...      float32        int32   \n",
       "------ ----------- ----------------------- ... ----------------- ----------\n",
       "     2  SGA-2020 2              PGC1283207 ...       0.011723555          0\n",
       "     3  SGA-2020 3              PGC1310416 ...        0.20391206          0\n",
       "     4  SGA-2020 4 SDSSJ145059.93+135143.0 ...         1.8054093          0\n",
       "     7  SGA-2020 7              PGC1742504 ...       0.004725194          0\n",
       "    18 SGA-2020 18  2MASXJ12340801+4535444 ...       0.028653827          0"
      ]
     },
     "execution_count": 8,
     "metadata": {},
     "output_type": "execute_result"
    }
   ],
   "source": [
    "SGA = Table.read('/global/cfs/cdirs/cosmo/data/sga/2020/SGA-2020.fits', 'ELLIPSE')\n",
    "\n",
    "SGA[:5]"
   ]
  },
  {
   "cell_type": "code",
   "execution_count": 9,
   "id": "47ba4f76-eff7-4da1-9ec7-f90c546d6094",
   "metadata": {},
   "outputs": [],
   "source": [
    "SGA_dict = {}\n",
    "\n",
    "for i in range(len(SGA)):\n",
    "    \n",
    "    SGA_dict[SGA['SGA_ID'][i]] = i"
   ]
  },
  {
   "cell_type": "markdown",
   "id": "472c0152-3e6a-49bd-a077-58c9da6c8cb3",
   "metadata": {},
   "source": [
    "### If an SGA galaxy has at least one observation at its center, set the redshift of that galaxy"
   ]
  },
  {
   "cell_type": "code",
   "execution_count": 10,
   "id": "47f2d756-1eef-465c-8b3c-58a410f78763",
   "metadata": {},
   "outputs": [],
   "source": [
    "SGA['Z_DESI'] = np.nan\n",
    "SGA['ZERR_DESI'] = np.nan\n",
    "\n",
    "for sga_id in np.unique(good_centers['SGA_ID']):\n",
    "    \n",
    "    # Find the row in SGA for this galaxy\n",
    "    SGA_idx = SGA_dict[sga_id]\n",
    "    \n",
    "    # Set the redshift of this galaxy to be the average redshift of all good center observations\n",
    "    SGA['Z_DESI'][SGA_idx] = np.mean(good_centers['Z'][good_centers['SGA_ID'] == sga_id])\n",
    "    SGA['ZERR_DESI'][SGA_idx] = np.mean(good_centers['ZERR'][good_centers['SGA_ID'] == sga_id]**2)/np.sum(good_centers['SGA_ID'] == sga_id)"
   ]
  },
  {
   "cell_type": "markdown",
   "id": "9537c66f-55d6-4656-bb7e-94dbb7437cf3",
   "metadata": {},
   "source": [
    "# Coma cluster membership\n",
    "\n",
    "Following Cosmicflows4 (Kourkchi et al. 2020), cluster membership is defined as\n",
    "- $R_p < 1.5R_{2t}$ and $v < V_c \\pm 3\\sigma_p$\n",
    "- $1.5R_{2t} \\leq R_p < 3R_{2t}$ and $v < V_c \\pm 2\\sigma_p$\n",
    "\n",
    "where $R_p$ is the projected distance from the cluster center, $R_{2t}$ is the cluster projected second turnaround radius, $\\sigma_p$ is the projected velocity dispersion of the cluster, and $V_c$ is the average heliocentric radial velocity of the cluster."
   ]
  },
  {
   "cell_type": "code",
   "execution_count": 11,
   "id": "44191133-688b-4fc0-b9f6-ea33131b9892",
   "metadata": {},
   "outputs": [
    {
     "name": "stderr",
     "output_type": "stream",
     "text": [
      "WARNING: VerifyWarning: It is strongly recommended that column names contain only upper and lower-case ASCII letters, digits, or underscores for maximum compatibility with other software (got '<Vcmba>'). [astropy.io.fits.column]\n"
     ]
    },
    {
     "data": {
      "text/html": [
       "<div><i>Table length=5</i>\n",
       "<table id=\"table23456035875856\" class=\"table-striped table-bordered table-condensed\">\n",
       "<thead><tr><th>f_Nest</th><th>Nest</th><th>Nmb</th><th>PGC1</th><th>SGLON</th><th>SGLAT</th><th>logLK</th><th>&lt;Vcmba&gt;</th><th>DM</th><th>sigV</th><th>R2t</th><th>sigP</th><th>Mlum</th><th>CF</th></tr></thead>\n",
       "<thead><tr><th>int16</th><th>int32</th><th>int16</th><th>int32</th><th>float64</th><th>float64</th><th>float64</th><th>int32</th><th>float64</th><th>int16</th><th>float64</th><th>int16</th><th>float64</th><th>float64</th></tr></thead>\n",
       "<tr><td>1</td><td>100001</td><td>136</td><td>44715</td><td>89.6226</td><td>8.1461</td><td>13.15</td><td>7331</td><td>34.33</td><td>886</td><td>2.129</td><td>1045</td><td>1710000000000000.0</td><td>1.65</td></tr>\n",
       "<tr><td>1</td><td>100002</td><td>197</td><td>41220</td><td>103.0008</td><td>-2.3248</td><td>12.69</td><td>1491</td><td>30.87</td><td>670</td><td>1.44</td><td>707</td><td>529000000000000.0</td><td>1.0</td></tr>\n",
       "<tr><td>1</td><td>100003</td><td>113</td><td>43296</td><td>156.2336</td><td>-11.5868</td><td>12.75</td><td>3873</td><td>32.94</td><td>822</td><td>1.52</td><td>746</td><td>623000000000000.0</td><td>1.12</td></tr>\n",
       "<tr><td>1</td><td>100004</td><td>81</td><td>58265</td><td>71.5103</td><td>49.7851</td><td>13.16</td><td>9424</td><td>34.87</td><td>740</td><td>2.153</td><td>1057</td><td>1770000000000000.0</td><td>2.26</td></tr>\n",
       "<tr><td>1</td><td>100005</td><td>61</td><td>36487</td><td>92.0255</td><td>-10.495</td><td>12.78</td><td>6987</td><td>34.22</td><td>707</td><td>1.56</td><td>766</td><td>673000000000000.0</td><td>1.58</td></tr>\n",
       "</table></div>"
      ],
      "text/plain": [
       "<Table length=5>\n",
       "f_Nest  Nest   Nmb   PGC1  SGLON   ...   R2t    sigP        Mlum           CF  \n",
       "int16  int32  int16 int32 float64  ... float64 int16      float64       float64\n",
       "------ ------ ----- ----- -------- ... ------- ----- ------------------ -------\n",
       "     1 100001   136 44715  89.6226 ...   2.129  1045 1710000000000000.0    1.65\n",
       "     1 100002   197 41220 103.0008 ...    1.44   707  529000000000000.0     1.0\n",
       "     1 100003   113 43296 156.2336 ...    1.52   746  623000000000000.0    1.12\n",
       "     1 100004    81 58265  71.5103 ...   2.153  1057 1770000000000000.0    2.26\n",
       "     1 100005    61 36487  92.0255 ...    1.56   766  673000000000000.0    1.58"
      ]
     },
     "execution_count": 11,
     "metadata": {},
     "output_type": "execute_result"
    }
   ],
   "source": [
    "# Data table #3 from Tully (2015)\n",
    "hdu = fits.open('../Tully15-Table3.fits')\n",
    "table3 = Table(hdu[1].data)\n",
    "hdu.close()\n",
    "\n",
    "table3[:5]"
   ]
  },
  {
   "cell_type": "code",
   "execution_count": 12,
   "id": "2e6bf5c3-f30d-42aa-8364-ab75a963bfa6",
   "metadata": {},
   "outputs": [],
   "source": [
    "Coma_nest = 100001\n",
    "\n",
    "Coma_row_t3 = table3['Nest'] == Coma_nest\n",
    "\n",
    "R2t_Coma = table3['R2t'][Coma_row_t3][0]\n",
    "sigma_Coma = table3['sigP'][Coma_row_t3][0]"
   ]
  },
  {
   "cell_type": "code",
   "execution_count": 13,
   "id": "5b584f0b-ecc3-4ad9-a940-a1f8a3ee78eb",
   "metadata": {},
   "outputs": [
    {
     "name": "stderr",
     "output_type": "stream",
     "text": [
      "WARNING: VerifyWarning: Invalid keyword for column 24: ASCII table null option (TNULLn) is longer than the column's character width and will be truncated (got '-32768'). [astropy.io.fits.column]\n"
     ]
    },
    {
     "data": {
      "text/html": [
       "<div><i>Table length=5</i>\n",
       "<table id=\"table23453656533984\" class=\"table-striped table-bordered table-condensed\">\n",
       "<thead><tr><th>_RAJ2000</th><th>_DEJ2000</th><th>N1</th><th>__Dist_</th><th>__DM_</th><th>__Err_</th><th>N2</th><th>GLON</th><th>GLAT</th><th>SGLON</th><th>SGLAT</th><th>GMT</th><th>__Bmag_</th><th>__Kmag_</th><th>__HV_</th><th>__GV_</th><th>__Vls_</th><th>__Vcmb_</th><th>__Vcmba_</th><th>sigma</th><th>__PV_</th><th>__PVa_</th><th>Group</th><th>Ng</th><th>_2M__</th><th>PGCb</th><th>GName</th><th>_2M</th><th>Simbad</th><th>NED</th><th>recno</th></tr></thead>\n",
       "<thead><tr><th>float64</th><th>float64</th><th>int16</th><th>float64</th><th>float64</th><th>float64</th><th>int16</th><th>float64</th><th>float64</th><th>float64</th><th>float64</th><th>int16</th><th>float64</th><th>float64</th><th>int32</th><th>int32</th><th>int32</th><th>int32</th><th>int32</th><th>int16</th><th>int32</th><th>int32</th><th>int16</th><th>int16</th><th>int16</th><th>int32</th><th>str10</th><th>str2</th><th>str6</th><th>str3</th><th>int32</th></tr></thead>\n",
       "<tr><td>266.404996</td><td>-28.936172</td><td>16</td><td>0.01</td><td>14.5</td><td>0.02</td><td>20</td><td>0.0</td><td>0.0</td><td>185.7861</td><td>42.3103</td><td>1</td><td>-6.0</td><td>-9.0</td><td>51</td><td>26</td><td>13</td><td>91</td><td>91</td><td>64</td><td>90</td><td>90</td><td>223</td><td>16</td><td>0</td><td>17223</td><td>Galaxy</td><td>2M</td><td>Simbad</td><td>NED</td><td>1</td></tr>\n",
       "<tr><td>15.693346</td><td>36.392682</td><td>39</td><td>0.76</td><td>24.4</td><td>0.01</td><td>41</td><td>125.479</td><td>-26.423</td><td>322.2989</td><td>9.4579</td><td>2</td><td>3.4</td><td>0.68</td><td>-213</td><td>-49</td><td>17</td><td>-485</td><td>-484</td><td>156</td><td>-541</td><td>-547</td><td>222</td><td>39</td><td>0</td><td>2557</td><td>NGC0224</td><td>2M</td><td>Simbad</td><td>NED</td><td>2</td></tr>\n",
       "<tr><td>149.896678</td><td>-12.831016</td><td>4</td><td>1.37</td><td>25.68</td><td>0.03</td><td>4</td><td>251.1365</td><td>32.2601</td><td>120.502</td><td>-42.5472</td><td>10</td><td>9.75</td><td>9.29</td><td>347</td><td>153</td><td>103</td><td>690</td><td>691</td><td>23</td><td>589</td><td>589</td><td>227</td><td>4</td><td>0</td><td>29128</td><td>NGC003109</td><td>2M</td><td>Simbad</td><td>NED</td><td>3</td></tr>\n",
       "<tr><td>139.011477</td><td>52.840941</td><td>1</td><td>1.37</td><td>25.68</td><td>0.1</td><td>1</td><td>164.6636</td><td>42.8855</td><td>47.6118</td><td>-15.0125</td><td>10</td><td>13.75</td><td>11.5</td><td>-29</td><td>17</td><td>45</td><td>130</td><td>130</td><td>0</td><td>28</td><td>28</td><td>0</td><td>579</td><td>0</td><td>26142</td><td>UGC4879</td><td>2M</td><td>Simbad</td><td>NED</td><td>4</td></tr>\n",
       "<tr><td>243.448636</td><td>54.37081</td><td>1</td><td>1.91</td><td>26.41</td><td>0.08</td><td>1</td><td>83.8788</td><td>44.4092</td><td>56.0935</td><td>40.37</td><td>10</td><td>16.69</td><td>12.9</td><td>-139</td><td>44</td><td>78</td><td>-121</td><td>-120</td><td>0</td><td>-262</td><td>-268</td><td>230</td><td>1</td><td>0</td><td>2801026</td><td>KKR25</td><td>2M</td><td>Simbad</td><td>NED</td><td>5</td></tr>\n",
       "</table></div>"
      ],
      "text/plain": [
       "<Table length=5>\n",
       " _RAJ2000   _DEJ2000    N1  __Dist_  __DM_  ... _2M  Simbad NED  recno\n",
       " float64    float64   int16 float64 float64 ... str2  str6  str3 int32\n",
       "---------- ---------- ----- ------- ------- ... ---- ------ ---- -----\n",
       "266.404996 -28.936172    16    0.01    14.5 ...   2M Simbad  NED     1\n",
       " 15.693346  36.392682    39    0.76    24.4 ...   2M Simbad  NED     2\n",
       "149.896678 -12.831016     4    1.37   25.68 ...   2M Simbad  NED     3\n",
       "139.011477  52.840941     1    1.37   25.68 ...   2M Simbad  NED     4\n",
       "243.448636   54.37081     1    1.91   26.41 ...   2M Simbad  NED     5"
      ]
     },
     "execution_count": 13,
     "metadata": {},
     "output_type": "execute_result"
    }
   ],
   "source": [
    "# Data table #2 from Tully et al. (2013)\n",
    "hdu = fits.open('../Tully13-Table2.fit')\n",
    "table2 = Table(hdu[1].data)\n",
    "hdu.close()\n",
    "\n",
    "table2[:5]"
   ]
  },
  {
   "cell_type": "code",
   "execution_count": 14,
   "id": "6286cb68-b729-4c94-afe4-c828a77cf8c8",
   "metadata": {},
   "outputs": [
    {
     "data": {
      "text/plain": [
       "6899"
      ]
     },
     "execution_count": 14,
     "metadata": {},
     "output_type": "execute_result"
    }
   ],
   "source": [
    "Coma_coords = SkyCoord(table3['SGLON'][Coma_row_t3]*u.degree, \n",
    "                       table3['SGLAT'][Coma_row_t3]*u.degree, \n",
    "                       frame='supergalactic')\n",
    "\n",
    "group_coords = SkyCoord(table2['SGLON']*u.degree, \n",
    "                        table2['SGLAT']*u.degree, \n",
    "                        frame='supergalactic')\n",
    "\n",
    "idx, d2d, d3d = Coma_coords.match_to_catalog_sky(group_coords)\n",
    "\n",
    "V_Coma = table2['__HV_'][idx][0]\n",
    "\n",
    "V_Coma"
   ]
  },
  {
   "cell_type": "markdown",
   "id": "653cc8c1-9d9c-4bb2-b781-f4cfb3838a48",
   "metadata": {},
   "source": [
    "## Calculate the projected distance between the Coma cluster and each SGA galaxy"
   ]
  },
  {
   "cell_type": "code",
   "execution_count": 15,
   "id": "db08cc7e-f5e6-49e2-ac98-c6d95a251a93",
   "metadata": {},
   "outputs": [],
   "source": [
    "# First, we need to convert R2t from Mpc to an angle, using the group's heliocentric velocity\n",
    "R2t_Coma_angle = (R2t_Coma/(V_Coma/H0))*u.radian"
   ]
  },
  {
   "cell_type": "code",
   "execution_count": 16,
   "id": "69576c0e-8d94-4220-b1f7-ffa0fca2e70f",
   "metadata": {},
   "outputs": [],
   "source": [
    "SGA_coords = SkyCoord(SGA['RA'], SGA['DEC'], unit='deg')\n",
    "\n",
    "sep = Coma_coords.separation(SGA_coords)"
   ]
  },
  {
   "cell_type": "code",
   "execution_count": 17,
   "id": "6ca06e0a-e8f1-46c2-97ee-f214fa137238",
   "metadata": {},
   "outputs": [
    {
     "name": "stdout",
     "output_type": "stream",
     "text": [
      "fuji galaxies in Coma with good center observations: 272\n",
      "fuji off-center observations in Coma: 941\n"
     ]
    }
   ],
   "source": [
    "SGA_in_Coma1 = (sep < 1.5*R2t_Coma_angle) & (SGA['Z_DESI']*c > V_Coma - 3*sigma_Coma) & (SGA['Z_DESI']*c < V_Coma + 3*sigma_Coma)\n",
    "\n",
    "SGA_in_Coma2 = (sep >= 1.5*R2t_Coma_angle) & (sep < 3*R2t_Coma_angle) & (SGA['Z_DESI']*c > V_Coma - 2*sigma_Coma) & (SGA['Z_DESI']*c < V_Coma + 2*sigma_Coma)\n",
    "#SGA_in_Coma2 = (sep >= 1.5*R2t_Coma_angle) & (SGA['Z_DESI']*c > V_Coma - 2*sigma_Coma) & (SGA['Z_DESI']*c < V_Coma + 2*sigma_Coma)\n",
    "\n",
    "SGA_in_Coma = SGA_in_Coma1 | SGA_in_Coma2\n",
    "\n",
    "################################################################################\n",
    "# Keep all observations of each galaxy that are within the Coma cluster\n",
    "#-------------------------------------------------------------------------------\n",
    "SGA_ID_in_Coma = SGA['SGA_ID'][SGA_in_Coma]\n",
    "\n",
    "centers_inComa = good_centers[np.in1d(good_centers['SGA_ID'], SGA_ID_in_Coma)]\n",
    "\n",
    "axis_inComa = fuji_axis[np.in1d(fuji_axis['SGA_ID'], SGA_ID_in_Coma)]\n",
    "################################################################################\n",
    "\n",
    "print('fuji galaxies in Coma with good center observations:', len(np.unique(centers_inComa['SGA_ID'])))\n",
    "print('fuji off-center observations in Coma:', len(axis_inComa))"
   ]
  },
  {
   "cell_type": "code",
   "execution_count": 18,
   "id": "9ea3cfa0-2dcf-4d20-b7c8-ccd5f9605be8",
   "metadata": {},
   "outputs": [
    {
     "data": {
      "image/png": "[encoded data removed]",
      "text/plain": [
       "<Figure size 432x288 with 1 Axes>"
      ]
     },
     "metadata": {
      "needs_background": "light"
     },
     "output_type": "display_data"
    }
   ],
   "source": [
    "plt.figure(tight_layout=True)\n",
    "\n",
    "plt.hist(sep[SGA_in_Coma].to_value('degree'))\n",
    "\n",
    "plt.xlabel('SGA-Coma Angular Separation [deg]')\n",
    "plt.ylabel('number of galaxies');"
   ]
  },
  {
   "cell_type": "code",
   "execution_count": 19,
   "id": "c5b373a5-c6bc-48d7-a80b-4b6d6be96cda",
   "metadata": {},
   "outputs": [
    {
     "data": {
      "image/png": "[encoded data removed]",
      "text/plain": [
       "<Figure size 864x360 with 2 Axes>"
      ]
     },
     "metadata": {
      "needs_background": "light"
     },
     "output_type": "display_data"
    }
   ],
   "source": [
    "plt.figure(figsize=(12,5), tight_layout=True)\n",
    "\n",
    "plt.subplot(121)\n",
    "plt.plot(centers_inComa['TARGET_RA'], centers_inComa['TARGET_DEC'], '.')\n",
    "plt.xlabel(r'$\\alpha$ [deg]')\n",
    "plt.ylabel(r'$\\delta$ [deg]')\n",
    "\n",
    "plt.subplot(122)\n",
    "plt.hist(centers_inComa['Z'])\n",
    "plt.xlabel('redshift')\n",
    "plt.ylabel('number of galaxies');"
   ]
  },
  {
   "cell_type": "code",
   "execution_count": 20,
   "id": "8e109e35-f1c2-483d-8c9e-31d61e861a06",
   "metadata": {},
   "outputs": [
    {
     "data": {
      "image/png": "[encoded data removed]",
      "text/plain": [
       "<Figure size 432x288 with 1 Axes>"
      ]
     },
     "metadata": {
      "needs_background": "light"
     },
     "output_type": "display_data"
    }
   ],
   "source": [
    "axis_SGAids, axis_counts = np.unique(axis_inComa['SGA_ID'], return_counts=True)\n",
    "center_SGAids, center_counts = np.unique(centers_inComa['SGA_ID'], return_counts=True)\n",
    "\n",
    "counts = []\n",
    "\n",
    "for sga_id in SGA_ID_in_Coma:\n",
    "    \n",
    "    center_count = 0\n",
    "    axis_count = 0\n",
    "    \n",
    "    if sga_id in center_SGAids:\n",
    "        \n",
    "        center_count = center_counts[center_SGAids == sga_id]\n",
    "        \n",
    "    if sga_id in axis_SGAids:\n",
    "        \n",
    "        axis_count = axis_counts[axis_SGAids == sga_id]\n",
    "        \n",
    "    count = center_count + axis_count\n",
    "    \n",
    "    if count > 1:\n",
    "        \n",
    "        counts.append(count)\n",
    "        \n",
    "\n",
    "plt.figure(tight_layout=True)\n",
    "\n",
    "plt.hist(np.array(counts), bins=np.arange(2,15))\n",
    "\n",
    "plt.xlabel('Observations per SGA_ID in Coma')\n",
    "plt.ylabel('count');"
   ]
  },
  {
   "cell_type": "markdown",
   "id": "3426b07b-c1cc-470f-89be-62b56926fbd4",
   "metadata": {},
   "source": [
    "# Calculate the rotational velocity"
   ]
  },
  {
   "cell_type": "code",
   "execution_count": 21,
   "id": "12a7b557-ca87-44ff-b3c3-b9d8227b4500",
   "metadata": {},
   "outputs": [
    {
     "name": "stderr",
     "output_type": "stream",
     "text": [
      "/tmp/ipykernel_42078/2270156695.py:56: RuntimeWarning: divide by zero encountered in true_divide\n",
      "  axis_inComa['V_ROT'][obs_idx] /= np.sin(np.arccos(np.sqrt(cosi2)))\n"
     ]
    }
   ],
   "source": [
    "axis_inComa['SKY_FIBER_DIST'] = 0.\n",
    "axis_inComa['SKY_FIBER_DIST_R26'] = 0.\n",
    "axis_inComa['V_ROT'] = np.nan\n",
    "axis_inComa['V_ROT_ERR'] = np.nan\n",
    "\n",
    "\n",
    "# For each SGA galaxy that has at least one center observation, calculate the \n",
    "# distance for all of that galaxy's targets\n",
    "for sga_gal in np.unique(centers_inComa['SGA_ID']):\n",
    "    \n",
    "    # Identify all galaxy targets on this galaxy\n",
    "    obs_idx = axis_inComa['SGA_ID'] == sga_gal\n",
    "    \n",
    "    # Find galaxy index in SGA catalog\n",
    "    sga_idx = SGA_dict[sga_gal]\n",
    "    \n",
    "    #---------------------------------------------------------------------------\n",
    "    # Calculate distance between each observation and the center\n",
    "    #---------------------------------------------------------------------------\n",
    "    center_coords = SkyCoord(ra=SGA['RA'][sga_idx], \n",
    "                             dec=SGA['DEC'][sga_idx], \n",
    "                             unit=u.degree)\n",
    "    target_coords = SkyCoord(ra=axis_inComa['RA'][obs_idx], \n",
    "                             dec=axis_inComa['DEC'][obs_idx], \n",
    "                             unit=u.degree)\n",
    "    \n",
    "    sep2d = target_coords.separation(center_coords)\n",
    "    \n",
    "    axis_inComa['SKY_FIBER_DIST'][obs_idx] = sep2d\n",
    "    axis_inComa['SKY_FIBER_DIST_R26'][obs_idx] = 2*sep2d.to('arcmin')/(SGA['D26'][sga_idx]*u.arcmin)\n",
    "    #---------------------------------------------------------------------------\n",
    "    \n",
    "    \n",
    "    #---------------------------------------------------------------------------\n",
    "    # Calculate rotational velocity\n",
    "    #---------------------------------------------------------------------------\n",
    "    # Use the average redshift of all center observations for the systemic velocity\n",
    "    z_center = np.mean(SGA['Z_DESI'][sga_idx])\n",
    "    z_err_center2 = SGA['ZERR_DESI'][sga_idx]**2\n",
    "\n",
    "    # Calculate rotational velocity for all observations of the galaxy\n",
    "    axis_inComa['V_ROT'][obs_idx] = c*(axis_inComa['Z'][obs_idx] - z_center)\n",
    "    axis_inComa['V_ROT_ERR'][obs_idx] = c*np.sqrt(axis_inComa['ZERR'][obs_idx]**2 + z_err_center2)\n",
    "    #---------------------------------------------------------------------------\n",
    "    \n",
    "    \n",
    "    #---------------------------------------------------------------------------\n",
    "    # Correct rotational velocities for inclination angle\n",
    "    #---------------------------------------------------------------------------\n",
    "    cosi2 = (SGA['BA'][sga_idx]**2 - q0**2)/(1 - q0**2)\n",
    "    \n",
    "    # Galaxies with b/a < q0\n",
    "    if cosi2 < 0:\n",
    "        cosi2 = 0\n",
    "    \n",
    "    axis_inComa['V_ROT'][obs_idx] /= np.sin(np.arccos(np.sqrt(cosi2)))\n",
    "    #---------------------------------------------------------------------------"
   ]
  },
  {
   "cell_type": "code",
   "execution_count": 22,
   "id": "9d6d9315-66ae-4f67-9fa4-1a6fff109b90",
   "metadata": {},
   "outputs": [
    {
     "data": {
      "image/png": "[encoded data removed]",
      "text/plain": [
       "<Figure size 432x288 with 1 Axes>"
      ]
     },
     "metadata": {
      "needs_background": "light"
     },
     "output_type": "display_data"
    }
   ],
   "source": [
    "plt.figure(tight_layout=True)\n",
    "\n",
    "plt.hist(np.abs(axis_inComa['V_ROT']), bins=np.linspace(0, 1000, 100))\n",
    "\n",
    "plt.xlabel('$V_{rot} [km/s]')\n",
    "plt.ylabel('number of observations');"
   ]
  },
  {
   "cell_type": "markdown",
   "id": "459c724e-367a-41de-accc-12850f8e30cc",
   "metadata": {},
   "source": [
    "# Cut for Coma galaxies suitable for calibrating the TFR\n",
    "\n",
    "Requirements:\n",
    " * $V_{rot} < 1000$ km/s at $0.33R_{26}$\n",
    " * $i > 45^\\circ$\n",
    " * Spiral-type morphology\n",
    " * Passes visual inspection"
   ]
  },
  {
   "cell_type": "markdown",
   "id": "55e02594-74c0-4737-8279-be97076ab015",
   "metadata": {},
   "source": [
    "## Velocity cut"
   ]
  },
  {
   "cell_type": "code",
   "execution_count": 23,
   "id": "848a3667-c026-4dcd-822c-9714f26ece88",
   "metadata": {},
   "outputs": [
    {
     "name": "stdout",
     "output_type": "stream",
     "text": [
      "198 116\n"
     ]
    }
   ],
   "source": [
    "r0p3 = (axis_inComa['SKY_FIBER_DIST_R26'] > 0.3) & (axis_inComa['SKY_FIBER_DIST_R26'] < 0.4)\n",
    "\n",
    "Vgood = np.abs(axis_inComa['V_ROT']) < 1000\n",
    "\n",
    "good_axis_inComa = axis_inComa[r0p3 & Vgood]\n",
    "\n",
    "print(len(good_axis_inComa), len(np.unique(good_axis_inComa['SGA_ID'])))"
   ]
  },
  {
   "cell_type": "markdown",
   "id": "51dbac88-c153-443a-9633-0a03dc3e3f46",
   "metadata": {},
   "source": [
    "## Inclination angle cut"
   ]
  },
  {
   "cell_type": "code",
   "execution_count": 24,
   "id": "35c0d3ae-3064-4c54-ac91-1f69e184ced1",
   "metadata": {},
   "outputs": [],
   "source": [
    "SGA['cosi2'] = (SGA['BA']**2 - q0**2)/(1 - q0**2)\n",
    "SGA['cosi2'][SGA['cosi2'] < 0] = 0\n",
    "\n",
    "good_axis_inComa['iSGA'] = -1\n",
    "\n",
    "for i in range(len(good_axis_inComa)):\n",
    "    \n",
    "    # Find galaxy in SGA\n",
    "    sga_idx = SGA_dict[good_axis_inComa['SGA_ID'][i]]\n",
    "    \n",
    "    good_axis_inComa['iSGA'][i] = sga_idx\n",
    "    \n",
    "good_axis_inComa['cosi2'] = SGA['cosi2'][good_axis_inComa['iSGA']]"
   ]
  },
  {
   "cell_type": "code",
   "execution_count": 25,
   "id": "082bcddd-b7e8-41c7-88e7-ccb0781eec67",
   "metadata": {},
   "outputs": [
    {
     "name": "stdout",
     "output_type": "stream",
     "text": [
      "155 93\n"
     ]
    }
   ],
   "source": [
    "i_min = 45. # degrees\n",
    "\n",
    "cosi2_max = np.cos(i_min*np.pi/180.)**2\n",
    "\n",
    "edge = good_axis_inComa['cosi2'] <= cosi2_max\n",
    "\n",
    "good_edge_axis_inComa = good_axis_inComa[edge]\n",
    "\n",
    "print(len(good_edge_axis_inComa), len(np.unique(good_edge_axis_inComa['SGA_ID'])))"
   ]
  },
  {
   "cell_type": "code",
   "execution_count": 26,
   "id": "faa9ca20-392c-472c-93d2-809b67bd1eb1",
   "metadata": {},
   "outputs": [
    {
     "data": {
      "image/png": "[encoded data removed]",
      "text/plain": [
       "<Figure size 432x288 with 1 Axes>"
      ]
     },
     "metadata": {
      "needs_background": "light"
     },
     "output_type": "display_data"
    }
   ],
   "source": [
    "plt.figure(tight_layout=True)\n",
    "\n",
    "plt.hist(np.arccos(np.sqrt(good_edge_axis_inComa['cosi2']))*180/np.pi, bins=np.linspace(0, 90, 10))\n",
    "\n",
    "plt.xlabel('inclination angle [deg]')\n",
    "plt.ylabel('number of observations');"
   ]
  },
  {
   "cell_type": "markdown",
   "id": "a1f8d4a7-9e92-4828-b730-a98b24799e4b",
   "metadata": {},
   "source": [
    "## Morphology cut"
   ]
  },
  {
   "cell_type": "code",
   "execution_count": 27,
   "id": "b18aacdc-7dbc-4f15-a03c-6b3f14d72cde",
   "metadata": {
    "tags": []
   },
   "outputs": [],
   "source": [
    "good_edge_axis_inComa['MORPHTYPE'] = SGA['MORPHTYPE'][good_edge_axis_inComa['iSGA']]"
   ]
  },
  {
   "cell_type": "code",
   "execution_count": 28,
   "id": "26587bfd-334d-4692-82e5-f3a9a54cc053",
   "metadata": {
    "tags": []
   },
   "outputs": [
    {
     "name": "stdout",
     "output_type": "stream",
     "text": [
      "--\n",
      "--\n",
      "--\n",
      "84 47\n"
     ]
    }
   ],
   "source": [
    "spirals = np.zeros(len(good_edge_axis_inComa), dtype=bool)\n",
    "\n",
    "for i in range(len(good_edge_axis_inComa)):\n",
    "    \n",
    "    try:    \n",
    "        if (good_edge_axis_inComa['MORPHTYPE'][i][0] == 'S') and (good_edge_axis_inComa['MORPHTYPE'][i][:2] != 'S0'):\n",
    "            spirals[i] = True\n",
    "    except IndexError:\n",
    "        print(good_edge_axis_inComa['MORPHTYPE'][i])\n",
    "\n",
    "good_edge_spirals_axis_inComa = good_edge_axis_inComa[spirals]\n",
    "\n",
    "print(len(good_edge_spirals_axis_inComa), len(np.unique(good_edge_spirals_axis_inComa['SGA_ID'])))"
   ]
  },
  {
   "cell_type": "markdown",
   "id": "345f6c36-5689-4081-a8bc-e64605813b8b",
   "metadata": {},
   "source": [
    "## Visual inspection cut\n",
    "\n",
    "This removes any observations that are contaminated by foreground stars or other galaxies."
   ]
  },
  {
   "cell_type": "code",
   "execution_count": 33,
   "id": "e56ac93d-27c4-413e-a950-96c555260cb9",
   "metadata": {},
   "outputs": [],
   "source": [
    "def get_cutout(targetid, ra, dec, size, verbose=False):\n",
    "    \"\"\"Grab and cache legacy survey cutouts.\n",
    "    \n",
    "    Parameters\n",
    "    ----------\n",
    "    targetid : int\n",
    "        DESI target ID.\n",
    "    ra : float\n",
    "        Right ascension (degrees).\n",
    "    dec : float\n",
    "        Declination (degrees).\n",
    "    verbose : bool\n",
    "        Add some status messages if true.\n",
    "        \n",
    "    Returns\n",
    "    -------\n",
    "    img_name : str\n",
    "        Name of JPG cutout file written after query.\n",
    "    w : astropy.wcs.WCS\n",
    "        World coordinate system for the image.\n",
    "    \"\"\"\n",
    "    # Either load an existing image or download a cutout.\n",
    "    img_name = 'cache/coma_{}.jpg'.format(targetid)\n",
    "    \n",
    "    if os.path.exists(img_name):\n",
    "        if verbose:\n",
    "            print('{} exists.'.format(img_name))\n",
    "    else:\n",
    "        img_url = 'https://www.legacysurvey.org/viewer/cutout.jpg?ra={}&dec={}&zoom=14&layer=ls-dr9&size={}&sga'.format(ra, dec, size)\n",
    "        if verbose:\n",
    "            print('Get {}'.format(img_url))\n",
    "            \n",
    "        with open(img_name, 'wb') as handle: \n",
    "            response = requests.get(img_url, stream=True) \n",
    "            if not response.ok: \n",
    "                print(response) \n",
    "            for block in response.iter_content(1024): \n",
    "                if not block: \n",
    "                    break \n",
    "                handle.write(block)\n",
    "                \n",
    "    # Set up the WCS.\n",
    "    wcs_input_dict = {\n",
    "        'CTYPE1': 'RA---TAN',\n",
    "        'CUNIT1': 'deg',\n",
    "        'CDELT1': -0.262/3600,\n",
    "        'CRPIX1': size/2 + 0.5,\n",
    "        'CRVAL1': ra,\n",
    "        'NAXIS1': size,\n",
    "        'CTYPE2': 'DEC--TAN',\n",
    "        'CUNIT2': 'deg',\n",
    "        'CDELT2': 0.262/3600,\n",
    "        'CRPIX2': size/2 + 0.5,\n",
    "        'CRVAL2': dec,\n",
    "        'NAXIS2': size\n",
    "    }\n",
    "    w = WCS(wcs_input_dict)\n",
    "    \n",
    "    return img_name, w"
   ]
  },
  {
   "cell_type": "code",
   "execution_count": 34,
   "id": "db5fefe4-8a07-41b9-90c8-2b1c6a533ae8",
   "metadata": {},
   "outputs": [],
   "source": [
    "def get_spectra_for_sga(targtab, sga_id):\n",
    "    \"\"\"\n",
    "    Access spectra corresponding to all observations of a given SGA galaxy.\n",
    "    \n",
    "    Parameters\n",
    "    ----------\n",
    "    targtab : astropy.table.Table\n",
    "        List of SGA + TFT observations.\n",
    "    sga_id : int\n",
    "        SGA ID of the central galaxy we're querying.\n",
    "    \"\"\"\n",
    "    prefix = os.environ['DESI_SPECTRO_REDUX']\n",
    "    \n",
    "    targets = targtab[targtab['SGA_ID'] == sga_id]\n",
    "    \n",
    "    targetids = targets['TARGETID']\n",
    "    \n",
    "    coadd_spectra = None\n",
    "    \n",
    "    healpixfile = prefix + '/' + targets['FILENAME'][0]\n",
    "    # Replace \"redrock\" with \"spectra\" in filename\n",
    "    healpixfile_parts = healpixfile.split('redrock')\n",
    "    filename = 'spectra'.join(healpixfile_parts)\n",
    "    \n",
    "    for targetid in targetids:\n",
    "        \n",
    "        # Grab the spectra corresponding to the TARGETID we queried.\n",
    "        fmap = Table.read(filename, 'FIBERMAP')\n",
    "        in1d = np.in1d(fmap['TARGETID'], targetid)\n",
    "\n",
    "        # If we have something, read in the spectra and coadd across b,r,z cameras.\n",
    "        if np.any(in1d):\n",
    "            spectra = read_spectra(filename)[in1d]\n",
    "            coadds = coadd_cameras(spectra)\n",
    "            coadds.scores = None\n",
    "\n",
    "            # Store the coadded spectra in a data structure.\n",
    "            if coadd_spectra is None:\n",
    "                coadd_spectra = coadds\n",
    "            else:\n",
    "                coadd_spectra = specstack([coadd_spectra, coadds])\n",
    "                    \n",
    "    return coadd_spectra"
   ]
  },
  {
   "cell_type": "code",
   "execution_count": 181,
   "id": "310f4ec6-b02e-4059-a8f3-eb6def8e3fb1",
   "metadata": {},
   "outputs": [
    {
     "data": {
      "text/plain": [
       "'/global/cfs/cdirs/desi/spectro/redux/fuji/healpix/sv3/dark/264/26436/spectra-sv3-dark-26436.fits'"
      ]
     },
     "execution_count": 181,
     "metadata": {},
     "output_type": "execute_result"
    }
   ],
   "source": [
    "prefix = os.environ['DESI_SPECTRO_REDUX']\n",
    "healpixfile = prefix + '/' + good_edge_spirals_axis_inComa['FILENAME'][0]\n",
    "\n",
    "healpixfile_parts = healpixfile.split('redrock')\n",
    "filename = 'spectra'.join(healpixfile_parts)\n",
    "filename"
   ]
  },
  {
   "cell_type": "code",
   "execution_count": 177,
   "id": "019d5b49-c9bd-48f4-bca0-1013323fbc67",
   "metadata": {},
   "outputs": [
    {
     "data": {
      "text/html": [
       "<div><i>Table length=5</i>\n",
       "<table id=\"table23453423255808\" class=\"table-striped table-bordered table-condensed\">\n",
       "<thead><tr><th>TARGETID</th><th>COADD_FIBERSTATUS</th><th>TARGET_RA</th><th>TARGET_DEC</th><th>PMRA</th><th>PMDEC</th><th>REF_EPOCH</th><th>FA_TARGET</th><th>FA_TYPE</th><th>OBJTYPE</th><th>SUBPRIORITY</th><th>OBSCONDITIONS</th><th>RELEASE</th><th>BRICKNAME</th><th>BRICKID</th><th>BRICK_OBJID</th><th>MORPHTYPE</th><th>EBV</th><th>FLUX_G</th><th>FLUX_R</th><th>FLUX_Z</th><th>FLUX_W1</th><th>FLUX_W2</th><th>FLUX_IVAR_G</th><th>FLUX_IVAR_R</th><th>FLUX_IVAR_Z</th><th>FLUX_IVAR_W1</th><th>FLUX_IVAR_W2</th><th>FIBERFLUX_G</th><th>FIBERFLUX_R</th><th>FIBERFLUX_Z</th><th>FIBERTOTFLUX_G</th><th>FIBERTOTFLUX_R</th><th>FIBERTOTFLUX_Z</th><th>MASKBITS</th><th>SERSIC</th><th>SHAPE_R</th><th>SHAPE_E1</th><th>SHAPE_E2</th><th>REF_ID</th><th>REF_CAT</th><th>GAIA_PHOT_G_MEAN_MAG</th><th>GAIA_PHOT_BP_MEAN_MAG</th><th>GAIA_PHOT_RP_MEAN_MAG</th><th>PARALLAX</th><th>PHOTSYS</th><th>PRIORITY_INIT</th><th>NUMOBS_INIT</th><th>SV3_DESI_TARGET</th><th>SV3_BGS_TARGET</th><th>SV3_MWS_TARGET</th><th>SV3_SCND_TARGET</th><th>DESI_TARGET</th><th>BGS_TARGET</th><th>MWS_TARGET</th><th>PLATE_RA</th><th>PLATE_DEC</th><th>COADD_NUMEXP</th><th>COADD_EXPTIME</th><th>COADD_NUMNIGHT</th><th>COADD_NUMTILE</th><th>MEAN_DELTA_X</th><th>RMS_DELTA_X</th><th>MEAN_DELTA_Y</th><th>RMS_DELTA_Y</th><th>MEAN_FIBER_RA</th><th>STD_FIBER_RA</th><th>MEAN_FIBER_DEC</th><th>STD_FIBER_DEC</th><th>MEAN_PSF_TO_FIBER_SPECFLUX</th></tr></thead>\n",
       "<thead><tr><th>int64</th><th>int32</th><th>float64</th><th>float64</th><th>float32</th><th>float32</th><th>float32</th><th>int64</th><th>uint8</th><th>str3</th><th>float64</th><th>int32</th><th>int16</th><th>str8</th><th>int32</th><th>int32</th><th>str4</th><th>float32</th><th>float32</th><th>float32</th><th>float32</th><th>float32</th><th>float32</th><th>float32</th><th>float32</th><th>float32</th><th>float32</th><th>float32</th><th>float32</th><th>float32</th><th>float32</th><th>float32</th><th>float32</th><th>float32</th><th>int16</th><th>float32</th><th>float32</th><th>float32</th><th>float32</th><th>int64</th><th>str2</th><th>float32</th><th>float32</th><th>float32</th><th>float32</th><th>str1</th><th>int64</th><th>int64</th><th>int64</th><th>int64</th><th>int64</th><th>int64</th><th>int64</th><th>int64</th><th>int64</th><th>float64</th><th>float64</th><th>int16</th><th>float32</th><th>int16</th><th>int16</th><th>float32</th><th>float32</th><th>float32</th><th>float32</th><th>float64</th><th>float32</th><th>float64</th><th>float32</th><th>float32</th></tr></thead>\n",
       "<tr><td>616088697334399156</td><td>520</td><td>209.12752772421152</td><td>6.410584516492193</td><td>0.0</td><td>0.0</td><td>0.0</td><td>4294967296</td><td>4</td><td>SKY</td><td>0.9066291672961018</td><td>63</td><td>9010</td><td>2090p065</td><td>368587</td><td>180</td><td></td><td>0.0</td><td>0.0</td><td>0.0</td><td>0.0</td><td>0.0</td><td>0.0</td><td>0.0</td><td>0.0</td><td>0.0</td><td>0.0</td><td>0.0</td><td>-0.020125763</td><td>0.009546245</td><td>0.06396366</td><td>0.0</td><td>0.0</td><td>0.0</td><td>0</td><td>0.0</td><td>0.0</td><td>0.0</td><td>0.0</td><td>0</td><td></td><td>0.0</td><td>0.0</td><td>0.0</td><td>0.0</td><td></td><td>-1</td><td>-1</td><td>0</td><td>0</td><td>0</td><td>0</td><td>4294967296</td><td>0</td><td>0</td><td>209.12752772421152</td><td>6.410584516492193</td><td>0</td><td>0.0</td><td>0</td><td>0</td><td>4.3144</td><td>4.3189435</td><td>-1.348</td><td>1.9717308</td><td>209.14440190748215</td><td>3.450375</td><td>6.416250957764026</td><td>19.443842</td><td>0.0</td></tr>\n",
       "<tr><td>39627939024736929</td><td>0</td><td>209.1267773710904</td><td>6.350704039714492</td><td>0.0</td><td>0.0</td><td>2015.5</td><td>917542</td><td>1</td><td>TGT</td><td>0.18166278186329954</td><td>1</td><td>9010</td><td>2090p062</td><td>367155</td><td>4769</td><td>PSF</td><td>0.022475665</td><td>0.4529751</td><td>0.66161865</td><td>1.3969569</td><td>9.206186</td><td>8.947904</td><td>1118.481</td><td>394.3473</td><td>51.64261</td><td>3.1600814</td><td>0.72080106</td><td>0.35264492</td><td>0.5150757</td><td>1.0875427</td><td>0.35264492</td><td>0.5150757</td><td>1.0875427</td><td>0</td><td>0.0</td><td>0.0</td><td>0.0</td><td>0.0</td><td>0</td><td></td><td>0.0</td><td>0.0</td><td>0.0</td><td>0.0</td><td>S</td><td>103400</td><td>9</td><td>917542</td><td>0</td><td>0</td><td>0</td><td>0</td><td>0</td><td>0</td><td>209.1267773710904</td><td>6.350704039714492</td><td>5</td><td>4521.3984</td><td>2</td><td>1</td><td>-0.0032</td><td>0.0069856998</td><td>-0.0022</td><td>0.0079120165</td><td>209.1267652968877</td><td>0.08376559</td><td>6.3507118589016205</td><td>0.1002384</td><td>0.789</td></tr>\n",
       "<tr><td>39627945035171615</td><td>0</td><td>209.25027532857288</td><td>6.481766926892227</td><td>0.0</td><td>0.0</td><td>2015.5</td><td>262148</td><td>1</td><td>TGT</td><td>0.9149535098305807</td><td>1</td><td>9010</td><td>2092p065</td><td>368588</td><td>1823</td><td>PSF</td><td>0.027071916</td><td>0.8902371</td><td>1.184852</td><td>1.0170246</td><td>5.259812</td><td>3.9658449</td><td>1025.4246</td><td>381.011</td><td>51.756805</td><td>3.2259233</td><td>0.73789996</td><td>0.6921902</td><td>0.9212635</td><td>0.7907719</td><td>0.6921902</td><td>0.9212635</td><td>0.7907719</td><td>256</td><td>0.0</td><td>0.0</td><td>0.0</td><td>0.0</td><td>0</td><td></td><td>0.0</td><td>0.0</td><td>0.0</td><td>0.0</td><td>S</td><td>103400</td><td>4</td><td>262148</td><td>0</td><td>0</td><td>0</td><td>0</td><td>0</td><td>0</td><td>209.25027532857288</td><td>6.481766926892227</td><td>5</td><td>4521.3984</td><td>2</td><td>1</td><td>-0.0026</td><td>0.0038209946</td><td>-0.0018</td><td>0.008590693</td><td>209.2502654641341</td><td>0.03529575</td><td>6.481773252242637</td><td>0.11086226</td><td>0.789</td></tr>\n",
       "<tr><td>-1364489</td><td>515</td><td>209.16330583848273</td><td>6.356433689461234</td><td>0.0</td><td>0.0</td><td>0.0</td><td>0</td><td>0</td><td></td><td>0.0</td><td>0</td><td>0</td><td></td><td>0</td><td>0</td><td></td><td>0.0</td><td>0.0</td><td>0.0</td><td>0.0</td><td>0.0</td><td>0.0</td><td>0.0</td><td>0.0</td><td>0.0</td><td>0.0</td><td>0.0</td><td>0.0</td><td>0.0</td><td>0.0</td><td>0.0</td><td>0.0</td><td>0.0</td><td>0</td><td>0.0</td><td>0.0</td><td>0.0</td><td>0.0</td><td>0</td><td></td><td>0.0</td><td>0.0</td><td>0.0</td><td>0.0</td><td></td><td>0</td><td>0</td><td>0</td><td>0</td><td>0</td><td>0</td><td>0</td><td>0</td><td>0</td><td>209.16330583848273</td><td>6.356433689461234</td><td>0</td><td>0.0</td><td>0</td><td>0</td><td>1.8114</td><td>1.8115621</td><td>0.2172</td><td>0.21720313</td><td>209.17031355514214</td><td>0.34138113</td><td>6.355864471897507</td><td>0.025794506</td><td>0.0</td></tr>\n",
       "<tr><td>-1364520</td><td>523</td><td>209.1814640381792</td><td>6.427136173002397</td><td>0.0</td><td>0.0</td><td>0.0</td><td>0</td><td>0</td><td></td><td>0.0</td><td>0</td><td>0</td><td></td><td>0</td><td>0</td><td></td><td>0.0</td><td>0.0</td><td>0.0</td><td>0.0</td><td>0.0</td><td>0.0</td><td>0.0</td><td>0.0</td><td>0.0</td><td>0.0</td><td>0.0</td><td>0.0</td><td>0.0</td><td>0.0</td><td>0.0</td><td>0.0</td><td>0.0</td><td>0</td><td>0.0</td><td>0.0</td><td>0.0</td><td>0.0</td><td>0</td><td></td><td>0.0</td><td>0.0</td><td>0.0</td><td>0.0</td><td></td><td>0</td><td>0</td><td>0</td><td>0</td><td>0</td><td>0</td><td>0</td><td>0</td><td>0</td><td>209.1814640381792</td><td>6.427136173002397</td><td>0</td><td>0.0</td><td>0</td><td>0</td><td>-2.113</td><td>2.1131465</td><td>-0.4518</td><td>0.45180815</td><td>209.17334471068298</td><td>0.34953636</td><td>6.42851646775181</td><td>0.040890496</td><td>0.0</td></tr>\n",
       "</table></div>"
      ],
      "text/plain": [
       "<Table length=5>\n",
       "     TARGETID      COADD_FIBERSTATUS ... MEAN_PSF_TO_FIBER_SPECFLUX\n",
       "      int64              int32       ...          float32          \n",
       "------------------ ----------------- ... --------------------------\n",
       "616088697334399156               520 ...                        0.0\n",
       " 39627939024736929                 0 ...                      0.789\n",
       " 39627945035171615                 0 ...                      0.789\n",
       "          -1364489               515 ...                        0.0\n",
       "          -1364520               523 ...                        0.0"
      ]
     },
     "execution_count": 177,
     "metadata": {},
     "output_type": "execute_result"
    }
   ],
   "source": [
    "Table(fibermap[:5])"
   ]
  },
  {
   "cell_type": "code",
   "execution_count": 183,
   "id": "72c5b1cb-69cd-41b7-92e2-f96d00acab36",
   "metadata": {},
   "outputs": [
    {
     "name": "stdout",
     "output_type": "stream",
     "text": [
      "cache/coma_39627776214435213.jpg exists.\n",
      "INFO:spectra.py:291:read_spectra: iotime 4.317 sec to read spectra-sv3-bright-26004.fits at 2022-09-02T16:10:03.413145\n"
     ]
    },
    {
     "ename": "TypeError",
     "evalue": "'AxesSubplot' object is not subscriptable",
     "output_type": "error",
     "traceback": [
      "\u001b[0;31m---------------------------------------------------------------------------\u001b[0m",
      "\u001b[0;31mTypeError\u001b[0m                                 Traceback (most recent call last)",
      "\u001b[0;32m/tmp/ipykernel_63804/1964328866.py\u001b[0m in \u001b[0;36m<module>\u001b[0;34m\u001b[0m\n\u001b[1;32m     88\u001b[0m         \u001b[0msmoothed\u001b[0m \u001b[0;34m=\u001b[0m \u001b[0mgaussian_filter1d\u001b[0m\u001b[0;34m(\u001b[0m\u001b[0mflux\u001b[0m\u001b[0;34m,\u001b[0m \u001b[0;36m7\u001b[0m\u001b[0;34m)\u001b[0m\u001b[0;34m\u001b[0m\u001b[0;34m\u001b[0m\u001b[0m\n\u001b[1;32m     89\u001b[0m \u001b[0;34m\u001b[0m\u001b[0m\n\u001b[0;32m---> 90\u001b[0;31m         \u001b[0max\u001b[0m \u001b[0;34m=\u001b[0m \u001b[0maxes\u001b[0m\u001b[0;34m[\u001b[0m\u001b[0mi\u001b[0m\u001b[0;34m]\u001b[0m\u001b[0;34m\u001b[0m\u001b[0;34m\u001b[0m\u001b[0m\n\u001b[0m\u001b[1;32m     91\u001b[0m         \u001b[0max\u001b[0m\u001b[0;34m.\u001b[0m\u001b[0mplot\u001b[0m\u001b[0;34m(\u001b[0m\u001b[0mwave\u001b[0m\u001b[0;34m,\u001b[0m \u001b[0msmoothed\u001b[0m\u001b[0;34m,\u001b[0m \u001b[0mlabel\u001b[0m\u001b[0;34m=\u001b[0m\u001b[0;34m'TARGETID: {}'\u001b[0m\u001b[0;34m.\u001b[0m\u001b[0mformat\u001b[0m\u001b[0;34m(\u001b[0m\u001b[0mcoadds\u001b[0m\u001b[0;34m.\u001b[0m\u001b[0mfibermap\u001b[0m\u001b[0;34m[\u001b[0m\u001b[0;34m'TARGETID'\u001b[0m\u001b[0;34m]\u001b[0m\u001b[0;34m[\u001b[0m\u001b[0mi\u001b[0m\u001b[0;34m]\u001b[0m\u001b[0;34m)\u001b[0m\u001b[0;34m)\u001b[0m\u001b[0;34m\u001b[0m\u001b[0;34m\u001b[0m\u001b[0m\n\u001b[1;32m     92\u001b[0m         \u001b[0max\u001b[0m\u001b[0;34m.\u001b[0m\u001b[0mset\u001b[0m\u001b[0;34m(\u001b[0m\u001b[0mylabel\u001b[0m\u001b[0;34m=\u001b[0m\u001b[0;34mr'flux [$10^{-17}$ erg cm$^{-2}$ s$^{-1}$ $\\AA^{-1}$]'\u001b[0m\u001b[0;34m)\u001b[0m\u001b[0;34m\u001b[0m\u001b[0;34m\u001b[0m\u001b[0m\n",
      "\u001b[0;31mTypeError\u001b[0m: 'AxesSubplot' object is not subscriptable"
     ]
    },
    {
     "data": {
      "image/png": "[encoded data removed]",
      "text/plain": [
       "<Figure size 576x288 with 1 Axes>"
      ]
     },
     "metadata": {
      "needs_background": "light"
     },
     "output_type": "display_data"
    }
   ],
   "source": [
    "for sga_id in np.unique(good_edge_spirals_axis_inComa['SGA_ID']):\n",
    "    \n",
    "    tf_list = good_edge_spirals_axis_inComa[good_edge_spirals_axis_inComa['SGA_ID'] == sga_id]\n",
    "    center_list = centers_inComa[centers_inComa['SGA_ID'] == sga_id]\n",
    "    \n",
    "    try:\n",
    "        targetid = int(center_list['TARGETID'][0])\n",
    "    except TypeError as err:\n",
    "        print(err)\n",
    "        # print(sga_galaxy['TARGETID'])\n",
    "        continue\n",
    "    \n",
    "    ra, dec, z = float(SGA['RA'][SGA_dict[sga_id]]), float(SGA['DEC'][SGA_dict[sga_id]]), float(SGA['Z_DESI'][SGA_dict[sga_id]])\n",
    "    \n",
    "    # D26 in arcmin\n",
    "    d26 = SGA['D26'][SGA_dict[sga_id]]\n",
    "    \n",
    "    # Padd the image cutout of the galaxy.\n",
    "    # Multiply by 60 (to arcsec), divide by 180 to get pixscale.\n",
    "#     pixscale = 1.05*d26*60/180\n",
    "    npix = np.minimum(int(1.025 * d26*60/0.262), 512)\n",
    "    \n",
    "    #print(targetid, sga_id, ra, dec)\n",
    "#     img_file = get_cutout(targetid, ra, dec, size=npix, verbose=True)\n",
    "    img_file, wcs = get_cutout(targetid, ra, dec, size=npix, verbose=True)\n",
    "    img = mpl.image.imread(img_file)\n",
    "\n",
    "    fig1 = plt.figure(figsize=(7,5))\n",
    "\n",
    "    ax = fig1.add_subplot(111, projection=wcs)\n",
    "    ax.imshow(np.flip(img, axis=0))\n",
    "    ax.set(xlabel='ra', ylabel='dec')\n",
    "    ax.text(int(0.02*npix), int(0.85*npix), 'TARGETID: {}\\nSGA_ID: {}\\n$z={{{:.4f}}}$'.format(targetid, sga_id, z), fontsize=9, color='yellow')\n",
    "    overlay = ax.get_coords_overlay('icrs')\n",
    "    overlay.grid(color='white', ls='dotted');\n",
    "\n",
    "    # Add the location of the DESI fibers.\n",
    "    # SDSS fibers are 2\" diameter, DESI is 107 um with 70 um/\" plate scale.\n",
    "    r1 = SphericalCircle((ra * u.deg, dec * u.deg), (107./70) * u.arcsec,\n",
    "                         edgecolor='black', facecolor='none', alpha=0.8, lw=3,\n",
    "                         transform=ax.get_transform('icrs'))\n",
    "    r2 = SphericalCircle((ra * u.deg, dec * u.deg), (107./70) * u.arcsec,\n",
    "                         edgecolor='red', facecolor='none', alpha=0.8, lw=2,\n",
    "                         transform=ax.get_transform('icrs'))\n",
    "    ax.add_patch(r1)\n",
    "    ax.add_patch(r2)\n",
    "\n",
    "    for tft in tf_list:\n",
    "        ra, dec = tft['RA'], tft['DEC']\n",
    "        \n",
    "        edgecolor2 = 'orange'\n",
    "#         if tft['Z'] > 0.05:\n",
    "#             edgecolor2 = 'orange'\n",
    "#         else:\n",
    "#             edgecolor2 = 'lime'\n",
    "        \n",
    "        # Add the location of the DESI fibers.\n",
    "        # SDSS fibers are 2\" diameter, DESI is 107 um with 70 um/\" plate scale.\n",
    "        r1 = SphericalCircle((ra * u.deg, dec * u.deg), (107./70) * u.arcsec,\n",
    "                             edgecolor='lightcoral', facecolor='none', alpha=1, lw=3,\n",
    "                             transform=ax.get_transform('icrs'))\n",
    "        r2 = SphericalCircle((ra * u.deg, dec * u.deg), (107./70) * u.arcsec,\n",
    "                             edgecolor=edgecolor2, facecolor='none', alpha=0.8, lw=2,\n",
    "                             transform=ax.get_transform('icrs'))\n",
    "        ax.add_patch(r1)\n",
    "        ax.add_patch(r2)\n",
    "        \n",
    "        ax.text(ra, dec, str(tft['TARGETID']), transform=ax.get_transform('icrs'), color='white')\n",
    "    \n",
    "    fig1.subplots_adjust(top=0.85, right=0.85, bottom=0.15, left=0.15)\n",
    "    \n",
    "    fig1.savefig('cache/fuji_VI_cutouts/dist_{}.png'.format(sga_id), dpi=120)\n",
    "    \n",
    "    fig1.clear()\n",
    "    plt.close(fig1)\n",
    "    \n",
    "    #----------------------------------------------------------------------------------\n",
    "    # Get spectra\n",
    "    #----------------------------------------------------------------------------------\n",
    "    coadds = get_spectra_for_sga(good_edge_spirals_axis_inComa, sga_id)\n",
    "    n = coadds.num_spectra()\n",
    "\n",
    "    fig2, axes = plt.subplots(n,1, figsize=(8,4*n), sharex=True, sharey=True, tight_layout=True)\n",
    "\n",
    "    for i in range(n):\n",
    "        wave = coadds.wave['brz']\n",
    "        flux = coadds.flux['brz'][i]\n",
    "        smoothed = gaussian_filter1d(flux, 7)\n",
    "\n",
    "        ax = axes[i]\n",
    "        ax.plot(wave, smoothed, label='TARGETID: {}'.format(coadds.fibermap['TARGETID'][i]))\n",
    "        ax.set(ylabel=r'flux [$10^{-17}$ erg cm$^{-2}$ s$^{-1}$ $\\AA^{-1}$]')\n",
    "        if i+1 == n:\n",
    "            ax.set(xlabel=r'$\\lambda_\\mathrm{obs}$ [$\\AA$]')\n",
    "\n",
    "        ax.legend(loc='upper right', fontsize=10)\n",
    "    \n",
    "    # figure = PdfPages('cache/DM_cutouts/dist_{}.pdf'.format(sga_id))\n",
    "    # figure.savefig(fig1, dpi = 300)\n",
    "    # figure.savefig(fig2, dpi = 120)\n",
    "    # figure.close()\n",
    "    \n",
    "    break"
   ]
  },
  {
   "cell_type": "code",
   "execution_count": 157,
   "id": "150f5117-c843-45f2-808a-9223a445447f",
   "metadata": {},
   "outputs": [
    {
     "data": {
      "text/html": [
       "<i>Table length=15</i>\n",
       "<table id=\"table23453310238784-767535\" class=\"table-striped table-bordered table-condensed\">\n",
       "<thead><tr><th>idx</th><th>SGA_ID</th><th>TARGETID</th><th>V_ROT</th><th>V_ROT_ERR</th><th>DELTACHI2</th><th>ZWARN</th></tr></thead>\n",
       "<tr><td>0</td><td>995924</td><td>1070754141569028</td><td>17.571125346097485</td><td>21.003469221556795</td><td>19.8726227926818</td><td>0</td></tr>\n",
       "<tr><td>1</td><td>753564</td><td>1070904599642122</td><td>137.11794276505077</td><td>9.207426499478995</td><td>23.3235285411356</td><td>0</td></tr>\n",
       "<tr><td>2</td><td>309306</td><td>1070791382794244</td><td>-121.5193910387515</td><td>39.68187906514647</td><td>0.593376715383783</td><td>4</td></tr>\n",
       "<tr><td>3</td><td>1203610</td><td>1083953654005766</td><td>-124.65685204301192</td><td>81.55365475426971</td><td>8.10986349853374</td><td>4</td></tr>\n",
       "<tr><td>4</td><td>648038</td><td>1070132147257347</td><td>-74.05317133985841</td><td>17.050962683502476</td><td>2.73333310701128</td><td>4</td></tr>\n",
       "<tr><td>5</td><td>378842</td><td>1070770180587525</td><td>-47.53240647746261</td><td>6.595709823482317</td><td>16.4722181012621</td><td>0</td></tr>\n",
       "<tr><td>6</td><td>1284002</td><td>1083969630109699</td><td>252.8367987117306</td><td>14.524998004737679</td><td>4.11376016720897</td><td>4</td></tr>\n",
       "<tr><td>7</td><td>221178</td><td>1070754120597506</td><td>83.41458816190628</td><td>3.218369759281241</td><td>129.990765841678</td><td>2048</td></tr>\n",
       "<tr><td>8</td><td>364929</td><td>1070796663422977</td><td>-48.46859963723876</td><td>23.446064779924328</td><td>14.7342141652625</td><td>0</td></tr>\n",
       "<tr><td>9</td><td>1363060</td><td>1070187109416968</td><td>61.84505884083363</td><td>10.260733096055137</td><td>12.2324002060341</td><td>0</td></tr>\n",
       "<tr><td>10</td><td>1387991</td><td>1070759522861059</td><td>-11.989635383290423</td><td>14.514991053243492</td><td>12.6502091591829</td><td>0</td></tr>\n",
       "<tr><td>11</td><td>826543</td><td>1083953649811477</td><td>115.11908171082041</td><td>17.6651716015166</td><td>22.7204089702573</td><td>2048</td></tr>\n",
       "<tr><td>12</td><td>218056</td><td>1070078275616770</td><td>86.34884076980197</td><td>12.151275918759195</td><td>17.4302599397488</td><td>0</td></tr>\n",
       "<tr><td>13</td><td>202666</td><td>1083953649811470</td><td>47.49399217038372</td><td>29.896853963273433</td><td>19.1482516322721</td><td>0</td></tr>\n",
       "<tr><td>14</td><td>189685</td><td>1070078275616777</td><td>-158.26222682533978</td><td>16.99652475606747</td><td>10.0879544758936</td><td>0</td></tr>\n",
       "</table><style>table.dataTable {clear: both; width: auto !important; margin: 0 !important;}\n",
       ".dataTables_info, .dataTables_length, .dataTables_filter, .dataTables_paginate{\n",
       "display: inline-block; margin-right: 1em; }\n",
       ".paginate_button { margin-right: 5px; }\n",
       "</style>\n",
       "<script>\n",
       "\n",
       "var astropy_sort_num = function(a, b) {\n",
       "    var a_num = parseFloat(a);\n",
       "    var b_num = parseFloat(b);\n",
       "\n",
       "    if (isNaN(a_num) && isNaN(b_num))\n",
       "        return ((a < b) ? -1 : ((a > b) ? 1 : 0));\n",
       "    else if (!isNaN(a_num) && !isNaN(b_num))\n",
       "        return ((a_num < b_num) ? -1 : ((a_num > b_num) ? 1 : 0));\n",
       "    else\n",
       "        return isNaN(a_num) ? -1 : 1;\n",
       "}\n",
       "\n",
       "require.config({paths: {\n",
       "    datatables: 'https://cdn.datatables.net/1.10.12/js/jquery.dataTables.min'\n",
       "}});\n",
       "require([\"datatables\"], function(){\n",
       "    console.log(\"$('#table23453310238784-767535').dataTable()\");\n",
       "    \n",
       "jQuery.extend( jQuery.fn.dataTableExt.oSort, {\n",
       "    \"optionalnum-asc\": astropy_sort_num,\n",
       "    \"optionalnum-desc\": function (a,b) { return -astropy_sort_num(a, b); }\n",
       "});\n",
       "\n",
       "    $('#table23453310238784-767535').dataTable({\n",
       "        order: [],\n",
       "        pageLength: 50,\n",
       "        lengthMenu: [[10, 25, 50, 100, 500, 1000, -1], [10, 25, 50, 100, 500, 1000, 'All']],\n",
       "        pagingType: \"full_numbers\",\n",
       "        columnDefs: [{targets: [0, 1, 2, 3, 4, 5, 6], type: \"optionalnum\"}]\n",
       "    });\n",
       "});\n",
       "</script>\n"
      ],
      "text/plain": [
       "<IPython.core.display.HTML object>"
      ]
     },
     "execution_count": 157,
     "metadata": {},
     "output_type": "execute_result"
    }
   ],
   "source": [
    "good_edge_spirals_axis_inComa['SGA_ID', 'TARGETID', 'V_ROT', 'V_ROT_ERR', 'DELTACHI2', 'ZWARN'][(good_edge_spirals_axis_inComa['DELTACHI2'] < 25) | (good_edge_spirals_axis_inComa['ZWARN'] != 0)].show_in_notebook()"
   ]
  },
  {
   "cell_type": "code",
   "execution_count": 29,
   "id": "8bf1f30e-5953-429e-8f8c-45289d5a7f8d",
   "metadata": {},
   "outputs": [
    {
     "name": "stdout",
     "output_type": "stream",
     "text": [
      "84 47\n"
     ]
    }
   ],
   "source": [
    "VI_remove = Table.read('fuji_Coma_VI.txt', format='ascii.commented_header')\n",
    "\n",
    "remove_targets = np.zeros(len(good_edge_spirals_axis_inComa), dtype=bool)\n",
    "\n",
    "for targetid in VI_remove['TARGETID']:\n",
    "    \n",
    "    remove_targets = remove_targets & (good_edge_spirals_axis_inComa['TARGETID'] == targetid)\n",
    "    \n",
    "VI_good_edge_spirals_axis_inComa = good_edge_spirals_axis_inComa[~remove_targets]\n",
    "\n",
    "print(len(VI_good_edge_spirals_axis_inComa), len(np.unique(VI_good_edge_spirals_axis_inComa['SGA_ID'])))"
   ]
  },
  {
   "cell_type": "markdown",
   "id": "e2227c26-5144-4307-bb00-de22e6b5994e",
   "metadata": {},
   "source": [
    "# Coma TFR"
   ]
  },
  {
   "cell_type": "markdown",
   "id": "28b329bd-ef73-49cf-a423-17637416a3cd",
   "metadata": {},
   "source": [
    "## Compute the weighted average velocity for those galaxies with more than one observation at $0.33R_{26}$:\n",
    "\n",
    "\\begin{equation}\n",
    "  \\bar{v} = \\frac{\\sum_i w_i v_i}{\\sum_i w_i}\n",
    "\\end{equation}\n",
    "where $w_i = 1/\\sigma^2$."
   ]
  },
  {
   "cell_type": "code",
   "execution_count": 30,
   "id": "ab67b9c8-b8b7-46c7-af40-3813763c65e1",
   "metadata": {},
   "outputs": [],
   "source": [
    "SGA['V_0p33R26'] = np.nan\n",
    "SGA['V_0p33R26_err'] = np.nan\n",
    "\n",
    "weights = 1./(VI_good_edge_spirals_axis_inComa['V_ROT_ERR']**2)\n",
    "\n",
    "for sga_id in np.unique(VI_good_edge_spirals_axis_inComa['SGA_ID']):\n",
    "    \n",
    "    # Identify all galaxy targets on this galaxy\n",
    "    obs_idx = VI_good_edge_spirals_axis_inComa['SGA_ID'] == sga_id\n",
    "    \n",
    "    SGA['V_0p33R26'][SGA_dict[sga_id]] = np.average(np.abs(VI_good_edge_spirals_axis_inComa['V_ROT'][obs_idx]), \n",
    "                                                    weights=weights[obs_idx])\n",
    "\n",
    "    SGA['V_0p33R26_err'][SGA_dict[sga_id]] = np.sqrt(1./np.sum(weights[obs_idx]))"
   ]
  },
  {
   "cell_type": "code",
   "execution_count": 31,
   "id": "0f235e6b-855e-422f-a8ba-2be7c7fd45e9",
   "metadata": {},
   "outputs": [],
   "source": [
    "# Make a catalog of just those galaxies with velocities\n",
    "SGA_TF = SGA[np.isfinite(SGA['V_0p33R26']) & (SGA['R_MAG_SB26'] > 0)]"
   ]
  },
  {
   "cell_type": "code",
   "execution_count": 32,
   "id": "e30c4a9b-a6b8-4f42-ad98-e2c727302204",
   "metadata": {},
   "outputs": [
    {
     "data": {
      "image/png": "[encoded data removed]",
      "text/plain": [
       "<Figure size 288x360 with 1 Axes>"
      ]
     },
     "metadata": {
      "needs_background": "light"
     },
     "output_type": "display_data"
    }
   ],
   "source": [
    "plt.figure(figsize=(4,5), tight_layout=True)\n",
    "\n",
    "plt.errorbar(np.log10(SGA_TF['V_0p33R26']), \n",
    "             SGA_TF['R_MAG_SB26'], \n",
    "             xerr=0.434*SGA_TF['V_0p33R26_err']/SGA_TF['V_0p33R26'],\n",
    "             yerr=SGA_TF['R_MAG_SB26_ERR'], \n",
    "             fmt='.')\n",
    "\n",
    "plt.xlim([0, 3])\n",
    "plt.ylim([18.5, 13])\n",
    "\n",
    "plt.xlabel('log($V_{rot}$ [km/s])')\n",
    "plt.ylabel('$m_r (26)$');"
   ]
  },
  {
   "cell_type": "code",
   "execution_count": 33,
   "id": "496099e9-d01c-4106-8c10-9bb3fdf1018f",
   "metadata": {},
   "outputs": [
    {
     "data": {
      "image/png": "[encoded data removed]",
      "text/plain": [
       "<Figure size 864x360 with 2 Axes>"
      ]
     },
     "metadata": {
      "needs_background": "light"
     },
     "output_type": "display_data"
    }
   ],
   "source": [
    "plt.figure(figsize=(12,5), tight_layout=True)\n",
    "\n",
    "\n",
    "plt.subplot(121)\n",
    "\n",
    "plt.errorbar(np.log10(np.abs(VI_good_edge_spirals_axis_inComa['V_ROT'])), \n",
    "             SGA['R_MAG_SB26'][VI_good_edge_spirals_axis_inComa['iSGA']], \n",
    "             xerr=0.434*VI_good_edge_spirals_axis_inComa['V_ROT_ERR']/VI_good_edge_spirals_axis_inComa['V_ROT'], \n",
    "             yerr = SGA['R_MAG_SB26_ERR'][VI_good_edge_spirals_axis_inComa['iSGA']], \n",
    "             fmt='.')\n",
    "\n",
    "plt.errorbar(np.log10(np.abs(VI_good_edge_spirals_axis_inComa['V_ROT'][VI_good_edge_spirals_axis_inComa['DELTACHI2'] < 25])), \n",
    "             SGA['R_MAG_SB26'][VI_good_edge_spirals_axis_inComa['iSGA'][VI_good_edge_spirals_axis_inComa['DELTACHI2'] < 25]], \n",
    "             xerr=0.434*VI_good_edge_spirals_axis_inComa['V_ROT_ERR'][VI_good_edge_spirals_axis_inComa['DELTACHI2'] < 25]/VI_good_edge_spirals_axis_inComa['V_ROT'][VI_good_edge_spirals_axis_inComa['DELTACHI2'] < 25], \n",
    "             yerr = SGA['R_MAG_SB26_ERR'][VI_good_edge_spirals_axis_inComa['iSGA'][VI_good_edge_spirals_axis_inComa['DELTACHI2'] < 25]], \n",
    "             fmt='r.')\n",
    "\n",
    "plt.ylim([18.5, 12.5])\n",
    "\n",
    "plt.xlabel('log($V_{rot}$ [km/s])')\n",
    "plt.ylabel('$m_r (26)$')\n",
    "\n",
    "\n",
    "plt.subplot(122)\n",
    "\n",
    "plt.errorbar(np.log10(np.abs(VI_good_edge_spirals_axis_inComa['V_ROT'])), \n",
    "             SGA['R_MAG_SB26'][VI_good_edge_spirals_axis_inComa['iSGA']], \n",
    "             xerr=0.434*VI_good_edge_spirals_axis_inComa['V_ROT_ERR']/VI_good_edge_spirals_axis_inComa['V_ROT'], \n",
    "             yerr = SGA['R_MAG_SB26_ERR'][VI_good_edge_spirals_axis_inComa['iSGA']], \n",
    "             fmt='.')\n",
    "\n",
    "plt.errorbar(np.log10(np.abs(VI_good_edge_spirals_axis_inComa['V_ROT'][VI_good_edge_spirals_axis_inComa['ZWARN'] != 0])), \n",
    "             SGA['R_MAG_SB26'][VI_good_edge_spirals_axis_inComa['iSGA'][VI_good_edge_spirals_axis_inComa['ZWARN'] != 0]], \n",
    "             xerr=0.434*VI_good_edge_spirals_axis_inComa['V_ROT_ERR'][VI_good_edge_spirals_axis_inComa['ZWARN'] != 0]/VI_good_edge_spirals_axis_inComa['V_ROT'][VI_good_edge_spirals_axis_inComa['ZWARN'] != 0], \n",
    "             yerr = SGA['R_MAG_SB26_ERR'][VI_good_edge_spirals_axis_inComa['iSGA'][VI_good_edge_spirals_axis_inComa['ZWARN'] != 0]], \n",
    "             fmt='y.')\n",
    "\n",
    "plt.ylim([18.5, 12.5])\n",
    "\n",
    "plt.xlabel('log($V_{rot}$ [km/s])')\n",
    "plt.ylabel('$m_r (26)$');"
   ]
  },
  {
   "cell_type": "markdown",
   "id": "ed38965b-df7c-40bd-a11f-c9ff007ff6b3",
   "metadata": {},
   "source": [
    "## Fit the TFR using `hyperfit`"
   ]
  },
  {
   "cell_type": "markdown",
   "id": "b214b5fa-4fe5-48b5-85c7-60005d2490b4",
   "metadata": {},
   "source": [
    "### Create covariance matrix for `hyperfit`"
   ]
  },
  {
   "cell_type": "code",
   "execution_count": 34,
   "id": "c162b851-27ed-428e-99e4-431837c0d36f",
   "metadata": {},
   "outputs": [],
   "source": [
    "Ndata = len(SGA_TF)\n",
    "cov = np.empty((2, 2, Ndata))\n",
    "\n",
    "# loop over arrays of uncertainties in logv and mag\n",
    "# Assume diagonal covariance for each measurement.\n",
    "for i in range(Ndata):\n",
    "    cov[:,:,i] = np.array([[(0.434*SGA_TF['V_0p33R26_err'][i]/SGA_TF['V_0p33R26'][i])**2, 0.], [0., SGA_TF['R_MAG_SB26_ERR'][i]**2]])"
   ]
  },
  {
   "cell_type": "markdown",
   "id": "bc2b596b-1efd-4c5d-8e4b-02a9a88ce9dd",
   "metadata": {},
   "source": [
    "### Create `hyperfit` object"
   ]
  },
  {
   "cell_type": "code",
   "execution_count": 35,
   "id": "992bd23f-b85f-4c17-bd6e-3d2684103058",
   "metadata": {},
   "outputs": [],
   "source": [
    "hf = LinFit([np.log10(SGA_TF['V_0p33R26']), SGA_TF['R_MAG_SB26']], cov)"
   ]
  },
  {
   "cell_type": "markdown",
   "id": "4321f179-d001-40f4-b46a-7f01d1818b69",
   "metadata": {},
   "source": [
    "### Run MCMC to fit TFR"
   ]
  },
  {
   "cell_type": "code",
   "execution_count": 36,
   "id": "ac9dbc8d-b5e3-4daa-b75b-0e933b36c968",
   "metadata": {},
   "outputs": [
    {
     "name": "stdout",
     "output_type": "stream",
     "text": [
      "     fun: array([-43.69265366])\n",
      "     jac: array([1.04662946e-03, 4.75353088e-04, 4.47641924e-05])\n",
      " message: 'Optimization terminated successfully.'\n",
      "    nfev: 4389\n",
      "     nit: 96\n",
      " success: True\n",
      "       x: array([4.56798792, 0.79071012, 0.2053062 ])\n"
     ]
    },
    {
     "name": "stderr",
     "output_type": "stream",
     "text": [
      "100%|██████████| 1000/1000 [00:01<00:00, 928.23it/s]\n"
     ]
    },
    {
     "name": "stdout",
     "output_type": "stream",
     "text": [
      "Niterations/Max Iterations:  1000 / 100000\n",
      "Integrated ACT/Min Convergence Iterations:  [57.59388704 58.0667035  53.13238475] / 2903.3351751009864\n"
     ]
    },
    {
     "name": "stderr",
     "output_type": "stream",
     "text": [
      "100%|██████████| 1000/1000 [00:01<00:00, 896.63it/s]\n"
     ]
    },
    {
     "name": "stdout",
     "output_type": "stream",
     "text": [
      "Niterations/Max Iterations:  2000 / 100000\n",
      "Integrated ACT/Min Convergence Iterations:  [102.73277585 100.6839184   38.58647702] / 5136.638792447864\n"
     ]
    },
    {
     "name": "stderr",
     "output_type": "stream",
     "text": [
      "100%|██████████| 1000/1000 [00:01<00:00, 849.74it/s]\n"
     ]
    },
    {
     "name": "stdout",
     "output_type": "stream",
     "text": [
      "Niterations/Max Iterations:  3000 / 100000\n",
      "Integrated ACT/Min Convergence Iterations:  [94.23111825 93.94564111 43.44381654] / 4711.555912611558\n"
     ]
    },
    {
     "name": "stderr",
     "output_type": "stream",
     "text": [
      "100%|██████████| 1000/1000 [00:01<00:00, 909.13it/s]\n"
     ]
    },
    {
     "name": "stdout",
     "output_type": "stream",
     "text": [
      "Niterations/Max Iterations:  4000 / 100000\n",
      "Integrated ACT/Min Convergence Iterations:  [114.71570185 115.76804769  49.81222055] / 5788.402384702871\n"
     ]
    },
    {
     "name": "stderr",
     "output_type": "stream",
     "text": [
      "100%|██████████| 1000/1000 [00:01<00:00, 919.61it/s]\n"
     ]
    },
    {
     "name": "stdout",
     "output_type": "stream",
     "text": [
      "Niterations/Max Iterations:  5000 / 100000\n",
      "Integrated ACT/Min Convergence Iterations:  [102.46468144 102.77406727  52.63463421] / 5138.703363253754\n"
     ]
    },
    {
     "name": "stderr",
     "output_type": "stream",
     "text": [
      "100%|██████████| 1000/1000 [00:01<00:00, 917.03it/s]\n"
     ]
    },
    {
     "name": "stdout",
     "output_type": "stream",
     "text": [
      "Niterations/Max Iterations:  6000 / 100000\n",
      "Integrated ACT/Min Convergence Iterations:  [86.4843172  87.47441013 55.18998597] / 4373.720506616609\n"
     ]
    },
    {
     "name": "stderr",
     "output_type": "stream",
     "text": [
      "100%|██████████| 1000/1000 [00:01<00:00, 887.76it/s]\n"
     ]
    },
    {
     "name": "stdout",
     "output_type": "stream",
     "text": [
      "Niterations/Max Iterations:  7000 / 100000\n",
      "Integrated ACT/Min Convergence Iterations:  [89.3858476  90.38951819 51.34097879] / 4519.475909282166\n"
     ]
    },
    {
     "name": "stderr",
     "output_type": "stream",
     "text": [
      "100%|██████████| 1000/1000 [00:01<00:00, 907.37it/s]\n"
     ]
    },
    {
     "name": "stdout",
     "output_type": "stream",
     "text": [
      "Niterations/Max Iterations:  8000 / 100000\n",
      "Integrated ACT/Min Convergence Iterations:  [95.02103563 94.67793743 50.25165196] / 4751.0517815292105\n"
     ]
    },
    {
     "name": "stderr",
     "output_type": "stream",
     "text": [
      "100%|██████████| 1000/1000 [00:01<00:00, 900.79it/s]\n"
     ]
    },
    {
     "name": "stdout",
     "output_type": "stream",
     "text": [
      "Niterations/Max Iterations:  9000 / 100000\n",
      "Integrated ACT/Min Convergence Iterations:  [87.78918092 87.3304984  51.4637794 ] / 4389.459046018097\n"
     ]
    },
    {
     "name": "stderr",
     "output_type": "stream",
     "text": [
      "100%|██████████| 1000/1000 [00:01<00:00, 893.30it/s]\n"
     ]
    },
    {
     "name": "stdout",
     "output_type": "stream",
     "text": [
      "Niterations/Max Iterations:  10000 / 100000\n",
      "Integrated ACT/Min Convergence Iterations:  [82.79480524 79.62290877 51.36921512] / 4139.740262094251\n"
     ]
    },
    {
     "name": "stderr",
     "output_type": "stream",
     "text": [
      "100%|██████████| 1000/1000 [00:01<00:00, 914.26it/s]\n"
     ]
    },
    {
     "name": "stdout",
     "output_type": "stream",
     "text": [
      "Niterations/Max Iterations:  11000 / 100000\n",
      "Integrated ACT/Min Convergence Iterations:  [78.38536682 74.9581489  52.31866001] / 3919.2683411068438\n"
     ]
    },
    {
     "name": "stderr",
     "output_type": "stream",
     "text": [
      "100%|██████████| 1000/1000 [00:01<00:00, 885.76it/s]\n"
     ]
    },
    {
     "name": "stdout",
     "output_type": "stream",
     "text": [
      "Niterations/Max Iterations:  12000 / 100000\n",
      "Integrated ACT/Min Convergence Iterations:  [80.73614769 77.30076956 49.58886507] / 4036.8073844282335\n"
     ]
    },
    {
     "name": "stderr",
     "output_type": "stream",
     "text": [
      "100%|██████████| 1000/1000 [00:01<00:00, 924.52it/s]\n"
     ]
    },
    {
     "name": "stdout",
     "output_type": "stream",
     "text": [
      "Niterations/Max Iterations:  13000 / 100000\n",
      "Integrated ACT/Min Convergence Iterations:  [91.15052343 87.95228786 47.0052475 ] / 4557.526171467697\n"
     ]
    },
    {
     "name": "stderr",
     "output_type": "stream",
     "text": [
      "100%|██████████| 1000/1000 [00:01<00:00, 909.19it/s]\n"
     ]
    },
    {
     "name": "stdout",
     "output_type": "stream",
     "text": [
      "Niterations/Max Iterations:  14000 / 100000\n",
      "Integrated ACT/Min Convergence Iterations:  [99.62774498 98.1533215  47.3424356 ] / 4981.387248782276\n"
     ]
    },
    {
     "name": "stderr",
     "output_type": "stream",
     "text": [
      "100%|██████████| 1000/1000 [00:01<00:00, 932.08it/s]\n"
     ]
    },
    {
     "name": "stdout",
     "output_type": "stream",
     "text": [
      "Niterations/Max Iterations:  15000 / 100000\n",
      "Integrated ACT/Min Convergence Iterations:  [95.97663471 94.24225612 49.74899805] / 4798.831735519378\n",
      "[-5.85477416 27.32977645  1.30263729] [1.18584048 2.32228398 0.31861962]\n"
     ]
    }
   ],
   "source": [
    "bounds = ((-10.0, 10.0), (-1000.0, 1000.0), (1.0e-5, 500.0))\n",
    "\n",
    "mcmc_samples, mcmc_lnlike = hf.emcee(bounds, verbose=True)\n",
    "\n",
    "print(np.mean(mcmc_samples, axis=1), np.std(mcmc_samples, axis=1))"
   ]
  },
  {
   "cell_type": "markdown",
   "id": "bda80a89-f3ee-41b5-95e5-b41c4e2a38e1",
   "metadata": {},
   "source": [
    "### Plot the Hyperfit\n",
    "\n",
    "After the linear fit MCMC, construct the bestfit line and its 1-sigma uncertainties.\n",
    "\n",
    "Also plot the measurements as ellipses with the size given by the uncertainties in log(v) and $m_r$, and the color given by the best-fit scatter parameter $\\sigma_i$.\n",
    "\n",
    "Code taken from plotting examples in [hyperfit documentation](https://hyperfit.readthedocs.io/en/latest/tutorial.html#a-simple-best-fit)."
   ]
  },
  {
   "cell_type": "code",
   "execution_count": 37,
   "id": "81a885ad-189d-41d3-b002-1bfa330890c6",
   "metadata": {},
   "outputs": [
    {
     "name": "stdout",
     "output_type": "stream",
     "text": [
      " -5.85 +/- 1.19\n",
      " 27.33 +/- 2.32\n",
      "  1.30 +/- 0.32\n"
     ]
    }
   ],
   "source": [
    "a, b, sig    = np.mean(mcmc_samples, axis=1)\n",
    "da, db, dsig = np.std(mcmc_samples, axis=1)\n",
    "\n",
    "for val, err in zip((a, b, sig), (da, db, dsig)):\n",
    "    print('{:6.2f} +/- {:.2f}'.format(val, err))"
   ]
  },
  {
   "cell_type": "code",
   "execution_count": 55,
   "id": "24f3a6a5-f29b-4ee8-b3dc-6508c56d3fee",
   "metadata": {},
   "outputs": [
    {
     "data": {
      "image/png": "[encoded data removed]",
      "text/plain": [
       "<Figure size 547.2x547.2 with 9 Axes>"
      ]
     },
     "metadata": {
      "needs_background": "light"
     },
     "output_type": "display_data"
    }
   ],
   "source": [
    "fig = corner.corner(mcmc_samples.T, bins=30, smooth=1,\n",
    "             range=[[-3.5, -8], [22.5, 32], [0.75, 2]],   # Range for a, b, sigma. Adjust as needed.\n",
    "             labels=['$a$', '$b$', r'$\\sigma$'],\n",
    "             levels=(1-np.exp(-0.5), 1-np.exp(-2)),\n",
    "             quantiles=[0.16, 0.5, 0.84],\n",
    "             color='blue',\n",
    "             hist_kwargs={'histtype':'stepfilled', 'alpha':0.3},\n",
    "             plot_datapoints=False,\n",
    "             fill_contours=True,\n",
    "             show_titles=True,\n",
    "             title = {'Coma'},\n",
    "             title_kwargs={\"fontsize\": 14})\n",
    "\n",
    "fig.savefig('../../Figures/SV/fuji_Coma_corner_20220926.png', dpi=150)"
   ]
  },
  {
   "cell_type": "code",
   "execution_count": 49,
   "id": "88b113a3-d3b9-4b2c-aca7-eca80976de17",
   "metadata": {},
   "outputs": [
    {
     "data": {
      "image/png": "[encoded data removed]",
      "text/plain": [
       "<Figure size 288x360 with 1 Axes>"
      ]
     },
     "metadata": {
      "needs_background": "light"
     },
     "output_type": "display_data"
    }
   ],
   "source": [
    "sigmas = hf.get_sigmas()\n",
    "xvals = np.linspace(1., 3., 1000)\n",
    "yvals = hf.coords[0] * xvals + hf.coords[1]\n",
    "\n",
    "# Get the MCMC 1-sigma quantiles to plot with the fit.\n",
    "y_chain = np.outer(xvals, mcmc_samples[0]) + mcmc_samples[1]\n",
    "y_chain_quantiles = np.quantile(y_chain, [0.1587, 0.8414], axis=1)\n",
    "\n",
    "# Pack info into data\n",
    "data = [np.log10(SGA_TF['V_0p33R26']), SGA_TF['R_MAG_SB26']]\n",
    "x_err = 0.434*SGA_TF['V_0p33R26_err']/SGA_TF['V_0p33R26']\n",
    "y_err = SGA_TF['R_MAG_SB26_ERR']\n",
    "corr_xy = np.zeros_like(x_err)\n",
    "\n",
    "# Generate ellipses\n",
    "ells = [\n",
    "    Ellipse(\n",
    "        xy=[data[0][i], data[1][i]],\n",
    "        width=2*y_err[i],\n",
    "        height=2*x_err[i],\n",
    "        angle=np.rad2deg(np.arccos(corr_xy[i])),\n",
    "    )\n",
    "    for i in range(len(data[0]))\n",
    "]\n",
    "\n",
    "# Make the plot\n",
    "'''\n",
    "fig = plt.figure(figsize=(3,5))\n",
    "ax = fig.add_axes([0.15, 0.15, 1.03, 0.83])\n",
    "'''\n",
    "fig, ax = plt.subplots(figsize=(4,5), tight_layout=True)\n",
    "ax.fill_between(xvals, y_chain_quantiles[0], y_chain_quantiles[1], color=\"lightgray\")\n",
    "for i, e in enumerate(ells):\n",
    "    ax.add_artist(e)\n",
    "    #e.set_color(cm.winter(sigmas[i] / np.amax(sigmas)))\n",
    "    e.set_edgecolor('None')\n",
    "    #e.set_alpha(0.9)\n",
    "ax.plot(xvals, yvals, c=\"k\", marker=\"None\", ls=\"-\", lw=1.3)#, alpha=0.9)\n",
    "ax.plot(xvals, yvals - hf.vert_scat, c=\"k\", marker=\"None\", ls=\"--\", lw=1.3)#, alpha=0.9)\n",
    "ax.plot(xvals, yvals + hf.vert_scat, c=\"k\", marker=\"None\", ls=\"--\", lw=1.3)#, alpha=0.9)\n",
    "ax.set_xlabel(r\"$\\log{(V_\\mathrm{0.33R_{26}} [\\mathrm{km/s}])}$\", fontsize=14)\n",
    "ax.set_ylabel(r\"$m_r(26)$\", fontsize=14)\n",
    "ax.set_title(\"Coma Cluster ({} galaxies)\".format(len(SGA_TF)), fontsize = 14)\n",
    "ax.set_xlim(0, 3)\n",
    "ax.set_ylim(18.5, 13)\n",
    "'''\n",
    "# Add the colourbar\n",
    "cb = fig.colorbar(\n",
    "    cm.ScalarMappable(norm=colors.Normalize(vmin=0.0, vmax=np.amax(sigmas)), cmap=cm.winter),\n",
    "    ax=ax,\n",
    "    shrink=0.5,\n",
    "    aspect=10,\n",
    "    anchor=(-8, 0.95),\n",
    ")\n",
    "cb.set_label(label=r\"$\\sigma$\", fontsize=14)\n",
    "''';\n",
    "\n",
    "plt.savefig('../../Figures/fuji_Coma_TFR_20220926.png', dpi=150)"
   ]
  },
  {
   "cell_type": "code",
   "execution_count": null,
   "id": "daacebe7-c312-42ff-94b0-94047e76f57f",
   "metadata": {},
   "outputs": [],
   "source": []
  },
  {
   "cell_type": "code",
   "execution_count": null,
   "id": "46a84b42-c73d-4d3b-a93d-cd59a2d097c2",
   "metadata": {},
   "outputs": [],
   "source": []
  },
  {
   "cell_type": "code",
   "execution_count": null,
   "id": "667c25cc-08e6-4e54-ae07-ffcec1a489a5",
   "metadata": {},
   "outputs": [],
   "source": []
  },
  {
   "cell_type": "code",
   "execution_count": 75,
   "id": "d98ae25d-5343-4ac0-a2ae-6fef1d4390c4",
   "metadata": {},
   "outputs": [
    {
     "data": {
      "image/png": "[encoded data removed]",
      "text/plain": [
       "<Figure size 432x504 with 2 Axes>"
      ]
     },
     "metadata": {
      "needs_background": "light"
     },
     "output_type": "display_data"
    }
   ],
   "source": []
  }
 ],
 "metadata": {
  "kernelspec": {
   "display_name": "DESI master",
   "language": "python",
   "name": "desi-master"
  },
  "language_info": {
   "codemirror_mode": {
    "name": "ipython",
    "version": 3
   },
   "file_extension": ".py",
   "mimetype": "text/x-python",
   "name": "python",
   "nbconvert_exporter": "python",
   "pygments_lexer": "ipython3",
   "version": "3.9.7"
  }
 },
 "nbformat": 4,
 "nbformat_minor": 5
}
