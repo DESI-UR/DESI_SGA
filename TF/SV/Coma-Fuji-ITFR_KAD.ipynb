{
 "cells": [
  {
   "cell_type": "code",
   "execution_count": 1,
   "id": "dd925c8e-e017-40f7-bd18-c75fc388e126",
   "metadata": {
    "tags": []
   },
   "outputs": [
    {
     "ename": "ModuleNotFoundError",
     "evalue": "No module named 'help_functions'",
     "output_type": "error",
     "traceback": [
      "\u001b[0;31m---------------------------------------------------------------------------\u001b[0m",
      "\u001b[0;31mModuleNotFoundError\u001b[0m                       Traceback (most recent call last)",
      "Cell \u001b[0;32mIn[1], line 24\u001b[0m\n\u001b[1;32m     20\u001b[0m \u001b[38;5;28;01mimport\u001b[39;00m \u001b[38;5;21;01mcorner\u001b[39;00m\n\u001b[1;32m     22\u001b[0m \u001b[38;5;28;01mimport\u001b[39;00m \u001b[38;5;21;01mpickle\u001b[39;00m\n\u001b[0;32m---> 24\u001b[0m \u001b[38;5;28;01mfrom\u001b[39;00m \u001b[38;5;21;01mhelp_functions\u001b[39;00m \u001b[38;5;28;01mimport\u001b[39;00m adjust_lightness\n\u001b[1;32m     26\u001b[0m \u001b[38;5;28;01mimport\u001b[39;00m \u001b[38;5;21;01msys\u001b[39;00m\n\u001b[1;32m     27\u001b[0m sys\u001b[38;5;241m.\u001b[39mpath\u001b[38;5;241m.\u001b[39minsert(\u001b[38;5;241m1\u001b[39m, \u001b[38;5;124m'\u001b[39m\u001b[38;5;124m/global/u1/k/kadglass/DESI_SGA/TF/\u001b[39m\u001b[38;5;124m'\u001b[39m)\n",
      "\u001b[0;31mModuleNotFoundError\u001b[0m: No module named 'help_functions'"
     ]
    }
   ],
   "source": [
    "import numpy as np\n",
    "\n",
    "import matplotlib.pyplot as plt\n",
    "plt.rcParams[\"text.usetex\"] = False\n",
    "from matplotlib import cm, colors\n",
    "from matplotlib.patches import Ellipse\n",
    "import matplotlib as mpl\n",
    "\n",
    "from astropy.io import fits\n",
    "from astropy.table import Table\n",
    "from astropy.coordinates import SkyCoord\n",
    "from astropy import units as u\n",
    "from astropy.wcs import WCS\n",
    "from astropy.visualization.wcsaxes import SphericalCircle\n",
    "\n",
    "import os\n",
    "\n",
    "import requests\n",
    "\n",
    "import corner\n",
    "\n",
    "import pickle\n",
    "\n",
    "from help_functions import adjust_lightness\n",
    "\n",
    "import sys\n",
    "sys.path.insert(1, '/global/u1/k/kadglass/DESI_SGA/TF/')\n",
    "#sys.path.insert(1, '/Users/kellydouglass/Documents/Research/DESI/Targets/code/TF/')\n",
    "from line_fits import param_invert, hyperfit_line\n",
    "\n",
    "#from desispec.io import read_spectra\n",
    "#from desispec.spectra import stack as specstack\n",
    "#from desispec.coaddition import coadd_cameras"
   ]
  },
  {
   "cell_type": "code",
   "execution_count": null,
   "id": "2533249c-48da-4daa-a75f-95f2fac3fbcd",
   "metadata": {
    "tags": []
   },
   "outputs": [],
   "source": [
    "h = 1\n",
    "H0 = 100*h\n",
    "\n",
    "c = 3e5\n",
    "\n",
    "q0 = 0.2\n",
    "\n",
    "V0 = 2.5 # Set 0-pt of the TFR"
   ]
  },
  {
   "cell_type": "markdown",
   "id": "e1bdaae7-5e97-475f-845d-02a4703507ee",
   "metadata": {},
   "source": [
    "# Data\n",
    "\n",
    "## fuji"
   ]
  },
  {
   "cell_type": "code",
   "execution_count": null,
   "id": "f32a61f1-36c9-4645-8a25-e3c02568941d",
   "metadata": {
    "tags": []
   },
   "outputs": [],
   "source": [
    "tiron = Table.read(\"/global/cfs/projectdirs/desi/science/td/pv/desi_pv_tf_iron_healpix.fits\")\n",
    "tfuji[:5]"
   ]
  },
  {
   "cell_type": "markdown",
   "id": "49a742b7-8522-427b-9c7d-162e6d633db4",
   "metadata": {},
   "source": [
    "## SGA"
   ]
  },
  {
   "cell_type": "code",
   "execution_count": null,
   "id": "14fc9cd1-0917-443c-9a40-08c6d2521bd4",
   "metadata": {
    "tags": []
   },
   "outputs": [],
   "source": [
    "SGA = Table.read('/global/cfs/cdirs/cosmo/data/sga/2020/SGA-2020.fits', 'ELLIPSE')\n",
    "#SGA = Table.read('/Users/kellydouglass/Documents/Research/data/SGA/SGA-2020.fits', 'ELLIPSE')\n",
    "\n",
    "SGA[:5]"
   ]
  },
  {
   "cell_type": "code",
   "execution_count": null,
   "id": "627f9a8a-0c07-48d9-bbb6-e48c197c9480",
   "metadata": {
    "tags": []
   },
   "outputs": [],
   "source": [
    "SGA_dict = {}\n",
    "\n",
    "for i in range(len(SGA)):\n",
    "    \n",
    "    SGA_dict[SGA['SGA_ID'][i]] = i"
   ]
  },
  {
   "cell_type": "markdown",
   "id": "4d0af000-ef76-4d74-80d0-1c7f8385f4f7",
   "metadata": {},
   "source": [
    "## Separate the fuji data into center and off-center observations"
   ]
  },
  {
   "cell_type": "code",
   "execution_count": null,
   "id": "adc0c55e-bc2d-47c9-b58c-fa231f214d83",
   "metadata": {
    "tags": []
   },
   "outputs": [],
   "source": [
    "tfuji['SKY_FIBER_DIST'] = 0.\n",
    "tfuji['SKY_FIBER_DIST_R26'] = 0.\n",
    "\n",
    "# For each SGA galaxy that has at least one observation, calculate the distance \n",
    "# for all of that galaxy's targets\n",
    "for sga_id in np.unique(tfuji['SGA_ID']):\n",
    "    \n",
    "    # Identify all galaxy targets on this galaxy\n",
    "    obs_idx = tfuji['SGA_ID'] == sga_id\n",
    "    \n",
    "    # Find galaxy index in SGA catalog\n",
    "    sga_idx = SGA_dict[sga_id]\n",
    "    \n",
    "    #---------------------------------------------------------------------------\n",
    "    # Calculate distance between each observation and the center of the SGA \n",
    "    # galaxy\n",
    "    #---------------------------------------------------------------------------\n",
    "    SGA_coords = SkyCoord(ra=SGA['RA'][sga_idx], \n",
    "                          dec=SGA['DEC'][sga_idx], \n",
    "                          unit=u.degree)\n",
    "    target_coords = SkyCoord(ra=tfuji['RA'][obs_idx], \n",
    "                             dec=tfuji['DEC'][obs_idx], \n",
    "                             unit=u.degree)\n",
    "    \n",
    "    sep2d = target_coords.separation(SGA_coords)\n",
    "    \n",
    "    tfuji['SKY_FIBER_DIST'][obs_idx] = sep2d\n",
    "    tfuji['SKY_FIBER_DIST_R26'][obs_idx] = 2*sep2d.to('arcmin')/(SGA['D26'][sga_idx]*u.arcmin)\n",
    "    #---------------------------------------------------------------------------"
   ]
  },
  {
   "cell_type": "code",
   "execution_count": null,
   "id": "1d0d7f14-5e74-44a9-80f7-d9899ca759a2",
   "metadata": {
    "tags": []
   },
   "outputs": [],
   "source": [
    "centers_boolean = tfuji['SKY_FIBER_DIST_R26'] < 0.1\n",
    "\n",
    "fuji_centers = tfuji[centers_boolean]\n",
    "fuji_axis = tfuji[~centers_boolean]"
   ]
  },
  {
   "cell_type": "markdown",
   "id": "2be6cbc1-a9d2-48d7-b2e5-5a86f1846810",
   "metadata": {},
   "source": [
    "### Clean the fuji center observations\n",
    "\n",
    "Only keep those with\n",
    " * `DELTACHI2` > 25\n",
    " * `ZWARN` == 0"
   ]
  },
  {
   "cell_type": "code",
   "execution_count": null,
   "id": "f533cc9a-9df8-43ed-91c7-b88c62966e00",
   "metadata": {
    "tags": []
   },
   "outputs": [],
   "source": [
    "good_centers = fuji_centers[(fuji_centers['DELTACHI2'] > 25) & (fuji_centers['ZWARN'] == 0)]"
   ]
  },
  {
   "cell_type": "markdown",
   "id": "0b8daf34-f420-4edc-9371-0d21de16e2a5",
   "metadata": {},
   "source": [
    "#### Are there any galaxies with multiple good center observations?"
   ]
  },
  {
   "cell_type": "code",
   "execution_count": null,
   "id": "c4287a2a-ad76-4c24-ace7-6fd2108fde3f",
   "metadata": {
    "tags": []
   },
   "outputs": [],
   "source": [
    "unique_ids, counts = np.unique(good_centers['SGA_ID'], return_counts=True)\n",
    "\n",
    "print(unique_ids[counts > 1], counts[counts > 1])"
   ]
  },
  {
   "cell_type": "markdown",
   "id": "472c0152-3e6a-49bd-a077-58c9da6c8cb3",
   "metadata": {},
   "source": [
    "### If an SGA galaxy has at least one observation at its center, set the redshift of that galaxy"
   ]
  },
  {
   "cell_type": "code",
   "execution_count": null,
   "id": "47f2d756-1eef-465c-8b3c-58a410f78763",
   "metadata": {
    "tags": []
   },
   "outputs": [],
   "source": [
    "SGA['Z_DESI'] = np.nan\n",
    "SGA['ZERR_DESI'] = np.nan\n",
    "\n",
    "weights = 1./(good_centers['ZERR']**2)\n",
    "\n",
    "for sga_id in np.unique(good_centers['SGA_ID']):\n",
    "    \n",
    "    # Find all the center observations of this galaxy\n",
    "    obs_idx = good_centers['SGA_ID'] == sga_id\n",
    "    \n",
    "    # Find the row in SGA for this galaxy\n",
    "    SGA_idx = SGA_dict[sga_id]\n",
    "    \n",
    "    # Set the redshift of this galaxy to be the weighted average redshift of all \n",
    "    # good center observations\n",
    "    SGA['Z_DESI'][SGA_idx] = np.average(good_centers['Z'][obs_idx], \n",
    "                                        weights=weights[obs_idx])\n",
    "    SGA['ZERR_DESI'][SGA_idx] = np.sqrt(1./np.sum(weights[obs_idx]))"
   ]
  },
  {
   "cell_type": "markdown",
   "id": "9537c66f-55d6-4656-bb7e-94dbb7437cf3",
   "metadata": {},
   "source": [
    "# Coma cluster membership\n",
    "\n",
    "Following Cosmicflows4 (Kourkchi et al. 2020), cluster membership is defined as\n",
    "- $R_p < 1.5R_{2t}$ and $v < V_c \\pm 3\\sigma_p$\n",
    "- $1.5R_{2t} \\leq R_p < 3R_{2t}$ and $v < V_c \\pm 2\\sigma_p$\n",
    "\n",
    "where $R_p$ is the projected distance from the cluster center, $R_{2t}$ is the cluster projected second turnaround radius, $\\sigma_p$ is the projected velocity dispersion of the cluster, and $V_c$ is the average heliocentric radial velocity of the cluster."
   ]
  },
  {
   "cell_type": "code",
   "execution_count": null,
   "id": "44191133-688b-4fc0-b9f6-ea33131b9892",
   "metadata": {
    "tags": []
   },
   "outputs": [],
   "source": [
    "# Data table #3 from Tully (2015)\n",
    "hdu = fits.open('../Tully15-Table3.fits')\n",
    "table3 = Table(hdu[1].data)\n",
    "hdu.close()\n",
    "\n",
    "table3[:5]"
   ]
  },
  {
   "cell_type": "code",
   "execution_count": null,
   "id": "2e6bf5c3-f30d-42aa-8364-ab75a963bfa6",
   "metadata": {
    "tags": []
   },
   "outputs": [],
   "source": [
    "Coma_nest = 100001\n",
    "\n",
    "Coma_row_t3 = table3['Nest'] == Coma_nest\n",
    "\n",
    "R2t_Coma = table3['R2t'][Coma_row_t3][0]\n",
    "sigma_Coma = table3['sigP'][Coma_row_t3][0]"
   ]
  },
  {
   "cell_type": "code",
   "execution_count": null,
   "id": "5b584f0b-ecc3-4ad9-a940-a1f8a3ee78eb",
   "metadata": {
    "tags": []
   },
   "outputs": [],
   "source": [
    "# Data table #2 from Tully et al. (2013)\n",
    "hdu = fits.open('../Tully13-Table2.fit')\n",
    "table2 = Table(hdu[1].data)\n",
    "hdu.close()\n",
    "\n",
    "table2[:5]"
   ]
  },
  {
   "cell_type": "code",
   "execution_count": null,
   "id": "6286cb68-b729-4c94-afe4-c828a77cf8c8",
   "metadata": {
    "tags": []
   },
   "outputs": [],
   "source": [
    "Coma_coords = SkyCoord(table3['SGLON'][Coma_row_t3]*u.degree, \n",
    "                       table3['SGLAT'][Coma_row_t3]*u.degree, \n",
    "                       frame='supergalactic')\n",
    "\n",
    "group_coords = SkyCoord(table2['SGLON']*u.degree, \n",
    "                        table2['SGLAT']*u.degree, \n",
    "                        frame='supergalactic')\n",
    "\n",
    "idx, d2d, d3d = Coma_coords.match_to_catalog_sky(group_coords)\n",
    "\n",
    "V_Coma = table2['__HV_'][idx][0]\n",
    "\n",
    "V_Coma"
   ]
  },
  {
   "cell_type": "markdown",
   "id": "653cc8c1-9d9c-4bb2-b781-f4cfb3838a48",
   "metadata": {},
   "source": [
    "## Calculate the projected distance between the Coma cluster and each SGA galaxy"
   ]
  },
  {
   "cell_type": "code",
   "execution_count": null,
   "id": "db08cc7e-f5e6-49e2-ac98-c6d95a251a93",
   "metadata": {
    "tags": []
   },
   "outputs": [],
   "source": [
    "# First, we need to convert R2t from Mpc to an angle, using the group's heliocentric velocity\n",
    "R2t_Coma_angle = (R2t_Coma/(V_Coma/H0))*u.radian"
   ]
  },
  {
   "cell_type": "code",
   "execution_count": null,
   "id": "69576c0e-8d94-4220-b1f7-ffa0fca2e70f",
   "metadata": {
    "tags": []
   },
   "outputs": [],
   "source": [
    "SGA_coords = SkyCoord(SGA['RA'], SGA['DEC'], unit='deg')\n",
    "\n",
    "sep = Coma_coords.separation(SGA_coords)"
   ]
  },
  {
   "cell_type": "code",
   "execution_count": null,
   "id": "6ca06e0a-e8f1-46c2-97ee-f214fa137238",
   "metadata": {
    "tags": []
   },
   "outputs": [],
   "source": [
    "SGA_in_Coma1 = (sep < 1.5*R2t_Coma_angle) & (SGA['Z_DESI']*c > V_Coma - 3*sigma_Coma) & (SGA['Z_DESI']*c < V_Coma + 3*sigma_Coma)\n",
    "\n",
    "SGA_in_Coma2 = (sep >= 1.5*R2t_Coma_angle) & (sep < 3*R2t_Coma_angle) & (SGA['Z_DESI']*c > V_Coma - 2*sigma_Coma) & (SGA['Z_DESI']*c < V_Coma + 2*sigma_Coma)\n",
    "#SGA_in_Coma2 = (sep >= 1.5*R2t_Coma_angle) & (SGA['Z_DESI']*c > V_Coma - 2*sigma_Coma) & (SGA['Z_DESI']*c < V_Coma + 2*sigma_Coma)\n",
    "\n",
    "SGA_in_Coma = SGA_in_Coma1 | SGA_in_Coma2\n",
    "\n",
    "################################################################################\n",
    "# Keep all observations of each galaxy that are within the Coma cluster\n",
    "#-------------------------------------------------------------------------------\n",
    "SGA_ID_in_Coma = SGA['SGA_ID'][SGA_in_Coma]\n",
    "\n",
    "centers_inComa = good_centers[np.in1d(good_centers['SGA_ID'], SGA_ID_in_Coma)]\n",
    "\n",
    "axis_inComa = fuji_axis[np.in1d(fuji_axis['SGA_ID'], SGA_ID_in_Coma)]\n",
    "################################################################################\n",
    "\n",
    "print('fuji galaxies in Coma with good center observations:', len(np.unique(centers_inComa['SGA_ID'])))\n",
    "print('fuji off-center observations in Coma:', len(axis_inComa))"
   ]
  },
  {
   "cell_type": "code",
   "execution_count": null,
   "id": "675f9031-f9df-4789-a279-3d7538480317",
   "metadata": {
    "tags": []
   },
   "outputs": [],
   "source": [
    "Christoph_removed = np.in1d(SGA['SGA_ID'], [309306, 455486, 486394, 1167691, 1269260])\n",
    "\n",
    "print(SGA_in_Coma1[Christoph_removed])\n",
    "print(SGA_in_Coma2[Christoph_removed])"
   ]
  },
  {
   "cell_type": "code",
   "execution_count": null,
   "id": "9ea3cfa0-2dcf-4d20-b7c8-ccd5f9605be8",
   "metadata": {
    "tags": []
   },
   "outputs": [],
   "source": [
    "plt.figure(tight_layout=True)\n",
    "\n",
    "plt.hist(sep[SGA_in_Coma].to_value('degree'), bins=np.arange(0, 5, 0.5))\n",
    "plt.hist(sep[np.in1d(SGA['SGA_ID'], [309306, 455486, 486394, 1167691, 1269260])].to_value('degree'), bins=np.arange(0, 5, 0.5))\n",
    "\n",
    "plt.xlabel('SGA-Coma Angular Separation [deg]')\n",
    "plt.ylabel('number of galaxies');"
   ]
  },
  {
   "cell_type": "code",
   "execution_count": null,
   "id": "c5b373a5-c6bc-48d7-a80b-4b6d6be96cda",
   "metadata": {
    "tags": []
   },
   "outputs": [],
   "source": [
    "plt.figure(figsize=(15,5), tight_layout=True)\n",
    "\n",
    "plt.subplot(131)\n",
    "plt.plot(centers_inComa['TARGET_RA'], centers_inComa['TARGET_DEC'], '.')\n",
    "plt.plot(centers_inComa['TARGET_RA'][np.in1d(centers_inComa['SGA_ID'], [309306, 455486, 486394, 1167691, 1269260])], \n",
    "         centers_inComa['TARGET_DEC'][np.in1d(centers_inComa['SGA_ID'], [309306, 455486, 486394, 1167691, 1269260])],\n",
    "         'o')\n",
    "plt.plot(Coma_coords.transform_to('icrs').ra.deg, Coma_coords.transform_to('icrs').dec.deg, 'kx', ms=10, mew=5)\n",
    "plt.xlabel(r'$\\alpha$ [deg]')\n",
    "plt.ylabel(r'$\\delta$ [deg]')\n",
    "\n",
    "plt.subplot(132)\n",
    "plt.plot(centers_inComa['Z'], centers_inComa['TARGET_DEC'], '.')\n",
    "plt.plot(centers_inComa['Z'][np.in1d(centers_inComa['SGA_ID'], [309306, 455486, 486394, 1167691, 1269260])], \n",
    "         centers_inComa['TARGET_DEC'][np.in1d(centers_inComa['SGA_ID'], [309306, 455486, 486394, 1167691, 1269260])],\n",
    "         'o')\n",
    "plt.plot(V_Coma/c, Coma_coords.transform_to('icrs').dec.deg, 'kx', ms=10, mew=5)\n",
    "plt.xlabel('z')\n",
    "plt.ylabel(r'$\\delta$ [deg]')\n",
    "\n",
    "plt.subplot(133)\n",
    "plt.hist(centers_inComa['Z'], bins=np.arange(0.0125, 0.035, 0.0025))\n",
    "plt.hist(centers_inComa['Z'][np.in1d(centers_inComa['SGA_ID'], [309306, 455486, 486394, 1167691, 1269260])], bins=np.arange(0.0125, 0.035, 0.0025))\n",
    "plt.vlines(V_Coma/c, 0, 100, colors='k', linestyles='dotted')\n",
    "plt.xlabel('redshift')\n",
    "plt.ylabel('number of galaxies')\n",
    "plt.ylim(ymax=95);"
   ]
  },
  {
   "cell_type": "code",
   "execution_count": null,
   "id": "8e109e35-f1c2-483d-8c9e-31d61e861a06",
   "metadata": {
    "tags": []
   },
   "outputs": [],
   "source": [
    "axis_SGAids, axis_counts = np.unique(axis_inComa['SGA_ID'], return_counts=True)\n",
    "center_SGAids, center_counts = np.unique(centers_inComa['SGA_ID'], return_counts=True)\n",
    "\n",
    "counts = []\n",
    "\n",
    "for sga_id in SGA_ID_in_Coma:\n",
    "    \n",
    "    center_count = 0\n",
    "    axis_count = 0\n",
    "    \n",
    "    if sga_id in center_SGAids:\n",
    "        \n",
    "        center_count = center_counts[center_SGAids == sga_id]\n",
    "        \n",
    "    if sga_id in axis_SGAids:\n",
    "        \n",
    "        axis_count = axis_counts[axis_SGAids == sga_id]\n",
    "        \n",
    "    count = center_count + axis_count\n",
    "    \n",
    "    if count > 1:\n",
    "        \n",
    "        counts.append(count)\n",
    "        \n",
    "\n",
    "plt.figure(tight_layout=True)\n",
    "\n",
    "plt.hist(np.array(counts), bins=np.arange(2,15))\n",
    "\n",
    "plt.xlabel('Observations per SGA_ID in Coma')\n",
    "plt.ylabel('count');"
   ]
  },
  {
   "cell_type": "markdown",
   "id": "3426b07b-c1cc-470f-89be-62b56926fbd4",
   "metadata": {},
   "source": [
    "# Calculate the rotational velocity"
   ]
  },
  {
   "cell_type": "code",
   "execution_count": null,
   "id": "12a7b557-ca87-44ff-b3c3-b9d8227b4500",
   "metadata": {
    "tags": []
   },
   "outputs": [],
   "source": [
    "axis_inComa['SKY_FIBER_DIST'] = 0.\n",
    "axis_inComa['SKY_FIBER_DIST_R26'] = 0.\n",
    "axis_inComa['V_ROT'] = np.nan\n",
    "axis_inComa['V_ROT_ERR'] = np.nan\n",
    "\n",
    "\n",
    "# For each SGA galaxy that has at least one center observation, calculate the \n",
    "# distance for all of that galaxy's targets\n",
    "for sga_gal in np.unique(centers_inComa['SGA_ID']):\n",
    "    \n",
    "    # Identify all galaxy targets on this galaxy\n",
    "    obs_idx = axis_inComa['SGA_ID'] == sga_gal\n",
    "    \n",
    "    # Find galaxy index in SGA catalog\n",
    "    sga_idx = SGA_dict[sga_gal]\n",
    "    \n",
    "    #---------------------------------------------------------------------------\n",
    "    # Calculate distance between each observation and the center\n",
    "    #---------------------------------------------------------------------------\n",
    "    center_coords = SkyCoord(ra=SGA['RA'][sga_idx], \n",
    "                             dec=SGA['DEC'][sga_idx], \n",
    "                             unit=u.degree)\n",
    "    target_coords = SkyCoord(ra=axis_inComa['RA'][obs_idx], \n",
    "                             dec=axis_inComa['DEC'][obs_idx], \n",
    "                             unit=u.degree)\n",
    "    \n",
    "    sep2d = target_coords.separation(center_coords)\n",
    "    \n",
    "    axis_inComa['SKY_FIBER_DIST'][obs_idx] = sep2d\n",
    "    axis_inComa['SKY_FIBER_DIST_R26'][obs_idx] = 2*sep2d.to('arcmin')/(SGA['D26'][sga_idx]*u.arcmin)\n",
    "    #---------------------------------------------------------------------------\n",
    "    \n",
    "    \n",
    "    #---------------------------------------------------------------------------\n",
    "    # Calculate rotational velocity\n",
    "    #---------------------------------------------------------------------------\n",
    "    # Use the average redshift of all center observations for the systemic velocity\n",
    "    z_center = np.mean(SGA['Z_DESI'][sga_idx])\n",
    "    z_err_center2 = SGA['ZERR_DESI'][sga_idx]**2\n",
    "\n",
    "    # Calculate rotational velocity for all observations of the galaxy\n",
    "    axis_inComa['V_ROT'][obs_idx] = c*(axis_inComa['Z'][obs_idx] - z_center)\n",
    "    axis_inComa['V_ROT_ERR'][obs_idx] = c*np.sqrt(axis_inComa['ZERR'][obs_idx]**2 + z_err_center2)\n",
    "    #---------------------------------------------------------------------------\n",
    "    \n",
    "    \n",
    "    #---------------------------------------------------------------------------\n",
    "    # Correct rotational velocities for inclination angle\n",
    "    #---------------------------------------------------------------------------\n",
    "    cosi2 = (SGA['BA'][sga_idx]**2 - q0**2)/(1 - q0**2)\n",
    "    \n",
    "    # Galaxies with b/a < q0\n",
    "    if cosi2 < 0:\n",
    "        cosi2 = 0\n",
    "    \n",
    "    axis_inComa['V_ROT'][obs_idx] /= np.sin(np.arccos(np.sqrt(cosi2)))\n",
    "    #---------------------------------------------------------------------------"
   ]
  },
  {
   "cell_type": "code",
   "execution_count": null,
   "id": "9d6d9315-66ae-4f67-9fa4-1a6fff109b90",
   "metadata": {
    "tags": []
   },
   "outputs": [],
   "source": [
    "plt.figure(tight_layout=True)\n",
    "\n",
    "plt.hist(np.abs(axis_inComa['V_ROT']), bins=np.linspace(0, 1000, 100))\n",
    "\n",
    "plt.xlabel('$V_{rot}$ [km/s]')\n",
    "plt.ylabel('number of observations');"
   ]
  },
  {
   "cell_type": "markdown",
   "id": "459c724e-367a-41de-accc-12850f8e30cc",
   "metadata": {},
   "source": [
    "# Cut for Coma galaxies suitable for calibrating the TFR\n",
    "\n",
    "Requirements:\n",
    " * $10 < V_{rot} < 1000$ km/s at $0.33R_{26}$\n",
    " * $\\Delta V / V_{min} \\leq 5$\n",
    " * $i > 45^\\circ$\n",
    " * Spiral-type morphology\n",
    " * Passes visual inspection"
   ]
  },
  {
   "cell_type": "markdown",
   "id": "55e02594-74c0-4737-8279-be97076ab015",
   "metadata": {},
   "source": [
    "## Velocity cut"
   ]
  },
  {
   "cell_type": "code",
   "execution_count": null,
   "id": "848a3667-c026-4dcd-822c-9714f26ece88",
   "metadata": {
    "tags": []
   },
   "outputs": [],
   "source": [
    "r0p3 = (axis_inComa['SKY_FIBER_DIST_R26'] > 0.3) & (axis_inComa['SKY_FIBER_DIST_R26'] < 0.4)\n",
    "\n",
    "Vgood = (np.abs(axis_inComa['V_ROT']) < 1000) & (np.abs(axis_inComa['V_ROT']) > 10)\n",
    "\n",
    "good_axis_inComa = axis_inComa[r0p3 & Vgood]\n",
    "\n",
    "print(len(good_axis_inComa), len(np.unique(good_axis_inComa['SGA_ID'])))"
   ]
  },
  {
   "cell_type": "markdown",
   "id": "249ba011-ae29-484b-9f58-349a68b2d654",
   "metadata": {},
   "source": [
    "## Relative velocity cut"
   ]
  },
  {
   "cell_type": "code",
   "execution_count": null,
   "id": "3a90b957-4496-43f1-894c-ca9822e43bf0",
   "metadata": {
    "tags": []
   },
   "outputs": [],
   "source": [
    "good_deltaV = np.ones(len(good_axis_inComa), dtype=bool)\n",
    "\n",
    "for sga_id in np.unique(good_axis_inComa['SGA_ID']):\n",
    "    \n",
    "    # Identify all galaxy targets on this galaxy\n",
    "    obs_idx = good_axis_inComa['SGA_ID'] == sga_id\n",
    "    \n",
    "    n_obs = np.sum(obs_idx)\n",
    "    \n",
    "    if n_obs > 1:\n",
    "        \n",
    "        Vmin = np.min(np.abs(good_axis_inComa['V_ROT'][obs_idx]))\n",
    "        Vmax = np.max(np.abs(good_axis_inComa['V_ROT'][obs_idx]))\n",
    "        \n",
    "        v_norm_min = np.abs(good_axis_inComa['V_ROT'][obs_idx])/Vmin\n",
    "        v_norm_max = np.abs(good_axis_inComa['V_ROT'][obs_idx])/Vmax\n",
    "        \n",
    "        diff_matrix = np.abs(good_axis_inComa['V_ROT'][obs_idx]).reshape(n_obs, 1) - np.abs(good_axis_inComa['V_ROT'][obs_idx]).reshape(1, n_obs)\n",
    "        \n",
    "        diff_matrix_norm = diff_matrix/Vmin\n",
    "        \n",
    "        if np.any(np.abs(diff_matrix_norm) > 5.):\n",
    "            \n",
    "            '''\n",
    "            print(sga_id)\n",
    "            print(diff_matrix_norm)\n",
    "            print(1/v_norm_min.data)\n",
    "            print(v_norm_max.data)\n",
    "            print(good_axis_inComa[['TARGETID', 'V_ROT', 'PVTYPE', 'FILENAME', 'DELTACHI2', 'ZWARN']][obs_idx].pprint(max_width=-1))\n",
    "            ''';\n",
    "            \n",
    "            # Remove all observations with DELTACHI2 < 25\n",
    "            # Note: This also typically removes observations with ZWARN != 0\n",
    "            deltachi2_idx = good_axis_inComa['DELTACHI2'] >= 25\n",
    "            \n",
    "            good_deltaV[obs_idx & ~deltachi2_idx] = False\n",
    "            \n",
    "            good_obs_idx = obs_idx & deltachi2_idx\n",
    "            \n",
    "            n_obs_good = np.sum(good_obs_idx)\n",
    "            \n",
    "            # Check to make sure that, if there are still multiple observations, they all satisfy our relative velocity criteria\n",
    "            if n_obs_good > 1:\n",
    "                \n",
    "                Vmin = np.min(np.abs(good_axis_inComa['V_ROT'][good_obs_idx]))\n",
    "                \n",
    "                diff_matrix = np.abs(good_axis_inComa['V_ROT'][good_obs_idx]).reshape(n_obs_good, 1) - np.abs(good_axis_inComa['V_ROT'][good_obs_idx]).reshape(1, n_obs_good)\n",
    "                \n",
    "                diff_matrix_norm = diff_matrix/Vmin\n",
    "                \n",
    "                if np.any(np.abs(diff_matrix_norm) > 5.):\n",
    "                    '''\n",
    "                    print(sga_id)\n",
    "                    print(diff_matrix_norm)\n",
    "                    print(good_axis_inComa[['TARGETID', 'V_ROT', 'PVTYPE', 'FILENAME', 'DELTACHI2', 'ZWARN']][obs_idx].pprint(max_width=-1))\n",
    "                    ''';\n",
    "                    # Set all of these so that we don't look at this galaxy\n",
    "                    good_deltaV[good_obs_idx] = False"
   ]
  },
  {
   "cell_type": "code",
   "execution_count": null,
   "id": "abf1eb09-13f5-478f-9d7f-1274d8b16e2a",
   "metadata": {
    "tags": []
   },
   "outputs": [],
   "source": [
    "good_deltaV_axis_inComa = good_axis_inComa[good_deltaV]\n",
    "\n",
    "print(len(good_deltaV_axis_inComa), len(np.unique(good_deltaV_axis_inComa['SGA_ID'])))"
   ]
  },
  {
   "cell_type": "markdown",
   "id": "51dbac88-c153-443a-9633-0a03dc3e3f46",
   "metadata": {},
   "source": [
    "## Inclination angle cut"
   ]
  },
  {
   "cell_type": "code",
   "execution_count": null,
   "id": "35c0d3ae-3064-4c54-ac91-1f69e184ced1",
   "metadata": {
    "tags": []
   },
   "outputs": [],
   "source": [
    "SGA['cosi2'] = (SGA['BA']**2 - q0**2)/(1 - q0**2)\n",
    "SGA['cosi2'][SGA['cosi2'] < 0] = 0\n",
    "\n",
    "good_deltaV_axis_inComa['iSGA'] = -1\n",
    "\n",
    "for i in range(len(good_deltaV_axis_inComa)):\n",
    "    \n",
    "    # Find galaxy in SGA\n",
    "    sga_idx = SGA_dict[good_deltaV_axis_inComa['SGA_ID'][i]]\n",
    "    \n",
    "    good_deltaV_axis_inComa['iSGA'][i] = sga_idx\n",
    "    \n",
    "good_deltaV_axis_inComa['cosi2'] = SGA['cosi2'][good_deltaV_axis_inComa['iSGA']]"
   ]
  },
  {
   "cell_type": "code",
   "execution_count": null,
   "id": "082bcddd-b7e8-41c7-88e7-ccb0781eec67",
   "metadata": {
    "tags": []
   },
   "outputs": [],
   "source": [
    "i_min = 45. # degrees\n",
    "\n",
    "cosi2_max = np.cos(i_min*np.pi/180.)**2\n",
    "\n",
    "edge = good_deltaV_axis_inComa['cosi2'] <= cosi2_max\n",
    "\n",
    "good_edge_axis_inComa = good_deltaV_axis_inComa[edge]\n",
    "\n",
    "print(len(good_edge_axis_inComa), len(np.unique(good_edge_axis_inComa['SGA_ID'])))"
   ]
  },
  {
   "cell_type": "code",
   "execution_count": null,
   "id": "faa9ca20-392c-472c-93d2-809b67bd1eb1",
   "metadata": {
    "tags": []
   },
   "outputs": [],
   "source": [
    "plt.figure(tight_layout=True)\n",
    "\n",
    "plt.hist(np.arccos(np.sqrt(good_edge_axis_inComa['cosi2']))*180/np.pi, bins=np.linspace(0, 90, 10))\n",
    "\n",
    "plt.xlabel('inclination angle [deg]')\n",
    "plt.ylabel('number of observations');"
   ]
  },
  {
   "cell_type": "markdown",
   "id": "a1f8d4a7-9e92-4828-b730-a98b24799e4b",
   "metadata": {},
   "source": [
    "## Morphology cut"
   ]
  },
  {
   "cell_type": "code",
   "execution_count": null,
   "id": "b18aacdc-7dbc-4f15-a03c-6b3f14d72cde",
   "metadata": {
    "tags": []
   },
   "outputs": [],
   "source": [
    "good_edge_axis_inComa['MORPHTYPE'] = SGA['MORPHTYPE'][good_edge_axis_inComa['iSGA']]"
   ]
  },
  {
   "cell_type": "code",
   "execution_count": null,
   "id": "26587bfd-334d-4692-82e5-f3a9a54cc053",
   "metadata": {
    "tags": []
   },
   "outputs": [],
   "source": [
    "spirals = np.zeros(len(good_edge_axis_inComa), dtype=bool)\n",
    "\n",
    "for i in range(len(good_edge_axis_inComa)):\n",
    "    \n",
    "    try:    \n",
    "        if (good_edge_axis_inComa['MORPHTYPE'][i][0] == 'S') and (good_edge_axis_inComa['MORPHTYPE'][i][:2] != 'S0'):\n",
    "            spirals[i] = True\n",
    "    except IndexError:\n",
    "        print(good_edge_axis_inComa['MORPHTYPE'][i])\n",
    "\n",
    "good_edge_spirals_axis_inComa = good_edge_axis_inComa[spirals]\n",
    "\n",
    "print(len(good_edge_spirals_axis_inComa), len(np.unique(good_edge_spirals_axis_inComa['SGA_ID'])))"
   ]
  },
  {
   "cell_type": "markdown",
   "id": "345f6c36-5689-4081-a8bc-e64605813b8b",
   "metadata": {
    "tags": []
   },
   "source": [
    "## Visual inspection cut\n",
    "\n",
    "This removes any observations that are contaminated by foreground stars or other galaxies."
   ]
  },
  {
   "cell_type": "code",
   "execution_count": null,
   "id": "e56ac93d-27c4-413e-a950-96c555260cb9",
   "metadata": {
    "tags": []
   },
   "outputs": [],
   "source": [
    "def get_cutout(targetid, ra, dec, size, verbose=False):\n",
    "    \"\"\"Grab and cache legacy survey cutouts.\n",
    "    \n",
    "    Parameters\n",
    "    ----------\n",
    "    targetid : int\n",
    "        DESI target ID.\n",
    "    ra : float\n",
    "        Right ascension (degrees).\n",
    "    dec : float\n",
    "        Declination (degrees).\n",
    "    verbose : bool\n",
    "        Add some status messages if true.\n",
    "        \n",
    "    Returns\n",
    "    -------\n",
    "    img_name : str\n",
    "        Name of JPG cutout file written after query.\n",
    "    w : astropy.wcs.WCS\n",
    "        World coordinate system for the image.\n",
    "    \"\"\"\n",
    "    # Either load an existing image or download a cutout.\n",
    "    img_name = 'cache/coma_{}.jpg'.format(targetid)\n",
    "    \n",
    "    if os.path.exists(img_name):\n",
    "        if verbose:\n",
    "            print('{} exists.'.format(img_name))\n",
    "    else:\n",
    "        img_url = 'https://www.legacysurvey.org/viewer/cutout.jpg?ra={}&dec={}&zoom=14&layer=ls-dr9&size={}&sga'.format(ra, dec, size)\n",
    "        if verbose:\n",
    "            print('Get {}'.format(img_url))\n",
    "            \n",
    "        with open(img_name, 'wb') as handle: \n",
    "            response = requests.get(img_url, stream=True) \n",
    "            if not response.ok: \n",
    "                print(response) \n",
    "            for block in response.iter_content(1024): \n",
    "                if not block: \n",
    "                    break \n",
    "                handle.write(block)\n",
    "                \n",
    "    # Set up the WCS.\n",
    "    wcs_input_dict = {\n",
    "        'CTYPE1': 'RA---TAN',\n",
    "        'CUNIT1': 'deg',\n",
    "        'CDELT1': -0.262/3600,\n",
    "        'CRPIX1': size/2 + 0.5,\n",
    "        'CRVAL1': ra,\n",
    "        'NAXIS1': size,\n",
    "        'CTYPE2': 'DEC--TAN',\n",
    "        'CUNIT2': 'deg',\n",
    "        'CDELT2': 0.262/3600,\n",
    "        'CRPIX2': size/2 + 0.5,\n",
    "        'CRVAL2': dec,\n",
    "        'NAXIS2': size\n",
    "    }\n",
    "    w = WCS(wcs_input_dict)\n",
    "    \n",
    "    return img_name, w"
   ]
  },
  {
   "cell_type": "code",
   "execution_count": null,
   "id": "72c5b1cb-69cd-41b7-92e2-f96d00acab36",
   "metadata": {
    "tags": []
   },
   "outputs": [],
   "source": [
    "for sga_id in np.unique(good_edge_spirals_axis_inComa['SGA_ID']):\n",
    "    \n",
    "    tf_list = good_edge_spirals_axis_inComa[good_edge_spirals_axis_inComa['SGA_ID'] == sga_id]\n",
    "    center_list = centers_inComa[centers_inComa['SGA_ID'] == sga_id]\n",
    "    \n",
    "    try:\n",
    "        targetid = int(center_list['TARGETID'][0])\n",
    "    except TypeError as err:\n",
    "        print(err)\n",
    "        # print(sga_galaxy['TARGETID'])\n",
    "        continue\n",
    "    \n",
    "    ra, dec, z = float(SGA['RA'][SGA_dict[sga_id]]), float(SGA['DEC'][SGA_dict[sga_id]]), float(SGA['Z_DESI'][SGA_dict[sga_id]])\n",
    "    \n",
    "    # D26 in arcmin\n",
    "    d26 = SGA['D26'][SGA_dict[sga_id]]\n",
    "    \n",
    "    # Padd the image cutout of the galaxy.\n",
    "    # Multiply by 60 (to arcsec), divide by 180 to get pixscale.\n",
    "#     pixscale = 1.05*d26*60/180\n",
    "    npix = np.minimum(int(1.025 * d26*60/0.262), 512)\n",
    "    \n",
    "    #print(targetid, sga_id, ra, dec)\n",
    "#     img_file = get_cutout(targetid, ra, dec, size=npix, verbose=True)\n",
    "    img_file, wcs = get_cutout(targetid, ra, dec, size=npix, verbose=True)\n",
    "    img = mpl.image.imread(img_file)\n",
    "\n",
    "    fig1 = plt.figure(figsize=(7,5))\n",
    "\n",
    "    ax = fig1.add_subplot(111, projection=wcs)\n",
    "    ax.imshow(np.flip(img, axis=0))\n",
    "    ax.set(xlabel='ra', ylabel='dec')\n",
    "    ax.text(int(0.02*npix), int(0.85*npix), 'TARGETID: {}\\nSGA_ID: {}\\n$z={{{:.4f}}}$'.format(targetid, sga_id, z), fontsize=9, color='yellow')\n",
    "    overlay = ax.get_coords_overlay('icrs')\n",
    "    overlay.grid(color='white', ls='dotted');\n",
    "\n",
    "    # Add the location of the DESI fibers.\n",
    "    # SDSS fibers are 2\" diameter, DESI is 107 um with 70 um/\" plate scale.\n",
    "    r1 = SphericalCircle((ra * u.deg, dec * u.deg), (107./70) * u.arcsec,\n",
    "                         edgecolor='black', facecolor='none', alpha=0.8, lw=3,\n",
    "                         transform=ax.get_transform('icrs'))\n",
    "    r2 = SphericalCircle((ra * u.deg, dec * u.deg), (107./70) * u.arcsec,\n",
    "                         edgecolor='red', facecolor='none', alpha=0.8, lw=2,\n",
    "                         transform=ax.get_transform('icrs'))\n",
    "    ax.add_patch(r1)\n",
    "    ax.add_patch(r2)\n",
    "\n",
    "    for tft in tf_list:\n",
    "        ra, dec = tft['RA'], tft['DEC']\n",
    "        \n",
    "        edgecolor2 = 'orange'\n",
    "#         if tft['Z'] > 0.05:\n",
    "#             edgecolor2 = 'orange'\n",
    "#         else:\n",
    "#             edgecolor2 = 'lime'\n",
    "        \n",
    "        # Add the location of the DESI fibers.\n",
    "        # SDSS fibers are 2\" diameter, DESI is 107 um with 70 um/\" plate scale.\n",
    "        r1 = SphericalCircle((ra * u.deg, dec * u.deg), (107./70) * u.arcsec,\n",
    "                             edgecolor='lightcoral', facecolor='none', alpha=1, lw=3,\n",
    "                             transform=ax.get_transform('icrs'))\n",
    "        r2 = SphericalCircle((ra * u.deg, dec * u.deg), (107./70) * u.arcsec,\n",
    "                             edgecolor=edgecolor2, facecolor='none', alpha=0.8, lw=2,\n",
    "                             transform=ax.get_transform('icrs'))\n",
    "        ax.add_patch(r1)\n",
    "        ax.add_patch(r2)\n",
    "        \n",
    "        ax.text(ra, dec, str(tft['TARGETID']), transform=ax.get_transform('icrs'), color='white')\n",
    "    \n",
    "    fig1.subplots_adjust(top=0.85, right=0.85, bottom=0.15, left=0.15)\n",
    "    \n",
    "    fig1.savefig('cache/fuji_VI_cutouts/dist_{}.png'.format(sga_id), dpi=120)\n",
    "    \n",
    "    fig1.clear()\n",
    "    plt.close(fig1)\n",
    "    '''\n",
    "    #----------------------------------------------------------------------------------\n",
    "    # Get spectra\n",
    "    #----------------------------------------------------------------------------------\n",
    "    coadds = get_spectra_for_sga(good_edge_spirals_axis_inComa, sga_id)\n",
    "    n = coadds.num_spectra()\n",
    "\n",
    "    fig2, axes = plt.subplots(n,1, figsize=(8,4*n), sharex=True, sharey=True, tight_layout=True)\n",
    "\n",
    "    for i in range(n):\n",
    "        wave = coadds.wave['brz']\n",
    "        flux = coadds.flux['brz'][i]\n",
    "        smoothed = gaussian_filter1d(flux, 7)\n",
    "\n",
    "        ax = axes[i]\n",
    "        ax.plot(wave, smoothed, label='TARGETID: {}'.format(coadds.fibermap['TARGETID'][i]))\n",
    "        ax.set(ylabel=r'flux [$10^{-17}$ erg cm$^{-2}$ s$^{-1}$ $\\AA^{-1}$]')\n",
    "        if i+1 == n:\n",
    "            ax.set(xlabel=r'$\\lambda_\\mathrm{obs}$ [$\\AA$]')\n",
    "\n",
    "        ax.legend(loc='upper right', fontsize=10)\n",
    "    \n",
    "    # figure = PdfPages('cache/DM_cutouts/dist_{}.pdf'.format(sga_id))\n",
    "    # figure.savefig(fig1, dpi = 300)\n",
    "    # figure.savefig(fig2, dpi = 120)\n",
    "    # figure.close()\n",
    "    \n",
    "    break\n",
    "    ''';"
   ]
  },
  {
   "cell_type": "code",
   "execution_count": null,
   "id": "6984bebc-63cb-4017-9416-b7f8d8f64a9a",
   "metadata": {
    "tags": []
   },
   "outputs": [],
   "source": [
    "good_edge_spirals_axis_inComa['TARGETID'][good_edge_spirals_axis_inComa['SGA_ID'] == 364410]"
   ]
  },
  {
   "cell_type": "code",
   "execution_count": null,
   "id": "8bf1f30e-5953-429e-8f8c-45289d5a7f8d",
   "metadata": {
    "tags": []
   },
   "outputs": [],
   "source": [
    "VI_remove = Table.read('fuji_VI.txt', format='ascii.commented_header')\n",
    "\n",
    "remove_targets = np.zeros(len(good_edge_spirals_axis_inComa), dtype=bool)\n",
    "\n",
    "for targetid in VI_remove['TARGETID']:\n",
    "    \n",
    "    remove_targets = remove_targets & (good_edge_spirals_axis_inComa['TARGETID'] == targetid)\n",
    "    \n",
    "VI_good_edge_spirals_axis_inComa = good_edge_spirals_axis_inComa[~remove_targets]\n",
    "\n",
    "print(len(VI_good_edge_spirals_axis_inComa), len(np.unique(VI_good_edge_spirals_axis_inComa['SGA_ID'])))"
   ]
  },
  {
   "cell_type": "markdown",
   "id": "e2227c26-5144-4307-bb00-de22e6b5994e",
   "metadata": {},
   "source": [
    "# Coma TFR"
   ]
  },
  {
   "cell_type": "markdown",
   "id": "28b329bd-ef73-49cf-a423-17637416a3cd",
   "metadata": {},
   "source": [
    "## Compute the weighted average velocity for those galaxies with more than one observation at $0.33R_{26}$:\n",
    "\n",
    "\\begin{equation}\n",
    "  \\overline{v} = \\frac{\\sum_i w_i v_i}{\\sum_i w_i}\n",
    "\\end{equation}\n",
    "where $w_i = 1/\\sigma^2$."
   ]
  },
  {
   "cell_type": "code",
   "execution_count": null,
   "id": "ab67b9c8-b8b7-46c7-af40-3813763c65e1",
   "metadata": {
    "tags": []
   },
   "outputs": [],
   "source": [
    "SGA['V_0p33R26'] = np.nan\n",
    "SGA['V_0p33R26_err'] = np.nan\n",
    "\n",
    "weights = 1./(VI_good_edge_spirals_axis_inComa['V_ROT_ERR']**2)\n",
    "\n",
    "for sga_id in np.unique(VI_good_edge_spirals_axis_inComa['SGA_ID']):\n",
    "    \n",
    "    # Identify all galaxy targets on this galaxy\n",
    "    obs_idx = VI_good_edge_spirals_axis_inComa['SGA_ID'] == sga_id\n",
    "    \n",
    "    SGA['V_0p33R26'][SGA_dict[sga_id]] = np.average(np.abs(VI_good_edge_spirals_axis_inComa['V_ROT'][obs_idx]), \n",
    "                                                    weights=weights[obs_idx])\n",
    "\n",
    "    SGA['V_0p33R26_err'][SGA_dict[sga_id]] = np.sqrt(1./np.sum(weights[obs_idx]))"
   ]
  },
  {
   "cell_type": "code",
   "execution_count": null,
   "id": "0f235e6b-855e-422f-a8ba-2be7c7fd45e9",
   "metadata": {
    "tags": []
   },
   "outputs": [],
   "source": [
    "# Make a catalog of just those galaxies with velocities\n",
    "SGA_TF = SGA[np.isfinite(SGA['V_0p33R26']) & (SGA['R_MAG_SB26'] > 0)]\n",
    "\n",
    "Christoph_removed = np.in1d(SGA_TF['SGA_ID'], [309306, 455486, 486394, 1167691, 1269260])"
   ]
  },
  {
   "cell_type": "code",
   "execution_count": null,
   "id": "e30c4a9b-a6b8-4f42-ad98-e2c727302204",
   "metadata": {
    "tags": []
   },
   "outputs": [],
   "source": [
    "plt.figure(figsize=(4,5), tight_layout=True)\n",
    "\n",
    "plt.errorbar(np.log10(SGA_TF['V_0p33R26']), \n",
    "             SGA_TF['R_MAG_SB26'], \n",
    "             xerr=0.434*SGA_TF['V_0p33R26_err']/SGA_TF['V_0p33R26'],\n",
    "             yerr=SGA_TF['R_MAG_SB26_ERR'], \n",
    "             fmt='.')\n",
    "plt.errorbar(np.log10(SGA_TF['V_0p33R26'][Christoph_removed]), \n",
    "             SGA_TF['R_MAG_SB26'][Christoph_removed], \n",
    "             xerr=0.434*SGA_TF['V_0p33R26_err'][Christoph_removed]/SGA_TF['V_0p33R26'][Christoph_removed],\n",
    "             yerr=SGA_TF['R_MAG_SB26_ERR'][Christoph_removed], \n",
    "             fmt='.')\n",
    "\n",
    "plt.xlim([0.5, 3])\n",
    "plt.ylim([18, 13])\n",
    "\n",
    "plt.xlabel('log($V_{rot}$ [km/s])')\n",
    "plt.ylabel('$m_r (26)$');"
   ]
  },
  {
   "cell_type": "markdown",
   "id": "d14d965a-0fb6-4101-a5bf-2fab83998fd8",
   "metadata": {},
   "source": [
    "## Fit the ITFR using `hyperfit`"
   ]
  },
  {
   "cell_type": "code",
   "execution_count": null,
   "id": "4d3c78bd-3ccd-4251-aa80-472fcf3d0f75",
   "metadata": {
    "tags": []
   },
   "outputs": [],
   "source": [
    "bounds_itfr = ((-1000.0, 1000.0), (-10.0, 10.0), (1.0e-5, 500.0))\n",
    "\n",
    "w0, w1, sig_w, cov_w, itfr_mcmc_samples, hf_itfr = hyperfit_line(SGA_TF['R_MAG_SB26'], \n",
    "                                                                 np.log10(SGA_TF['V_0p33R26']) - V0, \n",
    "                                                                 SGA_TF['R_MAG_SB26_ERR'], \n",
    "                                                                 0.434*SGA_TF['V_0p33R26_err']/SGA_TF['V_0p33R26'], \n",
    "                                                                 bounds_itfr)"
   ]
  },
  {
   "cell_type": "code",
   "execution_count": null,
   "id": "bfcd61f6-1068-43cb-a924-627083ea42ce",
   "metadata": {
    "tags": []
   },
   "outputs": [],
   "source": [
    "fig = corner.corner(itfr_mcmc_samples.T, bins=30, smooth=1,\n",
    "                    range=[[-0.23, -0.05], [0, 3], [0.05, 0.25]],   # Range for w0, w1, sigma. Adjust as needed.\n",
    "                    labels=['$w_0$', '$w_1$', r'$\\sigma$'],\n",
    "                    levels=(1-np.exp(-0.5), 1-np.exp(-2)),\n",
    "                    quantiles=[0.16, 0.5, 0.84],\n",
    "                    color='tab:blue',\n",
    "                    hist_kwargs={'histtype':'stepfilled', 'alpha':0.3},\n",
    "                    plot_datapoints=False,\n",
    "                    fill_contours=True,\n",
    "                    show_titles=True,\n",
    "                    title = {'Coma'},\n",
    "                    title_kwargs={\"fontsize\": 14})"
   ]
  },
  {
   "cell_type": "code",
   "execution_count": null,
   "id": "7c1fa36f-2fc5-4d5b-99fa-df1994cbddd9",
   "metadata": {
    "tags": []
   },
   "outputs": [],
   "source": [
    "a_itfr, b_itfr, cov_itfr = param_invert(w0, w1, cov_w[:2,:2])\n",
    "\n",
    "print(f'         w0: {w0:.3f} +/- {np.sqrt(cov_w[0,0]):.3f}')\n",
    "print(f'         w1:  {w1:.2f}  +/- {np.sqrt(cov_w[1,1]):.2f}')\n",
    "print(f'      slope: {a_itfr:.2f}  +/- {np.sqrt(cov_itfr[0,0]):.2f}')\n",
    "print(f'y-intercept: {b_itfr:.2f}  +/- {np.sqrt(cov_itfr[1,1]):.2f}')"
   ]
  },
  {
   "cell_type": "markdown",
   "id": "d258498e-7774-4a48-ac8f-c551d2e42fe8",
   "metadata": {},
   "source": [
    "### Plot the Hyperfit\n",
    "\n",
    "After the linear fit MCMC, construct the bestfit line and its 1-sigma uncertainties.\n",
    "\n",
    "Also plot the measurements as ellipses with the size given by the uncertainties in log(v) and $m_r$, and the color given by the best-fit scatter parameter $\\sigma_i$.\n",
    "\n",
    "Code taken from plotting examples in [hyperfit documentation](https://hyperfit.readthedocs.io/en/latest/tutorial.html#a-simple-best-fit)."
   ]
  },
  {
   "cell_type": "code",
   "execution_count": null,
   "id": "2eea7a2e-ea65-40ae-a32f-e2438bd2b1ee",
   "metadata": {
    "tags": []
   },
   "outputs": [],
   "source": [
    "# Invert the MCMC samples so that they represent (a, b) and not (w0, w1)\n",
    "tfr_mcmc_samples = np.zeros(itfr_mcmc_samples.shape)\n",
    "\n",
    "tfr_mcmc_samples[0] = 1./itfr_mcmc_samples[0]\n",
    "tfr_mcmc_samples[1] = -itfr_mcmc_samples[1]/itfr_mcmc_samples[0]\n",
    "tfr_mcmc_samples[2] = itfr_mcmc_samples[2]"
   ]
  },
  {
   "cell_type": "code",
   "execution_count": null,
   "id": "4155bf09-15cd-433d-aeb8-8389c2488889",
   "metadata": {
    "tags": []
   },
   "outputs": [],
   "source": [
    "temp_outfile = open('mcmc_fuji_Coma_ITFR_KAD.pickle', 'wb')\n",
    "pickle.dump((cov_w, cov_itfr, itfr_mcmc_samples, tfr_mcmc_samples), temp_outfile)\n",
    "temp_outfile.close()"
   ]
  },
  {
   "cell_type": "code",
   "execution_count": null,
   "id": "7a1a81c5-ecc6-44ba-91cf-89ed40c28f7c",
   "metadata": {
    "tags": []
   },
   "outputs": [],
   "source": [
    "fig = corner.corner(tfr_mcmc_samples.T, bins=30, smooth=1,\n",
    "                    range=[[-12, -4], [10, 13.5], [0.05, 0.25]],   # Range for a, b, sigma. Adjust as needed.\n",
    "                    labels=['$a$', '$b$', r'$\\sigma$'],\n",
    "                    levels=(1-np.exp(-0.5), 1-np.exp(-2)),\n",
    "                    quantiles=[0.16, 0.5, 0.84],\n",
    "                    color='tab:blue',\n",
    "                    hist_kwargs={'histtype':'stepfilled', 'alpha':0.3},\n",
    "                    plot_datapoints=False,\n",
    "                    fill_contours=True,\n",
    "                    show_titles=True,\n",
    "                    title = {'Coma'},\n",
    "                    title_kwargs={\"fontsize\": 14})\n",
    "\n",
    "fig.savefig('../../Figures/SV/fuji_Coma_corner_20230818.png', dpi=150)"
   ]
  },
  {
   "cell_type": "code",
   "execution_count": null,
   "id": "025aceb4-ef75-4033-846e-efb253befd04",
   "metadata": {
    "tags": []
   },
   "outputs": [],
   "source": [
    "sigmas = hf_itfr.get_sigmas()\n",
    "xvals = np.linspace(1., 3., 1000)\n",
    "yvals = a_itfr * (xvals - V0) + b_itfr\n",
    "\n",
    "# Get the MCMC 1-sigma quantiles to plot with the fit.\n",
    "y_chain = np.outer(xvals - V0, tfr_mcmc_samples[0]) + tfr_mcmc_samples[1]\n",
    "y_chain_quantiles = np.quantile(y_chain, [0.1587, 0.8414], axis=1)\n",
    "\n",
    "# Pack info into data\n",
    "data = [np.log10(SGA_TF['V_0p33R26']), SGA_TF['R_MAG_SB26']]\n",
    "x_err = 0.434*SGA_TF['V_0p33R26_err']/SGA_TF['V_0p33R26']\n",
    "y_err = SGA_TF['R_MAG_SB26_ERR']\n",
    "corr_xy = np.zeros_like(x_err)\n",
    "\n",
    "# Generate ellipses\n",
    "ells = [\n",
    "    Ellipse(\n",
    "        xy=[data[0][i], data[1][i]],\n",
    "        width=2*y_err[i],\n",
    "        height=2*x_err[i],\n",
    "        angle=np.rad2deg(np.arccos(corr_xy[i])),\n",
    "    )\n",
    "    for i in range(len(data[0]))\n",
    "]\n",
    "\n",
    "# Make the plot\n",
    "fig, ax = plt.subplots(figsize=(4,5), tight_layout=True)\n",
    "ax.fill_between(xvals, y_chain_quantiles[0], y_chain_quantiles[1], color=\"lightgray\")\n",
    "for i, e in enumerate(ells):\n",
    "    ax.add_artist(e)\n",
    "    #e.set_edgecolor('None')\n",
    "    e.set_facecolor(adjust_lightness('tab:blue', amount=1.75))\n",
    "ax.plot(data[0], data[1], 'x')\n",
    "ax.plot(xvals, yvals, c=\"k\", marker=\"None\", ls=\"-\", lw=1.3)\n",
    "ax.plot(xvals - hf_itfr.vert_scat, yvals, c=\"k\", marker=\"None\", ls=\"--\", lw=1.3)\n",
    "ax.plot(xvals + hf_itfr.vert_scat, yvals, c=\"k\", marker=\"None\", ls=\"--\", lw=1.3)\n",
    "ax.set_xlabel(r\"$\\log{(V_\\mathrm{0.33R_{26}} [\\mathrm{km/s}])}$\", fontsize=14)\n",
    "ax.set_ylabel(r\"$m_r(26)$\", fontsize=14)\n",
    "ax.set_title(\"Coma Cluster ({} galaxies)\".format(len(SGA_TF)), fontsize = 14)\n",
    "ax.set_xlim(0.5, 3)\n",
    "ax.set_ylim(18, 13);\n",
    "\n",
    "plt.savefig('../../Figures/SV/fuji_Coma_TFR_20230818.png', dpi=150)"
   ]
  },
  {
   "cell_type": "code",
   "execution_count": null,
   "id": "878ac0eb-9d7a-4439-b467-04b804a85373",
   "metadata": {},
   "outputs": [],
   "source": []
  }
 ],
 "metadata": {
  "kernelspec": {
   "display_name": "DESI main",
   "language": "python",
   "name": "desi-main"
  },
  "language_info": {
   "codemirror_mode": {
    "name": "ipython",
    "version": 3
   },
   "file_extension": ".py",
   "mimetype": "text/x-python",
   "name": "python",
   "nbconvert_exporter": "python",
   "pygments_lexer": "ipython3",
   "version": "3.10.8"
  }
 },
 "nbformat": 4,
 "nbformat_minor": 5
}
