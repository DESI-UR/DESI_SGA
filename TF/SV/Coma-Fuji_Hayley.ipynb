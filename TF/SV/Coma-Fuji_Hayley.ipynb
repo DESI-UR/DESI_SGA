{
 "cells": [
  {
   "cell_type": "code",
   "execution_count": 1,
   "id": "59cc0b54-3877-4fe4-9e35-9993cef14278",
   "metadata": {},
   "outputs": [],
   "source": [
    "import numpy as np\n",
    "\n",
    "import matplotlib.pyplot as plt\n",
    "plt.rcParams[\"text.usetex\"] = False\n",
    "from matplotlib import cm, colors\n",
    "from matplotlib.patches import Ellipse\n",
    "\n",
    "from astropy.io import fits\n",
    "from astropy.utils.data import get_pkg_data_filename\n",
    "import pandas as pd\n",
    "from astropy.table import Table, unique\n",
    "from astropy.coordinates import SkyCoord, match_coordinates_sky\n",
    "\n",
    "import numpy as np\n",
    "import matplotlib.pyplot as plt\n",
    "from astropy.io import fits\n",
    "from astropy.utils.data import get_pkg_data_filename\n",
    "import pandas as pd\n",
    "from astropy.table import Table\n",
    "from astropy.coordinates import SkyCoord, match_coordinates_sky\n",
    "from astropy import units as u\n",
    "from astropy.table import join\n",
    "from scipy.optimize import minimize, curve_fit\n",
    "\n",
    "import corner"
   ]
  },
  {
   "cell_type": "code",
   "execution_count": null,
   "id": "8b65a198-15a6-4165-9dd8-c8a340c06457",
   "metadata": {},
   "outputs": [],
   "source": [
    "try:\n",
    "    import numdifftools as ndt\n",
    "except ModuleNotFoundError as e:\n",
    "    ! pip install --user numdifftools\n",
    "    import numdifftools as ndt"
   ]
  },
  {
   "cell_type": "code",
   "execution_count": 2,
   "id": "3118e60b-207f-4a5c-b061-beb7e3fa9c66",
   "metadata": {},
   "outputs": [],
   "source": [
    "from astropy.io import fits\n",
    "from astropy import units as u\n",
    "from astropy.time import Time\n",
    "from astropy.table import Table, vstack, hstack, join, unique\n",
    "from astropy.coordinates import SkyCoord, match_coordinates_sky\n",
    "from astropy.wcs import WCS\n",
    "from astropy.visualization.wcsaxes import SphericalCircle\n",
    "\n",
    "from datetime import datetime, timedelta\n",
    "\n",
    "from scipy.ndimage import gaussian_filter1d\n",
    "\n",
    "import os\n",
    "from glob import glob\n",
    "\n",
    "import psycopg2\n",
    "\n",
    "from tqdm.notebook import tqdm_notebook\n",
    "\n",
    "import numpy as np\n",
    "import matplotlib as mpl\n",
    "import matplotlib.pyplot as plt"
   ]
  },
  {
   "cell_type": "code",
   "execution_count": 3,
   "id": "136cade9-7d7a-4825-86c4-f69e9525e97b",
   "metadata": {},
   "outputs": [],
   "source": [
    "h = 1\n",
    "H0 = 100*h\n",
    "\n",
    "c = 3e5\n",
    "\n",
    "q0 = 0.2"
   ]
  },
  {
   "cell_type": "code",
   "execution_count": 4,
   "id": "3499d962-2cb2-4669-a1aa-b8e52625fc3a",
   "metadata": {},
   "outputs": [],
   "source": [
    "def firstdigit(n):\n",
    "    \"\"\"Return the first digit of a number.\n",
    "    \n",
    "    Parameters\n",
    "    ----------\n",
    "    n : int, float, or ndarray\n",
    "        Number or list of numbers.\n",
    "    \n",
    "    Returns\n",
    "    -------\n",
    "    digit : int\n",
    "        First digit of the number.\n",
    "    \"\"\"\n",
    "    return np.trunc(n * 10**(-np.trunc(np.log10(n)))).astype(int)\n",
    "\n",
    "def plot_radec(ra, dec):\n",
    "    \"\"\"Mollweide projection plot adapted to astro coordinates.\n",
    "    \n",
    "    Parameters\n",
    "    ----------\n",
    "    ra : pandas.Series or list\n",
    "        List of candidate RA [deg].\n",
    "    dec : pandas.Series or list\n",
    "        List of candidate Dec [deg].\n",
    "    \n",
    "    Returns\n",
    "    -------\n",
    "    fig : matplotlib.Figure\n",
    "        Figure object to let user apply further plot manipulation.\n",
    "    \"\"\"\n",
    "    # Convert RA, Dec to radians.\n",
    "    # Rotate the RA so that the plot goes 360->0 left to right.\n",
    "    _ra = np.radians(120 - ra)\n",
    "    _ra[_ra < -np.pi] += 2*np.pi\n",
    "    _dec = np.radians(dec)\n",
    "\n",
    "    fig, ax = plt.subplots(1,1, figsize=(8,4), subplot_kw={'projection': 'mollweide'})\n",
    "    ax.scatter(_ra, _dec, alpha=0.5, s=2)\n",
    "    ax.set(xticks=np.radians([-150, -120, -90, -60, -30, 0, 30, 60, 90, 120, 150]),\n",
    "           xticklabels=['270', '240', '210', '180', '150', '120', '90', '60', '30', '0', '330'])\n",
    "    ax.tick_params(axis='x', labelsize=10)\n",
    "    ax.tick_params(axis='y', labelsize=10)\n",
    "    ax.grid(ls=':')\n",
    "    fig.tight_layout()\n",
    "    \n",
    "    return fig;\n",
    "\n",
    "import requests\n",
    "\n",
    "def get_cutout(targetid, ra, dec, width=300, height=300, verbose=False):\n",
    "    \"\"\"Grab and cache legacy survey cutouts.\n",
    "    \n",
    "    Parameters\n",
    "    ----------\n",
    "    targetid : int\n",
    "        DESI target ID.\n",
    "    ra : float\n",
    "        Right ascension (degrees).\n",
    "    dec : float\n",
    "        Declination (degrees).\n",
    "    verbose : bool\n",
    "        Add some status messages if true.\n",
    "        \n",
    "    Returns\n",
    "    -------\n",
    "    img_name : str\n",
    "        Name of JPG cutout file written after query.\n",
    "    w : astropy.wcs.WCS\n",
    "        World coordinate system for the image.\n",
    "    \"\"\"\n",
    "    # Either load an existing image or download a cutout.\n",
    "    os.makedirs('_cache', exist_ok=True)\n",
    "    img_name = f'_cache/cutout_{targetid}_{width}_{height}.jpg'\n",
    "    \n",
    "    if os.path.exists(img_name):\n",
    "        if verbose:\n",
    "            print('{} exists.'.format(img_name))\n",
    "    else:\n",
    "        if verbose:\n",
    "            print('Accessing {}'.format(img_name))\n",
    "        img_url = f'https://www.legacysurvey.org/viewer/cutout.jpg?ra={ra}&dec={dec}&%22/pix=0.25&layer=ls-dr9&width={width}&height={height}&sga'\n",
    "        with open(img_name, 'wb') as handle: \n",
    "            response = requests.get(img_url, stream=True) \n",
    "            if not response.ok: \n",
    "                print(response) \n",
    "            for block in response.iter_content(1024): \n",
    "                if not block: \n",
    "                    break \n",
    "                handle.write(block)\n",
    "                \n",
    "    # Set up the WCS.\n",
    "    wcs_input_dict = {\n",
    "        'CTYPE1': 'RA---TAN',\n",
    "        'CUNIT1': 'deg',\n",
    "        'CDELT1': -0.25/3600,\n",
    "        'CRPIX1': width//2,\n",
    "        'CRVAL1': ra,\n",
    "        'NAXIS1': width,\n",
    "        'CTYPE2': 'DEC--TAN',\n",
    "        'CUNIT2': 'deg',\n",
    "        'CDELT2': 0.25/3600,\n",
    "        'CRPIX2': height//2,\n",
    "        'CRVAL2': dec,\n",
    "        'NAXIS2': height\n",
    "    }\n",
    "    w = WCS(wcs_input_dict)\n",
    "    \n",
    "    return img_name, w"
   ]
  },
  {
   "cell_type": "code",
   "execution_count": 5,
   "id": "1dc80e3c-35a9-40f8-b666-53f25c184c18",
   "metadata": {},
   "outputs": [],
   "source": [
    "def clean_catalog(data):\n",
    "    \"\"\"Take a catalog matched to PV TF targets and apply quality cuts:\n",
    "    * Keep only good redshifts (ZWARN==0, DELTACHI2>=25)\n",
    "    * Ensure 1 main DESI TARGETID per SGA_ID\n",
    "    * Ensure >1 distinct TARGETIDs per SGA_ID\n",
    "    * Ensure targets are not all spatially coincident.\n",
    "    \n",
    "    Parameters\n",
    "    ----------\n",
    "    data : astropy.Table\n",
    "        Table of TF redshift measurements and matched SGA_IDs.\n",
    "    \n",
    "    Returns\n",
    "    -------\n",
    "    data_tf: astropy.Table or None\n",
    "        Data suitable for Tully-Fisher analysis, after basic cuts.\n",
    "    \"\"\"\n",
    "    # All targets\n",
    "    _ids_all, _counts_all = np.unique(tfuji['SGA_ID'], return_counts=True)\n",
    "\n",
    "    # Identify targets with good redshifts.\n",
    "    isgoodz = (data['ZWARN']==0) & (data['DELTACHI2']>=25)\n",
    "    _ids_goodz, _counts_goodz = np.unique(data['SGA_ID'][isgoodz], return_counts=True)\n",
    "\n",
    "    # Select SGA_IDs with at least 2 good associated redshifts.\n",
    "    select = np.in1d(data['SGA_ID'], _ids_goodz[_counts_goodz > 1]) & isgoodz\n",
    "    data = data[select].group_by('SGA_ID')\n",
    "\n",
    "    # Storage for output.\n",
    "    data_tf = None\n",
    "\n",
    "    # Loop through the table and keep only SGA IDs with >= 2 unique TARGETIDs, where one is a MAIN survey target.\n",
    "    sga_ids = np.unique(data['SGA_ID'])\n",
    "    N = len(sga_ids)\n",
    "\n",
    "    with tqdm_notebook(total=N) as progress_bar:\n",
    "        for i, sga_id in enumerate(sga_ids):\n",
    "            progress_bar.update(1)\n",
    "            tab = data[data['SGA_ID']==sga_id]\n",
    "\n",
    "            # MAIN targets have a TARGETID that starts with 3. Ensure one is present.\n",
    "            digits = firstdigit(tab['TARGETID'])\n",
    "            if np.any(digits == 3):\n",
    "                maintargetids = np.unique(tab['TARGETID'][digits==3].value)\n",
    "\n",
    "                # Ensure there are at least two distinct TARGETIDs matched to this SGA_ID.\n",
    "                ntargets = len(np.unique(tab['TARGETID'].value))\n",
    "                if ntargets >= 2:\n",
    "\n",
    "                    # Ensure the TARGETIDs correspond to distinct locations on the sky.\n",
    "                    coords = SkyCoord(tab['TARGET_RA'], tab['TARGET_DEC'], frame='icrs', unit='degree')\n",
    "                    is_distinct = np.any([c1.separation(c2).to_value('arcsec') > 1 for c1 in coords for c2 in coords])\n",
    "                    if not is_distinct:\n",
    "                        continue\n",
    "                # Check that there two or more TARGETIDs.\n",
    "                else:\n",
    "                    continue\n",
    "            # Check that there is a MAIN survey TARGETID associated with this SGA_ID.\n",
    "            else:\n",
    "                continue\n",
    "\n",
    "            if data_tf is None:\n",
    "                data_tf = tab\n",
    "            else:\n",
    "                data_tf = vstack([data_tf, tab])\n",
    "\n",
    "    return data_tf"
   ]
  },
  {
   "cell_type": "markdown",
   "id": "f0c75da8-2ff7-4ea4-8592-ab31bf5c06c7",
   "metadata": {},
   "source": [
    "# Import fuji file"
   ]
  },
  {
   "cell_type": "code",
   "execution_count": 6,
   "id": "1e204d31-4d60-4a2d-a068-5cf117047da6",
   "metadata": {},
   "outputs": [
    {
     "data": {
      "text/html": [
       "<div><i>Table length=13134</i>\n",
       "<table id=\"table23453808220624\" class=\"table-striped table-bordered table-condensed\">\n",
       "<thead><tr><th>TARGETID</th><th>TARGET_RA</th><th>TARGET_DEC</th><th>HEALPIX</th><th>SURVEY</th><th>Z</th><th>ZERR</th><th>ZWARN</th><th>DELTACHI2</th><th>FILENAME</th><th>PVTYPE</th><th>SGA_ID</th><th>RA</th><th>DEC</th></tr></thead>\n",
       "<thead><tr><th>int64</th><th>float64</th><th>float64</th><th>int64</th><th>bytes3</th><th>float64</th><th>float64</th><th>int64</th><th>float64</th><th>bytes63</th><th>bytes3</th><th>int64</th><th>float64</th><th>float64</th></tr></thead>\n",
       "<tr><td>1079550234591232</td><td>194.390863195343</td><td>27.5157211790145</td><td>10378</td><td>sv3</td><td>1.1235686466514</td><td>7.31685779475115e-05</td><td>4</td><td>3.28414569795132</td><td>fuji/healpix/sv3/bright/103/10378/redrock-sv3-bright-10378.fits</td><td>EXT</td><td>662902</td><td>194.39086319534337</td><td>27.51572117901454</td></tr>\n",
       "<tr><td>1092744374124544</td><td>194.390863195343</td><td>27.5157211790145</td><td>10378</td><td>sv3</td><td>0.686773088332363</td><td>6.9756676262104e-05</td><td>4</td><td>0.786607094109058</td><td>fuji/healpix/sv3/dark/103/10378/redrock-sv3-dark-10378.fits</td><td>EXT</td><td>662902</td><td>194.39086319534337</td><td>27.51572117901454</td></tr>\n",
       "<tr><td>1092744374124546</td><td>194.364461113654</td><td>27.5037185881314</td><td>10378</td><td>sv3</td><td>0.0242933923052181</td><td>4.95233472646785e-05</td><td>0</td><td>95.428411073226</td><td>fuji/healpix/sv3/dark/103/10378/redrock-sv3-dark-10378.fits</td><td>EXT</td><td>662902</td><td>194.36446111365385</td><td>27.50371858813136</td></tr>\n",
       "<tr><td>1092744369930240</td><td>194.338458724402</td><td>27.4918902690326</td><td>10378</td><td>sv3</td><td>0.0264170223697961</td><td>0.00010139452689994</td><td>0</td><td>9.53278421035066</td><td>fuji/healpix/sv3/dark/103/10378/redrock-sv3-dark-10378.fits</td><td>EXT</td><td>662902</td><td>194.33845872440244</td><td>27.491890269032595</td></tr>\n",
       "<tr><td>1092744374124545</td><td>194.377858465028</td><td>27.5098100780282</td><td>10378</td><td>sv3</td><td>0.211332646769145</td><td>6.68535116703737e-05</td><td>4</td><td>3.73989077657461</td><td>fuji/healpix/sv3/dark/103/10378/redrock-sv3-dark-10378.fits</td><td>EXT</td><td>662902</td><td>194.3778584650283</td><td>27.509810078028195</td></tr>\n",
       "<tr><td>1092744369930241</td><td>194.325065734878</td><td>27.4857950068364</td><td>10378</td><td>sv3</td><td>0.34112572843082</td><td>7.87536530522298e-05</td><td>4</td><td>5.80425057094544</td><td>fuji/healpix/sv3/dark/103/10378/redrock-sv3-dark-10378.fits</td><td>EXT</td><td>662902</td><td>194.3250657348779</td><td>27.48579500683636</td></tr>\n",
       "<tr><td>1079550230396930</td><td>194.312068074608</td><td>27.4798777913963</td><td>10378</td><td>sv3</td><td>1.43883246626074</td><td>0.000118079246392633</td><td>4</td><td>1.41281921416521</td><td>fuji/healpix/sv3/bright/103/10378/redrock-sv3-bright-10378.fits</td><td>EXT</td><td>662902</td><td>194.3120680746076</td><td>27.479877791396284</td></tr>\n",
       "<tr><td>1092744369930242</td><td>194.312068074608</td><td>27.4798777913963</td><td>10378</td><td>sv3</td><td>0.141836800089955</td><td>6.14844128636576e-05</td><td>4</td><td>8.01571118086576</td><td>fuji/healpix/sv3/dark/103/10378/redrock-sv3-dark-10378.fits</td><td>EXT</td><td>662902</td><td>194.3120680746076</td><td>27.479877791396284</td></tr>\n",
       "<tr><td>1080141245579266</td><td>268.972484124775</td><td>62.5902888954075</td><td>10207</td><td>sv3</td><td>1.25885927887654</td><td>0.000161730072763419</td><td>4</td><td>4.86104696989059</td><td>fuji/healpix/sv3/bright/102/10207/redrock-sv3-bright-10207.fits</td><td>EXT</td><td>674212</td><td>268.972484124775</td><td>62.59028889540747</td></tr>\n",
       "<tr><td>1092231427522560</td><td>208.352177440161</td><td>5.20876513433155</td><td>26432</td><td>sv3</td><td>0.00303767701971418</td><td>7.77079295855834e-05</td><td>0</td><td>60.6499349754095</td><td>fuji/healpix/sv3/dark/264/26432/redrock-sv3-dark-26432.fits</td><td>EXT</td><td>560867</td><td>208.35217744016057</td><td>5.2087651343315455</td></tr>\n",
       "<tr><td>...</td><td>...</td><td>...</td><td>...</td><td>...</td><td>...</td><td>...</td><td>...</td><td>...</td><td>...</td><td>...</td><td>...</td><td>...</td><td>...</td></tr>\n",
       "<tr><td>39627799832565848</td><td>180.490647675296</td><td>0.613352516597521</td><td>27648</td><td>sv3</td><td>0.0785722823296796</td><td>1.8284679629918e-05</td><td>0</td><td>5060.8974143751</td><td>fuji/healpix/sv3/bright/276/27648/redrock-sv3-bright-27648.fits</td><td>SGA</td><td>184073</td><td>180.49064767529634</td><td>0.6133525165975208</td></tr>\n",
       "<tr><td>39627776252188890</td><td>214.987010854477</td><td>-0.503343602041398</td><td>25960</td><td>sv3</td><td>0.13533271685813</td><td>1.73662210536451e-05</td><td>0</td><td>1587.39171415847</td><td>fuji/healpix/sv3/bright/259/25960/redrock-sv3-bright-25960.fits</td><td>SGA</td><td>1233778</td><td>214.98701085447712</td><td>-0.5033436020413983</td></tr>\n",
       "<tr><td>39627779326613824</td><td>38.1871219355261</td><td>-0.259331150046025</td><td>17764</td><td>sv1</td><td>0.110101718990823</td><td>1.00047608114901e-05</td><td>0</td><td>3376.37831874937</td><td>fuji/healpix/sv1/bright/177/17764/redrock-sv1-bright-17764.fits</td><td>SGA</td><td>632014</td><td>38.18712193552614</td><td>-0.25933115004602497</td></tr>\n",
       "<tr><td>39627884993714761</td><td>218.29412247975</td><td>3.94263082693601</td><td>26068</td><td>sv3</td><td>0.0300338385401113</td><td>2.1331829270915e-06</td><td>0</td><td>7072.27006235719</td><td>fuji/healpix/sv3/bright/260/26068/redrock-sv3-bright-26068.fits</td><td>SGA</td><td>720907</td><td>218.29412247974997</td><td>3.9426308269360146</td></tr>\n",
       "<tr><td>39627580537576084</td><td>32.2580849774572</td><td>-8.55957679820788</td><td>17495</td><td>sv1</td><td>0.0405680730684111</td><td>1.5641396906789e-06</td><td>0</td><td>69786.726639986</td><td>fuji/healpix/sv1/bright/174/17495/redrock-sv1-bright-17495.fits</td><td>SGA</td><td>105774</td><td>32.25808497745719</td><td>-8.559576798207877</td></tr>\n",
       "<tr><td>39627688637373133</td><td>30.7249101375182</td><td>-4.1221212721067</td><td>17708</td><td>sv1</td><td>0.0432927383774815</td><td>2.4566668470269e-06</td><td>0</td><td>75156.065702216</td><td>fuji/healpix/sv1/bright/177/17708/redrock-sv1-bright-17708.fits</td><td>SGA</td><td>1069273</td><td>30.724910137518155</td><td>-4.122121272106699</td></tr>\n",
       "<tr><td>39627688654150621</td><td>31.7557931194421</td><td>-4.04913648065817</td><td>17709</td><td>sv1</td><td>0.0575032681849223</td><td>6.32980437867601e-06</td><td>0</td><td>2743.45002766908</td><td>fuji/healpix/sv1/bright/177/17709/redrock-sv1-bright-17709.fits</td><td>SGA</td><td>159219</td><td>31.755793119442107</td><td>-4.049136480658174</td></tr>\n",
       "<tr><td>39627809513020549</td><td>37.4414493099132</td><td>0.985644323782287</td><td>17773</td><td>sv1</td><td>0.0817193751628826</td><td>1.32963229988165e-05</td><td>0</td><td>949.689689807594</td><td>fuji/healpix/sv1/bright/177/17773/redrock-sv1-bright-17773.fits</td><td>SGA</td><td>473583</td><td>37.441449309913196</td><td>0.9856443237822866</td></tr>\n",
       "<tr><td>39627604457693448</td><td>30.9475191299151</td><td>-7.45753462810178</td><td>17503</td><td>sv1</td><td>-0.00199569129234795</td><td>4.13114935733491e-48</td><td>1570</td><td>1.94266889222573e+84</td><td>fuji/healpix/sv1/bright/175/17503/redrock-sv1-bright-17503.fits</td><td>SGA</td><td>421204</td><td>30.947519129915058</td><td>-7.457534628101777</td></tr>\n",
       "<tr><td>39627803473224067</td><td>37.4563594834351</td><td>0.813088435173197</td><td>17773</td><td>sv1</td><td>0.0224072655842088</td><td>4.04784181022138e-06</td><td>0</td><td>2398.74739653245</td><td>fuji/healpix/sv1/bright/177/17773/redrock-sv1-bright-17773.fits</td><td>SGA</td><td>1262814</td><td>37.456359483435115</td><td>0.8130884351731967</td></tr>\n",
       "</table></div>"
      ],
      "text/plain": [
       "<Table length=13134>\n",
       "     TARGETID        TARGET_RA     ...         RA                 DEC         \n",
       "      int64           float64      ...      float64             float64       \n",
       "----------------- ---------------- ... ------------------ --------------------\n",
       " 1079550234591232 194.390863195343 ... 194.39086319534337    27.51572117901454\n",
       " 1092744374124544 194.390863195343 ... 194.39086319534337    27.51572117901454\n",
       " 1092744374124546 194.364461113654 ... 194.36446111365385    27.50371858813136\n",
       " 1092744369930240 194.338458724402 ... 194.33845872440244   27.491890269032595\n",
       " 1092744374124545 194.377858465028 ...  194.3778584650283   27.509810078028195\n",
       " 1092744369930241 194.325065734878 ...  194.3250657348779    27.48579500683636\n",
       " 1079550230396930 194.312068074608 ...  194.3120680746076   27.479877791396284\n",
       " 1092744369930242 194.312068074608 ...  194.3120680746076   27.479877791396284\n",
       " 1080141245579266 268.972484124775 ...   268.972484124775    62.59028889540747\n",
       " 1092231427522560 208.352177440161 ... 208.35217744016057   5.2087651343315455\n",
       "              ...              ... ...                ...                  ...\n",
       "39627799832565848 180.490647675296 ... 180.49064767529634   0.6133525165975208\n",
       "39627776252188890 214.987010854477 ... 214.98701085447712  -0.5033436020413983\n",
       "39627779326613824 38.1871219355261 ...  38.18712193552614 -0.25933115004602497\n",
       "39627884993714761  218.29412247975 ... 218.29412247974997   3.9426308269360146\n",
       "39627580537576084 32.2580849774572 ...  32.25808497745719   -8.559576798207877\n",
       "39627688637373133 30.7249101375182 ... 30.724910137518155   -4.122121272106699\n",
       "39627688654150621 31.7557931194421 ... 31.755793119442107   -4.049136480658174\n",
       "39627809513020549 37.4414493099132 ... 37.441449309913196   0.9856443237822866\n",
       "39627604457693448 30.9475191299151 ... 30.947519129915058   -7.457534628101777\n",
       "39627803473224067 37.4563594834351 ... 37.456359483435115   0.8130884351731967"
      ]
     },
     "execution_count": 6,
     "metadata": {},
     "output_type": "execute_result"
    }
   ],
   "source": [
    "tfuji = Table.read('/global/project/projectdirs/desi/science/td/pv/desi_pv_tf_fuji_healpix.fits')\n",
    "tfuji"
   ]
  },
  {
   "cell_type": "markdown",
   "id": "411ac6d6-96ce-437b-a1d2-7465c92fc4fd",
   "metadata": {},
   "source": [
    "## Multiple counts"
   ]
  },
  {
   "cell_type": "code",
   "execution_count": 7,
   "id": "2708c92d-8cb4-4c11-a860-7ec7d28030b3",
   "metadata": {},
   "outputs": [
    {
     "data": {
      "text/html": [
       "&lt;Column name=&apos;SGA_ID&apos; dtype=&apos;int64&apos; length=1734&gt;\n",
       "<table>\n",
       "<tr><td>123</td></tr>\n",
       "<tr><td>848</td></tr>\n",
       "<tr><td>896</td></tr>\n",
       "<tr><td>1548</td></tr>\n",
       "<tr><td>1583</td></tr>\n",
       "<tr><td>1980</td></tr>\n",
       "<tr><td>2497</td></tr>\n",
       "<tr><td>3727</td></tr>\n",
       "<tr><td>5288</td></tr>\n",
       "<tr><td>5732</td></tr>\n",
       "<tr><td>5958</td></tr>\n",
       "<tr><td>5964</td></tr>\n",
       "<tr><td>...</td></tr>\n",
       "<tr><td>1427956</td></tr>\n",
       "<tr><td>1429142</td></tr>\n",
       "<tr><td>1429680</td></tr>\n",
       "<tr><td>1430013</td></tr>\n",
       "<tr><td>1431285</td></tr>\n",
       "<tr><td>1434487</td></tr>\n",
       "<tr><td>2000090</td></tr>\n",
       "<tr><td>5001105</td></tr>\n",
       "<tr><td>5001339</td></tr>\n",
       "<tr><td>5002047</td></tr>\n",
       "<tr><td>5002116</td></tr>\n",
       "<tr><td>5002744</td></tr>\n",
       "</table>"
      ],
      "text/plain": [
       "<Column name='SGA_ID' dtype='int64' length=1734>\n",
       "    123\n",
       "    848\n",
       "    896\n",
       "   1548\n",
       "   1583\n",
       "   1980\n",
       "   2497\n",
       "   3727\n",
       "   5288\n",
       "   5732\n",
       "   5958\n",
       "   5964\n",
       "    ...\n",
       "1427956\n",
       "1429142\n",
       "1429680\n",
       "1430013\n",
       "1431285\n",
       "1434487\n",
       "2000090\n",
       "5001105\n",
       "5001339\n",
       "5002047\n",
       "5002116\n",
       "5002744"
      ]
     },
     "execution_count": 7,
     "metadata": {},
     "output_type": "execute_result"
    }
   ],
   "source": [
    "# All targets\n",
    "_ids_all, _counts_all = np.unique(tfuji['SGA_ID'], return_counts=True)\n",
    "_ids_all[_counts_all > 1]"
   ]
  },
  {
   "cell_type": "code",
   "execution_count": 8,
   "id": "61b5e0a6-75c4-4718-896b-0ad7cf37bac6",
   "metadata": {},
   "outputs": [
    {
     "data": {
      "application/vnd.jupyter.widget-view+json": {
       "model_id": "35bcf6d832184f3aaf0ddb3f55bea92a",
       "version_major": 2,
       "version_minor": 0
      },
      "text/plain": [
       "  0%|          | 0/1372 [00:00<?, ?it/s]"
      ]
     },
     "metadata": {},
     "output_type": "display_data"
    },
    {
     "data": {
      "text/html": [
       "&lt;Column name=&apos;SGA_ID&apos; dtype=&apos;int64&apos; length=1225&gt;\n",
       "<table>\n",
       "<tr><td>896</td></tr>\n",
       "<tr><td>1548</td></tr>\n",
       "<tr><td>1583</td></tr>\n",
       "<tr><td>1980</td></tr>\n",
       "<tr><td>2497</td></tr>\n",
       "<tr><td>5732</td></tr>\n",
       "<tr><td>5958</td></tr>\n",
       "<tr><td>5964</td></tr>\n",
       "<tr><td>8032</td></tr>\n",
       "<tr><td>9519</td></tr>\n",
       "<tr><td>9769</td></tr>\n",
       "<tr><td>10133</td></tr>\n",
       "<tr><td>...</td></tr>\n",
       "<tr><td>1418640</td></tr>\n",
       "<tr><td>1421164</td></tr>\n",
       "<tr><td>1421334</td></tr>\n",
       "<tr><td>1424489</td></tr>\n",
       "<tr><td>1427956</td></tr>\n",
       "<tr><td>1429142</td></tr>\n",
       "<tr><td>1429680</td></tr>\n",
       "<tr><td>1430013</td></tr>\n",
       "<tr><td>1431285</td></tr>\n",
       "<tr><td>1434487</td></tr>\n",
       "<tr><td>5001339</td></tr>\n",
       "<tr><td>5002047</td></tr>\n",
       "</table>"
      ],
      "text/plain": [
       "<Column name='SGA_ID' dtype='int64' length=1225>\n",
       "    896\n",
       "   1548\n",
       "   1583\n",
       "   1980\n",
       "   2497\n",
       "   5732\n",
       "   5958\n",
       "   5964\n",
       "   8032\n",
       "   9519\n",
       "   9769\n",
       "  10133\n",
       "    ...\n",
       "1418640\n",
       "1421164\n",
       "1421334\n",
       "1424489\n",
       "1427956\n",
       "1429142\n",
       "1429680\n",
       "1430013\n",
       "1431285\n",
       "1434487\n",
       "5001339\n",
       "5002047"
      ]
     },
     "execution_count": 8,
     "metadata": {},
     "output_type": "execute_result"
    }
   ],
   "source": [
    "# All targets with decent redshifts and observations suitable for the Tully-Fisher analysis\n",
    "tfuji_tf = clean_catalog(tfuji)\n",
    "_ids_goodz, _counts_goodz = np.unique(tfuji_tf['SGA_ID'], return_counts=True)\n",
    "_ids_goodz[_counts_goodz > 1]"
   ]
  },
  {
   "cell_type": "code",
   "execution_count": 9,
   "id": "288cfa52-f69b-49dd-a726-673042ba4796",
   "metadata": {},
   "outputs": [
    {
     "data": {
      "text/html": [
       "<div><i>Table length=4051</i>\n",
       "<table id=\"table23453808119088\" class=\"table-striped table-bordered table-condensed\">\n",
       "<thead><tr><th>TARGETID</th><th>TARGET_RA</th><th>TARGET_DEC</th><th>HEALPIX</th><th>SURVEY</th><th>Z</th><th>ZERR</th><th>ZWARN</th><th>DELTACHI2</th><th>FILENAME</th><th>PVTYPE</th><th>SGA_ID</th><th>RA</th><th>DEC</th></tr></thead>\n",
       "<thead><tr><th>int64</th><th>float64</th><th>float64</th><th>int64</th><th>bytes3</th><th>float64</th><th>float64</th><th>int64</th><th>float64</th><th>bytes63</th><th>bytes3</th><th>int64</th><th>float64</th><th>float64</th></tr></thead>\n",
       "<tr><td>39627817951955633</td><td>180.381827027663</td><td>1.29582683075782</td><td>27649</td><td>sv3</td><td>0.0224279674032048</td><td>2.44404472261522e-05</td><td>0</td><td>283.560888532142</td><td>fuji/healpix/sv3/bright/276/27649/redrock-sv3-bright-27649.fits</td><td>TFT</td><td>896</td><td>180.38182702766252</td><td>1.2958268307578154</td></tr>\n",
       "<tr><td>1070144189104132</td><td>180.383498876859</td><td>1.29621479718706</td><td>27649</td><td>sv3</td><td>0.0222944544366663</td><td>2.83413346431536e-05</td><td>0</td><td>45.697032826487</td><td>fuji/healpix/sv3/bright/276/27649/redrock-sv3-bright-27649.fits</td><td>TFT</td><td>896</td><td>180.38349887685897</td><td>1.2962147971870641</td></tr>\n",
       "<tr><td>39632941722111933</td><td>252.860799700982</td><td>33.0343044855604</td><td>9337</td><td>sv3</td><td>0.0621058276441731</td><td>7.86988716030476e-06</td><td>0</td><td>996.112674765289</td><td>fuji/healpix/sv3/bright/93/9337/redrock-sv3-bright-9337.fits</td><td>TFT</td><td>1548</td><td>252.86079970098154</td><td>33.03430448556036</td></tr>\n",
       "<tr><td>1070869912748034</td><td>252.860062744453</td><td>33.03565124542</td><td>9337</td><td>sv3</td><td>0.0625669112434631</td><td>7.42303672319939e-06</td><td>0</td><td>437.830720379949</td><td>fuji/healpix/sv3/bright/93/9337/redrock-sv3-bright-9337.fits</td><td>TFT</td><td>1548</td><td>252.86006274445305</td><td>33.035651245420034</td></tr>\n",
       "<tr><td>1071077795037187</td><td>236.813448650733</td><td>43.9957553864163</td><td>9923</td><td>sv3</td><td>0.0352887795291414</td><td>7.31620291911626e-06</td><td>0</td><td>550.152345106006</td><td>fuji/healpix/sv3/bright/99/9923/redrock-sv3-bright-9923.fits</td><td>TFT</td><td>1583</td><td>236.8134486507333</td><td>43.99575538641631</td></tr>\n",
       "<tr><td>1084271934570499</td><td>236.813448650733</td><td>43.9957553864163</td><td>9923</td><td>sv3</td><td>0.0353008322684175</td><td>9.4825361822116e-06</td><td>0</td><td>335.291149647906</td><td>fuji/healpix/sv3/dark/99/9923/redrock-sv3-dark-9923.fits</td><td>TFT</td><td>1583</td><td>236.8134486507333</td><td>43.99575538641631</td></tr>\n",
       "<tr><td>1071077795037186</td><td>236.810202992035</td><td>43.9950609278788</td><td>9923</td><td>sv3</td><td>0.0356212945166845</td><td>2.64003527378348e-05</td><td>0</td><td>36.7676933435723</td><td>fuji/healpix/sv3/bright/99/9923/redrock-sv3-bright-9923.fits</td><td>TFT</td><td>1583</td><td>236.81020299203462</td><td>43.99506092787884</td></tr>\n",
       "<tr><td>39633149604397504</td><td>236.811825811888</td><td>43.9954081686317</td><td>9923</td><td>sv3</td><td>0.0354706088249934</td><td>6.27417750722545e-06</td><td>0</td><td>869.667408287525</td><td>fuji/healpix/sv3/bright/99/9923/redrock-sv3-bright-9923.fits</td><td>TFT</td><td>1583</td><td>236.81182581188813</td><td>43.995408168631656</td></tr>\n",
       "<tr><td>1070114673786881</td><td>221.074180121106</td><td>0.0524636506683826</td><td>25945</td><td>sv3</td><td>0.517629896537837</td><td>8.60289560125964e-05</td><td>0</td><td>26.0517106279731</td><td>fuji/healpix/sv3/bright/259/25945/redrock-sv3-bright-25945.fits</td><td>TFT</td><td>1980</td><td>221.0741801211058</td><td>0.052463650668382586</td></tr>\n",
       "<tr><td>1070114673786884</td><td>221.077296137197</td><td>0.0412648658561053</td><td>25945</td><td>sv3</td><td>0.0288180099915314</td><td>7.19422906153812e-05</td><td>0</td><td>294.173335613379</td><td>fuji/healpix/sv3/bright/259/25945/redrock-sv3-bright-25945.fits</td><td>TFT</td><td>1980</td><td>221.0772961371969</td><td>0.041264865856105344</td></tr>\n",
       "<tr><td>...</td><td>...</td><td>...</td><td>...</td><td>...</td><td>...</td><td>...</td><td>...</td><td>...</td><td>...</td><td>...</td><td>...</td><td>...</td><td>...</td></tr>\n",
       "<tr><td>1070879538675715</td><td>217.719072566947</td><td>33.5250835092935</td><td>9147</td><td>sv3</td><td>0.0975651099908914</td><td>2.20508974240394e-05</td><td>0</td><td>46.4667750243098</td><td>fuji/healpix/sv3/bright/91/9147/redrock-sv3-bright-9147.fits</td><td>TFT</td><td>1434487</td><td>217.71907256694732</td><td>33.525083509293516</td></tr>\n",
       "<tr><td>1084073678209027</td><td>217.719072566947</td><td>33.5250835092935</td><td>9147</td><td>sv3</td><td>0.0975668398967087</td><td>1.47892506401653e-05</td><td>0</td><td>115.223239578307</td><td>fuji/healpix/sv3/dark/91/9147/redrock-sv3-dark-9147.fits</td><td>TFT</td><td>1434487</td><td>217.71907256694732</td><td>33.525083509293516</td></tr>\n",
       "<tr><td>1070879538675716</td><td>217.7204224802</td><td>33.5236362141151</td><td>9147</td><td>sv3</td><td>0.0975487577921421</td><td>8.97514281379794e-06</td><td>0</td><td>676.579413495958</td><td>fuji/healpix/sv3/bright/91/9147/redrock-sv3-bright-9147.fits</td><td>TFT</td><td>1434487</td><td>217.72042248020009</td><td>33.52363621411509</td></tr>\n",
       "<tr><td>39632951348036239</td><td>217.721732646916</td><td>33.5222314724388</td><td>9147</td><td>sv3</td><td>0.0984893568292938</td><td>1.73829383322508e-05</td><td>0</td><td>1809.73971403996</td><td>fuji/healpix/sv3/bright/91/9147/redrock-sv3-bright-9147.fits</td><td>TFT</td><td>1434487</td><td>217.7217326469164</td><td>33.522231472438826</td></tr>\n",
       "<tr><td>39627933035267659</td><td>210.208339844544</td><td>6.12025835494635</td><td>26094</td><td>sv3</td><td>0.120193044533862</td><td>1.70995769829539e-05</td><td>0</td><td>353.61788906157</td><td>fuji/healpix/sv3/bright/260/26094/redrock-sv3-bright-26094.fits</td><td>TFT</td><td>5001339</td><td>210.20833984454373</td><td>6.120258354946351</td></tr>\n",
       "<tr><td>1083453411950595</td><td>210.207597103465</td><td>6.12080981892036</td><td>26094</td><td>sv3</td><td>0.120550736551679</td><td>1.44783291324251e-05</td><td>0</td><td>187.370502382517</td><td>fuji/healpix/sv3/dark/260/26094/redrock-sv3-dark-26094.fits</td><td>TFT</td><td>5001339</td><td>210.20759710346468</td><td>6.120809818920356</td></tr>\n",
       "<tr><td>1070259272417282</td><td>210.206831853477</td><td>6.12137799285623</td><td>26094</td><td>sv3</td><td>0.120650769627719</td><td>9.50213722323505e-06</td><td>0</td><td>207.32615801692</td><td>fuji/healpix/sv3/bright/260/26094/redrock-sv3-bright-26094.fits</td><td>TFT</td><td>5001339</td><td>210.20683185347661</td><td>6.121377992856231</td></tr>\n",
       "<tr><td>1070710818603011</td><td>194.200986164318</td><td>25.4357878968757</td><td>28124</td><td>sv3</td><td>0.0601072077734475</td><td>1.43826546902706e-05</td><td>0</td><td>214.083774156868</td><td>fuji/healpix/sv3/bright/281/28124/redrock-sv3-bright-28124.fits</td><td>TFT</td><td>5002047</td><td>194.2009861643183</td><td>25.43578789687571</td></tr>\n",
       "<tr><td>1083904958136322</td><td>194.200834183621</td><td>25.43303650787</td><td>28124</td><td>sv3</td><td>0.0596701384408355</td><td>1.34337076773808e-05</td><td>0</td><td>132.784095849842</td><td>fuji/healpix/sv3/dark/281/28124/redrock-sv3-dark-28124.fits</td><td>TFT</td><td>5002047</td><td>194.2008341836214</td><td>25.43303650787003</td></tr>\n",
       "<tr><td>39628384581453705</td><td>194.200910173102</td><td>25.4344122023924</td><td>28124</td><td>sv3</td><td>0.0599172651993466</td><td>7.55100846633563e-06</td><td>0</td><td>861.545158989727</td><td>fuji/healpix/sv3/bright/281/28124/redrock-sv3-bright-28124.fits</td><td>TFT</td><td>5002047</td><td>194.20091017310213</td><td>25.434412202392416</td></tr>\n",
       "</table></div>"
      ],
      "text/plain": [
       "<Table length=4051>\n",
       "     TARGETID        TARGET_RA     ...         RA                 DEC         \n",
       "      int64           float64      ...      float64             float64       \n",
       "----------------- ---------------- ... ------------------ --------------------\n",
       "39627817951955633 180.381827027663 ... 180.38182702766252   1.2958268307578154\n",
       " 1070144189104132 180.383498876859 ... 180.38349887685897   1.2962147971870641\n",
       "39632941722111933 252.860799700982 ... 252.86079970098154    33.03430448556036\n",
       " 1070869912748034 252.860062744453 ... 252.86006274445305   33.035651245420034\n",
       " 1071077795037187 236.813448650733 ...  236.8134486507333    43.99575538641631\n",
       " 1084271934570499 236.813448650733 ...  236.8134486507333    43.99575538641631\n",
       " 1071077795037186 236.810202992035 ... 236.81020299203462    43.99506092787884\n",
       "39633149604397504 236.811825811888 ... 236.81182581188813   43.995408168631656\n",
       " 1070114673786881 221.074180121106 ...  221.0741801211058 0.052463650668382586\n",
       " 1070114673786884 221.077296137197 ...  221.0772961371969 0.041264865856105344\n",
       "              ...              ... ...                ...                  ...\n",
       " 1070879538675715 217.719072566947 ... 217.71907256694732   33.525083509293516\n",
       " 1084073678209027 217.719072566947 ... 217.71907256694732   33.525083509293516\n",
       " 1070879538675716   217.7204224802 ... 217.72042248020009    33.52363621411509\n",
       "39632951348036239 217.721732646916 ...  217.7217326469164   33.522231472438826\n",
       "39627933035267659 210.208339844544 ... 210.20833984454373    6.120258354946351\n",
       " 1083453411950595 210.207597103465 ... 210.20759710346468    6.120809818920356\n",
       " 1070259272417282 210.206831853477 ... 210.20683185347661    6.121377992856231\n",
       " 1070710818603011 194.200986164318 ...  194.2009861643183    25.43578789687571\n",
       " 1083904958136322 194.200834183621 ...  194.2008341836214    25.43303650787003\n",
       "39628384581453705 194.200910173102 ... 194.20091017310213   25.434412202392416"
      ]
     },
     "execution_count": 9,
     "metadata": {},
     "output_type": "execute_result"
    }
   ],
   "source": [
    "tfuji_goodz = np.in1d(tfuji_tf['SGA_ID'], _ids_goodz[_counts_goodz > 1])\n",
    "tfuji_g = tfuji_tf[tfuji_goodz]\n",
    "tfuji_g"
   ]
  },
  {
   "cell_type": "markdown",
   "id": "abc06656-8df1-4bd8-9736-611cab526db9",
   "metadata": {},
   "source": [
    "# SGA"
   ]
  },
  {
   "cell_type": "code",
   "execution_count": 10,
   "id": "ed3045d3-0423-4cdf-8ff6-8d100bd457a0",
   "metadata": {},
   "outputs": [
    {
     "data": {
      "text/html": [
       "<div><i>Table length=10</i>\n",
       "<table id=\"table23453804548208\" class=\"table-striped table-bordered table-condensed\">\n",
       "<thead><tr><th>SGA_ID</th><th>SGA_GALAXY</th><th>GALAXY</th><th>PGC</th><th>RA_LEDA</th><th>DEC_LEDA</th><th>MORPHTYPE</th><th>PA_LEDA</th><th>D25_LEDA</th><th>BA_LEDA</th><th>Z_LEDA</th><th>SB_D25_LEDA</th><th>MAG_LEDA</th><th>BYHAND</th><th>REF</th><th>GROUP_ID</th><th>GROUP_NAME</th><th>GROUP_MULT</th><th>GROUP_PRIMARY</th><th>GROUP_RA</th><th>GROUP_DEC</th><th>GROUP_DIAMETER</th><th>BRICKNAME</th><th>RA</th><th>DEC</th><th>D26</th><th>D26_REF</th><th>PA</th><th>BA</th><th>RA_MOMENT</th><th>DEC_MOMENT</th><th>SMA_MOMENT</th><th>G_SMA50</th><th>R_SMA50</th><th>Z_SMA50</th><th>SMA_SB22</th><th>SMA_SB22.5</th><th>SMA_SB23</th><th>SMA_SB23.5</th><th>SMA_SB24</th><th>SMA_SB24.5</th><th>SMA_SB25</th><th>SMA_SB25.5</th><th>SMA_SB26</th><th>G_MAG_SB22</th><th>R_MAG_SB22</th><th>Z_MAG_SB22</th><th>G_MAG_SB22.5</th><th>R_MAG_SB22.5</th><th>Z_MAG_SB22.5</th><th>G_MAG_SB23</th><th>R_MAG_SB23</th><th>Z_MAG_SB23</th><th>G_MAG_SB23.5</th><th>R_MAG_SB23.5</th><th>Z_MAG_SB23.5</th><th>G_MAG_SB24</th><th>R_MAG_SB24</th><th>Z_MAG_SB24</th><th>G_MAG_SB24.5</th><th>R_MAG_SB24.5</th><th>Z_MAG_SB24.5</th><th>G_MAG_SB25</th><th>R_MAG_SB25</th><th>Z_MAG_SB25</th><th>G_MAG_SB25.5</th><th>R_MAG_SB25.5</th><th>Z_MAG_SB25.5</th><th>G_MAG_SB26</th><th>R_MAG_SB26</th><th>Z_MAG_SB26</th><th>SMA_SB22_ERR</th><th>SMA_SB22.5_ERR</th><th>SMA_SB23_ERR</th><th>SMA_SB23.5_ERR</th><th>SMA_SB24_ERR</th><th>SMA_SB24.5_ERR</th><th>SMA_SB25_ERR</th><th>SMA_SB25.5_ERR</th><th>SMA_SB26_ERR</th><th>G_MAG_SB22_ERR</th><th>R_MAG_SB22_ERR</th><th>Z_MAG_SB22_ERR</th><th>G_MAG_SB22.5_ERR</th><th>R_MAG_SB22.5_ERR</th><th>Z_MAG_SB22.5_ERR</th><th>G_MAG_SB23_ERR</th><th>R_MAG_SB23_ERR</th><th>Z_MAG_SB23_ERR</th><th>G_MAG_SB23.5_ERR</th><th>R_MAG_SB23.5_ERR</th><th>Z_MAG_SB23.5_ERR</th><th>G_MAG_SB24_ERR</th><th>R_MAG_SB24_ERR</th><th>Z_MAG_SB24_ERR</th><th>G_MAG_SB24.5_ERR</th><th>R_MAG_SB24.5_ERR</th><th>Z_MAG_SB24.5_ERR</th><th>G_MAG_SB25_ERR</th><th>R_MAG_SB25_ERR</th><th>Z_MAG_SB25_ERR</th><th>G_MAG_SB25.5_ERR</th><th>R_MAG_SB25.5_ERR</th><th>Z_MAG_SB25.5_ERR</th><th>G_MAG_SB26_ERR</th><th>R_MAG_SB26_ERR</th><th>Z_MAG_SB26_ERR</th><th>G_COG_PARAMS_MTOT</th><th>G_COG_PARAMS_M0</th><th>G_COG_PARAMS_ALPHA1</th><th>G_COG_PARAMS_ALPHA2</th><th>G_COG_PARAMS_CHI2</th><th>R_COG_PARAMS_MTOT</th><th>R_COG_PARAMS_M0</th><th>R_COG_PARAMS_ALPHA1</th><th>R_COG_PARAMS_ALPHA2</th><th>R_COG_PARAMS_CHI2</th><th>Z_COG_PARAMS_MTOT</th><th>Z_COG_PARAMS_M0</th><th>Z_COG_PARAMS_ALPHA1</th><th>Z_COG_PARAMS_ALPHA2</th><th>Z_COG_PARAMS_CHI2</th><th>ELLIPSEBIT</th></tr></thead>\n",
       "<thead><tr><th>int64</th><th>bytes16</th><th>bytes29</th><th>int64</th><th>float64</th><th>float64</th><th>bytes21</th><th>float32</th><th>float32</th><th>float32</th><th>float32</th><th>float32</th><th>float32</th><th>bool</th><th>bytes13</th><th>int64</th><th>bytes35</th><th>int16</th><th>bool</th><th>float64</th><th>float64</th><th>float32</th><th>bytes8</th><th>float64</th><th>float64</th><th>float32</th><th>bytes4</th><th>float32</th><th>float32</th><th>float64</th><th>float64</th><th>float32</th><th>float32</th><th>float32</th><th>float32</th><th>float32</th><th>float32</th><th>float32</th><th>float32</th><th>float32</th><th>float32</th><th>float32</th><th>float32</th><th>float32</th><th>float32</th><th>float32</th><th>float32</th><th>float32</th><th>float32</th><th>float32</th><th>float32</th><th>float32</th><th>float32</th><th>float32</th><th>float32</th><th>float32</th><th>float32</th><th>float32</th><th>float32</th><th>float32</th><th>float32</th><th>float32</th><th>float32</th><th>float32</th><th>float32</th><th>float32</th><th>float32</th><th>float32</th><th>float32</th><th>float32</th><th>float32</th><th>float32</th><th>float32</th><th>float32</th><th>float32</th><th>float32</th><th>float32</th><th>float32</th><th>float32</th><th>float32</th><th>float32</th><th>float32</th><th>float32</th><th>float32</th><th>float32</th><th>float32</th><th>float32</th><th>float32</th><th>float32</th><th>float32</th><th>float32</th><th>float32</th><th>float32</th><th>float32</th><th>float32</th><th>float32</th><th>float32</th><th>float32</th><th>float32</th><th>float32</th><th>float32</th><th>float32</th><th>float32</th><th>float32</th><th>float32</th><th>float32</th><th>float32</th><th>float32</th><th>float32</th><th>float32</th><th>float32</th><th>float32</th><th>float32</th><th>float32</th><th>float32</th><th>float32</th><th>float32</th><th>float32</th><th>float32</th><th>float32</th><th>float32</th><th>float32</th><th>int32</th></tr></thead>\n",
       "<tr><td>2</td><td>SGA-2020 2</td><td>PGC1283207</td><td>1283207</td><td>228.3770865</td><td>5.4232017</td><td>S?</td><td>152.2</td><td>0.36307806</td><td>0.724436</td><td>0.03463229</td><td>23.40448</td><td>16.976</td><td>False</td><td>LEDA-20181114</td><td>0</td><td>PGC1283207</td><td>1</td><td>True</td><td>228.3770865</td><td>5.4232017</td><td>0.36307806</td><td>2283p055</td><td>228.3770803831908</td><td>5.423191398593787</td><td>0.49470574</td><td>SB26</td><td>158.20142</td><td>0.545691</td><td>228.37700918822188</td><td>5.4232652570544015</td><td>10.897086</td><td>3.3509698</td><td>3.1147978</td><td>3.240862</td><td>5.902337</td><td>6.9126143</td><td>7.941369</td><td>8.997992</td><td>10.073601</td><td>11.199986</td><td>12.391357</td><td>13.561038</td><td>14.841172</td><td>16.966799</td><td>16.108246</td><td>15.486356</td><td>16.879545</td><td>16.024958</td><td>15.400715</td><td>16.818878</td><td>15.967034</td><td>15.341793</td><td>16.776297</td><td>15.925804</td><td>15.300776</td><td>16.746685</td><td>15.897334</td><td>15.272053</td><td>16.725166</td><td>15.876816</td><td>15.2521105</td><td>16.708357</td><td>15.862035</td><td>15.237181</td><td>16.696539</td><td>15.851936</td><td>15.226998</td><td>16.689613</td><td>15.844313</td><td>15.21976</td><td>0.013392451</td><td>0.02354</td><td>0.021872982</td><td>0.01736985</td><td>0.024445537</td><td>0.039866067</td><td>0.05026544</td><td>0.08455789</td><td>0.122911856</td><td>0.005682776</td><td>0.0054258136</td><td>0.0049038026</td><td>0.005588406</td><td>0.005323561</td><td>0.0047632363</td><td>0.00543534</td><td>0.005177031</td><td>0.0046343105</td><td>0.0053025587</td><td>0.005040888</td><td>0.0045181247</td><td>0.005206092</td><td>0.0049438984</td><td>0.0044374703</td><td>0.0051483097</td><td>0.0048758644</td><td>0.0043834248</td><td>0.0051032505</td><td>0.0048264163</td><td>0.004344248</td><td>0.0050705094</td><td>0.004792021</td><td>0.004319857</td><td>0.005054293</td><td>0.004765629</td><td>0.0043044444</td><td>16.65942</td><td>0.34037337</td><td>0.2978292</td><td>3.0239506</td><td>0.07928849</td><td>15.820566</td><td>0.2640441</td><td>0.34559453</td><td>3.3033552</td><td>0.003811298</td><td>15.195567</td><td>0.29826432</td><td>0.3001073</td><td>3.2333765</td><td>0.011723555</td><td>0</td></tr>\n",
       "<tr><td>3</td><td>SGA-2020 3</td><td>PGC1310416</td><td>1310416</td><td>202.54443750000002</td><td>6.9345944</td><td>Sc</td><td>159.26</td><td>0.4017908</td><td>0.7816278</td><td>0.073888786</td><td>23.498482</td><td>16.85</td><td>False</td><td>LEDA-20181114</td><td>1</td><td>PGC1310416</td><td>1</td><td>True</td><td>202.54443750000002</td><td>6.9345944</td><td>0.4017908</td><td>2025p070</td><td>202.5444619671207</td><td>6.9346244322326624</td><td>0.55350494</td><td>SB26</td><td>161.5937</td><td>0.7291764</td><td>202.54432739596137</td><td>6.934806737209989</td><td>15.746941</td><td>5.6416235</td><td>5.2647552</td><td>5.0895185</td><td>5.9838247</td><td>7.4356494</td><td>8.728868</td><td>10.087478</td><td>11.529764</td><td>12.818195</td><td>14.115497</td><td>15.319822</td><td>16.605148</td><td>16.963299</td><td>16.307854</td><td>15.806882</td><td>16.729511</td><td>16.097378</td><td>15.615527</td><td>16.606344</td><td>15.990707</td><td>15.518403</td><td>16.525967</td><td>15.917321</td><td>15.450624</td><td>16.462585</td><td>15.859485</td><td>15.397182</td><td>16.419558</td><td>15.820947</td><td>15.36243</td><td>16.390558</td><td>15.796369</td><td>15.338905</td><td>16.376112</td><td>15.782492</td><td>15.323709</td><td>16.364115</td><td>15.773462</td><td>15.313725</td><td>0.036992554</td><td>0.034982767</td><td>0.037769336</td><td>0.049429573</td><td>0.052699674</td><td>0.074114166</td><td>0.07914538</td><td>0.09781406</td><td>0.15534972</td><td>0.016095797</td><td>0.019181909</td><td>0.021539452</td><td>0.013955905</td><td>0.016594552</td><td>0.018640138</td><td>0.012786752</td><td>0.015244632</td><td>0.01715491</td><td>0.011973826</td><td>0.014366956</td><td>0.016208366</td><td>0.011358372</td><td>0.013676575</td><td>0.015474222</td><td>0.010944939</td><td>0.013225297</td><td>0.015011175</td><td>0.010691595</td><td>0.012931233</td><td>0.014687982</td><td>0.010546411</td><td>0.012796015</td><td>0.014518412</td><td>0.010457551</td><td>0.012685407</td><td>0.014379212</td><td>16.284733</td><td>1.0914493</td><td>0.24674739</td><td>2.4320207</td><td>0.68685365</td><td>15.704403</td><td>0.8764323</td><td>0.27360612</td><td>2.4995425</td><td>0.49343896</td><td>15.235263</td><td>1.3098688</td><td>0.17866786</td><td>2.1750498</td><td>0.20391206</td><td>0</td></tr>\n",
       "<tr><td>4</td><td>SGA-2020 4</td><td>SDSSJ145059.93+135143.0</td><td>4435547</td><td>222.749787</td><td>13.8619111</td><td>S?</td><td>44.57</td><td>0.33342642</td><td>0.6637431</td><td>0.07567602</td><td>24.457481</td><td>18.214</td><td>False</td><td>LEDA-20181114</td><td>2</td><td>SDSSJ145059.93+135143.0</td><td>1</td><td>True</td><td>222.749787</td><td>13.8619111</td><td>0.33342642</td><td>2228p137</td><td>222.7497050504303</td><td>13.861929561160224</td><td>0.37067476</td><td>SB26</td><td>45.28537</td><td>0.70922077</td><td>222.749650475464</td><td>13.862052070022896</td><td>8.877115</td><td>4.652771</td><td>4.4837785</td><td>4.4959745</td><td>2.01033</td><td>3.3967943</td><td>4.76257</td><td>6.043787</td><td>7.242806</td><td>8.250407</td><td>9.158723</td><td>10.083457</td><td>11.120243</td><td>19.97595</td><td>19.190666</td><td>18.649523</td><td>19.098536</td><td>18.397219</td><td>17.899643</td><td>18.624952</td><td>17.967802</td><td>17.50231</td><td>18.35278</td><td>17.718002</td><td>17.265854</td><td>18.192762</td><td>17.5654</td><td>17.115404</td><td>18.10496</td><td>17.480022</td><td>17.033989</td><td>18.053415</td><td>17.430794</td><td>16.982971</td><td>18.020155</td><td>17.399996</td><td>16.948252</td><td>17.994783</td><td>17.377092</td><td>16.924469</td><td>0.02113719</td><td>0.03639431</td><td>0.051901262</td><td>0.06539029</td><td>0.08552586</td><td>0.07008602</td><td>0.070394725</td><td>0.08394975</td><td>0.113649584</td><td>0.013428732</td><td>0.017600043</td><td>0.016373685</td><td>0.012251812</td><td>0.014566466</td><td>0.013732588</td><td>0.012644532</td><td>0.014030071</td><td>0.013153961</td><td>0.012747069</td><td>0.013512552</td><td>0.012818239</td><td>0.012865601</td><td>0.01324455</td><td>0.012532208</td><td>0.012762528</td><td>0.013058522</td><td>0.012420634</td><td>0.01252645</td><td>0.012827468</td><td>0.012283978</td><td>0.012320441</td><td>0.012607317</td><td>0.012104107</td><td>0.0121167945</td><td>0.01244376</td><td>0.011985352</td><td>17.896797</td><td>0.5557265</td><td>0.25455818</td><td>3.167909</td><td>1.0522435</td><td>17.28287</td><td>0.4885815</td><td>0.2782499</td><td>3.2144456</td><td>1.3733263</td><td>16.807674</td><td>0.5177045</td><td>0.32264626</td><td>2.900518</td><td>1.8054093</td><td>0</td></tr>\n",
       "<tr><td>7</td><td>SGA-2020 7</td><td>PGC1742504</td><td>1742504</td><td>182.0888085</td><td>25.6022764</td><td>Sbc</td><td>84.97</td><td>0.548277</td><td>0.25118864</td><td>0.10090814</td><td>24.91348</td><td>17.59</td><td>False</td><td>LEDA-20181114</td><td>3</td><td>PGC1742504</td><td>1</td><td>True</td><td>182.0888085</td><td>25.6022764</td><td>0.548277</td><td>1820p255</td><td>182.08882232629614</td><td>25.60226821438983</td><td>0.8883204</td><td>SB26</td><td>84.857475</td><td>0.19753796</td><td>182.08873760544392</td><td>25.602311195157757</td><td>19.779116</td><td>6.5958204</td><td>6.0386286</td><td>5.8089786</td><td>9.279068</td><td>10.949478</td><td>12.652142</td><td>14.446171</td><td>16.323679</td><td>18.392954</td><td>20.915508</td><td>23.566542</td><td>26.649612</td><td>17.390274</td><td>16.360935</td><td>15.531964</td><td>17.285898</td><td>16.262264</td><td>15.440768</td><td>17.2167</td><td>16.195492</td><td>15.380734</td><td>17.16217</td><td>16.144245</td><td>15.334935</td><td>17.130178</td><td>16.110302</td><td>15.304758</td><td>17.104496</td><td>16.084463</td><td>15.280803</td><td>17.081282</td><td>16.061373</td><td>15.2589855</td><td>17.063671</td><td>16.045204</td><td>15.243196</td><td>17.046705</td><td>16.031244</td><td>15.23268</td><td>0.04351465</td><td>0.055440858</td><td>0.052207235</td><td>0.07507412</td><td>0.0793679</td><td>0.10347854</td><td>0.13569456</td><td>0.13104819</td><td>0.17234002</td><td>0.03885276</td><td>0.03744209</td><td>0.03786608</td><td>0.035534665</td><td>0.03441038</td><td>0.03503794</td><td>0.033557214</td><td>0.032548346</td><td>0.033348277</td><td>0.031964395</td><td>0.03106612</td><td>0.031957533</td><td>0.031133845</td><td>0.030202182</td><td>0.031190341</td><td>0.030430589</td><td>0.029511228</td><td>0.030530946</td><td>0.02975241</td><td>0.028853998</td><td>0.029866546</td><td>0.02928568</td><td>0.0284345</td><td>0.029445464</td><td>0.028843498</td><td>0.028076617</td><td>0.029169334</td><td>16.995174</td><td>21.083004</td><td>0.0164273</td><td>1.9079465</td><td>0.029703742</td><td>15.991165</td><td>0.7657307</td><td>0.52285546</td><td>2.3045986</td><td>0.006013103</td><td>15.191324</td><td>1.0408205</td><td>0.32956335</td><td>2.1520333</td><td>0.004725194</td><td>0</td></tr>\n",
       "<tr><td>18</td><td>SGA-2020 18</td><td>2MASXJ12340801+4535444</td><td>3550748</td><td>188.5335525</td><td>45.5956434</td><td>E</td><td>168.65</td><td>0.53088444</td><td>0.6950243</td><td>0.07609531</td><td>23.97948</td><td>16.726</td><td>False</td><td>LEDA-20181114</td><td>4</td><td>2MASXJ12340801+4535444</td><td>1</td><td>True</td><td>188.5335525</td><td>45.5956434</td><td>0.53088444</td><td>1883p455</td><td>188.53364923054596</td><td>45.595620212931856</td><td>0.73435897</td><td>SB26</td><td>166.25127</td><td>0.70995796</td><td>188.53349052789085</td><td>45.59567446403057</td><td>15.694805</td><td>5.091253</td><td>4.670616</td><td>2.9429996</td><td>5.219665</td><td>6.6119533</td><td>8.228266</td><td>10.109745</td><td>12.170589</td><td>14.364073</td><td>16.722517</td><td>19.18709</td><td>22.03077</td><td>17.208511</td><td>16.224203</td><td>15.566424</td><td>17.050343</td><td>16.080097</td><td>15.443468</td><td>16.921791</td><td>15.962402</td><td>15.347263</td><td>16.814959</td><td>15.864242</td><td>15.27134</td><td>16.729906</td><td>15.787886</td><td>15.218466</td><td>16.664564</td><td>15.730083</td><td>15.182751</td><td>16.61991</td><td>15.686324</td><td>15.1601305</td><td>16.585676</td><td>15.654064</td><td>15.148039</td><td>16.558054</td><td>15.629669</td><td>15.141826</td><td>0.032001704</td><td>0.043849397</td><td>0.045203492</td><td>0.072918765</td><td>0.06263939</td><td>0.07675708</td><td>0.10399303</td><td>0.07780949</td><td>0.14017467</td><td>0.016467415</td><td>0.021250801</td><td>0.032092847</td><td>0.0149329165</td><td>0.019061867</td><td>0.028947951</td><td>0.01369758</td><td>0.01736746</td><td>0.026648495</td><td>0.012623343</td><td>0.015980754</td><td>0.024998168</td><td>0.011793644</td><td>0.014977396</td><td>0.023862366</td><td>0.011184664</td><td>0.014255281</td><td>0.023120966</td><td>0.010785815</td><td>0.013740733</td><td>0.022603082</td><td>0.010472503</td><td>0.013351409</td><td>0.022360764</td><td>0.010212836</td><td>0.013043255</td><td>0.022296576</td><td>16.471447</td><td>0.3236818</td><td>1.9206839</td><td>2.3249283</td><td>0.0973919</td><td>15.540598</td><td>0.3247282</td><td>1.7439244</td><td>2.1774826</td><td>0.023485765</td><td>15.124181</td><td>0.16547345</td><td>1.4694684</td><td>3.3948786</td><td>0.028653827</td><td>0</td></tr>\n",
       "<tr><td>20</td><td>SGA-2020 20</td><td>SDSSJ173412.71+572041.6</td><td>3331584</td><td>263.5529355</td><td>57.34490699999999</td><td>S?</td><td>152.58</td><td>0.4487454</td><td>0.5333349</td><td>0.08364453</td><td>24.92448</td><td>18.036</td><td>False</td><td>LEDA-20181114</td><td>5</td><td>SDSSJ173412.71+572041.6</td><td>1</td><td>True</td><td>263.5529355</td><td>57.34490699999999</td><td>0.4487454</td><td>2635p572</td><td>263.55294849855886</td><td>57.344862145664294</td><td>0.4460123</td><td>SB26</td><td>152.3756</td><td>0.5778338</td><td>263.5528114673963</td><td>57.34481025685253</td><td>10.459747</td><td>5.9780583</td><td>5.751067</td><td>4.821581</td><td>1.4858595</td><td>3.4448266</td><td>5.1149526</td><td>6.748707</td><td>8.426254</td><td>9.720271</td><td>11.022999</td><td>12.0887985</td><td>13.380368</td><td>20.656942</td><td>20.044735</td><td>19.40886</td><td>19.194794</td><td>18.66572</td><td>18.231262</td><td>18.599888</td><td>18.123905</td><td>17.745926</td><td>18.256256</td><td>17.807074</td><td>17.476473</td><td>18.040592</td><td>17.60353</td><td>17.319197</td><td>17.926336</td><td>17.500519</td><td>17.228865</td><td>17.85259</td><td>17.42695</td><td>17.180876</td><td>17.811844</td><td>17.39206</td><td>17.151228</td><td>17.783718</td><td>17.36542</td><td>17.143204</td><td>0.02069058</td><td>0.026094317</td><td>0.03480586</td><td>0.05076174</td><td>0.08751116</td><td>0.10309491</td><td>0.08337893</td><td>0.10982923</td><td>0.13734566</td><td>0.031223593</td><td>0.046367057</td><td>0.0777883</td><td>0.015935475</td><td>0.020728666</td><td>0.032657374</td><td>0.012760426</td><td>0.014699919</td><td>0.022893604</td><td>0.010505663</td><td>0.011998588</td><td>0.018923525</td><td>0.010358521</td><td>0.011374098</td><td>0.017719442</td><td>0.010557283</td><td>0.0112259</td><td>0.017149422</td><td>0.010553381</td><td>0.011049819</td><td>0.017135512</td><td>0.010413324</td><td>0.010993488</td><td>0.01699026</td><td>0.010291049</td><td>0.010862263</td><td>0.017057167</td><td>17.6411</td><td>0.6362121</td><td>0.53480667</td><td>2.8045392</td><td>1.7123051</td><td>17.22401</td><td>0.6144014</td><td>0.53440714</td><td>2.7180903</td><td>2.1161501</td><td>17.062769</td><td>0.44818503</td><td>0.43006793</td><td>3.1755726</td><td>0.97457016</td><td>0</td></tr>\n",
       "<tr><td>24</td><td>SGA-2020 24</td><td>PGC2162969</td><td>2162969</td><td>247.42443000000003</td><td>40.24824</td><td>S?</td><td>0.0</td><td>0.43451023</td><td>0.91201085</td><td>0.030465743</td><td>23.110481</td><td>16.292</td><td>False</td><td>LEDA-20181114</td><td>6</td><td>PGC200157_GROUP</td><td>2</td><td>False</td><td>247.41561265388845</td><td>40.24057507998105</td><td>1.0561523</td><td>2474p402</td><td>247.42445048371366</td><td>40.24820033835744</td><td>0.5431378</td><td>LEDA</td><td>101.95022</td><td>0.89250207</td><td>247.42434880302983</td><td>40.24826160366282</td><td>15.888059</td><td>-1.0</td><td>-1.0</td><td>-1.0</td><td>-1.0</td><td>-1.0</td><td>-1.0</td><td>-1.0</td><td>-1.0</td><td>-1.0</td><td>-1.0</td><td>-1.0</td><td>-1.0</td><td>-1.0</td><td>-1.0</td><td>-1.0</td><td>-1.0</td><td>-1.0</td><td>-1.0</td><td>-1.0</td><td>-1.0</td><td>-1.0</td><td>-1.0</td><td>-1.0</td><td>-1.0</td><td>-1.0</td><td>-1.0</td><td>-1.0</td><td>-1.0</td><td>-1.0</td><td>-1.0</td><td>-1.0</td><td>-1.0</td><td>-1.0</td><td>-1.0</td><td>-1.0</td><td>-1.0</td><td>-1.0</td><td>-1.0</td><td>-1.0</td><td>-1.0</td><td>-1.0</td><td>-1.0</td><td>-1.0</td><td>-1.0</td><td>-1.0</td><td>-1.0</td><td>-1.0</td><td>-1.0</td><td>-1.0</td><td>-1.0</td><td>-1.0</td><td>-1.0</td><td>-1.0</td><td>-1.0</td><td>-1.0</td><td>-1.0</td><td>-1.0</td><td>-1.0</td><td>-1.0</td><td>-1.0</td><td>-1.0</td><td>-1.0</td><td>-1.0</td><td>-1.0</td><td>-1.0</td><td>-1.0</td><td>-1.0</td><td>-1.0</td><td>-1.0</td><td>-1.0</td><td>-1.0</td><td>-1.0</td><td>-1.0</td><td>-1.0</td><td>-1.0</td><td>-1.0</td><td>-1.0</td><td>-1.0</td><td>-1.0</td><td>-1.0</td><td>-1.0</td><td>-1.0</td><td>-1.0</td><td>-1.0</td><td>-1.0</td><td>-1.0</td><td>-1.0</td><td>-1.0</td><td>-1.0</td><td>-1.0</td><td>0</td></tr>\n",
       "<tr><td>25</td><td>SGA-2020 25</td><td>PGC054121</td><td>54121</td><td>227.47036350000002</td><td>13.2562981</td><td>Sbc</td><td>70.64</td><td>0.8165824</td><td>0.86496794</td><td>0.022379482</td><td>23.42948</td><td>15.241</td><td>False</td><td>LEDA-20181114</td><td>7</td><td>PGC054121</td><td>1</td><td>True</td><td>227.47036350000002</td><td>13.2562981</td><td>0.8165824</td><td>2275p132</td><td>227.47031353123606</td><td>13.256402782093659</td><td>0.9032927</td><td>SB26</td><td>54.9372</td><td>0.9290268</td><td>227.4700429472929</td><td>13.256485984671057</td><td>23.756569</td><td>9.900074</td><td>9.4958725</td><td>9.147629</td><td>10.191483</td><td>12.735173</td><td>14.82731</td><td>16.736444</td><td>18.73402</td><td>20.828588</td><td>22.853401</td><td>24.907934</td><td>27.098782</td><td>15.6729</td><td>15.045083</td><td>14.593568</td><td>15.3769245</td><td>14.774321</td><td>14.341049</td><td>15.246051</td><td>14.654672</td><td>14.2298155</td><td>15.173311</td><td>14.588186</td><td>14.167052</td><td>15.122127</td><td>14.541565</td><td>14.123228</td><td>15.083035</td><td>14.505676</td><td>14.089516</td><td>15.057359</td><td>14.482468</td><td>14.068062</td><td>15.040025</td><td>14.467183</td><td>14.055928</td><td>15.028107</td><td>14.457384</td><td>14.047177</td><td>0.018359262</td><td>0.017375102</td><td>0.016255992</td><td>0.019816728</td><td>0.038647514</td><td>0.037284017</td><td>0.04342706</td><td>0.071717694</td><td>0.099439405</td><td>0.0058437292</td><td>0.0069466177</td><td>0.008048645</td><td>0.0045692935</td><td>0.005496873</td><td>0.006436989</td><td>0.004073469</td><td>0.0049413145</td><td>0.0058239037</td><td>0.003822102</td><td>0.0046530096</td><td>0.0054966044</td><td>0.0036556777</td><td>0.004464092</td><td>0.0052853883</td><td>0.0035357797</td><td>0.004325215</td><td>0.005129757</td><td>0.0034596229</td><td>0.00423875</td><td>0.005034937</td><td>0.0034086278</td><td>0.00418244</td><td>0.0049834424</td><td>0.0033738492</td><td>0.0041466616</td><td>0.0049476875</td><td>14.970135</td><td>2.6651645</td><td>0.3175275</td><td>2.7061899</td><td>0.84036297</td><td>14.407399</td><td>1.8774098</td><td>0.4264286</td><td>2.8085065</td><td>0.7415527</td><td>14.005723</td><td>1.1530024</td><td>0.7036117</td><td>3.0188198</td><td>0.7843209</td><td>0</td></tr>\n",
       "<tr><td>26</td><td>SGA-2020 26</td><td>PGC2468893</td><td>2468893</td><td>163.598436</td><td>54.4129738</td><td>--</td><td>64.51</td><td>0.35892195</td><td>0.53703177</td><td>0.17676328</td><td>24.926481</td><td>18.523</td><td>False</td><td>LEDA-20181114</td><td>8</td><td>PGC2468893</td><td>1</td><td>True</td><td>163.598436</td><td>54.4129738</td><td>0.35892195</td><td>1635p545</td><td>163.5984039051307</td><td>54.41298240323229</td><td>0.3833318</td><td>SB26</td><td>46.26398</td><td>0.8524061</td><td>163.5982638998639</td><td>54.41303380382761</td><td>8.821292</td><td>3.2359526</td><td>2.924398</td><td>2.021345</td><td>2.7333577</td><td>3.383293</td><td>4.131329</td><td>5.008367</td><td>6.0306945</td><td>7.188326</td><td>8.429446</td><td>9.863966</td><td>11.499954</td><td>18.91375</td><td>17.621288</td><td>16.865643</td><td>18.731339</td><td>17.469679</td><td>16.733221</td><td>18.59152</td><td>17.350786</td><td>16.62865</td><td>18.480558</td><td>17.254736</td><td>16.545355</td><td>18.388554</td><td>17.175478</td><td>16.476664</td><td>18.312742</td><td>17.111551</td><td>16.42716</td><td>18.256575</td><td>17.062248</td><td>16.38989</td><td>18.215641</td><td>17.022528</td><td>16.365273</td><td>18.179653</td><td>16.990267</td><td>16.35279</td><td>0.0023302117</td><td>0.005615393</td><td>0.008432587</td><td>0.009294833</td><td>0.0114881545</td><td>0.029902346</td><td>0.050029624</td><td>0.0698561</td><td>0.10298213</td><td>0.008917422</td><td>0.008953597</td><td>0.015666634</td><td>0.0076031582</td><td>0.007837551</td><td>0.013918447</td><td>0.006716909</td><td>0.0069769695</td><td>0.012487223</td><td>0.006135703</td><td>0.0064592385</td><td>0.011609407</td><td>0.0057196575</td><td>0.0060675964</td><td>0.010953607</td><td>0.005430515</td><td>0.005781204</td><td>0.010553227</td><td>0.005267251</td><td>0.0056759133</td><td>0.010439154</td><td>0.005154885</td><td>0.00546258</td><td>0.010156198</td><td>0.005106954</td><td>0.0054070675</td><td>0.010169683</td><td>18.01642</td><td>1.2385604</td><td>0.17051077</td><td>1.4091581</td><td>0.99601644</td><td>16.817999</td><td>1.4139539</td><td>0.1533624</td><td>1.2380737</td><td>0.13531691</td><td>16.309488</td><td>0.29089946</td><td>0.21375196</td><td>2.5342278</td><td>0.2944147</td><td>0</td></tr>\n",
       "<tr><td>29</td><td>SGA-2020 29</td><td>2MASXJ11122927+6014431</td><td>3382669</td><td>168.12193649999998</td><td>60.245229599999995</td><td>--</td><td>95.18</td><td>0.37153524</td><td>0.40550855</td><td>0.13134186</td><td>24.756481</td><td>18.278</td><td>False</td><td>LEDA-20181114</td><td>9</td><td>2MASXJ11122927+6014431</td><td>1</td><td>True</td><td>168.12193649999998</td><td>60.245229599999995</td><td>0.37153524</td><td>1682p602</td><td>168.12195030280432</td><td>60.24520943972748</td><td>0.5254904</td><td>SB26</td><td>93.27518</td><td>0.4504665</td><td>168.12174206037417</td><td>60.24526113391869</td><td>10.063886</td><td>4.9710255</td><td>4.2121243</td><td>2.955684</td><td>3.917081</td><td>5.031503</td><td>6.3397484</td><td>7.859549</td><td>9.5116625</td><td>11.106687</td><td>12.624502</td><td>14.035045</td><td>15.764712</td><td>18.788036</td><td>17.645203</td><td>16.76298</td><td>18.56597</td><td>17.444305</td><td>16.599722</td><td>18.396406</td><td>17.29114</td><td>16.477816</td><td>18.250896</td><td>17.16368</td><td>16.373098</td><td>18.136703</td><td>17.062458</td><td>16.293201</td><td>18.053637</td><td>16.990055</td><td>16.23756</td><td>17.998623</td><td>16.947845</td><td>16.209606</td><td>17.968748</td><td>16.91967</td><td>16.198694</td><td>17.937456</td><td>16.901102</td><td>16.190332</td><td>0.043608252</td><td>0.068593405</td><td>0.08251232</td><td>0.114085354</td><td>0.18821189</td><td>0.14581837</td><td>0.13098465</td><td>0.18873167</td><td>0.16190481</td><td>0.048937622</td><td>0.053202</td><td>0.070389636</td><td>0.043584738</td><td>0.047049206</td><td>0.0624863</td><td>0.039282635</td><td>0.042405277</td><td>0.056875147</td><td>0.035782997</td><td>0.038730845</td><td>0.05225435</td><td>0.033184648</td><td>0.03600609</td><td>0.049067486</td><td>0.03135153</td><td>0.034110624</td><td>0.046893198</td><td>0.030152028</td><td>0.033022434</td><td>0.045820117</td><td>0.029458879</td><td>0.032266933</td><td>0.045367915</td><td>0.028717741</td><td>0.03176078</td><td>0.045077246</td><td>17.832409</td><td>0.3196674</td><td>1.3563452</td><td>2.7893887</td><td>0.122701444</td><td>16.831856</td><td>0.25142962</td><td>1.251332</td><td>3.1430612</td><td>0.10823416</td><td>16.170433</td><td>0.12689392</td><td>1.2175424</td><td>4.702156</td><td>0.06635867</td><td>0</td></tr>\n",
       "</table></div>"
      ],
      "text/plain": [
       "<Table length=10>\n",
       "SGA_ID  SGA_GALAXY          GALAXY         ... Z_COG_PARAMS_CHI2 ELLIPSEBIT\n",
       "int64    bytes16           bytes29         ...      float32        int32   \n",
       "------ ----------- ----------------------- ... ----------------- ----------\n",
       "     2  SGA-2020 2              PGC1283207 ...       0.011723555          0\n",
       "     3  SGA-2020 3              PGC1310416 ...        0.20391206          0\n",
       "     4  SGA-2020 4 SDSSJ145059.93+135143.0 ...         1.8054093          0\n",
       "     7  SGA-2020 7              PGC1742504 ...       0.004725194          0\n",
       "    18 SGA-2020 18  2MASXJ12340801+4535444 ...       0.028653827          0\n",
       "    20 SGA-2020 20 SDSSJ173412.71+572041.6 ...        0.97457016          0\n",
       "    24 SGA-2020 24              PGC2162969 ...              -1.0          0\n",
       "    25 SGA-2020 25               PGC054121 ...         0.7843209          0\n",
       "    26 SGA-2020 26              PGC2468893 ...         0.2944147          0\n",
       "    29 SGA-2020 29  2MASXJ11122927+6014431 ...        0.06635867          0"
      ]
     },
     "execution_count": 10,
     "metadata": {},
     "output_type": "execute_result"
    }
   ],
   "source": [
    "SGA = Table.read('/global/cfs/cdirs/cosmo/data/sga/2020/SGA-2020.fits', 'ELLIPSE')\n",
    "\n",
    "SGA[:10]"
   ]
  },
  {
   "cell_type": "code",
   "execution_count": 11,
   "id": "c95eb967-412d-438f-b091-a4169ba6bd9e",
   "metadata": {},
   "outputs": [
    {
     "data": {
      "text/html": [
       "<div><i>Table length=4051</i>\n",
       "<table id=\"table23453804550416\" class=\"table-striped table-bordered table-condensed\">\n",
       "<thead><tr><th>TARGETID</th><th>TARGET_RA</th><th>TARGET_DEC</th><th>HEALPIX</th><th>SURVEY</th><th>Z</th><th>ZERR</th><th>ZWARN</th><th>DELTACHI2</th><th>FILENAME</th><th>PVTYPE</th><th>SGA_ID_1</th><th>RA_1</th><th>DEC_1</th><th>SGA_ID_2</th><th>SGA_GALAXY</th><th>GALAXY</th><th>PGC</th><th>RA_LEDA</th><th>DEC_LEDA</th><th>MORPHTYPE</th><th>PA_LEDA</th><th>D25_LEDA</th><th>BA_LEDA</th><th>Z_LEDA</th><th>SB_D25_LEDA</th><th>MAG_LEDA</th><th>BYHAND</th><th>REF</th><th>GROUP_ID</th><th>GROUP_NAME</th><th>GROUP_MULT</th><th>GROUP_PRIMARY</th><th>GROUP_RA</th><th>GROUP_DEC</th><th>GROUP_DIAMETER</th><th>BRICKNAME</th><th>RA_2</th><th>DEC_2</th><th>D26</th><th>D26_REF</th><th>PA</th><th>BA</th><th>RA_MOMENT</th><th>DEC_MOMENT</th><th>SMA_MOMENT</th><th>G_SMA50</th><th>R_SMA50</th><th>Z_SMA50</th><th>SMA_SB22</th><th>SMA_SB22.5</th><th>SMA_SB23</th><th>SMA_SB23.5</th><th>SMA_SB24</th><th>SMA_SB24.5</th><th>SMA_SB25</th><th>SMA_SB25.5</th><th>SMA_SB26</th><th>G_MAG_SB22</th><th>R_MAG_SB22</th><th>Z_MAG_SB22</th><th>G_MAG_SB22.5</th><th>R_MAG_SB22.5</th><th>Z_MAG_SB22.5</th><th>G_MAG_SB23</th><th>R_MAG_SB23</th><th>Z_MAG_SB23</th><th>G_MAG_SB23.5</th><th>R_MAG_SB23.5</th><th>Z_MAG_SB23.5</th><th>G_MAG_SB24</th><th>R_MAG_SB24</th><th>Z_MAG_SB24</th><th>G_MAG_SB24.5</th><th>R_MAG_SB24.5</th><th>Z_MAG_SB24.5</th><th>G_MAG_SB25</th><th>R_MAG_SB25</th><th>Z_MAG_SB25</th><th>G_MAG_SB25.5</th><th>R_MAG_SB25.5</th><th>Z_MAG_SB25.5</th><th>G_MAG_SB26</th><th>R_MAG_SB26</th><th>Z_MAG_SB26</th><th>SMA_SB22_ERR</th><th>SMA_SB22.5_ERR</th><th>SMA_SB23_ERR</th><th>SMA_SB23.5_ERR</th><th>SMA_SB24_ERR</th><th>SMA_SB24.5_ERR</th><th>SMA_SB25_ERR</th><th>SMA_SB25.5_ERR</th><th>SMA_SB26_ERR</th><th>G_MAG_SB22_ERR</th><th>R_MAG_SB22_ERR</th><th>Z_MAG_SB22_ERR</th><th>G_MAG_SB22.5_ERR</th><th>R_MAG_SB22.5_ERR</th><th>Z_MAG_SB22.5_ERR</th><th>G_MAG_SB23_ERR</th><th>R_MAG_SB23_ERR</th><th>Z_MAG_SB23_ERR</th><th>G_MAG_SB23.5_ERR</th><th>R_MAG_SB23.5_ERR</th><th>Z_MAG_SB23.5_ERR</th><th>G_MAG_SB24_ERR</th><th>R_MAG_SB24_ERR</th><th>Z_MAG_SB24_ERR</th><th>G_MAG_SB24.5_ERR</th><th>R_MAG_SB24.5_ERR</th><th>Z_MAG_SB24.5_ERR</th><th>G_MAG_SB25_ERR</th><th>R_MAG_SB25_ERR</th><th>Z_MAG_SB25_ERR</th><th>G_MAG_SB25.5_ERR</th><th>R_MAG_SB25.5_ERR</th><th>Z_MAG_SB25.5_ERR</th><th>G_MAG_SB26_ERR</th><th>R_MAG_SB26_ERR</th><th>Z_MAG_SB26_ERR</th><th>G_COG_PARAMS_MTOT</th><th>G_COG_PARAMS_M0</th><th>G_COG_PARAMS_ALPHA1</th><th>G_COG_PARAMS_ALPHA2</th><th>G_COG_PARAMS_CHI2</th><th>R_COG_PARAMS_MTOT</th><th>R_COG_PARAMS_M0</th><th>R_COG_PARAMS_ALPHA1</th><th>R_COG_PARAMS_ALPHA2</th><th>R_COG_PARAMS_CHI2</th><th>Z_COG_PARAMS_MTOT</th><th>Z_COG_PARAMS_M0</th><th>Z_COG_PARAMS_ALPHA1</th><th>Z_COG_PARAMS_ALPHA2</th><th>Z_COG_PARAMS_CHI2</th><th>ELLIPSEBIT</th></tr></thead>\n",
       "<thead><tr><th>int64</th><th>float64</th><th>float64</th><th>int64</th><th>bytes3</th><th>float64</th><th>float64</th><th>int64</th><th>float64</th><th>bytes63</th><th>bytes3</th><th>int64</th><th>float64</th><th>float64</th><th>int64</th><th>bytes16</th><th>bytes29</th><th>int64</th><th>float64</th><th>float64</th><th>bytes21</th><th>float32</th><th>float32</th><th>float32</th><th>float32</th><th>float32</th><th>float32</th><th>bool</th><th>bytes13</th><th>int64</th><th>bytes35</th><th>int16</th><th>bool</th><th>float64</th><th>float64</th><th>float32</th><th>bytes8</th><th>float64</th><th>float64</th><th>float32</th><th>bytes4</th><th>float32</th><th>float32</th><th>float64</th><th>float64</th><th>float32</th><th>float32</th><th>float32</th><th>float32</th><th>float32</th><th>float32</th><th>float32</th><th>float32</th><th>float32</th><th>float32</th><th>float32</th><th>float32</th><th>float32</th><th>float32</th><th>float32</th><th>float32</th><th>float32</th><th>float32</th><th>float32</th><th>float32</th><th>float32</th><th>float32</th><th>float32</th><th>float32</th><th>float32</th><th>float32</th><th>float32</th><th>float32</th><th>float32</th><th>float32</th><th>float32</th><th>float32</th><th>float32</th><th>float32</th><th>float32</th><th>float32</th><th>float32</th><th>float32</th><th>float32</th><th>float32</th><th>float32</th><th>float32</th><th>float32</th><th>float32</th><th>float32</th><th>float32</th><th>float32</th><th>float32</th><th>float32</th><th>float32</th><th>float32</th><th>float32</th><th>float32</th><th>float32</th><th>float32</th><th>float32</th><th>float32</th><th>float32</th><th>float32</th><th>float32</th><th>float32</th><th>float32</th><th>float32</th><th>float32</th><th>float32</th><th>float32</th><th>float32</th><th>float32</th><th>float32</th><th>float32</th><th>float32</th><th>float32</th><th>float32</th><th>float32</th><th>float32</th><th>float32</th><th>float32</th><th>float32</th><th>float32</th><th>float32</th><th>float32</th><th>float32</th><th>float32</th><th>float32</th><th>float32</th><th>float32</th><th>float32</th><th>float32</th><th>float32</th><th>float32</th><th>float32</th><th>int32</th></tr></thead>\n",
       "<tr><td>39627817951955633</td><td>180.381827027663</td><td>1.29582683075782</td><td>27649</td><td>sv3</td><td>0.0224279674032048</td><td>2.44404472261522e-05</td><td>0</td><td>283.560888532142</td><td>fuji/healpix/sv3/bright/276/27649/redrock-sv3-bright-27649.fits</td><td>TFT</td><td>896</td><td>180.38182702766252</td><td>1.2958268307578154</td><td>896</td><td>SGA-2020 896</td><td>PGC1190469</td><td>1190469</td><td>180.38184750000002</td><td>1.2958311000000002</td><td>Sc</td><td>76.42</td><td>0.44771332</td><td>0.7726806</td><td>0.022478215</td><td>23.47448</td><td>16.591</td><td>False</td><td>LEDA-20181114</td><td>256</td><td>PGC1190469</td><td>1</td><td>True</td><td>180.38184750000002</td><td>1.2958311000000002</td><td>0.44771332</td><td>1803p012</td><td>180.38182702766252</td><td>1.2958268307578154</td><td>0.6239483</td><td>SB26</td><td>76.93204</td><td>0.79918337</td><td>180.38178401011206</td><td>1.295990493861164</td><td>16.25661</td><td>7.6343946</td><td>7.3312407</td><td>7.215459</td><td>4.267071</td><td>6.71145</td><td>8.98399</td><td>11.085844</td><td>12.783826</td><td>14.283976</td><td>15.799797</td><td>17.191736</td><td>18.718449</td><td>18.022089</td><td>17.380363</td><td>16.982048</td><td>17.370085</td><td>16.760023</td><td>16.377943</td><td>16.967363</td><td>16.3918</td><td>16.024693</td><td>16.728146</td><td>16.17214</td><td>15.817478</td><td>16.609686</td><td>16.06539</td><td>15.715597</td><td>16.54587</td><td>16.008068</td><td>15.658699</td><td>16.505327</td><td>15.967604</td><td>15.619181</td><td>16.48057</td><td>15.942226</td><td>15.594475</td><td>16.459711</td><td>15.924162</td><td>15.572447</td><td>0.02403138</td><td>0.037713606</td><td>0.06752815</td><td>0.0597593</td><td>0.041663416</td><td>0.057950046</td><td>0.06897008</td><td>0.07238169</td><td>0.11818266</td><td>0.0070740557</td><td>0.008179923</td><td>0.008415725</td><td>0.005835994</td><td>0.006626628</td><td>0.0068130954</td><td>0.0056522293</td><td>0.006152283</td><td>0.0062183426</td><td>0.0057331356</td><td>0.0059468574</td><td>0.0059097866</td><td>0.005547482</td><td>0.0057424223</td><td>0.005712396</td><td>0.005370375</td><td>0.0055686547</td><td>0.005550764</td><td>0.0052407323</td><td>0.0054267743</td><td>0.0054291883</td><td>0.0051505533</td><td>0.005328927</td><td>0.005367155</td><td>0.005074676</td><td>0.005267603</td><td>0.0053163357</td><td>16.432898</td><td>0.27237165</td><td>3.4572394</td><td>5.399334</td><td>1.6520585</td><td>15.889806</td><td>0.2892297</td><td>2.7702796</td><td>4.85128</td><td>0.7334321</td><td>15.531683</td><td>0.31152296</td><td>2.403034</td><td>4.429238</td><td>0.75814104</td><td>0</td></tr>\n",
       "<tr><td>1070144189104132</td><td>180.383498876859</td><td>1.29621479718706</td><td>27649</td><td>sv3</td><td>0.0222944544366663</td><td>2.83413346431536e-05</td><td>0</td><td>45.697032826487</td><td>fuji/healpix/sv3/bright/276/27649/redrock-sv3-bright-27649.fits</td><td>TFT</td><td>896</td><td>180.38349887685897</td><td>1.2962147971870641</td><td>896</td><td>SGA-2020 896</td><td>PGC1190469</td><td>1190469</td><td>180.38184750000002</td><td>1.2958311000000002</td><td>Sc</td><td>76.42</td><td>0.44771332</td><td>0.7726806</td><td>0.022478215</td><td>23.47448</td><td>16.591</td><td>False</td><td>LEDA-20181114</td><td>256</td><td>PGC1190469</td><td>1</td><td>True</td><td>180.38184750000002</td><td>1.2958311000000002</td><td>0.44771332</td><td>1803p012</td><td>180.38182702766252</td><td>1.2958268307578154</td><td>0.6239483</td><td>SB26</td><td>76.93204</td><td>0.79918337</td><td>180.38178401011206</td><td>1.295990493861164</td><td>16.25661</td><td>7.6343946</td><td>7.3312407</td><td>7.215459</td><td>4.267071</td><td>6.71145</td><td>8.98399</td><td>11.085844</td><td>12.783826</td><td>14.283976</td><td>15.799797</td><td>17.191736</td><td>18.718449</td><td>18.022089</td><td>17.380363</td><td>16.982048</td><td>17.370085</td><td>16.760023</td><td>16.377943</td><td>16.967363</td><td>16.3918</td><td>16.024693</td><td>16.728146</td><td>16.17214</td><td>15.817478</td><td>16.609686</td><td>16.06539</td><td>15.715597</td><td>16.54587</td><td>16.008068</td><td>15.658699</td><td>16.505327</td><td>15.967604</td><td>15.619181</td><td>16.48057</td><td>15.942226</td><td>15.594475</td><td>16.459711</td><td>15.924162</td><td>15.572447</td><td>0.02403138</td><td>0.037713606</td><td>0.06752815</td><td>0.0597593</td><td>0.041663416</td><td>0.057950046</td><td>0.06897008</td><td>0.07238169</td><td>0.11818266</td><td>0.0070740557</td><td>0.008179923</td><td>0.008415725</td><td>0.005835994</td><td>0.006626628</td><td>0.0068130954</td><td>0.0056522293</td><td>0.006152283</td><td>0.0062183426</td><td>0.0057331356</td><td>0.0059468574</td><td>0.0059097866</td><td>0.005547482</td><td>0.0057424223</td><td>0.005712396</td><td>0.005370375</td><td>0.0055686547</td><td>0.005550764</td><td>0.0052407323</td><td>0.0054267743</td><td>0.0054291883</td><td>0.0051505533</td><td>0.005328927</td><td>0.005367155</td><td>0.005074676</td><td>0.005267603</td><td>0.0053163357</td><td>16.432898</td><td>0.27237165</td><td>3.4572394</td><td>5.399334</td><td>1.6520585</td><td>15.889806</td><td>0.2892297</td><td>2.7702796</td><td>4.85128</td><td>0.7334321</td><td>15.531683</td><td>0.31152296</td><td>2.403034</td><td>4.429238</td><td>0.75814104</td><td>0</td></tr>\n",
       "<tr><td>1070869912748034</td><td>252.860062744453</td><td>33.03565124542</td><td>9337</td><td>sv3</td><td>0.0625669112434631</td><td>7.42303672319939e-06</td><td>0</td><td>437.830720379949</td><td>fuji/healpix/sv3/bright/93/9337/redrock-sv3-bright-9337.fits</td><td>TFT</td><td>1548</td><td>252.86006274445305</td><td>33.035651245420034</td><td>1548</td><td>SGA-2020 1548</td><td>SDSSJ165126.59+330203.5</td><td>3502220</td><td>252.86077650000004</td><td>33.0343507</td><td>S?</td><td>154.1</td><td>0.4508167</td><td>0.4466836</td><td>0.062078945</td><td>25.027481</td><td>18.129</td><td>False</td><td>LEDA-20181114</td><td>440</td><td>SDSSJ165126.59+330203.5</td><td>1</td><td>True</td><td>252.86077650000004</td><td>33.0343507</td><td>0.4508167</td><td>2527p330</td><td>252.86079970098154</td><td>33.03430448556036</td><td>0.53880334</td><td>SB26</td><td>155.35718</td><td>0.47351485</td><td>252.86066909405264</td><td>33.034360686080134</td><td>12.597376</td><td>6.584361</td><td>5.8151336</td><td>4.142423</td><td>3.323081</td><td>4.8804545</td><td>6.415447</td><td>7.9999123</td><td>9.597124</td><td>11.154015</td><td>12.78003</td><td>14.538747</td><td>16.1641</td><td>19.366194</td><td>18.418495</td><td>17.676432</td><td>18.797308</td><td>17.914637</td><td>17.265965</td><td>18.457354</td><td>17.619967</td><td>17.034483</td><td>18.227644</td><td>17.417562</td><td>16.88301</td><td>18.076956</td><td>17.286598</td><td>16.793627</td><td>17.982859</td><td>17.20239</td><td>16.745651</td><td>17.912136</td><td>17.143084</td><td>16.721899</td><td>17.857784</td><td>17.100485</td><td>16.709152</td><td>17.817442</td><td>17.070053</td><td>16.707008</td><td>0.018727673</td><td>0.036042005</td><td>0.038202766</td><td>0.05129338</td><td>0.047407247</td><td>0.068421446</td><td>0.08510804</td><td>0.12238743</td><td>0.09439984</td><td>0.014373892</td><td>0.020639302</td><td>0.030724164</td><td>0.012427286</td><td>0.015752278</td><td>0.02315442</td><td>0.011548264</td><td>0.013715157</td><td>0.019837318</td><td>0.011104556</td><td>0.012567875</td><td>0.017957231</td><td>0.0106252385</td><td>0.011774546</td><td>0.016949702</td><td>0.010149004</td><td>0.011192934</td><td>0.01646763</td><td>0.009698678</td><td>0.010731671</td><td>0.016358081</td><td>0.009359885</td><td>0.010427434</td><td>0.01636157</td><td>0.009096751</td><td>0.010217264</td><td>0.016512321</td><td>17.673454</td><td>0.7710308</td><td>0.6318578</td><td>2.3027244</td><td>0.32337695</td><td>16.965923</td><td>0.5952432</td><td>0.6457509</td><td>2.5266817</td><td>0.17254663</td><td>16.687475</td><td>0.26123127</td><td>0.42546558</td><td>4.1730514</td><td>0.48248762</td><td>0</td></tr>\n",
       "<tr><td>39632941722111933</td><td>252.860799700982</td><td>33.0343044855604</td><td>9337</td><td>sv3</td><td>0.0621058276441731</td><td>7.86988716030476e-06</td><td>0</td><td>996.112674765289</td><td>fuji/healpix/sv3/bright/93/9337/redrock-sv3-bright-9337.fits</td><td>TFT</td><td>1548</td><td>252.86079970098154</td><td>33.03430448556036</td><td>1548</td><td>SGA-2020 1548</td><td>SDSSJ165126.59+330203.5</td><td>3502220</td><td>252.86077650000004</td><td>33.0343507</td><td>S?</td><td>154.1</td><td>0.4508167</td><td>0.4466836</td><td>0.062078945</td><td>25.027481</td><td>18.129</td><td>False</td><td>LEDA-20181114</td><td>440</td><td>SDSSJ165126.59+330203.5</td><td>1</td><td>True</td><td>252.86077650000004</td><td>33.0343507</td><td>0.4508167</td><td>2527p330</td><td>252.86079970098154</td><td>33.03430448556036</td><td>0.53880334</td><td>SB26</td><td>155.35718</td><td>0.47351485</td><td>252.86066909405264</td><td>33.034360686080134</td><td>12.597376</td><td>6.584361</td><td>5.8151336</td><td>4.142423</td><td>3.323081</td><td>4.8804545</td><td>6.415447</td><td>7.9999123</td><td>9.597124</td><td>11.154015</td><td>12.78003</td><td>14.538747</td><td>16.1641</td><td>19.366194</td><td>18.418495</td><td>17.676432</td><td>18.797308</td><td>17.914637</td><td>17.265965</td><td>18.457354</td><td>17.619967</td><td>17.034483</td><td>18.227644</td><td>17.417562</td><td>16.88301</td><td>18.076956</td><td>17.286598</td><td>16.793627</td><td>17.982859</td><td>17.20239</td><td>16.745651</td><td>17.912136</td><td>17.143084</td><td>16.721899</td><td>17.857784</td><td>17.100485</td><td>16.709152</td><td>17.817442</td><td>17.070053</td><td>16.707008</td><td>0.018727673</td><td>0.036042005</td><td>0.038202766</td><td>0.05129338</td><td>0.047407247</td><td>0.068421446</td><td>0.08510804</td><td>0.12238743</td><td>0.09439984</td><td>0.014373892</td><td>0.020639302</td><td>0.030724164</td><td>0.012427286</td><td>0.015752278</td><td>0.02315442</td><td>0.011548264</td><td>0.013715157</td><td>0.019837318</td><td>0.011104556</td><td>0.012567875</td><td>0.017957231</td><td>0.0106252385</td><td>0.011774546</td><td>0.016949702</td><td>0.010149004</td><td>0.011192934</td><td>0.01646763</td><td>0.009698678</td><td>0.010731671</td><td>0.016358081</td><td>0.009359885</td><td>0.010427434</td><td>0.01636157</td><td>0.009096751</td><td>0.010217264</td><td>0.016512321</td><td>17.673454</td><td>0.7710308</td><td>0.6318578</td><td>2.3027244</td><td>0.32337695</td><td>16.965923</td><td>0.5952432</td><td>0.6457509</td><td>2.5266817</td><td>0.17254663</td><td>16.687475</td><td>0.26123127</td><td>0.42546558</td><td>4.1730514</td><td>0.48248762</td><td>0</td></tr>\n",
       "<tr><td>1071077795037186</td><td>236.810202992035</td><td>43.9950609278788</td><td>9923</td><td>sv3</td><td>0.0356212945166845</td><td>2.64003527378348e-05</td><td>0</td><td>36.7676933435723</td><td>fuji/healpix/sv3/bright/99/9923/redrock-sv3-bright-9923.fits</td><td>TFT</td><td>1583</td><td>236.81020299203462</td><td>43.99506092787884</td><td>1583</td><td>SGA-2020 1583</td><td>SDSSJ154714.80+435943.7</td><td>4006227</td><td>236.811657</td><td>43.9954633</td><td>S?</td><td>73.7</td><td>0.34833732</td><td>0.80167806</td><td>0.035454858</td><td>24.28048</td><td>17.942</td><td>False</td><td>LEDA-20181114</td><td>450</td><td>SDSSJ154714.80+435943.7</td><td>1</td><td>True</td><td>236.811657</td><td>43.9954633</td><td>0.34833732</td><td>2369p440</td><td>236.8118258118881</td><td>43.995408168631656</td><td>0.44290876</td><td>SB26</td><td>73.43627</td><td>0.66936576</td><td>236.81184980134176</td><td>43.9954253928106</td><td>10.796787</td><td>5.4691553</td><td>5.5400295</td><td>5.0083237</td><td>1.1597937</td><td>2.7347844</td><td>4.899796</td><td>6.474896</td><td>7.912876</td><td>9.239373</td><td>10.542037</td><td>11.851997</td><td>13.287263</td><td>21.150717</td><td>20.578133</td><td>20.278332</td><td>19.50612</td><td>18.965668</td><td>18.680468</td><td>18.583513</td><td>18.08508</td><td>17.802263</td><td>18.232662</td><td>17.750374</td><td>17.480091</td><td>18.042088</td><td>17.564339</td><td>17.302803</td><td>17.93493</td><td>17.456078</td><td>17.205051</td><td>17.862728</td><td>17.385504</td><td>17.149199</td><td>17.817097</td><td>17.33827</td><td>17.117218</td><td>17.790686</td><td>17.307076</td><td>17.095615</td><td>0.026365642</td><td>0.05347998</td><td>0.054105345</td><td>0.096931994</td><td>0.06621182</td><td>0.10098977</td><td>0.11348996</td><td>0.16473694</td><td>0.16420645</td><td>0.051747777</td><td>0.05532697</td><td>0.07408001</td><td>0.026645966</td><td>0.028689886</td><td>0.034319773</td><td>0.019509947</td><td>0.021838425</td><td>0.02358181</td><td>0.017683284</td><td>0.019549657</td><td>0.02095568</td><td>0.016889269</td><td>0.018349087</td><td>0.019430552</td><td>0.016331133</td><td>0.017439378</td><td>0.018593814</td><td>0.015741652</td><td>0.016789937</td><td>0.018067837</td><td>0.015319563</td><td>0.016302342</td><td>0.01781632</td><td>0.015060545</td><td>0.015975114</td><td>0.017633716</td><td>17.673647</td><td>0.7093972</td><td>0.36339322</td><td>2.7313263</td><td>1.2233223</td><td>17.165583</td><td>0.7834774</td><td>0.37744117</td><td>2.4594772</td><td>1.1343639</td><td>17.010578</td><td>0.6299627</td><td>0.3009715</td><td>2.9424691</td><td>1.4019876</td><td>0</td></tr>\n",
       "<tr><td>1071077795037187</td><td>236.813448650733</td><td>43.9957553864163</td><td>9923</td><td>sv3</td><td>0.0352887795291414</td><td>7.31620291911626e-06</td><td>0</td><td>550.152345106006</td><td>fuji/healpix/sv3/bright/99/9923/redrock-sv3-bright-9923.fits</td><td>TFT</td><td>1583</td><td>236.8134486507333</td><td>43.99575538641631</td><td>1583</td><td>SGA-2020 1583</td><td>SDSSJ154714.80+435943.7</td><td>4006227</td><td>236.811657</td><td>43.9954633</td><td>S?</td><td>73.7</td><td>0.34833732</td><td>0.80167806</td><td>0.035454858</td><td>24.28048</td><td>17.942</td><td>False</td><td>LEDA-20181114</td><td>450</td><td>SDSSJ154714.80+435943.7</td><td>1</td><td>True</td><td>236.811657</td><td>43.9954633</td><td>0.34833732</td><td>2369p440</td><td>236.8118258118881</td><td>43.995408168631656</td><td>0.44290876</td><td>SB26</td><td>73.43627</td><td>0.66936576</td><td>236.81184980134176</td><td>43.9954253928106</td><td>10.796787</td><td>5.4691553</td><td>5.5400295</td><td>5.0083237</td><td>1.1597937</td><td>2.7347844</td><td>4.899796</td><td>6.474896</td><td>7.912876</td><td>9.239373</td><td>10.542037</td><td>11.851997</td><td>13.287263</td><td>21.150717</td><td>20.578133</td><td>20.278332</td><td>19.50612</td><td>18.965668</td><td>18.680468</td><td>18.583513</td><td>18.08508</td><td>17.802263</td><td>18.232662</td><td>17.750374</td><td>17.480091</td><td>18.042088</td><td>17.564339</td><td>17.302803</td><td>17.93493</td><td>17.456078</td><td>17.205051</td><td>17.862728</td><td>17.385504</td><td>17.149199</td><td>17.817097</td><td>17.33827</td><td>17.117218</td><td>17.790686</td><td>17.307076</td><td>17.095615</td><td>0.026365642</td><td>0.05347998</td><td>0.054105345</td><td>0.096931994</td><td>0.06621182</td><td>0.10098977</td><td>0.11348996</td><td>0.16473694</td><td>0.16420645</td><td>0.051747777</td><td>0.05532697</td><td>0.07408001</td><td>0.026645966</td><td>0.028689886</td><td>0.034319773</td><td>0.019509947</td><td>0.021838425</td><td>0.02358181</td><td>0.017683284</td><td>0.019549657</td><td>0.02095568</td><td>0.016889269</td><td>0.018349087</td><td>0.019430552</td><td>0.016331133</td><td>0.017439378</td><td>0.018593814</td><td>0.015741652</td><td>0.016789937</td><td>0.018067837</td><td>0.015319563</td><td>0.016302342</td><td>0.01781632</td><td>0.015060545</td><td>0.015975114</td><td>0.017633716</td><td>17.673647</td><td>0.7093972</td><td>0.36339322</td><td>2.7313263</td><td>1.2233223</td><td>17.165583</td><td>0.7834774</td><td>0.37744117</td><td>2.4594772</td><td>1.1343639</td><td>17.010578</td><td>0.6299627</td><td>0.3009715</td><td>2.9424691</td><td>1.4019876</td><td>0</td></tr>\n",
       "<tr><td>1084271934570499</td><td>236.813448650733</td><td>43.9957553864163</td><td>9923</td><td>sv3</td><td>0.0353008322684175</td><td>9.4825361822116e-06</td><td>0</td><td>335.291149647906</td><td>fuji/healpix/sv3/dark/99/9923/redrock-sv3-dark-9923.fits</td><td>TFT</td><td>1583</td><td>236.8134486507333</td><td>43.99575538641631</td><td>1583</td><td>SGA-2020 1583</td><td>SDSSJ154714.80+435943.7</td><td>4006227</td><td>236.811657</td><td>43.9954633</td><td>S?</td><td>73.7</td><td>0.34833732</td><td>0.80167806</td><td>0.035454858</td><td>24.28048</td><td>17.942</td><td>False</td><td>LEDA-20181114</td><td>450</td><td>SDSSJ154714.80+435943.7</td><td>1</td><td>True</td><td>236.811657</td><td>43.9954633</td><td>0.34833732</td><td>2369p440</td><td>236.8118258118881</td><td>43.995408168631656</td><td>0.44290876</td><td>SB26</td><td>73.43627</td><td>0.66936576</td><td>236.81184980134176</td><td>43.9954253928106</td><td>10.796787</td><td>5.4691553</td><td>5.5400295</td><td>5.0083237</td><td>1.1597937</td><td>2.7347844</td><td>4.899796</td><td>6.474896</td><td>7.912876</td><td>9.239373</td><td>10.542037</td><td>11.851997</td><td>13.287263</td><td>21.150717</td><td>20.578133</td><td>20.278332</td><td>19.50612</td><td>18.965668</td><td>18.680468</td><td>18.583513</td><td>18.08508</td><td>17.802263</td><td>18.232662</td><td>17.750374</td><td>17.480091</td><td>18.042088</td><td>17.564339</td><td>17.302803</td><td>17.93493</td><td>17.456078</td><td>17.205051</td><td>17.862728</td><td>17.385504</td><td>17.149199</td><td>17.817097</td><td>17.33827</td><td>17.117218</td><td>17.790686</td><td>17.307076</td><td>17.095615</td><td>0.026365642</td><td>0.05347998</td><td>0.054105345</td><td>0.096931994</td><td>0.06621182</td><td>0.10098977</td><td>0.11348996</td><td>0.16473694</td><td>0.16420645</td><td>0.051747777</td><td>0.05532697</td><td>0.07408001</td><td>0.026645966</td><td>0.028689886</td><td>0.034319773</td><td>0.019509947</td><td>0.021838425</td><td>0.02358181</td><td>0.017683284</td><td>0.019549657</td><td>0.02095568</td><td>0.016889269</td><td>0.018349087</td><td>0.019430552</td><td>0.016331133</td><td>0.017439378</td><td>0.018593814</td><td>0.015741652</td><td>0.016789937</td><td>0.018067837</td><td>0.015319563</td><td>0.016302342</td><td>0.01781632</td><td>0.015060545</td><td>0.015975114</td><td>0.017633716</td><td>17.673647</td><td>0.7093972</td><td>0.36339322</td><td>2.7313263</td><td>1.2233223</td><td>17.165583</td><td>0.7834774</td><td>0.37744117</td><td>2.4594772</td><td>1.1343639</td><td>17.010578</td><td>0.6299627</td><td>0.3009715</td><td>2.9424691</td><td>1.4019876</td><td>0</td></tr>\n",
       "<tr><td>39633149604397504</td><td>236.811825811888</td><td>43.9954081686317</td><td>9923</td><td>sv3</td><td>0.0354706088249934</td><td>6.27417750722545e-06</td><td>0</td><td>869.667408287525</td><td>fuji/healpix/sv3/bright/99/9923/redrock-sv3-bright-9923.fits</td><td>TFT</td><td>1583</td><td>236.81182581188813</td><td>43.995408168631656</td><td>1583</td><td>SGA-2020 1583</td><td>SDSSJ154714.80+435943.7</td><td>4006227</td><td>236.811657</td><td>43.9954633</td><td>S?</td><td>73.7</td><td>0.34833732</td><td>0.80167806</td><td>0.035454858</td><td>24.28048</td><td>17.942</td><td>False</td><td>LEDA-20181114</td><td>450</td><td>SDSSJ154714.80+435943.7</td><td>1</td><td>True</td><td>236.811657</td><td>43.9954633</td><td>0.34833732</td><td>2369p440</td><td>236.8118258118881</td><td>43.995408168631656</td><td>0.44290876</td><td>SB26</td><td>73.43627</td><td>0.66936576</td><td>236.81184980134176</td><td>43.9954253928106</td><td>10.796787</td><td>5.4691553</td><td>5.5400295</td><td>5.0083237</td><td>1.1597937</td><td>2.7347844</td><td>4.899796</td><td>6.474896</td><td>7.912876</td><td>9.239373</td><td>10.542037</td><td>11.851997</td><td>13.287263</td><td>21.150717</td><td>20.578133</td><td>20.278332</td><td>19.50612</td><td>18.965668</td><td>18.680468</td><td>18.583513</td><td>18.08508</td><td>17.802263</td><td>18.232662</td><td>17.750374</td><td>17.480091</td><td>18.042088</td><td>17.564339</td><td>17.302803</td><td>17.93493</td><td>17.456078</td><td>17.205051</td><td>17.862728</td><td>17.385504</td><td>17.149199</td><td>17.817097</td><td>17.33827</td><td>17.117218</td><td>17.790686</td><td>17.307076</td><td>17.095615</td><td>0.026365642</td><td>0.05347998</td><td>0.054105345</td><td>0.096931994</td><td>0.06621182</td><td>0.10098977</td><td>0.11348996</td><td>0.16473694</td><td>0.16420645</td><td>0.051747777</td><td>0.05532697</td><td>0.07408001</td><td>0.026645966</td><td>0.028689886</td><td>0.034319773</td><td>0.019509947</td><td>0.021838425</td><td>0.02358181</td><td>0.017683284</td><td>0.019549657</td><td>0.02095568</td><td>0.016889269</td><td>0.018349087</td><td>0.019430552</td><td>0.016331133</td><td>0.017439378</td><td>0.018593814</td><td>0.015741652</td><td>0.016789937</td><td>0.018067837</td><td>0.015319563</td><td>0.016302342</td><td>0.01781632</td><td>0.015060545</td><td>0.015975114</td><td>0.017633716</td><td>17.673647</td><td>0.7093972</td><td>0.36339322</td><td>2.7313263</td><td>1.2233223</td><td>17.165583</td><td>0.7834774</td><td>0.37744117</td><td>2.4594772</td><td>1.1343639</td><td>17.010578</td><td>0.6299627</td><td>0.3009715</td><td>2.9424691</td><td>1.4019876</td><td>0</td></tr>\n",
       "<tr><td>1070114673786884</td><td>221.077296137197</td><td>0.0412648658561053</td><td>25945</td><td>sv3</td><td>0.0288180099915314</td><td>7.19422906153812e-05</td><td>0</td><td>294.173335613379</td><td>fuji/healpix/sv3/bright/259/25945/redrock-sv3-bright-25945.fits</td><td>TFT</td><td>1980</td><td>221.0772961371969</td><td>0.041264865856105344</td><td>1980</td><td>SGA-2020 1980</td><td>PGC3098317</td><td>3098317</td><td>221.078673</td><td>0.0419199</td><td>S0</td><td>141.12</td><td>0.9418896</td><td>0.699842</td><td>0.028935684</td><td>23.985483</td><td>15.487</td><td>False</td><td>LEDA-20181114</td><td>560</td><td>PGC3098317_GROUP</td><td>2</td><td>True</td><td>221.0777837382504</td><td>0.04279262980888227</td><td>1.0166478</td><td>2211p000</td><td>221.0765229904383</td><td>0.04404351172445308</td><td>1.0488012</td><td>SB26</td><td>164.451</td><td>0.9800691</td><td>221.07686987533287</td><td>0.04358679757899937</td><td>32.102997</td><td>9.238959</td><td>9.879681</td><td>10.428718</td><td>7.8350058</td><td>10.399587</td><td>13.1465645</td><td>15.987329</td><td>18.755962</td><td>21.488228</td><td>24.465588</td><td>27.493338</td><td>31.464037</td><td>15.995904</td><td>15.606668</td><td>15.309033</td><td>15.664592</td><td>15.287069</td><td>15.01805</td><td>15.44377</td><td>15.06274</td><td>14.800893</td><td>15.315058</td><td>14.9204</td><td>14.647455</td><td>15.237978</td><td>14.831263</td><td>14.5480585</td><td>15.184224</td><td>14.767017</td><td>14.474368</td><td>15.144503</td><td>14.717999</td><td>14.417657</td><td>15.118924</td><td>14.688098</td><td>14.377791</td><td>15.099152</td><td>14.662473</td><td>14.347829</td><td>0.06076624</td><td>0.08439203</td><td>0.06663399</td><td>0.058722753</td><td>0.07866875</td><td>0.059216432</td><td>0.09420997</td><td>0.12256561</td><td>0.22303835</td><td>0.020017084</td><td>0.020355469</td><td>0.021976111</td><td>0.015951209</td><td>0.016249087</td><td>0.01809202</td><td>0.013424219</td><td>0.013525385</td><td>0.015170244</td><td>0.011982458</td><td>0.011943107</td><td>0.013248542</td><td>0.011183206</td><td>0.0110309515</td><td>0.012122214</td><td>0.010671716</td><td>0.01040515</td><td>0.011336535</td><td>0.010279736</td><td>0.009965059</td><td>0.010787699</td><td>0.010061269</td><td>0.009693397</td><td>0.010398413</td><td>0.009885436</td><td>0.00947659</td><td>0.010130541</td><td>15.039355</td><td>0.6984608</td><td>1.5859108</td><td>2.528108</td><td>0.259893</td><td>14.587156</td><td>0.56408924</td><td>2.7104928</td><td>2.587596</td><td>0.27126014</td><td>14.262344</td><td>0.40249574</td><td>6.1888504</td><td>2.868194</td><td>0.17947721</td><td>0</td></tr>\n",
       "<tr><td>1070114673786881</td><td>221.074180121106</td><td>0.0524636506683826</td><td>25945</td><td>sv3</td><td>0.517629896537837</td><td>8.60289560125964e-05</td><td>0</td><td>26.0517106279731</td><td>fuji/healpix/sv3/bright/259/25945/redrock-sv3-bright-25945.fits</td><td>TFT</td><td>1980</td><td>221.0741801211058</td><td>0.052463650668382586</td><td>1980</td><td>SGA-2020 1980</td><td>PGC3098317</td><td>3098317</td><td>221.078673</td><td>0.0419199</td><td>S0</td><td>141.12</td><td>0.9418896</td><td>0.699842</td><td>0.028935684</td><td>23.985483</td><td>15.487</td><td>False</td><td>LEDA-20181114</td><td>560</td><td>PGC3098317_GROUP</td><td>2</td><td>True</td><td>221.0777837382504</td><td>0.04279262980888227</td><td>1.0166478</td><td>2211p000</td><td>221.0765229904383</td><td>0.04404351172445308</td><td>1.0488012</td><td>SB26</td><td>164.451</td><td>0.9800691</td><td>221.07686987533287</td><td>0.04358679757899937</td><td>32.102997</td><td>9.238959</td><td>9.879681</td><td>10.428718</td><td>7.8350058</td><td>10.399587</td><td>13.1465645</td><td>15.987329</td><td>18.755962</td><td>21.488228</td><td>24.465588</td><td>27.493338</td><td>31.464037</td><td>15.995904</td><td>15.606668</td><td>15.309033</td><td>15.664592</td><td>15.287069</td><td>15.01805</td><td>15.44377</td><td>15.06274</td><td>14.800893</td><td>15.315058</td><td>14.9204</td><td>14.647455</td><td>15.237978</td><td>14.831263</td><td>14.5480585</td><td>15.184224</td><td>14.767017</td><td>14.474368</td><td>15.144503</td><td>14.717999</td><td>14.417657</td><td>15.118924</td><td>14.688098</td><td>14.377791</td><td>15.099152</td><td>14.662473</td><td>14.347829</td><td>0.06076624</td><td>0.08439203</td><td>0.06663399</td><td>0.058722753</td><td>0.07866875</td><td>0.059216432</td><td>0.09420997</td><td>0.12256561</td><td>0.22303835</td><td>0.020017084</td><td>0.020355469</td><td>0.021976111</td><td>0.015951209</td><td>0.016249087</td><td>0.01809202</td><td>0.013424219</td><td>0.013525385</td><td>0.015170244</td><td>0.011982458</td><td>0.011943107</td><td>0.013248542</td><td>0.011183206</td><td>0.0110309515</td><td>0.012122214</td><td>0.010671716</td><td>0.01040515</td><td>0.011336535</td><td>0.010279736</td><td>0.009965059</td><td>0.010787699</td><td>0.010061269</td><td>0.009693397</td><td>0.010398413</td><td>0.009885436</td><td>0.00947659</td><td>0.010130541</td><td>15.039355</td><td>0.6984608</td><td>1.5859108</td><td>2.528108</td><td>0.259893</td><td>14.587156</td><td>0.56408924</td><td>2.7104928</td><td>2.587596</td><td>0.27126014</td><td>14.262344</td><td>0.40249574</td><td>6.1888504</td><td>2.868194</td><td>0.17947721</td><td>0</td></tr>\n",
       "<tr><td>...</td><td>...</td><td>...</td><td>...</td><td>...</td><td>...</td><td>...</td><td>...</td><td>...</td><td>...</td><td>...</td><td>...</td><td>...</td><td>...</td><td>...</td><td>...</td><td>...</td><td>...</td><td>...</td><td>...</td><td>...</td><td>...</td><td>...</td><td>...</td><td>...</td><td>...</td><td>...</td><td>...</td><td>...</td><td>...</td><td>...</td><td>...</td><td>...</td><td>...</td><td>...</td><td>...</td><td>...</td><td>...</td><td>...</td><td>...</td><td>...</td><td>...</td><td>...</td><td>...</td><td>...</td><td>...</td><td>...</td><td>...</td><td>...</td><td>...</td><td>...</td><td>...</td><td>...</td><td>...</td><td>...</td><td>...</td><td>...</td><td>...</td><td>...</td><td>...</td><td>...</td><td>...</td><td>...</td><td>...</td><td>...</td><td>...</td><td>...</td><td>...</td><td>...</td><td>...</td><td>...</td><td>...</td><td>...</td><td>...</td><td>...</td><td>...</td><td>...</td><td>...</td><td>...</td><td>...</td><td>...</td><td>...</td><td>...</td><td>...</td><td>...</td><td>...</td><td>...</td><td>...</td><td>...</td><td>...</td><td>...</td><td>...</td><td>...</td><td>...</td><td>...</td><td>...</td><td>...</td><td>...</td><td>...</td><td>...</td><td>...</td><td>...</td><td>...</td><td>...</td><td>...</td><td>...</td><td>...</td><td>...</td><td>...</td><td>...</td><td>...</td><td>...</td><td>...</td><td>...</td><td>...</td><td>...</td><td>...</td><td>...</td><td>...</td><td>...</td><td>...</td><td>...</td><td>...</td><td>...</td><td>...</td><td>...</td><td>...</td><td>...</td><td>...</td><td>...</td><td>...</td><td>...</td><td>...</td><td>...</td><td>...</td><td>...</td><td>...</td></tr>\n",
       "<tr><td>1070879538675716</td><td>217.7204224802</td><td>33.5236362141151</td><td>9147</td><td>sv3</td><td>0.0975487577921421</td><td>8.97514281379794e-06</td><td>0</td><td>676.579413495958</td><td>fuji/healpix/sv3/bright/91/9147/redrock-sv3-bright-9147.fits</td><td>TFT</td><td>1434487</td><td>217.72042248020009</td><td>33.52363621411509</td><td>1434487</td><td>SGA-2020 1434487</td><td>PGC2033809</td><td>2033809</td><td>217.721826</td><td>33.522174</td><td>SBc</td><td>140.54</td><td>0.46773514</td><td>0.4677351</td><td>0.09850281</td><td>23.818481</td><td>16.84</td><td>False</td><td>LEDA-20181114</td><td>527827</td><td>PGC2033809</td><td>1</td><td>True</td><td>217.721826</td><td>33.522174</td><td>0.46773514</td><td>2178p335</td><td>217.7217326469164</td><td>33.522231472438826</td><td>0.6470569</td><td>SB26</td><td>142.13394</td><td>0.41777033</td><td>217.721651074601</td><td>33.52233334153142</td><td>15.71153</td><td>6.8230014</td><td>6.270269</td><td>5.081234</td><td>7.421352</td><td>9.180227</td><td>10.910741</td><td>12.550604</td><td>14.040697</td><td>15.481771</td><td>16.779903</td><td>18.107334</td><td>19.411707</td><td>17.398945</td><td>16.504402</td><td>15.812705</td><td>17.170378</td><td>16.299656</td><td>15.645305</td><td>17.019888</td><td>16.169641</td><td>15.544694</td><td>16.925802</td><td>16.089619</td><td>15.489886</td><td>16.865665</td><td>16.038265</td><td>15.454965</td><td>16.825867</td><td>16.005169</td><td>15.434016</td><td>16.802439</td><td>15.985988</td><td>15.423861</td><td>16.787088</td><td>15.97269</td><td>15.419032</td><td>16.778366</td><td>15.964433</td><td>15.417755</td><td>0.022197915</td><td>0.030587899</td><td>0.025068035</td><td>0.045625433</td><td>0.058233146</td><td>0.041962508</td><td>0.051860243</td><td>0.07769338</td><td>0.08144608</td><td>0.010391744</td><td>0.010655405</td><td>0.018182313</td><td>0.008913803</td><td>0.009219211</td><td>0.015883904</td><td>0.008008861</td><td>0.008371007</td><td>0.014596113</td><td>0.0075513856</td><td>0.007926009</td><td>0.013939188</td><td>0.0072864266</td><td>0.007637876</td><td>0.013542573</td><td>0.007103226</td><td>0.0074551804</td><td>0.013307453</td><td>0.0069896784</td><td>0.0073523964</td><td>0.0131966015</td><td>0.0069147227</td><td>0.007272883</td><td>0.013146065</td><td>0.0068728747</td><td>0.007225984</td><td>0.013139788</td><td>16.741442</td><td>0.2807909</td><td>2.4936793</td><td>4.4349713</td><td>0.43963772</td><td>15.93036</td><td>0.2859997</td><td>1.8699236</td><td>4.136519</td><td>0.2792254</td><td>15.402836</td><td>0.19549823</td><td>1.6341851</td><td>4.928666</td><td>0.2133168</td><td>0</td></tr>\n",
       "<tr><td>1084073678209027</td><td>217.719072566947</td><td>33.5250835092935</td><td>9147</td><td>sv3</td><td>0.0975668398967087</td><td>1.47892506401653e-05</td><td>0</td><td>115.223239578307</td><td>fuji/healpix/sv3/dark/91/9147/redrock-sv3-dark-9147.fits</td><td>TFT</td><td>1434487</td><td>217.71907256694732</td><td>33.525083509293516</td><td>1434487</td><td>SGA-2020 1434487</td><td>PGC2033809</td><td>2033809</td><td>217.721826</td><td>33.522174</td><td>SBc</td><td>140.54</td><td>0.46773514</td><td>0.4677351</td><td>0.09850281</td><td>23.818481</td><td>16.84</td><td>False</td><td>LEDA-20181114</td><td>527827</td><td>PGC2033809</td><td>1</td><td>True</td><td>217.721826</td><td>33.522174</td><td>0.46773514</td><td>2178p335</td><td>217.7217326469164</td><td>33.522231472438826</td><td>0.6470569</td><td>SB26</td><td>142.13394</td><td>0.41777033</td><td>217.721651074601</td><td>33.52233334153142</td><td>15.71153</td><td>6.8230014</td><td>6.270269</td><td>5.081234</td><td>7.421352</td><td>9.180227</td><td>10.910741</td><td>12.550604</td><td>14.040697</td><td>15.481771</td><td>16.779903</td><td>18.107334</td><td>19.411707</td><td>17.398945</td><td>16.504402</td><td>15.812705</td><td>17.170378</td><td>16.299656</td><td>15.645305</td><td>17.019888</td><td>16.169641</td><td>15.544694</td><td>16.925802</td><td>16.089619</td><td>15.489886</td><td>16.865665</td><td>16.038265</td><td>15.454965</td><td>16.825867</td><td>16.005169</td><td>15.434016</td><td>16.802439</td><td>15.985988</td><td>15.423861</td><td>16.787088</td><td>15.97269</td><td>15.419032</td><td>16.778366</td><td>15.964433</td><td>15.417755</td><td>0.022197915</td><td>0.030587899</td><td>0.025068035</td><td>0.045625433</td><td>0.058233146</td><td>0.041962508</td><td>0.051860243</td><td>0.07769338</td><td>0.08144608</td><td>0.010391744</td><td>0.010655405</td><td>0.018182313</td><td>0.008913803</td><td>0.009219211</td><td>0.015883904</td><td>0.008008861</td><td>0.008371007</td><td>0.014596113</td><td>0.0075513856</td><td>0.007926009</td><td>0.013939188</td><td>0.0072864266</td><td>0.007637876</td><td>0.013542573</td><td>0.007103226</td><td>0.0074551804</td><td>0.013307453</td><td>0.0069896784</td><td>0.0073523964</td><td>0.0131966015</td><td>0.0069147227</td><td>0.007272883</td><td>0.013146065</td><td>0.0068728747</td><td>0.007225984</td><td>0.013139788</td><td>16.741442</td><td>0.2807909</td><td>2.4936793</td><td>4.4349713</td><td>0.43963772</td><td>15.93036</td><td>0.2859997</td><td>1.8699236</td><td>4.136519</td><td>0.2792254</td><td>15.402836</td><td>0.19549823</td><td>1.6341851</td><td>4.928666</td><td>0.2133168</td><td>0</td></tr>\n",
       "<tr><td>1070879538675715</td><td>217.719072566947</td><td>33.5250835092935</td><td>9147</td><td>sv3</td><td>0.0975651099908914</td><td>2.20508974240394e-05</td><td>0</td><td>46.4667750243098</td><td>fuji/healpix/sv3/bright/91/9147/redrock-sv3-bright-9147.fits</td><td>TFT</td><td>1434487</td><td>217.71907256694732</td><td>33.525083509293516</td><td>1434487</td><td>SGA-2020 1434487</td><td>PGC2033809</td><td>2033809</td><td>217.721826</td><td>33.522174</td><td>SBc</td><td>140.54</td><td>0.46773514</td><td>0.4677351</td><td>0.09850281</td><td>23.818481</td><td>16.84</td><td>False</td><td>LEDA-20181114</td><td>527827</td><td>PGC2033809</td><td>1</td><td>True</td><td>217.721826</td><td>33.522174</td><td>0.46773514</td><td>2178p335</td><td>217.7217326469164</td><td>33.522231472438826</td><td>0.6470569</td><td>SB26</td><td>142.13394</td><td>0.41777033</td><td>217.721651074601</td><td>33.52233334153142</td><td>15.71153</td><td>6.8230014</td><td>6.270269</td><td>5.081234</td><td>7.421352</td><td>9.180227</td><td>10.910741</td><td>12.550604</td><td>14.040697</td><td>15.481771</td><td>16.779903</td><td>18.107334</td><td>19.411707</td><td>17.398945</td><td>16.504402</td><td>15.812705</td><td>17.170378</td><td>16.299656</td><td>15.645305</td><td>17.019888</td><td>16.169641</td><td>15.544694</td><td>16.925802</td><td>16.089619</td><td>15.489886</td><td>16.865665</td><td>16.038265</td><td>15.454965</td><td>16.825867</td><td>16.005169</td><td>15.434016</td><td>16.802439</td><td>15.985988</td><td>15.423861</td><td>16.787088</td><td>15.97269</td><td>15.419032</td><td>16.778366</td><td>15.964433</td><td>15.417755</td><td>0.022197915</td><td>0.030587899</td><td>0.025068035</td><td>0.045625433</td><td>0.058233146</td><td>0.041962508</td><td>0.051860243</td><td>0.07769338</td><td>0.08144608</td><td>0.010391744</td><td>0.010655405</td><td>0.018182313</td><td>0.008913803</td><td>0.009219211</td><td>0.015883904</td><td>0.008008861</td><td>0.008371007</td><td>0.014596113</td><td>0.0075513856</td><td>0.007926009</td><td>0.013939188</td><td>0.0072864266</td><td>0.007637876</td><td>0.013542573</td><td>0.007103226</td><td>0.0074551804</td><td>0.013307453</td><td>0.0069896784</td><td>0.0073523964</td><td>0.0131966015</td><td>0.0069147227</td><td>0.007272883</td><td>0.013146065</td><td>0.0068728747</td><td>0.007225984</td><td>0.013139788</td><td>16.741442</td><td>0.2807909</td><td>2.4936793</td><td>4.4349713</td><td>0.43963772</td><td>15.93036</td><td>0.2859997</td><td>1.8699236</td><td>4.136519</td><td>0.2792254</td><td>15.402836</td><td>0.19549823</td><td>1.6341851</td><td>4.928666</td><td>0.2133168</td><td>0</td></tr>\n",
       "<tr><td>1070879538675717</td><td>217.723042771075</td><td>33.5208267169697</td><td>9147</td><td>sv3</td><td>0.0994199301770129</td><td>9.61664451230599e-06</td><td>0</td><td>384.860846251249</td><td>fuji/healpix/sv3/bright/91/9147/redrock-sv3-bright-9147.fits</td><td>TFT</td><td>1434487</td><td>217.7230427710754</td><td>33.520826716969665</td><td>1434487</td><td>SGA-2020 1434487</td><td>PGC2033809</td><td>2033809</td><td>217.721826</td><td>33.522174</td><td>SBc</td><td>140.54</td><td>0.46773514</td><td>0.4677351</td><td>0.09850281</td><td>23.818481</td><td>16.84</td><td>False</td><td>LEDA-20181114</td><td>527827</td><td>PGC2033809</td><td>1</td><td>True</td><td>217.721826</td><td>33.522174</td><td>0.46773514</td><td>2178p335</td><td>217.7217326469164</td><td>33.522231472438826</td><td>0.6470569</td><td>SB26</td><td>142.13394</td><td>0.41777033</td><td>217.721651074601</td><td>33.52233334153142</td><td>15.71153</td><td>6.8230014</td><td>6.270269</td><td>5.081234</td><td>7.421352</td><td>9.180227</td><td>10.910741</td><td>12.550604</td><td>14.040697</td><td>15.481771</td><td>16.779903</td><td>18.107334</td><td>19.411707</td><td>17.398945</td><td>16.504402</td><td>15.812705</td><td>17.170378</td><td>16.299656</td><td>15.645305</td><td>17.019888</td><td>16.169641</td><td>15.544694</td><td>16.925802</td><td>16.089619</td><td>15.489886</td><td>16.865665</td><td>16.038265</td><td>15.454965</td><td>16.825867</td><td>16.005169</td><td>15.434016</td><td>16.802439</td><td>15.985988</td><td>15.423861</td><td>16.787088</td><td>15.97269</td><td>15.419032</td><td>16.778366</td><td>15.964433</td><td>15.417755</td><td>0.022197915</td><td>0.030587899</td><td>0.025068035</td><td>0.045625433</td><td>0.058233146</td><td>0.041962508</td><td>0.051860243</td><td>0.07769338</td><td>0.08144608</td><td>0.010391744</td><td>0.010655405</td><td>0.018182313</td><td>0.008913803</td><td>0.009219211</td><td>0.015883904</td><td>0.008008861</td><td>0.008371007</td><td>0.014596113</td><td>0.0075513856</td><td>0.007926009</td><td>0.013939188</td><td>0.0072864266</td><td>0.007637876</td><td>0.013542573</td><td>0.007103226</td><td>0.0074551804</td><td>0.013307453</td><td>0.0069896784</td><td>0.0073523964</td><td>0.0131966015</td><td>0.0069147227</td><td>0.007272883</td><td>0.013146065</td><td>0.0068728747</td><td>0.007225984</td><td>0.013139788</td><td>16.741442</td><td>0.2807909</td><td>2.4936793</td><td>4.4349713</td><td>0.43963772</td><td>15.93036</td><td>0.2859997</td><td>1.8699236</td><td>4.136519</td><td>0.2792254</td><td>15.402836</td><td>0.19549823</td><td>1.6341851</td><td>4.928666</td><td>0.2133168</td><td>0</td></tr>\n",
       "<tr><td>1070259272417282</td><td>210.206831853477</td><td>6.12137799285623</td><td>26094</td><td>sv3</td><td>0.120650769627719</td><td>9.50213722323505e-06</td><td>0</td><td>207.32615801692</td><td>fuji/healpix/sv3/bright/260/26094/redrock-sv3-bright-26094.fits</td><td>TFT</td><td>5001339</td><td>210.20683185347661</td><td>6.121377992856231</td><td>5001339</td><td>SGA-2020 5001339</td><td>DR8-2102p060-4661</td><td>-1</td><td>210.20833500960782</td><td>6.120265797407934</td><td>DEV</td><td>130.73042</td><td>0.468254</td><td>0.76863724</td><td>-1.0</td><td>23.667639</td><td>16.68675</td><td>False</td><td>DR8</td><td>529848</td><td>DR8-2102p060-4661</td><td>1</td><td>True</td><td>210.20833500960782</td><td>6.120265797407934</td><td>0.468254</td><td>2102p060</td><td>210.20833984454373</td><td>6.120258354946351</td><td>0.33515865</td><td>SB26</td><td>126.74976</td><td>0.76401377</td><td>210.20823364007197</td><td>6.120325837540126</td><td>8.387866</td><td>4.482912</td><td>4.134537</td><td>4.123582</td><td>1.1951567</td><td>2.5398898</td><td>3.7051644</td><td>4.9533496</td><td>6.211045</td><td>7.164158</td><td>8.180871</td><td>9.148974</td><td>10.054759</td><td>20.815773</td><td>20.051249</td><td>19.580978</td><td>19.662142</td><td>18.955542</td><td>18.472801</td><td>19.168005</td><td>18.496887</td><td>18.022894</td><td>18.810158</td><td>18.168785</td><td>17.71744</td><td>18.56981</td><td>17.952166</td><td>17.51877</td><td>18.442923</td><td>17.846214</td><td>17.420717</td><td>18.363228</td><td>17.774677</td><td>17.350601</td><td>18.314056</td><td>17.733744</td><td>17.310308</td><td>18.279898</td><td>17.70491</td><td>17.283735</td><td>0.009302911</td><td>0.014610652</td><td>0.018761829</td><td>0.023225415</td><td>0.047679607</td><td>0.04413197</td><td>0.0535966</td><td>0.07962221</td><td>0.14822805</td><td>0.026472991</td><td>0.033646792</td><td>0.030278824</td><td>0.014014371</td><td>0.015701383</td><td>0.014877232</td><td>0.010887192</td><td>0.011535081</td><td>0.011052258</td><td>0.009331647</td><td>0.009789818</td><td>0.009841018</td><td>0.008577777</td><td>0.00900116</td><td>0.009270491</td><td>0.008264483</td><td>0.008561158</td><td>0.008966898</td><td>0.008139954</td><td>0.00835196</td><td>0.0089063</td><td>0.008053721</td><td>0.008315822</td><td>0.00900852</td><td>0.008003007</td><td>0.008266077</td><td>0.00910363</td><td>18.165487</td><td>0.4263983</td><td>0.30207255</td><td>3.4578514</td><td>7.646845</td><td>17.606369</td><td>0.41398498</td><td>0.2628924</td><td>3.3703346</td><td>5.577892</td><td>17.142092</td><td>0.56372136</td><td>0.27403665</td><td>2.6235757</td><td>5.137548</td><td>0</td></tr>\n",
       "<tr><td>39627933035267659</td><td>210.208339844544</td><td>6.12025835494635</td><td>26094</td><td>sv3</td><td>0.120193044533862</td><td>1.70995769829539e-05</td><td>0</td><td>353.61788906157</td><td>fuji/healpix/sv3/bright/260/26094/redrock-sv3-bright-26094.fits</td><td>TFT</td><td>5001339</td><td>210.20833984454373</td><td>6.120258354946351</td><td>5001339</td><td>SGA-2020 5001339</td><td>DR8-2102p060-4661</td><td>-1</td><td>210.20833500960782</td><td>6.120265797407934</td><td>DEV</td><td>130.73042</td><td>0.468254</td><td>0.76863724</td><td>-1.0</td><td>23.667639</td><td>16.68675</td><td>False</td><td>DR8</td><td>529848</td><td>DR8-2102p060-4661</td><td>1</td><td>True</td><td>210.20833500960782</td><td>6.120265797407934</td><td>0.468254</td><td>2102p060</td><td>210.20833984454373</td><td>6.120258354946351</td><td>0.33515865</td><td>SB26</td><td>126.74976</td><td>0.76401377</td><td>210.20823364007197</td><td>6.120325837540126</td><td>8.387866</td><td>4.482912</td><td>4.134537</td><td>4.123582</td><td>1.1951567</td><td>2.5398898</td><td>3.7051644</td><td>4.9533496</td><td>6.211045</td><td>7.164158</td><td>8.180871</td><td>9.148974</td><td>10.054759</td><td>20.815773</td><td>20.051249</td><td>19.580978</td><td>19.662142</td><td>18.955542</td><td>18.472801</td><td>19.168005</td><td>18.496887</td><td>18.022894</td><td>18.810158</td><td>18.168785</td><td>17.71744</td><td>18.56981</td><td>17.952166</td><td>17.51877</td><td>18.442923</td><td>17.846214</td><td>17.420717</td><td>18.363228</td><td>17.774677</td><td>17.350601</td><td>18.314056</td><td>17.733744</td><td>17.310308</td><td>18.279898</td><td>17.70491</td><td>17.283735</td><td>0.009302911</td><td>0.014610652</td><td>0.018761829</td><td>0.023225415</td><td>0.047679607</td><td>0.04413197</td><td>0.0535966</td><td>0.07962221</td><td>0.14822805</td><td>0.026472991</td><td>0.033646792</td><td>0.030278824</td><td>0.014014371</td><td>0.015701383</td><td>0.014877232</td><td>0.010887192</td><td>0.011535081</td><td>0.011052258</td><td>0.009331647</td><td>0.009789818</td><td>0.009841018</td><td>0.008577777</td><td>0.00900116</td><td>0.009270491</td><td>0.008264483</td><td>0.008561158</td><td>0.008966898</td><td>0.008139954</td><td>0.00835196</td><td>0.0089063</td><td>0.008053721</td><td>0.008315822</td><td>0.00900852</td><td>0.008003007</td><td>0.008266077</td><td>0.00910363</td><td>18.165487</td><td>0.4263983</td><td>0.30207255</td><td>3.4578514</td><td>7.646845</td><td>17.606369</td><td>0.41398498</td><td>0.2628924</td><td>3.3703346</td><td>5.577892</td><td>17.142092</td><td>0.56372136</td><td>0.27403665</td><td>2.6235757</td><td>5.137548</td><td>0</td></tr>\n",
       "<tr><td>1083453411950595</td><td>210.207597103465</td><td>6.12080981892036</td><td>26094</td><td>sv3</td><td>0.120550736551679</td><td>1.44783291324251e-05</td><td>0</td><td>187.370502382517</td><td>fuji/healpix/sv3/dark/260/26094/redrock-sv3-dark-26094.fits</td><td>TFT</td><td>5001339</td><td>210.20759710346468</td><td>6.120809818920356</td><td>5001339</td><td>SGA-2020 5001339</td><td>DR8-2102p060-4661</td><td>-1</td><td>210.20833500960782</td><td>6.120265797407934</td><td>DEV</td><td>130.73042</td><td>0.468254</td><td>0.76863724</td><td>-1.0</td><td>23.667639</td><td>16.68675</td><td>False</td><td>DR8</td><td>529848</td><td>DR8-2102p060-4661</td><td>1</td><td>True</td><td>210.20833500960782</td><td>6.120265797407934</td><td>0.468254</td><td>2102p060</td><td>210.20833984454373</td><td>6.120258354946351</td><td>0.33515865</td><td>SB26</td><td>126.74976</td><td>0.76401377</td><td>210.20823364007197</td><td>6.120325837540126</td><td>8.387866</td><td>4.482912</td><td>4.134537</td><td>4.123582</td><td>1.1951567</td><td>2.5398898</td><td>3.7051644</td><td>4.9533496</td><td>6.211045</td><td>7.164158</td><td>8.180871</td><td>9.148974</td><td>10.054759</td><td>20.815773</td><td>20.051249</td><td>19.580978</td><td>19.662142</td><td>18.955542</td><td>18.472801</td><td>19.168005</td><td>18.496887</td><td>18.022894</td><td>18.810158</td><td>18.168785</td><td>17.71744</td><td>18.56981</td><td>17.952166</td><td>17.51877</td><td>18.442923</td><td>17.846214</td><td>17.420717</td><td>18.363228</td><td>17.774677</td><td>17.350601</td><td>18.314056</td><td>17.733744</td><td>17.310308</td><td>18.279898</td><td>17.70491</td><td>17.283735</td><td>0.009302911</td><td>0.014610652</td><td>0.018761829</td><td>0.023225415</td><td>0.047679607</td><td>0.04413197</td><td>0.0535966</td><td>0.07962221</td><td>0.14822805</td><td>0.026472991</td><td>0.033646792</td><td>0.030278824</td><td>0.014014371</td><td>0.015701383</td><td>0.014877232</td><td>0.010887192</td><td>0.011535081</td><td>0.011052258</td><td>0.009331647</td><td>0.009789818</td><td>0.009841018</td><td>0.008577777</td><td>0.00900116</td><td>0.009270491</td><td>0.008264483</td><td>0.008561158</td><td>0.008966898</td><td>0.008139954</td><td>0.00835196</td><td>0.0089063</td><td>0.008053721</td><td>0.008315822</td><td>0.00900852</td><td>0.008003007</td><td>0.008266077</td><td>0.00910363</td><td>18.165487</td><td>0.4263983</td><td>0.30207255</td><td>3.4578514</td><td>7.646845</td><td>17.606369</td><td>0.41398498</td><td>0.2628924</td><td>3.3703346</td><td>5.577892</td><td>17.142092</td><td>0.56372136</td><td>0.27403665</td><td>2.6235757</td><td>5.137548</td><td>0</td></tr>\n",
       "<tr><td>1083904958136322</td><td>194.200834183621</td><td>25.43303650787</td><td>28124</td><td>sv3</td><td>0.0596701384408355</td><td>1.34337076773808e-05</td><td>0</td><td>132.784095849842</td><td>fuji/healpix/sv3/dark/281/28124/redrock-sv3-dark-28124.fits</td><td>TFT</td><td>5002047</td><td>194.2008341836214</td><td>25.43303650787003</td><td>5002047</td><td>SGA-2020 5002047</td><td>DR8-1942p255-967</td><td>-1</td><td>194.20095426704265</td><td>25.434709597271205</td><td>DEV</td><td>6.8354197</td><td>0.51230556</td><td>0.22447494</td><td>-1.0</td><td>24.959703</td><td>17.783577</td><td>False</td><td>DR8</td><td>530436</td><td>DR8-1942p255-967</td><td>1</td><td>True</td><td>194.20095426704265</td><td>25.434709597271205</td><td>0.51230556</td><td>1942p255</td><td>194.20091017310213</td><td>25.434412202392416</td><td>0.5008746</td><td>SB26</td><td>2.8557765</td><td>0.27889144</td><td>194.20082632174422</td><td>25.434528614826675</td><td>8.526497</td><td>9.928484</td><td>7.9775767</td><td>9.708405</td><td>1.1480979</td><td>2.9616272</td><td>4.694494</td><td>6.957479</td><td>9.283273</td><td>11.489237</td><td>13.334914</td><td>14.7670555</td><td>15.026237</td><td>22.031286</td><td>21.373257</td><td>21.124372</td><td>20.452381</td><td>19.880564</td><td>19.633272</td><td>19.720013</td><td>19.192299</td><td>18.959906</td><td>19.182737</td><td>18.703</td><td>18.47532</td><td>18.848774</td><td>18.396189</td><td>18.172766</td><td>18.649015</td><td>18.210867</td><td>18.002571</td><td>18.531618</td><td>18.118397</td><td>17.898623</td><td>18.453403</td><td>18.062634</td><td>17.8207</td><td>18.442911</td><td>18.055317</td><td>17.811264</td><td>0.055617794</td><td>0.08077614</td><td>0.10815341</td><td>0.13649708</td><td>0.20635562</td><td>0.24383198</td><td>0.19339259</td><td>0.11436901</td><td>0.35298756</td><td>0.10339431</td><td>0.15287502</td><td>0.13692324</td><td>0.091484375</td><td>0.11878786</td><td>0.112612374</td><td>0.07163691</td><td>0.08534665</td><td>0.082558915</td><td>0.05732418</td><td>0.06616861</td><td>0.06425455</td><td>0.04880376</td><td>0.055418856</td><td>0.05392711</td><td>0.04367366</td><td>0.049373686</td><td>0.048600454</td><td>0.040713176</td><td>0.04638739</td><td>0.045270383</td><td>0.038768053</td><td>0.04454939</td><td>0.042784143</td><td>0.038456485</td><td>0.044294026</td><td>0.042496838</td><td>18.02987</td><td>0.8913508</td><td>1.3079683</td><td>1.9463665</td><td>0.040687315</td><td>17.790953</td><td>0.7084462</td><td>1.1321621</td><td>2.2749538</td><td>0.04765495</td><td>17.386145</td><td>0.98424655</td><td>1.0916649</td><td>1.705567</td><td>0.09017601</td><td>0</td></tr>\n",
       "<tr><td>39628384581453705</td><td>194.200910173102</td><td>25.4344122023924</td><td>28124</td><td>sv3</td><td>0.0599172651993466</td><td>7.55100846633563e-06</td><td>0</td><td>861.545158989727</td><td>fuji/healpix/sv3/bright/281/28124/redrock-sv3-bright-28124.fits</td><td>TFT</td><td>5002047</td><td>194.20091017310213</td><td>25.434412202392416</td><td>5002047</td><td>SGA-2020 5002047</td><td>DR8-1942p255-967</td><td>-1</td><td>194.20095426704265</td><td>25.434709597271205</td><td>DEV</td><td>6.8354197</td><td>0.51230556</td><td>0.22447494</td><td>-1.0</td><td>24.959703</td><td>17.783577</td><td>False</td><td>DR8</td><td>530436</td><td>DR8-1942p255-967</td><td>1</td><td>True</td><td>194.20095426704265</td><td>25.434709597271205</td><td>0.51230556</td><td>1942p255</td><td>194.20091017310213</td><td>25.434412202392416</td><td>0.5008746</td><td>SB26</td><td>2.8557765</td><td>0.27889144</td><td>194.20082632174422</td><td>25.434528614826675</td><td>8.526497</td><td>9.928484</td><td>7.9775767</td><td>9.708405</td><td>1.1480979</td><td>2.9616272</td><td>4.694494</td><td>6.957479</td><td>9.283273</td><td>11.489237</td><td>13.334914</td><td>14.7670555</td><td>15.026237</td><td>22.031286</td><td>21.373257</td><td>21.124372</td><td>20.452381</td><td>19.880564</td><td>19.633272</td><td>19.720013</td><td>19.192299</td><td>18.959906</td><td>19.182737</td><td>18.703</td><td>18.47532</td><td>18.848774</td><td>18.396189</td><td>18.172766</td><td>18.649015</td><td>18.210867</td><td>18.002571</td><td>18.531618</td><td>18.118397</td><td>17.898623</td><td>18.453403</td><td>18.062634</td><td>17.8207</td><td>18.442911</td><td>18.055317</td><td>17.811264</td><td>0.055617794</td><td>0.08077614</td><td>0.10815341</td><td>0.13649708</td><td>0.20635562</td><td>0.24383198</td><td>0.19339259</td><td>0.11436901</td><td>0.35298756</td><td>0.10339431</td><td>0.15287502</td><td>0.13692324</td><td>0.091484375</td><td>0.11878786</td><td>0.112612374</td><td>0.07163691</td><td>0.08534665</td><td>0.082558915</td><td>0.05732418</td><td>0.06616861</td><td>0.06425455</td><td>0.04880376</td><td>0.055418856</td><td>0.05392711</td><td>0.04367366</td><td>0.049373686</td><td>0.048600454</td><td>0.040713176</td><td>0.04638739</td><td>0.045270383</td><td>0.038768053</td><td>0.04454939</td><td>0.042784143</td><td>0.038456485</td><td>0.044294026</td><td>0.042496838</td><td>18.02987</td><td>0.8913508</td><td>1.3079683</td><td>1.9463665</td><td>0.040687315</td><td>17.790953</td><td>0.7084462</td><td>1.1321621</td><td>2.2749538</td><td>0.04765495</td><td>17.386145</td><td>0.98424655</td><td>1.0916649</td><td>1.705567</td><td>0.09017601</td><td>0</td></tr>\n",
       "<tr><td>1070710818603011</td><td>194.200986164318</td><td>25.4357878968757</td><td>28124</td><td>sv3</td><td>0.0601072077734475</td><td>1.43826546902706e-05</td><td>0</td><td>214.083774156868</td><td>fuji/healpix/sv3/bright/281/28124/redrock-sv3-bright-28124.fits</td><td>TFT</td><td>5002047</td><td>194.2009861643183</td><td>25.43578789687571</td><td>5002047</td><td>SGA-2020 5002047</td><td>DR8-1942p255-967</td><td>-1</td><td>194.20095426704265</td><td>25.434709597271205</td><td>DEV</td><td>6.8354197</td><td>0.51230556</td><td>0.22447494</td><td>-1.0</td><td>24.959703</td><td>17.783577</td><td>False</td><td>DR8</td><td>530436</td><td>DR8-1942p255-967</td><td>1</td><td>True</td><td>194.20095426704265</td><td>25.434709597271205</td><td>0.51230556</td><td>1942p255</td><td>194.20091017310213</td><td>25.434412202392416</td><td>0.5008746</td><td>SB26</td><td>2.8557765</td><td>0.27889144</td><td>194.20082632174422</td><td>25.434528614826675</td><td>8.526497</td><td>9.928484</td><td>7.9775767</td><td>9.708405</td><td>1.1480979</td><td>2.9616272</td><td>4.694494</td><td>6.957479</td><td>9.283273</td><td>11.489237</td><td>13.334914</td><td>14.7670555</td><td>15.026237</td><td>22.031286</td><td>21.373257</td><td>21.124372</td><td>20.452381</td><td>19.880564</td><td>19.633272</td><td>19.720013</td><td>19.192299</td><td>18.959906</td><td>19.182737</td><td>18.703</td><td>18.47532</td><td>18.848774</td><td>18.396189</td><td>18.172766</td><td>18.649015</td><td>18.210867</td><td>18.002571</td><td>18.531618</td><td>18.118397</td><td>17.898623</td><td>18.453403</td><td>18.062634</td><td>17.8207</td><td>18.442911</td><td>18.055317</td><td>17.811264</td><td>0.055617794</td><td>0.08077614</td><td>0.10815341</td><td>0.13649708</td><td>0.20635562</td><td>0.24383198</td><td>0.19339259</td><td>0.11436901</td><td>0.35298756</td><td>0.10339431</td><td>0.15287502</td><td>0.13692324</td><td>0.091484375</td><td>0.11878786</td><td>0.112612374</td><td>0.07163691</td><td>0.08534665</td><td>0.082558915</td><td>0.05732418</td><td>0.06616861</td><td>0.06425455</td><td>0.04880376</td><td>0.055418856</td><td>0.05392711</td><td>0.04367366</td><td>0.049373686</td><td>0.048600454</td><td>0.040713176</td><td>0.04638739</td><td>0.045270383</td><td>0.038768053</td><td>0.04454939</td><td>0.042784143</td><td>0.038456485</td><td>0.044294026</td><td>0.042496838</td><td>18.02987</td><td>0.8913508</td><td>1.3079683</td><td>1.9463665</td><td>0.040687315</td><td>17.790953</td><td>0.7084462</td><td>1.1321621</td><td>2.2749538</td><td>0.04765495</td><td>17.386145</td><td>0.98424655</td><td>1.0916649</td><td>1.705567</td><td>0.09017601</td><td>0</td></tr>\n",
       "</table></div>"
      ],
      "text/plain": [
       "<Table length=4051>\n",
       "     TARGETID        TARGET_RA     ... Z_COG_PARAMS_CHI2 ELLIPSEBIT\n",
       "      int64           float64      ...      float32        int32   \n",
       "----------------- ---------------- ... ----------------- ----------\n",
       "39627817951955633 180.381827027663 ...        0.75814104          0\n",
       " 1070144189104132 180.383498876859 ...        0.75814104          0\n",
       " 1070869912748034 252.860062744453 ...        0.48248762          0\n",
       "39632941722111933 252.860799700982 ...        0.48248762          0\n",
       " 1071077795037186 236.810202992035 ...         1.4019876          0\n",
       " 1071077795037187 236.813448650733 ...         1.4019876          0\n",
       " 1084271934570499 236.813448650733 ...         1.4019876          0\n",
       "39633149604397504 236.811825811888 ...         1.4019876          0\n",
       " 1070114673786884 221.077296137197 ...        0.17947721          0\n",
       " 1070114673786881 221.074180121106 ...        0.17947721          0\n",
       "              ...              ... ...               ...        ...\n",
       " 1070879538675716   217.7204224802 ...         0.2133168          0\n",
       " 1084073678209027 217.719072566947 ...         0.2133168          0\n",
       " 1070879538675715 217.719072566947 ...         0.2133168          0\n",
       " 1070879538675717 217.723042771075 ...         0.2133168          0\n",
       " 1070259272417282 210.206831853477 ...          5.137548          0\n",
       "39627933035267659 210.208339844544 ...          5.137548          0\n",
       " 1083453411950595 210.207597103465 ...          5.137548          0\n",
       " 1083904958136322 194.200834183621 ...        0.09017601          0\n",
       "39628384581453705 194.200910173102 ...        0.09017601          0\n",
       " 1070710818603011 194.200986164318 ...        0.09017601          0"
      ]
     },
     "execution_count": 11,
     "metadata": {},
     "output_type": "execute_result"
    }
   ],
   "source": [
    "SGA_fuji = join(tfuji_g, SGA, keys_left='SGA_ID', keys_right='SGA_ID')\n",
    "SGA_fuji.group_by('SGA_ID_1')"
   ]
  },
  {
   "cell_type": "markdown",
   "id": "bc16d304-288f-4886-b979-cbc66368a368",
   "metadata": {},
   "source": [
    "# Inclination cuts"
   ]
  },
  {
   "cell_type": "code",
   "execution_count": 12,
   "id": "2d2302d2-4dab-49b7-b6f0-b5310dc6de66",
   "metadata": {},
   "outputs": [
    {
     "name": "stderr",
     "output_type": "stream",
     "text": [
      "/tmp/ipykernel_64246/4117437931.py:14: RuntimeWarning: invalid value encountered in sqrt\n",
      "  SGA_fuji['cosi'] = np.sqrt((SGA_fuji['BA']**2 - q0**2)/(1 - q0**2))\n"
     ]
    }
   ],
   "source": [
    "sga_ids_clean = []\n",
    "\n",
    "rmag_clean = []\n",
    "drmag_clean = []\n",
    "vmax_clean = []\n",
    "dvmax_clean = []\n",
    "z = []\n",
    "\n",
    "q0 = 0.2\n",
    "\n",
    "inc_min = 45*u.degree\n",
    "cosi_max = np.cos(inc_min.to('radian'))\n",
    "\n",
    "SGA_fuji['cosi'] = np.sqrt((SGA_fuji['BA']**2 - q0**2)/(1 - q0**2))\n",
    "SGA_fuji['cosi'][np.isnan(SGA_fuji['BA'])] = 0 # Objects with b/a < 0.2"
   ]
  },
  {
   "cell_type": "code",
   "execution_count": 13,
   "id": "911dc8db-c23d-48e5-a592-d36d5ba2be97",
   "metadata": {},
   "outputs": [
    {
     "ename": "IndexError",
     "evalue": "index 3610 is out of bounds for axis 0 with size 3610",
     "output_type": "error",
     "traceback": [
      "\u001b[0;31m---------------------------------------------------------------------------\u001b[0m",
      "\u001b[0;31mIndexError\u001b[0m                                Traceback (most recent call last)",
      "\u001b[0;32m/tmp/ipykernel_64246/240162915.py\u001b[0m in \u001b[0;36m<module>\u001b[0;34m\u001b[0m\n\u001b[1;32m      1\u001b[0m \u001b[0;32mfor\u001b[0m \u001b[0mj\u001b[0m \u001b[0;32min\u001b[0m \u001b[0mrange\u001b[0m \u001b[0;34m(\u001b[0m\u001b[0;36m0\u001b[0m\u001b[0;34m,\u001b[0m\u001b[0;36m20\u001b[0m\u001b[0;34m)\u001b[0m\u001b[0;34m:\u001b[0m\u001b[0;34m\u001b[0m\u001b[0;34m\u001b[0m\u001b[0m\n\u001b[1;32m      2\u001b[0m     \u001b[0;32mfor\u001b[0m \u001b[0mi\u001b[0m \u001b[0;32min\u001b[0m \u001b[0mrange\u001b[0m\u001b[0;34m(\u001b[0m\u001b[0;36m0\u001b[0m\u001b[0;34m,\u001b[0m \u001b[0mlen\u001b[0m\u001b[0;34m(\u001b[0m\u001b[0mSGA_fuji\u001b[0m\u001b[0;34m)\u001b[0m\u001b[0;34m)\u001b[0m\u001b[0;34m:\u001b[0m\u001b[0;34m\u001b[0m\u001b[0;34m\u001b[0m\u001b[0m\n\u001b[0;32m----> 3\u001b[0;31m         \u001b[0mcosi\u001b[0m \u001b[0;34m=\u001b[0m \u001b[0;34m(\u001b[0m\u001b[0mSGA_fuji\u001b[0m\u001b[0;34m[\u001b[0m\u001b[0;34m'cosi'\u001b[0m\u001b[0;34m]\u001b[0m\u001b[0;34m[\u001b[0m\u001b[0mi\u001b[0m\u001b[0;34m]\u001b[0m\u001b[0;34m)\u001b[0m\u001b[0;34m\u001b[0m\u001b[0;34m\u001b[0m\u001b[0m\n\u001b[0m\u001b[1;32m      4\u001b[0m \u001b[0;34m\u001b[0m\u001b[0m\n\u001b[1;32m      5\u001b[0m     \u001b[0;31m# Inclination cut\u001b[0m\u001b[0;34m\u001b[0m\u001b[0;34m\u001b[0m\u001b[0m\n",
      "\u001b[0;32mastropy/table/_column_mixins.pyx\u001b[0m in \u001b[0;36mastropy.table._column_mixins._ColumnGetitemShim.__getitem__\u001b[0;34m()\u001b[0m\n",
      "\u001b[0;32mastropy/table/_column_mixins.pyx\u001b[0m in \u001b[0;36mastropy.table._column_mixins.base_getitem\u001b[0;34m()\u001b[0m\n",
      "\u001b[0;32mastropy/table/_column_mixins.pyx\u001b[0m in \u001b[0;36mastropy.table._column_mixins.column_getitem\u001b[0;34m()\u001b[0m\n",
      "\u001b[0;31mIndexError\u001b[0m: index 3610 is out of bounds for axis 0 with size 3610"
     ]
    }
   ],
   "source": [
    "for j in range (0,20):\n",
    "    for i in range(0, len(SGA_fuji)):\n",
    "        cosi = (SGA_fuji['cosi'][i])\n",
    "        \n",
    "    # Inclination cut\n",
    "        if cosi < cosi_max:\n",
    "            continue\n",
    "        \n",
    "    #print(i, cosi)\n",
    "        SGA_fuji.remove_row(i)"
   ]
  },
  {
   "cell_type": "code",
   "execution_count": 14,
   "id": "a20934a4-1bb8-4138-a6e4-ddbb21bd6311",
   "metadata": {},
   "outputs": [
    {
     "data": {
      "text/html": [
       "&lt;Column name=&apos;SGA_ID_1&apos; dtype=&apos;int64&apos; length=1102&gt;\n",
       "<table>\n",
       "<tr><td>1548</td></tr>\n",
       "<tr><td>1583</td></tr>\n",
       "<tr><td>2497</td></tr>\n",
       "<tr><td>5732</td></tr>\n",
       "<tr><td>5958</td></tr>\n",
       "<tr><td>8032</td></tr>\n",
       "<tr><td>9519</td></tr>\n",
       "<tr><td>9769</td></tr>\n",
       "<tr><td>10133</td></tr>\n",
       "<tr><td>10325</td></tr>\n",
       "<tr><td>11977</td></tr>\n",
       "<tr><td>11998</td></tr>\n",
       "<tr><td>...</td></tr>\n",
       "<tr><td>1405053</td></tr>\n",
       "<tr><td>1409081</td></tr>\n",
       "<tr><td>1418640</td></tr>\n",
       "<tr><td>1421164</td></tr>\n",
       "<tr><td>1421334</td></tr>\n",
       "<tr><td>1424489</td></tr>\n",
       "<tr><td>1427956</td></tr>\n",
       "<tr><td>1429142</td></tr>\n",
       "<tr><td>1429680</td></tr>\n",
       "<tr><td>1430013</td></tr>\n",
       "<tr><td>1434487</td></tr>\n",
       "<tr><td>5002047</td></tr>\n",
       "</table>"
      ],
      "text/plain": [
       "<Column name='SGA_ID_1' dtype='int64' length=1102>\n",
       "   1548\n",
       "   1583\n",
       "   2497\n",
       "   5732\n",
       "   5958\n",
       "   8032\n",
       "   9519\n",
       "   9769\n",
       "  10133\n",
       "  10325\n",
       "  11977\n",
       "  11998\n",
       "    ...\n",
       "1405053\n",
       "1409081\n",
       "1418640\n",
       "1421164\n",
       "1421334\n",
       "1424489\n",
       "1427956\n",
       "1429142\n",
       "1429680\n",
       "1430013\n",
       "1434487\n",
       "5002047"
      ]
     },
     "execution_count": 14,
     "metadata": {},
     "output_type": "execute_result"
    }
   ],
   "source": [
    "_ids_all, _counts_all = np.unique(SGA_fuji['SGA_ID_1'], return_counts=True)\n",
    "_ids_all[_counts_all > 1]"
   ]
  },
  {
   "cell_type": "markdown",
   "id": "ddeaafbc-1351-4640-900e-3f49a63b687b",
   "metadata": {},
   "source": [
    "# Morphology Cut"
   ]
  },
  {
   "cell_type": "code",
   "execution_count": 15,
   "id": "b1d27bc3-e342-483c-ab3f-6467a76cfc19",
   "metadata": {},
   "outputs": [
    {
     "ename": "IndexError",
     "evalue": "index 3071 is out of bounds for axis 0 with size 3071",
     "output_type": "error",
     "traceback": [
      "\u001b[0;31m---------------------------------------------------------------------------\u001b[0m",
      "\u001b[0;31mIndexError\u001b[0m                                Traceback (most recent call last)",
      "\u001b[0;32m/tmp/ipykernel_64246/3837445239.py\u001b[0m in \u001b[0;36m<module>\u001b[0;34m\u001b[0m\n\u001b[1;32m      1\u001b[0m \u001b[0;32mfor\u001b[0m \u001b[0mj\u001b[0m \u001b[0;32min\u001b[0m \u001b[0mrange\u001b[0m\u001b[0;34m(\u001b[0m\u001b[0;36m0\u001b[0m\u001b[0;34m,\u001b[0m\u001b[0;36m20\u001b[0m\u001b[0;34m)\u001b[0m\u001b[0;34m:\u001b[0m\u001b[0;34m\u001b[0m\u001b[0;34m\u001b[0m\u001b[0m\n\u001b[1;32m      2\u001b[0m     \u001b[0;32mfor\u001b[0m \u001b[0mi\u001b[0m \u001b[0;32min\u001b[0m \u001b[0mrange\u001b[0m\u001b[0;34m(\u001b[0m\u001b[0;36m0\u001b[0m\u001b[0;34m,\u001b[0m \u001b[0mlen\u001b[0m\u001b[0;34m(\u001b[0m\u001b[0mSGA_fuji\u001b[0m\u001b[0;34m)\u001b[0m\u001b[0;34m)\u001b[0m\u001b[0;34m:\u001b[0m\u001b[0;34m\u001b[0m\u001b[0;34m\u001b[0m\u001b[0m\n\u001b[0;32m----> 3\u001b[0;31m         \u001b[0mmorphtype\u001b[0m \u001b[0;34m=\u001b[0m \u001b[0mstr\u001b[0m\u001b[0;34m(\u001b[0m\u001b[0mSGA_fuji\u001b[0m\u001b[0;34m[\u001b[0m\u001b[0;34m'MORPHTYPE'\u001b[0m\u001b[0;34m]\u001b[0m\u001b[0;34m[\u001b[0m\u001b[0mi\u001b[0m\u001b[0;34m]\u001b[0m\u001b[0;34m)\u001b[0m\u001b[0;34m\u001b[0m\u001b[0;34m\u001b[0m\u001b[0m\n\u001b[0m\u001b[1;32m      4\u001b[0m \u001b[0;34m\u001b[0m\u001b[0m\n\u001b[1;32m      5\u001b[0m         \u001b[0;31m# Cut any objects that do not start with 'S' (non-spirals)\u001b[0m\u001b[0;34m\u001b[0m\u001b[0;34m\u001b[0m\u001b[0m\n",
      "\u001b[0;32mastropy/table/_column_mixins.pyx\u001b[0m in \u001b[0;36mastropy.table._column_mixins._MaskedColumnGetitemShim.__getitem__\u001b[0;34m()\u001b[0m\n",
      "\u001b[0;32mastropy/table/_column_mixins.pyx\u001b[0m in \u001b[0;36mastropy.table._column_mixins.base_getitem\u001b[0;34m()\u001b[0m\n",
      "\u001b[0;32mastropy/table/_column_mixins.pyx\u001b[0m in \u001b[0;36mastropy.table._column_mixins.masked_column_getitem\u001b[0;34m()\u001b[0m\n",
      "\u001b[0;32m/global/common/software/desi/cori/desiconda/20211217-2.0.0/conda/lib/python3.9/site-packages/numpy/ma/core.py\u001b[0m in \u001b[0;36m__getitem__\u001b[0;34m(self, indx)\u001b[0m\n\u001b[1;32m   3222\u001b[0m         \u001b[0;31m# mask of being reshaped if it hasn't been set up properly yet\u001b[0m\u001b[0;34m\u001b[0m\u001b[0;34m\u001b[0m\u001b[0m\n\u001b[1;32m   3223\u001b[0m         \u001b[0;31m# So it's easier to stick to the current version\u001b[0m\u001b[0;34m\u001b[0m\u001b[0;34m\u001b[0m\u001b[0m\n\u001b[0;32m-> 3224\u001b[0;31m         \u001b[0mdout\u001b[0m \u001b[0;34m=\u001b[0m \u001b[0mself\u001b[0m\u001b[0;34m.\u001b[0m\u001b[0mdata\u001b[0m\u001b[0;34m[\u001b[0m\u001b[0mindx\u001b[0m\u001b[0;34m]\u001b[0m\u001b[0;34m\u001b[0m\u001b[0;34m\u001b[0m\u001b[0m\n\u001b[0m\u001b[1;32m   3225\u001b[0m         \u001b[0m_mask\u001b[0m \u001b[0;34m=\u001b[0m \u001b[0mself\u001b[0m\u001b[0;34m.\u001b[0m\u001b[0m_mask\u001b[0m\u001b[0;34m\u001b[0m\u001b[0;34m\u001b[0m\u001b[0m\n\u001b[1;32m   3226\u001b[0m \u001b[0;34m\u001b[0m\u001b[0m\n",
      "\u001b[0;32m/global/common/software/desi/cori/desiconda/20211217-2.0.0/conda/lib/python3.9/site-packages/numpy/ma/core.py\u001b[0m in \u001b[0;36m__getitem__\u001b[0;34m(self, indx)\u001b[0m\n\u001b[1;32m   3222\u001b[0m         \u001b[0;31m# mask of being reshaped if it hasn't been set up properly yet\u001b[0m\u001b[0;34m\u001b[0m\u001b[0;34m\u001b[0m\u001b[0m\n\u001b[1;32m   3223\u001b[0m         \u001b[0;31m# So it's easier to stick to the current version\u001b[0m\u001b[0;34m\u001b[0m\u001b[0;34m\u001b[0m\u001b[0m\n\u001b[0;32m-> 3224\u001b[0;31m         \u001b[0mdout\u001b[0m \u001b[0;34m=\u001b[0m \u001b[0mself\u001b[0m\u001b[0;34m.\u001b[0m\u001b[0mdata\u001b[0m\u001b[0;34m[\u001b[0m\u001b[0mindx\u001b[0m\u001b[0;34m]\u001b[0m\u001b[0;34m\u001b[0m\u001b[0;34m\u001b[0m\u001b[0m\n\u001b[0m\u001b[1;32m   3225\u001b[0m         \u001b[0m_mask\u001b[0m \u001b[0;34m=\u001b[0m \u001b[0mself\u001b[0m\u001b[0;34m.\u001b[0m\u001b[0m_mask\u001b[0m\u001b[0;34m\u001b[0m\u001b[0;34m\u001b[0m\u001b[0m\n\u001b[1;32m   3226\u001b[0m \u001b[0;34m\u001b[0m\u001b[0m\n",
      "\u001b[0;31mIndexError\u001b[0m: index 3071 is out of bounds for axis 0 with size 3071"
     ]
    }
   ],
   "source": [
    "for j in range(0,20): \n",
    "    for i in range(0, len(SGA_fuji)):\n",
    "        morphtype = str(SGA_fuji['MORPHTYPE'][i])\n",
    "    \n",
    "        # Cut any objects that do not start with 'S' (non-spirals)\n",
    "        if morphtype.startswith('S'):\n",
    "            continue\n",
    "        \n",
    "    #print(i, morphtype)\n",
    "        SGA_fuji.remove_row(i)"
   ]
  },
  {
   "cell_type": "code",
   "execution_count": 16,
   "id": "83f33f30-2474-4d28-a4ee-6b22aa98187b",
   "metadata": {},
   "outputs": [
    {
     "data": {
      "text/html": [
       "&lt;Column name=&apos;SGA_ID_1&apos; dtype=&apos;int64&apos; length=913&gt;\n",
       "<table>\n",
       "<tr><td>1548</td></tr>\n",
       "<tr><td>1583</td></tr>\n",
       "<tr><td>5732</td></tr>\n",
       "<tr><td>5958</td></tr>\n",
       "<tr><td>8032</td></tr>\n",
       "<tr><td>9519</td></tr>\n",
       "<tr><td>9769</td></tr>\n",
       "<tr><td>10325</td></tr>\n",
       "<tr><td>11977</td></tr>\n",
       "<tr><td>11998</td></tr>\n",
       "<tr><td>14501</td></tr>\n",
       "<tr><td>15005</td></tr>\n",
       "<tr><td>...</td></tr>\n",
       "<tr><td>1393079</td></tr>\n",
       "<tr><td>1402480</td></tr>\n",
       "<tr><td>1405053</td></tr>\n",
       "<tr><td>1418640</td></tr>\n",
       "<tr><td>1421164</td></tr>\n",
       "<tr><td>1424489</td></tr>\n",
       "<tr><td>1427956</td></tr>\n",
       "<tr><td>1429142</td></tr>\n",
       "<tr><td>1429680</td></tr>\n",
       "<tr><td>1430013</td></tr>\n",
       "<tr><td>1434487</td></tr>\n",
       "<tr><td>5002047</td></tr>\n",
       "</table>"
      ],
      "text/plain": [
       "<Column name='SGA_ID_1' dtype='int64' length=913>\n",
       "   1548\n",
       "   1583\n",
       "   5732\n",
       "   5958\n",
       "   8032\n",
       "   9519\n",
       "   9769\n",
       "  10325\n",
       "  11977\n",
       "  11998\n",
       "  14501\n",
       "  15005\n",
       "    ...\n",
       "1393079\n",
       "1402480\n",
       "1405053\n",
       "1418640\n",
       "1421164\n",
       "1424489\n",
       "1427956\n",
       "1429142\n",
       "1429680\n",
       "1430013\n",
       "1434487\n",
       "5002047"
      ]
     },
     "execution_count": 16,
     "metadata": {},
     "output_type": "execute_result"
    }
   ],
   "source": [
    "_ids_all, _counts_all = np.unique(SGA_fuji['SGA_ID_1'], return_counts=True)\n",
    "_ids_all[_counts_all > 1]"
   ]
  },
  {
   "cell_type": "markdown",
   "id": "5f3343f8-4592-4019-95f6-6a0d33f6625b",
   "metadata": {},
   "source": [
    "# Cluster membership"
   ]
  },
  {
   "cell_type": "code",
   "execution_count": 19,
   "id": "e440160a-a466-4f9a-8e53-00df19140436",
   "metadata": {},
   "outputs": [
    {
     "name": "stderr",
     "output_type": "stream",
     "text": [
      "WARNING: VerifyWarning: It is strongly recommended that column names contain only upper and lower-case ASCII letters, digits, or underscores for maximum compatibility with other software (got '<Vcmba>'). [astropy.io.fits.column]\n"
     ]
    }
   ],
   "source": [
    "hdu = fits.open('Tully15-Table3.fits')\n",
    "table3 = Table(hdu[1].data)\n",
    "hdu.close()\n",
    "\n",
    "#table3[:100]"
   ]
  },
  {
   "cell_type": "code",
   "execution_count": 20,
   "id": "b578d6c8-65b7-4748-bdda-aa5e8fec546c",
   "metadata": {},
   "outputs": [
    {
     "name": "stderr",
     "output_type": "stream",
     "text": [
      "WARNING: VerifyWarning: Invalid keyword for column 24: ASCII table null option (TNULLn) is longer than the column's character width and will be truncated (got '-32768'). [astropy.io.fits.column]\n"
     ]
    }
   ],
   "source": [
    "hdu = fits.open('Tully13-Table2.fit')\n",
    "table2 = Table(hdu[1].data)\n",
    "hdu.close()\n",
    "\n",
    "#table2[:10]"
   ]
  },
  {
   "cell_type": "markdown",
   "id": "3d1e70a8-ad38-408c-bb19-0ce42dc2bddb",
   "metadata": {},
   "source": [
    "## Coma"
   ]
  },
  {
   "cell_type": "code",
   "execution_count": 21,
   "id": "5a67ea1e-50e5-4cb5-8ff9-f4cf0b348c99",
   "metadata": {},
   "outputs": [],
   "source": [
    "Coma_nest = 100001\n",
    "\n",
    "Coma_row_t3 = table3['Nest'] == Coma_nest\n",
    "\n",
    "R2t_Coma = table3['R2t'][Coma_row_t3][0]\n",
    "sigma_Coma = table3['sigP'][Coma_row_t3][0]"
   ]
  },
  {
   "cell_type": "code",
   "execution_count": 22,
   "id": "25567ab3-e670-4515-9540-573d6dc0c5c9",
   "metadata": {},
   "outputs": [],
   "source": [
    "Coma_coords = SkyCoord(table3['SGLON'][Coma_row_t3]*u.degree, \n",
    "                       table3['SGLAT'][Coma_row_t3]*u.degree, \n",
    "                       frame='supergalactic')\n",
    "\n",
    "group_coords = SkyCoord(table2['SGLON']*u.degree, \n",
    "                        table2['SGLAT']*u.degree, \n",
    "                        frame='supergalactic')"
   ]
  },
  {
   "cell_type": "code",
   "execution_count": 23,
   "id": "977ddc0a-2150-4dc1-8726-87368b9382fe",
   "metadata": {},
   "outputs": [],
   "source": [
    "idx, d2d, d3d = Coma_coords.match_to_catalog_sky(group_coords)\n",
    "\n",
    "V_Coma = table2['__HV_'][idx][0]"
   ]
  },
  {
   "cell_type": "code",
   "execution_count": 24,
   "id": "2be978ea-a99d-4222-a5b4-05c9f102a896",
   "metadata": {},
   "outputs": [],
   "source": [
    "# First, we need to convert R2t from Mpc to an angle, using the group's heliocentric velocity\n",
    "R2t_Coma_angle = (R2t_Coma/(V_Coma/H0))*u.radian"
   ]
  },
  {
   "cell_type": "code",
   "execution_count": 25,
   "id": "ba94994a-b453-4dcc-9a79-a58c3bed2bfd",
   "metadata": {},
   "outputs": [],
   "source": [
    "tf_coords = SkyCoord(SGA_fuji['TARGET_RA'], SGA_fuji['TARGET_DEC'], unit='deg')\n",
    "\n",
    "sep = Coma_coords.separation(tf_coords)"
   ]
  },
  {
   "cell_type": "code",
   "execution_count": 26,
   "id": "56ae909a-b99b-45e4-8173-c4ca7e42d6dd",
   "metadata": {},
   "outputs": [
    {
     "data": {
      "text/html": [
       "<div><i>Table length=245</i>\n",
       "<table id=\"table23453804854336\" class=\"table-striped table-bordered table-condensed\">\n",
       "<thead><tr><th>TARGETID</th><th>TARGET_RA</th><th>TARGET_DEC</th><th>HEALPIX</th><th>SURVEY</th><th>Z</th><th>ZERR</th><th>ZWARN</th><th>DELTACHI2</th><th>FILENAME</th><th>PVTYPE</th><th>SGA_ID_1</th><th>RA_1</th><th>DEC_1</th><th>SGA_ID_2</th><th>SGA_GALAXY</th><th>GALAXY</th><th>PGC</th><th>RA_LEDA</th><th>DEC_LEDA</th><th>MORPHTYPE</th><th>PA_LEDA</th><th>D25_LEDA</th><th>BA_LEDA</th><th>Z_LEDA</th><th>SB_D25_LEDA</th><th>MAG_LEDA</th><th>BYHAND</th><th>REF</th><th>GROUP_ID</th><th>GROUP_NAME</th><th>GROUP_MULT</th><th>GROUP_PRIMARY</th><th>GROUP_RA</th><th>GROUP_DEC</th><th>GROUP_DIAMETER</th><th>BRICKNAME</th><th>RA_2</th><th>DEC_2</th><th>D26</th><th>D26_REF</th><th>PA</th><th>BA</th><th>RA_MOMENT</th><th>DEC_MOMENT</th><th>SMA_MOMENT</th><th>G_SMA50</th><th>R_SMA50</th><th>Z_SMA50</th><th>SMA_SB22</th><th>SMA_SB22.5</th><th>SMA_SB23</th><th>SMA_SB23.5</th><th>SMA_SB24</th><th>SMA_SB24.5</th><th>SMA_SB25</th><th>SMA_SB25.5</th><th>SMA_SB26</th><th>G_MAG_SB22</th><th>R_MAG_SB22</th><th>Z_MAG_SB22</th><th>G_MAG_SB22.5</th><th>R_MAG_SB22.5</th><th>Z_MAG_SB22.5</th><th>G_MAG_SB23</th><th>R_MAG_SB23</th><th>Z_MAG_SB23</th><th>G_MAG_SB23.5</th><th>R_MAG_SB23.5</th><th>Z_MAG_SB23.5</th><th>G_MAG_SB24</th><th>R_MAG_SB24</th><th>Z_MAG_SB24</th><th>G_MAG_SB24.5</th><th>R_MAG_SB24.5</th><th>Z_MAG_SB24.5</th><th>G_MAG_SB25</th><th>R_MAG_SB25</th><th>Z_MAG_SB25</th><th>G_MAG_SB25.5</th><th>R_MAG_SB25.5</th><th>Z_MAG_SB25.5</th><th>G_MAG_SB26</th><th>R_MAG_SB26</th><th>Z_MAG_SB26</th><th>SMA_SB22_ERR</th><th>SMA_SB22.5_ERR</th><th>SMA_SB23_ERR</th><th>SMA_SB23.5_ERR</th><th>SMA_SB24_ERR</th><th>SMA_SB24.5_ERR</th><th>SMA_SB25_ERR</th><th>SMA_SB25.5_ERR</th><th>SMA_SB26_ERR</th><th>G_MAG_SB22_ERR</th><th>R_MAG_SB22_ERR</th><th>Z_MAG_SB22_ERR</th><th>G_MAG_SB22.5_ERR</th><th>R_MAG_SB22.5_ERR</th><th>Z_MAG_SB22.5_ERR</th><th>G_MAG_SB23_ERR</th><th>R_MAG_SB23_ERR</th><th>Z_MAG_SB23_ERR</th><th>G_MAG_SB23.5_ERR</th><th>R_MAG_SB23.5_ERR</th><th>Z_MAG_SB23.5_ERR</th><th>G_MAG_SB24_ERR</th><th>R_MAG_SB24_ERR</th><th>Z_MAG_SB24_ERR</th><th>G_MAG_SB24.5_ERR</th><th>R_MAG_SB24.5_ERR</th><th>Z_MAG_SB24.5_ERR</th><th>G_MAG_SB25_ERR</th><th>R_MAG_SB25_ERR</th><th>Z_MAG_SB25_ERR</th><th>G_MAG_SB25.5_ERR</th><th>R_MAG_SB25.5_ERR</th><th>Z_MAG_SB25.5_ERR</th><th>G_MAG_SB26_ERR</th><th>R_MAG_SB26_ERR</th><th>Z_MAG_SB26_ERR</th><th>G_COG_PARAMS_MTOT</th><th>G_COG_PARAMS_M0</th><th>G_COG_PARAMS_ALPHA1</th><th>G_COG_PARAMS_ALPHA2</th><th>G_COG_PARAMS_CHI2</th><th>R_COG_PARAMS_MTOT</th><th>R_COG_PARAMS_M0</th><th>R_COG_PARAMS_ALPHA1</th><th>R_COG_PARAMS_ALPHA2</th><th>R_COG_PARAMS_CHI2</th><th>Z_COG_PARAMS_MTOT</th><th>Z_COG_PARAMS_M0</th><th>Z_COG_PARAMS_ALPHA1</th><th>Z_COG_PARAMS_ALPHA2</th><th>Z_COG_PARAMS_CHI2</th><th>ELLIPSEBIT</th><th>cosi</th></tr></thead>\n",
       "<thead><tr><th>int64</th><th>float64</th><th>float64</th><th>int64</th><th>bytes3</th><th>float64</th><th>float64</th><th>int64</th><th>float64</th><th>bytes63</th><th>bytes3</th><th>int64</th><th>float64</th><th>float64</th><th>int64</th><th>bytes16</th><th>bytes29</th><th>int64</th><th>float64</th><th>float64</th><th>bytes21</th><th>float32</th><th>float32</th><th>float32</th><th>float32</th><th>float32</th><th>float32</th><th>bool</th><th>bytes13</th><th>int64</th><th>bytes35</th><th>int16</th><th>bool</th><th>float64</th><th>float64</th><th>float32</th><th>bytes8</th><th>float64</th><th>float64</th><th>float32</th><th>bytes4</th><th>float32</th><th>float32</th><th>float64</th><th>float64</th><th>float32</th><th>float32</th><th>float32</th><th>float32</th><th>float32</th><th>float32</th><th>float32</th><th>float32</th><th>float32</th><th>float32</th><th>float32</th><th>float32</th><th>float32</th><th>float32</th><th>float32</th><th>float32</th><th>float32</th><th>float32</th><th>float32</th><th>float32</th><th>float32</th><th>float32</th><th>float32</th><th>float32</th><th>float32</th><th>float32</th><th>float32</th><th>float32</th><th>float32</th><th>float32</th><th>float32</th><th>float32</th><th>float32</th><th>float32</th><th>float32</th><th>float32</th><th>float32</th><th>float32</th><th>float32</th><th>float32</th><th>float32</th><th>float32</th><th>float32</th><th>float32</th><th>float32</th><th>float32</th><th>float32</th><th>float32</th><th>float32</th><th>float32</th><th>float32</th><th>float32</th><th>float32</th><th>float32</th><th>float32</th><th>float32</th><th>float32</th><th>float32</th><th>float32</th><th>float32</th><th>float32</th><th>float32</th><th>float32</th><th>float32</th><th>float32</th><th>float32</th><th>float32</th><th>float32</th><th>float32</th><th>float32</th><th>float32</th><th>float32</th><th>float32</th><th>float32</th><th>float32</th><th>float32</th><th>float32</th><th>float32</th><th>float32</th><th>float32</th><th>float32</th><th>float32</th><th>float32</th><th>float32</th><th>float32</th><th>float32</th><th>float32</th><th>float32</th><th>float32</th><th>float32</th><th>float32</th><th>int32</th><th>float32</th></tr></thead>\n",
       "<tr><td>1070791412154372</td><td>195.515245590946</td><td>29.2579670504378</td><td>10404</td><td>sv3</td><td>0.0252901358683873</td><td>6.06787928236001e-05</td><td>0</td><td>205.157615634467</td><td>fuji/healpix/sv3/bright/104/10404/redrock-sv3-bright-10404.fits</td><td>TFT</td><td>8032</td><td>195.5152455909458</td><td>29.257967050437784</td><td>8032</td><td>SGA-2020 8032</td><td>PGC044973</td><td>44973</td><td>195.517491</td><td>29.2534624</td><td>S0-a</td><td>156.32</td><td>0.97949</td><td>0.2421029</td><td>0.024316488</td><td>23.724482</td><td>15.141</td><td>False</td><td>LEDA-20181114</td><td>2184</td><td>PGC044973</td><td>1</td><td>True</td><td>195.517491</td><td>29.2534624</td><td>0.97949</td><td>1955p292</td><td>195.5175248072576</td><td>29.25343316744243</td><td>1.8002833</td><td>SB26</td><td>156.31898</td><td>0.22679013</td><td>195.51743607523957</td><td>29.253486909767386</td><td>32.501602</td><td>8.985235</td><td>8.994681</td><td>9.083619</td><td>23.624466</td><td>25.627426</td><td>28.065012</td><td>31.291449</td><td>35.26118</td><td>39.489708</td><td>44.38289</td><td>49.540756</td><td>54.0085</td><td>14.082667</td><td>13.18872</td><td>12.5554495</td><td>14.06491</td><td>13.172938</td><td>12.538263</td><td>14.050751</td><td>13.159123</td><td>12.524292</td><td>14.037637</td><td>13.146002</td><td>12.511435</td><td>14.028892</td><td>13.136262</td><td>12.501996</td><td>14.019759</td><td>13.1276045</td><td>12.493453</td><td>14.010117</td><td>13.12019</td><td>12.48436</td><td>14.004535</td><td>13.115231</td><td>12.47924</td><td>14.003234</td><td>13.112325</td><td>12.477641</td><td>0.24884425</td><td>0.17718974</td><td>0.26937655</td><td>0.27095935</td><td>0.2903059</td><td>0.34909678</td><td>0.34555468</td><td>0.35385203</td><td>0.33667165</td><td>0.028146377</td><td>0.029029278</td><td>0.029033912</td><td>0.027740175</td><td>0.028643928</td><td>0.028623551</td><td>0.027410619</td><td>0.028309358</td><td>0.028285725</td><td>0.027101276</td><td>0.027988376</td><td>0.027971063</td><td>0.02688788</td><td>0.027755244</td><td>0.027735293</td><td>0.026669523</td><td>0.027540853</td><td>0.02752354</td><td>0.026443765</td><td>0.027348971</td><td>0.027301019</td><td>0.026309848</td><td>0.027225873</td><td>0.027174234</td><td>0.026272457</td><td>0.027161108</td><td>0.027130837</td><td>13.986616</td><td>725.19977</td><td>0.00082536426</td><td>2.1448386</td><td>0.022688963</td><td>13.097723</td><td>800.5032</td><td>0.0007454256</td><td>2.1946816</td><td>0.0032843333</td><td>12.46222</td><td>764.7669</td><td>0.000797078</td><td>2.1976817</td><td>0.013137172</td><td>0</td><td>0.109133735</td></tr>\n",
       "<tr><td>1070791412154373</td><td>195.519803821539</td><td>29.2488992457946</td><td>10404</td><td>sv3</td><td>0.0234660468438763</td><td>4.19131970806972e-05</td><td>0</td><td>362.855681516143</td><td>fuji/healpix/sv3/bright/104/10404/redrock-sv3-bright-10404.fits</td><td>TFT</td><td>8032</td><td>195.51980382153945</td><td>29.248899245794572</td><td>8032</td><td>SGA-2020 8032</td><td>PGC044973</td><td>44973</td><td>195.517491</td><td>29.2534624</td><td>S0-a</td><td>156.32</td><td>0.97949</td><td>0.2421029</td><td>0.024316488</td><td>23.724482</td><td>15.141</td><td>False</td><td>LEDA-20181114</td><td>2184</td><td>PGC044973</td><td>1</td><td>True</td><td>195.517491</td><td>29.2534624</td><td>0.97949</td><td>1955p292</td><td>195.5175248072576</td><td>29.25343316744243</td><td>1.8002833</td><td>SB26</td><td>156.31898</td><td>0.22679013</td><td>195.51743607523957</td><td>29.253486909767386</td><td>32.501602</td><td>8.985235</td><td>8.994681</td><td>9.083619</td><td>23.624466</td><td>25.627426</td><td>28.065012</td><td>31.291449</td><td>35.26118</td><td>39.489708</td><td>44.38289</td><td>49.540756</td><td>54.0085</td><td>14.082667</td><td>13.18872</td><td>12.5554495</td><td>14.06491</td><td>13.172938</td><td>12.538263</td><td>14.050751</td><td>13.159123</td><td>12.524292</td><td>14.037637</td><td>13.146002</td><td>12.511435</td><td>14.028892</td><td>13.136262</td><td>12.501996</td><td>14.019759</td><td>13.1276045</td><td>12.493453</td><td>14.010117</td><td>13.12019</td><td>12.48436</td><td>14.004535</td><td>13.115231</td><td>12.47924</td><td>14.003234</td><td>13.112325</td><td>12.477641</td><td>0.24884425</td><td>0.17718974</td><td>0.26937655</td><td>0.27095935</td><td>0.2903059</td><td>0.34909678</td><td>0.34555468</td><td>0.35385203</td><td>0.33667165</td><td>0.028146377</td><td>0.029029278</td><td>0.029033912</td><td>0.027740175</td><td>0.028643928</td><td>0.028623551</td><td>0.027410619</td><td>0.028309358</td><td>0.028285725</td><td>0.027101276</td><td>0.027988376</td><td>0.027971063</td><td>0.02688788</td><td>0.027755244</td><td>0.027735293</td><td>0.026669523</td><td>0.027540853</td><td>0.02752354</td><td>0.026443765</td><td>0.027348971</td><td>0.027301019</td><td>0.026309848</td><td>0.027225873</td><td>0.027174234</td><td>0.026272457</td><td>0.027161108</td><td>0.027130837</td><td>13.986616</td><td>725.19977</td><td>0.00082536426</td><td>2.1448386</td><td>0.022688963</td><td>13.097723</td><td>800.5032</td><td>0.0007454256</td><td>2.1946816</td><td>0.0032843333</td><td>12.46222</td><td>764.7669</td><td>0.000797078</td><td>2.1976817</td><td>0.013137172</td><td>0</td><td>0.109133735</td></tr>\n",
       "<tr><td>39628465175004507</td><td>195.517524807258</td><td>29.2534331674424</td><td>10404</td><td>sv3</td><td>0.0244247831805082</td><td>1.18518681386277e-05</td><td>0</td><td>27218.3984357063</td><td>fuji/healpix/sv3/bright/104/10404/redrock-sv3-bright-10404.fits</td><td>TFT</td><td>8032</td><td>195.5175248072576</td><td>29.25343316744243</td><td>8032</td><td>SGA-2020 8032</td><td>PGC044973</td><td>44973</td><td>195.517491</td><td>29.2534624</td><td>S0-a</td><td>156.32</td><td>0.97949</td><td>0.2421029</td><td>0.024316488</td><td>23.724482</td><td>15.141</td><td>False</td><td>LEDA-20181114</td><td>2184</td><td>PGC044973</td><td>1</td><td>True</td><td>195.517491</td><td>29.2534624</td><td>0.97949</td><td>1955p292</td><td>195.5175248072576</td><td>29.25343316744243</td><td>1.8002833</td><td>SB26</td><td>156.31898</td><td>0.22679013</td><td>195.51743607523957</td><td>29.253486909767386</td><td>32.501602</td><td>8.985235</td><td>8.994681</td><td>9.083619</td><td>23.624466</td><td>25.627426</td><td>28.065012</td><td>31.291449</td><td>35.26118</td><td>39.489708</td><td>44.38289</td><td>49.540756</td><td>54.0085</td><td>14.082667</td><td>13.18872</td><td>12.5554495</td><td>14.06491</td><td>13.172938</td><td>12.538263</td><td>14.050751</td><td>13.159123</td><td>12.524292</td><td>14.037637</td><td>13.146002</td><td>12.511435</td><td>14.028892</td><td>13.136262</td><td>12.501996</td><td>14.019759</td><td>13.1276045</td><td>12.493453</td><td>14.010117</td><td>13.12019</td><td>12.48436</td><td>14.004535</td><td>13.115231</td><td>12.47924</td><td>14.003234</td><td>13.112325</td><td>12.477641</td><td>0.24884425</td><td>0.17718974</td><td>0.26937655</td><td>0.27095935</td><td>0.2903059</td><td>0.34909678</td><td>0.34555468</td><td>0.35385203</td><td>0.33667165</td><td>0.028146377</td><td>0.029029278</td><td>0.029033912</td><td>0.027740175</td><td>0.028643928</td><td>0.028623551</td><td>0.027410619</td><td>0.028309358</td><td>0.028285725</td><td>0.027101276</td><td>0.027988376</td><td>0.027971063</td><td>0.02688788</td><td>0.027755244</td><td>0.027735293</td><td>0.026669523</td><td>0.027540853</td><td>0.02752354</td><td>0.026443765</td><td>0.027348971</td><td>0.027301019</td><td>0.026309848</td><td>0.027225873</td><td>0.027174234</td><td>0.026272457</td><td>0.027161108</td><td>0.027130837</td><td>13.986616</td><td>725.19977</td><td>0.00082536426</td><td>2.1448386</td><td>0.022688963</td><td>13.097723</td><td>800.5032</td><td>0.0007454256</td><td>2.1946816</td><td>0.0032843333</td><td>12.46222</td><td>764.7669</td><td>0.000797078</td><td>2.1976817</td><td>0.013137172</td><td>0</td><td>0.109133735</td></tr>\n",
       "<tr><td>39628438633448398</td><td>195.880147500007</td><td>28.0922920375178</td><td>10379</td><td>sv3</td><td>0.0211655216585879</td><td>3.84507854563578e-05</td><td>0</td><td>1098.35577931974</td><td>fuji/healpix/sv3/bright/103/10379/redrock-sv3-bright-10379.fits</td><td>TFT</td><td>20886</td><td>195.8801475000072</td><td>28.09229203751776</td><td>20886</td><td>SGA-2020 20886</td><td>PGC1826114</td><td>1826114</td><td>195.8801115</td><td>28.0922479</td><td>E?</td><td>62.17</td><td>0.4655861</td><td>0.4677351</td><td>0.021116942</td><td>23.77848</td><td>16.81</td><td>False</td><td>LEDA-20181114</td><td>5599</td><td>PGC1826114</td><td>1</td><td>True</td><td>195.8801115</td><td>28.0922479</td><td>0.4655861</td><td>1959p280</td><td>195.8801475000072</td><td>28.092292037517755</td><td>0.67663467</td><td>SB26</td><td>62.591164</td><td>0.45849532</td><td>195.88005831492086</td><td>28.09236604020134</td><td>15.525664</td><td>6.0207195</td><td>5.9980235</td><td>5.896022</td><td>7.8120975</td><td>9.3041115</td><td>10.6990595</td><td>12.122303</td><td>13.588322</td><td>15.090382</td><td>16.703985</td><td>18.578491</td><td>20.29904</td><td>16.893223</td><td>16.168772</td><td>15.616699</td><td>16.746492</td><td>16.020033</td><td>15.47328</td><td>16.658937</td><td>15.931061</td><td>15.389698</td><td>16.59972</td><td>15.871496</td><td>15.334409</td><td>16.560387</td><td>15.830949</td><td>15.295744</td><td>16.532375</td><td>15.801337</td><td>15.268452</td><td>16.510893</td><td>15.780226</td><td>15.248496</td><td>16.494417</td><td>15.764574</td><td>15.234782</td><td>16.483492</td><td>15.754404</td><td>15.224201</td><td>0.040338244</td><td>0.04131077</td><td>0.04623093</td><td>0.04480464</td><td>0.06944147</td><td>0.07167467</td><td>0.074243516</td><td>0.12464602</td><td>0.12503313</td><td>0.00871856</td><td>0.008393888</td><td>0.009072006</td><td>0.008592072</td><td>0.0083286185</td><td>0.008998215</td><td>0.008352292</td><td>0.00810689</td><td>0.008742705</td><td>0.008098747</td><td>0.007865776</td><td>0.008498423</td><td>0.007897036</td><td>0.0076614805</td><td>0.008273834</td><td>0.0077372664</td><td>0.0074954517</td><td>0.008111606</td><td>0.007607897</td><td>0.0073707746</td><td>0.007996732</td><td>0.007506677</td><td>0.007285344</td><td>0.007925791</td><td>0.007447939</td><td>0.0072270893</td><td>0.007867618</td><td>16.446402</td><td>0.7330002</td><td>0.40952894</td><td>2.9090664</td><td>0.017176539</td><td>15.720292</td><td>0.5892005</td><td>0.53063834</td><td>3.0991096</td><td>0.020441473</td><td>15.190939</td><td>0.6921619</td><td>0.40686896</td><td>2.9819143</td><td>0.034560956</td><td>0</td><td>0.42108238</td></tr>\n",
       "<tr><td>39628443968603627</td><td>195.976671467044</td><td>28.3106237904758</td><td>10382</td><td>sv3</td><td>0.0267297616862906</td><td>4.1429870267411e-06</td><td>0</td><td>1446.40725709498</td><td>fuji/healpix/sv3/bright/103/10382/redrock-sv3-bright-10382.fits</td><td>TFT</td><td>25532</td><td>195.97667146704435</td><td>28.31062379047577</td><td>25532</td><td>SGA-2020 25532</td><td>SDSSJ130354.42+281837.9</td><td>4107586</td><td>195.9767025</td><td>28.310474100000004</td><td>S?</td><td>166.76</td><td>0.40405336</td><td>0.50740194</td><td>0.026749838</td><td>23.873674</td><td>17.213</td><td>False</td><td>LEDA-20181114</td><td>6819</td><td>SDSSJ130354.42+281837.9</td><td>1</td><td>True</td><td>195.9767025</td><td>28.310474100000004</td><td>0.40405336</td><td>1960p282</td><td>195.97667146704435</td><td>28.31062379047577</td><td>0.791036</td><td>SB26</td><td>161.18756</td><td>0.55564547</td><td>195.97656966701223</td><td>28.310650982288717</td><td>18.834179</td><td>19.184307</td><td>19.752268</td><td>36.091793</td><td>-1.0</td><td>1.7119654</td><td>3.7173758</td><td>6.900119</td><td>9.907776</td><td>13.35609</td><td>16.801786</td><td>20.405842</td><td>23.731081</td><td>-1.0</td><td>-1.0</td><td>-1.0</td><td>20.706158</td><td>20.35425</td><td>20.04227</td><td>19.36581</td><td>18.990892</td><td>18.701727</td><td>18.502205</td><td>18.118683</td><td>17.876488</td><td>18.048151</td><td>17.671566</td><td>17.476873</td><td>17.731274</td><td>17.358215</td><td>17.176588</td><td>17.519728</td><td>17.148079</td><td>16.978123</td><td>17.368778</td><td>17.000885</td><td>16.83452</td><td>17.279095</td><td>16.91376</td><td>16.731997</td><td>-1.0</td><td>0.019494459</td><td>0.028828895</td><td>0.042468164</td><td>0.05867041</td><td>0.078144304</td><td>0.09247545</td><td>0.13441253</td><td>0.17492415</td><td>-1.0</td><td>-1.0</td><td>-1.0</td><td>0.029355431</td><td>0.025699927</td><td>0.037269406</td><td>0.014447774</td><td>0.013454323</td><td>0.018270632</td><td>0.011132489</td><td>0.009945563</td><td>0.013540759</td><td>0.008731338</td><td>0.008016314</td><td>0.011215353</td><td>0.007031184</td><td>0.0067533953</td><td>0.009951402</td><td>0.0061839516</td><td>0.006110009</td><td>0.009497991</td><td>0.005727287</td><td>0.005688859</td><td>0.00928647</td><td>0.0054369103</td><td>0.005556694</td><td>0.009177039</td><td>16.667498</td><td>1.449297</td><td>1.5652359</td><td>1.2778447</td><td>8.244046</td><td>16.277807</td><td>1.6270032</td><td>1.3319848</td><td>1.2009833</td><td>9.118069</td><td>15.731997</td><td>3.3302157</td><td>0.67887783</td><td>0.7673344</td><td>2.0021436</td><td>0</td><td>0.5290931</td></tr>\n",
       "<tr><td>1070770205753346</td><td>195.975874659355</td><td>28.3126829285018</td><td>10382</td><td>sv3</td><td>0.0266181306039819</td><td>7.23308564602391e-06</td><td>0</td><td>360.41642194055</td><td>fuji/healpix/sv3/bright/103/10382/redrock-sv3-bright-10382.fits</td><td>TFT</td><td>25532</td><td>195.97587465935464</td><td>28.312682928501765</td><td>25532</td><td>SGA-2020 25532</td><td>SDSSJ130354.42+281837.9</td><td>4107586</td><td>195.9767025</td><td>28.310474100000004</td><td>S?</td><td>166.76</td><td>0.40405336</td><td>0.50740194</td><td>0.026749838</td><td>23.873674</td><td>17.213</td><td>False</td><td>LEDA-20181114</td><td>6819</td><td>SDSSJ130354.42+281837.9</td><td>1</td><td>True</td><td>195.9767025</td><td>28.310474100000004</td><td>0.40405336</td><td>1960p282</td><td>195.97667146704435</td><td>28.31062379047577</td><td>0.791036</td><td>SB26</td><td>161.18756</td><td>0.55564547</td><td>195.97656966701223</td><td>28.310650982288717</td><td>18.834179</td><td>19.184307</td><td>19.752268</td><td>36.091793</td><td>-1.0</td><td>1.7119654</td><td>3.7173758</td><td>6.900119</td><td>9.907776</td><td>13.35609</td><td>16.801786</td><td>20.405842</td><td>23.731081</td><td>-1.0</td><td>-1.0</td><td>-1.0</td><td>20.706158</td><td>20.35425</td><td>20.04227</td><td>19.36581</td><td>18.990892</td><td>18.701727</td><td>18.502205</td><td>18.118683</td><td>17.876488</td><td>18.048151</td><td>17.671566</td><td>17.476873</td><td>17.731274</td><td>17.358215</td><td>17.176588</td><td>17.519728</td><td>17.148079</td><td>16.978123</td><td>17.368778</td><td>17.000885</td><td>16.83452</td><td>17.279095</td><td>16.91376</td><td>16.731997</td><td>-1.0</td><td>0.019494459</td><td>0.028828895</td><td>0.042468164</td><td>0.05867041</td><td>0.078144304</td><td>0.09247545</td><td>0.13441253</td><td>0.17492415</td><td>-1.0</td><td>-1.0</td><td>-1.0</td><td>0.029355431</td><td>0.025699927</td><td>0.037269406</td><td>0.014447774</td><td>0.013454323</td><td>0.018270632</td><td>0.011132489</td><td>0.009945563</td><td>0.013540759</td><td>0.008731338</td><td>0.008016314</td><td>0.011215353</td><td>0.007031184</td><td>0.0067533953</td><td>0.009951402</td><td>0.0061839516</td><td>0.006110009</td><td>0.009497991</td><td>0.005727287</td><td>0.005688859</td><td>0.00928647</td><td>0.0054369103</td><td>0.005556694</td><td>0.009177039</td><td>16.667498</td><td>1.449297</td><td>1.5652359</td><td>1.2778447</td><td>8.244046</td><td>16.277807</td><td>1.6270032</td><td>1.3319848</td><td>1.2009833</td><td>9.118069</td><td>15.731997</td><td>3.3302157</td><td>0.67887783</td><td>0.7673344</td><td>2.0021436</td><td>0</td><td>0.5290931</td></tr>\n",
       "<tr><td>1070770205753345</td><td>195.975053673706</td><td>28.3148044598103</td><td>10382</td><td>sv3</td><td>0.0265032660301453</td><td>6.41605273017374e-06</td><td>0</td><td>561.488182786852</td><td>fuji/healpix/sv3/bright/103/10382/redrock-sv3-bright-10382.fits</td><td>TFT</td><td>25532</td><td>195.97505367370567</td><td>28.314804459810254</td><td>25532</td><td>SGA-2020 25532</td><td>SDSSJ130354.42+281837.9</td><td>4107586</td><td>195.9767025</td><td>28.310474100000004</td><td>S?</td><td>166.76</td><td>0.40405336</td><td>0.50740194</td><td>0.026749838</td><td>23.873674</td><td>17.213</td><td>False</td><td>LEDA-20181114</td><td>6819</td><td>SDSSJ130354.42+281837.9</td><td>1</td><td>True</td><td>195.9767025</td><td>28.310474100000004</td><td>0.40405336</td><td>1960p282</td><td>195.97667146704435</td><td>28.31062379047577</td><td>0.791036</td><td>SB26</td><td>161.18756</td><td>0.55564547</td><td>195.97656966701223</td><td>28.310650982288717</td><td>18.834179</td><td>19.184307</td><td>19.752268</td><td>36.091793</td><td>-1.0</td><td>1.7119654</td><td>3.7173758</td><td>6.900119</td><td>9.907776</td><td>13.35609</td><td>16.801786</td><td>20.405842</td><td>23.731081</td><td>-1.0</td><td>-1.0</td><td>-1.0</td><td>20.706158</td><td>20.35425</td><td>20.04227</td><td>19.36581</td><td>18.990892</td><td>18.701727</td><td>18.502205</td><td>18.118683</td><td>17.876488</td><td>18.048151</td><td>17.671566</td><td>17.476873</td><td>17.731274</td><td>17.358215</td><td>17.176588</td><td>17.519728</td><td>17.148079</td><td>16.978123</td><td>17.368778</td><td>17.000885</td><td>16.83452</td><td>17.279095</td><td>16.91376</td><td>16.731997</td><td>-1.0</td><td>0.019494459</td><td>0.028828895</td><td>0.042468164</td><td>0.05867041</td><td>0.078144304</td><td>0.09247545</td><td>0.13441253</td><td>0.17492415</td><td>-1.0</td><td>-1.0</td><td>-1.0</td><td>0.029355431</td><td>0.025699927</td><td>0.037269406</td><td>0.014447774</td><td>0.013454323</td><td>0.018270632</td><td>0.011132489</td><td>0.009945563</td><td>0.013540759</td><td>0.008731338</td><td>0.008016314</td><td>0.011215353</td><td>0.007031184</td><td>0.0067533953</td><td>0.009951402</td><td>0.0061839516</td><td>0.006110009</td><td>0.009497991</td><td>0.005727287</td><td>0.005688859</td><td>0.00928647</td><td>0.0054369103</td><td>0.005556694</td><td>0.009177039</td><td>16.667498</td><td>1.449297</td><td>1.5652359</td><td>1.2778447</td><td>8.244046</td><td>16.277807</td><td>1.6270032</td><td>1.3319848</td><td>1.2009833</td><td>9.118069</td><td>15.731997</td><td>3.3302157</td><td>0.67887783</td><td>0.7673344</td><td>2.0021436</td><td>0</td><td>0.5290931</td></tr>\n",
       "<tr><td>1070770205753347</td><td>195.977468243883</td><td>28.3085646478233</td><td>10382</td><td>sv3</td><td>0.0268898479700191</td><td>1.09741785811151e-05</td><td>0</td><td>184.704244860448</td><td>fuji/healpix/sv3/bright/103/10382/redrock-sv3-bright-10382.fits</td><td>TFT</td><td>25532</td><td>195.97746824388287</td><td>28.30856464782329</td><td>25532</td><td>SGA-2020 25532</td><td>SDSSJ130354.42+281837.9</td><td>4107586</td><td>195.9767025</td><td>28.310474100000004</td><td>S?</td><td>166.76</td><td>0.40405336</td><td>0.50740194</td><td>0.026749838</td><td>23.873674</td><td>17.213</td><td>False</td><td>LEDA-20181114</td><td>6819</td><td>SDSSJ130354.42+281837.9</td><td>1</td><td>True</td><td>195.9767025</td><td>28.310474100000004</td><td>0.40405336</td><td>1960p282</td><td>195.97667146704435</td><td>28.31062379047577</td><td>0.791036</td><td>SB26</td><td>161.18756</td><td>0.55564547</td><td>195.97656966701223</td><td>28.310650982288717</td><td>18.834179</td><td>19.184307</td><td>19.752268</td><td>36.091793</td><td>-1.0</td><td>1.7119654</td><td>3.7173758</td><td>6.900119</td><td>9.907776</td><td>13.35609</td><td>16.801786</td><td>20.405842</td><td>23.731081</td><td>-1.0</td><td>-1.0</td><td>-1.0</td><td>20.706158</td><td>20.35425</td><td>20.04227</td><td>19.36581</td><td>18.990892</td><td>18.701727</td><td>18.502205</td><td>18.118683</td><td>17.876488</td><td>18.048151</td><td>17.671566</td><td>17.476873</td><td>17.731274</td><td>17.358215</td><td>17.176588</td><td>17.519728</td><td>17.148079</td><td>16.978123</td><td>17.368778</td><td>17.000885</td><td>16.83452</td><td>17.279095</td><td>16.91376</td><td>16.731997</td><td>-1.0</td><td>0.019494459</td><td>0.028828895</td><td>0.042468164</td><td>0.05867041</td><td>0.078144304</td><td>0.09247545</td><td>0.13441253</td><td>0.17492415</td><td>-1.0</td><td>-1.0</td><td>-1.0</td><td>0.029355431</td><td>0.025699927</td><td>0.037269406</td><td>0.014447774</td><td>0.013454323</td><td>0.018270632</td><td>0.011132489</td><td>0.009945563</td><td>0.013540759</td><td>0.008731338</td><td>0.008016314</td><td>0.011215353</td><td>0.007031184</td><td>0.0067533953</td><td>0.009951402</td><td>0.0061839516</td><td>0.006110009</td><td>0.009497991</td><td>0.005727287</td><td>0.005688859</td><td>0.00928647</td><td>0.0054369103</td><td>0.005556694</td><td>0.009177039</td><td>16.667498</td><td>1.449297</td><td>1.5652359</td><td>1.2778447</td><td>8.244046</td><td>16.277807</td><td>1.6270032</td><td>1.3319848</td><td>1.2009833</td><td>9.118069</td><td>15.731997</td><td>3.3302157</td><td>0.67887783</td><td>0.7673344</td><td>2.0021436</td><td>0</td><td>0.5290931</td></tr>\n",
       "<tr><td>1083958997549080</td><td>195.042081793254</td><td>27.9581688975333</td><td>10379</td><td>sv3</td><td>0.0210808812073517</td><td>4.2847130044504e-05</td><td>0</td><td>160.088578002062</td><td>fuji/healpix/sv3/dark/103/10379/redrock-sv3-dark-10379.fits</td><td>TFT</td><td>30149</td><td>195.04208179325386</td><td>27.958168897533294</td><td>30149</td><td>SGA-2020 30149</td><td>PGC1822502</td><td>1822502</td><td>195.04323000000002</td><td>27.959173600000003</td><td>S?</td><td>41.03</td><td>0.3767038</td><td>0.40086672</td><td>0.021114606</td><td>24.114483</td><td>17.606</td><td>False</td><td>LEDA-20181114</td><td>8051</td><td>NGC4884_GROUP</td><td>9</td><td>False</td><td>195.04084100953196</td><td>27.977352259115825</td><td>3.4572668</td><td>1951p280</td><td>195.04313321875534</td><td>27.959071290945204</td><td>0.47087973</td><td>LEDA</td><td>45.82364</td><td>0.4299609</td><td>195.04305082113262</td><td>27.959144071847415</td><td>13.603296</td><td>-1.0</td><td>-1.0</td><td>-1.0</td><td>-1.0</td><td>-1.0</td><td>-1.0</td><td>-1.0</td><td>-1.0</td><td>-1.0</td><td>-1.0</td><td>-1.0</td><td>-1.0</td><td>-1.0</td><td>-1.0</td><td>-1.0</td><td>-1.0</td><td>-1.0</td><td>-1.0</td><td>-1.0</td><td>-1.0</td><td>-1.0</td><td>-1.0</td><td>-1.0</td><td>-1.0</td><td>-1.0</td><td>-1.0</td><td>-1.0</td><td>-1.0</td><td>-1.0</td><td>-1.0</td><td>-1.0</td><td>-1.0</td><td>-1.0</td><td>-1.0</td><td>-1.0</td><td>-1.0</td><td>-1.0</td><td>-1.0</td><td>-1.0</td><td>-1.0</td><td>-1.0</td><td>-1.0</td><td>-1.0</td><td>-1.0</td><td>-1.0</td><td>-1.0</td><td>-1.0</td><td>-1.0</td><td>-1.0</td><td>-1.0</td><td>-1.0</td><td>-1.0</td><td>-1.0</td><td>-1.0</td><td>-1.0</td><td>-1.0</td><td>-1.0</td><td>-1.0</td><td>-1.0</td><td>-1.0</td><td>-1.0</td><td>-1.0</td><td>-1.0</td><td>-1.0</td><td>-1.0</td><td>-1.0</td><td>-1.0</td><td>-1.0</td><td>-1.0</td><td>-1.0</td><td>-1.0</td><td>-1.0</td><td>-1.0</td><td>-1.0</td><td>-1.0</td><td>-1.0</td><td>-1.0</td><td>-1.0</td><td>-1.0</td><td>-1.0</td><td>-1.0</td><td>-1.0</td><td>-1.0</td><td>-1.0</td><td>-1.0</td><td>-1.0</td><td>-1.0</td><td>-1.0</td><td>-1.0</td><td>-1.0</td><td>0</td><td>0.38846168</td></tr>\n",
       "<tr><td>1083958997549079</td><td>195.040998524759</td><td>27.9572391505097</td><td>10379</td><td>sv3</td><td>-8.28317671698973e-05</td><td>4.26374613176851e-05</td><td>0</td><td>106.227713077675</td><td>fuji/healpix/sv3/dark/103/10379/redrock-sv3-dark-10379.fits</td><td>TFT</td><td>30149</td><td>195.04099852475943</td><td>27.957239150509707</td><td>30149</td><td>SGA-2020 30149</td><td>PGC1822502</td><td>1822502</td><td>195.04323000000002</td><td>27.959173600000003</td><td>S?</td><td>41.03</td><td>0.3767038</td><td>0.40086672</td><td>0.021114606</td><td>24.114483</td><td>17.606</td><td>False</td><td>LEDA-20181114</td><td>8051</td><td>NGC4884_GROUP</td><td>9</td><td>False</td><td>195.04084100953196</td><td>27.977352259115825</td><td>3.4572668</td><td>1951p280</td><td>195.04313321875534</td><td>27.959071290945204</td><td>0.47087973</td><td>LEDA</td><td>45.82364</td><td>0.4299609</td><td>195.04305082113262</td><td>27.959144071847415</td><td>13.603296</td><td>-1.0</td><td>-1.0</td><td>-1.0</td><td>-1.0</td><td>-1.0</td><td>-1.0</td><td>-1.0</td><td>-1.0</td><td>-1.0</td><td>-1.0</td><td>-1.0</td><td>-1.0</td><td>-1.0</td><td>-1.0</td><td>-1.0</td><td>-1.0</td><td>-1.0</td><td>-1.0</td><td>-1.0</td><td>-1.0</td><td>-1.0</td><td>-1.0</td><td>-1.0</td><td>-1.0</td><td>-1.0</td><td>-1.0</td><td>-1.0</td><td>-1.0</td><td>-1.0</td><td>-1.0</td><td>-1.0</td><td>-1.0</td><td>-1.0</td><td>-1.0</td><td>-1.0</td><td>-1.0</td><td>-1.0</td><td>-1.0</td><td>-1.0</td><td>-1.0</td><td>-1.0</td><td>-1.0</td><td>-1.0</td><td>-1.0</td><td>-1.0</td><td>-1.0</td><td>-1.0</td><td>-1.0</td><td>-1.0</td><td>-1.0</td><td>-1.0</td><td>-1.0</td><td>-1.0</td><td>-1.0</td><td>-1.0</td><td>-1.0</td><td>-1.0</td><td>-1.0</td><td>-1.0</td><td>-1.0</td><td>-1.0</td><td>-1.0</td><td>-1.0</td><td>-1.0</td><td>-1.0</td><td>-1.0</td><td>-1.0</td><td>-1.0</td><td>-1.0</td><td>-1.0</td><td>-1.0</td><td>-1.0</td><td>-1.0</td><td>-1.0</td><td>-1.0</td><td>-1.0</td><td>-1.0</td><td>-1.0</td><td>-1.0</td><td>-1.0</td><td>-1.0</td><td>-1.0</td><td>-1.0</td><td>-1.0</td><td>-1.0</td><td>-1.0</td><td>-1.0</td><td>-1.0</td><td>-1.0</td><td>-1.0</td><td>0</td><td>0.38846168</td></tr>\n",
       "<tr><td>...</td><td>...</td><td>...</td><td>...</td><td>...</td><td>...</td><td>...</td><td>...</td><td>...</td><td>...</td><td>...</td><td>...</td><td>...</td><td>...</td><td>...</td><td>...</td><td>...</td><td>...</td><td>...</td><td>...</td><td>...</td><td>...</td><td>...</td><td>...</td><td>...</td><td>...</td><td>...</td><td>...</td><td>...</td><td>...</td><td>...</td><td>...</td><td>...</td><td>...</td><td>...</td><td>...</td><td>...</td><td>...</td><td>...</td><td>...</td><td>...</td><td>...</td><td>...</td><td>...</td><td>...</td><td>...</td><td>...</td><td>...</td><td>...</td><td>...</td><td>...</td><td>...</td><td>...</td><td>...</td><td>...</td><td>...</td><td>...</td><td>...</td><td>...</td><td>...</td><td>...</td><td>...</td><td>...</td><td>...</td><td>...</td><td>...</td><td>...</td><td>...</td><td>...</td><td>...</td><td>...</td><td>...</td><td>...</td><td>...</td><td>...</td><td>...</td><td>...</td><td>...</td><td>...</td><td>...</td><td>...</td><td>...</td><td>...</td><td>...</td><td>...</td><td>...</td><td>...</td><td>...</td><td>...</td><td>...</td><td>...</td><td>...</td><td>...</td><td>...</td><td>...</td><td>...</td><td>...</td><td>...</td><td>...</td><td>...</td><td>...</td><td>...</td><td>...</td><td>...</td><td>...</td><td>...</td><td>...</td><td>...</td><td>...</td><td>...</td><td>...</td><td>...</td><td>...</td><td>...</td><td>...</td><td>...</td><td>...</td><td>...</td><td>...</td><td>...</td><td>...</td><td>...</td><td>...</td><td>...</td><td>...</td><td>...</td><td>...</td><td>...</td><td>...</td><td>...</td><td>...</td><td>...</td><td>...</td><td>...</td><td>...</td><td>...</td><td>...</td><td>...</td></tr>\n",
       "<tr><td>39628422548291710</td><td>195.44990644241</td><td>27.3547921983049</td><td>10379</td><td>sv3</td><td>0.0202592517081387</td><td>4.16721334032235e-05</td><td>0</td><td>391.434699365142</td><td>fuji/healpix/sv3/bright/103/10379/redrock-sv3-bright-10379.fits</td><td>TFT</td><td>1379275</td><td>195.44990644240988</td><td>27.35479219830488</td><td>1379275</td><td>SGA-2020 1379275</td><td>PGC1805533</td><td>1805533</td><td>195.44992200000002</td><td>27.3547627</td><td>S?</td><td>5.7</td><td>0.3819443</td><td>0.48977882</td><td>0.020199642</td><td>24.43748</td><td>17.899</td><td>False</td><td>LEDA-20181114</td><td>504577</td><td>PGC1805533</td><td>1</td><td>True</td><td>195.44992200000002</td><td>27.3547627</td><td>0.3819443</td><td>1955p272</td><td>195.44990644240988</td><td>27.35479219830488</td><td>0.68205124</td><td>SB26</td><td>5.0782175</td><td>0.40062517</td><td>195.44981509104716</td><td>27.354839637546096</td><td>14.749811</td><td>7.2933497</td><td>7.309737</td><td>6.9485893</td><td>4.1433725</td><td>5.822983</td><td>7.5516224</td><td>9.4546385</td><td>11.434655</td><td>13.545329</td><td>15.834828</td><td>18.145588</td><td>20.461536</td><td>18.72244</td><td>18.062042</td><td>17.542185</td><td>18.323318</td><td>17.64903</td><td>17.146284</td><td>18.068378</td><td>17.385584</td><td>16.895168</td><td>17.890787</td><td>17.19715</td><td>16.718552</td><td>17.766336</td><td>17.067669</td><td>16.596172</td><td>17.674343</td><td>16.972599</td><td>16.506882</td><td>17.605347</td><td>16.903214</td><td>16.440067</td><td>17.557861</td><td>16.85428</td><td>16.394932</td><td>17.521797</td><td>16.819008</td><td>16.364166</td><td>0.02047565</td><td>0.03721214</td><td>0.032362938</td><td>0.05057297</td><td>0.04768284</td><td>0.073076926</td><td>0.076436125</td><td>0.08607934</td><td>0.1161019</td><td>0.01847772</td><td>0.017710984</td><td>0.018666534</td><td>0.015323772</td><td>0.014495287</td><td>0.015408269</td><td>0.013466433</td><td>0.012764654</td><td>0.013677388</td><td>0.012360669</td><td>0.011623558</td><td>0.012569134</td><td>0.011463308</td><td>0.010741893</td><td>0.011713805</td><td>0.010784702</td><td>0.010111048</td><td>0.011054767</td><td>0.010269946</td><td>0.009629263</td><td>0.010537275</td><td>0.00989154</td><td>0.009286731</td><td>0.010205157</td><td>0.009610971</td><td>0.009022571</td><td>0.009949101</td><td>17.348276</td><td>0.9599981</td><td>0.68709105</td><td>1.7403759</td><td>0.045214556</td><td>16.663265</td><td>0.8389734</td><td>0.7982336</td><td>1.9098032</td><td>0.022824906</td><td>16.218672</td><td>0.8118777</td><td>0.7615958</td><td>1.9105182</td><td>0.10105601</td><td>0</td><td>0.35428998</td></tr>\n",
       "<tr><td>1083942924976133</td><td>195.449719519669</td><td>27.3529239196016</td><td>10379</td><td>sv3</td><td>0.0205223577611193</td><td>9.55364031501921e-05</td><td>0</td><td>44.9840724148089</td><td>fuji/healpix/sv3/dark/103/10379/redrock-sv3-dark-10379.fits</td><td>TFT</td><td>1379275</td><td>195.44971951966932</td><td>27.35292391960156</td><td>1379275</td><td>SGA-2020 1379275</td><td>PGC1805533</td><td>1805533</td><td>195.44992200000002</td><td>27.3547627</td><td>S?</td><td>5.7</td><td>0.3819443</td><td>0.48977882</td><td>0.020199642</td><td>24.43748</td><td>17.899</td><td>False</td><td>LEDA-20181114</td><td>504577</td><td>PGC1805533</td><td>1</td><td>True</td><td>195.44992200000002</td><td>27.3547627</td><td>0.3819443</td><td>1955p272</td><td>195.44990644240988</td><td>27.35479219830488</td><td>0.68205124</td><td>SB26</td><td>5.0782175</td><td>0.40062517</td><td>195.44981509104716</td><td>27.354839637546096</td><td>14.749811</td><td>7.2933497</td><td>7.309737</td><td>6.9485893</td><td>4.1433725</td><td>5.822983</td><td>7.5516224</td><td>9.4546385</td><td>11.434655</td><td>13.545329</td><td>15.834828</td><td>18.145588</td><td>20.461536</td><td>18.72244</td><td>18.062042</td><td>17.542185</td><td>18.323318</td><td>17.64903</td><td>17.146284</td><td>18.068378</td><td>17.385584</td><td>16.895168</td><td>17.890787</td><td>17.19715</td><td>16.718552</td><td>17.766336</td><td>17.067669</td><td>16.596172</td><td>17.674343</td><td>16.972599</td><td>16.506882</td><td>17.605347</td><td>16.903214</td><td>16.440067</td><td>17.557861</td><td>16.85428</td><td>16.394932</td><td>17.521797</td><td>16.819008</td><td>16.364166</td><td>0.02047565</td><td>0.03721214</td><td>0.032362938</td><td>0.05057297</td><td>0.04768284</td><td>0.073076926</td><td>0.076436125</td><td>0.08607934</td><td>0.1161019</td><td>0.01847772</td><td>0.017710984</td><td>0.018666534</td><td>0.015323772</td><td>0.014495287</td><td>0.015408269</td><td>0.013466433</td><td>0.012764654</td><td>0.013677388</td><td>0.012360669</td><td>0.011623558</td><td>0.012569134</td><td>0.011463308</td><td>0.010741893</td><td>0.011713805</td><td>0.010784702</td><td>0.010111048</td><td>0.011054767</td><td>0.010269946</td><td>0.009629263</td><td>0.010537275</td><td>0.00989154</td><td>0.009286731</td><td>0.010205157</td><td>0.009610971</td><td>0.009022571</td><td>0.009949101</td><td>17.348276</td><td>0.9599981</td><td>0.68709105</td><td>1.7403759</td><td>0.045214556</td><td>16.663265</td><td>0.8389734</td><td>0.7982336</td><td>1.9098032</td><td>0.022824906</td><td>16.218672</td><td>0.8118777</td><td>0.7615958</td><td>1.9105182</td><td>0.10105601</td><td>0</td><td>0.35428998</td></tr>\n",
       "<tr><td>1083942916587523</td><td>194.9074619582</td><td>27.3363935821814</td><td>10378</td><td>sv3</td><td>0.0231924149715187</td><td>5.03661790309003e-05</td><td>0</td><td>45.9586618230314</td><td>fuji/healpix/sv3/dark/103/10378/redrock-sv3-dark-10378.fits</td><td>TFT</td><td>1387126</td><td>194.9074619581997</td><td>27.33639358218142</td><td>1387126</td><td>SGA-2020 1387126</td><td>PGC083733</td><td>83733</td><td>194.90559</td><td>27.336044399999995</td><td>S0</td><td>73.0</td><td>0.4698941</td><td>0.6338697</td><td>0.023257088</td><td>24.423481</td><td>17.435</td><td>False</td><td>LEDA-20181114</td><td>506838</td><td>PGC083733</td><td>1</td><td>True</td><td>194.90559</td><td>27.336044399999995</td><td>0.4698941</td><td>1950p272</td><td>194.90562470647154</td><td>27.336019911311073</td><td>0.6088404</td><td>SB26</td><td>77.10377</td><td>0.6496253</td><td>194.90554762374967</td><td>27.33608786924445</td><td>13.187623</td><td>5.075589</td><td>5.1655507</td><td>5.217395</td><td>4.5053186</td><td>5.829584</td><td>7.264593</td><td>8.852258</td><td>10.534994</td><td>12.265147</td><td>14.081976</td><td>16.20923</td><td>18.265213</td><td>17.780241</td><td>17.057734</td><td>16.523172</td><td>17.553785</td><td>16.826157</td><td>16.293283</td><td>17.388277</td><td>16.660633</td><td>16.129866</td><td>17.261856</td><td>16.53334</td><td>16.005472</td><td>17.169636</td><td>16.440977</td><td>15.915768</td><td>17.105389</td><td>16.374672</td><td>15.8514</td><td>17.059734</td><td>16.32735</td><td>15.801803</td><td>17.025053</td><td>16.290472</td><td>15.764339</td><td>16.99936</td><td>16.267256</td><td>15.740708</td><td>0.030530363</td><td>0.0497152</td><td>0.056289334</td><td>0.061967675</td><td>0.08535392</td><td>0.08649266</td><td>0.10565716</td><td>0.12734532</td><td>0.11597154</td><td>0.016783865</td><td>0.017111374</td><td>0.017664533</td><td>0.015568481</td><td>0.01572486</td><td>0.016123967</td><td>0.014521128</td><td>0.014644199</td><td>0.015035776</td><td>0.013691755</td><td>0.013779301</td><td>0.014132108</td><td>0.013006774</td><td>0.013057008</td><td>0.013399378</td><td>0.012478237</td><td>0.012482843</td><td>0.012830839</td><td>0.012075201</td><td>0.012056527</td><td>0.012379358</td><td>0.011751589</td><td>0.01170427</td><td>0.012019941</td><td>0.011514144</td><td>0.0114903115</td><td>0.011796761</td><td>16.920185</td><td>0.4317038</td><td>0.88997823</td><td>2.4589472</td><td>0.03836328</td><td>16.179873</td><td>0.4619683</td><td>0.85569835</td><td>2.3715794</td><td>0.0904009</td><td>15.636743</td><td>0.55362386</td><td>0.72846186</td><td>2.1201754</td><td>0.09150089</td><td>0</td><td>0.6308171</td></tr>\n",
       "<tr><td>39628422539903372</td><td>194.905624706472</td><td>27.3360199113111</td><td>10378</td><td>sv3</td><td>0.0233014642948937</td><td>2.30304265653996e-05</td><td>0</td><td>1983.18756204504</td><td>fuji/healpix/sv3/bright/103/10378/redrock-sv3-bright-10378.fits</td><td>TFT</td><td>1387126</td><td>194.90562470647154</td><td>27.336019911311073</td><td>1387126</td><td>SGA-2020 1387126</td><td>PGC083733</td><td>83733</td><td>194.90559</td><td>27.336044399999995</td><td>S0</td><td>73.0</td><td>0.4698941</td><td>0.6338697</td><td>0.023257088</td><td>24.423481</td><td>17.435</td><td>False</td><td>LEDA-20181114</td><td>506838</td><td>PGC083733</td><td>1</td><td>True</td><td>194.90559</td><td>27.336044399999995</td><td>0.4698941</td><td>1950p272</td><td>194.90562470647154</td><td>27.336019911311073</td><td>0.6088404</td><td>SB26</td><td>77.10377</td><td>0.6496253</td><td>194.90554762374967</td><td>27.33608786924445</td><td>13.187623</td><td>5.075589</td><td>5.1655507</td><td>5.217395</td><td>4.5053186</td><td>5.829584</td><td>7.264593</td><td>8.852258</td><td>10.534994</td><td>12.265147</td><td>14.081976</td><td>16.20923</td><td>18.265213</td><td>17.780241</td><td>17.057734</td><td>16.523172</td><td>17.553785</td><td>16.826157</td><td>16.293283</td><td>17.388277</td><td>16.660633</td><td>16.129866</td><td>17.261856</td><td>16.53334</td><td>16.005472</td><td>17.169636</td><td>16.440977</td><td>15.915768</td><td>17.105389</td><td>16.374672</td><td>15.8514</td><td>17.059734</td><td>16.32735</td><td>15.801803</td><td>17.025053</td><td>16.290472</td><td>15.764339</td><td>16.99936</td><td>16.267256</td><td>15.740708</td><td>0.030530363</td><td>0.0497152</td><td>0.056289334</td><td>0.061967675</td><td>0.08535392</td><td>0.08649266</td><td>0.10565716</td><td>0.12734532</td><td>0.11597154</td><td>0.016783865</td><td>0.017111374</td><td>0.017664533</td><td>0.015568481</td><td>0.01572486</td><td>0.016123967</td><td>0.014521128</td><td>0.014644199</td><td>0.015035776</td><td>0.013691755</td><td>0.013779301</td><td>0.014132108</td><td>0.013006774</td><td>0.013057008</td><td>0.013399378</td><td>0.012478237</td><td>0.012482843</td><td>0.012830839</td><td>0.012075201</td><td>0.012056527</td><td>0.012379358</td><td>0.011751589</td><td>0.01170427</td><td>0.012019941</td><td>0.011514144</td><td>0.0114903115</td><td>0.011796761</td><td>16.920185</td><td>0.4317038</td><td>0.88997823</td><td>2.4589472</td><td>0.03836328</td><td>16.179873</td><td>0.4619683</td><td>0.85569835</td><td>2.3715794</td><td>0.0904009</td><td>15.636743</td><td>0.55362386</td><td>0.72846186</td><td>2.1201754</td><td>0.09150089</td><td>0</td><td>0.6308171</td></tr>\n",
       "<tr><td>1083953662394372</td><td>196.022042543556</td><td>27.8509524059866</td><td>10379</td><td>sv3</td><td>0.0209227979866618</td><td>9.44022122693779e-05</td><td>0</td><td>112.472995078024</td><td>fuji/healpix/sv3/dark/103/10379/redrock-sv3-dark-10379.fits</td><td>TFT</td><td>1387991</td><td>196.02204254355627</td><td>27.850952405986572</td><td>1387991</td><td>SGA-2020 1387991</td><td>PGC1819680</td><td>1819680</td><td>196.01980799999998</td><td>27.8505164</td><td>S?</td><td>76.41</td><td>0.39264494</td><td>0.4265795</td><td>0.021285059</td><td>24.11048</td><td>17.512</td><td>False</td><td>LEDA-20181114</td><td>507212</td><td>PGC1819680</td><td>1</td><td>True</td><td>196.01980799999998</td><td>27.8505164</td><td>0.39264494</td><td>1959p277</td><td>196.01981861162528</td><td>27.850501475634605</td><td>0.7335896</td><td>SB26</td><td>77.0834</td><td>0.31505835</td><td>196.01972038020176</td><td>27.850561932787546</td><td>15.023795</td><td>6.2871614</td><td>6.3336964</td><td>6.0160975</td><td>8.344416</td><td>10.589332</td><td>12.566287</td><td>13.963412</td><td>15.266555</td><td>16.520254</td><td>17.635262</td><td>19.79739</td><td>22.007689</td><td>17.166983</td><td>16.475887</td><td>15.897792</td><td>16.961231</td><td>16.26718</td><td>15.701388</td><td>16.834654</td><td>16.140131</td><td>15.582496</td><td>16.765821</td><td>16.071375</td><td>15.520878</td><td>16.719383</td><td>16.027887</td><td>15.487223</td><td>16.695017</td><td>16.009926</td><td>15.468976</td><td>16.68476</td><td>15.998544</td><td>15.457853</td><td>16.67034</td><td>15.982999</td><td>15.442719</td><td>16.66094</td><td>15.973101</td><td>15.434615</td><td>0.11449447</td><td>0.15673988</td><td>0.15841843</td><td>0.16001803</td><td>0.10981331</td><td>0.15715949</td><td>0.18802464</td><td>0.2296796</td><td>0.21711877</td><td>0.04562465</td><td>0.04716526</td><td>0.051143944</td><td>0.04082695</td><td>0.042019214</td><td>0.0455108</td><td>0.037835084</td><td>0.038851492</td><td>0.042123105</td><td>0.036197323</td><td>0.037130795</td><td>0.040363476</td><td>0.035066847</td><td>0.03600425</td><td>0.039355684</td><td>0.03442599</td><td>0.035490174</td><td>0.03879536</td><td>0.034134883</td><td>0.035153903</td><td>0.038426757</td><td>0.033721488</td><td>0.034691766</td><td>0.037922252</td><td>0.033450074</td><td>0.034392778</td><td>0.037656136</td><td>16.658735</td><td>0.1044949</td><td>28.286905</td><td>8.315205</td><td>0.032999296</td><td>15.971098</td><td>0.11709462</td><td>18.154186</td><td>7.721785</td><td>0.047133993</td><td>15.430835</td><td>0.12618884</td><td>11.194274</td><td>6.978116</td><td>0.018105028</td><td>0</td><td>0.24845725</td></tr>\n",
       "<tr><td>1070759522861060</td><td>196.022042543556</td><td>27.8509524059866</td><td>10379</td><td>sv3</td><td>0.0210083341169213</td><td>0.00011450492581732</td><td>0</td><td>40.3966993378635</td><td>fuji/healpix/sv3/bright/103/10379/redrock-sv3-bright-10379.fits</td><td>TFT</td><td>1387991</td><td>196.02204254355627</td><td>27.850952405986572</td><td>1387991</td><td>SGA-2020 1387991</td><td>PGC1819680</td><td>1819680</td><td>196.01980799999998</td><td>27.8505164</td><td>S?</td><td>76.41</td><td>0.39264494</td><td>0.4265795</td><td>0.021285059</td><td>24.11048</td><td>17.512</td><td>False</td><td>LEDA-20181114</td><td>507212</td><td>PGC1819680</td><td>1</td><td>True</td><td>196.01980799999998</td><td>27.8505164</td><td>0.39264494</td><td>1959p277</td><td>196.01981861162528</td><td>27.850501475634605</td><td>0.7335896</td><td>SB26</td><td>77.0834</td><td>0.31505835</td><td>196.01972038020176</td><td>27.850561932787546</td><td>15.023795</td><td>6.2871614</td><td>6.3336964</td><td>6.0160975</td><td>8.344416</td><td>10.589332</td><td>12.566287</td><td>13.963412</td><td>15.266555</td><td>16.520254</td><td>17.635262</td><td>19.79739</td><td>22.007689</td><td>17.166983</td><td>16.475887</td><td>15.897792</td><td>16.961231</td><td>16.26718</td><td>15.701388</td><td>16.834654</td><td>16.140131</td><td>15.582496</td><td>16.765821</td><td>16.071375</td><td>15.520878</td><td>16.719383</td><td>16.027887</td><td>15.487223</td><td>16.695017</td><td>16.009926</td><td>15.468976</td><td>16.68476</td><td>15.998544</td><td>15.457853</td><td>16.67034</td><td>15.982999</td><td>15.442719</td><td>16.66094</td><td>15.973101</td><td>15.434615</td><td>0.11449447</td><td>0.15673988</td><td>0.15841843</td><td>0.16001803</td><td>0.10981331</td><td>0.15715949</td><td>0.18802464</td><td>0.2296796</td><td>0.21711877</td><td>0.04562465</td><td>0.04716526</td><td>0.051143944</td><td>0.04082695</td><td>0.042019214</td><td>0.0455108</td><td>0.037835084</td><td>0.038851492</td><td>0.042123105</td><td>0.036197323</td><td>0.037130795</td><td>0.040363476</td><td>0.035066847</td><td>0.03600425</td><td>0.039355684</td><td>0.03442599</td><td>0.035490174</td><td>0.03879536</td><td>0.034134883</td><td>0.035153903</td><td>0.038426757</td><td>0.033721488</td><td>0.034691766</td><td>0.037922252</td><td>0.033450074</td><td>0.034392778</td><td>0.037656136</td><td>16.658735</td><td>0.1044949</td><td>28.286905</td><td>8.315205</td><td>0.032999296</td><td>15.971098</td><td>0.11709462</td><td>18.154186</td><td>7.721785</td><td>0.047133993</td><td>15.430835</td><td>0.12618884</td><td>11.194274</td><td>6.978116</td><td>0.018105028</td><td>0</td><td>0.24845725</td></tr>\n",
       "<tr><td>39628433285713872</td><td>196.019818611625</td><td>27.8505014756346</td><td>10379</td><td>sv3</td><td>0.0212915823472822</td><td>1.69052462013053e-05</td><td>0</td><td>2380.52770073585</td><td>fuji/healpix/sv3/bright/103/10379/redrock-sv3-bright-10379.fits</td><td>TFT</td><td>1387991</td><td>196.01981861162528</td><td>27.850501475634605</td><td>1387991</td><td>SGA-2020 1387991</td><td>PGC1819680</td><td>1819680</td><td>196.01980799999998</td><td>27.8505164</td><td>S?</td><td>76.41</td><td>0.39264494</td><td>0.4265795</td><td>0.021285059</td><td>24.11048</td><td>17.512</td><td>False</td><td>LEDA-20181114</td><td>507212</td><td>PGC1819680</td><td>1</td><td>True</td><td>196.01980799999998</td><td>27.8505164</td><td>0.39264494</td><td>1959p277</td><td>196.01981861162528</td><td>27.850501475634605</td><td>0.7335896</td><td>SB26</td><td>77.0834</td><td>0.31505835</td><td>196.01972038020176</td><td>27.850561932787546</td><td>15.023795</td><td>6.2871614</td><td>6.3336964</td><td>6.0160975</td><td>8.344416</td><td>10.589332</td><td>12.566287</td><td>13.963412</td><td>15.266555</td><td>16.520254</td><td>17.635262</td><td>19.79739</td><td>22.007689</td><td>17.166983</td><td>16.475887</td><td>15.897792</td><td>16.961231</td><td>16.26718</td><td>15.701388</td><td>16.834654</td><td>16.140131</td><td>15.582496</td><td>16.765821</td><td>16.071375</td><td>15.520878</td><td>16.719383</td><td>16.027887</td><td>15.487223</td><td>16.695017</td><td>16.009926</td><td>15.468976</td><td>16.68476</td><td>15.998544</td><td>15.457853</td><td>16.67034</td><td>15.982999</td><td>15.442719</td><td>16.66094</td><td>15.973101</td><td>15.434615</td><td>0.11449447</td><td>0.15673988</td><td>0.15841843</td><td>0.16001803</td><td>0.10981331</td><td>0.15715949</td><td>0.18802464</td><td>0.2296796</td><td>0.21711877</td><td>0.04562465</td><td>0.04716526</td><td>0.051143944</td><td>0.04082695</td><td>0.042019214</td><td>0.0455108</td><td>0.037835084</td><td>0.038851492</td><td>0.042123105</td><td>0.036197323</td><td>0.037130795</td><td>0.040363476</td><td>0.035066847</td><td>0.03600425</td><td>0.039355684</td><td>0.03442599</td><td>0.035490174</td><td>0.03879536</td><td>0.034134883</td><td>0.035153903</td><td>0.038426757</td><td>0.033721488</td><td>0.034691766</td><td>0.037922252</td><td>0.033450074</td><td>0.034392778</td><td>0.037656136</td><td>16.658735</td><td>0.1044949</td><td>28.286905</td><td>8.315205</td><td>0.032999296</td><td>15.971098</td><td>0.11709462</td><td>18.154186</td><td>7.721785</td><td>0.047133993</td><td>15.430835</td><td>0.12618884</td><td>11.194274</td><td>6.978116</td><td>0.018105028</td><td>0</td><td>0.24845725</td></tr>\n",
       "<tr><td>1083953662394371</td><td>196.017594698191</td><td>27.8500505096274</td><td>10379</td><td>sv3</td><td>0.0217484694788326</td><td>4.52509693997777e-05</td><td>0</td><td>132.466499544185</td><td>fuji/healpix/sv3/dark/103/10379/redrock-sv3-dark-10379.fits</td><td>TFT</td><td>1387991</td><td>196.0175946981908</td><td>27.85005050962738</td><td>1387991</td><td>SGA-2020 1387991</td><td>PGC1819680</td><td>1819680</td><td>196.01980799999998</td><td>27.8505164</td><td>S?</td><td>76.41</td><td>0.39264494</td><td>0.4265795</td><td>0.021285059</td><td>24.11048</td><td>17.512</td><td>False</td><td>LEDA-20181114</td><td>507212</td><td>PGC1819680</td><td>1</td><td>True</td><td>196.01980799999998</td><td>27.8505164</td><td>0.39264494</td><td>1959p277</td><td>196.01981861162528</td><td>27.850501475634605</td><td>0.7335896</td><td>SB26</td><td>77.0834</td><td>0.31505835</td><td>196.01972038020176</td><td>27.850561932787546</td><td>15.023795</td><td>6.2871614</td><td>6.3336964</td><td>6.0160975</td><td>8.344416</td><td>10.589332</td><td>12.566287</td><td>13.963412</td><td>15.266555</td><td>16.520254</td><td>17.635262</td><td>19.79739</td><td>22.007689</td><td>17.166983</td><td>16.475887</td><td>15.897792</td><td>16.961231</td><td>16.26718</td><td>15.701388</td><td>16.834654</td><td>16.140131</td><td>15.582496</td><td>16.765821</td><td>16.071375</td><td>15.520878</td><td>16.719383</td><td>16.027887</td><td>15.487223</td><td>16.695017</td><td>16.009926</td><td>15.468976</td><td>16.68476</td><td>15.998544</td><td>15.457853</td><td>16.67034</td><td>15.982999</td><td>15.442719</td><td>16.66094</td><td>15.973101</td><td>15.434615</td><td>0.11449447</td><td>0.15673988</td><td>0.15841843</td><td>0.16001803</td><td>0.10981331</td><td>0.15715949</td><td>0.18802464</td><td>0.2296796</td><td>0.21711877</td><td>0.04562465</td><td>0.04716526</td><td>0.051143944</td><td>0.04082695</td><td>0.042019214</td><td>0.0455108</td><td>0.037835084</td><td>0.038851492</td><td>0.042123105</td><td>0.036197323</td><td>0.037130795</td><td>0.040363476</td><td>0.035066847</td><td>0.03600425</td><td>0.039355684</td><td>0.03442599</td><td>0.035490174</td><td>0.03879536</td><td>0.034134883</td><td>0.035153903</td><td>0.038426757</td><td>0.033721488</td><td>0.034691766</td><td>0.037922252</td><td>0.033450074</td><td>0.034392778</td><td>0.037656136</td><td>16.658735</td><td>0.1044949</td><td>28.286905</td><td>8.315205</td><td>0.032999296</td><td>15.971098</td><td>0.11709462</td><td>18.154186</td><td>7.721785</td><td>0.047133993</td><td>15.430835</td><td>0.12618884</td><td>11.194274</td><td>6.978116</td><td>0.018105028</td><td>0</td><td>0.24845725</td></tr>\n",
       "<tr><td>1083980266864653</td><td>195.449335692238</td><td>29.0750350750396</td><td>10404</td><td>sv3</td><td>0.0231136833746593</td><td>6.28000671338951e-06</td><td>0</td><td>687.258072091267</td><td>fuji/healpix/sv3/dark/104/10404/redrock-sv3-dark-10404.fits</td><td>TFT</td><td>1393079</td><td>195.44933569223826</td><td>29.075035075039587</td><td>1393079</td><td>SGA-2020 1393079</td><td>PGC214057</td><td>214057</td><td>195.44385749999998</td><td>29.076207</td><td>S?</td><td>99.81</td><td>0.3732502</td><td>0.6982324</td><td>0.061499875</td><td>24.669481</td><td>18.181</td><td>False</td><td>LEDA-20181114</td><td>509517</td><td>PGC214057</td><td>1</td><td>True</td><td>195.44385749999998</td><td>29.076207</td><td>0.3732502</td><td>1955p290</td><td>195.44421840300032</td><td>29.075986928783728</td><td>0.5487093</td><td>SB26</td><td>102.01363</td><td>0.48609537</td><td>195.44407044085108</td><td>29.076093102350683</td><td>12.1292715</td><td>20.86223</td><td>21.595984</td><td>17.313755</td><td>-1.0</td><td>0.32947648</td><td>1.9630203</td><td>4.8292594</td><td>8.46693</td><td>11.220167</td><td>13.222284</td><td>15.301069</td><td>16.461279</td><td>-1.0</td><td>-1.0</td><td>-1.0</td><td>24.970491</td><td>24.456018</td><td>24.135134</td><td>21.193382</td><td>20.792162</td><td>20.62177</td><td>19.538815</td><td>19.147814</td><td>19.002192</td><td>18.722555</td><td>18.392551</td><td>18.309515</td><td>18.317198</td><td>18.001442</td><td>17.983244</td><td>18.10382</td><td>17.771452</td><td>17.768183</td><td>17.983002</td><td>17.658894</td><td>17.665665</td><td>17.954666</td><td>17.62751</td><td>17.635376</td><td>-1.0</td><td>0.061185326</td><td>0.04813992</td><td>0.115814224</td><td>0.1713624</td><td>0.31062528</td><td>0.25242355</td><td>0.16919217</td><td>0.2002415</td><td>-1.0</td><td>-1.0</td><td>-1.0</td><td>0.13321678</td><td>0.09153883</td><td>0.21124005</td><td>0.04167392</td><td>0.042725563</td><td>0.076093815</td><td>0.036387127</td><td>0.03677494</td><td>0.053716287</td><td>0.029603498</td><td>0.030859081</td><td>0.0433626</td><td>0.026136134</td><td>0.027062712</td><td>0.037914153</td><td>0.024306266</td><td>0.025110334</td><td>0.0345751</td><td>0.023010658</td><td>0.024133135</td><td>0.03330961</td><td>0.022782527</td><td>0.023900148</td><td>0.033155564</td><td>16.973211</td><td>1.7362136</td><td>1.3618683</td><td>1.251468</td><td>6.3860936</td><td>16.62751</td><td>1.7794714</td><td>1.3275329</td><td>1.201409</td><td>7.555307</td><td>16.825962</td><td>1.699261</td><td>1.0969257</td><td>1.233992</td><td>3.152068</td><td>0</td><td>0.4521807</td></tr>\n",
       "<tr><td>39628459890181137</td><td>195.444218403</td><td>29.0759869287837</td><td>10404</td><td>sv3</td><td>0.0614823141743861</td><td>1.60897789624589e-05</td><td>0</td><td>66.2913747359999</td><td>fuji/healpix/sv3/bright/104/10404/redrock-sv3-bright-10404.fits</td><td>TFT</td><td>1393079</td><td>195.44421840300032</td><td>29.07598692878373</td><td>1393079</td><td>SGA-2020 1393079</td><td>PGC214057</td><td>214057</td><td>195.44385749999998</td><td>29.076207</td><td>S?</td><td>99.81</td><td>0.3732502</td><td>0.6982324</td><td>0.061499875</td><td>24.669481</td><td>18.181</td><td>False</td><td>LEDA-20181114</td><td>509517</td><td>PGC214057</td><td>1</td><td>True</td><td>195.44385749999998</td><td>29.076207</td><td>0.3732502</td><td>1955p290</td><td>195.44421840300032</td><td>29.075986928783728</td><td>0.5487093</td><td>SB26</td><td>102.01363</td><td>0.48609537</td><td>195.44407044085108</td><td>29.076093102350683</td><td>12.1292715</td><td>20.86223</td><td>21.595984</td><td>17.313755</td><td>-1.0</td><td>0.32947648</td><td>1.9630203</td><td>4.8292594</td><td>8.46693</td><td>11.220167</td><td>13.222284</td><td>15.301069</td><td>16.461279</td><td>-1.0</td><td>-1.0</td><td>-1.0</td><td>24.970491</td><td>24.456018</td><td>24.135134</td><td>21.193382</td><td>20.792162</td><td>20.62177</td><td>19.538815</td><td>19.147814</td><td>19.002192</td><td>18.722555</td><td>18.392551</td><td>18.309515</td><td>18.317198</td><td>18.001442</td><td>17.983244</td><td>18.10382</td><td>17.771452</td><td>17.768183</td><td>17.983002</td><td>17.658894</td><td>17.665665</td><td>17.954666</td><td>17.62751</td><td>17.635376</td><td>-1.0</td><td>0.061185326</td><td>0.04813992</td><td>0.115814224</td><td>0.1713624</td><td>0.31062528</td><td>0.25242355</td><td>0.16919217</td><td>0.2002415</td><td>-1.0</td><td>-1.0</td><td>-1.0</td><td>0.13321678</td><td>0.09153883</td><td>0.21124005</td><td>0.04167392</td><td>0.042725563</td><td>0.076093815</td><td>0.036387127</td><td>0.03677494</td><td>0.053716287</td><td>0.029603498</td><td>0.030859081</td><td>0.0433626</td><td>0.026136134</td><td>0.027062712</td><td>0.037914153</td><td>0.024306266</td><td>0.025110334</td><td>0.0345751</td><td>0.023010658</td><td>0.024133135</td><td>0.03330961</td><td>0.022782527</td><td>0.023900148</td><td>0.033155564</td><td>16.973211</td><td>1.7362136</td><td>1.3618683</td><td>1.251468</td><td>6.3860936</td><td>16.62751</td><td>1.7794714</td><td>1.3275329</td><td>1.201409</td><td>7.555307</td><td>16.825962</td><td>1.699261</td><td>1.0969257</td><td>1.233992</td><td>3.152068</td><td>0</td><td>0.4521807</td></tr>\n",
       "</table></div>"
      ],
      "text/plain": [
       "<Table length=245>\n",
       "     TARGETID        TARGET_RA        TARGET_DEC    ... ELLIPSEBIT     cosi   \n",
       "      int64           float64          float64      ...   int32      float32  \n",
       "----------------- ---------------- ---------------- ... ---------- -----------\n",
       " 1070791412154372 195.515245590946 29.2579670504378 ...          0 0.109133735\n",
       " 1070791412154373 195.519803821539 29.2488992457946 ...          0 0.109133735\n",
       "39628465175004507 195.517524807258 29.2534331674424 ...          0 0.109133735\n",
       "39628438633448398 195.880147500007 28.0922920375178 ...          0  0.42108238\n",
       "39628443968603627 195.976671467044 28.3106237904758 ...          0   0.5290931\n",
       " 1070770205753346 195.975874659355 28.3126829285018 ...          0   0.5290931\n",
       " 1070770205753345 195.975053673706 28.3148044598103 ...          0   0.5290931\n",
       " 1070770205753347 195.977468243883 28.3085646478233 ...          0   0.5290931\n",
       " 1083958997549080 195.042081793254 27.9581688975333 ...          0  0.38846168\n",
       " 1083958997549079 195.040998524759 27.9572391505097 ...          0  0.38846168\n",
       "              ...              ...              ... ...        ...         ...\n",
       "39628422548291710  195.44990644241 27.3547921983049 ...          0  0.35428998\n",
       " 1083942924976133 195.449719519669 27.3529239196016 ...          0  0.35428998\n",
       " 1083942916587523   194.9074619582 27.3363935821814 ...          0   0.6308171\n",
       "39628422539903372 194.905624706472 27.3360199113111 ...          0   0.6308171\n",
       " 1083953662394372 196.022042543556 27.8509524059866 ...          0  0.24845725\n",
       " 1070759522861060 196.022042543556 27.8509524059866 ...          0  0.24845725\n",
       "39628433285713872 196.019818611625 27.8505014756346 ...          0  0.24845725\n",
       " 1083953662394371 196.017594698191 27.8500505096274 ...          0  0.24845725\n",
       " 1083980266864653 195.449335692238 29.0750350750396 ...          0   0.4521807\n",
       "39628459890181137    195.444218403 29.0759869287837 ...          0   0.4521807"
      ]
     },
     "execution_count": 26,
     "metadata": {},
     "output_type": "execute_result"
    }
   ],
   "source": [
    "fuji_in_Coma1 = (sep < 1.5*R2t_Coma_angle) & (SGA_fuji['Z']*c > V_Coma - 3*sigma_Coma) & (SGA_fuji['Z']*c < V_Coma + 3*sigma_Coma)\n",
    "\n",
    "fuji_in_Coma2 = (sep >= 1.5*R2t_Coma_angle) & (sep < 3*R2t_Coma_angle) & (SGA_fuji['Z']*c > V_Coma - 2*sigma_Coma) & (SGA_fuji['Z']*c < V_Coma + 2*sigma_Coma)\n",
    "\n",
    "fuji_in_Coma = fuji_in_Coma1 | fuji_in_Coma2\n",
    "\n",
    "################################################################################\n",
    "# Keep all instances of each SGA_ID that are within the Coma cluster\n",
    "#-------------------------------------------------------------------------------\n",
    "fuji_ID_in_Coma = np.unique(SGA_fuji['SGA_ID_1'][fuji_in_Coma])\n",
    "\n",
    "idx_fuji_in_coma = np.in1d(SGA_fuji['SGA_ID_1'], fuji_ID_in_Coma)\n",
    "\n",
    "inComa_fuji_table = SGA_fuji[idx_fuji_in_coma]\n",
    "################################################################################\n",
    "\n",
    "inComa_fuji_table"
   ]
  },
  {
   "cell_type": "code",
   "execution_count": 27,
   "id": "f11382a0-8cd7-4af7-ab1d-e11ec42d1c97",
   "metadata": {},
   "outputs": [
    {
     "data": {
      "text/plain": [
       "Text(0, 0.5, 'Count')"
      ]
     },
     "execution_count": 27,
     "metadata": {},
     "output_type": "execute_result"
    },
    {
     "data": {
      "image/png": "[encoded data removed]",
      "text/plain": [
       "<Figure size 432x288 with 1 Axes>"
      ]
     },
     "metadata": {
      "needs_background": "light"
     },
     "output_type": "display_data"
    }
   ],
   "source": [
    "plt.hist(sep[fuji_in_Coma].to_value('degree'))\n",
    "plt.xlabel('MaNGA-Coma Angular Separation [deg]')\n",
    "plt.ylabel('Count')"
   ]
  },
  {
   "cell_type": "code",
   "execution_count": 28,
   "id": "fd817f5a-0c76-4a02-b39c-8ab7e8dfb215",
   "metadata": {},
   "outputs": [
    {
     "data": {
      "image/png": "[encoded data removed]",
      "text/plain": [
       "<Figure size 864x360 with 2 Axes>"
      ]
     },
     "metadata": {
      "needs_background": "light"
     },
     "output_type": "display_data"
    }
   ],
   "source": [
    "fig, axes = plt.subplots(1,2, figsize=(12,5), tight_layout=True)\n",
    "ax = axes[0]\n",
    "ax.plot(inComa_fuji_table['TARGET_DEC'], inComa_fuji_table['TARGET_RA'], '.')\n",
    "ax = axes[1]\n",
    "ax.hist(inComa_fuji_table['Z']);"
   ]
  },
  {
   "cell_type": "markdown",
   "id": "e84b9c4d-b053-4dbe-8b35-262bae6ea88e",
   "metadata": {},
   "source": [
    "# Galaxies with more than one count"
   ]
  },
  {
   "cell_type": "code",
   "execution_count": 29,
   "id": "08fb274b-ad01-4f8a-8215-ab8c70621b78",
   "metadata": {},
   "outputs": [
    {
     "data": {
      "text/html": [
       "&lt;Column name=&apos;SGA_ID_1&apos; dtype=&apos;int64&apos; length=73&gt;\n",
       "<table>\n",
       "<tr><td>8032</td></tr>\n",
       "<tr><td>25532</td></tr>\n",
       "<tr><td>30149</td></tr>\n",
       "<tr><td>98934</td></tr>\n",
       "<tr><td>100987</td></tr>\n",
       "<tr><td>122260</td></tr>\n",
       "<tr><td>128944</td></tr>\n",
       "<tr><td>139660</td></tr>\n",
       "<tr><td>191275</td></tr>\n",
       "<tr><td>191496</td></tr>\n",
       "<tr><td>196592</td></tr>\n",
       "<tr><td>202666</td></tr>\n",
       "<tr><td>...</td></tr>\n",
       "<tr><td>1274189</td></tr>\n",
       "<tr><td>1274409</td></tr>\n",
       "<tr><td>1293940</td></tr>\n",
       "<tr><td>1323268</td></tr>\n",
       "<tr><td>1352019</td></tr>\n",
       "<tr><td>1356626</td></tr>\n",
       "<tr><td>1364394</td></tr>\n",
       "<tr><td>1367749</td></tr>\n",
       "<tr><td>1379275</td></tr>\n",
       "<tr><td>1387126</td></tr>\n",
       "<tr><td>1387991</td></tr>\n",
       "<tr><td>1393079</td></tr>\n",
       "</table>"
      ],
      "text/plain": [
       "<Column name='SGA_ID_1' dtype='int64' length=73>\n",
       "   8032\n",
       "  25532\n",
       "  30149\n",
       "  98934\n",
       " 100987\n",
       " 122260\n",
       " 128944\n",
       " 139660\n",
       " 191275\n",
       " 191496\n",
       " 196592\n",
       " 202666\n",
       "    ...\n",
       "1274189\n",
       "1274409\n",
       "1293940\n",
       "1323268\n",
       "1352019\n",
       "1356626\n",
       "1364394\n",
       "1367749\n",
       "1379275\n",
       "1387126\n",
       "1387991\n",
       "1393079"
      ]
     },
     "execution_count": 29,
     "metadata": {},
     "output_type": "execute_result"
    }
   ],
   "source": [
    "ids, counts = np.unique(inComa_fuji_table['SGA_ID_1'], return_counts=True)\n",
    "ids[counts > 1]"
   ]
  },
  {
   "cell_type": "code",
   "execution_count": 30,
   "id": "448d888a-48e9-4ab3-9034-d76f53dace32",
   "metadata": {},
   "outputs": [
    {
     "data": {
      "image/png": "[encoded data removed]",
      "text/plain": [
       "<Figure size 576x360 with 1 Axes>"
      ]
     },
     "metadata": {
      "needs_background": "light"
     },
     "output_type": "display_data"
    }
   ],
   "source": [
    "fig, ax = plt.subplots(1,1, figsize=(8,5), tight_layout=True)\n",
    "\n",
    "ax.hist(counts[counts > 1], bins=np.linspace(2,35,34))\n",
    "\n",
    "ax.set(xlabel='Observations per SGA_ID in Coma', \n",
    "       ylabel='count');"
   ]
  },
  {
   "cell_type": "code",
   "execution_count": 31,
   "id": "0aeeb1f6-a49c-4437-9260-9c328e57002b",
   "metadata": {},
   "outputs": [
    {
     "data": {
      "text/html": [
       "<div><i>Table length=220</i>\n",
       "<table id=\"table23453801014080\" class=\"table-striped table-bordered table-condensed\">\n",
       "<thead><tr><th>TARGETID</th><th>TARGET_RA</th><th>TARGET_DEC</th><th>HEALPIX</th><th>SURVEY</th><th>Z</th><th>ZERR</th><th>ZWARN</th><th>DELTACHI2</th><th>FILENAME</th><th>PVTYPE</th><th>SGA_ID_1</th><th>RA_1</th><th>DEC_1</th><th>SGA_ID_2</th><th>SGA_GALAXY</th><th>GALAXY</th><th>PGC</th><th>RA_LEDA</th><th>DEC_LEDA</th><th>MORPHTYPE</th><th>PA_LEDA</th><th>D25_LEDA</th><th>BA_LEDA</th><th>Z_LEDA</th><th>SB_D25_LEDA</th><th>MAG_LEDA</th><th>BYHAND</th><th>REF</th><th>GROUP_ID</th><th>GROUP_NAME</th><th>GROUP_MULT</th><th>GROUP_PRIMARY</th><th>GROUP_RA</th><th>GROUP_DEC</th><th>GROUP_DIAMETER</th><th>BRICKNAME</th><th>RA_2</th><th>DEC_2</th><th>D26</th><th>D26_REF</th><th>PA</th><th>BA</th><th>RA_MOMENT</th><th>DEC_MOMENT</th><th>SMA_MOMENT</th><th>G_SMA50</th><th>R_SMA50</th><th>Z_SMA50</th><th>SMA_SB22</th><th>SMA_SB22.5</th><th>SMA_SB23</th><th>SMA_SB23.5</th><th>SMA_SB24</th><th>SMA_SB24.5</th><th>SMA_SB25</th><th>SMA_SB25.5</th><th>SMA_SB26</th><th>G_MAG_SB22</th><th>R_MAG_SB22</th><th>Z_MAG_SB22</th><th>G_MAG_SB22.5</th><th>R_MAG_SB22.5</th><th>Z_MAG_SB22.5</th><th>G_MAG_SB23</th><th>R_MAG_SB23</th><th>Z_MAG_SB23</th><th>G_MAG_SB23.5</th><th>R_MAG_SB23.5</th><th>Z_MAG_SB23.5</th><th>G_MAG_SB24</th><th>R_MAG_SB24</th><th>Z_MAG_SB24</th><th>G_MAG_SB24.5</th><th>R_MAG_SB24.5</th><th>Z_MAG_SB24.5</th><th>G_MAG_SB25</th><th>R_MAG_SB25</th><th>Z_MAG_SB25</th><th>G_MAG_SB25.5</th><th>R_MAG_SB25.5</th><th>Z_MAG_SB25.5</th><th>G_MAG_SB26</th><th>R_MAG_SB26</th><th>Z_MAG_SB26</th><th>SMA_SB22_ERR</th><th>SMA_SB22.5_ERR</th><th>SMA_SB23_ERR</th><th>SMA_SB23.5_ERR</th><th>SMA_SB24_ERR</th><th>SMA_SB24.5_ERR</th><th>SMA_SB25_ERR</th><th>SMA_SB25.5_ERR</th><th>SMA_SB26_ERR</th><th>G_MAG_SB22_ERR</th><th>R_MAG_SB22_ERR</th><th>Z_MAG_SB22_ERR</th><th>G_MAG_SB22.5_ERR</th><th>R_MAG_SB22.5_ERR</th><th>Z_MAG_SB22.5_ERR</th><th>G_MAG_SB23_ERR</th><th>R_MAG_SB23_ERR</th><th>Z_MAG_SB23_ERR</th><th>G_MAG_SB23.5_ERR</th><th>R_MAG_SB23.5_ERR</th><th>Z_MAG_SB23.5_ERR</th><th>G_MAG_SB24_ERR</th><th>R_MAG_SB24_ERR</th><th>Z_MAG_SB24_ERR</th><th>G_MAG_SB24.5_ERR</th><th>R_MAG_SB24.5_ERR</th><th>Z_MAG_SB24.5_ERR</th><th>G_MAG_SB25_ERR</th><th>R_MAG_SB25_ERR</th><th>Z_MAG_SB25_ERR</th><th>G_MAG_SB25.5_ERR</th><th>R_MAG_SB25.5_ERR</th><th>Z_MAG_SB25.5_ERR</th><th>G_MAG_SB26_ERR</th><th>R_MAG_SB26_ERR</th><th>Z_MAG_SB26_ERR</th><th>G_COG_PARAMS_MTOT</th><th>G_COG_PARAMS_M0</th><th>G_COG_PARAMS_ALPHA1</th><th>G_COG_PARAMS_ALPHA2</th><th>G_COG_PARAMS_CHI2</th><th>R_COG_PARAMS_MTOT</th><th>R_COG_PARAMS_M0</th><th>R_COG_PARAMS_ALPHA1</th><th>R_COG_PARAMS_ALPHA2</th><th>R_COG_PARAMS_CHI2</th><th>Z_COG_PARAMS_MTOT</th><th>Z_COG_PARAMS_M0</th><th>Z_COG_PARAMS_ALPHA1</th><th>Z_COG_PARAMS_ALPHA2</th><th>Z_COG_PARAMS_CHI2</th><th>ELLIPSEBIT</th><th>cosi</th></tr></thead>\n",
       "<thead><tr><th>int64</th><th>float64</th><th>float64</th><th>int64</th><th>bytes3</th><th>float64</th><th>float64</th><th>int64</th><th>float64</th><th>bytes63</th><th>bytes3</th><th>int64</th><th>float64</th><th>float64</th><th>int64</th><th>bytes16</th><th>bytes29</th><th>int64</th><th>float64</th><th>float64</th><th>bytes21</th><th>float32</th><th>float32</th><th>float32</th><th>float32</th><th>float32</th><th>float32</th><th>bool</th><th>bytes13</th><th>int64</th><th>bytes35</th><th>int16</th><th>bool</th><th>float64</th><th>float64</th><th>float32</th><th>bytes8</th><th>float64</th><th>float64</th><th>float32</th><th>bytes4</th><th>float32</th><th>float32</th><th>float64</th><th>float64</th><th>float32</th><th>float32</th><th>float32</th><th>float32</th><th>float32</th><th>float32</th><th>float32</th><th>float32</th><th>float32</th><th>float32</th><th>float32</th><th>float32</th><th>float32</th><th>float32</th><th>float32</th><th>float32</th><th>float32</th><th>float32</th><th>float32</th><th>float32</th><th>float32</th><th>float32</th><th>float32</th><th>float32</th><th>float32</th><th>float32</th><th>float32</th><th>float32</th><th>float32</th><th>float32</th><th>float32</th><th>float32</th><th>float32</th><th>float32</th><th>float32</th><th>float32</th><th>float32</th><th>float32</th><th>float32</th><th>float32</th><th>float32</th><th>float32</th><th>float32</th><th>float32</th><th>float32</th><th>float32</th><th>float32</th><th>float32</th><th>float32</th><th>float32</th><th>float32</th><th>float32</th><th>float32</th><th>float32</th><th>float32</th><th>float32</th><th>float32</th><th>float32</th><th>float32</th><th>float32</th><th>float32</th><th>float32</th><th>float32</th><th>float32</th><th>float32</th><th>float32</th><th>float32</th><th>float32</th><th>float32</th><th>float32</th><th>float32</th><th>float32</th><th>float32</th><th>float32</th><th>float32</th><th>float32</th><th>float32</th><th>float32</th><th>float32</th><th>float32</th><th>float32</th><th>float32</th><th>float32</th><th>float32</th><th>float32</th><th>float32</th><th>float32</th><th>float32</th><th>float32</th><th>float32</th><th>float32</th><th>int32</th><th>float32</th></tr></thead>\n",
       "<tr><td>1070791412154372</td><td>195.515245590946</td><td>29.2579670504378</td><td>10404</td><td>sv3</td><td>0.0252901358683873</td><td>6.06787928236001e-05</td><td>0</td><td>205.157615634467</td><td>fuji/healpix/sv3/bright/104/10404/redrock-sv3-bright-10404.fits</td><td>TFT</td><td>8032</td><td>195.5152455909458</td><td>29.257967050437784</td><td>8032</td><td>SGA-2020 8032</td><td>PGC044973</td><td>44973</td><td>195.517491</td><td>29.2534624</td><td>S0-a</td><td>156.32</td><td>0.97949</td><td>0.2421029</td><td>0.024316488</td><td>23.724482</td><td>15.141</td><td>False</td><td>LEDA-20181114</td><td>2184</td><td>PGC044973</td><td>1</td><td>True</td><td>195.517491</td><td>29.2534624</td><td>0.97949</td><td>1955p292</td><td>195.5175248072576</td><td>29.25343316744243</td><td>1.8002833</td><td>SB26</td><td>156.31898</td><td>0.22679013</td><td>195.51743607523957</td><td>29.253486909767386</td><td>32.501602</td><td>8.985235</td><td>8.994681</td><td>9.083619</td><td>23.624466</td><td>25.627426</td><td>28.065012</td><td>31.291449</td><td>35.26118</td><td>39.489708</td><td>44.38289</td><td>49.540756</td><td>54.0085</td><td>14.082667</td><td>13.18872</td><td>12.5554495</td><td>14.06491</td><td>13.172938</td><td>12.538263</td><td>14.050751</td><td>13.159123</td><td>12.524292</td><td>14.037637</td><td>13.146002</td><td>12.511435</td><td>14.028892</td><td>13.136262</td><td>12.501996</td><td>14.019759</td><td>13.1276045</td><td>12.493453</td><td>14.010117</td><td>13.12019</td><td>12.48436</td><td>14.004535</td><td>13.115231</td><td>12.47924</td><td>14.003234</td><td>13.112325</td><td>12.477641</td><td>0.24884425</td><td>0.17718974</td><td>0.26937655</td><td>0.27095935</td><td>0.2903059</td><td>0.34909678</td><td>0.34555468</td><td>0.35385203</td><td>0.33667165</td><td>0.028146377</td><td>0.029029278</td><td>0.029033912</td><td>0.027740175</td><td>0.028643928</td><td>0.028623551</td><td>0.027410619</td><td>0.028309358</td><td>0.028285725</td><td>0.027101276</td><td>0.027988376</td><td>0.027971063</td><td>0.02688788</td><td>0.027755244</td><td>0.027735293</td><td>0.026669523</td><td>0.027540853</td><td>0.02752354</td><td>0.026443765</td><td>0.027348971</td><td>0.027301019</td><td>0.026309848</td><td>0.027225873</td><td>0.027174234</td><td>0.026272457</td><td>0.027161108</td><td>0.027130837</td><td>13.986616</td><td>725.19977</td><td>0.00082536426</td><td>2.1448386</td><td>0.022688963</td><td>13.097723</td><td>800.5032</td><td>0.0007454256</td><td>2.1946816</td><td>0.0032843333</td><td>12.46222</td><td>764.7669</td><td>0.000797078</td><td>2.1976817</td><td>0.013137172</td><td>0</td><td>0.109133735</td></tr>\n",
       "<tr><td>1070791412154373</td><td>195.519803821539</td><td>29.2488992457946</td><td>10404</td><td>sv3</td><td>0.0234660468438763</td><td>4.19131970806972e-05</td><td>0</td><td>362.855681516143</td><td>fuji/healpix/sv3/bright/104/10404/redrock-sv3-bright-10404.fits</td><td>TFT</td><td>8032</td><td>195.51980382153945</td><td>29.248899245794572</td><td>8032</td><td>SGA-2020 8032</td><td>PGC044973</td><td>44973</td><td>195.517491</td><td>29.2534624</td><td>S0-a</td><td>156.32</td><td>0.97949</td><td>0.2421029</td><td>0.024316488</td><td>23.724482</td><td>15.141</td><td>False</td><td>LEDA-20181114</td><td>2184</td><td>PGC044973</td><td>1</td><td>True</td><td>195.517491</td><td>29.2534624</td><td>0.97949</td><td>1955p292</td><td>195.5175248072576</td><td>29.25343316744243</td><td>1.8002833</td><td>SB26</td><td>156.31898</td><td>0.22679013</td><td>195.51743607523957</td><td>29.253486909767386</td><td>32.501602</td><td>8.985235</td><td>8.994681</td><td>9.083619</td><td>23.624466</td><td>25.627426</td><td>28.065012</td><td>31.291449</td><td>35.26118</td><td>39.489708</td><td>44.38289</td><td>49.540756</td><td>54.0085</td><td>14.082667</td><td>13.18872</td><td>12.5554495</td><td>14.06491</td><td>13.172938</td><td>12.538263</td><td>14.050751</td><td>13.159123</td><td>12.524292</td><td>14.037637</td><td>13.146002</td><td>12.511435</td><td>14.028892</td><td>13.136262</td><td>12.501996</td><td>14.019759</td><td>13.1276045</td><td>12.493453</td><td>14.010117</td><td>13.12019</td><td>12.48436</td><td>14.004535</td><td>13.115231</td><td>12.47924</td><td>14.003234</td><td>13.112325</td><td>12.477641</td><td>0.24884425</td><td>0.17718974</td><td>0.26937655</td><td>0.27095935</td><td>0.2903059</td><td>0.34909678</td><td>0.34555468</td><td>0.35385203</td><td>0.33667165</td><td>0.028146377</td><td>0.029029278</td><td>0.029033912</td><td>0.027740175</td><td>0.028643928</td><td>0.028623551</td><td>0.027410619</td><td>0.028309358</td><td>0.028285725</td><td>0.027101276</td><td>0.027988376</td><td>0.027971063</td><td>0.02688788</td><td>0.027755244</td><td>0.027735293</td><td>0.026669523</td><td>0.027540853</td><td>0.02752354</td><td>0.026443765</td><td>0.027348971</td><td>0.027301019</td><td>0.026309848</td><td>0.027225873</td><td>0.027174234</td><td>0.026272457</td><td>0.027161108</td><td>0.027130837</td><td>13.986616</td><td>725.19977</td><td>0.00082536426</td><td>2.1448386</td><td>0.022688963</td><td>13.097723</td><td>800.5032</td><td>0.0007454256</td><td>2.1946816</td><td>0.0032843333</td><td>12.46222</td><td>764.7669</td><td>0.000797078</td><td>2.1976817</td><td>0.013137172</td><td>0</td><td>0.109133735</td></tr>\n",
       "<tr><td>39628465175004507</td><td>195.517524807258</td><td>29.2534331674424</td><td>10404</td><td>sv3</td><td>0.0244247831805082</td><td>1.18518681386277e-05</td><td>0</td><td>27218.3984357063</td><td>fuji/healpix/sv3/bright/104/10404/redrock-sv3-bright-10404.fits</td><td>TFT</td><td>8032</td><td>195.5175248072576</td><td>29.25343316744243</td><td>8032</td><td>SGA-2020 8032</td><td>PGC044973</td><td>44973</td><td>195.517491</td><td>29.2534624</td><td>S0-a</td><td>156.32</td><td>0.97949</td><td>0.2421029</td><td>0.024316488</td><td>23.724482</td><td>15.141</td><td>False</td><td>LEDA-20181114</td><td>2184</td><td>PGC044973</td><td>1</td><td>True</td><td>195.517491</td><td>29.2534624</td><td>0.97949</td><td>1955p292</td><td>195.5175248072576</td><td>29.25343316744243</td><td>1.8002833</td><td>SB26</td><td>156.31898</td><td>0.22679013</td><td>195.51743607523957</td><td>29.253486909767386</td><td>32.501602</td><td>8.985235</td><td>8.994681</td><td>9.083619</td><td>23.624466</td><td>25.627426</td><td>28.065012</td><td>31.291449</td><td>35.26118</td><td>39.489708</td><td>44.38289</td><td>49.540756</td><td>54.0085</td><td>14.082667</td><td>13.18872</td><td>12.5554495</td><td>14.06491</td><td>13.172938</td><td>12.538263</td><td>14.050751</td><td>13.159123</td><td>12.524292</td><td>14.037637</td><td>13.146002</td><td>12.511435</td><td>14.028892</td><td>13.136262</td><td>12.501996</td><td>14.019759</td><td>13.1276045</td><td>12.493453</td><td>14.010117</td><td>13.12019</td><td>12.48436</td><td>14.004535</td><td>13.115231</td><td>12.47924</td><td>14.003234</td><td>13.112325</td><td>12.477641</td><td>0.24884425</td><td>0.17718974</td><td>0.26937655</td><td>0.27095935</td><td>0.2903059</td><td>0.34909678</td><td>0.34555468</td><td>0.35385203</td><td>0.33667165</td><td>0.028146377</td><td>0.029029278</td><td>0.029033912</td><td>0.027740175</td><td>0.028643928</td><td>0.028623551</td><td>0.027410619</td><td>0.028309358</td><td>0.028285725</td><td>0.027101276</td><td>0.027988376</td><td>0.027971063</td><td>0.02688788</td><td>0.027755244</td><td>0.027735293</td><td>0.026669523</td><td>0.027540853</td><td>0.02752354</td><td>0.026443765</td><td>0.027348971</td><td>0.027301019</td><td>0.026309848</td><td>0.027225873</td><td>0.027174234</td><td>0.026272457</td><td>0.027161108</td><td>0.027130837</td><td>13.986616</td><td>725.19977</td><td>0.00082536426</td><td>2.1448386</td><td>0.022688963</td><td>13.097723</td><td>800.5032</td><td>0.0007454256</td><td>2.1946816</td><td>0.0032843333</td><td>12.46222</td><td>764.7669</td><td>0.000797078</td><td>2.1976817</td><td>0.013137172</td><td>0</td><td>0.109133735</td></tr>\n",
       "<tr><td>39628443968603627</td><td>195.976671467044</td><td>28.3106237904758</td><td>10382</td><td>sv3</td><td>0.0267297616862906</td><td>4.1429870267411e-06</td><td>0</td><td>1446.40725709498</td><td>fuji/healpix/sv3/bright/103/10382/redrock-sv3-bright-10382.fits</td><td>TFT</td><td>25532</td><td>195.97667146704435</td><td>28.31062379047577</td><td>25532</td><td>SGA-2020 25532</td><td>SDSSJ130354.42+281837.9</td><td>4107586</td><td>195.9767025</td><td>28.310474100000004</td><td>S?</td><td>166.76</td><td>0.40405336</td><td>0.50740194</td><td>0.026749838</td><td>23.873674</td><td>17.213</td><td>False</td><td>LEDA-20181114</td><td>6819</td><td>SDSSJ130354.42+281837.9</td><td>1</td><td>True</td><td>195.9767025</td><td>28.310474100000004</td><td>0.40405336</td><td>1960p282</td><td>195.97667146704435</td><td>28.31062379047577</td><td>0.791036</td><td>SB26</td><td>161.18756</td><td>0.55564547</td><td>195.97656966701223</td><td>28.310650982288717</td><td>18.834179</td><td>19.184307</td><td>19.752268</td><td>36.091793</td><td>-1.0</td><td>1.7119654</td><td>3.7173758</td><td>6.900119</td><td>9.907776</td><td>13.35609</td><td>16.801786</td><td>20.405842</td><td>23.731081</td><td>-1.0</td><td>-1.0</td><td>-1.0</td><td>20.706158</td><td>20.35425</td><td>20.04227</td><td>19.36581</td><td>18.990892</td><td>18.701727</td><td>18.502205</td><td>18.118683</td><td>17.876488</td><td>18.048151</td><td>17.671566</td><td>17.476873</td><td>17.731274</td><td>17.358215</td><td>17.176588</td><td>17.519728</td><td>17.148079</td><td>16.978123</td><td>17.368778</td><td>17.000885</td><td>16.83452</td><td>17.279095</td><td>16.91376</td><td>16.731997</td><td>-1.0</td><td>0.019494459</td><td>0.028828895</td><td>0.042468164</td><td>0.05867041</td><td>0.078144304</td><td>0.09247545</td><td>0.13441253</td><td>0.17492415</td><td>-1.0</td><td>-1.0</td><td>-1.0</td><td>0.029355431</td><td>0.025699927</td><td>0.037269406</td><td>0.014447774</td><td>0.013454323</td><td>0.018270632</td><td>0.011132489</td><td>0.009945563</td><td>0.013540759</td><td>0.008731338</td><td>0.008016314</td><td>0.011215353</td><td>0.007031184</td><td>0.0067533953</td><td>0.009951402</td><td>0.0061839516</td><td>0.006110009</td><td>0.009497991</td><td>0.005727287</td><td>0.005688859</td><td>0.00928647</td><td>0.0054369103</td><td>0.005556694</td><td>0.009177039</td><td>16.667498</td><td>1.449297</td><td>1.5652359</td><td>1.2778447</td><td>8.244046</td><td>16.277807</td><td>1.6270032</td><td>1.3319848</td><td>1.2009833</td><td>9.118069</td><td>15.731997</td><td>3.3302157</td><td>0.67887783</td><td>0.7673344</td><td>2.0021436</td><td>0</td><td>0.5290931</td></tr>\n",
       "<tr><td>1070770205753346</td><td>195.975874659355</td><td>28.3126829285018</td><td>10382</td><td>sv3</td><td>0.0266181306039819</td><td>7.23308564602391e-06</td><td>0</td><td>360.41642194055</td><td>fuji/healpix/sv3/bright/103/10382/redrock-sv3-bright-10382.fits</td><td>TFT</td><td>25532</td><td>195.97587465935464</td><td>28.312682928501765</td><td>25532</td><td>SGA-2020 25532</td><td>SDSSJ130354.42+281837.9</td><td>4107586</td><td>195.9767025</td><td>28.310474100000004</td><td>S?</td><td>166.76</td><td>0.40405336</td><td>0.50740194</td><td>0.026749838</td><td>23.873674</td><td>17.213</td><td>False</td><td>LEDA-20181114</td><td>6819</td><td>SDSSJ130354.42+281837.9</td><td>1</td><td>True</td><td>195.9767025</td><td>28.310474100000004</td><td>0.40405336</td><td>1960p282</td><td>195.97667146704435</td><td>28.31062379047577</td><td>0.791036</td><td>SB26</td><td>161.18756</td><td>0.55564547</td><td>195.97656966701223</td><td>28.310650982288717</td><td>18.834179</td><td>19.184307</td><td>19.752268</td><td>36.091793</td><td>-1.0</td><td>1.7119654</td><td>3.7173758</td><td>6.900119</td><td>9.907776</td><td>13.35609</td><td>16.801786</td><td>20.405842</td><td>23.731081</td><td>-1.0</td><td>-1.0</td><td>-1.0</td><td>20.706158</td><td>20.35425</td><td>20.04227</td><td>19.36581</td><td>18.990892</td><td>18.701727</td><td>18.502205</td><td>18.118683</td><td>17.876488</td><td>18.048151</td><td>17.671566</td><td>17.476873</td><td>17.731274</td><td>17.358215</td><td>17.176588</td><td>17.519728</td><td>17.148079</td><td>16.978123</td><td>17.368778</td><td>17.000885</td><td>16.83452</td><td>17.279095</td><td>16.91376</td><td>16.731997</td><td>-1.0</td><td>0.019494459</td><td>0.028828895</td><td>0.042468164</td><td>0.05867041</td><td>0.078144304</td><td>0.09247545</td><td>0.13441253</td><td>0.17492415</td><td>-1.0</td><td>-1.0</td><td>-1.0</td><td>0.029355431</td><td>0.025699927</td><td>0.037269406</td><td>0.014447774</td><td>0.013454323</td><td>0.018270632</td><td>0.011132489</td><td>0.009945563</td><td>0.013540759</td><td>0.008731338</td><td>0.008016314</td><td>0.011215353</td><td>0.007031184</td><td>0.0067533953</td><td>0.009951402</td><td>0.0061839516</td><td>0.006110009</td><td>0.009497991</td><td>0.005727287</td><td>0.005688859</td><td>0.00928647</td><td>0.0054369103</td><td>0.005556694</td><td>0.009177039</td><td>16.667498</td><td>1.449297</td><td>1.5652359</td><td>1.2778447</td><td>8.244046</td><td>16.277807</td><td>1.6270032</td><td>1.3319848</td><td>1.2009833</td><td>9.118069</td><td>15.731997</td><td>3.3302157</td><td>0.67887783</td><td>0.7673344</td><td>2.0021436</td><td>0</td><td>0.5290931</td></tr>\n",
       "<tr><td>1070770205753345</td><td>195.975053673706</td><td>28.3148044598103</td><td>10382</td><td>sv3</td><td>0.0265032660301453</td><td>6.41605273017374e-06</td><td>0</td><td>561.488182786852</td><td>fuji/healpix/sv3/bright/103/10382/redrock-sv3-bright-10382.fits</td><td>TFT</td><td>25532</td><td>195.97505367370567</td><td>28.314804459810254</td><td>25532</td><td>SGA-2020 25532</td><td>SDSSJ130354.42+281837.9</td><td>4107586</td><td>195.9767025</td><td>28.310474100000004</td><td>S?</td><td>166.76</td><td>0.40405336</td><td>0.50740194</td><td>0.026749838</td><td>23.873674</td><td>17.213</td><td>False</td><td>LEDA-20181114</td><td>6819</td><td>SDSSJ130354.42+281837.9</td><td>1</td><td>True</td><td>195.9767025</td><td>28.310474100000004</td><td>0.40405336</td><td>1960p282</td><td>195.97667146704435</td><td>28.31062379047577</td><td>0.791036</td><td>SB26</td><td>161.18756</td><td>0.55564547</td><td>195.97656966701223</td><td>28.310650982288717</td><td>18.834179</td><td>19.184307</td><td>19.752268</td><td>36.091793</td><td>-1.0</td><td>1.7119654</td><td>3.7173758</td><td>6.900119</td><td>9.907776</td><td>13.35609</td><td>16.801786</td><td>20.405842</td><td>23.731081</td><td>-1.0</td><td>-1.0</td><td>-1.0</td><td>20.706158</td><td>20.35425</td><td>20.04227</td><td>19.36581</td><td>18.990892</td><td>18.701727</td><td>18.502205</td><td>18.118683</td><td>17.876488</td><td>18.048151</td><td>17.671566</td><td>17.476873</td><td>17.731274</td><td>17.358215</td><td>17.176588</td><td>17.519728</td><td>17.148079</td><td>16.978123</td><td>17.368778</td><td>17.000885</td><td>16.83452</td><td>17.279095</td><td>16.91376</td><td>16.731997</td><td>-1.0</td><td>0.019494459</td><td>0.028828895</td><td>0.042468164</td><td>0.05867041</td><td>0.078144304</td><td>0.09247545</td><td>0.13441253</td><td>0.17492415</td><td>-1.0</td><td>-1.0</td><td>-1.0</td><td>0.029355431</td><td>0.025699927</td><td>0.037269406</td><td>0.014447774</td><td>0.013454323</td><td>0.018270632</td><td>0.011132489</td><td>0.009945563</td><td>0.013540759</td><td>0.008731338</td><td>0.008016314</td><td>0.011215353</td><td>0.007031184</td><td>0.0067533953</td><td>0.009951402</td><td>0.0061839516</td><td>0.006110009</td><td>0.009497991</td><td>0.005727287</td><td>0.005688859</td><td>0.00928647</td><td>0.0054369103</td><td>0.005556694</td><td>0.009177039</td><td>16.667498</td><td>1.449297</td><td>1.5652359</td><td>1.2778447</td><td>8.244046</td><td>16.277807</td><td>1.6270032</td><td>1.3319848</td><td>1.2009833</td><td>9.118069</td><td>15.731997</td><td>3.3302157</td><td>0.67887783</td><td>0.7673344</td><td>2.0021436</td><td>0</td><td>0.5290931</td></tr>\n",
       "<tr><td>1070770205753347</td><td>195.977468243883</td><td>28.3085646478233</td><td>10382</td><td>sv3</td><td>0.0268898479700191</td><td>1.09741785811151e-05</td><td>0</td><td>184.704244860448</td><td>fuji/healpix/sv3/bright/103/10382/redrock-sv3-bright-10382.fits</td><td>TFT</td><td>25532</td><td>195.97746824388287</td><td>28.30856464782329</td><td>25532</td><td>SGA-2020 25532</td><td>SDSSJ130354.42+281837.9</td><td>4107586</td><td>195.9767025</td><td>28.310474100000004</td><td>S?</td><td>166.76</td><td>0.40405336</td><td>0.50740194</td><td>0.026749838</td><td>23.873674</td><td>17.213</td><td>False</td><td>LEDA-20181114</td><td>6819</td><td>SDSSJ130354.42+281837.9</td><td>1</td><td>True</td><td>195.9767025</td><td>28.310474100000004</td><td>0.40405336</td><td>1960p282</td><td>195.97667146704435</td><td>28.31062379047577</td><td>0.791036</td><td>SB26</td><td>161.18756</td><td>0.55564547</td><td>195.97656966701223</td><td>28.310650982288717</td><td>18.834179</td><td>19.184307</td><td>19.752268</td><td>36.091793</td><td>-1.0</td><td>1.7119654</td><td>3.7173758</td><td>6.900119</td><td>9.907776</td><td>13.35609</td><td>16.801786</td><td>20.405842</td><td>23.731081</td><td>-1.0</td><td>-1.0</td><td>-1.0</td><td>20.706158</td><td>20.35425</td><td>20.04227</td><td>19.36581</td><td>18.990892</td><td>18.701727</td><td>18.502205</td><td>18.118683</td><td>17.876488</td><td>18.048151</td><td>17.671566</td><td>17.476873</td><td>17.731274</td><td>17.358215</td><td>17.176588</td><td>17.519728</td><td>17.148079</td><td>16.978123</td><td>17.368778</td><td>17.000885</td><td>16.83452</td><td>17.279095</td><td>16.91376</td><td>16.731997</td><td>-1.0</td><td>0.019494459</td><td>0.028828895</td><td>0.042468164</td><td>0.05867041</td><td>0.078144304</td><td>0.09247545</td><td>0.13441253</td><td>0.17492415</td><td>-1.0</td><td>-1.0</td><td>-1.0</td><td>0.029355431</td><td>0.025699927</td><td>0.037269406</td><td>0.014447774</td><td>0.013454323</td><td>0.018270632</td><td>0.011132489</td><td>0.009945563</td><td>0.013540759</td><td>0.008731338</td><td>0.008016314</td><td>0.011215353</td><td>0.007031184</td><td>0.0067533953</td><td>0.009951402</td><td>0.0061839516</td><td>0.006110009</td><td>0.009497991</td><td>0.005727287</td><td>0.005688859</td><td>0.00928647</td><td>0.0054369103</td><td>0.005556694</td><td>0.009177039</td><td>16.667498</td><td>1.449297</td><td>1.5652359</td><td>1.2778447</td><td>8.244046</td><td>16.277807</td><td>1.6270032</td><td>1.3319848</td><td>1.2009833</td><td>9.118069</td><td>15.731997</td><td>3.3302157</td><td>0.67887783</td><td>0.7673344</td><td>2.0021436</td><td>0</td><td>0.5290931</td></tr>\n",
       "<tr><td>1083958997549080</td><td>195.042081793254</td><td>27.9581688975333</td><td>10379</td><td>sv3</td><td>0.0210808812073517</td><td>4.2847130044504e-05</td><td>0</td><td>160.088578002062</td><td>fuji/healpix/sv3/dark/103/10379/redrock-sv3-dark-10379.fits</td><td>TFT</td><td>30149</td><td>195.04208179325386</td><td>27.958168897533294</td><td>30149</td><td>SGA-2020 30149</td><td>PGC1822502</td><td>1822502</td><td>195.04323000000002</td><td>27.959173600000003</td><td>S?</td><td>41.03</td><td>0.3767038</td><td>0.40086672</td><td>0.021114606</td><td>24.114483</td><td>17.606</td><td>False</td><td>LEDA-20181114</td><td>8051</td><td>NGC4884_GROUP</td><td>9</td><td>False</td><td>195.04084100953196</td><td>27.977352259115825</td><td>3.4572668</td><td>1951p280</td><td>195.04313321875534</td><td>27.959071290945204</td><td>0.47087973</td><td>LEDA</td><td>45.82364</td><td>0.4299609</td><td>195.04305082113262</td><td>27.959144071847415</td><td>13.603296</td><td>-1.0</td><td>-1.0</td><td>-1.0</td><td>-1.0</td><td>-1.0</td><td>-1.0</td><td>-1.0</td><td>-1.0</td><td>-1.0</td><td>-1.0</td><td>-1.0</td><td>-1.0</td><td>-1.0</td><td>-1.0</td><td>-1.0</td><td>-1.0</td><td>-1.0</td><td>-1.0</td><td>-1.0</td><td>-1.0</td><td>-1.0</td><td>-1.0</td><td>-1.0</td><td>-1.0</td><td>-1.0</td><td>-1.0</td><td>-1.0</td><td>-1.0</td><td>-1.0</td><td>-1.0</td><td>-1.0</td><td>-1.0</td><td>-1.0</td><td>-1.0</td><td>-1.0</td><td>-1.0</td><td>-1.0</td><td>-1.0</td><td>-1.0</td><td>-1.0</td><td>-1.0</td><td>-1.0</td><td>-1.0</td><td>-1.0</td><td>-1.0</td><td>-1.0</td><td>-1.0</td><td>-1.0</td><td>-1.0</td><td>-1.0</td><td>-1.0</td><td>-1.0</td><td>-1.0</td><td>-1.0</td><td>-1.0</td><td>-1.0</td><td>-1.0</td><td>-1.0</td><td>-1.0</td><td>-1.0</td><td>-1.0</td><td>-1.0</td><td>-1.0</td><td>-1.0</td><td>-1.0</td><td>-1.0</td><td>-1.0</td><td>-1.0</td><td>-1.0</td><td>-1.0</td><td>-1.0</td><td>-1.0</td><td>-1.0</td><td>-1.0</td><td>-1.0</td><td>-1.0</td><td>-1.0</td><td>-1.0</td><td>-1.0</td><td>-1.0</td><td>-1.0</td><td>-1.0</td><td>-1.0</td><td>-1.0</td><td>-1.0</td><td>-1.0</td><td>-1.0</td><td>-1.0</td><td>-1.0</td><td>-1.0</td><td>0</td><td>0.38846168</td></tr>\n",
       "<tr><td>1083958997549079</td><td>195.040998524759</td><td>27.9572391505097</td><td>10379</td><td>sv3</td><td>-8.28317671698973e-05</td><td>4.26374613176851e-05</td><td>0</td><td>106.227713077675</td><td>fuji/healpix/sv3/dark/103/10379/redrock-sv3-dark-10379.fits</td><td>TFT</td><td>30149</td><td>195.04099852475943</td><td>27.957239150509707</td><td>30149</td><td>SGA-2020 30149</td><td>PGC1822502</td><td>1822502</td><td>195.04323000000002</td><td>27.959173600000003</td><td>S?</td><td>41.03</td><td>0.3767038</td><td>0.40086672</td><td>0.021114606</td><td>24.114483</td><td>17.606</td><td>False</td><td>LEDA-20181114</td><td>8051</td><td>NGC4884_GROUP</td><td>9</td><td>False</td><td>195.04084100953196</td><td>27.977352259115825</td><td>3.4572668</td><td>1951p280</td><td>195.04313321875534</td><td>27.959071290945204</td><td>0.47087973</td><td>LEDA</td><td>45.82364</td><td>0.4299609</td><td>195.04305082113262</td><td>27.959144071847415</td><td>13.603296</td><td>-1.0</td><td>-1.0</td><td>-1.0</td><td>-1.0</td><td>-1.0</td><td>-1.0</td><td>-1.0</td><td>-1.0</td><td>-1.0</td><td>-1.0</td><td>-1.0</td><td>-1.0</td><td>-1.0</td><td>-1.0</td><td>-1.0</td><td>-1.0</td><td>-1.0</td><td>-1.0</td><td>-1.0</td><td>-1.0</td><td>-1.0</td><td>-1.0</td><td>-1.0</td><td>-1.0</td><td>-1.0</td><td>-1.0</td><td>-1.0</td><td>-1.0</td><td>-1.0</td><td>-1.0</td><td>-1.0</td><td>-1.0</td><td>-1.0</td><td>-1.0</td><td>-1.0</td><td>-1.0</td><td>-1.0</td><td>-1.0</td><td>-1.0</td><td>-1.0</td><td>-1.0</td><td>-1.0</td><td>-1.0</td><td>-1.0</td><td>-1.0</td><td>-1.0</td><td>-1.0</td><td>-1.0</td><td>-1.0</td><td>-1.0</td><td>-1.0</td><td>-1.0</td><td>-1.0</td><td>-1.0</td><td>-1.0</td><td>-1.0</td><td>-1.0</td><td>-1.0</td><td>-1.0</td><td>-1.0</td><td>-1.0</td><td>-1.0</td><td>-1.0</td><td>-1.0</td><td>-1.0</td><td>-1.0</td><td>-1.0</td><td>-1.0</td><td>-1.0</td><td>-1.0</td><td>-1.0</td><td>-1.0</td><td>-1.0</td><td>-1.0</td><td>-1.0</td><td>-1.0</td><td>-1.0</td><td>-1.0</td><td>-1.0</td><td>-1.0</td><td>-1.0</td><td>-1.0</td><td>-1.0</td><td>-1.0</td><td>-1.0</td><td>-1.0</td><td>-1.0</td><td>-1.0</td><td>-1.0</td><td>-1.0</td><td>0</td><td>0.38846168</td></tr>\n",
       "<tr><td>39628438620866050</td><td>195.043133218755</td><td>27.9590712909452</td><td>10379</td><td>sv3</td><td>0.0211546177246642</td><td>4.06212715697737e-05</td><td>0</td><td>243.467872502879</td><td>fuji/healpix/sv3/bright/103/10379/redrock-sv3-bright-10379.fits</td><td>TFT</td><td>30149</td><td>195.04313321875534</td><td>27.959071290945204</td><td>30149</td><td>SGA-2020 30149</td><td>PGC1822502</td><td>1822502</td><td>195.04323000000002</td><td>27.959173600000003</td><td>S?</td><td>41.03</td><td>0.3767038</td><td>0.40086672</td><td>0.021114606</td><td>24.114483</td><td>17.606</td><td>False</td><td>LEDA-20181114</td><td>8051</td><td>NGC4884_GROUP</td><td>9</td><td>False</td><td>195.04084100953196</td><td>27.977352259115825</td><td>3.4572668</td><td>1951p280</td><td>195.04313321875534</td><td>27.959071290945204</td><td>0.47087973</td><td>LEDA</td><td>45.82364</td><td>0.4299609</td><td>195.04305082113262</td><td>27.959144071847415</td><td>13.603296</td><td>-1.0</td><td>-1.0</td><td>-1.0</td><td>-1.0</td><td>-1.0</td><td>-1.0</td><td>-1.0</td><td>-1.0</td><td>-1.0</td><td>-1.0</td><td>-1.0</td><td>-1.0</td><td>-1.0</td><td>-1.0</td><td>-1.0</td><td>-1.0</td><td>-1.0</td><td>-1.0</td><td>-1.0</td><td>-1.0</td><td>-1.0</td><td>-1.0</td><td>-1.0</td><td>-1.0</td><td>-1.0</td><td>-1.0</td><td>-1.0</td><td>-1.0</td><td>-1.0</td><td>-1.0</td><td>-1.0</td><td>-1.0</td><td>-1.0</td><td>-1.0</td><td>-1.0</td><td>-1.0</td><td>-1.0</td><td>-1.0</td><td>-1.0</td><td>-1.0</td><td>-1.0</td><td>-1.0</td><td>-1.0</td><td>-1.0</td><td>-1.0</td><td>-1.0</td><td>-1.0</td><td>-1.0</td><td>-1.0</td><td>-1.0</td><td>-1.0</td><td>-1.0</td><td>-1.0</td><td>-1.0</td><td>-1.0</td><td>-1.0</td><td>-1.0</td><td>-1.0</td><td>-1.0</td><td>-1.0</td><td>-1.0</td><td>-1.0</td><td>-1.0</td><td>-1.0</td><td>-1.0</td><td>-1.0</td><td>-1.0</td><td>-1.0</td><td>-1.0</td><td>-1.0</td><td>-1.0</td><td>-1.0</td><td>-1.0</td><td>-1.0</td><td>-1.0</td><td>-1.0</td><td>-1.0</td><td>-1.0</td><td>-1.0</td><td>-1.0</td><td>-1.0</td><td>-1.0</td><td>-1.0</td><td>-1.0</td><td>-1.0</td><td>-1.0</td><td>-1.0</td><td>-1.0</td><td>-1.0</td><td>-1.0</td><td>0</td><td>0.38846168</td></tr>\n",
       "<tr><td>...</td><td>...</td><td>...</td><td>...</td><td>...</td><td>...</td><td>...</td><td>...</td><td>...</td><td>...</td><td>...</td><td>...</td><td>...</td><td>...</td><td>...</td><td>...</td><td>...</td><td>...</td><td>...</td><td>...</td><td>...</td><td>...</td><td>...</td><td>...</td><td>...</td><td>...</td><td>...</td><td>...</td><td>...</td><td>...</td><td>...</td><td>...</td><td>...</td><td>...</td><td>...</td><td>...</td><td>...</td><td>...</td><td>...</td><td>...</td><td>...</td><td>...</td><td>...</td><td>...</td><td>...</td><td>...</td><td>...</td><td>...</td><td>...</td><td>...</td><td>...</td><td>...</td><td>...</td><td>...</td><td>...</td><td>...</td><td>...</td><td>...</td><td>...</td><td>...</td><td>...</td><td>...</td><td>...</td><td>...</td><td>...</td><td>...</td><td>...</td><td>...</td><td>...</td><td>...</td><td>...</td><td>...</td><td>...</td><td>...</td><td>...</td><td>...</td><td>...</td><td>...</td><td>...</td><td>...</td><td>...</td><td>...</td><td>...</td><td>...</td><td>...</td><td>...</td><td>...</td><td>...</td><td>...</td><td>...</td><td>...</td><td>...</td><td>...</td><td>...</td><td>...</td><td>...</td><td>...</td><td>...</td><td>...</td><td>...</td><td>...</td><td>...</td><td>...</td><td>...</td><td>...</td><td>...</td><td>...</td><td>...</td><td>...</td><td>...</td><td>...</td><td>...</td><td>...</td><td>...</td><td>...</td><td>...</td><td>...</td><td>...</td><td>...</td><td>...</td><td>...</td><td>...</td><td>...</td><td>...</td><td>...</td><td>...</td><td>...</td><td>...</td><td>...</td><td>...</td><td>...</td><td>...</td><td>...</td><td>...</td><td>...</td><td>...</td><td>...</td><td>...</td></tr>\n",
       "<tr><td>39628422548291710</td><td>195.44990644241</td><td>27.3547921983049</td><td>10379</td><td>sv3</td><td>0.0202592517081387</td><td>4.16721334032235e-05</td><td>0</td><td>391.434699365142</td><td>fuji/healpix/sv3/bright/103/10379/redrock-sv3-bright-10379.fits</td><td>TFT</td><td>1379275</td><td>195.44990644240988</td><td>27.35479219830488</td><td>1379275</td><td>SGA-2020 1379275</td><td>PGC1805533</td><td>1805533</td><td>195.44992200000002</td><td>27.3547627</td><td>S?</td><td>5.7</td><td>0.3819443</td><td>0.48977882</td><td>0.020199642</td><td>24.43748</td><td>17.899</td><td>False</td><td>LEDA-20181114</td><td>504577</td><td>PGC1805533</td><td>1</td><td>True</td><td>195.44992200000002</td><td>27.3547627</td><td>0.3819443</td><td>1955p272</td><td>195.44990644240988</td><td>27.35479219830488</td><td>0.68205124</td><td>SB26</td><td>5.0782175</td><td>0.40062517</td><td>195.44981509104716</td><td>27.354839637546096</td><td>14.749811</td><td>7.2933497</td><td>7.309737</td><td>6.9485893</td><td>4.1433725</td><td>5.822983</td><td>7.5516224</td><td>9.4546385</td><td>11.434655</td><td>13.545329</td><td>15.834828</td><td>18.145588</td><td>20.461536</td><td>18.72244</td><td>18.062042</td><td>17.542185</td><td>18.323318</td><td>17.64903</td><td>17.146284</td><td>18.068378</td><td>17.385584</td><td>16.895168</td><td>17.890787</td><td>17.19715</td><td>16.718552</td><td>17.766336</td><td>17.067669</td><td>16.596172</td><td>17.674343</td><td>16.972599</td><td>16.506882</td><td>17.605347</td><td>16.903214</td><td>16.440067</td><td>17.557861</td><td>16.85428</td><td>16.394932</td><td>17.521797</td><td>16.819008</td><td>16.364166</td><td>0.02047565</td><td>0.03721214</td><td>0.032362938</td><td>0.05057297</td><td>0.04768284</td><td>0.073076926</td><td>0.076436125</td><td>0.08607934</td><td>0.1161019</td><td>0.01847772</td><td>0.017710984</td><td>0.018666534</td><td>0.015323772</td><td>0.014495287</td><td>0.015408269</td><td>0.013466433</td><td>0.012764654</td><td>0.013677388</td><td>0.012360669</td><td>0.011623558</td><td>0.012569134</td><td>0.011463308</td><td>0.010741893</td><td>0.011713805</td><td>0.010784702</td><td>0.010111048</td><td>0.011054767</td><td>0.010269946</td><td>0.009629263</td><td>0.010537275</td><td>0.00989154</td><td>0.009286731</td><td>0.010205157</td><td>0.009610971</td><td>0.009022571</td><td>0.009949101</td><td>17.348276</td><td>0.9599981</td><td>0.68709105</td><td>1.7403759</td><td>0.045214556</td><td>16.663265</td><td>0.8389734</td><td>0.7982336</td><td>1.9098032</td><td>0.022824906</td><td>16.218672</td><td>0.8118777</td><td>0.7615958</td><td>1.9105182</td><td>0.10105601</td><td>0</td><td>0.35428998</td></tr>\n",
       "<tr><td>1083942924976133</td><td>195.449719519669</td><td>27.3529239196016</td><td>10379</td><td>sv3</td><td>0.0205223577611193</td><td>9.55364031501921e-05</td><td>0</td><td>44.9840724148089</td><td>fuji/healpix/sv3/dark/103/10379/redrock-sv3-dark-10379.fits</td><td>TFT</td><td>1379275</td><td>195.44971951966932</td><td>27.35292391960156</td><td>1379275</td><td>SGA-2020 1379275</td><td>PGC1805533</td><td>1805533</td><td>195.44992200000002</td><td>27.3547627</td><td>S?</td><td>5.7</td><td>0.3819443</td><td>0.48977882</td><td>0.020199642</td><td>24.43748</td><td>17.899</td><td>False</td><td>LEDA-20181114</td><td>504577</td><td>PGC1805533</td><td>1</td><td>True</td><td>195.44992200000002</td><td>27.3547627</td><td>0.3819443</td><td>1955p272</td><td>195.44990644240988</td><td>27.35479219830488</td><td>0.68205124</td><td>SB26</td><td>5.0782175</td><td>0.40062517</td><td>195.44981509104716</td><td>27.354839637546096</td><td>14.749811</td><td>7.2933497</td><td>7.309737</td><td>6.9485893</td><td>4.1433725</td><td>5.822983</td><td>7.5516224</td><td>9.4546385</td><td>11.434655</td><td>13.545329</td><td>15.834828</td><td>18.145588</td><td>20.461536</td><td>18.72244</td><td>18.062042</td><td>17.542185</td><td>18.323318</td><td>17.64903</td><td>17.146284</td><td>18.068378</td><td>17.385584</td><td>16.895168</td><td>17.890787</td><td>17.19715</td><td>16.718552</td><td>17.766336</td><td>17.067669</td><td>16.596172</td><td>17.674343</td><td>16.972599</td><td>16.506882</td><td>17.605347</td><td>16.903214</td><td>16.440067</td><td>17.557861</td><td>16.85428</td><td>16.394932</td><td>17.521797</td><td>16.819008</td><td>16.364166</td><td>0.02047565</td><td>0.03721214</td><td>0.032362938</td><td>0.05057297</td><td>0.04768284</td><td>0.073076926</td><td>0.076436125</td><td>0.08607934</td><td>0.1161019</td><td>0.01847772</td><td>0.017710984</td><td>0.018666534</td><td>0.015323772</td><td>0.014495287</td><td>0.015408269</td><td>0.013466433</td><td>0.012764654</td><td>0.013677388</td><td>0.012360669</td><td>0.011623558</td><td>0.012569134</td><td>0.011463308</td><td>0.010741893</td><td>0.011713805</td><td>0.010784702</td><td>0.010111048</td><td>0.011054767</td><td>0.010269946</td><td>0.009629263</td><td>0.010537275</td><td>0.00989154</td><td>0.009286731</td><td>0.010205157</td><td>0.009610971</td><td>0.009022571</td><td>0.009949101</td><td>17.348276</td><td>0.9599981</td><td>0.68709105</td><td>1.7403759</td><td>0.045214556</td><td>16.663265</td><td>0.8389734</td><td>0.7982336</td><td>1.9098032</td><td>0.022824906</td><td>16.218672</td><td>0.8118777</td><td>0.7615958</td><td>1.9105182</td><td>0.10105601</td><td>0</td><td>0.35428998</td></tr>\n",
       "<tr><td>1083942916587523</td><td>194.9074619582</td><td>27.3363935821814</td><td>10378</td><td>sv3</td><td>0.0231924149715187</td><td>5.03661790309003e-05</td><td>0</td><td>45.9586618230314</td><td>fuji/healpix/sv3/dark/103/10378/redrock-sv3-dark-10378.fits</td><td>TFT</td><td>1387126</td><td>194.9074619581997</td><td>27.33639358218142</td><td>1387126</td><td>SGA-2020 1387126</td><td>PGC083733</td><td>83733</td><td>194.90559</td><td>27.336044399999995</td><td>S0</td><td>73.0</td><td>0.4698941</td><td>0.6338697</td><td>0.023257088</td><td>24.423481</td><td>17.435</td><td>False</td><td>LEDA-20181114</td><td>506838</td><td>PGC083733</td><td>1</td><td>True</td><td>194.90559</td><td>27.336044399999995</td><td>0.4698941</td><td>1950p272</td><td>194.90562470647154</td><td>27.336019911311073</td><td>0.6088404</td><td>SB26</td><td>77.10377</td><td>0.6496253</td><td>194.90554762374967</td><td>27.33608786924445</td><td>13.187623</td><td>5.075589</td><td>5.1655507</td><td>5.217395</td><td>4.5053186</td><td>5.829584</td><td>7.264593</td><td>8.852258</td><td>10.534994</td><td>12.265147</td><td>14.081976</td><td>16.20923</td><td>18.265213</td><td>17.780241</td><td>17.057734</td><td>16.523172</td><td>17.553785</td><td>16.826157</td><td>16.293283</td><td>17.388277</td><td>16.660633</td><td>16.129866</td><td>17.261856</td><td>16.53334</td><td>16.005472</td><td>17.169636</td><td>16.440977</td><td>15.915768</td><td>17.105389</td><td>16.374672</td><td>15.8514</td><td>17.059734</td><td>16.32735</td><td>15.801803</td><td>17.025053</td><td>16.290472</td><td>15.764339</td><td>16.99936</td><td>16.267256</td><td>15.740708</td><td>0.030530363</td><td>0.0497152</td><td>0.056289334</td><td>0.061967675</td><td>0.08535392</td><td>0.08649266</td><td>0.10565716</td><td>0.12734532</td><td>0.11597154</td><td>0.016783865</td><td>0.017111374</td><td>0.017664533</td><td>0.015568481</td><td>0.01572486</td><td>0.016123967</td><td>0.014521128</td><td>0.014644199</td><td>0.015035776</td><td>0.013691755</td><td>0.013779301</td><td>0.014132108</td><td>0.013006774</td><td>0.013057008</td><td>0.013399378</td><td>0.012478237</td><td>0.012482843</td><td>0.012830839</td><td>0.012075201</td><td>0.012056527</td><td>0.012379358</td><td>0.011751589</td><td>0.01170427</td><td>0.012019941</td><td>0.011514144</td><td>0.0114903115</td><td>0.011796761</td><td>16.920185</td><td>0.4317038</td><td>0.88997823</td><td>2.4589472</td><td>0.03836328</td><td>16.179873</td><td>0.4619683</td><td>0.85569835</td><td>2.3715794</td><td>0.0904009</td><td>15.636743</td><td>0.55362386</td><td>0.72846186</td><td>2.1201754</td><td>0.09150089</td><td>0</td><td>0.6308171</td></tr>\n",
       "<tr><td>39628422539903372</td><td>194.905624706472</td><td>27.3360199113111</td><td>10378</td><td>sv3</td><td>0.0233014642948937</td><td>2.30304265653996e-05</td><td>0</td><td>1983.18756204504</td><td>fuji/healpix/sv3/bright/103/10378/redrock-sv3-bright-10378.fits</td><td>TFT</td><td>1387126</td><td>194.90562470647154</td><td>27.336019911311073</td><td>1387126</td><td>SGA-2020 1387126</td><td>PGC083733</td><td>83733</td><td>194.90559</td><td>27.336044399999995</td><td>S0</td><td>73.0</td><td>0.4698941</td><td>0.6338697</td><td>0.023257088</td><td>24.423481</td><td>17.435</td><td>False</td><td>LEDA-20181114</td><td>506838</td><td>PGC083733</td><td>1</td><td>True</td><td>194.90559</td><td>27.336044399999995</td><td>0.4698941</td><td>1950p272</td><td>194.90562470647154</td><td>27.336019911311073</td><td>0.6088404</td><td>SB26</td><td>77.10377</td><td>0.6496253</td><td>194.90554762374967</td><td>27.33608786924445</td><td>13.187623</td><td>5.075589</td><td>5.1655507</td><td>5.217395</td><td>4.5053186</td><td>5.829584</td><td>7.264593</td><td>8.852258</td><td>10.534994</td><td>12.265147</td><td>14.081976</td><td>16.20923</td><td>18.265213</td><td>17.780241</td><td>17.057734</td><td>16.523172</td><td>17.553785</td><td>16.826157</td><td>16.293283</td><td>17.388277</td><td>16.660633</td><td>16.129866</td><td>17.261856</td><td>16.53334</td><td>16.005472</td><td>17.169636</td><td>16.440977</td><td>15.915768</td><td>17.105389</td><td>16.374672</td><td>15.8514</td><td>17.059734</td><td>16.32735</td><td>15.801803</td><td>17.025053</td><td>16.290472</td><td>15.764339</td><td>16.99936</td><td>16.267256</td><td>15.740708</td><td>0.030530363</td><td>0.0497152</td><td>0.056289334</td><td>0.061967675</td><td>0.08535392</td><td>0.08649266</td><td>0.10565716</td><td>0.12734532</td><td>0.11597154</td><td>0.016783865</td><td>0.017111374</td><td>0.017664533</td><td>0.015568481</td><td>0.01572486</td><td>0.016123967</td><td>0.014521128</td><td>0.014644199</td><td>0.015035776</td><td>0.013691755</td><td>0.013779301</td><td>0.014132108</td><td>0.013006774</td><td>0.013057008</td><td>0.013399378</td><td>0.012478237</td><td>0.012482843</td><td>0.012830839</td><td>0.012075201</td><td>0.012056527</td><td>0.012379358</td><td>0.011751589</td><td>0.01170427</td><td>0.012019941</td><td>0.011514144</td><td>0.0114903115</td><td>0.011796761</td><td>16.920185</td><td>0.4317038</td><td>0.88997823</td><td>2.4589472</td><td>0.03836328</td><td>16.179873</td><td>0.4619683</td><td>0.85569835</td><td>2.3715794</td><td>0.0904009</td><td>15.636743</td><td>0.55362386</td><td>0.72846186</td><td>2.1201754</td><td>0.09150089</td><td>0</td><td>0.6308171</td></tr>\n",
       "<tr><td>1083953662394372</td><td>196.022042543556</td><td>27.8509524059866</td><td>10379</td><td>sv3</td><td>0.0209227979866618</td><td>9.44022122693779e-05</td><td>0</td><td>112.472995078024</td><td>fuji/healpix/sv3/dark/103/10379/redrock-sv3-dark-10379.fits</td><td>TFT</td><td>1387991</td><td>196.02204254355627</td><td>27.850952405986572</td><td>1387991</td><td>SGA-2020 1387991</td><td>PGC1819680</td><td>1819680</td><td>196.01980799999998</td><td>27.8505164</td><td>S?</td><td>76.41</td><td>0.39264494</td><td>0.4265795</td><td>0.021285059</td><td>24.11048</td><td>17.512</td><td>False</td><td>LEDA-20181114</td><td>507212</td><td>PGC1819680</td><td>1</td><td>True</td><td>196.01980799999998</td><td>27.8505164</td><td>0.39264494</td><td>1959p277</td><td>196.01981861162528</td><td>27.850501475634605</td><td>0.7335896</td><td>SB26</td><td>77.0834</td><td>0.31505835</td><td>196.01972038020176</td><td>27.850561932787546</td><td>15.023795</td><td>6.2871614</td><td>6.3336964</td><td>6.0160975</td><td>8.344416</td><td>10.589332</td><td>12.566287</td><td>13.963412</td><td>15.266555</td><td>16.520254</td><td>17.635262</td><td>19.79739</td><td>22.007689</td><td>17.166983</td><td>16.475887</td><td>15.897792</td><td>16.961231</td><td>16.26718</td><td>15.701388</td><td>16.834654</td><td>16.140131</td><td>15.582496</td><td>16.765821</td><td>16.071375</td><td>15.520878</td><td>16.719383</td><td>16.027887</td><td>15.487223</td><td>16.695017</td><td>16.009926</td><td>15.468976</td><td>16.68476</td><td>15.998544</td><td>15.457853</td><td>16.67034</td><td>15.982999</td><td>15.442719</td><td>16.66094</td><td>15.973101</td><td>15.434615</td><td>0.11449447</td><td>0.15673988</td><td>0.15841843</td><td>0.16001803</td><td>0.10981331</td><td>0.15715949</td><td>0.18802464</td><td>0.2296796</td><td>0.21711877</td><td>0.04562465</td><td>0.04716526</td><td>0.051143944</td><td>0.04082695</td><td>0.042019214</td><td>0.0455108</td><td>0.037835084</td><td>0.038851492</td><td>0.042123105</td><td>0.036197323</td><td>0.037130795</td><td>0.040363476</td><td>0.035066847</td><td>0.03600425</td><td>0.039355684</td><td>0.03442599</td><td>0.035490174</td><td>0.03879536</td><td>0.034134883</td><td>0.035153903</td><td>0.038426757</td><td>0.033721488</td><td>0.034691766</td><td>0.037922252</td><td>0.033450074</td><td>0.034392778</td><td>0.037656136</td><td>16.658735</td><td>0.1044949</td><td>28.286905</td><td>8.315205</td><td>0.032999296</td><td>15.971098</td><td>0.11709462</td><td>18.154186</td><td>7.721785</td><td>0.047133993</td><td>15.430835</td><td>0.12618884</td><td>11.194274</td><td>6.978116</td><td>0.018105028</td><td>0</td><td>0.24845725</td></tr>\n",
       "<tr><td>1070759522861060</td><td>196.022042543556</td><td>27.8509524059866</td><td>10379</td><td>sv3</td><td>0.0210083341169213</td><td>0.00011450492581732</td><td>0</td><td>40.3966993378635</td><td>fuji/healpix/sv3/bright/103/10379/redrock-sv3-bright-10379.fits</td><td>TFT</td><td>1387991</td><td>196.02204254355627</td><td>27.850952405986572</td><td>1387991</td><td>SGA-2020 1387991</td><td>PGC1819680</td><td>1819680</td><td>196.01980799999998</td><td>27.8505164</td><td>S?</td><td>76.41</td><td>0.39264494</td><td>0.4265795</td><td>0.021285059</td><td>24.11048</td><td>17.512</td><td>False</td><td>LEDA-20181114</td><td>507212</td><td>PGC1819680</td><td>1</td><td>True</td><td>196.01980799999998</td><td>27.8505164</td><td>0.39264494</td><td>1959p277</td><td>196.01981861162528</td><td>27.850501475634605</td><td>0.7335896</td><td>SB26</td><td>77.0834</td><td>0.31505835</td><td>196.01972038020176</td><td>27.850561932787546</td><td>15.023795</td><td>6.2871614</td><td>6.3336964</td><td>6.0160975</td><td>8.344416</td><td>10.589332</td><td>12.566287</td><td>13.963412</td><td>15.266555</td><td>16.520254</td><td>17.635262</td><td>19.79739</td><td>22.007689</td><td>17.166983</td><td>16.475887</td><td>15.897792</td><td>16.961231</td><td>16.26718</td><td>15.701388</td><td>16.834654</td><td>16.140131</td><td>15.582496</td><td>16.765821</td><td>16.071375</td><td>15.520878</td><td>16.719383</td><td>16.027887</td><td>15.487223</td><td>16.695017</td><td>16.009926</td><td>15.468976</td><td>16.68476</td><td>15.998544</td><td>15.457853</td><td>16.67034</td><td>15.982999</td><td>15.442719</td><td>16.66094</td><td>15.973101</td><td>15.434615</td><td>0.11449447</td><td>0.15673988</td><td>0.15841843</td><td>0.16001803</td><td>0.10981331</td><td>0.15715949</td><td>0.18802464</td><td>0.2296796</td><td>0.21711877</td><td>0.04562465</td><td>0.04716526</td><td>0.051143944</td><td>0.04082695</td><td>0.042019214</td><td>0.0455108</td><td>0.037835084</td><td>0.038851492</td><td>0.042123105</td><td>0.036197323</td><td>0.037130795</td><td>0.040363476</td><td>0.035066847</td><td>0.03600425</td><td>0.039355684</td><td>0.03442599</td><td>0.035490174</td><td>0.03879536</td><td>0.034134883</td><td>0.035153903</td><td>0.038426757</td><td>0.033721488</td><td>0.034691766</td><td>0.037922252</td><td>0.033450074</td><td>0.034392778</td><td>0.037656136</td><td>16.658735</td><td>0.1044949</td><td>28.286905</td><td>8.315205</td><td>0.032999296</td><td>15.971098</td><td>0.11709462</td><td>18.154186</td><td>7.721785</td><td>0.047133993</td><td>15.430835</td><td>0.12618884</td><td>11.194274</td><td>6.978116</td><td>0.018105028</td><td>0</td><td>0.24845725</td></tr>\n",
       "<tr><td>39628433285713872</td><td>196.019818611625</td><td>27.8505014756346</td><td>10379</td><td>sv3</td><td>0.0212915823472822</td><td>1.69052462013053e-05</td><td>0</td><td>2380.52770073585</td><td>fuji/healpix/sv3/bright/103/10379/redrock-sv3-bright-10379.fits</td><td>TFT</td><td>1387991</td><td>196.01981861162528</td><td>27.850501475634605</td><td>1387991</td><td>SGA-2020 1387991</td><td>PGC1819680</td><td>1819680</td><td>196.01980799999998</td><td>27.8505164</td><td>S?</td><td>76.41</td><td>0.39264494</td><td>0.4265795</td><td>0.021285059</td><td>24.11048</td><td>17.512</td><td>False</td><td>LEDA-20181114</td><td>507212</td><td>PGC1819680</td><td>1</td><td>True</td><td>196.01980799999998</td><td>27.8505164</td><td>0.39264494</td><td>1959p277</td><td>196.01981861162528</td><td>27.850501475634605</td><td>0.7335896</td><td>SB26</td><td>77.0834</td><td>0.31505835</td><td>196.01972038020176</td><td>27.850561932787546</td><td>15.023795</td><td>6.2871614</td><td>6.3336964</td><td>6.0160975</td><td>8.344416</td><td>10.589332</td><td>12.566287</td><td>13.963412</td><td>15.266555</td><td>16.520254</td><td>17.635262</td><td>19.79739</td><td>22.007689</td><td>17.166983</td><td>16.475887</td><td>15.897792</td><td>16.961231</td><td>16.26718</td><td>15.701388</td><td>16.834654</td><td>16.140131</td><td>15.582496</td><td>16.765821</td><td>16.071375</td><td>15.520878</td><td>16.719383</td><td>16.027887</td><td>15.487223</td><td>16.695017</td><td>16.009926</td><td>15.468976</td><td>16.68476</td><td>15.998544</td><td>15.457853</td><td>16.67034</td><td>15.982999</td><td>15.442719</td><td>16.66094</td><td>15.973101</td><td>15.434615</td><td>0.11449447</td><td>0.15673988</td><td>0.15841843</td><td>0.16001803</td><td>0.10981331</td><td>0.15715949</td><td>0.18802464</td><td>0.2296796</td><td>0.21711877</td><td>0.04562465</td><td>0.04716526</td><td>0.051143944</td><td>0.04082695</td><td>0.042019214</td><td>0.0455108</td><td>0.037835084</td><td>0.038851492</td><td>0.042123105</td><td>0.036197323</td><td>0.037130795</td><td>0.040363476</td><td>0.035066847</td><td>0.03600425</td><td>0.039355684</td><td>0.03442599</td><td>0.035490174</td><td>0.03879536</td><td>0.034134883</td><td>0.035153903</td><td>0.038426757</td><td>0.033721488</td><td>0.034691766</td><td>0.037922252</td><td>0.033450074</td><td>0.034392778</td><td>0.037656136</td><td>16.658735</td><td>0.1044949</td><td>28.286905</td><td>8.315205</td><td>0.032999296</td><td>15.971098</td><td>0.11709462</td><td>18.154186</td><td>7.721785</td><td>0.047133993</td><td>15.430835</td><td>0.12618884</td><td>11.194274</td><td>6.978116</td><td>0.018105028</td><td>0</td><td>0.24845725</td></tr>\n",
       "<tr><td>1083953662394371</td><td>196.017594698191</td><td>27.8500505096274</td><td>10379</td><td>sv3</td><td>0.0217484694788326</td><td>4.52509693997777e-05</td><td>0</td><td>132.466499544185</td><td>fuji/healpix/sv3/dark/103/10379/redrock-sv3-dark-10379.fits</td><td>TFT</td><td>1387991</td><td>196.0175946981908</td><td>27.85005050962738</td><td>1387991</td><td>SGA-2020 1387991</td><td>PGC1819680</td><td>1819680</td><td>196.01980799999998</td><td>27.8505164</td><td>S?</td><td>76.41</td><td>0.39264494</td><td>0.4265795</td><td>0.021285059</td><td>24.11048</td><td>17.512</td><td>False</td><td>LEDA-20181114</td><td>507212</td><td>PGC1819680</td><td>1</td><td>True</td><td>196.01980799999998</td><td>27.8505164</td><td>0.39264494</td><td>1959p277</td><td>196.01981861162528</td><td>27.850501475634605</td><td>0.7335896</td><td>SB26</td><td>77.0834</td><td>0.31505835</td><td>196.01972038020176</td><td>27.850561932787546</td><td>15.023795</td><td>6.2871614</td><td>6.3336964</td><td>6.0160975</td><td>8.344416</td><td>10.589332</td><td>12.566287</td><td>13.963412</td><td>15.266555</td><td>16.520254</td><td>17.635262</td><td>19.79739</td><td>22.007689</td><td>17.166983</td><td>16.475887</td><td>15.897792</td><td>16.961231</td><td>16.26718</td><td>15.701388</td><td>16.834654</td><td>16.140131</td><td>15.582496</td><td>16.765821</td><td>16.071375</td><td>15.520878</td><td>16.719383</td><td>16.027887</td><td>15.487223</td><td>16.695017</td><td>16.009926</td><td>15.468976</td><td>16.68476</td><td>15.998544</td><td>15.457853</td><td>16.67034</td><td>15.982999</td><td>15.442719</td><td>16.66094</td><td>15.973101</td><td>15.434615</td><td>0.11449447</td><td>0.15673988</td><td>0.15841843</td><td>0.16001803</td><td>0.10981331</td><td>0.15715949</td><td>0.18802464</td><td>0.2296796</td><td>0.21711877</td><td>0.04562465</td><td>0.04716526</td><td>0.051143944</td><td>0.04082695</td><td>0.042019214</td><td>0.0455108</td><td>0.037835084</td><td>0.038851492</td><td>0.042123105</td><td>0.036197323</td><td>0.037130795</td><td>0.040363476</td><td>0.035066847</td><td>0.03600425</td><td>0.039355684</td><td>0.03442599</td><td>0.035490174</td><td>0.03879536</td><td>0.034134883</td><td>0.035153903</td><td>0.038426757</td><td>0.033721488</td><td>0.034691766</td><td>0.037922252</td><td>0.033450074</td><td>0.034392778</td><td>0.037656136</td><td>16.658735</td><td>0.1044949</td><td>28.286905</td><td>8.315205</td><td>0.032999296</td><td>15.971098</td><td>0.11709462</td><td>18.154186</td><td>7.721785</td><td>0.047133993</td><td>15.430835</td><td>0.12618884</td><td>11.194274</td><td>6.978116</td><td>0.018105028</td><td>0</td><td>0.24845725</td></tr>\n",
       "<tr><td>1083980266864653</td><td>195.449335692238</td><td>29.0750350750396</td><td>10404</td><td>sv3</td><td>0.0231136833746593</td><td>6.28000671338951e-06</td><td>0</td><td>687.258072091267</td><td>fuji/healpix/sv3/dark/104/10404/redrock-sv3-dark-10404.fits</td><td>TFT</td><td>1393079</td><td>195.44933569223826</td><td>29.075035075039587</td><td>1393079</td><td>SGA-2020 1393079</td><td>PGC214057</td><td>214057</td><td>195.44385749999998</td><td>29.076207</td><td>S?</td><td>99.81</td><td>0.3732502</td><td>0.6982324</td><td>0.061499875</td><td>24.669481</td><td>18.181</td><td>False</td><td>LEDA-20181114</td><td>509517</td><td>PGC214057</td><td>1</td><td>True</td><td>195.44385749999998</td><td>29.076207</td><td>0.3732502</td><td>1955p290</td><td>195.44421840300032</td><td>29.075986928783728</td><td>0.5487093</td><td>SB26</td><td>102.01363</td><td>0.48609537</td><td>195.44407044085108</td><td>29.076093102350683</td><td>12.1292715</td><td>20.86223</td><td>21.595984</td><td>17.313755</td><td>-1.0</td><td>0.32947648</td><td>1.9630203</td><td>4.8292594</td><td>8.46693</td><td>11.220167</td><td>13.222284</td><td>15.301069</td><td>16.461279</td><td>-1.0</td><td>-1.0</td><td>-1.0</td><td>24.970491</td><td>24.456018</td><td>24.135134</td><td>21.193382</td><td>20.792162</td><td>20.62177</td><td>19.538815</td><td>19.147814</td><td>19.002192</td><td>18.722555</td><td>18.392551</td><td>18.309515</td><td>18.317198</td><td>18.001442</td><td>17.983244</td><td>18.10382</td><td>17.771452</td><td>17.768183</td><td>17.983002</td><td>17.658894</td><td>17.665665</td><td>17.954666</td><td>17.62751</td><td>17.635376</td><td>-1.0</td><td>0.061185326</td><td>0.04813992</td><td>0.115814224</td><td>0.1713624</td><td>0.31062528</td><td>0.25242355</td><td>0.16919217</td><td>0.2002415</td><td>-1.0</td><td>-1.0</td><td>-1.0</td><td>0.13321678</td><td>0.09153883</td><td>0.21124005</td><td>0.04167392</td><td>0.042725563</td><td>0.076093815</td><td>0.036387127</td><td>0.03677494</td><td>0.053716287</td><td>0.029603498</td><td>0.030859081</td><td>0.0433626</td><td>0.026136134</td><td>0.027062712</td><td>0.037914153</td><td>0.024306266</td><td>0.025110334</td><td>0.0345751</td><td>0.023010658</td><td>0.024133135</td><td>0.03330961</td><td>0.022782527</td><td>0.023900148</td><td>0.033155564</td><td>16.973211</td><td>1.7362136</td><td>1.3618683</td><td>1.251468</td><td>6.3860936</td><td>16.62751</td><td>1.7794714</td><td>1.3275329</td><td>1.201409</td><td>7.555307</td><td>16.825962</td><td>1.699261</td><td>1.0969257</td><td>1.233992</td><td>3.152068</td><td>0</td><td>0.4521807</td></tr>\n",
       "<tr><td>39628459890181137</td><td>195.444218403</td><td>29.0759869287837</td><td>10404</td><td>sv3</td><td>0.0614823141743861</td><td>1.60897789624589e-05</td><td>0</td><td>66.2913747359999</td><td>fuji/healpix/sv3/bright/104/10404/redrock-sv3-bright-10404.fits</td><td>TFT</td><td>1393079</td><td>195.44421840300032</td><td>29.07598692878373</td><td>1393079</td><td>SGA-2020 1393079</td><td>PGC214057</td><td>214057</td><td>195.44385749999998</td><td>29.076207</td><td>S?</td><td>99.81</td><td>0.3732502</td><td>0.6982324</td><td>0.061499875</td><td>24.669481</td><td>18.181</td><td>False</td><td>LEDA-20181114</td><td>509517</td><td>PGC214057</td><td>1</td><td>True</td><td>195.44385749999998</td><td>29.076207</td><td>0.3732502</td><td>1955p290</td><td>195.44421840300032</td><td>29.075986928783728</td><td>0.5487093</td><td>SB26</td><td>102.01363</td><td>0.48609537</td><td>195.44407044085108</td><td>29.076093102350683</td><td>12.1292715</td><td>20.86223</td><td>21.595984</td><td>17.313755</td><td>-1.0</td><td>0.32947648</td><td>1.9630203</td><td>4.8292594</td><td>8.46693</td><td>11.220167</td><td>13.222284</td><td>15.301069</td><td>16.461279</td><td>-1.0</td><td>-1.0</td><td>-1.0</td><td>24.970491</td><td>24.456018</td><td>24.135134</td><td>21.193382</td><td>20.792162</td><td>20.62177</td><td>19.538815</td><td>19.147814</td><td>19.002192</td><td>18.722555</td><td>18.392551</td><td>18.309515</td><td>18.317198</td><td>18.001442</td><td>17.983244</td><td>18.10382</td><td>17.771452</td><td>17.768183</td><td>17.983002</td><td>17.658894</td><td>17.665665</td><td>17.954666</td><td>17.62751</td><td>17.635376</td><td>-1.0</td><td>0.061185326</td><td>0.04813992</td><td>0.115814224</td><td>0.1713624</td><td>0.31062528</td><td>0.25242355</td><td>0.16919217</td><td>0.2002415</td><td>-1.0</td><td>-1.0</td><td>-1.0</td><td>0.13321678</td><td>0.09153883</td><td>0.21124005</td><td>0.04167392</td><td>0.042725563</td><td>0.076093815</td><td>0.036387127</td><td>0.03677494</td><td>0.053716287</td><td>0.029603498</td><td>0.030859081</td><td>0.0433626</td><td>0.026136134</td><td>0.027062712</td><td>0.037914153</td><td>0.024306266</td><td>0.025110334</td><td>0.0345751</td><td>0.023010658</td><td>0.024133135</td><td>0.03330961</td><td>0.022782527</td><td>0.023900148</td><td>0.033155564</td><td>16.973211</td><td>1.7362136</td><td>1.3618683</td><td>1.251468</td><td>6.3860936</td><td>16.62751</td><td>1.7794714</td><td>1.3275329</td><td>1.201409</td><td>7.555307</td><td>16.825962</td><td>1.699261</td><td>1.0969257</td><td>1.233992</td><td>3.152068</td><td>0</td><td>0.4521807</td></tr>\n",
       "</table></div>"
      ],
      "text/plain": [
       "<Table length=220>\n",
       "     TARGETID        TARGET_RA        TARGET_DEC    ... ELLIPSEBIT     cosi   \n",
       "      int64           float64          float64      ...   int32      float32  \n",
       "----------------- ---------------- ---------------- ... ---------- -----------\n",
       " 1070791412154372 195.515245590946 29.2579670504378 ...          0 0.109133735\n",
       " 1070791412154373 195.519803821539 29.2488992457946 ...          0 0.109133735\n",
       "39628465175004507 195.517524807258 29.2534331674424 ...          0 0.109133735\n",
       "39628443968603627 195.976671467044 28.3106237904758 ...          0   0.5290931\n",
       " 1070770205753346 195.975874659355 28.3126829285018 ...          0   0.5290931\n",
       " 1070770205753345 195.975053673706 28.3148044598103 ...          0   0.5290931\n",
       " 1070770205753347 195.977468243883 28.3085646478233 ...          0   0.5290931\n",
       " 1083958997549080 195.042081793254 27.9581688975333 ...          0  0.38846168\n",
       " 1083958997549079 195.040998524759 27.9572391505097 ...          0  0.38846168\n",
       "39628438620866050 195.043133218755 27.9590712909452 ...          0  0.38846168\n",
       "              ...              ...              ... ...        ...         ...\n",
       "39628422548291710  195.44990644241 27.3547921983049 ...          0  0.35428998\n",
       " 1083942924976133 195.449719519669 27.3529239196016 ...          0  0.35428998\n",
       " 1083942916587523   194.9074619582 27.3363935821814 ...          0   0.6308171\n",
       "39628422539903372 194.905624706472 27.3360199113111 ...          0   0.6308171\n",
       " 1083953662394372 196.022042543556 27.8509524059866 ...          0  0.24845725\n",
       " 1070759522861060 196.022042543556 27.8509524059866 ...          0  0.24845725\n",
       "39628433285713872 196.019818611625 27.8505014756346 ...          0  0.24845725\n",
       " 1083953662394371 196.017594698191 27.8500505096274 ...          0  0.24845725\n",
       " 1083980266864653 195.449335692238 29.0750350750396 ...          0   0.4521807\n",
       "39628459890181137    195.444218403 29.0759869287837 ...          0   0.4521807"
      ]
     },
     "execution_count": 31,
     "metadata": {},
     "output_type": "execute_result"
    }
   ],
   "source": [
    "# Keep only those with more than one observation\n",
    "high_count_sga = np.in1d(inComa_fuji_table['SGA_ID_1'], ids[counts > 1])\n",
    "tf_coma_multiple = inComa_fuji_table[high_count_sga]\n",
    "tf_coma_multiple"
   ]
  },
  {
   "cell_type": "code",
   "execution_count": 32,
   "id": "541f6b8f-1587-4333-ad7a-b4216441326c",
   "metadata": {},
   "outputs": [
    {
     "ename": "TypeError",
     "evalue": "only size-1 arrays can be converted to Python scalars",
     "output_type": "error",
     "traceback": [
      "\u001b[0;31m---------------------------------------------------------------------------\u001b[0m",
      "\u001b[0;31mTypeError\u001b[0m                                 Traceback (most recent call last)",
      "\u001b[0;32m/tmp/ipykernel_64246/2762836880.py\u001b[0m in \u001b[0;36m<module>\u001b[0;34m\u001b[0m\n\u001b[1;32m     22\u001b[0m         \u001b[0msga_galaxy\u001b[0m \u001b[0;34m=\u001b[0m \u001b[0msga_galaxy\u001b[0m\u001b[0;34m[\u001b[0m\u001b[0;36m0\u001b[0m\u001b[0;34m]\u001b[0m\u001b[0;34m\u001b[0m\u001b[0;34m\u001b[0m\u001b[0m\n\u001b[1;32m     23\u001b[0m \u001b[0;34m\u001b[0m\u001b[0m\n\u001b[0;32m---> 24\u001b[0;31m     \u001b[0mtargetid\u001b[0m \u001b[0;34m=\u001b[0m \u001b[0mint\u001b[0m\u001b[0;34m(\u001b[0m\u001b[0msga_galaxy\u001b[0m\u001b[0;34m[\u001b[0m\u001b[0;34m'TARGETID'\u001b[0m\u001b[0;34m]\u001b[0m\u001b[0;34m)\u001b[0m\u001b[0;34m\u001b[0m\u001b[0;34m\u001b[0m\u001b[0m\n\u001b[0m\u001b[1;32m     25\u001b[0m     \u001b[0mcenter\u001b[0m \u001b[0;34m=\u001b[0m \u001b[0mSkyCoord\u001b[0m\u001b[0;34m(\u001b[0m\u001b[0msga_galaxy\u001b[0m\u001b[0;34m[\u001b[0m\u001b[0;34m'TARGET_RA'\u001b[0m\u001b[0;34m]\u001b[0m\u001b[0;34m,\u001b[0m \u001b[0msga_galaxy\u001b[0m\u001b[0;34m[\u001b[0m\u001b[0;34m'TARGET_DEC'\u001b[0m\u001b[0;34m]\u001b[0m\u001b[0;34m,\u001b[0m \u001b[0munit\u001b[0m\u001b[0;34m=\u001b[0m\u001b[0;34m'deg'\u001b[0m\u001b[0;34m)\u001b[0m\u001b[0;34m\u001b[0m\u001b[0;34m\u001b[0m\u001b[0m\n\u001b[1;32m     26\u001b[0m     \u001b[0moffcenter\u001b[0m \u001b[0;34m=\u001b[0m \u001b[0mSkyCoord\u001b[0m\u001b[0;34m(\u001b[0m\u001b[0mtf_list\u001b[0m\u001b[0;34m[\u001b[0m\u001b[0;34m'TARGET_RA'\u001b[0m\u001b[0;34m]\u001b[0m\u001b[0;34m,\u001b[0m \u001b[0mtf_list\u001b[0m\u001b[0;34m[\u001b[0m\u001b[0;34m'TARGET_DEC'\u001b[0m\u001b[0;34m]\u001b[0m\u001b[0;34m,\u001b[0m \u001b[0munit\u001b[0m\u001b[0;34m=\u001b[0m\u001b[0;34m'deg'\u001b[0m\u001b[0;34m)\u001b[0m\u001b[0;34m\u001b[0m\u001b[0;34m\u001b[0m\u001b[0m\n",
      "\u001b[0;31mTypeError\u001b[0m: only size-1 arrays can be converted to Python scalars"
     ]
    }
   ],
   "source": [
    "sga_ids_vel_cuts = []\n",
    "\n",
    "rmag = []\n",
    "drmag = []\n",
    "vmax = []\n",
    "dvmax = []\n",
    "\n",
    "for i, sga_id in enumerate(np.unique(inComa_fuji_table['SGA_ID_1'])):\n",
    "    # if sga_id == 474614:\n",
    "    #     print('skipped')\n",
    "    #     continue\n",
    "    galaxy_list = inComa_fuji_table[inComa_fuji_table['SGA_ID_1'] == sga_id]\n",
    "    # print\n",
    "    #print(i+1, sga_id)\n",
    "    \n",
    "    is_sga_galaxy = (galaxy_list['TARGETID'] > 30000000000000000) & (galaxy_list['TARGETID'] < 40000000000000000)\n",
    "    \n",
    "    sga_galaxy = galaxy_list[is_sga_galaxy]\n",
    "    tf_list = galaxy_list[~is_sga_galaxy]\n",
    "    \n",
    "    if np.sum(is_sga_galaxy) > 1:\n",
    "        sga_galaxy = sga_galaxy[0]\n",
    "    \n",
    "    targetid = int(sga_galaxy['TARGETID'])\n",
    "    center = SkyCoord(sga_galaxy['TARGET_RA'], sga_galaxy['TARGET_DEC'], unit='deg')\n",
    "    offcenter = SkyCoord(tf_list['TARGET_RA'], tf_list['TARGET_DEC'], unit='deg')\n",
    "    sep2d = offcenter.separation(center)\n",
    "    r26 = 0.5 * float(sga_galaxy['D26'])*u.arcmin\n",
    "    sep_r26 = sep2d.to('arcmin') / r26\n",
    "    \n",
    "    zc, zc_err = sga_galaxy['Z'], sga_galaxy['ZERR']\n",
    "    zt, zt_err = tf_list['Z'], tf_list['ZERR']\n",
    "    \n",
    "    dz = np.abs(zt - zc)\n",
    "    dz_err = np.sqrt(zc_err**2 + zt_err**2)\n",
    "    \n",
    "    dv = c * dz\n",
    "    dv_err = c * dz_err\n",
    "    \n",
    "    good_vel = dv < 5000\n",
    "    # print(good_vel[0], sga_id)\n",
    "    \n",
    "    if np.sum(good_vel) > 0:\n",
    "        sep_r26 = np.insert(sep_r26[good_vel], 0, 0.)\n",
    "        dv = np.insert(dv[good_vel], 0, 0.)\n",
    "        dv_err = np.insert(dv_err[good_vel], 0, 3e5*zc_err)\n",
    "\n",
    "        # Extract the 0.33xR26 points.\n",
    "        is_033_r26 = (sep_r26 > 0.3) & (sep_r26 < 0.4)\n",
    "        if np.sum(is_033_r26) > 0:\n",
    "            v033 = np.mean(dv[is_033_r26])\n",
    "            dv033 = np.sqrt(np.sum(dv_err[is_033_r26]**2))\n",
    "\n",
    "            rmag.append(float(sga_galaxy['R_MAG_SB26']))\n",
    "            drmag.append(float(sga_galaxy['R_MAG_SB26_ERR']))\n",
    "            vmax.append(v033)\n",
    "            dvmax.append(dv033)\n",
    "            sga_ids_vel_cuts.append(sga_id)\n",
    "    # break\n",
    "#print('mag:', rmag)\n",
    "#print('vel:', vmax)\n",
    "#print('dv:', dvmax)"
   ]
  },
  {
   "cell_type": "code",
   "execution_count": 33,
   "id": "b49d4b8b-edfc-4daa-b5f9-df04322276cf",
   "metadata": {},
   "outputs": [
    {
     "name": "stdout",
     "output_type": "stream",
     "text": [
      "5\n"
     ]
    },
    {
     "data": {
      "image/png": "[encoded data removed]",
      "text/plain": [
       "<Figure size 720x288 with 2 Axes>"
      ]
     },
     "metadata": {
      "needs_background": "light"
     },
     "output_type": "display_data"
    }
   ],
   "source": [
    "rmag = np.asarray(rmag)\n",
    "drmag = np.asarray(drmag)\n",
    "vmax = np.asarray(vmax)\n",
    "dvmax = np.asarray(dvmax)\n",
    "\n",
    "isrmeas = rmag > 0\n",
    "\n",
    "fig, axes = plt.subplots(1, 2, figsize=(10,4), tight_layout=True)\n",
    "\n",
    "ax = axes[0]\n",
    "ax.errorbar(rmag[isrmeas], vmax[isrmeas], xerr=drmag[isrmeas], yerr=dvmax[isrmeas], fmt='ro')\n",
    "ax.set(xlabel='$m_r$(26)',\n",
    "       xlim=(18.5, 12.5),\n",
    "       ylim=(-50,300),\n",
    "       ylabel='$v_\\mathrm{max}$ [km s$^{-1}$]')\n",
    "\n",
    "ax = axes[1]\n",
    "\n",
    "log10vmax = np.log10(vmax)\n",
    "dlog10vmax = 0.434 * dvmax / vmax \n",
    "\n",
    "ax.errorbar(rmag[isrmeas], log10vmax[isrmeas], yerr=dlog10vmax[isrmeas], fmt='ro')\n",
    "ax.set(xlabel='$m_r$(26)',\n",
    "       xlim=(18.5, 12.5),\n",
    "       ylabel=r'$\\log{(v_\\mathrm{max} / \\mathrm{km~s}^{-1})}$',\n",
    "       ylim=(-0.5,3))\n",
    "\n",
    "fig.suptitle(r'Rotational Velocity of Coma in Fuji', y=1.05)\n",
    "fig.subplots_adjust(top=0.8)\n",
    "\n",
    "print(np.sum(isrmeas))"
   ]
  },
  {
   "cell_type": "code",
   "execution_count": 34,
   "id": "7fad0162-574c-445f-98c6-d6ccfd496ddb",
   "metadata": {},
   "outputs": [
    {
     "name": "stderr",
     "output_type": "stream",
     "text": [
      "/tmp/ipykernel_64246/1776931623.py:12: RuntimeWarning: invalid value encountered in sqrt\n",
      "  inComa_fuji_table['cosi'] = np.sqrt((inComa_fuji_table['BA']**2 - q0**2)/(1 - q0**2))\n"
     ]
    },
    {
     "name": "stdout",
     "output_type": "stream",
     "text": [
      "0\n"
     ]
    }
   ],
   "source": [
    "sga_ids_clean = []\n",
    "\n",
    "rmag_clean = []\n",
    "drmag_clean = []\n",
    "vmax_clean = []\n",
    "dvmax_clean = []\n",
    "z = []\n",
    "\n",
    "inc_min = 45*u.degree\n",
    "cosi_max = np.cos(inc_min.to('radian'))\n",
    "\n",
    "inComa_fuji_table['cosi'] = np.sqrt((inComa_fuji_table['BA']**2 - q0**2)/(1 - q0**2))\n",
    "inComa_fuji_table['cosi'][np.isnan(inComa_fuji_table['cosi'])] = 0 # Objects with b/a < 0.2\n",
    "\n",
    "#i = 0\n",
    "\n",
    "# for sga_id in np.unique(inComa_sga_table['SGA_ID']):\n",
    "for sga_id in sga_ids_vel_cuts:\n",
    "    galaxy_list = inComa_fuji_table[inComa_fuji_table['SGA_ID_1'] == sga_id]\n",
    "    \n",
    "    is_sga_galaxy = (galaxy_list['TARGETID'] > 30000000000000000) & (galaxy_list['TARGETID'] < 40000000000000000)\n",
    "    sga_galaxy = galaxy_list[is_sga_galaxy]\n",
    "    tf_list = galaxy_list[~is_sga_galaxy]\n",
    "    \n",
    "    if np.sum(is_sga_galaxy) > 1:\n",
    "        sga_galaxy = sga_galaxy[0]\n",
    "    \n",
    "    targetid = int(sga_galaxy['TARGETID'])\n",
    "    \n",
    "    center = SkyCoord(sga_galaxy['TARGET_RA'], sga_galaxy['TARGET_DEC'], unit='deg')\n",
    "    offcenter = SkyCoord(tf_list['TARGET_RA'], tf_list['TARGET_DEC'], unit='deg')\n",
    "    sep2d = offcenter.separation(center)\n",
    "    \n",
    "    morphtype = str(sga_galaxy['MORPHTYPE'])\n",
    "    \n",
    "    cosi = float(sga_galaxy['cosi'])\n",
    "    \n",
    "    r26 = 0.5 * float(sga_galaxy['D26']) * u.arcmin\n",
    "    sep_r26 = sep2d.to('arcmin') / r26\n",
    "\n",
    "    # Cut any suspected ellipticals\n",
    "    if morphtype.startswith('E') or morphtype.startswith('S0') or morphtype.startswith('I'):\n",
    "        continue\n",
    "               \n",
    "    # Inclination cut\n",
    "    if cosi > cosi_max:\n",
    "        continue\n",
    "        \n",
    "    #i += 1\n",
    "    #print(i, sga_id, cosi)\n",
    "    \n",
    "    zc, zc_err = float(sga_galaxy['Z']), float(sga_galaxy['ZERR'])\n",
    "    zt, zt_err = tf_list['Z'], tf_list['ZERR']\n",
    "    \n",
    "    dz = np.abs(zt - zc)\n",
    "    dz_err = np.sqrt(zc_err**2 + zt_err**2)\n",
    "    \n",
    "    dv = 3e5 * dz\n",
    "    dv_err = 3e5 * dz_err\n",
    "    \n",
    "    good_vel = dv < 5000\n",
    "    \n",
    "    if np.sum(good_vel) > 0:\n",
    "    \n",
    "        sep_r26 = np.insert(sep_r26[good_vel], 0, 0.)\n",
    "        dv = np.insert(dv[good_vel], 0, 0.)\n",
    "        dv_err = np.insert(dv_err[good_vel], 0, 3e5*zc_err)\n",
    "\n",
    "        # Extract the 0.33xR26 points.\n",
    "        is_033_r26 = (sep_r26 > 0.35) & (sep_r26 < 0.45)\n",
    "        \n",
    "        if np.sum(is_033_r26) > 0:\n",
    "            v033 = np.mean(dv[is_033_r26]) / np.sqrt(1 - cosi**2)\n",
    "            dv033 = np.sqrt(np.sum(dv_err[is_033_r26]**2)) / np.sqrt(1 - cosi**2)\n",
    "            z.append(zc)\n",
    "            rmag_clean.append(float(sga_galaxy['R_MAG_SB26']))\n",
    "            drmag_clean.append(float(sga_galaxy['R_MAG_SB26_ERR']))\n",
    "            vmax_clean.append(v033)\n",
    "            dvmax_clean.append(dv033)\n",
    "            sga_ids_clean.append(sga_id)\n",
    "    \n",
    "#inComa_sga_table[['SGA_ID', 'BA', 'cosi']].show_in_notebook()\n",
    "print(len(rmag_clean))"
   ]
  },
  {
   "cell_type": "markdown",
   "id": "4d6d684b-df7a-431f-9b7d-50a9d3ea1db4",
   "metadata": {},
   "source": [
    "# Using fit from TF_Coma.ipynb"
   ]
  },
  {
   "cell_type": "code",
   "execution_count": 35,
   "id": "105afbd2-19ee-4d5e-8bf1-72f5b00bc145",
   "metadata": {},
   "outputs": [],
   "source": [
    "def l1norm(pars, x, y, dy):\n",
    "    '''\n",
    "    Linear fit that uses the l1-norm (robust against outliers).\n",
    "    '''\n",
    "    a, b = pars\n",
    "    return np.sum(np.abs((y - a - b*x)/dy))\n",
    "\n",
    "def l1norm_noerror(pars, x, y):\n",
    "    '''\n",
    "    Linear fit that uses the l1-norm without normalizing by measurement uncertainties.\n",
    "    '''\n",
    "    a, b = pars\n",
    "    return np.sum(np.abs(y - a - b*x))\n",
    "\n",
    "def l2norm(pars, x, y, dy):\n",
    "    '''\n",
    "    Linear fit that uses the l2-norm\n",
    "    '''\n",
    "    a, b = pars\n",
    "    return np.sum((y - a - b*x)**2/dy**2)\n",
    "\n",
    "def fit_tfr(r, logv, dlogv):\n",
    "    fmin = 1e99\n",
    "    a, b = 6, -0.25\n",
    "    hess_inv = np.ones((2,2))\n",
    "    \n",
    "    succ_res = None\n",
    "    \n",
    "    # Try a large number of random seeds to ensure a decent fit.\n",
    "    for i in range(1000):\n",
    "        _a, _b = np.random.uniform(0,10), np.random.uniform(-1,0)\n",
    "        \n",
    "        res = minimize(l1norm_noerror, \n",
    "                       [_a, _b], \n",
    "                       args=(r, logv),# dlogv),\n",
    "                       method='L-BFGS-B', \n",
    "                       bounds=[[0,10], [-1,1]])\n",
    "        \n",
    "        if res.fun < fmin and res.success:\n",
    "            print('Successful fit')\n",
    "            succ_res = res.copy()\n",
    "            fmin = res.fun\n",
    "            a, b = res.x\n",
    "            hess_inv = res.hess_inv\n",
    "    \n",
    "    if succ_res is None:\n",
    "        print('No successful fits')\n",
    "    else:\n",
    "        print(succ_res)\n",
    "    \n",
    "    return a, b, hess_inv"
   ]
  },
  {
   "cell_type": "code",
   "execution_count": 36,
   "id": "c466ece2-56ac-49dc-bcde-92396d4d5c32",
   "metadata": {},
   "outputs": [
    {
     "name": "stdout",
     "output_type": "stream",
     "text": [
      "Original\n",
      "Successful fit\n",
      "Successful fit\n",
      "Successful fit\n",
      "Successful fit\n",
      "Successful fit\n",
      "Successful fit\n",
      "{'fun': 0.36257431945391616, 'jac': array([ 0.86483541, 12.84225149]), 'nfev': 648, 'njev': 216, 'nit': 32, 'status': 0, 'message': 'CONVERGENCE: REL_REDUCTION_OF_F_<=_FACTR*EPSMCH', 'x': array([ 4.45788707, -0.15411072]), 'success': True, 'hess_inv': <2x2 LbfgsInvHessProduct with dtype=float64>}\n",
      "4.457887066950561 -0.15411071814718996\n"
     ]
    },
    {
     "data": {
      "image/png": "[encoded data removed]",
      "text/plain": [
       "<Figure size 432x288 with 1 Axes>"
      ]
     },
     "metadata": {
      "needs_background": "light"
     },
     "output_type": "display_data"
    }
   ],
   "source": [
    "fig, ax = plt.subplots(1,1, figsize=(6,4), tight_layout=True)\n",
    "\n",
    "################################################################################\n",
    "# Original data\n",
    "#-------------------------------------------------------------------------------\n",
    "print('Original')\n",
    "\n",
    "ax.errorbar(rmag[isrmeas], \n",
    "            log10vmax[isrmeas], \n",
    "            yerr=dlog10vmax[isrmeas], \n",
    "            fmt='ko', \n",
    "            alpha=0.7,\n",
    "            label='Coma data')\n",
    "\n",
    "a, b, _ = fit_tfr(rmag[isrmeas], log10vmax[isrmeas], dlog10vmax[isrmeas])\n",
    "print(a, b)\n",
    "\n",
    "r = np.arange(12.5,18.6,0.1)\n",
    "ax.plot(r, a + b*r, 'r--', alpha=0.7)\n",
    "################################################################################\n",
    "\n",
    "\n",
    "################################################################################\n",
    "# Cleaned data\n",
    "#-------------------------------------------------------------------------------\n",
    "'''\n",
    "print('\\nCleaned')\n",
    "\n",
    "rmag_clean = np.asarray(rmag_clean)\n",
    "vmax_clean = np.asarray(vmax_clean)\n",
    "dvmax_clean = np.asarray(dvmax_clean)\n",
    "\n",
    "isrmeas_clean = rmag_clean > 0\n",
    "\n",
    "log10vmax_clean = np.log10(vmax_clean)\n",
    "dlog10vmax_clean = 0.434 * dvmax_clean / vmax_clean \n",
    "\n",
    "ax.errorbar(rmag_clean[isrmeas_clean], \n",
    "            log10vmax_clean[isrmeas_clean], \n",
    "            yerr=dlog10vmax_clean[isrmeas_clean], \n",
    "            fmt='ro', \n",
    "            alpha=0.7,\n",
    "            label='Cleaned data, $\\cos{(i)}$-corrected')\n",
    "\n",
    "a, b, _ = fit_tfr(rmag_clean[isrmeas_clean], \n",
    "                  log10vmax_clean[isrmeas_clean], \n",
    "                  dlog10vmax_clean[isrmeas_clean])\n",
    "print(a, b)\n",
    "r = np.arange(12.5,18.6,0.1)\n",
    "ax.plot(r, a + b*r, 'r--', alpha=0.8)\n",
    "'''\n",
    "################################################################################\n",
    "\n",
    "\n",
    "ax.set(xlabel='$m_r$(26)',\n",
    "       xlim=(18.5, 12.5),\n",
    "       ylabel=r'$\\log{(v_\\mathrm{max} / \\mathrm{km~s}^{-1})}$',\n",
    "       ylim=(-0.5,3),\n",
    "       title=r'Rotational velocity of Coma in Fuji')\n",
    "\n",
    "ax.legend(loc='lower right', fontsize=10);\n",
    "\n",
    "# fig.suptitle(r'Max velocity at $0.33\\times R_{26}$', y=1.05)\n",
    "# fig.subplots_adjust(top=0.8)\n",
    "#fig.savefig('tf_coma.png', dpi=120)\n",
    "\n",
    "# print(np.sum(isrmeas))"
   ]
  },
  {
   "cell_type": "code",
   "execution_count": 37,
   "id": "7cf13211-eb78-4fba-96bf-76918391844c",
   "metadata": {},
   "outputs": [
    {
     "data": {
      "image/png": "[encoded data removed]",
      "text/plain": [
       "<Figure size 288x360 with 1 Axes>"
      ]
     },
     "metadata": {
      "needs_background": "light"
     },
     "output_type": "display_data"
    }
   ],
   "source": [
    "fig, ax = plt.subplots(1,1, figsize=(4,5), tight_layout=True)\n",
    "\n",
    "rmag_clean = np.asarray(rmag_clean)\n",
    "vmax_clean = np.asarray(vmax_clean)\n",
    "dvmax_clean = np.asarray(dvmax_clean)\n",
    "\n",
    "isrmeas_clean = rmag_clean > 0\n",
    "\n",
    "log10vmax_clean = np.log10(vmax_clean)\n",
    "dlog10vmax_clean = 0.434 * dvmax_clean / vmax_clean\n",
    "\n",
    "r = np.arange(12.5,18.6,0.1)\n",
    "v = a + b*r\n",
    "\n",
    "################################################################################\n",
    "# Compute and plot the uncertainty range around the best fit\n",
    "#-------------------------------------------------------------------------------\n",
    "'''\n",
    "hessian = ndt.Hessian(l1norm)\n",
    "hess = hessian((a,b), \n",
    "               rmag_clean[isrmeas_clean], \n",
    "               log10vmax_clean[isrmeas_clean], \n",
    "               dlog10vmax_clean[isrmeas_clean])\n",
    "\n",
    "N_samples = 1000\n",
    "\n",
    "random_samples = np.random.multivariate_normal(mean=(a,b), \n",
    "                                               cov=np.linalg.inv(np.abs(hess)), #hess_inv.matmat(np.eye(2)), \n",
    "                                               size=N_samples)\n",
    "\n",
    "y_samples = np.zeros([1000, len(r)])\n",
    "for i in range(len(r)):\n",
    "    y_samples[:,i] = random_samples[:,0] + random_samples[:,1]*r[i]\n",
    "\n",
    "std_dev = np.std(y_samples, axis=0)\n",
    "\n",
    "ax.fill_betweenx(r, v-std_dev, v+std_dev, facecolor='lightgray')\n",
    "'''\n",
    "################################################################################\n",
    "\n",
    "ax.plot(v, r, 'k--', alpha=0.8)\n",
    "\n",
    "ax.errorbar(log10vmax[isrmeas], \n",
    "            rmag[isrmeas], \n",
    "            xerr=dlog10vmax[isrmeas], \n",
    "            fmt='ro', \n",
    "            alpha=0.7)\n",
    "\n",
    "ax.set(ylabel='$m_r$',\n",
    "       ylim=(18.5, 12.5),\n",
    "       xlabel=r'$\\log{(v_\\mathrm{max} / \\mathrm{km~s}^{-1})}$',\n",
    "       xlim=(1,3),\n",
    "       title='Rotational velocity for Coma Cluster in Fuji');\n",
    "\n",
    "#plt.savefig('../Figures/PV_TFR_Coma_fitWOerrors_09262021.eps', format='eps', dpi=120);"
   ]
  },
  {
   "cell_type": "markdown",
   "id": "9d385792-54ac-43fe-ab3f-e6545ac6db6a",
   "metadata": {},
   "source": [
    "# Hyperfit"
   ]
  },
  {
   "cell_type": "code",
   "execution_count": 38,
   "id": "bfa26dab-5da2-48ad-af2d-fa07a1b50f03",
   "metadata": {},
   "outputs": [],
   "source": [
    "# Create a 2x2xN matrix.\n",
    "ndata = len(dlog10vmax[isrmeas])\n",
    "cov = np.empty((2, 2, ndata))\n",
    "\n",
    "# loop over arrays of uncertainties in logv and mag\n",
    "# Assume diagonal covariance for each measurement.\n",
    "for i, (dlogv, dm) in enumerate(zip(dlog10vmax[isrmeas], drmag[isrmeas])):\n",
    "    cov[:,:,i] = np.array([[dlogv**2, 0.], [0., dm**2]])\n",
    "                              \n",
    "# cov[:,:,0]"
   ]
  },
  {
   "cell_type": "code",
   "execution_count": 39,
   "id": "9f36c7ab-6d10-4c9b-aeac-31c40a9b1bd1",
   "metadata": {},
   "outputs": [
    {
     "ename": "ModuleNotFoundError",
     "evalue": "No module named 'hyperfit'",
     "output_type": "error",
     "traceback": [
      "\u001b[0;31m---------------------------------------------------------------------------\u001b[0m",
      "\u001b[0;31mModuleNotFoundError\u001b[0m                       Traceback (most recent call last)",
      "\u001b[0;32m/tmp/ipykernel_64246/644179871.py\u001b[0m in \u001b[0;36m<module>\u001b[0;34m\u001b[0m\n\u001b[0;32m----> 1\u001b[0;31m \u001b[0;32mfrom\u001b[0m \u001b[0mhyperfit\u001b[0m\u001b[0;34m.\u001b[0m\u001b[0mlinfit\u001b[0m \u001b[0;32mimport\u001b[0m \u001b[0mLinFit\u001b[0m\u001b[0;34m\u001b[0m\u001b[0;34m\u001b[0m\u001b[0m\n\u001b[0m\u001b[1;32m      2\u001b[0m \u001b[0;32mfrom\u001b[0m \u001b[0mchainconsumer\u001b[0m \u001b[0;32mimport\u001b[0m \u001b[0mChainConsumer\u001b[0m\u001b[0;34m\u001b[0m\u001b[0;34m\u001b[0m\u001b[0m\n",
      "\u001b[0;31mModuleNotFoundError\u001b[0m: No module named 'hyperfit'"
     ]
    }
   ],
   "source": [
    "from hyperfit.linfit import LinFit\n",
    "from chainconsumer import ChainConsumer"
   ]
  },
  {
   "cell_type": "code",
   "execution_count": null,
   "id": "5ff9c69e-3b42-4102-be49-1b5d4666259e",
   "metadata": {},
   "outputs": [],
   "source": [
    "logv = log10vmax[isrmeas]\n",
    "mr = rmag[isrmeas]\n",
    "logv.shape, mr.shape"
   ]
  },
  {
   "cell_type": "code",
   "execution_count": null,
   "id": "a0f8b8b1-1c43-476c-8116-15ce402c30a2",
   "metadata": {},
   "outputs": [],
   "source": [
    "hf = LinFit([logv, mr], cov)"
   ]
  },
  {
   "cell_type": "code",
   "execution_count": null,
   "id": "23511c3b-797b-421e-bdf6-44c43e4506fa",
   "metadata": {},
   "outputs": [],
   "source": [
    "# Run an MCMC\n",
    "bounds = ((-10.0, 10.0), (-1000.0, 1000.0), (1.0e-5, 500.0))\n",
    "mcmc_samples, mcmc_lnlike = hf.emcee(bounds, verbose=True)\n",
    "print(np.mean(mcmc_samples, axis=1), np.std(mcmc_samples, axis=1))\n",
    "\n",
    "# # Make the plot\n",
    "# data.plot(linfit=hf)"
   ]
  },
  {
   "cell_type": "markdown",
   "id": "2a7e7cc1-590c-4422-a9c0-eb53a385ce19",
   "metadata": {},
   "source": [
    "## Plot the Hyperfit\n",
    "\n",
    "After the linear fit MCMC, construct the bestfit line and its 1-sigma uncertainties.\n",
    "\n",
    "Also plot the measurements as ellipses with the size given by the uncertainties in log(v) and m_r, and the color given by the best-fit scatter parameter sigma_i.\n",
    "\n",
    "Code taken from plotting examples in [hyperfit documentation](https://hyperfit.readthedocs.io/en/latest/tutorial.html#a-simple-best-fit)"
   ]
  },
  {
   "cell_type": "code",
   "execution_count": null,
   "id": "0177aea4-06e3-480a-89c0-59b42ea91752",
   "metadata": {},
   "outputs": [],
   "source": [
    "a, b, sig    = np.mean(mcmc_samples, axis=1)\n",
    "da, db, dsig = np.std(mcmc_samples, axis=1)\n",
    "\n",
    "for val, err in zip((a, b, sig), (da, db, dsig)):\n",
    "    print('{:6.2f} +/- {:.2f}'.format(val, err))"
   ]
  },
  {
   "cell_type": "markdown",
   "id": "cbf45ec4-e922-455d-abb7-0400845bd893",
   "metadata": {},
   "source": [
    "### Corner Plot"
   ]
  },
  {
   "cell_type": "code",
   "execution_count": 40,
   "id": "3f1f92e6-05e9-4f5c-9284-f4668815c5e1",
   "metadata": {},
   "outputs": [],
   "source": [
    "import corner"
   ]
  },
  {
   "cell_type": "code",
   "execution_count": null,
   "id": "4d481b6f-1fe6-4311-825c-e03658d54341",
   "metadata": {},
   "outputs": [],
   "source": [
    "fig = corner.corner(mcmc_samples.T, bins=30, smooth=1,\n",
    "             range=[[-4.5, -9], [24, 34], [.5, 1.2]],   # Range for a, b, sigma. Adjust as needed.\n",
    "             labels=['$a$', '$b$', r'$\\sigma$'],\n",
    "             levels=(1-np.exp(-0.5), 1-np.exp(-2)),\n",
    "             quantiles=[0.16, 0.5, 0.84],\n",
    "             color='blue',\n",
    "             hist_kwargs={'histtype':'stepfilled', 'alpha':0.3},\n",
    "             plot_datapoints=False,\n",
    "             fill_contours=True,\n",
    "             show_titles=True,\n",
    "             title = {'Coma'},\n",
    "             title_kwargs={\"fontsize\": 12})"
   ]
  },
  {
   "cell_type": "code",
   "execution_count": 41,
   "id": "06eb85fa-9028-462a-98ee-336164f4e856",
   "metadata": {},
   "outputs": [
    {
     "ename": "ModuleNotFoundError",
     "evalue": "No module named 'cmocean'",
     "output_type": "error",
     "traceback": [
      "\u001b[0;31m---------------------------------------------------------------------------\u001b[0m",
      "\u001b[0;31mModuleNotFoundError\u001b[0m                       Traceback (most recent call last)",
      "\u001b[0;32m/tmp/ipykernel_64246/2361388888.py\u001b[0m in \u001b[0;36m<module>\u001b[0;34m\u001b[0m\n\u001b[0;32m----> 1\u001b[0;31m \u001b[0;32mimport\u001b[0m \u001b[0mcmocean\u001b[0m\u001b[0;34m\u001b[0m\u001b[0;34m\u001b[0m\u001b[0m\n\u001b[0m",
      "\u001b[0;31mModuleNotFoundError\u001b[0m: No module named 'cmocean'"
     ]
    }
   ],
   "source": [
    "import cmocean"
   ]
  },
  {
   "cell_type": "code",
   "execution_count": null,
   "id": "b05f25f0-987e-4fee-b023-309538e7fe9b",
   "metadata": {},
   "outputs": [],
   "source": [
    "sigmas = hf.get_sigmas()\n",
    "xvals = np.linspace(1., 3., 1000)\n",
    "yvals = hf.coords[0] * xvals + hf.coords[1]\n",
    "\n",
    "# Get the MCMC 1-sigma quantiles to plot with the fit.\n",
    "y_chain = np.outer(xvals, mcmc_samples[0]) + mcmc_samples[1]\n",
    "y_chain_quantiles = np.quantile(y_chain, [0.1587, 0.8414], axis=1)\n",
    "\n",
    "# Pack info into data\n",
    "data = [log10vmax[isrmeas], rmag[isrmeas]]\n",
    "x_err = dlog10vmax[isrmeas]\n",
    "y_err = drmag[isrmeas]\n",
    "corr_xy = np.zeros_like(x_err)\n",
    "\n",
    "# Generate ellipses\n",
    "ells = [\n",
    "    Ellipse(\n",
    "        xy=[data[0][i], data[1][i]],\n",
    "        width=2.0 * y_err[i],\n",
    "        height=2.0 * x_err[i],\n",
    "        angle=np.rad2deg(np.arccos(corr_xy[i])),\n",
    "    )\n",
    "    for i in range(len(data[0]))\n",
    "]\n",
    "\n",
    "# Make the plot\n",
    "fig = plt.figure(figsize=(6,7))\n",
    "ax = fig.add_axes([0.15, 0.15, 1.03, 0.83])\n",
    "for i, e in enumerate(ells):\n",
    "    ax.add_artist(e)\n",
    "    e.set_color(cmocean.cm.thermal(sigmas[i] / np.amax(sigmas)))\n",
    "    e.set_edgecolor('None')\n",
    "    e.set_alpha(0.9)\n",
    "ax.fill_between(xvals, y_chain_quantiles[0], y_chain_quantiles[1], color=\"k\", alpha=0.2)\n",
    "ax.plot(xvals, yvals, c=\"k\", marker=\"None\", ls=\"-\", lw=1.3, alpha=0.9)\n",
    "ax.plot(xvals, yvals - hf.vert_scat, c=\"k\", marker=\"None\", ls=\"--\", lw=1.3, alpha=0.9)\n",
    "ax.plot(xvals, yvals + hf.vert_scat, c=\"k\", marker=\"None\", ls=\"--\", lw=1.3, alpha=0.9)\n",
    "ax.set_xlabel(r\"$\\log_{10}{(v_\\mathrm{0.3R_{26}} / \\mathrm{km~s^{-1}})}$\", fontsize=16)\n",
    "ax.set_ylabel(r\"$m_r$\", fontsize=16)\n",
    "ax.set_title(r\"Coma\", fontsize = 16)\n",
    "ax.set_xlim(0, 3)\n",
    "ax.set_ylim(19, 12)\n",
    "\n",
    "# Add the colourbar\n",
    "cb = fig.colorbar(\n",
    "    cm.ScalarMappable(norm=colors.Normalize(vmin=0.0, vmax=np.amax(sigmas)), cmap = cmocean.cm.thermal),\n",
    "    ax=ax,\n",
    "    shrink=0.5,\n",
    "    aspect=10,\n",
    "    anchor=(-8, 0.95),\n",
    ")\n",
    "cb.set_label(label=r\"$\\sigma$\", fontsize=14)"
   ]
  }
 ],
 "metadata": {
  "kernelspec": {
   "display_name": "DESI master",
   "language": "python",
   "name": "desi-master"
  },
  "language_info": {
   "codemirror_mode": {
    "name": "ipython",
    "version": 3
   },
   "file_extension": ".py",
   "mimetype": "text/x-python",
   "name": "python",
   "nbconvert_exporter": "python",
   "pygments_lexer": "ipython3",
   "version": "3.9.7"
  }
 },
 "nbformat": 4,
 "nbformat_minor": 5
}
