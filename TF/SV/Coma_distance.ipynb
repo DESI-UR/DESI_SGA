{
 "cells": [
  {
   "cell_type": "markdown",
   "id": "7e9f00c5-b6c9-482e-80fe-f995ffc4fe88",
   "metadata": {},
   "source": [
    "# Compute distance to Coma\n",
    "\n",
    "We can do this one of two ways:\n",
    " * Compare the y-intercept from this calibration with that from the final fit\n",
    " * Compute the average distance modulus form all of the galaxies within the cluster"
   ]
  },
  {
   "cell_type": "code",
   "execution_count": 1,
   "id": "7af1e6da-d489-456e-b84b-588f06f2d9f7",
   "metadata": {},
   "outputs": [],
   "source": [
    "import numpy as np\n",
    "\n",
    "from astropy.table import Table\n",
    "from astropy.io import fits\n",
    "from astropy.coordinates import SkyCoord\n",
    "import astropy.units as u\n",
    "\n",
    "import matplotlib.pyplot as plt"
   ]
  },
  {
   "cell_type": "code",
   "execution_count": 2,
   "id": "c8e731f7-7bd4-4ab9-8dbf-7066b274da3b",
   "metadata": {},
   "outputs": [],
   "source": [
    "h = 1\n",
    "H0 = 100*h\n",
    "\n",
    "c = 3e5\n",
    "\n",
    "V0 = 2.5"
   ]
  },
  {
   "cell_type": "markdown",
   "id": "cdeed3d3-4ad6-4a5c-9315-4e02cc971bda",
   "metadata": {},
   "source": [
    "## Method 1: Compare y-intercepts"
   ]
  },
  {
   "cell_type": "markdown",
   "id": "8052ebbd-7bcc-41ad-aed9-79883ddeac7f",
   "metadata": {},
   "source": [
    "### with dwarfs\n",
    "\n",
    "From the slope calibration (`Coma-Fuji-ITFR_KAD.ipynb`), we found a y-intercept for the Coma cluster of\n",
    "\\begin{equation}\n",
    "  12.07^{+0.58}_{-0.86} = 12.07\\pm 0.82\n",
    "\\end{equation}\n",
    "\n",
    "From the zero-point calibration (`fuji_zero-point_ITFR_KAD.ipynb`), we found a y-intercept for the entire TFR of\n",
    "\\begin{equation}\n",
    "  -22.27\\pm 0.24\n",
    "\\end{equation}\n",
    "\n",
    "*(Updated 8/17/23)*"
   ]
  },
  {
   "cell_type": "code",
   "execution_count": 3,
   "id": "adcd6592-f545-4d6b-9ea7-c43286a009c2",
   "metadata": {},
   "outputs": [],
   "source": [
    "b_coma = 12.07\n",
    "b_coma_err = 0.82\n",
    "\n",
    "ZP = -22.27\n",
    "ZP_err = 0.24\n",
    "\n",
    "mu_coma = b_coma - ZP\n",
    "mu_coma_err = np.sqrt(b_coma_err**2 + ZP_err**2)"
   ]
  },
  {
   "cell_type": "code",
   "execution_count": 4,
   "id": "251200de-7cd8-413a-b42f-e2da4ba33d42",
   "metadata": {},
   "outputs": [
    {
     "name": "stdout",
     "output_type": "stream",
     "text": [
      "Distance modulus to Coma: 34.34 +/- 0.85\n",
      "Distance to Coma: 73.79 +/- 29.03 Mpc/h\n"
     ]
    }
   ],
   "source": [
    "# Convert to distance\n",
    "d_coma = 10*10**(mu_coma/5) # pc/h\n",
    "d_coma_Mpc = d_coma/1e6\n",
    "\n",
    "d_coma_err = d_coma*0.2*np.log(10)*mu_coma_err\n",
    "d_coma_err_Mpc = d_coma_err/1e6\n",
    "\n",
    "print(f'Distance modulus to Coma: {mu_coma:.2f} +/- {mu_coma_err:.2f}')\n",
    "print(f'Distance to Coma: {d_coma_Mpc:.2f} +/- {d_coma_err_Mpc:.2f} Mpc/h')"
   ]
  },
  {
   "cell_type": "markdown",
   "id": "626ec63e-284b-43bd-a847-4a922cc9a034",
   "metadata": {},
   "source": [
    "### without dwarfs\n",
    "\n",
    "From the slope calibration (`Coma-Fuji-ITFR-nodwarfs_KAD.ipynb`), we found a y-intercept for the Coma cluster of\n",
    "\\begin{equation}\n",
    "  12.05^{+0.61}_{-0.85} = 12.05\\pm 0.83\n",
    "\\end{equation}\n",
    "\n",
    "From the zero-point calibration (`fuji_zero-point_ITFR_nodwarf_KAD.ipynb`), we found a y-intercept for the entire TFR of\n",
    "\\begin{equation}\n",
    "  -22.29\\pm 0.27\n",
    "\\end{equation}\n",
    "\n",
    "*(Updated 8/17/23)*"
   ]
  },
  {
   "cell_type": "code",
   "execution_count": 17,
   "id": "1fa227b6-2c4f-4f8c-ba5f-51d3d4624229",
   "metadata": {
    "tags": []
   },
   "outputs": [],
   "source": [
    "b_bright_coma = 12.05\n",
    "b_bright_coma_err = 0.83\n",
    "\n",
    "ZP_bright = -22.29\n",
    "ZP_bright_err = 0.27\n",
    "\n",
    "mu_bright_coma = b_bright_coma - ZP_bright\n",
    "mu_bright_coma_err = np.sqrt(b_bright_coma_err**2 + ZP_bright_err**2)"
   ]
  },
  {
   "cell_type": "code",
   "execution_count": 18,
   "id": "ce4abdb0-c607-45d0-8e91-cc1cdc114082",
   "metadata": {
    "tags": []
   },
   "outputs": [
    {
     "name": "stdout",
     "output_type": "stream",
     "text": [
      "Distance modulus to Coma: 34.34 +/- 0.87\n",
      "Distance to Coma: 73.79 +/- 29.66 Mpc/h\n"
     ]
    }
   ],
   "source": [
    "# Convert to distance\n",
    "d_bright_coma = 10*10**(mu_bright_coma/5) # pc/h\n",
    "d_bright_coma_Mpc = d_bright_coma/1e6\n",
    "\n",
    "d_bright_coma_err = d_bright_coma*0.2*np.log(10)*mu_bright_coma_err\n",
    "d_bright_coma_err_Mpc = d_bright_coma_err/1e6\n",
    "\n",
    "print(f'Distance modulus to Coma: {mu_bright_coma:.2f} +/- {mu_bright_coma_err:.2f}')\n",
    "print(f'Distance to Coma: {d_bright_coma_Mpc:.2f} +/- {d_bright_coma_err_Mpc:.2f} Mpc/h')"
   ]
  },
  {
   "cell_type": "markdown",
   "id": "48c1529f-2ae3-4561-a8a6-868d79573ca0",
   "metadata": {},
   "source": [
    "## Method 2: Average of all distance moduli"
   ]
  },
  {
   "cell_type": "code",
   "execution_count": 5,
   "id": "c11c3b6f-d296-4968-a346-dd7900f4a1e3",
   "metadata": {},
   "outputs": [
    {
     "data": {
      "text/html": [
       "<div><i>Table length=5</i>\n",
       "<table id=\"table139996942798368\" class=\"table-striped table-bordered table-condensed\">\n",
       "<thead><tr><th>SGA_ID</th><th>SGA_GALAXY</th><th>GALAXY</th><th>PGC</th><th>RA_LEDA</th><th>DEC_LEDA</th><th>MORPHTYPE</th><th>PA_LEDA</th><th>D25_LEDA</th><th>BA_LEDA</th><th>Z_LEDA</th><th>SB_D25_LEDA</th><th>MAG_LEDA</th><th>BYHAND</th><th>REF</th><th>GROUP_ID</th><th>GROUP_NAME</th><th>GROUP_MULT</th><th>GROUP_PRIMARY</th><th>GROUP_RA</th><th>GROUP_DEC</th><th>GROUP_DIAMETER</th><th>BRICKNAME</th><th>RA</th><th>DEC</th><th>D26</th><th>D26_REF</th><th>PA</th><th>BA</th><th>RA_MOMENT</th><th>DEC_MOMENT</th><th>SMA_MOMENT</th><th>G_SMA50</th><th>R_SMA50</th><th>Z_SMA50</th><th>SMA_SB22</th><th>SMA_SB22.5</th><th>SMA_SB23</th><th>SMA_SB23.5</th><th>SMA_SB24</th><th>SMA_SB24.5</th><th>SMA_SB25</th><th>SMA_SB25.5</th><th>SMA_SB26</th><th>G_MAG_SB22</th><th>R_MAG_SB22</th><th>Z_MAG_SB22</th><th>G_MAG_SB22.5</th><th>R_MAG_SB22.5</th><th>Z_MAG_SB22.5</th><th>G_MAG_SB23</th><th>R_MAG_SB23</th><th>Z_MAG_SB23</th><th>G_MAG_SB23.5</th><th>R_MAG_SB23.5</th><th>Z_MAG_SB23.5</th><th>G_MAG_SB24</th><th>R_MAG_SB24</th><th>Z_MAG_SB24</th><th>G_MAG_SB24.5</th><th>R_MAG_SB24.5</th><th>Z_MAG_SB24.5</th><th>G_MAG_SB25</th><th>R_MAG_SB25</th><th>Z_MAG_SB25</th><th>G_MAG_SB25.5</th><th>R_MAG_SB25.5</th><th>Z_MAG_SB25.5</th><th>G_MAG_SB26</th><th>R_MAG_SB26</th><th>Z_MAG_SB26</th><th>SMA_SB22_ERR</th><th>SMA_SB22.5_ERR</th><th>SMA_SB23_ERR</th><th>SMA_SB23.5_ERR</th><th>SMA_SB24_ERR</th><th>SMA_SB24.5_ERR</th><th>SMA_SB25_ERR</th><th>SMA_SB25.5_ERR</th><th>SMA_SB26_ERR</th><th>G_MAG_SB22_ERR</th><th>R_MAG_SB22_ERR</th><th>Z_MAG_SB22_ERR</th><th>G_MAG_SB22.5_ERR</th><th>R_MAG_SB22.5_ERR</th><th>Z_MAG_SB22.5_ERR</th><th>G_MAG_SB23_ERR</th><th>R_MAG_SB23_ERR</th><th>Z_MAG_SB23_ERR</th><th>G_MAG_SB23.5_ERR</th><th>R_MAG_SB23.5_ERR</th><th>Z_MAG_SB23.5_ERR</th><th>G_MAG_SB24_ERR</th><th>R_MAG_SB24_ERR</th><th>Z_MAG_SB24_ERR</th><th>G_MAG_SB24.5_ERR</th><th>R_MAG_SB24.5_ERR</th><th>Z_MAG_SB24.5_ERR</th><th>G_MAG_SB25_ERR</th><th>R_MAG_SB25_ERR</th><th>Z_MAG_SB25_ERR</th><th>G_MAG_SB25.5_ERR</th><th>R_MAG_SB25.5_ERR</th><th>Z_MAG_SB25.5_ERR</th><th>G_MAG_SB26_ERR</th><th>R_MAG_SB26_ERR</th><th>Z_MAG_SB26_ERR</th><th>G_COG_PARAMS_MTOT</th><th>G_COG_PARAMS_M0</th><th>G_COG_PARAMS_ALPHA1</th><th>G_COG_PARAMS_ALPHA2</th><th>G_COG_PARAMS_CHI2</th><th>R_COG_PARAMS_MTOT</th><th>R_COG_PARAMS_M0</th><th>R_COG_PARAMS_ALPHA1</th><th>R_COG_PARAMS_ALPHA2</th><th>R_COG_PARAMS_CHI2</th><th>Z_COG_PARAMS_MTOT</th><th>Z_COG_PARAMS_M0</th><th>Z_COG_PARAMS_ALPHA1</th><th>Z_COG_PARAMS_ALPHA2</th><th>Z_COG_PARAMS_CHI2</th><th>ELLIPSEBIT</th><th>Z_DESI</th><th>ZERR_DESI</th><th>V_0p33R26</th><th>V_0p33R26_err</th><th>R_ABSMAG_SB26</th><th>R_ABSMAG_SB26_err</th><th>R_ABSMAG_SB26_TF</th><th>R_ABSMAG_SB26_TF_err</th><th>mu_TF</th><th>mu_TF_err</th><th>R_ABSMAG_SB26_TFbright</th><th>R_ABSMAG_SB26_TFbright_err</th><th>mu_TFbright</th><th>mu_TFbright_err</th></tr></thead>\n",
       "<thead><tr><th>int64</th><th>bytes16</th><th>bytes29</th><th>int64</th><th>float64</th><th>float64</th><th>bytes21</th><th>float32</th><th>float32</th><th>float32</th><th>float32</th><th>float32</th><th>float32</th><th>bool</th><th>bytes13</th><th>int64</th><th>bytes35</th><th>int16</th><th>bool</th><th>float64</th><th>float64</th><th>float32</th><th>bytes8</th><th>float64</th><th>float64</th><th>float32</th><th>bytes4</th><th>float32</th><th>float32</th><th>float64</th><th>float64</th><th>float32</th><th>float32</th><th>float32</th><th>float32</th><th>float32</th><th>float32</th><th>float32</th><th>float32</th><th>float32</th><th>float32</th><th>float32</th><th>float32</th><th>float32</th><th>float32</th><th>float32</th><th>float32</th><th>float32</th><th>float32</th><th>float32</th><th>float32</th><th>float32</th><th>float32</th><th>float32</th><th>float32</th><th>float32</th><th>float32</th><th>float32</th><th>float32</th><th>float32</th><th>float32</th><th>float32</th><th>float32</th><th>float32</th><th>float32</th><th>float32</th><th>float32</th><th>float32</th><th>float32</th><th>float32</th><th>float32</th><th>float32</th><th>float32</th><th>float32</th><th>float32</th><th>float32</th><th>float32</th><th>float32</th><th>float32</th><th>float32</th><th>float32</th><th>float32</th><th>float32</th><th>float32</th><th>float32</th><th>float32</th><th>float32</th><th>float32</th><th>float32</th><th>float32</th><th>float32</th><th>float32</th><th>float32</th><th>float32</th><th>float32</th><th>float32</th><th>float32</th><th>float32</th><th>float32</th><th>float32</th><th>float32</th><th>float32</th><th>float32</th><th>float32</th><th>float32</th><th>float32</th><th>float32</th><th>float32</th><th>float32</th><th>float32</th><th>float32</th><th>float32</th><th>float32</th><th>float32</th><th>float32</th><th>float32</th><th>float32</th><th>float32</th><th>float32</th><th>float32</th><th>float32</th><th>float32</th><th>int32</th><th>float64</th><th>float64</th><th>float64</th><th>float64</th><th>float64</th><th>float64</th><th>float64</th><th>float64</th><th>float64</th><th>float64</th><th>float64</th><th>float64</th><th>float64</th><th>float64</th></tr></thead>\n",
       "<tr><td>896</td><td>SGA-2020 896</td><td>PGC1190469</td><td>1190469</td><td>180.38184750000002</td><td>1.2958311000000002</td><td>Sc</td><td>76.42</td><td>0.44771332</td><td>0.7726806</td><td>0.022478215</td><td>23.47448</td><td>16.591</td><td>False</td><td>LEDA-20181114</td><td>256</td><td>PGC1190469</td><td>1</td><td>True</td><td>180.38184750000002</td><td>1.2958311000000002</td><td>0.44771332</td><td>1803p012</td><td>180.38182702766252</td><td>1.2958268307578154</td><td>0.6239483</td><td>SB26</td><td>76.93204</td><td>0.79918337</td><td>180.38178401011206</td><td>1.295990493861164</td><td>16.25661</td><td>7.6343946</td><td>7.3312407</td><td>7.215459</td><td>4.267071</td><td>6.71145</td><td>8.98399</td><td>11.085844</td><td>12.783826</td><td>14.283976</td><td>15.799797</td><td>17.191736</td><td>18.718449</td><td>18.022089</td><td>17.380363</td><td>16.982048</td><td>17.370085</td><td>16.760023</td><td>16.377943</td><td>16.967363</td><td>16.3918</td><td>16.024693</td><td>16.728146</td><td>16.17214</td><td>15.817478</td><td>16.609686</td><td>16.06539</td><td>15.715597</td><td>16.54587</td><td>16.008068</td><td>15.658699</td><td>16.505327</td><td>15.967604</td><td>15.619181</td><td>16.48057</td><td>15.942226</td><td>15.594475</td><td>16.459711</td><td>15.924162</td><td>15.572447</td><td>0.02403138</td><td>0.037713606</td><td>0.06752815</td><td>0.0597593</td><td>0.041663416</td><td>0.057950046</td><td>0.06897008</td><td>0.07238169</td><td>0.11818266</td><td>0.0070740557</td><td>0.008179923</td><td>0.008415725</td><td>0.005835994</td><td>0.006626628</td><td>0.0068130954</td><td>0.0056522293</td><td>0.006152283</td><td>0.0062183426</td><td>0.0057331356</td><td>0.0059468574</td><td>0.0059097866</td><td>0.005547482</td><td>0.0057424223</td><td>0.005712396</td><td>0.005370375</td><td>0.0055686547</td><td>0.005550764</td><td>0.0052407323</td><td>0.0054267743</td><td>0.0054291883</td><td>0.0051505533</td><td>0.005328927</td><td>0.005367155</td><td>0.005074676</td><td>0.005267603</td><td>0.0053163357</td><td>16.432898</td><td>0.27237165</td><td>3.4572394</td><td>5.399334</td><td>1.6520585</td><td>15.889806</td><td>0.2892297</td><td>2.7702796</td><td>4.85128</td><td>0.7334321</td><td>15.531683</td><td>0.31152296</td><td>2.403034</td><td>4.429238</td><td>0.75814104</td><td>0</td><td>0.0224279674032048</td><td>2.44404472261522e-05</td><td>65.28941302448953</td><td>11.227243824610715</td><td>-18.215393943705372</td><td>0.005774695792263939</td><td>-17.15872702061165</td><td>1.0038077405119135</td><td>33.08288893162239</td><td>1.0038215616088768</td><td>-17.103359724668927</td><td>1.0949341810039643</td><td>33.02752163567967</td><td>1.0949468518471905</td></tr>\n",
       "<tr><td>1548</td><td>SGA-2020 1548</td><td>SDSSJ165126.59+330203.5</td><td>3502220</td><td>252.86077650000004</td><td>33.0343507</td><td>S?</td><td>154.1</td><td>0.4508167</td><td>0.4466836</td><td>0.062078945</td><td>25.027481</td><td>18.129</td><td>False</td><td>LEDA-20181114</td><td>440</td><td>SDSSJ165126.59+330203.5</td><td>1</td><td>True</td><td>252.86077650000004</td><td>33.0343507</td><td>0.4508167</td><td>2527p330</td><td>252.86079970098154</td><td>33.03430448556036</td><td>0.53880334</td><td>SB26</td><td>155.35718</td><td>0.47351485</td><td>252.86066909405264</td><td>33.034360686080134</td><td>12.597376</td><td>6.584361</td><td>5.8151336</td><td>4.142423</td><td>3.323081</td><td>4.8804545</td><td>6.415447</td><td>7.9999123</td><td>9.597124</td><td>11.154015</td><td>12.78003</td><td>14.538747</td><td>16.1641</td><td>19.366194</td><td>18.418495</td><td>17.676432</td><td>18.797308</td><td>17.914637</td><td>17.265965</td><td>18.457354</td><td>17.619967</td><td>17.034483</td><td>18.227644</td><td>17.417562</td><td>16.88301</td><td>18.076956</td><td>17.286598</td><td>16.793627</td><td>17.982859</td><td>17.20239</td><td>16.745651</td><td>17.912136</td><td>17.143084</td><td>16.721899</td><td>17.857784</td><td>17.100485</td><td>16.709152</td><td>17.817442</td><td>17.070053</td><td>16.707008</td><td>0.018727673</td><td>0.036042005</td><td>0.038202766</td><td>0.05129338</td><td>0.047407247</td><td>0.068421446</td><td>0.08510804</td><td>0.12238743</td><td>0.09439984</td><td>0.014373892</td><td>0.020639302</td><td>0.030724164</td><td>0.012427286</td><td>0.015752278</td><td>0.02315442</td><td>0.011548264</td><td>0.013715157</td><td>0.019837318</td><td>0.011104556</td><td>0.012567875</td><td>0.017957231</td><td>0.0106252385</td><td>0.011774546</td><td>0.016949702</td><td>0.010149004</td><td>0.011192934</td><td>0.01646763</td><td>0.009698678</td><td>0.010731671</td><td>0.016358081</td><td>0.009359885</td><td>0.010427434</td><td>0.01636157</td><td>0.009096751</td><td>0.010217264</td><td>0.016512321</td><td>17.673454</td><td>0.7710308</td><td>0.6318578</td><td>2.3027244</td><td>0.32337695</td><td>16.965923</td><td>0.5952432</td><td>0.6457509</td><td>2.5266817</td><td>0.17254663</td><td>16.687475</td><td>0.26123127</td><td>0.42546558</td><td>4.1730514</td><td>0.48248762</td><td>0</td><td>0.0621058276441731</td><td>7.86988716030476e-06</td><td>153.8743479860876</td><td>3.245503632703356</td><td>-19.281214941605434</td><td>0.010220969030014876</td><td>-19.936260043731174</td><td>0.24851261927075172</td><td>37.00631314431711</td><td>0.24872256518035324</td><td>-19.921848328558312</td><td>0.2797951358732864</td><td>36.99190142914425</td><td>0.279981625381803</td></tr>\n",
       "<tr><td>1583</td><td>SGA-2020 1583</td><td>SDSSJ154714.80+435943.7</td><td>4006227</td><td>236.811657</td><td>43.9954633</td><td>S?</td><td>73.7</td><td>0.34833732</td><td>0.80167806</td><td>0.035454858</td><td>24.28048</td><td>17.942</td><td>False</td><td>LEDA-20181114</td><td>450</td><td>SDSSJ154714.80+435943.7</td><td>1</td><td>True</td><td>236.811657</td><td>43.9954633</td><td>0.34833732</td><td>2369p440</td><td>236.8118258118881</td><td>43.995408168631656</td><td>0.44290876</td><td>SB26</td><td>73.43627</td><td>0.66936576</td><td>236.81184980134176</td><td>43.9954253928106</td><td>10.796787</td><td>5.4691553</td><td>5.5400295</td><td>5.0083237</td><td>1.1597937</td><td>2.7347844</td><td>4.899796</td><td>6.474896</td><td>7.912876</td><td>9.239373</td><td>10.542037</td><td>11.851997</td><td>13.287263</td><td>21.150717</td><td>20.578133</td><td>20.278332</td><td>19.50612</td><td>18.965668</td><td>18.680468</td><td>18.583513</td><td>18.08508</td><td>17.802263</td><td>18.232662</td><td>17.750374</td><td>17.480091</td><td>18.042088</td><td>17.564339</td><td>17.302803</td><td>17.93493</td><td>17.456078</td><td>17.205051</td><td>17.862728</td><td>17.385504</td><td>17.149199</td><td>17.817097</td><td>17.33827</td><td>17.117218</td><td>17.790686</td><td>17.307076</td><td>17.095615</td><td>0.026365642</td><td>0.05347998</td><td>0.054105345</td><td>0.096931994</td><td>0.06621182</td><td>0.10098977</td><td>0.11348996</td><td>0.16473694</td><td>0.16420645</td><td>0.051747777</td><td>0.05532697</td><td>0.07408001</td><td>0.026645966</td><td>0.028689886</td><td>0.034319773</td><td>0.019509947</td><td>0.021838425</td><td>0.02358181</td><td>0.017683284</td><td>0.019549657</td><td>0.02095568</td><td>0.016889269</td><td>0.018349087</td><td>0.019430552</td><td>0.016331133</td><td>0.017439378</td><td>0.018593814</td><td>0.015741652</td><td>0.016789937</td><td>0.018067837</td><td>0.015319563</td><td>0.016302342</td><td>0.01781632</td><td>0.015060545</td><td>0.015975114</td><td>0.017633716</td><td>17.673647</td><td>0.7093972</td><td>0.36339322</td><td>2.7313263</td><td>1.2233223</td><td>17.165583</td><td>0.7834774</td><td>0.37744117</td><td>2.4594772</td><td>1.1343639</td><td>17.010578</td><td>0.6299627</td><td>0.3009715</td><td>2.9424691</td><td>1.4019876</td><td>0</td><td>0.0354706088249934</td><td>6.27417750722545e-06</td><td>69.2400177307674</td><td>2.1288829424308116</td><td>-17.827873987398966</td><td>0.01597973100805647</td><td>-17.34906449130444</td><td>0.7771155104497434</td><td>34.65613999179272</td><td>0.7772796928088951</td><td>-17.296503780050212</td><td>0.8736628112963495</td><td>34.6035792805385</td><td>0.8738088533047521</td></tr>\n",
       "<tr><td>1980</td><td>SGA-2020 1980</td><td>PGC3098317</td><td>3098317</td><td>221.078673</td><td>0.0419199</td><td>S0</td><td>141.12</td><td>0.9418896</td><td>0.699842</td><td>0.028935684</td><td>23.985483</td><td>15.487</td><td>False</td><td>LEDA-20181114</td><td>560</td><td>PGC3098317_GROUP</td><td>2</td><td>True</td><td>221.0777837382504</td><td>0.04279262980888227</td><td>1.0166478</td><td>2211p000</td><td>221.0765229904383</td><td>0.04404351172445308</td><td>1.0488012</td><td>SB26</td><td>164.451</td><td>0.9800691</td><td>221.07686987533287</td><td>0.04358679757899937</td><td>32.102997</td><td>9.238959</td><td>9.879681</td><td>10.428718</td><td>7.8350058</td><td>10.399587</td><td>13.1465645</td><td>15.987329</td><td>18.755962</td><td>21.488228</td><td>24.465588</td><td>27.493338</td><td>31.464037</td><td>15.995904</td><td>15.606668</td><td>15.309033</td><td>15.664592</td><td>15.287069</td><td>15.01805</td><td>15.44377</td><td>15.06274</td><td>14.800893</td><td>15.315058</td><td>14.9204</td><td>14.647455</td><td>15.237978</td><td>14.831263</td><td>14.5480585</td><td>15.184224</td><td>14.767017</td><td>14.474368</td><td>15.144503</td><td>14.717999</td><td>14.417657</td><td>15.118924</td><td>14.688098</td><td>14.377791</td><td>15.099152</td><td>14.662473</td><td>14.347829</td><td>0.06076624</td><td>0.08439203</td><td>0.06663399</td><td>0.058722753</td><td>0.07866875</td><td>0.059216432</td><td>0.09420997</td><td>0.12256561</td><td>0.22303835</td><td>0.020017084</td><td>0.020355469</td><td>0.021976111</td><td>0.015951209</td><td>0.016249087</td><td>0.01809202</td><td>0.013424219</td><td>0.013525385</td><td>0.015170244</td><td>0.011982458</td><td>0.011943107</td><td>0.013248542</td><td>0.011183206</td><td>0.0110309515</td><td>0.012122214</td><td>0.010671716</td><td>0.01040515</td><td>0.011336535</td><td>0.010279736</td><td>0.009965059</td><td>0.010787699</td><td>0.010061269</td><td>0.009693397</td><td>0.010398413</td><td>0.009885436</td><td>0.00947659</td><td>0.010130541</td><td>15.039355</td><td>0.6984608</td><td>1.5859108</td><td>2.528108</td><td>0.259893</td><td>14.587156</td><td>0.56408924</td><td>2.7104928</td><td>2.587596</td><td>0.27126014</td><td>14.262344</td><td>0.40249574</td><td>6.1888504</td><td>2.868194</td><td>0.17947721</td><td>0</td><td>0.0282548688581113</td><td>3.02928160558664e-06</td><td>265.3335545848681</td><td>8.856381357332388</td><td>-19.978600028224648</td><td>0.009479449107390245</td><td>-21.701489626691867</td><td>0.16589347298508267</td><td>36.36396235160642</td><td>0.1661639254897895</td><td>-21.71310676595944</td><td>0.17904165396032354</td><td>36.37557949087399</td><td>0.1792922742562328</td></tr>\n",
       "<tr><td>2497</td><td>SGA-2020 2497</td><td>PGC3087853</td><td>3087853</td><td>240.33834600000003</td><td>42.4915716</td><td>E?</td><td>108.46</td><td>0.386367</td><td>0.84333473</td><td>0.04403246</td><td>23.07748</td><td>16.514</td><td>False</td><td>LEDA-20181114</td><td>705</td><td>PGC3087853</td><td>1</td><td>True</td><td>240.33834600000003</td><td>42.4915716</td><td>0.386367</td><td>2403p425</td><td>240.33840052579356</td><td>42.491513260727665</td><td>0.4954678</td><td>SB26</td><td>106.050446</td><td>0.7868423</td><td>240.3382970919802</td><td>42.4915883610747</td><td>11.313653</td><td>3.3239202</td><td>3.1464913</td><td>2.3896873</td><td>5.3155003</td><td>6.0964546</td><td>6.9262023</td><td>7.856803</td><td>8.918445</td><td>10.179742</td><td>11.609998</td><td>13.146655</td><td>14.864035</td><td>16.531595</td><td>15.850637</td><td>15.402729</td><td>16.460232</td><td>15.785699</td><td>15.339987</td><td>16.409376</td><td>15.738466</td><td>15.295353</td><td>16.371584</td><td>15.7025585</td><td>15.2613325</td><td>16.34258</td><td>15.675271</td><td>15.237017</td><td>16.318659</td><td>15.652314</td><td>15.218645</td><td>16.299612</td><td>15.633096</td><td>15.205733</td><td>16.285524</td><td>15.618288</td><td>15.197861</td><td>16.275375</td><td>15.607325</td><td>15.196194</td><td>0.025897754</td><td>0.035037063</td><td>0.029424476</td><td>0.039424077</td><td>0.043976087</td><td>0.06350623</td><td>0.05103448</td><td>0.06938549</td><td>0.10926679</td><td>0.013019451</td><td>0.013169212</td><td>0.012494092</td><td>0.012545786</td><td>0.012686643</td><td>0.012055306</td><td>0.012104316</td><td>0.012234204</td><td>0.011656829</td><td>0.011773512</td><td>0.011910125</td><td>0.011366873</td><td>0.011475535</td><td>0.0116164265</td><td>0.011124929</td><td>0.011239328</td><td>0.0113871675</td><td>0.010955411</td><td>0.011053615</td><td>0.011196686</td><td>0.010840446</td><td>0.010916115</td><td>0.011050609</td><td>0.010772031</td><td>0.010818102</td><td>0.010943598</td><td>0.010762703</td><td>16.238897</td><td>4738.071</td><td>1.725694e-05</td><td>2.015303</td><td>0.021441562</td><td>15.566141</td><td>7949.1606</td><td>1.10196315e-05</td><td>1.8600783</td><td>0.045773886</td><td>15.185929</td><td>0.21616985</td><td>0.17310783</td><td>3.6355438</td><td>0.056992624</td><td>0</td><td>0.0440390477110973</td><td>4.80442779428294e-06</td><td>206.3430234060236</td><td>1.1785965929571187</td><td>-19.997471270030758</td><td>0.010946161983431195</td><td>-20.886839830999676</td><td>0.04873396887610451</td><td>36.4941644312194</td><td>0.04994759318307656</td><td>-20.886444707864282</td><td>0.05428717925318213</td><td>36.49376930808401</td><td>0.055379239554476746</td></tr>\n",
       "</table></div>"
      ],
      "text/plain": [
       "<Table length=5>\n",
       "SGA_ID   SGA_GALAXY  ...    mu_TFbright      mu_TFbright_err   \n",
       "int64     bytes16    ...      float64            float64       \n",
       "------ ------------- ... ----------------- --------------------\n",
       "   896  SGA-2020 896 ... 33.02752163567967   1.0949468518471905\n",
       "  1548 SGA-2020 1548 ... 36.99190142914425    0.279981625381803\n",
       "  1583 SGA-2020 1583 ...  34.6035792805385   0.8738088533047521\n",
       "  1980 SGA-2020 1980 ... 36.37557949087399   0.1792922742562328\n",
       "  2497 SGA-2020 2497 ... 36.49376930808401 0.055379239554476746"
      ]
     },
     "execution_count": 5,
     "metadata": {},
     "output_type": "execute_result"
    }
   ],
   "source": [
    "SGA_TF = Table.read('SGA_fuji_ITFR_moduli.fits')\n",
    "SGA_TF[:5]"
   ]
  },
  {
   "cell_type": "markdown",
   "id": "2b6da904-5527-4299-8435-3010ffc2eb60",
   "metadata": {
    "tags": []
   },
   "source": [
    "### Coma cluster membership\n",
    "\n",
    "Following Cosmicflows4 (Kourkchi et al. 2020), cluster membership is defined as\n",
    "- $R_p < 1.5R_{2t}$ and $v < V_c \\pm 3\\sigma_p$\n",
    "- $1.5R_{2t} \\leq R_p < 3R_{2t}$ and $v < V_c \\pm 2\\sigma_p$\n",
    "\n",
    "where $R_p$ is the projected distance from the cluster center, $R_{2t}$ is the cluster projected second turnaround radius, $\\sigma_p$ is the projected velocity dispersion of the cluster, and $V_c$ is the average heliocentric radial velocity of the cluster."
   ]
  },
  {
   "cell_type": "code",
   "execution_count": 6,
   "id": "ee44cc30-309f-4340-a4db-848e3be29fab",
   "metadata": {},
   "outputs": [
    {
     "name": "stderr",
     "output_type": "stream",
     "text": [
      "WARNING: VerifyWarning: It is strongly recommended that column names contain only upper and lower-case ASCII letters, digits, or underscores for maximum compatibility with other software (got '<Vcmba>'). [astropy.io.fits.column]\n"
     ]
    },
    {
     "data": {
      "text/html": [
       "<div><i>Table length=5</i>\n",
       "<table id=\"table139996122430672\" class=\"table-striped table-bordered table-condensed\">\n",
       "<thead><tr><th>f_Nest</th><th>Nest</th><th>Nmb</th><th>PGC1</th><th>SGLON</th><th>SGLAT</th><th>logLK</th><th>&lt;Vcmba&gt;</th><th>DM</th><th>sigV</th><th>R2t</th><th>sigP</th><th>Mlum</th><th>CF</th></tr></thead>\n",
       "<thead><tr><th>int16</th><th>int32</th><th>int16</th><th>int32</th><th>float64</th><th>float64</th><th>float64</th><th>int32</th><th>float64</th><th>int16</th><th>float64</th><th>int16</th><th>float64</th><th>float64</th></tr></thead>\n",
       "<tr><td>1</td><td>100001</td><td>136</td><td>44715</td><td>89.6226</td><td>8.1461</td><td>13.15</td><td>7331</td><td>34.33</td><td>886</td><td>2.129</td><td>1045</td><td>1710000000000000.0</td><td>1.65</td></tr>\n",
       "<tr><td>1</td><td>100002</td><td>197</td><td>41220</td><td>103.0008</td><td>-2.3248</td><td>12.69</td><td>1491</td><td>30.87</td><td>670</td><td>1.44</td><td>707</td><td>529000000000000.0</td><td>1.0</td></tr>\n",
       "<tr><td>1</td><td>100003</td><td>113</td><td>43296</td><td>156.2336</td><td>-11.5868</td><td>12.75</td><td>3873</td><td>32.94</td><td>822</td><td>1.52</td><td>746</td><td>623000000000000.0</td><td>1.12</td></tr>\n",
       "<tr><td>1</td><td>100004</td><td>81</td><td>58265</td><td>71.5103</td><td>49.7851</td><td>13.16</td><td>9424</td><td>34.87</td><td>740</td><td>2.153</td><td>1057</td><td>1770000000000000.0</td><td>2.26</td></tr>\n",
       "<tr><td>1</td><td>100005</td><td>61</td><td>36487</td><td>92.0255</td><td>-10.495</td><td>12.78</td><td>6987</td><td>34.22</td><td>707</td><td>1.56</td><td>766</td><td>673000000000000.0</td><td>1.58</td></tr>\n",
       "</table></div>"
      ],
      "text/plain": [
       "<Table length=5>\n",
       "f_Nest  Nest   Nmb   PGC1  SGLON   ...   R2t    sigP        Mlum           CF  \n",
       "int16  int32  int16 int32 float64  ... float64 int16      float64       float64\n",
       "------ ------ ----- ----- -------- ... ------- ----- ------------------ -------\n",
       "     1 100001   136 44715  89.6226 ...   2.129  1045 1710000000000000.0    1.65\n",
       "     1 100002   197 41220 103.0008 ...    1.44   707  529000000000000.0     1.0\n",
       "     1 100003   113 43296 156.2336 ...    1.52   746  623000000000000.0    1.12\n",
       "     1 100004    81 58265  71.5103 ...   2.153  1057 1770000000000000.0    2.26\n",
       "     1 100005    61 36487  92.0255 ...    1.56   766  673000000000000.0    1.58"
      ]
     },
     "execution_count": 6,
     "metadata": {},
     "output_type": "execute_result"
    }
   ],
   "source": [
    "# Data table #3 from Tully (2015)\n",
    "hdu = fits.open('../Tully15-Table3.fits')\n",
    "table3 = Table(hdu[1].data)\n",
    "hdu.close()\n",
    "\n",
    "table3[:5]"
   ]
  },
  {
   "cell_type": "code",
   "execution_count": 7,
   "id": "f621dc60-bb55-414d-93e1-89a90ff68f0d",
   "metadata": {},
   "outputs": [],
   "source": [
    "Coma_nest = 100001\n",
    "\n",
    "Coma_row_t3 = table3['Nest'] == Coma_nest\n",
    "\n",
    "R2t_Coma = table3['R2t'][Coma_row_t3][0]\n",
    "sigma_Coma = table3['sigP'][Coma_row_t3][0]"
   ]
  },
  {
   "cell_type": "code",
   "execution_count": 8,
   "id": "27656f4e-44b9-42a0-b0fd-6deca358a6e9",
   "metadata": {},
   "outputs": [
    {
     "name": "stderr",
     "output_type": "stream",
     "text": [
      "WARNING: VerifyWarning: Invalid keyword for column 24: ASCII table null option (TNULLn) is longer than the column's character width and will be truncated (got '-32768'). [astropy.io.fits.column]\n"
     ]
    },
    {
     "data": {
      "text/html": [
       "<div><i>Table length=5</i>\n",
       "<table id=\"table139996943014192\" class=\"table-striped table-bordered table-condensed\">\n",
       "<thead><tr><th>_RAJ2000</th><th>_DEJ2000</th><th>N1</th><th>__Dist_</th><th>__DM_</th><th>__Err_</th><th>N2</th><th>GLON</th><th>GLAT</th><th>SGLON</th><th>SGLAT</th><th>GMT</th><th>__Bmag_</th><th>__Kmag_</th><th>__HV_</th><th>__GV_</th><th>__Vls_</th><th>__Vcmb_</th><th>__Vcmba_</th><th>sigma</th><th>__PV_</th><th>__PVa_</th><th>Group</th><th>Ng</th><th>_2M__</th><th>PGCb</th><th>GName</th><th>_2M</th><th>Simbad</th><th>NED</th><th>recno</th></tr></thead>\n",
       "<thead><tr><th>float64</th><th>float64</th><th>int16</th><th>float64</th><th>float64</th><th>float64</th><th>int16</th><th>float64</th><th>float64</th><th>float64</th><th>float64</th><th>int16</th><th>float64</th><th>float64</th><th>int32</th><th>int32</th><th>int32</th><th>int32</th><th>int32</th><th>int16</th><th>int32</th><th>int32</th><th>int16</th><th>int16</th><th>int16</th><th>int32</th><th>str10</th><th>str2</th><th>str6</th><th>str3</th><th>int32</th></tr></thead>\n",
       "<tr><td>266.404996</td><td>-28.936172</td><td>16</td><td>0.01</td><td>14.5</td><td>0.02</td><td>20</td><td>0.0</td><td>0.0</td><td>185.7861</td><td>42.3103</td><td>1</td><td>-6.0</td><td>-9.0</td><td>51</td><td>26</td><td>13</td><td>91</td><td>91</td><td>64</td><td>90</td><td>90</td><td>223</td><td>16</td><td>0</td><td>17223</td><td>Galaxy</td><td>2M</td><td>Simbad</td><td>NED</td><td>1</td></tr>\n",
       "<tr><td>15.693346</td><td>36.392682</td><td>39</td><td>0.76</td><td>24.4</td><td>0.01</td><td>41</td><td>125.479</td><td>-26.423</td><td>322.2989</td><td>9.4579</td><td>2</td><td>3.4</td><td>0.68</td><td>-213</td><td>-49</td><td>17</td><td>-485</td><td>-484</td><td>156</td><td>-541</td><td>-547</td><td>222</td><td>39</td><td>0</td><td>2557</td><td>NGC0224</td><td>2M</td><td>Simbad</td><td>NED</td><td>2</td></tr>\n",
       "<tr><td>149.896678</td><td>-12.831016</td><td>4</td><td>1.37</td><td>25.68</td><td>0.03</td><td>4</td><td>251.1365</td><td>32.2601</td><td>120.502</td><td>-42.5472</td><td>10</td><td>9.75</td><td>9.29</td><td>347</td><td>153</td><td>103</td><td>690</td><td>691</td><td>23</td><td>589</td><td>589</td><td>227</td><td>4</td><td>0</td><td>29128</td><td>NGC003109</td><td>2M</td><td>Simbad</td><td>NED</td><td>3</td></tr>\n",
       "<tr><td>139.011477</td><td>52.840941</td><td>1</td><td>1.37</td><td>25.68</td><td>0.1</td><td>1</td><td>164.6636</td><td>42.8855</td><td>47.6118</td><td>-15.0125</td><td>10</td><td>13.75</td><td>11.5</td><td>-29</td><td>17</td><td>45</td><td>130</td><td>130</td><td>0</td><td>28</td><td>28</td><td>0</td><td>579</td><td>0</td><td>26142</td><td>UGC4879</td><td>2M</td><td>Simbad</td><td>NED</td><td>4</td></tr>\n",
       "<tr><td>243.448636</td><td>54.37081</td><td>1</td><td>1.91</td><td>26.41</td><td>0.08</td><td>1</td><td>83.8788</td><td>44.4092</td><td>56.0935</td><td>40.37</td><td>10</td><td>16.69</td><td>12.9</td><td>-139</td><td>44</td><td>78</td><td>-121</td><td>-120</td><td>0</td><td>-262</td><td>-268</td><td>230</td><td>1</td><td>0</td><td>2801026</td><td>KKR25</td><td>2M</td><td>Simbad</td><td>NED</td><td>5</td></tr>\n",
       "</table></div>"
      ],
      "text/plain": [
       "<Table length=5>\n",
       " _RAJ2000   _DEJ2000    N1  __Dist_  __DM_  ... _2M  Simbad NED  recno\n",
       " float64    float64   int16 float64 float64 ... str2  str6  str3 int32\n",
       "---------- ---------- ----- ------- ------- ... ---- ------ ---- -----\n",
       "266.404996 -28.936172    16    0.01    14.5 ...   2M Simbad  NED     1\n",
       " 15.693346  36.392682    39    0.76    24.4 ...   2M Simbad  NED     2\n",
       "149.896678 -12.831016     4    1.37   25.68 ...   2M Simbad  NED     3\n",
       "139.011477  52.840941     1    1.37   25.68 ...   2M Simbad  NED     4\n",
       "243.448636   54.37081     1    1.91   26.41 ...   2M Simbad  NED     5"
      ]
     },
     "execution_count": 8,
     "metadata": {},
     "output_type": "execute_result"
    }
   ],
   "source": [
    "# Data table #2 from Tully et al. (2013)\n",
    "hdu = fits.open('../Tully13-Table2.fit')\n",
    "table2 = Table(hdu[1].data)\n",
    "hdu.close()\n",
    "\n",
    "table2[:5]"
   ]
  },
  {
   "cell_type": "code",
   "execution_count": 9,
   "id": "8a70a831-27ef-4c8b-91ab-ef868dabbecb",
   "metadata": {},
   "outputs": [],
   "source": [
    "Coma_coords = SkyCoord(table3['SGLON'][Coma_row_t3]*u.degree, \n",
    "                       table3['SGLAT'][Coma_row_t3]*u.degree, \n",
    "                       frame='supergalactic')\n",
    "\n",
    "group_coords = SkyCoord(table2['SGLON']*u.degree, \n",
    "                        table2['SGLAT']*u.degree, \n",
    "                        frame='supergalactic')\n",
    "\n",
    "idx, d2d, d3d = Coma_coords.match_to_catalog_sky(group_coords)\n",
    "\n",
    "V_Coma = table2['__HV_'][idx][0]"
   ]
  },
  {
   "cell_type": "markdown",
   "id": "0b713bf2-ff1d-47c3-8170-77bb0d958066",
   "metadata": {
    "tags": []
   },
   "source": [
    "#### Calculate the projected distance between the Coma cluster and each galaxy"
   ]
  },
  {
   "cell_type": "code",
   "execution_count": 10,
   "id": "0785f462-7bcf-488a-b1e7-1d93ce06abb4",
   "metadata": {},
   "outputs": [],
   "source": [
    "# First, we need to convert R2t from Mpc to an angle, using the group's heliocentric velocity\n",
    "R2t_Coma_angle = (R2t_Coma/(V_Coma/H0))*u.radian"
   ]
  },
  {
   "cell_type": "code",
   "execution_count": 11,
   "id": "a14d58c0-b4cb-40e9-88d8-cc606832f9a5",
   "metadata": {},
   "outputs": [],
   "source": [
    "SGA_coords = SkyCoord(SGA_TF['RA'], SGA_TF['DEC'], unit='deg')\n",
    "\n",
    "sep = Coma_coords.separation(SGA_coords)"
   ]
  },
  {
   "cell_type": "code",
   "execution_count": 12,
   "id": "317d7165-9165-4ce9-b914-0d1e7ad042f1",
   "metadata": {},
   "outputs": [
    {
     "name": "stdout",
     "output_type": "stream",
     "text": [
      "SGA galaxies in Coma with distance moduli: 103\n"
     ]
    }
   ],
   "source": [
    "SGA_in_Coma1 = (sep < 1.5*R2t_Coma_angle) & (SGA_TF['Z_DESI']*c > V_Coma - 3*sigma_Coma) & (SGA_TF['Z_DESI']*c < V_Coma + 3*sigma_Coma)\n",
    "\n",
    "SGA_in_Coma2 = (sep >= 1.5*R2t_Coma_angle) & (sep < 3*R2t_Coma_angle) & (SGA_TF['Z_DESI']*c > V_Coma - 2*sigma_Coma) & (SGA_TF['Z_DESI']*c < V_Coma + 2*sigma_Coma)\n",
    "#SGA_in_Coma2 = (sep >= 1.5*R2t_Coma_angle) & (SGA['Z_DESI']*c > V_Coma - 2*sigma_Coma) & (SGA['Z_DESI']*c < V_Coma + 2*sigma_Coma)\n",
    "\n",
    "SGA_in_Coma = SGA_in_Coma1 | SGA_in_Coma2\n",
    "\n",
    "################################################################################\n",
    "# Keep all observations of each galaxy that are within the Coma cluster\n",
    "#-------------------------------------------------------------------------------\n",
    "SGA_ID_in_Coma = SGA_TF['SGA_ID'][SGA_in_Coma]\n",
    "\n",
    "SGA_TF_Coma = SGA_TF[SGA_in_Coma]\n",
    "################################################################################\n",
    "\n",
    "print('SGA galaxies in Coma with distance moduli:', len(SGA_ID_in_Coma))"
   ]
  },
  {
   "cell_type": "code",
   "execution_count": 13,
   "id": "da7cb0bc-13e5-464f-91d4-8b1f42c428ff",
   "metadata": {},
   "outputs": [
    {
     "data": {
      "image/png": "[encoded data removed]",
      "text/plain": [
       "<Figure size 640x480 with 1 Axes>"
      ]
     },
     "metadata": {},
     "output_type": "display_data"
    }
   ],
   "source": [
    "plt.figure(tight_layout=True)\n",
    "\n",
    "plt.hist(sep[SGA_in_Coma].to_value('degree'), bins=np.arange(0, 5, 0.5))\n",
    "\n",
    "plt.xlabel('SGA-Coma Angular Separation [deg]')\n",
    "plt.ylabel('number of galaxies');"
   ]
  },
  {
   "cell_type": "code",
   "execution_count": 14,
   "id": "a7486223-1923-462b-8788-db93b6c87337",
   "metadata": {},
   "outputs": [
    {
     "data": {
      "image/png": "[encoded data removed]",
      "text/plain": [
       "<Figure size 1500x500 with 3 Axes>"
      ]
     },
     "metadata": {},
     "output_type": "display_data"
    }
   ],
   "source": [
    "plt.figure(figsize=(15,5), tight_layout=True)\n",
    "\n",
    "plt.subplot(131)\n",
    "plt.plot(SGA_TF_Coma['RA'], SGA_TF_Coma['DEC'], '.')\n",
    "# plt.plot(SGA_TF_Coma['RA'][np.in1d(SGA_TF_Coma['SGA_ID'], [309306, 455486, 486394, 1167691, 1269260])], \n",
    "#          SGA_TF_Coma['DEC'][np.in1d(SGA_TF_Coma['SGA_ID'], [309306, 455486, 486394, 1167691, 1269260])],\n",
    "#          'o')\n",
    "plt.plot(Coma_coords.transform_to('icrs').ra.deg, Coma_coords.transform_to('icrs').dec.deg, 'kx', ms=10, mew=5)\n",
    "plt.xlabel(r'$\\alpha$ [deg]')\n",
    "plt.ylabel(r'$\\delta$ [deg]')\n",
    "\n",
    "plt.subplot(132)\n",
    "plt.plot(SGA_TF_Coma['Z_DESI'], SGA_TF_Coma['DEC'], '.')\n",
    "# plt.plot(SGA_TF_Coma['Z_DESI'][np.in1d(SGA_TF_Coma['SGA_ID'], [309306, 455486, 486394, 1167691, 1269260])], \n",
    "#          SGA_TF_Coma['DEC'][np.in1d(SGA_TF_Coma['SGA_ID'], [309306, 455486, 486394, 1167691, 1269260])],\n",
    "#          'o')\n",
    "plt.plot(V_Coma/c, Coma_coords.transform_to('icrs').dec.deg, 'kx', ms=10, mew=5)\n",
    "plt.xlabel('z')\n",
    "plt.ylabel(r'$\\delta$ [deg]')\n",
    "\n",
    "plt.subplot(133)\n",
    "plt.hist(SGA_TF_Coma['Z_DESI'], bins=np.arange(0.0125, 0.035, 0.0025))\n",
    "# plt.hist(SGA_TF_Coma['Z_DESI'][np.in1d(SGA_TF_Coma['SGA_ID'], [309306, 455486, 486394, 1167691, 1269260])], \n",
    "#          bins=np.arange(0.0125, 0.035, 0.0025))\n",
    "plt.vlines(V_Coma/c, 0, 85, colors='k', linestyles='dotted')\n",
    "plt.xlabel('redshift')\n",
    "plt.ylabel('number of galaxies')\n",
    "plt.ylim(ymax=35);"
   ]
  },
  {
   "cell_type": "markdown",
   "id": "8058afe3-88a5-49b7-bde3-c46a9f008267",
   "metadata": {},
   "source": [
    "### Calculate average distance modulus\n",
    "\n",
    "We will use the weighted mean,\n",
    "\\begin{equation}\n",
    "  \\overline{\\mu} = \\frac{\\sum_i w_i \\mu_i}{\\sum_i w_i}\n",
    "\\end{equation}\n",
    "where $w_i = 1/\\sigma^2$."
   ]
  },
  {
   "cell_type": "markdown",
   "id": "2f363cfe-4b73-474b-a1be-70e4d0a5af41",
   "metadata": {},
   "source": [
    "#### with dwarfs"
   ]
  },
  {
   "cell_type": "code",
   "execution_count": 15,
   "id": "2b5cfb7d-6afb-4e35-90d6-ecf1e7dab34f",
   "metadata": {},
   "outputs": [],
   "source": [
    "weights = 1./SGA_TF_Coma['mu_TF_err']**2\n",
    "\n",
    "mu_coma_avg = np.average(SGA_TF_Coma['mu_TF'], weights=weights)\n",
    "mu_coma_avg_err = np.sqrt(1./np.sum(weights))"
   ]
  },
  {
   "cell_type": "code",
   "execution_count": 16,
   "id": "247ff276-b8f8-4b63-8dd8-a182adab02f3",
   "metadata": {},
   "outputs": [
    {
     "name": "stdout",
     "output_type": "stream",
     "text": [
      "Distance modulus to Coma: 34.839 +/- 0.035\n",
      "Distance to Coma: 92.85 +/- 1.49 Mpc/h\n"
     ]
    }
   ],
   "source": [
    "# Convert to distance\n",
    "d_coma_avg = 10*10**(mu_coma_avg/5) # pc/h\n",
    "d_coma_avg_Mpc = d_coma_avg/1e6\n",
    "\n",
    "d_coma_avg_err = d_coma_avg*0.2*np.log(10)*mu_coma_avg_err\n",
    "d_coma_avg_err_Mpc = d_coma_avg_err/1e6\n",
    "\n",
    "print(f'Distance modulus to Coma: {mu_coma_avg:.3f} +/- {mu_coma_avg_err:.3f}')\n",
    "print(f'Distance to Coma: {d_coma_avg_Mpc:.2f} +/- {d_coma_avg_err_Mpc:.2f} Mpc/h')"
   ]
  },
  {
   "cell_type": "markdown",
   "id": "f52edbef-a313-4364-875b-a61d37a7086d",
   "metadata": {},
   "source": [
    "#### without dwarfs"
   ]
  },
  {
   "cell_type": "code",
   "execution_count": 19,
   "id": "73ca4428-311e-4e55-bdbb-e2f0e317495a",
   "metadata": {
    "tags": []
   },
   "outputs": [],
   "source": [
    "weights_bright = 1./SGA_TF_Coma['mu_TFbright_err']**2\n",
    "\n",
    "mu_bright_coma_avg = np.average(SGA_TF_Coma['mu_TFbright'], weights=weights_bright)\n",
    "mu_bright_coma_avg_err = np.sqrt(1./np.sum(weights_bright))"
   ]
  },
  {
   "cell_type": "code",
   "execution_count": 20,
   "id": "c831e318-4fc1-454f-8197-344bbf9ac40c",
   "metadata": {
    "tags": []
   },
   "outputs": [
    {
     "name": "stdout",
     "output_type": "stream",
     "text": [
      "Distance modulus to Coma: 34.833 +/- 0.038\n",
      "Distance to Coma: 92.61 +/- 1.61 Mpc/h\n"
     ]
    }
   ],
   "source": [
    "# Convert to distance\n",
    "d_bright_coma_avg = 10*10**(mu_bright_coma_avg/5) # pc/h\n",
    "d_bright_coma_avg_Mpc = d_bright_coma_avg/1e6\n",
    "\n",
    "d_bright_coma_avg_err = d_bright_coma_avg*0.2*np.log(10)*mu_bright_coma_avg_err\n",
    "d_bright_coma_avg_err_Mpc = d_bright_coma_avg_err/1e6\n",
    "\n",
    "print(f'Distance modulus to Coma: {mu_bright_coma_avg:.3f} +/- {mu_bright_coma_avg_err:.3f}')\n",
    "print(f'Distance to Coma: {d_bright_coma_avg_Mpc:.2f} +/- {d_bright_coma_avg_err_Mpc:.2f} Mpc/h')"
   ]
  },
  {
   "cell_type": "code",
   "execution_count": null,
   "id": "3a7d0b53-35ce-4dd8-8be7-7dc691458fbe",
   "metadata": {},
   "outputs": [],
   "source": []
  }
 ],
 "metadata": {
  "kernelspec": {
   "display_name": "DESI master",
   "language": "python",
   "name": "desi-master"
  },
  "language_info": {
   "codemirror_mode": {
    "name": "ipython",
    "version": 3
   },
   "file_extension": ".py",
   "mimetype": "text/x-python",
   "name": "python",
   "nbconvert_exporter": "python",
   "pygments_lexer": "ipython3",
   "version": "3.10.8"
  }
 },
 "nbformat": 4,
 "nbformat_minor": 5
}
