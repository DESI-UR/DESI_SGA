{
 "cells": [
  {
   "cell_type": "markdown",
   "id": "c58781ae-32d7-479f-8458-a0199d9c6de0",
   "metadata": {},
   "source": [
    "How does the velocity compare for observations made on opposite sides of the galaxy?"
   ]
  },
  {
   "cell_type": "code",
   "execution_count": 2,
   "id": "20f1385a-b0c3-4ac1-9017-d2a6d9a95bb2",
   "metadata": {
    "tags": []
   },
   "outputs": [],
   "source": [
    "from astropy.table import Table\n",
    "from astropy.coordinates import SkyCoord, match_coordinates_sky\n",
    "from astropy.io import fits\n",
    "from astropy import units as u\n",
    "\n",
    "import numpy as np\n",
    "\n",
    "import matplotlib.pyplot as plt"
   ]
  },
  {
   "cell_type": "code",
   "execution_count": 3,
   "id": "805d0ae4-7edb-4fac-b84a-49c95ce0c070",
   "metadata": {
    "tags": []
   },
   "outputs": [],
   "source": [
    "h = 1\n",
    "H0 = 100*h\n",
    "\n",
    "c = 3e5\n",
    "\n",
    "q0 = 0.2\n",
    "\n",
    "V0 = 2.5"
   ]
  },
  {
   "cell_type": "markdown",
   "id": "4b98f672-907b-4611-a9d6-3b576aef836a",
   "metadata": {},
   "source": [
    "# Data"
   ]
  },
  {
   "cell_type": "code",
   "execution_count": 4,
   "id": "2df727a5-1f70-4d74-a08c-04252377bd2b",
   "metadata": {
    "tags": []
   },
   "outputs": [
    {
     "data": {
      "text/html": [
       "<div><i>Table length=5</i>\n",
       "<table id=\"table139701131181936\" class=\"table-striped table-bordered table-condensed\">\n",
       "<thead><tr><th>TARGETID</th><th>TARGET_RA</th><th>TARGET_DEC</th><th>HEALPIX</th><th>SURVEY</th><th>Z</th><th>ZERR</th><th>ZWARN</th><th>DELTACHI2</th><th>FILENAME</th><th>PVTYPE</th><th>SGA_ID</th><th>RA</th><th>DEC</th></tr></thead>\n",
       "<thead><tr><th>int64</th><th>float64</th><th>float64</th><th>int64</th><th>bytes3</th><th>float64</th><th>float64</th><th>int64</th><th>float64</th><th>bytes63</th><th>bytes3</th><th>int64</th><th>float64</th><th>float64</th></tr></thead>\n",
       "<tr><td>1079550234591232</td><td>194.390863195343</td><td>27.5157211790145</td><td>10378</td><td>sv3</td><td>1.1235686466514</td><td>7.31685779475115e-05</td><td>4</td><td>3.28414569795132</td><td>fuji/healpix/sv3/bright/103/10378/redrock-sv3-bright-10378.fits</td><td>EXT</td><td>662902</td><td>194.39086319534337</td><td>27.51572117901454</td></tr>\n",
       "<tr><td>1092744374124544</td><td>194.390863195343</td><td>27.5157211790145</td><td>10378</td><td>sv3</td><td>0.686773088332363</td><td>6.9756676262104e-05</td><td>4</td><td>0.786607094109058</td><td>fuji/healpix/sv3/dark/103/10378/redrock-sv3-dark-10378.fits</td><td>EXT</td><td>662902</td><td>194.39086319534337</td><td>27.51572117901454</td></tr>\n",
       "<tr><td>1092744374124546</td><td>194.364461113654</td><td>27.5037185881314</td><td>10378</td><td>sv3</td><td>0.0242933923052181</td><td>4.95233472646785e-05</td><td>0</td><td>95.428411073226</td><td>fuji/healpix/sv3/dark/103/10378/redrock-sv3-dark-10378.fits</td><td>EXT</td><td>662902</td><td>194.36446111365385</td><td>27.50371858813136</td></tr>\n",
       "<tr><td>1092744369930240</td><td>194.338458724402</td><td>27.4918902690326</td><td>10378</td><td>sv3</td><td>0.0264170223697961</td><td>0.00010139452689994</td><td>0</td><td>9.53278421035066</td><td>fuji/healpix/sv3/dark/103/10378/redrock-sv3-dark-10378.fits</td><td>EXT</td><td>662902</td><td>194.33845872440244</td><td>27.491890269032595</td></tr>\n",
       "<tr><td>1092744374124545</td><td>194.377858465028</td><td>27.5098100780282</td><td>10378</td><td>sv3</td><td>0.211332646769145</td><td>6.68535116703737e-05</td><td>4</td><td>3.73989077657461</td><td>fuji/healpix/sv3/dark/103/10378/redrock-sv3-dark-10378.fits</td><td>EXT</td><td>662902</td><td>194.3778584650283</td><td>27.509810078028195</td></tr>\n",
       "</table></div>"
      ],
      "text/plain": [
       "<Table length=5>\n",
       "    TARGETID        TARGET_RA     ...         RA                DEC        \n",
       "     int64           float64      ...      float64            float64      \n",
       "---------------- ---------------- ... ------------------ ------------------\n",
       "1079550234591232 194.390863195343 ... 194.39086319534337  27.51572117901454\n",
       "1092744374124544 194.390863195343 ... 194.39086319534337  27.51572117901454\n",
       "1092744374124546 194.364461113654 ... 194.36446111365385  27.50371858813136\n",
       "1092744369930240 194.338458724402 ... 194.33845872440244 27.491890269032595\n",
       "1092744374124545 194.377858465028 ...  194.3778584650283 27.509810078028195"
      ]
     },
     "execution_count": 4,
     "metadata": {},
     "output_type": "execute_result"
    }
   ],
   "source": [
    "tfuji = Table.read('/global/cfs/projectdirs/desi/science/td/pv/desi_pv_tf_fuji_healpix.fits')\n",
    "tfuji[:5]"
   ]
  },
  {
   "cell_type": "code",
   "execution_count": 5,
   "id": "cd8a6853-e432-4157-92e7-e14796307912",
   "metadata": {
    "tags": []
   },
   "outputs": [
    {
     "data": {
      "text/html": [
       "<div><i>Table length=5</i>\n",
       "<table id=\"table139701155022976\" class=\"table-striped table-bordered table-condensed\">\n",
       "<thead><tr><th>SGA_ID</th><th>SGA_GALAXY</th><th>GALAXY</th><th>PGC</th><th>RA_LEDA</th><th>DEC_LEDA</th><th>MORPHTYPE</th><th>PA_LEDA</th><th>D25_LEDA</th><th>BA_LEDA</th><th>Z_LEDA</th><th>SB_D25_LEDA</th><th>MAG_LEDA</th><th>BYHAND</th><th>REF</th><th>GROUP_ID</th><th>GROUP_NAME</th><th>GROUP_MULT</th><th>GROUP_PRIMARY</th><th>GROUP_RA</th><th>GROUP_DEC</th><th>GROUP_DIAMETER</th><th>BRICKNAME</th><th>RA</th><th>DEC</th><th>D26</th><th>D26_REF</th><th>PA</th><th>BA</th><th>RA_MOMENT</th><th>DEC_MOMENT</th><th>SMA_MOMENT</th><th>G_SMA50</th><th>R_SMA50</th><th>Z_SMA50</th><th>SMA_SB22</th><th>SMA_SB22.5</th><th>SMA_SB23</th><th>SMA_SB23.5</th><th>SMA_SB24</th><th>SMA_SB24.5</th><th>SMA_SB25</th><th>SMA_SB25.5</th><th>SMA_SB26</th><th>G_MAG_SB22</th><th>R_MAG_SB22</th><th>Z_MAG_SB22</th><th>G_MAG_SB22.5</th><th>R_MAG_SB22.5</th><th>Z_MAG_SB22.5</th><th>G_MAG_SB23</th><th>R_MAG_SB23</th><th>Z_MAG_SB23</th><th>G_MAG_SB23.5</th><th>R_MAG_SB23.5</th><th>Z_MAG_SB23.5</th><th>G_MAG_SB24</th><th>R_MAG_SB24</th><th>Z_MAG_SB24</th><th>G_MAG_SB24.5</th><th>R_MAG_SB24.5</th><th>Z_MAG_SB24.5</th><th>G_MAG_SB25</th><th>R_MAG_SB25</th><th>Z_MAG_SB25</th><th>G_MAG_SB25.5</th><th>R_MAG_SB25.5</th><th>Z_MAG_SB25.5</th><th>G_MAG_SB26</th><th>R_MAG_SB26</th><th>Z_MAG_SB26</th><th>SMA_SB22_ERR</th><th>SMA_SB22.5_ERR</th><th>SMA_SB23_ERR</th><th>SMA_SB23.5_ERR</th><th>SMA_SB24_ERR</th><th>SMA_SB24.5_ERR</th><th>SMA_SB25_ERR</th><th>SMA_SB25.5_ERR</th><th>SMA_SB26_ERR</th><th>G_MAG_SB22_ERR</th><th>R_MAG_SB22_ERR</th><th>Z_MAG_SB22_ERR</th><th>G_MAG_SB22.5_ERR</th><th>R_MAG_SB22.5_ERR</th><th>Z_MAG_SB22.5_ERR</th><th>G_MAG_SB23_ERR</th><th>R_MAG_SB23_ERR</th><th>Z_MAG_SB23_ERR</th><th>G_MAG_SB23.5_ERR</th><th>R_MAG_SB23.5_ERR</th><th>Z_MAG_SB23.5_ERR</th><th>G_MAG_SB24_ERR</th><th>R_MAG_SB24_ERR</th><th>Z_MAG_SB24_ERR</th><th>G_MAG_SB24.5_ERR</th><th>R_MAG_SB24.5_ERR</th><th>Z_MAG_SB24.5_ERR</th><th>G_MAG_SB25_ERR</th><th>R_MAG_SB25_ERR</th><th>Z_MAG_SB25_ERR</th><th>G_MAG_SB25.5_ERR</th><th>R_MAG_SB25.5_ERR</th><th>Z_MAG_SB25.5_ERR</th><th>G_MAG_SB26_ERR</th><th>R_MAG_SB26_ERR</th><th>Z_MAG_SB26_ERR</th><th>G_COG_PARAMS_MTOT</th><th>G_COG_PARAMS_M0</th><th>G_COG_PARAMS_ALPHA1</th><th>G_COG_PARAMS_ALPHA2</th><th>G_COG_PARAMS_CHI2</th><th>R_COG_PARAMS_MTOT</th><th>R_COG_PARAMS_M0</th><th>R_COG_PARAMS_ALPHA1</th><th>R_COG_PARAMS_ALPHA2</th><th>R_COG_PARAMS_CHI2</th><th>Z_COG_PARAMS_MTOT</th><th>Z_COG_PARAMS_M0</th><th>Z_COG_PARAMS_ALPHA1</th><th>Z_COG_PARAMS_ALPHA2</th><th>Z_COG_PARAMS_CHI2</th><th>ELLIPSEBIT</th></tr></thead>\n",
       "<thead><tr><th>int64</th><th>bytes16</th><th>bytes29</th><th>int64</th><th>float64</th><th>float64</th><th>bytes21</th><th>float32</th><th>float32</th><th>float32</th><th>float32</th><th>float32</th><th>float32</th><th>bool</th><th>bytes13</th><th>int64</th><th>bytes35</th><th>int16</th><th>bool</th><th>float64</th><th>float64</th><th>float32</th><th>bytes8</th><th>float64</th><th>float64</th><th>float32</th><th>bytes4</th><th>float32</th><th>float32</th><th>float64</th><th>float64</th><th>float32</th><th>float32</th><th>float32</th><th>float32</th><th>float32</th><th>float32</th><th>float32</th><th>float32</th><th>float32</th><th>float32</th><th>float32</th><th>float32</th><th>float32</th><th>float32</th><th>float32</th><th>float32</th><th>float32</th><th>float32</th><th>float32</th><th>float32</th><th>float32</th><th>float32</th><th>float32</th><th>float32</th><th>float32</th><th>float32</th><th>float32</th><th>float32</th><th>float32</th><th>float32</th><th>float32</th><th>float32</th><th>float32</th><th>float32</th><th>float32</th><th>float32</th><th>float32</th><th>float32</th><th>float32</th><th>float32</th><th>float32</th><th>float32</th><th>float32</th><th>float32</th><th>float32</th><th>float32</th><th>float32</th><th>float32</th><th>float32</th><th>float32</th><th>float32</th><th>float32</th><th>float32</th><th>float32</th><th>float32</th><th>float32</th><th>float32</th><th>float32</th><th>float32</th><th>float32</th><th>float32</th><th>float32</th><th>float32</th><th>float32</th><th>float32</th><th>float32</th><th>float32</th><th>float32</th><th>float32</th><th>float32</th><th>float32</th><th>float32</th><th>float32</th><th>float32</th><th>float32</th><th>float32</th><th>float32</th><th>float32</th><th>float32</th><th>float32</th><th>float32</th><th>float32</th><th>float32</th><th>float32</th><th>float32</th><th>float32</th><th>float32</th><th>float32</th><th>float32</th><th>float32</th><th>float32</th><th>int32</th></tr></thead>\n",
       "<tr><td>2</td><td>SGA-2020 2</td><td>PGC1283207</td><td>1283207</td><td>228.3770865</td><td>5.4232017</td><td>S?</td><td>152.2</td><td>0.36307806</td><td>0.724436</td><td>0.03463229</td><td>23.40448</td><td>16.976</td><td>False</td><td>LEDA-20181114</td><td>0</td><td>PGC1283207</td><td>1</td><td>True</td><td>228.3770865</td><td>5.4232017</td><td>0.36307806</td><td>2283p055</td><td>228.3770803831908</td><td>5.423191398593787</td><td>0.49470574</td><td>SB26</td><td>158.20142</td><td>0.545691</td><td>228.37700918822188</td><td>5.4232652570544015</td><td>10.897086</td><td>3.3509698</td><td>3.1147978</td><td>3.240862</td><td>5.902337</td><td>6.9126143</td><td>7.941369</td><td>8.997992</td><td>10.073601</td><td>11.199986</td><td>12.391357</td><td>13.561038</td><td>14.841172</td><td>16.966799</td><td>16.108246</td><td>15.486356</td><td>16.879545</td><td>16.024958</td><td>15.400715</td><td>16.818878</td><td>15.967034</td><td>15.341793</td><td>16.776297</td><td>15.925804</td><td>15.300776</td><td>16.746685</td><td>15.897334</td><td>15.272053</td><td>16.725166</td><td>15.876816</td><td>15.2521105</td><td>16.708357</td><td>15.862035</td><td>15.237181</td><td>16.696539</td><td>15.851936</td><td>15.226998</td><td>16.689613</td><td>15.844313</td><td>15.21976</td><td>0.013392451</td><td>0.02354</td><td>0.021872982</td><td>0.01736985</td><td>0.024445537</td><td>0.039866067</td><td>0.05026544</td><td>0.08455789</td><td>0.122911856</td><td>0.005682776</td><td>0.0054258136</td><td>0.0049038026</td><td>0.005588406</td><td>0.005323561</td><td>0.0047632363</td><td>0.00543534</td><td>0.005177031</td><td>0.0046343105</td><td>0.0053025587</td><td>0.005040888</td><td>0.0045181247</td><td>0.005206092</td><td>0.0049438984</td><td>0.0044374703</td><td>0.0051483097</td><td>0.0048758644</td><td>0.0043834248</td><td>0.0051032505</td><td>0.0048264163</td><td>0.004344248</td><td>0.0050705094</td><td>0.004792021</td><td>0.004319857</td><td>0.005054293</td><td>0.004765629</td><td>0.0043044444</td><td>16.65942</td><td>0.34037337</td><td>0.2978292</td><td>3.0239506</td><td>0.07928849</td><td>15.820566</td><td>0.2640441</td><td>0.34559453</td><td>3.3033552</td><td>0.003811298</td><td>15.195567</td><td>0.29826432</td><td>0.3001073</td><td>3.2333765</td><td>0.011723555</td><td>0</td></tr>\n",
       "<tr><td>3</td><td>SGA-2020 3</td><td>PGC1310416</td><td>1310416</td><td>202.54443750000002</td><td>6.9345944</td><td>Sc</td><td>159.26</td><td>0.4017908</td><td>0.7816278</td><td>0.073888786</td><td>23.498482</td><td>16.85</td><td>False</td><td>LEDA-20181114</td><td>1</td><td>PGC1310416</td><td>1</td><td>True</td><td>202.54443750000002</td><td>6.9345944</td><td>0.4017908</td><td>2025p070</td><td>202.5444619671207</td><td>6.9346244322326624</td><td>0.55350494</td><td>SB26</td><td>161.5937</td><td>0.7291764</td><td>202.54432739596137</td><td>6.934806737209989</td><td>15.746941</td><td>5.6416235</td><td>5.2647552</td><td>5.0895185</td><td>5.9838247</td><td>7.4356494</td><td>8.728868</td><td>10.087478</td><td>11.529764</td><td>12.818195</td><td>14.115497</td><td>15.319822</td><td>16.605148</td><td>16.963299</td><td>16.307854</td><td>15.806882</td><td>16.729511</td><td>16.097378</td><td>15.615527</td><td>16.606344</td><td>15.990707</td><td>15.518403</td><td>16.525967</td><td>15.917321</td><td>15.450624</td><td>16.462585</td><td>15.859485</td><td>15.397182</td><td>16.419558</td><td>15.820947</td><td>15.36243</td><td>16.390558</td><td>15.796369</td><td>15.338905</td><td>16.376112</td><td>15.782492</td><td>15.323709</td><td>16.364115</td><td>15.773462</td><td>15.313725</td><td>0.036992554</td><td>0.034982767</td><td>0.037769336</td><td>0.049429573</td><td>0.052699674</td><td>0.074114166</td><td>0.07914538</td><td>0.09781406</td><td>0.15534972</td><td>0.016095797</td><td>0.019181909</td><td>0.021539452</td><td>0.013955905</td><td>0.016594552</td><td>0.018640138</td><td>0.012786752</td><td>0.015244632</td><td>0.01715491</td><td>0.011973826</td><td>0.014366956</td><td>0.016208366</td><td>0.011358372</td><td>0.013676575</td><td>0.015474222</td><td>0.010944939</td><td>0.013225297</td><td>0.015011175</td><td>0.010691595</td><td>0.012931233</td><td>0.014687982</td><td>0.010546411</td><td>0.012796015</td><td>0.014518412</td><td>0.010457551</td><td>0.012685407</td><td>0.014379212</td><td>16.284733</td><td>1.0914493</td><td>0.24674739</td><td>2.4320207</td><td>0.68685365</td><td>15.704403</td><td>0.8764323</td><td>0.27360612</td><td>2.4995425</td><td>0.49343896</td><td>15.235263</td><td>1.3098688</td><td>0.17866786</td><td>2.1750498</td><td>0.20391206</td><td>0</td></tr>\n",
       "<tr><td>4</td><td>SGA-2020 4</td><td>SDSSJ145059.93+135143.0</td><td>4435547</td><td>222.749787</td><td>13.8619111</td><td>S?</td><td>44.57</td><td>0.33342642</td><td>0.6637431</td><td>0.07567602</td><td>24.457481</td><td>18.214</td><td>False</td><td>LEDA-20181114</td><td>2</td><td>SDSSJ145059.93+135143.0</td><td>1</td><td>True</td><td>222.749787</td><td>13.8619111</td><td>0.33342642</td><td>2228p137</td><td>222.7497050504303</td><td>13.861929561160224</td><td>0.37067476</td><td>SB26</td><td>45.28537</td><td>0.70922077</td><td>222.749650475464</td><td>13.862052070022896</td><td>8.877115</td><td>4.652771</td><td>4.4837785</td><td>4.4959745</td><td>2.01033</td><td>3.3967943</td><td>4.76257</td><td>6.043787</td><td>7.242806</td><td>8.250407</td><td>9.158723</td><td>10.083457</td><td>11.120243</td><td>19.97595</td><td>19.190666</td><td>18.649523</td><td>19.098536</td><td>18.397219</td><td>17.899643</td><td>18.624952</td><td>17.967802</td><td>17.50231</td><td>18.35278</td><td>17.718002</td><td>17.265854</td><td>18.192762</td><td>17.5654</td><td>17.115404</td><td>18.10496</td><td>17.480022</td><td>17.033989</td><td>18.053415</td><td>17.430794</td><td>16.982971</td><td>18.020155</td><td>17.399996</td><td>16.948252</td><td>17.994783</td><td>17.377092</td><td>16.924469</td><td>0.02113719</td><td>0.03639431</td><td>0.051901262</td><td>0.06539029</td><td>0.08552586</td><td>0.07008602</td><td>0.070394725</td><td>0.08394975</td><td>0.113649584</td><td>0.013428732</td><td>0.017600043</td><td>0.016373685</td><td>0.012251812</td><td>0.014566466</td><td>0.013732588</td><td>0.012644532</td><td>0.014030071</td><td>0.013153961</td><td>0.012747069</td><td>0.013512552</td><td>0.012818239</td><td>0.012865601</td><td>0.01324455</td><td>0.012532208</td><td>0.012762528</td><td>0.013058522</td><td>0.012420634</td><td>0.01252645</td><td>0.012827468</td><td>0.012283978</td><td>0.012320441</td><td>0.012607317</td><td>0.012104107</td><td>0.0121167945</td><td>0.01244376</td><td>0.011985352</td><td>17.896797</td><td>0.5557265</td><td>0.25455818</td><td>3.167909</td><td>1.0522435</td><td>17.28287</td><td>0.4885815</td><td>0.2782499</td><td>3.2144456</td><td>1.3733263</td><td>16.807674</td><td>0.5177045</td><td>0.32264626</td><td>2.900518</td><td>1.8054093</td><td>0</td></tr>\n",
       "<tr><td>7</td><td>SGA-2020 7</td><td>PGC1742504</td><td>1742504</td><td>182.0888085</td><td>25.6022764</td><td>Sbc</td><td>84.97</td><td>0.548277</td><td>0.25118864</td><td>0.10090814</td><td>24.91348</td><td>17.59</td><td>False</td><td>LEDA-20181114</td><td>3</td><td>PGC1742504</td><td>1</td><td>True</td><td>182.0888085</td><td>25.6022764</td><td>0.548277</td><td>1820p255</td><td>182.08882232629614</td><td>25.60226821438983</td><td>0.8883204</td><td>SB26</td><td>84.857475</td><td>0.19753796</td><td>182.08873760544392</td><td>25.602311195157757</td><td>19.779116</td><td>6.5958204</td><td>6.0386286</td><td>5.8089786</td><td>9.279068</td><td>10.949478</td><td>12.652142</td><td>14.446171</td><td>16.323679</td><td>18.392954</td><td>20.915508</td><td>23.566542</td><td>26.649612</td><td>17.390274</td><td>16.360935</td><td>15.531964</td><td>17.285898</td><td>16.262264</td><td>15.440768</td><td>17.2167</td><td>16.195492</td><td>15.380734</td><td>17.16217</td><td>16.144245</td><td>15.334935</td><td>17.130178</td><td>16.110302</td><td>15.304758</td><td>17.104496</td><td>16.084463</td><td>15.280803</td><td>17.081282</td><td>16.061373</td><td>15.2589855</td><td>17.063671</td><td>16.045204</td><td>15.243196</td><td>17.046705</td><td>16.031244</td><td>15.23268</td><td>0.04351465</td><td>0.055440858</td><td>0.052207235</td><td>0.07507412</td><td>0.0793679</td><td>0.10347854</td><td>0.13569456</td><td>0.13104819</td><td>0.17234002</td><td>0.03885276</td><td>0.03744209</td><td>0.03786608</td><td>0.035534665</td><td>0.03441038</td><td>0.03503794</td><td>0.033557214</td><td>0.032548346</td><td>0.033348277</td><td>0.031964395</td><td>0.03106612</td><td>0.031957533</td><td>0.031133845</td><td>0.030202182</td><td>0.031190341</td><td>0.030430589</td><td>0.029511228</td><td>0.030530946</td><td>0.02975241</td><td>0.028853998</td><td>0.029866546</td><td>0.02928568</td><td>0.0284345</td><td>0.029445464</td><td>0.028843498</td><td>0.028076617</td><td>0.029169334</td><td>16.995174</td><td>21.083004</td><td>0.0164273</td><td>1.9079465</td><td>0.029703742</td><td>15.991165</td><td>0.7657307</td><td>0.52285546</td><td>2.3045986</td><td>0.006013103</td><td>15.191324</td><td>1.0408205</td><td>0.32956335</td><td>2.1520333</td><td>0.004725194</td><td>0</td></tr>\n",
       "<tr><td>18</td><td>SGA-2020 18</td><td>2MASXJ12340801+4535444</td><td>3550748</td><td>188.5335525</td><td>45.5956434</td><td>E</td><td>168.65</td><td>0.53088444</td><td>0.6950243</td><td>0.07609531</td><td>23.97948</td><td>16.726</td><td>False</td><td>LEDA-20181114</td><td>4</td><td>2MASXJ12340801+4535444</td><td>1</td><td>True</td><td>188.5335525</td><td>45.5956434</td><td>0.53088444</td><td>1883p455</td><td>188.53364923054596</td><td>45.595620212931856</td><td>0.73435897</td><td>SB26</td><td>166.25127</td><td>0.70995796</td><td>188.53349052789085</td><td>45.59567446403057</td><td>15.694805</td><td>5.091253</td><td>4.670616</td><td>2.9429996</td><td>5.219665</td><td>6.6119533</td><td>8.228266</td><td>10.109745</td><td>12.170589</td><td>14.364073</td><td>16.722517</td><td>19.18709</td><td>22.03077</td><td>17.208511</td><td>16.224203</td><td>15.566424</td><td>17.050343</td><td>16.080097</td><td>15.443468</td><td>16.921791</td><td>15.962402</td><td>15.347263</td><td>16.814959</td><td>15.864242</td><td>15.27134</td><td>16.729906</td><td>15.787886</td><td>15.218466</td><td>16.664564</td><td>15.730083</td><td>15.182751</td><td>16.61991</td><td>15.686324</td><td>15.1601305</td><td>16.585676</td><td>15.654064</td><td>15.148039</td><td>16.558054</td><td>15.629669</td><td>15.141826</td><td>0.032001704</td><td>0.043849397</td><td>0.045203492</td><td>0.072918765</td><td>0.06263939</td><td>0.07675708</td><td>0.10399303</td><td>0.07780949</td><td>0.14017467</td><td>0.016467415</td><td>0.021250801</td><td>0.032092847</td><td>0.0149329165</td><td>0.019061867</td><td>0.028947951</td><td>0.01369758</td><td>0.01736746</td><td>0.026648495</td><td>0.012623343</td><td>0.015980754</td><td>0.024998168</td><td>0.011793644</td><td>0.014977396</td><td>0.023862366</td><td>0.011184664</td><td>0.014255281</td><td>0.023120966</td><td>0.010785815</td><td>0.013740733</td><td>0.022603082</td><td>0.010472503</td><td>0.013351409</td><td>0.022360764</td><td>0.010212836</td><td>0.013043255</td><td>0.022296576</td><td>16.471447</td><td>0.3236818</td><td>1.9206839</td><td>2.3249283</td><td>0.0973919</td><td>15.540598</td><td>0.3247282</td><td>1.7439244</td><td>2.1774826</td><td>0.023485765</td><td>15.124181</td><td>0.16547345</td><td>1.4694684</td><td>3.3948786</td><td>0.028653827</td><td>0</td></tr>\n",
       "</table></div>"
      ],
      "text/plain": [
       "<Table length=5>\n",
       "SGA_ID  SGA_GALAXY          GALAXY         ... Z_COG_PARAMS_CHI2 ELLIPSEBIT\n",
       "int64    bytes16           bytes29         ...      float32        int32   \n",
       "------ ----------- ----------------------- ... ----------------- ----------\n",
       "     2  SGA-2020 2              PGC1283207 ...       0.011723555          0\n",
       "     3  SGA-2020 3              PGC1310416 ...        0.20391206          0\n",
       "     4  SGA-2020 4 SDSSJ145059.93+135143.0 ...         1.8054093          0\n",
       "     7  SGA-2020 7              PGC1742504 ...       0.004725194          0\n",
       "    18 SGA-2020 18  2MASXJ12340801+4535444 ...       0.028653827          0"
      ]
     },
     "execution_count": 5,
     "metadata": {},
     "output_type": "execute_result"
    }
   ],
   "source": [
    "SGA = Table.read('/global/cfs/cdirs/cosmo/data/sga/2020/SGA-2020.fits', 'ELLIPSE')\n",
    "SGA[:5]"
   ]
  },
  {
   "cell_type": "code",
   "execution_count": 6,
   "id": "162dc2ff-e731-4e24-add8-956e0bbd8e27",
   "metadata": {
    "tags": []
   },
   "outputs": [],
   "source": [
    "SGA_dict = {}\n",
    "\n",
    "for i in range(len(SGA)):\n",
    "    \n",
    "    SGA_dict[SGA['SGA_ID'][i]] = i"
   ]
  },
  {
   "cell_type": "markdown",
   "id": "cf0678f4-76d7-43d3-a58f-a9f4326c3407",
   "metadata": {},
   "source": [
    "## Separate the fuji data into center and off-center observations"
   ]
  },
  {
   "cell_type": "code",
   "execution_count": 7,
   "id": "b73e03ff-e677-42e6-9274-30b940db2cb1",
   "metadata": {
    "tags": []
   },
   "outputs": [],
   "source": [
    "tfuji['SKY_FIBER_DIST'] = 0.\n",
    "tfuji['SKY_FIBER_DIST_R26'] = 0.\n",
    "\n",
    "# For each SGA galaxy that has at least one observation, calculate the distance \n",
    "# for all of that galaxy's targets\n",
    "for sga_id in np.unique(tfuji['SGA_ID']):\n",
    "    \n",
    "    # Identify all galaxy targets on this galaxy\n",
    "    obs_idx = tfuji['SGA_ID'] == sga_id\n",
    "    \n",
    "    # Find galaxy index in SGA catalog\n",
    "    sga_idx = SGA_dict[sga_id]\n",
    "    \n",
    "    #---------------------------------------------------------------------------\n",
    "    # Calculate distance between each observation and the center of the SGA \n",
    "    # galaxy\n",
    "    #---------------------------------------------------------------------------\n",
    "    SGA_coords = SkyCoord(ra=SGA['RA'][sga_idx], \n",
    "                          dec=SGA['DEC'][sga_idx], \n",
    "                          unit=u.degree)\n",
    "    target_coords = SkyCoord(ra=tfuji['RA'][obs_idx], \n",
    "                             dec=tfuji['DEC'][obs_idx], \n",
    "                             unit=u.degree)\n",
    "    \n",
    "    sep2d = target_coords.separation(SGA_coords)\n",
    "    \n",
    "    tfuji['SKY_FIBER_DIST'][obs_idx] = sep2d\n",
    "    tfuji['SKY_FIBER_DIST_R26'][obs_idx] = 2*sep2d.to('arcmin')/(SGA['D26'][sga_idx]*u.arcmin)\n",
    "    #---------------------------------------------------------------------------"
   ]
  },
  {
   "cell_type": "code",
   "execution_count": 8,
   "id": "64bf3ee4-1a24-4999-969a-fc4df26967ac",
   "metadata": {
    "tags": []
   },
   "outputs": [],
   "source": [
    "centers_boolean = tfuji['SKY_FIBER_DIST_R26'] < 0.1\n",
    "\n",
    "fuji_centers = tfuji[centers_boolean]\n",
    "fuji_axis = tfuji[~centers_boolean]"
   ]
  },
  {
   "cell_type": "markdown",
   "id": "aa28753a-9d6a-44f8-8f34-3849c934972a",
   "metadata": {},
   "source": [
    "## Clean the fuji center observations\n",
    "\n",
    "Only keep those with\n",
    "* `DELTACHI2` > 25\n",
    "* `ZWARN` == 0"
   ]
  },
  {
   "cell_type": "code",
   "execution_count": 9,
   "id": "33f629ab-b133-4e65-b996-9bbdccf00de6",
   "metadata": {
    "tags": []
   },
   "outputs": [],
   "source": [
    "good_centers = fuji_centers[(fuji_centers['DELTACHI2'] > 25) & (fuji_centers['ZWARN'] == 0)]"
   ]
  },
  {
   "cell_type": "markdown",
   "id": "b2734a56-a6a0-4421-bc76-9dca1e769b11",
   "metadata": {},
   "source": [
    "## If an SGA galaxy has at least one observation at its center, set the redshift of that galaxy"
   ]
  },
  {
   "cell_type": "code",
   "execution_count": 10,
   "id": "979300f4-2425-4784-bfe1-66ddd709ef58",
   "metadata": {
    "tags": []
   },
   "outputs": [
    {
     "name": "stdout",
     "output_type": "stream",
     "text": [
      "1244275\n",
      "[ 64.28076017  31.31517601 -32.96558415]\n",
      "      TARGETID              Z          PVTYPE                             FILENAME                            SKY_FIBER_DIST_R26         RA                DEC        \n",
      "------------------- ------------------ ------ --------------------------------------------------------------- ------------------ ------------------ ------------------\n",
      "  39627751505793346 0.0355092755654211    TFT fuji/healpix/sv1/bright/255/25596/redrock-sv1-bright-25596.fits                0.0 179.96134623597172 -1.381875734504479\n",
      "2305843036053047801 0.0352950063648648    TFT fuji/healpix/sv3/backup/255/25596/redrock-sv3-backup-25596.fits                0.0 179.96134623597172 -1.381875734504479\n",
      "  39627751505793346 0.0354048916453766    TFT fuji/healpix/sv3/bright/255/25596/redrock-sv3-bright-25596.fits                0.0 179.96134623597172 -1.381875734504479\n",
      "None\n",
      "175\n"
     ]
    }
   ],
   "source": [
    "SGA['Z_DESI'] = np.nan\n",
    "SGA['ZERR_DESI'] = np.nan\n",
    "\n",
    "weights = 1./(good_centers['ZERR']**2)\n",
    "\n",
    "n = 0\n",
    "\n",
    "delta_z = np.array([])\n",
    "\n",
    "for sga_id in np.unique(good_centers['SGA_ID']):\n",
    "    \n",
    "    # Find all the center observations of this galaxy\n",
    "    obs_idx = good_centers['SGA_ID'] == sga_id\n",
    "    \n",
    "    # Find the row in the SGA for this galaxy\n",
    "    SGA_idx = SGA_dict[sga_id]\n",
    "    \n",
    "    # Set the redshift of this galaxy to be the weighted average redshift of all \n",
    "    # good center observations\n",
    "    SGA['Z_DESI'][SGA_idx] = np.average(good_centers['Z'][obs_idx], \n",
    "                                        weights=weights[obs_idx])\n",
    "    SGA['ZERR_DESI'][SGA_idx] = np.sqrt(1./np.sum(weights[obs_idx]))\n",
    "    \n",
    "    n_obs = np.sum(obs_idx)\n",
    "    \n",
    "    # If there is more than one center observation, plot the difference in redshift between the two\n",
    "    if n_obs > 1:\n",
    "        \n",
    "        diff_matrix = good_centers['Z'][obs_idx].reshape(n_obs,1) - good_centers['Z'][obs_idx].reshape(1,n_obs)\n",
    "            \n",
    "        diffs = diff_matrix[np.triu_indices(n_obs, k=1)]\n",
    "            \n",
    "        delta_z = np.append(delta_z, diffs)\n",
    "            \n",
    "        if np.any(np.abs(diffs*c) > 50.):\n",
    "\n",
    "            print(sga_id)\n",
    "            print(c*diffs)\n",
    "            print(good_centers[['TARGETID', 'Z', 'PVTYPE', 'FILENAME', 'SKY_FIBER_DIST_R26', 'RA', 'DEC']][good_centers['SGA_ID'] == sga_id].pprint(max_width=-1))\n",
    "        \n",
    "        n += 1\n",
    "        \n",
    "print(n)"
   ]
  },
  {
   "cell_type": "markdown",
   "id": "4490f048-a4c6-4204-b7ea-894e1a250e35",
   "metadata": {},
   "source": [
    "### Plot a histogram of the difference in velocities for the good centers"
   ]
  },
  {
   "cell_type": "code",
   "execution_count": 11,
   "id": "84b75d03-f5f7-4056-9c06-b80a10ee1c1f",
   "metadata": {
    "tags": []
   },
   "outputs": [
    {
     "data": {
      "image/png": "[encoded data removed]",
      "text/plain": [
       "<Figure size 640x480 with 1 Axes>"
      ]
     },
     "metadata": {},
     "output_type": "display_data"
    }
   ],
   "source": [
    "plt.figure(tight_layout=True)\n",
    "\n",
    "plt.hist(np.abs(delta_z*c), bins=np.arange(0,70,1))\n",
    "\n",
    "plt.xlabel('$\\Delta V$ [km/s]');"
   ]
  },
  {
   "cell_type": "markdown",
   "id": "a1dd112e-9ef7-4934-8123-e5549796af6d",
   "metadata": {},
   "source": [
    "All of the positions of these observations look good.  The two largest ones show a slight offset from the center of the galaxy (although still well close to the center of the nucleus).  However, their ($\\alpha$, $\\delta$) coordinates are identical, so we can't determine which is \"more centered.\""
   ]
  },
  {
   "cell_type": "markdown",
   "id": "e7462d03-d9da-4d16-a1bd-a5c9c5182594",
   "metadata": {},
   "source": [
    "# Calculate the rotational velocities"
   ]
  },
  {
   "cell_type": "code",
   "execution_count": 12,
   "id": "547a86db-0535-4928-acce-e871a8e94a73",
   "metadata": {
    "tags": []
   },
   "outputs": [],
   "source": [
    "fuji_axis['V_ROT'] = np.nan\n",
    "fuji_axis['V_ROT_ERR'] = np.nan\n",
    "\n",
    "# For each SGA galaxy that has at least one good center observation, calculate \n",
    "# the rotational velocity for all of that galaxy's targets\n",
    "for sga_id in np.unique(good_centers['SGA_ID']):\n",
    "    \n",
    "    # Identify all galaxy targets on this galaxy\n",
    "    obs_idx = fuji_axis['SGA_ID'] == sga_id\n",
    "    \n",
    "    # Find galaxy index in SGA catalog\n",
    "    sga_idx = SGA_dict[sga_id]\n",
    "    \n",
    "    #---------------------------------------------------------------------------\n",
    "    # Calculate rotational velocity\n",
    "    #---------------------------------------------------------------------------\n",
    "    # Use the average redshift of all of the center observations for the \n",
    "    # systemic velocity\n",
    "    z_center = SGA['Z_DESI'][sga_idx]\n",
    "    z_err_center2 = SGA['ZERR_DESI'][sga_idx]**2\n",
    "    \n",
    "    # Calculate the rotational velocity for all observations of the galaxy\n",
    "    fuji_axis['V_ROT'][obs_idx] = c*(fuji_axis['Z'][obs_idx] - z_center)\n",
    "    fuji_axis['V_ROT_ERR'][obs_idx] = c*np.sqrt(fuji_axis['ZERR'][obs_idx]**2 + z_err_center2)\n",
    "    #---------------------------------------------------------------------------\n",
    "    \n",
    "    \n",
    "    #---------------------------------------------------------------------------\n",
    "    # Correct rotational velocities for inclination angle\n",
    "    #---------------------------------------------------------------------------\n",
    "    cosi2 = (SGA['BA'][sga_idx]**2 - q0**2)/(1 - q0**2)\n",
    "    \n",
    "    # Galaxies with b/a < q0\n",
    "    if cosi2 < 0:\n",
    "        cosi2 = 0.\n",
    "        \n",
    "    fuji_axis['V_ROT'][obs_idx] /= np.sin(np.arccos(np.sqrt(cosi2)))\n",
    "    #---------------------------------------------------------------------------"
   ]
  },
  {
   "cell_type": "code",
   "execution_count": 13,
   "id": "cf3eb5f8-1e16-4d41-b02b-99b21d49d4b2",
   "metadata": {
    "tags": []
   },
   "outputs": [
    {
     "data": {
      "image/png": "[encoded data removed]",
      "text/plain": [
       "<Figure size 640x480 with 1 Axes>"
      ]
     },
     "metadata": {},
     "output_type": "display_data"
    }
   ],
   "source": [
    "plt.figure(tight_layout=True)\n",
    "\n",
    "plt.hist(np.abs(fuji_axis['V_ROT']), bins=np.linspace(0, 1000, 100))\n",
    "\n",
    "plt.xlabel('$V_{rot}$ [km/s]')\n",
    "plt.ylabel('number of observations');"
   ]
  },
  {
   "cell_type": "markdown",
   "id": "e1b4636b-ba54-4d8c-8a91-4a6debe5ca46",
   "metadata": {},
   "source": [
    "# Cut for galaxies suitable for the TFR\n",
    "\n",
    "Requirements:\n",
    "* $10 < V_{rot} < 1000$ km/s at $0.33R_{26}$"
   ]
  },
  {
   "cell_type": "markdown",
   "id": "dbe6e9cc-299b-4ee9-a2bb-2ee37ebd784b",
   "metadata": {},
   "source": [
    "## Velocity cut"
   ]
  },
  {
   "cell_type": "code",
   "execution_count": 15,
   "id": "05f7e91d-4b4f-4cee-b4a1-0b8842357f63",
   "metadata": {
    "tags": []
   },
   "outputs": [
    {
     "name": "stdout",
     "output_type": "stream",
     "text": [
      "2334 1205\n"
     ]
    }
   ],
   "source": [
    "r0p3 = (fuji_axis['SKY_FIBER_DIST_R26'] > 0.3) & (fuji_axis['SKY_FIBER_DIST_R26'] < 0.4)\n",
    "\n",
    "Vgood = (np.abs(fuji_axis['V_ROT']) < 1000) & (np.abs(fuji_axis['V_ROT']) >= 10)\n",
    "\n",
    "good_axis = fuji_axis[r0p3 & Vgood]\n",
    "\n",
    "print(len(good_axis), len(np.unique(good_axis['SGA_ID'])))"
   ]
  },
  {
   "cell_type": "markdown",
   "id": "e17e3c6e-cfbb-466f-b363-19e538c9c44e",
   "metadata": {},
   "source": [
    "### How do the velocities compare for objects that have multiple observations?"
   ]
  },
  {
   "cell_type": "code",
   "execution_count": 16,
   "id": "e70fb7ed-2513-4cad-bc89-1baa93b33da8",
   "metadata": {
    "tags": []
   },
   "outputs": [
    {
     "name": "stdout",
     "output_type": "stream",
     "text": [
      "105847\n",
      "[-90.59002345] [-5.68195788]\n",
      "    TARGETID            V_ROT        PVTYPE                           FILENAME                              DELTACHI2    \n",
      "---------------- ------------------- ------ ------------------------------------------------------------ ----------------\n",
      "1071082194862085  15.943452121975946    TFT fuji/healpix/sv3/bright/98/9848/redrock-sv3-bright-9848.fits 27.1833367873332\n",
      "1084276334395397 -106.53347556795569    TFT     fuji/healpix/sv3/dark/98/9848/redrock-sv3-dark-9848.fits 70.1341153408866\n",
      "None\n",
      "197493\n",
      "[472.949913] [7.63392771]\n",
      "    TARGETID            V_ROT        PVTYPE                           FILENAME                              DELTACHI2    \n",
      "---------------- ------------------- ------ ------------------------------------------------------------ ----------------\n",
      "1071060292206603  -534.9035928300269    TFT fuji/healpix/sv3/bright/98/9840/redrock-sv3-bright-9840.fits 3.87034233263694\n",
      "1084254431739915 -61.953679828716055    TFT     fuji/healpix/sv3/dark/98/9840/redrock-sv3-dark-9840.fits 88.5903939183918\n",
      "None\n",
      "481930\n",
      "[501.20134165] [33.06102616]\n",
      "    TARGETID           V_ROT        PVTYPE                             FILENAME                               DELTACHI2    \n",
      "---------------- ------------------ ------ --------------------------------------------------------------- ----------------\n",
      "1070748764471311  516.3612262570472    TFT fuji/healpix/sv3/bright/281/28127/redrock-sv3-bright-28127.fits 4.12041528463305\n",
      "1083942904004623 15.159884608736679    TFT     fuji/healpix/sv3/dark/281/28127/redrock-sv3-dark-28127.fits 19.4544208581501\n",
      "None\n",
      "487085\n",
      "[  19.59306067 -235.06383665 -254.65689732] [  0.81197576  -9.7415172  -10.55349296]\n",
      "    TARGETID           V_ROT        PVTYPE                             FILENAME                               DELTACHI2    \n",
      "---------------- ------------------ ------ --------------------------------------------------------------- ----------------\n",
      "1070743395762180 43.723166066297004    TFT fuji/healpix/sv3/bright/103/10376/redrock-sv3-bright-10376.fits 4.17465683590854\n",
      "1083937535295492  24.13010539673341    TFT     fuji/healpix/sv3/dark/103/10376/redrock-sv3-dark-10376.fits 126.785491999006\n",
      "1083937535295493 -278.7870027118229    TFT     fuji/healpix/sv3/dark/103/10376/redrock-sv3-dark-10376.fits 269.965416709194\n",
      "None\n",
      "488432\n",
      "[ -70.10476174 -372.78140443 -302.67664269] [ -4.37577291 -23.26813088 -18.89235797]\n",
      "    TARGETID            V_ROT        PVTYPE                             FILENAME                               DELTACHI2    \n",
      "---------------- ------------------- ------ --------------------------------------------------------------- ----------------\n",
      "1070114526986244 -16.021115160115198    TFT fuji/healpix/sv3/bright/260/26007/redrock-sv3-bright-26007.fits 1.96007296722382\n",
      "1083308666519556  -86.12587689907129    TFT     fuji/healpix/sv3/dark/260/26007/redrock-sv3-dark-26007.fits 239.470826977631\n",
      "1083308666519557   388.8025195888697    TFT     fuji/healpix/sv3/dark/260/26007/redrock-sv3-dark-26007.fits 418.442815236514\n",
      "None\n",
      "505024\n",
      "[-55.0227291   44.04326597  99.06599507] [-2.79386443  2.23636516  5.03022959]\n",
      "    TARGETID            V_ROT        PVTYPE                             FILENAME                               DELTACHI2    \n",
      "---------------- ------------------- ------ --------------------------------------------------------------- ----------------\n",
      "1070095866527747   -63.7373958978925    TFT fuji/healpix/sv3/bright/255/25599/redrock-sv3-bright-25599.fits   96.29354978622\n",
      "1083290006061059 -118.76012499919092    TFT     fuji/healpix/sv3/dark/255/25599/redrock-sv3-dark-25599.fits 1314.02233099553\n",
      "1070095866527748  19.694129932202177    TFT fuji/healpix/sv3/bright/255/25599/redrock-sv3-bright-25599.fits 61.9688765330284\n",
      "None\n",
      "582728\n",
      "[288.33869022] [8.95020992]\n",
      "    TARGETID           V_ROT        PVTYPE                             FILENAME                               DELTACHI2    \n",
      "---------------- ------------------ ------ --------------------------------------------------------------- ----------------\n",
      "1070150862241800 320.55454802927994    TFT fuji/healpix/sv3/bright/259/25976/redrock-sv3-bright-25976.fits 48.9307115429692\n",
      "1083345001775112  32.21585780618334    TFT     fuji/healpix/sv3/dark/259/25976/redrock-sv3-dark-25976.fits 427.008897731634\n",
      "None\n",
      "793633\n",
      "[181.90846315 377.00809341 195.09963026] [14.79355218 30.65986488 15.8663127 ]\n",
      "    TARGETID            V_ROT        PVTYPE                             FILENAME                               DELTACHI2    \n",
      "---------------- ------------------- ------ --------------------------------------------------------------- ----------------\n",
      "1070791407960068  -389.3045629108277    TFT fuji/healpix/sv3/bright/104/10404/redrock-sv3-bright-10404.fits 93.1787040126801\n",
      "1083985547493380 -207.39609976135924    TFT     fuji/healpix/sv3/dark/104/10404/redrock-sv3-dark-10404.fits 473.014771686547\n",
      "1083985547493381 -12.296469501193956    TFT     fuji/healpix/sv3/dark/104/10404/redrock-sv3-dark-10404.fits 501.757314825663\n",
      "None\n",
      "990371\n",
      "[180.16096783] [5.57543421]\n",
      "    TARGETID            V_ROT        PVTYPE                             FILENAME                               DELTACHI2    \n",
      "---------------- ------------------- ------ --------------------------------------------------------------- ----------------\n",
      "1070096462118915  212.47431974449853    TFT fuji/healpix/sv3/bright/259/25960/redrock-sv3-bright-25960.fits 193.772210808645\n",
      "1070096462118914 -32.313351912352104    TFT fuji/healpix/sv3/bright/259/25960/redrock-sv3-bright-25960.fits 9.36364490981214\n",
      "None\n",
      "1101392\n",
      "[153.84183916] [6.73264594]\n",
      "    TARGETID           V_ROT        PVTYPE                             FILENAME                               DELTACHI2    \n",
      "---------------- ------------------ ------ --------------------------------------------------------------- ----------------\n",
      "1070770176393218 -176.6919697738125    TFT fuji/healpix/sv3/bright/104/10400/redrock-sv3-bright-10400.fits 58.8352499780049\n",
      "1070770176393219 22.850130618523043    TFT fuji/healpix/sv3/bright/104/10400/redrock-sv3-bright-10400.fits 43.6795839473343\n",
      "None\n",
      "1131380\n",
      "[   3.32720022  284.71670336 -246.98041504  281.38950314 -250.30761527\n",
      " -531.69711841] [  0.13063005  11.17833459  -9.69676062  11.04770454  -9.82739067\n",
      " -20.87509521]\n",
      "    TARGETID            V_ROT        PVTYPE                             FILENAME                               DELTACHI2    \n",
      "---------------- ------------------- ------ --------------------------------------------------------------- ----------------\n",
      "1070089826729986  310.18710784168354    TFT fuji/healpix/sv3/bright/255/25599/redrock-sv3-bright-25599.fits 2444.44462043047\n",
      "1083283966263298   306.8599076181916    TFT     fuji/healpix/sv3/dark/255/25599/redrock-sv3-dark-25599.fits 13685.3596806526\n",
      "1070089826729987 -25.470404477962067    TFT fuji/healpix/sv3/bright/255/25599/redrock-sv3-bright-25599.fits 2645.48576143384\n",
      "1083283966263299   557.1675228850783    TFT     fuji/healpix/sv3/dark/255/25599/redrock-sv3-dark-25599.fits  7071.7709710151\n",
      "None\n",
      "1387991\n",
      "[ -26.49153787   75.73564746  -53.77799431  102.22718533  -27.28645644\n",
      " -129.51364176] [ -2.20953657   6.31675985  -4.48537362   8.52629643  -2.27583705\n",
      " -10.80213348]\n",
      "    TARGETID            V_ROT        PVTYPE                             FILENAME                               DELTACHI2    \n",
      "---------------- ------------------- ------ --------------------------------------------------------------- ----------------\n",
      "1070759522861060  -87.72528284235887    TFT fuji/healpix/sv3/bright/103/10379/redrock-sv3-bright-10379.fits 40.3966993378635\n",
      "1083953662394372  -114.2168207089663    TFT     fuji/healpix/sv3/dark/103/10379/redrock-sv3-dark-10379.fits 112.472995078024\n",
      "1070759522861059 -11.989635383290423    TFT fuji/healpix/sv3/bright/103/10379/redrock-sv3-bright-10379.fits 12.6502091591829\n",
      "1083953662394371   141.5032771474846    TFT     fuji/healpix/sv3/dark/103/10379/redrock-sv3-dark-10379.fits 132.466499544185\n",
      "None\n",
      "1424489\n",
      "[-178.92916153] [-11.67416824]\n",
      "    TARGETID            V_ROT        PVTYPE                             FILENAME                               DELTACHI2    \n",
      "---------------- ------------------- ------ --------------------------------------------------------------- ----------------\n",
      "1070083761766409  15.326930179885812    TFT fuji/healpix/sv3/bright/255/25598/redrock-sv3-bright-25598.fits 74.6090184241766\n",
      "1083277901299722 -194.25609170632055    TFT     fuji/healpix/sv3/dark/255/25598/redrock-sv3-dark-25598.fits 656.576893547783\n",
      "None\n",
      "727\n"
     ]
    }
   ],
   "source": [
    "n = 0\n",
    "\n",
    "delta_v = np.array([])\n",
    "delta_v_norm_min = np.array([])\n",
    "delta_v_norm_sigma = np.array([])\n",
    "#deltachi2 = np.array([])\n",
    "\n",
    "for sga_id in np.unique(good_axis['SGA_ID']):\n",
    "    \n",
    "    # Identify all galaxy targets on this galaxy\n",
    "    obs_idx = good_axis['SGA_ID'] == sga_id\n",
    "    \n",
    "    n_obs = np.sum(obs_idx)\n",
    "    \n",
    "    if n_obs > 1:\n",
    "        \n",
    "        diff_matrix = np.abs(good_axis['V_ROT'][obs_idx]).reshape(n_obs,1) - np.abs(good_axis['V_ROT'][obs_idx]).reshape(1,n_obs)\n",
    "        \n",
    "        sigma_matrix = np.sqrt(good_axis['V_ROT_ERR'][obs_idx].reshape(n_obs,1)**2 + good_axis['V_ROT_ERR'][obs_idx].reshape(1,n_obs)**2)\n",
    "        \n",
    "        diffs = diff_matrix[np.triu_indices(n_obs, k=1)]\n",
    "        \n",
    "        sigmas = sigma_matrix[np.triu_indices(n_obs, k=1)]\n",
    "        \n",
    "        diffs_norm = diffs/np.min(np.abs(good_axis['V_ROT'][obs_idx]))\n",
    "        \n",
    "        diffs_norm_sigma = diffs/sigmas\n",
    "            \n",
    "        delta_v = np.append(delta_v, diffs)\n",
    "        \n",
    "        delta_v_norm_min = np.append(delta_v_norm_min, diffs_norm)\n",
    "        \n",
    "        delta_v_norm_sigma = np.append(delta_v_norm_sigma, diffs_norm_sigma)\n",
    "        \n",
    "        #deltachi2 = np.append(deltachi2, good_axis['DELTACHI2'][obs_idx])\n",
    "            \n",
    "        #if np.any(np.abs(diffs) > 100.):\n",
    "        if np.any(np.abs(diffs_norm) > 5.):\n",
    "\n",
    "            print(sga_id)\n",
    "            print(diffs, diffs_norm)\n",
    "            print(good_axis[['TARGETID', 'V_ROT', 'PVTYPE', 'FILENAME', 'DELTACHI2']][obs_idx].pprint(max_width=-1))\n",
    "        \n",
    "        n += 1\n",
    "        \n",
    "print(n)"
   ]
  },
  {
   "cell_type": "markdown",
   "id": "461afe0f-ca85-47ce-b77a-8d2a3583f656",
   "metadata": {},
   "source": [
    "#### Plot a histogram of the difference in rotational velocities"
   ]
  },
  {
   "cell_type": "code",
   "execution_count": 21,
   "id": "57e230dc-5b65-4cd3-a79a-a935fac6cac8",
   "metadata": {
    "tags": []
   },
   "outputs": [
    {
     "data": {
      "image/png": "[encoded data removed]",
      "text/plain": [
       "<Figure size 1500x500 with 3 Axes>"
      ]
     },
     "metadata": {},
     "output_type": "display_data"
    }
   ],
   "source": [
    "plt.figure(tight_layout=True, figsize=(15,5))\n",
    "\n",
    "\n",
    "plt.subplot(131)\n",
    "\n",
    "plt.hist(np.abs(delta_v), bins=np.arange(0,700,10))\n",
    "\n",
    "plt.yscale('log')\n",
    "\n",
    "plt.xlabel('$\\Delta V$ [km/s]')\n",
    "\n",
    "\n",
    "plt.subplot(132)\n",
    "\n",
    "plt.hist(np.abs(delta_v_norm_min), bins=np.arange(0,35,1))\n",
    "\n",
    "plt.yscale('log')\n",
    "\n",
    "plt.xlabel('$\\Delta V / V_{min}$')\n",
    "\n",
    "\n",
    "plt.subplot(133)\n",
    "\n",
    "plt.hist(np.abs(delta_v_norm_sigma), bins=np.arange(0,125,5))\n",
    "\n",
    "plt.yscale('log')\n",
    "\n",
    "plt.xlabel('$\\Delta V / \\sigma_{\\Delta V}$');"
   ]
  },
  {
   "cell_type": "code",
   "execution_count": 23,
   "id": "4a068041-91e2-4478-b393-bd7bf06c8aca",
   "metadata": {},
   "outputs": [
    {
     "data": {
      "image/png": "[encoded data removed]",
      "text/plain": [
       "<Figure size 640x480 with 1 Axes>"
      ]
     },
     "metadata": {},
     "output_type": "display_data"
    }
   ],
   "source": [
    "plt.figure(tight_layout=True)\n",
    "\n",
    "plt.plot(np.abs(delta_v_norm_min), np.abs(delta_v_norm_sigma), '.', alpha=0.2)\n",
    "\n",
    "plt.xlabel('$\\Delta V / V_{min}$')\n",
    "plt.ylabel('$\\Delta V / \\sigma_{\\Delta V}$');"
   ]
  },
  {
   "cell_type": "code",
   "execution_count": null,
   "id": "675eda4b-92d7-42c4-bbec-839fc4876ab5",
   "metadata": {},
   "outputs": [],
   "source": []
  }
 ],
 "metadata": {
  "kernelspec": {
   "display_name": "DESI master",
   "language": "python",
   "name": "desi-master"
  },
  "language_info": {
   "codemirror_mode": {
    "name": "ipython",
    "version": 3
   },
   "file_extension": ".py",
   "mimetype": "text/x-python",
   "name": "python",
   "nbconvert_exporter": "python",
   "pygments_lexer": "ipython3",
   "version": "3.10.8"
  }
 },
 "nbformat": 4,
 "nbformat_minor": 5
}
