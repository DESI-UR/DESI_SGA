{
 "cells": [
  {
   "cell_type": "markdown",
   "id": "9abddd35-00ce-45ec-ad51-86b9deb9a781",
   "metadata": {},
   "source": [
    "Fit for the zero-point of the TFR, using the slope as calibrated from the Coma cluster in the `Coma-Fuji_KAD.ipynb` notebook."
   ]
  },
  {
   "cell_type": "code",
   "execution_count": 1,
   "id": "ef1b64bd-f206-45dd-b7be-471abe5617ee",
   "metadata": {},
   "outputs": [],
   "source": [
    "import numpy as np\n",
    "\n",
    "from astropy.table import Table\n",
    "from astropy.coordinates import SkyCoord\n",
    "from astropy import units as u\n",
    "from astropy.visualization.wcsaxes import SphericalCircle\n",
    "\n",
    "from scipy.optimize import minimize\n",
    "\n",
    "from hyperfit.linfit import LinFit\n",
    "\n",
    "import matplotlib as mpl\n",
    "import matplotlib.pyplot as plt\n",
    "from matplotlib.patches import Ellipse\n",
    "\n",
    "from VI_functions import get_cutout"
   ]
  },
  {
   "cell_type": "code",
   "execution_count": 2,
   "id": "5cb2bc5f-b79e-4b0d-8ab3-04ebe522d738",
   "metadata": {},
   "outputs": [],
   "source": [
    "h = 1\n",
    "H0 = 100*h\n",
    "\n",
    "c = 3e5\n",
    "\n",
    "q0 = 0.2"
   ]
  },
  {
   "cell_type": "markdown",
   "id": "6ea8259d-aba3-43b4-b6c9-4da39367c6ff",
   "metadata": {},
   "source": [
    "# Data\n",
    "\n",
    "## fuji"
   ]
  },
  {
   "cell_type": "code",
   "execution_count": 3,
   "id": "5dc7ea8d-aa5d-4240-b624-6131acd32697",
   "metadata": {},
   "outputs": [
    {
     "data": {
      "text/html": [
       "<div><i>Table length=5</i>\n",
       "<table id=\"table23456035887712\" class=\"table-striped table-bordered table-condensed\">\n",
       "<thead><tr><th>TARGETID</th><th>TARGET_RA</th><th>TARGET_DEC</th><th>HEALPIX</th><th>SURVEY</th><th>Z</th><th>ZERR</th><th>ZWARN</th><th>DELTACHI2</th><th>FILENAME</th><th>PVTYPE</th><th>SGA_ID</th><th>RA</th><th>DEC</th></tr></thead>\n",
       "<thead><tr><th>int64</th><th>float64</th><th>float64</th><th>int64</th><th>bytes3</th><th>float64</th><th>float64</th><th>int64</th><th>float64</th><th>bytes63</th><th>bytes3</th><th>int64</th><th>float64</th><th>float64</th></tr></thead>\n",
       "<tr><td>1079550234591232</td><td>194.390863195343</td><td>27.5157211790145</td><td>10378</td><td>sv3</td><td>1.1235686466514</td><td>7.31685779475115e-05</td><td>4</td><td>3.28414569795132</td><td>fuji/healpix/sv3/bright/103/10378/redrock-sv3-bright-10378.fits</td><td>EXT</td><td>662902</td><td>194.39086319534337</td><td>27.51572117901454</td></tr>\n",
       "<tr><td>1092744374124544</td><td>194.390863195343</td><td>27.5157211790145</td><td>10378</td><td>sv3</td><td>0.686773088332363</td><td>6.9756676262104e-05</td><td>4</td><td>0.786607094109058</td><td>fuji/healpix/sv3/dark/103/10378/redrock-sv3-dark-10378.fits</td><td>EXT</td><td>662902</td><td>194.39086319534337</td><td>27.51572117901454</td></tr>\n",
       "<tr><td>1092744374124546</td><td>194.364461113654</td><td>27.5037185881314</td><td>10378</td><td>sv3</td><td>0.0242933923052181</td><td>4.95233472646785e-05</td><td>0</td><td>95.428411073226</td><td>fuji/healpix/sv3/dark/103/10378/redrock-sv3-dark-10378.fits</td><td>EXT</td><td>662902</td><td>194.36446111365385</td><td>27.50371858813136</td></tr>\n",
       "<tr><td>1092744369930240</td><td>194.338458724402</td><td>27.4918902690326</td><td>10378</td><td>sv3</td><td>0.0264170223697961</td><td>0.00010139452689994</td><td>0</td><td>9.53278421035066</td><td>fuji/healpix/sv3/dark/103/10378/redrock-sv3-dark-10378.fits</td><td>EXT</td><td>662902</td><td>194.33845872440244</td><td>27.491890269032595</td></tr>\n",
       "<tr><td>1092744374124545</td><td>194.377858465028</td><td>27.5098100780282</td><td>10378</td><td>sv3</td><td>0.211332646769145</td><td>6.68535116703737e-05</td><td>4</td><td>3.73989077657461</td><td>fuji/healpix/sv3/dark/103/10378/redrock-sv3-dark-10378.fits</td><td>EXT</td><td>662902</td><td>194.3778584650283</td><td>27.509810078028195</td></tr>\n",
       "</table></div>"
      ],
      "text/plain": [
       "<Table length=5>\n",
       "    TARGETID        TARGET_RA     ...         RA                DEC        \n",
       "     int64           float64      ...      float64            float64      \n",
       "---------------- ---------------- ... ------------------ ------------------\n",
       "1079550234591232 194.390863195343 ... 194.39086319534337  27.51572117901454\n",
       "1092744374124544 194.390863195343 ... 194.39086319534337  27.51572117901454\n",
       "1092744374124546 194.364461113654 ... 194.36446111365385  27.50371858813136\n",
       "1092744369930240 194.338458724402 ... 194.33845872440244 27.491890269032595\n",
       "1092744374124545 194.377858465028 ...  194.3778584650283 27.509810078028195"
      ]
     },
     "execution_count": 3,
     "metadata": {},
     "output_type": "execute_result"
    }
   ],
   "source": [
    "tfuji = Table.read('/global/project/projectdirs/desi/science/td/pv/desi_pv_tf_fuji_healpix.fits')\n",
    "tfuji[:5]"
   ]
  },
  {
   "cell_type": "markdown",
   "id": "4e981ee8-1989-464a-93c9-eee353d965b3",
   "metadata": {},
   "source": [
    "### Separate fuji data into center and off-center observations"
   ]
  },
  {
   "cell_type": "code",
   "execution_count": 4,
   "id": "3f1618ed-27a9-4655-a1de-6151e8571823",
   "metadata": {},
   "outputs": [],
   "source": [
    "def firstdigit(n):\n",
    "    \"\"\"\n",
    "    Return the first digit of a number.\n",
    "    \n",
    "    Parameters\n",
    "    ----------\n",
    "    n : int, float, or ndarray\n",
    "        Number or list of numbers.\n",
    "    \n",
    "    Returns\n",
    "    -------\n",
    "    digit : int\n",
    "        First digit of the number.\n",
    "    \"\"\"\n",
    "    \n",
    "    digit = np.trunc(n * 10**(-np.trunc(np.log10(n)))).astype(int)\n",
    "    \n",
    "    return digit"
   ]
  },
  {
   "cell_type": "code",
   "execution_count": 5,
   "id": "c90de566-c693-4181-bccc-3896cb3885fb",
   "metadata": {},
   "outputs": [
    {
     "name": "stderr",
     "output_type": "stream",
     "text": [
      "/tmp/ipykernel_8776/917620242.py:16: RuntimeWarning: invalid value encountered in log10\n",
      "  digit = np.trunc(n * 10**(-np.trunc(np.log10(n)))).astype(int)\n"
     ]
    }
   ],
   "source": [
    "first_digits = firstdigit(tfuji['TARGETID'])\n",
    "\n",
    "fuji_centers = tfuji[first_digits == 3]\n",
    "fuji_axis = tfuji[first_digits != 3]"
   ]
  },
  {
   "cell_type": "markdown",
   "id": "62bf2ab2-377d-405c-8f6f-77e3453e72f6",
   "metadata": {},
   "source": [
    "### Clean the fuji center observations\n",
    "\n",
    "Only keep those with\n",
    " * DELTACHI2 > 25\n",
    " * ZWARN == 0"
   ]
  },
  {
   "cell_type": "code",
   "execution_count": 6,
   "id": "70cb1048-631d-4563-a6e3-a9b122165fba",
   "metadata": {},
   "outputs": [],
   "source": [
    "good_centers = fuji_centers[(fuji_centers['DELTACHI2'] > 25) & (fuji_centers['ZWARN'] == 0)]"
   ]
  },
  {
   "cell_type": "markdown",
   "id": "a0e65884-dd57-4c83-b33b-4c613ae5acbf",
   "metadata": {},
   "source": [
    "## MostHosts\n",
    "\n",
    "Read in our version of the MostHosts catalog that includes redshifts observed by DESI and have been matched to the SGA.  (This file was made with the `???.ipynb` notebook.)"
   ]
  },
  {
   "cell_type": "code",
   "execution_count": 8,
   "id": "5ed1a339-29cd-4443-90f5-4fcf291e9a3b",
   "metadata": {},
   "outputs": [
    {
     "data": {
      "text/html": [
       "<div><i>Table length=5</i>\n",
       "<table id=\"table23453688694048\" class=\"table-striped table-bordered table-condensed\">\n",
       "<thead><tr><th>ra</th><th>dec</th><th>pmra</th><th>pmdec</th><th>ref_epoch</th><th>override</th><th>hemisphere</th><th>sn_ra</th><th>sn_dec</th><th>sn_z</th><th>program</th><th>priority</th><th>tns_name</th><th>iau_name</th><th>ptfiptf_name</th><th>spname</th><th>z</th><th>zerr</th><th>chi2</th><th>deltachi2</th><th>spectype</th><th>subtype</th><th>SGA_ID</th><th>SGA_GALAXY</th><th>GALAXY</th><th>PGC</th><th>RA_LEDA</th><th>DEC_LEDA</th><th>MORPHTYPE</th><th>PA_LEDA</th><th>D25_LEDA</th><th>BA_LEDA</th><th>Z_LEDA</th><th>SB_D25_LEDA</th><th>MAG_LEDA</th><th>BYHAND</th><th>REF</th><th>GROUP_ID</th><th>GROUP_NAME</th><th>GROUP_MULT</th><th>GROUP_PRIMARY</th><th>GROUP_RA</th><th>GROUP_DEC</th><th>GROUP_DIAMETER</th><th>BRICKNAME</th><th>RA</th><th>DEC</th><th>D26</th><th>D26_REF</th><th>PA</th><th>BA</th><th>RA_MOMENT</th><th>DEC_MOMENT</th><th>SMA_MOMENT</th><th>G_SMA50</th><th>R_SMA50</th><th>Z_SMA50</th><th>SMA_SB22</th><th>SMA_SB22.5</th><th>SMA_SB23</th><th>SMA_SB23.5</th><th>SMA_SB24</th><th>SMA_SB24.5</th><th>SMA_SB25</th><th>SMA_SB25.5</th><th>SMA_SB26</th><th>G_MAG_SB22</th><th>R_MAG_SB22</th><th>Z_MAG_SB22</th><th>G_MAG_SB22.5</th><th>R_MAG_SB22.5</th><th>Z_MAG_SB22.5</th><th>G_MAG_SB23</th><th>R_MAG_SB23</th><th>Z_MAG_SB23</th><th>G_MAG_SB23.5</th><th>R_MAG_SB23.5</th><th>Z_MAG_SB23.5</th><th>G_MAG_SB24</th><th>R_MAG_SB24</th><th>Z_MAG_SB24</th><th>G_MAG_SB24.5</th><th>R_MAG_SB24.5</th><th>Z_MAG_SB24.5</th><th>G_MAG_SB25</th><th>R_MAG_SB25</th><th>Z_MAG_SB25</th><th>G_MAG_SB25.5</th><th>R_MAG_SB25.5</th><th>Z_MAG_SB25.5</th><th>G_MAG_SB26</th><th>R_MAG_SB26</th><th>Z_MAG_SB26</th><th>SMA_SB22_ERR</th><th>SMA_SB22.5_ERR</th><th>SMA_SB23_ERR</th><th>SMA_SB23.5_ERR</th><th>SMA_SB24_ERR</th><th>SMA_SB24.5_ERR</th><th>SMA_SB25_ERR</th><th>SMA_SB25.5_ERR</th><th>SMA_SB26_ERR</th><th>G_MAG_SB22_ERR</th><th>R_MAG_SB22_ERR</th><th>Z_MAG_SB22_ERR</th><th>G_MAG_SB22.5_ERR</th><th>R_MAG_SB22.5_ERR</th><th>Z_MAG_SB22.5_ERR</th><th>G_MAG_SB23_ERR</th><th>R_MAG_SB23_ERR</th><th>Z_MAG_SB23_ERR</th><th>G_MAG_SB23.5_ERR</th><th>R_MAG_SB23.5_ERR</th><th>Z_MAG_SB23.5_ERR</th><th>G_MAG_SB24_ERR</th><th>R_MAG_SB24_ERR</th><th>Z_MAG_SB24_ERR</th><th>G_MAG_SB24.5_ERR</th><th>R_MAG_SB24.5_ERR</th><th>Z_MAG_SB24.5_ERR</th><th>G_MAG_SB25_ERR</th><th>R_MAG_SB25_ERR</th><th>Z_MAG_SB25_ERR</th><th>G_MAG_SB25.5_ERR</th><th>R_MAG_SB25.5_ERR</th><th>Z_MAG_SB25.5_ERR</th><th>G_MAG_SB26_ERR</th><th>R_MAG_SB26_ERR</th><th>Z_MAG_SB26_ERR</th><th>G_COG_PARAMS_MTOT</th><th>G_COG_PARAMS_M0</th><th>G_COG_PARAMS_ALPHA1</th><th>G_COG_PARAMS_ALPHA2</th><th>G_COG_PARAMS_CHI2</th><th>R_COG_PARAMS_MTOT</th><th>R_COG_PARAMS_M0</th><th>R_COG_PARAMS_ALPHA1</th><th>R_COG_PARAMS_ALPHA2</th><th>R_COG_PARAMS_CHI2</th><th>Z_COG_PARAMS_MTOT</th><th>Z_COG_PARAMS_M0</th><th>Z_COG_PARAMS_ALPHA1</th><th>Z_COG_PARAMS_ALPHA2</th><th>Z_COG_PARAMS_CHI2</th><th>ELLIPSEBIT</th></tr></thead>\n",
       "<thead><tr><th>float64</th><th>float64</th><th>float64</th><th>float64</th><th>float64</th><th>bool</th><th>bytes7</th><th>float64</th><th>float64</th><th>float64</th><th>bytes33</th><th>float64</th><th>bytes10</th><th>bytes15</th><th>bytes9</th><th>bytes15</th><th>float64</th><th>float64</th><th>float64</th><th>float64</th><th>bytes6</th><th>bytes3</th><th>int64</th><th>bytes16</th><th>bytes29</th><th>int64</th><th>float64</th><th>float64</th><th>bytes21</th><th>float32</th><th>float32</th><th>float32</th><th>float32</th><th>float32</th><th>float32</th><th>bool</th><th>bytes13</th><th>int64</th><th>bytes35</th><th>int16</th><th>bool</th><th>float64</th><th>float64</th><th>float32</th><th>bytes8</th><th>float64</th><th>float64</th><th>float32</th><th>bytes4</th><th>float32</th><th>float32</th><th>float64</th><th>float64</th><th>float32</th><th>float32</th><th>float32</th><th>float32</th><th>float32</th><th>float32</th><th>float32</th><th>float32</th><th>float32</th><th>float32</th><th>float32</th><th>float32</th><th>float32</th><th>float32</th><th>float32</th><th>float32</th><th>float32</th><th>float32</th><th>float32</th><th>float32</th><th>float32</th><th>float32</th><th>float32</th><th>float32</th><th>float32</th><th>float32</th><th>float32</th><th>float32</th><th>float32</th><th>float32</th><th>float32</th><th>float32</th><th>float32</th><th>float32</th><th>float32</th><th>float32</th><th>float32</th><th>float32</th><th>float32</th><th>float32</th><th>float32</th><th>float32</th><th>float32</th><th>float32</th><th>float32</th><th>float32</th><th>float32</th><th>float32</th><th>float32</th><th>float32</th><th>float32</th><th>float32</th><th>float32</th><th>float32</th><th>float32</th><th>float32</th><th>float32</th><th>float32</th><th>float32</th><th>float32</th><th>float32</th><th>float32</th><th>float32</th><th>float32</th><th>float32</th><th>float32</th><th>float32</th><th>float32</th><th>float32</th><th>float32</th><th>float32</th><th>float32</th><th>float32</th><th>float32</th><th>float32</th><th>float32</th><th>float32</th><th>float32</th><th>float32</th><th>float32</th><th>float32</th><th>float32</th><th>float32</th><th>float32</th><th>float32</th><th>float32</th><th>float32</th><th>float32</th><th>float32</th><th>float32</th><th>float32</th><th>int32</th></tr></thead>\n",
       "<tr><td>214.572815677136</td><td>53.7889867128657</td><td>0.0</td><td>0.0</td><td>0.0</td><td>False</td><td>north</td><td>214.573979</td><td>53.792253</td><td>0.071</td><td>PTF-iPTF</td><td>1.0</td><td>None</td><td>None</td><td>PTF09alu</td><td>PTF09alu</td><td>0.0744127307916863</td><td>2.75092937715152e-05</td><td>13555.0353460796</td><td>3268.97682878166</td><td>GALAXY</td><td>--</td><td>451629</td><td>SGA-2020 451629</td><td>PGC2450869</td><td>2450869</td><td>214.57279499999999</td><td>53.7889894</td><td>E</td><td>14.53</td><td>0.37931496</td><td>0.81096107</td><td>0.0743531</td><td>23.28548</td><td>16.762</td><td>False</td><td>LEDA-20181114</td><td>165960</td><td>PGC2450869</td><td>1</td><td>True</td><td>214.57279499999999</td><td>53.7889894</td><td>0.37931496</td><td>2146p537</td><td>214.5728279602342</td><td>53.788981190449306</td><td>0.7062462</td><td>SB26</td><td>9.103667</td><td>0.85454535</td><td>214.5725849055383</td><td>53.789018431248635</td><td>16.891256</td><td>5.537018</td><td>5.317791</td><td>3.3749943</td><td>4.7895074</td><td>6.0776663</td><td>7.583244</td><td>9.303992</td><td>11.257904</td><td>13.388099</td><td>15.820698</td><td>18.41262</td><td>21.187386</td><td>17.265678</td><td>16.361458</td><td>15.695153</td><td>17.09712</td><td>16.19476</td><td>15.554439</td><td>16.961946</td><td>16.060184</td><td>15.442673</td><td>16.852924</td><td>15.952975</td><td>15.356744</td><td>16.765095</td><td>15.866443</td><td>15.291174</td><td>16.697592</td><td>15.800262</td><td>15.247376</td><td>16.64266</td><td>15.746323</td><td>15.216329</td><td>16.601921</td><td>15.70708</td><td>15.198923</td><td>16.568169</td><td>15.675593</td><td>15.187172</td><td>0.011445622</td><td>0.013909699</td><td>0.020903308</td><td>0.027905181</td><td>0.031915702</td><td>0.03487402</td><td>0.041457422</td><td>0.060059622</td><td>0.107475</td><td>0.0140435565</td><td>0.015468549</td><td>0.024982512</td><td>0.0120293535</td><td>0.013313189</td><td>0.021697566</td><td>0.010755184</td><td>0.011844459</td><td>0.019877546</td><td>0.009723877</td><td>0.010753839</td><td>0.018156625</td><td>0.009058282</td><td>0.0099808555</td><td>0.017345088</td><td>0.008482447</td><td>0.009385884</td><td>0.016453343</td><td>0.0081244055</td><td>0.008957955</td><td>0.016211683</td><td>0.007835139</td><td>0.008646072</td><td>0.015961282</td><td>0.00760545</td><td>0.008405442</td><td>0.015797276</td><td>16.408567</td><td>0.6939187</td><td>0.80317324</td><td>1.5075085</td><td>0.02818538</td><td>15.533425</td><td>0.6176311</td><td>0.8637508</td><td>1.6063262</td><td>0.022461299</td><td>15.160076</td><td>0.22882174</td><td>1.0903618</td><td>2.9132955</td><td>0.027998418</td><td>0</td></tr>\n",
       "<tr><td>214.572815677136</td><td>53.7889867128657</td><td>0.0</td><td>0.0</td><td>0.0</td><td>False</td><td>north</td><td>214.573979</td><td>53.792253</td><td>0.071</td><td>PTF-iPTF</td><td>1.0</td><td>None</td><td>None</td><td>PTF09alu</td><td>PTF09alu</td><td>0.0744554092356092</td><td>2.53984261047757e-05</td><td>11348.8169849887</td><td>5309.30698201107</td><td>GALAXY</td><td>--</td><td>451629</td><td>SGA-2020 451629</td><td>PGC2450869</td><td>2450869</td><td>214.57279499999999</td><td>53.7889894</td><td>E</td><td>14.53</td><td>0.37931496</td><td>0.81096107</td><td>0.0743531</td><td>23.28548</td><td>16.762</td><td>False</td><td>LEDA-20181114</td><td>165960</td><td>PGC2450869</td><td>1</td><td>True</td><td>214.57279499999999</td><td>53.7889894</td><td>0.37931496</td><td>2146p537</td><td>214.5728279602342</td><td>53.788981190449306</td><td>0.7062462</td><td>SB26</td><td>9.103667</td><td>0.85454535</td><td>214.5725849055383</td><td>53.789018431248635</td><td>16.891256</td><td>5.537018</td><td>5.317791</td><td>3.3749943</td><td>4.7895074</td><td>6.0776663</td><td>7.583244</td><td>9.303992</td><td>11.257904</td><td>13.388099</td><td>15.820698</td><td>18.41262</td><td>21.187386</td><td>17.265678</td><td>16.361458</td><td>15.695153</td><td>17.09712</td><td>16.19476</td><td>15.554439</td><td>16.961946</td><td>16.060184</td><td>15.442673</td><td>16.852924</td><td>15.952975</td><td>15.356744</td><td>16.765095</td><td>15.866443</td><td>15.291174</td><td>16.697592</td><td>15.800262</td><td>15.247376</td><td>16.64266</td><td>15.746323</td><td>15.216329</td><td>16.601921</td><td>15.70708</td><td>15.198923</td><td>16.568169</td><td>15.675593</td><td>15.187172</td><td>0.011445622</td><td>0.013909699</td><td>0.020903308</td><td>0.027905181</td><td>0.031915702</td><td>0.03487402</td><td>0.041457422</td><td>0.060059622</td><td>0.107475</td><td>0.0140435565</td><td>0.015468549</td><td>0.024982512</td><td>0.0120293535</td><td>0.013313189</td><td>0.021697566</td><td>0.010755184</td><td>0.011844459</td><td>0.019877546</td><td>0.009723877</td><td>0.010753839</td><td>0.018156625</td><td>0.009058282</td><td>0.0099808555</td><td>0.017345088</td><td>0.008482447</td><td>0.009385884</td><td>0.016453343</td><td>0.0081244055</td><td>0.008957955</td><td>0.016211683</td><td>0.007835139</td><td>0.008646072</td><td>0.015961282</td><td>0.00760545</td><td>0.008405442</td><td>0.015797276</td><td>16.408567</td><td>0.6939187</td><td>0.80317324</td><td>1.5075085</td><td>0.02818538</td><td>15.533425</td><td>0.6176311</td><td>0.8637508</td><td>1.6063262</td><td>0.022461299</td><td>15.160076</td><td>0.22882174</td><td>1.0903618</td><td>2.9132955</td><td>0.027998418</td><td>0</td></tr>\n",
       "<tr><td>225.23132654395</td><td>-0.192353656000737</td><td>0.0</td><td>0.0</td><td>0.0</td><td>False</td><td>south</td><td>225.230519</td><td>-0.192536</td><td>0.04</td><td>PTF-iPTF</td><td>1.0</td><td>None</td><td>None</td><td>PTF09aus</td><td>PTF09aus</td><td>0.0411256227470888</td><td>4.46625317545576e-06</td><td>10999.6036213636</td><td>9813.8725861311</td><td>GALAXY</td><td>--</td><td>544561</td><td>SGA-2020 544561</td><td>PGC1149576</td><td>1149576</td><td>225.2312655</td><td>-0.19236860000000003</td><td>Sc</td><td>66.66</td><td>0.34197944</td><td>0.40738028</td><td>0.041165475</td><td>24.11848</td><td>17.82</td><td>False</td><td>LEDA-20181114</td><td>199904</td><td>PGC1149576</td><td>1</td><td>True</td><td>225.2312655</td><td>-0.19236860000000003</td><td>0.34197944</td><td>2251m002</td><td>225.23128306241978</td><td>-0.19238980475221468</td><td>0.61501706</td><td>SB26</td><td>69.286575</td><td>0.2953186</td><td>225.23124571018954</td><td>-0.19229860496418694</td><td>11.950378</td><td>5.8575044</td><td>5.4782424</td><td>5.278934</td><td>7.2520094</td><td>8.707774</td><td>9.954354</td><td>10.927489</td><td>12.109242</td><td>13.259136</td><td>14.686257</td><td>16.302542</td><td>18.450512</td><td>17.887302</td><td>16.813416</td><td>16.010624</td><td>17.703424</td><td>16.649132</td><td>15.861238</td><td>17.602522</td><td>16.561722</td><td>15.78605</td><td>17.542255</td><td>16.514837</td><td>15.747674</td><td>17.499348</td><td>16.476677</td><td>15.71235</td><td>17.466259</td><td>16.456285</td><td>15.6918335</td><td>17.441824</td><td>16.437506</td><td>15.677397</td><td>17.42604</td><td>16.424004</td><td>15.664657</td><td>17.41169</td><td>16.411575</td><td>15.652874</td><td>0.08642141</td><td>0.113938294</td><td>0.079324044</td><td>0.08680271</td><td>0.11329827</td><td>0.14526041</td><td>0.1326141</td><td>0.2015975</td><td>0.17926614</td><td>0.036668614</td><td>0.03872793</td><td>0.040839918</td><td>0.035091627</td><td>0.03678861</td><td>0.038556192</td><td>0.03374455</td><td>0.03534155</td><td>0.03707483</td><td>0.032843184</td><td>0.03442733</td><td>0.036126643</td><td>0.031982627</td><td>0.03358682</td><td>0.035282128</td><td>0.031298455</td><td>0.033054397</td><td>0.034703027</td><td>0.030723333</td><td>0.032548856</td><td>0.03428483</td><td>0.030336365</td><td>0.032173883</td><td>0.033915356</td><td>0.029969554</td><td>0.031824525</td><td>0.033567693</td><td>17.392925</td><td>0.32916996</td><td>0.86167455</td><td>4.352473</td><td>0.013980277</td><td>16.397945</td><td>0.36276472</td><td>0.5570076</td><td>4.1965694</td><td>0.0114760045</td><td>15.636801</td><td>0.46199945</td><td>0.3732894</td><td>3.7504716</td><td>0.009117306</td><td>0</td></tr>\n",
       "<tr><td>226.247541667</td><td>48.6466388889</td><td>0.0</td><td>0.0</td><td>0.0</td><td>False</td><td>north</td><td>226.258517</td><td>48.6672</td><td>0.1468</td><td>PTF-iPTF</td><td>1.0</td><td>None</td><td>None</td><td>PTF09bw</td><td>PTF09bw</td><td>0.0244531748979698</td><td>2.06191763964871e-06</td><td>19018.4982587397</td><td>20119.4321392477</td><td>GALAXY</td><td>--</td><td>1017026</td><td>SGA-2020 1017026</td><td>PGC053836</td><td>53836</td><td>226.24755900000002</td><td>48.6466037</td><td>Sb</td><td>134.39</td><td>0.6622165</td><td>0.6854882</td><td>0.02443557</td><td>23.305481</td><td>15.572</td><td>False</td><td>LEDA-20181114</td><td>372114</td><td>PGC053836</td><td>1</td><td>True</td><td>226.24755900000002</td><td>48.6466037</td><td>0.6622165</td><td>2263p487</td><td>226.24748526689987</td><td>48.64665472472188</td><td>1.0517327</td><td>SB26</td><td>133.31073</td><td>0.6040387</td><td>226.24741542820556</td><td>48.64666886413665</td><td>23.184298</td><td>8.459855</td><td>8.453944</td><td>6.688501</td><td>11.034548</td><td>13.593662</td><td>16.292042</td><td>18.9498</td><td>21.622957</td><td>24.089039</td><td>26.650879</td><td>29.142134</td><td>31.55198</td><td>15.690835</td><td>15.016554</td><td>14.56003</td><td>15.528465</td><td>14.855869</td><td>14.419101</td><td>15.412017</td><td>14.741133</td><td>14.322312</td><td>15.335766</td><td>14.665382</td><td>14.261795</td><td>15.282492</td><td>14.612786</td><td>14.222026</td><td>15.24944</td><td>14.578781</td><td>14.199317</td><td>15.22622</td><td>14.554939</td><td>14.185998</td><td>15.21169</td><td>14.540174</td><td>14.181213</td><td>15.202114</td><td>14.530278</td><td>14.180522</td><td>0.0573171</td><td>0.06389593</td><td>0.07596192</td><td>0.07360035</td><td>0.08352008</td><td>0.0852085</td><td>0.089464754</td><td>0.10352485</td><td>0.14292772</td><td>0.009329208</td><td>0.008855522</td><td>0.010544149</td><td>0.008536519</td><td>0.0081360275</td><td>0.009710444</td><td>0.007878661</td><td>0.007515167</td><td>0.009044154</td><td>0.007433391</td><td>0.007097571</td><td>0.008627986</td><td>0.007124766</td><td>0.0068087466</td><td>0.008358846</td><td>0.006935502</td><td>0.0066245417</td><td>0.008210509</td><td>0.0067990264</td><td>0.006492527</td><td>0.008123209</td><td>0.0067145787</td><td>0.006410445</td><td>0.008094546</td><td>0.006657291</td><td>0.0063523455</td><td>0.008093231</td><td>15.167032</td><td>0.25966933</td><td>9.313046</td><td>3.6477027</td><td>0.102680214</td><td>14.491668</td><td>0.27078882</td><td>8.3811</td><td>3.507649</td><td>0.14723977</td><td>14.168251</td><td>0.14558639</td><td>22.506605</td><td>5.096414</td><td>0.5414868</td><td>0</td></tr>\n",
       "<tr><td>229.855666667</td><td>49.5013055556</td><td>0.0</td><td>0.0</td><td>0.0</td><td>False</td><td>north</td><td>229.851529</td><td>49.49898</td><td>0.037</td><td>PTF-iPTF</td><td>1.0</td><td>None</td><td>None</td><td>PTF09dnp</td><td>PTF09dnp</td><td>0.037369138425878</td><td>7.82739409931519e-06</td><td>27319.1612540483</td><td>40063.1180909062</td><td>GALAXY</td><td>--</td><td>28223</td><td>SGA-2020 28223</td><td>PGC2344857</td><td>2344857</td><td>229.8556965</td><td>49.501311799999996</td><td>E-S0</td><td>105.27</td><td>0.6807693</td><td>0.89536476</td><td>0.037304472</td><td>23.65948</td><td>15.866</td><td>False</td><td>LEDA-20181114</td><td>7558</td><td>PGC2345013_GROUP</td><td>2</td><td>False</td><td>229.8665665189118</td><td>49.504110438861915</td><td>1.1924342</td><td>2297p495</td><td>229.8556627351262</td><td>49.501320961714725</td><td>0.8509617</td><td>LEDA</td><td>84.69144</td><td>0.96138847</td><td>229.855511291972</td><td>49.501360101546915</td><td>23.588743</td><td>-1.0</td><td>-1.0</td><td>-1.0</td><td>-1.0</td><td>-1.0</td><td>-1.0</td><td>-1.0</td><td>-1.0</td><td>-1.0</td><td>-1.0</td><td>-1.0</td><td>-1.0</td><td>-1.0</td><td>-1.0</td><td>-1.0</td><td>-1.0</td><td>-1.0</td><td>-1.0</td><td>-1.0</td><td>-1.0</td><td>-1.0</td><td>-1.0</td><td>-1.0</td><td>-1.0</td><td>-1.0</td><td>-1.0</td><td>-1.0</td><td>-1.0</td><td>-1.0</td><td>-1.0</td><td>-1.0</td><td>-1.0</td><td>-1.0</td><td>-1.0</td><td>-1.0</td><td>-1.0</td><td>-1.0</td><td>-1.0</td><td>-1.0</td><td>-1.0</td><td>-1.0</td><td>-1.0</td><td>-1.0</td><td>-1.0</td><td>-1.0</td><td>-1.0</td><td>-1.0</td><td>-1.0</td><td>-1.0</td><td>-1.0</td><td>-1.0</td><td>-1.0</td><td>-1.0</td><td>-1.0</td><td>-1.0</td><td>-1.0</td><td>-1.0</td><td>-1.0</td><td>-1.0</td><td>-1.0</td><td>-1.0</td><td>-1.0</td><td>-1.0</td><td>-1.0</td><td>-1.0</td><td>-1.0</td><td>-1.0</td><td>-1.0</td><td>-1.0</td><td>-1.0</td><td>-1.0</td><td>-1.0</td><td>-1.0</td><td>-1.0</td><td>-1.0</td><td>-1.0</td><td>-1.0</td><td>-1.0</td><td>-1.0</td><td>-1.0</td><td>-1.0</td><td>-1.0</td><td>-1.0</td><td>-1.0</td><td>-1.0</td><td>-1.0</td><td>-1.0</td><td>-1.0</td><td>-1.0</td><td>-1.0</td><td>0</td></tr>\n",
       "</table></div>"
      ],
      "text/plain": [
       "<Table length=5>\n",
       "       ra               dec           pmra  ... Z_COG_PARAMS_CHI2 ELLIPSEBIT\n",
       "    float64           float64       float64 ...      float32        int32   \n",
       "---------------- ------------------ ------- ... ----------------- ----------\n",
       "214.572815677136   53.7889867128657     0.0 ...       0.027998418          0\n",
       "214.572815677136   53.7889867128657     0.0 ...       0.027998418          0\n",
       " 225.23132654395 -0.192353656000737     0.0 ...       0.009117306          0\n",
       "   226.247541667      48.6466388889     0.0 ...         0.5414868          0\n",
       "   229.855666667      49.5013055556     0.0 ...              -1.0          0"
      ]
     },
     "execution_count": 8,
     "metadata": {},
     "output_type": "execute_result"
    }
   ],
   "source": [
    "MostHosts = Table.read('/global/cfs/cdirs/desi/users/sybenzvi/mosthosts_sga_daily.fits')\n",
    "\n",
    "MostHosts[:5]"
   ]
  },
  {
   "cell_type": "code",
   "execution_count": 9,
   "id": "aef2f630-88d2-484b-997f-6a6721c5e5b4",
   "metadata": {},
   "outputs": [],
   "source": [
    "MostHosts_dict = {}\n",
    "\n",
    "for i in range(len(MostHosts)):\n",
    "    \n",
    "    MostHosts_dict[MostHosts['SGA_ID'][i]] = i"
   ]
  },
  {
   "cell_type": "markdown",
   "id": "3a66bb9f-39a2-490c-b393-28ef583c024b",
   "metadata": {},
   "source": [
    "### If a MostHosts galaxy has at least one observation at its center, set the redshift of that galaxy"
   ]
  },
  {
   "cell_type": "code",
   "execution_count": 14,
   "id": "3749b4d6-d0c6-47b1-b231-47a1c30c1c2a",
   "metadata": {},
   "outputs": [],
   "source": [
    "MostHosts['Z_DESI'] = np.nan\n",
    "MostHosts['ZERR_DESI'] = np.nan\n",
    "\n",
    "for sga_id in np.unique(good_centers['SGA_ID']):\n",
    "    \n",
    "    if sga_id in MostHosts_dict.keys():\n",
    "        # Find the row in SGA for this galaxy\n",
    "        SGA_idx = MostHosts_dict[sga_id]\n",
    "\n",
    "        # Set the redshift of this galaxy to be the average redshift of all good center observations\n",
    "        MostHosts['Z_DESI'][SGA_idx] = np.mean(good_centers['Z'][good_centers['SGA_ID'] == sga_id])\n",
    "        MostHosts['ZERR_DESI'][SGA_idx] = np.mean(good_centers['ZERR'][good_centers['SGA_ID'] == sga_id]**2)/np.sum(good_centers['SGA_ID'] == sga_id)"
   ]
  },
  {
   "cell_type": "markdown",
   "id": "9c14d3e7-0447-4de1-b7e7-bb6a6cce2e50",
   "metadata": {},
   "source": [
    "### Filter the MostHosts objects to keep only those objects with center observations and independent distances"
   ]
  },
  {
   "cell_type": "code",
   "execution_count": 15,
   "id": "d404371e-3572-488d-8ea8-24e72d2c7d0e",
   "metadata": {},
   "outputs": [
    {
     "name": "stdout",
     "output_type": "stream",
     "text": [
      "fuji galaxies with MostHost redshifts and good center observations: 55\n",
      "fuji off-center observations in galaxies with a MostHost redshift: 110\n"
     ]
    }
   ],
   "source": [
    "#distances = (SGA['DM_Stellar'] != -1) | (SGA['DM1_SN'] != -1)\n",
    "centers = np.isfinite(MostHosts['Z_DESI'])\n",
    "\n",
    "################################################################################\n",
    "# Keep all observations of each galaxy that have independent distances\n",
    "#-------------------------------------------------------------------------------\n",
    "#SGA_ID_dist = MostHosts['SGA_ID'][distances & centers]\n",
    "SGA_ID_dist = MostHosts['SGA_ID'][centers]\n",
    "\n",
    "centers_dist = good_centers[np.in1d(good_centers['SGA_ID'], SGA_ID_dist)]\n",
    "\n",
    "axis_dist = fuji_axis[np.in1d(fuji_axis['SGA_ID'], SGA_ID_dist)]\n",
    "################################################################################\n",
    "\n",
    "print('fuji galaxies with MostHost redshifts and good center observations:', len(np.unique(centers_dist['SGA_ID'])))\n",
    "print('fuji off-center observations in galaxies with a MostHost redshift:', len(axis_dist))"
   ]
  },
  {
   "cell_type": "markdown",
   "id": "b51c4b2e-e687-4e8a-a83a-8bcba8fb0a03",
   "metadata": {},
   "source": [
    "# Calculate the rotational velocities"
   ]
  },
  {
   "cell_type": "code",
   "execution_count": 16,
   "id": "6b206b9d-faab-40e6-a840-bf0e756b77c6",
   "metadata": {},
   "outputs": [],
   "source": [
    "axis_dist['SKY_FIBER_DIST'] = 0.\n",
    "axis_dist['SKY_FIBER_DIST_R26'] = 0.\n",
    "axis_dist['V_ROT'] = np.nan\n",
    "axis_dist['V_ROT_ERR'] = np.nan\n",
    "\n",
    "\n",
    "# For each MostHost galaxy that has at least one center observation, calculate the \n",
    "# distance for all of that galaxy's targets\n",
    "for sga_gal in np.unique(centers_dist['SGA_ID']):\n",
    "    \n",
    "    # Identify all galaxy targets on this galaxy\n",
    "    obs_idx = axis_dist['SGA_ID'] == sga_gal\n",
    "    \n",
    "    # Find galaxy index in MostHosts catalog\n",
    "    sga_idx = MostHosts_dict[sga_gal]\n",
    "    \n",
    "    #---------------------------------------------------------------------------\n",
    "    # Calculate distance between each observation and the center\n",
    "    #---------------------------------------------------------------------------\n",
    "    center_coords = SkyCoord(ra=MostHosts['RA'][sga_idx], \n",
    "                             dec=MostHosts['DEC'][sga_idx], \n",
    "                             unit=u.degree)\n",
    "    target_coords = SkyCoord(ra=axis_dist['RA'][obs_idx], \n",
    "                             dec=axis_dist['DEC'][obs_idx], \n",
    "                             unit=u.degree)\n",
    "    \n",
    "    sep2d = target_coords.separation(center_coords)\n",
    "    \n",
    "    axis_dist['SKY_FIBER_DIST'][obs_idx] = sep2d\n",
    "    axis_dist['SKY_FIBER_DIST_R26'][obs_idx] = 2*sep2d.to('arcmin')/(MostHosts['D26'][sga_idx]*u.arcmin)\n",
    "    #---------------------------------------------------------------------------\n",
    "    \n",
    "    \n",
    "    #---------------------------------------------------------------------------\n",
    "    # Calculate rotational velocity\n",
    "    #---------------------------------------------------------------------------\n",
    "    # Use the average redshift of all center observations for the systemic velocity\n",
    "    z_center = np.mean(MostHosts['Z_DESI'][sga_idx])\n",
    "    z_err_center2 = MostHosts['ZERR_DESI'][sga_idx]**2\n",
    "\n",
    "    # Calculate rotational velocity for all observations of the galaxy\n",
    "    axis_dist['V_ROT'][obs_idx] = c*(axis_dist['Z'][obs_idx] - z_center)\n",
    "    axis_dist['V_ROT_ERR'][obs_idx] = c*np.sqrt(axis_dist['ZERR'][obs_idx]**2 + z_err_center2)\n",
    "    #---------------------------------------------------------------------------\n",
    "    \n",
    "    \n",
    "    #---------------------------------------------------------------------------\n",
    "    # Correct rotational velocities for inclination angle\n",
    "    #---------------------------------------------------------------------------\n",
    "    cosi2 = (MostHosts['BA'][sga_idx]**2 - q0**2)/(1 - q0**2)\n",
    "    \n",
    "    # Galaxies with b/a < q0\n",
    "    if cosi2 < 0:\n",
    "        cosi2 = 0\n",
    "    \n",
    "    axis_dist['V_ROT'][obs_idx] /= np.sin(np.arccos(np.sqrt(cosi2)))\n",
    "    #---------------------------------------------------------------------------"
   ]
  },
  {
   "cell_type": "code",
   "execution_count": 17,
   "id": "f24c9197-b315-402a-85bf-fb7a76203ec2",
   "metadata": {},
   "outputs": [
    {
     "data": {
      "image/png": "[encoded data removed]",
      "text/plain": [
       "<Figure size 432x288 with 1 Axes>"
      ]
     },
     "metadata": {
      "needs_background": "light"
     },
     "output_type": "display_data"
    }
   ],
   "source": [
    "plt.figure(tight_layout=True)\n",
    "\n",
    "plt.hist(np.abs(axis_dist['V_ROT']), bins=np.linspace(0, 1000, 100))\n",
    "\n",
    "plt.xlabel('$V_{rot}$ [km/s]')\n",
    "plt.ylabel('number of observations');"
   ]
  },
  {
   "cell_type": "markdown",
   "id": "f9fc8a8c-956f-4076-b592-d91dc97e3e3f",
   "metadata": {},
   "source": [
    "# Cut for galaxies with distances suitable for calibrating the TFR\n",
    "\n",
    "Requirements:\n",
    " * $V_{rot} < 1000$ km/s at $0.33R_{26}$\n",
    " * $i > 45^\\circ$\n",
    " * Spiral-type morphology\n",
    " * Passes visual inspection"
   ]
  },
  {
   "cell_type": "markdown",
   "id": "a26dff3b-d2f2-41a4-8a47-8c4407f8afbd",
   "metadata": {},
   "source": [
    "## Velocity cut"
   ]
  },
  {
   "cell_type": "code",
   "execution_count": 18,
   "id": "986f011a-b1e9-4ce9-838f-4943544204ff",
   "metadata": {},
   "outputs": [
    {
     "name": "stdout",
     "output_type": "stream",
     "text": [
      "28 17\n"
     ]
    }
   ],
   "source": [
    "r0p3 = (axis_dist['SKY_FIBER_DIST_R26'] > 0.3) & (axis_dist['SKY_FIBER_DIST_R26'] < 0.4)\n",
    "\n",
    "Vgood = np.abs(axis_dist['V_ROT']) < 1000\n",
    "\n",
    "good_axis_dist = axis_dist[r0p3 & Vgood]\n",
    "\n",
    "print(len(good_axis_dist), len(np.unique(good_axis_dist['SGA_ID'])))"
   ]
  },
  {
   "cell_type": "markdown",
   "id": "a2a42abe-4a70-4af5-9f5d-3f3ba61dcdbf",
   "metadata": {},
   "source": [
    "## Inclination angle cut"
   ]
  },
  {
   "cell_type": "code",
   "execution_count": 20,
   "id": "0457d75a-b11e-4c13-bedd-8dbe93c14d5a",
   "metadata": {},
   "outputs": [],
   "source": [
    "MostHosts['cosi2'] = (MostHosts['BA']**2 - q0**2)/(1 - q0**2)\n",
    "MostHosts['cosi2'][MostHosts['cosi2'] < 0] = 0\n",
    "\n",
    "good_axis_dist['iSGA'] = -1\n",
    "\n",
    "for i in range(len(good_axis_dist)):\n",
    "    \n",
    "    # Find galaxy in SGA\n",
    "    sga_idx = MostHosts_dict[good_axis_dist['SGA_ID'][i]]\n",
    "    \n",
    "    good_axis_dist['iSGA'][i] = sga_idx\n",
    "    \n",
    "good_axis_dist['cosi2'] = MostHosts['cosi2'][good_axis_dist['iSGA']]"
   ]
  },
  {
   "cell_type": "code",
   "execution_count": 21,
   "id": "5f6fd2d3-8456-450b-ad6a-696a3af2e682",
   "metadata": {},
   "outputs": [
    {
     "name": "stdout",
     "output_type": "stream",
     "text": [
      "22 13\n"
     ]
    }
   ],
   "source": [
    "i_min = 45. # degrees\n",
    "\n",
    "cosi2_max = np.cos(i_min*np.pi/180.)**2\n",
    "\n",
    "edge = good_axis_dist['cosi2'] <= cosi2_max\n",
    "\n",
    "good_edge_axis_dist = good_axis_dist[edge]\n",
    "\n",
    "print(len(good_edge_axis_dist), len(np.unique(good_edge_axis_dist['SGA_ID'])))"
   ]
  },
  {
   "cell_type": "code",
   "execution_count": 22,
   "id": "60211866-ef96-42da-ba2d-4ce60eea32f6",
   "metadata": {},
   "outputs": [
    {
     "data": {
      "image/png": "[encoded data removed]",
      "text/plain": [
       "<Figure size 432x288 with 1 Axes>"
      ]
     },
     "metadata": {
      "needs_background": "light"
     },
     "output_type": "display_data"
    }
   ],
   "source": [
    "plt.figure(tight_layout=True)\n",
    "\n",
    "plt.hist(np.arccos(np.sqrt(good_edge_axis_dist['cosi2']))*180/np.pi, bins=np.arange(0, 90, 5))\n",
    "\n",
    "plt.xlabel('inclination angle [deg]')\n",
    "plt.ylabel('number of observations');"
   ]
  },
  {
   "cell_type": "markdown",
   "id": "dedf28cd-7b9b-458d-a43b-d0f9453e63c4",
   "metadata": {},
   "source": [
    "## Morphology cut"
   ]
  },
  {
   "cell_type": "code",
   "execution_count": 23,
   "id": "7e9c46cb-6773-41ad-8b09-28e5126a116a",
   "metadata": {},
   "outputs": [],
   "source": [
    "good_edge_axis_dist['MORPHTYPE'] = MostHosts['MORPHTYPE'][good_edge_axis_dist['iSGA']]"
   ]
  },
  {
   "cell_type": "code",
   "execution_count": 24,
   "id": "80836064-0022-482d-a2ec-9e6101661001",
   "metadata": {},
   "outputs": [
    {
     "name": "stdout",
     "output_type": "stream",
     "text": [
      "--\n",
      "--\n",
      "--\n",
      "18 10\n"
     ]
    }
   ],
   "source": [
    "spirals = np.zeros(len(good_edge_axis_dist), dtype=bool)\n",
    "\n",
    "for i in range(len(good_edge_axis_dist)):\n",
    "    \n",
    "    try:    \n",
    "        if (good_edge_axis_dist['MORPHTYPE'][i][0] == 'S') and (good_edge_axis_dist['MORPHTYPE'][i][:2] != 'S0'):\n",
    "            spirals[i] = True\n",
    "    except IndexError:\n",
    "        print(good_edge_axis_dist['MORPHTYPE'][i])\n",
    "\n",
    "good_edge_spirals_axis_dist = good_edge_axis_dist[spirals]\n",
    "\n",
    "print(len(good_edge_spirals_axis_dist), len(np.unique(good_edge_spirals_axis_dist['SGA_ID'])))"
   ]
  },
  {
   "cell_type": "code",
   "execution_count": 25,
   "id": "19e30aa5-4ad4-4d94-925d-4557ded67bab",
   "metadata": {},
   "outputs": [
    {
     "data": {
      "text/html": [
       "<div><i>Table length=10</i>\n",
       "<table id=\"table23453684980368\" class=\"table-striped table-bordered table-condensed\">\n",
       "<thead><tr><th>ra</th><th>dec</th><th>pmra</th><th>pmdec</th><th>ref_epoch</th><th>override</th><th>hemisphere</th><th>sn_ra</th><th>sn_dec</th><th>sn_z</th><th>program</th><th>priority</th><th>tns_name</th><th>iau_name</th><th>ptfiptf_name</th><th>spname</th><th>z</th><th>zerr</th><th>chi2</th><th>deltachi2</th><th>spectype</th><th>subtype</th><th>SGA_ID</th><th>SGA_GALAXY</th><th>GALAXY</th><th>PGC</th><th>RA_LEDA</th><th>DEC_LEDA</th><th>MORPHTYPE</th><th>PA_LEDA</th><th>D25_LEDA</th><th>BA_LEDA</th><th>Z_LEDA</th><th>SB_D25_LEDA</th><th>MAG_LEDA</th><th>BYHAND</th><th>REF</th><th>GROUP_ID</th><th>GROUP_NAME</th><th>GROUP_MULT</th><th>GROUP_PRIMARY</th><th>GROUP_RA</th><th>GROUP_DEC</th><th>GROUP_DIAMETER</th><th>BRICKNAME</th><th>RA</th><th>DEC</th><th>D26</th><th>D26_REF</th><th>PA</th><th>BA</th><th>RA_MOMENT</th><th>DEC_MOMENT</th><th>SMA_MOMENT</th><th>G_SMA50</th><th>R_SMA50</th><th>Z_SMA50</th><th>SMA_SB22</th><th>SMA_SB22.5</th><th>SMA_SB23</th><th>SMA_SB23.5</th><th>SMA_SB24</th><th>SMA_SB24.5</th><th>SMA_SB25</th><th>SMA_SB25.5</th><th>SMA_SB26</th><th>G_MAG_SB22</th><th>R_MAG_SB22</th><th>Z_MAG_SB22</th><th>G_MAG_SB22.5</th><th>R_MAG_SB22.5</th><th>Z_MAG_SB22.5</th><th>G_MAG_SB23</th><th>R_MAG_SB23</th><th>Z_MAG_SB23</th><th>G_MAG_SB23.5</th><th>R_MAG_SB23.5</th><th>Z_MAG_SB23.5</th><th>G_MAG_SB24</th><th>R_MAG_SB24</th><th>Z_MAG_SB24</th><th>G_MAG_SB24.5</th><th>R_MAG_SB24.5</th><th>Z_MAG_SB24.5</th><th>G_MAG_SB25</th><th>R_MAG_SB25</th><th>Z_MAG_SB25</th><th>G_MAG_SB25.5</th><th>R_MAG_SB25.5</th><th>Z_MAG_SB25.5</th><th>G_MAG_SB26</th><th>R_MAG_SB26</th><th>Z_MAG_SB26</th><th>SMA_SB22_ERR</th><th>SMA_SB22.5_ERR</th><th>SMA_SB23_ERR</th><th>SMA_SB23.5_ERR</th><th>SMA_SB24_ERR</th><th>SMA_SB24.5_ERR</th><th>SMA_SB25_ERR</th><th>SMA_SB25.5_ERR</th><th>SMA_SB26_ERR</th><th>G_MAG_SB22_ERR</th><th>R_MAG_SB22_ERR</th><th>Z_MAG_SB22_ERR</th><th>G_MAG_SB22.5_ERR</th><th>R_MAG_SB22.5_ERR</th><th>Z_MAG_SB22.5_ERR</th><th>G_MAG_SB23_ERR</th><th>R_MAG_SB23_ERR</th><th>Z_MAG_SB23_ERR</th><th>G_MAG_SB23.5_ERR</th><th>R_MAG_SB23.5_ERR</th><th>Z_MAG_SB23.5_ERR</th><th>G_MAG_SB24_ERR</th><th>R_MAG_SB24_ERR</th><th>Z_MAG_SB24_ERR</th><th>G_MAG_SB24.5_ERR</th><th>R_MAG_SB24.5_ERR</th><th>Z_MAG_SB24.5_ERR</th><th>G_MAG_SB25_ERR</th><th>R_MAG_SB25_ERR</th><th>Z_MAG_SB25_ERR</th><th>G_MAG_SB25.5_ERR</th><th>R_MAG_SB25.5_ERR</th><th>Z_MAG_SB25.5_ERR</th><th>G_MAG_SB26_ERR</th><th>R_MAG_SB26_ERR</th><th>Z_MAG_SB26_ERR</th><th>G_COG_PARAMS_MTOT</th><th>G_COG_PARAMS_M0</th><th>G_COG_PARAMS_ALPHA1</th><th>G_COG_PARAMS_ALPHA2</th><th>G_COG_PARAMS_CHI2</th><th>R_COG_PARAMS_MTOT</th><th>R_COG_PARAMS_M0</th><th>R_COG_PARAMS_ALPHA1</th><th>R_COG_PARAMS_ALPHA2</th><th>R_COG_PARAMS_CHI2</th><th>Z_COG_PARAMS_MTOT</th><th>Z_COG_PARAMS_M0</th><th>Z_COG_PARAMS_ALPHA1</th><th>Z_COG_PARAMS_ALPHA2</th><th>Z_COG_PARAMS_CHI2</th><th>ELLIPSEBIT</th><th>Z_DESI</th><th>ZERR_DESI</th><th>cosi2</th></tr></thead>\n",
       "<thead><tr><th>float64</th><th>float64</th><th>float64</th><th>float64</th><th>float64</th><th>bool</th><th>bytes7</th><th>float64</th><th>float64</th><th>float64</th><th>bytes33</th><th>float64</th><th>bytes10</th><th>bytes15</th><th>bytes9</th><th>bytes15</th><th>float64</th><th>float64</th><th>float64</th><th>float64</th><th>bytes6</th><th>bytes3</th><th>int64</th><th>bytes16</th><th>bytes29</th><th>int64</th><th>float64</th><th>float64</th><th>bytes21</th><th>float32</th><th>float32</th><th>float32</th><th>float32</th><th>float32</th><th>float32</th><th>bool</th><th>bytes13</th><th>int64</th><th>bytes35</th><th>int16</th><th>bool</th><th>float64</th><th>float64</th><th>float32</th><th>bytes8</th><th>float64</th><th>float64</th><th>float32</th><th>bytes4</th><th>float32</th><th>float32</th><th>float64</th><th>float64</th><th>float32</th><th>float32</th><th>float32</th><th>float32</th><th>float32</th><th>float32</th><th>float32</th><th>float32</th><th>float32</th><th>float32</th><th>float32</th><th>float32</th><th>float32</th><th>float32</th><th>float32</th><th>float32</th><th>float32</th><th>float32</th><th>float32</th><th>float32</th><th>float32</th><th>float32</th><th>float32</th><th>float32</th><th>float32</th><th>float32</th><th>float32</th><th>float32</th><th>float32</th><th>float32</th><th>float32</th><th>float32</th><th>float32</th><th>float32</th><th>float32</th><th>float32</th><th>float32</th><th>float32</th><th>float32</th><th>float32</th><th>float32</th><th>float32</th><th>float32</th><th>float32</th><th>float32</th><th>float32</th><th>float32</th><th>float32</th><th>float32</th><th>float32</th><th>float32</th><th>float32</th><th>float32</th><th>float32</th><th>float32</th><th>float32</th><th>float32</th><th>float32</th><th>float32</th><th>float32</th><th>float32</th><th>float32</th><th>float32</th><th>float32</th><th>float32</th><th>float32</th><th>float32</th><th>float32</th><th>float32</th><th>float32</th><th>float32</th><th>float32</th><th>float32</th><th>float32</th><th>float32</th><th>float32</th><th>float32</th><th>float32</th><th>float32</th><th>float32</th><th>float32</th><th>float32</th><th>float32</th><th>float32</th><th>float32</th><th>float32</th><th>float32</th><th>float32</th><th>float32</th><th>float32</th><th>float32</th><th>int32</th><th>float64</th><th>float64</th><th>float32</th></tr></thead>\n",
       "<tr><td>183.547166667</td><td>-0.831583333333</td><td>0.0</td><td>0.0</td><td>0.0</td><td>False</td><td>south</td><td>183.54456</td><td>-0.84601</td><td>0.0248</td><td>RCF</td><td>5.0</td><td>SN2019kcx</td><td>None</td><td>None</td><td>SN2019kcx</td><td>0.0248586410985697</td><td>5.17959857631646e-06</td><td>8183.86664572731</td><td>2691.04599756862</td><td>GALAXY</td><td>--</td><td>294387</td><td>SGA-2020 294387</td><td>PGC039073</td><td>39073</td><td>183.547164</td><td>-0.831551</td><td>SABc</td><td>171.72</td><td>0.7780365</td><td>0.561048</td><td>0.024841517</td><td>23.520481</td><td>15.437</td><td>False</td><td>LEDA-20181114</td><td>106169</td><td>PGC039073</td><td>1</td><td>True</td><td>183.547164</td><td>-0.831551</td><td>0.7780365</td><td>1836m007</td><td>183.5471939888577</td><td>-0.8316111360355423</td><td>1.2215545</td><td>SB26</td><td>170.44017</td><td>0.5814847</td><td>183.54718532704396</td><td>-0.8315369651746233</td><td>30.07738</td><td>12.846199</td><td>12.395062</td><td>11.759229</td><td>8.509257</td><td>11.53522</td><td>14.766707</td><td>18.282831</td><td>22.028744</td><td>25.829937</td><td>29.480642</td><td>33.008987</td><td>36.646637</td><td>16.52693</td><td>15.968272</td><td>15.577775</td><td>16.17626</td><td>15.640676</td><td>15.267396</td><td>15.939795</td><td>15.423002</td><td>15.057729</td><td>15.767317</td><td>15.26203</td><td>14.904332</td><td>15.642654</td><td>15.141757</td><td>14.787272</td><td>15.55682</td><td>15.060615</td><td>14.709526</td><td>15.498996</td><td>15.00487</td><td>14.656994</td><td>15.462121</td><td>14.968573</td><td>14.623675</td><td>15.437742</td><td>14.945529</td><td>14.603001</td><td>0.038360342</td><td>0.061051294</td><td>0.059315868</td><td>0.09041882</td><td>0.07770962</td><td>0.099839635</td><td>0.10327726</td><td>0.10800127</td><td>0.15686321</td><td>0.008838212</td><td>0.009582073</td><td>0.0097316895</td><td>0.007513806</td><td>0.008082654</td><td>0.008192047</td><td>0.0066172783</td><td>0.007089283</td><td>0.007204685</td><td>0.005913486</td><td>0.006328169</td><td>0.006462018</td><td>0.005406668</td><td>0.005792954</td><td>0.0059218905</td><td>0.005074407</td><td>0.005446651</td><td>0.0055868314</td><td>0.0048628864</td><td>0.0052201203</td><td>0.005371191</td><td>0.004731652</td><td>0.005074616</td><td>0.0052398327</td><td>0.004641347</td><td>0.0049823252</td><td>0.0051635467</td><td>15.318537</td><td>0.5640646</td><td>5.086929</td><td>2.3881478</td><td>1.8722204</td><td>14.825719</td><td>0.52780443</td><td>5.237951</td><td>2.3515327</td><td>2.232278</td><td>14.503408</td><td>0.44021618</td><td>6.862227</td><td>2.5675461</td><td>2.2760477</td><td>0</td><td>0.0248628847355973</td><td>1.1699988795781378e-11</td><td>0.31054628</td></tr>\n",
       "<tr><td>242.480916667</td><td>43.1291944444</td><td>0.0</td><td>0.0</td><td>0.0</td><td>False</td><td>north</td><td>242.4852</td><td>43.1266</td><td>-9999.0</td><td>historical_SNIa</td><td>1.0</td><td>None</td><td>None</td><td>None</td><td>SN2006cc</td><td>0.0328274916033773</td><td>1.39881467177673e-05</td><td>12959.2629232164</td><td>5196.23148585373</td><td>GALAXY</td><td>--</td><td>464075</td><td>SGA-2020 464075</td><td>UGC10244</td><td>57341</td><td>242.48108100000002</td><td>43.1290549</td><td>Sbc</td><td>128.96</td><td>1.0423175</td><td>0.3019952</td><td>0.03288008</td><td>24.129482</td><td>15.411</td><td>False</td><td>LEDA-20181114</td><td>169351</td><td>UGC10244</td><td>1</td><td>True</td><td>242.48108100000002</td><td>43.1290549</td><td>1.0423175</td><td>2424p432</td><td>242.48098745213719</td><td>43.12912634553939</td><td>1.8803749</td><td>SB26</td><td>128.77156</td><td>0.25576675</td><td>242.48074521025828</td><td>43.12920524001464</td><td>33.333332</td><td>13.762432</td><td>13.33429</td><td>6.869408</td><td>20.062359</td><td>23.480825</td><td>26.841143</td><td>30.275038</td><td>34.482098</td><td>39.361794</td><td>44.571243</td><td>50.888767</td><td>56.411247</td><td>15.378283</td><td>14.3577795</td><td>13.665737</td><td>15.277042</td><td>14.263303</td><td>13.620374</td><td>15.212705</td><td>14.207908</td><td>13.586886</td><td>15.177601</td><td>14.170899</td><td>13.565661</td><td>15.144904</td><td>14.135565</td><td>13.546063</td><td>15.118075</td><td>14.108305</td><td>13.528171</td><td>15.095903</td><td>14.08959</td><td>13.514712</td><td>15.077272</td><td>14.071617</td><td>13.503589</td><td>15.064306</td><td>14.061757</td><td>13.50056</td><td>0.14993039</td><td>0.18158807</td><td>0.18825479</td><td>0.22639686</td><td>0.24359083</td><td>0.24287476</td><td>0.23499858</td><td>0.34557027</td><td>0.32119325</td><td>0.023190737</td><td>0.020619955</td><td>0.02711046</td><td>0.021607935</td><td>0.019364513</td><td>0.026131935</td><td>0.020621898</td><td>0.018606326</td><td>0.02540204</td><td>0.020023214</td><td>0.018049074</td><td>0.024948375</td><td>0.019484583</td><td>0.017537842</td><td>0.024526162</td><td>0.019048229</td><td>0.017155945</td><td>0.024136491</td><td>0.018682567</td><td>0.016877254</td><td>0.023848789</td><td>0.018375177</td><td>0.016610518</td><td>0.023612779</td><td>0.01815413</td><td>0.016440732</td><td>0.023553774</td><td>15.02493</td><td>18027.455</td><td>7.982429e-05</td><td>2.0297074</td><td>0.24238399</td><td>14.017664</td><td>12811.115</td><td>0.00010316957</td><td>1.9570801</td><td>0.056902446</td><td>13.471971</td><td>0.36119577</td><td>3.1486363</td><td>2.1401784</td><td>0.019810589</td><td>0</td><td>0.0328314118206002</td><td>1.9179622929413818e-10</td><td>0.026475655</td></tr>\n",
       "<tr><td>251.80698752266</td><td>33.3056294617536</td><td>0.0</td><td>0.0</td><td>0.0</td><td>False</td><td>north</td><td>251.807599</td><td>33.305703</td><td>0.0529</td><td>PTF-iPTF</td><td>1.0</td><td>None</td><td>None</td><td>PTF12csi</td><td>PTF12csi</td><td>0.0529430019074559</td><td>3.73643729845768e-06</td><td>10463.0092664063</td><td>7373.40410158038</td><td>GALAXY</td><td>--</td><td>498526</td><td>SGA-2020 498526</td><td>PGC2028984</td><td>2028984</td><td>251.8070655</td><td>33.3056091</td><td>Sc</td><td>80.39</td><td>0.386367</td><td>0.56234133</td><td>0.05288125</td><td>24.13348</td><td>17.57</td><td>False</td><td>LEDA-20181114</td><td>180256</td><td>2MASXJ16471244+3318208_GROUP</td><td>2</td><td>False</td><td>251.8044229316898</td><td>33.30566616980718</td><td>0.53747547</td><td>2517p332</td><td>251.80703132713052</td><td>33.30563323853665</td><td>0.635832</td><td>SB26</td><td>80.332954</td><td>0.33776277</td><td>251.8068795810851</td><td>33.30568755623088</td><td>10.730324</td><td>7.0014644</td><td>6.2401958</td><td>5.4940696</td><td>7.7525964</td><td>9.851342</td><td>11.394512</td><td>12.546472</td><td>13.769736</td><td>14.768166</td><td>16.139708</td><td>17.590542</td><td>19.07496</td><td>17.492168</td><td>16.653856</td><td>16.06302</td><td>17.228155</td><td>16.417072</td><td>15.850836</td><td>17.087223</td><td>16.293022</td><td>15.743135</td><td>17.004229</td><td>16.226748</td><td>15.694435</td><td>16.93386</td><td>16.181812</td><td>15.664262</td><td>16.90953</td><td>16.170158</td><td>15.654974</td><td>16.88256</td><td>16.151833</td><td>15.6455</td><td>16.867582</td><td>16.139217</td><td>15.637607</td><td>16.85735</td><td>16.131464</td><td>15.636298</td><td>0.13767906</td><td>0.1410938</td><td>0.17364936</td><td>0.11711637</td><td>0.09912541</td><td>0.15933049</td><td>0.17624205</td><td>0.21144055</td><td>0.19832845</td><td>0.04488882</td><td>0.051961508</td><td>0.057196543</td><td>0.04051016</td><td>0.046305146</td><td>0.050951097</td><td>0.038013253</td><td>0.043290406</td><td>0.047728915</td><td>0.036425732</td><td>0.041571088</td><td>0.04619224</td><td>0.035055455</td><td>0.040363733</td><td>0.04520853</td><td>0.034471966</td><td>0.039981686</td><td>0.044867422</td><td>0.033781417</td><td>0.039375078</td><td>0.04453739</td><td>0.033356197</td><td>0.038944595</td><td>0.04423723</td><td>0.03306813</td><td>0.03867756</td><td>0.04416264</td><td>16.852032</td><td>0.1283564</td><td>15.891713</td><td>8.681122</td><td>0.058700107</td><td>16.129335</td><td>0.13414891</td><td>6.6101456</td><td>7.883656</td><td>0.04964748</td><td>15.635335</td><td>0.10627013</td><td>5.6981745</td><td>8.917332</td><td>0.0084935995</td><td>0</td><td>0.0529441260673914</td><td>1.3942302618162255e-11</td><td>0.07717051</td></tr>\n",
       "<tr><td>210.016880535361</td><td>5.69166319290208</td><td>0.0</td><td>0.0</td><td>0.0</td><td>False</td><td>south</td><td>210.01808414</td><td>5.69172505</td><td>0.081</td><td>SNe_Ia/RCF/ZTFmarshal</td><td>5.0</td><td>SN2019bvo</td><td>None</td><td>None</td><td>SN2019bvo</td><td>0.0809767308726063</td><td>1.10310607343444e-05</td><td>7868.99582320452</td><td>1918.43132113479</td><td>GALAXY</td><td>--</td><td>838601</td><td>SGA-2020 838601</td><td>PGC1287515</td><td>1287515</td><td>210.0168135</td><td>5.6916128</td><td>Sbc</td><td>16.17</td><td>0.35563132</td><td>0.62230027</td><td>0.080989026</td><td>23.650482</td><td>17.267</td><td>False</td><td>LEDA-20181114</td><td>305858</td><td>PGC1287515</td><td>1</td><td>True</td><td>210.0168135</td><td>5.6916128</td><td>0.35563132</td><td>2100p057</td><td>210.01689177868673</td><td>5.6916337312184515</td><td>0.54601264</td><td>SB26</td><td>12.747827</td><td>0.5378107</td><td>210.01680012755472</td><td>5.691723769164554</td><td>11.129664</td><td>5.8862305</td><td>5.450714</td><td>5.2952194</td><td>5.2785206</td><td>6.9587584</td><td>8.582752</td><td>10.238504</td><td>11.682181</td><td>12.909917</td><td>13.964512</td><td>15.018299</td><td>16.380379</td><td>17.70561</td><td>17.020855</td><td>16.555817</td><td>17.397585</td><td>16.739145</td><td>16.289001</td><td>17.189238</td><td>16.556574</td><td>16.117468</td><td>17.053091</td><td>16.434578</td><td>16.007116</td><td>16.97113</td><td>16.363943</td><td>15.944629</td><td>16.920729</td><td>16.320993</td><td>15.906033</td><td>16.89503</td><td>16.297554</td><td>15.882832</td><td>16.878094</td><td>16.281494</td><td>15.863888</td><td>16.866972</td><td>16.27169</td><td>15.851054</td><td>0.063781306</td><td>0.1188316</td><td>0.08490982</td><td>0.12308266</td><td>0.11444128</td><td>0.13535011</td><td>0.12931786</td><td>0.1276554</td><td>0.18968855</td><td>0.027992703</td><td>0.031857044</td><td>0.029505359</td><td>0.026158419</td><td>0.028917491</td><td>0.027193978</td><td>0.024939038</td><td>0.026975077</td><td>0.025513384</td><td>0.023659058</td><td>0.025387935</td><td>0.024188358</td><td>0.022678692</td><td>0.024338806</td><td>0.02330816</td><td>0.022040255</td><td>0.023658112</td><td>0.02275488</td><td>0.021681136</td><td>0.02325639</td><td>0.0223968</td><td>0.021413676</td><td>0.022972187</td><td>0.022087505</td><td>0.02122606</td><td>0.022783382</td><td>0.02186834</td><td>16.829187</td><td>0.24081065</td><td>1.6675625</td><td>4.847237</td><td>0.13464354</td><td>16.2337</td><td>0.241874</td><td>1.4095097</td><td>4.486586</td><td>0.073685974</td><td>15.800017</td><td>0.31124207</td><td>1.02572</td><td>3.616426</td><td>0.01975827</td><td>0</td><td>0.0809771446065905</td><td>1.250079855300109e-10</td><td>0.25962535</td></tr>\n",
       "<tr><td>216.968375</td><td>33.5691388889</td><td>0.0</td><td>0.0</td><td>0.0</td><td>False</td><td>north</td><td>216.966851</td><td>33.569351</td><td>0.02875</td><td>RCF/ZTFmarshal</td><td>5.0</td><td>AT2020pv</td><td>None</td><td>None</td><td>AT2020pv</td><td>0.0287399872273327</td><td>5.39311239483592e-06</td><td>8187.8218264915</td><td>1396.00625227741</td><td>GALAXY</td><td>--</td><td>899217</td><td>SGA-2020 899217</td><td>PGC2034750</td><td>2034750</td><td>216.9682845</td><td>33.569130799999996</td><td>Scd</td><td>81.55</td><td>0.5128614</td><td>0.39810717</td><td>0.028751224</td><td>23.89348</td><td>16.715</td><td>False</td><td>LEDA-20181114</td><td>331189</td><td>PGC2034750</td><td>1</td><td>True</td><td>216.9682845</td><td>33.569130799999996</td><td>0.5128614</td><td>2169p335</td><td>216.96839478930545</td><td>33.56912929994496</td><td>0.7108392</td><td>SB26</td><td>84.90725</td><td>0.3905689</td><td>216.96823271931152</td><td>33.56919322995779</td><td>17.689579</td><td>7.7657666</td><td>7.665047</td><td>6.9473906</td><td>7.262064</td><td>9.664717</td><td>11.72333</td><td>13.515682</td><td>15.080391</td><td>16.54586</td><td>18.059607</td><td>19.51426</td><td>21.325176</td><td>17.355867</td><td>16.849504</td><td>16.488325</td><td>16.977306</td><td>16.493727</td><td>16.168936</td><td>16.783312</td><td>16.309874</td><td>16.005482</td><td>16.676363</td><td>16.20613</td><td>15.915373</td><td>16.614952</td><td>16.146147</td><td>15.864464</td><td>16.579405</td><td>16.109524</td><td>15.835879</td><td>16.558323</td><td>16.085333</td><td>15.82056</td><td>16.544098</td><td>16.069683</td><td>15.810187</td><td>16.534277</td><td>16.057068</td><td>15.804306</td><td>0.031011343</td><td>0.050092585</td><td>0.06072511</td><td>0.06307568</td><td>0.06691798</td><td>0.07425069</td><td>0.09912088</td><td>0.10396549</td><td>0.17118765</td><td>0.0068114526</td><td>0.007181476</td><td>0.009047299</td><td>0.0063764425</td><td>0.0065223225</td><td>0.008122712</td><td>0.0060990904</td><td>0.0062562213</td><td>0.007833713</td><td>0.006014944</td><td>0.0061578467</td><td>0.0077076876</td><td>0.0059975907</td><td>0.0060892394</td><td>0.0076108854</td><td>0.0059655923</td><td>0.006030751</td><td>0.007567411</td><td>0.0059054997</td><td>0.005966358</td><td>0.0075481366</td><td>0.0058679096</td><td>0.0059206905</td><td>0.0075662145</td><td>0.005841356</td><td>0.0058753933</td><td>0.007609406</td><td>16.50915</td><td>0.3137374</td><td>2.958898</td><td>4.8196626</td><td>0.91115713</td><td>16.025099</td><td>0.33116943</td><td>2.707138</td><td>4.391724</td><td>0.44934323</td><td>15.787276</td><td>0.23617584</td><td>3.4271185</td><td>5.2512064</td><td>0.6707438</td><td>0</td><td>0.0287521740831587</td><td>2.7774639905009656e-11</td><td>0.11723342</td></tr>\n",
       "<tr><td>251.73645</td><td>34.15563</td><td>0.0</td><td>0.0</td><td>0.0</td><td>False</td><td>north</td><td>251.730659</td><td>34.159641</td><td>0.032</td><td>PTF-iPTF</td><td>1.0</td><td>None</td><td>None</td><td>PTF10fjh</td><td>PTF10fjh</td><td>0.0309737347126009</td><td>1.13027367192999e-05</td><td>12708.6511657638</td><td>12315.990562209</td><td>GALAXY</td><td>--</td><td>1138461</td><td>SGA-2020 1138461</td><td>UGC10547</td><td>58970</td><td>251.73642900000004</td><td>34.155602200000004</td><td>SBb</td><td>2.08</td><td>1.1455129</td><td>0.50699073</td><td>0.03099611</td><td>23.555481</td><td>14.632</td><td>False</td><td>LEDA-20181114</td><td>417254</td><td>UGC10547</td><td>1</td><td>True</td><td>251.73642900000004</td><td>34.155602200000004</td><td>1.1455129</td><td>2516p342</td><td>251.73652693782557</td><td>34.15554457563294</td><td>1.7752005</td><td>SB26</td><td>178.00592</td><td>0.55373883</td><td>251.73650403434192</td><td>34.155613254891996</td><td>43.284367</td><td>17.368584</td><td>15.895314</td><td>12.088289</td><td>19.22189</td><td>24.36519</td><td>29.430279</td><td>34.168724</td><td>38.552975</td><td>42.464634</td><td>46.175175</td><td>49.611546</td><td>53.256016</td><td>14.805815</td><td>13.983135</td><td>13.432052</td><td>14.578265</td><td>13.777991</td><td>13.260914</td><td>14.4313345</td><td>13.646606</td><td>13.159927</td><td>14.337605</td><td>13.563544</td><td>13.102898</td><td>14.278015</td><td>13.51029</td><td>13.071266</td><td>14.241558</td><td>13.478107</td><td>13.054829</td><td>14.218214</td><td>13.458385</td><td>13.048243</td><td>14.203916</td><td>13.446303</td><td>13.04635</td><td>14.193975</td><td>13.437465</td><td>13.045908</td><td>0.06470237</td><td>0.085675746</td><td>0.10083657</td><td>0.090465106</td><td>0.10635377</td><td>0.10833114</td><td>0.11415232</td><td>0.12686591</td><td>0.1361512</td><td>0.0049782177</td><td>0.005856107</td><td>0.010535997</td><td>0.0043600257</td><td>0.0050943373</td><td>0.009129013</td><td>0.00394518</td><td>0.004611663</td><td>0.008368367</td><td>0.0036970447</td><td>0.0043238606</td><td>0.007963957</td><td>0.0035450275</td><td>0.0041487506</td><td>0.007749548</td><td>0.0034471594</td><td>0.0040367963</td><td>0.00763555</td><td>0.0033830847</td><td>0.00396966</td><td>0.007591471</td><td>0.003344229</td><td>0.003931508</td><td>0.0075815273</td><td>0.0033158597</td><td>0.0039009904</td><td>0.00757978</td><td>14.154658</td><td>0.25679865</td><td>181.65276</td><td>4.2137804</td><td>1.3816159</td><td>13.404409</td><td>0.22813159</td><td>188.96957</td><td>4.273153</td><td>1.0042837</td><td>13.037012</td><td>0.13402647</td><td>834.2543</td><td>5.879532</td><td>0.6838176</td><td>0</td><td>0.0309753413797046</td><td>1.335914321983365e-10</td><td>0.27773616</td></tr>\n",
       "<tr><td>216.908041667</td><td>2.98177777778</td><td>0.0</td><td>0.0</td><td>0.0</td><td>False</td><td>south</td><td>216.888893</td><td>2.976197</td><td>-9999.0</td><td>RCF/ZTFmarshal</td><td>1.0</td><td>AT2020aahl</td><td>None</td><td>None</td><td>AT2020aahl</td><td>0.0255132795444653</td><td>6.27940123321655e-06</td><td>8325.28427409194</td><td>1647.06219608427</td><td>GALAXY</td><td>--</td><td>1194958</td><td>SGA-2020 1194958</td><td>PGC1242418</td><td>1242418</td><td>216.90805350000002</td><td>2.9817723</td><td>Sc</td><td>9.67</td><td>0.44360867</td><td>0.5915616</td><td>0.02550331</td><td>23.43748</td><td>16.574</td><td>False</td><td>LEDA-20181114</td><td>437549</td><td>PGC1242418</td><td>1</td><td>True</td><td>216.90805350000002</td><td>2.9817723</td><td>0.44360867</td><td>2168p030</td><td>216.9080784134228</td><td>2.981763122818245</td><td>0.8660147</td><td>SB26</td><td>10.165838</td><td>0.5845735</td><td>216.90798313648273</td><td>2.9817694783847424</td><td>19.706549</td><td>10.200892</td><td>9.732833</td><td>9.8792</td><td>4.9106884</td><td>7.1925635</td><td>9.710417</td><td>12.39791</td><td>15.130719</td><td>17.809128</td><td>20.529726</td><td>23.460182</td><td>25.980442</td><td>17.89145</td><td>17.32949</td><td>16.949867</td><td>17.374838</td><td>16.849182</td><td>16.495987</td><td>17.012655</td><td>16.514553</td><td>16.182995</td><td>16.76261</td><td>16.290066</td><td>15.980916</td><td>16.59869</td><td>16.141653</td><td>15.842045</td><td>16.48972</td><td>16.04197</td><td>15.740568</td><td>16.41546</td><td>15.970431</td><td>15.670489</td><td>16.36301</td><td>15.921144</td><td>15.622347</td><td>16.330357</td><td>15.893433</td><td>15.5916195</td><td>0.031861365</td><td>0.0645498</td><td>0.07777663</td><td>0.09635219</td><td>0.14784417</td><td>0.08999044</td><td>0.1179353</td><td>0.14693193</td><td>0.15509892</td><td>0.009922463</td><td>0.011664408</td><td>0.013677966</td><td>0.009728027</td><td>0.0108180875</td><td>0.012212336</td><td>0.009974402</td><td>0.010484516</td><td>0.01130364</td><td>0.009781783</td><td>0.0099788355</td><td>0.010446715</td><td>0.009199836</td><td>0.00935336</td><td>0.009739368</td><td>0.008758811</td><td>0.008884723</td><td>0.009189546</td><td>0.00836728</td><td>0.008484802</td><td>0.008781252</td><td>0.00804997</td><td>0.008191961</td><td>0.008490648</td><td>0.007851602</td><td>0.008032047</td><td>0.008316906</td><td>16.205685</td><td>0.5697614</td><td>2.89193</td><td>2.5914934</td><td>0.060635824</td><td>15.761324</td><td>0.5896201</td><td>2.421467</td><td>2.393524</td><td>0.33144107</td><td>15.418667</td><td>0.7035028</td><td>1.8684379</td><td>2.0108352</td><td>0.9702875</td><td>0</td><td>0.0255212675717551</td><td>6.579008334317277e-11</td><td>0.31429812</td></tr>\n",
       "<tr><td>192.140673050189</td><td>62.4609676848115</td><td>0.0</td><td>0.0</td><td>0.0</td><td>False</td><td>north</td><td>192.14443</td><td>62.464619</td><td>0.07753</td><td>RCF</td><td>1.0</td><td>AT2020exv</td><td>None</td><td>None</td><td>AT2020exv</td><td>0.07774012764167</td><td>1.92424110259805e-05</td><td>9965.15369394049</td><td>4125.85181445256</td><td>GALAXY</td><td>--</td><td>1202638</td><td>SGA-2020 1202638</td><td>2MASXJ12483377+6227391</td><td>3384293</td><td>192.14065499999998</td><td>62.4609897</td><td>Sbc</td><td>18.08</td><td>0.6902398</td><td>0.3689776</td><td>0.07753063</td><td>24.45848</td><td>16.635</td><td>False</td><td>LEDA-20181114</td><td>439661</td><td>2MASXJ12483377+6227391</td><td>1</td><td>True</td><td>192.14065499999998</td><td>62.4609897</td><td>0.6902398</td><td>1921p625</td><td>192.1406740387097</td><td>62.46093752527029</td><td>0.798953</td><td>SB26</td><td>18.336752</td><td>0.38196367</td><td>192.14043745451576</td><td>62.46096551024016</td><td>18.77777</td><td>6.6791935</td><td>5.9984117</td><td>5.6463513</td><td>8.87645</td><td>11.023034</td><td>13.267672</td><td>15.236531</td><td>16.63815</td><td>18.0017</td><td>19.307127</td><td>21.033323</td><td>23.96859</td><td>16.889467</td><td>15.972739</td><td>15.331702</td><td>16.705893</td><td>15.806541</td><td>15.175796</td><td>16.579618</td><td>15.693658</td><td>15.072647</td><td>16.501804</td><td>15.623859</td><td>15.010657</td><td>16.456354</td><td>15.582384</td><td>14.975719</td><td>16.423128</td><td>15.556728</td><td>14.95125</td><td>16.40682</td><td>15.54555</td><td>14.937097</td><td>16.398706</td><td>15.537261</td><td>14.931493</td><td>16.383076</td><td>15.52391</td><td>14.919667</td><td>0.07300463</td><td>0.10466023</td><td>0.17156026</td><td>0.18098797</td><td>0.18702951</td><td>0.1301894</td><td>0.20567702</td><td>0.26175988</td><td>0.31159633</td><td>0.02152919</td><td>0.023884432</td><td>0.02443416</td><td>0.020384014</td><td>0.022266153</td><td>0.022735775</td><td>0.019397147</td><td>0.021042723</td><td>0.021540387</td><td>0.018661251</td><td>0.020204557</td><td>0.020766284</td><td>0.018219149</td><td>0.019702613</td><td>0.020312406</td><td>0.017873574</td><td>0.019355454</td><td>0.019971836</td><td>0.017693149</td><td>0.019199755</td><td>0.0197867</td><td>0.017555872</td><td>0.019049421</td><td>0.01967927</td><td>0.01735145</td><td>0.018847577</td><td>0.01950174</td><td>16.370728</td><td>0.13300942</td><td>22.308224</td><td>6.3173537</td><td>0.4132801</td><td>15.5152</td><td>0.11863219</td><td>21.046152</td><td>6.4475684</td><td>0.250185</td><td>14.90756</td><td>0.12989071</td><td>12.555704</td><td>5.704729</td><td>0.208139</td><td>0</td><td>0.0776702165969449</td><td>3.768007553368982e-10</td><td>0.11030859</td></tr>\n",
       "<tr><td>194.570134952076</td><td>27.7297067037566</td><td>0.0</td><td>0.0</td><td>0.0</td><td>False</td><td>south</td><td>194.569496657143</td><td>27.7292541142857</td><td>0.0682</td><td>SNe_Ia/RCF/ZTFmarshal</td><td>5.0</td><td>SN2018cbv</td><td>None</td><td>None</td><td>SN2018cbv</td><td>0.0682318441087303</td><td>8.4892389944904e-06</td><td>9120.55629330128</td><td>2654.75171516091</td><td>GALAXY</td><td>--</td><td>1264056</td><td>SGA-2020 1264056</td><td>PGC126832</td><td>126832</td><td>194.570088</td><td>27.7296787</td><td>Sbc</td><td>40.32</td><td>0.4365158</td><td>0.4786301</td><td>0.0682352</td><td>24.001482</td><td>17.173</td><td>False</td><td>LEDA-20181114</td><td>464833</td><td>PGC126832</td><td>1</td><td>True</td><td>194.570088</td><td>27.7296787</td><td>0.4365158</td><td>1945p277</td><td>194.57015374237844</td><td>27.729698128842283</td><td>0.82140076</td><td>SB26</td><td>41.082222</td><td>0.42871577</td><td>194.57001821639724</td><td>27.72971281343294</td><td>18.826746</td><td>7.458115</td><td>6.774323</td><td>6.4910965</td><td>6.1731596</td><td>8.340157</td><td>10.459583</td><td>12.359288</td><td>13.973851</td><td>15.38492</td><td>18.072212</td><td>20.826956</td><td>24.642023</td><td>17.791073</td><td>16.945951</td><td>16.322348</td><td>17.446968</td><td>16.640326</td><td>16.035124</td><td>17.215227</td><td>16.432573</td><td>15.840166</td><td>17.068434</td><td>16.299402</td><td>15.715623</td><td>16.97789</td><td>16.224417</td><td>15.641925</td><td>16.933296</td><td>16.194107</td><td>15.615915</td><td>16.883575</td><td>16.150928</td><td>15.576521</td><td>16.852165</td><td>16.123869</td><td>15.551416</td><td>16.83088</td><td>16.103985</td><td>15.526708</td><td>0.059875693</td><td>0.1169903</td><td>0.16813627</td><td>0.12902981</td><td>0.13853085</td><td>0.19490738</td><td>0.27792382</td><td>0.25328895</td><td>0.23433337</td><td>0.026706915</td><td>0.030737137</td><td>0.032250408</td><td>0.024385376</td><td>0.027279248</td><td>0.028396342</td><td>0.022944821</td><td>0.025178317</td><td>0.026035432</td><td>0.021919211</td><td>0.023815803</td><td>0.024479281</td><td>0.021164637</td><td>0.022925874</td><td>0.023488088</td><td>0.020637227</td><td>0.022416865</td><td>0.023026386</td><td>0.019931491</td><td>0.021688467</td><td>0.0223265</td><td>0.019470802</td><td>0.021256117</td><td>0.021874351</td><td>0.0191177</td><td>0.020864617</td><td>0.02141062</td><td>16.820457</td><td>0.23843673</td><td>5.2173142</td><td>4.9808254</td><td>0.21180265</td><td>16.097574</td><td>0.21903545</td><td>4.4124646</td><td>4.9267426</td><td>0.34015384</td><td>15.522013</td><td>0.2143759</td><td>4.122266</td><td>4.7756157</td><td>0.5182939</td><td>0</td><td>0.0682292769643058</td><td>7.047416195846704e-11</td><td>0.14978877</td></tr>\n",
       "<tr><td>195.158041667</td><td>28.0573611111</td><td>0.0</td><td>0.0</td><td>0.0</td><td>False</td><td>south</td><td>195.15857</td><td>28.056719</td><td>0.026151</td><td>PTF-iPTF</td><td>1.0</td><td>None</td><td>None</td><td>PTF11gdh</td><td>PTF11gdh</td><td>0.0257785252168576</td><td>1.58678453290912e-06</td><td>18230.8813555241</td><td>29456.2214591503</td><td>GALAXY</td><td>--</td><td>1323268</td><td>SGA-2020 1323268</td><td>IC4040</td><td>44789</td><td>195.157917</td><td>28.057713899999996</td><td>SABc</td><td>151.5</td><td>0.7816278</td><td>0.4295364</td><td>0.025601378</td><td>23.43248</td><td>15.339</td><td>False</td><td>LEDA-20181114</td><td>485408</td><td>IC4040</td><td>1</td><td>True</td><td>195.157917</td><td>28.057713899999996</td><td>0.7816278</td><td>1951p280</td><td>195.15800138293767</td><td>28.05746305944268</td><td>1.1122644</td><td>SB26</td><td>152.11568</td><td>0.39777017</td><td>195.15788867219155</td><td>28.05747738051434</td><td>27.321802</td><td>7.998033</td><td>6.991083</td><td>5.5639873</td><td>12.4745865</td><td>14.70506</td><td>17.064476</td><td>19.549334</td><td>22.207567</td><td>24.840788</td><td>27.584122</td><td>30.38982</td><td>33.36793</td><td>15.554497</td><td>14.968708</td><td>14.456175</td><td>15.448162</td><td>14.875833</td><td>14.382545</td><td>15.368404</td><td>14.804323</td><td>14.321863</td><td>15.30881</td><td>14.749066</td><td>14.276592</td><td>15.268364</td><td>14.7118</td><td>14.244692</td><td>15.241548</td><td>14.687503</td><td>14.2239485</td><td>15.221366</td><td>14.669185</td><td>14.206894</td><td>15.206553</td><td>14.655063</td><td>14.1944065</td><td>15.196132</td><td>14.645732</td><td>14.185925</td><td>0.0512478</td><td>0.053416066</td><td>0.063428625</td><td>0.0641023</td><td>0.08592849</td><td>0.09033968</td><td>0.10772328</td><td>0.13420714</td><td>0.19604808</td><td>0.012275513</td><td>0.010283224</td><td>0.015760308</td><td>0.011310906</td><td>0.00960889</td><td>0.014794881</td><td>0.010584852</td><td>0.009075395</td><td>0.014053283</td><td>0.010071552</td><td>0.008683902</td><td>0.013503473</td><td>0.0097306315</td><td>0.00841843</td><td>0.013128719</td><td>0.009508025</td><td>0.008245182</td><td>0.012888706</td><td>0.009340516</td><td>0.0081101665</td><td>0.012701549</td><td>0.009220598</td><td>0.008011853</td><td>0.012560821</td><td>0.009135913</td><td>0.007946813</td><td>0.012466515</td><td>15.164971</td><td>0.3024232</td><td>5.3686337</td><td>3.2285428</td><td>0.038957387</td><td>14.619808</td><td>0.2234943</td><td>8.110431</td><td>3.461577</td><td>0.08914819</td><td>14.160855</td><td>0.1818492</td><td>8.603249</td><td>3.3606367</td><td>0.040127665</td><td>0</td><td>0.0257782941806278</td><td>2.5416596705510908e-12</td><td>0.123146996</td></tr>\n",
       "</table></div>"
      ],
      "text/plain": [
       "<Table length=10>\n",
       "       ra              dec          pmra  ...       ZERR_DESI           cosi2   \n",
       "    float64          float64      float64 ...        float64           float32  \n",
       "---------------- ---------------- ------- ... ---------------------- -----------\n",
       "   183.547166667  -0.831583333333     0.0 ... 1.1699988795781378e-11  0.31054628\n",
       "   242.480916667    43.1291944444     0.0 ... 1.9179622929413818e-10 0.026475655\n",
       " 251.80698752266 33.3056294617536     0.0 ... 1.3942302618162255e-11  0.07717051\n",
       "210.016880535361 5.69166319290208     0.0 ...  1.250079855300109e-10  0.25962535\n",
       "      216.968375    33.5691388889     0.0 ... 2.7774639905009656e-11  0.11723342\n",
       "       251.73645         34.15563     0.0 ...  1.335914321983365e-10  0.27773616\n",
       "   216.908041667    2.98177777778     0.0 ...  6.579008334317277e-11  0.31429812\n",
       "192.140673050189 62.4609676848115     0.0 ...  3.768007553368982e-10  0.11030859\n",
       "194.570134952076 27.7297067037566     0.0 ...  7.047416195846704e-11  0.14978877\n",
       "   195.158041667    28.0573611111     0.0 ... 2.5416596705510908e-12 0.123146996"
      ]
     },
     "execution_count": 25,
     "metadata": {},
     "output_type": "execute_result"
    }
   ],
   "source": [
    "SGA_idx = []\n",
    "\n",
    "for SGA_id in np.unique(good_edge_spirals_axis_dist['SGA_ID']):\n",
    "    \n",
    "    SGA_idx.append(MostHosts_dict[SGA_id])\n",
    "\n",
    "MostHosts[SGA_idx]"
   ]
  },
  {
   "cell_type": "markdown",
   "id": "c0f81c7a-78db-4a2b-ae49-68e23488fb91",
   "metadata": {
    "tags": []
   },
   "source": [
    "## Visual inspection cut\n",
    "\n",
    "This removes any observations that are contaminated by foreground stars or other galaxies."
   ]
  },
  {
   "cell_type": "code",
   "execution_count": 27,
   "id": "f2e54479-c5dc-4cf5-ad6e-fa8f6ad99b40",
   "metadata": {},
   "outputs": [
    {
     "name": "stdout",
     "output_type": "stream",
     "text": [
      "294387\n",
      "cache/coma_39627769688098202.jpg exists.\n",
      "464075\n",
      "cache/coma_39633136518171050.jpg exists.\n",
      "498526\n",
      "Get https://www.legacysurvey.org/viewer/cutout.jpg?ra=251.80703132713052&dec=33.30563323853665&zoom=14&layer=ls-dr9&size=149&sga\n",
      "838601\n",
      "Get https://www.legacysurvey.org/viewer/cutout.jpg?ra=210.01689177868673&dec=5.6916337312184515&zoom=14&layer=ls-dr9&size=128&sga\n",
      "899217\n",
      "Get https://www.legacysurvey.org/viewer/cutout.jpg?ra=216.96839478930545&dec=33.56912929994496&zoom=14&layer=ls-dr9&size=166&sga\n",
      "1138461\n",
      "Get https://www.legacysurvey.org/viewer/cutout.jpg?ra=251.73652693782557&dec=34.15554457563294&zoom=14&layer=ls-dr9&size=416&sga\n",
      "1194958\n",
      "cache/coma_39627860842909006.jpg exists.\n",
      "1202638\n",
      "Get https://www.legacysurvey.org/viewer/cutout.jpg?ra=192.1406740387097&dec=62.46093752527029&zoom=14&layer=ls-dr9&size=187&sga\n",
      "1264056\n",
      "Get https://www.legacysurvey.org/viewer/cutout.jpg?ra=194.57015374237844&dec=27.729698128842283&zoom=14&layer=ls-dr9&size=192&sga\n",
      "1323268\n",
      "cache/coma_39628438620868323.jpg exists.\n"
     ]
    }
   ],
   "source": [
    "for sga_id in np.unique(good_edge_spirals_axis_dist['SGA_ID']):\n",
    "    \n",
    "    print(sga_id)\n",
    "    \n",
    "    tf_list = good_edge_spirals_axis_dist[good_edge_spirals_axis_dist['SGA_ID'] == sga_id]\n",
    "    center_list = centers_dist[centers_dist['SGA_ID'] == sga_id]\n",
    "    \n",
    "    try:\n",
    "        targetid = int(center_list['TARGETID'][0])\n",
    "    except TypeError as err:\n",
    "        print(err)\n",
    "        # print(sga_galaxy['TARGETID'])\n",
    "        continue\n",
    "    \n",
    "    ra, dec, z = float(MostHosts['RA'][MostHosts_dict[sga_id]]), float(MostHosts['DEC'][MostHosts_dict[sga_id]]), float(MostHosts['Z_DESI'][MostHosts_dict[sga_id]])\n",
    "    \n",
    "    # D26 in arcmin\n",
    "    d26 = MostHosts['D26'][MostHosts_dict[sga_id]]\n",
    "    \n",
    "    # Padd the image cutout of the galaxy.\n",
    "    # Multiply by 60 (to arcsec), divide by 180 to get pixscale.\n",
    "#     pixscale = 1.05*d26*60/180\n",
    "    npix = np.minimum(int(1.025 * d26*60/0.262), 512)\n",
    "    \n",
    "    #print(targetid, sga_id, ra, dec)\n",
    "#     img_file = get_cutout(targetid, ra, dec, size=npix, verbose=True)\n",
    "    img_file, wcs = get_cutout(targetid, ra, dec, size=npix, verbose=True)\n",
    "    img = mpl.image.imread(img_file)\n",
    "\n",
    "    fig1 = plt.figure(figsize=(7,5))\n",
    "\n",
    "    ax = fig1.add_subplot(111, projection=wcs)\n",
    "    ax.imshow(np.flip(img, axis=0))\n",
    "    ax.set(xlabel='ra', ylabel='dec')\n",
    "    ax.text(int(0.02*npix), int(0.85*npix), 'TARGETID: {}\\nSGA_ID: {}\\n$z={{{:.4f}}}$'.format(targetid, sga_id, z), fontsize=9, color='yellow')\n",
    "    overlay = ax.get_coords_overlay('icrs')\n",
    "    overlay.grid(color='white', ls='dotted');\n",
    "\n",
    "    # Add the location of the DESI fibers.\n",
    "    # SDSS fibers are 2\" diameter, DESI is 107 um with 70 um/\" plate scale.\n",
    "    r1 = SphericalCircle((ra * u.deg, dec * u.deg), (107./70) * u.arcsec,\n",
    "                         edgecolor='black', facecolor='none', alpha=0.8, lw=3,\n",
    "                         transform=ax.get_transform('icrs'))\n",
    "    r2 = SphericalCircle((ra * u.deg, dec * u.deg), (107./70) * u.arcsec,\n",
    "                         edgecolor='red', facecolor='none', alpha=0.8, lw=2,\n",
    "                         transform=ax.get_transform('icrs'))\n",
    "    ax.add_patch(r1)\n",
    "    ax.add_patch(r2)\n",
    "\n",
    "    for tft in tf_list:\n",
    "        ra, dec = tft['RA'], tft['DEC']\n",
    "        \n",
    "        edgecolor2 = 'orange'\n",
    "#         if tft['Z'] > 0.05:\n",
    "#             edgecolor2 = 'orange'\n",
    "#         else:\n",
    "#             edgecolor2 = 'lime'\n",
    "        \n",
    "        # Add the location of the DESI fibers.\n",
    "        # SDSS fibers are 2\" diameter, DESI is 107 um with 70 um/\" plate scale.\n",
    "        r1 = SphericalCircle((ra * u.deg, dec * u.deg), (107./70) * u.arcsec,\n",
    "                             edgecolor='lightcoral', facecolor='none', alpha=1, lw=3,\n",
    "                             transform=ax.get_transform('icrs'))\n",
    "        r2 = SphericalCircle((ra * u.deg, dec * u.deg), (107./70) * u.arcsec,\n",
    "                             edgecolor=edgecolor2, facecolor='none', alpha=0.8, lw=2,\n",
    "                             transform=ax.get_transform('icrs'))\n",
    "        ax.add_patch(r1)\n",
    "        ax.add_patch(r2)\n",
    "        \n",
    "        ax.text(ra, dec, str(tft['TARGETID']), transform=ax.get_transform('icrs'), color='white')\n",
    "    \n",
    "    fig1.subplots_adjust(top=0.85, right=0.85, bottom=0.15, left=0.15)\n",
    "    \n",
    "    fig1.savefig('cache/fuji_VI_cutouts/dist_{}.png'.format(sga_id), dpi=120)\n",
    "    \n",
    "    fig1.clear()\n",
    "    plt.close(fig1)\n",
    "    '''\n",
    "    #----------------------------------------------------------------------------------\n",
    "    # Get spectra\n",
    "    #----------------------------------------------------------------------------------\n",
    "    coadds = get_spectra_for_sga(good_edge_spirals_axis_inComa, sga_id)\n",
    "    n = coadds.num_spectra()\n",
    "\n",
    "    fig2, axes = plt.subplots(n,1, figsize=(8,4*n), sharex=True, sharey=True, tight_layout=True)\n",
    "\n",
    "    for i in range(n):\n",
    "        wave = coadds.wave['brz']\n",
    "        flux = coadds.flux['brz'][i]\n",
    "        smoothed = gaussian_filter1d(flux, 7)\n",
    "\n",
    "        ax = axes[i]\n",
    "        ax.plot(wave, smoothed, label='TARGETID: {}'.format(coadds.fibermap['TARGETID'][i]))\n",
    "        ax.set(ylabel=r'flux [$10^{-17}$ erg cm$^{-2}$ s$^{-1}$ $\\AA^{-1}$]')\n",
    "        if i+1 == n:\n",
    "            ax.set(xlabel=r'$\\lambda_\\mathrm{obs}$ [$\\AA$]')\n",
    "\n",
    "        ax.legend(loc='upper right', fontsize=10)\n",
    "    \n",
    "    # figure = PdfPages('cache/DM_cutouts/dist_{}.pdf'.format(sga_id))\n",
    "    # figure.savefig(fig1, dpi = 300)\n",
    "    # figure.savefig(fig2, dpi = 120)\n",
    "    # figure.close()\n",
    "    '''\n",
    "    # break"
   ]
  },
  {
   "cell_type": "markdown",
   "id": "69b2b01d-8fd9-4920-9cbb-77f28d6dcb46",
   "metadata": {},
   "source": [
    "No targets need to be removed - all objects and their observations pass VI."
   ]
  },
  {
   "cell_type": "markdown",
   "id": "d4470944-a94f-4752-ae11-6e5300f84a31",
   "metadata": {},
   "source": [
    "# Zero-point calibration"
   ]
  },
  {
   "cell_type": "markdown",
   "id": "0abd2208-a2e0-4ec2-81c1-76783d773919",
   "metadata": {},
   "source": [
    "## Compute the weighted average velocity for those galaxies with more than one observation at $0.33R_{26}$:\n",
    "\n",
    "\\begin{equation}\n",
    "  \\bar{v} = \\frac{\\sum_i w_i v_i}{\\sum_i w_i}\n",
    "\\end{equation}\n",
    "where $w_i = 1/\\sigma^2$."
   ]
  },
  {
   "cell_type": "code",
   "execution_count": 29,
   "id": "85730a6b-dd5e-4df5-9fdd-5d9ab5297b51",
   "metadata": {},
   "outputs": [],
   "source": [
    "MostHosts['V_0p33R26'] = np.nan\n",
    "MostHosts['V_0p33R26_err'] = np.nan\n",
    "\n",
    "good_edge_spirals_axis_dist['R_MAG_SB26'] = np.nan\n",
    "good_edge_spirals_axis_dist['R_MAG_SB26_ERR'] = np.nan\n",
    "\n",
    "weights = 1./(good_edge_spirals_axis_dist['V_ROT_ERR']**2)\n",
    "\n",
    "for sga_id in np.unique(good_edge_spirals_axis_dist['SGA_ID']):\n",
    "    \n",
    "    # Identify all galaxy targets on this galaxy\n",
    "    obs_idx = good_edge_spirals_axis_dist['SGA_ID'] == sga_id\n",
    "    \n",
    "    MostHosts['V_0p33R26'][MostHosts_dict[sga_id]] = np.average(np.abs(good_edge_spirals_axis_dist['V_ROT'][obs_idx]), \n",
    "                                                    weights=weights[obs_idx])\n",
    "\n",
    "    MostHosts['V_0p33R26_err'][MostHosts_dict[sga_id]] = np.sqrt(1./np.sum(weights[obs_idx]))"
   ]
  },
  {
   "cell_type": "code",
   "execution_count": 30,
   "id": "e7e593dd-fd39-405e-b16c-7fe2e45aed03",
   "metadata": {},
   "outputs": [],
   "source": [
    "# Make a catalog of just those galaxies with velocities\n",
    "MostHosts_0pt = MostHosts[np.isfinite(MostHosts['V_0p33R26']) & (MostHosts['R_MAG_SB26'] > 0)]"
   ]
  },
  {
   "cell_type": "code",
   "execution_count": 31,
   "id": "b9f6ddd6-7c1c-464a-9388-ae2dd27b2afc",
   "metadata": {},
   "outputs": [
    {
     "data": {
      "image/png": "[encoded data removed]",
      "text/plain": [
       "<Figure size 432x288 with 1 Axes>"
      ]
     },
     "metadata": {
      "needs_background": "light"
     },
     "output_type": "display_data"
    }
   ],
   "source": [
    "#plt.figure(figsize=(9,5), tight_layout=True)\n",
    "plt.figure(tight_layout=True)\n",
    "\n",
    "\n",
    "#plt.subplot(121)\n",
    "plt.errorbar(np.log10(MostHosts_0pt['V_0p33R26']), \n",
    "             MostHosts_0pt['R_MAG_SB26'], \n",
    "             xerr=0.434*MostHosts_0pt['V_0p33R26_err']/MostHosts_0pt['V_0p33R26'],\n",
    "             yerr=MostHosts_0pt['R_MAG_SB26_ERR'], \n",
    "             fmt='.')\n",
    "\n",
    "plt.xlim([0, 3])\n",
    "plt.ylim([18.5, 13])\n",
    "\n",
    "plt.xlabel('log($V_{rot}$ [km/s])')\n",
    "plt.ylabel('$m_r (26)$')\n",
    "\n",
    "'''\n",
    "plt.subplot(122)\n",
    "plt.errorbar(np.log10(good_edge_spirals_axis_dist['V_ROT']), \n",
    "             good_edge_spirals_axis_dist['R_MAG_SB26'], \n",
    "             xerr=0.434*good_edge_spirals_axis_dist['V_ROT_ERR']/good_edge_spirals_axis_dist['V_ROT'],\n",
    "             yerr=good_edge_spirals_axis_dist['R_MAG_SB26_ERR'], \n",
    "             fmt='.')\n",
    "\n",
    "plt.xlim([0, 3])\n",
    "plt.ylim([18.5, 13])\n",
    "\n",
    "plt.xlabel('log($V_{rot}$ [km/s])')\n",
    "plt.ylabel('$m_r (26)$')\n",
    "''';"
   ]
  },
  {
   "cell_type": "markdown",
   "id": "9606affe-36bc-464a-bc18-d0db32de4861",
   "metadata": {},
   "source": [
    "## Compute the absolute magnitudes based on the distance measurements\n",
    "\n",
    "\\begin{equation}\n",
    "  M_r - 5\\log h = m_r - \\mu - 5\\log h\n",
    "\\end{equation}\n",
    "where $h$ is the reduced Hubble constant used to calibrate the distance modulus, $\\mu$.\n",
    "\n",
    "Both of our galaxies have distance moduli from Stahl et al. (2021), which *appears* to use $h = 1$.  Therefore, the distance moduli we have to use are $\\mu_h = \\mu - 5\\log h$."
   ]
  },
  {
   "cell_type": "code",
   "execution_count": 32,
   "id": "9b9ca536-8890-4305-8d5e-526beddcd3d9",
   "metadata": {},
   "outputs": [
    {
     "data": {
      "text/html": [
       "<div><i>Table length=10</i>\n",
       "<table id=\"table23453684908144\" class=\"table-striped table-bordered table-condensed\">\n",
       "<thead><tr><th>ra</th><th>dec</th><th>pmra</th><th>pmdec</th><th>ref_epoch</th><th>override</th><th>hemisphere</th><th>sn_ra</th><th>sn_dec</th><th>sn_z</th><th>program</th><th>priority</th><th>tns_name</th><th>iau_name</th><th>ptfiptf_name</th><th>spname</th><th>z</th><th>zerr</th><th>chi2</th><th>deltachi2</th><th>spectype</th><th>subtype</th><th>SGA_ID</th><th>SGA_GALAXY</th><th>GALAXY</th><th>PGC</th><th>RA_LEDA</th><th>DEC_LEDA</th><th>MORPHTYPE</th><th>PA_LEDA</th><th>D25_LEDA</th><th>BA_LEDA</th><th>Z_LEDA</th><th>SB_D25_LEDA</th><th>MAG_LEDA</th><th>BYHAND</th><th>REF</th><th>GROUP_ID</th><th>GROUP_NAME</th><th>GROUP_MULT</th><th>GROUP_PRIMARY</th><th>GROUP_RA</th><th>GROUP_DEC</th><th>GROUP_DIAMETER</th><th>BRICKNAME</th><th>RA</th><th>DEC</th><th>D26</th><th>D26_REF</th><th>PA</th><th>BA</th><th>RA_MOMENT</th><th>DEC_MOMENT</th><th>SMA_MOMENT</th><th>G_SMA50</th><th>R_SMA50</th><th>Z_SMA50</th><th>SMA_SB22</th><th>SMA_SB22.5</th><th>SMA_SB23</th><th>SMA_SB23.5</th><th>SMA_SB24</th><th>SMA_SB24.5</th><th>SMA_SB25</th><th>SMA_SB25.5</th><th>SMA_SB26</th><th>G_MAG_SB22</th><th>R_MAG_SB22</th><th>Z_MAG_SB22</th><th>G_MAG_SB22.5</th><th>R_MAG_SB22.5</th><th>Z_MAG_SB22.5</th><th>G_MAG_SB23</th><th>R_MAG_SB23</th><th>Z_MAG_SB23</th><th>G_MAG_SB23.5</th><th>R_MAG_SB23.5</th><th>Z_MAG_SB23.5</th><th>G_MAG_SB24</th><th>R_MAG_SB24</th><th>Z_MAG_SB24</th><th>G_MAG_SB24.5</th><th>R_MAG_SB24.5</th><th>Z_MAG_SB24.5</th><th>G_MAG_SB25</th><th>R_MAG_SB25</th><th>Z_MAG_SB25</th><th>G_MAG_SB25.5</th><th>R_MAG_SB25.5</th><th>Z_MAG_SB25.5</th><th>G_MAG_SB26</th><th>R_MAG_SB26</th><th>Z_MAG_SB26</th><th>SMA_SB22_ERR</th><th>SMA_SB22.5_ERR</th><th>SMA_SB23_ERR</th><th>SMA_SB23.5_ERR</th><th>SMA_SB24_ERR</th><th>SMA_SB24.5_ERR</th><th>SMA_SB25_ERR</th><th>SMA_SB25.5_ERR</th><th>SMA_SB26_ERR</th><th>G_MAG_SB22_ERR</th><th>R_MAG_SB22_ERR</th><th>Z_MAG_SB22_ERR</th><th>G_MAG_SB22.5_ERR</th><th>R_MAG_SB22.5_ERR</th><th>Z_MAG_SB22.5_ERR</th><th>G_MAG_SB23_ERR</th><th>R_MAG_SB23_ERR</th><th>Z_MAG_SB23_ERR</th><th>G_MAG_SB23.5_ERR</th><th>R_MAG_SB23.5_ERR</th><th>Z_MAG_SB23.5_ERR</th><th>G_MAG_SB24_ERR</th><th>R_MAG_SB24_ERR</th><th>Z_MAG_SB24_ERR</th><th>G_MAG_SB24.5_ERR</th><th>R_MAG_SB24.5_ERR</th><th>Z_MAG_SB24.5_ERR</th><th>G_MAG_SB25_ERR</th><th>R_MAG_SB25_ERR</th><th>Z_MAG_SB25_ERR</th><th>G_MAG_SB25.5_ERR</th><th>R_MAG_SB25.5_ERR</th><th>Z_MAG_SB25.5_ERR</th><th>G_MAG_SB26_ERR</th><th>R_MAG_SB26_ERR</th><th>Z_MAG_SB26_ERR</th><th>G_COG_PARAMS_MTOT</th><th>G_COG_PARAMS_M0</th><th>G_COG_PARAMS_ALPHA1</th><th>G_COG_PARAMS_ALPHA2</th><th>G_COG_PARAMS_CHI2</th><th>R_COG_PARAMS_MTOT</th><th>R_COG_PARAMS_M0</th><th>R_COG_PARAMS_ALPHA1</th><th>R_COG_PARAMS_ALPHA2</th><th>R_COG_PARAMS_CHI2</th><th>Z_COG_PARAMS_MTOT</th><th>Z_COG_PARAMS_M0</th><th>Z_COG_PARAMS_ALPHA1</th><th>Z_COG_PARAMS_ALPHA2</th><th>Z_COG_PARAMS_CHI2</th><th>ELLIPSEBIT</th><th>Z_DESI</th><th>ZERR_DESI</th><th>cosi2</th><th>V_0p33R26</th><th>V_0p33R26_err</th></tr></thead>\n",
       "<thead><tr><th>float64</th><th>float64</th><th>float64</th><th>float64</th><th>float64</th><th>bool</th><th>bytes7</th><th>float64</th><th>float64</th><th>float64</th><th>bytes33</th><th>float64</th><th>bytes10</th><th>bytes15</th><th>bytes9</th><th>bytes15</th><th>float64</th><th>float64</th><th>float64</th><th>float64</th><th>bytes6</th><th>bytes3</th><th>int64</th><th>bytes16</th><th>bytes29</th><th>int64</th><th>float64</th><th>float64</th><th>bytes21</th><th>float32</th><th>float32</th><th>float32</th><th>float32</th><th>float32</th><th>float32</th><th>bool</th><th>bytes13</th><th>int64</th><th>bytes35</th><th>int16</th><th>bool</th><th>float64</th><th>float64</th><th>float32</th><th>bytes8</th><th>float64</th><th>float64</th><th>float32</th><th>bytes4</th><th>float32</th><th>float32</th><th>float64</th><th>float64</th><th>float32</th><th>float32</th><th>float32</th><th>float32</th><th>float32</th><th>float32</th><th>float32</th><th>float32</th><th>float32</th><th>float32</th><th>float32</th><th>float32</th><th>float32</th><th>float32</th><th>float32</th><th>float32</th><th>float32</th><th>float32</th><th>float32</th><th>float32</th><th>float32</th><th>float32</th><th>float32</th><th>float32</th><th>float32</th><th>float32</th><th>float32</th><th>float32</th><th>float32</th><th>float32</th><th>float32</th><th>float32</th><th>float32</th><th>float32</th><th>float32</th><th>float32</th><th>float32</th><th>float32</th><th>float32</th><th>float32</th><th>float32</th><th>float32</th><th>float32</th><th>float32</th><th>float32</th><th>float32</th><th>float32</th><th>float32</th><th>float32</th><th>float32</th><th>float32</th><th>float32</th><th>float32</th><th>float32</th><th>float32</th><th>float32</th><th>float32</th><th>float32</th><th>float32</th><th>float32</th><th>float32</th><th>float32</th><th>float32</th><th>float32</th><th>float32</th><th>float32</th><th>float32</th><th>float32</th><th>float32</th><th>float32</th><th>float32</th><th>float32</th><th>float32</th><th>float32</th><th>float32</th><th>float32</th><th>float32</th><th>float32</th><th>float32</th><th>float32</th><th>float32</th><th>float32</th><th>float32</th><th>float32</th><th>float32</th><th>float32</th><th>float32</th><th>float32</th><th>float32</th><th>float32</th><th>float32</th><th>int32</th><th>float64</th><th>float64</th><th>float32</th><th>float64</th><th>float64</th></tr></thead>\n",
       "<tr><td>251.73645</td><td>34.15563</td><td>0.0</td><td>0.0</td><td>0.0</td><td>False</td><td>north</td><td>251.730659</td><td>34.159641</td><td>0.032</td><td>PTF-iPTF</td><td>1.0</td><td>None</td><td>None</td><td>PTF10fjh</td><td>PTF10fjh</td><td>0.0309737347126009</td><td>1.13027367192999e-05</td><td>12708.6511657638</td><td>12315.990562209</td><td>GALAXY</td><td>--</td><td>1138461</td><td>SGA-2020 1138461</td><td>UGC10547</td><td>58970</td><td>251.73642900000004</td><td>34.155602200000004</td><td>SBb</td><td>2.08</td><td>1.1455129</td><td>0.50699073</td><td>0.03099611</td><td>23.555481</td><td>14.632</td><td>False</td><td>LEDA-20181114</td><td>417254</td><td>UGC10547</td><td>1</td><td>True</td><td>251.73642900000004</td><td>34.155602200000004</td><td>1.1455129</td><td>2516p342</td><td>251.73652693782557</td><td>34.15554457563294</td><td>1.7752005</td><td>SB26</td><td>178.00592</td><td>0.55373883</td><td>251.73650403434192</td><td>34.155613254891996</td><td>43.284367</td><td>17.368584</td><td>15.895314</td><td>12.088289</td><td>19.22189</td><td>24.36519</td><td>29.430279</td><td>34.168724</td><td>38.552975</td><td>42.464634</td><td>46.175175</td><td>49.611546</td><td>53.256016</td><td>14.805815</td><td>13.983135</td><td>13.432052</td><td>14.578265</td><td>13.777991</td><td>13.260914</td><td>14.4313345</td><td>13.646606</td><td>13.159927</td><td>14.337605</td><td>13.563544</td><td>13.102898</td><td>14.278015</td><td>13.51029</td><td>13.071266</td><td>14.241558</td><td>13.478107</td><td>13.054829</td><td>14.218214</td><td>13.458385</td><td>13.048243</td><td>14.203916</td><td>13.446303</td><td>13.04635</td><td>14.193975</td><td>13.437465</td><td>13.045908</td><td>0.06470237</td><td>0.085675746</td><td>0.10083657</td><td>0.090465106</td><td>0.10635377</td><td>0.10833114</td><td>0.11415232</td><td>0.12686591</td><td>0.1361512</td><td>0.0049782177</td><td>0.005856107</td><td>0.010535997</td><td>0.0043600257</td><td>0.0050943373</td><td>0.009129013</td><td>0.00394518</td><td>0.004611663</td><td>0.008368367</td><td>0.0036970447</td><td>0.0043238606</td><td>0.007963957</td><td>0.0035450275</td><td>0.0041487506</td><td>0.007749548</td><td>0.0034471594</td><td>0.0040367963</td><td>0.00763555</td><td>0.0033830847</td><td>0.00396966</td><td>0.007591471</td><td>0.003344229</td><td>0.003931508</td><td>0.0075815273</td><td>0.0033158597</td><td>0.0039009904</td><td>0.00757978</td><td>14.154658</td><td>0.25679865</td><td>181.65276</td><td>4.2137804</td><td>1.3816159</td><td>13.404409</td><td>0.22813159</td><td>188.96957</td><td>4.273153</td><td>1.0042837</td><td>13.037012</td><td>0.13402647</td><td>834.2543</td><td>5.879532</td><td>0.6838176</td><td>0</td><td>0.0309753413797046</td><td>1.335914321983365e-10</td><td>0.27773616</td><td>284.21450067885223</td><td>2.976927422412009</td></tr>\n",
       "<tr><td>195.158041667</td><td>28.0573611111</td><td>0.0</td><td>0.0</td><td>0.0</td><td>False</td><td>south</td><td>195.15857</td><td>28.056719</td><td>0.026151</td><td>PTF-iPTF</td><td>1.0</td><td>None</td><td>None</td><td>PTF11gdh</td><td>PTF11gdh</td><td>0.0257785252168576</td><td>1.58678453290912e-06</td><td>18230.8813555241</td><td>29456.2214591503</td><td>GALAXY</td><td>--</td><td>1323268</td><td>SGA-2020 1323268</td><td>IC4040</td><td>44789</td><td>195.157917</td><td>28.057713899999996</td><td>SABc</td><td>151.5</td><td>0.7816278</td><td>0.4295364</td><td>0.025601378</td><td>23.43248</td><td>15.339</td><td>False</td><td>LEDA-20181114</td><td>485408</td><td>IC4040</td><td>1</td><td>True</td><td>195.157917</td><td>28.057713899999996</td><td>0.7816278</td><td>1951p280</td><td>195.15800138293767</td><td>28.05746305944268</td><td>1.1122644</td><td>SB26</td><td>152.11568</td><td>0.39777017</td><td>195.15788867219155</td><td>28.05747738051434</td><td>27.321802</td><td>7.998033</td><td>6.991083</td><td>5.5639873</td><td>12.4745865</td><td>14.70506</td><td>17.064476</td><td>19.549334</td><td>22.207567</td><td>24.840788</td><td>27.584122</td><td>30.38982</td><td>33.36793</td><td>15.554497</td><td>14.968708</td><td>14.456175</td><td>15.448162</td><td>14.875833</td><td>14.382545</td><td>15.368404</td><td>14.804323</td><td>14.321863</td><td>15.30881</td><td>14.749066</td><td>14.276592</td><td>15.268364</td><td>14.7118</td><td>14.244692</td><td>15.241548</td><td>14.687503</td><td>14.2239485</td><td>15.221366</td><td>14.669185</td><td>14.206894</td><td>15.206553</td><td>14.655063</td><td>14.1944065</td><td>15.196132</td><td>14.645732</td><td>14.185925</td><td>0.0512478</td><td>0.053416066</td><td>0.063428625</td><td>0.0641023</td><td>0.08592849</td><td>0.09033968</td><td>0.10772328</td><td>0.13420714</td><td>0.19604808</td><td>0.012275513</td><td>0.010283224</td><td>0.015760308</td><td>0.011310906</td><td>0.00960889</td><td>0.014794881</td><td>0.010584852</td><td>0.009075395</td><td>0.014053283</td><td>0.010071552</td><td>0.008683902</td><td>0.013503473</td><td>0.0097306315</td><td>0.00841843</td><td>0.013128719</td><td>0.009508025</td><td>0.008245182</td><td>0.012888706</td><td>0.009340516</td><td>0.0081101665</td><td>0.012701549</td><td>0.009220598</td><td>0.008011853</td><td>0.012560821</td><td>0.009135913</td><td>0.007946813</td><td>0.012466515</td><td>15.164971</td><td>0.3024232</td><td>5.3686337</td><td>3.2285428</td><td>0.038957387</td><td>14.619808</td><td>0.2234943</td><td>8.110431</td><td>3.461577</td><td>0.08914819</td><td>14.160855</td><td>0.1818492</td><td>8.603249</td><td>3.3606367</td><td>0.040127665</td><td>0</td><td>0.0257782941806278</td><td>2.5416596705510908e-12</td><td>0.123146996</td><td>133.76645509066984</td><td>0.27183926879219095</td></tr>\n",
       "<tr><td>251.80698752266</td><td>33.3056294617536</td><td>0.0</td><td>0.0</td><td>0.0</td><td>False</td><td>north</td><td>251.807599</td><td>33.305703</td><td>0.0529</td><td>PTF-iPTF</td><td>1.0</td><td>None</td><td>None</td><td>PTF12csi</td><td>PTF12csi</td><td>0.0529430019074559</td><td>3.73643729845768e-06</td><td>10463.0092664063</td><td>7373.40410158038</td><td>GALAXY</td><td>--</td><td>498526</td><td>SGA-2020 498526</td><td>PGC2028984</td><td>2028984</td><td>251.8070655</td><td>33.3056091</td><td>Sc</td><td>80.39</td><td>0.386367</td><td>0.56234133</td><td>0.05288125</td><td>24.13348</td><td>17.57</td><td>False</td><td>LEDA-20181114</td><td>180256</td><td>2MASXJ16471244+3318208_GROUP</td><td>2</td><td>False</td><td>251.8044229316898</td><td>33.30566616980718</td><td>0.53747547</td><td>2517p332</td><td>251.80703132713052</td><td>33.30563323853665</td><td>0.635832</td><td>SB26</td><td>80.332954</td><td>0.33776277</td><td>251.8068795810851</td><td>33.30568755623088</td><td>10.730324</td><td>7.0014644</td><td>6.2401958</td><td>5.4940696</td><td>7.7525964</td><td>9.851342</td><td>11.394512</td><td>12.546472</td><td>13.769736</td><td>14.768166</td><td>16.139708</td><td>17.590542</td><td>19.07496</td><td>17.492168</td><td>16.653856</td><td>16.06302</td><td>17.228155</td><td>16.417072</td><td>15.850836</td><td>17.087223</td><td>16.293022</td><td>15.743135</td><td>17.004229</td><td>16.226748</td><td>15.694435</td><td>16.93386</td><td>16.181812</td><td>15.664262</td><td>16.90953</td><td>16.170158</td><td>15.654974</td><td>16.88256</td><td>16.151833</td><td>15.6455</td><td>16.867582</td><td>16.139217</td><td>15.637607</td><td>16.85735</td><td>16.131464</td><td>15.636298</td><td>0.13767906</td><td>0.1410938</td><td>0.17364936</td><td>0.11711637</td><td>0.09912541</td><td>0.15933049</td><td>0.17624205</td><td>0.21144055</td><td>0.19832845</td><td>0.04488882</td><td>0.051961508</td><td>0.057196543</td><td>0.04051016</td><td>0.046305146</td><td>0.050951097</td><td>0.038013253</td><td>0.043290406</td><td>0.047728915</td><td>0.036425732</td><td>0.041571088</td><td>0.04619224</td><td>0.035055455</td><td>0.040363733</td><td>0.04520853</td><td>0.034471966</td><td>0.039981686</td><td>0.044867422</td><td>0.033781417</td><td>0.039375078</td><td>0.04453739</td><td>0.033356197</td><td>0.038944595</td><td>0.04423723</td><td>0.03306813</td><td>0.03867756</td><td>0.04416264</td><td>16.852032</td><td>0.1283564</td><td>15.891713</td><td>8.681122</td><td>0.058700107</td><td>16.129335</td><td>0.13414891</td><td>6.6101456</td><td>7.883656</td><td>0.04964748</td><td>15.635335</td><td>0.10627013</td><td>5.6981745</td><td>8.917332</td><td>0.0084935995</td><td>0</td><td>0.0529441260673914</td><td>1.3942302618162255e-11</td><td>0.07717051</td><td>147.527170302467</td><td>1.027668734669824</td></tr>\n",
       "<tr><td>242.480916667</td><td>43.1291944444</td><td>0.0</td><td>0.0</td><td>0.0</td><td>False</td><td>north</td><td>242.4852</td><td>43.1266</td><td>-9999.0</td><td>historical_SNIa</td><td>1.0</td><td>None</td><td>None</td><td>None</td><td>SN2006cc</td><td>0.0328274916033773</td><td>1.39881467177673e-05</td><td>12959.2629232164</td><td>5196.23148585373</td><td>GALAXY</td><td>--</td><td>464075</td><td>SGA-2020 464075</td><td>UGC10244</td><td>57341</td><td>242.48108100000002</td><td>43.1290549</td><td>Sbc</td><td>128.96</td><td>1.0423175</td><td>0.3019952</td><td>0.03288008</td><td>24.129482</td><td>15.411</td><td>False</td><td>LEDA-20181114</td><td>169351</td><td>UGC10244</td><td>1</td><td>True</td><td>242.48108100000002</td><td>43.1290549</td><td>1.0423175</td><td>2424p432</td><td>242.48098745213719</td><td>43.12912634553939</td><td>1.8803749</td><td>SB26</td><td>128.77156</td><td>0.25576675</td><td>242.48074521025828</td><td>43.12920524001464</td><td>33.333332</td><td>13.762432</td><td>13.33429</td><td>6.869408</td><td>20.062359</td><td>23.480825</td><td>26.841143</td><td>30.275038</td><td>34.482098</td><td>39.361794</td><td>44.571243</td><td>50.888767</td><td>56.411247</td><td>15.378283</td><td>14.3577795</td><td>13.665737</td><td>15.277042</td><td>14.263303</td><td>13.620374</td><td>15.212705</td><td>14.207908</td><td>13.586886</td><td>15.177601</td><td>14.170899</td><td>13.565661</td><td>15.144904</td><td>14.135565</td><td>13.546063</td><td>15.118075</td><td>14.108305</td><td>13.528171</td><td>15.095903</td><td>14.08959</td><td>13.514712</td><td>15.077272</td><td>14.071617</td><td>13.503589</td><td>15.064306</td><td>14.061757</td><td>13.50056</td><td>0.14993039</td><td>0.18158807</td><td>0.18825479</td><td>0.22639686</td><td>0.24359083</td><td>0.24287476</td><td>0.23499858</td><td>0.34557027</td><td>0.32119325</td><td>0.023190737</td><td>0.020619955</td><td>0.02711046</td><td>0.021607935</td><td>0.019364513</td><td>0.026131935</td><td>0.020621898</td><td>0.018606326</td><td>0.02540204</td><td>0.020023214</td><td>0.018049074</td><td>0.024948375</td><td>0.019484583</td><td>0.017537842</td><td>0.024526162</td><td>0.019048229</td><td>0.017155945</td><td>0.024136491</td><td>0.018682567</td><td>0.016877254</td><td>0.023848789</td><td>0.018375177</td><td>0.016610518</td><td>0.023612779</td><td>0.01815413</td><td>0.016440732</td><td>0.023553774</td><td>15.02493</td><td>18027.455</td><td>7.982429e-05</td><td>2.0297074</td><td>0.24238399</td><td>14.017664</td><td>12811.115</td><td>0.00010316957</td><td>1.9570801</td><td>0.056902446</td><td>13.471971</td><td>0.36119577</td><td>3.1486363</td><td>2.1401784</td><td>0.019810589</td><td>0</td><td>0.0328314118206002</td><td>1.9179622929413818e-10</td><td>0.026475655</td><td>252.31411525556464</td><td>1.2309434053867048</td></tr>\n",
       "<tr><td>194.570134952076</td><td>27.7297067037566</td><td>0.0</td><td>0.0</td><td>0.0</td><td>False</td><td>south</td><td>194.569496657143</td><td>27.7292541142857</td><td>0.0682</td><td>SNe_Ia/RCF/ZTFmarshal</td><td>5.0</td><td>SN2018cbv</td><td>None</td><td>None</td><td>SN2018cbv</td><td>0.0682318441087303</td><td>8.4892389944904e-06</td><td>9120.55629330128</td><td>2654.75171516091</td><td>GALAXY</td><td>--</td><td>1264056</td><td>SGA-2020 1264056</td><td>PGC126832</td><td>126832</td><td>194.570088</td><td>27.7296787</td><td>Sbc</td><td>40.32</td><td>0.4365158</td><td>0.4786301</td><td>0.0682352</td><td>24.001482</td><td>17.173</td><td>False</td><td>LEDA-20181114</td><td>464833</td><td>PGC126832</td><td>1</td><td>True</td><td>194.570088</td><td>27.7296787</td><td>0.4365158</td><td>1945p277</td><td>194.57015374237844</td><td>27.729698128842283</td><td>0.82140076</td><td>SB26</td><td>41.082222</td><td>0.42871577</td><td>194.57001821639724</td><td>27.72971281343294</td><td>18.826746</td><td>7.458115</td><td>6.774323</td><td>6.4910965</td><td>6.1731596</td><td>8.340157</td><td>10.459583</td><td>12.359288</td><td>13.973851</td><td>15.38492</td><td>18.072212</td><td>20.826956</td><td>24.642023</td><td>17.791073</td><td>16.945951</td><td>16.322348</td><td>17.446968</td><td>16.640326</td><td>16.035124</td><td>17.215227</td><td>16.432573</td><td>15.840166</td><td>17.068434</td><td>16.299402</td><td>15.715623</td><td>16.97789</td><td>16.224417</td><td>15.641925</td><td>16.933296</td><td>16.194107</td><td>15.615915</td><td>16.883575</td><td>16.150928</td><td>15.576521</td><td>16.852165</td><td>16.123869</td><td>15.551416</td><td>16.83088</td><td>16.103985</td><td>15.526708</td><td>0.059875693</td><td>0.1169903</td><td>0.16813627</td><td>0.12902981</td><td>0.13853085</td><td>0.19490738</td><td>0.27792382</td><td>0.25328895</td><td>0.23433337</td><td>0.026706915</td><td>0.030737137</td><td>0.032250408</td><td>0.024385376</td><td>0.027279248</td><td>0.028396342</td><td>0.022944821</td><td>0.025178317</td><td>0.026035432</td><td>0.021919211</td><td>0.023815803</td><td>0.024479281</td><td>0.021164637</td><td>0.022925874</td><td>0.023488088</td><td>0.020637227</td><td>0.022416865</td><td>0.023026386</td><td>0.019931491</td><td>0.021688467</td><td>0.0223265</td><td>0.019470802</td><td>0.021256117</td><td>0.021874351</td><td>0.0191177</td><td>0.020864617</td><td>0.02141062</td><td>16.820457</td><td>0.23843673</td><td>5.2173142</td><td>4.9808254</td><td>0.21180265</td><td>16.097574</td><td>0.21903545</td><td>4.4124646</td><td>4.9267426</td><td>0.34015384</td><td>15.522013</td><td>0.2143759</td><td>4.122266</td><td>4.7756157</td><td>0.5182939</td><td>0</td><td>0.0682292769643058</td><td>7.047416195846704e-11</td><td>0.14978877</td><td>208.71424078471676</td><td>1.607687569037692</td></tr>\n",
       "<tr><td>210.016880535361</td><td>5.69166319290208</td><td>0.0</td><td>0.0</td><td>0.0</td><td>False</td><td>south</td><td>210.01808414</td><td>5.69172505</td><td>0.081</td><td>SNe_Ia/RCF/ZTFmarshal</td><td>5.0</td><td>SN2019bvo</td><td>None</td><td>None</td><td>SN2019bvo</td><td>0.0809767308726063</td><td>1.10310607343444e-05</td><td>7868.99582320452</td><td>1918.43132113479</td><td>GALAXY</td><td>--</td><td>838601</td><td>SGA-2020 838601</td><td>PGC1287515</td><td>1287515</td><td>210.0168135</td><td>5.6916128</td><td>Sbc</td><td>16.17</td><td>0.35563132</td><td>0.62230027</td><td>0.080989026</td><td>23.650482</td><td>17.267</td><td>False</td><td>LEDA-20181114</td><td>305858</td><td>PGC1287515</td><td>1</td><td>True</td><td>210.0168135</td><td>5.6916128</td><td>0.35563132</td><td>2100p057</td><td>210.01689177868673</td><td>5.6916337312184515</td><td>0.54601264</td><td>SB26</td><td>12.747827</td><td>0.5378107</td><td>210.01680012755472</td><td>5.691723769164554</td><td>11.129664</td><td>5.8862305</td><td>5.450714</td><td>5.2952194</td><td>5.2785206</td><td>6.9587584</td><td>8.582752</td><td>10.238504</td><td>11.682181</td><td>12.909917</td><td>13.964512</td><td>15.018299</td><td>16.380379</td><td>17.70561</td><td>17.020855</td><td>16.555817</td><td>17.397585</td><td>16.739145</td><td>16.289001</td><td>17.189238</td><td>16.556574</td><td>16.117468</td><td>17.053091</td><td>16.434578</td><td>16.007116</td><td>16.97113</td><td>16.363943</td><td>15.944629</td><td>16.920729</td><td>16.320993</td><td>15.906033</td><td>16.89503</td><td>16.297554</td><td>15.882832</td><td>16.878094</td><td>16.281494</td><td>15.863888</td><td>16.866972</td><td>16.27169</td><td>15.851054</td><td>0.063781306</td><td>0.1188316</td><td>0.08490982</td><td>0.12308266</td><td>0.11444128</td><td>0.13535011</td><td>0.12931786</td><td>0.1276554</td><td>0.18968855</td><td>0.027992703</td><td>0.031857044</td><td>0.029505359</td><td>0.026158419</td><td>0.028917491</td><td>0.027193978</td><td>0.024939038</td><td>0.026975077</td><td>0.025513384</td><td>0.023659058</td><td>0.025387935</td><td>0.024188358</td><td>0.022678692</td><td>0.024338806</td><td>0.02330816</td><td>0.022040255</td><td>0.023658112</td><td>0.02275488</td><td>0.021681136</td><td>0.02325639</td><td>0.0223968</td><td>0.021413676</td><td>0.022972187</td><td>0.022087505</td><td>0.02122606</td><td>0.022783382</td><td>0.02186834</td><td>16.829187</td><td>0.24081065</td><td>1.6675625</td><td>4.847237</td><td>0.13464354</td><td>16.2337</td><td>0.241874</td><td>1.4095097</td><td>4.486586</td><td>0.073685974</td><td>15.800017</td><td>0.31124207</td><td>1.02572</td><td>3.616426</td><td>0.01975827</td><td>0</td><td>0.0809771446065905</td><td>1.250079855300109e-10</td><td>0.25962535</td><td>194.40171781077464</td><td>1.9588659636130394</td></tr>\n",
       "<tr><td>183.547166667</td><td>-0.831583333333</td><td>0.0</td><td>0.0</td><td>0.0</td><td>False</td><td>south</td><td>183.54456</td><td>-0.84601</td><td>0.0248</td><td>RCF</td><td>5.0</td><td>SN2019kcx</td><td>None</td><td>None</td><td>SN2019kcx</td><td>0.0248586410985697</td><td>5.17959857631646e-06</td><td>8183.86664572731</td><td>2691.04599756862</td><td>GALAXY</td><td>--</td><td>294387</td><td>SGA-2020 294387</td><td>PGC039073</td><td>39073</td><td>183.547164</td><td>-0.831551</td><td>SABc</td><td>171.72</td><td>0.7780365</td><td>0.561048</td><td>0.024841517</td><td>23.520481</td><td>15.437</td><td>False</td><td>LEDA-20181114</td><td>106169</td><td>PGC039073</td><td>1</td><td>True</td><td>183.547164</td><td>-0.831551</td><td>0.7780365</td><td>1836m007</td><td>183.5471939888577</td><td>-0.8316111360355423</td><td>1.2215545</td><td>SB26</td><td>170.44017</td><td>0.5814847</td><td>183.54718532704396</td><td>-0.8315369651746233</td><td>30.07738</td><td>12.846199</td><td>12.395062</td><td>11.759229</td><td>8.509257</td><td>11.53522</td><td>14.766707</td><td>18.282831</td><td>22.028744</td><td>25.829937</td><td>29.480642</td><td>33.008987</td><td>36.646637</td><td>16.52693</td><td>15.968272</td><td>15.577775</td><td>16.17626</td><td>15.640676</td><td>15.267396</td><td>15.939795</td><td>15.423002</td><td>15.057729</td><td>15.767317</td><td>15.26203</td><td>14.904332</td><td>15.642654</td><td>15.141757</td><td>14.787272</td><td>15.55682</td><td>15.060615</td><td>14.709526</td><td>15.498996</td><td>15.00487</td><td>14.656994</td><td>15.462121</td><td>14.968573</td><td>14.623675</td><td>15.437742</td><td>14.945529</td><td>14.603001</td><td>0.038360342</td><td>0.061051294</td><td>0.059315868</td><td>0.09041882</td><td>0.07770962</td><td>0.099839635</td><td>0.10327726</td><td>0.10800127</td><td>0.15686321</td><td>0.008838212</td><td>0.009582073</td><td>0.0097316895</td><td>0.007513806</td><td>0.008082654</td><td>0.008192047</td><td>0.0066172783</td><td>0.007089283</td><td>0.007204685</td><td>0.005913486</td><td>0.006328169</td><td>0.006462018</td><td>0.005406668</td><td>0.005792954</td><td>0.0059218905</td><td>0.005074407</td><td>0.005446651</td><td>0.0055868314</td><td>0.0048628864</td><td>0.0052201203</td><td>0.005371191</td><td>0.004731652</td><td>0.005074616</td><td>0.0052398327</td><td>0.004641347</td><td>0.0049823252</td><td>0.0051635467</td><td>15.318537</td><td>0.5640646</td><td>5.086929</td><td>2.3881478</td><td>1.8722204</td><td>14.825719</td><td>0.52780443</td><td>5.237951</td><td>2.3515327</td><td>2.232278</td><td>14.503408</td><td>0.44021618</td><td>6.862227</td><td>2.5675461</td><td>2.2760477</td><td>0</td><td>0.0248628847355973</td><td>1.1699988795781378e-11</td><td>0.31054628</td><td>137.13676837201095</td><td>1.577687854064966</td></tr>\n",
       "<tr><td>216.968375</td><td>33.5691388889</td><td>0.0</td><td>0.0</td><td>0.0</td><td>False</td><td>north</td><td>216.966851</td><td>33.569351</td><td>0.02875</td><td>RCF/ZTFmarshal</td><td>5.0</td><td>AT2020pv</td><td>None</td><td>None</td><td>AT2020pv</td><td>0.0287399872273327</td><td>5.39311239483592e-06</td><td>8187.8218264915</td><td>1396.00625227741</td><td>GALAXY</td><td>--</td><td>899217</td><td>SGA-2020 899217</td><td>PGC2034750</td><td>2034750</td><td>216.9682845</td><td>33.569130799999996</td><td>Scd</td><td>81.55</td><td>0.5128614</td><td>0.39810717</td><td>0.028751224</td><td>23.89348</td><td>16.715</td><td>False</td><td>LEDA-20181114</td><td>331189</td><td>PGC2034750</td><td>1</td><td>True</td><td>216.9682845</td><td>33.569130799999996</td><td>0.5128614</td><td>2169p335</td><td>216.96839478930545</td><td>33.56912929994496</td><td>0.7108392</td><td>SB26</td><td>84.90725</td><td>0.3905689</td><td>216.96823271931152</td><td>33.56919322995779</td><td>17.689579</td><td>7.7657666</td><td>7.665047</td><td>6.9473906</td><td>7.262064</td><td>9.664717</td><td>11.72333</td><td>13.515682</td><td>15.080391</td><td>16.54586</td><td>18.059607</td><td>19.51426</td><td>21.325176</td><td>17.355867</td><td>16.849504</td><td>16.488325</td><td>16.977306</td><td>16.493727</td><td>16.168936</td><td>16.783312</td><td>16.309874</td><td>16.005482</td><td>16.676363</td><td>16.20613</td><td>15.915373</td><td>16.614952</td><td>16.146147</td><td>15.864464</td><td>16.579405</td><td>16.109524</td><td>15.835879</td><td>16.558323</td><td>16.085333</td><td>15.82056</td><td>16.544098</td><td>16.069683</td><td>15.810187</td><td>16.534277</td><td>16.057068</td><td>15.804306</td><td>0.031011343</td><td>0.050092585</td><td>0.06072511</td><td>0.06307568</td><td>0.06691798</td><td>0.07425069</td><td>0.09912088</td><td>0.10396549</td><td>0.17118765</td><td>0.0068114526</td><td>0.007181476</td><td>0.009047299</td><td>0.0063764425</td><td>0.0065223225</td><td>0.008122712</td><td>0.0060990904</td><td>0.0062562213</td><td>0.007833713</td><td>0.006014944</td><td>0.0061578467</td><td>0.0077076876</td><td>0.0059975907</td><td>0.0060892394</td><td>0.0076108854</td><td>0.0059655923</td><td>0.006030751</td><td>0.007567411</td><td>0.0059054997</td><td>0.005966358</td><td>0.0075481366</td><td>0.0058679096</td><td>0.0059206905</td><td>0.0075662145</td><td>0.005841356</td><td>0.0058753933</td><td>0.007609406</td><td>16.50915</td><td>0.3137374</td><td>2.958898</td><td>4.8196626</td><td>0.91115713</td><td>16.025099</td><td>0.33116943</td><td>2.707138</td><td>4.391724</td><td>0.44934323</td><td>15.787276</td><td>0.23617584</td><td>3.4271185</td><td>5.2512064</td><td>0.6707438</td><td>0</td><td>0.0287521740831587</td><td>2.7774639905009656e-11</td><td>0.11723342</td><td>93.35146247608995</td><td>1.1754671480619754</td></tr>\n",
       "<tr><td>216.908041667</td><td>2.98177777778</td><td>0.0</td><td>0.0</td><td>0.0</td><td>False</td><td>south</td><td>216.888893</td><td>2.976197</td><td>-9999.0</td><td>RCF/ZTFmarshal</td><td>1.0</td><td>AT2020aahl</td><td>None</td><td>None</td><td>AT2020aahl</td><td>0.0255132795444653</td><td>6.27940123321655e-06</td><td>8325.28427409194</td><td>1647.06219608427</td><td>GALAXY</td><td>--</td><td>1194958</td><td>SGA-2020 1194958</td><td>PGC1242418</td><td>1242418</td><td>216.90805350000002</td><td>2.9817723</td><td>Sc</td><td>9.67</td><td>0.44360867</td><td>0.5915616</td><td>0.02550331</td><td>23.43748</td><td>16.574</td><td>False</td><td>LEDA-20181114</td><td>437549</td><td>PGC1242418</td><td>1</td><td>True</td><td>216.90805350000002</td><td>2.9817723</td><td>0.44360867</td><td>2168p030</td><td>216.9080784134228</td><td>2.981763122818245</td><td>0.8660147</td><td>SB26</td><td>10.165838</td><td>0.5845735</td><td>216.90798313648273</td><td>2.9817694783847424</td><td>19.706549</td><td>10.200892</td><td>9.732833</td><td>9.8792</td><td>4.9106884</td><td>7.1925635</td><td>9.710417</td><td>12.39791</td><td>15.130719</td><td>17.809128</td><td>20.529726</td><td>23.460182</td><td>25.980442</td><td>17.89145</td><td>17.32949</td><td>16.949867</td><td>17.374838</td><td>16.849182</td><td>16.495987</td><td>17.012655</td><td>16.514553</td><td>16.182995</td><td>16.76261</td><td>16.290066</td><td>15.980916</td><td>16.59869</td><td>16.141653</td><td>15.842045</td><td>16.48972</td><td>16.04197</td><td>15.740568</td><td>16.41546</td><td>15.970431</td><td>15.670489</td><td>16.36301</td><td>15.921144</td><td>15.622347</td><td>16.330357</td><td>15.893433</td><td>15.5916195</td><td>0.031861365</td><td>0.0645498</td><td>0.07777663</td><td>0.09635219</td><td>0.14784417</td><td>0.08999044</td><td>0.1179353</td><td>0.14693193</td><td>0.15509892</td><td>0.009922463</td><td>0.011664408</td><td>0.013677966</td><td>0.009728027</td><td>0.0108180875</td><td>0.012212336</td><td>0.009974402</td><td>0.010484516</td><td>0.01130364</td><td>0.009781783</td><td>0.0099788355</td><td>0.010446715</td><td>0.009199836</td><td>0.00935336</td><td>0.009739368</td><td>0.008758811</td><td>0.008884723</td><td>0.009189546</td><td>0.00836728</td><td>0.008484802</td><td>0.008781252</td><td>0.00804997</td><td>0.008191961</td><td>0.008490648</td><td>0.007851602</td><td>0.008032047</td><td>0.008316906</td><td>16.205685</td><td>0.5697614</td><td>2.89193</td><td>2.5914934</td><td>0.060635824</td><td>15.761324</td><td>0.5896201</td><td>2.421467</td><td>2.393524</td><td>0.33144107</td><td>15.418667</td><td>0.7035028</td><td>1.8684379</td><td>2.0108352</td><td>0.9702875</td><td>0</td><td>0.0255212675717551</td><td>6.579008334317277e-11</td><td>0.31429812</td><td>76.89011427752989</td><td>1.161170519746801</td></tr>\n",
       "<tr><td>192.140673050189</td><td>62.4609676848115</td><td>0.0</td><td>0.0</td><td>0.0</td><td>False</td><td>north</td><td>192.14443</td><td>62.464619</td><td>0.07753</td><td>RCF</td><td>1.0</td><td>AT2020exv</td><td>None</td><td>None</td><td>AT2020exv</td><td>0.07774012764167</td><td>1.92424110259805e-05</td><td>9965.15369394049</td><td>4125.85181445256</td><td>GALAXY</td><td>--</td><td>1202638</td><td>SGA-2020 1202638</td><td>2MASXJ12483377+6227391</td><td>3384293</td><td>192.14065499999998</td><td>62.4609897</td><td>Sbc</td><td>18.08</td><td>0.6902398</td><td>0.3689776</td><td>0.07753063</td><td>24.45848</td><td>16.635</td><td>False</td><td>LEDA-20181114</td><td>439661</td><td>2MASXJ12483377+6227391</td><td>1</td><td>True</td><td>192.14065499999998</td><td>62.4609897</td><td>0.6902398</td><td>1921p625</td><td>192.1406740387097</td><td>62.46093752527029</td><td>0.798953</td><td>SB26</td><td>18.336752</td><td>0.38196367</td><td>192.14043745451576</td><td>62.46096551024016</td><td>18.77777</td><td>6.6791935</td><td>5.9984117</td><td>5.6463513</td><td>8.87645</td><td>11.023034</td><td>13.267672</td><td>15.236531</td><td>16.63815</td><td>18.0017</td><td>19.307127</td><td>21.033323</td><td>23.96859</td><td>16.889467</td><td>15.972739</td><td>15.331702</td><td>16.705893</td><td>15.806541</td><td>15.175796</td><td>16.579618</td><td>15.693658</td><td>15.072647</td><td>16.501804</td><td>15.623859</td><td>15.010657</td><td>16.456354</td><td>15.582384</td><td>14.975719</td><td>16.423128</td><td>15.556728</td><td>14.95125</td><td>16.40682</td><td>15.54555</td><td>14.937097</td><td>16.398706</td><td>15.537261</td><td>14.931493</td><td>16.383076</td><td>15.52391</td><td>14.919667</td><td>0.07300463</td><td>0.10466023</td><td>0.17156026</td><td>0.18098797</td><td>0.18702951</td><td>0.1301894</td><td>0.20567702</td><td>0.26175988</td><td>0.31159633</td><td>0.02152919</td><td>0.023884432</td><td>0.02443416</td><td>0.020384014</td><td>0.022266153</td><td>0.022735775</td><td>0.019397147</td><td>0.021042723</td><td>0.021540387</td><td>0.018661251</td><td>0.020204557</td><td>0.020766284</td><td>0.018219149</td><td>0.019702613</td><td>0.020312406</td><td>0.017873574</td><td>0.019355454</td><td>0.019971836</td><td>0.017693149</td><td>0.019199755</td><td>0.0197867</td><td>0.017555872</td><td>0.019049421</td><td>0.01967927</td><td>0.01735145</td><td>0.018847577</td><td>0.01950174</td><td>16.370728</td><td>0.13300942</td><td>22.308224</td><td>6.3173537</td><td>0.4132801</td><td>15.5152</td><td>0.11863219</td><td>21.046152</td><td>6.4475684</td><td>0.250185</td><td>14.90756</td><td>0.12989071</td><td>12.555704</td><td>5.704729</td><td>0.208139</td><td>0</td><td>0.0776702165969449</td><td>3.768007553368982e-10</td><td>0.11030859</td><td>264.37966376821805</td><td>3.265342520069514</td></tr>\n",
       "</table></div>"
      ],
      "text/plain": [
       "<Table length=10>\n",
       "       ra              dec        ...     V_0p33R26         V_0p33R26_err   \n",
       "    float64          float64      ...      float64             float64      \n",
       "---------------- ---------------- ... ------------------ -------------------\n",
       "       251.73645         34.15563 ... 284.21450067885223   2.976927422412009\n",
       "   195.158041667    28.0573611111 ... 133.76645509066984 0.27183926879219095\n",
       " 251.80698752266 33.3056294617536 ...   147.527170302467   1.027668734669824\n",
       "   242.480916667    43.1291944444 ... 252.31411525556464  1.2309434053867048\n",
       "194.570134952076 27.7297067037566 ... 208.71424078471676   1.607687569037692\n",
       "210.016880535361 5.69166319290208 ... 194.40171781077464  1.9588659636130394\n",
       "   183.547166667  -0.831583333333 ... 137.13676837201095   1.577687854064966\n",
       "      216.968375    33.5691388889 ...  93.35146247608995  1.1754671480619754\n",
       "   216.908041667    2.98177777778 ...  76.89011427752989   1.161170519746801\n",
       "192.140673050189 62.4609676848115 ... 264.37966376821805   3.265342520069514"
      ]
     },
     "execution_count": 32,
     "metadata": {},
     "output_type": "execute_result"
    }
   ],
   "source": [
    "MostHosts_0pt"
   ]
  },
  {
   "cell_type": "code",
   "execution_count": 24,
   "id": "6bf22455-d741-4671-9c99-502d88f4dec7",
   "metadata": {},
   "outputs": [],
   "source": [
    "SGA_0pt['R_ABSMAG_SB26'] = SGA_0pt['R_MAG_SB26'] - SGA_0pt['DM1_SN']\n",
    "SGA_0pt['R_ABSMAG_SB26_err'] = np.sqrt(SGA_0pt['R_MAG_SB26_ERR']**2 + SGA_0pt['e_DM1_SN']**2)"
   ]
  },
  {
   "cell_type": "code",
   "execution_count": 25,
   "id": "2e4f2998-0c1e-4e25-a3de-9a8fc73c39a2",
   "metadata": {},
   "outputs": [],
   "source": [
    "'''\n",
    "good_edge_spirals_axis_dist['R_ABSMAG_SB26'] = np.nan\n",
    "good_edge_spirals_axis_dist['R_ABSMAG_SB26_err'] = np.nan\n",
    "\n",
    "for sga_id in np.unique(good_edge_spirals_axis_dist['SGA_ID']):\n",
    "    \n",
    "    obs_idx = good_edge_spirals_axis_dist['SGA_ID'] == sga_id\n",
    "    \n",
    "    good_edge_spirals_axis_dist['R_ABSMAG_SB26'][obs_idx] = good_edge_spirals_axis_dist['R_MAG_SB26'][obs_idx] - SGA['DM1_SN'][SGA_dict[sga_id]]\n",
    "    good_edge_spirals_axis_dist['R_ABSMAG_SB26_err'][obs_idx] = np.sqrt(good_edge_spirals_axis_dist['R_MAG_SB26_ERR'][obs_idx]**2 + SGA['e_DM1_SN'][SGA_dict[sga_id]]**2)\n",
    "''';"
   ]
  },
  {
   "cell_type": "code",
   "execution_count": 26,
   "id": "15d86846-8b16-406a-96e9-3a84d2ee3a9e",
   "metadata": {},
   "outputs": [
    {
     "data": {
      "image/png": "[encoded data removed]",
      "text/plain": [
       "<Figure size 432x288 with 1 Axes>"
      ]
     },
     "metadata": {
      "needs_background": "light"
     },
     "output_type": "display_data"
    }
   ],
   "source": [
    "#plt.figure(figsize=(9,5), tight_layout=True)\n",
    "plt.figure(tight_layout=True)\n",
    "\n",
    "#plt.subplot(121)\n",
    "plt.errorbar(np.log10(SGA_0pt['V_0p33R26']), \n",
    "             SGA_0pt['R_ABSMAG_SB26'], \n",
    "             xerr=0.434*SGA_0pt['V_0p33R26_err']/SGA_0pt['V_0p33R26'],\n",
    "             yerr=SGA_0pt['R_ABSMAG_SB26_err'], \n",
    "             fmt='.')\n",
    "\n",
    "plt.xlim([2, 2.5])\n",
    "plt.ylim([-19, -22])\n",
    "\n",
    "plt.xlabel('log($V_{rot}$ [km/s])')\n",
    "plt.ylabel('$M_r (26) - 5\\logh$')\n",
    "\n",
    "'''\n",
    "plt.subplot(122)\n",
    "plt.errorbar(np.log10(good_edge_spirals_axis_dist['V_ROT']), \n",
    "             good_edge_spirals_axis_dist['R_ABSMAG_SB26'], \n",
    "             xerr=0.434*good_edge_spirals_axis_dist['V_ROT_ERR']/good_edge_spirals_axis_dist['V_ROT'],\n",
    "             yerr=good_edge_spirals_axis_dist['R_ABSMAG_SB26_err'], \n",
    "             fmt='.')\n",
    "\n",
    "plt.xlim([2, 2.5])\n",
    "plt.ylim([-19, -22])\n",
    "\n",
    "plt.xlabel('log($V_{rot}$ [km/s])')\n",
    "plt.ylabel('$M_r (26) - 5\\logh$')\n",
    "''';"
   ]
  },
  {
   "cell_type": "markdown",
   "id": "61f2f741-b5eb-42da-8f39-1834f5d6fe0c",
   "metadata": {
    "jp-MarkdownHeadingCollapsed": true,
    "tags": []
   },
   "source": [
    "## Fit the TFR using `hyperfit`\n",
    "\n",
    "**Note:** This does not work, because there are exactly two points that we are trying to fit to.  Instead, we are going to minimze the $\\chi^2$, and fix the slope as we want.\n",
    "\n",
    "We are going to fix the slope to be equal to that derived in the `Coma-Fuji_KAD.ipynb` notebook.\n",
    "\n",
    "### Create covariance matrix for `hyperfit`"
   ]
  },
  {
   "cell_type": "code",
   "execution_count": 32,
   "id": "66feb65e-bcb2-4b89-a3da-911256836056",
   "metadata": {},
   "outputs": [],
   "source": [
    "Ndata = len(good_edge_spirals_axis_dist)\n",
    "#Ndata = len(SGA_0pt)\n",
    "cov = np.empty((2, 2, Ndata))\n",
    "\n",
    "# loop over arrays of uncertainties in logv and mag\n",
    "# Assume diagonal covariance for each measurement.\n",
    "for i in range(Ndata):\n",
    "    cov[:,:,i] = np.array([[(0.434*good_edge_spirals_axis_dist['V_ROT_ERR'][i]/good_edge_spirals_axis_dist['V_ROT'][i])**2, 0.], \n",
    "                           [0., good_edge_spirals_axis_dist['R_ABSMAG_SB26_err'][i]**2]])\n",
    "    #cov[:,:,i] = np.array([[(0.434*SGA_0pt['V_0p33R26_err'][i]/SGA_0pt['V_0p33R26'][i])**2, 0.], [0., SGA_0pt['R_ABSMAG_SB26_err'][i]**2]])"
   ]
  },
  {
   "cell_type": "markdown",
   "id": "7a0afd5c-4864-4bef-bc9c-d94243e1daaf",
   "metadata": {},
   "source": [
    "### Create `hyperfit` object"
   ]
  },
  {
   "cell_type": "code",
   "execution_count": 33,
   "id": "1eeb4f8b-be12-4bda-8dd9-984c34b404cf",
   "metadata": {},
   "outputs": [
    {
     "name": "stderr",
     "output_type": "stream",
     "text": [
      "/tmp/ipykernel_53081/211347197.py:1: RuntimeWarning: invalid value encountered in log10\n",
      "  hf = LinFit([np.log10(good_edge_spirals_axis_dist['V_ROT']), good_edge_spirals_axis_dist['R_ABSMAG_SB26']], cov)\n"
     ]
    }
   ],
   "source": [
    "hf = LinFit([np.log10(good_edge_spirals_axis_dist['V_ROT']), good_edge_spirals_axis_dist['R_ABSMAG_SB26']], cov)\n",
    "#hf = LinFit([np.log10(SGA_0pt['V_0p33R26']), SGA_0pt['R_ABSMAG_SB26']], cov)"
   ]
  },
  {
   "cell_type": "markdown",
   "id": "1ad4f1f3-c362-4c45-94e8-a210777cf68e",
   "metadata": {},
   "source": [
    "### Run MCMC to fit TFR\n",
    "\n",
    "Slope for TFR: $-5.63^{+0.87}_{-1.19}$ (from `Coma-Fuji_KAD.ipynb`)"
   ]
  },
  {
   "cell_type": "code",
   "execution_count": 34,
   "id": "ef187e28-ae77-40d6-bdec-7bfe178e3187",
   "metadata": {},
   "outputs": [
    {
     "name": "stdout",
     "output_type": "stream",
     "text": [
      "     fun: nan\n",
      " message: 'Maximum number of iterations has been exceeded.'\n",
      "    nfev: 45129\n",
      "     nit: 1000\n",
      " success: False\n",
      "       x: array([-0.84534927, -0.13665936, 24.81880418])\n"
     ]
    },
    {
     "ename": "ValueError",
     "evalue": "Probability function returned NaN",
     "output_type": "error",
     "traceback": [
      "\u001b[0;31m---------------------------------------------------------------------------\u001b[0m",
      "\u001b[0;31mValueError\u001b[0m                                Traceback (most recent call last)",
      "\u001b[0;32m/tmp/ipykernel_53081/1609561554.py\u001b[0m in \u001b[0;36m<module>\u001b[0;34m\u001b[0m\n\u001b[1;32m      2\u001b[0m \u001b[0;31m# bounds = ((-10.0, 10.0), (-20.0, 20.0), (1.0e-5, 500.0))\u001b[0m\u001b[0;34m\u001b[0m\u001b[0;34m\u001b[0m\u001b[0m\n\u001b[1;32m      3\u001b[0m \u001b[0;34m\u001b[0m\u001b[0m\n\u001b[0;32m----> 4\u001b[0;31m \u001b[0mmcmc_samples\u001b[0m\u001b[0;34m,\u001b[0m \u001b[0mmcmc_lnlike\u001b[0m \u001b[0;34m=\u001b[0m \u001b[0mhf\u001b[0m\u001b[0;34m.\u001b[0m\u001b[0memcee\u001b[0m\u001b[0;34m(\u001b[0m\u001b[0mbounds\u001b[0m\u001b[0;34m,\u001b[0m \u001b[0mverbose\u001b[0m\u001b[0;34m=\u001b[0m\u001b[0;32mTrue\u001b[0m\u001b[0;34m)\u001b[0m\u001b[0;34m\u001b[0m\u001b[0;34m\u001b[0m\u001b[0m\n\u001b[0m\u001b[1;32m      5\u001b[0m \u001b[0;34m\u001b[0m\u001b[0m\n\u001b[1;32m      6\u001b[0m \u001b[0mprint\u001b[0m\u001b[0;34m(\u001b[0m\u001b[0mnp\u001b[0m\u001b[0;34m.\u001b[0m\u001b[0mmean\u001b[0m\u001b[0;34m(\u001b[0m\u001b[0mmcmc_samples\u001b[0m\u001b[0;34m,\u001b[0m \u001b[0maxis\u001b[0m\u001b[0;34m=\u001b[0m\u001b[0;36m1\u001b[0m\u001b[0;34m)\u001b[0m\u001b[0;34m,\u001b[0m \u001b[0mnp\u001b[0m\u001b[0;34m.\u001b[0m\u001b[0mstd\u001b[0m\u001b[0;34m(\u001b[0m\u001b[0mmcmc_samples\u001b[0m\u001b[0;34m,\u001b[0m \u001b[0maxis\u001b[0m\u001b[0;34m=\u001b[0m\u001b[0;36m1\u001b[0m\u001b[0;34m)\u001b[0m\u001b[0;34m)\u001b[0m\u001b[0;34m\u001b[0m\u001b[0;34m\u001b[0m\u001b[0m\n",
      "\u001b[0;32m~/.local/lib/python3.9/site-packages/hyperfit/linfit.py\u001b[0m in \u001b[0;36memcee\u001b[0;34m(self, bounds, max_iter, batchsize, ntau, tautol, verbose)\u001b[0m\n\u001b[1;32m    469\u001b[0m         \u001b[0mconverged\u001b[0m \u001b[0;34m=\u001b[0m \u001b[0;36m0\u001b[0m\u001b[0;34m\u001b[0m\u001b[0;34m\u001b[0m\u001b[0m\n\u001b[1;32m    470\u001b[0m         \u001b[0;32mwhile\u001b[0m \u001b[0;34m~\u001b[0m\u001b[0mconverged\u001b[0m\u001b[0;34m:\u001b[0m\u001b[0;34m\u001b[0m\u001b[0;34m\u001b[0m\u001b[0m\n\u001b[0;32m--> 471\u001b[0;31m             \u001b[0msampler\u001b[0m\u001b[0;34m.\u001b[0m\u001b[0mrun_mcmc\u001b[0m\u001b[0;34m(\u001b[0m\u001b[0mbegin\u001b[0m\u001b[0;34m,\u001b[0m \u001b[0mnsteps\u001b[0m\u001b[0;34m=\u001b[0m\u001b[0mbatchsize\u001b[0m\u001b[0;34m,\u001b[0m \u001b[0mprogress\u001b[0m\u001b[0;34m=\u001b[0m\u001b[0mverbose\u001b[0m\u001b[0;34m)\u001b[0m\u001b[0;34m\u001b[0m\u001b[0;34m\u001b[0m\u001b[0m\n\u001b[0m\u001b[1;32m    472\u001b[0m             \u001b[0mtau\u001b[0m \u001b[0;34m=\u001b[0m \u001b[0msampler\u001b[0m\u001b[0;34m.\u001b[0m\u001b[0mget_autocorr_time\u001b[0m\u001b[0;34m(\u001b[0m\u001b[0mdiscard\u001b[0m\u001b[0;34m=\u001b[0m\u001b[0mint\u001b[0m\u001b[0;34m(\u001b[0m\u001b[0;36m0.5\u001b[0m \u001b[0;34m*\u001b[0m \u001b[0mniter\u001b[0m\u001b[0;34m)\u001b[0m\u001b[0;34m,\u001b[0m \u001b[0mtol\u001b[0m\u001b[0;34m=\u001b[0m\u001b[0;36m0\u001b[0m\u001b[0;34m)\u001b[0m\u001b[0;34m\u001b[0m\u001b[0;34m\u001b[0m\u001b[0m\n\u001b[1;32m    473\u001b[0m             \u001b[0mconverged\u001b[0m \u001b[0;34m=\u001b[0m \u001b[0mnp\u001b[0m\u001b[0;34m.\u001b[0m\u001b[0mall\u001b[0m\u001b[0;34m(\u001b[0m\u001b[0mntau\u001b[0m \u001b[0;34m*\u001b[0m \u001b[0mtau\u001b[0m \u001b[0;34m<\u001b[0m \u001b[0mniter\u001b[0m\u001b[0;34m)\u001b[0m\u001b[0;34m\u001b[0m\u001b[0;34m\u001b[0m\u001b[0m\n",
      "\u001b[0;32m~/.local/lib/python3.9/site-packages/emcee/ensemble.py\u001b[0m in \u001b[0;36mrun_mcmc\u001b[0;34m(self, initial_state, nsteps, **kwargs)\u001b[0m\n\u001b[1;32m    441\u001b[0m \u001b[0;34m\u001b[0m\u001b[0m\n\u001b[1;32m    442\u001b[0m         \u001b[0mresults\u001b[0m \u001b[0;34m=\u001b[0m \u001b[0;32mNone\u001b[0m\u001b[0;34m\u001b[0m\u001b[0;34m\u001b[0m\u001b[0m\n\u001b[0;32m--> 443\u001b[0;31m         \u001b[0;32mfor\u001b[0m \u001b[0mresults\u001b[0m \u001b[0;32min\u001b[0m \u001b[0mself\u001b[0m\u001b[0;34m.\u001b[0m\u001b[0msample\u001b[0m\u001b[0;34m(\u001b[0m\u001b[0minitial_state\u001b[0m\u001b[0;34m,\u001b[0m \u001b[0miterations\u001b[0m\u001b[0;34m=\u001b[0m\u001b[0mnsteps\u001b[0m\u001b[0;34m,\u001b[0m \u001b[0;34m**\u001b[0m\u001b[0mkwargs\u001b[0m\u001b[0;34m)\u001b[0m\u001b[0;34m:\u001b[0m\u001b[0;34m\u001b[0m\u001b[0;34m\u001b[0m\u001b[0m\n\u001b[0m\u001b[1;32m    444\u001b[0m             \u001b[0;32mpass\u001b[0m\u001b[0;34m\u001b[0m\u001b[0;34m\u001b[0m\u001b[0m\n\u001b[1;32m    445\u001b[0m \u001b[0;34m\u001b[0m\u001b[0m\n",
      "\u001b[0;32m~/.local/lib/python3.9/site-packages/emcee/ensemble.py\u001b[0m in \u001b[0;36msample\u001b[0;34m(self, initial_state, log_prob0, rstate0, blobs0, iterations, tune, skip_initial_state_check, thin_by, thin, store, progress, progress_kwargs)\u001b[0m\n\u001b[1;32m    342\u001b[0m             \u001b[0mstate\u001b[0m\u001b[0;34m.\u001b[0m\u001b[0mblobs\u001b[0m \u001b[0;34m=\u001b[0m \u001b[0mblobs0\u001b[0m\u001b[0;34m\u001b[0m\u001b[0;34m\u001b[0m\u001b[0m\n\u001b[1;32m    343\u001b[0m         \u001b[0;32mif\u001b[0m \u001b[0mstate\u001b[0m\u001b[0;34m.\u001b[0m\u001b[0mlog_prob\u001b[0m \u001b[0;32mis\u001b[0m \u001b[0;32mNone\u001b[0m\u001b[0;34m:\u001b[0m\u001b[0;34m\u001b[0m\u001b[0;34m\u001b[0m\u001b[0m\n\u001b[0;32m--> 344\u001b[0;31m             \u001b[0mstate\u001b[0m\u001b[0;34m.\u001b[0m\u001b[0mlog_prob\u001b[0m\u001b[0;34m,\u001b[0m \u001b[0mstate\u001b[0m\u001b[0;34m.\u001b[0m\u001b[0mblobs\u001b[0m \u001b[0;34m=\u001b[0m \u001b[0mself\u001b[0m\u001b[0;34m.\u001b[0m\u001b[0mcompute_log_prob\u001b[0m\u001b[0;34m(\u001b[0m\u001b[0mstate\u001b[0m\u001b[0;34m.\u001b[0m\u001b[0mcoords\u001b[0m\u001b[0;34m)\u001b[0m\u001b[0;34m\u001b[0m\u001b[0;34m\u001b[0m\u001b[0m\n\u001b[0m\u001b[1;32m    345\u001b[0m         \u001b[0;32mif\u001b[0m \u001b[0mnp\u001b[0m\u001b[0;34m.\u001b[0m\u001b[0mshape\u001b[0m\u001b[0;34m(\u001b[0m\u001b[0mstate\u001b[0m\u001b[0;34m.\u001b[0m\u001b[0mlog_prob\u001b[0m\u001b[0;34m)\u001b[0m \u001b[0;34m!=\u001b[0m \u001b[0;34m(\u001b[0m\u001b[0mself\u001b[0m\u001b[0;34m.\u001b[0m\u001b[0mnwalkers\u001b[0m\u001b[0;34m,\u001b[0m\u001b[0;34m)\u001b[0m\u001b[0;34m:\u001b[0m\u001b[0;34m\u001b[0m\u001b[0;34m\u001b[0m\u001b[0m\n\u001b[1;32m    346\u001b[0m             \u001b[0;32mraise\u001b[0m \u001b[0mValueError\u001b[0m\u001b[0;34m(\u001b[0m\u001b[0;34m\"incompatible input dimensions\"\u001b[0m\u001b[0;34m)\u001b[0m\u001b[0;34m\u001b[0m\u001b[0;34m\u001b[0m\u001b[0m\n",
      "\u001b[0;32m~/.local/lib/python3.9/site-packages/emcee/ensemble.py\u001b[0m in \u001b[0;36mcompute_log_prob\u001b[0;34m(self, coords)\u001b[0m\n\u001b[1;32m    533\u001b[0m         \u001b[0;31m# Check for log_prob returning NaN.\u001b[0m\u001b[0;34m\u001b[0m\u001b[0;34m\u001b[0m\u001b[0m\n\u001b[1;32m    534\u001b[0m         \u001b[0;32mif\u001b[0m \u001b[0mnp\u001b[0m\u001b[0;34m.\u001b[0m\u001b[0many\u001b[0m\u001b[0;34m(\u001b[0m\u001b[0mnp\u001b[0m\u001b[0;34m.\u001b[0m\u001b[0misnan\u001b[0m\u001b[0;34m(\u001b[0m\u001b[0mlog_prob\u001b[0m\u001b[0;34m)\u001b[0m\u001b[0;34m)\u001b[0m\u001b[0;34m:\u001b[0m\u001b[0;34m\u001b[0m\u001b[0;34m\u001b[0m\u001b[0m\n\u001b[0;32m--> 535\u001b[0;31m             \u001b[0;32mraise\u001b[0m \u001b[0mValueError\u001b[0m\u001b[0;34m(\u001b[0m\u001b[0;34m\"Probability function returned NaN\"\u001b[0m\u001b[0;34m)\u001b[0m\u001b[0;34m\u001b[0m\u001b[0;34m\u001b[0m\u001b[0m\n\u001b[0m\u001b[1;32m    536\u001b[0m \u001b[0;34m\u001b[0m\u001b[0m\n\u001b[1;32m    537\u001b[0m         \u001b[0;32mreturn\u001b[0m \u001b[0mlog_prob\u001b[0m\u001b[0;34m,\u001b[0m \u001b[0mblob\u001b[0m\u001b[0;34m\u001b[0m\u001b[0;34m\u001b[0m\u001b[0m\n",
      "\u001b[0;31mValueError\u001b[0m: Probability function returned NaN"
     ]
    }
   ],
   "source": [
    "bounds = ((-5.639, -5.630), (-20.0, 20.0), (1.0e-5, 500.0))\n",
    "# bounds = ((-10.0, 10.0), (-20.0, 20.0), (1.0e-5, 500.0))\n",
    "\n",
    "mcmc_samples, mcmc_lnlike = hf.emcee(bounds, verbose=True)\n",
    "\n",
    "print(np.mean(mcmc_samples, axis=1), np.std(mcmc_samples, axis=1))"
   ]
  },
  {
   "cell_type": "markdown",
   "id": "b1b210f4-8845-466a-86c4-938cdb645651",
   "metadata": {},
   "source": [
    "## Fit the TFR by minimizing $\\chi^2$\n",
    "\n",
    "This is taken from Sec. 15.3 of *Numerical Recipes*"
   ]
  },
  {
   "cell_type": "code",
   "execution_count": 27,
   "id": "9c60f99d-e792-4735-8268-cbd2fa928df6",
   "metadata": {},
   "outputs": [],
   "source": [
    "def zero_point(b, m, x):\n",
    "    '''\n",
    "    Equation of a line\n",
    "    \n",
    "    \n",
    "    PARAMETERS\n",
    "    ==========\n",
    "    \n",
    "    b : float\n",
    "        y-intercept of line (this is what is being fit for)\n",
    "    \n",
    "    m : float\n",
    "        Slope of line\n",
    "    \n",
    "    x : np.ndarray of shape (n,)\n",
    "        x-values of line\n",
    "    \n",
    "    \n",
    "    RETURNS\n",
    "    =======\n",
    "    \n",
    "    y : np.ndarray of shape (n,)\n",
    "        y-values calculated with the provided inputs\n",
    "    '''\n",
    "    \n",
    "    y = m*x + b\n",
    "    \n",
    "    return y"
   ]
  },
  {
   "cell_type": "code",
   "execution_count": 28,
   "id": "9c88aaab-2e28-4d14-b5fd-a5b900364c70",
   "metadata": {},
   "outputs": [],
   "source": [
    "def calculate_chi2(b, m, x, x_err, y, y_err):\n",
    "    '''\n",
    "    Calculate the reduced chi2 value of the current line.\n",
    "    \n",
    "    \n",
    "    PARAMETERS\n",
    "    ==========\n",
    "    \n",
    "    b : float\n",
    "        y-intercept of the line (this is what is being fit for)\n",
    "        \n",
    "    m : floats\n",
    "        Slope of the line\n",
    "    \n",
    "    x, x_err : np.ndarrays of shape (n,)\n",
    "        x-values and uncertainties in the x-values\n",
    "    \n",
    "    y, y_err : np.ndarrays of shape (n,)\n",
    "        y-values and uncertainties in the y-values\n",
    "    \n",
    "    \n",
    "    RETURNS\n",
    "    =======\n",
    "    \n",
    "    chi2_norm : float\n",
    "        Chi2 value of the current best fit (given by b) normalized by the number \n",
    "        of data points (minus the number of free parameters)\n",
    "    '''\n",
    "    \n",
    "    ############################################################################\n",
    "    # Calculate the values of the current best-fit line\n",
    "    #---------------------------------------------------------------------------\n",
    "    y_fit = zero_point(b, m, x)\n",
    "    ############################################################################\n",
    "    \n",
    "    \n",
    "    ############################################################################\n",
    "    # Calculate chi2 of current fit\n",
    "    #---------------------------------------------------------------------------\n",
    "    chi2 = np.sum((y - y_fit)**2/(y_err**2 + (m*x_err)**2))\n",
    "    \n",
    "    chi2_norm = chi2/(len(x) - 1) # Only one free parameter in this fit\n",
    "    ############################################################################\n",
    "    \n",
    "    return chi2_norm"
   ]
  },
  {
   "cell_type": "markdown",
   "id": "f1aeacd0-6a09-4148-afce-fd5925776b5a",
   "metadata": {},
   "source": [
    "Slope for TFR: $-5.63^{+0.87}_{-1.19}$ (from `Coma-Fuji_KAD.ipynb`)"
   ]
  },
  {
   "cell_type": "code",
   "execution_count": 45,
   "id": "bb13479e-e334-4066-abab-41162eaf3d21",
   "metadata": {},
   "outputs": [],
   "source": [
    "b0_guess = -6.5\n",
    "\n",
    "# Segev recommends that we generate a bunch of slopes based on its uncertainty, and run the fit a bunch of times.\n",
    "m_fit = -5.63\n",
    "m_fit_err = 1.16\n",
    "\n",
    "N_samples = 100000\n",
    "\n",
    "rng = np.random.default_rng()\n",
    "m_random = rng.normal(m_fit, m_fit_err, size=N_samples)\n",
    "\n",
    "b_fit_array = np.nan*np.ones(N_samples)\n",
    "\n",
    "# Fit for b using the actual slope\n",
    "result = minimize(calculate_chi2, \n",
    "                  b0_guess, \n",
    "                  args=(m_fit, \n",
    "                        np.log10(SGA_0pt['V_0p33R26']), 0.434*SGA_0pt['V_0p33R26_err']/SGA_0pt['V_0p33R26'], \n",
    "                        SGA_0pt['R_ABSMAG_SB26'], SGA_0pt['R_ABSMAG_SB26_err']), \n",
    "                  bounds=[[-19, 0]])\n",
    "b_fit = result.x[0]\n",
    "\n",
    "for i in range(N_samples):\n",
    "    result = minimize(calculate_chi2, \n",
    "                      b0_guess, \n",
    "                      args=(m_random[i], \n",
    "                            np.log10(SGA_0pt['V_0p33R26']), 0.434*SGA_0pt['V_0p33R26_err']/SGA_0pt['V_0p33R26'], \n",
    "                            SGA_0pt['R_ABSMAG_SB26'], SGA_0pt['R_ABSMAG_SB26_err']), \n",
    "                      bounds=[[-19, 0]])\n",
    "    \n",
    "    if result.success:\n",
    "        b_fit_array[i] = result.x[0]"
   ]
  },
  {
   "cell_type": "code",
   "execution_count": 46,
   "id": "0491aff7-ec2f-4ec5-9342-5c7ed48eeac0",
   "metadata": {},
   "outputs": [
    {
     "name": "stdout",
     "output_type": "stream",
     "text": [
      " -7.93 +/- 2.71\n"
     ]
    }
   ],
   "source": [
    "#b_fit = result.x[0]\n",
    "#b_fit_err = np.sqrt(np.diag(result.hess_inv.todense()))[0]\n",
    "\n",
    "#b_fit = np.nanmean(b_fit_array)\n",
    "b_fit_err = np.nanstd(b_fit_array)\n",
    "\n",
    "print('{:6.2f} +/- {:.2f}'.format(b_fit, b_fit_err))"
   ]
  },
  {
   "cell_type": "code",
   "execution_count": 48,
   "id": "a8ee7319-deb7-4df6-b134-3ad948346f3f",
   "metadata": {},
   "outputs": [
    {
     "data": {
      "image/png": "[encoded data removed]",
      "text/plain": [
       "<Figure size 288x360 with 1 Axes>"
      ]
     },
     "metadata": {
      "needs_background": "light"
     },
     "output_type": "display_data"
    }
   ],
   "source": [
    "#sigmas = hf.get_sigmas()\n",
    "xvals = np.linspace(1., 3., 1000)\n",
    "yvals = m_fit * xvals + b_fit\n",
    "\n",
    "# Calculate all of the best fits\n",
    "yvals_random = []\n",
    "for i in range(N_samples):\n",
    "    yvals_random.append(xvals*m_random[i] + b_fit_array[i])\n",
    "    #yvals_random.append(xvals*m_fit + b_fit_array[i])\n",
    "yvals_random = np.asarray(yvals_random)\n",
    "edges = np.nanpercentile(yvals_random, [16, 84], axis=0)\n",
    "\n",
    "# Pack info into data\n",
    "data = [np.log10(SGA_0pt['V_0p33R26']), SGA_0pt['R_ABSMAG_SB26']]\n",
    "x_err = 0.434*SGA_0pt['V_0p33R26_err']/SGA_0pt['V_0p33R26']\n",
    "y_err = SGA_0pt['R_ABSMAG_SB26_err']\n",
    "corr_xy = np.zeros_like(x_err)\n",
    "\n",
    "# Generate ellipses\n",
    "ells = [\n",
    "    Ellipse(\n",
    "        xy=[data[0][i], data[1][i]],\n",
    "        width=2*y_err[i],\n",
    "        height=2*x_err[i],\n",
    "        angle=np.rad2deg(np.arccos(corr_xy[i])),\n",
    "    )\n",
    "    for i in range(len(data[0]))\n",
    "]\n",
    "# Make the plot\n",
    "'''\n",
    "fig = plt.figure(figsize=(3,5))\n",
    "ax = fig.add_axes([0.15, 0.15, 1.03, 0.83])\n",
    "'''\n",
    "fig, ax = plt.subplots(figsize=(4,5), tight_layout=True)\n",
    "ax.fill_between(xvals, edges[0], edges[1], color=\"lightgray\")\n",
    "#ax.fill_between(xvals, xvals-std_dev, xvals+std_dev, color='lightgray')\n",
    "for i, e in enumerate(ells):\n",
    "    ax.add_artist(e)\n",
    "    #e.set_color(cm.winter(sigmas[i] / np.amax(sigmas)))\n",
    "    e.set_edgecolor('None')\n",
    "    #e.set_alpha(0.9)\n",
    "ax.plot(xvals, yvals, c=\"k\", marker=\"None\", ls=\"-\", lw=1.3)#, alpha=0.9)\n",
    "ax.set_xlabel(r\"$\\log{(V_\\mathrm{0.33R_{26}} [\\mathrm{km/s}])}$\", fontsize=14)\n",
    "ax.set_ylabel(r\"$M_r(26)$\", fontsize=14)\n",
    "ax.set_title(\"0-pt calibration ({} galaxies)\".format(len(SGA_0pt)), fontsize = 14)\n",
    "ax.set_xlim(2, 2.5)\n",
    "ax.set_ylim(-19, -22)\n",
    "'''\n",
    "# Add the colourbar\n",
    "cb = fig.colorbar(\n",
    "    cm.ScalarMappable(norm=colors.Normalize(vmin=0.0, vmax=np.amax(sigmas)), cmap=cm.winter),\n",
    "    ax=ax,\n",
    "    shrink=0.5,\n",
    "    aspect=10,\n",
    "    anchor=(-8, 0.95),\n",
    ")\n",
    "cb.set_label(label=r\"$\\sigma$\", fontsize=14)\n",
    "''';\n",
    "\n",
    "plt.savefig('../../Figures/SV/fuji_0pt_TFR_20230126.png', dpi=150)"
   ]
  },
  {
   "cell_type": "code",
   "execution_count": null,
   "id": "a62b2921-fa37-4d47-8ecd-3a4365d622cc",
   "metadata": {},
   "outputs": [],
   "source": []
  }
 ],
 "metadata": {
  "kernelspec": {
   "display_name": "DESI master",
   "language": "python",
   "name": "desi-master"
  },
  "language_info": {
   "codemirror_mode": {
    "name": "ipython",
    "version": 3
   },
   "file_extension": ".py",
   "mimetype": "text/x-python",
   "name": "python",
   "nbconvert_exporter": "python",
   "pygments_lexer": "ipython3",
   "version": "3.9.7"
  }
 },
 "nbformat": 4,
 "nbformat_minor": 5
}
