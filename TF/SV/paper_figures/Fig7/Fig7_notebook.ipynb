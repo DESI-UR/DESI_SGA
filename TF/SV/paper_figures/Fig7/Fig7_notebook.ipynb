{
 "cells": [
  {
   "cell_type": "markdown",
   "id": "a082b8d1-ef5b-4d94-80b7-360c549511f7",
   "metadata": {},
   "source": [
    "Example notebook to recreate Fig. 7 (calibrated TFR) for the EDR TF paper."
   ]
  },
  {
   "cell_type": "code",
   "execution_count": 1,
   "id": "c1d0088a-e5f5-4011-82b8-a9385a5d496a",
   "metadata": {},
   "outputs": [],
   "source": [
    "import numpy as np\n",
    "\n",
    "from astropy.io import fits\n",
    "\n",
    "import colorsys\n",
    "\n",
    "import matplotlib.pyplot as plt\n",
    "import matplotlib.colors as mc\n",
    "from matplotlib.patches import Ellipse"
   ]
  },
  {
   "cell_type": "markdown",
   "id": "b69e2975-7792-41db-ad7d-3ab8c69c2540",
   "metadata": {},
   "source": [
    "# Data\n",
    "\n",
    "## Galaxies"
   ]
  },
  {
   "cell_type": "code",
   "execution_count": 2,
   "id": "901b55ea-a996-4619-ab08-b3bc4eacb331",
   "metadata": {},
   "outputs": [],
   "source": [
    "hdul = fits.open('fig7_data.fits')\n",
    "\n",
    "cluster_gals = hdul[1].data\n",
    "zpt_gals = hdul[2].data\n",
    "\n",
    "hdul.close()"
   ]
  },
  {
   "cell_type": "code",
   "execution_count": 3,
   "id": "8c2c0db4-d5c6-4337-8022-66efaefd69b5",
   "metadata": {},
   "outputs": [],
   "source": [
    "data1 = [np.log10(cluster_gals['VROT']), cluster_gals['R_MAG']]\n",
    "x1_err = 0.434*cluster_gals['VROT_ERR']/cluster_gals['VROT']\n",
    "y1_err = cluster_gals['R_MAG_ERR']\n",
    "corr1_xy = np.zeros_like(x1_err)\n",
    "\n",
    "data2 = [np.log10(zpt_gals['VROT']), zpt_gals['R_ABSMAG']]\n",
    "x2_err = 0.434*zpt_gals['VROT_ERR']/zpt_gals['VROT']\n",
    "y2_err = zpt_gals['R_ABSMAG_ERR']\n",
    "corr2_xy = np.zeros_like(x2_err)"
   ]
  },
  {
   "cell_type": "markdown",
   "id": "8a7c0a71-dfe1-4232-b05f-f5b9d03d0cf7",
   "metadata": {},
   "source": [
    "## Calibrated TFR"
   ]
  },
  {
   "cell_type": "code",
   "execution_count": 4,
   "id": "dcd3a6b5-2ece-4047-a318-b9839ba742b8",
   "metadata": {},
   "outputs": [],
   "source": [
    "hdul = fits.open('../Fig8/fig8_data.fits')\n",
    "\n",
    "hdr = hdul[0].header\n",
    "mcmc_samples = hdul[0].data\n",
    "\n",
    "hdul.close()"
   ]
  },
  {
   "cell_type": "code",
   "execution_count": 5,
   "id": "110bcd26-da85-4793-a14d-bbab884e55f3",
   "metadata": {},
   "outputs": [],
   "source": [
    "logV0 = hdr['LOG_V0']\n",
    "\n",
    "m_fit = np.median(mcmc_samples[0])\n",
    "b_fit = np.median(mcmc_samples[1:3], axis=1)\n",
    "sig_fit = np.median(mcmc_samples[3:], axis=1)"
   ]
  },
  {
   "cell_type": "markdown",
   "id": "5e17a47c-b5e2-49ef-8eab-01f5ff8ddee9",
   "metadata": {},
   "source": [
    "# Plot"
   ]
  },
  {
   "cell_type": "markdown",
   "id": "d297bcca-6a2f-4f71-838a-fb256758b71f",
   "metadata": {},
   "source": [
    "## Define the line perpendicular to the calibration"
   ]
  },
  {
   "cell_type": "code",
   "execution_count": 6,
   "id": "39585b35-f9ca-4ee3-a250-e6081f796530",
   "metadata": {},
   "outputs": [],
   "source": [
    "logV_n17 = (-17 - b_fit[1])/m_fit + logV0\n",
    "b_perp = -17 + (logV_n17 - logV0)/m_fit\n",
    "\n",
    "\n",
    "xvals = np.linspace(0.5, 3., 1000)\n",
    "yvals = np.zeros((len(b_fit), len(xvals)))\n",
    "\n",
    "for i in range(len(b_fit)):\n",
    "    yvals[i] = m_fit * (xvals - logV0) + b_fit[i]\n",
    "    \n",
    "yvals_perp = -(xvals - logV0)/m_fit + (b_perp + b_fit[0] - b_fit[1])"
   ]
  },
  {
   "cell_type": "markdown",
   "id": "0cd3a679-c7af-4a62-b85a-3cae85eb018e",
   "metadata": {},
   "source": [
    "## Get the 1$\\sigma$ quantiles to plot with the fit"
   ]
  },
  {
   "cell_type": "code",
   "execution_count": 7,
   "id": "fad262a3-a6e5-4161-bae1-2e15a3e3703f",
   "metadata": {},
   "outputs": [],
   "source": [
    "y_chain1 = np.outer(xvals - logV0, mcmc_samples[0]) + mcmc_samples[1]\n",
    "y_chain1_quantiles = np.quantile(y_chain1, [0.1587, 0.8414], axis=1)\n",
    "\n",
    "y_chain2 = np.outer(xvals - logV0, mcmc_samples[0]) + mcmc_samples[2]\n",
    "y_chain2_quantiles = np.quantile(y_chain2, [0.1587, 0.8414], axis=1)"
   ]
  },
  {
   "cell_type": "markdown",
   "id": "64496d49-0741-40d3-bca4-e54b179c52df",
   "metadata": {},
   "source": [
    "## Generate error ellipses"
   ]
  },
  {
   "cell_type": "code",
   "execution_count": 8,
   "id": "f422ef72-826a-45c6-a553-0f86d0ddb3e4",
   "metadata": {},
   "outputs": [],
   "source": [
    "ells1 = [\n",
    "    Ellipse(\n",
    "        xy=[data1[0][i], data1[1][i]],\n",
    "        width=2*y1_err[i],\n",
    "        height=2*x1_err[i],\n",
    "        angle=np.rad2deg(np.arccos(corr1_xy[i])),\n",
    "    )\n",
    "    for i in range(len(data1[0]))\n",
    "]\n",
    "\n",
    "ells2 = [\n",
    "    Ellipse(\n",
    "        xy=[data2[0][i], data2[1][i]],\n",
    "        width=2*y2_err[i],\n",
    "        height=2*x2_err[i],\n",
    "        angle=np.rad2deg(np.arccos(corr2_xy[i])),\n",
    "    )\n",
    "    for i in range(len(data2[0]))\n",
    "]"
   ]
  },
  {
   "cell_type": "markdown",
   "id": "9255fefb-4c8a-4d4f-838a-dd0bf3af71d2",
   "metadata": {},
   "source": [
    "## Make the plot"
   ]
  },
  {
   "cell_type": "code",
   "execution_count": 9,
   "id": "ac7eb137-6fa1-4880-986e-736c764d755b",
   "metadata": {},
   "outputs": [],
   "source": [
    "def adjust_lightness(color, amount=0.5):\n",
    "    '''\n",
    "    Change the shade of the color.\n",
    "    \n",
    "    \n",
    "    PARAMETERS\n",
    "    ==========\n",
    "    \n",
    "    color : string or length-3 tuple\n",
    "        Matplotlib color name OR rgb tuple\n",
    "    \n",
    "    amount : float\n",
    "        Amount by which to lighten or darken the color.  Values < 1 will \n",
    "        return a darker shade, while values > 1 will return a lighter shade.  \n",
    "        Default is 0.5.\n",
    "    '''\n",
    "    \n",
    "    try:\n",
    "        c = mc.cnames[color]\n",
    "    except:\n",
    "        c = color\n",
    "    \n",
    "    c = colorsys.rgb_to_hls(*mc.to_rgb(c))\n",
    "    \n",
    "    return colorsys.hls_to_rgb(c[0], max(0, min(1, amount*c[1])), c[2])"
   ]
  },
  {
   "cell_type": "code",
   "execution_count": 10,
   "id": "f17bbb05-026e-47b8-a698-de43abcd6686",
   "metadata": {},
   "outputs": [
    {
     "data": {
      "image/png": "[encoded data removed]",
      "text/plain": [
       "<Figure size 400x480 with 2 Axes>"
      ]
     },
     "metadata": {},
     "output_type": "display_data"
    }
   ],
   "source": [
    "fig, (ax1, ax2) = plt.subplots(2, \n",
    "                               figsize=(4,4.8), \n",
    "                               tight_layout=True, \n",
    "                               sharex=True, \n",
    "                               height_ratios=[3, 5])\n",
    "\n",
    "################################################################################\n",
    "# Coma\n",
    "#-------------------------------------------------------------------------------\n",
    "# Dwarf region\n",
    "ax2.fill_between(xvals, \n",
    "                 yvals_perp, \n",
    "                 18, \n",
    "                 color='gainsboro')\n",
    "\n",
    "# Calibrated TFR uncertainty\n",
    "ax2.fill_between(xvals, \n",
    "                 y_chain1_quantiles[0], \n",
    "                 y_chain1_quantiles[1], \n",
    "                 color=\"darkgray\")\n",
    "\n",
    "# Calibrated TFR w/ Coma intercept\n",
    "ax2.plot(xvals, yvals[0], \"k\", lw=1.3)\n",
    "ax2.plot(xvals, yvals[0] - sig_fit[0], \"k--\", lw=1.3)\n",
    "ax2.plot(xvals, yvals[0] + sig_fit[0], \"k--\", lw=1.3)\n",
    "\n",
    "# Uncertainty ellipses for Coma galaxies\n",
    "for i, e in enumerate(ells1):\n",
    "    ax2.add_artist(e)\n",
    "    e.set_color(adjust_lightness('tab:blue', amount=1.75))\n",
    "\n",
    "# Coma galaxies\n",
    "ax2.plot(data1[0], data1[1], 'x', label='Coma ({} galaxies)'.format(len(data1[0])))\n",
    "\n",
    "ax2.set_xlabel(r\"$\\log{(V(0.33R_{26}) [\\mathrm{km/s}])}$\", fontsize=14)\n",
    "ax2.set_ylabel(r\"$m_r^{0.05}(26)$\", fontsize=14)\n",
    "\n",
    "ax2.legend(loc='upper left')\n",
    "\n",
    "ax2.set_xlim(0.5, 3)\n",
    "ax2.set_ylim(17.5, 12)\n",
    "################################################################################\n",
    "\n",
    "\n",
    "################################################################################\n",
    "# 0-pt calibrators\n",
    "#-------------------------------------------------------------------------------\n",
    "# Calibrated TFR uncertainty\n",
    "ax1.fill_between(xvals, \n",
    "                 y_chain2_quantiles[0], \n",
    "                 y_chain2_quantiles[1], \n",
    "                 color='darkgray')\n",
    "\n",
    "# Calibrated TFR\n",
    "ax1.plot(xvals, yvals[1], 'k', lw=1.3)\n",
    "\n",
    "for i, e in enumerate(ells2):\n",
    "    ax1.add_artist(e)\n",
    "    e.set_facecolor(adjust_lightness('tab:orange', amount=1.25))\n",
    "    \n",
    "ax1.plot(data2[0], data2[1], 'x', c='tab:orange', \n",
    "         label='0-pt ({} galaxies)'.format(len(data2[0])))\n",
    "\n",
    "ax1.set_ylabel(r'$M_r^{0.05} (26) - 5\\log h$', fontsize=14)\n",
    "\n",
    "ax1.legend(loc='upper left')\n",
    "\n",
    "ax1.set_ylim(-19.5, -23);\n",
    "################################################################################"
   ]
  },
  {
   "cell_type": "code",
   "execution_count": null,
   "id": "de0cd942-6462-41f7-acdd-80ee6ea459cb",
   "metadata": {},
   "outputs": [],
   "source": []
  }
 ],
 "metadata": {
  "kernelspec": {
   "display_name": "DESI main",
   "language": "python",
   "name": "desi-main"
  },
  "language_info": {
   "codemirror_mode": {
    "name": "ipython",
    "version": 3
   },
   "file_extension": ".py",
   "mimetype": "text/x-python",
   "name": "python",
   "nbconvert_exporter": "python",
   "pygments_lexer": "ipython3",
   "version": "3.10.14"
  }
 },
 "nbformat": 4,
 "nbformat_minor": 5
}
