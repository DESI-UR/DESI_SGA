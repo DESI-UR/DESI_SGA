{
 "cells": [
  {
   "cell_type": "markdown",
   "id": "9abddd35-00ce-45ec-ad51-86b9deb9a781",
   "metadata": {},
   "source": [
    "Fit for the zero-point of the TFR, using the slope as calibrated from the Coma cluster in the `Coma-Fuji_KAD.ipynb` notebook."
   ]
  },
  {
   "cell_type": "code",
   "execution_count": 1,
   "id": "ef1b64bd-f206-45dd-b7be-471abe5617ee",
   "metadata": {},
   "outputs": [],
   "source": [
    "import numpy as np\n",
    "\n",
    "from astropy.table import Table\n",
    "from astropy.coordinates import SkyCoord\n",
    "from astropy import units as u\n",
    "from astropy.visualization.wcsaxes import SphericalCircle\n",
    "\n",
    "from scipy.optimize import minimize\n",
    "\n",
    "from hyperfit.linfit import LinFit\n",
    "\n",
    "import matplotlib as mpl\n",
    "import matplotlib.pyplot as plt\n",
    "from matplotlib.patches import Ellipse\n",
    "\n",
    "from VI_functions import get_cutout"
   ]
  },
  {
   "cell_type": "code",
   "execution_count": 2,
   "id": "5cb2bc5f-b79e-4b0d-8ab3-04ebe522d738",
   "metadata": {},
   "outputs": [],
   "source": [
    "h = 1\n",
    "H0 = 100*h\n",
    "\n",
    "c = 3e5\n",
    "\n",
    "q0 = 0.2"
   ]
  },
  {
   "cell_type": "markdown",
   "id": "6ea8259d-aba3-43b4-b6c9-4da39367c6ff",
   "metadata": {},
   "source": [
    "# Data\n",
    "\n",
    "## fuji"
   ]
  },
  {
   "cell_type": "code",
   "execution_count": 3,
   "id": "5dc7ea8d-aa5d-4240-b624-6131acd32697",
   "metadata": {},
   "outputs": [
    {
     "data": {
      "text/html": [
       "<div><i>Table length=5</i>\n",
       "<table id=\"table23453690181904\" class=\"table-striped table-bordered table-condensed\">\n",
       "<thead><tr><th>TARGETID</th><th>TARGET_RA</th><th>TARGET_DEC</th><th>HEALPIX</th><th>SURVEY</th><th>Z</th><th>ZERR</th><th>ZWARN</th><th>DELTACHI2</th><th>FILENAME</th><th>PVTYPE</th><th>SGA_ID</th><th>RA</th><th>DEC</th></tr></thead>\n",
       "<thead><tr><th>int64</th><th>float64</th><th>float64</th><th>int64</th><th>bytes3</th><th>float64</th><th>float64</th><th>int64</th><th>float64</th><th>bytes63</th><th>bytes3</th><th>int64</th><th>float64</th><th>float64</th></tr></thead>\n",
       "<tr><td>1079550234591232</td><td>194.390863195343</td><td>27.5157211790145</td><td>10378</td><td>sv3</td><td>1.1235686466514</td><td>7.31685779475115e-05</td><td>4</td><td>3.28414569795132</td><td>fuji/healpix/sv3/bright/103/10378/redrock-sv3-bright-10378.fits</td><td>EXT</td><td>662902</td><td>194.39086319534337</td><td>27.51572117901454</td></tr>\n",
       "<tr><td>1092744374124544</td><td>194.390863195343</td><td>27.5157211790145</td><td>10378</td><td>sv3</td><td>0.686773088332363</td><td>6.9756676262104e-05</td><td>4</td><td>0.786607094109058</td><td>fuji/healpix/sv3/dark/103/10378/redrock-sv3-dark-10378.fits</td><td>EXT</td><td>662902</td><td>194.39086319534337</td><td>27.51572117901454</td></tr>\n",
       "<tr><td>1092744374124546</td><td>194.364461113654</td><td>27.5037185881314</td><td>10378</td><td>sv3</td><td>0.0242933923052181</td><td>4.95233472646785e-05</td><td>0</td><td>95.428411073226</td><td>fuji/healpix/sv3/dark/103/10378/redrock-sv3-dark-10378.fits</td><td>EXT</td><td>662902</td><td>194.36446111365385</td><td>27.50371858813136</td></tr>\n",
       "<tr><td>1092744369930240</td><td>194.338458724402</td><td>27.4918902690326</td><td>10378</td><td>sv3</td><td>0.0264170223697961</td><td>0.00010139452689994</td><td>0</td><td>9.53278421035066</td><td>fuji/healpix/sv3/dark/103/10378/redrock-sv3-dark-10378.fits</td><td>EXT</td><td>662902</td><td>194.33845872440244</td><td>27.491890269032595</td></tr>\n",
       "<tr><td>1092744374124545</td><td>194.377858465028</td><td>27.5098100780282</td><td>10378</td><td>sv3</td><td>0.211332646769145</td><td>6.68535116703737e-05</td><td>4</td><td>3.73989077657461</td><td>fuji/healpix/sv3/dark/103/10378/redrock-sv3-dark-10378.fits</td><td>EXT</td><td>662902</td><td>194.3778584650283</td><td>27.509810078028195</td></tr>\n",
       "</table></div>"
      ],
      "text/plain": [
       "<Table length=5>\n",
       "    TARGETID        TARGET_RA     ...         RA                DEC        \n",
       "     int64           float64      ...      float64            float64      \n",
       "---------------- ---------------- ... ------------------ ------------------\n",
       "1079550234591232 194.390863195343 ... 194.39086319534337  27.51572117901454\n",
       "1092744374124544 194.390863195343 ... 194.39086319534337  27.51572117901454\n",
       "1092744374124546 194.364461113654 ... 194.36446111365385  27.50371858813136\n",
       "1092744369930240 194.338458724402 ... 194.33845872440244 27.491890269032595\n",
       "1092744374124545 194.377858465028 ...  194.3778584650283 27.509810078028195"
      ]
     },
     "execution_count": 3,
     "metadata": {},
     "output_type": "execute_result"
    }
   ],
   "source": [
    "tfuji = Table.read('/global/project/projectdirs/desi/science/td/pv/desi_pv_tf_fuji_healpix.fits')\n",
    "tfuji[:5]"
   ]
  },
  {
   "cell_type": "markdown",
   "id": "4e981ee8-1989-464a-93c9-eee353d965b3",
   "metadata": {},
   "source": [
    "### Separate fuji data into center and off-center observations"
   ]
  },
  {
   "cell_type": "code",
   "execution_count": 4,
   "id": "3f1618ed-27a9-4655-a1de-6151e8571823",
   "metadata": {},
   "outputs": [],
   "source": [
    "def firstdigit(n):\n",
    "    \"\"\"\n",
    "    Return the first digit of a number.\n",
    "    \n",
    "    Parameters\n",
    "    ----------\n",
    "    n : int, float, or ndarray\n",
    "        Number or list of numbers.\n",
    "    \n",
    "    Returns\n",
    "    -------\n",
    "    digit : int\n",
    "        First digit of the number.\n",
    "    \"\"\"\n",
    "    \n",
    "    digit = np.trunc(n * 10**(-np.trunc(np.log10(n)))).astype(int)\n",
    "    \n",
    "    return digit"
   ]
  },
  {
   "cell_type": "code",
   "execution_count": 5,
   "id": "c90de566-c693-4181-bccc-3896cb3885fb",
   "metadata": {},
   "outputs": [
    {
     "name": "stderr",
     "output_type": "stream",
     "text": [
      "/tmp/ipykernel_63435/917620242.py:16: RuntimeWarning: invalid value encountered in log10\n",
      "  digit = np.trunc(n * 10**(-np.trunc(np.log10(n)))).astype(int)\n"
     ]
    }
   ],
   "source": [
    "first_digits = firstdigit(tfuji['TARGETID'])\n",
    "\n",
    "fuji_centers = tfuji[first_digits == 3]\n",
    "fuji_axis = tfuji[first_digits != 3]"
   ]
  },
  {
   "cell_type": "markdown",
   "id": "62bf2ab2-377d-405c-8f6f-77e3453e72f6",
   "metadata": {},
   "source": [
    "### Clean the fuji center observations\n",
    "\n",
    "Only keep those with\n",
    " * DELTACHI2 > 25\n",
    " * ZWARN == 0"
   ]
  },
  {
   "cell_type": "code",
   "execution_count": 6,
   "id": "70cb1048-631d-4563-a6e3-a9b122165fba",
   "metadata": {},
   "outputs": [],
   "source": [
    "good_centers = fuji_centers[(fuji_centers['DELTACHI2'] > 25) & (fuji_centers['ZWARN'] == 0)]"
   ]
  },
  {
   "cell_type": "markdown",
   "id": "a0e65884-dd57-4c83-b33b-4c613ae5acbf",
   "metadata": {},
   "source": [
    "## SGA\n",
    "\n",
    "Read in our version of the SGA that includes distances from the Extragalactic Distance Database.  (This file was made with the `data_match.ipynb` notebook.)"
   ]
  },
  {
   "cell_type": "code",
   "execution_count": 7,
   "id": "5ed1a339-29cd-4443-90f5-4fcf291e9a3b",
   "metadata": {},
   "outputs": [
    {
     "data": {
      "text/html": [
       "<div><i>Table length=5</i>\n",
       "<table id=\"table23456079826080\" class=\"table-striped table-bordered table-condensed\">\n",
       "<thead><tr><th>SGA_ID</th><th>SGA_GALAXY</th><th>GALAXY</th><th>PGC</th><th>RA_LEDA</th><th>DEC_LEDA</th><th>MORPHTYPE</th><th>PA_LEDA</th><th>D25_LEDA</th><th>BA_LEDA</th><th>Z_LEDA</th><th>SB_D25_LEDA</th><th>MAG_LEDA</th><th>BYHAND</th><th>REF</th><th>GROUP_ID</th><th>GROUP_NAME</th><th>GROUP_MULT</th><th>GROUP_PRIMARY</th><th>GROUP_RA</th><th>GROUP_DEC</th><th>GROUP_DIAMETER</th><th>BRICKNAME</th><th>RA</th><th>DEC</th><th>D26</th><th>D26_REF</th><th>PA</th><th>BA</th><th>RA_MOMENT</th><th>DEC_MOMENT</th><th>SMA_MOMENT</th><th>G_SMA50</th><th>R_SMA50</th><th>Z_SMA50</th><th>SMA_SB22</th><th>SMA_SB22.5</th><th>SMA_SB23</th><th>SMA_SB23.5</th><th>SMA_SB24</th><th>SMA_SB24.5</th><th>SMA_SB25</th><th>SMA_SB25.5</th><th>SMA_SB26</th><th>G_MAG_SB22</th><th>R_MAG_SB22</th><th>Z_MAG_SB22</th><th>G_MAG_SB22.5</th><th>R_MAG_SB22.5</th><th>Z_MAG_SB22.5</th><th>G_MAG_SB23</th><th>R_MAG_SB23</th><th>Z_MAG_SB23</th><th>G_MAG_SB23.5</th><th>R_MAG_SB23.5</th><th>Z_MAG_SB23.5</th><th>G_MAG_SB24</th><th>R_MAG_SB24</th><th>Z_MAG_SB24</th><th>G_MAG_SB24.5</th><th>R_MAG_SB24.5</th><th>Z_MAG_SB24.5</th><th>G_MAG_SB25</th><th>R_MAG_SB25</th><th>Z_MAG_SB25</th><th>G_MAG_SB25.5</th><th>R_MAG_SB25.5</th><th>Z_MAG_SB25.5</th><th>G_MAG_SB26</th><th>R_MAG_SB26</th><th>Z_MAG_SB26</th><th>SMA_SB22_ERR</th><th>SMA_SB22.5_ERR</th><th>SMA_SB23_ERR</th><th>SMA_SB23.5_ERR</th><th>SMA_SB24_ERR</th><th>SMA_SB24.5_ERR</th><th>SMA_SB25_ERR</th><th>SMA_SB25.5_ERR</th><th>SMA_SB26_ERR</th><th>G_MAG_SB22_ERR</th><th>R_MAG_SB22_ERR</th><th>Z_MAG_SB22_ERR</th><th>G_MAG_SB22.5_ERR</th><th>R_MAG_SB22.5_ERR</th><th>Z_MAG_SB22.5_ERR</th><th>G_MAG_SB23_ERR</th><th>R_MAG_SB23_ERR</th><th>Z_MAG_SB23_ERR</th><th>G_MAG_SB23.5_ERR</th><th>R_MAG_SB23.5_ERR</th><th>Z_MAG_SB23.5_ERR</th><th>G_MAG_SB24_ERR</th><th>R_MAG_SB24_ERR</th><th>Z_MAG_SB24_ERR</th><th>G_MAG_SB24.5_ERR</th><th>R_MAG_SB24.5_ERR</th><th>Z_MAG_SB24.5_ERR</th><th>G_MAG_SB25_ERR</th><th>R_MAG_SB25_ERR</th><th>Z_MAG_SB25_ERR</th><th>G_MAG_SB25.5_ERR</th><th>R_MAG_SB25.5_ERR</th><th>Z_MAG_SB25.5_ERR</th><th>G_MAG_SB26_ERR</th><th>R_MAG_SB26_ERR</th><th>Z_MAG_SB26_ERR</th><th>G_COG_PARAMS_MTOT</th><th>G_COG_PARAMS_M0</th><th>G_COG_PARAMS_ALPHA1</th><th>G_COG_PARAMS_ALPHA2</th><th>G_COG_PARAMS_CHI2</th><th>R_COG_PARAMS_MTOT</th><th>R_COG_PARAMS_M0</th><th>R_COG_PARAMS_ALPHA1</th><th>R_COG_PARAMS_ALPHA2</th><th>R_COG_PARAMS_CHI2</th><th>Z_COG_PARAMS_MTOT</th><th>Z_COG_PARAMS_M0</th><th>Z_COG_PARAMS_ALPHA1</th><th>Z_COG_PARAMS_ALPHA2</th><th>Z_COG_PARAMS_CHI2</th><th>ELLIPSEBIT</th><th>DM_Stellar</th><th>e_DM_lo_Stellar</th><th>e_DM_hi_Stellar</th><th>Stellar_Catalog</th><th>DM1_SN</th><th>e_DM1_SN</th><th>DM2_SN</th><th>e_DM2_SN</th><th>DM3_SN</th><th>e_DM3_SN</th><th>DM4_SN</th><th>e_DM4_SN</th><th>DM5_SN</th><th>e_DM5_SN</th><th>DM6_SN</th><th>e_DM6_SN</th><th>DM7_SN</th><th>e_DM7_SN</th><th>SN_Catalog</th></tr></thead>\n",
       "<thead><tr><th>int64</th><th>bytes16</th><th>bytes29</th><th>int64</th><th>float64</th><th>float64</th><th>bytes21</th><th>float32</th><th>float32</th><th>float32</th><th>float32</th><th>float32</th><th>float32</th><th>bool</th><th>bytes13</th><th>int64</th><th>bytes35</th><th>int16</th><th>bool</th><th>float64</th><th>float64</th><th>float32</th><th>bytes8</th><th>float64</th><th>float64</th><th>float32</th><th>bytes4</th><th>float32</th><th>float32</th><th>float64</th><th>float64</th><th>float32</th><th>float32</th><th>float32</th><th>float32</th><th>float32</th><th>float32</th><th>float32</th><th>float32</th><th>float32</th><th>float32</th><th>float32</th><th>float32</th><th>float32</th><th>float32</th><th>float32</th><th>float32</th><th>float32</th><th>float32</th><th>float32</th><th>float32</th><th>float32</th><th>float32</th><th>float32</th><th>float32</th><th>float32</th><th>float32</th><th>float32</th><th>float32</th><th>float32</th><th>float32</th><th>float32</th><th>float32</th><th>float32</th><th>float32</th><th>float32</th><th>float32</th><th>float32</th><th>float32</th><th>float32</th><th>float32</th><th>float32</th><th>float32</th><th>float32</th><th>float32</th><th>float32</th><th>float32</th><th>float32</th><th>float32</th><th>float32</th><th>float32</th><th>float32</th><th>float32</th><th>float32</th><th>float32</th><th>float32</th><th>float32</th><th>float32</th><th>float32</th><th>float32</th><th>float32</th><th>float32</th><th>float32</th><th>float32</th><th>float32</th><th>float32</th><th>float32</th><th>float32</th><th>float32</th><th>float32</th><th>float32</th><th>float32</th><th>float32</th><th>float32</th><th>float32</th><th>float32</th><th>float32</th><th>float32</th><th>float32</th><th>float32</th><th>float32</th><th>float32</th><th>float32</th><th>float32</th><th>float32</th><th>float32</th><th>float32</th><th>float32</th><th>float32</th><th>float32</th><th>float32</th><th>float32</th><th>int32</th><th>float64</th><th>float64</th><th>float64</th><th>bytes14</th><th>float64</th><th>float64</th><th>float64</th><th>float64</th><th>float64</th><th>float64</th><th>float64</th><th>float64</th><th>float64</th><th>float64</th><th>float64</th><th>int64</th><th>float64</th><th>int64</th><th>bytes25</th></tr></thead>\n",
       "<tr><td>5002480</td><td>SGA-2020 5002480</td><td>DR8-2837p402-5033</td><td>-1</td><td>283.619631436471</td><td>40.3162008554537</td><td>DEV</td><td>178.80934</td><td>0.54342</td><td>0.3166</td><td>-1.0</td><td>24.29036</td><td>16.9862</td><td>False</td><td>DR8</td><td>530781</td><td>DR8-2837p402-5033</td><td>1</td><td>True</td><td>283.619631436471</td><td>40.3162008554537</td><td>0.54342</td><td>2837p402</td><td>283.6196056669463</td><td>40.316337272867564</td><td>0.53864765</td><td>SB26</td><td>179.53694</td><td>0.3690244</td><td>283.6194583471782</td><td>40.31653379127378</td><td>11.641381</td><td>11.157478</td><td>8.614751</td><td>9.8993</td><td>1.6142721</td><td>3.685578</td><td>5.5844307</td><td>7.701021</td><td>9.878292</td><td>11.927793</td><td>13.400182</td><td>14.697571</td><td>16.15943</td><td>21.37251</td><td>20.373438</td><td>19.779512</td><td>19.920574</td><td>19.005274</td><td>18.41066</td><td>19.314016</td><td>18.435898</td><td>17.843414</td><td>18.922651</td><td>18.076838</td><td>17.494484</td><td>18.664383</td><td>17.833265</td><td>17.25879</td><td>18.496494</td><td>17.682926</td><td>17.106598</td><td>18.404135</td><td>17.605488</td><td>17.02742</td><td>18.332602</td><td>17.555883</td><td>16.971588</td><td>18.299273</td><td>17.52499</td><td>16.931496</td><td>0.04933311</td><td>0.065890566</td><td>0.09742977</td><td>0.10495926</td><td>0.1614855</td><td>0.27832195</td><td>0.15179653</td><td>0.13904023</td><td>0.20484819</td><td>0.041657884</td><td>0.06669066</td><td>0.06785251</td><td>0.038538612</td><td>0.049561314</td><td>0.05101378</td><td>0.03635901</td><td>0.041818976</td><td>0.042013034</td><td>0.03367074</td><td>0.03763669</td><td>0.03705858</td><td>0.03122176</td><td>0.03420294</td><td>0.033616345</td><td>0.029198052</td><td>0.031941395</td><td>0.031132452</td><td>0.028080799</td><td>0.030865192</td><td>0.029955743</td><td>0.02722575</td><td>0.030135926</td><td>0.029090546</td><td>0.026788738</td><td>0.02959205</td><td>0.028436601</td><td>17.799881</td><td>1.3952494</td><td>0.83855844</td><td>1.4560318</td><td>0.5604667</td><td>17.200954</td><td>1.0272083</td><td>0.8301853</td><td>1.7677885</td><td>0.4513309</td><td>16.501709</td><td>1.3551984</td><td>0.73172045</td><td>1.4457989</td><td>0.2076136</td><td>0</td><td>-1.0</td><td>-1.0</td><td>-1.0</td><td>-1</td><td>-1.0</td><td>-1.0</td><td>-1.0</td><td>-1.0</td><td>-1.0</td><td>-1.0</td><td>-1.0</td><td>-1.0</td><td>-1.0</td><td>-1.0</td><td>-1.0</td><td>-1</td><td>-1.0</td><td>-1</td><td>-1</td></tr>\n",
       "<tr><td>5001021</td><td>SGA-2020 5001021</td><td>DR8-1908m035-1012</td><td>-1</td><td>190.9800024746678</td><td>-3.5794970532047348</td><td>COMP</td><td>179.36131</td><td>0.3128912</td><td>0.24235067</td><td>-1.0</td><td>24.242153</td><td>18.136705</td><td>False</td><td>DR8</td><td>529592</td><td>DR8-1908m035-1012</td><td>1</td><td>True</td><td>190.9800024746678</td><td>-3.5794970532047348</td><td>0.3128912</td><td>1908m035</td><td>190.98001150850953</td><td>-3.579504558185747</td><td>0.46029893</td><td>SB26</td><td>179.9099</td><td>0.28135264</td><td>190.97993904058112</td><td>-3.579486477891515</td><td>10.782479</td><td>5.303919</td><td>4.890181</td><td>4.648955</td><td>2.60227</td><td>3.9949758</td><td>5.3321157</td><td>6.6193404</td><td>7.9617677</td><td>9.334041</td><td>10.651372</td><td>11.945739</td><td>13.808968</td><td>20.83302</td><td>19.559025</td><td>18.527628</td><td>20.186102</td><td>18.948116</td><td>17.962463</td><td>19.839163</td><td>18.616032</td><td>17.664757</td><td>19.622812</td><td>18.415947</td><td>17.48664</td><td>19.488094</td><td>18.284103</td><td>17.36675</td><td>19.393885</td><td>18.19177</td><td>17.285147</td><td>19.328535</td><td>18.133291</td><td>17.231174</td><td>19.276346</td><td>18.095415</td><td>17.194038</td><td>19.23636</td><td>18.059212</td><td>17.159449</td><td>0.056616735</td><td>0.075659014</td><td>0.06408011</td><td>0.099823594</td><td>0.1106942</td><td>0.12681642</td><td>0.15963246</td><td>0.18908575</td><td>0.21659172</td><td>0.08466007</td><td>0.08730868</td><td>0.101774946</td><td>0.06604131</td><td>0.06827165</td><td>0.07746673</td><td>0.05750298</td><td>0.058578383</td><td>0.065898776</td><td>0.051398903</td><td>0.052755173</td><td>0.059088793</td><td>0.04776679</td><td>0.04883277</td><td>0.054615494</td><td>0.04498737</td><td>0.045983624</td><td>0.051455963</td><td>0.043144915</td><td>0.044076666</td><td>0.04933408</td><td>0.041449923</td><td>0.042814855</td><td>0.04784726</td><td>0.04055538</td><td>0.041601818</td><td>0.046518978</td><td>19.089306</td><td>0.93604577</td><td>0.32930735</td><td>2.0837493</td><td>0.033988953</td><td>17.95537</td><td>0.69882125</td><td>0.34296194</td><td>2.419169</td><td>0.011013919</td><td>17.04538</td><td>0.77790314</td><td>0.31191626</td><td>2.1598706</td><td>0.0056849383</td><td>0</td><td>-1.0</td><td>-1.0</td><td>-1.0</td><td>-1</td><td>-1.0</td><td>-1.0</td><td>-1.0</td><td>-1.0</td><td>-1.0</td><td>-1.0</td><td>-1.0</td><td>-1.0</td><td>-1.0</td><td>-1.0</td><td>-1.0</td><td>-1</td><td>-1.0</td><td>-1</td><td>-1</td></tr>\n",
       "<tr><td>5001019</td><td>SGA-2020 5001019</td><td>DR8-1470m035-1174</td><td>-1</td><td>147.1427386432192</td><td>-3.5532245640806046</td><td>DEV</td><td>163.838</td><td>0.5674898</td><td>0.30485216</td><td>-1.0</td><td>24.155874</td><td>16.757603</td><td>False</td><td>DR8</td><td>529591</td><td>DR8-1470m035-1174</td><td>1</td><td>True</td><td>147.1427386432192</td><td>-3.5532245640806046</td><td>0.5674898</td><td>1470m035</td><td>147.14273636886824</td><td>-3.5532311036249844</td><td>0.7089864</td><td>SB26</td><td>160.56161</td><td>0.33515733</td><td>147.14265663750427</td><td>-3.5531612954610043</td><td>14.189667</td><td>9.06656</td><td>8.473093</td><td>8.114043</td><td>2.9450347</td><td>4.695773</td><td>6.643506</td><td>8.666231</td><td>10.949383</td><td>13.340206</td><td>15.799134</td><td>18.415377</td><td>21.269592</td><td>19.91953</td><td>19.158825</td><td>18.614452</td><td>19.193794</td><td>18.477886</td><td>17.962807</td><td>18.734055</td><td>18.061895</td><td>17.589006</td><td>18.418203</td><td>17.784187</td><td>17.351715</td><td>18.193169</td><td>17.586119</td><td>17.181166</td><td>18.049446</td><td>17.457943</td><td>17.058641</td><td>17.934223</td><td>17.35795</td><td>16.969753</td><td>17.857323</td><td>17.293016</td><td>16.908016</td><td>17.810745</td><td>17.246443</td><td>16.876032</td><td>0.0614563</td><td>0.089195475</td><td>0.10060314</td><td>0.15540995</td><td>0.17048688</td><td>0.21389666</td><td>0.16420007</td><td>0.25362244</td><td>0.3022587</td><td>0.06389988</td><td>0.06969084</td><td>0.07839319</td><td>0.048208438</td><td>0.052888487</td><td>0.05885825</td><td>0.040130075</td><td>0.044280488</td><td>0.050095942</td><td>0.034714546</td><td>0.038774274</td><td>0.045435317</td><td>0.031042166</td><td>0.03483406</td><td>0.04135831</td><td>0.028832838</td><td>0.032055207</td><td>0.038155198</td><td>0.026886987</td><td>0.02992059</td><td>0.035833754</td><td>0.025639897</td><td>0.028576324</td><td>0.0342623</td><td>0.024892407</td><td>0.0275924</td><td>0.03357749</td><td>17.619846</td><td>0.81239957</td><td>1.2436428</td><td>2.0833044</td><td>0.20735413</td><td>17.052032</td><td>0.9099892</td><td>0.94688904</td><td>1.8497639</td><td>0.08836478</td><td>16.648832</td><td>1.2052153</td><td>0.6299481</td><td>1.5293403</td><td>0.22791538</td><td>0</td><td>-1.0</td><td>-1.0</td><td>-1.0</td><td>-1</td><td>-1.0</td><td>-1.0</td><td>-1.0</td><td>-1.0</td><td>-1.0</td><td>-1.0</td><td>-1.0</td><td>-1.0</td><td>-1.0</td><td>-1.0</td><td>-1.0</td><td>-1</td><td>-1.0</td><td>-1</td><td>-1</td></tr>\n",
       "<tr><td>5001018</td><td>SGA-2020 5001018</td><td>DR8-0589m035-1107</td><td>-1</td><td>58.96747523203085</td><td>-3.5768978632702404</td><td>DEV</td><td>73.886986</td><td>0.52344257</td><td>0.34322816</td><td>-1.0</td><td>24.649805</td><td>17.42698</td><td>False</td><td>DR8</td><td>529590</td><td>DR8-0589m035-1107</td><td>1</td><td>True</td><td>58.96747523203085</td><td>-3.5768978632702404</td><td>0.52344257</td><td>0589m035</td><td>58.96746266894446</td><td>-3.576904154158203</td><td>0.59405684</td><td>SB26</td><td>63.708275</td><td>0.3470738</td><td>58.9673521194436</td><td>-3.5767996362730665</td><td>11.532074</td><td>27.796232</td><td>27.457575</td><td>28.267866</td><td>0.7578961</td><td>2.1168416</td><td>3.5769458</td><td>5.265746</td><td>7.4217663</td><td>9.982045</td><td>12.871645</td><td>15.379495</td><td>17.821705</td><td>22.57269</td><td>22.104053</td><td>21.428228</td><td>20.81164</td><td>20.299337</td><td>19.70747</td><td>20.117699</td><td>19.549505</td><td>19.008604</td><td>19.679396</td><td>19.085209</td><td>18.57469</td><td>19.323883</td><td>18.728365</td><td>18.230927</td><td>19.041245</td><td>18.443516</td><td>17.964779</td><td>18.827599</td><td>18.226679</td><td>17.773859</td><td>18.679247</td><td>18.097006</td><td>17.654163</td><td>18.569975</td><td>17.998594</td><td>17.559578</td><td>0.028430318</td><td>0.053442895</td><td>0.06005233</td><td>0.086550556</td><td>0.121798776</td><td>0.18367727</td><td>0.19650374</td><td>0.2090271</td><td>0.23993549</td><td>0.10603312</td><td>0.13668293</td><td>0.12814379</td><td>0.09004501</td><td>0.09114922</td><td>0.110184155</td><td>0.06574117</td><td>0.0649464</td><td>0.079305</td><td>0.05130527</td><td>0.050389685</td><td>0.061386514</td><td>0.041397545</td><td>0.041069187</td><td>0.049383085</td><td>0.0353218</td><td>0.035057936</td><td>0.04168752</td><td>0.03146701</td><td>0.031024022</td><td>0.03684285</td><td>0.028985405</td><td>0.028910374</td><td>0.034214094</td><td>0.027220415</td><td>0.027361887</td><td>0.03217761</td><td>17.569975</td><td>2.6201665</td><td>0.74379516</td><td>0.78689593</td><td>1.3501529</td><td>16.998594</td><td>3.0956852</td><td>0.5915868</td><td>0.7576835</td><td>0.20765956</td><td>16.559578</td><td>3.5662844</td><td>0.48402628</td><td>0.6955706</td><td>0.049795065</td><td>0</td><td>-1.0</td><td>-1.0</td><td>-1.0</td><td>-1</td><td>-1.0</td><td>-1.0</td><td>-1.0</td><td>-1.0</td><td>-1.0</td><td>-1.0</td><td>-1.0</td><td>-1.0</td><td>-1.0</td><td>-1.0</td><td>-1.0</td><td>-1</td><td>-1.0</td><td>-1</td><td>-1</td></tr>\n",
       "<tr><td>5001000</td><td>SGA-2020 5001000</td><td>DR8-1538m040-5309</td><td>-1</td><td>153.87604470973113</td><td>-3.8952396741736623</td><td>COMP</td><td>151.75539</td><td>0.46971816</td><td>0.2265234</td><td>-1.0</td><td>25.694304</td><td>18.706636</td><td>False</td><td>DR8</td><td>529574</td><td>DR8-1538m040-5309</td><td>1</td><td>True</td><td>153.87604470973113</td><td>-3.8952396741736623</td><td>0.46971816</td><td>1538m040</td><td>153.87605812641382</td><td>-3.8952553120545</td><td>0.3222142</td><td>SB26</td><td>152.51593</td><td>0.38030738</td><td>153.8760096166066</td><td>-3.8952074506049206</td><td>6.2858515</td><td>6.9679866</td><td>5.937727</td><td>6.803102</td><td>-1.0</td><td>0.611838</td><td>1.5926635</td><td>3.1050522</td><td>4.296284</td><td>5.648387</td><td>6.922032</td><td>8.273097</td><td>9.666426</td><td>-1.0</td><td>-1.0</td><td>-1.0</td><td>23.549822</td><td>23.031054</td><td>22.773083</td><td>21.688038</td><td>21.237814</td><td>20.977982</td><td>20.6481</td><td>20.239336</td><td>20.017353</td><td>20.216105</td><td>19.841602</td><td>19.639183</td><td>19.916332</td><td>19.567436</td><td>19.359243</td><td>19.737143</td><td>19.404419</td><td>19.195152</td><td>19.599789</td><td>19.276</td><td>19.082033</td><td>19.506786</td><td>19.204313</td><td>18.991358</td><td>-1.0</td><td>0.021907173</td><td>0.059276454</td><td>0.058691014</td><td>0.07300099</td><td>0.09429353</td><td>0.13673161</td><td>0.13662857</td><td>0.15687384</td><td>-1.0</td><td>-1.0</td><td>-1.0</td><td>0.06336523</td><td>0.03895847</td><td>0.092741065</td><td>0.06610604</td><td>0.070476234</td><td>0.082297616</td><td>0.05458867</td><td>0.05844559</td><td>0.06285622</td><td>0.048253395</td><td>0.05195508</td><td>0.053528924</td><td>0.043112114</td><td>0.04649149</td><td>0.047446106</td><td>0.039647266</td><td>0.04261088</td><td>0.04318384</td><td>0.03672966</td><td>0.03996569</td><td>0.041731343</td><td>0.034884803</td><td>0.03854299</td><td>0.04003972</td><td>18.981636</td><td>1.5777819</td><td>0.37279877</td><td>1.3685343</td><td>0.17616904</td><td>18.774378</td><td>1.4497702</td><td>0.32173964</td><td>1.4371084</td><td>0.1582937</td><td>18.463694</td><td>1.8066257</td><td>0.32254803</td><td>1.2234725</td><td>0.16648228</td><td>0</td><td>-1.0</td><td>-1.0</td><td>-1.0</td><td>-1</td><td>-1.0</td><td>-1.0</td><td>-1.0</td><td>-1.0</td><td>-1.0</td><td>-1.0</td><td>-1.0</td><td>-1.0</td><td>-1.0</td><td>-1.0</td><td>-1.0</td><td>-1</td><td>-1.0</td><td>-1</td><td>-1</td></tr>\n",
       "</table></div>"
      ],
      "text/plain": [
       "<Table length=5>\n",
       " SGA_ID    SGA_GALAXY          GALAXY       PGC  ...  DM7_SN e_DM7_SN SN_Catalog\n",
       " int64      bytes16           bytes29      int64 ... float64  int64    bytes25  \n",
       "------- ---------------- ----------------- ----- ... ------- -------- ----------\n",
       "5002480 SGA-2020 5002480 DR8-2837p402-5033    -1 ...    -1.0       -1         -1\n",
       "5001021 SGA-2020 5001021 DR8-1908m035-1012    -1 ...    -1.0       -1         -1\n",
       "5001019 SGA-2020 5001019 DR8-1470m035-1174    -1 ...    -1.0       -1         -1\n",
       "5001018 SGA-2020 5001018 DR8-0589m035-1107    -1 ...    -1.0       -1         -1\n",
       "5001000 SGA-2020 5001000 DR8-1538m040-5309    -1 ...    -1.0       -1         -1"
      ]
     },
     "execution_count": 7,
     "metadata": {},
     "output_type": "execute_result"
    }
   ],
   "source": [
    "SGA = Table.read('../SGA_distances.fits')\n",
    "\n",
    "SGA[:5]"
   ]
  },
  {
   "cell_type": "code",
   "execution_count": 8,
   "id": "aef2f630-88d2-484b-997f-6a6721c5e5b4",
   "metadata": {},
   "outputs": [],
   "source": [
    "SGA_dict = {}\n",
    "\n",
    "for i in range(len(SGA)):\n",
    "    \n",
    "    SGA_dict[SGA['SGA_ID'][i]] = i"
   ]
  },
  {
   "cell_type": "markdown",
   "id": "3a66bb9f-39a2-490c-b393-28ef583c024b",
   "metadata": {},
   "source": [
    "### If an SGA galaxy has at least one observation at its center, set the redshift of that galaxy"
   ]
  },
  {
   "cell_type": "code",
   "execution_count": 9,
   "id": "3749b4d6-d0c6-47b1-b231-47a1c30c1c2a",
   "metadata": {},
   "outputs": [],
   "source": [
    "SGA['Z_DESI'] = np.nan\n",
    "SGA['ZERR_DESI'] = np.nan\n",
    "\n",
    "for sga_id in np.unique(good_centers['SGA_ID']):\n",
    "    \n",
    "    # Find the row in SGA for this galaxy\n",
    "    SGA_idx = SGA_dict[sga_id]\n",
    "    \n",
    "    # Set the redshift of this galaxy to be the average redshift of all good center observations\n",
    "    SGA['Z_DESI'][SGA_idx] = np.mean(good_centers['Z'][good_centers['SGA_ID'] == sga_id])\n",
    "    SGA['ZERR_DESI'][SGA_idx] = np.mean(good_centers['ZERR'][good_centers['SGA_ID'] == sga_id]**2)/np.sum(good_centers['SGA_ID'] == sga_id)"
   ]
  },
  {
   "cell_type": "markdown",
   "id": "9c14d3e7-0447-4de1-b7e7-bb6a6cce2e50",
   "metadata": {},
   "source": [
    "### Filter SGA to keep only those objects with center observations and independent distances"
   ]
  },
  {
   "cell_type": "code",
   "execution_count": 10,
   "id": "d404371e-3572-488d-8ea8-24e72d2c7d0e",
   "metadata": {},
   "outputs": [
    {
     "name": "stdout",
     "output_type": "stream",
     "text": [
      "fuji galaxies with distances and good center observations: 11\n",
      "fuji off-center observations in galaxies with distances: 25\n"
     ]
    }
   ],
   "source": [
    "distances = (SGA['DM_Stellar'] != -1) | (SGA['DM1_SN'] != -1)\n",
    "centers = np.isfinite(SGA['Z_DESI'])\n",
    "\n",
    "################################################################################\n",
    "# Keep all observations of each galaxy that have independent distances\n",
    "#-------------------------------------------------------------------------------\n",
    "SGA_ID_dist = SGA['SGA_ID'][distances & centers]\n",
    "\n",
    "centers_dist = good_centers[np.in1d(good_centers['SGA_ID'], SGA_ID_dist)]\n",
    "\n",
    "axis_dist = fuji_axis[np.in1d(fuji_axis['SGA_ID'], SGA_ID_dist)]\n",
    "################################################################################\n",
    "\n",
    "print('fuji galaxies with distances and good center observations:', len(np.unique(centers_dist['SGA_ID'])))\n",
    "print('fuji off-center observations in galaxies with distances:', len(axis_dist))"
   ]
  },
  {
   "cell_type": "markdown",
   "id": "b51c4b2e-e687-4e8a-a83a-8bcba8fb0a03",
   "metadata": {},
   "source": [
    "# Calculate the rotational velocities"
   ]
  },
  {
   "cell_type": "code",
   "execution_count": 11,
   "id": "6b206b9d-faab-40e6-a840-bf0e756b77c6",
   "metadata": {},
   "outputs": [],
   "source": [
    "axis_dist['SKY_FIBER_DIST'] = 0.\n",
    "axis_dist['SKY_FIBER_DIST_R26'] = 0.\n",
    "axis_dist['V_ROT'] = np.nan\n",
    "axis_dist['V_ROT_ERR'] = np.nan\n",
    "\n",
    "\n",
    "# For each SGA galaxy that has at least one center observation, calculate the \n",
    "# distance for all of that galaxy's targets\n",
    "for sga_gal in np.unique(centers_dist['SGA_ID']):\n",
    "    \n",
    "    # Identify all galaxy targets on this galaxy\n",
    "    obs_idx = axis_dist['SGA_ID'] == sga_gal\n",
    "    \n",
    "    # Find galaxy index in SGA catalog\n",
    "    sga_idx = SGA_dict[sga_gal]\n",
    "    \n",
    "    #---------------------------------------------------------------------------\n",
    "    # Calculate distance between each observation and the center\n",
    "    #---------------------------------------------------------------------------\n",
    "    center_coords = SkyCoord(ra=SGA['RA'][sga_idx], \n",
    "                             dec=SGA['DEC'][sga_idx], \n",
    "                             unit=u.degree)\n",
    "    target_coords = SkyCoord(ra=axis_dist['RA'][obs_idx], \n",
    "                             dec=axis_dist['DEC'][obs_idx], \n",
    "                             unit=u.degree)\n",
    "    \n",
    "    sep2d = target_coords.separation(center_coords)\n",
    "    \n",
    "    axis_dist['SKY_FIBER_DIST'][obs_idx] = sep2d\n",
    "    axis_dist['SKY_FIBER_DIST_R26'][obs_idx] = 2*sep2d.to('arcmin')/(SGA['D26'][sga_idx]*u.arcmin)\n",
    "    #---------------------------------------------------------------------------\n",
    "    \n",
    "    \n",
    "    #---------------------------------------------------------------------------\n",
    "    # Calculate rotational velocity\n",
    "    #---------------------------------------------------------------------------\n",
    "    # Use the average redshift of all center observations for the systemic velocity\n",
    "    z_center = np.mean(SGA['Z_DESI'][sga_idx])\n",
    "    z_err_center2 = SGA['ZERR_DESI'][sga_idx]**2\n",
    "\n",
    "    # Calculate rotational velocity for all observations of the galaxy\n",
    "    axis_dist['V_ROT'][obs_idx] = c*(axis_dist['Z'][obs_idx] - z_center)\n",
    "    axis_dist['V_ROT_ERR'][obs_idx] = c*np.sqrt(axis_dist['ZERR'][obs_idx]**2 + z_err_center2)\n",
    "    #---------------------------------------------------------------------------\n",
    "    \n",
    "    \n",
    "    #---------------------------------------------------------------------------\n",
    "    # Correct rotational velocities for inclination angle\n",
    "    #---------------------------------------------------------------------------\n",
    "    cosi2 = (SGA['BA'][sga_idx]**2 - q0**2)/(1 - q0**2)\n",
    "    \n",
    "    # Galaxies with b/a < q0\n",
    "    if cosi2 < 0:\n",
    "        cosi2 = 0\n",
    "    \n",
    "    axis_dist['V_ROT'][obs_idx] /= np.sin(np.arccos(np.sqrt(cosi2)))\n",
    "    #---------------------------------------------------------------------------"
   ]
  },
  {
   "cell_type": "code",
   "execution_count": 12,
   "id": "f24c9197-b315-402a-85bf-fb7a76203ec2",
   "metadata": {},
   "outputs": [
    {
     "data": {
      "image/png": "[encoded data removed]",
      "text/plain": [
       "<Figure size 432x288 with 1 Axes>"
      ]
     },
     "metadata": {
      "needs_background": "light"
     },
     "output_type": "display_data"
    }
   ],
   "source": [
    "plt.figure(tight_layout=True)\n",
    "\n",
    "plt.hist(np.abs(axis_dist['V_ROT']), bins=np.linspace(0, 1000, 100))\n",
    "\n",
    "plt.xlabel('$V_{rot}$ [km/s]')\n",
    "plt.ylabel('number of observations');"
   ]
  },
  {
   "cell_type": "markdown",
   "id": "f9fc8a8c-956f-4076-b592-d91dc97e3e3f",
   "metadata": {},
   "source": [
    "# Cut for galaxies with distances suitable for calibrating the TFR\n",
    "\n",
    "Requirements:\n",
    " * $V_{rot} < 1000$ km/s at $0.33R_{26}$\n",
    " * $i > 45^\\circ$\n",
    " * Spiral-type morphology\n",
    " * Passes visual inspection"
   ]
  },
  {
   "cell_type": "markdown",
   "id": "a26dff3b-d2f2-41a4-8a47-8c4407f8afbd",
   "metadata": {},
   "source": [
    "## Velocity cut"
   ]
  },
  {
   "cell_type": "code",
   "execution_count": 13,
   "id": "986f011a-b1e9-4ce9-838f-4943544204ff",
   "metadata": {},
   "outputs": [
    {
     "name": "stdout",
     "output_type": "stream",
     "text": [
      "7 3\n"
     ]
    }
   ],
   "source": [
    "r0p3 = (axis_dist['SKY_FIBER_DIST_R26'] > 0.3) & (axis_dist['SKY_FIBER_DIST_R26'] < 0.4)\n",
    "\n",
    "Vgood = np.abs(axis_dist['V_ROT']) < 1000\n",
    "\n",
    "good_axis_dist = axis_dist[r0p3 & Vgood]\n",
    "\n",
    "print(len(good_axis_dist), len(np.unique(good_axis_dist['SGA_ID'])))"
   ]
  },
  {
   "cell_type": "markdown",
   "id": "a2a42abe-4a70-4af5-9f5d-3f3ba61dcdbf",
   "metadata": {},
   "source": [
    "## Inclination angle cut"
   ]
  },
  {
   "cell_type": "code",
   "execution_count": 14,
   "id": "0457d75a-b11e-4c13-bedd-8dbe93c14d5a",
   "metadata": {},
   "outputs": [],
   "source": [
    "SGA['cosi2'] = (SGA['BA']**2 - q0**2)/(1 - q0**2)\n",
    "SGA['cosi2'][SGA['cosi2'] < 0] = 0\n",
    "\n",
    "good_axis_dist['iSGA'] = -1\n",
    "\n",
    "for i in range(len(good_axis_dist)):\n",
    "    \n",
    "    # Find galaxy in SGA\n",
    "    sga_idx = SGA_dict[good_axis_dist['SGA_ID'][i]]\n",
    "    \n",
    "    good_axis_dist['iSGA'][i] = sga_idx\n",
    "    \n",
    "good_axis_dist['cosi2'] = SGA['cosi2'][good_axis_dist['iSGA']]"
   ]
  },
  {
   "cell_type": "code",
   "execution_count": 15,
   "id": "5f6fd2d3-8456-450b-ad6a-696a3af2e682",
   "metadata": {},
   "outputs": [
    {
     "name": "stdout",
     "output_type": "stream",
     "text": [
      "6 2\n"
     ]
    }
   ],
   "source": [
    "i_min = 45. # degrees\n",
    "\n",
    "cosi2_max = np.cos(i_min*np.pi/180.)**2\n",
    "\n",
    "edge = good_axis_dist['cosi2'] <= cosi2_max\n",
    "\n",
    "good_edge_axis_dist = good_axis_dist[edge]\n",
    "\n",
    "print(len(good_edge_axis_dist), len(np.unique(good_edge_axis_dist['SGA_ID'])))"
   ]
  },
  {
   "cell_type": "code",
   "execution_count": 16,
   "id": "60211866-ef96-42da-ba2d-4ce60eea32f6",
   "metadata": {},
   "outputs": [
    {
     "data": {
      "image/png": "[encoded data removed]",
      "text/plain": [
       "<Figure size 432x288 with 1 Axes>"
      ]
     },
     "metadata": {
      "needs_background": "light"
     },
     "output_type": "display_data"
    }
   ],
   "source": [
    "plt.figure(tight_layout=True)\n",
    "\n",
    "plt.hist(np.arccos(np.sqrt(good_edge_axis_dist['cosi2']))*180/np.pi, bins=np.arange(0, 90, 5))\n",
    "\n",
    "plt.xlabel('inclination angle [deg]')\n",
    "plt.ylabel('number of observations');"
   ]
  },
  {
   "cell_type": "markdown",
   "id": "dedf28cd-7b9b-458d-a43b-d0f9453e63c4",
   "metadata": {},
   "source": [
    "## Morphology cut"
   ]
  },
  {
   "cell_type": "code",
   "execution_count": 17,
   "id": "7e9c46cb-6773-41ad-8b09-28e5126a116a",
   "metadata": {},
   "outputs": [],
   "source": [
    "good_edge_axis_dist['MORPHTYPE'] = SGA['MORPHTYPE'][good_edge_axis_dist['iSGA']]"
   ]
  },
  {
   "cell_type": "code",
   "execution_count": 18,
   "id": "80836064-0022-482d-a2ec-9e6101661001",
   "metadata": {},
   "outputs": [
    {
     "name": "stdout",
     "output_type": "stream",
     "text": [
      "6 2\n"
     ]
    }
   ],
   "source": [
    "spirals = np.zeros(len(good_edge_axis_dist), dtype=bool)\n",
    "\n",
    "for i in range(len(good_edge_axis_dist)):\n",
    "    \n",
    "    try:    \n",
    "        if (good_edge_axis_dist['MORPHTYPE'][i][0] == 'S') and (good_edge_axis_dist['MORPHTYPE'][i][:2] != 'S0'):\n",
    "            spirals[i] = True\n",
    "    except IndexError:\n",
    "        print(good_edge_axis_dist['MORPHTYPE'][i])\n",
    "\n",
    "good_edge_spirals_axis_dist = good_edge_axis_dist[spirals]\n",
    "\n",
    "print(len(good_edge_spirals_axis_dist), len(np.unique(good_edge_spirals_axis_dist['SGA_ID'])))"
   ]
  },
  {
   "cell_type": "code",
   "execution_count": 19,
   "id": "19e30aa5-4ad4-4d94-925d-4557ded67bab",
   "metadata": {},
   "outputs": [
    {
     "data": {
      "text/html": [
       "<div><i>Table length=2</i>\n",
       "<table id=\"table23453358737056\" class=\"table-striped table-bordered table-condensed\">\n",
       "<thead><tr><th>SGA_ID</th><th>SGA_GALAXY</th><th>GALAXY</th><th>PGC</th><th>RA_LEDA</th><th>DEC_LEDA</th><th>MORPHTYPE</th><th>PA_LEDA</th><th>D25_LEDA</th><th>BA_LEDA</th><th>Z_LEDA</th><th>SB_D25_LEDA</th><th>MAG_LEDA</th><th>BYHAND</th><th>REF</th><th>GROUP_ID</th><th>GROUP_NAME</th><th>GROUP_MULT</th><th>GROUP_PRIMARY</th><th>GROUP_RA</th><th>GROUP_DEC</th><th>GROUP_DIAMETER</th><th>BRICKNAME</th><th>RA</th><th>DEC</th><th>D26</th><th>D26_REF</th><th>PA</th><th>BA</th><th>RA_MOMENT</th><th>DEC_MOMENT</th><th>SMA_MOMENT</th><th>G_SMA50</th><th>R_SMA50</th><th>Z_SMA50</th><th>SMA_SB22</th><th>SMA_SB22.5</th><th>SMA_SB23</th><th>SMA_SB23.5</th><th>SMA_SB24</th><th>SMA_SB24.5</th><th>SMA_SB25</th><th>SMA_SB25.5</th><th>SMA_SB26</th><th>G_MAG_SB22</th><th>R_MAG_SB22</th><th>Z_MAG_SB22</th><th>G_MAG_SB22.5</th><th>R_MAG_SB22.5</th><th>Z_MAG_SB22.5</th><th>G_MAG_SB23</th><th>R_MAG_SB23</th><th>Z_MAG_SB23</th><th>G_MAG_SB23.5</th><th>R_MAG_SB23.5</th><th>Z_MAG_SB23.5</th><th>G_MAG_SB24</th><th>R_MAG_SB24</th><th>Z_MAG_SB24</th><th>G_MAG_SB24.5</th><th>R_MAG_SB24.5</th><th>Z_MAG_SB24.5</th><th>G_MAG_SB25</th><th>R_MAG_SB25</th><th>Z_MAG_SB25</th><th>G_MAG_SB25.5</th><th>R_MAG_SB25.5</th><th>Z_MAG_SB25.5</th><th>G_MAG_SB26</th><th>R_MAG_SB26</th><th>Z_MAG_SB26</th><th>SMA_SB22_ERR</th><th>SMA_SB22.5_ERR</th><th>SMA_SB23_ERR</th><th>SMA_SB23.5_ERR</th><th>SMA_SB24_ERR</th><th>SMA_SB24.5_ERR</th><th>SMA_SB25_ERR</th><th>SMA_SB25.5_ERR</th><th>SMA_SB26_ERR</th><th>G_MAG_SB22_ERR</th><th>R_MAG_SB22_ERR</th><th>Z_MAG_SB22_ERR</th><th>G_MAG_SB22.5_ERR</th><th>R_MAG_SB22.5_ERR</th><th>Z_MAG_SB22.5_ERR</th><th>G_MAG_SB23_ERR</th><th>R_MAG_SB23_ERR</th><th>Z_MAG_SB23_ERR</th><th>G_MAG_SB23.5_ERR</th><th>R_MAG_SB23.5_ERR</th><th>Z_MAG_SB23.5_ERR</th><th>G_MAG_SB24_ERR</th><th>R_MAG_SB24_ERR</th><th>Z_MAG_SB24_ERR</th><th>G_MAG_SB24.5_ERR</th><th>R_MAG_SB24.5_ERR</th><th>Z_MAG_SB24.5_ERR</th><th>G_MAG_SB25_ERR</th><th>R_MAG_SB25_ERR</th><th>Z_MAG_SB25_ERR</th><th>G_MAG_SB25.5_ERR</th><th>R_MAG_SB25.5_ERR</th><th>Z_MAG_SB25.5_ERR</th><th>G_MAG_SB26_ERR</th><th>R_MAG_SB26_ERR</th><th>Z_MAG_SB26_ERR</th><th>G_COG_PARAMS_MTOT</th><th>G_COG_PARAMS_M0</th><th>G_COG_PARAMS_ALPHA1</th><th>G_COG_PARAMS_ALPHA2</th><th>G_COG_PARAMS_CHI2</th><th>R_COG_PARAMS_MTOT</th><th>R_COG_PARAMS_M0</th><th>R_COG_PARAMS_ALPHA1</th><th>R_COG_PARAMS_ALPHA2</th><th>R_COG_PARAMS_CHI2</th><th>Z_COG_PARAMS_MTOT</th><th>Z_COG_PARAMS_M0</th><th>Z_COG_PARAMS_ALPHA1</th><th>Z_COG_PARAMS_ALPHA2</th><th>Z_COG_PARAMS_CHI2</th><th>ELLIPSEBIT</th><th>DM_Stellar</th><th>e_DM_lo_Stellar</th><th>e_DM_hi_Stellar</th><th>Stellar_Catalog</th><th>DM1_SN</th><th>e_DM1_SN</th><th>DM2_SN</th><th>e_DM2_SN</th><th>DM3_SN</th><th>e_DM3_SN</th><th>DM4_SN</th><th>e_DM4_SN</th><th>DM5_SN</th><th>e_DM5_SN</th><th>DM6_SN</th><th>e_DM6_SN</th><th>DM7_SN</th><th>e_DM7_SN</th><th>SN_Catalog</th><th>Z_DESI</th><th>ZERR_DESI</th><th>cosi2</th></tr></thead>\n",
       "<thead><tr><th>int64</th><th>bytes16</th><th>bytes29</th><th>int64</th><th>float64</th><th>float64</th><th>bytes21</th><th>float32</th><th>float32</th><th>float32</th><th>float32</th><th>float32</th><th>float32</th><th>bool</th><th>bytes13</th><th>int64</th><th>bytes35</th><th>int16</th><th>bool</th><th>float64</th><th>float64</th><th>float32</th><th>bytes8</th><th>float64</th><th>float64</th><th>float32</th><th>bytes4</th><th>float32</th><th>float32</th><th>float64</th><th>float64</th><th>float32</th><th>float32</th><th>float32</th><th>float32</th><th>float32</th><th>float32</th><th>float32</th><th>float32</th><th>float32</th><th>float32</th><th>float32</th><th>float32</th><th>float32</th><th>float32</th><th>float32</th><th>float32</th><th>float32</th><th>float32</th><th>float32</th><th>float32</th><th>float32</th><th>float32</th><th>float32</th><th>float32</th><th>float32</th><th>float32</th><th>float32</th><th>float32</th><th>float32</th><th>float32</th><th>float32</th><th>float32</th><th>float32</th><th>float32</th><th>float32</th><th>float32</th><th>float32</th><th>float32</th><th>float32</th><th>float32</th><th>float32</th><th>float32</th><th>float32</th><th>float32</th><th>float32</th><th>float32</th><th>float32</th><th>float32</th><th>float32</th><th>float32</th><th>float32</th><th>float32</th><th>float32</th><th>float32</th><th>float32</th><th>float32</th><th>float32</th><th>float32</th><th>float32</th><th>float32</th><th>float32</th><th>float32</th><th>float32</th><th>float32</th><th>float32</th><th>float32</th><th>float32</th><th>float32</th><th>float32</th><th>float32</th><th>float32</th><th>float32</th><th>float32</th><th>float32</th><th>float32</th><th>float32</th><th>float32</th><th>float32</th><th>float32</th><th>float32</th><th>float32</th><th>float32</th><th>float32</th><th>float32</th><th>float32</th><th>float32</th><th>float32</th><th>float32</th><th>float32</th><th>float32</th><th>float32</th><th>int32</th><th>float64</th><th>float64</th><th>float64</th><th>bytes14</th><th>float64</th><th>float64</th><th>float64</th><th>float64</th><th>float64</th><th>float64</th><th>float64</th><th>float64</th><th>float64</th><th>float64</th><th>float64</th><th>int64</th><th>float64</th><th>int64</th><th>bytes25</th><th>float64</th><th>float64</th><th>float32</th></tr></thead>\n",
       "<tr><td>294387</td><td>SGA-2020 294387</td><td>PGC039073</td><td>39073</td><td>183.547164</td><td>-0.831551</td><td>SABc</td><td>171.72</td><td>0.7780365</td><td>0.561048</td><td>0.024841517</td><td>23.520481</td><td>15.437</td><td>False</td><td>LEDA-20181114</td><td>106169</td><td>PGC039073</td><td>1</td><td>True</td><td>183.547164</td><td>-0.831551</td><td>0.7780365</td><td>1836m007</td><td>183.5471939888577</td><td>-0.8316111360355423</td><td>1.2215545</td><td>SB26</td><td>170.44017</td><td>0.5814847</td><td>183.54718532704396</td><td>-0.8315369651746233</td><td>30.07738</td><td>12.846199</td><td>12.395062</td><td>11.759229</td><td>8.509257</td><td>11.53522</td><td>14.766707</td><td>18.282831</td><td>22.028744</td><td>25.829937</td><td>29.480642</td><td>33.008987</td><td>36.646637</td><td>16.52693</td><td>15.968272</td><td>15.577775</td><td>16.17626</td><td>15.640676</td><td>15.267396</td><td>15.939795</td><td>15.423002</td><td>15.057729</td><td>15.767317</td><td>15.26203</td><td>14.904332</td><td>15.642654</td><td>15.141757</td><td>14.787272</td><td>15.55682</td><td>15.060615</td><td>14.709526</td><td>15.498996</td><td>15.00487</td><td>14.656994</td><td>15.462121</td><td>14.968573</td><td>14.623675</td><td>15.437742</td><td>14.945529</td><td>14.603001</td><td>0.038360342</td><td>0.061051294</td><td>0.059315868</td><td>0.09041882</td><td>0.07770962</td><td>0.099839635</td><td>0.10327726</td><td>0.10800127</td><td>0.15686321</td><td>0.008838212</td><td>0.009582073</td><td>0.0097316895</td><td>0.007513806</td><td>0.008082654</td><td>0.008192047</td><td>0.0066172783</td><td>0.007089283</td><td>0.007204685</td><td>0.005913486</td><td>0.006328169</td><td>0.006462018</td><td>0.005406668</td><td>0.005792954</td><td>0.0059218905</td><td>0.005074407</td><td>0.005446651</td><td>0.0055868314</td><td>0.0048628864</td><td>0.0052201203</td><td>0.005371191</td><td>0.004731652</td><td>0.005074616</td><td>0.0052398327</td><td>0.004641347</td><td>0.0049823252</td><td>0.0051635467</td><td>15.318537</td><td>0.5640646</td><td>5.086929</td><td>2.3881478</td><td>1.8722204</td><td>14.825719</td><td>0.52780443</td><td>5.237951</td><td>2.3515327</td><td>2.232278</td><td>14.503408</td><td>0.44021618</td><td>6.862227</td><td>2.5675461</td><td>2.2760477</td><td>0</td><td>-1.0</td><td>-1.0</td><td>-1.0</td><td>-1</td><td>34.77</td><td>0.3</td><td>-1.0</td><td>-1.0</td><td>-1.0</td><td>-1.0</td><td>-1.0</td><td>-1.0</td><td>-1.0</td><td>-1.0</td><td>-1.0</td><td>-1</td><td>-1.0</td><td>-1</td><td>Stahl-SNIa</td><td>0.0248628847355973</td><td>1.1699988795781378e-11</td><td>0.31054628</td></tr>\n",
       "<tr><td>464075</td><td>SGA-2020 464075</td><td>UGC10244</td><td>57341</td><td>242.48108100000002</td><td>43.1290549</td><td>Sbc</td><td>128.96</td><td>1.0423175</td><td>0.3019952</td><td>0.03288008</td><td>24.129482</td><td>15.411</td><td>False</td><td>LEDA-20181114</td><td>169351</td><td>UGC10244</td><td>1</td><td>True</td><td>242.48108100000002</td><td>43.1290549</td><td>1.0423175</td><td>2424p432</td><td>242.48098745213719</td><td>43.12912634553939</td><td>1.8803749</td><td>SB26</td><td>128.77156</td><td>0.25576675</td><td>242.48074521025828</td><td>43.12920524001464</td><td>33.333332</td><td>13.762432</td><td>13.33429</td><td>6.869408</td><td>20.062359</td><td>23.480825</td><td>26.841143</td><td>30.275038</td><td>34.482098</td><td>39.361794</td><td>44.571243</td><td>50.888767</td><td>56.411247</td><td>15.378283</td><td>14.3577795</td><td>13.665737</td><td>15.277042</td><td>14.263303</td><td>13.620374</td><td>15.212705</td><td>14.207908</td><td>13.586886</td><td>15.177601</td><td>14.170899</td><td>13.565661</td><td>15.144904</td><td>14.135565</td><td>13.546063</td><td>15.118075</td><td>14.108305</td><td>13.528171</td><td>15.095903</td><td>14.08959</td><td>13.514712</td><td>15.077272</td><td>14.071617</td><td>13.503589</td><td>15.064306</td><td>14.061757</td><td>13.50056</td><td>0.14993039</td><td>0.18158807</td><td>0.18825479</td><td>0.22639686</td><td>0.24359083</td><td>0.24287476</td><td>0.23499858</td><td>0.34557027</td><td>0.32119325</td><td>0.023190737</td><td>0.020619955</td><td>0.02711046</td><td>0.021607935</td><td>0.019364513</td><td>0.026131935</td><td>0.020621898</td><td>0.018606326</td><td>0.02540204</td><td>0.020023214</td><td>0.018049074</td><td>0.024948375</td><td>0.019484583</td><td>0.017537842</td><td>0.024526162</td><td>0.019048229</td><td>0.017155945</td><td>0.024136491</td><td>0.018682567</td><td>0.016877254</td><td>0.023848789</td><td>0.018375177</td><td>0.016610518</td><td>0.023612779</td><td>0.01815413</td><td>0.016440732</td><td>0.023553774</td><td>15.02493</td><td>18027.455</td><td>7.982429e-05</td><td>2.0297074</td><td>0.24238399</td><td>14.017664</td><td>12811.115</td><td>0.00010316957</td><td>1.9570801</td><td>0.056902446</td><td>13.471971</td><td>0.36119577</td><td>3.1486363</td><td>2.1401784</td><td>0.019810589</td><td>0</td><td>-1.0</td><td>-1.0</td><td>-1.0</td><td>-1</td><td>35.56</td><td>0.16</td><td>-1.0</td><td>-1.0</td><td>-1.0</td><td>-1.0</td><td>-1.0</td><td>-1.0</td><td>-1.0</td><td>-1.0</td><td>-1.0</td><td>-1</td><td>-1.0</td><td>-1</td><td>Stahl-SNIa</td><td>0.0328314118206002</td><td>1.9179622929413818e-10</td><td>0.026475655</td></tr>\n",
       "</table></div>"
      ],
      "text/plain": [
       "<Table length=2>\n",
       "SGA_ID    SGA_GALAXY     GALAXY  ...       ZERR_DESI           cosi2   \n",
       "int64      bytes16      bytes29  ...        float64           float32  \n",
       "------ --------------- --------- ... ---------------------- -----------\n",
       "294387 SGA-2020 294387 PGC039073 ... 1.1699988795781378e-11  0.31054628\n",
       "464075 SGA-2020 464075  UGC10244 ... 1.9179622929413818e-10 0.026475655"
      ]
     },
     "execution_count": 19,
     "metadata": {},
     "output_type": "execute_result"
    }
   ],
   "source": [
    "SGA_idx = []\n",
    "\n",
    "for SGA_id in np.unique(good_edge_spirals_axis_dist['SGA_ID']):\n",
    "    \n",
    "    SGA_idx.append(SGA_dict[SGA_id])\n",
    "\n",
    "SGA[SGA_idx]"
   ]
  },
  {
   "cell_type": "markdown",
   "id": "c0f81c7a-78db-4a2b-ae49-68e23488fb91",
   "metadata": {
    "jp-MarkdownHeadingCollapsed": true,
    "tags": []
   },
   "source": [
    "## Visual inspection cut\n",
    "\n",
    "This removes any observations that are contaminated by foreground stars or other galaxies."
   ]
  },
  {
   "cell_type": "code",
   "execution_count": 27,
   "id": "f2e54479-c5dc-4cf5-ad6e-fa8f6ad99b40",
   "metadata": {},
   "outputs": [
    {
     "name": "stdout",
     "output_type": "stream",
     "text": [
      "294387\n",
      "cache/coma_39627769688098202.jpg exists.\n",
      "464075\n",
      "Get https://www.legacysurvey.org/viewer/cutout.jpg?ra=242.48098745213719&dec=43.12912634553939&zoom=14&layer=ls-dr9&size=441&sga\n"
     ]
    }
   ],
   "source": [
    "for sga_id in np.unique(good_edge_spirals_axis_dist['SGA_ID']):\n",
    "    \n",
    "    print(sga_id)\n",
    "    \n",
    "    tf_list = good_edge_spirals_axis_dist[good_edge_spirals_axis_dist['SGA_ID'] == sga_id]\n",
    "    center_list = centers_dist[centers_dist['SGA_ID'] == sga_id]\n",
    "    \n",
    "    try:\n",
    "        targetid = int(center_list['TARGETID'][0])\n",
    "    except TypeError as err:\n",
    "        print(err)\n",
    "        # print(sga_galaxy['TARGETID'])\n",
    "        continue\n",
    "    \n",
    "    ra, dec, z = float(SGA['RA'][SGA_dict[sga_id]]), float(SGA['DEC'][SGA_dict[sga_id]]), float(SGA['Z_DESI'][SGA_dict[sga_id]])\n",
    "    \n",
    "    # D26 in arcmin\n",
    "    d26 = SGA['D26'][SGA_dict[sga_id]]\n",
    "    \n",
    "    # Padd the image cutout of the galaxy.\n",
    "    # Multiply by 60 (to arcsec), divide by 180 to get pixscale.\n",
    "#     pixscale = 1.05*d26*60/180\n",
    "    npix = np.minimum(int(1.025 * d26*60/0.262), 512)\n",
    "    \n",
    "    #print(targetid, sga_id, ra, dec)\n",
    "#     img_file = get_cutout(targetid, ra, dec, size=npix, verbose=True)\n",
    "    img_file, wcs = get_cutout(targetid, ra, dec, size=npix, verbose=True)\n",
    "    img = mpl.image.imread(img_file)\n",
    "\n",
    "    fig1 = plt.figure(figsize=(7,5))\n",
    "\n",
    "    ax = fig1.add_subplot(111, projection=wcs)\n",
    "    ax.imshow(np.flip(img, axis=0))\n",
    "    ax.set(xlabel='ra', ylabel='dec')\n",
    "    ax.text(int(0.02*npix), int(0.85*npix), 'TARGETID: {}\\nSGA_ID: {}\\n$z={{{:.4f}}}$'.format(targetid, sga_id, z), fontsize=9, color='yellow')\n",
    "    overlay = ax.get_coords_overlay('icrs')\n",
    "    overlay.grid(color='white', ls='dotted');\n",
    "\n",
    "    # Add the location of the DESI fibers.\n",
    "    # SDSS fibers are 2\" diameter, DESI is 107 um with 70 um/\" plate scale.\n",
    "    r1 = SphericalCircle((ra * u.deg, dec * u.deg), (107./70) * u.arcsec,\n",
    "                         edgecolor='black', facecolor='none', alpha=0.8, lw=3,\n",
    "                         transform=ax.get_transform('icrs'))\n",
    "    r2 = SphericalCircle((ra * u.deg, dec * u.deg), (107./70) * u.arcsec,\n",
    "                         edgecolor='red', facecolor='none', alpha=0.8, lw=2,\n",
    "                         transform=ax.get_transform('icrs'))\n",
    "    ax.add_patch(r1)\n",
    "    ax.add_patch(r2)\n",
    "\n",
    "    for tft in tf_list:\n",
    "        ra, dec = tft['RA'], tft['DEC']\n",
    "        \n",
    "        edgecolor2 = 'orange'\n",
    "#         if tft['Z'] > 0.05:\n",
    "#             edgecolor2 = 'orange'\n",
    "#         else:\n",
    "#             edgecolor2 = 'lime'\n",
    "        \n",
    "        # Add the location of the DESI fibers.\n",
    "        # SDSS fibers are 2\" diameter, DESI is 107 um with 70 um/\" plate scale.\n",
    "        r1 = SphericalCircle((ra * u.deg, dec * u.deg), (107./70) * u.arcsec,\n",
    "                             edgecolor='lightcoral', facecolor='none', alpha=1, lw=3,\n",
    "                             transform=ax.get_transform('icrs'))\n",
    "        r2 = SphericalCircle((ra * u.deg, dec * u.deg), (107./70) * u.arcsec,\n",
    "                             edgecolor=edgecolor2, facecolor='none', alpha=0.8, lw=2,\n",
    "                             transform=ax.get_transform('icrs'))\n",
    "        ax.add_patch(r1)\n",
    "        ax.add_patch(r2)\n",
    "        \n",
    "        ax.text(ra, dec, str(tft['TARGETID']), transform=ax.get_transform('icrs'), color='white')\n",
    "    \n",
    "    fig1.subplots_adjust(top=0.85, right=0.85, bottom=0.15, left=0.15)\n",
    "    \n",
    "    fig1.savefig('cache/fuji_VI_cutouts/dist_{}.png'.format(sga_id), dpi=120)\n",
    "    \n",
    "    fig1.clear()\n",
    "    plt.close(fig1)\n",
    "    '''\n",
    "    #----------------------------------------------------------------------------------\n",
    "    # Get spectra\n",
    "    #----------------------------------------------------------------------------------\n",
    "    coadds = get_spectra_for_sga(good_edge_spirals_axis_inComa, sga_id)\n",
    "    n = coadds.num_spectra()\n",
    "\n",
    "    fig2, axes = plt.subplots(n,1, figsize=(8,4*n), sharex=True, sharey=True, tight_layout=True)\n",
    "\n",
    "    for i in range(n):\n",
    "        wave = coadds.wave['brz']\n",
    "        flux = coadds.flux['brz'][i]\n",
    "        smoothed = gaussian_filter1d(flux, 7)\n",
    "\n",
    "        ax = axes[i]\n",
    "        ax.plot(wave, smoothed, label='TARGETID: {}'.format(coadds.fibermap['TARGETID'][i]))\n",
    "        ax.set(ylabel=r'flux [$10^{-17}$ erg cm$^{-2}$ s$^{-1}$ $\\AA^{-1}$]')\n",
    "        if i+1 == n:\n",
    "            ax.set(xlabel=r'$\\lambda_\\mathrm{obs}$ [$\\AA$]')\n",
    "\n",
    "        ax.legend(loc='upper right', fontsize=10)\n",
    "    \n",
    "    # figure = PdfPages('cache/DM_cutouts/dist_{}.pdf'.format(sga_id))\n",
    "    # figure.savefig(fig1, dpi = 300)\n",
    "    # figure.savefig(fig2, dpi = 120)\n",
    "    # figure.close()\n",
    "    '''\n",
    "    # break"
   ]
  },
  {
   "cell_type": "markdown",
   "id": "69b2b01d-8fd9-4920-9cbb-77f28d6dcb46",
   "metadata": {},
   "source": [
    "No targets need to be removed - both objects and their observations pass VI."
   ]
  },
  {
   "cell_type": "markdown",
   "id": "d4470944-a94f-4752-ae11-6e5300f84a31",
   "metadata": {},
   "source": [
    "# Zero-point calibration"
   ]
  },
  {
   "cell_type": "markdown",
   "id": "0abd2208-a2e0-4ec2-81c1-76783d773919",
   "metadata": {},
   "source": [
    "## Compute the weighted average velocity for those galaxies with more than one observation at $0.33R_{26}$:\n",
    "\n",
    "\\begin{equation}\n",
    "  \\bar{v} = \\frac{\\sum_i w_i v_i}{\\sum_i w_i}\n",
    "\\end{equation}\n",
    "where $w_i = 1/\\sigma^2$."
   ]
  },
  {
   "cell_type": "code",
   "execution_count": 20,
   "id": "85730a6b-dd5e-4df5-9fdd-5d9ab5297b51",
   "metadata": {},
   "outputs": [],
   "source": [
    "SGA['V_0p33R26'] = np.nan\n",
    "SGA['V_0p33R26_err'] = np.nan\n",
    "\n",
    "good_edge_spirals_axis_dist['R_MAG_SB26'] = np.nan\n",
    "good_edge_spirals_axis_dist['R_MAG_SB26_ERR'] = np.nan\n",
    "\n",
    "weights = 1./(good_edge_spirals_axis_dist['V_ROT_ERR']**2)\n",
    "\n",
    "for sga_id in np.unique(good_edge_spirals_axis_dist['SGA_ID']):\n",
    "    \n",
    "    # Identify all galaxy targets on this galaxy\n",
    "    obs_idx = good_edge_spirals_axis_dist['SGA_ID'] == sga_id\n",
    "    \n",
    "    SGA['V_0p33R26'][SGA_dict[sga_id]] = np.average(np.abs(good_edge_spirals_axis_dist['V_ROT'][obs_idx]), \n",
    "                                                    weights=weights[obs_idx])\n",
    "\n",
    "    SGA['V_0p33R26_err'][SGA_dict[sga_id]] = np.sqrt(1./np.sum(weights[obs_idx]))\n",
    "    \n",
    "    #good_edge_spirals_axis_dist['R_MAG_SB26'][obs_idx] = SGA['R_MAG_SB26'][SGA_dict[sga_id]]\n",
    "    #good_edge_spirals_axis_dist['R_MAG_SB26_ERR'][obs_idx] = SGA['R_MAG_SB26_ERR'][SGA_dict[sga_id]]"
   ]
  },
  {
   "cell_type": "code",
   "execution_count": 21,
   "id": "e7e593dd-fd39-405e-b16c-7fe2e45aed03",
   "metadata": {},
   "outputs": [],
   "source": [
    "# Make a catalog of just those galaxies with velocities\n",
    "SGA_0pt = SGA[np.isfinite(SGA['V_0p33R26']) & (SGA['R_MAG_SB26'] > 0)]"
   ]
  },
  {
   "cell_type": "code",
   "execution_count": 22,
   "id": "b9f6ddd6-7c1c-464a-9388-ae2dd27b2afc",
   "metadata": {},
   "outputs": [
    {
     "data": {
      "image/png": "[encoded data removed]",
      "text/plain": [
       "<Figure size 432x288 with 1 Axes>"
      ]
     },
     "metadata": {
      "needs_background": "light"
     },
     "output_type": "display_data"
    }
   ],
   "source": [
    "#plt.figure(figsize=(9,5), tight_layout=True)\n",
    "plt.figure(tight_layout=True)\n",
    "\n",
    "\n",
    "#plt.subplot(121)\n",
    "plt.errorbar(np.log10(SGA_0pt['V_0p33R26']), \n",
    "             SGA_0pt['R_MAG_SB26'], \n",
    "             xerr=0.434*SGA_0pt['V_0p33R26_err']/SGA_0pt['V_0p33R26'],\n",
    "             yerr=SGA_0pt['R_MAG_SB26_ERR'], \n",
    "             fmt='.')\n",
    "\n",
    "plt.xlim([0, 3])\n",
    "plt.ylim([18.5, 13])\n",
    "\n",
    "plt.xlabel('log($V_{rot}$ [km/s])')\n",
    "plt.ylabel('$m_r (26)$')\n",
    "\n",
    "'''\n",
    "plt.subplot(122)\n",
    "plt.errorbar(np.log10(good_edge_spirals_axis_dist['V_ROT']), \n",
    "             good_edge_spirals_axis_dist['R_MAG_SB26'], \n",
    "             xerr=0.434*good_edge_spirals_axis_dist['V_ROT_ERR']/good_edge_spirals_axis_dist['V_ROT'],\n",
    "             yerr=good_edge_spirals_axis_dist['R_MAG_SB26_ERR'], \n",
    "             fmt='.')\n",
    "\n",
    "plt.xlim([0, 3])\n",
    "plt.ylim([18.5, 13])\n",
    "\n",
    "plt.xlabel('log($V_{rot}$ [km/s])')\n",
    "plt.ylabel('$m_r (26)$')\n",
    "''';"
   ]
  },
  {
   "cell_type": "markdown",
   "id": "9606affe-36bc-464a-bc18-d0db32de4861",
   "metadata": {},
   "source": [
    "## Compute the absolute magnitudes based on the distance measurements\n",
    "\n",
    "\\begin{equation}\n",
    "  M_r - 5\\log h = m_r - \\mu - 5\\log h\n",
    "\\end{equation}\n",
    "where $h$ is the reduced Hubble constant used to calibrate the distance modulus, $\\mu$.\n",
    "\n",
    "Both of our galaxies have distance moduli from Stahl et al. (2021), which *appears* to use $h = 1$.  Therefore, the distance moduli we have to use are $\\mu_h = \\mu - 5\\log h$."
   ]
  },
  {
   "cell_type": "code",
   "execution_count": 23,
   "id": "9b9ca536-8890-4305-8d5e-526beddcd3d9",
   "metadata": {},
   "outputs": [
    {
     "data": {
      "text/html": [
       "<div><i>Table length=2</i>\n",
       "<table id=\"table23453360697008\" class=\"table-striped table-bordered table-condensed\">\n",
       "<thead><tr><th>SGA_ID</th><th>SGA_GALAXY</th><th>GALAXY</th><th>PGC</th><th>RA_LEDA</th><th>DEC_LEDA</th><th>MORPHTYPE</th><th>PA_LEDA</th><th>D25_LEDA</th><th>BA_LEDA</th><th>Z_LEDA</th><th>SB_D25_LEDA</th><th>MAG_LEDA</th><th>BYHAND</th><th>REF</th><th>GROUP_ID</th><th>GROUP_NAME</th><th>GROUP_MULT</th><th>GROUP_PRIMARY</th><th>GROUP_RA</th><th>GROUP_DEC</th><th>GROUP_DIAMETER</th><th>BRICKNAME</th><th>RA</th><th>DEC</th><th>D26</th><th>D26_REF</th><th>PA</th><th>BA</th><th>RA_MOMENT</th><th>DEC_MOMENT</th><th>SMA_MOMENT</th><th>G_SMA50</th><th>R_SMA50</th><th>Z_SMA50</th><th>SMA_SB22</th><th>SMA_SB22.5</th><th>SMA_SB23</th><th>SMA_SB23.5</th><th>SMA_SB24</th><th>SMA_SB24.5</th><th>SMA_SB25</th><th>SMA_SB25.5</th><th>SMA_SB26</th><th>G_MAG_SB22</th><th>R_MAG_SB22</th><th>Z_MAG_SB22</th><th>G_MAG_SB22.5</th><th>R_MAG_SB22.5</th><th>Z_MAG_SB22.5</th><th>G_MAG_SB23</th><th>R_MAG_SB23</th><th>Z_MAG_SB23</th><th>G_MAG_SB23.5</th><th>R_MAG_SB23.5</th><th>Z_MAG_SB23.5</th><th>G_MAG_SB24</th><th>R_MAG_SB24</th><th>Z_MAG_SB24</th><th>G_MAG_SB24.5</th><th>R_MAG_SB24.5</th><th>Z_MAG_SB24.5</th><th>G_MAG_SB25</th><th>R_MAG_SB25</th><th>Z_MAG_SB25</th><th>G_MAG_SB25.5</th><th>R_MAG_SB25.5</th><th>Z_MAG_SB25.5</th><th>G_MAG_SB26</th><th>R_MAG_SB26</th><th>Z_MAG_SB26</th><th>SMA_SB22_ERR</th><th>SMA_SB22.5_ERR</th><th>SMA_SB23_ERR</th><th>SMA_SB23.5_ERR</th><th>SMA_SB24_ERR</th><th>SMA_SB24.5_ERR</th><th>SMA_SB25_ERR</th><th>SMA_SB25.5_ERR</th><th>SMA_SB26_ERR</th><th>G_MAG_SB22_ERR</th><th>R_MAG_SB22_ERR</th><th>Z_MAG_SB22_ERR</th><th>G_MAG_SB22.5_ERR</th><th>R_MAG_SB22.5_ERR</th><th>Z_MAG_SB22.5_ERR</th><th>G_MAG_SB23_ERR</th><th>R_MAG_SB23_ERR</th><th>Z_MAG_SB23_ERR</th><th>G_MAG_SB23.5_ERR</th><th>R_MAG_SB23.5_ERR</th><th>Z_MAG_SB23.5_ERR</th><th>G_MAG_SB24_ERR</th><th>R_MAG_SB24_ERR</th><th>Z_MAG_SB24_ERR</th><th>G_MAG_SB24.5_ERR</th><th>R_MAG_SB24.5_ERR</th><th>Z_MAG_SB24.5_ERR</th><th>G_MAG_SB25_ERR</th><th>R_MAG_SB25_ERR</th><th>Z_MAG_SB25_ERR</th><th>G_MAG_SB25.5_ERR</th><th>R_MAG_SB25.5_ERR</th><th>Z_MAG_SB25.5_ERR</th><th>G_MAG_SB26_ERR</th><th>R_MAG_SB26_ERR</th><th>Z_MAG_SB26_ERR</th><th>G_COG_PARAMS_MTOT</th><th>G_COG_PARAMS_M0</th><th>G_COG_PARAMS_ALPHA1</th><th>G_COG_PARAMS_ALPHA2</th><th>G_COG_PARAMS_CHI2</th><th>R_COG_PARAMS_MTOT</th><th>R_COG_PARAMS_M0</th><th>R_COG_PARAMS_ALPHA1</th><th>R_COG_PARAMS_ALPHA2</th><th>R_COG_PARAMS_CHI2</th><th>Z_COG_PARAMS_MTOT</th><th>Z_COG_PARAMS_M0</th><th>Z_COG_PARAMS_ALPHA1</th><th>Z_COG_PARAMS_ALPHA2</th><th>Z_COG_PARAMS_CHI2</th><th>ELLIPSEBIT</th><th>DM_Stellar</th><th>e_DM_lo_Stellar</th><th>e_DM_hi_Stellar</th><th>Stellar_Catalog</th><th>DM1_SN</th><th>e_DM1_SN</th><th>DM2_SN</th><th>e_DM2_SN</th><th>DM3_SN</th><th>e_DM3_SN</th><th>DM4_SN</th><th>e_DM4_SN</th><th>DM5_SN</th><th>e_DM5_SN</th><th>DM6_SN</th><th>e_DM6_SN</th><th>DM7_SN</th><th>e_DM7_SN</th><th>SN_Catalog</th><th>Z_DESI</th><th>ZERR_DESI</th><th>cosi2</th><th>V_0p33R26</th><th>V_0p33R26_err</th></tr></thead>\n",
       "<thead><tr><th>int64</th><th>bytes16</th><th>bytes29</th><th>int64</th><th>float64</th><th>float64</th><th>bytes21</th><th>float32</th><th>float32</th><th>float32</th><th>float32</th><th>float32</th><th>float32</th><th>bool</th><th>bytes13</th><th>int64</th><th>bytes35</th><th>int16</th><th>bool</th><th>float64</th><th>float64</th><th>float32</th><th>bytes8</th><th>float64</th><th>float64</th><th>float32</th><th>bytes4</th><th>float32</th><th>float32</th><th>float64</th><th>float64</th><th>float32</th><th>float32</th><th>float32</th><th>float32</th><th>float32</th><th>float32</th><th>float32</th><th>float32</th><th>float32</th><th>float32</th><th>float32</th><th>float32</th><th>float32</th><th>float32</th><th>float32</th><th>float32</th><th>float32</th><th>float32</th><th>float32</th><th>float32</th><th>float32</th><th>float32</th><th>float32</th><th>float32</th><th>float32</th><th>float32</th><th>float32</th><th>float32</th><th>float32</th><th>float32</th><th>float32</th><th>float32</th><th>float32</th><th>float32</th><th>float32</th><th>float32</th><th>float32</th><th>float32</th><th>float32</th><th>float32</th><th>float32</th><th>float32</th><th>float32</th><th>float32</th><th>float32</th><th>float32</th><th>float32</th><th>float32</th><th>float32</th><th>float32</th><th>float32</th><th>float32</th><th>float32</th><th>float32</th><th>float32</th><th>float32</th><th>float32</th><th>float32</th><th>float32</th><th>float32</th><th>float32</th><th>float32</th><th>float32</th><th>float32</th><th>float32</th><th>float32</th><th>float32</th><th>float32</th><th>float32</th><th>float32</th><th>float32</th><th>float32</th><th>float32</th><th>float32</th><th>float32</th><th>float32</th><th>float32</th><th>float32</th><th>float32</th><th>float32</th><th>float32</th><th>float32</th><th>float32</th><th>float32</th><th>float32</th><th>float32</th><th>float32</th><th>float32</th><th>float32</th><th>float32</th><th>float32</th><th>int32</th><th>float64</th><th>float64</th><th>float64</th><th>bytes14</th><th>float64</th><th>float64</th><th>float64</th><th>float64</th><th>float64</th><th>float64</th><th>float64</th><th>float64</th><th>float64</th><th>float64</th><th>float64</th><th>int64</th><th>float64</th><th>int64</th><th>bytes25</th><th>float64</th><th>float64</th><th>float32</th><th>float64</th><th>float64</th></tr></thead>\n",
       "<tr><td>294387</td><td>SGA-2020 294387</td><td>PGC039073</td><td>39073</td><td>183.547164</td><td>-0.831551</td><td>SABc</td><td>171.72</td><td>0.7780365</td><td>0.561048</td><td>0.024841517</td><td>23.520481</td><td>15.437</td><td>False</td><td>LEDA-20181114</td><td>106169</td><td>PGC039073</td><td>1</td><td>True</td><td>183.547164</td><td>-0.831551</td><td>0.7780365</td><td>1836m007</td><td>183.5471939888577</td><td>-0.8316111360355423</td><td>1.2215545</td><td>SB26</td><td>170.44017</td><td>0.5814847</td><td>183.54718532704396</td><td>-0.8315369651746233</td><td>30.07738</td><td>12.846199</td><td>12.395062</td><td>11.759229</td><td>8.509257</td><td>11.53522</td><td>14.766707</td><td>18.282831</td><td>22.028744</td><td>25.829937</td><td>29.480642</td><td>33.008987</td><td>36.646637</td><td>16.52693</td><td>15.968272</td><td>15.577775</td><td>16.17626</td><td>15.640676</td><td>15.267396</td><td>15.939795</td><td>15.423002</td><td>15.057729</td><td>15.767317</td><td>15.26203</td><td>14.904332</td><td>15.642654</td><td>15.141757</td><td>14.787272</td><td>15.55682</td><td>15.060615</td><td>14.709526</td><td>15.498996</td><td>15.00487</td><td>14.656994</td><td>15.462121</td><td>14.968573</td><td>14.623675</td><td>15.437742</td><td>14.945529</td><td>14.603001</td><td>0.038360342</td><td>0.061051294</td><td>0.059315868</td><td>0.09041882</td><td>0.07770962</td><td>0.099839635</td><td>0.10327726</td><td>0.10800127</td><td>0.15686321</td><td>0.008838212</td><td>0.009582073</td><td>0.0097316895</td><td>0.007513806</td><td>0.008082654</td><td>0.008192047</td><td>0.0066172783</td><td>0.007089283</td><td>0.007204685</td><td>0.005913486</td><td>0.006328169</td><td>0.006462018</td><td>0.005406668</td><td>0.005792954</td><td>0.0059218905</td><td>0.005074407</td><td>0.005446651</td><td>0.0055868314</td><td>0.0048628864</td><td>0.0052201203</td><td>0.005371191</td><td>0.004731652</td><td>0.005074616</td><td>0.0052398327</td><td>0.004641347</td><td>0.0049823252</td><td>0.0051635467</td><td>15.318537</td><td>0.5640646</td><td>5.086929</td><td>2.3881478</td><td>1.8722204</td><td>14.825719</td><td>0.52780443</td><td>5.237951</td><td>2.3515327</td><td>2.232278</td><td>14.503408</td><td>0.44021618</td><td>6.862227</td><td>2.5675461</td><td>2.2760477</td><td>0</td><td>-1.0</td><td>-1.0</td><td>-1.0</td><td>-1</td><td>34.77</td><td>0.3</td><td>-1.0</td><td>-1.0</td><td>-1.0</td><td>-1.0</td><td>-1.0</td><td>-1.0</td><td>-1.0</td><td>-1.0</td><td>-1.0</td><td>-1</td><td>-1.0</td><td>-1</td><td>Stahl-SNIa</td><td>0.0248628847355973</td><td>1.1699988795781378e-11</td><td>0.31054628</td><td>137.13676837201095</td><td>1.577687854064966</td></tr>\n",
       "<tr><td>464075</td><td>SGA-2020 464075</td><td>UGC10244</td><td>57341</td><td>242.48108100000002</td><td>43.1290549</td><td>Sbc</td><td>128.96</td><td>1.0423175</td><td>0.3019952</td><td>0.03288008</td><td>24.129482</td><td>15.411</td><td>False</td><td>LEDA-20181114</td><td>169351</td><td>UGC10244</td><td>1</td><td>True</td><td>242.48108100000002</td><td>43.1290549</td><td>1.0423175</td><td>2424p432</td><td>242.48098745213719</td><td>43.12912634553939</td><td>1.8803749</td><td>SB26</td><td>128.77156</td><td>0.25576675</td><td>242.48074521025828</td><td>43.12920524001464</td><td>33.333332</td><td>13.762432</td><td>13.33429</td><td>6.869408</td><td>20.062359</td><td>23.480825</td><td>26.841143</td><td>30.275038</td><td>34.482098</td><td>39.361794</td><td>44.571243</td><td>50.888767</td><td>56.411247</td><td>15.378283</td><td>14.3577795</td><td>13.665737</td><td>15.277042</td><td>14.263303</td><td>13.620374</td><td>15.212705</td><td>14.207908</td><td>13.586886</td><td>15.177601</td><td>14.170899</td><td>13.565661</td><td>15.144904</td><td>14.135565</td><td>13.546063</td><td>15.118075</td><td>14.108305</td><td>13.528171</td><td>15.095903</td><td>14.08959</td><td>13.514712</td><td>15.077272</td><td>14.071617</td><td>13.503589</td><td>15.064306</td><td>14.061757</td><td>13.50056</td><td>0.14993039</td><td>0.18158807</td><td>0.18825479</td><td>0.22639686</td><td>0.24359083</td><td>0.24287476</td><td>0.23499858</td><td>0.34557027</td><td>0.32119325</td><td>0.023190737</td><td>0.020619955</td><td>0.02711046</td><td>0.021607935</td><td>0.019364513</td><td>0.026131935</td><td>0.020621898</td><td>0.018606326</td><td>0.02540204</td><td>0.020023214</td><td>0.018049074</td><td>0.024948375</td><td>0.019484583</td><td>0.017537842</td><td>0.024526162</td><td>0.019048229</td><td>0.017155945</td><td>0.024136491</td><td>0.018682567</td><td>0.016877254</td><td>0.023848789</td><td>0.018375177</td><td>0.016610518</td><td>0.023612779</td><td>0.01815413</td><td>0.016440732</td><td>0.023553774</td><td>15.02493</td><td>18027.455</td><td>7.982429e-05</td><td>2.0297074</td><td>0.24238399</td><td>14.017664</td><td>12811.115</td><td>0.00010316957</td><td>1.9570801</td><td>0.056902446</td><td>13.471971</td><td>0.36119577</td><td>3.1486363</td><td>2.1401784</td><td>0.019810589</td><td>0</td><td>-1.0</td><td>-1.0</td><td>-1.0</td><td>-1</td><td>35.56</td><td>0.16</td><td>-1.0</td><td>-1.0</td><td>-1.0</td><td>-1.0</td><td>-1.0</td><td>-1.0</td><td>-1.0</td><td>-1.0</td><td>-1.0</td><td>-1</td><td>-1.0</td><td>-1</td><td>Stahl-SNIa</td><td>0.0328314118206002</td><td>1.9179622929413818e-10</td><td>0.026475655</td><td>252.31411525556464</td><td>1.2309434053867048</td></tr>\n",
       "</table></div>"
      ],
      "text/plain": [
       "<Table length=2>\n",
       "SGA_ID    SGA_GALAXY     GALAXY  ...     V_0p33R26        V_0p33R26_err   \n",
       "int64      bytes16      bytes29  ...      float64            float64      \n",
       "------ --------------- --------- ... ------------------ ------------------\n",
       "294387 SGA-2020 294387 PGC039073 ... 137.13676837201095  1.577687854064966\n",
       "464075 SGA-2020 464075  UGC10244 ... 252.31411525556464 1.2309434053867048"
      ]
     },
     "execution_count": 23,
     "metadata": {},
     "output_type": "execute_result"
    }
   ],
   "source": [
    "SGA_0pt"
   ]
  },
  {
   "cell_type": "code",
   "execution_count": 24,
   "id": "6bf22455-d741-4671-9c99-502d88f4dec7",
   "metadata": {},
   "outputs": [],
   "source": [
    "SGA_0pt['R_ABSMAG_SB26'] = SGA_0pt['R_MAG_SB26'] - SGA_0pt['DM1_SN']\n",
    "SGA_0pt['R_ABSMAG_SB26_err'] = np.sqrt(SGA_0pt['R_MAG_SB26_ERR']**2 + SGA_0pt['e_DM1_SN']**2)"
   ]
  },
  {
   "cell_type": "code",
   "execution_count": 25,
   "id": "2e4f2998-0c1e-4e25-a3de-9a8fc73c39a2",
   "metadata": {},
   "outputs": [],
   "source": [
    "'''\n",
    "good_edge_spirals_axis_dist['R_ABSMAG_SB26'] = np.nan\n",
    "good_edge_spirals_axis_dist['R_ABSMAG_SB26_err'] = np.nan\n",
    "\n",
    "for sga_id in np.unique(good_edge_spirals_axis_dist['SGA_ID']):\n",
    "    \n",
    "    obs_idx = good_edge_spirals_axis_dist['SGA_ID'] == sga_id\n",
    "    \n",
    "    good_edge_spirals_axis_dist['R_ABSMAG_SB26'][obs_idx] = good_edge_spirals_axis_dist['R_MAG_SB26'][obs_idx] - SGA['DM1_SN'][SGA_dict[sga_id]]\n",
    "    good_edge_spirals_axis_dist['R_ABSMAG_SB26_err'][obs_idx] = np.sqrt(good_edge_spirals_axis_dist['R_MAG_SB26_ERR'][obs_idx]**2 + SGA['e_DM1_SN'][SGA_dict[sga_id]]**2)\n",
    "''';"
   ]
  },
  {
   "cell_type": "code",
   "execution_count": 26,
   "id": "15d86846-8b16-406a-96e9-3a84d2ee3a9e",
   "metadata": {},
   "outputs": [
    {
     "data": {
      "image/png": "[encoded data removed]",
      "text/plain": [
       "<Figure size 432x288 with 1 Axes>"
      ]
     },
     "metadata": {
      "needs_background": "light"
     },
     "output_type": "display_data"
    }
   ],
   "source": [
    "#plt.figure(figsize=(9,5), tight_layout=True)\n",
    "plt.figure(tight_layout=True)\n",
    "\n",
    "#plt.subplot(121)\n",
    "plt.errorbar(np.log10(SGA_0pt['V_0p33R26']), \n",
    "             SGA_0pt['R_ABSMAG_SB26'], \n",
    "             xerr=0.434*SGA_0pt['V_0p33R26_err']/SGA_0pt['V_0p33R26'],\n",
    "             yerr=SGA_0pt['R_ABSMAG_SB26_err'], \n",
    "             fmt='.')\n",
    "\n",
    "plt.xlim([2, 2.5])\n",
    "plt.ylim([-19, -22])\n",
    "\n",
    "plt.xlabel('log($V_{rot}$ [km/s])')\n",
    "plt.ylabel('$M_r (26) - 5\\logh$')\n",
    "\n",
    "'''\n",
    "plt.subplot(122)\n",
    "plt.errorbar(np.log10(good_edge_spirals_axis_dist['V_ROT']), \n",
    "             good_edge_spirals_axis_dist['R_ABSMAG_SB26'], \n",
    "             xerr=0.434*good_edge_spirals_axis_dist['V_ROT_ERR']/good_edge_spirals_axis_dist['V_ROT'],\n",
    "             yerr=good_edge_spirals_axis_dist['R_ABSMAG_SB26_err'], \n",
    "             fmt='.')\n",
    "\n",
    "plt.xlim([2, 2.5])\n",
    "plt.ylim([-19, -22])\n",
    "\n",
    "plt.xlabel('log($V_{rot}$ [km/s])')\n",
    "plt.ylabel('$M_r (26) - 5\\logh$')\n",
    "''';"
   ]
  },
  {
   "cell_type": "markdown",
   "id": "61f2f741-b5eb-42da-8f39-1834f5d6fe0c",
   "metadata": {
    "jp-MarkdownHeadingCollapsed": true,
    "tags": []
   },
   "source": [
    "## Fit the TFR using `hyperfit`\n",
    "\n",
    "**Note:** This does not work, because there are exactly two points that we are trying to fit to.  Instead, we are going to minimze the $\\chi^2$, and fix the slope as we want.\n",
    "\n",
    "We are going to fix the slope to be equal to that derived in the `Coma-Fuji_KAD.ipynb` notebook.\n",
    "\n",
    "### Create covariance matrix for `hyperfit`"
   ]
  },
  {
   "cell_type": "code",
   "execution_count": 32,
   "id": "66feb65e-bcb2-4b89-a3da-911256836056",
   "metadata": {},
   "outputs": [],
   "source": [
    "Ndata = len(good_edge_spirals_axis_dist)\n",
    "#Ndata = len(SGA_0pt)\n",
    "cov = np.empty((2, 2, Ndata))\n",
    "\n",
    "# loop over arrays of uncertainties in logv and mag\n",
    "# Assume diagonal covariance for each measurement.\n",
    "for i in range(Ndata):\n",
    "    cov[:,:,i] = np.array([[(0.434*good_edge_spirals_axis_dist['V_ROT_ERR'][i]/good_edge_spirals_axis_dist['V_ROT'][i])**2, 0.], \n",
    "                           [0., good_edge_spirals_axis_dist['R_ABSMAG_SB26_err'][i]**2]])\n",
    "    #cov[:,:,i] = np.array([[(0.434*SGA_0pt['V_0p33R26_err'][i]/SGA_0pt['V_0p33R26'][i])**2, 0.], [0., SGA_0pt['R_ABSMAG_SB26_err'][i]**2]])"
   ]
  },
  {
   "cell_type": "markdown",
   "id": "7a0afd5c-4864-4bef-bc9c-d94243e1daaf",
   "metadata": {},
   "source": [
    "### Create `hyperfit` object"
   ]
  },
  {
   "cell_type": "code",
   "execution_count": 33,
   "id": "1eeb4f8b-be12-4bda-8dd9-984c34b404cf",
   "metadata": {},
   "outputs": [
    {
     "name": "stderr",
     "output_type": "stream",
     "text": [
      "/tmp/ipykernel_53081/211347197.py:1: RuntimeWarning: invalid value encountered in log10\n",
      "  hf = LinFit([np.log10(good_edge_spirals_axis_dist['V_ROT']), good_edge_spirals_axis_dist['R_ABSMAG_SB26']], cov)\n"
     ]
    }
   ],
   "source": [
    "hf = LinFit([np.log10(good_edge_spirals_axis_dist['V_ROT']), good_edge_spirals_axis_dist['R_ABSMAG_SB26']], cov)\n",
    "#hf = LinFit([np.log10(SGA_0pt['V_0p33R26']), SGA_0pt['R_ABSMAG_SB26']], cov)"
   ]
  },
  {
   "cell_type": "markdown",
   "id": "1ad4f1f3-c362-4c45-94e8-a210777cf68e",
   "metadata": {},
   "source": [
    "### Run MCMC to fit TFR\n",
    "\n",
    "Slope for TFR: $-5.63^{+0.87}_{-1.19}$ (from `Coma-Fuji_KAD.ipynb`)"
   ]
  },
  {
   "cell_type": "code",
   "execution_count": 34,
   "id": "ef187e28-ae77-40d6-bdec-7bfe178e3187",
   "metadata": {},
   "outputs": [
    {
     "name": "stdout",
     "output_type": "stream",
     "text": [
      "     fun: nan\n",
      " message: 'Maximum number of iterations has been exceeded.'\n",
      "    nfev: 45129\n",
      "     nit: 1000\n",
      " success: False\n",
      "       x: array([-0.84534927, -0.13665936, 24.81880418])\n"
     ]
    },
    {
     "ename": "ValueError",
     "evalue": "Probability function returned NaN",
     "output_type": "error",
     "traceback": [
      "\u001b[0;31m---------------------------------------------------------------------------\u001b[0m",
      "\u001b[0;31mValueError\u001b[0m                                Traceback (most recent call last)",
      "\u001b[0;32m/tmp/ipykernel_53081/1609561554.py\u001b[0m in \u001b[0;36m<module>\u001b[0;34m\u001b[0m\n\u001b[1;32m      2\u001b[0m \u001b[0;31m# bounds = ((-10.0, 10.0), (-20.0, 20.0), (1.0e-5, 500.0))\u001b[0m\u001b[0;34m\u001b[0m\u001b[0;34m\u001b[0m\u001b[0m\n\u001b[1;32m      3\u001b[0m \u001b[0;34m\u001b[0m\u001b[0m\n\u001b[0;32m----> 4\u001b[0;31m \u001b[0mmcmc_samples\u001b[0m\u001b[0;34m,\u001b[0m \u001b[0mmcmc_lnlike\u001b[0m \u001b[0;34m=\u001b[0m \u001b[0mhf\u001b[0m\u001b[0;34m.\u001b[0m\u001b[0memcee\u001b[0m\u001b[0;34m(\u001b[0m\u001b[0mbounds\u001b[0m\u001b[0;34m,\u001b[0m \u001b[0mverbose\u001b[0m\u001b[0;34m=\u001b[0m\u001b[0;32mTrue\u001b[0m\u001b[0;34m)\u001b[0m\u001b[0;34m\u001b[0m\u001b[0;34m\u001b[0m\u001b[0m\n\u001b[0m\u001b[1;32m      5\u001b[0m \u001b[0;34m\u001b[0m\u001b[0m\n\u001b[1;32m      6\u001b[0m \u001b[0mprint\u001b[0m\u001b[0;34m(\u001b[0m\u001b[0mnp\u001b[0m\u001b[0;34m.\u001b[0m\u001b[0mmean\u001b[0m\u001b[0;34m(\u001b[0m\u001b[0mmcmc_samples\u001b[0m\u001b[0;34m,\u001b[0m \u001b[0maxis\u001b[0m\u001b[0;34m=\u001b[0m\u001b[0;36m1\u001b[0m\u001b[0;34m)\u001b[0m\u001b[0;34m,\u001b[0m \u001b[0mnp\u001b[0m\u001b[0;34m.\u001b[0m\u001b[0mstd\u001b[0m\u001b[0;34m(\u001b[0m\u001b[0mmcmc_samples\u001b[0m\u001b[0;34m,\u001b[0m \u001b[0maxis\u001b[0m\u001b[0;34m=\u001b[0m\u001b[0;36m1\u001b[0m\u001b[0;34m)\u001b[0m\u001b[0;34m)\u001b[0m\u001b[0;34m\u001b[0m\u001b[0;34m\u001b[0m\u001b[0m\n",
      "\u001b[0;32m~/.local/lib/python3.9/site-packages/hyperfit/linfit.py\u001b[0m in \u001b[0;36memcee\u001b[0;34m(self, bounds, max_iter, batchsize, ntau, tautol, verbose)\u001b[0m\n\u001b[1;32m    469\u001b[0m         \u001b[0mconverged\u001b[0m \u001b[0;34m=\u001b[0m \u001b[0;36m0\u001b[0m\u001b[0;34m\u001b[0m\u001b[0;34m\u001b[0m\u001b[0m\n\u001b[1;32m    470\u001b[0m         \u001b[0;32mwhile\u001b[0m \u001b[0;34m~\u001b[0m\u001b[0mconverged\u001b[0m\u001b[0;34m:\u001b[0m\u001b[0;34m\u001b[0m\u001b[0;34m\u001b[0m\u001b[0m\n\u001b[0;32m--> 471\u001b[0;31m             \u001b[0msampler\u001b[0m\u001b[0;34m.\u001b[0m\u001b[0mrun_mcmc\u001b[0m\u001b[0;34m(\u001b[0m\u001b[0mbegin\u001b[0m\u001b[0;34m,\u001b[0m \u001b[0mnsteps\u001b[0m\u001b[0;34m=\u001b[0m\u001b[0mbatchsize\u001b[0m\u001b[0;34m,\u001b[0m \u001b[0mprogress\u001b[0m\u001b[0;34m=\u001b[0m\u001b[0mverbose\u001b[0m\u001b[0;34m)\u001b[0m\u001b[0;34m\u001b[0m\u001b[0;34m\u001b[0m\u001b[0m\n\u001b[0m\u001b[1;32m    472\u001b[0m             \u001b[0mtau\u001b[0m \u001b[0;34m=\u001b[0m \u001b[0msampler\u001b[0m\u001b[0;34m.\u001b[0m\u001b[0mget_autocorr_time\u001b[0m\u001b[0;34m(\u001b[0m\u001b[0mdiscard\u001b[0m\u001b[0;34m=\u001b[0m\u001b[0mint\u001b[0m\u001b[0;34m(\u001b[0m\u001b[0;36m0.5\u001b[0m \u001b[0;34m*\u001b[0m \u001b[0mniter\u001b[0m\u001b[0;34m)\u001b[0m\u001b[0;34m,\u001b[0m \u001b[0mtol\u001b[0m\u001b[0;34m=\u001b[0m\u001b[0;36m0\u001b[0m\u001b[0;34m)\u001b[0m\u001b[0;34m\u001b[0m\u001b[0;34m\u001b[0m\u001b[0m\n\u001b[1;32m    473\u001b[0m             \u001b[0mconverged\u001b[0m \u001b[0;34m=\u001b[0m \u001b[0mnp\u001b[0m\u001b[0;34m.\u001b[0m\u001b[0mall\u001b[0m\u001b[0;34m(\u001b[0m\u001b[0mntau\u001b[0m \u001b[0;34m*\u001b[0m \u001b[0mtau\u001b[0m \u001b[0;34m<\u001b[0m \u001b[0mniter\u001b[0m\u001b[0;34m)\u001b[0m\u001b[0;34m\u001b[0m\u001b[0;34m\u001b[0m\u001b[0m\n",
      "\u001b[0;32m~/.local/lib/python3.9/site-packages/emcee/ensemble.py\u001b[0m in \u001b[0;36mrun_mcmc\u001b[0;34m(self, initial_state, nsteps, **kwargs)\u001b[0m\n\u001b[1;32m    441\u001b[0m \u001b[0;34m\u001b[0m\u001b[0m\n\u001b[1;32m    442\u001b[0m         \u001b[0mresults\u001b[0m \u001b[0;34m=\u001b[0m \u001b[0;32mNone\u001b[0m\u001b[0;34m\u001b[0m\u001b[0;34m\u001b[0m\u001b[0m\n\u001b[0;32m--> 443\u001b[0;31m         \u001b[0;32mfor\u001b[0m \u001b[0mresults\u001b[0m \u001b[0;32min\u001b[0m \u001b[0mself\u001b[0m\u001b[0;34m.\u001b[0m\u001b[0msample\u001b[0m\u001b[0;34m(\u001b[0m\u001b[0minitial_state\u001b[0m\u001b[0;34m,\u001b[0m \u001b[0miterations\u001b[0m\u001b[0;34m=\u001b[0m\u001b[0mnsteps\u001b[0m\u001b[0;34m,\u001b[0m \u001b[0;34m**\u001b[0m\u001b[0mkwargs\u001b[0m\u001b[0;34m)\u001b[0m\u001b[0;34m:\u001b[0m\u001b[0;34m\u001b[0m\u001b[0;34m\u001b[0m\u001b[0m\n\u001b[0m\u001b[1;32m    444\u001b[0m             \u001b[0;32mpass\u001b[0m\u001b[0;34m\u001b[0m\u001b[0;34m\u001b[0m\u001b[0m\n\u001b[1;32m    445\u001b[0m \u001b[0;34m\u001b[0m\u001b[0m\n",
      "\u001b[0;32m~/.local/lib/python3.9/site-packages/emcee/ensemble.py\u001b[0m in \u001b[0;36msample\u001b[0;34m(self, initial_state, log_prob0, rstate0, blobs0, iterations, tune, skip_initial_state_check, thin_by, thin, store, progress, progress_kwargs)\u001b[0m\n\u001b[1;32m    342\u001b[0m             \u001b[0mstate\u001b[0m\u001b[0;34m.\u001b[0m\u001b[0mblobs\u001b[0m \u001b[0;34m=\u001b[0m \u001b[0mblobs0\u001b[0m\u001b[0;34m\u001b[0m\u001b[0;34m\u001b[0m\u001b[0m\n\u001b[1;32m    343\u001b[0m         \u001b[0;32mif\u001b[0m \u001b[0mstate\u001b[0m\u001b[0;34m.\u001b[0m\u001b[0mlog_prob\u001b[0m \u001b[0;32mis\u001b[0m \u001b[0;32mNone\u001b[0m\u001b[0;34m:\u001b[0m\u001b[0;34m\u001b[0m\u001b[0;34m\u001b[0m\u001b[0m\n\u001b[0;32m--> 344\u001b[0;31m             \u001b[0mstate\u001b[0m\u001b[0;34m.\u001b[0m\u001b[0mlog_prob\u001b[0m\u001b[0;34m,\u001b[0m \u001b[0mstate\u001b[0m\u001b[0;34m.\u001b[0m\u001b[0mblobs\u001b[0m \u001b[0;34m=\u001b[0m \u001b[0mself\u001b[0m\u001b[0;34m.\u001b[0m\u001b[0mcompute_log_prob\u001b[0m\u001b[0;34m(\u001b[0m\u001b[0mstate\u001b[0m\u001b[0;34m.\u001b[0m\u001b[0mcoords\u001b[0m\u001b[0;34m)\u001b[0m\u001b[0;34m\u001b[0m\u001b[0;34m\u001b[0m\u001b[0m\n\u001b[0m\u001b[1;32m    345\u001b[0m         \u001b[0;32mif\u001b[0m \u001b[0mnp\u001b[0m\u001b[0;34m.\u001b[0m\u001b[0mshape\u001b[0m\u001b[0;34m(\u001b[0m\u001b[0mstate\u001b[0m\u001b[0;34m.\u001b[0m\u001b[0mlog_prob\u001b[0m\u001b[0;34m)\u001b[0m \u001b[0;34m!=\u001b[0m \u001b[0;34m(\u001b[0m\u001b[0mself\u001b[0m\u001b[0;34m.\u001b[0m\u001b[0mnwalkers\u001b[0m\u001b[0;34m,\u001b[0m\u001b[0;34m)\u001b[0m\u001b[0;34m:\u001b[0m\u001b[0;34m\u001b[0m\u001b[0;34m\u001b[0m\u001b[0m\n\u001b[1;32m    346\u001b[0m             \u001b[0;32mraise\u001b[0m \u001b[0mValueError\u001b[0m\u001b[0;34m(\u001b[0m\u001b[0;34m\"incompatible input dimensions\"\u001b[0m\u001b[0;34m)\u001b[0m\u001b[0;34m\u001b[0m\u001b[0;34m\u001b[0m\u001b[0m\n",
      "\u001b[0;32m~/.local/lib/python3.9/site-packages/emcee/ensemble.py\u001b[0m in \u001b[0;36mcompute_log_prob\u001b[0;34m(self, coords)\u001b[0m\n\u001b[1;32m    533\u001b[0m         \u001b[0;31m# Check for log_prob returning NaN.\u001b[0m\u001b[0;34m\u001b[0m\u001b[0;34m\u001b[0m\u001b[0m\n\u001b[1;32m    534\u001b[0m         \u001b[0;32mif\u001b[0m \u001b[0mnp\u001b[0m\u001b[0;34m.\u001b[0m\u001b[0many\u001b[0m\u001b[0;34m(\u001b[0m\u001b[0mnp\u001b[0m\u001b[0;34m.\u001b[0m\u001b[0misnan\u001b[0m\u001b[0;34m(\u001b[0m\u001b[0mlog_prob\u001b[0m\u001b[0;34m)\u001b[0m\u001b[0;34m)\u001b[0m\u001b[0;34m:\u001b[0m\u001b[0;34m\u001b[0m\u001b[0;34m\u001b[0m\u001b[0m\n\u001b[0;32m--> 535\u001b[0;31m             \u001b[0;32mraise\u001b[0m \u001b[0mValueError\u001b[0m\u001b[0;34m(\u001b[0m\u001b[0;34m\"Probability function returned NaN\"\u001b[0m\u001b[0;34m)\u001b[0m\u001b[0;34m\u001b[0m\u001b[0;34m\u001b[0m\u001b[0m\n\u001b[0m\u001b[1;32m    536\u001b[0m \u001b[0;34m\u001b[0m\u001b[0m\n\u001b[1;32m    537\u001b[0m         \u001b[0;32mreturn\u001b[0m \u001b[0mlog_prob\u001b[0m\u001b[0;34m,\u001b[0m \u001b[0mblob\u001b[0m\u001b[0;34m\u001b[0m\u001b[0;34m\u001b[0m\u001b[0m\n",
      "\u001b[0;31mValueError\u001b[0m: Probability function returned NaN"
     ]
    }
   ],
   "source": [
    "bounds = ((-5.639, -5.630), (-20.0, 20.0), (1.0e-5, 500.0))\n",
    "# bounds = ((-10.0, 10.0), (-20.0, 20.0), (1.0e-5, 500.0))\n",
    "\n",
    "mcmc_samples, mcmc_lnlike = hf.emcee(bounds, verbose=True)\n",
    "\n",
    "print(np.mean(mcmc_samples, axis=1), np.std(mcmc_samples, axis=1))"
   ]
  },
  {
   "cell_type": "markdown",
   "id": "b1b210f4-8845-466a-86c4-938cdb645651",
   "metadata": {},
   "source": [
    "## Fit the TFR by minimizing $\\chi^2$\n",
    "\n",
    "This is taken from Sec. 15.3 of *Numerical Recipes*"
   ]
  },
  {
   "cell_type": "code",
   "execution_count": 27,
   "id": "9c60f99d-e792-4735-8268-cbd2fa928df6",
   "metadata": {},
   "outputs": [],
   "source": [
    "def zero_point(b, m, x):\n",
    "    '''\n",
    "    Equation of a line\n",
    "    \n",
    "    \n",
    "    PARAMETERS\n",
    "    ==========\n",
    "    \n",
    "    b : float\n",
    "        y-intercept of line (this is what is being fit for)\n",
    "    \n",
    "    m : float\n",
    "        Slope of line\n",
    "    \n",
    "    x : np.ndarray of shape (n,)\n",
    "        x-values of line\n",
    "    \n",
    "    \n",
    "    RETURNS\n",
    "    =======\n",
    "    \n",
    "    y : np.ndarray of shape (n,)\n",
    "        y-values calculated with the provided inputs\n",
    "    '''\n",
    "    \n",
    "    y = m*x + b\n",
    "    \n",
    "    return y"
   ]
  },
  {
   "cell_type": "code",
   "execution_count": 28,
   "id": "9c88aaab-2e28-4d14-b5fd-a5b900364c70",
   "metadata": {},
   "outputs": [],
   "source": [
    "def calculate_chi2(b, m, x, x_err, y, y_err):\n",
    "    '''\n",
    "    Calculate the reduced chi2 value of the current line.\n",
    "    \n",
    "    \n",
    "    PARAMETERS\n",
    "    ==========\n",
    "    \n",
    "    b : float\n",
    "        y-intercept of the line (this is what is being fit for)\n",
    "        \n",
    "    m : floats\n",
    "        Slope of the line\n",
    "    \n",
    "    x, x_err : np.ndarrays of shape (n,)\n",
    "        x-values and uncertainties in the x-values\n",
    "    \n",
    "    y, y_err : np.ndarrays of shape (n,)\n",
    "        y-values and uncertainties in the y-values\n",
    "    \n",
    "    \n",
    "    RETURNS\n",
    "    =======\n",
    "    \n",
    "    chi2_norm : float\n",
    "        Chi2 value of the current best fit (given by b) normalized by the number \n",
    "        of data points (minus the number of free parameters)\n",
    "    '''\n",
    "    \n",
    "    ############################################################################\n",
    "    # Calculate the values of the current best-fit line\n",
    "    #---------------------------------------------------------------------------\n",
    "    y_fit = zero_point(b, m, x)\n",
    "    ############################################################################\n",
    "    \n",
    "    \n",
    "    ############################################################################\n",
    "    # Calculate chi2 of current fit\n",
    "    #---------------------------------------------------------------------------\n",
    "    chi2 = np.sum((y - y_fit)**2/(y_err**2 + (m*x_err)**2))\n",
    "    \n",
    "    chi2_norm = chi2/(len(x) - 1) # Only one free parameter in this fit\n",
    "    ############################################################################\n",
    "    \n",
    "    return chi2_norm"
   ]
  },
  {
   "cell_type": "markdown",
   "id": "f1aeacd0-6a09-4148-afce-fd5925776b5a",
   "metadata": {},
   "source": [
    "Slope for TFR: $-5.63^{+0.87}_{-1.19}$ (from `Coma-Fuji_KAD.ipynb`)"
   ]
  },
  {
   "cell_type": "code",
   "execution_count": 45,
   "id": "bb13479e-e334-4066-abab-41162eaf3d21",
   "metadata": {},
   "outputs": [],
   "source": [
    "b0_guess = -6.5\n",
    "\n",
    "# Segev recommends that we generate a bunch of slopes based on its uncertainty, and run the fit a bunch of times.\n",
    "m_fit = -5.63\n",
    "m_fit_err = 1.16\n",
    "\n",
    "N_samples = 100000\n",
    "\n",
    "rng = np.random.default_rng()\n",
    "m_random = rng.normal(m_fit, m_fit_err, size=N_samples)\n",
    "\n",
    "b_fit_array = np.nan*np.ones(N_samples)\n",
    "\n",
    "# Fit for b using the actual slope\n",
    "result = minimize(calculate_chi2, \n",
    "                  b0_guess, \n",
    "                  args=(m_fit, \n",
    "                        np.log10(SGA_0pt['V_0p33R26']), 0.434*SGA_0pt['V_0p33R26_err']/SGA_0pt['V_0p33R26'], \n",
    "                        SGA_0pt['R_ABSMAG_SB26'], SGA_0pt['R_ABSMAG_SB26_err']), \n",
    "                  bounds=[[-19, 0]])\n",
    "b_fit = result.x[0]\n",
    "\n",
    "for i in range(N_samples):\n",
    "    result = minimize(calculate_chi2, \n",
    "                      b0_guess, \n",
    "                      args=(m_random[i], \n",
    "                            np.log10(SGA_0pt['V_0p33R26']), 0.434*SGA_0pt['V_0p33R26_err']/SGA_0pt['V_0p33R26'], \n",
    "                            SGA_0pt['R_ABSMAG_SB26'], SGA_0pt['R_ABSMAG_SB26_err']), \n",
    "                      bounds=[[-19, 0]])\n",
    "    \n",
    "    if result.success:\n",
    "        b_fit_array[i] = result.x[0]"
   ]
  },
  {
   "cell_type": "code",
   "execution_count": 46,
   "id": "0491aff7-ec2f-4ec5-9342-5c7ed48eeac0",
   "metadata": {},
   "outputs": [
    {
     "name": "stdout",
     "output_type": "stream",
     "text": [
      " -7.93 +/- 2.71\n"
     ]
    }
   ],
   "source": [
    "#b_fit = result.x[0]\n",
    "#b_fit_err = np.sqrt(np.diag(result.hess_inv.todense()))[0]\n",
    "\n",
    "#b_fit = np.nanmean(b_fit_array)\n",
    "b_fit_err = np.nanstd(b_fit_array)\n",
    "\n",
    "print('{:6.2f} +/- {:.2f}'.format(b_fit, b_fit_err))"
   ]
  },
  {
   "cell_type": "code",
   "execution_count": 48,
   "id": "a8ee7319-deb7-4df6-b134-3ad948346f3f",
   "metadata": {},
   "outputs": [
    {
     "data": {
      "image/png": "[encoded data removed]",
      "text/plain": [
       "<Figure size 288x360 with 1 Axes>"
      ]
     },
     "metadata": {
      "needs_background": "light"
     },
     "output_type": "display_data"
    }
   ],
   "source": [
    "#sigmas = hf.get_sigmas()\n",
    "xvals = np.linspace(1., 3., 1000)\n",
    "yvals = m_fit * xvals + b_fit\n",
    "\n",
    "# Calculate all of the best fits\n",
    "yvals_random = []\n",
    "for i in range(N_samples):\n",
    "    yvals_random.append(xvals*m_random[i] + b_fit_array[i])\n",
    "    #yvals_random.append(xvals*m_fit + b_fit_array[i])\n",
    "yvals_random = np.asarray(yvals_random)\n",
    "edges = np.nanpercentile(yvals_random, [16, 84], axis=0)\n",
    "\n",
    "# Pack info into data\n",
    "data = [np.log10(SGA_0pt['V_0p33R26']), SGA_0pt['R_ABSMAG_SB26']]\n",
    "x_err = 0.434*SGA_0pt['V_0p33R26_err']/SGA_0pt['V_0p33R26']\n",
    "y_err = SGA_0pt['R_ABSMAG_SB26_err']\n",
    "corr_xy = np.zeros_like(x_err)\n",
    "\n",
    "# Generate ellipses\n",
    "ells = [\n",
    "    Ellipse(\n",
    "        xy=[data[0][i], data[1][i]],\n",
    "        width=2*y_err[i],\n",
    "        height=2*x_err[i],\n",
    "        angle=np.rad2deg(np.arccos(corr_xy[i])),\n",
    "    )\n",
    "    for i in range(len(data[0]))\n",
    "]\n",
    "# Make the plot\n",
    "'''\n",
    "fig = plt.figure(figsize=(3,5))\n",
    "ax = fig.add_axes([0.15, 0.15, 1.03, 0.83])\n",
    "'''\n",
    "fig, ax = plt.subplots(figsize=(4,5), tight_layout=True)\n",
    "ax.fill_between(xvals, edges[0], edges[1], color=\"lightgray\")\n",
    "#ax.fill_between(xvals, xvals-std_dev, xvals+std_dev, color='lightgray')\n",
    "for i, e in enumerate(ells):\n",
    "    ax.add_artist(e)\n",
    "    #e.set_color(cm.winter(sigmas[i] / np.amax(sigmas)))\n",
    "    e.set_edgecolor('None')\n",
    "    #e.set_alpha(0.9)\n",
    "ax.plot(xvals, yvals, c=\"k\", marker=\"None\", ls=\"-\", lw=1.3)#, alpha=0.9)\n",
    "ax.set_xlabel(r\"$\\log{(V_\\mathrm{0.33R_{26}} [\\mathrm{km/s}])}$\", fontsize=14)\n",
    "ax.set_ylabel(r\"$M_r(26)$\", fontsize=14)\n",
    "ax.set_title(\"0-pt calibration ({} galaxies)\".format(len(SGA_0pt)), fontsize = 14)\n",
    "ax.set_xlim(2, 2.5)\n",
    "ax.set_ylim(-19, -22)\n",
    "'''\n",
    "# Add the colourbar\n",
    "cb = fig.colorbar(\n",
    "    cm.ScalarMappable(norm=colors.Normalize(vmin=0.0, vmax=np.amax(sigmas)), cmap=cm.winter),\n",
    "    ax=ax,\n",
    "    shrink=0.5,\n",
    "    aspect=10,\n",
    "    anchor=(-8, 0.95),\n",
    ")\n",
    "cb.set_label(label=r\"$\\sigma$\", fontsize=14)\n",
    "''';\n",
    "\n",
    "plt.savefig('../../Figures/SV/fuji_0pt_TFR_20230126.png', dpi=150)"
   ]
  },
  {
   "cell_type": "code",
   "execution_count": null,
   "id": "a62b2921-fa37-4d47-8ecd-3a4365d622cc",
   "metadata": {},
   "outputs": [],
   "source": []
  }
 ],
 "metadata": {
  "kernelspec": {
   "display_name": "DESI master",
   "language": "python",
   "name": "desi-master"
  },
  "language_info": {
   "codemirror_mode": {
    "name": "ipython",
    "version": 3
   },
   "file_extension": ".py",
   "mimetype": "text/x-python",
   "name": "python",
   "nbconvert_exporter": "python",
   "pygments_lexer": "ipython3",
   "version": "3.9.7"
  }
 },
 "nbformat": 4,
 "nbformat_minor": 5
}
