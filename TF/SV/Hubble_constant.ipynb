{
 "cells": [
  {
   "cell_type": "code",
   "execution_count": 36,
   "id": "b2ce77dd-ac42-4ab9-b2ef-7352b1ad3c98",
   "metadata": {},
   "outputs": [],
   "source": [
    "import numpy as np\n",
    "\n",
    "import matplotlib as mpl\n",
    "import matplotlib.pyplot as plt\n",
    "\n",
    "from astropy.table import Table\n",
    "\n",
    "from scipy.optimize import minimize"
   ]
  },
  {
   "cell_type": "code",
   "execution_count": 37,
   "id": "96006f69-e42c-4fca-ba3f-7fec0b3cf5ff",
   "metadata": {},
   "outputs": [],
   "source": [
    "mpl.rc('font', size=12)\n",
    "#mpl.rc('axes', titlesize='small')\n",
    "mpl.rc('figure', max_open_warning=0)\n",
    "\n",
    "plt.rcParams['font.family'] = 'serif'\n",
    "plt.rcParams['font.serif'] = ['Times New Roman'] + plt.rcParams['font.serif']"
   ]
  },
  {
   "cell_type": "code",
   "execution_count": 38,
   "id": "7396ba79-2862-476c-9614-2d7dcd2b049b",
   "metadata": {},
   "outputs": [],
   "source": [
    "PV_tab = Table.read('cache/SGA_PV.fits', format = 'fits')"
   ]
  },
  {
   "cell_type": "code",
   "execution_count": 6,
   "id": "590da1ab-9e98-4cc1-91b1-70229f790af9",
   "metadata": {},
   "outputs": [
    {
     "data": {
      "text/html": [
       "<div><i>Table length=969</i>\n",
       "<table id=\"table23453866706304\" class=\"table-striped table-bordered table-condensed\">\n",
       "<thead><tr><th>SGA_ID</th><th>PGC</th><th>RMAG</th><th>RMAG_ERR</th><th>VMAX</th><th>VMAX_ERR</th><th>LOG_VMAX</th><th>LOG_VMAX_ERR</th><th>ABS_MAG_CALC</th><th>ABS_MAG_CALC_ERR</th><th>Z_OBS</th><th>Z_OBS_ERR</th><th>Z_H</th><th>Z_H_ERR</th><th>Z_P</th><th>Z_P_ERR</th><th>ABS_MAG_TF</th><th>ABS_MAG_TF_ERR</th></tr></thead>\n",
       "<thead><tr><th>int64</th><th>int64</th><th>float64</th><th>float64</th><th>float64</th><th>float64</th><th>float64</th><th>float64</th><th>float64</th><th>float64</th><th>float64</th><th>float64</th><th>float64</th><th>float64</th><th>float64</th><th>float64</th><th>float64</th><th>float64</th></tr></thead>\n",
       "<tr><td>1548</td><td>3502220</td><td>17.070053100585938</td><td>0.010217264294624329</td><td>153.61304846436158</td><td>3.6373473993169387</td><td>2.186428107852915</td><td>0.010276527854141184</td><td>-19.281223798701404</td><td>23768.12523417303</td><td>0.0621060809646368</td><td>7.92270841139101e-06</td><td>0.06775419493083637</td><td>0.09465204027288213</td><td>-0.005289713674752172</td><td>0.08817699697311762</td><td>-19.470234119372968</td><td>1.9031031488551746</td></tr>\n",
       "<tr><td>1583</td><td>4006227</td><td>17.30707550048828</td><td>0.015975113958120346</td><td>66.73848646769699</td><td>10.953677162903615</td><td>1.824376353260026</td><td>0.0712317006320059</td><td>-17.827886150010855</td><td>18785.22950782002</td><td>0.0354708074996139</td><td>6.26174316927334e-06</td><td>0.024221831540616027</td><td>0.08343649257886888</td><td>0.010982948822793048</td><td>0.08235800970220192</td><td>-16.999565669851414</td><td>1.6605167714096856</td></tr>\n",
       "<tr><td>5732</td><td>1139914</td><td>16.209707260131836</td><td>0.02691706269979477</td><td>80.98794915814094</td><td>1.7234618911255648</td><td>1.9084204015517616</td><td>0.009235725419938081</td><td>-18.23493962318547</td><td>12631.520385223259</td><td>0.0258111955991612</td><td>4.21050679507442e-06</td><td>0.019029961722090892</td><td>0.03384710414525085</td><td>0.00665459714806671</td><td>0.03343605637516679</td><td>-17.573088587087224</td><td>1.6618527892110377</td></tr>\n",
       "<tr><td>8032</td><td>44973</td><td>13.112324714660645</td><td>0.02716110832989216</td><td>285.8022844567438</td><td>13.057899790720636</td><td>2.4560656958440097</td><td>0.019828842585862805</td><td>-21.212104536814557</td><td>35516.7472537965</td><td>0.0244210647760972</td><td>1.18389157512655e-05</td><td>0.025550297127156698</td><td>0.022857178601858624</td><td>-0.0011010989458271059</td><td>0.022263182722414725</td><td>-21.310261333724647</td><td>2.1400622019214515</td></tr>\n",
       "<tr><td>9519</td><td>1120485</td><td>16.026517868041992</td><td>0.01050059124827385</td><td>86.02068818165945</td><td>9.91627156141224</td><td>1.9346029126693836</td><td>0.05003054437979374</td><td>-17.668586393631415</td><td>14871.691477333441</td><td>0.018276776355794</td><td>4.95723049244448e-06</td><td>0.01899040916032868</td><td>0.03662590607703806</td><td>-0.0007003331906948462</td><td>0.035918155603880855</td><td>-17.751760015486447</td><td>1.717637445350886</td></tr>\n",
       "<tr><td>9769</td><td>3417258</td><td>17.31427764892578</td><td>0.0224118921905756</td><td>176.49923646725716</td><td>7.1375235027085004</td><td>2.2467428309772455</td><td>0.017550700287307753</td><td>-20.08680020380467</td><td>16659.12621962967</td><td>0.100715036816642</td><td>5.55304207320989e-06</td><td>0.09164305152188844</td><td>0.07423901187022365</td><td>0.00831039530925981</td><td>0.06857183537040434</td><td>-19.88182633395145</td><td>1.957808017352348</td></tr>\n",
       "<tr><td>10325</td><td>3384559</td><td>17.301721572875977</td><td>0.028219928964972496</td><td>112.36522695185306</td><td>15.639226791469456</td><td>2.0506319333023058</td><td>0.060405025750591514</td><td>-19.432962029975947</td><td>14992.076571185939</td><td>0.0740995321352292</td><td>4.99735885706198e-06</td><td>0.04919638806346224</td><td>0.0664248441006515</td><td>0.023735445866079896</td><td>0.06481290666764813</td><td>-18.543550793655697</td><td>1.8310072408455926</td></tr>\n",
       "<tr><td>11977</td><td>3088810</td><td>16.535913467407227</td><td>0.01605234667658806</td><td>218.17650945393586</td><td>2.5746559381372505</td><td>2.338807989315039</td><td>0.005121544386003142</td><td>-20.73881060499413</td><td>16575.863281109552</td><td>0.0950218671155842</td><td>5.52528776036985e-06</td><td>0.08552215206448233</td><td>0.051615873954495003</td><td>0.008751286220216592</td><td>0.047965469368928815</td><td>-20.510085910434277</td><td>2.034326100278104</td></tr>\n",
       "<tr><td>11998</td><td>3412093</td><td>17.044811248779297</td><td>0.03201938048005104</td><td>140.15673053636965</td><td>1.4772799821313698</td><td>2.1466139580693353</td><td>0.004574446833851076</td><td>-19.275952181122868</td><td>10035.63506324922</td><td>0.0612394711056806</td><td>3.34521168774974e-06</td><td>0.05909474560159539</td><td>0.03950313374323545</td><td>0.0020250553720451148</td><td>0.037374493719449196</td><td>-19.198539361739698</td><td>1.867529769324636</td></tr>\n",
       "<tr><td>13851</td><td>2217692</td><td>16.5017147064209</td><td>0.016593685373663902</td><td>103.82861914997655</td><td>2.7725513375149773</td><td>2.0163170782309403</td><td>0.011589167710526873</td><td>-18.55186101486715</td><td>12779.010706705261</td><td>0.034165980567477</td><td>4.25967023556842e-06</td><td>0.030556134573467977</td><td>0.039170995786302</td><td>0.003502813551736317</td><td>0.03814271090458156</td><td>-18.309383637443293</td><td>1.7560207022038166</td></tr>\n",
       "<tr><td>...</td><td>...</td><td>...</td><td>...</td><td>...</td><td>...</td><td>...</td><td>...</td><td>...</td><td>...</td><td>...</td><td>...</td><td>...</td><td>...</td><td>...</td><td>...</td><td>...</td><td>...</td></tr>\n",
       "<tr><td>1421164</td><td>214279</td><td>15.82199764251709</td><td>0.019854389131069183</td><td>338.302645481913</td><td>5.622642470860442</td><td>2.5293053939266286</td><td>0.007213147354722346</td><td>-21.13586500751868</td><td>41420.8496549025</td><td>0.0821204414446114</td><td>1.38069498849675e-05</td><td>0.11201835326946448</td><td>0.0928416757406444</td><td>-0.026886167604113442</td><td>0.08124463024861403</td><td>-21.810054551157556</td><td>2.19989206907321</td></tr>\n",
       "<tr><td>1421334</td><td>50766</td><td>15.989716529846191</td><td>0.01201766636222601</td><td>79.3852229162128</td><td>2.6220312798615195</td><td>1.899739668633522</td><td>0.014334677584277393</td><td>-18.48304733071815</td><td>4192.40233192383</td><td>0.0261475810218997</td><td>1.39746744397461e-06</td><td>0.016733707507672287</td><td>0.01015151297164969</td><td>0.009258937167828885</td><td>0.010076881696814633</td><td>-17.51385061166591</td><td>1.6560206133542625</td></tr>\n",
       "<tr><td>1424489</td><td>1124166</td><td>16.75220489501953</td><td>0.03625187277793884</td><td>137.04228291544567</td><td>30.235901760536215</td><td>2.136854584701489</td><td>0.0957542525190503</td><td>-20.072853488976236</td><td>8004.8051920013095</td><td>0.0772485652729141</td><td>2.66826839733377e-06</td><td>0.05008502060855027</td><td>0.027536973588197258</td><td>0.025867947957796567</td><td>0.026901915711106453</td><td>-19.131940662627876</td><td>1.9703100299660372</td></tr>\n",
       "<tr><td>1426708</td><td>61074</td><td>14.206855773925781</td><td>0.0029966263100504875</td><td>172.7903572838476</td><td>3.5617490728399885</td><td>2.2375195026378707</td><td>0.00894609584650159</td><td>-20.150503194476045</td><td>7363.9705696539</td><td>0.0247942250562381</td><td>2.4546568565513e-06</td><td>0.021282714999738474</td><td>0.007845265848008025</td><td>0.0034383329952867303</td><td>0.007708189663356266</td><td>-19.818885646498366</td><td>1.9470959152202092</td></tr>\n",
       "<tr><td>1429142</td><td>1132743</td><td>16.11188316345215</td><td>0.012545756064355373</td><td>178.74269130465638</td><td>3.8668500094341924</td><td>2.2522282927615045</td><td>0.009388987554372362</td><td>-20.810338298889107</td><td>17360.77600532487</td><td>0.0807835692711572</td><td>5.78692533510829e-06</td><td>0.0535929034044544</td><td>0.044470314817007306</td><td>0.025807563603401418</td><td>0.04329754453998288</td><td>-19.919259538429813</td><td>1.9599482829318033</td></tr>\n",
       "<tr><td>1429680</td><td>2674979</td><td>16.06074333190918</td><td>0.01716206595301628</td><td>130.8242835644667</td><td>11.440879505824826</td><td>2.116688365083014</td><td>0.037954281653537106</td><td>-18.466803154056834</td><td>25593.28670940273</td><td>0.0268156323366801</td><td>8.53109556980091e-06</td><td>0.03418947120569595</td><td>0.06403230931885324</td><td>-0.007130065693300103</td><td>0.061473992038598074</td><td>-18.994324860672947</td><td>1.8594340331506307</td></tr>\n",
       "<tr><td>1430013</td><td>42849</td><td>15.606401443481445</td><td>0.014776184223592281</td><td>63.26832652733951</td><td>5.637893272656229</td><td>1.8011863473475036</td><td>0.0386741014759648</td><td>-16.475882836295362</td><td>17761.1128026132</td><td>0.00869632178321541</td><td>5.9203709342044e-06</td><td>0.010290159309855301</td><td>0.03604747923368607</td><td>-0.00157760373290039</td><td>0.03562403409671401</td><td>-16.841315322420524</td><td>1.5897276286959947</td></tr>\n",
       "<tr><td>1431285</td><td>90975</td><td>17.423126220703125</td><td>0.014630137011408806</td><td>29.173332540182937</td><td>2.2859258701747254</td><td>1.4649860424623058</td><td>0.034006804888997086</td><td>-13.064137168196954</td><td>18038.73960358002</td><td>0.00417187630335225</td><td>6.01291320119334e-06</td><td>0.008258778377642885</td><td>0.0845192953804669</td><td>-0.004053425729520277</td><td>0.08348720062138626</td><td>-14.547059113295385</td><td>1.2972112385264372</td></tr>\n",
       "<tr><td>1434487</td><td>2033809</td><td>15.964432716369629</td><td>0.007225983776152134</td><td>302.215868910271</td><td>7.841084308113275</td><td>2.4803172647654907</td><td>0.011260264399721292</td><td>-21.38885522870126</td><td>43218.6510079239</td><td>0.0985227066215937</td><td>1.44062170026413e-05</td><td>0.10254546575784647</td><td>0.10343849308555376</td><td>-0.0036486106570559063</td><td>0.09347558944733951</td><td>-21.475755867104482</td><td>2.1581948006642433</td></tr>\n",
       "<tr><td>5002047</td><td>-1</td><td>18.055316925048828</td><td>0.044294025748968124</td><td>63.11118915037567</td><td>14.529090041024327</td><td>1.800106363292837</td><td>0.09991294986979378</td><td>-18.217956966993178</td><td>21823.612268954523</td><td>0.0599147185684255</td><td>7.27453742298484e-06</td><td>0.031676064328047114</td><td>0.13680893329674204</td><td>0.027371628766797773</td><td>0.1362381290785488</td><td>-16.833945429867864</td><td>1.708659516583293</td></tr>\n",
       "</table></div>"
      ],
      "text/plain": [
       "<Table length=969>\n",
       " SGA_ID   PGC          RMAG        ...      ABS_MAG_TF       ABS_MAG_TF_ERR  \n",
       " int64   int64       float64       ...       float64            float64      \n",
       "------- ------- ------------------ ... ------------------- ------------------\n",
       "   1548 3502220 17.070053100585938 ... -19.470234119372968 1.9031031488551746\n",
       "   1583 4006227  17.30707550048828 ... -16.999565669851414 1.6605167714096856\n",
       "   5732 1139914 16.209707260131836 ... -17.573088587087224 1.6618527892110377\n",
       "   8032   44973 13.112324714660645 ... -21.310261333724647 2.1400622019214515\n",
       "   9519 1120485 16.026517868041992 ... -17.751760015486447  1.717637445350886\n",
       "   9769 3417258  17.31427764892578 ...  -19.88182633395145  1.957808017352348\n",
       "  10325 3384559 17.301721572875977 ... -18.543550793655697 1.8310072408455926\n",
       "  11977 3088810 16.535913467407227 ... -20.510085910434277  2.034326100278104\n",
       "  11998 3412093 17.044811248779297 ... -19.198539361739698  1.867529769324636\n",
       "  13851 2217692   16.5017147064209 ... -18.309383637443293 1.7560207022038166\n",
       "    ...     ...                ... ...                 ...                ...\n",
       "1421164  214279  15.82199764251709 ... -21.810054551157556   2.19989206907321\n",
       "1421334   50766 15.989716529846191 ...  -17.51385061166591 1.6560206133542625\n",
       "1424489 1124166  16.75220489501953 ... -19.131940662627876 1.9703100299660372\n",
       "1426708   61074 14.206855773925781 ... -19.818885646498366 1.9470959152202092\n",
       "1429142 1132743  16.11188316345215 ... -19.919259538429813 1.9599482829318033\n",
       "1429680 2674979  16.06074333190918 ... -18.994324860672947 1.8594340331506307\n",
       "1430013   42849 15.606401443481445 ... -16.841315322420524 1.5897276286959947\n",
       "1431285   90975 17.423126220703125 ... -14.547059113295385 1.2972112385264372\n",
       "1434487 2033809 15.964432716369629 ... -21.475755867104482 2.1581948006642433\n",
       "5002047      -1 18.055316925048828 ... -16.833945429867864  1.708659516583293"
      ]
     },
     "execution_count": 6,
     "metadata": {},
     "output_type": "execute_result"
    }
   ],
   "source": [
    "PV_tab"
   ]
  },
  {
   "cell_type": "markdown",
   "id": "8110ff0c-1441-48ab-ac3f-3dd54092ef26",
   "metadata": {},
   "source": [
    "### Using PV measurements to find $H_0$\n",
    "$$v_{pec}=cz_{pec}$$\n",
    "From Hubble's law,\n",
    "$$v=H_0d$$\n",
    "where $d=10^{\\frac{1}{5}(m-M)+1}$"
   ]
  },
  {
   "cell_type": "code",
   "execution_count": 58,
   "id": "be5f9480-c6c3-4c97-abc6-d4c446025326",
   "metadata": {},
   "outputs": [],
   "source": [
    "d_TF = 10**((PV_tab['RMAG']-PV_tab['ABS_MAG_CALC'])/5+1) *1e-6\n",
    "d_TF_err = 2*np.log(10)*10**((PV_tab['RMAG']-PV_tab['ABS_MAG_CALC'])/5)*np.sqrt(PV_tab['RMAG_ERR']**2+PV_tab['ABS_MAG_CALC_ERR']**2) *1e-6\n",
    "z = PV_tab['Z_H']\n",
    "dz = PV_tab['Z_H_ERR']"
   ]
  },
  {
   "cell_type": "code",
   "execution_count": 56,
   "id": "65f8e316-07b6-4b58-8d8d-270bc8696c42",
   "metadata": {},
   "outputs": [
    {
     "data": {
      "text/plain": [
       "(0.06775419493083637, 0.09465204027288213)"
      ]
     },
     "execution_count": 56,
     "metadata": {},
     "output_type": "execute_result"
    }
   ],
   "source": [
    "z[0], dz[0]"
   ]
  },
  {
   "cell_type": "code",
   "execution_count": 57,
   "id": "a7642904-adff-4ef8-92f7-9990450db970",
   "metadata": {},
   "outputs": [
    {
     "data": {
      "text/plain": [
       "(186.31824289391048, 2.039369835465913)"
      ]
     },
     "execution_count": 57,
     "metadata": {},
     "output_type": "execute_result"
    }
   ],
   "source": [
    "d_TF[0], d_TF_err[0]"
   ]
  },
  {
   "cell_type": "code",
   "execution_count": 40,
   "id": "c8b77942-60eb-439a-b9b5-ca91364063b0",
   "metadata": {},
   "outputs": [],
   "source": [
    "def l1norm(pars, x, y, dy):\n",
    "    '''\n",
    "    Linear fit that uses the l1-norm (robust against outliers).\n",
    "    '''\n",
    "    a, b = pars\n",
    "    return np.sum(np.abs((y - a - b*x)/dy))\n",
    "\n",
    "def l1norm_noerror(pars, x, y):\n",
    "    '''\n",
    "    Linear fit that uses the l1-norm without normalizing by measurement uncertainties.\n",
    "    '''\n",
    "    a, b = pars\n",
    "    return np.sum(np.abs(y - a - b*x))\n",
    "\n",
    "def l2norm(pars, x, y, dy):\n",
    "    '''\n",
    "    Linear fit that uses the l2-norm\n",
    "    '''\n",
    "    a, b = pars\n",
    "    return np.sum((y - a - b*x)**2/dy**2)\n",
    "\n",
    "def fit_H0(d, v):\n",
    "    fmin = 1e99\n",
    "    a = 0\n",
    "    b = 75\n",
    "    # a, b = 28, -5\n",
    "    hess_inv = np.ones((2,2))\n",
    "    \n",
    "    succ_res = None\n",
    "    \n",
    "    # Try a large number of random seeds to ensure a decent fit.\n",
    "    for i in range(1000):\n",
    "        _a, _b = np.random.uniform(-1,1), np.random.uniform(50,100)\n",
    "        \n",
    "        res = minimize(l1norm_noerror, \n",
    "                       [_a, _b], \n",
    "                       # args=(logv, r),# dlogv),\n",
    "                       args=(d, v),\n",
    "                       method='L-BFGS-B', \n",
    "                       bounds=[[0,0], [50,120]])\n",
    "        \n",
    "        if res.fun < fmin and res.success:\n",
    "            # print('Successful fit')\n",
    "            succ_res = res.copy()\n",
    "            fmin = res.fun\n",
    "            a, b = res.x\n",
    "            hess_inv = res.hess_inv\n",
    "    \n",
    "    if succ_res is None:\n",
    "        print('No successful fits')\n",
    "    # else:\n",
    "    #     print(succ_res)\n",
    "    \n",
    "    return a, b, hess_inv"
   ]
  },
  {
   "cell_type": "code",
   "execution_count": 41,
   "id": "8875994a-bedc-4235-969a-8dd1a6f81260",
   "metadata": {},
   "outputs": [
    {
     "name": "stderr",
     "output_type": "stream",
     "text": [
      "/global/common/software/desi/cori/desiconda/20211217-2.0.0/conda/lib/python3.9/site-packages/scipy/optimize/_numdiff.py:579: RuntimeWarning: invalid value encountered in true_divide\n",
      "  J_transposed[i] = df / dx\n"
     ]
    },
    {
     "data": {
      "image/png": "[encoded data removed]",
      "text/plain": [
       "<Figure size 432x288 with 1 Axes>"
      ]
     },
     "metadata": {
      "needs_background": "light"
     },
     "output_type": "display_data"
    }
   ],
   "source": [
    "fig, ax = plt.subplots(1, 1, figsize = (6,4))\n",
    "ax.plot(d_TF, 3e5 * z, '.')\n",
    "ax.set(xlabel = 'Distance [Mpc]',\n",
    "       ylabel = 'Recessional velocity [km/s]')\n",
    "       \n",
    "p, q, _ = fit_H0(d_TF, 3e5 * z)\n",
    "d = np.linspace(0, 5e2, 10)\n",
    "ax.plot(d, p+q*d, color = 'k')\n",
    "ax.grid(ls = ':')"
   ]
  },
  {
   "cell_type": "code",
   "execution_count": 42,
   "id": "047ee287-c553-4a14-98b5-0794ddf1ed49",
   "metadata": {},
   "outputs": [
    {
     "data": {
      "text/plain": [
       "(0.0, 87.15004273502117)"
      ]
     },
     "execution_count": 42,
     "metadata": {},
     "output_type": "execute_result"
    }
   ],
   "source": [
    "p,q"
   ]
  },
  {
   "cell_type": "code",
   "execution_count": 50,
   "id": "fec24b69-c80e-4022-9bab-3068fd0b3ce3",
   "metadata": {
    "collapsed": true,
    "jupyter": {
     "outputs_hidden": true
    },
    "tags": []
   },
   "outputs": [
    {
     "name": "stderr",
     "output_type": "stream",
     "text": [
      "/global/common/software/desi/cori/desiconda/20211217-2.0.0/conda/lib/python3.9/site-packages/scipy/optimize/_numdiff.py:579: RuntimeWarning: invalid value encountered in true_divide\n",
      "  J_transposed[i] = df / dx\n"
     ]
    },
    {
     "name": "stdout",
     "output_type": "stream",
     "text": [
      "No successful fits\n"
     ]
    },
    {
     "ename": "KeyboardInterrupt",
     "evalue": "",
     "output_type": "error",
     "traceback": [
      "\u001b[0;31m---------------------------------------------------------------------------\u001b[0m",
      "\u001b[0;31mKeyboardInterrupt\u001b[0m                         Traceback (most recent call last)",
      "\u001b[0;32m/tmp/ipykernel_6407/3777686694.py\u001b[0m in \u001b[0;36m<module>\u001b[0;34m\u001b[0m\n\u001b[1;32m      3\u001b[0m     \u001b[0m_D\u001b[0m \u001b[0;34m=\u001b[0m \u001b[0mnp\u001b[0m\u001b[0;34m.\u001b[0m\u001b[0mrandom\u001b[0m\u001b[0;34m.\u001b[0m\u001b[0mnormal\u001b[0m\u001b[0;34m(\u001b[0m\u001b[0md_TF\u001b[0m\u001b[0;34m,\u001b[0m \u001b[0md_TF_err\u001b[0m\u001b[0;34m/\u001b[0m\u001b[0;36m100\u001b[0m\u001b[0;34m)\u001b[0m\u001b[0;34m\u001b[0m\u001b[0;34m\u001b[0m\u001b[0m\n\u001b[1;32m      4\u001b[0m     \u001b[0;31m# _z = np.random.normal(z, dz)\u001b[0m\u001b[0;34m\u001b[0m\u001b[0;34m\u001b[0m\u001b[0m\n\u001b[0;32m----> 5\u001b[0;31m     \u001b[0ma\u001b[0m\u001b[0;34m,\u001b[0m \u001b[0mb\u001b[0m\u001b[0;34m,\u001b[0m \u001b[0m_\u001b[0m \u001b[0;34m=\u001b[0m \u001b[0mfit_H0\u001b[0m\u001b[0;34m(\u001b[0m\u001b[0m_D\u001b[0m\u001b[0;34m,\u001b[0m \u001b[0;36m3e5\u001b[0m \u001b[0;34m*\u001b[0m\u001b[0mz\u001b[0m\u001b[0;34m)\u001b[0m\u001b[0;34m\u001b[0m\u001b[0;34m\u001b[0m\u001b[0m\n\u001b[0m\u001b[1;32m      6\u001b[0m     \u001b[0;32mif\u001b[0m \u001b[0mb\u001b[0m \u001b[0;34m==\u001b[0m \u001b[0;36m75\u001b[0m\u001b[0;34m:\u001b[0m\u001b[0;34m\u001b[0m\u001b[0;34m\u001b[0m\u001b[0m\n\u001b[1;32m      7\u001b[0m         \u001b[0;32mcontinue\u001b[0m\u001b[0;34m\u001b[0m\u001b[0;34m\u001b[0m\u001b[0m\n",
      "\u001b[0;32m/tmp/ipykernel_6407/581233075.py\u001b[0m in \u001b[0;36mfit_H0\u001b[0;34m(d, v)\u001b[0m\n\u001b[1;32m     33\u001b[0m         \u001b[0m_a\u001b[0m\u001b[0;34m,\u001b[0m \u001b[0m_b\u001b[0m \u001b[0;34m=\u001b[0m \u001b[0mnp\u001b[0m\u001b[0;34m.\u001b[0m\u001b[0mrandom\u001b[0m\u001b[0;34m.\u001b[0m\u001b[0muniform\u001b[0m\u001b[0;34m(\u001b[0m\u001b[0;34m-\u001b[0m\u001b[0;36m1\u001b[0m\u001b[0;34m,\u001b[0m\u001b[0;36m1\u001b[0m\u001b[0;34m)\u001b[0m\u001b[0;34m,\u001b[0m \u001b[0mnp\u001b[0m\u001b[0;34m.\u001b[0m\u001b[0mrandom\u001b[0m\u001b[0;34m.\u001b[0m\u001b[0muniform\u001b[0m\u001b[0;34m(\u001b[0m\u001b[0;36m50\u001b[0m\u001b[0;34m,\u001b[0m\u001b[0;36m100\u001b[0m\u001b[0;34m)\u001b[0m\u001b[0;34m\u001b[0m\u001b[0;34m\u001b[0m\u001b[0m\n\u001b[1;32m     34\u001b[0m \u001b[0;34m\u001b[0m\u001b[0m\n\u001b[0;32m---> 35\u001b[0;31m         res = minimize(l1norm_noerror, \n\u001b[0m\u001b[1;32m     36\u001b[0m                        \u001b[0;34m[\u001b[0m\u001b[0m_a\u001b[0m\u001b[0;34m,\u001b[0m \u001b[0m_b\u001b[0m\u001b[0;34m]\u001b[0m\u001b[0;34m,\u001b[0m\u001b[0;34m\u001b[0m\u001b[0;34m\u001b[0m\u001b[0m\n\u001b[1;32m     37\u001b[0m                        \u001b[0;31m# args=(logv, r),# dlogv),\u001b[0m\u001b[0;34m\u001b[0m\u001b[0;34m\u001b[0m\u001b[0m\n",
      "\u001b[0;32m/global/common/software/desi/cori/desiconda/20211217-2.0.0/conda/lib/python3.9/site-packages/scipy/optimize/_minimize.py\u001b[0m in \u001b[0;36mminimize\u001b[0;34m(fun, x0, args, method, jac, hess, hessp, bounds, constraints, tol, callback, options)\u001b[0m\n\u001b[1;32m    621\u001b[0m                                   **options)\n\u001b[1;32m    622\u001b[0m     \u001b[0;32melif\u001b[0m \u001b[0mmeth\u001b[0m \u001b[0;34m==\u001b[0m \u001b[0;34m'l-bfgs-b'\u001b[0m\u001b[0;34m:\u001b[0m\u001b[0;34m\u001b[0m\u001b[0;34m\u001b[0m\u001b[0m\n\u001b[0;32m--> 623\u001b[0;31m         return _minimize_lbfgsb(fun, x0, args, jac, bounds,\n\u001b[0m\u001b[1;32m    624\u001b[0m                                 callback=callback, **options)\n\u001b[1;32m    625\u001b[0m     \u001b[0;32melif\u001b[0m \u001b[0mmeth\u001b[0m \u001b[0;34m==\u001b[0m \u001b[0;34m'tnc'\u001b[0m\u001b[0;34m:\u001b[0m\u001b[0;34m\u001b[0m\u001b[0;34m\u001b[0m\u001b[0m\n",
      "\u001b[0;32m/global/common/software/desi/cori/desiconda/20211217-2.0.0/conda/lib/python3.9/site-packages/scipy/optimize/lbfgsb.py\u001b[0m in \u001b[0;36m_minimize_lbfgsb\u001b[0;34m(fun, x0, args, jac, bounds, disp, maxcor, ftol, gtol, eps, maxfun, maxiter, iprint, callback, maxls, finite_diff_rel_step, **unknown_options)\u001b[0m\n\u001b[1;32m    304\u001b[0m             \u001b[0miprint\u001b[0m \u001b[0;34m=\u001b[0m \u001b[0mdisp\u001b[0m\u001b[0;34m\u001b[0m\u001b[0;34m\u001b[0m\u001b[0m\n\u001b[1;32m    305\u001b[0m \u001b[0;34m\u001b[0m\u001b[0m\n\u001b[0;32m--> 306\u001b[0;31m     sf = _prepare_scalar_function(fun, x0, jac=jac, args=args, epsilon=eps,\n\u001b[0m\u001b[1;32m    307\u001b[0m                                   \u001b[0mbounds\u001b[0m\u001b[0;34m=\u001b[0m\u001b[0mnew_bounds\u001b[0m\u001b[0;34m,\u001b[0m\u001b[0;34m\u001b[0m\u001b[0;34m\u001b[0m\u001b[0m\n\u001b[1;32m    308\u001b[0m                                   finite_diff_rel_step=finite_diff_rel_step)\n",
      "\u001b[0;32m/global/common/software/desi/cori/desiconda/20211217-2.0.0/conda/lib/python3.9/site-packages/scipy/optimize/optimize.py\u001b[0m in \u001b[0;36m_prepare_scalar_function\u001b[0;34m(fun, x0, jac, args, bounds, epsilon, finite_diff_rel_step, hess)\u001b[0m\n\u001b[1;32m    259\u001b[0m     \u001b[0;31m# ScalarFunction caches. Reuse of fun(x) during grad\u001b[0m\u001b[0;34m\u001b[0m\u001b[0;34m\u001b[0m\u001b[0m\n\u001b[1;32m    260\u001b[0m     \u001b[0;31m# calculation reduces overall function evaluations.\u001b[0m\u001b[0;34m\u001b[0m\u001b[0;34m\u001b[0m\u001b[0m\n\u001b[0;32m--> 261\u001b[0;31m     sf = ScalarFunction(fun, x0, args, grad, hess,\n\u001b[0m\u001b[1;32m    262\u001b[0m                         finite_diff_rel_step, bounds, epsilon=epsilon)\n\u001b[1;32m    263\u001b[0m \u001b[0;34m\u001b[0m\u001b[0m\n",
      "\u001b[0;32m/global/common/software/desi/cori/desiconda/20211217-2.0.0/conda/lib/python3.9/site-packages/scipy/optimize/_differentiable_functions.py\u001b[0m in \u001b[0;36m__init__\u001b[0;34m(self, fun, x0, args, grad, hess, finite_diff_rel_step, finite_diff_bounds, epsilon)\u001b[0m\n\u001b[1;32m    105\u001b[0m \u001b[0;34m\u001b[0m\u001b[0m\n\u001b[1;32m    106\u001b[0m         \u001b[0;31m# the astype call ensures that self.x is a copy of x0\u001b[0m\u001b[0;34m\u001b[0m\u001b[0;34m\u001b[0m\u001b[0m\n\u001b[0;32m--> 107\u001b[0;31m         \u001b[0mself\u001b[0m\u001b[0;34m.\u001b[0m\u001b[0mx\u001b[0m \u001b[0;34m=\u001b[0m \u001b[0mnp\u001b[0m\u001b[0;34m.\u001b[0m\u001b[0matleast_1d\u001b[0m\u001b[0;34m(\u001b[0m\u001b[0mx0\u001b[0m\u001b[0;34m)\u001b[0m\u001b[0;34m.\u001b[0m\u001b[0mastype\u001b[0m\u001b[0;34m(\u001b[0m\u001b[0mfloat\u001b[0m\u001b[0;34m)\u001b[0m\u001b[0;34m\u001b[0m\u001b[0;34m\u001b[0m\u001b[0m\n\u001b[0m\u001b[1;32m    108\u001b[0m         \u001b[0mself\u001b[0m\u001b[0;34m.\u001b[0m\u001b[0mn\u001b[0m \u001b[0;34m=\u001b[0m \u001b[0mself\u001b[0m\u001b[0;34m.\u001b[0m\u001b[0mx\u001b[0m\u001b[0;34m.\u001b[0m\u001b[0msize\u001b[0m\u001b[0;34m\u001b[0m\u001b[0;34m\u001b[0m\u001b[0m\n\u001b[1;32m    109\u001b[0m         \u001b[0mself\u001b[0m\u001b[0;34m.\u001b[0m\u001b[0mnfev\u001b[0m \u001b[0;34m=\u001b[0m \u001b[0;36m0\u001b[0m\u001b[0;34m\u001b[0m\u001b[0;34m\u001b[0m\u001b[0m\n",
      "\u001b[0;32m<__array_function__ internals>\u001b[0m in \u001b[0;36matleast_1d\u001b[0;34m(*args, **kwargs)\u001b[0m\n",
      "\u001b[0;31mKeyboardInterrupt\u001b[0m: "
     ]
    }
   ],
   "source": [
    "H0 = []\n",
    "for i in range(1000):\n",
    "    _D = np.random.normal(d_TF, d_TF_err/100)\n",
    "    # _z = np.random.normal(z, dz)\n",
    "    a, b, _ = fit_H0(_D, 3e5 *z)\n",
    "    if b == 75:\n",
    "        continue\n",
    "    H0.append(b)"
   ]
  },
  {
   "cell_type": "code",
   "execution_count": 44,
   "id": "85ffdfd0-a268-4b04-840f-c5f06382e94c",
   "metadata": {},
   "outputs": [
    {
     "data": {
      "text/plain": [
       "[]"
      ]
     },
     "execution_count": 44,
     "metadata": {},
     "output_type": "execute_result"
    }
   ],
   "source": [
    "H0"
   ]
  },
  {
   "cell_type": "code",
   "execution_count": 51,
   "id": "79d98926-5761-4dbf-8bbc-8921f8c1a4a1",
   "metadata": {},
   "outputs": [
    {
     "data": {
      "text/plain": [
       "[<matplotlib.lines.Line2D at 0x1554c7379130>]"
      ]
     },
     "execution_count": 51,
     "metadata": {},
     "output_type": "execute_result"
    },
    {
     "data": {
      "image/png": "[encoded data removed]",
      "text/plain": [
       "<Figure size 432x288 with 1 Axes>"
      ]
     },
     "metadata": {
      "needs_background": "light"
     },
     "output_type": "display_data"
    }
   ],
   "source": [
    "plt.plot(_D, 3e5 *z, 'o')"
   ]
  },
  {
   "cell_type": "code",
   "execution_count": null,
   "id": "f24e5ef2-c763-4fbb-a15d-82a5404a9bdb",
   "metadata": {},
   "outputs": [],
   "source": []
  }
 ],
 "metadata": {
  "kernelspec": {
   "display_name": "DESI master",
   "language": "python",
   "name": "desi-master"
  },
  "language_info": {
   "codemirror_mode": {
    "name": "ipython",
    "version": 3
   },
   "file_extension": ".py",
   "mimetype": "text/x-python",
   "name": "python",
   "nbconvert_exporter": "python",
   "pygments_lexer": "ipython3",
   "version": "3.9.7"
  }
 },
 "nbformat": 4,
 "nbformat_minor": 5
}
