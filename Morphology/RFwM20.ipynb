{
 "cells": [
  {
   "cell_type": "code",
   "execution_count": 60,
   "id": "0ddf61d9-0579-463d-aa7b-188e76d66870",
   "metadata": {
    "tags": []
   },
   "outputs": [],
   "source": [
    "import numpy as np\n",
    "from mpl_toolkits import mplot3d\n",
    "import pandas as pd\n",
    "import matplotlib.pyplot as plt\n",
    "plt.rcParams[\"text.usetex\"] = False\n",
    "from matplotlib import cm, colors\n",
    "from matplotlib.patches import Ellipse\n",
    "import matplotlib as mpl\n",
    "from numpy import arange,array,ones,linalg\n",
    "from scipy.optimize import minimize\n",
    "from scipy import stats\n",
    "\n",
    "from astropy.io import fits\n",
    "from astropy.table import Table, vstack\n",
    "from astropy.coordinates import SkyCoord\n",
    "from astropy import units as u\n",
    "from astropy.wcs import WCS\n",
    "from astropy.visualization.wcsaxes import SphericalCircle\n",
    "import math\n",
    "\n",
    "from scipy.ndimage import gaussian_filter1d\n",
    "\n",
    "\n",
    "# for classifier\n",
    "import seaborn as sns\n",
    "from sklearn.ensemble import RandomForestClassifier\n",
    "from sklearn.model_selection import train_test_split\n",
    "from sklearn.metrics import classification_report, confusion_matrix, accuracy_score\n",
    "from joblib import dump, load\n",
    "from uncertainties import ufloat"
   ]
  },
  {
   "cell_type": "code",
   "execution_count": 61,
   "id": "00959e7d-c4eb-43f4-8119-e349c126cfb3",
   "metadata": {
    "tags": []
   },
   "outputs": [
    {
     "name": "stdout",
     "output_type": "stream",
     "text": [
      "/global/u1/j/jlargett/DESI_SGA/Morphology\n"
     ]
    }
   ],
   "source": [
    "import os\n",
    "current_directory = os.getcwd()\n",
    "print(current_directory)"
   ]
  },
  {
   "cell_type": "code",
   "execution_count": 62,
   "id": "871a188b-b820-4a20-aacf-8a3f452dd5f4",
   "metadata": {
    "tags": []
   },
   "outputs": [
    {
     "data": {
      "text/html": [
       "<div><i>Table length=383620</i>\n",
       "<table id=\"table140309491964688\" class=\"table-striped table-bordered table-condensed\">\n",
       "<thead><tr><th>SGA_ID</th><th>SGA_GALAXY</th><th>GALAXY</th><th>PGC</th><th>RA_LEDA</th><th>DEC_LEDA</th><th>MORPHTYPE</th><th>PA_LEDA</th><th>D25_LEDA</th><th>BA_LEDA</th><th>Z_LEDA</th><th>SB_D25_LEDA</th><th>MAG_LEDA</th><th>BYHAND</th><th>REF</th><th>GROUP_ID</th><th>GROUP_NAME</th><th>GROUP_MULT</th><th>GROUP_PRIMARY</th><th>GROUP_RA</th><th>GROUP_DEC</th><th>GROUP_DIAMETER</th><th>BRICKNAME</th><th>RA</th><th>DEC</th><th>D26</th><th>D26_REF</th><th>PA</th><th>BA</th><th>RA_MOMENT</th><th>DEC_MOMENT</th><th>SMA_MOMENT</th><th>G_SMA50</th><th>R_SMA50</th><th>Z_SMA50</th><th>SMA_SB22</th><th>SMA_SB22.5</th><th>SMA_SB23</th><th>SMA_SB23.5</th><th>SMA_SB24</th><th>SMA_SB24.5</th><th>SMA_SB25</th><th>SMA_SB25.5</th><th>SMA_SB26</th><th>G_MAG_SB22</th><th>R_MAG_SB22</th><th>Z_MAG_SB22</th><th>G_MAG_SB22.5</th><th>R_MAG_SB22.5</th><th>Z_MAG_SB22.5</th><th>G_MAG_SB23</th><th>R_MAG_SB23</th><th>Z_MAG_SB23</th><th>G_MAG_SB23.5</th><th>R_MAG_SB23.5</th><th>Z_MAG_SB23.5</th><th>G_MAG_SB24</th><th>R_MAG_SB24</th><th>Z_MAG_SB24</th><th>G_MAG_SB24.5</th><th>R_MAG_SB24.5</th><th>Z_MAG_SB24.5</th><th>G_MAG_SB25</th><th>R_MAG_SB25</th><th>Z_MAG_SB25</th><th>G_MAG_SB25.5</th><th>R_MAG_SB25.5</th><th>Z_MAG_SB25.5</th><th>G_MAG_SB26</th><th>R_MAG_SB26</th><th>Z_MAG_SB26</th><th>SMA_SB22_ERR</th><th>SMA_SB22.5_ERR</th><th>SMA_SB23_ERR</th><th>SMA_SB23.5_ERR</th><th>SMA_SB24_ERR</th><th>SMA_SB24.5_ERR</th><th>SMA_SB25_ERR</th><th>SMA_SB25.5_ERR</th><th>SMA_SB26_ERR</th><th>G_MAG_SB22_ERR</th><th>R_MAG_SB22_ERR</th><th>Z_MAG_SB22_ERR</th><th>G_MAG_SB22.5_ERR</th><th>R_MAG_SB22.5_ERR</th><th>Z_MAG_SB22.5_ERR</th><th>G_MAG_SB23_ERR</th><th>R_MAG_SB23_ERR</th><th>Z_MAG_SB23_ERR</th><th>G_MAG_SB23.5_ERR</th><th>R_MAG_SB23.5_ERR</th><th>Z_MAG_SB23.5_ERR</th><th>G_MAG_SB24_ERR</th><th>R_MAG_SB24_ERR</th><th>Z_MAG_SB24_ERR</th><th>G_MAG_SB24.5_ERR</th><th>R_MAG_SB24.5_ERR</th><th>Z_MAG_SB24.5_ERR</th><th>G_MAG_SB25_ERR</th><th>R_MAG_SB25_ERR</th><th>Z_MAG_SB25_ERR</th><th>G_MAG_SB25.5_ERR</th><th>R_MAG_SB25.5_ERR</th><th>Z_MAG_SB25.5_ERR</th><th>G_MAG_SB26_ERR</th><th>R_MAG_SB26_ERR</th><th>Z_MAG_SB26_ERR</th><th>G_COG_PARAMS_MTOT</th><th>G_COG_PARAMS_M0</th><th>G_COG_PARAMS_ALPHA1</th><th>G_COG_PARAMS_ALPHA2</th><th>G_COG_PARAMS_CHI2</th><th>R_COG_PARAMS_MTOT</th><th>R_COG_PARAMS_M0</th><th>R_COG_PARAMS_ALPHA1</th><th>R_COG_PARAMS_ALPHA2</th><th>R_COG_PARAMS_CHI2</th><th>Z_COG_PARAMS_MTOT</th><th>Z_COG_PARAMS_M0</th><th>Z_COG_PARAMS_ALPHA1</th><th>Z_COG_PARAMS_ALPHA2</th><th>Z_COG_PARAMS_CHI2</th><th>ELLIPSEBIT</th><th>COLOR G-Z</th><th>COLOR G-R</th><th>COLOR R-Z</th><th>R50_R</th><th>m(r50)_G</th><th>m(r50)_Z</th><th>m(r50)_R</th><th>GRADIENT_G-Z</th><th>GRADIENT_G-R</th><th>GRADIENT_R-Z</th><th>C_INDEX_G_r50_r90</th><th>C_INDEX_R_r50_r90</th><th>C_INDEX_Z_r50_r90</th><th>r90_R</th><th>r50_G</th><th>r90_G</th><th>r50_Z</th><th>r90_Z</th><th>GINI_G</th><th>GINI_R</th><th>GINI_Z</th><th>Asymmetry_G</th><th>Asymmetry_R</th><th>Asymmetry_Z</th><th>M20_G</th><th>M20_R</th><th>M20_Z</th></tr></thead>\n",
       "<thead><tr><th>int64</th><th>bytes16</th><th>bytes29</th><th>int64</th><th>float64</th><th>float64</th><th>bytes21</th><th>float32</th><th>float32</th><th>float32</th><th>float32</th><th>float32</th><th>float32</th><th>bool</th><th>bytes13</th><th>int64</th><th>bytes35</th><th>int16</th><th>bool</th><th>float64</th><th>float64</th><th>float32</th><th>bytes8</th><th>float64</th><th>float64</th><th>float32</th><th>bytes4</th><th>float32</th><th>float32</th><th>float64</th><th>float64</th><th>float32</th><th>float32</th><th>float32</th><th>float32</th><th>float32</th><th>float32</th><th>float32</th><th>float32</th><th>float32</th><th>float32</th><th>float32</th><th>float32</th><th>float32</th><th>float32</th><th>float32</th><th>float32</th><th>float32</th><th>float32</th><th>float32</th><th>float32</th><th>float32</th><th>float32</th><th>float32</th><th>float32</th><th>float32</th><th>float32</th><th>float32</th><th>float32</th><th>float32</th><th>float32</th><th>float32</th><th>float32</th><th>float32</th><th>float32</th><th>float32</th><th>float32</th><th>float32</th><th>float32</th><th>float32</th><th>float32</th><th>float32</th><th>float32</th><th>float32</th><th>float32</th><th>float32</th><th>float32</th><th>float32</th><th>float32</th><th>float32</th><th>float32</th><th>float32</th><th>float32</th><th>float32</th><th>float32</th><th>float32</th><th>float32</th><th>float32</th><th>float32</th><th>float32</th><th>float32</th><th>float32</th><th>float32</th><th>float32</th><th>float32</th><th>float32</th><th>float32</th><th>float32</th><th>float32</th><th>float32</th><th>float32</th><th>float32</th><th>float32</th><th>float32</th><th>float32</th><th>float32</th><th>float32</th><th>float32</th><th>float32</th><th>float32</th><th>float32</th><th>float32</th><th>float32</th><th>float32</th><th>float32</th><th>float32</th><th>float32</th><th>float32</th><th>float32</th><th>float32</th><th>float32</th><th>float32</th><th>int32</th><th>float32</th><th>float32</th><th>float32</th><th>float32</th><th>float32</th><th>float32</th><th>float32</th><th>float32</th><th>float32</th><th>float32</th><th>float32</th><th>float32</th><th>float32</th><th>float32</th><th>float32</th><th>float32</th><th>float32</th><th>float32</th><th>float64</th><th>float64</th><th>float64</th><th>float64</th><th>float64</th><th>float64</th><th>float64</th><th>float64</th><th>float64</th></tr></thead>\n",
       "<tr><td>2</td><td>SGA-2020 2</td><td>PGC1283207</td><td>1283207</td><td>228.3770865</td><td>5.4232017</td><td>S?</td><td>152.2</td><td>0.36307806</td><td>0.724436</td><td>0.03463229</td><td>23.40448</td><td>16.976</td><td>False</td><td>LEDA-20181114</td><td>0</td><td>PGC1283207</td><td>1</td><td>True</td><td>228.3770865</td><td>5.4232017</td><td>0.36307806</td><td>2283p055</td><td>228.3770803831908</td><td>5.423191398593787</td><td>0.49470574</td><td>SB26</td><td>158.20142</td><td>0.545691</td><td>228.37700918822188</td><td>5.4232652570544015</td><td>10.897086</td><td>3.3509698</td><td>3.1147978</td><td>3.240862</td><td>5.902337</td><td>6.9126143</td><td>7.941369</td><td>8.997992</td><td>10.073601</td><td>11.199986</td><td>12.391357</td><td>13.561038</td><td>14.841172</td><td>16.966799</td><td>16.108246</td><td>15.486356</td><td>16.879545</td><td>16.024958</td><td>15.400715</td><td>16.818878</td><td>15.967034</td><td>15.341793</td><td>16.776297</td><td>15.925804</td><td>15.300776</td><td>16.746685</td><td>15.897334</td><td>15.272053</td><td>16.725166</td><td>15.876816</td><td>15.2521105</td><td>16.708357</td><td>15.862035</td><td>15.237181</td><td>16.696539</td><td>15.851936</td><td>15.226998</td><td>16.689613</td><td>15.844313</td><td>15.21976</td><td>0.013392451</td><td>0.02354</td><td>0.021872982</td><td>0.01736985</td><td>0.024445537</td><td>0.039866067</td><td>0.05026544</td><td>0.08455789</td><td>0.122911856</td><td>0.005682776</td><td>0.0054258136</td><td>0.0049038026</td><td>0.005588406</td><td>0.005323561</td><td>0.0047632363</td><td>0.00543534</td><td>0.005177031</td><td>0.0046343105</td><td>0.0053025587</td><td>0.005040888</td><td>0.0045181247</td><td>0.005206092</td><td>0.0049438984</td><td>0.0044374703</td><td>0.0051483097</td><td>0.0048758644</td><td>0.0043834248</td><td>0.0051032505</td><td>0.0048264163</td><td>0.004344248</td><td>0.0050705094</td><td>0.004792021</td><td>0.004319857</td><td>0.005054293</td><td>0.004765629</td><td>0.0043044444</td><td>16.65942</td><td>0.34037337</td><td>0.2978292</td><td>3.0239506</td><td>0.07928849</td><td>15.820566</td><td>0.2640441</td><td>0.34559453</td><td>3.3033552</td><td>0.003811298</td><td>15.195567</td><td>0.29826432</td><td>0.3001073</td><td>3.2333765</td><td>0.011723555</td><td>0</td><td>1.4698534</td><td>0.8453007</td><td>0.6245527</td><td>3.1147976</td><td>17.479742</td><td>15.983511</td><td>16.573141</td><td>-0.051613025</td><td>-0.121877454</td><td>0.07026443</td><td>0.36926162</td><td>0.3569853</td><td>0.37169367</td><td>8.725283</td><td>3.3509696</td><td>9.074784</td><td>3.240862</td><td>8.719174</td><td>0.7498249860366578</td><td>0.7681378368431697</td><td>0.7630303041651973</td><td>0.1383019983768463</td><td>0.09119901061058044</td><td>0.08734425157308578</td><td>-0.695704912979511</td><td>-0.696473242540632</td><td>-0.6953430248684771</td></tr>\n",
       "<tr><td>3</td><td>SGA-2020 3</td><td>PGC1310416</td><td>1310416</td><td>202.54443750000002</td><td>6.9345944</td><td>Sc</td><td>159.26</td><td>0.4017908</td><td>0.7816278</td><td>0.073888786</td><td>23.498482</td><td>16.85</td><td>False</td><td>LEDA-20181114</td><td>1</td><td>PGC1310416</td><td>1</td><td>True</td><td>202.54443750000002</td><td>6.9345944</td><td>0.4017908</td><td>2025p070</td><td>202.5444619671207</td><td>6.9346244322326624</td><td>0.55350494</td><td>SB26</td><td>161.5937</td><td>0.7291764</td><td>202.54432739596137</td><td>6.934806737209989</td><td>15.746941</td><td>5.6416235</td><td>5.2647552</td><td>5.0895185</td><td>5.9838247</td><td>7.4356494</td><td>8.728868</td><td>10.087478</td><td>11.529764</td><td>12.818195</td><td>14.115497</td><td>15.319822</td><td>16.605148</td><td>16.963299</td><td>16.307854</td><td>15.806882</td><td>16.729511</td><td>16.097378</td><td>15.615527</td><td>16.606344</td><td>15.990707</td><td>15.518403</td><td>16.525967</td><td>15.917321</td><td>15.450624</td><td>16.462585</td><td>15.859485</td><td>15.397182</td><td>16.419558</td><td>15.820947</td><td>15.36243</td><td>16.390558</td><td>15.796369</td><td>15.338905</td><td>16.376112</td><td>15.782492</td><td>15.323709</td><td>16.364115</td><td>15.773462</td><td>15.313725</td><td>0.036992554</td><td>0.034982767</td><td>0.037769336</td><td>0.049429573</td><td>0.052699674</td><td>0.074114166</td><td>0.07914538</td><td>0.09781406</td><td>0.15534972</td><td>0.016095797</td><td>0.019181909</td><td>0.021539452</td><td>0.013955905</td><td>0.016594552</td><td>0.018640138</td><td>0.012786752</td><td>0.015244632</td><td>0.01715491</td><td>0.011973826</td><td>0.014366956</td><td>0.016208366</td><td>0.011358372</td><td>0.013676575</td><td>0.015474222</td><td>0.010944939</td><td>0.013225297</td><td>0.015011175</td><td>0.010691595</td><td>0.012931233</td><td>0.014687982</td><td>0.010546411</td><td>0.012796015</td><td>0.014518412</td><td>0.010457551</td><td>0.012685407</td><td>0.014379212</td><td>16.284733</td><td>1.0914493</td><td>0.24674739</td><td>2.4320207</td><td>0.68685365</td><td>15.704403</td><td>0.8764323</td><td>0.27360612</td><td>2.4995425</td><td>0.49343896</td><td>15.235263</td><td>1.3098688</td><td>0.17866786</td><td>2.1750498</td><td>0.20391206</td><td>0</td><td>1.0503893</td><td>0.59065247</td><td>0.45973682</td><td>5.264755</td><td>17.132587</td><td>15.946559</td><td>16.456978</td><td>-0.28590974</td><td>-0.17437452</td><td>-0.11153522</td><td>0.40545705</td><td>0.40201306</td><td>0.3737081</td><td>13.09598</td><td>5.6416245</td><td>13.914234</td><td>5.0895176</td><td>13.618965</td><td>0.6212793021679003</td><td>0.6431633406632249</td><td>0.6479186696819089</td><td>0.5649225115776062</td><td>0.5858902931213379</td><td>0.6076535582542419</td><td>-0.6986399550783684</td><td>-0.6983727146996892</td><td>-0.6978131763186095</td></tr>\n",
       "<tr><td>4</td><td>SGA-2020 4</td><td>SDSSJ145059.93+135143.0</td><td>4435547</td><td>222.749787</td><td>13.8619111</td><td>S?</td><td>44.57</td><td>0.33342642</td><td>0.6637431</td><td>0.07567602</td><td>24.457481</td><td>18.214</td><td>False</td><td>LEDA-20181114</td><td>2</td><td>SDSSJ145059.93+135143.0</td><td>1</td><td>True</td><td>222.749787</td><td>13.8619111</td><td>0.33342642</td><td>2228p137</td><td>222.7497050504303</td><td>13.861929561160224</td><td>0.37067476</td><td>SB26</td><td>45.28537</td><td>0.70922077</td><td>222.749650475464</td><td>13.862052070022896</td><td>8.877115</td><td>4.652771</td><td>4.4837785</td><td>4.4959745</td><td>2.01033</td><td>3.3967943</td><td>4.76257</td><td>6.043787</td><td>7.242806</td><td>8.250407</td><td>9.158723</td><td>10.083457</td><td>11.120243</td><td>19.97595</td><td>19.190666</td><td>18.649523</td><td>19.098536</td><td>18.397219</td><td>17.899643</td><td>18.624952</td><td>17.967802</td><td>17.50231</td><td>18.35278</td><td>17.718002</td><td>17.265854</td><td>18.192762</td><td>17.5654</td><td>17.115404</td><td>18.10496</td><td>17.480022</td><td>17.033989</td><td>18.053415</td><td>17.430794</td><td>16.982971</td><td>18.020155</td><td>17.399996</td><td>16.948252</td><td>17.994783</td><td>17.377092</td><td>16.924469</td><td>0.02113719</td><td>0.03639431</td><td>0.051901262</td><td>0.06539029</td><td>0.08552586</td><td>0.07008602</td><td>0.070394725</td><td>0.08394975</td><td>0.113649584</td><td>0.013428732</td><td>0.017600043</td><td>0.016373685</td><td>0.012251812</td><td>0.014566466</td><td>0.013732588</td><td>0.012644532</td><td>0.014030071</td><td>0.013153961</td><td>0.012747069</td><td>0.013512552</td><td>0.012818239</td><td>0.012865601</td><td>0.01324455</td><td>0.012532208</td><td>0.012762528</td><td>0.013058522</td><td>0.012420634</td><td>0.01252645</td><td>0.012827468</td><td>0.012283978</td><td>0.012320441</td><td>0.012607317</td><td>0.012104107</td><td>0.0121167945</td><td>0.01244376</td><td>0.011985352</td><td>17.896797</td><td>0.5557265</td><td>0.25455818</td><td>3.167909</td><td>1.0522435</td><td>17.28287</td><td>0.4885815</td><td>0.2782499</td><td>3.2144456</td><td>1.3733263</td><td>16.807674</td><td>0.5177045</td><td>0.32264626</td><td>2.900518</td><td>1.8054093</td><td>0</td><td>1.0703144</td><td>0.61769104</td><td>0.45262337</td><td>4.4837785</td><td>18.698408</td><td>17.563377</td><td>18.035444</td><td>-0.14042757</td><td>-0.097195834</td><td>-0.04323174</td><td>0.4497225</td><td>0.44100803</td><td>0.41019368</td><td>10.167113</td><td>4.652771</td><td>10.345871</td><td>4.495974</td><td>10.960612</td><td>0.5696906005713765</td><td>0.5822626869300935</td><td>0.5633981646534456</td><td>0.22907654941082</td><td>0.24092978239059448</td><td>0.30187663435935974</td><td>-0.6988731923114827</td><td>-0.6977490228113463</td><td>-0.6974949163848356</td></tr>\n",
       "<tr><td>7</td><td>SGA-2020 7</td><td>PGC1742504</td><td>1742504</td><td>182.0888085</td><td>25.6022764</td><td>Sbc</td><td>84.97</td><td>0.548277</td><td>0.25118864</td><td>0.10090814</td><td>24.91348</td><td>17.59</td><td>False</td><td>LEDA-20181114</td><td>3</td><td>PGC1742504</td><td>1</td><td>True</td><td>182.0888085</td><td>25.6022764</td><td>0.548277</td><td>1820p255</td><td>182.08882232629614</td><td>25.60226821438983</td><td>0.8883204</td><td>SB26</td><td>84.857475</td><td>0.19753796</td><td>182.08873760544392</td><td>25.602311195157757</td><td>19.779116</td><td>6.5958204</td><td>6.0386286</td><td>5.8089786</td><td>9.279068</td><td>10.949478</td><td>12.652142</td><td>14.446171</td><td>16.323679</td><td>18.392954</td><td>20.915508</td><td>23.566542</td><td>26.649612</td><td>17.390274</td><td>16.360935</td><td>15.531964</td><td>17.285898</td><td>16.262264</td><td>15.440768</td><td>17.2167</td><td>16.195492</td><td>15.380734</td><td>17.16217</td><td>16.144245</td><td>15.334935</td><td>17.130178</td><td>16.110302</td><td>15.304758</td><td>17.104496</td><td>16.084463</td><td>15.280803</td><td>17.081282</td><td>16.061373</td><td>15.2589855</td><td>17.063671</td><td>16.045204</td><td>15.243196</td><td>17.046705</td><td>16.031244</td><td>15.23268</td><td>0.04351465</td><td>0.055440858</td><td>0.052207235</td><td>0.07507412</td><td>0.0793679</td><td>0.10347854</td><td>0.13569456</td><td>0.13104819</td><td>0.17234002</td><td>0.03885276</td><td>0.03744209</td><td>0.03786608</td><td>0.035534665</td><td>0.03441038</td><td>0.03503794</td><td>0.033557214</td><td>0.032548346</td><td>0.033348277</td><td>0.031964395</td><td>0.03106612</td><td>0.031957533</td><td>0.031133845</td><td>0.030202182</td><td>0.031190341</td><td>0.030430589</td><td>0.029511228</td><td>0.030530946</td><td>0.02975241</td><td>0.028853998</td><td>0.029866546</td><td>0.02928568</td><td>0.0284345</td><td>0.029445464</td><td>0.028843498</td><td>0.028076617</td><td>0.029169334</td><td>16.995174</td><td>21.083004</td><td>0.0164273</td><td>1.9079465</td><td>0.029703742</td><td>15.991165</td><td>0.7657307</td><td>0.52285546</td><td>2.3045986</td><td>0.006013103</td><td>15.191324</td><td>1.0408205</td><td>0.32956335</td><td>2.1520333</td><td>0.004725194</td><td>0</td><td>1.8140249</td><td>1.015461</td><td>0.79856396</td><td>6.038628</td><td>17.882904</td><td>15.900103</td><td>16.74374</td><td>-0.3388191</td><td>-0.24295844</td><td>-0.09586063</td><td>0.36959928</td><td>0.3623396</td><td>0.3578335</td><td>16.665659</td><td>6.595817</td><td>17.84586</td><td>5.8089786</td><td>16.233747</td><td>0.7102455524548937</td><td>0.7451875941565521</td><td>0.7507873649960575</td><td>0.3024817705154419</td><td>0.21461108326911926</td><td>0.2793905735015869</td><td>-0.6980876427721394</td><td>-0.698403269063197</td><td>-0.6978616558293419</td></tr>\n",
       "<tr><td>18</td><td>SGA-2020 18</td><td>2MASXJ12340801+4535444</td><td>3550748</td><td>188.5335525</td><td>45.5956434</td><td>E</td><td>168.65</td><td>0.53088444</td><td>0.6950243</td><td>0.07609531</td><td>23.97948</td><td>16.726</td><td>False</td><td>LEDA-20181114</td><td>4</td><td>2MASXJ12340801+4535444</td><td>1</td><td>True</td><td>188.5335525</td><td>45.5956434</td><td>0.53088444</td><td>1883p455</td><td>188.53364923054596</td><td>45.595620212931856</td><td>0.73435897</td><td>SB26</td><td>166.25127</td><td>0.70995796</td><td>188.53349052789085</td><td>45.59567446403057</td><td>15.694805</td><td>5.091253</td><td>4.670616</td><td>2.9429996</td><td>5.219665</td><td>6.6119533</td><td>8.228266</td><td>10.109745</td><td>12.170589</td><td>14.364073</td><td>16.722517</td><td>19.18709</td><td>22.03077</td><td>17.208511</td><td>16.224203</td><td>15.566424</td><td>17.050343</td><td>16.080097</td><td>15.443468</td><td>16.921791</td><td>15.962402</td><td>15.347263</td><td>16.814959</td><td>15.864242</td><td>15.27134</td><td>16.729906</td><td>15.787886</td><td>15.218466</td><td>16.664564</td><td>15.730083</td><td>15.182751</td><td>16.61991</td><td>15.686324</td><td>15.1601305</td><td>16.585676</td><td>15.654064</td><td>15.148039</td><td>16.558054</td><td>15.629669</td><td>15.141826</td><td>0.032001704</td><td>0.043849397</td><td>0.045203492</td><td>0.072918765</td><td>0.06263939</td><td>0.07675708</td><td>0.10399303</td><td>0.07780949</td><td>0.14017467</td><td>0.016467415</td><td>0.021250801</td><td>0.032092847</td><td>0.0149329165</td><td>0.019061867</td><td>0.028947951</td><td>0.01369758</td><td>0.01736746</td><td>0.026648495</td><td>0.012623343</td><td>0.015980754</td><td>0.024998168</td><td>0.011793644</td><td>0.014977396</td><td>0.023862366</td><td>0.011184664</td><td>0.014255281</td><td>0.023120966</td><td>0.010785815</td><td>0.013740733</td><td>0.022603082</td><td>0.010472503</td><td>0.013351409</td><td>0.022360764</td><td>0.010212836</td><td>0.013043255</td><td>0.022296576</td><td>16.471447</td><td>0.3236818</td><td>1.9206839</td><td>2.3249283</td><td>0.0973919</td><td>15.540598</td><td>0.3247282</td><td>1.7439244</td><td>2.1774826</td><td>0.023485765</td><td>15.124181</td><td>0.16547345</td><td>1.4694684</td><td>3.3948786</td><td>0.028653827</td><td>0</td><td>1.4162283</td><td>0.9283848</td><td>0.4878435</td><td>4.6706157</td><td>17.283113</td><td>15.623821</td><td>16.293173</td><td>-0.5760583</td><td>-0.13036215</td><td>-0.44569615</td><td>0.2658225</td><td>0.24351266</td><td>0.26247093</td><td>19.180176</td><td>5.091253</td><td>19.152828</td><td>2.9429996</td><td>11.212668</td><td>0.727188019186621</td><td>0.7483232923668451</td><td>0.7850335473806666</td><td>0.2327355295419693</td><td>0.1795930117368698</td><td>0.2696820795536041</td><td>-0.6987585433918909</td><td>-0.6963324158045897</td><td>-0.6983083037028002</td></tr>\n",
       "<tr><td>20</td><td>SGA-2020 20</td><td>SDSSJ173412.71+572041.6</td><td>3331584</td><td>263.5529355</td><td>57.34490699999999</td><td>S?</td><td>152.58</td><td>0.4487454</td><td>0.5333349</td><td>0.08364453</td><td>24.92448</td><td>18.036</td><td>False</td><td>LEDA-20181114</td><td>5</td><td>SDSSJ173412.71+572041.6</td><td>1</td><td>True</td><td>263.5529355</td><td>57.34490699999999</td><td>0.4487454</td><td>2635p572</td><td>263.55294849855886</td><td>57.344862145664294</td><td>0.4460123</td><td>SB26</td><td>152.3756</td><td>0.5778338</td><td>263.5528114673963</td><td>57.34481025685253</td><td>10.459747</td><td>5.9780583</td><td>5.751067</td><td>4.821581</td><td>1.4858595</td><td>3.4448266</td><td>5.1149526</td><td>6.748707</td><td>8.426254</td><td>9.720271</td><td>11.022999</td><td>12.0887985</td><td>13.380368</td><td>20.656942</td><td>20.044735</td><td>19.40886</td><td>19.194794</td><td>18.66572</td><td>18.231262</td><td>18.599888</td><td>18.123905</td><td>17.745926</td><td>18.256256</td><td>17.807074</td><td>17.476473</td><td>18.040592</td><td>17.60353</td><td>17.319197</td><td>17.926336</td><td>17.500519</td><td>17.228865</td><td>17.85259</td><td>17.42695</td><td>17.180876</td><td>17.811844</td><td>17.39206</td><td>17.151228</td><td>17.783718</td><td>17.36542</td><td>17.143204</td><td>0.02069058</td><td>0.026094317</td><td>0.03480586</td><td>0.05076174</td><td>0.08751116</td><td>0.10309491</td><td>0.08337893</td><td>0.10982923</td><td>0.13734566</td><td>0.031223593</td><td>0.046367057</td><td>0.0777883</td><td>0.015935475</td><td>0.020728666</td><td>0.032657374</td><td>0.012760426</td><td>0.014699919</td><td>0.022893604</td><td>0.010505663</td><td>0.011998588</td><td>0.018923525</td><td>0.010358521</td><td>0.011374098</td><td>0.017719442</td><td>0.010557283</td><td>0.0112259</td><td>0.017149422</td><td>0.010553381</td><td>0.011049819</td><td>0.017135512</td><td>0.010413324</td><td>0.010993488</td><td>0.01699026</td><td>0.010291049</td><td>0.010862263</td><td>0.017057167</td><td>17.6411</td><td>0.6362121</td><td>0.53480667</td><td>2.8045392</td><td>1.7123051</td><td>17.22401</td><td>0.6144014</td><td>0.53440714</td><td>2.7180903</td><td>2.1161501</td><td>17.062769</td><td>0.44818503</td><td>0.43006793</td><td>3.1755726</td><td>0.97457016</td><td>0</td><td>0.6405144</td><td>0.41829872</td><td>0.22221565</td><td>5.751067</td><td>18.442368</td><td>17.623158</td><td>17.976585</td><td>-0.44075775</td><td>-0.10728051</td><td>-0.33347723</td><td>0.41869116</td><td>0.4040002</td><td>0.42624477</td><td>14.235308</td><td>5.978058</td><td>14.277966</td><td>4.821581</td><td>11.311766</td><td>--</td><td>--</td><td>--</td><td>--</td><td>--</td><td>--</td><td>--</td><td>--</td><td>--</td></tr>\n",
       "<tr><td>24</td><td>SGA-2020 24</td><td>PGC2162969</td><td>2162969</td><td>247.42443000000003</td><td>40.24824</td><td>S?</td><td>0.0</td><td>0.43451023</td><td>0.91201085</td><td>0.030465743</td><td>23.110481</td><td>16.292</td><td>False</td><td>LEDA-20181114</td><td>6</td><td>PGC200157_GROUP</td><td>2</td><td>False</td><td>247.41561265388845</td><td>40.24057507998105</td><td>1.0561523</td><td>2474p402</td><td>247.42445048371366</td><td>40.24820033835744</td><td>0.5431378</td><td>LEDA</td><td>101.95022</td><td>0.89250207</td><td>247.42434880302983</td><td>40.24826160366282</td><td>15.888059</td><td>-1.0</td><td>-1.0</td><td>-1.0</td><td>-1.0</td><td>-1.0</td><td>-1.0</td><td>-1.0</td><td>-1.0</td><td>-1.0</td><td>-1.0</td><td>-1.0</td><td>-1.0</td><td>-1.0</td><td>-1.0</td><td>-1.0</td><td>-1.0</td><td>-1.0</td><td>-1.0</td><td>-1.0</td><td>-1.0</td><td>-1.0</td><td>-1.0</td><td>-1.0</td><td>-1.0</td><td>-1.0</td><td>-1.0</td><td>-1.0</td><td>-1.0</td><td>-1.0</td><td>-1.0</td><td>-1.0</td><td>-1.0</td><td>-1.0</td><td>-1.0</td><td>-1.0</td><td>-1.0</td><td>--</td><td>--</td><td>--</td><td>-1.0</td><td>-1.0</td><td>-1.0</td><td>-1.0</td><td>-1.0</td><td>-1.0</td><td>-1.0</td><td>-1.0</td><td>-1.0</td><td>-1.0</td><td>-1.0</td><td>-1.0</td><td>-1.0</td><td>-1.0</td><td>-1.0</td><td>-1.0</td><td>-1.0</td><td>-1.0</td><td>-1.0</td><td>-1.0</td><td>-1.0</td><td>-1.0</td><td>-1.0</td><td>-1.0</td><td>-1.0</td><td>-1.0</td><td>-1.0</td><td>-1.0</td><td>-1.0</td><td>-1.0</td><td>-1.0</td><td>-1.0</td><td>-1.0</td><td>-1.0</td><td>-1.0</td><td>-1.0</td><td>--</td><td>--</td><td>--</td><td>--</td><td>-1.0</td><td>--</td><td>--</td><td>--</td><td>--</td><td>-1.0</td><td>--</td><td>--</td><td>--</td><td>--</td><td>-1.0</td><td>0</td><td>--</td><td>--</td><td>--</td><td>--</td><td>--</td><td>--</td><td>--</td><td>--</td><td>--</td><td>--</td><td>--</td><td>--</td><td>--</td><td>--</td><td>--</td><td>--</td><td>--</td><td>--</td><td>--</td><td>--</td><td>--</td><td>--</td><td>--</td><td>--</td><td>--</td><td>--</td><td>--</td></tr>\n",
       "<tr><td>25</td><td>SGA-2020 25</td><td>PGC054121</td><td>54121</td><td>227.47036350000002</td><td>13.2562981</td><td>Sbc</td><td>70.64</td><td>0.8165824</td><td>0.86496794</td><td>0.022379482</td><td>23.42948</td><td>15.241</td><td>False</td><td>LEDA-20181114</td><td>7</td><td>PGC054121</td><td>1</td><td>True</td><td>227.47036350000002</td><td>13.2562981</td><td>0.8165824</td><td>2275p132</td><td>227.47031353123606</td><td>13.256402782093659</td><td>0.9032927</td><td>SB26</td><td>54.9372</td><td>0.9290268</td><td>227.4700429472929</td><td>13.256485984671057</td><td>23.756569</td><td>9.900074</td><td>9.4958725</td><td>9.147629</td><td>10.191483</td><td>12.735173</td><td>14.82731</td><td>16.736444</td><td>18.73402</td><td>20.828588</td><td>22.853401</td><td>24.907934</td><td>27.098782</td><td>15.6729</td><td>15.045083</td><td>14.593568</td><td>15.3769245</td><td>14.774321</td><td>14.341049</td><td>15.246051</td><td>14.654672</td><td>14.2298155</td><td>15.173311</td><td>14.588186</td><td>14.167052</td><td>15.122127</td><td>14.541565</td><td>14.123228</td><td>15.083035</td><td>14.505676</td><td>14.089516</td><td>15.057359</td><td>14.482468</td><td>14.068062</td><td>15.040025</td><td>14.467183</td><td>14.055928</td><td>15.028107</td><td>14.457384</td><td>14.047177</td><td>0.018359262</td><td>0.017375102</td><td>0.016255992</td><td>0.019816728</td><td>0.038647514</td><td>0.037284017</td><td>0.04342706</td><td>0.071717694</td><td>0.099439405</td><td>0.0058437292</td><td>0.0069466177</td><td>0.008048645</td><td>0.0045692935</td><td>0.005496873</td><td>0.006436989</td><td>0.004073469</td><td>0.0049413145</td><td>0.0058239037</td><td>0.003822102</td><td>0.0046530096</td><td>0.0054966044</td><td>0.0036556777</td><td>0.004464092</td><td>0.0052853883</td><td>0.0035357797</td><td>0.004325215</td><td>0.005129757</td><td>0.0034596229</td><td>0.00423875</td><td>0.005034937</td><td>0.0034086278</td><td>0.00418244</td><td>0.0049834424</td><td>0.0033738492</td><td>0.0041466616</td><td>0.0049476875</td><td>14.970135</td><td>2.6651645</td><td>0.3175275</td><td>2.7061899</td><td>0.84036297</td><td>14.407399</td><td>1.8774098</td><td>0.4264286</td><td>2.8085065</td><td>0.7415527</td><td>14.005723</td><td>1.1530024</td><td>0.7036117</td><td>3.0188198</td><td>0.7843209</td><td>0</td><td>0.9809294</td><td>0.5707226</td><td>0.4102068</td><td>9.4958725</td><td>15.799878</td><td>14.697784</td><td>15.159974</td><td>-0.25257376</td><td>-0.1404431</td><td>-0.112130664</td><td>0.4763662</td><td>0.48017228</td><td>0.48605445</td><td>19.77597</td><td>9.900074</td><td>20.782486</td><td>9.147629</td><td>18.820173</td><td>--</td><td>--</td><td>--</td><td>--</td><td>--</td><td>--</td><td>--</td><td>--</td><td>--</td></tr>\n",
       "<tr><td>26</td><td>SGA-2020 26</td><td>PGC2468893</td><td>2468893</td><td>163.598436</td><td>54.4129738</td><td>--</td><td>64.51</td><td>0.35892195</td><td>0.53703177</td><td>0.17676328</td><td>24.926481</td><td>18.523</td><td>False</td><td>LEDA-20181114</td><td>8</td><td>PGC2468893</td><td>1</td><td>True</td><td>163.598436</td><td>54.4129738</td><td>0.35892195</td><td>1635p545</td><td>163.5984039051307</td><td>54.41298240323229</td><td>0.3833318</td><td>SB26</td><td>46.26398</td><td>0.8524061</td><td>163.5982638998639</td><td>54.41303380382761</td><td>8.821292</td><td>3.2359526</td><td>2.924398</td><td>2.021345</td><td>2.7333577</td><td>3.383293</td><td>4.131329</td><td>5.008367</td><td>6.0306945</td><td>7.188326</td><td>8.429446</td><td>9.863966</td><td>11.499954</td><td>18.91375</td><td>17.621288</td><td>16.865643</td><td>18.731339</td><td>17.469679</td><td>16.733221</td><td>18.59152</td><td>17.350786</td><td>16.62865</td><td>18.480558</td><td>17.254736</td><td>16.545355</td><td>18.388554</td><td>17.175478</td><td>16.476664</td><td>18.312742</td><td>17.111551</td><td>16.42716</td><td>18.256575</td><td>17.062248</td><td>16.38989</td><td>18.215641</td><td>17.022528</td><td>16.365273</td><td>18.179653</td><td>16.990267</td><td>16.35279</td><td>0.0023302117</td><td>0.005615393</td><td>0.008432587</td><td>0.009294833</td><td>0.0114881545</td><td>0.029902346</td><td>0.050029624</td><td>0.0698561</td><td>0.10298213</td><td>0.008917422</td><td>0.008953597</td><td>0.015666634</td><td>0.0076031582</td><td>0.007837551</td><td>0.013918447</td><td>0.006716909</td><td>0.0069769695</td><td>0.012487223</td><td>0.006135703</td><td>0.0064592385</td><td>0.011609407</td><td>0.0057196575</td><td>0.0060675964</td><td>0.010953607</td><td>0.005430515</td><td>0.005781204</td><td>0.010553227</td><td>0.005267251</td><td>0.0056759133</td><td>0.010439154</td><td>0.005154885</td><td>0.00546258</td><td>0.010156198</td><td>0.005106954</td><td>0.0054070675</td><td>0.010169683</td><td>18.01642</td><td>1.2385604</td><td>0.17051077</td><td>1.4091581</td><td>0.99601644</td><td>16.817999</td><td>1.4139539</td><td>0.1533624</td><td>1.2380737</td><td>0.13531691</td><td>16.309488</td><td>0.29089946</td><td>0.21375196</td><td>2.5342278</td><td>0.2944147</td><td>0</td><td>1.8268623</td><td>1.1893864</td><td>0.63747597</td><td>2.9243975</td><td>18.852587</td><td>16.821877</td><td>17.570574</td><td>-0.5026129</td><td>-0.21152721</td><td>-0.2910857</td><td>0.21646589</td><td>0.18029338</td><td>0.27855292</td><td>16.220215</td><td>3.2359524</td><td>14.949018</td><td>2.0213447</td><td>7.2565913</td><td>--</td><td>--</td><td>--</td><td>--</td><td>--</td><td>--</td><td>--</td><td>--</td><td>--</td></tr>\n",
       "<tr><td>29</td><td>SGA-2020 29</td><td>2MASXJ11122927+6014431</td><td>3382669</td><td>168.12193649999998</td><td>60.245229599999995</td><td>--</td><td>95.18</td><td>0.37153524</td><td>0.40550855</td><td>0.13134186</td><td>24.756481</td><td>18.278</td><td>False</td><td>LEDA-20181114</td><td>9</td><td>2MASXJ11122927+6014431</td><td>1</td><td>True</td><td>168.12193649999998</td><td>60.245229599999995</td><td>0.37153524</td><td>1682p602</td><td>168.12195030280432</td><td>60.24520943972748</td><td>0.5254904</td><td>SB26</td><td>93.27518</td><td>0.4504665</td><td>168.12174206037417</td><td>60.24526113391869</td><td>10.063886</td><td>4.9710255</td><td>4.2121243</td><td>2.955684</td><td>3.917081</td><td>5.031503</td><td>6.3397484</td><td>7.859549</td><td>9.5116625</td><td>11.106687</td><td>12.624502</td><td>14.035045</td><td>15.764712</td><td>18.788036</td><td>17.645203</td><td>16.76298</td><td>18.56597</td><td>17.444305</td><td>16.599722</td><td>18.396406</td><td>17.29114</td><td>16.477816</td><td>18.250896</td><td>17.16368</td><td>16.373098</td><td>18.136703</td><td>17.062458</td><td>16.293201</td><td>18.053637</td><td>16.990055</td><td>16.23756</td><td>17.998623</td><td>16.947845</td><td>16.209606</td><td>17.968748</td><td>16.91967</td><td>16.198694</td><td>17.937456</td><td>16.901102</td><td>16.190332</td><td>0.043608252</td><td>0.068593405</td><td>0.08251232</td><td>0.114085354</td><td>0.18821189</td><td>0.14581837</td><td>0.13098465</td><td>0.18873167</td><td>0.16190481</td><td>0.048937622</td><td>0.053202</td><td>0.070389636</td><td>0.043584738</td><td>0.047049206</td><td>0.0624863</td><td>0.039282635</td><td>0.042405277</td><td>0.056875147</td><td>0.035782997</td><td>0.038730845</td><td>0.05225435</td><td>0.033184648</td><td>0.03600609</td><td>0.049067486</td><td>0.03135153</td><td>0.034110624</td><td>0.046893198</td><td>0.030152028</td><td>0.033022434</td><td>0.045820117</td><td>0.029458879</td><td>0.032266933</td><td>0.045367915</td><td>0.028717741</td><td>0.03176078</td><td>0.045077246</td><td>17.832409</td><td>0.3196674</td><td>1.3563452</td><td>2.7893887</td><td>0.122701444</td><td>16.831856</td><td>0.25142962</td><td>1.251332</td><td>3.1430612</td><td>0.10823416</td><td>16.170433</td><td>0.12689392</td><td>1.2175424</td><td>4.702156</td><td>0.06635867</td><td>0</td><td>1.7471237</td><td>1.0363541</td><td>0.71076965</td><td>4.212124</td><td>18.721264</td><td>16.713081</td><td>17.58443</td><td>-0.5833285</td><td>-0.20480385</td><td>-0.37852463</td><td>0.32936773</td><td>0.3291002</td><td>0.30735317</td><td>12.79891</td><td>4.9710255</td><td>15.092631</td><td>2.9556837</td><td>9.616571</td><td>--</td><td>--</td><td>--</td><td>--</td><td>--</td><td>--</td><td>--</td><td>--</td><td>--</td></tr>\n",
       "<tr><td>...</td><td>...</td><td>...</td><td>...</td><td>...</td><td>...</td><td>...</td><td>...</td><td>...</td><td>...</td><td>...</td><td>...</td><td>...</td><td>...</td><td>...</td><td>...</td><td>...</td><td>...</td><td>...</td><td>...</td><td>...</td><td>...</td><td>...</td><td>...</td><td>...</td><td>...</td><td>...</td><td>...</td><td>...</td><td>...</td><td>...</td><td>...</td><td>...</td><td>...</td><td>...</td><td>...</td><td>...</td><td>...</td><td>...</td><td>...</td><td>...</td><td>...</td><td>...</td><td>...</td><td>...</td><td>...</td><td>...</td><td>...</td><td>...</td><td>...</td><td>...</td><td>...</td><td>...</td><td>...</td><td>...</td><td>...</td><td>...</td><td>...</td><td>...</td><td>...</td><td>...</td><td>...</td><td>...</td><td>...</td><td>...</td><td>...</td><td>...</td><td>...</td><td>...</td><td>...</td><td>...</td><td>...</td><td>...</td><td>...</td><td>...</td><td>...</td><td>...</td><td>...</td><td>...</td><td>...</td><td>...</td><td>...</td><td>...</td><td>...</td><td>...</td><td>...</td><td>...</td><td>...</td><td>...</td><td>...</td><td>...</td><td>...</td><td>...</td><td>...</td><td>...</td><td>...</td><td>...</td><td>...</td><td>...</td><td>...</td><td>...</td><td>...</td><td>...</td><td>...</td><td>...</td><td>...</td><td>...</td><td>...</td><td>...</td><td>...</td><td>...</td><td>...</td><td>...</td><td>...</td><td>...</td><td>...</td><td>...</td><td>...</td><td>...</td><td>...</td><td>...</td><td>...</td><td>...</td><td>...</td><td>...</td><td>...</td><td>...</td><td>...</td><td>...</td><td>...</td><td>...</td><td>...</td><td>...</td><td>...</td><td>...</td><td>...</td><td>...</td><td>...</td><td>...</td><td>...</td><td>...</td><td>...</td><td>...</td><td>...</td><td>...</td><td>...</td><td>...</td><td>...</td><td>...</td><td>...</td></tr>\n",
       "<tr><td>5005195</td><td>SGA-2020 5005195</td><td>DR8-1793p222-2771</td><td>-1</td><td>179.2945122945355</td><td>22.29616673952341</td><td>PSF</td><td>0.0</td><td>0.454</td><td>1.0</td><td>-1.0</td><td>23.489079</td><td>16.57532</td><td>True</td><td>DR8</td><td>531667</td><td>DR8-1793p222-2771</td><td>1</td><td>True</td><td>179.2945122945355</td><td>22.29616673952341</td><td>0.454</td><td>1793p222</td><td>179.29452573552422</td><td>22.296163107090134</td><td>0.5214359</td><td>SB26</td><td>127.51099</td><td>0.78787744</td><td>179.29444415024022</td><td>22.29623465794375</td><td>13.120567</td><td>2.7214403</td><td>2.8788998</td><td>2.9398167</td><td>4.8742156</td><td>5.801377</td><td>6.8204255</td><td>8.000418</td><td>9.449444</td><td>11.111418</td><td>12.836514</td><td>14.157148</td><td>15.643078</td><td>16.650414</td><td>15.89828</td><td>15.354585</td><td>16.580677</td><td>15.822675</td><td>15.278564</td><td>16.525764</td><td>15.764598</td><td>15.220373</td><td>16.482847</td><td>15.719043</td><td>15.173113</td><td>16.446579</td><td>15.680529</td><td>15.132261</td><td>16.41512</td><td>15.647504</td><td>15.098009</td><td>16.388647</td><td>15.620344</td><td>15.070625</td><td>16.374023</td><td>15.605029</td><td>15.054689</td><td>16.36363</td><td>15.594609</td><td>15.042309</td><td>0.0067810663</td><td>0.015470861</td><td>0.018868009</td><td>0.0351804</td><td>0.076819085</td><td>0.07189938</td><td>0.120865904</td><td>0.10774231</td><td>0.103403516</td><td>0.0147291105</td><td>0.01178085</td><td>0.013183858</td><td>0.013833475</td><td>0.011010024</td><td>0.012317104</td><td>0.013170283</td><td>0.010456909</td><td>0.01169949</td><td>0.012684415</td><td>0.010054476</td><td>0.01124069</td><td>0.012298655</td><td>0.009740337</td><td>0.010866755</td><td>0.011978752</td><td>0.009489733</td><td>0.010574576</td><td>0.011722459</td><td>0.009297767</td><td>0.010351114</td><td>0.011582096</td><td>0.009186632</td><td>0.010223667</td><td>0.011238392</td><td>0.009114673</td><td>0.010145772</td><td>16.250698</td><td>2708.8188</td><td>6.736398e-05</td><td>1.0888201</td><td>0.09743817</td><td>15.483401</td><td>4893.218</td><td>3.7431706e-05</td><td>1.1349467</td><td>0.15635559</td><td>14.918242</td><td>5183.1113</td><td>3.8652575e-05</td><td>1.0811251</td><td>0.046546273</td><td>0</td><td>1.3213215</td><td>0.76902103</td><td>0.55230045</td><td>2.8794188</td><td>16.958439</td><td>15.688058</td><td>16.235823</td><td>0.11709893</td><td>0.106954664</td><td>0.0101442635</td><td>0.17710589</td><td>0.19009353</td><td>0.17496088</td><td>15.14738</td><td>2.7213123</td><td>15.365454</td><td>2.9400258</td><td>16.803904</td><td>0.8009687298610414</td><td>0.7973787683694045</td><td>0.781458968255295</td><td>0.16740106046199799</td><td>0.11580367386341095</td><td>0.16189496219158173</td><td>-0.6966371153641918</td><td>-0.6933055722162148</td><td>-0.6932718319150556</td></tr>\n",
       "<tr><td>5005198</td><td>SGA-2020 5005198</td><td>DR8-0256p000-5752</td><td>-1</td><td>25.66029589306415</td><td>0.08743418519336531</td><td>PSF</td><td>0.0</td><td>0.309</td><td>1.0</td><td>-1.0</td><td>23.935808</td><td>17.857534</td><td>True</td><td>DR8</td><td>531668</td><td>DR8-0256p000-5752</td><td>1</td><td>True</td><td>25.66029589306415</td><td>0.08743418519336531</td><td>0.309</td><td>0256p000</td><td>25.660288526922393</td><td>0.08741395667094204</td><td>0.3246461</td><td>SB26</td><td>160.40857</td><td>0.85456085</td><td>25.660240751556803</td><td>0.08748824034356358</td><td>8.672835</td><td>1.9243348</td><td>2.555829</td><td>2.5514677</td><td>2.9639468</td><td>3.8987544</td><td>4.880886</td><td>5.855751</td><td>6.773247</td><td>7.6435313</td><td>8.407569</td><td>9.137488</td><td>9.739383</td><td>17.689413</td><td>17.376947</td><td>16.915255</td><td>17.534771</td><td>17.178392</td><td>16.713324</td><td>17.418633</td><td>17.03344</td><td>16.567991</td><td>17.337229</td><td>16.934195</td><td>16.47001</td><td>17.282885</td><td>16.866545</td><td>16.405144</td><td>17.247772</td><td>16.8236</td><td>16.364075</td><td>17.22954</td><td>16.799465</td><td>16.339987</td><td>17.21656</td><td>16.783209</td><td>16.325134</td><td>17.208654</td><td>16.772375</td><td>16.31503</td><td>0.011542733</td><td>0.016534021</td><td>0.019527653</td><td>0.024528828</td><td>0.03779441</td><td>0.048323542</td><td>0.04859576</td><td>0.05760323</td><td>0.07877746</td><td>0.023304751</td><td>0.025683159</td><td>0.032197252</td><td>0.020571876</td><td>0.022260716</td><td>0.027982213</td><td>0.018585382</td><td>0.019629896</td><td>0.024599757</td><td>0.017328093</td><td>0.018026909</td><td>0.022563023</td><td>0.016312363</td><td>0.016467035</td><td>0.020473186</td><td>0.015828367</td><td>0.015871944</td><td>0.019749861</td><td>0.015790295</td><td>0.016050369</td><td>0.020129</td><td>0.015616682</td><td>0.015829667</td><td>0.019871147</td><td>0.015310911</td><td>0.015198509</td><td>0.018939396</td><td>17.183558</td><td>0.12294183</td><td>0.19957551</td><td>4.690979</td><td>0.015809352</td><td>16.732452</td><td>0.18256688</td><td>0.21783169</td><td>4.126847</td><td>0.034576368</td><td>16.275085</td><td>0.19656372</td><td>0.20016503</td><td>3.9645846</td><td>0.018176466</td><td>0</td><td>0.89362526</td><td>0.4362793</td><td>0.45734596</td><td>2.5558293</td><td>17.773212</td><td>17.026358</td><td>17.485027</td><td>0.33143696</td><td>0.33418816</td><td>-0.002751194</td><td>0.29730093</td><td>0.35760728</td><td>0.36067808</td><td>7.147028</td><td>1.9243348</td><td>6.472683</td><td>2.5514674</td><td>7.074085</td><td>0.7457475785418476</td><td>0.7074730868638572</td><td>0.6996200646941695</td><td>0.18227075040340424</td><td>0.19430533051490784</td><td>0.25276023149490356</td><td>-0.6954069570933175</td><td>-0.697577379722065</td><td>-0.6956002155876425</td></tr>\n",
       "<tr><td>5005201</td><td>SGA-2020 5005201</td><td>DR8-2520p150-1872</td><td>-1</td><td>252.09096973935718</td><td>14.954508758448847</td><td>PSF</td><td>0.0</td><td>0.967</td><td>1.0</td><td>-1.0</td><td>24.163757</td><td>15.608146</td><td>True</td><td>DR8</td><td>531669</td><td>DR8-2520p150-1872</td><td>1</td><td>True</td><td>252.09096973935718</td><td>14.954508758448847</td><td>0.967</td><td>2520p150</td><td>252.0909699562764</td><td>14.954490607770563</td><td>1.0171216</td><td>SB26</td><td>112.36276</td><td>0.61695623</td><td>252.09092494608447</td><td>14.954535770121065</td><td>20.834295</td><td>12.39982</td><td>7.332598</td><td>6.8353333</td><td>7.0953846</td><td>8.452131</td><td>10.091814</td><td>12.392418</td><td>15.340454</td><td>19.13829</td><td>23.344776</td><td>27.21821</td><td>30.513645</td><td>15.844413</td><td>15.052782</td><td>14.536271</td><td>15.789438</td><td>14.995881</td><td>14.477499</td><td>15.742477</td><td>14.9468355</td><td>14.427818</td><td>15.6968775</td><td>14.900328</td><td>14.379317</td><td>15.654422</td><td>14.85738</td><td>14.334618</td><td>15.606853</td><td>14.809873</td><td>14.284192</td><td>15.563575</td><td>14.767267</td><td>14.240876</td><td>15.533223</td><td>14.739131</td><td>14.213739</td><td>15.516148</td><td>14.722022</td><td>14.1978445</td><td>0.03697918</td><td>0.06280282</td><td>0.04608013</td><td>0.07195521</td><td>0.1295921</td><td>0.13037108</td><td>0.18624833</td><td>0.15069625</td><td>0.17974436</td><td>0.03642822</td><td>0.03608817</td><td>0.040244225</td><td>0.03466639</td><td>0.034279592</td><td>0.03820263</td><td>0.033226386</td><td>0.032795798</td><td>0.03652344</td><td>0.031890143</td><td>0.031462073</td><td>0.034934707</td><td>0.030661047</td><td>0.030226108</td><td>0.033543944</td><td>0.02937417</td><td>0.028967626</td><td>0.032026157</td><td>0.028236996</td><td>0.02786266</td><td>0.030784043</td><td>0.027463831</td><td>0.027154623</td><td>0.030030306</td><td>0.027024347</td><td>0.026709788</td><td>0.029604135</td><td>14.945451</td><td>2005.111</td><td>0.00040117942</td><td>0.30879036</td><td>0.091645196</td><td>14.286089</td><td>2944.6145</td><td>0.00022691571</td><td>0.38378695</td><td>0.08670762</td><td>13.791493</td><td>1679.2966</td><td>0.00038279407</td><td>0.4148775</td><td>0.067777455</td><td>0</td><td>1.3183031</td><td>0.79412556</td><td>0.52417755</td><td>7.3344445</td><td>15.830376</td><td>14.52242</td><td>15.038591</td><td>0.0406034</td><td>0.0092868805</td><td>0.03131652</td><td>0.0022312165</td><td>0.0074482863</td><td>0.010686497</td><td>984.7157</td><td>12.400757</td><td>5557.8457</td><td>6.8361573</td><td>639.7005</td><td>0.8396062003412902</td><td>0.8510809523273178</td><td>0.8279488331949654</td><td>0.32194510102272034</td><td>0.2812451720237732</td><td>0.3241448402404785</td><td>-0.6938986641842895</td><td>-0.6926738507466168</td><td>-0.6925388323597061</td></tr>\n",
       "<tr><td>5005221</td><td>SGA-2020 5005221</td><td>DR8-0412p207-1198</td><td>-1</td><td>41.18047671803841</td><td>20.694042548652554</td><td>PSF</td><td>0.0</td><td>0.471</td><td>1.0</td><td>-1.0</td><td>24.246716</td><td>17.25313</td><td>True</td><td>DR8</td><td>531670</td><td>DR8-0412p207-1198</td><td>1</td><td>True</td><td>41.18047671803841</td><td>20.694042548652554</td><td>0.471</td><td>0412p207</td><td>41.18048574648146</td><td>20.69404158299538</td><td>0.47098938</td><td>SB26</td><td>24.310091</td><td>0.7885375</td><td>41.180405404117785</td><td>20.694120216548455</td><td>10.360117</td><td>2.8015852</td><td>2.7884948</td><td>2.6935434</td><td>3.6186233</td><td>4.4927197</td><td>5.522982</td><td>6.6685233</td><td>7.905727</td><td>9.264321</td><td>10.691406</td><td>12.297847</td><td>14.129682</td><td>17.711948</td><td>16.890347</td><td>16.294775</td><td>17.585072</td><td>16.764051</td><td>16.17261</td><td>17.480307</td><td>16.658499</td><td>16.068928</td><td>17.394457</td><td>16.572569</td><td>15.983902</td><td>17.33007</td><td>16.506886</td><td>15.919504</td><td>17.280218</td><td>16.457634</td><td>15.867954</td><td>17.245039</td><td>16.42228</td><td>15.832606</td><td>17.216467</td><td>16.392227</td><td>15.803128</td><td>17.192717</td><td>16.370075</td><td>15.781465</td><td>0.006780971</td><td>0.010371835</td><td>0.011661904</td><td>0.014844196</td><td>0.021120988</td><td>0.038650826</td><td>0.05184053</td><td>0.07415352</td><td>0.14769338</td><td>0.008487011</td><td>0.008379533</td><td>0.010376132</td><td>0.0076383264</td><td>0.00754701</td><td>0.009338417</td><td>0.0069949273</td><td>0.0069124824</td><td>0.008536573</td><td>0.0065273605</td><td>0.0064387866</td><td>0.007945147</td><td>0.00619924</td><td>0.006105768</td><td>0.0075339405</td><td>0.005975615</td><td>0.005874753</td><td>0.007227205</td><td>0.005815386</td><td>0.005709461</td><td>0.007027677</td><td>0.0057047377</td><td>0.0055858823</td><td>0.006874229</td><td>0.005629476</td><td>0.005510496</td><td>0.006785888</td><td>17.120892</td><td>0.3279772</td><td>0.5309596</td><td>2.2173948</td><td>0.09612841</td><td>16.301027</td><td>0.3084072</td><td>0.55606824</td><td>2.2989004</td><td>0.085739866</td><td>15.718236</td><td>0.26173127</td><td>0.64325035</td><td>2.4841642</td><td>0.042753268</td><td>0</td><td>1.411252</td><td>0.8226414</td><td>0.58861065</td><td>2.7884946</td><td>17.876532</td><td>16.44961</td><td>17.053602</td><td>-0.033812836</td><td>-0.0006173998</td><td>-0.033195436</td><td>0.25133133</td><td>0.25409377</td><td>0.25255564</td><td>10.974274</td><td>2.801585</td><td>11.146978</td><td>2.6935437</td><td>10.66515</td><td>0.747489614290268</td><td>0.7487711554964508</td><td>0.7403800357609224</td><td>0.1561632603406906</td><td>0.14368852972984314</td><td>0.1847253292798996</td><td>-0.6973888346164694</td><td>-0.6959562517163361</td><td>-0.6968913939754037</td></tr>\n",
       "<tr><td>5005223</td><td>SGA-2020 5005223</td><td>DR8-2276m017-4087</td><td>-1</td><td>227.64094321975787</td><td>-1.6981529262567927</td><td>PSF</td><td>0.0</td><td>0.607</td><td>1.0</td><td>-1.0</td><td>24.982948</td><td>17.438524</td><td>True</td><td>DR8</td><td>531671</td><td>DR8-2276m017-4087</td><td>1</td><td>True</td><td>227.64094321975787</td><td>-1.6981529262567927</td><td>0.607</td><td>2276m017</td><td>227.64087801284978</td><td>-1.69817359815747</td><td>0.6267315</td><td>SB26</td><td>88.710266</td><td>0.41053277</td><td>227.64060153036226</td><td>-1.698142220551913</td><td>13.871249</td><td>4.8801594</td><td>4.561895</td><td>4.4663424</td><td>4.637326</td><td>5.8509827</td><td>7.062148</td><td>8.3112545</td><td>9.802893</td><td>11.619408</td><td>13.734685</td><td>16.200775</td><td>18.801945</td><td>18.138233</td><td>17.271214</td><td>16.475805</td><td>17.985514</td><td>17.081915</td><td>16.29826</td><td>17.878677</td><td>16.971369</td><td>16.185461</td><td>17.806702</td><td>16.894045</td><td>16.103714</td><td>17.742344</td><td>16.827522</td><td>16.0391</td><td>17.681814</td><td>16.768332</td><td>15.988243</td><td>17.63443</td><td>16.726484</td><td>15.948485</td><td>17.59487</td><td>16.694088</td><td>15.911636</td><td>17.561165</td><td>16.661354</td><td>15.881864</td><td>0.074944876</td><td>0.078999035</td><td>0.0779275</td><td>0.1000401</td><td>0.11301166</td><td>0.1259314</td><td>0.1631884</td><td>0.17922209</td><td>0.17365636</td><td>0.13491407</td><td>0.10655037</td><td>0.07736688</td><td>0.119502485</td><td>0.092207536</td><td>0.067632765</td><td>0.10865148</td><td>0.08376383</td><td>0.061735567</td><td>0.10058281</td><td>0.07734296</td><td>0.057560686</td><td>0.09488179</td><td>0.07289161</td><td>0.054465514</td><td>0.09090397</td><td>0.069909394</td><td>0.052149493</td><td>0.087058425</td><td>0.0673016</td><td>0.050325148</td><td>0.08294334</td><td>0.064598925</td><td>0.048608597</td><td>0.0804247</td><td>0.06269838</td><td>0.04731585</td><td>17.348944</td><td>2215.7397</td><td>0.00017354474</td><td>0.9362168</td><td>0.0016087268</td><td>16.531103</td><td>11765.006</td><td>2.4469497e-05</td><td>1.2244116</td><td>0.0093818195</td><td>15.758231</td><td>4405.8867</td><td>6.278418e-05</td><td>1.2418394</td><td>0.015200222</td><td>0</td><td>1.6793013</td><td>0.8998108</td><td>0.7794905</td><td>4.5661573</td><td>18.149925</td><td>16.49033</td><td>17.282818</td><td>0.046497375</td><td>0.07655424</td><td>-0.030056864</td><td>0.1336255</td><td>0.21581793</td><td>0.21951744</td><td>21.157452</td><td>4.8795567</td><td>36.516655</td><td>4.4663205</td><td>20.346085</td><td>0.7762146109186681</td><td>0.7706883832581203</td><td>0.7531473252279101</td><td>0.5349105596542358</td><td>0.5368324518203735</td><td>0.6351045966148376</td><td>-0.6952175308703826</td><td>-0.6931122369227114</td><td>-0.697615135953544</td></tr>\n",
       "<tr><td>5005230</td><td>SGA-2020 5005230</td><td>DR8-0774m270-618</td><td>-1</td><td>77.3975106136412</td><td>-27.106348434308803</td><td>PSF</td><td>0.0</td><td>0.332</td><td>1.0</td><td>-1.0</td><td>23.547586</td><td>17.313416</td><td>True</td><td>DR8</td><td>531672</td><td>DR8-0774m270-618</td><td>1</td><td>True</td><td>77.3975106136412</td><td>-27.106348434308803</td><td>0.332</td><td>0774m270</td><td>77.3975059709664</td><td>-27.106359637272558</td><td>0.35891744</td><td>SB26</td><td>111.56699</td><td>0.75475377</td><td>77.39739623804046</td><td>-27.106283004349642</td><td>8.411317</td><td>1.5404403</td><td>2.1904042</td><td>2.2546275</td><td>3.380961</td><td>4.237079</td><td>5.1402497</td><td>6.015476</td><td>6.929567</td><td>7.8893332</td><td>8.840655</td><td>9.867512</td><td>10.767524</td><td>17.413584</td><td>16.993366</td><td>16.49279</td><td>17.313818</td><td>16.864426</td><td>16.35793</td><td>17.234362</td><td>16.76295</td><td>16.253544</td><td>17.179771</td><td>16.696907</td><td>16.187393</td><td>17.142206</td><td>16.651445</td><td>16.141762</td><td>17.115921</td><td>16.620028</td><td>16.109167</td><td>17.097752</td><td>16.595303</td><td>16.084223</td><td>17.083128</td><td>16.578005</td><td>16.067503</td><td>17.075493</td><td>16.567142</td><td>16.058277</td><td>0.02643086</td><td>0.031345174</td><td>0.035310734</td><td>0.04256188</td><td>0.04243312</td><td>0.08359334</td><td>0.06686159</td><td>0.08592497</td><td>0.0841673</td><td>0.04186574</td><td>0.040063415</td><td>0.044546094</td><td>0.03840889</td><td>0.035972457</td><td>0.03978237</td><td>0.035699315</td><td>0.03274588</td><td>0.03573635</td><td>0.034136016</td><td>0.031140357</td><td>0.03432494</td><td>0.03301214</td><td>0.029928898</td><td>0.03298083</td><td>0.032247484</td><td>0.029115444</td><td>0.032043472</td><td>0.03161836</td><td>0.02829384</td><td>0.030819874</td><td>0.031205405</td><td>0.027862772</td><td>0.030369842</td><td>0.030991472</td><td>0.027592061</td><td>0.030123282</td><td>17.052347</td><td>0.1408417</td><td>0.23734568</td><td>3.6229866</td><td>0.006182706</td><td>16.530476</td><td>0.23168655</td><td>0.21942548</td><td>3.1118705</td><td>0.01690107</td><td>16.022186</td><td>0.24194787</td><td>0.20102008</td><td>3.1345527</td><td>0.011277596</td><td>0</td><td>1.0172157</td><td>0.5083504</td><td>0.50886536</td><td>2.1904042</td><td>17.627026</td><td>16.795742</td><td>17.28305</td><td>0.41753605</td><td>0.37335443</td><td>0.044181615</td><td>0.24382317</td><td>0.30872846</td><td>0.32034308</td><td>7.0949216</td><td>1.5404404</td><td>6.317859</td><td>2.2546272</td><td>7.0381646</td><td>0.8033536396911066</td><td>0.7804541768186979</td><td>0.765534548517807</td><td>0.15484407544136047</td><td>0.12043549865484238</td><td>0.16451342403888702</td><td>-0.6925574309350707</td><td>-0.6879942323896511</td><td>-0.6959020922083751</td></tr>\n",
       "<tr><td>5005238</td><td>SGA-2020 5005238</td><td>DR8-3541p242-2263</td><td>-1</td><td>354.0254056671457</td><td>24.266276344902867</td><td>PSF</td><td>0.0</td><td>0.553</td><td>1.0</td><td>-1.0</td><td>23.834211</td><td>16.492105</td><td>True</td><td>DR8</td><td>531673</td><td>DR8-3541p242-2263</td><td>1</td><td>True</td><td>354.0254056671457</td><td>24.266276344902867</td><td>0.553</td><td>3541p242</td><td>354.02541432263376</td><td>24.266268718736388</td><td>0.49792165</td><td>SB26</td><td>176.78943</td><td>0.80814004</td><td>354.0253076392978</td><td>24.2663371152309</td><td>12.073684</td><td>2.3774166</td><td>2.3172183</td><td>2.1728494</td><td>4.87311</td><td>5.8856797</td><td>6.899788</td><td>7.8992434</td><td>8.894083</td><td>10.047215</td><td>11.390644</td><td>13.084164</td><td>14.93765</td><td>16.594566</td><td>15.884674</td><td>15.318247</td><td>16.507622</td><td>15.800316</td><td>15.236118</td><td>16.44361</td><td>15.739594</td><td>15.178294</td><td>16.399588</td><td>15.697594</td><td>15.139128</td><td>16.370625</td><td>15.668677</td><td>15.11076</td><td>16.348858</td><td>15.647803</td><td>15.090749</td><td>16.331417</td><td>15.63063</td><td>15.073454</td><td>16.316664</td><td>15.615721</td><td>15.059018</td><td>16.303864</td><td>15.603283</td><td>15.049853</td><td>0.010577562</td><td>0.022966072</td><td>0.021998236</td><td>0.019190194</td><td>0.02975555</td><td>0.050584648</td><td>0.051846568</td><td>0.08969881</td><td>0.16201551</td><td>0.010917041</td><td>0.016026055</td><td>0.010949657</td><td>0.010120528</td><td>0.014857519</td><td>0.010206339</td><td>0.009596533</td><td>0.014086385</td><td>0.009730353</td><td>0.00926139</td><td>0.013581817</td><td>0.009423394</td><td>0.0089795785</td><td>0.013141614</td><td>0.009135103</td><td>0.008878088</td><td>0.012995436</td><td>0.0090526445</td><td>0.008682937</td><td>0.012702772</td><td>0.008857431</td><td>0.008571938</td><td>0.012533876</td><td>0.008756143</td><td>0.008475702</td><td>0.012394868</td><td>0.008699074</td><td>16.284523</td><td>0.23109037</td><td>0.321907</td><td>3.0286288</td><td>0.1996051</td><td>15.582087</td><td>0.24166907</td><td>0.31360328</td><td>2.8916779</td><td>0.06815668</td><td>15.030018</td><td>0.21598968</td><td>0.32428586</td><td>2.999769</td><td>0.03202154</td><td>0</td><td>1.2540102</td><td>0.7005806</td><td>0.5534296</td><td>2.3172183</td><td>17.054382</td><td>15.742319</td><td>16.334661</td><td>-0.119627394</td><td>-0.03869849</td><td>-0.0809289</td><td>0.29837745</td><td>0.2909007</td><td>0.28059217</td><td>7.9656672</td><td>2.3774166</td><td>7.967816</td><td>2.1728494</td><td>7.743799</td><td>0.8067615648232509</td><td>0.8045256199809133</td><td>0.7909414024150739</td><td>0.16455397009849548</td><td>0.16022370755672455</td><td>0.17964011430740356</td><td>-0.6942361288758875</td><td>-0.6974107992229057</td><td>-0.6935457360918261</td></tr>\n",
       "<tr><td>5005241</td><td>SGA-2020 5005241</td><td>DR8-3598p237-618</td><td>-1</td><td>359.77852409632925</td><td>23.672069316241558</td><td>PSF</td><td>0.0</td><td>0.647</td><td>1.0</td><td>-1.0</td><td>25.045397</td><td>17.362394</td><td>True</td><td>DR8</td><td>531674</td><td>DR8-3598p237-618</td><td>1</td><td>True</td><td>359.77852409632925</td><td>23.672069316241558</td><td>0.647</td><td>3598p237</td><td>359.778505813862</td><td>23.672055843828268</td><td>0.52567357</td><td>SB26</td><td>43.59699</td><td>0.3849364</td><td>359.77844356539794</td><td>23.67212226911349</td><td>14.239333</td><td>2.7190483</td><td>2.5388463</td><td>3.4868765</td><td>5.064195</td><td>6.143888</td><td>7.345775</td><td>8.588504</td><td>9.922591</td><td>11.140817</td><td>12.440238</td><td>13.989121</td><td>15.770206</td><td>17.490839</td><td>16.795784</td><td>16.202568</td><td>17.390589</td><td>16.696184</td><td>16.077631</td><td>17.31184</td><td>16.618877</td><td>15.981386</td><td>17.254414</td><td>16.560314</td><td>15.908254</td><td>17.211702</td><td>16.51628</td><td>15.852895</td><td>17.18435</td><td>16.488472</td><td>15.819614</td><td>17.163921</td><td>16.466606</td><td>15.792798</td><td>17.146704</td><td>16.45154</td><td>15.770247</td><td>17.136053</td><td>16.44288</td><td>15.755591</td><td>0.03923253</td><td>0.060786158</td><td>0.075307116</td><td>0.07167815</td><td>0.10213532</td><td>0.118702866</td><td>0.109218694</td><td>0.17001276</td><td>0.30682173</td><td>0.06043335</td><td>0.06313121</td><td>0.049299486</td><td>0.055580575</td><td>0.05806445</td><td>0.044674117</td><td>0.05192368</td><td>0.05431531</td><td>0.04128313</td><td>0.04938822</td><td>0.051617604</td><td>0.038845673</td><td>0.04756912</td><td>0.049662363</td><td>0.037100296</td><td>0.04641092</td><td>0.04843731</td><td>0.03603239</td><td>0.045583606</td><td>0.047508307</td><td>0.035224166</td><td>0.04488352</td><td>0.0468671</td><td>0.03452928</td><td>0.04443932</td><td>0.046488073</td><td>0.034055505</td><td>17.105066</td><td>0.20155075</td><td>0.6774843</td><td>3.1475794</td><td>0.0012115352</td><td>16.41944</td><td>0.15052226</td><td>0.86735916</td><td>3.7459996</td><td>0.0050168973</td><td>15.713827</td><td>0.25167242</td><td>0.72501904</td><td>3.094475</td><td>0.004562201</td><td>0</td><td>1.3804617</td><td>0.69317245</td><td>0.68728924</td><td>2.5388465</td><td>17.900206</td><td>16.705471</td><td>17.172014</td><td>0.341175</td><td>-0.07043287</td><td>0.41160786</td><td>0.28248417</td><td>0.27298895</td><td>0.3235995</td><td>9.30018</td><td>2.7190483</td><td>9.625489</td><td>3.4868762</td><td>10.775284</td><td>0.762315998282574</td><td>0.7555865084407329</td><td>0.7183226309756299</td><td>0.2968479096889496</td><td>0.36133715510368347</td><td>0.3667656183242798</td><td>-0.6971252653517327</td><td>-0.6906841730233123</td><td>-0.6969877145692718</td></tr>\n",
       "<tr><td>5005244</td><td>SGA-2020 5005244</td><td>DR8-1933p245-3598</td><td>-1</td><td>193.43358024178627</td><td>24.573038628154837</td><td>PSF</td><td>0.0</td><td>0.508</td><td>1.0</td><td>-1.0</td><td>24.127928</td><td>16.970129</td><td>True</td><td>DR8</td><td>531675</td><td>DR8-1933p245-3598</td><td>1</td><td>True</td><td>193.43358024178627</td><td>24.573038628154837</td><td>0.508</td><td>1933p245</td><td>193.43361884886178</td><td>24.573017822491643</td><td>0.53991914</td><td>SB26</td><td>160.01337</td><td>0.84648865</td><td>193.4335470099531</td><td>24.573120358078633</td><td>12.787097</td><td>2.6927412</td><td>3.120592</td><td>3.2718627</td><td>3.4533505</td><td>4.2570386</td><td>5.133758</td><td>6.1663985</td><td>7.42829</td><td>9.149172</td><td>11.350036</td><td>13.795546</td><td>16.197575</td><td>16.94666</td><td>16.586605</td><td>16.36889</td><td>16.861969</td><td>16.492382</td><td>16.262115</td><td>16.791409</td><td>16.415943</td><td>16.173903</td><td>16.734713</td><td>16.35735</td><td>16.109213</td><td>16.688421</td><td>16.309566</td><td>16.055555</td><td>16.640509</td><td>16.258156</td><td>15.998193</td><td>16.594383</td><td>16.207026</td><td>15.942949</td><td>16.557802</td><td>16.166492</td><td>15.901134</td><td>16.529823</td><td>16.13316</td><td>15.869967</td><td>0.021029804</td><td>0.032481723</td><td>0.030171089</td><td>0.03087946</td><td>0.04853705</td><td>0.057573788</td><td>0.083974585</td><td>0.14294735</td><td>0.13371769</td><td>0.04259182</td><td>0.044959683</td><td>0.036545504</td><td>0.0398303</td><td>0.042167664</td><td>0.033850912</td><td>0.037131604</td><td>0.03866477</td><td>0.030868268</td><td>0.035289127</td><td>0.036671363</td><td>0.02913518</td><td>0.034093525</td><td>0.035771117</td><td>0.028184779</td><td>0.03262886</td><td>0.034125715</td><td>0.026756087</td><td>0.031034768</td><td>0.031958297</td><td>0.025058959</td><td>0.03024934</td><td>0.03138346</td><td>0.024512257</td><td>0.029254926</td><td>0.02987554</td><td>0.02347292</td><td>16.309258</td><td>6206.177</td><td>4.9772905e-05</td><td>0.6787563</td><td>0.039588377</td><td>15.876677</td><td>8809.709</td><td>4.0338142e-05</td><td>0.6443549</td><td>0.11273734</td><td>15.642013</td><td>9365.627</td><td>3.5140136e-05</td><td>0.7403613</td><td>0.1392315</td><td>0</td><td>0.65985584</td><td>0.39666367</td><td>0.26319218</td><td>3.1181118</td><td>16.990606</td><td>16.422392</td><td>16.629637</td><td>0.2463108</td><td>0.100159705</td><td>0.1461511</td><td>0.06256678</td><td>0.053748883</td><td>0.078046225</td><td>58.01259</td><td>2.6938462</td><td>43.05554</td><td>3.2724771</td><td>41.929985</td><td>0.7989928529130356</td><td>0.7810010859172208</td><td>0.7654110850736002</td><td>0.4867897033691406</td><td>0.5899543166160583</td><td>0.6623208522796631</td><td>-0.6896529488904166</td><td>-0.6960583858285625</td><td>-0.6955529175348001</td></tr>\n",
       "<tr><td>5005247</td><td>SGA-2020 5005247</td><td>DR8-2208p192-2734</td><td>-1</td><td>220.7266310748538</td><td>19.28717944405682</td><td>PSF</td><td>0.0</td><td>0.413</td><td>1.0</td><td>-1.0</td><td>23.6957</td><td>16.987469</td><td>True</td><td>DR8</td><td>531676</td><td>DR8-2208p192-2734</td><td>1</td><td>True</td><td>220.7266310748538</td><td>19.28717944405682</td><td>0.413</td><td>2208p192</td><td>220.72663283312835</td><td>19.28717319595711</td><td>0.4214595</td><td>SB26</td><td>46.15227</td><td>0.951637</td><td>220.7265690159664</td><td>19.287246237710338</td><td>11.1560335</td><td>1.7477361</td><td>1.7075597</td><td>2.1156445</td><td>3.262774</td><td>4.0869102</td><td>5.1091228</td><td>6.3436913</td><td>7.7602787</td><td>9.086886</td><td>10.342417</td><td>11.58312</td><td>12.6437845</td><td>17.41811</td><td>16.605528</td><td>16.10175</td><td>17.31933</td><td>16.505455</td><td>15.987479</td><td>17.236889</td><td>16.421755</td><td>15.89216</td><td>17.15656</td><td>16.337141</td><td>15.799027</td><td>17.08641</td><td>16.26287</td><td>15.717607</td><td>17.041885</td><td>16.217678</td><td>15.668846</td><td>17.009306</td><td>16.184057</td><td>15.632661</td><td>16.986383</td><td>16.16401</td><td>15.609863</td><td>16.973982</td><td>16.151237</td><td>15.5966015</td><td>0.010865588</td><td>0.016143147</td><td>0.015274725</td><td>0.018334098</td><td>0.026965143</td><td>0.036046986</td><td>0.0410594</td><td>0.08184487</td><td>0.10371635</td><td>0.012916043</td><td>0.01948388</td><td>0.010131742</td><td>0.011561066</td><td>0.017431566</td><td>0.009162709</td><td>0.010774649</td><td>0.016174529</td><td>0.008470013</td><td>0.010339528</td><td>0.015345446</td><td>0.007933513</td><td>0.009432234</td><td>0.014002881</td><td>0.007277823</td><td>0.009343426</td><td>0.013771767</td><td>0.0070921364</td><td>0.008820328</td><td>0.013042888</td><td>0.0067780362</td><td>0.008909435</td><td>0.013126014</td><td>0.006761116</td><td>0.008822591</td><td>0.012979464</td><td>0.0066987765</td><td>16.92055</td><td>0.11899936</td><td>1.2582198</td><td>3.492993</td><td>0.27475503</td><td>16.11808</td><td>0.092085116</td><td>1.2426668</td><td>4.5006905</td><td>0.1382566</td><td>15.551954</td><td>0.12238101</td><td>1.0828819</td><td>3.9065025</td><td>0.63464415</td><td>0</td><td>1.3773804</td><td>0.82274437</td><td>0.554636</td><td>1.7075593</td><td>17.682774</td><td>16.406832</td><td>16.870655</td><td>0.20180756</td><td>0.022045657</td><td>0.17976189</td><td>0.1877243</td><td>0.19879575</td><td>0.23177342</td><td>8.589517</td><td>1.7477357</td><td>9.31012</td><td>2.1156447</td><td>9.128073</td><td>0.7659564329820405</td><td>0.7667033426957105</td><td>0.7434892714960368</td><td>0.1933778077363968</td><td>0.19145099818706512</td><td>0.17290055751800537</td><td>-0.6882508807625218</td><td>-0.6968665267797842</td><td>-0.6981748070935183</td></tr>\n",
       "</table></div>"
      ],
      "text/plain": [
       "<Table length=383620>\n",
       " SGA_ID    SGA_GALAXY    ...        M20_R               M20_Z       \n",
       " int64      bytes16      ...       float64             float64      \n",
       "------- ---------------- ... ------------------- -------------------\n",
       "      2       SGA-2020 2 ...  -0.696473242540632 -0.6953430248684771\n",
       "      3       SGA-2020 3 ... -0.6983727146996892 -0.6978131763186095\n",
       "      4       SGA-2020 4 ... -0.6977490228113463 -0.6974949163848356\n",
       "      7       SGA-2020 7 ...  -0.698403269063197 -0.6978616558293419\n",
       "     18      SGA-2020 18 ... -0.6963324158045897 -0.6983083037028002\n",
       "     20      SGA-2020 20 ...                  --                  --\n",
       "     24      SGA-2020 24 ...                  --                  --\n",
       "     25      SGA-2020 25 ...                  --                  --\n",
       "     26      SGA-2020 26 ...                  --                  --\n",
       "     29      SGA-2020 29 ...                  --                  --\n",
       "    ...              ... ...                 ...                 ...\n",
       "5005195 SGA-2020 5005195 ... -0.6933055722162148 -0.6932718319150556\n",
       "5005198 SGA-2020 5005198 ...  -0.697577379722065 -0.6956002155876425\n",
       "5005201 SGA-2020 5005201 ... -0.6926738507466168 -0.6925388323597061\n",
       "5005221 SGA-2020 5005221 ... -0.6959562517163361 -0.6968913939754037\n",
       "5005223 SGA-2020 5005223 ... -0.6931122369227114  -0.697615135953544\n",
       "5005230 SGA-2020 5005230 ... -0.6879942323896511 -0.6959020922083751\n",
       "5005238 SGA-2020 5005238 ... -0.6974107992229057 -0.6935457360918261\n",
       "5005241 SGA-2020 5005241 ... -0.6906841730233123 -0.6969877145692718\n",
       "5005244 SGA-2020 5005244 ... -0.6960583858285625 -0.6955529175348001\n",
       "5005247 SGA-2020 5005247 ... -0.6968665267797842 -0.6981748070935183"
      ]
     },
     "execution_count": 62,
     "metadata": {},
     "output_type": "execute_result"
    }
   ],
   "source": [
    "SGA = Table.read('SGA_M20_Data1.fits')\n",
    "#SGA = Table.read('SGA_M20_Data_Test.fits')\n",
    "SGA"
   ]
  },
  {
   "cell_type": "code",
   "execution_count": 63,
   "id": "888f6c74-969d-418c-bb0e-bb84fd5bd652",
   "metadata": {
    "tags": []
   },
   "outputs": [
    {
     "name": "stdout",
     "output_type": "stream",
     "text": [
      "MORPHTYPE\n",
      "---------\n",
      "         \n",
      "         \n",
      "  .E+..?.\n",
      "  .E+..P*\n",
      "  .E+4...\n",
      "  .E...P*\n",
      "  .I..9P.\n",
      "  .IBS9..\n",
      "  .L..+P*\n",
      "  .L?....\n",
      "      ...\n",
      "      Sab\n",
      "       Sb\n",
      "      Sbc\n",
      "       Sc\n",
      "      Scd\n",
      "       Sd\n",
      "       Sm\n",
      "     dIrr\n",
      "dIrr/dSph\n",
      "     dSph\n",
      "    dSph?\n",
      "Length = 65 rows [169164      3      1      3      1      1      1      2      1      1\n",
      "      1      1      1      1      2      1      1      1      1      1\n",
      "      1     35   1320      1   1117      1      5  45468   3251  11137\n",
      "     26   2374    118    270      1    419      2   4749  14527  39252\n",
      "    330    771    804    141    129    957   1492   3463   3763   3473\n",
      "    783    499    459   2887   5990  11076  17294  28455   3382   2470\n",
      "   1712     15      6      5      1]\n"
     ]
    }
   ],
   "source": [
    "# Look at morph types in SGA\n",
    "unique, counts = np.unique(SGA['MORPHTYPE'], return_counts = True)\n",
    "print(unique, counts)"
   ]
  },
  {
   "cell_type": "code",
   "execution_count": 64,
   "id": "857103c1-ee25-494c-90dc-e05f8c66e738",
   "metadata": {
    "tags": []
   },
   "outputs": [],
   "source": [
    "# Adds a new column named 'T_TYPE' to the 'SGA' dataset filled with NaN (Not a Number) values.\n",
    "SGA.add_column(np.nan, name='T_TYPE')\n",
    "\n",
    "# assign numerical values to the 'T_TYPE' column based on the 'MORPHTYPE' values:\n",
    "\n",
    "# Elliptical and dwarf ellipticals (MORPHTYPE == 'E'): Assigns a value of -5 to the 'T_TYPE' column for these types.\n",
    "# 45468 \n",
    "SGA['T_TYPE'][SGA['MORPHTYPE'] == 'E'] = -5\n",
    "\n",
    "# Lenticulars (MORPHTYPE == 'S0' and 'S0-a'): Assigns values of -2 and 0, respectively.\n",
    "# 4749\n",
    "SGA['T_TYPE'][SGA['MORPHTYPE'] == 'S0'] = -2\n",
    "#14527\n",
    "SGA['T_TYPE'][SGA['MORPHTYPE'] == 'S0-a'] = 0\n",
    "\n",
    "# Spirals (MORPHTYPE == 'Sa', 'Sab', 'Sb', 'Sbc', 'Sc', 'Scd', 'Sd'): Assigns values 1, 2, 3, 4, 5, 6, and 7, respectively.\n",
    "# 2887 \n",
    "SGA['T_TYPE'][SGA['MORPHTYPE'] == 'Sa'] = 1\n",
    "\n",
    "# 5990\n",
    "SGA['T_TYPE'][SGA['MORPHTYPE'] == 'Sab'] = 2\n",
    "\n",
    "# 11076 \n",
    "SGA['T_TYPE'][SGA['MORPHTYPE'] == 'Sb'] = 3\n",
    "\n",
    "#17294 \n",
    "SGA['T_TYPE'][SGA['MORPHTYPE'] == 'Sbc'] = 4\n",
    "\n",
    "#28455 \n",
    "SGA['T_TYPE'][SGA['MORPHTYPE'] == 'Sc'] = 5\n",
    "\n",
    "#3382\n",
    "SGA['T_TYPE'][SGA['MORPHTYPE'] == 'Scd'] = 6\n",
    "\n",
    "#2470 \n",
    "SGA['T_TYPE'][SGA['MORPHTYPE'] == 'Sd'] = 7\n",
    "\n",
    "# Irregulars (MORPHTYPE == 'Sm', 'Irr', 'dIrr', 'I'): Assigns a value of 9 to 'Sm' and 10 to the others.\n",
    "SGA['T_TYPE'][SGA['MORPHTYPE'] == 'Sm'] = 9\n",
    "SGA['T_TYPE'][SGA['MORPHTYPE'] == 'Irr'] = 10\n",
    "SGA['T_TYPE'][SGA['MORPHTYPE'] == 'dIrr'] = 10\n",
    "SGA['T_TYPE'][SGA['MORPHTYPE'] == 'I'] = 10\n",
    "\n",
    "# Dwarf spheroidal (MORPHTYPE == 'dSph'): Assigns a value of 11.\n",
    "SGA['T_TYPE'][SGA['MORPHTYPE'] == 'dSph'] = 11"
   ]
  },
  {
   "cell_type": "code",
   "execution_count": 65,
   "id": "35512f57-1765-42c4-bc99-1a9c6ccba117",
   "metadata": {
    "tags": []
   },
   "outputs": [
    {
     "data": {
      "text/html": [
       "<div><i>Table length=383620</i>\n",
       "<table id=\"table140309510486160\" class=\"table-striped table-bordered table-condensed\">\n",
       "<thead><tr><th>MORPHTYPE</th><th>T_TYPE</th><th>GRADIENT_G-Z</th><th>GRADIENT_G-R</th><th>GRADIENT_R-Z</th><th>C_INDEX_R_r50_r90</th><th>COLOR G-Z</th><th>COLOR G-R</th><th>COLOR R-Z</th><th>GINI_G</th><th>GINI_R</th><th>GINI_Z</th><th>BA</th><th>Asymmetry_R</th><th>Asymmetry_G</th><th>Asymmetry_Z</th><th>M20_G</th><th>M20_R</th><th>M20_Z</th></tr></thead>\n",
       "<thead><tr><th>bytes21</th><th>float64</th><th>float32</th><th>float32</th><th>float32</th><th>float32</th><th>float32</th><th>float32</th><th>float32</th><th>float64</th><th>float64</th><th>float64</th><th>float32</th><th>float64</th><th>float64</th><th>float64</th><th>float64</th><th>float64</th><th>float64</th></tr></thead>\n",
       "<tr><td>E</td><td>-5.0</td><td>-0.5369842</td><td>-0.07339646</td><td>-0.46358776</td><td>0.25481203</td><td>1.494731</td><td>0.9782467</td><td>0.51648426</td><td>0.7089031552639745</td><td>0.7220749473856489</td><td>0.768062908593354</td><td>0.89236444</td><td>0.22086520493030548</td><td>0.24768468737602234</td><td>0.3547217547893524</td><td>-0.6975669859340095</td><td>-0.6967239122802223</td><td>-0.6978546979251118</td></tr>\n",
       "<tr><td>E</td><td>-5.0</td><td>-0.53083605</td><td>-0.24365975</td><td>-0.2871763</td><td>0.20835827</td><td>1.6869307</td><td>1.0853043</td><td>0.6016264</td><td>0.6606828397718219</td><td>0.7005038312173211</td><td>0.7281851619187655</td><td>0.7714816</td><td>0.22769492864608765</td><td>0.2776549458503723</td><td>0.3561789095401764</td><td>-0.6983291776271033</td><td>-0.6981884553226426</td><td>-0.6983867261377322</td></tr>\n",
       "<tr><td>E</td><td>-5.0</td><td>-0.09060609</td><td>-0.04634577</td><td>-0.044260323</td><td>0.17891355</td><td>1.5189896</td><td>0.9096937</td><td>0.60929585</td><td>0.7139756957916816</td><td>0.7329502034752609</td><td>0.7281722459210835</td><td>0.82604694</td><td>0.2127256989479065</td><td>0.3033459782600403</td><td>0.2683529853820801</td><td>-0.6989399494722414</td><td>-0.6978069936000074</td><td>-0.6988342188341722</td></tr>\n",
       "<tr><td>E</td><td>-5.0</td><td>-0.105971575</td><td>-0.09282738</td><td>-0.013144195</td><td>0.14360416</td><td>1.7361784</td><td>1.0164785</td><td>0.71969986</td><td>0.7062869927954301</td><td>0.7252081943699109</td><td>0.8551951197953661</td><td>0.94990206</td><td>0.32186973094940186</td><td>0.37095385789871216</td><td>1.237820029258728</td><td>-0.6986665453891208</td><td>-0.6984266301794262</td><td>-0.689992870145624</td></tr>\n",
       "<tr><td>E</td><td>-5.0</td><td>-0.66179395</td><td>-0.25598752</td><td>-0.40580642</td><td>0.24141927</td><td>1.4583244</td><td>0.9870472</td><td>0.47127724</td><td>0.7064318081341784</td><td>0.7293388709825479</td><td>0.7755526498439915</td><td>0.8060751</td><td>0.19068536162376404</td><td>0.17279790341854095</td><td>0.25300225615501404</td><td>-0.6968096560704496</td><td>-0.6972031365633037</td><td>-0.6981263245012916</td></tr>\n",
       "<tr><td>E</td><td>-5.0</td><td>--</td><td>--</td><td>--</td><td>0.14834835</td><td>--</td><td>--</td><td>--</td><td>0.4676399443865718</td><td>0.4895451291153296</td><td>0.4952693186221861</td><td>0.83467984</td><td>0.38690653443336487</td><td>0.3055165708065033</td><td>0.612675130367279</td><td>-0.6988155510787184</td><td>-0.6986015434602189</td><td>-0.6987846258001352</td></tr>\n",
       "<tr><td>E</td><td>-5.0</td><td>-0.42369863</td><td>-0.16379105</td><td>-0.2599076</td><td>0.2522917</td><td>1.7391319</td><td>1.0215645</td><td>0.71756744</td><td>0.7266267219365932</td><td>0.7483333668391309</td><td>0.7626366995012073</td><td>0.65211284</td><td>0.12108276039361954</td><td>0.18037772178649902</td><td>0.20768097043037415</td><td>-0.6962691613339614</td><td>-0.6986707980891607</td><td>-0.6973854291009924</td></tr>\n",
       "<tr><td>E</td><td>-5.0</td><td>-0.089765996</td><td>-0.04370889</td><td>-0.046057105</td><td>0.19391565</td><td>1.5149117</td><td>0.86676025</td><td>0.6481514</td><td>0.7521861716033815</td><td>0.7576239948809366</td><td>0.7621323401235267</td><td>0.9079751</td><td>0.17852969467639923</td><td>0.1950448602437973</td><td>0.23334892094135284</td><td>-0.6978146726432917</td><td>-0.6961685648343668</td><td>-0.6971240846849287</td></tr>\n",
       "<tr><td>E</td><td>-5.0</td><td>-0.108296275</td><td>0.006925285</td><td>-0.11522156</td><td>0.19418615</td><td>1.7074795</td><td>0.9784012</td><td>0.7290783</td><td>0.7923166096363903</td><td>0.7999565528978321</td><td>0.7985566154337043</td><td>0.64088607</td><td>0.11127287894487381</td><td>0.13190501928329468</td><td>0.17066706717014313</td><td>-0.6947465202636657</td><td>-0.6971661965001656</td><td>-0.694895231740071</td></tr>\n",
       "<tr><td>E</td><td>-5.0</td><td>--</td><td>--</td><td>--</td><td>--</td><td>--</td><td>--</td><td>--</td><td>0.7735308457905377</td><td>0.7746791495301024</td><td>0.7942855323821446</td><td>0.8147043</td><td>0.1396690458059311</td><td>0.14551353454589844</td><td>0.2057582437992096</td><td>-0.6951342581651853</td><td>-0.6916326516656413</td><td>-0.6890475280136084</td></tr>\n",
       "<tr><td>...</td><td>...</td><td>...</td><td>...</td><td>...</td><td>...</td><td>...</td><td>...</td><td>...</td><td>...</td><td>...</td><td>...</td><td>...</td><td>...</td><td>...</td><td>...</td><td>...</td><td>...</td><td>...</td></tr>\n",
       "<tr><td></td><td>nan</td><td>-0.24525839</td><td>-0.06426003</td><td>-0.18099837</td><td>0.5028942</td><td>1.6556082</td><td>0.890131</td><td>0.7654772</td><td>0.7182262989876939</td><td>0.7510947166952878</td><td>0.7606048749731841</td><td>0.14004827</td><td>0.3671194016933441</td><td>0.43001389503479004</td><td>0.35364025831222534</td><td>-0.698491110777391</td><td>-0.698671892926118</td><td>-0.6987241103923911</td></tr>\n",
       "<tr><td></td><td>nan</td><td>-0.5997654</td><td>-0.2126829</td><td>-0.38708255</td><td>0.4031361</td><td>1.219532</td><td>0.7624302</td><td>0.45710182</td><td>0.6329122446199579</td><td>0.6642280868055759</td><td>0.6695135039917532</td><td>0.6209318</td><td>0.19571450352668762</td><td>0.19496086239814758</td><td>0.5011062026023865</td><td>-0.6985478291055127</td><td>-0.6978530895509245</td><td>-0.6982874090613643</td></tr>\n",
       "<tr><td></td><td>nan</td><td>--</td><td>--</td><td>--</td><td>0.540556</td><td>--</td><td>--</td><td>--</td><td>0.6138077364880915</td><td>0.6548269173655691</td><td>0.5062917904516734</td><td>0.4677685</td><td>1.0759354829788208</td><td>0.5611358880996704</td><td>2.961805820465088</td><td>-0.6970557650042882</td><td>-0.6967542663050257</td><td>-0.6970487789741133</td></tr>\n",
       "<tr><td></td><td>nan</td><td>-0.2973694</td><td>-0.12372567</td><td>-0.17364372</td><td>0.50281453</td><td>1.4311037</td><td>0.8216591</td><td>0.6094446</td><td>0.6368429890403127</td><td>0.6551661892567718</td><td>0.66614881399294</td><td>0.3477891</td><td>0.24814094603061676</td><td>0.29289504885673523</td><td>0.33728161454200745</td><td>-0.6989666164193582</td><td>-0.6988842047038566</td><td>-0.6986651761952476</td></tr>\n",
       "<tr><td></td><td>nan</td><td>-0.39916334</td><td>-0.23619863</td><td>-0.1629647</td><td>0.45082226</td><td>0.9556427</td><td>0.5509033</td><td>0.40473938</td><td>0.5546048758598319</td><td>0.5990152641431398</td><td>0.6042838672019891</td><td>0.7578318</td><td>0.2851369380950928</td><td>0.3264581263065338</td><td>0.3090877830982208</td><td>-0.6982559118188476</td><td>-0.6985400296426467</td><td>-0.6988580681443353</td></tr>\n",
       "<tr><td></td><td>nan</td><td>-0.058071107</td><td>-0.05410096</td><td>-0.003970146</td><td>0.1722032</td><td>1.5000381</td><td>0.89816093</td><td>0.6018772</td><td>0.7180543198413256</td><td>0.7324780206001238</td><td>0.7343397945177658</td><td>0.93793505</td><td>0.11619782447814941</td><td>0.15441568195819855</td><td>0.15768711268901825</td><td>-0.6975901817216018</td><td>-0.6988687301994257</td><td>-0.6968054197476659</td></tr>\n",
       "<tr><td></td><td>nan</td><td>-0.41049975</td><td>-0.23666301</td><td>-0.17383674</td><td>0.38810942</td><td>1.5646172</td><td>0.9425106</td><td>0.62210655</td><td>0.5893506019367271</td><td>0.6474165566221625</td><td>0.6789615106707158</td><td>0.52286375</td><td>0.21417869627475739</td><td>0.24293376505374908</td><td>0.3523915112018585</td><td>-0.6988641284394643</td><td>-0.696587643934774</td><td>-0.6974263839533261</td></tr>\n",
       "<tr><td></td><td>nan</td><td>-0.010738641</td><td>-0.043088943</td><td>0.0323503</td><td>0.43222725</td><td>1.1634674</td><td>0.6782093</td><td>0.4852581</td><td>0.6755942936335602</td><td>0.6849938932728985</td><td>0.6625917391519102</td><td>0.55987906</td><td>0.2540609538555145</td><td>0.2676874101161957</td><td>0.2700543701648712</td><td>-0.6989450883205351</td><td>-0.69740073418245</td><td>-0.6984227013635506</td></tr>\n",
       "<tr><td></td><td>nan</td><td>-0.2792461</td><td>-0.20271823</td><td>-0.07652786</td><td>0.4026701</td><td>1.4758644</td><td>0.83387184</td><td>0.64199257</td><td>0.7108378675442407</td><td>0.7527952159784943</td><td>0.7637391437915696</td><td>0.45612025</td><td>0.12647618353366852</td><td>0.17496035993099213</td><td>0.16564449667930603</td><td>-0.6941923652183433</td><td>-0.6928095771852844</td><td>-0.692151712290039</td></tr>\n",
       "<tr><td>PSF</td><td>nan</td><td>0.20180756</td><td>0.022045657</td><td>0.17976189</td><td>0.19879575</td><td>1.3773804</td><td>0.82274437</td><td>0.554636</td><td>0.7659564329820405</td><td>0.7667033426957105</td><td>0.7434892714960368</td><td>0.951637</td><td>0.19145099818706512</td><td>0.1933778077363968</td><td>0.17290055751800537</td><td>-0.6882508807625218</td><td>-0.6968665267797842</td><td>-0.6981748070935183</td></tr>\n",
       "</table></div>"
      ],
      "text/plain": [
       "<Table length=383620>\n",
       "MORPHTYPE  T_TYPE GRADIENT_G-Z ...        M20_R               M20_Z       \n",
       " bytes21  float64   float32    ...       float64             float64      \n",
       "--------- ------- ------------ ... ------------------- -------------------\n",
       "        E    -5.0   -0.5369842 ... -0.6967239122802223 -0.6978546979251118\n",
       "        E    -5.0  -0.53083605 ... -0.6981884553226426 -0.6983867261377322\n",
       "        E    -5.0  -0.09060609 ... -0.6978069936000074 -0.6988342188341722\n",
       "        E    -5.0 -0.105971575 ... -0.6984266301794262  -0.689992870145624\n",
       "        E    -5.0  -0.66179395 ... -0.6972031365633037 -0.6981263245012916\n",
       "        E    -5.0           -- ... -0.6986015434602189 -0.6987846258001352\n",
       "        E    -5.0  -0.42369863 ... -0.6986707980891607 -0.6973854291009924\n",
       "        E    -5.0 -0.089765996 ... -0.6961685648343668 -0.6971240846849287\n",
       "        E    -5.0 -0.108296275 ... -0.6971661965001656  -0.694895231740071\n",
       "        E    -5.0           -- ... -0.6916326516656413 -0.6890475280136084\n",
       "      ...     ...          ... ...                 ...                 ...\n",
       "              nan  -0.24525839 ...  -0.698671892926118 -0.6987241103923911\n",
       "              nan   -0.5997654 ... -0.6978530895509245 -0.6982874090613643\n",
       "              nan           -- ... -0.6967542663050257 -0.6970487789741133\n",
       "              nan   -0.2973694 ... -0.6988842047038566 -0.6986651761952476\n",
       "              nan  -0.39916334 ... -0.6985400296426467 -0.6988580681443353\n",
       "              nan -0.058071107 ... -0.6988687301994257 -0.6968054197476659\n",
       "              nan  -0.41049975 ...  -0.696587643934774 -0.6974263839533261\n",
       "              nan -0.010738641 ...   -0.69740073418245 -0.6984227013635506\n",
       "              nan   -0.2792461 ... -0.6928095771852844  -0.692151712290039\n",
       "      PSF     nan   0.20180756 ... -0.6968665267797842 -0.6981748070935183"
      ]
     },
     "execution_count": 65,
     "metadata": {},
     "output_type": "execute_result"
    }
   ],
   "source": [
    "# rearrange SGA table so that rows are ordered by the numerical values in the 'T_TYPE' column\n",
    "SGA.sort('T_TYPE')\n",
    "\n",
    "# get color and morph parameters on new table for random forest \n",
    "Relevant = Table([SGA['MORPHTYPE'], SGA['T_TYPE'], SGA['GRADIENT_G-Z'], SGA['GRADIENT_G-R'], SGA['GRADIENT_R-Z'], \n",
    "                 SGA['C_INDEX_R_r50_r90'], SGA['COLOR G-Z'], SGA['COLOR G-R'], SGA['COLOR R-Z'], SGA['GINI_G'], \n",
    "                  SGA['GINI_R'], SGA['GINI_Z'], SGA['BA'], SGA['Asymmetry_R'], SGA['Asymmetry_G'], SGA['Asymmetry_Z'],\n",
    "                 SGA['M20_G'], SGA['M20_R'], SGA['M20_Z']])\n",
    "Relevant"
   ]
  },
  {
   "cell_type": "code",
   "execution_count": 66,
   "id": "4fbbd75a-c993-43d9-b6f6-b94bf0845df5",
   "metadata": {
    "tags": []
   },
   "outputs": [
    {
     "data": {
      "text/html": [
       "<div><i>Table length=383620</i>\n",
       "<table id=\"table140309510486160\" class=\"table-striped table-bordered table-condensed\">\n",
       "<thead><tr><th>MORPHTYPE</th><th>T_TYPE</th><th>GRADIENT_G-Z</th><th>GRADIENT_G-R</th><th>GRADIENT_R-Z</th><th>C_INDEX_R_r50_r90</th><th>COLOR G-Z</th><th>COLOR G-R</th><th>COLOR R-Z</th><th>GINI_G</th><th>GINI_R</th><th>GINI_Z</th><th>BA</th><th>Asymmetry_R</th><th>Asymmetry_G</th><th>Asymmetry_Z</th><th>M20_G</th><th>M20_R</th><th>M20_Z</th><th>TYPE</th></tr></thead>\n",
       "<thead><tr><th>bytes21</th><th>float64</th><th>float32</th><th>float32</th><th>float32</th><th>float32</th><th>float32</th><th>float32</th><th>float32</th><th>float64</th><th>float64</th><th>float64</th><th>float32</th><th>float64</th><th>float64</th><th>float64</th><th>float64</th><th>float64</th><th>float64</th><th>str9</th></tr></thead>\n",
       "<tr><td>E</td><td>-5.0</td><td>-0.5369842</td><td>-0.07339646</td><td>-0.46358776</td><td>0.25481203</td><td>1.494731</td><td>0.9782467</td><td>0.51648426</td><td>0.7089031552639745</td><td>0.7220749473856489</td><td>0.768062908593354</td><td>0.89236444</td><td>0.22086520493030548</td><td>0.24768468737602234</td><td>0.3547217547893524</td><td>-0.6975669859340095</td><td>-0.6967239122802223</td><td>-0.6978546979251118</td><td>Elliptic</td></tr>\n",
       "<tr><td>E</td><td>-5.0</td><td>-0.53083605</td><td>-0.24365975</td><td>-0.2871763</td><td>0.20835827</td><td>1.6869307</td><td>1.0853043</td><td>0.6016264</td><td>0.6606828397718219</td><td>0.7005038312173211</td><td>0.7281851619187655</td><td>0.7714816</td><td>0.22769492864608765</td><td>0.2776549458503723</td><td>0.3561789095401764</td><td>-0.6983291776271033</td><td>-0.6981884553226426</td><td>-0.6983867261377322</td><td>Elliptic</td></tr>\n",
       "<tr><td>E</td><td>-5.0</td><td>-0.09060609</td><td>-0.04634577</td><td>-0.044260323</td><td>0.17891355</td><td>1.5189896</td><td>0.9096937</td><td>0.60929585</td><td>0.7139756957916816</td><td>0.7329502034752609</td><td>0.7281722459210835</td><td>0.82604694</td><td>0.2127256989479065</td><td>0.3033459782600403</td><td>0.2683529853820801</td><td>-0.6989399494722414</td><td>-0.6978069936000074</td><td>-0.6988342188341722</td><td>Elliptic</td></tr>\n",
       "<tr><td>E</td><td>-5.0</td><td>-0.105971575</td><td>-0.09282738</td><td>-0.013144195</td><td>0.14360416</td><td>1.7361784</td><td>1.0164785</td><td>0.71969986</td><td>0.7062869927954301</td><td>0.7252081943699109</td><td>0.8551951197953661</td><td>0.94990206</td><td>0.32186973094940186</td><td>0.37095385789871216</td><td>1.237820029258728</td><td>-0.6986665453891208</td><td>-0.6984266301794262</td><td>-0.689992870145624</td><td>Elliptic</td></tr>\n",
       "<tr><td>E</td><td>-5.0</td><td>-0.66179395</td><td>-0.25598752</td><td>-0.40580642</td><td>0.24141927</td><td>1.4583244</td><td>0.9870472</td><td>0.47127724</td><td>0.7064318081341784</td><td>0.7293388709825479</td><td>0.7755526498439915</td><td>0.8060751</td><td>0.19068536162376404</td><td>0.17279790341854095</td><td>0.25300225615501404</td><td>-0.6968096560704496</td><td>-0.6972031365633037</td><td>-0.6981263245012916</td><td>Elliptic</td></tr>\n",
       "<tr><td>E</td><td>-5.0</td><td>--</td><td>--</td><td>--</td><td>0.14834835</td><td>--</td><td>--</td><td>--</td><td>0.4676399443865718</td><td>0.4895451291153296</td><td>0.4952693186221861</td><td>0.83467984</td><td>0.38690653443336487</td><td>0.3055165708065033</td><td>0.612675130367279</td><td>-0.6988155510787184</td><td>-0.6986015434602189</td><td>-0.6987846258001352</td><td>Elliptic</td></tr>\n",
       "<tr><td>E</td><td>-5.0</td><td>-0.42369863</td><td>-0.16379105</td><td>-0.2599076</td><td>0.2522917</td><td>1.7391319</td><td>1.0215645</td><td>0.71756744</td><td>0.7266267219365932</td><td>0.7483333668391309</td><td>0.7626366995012073</td><td>0.65211284</td><td>0.12108276039361954</td><td>0.18037772178649902</td><td>0.20768097043037415</td><td>-0.6962691613339614</td><td>-0.6986707980891607</td><td>-0.6973854291009924</td><td>Elliptic</td></tr>\n",
       "<tr><td>E</td><td>-5.0</td><td>-0.089765996</td><td>-0.04370889</td><td>-0.046057105</td><td>0.19391565</td><td>1.5149117</td><td>0.86676025</td><td>0.6481514</td><td>0.7521861716033815</td><td>0.7576239948809366</td><td>0.7621323401235267</td><td>0.9079751</td><td>0.17852969467639923</td><td>0.1950448602437973</td><td>0.23334892094135284</td><td>-0.6978146726432917</td><td>-0.6961685648343668</td><td>-0.6971240846849287</td><td>Elliptic</td></tr>\n",
       "<tr><td>E</td><td>-5.0</td><td>-0.108296275</td><td>0.006925285</td><td>-0.11522156</td><td>0.19418615</td><td>1.7074795</td><td>0.9784012</td><td>0.7290783</td><td>0.7923166096363903</td><td>0.7999565528978321</td><td>0.7985566154337043</td><td>0.64088607</td><td>0.11127287894487381</td><td>0.13190501928329468</td><td>0.17066706717014313</td><td>-0.6947465202636657</td><td>-0.6971661965001656</td><td>-0.694895231740071</td><td>Elliptic</td></tr>\n",
       "<tr><td>E</td><td>-5.0</td><td>--</td><td>--</td><td>--</td><td>--</td><td>--</td><td>--</td><td>--</td><td>0.7735308457905377</td><td>0.7746791495301024</td><td>0.7942855323821446</td><td>0.8147043</td><td>0.1396690458059311</td><td>0.14551353454589844</td><td>0.2057582437992096</td><td>-0.6951342581651853</td><td>-0.6916326516656413</td><td>-0.6890475280136084</td><td>Elliptic</td></tr>\n",
       "<tr><td>...</td><td>...</td><td>...</td><td>...</td><td>...</td><td>...</td><td>...</td><td>...</td><td>...</td><td>...</td><td>...</td><td>...</td><td>...</td><td>...</td><td>...</td><td>...</td><td>...</td><td>...</td><td>...</td><td>...</td></tr>\n",
       "<tr><td></td><td>nan</td><td>-0.24525839</td><td>-0.06426003</td><td>-0.18099837</td><td>0.5028942</td><td>1.6556082</td><td>0.890131</td><td>0.7654772</td><td>0.7182262989876939</td><td>0.7510947166952878</td><td>0.7606048749731841</td><td>0.14004827</td><td>0.3671194016933441</td><td>0.43001389503479004</td><td>0.35364025831222534</td><td>-0.698491110777391</td><td>-0.698671892926118</td><td>-0.6987241103923911</td><td>Undefined</td></tr>\n",
       "<tr><td></td><td>nan</td><td>-0.5997654</td><td>-0.2126829</td><td>-0.38708255</td><td>0.4031361</td><td>1.219532</td><td>0.7624302</td><td>0.45710182</td><td>0.6329122446199579</td><td>0.6642280868055759</td><td>0.6695135039917532</td><td>0.6209318</td><td>0.19571450352668762</td><td>0.19496086239814758</td><td>0.5011062026023865</td><td>-0.6985478291055127</td><td>-0.6978530895509245</td><td>-0.6982874090613643</td><td>Undefined</td></tr>\n",
       "<tr><td></td><td>nan</td><td>--</td><td>--</td><td>--</td><td>0.540556</td><td>--</td><td>--</td><td>--</td><td>0.6138077364880915</td><td>0.6548269173655691</td><td>0.5062917904516734</td><td>0.4677685</td><td>1.0759354829788208</td><td>0.5611358880996704</td><td>2.961805820465088</td><td>-0.6970557650042882</td><td>-0.6967542663050257</td><td>-0.6970487789741133</td><td>Undefined</td></tr>\n",
       "<tr><td></td><td>nan</td><td>-0.2973694</td><td>-0.12372567</td><td>-0.17364372</td><td>0.50281453</td><td>1.4311037</td><td>0.8216591</td><td>0.6094446</td><td>0.6368429890403127</td><td>0.6551661892567718</td><td>0.66614881399294</td><td>0.3477891</td><td>0.24814094603061676</td><td>0.29289504885673523</td><td>0.33728161454200745</td><td>-0.6989666164193582</td><td>-0.6988842047038566</td><td>-0.6986651761952476</td><td>Undefined</td></tr>\n",
       "<tr><td></td><td>nan</td><td>-0.39916334</td><td>-0.23619863</td><td>-0.1629647</td><td>0.45082226</td><td>0.9556427</td><td>0.5509033</td><td>0.40473938</td><td>0.5546048758598319</td><td>0.5990152641431398</td><td>0.6042838672019891</td><td>0.7578318</td><td>0.2851369380950928</td><td>0.3264581263065338</td><td>0.3090877830982208</td><td>-0.6982559118188476</td><td>-0.6985400296426467</td><td>-0.6988580681443353</td><td>Undefined</td></tr>\n",
       "<tr><td></td><td>nan</td><td>-0.058071107</td><td>-0.05410096</td><td>-0.003970146</td><td>0.1722032</td><td>1.5000381</td><td>0.89816093</td><td>0.6018772</td><td>0.7180543198413256</td><td>0.7324780206001238</td><td>0.7343397945177658</td><td>0.93793505</td><td>0.11619782447814941</td><td>0.15441568195819855</td><td>0.15768711268901825</td><td>-0.6975901817216018</td><td>-0.6988687301994257</td><td>-0.6968054197476659</td><td>Undefined</td></tr>\n",
       "<tr><td></td><td>nan</td><td>-0.41049975</td><td>-0.23666301</td><td>-0.17383674</td><td>0.38810942</td><td>1.5646172</td><td>0.9425106</td><td>0.62210655</td><td>0.5893506019367271</td><td>0.6474165566221625</td><td>0.6789615106707158</td><td>0.52286375</td><td>0.21417869627475739</td><td>0.24293376505374908</td><td>0.3523915112018585</td><td>-0.6988641284394643</td><td>-0.696587643934774</td><td>-0.6974263839533261</td><td>Undefined</td></tr>\n",
       "<tr><td></td><td>nan</td><td>-0.010738641</td><td>-0.043088943</td><td>0.0323503</td><td>0.43222725</td><td>1.1634674</td><td>0.6782093</td><td>0.4852581</td><td>0.6755942936335602</td><td>0.6849938932728985</td><td>0.6625917391519102</td><td>0.55987906</td><td>0.2540609538555145</td><td>0.2676874101161957</td><td>0.2700543701648712</td><td>-0.6989450883205351</td><td>-0.69740073418245</td><td>-0.6984227013635506</td><td>Undefined</td></tr>\n",
       "<tr><td></td><td>nan</td><td>-0.2792461</td><td>-0.20271823</td><td>-0.07652786</td><td>0.4026701</td><td>1.4758644</td><td>0.83387184</td><td>0.64199257</td><td>0.7108378675442407</td><td>0.7527952159784943</td><td>0.7637391437915696</td><td>0.45612025</td><td>0.12647618353366852</td><td>0.17496035993099213</td><td>0.16564449667930603</td><td>-0.6941923652183433</td><td>-0.6928095771852844</td><td>-0.692151712290039</td><td>Undefined</td></tr>\n",
       "<tr><td>PSF</td><td>nan</td><td>0.20180756</td><td>0.022045657</td><td>0.17976189</td><td>0.19879575</td><td>1.3773804</td><td>0.82274437</td><td>0.554636</td><td>0.7659564329820405</td><td>0.7667033426957105</td><td>0.7434892714960368</td><td>0.951637</td><td>0.19145099818706512</td><td>0.1933778077363968</td><td>0.17290055751800537</td><td>-0.6882508807625218</td><td>-0.6968665267797842</td><td>-0.6981748070935183</td><td>Undefined</td></tr>\n",
       "</table></div>"
      ],
      "text/plain": [
       "<Table length=383620>\n",
       "MORPHTYPE  T_TYPE GRADIENT_G-Z ...        M20_Z           TYPE  \n",
       " bytes21  float64   float32    ...       float64          str9  \n",
       "--------- ------- ------------ ... ------------------- ---------\n",
       "        E    -5.0   -0.5369842 ... -0.6978546979251118  Elliptic\n",
       "        E    -5.0  -0.53083605 ... -0.6983867261377322  Elliptic\n",
       "        E    -5.0  -0.09060609 ... -0.6988342188341722  Elliptic\n",
       "        E    -5.0 -0.105971575 ...  -0.689992870145624  Elliptic\n",
       "        E    -5.0  -0.66179395 ... -0.6981263245012916  Elliptic\n",
       "        E    -5.0           -- ... -0.6987846258001352  Elliptic\n",
       "        E    -5.0  -0.42369863 ... -0.6973854291009924  Elliptic\n",
       "        E    -5.0 -0.089765996 ... -0.6971240846849287  Elliptic\n",
       "        E    -5.0 -0.108296275 ...  -0.694895231740071  Elliptic\n",
       "        E    -5.0           -- ... -0.6890475280136084  Elliptic\n",
       "      ...     ...          ... ...                 ...       ...\n",
       "              nan  -0.24525839 ... -0.6987241103923911 Undefined\n",
       "              nan   -0.5997654 ... -0.6982874090613643 Undefined\n",
       "              nan           -- ... -0.6970487789741133 Undefined\n",
       "              nan   -0.2973694 ... -0.6986651761952476 Undefined\n",
       "              nan  -0.39916334 ... -0.6988580681443353 Undefined\n",
       "              nan -0.058071107 ... -0.6968054197476659 Undefined\n",
       "              nan  -0.41049975 ... -0.6974263839533261 Undefined\n",
       "              nan -0.010738641 ... -0.6984227013635506 Undefined\n",
       "              nan   -0.2792461 ...  -0.692151712290039 Undefined\n",
       "      PSF     nan   0.20180756 ... -0.6981748070935183 Undefined"
      ]
     },
     "execution_count": 66,
     "metadata": {},
     "output_type": "execute_result"
    }
   ],
   "source": [
    "# Group by ellipticals, spirals, lenticulars and irregulars (no barred galaxies)\n",
    "\n",
    "# Adds a new column named 'TYPE' to the 'Relevant' table and initializes it with the label 'Undefined'.\n",
    "Relevant.add_column('Undefined', name='TYPE')\n",
    "\n",
    "spirals = [1, 2, 3, 4, 5, 6, 7]\n",
    "for i in spirals:\n",
    "    Relevant['TYPE'][Relevant['T_TYPE'] == i] = 'Spirals'\n",
    "\n",
    "Relevant['TYPE'][Relevant['T_TYPE'] == -5] = 'Elliptic'\n",
    "\n",
    "Relevant['TYPE'][Relevant['T_TYPE'] == -2] = 'Len'\n",
    "Relevant['TYPE'][Relevant['T_TYPE'] == 0] = 'Len'\n",
    "\n",
    "#Relevant['TYPE'][Relevant['T_TYPE'] == 9] = 'Irregular'\n",
    "Relevant['TYPE'][Relevant['T_TYPE'] == 10] = 'Irregular'\n",
    "Relevant"
   ]
  },
  {
   "cell_type": "code",
   "execution_count": 67,
   "id": "5c2919c0-59a9-4940-9830-1fb86c573d10",
   "metadata": {
    "tags": []
   },
   "outputs": [],
   "source": [
    "# identify and count the galaxies in the 'Relevant' table that haven't been assigned specific types and are labeled as 'Undefined' in the 'TYPE' column.\n",
    "Relevant[Relevant['TYPE'] == 'Undefined']\n",
    "n = len(Relevant[Relevant['TYPE'] == 'Undefined'])"
   ]
  },
  {
   "cell_type": "code",
   "execution_count": 68,
   "id": "5aba1132-0160-4290-ab1f-ec6d655e1758",
   "metadata": {
    "tags": []
   },
   "outputs": [
    {
     "data": {
      "text/html": [
       "<div><i>Table length=138688</i>\n",
       "<table id=\"table140309510486160\" class=\"table-striped table-bordered table-condensed\">\n",
       "<thead><tr><th>MORPHTYPE</th><th>T_TYPE</th><th>GRADIENT_G-Z</th><th>GRADIENT_G-R</th><th>GRADIENT_R-Z</th><th>C_INDEX_R_r50_r90</th><th>COLOR G-Z</th><th>COLOR G-R</th><th>COLOR R-Z</th><th>GINI_G</th><th>GINI_R</th><th>GINI_Z</th><th>BA</th><th>Asymmetry_R</th><th>Asymmetry_G</th><th>Asymmetry_Z</th><th>M20_G</th><th>M20_R</th><th>M20_Z</th><th>TYPE</th></tr></thead>\n",
       "<thead><tr><th>bytes21</th><th>float64</th><th>float32</th><th>float32</th><th>float32</th><th>float32</th><th>float32</th><th>float32</th><th>float32</th><th>float64</th><th>float64</th><th>float64</th><th>float32</th><th>float64</th><th>float64</th><th>float64</th><th>float64</th><th>float64</th><th>float64</th><th>str9</th></tr></thead>\n",
       "<tr><td>E</td><td>-5.0</td><td>-0.5369842</td><td>-0.07339646</td><td>-0.46358776</td><td>0.25481203</td><td>1.494731</td><td>0.9782467</td><td>0.51648426</td><td>0.7089031552639745</td><td>0.7220749473856489</td><td>0.768062908593354</td><td>0.89236444</td><td>0.22086520493030548</td><td>0.24768468737602234</td><td>0.3547217547893524</td><td>-0.6975669859340095</td><td>-0.6967239122802223</td><td>-0.6978546979251118</td><td>Elliptic</td></tr>\n",
       "<tr><td>E</td><td>-5.0</td><td>-0.065739065</td><td>0.009576708</td><td>-0.07531577</td><td>0.26372635</td><td>1.4767199</td><td>0.83605576</td><td>0.6406641</td><td>0.7157851481129739</td><td>0.7319610826183206</td><td>0.7056223200583196</td><td>0.78316826</td><td>0.17434419691562653</td><td>0.24031183123588562</td><td>0.3726341724395752</td><td>-0.6955921274465968</td><td>-0.6972275818909534</td><td>-0.6988884496279404</td><td>Elliptic</td></tr>\n",
       "<tr><td>E</td><td>-5.0</td><td>-0.7994015</td><td>-0.08701193</td><td>-0.7123896</td><td>0.07881972</td><td>1.8686428</td><td>1.2358875</td><td>0.6327553</td><td>0.6431034192497164</td><td>0.6706981295687374</td><td>0.74193224509162</td><td>0.7709117</td><td>0.5306020379066467</td><td>0.5669066905975342</td><td>0.669762134552002</td><td>-0.6975060036240716</td><td>-0.6971674194554952</td><td>-0.6967589300242316</td><td>Elliptic</td></tr>\n",
       "<tr><td>E</td><td>-5.0</td><td>-0.21077347</td><td>-0.14470908</td><td>-0.06606439</td><td>0.24908261</td><td>1.5546103</td><td>0.90292835</td><td>0.6516819</td><td>0.7366244769669638</td><td>0.7550234441902871</td><td>0.766530397253896</td><td>0.75593334</td><td>0.23011770844459534</td><td>0.3396299481391907</td><td>0.1949983686208725</td><td>-0.6961573917038449</td><td>-0.6963130713033714</td><td>-0.6983207623880504</td><td>Elliptic</td></tr>\n",
       "<tr><td>E</td><td>-5.0</td><td>-0.48766157</td><td>-0.12424697</td><td>-0.3634146</td><td>0.26483056</td><td>1.531208</td><td>0.9509735</td><td>0.5802345</td><td>0.7919229773277829</td><td>0.8064153025155713</td><td>0.820757734303387</td><td>0.71132773</td><td>0.1168198361992836</td><td>0.10830502957105637</td><td>0.14521805942058563</td><td>-0.6961543942403714</td><td>-0.6968504397608086</td><td>-0.6929624503736083</td><td>Elliptic</td></tr>\n",
       "<tr><td>E</td><td>-5.0</td><td>-0.3401958</td><td>-0.10322696</td><td>-0.23696885</td><td>0.19278267</td><td>1.6049633</td><td>1.0054064</td><td>0.5995569</td><td>0.7504674289273621</td><td>0.7600661682150734</td><td>0.7970225414866451</td><td>0.89952433</td><td>0.14017033576965332</td><td>0.1130504459142685</td><td>0.14751598238945007</td><td>-0.6986145934896413</td><td>-0.6951635794321989</td><td>-0.6989200882246474</td><td>Elliptic</td></tr>\n",
       "<tr><td>E</td><td>-5.0</td><td>--</td><td>--</td><td>--</td><td>--</td><td>--</td><td>--</td><td>--</td><td>0.6419232870907602</td><td>0.6441716629634248</td><td>0.7627260031650012</td><td>0.978524</td><td>0.6087396144866943</td><td>0.6386452913284302</td><td>0.788008451461792</td><td>-0.6989051862106649</td><td>-0.6989689602896839</td><td>-0.6986136503742562</td><td>Elliptic</td></tr>\n",
       "<tr><td>E</td><td>-5.0</td><td>-0.49376047</td><td>-0.049375325</td><td>-0.44438517</td><td>0.24904494</td><td>1.3504372</td><td>0.8696413</td><td>0.48079586</td><td>0.8011237485594123</td><td>0.8137575667685386</td><td>0.8417360250807098</td><td>0.5428148</td><td>0.4503416419029236</td><td>0.4458245038986206</td><td>0.6285513639450073</td><td>-0.6988695372560156</td><td>-0.6987499783562473</td><td>-0.6986209281897456</td><td>Elliptic</td></tr>\n",
       "<tr><td>E</td><td>-5.0</td><td>-0.119081974</td><td>-0.048656464</td><td>-0.07042551</td><td>0.07480733</td><td>1.6174545</td><td>0.94095516</td><td>0.67649937</td><td>0.6727668854714033</td><td>0.6971990942255121</td><td>0.6797460933908485</td><td>0.8140076</td><td>0.24588161706924438</td><td>0.38194501399993896</td><td>0.4165848195552826</td><td>-0.6981525688481705</td><td>-0.6980121538781277</td><td>-0.6976652472662139</td><td>Elliptic</td></tr>\n",
       "<tr><td>E</td><td>-5.0</td><td>-0.10071872</td><td>-0.08763887</td><td>-0.013079852</td><td>0.23602146</td><td>1.5228395</td><td>0.8931446</td><td>0.62969494</td><td>0.6932573719148509</td><td>0.7121325460556305</td><td>0.7113957789334985</td><td>0.619575</td><td>0.23004212975502014</td><td>0.24715757369995117</td><td>0.2672399878501892</td><td>-0.695417118147692</td><td>-0.6954533026608998</td><td>-0.6942995313573616</td><td>Elliptic</td></tr>\n",
       "<tr><td>...</td><td>...</td><td>...</td><td>...</td><td>...</td><td>...</td><td>...</td><td>...</td><td>...</td><td>...</td><td>...</td><td>...</td><td>...</td><td>...</td><td>...</td><td>...</td><td>...</td><td>...</td><td>...</td><td>...</td></tr>\n",
       "<tr><td>Sbc</td><td>4.0</td><td>-0.38138306</td><td>-0.11088152</td><td>-0.27050155</td><td>0.5088549</td><td>0.9898472</td><td>0.6143074</td><td>0.37553978</td><td>0.6362393467208716</td><td>0.6510307606939856</td><td>0.6503442524129085</td><td>0.8052961</td><td>0.18151654303073883</td><td>0.20178629457950592</td><td>0.26579904556274414</td><td>-0.6988060738983222</td><td>-0.6976837673234594</td><td>-0.6985337552698785</td><td>Spirals</td></tr>\n",
       "<tr><td>Sbc</td><td>4.0</td><td>-0.10947272</td><td>-0.068890125</td><td>-0.040582597</td><td>0.35117677</td><td>0.8480034</td><td>0.4998541</td><td>0.3481493</td><td>0.5280411962181801</td><td>0.5416912579304763</td><td>0.5343149587111946</td><td>0.78457224</td><td>0.39585205912590027</td><td>0.38271310925483704</td><td>0.47831565141677856</td><td>-0.6988067268643917</td><td>-0.69892323508846</td><td>-0.6988656461116851</td><td>Spirals</td></tr>\n",
       "<tr><td>Sbc</td><td>4.0</td><td>-0.34508705</td><td>-0.18914887</td><td>-0.15593815</td><td>0.39929247</td><td>1.0941887</td><td>0.6236572</td><td>0.47053146</td><td>0.6510816296271128</td><td>0.6853381534474009</td><td>0.6877673543967556</td><td>0.50945425</td><td>0.280655175447464</td><td>0.3470626175403595</td><td>0.2721374034881592</td><td>-0.6984483373385517</td><td>-0.6982080408376368</td><td>-0.6979132083584112</td><td>Spirals</td></tr>\n",
       "<tr><td>Sbc</td><td>4.0</td><td>-0.33528042</td><td>-0.20601095</td><td>-0.12926947</td><td>0.4467101</td><td>1.2406893</td><td>0.7197962</td><td>0.5208931</td><td>0.6899999648248325</td><td>0.7078206822724015</td><td>0.7050747924964675</td><td>0.93546736</td><td>0.16078384220600128</td><td>0.1637232005596161</td><td>0.19924311339855194</td><td>-0.6971951295328872</td><td>-0.6980455397362211</td><td>-0.6975117292983086</td><td>Spirals</td></tr>\n",
       "<tr><td>Sbc</td><td>4.0</td><td>-0.6726953</td><td>-0.30671695</td><td>-0.3659783</td><td>0.42658043</td><td>1.1488562</td><td>0.6749973</td><td>0.47385883</td><td>0.6482549723324719</td><td>0.689432728113361</td><td>0.7098379457580591</td><td>0.62489235</td><td>0.3095335364341736</td><td>0.32682332396507263</td><td>0.3217145800590515</td><td>-0.697900508251617</td><td>-0.6970142971236629</td><td>-0.6980362657140321</td><td>Spirals</td></tr>\n",
       "<tr><td>Sbc</td><td>4.0</td><td>-0.6477589</td><td>-0.22009501</td><td>-0.42766386</td><td>0.46933678</td><td>0.9608698</td><td>0.65145683</td><td>0.30941296</td><td>0.5298462475537392</td><td>0.5647652743140201</td><td>0.5941315685706308</td><td>0.9260674</td><td>0.3283320665359497</td><td>0.36231568455696106</td><td>0.4997944235801697</td><td>-0.6987864006588995</td><td>-0.6988759097946862</td><td>-0.6977342226272091</td><td>Spirals</td></tr>\n",
       "<tr><td>Sbc</td><td>4.0</td><td>-0.269417</td><td>-0.20951766</td><td>-0.05989933</td><td>0.43440703</td><td>1.5102701</td><td>0.8720398</td><td>0.6382303</td><td>0.585635840839638</td><td>0.6277549643088808</td><td>0.6155935632885857</td><td>0.2919399</td><td>0.42695313692092896</td><td>0.46040061116218567</td><td>0.5630850195884705</td><td>-0.6988992519960446</td><td>-0.6976066576841305</td><td>-0.6989361591306199</td><td>Spirals</td></tr>\n",
       "<tr><td>Sbc</td><td>4.0</td><td>-0.3726179</td><td>-0.15435767</td><td>-0.21826024</td><td>0.44472033</td><td>1.1789722</td><td>0.71843624</td><td>0.460536</td><td>0.6282062431880253</td><td>0.6543012671142614</td><td>0.6723424436904284</td><td>0.82545304</td><td>0.2002195566892624</td><td>0.21244674921035767</td><td>0.24395716190338135</td><td>-0.6985897522873014</td><td>-0.6976415334073651</td><td>-0.6976660280813736</td><td>Spirals</td></tr>\n",
       "<tr><td>Sbc</td><td>4.0</td><td>-1.3843954</td><td>0.049092043</td><td>-1.4334874</td><td>0.6419901</td><td>1.7171392</td><td>1.0357666</td><td>0.68137264</td><td>0.7806015323629841</td><td>0.7936207360735732</td><td>0.8107086694108114</td><td>0.2717147</td><td>0.13625286519527435</td><td>0.13737691938877106</td><td>0.2618054747581482</td><td>-0.6981730717854733</td><td>-0.697807232660402</td><td>-0.6960961953344553</td><td>Spirals</td></tr>\n",
       "<tr><td>Sbc</td><td>4.0</td><td>-0.1611476</td><td>-0.0746743</td><td>-0.08647329</td><td>0.37549037</td><td>1.3518534</td><td>0.7599373</td><td>0.5919161</td><td>0.7644768463944236</td><td>0.7681714772429347</td><td>0.7754066607272858</td><td>0.57265425</td><td>0.2352808266878128</td><td>0.2533944249153137</td><td>0.21768741309642792</td><td>-0.6989304550216496</td><td>-0.6989421877535499</td><td>-0.6983977402120836</td><td>Spirals</td></tr>\n",
       "</table></div>"
      ],
      "text/plain": [
       "<Table length=138688>\n",
       "MORPHTYPE  T_TYPE GRADIENT_G-Z ...        M20_Z          TYPE  \n",
       " bytes21  float64   float32    ...       float64         str9  \n",
       "--------- ------- ------------ ... ------------------- --------\n",
       "        E    -5.0   -0.5369842 ... -0.6978546979251118 Elliptic\n",
       "        E    -5.0 -0.065739065 ... -0.6988884496279404 Elliptic\n",
       "        E    -5.0   -0.7994015 ... -0.6967589300242316 Elliptic\n",
       "        E    -5.0  -0.21077347 ... -0.6983207623880504 Elliptic\n",
       "        E    -5.0  -0.48766157 ... -0.6929624503736083 Elliptic\n",
       "        E    -5.0   -0.3401958 ... -0.6989200882246474 Elliptic\n",
       "        E    -5.0           -- ... -0.6986136503742562 Elliptic\n",
       "        E    -5.0  -0.49376047 ... -0.6986209281897456 Elliptic\n",
       "        E    -5.0 -0.119081974 ... -0.6976652472662139 Elliptic\n",
       "        E    -5.0  -0.10071872 ... -0.6942995313573616 Elliptic\n",
       "      ...     ...          ... ...                 ...      ...\n",
       "      Sbc     4.0  -0.38138306 ... -0.6985337552698785  Spirals\n",
       "      Sbc     4.0  -0.10947272 ... -0.6988656461116851  Spirals\n",
       "      Sbc     4.0  -0.34508705 ... -0.6979132083584112  Spirals\n",
       "      Sbc     4.0  -0.33528042 ... -0.6975117292983086  Spirals\n",
       "      Sbc     4.0   -0.6726953 ... -0.6980362657140321  Spirals\n",
       "      Sbc     4.0   -0.6477589 ... -0.6977342226272091  Spirals\n",
       "      Sbc     4.0    -0.269417 ... -0.6989361591306199  Spirals\n",
       "      Sbc     4.0   -0.3726179 ... -0.6976660280813736  Spirals\n",
       "      Sbc     4.0   -1.3843954 ... -0.6960961953344553  Spirals\n",
       "      Sbc     4.0   -0.1611476 ... -0.6983977402120836  Spirals"
      ]
     },
     "execution_count": 68,
     "metadata": {},
     "output_type": "execute_result"
    }
   ],
   "source": [
    "# remove all rows with undefined morph type\n",
    "Relevant.sort('TYPE')\n",
    "Relevant.remove_rows([range((len(Relevant) - n),len(Relevant))])\n",
    "Relevant"
   ]
  },
  {
   "cell_type": "code",
   "execution_count": 69,
   "id": "332d6e3d-fd3b-45ef-b902-597609214900",
   "metadata": {
    "tags": []
   },
   "outputs": [
    {
     "data": {
      "text/html": [
       "<div><i>Table length=126357</i>\n",
       "<table id=\"table140309510020816\" class=\"table-striped table-bordered table-condensed\">\n",
       "<thead><tr><th>MORPHTYPE</th><th>T_TYPE</th><th>GRADIENT_G-Z</th><th>GRADIENT_G-R</th><th>GRADIENT_R-Z</th><th>C_INDEX_R_r50_r90</th><th>COLOR G-Z</th><th>COLOR G-R</th><th>COLOR R-Z</th><th>GINI_G</th><th>GINI_R</th><th>GINI_Z</th><th>BA</th><th>Asymmetry_R</th><th>Asymmetry_G</th><th>Asymmetry_Z</th><th>M20_G</th><th>M20_R</th><th>M20_Z</th><th>TYPE</th></tr></thead>\n",
       "<thead><tr><th>bytes21</th><th>float64</th><th>float32</th><th>float32</th><th>float32</th><th>float32</th><th>float32</th><th>float32</th><th>float32</th><th>float64</th><th>float64</th><th>float64</th><th>float32</th><th>float64</th><th>float64</th><th>float64</th><th>float64</th><th>float64</th><th>float64</th><th>str9</th></tr></thead>\n",
       "<tr><td>E</td><td>-5.0</td><td>-0.5369842</td><td>-0.07339646</td><td>-0.46358776</td><td>0.25481203</td><td>1.494731</td><td>0.9782467</td><td>0.51648426</td><td>0.7089031552639745</td><td>0.7220749473856489</td><td>0.768062908593354</td><td>0.89236444</td><td>0.22086520493030548</td><td>0.24768468737602234</td><td>0.3547217547893524</td><td>-0.6975669859340095</td><td>-0.6967239122802223</td><td>-0.6978546979251118</td><td>Elliptic</td></tr>\n",
       "<tr><td>E</td><td>-5.0</td><td>-0.065739065</td><td>0.009576708</td><td>-0.07531577</td><td>0.26372635</td><td>1.4767199</td><td>0.83605576</td><td>0.6406641</td><td>0.7157851481129739</td><td>0.7319610826183206</td><td>0.7056223200583196</td><td>0.78316826</td><td>0.17434419691562653</td><td>0.24031183123588562</td><td>0.3726341724395752</td><td>-0.6955921274465968</td><td>-0.6972275818909534</td><td>-0.6988884496279404</td><td>Elliptic</td></tr>\n",
       "<tr><td>E</td><td>-5.0</td><td>-0.7994015</td><td>-0.08701193</td><td>-0.7123896</td><td>0.07881972</td><td>1.8686428</td><td>1.2358875</td><td>0.6327553</td><td>0.6431034192497164</td><td>0.6706981295687374</td><td>0.74193224509162</td><td>0.7709117</td><td>0.5306020379066467</td><td>0.5669066905975342</td><td>0.669762134552002</td><td>-0.6975060036240716</td><td>-0.6971674194554952</td><td>-0.6967589300242316</td><td>Elliptic</td></tr>\n",
       "<tr><td>E</td><td>-5.0</td><td>-0.21077347</td><td>-0.14470908</td><td>-0.06606439</td><td>0.24908261</td><td>1.5546103</td><td>0.90292835</td><td>0.6516819</td><td>0.7366244769669638</td><td>0.7550234441902871</td><td>0.766530397253896</td><td>0.75593334</td><td>0.23011770844459534</td><td>0.3396299481391907</td><td>0.1949983686208725</td><td>-0.6961573917038449</td><td>-0.6963130713033714</td><td>-0.6983207623880504</td><td>Elliptic</td></tr>\n",
       "<tr><td>E</td><td>-5.0</td><td>-0.48766157</td><td>-0.12424697</td><td>-0.3634146</td><td>0.26483056</td><td>1.531208</td><td>0.9509735</td><td>0.5802345</td><td>0.7919229773277829</td><td>0.8064153025155713</td><td>0.820757734303387</td><td>0.71132773</td><td>0.1168198361992836</td><td>0.10830502957105637</td><td>0.14521805942058563</td><td>-0.6961543942403714</td><td>-0.6968504397608086</td><td>-0.6929624503736083</td><td>Elliptic</td></tr>\n",
       "<tr><td>E</td><td>-5.0</td><td>-0.3401958</td><td>-0.10322696</td><td>-0.23696885</td><td>0.19278267</td><td>1.6049633</td><td>1.0054064</td><td>0.5995569</td><td>0.7504674289273621</td><td>0.7600661682150734</td><td>0.7970225414866451</td><td>0.89952433</td><td>0.14017033576965332</td><td>0.1130504459142685</td><td>0.14751598238945007</td><td>-0.6986145934896413</td><td>-0.6951635794321989</td><td>-0.6989200882246474</td><td>Elliptic</td></tr>\n",
       "<tr><td>E</td><td>-5.0</td><td>-0.49376047</td><td>-0.049375325</td><td>-0.44438517</td><td>0.24904494</td><td>1.3504372</td><td>0.8696413</td><td>0.48079586</td><td>0.8011237485594123</td><td>0.8137575667685386</td><td>0.8417360250807098</td><td>0.5428148</td><td>0.4503416419029236</td><td>0.4458245038986206</td><td>0.6285513639450073</td><td>-0.6988695372560156</td><td>-0.6987499783562473</td><td>-0.6986209281897456</td><td>Elliptic</td></tr>\n",
       "<tr><td>E</td><td>-5.0</td><td>-0.119081974</td><td>-0.048656464</td><td>-0.07042551</td><td>0.07480733</td><td>1.6174545</td><td>0.94095516</td><td>0.67649937</td><td>0.6727668854714033</td><td>0.6971990942255121</td><td>0.6797460933908485</td><td>0.8140076</td><td>0.24588161706924438</td><td>0.38194501399993896</td><td>0.4165848195552826</td><td>-0.6981525688481705</td><td>-0.6980121538781277</td><td>-0.6976652472662139</td><td>Elliptic</td></tr>\n",
       "<tr><td>E</td><td>-5.0</td><td>-0.10071872</td><td>-0.08763887</td><td>-0.013079852</td><td>0.23602146</td><td>1.5228395</td><td>0.8931446</td><td>0.62969494</td><td>0.6932573719148509</td><td>0.7121325460556305</td><td>0.7113957789334985</td><td>0.619575</td><td>0.23004212975502014</td><td>0.24715757369995117</td><td>0.2672399878501892</td><td>-0.695417118147692</td><td>-0.6954533026608998</td><td>-0.6942995313573616</td><td>Elliptic</td></tr>\n",
       "<tr><td>E</td><td>-5.0</td><td>-0.07689765</td><td>-0.046013415</td><td>-0.030884236</td><td>0.17733566</td><td>1.5140362</td><td>0.886096</td><td>0.6279402</td><td>0.8315215170460929</td><td>0.8163806950668488</td><td>0.7920672186527277</td><td>0.60647094</td><td>0.719144344329834</td><td>0.8969190716743469</td><td>0.6141539812088013</td><td>-0.6974461832340288</td><td>-0.6930808601921918</td><td>-0.69315628536694</td><td>Elliptic</td></tr>\n",
       "<tr><td>...</td><td>...</td><td>...</td><td>...</td><td>...</td><td>...</td><td>...</td><td>...</td><td>...</td><td>...</td><td>...</td><td>...</td><td>...</td><td>...</td><td>...</td><td>...</td><td>...</td><td>...</td><td>...</td><td>...</td></tr>\n",
       "<tr><td>Sbc</td><td>4.0</td><td>-0.38138306</td><td>-0.11088152</td><td>-0.27050155</td><td>0.5088549</td><td>0.9898472</td><td>0.6143074</td><td>0.37553978</td><td>0.6362393467208716</td><td>0.6510307606939856</td><td>0.6503442524129085</td><td>0.8052961</td><td>0.18151654303073883</td><td>0.20178629457950592</td><td>0.26579904556274414</td><td>-0.6988060738983222</td><td>-0.6976837673234594</td><td>-0.6985337552698785</td><td>Spirals</td></tr>\n",
       "<tr><td>Sbc</td><td>4.0</td><td>-0.10947272</td><td>-0.068890125</td><td>-0.040582597</td><td>0.35117677</td><td>0.8480034</td><td>0.4998541</td><td>0.3481493</td><td>0.5280411962181801</td><td>0.5416912579304763</td><td>0.5343149587111946</td><td>0.78457224</td><td>0.39585205912590027</td><td>0.38271310925483704</td><td>0.47831565141677856</td><td>-0.6988067268643917</td><td>-0.69892323508846</td><td>-0.6988656461116851</td><td>Spirals</td></tr>\n",
       "<tr><td>Sbc</td><td>4.0</td><td>-0.34508705</td><td>-0.18914887</td><td>-0.15593815</td><td>0.39929247</td><td>1.0941887</td><td>0.6236572</td><td>0.47053146</td><td>0.6510816296271128</td><td>0.6853381534474009</td><td>0.6877673543967556</td><td>0.50945425</td><td>0.280655175447464</td><td>0.3470626175403595</td><td>0.2721374034881592</td><td>-0.6984483373385517</td><td>-0.6982080408376368</td><td>-0.6979132083584112</td><td>Spirals</td></tr>\n",
       "<tr><td>Sbc</td><td>4.0</td><td>-0.33528042</td><td>-0.20601095</td><td>-0.12926947</td><td>0.4467101</td><td>1.2406893</td><td>0.7197962</td><td>0.5208931</td><td>0.6899999648248325</td><td>0.7078206822724015</td><td>0.7050747924964675</td><td>0.93546736</td><td>0.16078384220600128</td><td>0.1637232005596161</td><td>0.19924311339855194</td><td>-0.6971951295328872</td><td>-0.6980455397362211</td><td>-0.6975117292983086</td><td>Spirals</td></tr>\n",
       "<tr><td>Sbc</td><td>4.0</td><td>-0.6726953</td><td>-0.30671695</td><td>-0.3659783</td><td>0.42658043</td><td>1.1488562</td><td>0.6749973</td><td>0.47385883</td><td>0.6482549723324719</td><td>0.689432728113361</td><td>0.7098379457580591</td><td>0.62489235</td><td>0.3095335364341736</td><td>0.32682332396507263</td><td>0.3217145800590515</td><td>-0.697900508251617</td><td>-0.6970142971236629</td><td>-0.6980362657140321</td><td>Spirals</td></tr>\n",
       "<tr><td>Sbc</td><td>4.0</td><td>-0.6477589</td><td>-0.22009501</td><td>-0.42766386</td><td>0.46933678</td><td>0.9608698</td><td>0.65145683</td><td>0.30941296</td><td>0.5298462475537392</td><td>0.5647652743140201</td><td>0.5941315685706308</td><td>0.9260674</td><td>0.3283320665359497</td><td>0.36231568455696106</td><td>0.4997944235801697</td><td>-0.6987864006588995</td><td>-0.6988759097946862</td><td>-0.6977342226272091</td><td>Spirals</td></tr>\n",
       "<tr><td>Sbc</td><td>4.0</td><td>-0.269417</td><td>-0.20951766</td><td>-0.05989933</td><td>0.43440703</td><td>1.5102701</td><td>0.8720398</td><td>0.6382303</td><td>0.585635840839638</td><td>0.6277549643088808</td><td>0.6155935632885857</td><td>0.2919399</td><td>0.42695313692092896</td><td>0.46040061116218567</td><td>0.5630850195884705</td><td>-0.6988992519960446</td><td>-0.6976066576841305</td><td>-0.6989361591306199</td><td>Spirals</td></tr>\n",
       "<tr><td>Sbc</td><td>4.0</td><td>-0.3726179</td><td>-0.15435767</td><td>-0.21826024</td><td>0.44472033</td><td>1.1789722</td><td>0.71843624</td><td>0.460536</td><td>0.6282062431880253</td><td>0.6543012671142614</td><td>0.6723424436904284</td><td>0.82545304</td><td>0.2002195566892624</td><td>0.21244674921035767</td><td>0.24395716190338135</td><td>-0.6985897522873014</td><td>-0.6976415334073651</td><td>-0.6976660280813736</td><td>Spirals</td></tr>\n",
       "<tr><td>Sbc</td><td>4.0</td><td>-1.3843954</td><td>0.049092043</td><td>-1.4334874</td><td>0.6419901</td><td>1.7171392</td><td>1.0357666</td><td>0.68137264</td><td>0.7806015323629841</td><td>0.7936207360735732</td><td>0.8107086694108114</td><td>0.2717147</td><td>0.13625286519527435</td><td>0.13737691938877106</td><td>0.2618054747581482</td><td>-0.6981730717854733</td><td>-0.697807232660402</td><td>-0.6960961953344553</td><td>Spirals</td></tr>\n",
       "<tr><td>Sbc</td><td>4.0</td><td>-0.1611476</td><td>-0.0746743</td><td>-0.08647329</td><td>0.37549037</td><td>1.3518534</td><td>0.7599373</td><td>0.5919161</td><td>0.7644768463944236</td><td>0.7681714772429347</td><td>0.7754066607272858</td><td>0.57265425</td><td>0.2352808266878128</td><td>0.2533944249153137</td><td>0.21768741309642792</td><td>-0.6989304550216496</td><td>-0.6989421877535499</td><td>-0.6983977402120836</td><td>Spirals</td></tr>\n",
       "</table></div>"
      ],
      "text/plain": [
       "<Table length=126357>\n",
       "MORPHTYPE  T_TYPE GRADIENT_G-Z ...        M20_Z          TYPE  \n",
       " bytes21  float64   float32    ...       float64         str9  \n",
       "--------- ------- ------------ ... ------------------- --------\n",
       "        E    -5.0   -0.5369842 ... -0.6978546979251118 Elliptic\n",
       "        E    -5.0 -0.065739065 ... -0.6988884496279404 Elliptic\n",
       "        E    -5.0   -0.7994015 ... -0.6967589300242316 Elliptic\n",
       "        E    -5.0  -0.21077347 ... -0.6983207623880504 Elliptic\n",
       "        E    -5.0  -0.48766157 ... -0.6929624503736083 Elliptic\n",
       "        E    -5.0   -0.3401958 ... -0.6989200882246474 Elliptic\n",
       "        E    -5.0  -0.49376047 ... -0.6986209281897456 Elliptic\n",
       "        E    -5.0 -0.119081974 ... -0.6976652472662139 Elliptic\n",
       "        E    -5.0  -0.10071872 ... -0.6942995313573616 Elliptic\n",
       "        E    -5.0  -0.07689765 ...   -0.69315628536694 Elliptic\n",
       "      ...     ...          ... ...                 ...      ...\n",
       "      Sbc     4.0  -0.38138306 ... -0.6985337552698785  Spirals\n",
       "      Sbc     4.0  -0.10947272 ... -0.6988656461116851  Spirals\n",
       "      Sbc     4.0  -0.34508705 ... -0.6979132083584112  Spirals\n",
       "      Sbc     4.0  -0.33528042 ... -0.6975117292983086  Spirals\n",
       "      Sbc     4.0   -0.6726953 ... -0.6980362657140321  Spirals\n",
       "      Sbc     4.0   -0.6477589 ... -0.6977342226272091  Spirals\n",
       "      Sbc     4.0    -0.269417 ... -0.6989361591306199  Spirals\n",
       "      Sbc     4.0   -0.3726179 ... -0.6976660280813736  Spirals\n",
       "      Sbc     4.0   -1.3843954 ... -0.6960961953344553  Spirals\n",
       "      Sbc     4.0   -0.1611476 ... -0.6983977402120836  Spirals"
      ]
     },
     "execution_count": 69,
     "metadata": {},
     "output_type": "execute_result"
    }
   ],
   "source": [
    "filtering_for_classifier = np.logical_not(Relevant['GRADIENT_G-Z'].mask)& np.logical_not(Relevant['GRADIENT_G-R'].mask)& np.logical_not(Relevant['GRADIENT_R-Z'].mask) & np.logical_not(Relevant['C_INDEX_R_r50_r90'].mask)& np.logical_not(Relevant['COLOR G-Z'].mask) & np.logical_not(Relevant['COLOR G-R'].mask)& np.logical_not(Relevant['COLOR R-Z'].mask)& np.logical_not(Relevant['GINI_R'].mask)& np.logical_not(Relevant['GINI_G'].mask)& np.logical_not(Relevant['GINI_Z'].mask)& np.logical_not(Relevant['Asymmetry_G'].mask)& np.logical_not(Relevant['Asymmetry_R'].mask)& np.logical_not(Relevant['Asymmetry_Z'].mask)& np.logical_not(Relevant['M20_G'].mask)& np.logical_not(Relevant['M20_R'].mask)& np.logical_not(Relevant['M20_Z'].mask)\n",
    "\n",
    "#'Data' that includes only the rows where all the specified columns have valid (non-masked) data.\n",
    "Data = Relevant[filtering_for_classifier]\n",
    "Data"
   ]
  },
  {
   "cell_type": "code",
   "execution_count": 70,
   "id": "67ecc8f1-025d-41a0-b110-ff4362d9f346",
   "metadata": {
    "tags": []
   },
   "outputs": [
    {
     "name": "stdout",
     "output_type": "stream",
     "text": [
      "MORPHTYPE\n",
      "---------\n",
      "        E\n",
      "        I\n",
      "       S0\n",
      "     S0-a\n",
      "       Sa\n",
      "      Sab\n",
      "       Sb\n",
      "      Sbc\n",
      "       Sc\n",
      "      Scd\n",
      "       Sd\n",
      "     dIrr [40821  2034  4226 13306  2594  5451 10118 15918 26492  3115  2274     8]\n"
     ]
    }
   ],
   "source": [
    "unique, counts = np.unique(Data['MORPHTYPE'], return_counts = True)\n",
    "print(unique, counts)"
   ]
  },
  {
   "cell_type": "code",
   "execution_count": 71,
   "id": "99717275-4f74-4011-ad05-3ed2a94637f6",
   "metadata": {
    "tags": []
   },
   "outputs": [
    {
     "name": "stdout",
     "output_type": "stream",
     "text": [
      "   TYPE  \n",
      "---------\n",
      " Elliptic\n",
      "Irregular\n",
      "      Len\n",
      "  Spirals [40821  2042 17532 65962]\n"
     ]
    }
   ],
   "source": [
    "unique, counts = np.unique(Data['TYPE'], return_counts = True)\n",
    "print(unique, counts)"
   ]
  },
  {
   "cell_type": "code",
   "execution_count": 76,
   "id": "97b8e7c8-eb8e-4abe-93a1-e635be804380",
   "metadata": {
    "tags": []
   },
   "outputs": [
    {
     "data": {
      "text/html": [
       "<div><i>Table length=8168</i>\n",
       "<table id=\"table140309809131856\" class=\"table-striped table-bordered table-condensed\">\n",
       "<thead><tr><th>MORPHTYPE</th><th>T_TYPE</th><th>GRADIENT_G-Z</th><th>GRADIENT_G-R</th><th>GRADIENT_R-Z</th><th>C_INDEX_R_r50_r90</th><th>COLOR G-Z</th><th>COLOR G-R</th><th>COLOR R-Z</th><th>GINI_G</th><th>GINI_R</th><th>GINI_Z</th><th>BA</th><th>Asymmetry_R</th><th>Asymmetry_G</th><th>Asymmetry_Z</th><th>M20_G</th><th>M20_R</th><th>M20_Z</th><th>TYPE</th></tr></thead>\n",
       "<thead><tr><th>bytes21</th><th>float64</th><th>float32</th><th>float32</th><th>float32</th><th>float32</th><th>float32</th><th>float32</th><th>float32</th><th>float64</th><th>float64</th><th>float64</th><th>float32</th><th>float64</th><th>float64</th><th>float64</th><th>float64</th><th>float64</th><th>float64</th><th>str9</th></tr></thead>\n",
       "<tr><td>E</td><td>-5.0</td><td>-0.5369842</td><td>-0.07339646</td><td>-0.46358776</td><td>0.25481203</td><td>1.494731</td><td>0.9782467</td><td>0.51648426</td><td>0.7089031552639745</td><td>0.7220749473856489</td><td>0.768062908593354</td><td>0.89236444</td><td>0.22086520493030548</td><td>0.24768468737602234</td><td>0.3547217547893524</td><td>-0.6975669859340095</td><td>-0.6967239122802223</td><td>-0.6978546979251118</td><td>Elliptic</td></tr>\n",
       "<tr><td>E</td><td>-5.0</td><td>-0.065739065</td><td>0.009576708</td><td>-0.07531577</td><td>0.26372635</td><td>1.4767199</td><td>0.83605576</td><td>0.6406641</td><td>0.7157851481129739</td><td>0.7319610826183206</td><td>0.7056223200583196</td><td>0.78316826</td><td>0.17434419691562653</td><td>0.24031183123588562</td><td>0.3726341724395752</td><td>-0.6955921274465968</td><td>-0.6972275818909534</td><td>-0.6988884496279404</td><td>Elliptic</td></tr>\n",
       "<tr><td>E</td><td>-5.0</td><td>-0.7994015</td><td>-0.08701193</td><td>-0.7123896</td><td>0.07881972</td><td>1.8686428</td><td>1.2358875</td><td>0.6327553</td><td>0.6431034192497164</td><td>0.6706981295687374</td><td>0.74193224509162</td><td>0.7709117</td><td>0.5306020379066467</td><td>0.5669066905975342</td><td>0.669762134552002</td><td>-0.6975060036240716</td><td>-0.6971674194554952</td><td>-0.6967589300242316</td><td>Elliptic</td></tr>\n",
       "<tr><td>E</td><td>-5.0</td><td>-0.21077347</td><td>-0.14470908</td><td>-0.06606439</td><td>0.24908261</td><td>1.5546103</td><td>0.90292835</td><td>0.6516819</td><td>0.7366244769669638</td><td>0.7550234441902871</td><td>0.766530397253896</td><td>0.75593334</td><td>0.23011770844459534</td><td>0.3396299481391907</td><td>0.1949983686208725</td><td>-0.6961573917038449</td><td>-0.6963130713033714</td><td>-0.6983207623880504</td><td>Elliptic</td></tr>\n",
       "<tr><td>E</td><td>-5.0</td><td>-0.48766157</td><td>-0.12424697</td><td>-0.3634146</td><td>0.26483056</td><td>1.531208</td><td>0.9509735</td><td>0.5802345</td><td>0.7919229773277829</td><td>0.8064153025155713</td><td>0.820757734303387</td><td>0.71132773</td><td>0.1168198361992836</td><td>0.10830502957105637</td><td>0.14521805942058563</td><td>-0.6961543942403714</td><td>-0.6968504397608086</td><td>-0.6929624503736083</td><td>Elliptic</td></tr>\n",
       "<tr><td>E</td><td>-5.0</td><td>-0.3401958</td><td>-0.10322696</td><td>-0.23696885</td><td>0.19278267</td><td>1.6049633</td><td>1.0054064</td><td>0.5995569</td><td>0.7504674289273621</td><td>0.7600661682150734</td><td>0.7970225414866451</td><td>0.89952433</td><td>0.14017033576965332</td><td>0.1130504459142685</td><td>0.14751598238945007</td><td>-0.6986145934896413</td><td>-0.6951635794321989</td><td>-0.6989200882246474</td><td>Elliptic</td></tr>\n",
       "<tr><td>E</td><td>-5.0</td><td>-0.49376047</td><td>-0.049375325</td><td>-0.44438517</td><td>0.24904494</td><td>1.3504372</td><td>0.8696413</td><td>0.48079586</td><td>0.8011237485594123</td><td>0.8137575667685386</td><td>0.8417360250807098</td><td>0.5428148</td><td>0.4503416419029236</td><td>0.4458245038986206</td><td>0.6285513639450073</td><td>-0.6988695372560156</td><td>-0.6987499783562473</td><td>-0.6986209281897456</td><td>Elliptic</td></tr>\n",
       "<tr><td>E</td><td>-5.0</td><td>-0.119081974</td><td>-0.048656464</td><td>-0.07042551</td><td>0.07480733</td><td>1.6174545</td><td>0.94095516</td><td>0.67649937</td><td>0.6727668854714033</td><td>0.6971990942255121</td><td>0.6797460933908485</td><td>0.8140076</td><td>0.24588161706924438</td><td>0.38194501399993896</td><td>0.4165848195552826</td><td>-0.6981525688481705</td><td>-0.6980121538781277</td><td>-0.6976652472662139</td><td>Elliptic</td></tr>\n",
       "<tr><td>E</td><td>-5.0</td><td>-0.10071872</td><td>-0.08763887</td><td>-0.013079852</td><td>0.23602146</td><td>1.5228395</td><td>0.8931446</td><td>0.62969494</td><td>0.6932573719148509</td><td>0.7121325460556305</td><td>0.7113957789334985</td><td>0.619575</td><td>0.23004212975502014</td><td>0.24715757369995117</td><td>0.2672399878501892</td><td>-0.695417118147692</td><td>-0.6954533026608998</td><td>-0.6942995313573616</td><td>Elliptic</td></tr>\n",
       "<tr><td>E</td><td>-5.0</td><td>-0.07689765</td><td>-0.046013415</td><td>-0.030884236</td><td>0.17733566</td><td>1.5140362</td><td>0.886096</td><td>0.6279402</td><td>0.8315215170460929</td><td>0.8163806950668488</td><td>0.7920672186527277</td><td>0.60647094</td><td>0.719144344329834</td><td>0.8969190716743469</td><td>0.6141539812088013</td><td>-0.6974461832340288</td><td>-0.6930808601921918</td><td>-0.69315628536694</td><td>Elliptic</td></tr>\n",
       "<tr><td>...</td><td>...</td><td>...</td><td>...</td><td>...</td><td>...</td><td>...</td><td>...</td><td>...</td><td>...</td><td>...</td><td>...</td><td>...</td><td>...</td><td>...</td><td>...</td><td>...</td><td>...</td><td>...</td><td>...</td></tr>\n",
       "<tr><td>I</td><td>10.0</td><td>-0.56890565</td><td>0.03275013</td><td>-0.6016558</td><td>0.18040892</td><td>0.1895628</td><td>0.36670494</td><td>-0.17714214</td><td>0.6236660769629382</td><td>0.6344549060261434</td><td>0.667944077130325</td><td>0.51025736</td><td>0.4043341279029846</td><td>0.4174657166004181</td><td>0.771592915058136</td><td>-0.6985713515267762</td><td>-0.6988034885204408</td><td>-0.6982184594972123</td><td>Irregular</td></tr>\n",
       "<tr><td>I</td><td>10.0</td><td>0.27629298</td><td>0.119220614</td><td>0.15707237</td><td>0.39310688</td><td>0.52815056</td><td>0.30588722</td><td>0.22226334</td><td>0.6516139477054639</td><td>0.625879794314094</td><td>0.5473947971843991</td><td>0.33863157</td><td>0.4028267562389374</td><td>0.373099684715271</td><td>0.8444679379463196</td><td>-0.6977632451841816</td><td>-0.6973097893317878</td><td>-0.6970972281148767</td><td>Irregular</td></tr>\n",
       "<tr><td>I</td><td>10.0</td><td>-0.46093315</td><td>0.004091561</td><td>-0.4650247</td><td>0.4058412</td><td>0.20849037</td><td>0.26882172</td><td>-0.060331345</td><td>0.626124590689185</td><td>0.6043950747327008</td><td>0.6020066000740146</td><td>0.51354814</td><td>0.31205347180366516</td><td>0.4037949740886688</td><td>0.48116475343704224</td><td>-0.6974655919041487</td><td>-0.6985017470972175</td><td>-0.6978794573003002</td><td>Irregular</td></tr>\n",
       "<tr><td>I</td><td>10.0</td><td>-0.0907132</td><td>-0.059817374</td><td>-0.03089583</td><td>0.36783087</td><td>0.54599</td><td>0.34404945</td><td>0.20194054</td><td>0.48356766020371683</td><td>0.4930822144301742</td><td>0.4775533744023966</td><td>0.8353031</td><td>0.37359562516212463</td><td>0.4240890443325043</td><td>0.4505811035633087</td><td>-0.6982553356319948</td><td>-0.6988189112948798</td><td>-0.6988806677300716</td><td>Irregular</td></tr>\n",
       "<tr><td>I</td><td>10.0</td><td>-1.7944632</td><td>0.032536507</td><td>-1.8269997</td><td>0.23775025</td><td>-0.12339592</td><td>0.47411156</td><td>-0.5975075</td><td>0.39207969962481376</td><td>0.40252074107443475</td><td>0.4233613704327119</td><td>0.5562611</td><td>0.4649103283882141</td><td>0.4250450134277344</td><td>2.187911033630371</td><td>-0.6985646177068363</td><td>-0.6987144915744019</td><td>-0.6985968522865695</td><td>Irregular</td></tr>\n",
       "<tr><td>I</td><td>10.0</td><td>-0.05268532</td><td>0.011777014</td><td>-0.064462334</td><td>0.35950565</td><td>0.65681267</td><td>0.41148758</td><td>0.24532509</td><td>0.5545193631420335</td><td>0.5548196650255126</td><td>0.5478128719985534</td><td>0.18291068</td><td>0.43502044677734375</td><td>0.4092138111591339</td><td>0.6280626058578491</td><td>-0.6989596814571747</td><td>-0.6989532824105118</td><td>-0.6988789186231075</td><td>Irregular</td></tr>\n",
       "<tr><td>I</td><td>10.0</td><td>-1.3177159</td><td>-0.037360907</td><td>-1.280355</td><td>0.14489447</td><td>-0.06896019</td><td>0.31088638</td><td>-0.37984657</td><td>0.5312176863946918</td><td>0.5002550641301485</td><td>0.5324506214449637</td><td>0.3942212</td><td>0.5330970883369446</td><td>0.38573145866394043</td><td>1.6494077444076538</td><td>-0.6988816407331742</td><td>-0.6988281108299264</td><td>-0.6982584516437945</td><td>Irregular</td></tr>\n",
       "<tr><td>I</td><td>10.0</td><td>-0.03812909</td><td>-0.09665465</td><td>0.058525562</td><td>0.067016885</td><td>0.65081024</td><td>0.3816204</td><td>0.26918983</td><td>0.5470835609894369</td><td>0.5468951446779532</td><td>0.5324193870283775</td><td>0.36674184</td><td>0.5709018707275391</td><td>0.5382400751113892</td><td>1.1480388641357422</td><td>-0.6989432263848799</td><td>-0.6988660272642979</td><td>-0.698816177778857</td><td>Irregular</td></tr>\n",
       "<tr><td>I</td><td>10.0</td><td>0.114162</td><td>0.15630966</td><td>-0.042147666</td><td>0.42111325</td><td>0.51195526</td><td>0.32858658</td><td>0.18336868</td><td>0.6698015220840837</td><td>0.645928251309158</td><td>0.6199995381438239</td><td>0.7412782</td><td>0.2625848352909088</td><td>0.339002788066864</td><td>0.37974438071250916</td><td>-0.6981161563793336</td><td>-0.6988187689766397</td><td>-0.697986929792751</td><td>Irregular</td></tr>\n",
       "<tr><td>I</td><td>10.0</td><td>0.027377859</td><td>-0.0015227646</td><td>0.028900623</td><td>0.43870157</td><td>0.62245655</td><td>0.39904022</td><td>0.22341633</td><td>0.5348532637784675</td><td>0.532174968075956</td><td>0.5081266169594494</td><td>0.9330003</td><td>0.38543879985809326</td><td>0.4281133711338043</td><td>0.476608008146286</td><td>-0.6986398858438506</td><td>-0.6988430842956386</td><td>-0.6988043236271184</td><td>Irregular</td></tr>\n",
       "</table></div>"
      ],
      "text/plain": [
       "<Table length=8168>\n",
       "MORPHTYPE  T_TYPE GRADIENT_G-Z ...        M20_Z           TYPE  \n",
       " bytes21  float64   float32    ...       float64          str9  \n",
       "--------- ------- ------------ ... ------------------- ---------\n",
       "        E    -5.0   -0.5369842 ... -0.6978546979251118  Elliptic\n",
       "        E    -5.0 -0.065739065 ... -0.6988884496279404  Elliptic\n",
       "        E    -5.0   -0.7994015 ... -0.6967589300242316  Elliptic\n",
       "        E    -5.0  -0.21077347 ... -0.6983207623880504  Elliptic\n",
       "        E    -5.0  -0.48766157 ... -0.6929624503736083  Elliptic\n",
       "        E    -5.0   -0.3401958 ... -0.6989200882246474  Elliptic\n",
       "        E    -5.0  -0.49376047 ... -0.6986209281897456  Elliptic\n",
       "        E    -5.0 -0.119081974 ... -0.6976652472662139  Elliptic\n",
       "        E    -5.0  -0.10071872 ... -0.6942995313573616  Elliptic\n",
       "        E    -5.0  -0.07689765 ...   -0.69315628536694  Elliptic\n",
       "      ...     ...          ... ...                 ...       ...\n",
       "        I    10.0  -0.56890565 ... -0.6982184594972123 Irregular\n",
       "        I    10.0   0.27629298 ... -0.6970972281148767 Irregular\n",
       "        I    10.0  -0.46093315 ... -0.6978794573003002 Irregular\n",
       "        I    10.0   -0.0907132 ... -0.6988806677300716 Irregular\n",
       "        I    10.0   -1.7944632 ... -0.6985968522865695 Irregular\n",
       "        I    10.0  -0.05268532 ... -0.6988789186231075 Irregular\n",
       "        I    10.0   -1.3177159 ... -0.6982584516437945 Irregular\n",
       "        I    10.0  -0.03812909 ...  -0.698816177778857 Irregular\n",
       "        I    10.0     0.114162 ...  -0.697986929792751 Irregular\n",
       "        I    10.0  0.027377859 ... -0.6988043236271184 Irregular"
      ]
     },
     "execution_count": 76,
     "metadata": {},
     "output_type": "execute_result"
    }
   ],
   "source": [
    "# Get equal samples for all general types of galaxies.\n",
    "sample_elliptical = Data[Data['TYPE'] == 'Elliptic'][:2042]\n",
    "sample_lenticular = Data[Data['TYPE'] == 'Len'][:2042]\n",
    "sample_spirals = Data[Data['TYPE'] == 'Spirals'][:2042]\n",
    "sample_irregular = Data[Data['TYPE'] == 'Irregular']\n",
    "new_data = vstack([sample_elliptical, sample_lenticular, sample_spirals, sample_irregular])\n",
    "new_data"
   ]
  },
  {
   "cell_type": "code",
   "execution_count": 77,
   "id": "6da74c62-eead-43b2-a1ce-405dfcc9a23a",
   "metadata": {
    "tags": []
   },
   "outputs": [
    {
     "name": "stdout",
     "output_type": "stream",
     "text": [
      "   TYPE  \n",
      "---------\n",
      " Elliptic\n",
      "Irregular\n",
      "      Len\n",
      "  Spirals [2042 2042 2042 2042]\n"
     ]
    }
   ],
   "source": [
    "unique, counts = np.unique(new_data['TYPE'], return_counts = True)\n",
    "print(unique, counts)"
   ]
  },
  {
   "cell_type": "code",
   "execution_count": 78,
   "id": "32893150-065b-4046-90a7-f1d2d80f5abc",
   "metadata": {
    "tags": []
   },
   "outputs": [
    {
     "name": "stdout",
     "output_type": "stream",
     "text": [
      "138856 8168\n"
     ]
    }
   ],
   "source": [
    "# Determine the correct shapes of the array\n",
    "# preparing the input features (X) and target labels (y) for the ML model\n",
    "N = len(new_data)\n",
    "X = np.zeros((N,17)) \n",
    "\n",
    "# Basically copying columns to associate later\n",
    "X[:,0]= new_data['GRADIENT_G-Z']\n",
    "X[:,1]= new_data['GRADIENT_G-R']\n",
    "X[:,2]= new_data['GRADIENT_R-Z']\n",
    "X[:,3]= new_data['C_INDEX_R_r50_r90']\n",
    "X[:,4]= new_data['COLOR G-Z']\n",
    "X[:,5]= new_data['COLOR G-R']\n",
    "X[:,6]= new_data['COLOR R-Z']\n",
    "X[:,7]= new_data['GINI_G']\n",
    "X[:,8]= new_data['GINI_R']\n",
    "X[:,9]= new_data['GINI_Z']\n",
    "X[:,10]= new_data['BA']\n",
    "X[:,11]= new_data['Asymmetry_G']\n",
    "X[:,12]= new_data['Asymmetry_R']\n",
    "X[:,13]= new_data['Asymmetry_Z']\n",
    "X[:,14]= new_data['M20_G']\n",
    "X[:,15]= new_data['M20_R']\n",
    "X[:,16]= new_data['M20_Z']\n",
    "\n",
    "\n",
    "# Target data array\n",
    "y = np.array(new_data['TYPE'])\n",
    "print(X.size, y.size)"
   ]
  },
  {
   "cell_type": "code",
   "execution_count": 79,
   "id": "9bc789cd-519c-403b-8187-121848a34794",
   "metadata": {
    "tags": []
   },
   "outputs": [
    {
     "data": {
      "text/plain": [
       "((5717, 17), (2451, 17))"
      ]
     },
     "execution_count": 79,
     "metadata": {},
     "output_type": "execute_result"
    }
   ],
   "source": [
    "# Train and test data samples\n",
    "# 30% of the data will be used for testing, and the remaining 70% will be used for training.\n",
    "X_train, X_test, y_train, y_test = train_test_split(X, y, test_size=0.3, random_state=42)\n",
    "\n",
    "X_train.shape, X_test.shape"
   ]
  },
  {
   "cell_type": "code",
   "execution_count": 80,
   "id": "2d9906bd-caf2-40e9-9a8e-8ac9d1167cb1",
   "metadata": {
    "tags": []
   },
   "outputs": [
    {
     "data": {
      "text/plain": [
       "((5717,), (2451,))"
      ]
     },
     "execution_count": 80,
     "metadata": {},
     "output_type": "execute_result"
    }
   ],
   "source": [
    "y_train.shape, y_test.shape"
   ]
  },
  {
   "cell_type": "code",
   "execution_count": 81,
   "id": "f203288d-c871-46bf-b3c1-2fda82a4761d",
   "metadata": {
    "tags": []
   },
   "outputs": [
    {
     "name": "stdout",
     "output_type": "stream",
     "text": [
      "Data type of y_train: <U9\n",
      "Data type of y_test: <U9\n"
     ]
    }
   ],
   "source": [
    "print(\"Data type of y_train:\", y_train.dtype)\n",
    "print(\"Data type of y_test:\", y_test.dtype)"
   ]
  },
  {
   "cell_type": "code",
   "execution_count": 82,
   "id": "ef7684cd-00e3-45c8-b533-380d53665709",
   "metadata": {
    "tags": []
   },
   "outputs": [
    {
     "name": "stdout",
     "output_type": "stream",
     "text": [
      "Number of samples in X_test: 2451\n",
      "Number of samples in y_test: 2451\n",
      "Number of samples in X_train: 5717\n",
      "Number of samples in y_train: 5717\n"
     ]
    }
   ],
   "source": [
    "print(\"Number of samples in X_test:\", len(X_test))\n",
    "print(\"Number of samples in y_test:\", len(y_test))\n",
    "print(\"Number of samples in X_train:\", len(y_train))\n",
    "print(\"Number of samples in y_train:\", len(y_train))"
   ]
  },
  {
   "cell_type": "code",
   "execution_count": 83,
   "id": "c48cb5d6-a07d-490c-8d99-cc24b3a5d4bf",
   "metadata": {
    "tags": []
   },
   "outputs": [
    {
     "name": "stdout",
     "output_type": "stream",
     "text": [
      "Missing values in X_train: 0\n"
     ]
    }
   ],
   "source": [
    "# Check for missing values in X_train\n",
    "print(\"Missing values in X_train:\", np.isnan(X_train).sum())"
   ]
  },
  {
   "cell_type": "code",
   "execution_count": 84,
   "id": "55eb7396-3031-4d65-83bd-2fe07b9f9cee",
   "metadata": {
    "tags": []
   },
   "outputs": [
    {
     "name": "stdout",
     "output_type": "stream",
     "text": [
      "Model accuracy score with 100 decision trees : 0.7438\n",
      "Correctly classified points = 1823\n"
     ]
    }
   ],
   "source": [
    "# create random forest\n",
    "random_forest_100 = RandomForestClassifier(n_estimators=100, random_state=42)\n",
    "\n",
    "# fit the model to the training set\n",
    "classification_fit = random_forest_100.fit(X_train, y_train)\n",
    "\n",
    "# predict on the test set results\n",
    "y_pred = random_forest_100.predict(X_test)\n",
    "\n",
    "# check accuracy score \n",
    "print('Model accuracy score with 100 decision trees : {0:0.4f}'. format(accuracy_score(y_test, y_pred)))\n",
    "accuracy = accuracy_score(y_test, y_pred,normalize=False)\n",
    "print('Correctly classified points =', accuracy)"
   ]
  },
  {
   "cell_type": "code",
   "execution_count": 85,
   "id": "a70ce13f-cebc-4b45-a128-d9ab62b7fc23",
   "metadata": {
    "tags": []
   },
   "outputs": [
    {
     "name": "stdout",
     "output_type": "stream",
     "text": [
      "Classification Report:\n",
      "              precision    recall  f1-score   support\n",
      "\n",
      "    Elliptic       0.76      0.64      0.70       649\n",
      "   Irregular       0.83      0.82      0.83       583\n",
      "         Len       0.63      0.69      0.66       576\n",
      "     Spirals       0.77      0.82      0.79       643\n",
      "\n",
      "    accuracy                           0.74      2451\n",
      "   macro avg       0.75      0.74      0.74      2451\n",
      "weighted avg       0.75      0.74      0.74      2451\n",
      "\n"
     ]
    }
   ],
   "source": [
    "# Evaluate the classifier\n",
    "class_report = classification_report(y_test, y_pred)\n",
    "print(\"Classification Report:\")\n",
    "print(class_report)"
   ]
  },
  {
   "cell_type": "code",
   "execution_count": 86,
   "id": "8b0203b8-5540-49a7-b803-e14d4c79a86d",
   "metadata": {
    "tags": []
   },
   "outputs": [
    {
     "data": {
      "text/plain": [
       "array([0.04202691, 0.06570651, 0.03991158, 0.10777757, 0.09132967,\n",
       "       0.12925151, 0.07840593, 0.03737931, 0.04843396, 0.06283863,\n",
       "       0.06788113, 0.03114749, 0.03393856, 0.06428446, 0.03128022,\n",
       "       0.03386004, 0.03454653])"
      ]
     },
     "execution_count": 86,
     "metadata": {},
     "output_type": "execute_result"
    }
   ],
   "source": [
    "feature_scores = random_forest_100.feature_importances_\n",
    "feature_scores"
   ]
  },
  {
   "cell_type": "code",
   "execution_count": 87,
   "id": "6427a75f-b935-4807-b8e8-06666cb09b7d",
   "metadata": {
    "tags": []
   },
   "outputs": [
    {
     "data": {
      "text/html": [
       "<div>\n",
       "<style scoped>\n",
       "    .dataframe tbody tr th:only-of-type {\n",
       "        vertical-align: middle;\n",
       "    }\n",
       "\n",
       "    .dataframe tbody tr th {\n",
       "        vertical-align: top;\n",
       "    }\n",
       "\n",
       "    .dataframe thead th {\n",
       "        text-align: right;\n",
       "    }\n",
       "</style>\n",
       "<table border=\"1\" class=\"dataframe\">\n",
       "  <thead>\n",
       "    <tr style=\"text-align: right;\">\n",
       "      <th></th>\n",
       "      <th>Parameters</th>\n",
       "      <th>Feature_Scores</th>\n",
       "    </tr>\n",
       "  </thead>\n",
       "  <tbody>\n",
       "    <tr>\n",
       "      <th>6</th>\n",
       "      <td>COLOR G-R</td>\n",
       "      <td>0.12925151157912085</td>\n",
       "    </tr>\n",
       "    <tr>\n",
       "      <th>4</th>\n",
       "      <td>C_INDEX_R_r50_r90</td>\n",
       "      <td>0.10777756521501307</td>\n",
       "    </tr>\n",
       "    <tr>\n",
       "      <th>5</th>\n",
       "      <td>COLOR G-Z</td>\n",
       "      <td>0.09132966519916287</td>\n",
       "    </tr>\n",
       "    <tr>\n",
       "      <th>7</th>\n",
       "      <td>COLOR R-Z</td>\n",
       "      <td>0.07840592901377276</td>\n",
       "    </tr>\n",
       "    <tr>\n",
       "      <th>11</th>\n",
       "      <td>BA</td>\n",
       "      <td>0.06788113240414213</td>\n",
       "    </tr>\n",
       "    <tr>\n",
       "      <th>2</th>\n",
       "      <td>Gradient_G-R</td>\n",
       "      <td>0.06570651303097774</td>\n",
       "    </tr>\n",
       "    <tr>\n",
       "      <th>14</th>\n",
       "      <td>ASYMMETRY_Z</td>\n",
       "      <td>0.06428446269734389</td>\n",
       "    </tr>\n",
       "    <tr>\n",
       "      <th>10</th>\n",
       "      <td>GINI_Z</td>\n",
       "      <td>0.06283863325545541</td>\n",
       "    </tr>\n",
       "    <tr>\n",
       "      <th>9</th>\n",
       "      <td>GINI_R</td>\n",
       "      <td>0.0484339590739639</td>\n",
       "    </tr>\n",
       "    <tr>\n",
       "      <th>1</th>\n",
       "      <td>Gradient_G-Z</td>\n",
       "      <td>0.04202690556661081</td>\n",
       "    </tr>\n",
       "    <tr>\n",
       "      <th>3</th>\n",
       "      <td>Gradient_R_Z</td>\n",
       "      <td>0.039911575305573016</td>\n",
       "    </tr>\n",
       "    <tr>\n",
       "      <th>8</th>\n",
       "      <td>GINI_G</td>\n",
       "      <td>0.037379313956450076</td>\n",
       "    </tr>\n",
       "    <tr>\n",
       "      <th>17</th>\n",
       "      <td>M20_Z</td>\n",
       "      <td>0.03454652976867834</td>\n",
       "    </tr>\n",
       "    <tr>\n",
       "      <th>13</th>\n",
       "      <td>ASYMMETRY_R</td>\n",
       "      <td>0.033938561193914724</td>\n",
       "    </tr>\n",
       "    <tr>\n",
       "      <th>16</th>\n",
       "      <td>M20_R</td>\n",
       "      <td>0.03386003656705975</td>\n",
       "    </tr>\n",
       "    <tr>\n",
       "      <th>15</th>\n",
       "      <td>M20_G</td>\n",
       "      <td>0.031280217764611255</td>\n",
       "    </tr>\n",
       "    <tr>\n",
       "      <th>12</th>\n",
       "      <td>ASYMMETRY_G</td>\n",
       "      <td>0.031147488408149446</td>\n",
       "    </tr>\n",
       "  </tbody>\n",
       "</table>\n",
       "</div>"
      ],
      "text/plain": [
       "           Parameters        Feature_Scores\n",
       "6           COLOR G-R   0.12925151157912085\n",
       "4   C_INDEX_R_r50_r90   0.10777756521501307\n",
       "5           COLOR G-Z   0.09132966519916287\n",
       "7           COLOR R-Z   0.07840592901377276\n",
       "11                 BA   0.06788113240414213\n",
       "2        Gradient_G-R   0.06570651303097774\n",
       "14        ASYMMETRY_Z   0.06428446269734389\n",
       "10             GINI_Z   0.06283863325545541\n",
       "9              GINI_R    0.0484339590739639\n",
       "1        Gradient_G-Z   0.04202690556661081\n",
       "3        Gradient_R_Z  0.039911575305573016\n",
       "8              GINI_G  0.037379313956450076\n",
       "17              M20_Z   0.03454652976867834\n",
       "13        ASYMMETRY_R  0.033938561193914724\n",
       "16              M20_R   0.03386003656705975\n",
       "15              M20_G  0.031280217764611255\n",
       "12        ASYMMETRY_G  0.031147488408149446"
      ]
     },
     "execution_count": 87,
     "metadata": {},
     "output_type": "execute_result"
    }
   ],
   "source": [
    "# represent the relative importance of each feature in making predictions\n",
    "feature_scores = random_forest_100.feature_importances_\n",
    "\n",
    "array = np.array([['Gradient_G-Z', feature_scores[0]], ['Gradient_G-R',  feature_scores[1]], \n",
    "                  ['Gradient_R_Z', feature_scores[2]], ['C_INDEX_R_r50_r90', feature_scores[3]],  \n",
    "                  ['COLOR G-Z', feature_scores[4]], ['COLOR G-R', feature_scores[5]], ['COLOR R-Z', feature_scores[6]],\n",
    "                ['GINI_G', feature_scores[7]], ['GINI_R', feature_scores[8]], ['GINI_Z', feature_scores[9]], ['BA', feature_scores[10]], \n",
    "                  ['ASYMMETRY_G', feature_scores[11]], ['ASYMMETRY_R', feature_scores[12]], ['ASYMMETRY_Z', feature_scores[13]],\n",
    "                 ['M20_G', feature_scores[14]], ['M20_R', feature_scores[15]], ['M20_Z', feature_scores[16]]]) \n",
    "\n",
    "column_values = ['Parameters', 'Feature_Scores'] \n",
    "\n",
    "index_values = [1, 2, 3, 4, 5, 6, 7, 8, 9, 10, 11, 12, 13, 14, 15, 16, 17] \n",
    "\n",
    "Feature_scores = pd.DataFrame(data = array,  \n",
    "                  index = index_values,  \n",
    "                  columns = column_values) \n",
    "\n",
    "# displaying the dataframe\n",
    "Feature_scores.sort_values(by=['Feature_Scores'], ascending=False)"
   ]
  },
  {
   "cell_type": "code",
   "execution_count": 88,
   "id": "bada1c5f-42d5-4396-b179-b3de30298766",
   "metadata": {
    "tags": []
   },
   "outputs": [
    {
     "name": "stdout",
     "output_type": "stream",
     "text": [
      "Confusion matrix\n",
      "\n",
      " [[418  32 163  36]\n",
      " [  5 477  25  76]\n",
      " [121   5 400  50]\n",
      " [  9  59  47 528]]\n"
     ]
    }
   ],
   "source": [
    "cm = confusion_matrix(y_test, y_pred)\n",
    "\n",
    "print('Confusion matrix\\n\\n', cm)"
   ]
  },
  {
   "cell_type": "code",
   "execution_count": 89,
   "id": "13d57197-8439-49fc-ab98-4f7d0fa0d030",
   "metadata": {
    "tags": []
   },
   "outputs": [
    {
     "data": {
      "image/png": "[encoded data removed]",
      "text/plain": [
       "<Figure size 640x480 with 2 Axes>"
      ]
     },
     "metadata": {},
     "output_type": "display_data"
    }
   ],
   "source": [
    "# Visualizing confusion matrix\n",
    "sns.heatmap(cm, annot=True, fmt=\"d\")\n",
    "\n",
    "plt.xlabel('Predicted')\n",
    "plt.ylabel('Real')\n",
    "plt.title('Confusion Matrix')\n",
    "plt.xticks(np.arange(len(np.unique(y))), np.unique(y))\n",
    "plt.yticks(np.arange(len(np.unique(y))), np.unique(y))\n",
    "\n",
    "plt.show()"
   ]
  },
  {
   "cell_type": "code",
   "execution_count": 90,
   "id": "01ce3685-4d45-4a4f-a9c4-ff5bc95f6bc8",
   "metadata": {
    "tags": []
   },
   "outputs": [
    {
     "data": {
      "text/plain": [
       "array([[0.6440678 , 0.04930663, 0.25115562, 0.05546995],\n",
       "       [0.00857633, 0.81818182, 0.04288165, 0.13036021],\n",
       "       [0.21006944, 0.00868056, 0.69444444, 0.08680556],\n",
       "       [0.01399689, 0.09175739, 0.07309487, 0.82115086]])"
      ]
     },
     "execution_count": 90,
     "metadata": {},
     "output_type": "execute_result"
    }
   ],
   "source": [
    "# normalizing the confusion matrix\n",
    "cm = cm.astype('float') / cm.sum(axis=1)[:, np.newaxis]\n",
    "poisson = np.sqrt(cm.astype('float')) / cm.sum(axis=1)[:, np.newaxis]\n",
    "cm"
   ]
  },
  {
   "cell_type": "code",
   "execution_count": 91,
   "id": "e9b92262-71b8-4a17-b33f-a758cad4358e",
   "metadata": {
    "tags": []
   },
   "outputs": [
    {
     "data": {
      "image/png": "[encoded data removed]",
      "text/plain": [
       "<Figure size 640x480 with 2 Axes>"
      ]
     },
     "metadata": {},
     "output_type": "display_data"
    }
   ],
   "source": [
    "# Get and reshape confusion matrix data\n",
    "cm = cm.astype('float') / cm.sum(axis=1)[:, np.newaxis]\n",
    "#poisson = np.sqrt(cm.astype('float')) / cm.sum(axis=1)[:, np.newaxis]\n",
    "\n",
    "# Build the plot\n",
    "sns.set(font_scale=1.0)\n",
    "sns.heatmap(cm, annot=True, annot_kws={'size':10}, linewidths=0.2, cmap = 'Blues')\n",
    "\n",
    "# Add labels to the plot\n",
    "class_names = ['Elliptic', 'Irregular', 'Len', 'Spirals']\n",
    "tick_marks = np.arange(len(class_names))\n",
    "tick_marks2 = tick_marks + 0.5\n",
    "plt.xticks(tick_marks + 0.5, class_names, rotation=0)\n",
    "plt.yticks(tick_marks2, class_names, rotation=0)\n",
    "plt.xlabel('Predicted')\n",
    "plt.ylabel('True')\n",
    "plt.title('Confusion Matrix for RF Model w/M20 Parameters')\n",
    "plt.show()"
   ]
  },
  {
   "cell_type": "code",
   "execution_count": null,
   "id": "9f3cd439-67ec-4c1a-b89b-4d1ab1efb8eb",
   "metadata": {},
   "outputs": [],
   "source": []
  }
 ],
 "metadata": {
  "kernelspec": {
   "display_name": "NERSC Python",
   "language": "python",
   "name": "python3"
  },
  "language_info": {
   "codemirror_mode": {
    "name": "ipython",
    "version": 3
   },
   "file_extension": ".py",
   "mimetype": "text/x-python",
   "name": "python",
   "nbconvert_exporter": "python",
   "pygments_lexer": "ipython3",
   "version": "3.11.7"
  }
 },
 "nbformat": 4,
 "nbformat_minor": 5
}
