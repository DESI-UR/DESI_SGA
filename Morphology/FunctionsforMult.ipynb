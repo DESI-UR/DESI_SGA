{
 "cells": [
  {
   "cell_type": "code",
   "execution_count": 1,
   "id": "b81c3540-2469-478b-9040-2b6e0c4ee6b1",
   "metadata": {
    "tags": []
   },
   "outputs": [],
   "source": [
    "import numpy as np\n",
    "import numpy.ma as ma\n",
    "from numpy import arange,array,ones,linalg\n",
    "\n",
    "from mpl_toolkits import mplot3d\n",
    "\n",
    "import pandas as pd\n",
    "\n",
    "import matplotlib.pyplot as plt\n",
    "plt.rcParams[\"text.usetex\"] = False\n",
    "from matplotlib import cm, colors\n",
    "from matplotlib.patches import Ellipse\n",
    "import matplotlib as mpl\n",
    "\n",
    "from scipy.optimize import minimize\n",
    "from scipy import ndimage\n",
    "from scipy.ndimage import zoom, gaussian_filter1d\n",
    "from scipy import stats\n",
    "\n",
    "from astropy.io import fits\n",
    "from astropy.table import Table\n",
    "from astropy.coordinates import SkyCoord\n",
    "from astropy import units as u\n",
    "from astropy.wcs import WCS\n",
    "from astropy.utils.data import get_pkg_data_filename\n",
    "from astropy.visualization.wcsaxes import SphericalCircle\n",
    "from astropy.nddata import bitmask\n",
    "from astropy.nddata.bitmask import BitFlagNameMap\n",
    "\n",
    "import math\n",
    "\n",
    "from tqdm import tqdm\n",
    "\n",
    "import copy\n",
    "\n",
    "import os\n",
    "\n",
    "from Cythonformult import potentialenergycalc\n",
    "\n",
    "from sympy.interactive import printing\n",
    "printing.init_printing(use_latex = True)\n",
    "\n",
    "import warnings"
   ]
  },
  {
   "cell_type": "code",
   "execution_count": 2,
   "id": "fcc83778-c4ee-45c1-aca1-e22a31bd0d41",
   "metadata": {
    "tags": []
   },
   "outputs": [
    {
     "name": "stdout",
     "output_type": "stream",
     "text": [
      "/global/u1/k/kadglass/DESI_SGA/Morphology\n"
     ]
    }
   ],
   "source": [
    "current_directory = os.getcwd()\n",
    "print(current_directory)"
   ]
  },
  {
   "cell_type": "code",
   "execution_count": 3,
   "id": "c95666d3-fee3-4355-b627-029248588d2d",
   "metadata": {
    "tags": []
   },
   "outputs": [
    {
     "data": {
      "text/html": [
       "<div><i>Table length=5</i>\n",
       "<table id=\"table140569421246192\" class=\"table-striped table-bordered table-condensed\">\n",
       "<thead><tr><th>SGA_ID</th><th>SGA_GALAXY</th><th>GALAXY</th><th>PGC</th><th>RA_LEDA</th><th>DEC_LEDA</th><th>MORPHTYPE</th><th>PA_LEDA</th><th>D25_LEDA</th><th>BA_LEDA</th><th>Z_LEDA</th><th>SB_D25_LEDA</th><th>MAG_LEDA</th><th>BYHAND</th><th>REF</th><th>GROUP_ID</th><th>GROUP_NAME</th><th>GROUP_MULT</th><th>GROUP_PRIMARY</th><th>GROUP_RA</th><th>GROUP_DEC</th><th>GROUP_DIAMETER</th><th>BRICKNAME</th><th>RA</th><th>DEC</th><th>D26</th><th>D26_REF</th><th>PA</th><th>BA</th><th>RA_MOMENT</th><th>DEC_MOMENT</th><th>SMA_MOMENT</th><th>G_SMA50</th><th>R_SMA50</th><th>Z_SMA50</th><th>SMA_SB22</th><th>SMA_SB22.5</th><th>SMA_SB23</th><th>SMA_SB23.5</th><th>SMA_SB24</th><th>SMA_SB24.5</th><th>SMA_SB25</th><th>SMA_SB25.5</th><th>SMA_SB26</th><th>G_MAG_SB22</th><th>R_MAG_SB22</th><th>Z_MAG_SB22</th><th>G_MAG_SB22.5</th><th>R_MAG_SB22.5</th><th>Z_MAG_SB22.5</th><th>G_MAG_SB23</th><th>R_MAG_SB23</th><th>Z_MAG_SB23</th><th>G_MAG_SB23.5</th><th>R_MAG_SB23.5</th><th>Z_MAG_SB23.5</th><th>G_MAG_SB24</th><th>R_MAG_SB24</th><th>Z_MAG_SB24</th><th>G_MAG_SB24.5</th><th>R_MAG_SB24.5</th><th>Z_MAG_SB24.5</th><th>G_MAG_SB25</th><th>R_MAG_SB25</th><th>Z_MAG_SB25</th><th>G_MAG_SB25.5</th><th>R_MAG_SB25.5</th><th>Z_MAG_SB25.5</th><th>G_MAG_SB26</th><th>R_MAG_SB26</th><th>Z_MAG_SB26</th><th>SMA_SB22_ERR</th><th>SMA_SB22.5_ERR</th><th>SMA_SB23_ERR</th><th>SMA_SB23.5_ERR</th><th>SMA_SB24_ERR</th><th>SMA_SB24.5_ERR</th><th>SMA_SB25_ERR</th><th>SMA_SB25.5_ERR</th><th>SMA_SB26_ERR</th><th>G_MAG_SB22_ERR</th><th>R_MAG_SB22_ERR</th><th>Z_MAG_SB22_ERR</th><th>G_MAG_SB22.5_ERR</th><th>R_MAG_SB22.5_ERR</th><th>Z_MAG_SB22.5_ERR</th><th>G_MAG_SB23_ERR</th><th>R_MAG_SB23_ERR</th><th>Z_MAG_SB23_ERR</th><th>G_MAG_SB23.5_ERR</th><th>R_MAG_SB23.5_ERR</th><th>Z_MAG_SB23.5_ERR</th><th>G_MAG_SB24_ERR</th><th>R_MAG_SB24_ERR</th><th>Z_MAG_SB24_ERR</th><th>G_MAG_SB24.5_ERR</th><th>R_MAG_SB24.5_ERR</th><th>Z_MAG_SB24.5_ERR</th><th>G_MAG_SB25_ERR</th><th>R_MAG_SB25_ERR</th><th>Z_MAG_SB25_ERR</th><th>G_MAG_SB25.5_ERR</th><th>R_MAG_SB25.5_ERR</th><th>Z_MAG_SB25.5_ERR</th><th>G_MAG_SB26_ERR</th><th>R_MAG_SB26_ERR</th><th>Z_MAG_SB26_ERR</th><th>G_COG_PARAMS_MTOT</th><th>G_COG_PARAMS_M0</th><th>G_COG_PARAMS_ALPHA1</th><th>G_COG_PARAMS_ALPHA2</th><th>G_COG_PARAMS_CHI2</th><th>R_COG_PARAMS_MTOT</th><th>R_COG_PARAMS_M0</th><th>R_COG_PARAMS_ALPHA1</th><th>R_COG_PARAMS_ALPHA2</th><th>R_COG_PARAMS_CHI2</th><th>Z_COG_PARAMS_MTOT</th><th>Z_COG_PARAMS_M0</th><th>Z_COG_PARAMS_ALPHA1</th><th>Z_COG_PARAMS_ALPHA2</th><th>Z_COG_PARAMS_CHI2</th><th>ELLIPSEBIT</th></tr></thead>\n",
       "<thead><tr><th>int64</th><th>bytes16</th><th>bytes29</th><th>int64</th><th>float64</th><th>float64</th><th>bytes21</th><th>float32</th><th>float32</th><th>float32</th><th>float32</th><th>float32</th><th>float32</th><th>bool</th><th>bytes13</th><th>int64</th><th>bytes35</th><th>int16</th><th>bool</th><th>float64</th><th>float64</th><th>float32</th><th>bytes8</th><th>float64</th><th>float64</th><th>float32</th><th>bytes4</th><th>float32</th><th>float32</th><th>float64</th><th>float64</th><th>float32</th><th>float32</th><th>float32</th><th>float32</th><th>float32</th><th>float32</th><th>float32</th><th>float32</th><th>float32</th><th>float32</th><th>float32</th><th>float32</th><th>float32</th><th>float32</th><th>float32</th><th>float32</th><th>float32</th><th>float32</th><th>float32</th><th>float32</th><th>float32</th><th>float32</th><th>float32</th><th>float32</th><th>float32</th><th>float32</th><th>float32</th><th>float32</th><th>float32</th><th>float32</th><th>float32</th><th>float32</th><th>float32</th><th>float32</th><th>float32</th><th>float32</th><th>float32</th><th>float32</th><th>float32</th><th>float32</th><th>float32</th><th>float32</th><th>float32</th><th>float32</th><th>float32</th><th>float32</th><th>float32</th><th>float32</th><th>float32</th><th>float32</th><th>float32</th><th>float32</th><th>float32</th><th>float32</th><th>float32</th><th>float32</th><th>float32</th><th>float32</th><th>float32</th><th>float32</th><th>float32</th><th>float32</th><th>float32</th><th>float32</th><th>float32</th><th>float32</th><th>float32</th><th>float32</th><th>float32</th><th>float32</th><th>float32</th><th>float32</th><th>float32</th><th>float32</th><th>float32</th><th>float32</th><th>float32</th><th>float32</th><th>float32</th><th>float32</th><th>float32</th><th>float32</th><th>float32</th><th>float32</th><th>float32</th><th>float32</th><th>float32</th><th>float32</th><th>float32</th><th>float32</th><th>float32</th><th>int32</th></tr></thead>\n",
       "<tr><td>2</td><td>SGA-2020 2</td><td>PGC1283207</td><td>1283207</td><td>228.3770865</td><td>5.4232017</td><td>S?</td><td>152.2</td><td>0.36307806</td><td>0.724436</td><td>0.03463229</td><td>23.40448</td><td>16.976</td><td>False</td><td>LEDA-20181114</td><td>0</td><td>PGC1283207</td><td>1</td><td>True</td><td>228.3770865</td><td>5.4232017</td><td>0.36307806</td><td>2283p055</td><td>228.3770803831908</td><td>5.423191398593787</td><td>0.49470574</td><td>SB26</td><td>158.20142</td><td>0.545691</td><td>228.37700918822188</td><td>5.4232652570544015</td><td>10.897086</td><td>3.3509698</td><td>3.1147978</td><td>3.240862</td><td>5.902337</td><td>6.9126143</td><td>7.941369</td><td>8.997992</td><td>10.073601</td><td>11.199986</td><td>12.391357</td><td>13.561038</td><td>14.841172</td><td>16.966799</td><td>16.108246</td><td>15.486356</td><td>16.879545</td><td>16.024958</td><td>15.400715</td><td>16.818878</td><td>15.967034</td><td>15.341793</td><td>16.776297</td><td>15.925804</td><td>15.300776</td><td>16.746685</td><td>15.897334</td><td>15.272053</td><td>16.725166</td><td>15.876816</td><td>15.2521105</td><td>16.708357</td><td>15.862035</td><td>15.237181</td><td>16.696539</td><td>15.851936</td><td>15.226998</td><td>16.689613</td><td>15.844313</td><td>15.21976</td><td>0.013392451</td><td>0.02354</td><td>0.021872982</td><td>0.01736985</td><td>0.024445537</td><td>0.039866067</td><td>0.05026544</td><td>0.08455789</td><td>0.122911856</td><td>0.005682776</td><td>0.0054258136</td><td>0.0049038026</td><td>0.005588406</td><td>0.005323561</td><td>0.0047632363</td><td>0.00543534</td><td>0.005177031</td><td>0.0046343105</td><td>0.0053025587</td><td>0.005040888</td><td>0.0045181247</td><td>0.005206092</td><td>0.0049438984</td><td>0.0044374703</td><td>0.0051483097</td><td>0.0048758644</td><td>0.0043834248</td><td>0.0051032505</td><td>0.0048264163</td><td>0.004344248</td><td>0.0050705094</td><td>0.004792021</td><td>0.004319857</td><td>0.005054293</td><td>0.004765629</td><td>0.0043044444</td><td>16.65942</td><td>0.34037337</td><td>0.2978292</td><td>3.0239506</td><td>0.07928849</td><td>15.820566</td><td>0.2640441</td><td>0.34559453</td><td>3.3033552</td><td>0.003811298</td><td>15.195567</td><td>0.29826432</td><td>0.3001073</td><td>3.2333765</td><td>0.011723555</td><td>0</td></tr>\n",
       "<tr><td>3</td><td>SGA-2020 3</td><td>PGC1310416</td><td>1310416</td><td>202.54443750000002</td><td>6.9345944</td><td>Sc</td><td>159.26</td><td>0.4017908</td><td>0.7816278</td><td>0.073888786</td><td>23.498482</td><td>16.85</td><td>False</td><td>LEDA-20181114</td><td>1</td><td>PGC1310416</td><td>1</td><td>True</td><td>202.54443750000002</td><td>6.9345944</td><td>0.4017908</td><td>2025p070</td><td>202.5444619671207</td><td>6.9346244322326624</td><td>0.55350494</td><td>SB26</td><td>161.5937</td><td>0.7291764</td><td>202.54432739596137</td><td>6.934806737209989</td><td>15.746941</td><td>5.6416235</td><td>5.2647552</td><td>5.0895185</td><td>5.9838247</td><td>7.4356494</td><td>8.728868</td><td>10.087478</td><td>11.529764</td><td>12.818195</td><td>14.115497</td><td>15.319822</td><td>16.605148</td><td>16.963299</td><td>16.307854</td><td>15.806882</td><td>16.729511</td><td>16.097378</td><td>15.615527</td><td>16.606344</td><td>15.990707</td><td>15.518403</td><td>16.525967</td><td>15.917321</td><td>15.450624</td><td>16.462585</td><td>15.859485</td><td>15.397182</td><td>16.419558</td><td>15.820947</td><td>15.36243</td><td>16.390558</td><td>15.796369</td><td>15.338905</td><td>16.376112</td><td>15.782492</td><td>15.323709</td><td>16.364115</td><td>15.773462</td><td>15.313725</td><td>0.036992554</td><td>0.034982767</td><td>0.037769336</td><td>0.049429573</td><td>0.052699674</td><td>0.074114166</td><td>0.07914538</td><td>0.09781406</td><td>0.15534972</td><td>0.016095797</td><td>0.019181909</td><td>0.021539452</td><td>0.013955905</td><td>0.016594552</td><td>0.018640138</td><td>0.012786752</td><td>0.015244632</td><td>0.01715491</td><td>0.011973826</td><td>0.014366956</td><td>0.016208366</td><td>0.011358372</td><td>0.013676575</td><td>0.015474222</td><td>0.010944939</td><td>0.013225297</td><td>0.015011175</td><td>0.010691595</td><td>0.012931233</td><td>0.014687982</td><td>0.010546411</td><td>0.012796015</td><td>0.014518412</td><td>0.010457551</td><td>0.012685407</td><td>0.014379212</td><td>16.284733</td><td>1.0914493</td><td>0.24674739</td><td>2.4320207</td><td>0.68685365</td><td>15.704403</td><td>0.8764323</td><td>0.27360612</td><td>2.4995425</td><td>0.49343896</td><td>15.235263</td><td>1.3098688</td><td>0.17866786</td><td>2.1750498</td><td>0.20391206</td><td>0</td></tr>\n",
       "<tr><td>4</td><td>SGA-2020 4</td><td>SDSSJ145059.93+135143.0</td><td>4435547</td><td>222.749787</td><td>13.8619111</td><td>S?</td><td>44.57</td><td>0.33342642</td><td>0.6637431</td><td>0.07567602</td><td>24.457481</td><td>18.214</td><td>False</td><td>LEDA-20181114</td><td>2</td><td>SDSSJ145059.93+135143.0</td><td>1</td><td>True</td><td>222.749787</td><td>13.8619111</td><td>0.33342642</td><td>2228p137</td><td>222.7497050504303</td><td>13.861929561160224</td><td>0.37067476</td><td>SB26</td><td>45.28537</td><td>0.70922077</td><td>222.749650475464</td><td>13.862052070022896</td><td>8.877115</td><td>4.652771</td><td>4.4837785</td><td>4.4959745</td><td>2.01033</td><td>3.3967943</td><td>4.76257</td><td>6.043787</td><td>7.242806</td><td>8.250407</td><td>9.158723</td><td>10.083457</td><td>11.120243</td><td>19.97595</td><td>19.190666</td><td>18.649523</td><td>19.098536</td><td>18.397219</td><td>17.899643</td><td>18.624952</td><td>17.967802</td><td>17.50231</td><td>18.35278</td><td>17.718002</td><td>17.265854</td><td>18.192762</td><td>17.5654</td><td>17.115404</td><td>18.10496</td><td>17.480022</td><td>17.033989</td><td>18.053415</td><td>17.430794</td><td>16.982971</td><td>18.020155</td><td>17.399996</td><td>16.948252</td><td>17.994783</td><td>17.377092</td><td>16.924469</td><td>0.02113719</td><td>0.03639431</td><td>0.051901262</td><td>0.06539029</td><td>0.08552586</td><td>0.07008602</td><td>0.070394725</td><td>0.08394975</td><td>0.113649584</td><td>0.013428732</td><td>0.017600043</td><td>0.016373685</td><td>0.012251812</td><td>0.014566466</td><td>0.013732588</td><td>0.012644532</td><td>0.014030071</td><td>0.013153961</td><td>0.012747069</td><td>0.013512552</td><td>0.012818239</td><td>0.012865601</td><td>0.01324455</td><td>0.012532208</td><td>0.012762528</td><td>0.013058522</td><td>0.012420634</td><td>0.01252645</td><td>0.012827468</td><td>0.012283978</td><td>0.012320441</td><td>0.012607317</td><td>0.012104107</td><td>0.0121167945</td><td>0.01244376</td><td>0.011985352</td><td>17.896797</td><td>0.5557265</td><td>0.25455818</td><td>3.167909</td><td>1.0522435</td><td>17.28287</td><td>0.4885815</td><td>0.2782499</td><td>3.2144456</td><td>1.3733263</td><td>16.807674</td><td>0.5177045</td><td>0.32264626</td><td>2.900518</td><td>1.8054093</td><td>0</td></tr>\n",
       "<tr><td>7</td><td>SGA-2020 7</td><td>PGC1742504</td><td>1742504</td><td>182.0888085</td><td>25.6022764</td><td>Sbc</td><td>84.97</td><td>0.548277</td><td>0.25118864</td><td>0.10090814</td><td>24.91348</td><td>17.59</td><td>False</td><td>LEDA-20181114</td><td>3</td><td>PGC1742504</td><td>1</td><td>True</td><td>182.0888085</td><td>25.6022764</td><td>0.548277</td><td>1820p255</td><td>182.08882232629614</td><td>25.60226821438983</td><td>0.8883204</td><td>SB26</td><td>84.857475</td><td>0.19753796</td><td>182.08873760544392</td><td>25.602311195157757</td><td>19.779116</td><td>6.5958204</td><td>6.0386286</td><td>5.8089786</td><td>9.279068</td><td>10.949478</td><td>12.652142</td><td>14.446171</td><td>16.323679</td><td>18.392954</td><td>20.915508</td><td>23.566542</td><td>26.649612</td><td>17.390274</td><td>16.360935</td><td>15.531964</td><td>17.285898</td><td>16.262264</td><td>15.440768</td><td>17.2167</td><td>16.195492</td><td>15.380734</td><td>17.16217</td><td>16.144245</td><td>15.334935</td><td>17.130178</td><td>16.110302</td><td>15.304758</td><td>17.104496</td><td>16.084463</td><td>15.280803</td><td>17.081282</td><td>16.061373</td><td>15.2589855</td><td>17.063671</td><td>16.045204</td><td>15.243196</td><td>17.046705</td><td>16.031244</td><td>15.23268</td><td>0.04351465</td><td>0.055440858</td><td>0.052207235</td><td>0.07507412</td><td>0.0793679</td><td>0.10347854</td><td>0.13569456</td><td>0.13104819</td><td>0.17234002</td><td>0.03885276</td><td>0.03744209</td><td>0.03786608</td><td>0.035534665</td><td>0.03441038</td><td>0.03503794</td><td>0.033557214</td><td>0.032548346</td><td>0.033348277</td><td>0.031964395</td><td>0.03106612</td><td>0.031957533</td><td>0.031133845</td><td>0.030202182</td><td>0.031190341</td><td>0.030430589</td><td>0.029511228</td><td>0.030530946</td><td>0.02975241</td><td>0.028853998</td><td>0.029866546</td><td>0.02928568</td><td>0.0284345</td><td>0.029445464</td><td>0.028843498</td><td>0.028076617</td><td>0.029169334</td><td>16.995174</td><td>21.083004</td><td>0.0164273</td><td>1.9079465</td><td>0.029703742</td><td>15.991165</td><td>0.7657307</td><td>0.52285546</td><td>2.3045986</td><td>0.006013103</td><td>15.191324</td><td>1.0408205</td><td>0.32956335</td><td>2.1520333</td><td>0.004725194</td><td>0</td></tr>\n",
       "<tr><td>18</td><td>SGA-2020 18</td><td>2MASXJ12340801+4535444</td><td>3550748</td><td>188.5335525</td><td>45.5956434</td><td>E</td><td>168.65</td><td>0.53088444</td><td>0.6950243</td><td>0.07609531</td><td>23.97948</td><td>16.726</td><td>False</td><td>LEDA-20181114</td><td>4</td><td>2MASXJ12340801+4535444</td><td>1</td><td>True</td><td>188.5335525</td><td>45.5956434</td><td>0.53088444</td><td>1883p455</td><td>188.53364923054596</td><td>45.595620212931856</td><td>0.73435897</td><td>SB26</td><td>166.25127</td><td>0.70995796</td><td>188.53349052789085</td><td>45.59567446403057</td><td>15.694805</td><td>5.091253</td><td>4.670616</td><td>2.9429996</td><td>5.219665</td><td>6.6119533</td><td>8.228266</td><td>10.109745</td><td>12.170589</td><td>14.364073</td><td>16.722517</td><td>19.18709</td><td>22.03077</td><td>17.208511</td><td>16.224203</td><td>15.566424</td><td>17.050343</td><td>16.080097</td><td>15.443468</td><td>16.921791</td><td>15.962402</td><td>15.347263</td><td>16.814959</td><td>15.864242</td><td>15.27134</td><td>16.729906</td><td>15.787886</td><td>15.218466</td><td>16.664564</td><td>15.730083</td><td>15.182751</td><td>16.61991</td><td>15.686324</td><td>15.1601305</td><td>16.585676</td><td>15.654064</td><td>15.148039</td><td>16.558054</td><td>15.629669</td><td>15.141826</td><td>0.032001704</td><td>0.043849397</td><td>0.045203492</td><td>0.072918765</td><td>0.06263939</td><td>0.07675708</td><td>0.10399303</td><td>0.07780949</td><td>0.14017467</td><td>0.016467415</td><td>0.021250801</td><td>0.032092847</td><td>0.0149329165</td><td>0.019061867</td><td>0.028947951</td><td>0.01369758</td><td>0.01736746</td><td>0.026648495</td><td>0.012623343</td><td>0.015980754</td><td>0.024998168</td><td>0.011793644</td><td>0.014977396</td><td>0.023862366</td><td>0.011184664</td><td>0.014255281</td><td>0.023120966</td><td>0.010785815</td><td>0.013740733</td><td>0.022603082</td><td>0.010472503</td><td>0.013351409</td><td>0.022360764</td><td>0.010212836</td><td>0.013043255</td><td>0.022296576</td><td>16.471447</td><td>0.3236818</td><td>1.9206839</td><td>2.3249283</td><td>0.0973919</td><td>15.540598</td><td>0.3247282</td><td>1.7439244</td><td>2.1774826</td><td>0.023485765</td><td>15.124181</td><td>0.16547345</td><td>1.4694684</td><td>3.3948786</td><td>0.028653827</td><td>0</td></tr>\n",
       "</table></div>"
      ],
      "text/plain": [
       "<Table length=5>\n",
       "SGA_ID  SGA_GALAXY          GALAXY         ... Z_COG_PARAMS_CHI2 ELLIPSEBIT\n",
       "int64    bytes16           bytes29         ...      float32        int32   \n",
       "------ ----------- ----------------------- ... ----------------- ----------\n",
       "     2  SGA-2020 2              PGC1283207 ...       0.011723555          0\n",
       "     3  SGA-2020 3              PGC1310416 ...        0.20391206          0\n",
       "     4  SGA-2020 4 SDSSJ145059.93+135143.0 ...         1.8054093          0\n",
       "     7  SGA-2020 7              PGC1742504 ...       0.004725194          0\n",
       "    18 SGA-2020 18  2MASXJ12340801+4535444 ...       0.028653827          0"
      ]
     },
     "execution_count": 3,
     "metadata": {},
     "output_type": "execute_result"
    }
   ],
   "source": [
    "#SGA_Param_Data = Table.read('SGA_Asym_Data.fits')\n",
    "# SGA_Param_Data = Table.read('SGA_M20_Data1.fits')\n",
    "SGA_Param_Data = Table.read('/global/cfs/cdirs/cosmo/data/sga/2020/SGA-2020.fits', 'ELLIPSE')\n",
    "SGA_Param_Data[:5]"
   ]
  },
  {
   "cell_type": "code",
   "execution_count": 4,
   "id": "a7c9783e-df41-4431-97b1-30c9ef3836fb",
   "metadata": {
    "tags": []
   },
   "outputs": [],
   "source": [
    "# Bits in the dict\n",
    "MASKBITS = dict(\n",
    "    NPRIMARY   = 0x1,   # not PRIMARY\n",
    "    BRIGHT     = 0x2,\n",
    "    SATUR_G    = 0x4,\n",
    "    SATUR_R    = 0x8,\n",
    "    SATUR_Z    = 0x10,\n",
    "    ALLMASK_G  = 0x20,\n",
    "    ALLMASK_R  = 0x40,\n",
    "    ALLMASK_Z  = 0x80,\n",
    "    WISEM1     = 0x100, # WISE masked\n",
    "    WISEM2     = 0x200,\n",
    "    BAILOUT    = 0x400, # bailed out of processing\n",
    "    MEDIUM     = 0x800, # medium-bright star\n",
    "    GALAXY     = 0x1000, # SGA large galaxy\n",
    "    CLUSTER    = 0x2000, # Cluster catalog source\n",
    "    SATUR_I    = 0x4000,\n",
    "    ALLMASK_I  = 0x8000,\n",
    "    SUB_BLOB   = 0x10000,\n",
    ")"
   ]
  },
  {
   "cell_type": "code",
   "execution_count": 5,
   "id": "8e7319e3-7031-4cbc-9973-33aacc5208b9",
   "metadata": {
    "tags": []
   },
   "outputs": [],
   "source": [
    "def makecompactimage(mmc_image, mask_c):\n",
    "    # extract the image shape and coordinates\n",
    "    rows, cols = mmc_image.shape\n",
    "    y, x = np.mgrid[0:rows, 0:cols]\n",
    "    squared_distance = x**2 + y**2\n",
    "    \n",
    "    # flatten the images\n",
    "    flattened = np.ravel(mmc_image)\n",
    "    \n",
    "    # sort the indices by assosiated intensity pixel, greatest to lowest intensity\n",
    "    sorted_pix = np.argsort(flattened)[::-1]\n",
    "\n",
    "    # make a list of intensity values, replacing masked values with 0\n",
    "    filledflattened = flattened.filled(0.0)[sorted_pix]\n",
    "\n",
    "    # sort the indices replaced with zeros masked intensity, greatest to lowest\n",
    "    sorted_filled_pix = np.argsort(filledflattened)[::-1]\n",
    "\n",
    "    # sort the intensities of the replaced masked values\n",
    "    filledintlist = filledflattened[sorted_filled_pix]\n",
    "    \n",
    "    # find the index of the brightest pixel in the original image\n",
    "    brightest_pixel_index = np.unravel_index(np.argmax(mmc_image, axis=None), mmc_image.shape)\n",
    "\n",
    "    # calculate squared distances from the center (brightest pixel)\n",
    "    squared_distances_centered = (x - brightest_pixel_index[1])**2 + (y - brightest_pixel_index[0])**2\n",
    "\n",
    "    # sort the pixels based on squared distances from the center\n",
    "    sorted_distances_centered = np.argsort(squared_distances_centered.flatten())\n",
    "\n",
    "    # create a circular arrangement around the brightest pixel\n",
    "    arranged_image = np.zeros_like(mmc_image)\n",
    "    arranged_image.flat[sorted_distances_centered] = filledintlist\n",
    "\n",
    "    compact_image = ma.array(arranged_image, mask=mask_c)\n",
    "    \n",
    "    return compact_image"
   ]
  },
  {
   "cell_type": "markdown",
   "id": "8daacfa0-2349-4551-a34c-3bc2dad47b7c",
   "metadata": {
    "tags": []
   },
   "source": [
    "def potentialenergycalc(mmc_image):\n",
    "    '''Note: this function is using too much memory and needs to be rewritten.'''\n",
    "    \n",
    "    # get pixel coordinates for non-masked pixels of image\n",
    "    y, x = np.where(~mmc_image.mask)\n",
    "    \n",
    "    # rij_matrix where each element represents the distance between the corresponding pixel pairs\n",
    "    # distance = sqrt{ (x_2 - x_1)^2 + (y_2 - y_1)^2\n",
    "    rij_matrix = np.sqrt((x[:, np.newaxis] - x)**2 + (y[:, np.newaxis] - y)**2)\n",
    "    print('*** rij_matrix:', rij_matrix.shape)\n",
    "    flux_matrix = mmc_image[y, x]\n",
    "    print('*** flux_matrix:', flux_matrix.shape)\n",
    "    \n",
    "    # apply the mask and sum the potential energy\n",
    "    potential_energy = 0.5*(np.sum(flux_matrix[np.newaxis, :] * flux_matrix[:, np.newaxis] / rij_matrix))\n",
    "    return potential_energy"
   ]
  },
  {
   "cell_type": "markdown",
   "id": "15d21b2d-58b7-46d7-8d68-27489e5f8226",
   "metadata": {
    "tags": []
   },
   "source": [
    "def potentialenergycalc(mmc_image):\n",
    "    # Get pixel coordinates for non-masked pixels of image\n",
    "    y, x = np.where(~mmc_image.mask)\n",
    "    \n",
    "    # Initialize potential energy\n",
    "    potential_energy = 0.0\n",
    "    \n",
    "    # Calculate potential energy using double for loop\n",
    "    for i in range(len(x)):\n",
    "        for j in range(len(x)):\n",
    "            if i != j:\n",
    "                # Calculate distance between pixel pairs\n",
    "                rij = np.sqrt((x[j] - x[i])**2 + (y[j] - y[i])**2)\n",
    "                # Add contribution to potential energy\n",
    "                potential_energy += 0.5 * (mmc_image[y[i], x[i]] * mmc_image[y[j], x[j]]) / rij\n",
    "    \n",
    "    return potential_energy"
   ]
  },
  {
   "cell_type": "code",
   "execution_count": 6,
   "id": "87ad346e-9838-4a47-a077-151e67da8c25",
   "metadata": {
    "tags": []
   },
   "outputs": [],
   "source": [
    "def multcalc(compact_potetnial_energy, actual_potential_energy):\n",
    "    multiplicity = 100*(np.log10(compact_potetnial_energy / actual_potential_energy))\n",
    "    return multiplicity"
   ]
  },
  {
   "cell_type": "code",
   "execution_count": 8,
   "id": "3b46854a-d543-4fc7-9b9c-5a61213b3ee3",
   "metadata": {
    "tags": []
   },
   "outputs": [
    {
     "name": "stderr",
     "output_type": "stream",
     "text": [
      "Processing Galaxies:   0%|          | 0/3 [00:00<?, ?galaxy/s]"
     ]
    },
    {
     "name": "stdout",
     "output_type": "stream",
     "text": [
      "*** Image: (3, 213, 213) >f4\n",
      "*** Bitmask: (213, 213) >i4\n",
      "<class 'numpy.ma.core.MaskedArray'>\n",
      "float32\n"
     ]
    },
    {
     "name": "stderr",
     "output_type": "stream",
     "text": [
      "Processing Galaxies:  33%|███▎      | 1/3 [00:00<00:00,  3.88galaxy/s]"
     ]
    },
    {
     "name": "stdout",
     "output_type": "stream",
     "text": [
      "Galaxy processed! 85 /pscratch/sd/b/barnerg/SGA2024/cutouts/190/190297/19029721p6607370.fits\n",
      "*** Image: (3, 253, 253) >f4\n",
      "*** Bitmask: (253, 253) >i4\n",
      "<class 'numpy.ma.core.MaskedArray'>\n",
      "float32\n"
     ]
    },
    {
     "name": "stderr",
     "output_type": "stream",
     "text": [
      "Processing Galaxies:  67%|██████▋   | 2/3 [00:01<00:01,  1.05s/galaxy]"
     ]
    },
    {
     "name": "stdout",
     "output_type": "stream",
     "text": [
      "Galaxy processed! 86 /pscratch/sd/b/barnerg/SGA2024/cutouts/120/120157/12015780p3717878.fits\n",
      "*** Image: (3, 445, 445) >f4\n",
      "*** Bitmask: (445, 445) >i4\n",
      "<class 'numpy.ma.core.MaskedArray'>\n",
      "float32\n"
     ]
    },
    {
     "name": "stderr",
     "output_type": "stream",
     "text": [
      "Processing Galaxies: 100%|██████████| 3/3 [00:30<00:00, 10.27s/galaxy]"
     ]
    },
    {
     "name": "stdout",
     "output_type": "stream",
     "text": [
      "Galaxy processed! 87 /pscratch/sd/b/barnerg/SGA2024/cutouts/193/193707/19370744p5888232.fits\n"
     ]
    },
    {
     "name": "stderr",
     "output_type": "stream",
     "text": [
      "\n"
     ]
    }
   ],
   "source": [
    "warnings.filterwarnings(\"ignore\", category=UserWarning)\n",
    "\n",
    "# Create a list to store indices of processed galaxies\n",
    "processed_galaxies = []\n",
    "no_bitmask = []\n",
    "no_image_path = []\n",
    "image_shape_unknown = []\n",
    "\n",
    "n_galaxies = len(SGA_Param_Data)\n",
    "\n",
    "SGA_Param_Data['Mult_g'] = np.NaN * np.ones(n_galaxies)\n",
    "SGA_Param_Data['Mult_r'] = np.NaN * np.ones(n_galaxies)\n",
    "SGA_Param_Data['Mult_z'] = np.NaN * np.ones(n_galaxies)\n",
    "\n",
    "galaxy_range = range(85, 88)\n",
    "\n",
    "for i in tqdm(galaxy_range, desc=\"Processing Galaxies\", unit=\"galaxy\", leave=True):\n",
    "    f1 = math.trunc(SGA_Param_Data['RA'][i])\n",
    "    f2 = math.trunc((1000*SGA_Param_Data['RA'][i]))\n",
    "    f3 = math.trunc((100000*SGA_Param_Data['RA'][i]))\n",
    "    f4 = 'm' if SGA_Param_Data['DEC'][i] < 0 else 'p'\n",
    "    f5 = abs(math.trunc((100000*SGA_Param_Data['DEC'][i])))\n",
    "    path = '/pscratch/sd/b/barnerg/SGA2024/cutouts/{:03d}/{:06d}/{:08d}{}{:07d}.fits'.format(f1,f2,f3,f4,f5)\n",
    "    \n",
    "        \n",
    "    if os.path.exists(path):\n",
    "        fits_file = fits.open(path, ignore_missing_simple=True, ignore_missing_end=True)\n",
    "\n",
    "        try:\n",
    "            fits_file[1].data\n",
    "        except:\n",
    "            no_bitmask.append(path)\n",
    "            var_exists = False\n",
    "            fits_file.close()\n",
    "        else:\n",
    "            var_exists = True\n",
    "\n",
    "        if var_exists:\n",
    "            image = fits_file[0].data\n",
    "            bit_mask = fits_file[1].data\n",
    "            fits_file.close()\n",
    "            \n",
    "            print('*** Image:', image.shape, image.dtype)\n",
    "            print('*** Bitmask:', bit_mask.shape, bit_mask.dtype)\n",
    "            \n",
    "            # reshape the data\n",
    "            # checking to see if the galaxy has 3 color channels\n",
    "            if image.shape[0] == 3:\n",
    "                # the tuple swaps the 1st and 3rd dimensions, resulting in a new array, and assigns this array to the variable image_data\n",
    "                image_data = np.transpose(image, (1, 2, 0))\n",
    "                #print(\"image_data shape:\", image_data.shape)\n",
    "                \n",
    "                mg_image = ma.array(image_data[:,:,0])\n",
    "                mr_image = ma.array(image_data[:,:,1])\n",
    "                mz_image = ma.array(image_data[:,:,2])\n",
    "                \n",
    "                # Generate bitmask to apply to image\n",
    "                condition = bit_mask & MASKBITS['GALAXY'] != 0\n",
    "                mask_ = condition.astype(int)\n",
    "\n",
    "                # Generate bitmask to apply to image\n",
    "                condition2 = mask_ & (MASKBITS['BRIGHT'] | MASKBITS['SATUR_G'] | MASKBITS['SATUR_R'] | MASKBITS['SATUR_Z'] | MASKBITS['WISEM1'] | MASKBITS['WISEM2']) != 0\n",
    "                mask_2 = mask_ & ~condition2\n",
    "\n",
    "                # make the mask (318, 318, 3), where the third dimension represents the same 2D mask array duplicated three times\n",
    "                mask = np.dstack([mask_2.astype(bool), mask_2.astype(bool), mask_2.astype(bool)])\n",
    "                mimage_data = ma.array(image_data, mask=~mask)\n",
    "\n",
    "                # masked color images\n",
    "                mmg_image = ma.array(image_data[:,:,0], mask=~mask_2.astype(bool))\n",
    "                mmr_image = ma.array(image_data[:,:,1], mask=~mask_2.astype(bool))\n",
    "                mmz_image = ma.array(image_data[:,:,2], mask=~mask_2.astype(bool))\n",
    "\n",
    "                # Use the masks from the original images\n",
    "                mask_g = mmg_image.mask\n",
    "                mask_r = mmr_image.mask\n",
    "                mask_z = mmz_image.mask\n",
    "                \n",
    "                # call makecompactimage for each channel\n",
    "                compactimageg = makecompactimage(mmg_image, mask_g)\n",
    "                compactimager = makecompactimage(mmr_image, mask_r)\n",
    "                compactimagez = makecompactimage(mmz_image, mask_z)\n",
    "                \n",
    "                mmg_image = mmg_image.byteswap().newbyteorder()\n",
    "                print(type(mmg_image))\n",
    "                print(mmg_image.dtype)\n",
    "                \n",
    "                # call potentialenergycalc for each channel to calculate actual and compact potential\n",
    "                actualpotentialenergyg = potentialenergycalc(mmg_image.data.astype(np.float64), \n",
    "                                                             mmg_image.mask.astype(np.int64))\n",
    "                actualpotentialenergyr = potentialenergycalc(mmr_image.data.astype(np.float64), \n",
    "                                                             mmr_image.mask.astype(np.int64))\n",
    "                actualpotentialenergyz = potentialenergycalc(mmz_image.data.astype(np.float64), \n",
    "                                                             mmz_image.mask.astype(np.int64))\n",
    "                \n",
    "                compactpotentialenergyg = potentialenergycalc(compactimageg.data.astype(np.float64), \n",
    "                                                              compactimageg.mask.astype(np.int64))\n",
    "                compactpotentialenergyr = potentialenergycalc(compactimager.data.astype(np.float64), \n",
    "                                                              compactimager.mask.astype(np.int64))\n",
    "                compactpotentialenergyz = potentialenergycalc(compactimagez.data.astype(np.float64), \n",
    "                                                              compactimagez.mask.astype(np.int64))\n",
    "                \n",
    "                # call multcalc\n",
    "                multiplicityg = multcalc(compactpotentialenergyg, actualpotentialenergyg)\n",
    "                multiplicityr = multcalc(compactpotentialenergyr, actualpotentialenergyr)\n",
    "                multiplicityz = multcalc(compactpotentialenergyz, actualpotentialenergyz)\n",
    "                \n",
    "                # append values\n",
    "                SGA_Param_Data['Mult_g'][i] = multiplicityg\n",
    "                SGA_Param_Data['Mult_r'][i] = multiplicityr\n",
    "                SGA_Param_Data['Mult_z'][i] = multiplicityz\n",
    "\n",
    "                # Append the index of the processed galaxy to the list\n",
    "                processed_galaxies.append(i)\n",
    "                print(\"Galaxy processed!\", i, path)\n",
    "\n",
    "            else:\n",
    "                image_shape_unknown.append(path)\n",
    "    else: \n",
    "        no_image_path.append(path)"
   ]
  },
  {
   "cell_type": "code",
   "execution_count": null,
   "id": "a5b294d6-23e9-4455-b1ca-3d100ff04101",
   "metadata": {
    "tags": []
   },
   "outputs": [],
   "source": [
    "print(f\"Galaxies with no bitmask: {len(no_bitmask)}\")\n",
    "print(f\"Galaxies with no image path: {len(no_image_path)}\")\n",
    "print(f\"Galaxies with an unknown image shape: {len(image_shape_unknown)}\")\n",
    "print(f\"Galaxies successfully processed: {len(processed_galaxies)}\")\n",
    "print(f\"All Galaxies Processed: {len(no_bitmask) + len(no_image_path) + len(image_shape_unknown) + len(processed_galaxies)}\")\n",
    "print(f\"Total Galaxies: {len(SGA_Param_Data)}\")"
   ]
  },
  {
   "cell_type": "code",
   "execution_count": null,
   "id": "c2e86b8d-fdf6-4a53-8fc2-b87ad0b9062c",
   "metadata": {
    "tags": []
   },
   "outputs": [],
   "source": [
    "print(SGA_Param_Data)"
   ]
  },
  {
   "cell_type": "code",
   "execution_count": null,
   "id": "59c28016-bdae-42a9-af53-eb0f69c3631d",
   "metadata": {},
   "outputs": [],
   "source": []
  }
 ],
 "metadata": {
  "kernelspec": {
   "display_name": "DESI main",
   "language": "python",
   "name": "desi-main"
  },
  "language_info": {
   "codemirror_mode": {
    "name": "ipython",
    "version": 3
   },
   "file_extension": ".py",
   "mimetype": "text/x-python",
   "name": "python",
   "nbconvert_exporter": "python",
   "pygments_lexer": "ipython3",
   "version": "3.10.8"
  }
 },
 "nbformat": 4,
 "nbformat_minor": 5
}
