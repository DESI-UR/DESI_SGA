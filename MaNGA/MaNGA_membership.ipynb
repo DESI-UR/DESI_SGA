{
 "cells": [
  {
   "cell_type": "markdown",
   "id": "bf4a4f4d-886a-42ec-913f-f2ab94ecedf9",
   "metadata": {
    "tags": []
   },
   "source": [
    "# MaNGA File"
   ]
  },
  {
   "cell_type": "markdown",
   "id": "bc1dad50-7b32-460c-bdb5-2181c58a87f3",
   "metadata": {},
   "source": [
    "/project/projectdirs/sdss/data/sdss/dr17/manga/spectro/redux/v3_1_1/drpall-v3_1_1.fits"
   ]
  },
  {
   "cell_type": "code",
   "execution_count": 1,
   "id": "2339bf4f-2100-4b1d-a384-127cf863b39f",
   "metadata": {},
   "outputs": [],
   "source": [
    "import numpy as np\n",
    "import matplotlib.pyplot as plt\n",
    "from astropy.io import fits\n",
    "from astropy.utils.data import get_pkg_data_filename\n",
    "import pandas as pd\n",
    "from astropy.table import Table\n",
    "from astropy.coordinates import SkyCoord, match_coordinates_sky\n",
    "from astropy import units as u"
   ]
  },
  {
   "cell_type": "code",
   "execution_count": 2,
   "id": "d1a57aab-e65b-49a5-ab72-ecbb25812457",
   "metadata": {},
   "outputs": [],
   "source": [
    "h = 1\n",
    "H0 = 100*h\n",
    "\n",
    "c = 3e5\n",
    "\n",
    "q0 = 0.2"
   ]
  },
  {
   "cell_type": "code",
   "execution_count": 3,
   "id": "41df20b0-6755-4aac-97ab-581501877152",
   "metadata": {},
   "outputs": [
    {
     "name": "stdout",
     "output_type": "stream",
     "text": [
      "Filename: /project/projectdirs/sdss/data/sdss/dr17/manga/spectro/redux/v3_1_1/drpall-v3_1_1.fits\n",
      "No.    Name      Ver    Type      Cards   Dimensions   Format\n",
      "  0  PRIMARY       1 PrimaryHDU       6   ()      \n",
      "  1  MANGA         1 BinTableHDU    209   11273R x 99C   [K, 32A, 32A, 32A, 32A, 32A, 32A, 32A, 32A, 32A, 32A, D, D, D, D, D, D, D, K, D, K, D, D, 53A, K, 32A, K, D, D, D, D, D, D, D, D, D, D, D, K, K, K, D, D, D, D, K, K, K, K, 32A, K, 19A, K, K, K, D, D, D, D, D, D, D, D, D, D, D, D, D, D, D, D, K, K, K, 6A, K, K, D, D, 7D, 7D, 7D, D, D, D, D, 7D, D, D, 7D, 7D, 7D, 7D, D, D, D, D, 7D, 7D]   \n",
      "  2  MASTAR        1 BinTableHDU    209   35394R x 99C   [K, 32A, 32A, 32A, 32A, 32A, 32A, 32A, 32A, 32A, 32A, D, D, D, D, D, D, D, K, D, K, D, D, 53A, K, 32A, K, D, D, D, D, D, D, D, D, D, D, D, K, K, K, D, D, D, D, K, K, K, K, 32A, K, 19A, K, K, K, D, D, D, D, D, D, D, D, D, D, D, D, D, D, D, D, K, K, K, 6A, K, K, D, D, 7D, 7D, 7D, D, D, D, D, 7D, D, D, 7D, 7D, 7D, 7D, D, D, D, D, 7D, 7D]   \n"
     ]
    }
   ],
   "source": [
    "drpall_file = get_pkg_data_filename('/project/projectdirs/sdss/data/sdss/dr17/manga/spectro/redux/v3_1_1/drpall-v3_1_1.fits')\n",
    "fits.info(drpall_file)"
   ]
  },
  {
   "cell_type": "code",
   "execution_count": 4,
   "id": "85b729a4-86ef-489d-b12c-212a6ade5185",
   "metadata": {},
   "outputs": [
    {
     "data": {
      "text/html": [
       "<div><i>Table length=11273</i>\n",
       "<table id=\"table23456038261136\" class=\"table-striped table-bordered table-condensed\">\n",
       "<thead><tr><th>plate</th><th>ifudsgn</th><th>plateifu</th><th>mangaid</th><th>versdrp2</th><th>versdrp3</th><th>verscore</th><th>versutil</th><th>versprim</th><th>platetyp</th><th>srvymode</th><th>objra</th><th>objdec</th><th>ifuglon</th><th>ifuglat</th><th>ifura</th><th>ifudec</th><th>ebvgal</th><th>nexp</th><th>exptime</th><th>drp3qual</th><th>bluesn2</th><th>redsn2</th><th>harname</th><th>frlplug</th><th>cartid</th><th>designid</th><th>cenra</th><th>cendec</th><th>airmsmin</th><th>airmsmed</th><th>airmsmax</th><th>seemin</th><th>seemed</th><th>seemax</th><th>transmin</th><th>transmed</th><th>transmax</th><th>mjdmin</th><th>mjdmed</th><th>mjdmax</th><th>gfwhm</th><th>rfwhm</th><th>ifwhm</th><th>zfwhm</th><th>mngtarg1</th><th>mngtarg2</th><th>mngtarg3</th><th>catidnum</th><th>plttarg</th><th>manga_tileid</th><th>nsa_iauname</th><th>ifudesignsize</th><th>ifutargetsize</th><th>ifudesignwrongsize</th><th>z</th><th>zmin</th><th>zmax</th><th>szmin</th><th>szmax</th><th>ezmin</th><th>ezmax</th><th>probs</th><th>pweight</th><th>psweight</th><th>psrweight</th><th>sweight</th><th>srweight</th><th>eweight</th><th>esweight</th><th>esrweight</th><th>nsa_field</th><th>nsa_run</th><th>nsa_camcol</th><th>nsa_version</th><th>nsa_nsaid</th><th>nsa_nsaid_v1b</th><th>nsa_z</th><th>nsa_zdist</th><th>nsa_sersic_absmag [7]</th><th>nsa_elpetro_absmag [7]</th><th>nsa_elpetro_amivar [7]</th><th>nsa_sersic_mass</th><th>nsa_elpetro_mass</th><th>nsa_elpetro_ba</th><th>nsa_elpetro_phi</th><th>nsa_extinction [7]</th><th>nsa_elpetro_th50_r</th><th>nsa_petro_th50</th><th>nsa_petro_flux [7]</th><th>nsa_petro_flux_ivar [7]</th><th>nsa_elpetro_flux [7]</th><th>nsa_elpetro_flux_ivar [7]</th><th>nsa_sersic_ba</th><th>nsa_sersic_n</th><th>nsa_sersic_phi</th><th>nsa_sersic_th50</th><th>nsa_sersic_flux [7]</th><th>nsa_sersic_flux_ivar [7]</th></tr></thead>\n",
       "<thead><tr><th>int64</th><th>bytes32</th><th>bytes32</th><th>bytes32</th><th>bytes32</th><th>bytes32</th><th>bytes32</th><th>bytes32</th><th>bytes32</th><th>bytes32</th><th>bytes32</th><th>float64</th><th>float64</th><th>float64</th><th>float64</th><th>float64</th><th>float64</th><th>float64</th><th>int64</th><th>float64</th><th>int64</th><th>float64</th><th>float64</th><th>bytes53</th><th>int64</th><th>bytes32</th><th>int64</th><th>float64</th><th>float64</th><th>float64</th><th>float64</th><th>float64</th><th>float64</th><th>float64</th><th>float64</th><th>float64</th><th>float64</th><th>float64</th><th>int64</th><th>int64</th><th>int64</th><th>float64</th><th>float64</th><th>float64</th><th>float64</th><th>int64</th><th>int64</th><th>int64</th><th>int64</th><th>bytes32</th><th>int64</th><th>bytes19</th><th>int64</th><th>int64</th><th>int64</th><th>float64</th><th>float64</th><th>float64</th><th>float64</th><th>float64</th><th>float64</th><th>float64</th><th>float64</th><th>float64</th><th>float64</th><th>float64</th><th>float64</th><th>float64</th><th>float64</th><th>float64</th><th>float64</th><th>int64</th><th>int64</th><th>int64</th><th>bytes6</th><th>int64</th><th>int64</th><th>float64</th><th>float64</th><th>float64</th><th>float64</th><th>float64</th><th>float64</th><th>float64</th><th>float64</th><th>float64</th><th>float64</th><th>float64</th><th>float64</th><th>float64</th><th>float64</th><th>float64</th><th>float64</th><th>float64</th><th>float64</th><th>float64</th><th>float64</th><th>float64</th><th>float64</th></tr></thead>\n",
       "<tr><td>10001</td><td>12701</td><td>10001-12701</td><td>1-48157</td><td>v3_1_1</td><td>v3_1_1</td><td>v1_9_1</td><td>v5_5_36</td><td>v2_9</td><td>APOGEE-2&amp;MaNGA</td><td>MaNGA dither</td><td>133.371090612</td><td>57.5984251446</td><td>159.27921887</td><td>38.8381829181</td><td>133.37109</td><td>57.598425</td><td>0.0545561</td><td>9</td><td>8100.81</td><td>0</td><td>20.0835</td><td>41.292</td><td>ma079</td><td>22</td><td>3</td><td>9114</td><td>134.41357</td><td>57.604214</td><td>1.10715</td><td>1.15321</td><td>1.21404</td><td>1.78219</td><td>1.85994</td><td>2.12685</td><td>0.898721</td><td>0.929654</td><td>0.937466</td><td>57372</td><td>57373</td><td>57373</td><td>2.69906</td><td>2.64546</td><td>2.59645</td><td>2.54039</td><td>2080</td><td>0</td><td>0</td><td>1</td><td>plateTargets-1.par</td><td>6013</td><td>J085329.03+573554.9</td><td>127</td><td>127</td><td>0</td><td>0.0392074</td><td>0.0193562</td><td>0.0264775</td><td>0.0386959</td><td>0.0429176</td><td>0.0193562</td><td>0.0264775</td><td>0.748562</td><td>-999.0</td><td>0.665321</td><td>0.705378</td><td>1.08789</td><td>1.19925</td><td>-999.0</td><td>0.66562</td><td>0.705713</td><td>203</td><td>1350</td><td>6</td><td>v1_0_1</td><td>51226</td><td>-999</td><td>0.0392074</td><td>0.0395926</td><td>-16.2982 .. -19.5112</td><td>-16.2321 .. -19.5522</td><td>275.541 .. 452.944</td><td>3068010000.0</td><td>2685340000.0</td><td>0.417013</td><td>69.2463</td><td>0.448783 .. 0.0800664</td><td>5.16633</td><td>3.63987</td><td>12.7947 .. 413.049</td><td>3.26768 .. 0.000422625</td><td>13.8306 .. 425.941</td><td>3.03694 .. 0.00496838</td><td>0.335333</td><td>0.741845</td><td>68.2584</td><td>5.29184</td><td>14.8124 .. 412.19</td><td>2.50888 .. 0.0150605</td></tr>\n",
       "<tr><td>10001</td><td>12702</td><td>10001-12702</td><td>1-48188</td><td>v3_1_1</td><td>v3_1_1</td><td>v1_9_1</td><td>v5_5_36</td><td>v2_9</td><td>APOGEE-2&amp;MaNGA</td><td>MaNGA dither</td><td>133.685669869</td><td>57.4802503218</td><td>159.390126911</td><td>39.0253440844</td><td>133.68567</td><td>57.48025</td><td>0.0492053</td><td>9</td><td>8100.81</td><td>0</td><td>20.0835</td><td>41.292</td><td>ma078</td><td>25</td><td>3</td><td>9114</td><td>134.41357</td><td>57.604214</td><td>1.10569</td><td>1.15089</td><td>1.21106</td><td>1.78219</td><td>1.85994</td><td>2.12685</td><td>0.898721</td><td>0.929654</td><td>0.937466</td><td>57372</td><td>57373</td><td>57373</td><td>2.72072</td><td>2.66314</td><td>2.64652</td><td>2.61686</td><td>2080</td><td>0</td><td>0</td><td>1</td><td>plateTargets-1.par</td><td>6013</td><td>J085444.56+572848.8</td><td>127</td><td>217</td><td>0</td><td>0.0408108</td><td>0.0193227</td><td>0.0264533</td><td>0.0386469</td><td>0.042869</td><td>0.0188554</td><td>0.0266531</td><td>0.794785</td><td>-999.0</td><td>0.651037</td><td>0.681893</td><td>1.04947</td><td>1.13205</td><td>-999.0</td><td>0.631507</td><td>0.660498</td><td>35</td><td>3600</td><td>5</td><td>v1_0_1</td><td>51261</td><td>-999</td><td>0.0408108</td><td>0.0411932</td><td>-15.9069 .. -19.6569</td><td>-16.127 .. -19.5493</td><td>206.664 .. 49.3569</td><td>5341650000.0</td><td>4642460000.0</td><td>0.598115</td><td>12.5169</td><td>0.405779 .. 0.072394</td><td>7.01311</td><td>6.11281</td><td>12.4553 .. 396.399</td><td>2.27628 .. 0.000372112</td><td>12.4406 .. 390.985</td><td>2.3517 .. 0.000398299</td><td>0.508217</td><td>1.44272</td><td>12.3759</td><td>8.34906</td><td>10.1128 .. 432.884</td><td>3.38905 .. 0.00964978</td></tr>\n",
       "<tr><td>10001</td><td>12703</td><td>10001-12703</td><td>1-55648</td><td>v3_1_1</td><td>v3_1_1</td><td>v1_9_1</td><td>v5_5_36</td><td>v2_9</td><td>APOGEE-2&amp;MaNGA</td><td>MaNGA dither</td><td>136.017159969</td><td>57.0923291779</td><td>159.56459216</td><td>40.3368076472</td><td>136.01716</td><td>57.092329</td><td>0.0258626</td><td>9</td><td>8100.81</td><td>0</td><td>19.9086</td><td>40.7596</td><td>ma077</td><td>31</td><td>3</td><td>9114</td><td>134.41357</td><td>57.604214</td><td>1.09975</td><td>1.13824</td><td>1.19323</td><td>1.78219</td><td>1.85994</td><td>2.12685</td><td>0.898721</td><td>0.929654</td><td>0.937466</td><td>57372</td><td>57373</td><td>57373</td><td>2.7262</td><td>2.61384</td><td>2.56576</td><td>2.53132</td><td>2080</td><td>0</td><td>0</td><td>1</td><td>plateTargets-1.par</td><td>6013</td><td>J090404.13+570532.3</td><td>127</td><td>169</td><td>0</td><td>0.0462094</td><td>0.0227277</td><td>0.0296235</td><td>0.0443908</td><td>0.0487145</td><td>0.0222592</td><td>0.03022</td><td>0.55597</td><td>-999.0</td><td>0.570051</td><td>0.643308</td><td>0.979861</td><td>1.21834</td><td>-999.0</td><td>0.534143</td><td>0.597944</td><td>39</td><td>3600</td><td>2</td><td>v1_0_1</td><td>59078</td><td>-999</td><td>0.0462094</td><td>0.046579</td><td>-15.9552 .. -20.5965</td><td>-16.3926 .. -20.4663</td><td>223.74 .. 875.365</td><td>13693500000.0</td><td>9439710000.0</td><td>0.378034</td><td>51.5052</td><td>0.219711 .. 0.0391981</td><td>6.523</td><td>4.87172</td><td>13.8626 .. 635.975</td><td>1.79171 .. 0.00598687</td><td>14.4442 .. 722.823</td><td>1.96905 .. 0.00930865</td><td>0.205749</td><td>2.18084</td><td>51.2808</td><td>8.09139</td><td>9.82225 .. 820.242</td><td>2.79287 .. 0.0443689</td></tr>\n",
       "<tr><td>10001</td><td>12704</td><td>10001-12704</td><td>1-55616</td><td>v3_1_1</td><td>v3_1_1</td><td>v1_9_1</td><td>v5_5_36</td><td>v2_9</td><td>APOGEE-2&amp;MaNGA</td><td>MaNGA dither</td><td>133.989966869</td><td>57.6779676669</td><td>159.101196491</td><td>39.1494998661</td><td>133.98997</td><td>57.677968</td><td>0.0476794</td><td>9</td><td>8100.81</td><td>64</td><td>19.9086</td><td>40.7596</td><td>ma076</td><td>34</td><td>3</td><td>9114</td><td>134.41357</td><td>57.604214</td><td>1.10705</td><td>1.15123</td><td>1.21051</td><td>1.78219</td><td>1.85994</td><td>2.12685</td><td>0.898721</td><td>0.929654</td><td>0.937466</td><td>57372</td><td>57373</td><td>57373</td><td>2.6788</td><td>2.58733</td><td>2.52311</td><td>2.47903</td><td>4160</td><td>0</td><td>0</td><td>1</td><td>plateTargets-1.par</td><td>6013</td><td>J085557.56+574040.6</td><td>127</td><td>397</td><td>0</td><td>0.0141215</td><td>0.0183756</td><td>0.0258019</td><td>0.037294</td><td>0.0415338</td><td>0.0141373</td><td>0.0310467</td><td>0.67973</td><td>-999.0</td><td>-999.0</td><td>-999.0</td><td>-999.0</td><td>-999.0</td><td>0.716568</td><td>0.45291</td><td>0.474847</td><td>36</td><td>3600</td><td>5</td><td>v1_0_1</td><td>59044</td><td>-999</td><td>0.0141215</td><td>0.0145852</td><td>-14.2399 .. -19.4321</td><td>-14.2982 .. -19.3602</td><td>262.464 .. 794.079</td><td>4286640000.0</td><td>4218380000.0</td><td>0.212315</td><td>81.0961</td><td>0.388503 .. 0.0693118</td><td>16.0734</td><td>11.44</td><td>18.0685 .. 2387.32</td><td>0.731053 .. 1.94195e-05</td><td>18.855 .. 2747.21</td><td>1.50036 .. 0.000434694</td><td>0.15</td><td>0.869326</td><td>81.2193</td><td>18.2816</td><td>17.8616 .. 2923.9</td><td>2.16404 .. 0.00123046</td></tr>\n",
       "<tr><td>10001</td><td>12705</td><td>10001-12705</td><td>1-55784</td><td>v3_1_1</td><td>v3_1_1</td><td>v1_9_1</td><td>v5_5_36</td><td>v2_9</td><td>APOGEE-2&amp;MaNGA</td><td>MaNGA dither</td><td>136.75137451</td><td>57.4514369241</td><td>158.989317689</td><td>40.6452221361</td><td>136.75137</td><td>57.451437</td><td>0.0313756</td><td>9</td><td>8100.81</td><td>0</td><td>19.9086</td><td>40.7596</td><td>ma075</td><td>36</td><td>3</td><td>9114</td><td>134.41357</td><td>57.604214</td><td>1.10226</td><td>1.13845</td><td>1.19148</td><td>1.78219</td><td>1.85994</td><td>2.12685</td><td>0.898721</td><td>0.929654</td><td>0.937466</td><td>57372</td><td>57373</td><td>57373</td><td>2.76525</td><td>2.72247</td><td>2.6945</td><td>2.68859</td><td>2080</td><td>0</td><td>0</td><td>1</td><td>plateTargets-1.par</td><td>6013</td><td>J090700.33+572705.1</td><td>127</td><td>127</td><td>0</td><td>0.0462349</td><td>0.0237085</td><td>0.0309678</td><td>0.0465261</td><td>0.0509661</td><td>0.0237085</td><td>0.0309678</td><td>0.570179</td><td>-999.0</td><td>0.498846</td><td>0.559482</td><td>0.859826</td><td>1.05734</td><td>-999.0</td><td>0.499088</td><td>0.559786</td><td>42</td><td>3600</td><td>2</td><td>v1_0_1</td><td>59219</td><td>-999</td><td>0.0462349</td><td>0.0466083</td><td>-17.0919 .. -20.792</td><td>-17.3181 .. -20.6366</td><td>426.79 .. 721.697</td><td>12987300000.0</td><td>9651730000.0</td><td>0.541128</td><td>132.903</td><td>0.269762 .. 0.0481275</td><td>5.743</td><td>4.54868</td><td>30.9177 .. 822.353</td><td>1.66031 .. 0.00289279</td><td>32.4019 .. 845.756</td><td>1.51105 .. 0.0033936</td><td>0.471451</td><td>1.25046</td><td>133.75</td><td>6.2694</td><td>26.1276 .. 967.317</td><td>1.54431 .. 0.0197392</td></tr>\n",
       "<tr><td>10001</td><td>1901</td><td>10001-1901</td><td>1-55567</td><td>v3_1_1</td><td>v3_1_1</td><td>v1_9_1</td><td>v5_5_36</td><td>v2_9</td><td>APOGEE-2&amp;MaNGA</td><td>MaNGA dither</td><td>133.330028009</td><td>57.0411553708</td><td>159.989264544</td><td>38.912180681</td><td>133.33003</td><td>57.041155</td><td>0.0471377</td><td>9</td><td>8100.81</td><td>0</td><td>20.0835</td><td>41.292</td><td>ma060</td><td>29</td><td>3</td><td>9114</td><td>134.41357</td><td>57.604214</td><td>1.10236</td><td>1.14886</td><td>1.21027</td><td>1.78219</td><td>1.85994</td><td>2.12685</td><td>0.898721</td><td>0.929654</td><td>0.937466</td><td>57372</td><td>57373</td><td>57373</td><td>2.73315</td><td>2.73853</td><td>2.70405</td><td>2.68173</td><td>4608</td><td>0</td><td>0</td><td>1</td><td>plateTargets-1.par</td><td>6013</td><td>J085319.20+570228.0</td><td>19</td><td>19</td><td>0</td><td>0.0257497</td><td>0.0135523</td><td>0.0230493</td><td>0.0309526</td><td>0.0292307</td><td>0.01</td><td>0.0262274</td><td>0.67973</td><td>-999.0</td><td>-999.0</td><td>-999.0</td><td>-999.0</td><td>-999.0</td><td>1.135</td><td>1.135</td><td>1.135</td><td>76</td><td>1411</td><td>5</td><td>v1_0_1</td><td>58994</td><td>-999</td><td>0.0257497</td><td>0.0261263</td><td>-10.7937 .. -18.1493</td><td>-11.781 .. -18.18</td><td>6.24965 .. 810.173</td><td>1340160000.0</td><td>1378800000.0</td><td>0.532468</td><td>92.5268</td><td>0.389523 .. 0.0694938</td><td>2.66277</td><td>2.15046</td><td>0.447768 .. 282.302</td><td>26.2453 .. 0.0350191</td><td>0.556395 .. 280.423</td><td>24.0382 .. 0.0448416</td><td>0.333464</td><td>0.715437</td><td>91.9556</td><td>2.52991</td><td>0.22379 .. 272.376</td><td>53.8388 .. 0.192634</td></tr>\n",
       "<tr><td>10001</td><td>1902</td><td>10001-1902</td><td>1-48201</td><td>v3_1_1</td><td>v3_1_1</td><td>v1_9_1</td><td>v5_5_36</td><td>v2_9</td><td>APOGEE-2&amp;MaNGA</td><td>MaNGA dither</td><td>134.193923352</td><td>56.7867469988</td><td>160.207289961</td><td>39.4206553941</td><td>134.19392</td><td>56.786747</td><td>0.0269329</td><td>9</td><td>8100.81</td><td>0</td><td>19.9086</td><td>40.7596</td><td>ma061</td><td>35</td><td>3</td><td>9114</td><td>134.41357</td><td>57.604214</td><td>1.09908</td><td>1.14313</td><td>1.20266</td><td>1.78219</td><td>1.85994</td><td>2.12685</td><td>0.898721</td><td>0.929654</td><td>0.937466</td><td>57372</td><td>57373</td><td>57373</td><td>2.74662</td><td>2.71354</td><td>2.67505</td><td>2.64067</td><td>1040</td><td>0</td><td>0</td><td>1</td><td>plateTargets-1.par</td><td>6013</td><td>J085646.52+564712.2</td><td>19</td><td>19</td><td>0</td><td>0.0253909</td><td>0.0224841</td><td>0.0293299</td><td>0.0439063</td><td>0.0482093</td><td>0.0224841</td><td>0.0293299</td><td>0.67973</td><td>1.40118</td><td>0.545801</td><td>0.591108</td><td>-999.0</td><td>-999.0</td><td>1.40279</td><td>0.546047</td><td>0.591396</td><td>202</td><td>1350</td><td>4</td><td>v1_0_1</td><td>51274</td><td>-999</td><td>0.0253909</td><td>0.0257609</td><td>-12.62 .. -20.5712</td><td>-13.121 .. -20.4016</td><td>89.5844 .. 1011.33</td><td>14534800000.0</td><td>11365900000.0</td><td>0.839959</td><td>153.782</td><td>0.22455 .. 0.0400614</td><td>3.54894</td><td>3.48407</td><td>2.10541 .. 2366.99</td><td>24.5709 .. 0.00225336</td><td>2.30128 .. 2300.99</td><td>23.2772 .. 0.00250729</td><td>0.733502</td><td>4.9523</td><td>149.901</td><td>4.72003</td><td>1.50866 .. 2698.41</td><td>38.4902 .. 0.00812918</td></tr>\n",
       "<tr><td>10001</td><td>3701</td><td>10001-3701</td><td>1-48111</td><td>v3_1_1</td><td>v3_1_1</td><td>v1_9_1</td><td>v5_5_36</td><td>v2_9</td><td>APOGEE-2&amp;MaNGA</td><td>MaNGA dither</td><td>132.465646765</td><td>57.1437279024</td><td>159.95692306</td><td>38.4321715029</td><td>132.46565</td><td>57.143728</td><td>0.0687194</td><td>9</td><td>8100.81</td><td>0</td><td>20.0835</td><td>41.292</td><td>ma062</td><td>23</td><td>3</td><td>9114</td><td>134.41357</td><td>57.604214</td><td>1.10448</td><td>1.15353</td><td>1.21697</td><td>1.78219</td><td>1.85994</td><td>2.12685</td><td>0.898721</td><td>0.929654</td><td>0.937466</td><td>57372</td><td>57373</td><td>57373</td><td>2.78588</td><td>2.68683</td><td>2.63285</td><td>2.60127</td><td>2080</td><td>0</td><td>0</td><td>1</td><td>plateTargets-1.par</td><td>6013</td><td>J084951.74+570837.4</td><td>37</td><td>19</td><td>37</td><td>0.0394191</td><td>0.0189832</td><td>0.0262126</td><td>0.0381547</td><td>0.0423817</td><td>0.0175985</td><td>0.0270279</td><td>0.810819</td><td>-999.0</td><td>0.657677</td><td>0.685939</td><td>1.0596</td><td>1.13493</td><td>-999.0</td><td>0.5949</td><td>0.61793</td><td>75</td><td>1411</td><td>6</td><td>v1_0_1</td><td>51179</td><td>-999</td><td>0.0394191</td><td>0.0397999</td><td>-10.2819 .. -19.838</td><td>-8.79796 .. -19.5201</td><td>0.00293283 .. 294.666</td><td>6865540000.0</td><td>5164150000.0</td><td>0.907966</td><td>177.501</td><td>0.573355 .. 0.102291</td><td>1.64323</td><td>1.65693</td><td>-0.0155907 .. 385.377</td><td>31.2106 .. 0.00303804</td><td>0.0121696 .. 395.179</td><td>23.3446 .. 0.00302707</td><td>0.671381</td><td>5.9563</td><td>149.576</td><td>0.887253</td><td>0.0496394 .. 528.956</td><td>47.3829 .. 0.0898817</td></tr>\n",
       "<tr><td>10001</td><td>3702</td><td>10001-3702</td><td>1-48136</td><td>v3_1_1</td><td>v3_1_1</td><td>v1_9_1</td><td>v5_5_36</td><td>v2_9</td><td>APOGEE-2&amp;MaNGA</td><td>MaNGA dither</td><td>132.912768243</td><td>57.1074235568</td><td>159.953426496</td><td>38.6775525446</td><td>132.91277</td><td>57.107424</td><td>0.0514359</td><td>9</td><td>8100.81</td><td>0</td><td>20.0835</td><td>41.292</td><td>ma059</td><td>27</td><td>3</td><td>9114</td><td>134.41357</td><td>57.604214</td><td>1.10351</td><td>1.15123</td><td>1.2136</td><td>1.78219</td><td>1.85994</td><td>2.12685</td><td>0.898721</td><td>0.929654</td><td>0.937466</td><td>57372</td><td>57373</td><td>57373</td><td>2.78204</td><td>2.697</td><td>2.66091</td><td>2.65034</td><td>1168</td><td>0</td><td>0</td><td>1</td><td>plateTargets-1.par</td><td>6013</td><td>J085139.06+570626.6</td><td>37</td><td>37</td><td>0</td><td>0.0256063</td><td>0.0209427</td><td>0.0277508</td><td>0.0411511</td><td>0.0453793</td><td>0.0209427</td><td>0.0277508</td><td>0.67973</td><td>1.59185</td><td>0.62473</td><td>0.67632</td><td>-999.0</td><td>-999.0</td><td>1.59369</td><td>0.625013</td><td>0.676652</td><td>31</td><td>3600</td><td>5</td><td>v1_0_1</td><td>51205</td><td>-999</td><td>0.0256063</td><td>0.0259852</td><td>-16.4627 .. -19.8832</td><td>-15.7075 .. -19.9561</td><td>302.65 .. 964.922</td><td>6859180000.0</td><td>7120350000.0</td><td>0.948903</td><td>138.512</td><td>0.418573 .. 0.0746766</td><td>4.25309</td><td>4.31484</td><td>18.7843 .. 1486.83</td><td>1.72907 .. 0.00372412</td><td>20.8653 .. 1469.09</td><td>1.58889 .. 0.00400578</td><td>0.896258</td><td>6.0</td><td>129.743</td><td>4.30119</td><td>42.0745 .. 1376.8</td><td>0.475689 .. 0.018242</td></tr>\n",
       "<tr><td>10001</td><td>3703</td><td>10001-3703</td><td>1-55612</td><td>v3_1_1</td><td>v3_1_1</td><td>v1_9_1</td><td>v5_5_36</td><td>v2_9</td><td>APOGEE-2&amp;MaNGA</td><td>MaNGA dither</td><td>134.591498946</td><td>57.6849653262</td><td>159.012592137</td><td>39.4637771624</td><td>134.5915</td><td>57.684965</td><td>0.0305783</td><td>9</td><td>8100.81</td><td>0</td><td>19.9086</td><td>40.7596</td><td>ma064</td><td>32</td><td>3</td><td>9114</td><td>134.41357</td><td>57.604214</td><td>1.1064</td><td>1.14879</td><td>1.20665</td><td>1.78219</td><td>1.85994</td><td>2.12685</td><td>0.898721</td><td>0.929654</td><td>0.937466</td><td>57372</td><td>57373</td><td>57373</td><td>2.76239</td><td>2.74151</td><td>2.68953</td><td>2.64762</td><td>2336</td><td>0</td><td>0</td><td>1</td><td>plateTargets-1.par</td><td>6013</td><td>J085821.95+574105.9</td><td>37</td><td>37</td><td>0</td><td>0.0405528</td><td>0.0180018</td><td>0.0255603</td><td>0.0367755</td><td>0.0410253</td><td>0.0170512</td><td>0.0258515</td><td>0.783577</td><td>-999.0</td><td>0.699882</td><td>0.734498</td><td>1.1529</td><td>1.24994</td><td>-999.0</td><td>0.665207</td><td>0.696401</td><td>207</td><td>1350</td><td>5</td><td>v1_0_1</td><td>59040</td><td>-999</td><td>0.0405528</td><td>0.0409358</td><td>-15.2821 .. -19.4142</td><td>-15.5727 .. -19.2668</td><td>13.9033 .. 157.724</td><td>3746640000.0</td><td>3108960000.0</td><td>0.610528</td><td>169.053</td><td>0.248117 .. 0.0442659</td><td>2.63385</td><td>2.15046</td><td>6.84751 .. 301.544</td><td>0.270138 .. 0.00187961</td><td>8.58604 .. 312.535</td><td>0.227379 .. 0.00221838</td><td>0.378285</td><td>1.86687</td><td>169.537</td><td>2.63431</td><td>6.63333 .. 352.845</td><td>0.44931 .. 0.0743321</td></tr>\n",
       "<tr><td>...</td><td>...</td><td>...</td><td>...</td><td>...</td><td>...</td><td>...</td><td>...</td><td>...</td><td>...</td><td>...</td><td>...</td><td>...</td><td>...</td><td>...</td><td>...</td><td>...</td><td>...</td><td>...</td><td>...</td><td>...</td><td>...</td><td>...</td><td>...</td><td>...</td><td>...</td><td>...</td><td>...</td><td>...</td><td>...</td><td>...</td><td>...</td><td>...</td><td>...</td><td>...</td><td>...</td><td>...</td><td>...</td><td>...</td><td>...</td><td>...</td><td>...</td><td>...</td><td>...</td><td>...</td><td>...</td><td>...</td><td>...</td><td>...</td><td>...</td><td>...</td><td>...</td><td>...</td><td>...</td><td>...</td><td>...</td><td>...</td><td>...</td><td>...</td><td>...</td><td>...</td><td>...</td><td>...</td><td>...</td><td>...</td><td>...</td><td>...</td><td>...</td><td>...</td><td>...</td><td>...</td><td>...</td><td>...</td><td>...</td><td>...</td><td>...</td><td>...</td><td>...</td><td>...</td><td>...</td><td>...</td><td>...</td><td>...</td><td>...</td><td>...</td><td>...</td><td>...</td><td>...</td><td>...</td><td>...</td><td>...</td><td>...</td><td>...</td><td>...</td><td>...</td><td>...</td><td>...</td><td>...</td><td>...</td></tr>\n",
       "<tr><td>9894</td><td>3701</td><td>9894-3701</td><td>1-294356</td><td>v3_1_1</td><td>v3_1_1</td><td>v1_9_1</td><td>v5_5_36</td><td>v2_9</td><td>APOGEE-2&amp;MaNGA</td><td>MaNGA dither</td><td>250.681143396</td><td>20.3632265734</td><td>38.8338282912</td><td>37.0864091248</td><td>250.68114</td><td>20.363227</td><td>0.053779</td><td>12</td><td>10800.8</td><td>0</td><td>20.3004</td><td>55.3711</td><td>ma137</td><td>23</td><td>6</td><td>10443</td><td>251.53653</td><td>20.714771</td><td>1.02424</td><td>1.06432</td><td>1.16527</td><td>1.12002</td><td>1.34332</td><td>1.60174</td><td>0.661155</td><td>0.856835</td><td>0.872905</td><td>57931</td><td>58219</td><td>58220</td><td>2.49263</td><td>2.48816</td><td>2.47196</td><td>2.44961</td><td>1040</td><td>0</td><td>0</td><td>1</td><td>plateTargets-1.par</td><td>7591</td><td>J164243.49+202147.6</td><td>37</td><td>37</td><td>0</td><td>0.0232843</td><td>0.0233098</td><td>0.0303873</td><td>0.0456191</td><td>0.0500049</td><td>0.0192145</td><td>0.0343615</td><td>0.67973</td><td>1.26308</td><td>0.495514</td><td>0.536445</td><td>-999.0</td><td>-999.0</td><td>0.582047</td><td>0.339621</td><td>0.358361</td><td>284</td><td>4002</td><td>6</td><td>v1_0_1</td><td>311399</td><td>-999</td><td>0.0232843</td><td>0.0235375</td><td>-0.314988 .. -20.8213</td><td>-11.8352 .. -20.6375</td><td>0.0 .. 1068.09</td><td>14802900000.0</td><td>13469500000.0</td><td>0.477112</td><td>23.3593</td><td>0.446166 .. 0.0795994</td><td>4.6623</td><td>3.7454</td><td>-6.09262e-05 .. 3336.72</td><td>0.0388293 .. 0.00218751</td><td>0.0 .. 3290.84</td><td>0.0489627 .. 0.00300296</td><td>0.330059</td><td>2.1025</td><td>24.0543</td><td>5.40211</td><td>1.76269e-05 .. 3869.69</td><td>0.154765 .. 0.00360267</td></tr>\n",
       "<tr><td>9894</td><td>3702</td><td>9894-3702</td><td>1-294376</td><td>v3_1_1</td><td>v3_1_1</td><td>v1_9_1</td><td>v5_5_36</td><td>v2_9</td><td>APOGEE-2&amp;MaNGA</td><td>MaNGA dither</td><td>251.235032678</td><td>21.7752568834</td><td>40.7178004466</td><td>37.0507914138</td><td>251.23503</td><td>21.775257</td><td>0.050491</td><td>12</td><td>10800.8</td><td>0</td><td>20.3004</td><td>55.3711</td><td>ma128</td><td>27</td><td>6</td><td>10443</td><td>251.53653</td><td>20.714771</td><td>1.01925</td><td>1.05578</td><td>1.15176</td><td>1.12002</td><td>1.34332</td><td>1.60174</td><td>0.661155</td><td>0.856835</td><td>0.872905</td><td>57931</td><td>58219</td><td>58220</td><td>2.52957</td><td>2.46225</td><td>2.43246</td><td>2.40891</td><td>4288</td><td>0</td><td>0</td><td>1</td><td>plateTargets-1.par</td><td>7591</td><td>J164456.41+214633.3</td><td>37</td><td>37</td><td>0</td><td>0.0312239</td><td>0.0240166</td><td>0.0314523</td><td>0.0472687</td><td>0.051758</td><td>0.0178088</td><td>0.0362114</td><td>0.67973</td><td>-999.0</td><td>-999.0</td><td>-999.0</td><td>-999.0</td><td>-999.0</td><td>0.466142</td><td>0.286589</td><td>0.301154</td><td>163</td><td>3927</td><td>6</td><td>v1_0_1</td><td>311420</td><td>-999</td><td>0.0312239</td><td>0.0315016</td><td>-15.7233 .. -20.8609</td><td>-16.1663 .. -20.7417</td><td>28.6012 .. 1041.57</td><td>17977200000.0</td><td>14779900000.0</td><td>0.564483</td><td>9.36792</td><td>0.419722 .. 0.0748817</td><td>5.15928</td><td>4.26345</td><td>19.3278 .. 2024.0</td><td>0.0772316 .. 0.00264797</td><td>21.301 .. 2040.27</td><td>0.0778715 .. 0.00471316</td><td>0.432874</td><td>2.80449</td><td>11.3982</td><td>6.26338</td><td>14.4303 .. 2270.71</td><td>0.235995 .. 0.0127419</td></tr>\n",
       "<tr><td>9894</td><td>3703</td><td>9894-3703</td><td>1-294332</td><td>v3_1_1</td><td>v3_1_1</td><td>v1_9_1</td><td>v5_5_36</td><td>v2_9</td><td>APOGEE-2&amp;MaNGA</td><td>MaNGA dither</td><td>251.128190301</td><td>19.9407630418</td><td>38.5100943429</td><td>36.5502710946</td><td>251.12819</td><td>19.940763</td><td>0.0628272</td><td>12</td><td>10800.8</td><td>0</td><td>23.8658</td><td>54.8359</td><td>ma140</td><td>32</td><td>6</td><td>10443</td><td>251.53653</td><td>20.714771</td><td>1.02614</td><td>1.06417</td><td>1.16351</td><td>1.12002</td><td>1.34332</td><td>1.60174</td><td>0.661155</td><td>0.856835</td><td>0.872905</td><td>57931</td><td>58219</td><td>58220</td><td>2.4624</td><td>2.4737</td><td>2.45784</td><td>2.42923</td><td>1040</td><td>0</td><td>0</td><td>1</td><td>plateTargets-1.par</td><td>7591</td><td>J164430.75+195626.6</td><td>37</td><td>37</td><td>0</td><td>0.0229775</td><td>0.0231513</td><td>0.0301701</td><td>0.0452741</td><td>0.0496412</td><td>0.0195112</td><td>0.0323926</td><td>0.67973</td><td>1.29144</td><td>0.505601</td><td>0.547424</td><td>-999.0</td><td>-999.0</td><td>0.732776</td><td>0.389379</td><td>0.413722</td><td>771</td><td>3900</td><td>6</td><td>v1_0_1</td><td>311374</td><td>-999</td><td>0.0229775</td><td>0.0232297</td><td>-16.0912 .. -20.7764</td><td>-15.3963 .. -20.506</td><td>11.4373 .. 599.68</td><td>14118500000.0</td><td>11761000000.0</td><td>0.860733</td><td>147.692</td><td>0.526206 .. 0.0938792</td><td>4.51616</td><td>4.40541</td><td>15.4015 .. 2994.94</td><td>0.0475383 .. 0.000162818</td><td>17.3286 .. 3011.98</td><td>0.0457368 .. 0.000169291</td><td>0.849409</td><td>4.55335</td><td>146.498</td><td>6.84995</td><td>32.8385 .. 3871.36</td><td>0.0557237 .. 0.00505971</td></tr>\n",
       "<tr><td>9894</td><td>3704</td><td>9894-3704</td><td>1-294189</td><td>v3_1_1</td><td>v3_1_1</td><td>v1_9_1</td><td>v5_5_36</td><td>v2_9</td><td>APOGEE-2&amp;MaNGA</td><td>MaNGA dither</td><td>252.725498934</td><td>20.5229393192</td><td>39.804756108</td><td>35.3310202032</td><td>252.7255</td><td>20.522939</td><td>0.0572257</td><td>12</td><td>10800.8</td><td>0</td><td>23.8658</td><td>54.8359</td><td>ma153</td><td>37</td><td>6</td><td>10443</td><td>251.53653</td><td>20.714771</td><td>1.02337</td><td>1.0546</td><td>1.14512</td><td>1.12002</td><td>1.34332</td><td>1.60174</td><td>0.661155</td><td>0.856835</td><td>0.872905</td><td>57931</td><td>58219</td><td>58220</td><td>2.46629</td><td>2.40673</td><td>2.3706</td><td>2.3453</td><td>2080</td><td>0</td><td>0</td><td>1</td><td>plateTargets-1.par</td><td>7591</td><td>J165054.11+203122.6</td><td>37</td><td>37</td><td>0</td><td>0.0550603</td><td>0.0262682</td><td>0.0361945</td><td>0.0541208</td><td>0.0592229</td><td>0.0248237</td><td>0.0382074</td><td>0.607361</td><td>-999.0</td><td>0.29776</td><td>0.327597</td><td>0.538051</td><td>0.644047</td><td>-999.0</td><td>0.254615</td><td>0.276119</td><td>176</td><td>3927</td><td>6</td><td>v1_0_1</td><td>311218</td><td>-999</td><td>0.0550603</td><td>0.0553369</td><td>-15.4417 .. -21.6113</td><td>-15.3453 .. -21.2738</td><td>0.708106 .. 789.775</td><td>35640500000.0</td><td>26433400000.0</td><td>0.779598</td><td>77.7282</td><td>0.473742 .. 0.0845192</td><td>2.91452</td><td>2.6171</td><td>1.97797 .. 979.917</td><td>0.119069 .. 0.0143356</td><td>2.85384 .. 1024.86</td><td>0.102607 .. 0.00306496</td><td>0.620481</td><td>4.66327</td><td>73.486</td><td>4.27349</td><td>3.32084 .. 1386.43</td><td>0.190305 .. 0.0408235</td></tr>\n",
       "<tr><td>9894</td><td>6101</td><td>9894-6101</td><td>1-294355</td><td>v3_1_1</td><td>v3_1_1</td><td>v1_9_1</td><td>v5_5_36</td><td>v2_9</td><td>APOGEE-2&amp;MaNGA</td><td>MaNGA dither</td><td>250.42475523</td><td>20.079417104</td><td>38.3979792271</td><td>37.2196421265</td><td>250.42476</td><td>20.079417</td><td>0.0611567</td><td>12</td><td>10800.8</td><td>0</td><td>20.3004</td><td>55.3711</td><td>ma122</td><td>21</td><td>6</td><td>10443</td><td>251.53653</td><td>20.714771</td><td>1.02529</td><td>1.06685</td><td>1.16958</td><td>1.12002</td><td>1.34332</td><td>1.60174</td><td>0.661155</td><td>0.856835</td><td>0.872905</td><td>57931</td><td>58219</td><td>58220</td><td>2.48297</td><td>2.49853</td><td>2.49666</td><td>2.48163</td><td>2080</td><td>0</td><td>0</td><td>1</td><td>plateTargets-1.par</td><td>7591</td><td>J164141.93+200445.9</td><td>61</td><td>61</td><td>0</td><td>0.0604006</td><td>0.0267642</td><td>0.0375629</td><td>0.0560219</td><td>0.061329</td><td>0.0251645</td><td>0.0391081</td><td>0.627833</td><td>-999.0</td><td>0.260459</td><td>0.284356</td><td>0.47419</td><td>0.559848</td><td>-999.0</td><td>0.229879</td><td>0.248296</td><td>284</td><td>4002</td><td>5</td><td>v1_0_1</td><td>311398</td><td>-999</td><td>0.0604006</td><td>0.0606473</td><td>-16.2942 .. -21.513</td><td>-17.0697 .. -21.4309</td><td>5.35339 .. 924.305</td><td>32976800000.0</td><td>26557100000.0</td><td>0.701425</td><td>144.461</td><td>0.510052 .. 0.0909972</td><td>3.36799</td><td>2.9198</td><td>8.48173 .. 925.691</td><td>0.051762 .. 0.00762301</td><td>12.3369 .. 956.89</td><td>0.0418215 .. 0.00707794</td><td>0.54552</td><td>4.81856</td><td>142.794</td><td>4.10009</td><td>6.22057 .. 1028.39</td><td>0.143361 .. 0.0265085</td></tr>\n",
       "<tr><td>9894</td><td>6102</td><td>9894-6102</td><td>1-294166</td><td>v3_1_1</td><td>v3_1_1</td><td>v1_9_1</td><td>v5_5_36</td><td>v2_9</td><td>APOGEE-2&amp;MaNGA</td><td>MaNGA dither</td><td>251.74187</td><td>19.67064</td><td>38.4359755095</td><td>35.9156397817</td><td>251.74187</td><td>19.67064</td><td>0.0775531</td><td>12</td><td>10800.8</td><td>0</td><td>20.3004</td><td>55.3711</td><td>ma123</td><td>24</td><td>6</td><td>10443</td><td>251.53653</td><td>20.714771</td><td>1.02706</td><td>1.06265</td><td>1.15931</td><td>1.12002</td><td>1.34332</td><td>1.60174</td><td>0.661155</td><td>0.856835</td><td>0.872905</td><td>57931</td><td>58219</td><td>58220</td><td>2.54339</td><td>2.50488</td><td>2.48158</td><td>2.46124</td><td>1168</td><td>0</td><td>0</td><td>1</td><td>plateTargets-1.par</td><td>7591</td><td>J164658.02+194014.5</td><td>61</td><td>61</td><td>0</td><td>0.0230133</td><td>0.0154977</td><td>0.0240885</td><td>0.0334445</td><td>0.0359536</td><td>0.0154977</td><td>0.0240885</td><td>0.67973</td><td>1.88388</td><td>1.10501</td><td>1.16551</td><td>-999.0</td><td>-999.0</td><td>1.88606</td><td>1.10576</td><td>1.16634</td><td>292</td><td>4002</td><td>6</td><td>v1_0_1</td><td>311194</td><td>-999</td><td>0.0230133</td><td>0.0232684</td><td>-16.0398 .. -18.5256</td><td>-15.8712 .. -18.4693</td><td>23.6168 .. 640.807</td><td>863550000.0</td><td>750806000.0</td><td>0.880851</td><td>140.534</td><td>0.643155 .. 0.114744</td><td>5.32529</td><td>5.16292</td><td>22.7123 .. 444.0</td><td>0.0446059 .. 0.00720351</td><td>24.7222 .. 455.111</td><td>0.0473395 .. 0.00861628</td><td>0.830415</td><td>0.922933</td><td>136.87</td><td>5.82659</td><td>28.9216 .. 480.761</td><td>0.102517 .. 0.0375727</td></tr>\n",
       "<tr><td>9894</td><td>6103</td><td>9894-6103</td><td>1-294369</td><td>v3_1_1</td><td>v3_1_1</td><td>v1_9_1</td><td>v5_5_36</td><td>v2_9</td><td>APOGEE-2&amp;MaNGA</td><td>MaNGA dither</td><td>250.198809457</td><td>20.9203892063</td><td>39.31210479</td><td>37.6944901945</td><td>250.19881</td><td>20.920389</td><td>0.0655438</td><td>12</td><td>10800.8</td><td>0</td><td>20.3004</td><td>55.3711</td><td>ma124</td><td>28</td><td>6</td><td>10443</td><td>251.53653</td><td>20.714771</td><td>1.02195</td><td>1.06415</td><td>1.16668</td><td>1.12002</td><td>1.34332</td><td>1.60174</td><td>0.661155</td><td>0.856835</td><td>0.872905</td><td>57931</td><td>58219</td><td>58220</td><td>2.51512</td><td>2.43578</td><td>2.41407</td><td>2.40396</td><td>1168</td><td>0</td><td>0</td><td>1</td><td>plateTargets-1.par</td><td>7591</td><td>J164047.71+205513.5</td><td>61</td><td>61</td><td>0</td><td>0.0231724</td><td>0.0151514</td><td>0.0238989</td><td>0.0329968</td><td>0.0346546</td><td>0.0151514</td><td>0.0238989</td><td>0.67973</td><td>1.89891</td><td>1.3129</td><td>1.36582</td><td>-999.0</td><td>-999.0</td><td>1.90111</td><td>1.31395</td><td>1.36695</td><td>279</td><td>4002</td><td>6</td><td>v1_0_1</td><td>311413</td><td>-999</td><td>0.0231724</td><td>0.0234281</td><td>-14.8653 .. -18.4455</td><td>-15.2485 .. -18.251</td><td>11.5305 .. 60.7202</td><td>1151810000.0</td><td>1256450000.0</td><td>0.60531</td><td>10.7086</td><td>0.547161 .. 0.0976177</td><td>6.26943</td><td>4.92342</td><td>14.28 .. 345.306</td><td>0.0669379 .. 0.00243575</td><td>14.9808 .. 372.752</td><td>0.0617042 .. 0.00054494</td><td>0.554109</td><td>1.36054</td><td>11.7777</td><td>6.50942</td><td>10.4877 .. 442.822</td><td>0.26552 .. 0.0391436</td></tr>\n",
       "<tr><td>9894</td><td>6104</td><td>9894-6104</td><td>1-294374</td><td>v3_1_1</td><td>v3_1_1</td><td>v1_9_1</td><td>v5_5_36</td><td>v2_9</td><td>APOGEE-2&amp;MaNGA</td><td>MaNGA dither</td><td>250.907826335</td><td>21.6912870652</td><td>40.4980337112</td><td>37.3130396177</td><td>250.90783</td><td>21.691287</td><td>0.0607422</td><td>12</td><td>10800.8</td><td>0</td><td>23.8658</td><td>54.8359</td><td>ma164</td><td>30</td><td>6</td><td>10443</td><td>251.53653</td><td>20.714771</td><td>1.0194</td><td>1.05759</td><td>1.15532</td><td>1.12002</td><td>1.34332</td><td>1.60174</td><td>0.661155</td><td>0.856835</td><td>0.872905</td><td>57931</td><td>58219</td><td>58220</td><td>2.492</td><td>2.43017</td><td>2.40482</td><td>2.38687</td><td>1168</td><td>0</td><td>0</td><td>1</td><td>plateTargets-1.par</td><td>7591</td><td>J164337.87+214128.6</td><td>61</td><td>61</td><td>0</td><td>0.0353909</td><td>0.0262787</td><td>0.0362221</td><td>0.0541594</td><td>0.0592655</td><td>0.0241647</td><td>0.037876</td><td>0.67973</td><td>0.664776</td><td>0.286057</td><td>0.308095</td><td>-999.0</td><td>-999.0</td><td>0.48617</td><td>0.247009</td><td>0.26327</td><td>52</td><td>4003</td><td>3</td><td>v1_0_1</td><td>311418</td><td>-999</td><td>0.0353909</td><td>0.0356642</td><td>-16.7361 .. -21.4553</td><td>-16.9727 .. -21.269</td><td>22.5515 .. 1042.22</td><td>26706000000.0</td><td>21762100000.0</td><td>0.773976</td><td>108.366</td><td>0.50426 .. 0.0899639</td><td>5.98559</td><td>5.47558</td><td>31.4313 .. 2476.03</td><td>0.0261367 .. 0.00269124</td><td>31.6342 .. 2530.12</td><td>0.0275594 .. 0.00309542</td><td>0.707862</td><td>2.21669</td><td>108.97</td><td>7.17905</td><td>25.6764 .. 2988.86</td><td>0.0715799 .. 0.0167918</td></tr>\n",
       "<tr><td>9894</td><td>9101</td><td>9894-9101</td><td>1-294459</td><td>v3_1_1</td><td>v3_1_1</td><td>v1_9_1</td><td>v5_5_36</td><td>v2_9</td><td>APOGEE-2&amp;MaNGA</td><td>MaNGA dither</td><td>251.257839055</td><td>20.5712105021</td><td>39.301200947</td><td>36.6444137052</td><td>251.25784</td><td>20.571211</td><td>0.0598561</td><td>12</td><td>10800.8</td><td>0</td><td>20.3004</td><td>55.3711</td><td>ma155-ma170</td><td>26</td><td>6</td><td>10443</td><td>251.53653</td><td>20.714771</td><td>1.02365</td><td>1.06073</td><td>1.15842</td><td>1.12002</td><td>1.34332</td><td>1.60174</td><td>0.661155</td><td>0.856835</td><td>0.872905</td><td>57931</td><td>58219</td><td>58220</td><td>2.51265</td><td>2.45889</td><td>2.42752</td><td>2.40137</td><td>2080</td><td>0</td><td>0</td><td>1</td><td>plateTargets-1.par</td><td>7591</td><td>J164501.88+203416.3</td><td>91</td><td>91</td><td>0</td><td>0.129538</td><td>0.0456745</td><td>0.0853011</td><td>0.122003</td><td>0.136054</td><td>0.038289</td><td>0.0941258</td><td>0.645944</td><td>-999.0</td><td>0.0194019</td><td>0.0208868</td><td>0.0390622</td><td>0.0455868</td><td>-999.0</td><td>0.0156741</td><td>0.0166291</td><td>168</td><td>3927</td><td>4</td><td>v1_0_1</td><td>311510</td><td>-999</td><td>0.129538</td><td>0.1298</td><td>-17.0487 .. -23.1116</td><td>-18.4548 .. -22.734</td><td>1.33624 .. 602.473</td><td>136738000000.0</td><td>107128000000.0</td><td>0.780211</td><td>169.946</td><td>0.494862 .. 0.0882872</td><td>4.62691</td><td>5.00199</td><td>3.46619 .. 637.103</td><td>0.0101162 .. 0.00227616</td><td>10.0302 .. 628.874</td><td>0.0156909 .. 0.0039229</td><td>0.630925</td><td>6.0</td><td>168.134</td><td>5.64252</td><td>2.44393 .. 878.825</td><td>0.0513997 .. 0.0160331</td></tr>\n",
       "<tr><td>9894</td><td>9102</td><td>9894-9102</td><td>1-550782</td><td>v3_1_1</td><td>v3_1_1</td><td>v1_9_1</td><td>v5_5_36</td><td>v2_9</td><td>APOGEE-2&amp;MaNGA</td><td>MaNGA dither</td><td>251.605155457</td><td>19.769592709</td><td>38.4972507481</td><td>36.0702213331</td><td>251.60516</td><td>19.769593</td><td>0.0723282</td><td>12</td><td>10800.8</td><td>0</td><td>23.8658</td><td>54.8359</td><td>ma125</td><td>33</td><td>6</td><td>10443</td><td>251.53653</td><td>20.714771</td><td>1.0267</td><td>1.0628</td><td>1.15999</td><td>1.12002</td><td>1.34332</td><td>1.60174</td><td>0.661155</td><td>0.856835</td><td>0.872905</td><td>57931</td><td>58219</td><td>58220</td><td>2.52332</td><td>2.48736</td><td>2.45578</td><td>2.42947</td><td>1168</td><td>0</td><td>0</td><td>1</td><td>plateTargets-1.par</td><td>7591</td><td>J164625.11+194611.5</td><td>91</td><td>91</td><td>0</td><td>0.0231664</td><td>0.0174782</td><td>0.0252335</td><td>0.0360608</td><td>0.0403269</td><td>0.0171492</td><td>0.0259227</td><td>0.67973</td><td>1.80336</td><td>0.755796</td><td>0.815256</td><td>-999.0</td><td>-999.0</td><td>1.5654</td><td>0.710529</td><td>0.762833</td><td>291</td><td>4002</td><td>6</td><td>v1_0_1</td><td>583187</td><td>-999</td><td>0.0231664</td><td>0.0234213</td><td>-16.665 .. -18.8875</td><td>-16.5978 .. -18.9289</td><td>57.1114 .. 653.165</td><td>616364000.0</td><td>656051000.0</td><td>0.484479</td><td>75.2506</td><td>0.596242 .. 0.106374</td><td>7.46722</td><td>4.74485</td><td>45.7569 .. 613.909</td><td>0.0406861 .. 0.0047201</td><td>48.9671 .. 700.596</td><td>0.0309016 .. 0.00380609</td><td>0.418231</td><td>1.26898</td><td>77.9034</td><td>8.32261</td><td>52.3551 .. 676.246</td><td>0.0326112 .. 0.017588</td></tr>\n",
       "</table></div>"
      ],
      "text/plain": [
       "<Table length=11273>\n",
       "plate ifudsgn   plateifu  ...  nsa_sersic_flux [7]   nsa_sersic_flux_ivar [7]\n",
       "int64 bytes32   bytes32   ...        float64                 float64         \n",
       "----- ------- ----------- ... ---------------------- ------------------------\n",
       "10001   12701 10001-12701 ...      14.8124 .. 412.19     2.50888 .. 0.0150605\n",
       "10001   12702 10001-12702 ...     10.1128 .. 432.884    3.38905 .. 0.00964978\n",
       "10001   12703 10001-12703 ...     9.82225 .. 820.242     2.79287 .. 0.0443689\n",
       "10001   12704 10001-12704 ...      17.8616 .. 2923.9    2.16404 .. 0.00123046\n",
       "10001   12705 10001-12705 ...     26.1276 .. 967.317     1.54431 .. 0.0197392\n",
       "10001    1901  10001-1901 ...     0.22379 .. 272.376      53.8388 .. 0.192634\n",
       "10001    1902  10001-1902 ...     1.50866 .. 2698.41    38.4902 .. 0.00812918\n",
       "10001    3701  10001-3701 ...   0.0496394 .. 528.956     47.3829 .. 0.0898817\n",
       "10001    3702  10001-3702 ...      42.0745 .. 1376.8     0.475689 .. 0.018242\n",
       "10001    3703  10001-3703 ...     6.63333 .. 352.845     0.44931 .. 0.0743321\n",
       "  ...     ...         ... ...                    ...                      ...\n",
       " 9894    3701   9894-3701 ... 1.76269e-05 .. 3869.69   0.154765 .. 0.00360267\n",
       " 9894    3702   9894-3702 ...     14.4303 .. 2270.71    0.235995 .. 0.0127419\n",
       " 9894    3703   9894-3703 ...     32.8385 .. 3871.36  0.0557237 .. 0.00505971\n",
       " 9894    3704   9894-3704 ...     3.32084 .. 1386.43    0.190305 .. 0.0408235\n",
       " 9894    6101   9894-6101 ...     6.22057 .. 1028.39    0.143361 .. 0.0265085\n",
       " 9894    6102   9894-6102 ...     28.9216 .. 480.761    0.102517 .. 0.0375727\n",
       " 9894    6103   9894-6103 ...     10.4877 .. 442.822     0.26552 .. 0.0391436\n",
       " 9894    6104   9894-6104 ...     25.6764 .. 2988.86   0.0715799 .. 0.0167918\n",
       " 9894    9101   9894-9101 ...     2.44393 .. 878.825   0.0513997 .. 0.0160331\n",
       " 9894    9102   9894-9102 ...     52.3551 .. 676.246    0.0326112 .. 0.017588"
      ]
     },
     "execution_count": 4,
     "metadata": {},
     "output_type": "execute_result"
    }
   ],
   "source": [
    "drpall = Table.read(drpall_file, format = 'fits', hdu = 1)\n",
    "drpall"
   ]
  },
  {
   "cell_type": "markdown",
   "id": "d48caeff-8448-4643-b858-00c8d78da103",
   "metadata": {
    "jp-MarkdownHeadingCollapsed": true,
    "tags": []
   },
   "source": [
    "### Plotting Data"
   ]
  },
  {
   "cell_type": "code",
   "execution_count": 5,
   "id": "786b8f38-c5eb-4b4c-b166-d21f24c4d24e",
   "metadata": {},
   "outputs": [],
   "source": [
    "def plot_gp(RA,Dec,org=0,title='Mollweide projection', projection='mollweide'):\n",
    "    ''' RA, Dec are arrays of the same length.\n",
    "    RA takes values in [0,360), Dec in [-90,90],\n",
    "    which represent angles in degrees.\n",
    "    org is the origin of the plot, 0 or a multiple of 30 degrees in [0,360).\n",
    "    title is the title of the figure.\n",
    "    projection is the kind of projection: 'mollweide', 'aitoff', 'hammer', 'lambert'\n",
    "    '''\n",
    "    x = np.remainder(RA+360-org,360) # shift RA values\n",
    "    ind = x>180\n",
    "    x[ind] -=360    # scale conversion to [-180, 180]\n",
    "    x=-x    # reverse the scale: East to the left\n",
    "    tick_labels = np.array([150, 120, 90, 60, 30, 0, 330, 300, 270, 240, 210])\n",
    "    tick_labels = np.remainder(tick_labels+360+org,360)\n",
    "    fig = plt.figure(figsize=(10, 5))\n",
    "    ax = fig.add_subplot(111, projection=projection)\n",
    "    ax.scatter(np.radians(x),np.radians(Dec))  # convert degrees to radians\n",
    "    ax.set_xticklabels(tick_labels)     # we add the scale on the x axis\n",
    "    ax.set_title(title)\n",
    "    ax.title.set_fontsize(15)\n",
    "    ax.set_xlabel(\"RA\")\n",
    "    ax.xaxis.label.set_fontsize(12)\n",
    "    ax.set_ylabel(\"Dec\")\n",
    "    ax.yaxis.label.set_fontsize(12)\n",
    "    ax.grid(True)"
   ]
  },
  {
   "cell_type": "code",
   "execution_count": 6,
   "id": "12eaf729-e30d-4fdf-8614-3c7d33b260ab",
   "metadata": {},
   "outputs": [],
   "source": [
    "def plot_mwd(RA,Dec,RAII,DecII,name,org=0,title='Mollweide projection', projection='mollweide'):\n",
    "    ''' RA, Dec are arrays of the same length.\n",
    "    RA takes values in [0,360), Dec in [-90,90],\n",
    "    which represent angles in degrees.\n",
    "    org is the origin of the plot, 0 or a multiple of 30 degrees in [0,360).\n",
    "    title is the title of the figure.\n",
    "    projection is the kind of projection: 'mollweide', 'aitoff', 'hammer', 'lambert'\n",
    "    '''\n",
    "    x = np.remainder(RA+360-org,360) # shift RA values\n",
    "    ind = x>180\n",
    "    x[ind] -=360    # scale conversion to [-180, 180]\n",
    "    x=-x    # reverse the scale: East to the left\n",
    "    y = np.remainder(RAII+360-org,360) # shift RA values\n",
    "    indy = y>180\n",
    "    y[indy] -=360    # scale conversion to [-180, 180]\n",
    "    y=-y    # reverse the scale: East to the left\n",
    "    tick_labels = np.array([150, 120, 90, 60, 30, 0, 330, 300, 270, 240, 210])\n",
    "    tick_labels = np.remainder(tick_labels+360+org,360)\n",
    "    fig = plt.figure(figsize=(10, 8))\n",
    "    ax = fig.add_subplot(111, projection=projection)\n",
    "    ax.scatter(np.radians(x),np.radians(Dec), color='blue', marker='o', zorder=2)  # convert degrees to radians\n",
    "    for i, txt in enumerate(name):\n",
    "        ax.annotate(txt, (np.radians(x[i]), np.radians(Dec[i])))\n",
    "    ax.scatter(np.radians(y),np.radians(DecII), color='orange', marker='o', zorder=1)\n",
    "    ax.set_xticklabels(tick_labels)     # we add the scale on the x axis\n",
    "    ax.set_title(title)\n",
    "    ax.title.set_fontsize(15)\n",
    "    ax.set_xlabel(\"RA\")\n",
    "    ax.xaxis.label.set_fontsize(12)\n",
    "    ax.set_ylabel(\"Dec\")\n",
    "    ax.yaxis.label.set_fontsize(12)\n",
    "    ax.grid(True)"
   ]
  },
  {
   "cell_type": "code",
   "execution_count": 7,
   "id": "8018f2de-d3e9-48b0-9c19-7b298fe48825",
   "metadata": {},
   "outputs": [],
   "source": [
    "drpallRA = drpall['objra']\n",
    "drpallDec = drpall['objdec']"
   ]
  },
  {
   "cell_type": "code",
   "execution_count": 8,
   "id": "6f7851f5-8779-45fe-9154-8c929d0984ef",
   "metadata": {},
   "outputs": [
    {
     "data": {
      "image/png": "[encoded data removed]",
      "text/plain": [
       "<Figure size 720x360 with 1 Axes>"
      ]
     },
     "metadata": {
      "needs_background": "light"
     },
     "output_type": "display_data"
    }
   ],
   "source": [
    "plot_gp(drpallRA, drpallDec, 120, 'MaNGA')"
   ]
  },
  {
   "cell_type": "markdown",
   "id": "e553f6cb-892f-498d-8b68-40238fa3998c",
   "metadata": {
    "jp-MarkdownHeadingCollapsed": true,
    "tags": []
   },
   "source": [
    "### Plot MaNGA and CosmicFlows-4"
   ]
  },
  {
   "cell_type": "code",
   "execution_count": 9,
   "id": "6bae1669-bec5-44e2-82dd-541e5578362f",
   "metadata": {},
   "outputs": [],
   "source": [
    "name = ['Virgo', 'NGC 70', 'NGC 80', 'NGC 410', 'NGC 507', 'Abell 262', 'Abell 400', 'Fornax', 'Antlia', 'Hydra', 'Abell 1367', 'NGC 4065', 'Centaurus', 'Coma', 'Abell 2151', 'Pegasus', 'Abell 2634/66', 'Abell 539', 'Ursa Major', 'Cancer']\n",
    "coord = np.array([(186,13), (3.95,29.8), (4.64,22.08), (17.05,32.89), (20.21,-32.99), (27.48,35.90), (43.75,5.81), (54.14,-35.61), (156.86,-35.07), (158.56,-27.26), (175.54,19.98), (180.39,23.51), (191.53,-41.03), (194.95, 28), (240.75, 17.88), (350.06,8.21), (353.95,-26.75), (79.15,6.45), (179.40,53.37), (181.03,18.24)])"
   ]
  },
  {
   "cell_type": "code",
   "execution_count": 10,
   "id": "d350c8c5-ecac-4c57-b973-b8c46c66be6d",
   "metadata": {},
   "outputs": [
    {
     "data": {
      "image/png": "[encoded data removed]",
      "text/plain": [
       "<Figure size 720x576 with 1 Axes>"
      ]
     },
     "metadata": {
      "needs_background": "light"
     },
     "output_type": "display_data"
    }
   ],
   "source": [
    "plot_mwd(coord[:,0],coord[:,1],drpallRA, drpallDec, name,org=120, title = 'MaNGA & Clusters')"
   ]
  },
  {
   "cell_type": "markdown",
   "id": "5ce74541-c59a-49c5-8634-343740921d82",
   "metadata": {
    "tags": []
   },
   "source": [
    "# SGA Catalog"
   ]
  },
  {
   "cell_type": "code",
   "execution_count": 126,
   "id": "a968c6a2-21e9-47e3-beb8-2af3ef799b3b",
   "metadata": {},
   "outputs": [
    {
     "data": {
      "text/html": [
       "<div><i>Table length=10</i>\n",
       "<table id=\"table23453695756272\" class=\"table-striped table-bordered table-condensed\">\n",
       "<thead><tr><th>SGA_ID</th><th>SGA_GALAXY</th><th>GALAXY</th><th>PGC</th><th>RA_LEDA</th><th>DEC_LEDA</th><th>MORPHTYPE</th><th>PA_LEDA</th><th>D25_LEDA</th><th>BA_LEDA</th><th>Z_LEDA</th><th>SB_D25_LEDA</th><th>MAG_LEDA</th><th>BYHAND</th><th>REF</th><th>GROUP_ID</th><th>GROUP_NAME</th><th>GROUP_MULT</th><th>GROUP_PRIMARY</th><th>GROUP_RA</th><th>GROUP_DEC</th><th>GROUP_DIAMETER</th><th>BRICKNAME</th><th>RA</th><th>DEC</th><th>D26</th><th>D26_REF</th><th>PA</th><th>BA</th><th>RA_MOMENT</th><th>DEC_MOMENT</th><th>SMA_MOMENT</th><th>G_SMA50</th><th>R_SMA50</th><th>Z_SMA50</th><th>SMA_SB22</th><th>SMA_SB22.5</th><th>SMA_SB23</th><th>SMA_SB23.5</th><th>SMA_SB24</th><th>SMA_SB24.5</th><th>SMA_SB25</th><th>SMA_SB25.5</th><th>SMA_SB26</th><th>G_MAG_SB22</th><th>R_MAG_SB22</th><th>Z_MAG_SB22</th><th>G_MAG_SB22.5</th><th>R_MAG_SB22.5</th><th>Z_MAG_SB22.5</th><th>G_MAG_SB23</th><th>R_MAG_SB23</th><th>Z_MAG_SB23</th><th>G_MAG_SB23.5</th><th>R_MAG_SB23.5</th><th>Z_MAG_SB23.5</th><th>G_MAG_SB24</th><th>R_MAG_SB24</th><th>Z_MAG_SB24</th><th>G_MAG_SB24.5</th><th>R_MAG_SB24.5</th><th>Z_MAG_SB24.5</th><th>G_MAG_SB25</th><th>R_MAG_SB25</th><th>Z_MAG_SB25</th><th>G_MAG_SB25.5</th><th>R_MAG_SB25.5</th><th>Z_MAG_SB25.5</th><th>G_MAG_SB26</th><th>R_MAG_SB26</th><th>Z_MAG_SB26</th><th>SMA_SB22_ERR</th><th>SMA_SB22.5_ERR</th><th>SMA_SB23_ERR</th><th>SMA_SB23.5_ERR</th><th>SMA_SB24_ERR</th><th>SMA_SB24.5_ERR</th><th>SMA_SB25_ERR</th><th>SMA_SB25.5_ERR</th><th>SMA_SB26_ERR</th><th>G_MAG_SB22_ERR</th><th>R_MAG_SB22_ERR</th><th>Z_MAG_SB22_ERR</th><th>G_MAG_SB22.5_ERR</th><th>R_MAG_SB22.5_ERR</th><th>Z_MAG_SB22.5_ERR</th><th>G_MAG_SB23_ERR</th><th>R_MAG_SB23_ERR</th><th>Z_MAG_SB23_ERR</th><th>G_MAG_SB23.5_ERR</th><th>R_MAG_SB23.5_ERR</th><th>Z_MAG_SB23.5_ERR</th><th>G_MAG_SB24_ERR</th><th>R_MAG_SB24_ERR</th><th>Z_MAG_SB24_ERR</th><th>G_MAG_SB24.5_ERR</th><th>R_MAG_SB24.5_ERR</th><th>Z_MAG_SB24.5_ERR</th><th>G_MAG_SB25_ERR</th><th>R_MAG_SB25_ERR</th><th>Z_MAG_SB25_ERR</th><th>G_MAG_SB25.5_ERR</th><th>R_MAG_SB25.5_ERR</th><th>Z_MAG_SB25.5_ERR</th><th>G_MAG_SB26_ERR</th><th>R_MAG_SB26_ERR</th><th>Z_MAG_SB26_ERR</th><th>G_COG_PARAMS_MTOT</th><th>G_COG_PARAMS_M0</th><th>G_COG_PARAMS_ALPHA1</th><th>G_COG_PARAMS_ALPHA2</th><th>G_COG_PARAMS_CHI2</th><th>R_COG_PARAMS_MTOT</th><th>R_COG_PARAMS_M0</th><th>R_COG_PARAMS_ALPHA1</th><th>R_COG_PARAMS_ALPHA2</th><th>R_COG_PARAMS_CHI2</th><th>Z_COG_PARAMS_MTOT</th><th>Z_COG_PARAMS_M0</th><th>Z_COG_PARAMS_ALPHA1</th><th>Z_COG_PARAMS_ALPHA2</th><th>Z_COG_PARAMS_CHI2</th><th>ELLIPSEBIT</th></tr></thead>\n",
       "<thead><tr><th>int64</th><th>bytes16</th><th>bytes29</th><th>int64</th><th>float64</th><th>float64</th><th>bytes21</th><th>float32</th><th>float32</th><th>float32</th><th>float32</th><th>float32</th><th>float32</th><th>bool</th><th>bytes13</th><th>int64</th><th>bytes35</th><th>int16</th><th>bool</th><th>float64</th><th>float64</th><th>float32</th><th>bytes8</th><th>float64</th><th>float64</th><th>float32</th><th>bytes4</th><th>float32</th><th>float32</th><th>float64</th><th>float64</th><th>float32</th><th>float32</th><th>float32</th><th>float32</th><th>float32</th><th>float32</th><th>float32</th><th>float32</th><th>float32</th><th>float32</th><th>float32</th><th>float32</th><th>float32</th><th>float32</th><th>float32</th><th>float32</th><th>float32</th><th>float32</th><th>float32</th><th>float32</th><th>float32</th><th>float32</th><th>float32</th><th>float32</th><th>float32</th><th>float32</th><th>float32</th><th>float32</th><th>float32</th><th>float32</th><th>float32</th><th>float32</th><th>float32</th><th>float32</th><th>float32</th><th>float32</th><th>float32</th><th>float32</th><th>float32</th><th>float32</th><th>float32</th><th>float32</th><th>float32</th><th>float32</th><th>float32</th><th>float32</th><th>float32</th><th>float32</th><th>float32</th><th>float32</th><th>float32</th><th>float32</th><th>float32</th><th>float32</th><th>float32</th><th>float32</th><th>float32</th><th>float32</th><th>float32</th><th>float32</th><th>float32</th><th>float32</th><th>float32</th><th>float32</th><th>float32</th><th>float32</th><th>float32</th><th>float32</th><th>float32</th><th>float32</th><th>float32</th><th>float32</th><th>float32</th><th>float32</th><th>float32</th><th>float32</th><th>float32</th><th>float32</th><th>float32</th><th>float32</th><th>float32</th><th>float32</th><th>float32</th><th>float32</th><th>float32</th><th>float32</th><th>float32</th><th>float32</th><th>float32</th><th>float32</th><th>float32</th><th>int32</th></tr></thead>\n",
       "<tr><td>2</td><td>SGA-2020 2</td><td>PGC1283207</td><td>1283207</td><td>228.3770865</td><td>5.4232017</td><td>S?</td><td>152.2</td><td>0.36307806</td><td>0.724436</td><td>0.03463229</td><td>23.40448</td><td>16.976</td><td>False</td><td>LEDA-20181114</td><td>0</td><td>PGC1283207</td><td>1</td><td>True</td><td>228.3770865</td><td>5.4232017</td><td>0.36307806</td><td>2283p055</td><td>228.3770803831908</td><td>5.423191398593787</td><td>0.49470574</td><td>SB26</td><td>158.20142</td><td>0.545691</td><td>228.37700918822188</td><td>5.4232652570544015</td><td>10.897086</td><td>3.3509698</td><td>3.1147978</td><td>3.240862</td><td>5.902337</td><td>6.9126143</td><td>7.941369</td><td>8.997992</td><td>10.073601</td><td>11.199986</td><td>12.391357</td><td>13.561038</td><td>14.841172</td><td>16.966799</td><td>16.108246</td><td>15.486356</td><td>16.879545</td><td>16.024958</td><td>15.400715</td><td>16.818878</td><td>15.967034</td><td>15.341793</td><td>16.776297</td><td>15.925804</td><td>15.300776</td><td>16.746685</td><td>15.897334</td><td>15.272053</td><td>16.725166</td><td>15.876816</td><td>15.2521105</td><td>16.708357</td><td>15.862035</td><td>15.237181</td><td>16.696539</td><td>15.851936</td><td>15.226998</td><td>16.689613</td><td>15.844313</td><td>15.21976</td><td>0.013392451</td><td>0.02354</td><td>0.021872982</td><td>0.01736985</td><td>0.024445537</td><td>0.039866067</td><td>0.05026544</td><td>0.08455789</td><td>0.122911856</td><td>0.005682776</td><td>0.0054258136</td><td>0.0049038026</td><td>0.005588406</td><td>0.005323561</td><td>0.0047632363</td><td>0.00543534</td><td>0.005177031</td><td>0.0046343105</td><td>0.0053025587</td><td>0.005040888</td><td>0.0045181247</td><td>0.005206092</td><td>0.0049438984</td><td>0.0044374703</td><td>0.0051483097</td><td>0.0048758644</td><td>0.0043834248</td><td>0.0051032505</td><td>0.0048264163</td><td>0.004344248</td><td>0.0050705094</td><td>0.004792021</td><td>0.004319857</td><td>0.005054293</td><td>0.004765629</td><td>0.0043044444</td><td>16.65942</td><td>0.34037337</td><td>0.2978292</td><td>3.0239506</td><td>0.07928849</td><td>15.820566</td><td>0.2640441</td><td>0.34559453</td><td>3.3033552</td><td>0.003811298</td><td>15.195567</td><td>0.29826432</td><td>0.3001073</td><td>3.2333765</td><td>0.011723555</td><td>0</td></tr>\n",
       "<tr><td>3</td><td>SGA-2020 3</td><td>PGC1310416</td><td>1310416</td><td>202.54443750000002</td><td>6.9345944</td><td>Sc</td><td>159.26</td><td>0.4017908</td><td>0.7816278</td><td>0.073888786</td><td>23.498482</td><td>16.85</td><td>False</td><td>LEDA-20181114</td><td>1</td><td>PGC1310416</td><td>1</td><td>True</td><td>202.54443750000002</td><td>6.9345944</td><td>0.4017908</td><td>2025p070</td><td>202.5444619671207</td><td>6.9346244322326624</td><td>0.55350494</td><td>SB26</td><td>161.5937</td><td>0.7291764</td><td>202.54432739596137</td><td>6.934806737209989</td><td>15.746941</td><td>5.6416235</td><td>5.2647552</td><td>5.0895185</td><td>5.9838247</td><td>7.4356494</td><td>8.728868</td><td>10.087478</td><td>11.529764</td><td>12.818195</td><td>14.115497</td><td>15.319822</td><td>16.605148</td><td>16.963299</td><td>16.307854</td><td>15.806882</td><td>16.729511</td><td>16.097378</td><td>15.615527</td><td>16.606344</td><td>15.990707</td><td>15.518403</td><td>16.525967</td><td>15.917321</td><td>15.450624</td><td>16.462585</td><td>15.859485</td><td>15.397182</td><td>16.419558</td><td>15.820947</td><td>15.36243</td><td>16.390558</td><td>15.796369</td><td>15.338905</td><td>16.376112</td><td>15.782492</td><td>15.323709</td><td>16.364115</td><td>15.773462</td><td>15.313725</td><td>0.036992554</td><td>0.034982767</td><td>0.037769336</td><td>0.049429573</td><td>0.052699674</td><td>0.074114166</td><td>0.07914538</td><td>0.09781406</td><td>0.15534972</td><td>0.016095797</td><td>0.019181909</td><td>0.021539452</td><td>0.013955905</td><td>0.016594552</td><td>0.018640138</td><td>0.012786752</td><td>0.015244632</td><td>0.01715491</td><td>0.011973826</td><td>0.014366956</td><td>0.016208366</td><td>0.011358372</td><td>0.013676575</td><td>0.015474222</td><td>0.010944939</td><td>0.013225297</td><td>0.015011175</td><td>0.010691595</td><td>0.012931233</td><td>0.014687982</td><td>0.010546411</td><td>0.012796015</td><td>0.014518412</td><td>0.010457551</td><td>0.012685407</td><td>0.014379212</td><td>16.284733</td><td>1.0914493</td><td>0.24674739</td><td>2.4320207</td><td>0.68685365</td><td>15.704403</td><td>0.8764323</td><td>0.27360612</td><td>2.4995425</td><td>0.49343896</td><td>15.235263</td><td>1.3098688</td><td>0.17866786</td><td>2.1750498</td><td>0.20391206</td><td>0</td></tr>\n",
       "<tr><td>4</td><td>SGA-2020 4</td><td>SDSSJ145059.93+135143.0</td><td>4435547</td><td>222.749787</td><td>13.8619111</td><td>S?</td><td>44.57</td><td>0.33342642</td><td>0.6637431</td><td>0.07567602</td><td>24.457481</td><td>18.214</td><td>False</td><td>LEDA-20181114</td><td>2</td><td>SDSSJ145059.93+135143.0</td><td>1</td><td>True</td><td>222.749787</td><td>13.8619111</td><td>0.33342642</td><td>2228p137</td><td>222.7497050504303</td><td>13.861929561160224</td><td>0.37067476</td><td>SB26</td><td>45.28537</td><td>0.70922077</td><td>222.749650475464</td><td>13.862052070022896</td><td>8.877115</td><td>4.652771</td><td>4.4837785</td><td>4.4959745</td><td>2.01033</td><td>3.3967943</td><td>4.76257</td><td>6.043787</td><td>7.242806</td><td>8.250407</td><td>9.158723</td><td>10.083457</td><td>11.120243</td><td>19.97595</td><td>19.190666</td><td>18.649523</td><td>19.098536</td><td>18.397219</td><td>17.899643</td><td>18.624952</td><td>17.967802</td><td>17.50231</td><td>18.35278</td><td>17.718002</td><td>17.265854</td><td>18.192762</td><td>17.5654</td><td>17.115404</td><td>18.10496</td><td>17.480022</td><td>17.033989</td><td>18.053415</td><td>17.430794</td><td>16.982971</td><td>18.020155</td><td>17.399996</td><td>16.948252</td><td>17.994783</td><td>17.377092</td><td>16.924469</td><td>0.02113719</td><td>0.03639431</td><td>0.051901262</td><td>0.06539029</td><td>0.08552586</td><td>0.07008602</td><td>0.070394725</td><td>0.08394975</td><td>0.113649584</td><td>0.013428732</td><td>0.017600043</td><td>0.016373685</td><td>0.012251812</td><td>0.014566466</td><td>0.013732588</td><td>0.012644532</td><td>0.014030071</td><td>0.013153961</td><td>0.012747069</td><td>0.013512552</td><td>0.012818239</td><td>0.012865601</td><td>0.01324455</td><td>0.012532208</td><td>0.012762528</td><td>0.013058522</td><td>0.012420634</td><td>0.01252645</td><td>0.012827468</td><td>0.012283978</td><td>0.012320441</td><td>0.012607317</td><td>0.012104107</td><td>0.0121167945</td><td>0.01244376</td><td>0.011985352</td><td>17.896797</td><td>0.5557265</td><td>0.25455818</td><td>3.167909</td><td>1.0522435</td><td>17.28287</td><td>0.4885815</td><td>0.2782499</td><td>3.2144456</td><td>1.3733263</td><td>16.807674</td><td>0.5177045</td><td>0.32264626</td><td>2.900518</td><td>1.8054093</td><td>0</td></tr>\n",
       "<tr><td>7</td><td>SGA-2020 7</td><td>PGC1742504</td><td>1742504</td><td>182.0888085</td><td>25.6022764</td><td>Sbc</td><td>84.97</td><td>0.548277</td><td>0.25118864</td><td>0.10090814</td><td>24.91348</td><td>17.59</td><td>False</td><td>LEDA-20181114</td><td>3</td><td>PGC1742504</td><td>1</td><td>True</td><td>182.0888085</td><td>25.6022764</td><td>0.548277</td><td>1820p255</td><td>182.08882232629614</td><td>25.60226821438983</td><td>0.8883204</td><td>SB26</td><td>84.857475</td><td>0.19753796</td><td>182.08873760544392</td><td>25.602311195157757</td><td>19.779116</td><td>6.5958204</td><td>6.0386286</td><td>5.8089786</td><td>9.279068</td><td>10.949478</td><td>12.652142</td><td>14.446171</td><td>16.323679</td><td>18.392954</td><td>20.915508</td><td>23.566542</td><td>26.649612</td><td>17.390274</td><td>16.360935</td><td>15.531964</td><td>17.285898</td><td>16.262264</td><td>15.440768</td><td>17.2167</td><td>16.195492</td><td>15.380734</td><td>17.16217</td><td>16.144245</td><td>15.334935</td><td>17.130178</td><td>16.110302</td><td>15.304758</td><td>17.104496</td><td>16.084463</td><td>15.280803</td><td>17.081282</td><td>16.061373</td><td>15.2589855</td><td>17.063671</td><td>16.045204</td><td>15.243196</td><td>17.046705</td><td>16.031244</td><td>15.23268</td><td>0.04351465</td><td>0.055440858</td><td>0.052207235</td><td>0.07507412</td><td>0.0793679</td><td>0.10347854</td><td>0.13569456</td><td>0.13104819</td><td>0.17234002</td><td>0.03885276</td><td>0.03744209</td><td>0.03786608</td><td>0.035534665</td><td>0.03441038</td><td>0.03503794</td><td>0.033557214</td><td>0.032548346</td><td>0.033348277</td><td>0.031964395</td><td>0.03106612</td><td>0.031957533</td><td>0.031133845</td><td>0.030202182</td><td>0.031190341</td><td>0.030430589</td><td>0.029511228</td><td>0.030530946</td><td>0.02975241</td><td>0.028853998</td><td>0.029866546</td><td>0.02928568</td><td>0.0284345</td><td>0.029445464</td><td>0.028843498</td><td>0.028076617</td><td>0.029169334</td><td>16.995174</td><td>21.083004</td><td>0.0164273</td><td>1.9079465</td><td>0.029703742</td><td>15.991165</td><td>0.7657307</td><td>0.52285546</td><td>2.3045986</td><td>0.006013103</td><td>15.191324</td><td>1.0408205</td><td>0.32956335</td><td>2.1520333</td><td>0.004725194</td><td>0</td></tr>\n",
       "<tr><td>18</td><td>SGA-2020 18</td><td>2MASXJ12340801+4535444</td><td>3550748</td><td>188.5335525</td><td>45.5956434</td><td>E</td><td>168.65</td><td>0.53088444</td><td>0.6950243</td><td>0.07609531</td><td>23.97948</td><td>16.726</td><td>False</td><td>LEDA-20181114</td><td>4</td><td>2MASXJ12340801+4535444</td><td>1</td><td>True</td><td>188.5335525</td><td>45.5956434</td><td>0.53088444</td><td>1883p455</td><td>188.53364923054596</td><td>45.595620212931856</td><td>0.73435897</td><td>SB26</td><td>166.25127</td><td>0.70995796</td><td>188.53349052789085</td><td>45.59567446403057</td><td>15.694805</td><td>5.091253</td><td>4.670616</td><td>2.9429996</td><td>5.219665</td><td>6.6119533</td><td>8.228266</td><td>10.109745</td><td>12.170589</td><td>14.364073</td><td>16.722517</td><td>19.18709</td><td>22.03077</td><td>17.208511</td><td>16.224203</td><td>15.566424</td><td>17.050343</td><td>16.080097</td><td>15.443468</td><td>16.921791</td><td>15.962402</td><td>15.347263</td><td>16.814959</td><td>15.864242</td><td>15.27134</td><td>16.729906</td><td>15.787886</td><td>15.218466</td><td>16.664564</td><td>15.730083</td><td>15.182751</td><td>16.61991</td><td>15.686324</td><td>15.1601305</td><td>16.585676</td><td>15.654064</td><td>15.148039</td><td>16.558054</td><td>15.629669</td><td>15.141826</td><td>0.032001704</td><td>0.043849397</td><td>0.045203492</td><td>0.072918765</td><td>0.06263939</td><td>0.07675708</td><td>0.10399303</td><td>0.07780949</td><td>0.14017467</td><td>0.016467415</td><td>0.021250801</td><td>0.032092847</td><td>0.0149329165</td><td>0.019061867</td><td>0.028947951</td><td>0.01369758</td><td>0.01736746</td><td>0.026648495</td><td>0.012623343</td><td>0.015980754</td><td>0.024998168</td><td>0.011793644</td><td>0.014977396</td><td>0.023862366</td><td>0.011184664</td><td>0.014255281</td><td>0.023120966</td><td>0.010785815</td><td>0.013740733</td><td>0.022603082</td><td>0.010472503</td><td>0.013351409</td><td>0.022360764</td><td>0.010212836</td><td>0.013043255</td><td>0.022296576</td><td>16.471447</td><td>0.3236818</td><td>1.9206839</td><td>2.3249283</td><td>0.0973919</td><td>15.540598</td><td>0.3247282</td><td>1.7439244</td><td>2.1774826</td><td>0.023485765</td><td>15.124181</td><td>0.16547345</td><td>1.4694684</td><td>3.3948786</td><td>0.028653827</td><td>0</td></tr>\n",
       "<tr><td>20</td><td>SGA-2020 20</td><td>SDSSJ173412.71+572041.6</td><td>3331584</td><td>263.5529355</td><td>57.34490699999999</td><td>S?</td><td>152.58</td><td>0.4487454</td><td>0.5333349</td><td>0.08364453</td><td>24.92448</td><td>18.036</td><td>False</td><td>LEDA-20181114</td><td>5</td><td>SDSSJ173412.71+572041.6</td><td>1</td><td>True</td><td>263.5529355</td><td>57.34490699999999</td><td>0.4487454</td><td>2635p572</td><td>263.55294849855886</td><td>57.344862145664294</td><td>0.4460123</td><td>SB26</td><td>152.3756</td><td>0.5778338</td><td>263.5528114673963</td><td>57.34481025685253</td><td>10.459747</td><td>5.9780583</td><td>5.751067</td><td>4.821581</td><td>1.4858595</td><td>3.4448266</td><td>5.1149526</td><td>6.748707</td><td>8.426254</td><td>9.720271</td><td>11.022999</td><td>12.0887985</td><td>13.380368</td><td>20.656942</td><td>20.044735</td><td>19.40886</td><td>19.194794</td><td>18.66572</td><td>18.231262</td><td>18.599888</td><td>18.123905</td><td>17.745926</td><td>18.256256</td><td>17.807074</td><td>17.476473</td><td>18.040592</td><td>17.60353</td><td>17.319197</td><td>17.926336</td><td>17.500519</td><td>17.228865</td><td>17.85259</td><td>17.42695</td><td>17.180876</td><td>17.811844</td><td>17.39206</td><td>17.151228</td><td>17.783718</td><td>17.36542</td><td>17.143204</td><td>0.02069058</td><td>0.026094317</td><td>0.03480586</td><td>0.05076174</td><td>0.08751116</td><td>0.10309491</td><td>0.08337893</td><td>0.10982923</td><td>0.13734566</td><td>0.031223593</td><td>0.046367057</td><td>0.0777883</td><td>0.015935475</td><td>0.020728666</td><td>0.032657374</td><td>0.012760426</td><td>0.014699919</td><td>0.022893604</td><td>0.010505663</td><td>0.011998588</td><td>0.018923525</td><td>0.010358521</td><td>0.011374098</td><td>0.017719442</td><td>0.010557283</td><td>0.0112259</td><td>0.017149422</td><td>0.010553381</td><td>0.011049819</td><td>0.017135512</td><td>0.010413324</td><td>0.010993488</td><td>0.01699026</td><td>0.010291049</td><td>0.010862263</td><td>0.017057167</td><td>17.6411</td><td>0.6362121</td><td>0.53480667</td><td>2.8045392</td><td>1.7123051</td><td>17.22401</td><td>0.6144014</td><td>0.53440714</td><td>2.7180903</td><td>2.1161501</td><td>17.062769</td><td>0.44818503</td><td>0.43006793</td><td>3.1755726</td><td>0.97457016</td><td>0</td></tr>\n",
       "<tr><td>24</td><td>SGA-2020 24</td><td>PGC2162969</td><td>2162969</td><td>247.42443000000003</td><td>40.24824</td><td>S?</td><td>0.0</td><td>0.43451023</td><td>0.91201085</td><td>0.030465743</td><td>23.110481</td><td>16.292</td><td>False</td><td>LEDA-20181114</td><td>6</td><td>PGC200157_GROUP</td><td>2</td><td>False</td><td>247.41561265388845</td><td>40.24057507998105</td><td>1.0561523</td><td>2474p402</td><td>247.42445048371366</td><td>40.24820033835744</td><td>0.5431378</td><td>LEDA</td><td>101.95022</td><td>0.89250207</td><td>247.42434880302983</td><td>40.24826160366282</td><td>15.888059</td><td>-1.0</td><td>-1.0</td><td>-1.0</td><td>-1.0</td><td>-1.0</td><td>-1.0</td><td>-1.0</td><td>-1.0</td><td>-1.0</td><td>-1.0</td><td>-1.0</td><td>-1.0</td><td>-1.0</td><td>-1.0</td><td>-1.0</td><td>-1.0</td><td>-1.0</td><td>-1.0</td><td>-1.0</td><td>-1.0</td><td>-1.0</td><td>-1.0</td><td>-1.0</td><td>-1.0</td><td>-1.0</td><td>-1.0</td><td>-1.0</td><td>-1.0</td><td>-1.0</td><td>-1.0</td><td>-1.0</td><td>-1.0</td><td>-1.0</td><td>-1.0</td><td>-1.0</td><td>-1.0</td><td>-1.0</td><td>-1.0</td><td>-1.0</td><td>-1.0</td><td>-1.0</td><td>-1.0</td><td>-1.0</td><td>-1.0</td><td>-1.0</td><td>-1.0</td><td>-1.0</td><td>-1.0</td><td>-1.0</td><td>-1.0</td><td>-1.0</td><td>-1.0</td><td>-1.0</td><td>-1.0</td><td>-1.0</td><td>-1.0</td><td>-1.0</td><td>-1.0</td><td>-1.0</td><td>-1.0</td><td>-1.0</td><td>-1.0</td><td>-1.0</td><td>-1.0</td><td>-1.0</td><td>-1.0</td><td>-1.0</td><td>-1.0</td><td>-1.0</td><td>-1.0</td><td>-1.0</td><td>-1.0</td><td>-1.0</td><td>-1.0</td><td>-1.0</td><td>-1.0</td><td>-1.0</td><td>-1.0</td><td>-1.0</td><td>-1.0</td><td>-1.0</td><td>-1.0</td><td>-1.0</td><td>-1.0</td><td>-1.0</td><td>-1.0</td><td>-1.0</td><td>-1.0</td><td>-1.0</td><td>-1.0</td><td>0</td></tr>\n",
       "<tr><td>25</td><td>SGA-2020 25</td><td>PGC054121</td><td>54121</td><td>227.47036350000002</td><td>13.2562981</td><td>Sbc</td><td>70.64</td><td>0.8165824</td><td>0.86496794</td><td>0.022379482</td><td>23.42948</td><td>15.241</td><td>False</td><td>LEDA-20181114</td><td>7</td><td>PGC054121</td><td>1</td><td>True</td><td>227.47036350000002</td><td>13.2562981</td><td>0.8165824</td><td>2275p132</td><td>227.47031353123606</td><td>13.256402782093659</td><td>0.9032927</td><td>SB26</td><td>54.9372</td><td>0.9290268</td><td>227.4700429472929</td><td>13.256485984671057</td><td>23.756569</td><td>9.900074</td><td>9.4958725</td><td>9.147629</td><td>10.191483</td><td>12.735173</td><td>14.82731</td><td>16.736444</td><td>18.73402</td><td>20.828588</td><td>22.853401</td><td>24.907934</td><td>27.098782</td><td>15.6729</td><td>15.045083</td><td>14.593568</td><td>15.3769245</td><td>14.774321</td><td>14.341049</td><td>15.246051</td><td>14.654672</td><td>14.2298155</td><td>15.173311</td><td>14.588186</td><td>14.167052</td><td>15.122127</td><td>14.541565</td><td>14.123228</td><td>15.083035</td><td>14.505676</td><td>14.089516</td><td>15.057359</td><td>14.482468</td><td>14.068062</td><td>15.040025</td><td>14.467183</td><td>14.055928</td><td>15.028107</td><td>14.457384</td><td>14.047177</td><td>0.018359262</td><td>0.017375102</td><td>0.016255992</td><td>0.019816728</td><td>0.038647514</td><td>0.037284017</td><td>0.04342706</td><td>0.071717694</td><td>0.099439405</td><td>0.0058437292</td><td>0.0069466177</td><td>0.008048645</td><td>0.0045692935</td><td>0.005496873</td><td>0.006436989</td><td>0.004073469</td><td>0.0049413145</td><td>0.0058239037</td><td>0.003822102</td><td>0.0046530096</td><td>0.0054966044</td><td>0.0036556777</td><td>0.004464092</td><td>0.0052853883</td><td>0.0035357797</td><td>0.004325215</td><td>0.005129757</td><td>0.0034596229</td><td>0.00423875</td><td>0.005034937</td><td>0.0034086278</td><td>0.00418244</td><td>0.0049834424</td><td>0.0033738492</td><td>0.0041466616</td><td>0.0049476875</td><td>14.970135</td><td>2.6651645</td><td>0.3175275</td><td>2.7061899</td><td>0.84036297</td><td>14.407399</td><td>1.8774098</td><td>0.4264286</td><td>2.8085065</td><td>0.7415527</td><td>14.005723</td><td>1.1530024</td><td>0.7036117</td><td>3.0188198</td><td>0.7843209</td><td>0</td></tr>\n",
       "<tr><td>26</td><td>SGA-2020 26</td><td>PGC2468893</td><td>2468893</td><td>163.598436</td><td>54.4129738</td><td>--</td><td>64.51</td><td>0.35892195</td><td>0.53703177</td><td>0.17676328</td><td>24.926481</td><td>18.523</td><td>False</td><td>LEDA-20181114</td><td>8</td><td>PGC2468893</td><td>1</td><td>True</td><td>163.598436</td><td>54.4129738</td><td>0.35892195</td><td>1635p545</td><td>163.5984039051307</td><td>54.41298240323229</td><td>0.3833318</td><td>SB26</td><td>46.26398</td><td>0.8524061</td><td>163.5982638998639</td><td>54.41303380382761</td><td>8.821292</td><td>3.2359526</td><td>2.924398</td><td>2.021345</td><td>2.7333577</td><td>3.383293</td><td>4.131329</td><td>5.008367</td><td>6.0306945</td><td>7.188326</td><td>8.429446</td><td>9.863966</td><td>11.499954</td><td>18.91375</td><td>17.621288</td><td>16.865643</td><td>18.731339</td><td>17.469679</td><td>16.733221</td><td>18.59152</td><td>17.350786</td><td>16.62865</td><td>18.480558</td><td>17.254736</td><td>16.545355</td><td>18.388554</td><td>17.175478</td><td>16.476664</td><td>18.312742</td><td>17.111551</td><td>16.42716</td><td>18.256575</td><td>17.062248</td><td>16.38989</td><td>18.215641</td><td>17.022528</td><td>16.365273</td><td>18.179653</td><td>16.990267</td><td>16.35279</td><td>0.0023302117</td><td>0.005615393</td><td>0.008432587</td><td>0.009294833</td><td>0.0114881545</td><td>0.029902346</td><td>0.050029624</td><td>0.0698561</td><td>0.10298213</td><td>0.008917422</td><td>0.008953597</td><td>0.015666634</td><td>0.0076031582</td><td>0.007837551</td><td>0.013918447</td><td>0.006716909</td><td>0.0069769695</td><td>0.012487223</td><td>0.006135703</td><td>0.0064592385</td><td>0.011609407</td><td>0.0057196575</td><td>0.0060675964</td><td>0.010953607</td><td>0.005430515</td><td>0.005781204</td><td>0.010553227</td><td>0.005267251</td><td>0.0056759133</td><td>0.010439154</td><td>0.005154885</td><td>0.00546258</td><td>0.010156198</td><td>0.005106954</td><td>0.0054070675</td><td>0.010169683</td><td>18.01642</td><td>1.2385604</td><td>0.17051077</td><td>1.4091581</td><td>0.99601644</td><td>16.817999</td><td>1.4139539</td><td>0.1533624</td><td>1.2380737</td><td>0.13531691</td><td>16.309488</td><td>0.29089946</td><td>0.21375196</td><td>2.5342278</td><td>0.2944147</td><td>0</td></tr>\n",
       "<tr><td>29</td><td>SGA-2020 29</td><td>2MASXJ11122927+6014431</td><td>3382669</td><td>168.12193649999998</td><td>60.245229599999995</td><td>--</td><td>95.18</td><td>0.37153524</td><td>0.40550855</td><td>0.13134186</td><td>24.756481</td><td>18.278</td><td>False</td><td>LEDA-20181114</td><td>9</td><td>2MASXJ11122927+6014431</td><td>1</td><td>True</td><td>168.12193649999998</td><td>60.245229599999995</td><td>0.37153524</td><td>1682p602</td><td>168.12195030280432</td><td>60.24520943972748</td><td>0.5254904</td><td>SB26</td><td>93.27518</td><td>0.4504665</td><td>168.12174206037417</td><td>60.24526113391869</td><td>10.063886</td><td>4.9710255</td><td>4.2121243</td><td>2.955684</td><td>3.917081</td><td>5.031503</td><td>6.3397484</td><td>7.859549</td><td>9.5116625</td><td>11.106687</td><td>12.624502</td><td>14.035045</td><td>15.764712</td><td>18.788036</td><td>17.645203</td><td>16.76298</td><td>18.56597</td><td>17.444305</td><td>16.599722</td><td>18.396406</td><td>17.29114</td><td>16.477816</td><td>18.250896</td><td>17.16368</td><td>16.373098</td><td>18.136703</td><td>17.062458</td><td>16.293201</td><td>18.053637</td><td>16.990055</td><td>16.23756</td><td>17.998623</td><td>16.947845</td><td>16.209606</td><td>17.968748</td><td>16.91967</td><td>16.198694</td><td>17.937456</td><td>16.901102</td><td>16.190332</td><td>0.043608252</td><td>0.068593405</td><td>0.08251232</td><td>0.114085354</td><td>0.18821189</td><td>0.14581837</td><td>0.13098465</td><td>0.18873167</td><td>0.16190481</td><td>0.048937622</td><td>0.053202</td><td>0.070389636</td><td>0.043584738</td><td>0.047049206</td><td>0.0624863</td><td>0.039282635</td><td>0.042405277</td><td>0.056875147</td><td>0.035782997</td><td>0.038730845</td><td>0.05225435</td><td>0.033184648</td><td>0.03600609</td><td>0.049067486</td><td>0.03135153</td><td>0.034110624</td><td>0.046893198</td><td>0.030152028</td><td>0.033022434</td><td>0.045820117</td><td>0.029458879</td><td>0.032266933</td><td>0.045367915</td><td>0.028717741</td><td>0.03176078</td><td>0.045077246</td><td>17.832409</td><td>0.3196674</td><td>1.3563452</td><td>2.7893887</td><td>0.122701444</td><td>16.831856</td><td>0.25142962</td><td>1.251332</td><td>3.1430612</td><td>0.10823416</td><td>16.170433</td><td>0.12689392</td><td>1.2175424</td><td>4.702156</td><td>0.06635867</td><td>0</td></tr>\n",
       "</table></div>"
      ],
      "text/plain": [
       "<Table length=10>\n",
       "SGA_ID  SGA_GALAXY          GALAXY         ... Z_COG_PARAMS_CHI2 ELLIPSEBIT\n",
       "int64    bytes16           bytes29         ...      float32        int32   \n",
       "------ ----------- ----------------------- ... ----------------- ----------\n",
       "     2  SGA-2020 2              PGC1283207 ...       0.011723555          0\n",
       "     3  SGA-2020 3              PGC1310416 ...        0.20391206          0\n",
       "     4  SGA-2020 4 SDSSJ145059.93+135143.0 ...         1.8054093          0\n",
       "     7  SGA-2020 7              PGC1742504 ...       0.004725194          0\n",
       "    18 SGA-2020 18  2MASXJ12340801+4535444 ...       0.028653827          0\n",
       "    20 SGA-2020 20 SDSSJ173412.71+572041.6 ...        0.97457016          0\n",
       "    24 SGA-2020 24              PGC2162969 ...              -1.0          0\n",
       "    25 SGA-2020 25               PGC054121 ...         0.7843209          0\n",
       "    26 SGA-2020 26              PGC2468893 ...         0.2944147          0\n",
       "    29 SGA-2020 29  2MASXJ11122927+6014431 ...        0.06635867          0"
      ]
     },
     "execution_count": 126,
     "metadata": {},
     "output_type": "execute_result"
    }
   ],
   "source": [
    "SGA = Table.read('/global/cfs/cdirs/cosmo/data/sga/2020/SGA-2020.fits', 'ELLIPSE')\n",
    "\n",
    "SGA[:10]"
   ]
  },
  {
   "cell_type": "code",
   "execution_count": null,
   "id": "af7c91f7-e1e1-4a44-b630-20cf601fc01e",
   "metadata": {},
   "outputs": [],
   "source": []
  },
  {
   "cell_type": "code",
   "execution_count": null,
   "id": "a6e4be9d-364f-47f9-ab05-e36b5a30a052",
   "metadata": {},
   "outputs": [],
   "source": []
  },
  {
   "cell_type": "code",
   "execution_count": null,
   "id": "750aeb3e-b870-48e3-b14e-a1374a26052c",
   "metadata": {},
   "outputs": [],
   "source": []
  },
  {
   "cell_type": "markdown",
   "id": "da3562b8-226c-4c75-af15-a83f288b50c0",
   "metadata": {
    "tags": []
   },
   "source": [
    "## Cluster membership\n",
    "\n",
    "Following Cosmicflows4 (Kourkchi et al. 2020), cluster membership is defined as\n",
    "- $R_p < 1.5R_{2t}$ and $v < V_c \\pm 3\\sigma_p$\n",
    "- $1.5R_{2t} \\leq R_p < 3R_{2t}$ and $v < V_c \\pm 2\\sigma_p$\n",
    "\n",
    "where $R_p$ is the projected distance from the cluster center, $R_{2t}$ is the cluster projected second turnaround radius, $\\sigma_p$ is the projected velocity dispersion of the cluster, and $V_c$ is the average heliocentric radial velocity of the cluster."
   ]
  },
  {
   "cell_type": "markdown",
   "id": "92f909fe-c5b2-450a-a2dd-eb5a20fd4207",
   "metadata": {
    "jp-MarkdownHeadingCollapsed": true,
    "tags": []
   },
   "source": [
    "#### Data Table 3 from Tully 2015"
   ]
  },
  {
   "cell_type": "code",
   "execution_count": 11,
   "id": "a36409a9-8c61-4db7-949c-75df67bfa914",
   "metadata": {},
   "outputs": [],
   "source": [
    "hdu = fits.open('DESI_SGA/TF/Tully15-Table3.fits')"
   ]
  },
  {
   "cell_type": "code",
   "execution_count": 12,
   "id": "353dd4ec-c617-4aea-a99f-6ed91918c867",
   "metadata": {},
   "outputs": [
    {
     "name": "stderr",
     "output_type": "stream",
     "text": [
      "WARNING: VerifyWarning: It is strongly recommended that column names contain only upper and lower-case ASCII letters, digits, or underscores for maximum compatibility with other software (got '<Vcmba>'). [astropy.io.fits.column]\n"
     ]
    },
    {
     "data": {
      "text/html": [
       "<div><i>Table length=100</i>\n",
       "<table id=\"table23453811135008\" class=\"table-striped table-bordered table-condensed\">\n",
       "<thead><tr><th>f_Nest</th><th>Nest</th><th>Nmb</th><th>PGC1</th><th>SGLON</th><th>SGLAT</th><th>logLK</th><th>&lt;Vcmba&gt;</th><th>DM</th><th>sigV</th><th>R2t</th><th>sigP</th><th>Mlum</th><th>CF</th></tr></thead>\n",
       "<thead><tr><th>int16</th><th>int32</th><th>int16</th><th>int32</th><th>float64</th><th>float64</th><th>float64</th><th>int32</th><th>float64</th><th>int16</th><th>float64</th><th>int16</th><th>float64</th><th>float64</th></tr></thead>\n",
       "<tr><td>1</td><td>100001</td><td>136</td><td>44715</td><td>89.6226</td><td>8.1461</td><td>13.15</td><td>7331</td><td>34.33</td><td>886</td><td>2.129</td><td>1045</td><td>1710000000000000.0</td><td>1.65</td></tr>\n",
       "<tr><td>1</td><td>100002</td><td>197</td><td>41220</td><td>103.0008</td><td>-2.3248</td><td>12.69</td><td>1491</td><td>30.87</td><td>670</td><td>1.44</td><td>707</td><td>529000000000000.0</td><td>1.0</td></tr>\n",
       "<tr><td>1</td><td>100003</td><td>113</td><td>43296</td><td>156.2336</td><td>-11.5868</td><td>12.75</td><td>3873</td><td>32.94</td><td>822</td><td>1.52</td><td>746</td><td>623000000000000.0</td><td>1.12</td></tr>\n",
       "<tr><td>1</td><td>100004</td><td>81</td><td>58265</td><td>71.5103</td><td>49.7851</td><td>13.16</td><td>9424</td><td>34.87</td><td>740</td><td>2.153</td><td>1057</td><td>1770000000000000.0</td><td>2.26</td></tr>\n",
       "<tr><td>1</td><td>100005</td><td>61</td><td>36487</td><td>92.0255</td><td>-10.495</td><td>12.78</td><td>6987</td><td>34.22</td><td>707</td><td>1.56</td><td>766</td><td>673000000000000.0</td><td>1.58</td></tr>\n",
       "<tr><td>1</td><td>100006</td><td>85</td><td>31478</td><td>139.4478</td><td>-37.6063</td><td>12.48</td><td>4099</td><td>33.06</td><td>648</td><td>1.198</td><td>588</td><td>305000000000000.0</td><td>1.14</td></tr>\n",
       "<tr><td>1</td><td>100007</td><td>86</td><td>56962</td><td>108.5182</td><td>49.0878</td><td>13.52</td><td>11603</td><td>35.32</td><td>1261</td><td>2.821</td><td>1385</td><td>3980000000000000.0</td><td>3.3</td></tr>\n",
       "<tr><td>1</td><td>100008</td><td>65</td><td>39600</td><td>67.2953</td><td>3.239</td><td>11.94</td><td>1054</td><td>30.11</td><td>209</td><td>0.745</td><td>366</td><td>73300000000000.0</td><td>1.0</td></tr>\n",
       "<tr><td>1</td><td>100009</td><td>66</td><td>59827</td><td>173.2412</td><td>43.415</td><td>13.13</td><td>9112</td><td>34.8</td><td>976</td><td>2.095</td><td>1029</td><td>1630000000000000.0</td><td>2.15</td></tr>\n",
       "<tr><td>1</td><td>100010</td><td>55</td><td>47202</td><td>149.1678</td><td>-1.3439</td><td>13.93</td><td>15265</td><td>35.92</td><td>1002</td><td>3.885</td><td>1908</td><td>1.04e+16</td><td>7.95</td></tr>\n",
       "<tr><td>...</td><td>...</td><td>...</td><td>...</td><td>...</td><td>...</td><td>...</td><td>...</td><td>...</td><td>...</td><td>...</td><td>...</td><td>...</td><td>...</td></tr>\n",
       "<tr><td>1</td><td>100092</td><td>12</td><td>40498</td><td>153.9556</td><td>-15.3979</td><td>11.87</td><td>3549</td><td>32.75</td><td>196</td><td>0.7</td><td>343</td><td>60700000000000.0</td><td>1.09</td></tr>\n",
       "<tr><td>1</td><td>100093</td><td>11</td><td>63099</td><td>16.5637</td><td>60.8886</td><td>13.32</td><td>15666</td><td>35.97</td><td>1029</td><td>2.432</td><td>1194</td><td>2550000000000000.0</td><td>8.96</td></tr>\n",
       "<tr><td>1</td><td>100094</td><td>11</td><td>54526</td><td>119.0398</td><td>36.0813</td><td>12.6</td><td>10912</td><td>35.19</td><td>620</td><td>1.331</td><td>653</td><td>418000000000000.0</td><td>2.9</td></tr>\n",
       "<tr><td>1</td><td>100095</td><td>11</td><td>54412</td><td>171.0258</td><td>10.9465</td><td>13.61</td><td>17401</td><td>36.2</td><td>571</td><td>3.04</td><td>1492</td><td>4980000000000000.0</td><td>15.63</td></tr>\n",
       "<tr><td>1</td><td>100096</td><td>11</td><td>59947</td><td>44.9269</td><td>44.2385</td><td>12.27</td><td>9017</td><td>34.78</td><td>498</td><td>0.999</td><td>491</td><td>177000000000000.0</td><td>2.12</td></tr>\n",
       "<tr><td>1</td><td>100097</td><td>11</td><td>51834</td><td>110.9345</td><td>25.4583</td><td>12.25</td><td>8326</td><td>34.6</td><td>409</td><td>0.976</td><td>479</td><td>165000000000000.0</td><td>1.91</td></tr>\n",
       "<tr><td>1</td><td>100098</td><td>11</td><td>26196</td><td>71.7564</td><td>-39.9651</td><td>12.32</td><td>9003</td><td>34.77</td><td>384</td><td>1.039</td><td>510</td><td>199000000000000.0</td><td>2.11</td></tr>\n",
       "<tr><td>1</td><td>100099</td><td>11</td><td>49307</td><td>147.6191</td><td>4.7786</td><td>11.85</td><td>5272</td><td>33.61</td><td>364</td><td>0.686</td><td>337</td><td>57300000000000.0</td><td>1.28</td></tr>\n",
       "<tr><td>1</td><td>100100</td><td>11</td><td>49804</td><td>144.6418</td><td>7.2122</td><td>12.65</td><td>11767</td><td>35.35</td><td>347</td><td>1.397</td><td>686</td><td>483000000000000.0</td><td>3.41</td></tr>\n",
       "<tr><td>1</td><td>100101</td><td>11</td><td>900018</td><td>162.3511</td><td>45.9639</td><td>12.24</td><td>8770</td><td>34.71</td><td>342</td><td>0.968</td><td>475</td><td>161000000000000.0</td><td>2.04</td></tr>\n",
       "</table></div>"
      ],
      "text/plain": [
       "<Table length=100>\n",
       "f_Nest  Nest   Nmb   PGC1   SGLON   ...   R2t    sigP        Mlum           CF  \n",
       "int16  int32  int16 int32  float64  ... float64 int16      float64       float64\n",
       "------ ------ ----- ------ -------- ... ------- ----- ------------------ -------\n",
       "     1 100001   136  44715  89.6226 ...   2.129  1045 1710000000000000.0    1.65\n",
       "     1 100002   197  41220 103.0008 ...    1.44   707  529000000000000.0     1.0\n",
       "     1 100003   113  43296 156.2336 ...    1.52   746  623000000000000.0    1.12\n",
       "     1 100004    81  58265  71.5103 ...   2.153  1057 1770000000000000.0    2.26\n",
       "     1 100005    61  36487  92.0255 ...    1.56   766  673000000000000.0    1.58\n",
       "     1 100006    85  31478 139.4478 ...   1.198   588  305000000000000.0    1.14\n",
       "     1 100007    86  56962 108.5182 ...   2.821  1385 3980000000000000.0     3.3\n",
       "     1 100008    65  39600  67.2953 ...   0.745   366   73300000000000.0     1.0\n",
       "     1 100009    66  59827 173.2412 ...   2.095  1029 1630000000000000.0    2.15\n",
       "     1 100010    55  47202 149.1678 ...   3.885  1908           1.04e+16    7.95\n",
       "   ...    ...   ...    ...      ... ...     ...   ...                ...     ...\n",
       "     1 100092    12  40498 153.9556 ...     0.7   343   60700000000000.0    1.09\n",
       "     1 100093    11  63099  16.5637 ...   2.432  1194 2550000000000000.0    8.96\n",
       "     1 100094    11  54526 119.0398 ...   1.331   653  418000000000000.0     2.9\n",
       "     1 100095    11  54412 171.0258 ...    3.04  1492 4980000000000000.0   15.63\n",
       "     1 100096    11  59947  44.9269 ...   0.999   491  177000000000000.0    2.12\n",
       "     1 100097    11  51834 110.9345 ...   0.976   479  165000000000000.0    1.91\n",
       "     1 100098    11  26196  71.7564 ...   1.039   510  199000000000000.0    2.11\n",
       "     1 100099    11  49307 147.6191 ...   0.686   337   57300000000000.0    1.28\n",
       "     1 100100    11  49804 144.6418 ...   1.397   686  483000000000000.0    3.41\n",
       "     1 100101    11 900018 162.3511 ...   0.968   475  161000000000000.0    2.04"
      ]
     },
     "execution_count": 12,
     "metadata": {},
     "output_type": "execute_result"
    }
   ],
   "source": [
    "table3 = Table(hdu[1].data)\n",
    "hdu.close()\n",
    "\n",
    "table3[:100]"
   ]
  },
  {
   "cell_type": "markdown",
   "id": "63899a07-8999-469b-935c-e233272fdb5f",
   "metadata": {
    "jp-MarkdownHeadingCollapsed": true,
    "tags": []
   },
   "source": [
    "#### Data Table 2 from Tully et al. 2013"
   ]
  },
  {
   "cell_type": "code",
   "execution_count": 13,
   "id": "c315c838-d626-4b89-9f32-e88d74e6394f",
   "metadata": {},
   "outputs": [
    {
     "name": "stderr",
     "output_type": "stream",
     "text": [
      "WARNING: VerifyWarning: Invalid keyword for column 24: ASCII table null option (TNULLn) is longer than the column's character width and will be truncated (got '-32768'). [astropy.io.fits.column]\n"
     ]
    },
    {
     "data": {
      "text/html": [
       "<div><i>Table length=10</i>\n",
       "<table id=\"table23453810844912\" class=\"table-striped table-bordered table-condensed\">\n",
       "<thead><tr><th>_RAJ2000</th><th>_DEJ2000</th><th>N1</th><th>__Dist_</th><th>__DM_</th><th>__Err_</th><th>N2</th><th>GLON</th><th>GLAT</th><th>SGLON</th><th>SGLAT</th><th>GMT</th><th>__Bmag_</th><th>__Kmag_</th><th>__HV_</th><th>__GV_</th><th>__Vls_</th><th>__Vcmb_</th><th>__Vcmba_</th><th>sigma</th><th>__PV_</th><th>__PVa_</th><th>Group</th><th>Ng</th><th>_2M__</th><th>PGCb</th><th>GName</th><th>_2M</th><th>Simbad</th><th>NED</th><th>recno</th></tr></thead>\n",
       "<thead><tr><th>float64</th><th>float64</th><th>int16</th><th>float64</th><th>float64</th><th>float64</th><th>int16</th><th>float64</th><th>float64</th><th>float64</th><th>float64</th><th>int16</th><th>float64</th><th>float64</th><th>int32</th><th>int32</th><th>int32</th><th>int32</th><th>int32</th><th>int16</th><th>int32</th><th>int32</th><th>int16</th><th>int16</th><th>int16</th><th>int32</th><th>str10</th><th>str2</th><th>str6</th><th>str3</th><th>int32</th></tr></thead>\n",
       "<tr><td>266.404996</td><td>-28.936172</td><td>16</td><td>0.01</td><td>14.5</td><td>0.02</td><td>20</td><td>0.0</td><td>0.0</td><td>185.7861</td><td>42.3103</td><td>1</td><td>-6.0</td><td>-9.0</td><td>51</td><td>26</td><td>13</td><td>91</td><td>91</td><td>64</td><td>90</td><td>90</td><td>223</td><td>16</td><td>0</td><td>17223</td><td>Galaxy</td><td>2M</td><td>Simbad</td><td>NED</td><td>1</td></tr>\n",
       "<tr><td>15.693346</td><td>36.392682</td><td>39</td><td>0.76</td><td>24.4</td><td>0.01</td><td>41</td><td>125.479</td><td>-26.423</td><td>322.2989</td><td>9.4579</td><td>2</td><td>3.4</td><td>0.68</td><td>-213</td><td>-49</td><td>17</td><td>-485</td><td>-484</td><td>156</td><td>-541</td><td>-547</td><td>222</td><td>39</td><td>0</td><td>2557</td><td>NGC0224</td><td>2M</td><td>Simbad</td><td>NED</td><td>2</td></tr>\n",
       "<tr><td>149.896678</td><td>-12.831016</td><td>4</td><td>1.37</td><td>25.68</td><td>0.03</td><td>4</td><td>251.1365</td><td>32.2601</td><td>120.502</td><td>-42.5472</td><td>10</td><td>9.75</td><td>9.29</td><td>347</td><td>153</td><td>103</td><td>690</td><td>691</td><td>23</td><td>589</td><td>589</td><td>227</td><td>4</td><td>0</td><td>29128</td><td>NGC003109</td><td>2M</td><td>Simbad</td><td>NED</td><td>3</td></tr>\n",
       "<tr><td>139.011477</td><td>52.840941</td><td>1</td><td>1.37</td><td>25.68</td><td>0.1</td><td>1</td><td>164.6636</td><td>42.8855</td><td>47.6118</td><td>-15.0125</td><td>10</td><td>13.75</td><td>11.5</td><td>-29</td><td>17</td><td>45</td><td>130</td><td>130</td><td>0</td><td>28</td><td>28</td><td>0</td><td>579</td><td>0</td><td>26142</td><td>UGC4879</td><td>2M</td><td>Simbad</td><td>NED</td><td>4</td></tr>\n",
       "<tr><td>243.448636</td><td>54.37081</td><td>1</td><td>1.91</td><td>26.41</td><td>0.08</td><td>1</td><td>83.8788</td><td>44.4092</td><td>56.0935</td><td>40.37</td><td>10</td><td>16.69</td><td>12.9</td><td>-139</td><td>44</td><td>78</td><td>-121</td><td>-120</td><td>0</td><td>-262</td><td>-268</td><td>230</td><td>1</td><td>0</td><td>2801026</td><td>KKR25</td><td>2M</td><td>Simbad</td><td>NED</td><td>5</td></tr>\n",
       "<tr><td>34.06129</td><td>-34.616959</td><td>7</td><td>2.02</td><td>26.53</td><td>0.03</td><td>7</td><td>240.5522</td><td>-70.3721</td><td>254.5662</td><td>3.1429</td><td>4</td><td>7.64</td><td>5.94</td><td>90</td><td>72</td><td>71</td><td>-158</td><td>-157</td><td>30</td><td>-307</td><td>-311</td><td>234</td><td>7</td><td>0</td><td>1014</td><td>NGC000055</td><td>2M</td><td>Simbad</td><td>NED</td><td>6</td></tr>\n",
       "<tr><td>171.882893</td><td>34.751309</td><td>4</td><td>2.26</td><td>26.77</td><td>0.04</td><td>4</td><td>184.7665</td><td>70.5101</td><td>100.4254</td><td>17.0085</td><td>10</td><td>13.67</td><td>11.7</td><td>179</td><td>194</td><td>172</td><td>427</td><td>427</td><td>34</td><td>259</td><td>259</td><td>229</td><td>4</td><td>0</td><td>50961</td><td>UGC9128</td><td>2M</td><td>Simbad</td><td>NED</td><td>7</td></tr>\n",
       "<tr><td>266.788967</td><td>-64.639085</td><td>1</td><td>2.55</td><td>27.03</td><td>0.1</td><td>1</td><td>328.5515</td><td>-17.8494</td><td>199.1885</td><td>8.6107</td><td>10</td><td>11.52</td><td>9.45</td><td>306</td><td>188</td><td>130</td><td>323</td><td>323</td><td>0</td><td>133</td><td>133</td><td>244</td><td>1</td><td>0</td><td>60849</td><td>IC4662</td><td>2M</td><td>Simbad</td><td>NED</td><td>8</td></tr>\n",
       "<tr><td>202.684924</td><td>54.911292</td><td>1</td><td>2.64</td><td>27.11</td><td>0.08</td><td>1</td><td>111.142</td><td>61.3082</td><td>63.09</td><td>17.9058</td><td>10</td><td>13.94</td><td>11.59</td><td>59</td><td>176</td><td>198</td><td>196</td><td>196</td><td>0</td><td>0</td><td>0</td><td>215</td><td>1</td><td>0</td><td>47495</td><td>UGC8508</td><td>2M</td><td>Simbad</td><td>NED</td><td>9</td></tr>\n",
       "<tr><td>7.247201</td><td>37.965664</td><td>2</td><td>2.8</td><td>27.24</td><td>0.05</td><td>2</td><td>118.0639</td><td>-24.6938</td><td>332.1004</td><td>14.7111</td><td>4</td><td>10.93</td><td>7.61</td><td>-90</td><td>101</td><td>175</td><td>-388</td><td>-387</td><td>30</td><td>-595</td><td>-625</td><td>224</td><td>2</td><td>0</td><td>4126</td><td>NGC404</td><td>2M</td><td>Simbad</td><td>NED</td><td>10</td></tr>\n",
       "</table></div>"
      ],
      "text/plain": [
       "<Table length=10>\n",
       " _RAJ2000   _DEJ2000    N1  __Dist_  __DM_  ... _2M  Simbad NED  recno\n",
       " float64    float64   int16 float64 float64 ... str2  str6  str3 int32\n",
       "---------- ---------- ----- ------- ------- ... ---- ------ ---- -----\n",
       "266.404996 -28.936172    16    0.01    14.5 ...   2M Simbad  NED     1\n",
       " 15.693346  36.392682    39    0.76    24.4 ...   2M Simbad  NED     2\n",
       "149.896678 -12.831016     4    1.37   25.68 ...   2M Simbad  NED     3\n",
       "139.011477  52.840941     1    1.37   25.68 ...   2M Simbad  NED     4\n",
       "243.448636   54.37081     1    1.91   26.41 ...   2M Simbad  NED     5\n",
       "  34.06129 -34.616959     7    2.02   26.53 ...   2M Simbad  NED     6\n",
       "171.882893  34.751309     4    2.26   26.77 ...   2M Simbad  NED     7\n",
       "266.788967 -64.639085     1    2.55   27.03 ...   2M Simbad  NED     8\n",
       "202.684924  54.911292     1    2.64   27.11 ...   2M Simbad  NED     9\n",
       "  7.247201  37.965664     2     2.8   27.24 ...   2M Simbad  NED    10"
      ]
     },
     "execution_count": 13,
     "metadata": {},
     "output_type": "execute_result"
    }
   ],
   "source": [
    "hdu = fits.open('DESI_SGA/TF/Tully13-Table2.fit')\n",
    "table2 = Table(hdu[1].data)\n",
    "hdu.close()\n",
    "\n",
    "table2[:10]"
   ]
  },
  {
   "cell_type": "markdown",
   "id": "e2310686-b6e5-4912-b5fc-b280073964a2",
   "metadata": {
    "jp-MarkdownHeadingCollapsed": true,
    "tags": []
   },
   "source": [
    "## Coma Cluster"
   ]
  },
  {
   "cell_type": "code",
   "execution_count": 14,
   "id": "bdfd8d95-3ed4-41ae-ac71-0cc79a160bb1",
   "metadata": {},
   "outputs": [],
   "source": [
    "Coma_nest = 100001\n",
    "\n",
    "Coma_row_t3 = table3['Nest'] == Coma_nest\n",
    "\n",
    "R2t_Coma = table3['R2t'][Coma_row_t3][0]\n",
    "sigma_Coma = table3['sigP'][Coma_row_t3][0]"
   ]
  },
  {
   "cell_type": "code",
   "execution_count": 27,
   "id": "d0c71417-a96d-4133-bc52-dbeb99f609e8",
   "metadata": {},
   "outputs": [],
   "source": [
    "Coma_coords = SkyCoord(table3['SGLON'][Coma_row_t3]*u.degree, \n",
    "                       table3['SGLAT'][Coma_row_t3]*u.degree, \n",
    "                       frame='supergalactic')\n",
    "\n",
    "group_coords = SkyCoord(table2['SGLON']*u.degree, \n",
    "                        table2['SGLAT']*u.degree, \n",
    "                        frame='supergalactic')"
   ]
  },
  {
   "cell_type": "code",
   "execution_count": 28,
   "id": "0dbcc2a7-38a9-49f3-bf65-5547dbc3d892",
   "metadata": {},
   "outputs": [],
   "source": [
    "idx, d2d, d3d = Coma_coords.match_to_catalog_sky(group_coords)\n",
    "\n",
    "V_Coma = table2['__HV_'][idx][0]"
   ]
  },
  {
   "cell_type": "markdown",
   "id": "b8619915-19bb-4975-854c-d05a984e0ba6",
   "metadata": {},
   "source": [
    "### Calculate the projected distance between the Coma cluster and each MaNGA galaxy"
   ]
  },
  {
   "cell_type": "code",
   "execution_count": 16,
   "id": "ce532ea2-7f9c-484f-a5ad-cf8aa30615e1",
   "metadata": {},
   "outputs": [],
   "source": [
    "# First, we need to convert R2t from Mpc to an angle, using the group's heliocentric velocity\n",
    "R2t_Coma_angle = (R2t_Coma/(V_Coma/H0))*u.radian"
   ]
  },
  {
   "cell_type": "code",
   "execution_count": 42,
   "id": "9060bf9d-dbf0-4ff8-9c80-d3eb9e597fcf",
   "metadata": {},
   "outputs": [],
   "source": [
    "tf_coords = SkyCoord(drpall['objra'], drpall['objdec'], unit='deg')\n",
    "\n",
    "sep = Coma_coords.separation(tf_coords)"
   ]
  },
  {
   "cell_type": "code",
   "execution_count": 73,
   "id": "44abedd9-2cde-4d7c-9952-03f61061125a",
   "metadata": {},
   "outputs": [
    {
     "data": {
      "text/plain": [
       "Text(0, 0.5, 'Count')"
      ]
     },
     "execution_count": 73,
     "metadata": {},
     "output_type": "execute_result"
    },
    {
     "data": {
      "image/png": "[encoded data removed]",
      "text/plain": [
       "<Figure size 432x288 with 1 Axes>"
      ]
     },
     "metadata": {
      "needs_background": "light"
     },
     "output_type": "display_data"
    }
   ],
   "source": [
    "plt.hist(sep.to_value('degree'))\n",
    "plt.xlabel('MaNGA-Coma Angular Separation [deg]')\n",
    "plt.ylabel('Count')"
   ]
  },
  {
   "cell_type": "code",
   "execution_count": 53,
   "id": "2d5d1ec8-20bf-4217-91c7-43d4fb82e1d6",
   "metadata": {},
   "outputs": [
    {
     "data": {
      "text/html": [
       "<div><i>Table length=444</i>\n",
       "<table id=\"table23453709876384\" class=\"table-striped table-bordered table-condensed\">\n",
       "<thead><tr><th>plate</th><th>ifudsgn</th><th>plateifu</th><th>mangaid</th><th>versdrp2</th><th>versdrp3</th><th>verscore</th><th>versutil</th><th>versprim</th><th>platetyp</th><th>srvymode</th><th>objra</th><th>objdec</th><th>ifuglon</th><th>ifuglat</th><th>ifura</th><th>ifudec</th><th>ebvgal</th><th>nexp</th><th>exptime</th><th>drp3qual</th><th>bluesn2</th><th>redsn2</th><th>harname</th><th>frlplug</th><th>cartid</th><th>designid</th><th>cenra</th><th>cendec</th><th>airmsmin</th><th>airmsmed</th><th>airmsmax</th><th>seemin</th><th>seemed</th><th>seemax</th><th>transmin</th><th>transmed</th><th>transmax</th><th>mjdmin</th><th>mjdmed</th><th>mjdmax</th><th>gfwhm</th><th>rfwhm</th><th>ifwhm</th><th>zfwhm</th><th>mngtarg1</th><th>mngtarg2</th><th>mngtarg3</th><th>catidnum</th><th>plttarg</th><th>manga_tileid</th><th>nsa_iauname</th><th>ifudesignsize</th><th>ifutargetsize</th><th>ifudesignwrongsize</th><th>z</th><th>zmin</th><th>zmax</th><th>szmin</th><th>szmax</th><th>ezmin</th><th>ezmax</th><th>probs</th><th>pweight</th><th>psweight</th><th>psrweight</th><th>sweight</th><th>srweight</th><th>eweight</th><th>esweight</th><th>esrweight</th><th>nsa_field</th><th>nsa_run</th><th>nsa_camcol</th><th>nsa_version</th><th>nsa_nsaid</th><th>nsa_nsaid_v1b</th><th>nsa_z</th><th>nsa_zdist</th><th>nsa_sersic_absmag [7]</th><th>nsa_elpetro_absmag [7]</th><th>nsa_elpetro_amivar [7]</th><th>nsa_sersic_mass</th><th>nsa_elpetro_mass</th><th>nsa_elpetro_ba</th><th>nsa_elpetro_phi</th><th>nsa_extinction [7]</th><th>nsa_elpetro_th50_r</th><th>nsa_petro_th50</th><th>nsa_petro_flux [7]</th><th>nsa_petro_flux_ivar [7]</th><th>nsa_elpetro_flux [7]</th><th>nsa_elpetro_flux_ivar [7]</th><th>nsa_sersic_ba</th><th>nsa_sersic_n</th><th>nsa_sersic_phi</th><th>nsa_sersic_th50</th><th>nsa_sersic_flux [7]</th><th>nsa_sersic_flux_ivar [7]</th></tr></thead>\n",
       "<thead><tr><th>int64</th><th>bytes32</th><th>bytes32</th><th>bytes32</th><th>bytes32</th><th>bytes32</th><th>bytes32</th><th>bytes32</th><th>bytes32</th><th>bytes32</th><th>bytes32</th><th>float64</th><th>float64</th><th>float64</th><th>float64</th><th>float64</th><th>float64</th><th>float64</th><th>int64</th><th>float64</th><th>int64</th><th>float64</th><th>float64</th><th>bytes53</th><th>int64</th><th>bytes32</th><th>int64</th><th>float64</th><th>float64</th><th>float64</th><th>float64</th><th>float64</th><th>float64</th><th>float64</th><th>float64</th><th>float64</th><th>float64</th><th>float64</th><th>int64</th><th>int64</th><th>int64</th><th>float64</th><th>float64</th><th>float64</th><th>float64</th><th>int64</th><th>int64</th><th>int64</th><th>int64</th><th>bytes32</th><th>int64</th><th>bytes19</th><th>int64</th><th>int64</th><th>int64</th><th>float64</th><th>float64</th><th>float64</th><th>float64</th><th>float64</th><th>float64</th><th>float64</th><th>float64</th><th>float64</th><th>float64</th><th>float64</th><th>float64</th><th>float64</th><th>float64</th><th>float64</th><th>float64</th><th>int64</th><th>int64</th><th>int64</th><th>bytes6</th><th>int64</th><th>int64</th><th>float64</th><th>float64</th><th>float64</th><th>float64</th><th>float64</th><th>float64</th><th>float64</th><th>float64</th><th>float64</th><th>float64</th><th>float64</th><th>float64</th><th>float64</th><th>float64</th><th>float64</th><th>float64</th><th>float64</th><th>float64</th><th>float64</th><th>float64</th><th>float64</th><th>float64</th></tr></thead>\n",
       "<tr><td>11004</td><td>12701</td><td>11004-12701</td><td>1-456655</td><td>v3_1_1</td><td>v3_1_1</td><td>v1_9_1</td><td>v5_5_36</td><td>v2_9</td><td>MaNGA</td><td>MaNGA dither</td><td>196.110590139</td><td>27.304313566</td><td>37.1573083168</td><td>87.1036097118</td><td>196.11059</td><td>27.304314</td><td>0.0126947</td><td>12</td><td>10800.9</td><td>0</td><td>19.8245</td><td>43.1267</td><td>ma079</td><td>22</td><td>3</td><td>11645</td><td>197.26642</td><td>26.300207</td><td>1.00522</td><td>1.034</td><td>1.10429</td><td>1.22997</td><td>1.50707</td><td>1.68136</td><td>0.386198</td><td>0.77714</td><td>0.912073</td><td>58575</td><td>58576</td><td>58576</td><td>2.52085</td><td>2.48709</td><td>2.48211</td><td>2.48468</td><td>1552</td><td>0</td><td>0</td><td>1</td><td>plateTargets-1.par</td><td>6155</td><td>J130426.67+271821.0</td><td>127</td><td>127</td><td>0</td><td>0.018372238</td><td>0.017881105</td><td>0.025483781</td><td>0.036609624</td><td>0.040862966</td><td>0.014217189</td><td>0.03072696</td><td>0.67973006</td><td>1.7889416</td><td>0.7438757</td><td>0.80211</td><td>-999.0</td><td>-999.0</td><td>0.7437902</td><td>0.46953073</td><td>0.49208066</td><td>157</td><td>5115</td><td>4</td><td>v1_0_1</td><td>482810</td><td>-999</td><td>0.018372238</td><td>0.018983964</td><td>-16.89632 .. -19.144066</td><td>-16.965324 .. -19.076622</td><td>569.68207 .. 558.8614</td><td>1587905200.0</td><td>1531813800.0</td><td>0.7180563</td><td>63.89447</td><td>0.10614801 .. 0.018937625</td><td>9.279935</td><td>8.08041</td><td>157.12498 .. 1207.631</td><td>0.2704583 .. 0.0006778203</td><td>168.62122 .. 1316.4143</td><td>0.26685238 .. 0.00076487375</td><td>0.6216933</td><td>1.756404</td><td>62.405457</td><td>10.606544</td><td>157.92967 .. 1400.5504</td><td>0.16473667 .. 0.004398549</td></tr>\n",
       "<tr><td>11004</td><td>12702</td><td>11004-12702</td><td>1-522048</td><td>v3_1_1</td><td>v3_1_1</td><td>v1_9_1</td><td>v5_5_36</td><td>v2_9</td><td>MaNGA</td><td>MaNGA dither</td><td>196.361826695</td><td>25.1910488195</td><td>2.06879176039</td><td>86.3077255362</td><td>196.36183</td><td>25.191049</td><td>0.0170195</td><td>12</td><td>10800.9</td><td>64</td><td>19.8245</td><td>43.1267</td><td>ma078</td><td>25</td><td>3</td><td>11645</td><td>197.26642</td><td>26.300207</td><td>1.00964</td><td>1.03809</td><td>1.10951</td><td>1.22997</td><td>1.50707</td><td>1.68136</td><td>0.386198</td><td>0.77714</td><td>0.912073</td><td>58575</td><td>58576</td><td>58576</td><td>2.45818</td><td>2.44997</td><td>2.47967</td><td>2.50454</td><td>1168</td><td>0</td><td>0</td><td>1</td><td>plateTargets-1.par</td><td>6155</td><td>J130526.84+251128.2</td><td>127</td><td>217</td><td>0</td><td>0.02370975</td><td>0.015756212</td><td>0.024231723</td><td>0.033780117</td><td>0.036954165</td><td>0.014978115</td><td>0.026620708</td><td>0.67973006</td><td>1.8756624</td><td>0.9774129</td><td>1.0392667</td><td>-999.0</td><td>-999.0</td><td>1.250808</td><td>0.77552605</td><td>0.8139643</td><td>276</td><td>5224</td><td>5</td><td>v1_0_1</td><td>551954</td><td>-999</td><td>0.02370975</td><td>0.023570111</td><td>-14.491968 .. -18.716969</td><td>-14.88619 .. -18.714146</td><td>6.9447656 .. 120.27312</td><td>2163911700.0</td><td>1725911800.0</td><td>0.20615898</td><td>99.89468</td><td>0.14426808 .. 0.02573854</td><td>11.698374</td><td>8.569049</td><td>13.488849 .. 637.3857</td><td>0.011948651 .. 0.00042041126</td><td>15.157334 .. 594.602</td><td>0.036034074 .. 0.00044969624</td><td>0.15</td><td>0.755315</td><td>100.13074</td><td>12.800695</td><td>10.619541 .. 595.78735</td><td>0.13114797 .. 0.0013952313</td></tr>\n",
       "<tr><td>11004</td><td>12703</td><td>11004-12703</td><td>1-457076</td><td>v3_1_1</td><td>v3_1_1</td><td>v1_9_1</td><td>v5_5_36</td><td>v2_9</td><td>MaNGA</td><td>MaNGA dither</td><td>195.871154137</td><td>26.5505176578</td><td>21.478879311</td><td>87.2514590442</td><td>195.87115</td><td>26.550518</td><td>0.0125891</td><td>12</td><td>10800.9</td><td>0</td><td>24.0048</td><td>43.812</td><td>ma174</td><td>31</td><td>3</td><td>11645</td><td>197.26642</td><td>26.300207</td><td>1.00646</td><td>1.03657</td><td>1.1085</td><td>1.22997</td><td>1.50707</td><td>1.68136</td><td>0.386198</td><td>0.77714</td><td>0.912073</td><td>58575</td><td>58576</td><td>58576</td><td>2.55312</td><td>2.49314</td><td>2.47009</td><td>2.45789</td><td>4672</td><td>0</td><td>0</td><td>1</td><td>plateTargets-1.par</td><td>6155</td><td>J130329.08+263301.7</td><td>127</td><td>127</td><td>0</td><td>0.02210015</td><td>0.024017213</td><td>0.03145335</td><td>0.04727027</td><td>0.05175974</td><td>0.021127898</td><td>0.035445794</td><td>0.67973006</td><td>-999.0</td><td>-999.0</td><td>-999.0</td><td>-999.0</td><td>-999.0</td><td>0.5564848</td><td>0.3187768</td><td>0.33664843</td><td>156</td><td>5115</td><td>2</td><td>v1_0_1</td><td>483297</td><td>-999</td><td>0.02210015</td><td>0.021980606</td><td>-15.0981865 .. -20.937546</td><td>-15.637577 .. -20.748064</td><td>9.53306 .. 632.00507</td><td>17660566000.0</td><td>15640142000.0</td><td>0.57548255</td><td>133.62968</td><td>0.10624337 .. 0.018954637</td><td>9.30165</td><td>7.158315</td><td>34.72725 .. 4416.851</td><td>0.009681085 .. 8.320352e-05</td><td>36.557266 .. 4487.055</td><td>0.008539038 .. 8.581676e-05</td><td>0.48697346</td><td>2.7828991</td><td>133.82104</td><td>11.519884</td><td>22.114298 .. 5312.244</td><td>0.04571163 .. 0.000595797</td></tr>\n",
       "<tr><td>11004</td><td>12704</td><td>11004-12704</td><td>1-457246</td><td>v3_1_1</td><td>v3_1_1</td><td>v1_9_1</td><td>v5_5_36</td><td>v2_9</td><td>MaNGA</td><td>MaNGA dither</td><td>197.05877422</td><td>27.5158507658</td><td>39.8229984684</td><td>86.249344427</td><td>197.05877</td><td>27.515851</td><td>0.0138993</td><td>12</td><td>10800.9</td><td>0</td><td>24.0048</td><td>43.812</td><td>ma076</td><td>34</td><td>3</td><td>11645</td><td>197.26642</td><td>26.300207</td><td>1.00548</td><td>1.03283</td><td>1.09666</td><td>1.22997</td><td>1.50707</td><td>1.68136</td><td>0.386198</td><td>0.77714</td><td>0.912073</td><td>58575</td><td>58576</td><td>58576</td><td>2.50033</td><td>2.44172</td><td>2.43028</td><td>2.41614</td><td>4096</td><td>0</td><td>0</td><td>1</td><td>plateTargets-1.par</td><td>6155</td><td>J130814.10+273057.0</td><td>127</td><td>127</td><td>0</td><td>0.024439191</td><td>0.024758246</td><td>0.032764904</td><td>0.049227733</td><td>0.05386612</td><td>0.023527194</td><td>0.033720523</td><td>0.67973006</td><td>-999.0</td><td>-999.0</td><td>-999.0</td><td>-999.0</td><td>-999.0</td><td>0.7713234</td><td>0.35792166</td><td>0.38346386</td><td>287</td><td>5087</td><td>5</td><td>v1_0_1</td><td>483484</td><td>-999</td><td>0.024439191</td><td>0.024342258</td><td>-13.627169 .. -21.842932</td><td>-13.165803 .. -20.924736</td><td>5.565118 .. 1055.804</td><td>46764910000.0</td><td>19232965000.0</td><td>0.8842844</td><td>128.7429</td><td>0.11618485 .. 0.020728275</td><td>9.5464525</td><td>11.161193</td><td>3.1604266 .. 4608.0747</td><td>0.6310881 .. 0.0004732187</td><td>2.7531128 .. 4290.709</td><td>0.8732919 .. 0.0013581627</td><td>0.7638483</td><td>6.0</td><td>137.36884</td><td>31.675535</td><td>4.4769745 .. 9989.227</td><td>1.3857787 .. 0.000965352</td></tr>\n",
       "<tr><td>11004</td><td>1901</td><td>11004-1901</td><td>1-457247</td><td>v3_1_1</td><td>v3_1_1</td><td>v1_9_1</td><td>v5_5_36</td><td>v2_9</td><td>MaNGA</td><td>MaNGA dither</td><td>196.929799257</td><td>27.5096494472</td><td>39.8825432331</td><td>86.363832588</td><td>196.9298</td><td>27.509649</td><td>0.0149515</td><td>12</td><td>10800.9</td><td>0</td><td>19.8245</td><td>43.1267</td><td>ma060</td><td>29</td><td>3</td><td>11645</td><td>197.26642</td><td>26.300207</td><td>1.0054</td><td>1.03237</td><td>1.09761</td><td>1.22997</td><td>1.50707</td><td>1.68136</td><td>0.386198</td><td>0.77714</td><td>0.912073</td><td>58575</td><td>58576</td><td>58576</td><td>2.60087</td><td>2.5488</td><td>2.53164</td><td>2.51389</td><td>1168</td><td>0</td><td>0</td><td>1</td><td>plateTargets-1.par</td><td>6155</td><td>J130743.14+273034.7</td><td>19</td><td>19</td><td>0</td><td>0.025280505</td><td>0.019324776</td><td>0.026454737</td><td>0.038649894</td><td>0.042871933</td><td>0.019160785</td><td>0.026754312</td><td>0.67973006</td><td>1.7171417</td><td>0.69263875</td><td>0.74811035</td><td>-999.0</td><td>-999.0</td><td>1.6029644</td><td>0.6732941</td><td>0.72559345</td><td>286</td><td>5087</td><td>5</td><td>v1_0_1</td><td>483485</td><td>-999</td><td>0.025280505</td><td>0.025182761</td><td>-11.259485 .. -19.627716</td><td>-10.964681 .. -19.553349</td><td>1.9247347 .. 1065.0157</td><td>6466770000.0</td><td>5573737500.0</td><td>0.67529225</td><td>139.20052</td><td>0.12700202 .. 0.02265814</td><td>2.4735587</td><td>2.12332</td><td>0.34434378 .. 1131.8313</td><td>20.88059 .. 0.022428868</td><td>0.35679337 .. 1129.2239</td><td>17.878275 .. 0.023732595</td><td>0.15</td><td>6.0</td><td>142.59885</td><td>2.3881257</td><td>0.48110804 .. 1209.0835</td><td>31.563408 .. 0.03344413</td></tr>\n",
       "<tr><td>11004</td><td>3702</td><td>11004-3702</td><td>1-457248</td><td>v3_1_1</td><td>v3_1_1</td><td>v1_9_1</td><td>v5_5_36</td><td>v2_9</td><td>MaNGA</td><td>MaNGA dither</td><td>197.010790772</td><td>27.3112132886</td><td>36.7161232914</td><td>86.304101933</td><td>197.01079</td><td>27.311213</td><td>0.0151341</td><td>12</td><td>10800.9</td><td>0</td><td>19.8245</td><td>43.1267</td><td>ma059</td><td>27</td><td>3</td><td>11645</td><td>197.26642</td><td>26.300207</td><td>1.00579</td><td>1.03307</td><td>1.0976</td><td>1.22997</td><td>1.50707</td><td>1.68136</td><td>0.386198</td><td>0.77714</td><td>0.912073</td><td>58575</td><td>58576</td><td>58576</td><td>2.57377</td><td>2.53095</td><td>2.50362</td><td>2.48058</td><td>1168</td><td>0</td><td>0</td><td>1</td><td>plateTargets-1.par</td><td>6155</td><td>J130802.57+271840.0</td><td>37</td><td>37</td><td>0</td><td>0.019592488</td><td>0.01600057</td><td>0.024368517</td><td>0.034098726</td><td>0.03792441</td><td>0.01600057</td><td>0.024368517</td><td>0.67973006</td><td>1.8655673</td><td>0.87102205</td><td>0.9328254</td><td>-999.0</td><td>-999.0</td><td>1.867456</td><td>0.87143356</td><td>0.93329734</td><td>163</td><td>5115</td><td>4</td><td>v1_0_1</td><td>483486</td><td>-999</td><td>0.019592488</td><td>0.019891141</td><td>-16.055914 .. -18.612051</td><td>-16.16607 .. -18.543726</td><td>528.9477 .. 580.3387</td><td>1283593500.0</td><td>1174153600.0</td><td>0.4924658</td><td>31.61029</td><td>0.12630954 .. 0.022534598</td><td>5.032405</td><td>3.8015058</td><td>61.563366 .. 782.13354</td><td>0.923582 .. 0.0027257032</td><td>72.03638 .. 729.75134</td><td>0.78186154 .. 0.00268924</td><td>0.35701066</td><td>1.732588</td><td>31.792572</td><td>5.5477247</td><td>65.12362 .. 775.80096</td><td>0.5339635 .. 0.017649686</td></tr>\n",
       "<tr><td>11004</td><td>3704</td><td>11004-3704</td><td>1-568566</td><td>v3_1_1</td><td>v3_1_1</td><td>v1_9_1</td><td>v5_5_36</td><td>v2_9</td><td>MaNGA</td><td>MaNGA dither</td><td>198.260390445</td><td>25.953825952</td><td>20.4863375894</td><td>85.0280967234</td><td>198.26039</td><td>25.953826</td><td>0.0142652</td><td>12</td><td>10800.9</td><td>0</td><td>24.0048</td><td>43.812</td><td>ma063</td><td>37</td><td>3</td><td>11645</td><td>197.26642</td><td>26.300207</td><td>1.00951</td><td>1.0411</td><td>1.09291</td><td>1.22997</td><td>1.50707</td><td>1.68136</td><td>0.386198</td><td>0.77714</td><td>0.912073</td><td>58575</td><td>58576</td><td>58576</td><td>2.53581</td><td>2.53511</td><td>2.52409</td><td>2.50217</td><td>1168</td><td>0</td><td>0</td><td>1</td><td>plateTargets-1.par</td><td>6155</td><td>J131302.49+255713.8</td><td>37</td><td>37</td><td>0</td><td>0.024261326</td><td>0.018395487</td><td>0.025815</td><td>0.0373218</td><td>0.041561075</td><td>0.018395487</td><td>0.025815</td><td>0.67973006</td><td>1.7658103</td><td>0.7261054</td><td>0.78343326</td><td>-999.0</td><td>-999.0</td><td>1.7675978</td><td>0.72640747</td><td>0.7837849</td><td>171</td><td>5115</td><td>1</td><td>v1_0_1</td><td>604083</td><td>-999</td><td>0.024261326</td><td>0.02414504</td><td>-15.443665 .. -19.239109</td><td>-15.564763 .. -19.305859</td><td>8.641932 .. 720.73157</td><td>3428954400.0</td><td>3588061000.0</td><td>0.9184803</td><td>147.92256</td><td>0.11961766 .. 0.021340715</td><td>4.096618</td><td>3.9742055</td><td>24.264965 .. 939.92505</td><td>0.015319986 .. 0.0025060335</td><td>27.937809 .. 985.9399</td><td>0.013234936 .. 0.002487665</td><td>0.9011295</td><td>0.98220843</td><td>150.96213</td><td>4.0172987</td><td>25.026579 .. 928.4924</td><td>0.044921216 .. 0.0033749905</td></tr>\n",
       "<tr><td>11004</td><td>6101</td><td>11004-6101</td><td>1-624320</td><td>v3_1_1</td><td>v3_1_1</td><td>v1_9_1</td><td>v5_5_36</td><td>v2_9</td><td>MaNGA</td><td>MaNGA dither</td><td>196.648322599</td><td>27.1687341435</td><td>34.4824474202</td><td>86.6285193591</td><td>196.64832</td><td>27.168734</td><td>0.0135417</td><td>12</td><td>10800.9</td><td>0</td><td>19.8245</td><td>43.1267</td><td>ma069</td><td>21</td><td>3</td><td>11645</td><td>197.26642</td><td>26.300207</td><td>1.00578</td><td>1.03227</td><td>1.10067</td><td>1.22997</td><td>1.50707</td><td>1.68136</td><td>0.386198</td><td>0.77714</td><td>0.912073</td><td>58575</td><td>58576</td><td>58576</td><td>2.43997</td><td>2.39416</td><td>2.37054</td><td>2.34845</td><td>1040</td><td>0</td><td>0</td><td>1</td><td>plateTargets-1.par</td><td>6155</td><td>J130635.40+271009.0</td><td>61</td><td>61</td><td>0</td><td>0.025764521</td><td>0.022904</td><td>0.029845227</td><td>0.04475186</td><td>0.049092386</td><td>0.021446783</td><td>0.031273294</td><td>0.67973006</td><td>1.3359044</td><td>0.52221507</td><td>0.56498283</td><td>-999.0</td><td>-999.0</td><td>0.9404787</td><td>0.44850057</td><td>0.479686</td><td>285</td><td>5087</td><td>4</td><td>v1_0_1</td><td>673211</td><td>-999</td><td>0.025764521</td><td>0.025659537</td><td>-13.152168 .. -21.123503</td><td>-14.084313 .. -20.431448</td><td>108.07241 .. 973.43066</td><td>21031690000.0</td><td>13349548000.0</td><td>0.92074996</td><td>66.72557</td><td>0.116267025 .. 0.020742934</td><td>5.987053</td><td>6.485511</td><td>0.9704343 .. 2460.4634</td><td>2.9370518 .. 0.0010978801</td><td>6.3722777 .. 2444.1794</td><td>3.7933629 .. 0.001550146</td><td>0.865706</td><td>6.0</td><td>60.68631</td><td>13.880077</td><td>2.494391 .. 4624.799</td><td>4.984297 .. 0.0025102382</td></tr>\n",
       "<tr><td>11004</td><td>6103</td><td>11004-6103</td><td>1-457072</td><td>v3_1_1</td><td>v3_1_1</td><td>v1_9_1</td><td>v5_5_36</td><td>v2_9</td><td>MaNGA</td><td>MaNGA dither</td><td>196.218172202</td><td>26.9190881488</td><td>29.6952090515</td><td>87.0008410131</td><td>196.21817</td><td>26.919088</td><td>0.0124847</td><td>12</td><td>10800.9</td><td>0</td><td>19.8245</td><td>43.1267</td><td>ma073</td><td>28</td><td>3</td><td>11645</td><td>197.26642</td><td>26.300207</td><td>1.00595</td><td>1.03441</td><td>1.10466</td><td>1.22997</td><td>1.50707</td><td>1.68136</td><td>0.386198</td><td>0.77714</td><td>0.912073</td><td>58575</td><td>58576</td><td>58576</td><td>2.53678</td><td>2.48669</td><td>2.46455</td><td>2.44682</td><td>1168</td><td>0</td><td>0</td><td>1</td><td>plateTargets-1.par</td><td>6155</td><td>J130452.35+265508.7</td><td>61</td><td>61</td><td>0</td><td>0.023112983</td><td>0.01788665</td><td>0.025487276</td><td>0.03661722</td><td>0.0408704</td><td>0.013052619</td><td>0.03194822</td><td>0.67973006</td><td>1.7887031</td><td>0.7436859</td><td>0.8019109</td><td>-999.0</td><td>-999.0</td><td>0.64015573</td><td>0.4259471</td><td>0.44442922</td><td>158</td><td>5115</td><td>3</td><td>v1_0_1</td><td>483293</td><td>-999</td><td>0.023112983</td><td>0.023001483</td><td>-4.469152 .. -19.324368</td><td>-12.577129 .. -19.190237</td><td>0.0 .. 651.8774</td><td>4485480000.0</td><td>3844150300.0</td><td>0.77396595</td><td>157.832</td><td>0.10065734 .. 0.017958047</td><td>5.5818133</td><td>5.1121736</td><td>1.9839232e-05 .. 1066.4855</td><td>3.9707422 .. 0.0018085239</td><td>0.0 .. 977.67645</td><td>3.8348677 .. 0.0019451262</td><td>0.6942942</td><td>3.5972884</td><td>158.68472</td><td>7.4953346</td><td>0.0010456638 .. 1105.9794</td><td>12.795588 .. 0.011766604</td></tr>\n",
       "<tr><td>11004</td><td>6104</td><td>11004-6104</td><td>1-624911</td><td>v3_1_1</td><td>v3_1_1</td><td>v1_9_1</td><td>v5_5_36</td><td>v2_9</td><td>MaNGA</td><td>MaNGA dither</td><td>198.247802298</td><td>27.1415252303</td><td>34.3185910863</td><td>85.2051414577</td><td>198.2478</td><td>27.141525</td><td>0.0105658</td><td>12</td><td>10800.9</td><td>0</td><td>24.0048</td><td>43.812</td><td>ma166</td><td>30</td><td>3</td><td>11645</td><td>197.26642</td><td>26.300207</td><td>1.00719</td><td>1.03825</td><td>1.08936</td><td>1.22997</td><td>1.50707</td><td>1.68136</td><td>0.386198</td><td>0.77714</td><td>0.912073</td><td>58575</td><td>58576</td><td>58576</td><td>2.60125</td><td>2.55052</td><td>2.53147</td><td>2.5211</td><td>1552</td><td>0</td><td>0</td><td>1</td><td>plateTargets-1.par</td><td>6155</td><td>J131259.30+270832.9</td><td>61</td><td>61</td><td>0</td><td>0.022892538</td><td>0.021774258</td><td>0.028548896</td><td>0.042578205</td><td>0.04683592</td><td>0.018453294</td><td>0.03182683</td><td>0.67973006</td><td>1.5017754</td><td>0.5858969</td><td>0.63394576</td><td>-999.0</td><td>-999.0</td><td>0.75035095</td><td>0.42129812</td><td>0.4455825</td><td>170</td><td>5115</td><td>4</td><td>v1_0_1</td><td>674000</td><td>-999</td><td>0.022892538</td><td>0.02279598</td><td>-15.321175 .. -20.415241</td><td>-15.632458 .. -20.208126</td><td>27.321278 .. 992.12854</td><td>10269954000.0</td><td>8157954000.0</td><td>0.7912614</td><td>122.49567</td><td>0.08717219 .. 0.015552191</td><td>5.887898</td><td>5.5703926</td><td>29.515007 .. 2505.4434</td><td>0.023954479 .. 0.0013298029</td><td>34.35836 .. 2527.7305</td><td>0.028529692 .. 0.001709345</td><td>0.7383277</td><td>2.433636</td><td>129.58545</td><td>7.1269608</td><td>25.508 .. 3047.8115</td><td>0.06285119 .. 0.0054801535</td></tr>\n",
       "<tr><td>...</td><td>...</td><td>...</td><td>...</td><td>...</td><td>...</td><td>...</td><td>...</td><td>...</td><td>...</td><td>...</td><td>...</td><td>...</td><td>...</td><td>...</td><td>...</td><td>...</td><td>...</td><td>...</td><td>...</td><td>...</td><td>...</td><td>...</td><td>...</td><td>...</td><td>...</td><td>...</td><td>...</td><td>...</td><td>...</td><td>...</td><td>...</td><td>...</td><td>...</td><td>...</td><td>...</td><td>...</td><td>...</td><td>...</td><td>...</td><td>...</td><td>...</td><td>...</td><td>...</td><td>...</td><td>...</td><td>...</td><td>...</td><td>...</td><td>...</td><td>...</td><td>...</td><td>...</td><td>...</td><td>...</td><td>...</td><td>...</td><td>...</td><td>...</td><td>...</td><td>...</td><td>...</td><td>...</td><td>...</td><td>...</td><td>...</td><td>...</td><td>...</td><td>...</td><td>...</td><td>...</td><td>...</td><td>...</td><td>...</td><td>...</td><td>...</td><td>...</td><td>...</td><td>...</td><td>...</td><td>...</td><td>...</td><td>...</td><td>...</td><td>...</td><td>...</td><td>...</td><td>...</td><td>...</td><td>...</td><td>...</td><td>...</td><td>...</td><td>...</td><td>...</td><td>...</td><td>...</td><td>...</td><td>...</td></tr>\n",
       "<tr><td>9880</td><td>3701</td><td>9880-3701</td><td>1-591200</td><td>v3_1_1</td><td>v3_1_1</td><td>v1_9_1</td><td>v5_5_36</td><td>v2_9</td><td>APOGEE-2&amp;MaNGA</td><td>MaNGA dither</td><td>194.86968999</td><td>28.0405183648</td><td>60.5057426884</td><td>87.9984568315</td><td>194.86969</td><td>28.040518</td><td>0.00837416</td><td>9</td><td>8100.68</td><td>0</td><td>23.1812</td><td>46.0518</td><td>ma062</td><td>23</td><td>3</td><td>10429</td><td>196.27431</td><td>28.110994</td><td>1.06006</td><td>1.11512</td><td>1.19478</td><td>1.27829</td><td>1.33709</td><td>1.42629</td><td>0.848605</td><td>0.87045</td><td>0.888301</td><td>58223</td><td>58223</td><td>58224</td><td>2.41127</td><td>2.31032</td><td>2.26968</td><td>2.25413</td><td>1040</td><td>0</td><td>0</td><td>1</td><td>plateTargets-1.par</td><td>6459</td><td>J125928.49+280109.0</td><td>37</td><td>37</td><td>0</td><td>0.0187556</td><td>0.0172603</td><td>0.0251011</td><td>0.0357669</td><td>0.0400405</td><td>0.0170312</td><td>0.0296232</td><td>0.67973</td><td>1.81227</td><td>0.763179</td><td>0.822996</td><td>-999.0</td><td>-999.0</td><td>0.922146</td><td>0.542611</td><td>0.572179</td><td>274</td><td>5087</td><td>6</td><td>v1_0_1</td><td>629597</td><td>-999</td><td>0.0187556</td><td>0.0192665</td><td>-12.6046 .. -21.0549</td><td>-12.7647 .. -19.0048</td><td>1.42245 .. 1009.32</td><td>24299700000.0</td><td>3112340000.0</td><td>0.602249</td><td>22.5135</td><td>0.0713983 .. 0.012738</td><td>4.20926</td><td>71.033</td><td>2.44731 .. 4812.91</td><td>0.00336541 .. 3.39931e-06</td><td>3.15454 .. 1189.01</td><td>0.16889 .. 0.00918689</td><td>0.603677</td><td>6.0</td><td>7.22565</td><td>57.7752</td><td>3.06641 .. 7843.72</td><td>0.0251458 .. 6.72308e-06</td></tr>\n",
       "<tr><td>9880</td><td>3702</td><td>9880-3702</td><td>1-456981</td><td>v3_1_1</td><td>v3_1_1</td><td>v1_9_1</td><td>v5_5_36</td><td>v2_9</td><td>APOGEE-2&amp;MaNGA</td><td>MaNGA dither</td><td>195.451588904</td><td>27.6039619877</td><td>45.1991660218</td><td>87.6494573519</td><td>195.45159</td><td>27.603962</td><td>0.00865742</td><td>9</td><td>8100.68</td><td>0</td><td>23.1812</td><td>46.0518</td><td>ma059</td><td>27</td><td>3</td><td>10429</td><td>196.27431</td><td>28.110994</td><td>1.05792</td><td>1.11177</td><td>1.19001</td><td>1.27829</td><td>1.33709</td><td>1.42629</td><td>0.848605</td><td>0.87045</td><td>0.888301</td><td>58223</td><td>58223</td><td>58224</td><td>2.29677</td><td>2.27805</td><td>2.2866</td><td>2.2992</td><td>1168</td><td>0</td><td>0</td><td>1</td><td>plateTargets-1.par</td><td>6459</td><td>J130148.37+273614.2</td><td>37</td><td>37</td><td>0</td><td>0.0274531</td><td>0.0205124</td><td>0.0273777</td><td>0.0404558</td><td>0.0446767</td><td>0.0198459</td><td>0.0286623</td><td>0.67973</td><td>1.63087</td><td>0.6437</td><td>0.696645</td><td>-999.0</td><td>-999.0</td><td>1.2347</td><td>0.571344</td><td>0.612672</td><td>277</td><td>5087</td><td>5</td><td>v1_0_1</td><td>483197</td><td>-999</td><td>0.0274531</td><td>0.0273491</td><td>-11.7957 .. -20.0614</td><td>-12.9581 .. -19.877</td><td>30.679 .. 939.91</td><td>8989080000.0</td><td>7694350000.0</td><td>0.499167</td><td>34.0414</td><td>0.0742835 .. 0.0132527</td><td>4.8514</td><td>3.76858</td><td>0.453726 .. 1251.54</td><td>7.82482 .. 0.00245797</td><td>2.09563 .. 1295.72</td><td>8.66002 .. 0.00428316</td><td>0.208133</td><td>4.0904</td><td>34.3756</td><td>6.41937</td><td>0.67882 .. 1536.06</td><td>20.2181 .. 0.0188048</td></tr>\n",
       "<tr><td>9880</td><td>3703</td><td>9880-3703</td><td>1-457149</td><td>v3_1_1</td><td>v3_1_1</td><td>v1_9_1</td><td>v5_5_36</td><td>v2_9</td><td>APOGEE-2&amp;MaNGA</td><td>MaNGA dither</td><td>195.839822404</td><td>28.3090530869</td><td>57.7296228812</td><td>87.1097129308</td><td>195.83982</td><td>28.309053</td><td>0.0103801</td><td>9</td><td>8100.68</td><td>0</td><td>26.582</td><td>51.0866</td><td>ma064</td><td>32</td><td>3</td><td>10429</td><td>196.27431</td><td>28.110994</td><td>1.05439</td><td>1.10671</td><td>1.18283</td><td>1.27829</td><td>1.33709</td><td>1.42629</td><td>0.848605</td><td>0.87045</td><td>0.888301</td><td>58223</td><td>58223</td><td>58224</td><td>2.42303</td><td>2.34804</td><td>2.30062</td><td>2.26348</td><td>1552</td><td>0</td><td>0</td><td>1</td><td>plateTargets-1.par</td><td>6459</td><td>J130321.55+281832.5</td><td>37</td><td>37</td><td>0</td><td>0.0184257</td><td>0.0159927</td><td>0.0243641</td><td>0.0340885</td><td>0.0378933</td><td>0.0134626</td><td>0.0277129</td><td>0.67973</td><td>1.86323</td><td>0.872136</td><td>0.934551</td><td>-999.0</td><td>-999.0</td><td>1.02816</td><td>0.631905</td><td>0.664037</td><td>155</td><td>5115</td><td>6</td><td>v1_0_1</td><td>483377</td><td>-999</td><td>0.0184257</td><td>0.0190231</td><td>-10.2521 .. -18.8608</td><td>-10.3644 .. -18.7117</td><td>3.61365 .. 42.4446</td><td>2917500000.0</td><td>2532010000.0</td><td>0.7017</td><td>94.8044</td><td>0.0864074 .. 0.0154157</td><td>3.92673</td><td>3.44442</td><td>0.396432 .. 887.572</td><td>35.2108 .. 4.91666e-05</td><td>0.366388 .. 928.259</td><td>31.9176 .. 6.03737e-05</td><td>0.605814</td><td>2.58889</td><td>95.1483</td><td>4.53153</td><td>0.338665 .. 1064.58</td><td>90.1361 .. 0.00751681</td></tr>\n",
       "<tr><td>9880</td><td>3704</td><td>9880-3704</td><td>1-457201</td><td>v3_1_1</td><td>v3_1_1</td><td>v1_9_1</td><td>v5_5_36</td><td>v2_9</td><td>APOGEE-2&amp;MaNGA</td><td>MaNGA dither</td><td>196.18057729</td><td>28.2515835149</td><td>54.6027771788</td><td>86.8522445422</td><td>196.18058</td><td>28.251584</td><td>0.00814516</td><td>9</td><td>8100.68</td><td>0</td><td>26.582</td><td>51.0866</td><td>ma063</td><td>37</td><td>3</td><td>10429</td><td>196.27431</td><td>28.110994</td><td>1.05277</td><td>1.10426</td><td>1.17934</td><td>1.27829</td><td>1.33709</td><td>1.42629</td><td>0.848605</td><td>0.87045</td><td>0.888301</td><td>58223</td><td>58223</td><td>58224</td><td>2.42231</td><td>2.40103</td><td>2.40304</td><td>2.40469</td><td>1216</td><td>0</td><td>0</td><td>1</td><td>plateTargets-1.par</td><td>6459</td><td>J130443.33+281505.6</td><td>37</td><td>37</td><td>0</td><td>0.0219034</td><td>0.0115062</td><td>0.0220021</td><td>0.0283709</td><td>0.0235387</td><td>0.0115062</td><td>0.0220021</td><td>0.67973</td><td>2.11145</td><td>2.11145</td><td>2.11145</td><td>-999.0</td><td>-999.0</td><td>2.11389</td><td>2.11389</td><td>2.11389</td><td>157</td><td>5115</td><td>6</td><td>v1_0_1</td><td>483433</td><td>-999</td><td>0.0219034</td><td>0.021814</td><td>-10.9055 .. -17.5793</td><td>-10.6834 .. -17.4273</td><td>0.807638 .. 300.519</td><td>721912000.0</td><td>631716000.0</td><td>0.467506</td><td>65.2698</td><td>0.0681235 .. 0.0121538</td><td>3.89298</td><td>3.04571</td><td>0.156776 .. 203.469</td><td>8.03815 .. 0.00379241</td><td>0.342496 .. 216.657</td><td>8.12671 .. 0.010345</td><td>0.313864</td><td>1.29078</td><td>64.8882</td><td>4.1642</td><td>0.432053 .. 249.013</td><td>20.5535 .. 0.0471157</td></tr>\n",
       "<tr><td>9880</td><td>6101</td><td>9880-6101</td><td>1-456649</td><td>v3_1_1</td><td>v3_1_1</td><td>v1_9_1</td><td>v5_5_36</td><td>v2_9</td><td>APOGEE-2&amp;MaNGA</td><td>MaNGA dither</td><td>195.636478417</td><td>27.2955655781</td><td>37.4395171756</td><td>87.5247959555</td><td>195.63648</td><td>27.295566</td><td>0.00868191</td><td>9</td><td>8100.68</td><td>0</td><td>23.1812</td><td>46.0518</td><td>ma069</td><td>21</td><td>3</td><td>10429</td><td>196.27431</td><td>28.110994</td><td>1.05766</td><td>1.11126</td><td>1.18925</td><td>1.27829</td><td>1.33709</td><td>1.42629</td><td>0.848605</td><td>0.87045</td><td>0.888301</td><td>58223</td><td>58223</td><td>58224</td><td>2.42317</td><td>2.36785</td><td>2.30947</td><td>2.2702</td><td>1168</td><td>0</td><td>0</td><td>1</td><td>plateTargets-1.par</td><td>6459</td><td>J130232.74+271744.0</td><td>61</td><td>61</td><td>0</td><td>0.0253754</td><td>0.0177236</td><td>0.0253851</td><td>0.0363943</td><td>0.0406524</td><td>0.0160424</td><td>0.0285943</td><td>0.67973</td><td>1.79312</td><td>0.747457</td><td>0.806508</td><td>-999.0</td><td>-999.0</td><td>1.00765</td><td>0.564147</td><td>0.597146</td><td>279</td><td>5087</td><td>4</td><td>v1_0_1</td><td>482803</td><td>-999</td><td>0.0253754</td><td>0.0252671</td><td>-11.3518 .. -19.3234</td><td>-10.6897 .. -19.1813</td><td>0.335043 .. 224.225</td><td>4316400000.0</td><td>3781550000.0</td><td>0.560995</td><td>118.211</td><td>0.071539 .. 0.0127631</td><td>5.94055</td><td>4.87172</td><td>0.211988 .. 848.308</td><td>5.28342 .. 0.000462626</td><td>0.26962 .. 803.991</td><td>5.43597 .. 0.000512296</td><td>0.461257</td><td>2.63028</td><td>118.093</td><td>7.3816</td><td>0.496527 .. 916.423</td><td>17.3673 .. 0.00110879</td></tr>\n",
       "<tr><td>9880</td><td>6102</td><td>9880-6102</td><td>1-457211</td><td>v3_1_1</td><td>v3_1_1</td><td>v1_9_1</td><td>v5_5_36</td><td>v2_9</td><td>APOGEE-2&amp;MaNGA</td><td>MaNGA dither</td><td>195.806967087</td><td>27.3690721375</td><td>38.8542149736</td><td>87.3686737276</td><td>195.80697</td><td>27.369072</td><td>0.00944747</td><td>9</td><td>8100.68</td><td>0</td><td>23.1812</td><td>46.0518</td><td>ma072</td><td>24</td><td>3</td><td>10429</td><td>196.27431</td><td>28.110994</td><td>1.0566</td><td>1.1097</td><td>1.18703</td><td>1.27829</td><td>1.33709</td><td>1.42629</td><td>0.848605</td><td>0.87045</td><td>0.888301</td><td>58223</td><td>58223</td><td>58224</td><td>2.35936</td><td>2.39291</td><td>2.38194</td><td>2.35562</td><td>1168</td><td>0</td><td>0</td><td>1</td><td>plateTargets-1.par</td><td>6459</td><td>J130313.66+272208.6</td><td>61</td><td>61</td><td>0</td><td>0.0212713</td><td>0.0181049</td><td>0.0256262</td><td>0.0369178</td><td>0.0411647</td><td>0.0160473</td><td>0.0283952</td><td>0.67973</td><td>1.77659</td><td>0.734415</td><td>0.792807</td><td>-999.0</td><td>-999.0</td><td>1.03377</td><td>0.566226</td><td>0.600314</td><td>156</td><td>5115</td><td>4</td><td>v1_0_1</td><td>483444</td><td>-999</td><td>0.0212713</td><td>0.0212723</td><td>-10.4654 .. -19.3766</td><td>-9.79267 .. -19.2628</td><td>0.153537 .. 825.987</td><td>4617040000.0</td><td>4155450000.0</td><td>0.504342</td><td>99.5236</td><td>0.0784565 .. 0.0139973</td><td>5.68413</td><td>4.4307</td><td>0.163999 .. 1229.99</td><td>5.93428 .. 0.00222068</td><td>0.175119 .. 1229.59</td><td>5.90342 .. 0.00250972</td><td>0.364136</td><td>2.97932</td><td>99.1925</td><td>7.27178</td><td>0.32666 .. 1365.41</td><td>20.3123 .. 0.0115729</td></tr>\n",
       "<tr><td>9880</td><td>6103</td><td>9880-6103</td><td>1-456989</td><td>v3_1_1</td><td>v3_1_1</td><td>v1_9_1</td><td>v5_5_36</td><td>v2_9</td><td>APOGEE-2&amp;MaNGA</td><td>MaNGA dither</td><td>195.590244425</td><td>28.256014587</td><td>58.5650572109</td><td>87.332155059</td><td>195.59024</td><td>28.256015</td><td>0.00915985</td><td>9</td><td>8100.68</td><td>0</td><td>23.1812</td><td>46.0518</td><td>ma073</td><td>28</td><td>3</td><td>10429</td><td>196.27431</td><td>28.110994</td><td>1.05578</td><td>1.10879</td><td>1.18579</td><td>1.27829</td><td>1.33709</td><td>1.42629</td><td>0.848605</td><td>0.87045</td><td>0.888301</td><td>58223</td><td>58223</td><td>58224</td><td>2.44632</td><td>2.30903</td><td>2.22861</td><td>2.17138</td><td>1040</td><td>0</td><td>0</td><td>1</td><td>plateTargets-1.par</td><td>6459</td><td>J130221.65+281521.5</td><td>61</td><td>61</td><td>0</td><td>0.0227214</td><td>0.0215106</td><td>0.0282837</td><td>0.0421124</td><td>0.0463583</td><td>0.0215106</td><td>0.0282837</td><td>0.67973</td><td>1.53145</td><td>0.597786</td><td>0.647337</td><td>-999.0</td><td>-999.0</td><td>1.53322</td><td>0.598056</td><td>0.647653</td><td>154</td><td>5115</td><td>6</td><td>v1_0_1</td><td>483206</td><td>-999</td><td>0.0227214</td><td>0.022629</td><td>-12.9694 .. -20.316</td><td>-13.5296 .. -20.1354</td><td>181.398 .. 1042.54</td><td>10484400000.0</td><td>9410290000.0</td><td>0.642804</td><td>59.9253</td><td>0.075438 .. 0.0134587</td><td>5.39485</td><td>4.58547</td><td>2.20153 .. 2409.19</td><td>11.701 .. 0.00304832</td><td>5.1936 .. 2419.5</td><td>11.1694 .. 0.0034018</td><td>0.530311</td><td>2.04881</td><td>59.6237</td><td>6.28851</td><td>3.02679 .. 2839.18</td><td>13.2791 .. 0.00992164</td></tr>\n",
       "<tr><td>9880</td><td>6104</td><td>9880-6104</td><td>1-457156</td><td>v3_1_1</td><td>v3_1_1</td><td>v1_9_1</td><td>v5_5_36</td><td>v2_9</td><td>APOGEE-2&amp;MaNGA</td><td>MaNGA dither</td><td>195.802628996</td><td>28.1724999114</td><td>55.4372207159</td><td>87.1918085083</td><td>195.80263</td><td>28.1725</td><td>0.00878526</td><td>9</td><td>8100.68</td><td>0</td><td>26.582</td><td>51.0866</td><td>ma074</td><td>30</td><td>3</td><td>10429</td><td>196.27431</td><td>28.110994</td><td>1.05486</td><td>1.10737</td><td>1.18378</td><td>1.27829</td><td>1.33709</td><td>1.42629</td><td>0.848605</td><td>0.87045</td><td>0.888301</td><td>58223</td><td>58223</td><td>58224</td><td>2.44433</td><td>2.3945</td><td>2.3757</td><td>2.36079</td><td>1168</td><td>0</td><td>0</td><td>1</td><td>plateTargets-1.par</td><td>6459</td><td>J130312.63+281020.9</td><td>61</td><td>61</td><td>0</td><td>0.0242543</td><td>0.0159948</td><td>0.0243653</td><td>0.0340912</td><td>0.0379016</td><td>0.0142985</td><td>0.0270608</td><td>0.67973</td><td>1.86315</td><td>0.871296</td><td>0.933704</td><td>-999.0</td><td>-999.0</td><td>1.14665</td><td>0.674267</td><td>0.711046</td><td>155</td><td>5115</td><td>6</td><td>v1_0_1</td><td>483385</td><td>-999</td><td>0.0242543</td><td>0.0241617</td><td>-10.9861 .. -18.6494</td><td>-10.5902 .. -18.6774</td><td>2.00167 .. 601.169</td><td>2648470000.0</td><td>2441600000.0</td><td>0.481242</td><td>60.867</td><td>0.0723831 .. 0.0129137</td><td>5.37926</td><td>4.18035</td><td>0.231781 .. 479.653</td><td>28.7972 .. 0.00370898</td><td>0.267369 .. 553.909</td><td>33.1141 .. 0.00503276</td><td>0.293744</td><td>3.26963</td><td>60.0885</td><td>6.82533</td><td>0.388534 .. 539.739</td><td>88.2594 .. 0.0300634</td></tr>\n",
       "<tr><td>9880</td><td>9101</td><td>9880-9101</td><td>1-591263</td><td>v3_1_1</td><td>v3_1_1</td><td>v1_9_1</td><td>v5_5_36</td><td>v2_9</td><td>APOGEE-2&amp;MaNGA</td><td>MaNGA dither</td><td>195.07973</td><td>28.87813</td><td>75.2012623222</td><td>87.3725178877</td><td>195.07973</td><td>28.87813</td><td>0.0111953</td><td>9</td><td>8100.68</td><td>64</td><td>23.1812</td><td>46.0518</td><td>ma152</td><td>26</td><td>3</td><td>10429</td><td>196.27431</td><td>28.110994</td><td>1.05723</td><td>1.11111</td><td>1.18906</td><td>1.27829</td><td>1.33709</td><td>1.42629</td><td>0.848605</td><td>0.87045</td><td>0.888301</td><td>58223</td><td>58223</td><td>58224</td><td>2.42948</td><td>2.36086</td><td>2.35293</td><td>2.34177</td><td>4416</td><td>0</td><td>0</td><td>1</td><td>plateTargets-1.par</td><td>6459</td><td>J130019.09+285240.9</td><td>91</td><td>91</td><td>0</td><td>0.0247672</td><td>0.0123655</td><td>0.022438</td><td>0.029452</td><td>0.0257714</td><td>0.012019</td><td>0.0253266</td><td>0.67973</td><td>-999.0</td><td>-999.0</td><td>-999.0</td><td>-999.0</td><td>-999.0</td><td>1.33283</td><td>1.33283</td><td>1.33283</td><td>85</td><td>4649</td><td>2</td><td>v1_0_1</td><td>629673</td><td>-999</td><td>0.0247672</td><td>0.0246827</td><td>-10.2655 .. -17.6068</td><td>-12.421 .. -18.0646</td><td>0.0 .. 2.84829</td><td>969722000.0</td><td>983289000.0</td><td>0.817223</td><td>159.403</td><td>0.0921559 .. 0.0164413</td><td>7.44326</td><td>10.4169</td><td>2.61319 .. 332.585</td><td>1.87466 .. 3.04876e-05</td><td>-1.08105 .. 297.113</td><td>13.9826 .. 3.81333e-05</td><td>0.624197</td><td>0.872047</td><td>161.575</td><td>7.23276</td><td>0.205198 .. 197.045</td><td>74.5412 .. 0.00160098</td></tr>\n",
       "<tr><td>9880</td><td>9102</td><td>9880-9102</td><td>1-457238</td><td>v3_1_1</td><td>v3_1_1</td><td>v1_9_1</td><td>v5_5_36</td><td>v2_9</td><td>APOGEE-2&amp;MaNGA</td><td>MaNGA dither</td><td>196.671360604</td><td>27.8841390702</td><td>46.4086138688</td><td>86.5357859057</td><td>196.67136</td><td>27.884139</td><td>0.011174</td><td>9</td><td>8100.68</td><td>0</td><td>26.582</td><td>51.0866</td><td>ma167</td><td>33</td><td>3</td><td>10429</td><td>196.27431</td><td>28.110994</td><td>1.05109</td><td>1.10159</td><td>1.1755</td><td>1.27829</td><td>1.33709</td><td>1.42629</td><td>0.848605</td><td>0.87045</td><td>0.888301</td><td>58223</td><td>58223</td><td>58224</td><td>2.37334</td><td>2.34384</td><td>2.34246</td><td>2.33515</td><td>1168</td><td>0</td><td>0</td><td>1</td><td>plateTargets-1.par</td><td>6459</td><td>J130641.12+275302.8</td><td>91</td><td>91</td><td>0</td><td>0.0235174</td><td>0.0152111</td><td>0.0239315</td><td>0.0330739</td><td>0.0348752</td><td>0.0137073</td><td>0.0274432</td><td>0.67973</td><td>1.89628</td><td>1.27393</td><td>1.32868</td><td>-999.0</td><td>-999.0</td><td>1.07071</td><td>0.83922</td><td>0.862637</td><td>284</td><td>5087</td><td>6</td><td>v1_0_1</td><td>483474</td><td>-999</td><td>0.0235174</td><td>0.0234246</td><td>-7.93893 .. -18.7674</td><td>-10.2549 .. -18.6062</td><td>0.101533 .. 494.672</td><td>2762920000.0</td><td>2207300000.0</td><td>0.469705</td><td>46.6344</td><td>0.0930525 .. 0.0166013</td><td>7.71037</td><td>6.36659</td><td>0.317753 .. 566.149</td><td>1.71127 .. 0.0022837</td><td>0.220801 .. 550.305</td><td>2.45541 .. 0.00347078</td><td>0.378177</td><td>3.09441</td><td>47.4822</td><td>10.987</td><td>0.0276351 .. 638.164</td><td>8.46121 .. 0.0178352</td></tr>\n",
       "</table></div>"
      ],
      "text/plain": [
       "<Table length=444>\n",
       "plate ifudsgn ...    nsa_sersic_flux [7]      nsa_sersic_flux_ivar [7] \n",
       "int64 bytes32 ...          float64                    float64          \n",
       "----- ------- ... ------------------------- ---------------------------\n",
       "11004   12701 ...    157.92967 .. 1400.5504   0.16473667 .. 0.004398549\n",
       "11004   12702 ...    10.619541 .. 595.78735  0.13114797 .. 0.0013952313\n",
       "11004   12703 ...     22.114298 .. 5312.244   0.04571163 .. 0.000595797\n",
       "11004   12704 ...     4.4769745 .. 9989.227    1.3857787 .. 0.000965352\n",
       "11004    1901 ...   0.48110804 .. 1209.0835     31.563408 .. 0.03344413\n",
       "11004    3702 ...     65.12362 .. 775.80096    0.5339635 .. 0.017649686\n",
       "11004    3704 ...     25.026579 .. 928.4924 0.044921216 .. 0.0033749905\n",
       "11004    6101 ...      2.494391 .. 4624.799    4.984297 .. 0.0025102382\n",
       "11004    6103 ... 0.0010456638 .. 1105.9794    12.795588 .. 0.011766604\n",
       "11004    6104 ...       25.508 .. 3047.8115  0.06285119 .. 0.0054801535\n",
       "  ...     ... ...                       ...                         ...\n",
       " 9880    3701 ...        3.06641 .. 7843.72    0.0251458 .. 6.72308e-06\n",
       " 9880    3702 ...        0.67882 .. 1536.06        20.2181 .. 0.0188048\n",
       " 9880    3703 ...       0.338665 .. 1064.58       90.1361 .. 0.00751681\n",
       " 9880    3704 ...       0.432053 .. 249.013        20.5535 .. 0.0471157\n",
       " 9880    6101 ...       0.496527 .. 916.423       17.3673 .. 0.00110879\n",
       " 9880    6102 ...        0.32666 .. 1365.41        20.3123 .. 0.0115729\n",
       " 9880    6103 ...        3.02679 .. 2839.18       13.2791 .. 0.00992164\n",
       " 9880    6104 ...       0.388534 .. 539.739        88.2594 .. 0.0300634\n",
       " 9880    9101 ...       0.205198 .. 197.045       74.5412 .. 0.00160098\n",
       " 9880    9102 ...      0.0276351 .. 638.164        8.46121 .. 0.0178352"
      ]
     },
     "execution_count": 53,
     "metadata": {},
     "output_type": "execute_result"
    }
   ],
   "source": [
    "MaNGA_in_Coma1 = (sep < 1.5*R2t_Coma_angle) & (drpall['z']*c > V_Coma - 3*sigma_Coma) & (drpall['z']*c < V_Coma + 3*sigma_Coma)\n",
    "\n",
    "MaNGA_in_Coma2 = (sep >= 1.5*R2t_Coma_angle) & (sep < 3*R2t_Coma_angle) & (drpall['z']*c > V_Coma - 2*sigma_Coma) & (drpall['z']*c < V_Coma + 2*sigma_Coma)\n",
    "\n",
    "MaNGA_in_Coma = MaNGA_in_Coma1 | MaNGA_in_Coma2\n",
    "\n",
    "################################################################################\n",
    "# Keep all instances of each SGA_ID that are within the Coma cluster\n",
    "#-------------------------------------------------------------------------------\n",
    "MaNGA_ID_in_Coma = np.unique(drpall['mangaid'][MaNGA_in_Coma])\n",
    "\n",
    "idx_MaNGA_in_coma = np.in1d(drpall['mangaid'], MaNGA_ID_in_Coma)\n",
    "\n",
    "inComa_MaNGA_table = drpall[idx_MaNGA_in_coma]\n",
    "################################################################################\n",
    "\n",
    "inComa_MaNGA_table"
   ]
  },
  {
   "cell_type": "code",
   "execution_count": 74,
   "id": "a47f8211-7203-4692-abab-5a80c63fdeb0",
   "metadata": {},
   "outputs": [
    {
     "data": {
      "text/plain": [
       "Text(0, 0.5, 'Count')"
      ]
     },
     "execution_count": 74,
     "metadata": {},
     "output_type": "execute_result"
    },
    {
     "data": {
      "image/png": "[encoded data removed]",
      "text/plain": [
       "<Figure size 432x288 with 1 Axes>"
      ]
     },
     "metadata": {
      "needs_background": "light"
     },
     "output_type": "display_data"
    }
   ],
   "source": [
    "plt.hist(sep[MaNGA_in_Coma].to_value('degree'))\n",
    "plt.xlabel('MaNGA-Coma Angular Separation [deg]')\n",
    "plt.ylabel('Count')"
   ]
  },
  {
   "cell_type": "code",
   "execution_count": 76,
   "id": "d7a3648a-02f7-4443-b17f-ea5481a00e8f",
   "metadata": {},
   "outputs": [
    {
     "data": {
      "image/png": "[encoded data removed]",
      "text/plain": [
       "<Figure size 864x360 with 2 Axes>"
      ]
     },
     "metadata": {
      "needs_background": "light"
     },
     "output_type": "display_data"
    }
   ],
   "source": [
    "fig, axes = plt.subplots(1,2, figsize=(12,5), tight_layout=True)\n",
    "ax = axes[0]\n",
    "ax.plot(inComa_MaNGA_table['objdec'], inComa_MaNGA_table['objra'], '.')\n",
    "ax = axes[1]\n",
    "ax.hist(inComa_MaNGA_table['z']);"
   ]
  },
  {
   "cell_type": "markdown",
   "id": "a1111681-b016-4322-a58d-a4fb87361bb3",
   "metadata": {
    "jp-MarkdownHeadingCollapsed": true,
    "tags": []
   },
   "source": [
    "## Virgo Cluster"
   ]
  },
  {
   "cell_type": "code",
   "execution_count": 118,
   "id": "a9799a56-2770-4a87-b7fe-4d71dee27f34",
   "metadata": {},
   "outputs": [],
   "source": [
    "virgo_nest = 100002\n",
    "\n",
    "virgo_row_t3 = table3['Nest'] == virgo_nest\n",
    "\n",
    "R2t_virgo = table3['R2t'][virgo_row_t3][0]\n",
    "sigma_virgo = table3['sigP'][virgo_row_t3][0]"
   ]
  },
  {
   "cell_type": "code",
   "execution_count": 119,
   "id": "687510b0-f873-4cc4-8c25-fa7e4f54f2c1",
   "metadata": {},
   "outputs": [],
   "source": [
    "virgo_coords = SkyCoord(table3['SGLON'][virgo_row_t3]*u.degree, \n",
    "                       table3['SGLAT'][virgo_row_t3]*u.degree, \n",
    "                       frame='supergalactic')\n",
    "\n",
    "v_group_coords = SkyCoord(table2['SGLON']*u.degree, \n",
    "                        table2['SGLAT']*u.degree, \n",
    "                        frame='supergalactic')\n",
    "\n",
    "idx, d2d, d3d = virgo_coords.match_to_catalog_sky(v_group_coords)\n",
    "\n",
    "V_virgo = table2['__HV_'][idx][0]"
   ]
  },
  {
   "cell_type": "code",
   "execution_count": 120,
   "id": "ffcbdf17-c3e1-4d93-a1fe-6660dc29b1df",
   "metadata": {},
   "outputs": [],
   "source": [
    "# First, we need to convert R2t from Mpc to an angle, using the group's heliocentric velocity\n",
    "R2t_virgo_angle = (R2t_virgo/(V_virgo/H0))*u.radian"
   ]
  },
  {
   "cell_type": "code",
   "execution_count": 121,
   "id": "947fcfbe-d633-43fe-be6b-98ecc2bdd634",
   "metadata": {},
   "outputs": [],
   "source": [
    "v_tf_coords = SkyCoord(drpall['objra'], drpall['objdec'], unit='deg')\n",
    "\n",
    "vsep = virgo_coords.separation(v_tf_coords)"
   ]
  },
  {
   "cell_type": "code",
   "execution_count": 123,
   "id": "62195789-4a22-47c7-8eff-145b4960aef7",
   "metadata": {},
   "outputs": [
    {
     "data": {
      "text/plain": [
       "Text(0, 0.5, 'Count')"
      ]
     },
     "execution_count": 123,
     "metadata": {},
     "output_type": "execute_result"
    },
    {
     "data": {
      "image/png": "[encoded data removed]",
      "text/plain": [
       "<Figure size 432x288 with 1 Axes>"
      ]
     },
     "metadata": {
      "needs_background": "light"
     },
     "output_type": "display_data"
    }
   ],
   "source": [
    "plt.hist(vsep.to_value('degree'))\n",
    "plt.xlabel('MaNGA-Virgo Angular Separation [deg]')\n",
    "plt.ylabel('Count')"
   ]
  },
  {
   "cell_type": "code",
   "execution_count": 122,
   "id": "64b9096c-4f5e-4b30-9542-cf4a6c7ab661",
   "metadata": {},
   "outputs": [
    {
     "data": {
      "text/html": [
       "<div><i>Table length=1</i>\n",
       "<table id=\"table23453697963056\" class=\"table-striped table-bordered table-condensed\">\n",
       "<thead><tr><th>plate</th><th>ifudsgn</th><th>plateifu</th><th>mangaid</th><th>versdrp2</th><th>versdrp3</th><th>verscore</th><th>versutil</th><th>versprim</th><th>platetyp</th><th>srvymode</th><th>objra</th><th>objdec</th><th>ifuglon</th><th>ifuglat</th><th>ifura</th><th>ifudec</th><th>ebvgal</th><th>nexp</th><th>exptime</th><th>drp3qual</th><th>bluesn2</th><th>redsn2</th><th>harname</th><th>frlplug</th><th>cartid</th><th>designid</th><th>cenra</th><th>cendec</th><th>airmsmin</th><th>airmsmed</th><th>airmsmax</th><th>seemin</th><th>seemed</th><th>seemax</th><th>transmin</th><th>transmed</th><th>transmax</th><th>mjdmin</th><th>mjdmed</th><th>mjdmax</th><th>gfwhm</th><th>rfwhm</th><th>ifwhm</th><th>zfwhm</th><th>mngtarg1</th><th>mngtarg2</th><th>mngtarg3</th><th>catidnum</th><th>plttarg</th><th>manga_tileid</th><th>nsa_iauname</th><th>ifudesignsize</th><th>ifutargetsize</th><th>ifudesignwrongsize</th><th>z</th><th>zmin</th><th>zmax</th><th>szmin</th><th>szmax</th><th>ezmin</th><th>ezmax</th><th>probs</th><th>pweight</th><th>psweight</th><th>psrweight</th><th>sweight</th><th>srweight</th><th>eweight</th><th>esweight</th><th>esrweight</th><th>nsa_field</th><th>nsa_run</th><th>nsa_camcol</th><th>nsa_version</th><th>nsa_nsaid</th><th>nsa_nsaid_v1b</th><th>nsa_z</th><th>nsa_zdist</th><th>nsa_sersic_absmag [7]</th><th>nsa_elpetro_absmag [7]</th><th>nsa_elpetro_amivar [7]</th><th>nsa_sersic_mass</th><th>nsa_elpetro_mass</th><th>nsa_elpetro_ba</th><th>nsa_elpetro_phi</th><th>nsa_extinction [7]</th><th>nsa_elpetro_th50_r</th><th>nsa_petro_th50</th><th>nsa_petro_flux [7]</th><th>nsa_petro_flux_ivar [7]</th><th>nsa_elpetro_flux [7]</th><th>nsa_elpetro_flux_ivar [7]</th><th>nsa_sersic_ba</th><th>nsa_sersic_n</th><th>nsa_sersic_phi</th><th>nsa_sersic_th50</th><th>nsa_sersic_flux [7]</th><th>nsa_sersic_flux_ivar [7]</th></tr></thead>\n",
       "<thead><tr><th>int64</th><th>bytes32</th><th>bytes32</th><th>bytes32</th><th>bytes32</th><th>bytes32</th><th>bytes32</th><th>bytes32</th><th>bytes32</th><th>bytes32</th><th>bytes32</th><th>float64</th><th>float64</th><th>float64</th><th>float64</th><th>float64</th><th>float64</th><th>float64</th><th>int64</th><th>float64</th><th>int64</th><th>float64</th><th>float64</th><th>bytes53</th><th>int64</th><th>bytes32</th><th>int64</th><th>float64</th><th>float64</th><th>float64</th><th>float64</th><th>float64</th><th>float64</th><th>float64</th><th>float64</th><th>float64</th><th>float64</th><th>float64</th><th>int64</th><th>int64</th><th>int64</th><th>float64</th><th>float64</th><th>float64</th><th>float64</th><th>int64</th><th>int64</th><th>int64</th><th>int64</th><th>bytes32</th><th>int64</th><th>bytes19</th><th>int64</th><th>int64</th><th>int64</th><th>float64</th><th>float64</th><th>float64</th><th>float64</th><th>float64</th><th>float64</th><th>float64</th><th>float64</th><th>float64</th><th>float64</th><th>float64</th><th>float64</th><th>float64</th><th>float64</th><th>float64</th><th>float64</th><th>int64</th><th>int64</th><th>int64</th><th>bytes6</th><th>int64</th><th>int64</th><th>float64</th><th>float64</th><th>float64</th><th>float64</th><th>float64</th><th>float64</th><th>float64</th><th>float64</th><th>float64</th><th>float64</th><th>float64</th><th>float64</th><th>float64</th><th>float64</th><th>float64</th><th>float64</th><th>float64</th><th>float64</th><th>float64</th><th>float64</th><th>float64</th><th>float64</th></tr></thead>\n",
       "<tr><td>12483</td><td>9102</td><td>12483-9102</td><td>1-405438</td><td>v3_1_1</td><td>v3_1_1</td><td>v1_9_1</td><td>v5_5_36</td><td>v2_9</td><td>APOGEE-2&amp;MaNGA</td><td>MaNGA dither</td><td>186.453994751</td><td>33.5469017029</td><td>162.093602143</td><td>81.5331508757</td><td>186.45399</td><td>33.546902</td><td>0.01721</td><td>6</td><td>5400.45</td><td>4098</td><td>16.3636</td><td>29.5976</td><td>ma022</td><td>33</td><td>2</td><td>12782</td><td>186.19139</td><td>33.589684</td><td>1.02317</td><td>1.04653</td><td>1.06817</td><td>1.10526</td><td>1.29091</td><td>1.45921</td><td>0.765083</td><td>0.81324</td><td>0.818065</td><td>58928</td><td>58929</td><td>58929</td><td>2.52119</td><td>2.47127</td><td>2.43225</td><td>2.41408</td><td>0</td><td>0</td><td>16</td><td>1</td><td>plateTargets-1.par</td><td>6446</td><td>J122548.86+333248.7</td><td>91</td><td>-999</td><td>0</td><td>0.0010636672</td><td>-999.0</td><td>-999.0</td><td>-999.0</td><td>-999.0</td><td>-999.0</td><td>-999.0</td><td>-999.0</td><td>-999.0</td><td>-999.0</td><td>-999.0</td><td>-999.0</td><td>-999.0</td><td>-999.0</td><td>-999.0</td><td>-999.0</td><td>109</td><td>4599</td><td>6</td><td>v1_0_1</td><td>428850</td><td>-999</td><td>0.0010636672</td><td>0.0019267546</td><td>-15.324541 .. -18.421743</td><td>-15.404062 .. -18.381721</td><td>624.59607 .. 875.3352</td><td>1179235100.0</td><td>1152443000.0</td><td>0.6917723</td><td>126.466835</td><td>0.14254883 .. 0.025431812</td><td>161.09877</td><td>88.44558</td><td>2412.135 .. 40069.973</td><td>0.11966102 .. 1.065575e-05</td><td>3806.4265 .. 68245.57</td><td>0.07866019 .. 1.044076e-06</td><td>0.6731956</td><td>1.476081</td><td>131.12589</td><td>159.75781</td><td>3536.6765 .. 70811.94</td><td>0.0663784 .. 6.8438526e-06</td></tr>\n",
       "</table></div>"
      ],
      "text/plain": [
       "<Table length=1>\n",
       "plate ifudsgn  plateifu  ...  nsa_sersic_flux [7]   nsa_sersic_flux_ivar [7] \n",
       "int64 bytes32  bytes32   ...        float64                 float64          \n",
       "----- ------- ---------- ... --------------------- --------------------------\n",
       "12483    9102 12483-9102 ... 3536.6765 .. 70811.94 0.0663784 .. 6.8438526e-06"
      ]
     },
     "execution_count": 122,
     "metadata": {},
     "output_type": "execute_result"
    }
   ],
   "source": [
    "MaNGA_in_virgo1 = (vsep < 1.5*R2t_virgo_angle) & (drpall['z']*c > V_virgo - 3*sigma_virgo) & (drpall['z']*c < V_virgo + 3*sigma_virgo)\n",
    "\n",
    "MaNGA_in_virgo2 = (vsep >= 1.5*R2t_virgo_angle) & (vsep < 3*R2t_virgo_angle) & (drpall['z']*c > V_virgo - 2*sigma_virgo) & (drpall['z']*c < V_virgo + 2*sigma_virgo)\n",
    "\n",
    "MaNGA_in_virgo = MaNGA_in_virgo1 | MaNGA_in_virgo2\n",
    "\n",
    "################################################################################\n",
    "# Keep all instances of each SGA_ID that are within the Coma cluster\n",
    "#-------------------------------------------------------------------------------\n",
    "MaNGA_ID_in_virgo = np.unique(drpall['mangaid'][MaNGA_in_virgo])\n",
    "\n",
    "idx_MaNGA_in_virgo = np.in1d(drpall['mangaid'], MaNGA_ID_in_virgo)\n",
    "\n",
    "inVirgo_MaNGA_table = drpall[idx_MaNGA_in_virgo]\n",
    "################################################################################\n",
    "\n",
    "inVirgo_MaNGA_table"
   ]
  },
  {
   "cell_type": "code",
   "execution_count": 124,
   "id": "ba419e3d-28c2-4bef-9052-8125e30c62e3",
   "metadata": {},
   "outputs": [
    {
     "data": {
      "text/plain": [
       "Text(0, 0.5, 'Count')"
      ]
     },
     "execution_count": 124,
     "metadata": {},
     "output_type": "execute_result"
    },
    {
     "data": {
      "image/png": "[encoded data removed]",
      "text/plain": [
       "<Figure size 432x288 with 1 Axes>"
      ]
     },
     "metadata": {
      "needs_background": "light"
     },
     "output_type": "display_data"
    }
   ],
   "source": [
    "plt.hist(sep[MaNGA_in_virgo].to_value('degree'))\n",
    "plt.xlabel('MaNGA-Virgo Angular Separation [deg]')\n",
    "plt.ylabel('Count')"
   ]
  },
  {
   "cell_type": "code",
   "execution_count": 125,
   "id": "8ef2d80f-bf52-41e7-983e-7ffe7f3b8e37",
   "metadata": {},
   "outputs": [
    {
     "data": {
      "image/png": "[encoded data removed]",
      "text/plain": [
       "<Figure size 864x360 with 2 Axes>"
      ]
     },
     "metadata": {
      "needs_background": "light"
     },
     "output_type": "display_data"
    }
   ],
   "source": [
    "fig, axes = plt.subplots(1,2, figsize=(12,5), tight_layout=True)\n",
    "ax = axes[0]\n",
    "ax.plot(inVirgo_MaNGA_table['objdec'], inVirgo_MaNGA_table['objra'], '.')\n",
    "ax = axes[1]\n",
    "ax.hist(inVirgo_MaNGA_table['z']);"
   ]
  },
  {
   "cell_type": "markdown",
   "id": "1141a491-b4c1-4c0d-9d0e-f1e13ab729dc",
   "metadata": {
    "jp-MarkdownHeadingCollapsed": true,
    "tags": []
   },
   "source": [
    "## Centaurus"
   ]
  },
  {
   "cell_type": "code",
   "execution_count": 25,
   "id": "abf9d197-cbc9-44a8-b3e8-b439c97c79a8",
   "metadata": {},
   "outputs": [],
   "source": [
    "cent_nest = 100003\n",
    "\n",
    "cent_row_t3 = table3['Nest'] == cent_nest\n",
    "\n",
    "R2t_cent = table3['R2t'][cent_row_t3][0]\n",
    "sigma_cent = table3['sigP'][cent_row_t3][0]"
   ]
  },
  {
   "cell_type": "code",
   "execution_count": 26,
   "id": "d125dee3-ad49-4492-8c92-99aeaa9f728f",
   "metadata": {},
   "outputs": [],
   "source": [
    "cent_coords = SkyCoord(table3['SGLON'][cent_row_t3]*u.degree, \n",
    "                       table3['SGLAT'][cent_row_t3]*u.degree, \n",
    "                       frame='supergalactic')\n",
    "\n",
    "c_group_coords = SkyCoord(table2['SGLON']*u.degree, \n",
    "                        table2['SGLAT']*u.degree, \n",
    "                        frame='supergalactic')\n",
    "\n",
    "idx, d2d, d3d = cent_coords.match_to_catalog_sky(c_group_coords)\n",
    "\n",
    "V_cent = table2['__HV_'][idx][0]"
   ]
  },
  {
   "cell_type": "code",
   "execution_count": 27,
   "id": "461cf5ea-4a77-4e8f-b3fe-2d6727007c03",
   "metadata": {},
   "outputs": [],
   "source": [
    "# First, we need to convert R2t from Mpc to an angle, using the group's heliocentric velocity\n",
    "R2t_cent_angle = (R2t_cent/(V_cent/H0))*u.radian"
   ]
  },
  {
   "cell_type": "code",
   "execution_count": 28,
   "id": "5da6318b-5a26-49e8-ad6e-6b21e27fc5a9",
   "metadata": {},
   "outputs": [],
   "source": [
    "c_tf_coords = SkyCoord(drpall['objra'], drpall['objdec'], unit='deg')\n",
    "\n",
    "csep = cent_coords.separation(c_tf_coords)"
   ]
  },
  {
   "cell_type": "code",
   "execution_count": 29,
   "id": "fe01f1e5-efdf-4a55-bab4-fa9bb9a8e6dc",
   "metadata": {},
   "outputs": [
    {
     "data": {
      "text/html": [
       "<div><i>Table length=0</i>\n",
       "<table id=\"table23453736785904\" class=\"table-striped table-bordered table-condensed\">\n",
       "<thead><tr><th>plate</th><th>ifudsgn</th><th>plateifu</th><th>mangaid</th><th>versdrp2</th><th>versdrp3</th><th>verscore</th><th>versutil</th><th>versprim</th><th>platetyp</th><th>srvymode</th><th>objra</th><th>objdec</th><th>ifuglon</th><th>ifuglat</th><th>ifura</th><th>ifudec</th><th>ebvgal</th><th>nexp</th><th>exptime</th><th>drp3qual</th><th>bluesn2</th><th>redsn2</th><th>harname</th><th>frlplug</th><th>cartid</th><th>designid</th><th>cenra</th><th>cendec</th><th>airmsmin</th><th>airmsmed</th><th>airmsmax</th><th>seemin</th><th>seemed</th><th>seemax</th><th>transmin</th><th>transmed</th><th>transmax</th><th>mjdmin</th><th>mjdmed</th><th>mjdmax</th><th>gfwhm</th><th>rfwhm</th><th>ifwhm</th><th>zfwhm</th><th>mngtarg1</th><th>mngtarg2</th><th>mngtarg3</th><th>catidnum</th><th>plttarg</th><th>manga_tileid</th><th>nsa_iauname</th><th>ifudesignsize</th><th>ifutargetsize</th><th>ifudesignwrongsize</th><th>z</th><th>zmin</th><th>zmax</th><th>szmin</th><th>szmax</th><th>ezmin</th><th>ezmax</th><th>probs</th><th>pweight</th><th>psweight</th><th>psrweight</th><th>sweight</th><th>srweight</th><th>eweight</th><th>esweight</th><th>esrweight</th><th>nsa_field</th><th>nsa_run</th><th>nsa_camcol</th><th>nsa_version</th><th>nsa_nsaid</th><th>nsa_nsaid_v1b</th><th>nsa_z</th><th>nsa_zdist</th><th>nsa_sersic_absmag [7]</th><th>nsa_elpetro_absmag [7]</th><th>nsa_elpetro_amivar [7]</th><th>nsa_sersic_mass</th><th>nsa_elpetro_mass</th><th>nsa_elpetro_ba</th><th>nsa_elpetro_phi</th><th>nsa_extinction [7]</th><th>nsa_elpetro_th50_r</th><th>nsa_petro_th50</th><th>nsa_petro_flux [7]</th><th>nsa_petro_flux_ivar [7]</th><th>nsa_elpetro_flux [7]</th><th>nsa_elpetro_flux_ivar [7]</th><th>nsa_sersic_ba</th><th>nsa_sersic_n</th><th>nsa_sersic_phi</th><th>nsa_sersic_th50</th><th>nsa_sersic_flux [7]</th><th>nsa_sersic_flux_ivar [7]</th></tr></thead>\n",
       "<thead><tr><th>int64</th><th>bytes32</th><th>bytes32</th><th>bytes32</th><th>bytes32</th><th>bytes32</th><th>bytes32</th><th>bytes32</th><th>bytes32</th><th>bytes32</th><th>bytes32</th><th>float64</th><th>float64</th><th>float64</th><th>float64</th><th>float64</th><th>float64</th><th>float64</th><th>int64</th><th>float64</th><th>int64</th><th>float64</th><th>float64</th><th>bytes53</th><th>int64</th><th>bytes32</th><th>int64</th><th>float64</th><th>float64</th><th>float64</th><th>float64</th><th>float64</th><th>float64</th><th>float64</th><th>float64</th><th>float64</th><th>float64</th><th>float64</th><th>int64</th><th>int64</th><th>int64</th><th>float64</th><th>float64</th><th>float64</th><th>float64</th><th>int64</th><th>int64</th><th>int64</th><th>int64</th><th>bytes32</th><th>int64</th><th>bytes19</th><th>int64</th><th>int64</th><th>int64</th><th>float64</th><th>float64</th><th>float64</th><th>float64</th><th>float64</th><th>float64</th><th>float64</th><th>float64</th><th>float64</th><th>float64</th><th>float64</th><th>float64</th><th>float64</th><th>float64</th><th>float64</th><th>float64</th><th>int64</th><th>int64</th><th>int64</th><th>bytes6</th><th>int64</th><th>int64</th><th>float64</th><th>float64</th><th>float64</th><th>float64</th><th>float64</th><th>float64</th><th>float64</th><th>float64</th><th>float64</th><th>float64</th><th>float64</th><th>float64</th><th>float64</th><th>float64</th><th>float64</th><th>float64</th><th>float64</th><th>float64</th><th>float64</th><th>float64</th><th>float64</th><th>float64</th></tr></thead>\n",
       "</table></div>"
      ],
      "text/plain": [
       "<Table length=0>\n",
       "plate ifudsgn plateifu ... nsa_sersic_flux [7] nsa_sersic_flux_ivar [7]\n",
       "int64 bytes32 bytes32  ...       float64               float64         \n",
       "----- ------- -------- ... ------------------- ------------------------"
      ]
     },
     "execution_count": 29,
     "metadata": {},
     "output_type": "execute_result"
    }
   ],
   "source": [
    "MaNGA_in_cent1 = (csep < 1.5*R2t_cent_angle) & (drpall['z']*c > V_cent - 3*sigma_cent) & (drpall['z']*c < V_cent + 3*sigma_cent)\n",
    "\n",
    "MaNGA_in_cent2 = (csep >= 1.5*R2t_cent_angle) & (csep < 3*R2t_cent_angle) & (drpall['z']*c > V_cent - 2*sigma_cent) & (drpall['z']*c < V_cent + 2*sigma_cent)\n",
    "\n",
    "MaNGA_in_cent = MaNGA_in_cent1 | MaNGA_in_cent2\n",
    "\n",
    "################################################################################\n",
    "# Keep all instances of each SGA_ID that are within the Coma cluster\n",
    "#-------------------------------------------------------------------------------\n",
    "MaNGA_ID_in_cent = np.unique(drpall['mangaid'][MaNGA_in_cent])\n",
    "\n",
    "idx_MaNGA_in_cent = np.in1d(drpall['mangaid'], MaNGA_ID_in_cent)\n",
    "\n",
    "inCentaurus_MaNGA_table = drpall[idx_MaNGA_in_cent]\n",
    "################################################################################\n",
    "\n",
    "inCentaurus_MaNGA_table"
   ]
  },
  {
   "cell_type": "markdown",
   "id": "bdcf09d1-b328-4754-9ba7-68ab7ca4fd89",
   "metadata": {
    "jp-MarkdownHeadingCollapsed": true,
    "tags": []
   },
   "source": [
    "## Abell 1367"
   ]
  },
  {
   "cell_type": "code",
   "execution_count": 30,
   "id": "ccfdb719-449a-4cbd-96d2-c12559a36a5e",
   "metadata": {},
   "outputs": [],
   "source": [
    "a1367_nest = 100005\n",
    "\n",
    "a1367_row_t3 = table3['Nest'] == a1367_nest\n",
    "\n",
    "R2t_a1367 = table3['R2t'][a1367_row_t3][0]\n",
    "sigma_a1367 = table3['sigP'][a1367_row_t3][0]"
   ]
  },
  {
   "cell_type": "code",
   "execution_count": 31,
   "id": "29c751f9-9e05-4325-b6c6-2a04713ab9d9",
   "metadata": {},
   "outputs": [],
   "source": [
    "a1367_coords = SkyCoord(table3['SGLON'][a1367_row_t3]*u.degree, \n",
    "                       table3['SGLAT'][a1367_row_t3]*u.degree, \n",
    "                       frame='supergalactic')\n",
    "\n",
    "a1367_group_coords = SkyCoord(table2['SGLON']*u.degree, \n",
    "                        table2['SGLAT']*u.degree, \n",
    "                        frame='supergalactic')\n",
    "\n",
    "idx, d2d, d3d = a1367_coords.match_to_catalog_sky(a1367_group_coords)\n",
    "\n",
    "V_a1367 = table2['__HV_'][idx][0]"
   ]
  },
  {
   "cell_type": "code",
   "execution_count": 32,
   "id": "357645bf-089e-40d2-8356-1d7790150df1",
   "metadata": {},
   "outputs": [],
   "source": [
    "# First, we need to convert R2t from Mpc to an angle, using the group's heliocentric velocity\n",
    "R2t_a1367_angle = (R2t_a1367/(V_a1367/H0))*u.radian"
   ]
  },
  {
   "cell_type": "code",
   "execution_count": 33,
   "id": "44b25fce-1e9d-4150-80a6-e2b167336cb1",
   "metadata": {},
   "outputs": [],
   "source": [
    "a1367_tf_coords = SkyCoord(drpall['objra'], drpall['objdec'], unit='deg')\n",
    "\n",
    "a13sep = a1367_coords.separation(a1367_tf_coords)"
   ]
  },
  {
   "cell_type": "code",
   "execution_count": 34,
   "id": "b843efc9-6678-4c2d-b9b8-79c985d8faef",
   "metadata": {},
   "outputs": [
    {
     "data": {
      "text/html": [
       "<div><i>Table length=0</i>\n",
       "<table id=\"table23453737200608\" class=\"table-striped table-bordered table-condensed\">\n",
       "<thead><tr><th>plate</th><th>ifudsgn</th><th>plateifu</th><th>mangaid</th><th>versdrp2</th><th>versdrp3</th><th>verscore</th><th>versutil</th><th>versprim</th><th>platetyp</th><th>srvymode</th><th>objra</th><th>objdec</th><th>ifuglon</th><th>ifuglat</th><th>ifura</th><th>ifudec</th><th>ebvgal</th><th>nexp</th><th>exptime</th><th>drp3qual</th><th>bluesn2</th><th>redsn2</th><th>harname</th><th>frlplug</th><th>cartid</th><th>designid</th><th>cenra</th><th>cendec</th><th>airmsmin</th><th>airmsmed</th><th>airmsmax</th><th>seemin</th><th>seemed</th><th>seemax</th><th>transmin</th><th>transmed</th><th>transmax</th><th>mjdmin</th><th>mjdmed</th><th>mjdmax</th><th>gfwhm</th><th>rfwhm</th><th>ifwhm</th><th>zfwhm</th><th>mngtarg1</th><th>mngtarg2</th><th>mngtarg3</th><th>catidnum</th><th>plttarg</th><th>manga_tileid</th><th>nsa_iauname</th><th>ifudesignsize</th><th>ifutargetsize</th><th>ifudesignwrongsize</th><th>z</th><th>zmin</th><th>zmax</th><th>szmin</th><th>szmax</th><th>ezmin</th><th>ezmax</th><th>probs</th><th>pweight</th><th>psweight</th><th>psrweight</th><th>sweight</th><th>srweight</th><th>eweight</th><th>esweight</th><th>esrweight</th><th>nsa_field</th><th>nsa_run</th><th>nsa_camcol</th><th>nsa_version</th><th>nsa_nsaid</th><th>nsa_nsaid_v1b</th><th>nsa_z</th><th>nsa_zdist</th><th>nsa_sersic_absmag [7]</th><th>nsa_elpetro_absmag [7]</th><th>nsa_elpetro_amivar [7]</th><th>nsa_sersic_mass</th><th>nsa_elpetro_mass</th><th>nsa_elpetro_ba</th><th>nsa_elpetro_phi</th><th>nsa_extinction [7]</th><th>nsa_elpetro_th50_r</th><th>nsa_petro_th50</th><th>nsa_petro_flux [7]</th><th>nsa_petro_flux_ivar [7]</th><th>nsa_elpetro_flux [7]</th><th>nsa_elpetro_flux_ivar [7]</th><th>nsa_sersic_ba</th><th>nsa_sersic_n</th><th>nsa_sersic_phi</th><th>nsa_sersic_th50</th><th>nsa_sersic_flux [7]</th><th>nsa_sersic_flux_ivar [7]</th></tr></thead>\n",
       "<thead><tr><th>int64</th><th>bytes32</th><th>bytes32</th><th>bytes32</th><th>bytes32</th><th>bytes32</th><th>bytes32</th><th>bytes32</th><th>bytes32</th><th>bytes32</th><th>bytes32</th><th>float64</th><th>float64</th><th>float64</th><th>float64</th><th>float64</th><th>float64</th><th>float64</th><th>int64</th><th>float64</th><th>int64</th><th>float64</th><th>float64</th><th>bytes53</th><th>int64</th><th>bytes32</th><th>int64</th><th>float64</th><th>float64</th><th>float64</th><th>float64</th><th>float64</th><th>float64</th><th>float64</th><th>float64</th><th>float64</th><th>float64</th><th>float64</th><th>int64</th><th>int64</th><th>int64</th><th>float64</th><th>float64</th><th>float64</th><th>float64</th><th>int64</th><th>int64</th><th>int64</th><th>int64</th><th>bytes32</th><th>int64</th><th>bytes19</th><th>int64</th><th>int64</th><th>int64</th><th>float64</th><th>float64</th><th>float64</th><th>float64</th><th>float64</th><th>float64</th><th>float64</th><th>float64</th><th>float64</th><th>float64</th><th>float64</th><th>float64</th><th>float64</th><th>float64</th><th>float64</th><th>float64</th><th>int64</th><th>int64</th><th>int64</th><th>bytes6</th><th>int64</th><th>int64</th><th>float64</th><th>float64</th><th>float64</th><th>float64</th><th>float64</th><th>float64</th><th>float64</th><th>float64</th><th>float64</th><th>float64</th><th>float64</th><th>float64</th><th>float64</th><th>float64</th><th>float64</th><th>float64</th><th>float64</th><th>float64</th><th>float64</th><th>float64</th><th>float64</th><th>float64</th></tr></thead>\n",
       "</table></div>"
      ],
      "text/plain": [
       "<Table length=0>\n",
       "plate ifudsgn plateifu ... nsa_sersic_flux [7] nsa_sersic_flux_ivar [7]\n",
       "int64 bytes32 bytes32  ...       float64               float64         \n",
       "----- ------- -------- ... ------------------- ------------------------"
      ]
     },
     "execution_count": 34,
     "metadata": {},
     "output_type": "execute_result"
    }
   ],
   "source": [
    "MaNGA_in_a13671 = (a13sep < 1.5*R2t_a1367_angle) & (drpall['z']*c > V_a1367 - 3*sigma_a1367) & (drpall['z']*c < V_a1367 + 3*sigma_a1367)\n",
    "\n",
    "MaNGA_in_a13672 = (a13sep >= 1.5*R2t_a1367_angle) & (a13sep < 3*R2t_a1367_angle) & (drpall['z']*c > V_a1367 - 2*sigma_a1367) & (drpall['z']*c < V_a1367 + 2*sigma_a1367)\n",
    "\n",
    "MaNGA_in_a1367 = MaNGA_in_a13671 | MaNGA_in_a13672\n",
    "\n",
    "################################################################################\n",
    "# Keep all instances of each SGA_ID that are within the Coma cluster\n",
    "#-------------------------------------------------------------------------------\n",
    "MaNGA_ID_in_a1367 = np.unique(drpall['mangaid'][MaNGA_in_a1367])\n",
    "\n",
    "idx_MaNGA_in_a1367 = np.in1d(drpall['mangaid'], MaNGA_ID_in_a1367)\n",
    "\n",
    "inAbell1367_MaNGA_table = drpall[idx_MaNGA_in_a1367]\n",
    "################################################################################\n",
    "\n",
    "inAbell1367_MaNGA_table"
   ]
  },
  {
   "cell_type": "markdown",
   "id": "b8fbee85-6a9a-46b0-8f05-f2412b8cb6a6",
   "metadata": {
    "jp-MarkdownHeadingCollapsed": true,
    "tags": []
   },
   "source": [
    "## Abell 539"
   ]
  },
  {
   "cell_type": "code",
   "execution_count": 35,
   "id": "46097632-3629-4adb-a397-3ce412ca5913",
   "metadata": {},
   "outputs": [],
   "source": [
    "a539_nest = 200017\n",
    "\n",
    "a539_row_t3 = table3['Nest'] == a539_nest\n",
    "\n",
    "R2t_a539 = table3['R2t'][a539_row_t3][0]\n",
    "sigma_a539 = table3['sigP'][a539_row_t3][0]"
   ]
  },
  {
   "cell_type": "code",
   "execution_count": 36,
   "id": "8f69db41-9f27-4fc6-9643-4a167b0b0c9c",
   "metadata": {},
   "outputs": [],
   "source": [
    "a539_coords = SkyCoord(table3['SGLON'][a539_row_t3]*u.degree, \n",
    "                       table3['SGLAT'][a539_row_t3]*u.degree, \n",
    "                       frame='supergalactic')\n",
    "\n",
    "a539_group_coords = SkyCoord(table2['SGLON']*u.degree, \n",
    "                        table2['SGLAT']*u.degree, \n",
    "                        frame='supergalactic')\n",
    "\n",
    "idx, d2d, d3d = a539_coords.match_to_catalog_sky(a539_group_coords)\n",
    "\n",
    "V_a539 = table2['__HV_'][idx][0]"
   ]
  },
  {
   "cell_type": "code",
   "execution_count": 37,
   "id": "3730bba4-fe00-4ccb-8c46-41b0885f79b6",
   "metadata": {},
   "outputs": [],
   "source": [
    "# First, we need to convert R2t from Mpc to an angle, using the group's heliocentric velocity\n",
    "R2t_a539_angle = (R2t_a539/(V_a539/H0))*u.radian"
   ]
  },
  {
   "cell_type": "code",
   "execution_count": 38,
   "id": "8c4c6bf1-4659-4471-bd01-c385db2e5c17",
   "metadata": {},
   "outputs": [],
   "source": [
    "a539_tf_coords = SkyCoord(drpall['objra'], drpall['objdec'], unit='deg')\n",
    "\n",
    "a5sep = a539_coords.separation(a539_tf_coords)"
   ]
  },
  {
   "cell_type": "code",
   "execution_count": 39,
   "id": "50285d67-7a0a-4144-9e19-cd1acaad9f9c",
   "metadata": {},
   "outputs": [
    {
     "data": {
      "text/html": [
       "<div><i>Table length=0</i>\n",
       "<table id=\"table23453736786912\" class=\"table-striped table-bordered table-condensed\">\n",
       "<thead><tr><th>plate</th><th>ifudsgn</th><th>plateifu</th><th>mangaid</th><th>versdrp2</th><th>versdrp3</th><th>verscore</th><th>versutil</th><th>versprim</th><th>platetyp</th><th>srvymode</th><th>objra</th><th>objdec</th><th>ifuglon</th><th>ifuglat</th><th>ifura</th><th>ifudec</th><th>ebvgal</th><th>nexp</th><th>exptime</th><th>drp3qual</th><th>bluesn2</th><th>redsn2</th><th>harname</th><th>frlplug</th><th>cartid</th><th>designid</th><th>cenra</th><th>cendec</th><th>airmsmin</th><th>airmsmed</th><th>airmsmax</th><th>seemin</th><th>seemed</th><th>seemax</th><th>transmin</th><th>transmed</th><th>transmax</th><th>mjdmin</th><th>mjdmed</th><th>mjdmax</th><th>gfwhm</th><th>rfwhm</th><th>ifwhm</th><th>zfwhm</th><th>mngtarg1</th><th>mngtarg2</th><th>mngtarg3</th><th>catidnum</th><th>plttarg</th><th>manga_tileid</th><th>nsa_iauname</th><th>ifudesignsize</th><th>ifutargetsize</th><th>ifudesignwrongsize</th><th>z</th><th>zmin</th><th>zmax</th><th>szmin</th><th>szmax</th><th>ezmin</th><th>ezmax</th><th>probs</th><th>pweight</th><th>psweight</th><th>psrweight</th><th>sweight</th><th>srweight</th><th>eweight</th><th>esweight</th><th>esrweight</th><th>nsa_field</th><th>nsa_run</th><th>nsa_camcol</th><th>nsa_version</th><th>nsa_nsaid</th><th>nsa_nsaid_v1b</th><th>nsa_z</th><th>nsa_zdist</th><th>nsa_sersic_absmag [7]</th><th>nsa_elpetro_absmag [7]</th><th>nsa_elpetro_amivar [7]</th><th>nsa_sersic_mass</th><th>nsa_elpetro_mass</th><th>nsa_elpetro_ba</th><th>nsa_elpetro_phi</th><th>nsa_extinction [7]</th><th>nsa_elpetro_th50_r</th><th>nsa_petro_th50</th><th>nsa_petro_flux [7]</th><th>nsa_petro_flux_ivar [7]</th><th>nsa_elpetro_flux [7]</th><th>nsa_elpetro_flux_ivar [7]</th><th>nsa_sersic_ba</th><th>nsa_sersic_n</th><th>nsa_sersic_phi</th><th>nsa_sersic_th50</th><th>nsa_sersic_flux [7]</th><th>nsa_sersic_flux_ivar [7]</th></tr></thead>\n",
       "<thead><tr><th>int64</th><th>bytes32</th><th>bytes32</th><th>bytes32</th><th>bytes32</th><th>bytes32</th><th>bytes32</th><th>bytes32</th><th>bytes32</th><th>bytes32</th><th>bytes32</th><th>float64</th><th>float64</th><th>float64</th><th>float64</th><th>float64</th><th>float64</th><th>float64</th><th>int64</th><th>float64</th><th>int64</th><th>float64</th><th>float64</th><th>bytes53</th><th>int64</th><th>bytes32</th><th>int64</th><th>float64</th><th>float64</th><th>float64</th><th>float64</th><th>float64</th><th>float64</th><th>float64</th><th>float64</th><th>float64</th><th>float64</th><th>float64</th><th>int64</th><th>int64</th><th>int64</th><th>float64</th><th>float64</th><th>float64</th><th>float64</th><th>int64</th><th>int64</th><th>int64</th><th>int64</th><th>bytes32</th><th>int64</th><th>bytes19</th><th>int64</th><th>int64</th><th>int64</th><th>float64</th><th>float64</th><th>float64</th><th>float64</th><th>float64</th><th>float64</th><th>float64</th><th>float64</th><th>float64</th><th>float64</th><th>float64</th><th>float64</th><th>float64</th><th>float64</th><th>float64</th><th>float64</th><th>int64</th><th>int64</th><th>int64</th><th>bytes6</th><th>int64</th><th>int64</th><th>float64</th><th>float64</th><th>float64</th><th>float64</th><th>float64</th><th>float64</th><th>float64</th><th>float64</th><th>float64</th><th>float64</th><th>float64</th><th>float64</th><th>float64</th><th>float64</th><th>float64</th><th>float64</th><th>float64</th><th>float64</th><th>float64</th><th>float64</th><th>float64</th><th>float64</th></tr></thead>\n",
       "</table></div>"
      ],
      "text/plain": [
       "<Table length=0>\n",
       "plate ifudsgn plateifu ... nsa_sersic_flux [7] nsa_sersic_flux_ivar [7]\n",
       "int64 bytes32 bytes32  ...       float64               float64         \n",
       "----- ------- -------- ... ------------------- ------------------------"
      ]
     },
     "execution_count": 39,
     "metadata": {},
     "output_type": "execute_result"
    }
   ],
   "source": [
    "MaNGA_in_a5391 = (a5sep < 1.5*R2t_a539_angle) & (drpall['z']*c > V_a539 - 3*sigma_a539) & (drpall['z']*c < V_a539 + 3*sigma_a539)\n",
    "\n",
    "MaNGA_in_a5392 = (a5sep >= 1.5*R2t_a539_angle) & (a5sep < 3*R2t_a539_angle) & (drpall['z']*c > V_a539 - 2*sigma_a539) & (drpall['z']*c < V_a539 + 2*sigma_a539)\n",
    "\n",
    "MaNGA_in_a539 = MaNGA_in_a5391 | MaNGA_in_a5392\n",
    "\n",
    "################################################################################\n",
    "# Keep all instances of each SGA_ID that are within the Coma cluster\n",
    "#-------------------------------------------------------------------------------\n",
    "MaNGA_ID_in_a539 = np.unique(drpall['mangaid'][MaNGA_in_a539])\n",
    "\n",
    "idx_MaNGA_in_a539 = np.in1d(drpall['mangaid'], MaNGA_ID_in_a539)\n",
    "\n",
    "inAbell539_MaNGA_table = drpall[idx_MaNGA_in_a539]\n",
    "################################################################################\n",
    "\n",
    "inAbell539_MaNGA_table"
   ]
  },
  {
   "cell_type": "markdown",
   "id": "c1a9655c-8893-4543-9c32-cf8eeb25a17d",
   "metadata": {
    "jp-MarkdownHeadingCollapsed": true,
    "tags": []
   },
   "source": [
    "## Abell 2634"
   ]
  },
  {
   "cell_type": "code",
   "execution_count": 40,
   "id": "2bf4a538-bed6-4409-9472-079e555f4d71",
   "metadata": {},
   "outputs": [],
   "source": [
    "a2634_nest = 200016\n",
    "\n",
    "a2634_row_t3 = table3['Nest'] == a2634_nest\n",
    "\n",
    "R2t_a2634 = table3['R2t'][a2634_row_t3][0]\n",
    "sigma_a2634 = table3['sigP'][a2634_row_t3][0]"
   ]
  },
  {
   "cell_type": "code",
   "execution_count": 41,
   "id": "733e566c-17fc-4a2a-8712-d6b70f9ad1a7",
   "metadata": {},
   "outputs": [],
   "source": [
    "a2634_coords = SkyCoord(table3['SGLON'][a2634_row_t3]*u.degree, \n",
    "                       table3['SGLAT'][a2634_row_t3]*u.degree, \n",
    "                       frame='supergalactic')\n",
    "\n",
    "a2634_group_coords = SkyCoord(table2['SGLON']*u.degree, \n",
    "                        table2['SGLAT']*u.degree, \n",
    "                        frame='supergalactic')\n",
    "\n",
    "idx, d2d, d3d = a2634_coords.match_to_catalog_sky(a2634_group_coords)\n",
    "\n",
    "V_a2634 = table2['__HV_'][idx][0]"
   ]
  },
  {
   "cell_type": "code",
   "execution_count": 42,
   "id": "accd3445-03b3-4fb7-9755-f421cb2424e5",
   "metadata": {},
   "outputs": [],
   "source": [
    "# First, we need to convert R2t from Mpc to an angle, using the group's heliocentric velocity\n",
    "R2t_a2634_angle = (R2t_a2634/(V_a2634/H0))*u.radian"
   ]
  },
  {
   "cell_type": "code",
   "execution_count": 43,
   "id": "1fb020e2-e0fc-43f0-afd6-3d358deb0ef8",
   "metadata": {},
   "outputs": [],
   "source": [
    "a2634_tf_coords = SkyCoord(drpall['objra'], drpall['objdec'], unit='deg')\n",
    "\n",
    "a2sep = a2634_coords.separation(a2634_tf_coords)"
   ]
  },
  {
   "cell_type": "code",
   "execution_count": 44,
   "id": "f1c99829-9588-4b02-be70-2f75f53000c2",
   "metadata": {},
   "outputs": [
    {
     "data": {
      "text/html": [
       "<div><i>Table length=0</i>\n",
       "<table id=\"table23453811174464\" class=\"table-striped table-bordered table-condensed\">\n",
       "<thead><tr><th>plate</th><th>ifudsgn</th><th>plateifu</th><th>mangaid</th><th>versdrp2</th><th>versdrp3</th><th>verscore</th><th>versutil</th><th>versprim</th><th>platetyp</th><th>srvymode</th><th>objra</th><th>objdec</th><th>ifuglon</th><th>ifuglat</th><th>ifura</th><th>ifudec</th><th>ebvgal</th><th>nexp</th><th>exptime</th><th>drp3qual</th><th>bluesn2</th><th>redsn2</th><th>harname</th><th>frlplug</th><th>cartid</th><th>designid</th><th>cenra</th><th>cendec</th><th>airmsmin</th><th>airmsmed</th><th>airmsmax</th><th>seemin</th><th>seemed</th><th>seemax</th><th>transmin</th><th>transmed</th><th>transmax</th><th>mjdmin</th><th>mjdmed</th><th>mjdmax</th><th>gfwhm</th><th>rfwhm</th><th>ifwhm</th><th>zfwhm</th><th>mngtarg1</th><th>mngtarg2</th><th>mngtarg3</th><th>catidnum</th><th>plttarg</th><th>manga_tileid</th><th>nsa_iauname</th><th>ifudesignsize</th><th>ifutargetsize</th><th>ifudesignwrongsize</th><th>z</th><th>zmin</th><th>zmax</th><th>szmin</th><th>szmax</th><th>ezmin</th><th>ezmax</th><th>probs</th><th>pweight</th><th>psweight</th><th>psrweight</th><th>sweight</th><th>srweight</th><th>eweight</th><th>esweight</th><th>esrweight</th><th>nsa_field</th><th>nsa_run</th><th>nsa_camcol</th><th>nsa_version</th><th>nsa_nsaid</th><th>nsa_nsaid_v1b</th><th>nsa_z</th><th>nsa_zdist</th><th>nsa_sersic_absmag [7]</th><th>nsa_elpetro_absmag [7]</th><th>nsa_elpetro_amivar [7]</th><th>nsa_sersic_mass</th><th>nsa_elpetro_mass</th><th>nsa_elpetro_ba</th><th>nsa_elpetro_phi</th><th>nsa_extinction [7]</th><th>nsa_elpetro_th50_r</th><th>nsa_petro_th50</th><th>nsa_petro_flux [7]</th><th>nsa_petro_flux_ivar [7]</th><th>nsa_elpetro_flux [7]</th><th>nsa_elpetro_flux_ivar [7]</th><th>nsa_sersic_ba</th><th>nsa_sersic_n</th><th>nsa_sersic_phi</th><th>nsa_sersic_th50</th><th>nsa_sersic_flux [7]</th><th>nsa_sersic_flux_ivar [7]</th></tr></thead>\n",
       "<thead><tr><th>int64</th><th>bytes32</th><th>bytes32</th><th>bytes32</th><th>bytes32</th><th>bytes32</th><th>bytes32</th><th>bytes32</th><th>bytes32</th><th>bytes32</th><th>bytes32</th><th>float64</th><th>float64</th><th>float64</th><th>float64</th><th>float64</th><th>float64</th><th>float64</th><th>int64</th><th>float64</th><th>int64</th><th>float64</th><th>float64</th><th>bytes53</th><th>int64</th><th>bytes32</th><th>int64</th><th>float64</th><th>float64</th><th>float64</th><th>float64</th><th>float64</th><th>float64</th><th>float64</th><th>float64</th><th>float64</th><th>float64</th><th>float64</th><th>int64</th><th>int64</th><th>int64</th><th>float64</th><th>float64</th><th>float64</th><th>float64</th><th>int64</th><th>int64</th><th>int64</th><th>int64</th><th>bytes32</th><th>int64</th><th>bytes19</th><th>int64</th><th>int64</th><th>int64</th><th>float64</th><th>float64</th><th>float64</th><th>float64</th><th>float64</th><th>float64</th><th>float64</th><th>float64</th><th>float64</th><th>float64</th><th>float64</th><th>float64</th><th>float64</th><th>float64</th><th>float64</th><th>float64</th><th>int64</th><th>int64</th><th>int64</th><th>bytes6</th><th>int64</th><th>int64</th><th>float64</th><th>float64</th><th>float64</th><th>float64</th><th>float64</th><th>float64</th><th>float64</th><th>float64</th><th>float64</th><th>float64</th><th>float64</th><th>float64</th><th>float64</th><th>float64</th><th>float64</th><th>float64</th><th>float64</th><th>float64</th><th>float64</th><th>float64</th><th>float64</th><th>float64</th></tr></thead>\n",
       "</table></div>"
      ],
      "text/plain": [
       "<Table length=0>\n",
       "plate ifudsgn plateifu ... nsa_sersic_flux [7] nsa_sersic_flux_ivar [7]\n",
       "int64 bytes32 bytes32  ...       float64               float64         \n",
       "----- ------- -------- ... ------------------- ------------------------"
      ]
     },
     "execution_count": 44,
     "metadata": {},
     "output_type": "execute_result"
    }
   ],
   "source": [
    "MaNGA_in_a26341 = (a2sep < 1.5*R2t_a2634_angle) & (drpall['z']*c > V_a2634 - 3*sigma_a2634) & (drpall['z']*c < V_a2634 + 3*sigma_a2634)\n",
    "\n",
    "MaNGA_in_a26342 = (a2sep >= 1.5*R2t_a2634_angle) & (a2sep < 3*R2t_a2634_angle) & (drpall['z']*c > V_a2634 - 2*sigma_a2634) & (drpall['z']*c < V_a2634 + 2*sigma_a2634)\n",
    "\n",
    "MaNGA_in_a2634 = MaNGA_in_a26341 | MaNGA_in_a26342\n",
    "\n",
    "################################################################################\n",
    "# Keep all instances of each SGA_ID that are within the Coma cluster\n",
    "#-------------------------------------------------------------------------------\n",
    "MaNGA_ID_in_a2634 = np.unique(drpall['mangaid'][MaNGA_in_a2634])\n",
    "\n",
    "idx_MaNGA_in_a2634 = np.in1d(drpall['mangaid'], MaNGA_ID_in_a2634)\n",
    "\n",
    "inAbell2634_MaNGA_table = drpall[idx_MaNGA_in_a2634]\n",
    "################################################################################\n",
    "\n",
    "inAbell2634_MaNGA_table"
   ]
  },
  {
   "cell_type": "markdown",
   "id": "0e48340f-3712-43ca-abe6-4d0920defca4",
   "metadata": {
    "jp-MarkdownHeadingCollapsed": true,
    "tags": []
   },
   "source": [
    "## Ursa Major"
   ]
  },
  {
   "cell_type": "code",
   "execution_count": 94,
   "id": "d6ea8bf8-3edd-45cd-aad2-f95ee32708dc",
   "metadata": {},
   "outputs": [],
   "source": [
    "ursa_nest = 100008\n",
    "\n",
    "ursa_row_t3 = table3['Nest'] == ursa_nest\n",
    "\n",
    "R2t_ursa = table3['R2t'][ursa_row_t3][0]\n",
    "sigma_ursa = table3['sigP'][ursa_row_t3][0]"
   ]
  },
  {
   "cell_type": "code",
   "execution_count": 95,
   "id": "27caa7d2-0dfa-44a4-b7c4-908f135b1a9a",
   "metadata": {},
   "outputs": [],
   "source": [
    "ursa_coords = SkyCoord(table3['SGLON'][ursa_row_t3]*u.degree, \n",
    "                       table3['SGLAT'][ursa_row_t3]*u.degree, \n",
    "                       frame='supergalactic')\n",
    "\n",
    "ursa_group_coords = SkyCoord(table2['SGLON']*u.degree, \n",
    "                        table2['SGLAT']*u.degree, \n",
    "                        frame='supergalactic')\n",
    "\n",
    "idx, d2d, d3d = ursa_coords.match_to_catalog_sky(ursa_group_coords)\n",
    "\n",
    "V_ursa = table2['__HV_'][idx][0]"
   ]
  },
  {
   "cell_type": "code",
   "execution_count": 96,
   "id": "bbfdb2fe-1fed-42e4-8ce6-efdb922739e3",
   "metadata": {},
   "outputs": [],
   "source": [
    "# First, we need to convert R2t from Mpc to an angle, using the group's heliocentric velocity\n",
    "R2t_ursa_angle = (R2t_ursa/(V_ursa/H0))*u.radian"
   ]
  },
  {
   "cell_type": "code",
   "execution_count": 97,
   "id": "d0804a16-1f2d-4843-8528-35eb4ec56946",
   "metadata": {},
   "outputs": [],
   "source": [
    "ursa_tf_coords = SkyCoord(drpall['objra'], drpall['objdec'], unit='deg')\n",
    "\n",
    "usep = ursa_coords.separation(ursa_tf_coords)"
   ]
  },
  {
   "cell_type": "code",
   "execution_count": 101,
   "id": "1e75aeaa-da4e-4171-b3dd-8b77730b9735",
   "metadata": {},
   "outputs": [
    {
     "data": {
      "text/plain": [
       "Text(0, 0.5, 'Count')"
      ]
     },
     "execution_count": 101,
     "metadata": {},
     "output_type": "execute_result"
    },
    {
     "data": {
      "image/png": "[encoded data removed]",
      "text/plain": [
       "<Figure size 432x288 with 1 Axes>"
      ]
     },
     "metadata": {
      "needs_background": "light"
     },
     "output_type": "display_data"
    }
   ],
   "source": [
    "plt.hist(usep.to_value('degree'))\n",
    "plt.xlabel('MaNGA-Ursa Major Angular Separation [deg]')\n",
    "plt.ylabel('Count')"
   ]
  },
  {
   "cell_type": "code",
   "execution_count": 99,
   "id": "afe045d5-b812-48d9-a64d-0e56b9720683",
   "metadata": {},
   "outputs": [
    {
     "data": {
      "text/html": [
       "<div><i>Table length=5</i>\n",
       "<table id=\"table23453708586192\" class=\"table-striped table-bordered table-condensed\">\n",
       "<thead><tr><th>plate</th><th>ifudsgn</th><th>plateifu</th><th>mangaid</th><th>versdrp2</th><th>versdrp3</th><th>verscore</th><th>versutil</th><th>versprim</th><th>platetyp</th><th>srvymode</th><th>objra</th><th>objdec</th><th>ifuglon</th><th>ifuglat</th><th>ifura</th><th>ifudec</th><th>ebvgal</th><th>nexp</th><th>exptime</th><th>drp3qual</th><th>bluesn2</th><th>redsn2</th><th>harname</th><th>frlplug</th><th>cartid</th><th>designid</th><th>cenra</th><th>cendec</th><th>airmsmin</th><th>airmsmed</th><th>airmsmax</th><th>seemin</th><th>seemed</th><th>seemax</th><th>transmin</th><th>transmed</th><th>transmax</th><th>mjdmin</th><th>mjdmed</th><th>mjdmax</th><th>gfwhm</th><th>rfwhm</th><th>ifwhm</th><th>zfwhm</th><th>mngtarg1</th><th>mngtarg2</th><th>mngtarg3</th><th>catidnum</th><th>plttarg</th><th>manga_tileid</th><th>nsa_iauname</th><th>ifudesignsize</th><th>ifutargetsize</th><th>ifudesignwrongsize</th><th>z</th><th>zmin</th><th>zmax</th><th>szmin</th><th>szmax</th><th>ezmin</th><th>ezmax</th><th>probs</th><th>pweight</th><th>psweight</th><th>psrweight</th><th>sweight</th><th>srweight</th><th>eweight</th><th>esweight</th><th>esrweight</th><th>nsa_field</th><th>nsa_run</th><th>nsa_camcol</th><th>nsa_version</th><th>nsa_nsaid</th><th>nsa_nsaid_v1b</th><th>nsa_z</th><th>nsa_zdist</th><th>nsa_sersic_absmag [7]</th><th>nsa_elpetro_absmag [7]</th><th>nsa_elpetro_amivar [7]</th><th>nsa_sersic_mass</th><th>nsa_elpetro_mass</th><th>nsa_elpetro_ba</th><th>nsa_elpetro_phi</th><th>nsa_extinction [7]</th><th>nsa_elpetro_th50_r</th><th>nsa_petro_th50</th><th>nsa_petro_flux [7]</th><th>nsa_petro_flux_ivar [7]</th><th>nsa_elpetro_flux [7]</th><th>nsa_elpetro_flux_ivar [7]</th><th>nsa_sersic_ba</th><th>nsa_sersic_n</th><th>nsa_sersic_phi</th><th>nsa_sersic_th50</th><th>nsa_sersic_flux [7]</th><th>nsa_sersic_flux_ivar [7]</th></tr></thead>\n",
       "<thead><tr><th>int64</th><th>bytes32</th><th>bytes32</th><th>bytes32</th><th>bytes32</th><th>bytes32</th><th>bytes32</th><th>bytes32</th><th>bytes32</th><th>bytes32</th><th>bytes32</th><th>float64</th><th>float64</th><th>float64</th><th>float64</th><th>float64</th><th>float64</th><th>float64</th><th>int64</th><th>float64</th><th>int64</th><th>float64</th><th>float64</th><th>bytes53</th><th>int64</th><th>bytes32</th><th>int64</th><th>float64</th><th>float64</th><th>float64</th><th>float64</th><th>float64</th><th>float64</th><th>float64</th><th>float64</th><th>float64</th><th>float64</th><th>float64</th><th>int64</th><th>int64</th><th>int64</th><th>float64</th><th>float64</th><th>float64</th><th>float64</th><th>int64</th><th>int64</th><th>int64</th><th>int64</th><th>bytes32</th><th>int64</th><th>bytes19</th><th>int64</th><th>int64</th><th>int64</th><th>float64</th><th>float64</th><th>float64</th><th>float64</th><th>float64</th><th>float64</th><th>float64</th><th>float64</th><th>float64</th><th>float64</th><th>float64</th><th>float64</th><th>float64</th><th>float64</th><th>float64</th><th>float64</th><th>int64</th><th>int64</th><th>int64</th><th>bytes6</th><th>int64</th><th>int64</th><th>float64</th><th>float64</th><th>float64</th><th>float64</th><th>float64</th><th>float64</th><th>float64</th><th>float64</th><th>float64</th><th>float64</th><th>float64</th><th>float64</th><th>float64</th><th>float64</th><th>float64</th><th>float64</th><th>float64</th><th>float64</th><th>float64</th><th>float64</th><th>float64</th><th>float64</th></tr></thead>\n",
       "<tr><td>10507</td><td>1902</td><td>10507-1902</td><td>59-76</td><td>v3_1_1</td><td>v3_1_1</td><td>v1_9_1</td><td>v5_5_36</td><td>v2_9</td><td>APOGEE-2&amp;MaNGA</td><td>MaNGA dither</td><td>176.525541667</td><td>47.4820555556</td><td>150.747573852</td><td>65.9636699425</td><td>176.52554</td><td>47.482056</td><td>0.0231925</td><td>9</td><td>8100.74</td><td>0</td><td>26.0313</td><td>39.8483</td><td>ma083</td><td>35</td><td>4</td><td>11039</td><td>176.27449</td><td>48.349503</td><td>1.03995</td><td>1.05894</td><td>1.0919</td><td>1.18304</td><td>1.26102</td><td>1.57627</td><td>0.785784</td><td>0.896865</td><td>0.905111</td><td>58136</td><td>58136</td><td>58137</td><td>2.52789</td><td>2.49659</td><td>2.48287</td><td>2.46467</td><td>0</td><td>0</td><td>4194304</td><td>59</td><td>plateTargets-59.par</td><td>7091</td><td>-9999</td><td>19</td><td>-999</td><td>0</td><td>0.00302</td><td>-9999.0</td><td>-9999.0</td><td>-9999.0</td><td>-9999.0</td><td>-9999.0</td><td>-9999.0</td><td>-9999.0</td><td>-9999.0</td><td>-9999.0</td><td>-9999.0</td><td>-9999.0</td><td>-9999.0</td><td>-9999.0</td><td>-9999.0</td><td>-9999.0</td><td>-9999</td><td>-9999</td><td>-9999</td><td>-9999</td><td>-9999</td><td>-9999</td><td>-9999.0</td><td>-9999.0</td><td>-9999.0 .. -9999.0</td><td>-9999.0 .. -9999.0</td><td>-9999.0 .. -9999.0</td><td>-9999.0</td><td>-9999.0</td><td>-9999.0</td><td>-9999.0</td><td>-9999.0 .. -9999.0</td><td>-9999.0</td><td>-9999.0</td><td>-9999.0 .. -9999.0</td><td>-9999.0 .. -9999.0</td><td>-9999.0 .. -9999.0</td><td>-9999.0 .. -9999.0</td><td>-9999.0</td><td>-9999.0</td><td>-9999.0</td><td>-9999.0</td><td>-9999.0 .. -9999.0</td><td>-9999.0 .. -9999.0</td></tr>\n",
       "<tr><td>10510</td><td>12704</td><td>10510-12704</td><td>1-189584</td><td>v3_1_1</td><td>v3_1_1</td><td>v1_9_1</td><td>v5_5_36</td><td>v2_9</td><td>APOGEE-2&amp;MaNGA</td><td>MaNGA dither</td><td>179.117267145</td><td>55.1252090259</td><td>138.830321339</td><td>60.273997444</td><td>179.11727</td><td>55.125209</td><td>0.0141217</td><td>9</td><td>8100.71</td><td>0</td><td>28.6474</td><td>52.5498</td><td>ma150</td><td>34</td><td>4</td><td>11042</td><td>179.41353</td><td>54.868313</td><td>1.09612</td><td>1.12125</td><td>1.14555</td><td>1.22898</td><td>1.49384</td><td>1.68693</td><td>0.920243</td><td>0.92669</td><td>0.944608</td><td>58138</td><td>58142</td><td>58145</td><td>2.59012</td><td>2.5336</td><td>2.48261</td><td>2.43882</td><td>0</td><td>0</td><td>65552</td><td>1</td><td>plateTargets-1.par</td><td>7131</td><td>J115628.13+550730.8</td><td>127</td><td>-999</td><td>0</td><td>0.00371352</td><td>-999.0</td><td>-999.0</td><td>-999.0</td><td>-999.0</td><td>-999.0</td><td>-999.0</td><td>-999.0</td><td>-999.0</td><td>-999.0</td><td>-999.0</td><td>-999.0</td><td>-999.0</td><td>-999.0</td><td>-999.0</td><td>-999.0</td><td>180</td><td>2821</td><td>4</td><td>v1_0_1</td><td>200397</td><td>-999</td><td>0.00371352</td><td>0.00472056</td><td>-16.4647 .. -19.9207</td><td>-16.3787 .. -19.7885</td><td>0.0 .. 1106.19</td><td>5436740000.0</td><td>4642670000.0</td><td>0.875364</td><td>11.1973</td><td>0.116754 .. 0.0208298</td><td>17.9889</td><td>16.8591</td><td>0.0 .. 42482.7</td><td>0.0 .. 0.000170057</td><td>0.0 .. 41511.1</td><td>0.0 .. 0.000170834</td><td>0.86862</td><td>0.882304</td><td>12.4624</td><td>18.8117</td><td>0.0 .. 46849.1</td><td>0.0162911 .. 0.000542761</td></tr>\n",
       "<tr><td>11750</td><td>1901</td><td>11750-1901</td><td>54-59</td><td>v3_1_1</td><td>v3_1_1</td><td>v1_9_1</td><td>v5_5_36</td><td>v2_9</td><td>APOGEE-2&amp;MaNGA</td><td>MaNGA dither</td><td>190.387541667</td><td>41.1516388889</td><td>130.555547125</td><td>75.830039745</td><td>190.38754</td><td>41.151639</td><td>0.0213262</td><td>12</td><td>10801.1</td><td>16384</td><td>24.1085</td><td>48.9305</td><td>ma060-ma106</td><td>29</td><td>3-5</td><td>12027</td><td>189.87985</td><td>40.515266</td><td>1.01081</td><td>1.06289</td><td>1.12194</td><td>1.33843</td><td>1.48327</td><td>1.66865</td><td>0.607427</td><td>0.872145</td><td>0.923509</td><td>58549</td><td>58549</td><td>58567</td><td>2.56817</td><td>2.5649</td><td>2.53927</td><td>2.51338</td><td>0</td><td>0</td><td>4194304</td><td>54</td><td>plateTargets-54.par</td><td>6433</td><td>-9999</td><td>19</td><td>-999</td><td>0</td><td>0.0018</td><td>-9999.0</td><td>-9999.0</td><td>-9999.0</td><td>-9999.0</td><td>-9999.0</td><td>-9999.0</td><td>-9999.0</td><td>-9999.0</td><td>-9999.0</td><td>-9999.0</td><td>-9999.0</td><td>-9999.0</td><td>-9999.0</td><td>-9999.0</td><td>-9999.0</td><td>-9999</td><td>-9999</td><td>-9999</td><td>-9999</td><td>-9999</td><td>-9999</td><td>-9999.0</td><td>-9999.0</td><td>-9999.0 .. -9999.0</td><td>-9999.0 .. -9999.0</td><td>-9999.0 .. -9999.0</td><td>-9999.0</td><td>-9999.0</td><td>-9999.0</td><td>-9999.0</td><td>-9999.0 .. -9999.0</td><td>-9999.0</td><td>-9999.0</td><td>-9999.0 .. -9999.0</td><td>-9999.0 .. -9999.0</td><td>-9999.0 .. -9999.0</td><td>-9999.0 .. -9999.0</td><td>-9999.0</td><td>-9999.0</td><td>-9999.0</td><td>-9999.0</td><td>-9999.0 .. -9999.0</td><td>-9999.0 .. -9999.0</td></tr>\n",
       "<tr><td>11755</td><td>3704</td><td>11755-3704</td><td>54-52</td><td>v3_1_1</td><td>v3_1_1</td><td>v1_9_1</td><td>v5_5_36</td><td>v2_9</td><td>APOGEE-2&amp;MaNGA</td><td>MaNGA dither</td><td>187.67</td><td>41.6378055556</td><td>137.951642253</td><td>74.8796395401</td><td>187.67</td><td>41.637806</td><td>0.021767</td><td>12</td><td>10801.0</td><td>0</td><td>19.9099</td><td>34.9952</td><td>ma014</td><td>37</td><td>2</td><td>12042</td><td>186.80856</td><td>42.751469</td><td>1.01228</td><td>1.03562</td><td>1.15295</td><td>1.07528</td><td>1.79245</td><td>1.91526</td><td>0.340826</td><td>0.67617</td><td>0.835406</td><td>58570</td><td>58572</td><td>58572</td><td>2.52843</td><td>2.51397</td><td>2.50071</td><td>2.49054</td><td>0</td><td>0</td><td>4194304</td><td>54</td><td>plateTargets-54.par</td><td>7045</td><td>-9999</td><td>37</td><td>-999</td><td>0</td><td>0.001931</td><td>-9999.0</td><td>-9999.0</td><td>-9999.0</td><td>-9999.0</td><td>-9999.0</td><td>-9999.0</td><td>-9999.0</td><td>-9999.0</td><td>-9999.0</td><td>-9999.0</td><td>-9999.0</td><td>-9999.0</td><td>-9999.0</td><td>-9999.0</td><td>-9999.0</td><td>-9999</td><td>-9999</td><td>-9999</td><td>-9999</td><td>-9999</td><td>-9999</td><td>-9999.0</td><td>-9999.0</td><td>-9999.0 .. -9999.0</td><td>-9999.0 .. -9999.0</td><td>-9999.0 .. -9999.0</td><td>-9999.0</td><td>-9999.0</td><td>-9999.0</td><td>-9999.0</td><td>-9999.0 .. -9999.0</td><td>-9999.0</td><td>-9999.0</td><td>-9999.0 .. -9999.0</td><td>-9999.0 .. -9999.0</td><td>-9999.0 .. -9999.0</td><td>-9999.0 .. -9999.0</td><td>-9999.0</td><td>-9999.0</td><td>-9999.0</td><td>-9999.0</td><td>-9999.0 .. -9999.0</td><td>-9999.0 .. -9999.0</td></tr>\n",
       "<tr><td>8554</td><td>12704</td><td>8554-12704</td><td>1-619066</td><td>v3_1_1</td><td>v3_1_1</td><td>v1_9_1</td><td>v5_5_36</td><td>v2_9</td><td>APOGEE-2&amp;MaNGA</td><td>MaNGA dither</td><td>183.03892</td><td>36.16891</td><td>163.203133065</td><td>77.7010402731</td><td>183.03892</td><td>36.16891</td><td>0.0200268</td><td>9</td><td>8100.7</td><td>0</td><td>23.862</td><td>47.0143</td><td>ma154</td><td>34</td><td>6</td><td>8999</td><td>183.31792</td><td>36.104958</td><td>1.03358</td><td>1.13143</td><td>1.20652</td><td>1.07151</td><td>1.60616</td><td>1.77269</td><td>0.873684</td><td>0.897117</td><td>0.904717</td><td>57152</td><td>57152</td><td>57159</td><td>2.62163</td><td>2.55726</td><td>2.54126</td><td>2.51526</td><td>0</td><td>0</td><td>262144</td><td>1</td><td>plateTargets-1.par</td><td>7033</td><td>J121208.89+361005.9</td><td>127</td><td>-999</td><td>0</td><td>0.00055</td><td>-999.0</td><td>-999.0</td><td>-999.0</td><td>-999.0</td><td>-999.0</td><td>-999.0</td><td>-999.0</td><td>-999.0</td><td>-999.0</td><td>-999.0</td><td>-999.0</td><td>-999.0</td><td>-999.0</td><td>-999.0</td><td>-999.0</td><td>90</td><td>4552</td><td>6</td><td>v1_0_1</td><td>666064</td><td>-999</td><td>0.00054371</td><td>0.00121161</td><td>-12.9918 .. -15.2675</td><td>-12.4208 .. -15.3474</td><td>622.646 .. 452.043</td><td>61129500.0</td><td>79704600.0</td><td>0.763964</td><td>8.13751</td><td>0.165045 .. 0.0294453</td><td>29.6849</td><td>26.8536</td><td>589.438 .. 8141.6</td><td>0.520604 .. 6.55385e-06</td><td>604.4 .. 10522.9</td><td>0.533406 .. 8.11308e-06</td><td>0.742412</td><td>1.06676</td><td>9.51892</td><td>30.1251</td><td>1022.66 .. 9776.88</td><td>0.170435 .. 0.000353718</td></tr>\n",
       "</table></div>"
      ],
      "text/plain": [
       "<Table length=5>\n",
       "plate ifudsgn   plateifu  ... nsa_sersic_flux [7] nsa_sersic_flux_ivar [7]\n",
       "int64 bytes32   bytes32   ...       float64               float64         \n",
       "----- ------- ----------- ... ------------------- ------------------------\n",
       "10507    1902  10507-1902 ...  -9999.0 .. -9999.0       -9999.0 .. -9999.0\n",
       "10510   12704 10510-12704 ...      0.0 .. 46849.1 0.0162911 .. 0.000542761\n",
       "11750    1901  11750-1901 ...  -9999.0 .. -9999.0       -9999.0 .. -9999.0\n",
       "11755    3704  11755-3704 ...  -9999.0 .. -9999.0       -9999.0 .. -9999.0\n",
       " 8554   12704  8554-12704 ...  1022.66 .. 9776.88  0.170435 .. 0.000353718"
      ]
     },
     "execution_count": 99,
     "metadata": {},
     "output_type": "execute_result"
    }
   ],
   "source": [
    "MaNGA_in_ursa1 = (usep < 1.5*R2t_ursa_angle) & (drpall['z']*c > V_ursa - 3*sigma_ursa) & (drpall['z']*c < V_ursa + 3*sigma_ursa)\n",
    "\n",
    "MaNGA_in_ursa2 = (usep >= 1.5*R2t_ursa_angle) & (usep < 3*R2t_ursa_angle) & (drpall['z']*c > V_ursa - 2*sigma_ursa) & (drpall['z']*c < V_ursa + 2*sigma_ursa)\n",
    "\n",
    "MaNGA_in_ursa = MaNGA_in_ursa1 | MaNGA_in_ursa2\n",
    "\n",
    "################################################################################\n",
    "# Keep all instances of each SGA_ID that are within the Coma cluster\n",
    "#-------------------------------------------------------------------------------\n",
    "MaNGA_ID_in_ursa = np.unique(drpall['mangaid'][MaNGA_in_ursa])\n",
    "\n",
    "idx_MaNGA_in_ursa = np.in1d(drpall['mangaid'], MaNGA_ID_in_ursa)\n",
    "\n",
    "inUrsaMajor_MaNGA_table = drpall[idx_MaNGA_in_ursa]\n",
    "################################################################################\n",
    "\n",
    "inUrsaMajor_MaNGA_table"
   ]
  },
  {
   "cell_type": "code",
   "execution_count": 100,
   "id": "6a2842f6-c547-4230-9b94-9d0efe48d74b",
   "metadata": {},
   "outputs": [
    {
     "data": {
      "text/plain": [
       "Text(0, 0.5, 'Count')"
      ]
     },
     "execution_count": 100,
     "metadata": {},
     "output_type": "execute_result"
    },
    {
     "data": {
      "image/png": "[encoded data removed]",
      "text/plain": [
       "<Figure size 432x288 with 1 Axes>"
      ]
     },
     "metadata": {
      "needs_background": "light"
     },
     "output_type": "display_data"
    }
   ],
   "source": [
    "plt.hist(usep[MaNGA_in_ursa].to_value('degree'))\n",
    "plt.xlabel('MaNGA-Ursa Major Angular Separation [deg]')\n",
    "plt.ylabel('Count')"
   ]
  },
  {
   "cell_type": "code",
   "execution_count": 102,
   "id": "cf9a4c63-86fe-44b5-966d-6c8a1da44860",
   "metadata": {},
   "outputs": [
    {
     "data": {
      "image/png": "[encoded data removed]",
      "text/plain": [
       "<Figure size 864x360 with 2 Axes>"
      ]
     },
     "metadata": {
      "needs_background": "light"
     },
     "output_type": "display_data"
    }
   ],
   "source": [
    "fig, axes = plt.subplots(1,2, figsize=(12,5), tight_layout=True)\n",
    "ax = axes[0]\n",
    "ax.plot(inUrsaMajor_MaNGA_table['objdec'], inUrsaMajor_MaNGA_table['objra'], '.')\n",
    "ax = axes[1]\n",
    "ax.hist(inUrsaMajor_MaNGA_table['z']);"
   ]
  },
  {
   "cell_type": "markdown",
   "id": "7ac609bc-717d-4a7e-9423-dc53d3f81d90",
   "metadata": {
    "jp-MarkdownHeadingCollapsed": true,
    "tags": []
   },
   "source": [
    "## Abell 2151"
   ]
  },
  {
   "cell_type": "code",
   "execution_count": 62,
   "id": "fb3eac80-22bb-41f5-b026-1e1f04916cbd",
   "metadata": {},
   "outputs": [],
   "source": [
    "a2151_nest = 100007\n",
    "\n",
    "a2151_row_t3 = table3['Nest'] == a2151_nest\n",
    "\n",
    "R2t_a2151 = table3['R2t'][a2151_row_t3][0]\n",
    "sigma_a2151 = table3['sigP'][a2151_row_t3][0]"
   ]
  },
  {
   "cell_type": "code",
   "execution_count": 63,
   "id": "d212c7dd-b187-4a15-b874-00daf15d6d57",
   "metadata": {},
   "outputs": [],
   "source": [
    "a2151_coords = SkyCoord(table3['SGLON'][a2151_row_t3]*u.degree, \n",
    "                       table3['SGLAT'][a2151_row_t3]*u.degree, \n",
    "                       frame='supergalactic')\n",
    "\n",
    "a2151_group_coords = SkyCoord(table2['SGLON']*u.degree, \n",
    "                        table2['SGLAT']*u.degree, \n",
    "                        frame='supergalactic')\n",
    "\n",
    "idx, d2d, d3d = a2151_coords.match_to_catalog_sky(a2151_group_coords)\n",
    "\n",
    "V_a2151 = table2['__HV_'][idx][0]"
   ]
  },
  {
   "cell_type": "code",
   "execution_count": 64,
   "id": "c5956d6d-6fd2-404c-893f-653ada4ccf03",
   "metadata": {},
   "outputs": [],
   "source": [
    "# First, we need to convert R2t from Mpc to an angle, using the group's heliocentric velocity\n",
    "R2t_a2151_angle = (R2t_a2151/(V_a2151/H0))*u.radian"
   ]
  },
  {
   "cell_type": "code",
   "execution_count": 65,
   "id": "f261057a-20b5-4880-a2fc-bd10f93d99b9",
   "metadata": {},
   "outputs": [],
   "source": [
    "a2151_tf_coords = SkyCoord(drpall['objra'], drpall['objdec'], unit='deg')\n",
    "\n",
    "a21sep = a2151_coords.separation(a2151_tf_coords)"
   ]
  },
  {
   "cell_type": "code",
   "execution_count": 89,
   "id": "833dbaae-b169-4af9-9ab4-50f6a4ebf701",
   "metadata": {},
   "outputs": [
    {
     "data": {
      "text/plain": [
       "Text(0, 0.5, 'Count')"
      ]
     },
     "execution_count": 89,
     "metadata": {},
     "output_type": "execute_result"
    },
    {
     "data": {
      "image/png": "[encoded data removed]",
      "text/plain": [
       "<Figure size 432x288 with 1 Axes>"
      ]
     },
     "metadata": {
      "needs_background": "light"
     },
     "output_type": "display_data"
    }
   ],
   "source": [
    "plt.hist(a21sep.to_value('degree'))\n",
    "plt.xlabel('MaNGA-Abell 2151 Angular Separation [deg]')\n",
    "plt.ylabel('Count')"
   ]
  },
  {
   "cell_type": "code",
   "execution_count": 91,
   "id": "e59843e3-fcc2-4388-b9b7-4d11a79ae44c",
   "metadata": {},
   "outputs": [
    {
     "data": {
      "text/html": [
       "<div><i>Table length=17</i>\n",
       "<table id=\"table23455342684144\" class=\"table-striped table-bordered table-condensed\">\n",
       "<thead><tr><th>plate</th><th>ifudsgn</th><th>plateifu</th><th>mangaid</th><th>versdrp2</th><th>versdrp3</th><th>verscore</th><th>versutil</th><th>versprim</th><th>platetyp</th><th>srvymode</th><th>objra</th><th>objdec</th><th>ifuglon</th><th>ifuglat</th><th>ifura</th><th>ifudec</th><th>ebvgal</th><th>nexp</th><th>exptime</th><th>drp3qual</th><th>bluesn2</th><th>redsn2</th><th>harname</th><th>frlplug</th><th>cartid</th><th>designid</th><th>cenra</th><th>cendec</th><th>airmsmin</th><th>airmsmed</th><th>airmsmax</th><th>seemin</th><th>seemed</th><th>seemax</th><th>transmin</th><th>transmed</th><th>transmax</th><th>mjdmin</th><th>mjdmed</th><th>mjdmax</th><th>gfwhm</th><th>rfwhm</th><th>ifwhm</th><th>zfwhm</th><th>mngtarg1</th><th>mngtarg2</th><th>mngtarg3</th><th>catidnum</th><th>plttarg</th><th>manga_tileid</th><th>nsa_iauname</th><th>ifudesignsize</th><th>ifutargetsize</th><th>ifudesignwrongsize</th><th>z</th><th>zmin</th><th>zmax</th><th>szmin</th><th>szmax</th><th>ezmin</th><th>ezmax</th><th>probs</th><th>pweight</th><th>psweight</th><th>psrweight</th><th>sweight</th><th>srweight</th><th>eweight</th><th>esweight</th><th>esrweight</th><th>nsa_field</th><th>nsa_run</th><th>nsa_camcol</th><th>nsa_version</th><th>nsa_nsaid</th><th>nsa_nsaid_v1b</th><th>nsa_z</th><th>nsa_zdist</th><th>nsa_sersic_absmag [7]</th><th>nsa_elpetro_absmag [7]</th><th>nsa_elpetro_amivar [7]</th><th>nsa_sersic_mass</th><th>nsa_elpetro_mass</th><th>nsa_elpetro_ba</th><th>nsa_elpetro_phi</th><th>nsa_extinction [7]</th><th>nsa_elpetro_th50_r</th><th>nsa_petro_th50</th><th>nsa_petro_flux [7]</th><th>nsa_petro_flux_ivar [7]</th><th>nsa_elpetro_flux [7]</th><th>nsa_elpetro_flux_ivar [7]</th><th>nsa_sersic_ba</th><th>nsa_sersic_n</th><th>nsa_sersic_phi</th><th>nsa_sersic_th50</th><th>nsa_sersic_flux [7]</th><th>nsa_sersic_flux_ivar [7]</th></tr></thead>\n",
       "<thead><tr><th>int64</th><th>bytes32</th><th>bytes32</th><th>bytes32</th><th>bytes32</th><th>bytes32</th><th>bytes32</th><th>bytes32</th><th>bytes32</th><th>bytes32</th><th>bytes32</th><th>float64</th><th>float64</th><th>float64</th><th>float64</th><th>float64</th><th>float64</th><th>float64</th><th>int64</th><th>float64</th><th>int64</th><th>float64</th><th>float64</th><th>bytes53</th><th>int64</th><th>bytes32</th><th>int64</th><th>float64</th><th>float64</th><th>float64</th><th>float64</th><th>float64</th><th>float64</th><th>float64</th><th>float64</th><th>float64</th><th>float64</th><th>float64</th><th>int64</th><th>int64</th><th>int64</th><th>float64</th><th>float64</th><th>float64</th><th>float64</th><th>int64</th><th>int64</th><th>int64</th><th>int64</th><th>bytes32</th><th>int64</th><th>bytes19</th><th>int64</th><th>int64</th><th>int64</th><th>float64</th><th>float64</th><th>float64</th><th>float64</th><th>float64</th><th>float64</th><th>float64</th><th>float64</th><th>float64</th><th>float64</th><th>float64</th><th>float64</th><th>float64</th><th>float64</th><th>float64</th><th>float64</th><th>int64</th><th>int64</th><th>int64</th><th>bytes6</th><th>int64</th><th>int64</th><th>float64</th><th>float64</th><th>float64</th><th>float64</th><th>float64</th><th>float64</th><th>float64</th><th>float64</th><th>float64</th><th>float64</th><th>float64</th><th>float64</th><th>float64</th><th>float64</th><th>float64</th><th>float64</th><th>float64</th><th>float64</th><th>float64</th><th>float64</th><th>float64</th><th>float64</th></tr></thead>\n",
       "<tr><td>11976</td><td>12701</td><td>11976-12701</td><td>1-545967</td><td>v3_1_1</td><td>v3_1_1</td><td>v1_9_1</td><td>v5_5_36</td><td>v2_9</td><td>APOGEE-2&amp;MaNGA</td><td>MaNGA dither</td><td>241.468442331</td><td>18.2204981694</td><td>32.2805128075</td><td>44.5495690978</td><td>241.46844</td><td>18.220498</td><td>0.0526269</td><td>12</td><td>10800.8</td><td>4096</td><td>21.2698</td><td>48.927</td><td>ma126</td><td>22</td><td>6</td><td>12257</td><td>242.95091</td><td>18.622717</td><td>1.03322</td><td>1.05519</td><td>1.11078</td><td>1.09304</td><td>1.27429</td><td>1.36164</td><td>0.705103</td><td>0.860022</td><td>0.882643</td><td>59011</td><td>59016</td><td>59016</td><td>2.43774</td><td>2.46349</td><td>2.4866</td><td>2.50483</td><td>1040</td><td>0</td><td>0</td><td>1</td><td>plateTargets-1.par</td><td>7584</td><td>J160552.42+181313.7</td><td>127</td><td>169</td><td>0</td><td>0.035793338</td><td>0.028021477</td><td>0.041503645</td><td>0.061424445</td><td>0.06736172</td><td>0.027799748</td><td>0.042533673</td><td>0.67973006</td><td>0.39712077</td><td>0.18291175</td><td>0.19604881</td><td>-999.0</td><td>-999.0</td><td>0.35482377</td><td>0.17339161</td><td>0.18515277</td><td>91</td><td>4671</td><td>1</td><td>v1_0_1</td><td>577318</td><td>-999</td><td>0.035793338</td><td>0.03592137</td><td>-16.385899 .. -22.131243</td><td>-16.790493 .. -21.655771</td><td>9.28001 .. 1080.7552</td><td>55303570000.0</td><td>35909284000.0</td><td>0.4261119</td><td>118.26187</td><td>0.43668082 .. 0.07790723</td><td>11.108309</td><td>8.098305</td><td>26.869528 .. 3113.4243</td><td>0.012317556 .. 0.0012462651</td><td>29.135294 .. 3578.4148</td><td>0.013081428 .. 0.0036417716</td><td>0.34659883</td><td>4.976387</td><td>117.53204</td><td>21.059978</td><td>20.359644 .. 5485.7646</td><td>0.056891896 .. 0.010816837</td></tr>\n",
       "<tr><td>11976</td><td>12702</td><td>11976-12702</td><td>1-594224</td><td>v3_1_1</td><td>v3_1_1</td><td>v1_9_1</td><td>v5_5_36</td><td>v2_9</td><td>APOGEE-2&amp;MaNGA</td><td>MaNGA dither</td><td>241.46822</td><td>18.46477</td><td>32.6020235741</td><td>44.6347068948</td><td>241.46822</td><td>18.46477</td><td>0.0435292</td><td>12</td><td>10800.8</td><td>4096</td><td>21.2698</td><td>48.927</td><td>ma134</td><td>25</td><td>6</td><td>12257</td><td>242.95091</td><td>18.622717</td><td>1.03209</td><td>1.05398</td><td>1.10935</td><td>1.09304</td><td>1.27429</td><td>1.36164</td><td>0.705103</td><td>0.860022</td><td>0.882643</td><td>59011</td><td>59016</td><td>59016</td><td>2.48158</td><td>2.39396</td><td>2.38125</td><td>2.38463</td><td>2080</td><td>0</td><td>0</td><td>1</td><td>plateTargets-1.par</td><td>7584</td><td>J160552.20+182758.0</td><td>127</td><td>169</td><td>0</td><td>0.03889418</td><td>0.019060029</td><td>0.02626629</td><td>0.03826524</td><td>0.042490978</td><td>0.019060029</td><td>0.02626629</td><td>0.7828951</td><td>-999.0</td><td>0.66665864</td><td>0.6998553</td><td>1.0829474</td><td>1.1733583</td><td>-999.0</td><td>0.66686755</td><td>0.7000856</td><td>310</td><td>4646</td><td>5</td><td>v1_0_1</td><td>633102</td><td>-999</td><td>0.03889418</td><td>0.039025657</td><td>-15.713459 .. -19.305902</td><td>-16.645823 .. -19.18719</td><td>20.5723 .. 46.170174</td><td>2917191400.0</td><td>2392771300.0</td><td>0.52335185</td><td>112.17883</td><td>0.3601176 .. 0.064247765</td><td>6.5067115</td><td>5.1302195</td><td>13.7681265 .. 324.91376</td><td>0.05464492 .. 0.00051991997</td><td>22.188778 .. 320.6385</td><td>0.050933138 .. 0.0005523455</td><td>0.4536838</td><td>0.7146275</td><td>111.81351</td><td>6.9276233</td><td>8.971009 .. 358.8479</td><td>0.13107067 .. 0.004750963</td></tr>\n",
       "<tr><td>11976</td><td>12703</td><td>11976-12703</td><td>1-446242</td><td>v3_1_1</td><td>v3_1_1</td><td>v1_9_1</td><td>v5_5_36</td><td>v2_9</td><td>APOGEE-2&amp;MaNGA</td><td>MaNGA dither</td><td>243.925554082</td><td>19.6375787771</td><td>35.2152307933</td><td>42.8439043806</td><td>243.92555</td><td>19.637579</td><td>0.0486936</td><td>9</td><td>8100.59</td><td>4098</td><td>17.659</td><td>41.3</td><td>ma142</td><td>31</td><td>6</td><td>12257</td><td>242.95091</td><td>18.622717</td><td>1.02734</td><td>1.04896</td><td>1.08723</td><td>1.09304</td><td>1.27865</td><td>1.36164</td><td>0.760741</td><td>0.863337</td><td>0.882643</td><td>59011</td><td>59011</td><td>59016</td><td>2.401</td><td>2.39171</td><td>2.41932</td><td>2.43021</td><td>1168</td><td>0</td><td>0</td><td>1</td><td>plateTargets-1.par</td><td>7584</td><td>J161542.13+193815.3</td><td>127</td><td>127</td><td>0</td><td>0.033610165</td><td>0.025933182</td><td>0.035338268</td><td>0.05291987</td><td>0.057898495</td><td>0.023507018</td><td>0.036543276</td><td>0.67973006</td><td>0.7332086</td><td>0.3114382</td><td>0.3354066</td><td>-999.0</td><td>-999.0</td><td>0.5468138</td><td>0.27204832</td><td>0.2901609</td><td>241</td><td>4570</td><td>3</td><td>v1_0_1</td><td>471724</td><td>-999</td><td>0.033610165</td><td>0.03378338</td><td>-16.179226 .. -21.421955</td><td>-16.354635 .. -21.219286</td><td>3.3721404 .. 1051.1183</td><td>26421273000.0</td><td>22577074000.0</td><td>0.5988822</td><td>163.22906</td><td>0.404785 .. 0.07221677</td><td>8.823809</td><td>7.237469</td><td>22.567186 .. 2603.6567</td><td>0.0078618415 .. 0.0029009557</td><td>22.098013 .. 2734.0515</td><td>0.008184601 .. 0.0030700485</td><td>0.49913242</td><td>1.3765732</td><td>163.45074</td><td>9.959317</td><td>18.86001 .. 3267.7559</td><td>0.031294223 .. 0.015654547</td></tr>\n",
       "<tr><td>11976</td><td>12704</td><td>11976-12704</td><td>1-546250</td><td>v3_1_1</td><td>v3_1_1</td><td>v1_9_1</td><td>v5_5_36</td><td>v2_9</td><td>APOGEE-2&amp;MaNGA</td><td>MaNGA dither</td><td>241.791140641</td><td>18.6412608183</td><td>32.9823407619</td><td>44.4081217489</td><td>241.79114</td><td>18.641261</td><td>0.0395224</td><td>9</td><td>8100.59</td><td>4098</td><td>17.659</td><td>41.3</td><td>ma154</td><td>34</td><td>6</td><td>12257</td><td>242.95091</td><td>18.622717</td><td>1.03125</td><td>1.06173</td><td>1.10613</td><td>1.09304</td><td>1.27865</td><td>1.36164</td><td>0.760741</td><td>0.863337</td><td>0.882643</td><td>59011</td><td>59011</td><td>59016</td><td>2.49889</td><td>2.42855</td><td>2.3763</td><td>2.33358</td><td>1040</td><td>0</td><td>0</td><td>1</td><td>plateTargets-1.par</td><td>7584</td><td>J160709.88+183828.6</td><td>127</td><td>127</td><td>0</td><td>0.038781825</td><td>0.031043014</td><td>0.051936485</td><td>0.07561288</td><td>0.08337018</td><td>0.030534811</td><td>0.052447386</td><td>0.67973006</td><td>0.17968127</td><td>0.08809937</td><td>0.0940547</td><td>-999.0</td><td>-999.0</td><td>0.17112748</td><td>0.08599188</td><td>0.09165653</td><td>92</td><td>4671</td><td>2</td><td>v1_0_1</td><td>577618</td><td>-999</td><td>0.038781825</td><td>0.038919106</td><td>-13.693546 .. -22.473207</td><td>-13.708862 .. -22.201775</td><td>0.0 .. 400.85297</td><td>70249680000.0</td><td>57309303000.0</td><td>0.84588635</td><td>13.104309</td><td>0.33009145 .. 0.05889086</td><td>8.361224</td><td>8.048499</td><td>-0.44852784 .. 5143.4253</td><td>0.012054518 .. 2.6276779e-05</td><td>-0.14187582 .. 5039.5293</td><td>0.011925574 .. 2.9106845e-05</td><td>0.7813087</td><td>3.2920456</td><td>13.510651</td><td>11.387157</td><td>-0.018034626 .. 6393.416</td><td>0.06092439 .. 0.0030566885</td></tr>\n",
       "<tr><td>11976</td><td>12705</td><td>11976-12705</td><td>1-446290</td><td>v3_1_1</td><td>v3_1_1</td><td>v1_9_1</td><td>v5_5_36</td><td>v2_9</td><td>APOGEE-2&amp;MaNGA</td><td>MaNGA dither</td><td>243.546727767</td><td>19.3149338088</td><td>34.6374931345</td><td>43.0738633278</td><td>243.54673</td><td>19.314934</td><td>0.0563766</td><td>9</td><td>8100.59</td><td>4098</td><td>17.659</td><td>41.3</td><td>ma175</td><td>36</td><td>6</td><td>12257</td><td>242.95091</td><td>18.622717</td><td>1.02855</td><td>1.05176</td><td>1.09118</td><td>1.09304</td><td>1.27865</td><td>1.36164</td><td>0.760741</td><td>0.863337</td><td>0.882643</td><td>59011</td><td>59011</td><td>59016</td><td>2.4923</td><td>2.46932</td><td>2.4516</td><td>2.43544</td><td>1216</td><td>0</td><td>0</td><td>1</td><td>plateTargets-1.par</td><td>7584</td><td>J161411.21+191853.7</td><td>127</td><td>127</td><td>0</td><td>0.030843768</td><td>0.023769002</td><td>0.031060373</td><td>0.046668954</td><td>0.05111816</td><td>0.023394901</td><td>0.031186983</td><td>0.67973006</td><td>1.1795561</td><td>0.4670262</td><td>0.504916</td><td>-999.0</td><td>-999.0</td><td>1.1136235</td><td>0.4563292</td><td>0.49243605</td><td>29</td><td>4600</td><td>2</td><td>v1_0_1</td><td>471774</td><td>-999</td><td>0.030843768</td><td>0.03100859</td><td>-15.920367 .. -20.844618</td><td>-15.671103 .. -20.709848</td><td>0.67703515 .. 889.8228</td><td>16177207000.0</td><td>12329638000.0</td><td>0.8585436</td><td>39.23506</td><td>0.46582758 .. 0.08310724</td><td>9.131534</td><td>8.605423</td><td>12.840818 .. 1929.6951</td><td>0.00475613 .. 0.00091831706</td><td>12.969756 .. 2015.038</td><td>0.0047497083 .. 0.0012971335</td><td>0.85227776</td><td>1.9175172</td><td>34.11618</td><td>10.767535</td><td>16.833532 .. 2298.4238</td><td>0.017636495 .. 0.0064492775</td></tr>\n",
       "<tr><td>11976</td><td>1901</td><td>11976-1901</td><td>1-545946</td><td>v3_1_1</td><td>v3_1_1</td><td>v1_9_1</td><td>v5_5_36</td><td>v2_9</td><td>APOGEE-2&amp;MaNGA</td><td>MaNGA dither</td><td>241.625467707</td><td>18.5876454422</td><td>32.8361791176</td><td>44.5371430232</td><td>241.62547</td><td>18.587645</td><td>0.0428718</td><td>3</td><td>2700.2</td><td>4098</td><td>4.46061</td><td>12.4698</td><td>ma132</td><td>29</td><td>6</td><td>12257</td><td>242.95091</td><td>18.622717</td><td>1.05284</td><td>1.06929</td><td>1.09091</td><td>1.30507</td><td>1.35007</td><td>1.36164</td><td>0.863671</td><td>0.868387</td><td>0.879465</td><td>59011</td><td>59011</td><td>59011</td><td>2.48106</td><td>2.39516</td><td>2.37438</td><td>2.37841</td><td>2080</td><td>0</td><td>0</td><td>1</td><td>plateTargets-1.par</td><td>7584</td><td>J160630.11+183515.5</td><td>19</td><td>19</td><td>0</td><td>0.03789797</td><td>0.017509526</td><td>0.02525272</td><td>0.03610322</td><td>0.04036834</td><td>0.014515417</td><td>0.0298903</td><td>0.8173318</td><td>-999.0</td><td>0.7068236</td><td>0.73503447</td><td>1.161005</td><td>1.2391222</td><td>-999.0</td><td>0.48145965</td><td>0.4943844</td><td>100</td><td>4633</td><td>2</td><td>v1_0_1</td><td>577294</td><td>-999</td><td>0.03789797</td><td>0.03803279</td><td>-13.224119 .. -19.055761</td><td>-13.21813 .. -19.084352</td><td>0.0 .. 412.05844</td><td>2181914400.0</td><td>2164372700.0</td><td>0.8308637</td><td>29.265503</td><td>0.35863724 .. 0.06398365</td><td>1.4085808</td><td>1.4060844</td><td>-0.57287496 .. 299.01703</td><td>1.0063218 .. 0.00041180704</td><td>-0.3902614 .. 305.48618</td><td>1.2373412 .. 0.00827317</td><td>0.5549919</td><td>6.0</td><td>27.48233</td><td>0.68952256</td><td>-0.3400471 .. 297.54172</td><td>1.5629641 .. 0.25002798</td></tr>\n",
       "<tr><td>11976</td><td>1902</td><td>11976-1902</td><td>1-446229</td><td>v3_1_1</td><td>v3_1_1</td><td>v1_9_1</td><td>v5_5_36</td><td>v2_9</td><td>APOGEE-2&amp;MaNGA</td><td>MaNGA dither</td><td>243.94991108</td><td>19.4344350411</td><td>34.9643123625</td><td>42.7550293038</td><td>243.94991</td><td>19.434435</td><td>0.0525429</td><td>9</td><td>8100.59</td><td>4098</td><td>17.659</td><td>41.3</td><td>ma139</td><td>35</td><td>6</td><td>12257</td><td>242.95091</td><td>18.622717</td><td>1.02821</td><td>1.0498</td><td>1.08813</td><td>1.09304</td><td>1.27865</td><td>1.36164</td><td>0.760741</td><td>0.863337</td><td>0.882643</td><td>59011</td><td>59011</td><td>59016</td><td>2.40599</td><td>2.3767</td><td>2.37092</td><td>2.37642</td><td>4096</td><td>0</td><td>0</td><td>1</td><td>plateTargets-1.par</td><td>7584</td><td>J161547.97+192604.0</td><td>19</td><td>19</td><td>0</td><td>0.029517287</td><td>0.014674022</td><td>0.023641247</td><td>0.03238299</td><td>0.032937407</td><td>0.01</td><td>0.030449372</td><td>0.67973006</td><td>-999.0</td><td>-999.0</td><td>-999.0</td><td>-999.0</td><td>-999.0</td><td>0.713938</td><td>0.67857075</td><td>0.6827726</td><td>31</td><td>4600</td><td>3</td><td>v1_0_1</td><td>471709</td><td>-999</td><td>0.029517287</td><td>0.029687937</td><td>-12.422718 .. -18.37516</td><td>-12.41552 .. -18.342613</td><td>0.0 .. 666.4773</td><td>2237007000.0</td><td>1766779000.0</td><td>0.7492563</td><td>141.37813</td><td>0.43763965 .. 0.07807829</td><td>2.7987514</td><td>2.724436</td><td>-0.3078874 .. 244.93512</td><td>0.052917633 .. 0.02512402</td><td>-0.22173654 .. 251.65144</td><td>0.053462397 .. 0.031002032</td><td>0.59533656</td><td>4.7162094</td><td>142.49194</td><td>3.2724767</td><td>-0.096499056 .. 258.68024</td><td>0.11990858 .. 0.13911517</td></tr>\n",
       "<tr><td>11976</td><td>3701</td><td>11976-3701</td><td>1-444980</td><td>v3_1_1</td><td>v3_1_1</td><td>v1_9_1</td><td>v5_5_36</td><td>v2_9</td><td>APOGEE-2&amp;MaNGA</td><td>MaNGA dither</td><td>241.561797466</td><td>18.1828719413</td><td>32.274595823</td><td>44.4533217953</td><td>241.5618</td><td>18.182872</td><td>0.0518065</td><td>12</td><td>10800.8</td><td>4096</td><td>21.2698</td><td>48.927</td><td>ma137</td><td>23</td><td>6</td><td>12257</td><td>242.95091</td><td>18.622717</td><td>1.03339</td><td>1.05506</td><td>1.11036</td><td>1.09304</td><td>1.27429</td><td>1.36164</td><td>0.705103</td><td>0.860022</td><td>0.882643</td><td>59011</td><td>59016</td><td>59016</td><td>2.42688</td><td>2.43805</td><td>2.44817</td><td>2.45828</td><td>1040</td><td>0</td><td>0</td><td>1</td><td>plateTargets-1.par</td><td>7584</td><td>J160614.83+181058.3</td><td>37</td><td>37</td><td>0</td><td>0.03940029</td><td>0.028840408</td><td>0.044314627</td><td>0.06524872</td><td>0.07166007</td><td>0.028198889</td><td>0.04552228</td><td>0.67973006</td><td>0.31238732</td><td>0.14736795</td><td>0.15771797</td><td>-999.0</td><td>-999.0</td><td>0.27419573</td><td>0.13828176</td><td>0.14735554</td><td>92</td><td>4671</td><td>1</td><td>v1_0_1</td><td>470352</td><td>-999</td><td>0.03940029</td><td>0.039528754</td><td>-17.495544 .. -22.24359</td><td>-16.797112 .. -21.788908</td><td>19.045372 .. 1062.1217</td><td>53210130000.0</td><td>37013275000.0</td><td>0.7904224</td><td>166.8421</td><td>0.43314734 .. 0.07727683</td><td>4.2480516</td><td>4.1339498</td><td>21.016481 .. 3295.4104</td><td>0.04411362 .. 0.0038693065</td><td>23.245836 .. 3328.206</td><td>0.04285363 .. 0.002563645</td><td>0.7130342</td><td>6.0</td><td>167.11731</td><td>7.4431767</td><td>43.381737 .. 5037.4326</td><td>0.042518333 .. 0.012330615</td></tr>\n",
       "<tr><td>11976</td><td>3702</td><td>11976-3702</td><td>1-545973</td><td>v3_1_1</td><td>v3_1_1</td><td>v1_9_1</td><td>v5_5_36</td><td>v2_9</td><td>APOGEE-2&amp;MaNGA</td><td>MaNGA dither</td><td>241.525467559</td><td>18.6068624497</td><td>32.8157551454</td><td>44.6327496299</td><td>241.52547</td><td>18.606862</td><td>0.0457561</td><td>3</td><td>2700.2</td><td>4098</td><td>4.46061</td><td>12.4698</td><td>ma128</td><td>27</td><td>6</td><td>12257</td><td>242.95091</td><td>18.622717</td><td>1.05309</td><td>1.06965</td><td>1.0914</td><td>1.30507</td><td>1.35007</td><td>1.36164</td><td>0.863671</td><td>0.868387</td><td>0.879465</td><td>59011</td><td>59011</td><td>59011</td><td>2.4418</td><td>2.47226</td><td>2.49206</td><td>2.51337</td><td>1040</td><td>0</td><td>0</td><td>1</td><td>plateTargets-1.par</td><td>7584</td><td>J160606.11+183624.6</td><td>37</td><td>37</td><td>0</td><td>0.038058273</td><td>0.029042723</td><td>0.04502268</td><td>0.066210724</td><td>0.07274384</td><td>0.029042723</td><td>0.04502268</td><td>0.67973006</td><td>0.2950799</td><td>0.13990343</td><td>0.14968197</td><td>-999.0</td><td>-999.0</td><td>0.29532057</td><td>0.13995752</td><td>0.14974388</td><td>100</td><td>4633</td><td>2</td><td>v1_0_1</td><td>577324</td><td>-999</td><td>0.038058273</td><td>0.03819233</td><td>-13.878802 .. -22.274363</td><td>-13.242379 .. -21.877518</td><td>0.039723445 .. 1052.2834</td><td>62769310000.0</td><td>44222366000.0</td><td>0.9057052</td><td>132.70087</td><td>0.38148028 .. 0.06805903</td><td>4.5474033</td><td>4.705737</td><td>0.49076036 .. 3936.6794</td><td>0.046888787 .. 0.0014031741</td><td>0.92386097 .. 3884.3533</td><td>0.054866828 .. 0.0015528202</td><td>0.8762598</td><td>6.0</td><td>127.081726</td><td>8.286858</td><td>1.7386708 .. 5579.1167</td><td>0.15215348 .. 0.006870719</td></tr>\n",
       "<tr><td>11976</td><td>3703</td><td>11976-3703</td><td>1-546345</td><td>v3_1_1</td><td>v3_1_1</td><td>v1_9_1</td><td>v5_5_36</td><td>v2_9</td><td>APOGEE-2&amp;MaNGA</td><td>MaNGA dither</td><td>244.266289403</td><td>19.0074466438</td><td>34.5543785415</td><td>42.3303577207</td><td>244.26629</td><td>19.007447</td><td>0.0532137</td><td>9</td><td>8100.59</td><td>4098</td><td>17.659</td><td>41.3</td><td>ma140</td><td>32</td><td>6</td><td>12257</td><td>242.95091</td><td>18.622717</td><td>1.03007</td><td>1.0507</td><td>1.08849</td><td>1.09304</td><td>1.27865</td><td>1.36164</td><td>0.760741</td><td>0.863337</td><td>0.882643</td><td>59011</td><td>59011</td><td>59016</td><td>2.44577</td><td>2.42667</td><td>2.4331</td><td>2.4363</td><td>2336</td><td>0</td><td>0</td><td>1</td><td>plateTargets-1.par</td><td>7584</td><td>J161703.89+190026.7</td><td>37</td><td>37</td><td>0</td><td>0.035711043</td><td>0.01576104</td><td>0.024234409</td><td>0.03378639</td><td>0.036973357</td><td>0.010993242</td><td>0.030004451</td><td>0.8167594</td><td>-999.0</td><td>0.92193747</td><td>0.9526164</td><td>1.8112129</td><td>1.9335462</td><td>-999.0</td><td>0.5337975</td><td>0.54394007</td><td>47</td><td>6104</td><td>6</td><td>v1_0_1</td><td>577723</td><td>-999</td><td>0.035711043</td><td>0.035879042</td><td>-14.2965975 .. -18.899065</td><td>-14.042209 .. -18.71131</td><td>0.41326216 .. 929.1445</td><td>2281971700.0</td><td>2237097700.0</td><td>0.597495</td><td>66.51997</td><td>0.4388937 .. 0.078302026</td><td>2.2953153</td><td>1.9619702</td><td>1.8777795 .. 231.60165</td><td>0.10034971 .. 0.09759922</td><td>2.2716866 .. 236.05397</td><td>0.09446364 .. 0.120025896</td><td>0.37690142</td><td>1.6159897</td><td>66.05768</td><td>2.3022954</td><td>2.7598221 .. 276.52438</td><td>0.1871116 .. 0.36309007</td></tr>\n",
       "<tr><td>11976</td><td>3704</td><td>11976-3704</td><td>1-444671</td><td>v3_1_1</td><td>v3_1_1</td><td>v1_9_1</td><td>v5_5_36</td><td>v2_9</td><td>APOGEE-2&amp;MaNGA</td><td>MaNGA dither</td><td>241.863208938</td><td>17.9882860426</td><td>32.1608290192</td><td>44.1166864658</td><td>241.86321</td><td>17.988286</td><td>0.0440126</td><td>9</td><td>8100.59</td><td>4098</td><td>17.659</td><td>41.3</td><td>ma153</td><td>37</td><td>6</td><td>12257</td><td>242.95091</td><td>18.622717</td><td>1.03428</td><td>1.06477</td><td>1.10944</td><td>1.09304</td><td>1.27865</td><td>1.36164</td><td>0.760741</td><td>0.863337</td><td>0.882643</td><td>59011</td><td>59011</td><td>59016</td><td>2.46283</td><td>2.47014</td><td>2.44955</td><td>2.43148</td><td>2304</td><td>0</td><td>0</td><td>1</td><td>plateTargets-1.par</td><td>7584</td><td>J160727.16+175917.7</td><td>37</td><td>37</td><td>0</td><td>0.035315953</td><td>0.016978458</td><td>0.024932642</td><td>0.03538932</td><td>0.039673254</td><td>0.016978458</td><td>0.024932642</td><td>0.9012167</td><td>-999.0</td><td>0.69583744</td><td>0.70988446</td><td>1.1233401</td><td>1.1604093</td><td>-999.0</td><td>0.69605327</td><td>0.7101092</td><td>36</td><td>6104</td><td>1</td><td>v1_0_1</td><td>470009</td><td>-999</td><td>0.035315953</td><td>0.0354448</td><td>-14.957682 .. -18.732225</td><td>-15.1002 .. -18.851501</td><td>2.1590981 .. 611.5369</td><td>1515813500.0</td><td>1916709200.0</td><td>0.6697669</td><td>18.635895</td><td>0.36684537 .. 0.065448046</td><td>3.0422096</td><td>2.7508714</td><td>5.98753 .. 265.45328</td><td>0.07312994 .. 0.019580355</td><td>6.356737 .. 285.755</td><td>0.06320559 .. 0.019635463</td><td>0.29817015</td><td>1.0440708</td><td>22.016968</td><td>2.8347895</td><td>5.746234 .. 252.59744</td><td>0.31461856 .. 0.21755183</td></tr>\n",
       "<tr><td>11976</td><td>6101</td><td>11976-6101</td><td>1-546482</td><td>v3_1_1</td><td>v3_1_1</td><td>v1_9_1</td><td>v5_5_36</td><td>v2_9</td><td>APOGEE-2&amp;MaNGA</td><td>MaNGA dither</td><td>244.167404175</td><td>18.9196186066</td><td>34.399637967</td><td>42.3885467903</td><td>244.1674</td><td>18.919619</td><td>0.0531961</td><td>12</td><td>10800.8</td><td>4096</td><td>21.2698</td><td>48.927</td><td>ma122</td><td>21</td><td>6</td><td>12257</td><td>242.95091</td><td>18.622717</td><td>1.03002</td><td>1.04354</td><td>1.08954</td><td>1.09304</td><td>1.27429</td><td>1.36164</td><td>0.705103</td><td>0.860022</td><td>0.882643</td><td>59011</td><td>59016</td><td>59016</td><td>2.39808</td><td>2.38379</td><td>2.38547</td><td>2.38552</td><td>0</td><td>0</td><td>4</td><td>1</td><td>plateTargets-1.par</td><td>7584</td><td>J161640.17+185510.6</td><td>61</td><td>-999</td><td>0</td><td>0.035453167</td><td>-999.0</td><td>-999.0</td><td>-999.0</td><td>-999.0</td><td>-999.0</td><td>-999.0</td><td>-999.0</td><td>-999.0</td><td>-999.0</td><td>-999.0</td><td>-999.0</td><td>-999.0</td><td>-999.0</td><td>-999.0</td><td>-999.0</td><td>34</td><td>4600</td><td>2</td><td>v1_0_1</td><td>577867</td><td>-999</td><td>0.03544774</td><td>0.035613496</td><td>-14.647519 .. -20.30103</td><td>-14.767121 .. -20.132881</td><td>0.59098256 .. 982.1357</td><td>10480906000.0</td><td>8413545000.0</td><td>0.6104515</td><td>115.5049</td><td>0.44040507 .. 0.07857166</td><td>3.2068636</td><td>2.7554216</td><td>3.966036 .. 835.1861</td><td>0.046235844 .. 0.012112497</td><td>4.206718 .. 890.87585</td><td>0.039404638 .. 0.012567142</td><td>0.44539383</td><td>4.1256433</td><td>113.22211</td><td>4.50501</td><td>4.1075244 .. 1045.1637</td><td>0.101694025 .. 0.02701976</td></tr>\n",
       "<tr><td>11976</td><td>6102</td><td>11976-6102</td><td>1-445027</td><td>v3_1_1</td><td>v3_1_1</td><td>v1_9_1</td><td>v5_5_36</td><td>v2_9</td><td>APOGEE-2&amp;MaNGA</td><td>MaNGA dither</td><td>241.84238595</td><td>18.323978766</td><td>32.5895994466</td><td>44.2528622695</td><td>241.84239</td><td>18.323979</td><td>0.0447528</td><td>12</td><td>10800.8</td><td>4096</td><td>21.2698</td><td>48.927</td><td>ma123</td><td>24</td><td>6</td><td>12257</td><td>242.95091</td><td>18.622717</td><td>1.0327</td><td>1.0534</td><td>1.10761</td><td>1.09304</td><td>1.27429</td><td>1.36164</td><td>0.705103</td><td>0.860022</td><td>0.882643</td><td>59011</td><td>59016</td><td>59016</td><td>2.4065</td><td>2.31572</td><td>2.25476</td><td>2.23586</td><td>2080</td><td>0</td><td>0</td><td>1</td><td>plateTargets-1.par</td><td>7584</td><td>J160722.17+181926.2</td><td>61</td><td>61</td><td>0</td><td>0.037032735</td><td>0.015901532</td><td>0.024312895</td><td>0.033969425</td><td>0.037528872</td><td>0.013634934</td><td>0.025992617</td><td>1.0</td><td>-999.0</td><td>0.79610014</td><td>0.79610014</td><td>1.3852173</td><td>1.3852173</td><td>-999.0</td><td>0.6682221</td><td>0.6682221</td><td>313</td><td>4646</td><td>5</td><td>v1_0_1</td><td>470411</td><td>-999</td><td>0.037032735</td><td>0.037166085</td><td>-14.649424 .. -18.567053</td><td>-14.525717 .. -18.875423</td><td>0.9887172 .. 369.02557</td><td>1525252700.0</td><td>1410305300.0</td><td>0.740096</td><td>154.65012</td><td>0.37070718 .. 0.06613702</td><td>3.2256207</td><td>2.9432411</td><td>3.1093755 .. 248.70811</td><td>0.10741083 .. 0.009413845</td><td>3.459547 .. 256.64777</td><td>0.09753712 .. 0.00988857</td><td>0.6274034</td><td>0.937584</td><td>157.99197</td><td>3.236675</td><td>3.9190462 .. 198.40765</td><td>0.314626 .. 0.060845986</td></tr>\n",
       "<tr><td>11976</td><td>6103</td><td>11976-6103</td><td>1-446231</td><td>v3_1_1</td><td>v3_1_1</td><td>v1_9_1</td><td>v5_5_36</td><td>v2_9</td><td>APOGEE-2&amp;MaNGA</td><td>MaNGA dither</td><td>243.898155725</td><td>19.4533923787</td><td>34.9665896028</td><td>42.8073539734</td><td>243.89816</td><td>19.453392</td><td>0.0518509</td><td>3</td><td>2700.2</td><td>4098</td><td>4.46061</td><td>12.4698</td><td>ma151</td><td>28</td><td>6</td><td>12257</td><td>242.95091</td><td>18.622717</td><td>1.04184</td><td>1.05541</td><td>1.07388</td><td>1.30507</td><td>1.35007</td><td>1.36164</td><td>0.863671</td><td>0.868387</td><td>0.879465</td><td>59011</td><td>59011</td><td>59011</td><td>2.56824</td><td>2.56477</td><td>2.56037</td><td>2.56025</td><td>1040</td><td>0</td><td>0</td><td>1</td><td>plateTargets-1.par</td><td>7584</td><td>J161535.55+192712.2</td><td>61</td><td>61</td><td>0</td><td>0.030429803</td><td>0.029458221</td><td>0.046481643</td><td>0.068192616</td><td>0.07497911</td><td>0.029458221</td><td>0.046481643</td><td>0.67973006</td><td>0.26343435</td><td>0.12606007</td><td>0.13479212</td><td>-999.0</td><td>-999.0</td><td>0.26364923</td><td>0.12610926</td><td>0.13484834</td><td>30</td><td>4600</td><td>3</td><td>v1_0_1</td><td>471711</td><td>-999</td><td>0.030429803</td><td>0.030600179</td><td>-15.007233 .. -22.520401</td><td>-14.067542 .. -21.9697</td><td>0.12306516 .. 1090.0531</td><td>74755690000.0</td><td>48399570000.0</td><td>0.7811115</td><td>127.61487</td><td>0.43263316 .. 0.077185094</td><td>5.423384</td><td>5.627602</td><td>3.0806942 .. 7005.279</td><td>0.009189013 .. 0.0013998541</td><td>3.3411794 .. 6612.3315</td><td>0.012997797 .. 0.0015507161</td><td>0.68189013</td><td>6.0</td><td>127.05078</td><td>13.1623335</td><td>7.8629136 .. 10893.649</td><td>0.0293745 .. 0.004382405</td></tr>\n",
       "<tr><td>11976</td><td>6104</td><td>11976-6104</td><td>1-446257</td><td>v3_1_1</td><td>v3_1_1</td><td>v1_9_1</td><td>v5_5_36</td><td>v2_9</td><td>APOGEE-2&amp;MaNGA</td><td>MaNGA dither</td><td>243.688642201</td><td>19.8964506612</td><td>35.4498457895</td><td>43.1393218003</td><td>243.68864</td><td>19.896451</td><td>0.0499069</td><td>9</td><td>8100.59</td><td>4098</td><td>17.659</td><td>41.3</td><td>ma164</td><td>30</td><td>6</td><td>12257</td><td>242.95091</td><td>18.622717</td><td>1.02616</td><td>1.04862</td><td>1.08734</td><td>1.09304</td><td>1.27865</td><td>1.36164</td><td>0.760741</td><td>0.863337</td><td>0.882643</td><td>59011</td><td>59011</td><td>59016</td><td>2.44981</td><td>2.45143</td><td>2.47469</td><td>2.49246</td><td>2336</td><td>0</td><td>0</td><td>1</td><td>plateTargets-1.par</td><td>7584</td><td>J161445.27+195347.1</td><td>61</td><td>61</td><td>0</td><td>0.037123214</td><td>0.017605547</td><td>0.025311828</td><td>0.036233496</td><td>0.040495455</td><td>0.017605547</td><td>0.025311828</td><td>0.86364675</td><td>-999.0</td><td>0.6881321</td><td>0.70799494</td><td>1.112936</td><td>1.1658349</td><td>-999.0</td><td>0.6883462</td><td>0.7082216</td><td>239</td><td>4570</td><td>3</td><td>v1_0_1</td><td>471739</td><td>-999</td><td>0.037123214</td><td>0.037297577</td><td>-15.938088 .. -18.825327</td><td>-14.526921 .. -19.07051</td><td>0.0682647 .. 523.74744</td><td>932477900.0</td><td>1824256500.0</td><td>0.7016302</td><td>91.966705</td><td>0.418076 .. 0.074587986</td><td>3.807901</td><td>3.475287</td><td>-0.23795833 .. 308.42435</td><td>0.037608106 .. 0.009892592</td><td>3.3426628 .. 311.54102</td><td>0.0072028954 .. 0.0120334625</td><td>0.52145135</td><td>1.446379</td><td>93.32309</td><td>3.7007303</td><td>12.443779 .. 249.88249</td><td>0.0009036392 .. 0.07709833</td></tr>\n",
       "<tr><td>11976</td><td>9101</td><td>11976-9101</td><td>1-445042</td><td>v3_1_1</td><td>v3_1_1</td><td>v1_9_1</td><td>v5_5_36</td><td>v2_9</td><td>APOGEE-2&amp;MaNGA</td><td>MaNGA dither</td><td>242.793025729</td><td>17.1853822927</td><td>31.5651894045</td><td>43.0013485348</td><td>242.79303</td><td>17.185382</td><td>0.0471566</td><td>12</td><td>10800.8</td><td>4096</td><td>21.2698</td><td>48.927</td><td>ma170</td><td>26</td><td>6</td><td>12257</td><td>242.95091</td><td>18.622717</td><td>1.03829</td><td>1.05617</td><td>1.10808</td><td>1.09304</td><td>1.27429</td><td>1.36164</td><td>0.705103</td><td>0.860022</td><td>0.882643</td><td>59011</td><td>59016</td><td>59016</td><td>2.39856</td><td>2.39171</td><td>2.4177</td><td>2.43887</td><td>2080</td><td>0</td><td>0</td><td>1</td><td>plateTargets-1.par</td><td>7584</td><td>J161110.32+171107.4</td><td>91</td><td>91</td><td>0</td><td>0.04366765</td><td>0.021634826</td><td>0.028407093</td><td>0.042330198</td><td>0.04658136</td><td>0.021634826</td><td>0.028407093</td><td>0.8134654</td><td>-999.0</td><td>0.5533127</td><td>0.5770174</td><td>0.8697628</td><td>0.92980665</td><td>-999.0</td><td>0.5534768</td><td>0.57719594</td><td>386</td><td>4649</td><td>4</td><td>v1_0_1</td><td>470427</td><td>-999</td><td>0.04366765</td><td>0.04379488</td><td>-16.367878 .. -20.196318</td><td>-16.40638 .. -20.10357</td><td>0.0 .. 453.4565</td><td>7984063500.0</td><td>5325169000.0</td><td>0.78893256</td><td>56.534836</td><td>0.39158243 .. 0.06986132</td><td>4.2645125</td><td>3.8418446</td><td>0.0 .. 542.8104</td><td>0.0 .. 0.00262771</td><td>0.0 .. 577.9558</td><td>0.0 .. 0.0027036774</td><td>0.7024041</td><td>1.4104034</td><td>55.60559</td><td>4.4723296</td><td>0.0 .. 628.346</td><td>0.72837126 .. 0.01754537</td></tr>\n",
       "<tr><td>11976</td><td>9102</td><td>11976-9102</td><td>1-633849</td><td>v3_1_1</td><td>v3_1_1</td><td>v1_9_1</td><td>v5_5_36</td><td>v2_9</td><td>APOGEE-2&amp;MaNGA</td><td>MaNGA dither</td><td>244.197891381</td><td>19.4746798739</td><td>35.1215113478</td><td>42.5478465645</td><td>244.19789</td><td>19.47468</td><td>0.051584</td><td>9</td><td>8100.59</td><td>4098</td><td>17.659</td><td>41.3</td><td>ma168</td><td>33</td><td>6</td><td>12257</td><td>242.95091</td><td>18.622717</td><td>1.02808</td><td>1.04877</td><td>1.08646</td><td>1.09304</td><td>1.27865</td><td>1.36164</td><td>0.760741</td><td>0.863337</td><td>0.882643</td><td>59011</td><td>59011</td><td>59016</td><td>2.49579</td><td>2.47713</td><td>2.47973</td><td>2.47741</td><td>0</td><td>0</td><td>8388608</td><td>1</td><td>plateTargets-1.par</td><td>7584</td><td>J161647.09+192827.9</td><td>91</td><td>-999</td><td>0</td><td>0.038767647</td><td>-999.0</td><td>-999.0</td><td>-999.0</td><td>-999.0</td><td>-999.0</td><td>-999.0</td><td>-999.0</td><td>-999.0</td><td>-999.0</td><td>-999.0</td><td>-999.0</td><td>-999.0</td><td>-999.0</td><td>-999.0</td><td>-999.0</td><td>32</td><td>4600</td><td>3</td><td>v1_0_1</td><td>686627</td><td>-999</td><td>0.038767647</td><td>0.0389414</td><td>-16.992792 .. -21.284565</td><td>-17.486015 .. -21.034594</td><td>11.453997 .. 975.2383</td><td>21369956000.0</td><td>15687277000.0</td><td>0.7885306</td><td>111.19113</td><td>0.42808792 .. 0.07637419</td><td>9.258085</td><td>8.3626795</td><td>31.118551 .. 1657.7412</td><td>0.005467903 .. 0.002324544</td><td>47.676685 .. 1711.6761</td><td>0.0060509914 .. 0.0032087935</td><td>0.7925823</td><td>2.3645098</td><td>109.07233</td><td>11.266447</td><td>29.314217 .. 2165.6387</td><td>0.018419033 .. 0.0123961605</td></tr>\n",
       "</table></div>"
      ],
      "text/plain": [
       "<Table length=17>\n",
       "plate ifudsgn ...    nsa_sersic_flux [7]      nsa_sersic_flux_ivar [7] \n",
       "int64 bytes32 ...          float64                    float64          \n",
       "----- ------- ... ------------------------- ---------------------------\n",
       "11976   12701 ...    20.359644 .. 5485.7646  0.056891896 .. 0.010816837\n",
       "11976   12702 ...      8.971009 .. 358.8479   0.13107067 .. 0.004750963\n",
       "11976   12703 ...     18.86001 .. 3267.7559  0.031294223 .. 0.015654547\n",
       "11976   12704 ...  -0.018034626 .. 6393.416  0.06092439 .. 0.0030566885\n",
       "11976   12705 ...    16.833532 .. 2298.4238 0.017636495 .. 0.0064492775\n",
       "11976    1901 ...   -0.3400471 .. 297.54172     1.5629641 .. 0.25002798\n",
       "11976    1902 ... -0.096499056 .. 258.68024    0.11990858 .. 0.13911517\n",
       "11976    3701 ...    43.381737 .. 5037.4326  0.042518333 .. 0.012330615\n",
       "11976    3702 ...    1.7386708 .. 5579.1167   0.15215348 .. 0.006870719\n",
       "11976    3703 ...    2.7598221 .. 276.52438     0.1871116 .. 0.36309007\n",
       "11976    3704 ...     5.746234 .. 252.59744    0.31461856 .. 0.21755183\n",
       "11976    6101 ...    4.1075244 .. 1045.1637   0.101694025 .. 0.02701976\n",
       "11976    6102 ...    3.9190462 .. 198.40765     0.314626 .. 0.060845986\n",
       "11976    6103 ...    7.8629136 .. 10893.649    0.0293745 .. 0.004382405\n",
       "11976    6104 ...    12.443779 .. 249.88249  0.0009036392 .. 0.07709833\n",
       "11976    9101 ...            0.0 .. 628.346    0.72837126 .. 0.01754537\n",
       "11976    9102 ...    29.314217 .. 2165.6387 0.018419033 .. 0.0123961605"
      ]
     },
     "execution_count": 91,
     "metadata": {},
     "output_type": "execute_result"
    }
   ],
   "source": [
    "MaNGA_in_a21511 = (a21sep < 1.5*R2t_a2151_angle) & (drpall['z']*c > V_a2151 - 3*sigma_a2151) & (drpall['z']*c < V_a2151 + 3*sigma_a2151)\n",
    "\n",
    "MaNGA_in_a21512 = (a21sep >= 1.5*R2t_a2151_angle) & (a21sep < 3*R2t_a2151_angle) & (drpall['z']*c > V_a2151 - 2*sigma_a2151) & (drpall['z']*c < V_a2151 + 2*sigma_a2151)\n",
    "\n",
    "MaNGA_in_a2151 = MaNGA_in_a21511 | MaNGA_in_a21512\n",
    "\n",
    "################################################################################\n",
    "# Keep all instances of each SGA_ID that are within the Coma cluster\n",
    "#-------------------------------------------------------------------------------\n",
    "MaNGA_ID_in_a2151 = np.unique(drpall['mangaid'][MaNGA_in_a2151])\n",
    "\n",
    "idx_MaNGA_in_a2151 = np.in1d(drpall['mangaid'], MaNGA_ID_in_a2151)\n",
    "\n",
    "inAbell2151_MaNGA_table = drpall[idx_MaNGA_in_a2151]\n",
    "################################################################################\n",
    "\n",
    "inAbell2151_MaNGA_table"
   ]
  },
  {
   "cell_type": "code",
   "execution_count": 92,
   "id": "268a8951-10b8-4883-b594-8982853ca5dc",
   "metadata": {},
   "outputs": [
    {
     "data": {
      "text/plain": [
       "Text(0, 0.5, 'Count')"
      ]
     },
     "execution_count": 92,
     "metadata": {},
     "output_type": "execute_result"
    },
    {
     "data": {
      "image/png": "[encoded data removed]",
      "text/plain": [
       "<Figure size 432x288 with 1 Axes>"
      ]
     },
     "metadata": {
      "needs_background": "light"
     },
     "output_type": "display_data"
    }
   ],
   "source": [
    "plt.hist(a21sep[MaNGA_in_a2151].to_value('degree'))\n",
    "plt.xlabel('MaNGA-Abell 2151 Angular Separation [deg]')\n",
    "plt.ylabel('Count')"
   ]
  },
  {
   "cell_type": "code",
   "execution_count": 93,
   "id": "c3e10004-be1c-4613-8b88-a749e0f3208f",
   "metadata": {},
   "outputs": [
    {
     "data": {
      "image/png": "[encoded data removed]",
      "text/plain": [
       "<Figure size 864x360 with 2 Axes>"
      ]
     },
     "metadata": {
      "needs_background": "light"
     },
     "output_type": "display_data"
    }
   ],
   "source": [
    "fig, axes = plt.subplots(1,2, figsize=(12,5), tight_layout=True)\n",
    "ax = axes[0]\n",
    "ax.plot(inAbell2151_MaNGA_table['objdec'], inAbell2151_MaNGA_table['objra'], '.')\n",
    "ax = axes[1]\n",
    "ax.hist(inAbell2151_MaNGA_table['z']);"
   ]
  },
  {
   "cell_type": "markdown",
   "id": "cb638210-e5b5-4284-ab7d-d268211fabd9",
   "metadata": {
    "jp-MarkdownHeadingCollapsed": true,
    "tags": []
   },
   "source": [
    "## NGC 4065"
   ]
  },
  {
   "cell_type": "code",
   "execution_count": 108,
   "id": "645ca557-c513-4f8c-bb9e-1459fab9167a",
   "metadata": {},
   "outputs": [],
   "source": [
    "ngc4065_nest = 100018\n",
    "\n",
    "ngc4065_row_t3 = table3['Nest'] == ngc4065_nest\n",
    "\n",
    "R2t_ngc4065 = table3['R2t'][ngc4065_row_t3][0]\n",
    "sigma_ngc4065 = table3['sigP'][ngc4065_row_t3][0]"
   ]
  },
  {
   "cell_type": "code",
   "execution_count": 109,
   "id": "39befc30-618b-4411-bbf2-ac43c181e525",
   "metadata": {},
   "outputs": [],
   "source": [
    "ngc4065_coords = SkyCoord(table3['SGLON'][ngc4065_row_t3]*u.degree, \n",
    "                       table3['SGLAT'][ngc4065_row_t3]*u.degree, \n",
    "                       frame='supergalactic')\n",
    "\n",
    "ngc4065_group_coords = SkyCoord(table2['SGLON']*u.degree, \n",
    "                        table2['SGLAT']*u.degree, \n",
    "                        frame='supergalactic')\n",
    "\n",
    "idx, d2d, d3d = ngc4065_coords.match_to_catalog_sky(ngc4065_group_coords)\n",
    "\n",
    "V_ngc4065 = table2['__HV_'][idx][0]"
   ]
  },
  {
   "cell_type": "code",
   "execution_count": 110,
   "id": "f0f452bf-ac88-420a-89c4-172e61fa82d0",
   "metadata": {},
   "outputs": [],
   "source": [
    "# First, we need to convert R2t from Mpc to an angle, using the group's heliocentric velocity\n",
    "R2t_ngc4065_angle = (R2t_ngc4065/(V_ngc4065/H0))*u.radian"
   ]
  },
  {
   "cell_type": "code",
   "execution_count": 111,
   "id": "0f9046a8-4dc2-40ed-b94a-5ccb79bb28fc",
   "metadata": {},
   "outputs": [],
   "source": [
    "ngc4065_tf_coords = SkyCoord(drpall['objra'], drpall['objdec'], unit='deg')\n",
    "\n",
    "ngc40sep = ngc4065_coords.separation(ngc4065_tf_coords)"
   ]
  },
  {
   "cell_type": "code",
   "execution_count": 113,
   "id": "1c104400-c1d4-487e-88e2-575dad47dc67",
   "metadata": {},
   "outputs": [
    {
     "data": {
      "text/plain": [
       "Text(0, 0.5, 'Count')"
      ]
     },
     "execution_count": 113,
     "metadata": {},
     "output_type": "execute_result"
    },
    {
     "data": {
      "image/png": "[encoded data removed]",
      "text/plain": [
       "<Figure size 432x288 with 1 Axes>"
      ]
     },
     "metadata": {
      "needs_background": "light"
     },
     "output_type": "display_data"
    }
   ],
   "source": [
    "plt.hist(ngc40sep.to_value('degree'))\n",
    "plt.xlabel('MaNGA-NGC 4065 Angular Separation [deg]')\n",
    "plt.ylabel('Count')"
   ]
  },
  {
   "cell_type": "code",
   "execution_count": 115,
   "id": "a5515fd1-1451-46cc-8d2b-9b00189650de",
   "metadata": {},
   "outputs": [
    {
     "data": {
      "text/html": [
       "<div><i>Table length=2</i>\n",
       "<table id=\"table23453699336032\" class=\"table-striped table-bordered table-condensed\">\n",
       "<thead><tr><th>plate</th><th>ifudsgn</th><th>plateifu</th><th>mangaid</th><th>versdrp2</th><th>versdrp3</th><th>verscore</th><th>versutil</th><th>versprim</th><th>platetyp</th><th>srvymode</th><th>objra</th><th>objdec</th><th>ifuglon</th><th>ifuglat</th><th>ifura</th><th>ifudec</th><th>ebvgal</th><th>nexp</th><th>exptime</th><th>drp3qual</th><th>bluesn2</th><th>redsn2</th><th>harname</th><th>frlplug</th><th>cartid</th><th>designid</th><th>cenra</th><th>cendec</th><th>airmsmin</th><th>airmsmed</th><th>airmsmax</th><th>seemin</th><th>seemed</th><th>seemax</th><th>transmin</th><th>transmed</th><th>transmax</th><th>mjdmin</th><th>mjdmed</th><th>mjdmax</th><th>gfwhm</th><th>rfwhm</th><th>ifwhm</th><th>zfwhm</th><th>mngtarg1</th><th>mngtarg2</th><th>mngtarg3</th><th>catidnum</th><th>plttarg</th><th>manga_tileid</th><th>nsa_iauname</th><th>ifudesignsize</th><th>ifutargetsize</th><th>ifudesignwrongsize</th><th>z</th><th>zmin</th><th>zmax</th><th>szmin</th><th>szmax</th><th>ezmin</th><th>ezmax</th><th>probs</th><th>pweight</th><th>psweight</th><th>psrweight</th><th>sweight</th><th>srweight</th><th>eweight</th><th>esweight</th><th>esrweight</th><th>nsa_field</th><th>nsa_run</th><th>nsa_camcol</th><th>nsa_version</th><th>nsa_nsaid</th><th>nsa_nsaid_v1b</th><th>nsa_z</th><th>nsa_zdist</th><th>nsa_sersic_absmag [7]</th><th>nsa_elpetro_absmag [7]</th><th>nsa_elpetro_amivar [7]</th><th>nsa_sersic_mass</th><th>nsa_elpetro_mass</th><th>nsa_elpetro_ba</th><th>nsa_elpetro_phi</th><th>nsa_extinction [7]</th><th>nsa_elpetro_th50_r</th><th>nsa_petro_th50</th><th>nsa_petro_flux [7]</th><th>nsa_petro_flux_ivar [7]</th><th>nsa_elpetro_flux [7]</th><th>nsa_elpetro_flux_ivar [7]</th><th>nsa_sersic_ba</th><th>nsa_sersic_n</th><th>nsa_sersic_phi</th><th>nsa_sersic_th50</th><th>nsa_sersic_flux [7]</th><th>nsa_sersic_flux_ivar [7]</th></tr></thead>\n",
       "<thead><tr><th>int64</th><th>bytes32</th><th>bytes32</th><th>bytes32</th><th>bytes32</th><th>bytes32</th><th>bytes32</th><th>bytes32</th><th>bytes32</th><th>bytes32</th><th>bytes32</th><th>float64</th><th>float64</th><th>float64</th><th>float64</th><th>float64</th><th>float64</th><th>float64</th><th>int64</th><th>float64</th><th>int64</th><th>float64</th><th>float64</th><th>bytes53</th><th>int64</th><th>bytes32</th><th>int64</th><th>float64</th><th>float64</th><th>float64</th><th>float64</th><th>float64</th><th>float64</th><th>float64</th><th>float64</th><th>float64</th><th>float64</th><th>float64</th><th>int64</th><th>int64</th><th>int64</th><th>float64</th><th>float64</th><th>float64</th><th>float64</th><th>int64</th><th>int64</th><th>int64</th><th>int64</th><th>bytes32</th><th>int64</th><th>bytes19</th><th>int64</th><th>int64</th><th>int64</th><th>float64</th><th>float64</th><th>float64</th><th>float64</th><th>float64</th><th>float64</th><th>float64</th><th>float64</th><th>float64</th><th>float64</th><th>float64</th><th>float64</th><th>float64</th><th>float64</th><th>float64</th><th>float64</th><th>int64</th><th>int64</th><th>int64</th><th>bytes6</th><th>int64</th><th>int64</th><th>float64</th><th>float64</th><th>float64</th><th>float64</th><th>float64</th><th>float64</th><th>float64</th><th>float64</th><th>float64</th><th>float64</th><th>float64</th><th>float64</th><th>float64</th><th>float64</th><th>float64</th><th>float64</th><th>float64</th><th>float64</th><th>float64</th><th>float64</th><th>float64</th><th>float64</th></tr></thead>\n",
       "<tr><td>8310</td><td>12702</td><td>8310-12702</td><td>1-494684</td><td>v3_1_1</td><td>v3_1_1</td><td>v1_9_1</td><td>v5_5_36</td><td>v2_9</td><td>APOGEE-2&amp;MaNGA</td><td>MaNGA dither</td><td>178.474223049</td><td>22.0356704467</td><td>231.08670667</td><td>75.9742739547</td><td>178.47422</td><td>22.03567</td><td>0.0315981</td><td>12</td><td>10800.8</td><td>0</td><td>22.3921</td><td>52.9649</td><td>ma134</td><td>25</td><td>6</td><td>8823</td><td>179.27495</td><td>22.686079</td><td>1.01827</td><td>1.0317</td><td>1.08563</td><td>1.13453</td><td>1.35004</td><td>1.49692</td><td>0.610029</td><td>0.844181</td><td>0.900027</td><td>58581</td><td>58582</td><td>58582</td><td>2.36733</td><td>2.37893</td><td>2.38392</td><td>2.38578</td><td>1168</td><td>0</td><td>0</td><td>1</td><td>plateTargets-1.par</td><td>6137</td><td>J115353.79+220208.3</td><td>127</td><td>91</td><td>127</td><td>0.0255917</td><td>0.0191029</td><td>0.0262964</td><td>0.0383271</td><td>0.0425522</td><td>0.0158404</td><td>0.0313921</td><td>0.67973</td><td>1.72735</td><td>0.69915</td><td>0.755623</td><td>-999.0</td><td>-999.0</td><td>0.720715</td><td>0.446649</td><td>0.469043</td><td>423</td><td>5194</td><td>3</td><td>v1_0_1</td><td>523092</td><td>-999</td><td>0.0255917</td><td>0.0253246</td><td>-14.0272 .. -19.7547</td><td>-13.8064 .. -19.4988</td><td>0.210208 .. 864.938</td><td>5907900000.0</td><td>5150100000.0</td><td>0.513016</td><td>29.5659</td><td>0.260249 .. 0.0464305</td><td>7.82651</td><td>6.39049</td><td>5.34615 .. 965.55</td><td>0.00966711 .. 0.00301093</td><td>4.43093 .. 1039.83</td><td>0.0126257 .. 0.00425627</td><td>0.364637</td><td>2.04622</td><td>31.404</td><td>10.1472</td><td>5.26348 .. 1301.92</td><td>0.044326 .. 0.0151345</td></tr>\n",
       "<tr><td>8310</td><td>12705</td><td>8310-12705</td><td>1-495360</td><td>v3_1_1</td><td>v3_1_1</td><td>v1_9_1</td><td>v5_5_36</td><td>v2_9</td><td>APOGEE-2&amp;MaNGA</td><td>MaNGA dither</td><td>179.561883968</td><td>21.8997431582</td><td>233.43078982</td><td>76.8301614093</td><td>179.56188</td><td>21.899743</td><td>0.0298429</td><td>12</td><td>10800.8</td><td>0</td><td>26.2984</td><td>50.27</td><td>ma175</td><td>36</td><td>6</td><td>8823</td><td>179.27495</td><td>22.686079</td><td>1.01847</td><td>1.02945</td><td>1.07963</td><td>1.13453</td><td>1.35004</td><td>1.49692</td><td>0.610029</td><td>0.844181</td><td>0.900027</td><td>58581</td><td>58582</td><td>58582</td><td>2.45466</td><td>2.37887</td><td>2.35707</td><td>2.33681</td><td>1168</td><td>0</td><td>64</td><td>1</td><td>plateTargets-1.par</td><td>6137</td><td>J115814.84+215359.2</td><td>127</td><td>61</td><td>0</td><td>0.0206257</td><td>0.0137258</td><td>0.0231398</td><td>0.0311729</td><td>0.0297754</td><td>0.0137258</td><td>0.0265428</td><td>0.67973</td><td>1.96833</td><td>1.96833</td><td>1.96833</td><td>-999.0</td><td>-999.0</td><td>1.20152</td><td>1.20152</td><td>1.20152</td><td>315</td><td>5183</td><td>2</td><td>v1_0_1</td><td>523788</td><td>-999</td><td>0.0206257</td><td>0.0205375</td><td>-13.4451 .. -18.3523</td><td>-13.8705 .. -18.2641</td><td>1.2237 .. 644.695</td><td>1272590000.0</td><td>1023290000.0</td><td>0.407376</td><td>27.8682</td><td>0.241588 .. 0.0431011</td><td>5.98558</td><td>4.54868</td><td>4.5681 .. 511.523</td><td>0.024586 .. 0.00512595</td><td>6.95892 .. 506.79</td><td>0.0298463 .. 0.00704906</td><td>0.215343</td><td>1.3265</td><td>27.5347</td><td>7.23272</td><td>4.84516 .. 548.246</td><td>0.108144 .. 0.0378355</td></tr>\n",
       "</table></div>"
      ],
      "text/plain": [
       "<Table length=2>\n",
       "plate ifudsgn  plateifu  ... nsa_sersic_flux [7] nsa_sersic_flux_ivar [7]\n",
       "int64 bytes32  bytes32   ...       float64               float64         \n",
       "----- ------- ---------- ... ------------------- ------------------------\n",
       " 8310   12702 8310-12702 ...  5.26348 .. 1301.92    0.044326 .. 0.0151345\n",
       " 8310   12705 8310-12705 ...  4.84516 .. 548.246    0.108144 .. 0.0378355"
      ]
     },
     "execution_count": 115,
     "metadata": {},
     "output_type": "execute_result"
    }
   ],
   "source": [
    "MaNGA_in_ngc40651 = (ngc40sep < 1.5*R2t_ngc4065_angle) & (drpall['z']*c > V_ngc4065 - 3*sigma_ngc4065) & (drpall['z']*c < V_ngc4065 + 3*sigma_ngc4065)\n",
    "\n",
    "MaNGA_in_ngc40652 = (ngc40sep >= 1.5*R2t_ngc4065_angle) & (ngc40sep < 3*R2t_ngc4065_angle) & (drpall['z']*c > V_ngc4065 - 2*sigma_ngc4065) & (drpall['z']*c < V_ngc4065 + 2*sigma_ngc4065)\n",
    "\n",
    "MaNGA_in_ngc4065 = MaNGA_in_ngc40651 | MaNGA_in_ngc40652\n",
    "\n",
    "################################################################################\n",
    "# Keep all instances of each SGA_ID that are within the Coma cluster\n",
    "#-------------------------------------------------------------------------------\n",
    "MaNGA_ID_in_ngc4065 = np.unique(drpall['mangaid'][MaNGA_in_ngc4065])\n",
    "\n",
    "idx_MaNGA_in_ngc4065 = np.in1d(drpall['mangaid'], MaNGA_ID_in_ngc4065)\n",
    "\n",
    "inNGC4065_MaNGA_table = drpall[idx_MaNGA_in_ngc4065]\n",
    "################################################################################\n",
    "\n",
    "inNGC4065_MaNGA_table"
   ]
  },
  {
   "cell_type": "code",
   "execution_count": 116,
   "id": "7854360f-6024-4101-b1f4-b0e47b841bc5",
   "metadata": {},
   "outputs": [
    {
     "data": {
      "text/plain": [
       "Text(0, 0.5, 'Count')"
      ]
     },
     "execution_count": 116,
     "metadata": {},
     "output_type": "execute_result"
    },
    {
     "data": {
      "image/png": "[encoded data removed]",
      "text/plain": [
       "<Figure size 432x288 with 1 Axes>"
      ]
     },
     "metadata": {
      "needs_background": "light"
     },
     "output_type": "display_data"
    }
   ],
   "source": [
    "plt.hist(ngc40sep[MaNGA_in_ngc4065].to_value('degree'))\n",
    "plt.xlabel('MaNGA-NGC 4065 Angular Separation [deg]')\n",
    "plt.ylabel('Count')"
   ]
  },
  {
   "cell_type": "code",
   "execution_count": 117,
   "id": "a62083a9-6613-4019-ba9d-8859e9324a7d",
   "metadata": {},
   "outputs": [
    {
     "data": {
      "image/png": "[encoded data removed]",
      "text/plain": [
       "<Figure size 864x360 with 2 Axes>"
      ]
     },
     "metadata": {
      "needs_background": "light"
     },
     "output_type": "display_data"
    }
   ],
   "source": [
    "fig, axes = plt.subplots(1,2, figsize=(12,5), tight_layout=True)\n",
    "ax = axes[0]\n",
    "ax.plot(inNGC4065_MaNGA_table['objdec'], inNGC4065_MaNGA_table['objra'], '.')\n",
    "ax = axes[1]\n",
    "ax.hist(inNGC4065_MaNGA_table['z']);"
   ]
  },
  {
   "cell_type": "markdown",
   "id": "b24f5f81-b630-46fb-84df-a38235c47239",
   "metadata": {
    "jp-MarkdownHeadingCollapsed": true,
    "tags": []
   },
   "source": [
    "## Cancer"
   ]
  },
  {
   "cell_type": "code",
   "execution_count": 78,
   "id": "4445a39a-650a-40fe-a05a-3128cfca6654",
   "metadata": {},
   "outputs": [],
   "source": [
    "cancer_nest = 100030\n",
    "\n",
    "cancer_row_t3 = table3['Nest'] == cancer_nest\n",
    "\n",
    "R2t_cancer = table3['R2t'][cancer_row_t3][0]\n",
    "sigma_cancer = table3['sigP'][cancer_row_t3][0]"
   ]
  },
  {
   "cell_type": "code",
   "execution_count": 79,
   "id": "8324df04-513e-40aa-84d0-793abd6b9814",
   "metadata": {},
   "outputs": [],
   "source": [
    "cancer_coords = SkyCoord(table3['SGLON'][cancer_row_t3]*u.degree, \n",
    "                       table3['SGLAT'][cancer_row_t3]*u.degree, \n",
    "                       frame='supergalactic')\n",
    "\n",
    "cancer_group_coords = SkyCoord(table2['SGLON']*u.degree, \n",
    "                        table2['SGLAT']*u.degree, \n",
    "                        frame='supergalactic')\n",
    "\n",
    "idx, d2d, d3d = cancer_coords.match_to_catalog_sky(cancer_group_coords)\n",
    "\n",
    "V_cancer = table2['__HV_'][idx][0]"
   ]
  },
  {
   "cell_type": "code",
   "execution_count": 80,
   "id": "1e42c0b1-774a-4113-a3b1-bb877f91d00e",
   "metadata": {},
   "outputs": [],
   "source": [
    "# First, we need to convert R2t from Mpc to an angle, using the group's heliocentric velocity\n",
    "R2t_cancer_angle = (R2t_cancer/(V_cancer/H0))*u.radian"
   ]
  },
  {
   "cell_type": "code",
   "execution_count": 81,
   "id": "b31aab9d-cfe0-4e23-88d8-dba6412b054b",
   "metadata": {},
   "outputs": [],
   "source": [
    "cancer_tf_coords = SkyCoord(drpall['objra'], drpall['objdec'], unit='deg')\n",
    "\n",
    "cancersep = cancer_coords.separation(cancer_tf_coords)"
   ]
  },
  {
   "cell_type": "code",
   "execution_count": 88,
   "id": "714054ed-574c-4ed7-9689-b734dac957ec",
   "metadata": {},
   "outputs": [
    {
     "data": {
      "text/plain": [
       "Text(0, 0.5, 'Count')"
      ]
     },
     "execution_count": 88,
     "metadata": {},
     "output_type": "execute_result"
    },
    {
     "data": {
      "image/png": "[encoded data removed]",
      "text/plain": [
       "<Figure size 432x288 with 1 Axes>"
      ]
     },
     "metadata": {
      "needs_background": "light"
     },
     "output_type": "display_data"
    }
   ],
   "source": [
    "plt.hist(cancersep.to_value('degree'))\n",
    "plt.xlabel('MaNGA-Cancer Angular Separation [deg]')\n",
    "plt.ylabel('Count')"
   ]
  },
  {
   "cell_type": "code",
   "execution_count": 83,
   "id": "69e782ee-c6a0-43cb-9578-c472dd513f78",
   "metadata": {},
   "outputs": [
    {
     "data": {
      "text/html": [
       "<div><i>Table length=43</i>\n",
       "<table id=\"table23453704422256\" class=\"table-striped table-bordered table-condensed\">\n",
       "<thead><tr><th>plate</th><th>ifudsgn</th><th>plateifu</th><th>mangaid</th><th>versdrp2</th><th>versdrp3</th><th>verscore</th><th>versutil</th><th>versprim</th><th>platetyp</th><th>srvymode</th><th>objra</th><th>objdec</th><th>ifuglon</th><th>ifuglat</th><th>ifura</th><th>ifudec</th><th>ebvgal</th><th>nexp</th><th>exptime</th><th>drp3qual</th><th>bluesn2</th><th>redsn2</th><th>harname</th><th>frlplug</th><th>cartid</th><th>designid</th><th>cenra</th><th>cendec</th><th>airmsmin</th><th>airmsmed</th><th>airmsmax</th><th>seemin</th><th>seemed</th><th>seemax</th><th>transmin</th><th>transmed</th><th>transmax</th><th>mjdmin</th><th>mjdmed</th><th>mjdmax</th><th>gfwhm</th><th>rfwhm</th><th>ifwhm</th><th>zfwhm</th><th>mngtarg1</th><th>mngtarg2</th><th>mngtarg3</th><th>catidnum</th><th>plttarg</th><th>manga_tileid</th><th>nsa_iauname</th><th>ifudesignsize</th><th>ifutargetsize</th><th>ifudesignwrongsize</th><th>z</th><th>zmin</th><th>zmax</th><th>szmin</th><th>szmax</th><th>ezmin</th><th>ezmax</th><th>probs</th><th>pweight</th><th>psweight</th><th>psrweight</th><th>sweight</th><th>srweight</th><th>eweight</th><th>esweight</th><th>esrweight</th><th>nsa_field</th><th>nsa_run</th><th>nsa_camcol</th><th>nsa_version</th><th>nsa_nsaid</th><th>nsa_nsaid_v1b</th><th>nsa_z</th><th>nsa_zdist</th><th>nsa_sersic_absmag [7]</th><th>nsa_elpetro_absmag [7]</th><th>nsa_elpetro_amivar [7]</th><th>nsa_sersic_mass</th><th>nsa_elpetro_mass</th><th>nsa_elpetro_ba</th><th>nsa_elpetro_phi</th><th>nsa_extinction [7]</th><th>nsa_elpetro_th50_r</th><th>nsa_petro_th50</th><th>nsa_petro_flux [7]</th><th>nsa_petro_flux_ivar [7]</th><th>nsa_elpetro_flux [7]</th><th>nsa_elpetro_flux_ivar [7]</th><th>nsa_sersic_ba</th><th>nsa_sersic_n</th><th>nsa_sersic_phi</th><th>nsa_sersic_th50</th><th>nsa_sersic_flux [7]</th><th>nsa_sersic_flux_ivar [7]</th></tr></thead>\n",
       "<thead><tr><th>int64</th><th>bytes32</th><th>bytes32</th><th>bytes32</th><th>bytes32</th><th>bytes32</th><th>bytes32</th><th>bytes32</th><th>bytes32</th><th>bytes32</th><th>bytes32</th><th>float64</th><th>float64</th><th>float64</th><th>float64</th><th>float64</th><th>float64</th><th>float64</th><th>int64</th><th>float64</th><th>int64</th><th>float64</th><th>float64</th><th>bytes53</th><th>int64</th><th>bytes32</th><th>int64</th><th>float64</th><th>float64</th><th>float64</th><th>float64</th><th>float64</th><th>float64</th><th>float64</th><th>float64</th><th>float64</th><th>float64</th><th>float64</th><th>int64</th><th>int64</th><th>int64</th><th>float64</th><th>float64</th><th>float64</th><th>float64</th><th>int64</th><th>int64</th><th>int64</th><th>int64</th><th>bytes32</th><th>int64</th><th>bytes19</th><th>int64</th><th>int64</th><th>int64</th><th>float64</th><th>float64</th><th>float64</th><th>float64</th><th>float64</th><th>float64</th><th>float64</th><th>float64</th><th>float64</th><th>float64</th><th>float64</th><th>float64</th><th>float64</th><th>float64</th><th>float64</th><th>float64</th><th>int64</th><th>int64</th><th>int64</th><th>bytes6</th><th>int64</th><th>int64</th><th>float64</th><th>float64</th><th>float64</th><th>float64</th><th>float64</th><th>float64</th><th>float64</th><th>float64</th><th>float64</th><th>float64</th><th>float64</th><th>float64</th><th>float64</th><th>float64</th><th>float64</th><th>float64</th><th>float64</th><th>float64</th><th>float64</th><th>float64</th><th>float64</th><th>float64</th></tr></thead>\n",
       "<tr><td>10219</td><td>12701</td><td>10219-12701</td><td>1-384262</td><td>v3_1_1</td><td>v3_1_1</td><td>v1_9_1</td><td>v5_5_36</td><td>v2_9</td><td>APOGEE-2&amp;MaNGA</td><td>MaNGA dither</td><td>124.804460255</td><td>20.757476218</td><td>202.730852366</td><td>28.2045405067</td><td>124.80446</td><td>20.757476</td><td>0.0485511</td><td>9</td><td>8100.75</td><td>0</td><td>20.0905</td><td>41.3611</td><td>ma087</td><td>22</td><td>4</td><td>10676</td><td>125.1591</td><td>22.126518</td><td>1.02295</td><td>1.03572</td><td>1.08994</td><td>1.22475</td><td>1.36205</td><td>1.53061</td><td>0.939331</td><td>0.950341</td><td>0.956134</td><td>58107</td><td>58107</td><td>58107</td><td>2.52212</td><td>2.54318</td><td>2.55236</td><td>2.56663</td><td>4096</td><td>0</td><td>0</td><td>1</td><td>plateTargets-1.par</td><td>6647</td><td>J081913.06+204526.9</td><td>127</td><td>271</td><td>0</td><td>0.016806</td><td>0.0191604</td><td>0.0263371</td><td>0.0384104</td><td>0.0426346</td><td>0.0172462</td><td>0.0279859</td><td>0.67973</td><td>-999.0</td><td>-999.0</td><td>-999.0</td><td>-999.0</td><td>-999.0</td><td>1.15538</td><td>0.581344</td><td>0.620021</td><td>107</td><td>6728</td><td>4</td><td>v1_0_1</td><td>406620</td><td>-999</td><td>0.016806</td><td>0.0178075</td><td>-16.0373 .. -19.5024</td><td>-16.0286 .. -19.4064</td><td>9.81914 .. 948.582</td><td>4020110000.0</td><td>3801410000.0</td><td>0.673074</td><td>137.174</td><td>0.405918 .. 0.0724189</td><td>12.9645</td><td>11.0063</td><td>60.9813 .. 1797.59</td><td>0.00292266 .. 0.0018556</td><td>60.6471 .. 1921.47</td><td>0.00319726 .. 0.00207055</td><td>0.624158</td><td>1.62565</td><td>137.241</td><td>14.9023</td><td>61.4088 .. 2097.57</td><td>0.0105603 .. 0.00814692</td></tr>\n",
       "<tr><td>10219</td><td>12705</td><td>10219-12705</td><td>1-605208</td><td>v3_1_1</td><td>v3_1_1</td><td>v1_9_1</td><td>v5_5_36</td><td>v2_9</td><td>APOGEE-2&amp;MaNGA</td><td>MaNGA dither</td><td>125.967743522</td><td>21.4186635506</td><td>202.450752176</td><td>29.4515242385</td><td>125.96774</td><td>21.418664</td><td>0.048269</td><td>9</td><td>8100.75</td><td>0</td><td>19.53</td><td>43.0777</td><td>ma176</td><td>36</td><td>4</td><td>10676</td><td>125.1591</td><td>22.126518</td><td>1.02008</td><td>1.03032</td><td>1.0943</td><td>1.22475</td><td>1.36205</td><td>1.53061</td><td>0.939331</td><td>0.950341</td><td>0.956134</td><td>58107</td><td>58107</td><td>58107</td><td>2.38953</td><td>2.3371</td><td>2.31221</td><td>2.29223</td><td>1552</td><td>0</td><td>0</td><td>1</td><td>plateTargets-1.par</td><td>6647</td><td>J082352.09+212501.0</td><td>127</td><td>169</td><td>0</td><td>0.0169954</td><td>0.0155674</td><td>0.024127</td><td>0.0335348</td><td>0.0362204</td><td>0.0150544</td><td>0.0288411</td><td>0.67973</td><td>1.88092</td><td>1.06814</td><td>1.12941</td><td>-999.0</td><td>-999.0</td><td>0.942542</td><td>0.682353</td><td>0.706853</td><td>209</td><td>6597</td><td>5</td><td>v1_0_1</td><td>647445</td><td>-999</td><td>0.0169954</td><td>0.0179335</td><td>-14.313 .. -18.7407</td><td>-14.9596 .. -18.5598</td><td>10.999 .. 782.111</td><td>2087590000.0</td><td>1699700000.0</td><td>0.380127</td><td>134.57</td><td>0.400899 .. 0.0715235</td><td>10.5663</td><td>10.5741</td><td>8.48385 .. 786.021</td><td>0.0112217 .. 0.0013472</td><td>21.7814 .. 868.092</td><td>0.0278192 .. 0.00413187</td><td>0.256699</td><td>1.61229</td><td>134.633</td><td>14.6294</td><td>11.9613 .. 1024.83</td><td>0.0862699 .. 0.0183595</td></tr>\n",
       "<tr><td>10219</td><td>1901</td><td>10219-1901</td><td>1-384189</td><td>v3_1_1</td><td>v3_1_1</td><td>v1_9_1</td><td>v5_5_36</td><td>v2_9</td><td>APOGEE-2&amp;MaNGA</td><td>MaNGA dither</td><td>125.14376637</td><td>21.1054663161</td><td>202.485390112</td><td>28.6227800695</td><td>125.14377</td><td>21.105466</td><td>0.0425669</td><td>9</td><td>8100.75</td><td>0</td><td>20.0905</td><td>41.3611</td><td>ma080</td><td>29</td><td>4</td><td>10676</td><td>125.1591</td><td>22.126518</td><td>1.02148</td><td>1.03349</td><td>1.09043</td><td>1.22475</td><td>1.36205</td><td>1.53061</td><td>0.939331</td><td>0.950341</td><td>0.956134</td><td>58107</td><td>58107</td><td>58107</td><td>2.54118</td><td>2.48445</td><td>2.45348</td><td>2.42535</td><td>1168</td><td>0</td><td>0</td><td>1</td><td>plateTargets-1.par</td><td>6647</td><td>J082034.49+210619.7</td><td>19</td><td>19</td><td>0</td><td>0.0168638</td><td>0.0133838</td><td>0.0229617</td><td>0.0307388</td><td>0.0287116</td><td>0.0131507</td><td>0.0283998</td><td>0.67973</td><td>1.98726</td><td>1.98726</td><td>1.98726</td><td>-999.0</td><td>-999.0</td><td>0.939419</td><td>0.939419</td><td>0.939419</td><td>84</td><td>4508</td><td>4</td><td>v1_0_1</td><td>406544</td><td>-999</td><td>0.0168638</td><td>0.0178431</td><td>-10.206 .. -18.3072</td><td>-11.8527 .. -18.0497</td><td>0.0241053 .. 835.281</td><td>1653000000.0</td><td>1265650000.0</td><td>0.676958</td><td>113.06</td><td>0.347056 .. 0.0619175</td><td>3.68674</td><td>3.68301</td><td>1.66865 .. 724.5</td><td>0.0128566 .. 0.00900371</td><td>1.32819 .. 551.315</td><td>0.0161085 .. 0.0130496</td><td>0.526895</td><td>3.25399</td><td>112.261</td><td>5.44285</td><td>0.292207 .. 698.455</td><td>0.0396976 .. 0.0474586</td></tr>\n",
       "<tr><td>10219</td><td>1902</td><td>10219-1902</td><td>1-384222</td><td>v3_1_1</td><td>v3_1_1</td><td>v1_9_1</td><td>v5_5_36</td><td>v2_9</td><td>APOGEE-2&amp;MaNGA</td><td>MaNGA dither</td><td>125.062375384</td><td>21.0600550691</td><td>202.503934298</td><td>28.5358080566</td><td>125.06238</td><td>21.060055</td><td>0.0492766</td><td>9</td><td>8100.75</td><td>0</td><td>19.53</td><td>43.0777</td><td>ma083</td><td>35</td><td>4</td><td>10676</td><td>125.1591</td><td>22.126518</td><td>1.02169</td><td>1.03387</td><td>1.09013</td><td>1.22475</td><td>1.36205</td><td>1.53061</td><td>0.939331</td><td>0.950341</td><td>0.956134</td><td>58107</td><td>58107</td><td>58107</td><td>2.46154</td><td>2.44338</td><td>2.43847</td><td>2.41724</td><td>1168</td><td>0</td><td>0</td><td>1</td><td>plateTargets-1.par</td><td>6647</td><td>J082014.96+210336.2</td><td>19</td><td>19</td><td>0</td><td>0.0166207</td><td>0.01</td><td>0.0200367</td><td>0.0264342</td><td>0.0200367</td><td>0.01</td><td>0.0200367</td><td>0.67973</td><td>2.73155</td><td>2.73155</td><td>2.73155</td><td>-999.0</td><td>-999.0</td><td>2.73471</td><td>2.73471</td><td>2.73471</td><td>83</td><td>4508</td><td>4</td><td>v1_0_1</td><td>406577</td><td>-999</td><td>0.0166207</td><td>0.0176636</td><td>-11.8336 .. -17.7898</td><td>-13.2358 .. -17.0541</td><td>0.28101 .. 233.81</td><td>980039000.0</td><td>609037000.0</td><td>0.968005</td><td>12.1757</td><td>0.412017 .. 0.073507</td><td>3.03844</td><td>3.58753</td><td>1.55606 .. 273.601</td><td>0.0135955 .. 0.00568968</td><td>4.77639 .. 222.164</td><td>0.0145267 .. 0.00707248</td><td>0.957553</td><td>3.50908</td><td>16.7108</td><td>5.8816</td><td>-0.701885 .. 435.292</td><td>0.0224869 .. 0.0137494</td></tr>\n",
       "<tr><td>10219</td><td>3701</td><td>10219-3701</td><td>1-384167</td><td>v3_1_1</td><td>v3_1_1</td><td>v1_9_1</td><td>v5_5_36</td><td>v2_9</td><td>APOGEE-2&amp;MaNGA</td><td>MaNGA dither</td><td>125.631121621</td><td>20.967889239</td><td>202.812343566</td><td>29.0019416568</td><td>125.63112</td><td>20.967889</td><td>0.0376547</td><td>9</td><td>8100.75</td><td>0</td><td>20.0905</td><td>41.3611</td><td>ma082</td><td>23</td><td>4</td><td>10676</td><td>125.1591</td><td>22.126518</td><td>1.02182</td><td>1.03282</td><td>1.09422</td><td>1.22475</td><td>1.36205</td><td>1.53061</td><td>0.939331</td><td>0.950341</td><td>0.956134</td><td>58107</td><td>58107</td><td>58107</td><td>2.47541</td><td>2.51796</td><td>2.5223</td><td>2.52428</td><td>1040</td><td>0</td><td>0</td><td>1</td><td>plateTargets-1.par</td><td>6647</td><td>J082231.46+205804.4</td><td>37</td><td>37</td><td>0</td><td>0.0155788</td><td>0.0148791</td><td>0.0237515</td><td>0.0326463</td><td>0.0336648</td><td>0.0124957</td><td>0.0271606</td><td>0.67973</td><td>1.91116</td><td>1.51042</td><td>1.55126</td><td>-999.0</td><td>-999.0</td><td>1.07066</td><td>0.932119</td><td>0.947513</td><td>86</td><td>4508</td><td>3</td><td>v1_0_1</td><td>406520</td><td>-999</td><td>0.0155788</td><td>0.016763</td><td>-11.9281 .. -18.6369</td><td>-12.4292 .. -18.4271</td><td>0.0 .. 929.299</td><td>1980340000.0</td><td>1701150000.0</td><td>0.549474</td><td>66.7309</td><td>0.309687 .. 0.0552505</td><td>4.58261</td><td>3.71045</td><td>0.0 .. 901.291</td><td>0.0 .. 0.00664722</td><td>0.0 .. 888.027</td><td>0.0 .. 0.0084896</td><td>0.421026</td><td>3.32866</td><td>66.3491</td><td>6.38444</td><td>0.0 .. 1075.91</td><td>0.457817 .. 0.0214079</td></tr>\n",
       "<tr><td>10219</td><td>3702</td><td>10219-3702</td><td>1-384250</td><td>v3_1_1</td><td>v3_1_1</td><td>v1_9_1</td><td>v5_5_36</td><td>v2_9</td><td>APOGEE-2&amp;MaNGA</td><td>MaNGA dither</td><td>124.908695519</td><td>21.2853610145</td><td>202.206946272</td><td>28.4793362847</td><td>124.9087</td><td>21.285361</td><td>0.0442639</td><td>9</td><td>8100.75</td><td>0</td><td>20.0905</td><td>41.3611</td><td>ma081</td><td>27</td><td>4</td><td>10676</td><td>125.1591</td><td>22.126518</td><td>1.02093</td><td>1.0334</td><td>1.08811</td><td>1.22475</td><td>1.36205</td><td>1.53061</td><td>0.939331</td><td>0.950341</td><td>0.956134</td><td>58107</td><td>58107</td><td>58107</td><td>2.61617</td><td>2.60767</td><td>2.56824</td><td>2.53161</td><td>4160</td><td>0</td><td>0</td><td>1</td><td>plateTargets-1.par</td><td>6647</td><td>J081938.08+211707.3</td><td>37</td><td>37</td><td>0</td><td>0.0151598</td><td>0.0165621</td><td>0.0246889</td><td>0.0348365</td><td>0.0391366</td><td>0.0155231</td><td>0.0262524</td><td>0.67973</td><td>-999.0</td><td>-999.0</td><td>-999.0</td><td>-999.0</td><td>-999.0</td><td>1.34942</td><td>0.680986</td><td>0.726148</td><td>109</td><td>6728</td><td>5</td><td>v1_0_1</td><td>406606</td><td>-999</td><td>0.0151598</td><td>0.0163632</td><td>-12.1853 .. -19.5407</td><td>-13.5755 .. -18.9433</td><td>0.0 .. 1033.06</td><td>5241590000.0</td><td>2554660000.0</td><td>0.598541</td><td>5.1808</td><td>0.363782 .. 0.0649016</td><td>5.0651</td><td>4.5628</td><td>-2.72796 .. 1642.87</td><td>0.00811829 .. 0.00593315</td><td>-2.04234 .. 1484.37</td><td>0.00964087 .. 0.0078684</td><td>0.496845</td><td>6.0</td><td>6.96094</td><td>16.3424</td><td>2.15111 .. 2585.2</td><td>0.0111238 .. 0.00668926</td></tr>\n",
       "<tr><td>10219</td><td>3703</td><td>10219-3703</td><td>1-384363</td><td>v3_1_1</td><td>v3_1_1</td><td>v1_9_1</td><td>v5_5_36</td><td>v2_9</td><td>APOGEE-2&amp;MaNGA</td><td>MaNGA dither</td><td>125.649814536</td><td>21.4649730541</td><td>202.284991814</td><td>29.1891716582</td><td>125.64981</td><td>21.464973</td><td>0.0480707</td><td>6</td><td>5400.5</td><td>2</td><td>12.85</td><td>29.4444</td><td>ma085</td><td>32</td><td>4</td><td>10676</td><td>125.1591</td><td>22.126518</td><td>1.02088</td><td>1.04933</td><td>1.09201</td><td>1.22475</td><td>1.3776</td><td>1.50158</td><td>0.939331</td><td>0.950319</td><td>0.956134</td><td>58107</td><td>58107</td><td>58107</td><td>2.39186</td><td>2.39752</td><td>2.38948</td><td>2.38758</td><td>1168</td><td>0</td><td>0</td><td>1</td><td>plateTargets-1.par</td><td>6647</td><td>J082235.95+212753.9</td><td>37</td><td>37</td><td>0</td><td>0.01591</td><td>0.0109858</td><td>0.0217401</td><td>0.0277178</td><td>0.0222889</td><td>0.0109858</td><td>0.0217401</td><td>0.67973</td><td>2.15293</td><td>2.15293</td><td>2.15293</td><td>-999.0</td><td>-999.0</td><td>2.15541</td><td>2.15541</td><td>2.15541</td><td>87</td><td>4508</td><td>4</td><td>v1_0_1</td><td>406728</td><td>-999</td><td>0.01591</td><td>0.0170734</td><td>-11.699 .. -17.4552</td><td>-12.173 .. -17.283</td><td>0.0601918 .. 343.603</td><td>752562000.0</td><td>677708000.0</td><td>0.644502</td><td>168.213</td><td>0.398476 .. 0.0710912</td><td>3.93078</td><td>3.29663</td><td>1.37415 .. 313.867</td><td>0.0224885 .. 0.00640396</td><td>1.8814 .. 295.38</td><td>0.0200478 .. 0.00672074</td><td>0.539897</td><td>1.79987</td><td>169.426</td><td>4.20444</td><td>1.21706 .. 345.832</td><td>0.0655031 .. 0.0363806</td></tr>\n",
       "<tr><td>10219</td><td>6101</td><td>10219-6101</td><td>1-384265</td><td>v3_1_1</td><td>v3_1_1</td><td>v1_9_1</td><td>v5_5_36</td><td>v2_9</td><td>APOGEE-2&amp;MaNGA</td><td>MaNGA dither</td><td>124.977875484</td><td>20.8620843186</td><td>202.68385896</td><td>28.3929798389</td><td>124.97788</td><td>20.862084</td><td>0.0491337</td><td>9</td><td>8100.75</td><td>0</td><td>20.0905</td><td>41.3611</td><td>ma089</td><td>21</td><td>4</td><td>10676</td><td>125.1591</td><td>22.126518</td><td>1.02246</td><td>1.03486</td><td>1.09053</td><td>1.22475</td><td>1.36205</td><td>1.53061</td><td>0.939331</td><td>0.950341</td><td>0.956134</td><td>58107</td><td>58107</td><td>58107</td><td>2.40802</td><td>2.38999</td><td>2.40216</td><td>2.41266</td><td>1168</td><td>0</td><td>0</td><td>1</td><td>plateTargets-1.par</td><td>6647</td><td>J081954.68+205143.4</td><td>61</td><td>61</td><td>0</td><td>0.0147117</td><td>0.0104986</td><td>0.021185</td><td>0.0271071</td><td>0.021185</td><td>0.01</td><td>0.021185</td><td>0.67973</td><td>2.3061</td><td>2.3061</td><td>2.3061</td><td>-999.0</td><td>-999.0</td><td>2.26584</td><td>2.26584</td><td>2.26584</td><td>108</td><td>6728</td><td>4</td><td>v1_0_1</td><td>406623</td><td>-999</td><td>0.0147117</td><td>0.0157513</td><td>-12.0052 .. -17.3779</td><td>-13.3355 .. -17.3029</td><td>0.8888 .. 237.637</td><td>712640000.0</td><td>704510000.0</td><td>0.82942</td><td>12.5372</td><td>0.405254 .. 0.0723004</td><td>5.66725</td><td>5.8911</td><td>6.72114 .. 314.521</td><td>0.0198975 .. 0.00226564</td><td>6.62947 .. 352.382</td><td>0.0238734 .. 0.00286974</td><td>0.766985</td><td>1.54034</td><td>18.2905</td><td>6.32001</td><td>1.88238 .. 378.624</td><td>0.0977985 .. 0.0150139</td></tr>\n",
       "<tr><td>10219</td><td>6102</td><td>10219-6102</td><td>1-384194</td><td>v3_1_1</td><td>v3_1_1</td><td>v1_9_1</td><td>v5_5_36</td><td>v2_9</td><td>APOGEE-2&amp;MaNGA</td><td>MaNGA dither</td><td>125.148697904</td><td>21.0677945565</td><td>202.527462884</td><td>28.6140486911</td><td>125.1487</td><td>21.067795</td><td>0.0432871</td><td>9</td><td>8100.75</td><td>0</td><td>20.0905</td><td>41.3611</td><td>ma096</td><td>24</td><td>4</td><td>10676</td><td>125.1591</td><td>22.126518</td><td>1.02162</td><td>1.03362</td><td>1.09064</td><td>1.22475</td><td>1.36205</td><td>1.53061</td><td>0.939331</td><td>0.950341</td><td>0.956134</td><td>58107</td><td>58107</td><td>58107</td><td>2.48318</td><td>2.52546</td><td>2.53219</td><td>2.52167</td><td>0</td><td>0</td><td>4096</td><td>1</td><td>plateTargets-1.par</td><td>6647</td><td>J082035.68+210404.0</td><td>61</td><td>-999</td><td>0</td><td>0.0150407</td><td>-999.0</td><td>-999.0</td><td>-999.0</td><td>-999.0</td><td>-999.0</td><td>-999.0</td><td>-999.0</td><td>-999.0</td><td>-999.0</td><td>-999.0</td><td>-999.0</td><td>-999.0</td><td>-999.0</td><td>-999.0</td><td>-999.0</td><td>110</td><td>6728</td><td>4</td><td>v1_0_1</td><td>406549</td><td>-999</td><td>0.0150407</td><td>0.0162055</td><td>-15.3951 .. -22.2396</td><td>-15.8104 .. -21.9821</td><td>5.37144 .. 1108.09</td><td>61223200000.0</td><td>50192300000.0</td><td>0.777591</td><td>69.9662</td><td>0.35793 .. 0.0638575</td><td>10.7132</td><td>9.65707</td><td>27.7428 .. 25487.5</td><td>0.00161162 .. 0.000897213</td><td>63.8962 .. 24882.2</td><td>0.00156437 .. 0.000777222</td><td>0.729156</td><td>3.40057</td><td>69.7548</td><td>14.7656</td><td>43.585 .. 31467.5</td><td>0.00776033 .. 0.00126203</td></tr>\n",
       "<tr><td>10221</td><td>12704</td><td>10221-12704</td><td>1-605125</td><td>v3_1_1</td><td>v3_1_1</td><td>v1_9_1</td><td>v5_5_36</td><td>v2_9</td><td>APOGEE-2&amp;MaNGA</td><td>MaNGA dither</td><td>124.18847</td><td>23.36659</td><td>199.721422898</td><td>28.5555057509</td><td>124.18847</td><td>23.36659</td><td>0.0445954</td><td>12</td><td>10801.0</td><td>64</td><td>23.2562</td><td>39.1212</td><td>ma135</td><td>34</td><td>5</td><td>10678</td><td>123.15685</td><td>24.152943</td><td>1.01366</td><td>1.02256</td><td>1.03859</td><td>1.35778</td><td>1.78163</td><td>2.23013</td><td>0.680586</td><td>0.948166</td><td>0.964492</td><td>58075</td><td>58076</td><td>58077</td><td>2.60484</td><td>2.56215</td><td>2.55035</td><td>2.54235</td><td>1040</td><td>0</td><td>0</td><td>1</td><td>plateTargets-1.par</td><td>6663</td><td>J081644.00+232212.0</td><td>127</td><td>271</td><td>0</td><td>0.014221</td><td>0.0123861</td><td>0.0224485</td><td>0.0294779</td><td>0.0258276</td><td>0.0123861</td><td>0.0224485</td><td>0.67973</td><td>2.04864</td><td>2.04864</td><td>2.04864</td><td>-999.0</td><td>-999.0</td><td>2.051</td><td>2.051</td><td>2.051</td><td>94</td><td>4335</td><td>6</td><td>v1_0_1</td><td>647312</td><td>-999</td><td>0.014221</td><td>0.0153193</td><td>-14.2108 .. -17.4881</td><td>-15.7027 .. -18.2891</td><td>7.83663 .. 264.087</td><td>531775000.0</td><td>880124000.0</td><td>0.848379</td><td>101.453</td><td>0.371827 .. 0.0663369</td><td>14.0284</td><td>11.9244</td><td>25.9883 .. 405.296</td><td>0.00255204 .. 0.000494751</td><td>63.9557 .. 917.939</td><td>0.00228718 .. 0.000484653</td><td>0.806385</td><td>1.38121</td><td>109.821</td><td>12.9009</td><td>15.7613 .. 449.155</td><td>0.0163353 .. 0.00698631</td></tr>\n",
       "<tr><td>...</td><td>...</td><td>...</td><td>...</td><td>...</td><td>...</td><td>...</td><td>...</td><td>...</td><td>...</td><td>...</td><td>...</td><td>...</td><td>...</td><td>...</td><td>...</td><td>...</td><td>...</td><td>...</td><td>...</td><td>...</td><td>...</td><td>...</td><td>...</td><td>...</td><td>...</td><td>...</td><td>...</td><td>...</td><td>...</td><td>...</td><td>...</td><td>...</td><td>...</td><td>...</td><td>...</td><td>...</td><td>...</td><td>...</td><td>...</td><td>...</td><td>...</td><td>...</td><td>...</td><td>...</td><td>...</td><td>...</td><td>...</td><td>...</td><td>...</td><td>...</td><td>...</td><td>...</td><td>...</td><td>...</td><td>...</td><td>...</td><td>...</td><td>...</td><td>...</td><td>...</td><td>...</td><td>...</td><td>...</td><td>...</td><td>...</td><td>...</td><td>...</td><td>...</td><td>...</td><td>...</td><td>...</td><td>...</td><td>...</td><td>...</td><td>...</td><td>...</td><td>...</td><td>...</td><td>...</td><td>...</td><td>...</td><td>...</td><td>...</td><td>...</td><td>...</td><td>...</td><td>...</td><td>...</td><td>...</td><td>...</td><td>...</td><td>...</td><td>...</td><td>...</td><td>...</td><td>...</td><td>...</td><td>...</td></tr>\n",
       "<tr><td>9494</td><td>1901</td><td>9494-1901</td><td>1-384818</td><td>v3_1_1</td><td>v3_1_1</td><td>v1_9_1</td><td>v5_5_36</td><td>v2_9</td><td>APOGEE-2&amp;MaNGA</td><td>MaNGA dither</td><td>127.892526534</td><td>22.0336836082</td><td>202.47402812</td><td>31.3422684337</td><td>127.89253</td><td>22.033684</td><td>0.0432689</td><td>12</td><td>10800.8</td><td>0</td><td>24.3502</td><td>51.9609</td><td>ma132</td><td>29</td><td>6</td><td>10043</td><td>127.10638</td><td>22.594006</td><td>1.01832</td><td>1.04341</td><td>1.0845</td><td>1.09472</td><td>1.25201</td><td>1.58187</td><td>0.868224</td><td>0.897462</td><td>0.917579</td><td>57829</td><td>57829</td><td>57829</td><td>2.38343</td><td>2.40941</td><td>2.41227</td><td>2.40526</td><td>4096</td><td>0</td><td>0</td><td>1</td><td>plateTargets-1.par</td><td>6646</td><td>J083134.20+220201.2</td><td>19</td><td>37</td><td>19</td><td>0.0154535</td><td>0.0216036</td><td>0.0283758</td><td>0.0422752</td><td>0.046525</td><td>0.0140954</td><td>0.0335916</td><td>0.67973</td><td>-999.0</td><td>-999.0</td><td>-999.0</td><td>-999.0</td><td>-999.0</td><td>0.55411</td><td>0.35299</td><td>0.369844</td><td>222</td><td>6597</td><td>5</td><td>v1_0_1</td><td>407219</td><td>-999</td><td>0.0154535</td><td>0.016657</td><td>-13.5905 .. -20.3528</td><td>-13.0984 .. -20.1764</td><td>100.914 .. 1103.67</td><td>10411600000.0</td><td>9241640000.0</td><td>0.642953</td><td>155.402</td><td>0.357899 .. 0.063852</td><td>4.7995</td><td>3.81815</td><td>4.54317 .. 4371.48</td><td>6.87296 .. 0.0094412</td><td>4.7743 .. 4475.4</td><td>6.22381 .. 0.0097049</td><td>0.523324</td><td>2.75191</td><td>155.767</td><td>5.91705</td><td>7.51357 .. 5253.7</td><td>3.70105 .. 0.010379</td></tr>\n",
       "<tr><td>9494</td><td>3701</td><td>9494-3701</td><td>1-384400</td><td>v3_1_1</td><td>v3_1_1</td><td>v1_9_1</td><td>v5_5_36</td><td>v2_9</td><td>APOGEE-2&amp;MaNGA</td><td>MaNGA dither</td><td>126.755857347</td><td>21.7067520534</td><td>202.4242921</td><td>30.238735043</td><td>126.75586</td><td>21.706752</td><td>0.0458529</td><td>12</td><td>10800.8</td><td>0</td><td>24.3502</td><td>51.9609</td><td>ma137</td><td>23</td><td>6</td><td>10043</td><td>127.10638</td><td>22.594006</td><td>1.01905</td><td>1.04065</td><td>1.0932</td><td>1.09472</td><td>1.25201</td><td>1.58187</td><td>0.868224</td><td>0.897462</td><td>0.917579</td><td>57829</td><td>57829</td><td>57829</td><td>2.4703</td><td>2.46618</td><td>2.4532</td><td>2.44418</td><td>4160</td><td>0</td><td>0</td><td>1</td><td>plateTargets-1.par</td><td>6646</td><td>J082701.39+214224.3</td><td>37</td><td>37</td><td>0</td><td>0.0152525</td><td>0.0220962</td><td>0.0288902</td><td>0.0431662</td><td>0.0474419</td><td>0.0136339</td><td>0.0342869</td><td>0.67973</td><td>-999.0</td><td>-999.0</td><td>-999.0</td><td>-999.0</td><td>-999.0</td><td>0.515152</td><td>0.331425</td><td>0.346962</td><td>94</td><td>4508</td><td>3</td><td>v1_0_1</td><td>406770</td><td>-999</td><td>0.0152525</td><td>0.016482</td><td>-13.3604 .. -20.1253</td><td>-13.3271 .. -20.2166</td><td>116.581 .. 1103.85</td><td>8426250000.0</td><td>8892450000.0</td><td>0.391175</td><td>141.302</td><td>0.37754 .. 0.067356</td><td>4.36887</td><td>3.21583</td><td>4.84292 .. 4060.22</td><td>5.68086 .. 0.00662753</td><td>5.45682 .. 4746.11</td><td>5.67352 .. 0.00883725</td><td>0.170029</td><td>1.95958</td><td>141.746</td><td>4.51758</td><td>5.61054 .. 4364.93</td><td>5.06912 .. 0.0142808</td></tr>\n",
       "<tr><td>9494</td><td>3702</td><td>9494-3702</td><td>1-383782</td><td>v3_1_1</td><td>v3_1_1</td><td>v1_9_1</td><td>v5_5_36</td><td>v2_9</td><td>APOGEE-2&amp;MaNGA</td><td>MaNGA dither</td><td>126.652963166</td><td>22.4223109579</td><td>201.605922034</td><td>30.3870626406</td><td>126.65296</td><td>22.422311</td><td>0.0513668</td><td>12</td><td>10800.8</td><td>0</td><td>24.3502</td><td>51.9609</td><td>ma128</td><td>27</td><td>6</td><td>10043</td><td>127.10638</td><td>22.594006</td><td>1.01663</td><td>1.03769</td><td>1.0907</td><td>1.09472</td><td>1.25201</td><td>1.58187</td><td>0.868224</td><td>0.897462</td><td>0.917579</td><td>57829</td><td>57829</td><td>57829</td><td>2.42362</td><td>2.41331</td><td>2.40983</td><td>2.39954</td><td>4096</td><td>0</td><td>0</td><td>1</td><td>plateTargets-1.par</td><td>6646</td><td>J082636.70+222520.3</td><td>37</td><td>37</td><td>0</td><td>0.0179809</td><td>0.0204202</td><td>0.0273007</td><td>0.0403101</td><td>0.04453</td><td>0.0182847</td><td>0.0300011</td><td>0.67973</td><td>-999.0</td><td>-999.0</td><td>-999.0</td><td>-999.0</td><td>-999.0</td><td>0.93002</td><td>0.497744</td><td>0.528592</td><td>96</td><td>4508</td><td>5</td><td>v1_0_1</td><td>406111</td><td>-999</td><td>0.0179809</td><td>0.0185846</td><td>-12.9207 .. -20.1972</td><td>-12.6713 .. -19.8287</td><td>12.5677 .. 1056.05</td><td>9899030000.0</td><td>6976430000.0</td><td>0.8904</td><td>8.22424</td><td>0.431525 .. 0.0769874</td><td>5.16819</td><td>5.054</td><td>2.29076 .. 2580.34</td><td>2.71064 .. 0.00266215</td><td>2.37344 .. 2573.16</td><td>2.68393 .. 0.00379417</td><td>0.849088</td><td>4.73115</td><td>12.1966</td><td>8.43525</td><td>3.10863 .. 3611.44</td><td>3.89772 .. 0.0102956</td></tr>\n",
       "<tr><td>9494</td><td>6102</td><td>9494-6102</td><td>1-384388</td><td>v3_1_1</td><td>v3_1_1</td><td>v1_9_1</td><td>v5_5_36</td><td>v2_9</td><td>APOGEE-2&amp;MaNGA</td><td>MaNGA dither</td><td>126.44906464</td><td>21.8794112791</td><td>202.125654564</td><td>30.0283644136</td><td>126.44906</td><td>21.879411</td><td>0.0456592</td><td>12</td><td>10800.8</td><td>0</td><td>24.3502</td><td>51.9609</td><td>ma123</td><td>24</td><td>6</td><td>10043</td><td>127.10638</td><td>22.594006</td><td>1.01841</td><td>1.03899</td><td>1.09445</td><td>1.09472</td><td>1.25201</td><td>1.58187</td><td>0.868224</td><td>0.897462</td><td>0.917579</td><td>57829</td><td>57829</td><td>57829</td><td>2.49</td><td>2.50401</td><td>2.50121</td><td>2.48839</td><td>0</td><td>0</td><td>16384</td><td>1</td><td>plateTargets-1.par</td><td>6646</td><td>J082547.76+215246.0</td><td>61</td><td>-999</td><td>0</td><td>0.0157081</td><td>-999.0</td><td>-999.0</td><td>-999.0</td><td>-999.0</td><td>-999.0</td><td>-999.0</td><td>-999.0</td><td>-999.0</td><td>-999.0</td><td>-999.0</td><td>-999.0</td><td>-999.0</td><td>-999.0</td><td>-999.0</td><td>-999.0</td><td>93</td><td>4508</td><td>4</td><td>v1_0_1</td><td>406757</td><td>-999</td><td>0.0157081</td><td>0.0168916</td><td>-11.6813 .. -16.8995</td><td>-9.27519 .. -16.9447</td><td>0.06847 .. 341.76</td><td>365965000.0</td><td>384476000.0</td><td>0.373463</td><td>11.9442</td><td>0.378554 .. 0.067537</td><td>6.03562</td><td>4.33768</td><td>-0.055004 .. 234.658</td><td>4.02033 .. 0.00937665</td><td>0.129242 .. 222.111</td><td>4.83271 .. 0.011794</td><td>0.2829</td><td>1.38863</td><td>11.8639</td><td>6.35907</td><td>-0.0103697 .. 213.177</td><td>11.4161 .. 0.0843703</td></tr>\n",
       "<tr><td>9494</td><td>6103</td><td>9494-6103</td><td>1-384394</td><td>v3_1_1</td><td>v3_1_1</td><td>v1_9_1</td><td>v5_5_36</td><td>v2_9</td><td>APOGEE-2&amp;MaNGA</td><td>MaNGA dither</td><td>126.723250502</td><td>22.4832015346</td><td>201.564069865</td><td>30.4684591445</td><td>126.72325</td><td>22.483202</td><td>0.0459523</td><td>12</td><td>10800.8</td><td>64</td><td>24.3502</td><td>51.9609</td><td>ma124</td><td>28</td><td>6</td><td>10043</td><td>127.10638</td><td>22.594006</td><td>1.01644</td><td>1.03771</td><td>1.08998</td><td>1.09472</td><td>1.25201</td><td>1.58187</td><td>0.868224</td><td>0.897462</td><td>0.917579</td><td>57829</td><td>57829</td><td>57829</td><td>2.36724</td><td>2.36664</td><td>2.36941</td><td>2.3641</td><td>0</td><td>0</td><td>16384</td><td>1</td><td>plateTargets-1.par</td><td>6646</td><td>J082653.57+222859.5</td><td>61</td><td>-999</td><td>0</td><td>0.0174352</td><td>-999.0</td><td>-999.0</td><td>-999.0</td><td>-999.0</td><td>-999.0</td><td>-999.0</td><td>-999.0</td><td>-999.0</td><td>-999.0</td><td>-999.0</td><td>-999.0</td><td>-999.0</td><td>-999.0</td><td>-999.0</td><td>-999.0</td><td>97</td><td>4508</td><td>5</td><td>v1_0_1</td><td>406764</td><td>-999</td><td>0.0174352</td><td>0.018215</td><td>-12.9629 .. -16.719</td><td>-12.6132 .. -16.9616</td><td>9.72995 .. 66.5644</td><td>236798000.0</td><td>211423000.0</td><td>0.897148</td><td>66.8363</td><td>0.385466 .. 0.0687701</td><td>6.91121</td><td>6.24323</td><td>2.25698 .. 166.482</td><td>2.1377 .. 0.00235673</td><td>2.51525 .. 191.531</td><td>1.84167 .. 0.00227531</td><td>0.856087</td><td>0.896745</td><td>64.8236</td><td>6.55327</td><td>3.49916 .. 153.958</td><td>5.90328 .. 0.0287602</td></tr>\n",
       "<tr><td>9494</td><td>6104</td><td>9494-6104</td><td>1-384808</td><td>v3_1_1</td><td>v3_1_1</td><td>v1_9_1</td><td>v5_5_36</td><td>v2_9</td><td>APOGEE-2&amp;MaNGA</td><td>MaNGA dither</td><td>128.04718576</td><td>22.5605602691</td><td>201.944861173</td><td>31.6496550097</td><td>128.04719</td><td>22.56056</td><td>0.0346602</td><td>12</td><td>10800.8</td><td>0</td><td>25.719</td><td>50.8918</td><td>ma164</td><td>30</td><td>6</td><td>10043</td><td>127.10638</td><td>22.594006</td><td>1.01661</td><td>1.0417</td><td>1.08194</td><td>1.09472</td><td>1.25201</td><td>1.58187</td><td>0.868224</td><td>0.897462</td><td>0.917579</td><td>57829</td><td>57829</td><td>57829</td><td>2.3171</td><td>2.2864</td><td>2.2793</td><td>2.27229</td><td>0</td><td>0</td><td>4096</td><td>1</td><td>plateTargets-1.par</td><td>6646</td><td>J083208.61+223335.7</td><td>61</td><td>-999</td><td>0</td><td>0.0161274</td><td>-999.0</td><td>-999.0</td><td>-999.0</td><td>-999.0</td><td>-999.0</td><td>-999.0</td><td>-999.0</td><td>-999.0</td><td>-999.0</td><td>-999.0</td><td>-999.0</td><td>-999.0</td><td>-999.0</td><td>-999.0</td><td>-999.0</td><td>112</td><td>4517</td><td>3</td><td>v1_0_1</td><td>407207</td><td>-999</td><td>0.0161274</td><td>0.0172444</td><td>-16.5027 .. -22.4626</td><td>-16.8676 .. -22.0753</td><td>551.457 .. 1107.31</td><td>65498900000.0</td><td>54954500000.0</td><td>0.915909</td><td>93.0141</td><td>0.287607 .. 0.0513113</td><td>10.7554</td><td>10.0037</td><td>147.979 .. 23747.4</td><td>0.245138 .. 0.000703964</td><td>157.181 .. 24303.9</td><td>0.223612 .. 0.000645295</td><td>0.896436</td><td>5.84071</td><td>93.0649</td><td>19.414</td><td>109.158 .. 34533.8</td><td>0.159524 .. 0.000298866</td></tr>\n",
       "<tr><td>9495</td><td>12704</td><td>9495-12704</td><td>1-298347</td><td>v3_1_1</td><td>v3_1_1</td><td>v1_9_1</td><td>v5_5_36</td><td>v2_9</td><td>APOGEE-2&amp;MaNGA</td><td>MaNGA dither</td><td>122.422087497</td><td>22.5603927646</td><td>199.959547079</td><td>26.7525777583</td><td>122.42209</td><td>22.560393</td><td>0.0473173</td><td>9</td><td>8100.72</td><td>0</td><td>20.958</td><td>42.1769</td><td>ma135</td><td>34</td><td>5</td><td>10044</td><td>122.76374</td><td>22.032871</td><td>1.01617</td><td>1.0258</td><td>1.07343</td><td>1.12057</td><td>1.19991</td><td>1.28628</td><td>0.944128</td><td>0.949583</td><td>0.96038</td><td>58100</td><td>58100</td><td>58100</td><td>2.38818</td><td>2.33422</td><td>2.30292</td><td>2.2816</td><td>1040</td><td>0</td><td>0</td><td>1</td><td>plateTargets-1.par</td><td>6648</td><td>J080941.31+223336.9</td><td>127</td><td>331</td><td>0</td><td>0.0160528</td><td>0.0149344</td><td>0.0237813</td><td>0.0327173</td><td>0.0338634</td><td>0.0149344</td><td>0.0237813</td><td>0.67973</td><td>1.90864</td><td>1.46757</td><td>1.51142</td><td>-999.0</td><td>-999.0</td><td>1.91085</td><td>1.46887</td><td>1.5128</td><td>75</td><td>3635</td><td>3</td><td>v1_0_1</td><td>315659</td><td>-999</td><td>0.0160528</td><td>0.0172186</td><td>-15.6063 .. -18.2642</td><td>-16.4734 .. -18.0515</td><td>24.3978 .. 62.7415</td><td>840799000.0</td><td>1045120000.0</td><td>0.898626</td><td>150.165</td><td>0.393585 .. 0.0702186</td><td>15.4067</td><td>15.0777</td><td>44.2197 .. 1.16332</td><td>0.00272472 .. 0.000214995</td><td>100.738 .. 593.12</td><td>0.0029492 .. 0.000222824</td><td>0.880346</td><td>1.05666</td><td>147.33</td><td>16.1436</td><td>44.4353 .. 725.8</td><td>0.0116649 .. 0.00119513</td></tr>\n",
       "<tr><td>9495</td><td>12705</td><td>9495-12705</td><td>1-605106</td><td>v3_1_1</td><td>v3_1_1</td><td>v1_9_1</td><td>v5_5_36</td><td>v2_9</td><td>APOGEE-2&amp;MaNGA</td><td>MaNGA dither</td><td>123.838768142</td><td>21.5580791331</td><td>201.526513679</td><td>27.6391683585</td><td>123.83877</td><td>21.558079</td><td>0.0345634</td><td>9</td><td>8100.72</td><td>0</td><td>20.958</td><td>42.1769</td><td>ma144</td><td>36</td><td>5</td><td>10044</td><td>122.76374</td><td>22.032871</td><td>1.02001</td><td>1.03268</td><td>1.08607</td><td>1.12057</td><td>1.19991</td><td>1.28628</td><td>0.944128</td><td>0.949583</td><td>0.96038</td><td>58100</td><td>58100</td><td>58100</td><td>2.3102</td><td>2.29407</td><td>2.30302</td><td>2.30909</td><td>4096</td><td>0</td><td>0</td><td>1</td><td>plateTargets-1.par</td><td>6648</td><td>J081520.90+213326.0</td><td>127</td><td>469</td><td>0</td><td>0.0142817</td><td>0.0174449</td><td>0.0252132</td><td>0.0360157</td><td>0.040283</td><td>0.0146938</td><td>0.0279079</td><td>0.67973</td><td>-999.0</td><td>-999.0</td><td>-999.0</td><td>-999.0</td><td>-999.0</td><td>1.04413</td><td>0.579787</td><td>0.614075</td><td>85</td><td>4335</td><td>3</td><td>v1_0_1</td><td>647277</td><td>-999</td><td>0.0142817</td><td>0.0152043</td><td>-13.3129 .. -19.1789</td><td>-12.9382 .. -19.0763</td><td>0.194685 .. 966.674</td><td>3352500000.0</td><td>3262570000.0</td><td>0.274849</td><td>53.6086</td><td>0.281198 .. 0.0501679</td><td>17.5928</td><td>12.2005</td><td>0.509525 .. 1482.96</td><td>0.00369943 .. 0.000540125</td><td>5.37829 .. 1976.23</td><td>0.0079365 .. 0.00224456</td><td>0.182191</td><td>1.00034</td><td>54.0021</td><td>20.5609</td><td>7.59816 .. 2164.27</td><td>0.0349686 .. 0.0122163</td></tr>\n",
       "<tr><td>9495</td><td>3701</td><td>9495-3701</td><td>1-383464</td><td>v3_1_1</td><td>v3_1_1</td><td>v1_9_1</td><td>v5_5_36</td><td>v2_9</td><td>APOGEE-2&amp;MaNGA</td><td>MaNGA dither</td><td>123.558705698</td><td>21.4357354591</td><td>201.553762135</td><td>27.3523151925</td><td>123.55871</td><td>21.435735</td><td>0.0406519</td><td>9</td><td>8100.72</td><td>0</td><td>18.7675</td><td>40.4012</td><td>ma108</td><td>23</td><td>5</td><td>10044</td><td>122.76374</td><td>22.032871</td><td>1.02032</td><td>1.03246</td><td>1.0849</td><td>1.12057</td><td>1.19991</td><td>1.28628</td><td>0.944128</td><td>0.949583</td><td>0.96038</td><td>58100</td><td>58100</td><td>58100</td><td>2.4637</td><td>2.43034</td><td>2.42179</td><td>2.39975</td><td>1552</td><td>0</td><td>0</td><td>1</td><td>plateTargets-1.par</td><td>6648</td><td>J081414.09+212608.5</td><td>37</td><td>91</td><td>37</td><td>0.0158558</td><td>0.015441</td><td>0.0240573</td><td>0.033371</td><td>0.0357379</td><td>0.0130081</td><td>0.0322151</td><td>0.67973</td><td>1.8863</td><td>1.13615</td><td>1.19586</td><td>-999.0</td><td>-999.0</td><td>0.622106</td><td>0.510863</td><td>0.522596</td><td>83</td><td>4335</td><td>3</td><td>v1_0_1</td><td>405771</td><td>-999</td><td>0.0158558</td><td>0.0170428</td><td>-10.724 .. -18.5172</td><td>-11.5527 .. -18.5118</td><td>0.0539734 .. 823.329</td><td>2042850000.0</td><td>2056400000.0</td><td>0.418831</td><td>106.518</td><td>0.33766 .. 0.0602412</td><td>6.92994</td><td>5.2007</td><td>0.959512 .. 877.121</td><td>0.0456172 .. 0.00307554</td><td>1.05721 .. 927.125</td><td>0.0569299 .. 0.00435951</td><td>0.3132</td><td>1.03367</td><td>106.265</td><td>7.48535</td><td>0.508223 .. 931.668</td><td>0.238825 .. 0.0268001</td></tr>\n",
       "<tr><td>9495</td><td>6101</td><td>9495-6101</td><td>1-298482</td><td>v3_1_1</td><td>v3_1_1</td><td>v1_9_1</td><td>v5_5_36</td><td>v2_9</td><td>APOGEE-2&amp;MaNGA</td><td>MaNGA dither</td><td>122.550750441</td><td>22.7722827177</td><td>199.781995604</td><td>26.9366873694</td><td>122.55075</td><td>22.772283</td><td>0.0451563</td><td>9</td><td>8100.72</td><td>0</td><td>18.7675</td><td>40.4012</td><td>ma101</td><td>21</td><td>5</td><td>10044</td><td>122.76374</td><td>22.032871</td><td>1.01552</td><td>1.02539</td><td>1.07332</td><td>1.12057</td><td>1.19991</td><td>1.28628</td><td>0.944128</td><td>0.949583</td><td>0.96038</td><td>58100</td><td>58100</td><td>58100</td><td>2.40853</td><td>2.37429</td><td>2.34614</td><td>2.32589</td><td>1168</td><td>0</td><td>0</td><td>1</td><td>plateTargets-1.par</td><td>6648</td><td>J081012.17+224620.2</td><td>61</td><td>61</td><td>0</td><td>0.0155937</td><td>0.014724</td><td>0.023668</td><td>0.032447</td><td>0.0331132</td><td>0.0144707</td><td>0.030045</td><td>0.67973</td><td>1.91833</td><td>1.63915</td><td>1.66966</td><td>-999.0</td><td>-999.0</td><td>0.805605</td><td>0.751829</td><td>0.758184</td><td>81</td><td>3644</td><td>3</td><td>v1_0_1</td><td>315810</td><td>-999</td><td>0.0155937</td><td>0.0168416</td><td>-14.0299 .. -18.3917</td><td>-14.1674 .. -18.3515</td><td>3.16042 .. 770.052</td><td>1817320000.0</td><td>1769770000.0</td><td>0.638762</td><td>174.125</td><td>0.376896 .. 0.0672411</td><td>6.16673</td><td>5.2177</td><td>6.20713 .. 762.901</td><td>0.0208314 .. 0.00368332</td><td>12.7665 .. 814.029</td><td>0.0229749 .. 0.0044629</td><td>0.519251</td><td>1.68447</td><td>174.654</td><td>6.9992</td><td>10.9236 .. 845.402</td><td>0.0623694 .. 0.018384</td></tr>\n",
       "</table></div>"
      ],
      "text/plain": [
       "<Table length=43>\n",
       "plate ifudsgn   plateifu  ...  nsa_sersic_flux [7]  nsa_sersic_flux_ivar [7]\n",
       "int64 bytes32   bytes32   ...        float64                float64         \n",
       "----- ------- ----------- ... --------------------- ------------------------\n",
       "10219   12701 10219-12701 ...    61.4088 .. 2097.57  0.0105603 .. 0.00814692\n",
       "10219   12705 10219-12705 ...    11.9613 .. 1024.83   0.0862699 .. 0.0183595\n",
       "10219    1901  10219-1901 ...   0.292207 .. 698.455   0.0396976 .. 0.0474586\n",
       "10219    1902  10219-1902 ...  -0.701885 .. 435.292   0.0224869 .. 0.0137494\n",
       "10219    3701  10219-3701 ...        0.0 .. 1075.91    0.457817 .. 0.0214079\n",
       "10219    3702  10219-3702 ...     2.15111 .. 2585.2  0.0111238 .. 0.00668926\n",
       "10219    3703  10219-3703 ...    1.21706 .. 345.832   0.0655031 .. 0.0363806\n",
       "10219    6101  10219-6101 ...    1.88238 .. 378.624   0.0977985 .. 0.0150139\n",
       "10219    6102  10219-6102 ...     43.585 .. 31467.5 0.00776033 .. 0.00126203\n",
       "10221   12704 10221-12704 ...    15.7613 .. 449.155  0.0163353 .. 0.00698631\n",
       "  ...     ...         ... ...                   ...                      ...\n",
       " 9494    1901   9494-1901 ...     7.51357 .. 5253.7      3.70105 .. 0.010379\n",
       " 9494    3701   9494-3701 ...    5.61054 .. 4364.93     5.06912 .. 0.0142808\n",
       " 9494    3702   9494-3702 ...    3.10863 .. 3611.44     3.89772 .. 0.0102956\n",
       " 9494    6102   9494-6102 ... -0.0103697 .. 213.177     11.4161 .. 0.0843703\n",
       " 9494    6103   9494-6103 ...    3.49916 .. 153.958     5.90328 .. 0.0287602\n",
       " 9494    6104   9494-6104 ...    109.158 .. 34533.8  0.159524 .. 0.000298866\n",
       " 9495   12704  9495-12704 ...      44.4353 .. 725.8  0.0116649 .. 0.00119513\n",
       " 9495   12705  9495-12705 ...    7.59816 .. 2164.27   0.0349686 .. 0.0122163\n",
       " 9495    3701   9495-3701 ...   0.508223 .. 931.668    0.238825 .. 0.0268001\n",
       " 9495    6101   9495-6101 ...    10.9236 .. 845.402    0.0623694 .. 0.018384"
      ]
     },
     "execution_count": 83,
     "metadata": {},
     "output_type": "execute_result"
    }
   ],
   "source": [
    "MaNGA_in_cancer1 = (cancersep < 1.5*R2t_cancer_angle) & (drpall['z']*c > V_cancer - 3*sigma_cancer) & (drpall['z']*c < V_cancer + 3*sigma_cancer)\n",
    "\n",
    "MaNGA_in_cancer2 = (cancersep >= 1.5*R2t_cancer_angle) & (cancersep < 3*R2t_cancer_angle) & (drpall['z']*c > V_cancer - 2*sigma_cancer) & (drpall['z']*c < V_cancer + 2*sigma_cancer)\n",
    "\n",
    "MaNGA_in_cancer = MaNGA_in_cancer1 | MaNGA_in_cancer2\n",
    "\n",
    "################################################################################\n",
    "# Keep all instances of each SGA_ID that are within the Coma cluster\n",
    "#-------------------------------------------------------------------------------\n",
    "MaNGA_ID_in_cancer = np.unique(drpall['mangaid'][MaNGA_in_cancer])\n",
    "\n",
    "idx_MaNGA_in_cancer = np.in1d(drpall['mangaid'], MaNGA_ID_in_cancer)\n",
    "\n",
    "inCancer_MaNGA_table = drpall[idx_MaNGA_in_cancer]\n",
    "################################################################################\n",
    "\n",
    "inCancer_MaNGA_table"
   ]
  },
  {
   "cell_type": "code",
   "execution_count": 85,
   "id": "0a92480a-913f-43cf-8b26-b4cc711b56d1",
   "metadata": {},
   "outputs": [
    {
     "data": {
      "text/plain": [
       "Text(0, 0.5, 'Count')"
      ]
     },
     "execution_count": 85,
     "metadata": {},
     "output_type": "execute_result"
    },
    {
     "data": {
      "image/png": "[encoded data removed]",
      "text/plain": [
       "<Figure size 432x288 with 1 Axes>"
      ]
     },
     "metadata": {
      "needs_background": "light"
     },
     "output_type": "display_data"
    }
   ],
   "source": [
    "plt.hist(cancersep[MaNGA_in_cancer].to_value('degree'))\n",
    "plt.xlabel('MaNGA-Cancer Angular Separation [deg]')\n",
    "plt.ylabel('Count')"
   ]
  },
  {
   "cell_type": "code",
   "execution_count": 86,
   "id": "ddb8a45d-95d3-435d-a686-0938ddd85711",
   "metadata": {},
   "outputs": [
    {
     "data": {
      "image/png": "[encoded data removed]",
      "text/plain": [
       "<Figure size 864x360 with 2 Axes>"
      ]
     },
     "metadata": {
      "needs_background": "light"
     },
     "output_type": "display_data"
    }
   ],
   "source": [
    "fig, axes = plt.subplots(1,2, figsize=(12,5), tight_layout=True)\n",
    "ax = axes[0]\n",
    "ax.plot(inCancer_MaNGA_table['objdec'], inCancer_MaNGA_table['objra'], '.')\n",
    "ax = axes[1]\n",
    "ax.hist(inCancer_MaNGA_table['z']);"
   ]
  },
  {
   "cell_type": "markdown",
   "id": "9e4a6350-0ccf-4f1d-b057-05c94feacdcb",
   "metadata": {
    "jp-MarkdownHeadingCollapsed": true,
    "tags": []
   },
   "source": [
    "## Pegasus"
   ]
  },
  {
   "cell_type": "code",
   "execution_count": 80,
   "id": "cb88df7b-0460-488d-bedf-e934ea8edaf0",
   "metadata": {},
   "outputs": [],
   "source": [
    "pg_nest = 206806\n",
    "\n",
    "pg_row_t3 = table3['Nest'] == pg_nest\n",
    "\n",
    "R2t_pg = table3['R2t'][pg_row_t3][0]\n",
    "sigma_pg = table3['sigP'][pg_row_t3][0]"
   ]
  },
  {
   "cell_type": "code",
   "execution_count": 81,
   "id": "7683091d-5508-4d52-af62-b4a5151aeffd",
   "metadata": {},
   "outputs": [],
   "source": [
    "pg_coords = SkyCoord(table3['SGLON'][pg_row_t3]*u.degree, \n",
    "                       table3['SGLAT'][pg_row_t3]*u.degree, \n",
    "                       frame='supergalactic')\n",
    "\n",
    "pg_group_coords = SkyCoord(table2['SGLON']*u.degree, \n",
    "                        table2['SGLAT']*u.degree, \n",
    "                        frame='supergalactic')\n",
    "\n",
    "idx, d2d, d3d = pg_coords.match_to_catalog_sky(pg_group_coords)\n",
    "\n",
    "V_pg = table2['__HV_'][idx][0]"
   ]
  },
  {
   "cell_type": "code",
   "execution_count": 82,
   "id": "c3a05e01-4ec6-4b2f-811e-c551dea1c26d",
   "metadata": {},
   "outputs": [],
   "source": [
    "# First, we need to convert R2t from Mpc to an angle, using the group's heliocentric velocity\n",
    "R2t_pg_angle = (R2t_pg/(V_pg/H0))*u.radian"
   ]
  },
  {
   "cell_type": "code",
   "execution_count": 83,
   "id": "20a4f64f-baa1-4972-b389-f8648eefdaf1",
   "metadata": {},
   "outputs": [],
   "source": [
    "pg_tf_coords = SkyCoord(drpall['objra'], drpall['objdec'], unit='deg')\n",
    "\n",
    "pgsep = pg_coords.separation(pg_tf_coords)"
   ]
  },
  {
   "cell_type": "code",
   "execution_count": 84,
   "id": "66320c62-24ae-44de-9349-f85e68ce5c86",
   "metadata": {},
   "outputs": [
    {
     "data": {
      "text/html": [
       "<div><i>Table length=0</i>\n",
       "<table id=\"table23455342068016\" class=\"table-striped table-bordered table-condensed\">\n",
       "<thead><tr><th>plate</th><th>ifudsgn</th><th>plateifu</th><th>mangaid</th><th>versdrp2</th><th>versdrp3</th><th>verscore</th><th>versutil</th><th>versprim</th><th>platetyp</th><th>srvymode</th><th>objra</th><th>objdec</th><th>ifuglon</th><th>ifuglat</th><th>ifura</th><th>ifudec</th><th>ebvgal</th><th>nexp</th><th>exptime</th><th>drp3qual</th><th>bluesn2</th><th>redsn2</th><th>harname</th><th>frlplug</th><th>cartid</th><th>designid</th><th>cenra</th><th>cendec</th><th>airmsmin</th><th>airmsmed</th><th>airmsmax</th><th>seemin</th><th>seemed</th><th>seemax</th><th>transmin</th><th>transmed</th><th>transmax</th><th>mjdmin</th><th>mjdmed</th><th>mjdmax</th><th>gfwhm</th><th>rfwhm</th><th>ifwhm</th><th>zfwhm</th><th>mngtarg1</th><th>mngtarg2</th><th>mngtarg3</th><th>catidnum</th><th>plttarg</th><th>manga_tileid</th><th>nsa_iauname</th><th>ifudesignsize</th><th>ifutargetsize</th><th>ifudesignwrongsize</th><th>z</th><th>zmin</th><th>zmax</th><th>szmin</th><th>szmax</th><th>ezmin</th><th>ezmax</th><th>probs</th><th>pweight</th><th>psweight</th><th>psrweight</th><th>sweight</th><th>srweight</th><th>eweight</th><th>esweight</th><th>esrweight</th><th>nsa_field</th><th>nsa_run</th><th>nsa_camcol</th><th>nsa_version</th><th>nsa_nsaid</th><th>nsa_nsaid_v1b</th><th>nsa_z</th><th>nsa_zdist</th><th>nsa_sersic_absmag [7]</th><th>nsa_elpetro_absmag [7]</th><th>nsa_elpetro_amivar [7]</th><th>nsa_sersic_mass</th><th>nsa_elpetro_mass</th><th>nsa_elpetro_ba</th><th>nsa_elpetro_phi</th><th>nsa_extinction [7]</th><th>nsa_elpetro_th50_r</th><th>nsa_petro_th50</th><th>nsa_petro_flux [7]</th><th>nsa_petro_flux_ivar [7]</th><th>nsa_elpetro_flux [7]</th><th>nsa_elpetro_flux_ivar [7]</th><th>nsa_sersic_ba</th><th>nsa_sersic_n</th><th>nsa_sersic_phi</th><th>nsa_sersic_th50</th><th>nsa_sersic_flux [7]</th><th>nsa_sersic_flux_ivar [7]</th></tr></thead>\n",
       "<thead><tr><th>int64</th><th>bytes32</th><th>bytes32</th><th>bytes32</th><th>bytes32</th><th>bytes32</th><th>bytes32</th><th>bytes32</th><th>bytes32</th><th>bytes32</th><th>bytes32</th><th>float64</th><th>float64</th><th>float64</th><th>float64</th><th>float64</th><th>float64</th><th>float64</th><th>int64</th><th>float64</th><th>int64</th><th>float64</th><th>float64</th><th>bytes53</th><th>int64</th><th>bytes32</th><th>int64</th><th>float64</th><th>float64</th><th>float64</th><th>float64</th><th>float64</th><th>float64</th><th>float64</th><th>float64</th><th>float64</th><th>float64</th><th>float64</th><th>int64</th><th>int64</th><th>int64</th><th>float64</th><th>float64</th><th>float64</th><th>float64</th><th>int64</th><th>int64</th><th>int64</th><th>int64</th><th>bytes32</th><th>int64</th><th>bytes19</th><th>int64</th><th>int64</th><th>int64</th><th>float64</th><th>float64</th><th>float64</th><th>float64</th><th>float64</th><th>float64</th><th>float64</th><th>float64</th><th>float64</th><th>float64</th><th>float64</th><th>float64</th><th>float64</th><th>float64</th><th>float64</th><th>float64</th><th>int64</th><th>int64</th><th>int64</th><th>bytes6</th><th>int64</th><th>int64</th><th>float64</th><th>float64</th><th>float64</th><th>float64</th><th>float64</th><th>float64</th><th>float64</th><th>float64</th><th>float64</th><th>float64</th><th>float64</th><th>float64</th><th>float64</th><th>float64</th><th>float64</th><th>float64</th><th>float64</th><th>float64</th><th>float64</th><th>float64</th><th>float64</th><th>float64</th></tr></thead>\n",
       "</table></div>"
      ],
      "text/plain": [
       "<Table length=0>\n",
       "plate ifudsgn plateifu ... nsa_sersic_flux [7] nsa_sersic_flux_ivar [7]\n",
       "int64 bytes32 bytes32  ...       float64               float64         \n",
       "----- ------- -------- ... ------------------- ------------------------"
      ]
     },
     "execution_count": 84,
     "metadata": {},
     "output_type": "execute_result"
    }
   ],
   "source": [
    "MaNGA_in_pg1 = (pgsep < 1.5*R2t_pg_angle) & (drpall['z']*c > V_pg - 3*sigma_pg) & (drpall['z']*c < V_pg + 3*sigma_pg)\n",
    "\n",
    "MaNGA_in_pg2 = (pgsep >= 1.5*R2t_pg_angle) & (pgsep < 3*R2t_pg_angle) & (drpall['z']*c > V_pg - 2*sigma_pg) & (drpall['z']*c < V_pg + 2*sigma_pg)\n",
    "\n",
    "MaNGA_in_pg = MaNGA_in_pg1 | MaNGA_in_pg2\n",
    "\n",
    "################################################################################\n",
    "# Keep all instances of each SGA_ID that are within the Coma cluster\n",
    "#-------------------------------------------------------------------------------\n",
    "MaNGA_ID_in_pg = np.unique(drpall['mangaid'][MaNGA_in_pg])\n",
    "\n",
    "idx_MaNGA_in_pg = np.in1d(drpall['mangaid'], MaNGA_ID_in_pg)\n",
    "\n",
    "inPegasus_MaNGA_table = drpall[idx_MaNGA_in_pg]\n",
    "################################################################################\n",
    "\n",
    "inPegasus_MaNGA_table"
   ]
  },
  {
   "cell_type": "markdown",
   "id": "9f96f0e4-2165-4ac9-a3f2-ef811b921f59",
   "metadata": {
    "jp-MarkdownHeadingCollapsed": true,
    "tags": []
   },
   "source": [
    "## Hydra"
   ]
  },
  {
   "cell_type": "code",
   "execution_count": 85,
   "id": "107521b2-45f0-452f-8458-6857806cb9bd",
   "metadata": {},
   "outputs": [],
   "source": [
    "hy_nest = 106867\n",
    "\n",
    "hy_row_t3 = table3['Nest'] == hy_nest\n",
    "\n",
    "R2t_hy = table3['R2t'][hy_row_t3][0]\n",
    "sigma_hy = table3['sigP'][hy_row_t3][0]"
   ]
  },
  {
   "cell_type": "code",
   "execution_count": 86,
   "id": "fd8d70b7-5d0e-4bb6-a5d1-890140f57ea6",
   "metadata": {},
   "outputs": [],
   "source": [
    "hy_coords = SkyCoord(table3['SGLON'][hy_row_t3]*u.degree, \n",
    "                       table3['SGLAT'][hy_row_t3]*u.degree, \n",
    "                       frame='supergalactic')\n",
    "\n",
    "hy_group_coords = SkyCoord(table2['SGLON']*u.degree, \n",
    "                        table2['SGLAT']*u.degree, \n",
    "                        frame='supergalactic')\n",
    "\n",
    "idx, d2d, d3d = hy_coords.match_to_catalog_sky(hy_group_coords)\n",
    "\n",
    "V_hy = table2['__HV_'][idx][0]"
   ]
  },
  {
   "cell_type": "code",
   "execution_count": 87,
   "id": "86d3e973-4a71-4eb2-9ea2-43e67c8a498d",
   "metadata": {},
   "outputs": [],
   "source": [
    "# First, we need to convert R2t from Mpc to an angle, using the group's heliocentric velocity\n",
    "R2t_hy_angle = (R2t_hy/(V_hy/H0))*u.radian"
   ]
  },
  {
   "cell_type": "code",
   "execution_count": 88,
   "id": "d83d7d27-b7d4-49c4-b049-357b0b5f3740",
   "metadata": {},
   "outputs": [],
   "source": [
    "hy_tf_coords = SkyCoord(drpall['objra'], drpall['objdec'], unit='deg')\n",
    "\n",
    "hysep = hy_coords.separation(hy_tf_coords)"
   ]
  },
  {
   "cell_type": "code",
   "execution_count": 89,
   "id": "367c1451-3e6f-4cb1-9a1c-8780e9da5fc2",
   "metadata": {},
   "outputs": [
    {
     "data": {
      "text/html": [
       "<div><i>Table length=0</i>\n",
       "<table id=\"table23455341771216\" class=\"table-striped table-bordered table-condensed\">\n",
       "<thead><tr><th>plate</th><th>ifudsgn</th><th>plateifu</th><th>mangaid</th><th>versdrp2</th><th>versdrp3</th><th>verscore</th><th>versutil</th><th>versprim</th><th>platetyp</th><th>srvymode</th><th>objra</th><th>objdec</th><th>ifuglon</th><th>ifuglat</th><th>ifura</th><th>ifudec</th><th>ebvgal</th><th>nexp</th><th>exptime</th><th>drp3qual</th><th>bluesn2</th><th>redsn2</th><th>harname</th><th>frlplug</th><th>cartid</th><th>designid</th><th>cenra</th><th>cendec</th><th>airmsmin</th><th>airmsmed</th><th>airmsmax</th><th>seemin</th><th>seemed</th><th>seemax</th><th>transmin</th><th>transmed</th><th>transmax</th><th>mjdmin</th><th>mjdmed</th><th>mjdmax</th><th>gfwhm</th><th>rfwhm</th><th>ifwhm</th><th>zfwhm</th><th>mngtarg1</th><th>mngtarg2</th><th>mngtarg3</th><th>catidnum</th><th>plttarg</th><th>manga_tileid</th><th>nsa_iauname</th><th>ifudesignsize</th><th>ifutargetsize</th><th>ifudesignwrongsize</th><th>z</th><th>zmin</th><th>zmax</th><th>szmin</th><th>szmax</th><th>ezmin</th><th>ezmax</th><th>probs</th><th>pweight</th><th>psweight</th><th>psrweight</th><th>sweight</th><th>srweight</th><th>eweight</th><th>esweight</th><th>esrweight</th><th>nsa_field</th><th>nsa_run</th><th>nsa_camcol</th><th>nsa_version</th><th>nsa_nsaid</th><th>nsa_nsaid_v1b</th><th>nsa_z</th><th>nsa_zdist</th><th>nsa_sersic_absmag [7]</th><th>nsa_elpetro_absmag [7]</th><th>nsa_elpetro_amivar [7]</th><th>nsa_sersic_mass</th><th>nsa_elpetro_mass</th><th>nsa_elpetro_ba</th><th>nsa_elpetro_phi</th><th>nsa_extinction [7]</th><th>nsa_elpetro_th50_r</th><th>nsa_petro_th50</th><th>nsa_petro_flux [7]</th><th>nsa_petro_flux_ivar [7]</th><th>nsa_elpetro_flux [7]</th><th>nsa_elpetro_flux_ivar [7]</th><th>nsa_sersic_ba</th><th>nsa_sersic_n</th><th>nsa_sersic_phi</th><th>nsa_sersic_th50</th><th>nsa_sersic_flux [7]</th><th>nsa_sersic_flux_ivar [7]</th></tr></thead>\n",
       "<thead><tr><th>int64</th><th>bytes32</th><th>bytes32</th><th>bytes32</th><th>bytes32</th><th>bytes32</th><th>bytes32</th><th>bytes32</th><th>bytes32</th><th>bytes32</th><th>bytes32</th><th>float64</th><th>float64</th><th>float64</th><th>float64</th><th>float64</th><th>float64</th><th>float64</th><th>int64</th><th>float64</th><th>int64</th><th>float64</th><th>float64</th><th>bytes53</th><th>int64</th><th>bytes32</th><th>int64</th><th>float64</th><th>float64</th><th>float64</th><th>float64</th><th>float64</th><th>float64</th><th>float64</th><th>float64</th><th>float64</th><th>float64</th><th>float64</th><th>int64</th><th>int64</th><th>int64</th><th>float64</th><th>float64</th><th>float64</th><th>float64</th><th>int64</th><th>int64</th><th>int64</th><th>int64</th><th>bytes32</th><th>int64</th><th>bytes19</th><th>int64</th><th>int64</th><th>int64</th><th>float64</th><th>float64</th><th>float64</th><th>float64</th><th>float64</th><th>float64</th><th>float64</th><th>float64</th><th>float64</th><th>float64</th><th>float64</th><th>float64</th><th>float64</th><th>float64</th><th>float64</th><th>float64</th><th>int64</th><th>int64</th><th>int64</th><th>bytes6</th><th>int64</th><th>int64</th><th>float64</th><th>float64</th><th>float64</th><th>float64</th><th>float64</th><th>float64</th><th>float64</th><th>float64</th><th>float64</th><th>float64</th><th>float64</th><th>float64</th><th>float64</th><th>float64</th><th>float64</th><th>float64</th><th>float64</th><th>float64</th><th>float64</th><th>float64</th><th>float64</th><th>float64</th></tr></thead>\n",
       "</table></div>"
      ],
      "text/plain": [
       "<Table length=0>\n",
       "plate ifudsgn plateifu ... nsa_sersic_flux [7] nsa_sersic_flux_ivar [7]\n",
       "int64 bytes32 bytes32  ...       float64               float64         \n",
       "----- ------- -------- ... ------------------- ------------------------"
      ]
     },
     "execution_count": 89,
     "metadata": {},
     "output_type": "execute_result"
    }
   ],
   "source": [
    "MaNGA_in_hy1 = (hysep < 1.5*R2t_hy_angle) & (drpall['z']*c > V_hy - 3*sigma_hy) & (drpall['z']*c < V_hy + 3*sigma_hy)\n",
    "\n",
    "MaNGA_in_hy2 = (hysep >= 1.5*R2t_hy_angle) & (hysep < 3*R2t_hy_angle) & (drpall['z']*c > V_hy - 2*sigma_hy) & (drpall['z']*c < V_hy + 2*sigma_hy)\n",
    "\n",
    "MaNGA_in_hy = MaNGA_in_hy1 | MaNGA_in_hy2\n",
    "\n",
    "################################################################################\n",
    "# Keep all instances of each SGA_ID that are within the Coma cluster\n",
    "#-------------------------------------------------------------------------------\n",
    "MaNGA_ID_in_hy = np.unique(drpall['mangaid'][MaNGA_in_hy])\n",
    "\n",
    "idx_MaNGA_in_hy = np.in1d(drpall['mangaid'], MaNGA_ID_in_hy)\n",
    "\n",
    "inHydra_MaNGA_table = drpall[idx_MaNGA_in_hy]\n",
    "################################################################################\n",
    "\n",
    "inHydra_MaNGA_table"
   ]
  },
  {
   "cell_type": "markdown",
   "id": "9afb3da4-6593-43a5-857d-d636c3305a35",
   "metadata": {
    "jp-MarkdownHeadingCollapsed": true,
    "tags": []
   },
   "source": [
    "## NGC 70"
   ]
  },
  {
   "cell_type": "code",
   "execution_count": 90,
   "id": "e656a267-4555-4a8f-b0a6-dd69ea77b522",
   "metadata": {},
   "outputs": [],
   "source": [
    "ngc70_nest = 200646\n",
    "\n",
    "ngc70_row_t3 = table3['Nest'] == ngc70_nest\n",
    "\n",
    "R2t_ngc70 = table3['R2t'][ngc70_row_t3][0]\n",
    "sigma_ngc70 = table3['sigP'][ngc70_row_t3][0]"
   ]
  },
  {
   "cell_type": "code",
   "execution_count": 91,
   "id": "d60c4f60-4fd4-41ce-99b2-c2fb45e26a02",
   "metadata": {},
   "outputs": [],
   "source": [
    "ngc70_coords = SkyCoord(table3['SGLON'][ngc70_row_t3]*u.degree, \n",
    "                       table3['SGLAT'][ngc70_row_t3]*u.degree, \n",
    "                       frame='supergalactic')\n",
    "\n",
    "ngc70_group_coords = SkyCoord(table2['SGLON']*u.degree, \n",
    "                        table2['SGLAT']*u.degree, \n",
    "                        frame='supergalactic')\n",
    "\n",
    "idx, d2d, d3d = ngc70_coords.match_to_catalog_sky(ngc70_group_coords)\n",
    "\n",
    "V_ngc70 = table2['__HV_'][idx][0]"
   ]
  },
  {
   "cell_type": "code",
   "execution_count": 92,
   "id": "44d30b4c-63f6-47a2-9a2e-cf5ff4820a92",
   "metadata": {},
   "outputs": [],
   "source": [
    "# First, we need to convert R2t from Mpc to an angle, using the group's heliocentric velocity\n",
    "R2t_ngc70_angle = (R2t_ngc70/(V_ngc70/H0))*u.radian"
   ]
  },
  {
   "cell_type": "code",
   "execution_count": 93,
   "id": "31c8ddf0-eeb0-4f21-8a34-5140a8ba835d",
   "metadata": {},
   "outputs": [],
   "source": [
    "ngc70_tf_coords = SkyCoord(drpall['objra'], drpall['objdec'], unit='deg')\n",
    "\n",
    "n70sep = ngc70_coords.separation(ngc70_tf_coords)"
   ]
  },
  {
   "cell_type": "code",
   "execution_count": 94,
   "id": "1f3bd6ba-f19e-4a16-b553-e0f680d4ca55",
   "metadata": {},
   "outputs": [
    {
     "data": {
      "text/html": [
       "<div><i>Table length=0</i>\n",
       "<table id=\"table23455341825328\" class=\"table-striped table-bordered table-condensed\">\n",
       "<thead><tr><th>plate</th><th>ifudsgn</th><th>plateifu</th><th>mangaid</th><th>versdrp2</th><th>versdrp3</th><th>verscore</th><th>versutil</th><th>versprim</th><th>platetyp</th><th>srvymode</th><th>objra</th><th>objdec</th><th>ifuglon</th><th>ifuglat</th><th>ifura</th><th>ifudec</th><th>ebvgal</th><th>nexp</th><th>exptime</th><th>drp3qual</th><th>bluesn2</th><th>redsn2</th><th>harname</th><th>frlplug</th><th>cartid</th><th>designid</th><th>cenra</th><th>cendec</th><th>airmsmin</th><th>airmsmed</th><th>airmsmax</th><th>seemin</th><th>seemed</th><th>seemax</th><th>transmin</th><th>transmed</th><th>transmax</th><th>mjdmin</th><th>mjdmed</th><th>mjdmax</th><th>gfwhm</th><th>rfwhm</th><th>ifwhm</th><th>zfwhm</th><th>mngtarg1</th><th>mngtarg2</th><th>mngtarg3</th><th>catidnum</th><th>plttarg</th><th>manga_tileid</th><th>nsa_iauname</th><th>ifudesignsize</th><th>ifutargetsize</th><th>ifudesignwrongsize</th><th>z</th><th>zmin</th><th>zmax</th><th>szmin</th><th>szmax</th><th>ezmin</th><th>ezmax</th><th>probs</th><th>pweight</th><th>psweight</th><th>psrweight</th><th>sweight</th><th>srweight</th><th>eweight</th><th>esweight</th><th>esrweight</th><th>nsa_field</th><th>nsa_run</th><th>nsa_camcol</th><th>nsa_version</th><th>nsa_nsaid</th><th>nsa_nsaid_v1b</th><th>nsa_z</th><th>nsa_zdist</th><th>nsa_sersic_absmag [7]</th><th>nsa_elpetro_absmag [7]</th><th>nsa_elpetro_amivar [7]</th><th>nsa_sersic_mass</th><th>nsa_elpetro_mass</th><th>nsa_elpetro_ba</th><th>nsa_elpetro_phi</th><th>nsa_extinction [7]</th><th>nsa_elpetro_th50_r</th><th>nsa_petro_th50</th><th>nsa_petro_flux [7]</th><th>nsa_petro_flux_ivar [7]</th><th>nsa_elpetro_flux [7]</th><th>nsa_elpetro_flux_ivar [7]</th><th>nsa_sersic_ba</th><th>nsa_sersic_n</th><th>nsa_sersic_phi</th><th>nsa_sersic_th50</th><th>nsa_sersic_flux [7]</th><th>nsa_sersic_flux_ivar [7]</th></tr></thead>\n",
       "<thead><tr><th>int64</th><th>bytes32</th><th>bytes32</th><th>bytes32</th><th>bytes32</th><th>bytes32</th><th>bytes32</th><th>bytes32</th><th>bytes32</th><th>bytes32</th><th>bytes32</th><th>float64</th><th>float64</th><th>float64</th><th>float64</th><th>float64</th><th>float64</th><th>float64</th><th>int64</th><th>float64</th><th>int64</th><th>float64</th><th>float64</th><th>bytes53</th><th>int64</th><th>bytes32</th><th>int64</th><th>float64</th><th>float64</th><th>float64</th><th>float64</th><th>float64</th><th>float64</th><th>float64</th><th>float64</th><th>float64</th><th>float64</th><th>float64</th><th>int64</th><th>int64</th><th>int64</th><th>float64</th><th>float64</th><th>float64</th><th>float64</th><th>int64</th><th>int64</th><th>int64</th><th>int64</th><th>bytes32</th><th>int64</th><th>bytes19</th><th>int64</th><th>int64</th><th>int64</th><th>float64</th><th>float64</th><th>float64</th><th>float64</th><th>float64</th><th>float64</th><th>float64</th><th>float64</th><th>float64</th><th>float64</th><th>float64</th><th>float64</th><th>float64</th><th>float64</th><th>float64</th><th>float64</th><th>int64</th><th>int64</th><th>int64</th><th>bytes6</th><th>int64</th><th>int64</th><th>float64</th><th>float64</th><th>float64</th><th>float64</th><th>float64</th><th>float64</th><th>float64</th><th>float64</th><th>float64</th><th>float64</th><th>float64</th><th>float64</th><th>float64</th><th>float64</th><th>float64</th><th>float64</th><th>float64</th><th>float64</th><th>float64</th><th>float64</th><th>float64</th><th>float64</th></tr></thead>\n",
       "</table></div>"
      ],
      "text/plain": [
       "<Table length=0>\n",
       "plate ifudsgn plateifu ... nsa_sersic_flux [7] nsa_sersic_flux_ivar [7]\n",
       "int64 bytes32 bytes32  ...       float64               float64         \n",
       "----- ------- -------- ... ------------------- ------------------------"
      ]
     },
     "execution_count": 94,
     "metadata": {},
     "output_type": "execute_result"
    }
   ],
   "source": [
    "MaNGA_in_ngc701 = (n70sep < 1.5*R2t_ngc70_angle) & (drpall['z']*c > V_ngc70 - 3*sigma_ngc70) & (drpall['z']*c < V_ngc70 + 3*sigma_ngc70)\n",
    "\n",
    "MaNGA_in_ngc702 = (n70sep >= 1.5*R2t_ngc70_angle) & (n70sep < 3*R2t_ngc70_angle) & (drpall['z']*c > V_ngc70 - 2*sigma_ngc70) & (drpall['z']*c < V_ngc70 + 2*sigma_ngc70)\n",
    "\n",
    "MaNGA_in_ngc70 = MaNGA_in_ngc701 | MaNGA_in_ngc702\n",
    "\n",
    "################################################################################\n",
    "# Keep all instances of each SGA_ID that are within the Coma cluster\n",
    "#-------------------------------------------------------------------------------\n",
    "MaNGA_ID_in_ngc70 = np.unique(drpall['mangaid'][MaNGA_in_ngc70])\n",
    "\n",
    "idx_MaNGA_in_ngc70 = np.in1d(drpall['mangaid'], MaNGA_ID_in_ngc70)\n",
    "\n",
    "inNGC70_MaNGA_table = drpall[idx_MaNGA_in_ngc70]\n",
    "################################################################################\n",
    "\n",
    "inNGC70_MaNGA_table"
   ]
  },
  {
   "cell_type": "markdown",
   "id": "e8b7d32e-7698-4b85-99bf-da16218a7bb5",
   "metadata": {
    "jp-MarkdownHeadingCollapsed": true,
    "tags": []
   },
   "source": [
    "## NGC 80"
   ]
  },
  {
   "cell_type": "code",
   "execution_count": 95,
   "id": "eb234699-c703-4fcf-9b3c-3ee749c1ea23",
   "metadata": {},
   "outputs": [],
   "source": [
    "ngc80_nest = 201682\n",
    "\n",
    "ngc80_row_t3 = table3['Nest'] == ngc80_nest\n",
    "\n",
    "R2t_ngc80 = table3['R2t'][ngc80_row_t3][0]\n",
    "sigma_ngc80 = table3['sigP'][ngc80_row_t3][0]"
   ]
  },
  {
   "cell_type": "code",
   "execution_count": 96,
   "id": "94165fdf-255f-4555-970c-138478b1619b",
   "metadata": {},
   "outputs": [],
   "source": [
    "ngc80_coords = SkyCoord(table3['SGLON'][ngc80_row_t3]*u.degree, \n",
    "                       table3['SGLAT'][ngc80_row_t3]*u.degree, \n",
    "                       frame='supergalactic')\n",
    "\n",
    "ngc80_group_coords = SkyCoord(table2['SGLON']*u.degree, \n",
    "                        table2['SGLAT']*u.degree, \n",
    "                        frame='supergalactic')\n",
    "\n",
    "idx, d2d, d3d = ngc80_coords.match_to_catalog_sky(ngc80_group_coords)\n",
    "\n",
    "V_ngc80 = table2['__HV_'][idx][0]"
   ]
  },
  {
   "cell_type": "code",
   "execution_count": 97,
   "id": "b80bc527-8c87-4aa0-80eb-12f74bf21d5d",
   "metadata": {},
   "outputs": [],
   "source": [
    "# First, we need to convert R2t from Mpc to an angle, using the group's heliocentric velocity\n",
    "R2t_ngc80_angle = (R2t_ngc80/(V_ngc80/H0))*u.radian"
   ]
  },
  {
   "cell_type": "code",
   "execution_count": 98,
   "id": "efea9cc0-972a-4aaf-8035-2a423aabccbd",
   "metadata": {},
   "outputs": [],
   "source": [
    "ngc80_tf_coords = SkyCoord(drpall['objra'], drpall['objdec'], unit='deg')\n",
    "\n",
    "n80sep = ngc80_coords.separation(ngc80_tf_coords)"
   ]
  },
  {
   "cell_type": "code",
   "execution_count": 99,
   "id": "75e1034b-b6f6-40b2-ab65-92e9cffa5c2c",
   "metadata": {},
   "outputs": [
    {
     "data": {
      "text/html": [
       "<div><i>Table length=0</i>\n",
       "<table id=\"table23455341624144\" class=\"table-striped table-bordered table-condensed\">\n",
       "<thead><tr><th>plate</th><th>ifudsgn</th><th>plateifu</th><th>mangaid</th><th>versdrp2</th><th>versdrp3</th><th>verscore</th><th>versutil</th><th>versprim</th><th>platetyp</th><th>srvymode</th><th>objra</th><th>objdec</th><th>ifuglon</th><th>ifuglat</th><th>ifura</th><th>ifudec</th><th>ebvgal</th><th>nexp</th><th>exptime</th><th>drp3qual</th><th>bluesn2</th><th>redsn2</th><th>harname</th><th>frlplug</th><th>cartid</th><th>designid</th><th>cenra</th><th>cendec</th><th>airmsmin</th><th>airmsmed</th><th>airmsmax</th><th>seemin</th><th>seemed</th><th>seemax</th><th>transmin</th><th>transmed</th><th>transmax</th><th>mjdmin</th><th>mjdmed</th><th>mjdmax</th><th>gfwhm</th><th>rfwhm</th><th>ifwhm</th><th>zfwhm</th><th>mngtarg1</th><th>mngtarg2</th><th>mngtarg3</th><th>catidnum</th><th>plttarg</th><th>manga_tileid</th><th>nsa_iauname</th><th>ifudesignsize</th><th>ifutargetsize</th><th>ifudesignwrongsize</th><th>z</th><th>zmin</th><th>zmax</th><th>szmin</th><th>szmax</th><th>ezmin</th><th>ezmax</th><th>probs</th><th>pweight</th><th>psweight</th><th>psrweight</th><th>sweight</th><th>srweight</th><th>eweight</th><th>esweight</th><th>esrweight</th><th>nsa_field</th><th>nsa_run</th><th>nsa_camcol</th><th>nsa_version</th><th>nsa_nsaid</th><th>nsa_nsaid_v1b</th><th>nsa_z</th><th>nsa_zdist</th><th>nsa_sersic_absmag [7]</th><th>nsa_elpetro_absmag [7]</th><th>nsa_elpetro_amivar [7]</th><th>nsa_sersic_mass</th><th>nsa_elpetro_mass</th><th>nsa_elpetro_ba</th><th>nsa_elpetro_phi</th><th>nsa_extinction [7]</th><th>nsa_elpetro_th50_r</th><th>nsa_petro_th50</th><th>nsa_petro_flux [7]</th><th>nsa_petro_flux_ivar [7]</th><th>nsa_elpetro_flux [7]</th><th>nsa_elpetro_flux_ivar [7]</th><th>nsa_sersic_ba</th><th>nsa_sersic_n</th><th>nsa_sersic_phi</th><th>nsa_sersic_th50</th><th>nsa_sersic_flux [7]</th><th>nsa_sersic_flux_ivar [7]</th></tr></thead>\n",
       "<thead><tr><th>int64</th><th>bytes32</th><th>bytes32</th><th>bytes32</th><th>bytes32</th><th>bytes32</th><th>bytes32</th><th>bytes32</th><th>bytes32</th><th>bytes32</th><th>bytes32</th><th>float64</th><th>float64</th><th>float64</th><th>float64</th><th>float64</th><th>float64</th><th>float64</th><th>int64</th><th>float64</th><th>int64</th><th>float64</th><th>float64</th><th>bytes53</th><th>int64</th><th>bytes32</th><th>int64</th><th>float64</th><th>float64</th><th>float64</th><th>float64</th><th>float64</th><th>float64</th><th>float64</th><th>float64</th><th>float64</th><th>float64</th><th>float64</th><th>int64</th><th>int64</th><th>int64</th><th>float64</th><th>float64</th><th>float64</th><th>float64</th><th>int64</th><th>int64</th><th>int64</th><th>int64</th><th>bytes32</th><th>int64</th><th>bytes19</th><th>int64</th><th>int64</th><th>int64</th><th>float64</th><th>float64</th><th>float64</th><th>float64</th><th>float64</th><th>float64</th><th>float64</th><th>float64</th><th>float64</th><th>float64</th><th>float64</th><th>float64</th><th>float64</th><th>float64</th><th>float64</th><th>float64</th><th>int64</th><th>int64</th><th>int64</th><th>bytes6</th><th>int64</th><th>int64</th><th>float64</th><th>float64</th><th>float64</th><th>float64</th><th>float64</th><th>float64</th><th>float64</th><th>float64</th><th>float64</th><th>float64</th><th>float64</th><th>float64</th><th>float64</th><th>float64</th><th>float64</th><th>float64</th><th>float64</th><th>float64</th><th>float64</th><th>float64</th><th>float64</th><th>float64</th></tr></thead>\n",
       "</table></div>"
      ],
      "text/plain": [
       "<Table length=0>\n",
       "plate ifudsgn plateifu ... nsa_sersic_flux [7] nsa_sersic_flux_ivar [7]\n",
       "int64 bytes32 bytes32  ...       float64               float64         \n",
       "----- ------- -------- ... ------------------- ------------------------"
      ]
     },
     "execution_count": 99,
     "metadata": {},
     "output_type": "execute_result"
    }
   ],
   "source": [
    "MaNGA_in_ngc801 = (n80sep < 1.5*R2t_ngc80_angle) & (drpall['z']*c > V_ngc80 - 3*sigma_ngc80) & (drpall['z']*c < V_ngc80 + 3*sigma_ngc80)\n",
    "\n",
    "MaNGA_in_ngc802 = (n80sep >= 1.5*R2t_ngc80_angle) & (n80sep < 3*R2t_ngc80_angle) & (drpall['z']*c > V_ngc80 - 2*sigma_ngc80) & (drpall['z']*c < V_ngc80 + 2*sigma_ngc80)\n",
    "\n",
    "MaNGA_in_ngc80 = MaNGA_in_ngc801 | MaNGA_in_ngc802\n",
    "\n",
    "################################################################################\n",
    "# Keep all instances of each SGA_ID that are within the Coma cluster\n",
    "#-------------------------------------------------------------------------------\n",
    "MaNGA_ID_in_ngc80 = np.unique(drpall['mangaid'][MaNGA_in_ngc80])\n",
    "\n",
    "idx_MaNGA_in_ngc80 = np.in1d(drpall['mangaid'], MaNGA_ID_in_ngc80)\n",
    "\n",
    "inNGC80_MaNGA_table = drpall[idx_MaNGA_in_ngc80]\n",
    "################################################################################\n",
    "\n",
    "inNGC80_MaNGA_table"
   ]
  },
  {
   "cell_type": "markdown",
   "id": "0b104fd4-80ef-4aef-9ed0-688a7931d991",
   "metadata": {
    "jp-MarkdownHeadingCollapsed": true,
    "tags": []
   },
   "source": [
    "## NGC 410"
   ]
  },
  {
   "cell_type": "code",
   "execution_count": 100,
   "id": "f1331312-67db-4a5c-a500-2a8ec431b540",
   "metadata": {},
   "outputs": [],
   "source": [
    "ngc410_nest = 200005\n",
    "\n",
    "ngc410_row_t3 = table3['Nest'] == ngc410_nest\n",
    "\n",
    "R2t_ngc410 = table3['R2t'][ngc410_row_t3][0]\n",
    "sigma_ngc410 = table3['sigP'][ngc410_row_t3][0]"
   ]
  },
  {
   "cell_type": "code",
   "execution_count": 101,
   "id": "193ec683-dde8-46cc-97ee-e494f47acce5",
   "metadata": {},
   "outputs": [],
   "source": [
    "ngc410_coords = SkyCoord(table3['SGLON'][ngc410_row_t3]*u.degree, \n",
    "                       table3['SGLAT'][ngc410_row_t3]*u.degree, \n",
    "                       frame='supergalactic')\n",
    "\n",
    "ngc410_group_coords = SkyCoord(table2['SGLON']*u.degree, \n",
    "                        table2['SGLAT']*u.degree, \n",
    "                        frame='supergalactic')\n",
    "\n",
    "idx, d2d, d3d = ngc410_coords.match_to_catalog_sky(ngc410_group_coords)\n",
    "\n",
    "V_ngc410 = table2['__HV_'][idx][0]"
   ]
  },
  {
   "cell_type": "code",
   "execution_count": 102,
   "id": "cd488f51-fbeb-4e7a-a60e-95caf6cd5e8b",
   "metadata": {},
   "outputs": [],
   "source": [
    "# First, we need to convert R2t from Mpc to an angle, using the group's heliocentric velocity\n",
    "R2t_ngc410_angle = (R2t_ngc410/(V_ngc410/H0))*u.radian"
   ]
  },
  {
   "cell_type": "code",
   "execution_count": 103,
   "id": "a82f01ff-11f7-464b-9378-ba388066aaa6",
   "metadata": {},
   "outputs": [],
   "source": [
    "ngc410_tf_coords = SkyCoord(drpall['objra'], drpall['objdec'], unit='deg')\n",
    "\n",
    "n410sep = ngc410_coords.separation(ngc410_tf_coords)"
   ]
  },
  {
   "cell_type": "code",
   "execution_count": 104,
   "id": "44cd31b9-3506-4e48-99dd-a9181b046016",
   "metadata": {},
   "outputs": [
    {
     "data": {
      "text/html": [
       "<div><i>Table length=0</i>\n",
       "<table id=\"table23455341769056\" class=\"table-striped table-bordered table-condensed\">\n",
       "<thead><tr><th>plate</th><th>ifudsgn</th><th>plateifu</th><th>mangaid</th><th>versdrp2</th><th>versdrp3</th><th>verscore</th><th>versutil</th><th>versprim</th><th>platetyp</th><th>srvymode</th><th>objra</th><th>objdec</th><th>ifuglon</th><th>ifuglat</th><th>ifura</th><th>ifudec</th><th>ebvgal</th><th>nexp</th><th>exptime</th><th>drp3qual</th><th>bluesn2</th><th>redsn2</th><th>harname</th><th>frlplug</th><th>cartid</th><th>designid</th><th>cenra</th><th>cendec</th><th>airmsmin</th><th>airmsmed</th><th>airmsmax</th><th>seemin</th><th>seemed</th><th>seemax</th><th>transmin</th><th>transmed</th><th>transmax</th><th>mjdmin</th><th>mjdmed</th><th>mjdmax</th><th>gfwhm</th><th>rfwhm</th><th>ifwhm</th><th>zfwhm</th><th>mngtarg1</th><th>mngtarg2</th><th>mngtarg3</th><th>catidnum</th><th>plttarg</th><th>manga_tileid</th><th>nsa_iauname</th><th>ifudesignsize</th><th>ifutargetsize</th><th>ifudesignwrongsize</th><th>z</th><th>zmin</th><th>zmax</th><th>szmin</th><th>szmax</th><th>ezmin</th><th>ezmax</th><th>probs</th><th>pweight</th><th>psweight</th><th>psrweight</th><th>sweight</th><th>srweight</th><th>eweight</th><th>esweight</th><th>esrweight</th><th>nsa_field</th><th>nsa_run</th><th>nsa_camcol</th><th>nsa_version</th><th>nsa_nsaid</th><th>nsa_nsaid_v1b</th><th>nsa_z</th><th>nsa_zdist</th><th>nsa_sersic_absmag [7]</th><th>nsa_elpetro_absmag [7]</th><th>nsa_elpetro_amivar [7]</th><th>nsa_sersic_mass</th><th>nsa_elpetro_mass</th><th>nsa_elpetro_ba</th><th>nsa_elpetro_phi</th><th>nsa_extinction [7]</th><th>nsa_elpetro_th50_r</th><th>nsa_petro_th50</th><th>nsa_petro_flux [7]</th><th>nsa_petro_flux_ivar [7]</th><th>nsa_elpetro_flux [7]</th><th>nsa_elpetro_flux_ivar [7]</th><th>nsa_sersic_ba</th><th>nsa_sersic_n</th><th>nsa_sersic_phi</th><th>nsa_sersic_th50</th><th>nsa_sersic_flux [7]</th><th>nsa_sersic_flux_ivar [7]</th></tr></thead>\n",
       "<thead><tr><th>int64</th><th>bytes32</th><th>bytes32</th><th>bytes32</th><th>bytes32</th><th>bytes32</th><th>bytes32</th><th>bytes32</th><th>bytes32</th><th>bytes32</th><th>bytes32</th><th>float64</th><th>float64</th><th>float64</th><th>float64</th><th>float64</th><th>float64</th><th>float64</th><th>int64</th><th>float64</th><th>int64</th><th>float64</th><th>float64</th><th>bytes53</th><th>int64</th><th>bytes32</th><th>int64</th><th>float64</th><th>float64</th><th>float64</th><th>float64</th><th>float64</th><th>float64</th><th>float64</th><th>float64</th><th>float64</th><th>float64</th><th>float64</th><th>int64</th><th>int64</th><th>int64</th><th>float64</th><th>float64</th><th>float64</th><th>float64</th><th>int64</th><th>int64</th><th>int64</th><th>int64</th><th>bytes32</th><th>int64</th><th>bytes19</th><th>int64</th><th>int64</th><th>int64</th><th>float64</th><th>float64</th><th>float64</th><th>float64</th><th>float64</th><th>float64</th><th>float64</th><th>float64</th><th>float64</th><th>float64</th><th>float64</th><th>float64</th><th>float64</th><th>float64</th><th>float64</th><th>float64</th><th>int64</th><th>int64</th><th>int64</th><th>bytes6</th><th>int64</th><th>int64</th><th>float64</th><th>float64</th><th>float64</th><th>float64</th><th>float64</th><th>float64</th><th>float64</th><th>float64</th><th>float64</th><th>float64</th><th>float64</th><th>float64</th><th>float64</th><th>float64</th><th>float64</th><th>float64</th><th>float64</th><th>float64</th><th>float64</th><th>float64</th><th>float64</th><th>float64</th></tr></thead>\n",
       "</table></div>"
      ],
      "text/plain": [
       "<Table length=0>\n",
       "plate ifudsgn plateifu ... nsa_sersic_flux [7] nsa_sersic_flux_ivar [7]\n",
       "int64 bytes32 bytes32  ...       float64               float64         \n",
       "----- ------- -------- ... ------------------- ------------------------"
      ]
     },
     "execution_count": 104,
     "metadata": {},
     "output_type": "execute_result"
    }
   ],
   "source": [
    "MaNGA_in_ngc4101 = (n410sep < 1.5*R2t_ngc410_angle) & (drpall['z']*c > V_ngc410 - 3*sigma_ngc410) & (drpall['z']*c < V_ngc410 + 3*sigma_ngc410)\n",
    "\n",
    "MaNGA_in_ngc4102 = (n410sep >= 1.5*R2t_ngc410_angle) & (n410sep < 3*R2t_ngc410_angle) & (drpall['z']*c > V_ngc410 - 2*sigma_ngc410) & (drpall['z']*c < V_ngc410 + 2*sigma_ngc410)\n",
    "\n",
    "MaNGA_in_ngc410 = MaNGA_in_ngc4101 | MaNGA_in_ngc4102\n",
    "\n",
    "################################################################################\n",
    "# Keep all instances of each SGA_ID that are within the Coma cluster\n",
    "#-------------------------------------------------------------------------------\n",
    "MaNGA_ID_in_ngc410 = np.unique(drpall['mangaid'][MaNGA_in_ngc410])\n",
    "\n",
    "idx_MaNGA_in_ngc410 = np.in1d(drpall['mangaid'], MaNGA_ID_in_ngc410)\n",
    "\n",
    "inNGC410_MaNGA_table = drpall[idx_MaNGA_in_ngc410]\n",
    "################################################################################\n",
    "\n",
    "inNGC410_MaNGA_table"
   ]
  },
  {
   "cell_type": "markdown",
   "id": "504d7205-4cfc-4c14-b41b-e6516c73bf8f",
   "metadata": {
    "jp-MarkdownHeadingCollapsed": true,
    "tags": []
   },
   "source": [
    "## NGC 507"
   ]
  },
  {
   "cell_type": "code",
   "execution_count": 107,
   "id": "4a4e9e72-494c-4674-b2a9-21a703ec3122",
   "metadata": {},
   "outputs": [],
   "source": [
    "ngc507_nest = 209354\n",
    "\n",
    "ngc507_row_t3 = table3['Nest'] == ngc507_nest\n",
    "\n",
    "R2t_ngc507 = table3['R2t'][ngc507_row_t3][0]\n",
    "sigma_ngc507 = table3['sigP'][ngc507_row_t3][0]"
   ]
  },
  {
   "cell_type": "code",
   "execution_count": 108,
   "id": "1dbd74ba-91ac-47dd-87cf-2d5543b0e6aa",
   "metadata": {},
   "outputs": [],
   "source": [
    "ngc507_coords = SkyCoord(table3['SGLON'][ngc507_row_t3]*u.degree, \n",
    "                       table3['SGLAT'][ngc507_row_t3]*u.degree, \n",
    "                       frame='supergalactic')\n",
    "\n",
    "ngc507_group_coords = SkyCoord(table2['SGLON']*u.degree, \n",
    "                        table2['SGLAT']*u.degree, \n",
    "                        frame='supergalactic')\n",
    "\n",
    "idx, d2d, d3d = ngc507_coords.match_to_catalog_sky(ngc507_group_coords)\n",
    "\n",
    "V_ngc507 = table2['__HV_'][idx][0]"
   ]
  },
  {
   "cell_type": "code",
   "execution_count": 109,
   "id": "cb942bad-030c-4f61-941c-10fab9c25c02",
   "metadata": {},
   "outputs": [],
   "source": [
    "# First, we need to convert R2t from Mpc to an angle, using the group's heliocentric velocity\n",
    "R2t_ngc507_angle = (R2t_ngc507/(V_ngc507/H0))*u.radian"
   ]
  },
  {
   "cell_type": "code",
   "execution_count": 110,
   "id": "d990077c-4bf8-496d-9908-020cbcdc17df",
   "metadata": {},
   "outputs": [],
   "source": [
    "ngc507_tf_coords = SkyCoord(drpall['objra'], drpall['objdec'], unit='deg')\n",
    "\n",
    "n507sep = ngc507_coords.separation(ngc507_tf_coords)"
   ]
  },
  {
   "cell_type": "code",
   "execution_count": 111,
   "id": "51569418-b708-4402-bda7-e17d3c7884f0",
   "metadata": {},
   "outputs": [
    {
     "data": {
      "text/html": [
       "<div><i>Table length=0</i>\n",
       "<table id=\"table23455341824032\" class=\"table-striped table-bordered table-condensed\">\n",
       "<thead><tr><th>plate</th><th>ifudsgn</th><th>plateifu</th><th>mangaid</th><th>versdrp2</th><th>versdrp3</th><th>verscore</th><th>versutil</th><th>versprim</th><th>platetyp</th><th>srvymode</th><th>objra</th><th>objdec</th><th>ifuglon</th><th>ifuglat</th><th>ifura</th><th>ifudec</th><th>ebvgal</th><th>nexp</th><th>exptime</th><th>drp3qual</th><th>bluesn2</th><th>redsn2</th><th>harname</th><th>frlplug</th><th>cartid</th><th>designid</th><th>cenra</th><th>cendec</th><th>airmsmin</th><th>airmsmed</th><th>airmsmax</th><th>seemin</th><th>seemed</th><th>seemax</th><th>transmin</th><th>transmed</th><th>transmax</th><th>mjdmin</th><th>mjdmed</th><th>mjdmax</th><th>gfwhm</th><th>rfwhm</th><th>ifwhm</th><th>zfwhm</th><th>mngtarg1</th><th>mngtarg2</th><th>mngtarg3</th><th>catidnum</th><th>plttarg</th><th>manga_tileid</th><th>nsa_iauname</th><th>ifudesignsize</th><th>ifutargetsize</th><th>ifudesignwrongsize</th><th>z</th><th>zmin</th><th>zmax</th><th>szmin</th><th>szmax</th><th>ezmin</th><th>ezmax</th><th>probs</th><th>pweight</th><th>psweight</th><th>psrweight</th><th>sweight</th><th>srweight</th><th>eweight</th><th>esweight</th><th>esrweight</th><th>nsa_field</th><th>nsa_run</th><th>nsa_camcol</th><th>nsa_version</th><th>nsa_nsaid</th><th>nsa_nsaid_v1b</th><th>nsa_z</th><th>nsa_zdist</th><th>nsa_sersic_absmag [7]</th><th>nsa_elpetro_absmag [7]</th><th>nsa_elpetro_amivar [7]</th><th>nsa_sersic_mass</th><th>nsa_elpetro_mass</th><th>nsa_elpetro_ba</th><th>nsa_elpetro_phi</th><th>nsa_extinction [7]</th><th>nsa_elpetro_th50_r</th><th>nsa_petro_th50</th><th>nsa_petro_flux [7]</th><th>nsa_petro_flux_ivar [7]</th><th>nsa_elpetro_flux [7]</th><th>nsa_elpetro_flux_ivar [7]</th><th>nsa_sersic_ba</th><th>nsa_sersic_n</th><th>nsa_sersic_phi</th><th>nsa_sersic_th50</th><th>nsa_sersic_flux [7]</th><th>nsa_sersic_flux_ivar [7]</th></tr></thead>\n",
       "<thead><tr><th>int64</th><th>bytes32</th><th>bytes32</th><th>bytes32</th><th>bytes32</th><th>bytes32</th><th>bytes32</th><th>bytes32</th><th>bytes32</th><th>bytes32</th><th>bytes32</th><th>float64</th><th>float64</th><th>float64</th><th>float64</th><th>float64</th><th>float64</th><th>float64</th><th>int64</th><th>float64</th><th>int64</th><th>float64</th><th>float64</th><th>bytes53</th><th>int64</th><th>bytes32</th><th>int64</th><th>float64</th><th>float64</th><th>float64</th><th>float64</th><th>float64</th><th>float64</th><th>float64</th><th>float64</th><th>float64</th><th>float64</th><th>float64</th><th>int64</th><th>int64</th><th>int64</th><th>float64</th><th>float64</th><th>float64</th><th>float64</th><th>int64</th><th>int64</th><th>int64</th><th>int64</th><th>bytes32</th><th>int64</th><th>bytes19</th><th>int64</th><th>int64</th><th>int64</th><th>float64</th><th>float64</th><th>float64</th><th>float64</th><th>float64</th><th>float64</th><th>float64</th><th>float64</th><th>float64</th><th>float64</th><th>float64</th><th>float64</th><th>float64</th><th>float64</th><th>float64</th><th>float64</th><th>int64</th><th>int64</th><th>int64</th><th>bytes6</th><th>int64</th><th>int64</th><th>float64</th><th>float64</th><th>float64</th><th>float64</th><th>float64</th><th>float64</th><th>float64</th><th>float64</th><th>float64</th><th>float64</th><th>float64</th><th>float64</th><th>float64</th><th>float64</th><th>float64</th><th>float64</th><th>float64</th><th>float64</th><th>float64</th><th>float64</th><th>float64</th><th>float64</th></tr></thead>\n",
       "</table></div>"
      ],
      "text/plain": [
       "<Table length=0>\n",
       "plate ifudsgn plateifu ... nsa_sersic_flux [7] nsa_sersic_flux_ivar [7]\n",
       "int64 bytes32 bytes32  ...       float64               float64         \n",
       "----- ------- -------- ... ------------------- ------------------------"
      ]
     },
     "execution_count": 111,
     "metadata": {},
     "output_type": "execute_result"
    }
   ],
   "source": [
    "MaNGA_in_ngc5071 = (n507sep < 1.5*R2t_ngc507_angle) & (drpall['z']*c > V_ngc507 - 3*sigma_ngc507) & (drpall['z']*c < V_ngc507 + 3*sigma_ngc507)\n",
    "\n",
    "MaNGA_in_ngc5072 = (n507sep >= 1.5*R2t_ngc507_angle) & (n507sep < 3*R2t_ngc507_angle) & (drpall['z']*c > V_ngc507 - 2*sigma_ngc507) & (drpall['z']*c < V_ngc507 + 2*sigma_ngc507)\n",
    "\n",
    "MaNGA_in_ngc507 = MaNGA_in_ngc5071 | MaNGA_in_ngc5072\n",
    "\n",
    "################################################################################\n",
    "# Keep all instances of each SGA_ID that are within the Coma cluster\n",
    "#-------------------------------------------------------------------------------\n",
    "MaNGA_ID_in_ngc507 = np.unique(drpall['mangaid'][MaNGA_in_ngc507])\n",
    "\n",
    "idx_MaNGA_in_ngc507 = np.in1d(drpall['mangaid'], MaNGA_ID_in_ngc507)\n",
    "\n",
    "inNGC507_MaNGA_table = drpall[idx_MaNGA_in_ngc507]\n",
    "################################################################################\n",
    "\n",
    "inNGC507_MaNGA_table"
   ]
  },
  {
   "cell_type": "markdown",
   "id": "a482bf0d-b3cc-4813-88cc-b763be5fd775",
   "metadata": {},
   "source": [
    "## Abell 262"
   ]
  },
  {
   "cell_type": "code",
   "execution_count": 112,
   "id": "2fcffac8-bc7d-4c32-8d4a-2c7d15687132",
   "metadata": {},
   "outputs": [],
   "source": [
    "a262_nest = 200065\n",
    "\n",
    "a262_row_t3 = table3['Nest'] == a262_nest\n",
    "\n",
    "R2t_a262 = table3['R2t'][a262_row_t3][0]\n",
    "sigma_a262 = table3['sigP'][a262_row_t3][0]"
   ]
  },
  {
   "cell_type": "code",
   "execution_count": 113,
   "id": "b350140b-9f29-4df3-8fc9-6ba34c52874d",
   "metadata": {},
   "outputs": [],
   "source": [
    "a262_coords = SkyCoord(table3['SGLON'][a262_row_t3]*u.degree, \n",
    "                       table3['SGLAT'][a262_row_t3]*u.degree, \n",
    "                       frame='supergalactic')\n",
    "\n",
    "a262_group_coords = SkyCoord(table2['SGLON']*u.degree, \n",
    "                        table2['SGLAT']*u.degree, \n",
    "                        frame='supergalactic')\n",
    "\n",
    "idx, d2d, d3d = a262_coords.match_to_catalog_sky(a262_group_coords)\n",
    "\n",
    "V_a262 = table2['__HV_'][idx][0]"
   ]
  },
  {
   "cell_type": "code",
   "execution_count": 114,
   "id": "83b2914b-c1c3-4034-ac00-f4fb27948784",
   "metadata": {},
   "outputs": [],
   "source": [
    "# First, we need to convert R2t from Mpc to an angle, using the group's heliocentric velocity\n",
    "R2t_a262_angle = (R2t_a262/(V_a262/H0))*u.radian"
   ]
  },
  {
   "cell_type": "code",
   "execution_count": 115,
   "id": "f98c80fc-8b20-441c-9692-f88b6adec708",
   "metadata": {},
   "outputs": [],
   "source": [
    "a262_tf_coords = SkyCoord(drpall['objra'], drpall['objdec'], unit='deg')\n",
    "\n",
    "a262sep = a262_coords.separation(a262_tf_coords)"
   ]
  },
  {
   "cell_type": "code",
   "execution_count": 117,
   "id": "57dee5a1-2317-41b5-bd35-a6cf1266d7ff",
   "metadata": {},
   "outputs": [
    {
     "data": {
      "text/html": [
       "<div><i>Table length=0</i>\n",
       "<table id=\"table23455341467968\" class=\"table-striped table-bordered table-condensed\">\n",
       "<thead><tr><th>plate</th><th>ifudsgn</th><th>plateifu</th><th>mangaid</th><th>versdrp2</th><th>versdrp3</th><th>verscore</th><th>versutil</th><th>versprim</th><th>platetyp</th><th>srvymode</th><th>objra</th><th>objdec</th><th>ifuglon</th><th>ifuglat</th><th>ifura</th><th>ifudec</th><th>ebvgal</th><th>nexp</th><th>exptime</th><th>drp3qual</th><th>bluesn2</th><th>redsn2</th><th>harname</th><th>frlplug</th><th>cartid</th><th>designid</th><th>cenra</th><th>cendec</th><th>airmsmin</th><th>airmsmed</th><th>airmsmax</th><th>seemin</th><th>seemed</th><th>seemax</th><th>transmin</th><th>transmed</th><th>transmax</th><th>mjdmin</th><th>mjdmed</th><th>mjdmax</th><th>gfwhm</th><th>rfwhm</th><th>ifwhm</th><th>zfwhm</th><th>mngtarg1</th><th>mngtarg2</th><th>mngtarg3</th><th>catidnum</th><th>plttarg</th><th>manga_tileid</th><th>nsa_iauname</th><th>ifudesignsize</th><th>ifutargetsize</th><th>ifudesignwrongsize</th><th>z</th><th>zmin</th><th>zmax</th><th>szmin</th><th>szmax</th><th>ezmin</th><th>ezmax</th><th>probs</th><th>pweight</th><th>psweight</th><th>psrweight</th><th>sweight</th><th>srweight</th><th>eweight</th><th>esweight</th><th>esrweight</th><th>nsa_field</th><th>nsa_run</th><th>nsa_camcol</th><th>nsa_version</th><th>nsa_nsaid</th><th>nsa_nsaid_v1b</th><th>nsa_z</th><th>nsa_zdist</th><th>nsa_sersic_absmag [7]</th><th>nsa_elpetro_absmag [7]</th><th>nsa_elpetro_amivar [7]</th><th>nsa_sersic_mass</th><th>nsa_elpetro_mass</th><th>nsa_elpetro_ba</th><th>nsa_elpetro_phi</th><th>nsa_extinction [7]</th><th>nsa_elpetro_th50_r</th><th>nsa_petro_th50</th><th>nsa_petro_flux [7]</th><th>nsa_petro_flux_ivar [7]</th><th>nsa_elpetro_flux [7]</th><th>nsa_elpetro_flux_ivar [7]</th><th>nsa_sersic_ba</th><th>nsa_sersic_n</th><th>nsa_sersic_phi</th><th>nsa_sersic_th50</th><th>nsa_sersic_flux [7]</th><th>nsa_sersic_flux_ivar [7]</th></tr></thead>\n",
       "<thead><tr><th>int64</th><th>bytes32</th><th>bytes32</th><th>bytes32</th><th>bytes32</th><th>bytes32</th><th>bytes32</th><th>bytes32</th><th>bytes32</th><th>bytes32</th><th>bytes32</th><th>float64</th><th>float64</th><th>float64</th><th>float64</th><th>float64</th><th>float64</th><th>float64</th><th>int64</th><th>float64</th><th>int64</th><th>float64</th><th>float64</th><th>bytes53</th><th>int64</th><th>bytes32</th><th>int64</th><th>float64</th><th>float64</th><th>float64</th><th>float64</th><th>float64</th><th>float64</th><th>float64</th><th>float64</th><th>float64</th><th>float64</th><th>float64</th><th>int64</th><th>int64</th><th>int64</th><th>float64</th><th>float64</th><th>float64</th><th>float64</th><th>int64</th><th>int64</th><th>int64</th><th>int64</th><th>bytes32</th><th>int64</th><th>bytes19</th><th>int64</th><th>int64</th><th>int64</th><th>float64</th><th>float64</th><th>float64</th><th>float64</th><th>float64</th><th>float64</th><th>float64</th><th>float64</th><th>float64</th><th>float64</th><th>float64</th><th>float64</th><th>float64</th><th>float64</th><th>float64</th><th>float64</th><th>int64</th><th>int64</th><th>int64</th><th>bytes6</th><th>int64</th><th>int64</th><th>float64</th><th>float64</th><th>float64</th><th>float64</th><th>float64</th><th>float64</th><th>float64</th><th>float64</th><th>float64</th><th>float64</th><th>float64</th><th>float64</th><th>float64</th><th>float64</th><th>float64</th><th>float64</th><th>float64</th><th>float64</th><th>float64</th><th>float64</th><th>float64</th><th>float64</th></tr></thead>\n",
       "</table></div>"
      ],
      "text/plain": [
       "<Table length=0>\n",
       "plate ifudsgn plateifu ... nsa_sersic_flux [7] nsa_sersic_flux_ivar [7]\n",
       "int64 bytes32 bytes32  ...       float64               float64         \n",
       "----- ------- -------- ... ------------------- ------------------------"
      ]
     },
     "execution_count": 117,
     "metadata": {},
     "output_type": "execute_result"
    }
   ],
   "source": [
    "MaNGA_in_a2621 = (a262sep < 1.5*R2t_a262_angle) & (drpall['z']*c > V_a262 - 3*sigma_a262) & (drpall['z']*c < V_a262 + 3*sigma_a262)\n",
    "\n",
    "MaNGA_in_a2622 = (a262sep >= 1.5*R2t_a262_angle) & (a262sep < 3*R2t_a262_angle) & (drpall['z']*c > V_a262 - 2*sigma_a262) & (drpall['z']*c < V_a262 + 2*sigma_a262)\n",
    "\n",
    "MaNGA_in_a262 = MaNGA_in_a2621 | MaNGA_in_a2622\n",
    "\n",
    "################################################################################\n",
    "# Keep all instances of each SGA_ID that are within the Coma cluster\n",
    "#-------------------------------------------------------------------------------\n",
    "MaNGA_ID_in_a262 = np.unique(drpall['mangaid'][MaNGA_in_a262])\n",
    "\n",
    "idx_MaNGA_in_a262 = np.in1d(drpall['mangaid'], MaNGA_ID_in_a262)\n",
    "\n",
    "inA262_MaNGA_table = drpall[idx_MaNGA_in_a262]\n",
    "################################################################################\n",
    "\n",
    "inA262_MaNGA_table"
   ]
  },
  {
   "cell_type": "markdown",
   "id": "adf7c213-1ae2-49d1-a74b-6a6969c4d11e",
   "metadata": {},
   "source": [
    "## Abell 400"
   ]
  },
  {
   "cell_type": "code",
   "execution_count": 118,
   "id": "c1b42559-c203-4cd5-9d7f-bb04e9388661",
   "metadata": {},
   "outputs": [],
   "source": [
    "a400_nest = 201600\n",
    "\n",
    "a400_row_t3 = table3['Nest'] == a400_nest\n",
    "\n",
    "R2t_a400 = table3['R2t'][a400_row_t3][0]\n",
    "sigma_a400 = table3['sigP'][a400_row_t3][0]"
   ]
  },
  {
   "cell_type": "code",
   "execution_count": 119,
   "id": "9ebff233-88f8-4fcd-806c-2d24f3692d65",
   "metadata": {},
   "outputs": [],
   "source": [
    "a400_coords = SkyCoord(table3['SGLON'][a400_row_t3]*u.degree, \n",
    "                       table3['SGLAT'][a400_row_t3]*u.degree, \n",
    "                       frame='supergalactic')\n",
    "\n",
    "a400_group_coords = SkyCoord(table2['SGLON']*u.degree, \n",
    "                        table2['SGLAT']*u.degree, \n",
    "                        frame='supergalactic')\n",
    "\n",
    "idx, d2d, d3d = a400_coords.match_to_catalog_sky(a400_group_coords)\n",
    "\n",
    "V_a400 = table2['__HV_'][idx][0]"
   ]
  },
  {
   "cell_type": "code",
   "execution_count": 120,
   "id": "ebe6264f-fa55-4a3c-a756-9d5353059934",
   "metadata": {},
   "outputs": [],
   "source": [
    "# First, we need to convert R2t from Mpc to an angle, using the group's heliocentric velocity\n",
    "R2t_a400_angle = (R2t_a400/(V_a400/H0))*u.radian"
   ]
  },
  {
   "cell_type": "code",
   "execution_count": 121,
   "id": "a2464277-40da-4669-93da-7ef3bbf82709",
   "metadata": {},
   "outputs": [],
   "source": [
    "a400_tf_coords = SkyCoord(drpall['objra'], drpall['objdec'], unit='deg')\n",
    "\n",
    "a400sep = a400_coords.separation(a400_tf_coords)"
   ]
  },
  {
   "cell_type": "code",
   "execution_count": 122,
   "id": "48c17f27-3d8d-4ed1-a265-5119ba3015d4",
   "metadata": {},
   "outputs": [
    {
     "data": {
      "text/html": [
       "<div><i>Table length=0</i>\n",
       "<table id=\"table23455341618560\" class=\"table-striped table-bordered table-condensed\">\n",
       "<thead><tr><th>plate</th><th>ifudsgn</th><th>plateifu</th><th>mangaid</th><th>versdrp2</th><th>versdrp3</th><th>verscore</th><th>versutil</th><th>versprim</th><th>platetyp</th><th>srvymode</th><th>objra</th><th>objdec</th><th>ifuglon</th><th>ifuglat</th><th>ifura</th><th>ifudec</th><th>ebvgal</th><th>nexp</th><th>exptime</th><th>drp3qual</th><th>bluesn2</th><th>redsn2</th><th>harname</th><th>frlplug</th><th>cartid</th><th>designid</th><th>cenra</th><th>cendec</th><th>airmsmin</th><th>airmsmed</th><th>airmsmax</th><th>seemin</th><th>seemed</th><th>seemax</th><th>transmin</th><th>transmed</th><th>transmax</th><th>mjdmin</th><th>mjdmed</th><th>mjdmax</th><th>gfwhm</th><th>rfwhm</th><th>ifwhm</th><th>zfwhm</th><th>mngtarg1</th><th>mngtarg2</th><th>mngtarg3</th><th>catidnum</th><th>plttarg</th><th>manga_tileid</th><th>nsa_iauname</th><th>ifudesignsize</th><th>ifutargetsize</th><th>ifudesignwrongsize</th><th>z</th><th>zmin</th><th>zmax</th><th>szmin</th><th>szmax</th><th>ezmin</th><th>ezmax</th><th>probs</th><th>pweight</th><th>psweight</th><th>psrweight</th><th>sweight</th><th>srweight</th><th>eweight</th><th>esweight</th><th>esrweight</th><th>nsa_field</th><th>nsa_run</th><th>nsa_camcol</th><th>nsa_version</th><th>nsa_nsaid</th><th>nsa_nsaid_v1b</th><th>nsa_z</th><th>nsa_zdist</th><th>nsa_sersic_absmag [7]</th><th>nsa_elpetro_absmag [7]</th><th>nsa_elpetro_amivar [7]</th><th>nsa_sersic_mass</th><th>nsa_elpetro_mass</th><th>nsa_elpetro_ba</th><th>nsa_elpetro_phi</th><th>nsa_extinction [7]</th><th>nsa_elpetro_th50_r</th><th>nsa_petro_th50</th><th>nsa_petro_flux [7]</th><th>nsa_petro_flux_ivar [7]</th><th>nsa_elpetro_flux [7]</th><th>nsa_elpetro_flux_ivar [7]</th><th>nsa_sersic_ba</th><th>nsa_sersic_n</th><th>nsa_sersic_phi</th><th>nsa_sersic_th50</th><th>nsa_sersic_flux [7]</th><th>nsa_sersic_flux_ivar [7]</th></tr></thead>\n",
       "<thead><tr><th>int64</th><th>bytes32</th><th>bytes32</th><th>bytes32</th><th>bytes32</th><th>bytes32</th><th>bytes32</th><th>bytes32</th><th>bytes32</th><th>bytes32</th><th>bytes32</th><th>float64</th><th>float64</th><th>float64</th><th>float64</th><th>float64</th><th>float64</th><th>float64</th><th>int64</th><th>float64</th><th>int64</th><th>float64</th><th>float64</th><th>bytes53</th><th>int64</th><th>bytes32</th><th>int64</th><th>float64</th><th>float64</th><th>float64</th><th>float64</th><th>float64</th><th>float64</th><th>float64</th><th>float64</th><th>float64</th><th>float64</th><th>float64</th><th>int64</th><th>int64</th><th>int64</th><th>float64</th><th>float64</th><th>float64</th><th>float64</th><th>int64</th><th>int64</th><th>int64</th><th>int64</th><th>bytes32</th><th>int64</th><th>bytes19</th><th>int64</th><th>int64</th><th>int64</th><th>float64</th><th>float64</th><th>float64</th><th>float64</th><th>float64</th><th>float64</th><th>float64</th><th>float64</th><th>float64</th><th>float64</th><th>float64</th><th>float64</th><th>float64</th><th>float64</th><th>float64</th><th>float64</th><th>int64</th><th>int64</th><th>int64</th><th>bytes6</th><th>int64</th><th>int64</th><th>float64</th><th>float64</th><th>float64</th><th>float64</th><th>float64</th><th>float64</th><th>float64</th><th>float64</th><th>float64</th><th>float64</th><th>float64</th><th>float64</th><th>float64</th><th>float64</th><th>float64</th><th>float64</th><th>float64</th><th>float64</th><th>float64</th><th>float64</th><th>float64</th><th>float64</th></tr></thead>\n",
       "</table></div>"
      ],
      "text/plain": [
       "<Table length=0>\n",
       "plate ifudsgn plateifu ... nsa_sersic_flux [7] nsa_sersic_flux_ivar [7]\n",
       "int64 bytes32 bytes32  ...       float64               float64         \n",
       "----- ------- -------- ... ------------------- ------------------------"
      ]
     },
     "execution_count": 122,
     "metadata": {},
     "output_type": "execute_result"
    }
   ],
   "source": [
    "MaNGA_in_a4001 = (a400sep < 1.5*R2t_a400_angle) & (drpall['z']*c > V_a400 - 3*sigma_a400) & (drpall['z']*c < V_a400 + 3*sigma_a400)\n",
    "\n",
    "MaNGA_in_a4002 = (a400sep >= 1.5*R2t_a400_angle) & (a400sep < 3*R2t_a400_angle) & (drpall['z']*c > V_a400 - 2*sigma_a400) & (drpall['z']*c < V_a400 + 2*sigma_a400)\n",
    "\n",
    "MaNGA_in_a400 = MaNGA_in_a4001 | MaNGA_in_a4002\n",
    "\n",
    "################################################################################\n",
    "# Keep all instances of each SGA_ID that are within the Coma cluster\n",
    "#-------------------------------------------------------------------------------\n",
    "MaNGA_ID_in_a400 = np.unique(drpall['mangaid'][MaNGA_in_a400])\n",
    "\n",
    "idx_MaNGA_in_a400 = np.in1d(drpall['mangaid'], MaNGA_ID_in_a400)\n",
    "\n",
    "inA400_MaNGA_table = drpall[idx_MaNGA_in_a400]\n",
    "################################################################################\n",
    "\n",
    "inA400_MaNGA_table"
   ]
  },
  {
   "cell_type": "markdown",
   "id": "54a346de-5136-46e9-bf44-6bb56b98b9ef",
   "metadata": {},
   "source": [
    "## Fornax"
   ]
  },
  {
   "cell_type": "code",
   "execution_count": 128,
   "id": "0a81d90e-7608-4172-a6e7-572c6cd18440",
   "metadata": {},
   "outputs": [],
   "source": [
    "for_nest = 200015\n",
    "\n",
    "for_row_t3 = table3['Nest'] == for_nest\n",
    "\n",
    "R2t_for = table3['R2t'][for_row_t3][0]\n",
    "sigma_for = table3['sigP'][for_row_t3][0]"
   ]
  },
  {
   "cell_type": "code",
   "execution_count": 129,
   "id": "3ef4bf65-e99a-4726-a763-4d18c1881a90",
   "metadata": {},
   "outputs": [],
   "source": [
    "for_coords = SkyCoord(table3['SGLON'][for_row_t3]*u.degree, \n",
    "                       table3['SGLAT'][for_row_t3]*u.degree, \n",
    "                       frame='supergalactic')\n",
    "\n",
    "for_group_coords = SkyCoord(table2['SGLON']*u.degree, \n",
    "                        table2['SGLAT']*u.degree, \n",
    "                        frame='supergalactic')\n",
    "\n",
    "idx, d2d, d3d = for_coords.match_to_catalog_sky(for_group_coords)\n",
    "\n",
    "V_for = table2['__HV_'][idx][0]"
   ]
  },
  {
   "cell_type": "code",
   "execution_count": 130,
   "id": "0317971f-985e-4bae-b7e1-d9107d211c95",
   "metadata": {},
   "outputs": [],
   "source": [
    "# First, we need to convert R2t from Mpc to an angle, using the group's heliocentric velocity\n",
    "R2t_for_angle = (R2t_for/(V_for/H0))*u.radian"
   ]
  },
  {
   "cell_type": "code",
   "execution_count": 131,
   "id": "5b7136f1-e712-4ce9-8ce4-a05d272f25b1",
   "metadata": {},
   "outputs": [],
   "source": [
    "for_tf_coords = SkyCoord(drpall['objra'], drpall['objdec'], unit='deg')\n",
    "\n",
    "forsep = for_coords.separation(for_tf_coords)"
   ]
  },
  {
   "cell_type": "code",
   "execution_count": 132,
   "id": "f2f71fb3-ac89-4df8-9cea-a29de470ef3d",
   "metadata": {},
   "outputs": [
    {
     "data": {
      "text/html": [
       "<div><i>Table length=0</i>\n",
       "<table id=\"table23455341765296\" class=\"table-striped table-bordered table-condensed\">\n",
       "<thead><tr><th>plate</th><th>ifudsgn</th><th>plateifu</th><th>mangaid</th><th>versdrp2</th><th>versdrp3</th><th>verscore</th><th>versutil</th><th>versprim</th><th>platetyp</th><th>srvymode</th><th>objra</th><th>objdec</th><th>ifuglon</th><th>ifuglat</th><th>ifura</th><th>ifudec</th><th>ebvgal</th><th>nexp</th><th>exptime</th><th>drp3qual</th><th>bluesn2</th><th>redsn2</th><th>harname</th><th>frlplug</th><th>cartid</th><th>designid</th><th>cenra</th><th>cendec</th><th>airmsmin</th><th>airmsmed</th><th>airmsmax</th><th>seemin</th><th>seemed</th><th>seemax</th><th>transmin</th><th>transmed</th><th>transmax</th><th>mjdmin</th><th>mjdmed</th><th>mjdmax</th><th>gfwhm</th><th>rfwhm</th><th>ifwhm</th><th>zfwhm</th><th>mngtarg1</th><th>mngtarg2</th><th>mngtarg3</th><th>catidnum</th><th>plttarg</th><th>manga_tileid</th><th>nsa_iauname</th><th>ifudesignsize</th><th>ifutargetsize</th><th>ifudesignwrongsize</th><th>z</th><th>zmin</th><th>zmax</th><th>szmin</th><th>szmax</th><th>ezmin</th><th>ezmax</th><th>probs</th><th>pweight</th><th>psweight</th><th>psrweight</th><th>sweight</th><th>srweight</th><th>eweight</th><th>esweight</th><th>esrweight</th><th>nsa_field</th><th>nsa_run</th><th>nsa_camcol</th><th>nsa_version</th><th>nsa_nsaid</th><th>nsa_nsaid_v1b</th><th>nsa_z</th><th>nsa_zdist</th><th>nsa_sersic_absmag [7]</th><th>nsa_elpetro_absmag [7]</th><th>nsa_elpetro_amivar [7]</th><th>nsa_sersic_mass</th><th>nsa_elpetro_mass</th><th>nsa_elpetro_ba</th><th>nsa_elpetro_phi</th><th>nsa_extinction [7]</th><th>nsa_elpetro_th50_r</th><th>nsa_petro_th50</th><th>nsa_petro_flux [7]</th><th>nsa_petro_flux_ivar [7]</th><th>nsa_elpetro_flux [7]</th><th>nsa_elpetro_flux_ivar [7]</th><th>nsa_sersic_ba</th><th>nsa_sersic_n</th><th>nsa_sersic_phi</th><th>nsa_sersic_th50</th><th>nsa_sersic_flux [7]</th><th>nsa_sersic_flux_ivar [7]</th></tr></thead>\n",
       "<thead><tr><th>int64</th><th>bytes32</th><th>bytes32</th><th>bytes32</th><th>bytes32</th><th>bytes32</th><th>bytes32</th><th>bytes32</th><th>bytes32</th><th>bytes32</th><th>bytes32</th><th>float64</th><th>float64</th><th>float64</th><th>float64</th><th>float64</th><th>float64</th><th>float64</th><th>int64</th><th>float64</th><th>int64</th><th>float64</th><th>float64</th><th>bytes53</th><th>int64</th><th>bytes32</th><th>int64</th><th>float64</th><th>float64</th><th>float64</th><th>float64</th><th>float64</th><th>float64</th><th>float64</th><th>float64</th><th>float64</th><th>float64</th><th>float64</th><th>int64</th><th>int64</th><th>int64</th><th>float64</th><th>float64</th><th>float64</th><th>float64</th><th>int64</th><th>int64</th><th>int64</th><th>int64</th><th>bytes32</th><th>int64</th><th>bytes19</th><th>int64</th><th>int64</th><th>int64</th><th>float64</th><th>float64</th><th>float64</th><th>float64</th><th>float64</th><th>float64</th><th>float64</th><th>float64</th><th>float64</th><th>float64</th><th>float64</th><th>float64</th><th>float64</th><th>float64</th><th>float64</th><th>float64</th><th>int64</th><th>int64</th><th>int64</th><th>bytes6</th><th>int64</th><th>int64</th><th>float64</th><th>float64</th><th>float64</th><th>float64</th><th>float64</th><th>float64</th><th>float64</th><th>float64</th><th>float64</th><th>float64</th><th>float64</th><th>float64</th><th>float64</th><th>float64</th><th>float64</th><th>float64</th><th>float64</th><th>float64</th><th>float64</th><th>float64</th><th>float64</th><th>float64</th></tr></thead>\n",
       "</table></div>"
      ],
      "text/plain": [
       "<Table length=0>\n",
       "plate ifudsgn plateifu ... nsa_sersic_flux [7] nsa_sersic_flux_ivar [7]\n",
       "int64 bytes32 bytes32  ...       float64               float64         \n",
       "----- ------- -------- ... ------------------- ------------------------"
      ]
     },
     "execution_count": 132,
     "metadata": {},
     "output_type": "execute_result"
    }
   ],
   "source": [
    "MaNGA_in_for1 = (forsep < 1.5*R2t_for_angle) & (drpall['z']*c > V_for - 3*sigma_for) & (drpall['z']*c < V_for + 3*sigma_for)\n",
    "\n",
    "MaNGA_in_for2 = (forsep >= 1.5*R2t_for_angle) & (forsep < 3*R2t_for_angle) & (drpall['z']*c > V_for - 2*sigma_for) & (drpall['z']*c < V_for + 2*sigma_for)\n",
    "\n",
    "MaNGA_in_for = MaNGA_in_for1 | MaNGA_in_for2\n",
    "\n",
    "################################################################################\n",
    "# Keep all instances of each SGA_ID that are within the Coma cluster\n",
    "#-------------------------------------------------------------------------------\n",
    "MaNGA_ID_in_for = np.unique(drpall['mangaid'][MaNGA_in_for])\n",
    "\n",
    "idx_MaNGA_in_for = np.in1d(drpall['mangaid'], MaNGA_ID_in_for)\n",
    "\n",
    "inFornax_MaNGA_table = drpall[idx_MaNGA_in_for]\n",
    "################################################################################\n",
    "\n",
    "inFornax_MaNGA_table"
   ]
  },
  {
   "cell_type": "markdown",
   "id": "736f868b-b561-4bc8-b6c0-db4400ab1d59",
   "metadata": {},
   "source": [
    "## Antlia"
   ]
  },
  {
   "cell_type": "code",
   "execution_count": 133,
   "id": "c12e7a74-ad4b-4083-8868-11e5f5b4e0a0",
   "metadata": {},
   "outputs": [],
   "source": [
    "ant_nest = 100014\n",
    "\n",
    "ant_row_t3 = table3['Nest'] == ant_nest\n",
    "\n",
    "R2t_ant = table3['R2t'][ant_row_t3][0]\n",
    "sigma_ant = table3['sigP'][ant_row_t3][0]"
   ]
  },
  {
   "cell_type": "code",
   "execution_count": 134,
   "id": "86dfa519-4a38-445c-bb12-581558376e6c",
   "metadata": {},
   "outputs": [],
   "source": [
    "ant_coords = SkyCoord(table3['SGLON'][ant_row_t3]*u.degree, \n",
    "                       table3['SGLAT'][ant_row_t3]*u.degree, \n",
    "                       frame='supergalactic')\n",
    "\n",
    "ant_group_coords = SkyCoord(table2['SGLON']*u.degree, \n",
    "                        table2['SGLAT']*u.degree, \n",
    "                        frame='supergalactic')\n",
    "\n",
    "idx, d2d, d3d = ant_coords.match_to_catalog_sky(ant_group_coords)\n",
    "\n",
    "V_ant = table2['__HV_'][idx][0]"
   ]
  },
  {
   "cell_type": "code",
   "execution_count": 135,
   "id": "048f1f90-30fd-474b-9c54-d65b02066ad5",
   "metadata": {},
   "outputs": [],
   "source": [
    "# First, we need to convert R2t from Mpc to an angle, using the group's heliocentric velocity\n",
    "R2t_ant_angle = (R2t_ant/(V_ant/H0))*u.radian"
   ]
  },
  {
   "cell_type": "code",
   "execution_count": 136,
   "id": "511828a4-0353-4e6b-ab72-dfaac56bf38b",
   "metadata": {},
   "outputs": [],
   "source": [
    "ant_tf_coords = SkyCoord(drpall['objra'], drpall['objdec'], unit='deg')\n",
    "\n",
    "antsep = ant_coords.separation(ant_tf_coords)"
   ]
  },
  {
   "cell_type": "code",
   "execution_count": 137,
   "id": "6493bc26-5f36-4de2-934e-1980747fd6df",
   "metadata": {},
   "outputs": [
    {
     "data": {
      "text/html": [
       "<div><i>Table length=0</i>\n",
       "<table id=\"table23455341617936\" class=\"table-striped table-bordered table-condensed\">\n",
       "<thead><tr><th>plate</th><th>ifudsgn</th><th>plateifu</th><th>mangaid</th><th>versdrp2</th><th>versdrp3</th><th>verscore</th><th>versutil</th><th>versprim</th><th>platetyp</th><th>srvymode</th><th>objra</th><th>objdec</th><th>ifuglon</th><th>ifuglat</th><th>ifura</th><th>ifudec</th><th>ebvgal</th><th>nexp</th><th>exptime</th><th>drp3qual</th><th>bluesn2</th><th>redsn2</th><th>harname</th><th>frlplug</th><th>cartid</th><th>designid</th><th>cenra</th><th>cendec</th><th>airmsmin</th><th>airmsmed</th><th>airmsmax</th><th>seemin</th><th>seemed</th><th>seemax</th><th>transmin</th><th>transmed</th><th>transmax</th><th>mjdmin</th><th>mjdmed</th><th>mjdmax</th><th>gfwhm</th><th>rfwhm</th><th>ifwhm</th><th>zfwhm</th><th>mngtarg1</th><th>mngtarg2</th><th>mngtarg3</th><th>catidnum</th><th>plttarg</th><th>manga_tileid</th><th>nsa_iauname</th><th>ifudesignsize</th><th>ifutargetsize</th><th>ifudesignwrongsize</th><th>z</th><th>zmin</th><th>zmax</th><th>szmin</th><th>szmax</th><th>ezmin</th><th>ezmax</th><th>probs</th><th>pweight</th><th>psweight</th><th>psrweight</th><th>sweight</th><th>srweight</th><th>eweight</th><th>esweight</th><th>esrweight</th><th>nsa_field</th><th>nsa_run</th><th>nsa_camcol</th><th>nsa_version</th><th>nsa_nsaid</th><th>nsa_nsaid_v1b</th><th>nsa_z</th><th>nsa_zdist</th><th>nsa_sersic_absmag [7]</th><th>nsa_elpetro_absmag [7]</th><th>nsa_elpetro_amivar [7]</th><th>nsa_sersic_mass</th><th>nsa_elpetro_mass</th><th>nsa_elpetro_ba</th><th>nsa_elpetro_phi</th><th>nsa_extinction [7]</th><th>nsa_elpetro_th50_r</th><th>nsa_petro_th50</th><th>nsa_petro_flux [7]</th><th>nsa_petro_flux_ivar [7]</th><th>nsa_elpetro_flux [7]</th><th>nsa_elpetro_flux_ivar [7]</th><th>nsa_sersic_ba</th><th>nsa_sersic_n</th><th>nsa_sersic_phi</th><th>nsa_sersic_th50</th><th>nsa_sersic_flux [7]</th><th>nsa_sersic_flux_ivar [7]</th></tr></thead>\n",
       "<thead><tr><th>int64</th><th>bytes32</th><th>bytes32</th><th>bytes32</th><th>bytes32</th><th>bytes32</th><th>bytes32</th><th>bytes32</th><th>bytes32</th><th>bytes32</th><th>bytes32</th><th>float64</th><th>float64</th><th>float64</th><th>float64</th><th>float64</th><th>float64</th><th>float64</th><th>int64</th><th>float64</th><th>int64</th><th>float64</th><th>float64</th><th>bytes53</th><th>int64</th><th>bytes32</th><th>int64</th><th>float64</th><th>float64</th><th>float64</th><th>float64</th><th>float64</th><th>float64</th><th>float64</th><th>float64</th><th>float64</th><th>float64</th><th>float64</th><th>int64</th><th>int64</th><th>int64</th><th>float64</th><th>float64</th><th>float64</th><th>float64</th><th>int64</th><th>int64</th><th>int64</th><th>int64</th><th>bytes32</th><th>int64</th><th>bytes19</th><th>int64</th><th>int64</th><th>int64</th><th>float64</th><th>float64</th><th>float64</th><th>float64</th><th>float64</th><th>float64</th><th>float64</th><th>float64</th><th>float64</th><th>float64</th><th>float64</th><th>float64</th><th>float64</th><th>float64</th><th>float64</th><th>float64</th><th>int64</th><th>int64</th><th>int64</th><th>bytes6</th><th>int64</th><th>int64</th><th>float64</th><th>float64</th><th>float64</th><th>float64</th><th>float64</th><th>float64</th><th>float64</th><th>float64</th><th>float64</th><th>float64</th><th>float64</th><th>float64</th><th>float64</th><th>float64</th><th>float64</th><th>float64</th><th>float64</th><th>float64</th><th>float64</th><th>float64</th><th>float64</th><th>float64</th></tr></thead>\n",
       "</table></div>"
      ],
      "text/plain": [
       "<Table length=0>\n",
       "plate ifudsgn plateifu ... nsa_sersic_flux [7] nsa_sersic_flux_ivar [7]\n",
       "int64 bytes32 bytes32  ...       float64               float64         \n",
       "----- ------- -------- ... ------------------- ------------------------"
      ]
     },
     "execution_count": 137,
     "metadata": {},
     "output_type": "execute_result"
    }
   ],
   "source": [
    "MaNGA_in_ant1 = (antsep < 1.5*R2t_ant_angle) & (drpall['z']*c > V_ant - 3*sigma_ant) & (drpall['z']*c < V_ant + 3*sigma_ant)\n",
    "\n",
    "MaNGA_in_ant2 = (antsep >= 1.5*R2t_ant_angle) & (antsep < 3*R2t_ant_angle) & (drpall['z']*c > V_ant - 2*sigma_ant) & (drpall['z']*c < V_ant + 2*sigma_ant)\n",
    "\n",
    "MaNGA_in_ant = MaNGA_in_ant1 | MaNGA_in_ant2\n",
    "\n",
    "################################################################################\n",
    "# Keep all instances of each SGA_ID that are within the Coma cluster\n",
    "#-------------------------------------------------------------------------------\n",
    "MaNGA_ID_in_ant = np.unique(drpall['mangaid'][MaNGA_in_ant])\n",
    "\n",
    "idx_MaNGA_in_ant = np.in1d(drpall['mangaid'], MaNGA_ID_in_ant)\n",
    "\n",
    "inAntlia_MaNGA_table = drpall[idx_MaNGA_in_ant]\n",
    "################################################################################\n",
    "\n",
    "inAntlia_MaNGA_table"
   ]
  },
  {
   "cell_type": "code",
   "execution_count": null,
   "id": "13d8e323-2e58-45b1-9e9d-2b4f18b1cbbf",
   "metadata": {},
   "outputs": [],
   "source": []
  }
 ],
 "metadata": {
  "kernelspec": {
   "display_name": "DESI main",
   "language": "python",
   "name": "desi-main"
  },
  "language_info": {
   "codemirror_mode": {
    "name": "ipython",
    "version": 3
   },
   "file_extension": ".py",
   "mimetype": "text/x-python",
   "name": "python",
   "nbconvert_exporter": "python",
   "pygments_lexer": "ipython3",
   "version": "3.10.8"
  }
 },
 "nbformat": 4,
 "nbformat_minor": 5
}
