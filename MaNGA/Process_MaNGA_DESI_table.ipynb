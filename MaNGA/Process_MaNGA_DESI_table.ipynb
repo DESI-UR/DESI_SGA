{
 "cells": [
  {
   "cell_type": "markdown",
   "id": "3545d0ba",
   "metadata": {},
   "source": [
    "This notebook is mainly a notebook to process the list of galaxies in `MaNGA_DESI.txt` from Grace Chiodo (Summer 2021 REU).  This file contains a list of all the MaNGA galaxies that currently have at least two different DESI observations."
   ]
  },
  {
   "cell_type": "code",
   "execution_count": 12,
   "id": "64fd76e4",
   "metadata": {},
   "outputs": [],
   "source": [
    "from astropy.table import Table\n",
    "from astropy.io import fits\n",
    "\n",
    "import numpy as np"
   ]
  },
  {
   "cell_type": "markdown",
   "id": "43c780dd",
   "metadata": {},
   "source": [
    "# Read in data"
   ]
  },
  {
   "cell_type": "code",
   "execution_count": 15,
   "id": "cdf1b242",
   "metadata": {},
   "outputs": [],
   "source": [
    "#Grace_filename = '../MaNGA_DESI.txt'\n",
    "Grace_filename = '../MaNGA_SGA_crossmatch.txt'\n",
    "\n",
    "Grace_table = Table.read(Grace_filename, format='ascii.commented_header')"
   ]
  },
  {
   "cell_type": "markdown",
   "id": "5b77bd76",
   "metadata": {},
   "source": [
    "# Merge together the plate and IFU columns to create a `plateifu` column"
   ]
  },
  {
   "cell_type": "code",
   "execution_count": 16,
   "id": "7b81c431",
   "metadata": {},
   "outputs": [],
   "source": [
    "Grace_table['plateifu'] = '           '\n",
    "\n",
    "for i in range(len(Grace_table)):\n",
    "    Grace_table['plateifu'][i] = str(Grace_table['MaNGA_plate'][i]) + '-' + str(Grace_table['MaNGA_IFU'][i])"
   ]
  },
  {
   "cell_type": "markdown",
   "id": "4faab58c",
   "metadata": {},
   "source": [
    "# Remove duplicates\n",
    "\n",
    "Remove all duplicate galaxies from the table."
   ]
  },
  {
   "cell_type": "code",
   "execution_count": 17,
   "id": "45c4bf7f",
   "metadata": {},
   "outputs": [],
   "source": [
    "unique_ids, idx = np.unique(Grace_table['plateifu'], return_index=True)\n",
    "\n",
    "galaxies_table = Grace_table[idx]"
   ]
  },
  {
   "cell_type": "code",
   "execution_count": 18,
   "id": "e94d12ce",
   "metadata": {},
   "outputs": [],
   "source": [
    "galaxies_table.write('../MaNGA_DESI_galaxies_08042021.txt', format='ascii.commented_header')"
   ]
  },
  {
   "cell_type": "code",
   "execution_count": null,
   "id": "e8779778",
   "metadata": {},
   "outputs": [],
   "source": []
  }
 ],
 "metadata": {
  "kernelspec": {
   "display_name": "DESI main",
   "language": "python",
   "name": "desi-main"
  },
  "language_info": {
   "codemirror_mode": {
    "name": "ipython",
    "version": 3
   },
   "file_extension": ".py",
   "mimetype": "text/x-python",
   "name": "python",
   "nbconvert_exporter": "python",
   "pygments_lexer": "ipython3",
   "version": "3.10.8"
  }
 },
 "nbformat": 4,
 "nbformat_minor": 5
}
