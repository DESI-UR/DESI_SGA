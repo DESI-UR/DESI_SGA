{
 "cells": [
  {
   "cell_type": "markdown",
   "id": "6697219a-5af6-4755-8925-2c42ce1c407b",
   "metadata": {},
   "source": [
    "How well do our observations at 0.33$R_{26}$ / 0.4$R_{26}$ match MaNGA's observations at the same radius?  And how well do our velocities observed at these radii reproduce the asymptotic rotational velocity?"
   ]
  },
  {
   "cell_type": "code",
   "execution_count": 1,
   "id": "f6c3deb9-820f-47f6-8f4d-7008654186e3",
   "metadata": {},
   "outputs": [],
   "source": [
    "import numpy as np\n",
    "import numpy.ma as ma\n",
    "\n",
    "from astropy.table import Table\n",
    "from astropy.coordinates import SkyCoord\n",
    "import astropy.constants as const\n",
    "import astropy.units as u\n",
    "from astropy.io import fits\n",
    "from astropy import wcs\n",
    "\n",
    "import scipy.stats as stats\n",
    "\n",
    "import os\n",
    "\n",
    "import sys\n",
    "sys.path.insert(1, '/global/homes/k/kadglass/RotationCurves/spirals/')\n",
    "from dark_matter_mass_v1 import rot_fit_BB\n",
    "\n",
    "import matplotlib as mpl\n",
    "import matplotlib.pyplot as plt"
   ]
  },
  {
   "cell_type": "code",
   "execution_count": 2,
   "id": "1d6c8955-2f5a-41d9-a308-d653185166c2",
   "metadata": {},
   "outputs": [],
   "source": [
    "mpl.rc('font', size=12)\n",
    "\n",
    "plt.rcParams['font.family'] = 'serif'\n",
    "plt.rcParams['font.serif'] = ['Times New Roman'] + plt.rcParams['font.serif']"
   ]
  },
  {
   "cell_type": "code",
   "execution_count": 3,
   "id": "7d543f83-5977-4406-b6d1-bf135cb4271a",
   "metadata": {},
   "outputs": [],
   "source": [
    "h = 1\n",
    "H0 = 100*h*u.km/u.s/u.Mpc\n",
    "\n",
    "c = const.c.to('km/s')\n",
    "\n",
    "q0 = 0.2\n",
    "\n",
    "MANGA_SPAXEL_SIZE = 0.5*u.arcsec"
   ]
  },
  {
   "cell_type": "markdown",
   "id": "d8ad6eca-2c59-4cd1-9069-a782b1033d75",
   "metadata": {
    "tags": []
   },
   "source": [
    "# Import data"
   ]
  },
  {
   "cell_type": "code",
   "execution_count": 4,
   "id": "20c85758-405e-4e35-8f64-62681d583bba",
   "metadata": {},
   "outputs": [],
   "source": [
    "file_prefix = '/global/project/' # Cori\n",
    "#file_prefix = '/global/cfs/' # Perlmutter"
   ]
  },
  {
   "cell_type": "markdown",
   "id": "af01e484-9019-4ec1-a20e-8e6d60e3a47d",
   "metadata": {},
   "source": [
    "## DESI"
   ]
  },
  {
   "cell_type": "code",
   "execution_count": 5,
   "id": "6b1100fc-4eeb-4ac9-8b46-227fa58ecf00",
   "metadata": {},
   "outputs": [],
   "source": [
    "tf_targets = Table.read(file_prefix + 'projectdirs/desi/science/td/pv/desi_pv_tf_fuji_healpix.fits')"
   ]
  },
  {
   "cell_type": "markdown",
   "id": "a4865b6b-6c0d-4ba2-b1fa-052604c0bfe6",
   "metadata": {},
   "source": [
    "## SGA"
   ]
  },
  {
   "cell_type": "code",
   "execution_count": 6,
   "id": "86bbc48f-2b59-469b-998f-962b53bc0840",
   "metadata": {},
   "outputs": [],
   "source": [
    "SGA = Table.read('/global/cfs/cdirs/cosmo/data/sga/2020/SGA-2020.fits', 'ELLIPSE')"
   ]
  },
  {
   "cell_type": "code",
   "execution_count": 7,
   "id": "67bb069d-f501-48a2-8150-a6d886fb25f3",
   "metadata": {},
   "outputs": [],
   "source": [
    "SGA_dict = {}\n",
    "\n",
    "for i in range(len(SGA)):\n",
    "    \n",
    "    SGA_dict[SGA['SGA_ID'][i]] = i"
   ]
  },
  {
   "cell_type": "markdown",
   "id": "8204cb33-f8a2-43f5-b1e9-ae2aa318dca7",
   "metadata": {},
   "source": [
    "## SDSS MaNGA cross-match file\n",
    "\n",
    "Made by Grace Chiodo in Summer 2021, using SDSS MaNGA DR15."
   ]
  },
  {
   "cell_type": "code",
   "execution_count": 8,
   "id": "f2538490-64d5-47f2-b4a2-f27f55bdb9a6",
   "metadata": {},
   "outputs": [
    {
     "data": {
      "text/html": [
       "<div><i>Table length=5</i>\n",
       "<table id=\"table23453836264160\" class=\"table-striped table-bordered table-condensed\">\n",
       "<thead><tr><th>MaNGA_plate</th><th>MaNGA_IFU</th><th>sga_id</th><th>BA</th><th>PA</th><th>plateifu</th></tr></thead>\n",
       "<thead><tr><th>int64</th><th>int64</th><th>int64</th><th>float64</th><th>float64</th><th>str10</th></tr></thead>\n",
       "<tr><td>7968</td><td>3702</td><td>97758</td><td>0.3215293288230896</td><td>159.22218322753906</td><td>7968-3702</td></tr>\n",
       "<tr><td>8479</td><td>6101</td><td>433955</td><td>0.32715362310409546</td><td>54.33457565307617</td><td>8479-6101</td></tr>\n",
       "<tr><td>8479</td><td>6102</td><td>487085</td><td>0.5813088417053223</td><td>1.3182913064956665</td><td>8479-6102</td></tr>\n",
       "<tr><td>8480</td><td>6103</td><td>487085</td><td>0.5813088417053223</td><td>1.3182913064956665</td><td>8480-6103</td></tr>\n",
       "<tr><td>8481</td><td>12705</td><td>810971</td><td>0.268082857131958</td><td>56.5462760925293</td><td>8481-12705</td></tr>\n",
       "</table></div>"
      ],
      "text/plain": [
       "<Table length=5>\n",
       "MaNGA_plate MaNGA_IFU sga_id          BA                 PA          plateifu \n",
       "   int64      int64   int64        float64            float64         str10   \n",
       "----------- --------- ------ ------------------- ------------------ ----------\n",
       "       7968      3702  97758  0.3215293288230896 159.22218322753906  7968-3702\n",
       "       8479      6101 433955 0.32715362310409546  54.33457565307617  8479-6101\n",
       "       8479      6102 487085  0.5813088417053223 1.3182913064956665  8479-6102\n",
       "       8480      6103 487085  0.5813088417053223 1.3182913064956665  8480-6103\n",
       "       8481     12705 810971   0.268082857131958   56.5462760925293 8481-12705"
      ]
     },
     "execution_count": 8,
     "metadata": {},
     "output_type": "execute_result"
    }
   ],
   "source": [
    "SGA_MaNGA = Table.read('MaNGA_DESI_galaxies_08042021.txt', format='ascii.commented_header')\n",
    "\n",
    "SGA_MaNGA[:5]"
   ]
  },
  {
   "cell_type": "markdown",
   "id": "6074d719-5c16-47c2-8f60-214c071dbe53",
   "metadata": {},
   "source": [
    "## SDSS MaNGA best-fits\n",
    "\n",
    "From Douglass & Demina (2022)"
   ]
  },
  {
   "cell_type": "code",
   "execution_count": 9,
   "id": "d3e95c53-8853-4e7d-b57f-efa94873b661",
   "metadata": {},
   "outputs": [],
   "source": [
    "#MaNGA_fits = Table.read('DESI_vel_map_results_BB_smooth_lt_1p85_v2.txt', \n",
    "MaNGA_fits = Table.read('DRP-master_file_vflag_BB_smooth1p85_mapFit_N2O2_HIdr2_morph_SK_H2_noWords_v7.txt', \n",
    "                        format='ascii.commented_header')"
   ]
  },
  {
   "cell_type": "markdown",
   "id": "0ae3cad1-3b64-44fd-91f4-bd8aa7a3581a",
   "metadata": {
    "tags": []
   },
   "source": [
    "# Compare DESI's observed rotational velocities at 0.33$R_{26}$ with $V_{max}$ from the best-fit to MaNGA"
   ]
  },
  {
   "cell_type": "markdown",
   "id": "59cb79cc-4b26-40fd-a117-077380cc06af",
   "metadata": {
    "tags": []
   },
   "source": [
    "## 1) Calculate the rotational velocities for the DESI galaxies"
   ]
  },
  {
   "cell_type": "markdown",
   "id": "d1cf249d-346e-488a-9156-e19cbf1ae61f",
   "metadata": {
    "tags": []
   },
   "source": [
    "### Separate the fuji data into center and off-center observations"
   ]
  },
  {
   "cell_type": "code",
   "execution_count": 10,
   "id": "8725c081-d007-4f5c-9eba-c7b627d22bca",
   "metadata": {},
   "outputs": [],
   "source": [
    "def firstdigit(n):\n",
    "    \"\"\"\n",
    "    Return the first digit of a number.\n",
    "    \n",
    "    Parameters\n",
    "    ----------\n",
    "    n : int, float, or ndarray\n",
    "        Number or list of numbers.\n",
    "    \n",
    "    Returns\n",
    "    -------\n",
    "    digit : int\n",
    "        First digit of the number.\n",
    "    \"\"\"\n",
    "    \n",
    "    digit = np.trunc(n * 10**(-np.trunc(np.log10(n)))).astype(int)\n",
    "    \n",
    "    return digit"
   ]
  },
  {
   "cell_type": "code",
   "execution_count": 11,
   "id": "28659bff-8a4d-49ec-ac4e-ed7d2357583d",
   "metadata": {},
   "outputs": [
    {
     "name": "stderr",
     "output_type": "stream",
     "text": [
      "/tmp/ipykernel_36062/917620242.py:16: RuntimeWarning: invalid value encountered in log10\n",
      "  digit = np.trunc(n * 10**(-np.trunc(np.log10(n)))).astype(int)\n"
     ]
    }
   ],
   "source": [
    "first_digits = firstdigit(tf_targets['TARGETID'])\n",
    "\n",
    "centers = tf_targets[first_digits == 3]\n",
    "axis = tf_targets[first_digits != 3]"
   ]
  },
  {
   "cell_type": "markdown",
   "id": "3244c2c8-5c36-4f56-ba60-0c290a9b2ac4",
   "metadata": {
    "tags": []
   },
   "source": [
    "### Clean the fuji center observations\n",
    "\n",
    "Only keep those with\n",
    " * DELTACHI2 > 25\n",
    " * ZWARN == 0"
   ]
  },
  {
   "cell_type": "code",
   "execution_count": 12,
   "id": "4ce43841-f066-4fa5-843f-106b5d875d8a",
   "metadata": {},
   "outputs": [],
   "source": [
    "good_centers = centers[(centers['DELTACHI2'] > 25) & (centers['ZWARN'] == 0)]"
   ]
  },
  {
   "cell_type": "markdown",
   "id": "c10ec89d-6648-44de-b4f1-3bca9d841314",
   "metadata": {
    "tags": []
   },
   "source": [
    "### If an SGA galaxy has at least one observation at its center, set the redshift of that galaxy"
   ]
  },
  {
   "cell_type": "code",
   "execution_count": 13,
   "id": "24d6bc66-74f3-4f20-bbde-45155fddc143",
   "metadata": {},
   "outputs": [],
   "source": [
    "SGA['Z_DESI'] = np.nan\n",
    "SGA['ZERR_DESI'] = np.nan\n",
    "\n",
    "for sga_id in np.unique(good_centers['SGA_ID']):\n",
    "    \n",
    "    # Find the row in SGA for this galaxy\n",
    "    SGA_idx = SGA_dict[sga_id]\n",
    "    \n",
    "    # Set the redshift of this galaxy to be the average redshift of all good center observations\n",
    "    SGA['Z_DESI'][SGA_idx] = np.mean(good_centers['Z'][good_centers['SGA_ID'] == sga_id])\n",
    "    SGA['ZERR_DESI'][SGA_idx] = np.mean(good_centers['ZERR'][good_centers['SGA_ID'] == sga_id]**2)/np.sum(good_centers['SGA_ID'] == sga_id)"
   ]
  },
  {
   "cell_type": "code",
   "execution_count": 14,
   "id": "5499517f-7fc3-4ea3-8adf-810044b6e504",
   "metadata": {},
   "outputs": [],
   "source": [
    "SGA_MaNGA['Z_DESI'] = np.nan\n",
    "SGA_MaNGA['ZERR_DESI'] = np.nan\n",
    "\n",
    "for i in range(len(SGA_MaNGA)):\n",
    "    \n",
    "    # Find the row in SGA for this galaxy\n",
    "    SGA_idx = SGA_dict[SGA_MaNGA['sga_id'][i]]\n",
    "    \n",
    "    # Set the redshift of this galaxy\n",
    "    SGA_MaNGA['Z_DESI'][i] = SGA['Z_DESI'][SGA_idx]\n",
    "    SGA_MaNGA['ZERR_DESI'][i] = SGA['ZERR_DESI'][SGA_idx]"
   ]
  },
  {
   "cell_type": "markdown",
   "id": "42fec531-3916-4607-b882-0eae06cd0751",
   "metadata": {},
   "source": [
    "### Calculate the rotational velocity"
   ]
  },
  {
   "cell_type": "code",
   "execution_count": 15,
   "id": "7e2e41e8-06e5-4c34-890d-2239c2891842",
   "metadata": {},
   "outputs": [
    {
     "name": "stderr",
     "output_type": "stream",
     "text": [
      "/tmp/ipykernel_36062/2809901910.py:56: RuntimeWarning: divide by zero encountered in true_divide\n",
      "  axis['V_ROT'][obs_idx] /= np.sin(np.arccos(np.sqrt(cosi2)))\n"
     ]
    }
   ],
   "source": [
    "axis['SKY_FIBER_DIST'] = 0.\n",
    "axis['SKY_FIBER_DIST_R26'] = 0.\n",
    "axis['V_ROT'] = np.nan\n",
    "axis['V_ROT_ERR'] = np.nan\n",
    "\n",
    "\n",
    "# For each SGA galaxy that has at least one center observation, calculate the \n",
    "# distance for all of that galaxy's targets\n",
    "for sga_gal in np.unique(centers['SGA_ID']):\n",
    "    \n",
    "    # Identify all galaxy targets on this galaxy\n",
    "    obs_idx = axis['SGA_ID'] == sga_gal\n",
    "    \n",
    "    # Find galaxy index in SGA catalog\n",
    "    sga_idx = SGA_dict[sga_gal]\n",
    "    \n",
    "    #---------------------------------------------------------------------------\n",
    "    # Calculate distance between each observation and the center\n",
    "    #---------------------------------------------------------------------------\n",
    "    center_coords = SkyCoord(ra=SGA['RA'][sga_idx], \n",
    "                             dec=SGA['DEC'][sga_idx], \n",
    "                             unit=u.degree)\n",
    "    target_coords = SkyCoord(ra=axis['RA'][obs_idx], \n",
    "                             dec=axis['DEC'][obs_idx], \n",
    "                             unit=u.degree)\n",
    "    \n",
    "    sep2d = target_coords.separation(center_coords)\n",
    "    \n",
    "    axis['SKY_FIBER_DIST'][obs_idx] = sep2d.to('radian')\n",
    "    axis['SKY_FIBER_DIST_R26'][obs_idx] = 2*sep2d.to('arcmin')/(SGA['D26'][sga_idx]*u.arcmin)\n",
    "    #---------------------------------------------------------------------------\n",
    "    \n",
    "    \n",
    "    #---------------------------------------------------------------------------\n",
    "    # Calculate rotational velocity\n",
    "    #---------------------------------------------------------------------------\n",
    "    # Use the average redshift of all center observations for the systemic velocity\n",
    "    z_center = np.mean(SGA['Z_DESI'][sga_idx])\n",
    "    z_err_center2 = SGA['ZERR_DESI'][sga_idx]**2\n",
    "\n",
    "    # Calculate rotational velocity for all observations of the galaxy\n",
    "    axis['V_ROT'][obs_idx] = c*(axis['Z'][obs_idx] - z_center)\n",
    "    axis['V_ROT_ERR'][obs_idx] = c*np.sqrt(axis['ZERR'][obs_idx]**2 + z_err_center2)\n",
    "    #---------------------------------------------------------------------------\n",
    "    \n",
    "    \n",
    "    #---------------------------------------------------------------------------\n",
    "    # Correct rotational velocities for inclination angle\n",
    "    #---------------------------------------------------------------------------\n",
    "    cosi2 = (SGA['BA'][sga_idx]**2 - q0**2)/(1 - q0**2)\n",
    "    \n",
    "    # Galaxies with b/a < q0\n",
    "    if cosi2 < 0:\n",
    "        cosi2 = 0\n",
    "    \n",
    "    axis['V_ROT'][obs_idx] /= np.sin(np.arccos(np.sqrt(cosi2)))\n",
    "    #---------------------------------------------------------------------------"
   ]
  },
  {
   "cell_type": "markdown",
   "id": "8d6b63ce-f7e3-4f3e-95cc-e8eee98fed90",
   "metadata": {},
   "source": [
    "### Just keep those velocities measured at 0.33$R_{26}$"
   ]
  },
  {
   "cell_type": "code",
   "execution_count": 16,
   "id": "dfd7334a-9cc1-4d09-a661-9cdbed224639",
   "metadata": {},
   "outputs": [],
   "source": [
    "axis_0p3 = axis[(axis['SKY_FIBER_DIST_R26'] > 0.3) & (axis['SKY_FIBER_DIST_R26'] < 0.4)]"
   ]
  },
  {
   "cell_type": "markdown",
   "id": "1b7fe531-6c96-48e7-8d2a-9c92a1a6b998",
   "metadata": {},
   "source": [
    "### Remove \"bad\" galaxies\n",
    "\n",
    "Those with\n",
    "* $V > 1000$ km/s"
   ]
  },
  {
   "cell_type": "code",
   "execution_count": 17,
   "id": "b0a8e5bb-5764-4af6-9146-feb82010ef11",
   "metadata": {},
   "outputs": [],
   "source": [
    "axis_0p3_good = axis_0p3[np.abs(axis_0p3['V_ROT']) < 1000]"
   ]
  },
  {
   "cell_type": "markdown",
   "id": "1b394f73-4f7f-405a-a44e-75ebc744546a",
   "metadata": {},
   "source": [
    "### Add these velocities to the SDSS MaNGA - SGA cross-match file"
   ]
  },
  {
   "cell_type": "code",
   "execution_count": 18,
   "id": "2b6ec8e4-3174-471f-bd58-a05b5d6cd74b",
   "metadata": {},
   "outputs": [],
   "source": [
    "SGA_MaNGA['V_0p33R26'] = np.nan\n",
    "SGA_MaNGA['V_0p33R26_ERR'] = np.nan\n",
    "\n",
    "SGA_MaNGA['SKY_FIBER_DIST'] = np.nan\n",
    "\n",
    "weights = 1./(axis_0p3_good['V_ROT_ERR']**2)\n",
    "\n",
    "for i in range(len(SGA_MaNGA)):\n",
    "    \n",
    "    # Does this galaxy have any observations?\n",
    "    i_obs = axis_0p3_good['SGA_ID'] == SGA_MaNGA['sga_id'][i]\n",
    "    \n",
    "    if np.sum(i_obs) > 0:\n",
    "        \n",
    "        # Average all velocities at this radius\n",
    "        SGA_MaNGA['V_0p33R26'][i] = np.average(np.abs(axis_0p3_good['V_ROT'][i_obs]), \n",
    "                                               weights=weights[i_obs])\n",
    "        SGA_MaNGA['V_0p33R26_ERR'][i] = np.sqrt(1./np.sum(weights[i_obs]))\n",
    "        \n",
    "        # Copy over the distance from the center for this observation\n",
    "        SGA_MaNGA['SKY_FIBER_DIST'][i] = np.average(axis_0p3_good['SKY_FIBER_DIST'][i_obs])"
   ]
  },
  {
   "cell_type": "code",
   "execution_count": 19,
   "id": "0a1ff4d1-43c9-4490-8713-c939cb81c873",
   "metadata": {
    "tags": []
   },
   "outputs": [
    {
     "data": {
      "text/html": [
       "<i>Table length=50</i>\n",
       "<table id=\"table23453576850640-761834\" class=\"table-striped table-bordered table-condensed\">\n",
       "<thead><tr><th>idx</th><th>MaNGA_plate</th><th>MaNGA_IFU</th><th>sga_id</th><th>BA</th><th>PA</th><th>plateifu</th><th>Z_DESI</th><th>ZERR_DESI</th><th>V_0p33R26</th><th>V_0p33R26_ERR</th><th>SKY_FIBER_DIST</th></tr></thead>\n",
       "<tr><td>0</td><td>8479</td><td>6102</td><td>487085</td><td>0.5813088417053223</td><td>1.3182913064956665</td><td>8479-6102</td><td>0.0781894572006586</td><td>4.128757013734015e-10</td><td>223.95494076075573</td><td>8.795513663749514</td><td>3.229689275391676e-05</td></tr>\n",
       "<tr><td>1</td><td>8480</td><td>6103</td><td>487085</td><td>0.5813088417053223</td><td>1.3182913064956665</td><td>8480-6103</td><td>0.0781894572006586</td><td>4.128757013734015e-10</td><td>223.95494076075573</td><td>8.795513663749514</td><td>3.229689275391676e-05</td></tr>\n",
       "<tr><td>2</td><td>8481</td><td>12705</td><td>810971</td><td>0.268082857131958</td><td>56.5462760925293</td><td>8481-12705</td><td>0.0429954501267412</td><td>1.4271031257383006e-11</td><td>143.9510078418774</td><td>2.215518265835735</td><td>3.892200047028368e-05</td></tr>\n",
       "<tr><td>3</td><td>8484</td><td>3701</td><td>302062</td><td>0.6225041747093201</td><td>119.090087890625</td><td>8484-3701</td><td>0.0330699912027746</td><td>1.6979658498427393e-11</td><td>109.17612316124635</td><td>2.1124446051803405</td><td>5.0312462183783855e-05</td></tr>\n",
       "<tr><td>4</td><td>8547</td><td>6102</td><td>925354</td><td>0.6025776267051697</td><td>146.05860900878906</td><td>8547-6102</td><td>0.0304755987259764</td><td>6.889141919295922e-12</td><td>205.77258114621176</td><td>1.5235238718905617</td><td>5.184274505357124e-05</td></tr>\n",
       "<tr><td>5</td><td>8547</td><td>6103</td><td>171058</td><td>0.5511276125907898</td><td>3.9989326000213623</td><td>8547-6103</td><td>0.0424646075925578</td><td>5.42803872635667e-11</td><td>138.28308158423158</td><td>0.4916285418325515</td><td>3.0965137475783706e-05</td></tr>\n",
       "<tr><td>6</td><td>8555</td><td>12703</td><td>127268</td><td>0.2092917561531067</td><td>143.2239532470703</td><td>8555-12703</td><td>0.058413206227691</td><td>4.1767742731339365e-10</td><td>210.96779881214266</td><td>2.332334252430736</td><td>4.551138894709631e-05</td></tr>\n",
       "<tr><td>7</td><td>8555</td><td>1902</td><td>575284</td><td>0.6609105467796326</td><td>106.39098358154297</td><td>8555-1902</td><td>0.0315230893119107</td><td>4.800313228036706e-10</td><td>137.07386885858102</td><td>4.085461504059483</td><td>2.6790624709163474e-05</td></tr>\n",
       "<tr><td>8</td><td>8555</td><td>9102</td><td>1285122</td><td>0.7685890793800354</td><td>107.45079040527344</td><td>8555-9102</td><td>0.0459386508726562</td><td>1.1505989957506619e-10</td><td>162.57738944564244</td><td>1.358729053158345</td><td>2.5798182956148833e-05</td></tr>\n",
       "<tr><td>9</td><td>8600</td><td>1901</td><td>186915</td><td>0.7746372222900391</td><td>129.28488159179688</td><td>8600-1901</td><td>0.0252226335677048</td><td>9.586277305922652e-13</td><td>166.8309402755933</td><td>1.5433379347652003</td><td>2.8018559064157407e-05</td></tr>\n",
       "<tr><td>10</td><td>8613</td><td>12701</td><td>364445</td><td>0.5546001195907593</td><td>15.079439163208008</td><td>8613-12701</td><td>0.0318285284405757</td><td>7.464989989727828e-12</td><td>190.84299693068257</td><td>0.9748842540993284</td><td>3.9781274492639675e-05</td></tr>\n",
       "<tr><td>11</td><td>8613</td><td>12702</td><td>1290113</td><td>0.37841910123825073</td><td>69.72722625732422</td><td>8613-12702</td><td>0.0317073732572345</td><td>2.6291363748762113e-10</td><td>194.64632224259776</td><td>1.9740805907865058</td><td>8.770370899698029e-05</td></tr>\n",
       "<tr><td>12</td><td>8931</td><td>1902</td><td>365429</td><td>0.58881676197052</td><td>34.866180419921875</td><td>8931-1902</td><td>0.0186870157715835</td><td>2.2293937626747607e-10</td><td>74.09037045217156</td><td>25.145092540617586</td><td>3.3471356581961175e-05</td></tr>\n",
       "<tr><td>13</td><td>8931</td><td>3702</td><td>191496</td><td>0.5117542743682861</td><td>169.60484313964844</td><td>8931-3702</td><td>0.0248133782264218</td><td>2.100769667704616e-10</td><td>147.22519986233158</td><td>12.432989344279202</td><td>3.329611658643073e-05</td></tr>\n",
       "<tr><td>14</td><td>8932</td><td>12701</td><td>819754</td><td>0.684948742389679</td><td>62.18381118774414</td><td>8932-12701</td><td>0.0250843060436296</td><td>8.528452101062892e-12</td><td>127.99601799665143</td><td>0.7873797035438239</td><td>5.403464087477001e-05</td></tr>\n",
       "<tr><td>15</td><td>8932</td><td>12702</td><td>100987</td><td>0.22466039657592773</td><td>114.50669860839844</td><td>8932-12702</td><td>0.0204938724052027</td><td>4.084315447280872e-11</td><td>120.90362737071462</td><td>11.112681870118244</td><td>7.681547834141546e-05</td></tr>\n",
       "<tr><td>16</td><td>8932</td><td>12705</td><td>629860</td><td>0.3804548978805542</td><td>53.43220520019531</td><td>8932-12705</td><td>0.027941605722086</td><td>6.253595062278087e-09</td><td>64.93353364408492</td><td>17.686703520142274</td><td>4.474388892237167e-05</td></tr>\n",
       "<tr><td>17</td><td>8932</td><td>3701</td><td>1204237</td><td>0.7244837880134583</td><td>13.08159351348877</td><td>8932-3701</td><td>0.0256124621148709</td><td>7.797676388665253e-13</td><td>119.33745140364951</td><td>0.2776280172613306</td><td>3.0848226448848625e-05</td></tr>\n",
       "<tr><td>18</td><td>8932</td><td>3703</td><td>1387991</td><td>0.3150583505630493</td><td>77.0833969116211</td><td>8932-3703</td><td>0.0212915823472822</td><td>2.8578734912674727e-10</td><td>84.84351469897763</td><td>9.022596951436883</td><td>3.520977228141714e-05</td></tr>\n",
       "<tr><td>19</td><td>8932</td><td>6102</td><td>1379275</td><td>0.40062516927719116</td><td>5.078217506408691</td><td>8932-6102</td><td>0.0202592517081387</td><td>1.736566702376056e-09</td><td>84.34841863653604</td><td>28.641093133606596</td><td>3.273610867358773e-05</td></tr>\n",
       "<tr><td>20</td><td>8934</td><td>3701</td><td>1272144</td><td>0.6809766292572021</td><td>161.55909729003906</td><td>8934-3701</td><td>0.01644211608840305</td><td>3.153886954367131e-13</td><td>74.69666126834792</td><td>6.902662028813457</td><td>3.462544955757636e-05</td></tr>\n",
       "<tr><td>21</td><td>8935</td><td>9101</td><td>291879</td><td>0.3331384062767029</td><td>23.189922332763672</td><td>8935-9101</td><td>0.0215321518628244</td><td>2.1711928792443356e-10</td><td>118.41925825942022</td><td>10.117076272821619</td><td>6.711962621536368e-05</td></tr>\n",
       "<tr><td>22</td><td>8949</td><td>12703</td><td>1089288</td><td>0.7396504282951355</td><td>95.35550689697266</td><td>8949-12703</td><td>0.0159066450122534</td><td>1.5905300588884285e-10</td><td>70.15900333789699</td><td>1.5741928980075712</td><td>3.316269890899412e-05</td></tr>\n",
       "<tr><td>23</td><td>8949</td><td>12705</td><td>171794</td><td>0.5453890562057495</td><td>173.40066528320312</td><td>8949-12705</td><td>0.0242599032137511</td><td>5.224055576900487e-10</td><td>31.235698932521178</td><td>17.688470632769725</td><td>2.8050628750184415e-05</td></tr>\n",
       "<tr><td>24</td><td>8949</td><td>9102</td><td>834049</td><td>0.287956178188324</td><td>70.2303466796875</td><td>8949-9102</td><td>0.023927042757022</td><td>4.4475811327219e-10</td><td>92.81133497614604</td><td>22.879258445730063</td><td>5.2282108718051345e-05</td></tr>\n",
       "<tr><td>25</td><td>8950</td><td>12705</td><td>1219319</td><td>0.16703689098358154</td><td>71.99395751953125</td><td>8950-12705</td><td>0.0249576573598387</td><td>1.1614998797849504e-10</td><td>216.18796285257156</td><td>2.743959790905706</td><td>6.0830317649437067e-05</td></tr>\n",
       "<tr><td>26</td><td>8950</td><td>1901</td><td>1364394</td><td>0.4278772473335266</td><td>132.94529724121094</td><td>8950-1901</td><td>0.0280498298079533</td><td>1.3724391210012101e-11</td><td>167.54738640854583</td><td>0.40324489219658755</td><td>2.51418344890039e-05</td></tr>\n",
       "<tr><td>27</td><td>8950</td><td>3702</td><td>1009928</td><td>0.47971558570861816</td><td>152.99244689941406</td><td>8950-3702</td><td>0.0269966334386676</td><td>4.535272874058436e-10</td><td>52.50190798983999</td><td>28.36102745780233</td><td>3.915995941678558e-05</td></tr>\n",
       "<tr><td>28</td><td>8950</td><td>9101</td><td>917608</td><td>0.25538331270217896</td><td>155.01907348632812</td><td>8950-9101</td><td>0.027651874767596202</td><td>7.080311425712668e-12</td><td>107.673074209314</td><td>9.791984518139863</td><td>3.6923229341050984e-05</td></tr>\n",
       "<tr><td>29</td><td>8950</td><td>9102</td><td>1294562</td><td>0.7503887414932251</td><td>139.5088348388672</td><td>8950-9102</td><td>0.0233125050298342</td><td>2.668516728508409e-10</td><td>110.26571214241137</td><td>14.825165280336732</td><td>4.284662157514828e-05</td></tr>\n",
       "<tr><td>30</td><td>8953</td><td>6104</td><td>487085</td><td>0.5813088417053223</td><td>1.3182913064956665</td><td>8953-6104</td><td>0.0781894572006586</td><td>4.128757013734015e-10</td><td>223.95494076075573</td><td>8.795513663749514</td><td>3.229689275391676e-05</td></tr>\n",
       "<tr><td>31</td><td>8979</td><td>12703</td><td>544943</td><td>0.6018548011779785</td><td>135.25755310058594</td><td>8979-12703</td><td>0.0388599155970507</td><td>7.737240140568492e-11</td><td>96.35520200663657</td><td>6.26561620491743</td><td>2.8354910339964662e-05</td></tr>\n",
       "<tr><td>32</td><td>8979</td><td>9101</td><td>23897</td><td>0.7408677339553833</td><td>2.1042978763580322</td><td>8979-9101</td><td>0.0769504976458026</td><td>2.6320024672899177e-09</td><td>184.38540696237342</td><td>1.1225376455591265</td><td>3.8983404180858706e-05</td></tr>\n",
       "<tr><td>33</td><td>9029</td><td>6104</td><td>20179</td><td>0.26789402961730957</td><td>50.874732971191406</td><td>9029-6104</td><td>0.0304397401918546</td><td>1.1255471512637071e-10</td><td>121.44130123644727</td><td>2.6618554548930367</td><td>3.894231924694824e-05</td></tr>\n",
       "<tr><td>34</td><td>9031</td><td>12702</td><td>1205063</td><td>0.9376584887504578</td><td>28.06189727783203</td><td>9031-12702</td><td>0.0403143764659635</td><td>3.221111737182844e-10</td><td>27.48528035394705</td><td>1.041076411310397</td><td>2.1008836134171055e-05</td></tr>\n",
       "<tr><td>35</td><td>9031</td><td>12705</td><td>1287210</td><td>0.8110915422439575</td><td>21.210365295410156</td><td>9031-12705</td><td>0.0596930483603828</td><td>3.312589969724597e-10</td><td>195.97503328546972</td><td>1.0760742303364124</td><td>2.5218636168164603e-05</td></tr>\n",
       "<tr><td>36</td><td>9035</td><td>1902</td><td>1374340</td><td>0.3766810894012451</td><td>161.31134033203125</td><td>9035-1902</td><td>0.037019973487592</td><td>1.777514443778703e-11</td><td>141.6147586654442</td><td>1.7618513420522004</td><td>2.5885319318210457e-05</td></tr>\n",
       "<tr><td>37</td><td>9035</td><td>3703</td><td>833737</td><td>0.5993092060089111</td><td>128.78262329101562</td><td>9035-3703</td><td>0.0373742930418134</td><td>2.4747965133685125e-12</td><td>37.0056047659072</td><td>5.875683935969238</td><td>2.0184217390862112e-05</td></tr>\n",
       "<tr><td>38</td><td>9036</td><td>12705</td><td>1270526</td><td>0.5393145680427551</td><td>74.26786041259766</td><td>9036-12705</td><td>0.0392401969054925</td><td>3.261292729501431e-11</td><td>108.26495997694059</td><td>0.4184259465654068</td><td>2.9510409904886174e-05</td></tr>\n",
       "<tr><td>39</td><td>9036</td><td>6101</td><td>1287210</td><td>0.8110915422439575</td><td>21.210365295410156</td><td>9036-6101</td><td>0.0596930483603828</td><td>3.312589969724597e-10</td><td>195.97503328546972</td><td>1.0760742303364124</td><td>2.5218636168164603e-05</td></tr>\n",
       "<tr><td>40</td><td>9037</td><td>9102</td><td>835029</td><td>0.22417443990707397</td><td>118.39954376220703</td><td>9037-9102</td><td>0.03718781925522835</td><td>1.5152541498547203e-11</td><td>203.33069773056494</td><td>2.1923004026467656</td><td>4.609970021772765e-05</td></tr>\n",
       "<tr><td>41</td><td>9051</td><td>6104</td><td>487085</td><td>0.5813088417053223</td><td>1.3182913064956665</td><td>9051-6104</td><td>0.0781894572006586</td><td>4.128757013734015e-10</td><td>223.95494076075573</td><td>8.795513663749514</td><td>3.229689275391676e-05</td></tr>\n",
       "<tr><td>42</td><td>9863</td><td>12701</td><td>477610</td><td>0.7243960499763489</td><td>56.07057571411133</td><td>9863-12701</td><td>0.0186226684325002</td><td>1.370015994617074e-12</td><td>103.5020479756277</td><td>1.8512646004945563</td><td>2.9554472196288887e-05</td></tr>\n",
       "<tr><td>43</td><td>9863</td><td>9102</td><td>1274409</td><td>0.4936578869819641</td><td>41.022308349609375</td><td>9863-9102</td><td>0.025610665069269</td><td>2.8394711903903606e-12</td><td>132.20787780547425</td><td>4.8298671603324</td><td>4.21342208781214e-05</td></tr>\n",
       "<tr><td>44</td><td>9864</td><td>12703</td><td>578196</td><td>0.4527084231376648</td><td>59.345069885253906</td><td>9864-12703</td><td>0.0451542379592335</td><td>8.582514621456288e-12</td><td>129.29101841254916</td><td>0.4888207761775472</td><td>2.951438402067595e-05</td></tr>\n",
       "<tr><td>45</td><td>9864</td><td>6102</td><td>660359</td><td>0.4993917942047119</td><td>4.176965236663818</td><td>9864-6102</td><td>0.0443144134667617</td><td>5.662965264910135e-10</td><td>95.94714619330581</td><td>10.203339871804184</td><td>2.763622722458725e-05</td></tr>\n",
       "<tr><td>46</td><td>9876</td><td>3702</td><td>1144453</td><td>0.6177683472633362</td><td>143.6058807373047</td><td>9876-3702</td><td>0.0247947143313214</td><td>1.7398217345206727e-12</td><td>182.30608206632093</td><td>1.2350851286490203</td><td>2.7114084320404085e-05</td></tr>\n",
       "<tr><td>47</td><td>9876</td><td>3703</td><td>139660</td><td>0.8742374777793884</td><td>157.68699645996094</td><td>9876-3703</td><td>0.0166860235629284</td><td>1.9804889353558093e-12</td><td>29.14203923603816</td><td>2.930688149719699</td><td>2.8455001795254423e-05</td></tr>\n",
       "<tr><td>48</td><td>9876</td><td>6101</td><td>993595</td><td>0.9293023943901062</td><td>141.1784210205078</td><td>9876-6101</td><td>0.0273228883921179</td><td>1.5143557260619454e-12</td><td>87.31045064331828</td><td>0.3510861830088331</td><td>2.7405104472647594e-05</td></tr>\n",
       "<tr><td>49</td><td>9876</td><td>6102</td><td>20886</td><td>0.4584953188896179</td><td>62.591163635253906</td><td>9876-6102</td><td>0.0211655216585879</td><td>1.4784629022108563e-09</td><td>98.16185594576551</td><td>13.535440951816547</td><td>3.2476133502881403e-05</td></tr>\n",
       "</table><style>table.dataTable {clear: both; width: auto !important; margin: 0 !important;}\n",
       ".dataTables_info, .dataTables_length, .dataTables_filter, .dataTables_paginate{\n",
       "display: inline-block; margin-right: 1em; }\n",
       ".paginate_button { margin-right: 5px; }\n",
       "</style>\n",
       "<script>\n",
       "\n",
       "var astropy_sort_num = function(a, b) {\n",
       "    var a_num = parseFloat(a);\n",
       "    var b_num = parseFloat(b);\n",
       "\n",
       "    if (isNaN(a_num) && isNaN(b_num))\n",
       "        return ((a < b) ? -1 : ((a > b) ? 1 : 0));\n",
       "    else if (!isNaN(a_num) && !isNaN(b_num))\n",
       "        return ((a_num < b_num) ? -1 : ((a_num > b_num) ? 1 : 0));\n",
       "    else\n",
       "        return isNaN(a_num) ? -1 : 1;\n",
       "}\n",
       "\n",
       "require.config({paths: {\n",
       "    datatables: 'https://cdn.datatables.net/1.10.12/js/jquery.dataTables.min'\n",
       "}});\n",
       "require([\"datatables\"], function(){\n",
       "    console.log(\"$('#table23453576850640-761834').dataTable()\");\n",
       "    \n",
       "jQuery.extend( jQuery.fn.dataTableExt.oSort, {\n",
       "    \"optionalnum-asc\": astropy_sort_num,\n",
       "    \"optionalnum-desc\": function (a,b) { return -astropy_sort_num(a, b); }\n",
       "});\n",
       "\n",
       "    $('#table23453576850640-761834').dataTable({\n",
       "        order: [],\n",
       "        pageLength: 50,\n",
       "        lengthMenu: [[10, 25, 50, 100, 500, 1000, -1], [10, 25, 50, 100, 500, 1000, 'All']],\n",
       "        pagingType: \"full_numbers\",\n",
       "        columnDefs: [{targets: [0, 1, 2, 3, 4, 5, 7, 8, 9, 10, 11], type: \"optionalnum\"}]\n",
       "    });\n",
       "});\n",
       "</script>\n"
      ],
      "text/plain": [
       "<IPython.core.display.HTML object>"
      ]
     },
     "execution_count": 19,
     "metadata": {},
     "output_type": "execute_result"
    }
   ],
   "source": [
    "SGA_MaNGA[np.isfinite(SGA_MaNGA['V_0p33R26'])].show_in_notebook()"
   ]
  },
  {
   "cell_type": "markdown",
   "id": "43f8f106-d007-436c-9506-8b20d2743e83",
   "metadata": {},
   "source": [
    "Based on visual inspection of my fits to the MaNGA DR15 data for these galaxies (from Douglass & Demina, 2022), I determined that\n",
    "* Galaxies that need to be refit: **8932-3701** and **9037-9102**\n",
    "* Galaxies that are not spirals but have fits: 8931-1902, 8931-3702, 8932-12702, 8932-3703, 8935-9101, 8950-3702, and 8950-9102\n",
    "* Galaxies that do not have fits (either no data or are not spirals): 8479-6102, 8480-6103, 8931-3702, 8932-12705, 8932-6102, 8949-12705, 8949-9102, 9051-6104, 9876-6102"
   ]
  },
  {
   "cell_type": "markdown",
   "id": "6112e481-53f5-4852-b317-8ba0daab79b5",
   "metadata": {},
   "source": [
    "### Add the MaNGA best-fit values to the table"
   ]
  },
  {
   "cell_type": "code",
   "execution_count": 20,
   "id": "5df1c50b-8912-451c-9a3f-31878b1f500f",
   "metadata": {},
   "outputs": [],
   "source": [
    "SGA_MaNGA['Vmax_map'] = np.nan\n",
    "SGA_MaNGA['Vmax_err_map'] = np.nan\n",
    "SGA_MaNGA['Rturn_map'] = np.nan\n",
    "SGA_MaNGA['alpha_map'] = np.nan\n",
    "\n",
    "SGA_MaNGA['ba_map'] = np.nan\n",
    "SGA_MaNGA['ba_NSA'] = np.nan\n",
    "\n",
    "for i in range(len(SGA_MaNGA)):\n",
    "    \n",
    "    gal_id = str(SGA_MaNGA['MaNGA_plate'][i]) + '-' + str(SGA_MaNGA['MaNGA_IFU'][i])\n",
    "    \n",
    "    # Find galaxy row in MaNGA fits table\n",
    "    plate_bool = MaNGA_fits['MaNGA_plate'] == SGA_MaNGA['MaNGA_plate'][i]\n",
    "    ifu_bool = MaNGA_fits['MaNGA_IFU'] == SGA_MaNGA['MaNGA_IFU'][i]\n",
    "    \n",
    "    i_fit = plate_bool & ifu_bool\n",
    "    \n",
    "    # Copy best-fit parameter values from fit table to galaxy table\n",
    "    if (np.sum(i_fit) > 0) and (gal_id not in ['8931-1902', '8931-3702', '8932-12702', '8932-3703', '8935-9101', '8950-3702', '8950-9102']):\n",
    "        SGA_MaNGA['Vmax_map'][i] = MaNGA_fits['Vmax_map'][i_fit]\n",
    "        SGA_MaNGA['Vmax_err_map'][i] = MaNGA_fits['Vmax_err_map'][i_fit]\n",
    "        SGA_MaNGA['Rturn_map'][i] = MaNGA_fits['Rturn_map'][i_fit]\n",
    "        SGA_MaNGA['alpha_map'][i] = MaNGA_fits['alpha_map'][i_fit]\n",
    "        \n",
    "        SGA_MaNGA['ba_map'][i] = MaNGA_fits['ba_map'][i_fit]\n",
    "        SGA_MaNGA['ba_NSA'][i] = MaNGA_fits['NSA_ba'][i_fit]\n",
    "        \n",
    "# Flip all -99 values to NaN\n",
    "SGA_MaNGA['Vmax_map'][SGA_MaNGA['Vmax_map'] == -99] = np.nan"
   ]
  },
  {
   "cell_type": "code",
   "execution_count": 21,
   "id": "d0d350f2-3eca-4933-a3ed-dffdca5a452e",
   "metadata": {},
   "outputs": [
    {
     "data": {
      "text/plain": [
       "34"
      ]
     },
     "execution_count": 21,
     "metadata": {},
     "output_type": "execute_result"
    }
   ],
   "source": [
    "np.sum(np.isfinite(SGA_MaNGA['Vmax_map']) & np.isfinite(SGA_MaNGA['V_0p33R26']))"
   ]
  },
  {
   "cell_type": "markdown",
   "id": "9d89530e-d46d-4661-afcc-01207d82b04e",
   "metadata": {},
   "source": [
    "### Plot"
   ]
  },
  {
   "cell_type": "code",
   "execution_count": 22,
   "id": "c894b58e-717c-4c38-87a1-a1a11be85c63",
   "metadata": {},
   "outputs": [
    {
     "data": {
      "image/png": "[encoded data removed]",
      "text/plain": [
       "<Figure size 432x288 with 2 Axes>"
      ]
     },
     "metadata": {
      "needs_background": "light"
     },
     "output_type": "display_data"
    }
   ],
   "source": [
    "fig = plt.figure()\n",
    "\n",
    "frame1 = fig.add_axes((0.2, 0.35, 0.75, 0.6))\n",
    "\n",
    "plt.errorbar(SGA_MaNGA['V_0p33R26'], SGA_MaNGA['Vmax_map'], \n",
    "             yerr=SGA_MaNGA['Vmax_err_map'], \n",
    "             xerr=SGA_MaNGA['V_0p33R26_ERR'], \n",
    "             fmt='o', \n",
    "             ecolor='lightskyblue')\n",
    "plt.plot([0, 1000], [0, 1000], 'k:')\n",
    "\n",
    "plt.ylim(0, 600)\n",
    "plt.xlim(0, 250)\n",
    "\n",
    "plt.ylabel('$V_{max}$ [km/s]')\n",
    "\n",
    "frame1.axes.get_xaxis().set_visible(False)\n",
    "\n",
    "\n",
    "frame2 = fig.add_axes((0.2, 0.15, 0.75, 0.2))\n",
    "\n",
    "plt.errorbar(SGA_MaNGA['V_0p33R26'], SGA_MaNGA['V_0p33R26'] - SGA_MaNGA['Vmax_map'], \n",
    "             xerr=SGA_MaNGA['V_0p33R26_ERR'], \n",
    "             yerr=np.sqrt(SGA_MaNGA['V_0p33R26_ERR']**2 + SGA_MaNGA['Vmax_err_map']**2), \n",
    "             fmt='o', \n",
    "             ecolor='lightskyblue')\n",
    "plt.hlines(0, 0, 250, linestyles='dotted', colors='k')\n",
    "\n",
    "plt.xlim(0, 250)\n",
    "plt.ylim(-500, 150)\n",
    "\n",
    "plt.ylabel('$V(0.33R_{26})$\\n $- V_{max}$ [km/s]')        \n",
    "plt.xlabel('$V(0.33R_{26})$ [km/s]')\n",
    "\n",
    "plt.savefig('../Figures/SV/fuji_MaNGA-Vmax_comparison.eps', dpi=300);"
   ]
  },
  {
   "cell_type": "code",
   "execution_count": 23,
   "id": "c9d02431-6a30-494b-af83-fe0b104dab88",
   "metadata": {},
   "outputs": [
    {
     "data": {
      "image/png": "[encoded data removed]",
      "text/plain": [
       "<Figure size 432x288 with 1 Axes>"
      ]
     },
     "metadata": {
      "needs_background": "light"
     },
     "output_type": "display_data"
    }
   ],
   "source": [
    "plt.figure(tight_layout=True)\n",
    "\n",
    "plt.hist((SGA_MaNGA['V_0p33R26'] - SGA_MaNGA['Vmax_map'])/np.sqrt(SGA_MaNGA['V_0p33R26_ERR']**2 + SGA_MaNGA['Vmax_err_map']**2), \n",
    "         #bins=np.arange(-500, 100, 50), \n",
    "         bins=np.arange(-8, 15, 1),\n",
    "         #histtype='step', \n",
    "         #linewidth=3\n",
    "        )\n",
    "\n",
    "#plt.xlabel('($V(0.33R_{26}) - V_{max}$) [km/s]')\n",
    "plt.xlabel('($V(0.33R_{26}) - V_{max}$)/$\\sigma$')\n",
    "plt.ylabel('Number of galaxies')\n",
    "\n",
    "plt.savefig('../Figures/SV/fuji_MaNGA_Vmax_pull.png', dpi=300);"
   ]
  },
  {
   "cell_type": "markdown",
   "id": "09d25233-4ae4-4ac1-beb7-258bd0fcce86",
   "metadata": {
    "tags": []
   },
   "source": [
    "# Compare DESI's observed rotational velocities at 0.33$R_{26}$ with $V(0.33R_{26})$ from the best-fit to MaNGA"
   ]
  },
  {
   "cell_type": "markdown",
   "id": "afa32afb-2f07-4286-b060-1990e529f12c",
   "metadata": {},
   "source": [
    "## 1) Convert $R_{26}$ to kpc for each galaxy"
   ]
  },
  {
   "cell_type": "code",
   "execution_count": 24,
   "id": "5fd44498-fb5f-4ebd-9f25-d36abb60b238",
   "metadata": {},
   "outputs": [],
   "source": [
    "dist_to_galaxy = SGA_MaNGA['Z_DESI']*c/H0\n",
    "\n",
    "R26_kpc = dist_to_galaxy.to('kpc')*np.tan(SGA_MaNGA['SKY_FIBER_DIST'])"
   ]
  },
  {
   "cell_type": "markdown",
   "id": "f15340b9-a106-4c9a-8d6a-167c2b14b4a0",
   "metadata": {},
   "source": [
    "## 2) Compute $V(0.33R_{26})$ based on the best-fits"
   ]
  },
  {
   "cell_type": "code",
   "execution_count": 25,
   "id": "df3d9059-0c1b-4cf7-a782-6ea85d3b5b8f",
   "metadata": {},
   "outputs": [],
   "source": [
    "SGA_MaNGA['Vfit_0p33R26'] = rot_fit_BB(R26_kpc.data, [SGA_MaNGA['Vmax_map'], SGA_MaNGA['Rturn_map'], SGA_MaNGA['alpha_map']])"
   ]
  },
  {
   "cell_type": "markdown",
   "id": "5b8dfc18-1bcb-421f-bbd3-97de7192f782",
   "metadata": {},
   "source": [
    "### Compute the uncertainty in the velocity at this location"
   ]
  },
  {
   "cell_type": "code",
   "execution_count": 26,
   "id": "48b251f5-9385-43b1-a2b7-2809aafcf9b6",
   "metadata": {},
   "outputs": [
    {
     "name": "stderr",
     "output_type": "stream",
     "text": [
      "/tmp/ipykernel_36062/3833718814.py:15: RuntimeWarning: covariance is not positive-semidefinite.\n",
      "  random_sample = np.random.multivariate_normal(mean=[SGA_MaNGA['Vmax_map'][i],\n",
      "/global/homes/k/kadglass/RotationCurves/spirals/dark_matter_mass_v1.py:74: RuntimeWarning: overflow encountered in power\n",
      "  v = v_max * (np.abs(depro_radius) / (r_turn**alpha + np.abs(depro_radius)**alpha)**(1/alpha))\n"
     ]
    }
   ],
   "source": [
    "SGA_MaNGA['Vfit_0p33R26_err'] = np.nan\n",
    "\n",
    "for i in range(len(SGA_MaNGA)):\n",
    "    \n",
    "    if np.isfinite(SGA_MaNGA['Vmax_map'][i]) and np.isfinite(SGA_MaNGA['V_0p33R26'][i]):\n",
    "        \n",
    "        gal_ID = str(SGA_MaNGA['MaNGA_plate'][i]) + '-' + str(SGA_MaNGA['MaNGA_IFU'][i])\n",
    "\n",
    "        try:\n",
    "            Hessian = np.load('DRP_map_Hessians/' + gal_ID + '_Hessian.npy')\n",
    "            hess_inv = 2*np.linalg.inv(Hessian)\n",
    "\n",
    "            N_samples = 10000\n",
    "\n",
    "            random_sample = np.random.multivariate_normal(mean=[SGA_MaNGA['Vmax_map'][i], \n",
    "                                                                SGA_MaNGA['Rturn_map'][i], \n",
    "                                                                SGA_MaNGA['alpha_map'][i]], \n",
    "                                                          cov=hess_inv[-3:,-3:], \n",
    "                                                          size=N_samples)\n",
    "\n",
    "            # Remove bad samples (those with negative values for any of the parameters)\n",
    "            is_good_random = (random_sample[:,0] > 0) & (random_sample[:,1] > 0) & (random_sample[:,2] > 0)\n",
    "            good_randoms = random_sample[is_good_random, :]\n",
    "\n",
    "            # Calculate values of curve at this location\n",
    "            y_sample = rot_fit_BB(R26_kpc[i].value, [good_randoms[:,0], \n",
    "                                                     good_randoms[:,1], \n",
    "                                                     good_randoms[:,2]])\n",
    "\n",
    "            SGA_MaNGA['Vfit_0p33R26_err'][i] = np.std(y_sample, axis=0)\n",
    "        except (FileNotFoundError, np.linalg.LinAlgError) as error:\n",
    "            print(gal_ID, error)"
   ]
  },
  {
   "cell_type": "markdown",
   "id": "05424428-1533-4bd8-8bcc-640880007c25",
   "metadata": {},
   "source": [
    "## 3) Plot"
   ]
  },
  {
   "cell_type": "code",
   "execution_count": 43,
   "id": "d12c693a-ea4c-4014-8240-0d1df390e22f",
   "metadata": {},
   "outputs": [
    {
     "data": {
      "image/png": "[encoded data removed]",
      "text/plain": [
       "<Figure size 432x288 with 2 Axes>"
      ]
     },
     "metadata": {
      "needs_background": "light"
     },
     "output_type": "display_data"
    }
   ],
   "source": [
    "fig = plt.figure()\n",
    "\n",
    "frame1 = fig.add_axes((0.2, 0.35, 0.75, 0.6))\n",
    "\n",
    "plt.errorbar(SGA_MaNGA['V_0p33R26'], SGA_MaNGA['Vfit_0p33R26'], \n",
    "             yerr=SGA_MaNGA['Vfit_0p33R26_err'], \n",
    "             xerr=SGA_MaNGA['V_0p33R26_ERR'], \n",
    "             fmt='o', \n",
    "             ecolor='lightskyblue')\n",
    "plt.plot([0, 1000], [0, 1000], 'k:')\n",
    "\n",
    "plt.ylim(0, 350)\n",
    "plt.xlim(0, 250)\n",
    "\n",
    "plt.ylabel('$V(0.33R_{26})$ [km/s]\\n from MaNGA fit')\n",
    "\n",
    "frame1.axes.get_xaxis().set_visible(False)\n",
    "\n",
    "\n",
    "frame2 = fig.add_axes((0.2, 0.15, 0.75, 0.2))\n",
    "\n",
    "plt.errorbar(SGA_MaNGA['V_0p33R26'], SGA_MaNGA['V_0p33R26'] - SGA_MaNGA['Vfit_0p33R26'], \n",
    "             xerr=SGA_MaNGA['V_0p33R26_ERR'], \n",
    "             yerr=np.sqrt(SGA_MaNGA['V_0p33R26_ERR']**2 + SGA_MaNGA['Vfit_0p33R26_err']**2), \n",
    "             fmt='o', \n",
    "             ecolor='lightskyblue')\n",
    "plt.hlines(0, 0, 250, linestyles='dotted', colors='k')\n",
    "\n",
    "plt.xlim(0, 250)\n",
    "\n",
    "plt.xlabel('$V(0.33R_{26})$ [km/s] in DESI')\n",
    "plt.ylabel('$\\Delta V(0.33R_{26})$ [km/s]\\n (DESI - MaNGA fit)')\n",
    "\n",
    "plt.savefig('../Figures/SV/fuji_MaNGA-V0p33_comparison.eps', dpi=300);"
   ]
  },
  {
   "cell_type": "markdown",
   "id": "9df07b32-975b-4eee-94e2-2c01b1207c68",
   "metadata": {},
   "source": [
    "### Pull distribution"
   ]
  },
  {
   "cell_type": "code",
   "execution_count": 45,
   "id": "d99e8c58-077d-4609-aea7-156dd3e32a32",
   "metadata": {},
   "outputs": [
    {
     "data": {
      "text/html": [
       "<i>Table length=62</i>\n",
       "<table id=\"table23453836265600-420423\" class=\"table-striped table-bordered table-condensed\">\n",
       "<thead><tr><th>idx</th><th>Vmax_map</th><th>Vfit_0p33R26</th></tr></thead>\n",
       "<tr><td>0</td><td>84.044622</td><td>nan</td></tr>\n",
       "<tr><td>1</td><td>nan</td><td>nan</td></tr>\n",
       "<tr><td>2</td><td>nan</td><td>nan</td></tr>\n",
       "<tr><td>3</td><td>nan</td><td>nan</td></tr>\n",
       "<tr><td>4</td><td>228.741864</td><td>200.18362535570273</td></tr>\n",
       "<tr><td>5</td><td>173.894342</td><td>125.95671843466427</td></tr>\n",
       "<tr><td>6</td><td>248.267848</td><td>213.78667787200962</td></tr>\n",
       "<tr><td>7</td><td>148.451345</td><td>138.4606769752501</td></tr>\n",
       "<tr><td>8</td><td>265.590843</td><td>220.8297559238875</td></tr>\n",
       "<tr><td>9</td><td>190.11172360124033</td><td>171.74310785444806</td></tr>\n",
       "<tr><td>10</td><td>274.3026873731086</td><td>186.80034538239153</td></tr>\n",
       "<tr><td>11</td><td>105.748151</td><td>105.64881649050749</td></tr>\n",
       "<tr><td>12</td><td>177.53911873359016</td><td>164.54604225681584</td></tr>\n",
       "<tr><td>13</td><td>208.757145</td><td>200.38801388935298</td></tr>\n",
       "<tr><td>14</td><td>381.046934</td><td>nan</td></tr>\n",
       "<tr><td>15</td><td>nan</td><td>nan</td></tr>\n",
       "<tr><td>16</td><td>nan</td><td>nan</td></tr>\n",
       "<tr><td>17</td><td>4177.71646</td><td>nan</td></tr>\n",
       "<tr><td>18</td><td>218.0721417831283</td><td>141.54699991988244</td></tr>\n",
       "<tr><td>19</td><td>nan</td><td>nan</td></tr>\n",
       "<tr><td>20</td><td>nan</td><td>nan</td></tr>\n",
       "<tr><td>21</td><td>157.89944276833614</td><td>149.11317923184987</td></tr>\n",
       "<tr><td>22</td><td>nan</td><td>nan</td></tr>\n",
       "<tr><td>23</td><td>nan</td><td>nan</td></tr>\n",
       "<tr><td>24</td><td>1221.13393</td><td>nan</td></tr>\n",
       "<tr><td>25</td><td>5094.103993</td><td>nan</td></tr>\n",
       "<tr><td>26</td><td>191.6267344301531</td><td>117.98381370882421</td></tr>\n",
       "<tr><td>27</td><td>5026.137349</td><td>nan</td></tr>\n",
       "<tr><td>28</td><td>nan</td><td>nan</td></tr>\n",
       "<tr><td>29</td><td>75.246552</td><td>75.02409340104478</td></tr>\n",
       "<tr><td>30</td><td>nan</td><td>nan</td></tr>\n",
       "<tr><td>31</td><td>nan</td><td>nan</td></tr>\n",
       "<tr><td>32</td><td>nan</td><td>nan</td></tr>\n",
       "<tr><td>33</td><td>298.180623</td><td>227.13453649929494</td></tr>\n",
       "<tr><td>34</td><td>182.51148315777908</td><td>162.43338939033248</td></tr>\n",
       "<tr><td>35</td><td>nan</td><td>nan</td></tr>\n",
       "<tr><td>36</td><td>126.37004396918267</td><td>105.03006507255503</td></tr>\n",
       "<tr><td>37</td><td>nan</td><td>nan</td></tr>\n",
       "<tr><td>38</td><td>nan</td><td>nan</td></tr>\n",
       "<tr><td>39</td><td>nan</td><td>nan</td></tr>\n",
       "<tr><td>40</td><td>159.219746</td><td>94.32080960036441</td></tr>\n",
       "<tr><td>41</td><td>340.634013</td><td>266.37751106413236</td></tr>\n",
       "<tr><td>42</td><td>197.957208</td><td>nan</td></tr>\n",
       "<tr><td>43</td><td>144.46456692931113</td><td>130.11315900235266</td></tr>\n",
       "<tr><td>44</td><td>62.69024751216026</td><td>53.69438675591863</td></tr>\n",
       "<tr><td>45</td><td>341.6099617866248</td><td>248.2184340150708</td></tr>\n",
       "<tr><td>46</td><td>205.727654</td><td>205.64844314517103</td></tr>\n",
       "<tr><td>47</td><td>177.1117223409392</td><td>79.22498316933086</td></tr>\n",
       "<tr><td>48</td><td>175.600427</td><td>nan</td></tr>\n",
       "<tr><td>49</td><td>136.355647</td><td>112.33022351936958</td></tr>\n",
       "<tr><td>50</td><td>319.57876084474043</td><td>188.39338073390758</td></tr>\n",
       "<tr><td>51</td><td>180.02786614187784</td><td>159.1276850886921</td></tr>\n",
       "<tr><td>52</td><td>nan</td><td>nan</td></tr>\n",
       "<tr><td>53</td><td>141.52518386471868</td><td>101.97793781837566</td></tr>\n",
       "<tr><td>54</td><td>133.174955</td><td>110.17475532843038</td></tr>\n",
       "<tr><td>55</td><td>150.683077</td><td>130.25622268570976</td></tr>\n",
       "<tr><td>56</td><td>490.0221949518012</td><td>187.11797318012273</td></tr>\n",
       "<tr><td>57</td><td>208.232476</td><td>159.51483195056127</td></tr>\n",
       "<tr><td>58</td><td>99.04754537647344</td><td>58.89338068678224</td></tr>\n",
       "<tr><td>59</td><td>91.46913771379435</td><td>48.43077894335149</td></tr>\n",
       "<tr><td>60</td><td>nan</td><td>nan</td></tr>\n",
       "<tr><td>61</td><td>3072.990271</td><td>nan</td></tr>\n",
       "</table><style>table.dataTable {clear: both; width: auto !important; margin: 0 !important;}\n",
       ".dataTables_info, .dataTables_length, .dataTables_filter, .dataTables_paginate{\n",
       "display: inline-block; margin-right: 1em; }\n",
       ".paginate_button { margin-right: 5px; }\n",
       "</style>\n",
       "<script>\n",
       "\n",
       "var astropy_sort_num = function(a, b) {\n",
       "    var a_num = parseFloat(a);\n",
       "    var b_num = parseFloat(b);\n",
       "\n",
       "    if (isNaN(a_num) && isNaN(b_num))\n",
       "        return ((a < b) ? -1 : ((a > b) ? 1 : 0));\n",
       "    else if (!isNaN(a_num) && !isNaN(b_num))\n",
       "        return ((a_num < b_num) ? -1 : ((a_num > b_num) ? 1 : 0));\n",
       "    else\n",
       "        return isNaN(a_num) ? -1 : 1;\n",
       "}\n",
       "\n",
       "require.config({paths: {\n",
       "    datatables: 'https://cdn.datatables.net/1.10.12/js/jquery.dataTables.min'\n",
       "}});\n",
       "require([\"datatables\"], function(){\n",
       "    console.log(\"$('#table23453836265600-420423').dataTable()\");\n",
       "    \n",
       "jQuery.extend( jQuery.fn.dataTableExt.oSort, {\n",
       "    \"optionalnum-asc\": astropy_sort_num,\n",
       "    \"optionalnum-desc\": function (a,b) { return -astropy_sort_num(a, b); }\n",
       "});\n",
       "\n",
       "    $('#table23453836265600-420423').dataTable({\n",
       "        order: [],\n",
       "        pageLength: 50,\n",
       "        lengthMenu: [[10, 25, 50, 100, 500, 1000, -1], [10, 25, 50, 100, 500, 1000, 'All']],\n",
       "        pagingType: \"full_numbers\",\n",
       "        columnDefs: [{targets: [0, 1, 2], type: \"optionalnum\"}]\n",
       "    });\n",
       "});\n",
       "</script>\n"
      ],
      "text/plain": [
       "<IPython.core.display.HTML object>"
      ]
     },
     "execution_count": 45,
     "metadata": {},
     "output_type": "execute_result"
    }
   ],
   "source": []
  },
  {
   "cell_type": "code",
   "execution_count": 49,
   "id": "39af7a92-eb34-46dd-8661-55ce4ae3bead",
   "metadata": {},
   "outputs": [
    {
     "name": "stdout",
     "output_type": "stream",
     "text": [
      "-0.12807501289937773 2.237077125116494\n"
     ]
    }
   ],
   "source": [
    "diff_norm = (SGA_MaNGA['V_0p33R26'] - SGA_MaNGA['Vfit_0p33R26'])/np.sqrt(SGA_MaNGA['V_0p33R26_ERR']**2 + SGA_MaNGA['Vfit_0p33R26_err']**2)\n",
    "\n",
    "avg = np.nanmean(diff_norm)\n",
    "\n",
    "std_dev = np.nanstd(diff_norm)\n",
    "\n",
    "print(avg, std_dev)"
   ]
  },
  {
   "cell_type": "code",
   "execution_count": 29,
   "id": "2d7bc34e-0173-4ff4-879f-210a0740794e",
   "metadata": {},
   "outputs": [],
   "source": [
    "# Segev: Normalize Gaussian by area under the curve (to figure out what the amplitude should be)\n",
    "# The area is equal to the number of galaxies, so \n",
    "area = np.sum(np.isfinite(SGA_MaNGA['Vmax_map']) & np.isfinite(SGA_MaNGA['V_0p33R26']))\n",
    "\n",
    "#amplitude = area/(std_dev*np.sqrt(2*np.pi))\n",
    "# scipy.stats.norm.pdf is already normalized by sigma and the sqrt of 2pi, so we just need to scale it by the area."
   ]
  },
  {
   "cell_type": "code",
   "execution_count": 51,
   "id": "ffbcb232-893e-4dc3-8284-56b08169e2da",
   "metadata": {},
   "outputs": [
    {
     "data": {
      "image/png": "[encoded data removed]",
      "text/plain": [
       "<Figure size 432x288 with 1 Axes>"
      ]
     },
     "metadata": {
      "needs_background": "light"
     },
     "output_type": "display_data"
    }
   ],
   "source": [
    "plt.figure(tight_layout=True)\n",
    "\n",
    "plt.hist(diff_norm, \n",
    "         #bins=np.arange(-400, 100, 50), \n",
    "         bins=np.arange(-7, 9, 1), \n",
    "         #density=True\n",
    "        )\n",
    "\n",
    "x = np.arange(-9, 9, 0.1)\n",
    "plt.plot(x, area*stats.norm.pdf(x, avg, std_dev))\n",
    "\n",
    "plt.annotate('$\\mu$ = {0:.2f}\\n$\\sigma$ = {1:.2f}'.format(avg, std_dev), \n",
    "             (6, 14))\n",
    "\n",
    "plt.xlim((-9, 9))\n",
    "\n",
    "#plt.xlabel('$\\Delta V(0.33R_{26})$ [km/s] (DESI - MaNGA fit)')\n",
    "plt.xlabel('$\\Delta V(0.33R_{26})/\\sigma$ (DESI - MaNGA fit)')\n",
    "plt.ylabel('Number of galaxies');\n",
    "\n",
    "#plt.savefig('../Figures/SV/fuji_MaNGA_V0p33_pull.png', dpi=300);"
   ]
  },
  {
   "cell_type": "markdown",
   "id": "5456b583-8789-4fa6-a900-2864a3479ebd",
   "metadata": {},
   "source": [
    "# Compare DESI's observed rotational velocities at $0.33R_{26}$ with the velocity observed in MaNGA\n",
    "\n",
    "To do this, we need to extract the observed redshifts at the center and at the location of the fiber from the MaNGA H$\\alpha$ maps."
   ]
  },
  {
   "cell_type": "code",
   "execution_count": 31,
   "id": "f7787254-8889-4b72-a947-2c272fbe4fef",
   "metadata": {},
   "outputs": [],
   "source": [
    "MANGA_FOLDER = '/project/projectdirs/sdss/data/sdss/dr16/manga/spectro/'\n",
    "VEL_MAP_FOLDER = MANGA_FOLDER + 'analysis/v2_4_3/2.2.1/HYB10-GAU-MILESHC/'\n",
    "\n",
    "hdul = fits.open(VEL_MAP_FOLDER + '7443/12705/manga-7443-12705-MAPS-HYB10-GAU-MILESHC.fits.gz')\n",
    "vel = hdul['EMLINE_GVEL']\n",
    "#hdul.close()"
   ]
  },
  {
   "cell_type": "code",
   "execution_count": 32,
   "id": "dba41209-63d2-4967-b5d3-54edc4ee0745",
   "metadata": {},
   "outputs": [
    {
     "name": "stderr",
     "output_type": "stream",
     "text": [
      "/global/common/software/desi/cori/desiconda/20211217-2.0.0/conda/lib/python3.9/site-packages/astropy/table/column.py:1169: UserWarning: Warning: converting a masked element to nan.\n",
      "  self.data[index] = value\n"
     ]
    }
   ],
   "source": [
    "axis_0p3_good['V_MaNGA'] = np.nan\n",
    "axis_0p3_good['V_MaNGA_IVAR'] = np.nan\n",
    "\n",
    "for i in range(len(axis_0p3_good)):\n",
    "    \n",
    "    gal_row = SGA_MaNGA['sga_id'] == axis_0p3_good['SGA_ID'][i]\n",
    "    \n",
    "    if np.sum(gal_row) > 0:\n",
    "        \n",
    "        # Find galaxy's MaNGA plate-IFU\n",
    "        gal_plate = SGA_MaNGA['MaNGA_plate'][gal_row][0]\n",
    "        gal_IFU = SGA_MaNGA['MaNGA_IFU'][gal_row][0]\n",
    "\n",
    "\n",
    "        ##################################################################################\n",
    "        # Import data file\n",
    "        #---------------------------------------------------------------------------------\n",
    "        file_name = str(gal_plate) + '/' + str(gal_IFU) + '/manga-' + str(gal_plate) + '-' + str(gal_IFU) + '-MAPS-HYB10-GAU-MILESHC.fits.gz'\n",
    "\n",
    "        if os.path.isfile(VEL_MAP_FOLDER + file_name):\n",
    "            hdul = fits.open(VEL_MAP_FOLDER + file_name)\n",
    "            cz = hdul['PRIMARY'].header['SCINPVEL']\n",
    "            vel = hdul['EMLINE_GVEL']\n",
    "\n",
    "            Ha_vel = vel.data[18] + cz\n",
    "            Ha_ivar = hdul['EMLINE_GVEL_IVAR'].data[18]\n",
    "            Ha_mask = hdul['EMLINE_GVEL_MASK'].data[18]\n",
    "\n",
    "            mHa_vel = ma.array(Ha_vel, mask=Ha_mask)\n",
    "            mHa_ivar = ma.array(Ha_ivar, mask=Ha_mask)\n",
    "            ##################################################################################\n",
    "\n",
    "            gal_wcs = wcs.WCS(vel.header)\n",
    "            '''\n",
    "            ##################################################################################\n",
    "            plt.figure()\n",
    "\n",
    "            ax = plt.subplot(projection=gal_wcs, slices=('x', 'y', 18))\n",
    "            vel_im = ax.imshow(mHa_vel, cmap='RdBu_r', origin='lower')\n",
    "\n",
    "            plt.plot(axis_0p3_good['RA'][i], axis_0p3_good['DEC'][i], 'gx', transform=ax.get_transform('world'))\n",
    "\n",
    "            plt.colorbar(vel_im, ax=ax)\n",
    "            ##################################################################################\n",
    "            ''';\n",
    "            # Convert DESI observed coordinates to pixel coordinates\n",
    "            pix_coords = gal_wcs.wcs_world2pix(np.array([[axis_0p3_good['RA'][i], axis_0p3_good['DEC'][i], 18]]), 0)\n",
    "\n",
    "            #print(axis_0p3_good['RA'][i], axis_0p3_good['DEC'][i])\n",
    "            #print(pix_coords, pix_coords[0][:2], pix_coords[0][:2].astype(int))\n",
    "\n",
    "            # Extract observed velocity at that location\n",
    "            cz_manga = mHa_vel[pix_coords[0][0].astype(int), pix_coords[0][1].astype(int)]\n",
    "            cz_manga_ivar = mHa_ivar[pix_coords[0][0].astype(int), pix_coords[0][1].astype(int)]\n",
    "\n",
    "            #print(cz_manga)\n",
    "\n",
    "            # Save this measured velocity\n",
    "            axis_0p3_good['V_MaNGA'][i] = cz_manga\n",
    "            axis_0p3_good['V_MaNGA_IVAR'][i] = cz_manga_ivar\n",
    "            '''\n",
    "            ##################################################################################\n",
    "            plt.figure()\n",
    "\n",
    "            plt.imshow(mHa_vel, cmap='RdBu_r', origin='lower')\n",
    "            plt.plot(pix_coords[0][0], pix_coords[0][1], 'gx')\n",
    "            ##################################################################################\n",
    "\n",
    "            break\n",
    "            ''';"
   ]
  },
  {
   "cell_type": "code",
   "execution_count": 33,
   "id": "bdbcb9d1-69da-4901-aa75-c875b518b95f",
   "metadata": {},
   "outputs": [
    {
     "name": "stderr",
     "output_type": "stream",
     "text": [
      "/global/common/software/desi/cori/desiconda/20211217-2.0.0/conda/lib/python3.9/site-packages/astropy/table/column.py:1169: UserWarning: Warning: converting a masked element to nan.\n",
      "  self.data[index] = value\n"
     ]
    }
   ],
   "source": [
    "good_centers['V_MaNGA'] = np.nan\n",
    "good_centers['V_MaNGA_IVAR'] = np.nan\n",
    "\n",
    "for i in range(len(good_centers)):\n",
    "    \n",
    "    gal_row = SGA_MaNGA['sga_id'] == good_centers['SGA_ID'][i]\n",
    "    \n",
    "    if np.sum(gal_row) > 0:\n",
    "        \n",
    "        # Find galaxy's MaNGA plate-IFU\n",
    "        gal_plate = SGA_MaNGA['MaNGA_plate'][gal_row][0]\n",
    "        gal_IFU = SGA_MaNGA['MaNGA_IFU'][gal_row][0]\n",
    "\n",
    "        ##################################################################################\n",
    "        # Import data file\n",
    "        #---------------------------------------------------------------------------------\n",
    "        file_name = str(gal_plate) + '/' + str(gal_IFU) + '/manga-' + str(gal_plate) + '-' + str(gal_IFU) + '-MAPS-HYB10-GAU-MILESHC.fits.gz'\n",
    "\n",
    "        if os.path.isfile(VEL_MAP_FOLDER + file_name):\n",
    "            hdul = fits.open(VEL_MAP_FOLDER + file_name)\n",
    "            cz = hdul['PRIMARY'].header['SCINPVEL']\n",
    "            vel = hdul['EMLINE_GVEL']\n",
    "\n",
    "            Ha_vel = vel.data[18] + cz\n",
    "            Ha_ivar = hdul['EMLINE_GVEL_IVAR'].data[18]\n",
    "            Ha_mask = hdul['EMLINE_GVEL_MASK'].data[18]\n",
    "\n",
    "            mHa_vel = ma.array(Ha_vel, mask=Ha_mask)\n",
    "            mHa_ivar = ma.array(Ha_ivar, mask=Ha_mask)\n",
    "            ##################################################################################\n",
    "\n",
    "            gal_wcs = wcs.WCS(vel.header)\n",
    "            \n",
    "            # Convert DESI observed coordinates to pixel coordinates\n",
    "            pix_coords = gal_wcs.wcs_world2pix(np.array([[good_centers['RA'][i], \n",
    "                                                          good_centers['DEC'][i], \n",
    "                                                          18]]), \n",
    "                                               0)\n",
    "\n",
    "            # Extract observed velocity at that location\n",
    "            cz_manga = mHa_vel[pix_coords[0][0].astype(int), pix_coords[0][1].astype(int)]\n",
    "            cz_manga_ivar = mHa_ivar[pix_coords[0][0].astype(int), pix_coords[0][1].astype(int)]\n",
    "\n",
    "            #print(cz_manga)\n",
    "\n",
    "            # Save this measured velocity\n",
    "            good_centers['V_MaNGA'][i] = cz_manga\n",
    "            good_centers['V_MaNGA_IVAR'][i] = cz_manga_ivar"
   ]
  },
  {
   "cell_type": "code",
   "execution_count": 34,
   "id": "a121f1b5-8f5a-45ea-aded-6086f5dcdc5e",
   "metadata": {},
   "outputs": [],
   "source": [
    "axis_0p3_good['V_ROT_MaNGA'] = np.nan\n",
    "axis_0p3_good['V_ROT_MaNGA_ERR'] = np.nan\n",
    "\n",
    "\n",
    "# For each SGA galaxy that has at least one center observation, calculate the \n",
    "# distance for all of that galaxy's targets\n",
    "for sga_gal in np.unique(good_centers['SGA_ID']):\n",
    "    \n",
    "    # Identify all galaxy targets on this galaxy\n",
    "    obs_idx = axis_0p3_good['SGA_ID'] == sga_gal\n",
    "    center_idx = good_centers['SGA_ID'] == sga_gal\n",
    "    \n",
    "    # Find galaxy index in SGA catalog\n",
    "    sga_idx = SGA_dict[sga_gal]\n",
    "    \n",
    "    \n",
    "    #---------------------------------------------------------------------------\n",
    "    # Calculate rotational velocity\n",
    "    #---------------------------------------------------------------------------\n",
    "    # Use the average redshift of all center observations for the systemic velocity\n",
    "    cz_center = np.mean(good_centers['V_MaNGA'][center_idx])\n",
    "    cz_err_center2 = np.sum(1./good_centers['V_MaNGA_IVAR'][center_idx])/np.sum(center_idx)**2\n",
    "\n",
    "    # Calculate rotational velocity for all observations of the galaxy\n",
    "    axis_0p3_good['V_ROT_MaNGA'][obs_idx] = axis_0p3_good['V_MaNGA'][obs_idx] - cz_center\n",
    "    axis_0p3_good['V_ROT_MaNGA_ERR'][obs_idx] = np.sqrt(1./axis_0p3_good['V_MaNGA_IVAR'][obs_idx] + cz_err_center2)\n",
    "    #---------------------------------------------------------------------------\n",
    "    \n",
    "    \n",
    "    #---------------------------------------------------------------------------\n",
    "    # Correct rotational velocities for inclination angle\n",
    "    #---------------------------------------------------------------------------\n",
    "    cosi2 = (SGA['BA'][sga_idx]**2 - q0**2)/(1 - q0**2)\n",
    "    \n",
    "    # Galaxies with b/a < q0\n",
    "    if cosi2 < 0:\n",
    "        cosi2 = 0\n",
    "    \n",
    "    axis_0p3_good['V_ROT_MaNGA'][obs_idx] /= np.sin(np.arccos(np.sqrt(cosi2)))\n",
    "    #---------------------------------------------------------------------------"
   ]
  },
  {
   "cell_type": "code",
   "execution_count": 35,
   "id": "acddcb2f-80c9-496d-bde6-004fbb7f353e",
   "metadata": {},
   "outputs": [
    {
     "data": {
      "image/png": "[encoded data removed]",
      "text/plain": [
       "<Figure size 432x288 with 2 Axes>"
      ]
     },
     "metadata": {
      "needs_background": "light"
     },
     "output_type": "display_data"
    }
   ],
   "source": [
    "fig = plt.figure()\n",
    "\n",
    "frame1 = fig.add_axes((0.2, 0.35, 0.75, 0.6))\n",
    "\n",
    "plt.errorbar(axis_0p3_good['V_ROT'], axis_0p3_good['V_ROT_MaNGA'], \n",
    "             yerr=axis_0p3_good['V_ROT_MaNGA_ERR'], \n",
    "             xerr=axis_0p3_good['V_ROT_ERR'], \n",
    "             fmt='o', \n",
    "             ecolor='lightskyblue')\n",
    "plt.plot([0, 1000], [0, 1000], 'k:')\n",
    "\n",
    "plt.ylim(-150, 200)\n",
    "plt.xlim(0, 250)\n",
    "\n",
    "plt.ylabel('MaNGA IFU')\n",
    "\n",
    "plt.title('$V(0.33R_{26})$ [km/s]')\n",
    "\n",
    "frame1.axes.get_xaxis().set_visible(False)\n",
    "\n",
    "\n",
    "frame2 = fig.add_axes((0.2, 0.15, 0.75, 0.2))\n",
    "\n",
    "plt.errorbar(axis_0p3_good['V_ROT'], axis_0p3_good['V_ROT'] - axis_0p3_good['V_ROT_MaNGA'], \n",
    "             xerr=axis_0p3_good['V_ROT_ERR'], \n",
    "             yerr=np.sqrt(axis_0p3_good['V_ROT_ERR']**2 + axis_0p3_good['V_ROT_MaNGA_ERR']**2), \n",
    "             fmt='o', \n",
    "             ecolor='lightskyblue')\n",
    "plt.hlines(0, 0, 250, linestyles='dotted', colors='k')\n",
    "\n",
    "plt.xlim(0, 250)\n",
    "plt.ylim(-150, 300)\n",
    "\n",
    "plt.xlabel('DESI')\n",
    "plt.ylabel('$\\Delta V$ [km/s]\\n (DESI - MaNGA)');"
   ]
  },
  {
   "cell_type": "code",
   "execution_count": 36,
   "id": "f83a35dc-9afd-4bb6-99e3-2462d4fb0541",
   "metadata": {},
   "outputs": [
    {
     "data": {
      "image/png": "[encoded data removed]",
      "text/plain": [
       "<Figure size 432x288 with 1 Axes>"
      ]
     },
     "metadata": {
      "needs_background": "light"
     },
     "output_type": "display_data"
    }
   ],
   "source": [
    "plt.figure(tight_layout=True)\n",
    "\n",
    "plt.hist((axis_0p3_good['V_ROT'] - axis_0p3_good['V_ROT_MaNGA'])/np.sqrt(axis_0p3_good['V_ROT_ERR']**2 + axis_0p3_good['V_ROT_MaNGA_ERR']**2), \n",
    "         #bins=np.arange(-400, 100, 50), \n",
    "         bins=np.arange(-160, 150, 10)\n",
    "        )\n",
    "\n",
    "#plt.xlabel('$\\Delta V(0.33R_{26})$ [km/s] (DESI - MaNGA fit)')\n",
    "plt.xlabel('$\\Delta V(0.33R_{26})/\\sigma$ (DESI - MaNGA)')\n",
    "plt.ylabel('Number of galaxies');"
   ]
  },
  {
   "cell_type": "code",
   "execution_count": null,
   "id": "d20bb813-b2b7-430a-b206-7062c6cb0fae",
   "metadata": {},
   "outputs": [],
   "source": []
  }
 ],
 "metadata": {
  "kernelspec": {
   "display_name": "DESI master",
   "language": "python",
   "name": "desi-master"
  },
  "language_info": {
   "codemirror_mode": {
    "name": "ipython",
    "version": 3
   },
   "file_extension": ".py",
   "mimetype": "text/x-python",
   "name": "python",
   "nbconvert_exporter": "python",
   "pygments_lexer": "ipython3",
   "version": "3.9.7"
  }
 },
 "nbformat": 4,
 "nbformat_minor": 5
}
