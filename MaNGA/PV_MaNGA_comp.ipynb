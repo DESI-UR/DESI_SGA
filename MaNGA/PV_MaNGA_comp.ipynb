{
 "cells": [
  {
   "cell_type": "markdown",
   "id": "6697219a-5af6-4755-8925-2c42ce1c407b",
   "metadata": {},
   "source": [
    "How well do our observations at 0.33$R_{26}$ / 0.4$R_{26}$ match MaNGA's observations at the same radius?  And how well do our velocities observed at these radii reproduce the asymptotic rotational velocity?"
   ]
  },
  {
   "cell_type": "code",
   "execution_count": 20,
   "id": "f6c3deb9-820f-47f6-8f4d-7008654186e3",
   "metadata": {},
   "outputs": [],
   "source": [
    "import numpy as np\n",
    "\n",
    "from astropy.table import Table\n",
    "from astropy.coordinates import SkyCoord\n",
    "import astropy.constants as const\n",
    "import astropy.units as u"
   ]
  },
  {
   "cell_type": "code",
   "execution_count": 36,
   "id": "7d543f83-5977-4406-b6d1-bf135cb4271a",
   "metadata": {},
   "outputs": [],
   "source": [
    "h = 1\n",
    "H0 = 100*h\n",
    "\n",
    "c = const.c.to('km/s')\n",
    "\n",
    "q0 = 0.2\n",
    "\n",
    "MANGA_SPAXEL_SIZE = 0.5*u.arcsec"
   ]
  },
  {
   "cell_type": "markdown",
   "id": "cf6dd5b8-27d0-4ab7-bcd0-504d897eba68",
   "metadata": {},
   "source": [
    "# Import data\n",
    "\n",
    "## DESI"
   ]
  },
  {
   "cell_type": "code",
   "execution_count": 9,
   "id": "6b1100fc-4eeb-4ac9-8b46-227fa58ecf00",
   "metadata": {},
   "outputs": [],
   "source": [
    "tf_targets = Table.read('/global/cfs/projectdirs/desi/science/td/pv/desi_pv_tf_fuji_healpix.fits')"
   ]
  },
  {
   "cell_type": "markdown",
   "id": "a4865b6b-6c0d-4ba2-b1fa-052604c0bfe6",
   "metadata": {},
   "source": [
    "## SGA"
   ]
  },
  {
   "cell_type": "code",
   "execution_count": 10,
   "id": "86bbc48f-2b59-469b-998f-962b53bc0840",
   "metadata": {},
   "outputs": [],
   "source": [
    "SGA = Table.read('/global/cfs/cdirs/cosmo/data/sga/2020/SGA-2020.fits', 'ELLIPSE')"
   ]
  },
  {
   "cell_type": "code",
   "execution_count": 16,
   "id": "67bb069d-f501-48a2-8150-a6d886fb25f3",
   "metadata": {},
   "outputs": [],
   "source": [
    "SGA_dict = {}\n",
    "\n",
    "for i in range(len(SGA)):\n",
    "    \n",
    "    SGA_dict[SGA['SGA_ID'][i]] = i"
   ]
  },
  {
   "cell_type": "markdown",
   "id": "8204cb33-f8a2-43f5-b1e9-ae2aa318dca7",
   "metadata": {},
   "source": [
    "## SDSS MaNGA cross-match file\n",
    "\n",
    "Made by Grace Chiodo in Summer 2021, using SDSS MaNGA DR15."
   ]
  },
  {
   "cell_type": "code",
   "execution_count": 23,
   "id": "f2538490-64d5-47f2-b4a2-f27f55bdb9a6",
   "metadata": {},
   "outputs": [
    {
     "data": {
      "text/html": [
       "<div><i>Table length=5</i>\n",
       "<table id=\"table22798890507520\" class=\"table-striped table-bordered table-condensed\">\n",
       "<thead><tr><th>MaNGA_plate</th><th>MaNGA_IFU</th><th>sga_id</th><th>BA</th><th>PA</th><th>plateifu</th></tr></thead>\n",
       "<thead><tr><th>int64</th><th>int64</th><th>int64</th><th>float64</th><th>float64</th><th>str10</th></tr></thead>\n",
       "<tr><td>7968</td><td>3702</td><td>97758</td><td>0.3215293288230896</td><td>159.22218322753906</td><td>7968-3702</td></tr>\n",
       "<tr><td>8479</td><td>6101</td><td>433955</td><td>0.32715362310409546</td><td>54.33457565307617</td><td>8479-6101</td></tr>\n",
       "<tr><td>8479</td><td>6102</td><td>487085</td><td>0.5813088417053223</td><td>1.3182913064956665</td><td>8479-6102</td></tr>\n",
       "<tr><td>8480</td><td>6103</td><td>487085</td><td>0.5813088417053223</td><td>1.3182913064956665</td><td>8480-6103</td></tr>\n",
       "<tr><td>8481</td><td>12705</td><td>810971</td><td>0.268082857131958</td><td>56.5462760925293</td><td>8481-12705</td></tr>\n",
       "</table></div>"
      ],
      "text/plain": [
       "<Table length=5>\n",
       "MaNGA_plate MaNGA_IFU sga_id          BA                 PA          plateifu \n",
       "   int64      int64   int64        float64            float64         str10   \n",
       "----------- --------- ------ ------------------- ------------------ ----------\n",
       "       7968      3702  97758  0.3215293288230896 159.22218322753906  7968-3702\n",
       "       8479      6101 433955 0.32715362310409546  54.33457565307617  8479-6101\n",
       "       8479      6102 487085  0.5813088417053223 1.3182913064956665  8479-6102\n",
       "       8480      6103 487085  0.5813088417053223 1.3182913064956665  8480-6103\n",
       "       8481     12705 810971   0.268082857131958   56.5462760925293 8481-12705"
      ]
     },
     "execution_count": 23,
     "metadata": {},
     "output_type": "execute_result"
    }
   ],
   "source": [
    "SGA_MaNGA = Table.read('MaNGA_DESI_galaxies_08042021.txt', format='ascii.commented_header')\n",
    "\n",
    "SGA_MaNGA[:5]"
   ]
  },
  {
   "cell_type": "markdown",
   "id": "6074d719-5c16-47c2-8f60-214c071dbe53",
   "metadata": {},
   "source": [
    "## SDSS MaNGA best-fits\n",
    "\n",
    "From Douglass & Demina (2022)"
   ]
  },
  {
   "cell_type": "code",
   "execution_count": 12,
   "id": "d3e95c53-8853-4e7d-b57f-efa94873b661",
   "metadata": {},
   "outputs": [
    {
     "name": "stderr",
     "output_type": "stream",
     "text": [
      "WARNING: OverflowError converting to FloatType in column avg_alpha, possibly resulting in degraded precision. [astropy.io.ascii.fastbasic]\n",
      "WARNING: OverflowError converting to FloatType in column pos_alpha, possibly resulting in degraded precision. [astropy.io.ascii.fastbasic]\n",
      "WARNING: OverflowError converting to FloatType in column neg_alpha, possibly resulting in degraded precision. [astropy.io.ascii.fastbasic]\n"
     ]
    }
   ],
   "source": [
    "#MaNGA_fits = Table.read('DESI_vel_map_results_BB_smooth_lt_1p85_v2.txt', \n",
    "MaNGA_fits = Table.read('DRP-master_file_vflag_BB_smooth1p85_mapFit_N2O2_HIdr2_morph_SK_H2_v6.txt', \n",
    "                        format='ascii.commented_header')"
   ]
  },
  {
   "cell_type": "markdown",
   "id": "0ae3cad1-3b64-44fd-91f4-bd8aa7a3581a",
   "metadata": {},
   "source": [
    "# Compare DESI's observed rotational velocities at 0.33$R_{26}$ with that calculated from the best-fit to the MaNGA data at that radius"
   ]
  },
  {
   "cell_type": "markdown",
   "id": "59cb79cc-4b26-40fd-a117-077380cc06af",
   "metadata": {
    "tags": []
   },
   "source": [
    "## 1) Calculate the rotational velocities for the DESI galaxies"
   ]
  },
  {
   "cell_type": "markdown",
   "id": "d1cf249d-346e-488a-9156-e19cbf1ae61f",
   "metadata": {},
   "source": [
    "### Separate the fuji data into center and off-center observations"
   ]
  },
  {
   "cell_type": "code",
   "execution_count": 13,
   "id": "8725c081-d007-4f5c-9eba-c7b627d22bca",
   "metadata": {},
   "outputs": [],
   "source": [
    "def firstdigit(n):\n",
    "    \"\"\"\n",
    "    Return the first digit of a number.\n",
    "    \n",
    "    Parameters\n",
    "    ----------\n",
    "    n : int, float, or ndarray\n",
    "        Number or list of numbers.\n",
    "    \n",
    "    Returns\n",
    "    -------\n",
    "    digit : int\n",
    "        First digit of the number.\n",
    "    \"\"\"\n",
    "    \n",
    "    digit = np.trunc(n * 10**(-np.trunc(np.log10(n)))).astype(int)\n",
    "    \n",
    "    return digit"
   ]
  },
  {
   "cell_type": "code",
   "execution_count": 14,
   "id": "28659bff-8a4d-49ec-ac4e-ed7d2357583d",
   "metadata": {},
   "outputs": [
    {
     "name": "stderr",
     "output_type": "stream",
     "text": [
      "/tmp/ipykernel_83662/917620242.py:16: RuntimeWarning: invalid value encountered in log10\n",
      "  digit = np.trunc(n * 10**(-np.trunc(np.log10(n)))).astype(int)\n"
     ]
    }
   ],
   "source": [
    "first_digits = firstdigit(tf_targets['TARGETID'])\n",
    "\n",
    "centers = tf_targets[first_digits == 3]\n",
    "axis = tf_targets[first_digits != 3]"
   ]
  },
  {
   "cell_type": "markdown",
   "id": "3244c2c8-5c36-4f56-ba60-0c290a9b2ac4",
   "metadata": {},
   "source": [
    "### Clean the fuji center observations\n",
    "\n",
    "Only keep those with\n",
    " * DELTACHI2 > 25\n",
    " * ZWARN == 0"
   ]
  },
  {
   "cell_type": "code",
   "execution_count": 15,
   "id": "4ce43841-f066-4fa5-843f-106b5d875d8a",
   "metadata": {},
   "outputs": [],
   "source": [
    "good_centers = centers[(centers['DELTACHI2'] > 25) & (centers['ZWARN'] == 0)]"
   ]
  },
  {
   "cell_type": "markdown",
   "id": "c10ec89d-6648-44de-b4f1-3bca9d841314",
   "metadata": {},
   "source": [
    "### If an SGA galaxy has at least one observation at its center, set the redshift of that galaxy"
   ]
  },
  {
   "cell_type": "code",
   "execution_count": 17,
   "id": "24d6bc66-74f3-4f20-bbde-45155fddc143",
   "metadata": {},
   "outputs": [],
   "source": [
    "SGA['Z_DESI'] = np.nan\n",
    "SGA['ZERR_DESI'] = np.nan\n",
    "\n",
    "for sga_id in np.unique(good_centers['SGA_ID']):\n",
    "    \n",
    "    # Find the row in SGA for this galaxy\n",
    "    SGA_idx = SGA_dict[sga_id]\n",
    "    \n",
    "    # Set the redshift of this galaxy to be the average redshift of all good center observations\n",
    "    SGA['Z_DESI'][SGA_idx] = np.mean(good_centers['Z'][good_centers['SGA_ID'] == sga_id])\n",
    "    SGA['ZERR_DESI'][SGA_idx] = np.mean(good_centers['ZERR'][good_centers['SGA_ID'] == sga_id]**2)/np.sum(good_centers['SGA_ID'] == sga_id)"
   ]
  },
  {
   "cell_type": "markdown",
   "id": "42fec531-3916-4607-b882-0eae06cd0751",
   "metadata": {},
   "source": [
    "### Calculate the rotational velocity"
   ]
  },
  {
   "cell_type": "code",
   "execution_count": 37,
   "id": "7e2e41e8-06e5-4c34-890d-2239c2891842",
   "metadata": {},
   "outputs": [
    {
     "name": "stderr",
     "output_type": "stream",
     "text": [
      "/tmp/ipykernel_83662/116782489.py:56: RuntimeWarning: divide by zero encountered in true_divide\n",
      "  axis['V_ROT'][obs_idx] /= np.sin(np.arccos(np.sqrt(cosi2)))\n"
     ]
    }
   ],
   "source": [
    "axis['SKY_FIBER_DIST'] = 0.\n",
    "axis['SKY_FIBER_DIST_R26'] = 0.\n",
    "axis['V_ROT'] = np.nan\n",
    "axis['V_ROT_ERR'] = np.nan\n",
    "\n",
    "\n",
    "# For each SGA galaxy that has at least one center observation, calculate the \n",
    "# distance for all of that galaxy's targets\n",
    "for sga_gal in np.unique(centers['SGA_ID']):\n",
    "    \n",
    "    # Identify all galaxy targets on this galaxy\n",
    "    obs_idx = axis['SGA_ID'] == sga_gal\n",
    "    \n",
    "    # Find galaxy index in SGA catalog\n",
    "    sga_idx = SGA_dict[sga_gal]\n",
    "    \n",
    "    #---------------------------------------------------------------------------\n",
    "    # Calculate distance between each observation and the center\n",
    "    #---------------------------------------------------------------------------\n",
    "    center_coords = SkyCoord(ra=SGA['RA'][sga_idx], \n",
    "                             dec=SGA['DEC'][sga_idx], \n",
    "                             unit=u.degree)\n",
    "    target_coords = SkyCoord(ra=axis['RA'][obs_idx], \n",
    "                             dec=axis['DEC'][obs_idx], \n",
    "                             unit=u.degree)\n",
    "    \n",
    "    sep2d = target_coords.separation(center_coords)\n",
    "    \n",
    "    axis['SKY_FIBER_DIST'][obs_idx] = sep2d\n",
    "    axis['SKY_FIBER_DIST_R26'][obs_idx] = 2*sep2d.to('arcmin')/(SGA['D26'][sga_idx]*u.arcmin)\n",
    "    #---------------------------------------------------------------------------\n",
    "    \n",
    "    \n",
    "    #---------------------------------------------------------------------------\n",
    "    # Calculate rotational velocity\n",
    "    #---------------------------------------------------------------------------\n",
    "    # Use the average redshift of all center observations for the systemic velocity\n",
    "    z_center = np.mean(SGA['Z_DESI'][sga_idx])\n",
    "    z_err_center2 = SGA['ZERR_DESI'][sga_idx]**2\n",
    "\n",
    "    # Calculate rotational velocity for all observations of the galaxy\n",
    "    axis['V_ROT'][obs_idx] = c*(axis['Z'][obs_idx] - z_center)\n",
    "    axis['V_ROT_ERR'][obs_idx] = c*np.sqrt(axis['ZERR'][obs_idx]**2 + z_err_center2)\n",
    "    #---------------------------------------------------------------------------\n",
    "    \n",
    "    \n",
    "    #---------------------------------------------------------------------------\n",
    "    # Correct rotational velocities for inclination angle\n",
    "    #---------------------------------------------------------------------------\n",
    "    cosi2 = (SGA['BA'][sga_idx]**2 - q0**2)/(1 - q0**2)\n",
    "    \n",
    "    # Galaxies with b/a < q0\n",
    "    if cosi2 < 0:\n",
    "        cosi2 = 0\n",
    "    \n",
    "    axis['V_ROT'][obs_idx] /= np.sin(np.arccos(np.sqrt(cosi2)))\n",
    "    #---------------------------------------------------------------------------"
   ]
  },
  {
   "cell_type": "markdown",
   "id": "8d6b63ce-f7e3-4f3e-95cc-e8eee98fed90",
   "metadata": {},
   "source": [
    "### Just keep those velocities measured at 0.33$R_{26}$"
   ]
  },
  {
   "cell_type": "code",
   "execution_count": 38,
   "id": "dfd7334a-9cc1-4d09-a661-9cdbed224639",
   "metadata": {},
   "outputs": [],
   "source": [
    "axis_0p3 = axis[(axis['SKY_FIBER_DIST_R26'] > 0.3) & (axis['SKY_FIBER_DIST_R26'] < 0.4)]"
   ]
  },
  {
   "cell_type": "markdown",
   "id": "1b7fe531-6c96-48e7-8d2a-9c92a1a6b998",
   "metadata": {},
   "source": [
    "### Remove \"bad\" galaxies\n",
    "\n",
    "Those with\n",
    "* $V > 1000$ km/s"
   ]
  },
  {
   "cell_type": "code",
   "execution_count": 39,
   "id": "b0a8e5bb-5764-4af6-9146-feb82010ef11",
   "metadata": {},
   "outputs": [
    {
     "data": {
      "text/html": [
       "<div><i>Table length=5</i>\n",
       "<table id=\"table22798870285376\" class=\"table-striped table-bordered table-condensed\">\n",
       "<thead><tr><th>TARGETID</th><th>TARGET_RA</th><th>TARGET_DEC</th><th>HEALPIX</th><th>SURVEY</th><th>Z</th><th>ZERR</th><th>ZWARN</th><th>DELTACHI2</th><th>FILENAME</th><th>PVTYPE</th><th>SGA_ID</th><th>RA</th><th>DEC</th><th>SKY_FIBER_DIST</th><th>SKY_FIBER_DIST_R26</th><th>V_ROT</th><th>V_ROT_ERR</th></tr></thead>\n",
       "<thead><tr><th>int64</th><th>float64</th><th>float64</th><th>int64</th><th>bytes3</th><th>float64</th><th>float64</th><th>int64</th><th>float64</th><th>bytes63</th><th>bytes3</th><th>int64</th><th>float64</th><th>float64</th><th>float64</th><th>float64</th><th>float64</th><th>float64</th></tr></thead>\n",
       "<tr><td>1070235180335113</td><td>208.919635503634</td><td>4.98868419056778</td><td>26090</td><td>sv3</td><td>0.00406957966391755</td><td>8.79850271950027e-05</td><td>4</td><td>0.232979318086109</td><td>fuji/healpix/sv3/bright/260/26090/redrock-sv3-bright-26090.fits</td><td>EXT</td><td>631395</td><td>208.91963550363434</td><td>4.988684190567775</td><td>0.01104459258096158</td><td>0.3300000131125383</td><td>57.33193100056125</td><td>26.377247569986736</td></tr>\n",
       "<tr><td>1083429319868425</td><td>208.919635503634</td><td>4.98868419056778</td><td>26090</td><td>sv3</td><td>0.00414750849232355</td><td>7.13762071499604e-05</td><td>0</td><td>37.3058008448807</td><td>fuji/healpix/sv3/dark/260/26090/redrock-sv3-dark-26090.fits</td><td>EXT</td><td>631395</td><td>208.91963550363434</td><td>4.988684190567775</td><td>0.01104459258096158</td><td>0.3300000131125383</td><td>82.45297543020575</td><td>21.398048584203842</td></tr>\n",
       "<tr><td>1083338303471619</td><td>178.909990284283</td><td>1.23197064456541</td><td>27650</td><td>sv3</td><td>0.00651958780483995</td><td>6.84625673525266e-06</td><td>0</td><td>478.315322757233</td><td>fuji/healpix/sv3/dark/276/27650/redrock-sv3-dark-27650.fits</td><td>EXT</td><td>1033344</td><td>178.90999028428269</td><td>1.2319706445654142</td><td>0.008001821639844116</td><td>0.3300000001109575</td><td>121.97667415638571</td><td>2.052456134762253</td></tr>\n",
       "<tr><td>1083338303471618</td><td>178.897801871515</td><td>1.24234505754909</td><td>27650</td><td>sv3</td><td>0.00612525938757635</td><td>5.59810860736493e-06</td><td>0</td><td>800.964292295277</td><td>fuji/healpix/sv3/dark/276/27650/redrock-sv3-dark-27650.fits</td><td>EXT</td><td>1033344</td><td>178.89780187151533</td><td>1.242345057549085</td><td>0.008001821639837198</td><td>0.33000000011067215</td><td>-77.4715539900934</td><td>1.6782707395550946</td></tr>\n",
       "<tr><td>1083435338694660</td><td>208.737562035713</td><td>5.31217069943004</td><td>26432</td><td>sv3</td><td>0.00435515438171736</td><td>5.95161028988655e-05</td><td>0</td><td>64.5522083645719</td><td>fuji/healpix/sv3/dark/264/26432/redrock-sv3-dark-26432.fits</td><td>EXT</td><td>547778</td><td>208.7375620357128</td><td>5.31217069943004</td><td>0.02245240582779445</td><td>0.33000001952950575</td><td>-82.94586723919</td><td>17.842478778633268</td></tr>\n",
       "</table></div>"
      ],
      "text/plain": [
       "<Table length=5>\n",
       "    TARGETID        TARGET_RA     ...       V_ROT            V_ROT_ERR     \n",
       "     int64           float64      ...      float64            float64      \n",
       "---------------- ---------------- ... ------------------ ------------------\n",
       "1070235180335113 208.919635503634 ...  57.33193100056125 26.377247569986736\n",
       "1083429319868425 208.919635503634 ...  82.45297543020575 21.398048584203842\n",
       "1083338303471619 178.909990284283 ... 121.97667415638571  2.052456134762253\n",
       "1083338303471618 178.897801871515 ...  -77.4715539900934 1.6782707395550946\n",
       "1083435338694660 208.737562035713 ...    -82.94586723919 17.842478778633268"
      ]
     },
     "execution_count": 39,
     "metadata": {},
     "output_type": "execute_result"
    }
   ],
   "source": [
    "axis_0p3_good = axis_0p3[np.abs(axis_0p3['V_ROT']) < 1000]\n",
    "\n",
    "axis_0p3_good[:5]"
   ]
  },
  {
   "cell_type": "markdown",
   "id": "1b394f73-4f7f-405a-a44e-75ebc744546a",
   "metadata": {},
   "source": [
    "### Add these velocities to the SDSS MaNGA - SGA cross-match file"
   ]
  },
  {
   "cell_type": "code",
   "execution_count": 40,
   "id": "2b6ec8e4-3174-471f-bd58-a05b5d6cd74b",
   "metadata": {},
   "outputs": [],
   "source": [
    "SGA_MaNGA['V_0p33R26'] = np.nan\n",
    "SGA_MaNGA['V_0p33R26_ERR'] = np.nan\n",
    "\n",
    "weights = 1./(axis_0p3_good['V_ROT_ERR']**2)\n",
    "\n",
    "for i in range(len(SGA_MaNGA)):\n",
    "    \n",
    "    # Does this galaxy have any observations?\n",
    "    i_obs = axis_0p3_good['SGA_ID'] == SGA_MaNGA['sga_id'][i]\n",
    "    \n",
    "    if np.sum(i_obs) > 0:\n",
    "        \n",
    "        # Average all velocities at this radius\n",
    "        SGA_MaNGA['V_0p33R26'][i] = np.average(np.abs(axis_0p3_good['V_ROT'][i_obs]), \n",
    "                                               weights=weights[i_obs])\n",
    "        SGA_MaNGA['V_0p33R26_ERR'][i] = np.sqrt(1./np.sum(weights[i_obs]))"
   ]
  },
  {
   "cell_type": "code",
   "execution_count": 42,
   "id": "0a1ff4d1-43c9-4490-8713-c939cb81c873",
   "metadata": {},
   "outputs": [
    {
     "data": {
      "text/html": [
       "<i>Table length=50</i>\n",
       "<table id=\"table22798881809936-813916\" class=\"table-striped table-bordered table-condensed\">\n",
       "<thead><tr><th>idx</th><th>MaNGA_plate</th><th>MaNGA_IFU</th><th>sga_id</th><th>BA</th><th>PA</th><th>plateifu</th><th>V_0p33R26</th><th>V_0p33R26_ERR</th></tr></thead>\n",
       "<tr><td>0</td><td>8479</td><td>6102</td><td>487085</td><td>0.5813088417053223</td><td>1.3182913064956665</td><td>8479-6102</td><td>223.95494076075573</td><td>8.795513663749514</td></tr>\n",
       "<tr><td>1</td><td>8480</td><td>6103</td><td>487085</td><td>0.5813088417053223</td><td>1.3182913064956665</td><td>8480-6103</td><td>223.95494076075573</td><td>8.795513663749514</td></tr>\n",
       "<tr><td>2</td><td>8481</td><td>12705</td><td>810971</td><td>0.268082857131958</td><td>56.5462760925293</td><td>8481-12705</td><td>143.9510078418774</td><td>2.215518265835735</td></tr>\n",
       "<tr><td>3</td><td>8484</td><td>3701</td><td>302062</td><td>0.6225041747093201</td><td>119.090087890625</td><td>8484-3701</td><td>109.17612316124635</td><td>2.1124446051803405</td></tr>\n",
       "<tr><td>4</td><td>8547</td><td>6102</td><td>925354</td><td>0.6025776267051697</td><td>146.05860900878906</td><td>8547-6102</td><td>205.77258114621176</td><td>1.5235238718905617</td></tr>\n",
       "<tr><td>5</td><td>8547</td><td>6103</td><td>171058</td><td>0.5511276125907898</td><td>3.9989326000213623</td><td>8547-6103</td><td>138.28308158423158</td><td>0.4916285418325515</td></tr>\n",
       "<tr><td>6</td><td>8555</td><td>12703</td><td>127268</td><td>0.2092917561531067</td><td>143.2239532470703</td><td>8555-12703</td><td>210.96779881214266</td><td>2.332334252430736</td></tr>\n",
       "<tr><td>7</td><td>8555</td><td>1902</td><td>575284</td><td>0.6609105467796326</td><td>106.39098358154297</td><td>8555-1902</td><td>137.07386885858102</td><td>4.085461504059483</td></tr>\n",
       "<tr><td>8</td><td>8555</td><td>9102</td><td>1285122</td><td>0.7685890793800354</td><td>107.45079040527344</td><td>8555-9102</td><td>162.57738944564244</td><td>1.358729053158345</td></tr>\n",
       "<tr><td>9</td><td>8600</td><td>1901</td><td>186915</td><td>0.7746372222900391</td><td>129.28488159179688</td><td>8600-1901</td><td>166.8309402755933</td><td>1.5433379347652003</td></tr>\n",
       "<tr><td>10</td><td>8613</td><td>12701</td><td>364445</td><td>0.5546001195907593</td><td>15.079439163208008</td><td>8613-12701</td><td>190.84299693068257</td><td>0.9748842540993284</td></tr>\n",
       "<tr><td>11</td><td>8613</td><td>12702</td><td>1290113</td><td>0.37841910123825073</td><td>69.72722625732422</td><td>8613-12702</td><td>194.64632224259776</td><td>1.9740805907865058</td></tr>\n",
       "<tr><td>12</td><td>8931</td><td>1902</td><td>365429</td><td>0.58881676197052</td><td>34.866180419921875</td><td>8931-1902</td><td>74.09037045217156</td><td>25.145092540617586</td></tr>\n",
       "<tr><td>13</td><td>8931</td><td>3702</td><td>191496</td><td>0.5117542743682861</td><td>169.60484313964844</td><td>8931-3702</td><td>147.22519986233158</td><td>12.432989344279202</td></tr>\n",
       "<tr><td>14</td><td>8932</td><td>12701</td><td>819754</td><td>0.684948742389679</td><td>62.18381118774414</td><td>8932-12701</td><td>127.99601799665143</td><td>0.7873797035438239</td></tr>\n",
       "<tr><td>15</td><td>8932</td><td>12702</td><td>100987</td><td>0.22466039657592773</td><td>114.50669860839844</td><td>8932-12702</td><td>120.90362737071462</td><td>11.112681870118244</td></tr>\n",
       "<tr><td>16</td><td>8932</td><td>12705</td><td>629860</td><td>0.3804548978805542</td><td>53.43220520019531</td><td>8932-12705</td><td>64.93353364408492</td><td>17.686703520142274</td></tr>\n",
       "<tr><td>17</td><td>8932</td><td>3701</td><td>1204237</td><td>0.7244837880134583</td><td>13.08159351348877</td><td>8932-3701</td><td>119.33745140364951</td><td>0.2776280172613306</td></tr>\n",
       "<tr><td>18</td><td>8932</td><td>3703</td><td>1387991</td><td>0.3150583505630493</td><td>77.0833969116211</td><td>8932-3703</td><td>84.84351469897763</td><td>9.022596951436883</td></tr>\n",
       "<tr><td>19</td><td>8932</td><td>6102</td><td>1379275</td><td>0.40062516927719116</td><td>5.078217506408691</td><td>8932-6102</td><td>84.34841863653604</td><td>28.641093133606596</td></tr>\n",
       "<tr><td>20</td><td>8934</td><td>3701</td><td>1272144</td><td>0.6809766292572021</td><td>161.55909729003906</td><td>8934-3701</td><td>74.69666126834792</td><td>6.902662028813457</td></tr>\n",
       "<tr><td>21</td><td>8935</td><td>9101</td><td>291879</td><td>0.3331384062767029</td><td>23.189922332763672</td><td>8935-9101</td><td>118.41925825942022</td><td>10.117076272821619</td></tr>\n",
       "<tr><td>22</td><td>8949</td><td>12703</td><td>1089288</td><td>0.7396504282951355</td><td>95.35550689697266</td><td>8949-12703</td><td>70.15900333789699</td><td>1.5741928980075712</td></tr>\n",
       "<tr><td>23</td><td>8949</td><td>12705</td><td>171794</td><td>0.5453890562057495</td><td>173.40066528320312</td><td>8949-12705</td><td>31.235698932521178</td><td>17.688470632769725</td></tr>\n",
       "<tr><td>24</td><td>8949</td><td>9102</td><td>834049</td><td>0.287956178188324</td><td>70.2303466796875</td><td>8949-9102</td><td>92.81133497614604</td><td>22.879258445730063</td></tr>\n",
       "<tr><td>25</td><td>8950</td><td>12705</td><td>1219319</td><td>0.16703689098358154</td><td>71.99395751953125</td><td>8950-12705</td><td>216.18796285257156</td><td>2.743959790905706</td></tr>\n",
       "<tr><td>26</td><td>8950</td><td>1901</td><td>1364394</td><td>0.4278772473335266</td><td>132.94529724121094</td><td>8950-1901</td><td>167.54738640854583</td><td>0.40324489219658755</td></tr>\n",
       "<tr><td>27</td><td>8950</td><td>3702</td><td>1009928</td><td>0.47971558570861816</td><td>152.99244689941406</td><td>8950-3702</td><td>52.50190798983999</td><td>28.36102745780233</td></tr>\n",
       "<tr><td>28</td><td>8950</td><td>9101</td><td>917608</td><td>0.25538331270217896</td><td>155.01907348632812</td><td>8950-9101</td><td>107.673074209314</td><td>9.791984518139863</td></tr>\n",
       "<tr><td>29</td><td>8950</td><td>9102</td><td>1294562</td><td>0.7503887414932251</td><td>139.5088348388672</td><td>8950-9102</td><td>110.26571214241137</td><td>14.825165280336732</td></tr>\n",
       "<tr><td>30</td><td>8953</td><td>6104</td><td>487085</td><td>0.5813088417053223</td><td>1.3182913064956665</td><td>8953-6104</td><td>223.95494076075573</td><td>8.795513663749514</td></tr>\n",
       "<tr><td>31</td><td>8979</td><td>12703</td><td>544943</td><td>0.6018548011779785</td><td>135.25755310058594</td><td>8979-12703</td><td>96.35520200663657</td><td>6.26561620491743</td></tr>\n",
       "<tr><td>32</td><td>8979</td><td>9101</td><td>23897</td><td>0.7408677339553833</td><td>2.1042978763580322</td><td>8979-9101</td><td>184.38540696237342</td><td>1.1225376455591265</td></tr>\n",
       "<tr><td>33</td><td>9029</td><td>6104</td><td>20179</td><td>0.26789402961730957</td><td>50.874732971191406</td><td>9029-6104</td><td>121.44130123644727</td><td>2.6618554548930367</td></tr>\n",
       "<tr><td>34</td><td>9031</td><td>12702</td><td>1205063</td><td>0.9376584887504578</td><td>28.06189727783203</td><td>9031-12702</td><td>27.48528035394705</td><td>1.041076411310397</td></tr>\n",
       "<tr><td>35</td><td>9031</td><td>12705</td><td>1287210</td><td>0.8110915422439575</td><td>21.210365295410156</td><td>9031-12705</td><td>195.97503328546972</td><td>1.0760742303364124</td></tr>\n",
       "<tr><td>36</td><td>9035</td><td>1902</td><td>1374340</td><td>0.3766810894012451</td><td>161.31134033203125</td><td>9035-1902</td><td>141.6147586654442</td><td>1.7618513420522004</td></tr>\n",
       "<tr><td>37</td><td>9035</td><td>3703</td><td>833737</td><td>0.5993092060089111</td><td>128.78262329101562</td><td>9035-3703</td><td>37.0056047659072</td><td>5.875683935969238</td></tr>\n",
       "<tr><td>38</td><td>9036</td><td>12705</td><td>1270526</td><td>0.5393145680427551</td><td>74.26786041259766</td><td>9036-12705</td><td>108.26495997694059</td><td>0.4184259465654068</td></tr>\n",
       "<tr><td>39</td><td>9036</td><td>6101</td><td>1287210</td><td>0.8110915422439575</td><td>21.210365295410156</td><td>9036-6101</td><td>195.97503328546972</td><td>1.0760742303364124</td></tr>\n",
       "<tr><td>40</td><td>9037</td><td>9102</td><td>835029</td><td>0.22417443990707397</td><td>118.39954376220703</td><td>9037-9102</td><td>203.33069773056494</td><td>2.1923004026467656</td></tr>\n",
       "<tr><td>41</td><td>9051</td><td>6104</td><td>487085</td><td>0.5813088417053223</td><td>1.3182913064956665</td><td>9051-6104</td><td>223.95494076075573</td><td>8.795513663749514</td></tr>\n",
       "<tr><td>42</td><td>9863</td><td>12701</td><td>477610</td><td>0.7243960499763489</td><td>56.07057571411133</td><td>9863-12701</td><td>103.5020479756277</td><td>1.8512646004945563</td></tr>\n",
       "<tr><td>43</td><td>9863</td><td>9102</td><td>1274409</td><td>0.4936578869819641</td><td>41.022308349609375</td><td>9863-9102</td><td>132.20787780547425</td><td>4.8298671603324</td></tr>\n",
       "<tr><td>44</td><td>9864</td><td>12703</td><td>578196</td><td>0.4527084231376648</td><td>59.345069885253906</td><td>9864-12703</td><td>129.29101841254916</td><td>0.4888207761775472</td></tr>\n",
       "<tr><td>45</td><td>9864</td><td>6102</td><td>660359</td><td>0.4993917942047119</td><td>4.176965236663818</td><td>9864-6102</td><td>95.94714619330581</td><td>10.203339871804184</td></tr>\n",
       "<tr><td>46</td><td>9876</td><td>3702</td><td>1144453</td><td>0.6177683472633362</td><td>143.6058807373047</td><td>9876-3702</td><td>182.30608206632093</td><td>1.2350851286490203</td></tr>\n",
       "<tr><td>47</td><td>9876</td><td>3703</td><td>139660</td><td>0.8742374777793884</td><td>157.68699645996094</td><td>9876-3703</td><td>29.14203923603816</td><td>2.930688149719699</td></tr>\n",
       "<tr><td>48</td><td>9876</td><td>6101</td><td>993595</td><td>0.9293023943901062</td><td>141.1784210205078</td><td>9876-6101</td><td>87.31045064331828</td><td>0.3510861830088331</td></tr>\n",
       "<tr><td>49</td><td>9876</td><td>6102</td><td>20886</td><td>0.4584953188896179</td><td>62.591163635253906</td><td>9876-6102</td><td>98.16185594576551</td><td>13.535440951816547</td></tr>\n",
       "</table><style>table.dataTable {clear: both; width: auto !important; margin: 0 !important;}\n",
       ".dataTables_info, .dataTables_length, .dataTables_filter, .dataTables_paginate{\n",
       "display: inline-block; margin-right: 1em; }\n",
       ".paginate_button { margin-right: 5px; }\n",
       "</style>\n",
       "<script>\n",
       "\n",
       "var astropy_sort_num = function(a, b) {\n",
       "    var a_num = parseFloat(a);\n",
       "    var b_num = parseFloat(b);\n",
       "\n",
       "    if (isNaN(a_num) && isNaN(b_num))\n",
       "        return ((a < b) ? -1 : ((a > b) ? 1 : 0));\n",
       "    else if (!isNaN(a_num) && !isNaN(b_num))\n",
       "        return ((a_num < b_num) ? -1 : ((a_num > b_num) ? 1 : 0));\n",
       "    else\n",
       "        return isNaN(a_num) ? -1 : 1;\n",
       "}\n",
       "\n",
       "require.config({paths: {\n",
       "    datatables: 'https://cdn.datatables.net/1.10.12/js/jquery.dataTables.min'\n",
       "}});\n",
       "require([\"datatables\"], function(){\n",
       "    console.log(\"$('#table22798881809936-813916').dataTable()\");\n",
       "    \n",
       "jQuery.extend( jQuery.fn.dataTableExt.oSort, {\n",
       "    \"optionalnum-asc\": astropy_sort_num,\n",
       "    \"optionalnum-desc\": function (a,b) { return -astropy_sort_num(a, b); }\n",
       "});\n",
       "\n",
       "    $('#table22798881809936-813916').dataTable({\n",
       "        order: [],\n",
       "        pageLength: 50,\n",
       "        lengthMenu: [[10, 25, 50, 100, 500, 1000, -1], [10, 25, 50, 100, 500, 1000, 'All']],\n",
       "        pagingType: \"full_numbers\",\n",
       "        columnDefs: [{targets: [0, 1, 2, 3, 4, 5, 7, 8], type: \"optionalnum\"}]\n",
       "    });\n",
       "});\n",
       "</script>\n"
      ],
      "text/plain": [
       "<IPython.core.display.HTML object>"
      ]
     },
     "execution_count": 42,
     "metadata": {},
     "output_type": "execute_result"
    }
   ],
   "source": [
    "SGA_MaNGA[np.isfinite(SGA_MaNGA['V_0p33R26'])].show_in_notebook()"
   ]
  },
  {
   "cell_type": "code",
   "execution_count": null,
   "id": "7daf7433-3440-4a57-8257-71c00ffb898b",
   "metadata": {},
   "outputs": [],
   "source": []
  }
 ],
 "metadata": {
  "kernelspec": {
   "display_name": "DESI master",
   "language": "python",
   "name": "desi-master"
  },
  "language_info": {
   "codemirror_mode": {
    "name": "ipython",
    "version": 3
   },
   "file_extension": ".py",
   "mimetype": "text/x-python",
   "name": "python",
   "nbconvert_exporter": "python",
   "pygments_lexer": "ipython3",
   "version": "3.9.7"
  }
 },
 "nbformat": 4,
 "nbformat_minor": 5
}
