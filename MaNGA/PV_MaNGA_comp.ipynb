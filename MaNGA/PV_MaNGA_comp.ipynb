{
 "cells": [
  {
   "cell_type": "markdown",
   "id": "6697219a-5af6-4755-8925-2c42ce1c407b",
   "metadata": {},
   "source": [
    "How well do our observations at 0.33$R_{26}$ / 0.4$R_{26}$ match MaNGA's observations at the same radius?  And how well do our velocities observed at these radii reproduce the asymptotic rotational velocity?"
   ]
  },
  {
   "cell_type": "code",
   "execution_count": 1,
   "id": "f6c3deb9-820f-47f6-8f4d-7008654186e3",
   "metadata": {},
   "outputs": [],
   "source": [
    "import numpy as np\n",
    "import numpy.ma as ma\n",
    "\n",
    "from astropy.io import fits\n",
    "from astropy.table import Table\n",
    "from astropy.coordinates import SkyCoord\n",
    "import astropy.constants as const\n",
    "import astropy.units as u\n",
    "from astropy.io import fits\n",
    "from astropy import wcs\n",
    "\n",
    "import scipy.stats as stats\n",
    "from scipy.optimize import minimize\n",
    "\n",
    "import numdifftools as ndt\n",
    "\n",
    "from hyperfit.linfit import LinFit\n",
    "\n",
    "import corner\n",
    "\n",
    "import os\n",
    "\n",
    "# Path to RotationCurve libraries. Update as needed.\n",
    "rotcurvepath = os.path.join(os.environ['HOME'], 'desi/RotationCurves/spirals')\n",
    "if not os.path.exists(rotcurvepath):\n",
    "    raise FileNotFoundError(f'{rotcurvepath} does not exist.')\n",
    "\n",
    "import sys\n",
    "sys.path.insert(1, rotcurvepath)\n",
    "from dark_matter_mass_v1 import rot_fit_BB\n",
    "\n",
    "from tqdm import tqdm\n",
    "\n",
    "import matplotlib as mpl\n",
    "import matplotlib.pyplot as plt\n",
    "from matplotlib.patches import Ellipse"
   ]
  },
  {
   "cell_type": "code",
   "execution_count": 2,
   "id": "1d6c8955-2f5a-41d9-a308-d653185166c2",
   "metadata": {},
   "outputs": [],
   "source": [
    "mpl.rc('font', size=12)\n",
    "\n",
    "plt.rcParams['font.family'] = 'serif'\n",
    "plt.rcParams['font.serif'] = ['Times New Roman'] + plt.rcParams['font.serif']"
   ]
  },
  {
   "cell_type": "code",
   "execution_count": 3,
   "id": "7d543f83-5977-4406-b6d1-bf135cb4271a",
   "metadata": {},
   "outputs": [],
   "source": [
    "h = 1\n",
    "H0 = 100*h*u.km/u.s/u.Mpc\n",
    "\n",
    "c = const.c.to('km/s')\n",
    "\n",
    "q0 = 0.2\n",
    "\n",
    "MANGA_SPAXEL_SIZE = 0.5*u.arcsec"
   ]
  },
  {
   "cell_type": "markdown",
   "id": "d8ad6eca-2c59-4cd1-9069-a782b1033d75",
   "metadata": {
    "tags": []
   },
   "source": [
    "# Import data"
   ]
  },
  {
   "cell_type": "markdown",
   "id": "af01e484-9019-4ec1-a20e-8e6d60e3a47d",
   "metadata": {},
   "source": [
    "## DESI"
   ]
  },
  {
   "cell_type": "code",
   "execution_count": 4,
   "id": "6b1100fc-4eeb-4ac9-8b46-227fa58ecf00",
   "metadata": {},
   "outputs": [],
   "source": [
    "tf_targets = Table.read('/global/cfs/cdirs/desi/science/td/pv/desi_pv_tf_fuji_healpix.fits')"
   ]
  },
  {
   "cell_type": "markdown",
   "id": "a4865b6b-6c0d-4ba2-b1fa-052604c0bfe6",
   "metadata": {},
   "source": [
    "## SGA"
   ]
  },
  {
   "cell_type": "code",
   "execution_count": 5,
   "id": "86bbc48f-2b59-469b-998f-962b53bc0840",
   "metadata": {},
   "outputs": [],
   "source": [
    "SGA = Table.read('/global/cfs/cdirs/cosmo/data/sga/2020/SGA-2020.fits', 'ELLIPSE')"
   ]
  },
  {
   "cell_type": "code",
   "execution_count": 6,
   "id": "67bb069d-f501-48a2-8150-a6d886fb25f3",
   "metadata": {},
   "outputs": [],
   "source": [
    "SGA_dict = {}\n",
    "\n",
    "for i in range(len(SGA)):\n",
    "    \n",
    "    SGA_dict[SGA['SGA_ID'][i]] = i"
   ]
  },
  {
   "cell_type": "markdown",
   "id": "8204cb33-f8a2-43f5-b1e9-ae2aa318dca7",
   "metadata": {},
   "source": [
    "## SDSS MaNGA cross-match file\n",
    "\n",
    "Made by Grace Chiodo in Summer 2021, using SDSS MaNGA DR15."
   ]
  },
  {
   "cell_type": "code",
   "execution_count": 7,
   "id": "f2538490-64d5-47f2-b4a2-f27f55bdb9a6",
   "metadata": {},
   "outputs": [
    {
     "data": {
      "text/html": [
       "<div><i>Table length=5</i>\n",
       "<table id=\"table139830112805136\" class=\"table-striped table-bordered table-condensed\">\n",
       "<thead><tr><th>MaNGA_plate</th><th>MaNGA_IFU</th><th>sga_id</th><th>BA</th><th>PA</th><th>plateifu</th></tr></thead>\n",
       "<thead><tr><th>int64</th><th>int64</th><th>int64</th><th>float64</th><th>float64</th><th>str10</th></tr></thead>\n",
       "<tr><td>7968</td><td>3702</td><td>97758</td><td>0.3215293288230896</td><td>159.22218322753906</td><td>7968-3702</td></tr>\n",
       "<tr><td>8479</td><td>6101</td><td>433955</td><td>0.32715362310409546</td><td>54.33457565307617</td><td>8479-6101</td></tr>\n",
       "<tr><td>8479</td><td>6102</td><td>487085</td><td>0.5813088417053223</td><td>1.3182913064956665</td><td>8479-6102</td></tr>\n",
       "<tr><td>8480</td><td>6103</td><td>487085</td><td>0.5813088417053223</td><td>1.3182913064956665</td><td>8480-6103</td></tr>\n",
       "<tr><td>8481</td><td>12705</td><td>810971</td><td>0.268082857131958</td><td>56.5462760925293</td><td>8481-12705</td></tr>\n",
       "</table></div>"
      ],
      "text/plain": [
       "<Table length=5>\n",
       "MaNGA_plate MaNGA_IFU sga_id          BA                 PA          plateifu \n",
       "   int64      int64   int64        float64            float64         str10   \n",
       "----------- --------- ------ ------------------- ------------------ ----------\n",
       "       7968      3702  97758  0.3215293288230896 159.22218322753906  7968-3702\n",
       "       8479      6101 433955 0.32715362310409546  54.33457565307617  8479-6101\n",
       "       8479      6102 487085  0.5813088417053223 1.3182913064956665  8479-6102\n",
       "       8480      6103 487085  0.5813088417053223 1.3182913064956665  8480-6103\n",
       "       8481     12705 810971   0.268082857131958   56.5462760925293 8481-12705"
      ]
     },
     "execution_count": 7,
     "metadata": {},
     "output_type": "execute_result"
    }
   ],
   "source": [
    "SGA_MaNGA = Table.read('MaNGA_DESI_galaxies_08042021.txt', format='ascii.commented_header')\n",
    "\n",
    "SGA_MaNGA[:5]"
   ]
  },
  {
   "cell_type": "markdown",
   "id": "6074d719-5c16-47c2-8f60-214c071dbe53",
   "metadata": {},
   "source": [
    "## SDSS MaNGA best-fits\n",
    "\n",
    "From Douglass & Demina (2022)"
   ]
  },
  {
   "cell_type": "code",
   "execution_count": 8,
   "id": "d3e95c53-8853-4e7d-b57f-efa94873b661",
   "metadata": {},
   "outputs": [],
   "source": [
    "#MaNGA_fits = Table.read('DESI_vel_map_results_BB_smooth_lt_1p85_v2.txt', \n",
    "MaNGA_fits = Table.read('DRP-master_file_vflag_BB_smooth1p85_mapFit_N2O2_HIdr2_morph_SK_H2_noWords_v7.txt', \n",
    "                        format='ascii.commented_header')"
   ]
  },
  {
   "cell_type": "markdown",
   "id": "0ae3cad1-3b64-44fd-91f4-bd8aa7a3581a",
   "metadata": {
    "tags": []
   },
   "source": [
    "# Compare DESI's observed rotational velocities at 0.33$R_{26}$ with $V_{max}$ from the best-fit to MaNGA"
   ]
  },
  {
   "cell_type": "markdown",
   "id": "59cb79cc-4b26-40fd-a117-077380cc06af",
   "metadata": {
    "tags": []
   },
   "source": [
    "## 1) Calculate the rotational velocities for the DESI galaxies"
   ]
  },
  {
   "cell_type": "markdown",
   "id": "d1cf249d-346e-488a-9156-e19cbf1ae61f",
   "metadata": {
    "tags": []
   },
   "source": [
    "### Separate the fuji data into center and off-center observations"
   ]
  },
  {
   "cell_type": "code",
   "execution_count": 9,
   "id": "8725c081-d007-4f5c-9eba-c7b627d22bca",
   "metadata": {},
   "outputs": [],
   "source": [
    "def firstdigit(n):\n",
    "    \"\"\"\n",
    "    Return the first digit of a number.\n",
    "    \n",
    "    Parameters\n",
    "    ----------\n",
    "    n : int, float, or ndarray\n",
    "        Number or list of numbers.\n",
    "    \n",
    "    Returns\n",
    "    -------\n",
    "    digit : int\n",
    "        First digit of the number.\n",
    "    \"\"\"\n",
    "    \n",
    "    digit = np.trunc(n * 10**(-np.trunc(np.log10(n)))).astype(int)\n",
    "    \n",
    "    return digit"
   ]
  },
  {
   "cell_type": "code",
   "execution_count": 10,
   "id": "28659bff-8a4d-49ec-ac4e-ed7d2357583d",
   "metadata": {},
   "outputs": [
    {
     "name": "stderr",
     "output_type": "stream",
     "text": [
      "/tmp/ipykernel_149973/917620242.py:16: RuntimeWarning: invalid value encountered in log10\n",
      "  digit = np.trunc(n * 10**(-np.trunc(np.log10(n)))).astype(int)\n"
     ]
    }
   ],
   "source": [
    "first_digits = firstdigit(tf_targets['TARGETID'])\n",
    "\n",
    "centers = tf_targets[first_digits == 3]\n",
    "axis = tf_targets[first_digits != 3]"
   ]
  },
  {
   "cell_type": "markdown",
   "id": "3244c2c8-5c36-4f56-ba60-0c290a9b2ac4",
   "metadata": {
    "tags": []
   },
   "source": [
    "### Clean the fuji center observations\n",
    "\n",
    "Only keep those with\n",
    " * DELTACHI2 > 25\n",
    " * ZWARN == 0"
   ]
  },
  {
   "cell_type": "code",
   "execution_count": 11,
   "id": "4ce43841-f066-4fa5-843f-106b5d875d8a",
   "metadata": {},
   "outputs": [],
   "source": [
    "good_centers = centers[(centers['DELTACHI2'] > 25) & (centers['ZWARN'] == 0)]"
   ]
  },
  {
   "cell_type": "markdown",
   "id": "c10ec89d-6648-44de-b4f1-3bca9d841314",
   "metadata": {
    "tags": []
   },
   "source": [
    "### If an SGA galaxy has at least one observation at its center, set the redshift of that galaxy"
   ]
  },
  {
   "cell_type": "code",
   "execution_count": 12,
   "id": "24d6bc66-74f3-4f20-bbde-45155fddc143",
   "metadata": {},
   "outputs": [],
   "source": [
    "SGA['Z_DESI'] = np.nan\n",
    "SGA['ZERR_DESI'] = np.nan\n",
    "\n",
    "for sga_id in np.unique(good_centers['SGA_ID']):\n",
    "    \n",
    "    # Find the row in SGA for this galaxy\n",
    "    SGA_idx = SGA_dict[sga_id]\n",
    "    \n",
    "    # Set the redshift of this galaxy to be the average redshift of all good center observations\n",
    "    SGA['Z_DESI'][SGA_idx] = np.mean(good_centers['Z'][good_centers['SGA_ID'] == sga_id])\n",
    "    SGA['ZERR_DESI'][SGA_idx] = np.mean(good_centers['ZERR'][good_centers['SGA_ID'] == sga_id]**2)/np.sum(good_centers['SGA_ID'] == sga_id)"
   ]
  },
  {
   "cell_type": "code",
   "execution_count": 13,
   "id": "5499517f-7fc3-4ea3-8adf-810044b6e504",
   "metadata": {},
   "outputs": [],
   "source": [
    "SGA_MaNGA['Z_DESI'] = np.nan\n",
    "SGA_MaNGA['ZERR_DESI'] = np.nan\n",
    "\n",
    "for i in range(len(SGA_MaNGA)):\n",
    "    \n",
    "    # Find the row in SGA for this galaxy\n",
    "    SGA_idx = SGA_dict[SGA_MaNGA['sga_id'][i]]\n",
    "    \n",
    "    # Set the redshift of this galaxy\n",
    "    SGA_MaNGA['Z_DESI'][i] = SGA['Z_DESI'][SGA_idx]\n",
    "    SGA_MaNGA['ZERR_DESI'][i] = SGA['ZERR_DESI'][SGA_idx]"
   ]
  },
  {
   "cell_type": "markdown",
   "id": "42fec531-3916-4607-b882-0eae06cd0751",
   "metadata": {},
   "source": [
    "### Calculate the rotational velocity"
   ]
  },
  {
   "cell_type": "code",
   "execution_count": 14,
   "id": "7e2e41e8-06e5-4c34-890d-2239c2891842",
   "metadata": {},
   "outputs": [
    {
     "name": "stderr",
     "output_type": "stream",
     "text": [
      "/tmp/ipykernel_149973/2809901910.py:56: RuntimeWarning: divide by zero encountered in true_divide\n",
      "  axis['V_ROT'][obs_idx] /= np.sin(np.arccos(np.sqrt(cosi2)))\n"
     ]
    }
   ],
   "source": [
    "axis['SKY_FIBER_DIST'] = 0.\n",
    "axis['SKY_FIBER_DIST_R26'] = 0.\n",
    "axis['V_ROT'] = np.nan\n",
    "axis['V_ROT_ERR'] = np.nan\n",
    "\n",
    "\n",
    "# For each SGA galaxy that has at least one center observation, calculate the \n",
    "# distance for all of that galaxy's targets\n",
    "for sga_gal in np.unique(centers['SGA_ID']):\n",
    "    \n",
    "    # Identify all galaxy targets on this galaxy\n",
    "    obs_idx = axis['SGA_ID'] == sga_gal\n",
    "    \n",
    "    # Find galaxy index in SGA catalog\n",
    "    sga_idx = SGA_dict[sga_gal]\n",
    "    \n",
    "    #---------------------------------------------------------------------------\n",
    "    # Calculate distance between each observation and the center\n",
    "    #---------------------------------------------------------------------------\n",
    "    center_coords = SkyCoord(ra=SGA['RA'][sga_idx], \n",
    "                             dec=SGA['DEC'][sga_idx], \n",
    "                             unit=u.degree)\n",
    "    target_coords = SkyCoord(ra=axis['RA'][obs_idx], \n",
    "                             dec=axis['DEC'][obs_idx], \n",
    "                             unit=u.degree)\n",
    "    \n",
    "    sep2d = target_coords.separation(center_coords)\n",
    "    \n",
    "    axis['SKY_FIBER_DIST'][obs_idx] = sep2d.to('radian')\n",
    "    axis['SKY_FIBER_DIST_R26'][obs_idx] = 2*sep2d.to('arcmin')/(SGA['D26'][sga_idx]*u.arcmin)\n",
    "    #---------------------------------------------------------------------------\n",
    "    \n",
    "    \n",
    "    #---------------------------------------------------------------------------\n",
    "    # Calculate rotational velocity\n",
    "    #---------------------------------------------------------------------------\n",
    "    # Use the average redshift of all center observations for the systemic velocity\n",
    "    z_center = np.mean(SGA['Z_DESI'][sga_idx])\n",
    "    z_err_center2 = SGA['ZERR_DESI'][sga_idx]**2\n",
    "\n",
    "    # Calculate rotational velocity for all observations of the galaxy\n",
    "    axis['V_ROT'][obs_idx] = c*(axis['Z'][obs_idx] - z_center)\n",
    "    axis['V_ROT_ERR'][obs_idx] = c*np.sqrt(axis['ZERR'][obs_idx]**2 + z_err_center2)\n",
    "    #---------------------------------------------------------------------------\n",
    "    \n",
    "    \n",
    "    #---------------------------------------------------------------------------\n",
    "    # Correct rotational velocities for inclination angle\n",
    "    #---------------------------------------------------------------------------\n",
    "    cosi2 = (SGA['BA'][sga_idx]**2 - q0**2)/(1 - q0**2)\n",
    "    \n",
    "    # Galaxies with b/a < q0\n",
    "    if cosi2 < 0:\n",
    "        cosi2 = 0\n",
    "    \n",
    "    axis['V_ROT'][obs_idx] /= np.sin(np.arccos(np.sqrt(cosi2)))\n",
    "    #---------------------------------------------------------------------------"
   ]
  },
  {
   "cell_type": "markdown",
   "id": "8d6b63ce-f7e3-4f3e-95cc-e8eee98fed90",
   "metadata": {},
   "source": [
    "### Just keep those velocities measured at 0.33$R_{26}$"
   ]
  },
  {
   "cell_type": "code",
   "execution_count": 15,
   "id": "dfd7334a-9cc1-4d09-a661-9cdbed224639",
   "metadata": {},
   "outputs": [],
   "source": [
    "axis_0p3 = axis[(axis['SKY_FIBER_DIST_R26'] > 0.3) & (axis['SKY_FIBER_DIST_R26'] < 0.4)]"
   ]
  },
  {
   "cell_type": "markdown",
   "id": "1b7fe531-6c96-48e7-8d2a-9c92a1a6b998",
   "metadata": {},
   "source": [
    "### Remove \"bad\" galaxies\n",
    "\n",
    "Those with\n",
    "* $V > 1000$ km/s"
   ]
  },
  {
   "cell_type": "code",
   "execution_count": 16,
   "id": "b0a8e5bb-5764-4af6-9146-feb82010ef11",
   "metadata": {},
   "outputs": [],
   "source": [
    "axis_0p3_good = axis_0p3[np.abs(axis_0p3['V_ROT']) < 1000]"
   ]
  },
  {
   "cell_type": "markdown",
   "id": "1b394f73-4f7f-405a-a44e-75ebc744546a",
   "metadata": {},
   "source": [
    "### Add these velocities to the SDSS MaNGA - SGA cross-match file"
   ]
  },
  {
   "cell_type": "code",
   "execution_count": 17,
   "id": "2b6ec8e4-3174-471f-bd58-a05b5d6cd74b",
   "metadata": {},
   "outputs": [],
   "source": [
    "SGA_MaNGA['V_0p33R26'] = np.nan\n",
    "SGA_MaNGA['V_0p33R26_ERR'] = np.nan\n",
    "\n",
    "SGA_MaNGA['SKY_FIBER_DIST'] = np.nan\n",
    "\n",
    "weights = 1./(axis_0p3_good['V_ROT_ERR']**2)\n",
    "\n",
    "for i in range(len(SGA_MaNGA)):\n",
    "    \n",
    "    # Does this galaxy have any observations?\n",
    "    i_obs = axis_0p3_good['SGA_ID'] == SGA_MaNGA['sga_id'][i]\n",
    "    \n",
    "    if np.sum(i_obs) > 0:\n",
    "        \n",
    "        # Average all velocities at this radius\n",
    "        SGA_MaNGA['V_0p33R26'][i] = np.average(np.abs(axis_0p3_good['V_ROT'][i_obs]), \n",
    "                                               weights=weights[i_obs])\n",
    "        SGA_MaNGA['V_0p33R26_ERR'][i] = np.sqrt(1./np.sum(weights[i_obs]))\n",
    "        \n",
    "        # Copy over the distance from the center for this observation\n",
    "        SGA_MaNGA['SKY_FIBER_DIST'][i] = np.average(axis_0p3_good['SKY_FIBER_DIST'][i_obs])"
   ]
  },
  {
   "cell_type": "code",
   "execution_count": 18,
   "id": "0a1ff4d1-43c9-4490-8713-c939cb81c873",
   "metadata": {
    "tags": []
   },
   "outputs": [
    {
     "data": {
      "text/html": [
       "<i>Table length=50</i>\n",
       "<table id=\"table139830112811376-487288\" class=\"table-striped table-bordered table-condensed\">\n",
       "<thead><tr><th>idx</th><th>MaNGA_plate</th><th>MaNGA_IFU</th><th>sga_id</th><th>BA</th><th>PA</th><th>plateifu</th><th>Z_DESI</th><th>ZERR_DESI</th><th>V_0p33R26</th><th>V_0p33R26_ERR</th><th>SKY_FIBER_DIST</th></tr></thead>\n",
       "<tr><td>0</td><td>8479</td><td>6102</td><td>487085</td><td>0.5813088417053223</td><td>1.3182913064956665</td><td>8479-6102</td><td>0.0781894572006586</td><td>4.128757013734015e-10</td><td>223.95494076075573</td><td>8.795513663749514</td><td>3.229689275391676e-05</td></tr>\n",
       "<tr><td>1</td><td>8480</td><td>6103</td><td>487085</td><td>0.5813088417053223</td><td>1.3182913064956665</td><td>8480-6103</td><td>0.0781894572006586</td><td>4.128757013734015e-10</td><td>223.95494076075573</td><td>8.795513663749514</td><td>3.229689275391676e-05</td></tr>\n",
       "<tr><td>2</td><td>8481</td><td>12705</td><td>810971</td><td>0.268082857131958</td><td>56.5462760925293</td><td>8481-12705</td><td>0.0429954501267412</td><td>1.4271031257383006e-11</td><td>143.9510078418774</td><td>2.215518265835735</td><td>3.892200047028368e-05</td></tr>\n",
       "<tr><td>3</td><td>8484</td><td>3701</td><td>302062</td><td>0.6225041747093201</td><td>119.090087890625</td><td>8484-3701</td><td>0.0330699912027746</td><td>1.6979658498427393e-11</td><td>109.17612316124635</td><td>2.1124446051803405</td><td>5.0312462183783855e-05</td></tr>\n",
       "<tr><td>4</td><td>8547</td><td>6102</td><td>925354</td><td>0.6025776267051697</td><td>146.05860900878906</td><td>8547-6102</td><td>0.0304755987259764</td><td>6.889141919295922e-12</td><td>205.77258114621176</td><td>1.5235238718905617</td><td>5.184274505357124e-05</td></tr>\n",
       "<tr><td>5</td><td>8547</td><td>6103</td><td>171058</td><td>0.5511276125907898</td><td>3.9989326000213623</td><td>8547-6103</td><td>0.0424646075925578</td><td>5.42803872635667e-11</td><td>138.28308158423158</td><td>0.4916285418325515</td><td>3.0965137475783706e-05</td></tr>\n",
       "<tr><td>6</td><td>8555</td><td>12703</td><td>127268</td><td>0.2092917561531067</td><td>143.2239532470703</td><td>8555-12703</td><td>0.058413206227691</td><td>4.1767742731339365e-10</td><td>210.96779881214266</td><td>2.332334252430736</td><td>4.551138894709631e-05</td></tr>\n",
       "<tr><td>7</td><td>8555</td><td>1902</td><td>575284</td><td>0.6609105467796326</td><td>106.39098358154297</td><td>8555-1902</td><td>0.0315230893119107</td><td>4.800313228036706e-10</td><td>137.07386885858102</td><td>4.085461504059483</td><td>2.6790624709163474e-05</td></tr>\n",
       "<tr><td>8</td><td>8555</td><td>9102</td><td>1285122</td><td>0.7685890793800354</td><td>107.45079040527344</td><td>8555-9102</td><td>0.0459386508726562</td><td>1.1505989957506619e-10</td><td>162.57738944564244</td><td>1.358729053158345</td><td>2.5798182956148833e-05</td></tr>\n",
       "<tr><td>9</td><td>8600</td><td>1901</td><td>186915</td><td>0.7746372222900391</td><td>129.28488159179688</td><td>8600-1901</td><td>0.0252226335677048</td><td>9.586277305922652e-13</td><td>166.8309402755933</td><td>1.5433379347652003</td><td>2.8018559064157407e-05</td></tr>\n",
       "<tr><td>10</td><td>8613</td><td>12701</td><td>364445</td><td>0.5546001195907593</td><td>15.079439163208008</td><td>8613-12701</td><td>0.0318285284405757</td><td>7.464989989727828e-12</td><td>190.84299693068257</td><td>0.9748842540993284</td><td>3.9781274492639675e-05</td></tr>\n",
       "<tr><td>11</td><td>8613</td><td>12702</td><td>1290113</td><td>0.37841910123825073</td><td>69.72722625732422</td><td>8613-12702</td><td>0.0317073732572345</td><td>2.6291363748762113e-10</td><td>194.64632224259776</td><td>1.9740805907865058</td><td>8.770370899698029e-05</td></tr>\n",
       "<tr><td>12</td><td>8931</td><td>1902</td><td>365429</td><td>0.58881676197052</td><td>34.866180419921875</td><td>8931-1902</td><td>0.0186870157715835</td><td>2.2293937626747607e-10</td><td>74.09037045217156</td><td>25.145092540617586</td><td>3.3471356581961175e-05</td></tr>\n",
       "<tr><td>13</td><td>8931</td><td>3702</td><td>191496</td><td>0.5117542743682861</td><td>169.60484313964844</td><td>8931-3702</td><td>0.0248133782264218</td><td>2.100769667704616e-10</td><td>147.22519986233158</td><td>12.432989344279202</td><td>3.329611658643073e-05</td></tr>\n",
       "<tr><td>14</td><td>8932</td><td>12701</td><td>819754</td><td>0.684948742389679</td><td>62.18381118774414</td><td>8932-12701</td><td>0.0250843060436296</td><td>8.528452101062892e-12</td><td>127.99601799665143</td><td>0.7873797035438239</td><td>5.403464087477001e-05</td></tr>\n",
       "<tr><td>15</td><td>8932</td><td>12702</td><td>100987</td><td>0.22466039657592773</td><td>114.50669860839844</td><td>8932-12702</td><td>0.0204938724052027</td><td>4.084315447280872e-11</td><td>120.90362737071462</td><td>11.112681870118244</td><td>7.681547834141546e-05</td></tr>\n",
       "<tr><td>16</td><td>8932</td><td>12705</td><td>629860</td><td>0.3804548978805542</td><td>53.43220520019531</td><td>8932-12705</td><td>0.027941605722086</td><td>6.253595062278087e-09</td><td>64.93353364408492</td><td>17.686703520142274</td><td>4.474388892237167e-05</td></tr>\n",
       "<tr><td>17</td><td>8932</td><td>3701</td><td>1204237</td><td>0.7244837880134583</td><td>13.08159351348877</td><td>8932-3701</td><td>0.0256124621148709</td><td>7.797676388665253e-13</td><td>119.33745140364951</td><td>0.2776280172613306</td><td>3.0848226448848625e-05</td></tr>\n",
       "<tr><td>18</td><td>8932</td><td>3703</td><td>1387991</td><td>0.3150583505630493</td><td>77.0833969116211</td><td>8932-3703</td><td>0.0212915823472822</td><td>2.8578734912674727e-10</td><td>84.84351469897763</td><td>9.022596951436883</td><td>3.520977228141714e-05</td></tr>\n",
       "<tr><td>19</td><td>8932</td><td>6102</td><td>1379275</td><td>0.40062516927719116</td><td>5.078217506408691</td><td>8932-6102</td><td>0.0202592517081387</td><td>1.736566702376056e-09</td><td>84.34841863653604</td><td>28.641093133606596</td><td>3.273610867358773e-05</td></tr>\n",
       "<tr><td>20</td><td>8934</td><td>3701</td><td>1272144</td><td>0.6809766292572021</td><td>161.55909729003906</td><td>8934-3701</td><td>0.01644211608840305</td><td>3.153886954367131e-13</td><td>74.69666126834792</td><td>6.902662028813457</td><td>3.462544955757636e-05</td></tr>\n",
       "<tr><td>21</td><td>8935</td><td>9101</td><td>291879</td><td>0.3331384062767029</td><td>23.189922332763672</td><td>8935-9101</td><td>0.0215321518628244</td><td>2.1711928792443356e-10</td><td>118.41925825942022</td><td>10.117076272821619</td><td>6.711962621536368e-05</td></tr>\n",
       "<tr><td>22</td><td>8949</td><td>12703</td><td>1089288</td><td>0.7396504282951355</td><td>95.35550689697266</td><td>8949-12703</td><td>0.0159066450122534</td><td>1.5905300588884285e-10</td><td>70.15900333789699</td><td>1.5741928980075712</td><td>3.316269890899412e-05</td></tr>\n",
       "<tr><td>23</td><td>8949</td><td>12705</td><td>171794</td><td>0.5453890562057495</td><td>173.40066528320312</td><td>8949-12705</td><td>0.0242599032137511</td><td>5.224055576900487e-10</td><td>31.235698932521178</td><td>17.688470632769725</td><td>2.8050628750184415e-05</td></tr>\n",
       "<tr><td>24</td><td>8949</td><td>9102</td><td>834049</td><td>0.287956178188324</td><td>70.2303466796875</td><td>8949-9102</td><td>0.023927042757022</td><td>4.4475811327219e-10</td><td>92.81133497614604</td><td>22.879258445730063</td><td>5.2282108718051345e-05</td></tr>\n",
       "<tr><td>25</td><td>8950</td><td>12705</td><td>1219319</td><td>0.16703689098358154</td><td>71.99395751953125</td><td>8950-12705</td><td>0.0249576573598387</td><td>1.1614998797849504e-10</td><td>216.18796285257156</td><td>2.743959790905706</td><td>6.0830317649437067e-05</td></tr>\n",
       "<tr><td>26</td><td>8950</td><td>1901</td><td>1364394</td><td>0.4278772473335266</td><td>132.94529724121094</td><td>8950-1901</td><td>0.0280498298079533</td><td>1.3724391210012101e-11</td><td>167.54738640854583</td><td>0.40324489219658755</td><td>2.51418344890039e-05</td></tr>\n",
       "<tr><td>27</td><td>8950</td><td>3702</td><td>1009928</td><td>0.47971558570861816</td><td>152.99244689941406</td><td>8950-3702</td><td>0.0269966334386676</td><td>4.535272874058436e-10</td><td>52.50190798983999</td><td>28.36102745780233</td><td>3.915995941678558e-05</td></tr>\n",
       "<tr><td>28</td><td>8950</td><td>9101</td><td>917608</td><td>0.25538331270217896</td><td>155.01907348632812</td><td>8950-9101</td><td>0.027651874767596202</td><td>7.080311425712668e-12</td><td>107.673074209314</td><td>9.791984518139863</td><td>3.6923229341050984e-05</td></tr>\n",
       "<tr><td>29</td><td>8950</td><td>9102</td><td>1294562</td><td>0.7503887414932251</td><td>139.5088348388672</td><td>8950-9102</td><td>0.0233125050298342</td><td>2.668516728508409e-10</td><td>110.26571214241137</td><td>14.825165280336732</td><td>4.284662157514828e-05</td></tr>\n",
       "<tr><td>30</td><td>8953</td><td>6104</td><td>487085</td><td>0.5813088417053223</td><td>1.3182913064956665</td><td>8953-6104</td><td>0.0781894572006586</td><td>4.128757013734015e-10</td><td>223.95494076075573</td><td>8.795513663749514</td><td>3.229689275391676e-05</td></tr>\n",
       "<tr><td>31</td><td>8979</td><td>12703</td><td>544943</td><td>0.6018548011779785</td><td>135.25755310058594</td><td>8979-12703</td><td>0.0388599155970507</td><td>7.737240140568492e-11</td><td>96.35520200663657</td><td>6.26561620491743</td><td>2.8354910339964662e-05</td></tr>\n",
       "<tr><td>32</td><td>8979</td><td>9101</td><td>23897</td><td>0.7408677339553833</td><td>2.1042978763580322</td><td>8979-9101</td><td>0.0769504976458026</td><td>2.6320024672899177e-09</td><td>184.38540696237342</td><td>1.1225376455591265</td><td>3.8983404180858706e-05</td></tr>\n",
       "<tr><td>33</td><td>9029</td><td>6104</td><td>20179</td><td>0.26789402961730957</td><td>50.874732971191406</td><td>9029-6104</td><td>0.0304397401918546</td><td>1.1255471512637071e-10</td><td>121.44130123644727</td><td>2.6618554548930367</td><td>3.894231924694824e-05</td></tr>\n",
       "<tr><td>34</td><td>9031</td><td>12702</td><td>1205063</td><td>0.9376584887504578</td><td>28.06189727783203</td><td>9031-12702</td><td>0.0403143764659635</td><td>3.221111737182844e-10</td><td>27.48528035394705</td><td>1.041076411310397</td><td>2.1008836134171055e-05</td></tr>\n",
       "<tr><td>35</td><td>9031</td><td>12705</td><td>1287210</td><td>0.8110915422439575</td><td>21.210365295410156</td><td>9031-12705</td><td>0.0596930483603828</td><td>3.312589969724597e-10</td><td>195.97503328546972</td><td>1.0760742303364124</td><td>2.5218636168164603e-05</td></tr>\n",
       "<tr><td>36</td><td>9035</td><td>1902</td><td>1374340</td><td>0.3766810894012451</td><td>161.31134033203125</td><td>9035-1902</td><td>0.037019973487592</td><td>1.777514443778703e-11</td><td>141.6147586654442</td><td>1.7618513420522004</td><td>2.5885319318210457e-05</td></tr>\n",
       "<tr><td>37</td><td>9035</td><td>3703</td><td>833737</td><td>0.5993092060089111</td><td>128.78262329101562</td><td>9035-3703</td><td>0.0373742930418134</td><td>2.4747965133685125e-12</td><td>37.0056047659072</td><td>5.875683935969238</td><td>2.0184217390862112e-05</td></tr>\n",
       "<tr><td>38</td><td>9036</td><td>12705</td><td>1270526</td><td>0.5393145680427551</td><td>74.26786041259766</td><td>9036-12705</td><td>0.0392401969054925</td><td>3.261292729501431e-11</td><td>108.26495997694059</td><td>0.4184259465654068</td><td>2.9510409904886174e-05</td></tr>\n",
       "<tr><td>39</td><td>9036</td><td>6101</td><td>1287210</td><td>0.8110915422439575</td><td>21.210365295410156</td><td>9036-6101</td><td>0.0596930483603828</td><td>3.312589969724597e-10</td><td>195.97503328546972</td><td>1.0760742303364124</td><td>2.5218636168164603e-05</td></tr>\n",
       "<tr><td>40</td><td>9037</td><td>9102</td><td>835029</td><td>0.22417443990707397</td><td>118.39954376220703</td><td>9037-9102</td><td>0.03718781925522835</td><td>1.5152541498547203e-11</td><td>203.33069773056494</td><td>2.1923004026467656</td><td>4.609970021772765e-05</td></tr>\n",
       "<tr><td>41</td><td>9051</td><td>6104</td><td>487085</td><td>0.5813088417053223</td><td>1.3182913064956665</td><td>9051-6104</td><td>0.0781894572006586</td><td>4.128757013734015e-10</td><td>223.95494076075573</td><td>8.795513663749514</td><td>3.229689275391676e-05</td></tr>\n",
       "<tr><td>42</td><td>9863</td><td>12701</td><td>477610</td><td>0.7243960499763489</td><td>56.07057571411133</td><td>9863-12701</td><td>0.0186226684325002</td><td>1.370015994617074e-12</td><td>103.5020479756277</td><td>1.8512646004945563</td><td>2.9554472196288887e-05</td></tr>\n",
       "<tr><td>43</td><td>9863</td><td>9102</td><td>1274409</td><td>0.4936578869819641</td><td>41.022308349609375</td><td>9863-9102</td><td>0.025610665069269</td><td>2.8394711903903606e-12</td><td>132.20787780547425</td><td>4.8298671603324</td><td>4.21342208781214e-05</td></tr>\n",
       "<tr><td>44</td><td>9864</td><td>12703</td><td>578196</td><td>0.4527084231376648</td><td>59.345069885253906</td><td>9864-12703</td><td>0.0451542379592335</td><td>8.582514621456288e-12</td><td>129.29101841254916</td><td>0.4888207761775472</td><td>2.951438402067595e-05</td></tr>\n",
       "<tr><td>45</td><td>9864</td><td>6102</td><td>660359</td><td>0.4993917942047119</td><td>4.176965236663818</td><td>9864-6102</td><td>0.0443144134667617</td><td>5.662965264910135e-10</td><td>95.94714619330581</td><td>10.203339871804184</td><td>2.763622722458725e-05</td></tr>\n",
       "<tr><td>46</td><td>9876</td><td>3702</td><td>1144453</td><td>0.6177683472633362</td><td>143.6058807373047</td><td>9876-3702</td><td>0.0247947143313214</td><td>1.7398217345206727e-12</td><td>182.30608206632093</td><td>1.2350851286490203</td><td>2.7114084320404085e-05</td></tr>\n",
       "<tr><td>47</td><td>9876</td><td>3703</td><td>139660</td><td>0.8742374777793884</td><td>157.68699645996094</td><td>9876-3703</td><td>0.0166860235629284</td><td>1.9804889353558093e-12</td><td>29.14203923603816</td><td>2.930688149719699</td><td>2.8455001795254423e-05</td></tr>\n",
       "<tr><td>48</td><td>9876</td><td>6101</td><td>993595</td><td>0.9293023943901062</td><td>141.1784210205078</td><td>9876-6101</td><td>0.0273228883921179</td><td>1.5143557260619454e-12</td><td>87.31045064331828</td><td>0.3510861830088331</td><td>2.7405104472647594e-05</td></tr>\n",
       "<tr><td>49</td><td>9876</td><td>6102</td><td>20886</td><td>0.4584953188896179</td><td>62.591163635253906</td><td>9876-6102</td><td>0.0211655216585879</td><td>1.4784629022108563e-09</td><td>98.16185594576551</td><td>13.535440951816547</td><td>3.2476133502881403e-05</td></tr>\n",
       "</table><style>table.dataTable {clear: both; width: auto !important; margin: 0 !important;}\n",
       ".dataTables_info, .dataTables_length, .dataTables_filter, .dataTables_paginate{\n",
       "display: inline-block; margin-right: 1em; }\n",
       ".paginate_button { margin-right: 5px; }\n",
       "</style>\n",
       "<script>\n",
       "\n",
       "var astropy_sort_num = function(a, b) {\n",
       "    var a_num = parseFloat(a);\n",
       "    var b_num = parseFloat(b);\n",
       "\n",
       "    if (isNaN(a_num) && isNaN(b_num))\n",
       "        return ((a < b) ? -1 : ((a > b) ? 1 : 0));\n",
       "    else if (!isNaN(a_num) && !isNaN(b_num))\n",
       "        return ((a_num < b_num) ? -1 : ((a_num > b_num) ? 1 : 0));\n",
       "    else\n",
       "        return isNaN(a_num) ? -1 : 1;\n",
       "}\n",
       "\n",
       "require.config({paths: {\n",
       "    datatables: 'https://cdn.datatables.net/1.10.12/js/jquery.dataTables.min'\n",
       "}});\n",
       "require([\"datatables\"], function(){\n",
       "    console.log(\"$('#table139830112811376-487288').dataTable()\");\n",
       "    \n",
       "jQuery.extend( jQuery.fn.dataTableExt.oSort, {\n",
       "    \"optionalnum-asc\": astropy_sort_num,\n",
       "    \"optionalnum-desc\": function (a,b) { return -astropy_sort_num(a, b); }\n",
       "});\n",
       "\n",
       "    $('#table139830112811376-487288').dataTable({\n",
       "        order: [],\n",
       "        pageLength: 50,\n",
       "        lengthMenu: [[10, 25, 50, 100, 500, 1000, -1], [10, 25, 50, 100, 500, 1000, 'All']],\n",
       "        pagingType: \"full_numbers\",\n",
       "        columnDefs: [{targets: [0, 1, 2, 3, 4, 5, 7, 8, 9, 10, 11], type: \"optionalnum\"}]\n",
       "    });\n",
       "});\n",
       "</script>\n"
      ],
      "text/plain": [
       "<IPython.core.display.HTML object>"
      ]
     },
     "execution_count": 18,
     "metadata": {},
     "output_type": "execute_result"
    }
   ],
   "source": [
    "SGA_MaNGA[np.isfinite(SGA_MaNGA['V_0p33R26'])].show_in_notebook()"
   ]
  },
  {
   "cell_type": "markdown",
   "id": "43f8f106-d007-436c-9506-8b20d2743e83",
   "metadata": {},
   "source": [
    "Based on visual inspection of my fits to the MaNGA DR15 data for these galaxies (from Douglass & Demina, 2022), I determined that\n",
    "* Galaxies that need to be refit: **8932-3701** and **9037-9102**\n",
    "* Galaxies that are not spirals but have fits: 8931-1902, 8931-3702, 8932-12702, 8932-3703, 8935-9101, 8950-3702, and 8950-9102\n",
    "* Galaxies that do not have fits (either no data or are not spirals): 8479-6102, 8480-6103, 8931-3702, 8932-12705, 8932-6102, 8949-12705, 8949-9102, 9051-6104, 9876-6102"
   ]
  },
  {
   "cell_type": "markdown",
   "id": "6112e481-53f5-4852-b317-8ba0daab79b5",
   "metadata": {},
   "source": [
    "### Add the MaNGA best-fit values to the table"
   ]
  },
  {
   "cell_type": "code",
   "execution_count": 19,
   "id": "5df1c50b-8912-451c-9a3f-31878b1f500f",
   "metadata": {},
   "outputs": [],
   "source": [
    "SGA_MaNGA['Vmax_map'] = np.nan\n",
    "SGA_MaNGA['Vmax_err_map'] = np.nan\n",
    "SGA_MaNGA['Rturn_map'] = np.nan\n",
    "SGA_MaNGA['alpha_map'] = np.nan\n",
    "\n",
    "SGA_MaNGA['ba_map'] = np.nan\n",
    "SGA_MaNGA['ba_NSA'] = np.nan\n",
    "\n",
    "for i in range(len(SGA_MaNGA)):\n",
    "    \n",
    "    gal_id = str(SGA_MaNGA['MaNGA_plate'][i]) + '-' + str(SGA_MaNGA['MaNGA_IFU'][i])\n",
    "    \n",
    "    # Find galaxy row in MaNGA fits table\n",
    "    plate_bool = MaNGA_fits['MaNGA_plate'] == SGA_MaNGA['MaNGA_plate'][i]\n",
    "    ifu_bool = MaNGA_fits['MaNGA_IFU'] == SGA_MaNGA['MaNGA_IFU'][i]\n",
    "    \n",
    "    i_fit = plate_bool & ifu_bool\n",
    "    \n",
    "    # Copy best-fit parameter values from fit table to galaxy table\n",
    "    if (np.sum(i_fit) > 0) and (gal_id not in ['8931-1902', '8931-3702', '8932-12702', '8932-3703', '8935-9101', '8950-3702', '8950-9102']):\n",
    "        SGA_MaNGA['Vmax_map'][i] = MaNGA_fits['Vmax_map'][i_fit]\n",
    "        SGA_MaNGA['Vmax_err_map'][i] = MaNGA_fits['Vmax_err_map'][i_fit]\n",
    "        SGA_MaNGA['Rturn_map'][i] = MaNGA_fits['Rturn_map'][i_fit]\n",
    "        SGA_MaNGA['alpha_map'][i] = MaNGA_fits['alpha_map'][i_fit]\n",
    "        \n",
    "        SGA_MaNGA['ba_map'][i] = MaNGA_fits['ba_map'][i_fit]\n",
    "        SGA_MaNGA['ba_NSA'][i] = MaNGA_fits['NSA_ba'][i_fit]\n",
    "        \n",
    "# Flip all -99 values to NaN\n",
    "SGA_MaNGA['Vmax_map'][SGA_MaNGA['Vmax_map'] == -99] = np.nan"
   ]
  },
  {
   "cell_type": "code",
   "execution_count": 20,
   "id": "d0d350f2-3eca-4933-a3ed-dffdca5a452e",
   "metadata": {},
   "outputs": [],
   "source": [
    "np.sum(np.isfinite(SGA_MaNGA['Vmax_map']) & np.isfinite(SGA_MaNGA['V_0p33R26']))\n",
    "\n",
    "final_sample = np.isfinite(SGA_MaNGA['Vmax_map']) & np.isfinite(SGA_MaNGA['V_0p33R26'])"
   ]
  },
  {
   "cell_type": "markdown",
   "id": "9d89530e-d46d-4661-afcc-01207d82b04e",
   "metadata": {},
   "source": [
    "### Plot"
   ]
  },
  {
   "cell_type": "code",
   "execution_count": 21,
   "id": "c894b58e-717c-4c38-87a1-a1a11be85c63",
   "metadata": {},
   "outputs": [
    {
     "data": {
      "text/plain": [
       "Text(0.5, 0, '$V(0.33R_{26})$ [km/s]')"
      ]
     },
     "execution_count": 21,
     "metadata": {},
     "output_type": "execute_result"
    },
    {
     "data": {
      "image/png": "[encoded data removed]",
      "text/plain": [
       "<Figure size 640x480 with 2 Axes>"
      ]
     },
     "metadata": {},
     "output_type": "display_data"
    }
   ],
   "source": [
    "fig = plt.figure()\n",
    "\n",
    "frame1 = fig.add_axes((0.2, 0.35, 0.75, 0.6))\n",
    "\n",
    "plt.errorbar(SGA_MaNGA['V_0p33R26'][final_sample], SGA_MaNGA['Vmax_map'][final_sample], \n",
    "             yerr=SGA_MaNGA['Vmax_err_map'][final_sample], \n",
    "             xerr=SGA_MaNGA['V_0p33R26_ERR'][final_sample], \n",
    "             fmt='o', \n",
    "             ecolor='lightskyblue')\n",
    "plt.plot([0, 1000], [0, 1000], 'k:')\n",
    "\n",
    "plt.ylim(0, 600)\n",
    "plt.xlim(0, 250)\n",
    "\n",
    "plt.ylabel('$V_{max}$ [km/s]')\n",
    "\n",
    "frame1.axes.get_xaxis().set_visible(False)\n",
    "\n",
    "\n",
    "frame2 = fig.add_axes((0.2, 0.15, 0.75, 0.2))\n",
    "\n",
    "plt.errorbar(SGA_MaNGA['V_0p33R26'][final_sample], SGA_MaNGA['V_0p33R26'][final_sample] - SGA_MaNGA['Vmax_map'][final_sample], \n",
    "             xerr=SGA_MaNGA['V_0p33R26_ERR'][final_sample], \n",
    "             yerr=np.sqrt(SGA_MaNGA['V_0p33R26_ERR'][final_sample]**2 + SGA_MaNGA['Vmax_err_map'][final_sample]**2), \n",
    "             fmt='o', \n",
    "             ecolor='lightskyblue')\n",
    "plt.hlines(0, 0, 250, linestyles='dotted', colors='k')\n",
    "\n",
    "plt.xlim(0, 250)\n",
    "plt.ylim(-500, 150)\n",
    "\n",
    "plt.ylabel('$V(0.33R_{26})$\\n $- V_{max}$ [km/s]')        \n",
    "plt.xlabel('$V(0.33R_{26})$ [km/s]')\n",
    "\n",
    "#plt.savefig('../Figures/SV/fuji_MaNGA-Vmax_comparison.eps', dpi=300);"
   ]
  },
  {
   "cell_type": "markdown",
   "id": "8ae331e1-b989-4959-998c-b4ea681c0e1c",
   "metadata": {},
   "source": [
    "#### How do these residuals depend on redshift?"
   ]
  },
  {
   "cell_type": "code",
   "execution_count": 22,
   "id": "6dd6a650-bd06-462f-af4c-39e84cfacb95",
   "metadata": {},
   "outputs": [
    {
     "data": {
      "image/png": "[encoded data removed]",
      "text/plain": [
       "<Figure size 1000x500 with 2 Axes>"
      ]
     },
     "metadata": {},
     "output_type": "display_data"
    }
   ],
   "source": [
    "plt.figure(tight_layout=True, figsize=(10,5))\n",
    "\n",
    "plt.subplot(121)\n",
    "\n",
    "plt.errorbar(SGA_MaNGA['Z_DESI'][final_sample], \n",
    "             SGA_MaNGA['V_0p33R26'][final_sample] - SGA_MaNGA['Vmax_map'][final_sample], \n",
    "             xerr=SGA_MaNGA['ZERR_DESI'][final_sample], \n",
    "             yerr=np.sqrt(SGA_MaNGA['V_0p33R26_ERR'][final_sample]**2 + SGA_MaNGA['Vmax_err_map'][final_sample]**2), \n",
    "             fmt='o', \n",
    "             ecolor='lightskyblue')\n",
    "plt.hlines(0, 0, 0.08, linestyles='dotted', colors='k')\n",
    "\n",
    "plt.xlim(0.01, 0.08)\n",
    "plt.ylim(-500, 150)\n",
    "\n",
    "plt.xlabel('redshift (DESI)')\n",
    "plt.ylabel('$V(0.33R_{26}) - V_{max}$ [km/s]')\n",
    "\n",
    "\n",
    "plt.subplot(122)\n",
    "\n",
    "plt.errorbar(SGA_MaNGA['Z_DESI'][final_sample], \n",
    "             (SGA_MaNGA['V_0p33R26'][final_sample] - SGA_MaNGA['Vmax_map'][final_sample])/SGA_MaNGA['Vmax_map'][final_sample], \n",
    "             xerr=SGA_MaNGA['ZERR_DESI'][final_sample], \n",
    "             yerr=np.sqrt(SGA_MaNGA['V_0p33R26_ERR'][final_sample]**2 + (SGA_MaNGA['V_0p33R26'][final_sample]/SGA_MaNGA['Vmax_map'][final_sample])**2 * SGA_MaNGA['Vmax_err_map'][final_sample]**2)/SGA_MaNGA['Vmax_map'][final_sample], \n",
    "             fmt='o', \n",
    "             ecolor='lightskyblue')\n",
    "plt.hlines(0, 0, 0.08, linestyles='dotted', colors='k')\n",
    "\n",
    "plt.xlim(0.01, 0.08)\n",
    "plt.ylim(-1, 1)\n",
    "\n",
    "plt.xlabel('redshift (DESI)')\n",
    "plt.ylabel('($V(0.33R_{26}) - V_{max}$)/$V_{max}$');"
   ]
  },
  {
   "cell_type": "markdown",
   "id": "c8a5d8f8-efad-4e2f-9992-4e4b0c42f1e4",
   "metadata": {},
   "source": [
    "##### Fit a line to this trend to see how far from 0 the slope is.\n",
    "\n",
    "###### Create covariance matrix for `hyperfit`"
   ]
  },
  {
   "cell_type": "code",
   "execution_count": 23,
   "id": "1e6840fa-92c0-4bc9-aaa1-9659b99f306a",
   "metadata": {},
   "outputs": [],
   "source": [
    "Ndata = np.sum(final_sample)\n",
    "cov = np.empty((2, 2, Ndata))\n",
    "\n",
    "# Loop over arrays of uncertainties in redshift and delta V\n",
    "# Assume diagonal covariance for each measurement\n",
    "for i in range(Ndata):\n",
    "    cov[:,:,i] = np.array([[SGA_MaNGA['ZERR_DESI'][final_sample][i], 0], [0, np.sqrt(SGA_MaNGA['V_0p33R26_ERR'][final_sample][i]**2 + SGA_MaNGA['Vmax_err_map'][final_sample][i]**2)]])"
   ]
  },
  {
   "cell_type": "markdown",
   "id": "3df25741-e3fd-4731-b321-ea49646df842",
   "metadata": {},
   "source": [
    "###### Create `hyperfit` object"
   ]
  },
  {
   "cell_type": "code",
   "execution_count": 24,
   "id": "52a3b767-c97e-4caa-bf51-ae2b63c9649b",
   "metadata": {},
   "outputs": [],
   "source": [
    "hf = LinFit([SGA_MaNGA['Z_DESI'][final_sample], SGA_MaNGA['V_0p33R26'][final_sample] - SGA_MaNGA['Vmax_map'][final_sample]], cov)"
   ]
  },
  {
   "cell_type": "markdown",
   "id": "c5c4b2c6-59d6-4337-bea2-33fff23d501d",
   "metadata": {},
   "source": [
    "###### Run MCMC to fit line"
   ]
  },
  {
   "cell_type": "code",
   "execution_count": 25,
   "id": "4b2d101d-15f7-40e5-85ad-537fcbf97717",
   "metadata": {},
   "outputs": [
    {
     "name": "stdout",
     "output_type": "stream",
     "text": [
      "     fun: -132.5197121601948\n",
      " message: 'Optimization terminated successfully.'\n",
      "    nfev: 5214\n",
      "     nit: 113\n",
      " success: True\n",
      "       x: array([3.09074604e-02, 2.20670529e-06, 1.22889291e-02])\n"
     ]
    },
    {
     "name": "stderr",
     "output_type": "stream",
     "text": [
      "100%|██████████| 1000/1000 [00:00<00:00, 2380.20it/s]\n"
     ]
    },
    {
     "name": "stdout",
     "output_type": "stream",
     "text": [
      "Niterations/Max Iterations:  1000 / 100000\n",
      "Integrated ACT/Min Convergence Iterations:  [34.17787383 42.96167079 36.3529999 ] / 2148.0835394033556\n"
     ]
    },
    {
     "name": "stderr",
     "output_type": "stream",
     "text": [
      "100%|██████████| 1000/1000 [00:00<00:00, 2394.73it/s]\n"
     ]
    },
    {
     "name": "stdout",
     "output_type": "stream",
     "text": [
      "Niterations/Max Iterations:  2000 / 100000\n",
      "Integrated ACT/Min Convergence Iterations:  [33.36546183 36.57570087 31.76504469] / 1828.7850433047713\n"
     ]
    },
    {
     "name": "stderr",
     "output_type": "stream",
     "text": [
      "100%|██████████| 1000/1000 [00:00<00:00, 2162.94it/s]\n"
     ]
    },
    {
     "name": "stdout",
     "output_type": "stream",
     "text": [
      "Niterations/Max Iterations:  3000 / 100000\n",
      "Integrated ACT/Min Convergence Iterations:  [27.25510886 27.44805702 35.09249785] / 1754.6248923357434\n"
     ]
    },
    {
     "name": "stderr",
     "output_type": "stream",
     "text": [
      "100%|██████████| 1000/1000 [00:00<00:00, 2231.86it/s]\n"
     ]
    },
    {
     "name": "stdout",
     "output_type": "stream",
     "text": [
      "Niterations/Max Iterations:  4000 / 100000\n",
      "Integrated ACT/Min Convergence Iterations:  [29.37386941 30.06478371 35.98781612] / 1799.3908058268446\n"
     ]
    },
    {
     "name": "stderr",
     "output_type": "stream",
     "text": [
      "100%|██████████| 1000/1000 [00:00<00:00, 2417.87it/s]\n"
     ]
    },
    {
     "name": "stdout",
     "output_type": "stream",
     "text": [
      "Niterations/Max Iterations:  5000 / 100000\n",
      "Integrated ACT/Min Convergence Iterations:  [39.65301477 36.93272275 33.96282058] / 1982.6507386323005\n"
     ]
    },
    {
     "name": "stderr",
     "output_type": "stream",
     "text": [
      "100%|██████████| 1000/1000 [00:00<00:00, 2436.39it/s]\n"
     ]
    },
    {
     "name": "stdout",
     "output_type": "stream",
     "text": [
      "Niterations/Max Iterations:  6000 / 100000\n",
      "Integrated ACT/Min Convergence Iterations:  [44.50798753 40.28727232 38.11150318] / 2225.3993764661373\n"
     ]
    },
    {
     "name": "stderr",
     "output_type": "stream",
     "text": [
      "100%|██████████| 1000/1000 [00:00<00:00, 2457.65it/s]\n"
     ]
    },
    {
     "name": "stdout",
     "output_type": "stream",
     "text": [
      "Niterations/Max Iterations:  7000 / 100000\n",
      "Integrated ACT/Min Convergence Iterations:  [41.59517142 40.29324219 41.16399693] / 2079.7585709974474\n"
     ]
    },
    {
     "name": "stderr",
     "output_type": "stream",
     "text": [
      "100%|██████████| 1000/1000 [00:00<00:00, 2461.68it/s]\n"
     ]
    },
    {
     "name": "stdout",
     "output_type": "stream",
     "text": [
      "Niterations/Max Iterations:  8000 / 100000\n",
      "Integrated ACT/Min Convergence Iterations:  [39.6376367  41.08393106 45.12725682] / 2256.362840952697\n"
     ]
    },
    {
     "name": "stderr",
     "output_type": "stream",
     "text": [
      "100%|██████████| 1000/1000 [00:00<00:00, 2428.65it/s]\n"
     ]
    },
    {
     "name": "stdout",
     "output_type": "stream",
     "text": [
      "Niterations/Max Iterations:  9000 / 100000\n",
      "Integrated ACT/Min Convergence Iterations:  [41.74362499 39.75295877 42.5758198 ] / 2128.7909899945867\n"
     ]
    },
    {
     "name": "stderr",
     "output_type": "stream",
     "text": [
      "100%|██████████| 1000/1000 [00:00<00:00, 2237.13it/s]\n"
     ]
    },
    {
     "name": "stdout",
     "output_type": "stream",
     "text": [
      "Niterations/Max Iterations:  10000 / 100000\n",
      "Integrated ACT/Min Convergence Iterations:  [40.34463028 37.23339495 41.95326941] / 2097.6634705676292\n"
     ]
    },
    {
     "name": "stderr",
     "output_type": "stream",
     "text": [
      "100%|██████████| 1000/1000 [00:00<00:00, 2288.76it/s]\n"
     ]
    },
    {
     "name": "stdout",
     "output_type": "stream",
     "text": [
      "Niterations/Max Iterations:  11000 / 100000\n",
      "Integrated ACT/Min Convergence Iterations:  [39.91967562 37.37897557 45.38800545] / 2269.4002724919997\n"
     ]
    },
    {
     "name": "stderr",
     "output_type": "stream",
     "text": [
      "100%|██████████| 1000/1000 [00:00<00:00, 2314.43it/s]\n"
     ]
    },
    {
     "name": "stdout",
     "output_type": "stream",
     "text": [
      "Niterations/Max Iterations:  12000 / 100000\n",
      "Integrated ACT/Min Convergence Iterations:  [41.62584576 39.74239789 50.50790271] / 2525.3951356327793\n"
     ]
    },
    {
     "name": "stderr",
     "output_type": "stream",
     "text": [
      "100%|██████████| 1000/1000 [00:00<00:00, 2456.14it/s]\n"
     ]
    },
    {
     "name": "stdout",
     "output_type": "stream",
     "text": [
      "Niterations/Max Iterations:  13000 / 100000\n",
      "Integrated ACT/Min Convergence Iterations:  [39.81715051 38.44781781 47.51344274] / 2375.6721372255615\n"
     ]
    },
    {
     "name": "stderr",
     "output_type": "stream",
     "text": [
      "100%|██████████| 1000/1000 [00:00<00:00, 2393.86it/s]\n"
     ]
    },
    {
     "name": "stdout",
     "output_type": "stream",
     "text": [
      "Niterations/Max Iterations:  14000 / 100000\n",
      "Integrated ACT/Min Convergence Iterations:  [40.4299805  37.82284198 45.11120274] / 2255.5601370730387\n"
     ]
    },
    {
     "name": "stderr",
     "output_type": "stream",
     "text": [
      "100%|██████████| 1000/1000 [00:00<00:00, 2455.13it/s]"
     ]
    },
    {
     "name": "stdout",
     "output_type": "stream",
     "text": [
      "Niterations/Max Iterations:  15000 / 100000\n",
      "Integrated ACT/Min Convergence Iterations:  [40.79187819 39.02156095 45.75877494] / 2287.938746946838\n",
      "[-17261.2071709     552.44008479    411.58169844] [589388.11260259  20540.37601273   9021.90471145]\n"
     ]
    },
    {
     "name": "stderr",
     "output_type": "stream",
     "text": [
      "\n"
     ]
    }
   ],
   "source": [
    "bounds = ((-10000., 10000.), (-100., 1000.), (1.0e-5, 500.))\n",
    "\n",
    "mcmc_samples, mcmc_lnlike = hf.emcee(bounds, verbose=True)\n",
    "\n",
    "print(np.mean(mcmc_samples, axis=1), np.std(mcmc_samples, axis=1))"
   ]
  },
  {
   "cell_type": "markdown",
   "id": "5fead5c6-f22e-4d69-a49a-504c60e371ae",
   "metadata": {},
   "source": [
    "###### Plot the Hyperfit\n",
    "\n",
    "After the linear fit MCMC, construct the best-fit line and its 1$\\sigma$ uncertainties.\n",
    "\n",
    "Also plot the measurements as ellipses with the size given by the uncertainties in redshift and $\\Delta V$."
   ]
  },
  {
   "cell_type": "code",
   "execution_count": 26,
   "id": "a9fba40b-a49f-470d-9e7a-22df98959831",
   "metadata": {},
   "outputs": [
    {
     "name": "stdout",
     "output_type": "stream",
     "text": [
      "-14127.25 +/- 589388.11\n",
      "439.68 +/- 20540.38\n",
      "186.47 +/- 9021.90\n"
     ]
    }
   ],
   "source": [
    "a, b, sig = np.median(mcmc_samples, axis=1)\n",
    "da, db, dsig = np.std(mcmc_samples, axis=1)\n",
    "\n",
    "for val, err in zip((a, b, sig), (da, db, dsig)):\n",
    "    print('{:6.2f} +/- {:.2f}'.format(val, err))"
   ]
  },
  {
   "cell_type": "code",
   "execution_count": 27,
   "id": "304a40f7-ae68-483c-8b02-133425538b53",
   "metadata": {},
   "outputs": [
    {
     "data": {
      "image/png": "[encoded data removed]",
      "text/plain": [
       "<Figure size 760x760 with 9 Axes>"
      ]
     },
     "metadata": {},
     "output_type": "display_data"
    }
   ],
   "source": [
    "fig = corner.corner(mcmc_samples.T, bins=30, smooth=1,\n",
    "             range=[[-30000, 500], [0, 1000], [0, 500]],   # Range for a, b, sigma. Adjust as needed.\n",
    "             labels=['$a$', '$b$', r'$\\sigma$'],\n",
    "             levels=(1-np.exp(-0.5), 1-np.exp(-2)),\n",
    "             quantiles=[0.16, 0.5, 0.84],\n",
    "             color='blue',\n",
    "             hist_kwargs={'histtype':'stepfilled', 'alpha':0.3},\n",
    "             plot_datapoints=False,\n",
    "             fill_contours=True,\n",
    "             show_titles=True,\n",
    "             title = {'Coma'},\n",
    "             title_kwargs={\"fontsize\": 14})"
   ]
  },
  {
   "cell_type": "code",
   "execution_count": 28,
   "id": "01d3c6a6-5492-4a22-ab23-dc63d6e6fef9",
   "metadata": {},
   "outputs": [
    {
     "data": {
      "image/png": "[encoded data removed]",
      "text/plain": [
       "<Figure size 640x480 with 1 Axes>"
      ]
     },
     "metadata": {},
     "output_type": "display_data"
    }
   ],
   "source": [
    "sigmas = hf.get_sigmas()\n",
    "xvals = np.linspace(0., 0.1, 1000)\n",
    "yvals = hf.coords[0] * xvals + hf.coords[1]\n",
    "\n",
    "# Get the MCMC 1-sigma quantiles to plot with the fit.\n",
    "y_chain = np.outer(xvals, mcmc_samples[0]) + mcmc_samples[1]\n",
    "y_chain_quantiles = np.quantile(y_chain, [0.1587, 0.8414], axis=1)\n",
    "\n",
    "# Pack info into data\n",
    "data = [SGA_MaNGA['Z_DESI'][final_sample], SGA_MaNGA['V_0p33R26'][final_sample] - SGA_MaNGA['Vmax_map'][final_sample]]\n",
    "x_err = SGA_MaNGA['ZERR_DESI'][final_sample]\n",
    "y_err = np.sqrt(SGA_MaNGA['V_0p33R26_ERR'][final_sample]**2 + SGA_MaNGA['Vmax_err_map'][final_sample]**2)\n",
    "corr_xy = np.zeros_like(x_err)\n",
    "'''\n",
    "# Generate ellipses\n",
    "ells = [\n",
    "    Ellipse(\n",
    "        xy=[data[0][i], data[1][i]],\n",
    "        width=2*y_err[i],\n",
    "        height=2*x_err[i] * 1e6,\n",
    "        angle=np.rad2deg(np.arccos(corr_xy[i])),\n",
    "    )\n",
    "    for i in range(len(data[0]))\n",
    "]\n",
    "''';\n",
    "# Make the plot\n",
    "fig, ax = plt.subplots(tight_layout=True)\n",
    "ax.fill_between(xvals, y_chain_quantiles[0], y_chain_quantiles[1], color=\"lightgray\")\n",
    "'''\n",
    "for i, e in enumerate(ells):\n",
    "    ax.add_artist(e)\n",
    "    #e.set_color(cm.winter(sigmas[i] / np.amax(sigmas)))\n",
    "    #e.set_edgecolor('None')\n",
    "    #e.set_alpha(0.9)\n",
    "'''\n",
    "ax.errorbar(data[0], data[1], xerr=x_err, yerr=y_err, fmt='o', ecolor='lightskyblue')\n",
    "ax.plot(xvals, yvals, c=\"k\", marker=\"None\", ls=\"-\", lw=1.3)#, alpha=0.9)\n",
    "ax.plot(xvals, yvals - hf.vert_scat, c=\"k\", marker=\"None\", ls=\"--\", lw=1.3)#, alpha=0.9)\n",
    "ax.plot(xvals, yvals + hf.vert_scat, c=\"k\", marker=\"None\", ls=\"--\", lw=1.3)#, alpha=0.9)\n",
    "ax.set_xlabel(\"redshift (DESI)\", fontsize=14)\n",
    "ax.set_ylabel(r\"$V(0.33R_{26}) - V_{max}$ [km/s]\", fontsize=14)\n",
    "#ax.set_title(\"Coma Cluster ({} galaxies)\".format(len(SGA_TF)), fontsize = 14)\n",
    "ax.set_xlim(0.01, 0.08)\n",
    "ax.set_ylim(-500, 150);"
   ]
  },
  {
   "cell_type": "markdown",
   "id": "38a9427d-0613-4a01-b69b-e7f53f69e0a7",
   "metadata": {},
   "source": [
    "###### Segev doesn't trust `hyperfit` here, so a second way of fitting this data:"
   ]
  },
  {
   "cell_type": "code",
   "execution_count": 29,
   "id": "6f48c951-1cc4-41bb-948f-d093122695b5",
   "metadata": {},
   "outputs": [
    {
     "name": "stdout",
     "output_type": "stream",
     "text": [
      "50.43716725136828 -1510.609441709131\n"
     ]
    }
   ],
   "source": [
    "# Quick linear fit.\n",
    "z = SGA_MaNGA['Z_DESI'][final_sample]\n",
    "deltav = SGA_MaNGA['V_0p33R26'][final_sample] - SGA_MaNGA['Vmax_map'][final_sample]\n",
    "deltav_err = np.sqrt(SGA_MaNGA['V_0p33R26_ERR'][final_sample]**2 + SGA_MaNGA['Vmax_err_map'][final_sample]**2)\n",
    "\n",
    "A = np.vander(z, 2)\n",
    "C = np.diag(deltav_err * deltav_err)\n",
    "ATA = np.dot(A.T, A / (deltav_err**2)[:,None])\n",
    "cov = np.linalg.inv(ATA)\n",
    "w = np.linalg.solve(ATA, np.dot(A.T, deltav / deltav_err ** 2))\n",
    "a, b = w[::-1]\n",
    "\n",
    "print(a, b)"
   ]
  },
  {
   "cell_type": "code",
   "execution_count": 30,
   "id": "e36774e3-4815-4a1f-8dbb-d4ef4b9402af",
   "metadata": {},
   "outputs": [
    {
     "data": {
      "image/png": "[encoded data removed]",
      "text/plain": [
       "<Figure size 640x480 with 1 Axes>"
      ]
     },
     "metadata": {},
     "output_type": "display_data"
    }
   ],
   "source": [
    "xvals = np.linspace(0., 0.1, 1000)\n",
    "yvals = b * xvals + a\n",
    "\n",
    "plt.figure(tight_layout=True)\n",
    "\n",
    "plt.errorbar(z, deltav, xerr=SGA_MaNGA['ZERR_DESI'][final_sample], yerr=deltav_err, fmt='o', ecolor='lightskyblue')\n",
    "\n",
    "plt.plot(xvals, yvals, c=\"k\", lw=1.3)#, alpha=0.9)\n",
    "\n",
    "plt.xlabel(\"redshift (DESI)\", fontsize=14)\n",
    "plt.ylabel(r\"$V(0.33R_{26}) - V_{max}$ [km/s]\", fontsize=14)\n",
    "plt.xlim(0.01, 0.08)\n",
    "plt.ylim(-500, 150);"
   ]
  },
  {
   "cell_type": "markdown",
   "id": "0f754025-8d47-42a5-a7ea-dd897ff7fa6e",
   "metadata": {},
   "source": [
    "###### And fitting using $\\chi^2$:"
   ]
  },
  {
   "cell_type": "code",
   "execution_count": 31,
   "id": "f7f3ff29-b9ac-4740-9276-ec58f9bdec3d",
   "metadata": {},
   "outputs": [],
   "source": [
    "def linear_model(b, m, x):\n",
    "    return m*x + b\n",
    "\n",
    "\n",
    "def calculate_chi2(params, x, x_err, y, y_err):\n",
    "    \n",
    "    m, b = params\n",
    "    \n",
    "    y_fit = linear_model(b, m, x)\n",
    "    \n",
    "    chi2 = np.sum((y - y_fit)**2 / (y_err**2 + (m*x_err)**2))\n",
    "    \n",
    "    return chi2 / (len(x) - 2)\n",
    "\n",
    "def chi2_linear(params, x, dx, y, dy):\n",
    "    a, b = params\n",
    "    return np.sum((y - a - b*x)**2 / (dy**2 + (b*dx)**2))\n",
    "\n",
    "def chi2_const(params, x, dx, y, dy):\n",
    "    a = params\n",
    "    return np.sum((y - a)**2 / dy**2)"
   ]
  },
  {
   "cell_type": "code",
   "execution_count": 32,
   "id": "70df7521-7787-476c-91e3-1ce2d953a2e3",
   "metadata": {},
   "outputs": [
    {
     "name": "stderr",
     "output_type": "stream",
     "text": [
      "100%|██████████| 1000/1000 [00:16<00:00, 60.91it/s]"
     ]
    },
    {
     "name": "stdout",
     "output_type": "stream",
     "text": [
      "      fun: 293.27417388081375\n",
      " hess_inv: array([[   41.82955043, -1242.51221039],\n",
      "       [-1242.51221039, 41035.77397218]])\n",
      "      jac: array([-3.81469727e-06,  0.00000000e+00])\n",
      "  message: 'Optimization terminated successfully.'\n",
      "     nfev: 72\n",
      "      nit: 14\n",
      "     njev: 24\n",
      "   status: 0\n",
      "  success: True\n",
      "        x: array([   50.43715845, -1510.60916654])\n",
      "\n",
      "a =    50.44 +-     6.47\n",
      "b = -1510.61 +-   202.57\n"
     ]
    },
    {
     "name": "stderr",
     "output_type": "stream",
     "text": [
      "\n"
     ]
    }
   ],
   "source": [
    "a_guess = 50.\n",
    "b_guess = -1500.\n",
    "\n",
    "rng = np.random.default_rng()\n",
    "\n",
    "best_fun_linear = np.inf\n",
    "\n",
    "for i in tqdm(range(1000)):\n",
    "    \n",
    "    result = minimize(chi2_linear, \n",
    "                      [a_guess + (rng.random()*500 - 250), b_guess + (rng.random()*20000 - 10000)], \n",
    "                      # [m_guess + (rng.random()*20000 - 10000), b_guess + (rng.random()*500 - 250)], \n",
    "                      args=(SGA_MaNGA['Z_DESI'][final_sample], \n",
    "                            SGA_MaNGA['ZERR_DESI'][final_sample], \n",
    "                            SGA_MaNGA['V_0p33R26'][final_sample] - SGA_MaNGA['Vmax_map'][final_sample], \n",
    "                            np.sqrt(SGA_MaNGA['V_0p33R26_ERR'][final_sample]**2 + SGA_MaNGA['Vmax_err_map'][final_sample]**2)))\n",
    "    \n",
    "    if result.success and (result.fun < best_fun_linear):\n",
    "        best_fun_linear = result.fun\n",
    "        best_result_linear = result\n",
    "\n",
    "print(f'{best_result_linear}\\n')\n",
    "\n",
    "for j, par in enumerate('ab'):\n",
    "    p = best_result_linear.x[j]\n",
    "    dp = np.sqrt(np.diag(best_result_linear.hess_inv))[j]\n",
    "    print(f'{par} = {p:8.2f} +- {dp:8.2f}')"
   ]
  },
  {
   "cell_type": "code",
   "execution_count": 33,
   "id": "45a45f5c-d171-4e04-9618-4e1427b2484c",
   "metadata": {},
   "outputs": [
    {
     "name": "stderr",
     "output_type": "stream",
     "text": [
      "100%|██████████| 1000/1000 [00:01<00:00, 551.65it/s]"
     ]
    },
    {
     "name": "stdout",
     "output_type": "stream",
     "text": [
      "      fun: 314.86645941611795\n",
      " hess_inv: array([[4.20322452]])\n",
      "      jac: array([3.81469727e-06])\n",
      "  message: 'Optimization terminated successfully.'\n",
      "     nfev: 14\n",
      "      nit: 3\n",
      "     njev: 7\n",
      "   status: 0\n",
      "  success: True\n",
      "        x: array([4.77066418])\n",
      "\n",
      "a =     4.77 +-     2.05\n"
     ]
    },
    {
     "name": "stderr",
     "output_type": "stream",
     "text": [
      "\n"
     ]
    }
   ],
   "source": [
    "a_guess = 50.\n",
    "\n",
    "rng = np.random.default_rng()\n",
    "\n",
    "best_fun_const = np.inf\n",
    "\n",
    "for i in tqdm(range(1000)):\n",
    "    \n",
    "    result = minimize(chi2_const, \n",
    "                      [a_guess + (rng.random()*500 - 250)], \n",
    "                      # [m_guess + (rng.random()*20000 - 10000), b_guess + (rng.random()*500 - 250)], \n",
    "                      args=(SGA_MaNGA['Z_DESI'][final_sample], \n",
    "                            SGA_MaNGA['ZERR_DESI'][final_sample], \n",
    "                            SGA_MaNGA['V_0p33R26'][final_sample] - SGA_MaNGA['Vmax_map'][final_sample], \n",
    "                            np.sqrt(SGA_MaNGA['V_0p33R26_ERR'][final_sample]**2 + SGA_MaNGA['Vmax_err_map'][final_sample]**2)))\n",
    "    \n",
    "    if result.success and (result.fun < best_fun_const):\n",
    "        best_fun_const = result.fun\n",
    "        best_result_const = result\n",
    "\n",
    "print(f'{best_result_const}\\n')\n",
    "\n",
    "for j, par in enumerate('a'):\n",
    "    p = best_result_const.x[j]\n",
    "    dp = np.sqrt(np.diag(best_result_const.hess_inv))[j]\n",
    "    print(f'{par} = {p:8.2f} +- {dp:8.2f}')"
   ]
  },
  {
   "cell_type": "markdown",
   "id": "f143d0c2-abe5-414e-98e1-56d5fe3c29b2",
   "metadata": {},
   "source": [
    "## $\\Delta\\chi^2$ Test\n",
    "\n",
    "Compute the $\\chi^2$ difference between the linear and constant fits to the residuals. It should be distributed as\n",
    "\n",
    "$$\n",
    "\\Delta\\chi^2 = \\chi^2_\\mathrm{const} - \\chi^2_\\mathrm{linear} \\sim \\chi^2_1,\n",
    "$$\n",
    "\n",
    "so we can compute the $p$-value\n",
    "\n",
    "$$\n",
    "p = \\mathrm{Pr}(\\Delta\\chi^2 \\geq \\chi^2_N|N=1).\n",
    "$$\n",
    "\n",
    "This gives the chance probability that the data are constant but have fluctuated enough to prefer the linear rather than the constant model. Larger $p$-values mean the simpler hypothesis of a constant function is preferred."
   ]
  },
  {
   "cell_type": "code",
   "execution_count": 34,
   "id": "d9b8b877-ba54-45f1-8e60-104c27579cdc",
   "metadata": {},
   "outputs": [
    {
     "name": "stdout",
     "output_type": "stream",
     "text": [
      "p = 3.37205e-06, a 4.5 sigma chance probability.\n"
     ]
    }
   ],
   "source": [
    "deltachi2 = best_fun_const - best_fun_linear\n",
    "p = stats.chi2.sf(deltachi2, 1)\n",
    "sigma = stats.norm.isf(p)\n",
    "print(f'p = {p:g}, a {sigma:.1f} sigma chance probability.')"
   ]
  },
  {
   "cell_type": "code",
   "execution_count": 35,
   "id": "7eb851f1-ef7a-423f-9638-9065bb96434a",
   "metadata": {},
   "outputs": [
    {
     "ename": "NameError",
     "evalue": "name 'best_result' is not defined",
     "output_type": "error",
     "traceback": [
      "\u001b[0;31m---------------------------------------------------------------------------\u001b[0m",
      "\u001b[0;31mNameError\u001b[0m                                 Traceback (most recent call last)",
      "Cell \u001b[0;32mIn[35], line 2\u001b[0m\n\u001b[1;32m      1\u001b[0m hessian \u001b[38;5;241m=\u001b[39m ndt\u001b[38;5;241m.\u001b[39mHessian(chi2_linear)\n\u001b[0;32m----> 2\u001b[0m hess_ll \u001b[38;5;241m=\u001b[39m hessian(\u001b[43mbest_result\u001b[49m\u001b[38;5;241m.\u001b[39mx, \n\u001b[1;32m      3\u001b[0m                   SGA_MaNGA[\u001b[38;5;124m'\u001b[39m\u001b[38;5;124mZ_DESI\u001b[39m\u001b[38;5;124m'\u001b[39m][final_sample], \n\u001b[1;32m      4\u001b[0m                   SGA_MaNGA[\u001b[38;5;124m'\u001b[39m\u001b[38;5;124mZERR_DESI\u001b[39m\u001b[38;5;124m'\u001b[39m][final_sample], \n\u001b[1;32m      5\u001b[0m                   SGA_MaNGA[\u001b[38;5;124m'\u001b[39m\u001b[38;5;124mV_0p33R26\u001b[39m\u001b[38;5;124m'\u001b[39m][final_sample] \u001b[38;5;241m-\u001b[39m SGA_MaNGA[\u001b[38;5;124m'\u001b[39m\u001b[38;5;124mVmax_map\u001b[39m\u001b[38;5;124m'\u001b[39m][final_sample], \n\u001b[1;32m      6\u001b[0m                   np\u001b[38;5;241m.\u001b[39msqrt(SGA_MaNGA[\u001b[38;5;124m'\u001b[39m\u001b[38;5;124mV_0p33R26_ERR\u001b[39m\u001b[38;5;124m'\u001b[39m][final_sample]\u001b[38;5;241m*\u001b[39m\u001b[38;5;241m*\u001b[39m\u001b[38;5;241m2\u001b[39m \u001b[38;5;241m+\u001b[39m SGA_MaNGA[\u001b[38;5;124m'\u001b[39m\u001b[38;5;124mVmax_err_map\u001b[39m\u001b[38;5;124m'\u001b[39m][final_sample]\u001b[38;5;241m*\u001b[39m\u001b[38;5;241m*\u001b[39m\u001b[38;5;241m2\u001b[39m))\n\u001b[1;32m      7\u001b[0m hess_inv \u001b[38;5;241m=\u001b[39m np\u001b[38;5;241m.\u001b[39mlinalg\u001b[38;5;241m.\u001b[39minv(hess_ll)\n\u001b[1;32m      9\u001b[0m uncertainty \u001b[38;5;241m=\u001b[39m np\u001b[38;5;241m.\u001b[39msqrt(np\u001b[38;5;241m.\u001b[39mdiag(hess_inv))\n",
      "\u001b[0;31mNameError\u001b[0m: name 'best_result' is not defined"
     ]
    }
   ],
   "source": [
    "hessian = ndt.Hessian(chi2_linear)\n",
    "hess_ll = hessian(best_result.x, \n",
    "                  SGA_MaNGA['Z_DESI'][final_sample], \n",
    "                  SGA_MaNGA['ZERR_DESI'][final_sample], \n",
    "                  SGA_MaNGA['V_0p33R26'][final_sample] - SGA_MaNGA['Vmax_map'][final_sample], \n",
    "                  np.sqrt(SGA_MaNGA['V_0p33R26_ERR'][final_sample]**2 + SGA_MaNGA['Vmax_err_map'][final_sample]**2))\n",
    "hess_inv = np.linalg.inv(hess_ll)\n",
    "\n",
    "uncertainty = np.sqrt(np.diag(hess_inv))\n",
    "\n",
    "for i in range(2):\n",
    "    print('{:6.2f} +/- {:.2f}'.format(best_result.x[i], uncertainty[i]))"
   ]
  },
  {
   "cell_type": "markdown",
   "id": "30741bac-68ed-485d-b1b2-1544a4c98b96",
   "metadata": {},
   "source": [
    "###### And fitting using least squares (Segev's code)"
   ]
  },
  {
   "cell_type": "code",
   "execution_count": null,
   "id": "70de90f1-f103-4208-88a3-ff54edd91f3c",
   "metadata": {},
   "outputs": [],
   "source": [
    "def leastsq(x, y, dy):\n",
    "    \"\"\"Analytical linear least squares fit.\n",
    "    \n",
    "    Parameters\n",
    "    ----------\n",
    "    x : list or ndarray\n",
    "        List of independent \"ordinates.\"\n",
    "    y : list or ndarray\n",
    "        List of dependent coordinates.\n",
    "    dy : list or ndarray\n",
    "        Uncertainty in dependent coordinates.\n",
    "    \n",
    "    Returns\n",
    "    -------\n",
    "    a : float\n",
    "        Intercept: y = a + b*x\n",
    "    b : float\n",
    "        Slope: y = a + b*x\n",
    "    da : float  \n",
    "        Uncertainty in intercept.\n",
    "    db : float  \n",
    "        Uncertainty in slope.\n",
    "    \"\"\"\n",
    "    w = 2/dy**2\n",
    "    A = np.sum(w)\n",
    "    B = np.sum(x**2 * w)\n",
    "    C = np.sum(x*w)\n",
    "    p = np.sum(y*w)\n",
    "    q = np.sum(x*y*w)\n",
    "    det = A*B - C**2\n",
    "    \n",
    "    if det == 0:\n",
    "        raise ZeroDivisionError('Cannot invert singular matrix.')\n",
    "    \n",
    "    a = (B*p - C*q)/det\n",
    "    b = (A*q - C*p)/det\n",
    "    da = np.sqrt(2*B / det)\n",
    "    db = np.sqrt(2*A / det)\n",
    "    \n",
    "    return a, b, da, db\n",
    "    \n",
    "x = SGA_MaNGA['Z_DESI'][final_sample]\n",
    "#atrue, btrue = 1., 2.\n",
    "y = SGA_MaNGA['V_0p33R26'][final_sample] - SGA_MaNGA['Vmax_map'][final_sample]\n",
    "dy = np.sqrt(SGA_MaNGA['V_0p33R26_ERR'][final_sample]**2 + SGA_MaNGA['Vmax_err_map'][final_sample]**2)\n",
    "\n",
    "a, b, da, db = leastsq(x, y, dy)\n",
    "\n",
    "xvals = np.linspace(0., 0.1, 1000)\n",
    "yvals = b * xvals + a\n",
    "\n",
    "plt.errorbar(z, deltav, xerr=SGA_MaNGA['ZERR_DESI'][final_sample], yerr=deltav_err, fmt='o', ecolor='lightskyblue')\n",
    "plt.plot(xvals, yvals, 'k',\n",
    "         label=f'$\\hat{{a}}={a:.2f}\\pm{da:.2f}$\\n$\\hat{{b}}={b:.2f}\\pm{db:.2f}$')\n",
    "plt.xlabel('redshift (DESI)')\n",
    "plt.ylabel('$V(0.33R_{26}) - V_{max}$ [km/s]')\n",
    "\n",
    "plt.xlim(0.01, 0.08)\n",
    "\n",
    "plt.legend();"
   ]
  },
  {
   "cell_type": "markdown",
   "id": "21cf6ad6-dcc4-4ea4-bff7-62f14290417a",
   "metadata": {},
   "source": [
    "#### Save figure data to file for DESI publication"
   ]
  },
  {
   "cell_type": "code",
   "execution_count": null,
   "id": "1e497412-8bd6-4d1e-b8e4-dcc7977c26b8",
   "metadata": {},
   "outputs": [],
   "source": [
    "plot_v033 = fits.Column(name='DESI_V', array=SGA_MaNGA['V_0p33R26'], format='E', unit='km/s')\n",
    "plot_v033_sigma = fits.Column(name='DESI_Verr', array=SGA_MaNGA['V_0p33R26_ERR'], format='E', unit='km/s')\n",
    "\n",
    "plot_vmax = fits.Column(name='MaNGA_Vmax', array=SGA_MaNGA['Vmax_map'], format='E', unit='km/s')\n",
    "plot_vmax_sigma = fits.Column(name='MaNGA_Vmax_err', array=SGA_MaNGA['Vmax_err_map'], format='E', unit='km/s')"
   ]
  },
  {
   "cell_type": "code",
   "execution_count": null,
   "id": "c9d02431-6a30-494b-af83-fe0b104dab88",
   "metadata": {},
   "outputs": [],
   "source": [
    "plt.figure(tight_layout=True)\n",
    "\n",
    "plt.hist((SGA_MaNGA['V_0p33R26'] - SGA_MaNGA['Vmax_map'])/np.sqrt(SGA_MaNGA['V_0p33R26_ERR']**2 + SGA_MaNGA['Vmax_err_map']**2), \n",
    "         #bins=np.arange(-500, 100, 50), \n",
    "         bins=np.arange(-8, 15, 1),\n",
    "         #histtype='step', \n",
    "         #linewidth=3\n",
    "        )\n",
    "\n",
    "#plt.xlabel('($V(0.33R_{26}) - V_{max}$) [km/s]')\n",
    "plt.xlabel('($V(0.33R_{26}) - V_{max}$)/$\\sigma$')\n",
    "plt.ylabel('Number of galaxies')\n",
    "\n",
    "#plt.savefig('../Figures/SV/fuji_MaNGA_Vmax_pull.png', dpi=300);"
   ]
  },
  {
   "cell_type": "markdown",
   "id": "09d25233-4ae4-4ac1-beb7-258bd0fcce86",
   "metadata": {
    "tags": []
   },
   "source": [
    "# Compare DESI's observed rotational velocities at 0.33$R_{26}$ with $V(0.33R_{26})$ from the best-fit to MaNGA"
   ]
  },
  {
   "cell_type": "markdown",
   "id": "afa32afb-2f07-4286-b060-1990e529f12c",
   "metadata": {},
   "source": [
    "## 1) Convert $R_{26}$ to kpc for each galaxy"
   ]
  },
  {
   "cell_type": "code",
   "execution_count": null,
   "id": "5fd44498-fb5f-4ebd-9f25-d36abb60b238",
   "metadata": {},
   "outputs": [],
   "source": [
    "dist_to_galaxy = SGA_MaNGA['Z_DESI']*c/H0\n",
    "\n",
    "R26_kpc = dist_to_galaxy.to('kpc')*np.tan(SGA_MaNGA['SKY_FIBER_DIST'])"
   ]
  },
  {
   "cell_type": "markdown",
   "id": "f15340b9-a106-4c9a-8d6a-167c2b14b4a0",
   "metadata": {},
   "source": [
    "## 2) Compute $V(0.33R_{26})$ based on the best-fits"
   ]
  },
  {
   "cell_type": "code",
   "execution_count": null,
   "id": "df3d9059-0c1b-4cf7-a782-6ea85d3b5b8f",
   "metadata": {},
   "outputs": [],
   "source": [
    "SGA_MaNGA['Vfit_0p33R26'] = rot_fit_BB(R26_kpc.data, [SGA_MaNGA['Vmax_map'], SGA_MaNGA['Rturn_map'], SGA_MaNGA['alpha_map']])"
   ]
  },
  {
   "cell_type": "markdown",
   "id": "5b8dfc18-1bcb-421f-bbd3-97de7192f782",
   "metadata": {},
   "source": [
    "### Compute the uncertainty in the velocity at this location"
   ]
  },
  {
   "cell_type": "code",
   "execution_count": null,
   "id": "48b251f5-9385-43b1-a2b7-2809aafcf9b6",
   "metadata": {},
   "outputs": [],
   "source": [
    "SGA_MaNGA['Vfit_0p33R26_err'] = np.nan\n",
    "\n",
    "for i in range(len(SGA_MaNGA)):\n",
    "    \n",
    "    if np.isfinite(SGA_MaNGA['Vmax_map'][i]) and np.isfinite(SGA_MaNGA['V_0p33R26'][i]):\n",
    "        \n",
    "        gal_ID = str(SGA_MaNGA['MaNGA_plate'][i]) + '-' + str(SGA_MaNGA['MaNGA_IFU'][i])\n",
    "\n",
    "        try:\n",
    "            Hessian = np.load('DRP_map_Hessians/' + gal_ID + '_Hessian.npy')\n",
    "            hess_inv = 2*np.linalg.inv(Hessian)\n",
    "\n",
    "            N_samples = 10000\n",
    "\n",
    "            random_sample = np.random.multivariate_normal(mean=[SGA_MaNGA['Vmax_map'][i], \n",
    "                                                                SGA_MaNGA['Rturn_map'][i], \n",
    "                                                                SGA_MaNGA['alpha_map'][i]], \n",
    "                                                          cov=hess_inv[-3:,-3:], \n",
    "                                                          size=N_samples)\n",
    "\n",
    "            # Remove bad samples (those with negative values for any of the parameters)\n",
    "            is_good_random = (random_sample[:,0] > 0) & (random_sample[:,1] > 0) & (random_sample[:,2] > 0)\n",
    "            good_randoms = random_sample[is_good_random, :]\n",
    "\n",
    "            # Calculate values of curve at this location\n",
    "            y_sample = rot_fit_BB(R26_kpc[i].value, [good_randoms[:,0], \n",
    "                                                     good_randoms[:,1], \n",
    "                                                     good_randoms[:,2]])\n",
    "\n",
    "            SGA_MaNGA['Vfit_0p33R26_err'][i] = np.std(y_sample, axis=0)\n",
    "        except (FileNotFoundError, np.linalg.LinAlgError) as error:\n",
    "            print(gal_ID, error)"
   ]
  },
  {
   "cell_type": "markdown",
   "id": "05424428-1533-4bd8-8bcc-640880007c25",
   "metadata": {},
   "source": [
    "## 3) Plot"
   ]
  },
  {
   "cell_type": "code",
   "execution_count": null,
   "id": "d12c693a-ea4c-4014-8240-0d1df390e22f",
   "metadata": {},
   "outputs": [],
   "source": [
    "fig = plt.figure()\n",
    "\n",
    "frame1 = fig.add_axes((0.2, 0.35, 0.75, 0.6))\n",
    "\n",
    "plt.errorbar(SGA_MaNGA['V_0p33R26'], SGA_MaNGA['Vfit_0p33R26'], \n",
    "             yerr=SGA_MaNGA['Vfit_0p33R26_err'], \n",
    "             xerr=SGA_MaNGA['V_0p33R26_ERR'], \n",
    "             fmt='o', \n",
    "             ecolor='lightskyblue')\n",
    "plt.plot([0, 1000], [0, 1000], 'k:')\n",
    "\n",
    "plt.ylim(0, 350)\n",
    "plt.xlim(0, 250)\n",
    "\n",
    "plt.ylabel('$V(0.33R_{26})$ [km/s]\\n from MaNGA fit')\n",
    "\n",
    "frame1.axes.get_xaxis().set_visible(False)\n",
    "\n",
    "\n",
    "frame2 = fig.add_axes((0.2, 0.15, 0.75, 0.2))\n",
    "\n",
    "plt.errorbar(SGA_MaNGA['V_0p33R26'], SGA_MaNGA['V_0p33R26'] - SGA_MaNGA['Vfit_0p33R26'], \n",
    "             xerr=SGA_MaNGA['V_0p33R26_ERR'], \n",
    "             yerr=np.sqrt(SGA_MaNGA['V_0p33R26_ERR']**2 + SGA_MaNGA['Vfit_0p33R26_err']**2), \n",
    "             fmt='o', \n",
    "             ecolor='lightskyblue')\n",
    "plt.hlines(0, 0, 250, linestyles='dotted', colors='k')\n",
    "\n",
    "plt.xlim(0, 250)\n",
    "\n",
    "plt.xlabel('$V(0.33R_{26})$ [km/s] in DESI')\n",
    "plt.ylabel('$\\Delta V(0.33R_{26})$ [km/s]\\n (DESI - MaNGA fit)')\n",
    "\n",
    "#plt.savefig('../Figures/SV/fuji_MaNGA-V0p33_comparison.eps', dpi=300);"
   ]
  },
  {
   "cell_type": "markdown",
   "id": "f899b251-94bc-41cc-b717-38ba839f435e",
   "metadata": {},
   "source": [
    "#### Write plot data to file for DESI publication"
   ]
  },
  {
   "cell_type": "code",
   "execution_count": null,
   "id": "37dd189a-a0fb-49b3-ad60-65ffde919ae4",
   "metadata": {},
   "outputs": [],
   "source": [
    "plot_v033_fit = fits.Column(name='MaNGA_Vfit', array=SGA_MaNGA['Vfit_0p33R26'], format='E', unit='km/s')\n",
    "plot_v033_fit_sigma = fits.Column(name='MaNGA_Vfit_err', array=SGA_MaNGA['Vfit_0p33R26_err'], format='E', unit='km/s')"
   ]
  },
  {
   "cell_type": "code",
   "execution_count": null,
   "id": "202c465f-f4d1-4d82-8164-8d0c3f10ccab",
   "metadata": {},
   "outputs": [],
   "source": [
    "plot_table = fits.BinTableHDU.from_columns([plot_v033, plot_v033_sigma, plot_v033_fit, plot_v033_fit_sigma, plot_vmax, plot_vmax_sigma])\n",
    "\n",
    "if not os.path.exists('publication_data'):\n",
    "    os.path.makedirs('publication_data')\n",
    "\n",
    "plot_table.writeto('publication_data/figs10-11.fits', overwrite=True)"
   ]
  },
  {
   "cell_type": "markdown",
   "id": "9df07b32-975b-4eee-94e2-2c01b1207c68",
   "metadata": {},
   "source": [
    "### Pull distribution"
   ]
  },
  {
   "cell_type": "code",
   "execution_count": null,
   "id": "39af7a92-eb34-46dd-8661-55ce4ae3bead",
   "metadata": {},
   "outputs": [],
   "source": [
    "diff_norm = (SGA_MaNGA['V_0p33R26'] - SGA_MaNGA['Vfit_0p33R26'])/np.sqrt(SGA_MaNGA['V_0p33R26_ERR']**2 + SGA_MaNGA['Vfit_0p33R26_err']**2)\n",
    "\n",
    "avg = np.nanmean(diff_norm)\n",
    "\n",
    "std_dev = np.nanstd(diff_norm)\n",
    "\n",
    "print(avg, std_dev)"
   ]
  },
  {
   "cell_type": "code",
   "execution_count": null,
   "id": "2d7bc34e-0173-4ff4-879f-210a0740794e",
   "metadata": {},
   "outputs": [],
   "source": [
    "# Segev: Normalize Gaussian by area under the curve (to figure out what the amplitude should be)\n",
    "# The area is equal to the number of galaxies, so \n",
    "area = np.sum(np.isfinite(SGA_MaNGA['Vmax_map']) & np.isfinite(SGA_MaNGA['V_0p33R26']))\n",
    "\n",
    "#amplitude = area/(std_dev*np.sqrt(2*np.pi))\n",
    "# scipy.stats.norm.pdf is already normalized by sigma and the sqrt of 2pi, so we just need to scale it by the area."
   ]
  },
  {
   "cell_type": "code",
   "execution_count": null,
   "id": "ffbcb232-893e-4dc3-8284-56b08169e2da",
   "metadata": {},
   "outputs": [],
   "source": [
    "plt.figure(tight_layout=True)\n",
    "\n",
    "plt.hist(diff_norm, \n",
    "         #bins=np.arange(-400, 100, 50), \n",
    "         bins=np.arange(-7, 9, 1), \n",
    "         #density=True\n",
    "        )\n",
    "\n",
    "x = np.arange(-9, 9, 0.1)\n",
    "plt.plot(x, area*stats.norm.pdf(x, avg, std_dev))\n",
    "\n",
    "plt.annotate('$\\mu$ = {0:.2f}\\n$\\sigma$ = {1:.2f}'.format(avg, std_dev), \n",
    "             (6, 14))\n",
    "\n",
    "plt.xlim((-9, 9))\n",
    "\n",
    "#plt.xlabel('$\\Delta V(0.33R_{26})$ [km/s] (DESI - MaNGA fit)')\n",
    "plt.xlabel('$\\Delta V(0.33R_{26})/\\sigma$ (DESI - MaNGA fit)')\n",
    "plt.ylabel('Number of galaxies');\n",
    "\n",
    "#plt.savefig('../Figures/SV/fuji_MaNGA_V0p33_pull.png', dpi=300);"
   ]
  },
  {
   "cell_type": "markdown",
   "id": "5456b583-8789-4fa6-a900-2864a3479ebd",
   "metadata": {},
   "source": [
    "# Compare DESI's observed rotational velocities at $0.33R_{26}$ with the velocity observed in MaNGA\n",
    "\n",
    "To do this, we need to extract the observed redshifts at the center and at the location of the fiber from the MaNGA H$\\alpha$ maps."
   ]
  },
  {
   "cell_type": "code",
   "execution_count": null,
   "id": "f7787254-8889-4b72-a947-2c272fbe4fef",
   "metadata": {},
   "outputs": [],
   "source": [
    "MANGA_FOLDER = '/global/cfs/cdirs/sdss/data/sdss/dr16/manga/spectro/'\n",
    "VEL_MAP_FOLDER = MANGA_FOLDER + 'analysis/v2_4_3/2.2.1/HYB10-GAU-MILESHC/'\n",
    "\n",
    "hdul = fits.open(VEL_MAP_FOLDER + '7443/12705/manga-7443-12705-MAPS-HYB10-GAU-MILESHC.fits.gz')\n",
    "vel = hdul['EMLINE_GVEL']\n",
    "#hdul.close()"
   ]
  },
  {
   "cell_type": "code",
   "execution_count": null,
   "id": "dba41209-63d2-4967-b5d3-54edc4ee0745",
   "metadata": {},
   "outputs": [],
   "source": [
    "axis_0p3_good['V_MaNGA'] = np.nan\n",
    "axis_0p3_good['V_MaNGA_IVAR'] = np.nan\n",
    "\n",
    "for i in range(len(axis_0p3_good)):\n",
    "    \n",
    "    gal_row = SGA_MaNGA['sga_id'] == axis_0p3_good['SGA_ID'][i]\n",
    "    \n",
    "    if np.sum(gal_row) > 0:\n",
    "        \n",
    "        # Find galaxy's MaNGA plate-IFU\n",
    "        gal_plate = SGA_MaNGA['MaNGA_plate'][gal_row][0]\n",
    "        gal_IFU = SGA_MaNGA['MaNGA_IFU'][gal_row][0]\n",
    "\n",
    "\n",
    "        ##################################################################################\n",
    "        # Import data file\n",
    "        #---------------------------------------------------------------------------------\n",
    "        file_name = str(gal_plate) + '/' + str(gal_IFU) + '/manga-' + str(gal_plate) + '-' + str(gal_IFU) + '-MAPS-HYB10-GAU-MILESHC.fits.gz'\n",
    "\n",
    "        if os.path.isfile(VEL_MAP_FOLDER + file_name):\n",
    "            hdul = fits.open(VEL_MAP_FOLDER + file_name)\n",
    "            cz = hdul['PRIMARY'].header['SCINPVEL']\n",
    "            vel = hdul['EMLINE_GVEL']\n",
    "\n",
    "            Ha_vel = vel.data[18] + cz\n",
    "            Ha_ivar = hdul['EMLINE_GVEL_IVAR'].data[18]\n",
    "            Ha_mask = hdul['EMLINE_GVEL_MASK'].data[18]\n",
    "\n",
    "            mHa_vel = ma.array(Ha_vel, mask=Ha_mask)\n",
    "            mHa_ivar = ma.array(Ha_ivar, mask=Ha_mask)\n",
    "            ##################################################################################\n",
    "\n",
    "            gal_wcs = wcs.WCS(vel.header)\n",
    "            '''\n",
    "            ##################################################################################\n",
    "            plt.figure()\n",
    "\n",
    "            ax = plt.subplot(projection=gal_wcs, slices=('x', 'y', 18))\n",
    "            vel_im = ax.imshow(mHa_vel, cmap='RdBu_r', origin='lower')\n",
    "\n",
    "            plt.plot(axis_0p3_good['RA'][i], axis_0p3_good['DEC'][i], 'gx', transform=ax.get_transform('world'))\n",
    "\n",
    "            plt.colorbar(vel_im, ax=ax)\n",
    "            ##################################################################################\n",
    "            ''';\n",
    "            # Convert DESI observed coordinates to pixel coordinates\n",
    "            pix_coords = gal_wcs.wcs_world2pix(np.array([[axis_0p3_good['RA'][i], axis_0p3_good['DEC'][i], 18]]), 0)\n",
    "\n",
    "            #print(axis_0p3_good['RA'][i], axis_0p3_good['DEC'][i])\n",
    "            #print(pix_coords, pix_coords[0][:2], pix_coords[0][:2].astype(int))\n",
    "\n",
    "            # Extract observed velocity at that location\n",
    "            cz_manga = mHa_vel[pix_coords[0][0].astype(int), pix_coords[0][1].astype(int)]\n",
    "            cz_manga_ivar = mHa_ivar[pix_coords[0][0].astype(int), pix_coords[0][1].astype(int)]\n",
    "\n",
    "            #print(cz_manga)\n",
    "\n",
    "            # Save this measured velocity\n",
    "            axis_0p3_good['V_MaNGA'][i] = cz_manga\n",
    "            axis_0p3_good['V_MaNGA_IVAR'][i] = cz_manga_ivar\n",
    "            '''\n",
    "            ##################################################################################\n",
    "            plt.figure()\n",
    "\n",
    "            plt.imshow(mHa_vel, cmap='RdBu_r', origin='lower')\n",
    "            plt.plot(pix_coords[0][0], pix_coords[0][1], 'gx')\n",
    "            ##################################################################################\n",
    "\n",
    "            break\n",
    "            ''';"
   ]
  },
  {
   "cell_type": "code",
   "execution_count": null,
   "id": "bdbcb9d1-69da-4901-aa75-c875b518b95f",
   "metadata": {},
   "outputs": [],
   "source": [
    "good_centers['V_MaNGA'] = np.nan\n",
    "good_centers['V_MaNGA_IVAR'] = np.nan\n",
    "\n",
    "for i in range(len(good_centers)):\n",
    "    \n",
    "    gal_row = SGA_MaNGA['sga_id'] == good_centers['SGA_ID'][i]\n",
    "    \n",
    "    if np.sum(gal_row) > 0:\n",
    "        \n",
    "        # Find galaxy's MaNGA plate-IFU\n",
    "        gal_plate = SGA_MaNGA['MaNGA_plate'][gal_row][0]\n",
    "        gal_IFU = SGA_MaNGA['MaNGA_IFU'][gal_row][0]\n",
    "\n",
    "        ##################################################################################\n",
    "        # Import data file\n",
    "        #---------------------------------------------------------------------------------\n",
    "        file_name = str(gal_plate) + '/' + str(gal_IFU) + '/manga-' + str(gal_plate) + '-' + str(gal_IFU) + '-MAPS-HYB10-GAU-MILESHC.fits.gz'\n",
    "\n",
    "        if os.path.isfile(VEL_MAP_FOLDER + file_name):\n",
    "            hdul = fits.open(VEL_MAP_FOLDER + file_name)\n",
    "            cz = hdul['PRIMARY'].header['SCINPVEL']\n",
    "            vel = hdul['EMLINE_GVEL']\n",
    "\n",
    "            Ha_vel = vel.data[18] + cz\n",
    "            Ha_ivar = hdul['EMLINE_GVEL_IVAR'].data[18]\n",
    "            Ha_mask = hdul['EMLINE_GVEL_MASK'].data[18]\n",
    "\n",
    "            mHa_vel = ma.array(Ha_vel, mask=Ha_mask)\n",
    "            mHa_ivar = ma.array(Ha_ivar, mask=Ha_mask)\n",
    "            ##################################################################################\n",
    "\n",
    "            gal_wcs = wcs.WCS(vel.header)\n",
    "            \n",
    "            # Convert DESI observed coordinates to pixel coordinates\n",
    "            pix_coords = gal_wcs.wcs_world2pix(np.array([[good_centers['RA'][i], \n",
    "                                                          good_centers['DEC'][i], \n",
    "                                                          18]]), \n",
    "                                               0)\n",
    "\n",
    "            # Extract observed velocity at that location\n",
    "            cz_manga = mHa_vel[pix_coords[0][0].astype(int), pix_coords[0][1].astype(int)]\n",
    "            cz_manga_ivar = mHa_ivar[pix_coords[0][0].astype(int), pix_coords[0][1].astype(int)]\n",
    "\n",
    "            #print(cz_manga)\n",
    "\n",
    "            # Save this measured velocity\n",
    "            good_centers['V_MaNGA'][i] = cz_manga\n",
    "            good_centers['V_MaNGA_IVAR'][i] = cz_manga_ivar"
   ]
  },
  {
   "cell_type": "code",
   "execution_count": null,
   "id": "a121f1b5-8f5a-45ea-aded-6086f5dcdc5e",
   "metadata": {},
   "outputs": [],
   "source": [
    "axis_0p3_good['V_ROT_MaNGA'] = np.nan\n",
    "axis_0p3_good['V_ROT_MaNGA_ERR'] = np.nan\n",
    "\n",
    "\n",
    "# For each SGA galaxy that has at least one center observation, calculate the \n",
    "# distance for all of that galaxy's targets\n",
    "for sga_gal in np.unique(good_centers['SGA_ID']):\n",
    "    \n",
    "    # Identify all galaxy targets on this galaxy\n",
    "    obs_idx = axis_0p3_good['SGA_ID'] == sga_gal\n",
    "    center_idx = good_centers['SGA_ID'] == sga_gal\n",
    "    \n",
    "    # Find galaxy index in SGA catalog\n",
    "    sga_idx = SGA_dict[sga_gal]\n",
    "    \n",
    "    \n",
    "    #---------------------------------------------------------------------------\n",
    "    # Calculate rotational velocity\n",
    "    #---------------------------------------------------------------------------\n",
    "    # Use the average redshift of all center observations for the systemic velocity\n",
    "    cz_center = np.mean(good_centers['V_MaNGA'][center_idx])\n",
    "    cz_err_center2 = np.sum(1./good_centers['V_MaNGA_IVAR'][center_idx])/np.sum(center_idx)**2\n",
    "\n",
    "    # Calculate rotational velocity for all observations of the galaxy\n",
    "    axis_0p3_good['V_ROT_MaNGA'][obs_idx] = axis_0p3_good['V_MaNGA'][obs_idx] - cz_center\n",
    "    axis_0p3_good['V_ROT_MaNGA_ERR'][obs_idx] = np.sqrt(1./axis_0p3_good['V_MaNGA_IVAR'][obs_idx] + cz_err_center2)\n",
    "    #---------------------------------------------------------------------------\n",
    "    \n",
    "    \n",
    "    #---------------------------------------------------------------------------\n",
    "    # Correct rotational velocities for inclination angle\n",
    "    #---------------------------------------------------------------------------\n",
    "    cosi2 = (SGA['BA'][sga_idx]**2 - q0**2)/(1 - q0**2)\n",
    "    \n",
    "    # Galaxies with b/a < q0\n",
    "    if cosi2 < 0:\n",
    "        cosi2 = 0\n",
    "    \n",
    "    axis_0p3_good['V_ROT_MaNGA'][obs_idx] /= np.sin(np.arccos(np.sqrt(cosi2)))\n",
    "    #---------------------------------------------------------------------------"
   ]
  },
  {
   "cell_type": "code",
   "execution_count": null,
   "id": "acddcb2f-80c9-496d-bde6-004fbb7f353e",
   "metadata": {},
   "outputs": [],
   "source": [
    "fig = plt.figure()\n",
    "\n",
    "frame1 = fig.add_axes((0.2, 0.35, 0.75, 0.6))\n",
    "\n",
    "plt.errorbar(axis_0p3_good['V_ROT'], axis_0p3_good['V_ROT_MaNGA'], \n",
    "             yerr=axis_0p3_good['V_ROT_MaNGA_ERR'], \n",
    "             xerr=axis_0p3_good['V_ROT_ERR'], \n",
    "             fmt='o', \n",
    "             ecolor='lightskyblue')\n",
    "plt.plot([0, 1000], [0, 1000], 'k:')\n",
    "\n",
    "plt.ylim(-150, 200)\n",
    "plt.xlim(0, 250)\n",
    "\n",
    "plt.ylabel('MaNGA IFU')\n",
    "\n",
    "plt.title('$V(0.33R_{26})$ [km/s]')\n",
    "\n",
    "frame1.axes.get_xaxis().set_visible(False)\n",
    "\n",
    "\n",
    "frame2 = fig.add_axes((0.2, 0.15, 0.75, 0.2))\n",
    "\n",
    "plt.errorbar(axis_0p3_good['V_ROT'], axis_0p3_good['V_ROT'] - axis_0p3_good['V_ROT_MaNGA'], \n",
    "             xerr=axis_0p3_good['V_ROT_ERR'], \n",
    "             yerr=np.sqrt(axis_0p3_good['V_ROT_ERR']**2 + axis_0p3_good['V_ROT_MaNGA_ERR']**2), \n",
    "             fmt='o', \n",
    "             ecolor='lightskyblue')\n",
    "plt.hlines(0, 0, 250, linestyles='dotted', colors='k')\n",
    "\n",
    "plt.xlim(0, 250)\n",
    "plt.ylim(-150, 300)\n",
    "\n",
    "plt.xlabel('DESI')\n",
    "plt.ylabel('$\\Delta V$ [km/s]\\n (DESI - MaNGA)');"
   ]
  },
  {
   "cell_type": "code",
   "execution_count": null,
   "id": "f83a35dc-9afd-4bb6-99e3-2462d4fb0541",
   "metadata": {},
   "outputs": [],
   "source": [
    "plt.figure(tight_layout=True)\n",
    "\n",
    "plt.hist((axis_0p3_good['V_ROT'] - axis_0p3_good['V_ROT_MaNGA'])/np.sqrt(axis_0p3_good['V_ROT_ERR']**2 + axis_0p3_good['V_ROT_MaNGA_ERR']**2), \n",
    "         #bins=np.arange(-400, 100, 50), \n",
    "         bins=np.arange(-160, 150, 10)\n",
    "        )\n",
    "\n",
    "#plt.xlabel('$\\Delta V(0.33R_{26})$ [km/s] (DESI - MaNGA fit)')\n",
    "plt.xlabel('$\\Delta V(0.33R_{26})/\\sigma$ (DESI - MaNGA)')\n",
    "plt.ylabel('Number of galaxies');"
   ]
  },
  {
   "cell_type": "code",
   "execution_count": null,
   "id": "d20bb813-b2b7-430a-b206-7062c6cb0fae",
   "metadata": {},
   "outputs": [],
   "source": []
  }
 ],
 "metadata": {
  "kernelspec": {
   "display_name": "DESI master",
   "language": "python",
   "name": "desi-master"
  },
  "language_info": {
   "codemirror_mode": {
    "name": "ipython",
    "version": 3
   },
   "file_extension": ".py",
   "mimetype": "text/x-python",
   "name": "python",
   "nbconvert_exporter": "python",
   "pygments_lexer": "ipython3",
   "version": "3.10.8"
  }
 },
 "nbformat": 4,
 "nbformat_minor": 5
}
