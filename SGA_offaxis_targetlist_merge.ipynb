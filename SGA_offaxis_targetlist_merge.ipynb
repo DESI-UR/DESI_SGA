{
 "cells": [
  {
   "cell_type": "code",
   "execution_count": 1,
   "metadata": {},
   "outputs": [],
   "source": [
    "import json"
   ]
  },
  {
   "cell_type": "code",
   "execution_count": 3,
   "metadata": {},
   "outputs": [],
   "source": [
    "pix_scale = 0.25 # arcsec/pixel\n",
    "pix_scale_arcmin = pix_scale/60\n",
    "\n",
    "fiber_diameter = 1.52 # arcsec\n",
    "fiber_diameter_pixels = fiber_diameter/pix_scale"
   ]
  },
  {
   "cell_type": "code",
   "execution_count": 17,
   "metadata": {},
   "outputs": [],
   "source": [
    "def merge_files(filename1, filename2, list_number):\n",
    "    \n",
    "    file1 = open(filename1, 'r')\n",
    "    file1_list = json.load(file1)\n",
    "    file1.close()\n",
    "    \n",
    "    file2 = open(filename2, 'r')\n",
    "    file2_list = json.load(file2)\n",
    "    file2.close()\n",
    "    \n",
    "    for gal in file2_list:\n",
    "    \n",
    "        file1_targets = file1_list[gal]\n",
    "        file2_targets = file2_list[gal]\n",
    "\n",
    "        for i in range(len(file1_targets)):\n",
    "\n",
    "            for j in range(len(file2_targets)):\n",
    "\n",
    "                dist = (file1_targets[i][0] - file2_targets[j][0])**2 + (file1_targets[i][1] - file2_targets[j][1])**2\n",
    "\n",
    "                same = dist <= fiber_diameter_pixels**2\n",
    "\n",
    "                if ~same:\n",
    "                    # Add target to main list\n",
    "                    file2_list[gal].append(file1_targets[i])\n",
    "                    break\n",
    "                    \n",
    "    output = open('../target_files/SGA_off-axis_targets_' + str(list_number) + '.txt', 'w')\n",
    "    json.dump(file2_list, output)\n",
    "    output.close()"
   ]
  },
  {
   "cell_type": "markdown",
   "metadata": {},
   "source": [
    "# File 5"
   ]
  },
  {
   "cell_type": "code",
   "execution_count": 18,
   "metadata": {},
   "outputs": [],
   "source": [
    "merge_files('../target_files/SGA_off-axis_targets_5_CMH.txt', \n",
    "            '../target_files/SGA_off-axis_targets_5_KAD.txt', \n",
    "            5)"
   ]
  },
  {
   "cell_type": "markdown",
   "metadata": {},
   "source": [
    "# File 9"
   ]
  },
  {
   "cell_type": "code",
   "execution_count": 20,
   "metadata": {},
   "outputs": [],
   "source": [
    "merge_files('../target_files/SGA_off-axis_targets_9_AGK.txt', \n",
    "            '../target_files/SGA_off-axis_targets_9_ARW.txt', \n",
    "            9)"
   ]
  },
  {
   "cell_type": "markdown",
   "metadata": {},
   "source": [
    "# File 12"
   ]
  },
  {
   "cell_type": "code",
   "execution_count": 24,
   "metadata": {},
   "outputs": [],
   "source": [
    "file1 = open('../target_files/SGA_off-axis_targets_12_part1.txt', 'r')\n",
    "file1_list = json.load(file1)\n",
    "file1.close()\n",
    "\n",
    "file2 = open('../target_files/SGA_off-axis_targets_12_part2.txt', 'r')\n",
    "file2_list = json.load(file2)\n",
    "file2.close()"
   ]
  },
  {
   "cell_type": "code",
   "execution_count": 25,
   "metadata": {},
   "outputs": [],
   "source": [
    "for gal in file1_list:\n",
    "    \n",
    "    file1_list[gal].append(file2_list[gal])"
   ]
  },
  {
   "cell_type": "code",
   "execution_count": 26,
   "metadata": {},
   "outputs": [],
   "source": [
    "combined_file = open('../target_files/SGA_off-axis_targets_12.txt', 'w')\n",
    "json.dump(file1_list, combined_file)\n",
    "combined_file.close()"
   ]
  },
  {
   "cell_type": "code",
   "execution_count": null,
   "metadata": {},
   "outputs": [],
   "source": []
  }
 ],
 "metadata": {
  "kernelspec": {
   "display_name": "Python 3 (ipykernel)",
   "language": "python",
   "name": "python3"
  },
  "language_info": {
   "codemirror_mode": {
    "name": "ipython",
    "version": 3
   },
   "file_extension": ".py",
   "mimetype": "text/x-python",
   "name": "python",
   "nbconvert_exporter": "python",
   "pygments_lexer": "ipython3",
   "version": "3.8.10"
  }
 },
 "nbformat": 4,
 "nbformat_minor": 4
}
